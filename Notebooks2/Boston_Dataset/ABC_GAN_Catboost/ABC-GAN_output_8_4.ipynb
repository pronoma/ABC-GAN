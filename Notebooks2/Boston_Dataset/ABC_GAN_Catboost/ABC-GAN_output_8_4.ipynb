{
 "cells": [
  {
   "cell_type": "markdown",
   "id": "622780e6",
   "metadata": {
    "id": "622780e6",
    "papermill": {
     "duration": 0.03565,
     "end_time": "2022-06-12T06:58:42.686091",
     "exception": false,
     "start_time": "2022-06-12T06:58:42.650441",
     "status": "completed"
    },
    "tags": []
   },
   "source": [
    "## Import Libraries "
   ]
  },
  {
   "cell_type": "code",
   "execution_count": 1,
   "id": "a62397e3",
   "metadata": {
    "execution": {
     "iopub.execute_input": "2022-06-12T06:58:42.722383Z",
     "iopub.status.busy": "2022-06-12T06:58:42.721807Z",
     "iopub.status.idle": "2022-06-12T06:58:42.724111Z",
     "shell.execute_reply": "2022-06-12T06:58:42.724456Z"
    },
    "id": "a62397e3",
    "papermill": {
     "duration": 0.021977,
     "end_time": "2022-06-12T06:58:42.724671",
     "exception": false,
     "start_time": "2022-06-12T06:58:42.702694",
     "status": "completed"
    },
    "tags": []
   },
   "outputs": [],
   "source": [
    "import warnings\n",
    "import sys\n",
    "sys.path.insert(0, '../../src')\n",
    "warnings.filterwarnings('ignore')"
   ]
  },
  {
   "cell_type": "code",
   "execution_count": 2,
   "id": "d6a4e155",
   "metadata": {
    "execution": {
     "iopub.execute_input": "2022-06-12T06:58:42.744951Z",
     "iopub.status.busy": "2022-06-12T06:58:42.744517Z",
     "iopub.status.idle": "2022-06-12T06:58:44.500409Z",
     "shell.execute_reply": "2022-06-12T06:58:44.500672Z"
    },
    "id": "d6a4e155",
    "papermill": {
     "duration": 1.766684,
     "end_time": "2022-06-12T06:58:44.500799",
     "exception": false,
     "start_time": "2022-06-12T06:58:42.734115",
     "status": "completed"
    },
    "tags": []
   },
   "outputs": [],
   "source": [
    "import ABC_train_test2\n",
    "import bostonDataset\n",
    "import network\n",
    "import dataset\n",
    "import sanityChecks\n",
    "import torch \n",
    "import scrapbook as sb\n",
    "from statistics import mean \n",
    "import catboost as ctb \n",
    "from sklearn.model_selection import train_test_split\n",
    "from sklearn.metrics import mean_squared_error,mean_absolute_error\n",
    "import numpy as np"
   ]
  },
  {
   "cell_type": "markdown",
   "id": "2fa5b0f7",
   "metadata": {
    "id": "2fa5b0f7",
    "papermill": {
     "duration": 0.006845,
     "end_time": "2022-06-12T06:58:44.514893",
     "exception": false,
     "start_time": "2022-06-12T06:58:44.508048",
     "status": "completed"
    },
    "tags": []
   },
   "source": [
    "## Parameters "
   ]
  },
  {
   "cell_type": "code",
   "execution_count": 3,
   "id": "783186fb",
   "metadata": {
    "execution": {
     "iopub.execute_input": "2022-06-12T06:58:44.530673Z",
     "iopub.status.busy": "2022-06-12T06:58:44.530303Z",
     "iopub.status.idle": "2022-06-12T06:58:44.531549Z",
     "shell.execute_reply": "2022-06-12T06:58:44.531804Z"
    },
    "id": "783186fb",
    "papermill": {
     "duration": 0.010228,
     "end_time": "2022-06-12T06:58:44.531914",
     "exception": false,
     "start_time": "2022-06-12T06:58:44.521686",
     "status": "completed"
    },
    "tags": [
     "parameters"
    ]
   },
   "outputs": [],
   "source": [
    "variance = 1\n",
    "bias = 1 "
   ]
  },
  {
   "cell_type": "code",
   "execution_count": 4,
   "id": "6246e65e",
   "metadata": {
    "execution": {
     "iopub.execute_input": "2022-06-12T06:58:44.547502Z",
     "iopub.status.busy": "2022-06-12T06:58:44.547147Z",
     "iopub.status.idle": "2022-06-12T06:58:44.548352Z",
     "shell.execute_reply": "2022-06-12T06:58:44.548646Z"
    },
    "papermill": {
     "duration": 0.009872,
     "end_time": "2022-06-12T06:58:44.548752",
     "exception": false,
     "start_time": "2022-06-12T06:58:44.538880",
     "status": "completed"
    },
    "tags": [
     "injected-parameters"
    ]
   },
   "outputs": [],
   "source": [
    "# Parameters\n",
    "variance = 0.1\n",
    "bias = 0.1\n"
   ]
  },
  {
   "cell_type": "markdown",
   "id": "391cdbfd",
   "metadata": {
    "id": "391cdbfd",
    "papermill": {
     "duration": 0.006813,
     "end_time": "2022-06-12T06:58:44.562552",
     "exception": false,
     "start_time": "2022-06-12T06:58:44.555739",
     "status": "completed"
    },
    "tags": []
   },
   "source": [
    "## Dataset \n"
   ]
  },
  {
   "cell_type": "code",
   "execution_count": 5,
   "id": "5b51f161",
   "metadata": {
    "execution": {
     "iopub.execute_input": "2022-06-12T06:58:44.578191Z",
     "iopub.status.busy": "2022-06-12T06:58:44.577820Z",
     "iopub.status.idle": "2022-06-12T06:58:44.579140Z",
     "shell.execute_reply": "2022-06-12T06:58:44.579383Z"
    },
    "id": "5b51f161",
    "papermill": {
     "duration": 0.010053,
     "end_time": "2022-06-12T06:58:44.579488",
     "exception": false,
     "start_time": "2022-06-12T06:58:44.569435",
     "status": "completed"
    },
    "tags": []
   },
   "outputs": [],
   "source": [
    "#Parameters \n",
    "n_features = 13\n",
    "n_samples= 506\n",
    "n_target = 1 "
   ]
  },
  {
   "cell_type": "code",
   "execution_count": 6,
   "id": "5d6eced4",
   "metadata": {
    "execution": {
     "iopub.execute_input": "2022-06-12T06:58:44.595322Z",
     "iopub.status.busy": "2022-06-12T06:58:44.594953Z",
     "iopub.status.idle": "2022-06-12T06:58:44.605596Z",
     "shell.execute_reply": "2022-06-12T06:58:44.605843Z"
    },
    "id": "5d6eced4",
    "papermill": {
     "duration": 0.019512,
     "end_time": "2022-06-12T06:58:44.605958",
     "exception": false,
     "start_time": "2022-06-12T06:58:44.586446",
     "status": "completed"
    },
    "tags": []
   },
   "outputs": [
    {
     "name": "stdout",
     "output_type": "stream",
     "text": [
      "         X1        X2        X3        X4        X5        X6        X7  \\\n",
      "0 -0.419782  0.284830 -1.287909 -0.272599 -0.144217  0.413672 -0.120013   \n",
      "1 -0.417339 -0.487722 -0.593381 -0.272599 -0.740262  0.194274  0.367166   \n",
      "2 -0.417342 -0.487722 -0.593381 -0.272599 -0.740262  1.282714 -0.265812   \n",
      "3 -0.416750 -0.487722 -1.306878 -0.272599 -0.835284  1.016303 -0.809889   \n",
      "4 -0.412482 -0.487722 -1.306878 -0.272599 -0.835284  1.228577 -0.511180   \n",
      "\n",
      "         X8        X9       X10       X11       X12       X13         Y  \n",
      "0  0.140214 -0.982843 -0.666608 -1.459000  0.441052 -1.075562  0.159686  \n",
      "1  0.557160 -0.867883 -0.987329 -0.303094  0.441052 -0.492439 -0.101524  \n",
      "2  0.557160 -0.867883 -0.987329 -0.303094  0.396427 -1.208727  1.324247  \n",
      "3  1.077737 -0.752922 -1.106115  0.113032  0.416163 -1.361517  1.182758  \n",
      "4  1.077737 -0.752922 -1.106115  0.113032  0.441052 -1.026501  1.487503  \n"
     ]
    }
   ],
   "source": [
    "X,Y = bostonDataset.boston_data()"
   ]
  },
  {
   "cell_type": "code",
   "execution_count": 7,
   "id": "fe007438",
   "metadata": {
    "execution": {
     "iopub.execute_input": "2022-06-12T06:58:44.623072Z",
     "iopub.status.busy": "2022-06-12T06:58:44.622633Z",
     "iopub.status.idle": "2022-06-12T06:58:44.624255Z",
     "shell.execute_reply": "2022-06-12T06:58:44.624493Z"
    },
    "id": "fe007438",
    "papermill": {
     "duration": 0.011274,
     "end_time": "2022-06-12T06:58:44.624600",
     "exception": false,
     "start_time": "2022-06-12T06:58:44.613326",
     "status": "completed"
    },
    "tags": []
   },
   "outputs": [],
   "source": [
    "#Train test split for dataset \n",
    "X_train,X_test,Y_train,Y_test = train_test_split(X,Y,test_size = 0.2)\n",
    "train_data = dataset.CustomDataset(X_train,Y_train)\n",
    "test_data = dataset.CustomDataset(X_test,Y_test)\n"
   ]
  },
  {
   "cell_type": "markdown",
   "id": "a9a1af34",
   "metadata": {
    "id": "a9a1af34",
    "papermill": {
     "duration": 0.00707,
     "end_time": "2022-06-12T06:58:44.638873",
     "exception": false,
     "start_time": "2022-06-12T06:58:44.631803",
     "status": "completed"
    },
    "tags": []
   },
   "source": [
    "## Training Parameters "
   ]
  },
  {
   "cell_type": "code",
   "execution_count": 8,
   "id": "952b7fc8",
   "metadata": {
    "execution": {
     "iopub.execute_input": "2022-06-12T06:58:44.655229Z",
     "iopub.status.busy": "2022-06-12T06:58:44.654860Z",
     "iopub.status.idle": "2022-06-12T06:58:44.656139Z",
     "shell.execute_reply": "2022-06-12T06:58:44.656368Z"
    },
    "id": "952b7fc8",
    "papermill": {
     "duration": 0.010517,
     "end_time": "2022-06-12T06:58:44.656472",
     "exception": false,
     "start_time": "2022-06-12T06:58:44.645955",
     "status": "completed"
    },
    "tags": []
   },
   "outputs": [],
   "source": [
    "batch_size = 32\n",
    "n_epochs = 1000\n",
    "#Select the device \n",
    "device = torch.device('cuda' if torch.cuda.is_available() else 'cpu')"
   ]
  },
  {
   "cell_type": "markdown",
   "id": "a95e1600",
   "metadata": {
    "id": "a95e1600",
    "papermill": {
     "duration": 0.007066,
     "end_time": "2022-06-12T06:58:44.670733",
     "exception": false,
     "start_time": "2022-06-12T06:58:44.663667",
     "status": "completed"
    },
    "tags": []
   },
   "source": [
    "# ABC Pre-generator Model \n",
    "\n",
    "1. The catboost model is used as a pre-generator model for the ABC-GAN. \n",
    "2. The model is first trained on the entire dataset \n",
    "3. It generats X,Y pairs and we add some Gaussian noise with mean 0 and variance 1 to it which is then feed as input to the generator.\n"
   ]
  },
  {
   "cell_type": "code",
   "execution_count": 9,
   "id": "ff8ce7bd",
   "metadata": {
    "execution": {
     "iopub.execute_input": "2022-06-12T06:58:44.689787Z",
     "iopub.status.busy": "2022-06-12T06:58:44.689399Z",
     "iopub.status.idle": "2022-06-12T06:58:45.651409Z",
     "shell.execute_reply": "2022-06-12T06:58:45.651640Z"
    },
    "id": "ff8ce7bd",
    "papermill": {
     "duration": 0.973866,
     "end_time": "2022-06-12T06:58:45.651762",
     "exception": false,
     "start_time": "2022-06-12T06:58:44.677896",
     "status": "completed"
    },
    "tags": []
   },
   "outputs": [
    {
     "name": "stdout",
     "output_type": "stream",
     "text": [
      "Learning rate set to 0.033215\n",
      "0:\tlearn: 0.9871427\ttotal: 58.6ms\tremaining: 58.5s\n",
      "1:\tlearn: 0.9673063\ttotal: 59.6ms\tremaining: 29.8s\n",
      "2:\tlearn: 0.9458673\ttotal: 60.6ms\tremaining: 20.1s\n",
      "3:\tlearn: 0.9288760\ttotal: 61.6ms\tremaining: 15.3s\n",
      "4:\tlearn: 0.9112297\ttotal: 62.7ms\tremaining: 12.5s\n",
      "5:\tlearn: 0.8939415\ttotal: 63.7ms\tremaining: 10.5s\n",
      "6:\tlearn: 0.8778096\ttotal: 64.7ms\tremaining: 9.17s\n",
      "7:\tlearn: 0.8614690\ttotal: 65.6ms\tremaining: 8.13s\n",
      "8:\tlearn: 0.8457869\ttotal: 66.5ms\tremaining: 7.32s\n",
      "9:\tlearn: 0.8296418\ttotal: 67.4ms\tremaining: 6.67s\n",
      "10:\tlearn: 0.8125982\ttotal: 68.3ms\tremaining: 6.14s\n",
      "11:\tlearn: 0.7982501\ttotal: 69ms\tremaining: 5.68s\n",
      "12:\tlearn: 0.7833941\ttotal: 69.7ms\tremaining: 5.29s\n",
      "13:\tlearn: 0.7687136\ttotal: 70.6ms\tremaining: 4.97s\n",
      "14:\tlearn: 0.7546969\ttotal: 71.3ms\tremaining: 4.68s\n",
      "15:\tlearn: 0.7391697\ttotal: 72.1ms\tremaining: 4.43s\n",
      "16:\tlearn: 0.7270297\ttotal: 73.5ms\tremaining: 4.25s\n",
      "17:\tlearn: 0.7146743\ttotal: 74.3ms\tremaining: 4.05s\n",
      "18:\tlearn: 0.7025472\ttotal: 75.1ms\tremaining: 3.88s\n",
      "19:\tlearn: 0.6899397\ttotal: 76ms\tremaining: 3.72s\n",
      "20:\tlearn: 0.6762524\ttotal: 76.8ms\tremaining: 3.58s\n",
      "21:\tlearn: 0.6660596\ttotal: 77.5ms\tremaining: 3.45s\n",
      "22:\tlearn: 0.6564385\ttotal: 78.2ms\tremaining: 3.32s\n",
      "23:\tlearn: 0.6458292\ttotal: 79.1ms\tremaining: 3.22s\n",
      "24:\tlearn: 0.6357098\ttotal: 79.9ms\tremaining: 3.11s\n",
      "25:\tlearn: 0.6266180\ttotal: 80.7ms\tremaining: 3.02s\n",
      "26:\tlearn: 0.6169804\ttotal: 81.5ms\tremaining: 2.94s\n",
      "27:\tlearn: 0.6083102\ttotal: 82.2ms\tremaining: 2.85s\n",
      "28:\tlearn: 0.5995948\ttotal: 83ms\tremaining: 2.78s\n",
      "29:\tlearn: 0.5893336\ttotal: 83.7ms\tremaining: 2.71s\n",
      "30:\tlearn: 0.5802593\ttotal: 84.4ms\tremaining: 2.64s\n",
      "31:\tlearn: 0.5720001\ttotal: 85.2ms\tremaining: 2.58s\n",
      "32:\tlearn: 0.5639799\ttotal: 86.1ms\tremaining: 2.52s\n",
      "33:\tlearn: 0.5565294\ttotal: 87ms\tremaining: 2.47s\n",
      "34:\tlearn: 0.5485977\ttotal: 87.9ms\tremaining: 2.42s\n",
      "35:\tlearn: 0.5417618\ttotal: 88.9ms\tremaining: 2.38s\n",
      "36:\tlearn: 0.5352232\ttotal: 89.8ms\tremaining: 2.34s\n",
      "37:\tlearn: 0.5276488\ttotal: 90.6ms\tremaining: 2.29s\n",
      "38:\tlearn: 0.5202958\ttotal: 91.4ms\tremaining: 2.25s\n",
      "39:\tlearn: 0.5131374\ttotal: 92.2ms\tremaining: 2.21s\n",
      "40:\tlearn: 0.5079186\ttotal: 93ms\tremaining: 2.17s\n",
      "41:\tlearn: 0.5006672\ttotal: 93.7ms\tremaining: 2.14s\n",
      "42:\tlearn: 0.4940550\ttotal: 94.6ms\tremaining: 2.11s\n",
      "43:\tlearn: 0.4892641\ttotal: 95.4ms\tremaining: 2.07s\n",
      "44:\tlearn: 0.4828304\ttotal: 96.3ms\tremaining: 2.04s\n",
      "45:\tlearn: 0.4775516\ttotal: 97.2ms\tremaining: 2.02s\n",
      "46:\tlearn: 0.4704036\ttotal: 98.1ms\tremaining: 1.99s\n",
      "47:\tlearn: 0.4644174\ttotal: 98.8ms\tremaining: 1.96s\n",
      "48:\tlearn: 0.4588588\ttotal: 99.7ms\tremaining: 1.93s\n",
      "49:\tlearn: 0.4538174\ttotal: 100ms\tremaining: 1.91s\n",
      "50:\tlearn: 0.4488877\ttotal: 101ms\tremaining: 1.89s\n",
      "51:\tlearn: 0.4447469\ttotal: 102ms\tremaining: 1.86s\n",
      "52:\tlearn: 0.4385996\ttotal: 103ms\tremaining: 1.84s\n",
      "53:\tlearn: 0.4346023\ttotal: 104ms\tremaining: 1.82s\n",
      "54:\tlearn: 0.4296342\ttotal: 105ms\tremaining: 1.8s\n",
      "55:\tlearn: 0.4254283\ttotal: 105ms\tremaining: 1.78s\n",
      "56:\tlearn: 0.4221704\ttotal: 106ms\tremaining: 1.76s\n",
      "57:\tlearn: 0.4175753\ttotal: 107ms\tremaining: 1.74s\n",
      "58:\tlearn: 0.4133803\ttotal: 108ms\tremaining: 1.72s\n"
     ]
    },
    {
     "name": "stdout",
     "output_type": "stream",
     "text": [
      "59:\tlearn: 0.4091775\ttotal: 109ms\tremaining: 1.71s\n",
      "60:\tlearn: 0.4055319\ttotal: 110ms\tremaining: 1.69s\n",
      "61:\tlearn: 0.4016074\ttotal: 111ms\tremaining: 1.68s\n",
      "62:\tlearn: 0.3985890\ttotal: 112ms\tremaining: 1.66s\n",
      "63:\tlearn: 0.3946652\ttotal: 112ms\tremaining: 1.64s\n",
      "64:\tlearn: 0.3907601\ttotal: 113ms\tremaining: 1.63s\n",
      "65:\tlearn: 0.3877952\ttotal: 114ms\tremaining: 1.61s\n",
      "66:\tlearn: 0.3842854\ttotal: 115ms\tremaining: 1.6s\n",
      "67:\tlearn: 0.3814809\ttotal: 116ms\tremaining: 1.58s\n",
      "68:\tlearn: 0.3786184\ttotal: 116ms\tremaining: 1.57s\n",
      "69:\tlearn: 0.3759310\ttotal: 117ms\tremaining: 1.56s\n",
      "70:\tlearn: 0.3721743\ttotal: 118ms\tremaining: 1.54s\n",
      "71:\tlearn: 0.3695330\ttotal: 119ms\tremaining: 1.53s\n",
      "72:\tlearn: 0.3671203\ttotal: 120ms\tremaining: 1.52s\n",
      "73:\tlearn: 0.3639259\ttotal: 121ms\tremaining: 1.51s\n",
      "74:\tlearn: 0.3607660\ttotal: 122ms\tremaining: 1.5s\n",
      "75:\tlearn: 0.3579217\ttotal: 122ms\tremaining: 1.49s\n",
      "76:\tlearn: 0.3554617\ttotal: 123ms\tremaining: 1.48s\n",
      "77:\tlearn: 0.3517356\ttotal: 124ms\tremaining: 1.46s\n",
      "78:\tlearn: 0.3495613\ttotal: 125ms\tremaining: 1.45s\n",
      "79:\tlearn: 0.3469853\ttotal: 125ms\tremaining: 1.44s\n",
      "80:\tlearn: 0.3446198\ttotal: 126ms\tremaining: 1.43s\n",
      "81:\tlearn: 0.3421844\ttotal: 127ms\tremaining: 1.42s\n",
      "82:\tlearn: 0.3399031\ttotal: 128ms\tremaining: 1.41s\n",
      "83:\tlearn: 0.3383732\ttotal: 129ms\tremaining: 1.4s\n",
      "84:\tlearn: 0.3363984\ttotal: 129ms\tremaining: 1.39s\n",
      "85:\tlearn: 0.3338098\ttotal: 130ms\tremaining: 1.38s\n",
      "86:\tlearn: 0.3316959\ttotal: 131ms\tremaining: 1.38s\n",
      "87:\tlearn: 0.3292450\ttotal: 132ms\tremaining: 1.37s\n",
      "88:\tlearn: 0.3263478\ttotal: 133ms\tremaining: 1.36s\n",
      "89:\tlearn: 0.3242241\ttotal: 134ms\tremaining: 1.36s\n",
      "90:\tlearn: 0.3225429\ttotal: 135ms\tremaining: 1.35s\n",
      "91:\tlearn: 0.3207422\ttotal: 136ms\tremaining: 1.34s\n",
      "92:\tlearn: 0.3192043\ttotal: 137ms\tremaining: 1.33s\n",
      "93:\tlearn: 0.3175442\ttotal: 137ms\tremaining: 1.32s\n",
      "94:\tlearn: 0.3153888\ttotal: 138ms\tremaining: 1.32s\n",
      "95:\tlearn: 0.3147333\ttotal: 139ms\tremaining: 1.31s\n",
      "96:\tlearn: 0.3131810\ttotal: 140ms\tremaining: 1.3s\n",
      "97:\tlearn: 0.3120426\ttotal: 141ms\tremaining: 1.29s\n",
      "98:\tlearn: 0.3103854\ttotal: 141ms\tremaining: 1.28s\n",
      "99:\tlearn: 0.3086080\ttotal: 142ms\tremaining: 1.28s\n",
      "100:\tlearn: 0.3073631\ttotal: 143ms\tremaining: 1.27s\n",
      "101:\tlearn: 0.3058026\ttotal: 143ms\tremaining: 1.26s\n",
      "102:\tlearn: 0.3045795\ttotal: 144ms\tremaining: 1.26s\n",
      "103:\tlearn: 0.3030842\ttotal: 145ms\tremaining: 1.25s\n",
      "104:\tlearn: 0.3019244\ttotal: 146ms\tremaining: 1.24s\n",
      "105:\tlearn: 0.3006581\ttotal: 147ms\tremaining: 1.24s\n",
      "106:\tlearn: 0.2986024\ttotal: 147ms\tremaining: 1.23s\n",
      "107:\tlearn: 0.2972083\ttotal: 148ms\tremaining: 1.23s\n",
      "108:\tlearn: 0.2959106\ttotal: 149ms\tremaining: 1.22s\n",
      "109:\tlearn: 0.2946082\ttotal: 150ms\tremaining: 1.21s\n",
      "110:\tlearn: 0.2936635\ttotal: 151ms\tremaining: 1.21s\n",
      "111:\tlearn: 0.2920068\ttotal: 152ms\tremaining: 1.2s\n",
      "112:\tlearn: 0.2911720\ttotal: 152ms\tremaining: 1.2s\n",
      "113:\tlearn: 0.2897797\ttotal: 153ms\tremaining: 1.19s\n",
      "114:\tlearn: 0.2883901\ttotal: 154ms\tremaining: 1.18s\n",
      "115:\tlearn: 0.2869017\ttotal: 155ms\tremaining: 1.18s\n",
      "116:\tlearn: 0.2859059\ttotal: 155ms\tremaining: 1.17s\n",
      "117:\tlearn: 0.2842964\ttotal: 156ms\tremaining: 1.17s\n",
      "118:\tlearn: 0.2833450\ttotal: 157ms\tremaining: 1.16s\n",
      "119:\tlearn: 0.2825698\ttotal: 158ms\tremaining: 1.16s\n",
      "120:\tlearn: 0.2815216\ttotal: 158ms\tremaining: 1.15s\n",
      "121:\tlearn: 0.2805866\ttotal: 159ms\tremaining: 1.15s\n",
      "122:\tlearn: 0.2796578\ttotal: 160ms\tremaining: 1.14s\n",
      "123:\tlearn: 0.2779280\ttotal: 161ms\tremaining: 1.14s\n",
      "124:\tlearn: 0.2764683\ttotal: 161ms\tremaining: 1.13s\n",
      "125:\tlearn: 0.2755682\ttotal: 162ms\tremaining: 1.13s\n",
      "126:\tlearn: 0.2747981\ttotal: 163ms\tremaining: 1.12s\n",
      "127:\tlearn: 0.2733704\ttotal: 164ms\tremaining: 1.12s\n",
      "128:\tlearn: 0.2725411\ttotal: 165ms\tremaining: 1.11s\n",
      "129:\tlearn: 0.2717612\ttotal: 166ms\tremaining: 1.11s\n",
      "130:\tlearn: 0.2708427\ttotal: 166ms\tremaining: 1.1s\n",
      "131:\tlearn: 0.2701224\ttotal: 167ms\tremaining: 1.1s\n",
      "132:\tlearn: 0.2692307\ttotal: 168ms\tremaining: 1.09s\n",
      "133:\tlearn: 0.2684489\ttotal: 169ms\tremaining: 1.09s\n",
      "134:\tlearn: 0.2679485\ttotal: 170ms\tremaining: 1.09s\n",
      "135:\tlearn: 0.2672195\ttotal: 171ms\tremaining: 1.08s\n",
      "136:\tlearn: 0.2662044\ttotal: 171ms\tremaining: 1.08s\n",
      "137:\tlearn: 0.2657354\ttotal: 172ms\tremaining: 1.07s\n",
      "138:\tlearn: 0.2652503\ttotal: 173ms\tremaining: 1.07s\n",
      "139:\tlearn: 0.2645907\ttotal: 174ms\tremaining: 1.07s\n",
      "140:\tlearn: 0.2637937\ttotal: 175ms\tremaining: 1.06s\n",
      "141:\tlearn: 0.2628215\ttotal: 175ms\tremaining: 1.06s\n",
      "142:\tlearn: 0.2619603\ttotal: 176ms\tremaining: 1.06s\n",
      "143:\tlearn: 0.2611808\ttotal: 177ms\tremaining: 1.05s\n",
      "144:\tlearn: 0.2596174\ttotal: 178ms\tremaining: 1.05s\n",
      "145:\tlearn: 0.2583835\ttotal: 179ms\tremaining: 1.05s\n",
      "146:\tlearn: 0.2577181\ttotal: 180ms\tremaining: 1.04s\n",
      "147:\tlearn: 0.2566669\ttotal: 180ms\tremaining: 1.04s\n",
      "148:\tlearn: 0.2560129\ttotal: 181ms\tremaining: 1.03s\n",
      "149:\tlearn: 0.2550610\ttotal: 182ms\tremaining: 1.03s\n",
      "150:\tlearn: 0.2542667\ttotal: 183ms\tremaining: 1.03s\n",
      "151:\tlearn: 0.2535957\ttotal: 184ms\tremaining: 1.02s\n",
      "152:\tlearn: 0.2529179\ttotal: 185ms\tremaining: 1.02s\n",
      "153:\tlearn: 0.2525485\ttotal: 186ms\tremaining: 1.02s\n",
      "154:\tlearn: 0.2517209\ttotal: 186ms\tremaining: 1.02s\n",
      "155:\tlearn: 0.2508009\ttotal: 187ms\tremaining: 1.01s\n",
      "156:\tlearn: 0.2499961\ttotal: 188ms\tremaining: 1.01s\n",
      "157:\tlearn: 0.2494144\ttotal: 189ms\tremaining: 1.01s\n",
      "158:\tlearn: 0.2488078\ttotal: 190ms\tremaining: 1s\n",
      "159:\tlearn: 0.2486732\ttotal: 190ms\tremaining: 999ms\n"
     ]
    },
    {
     "name": "stdout",
     "output_type": "stream",
     "text": [
      "160:\tlearn: 0.2476610\ttotal: 191ms\tremaining: 997ms\n",
      "161:\tlearn: 0.2471339\ttotal: 192ms\tremaining: 995ms\n",
      "162:\tlearn: 0.2468204\ttotal: 193ms\tremaining: 991ms\n",
      "163:\tlearn: 0.2460875\ttotal: 194ms\tremaining: 988ms\n",
      "164:\tlearn: 0.2457296\ttotal: 195ms\tremaining: 985ms\n",
      "165:\tlearn: 0.2449581\ttotal: 195ms\tremaining: 982ms\n",
      "166:\tlearn: 0.2443852\ttotal: 196ms\tremaining: 979ms\n",
      "167:\tlearn: 0.2437368\ttotal: 197ms\tremaining: 976ms\n",
      "168:\tlearn: 0.2432011\ttotal: 198ms\tremaining: 974ms\n",
      "169:\tlearn: 0.2427707\ttotal: 199ms\tremaining: 971ms\n",
      "170:\tlearn: 0.2420657\ttotal: 200ms\tremaining: 968ms\n",
      "171:\tlearn: 0.2412869\ttotal: 201ms\tremaining: 965ms\n",
      "172:\tlearn: 0.2405629\ttotal: 201ms\tremaining: 962ms\n",
      "173:\tlearn: 0.2399744\ttotal: 202ms\tremaining: 959ms\n",
      "174:\tlearn: 0.2393926\ttotal: 203ms\tremaining: 957ms\n",
      "175:\tlearn: 0.2387326\ttotal: 204ms\tremaining: 955ms\n",
      "176:\tlearn: 0.2382258\ttotal: 205ms\tremaining: 952ms\n",
      "177:\tlearn: 0.2378945\ttotal: 205ms\tremaining: 949ms\n",
      "178:\tlearn: 0.2375340\ttotal: 206ms\tremaining: 946ms\n",
      "179:\tlearn: 0.2369484\ttotal: 207ms\tremaining: 943ms\n",
      "180:\tlearn: 0.2362927\ttotal: 208ms\tremaining: 941ms\n",
      "181:\tlearn: 0.2356895\ttotal: 209ms\tremaining: 938ms\n",
      "182:\tlearn: 0.2351295\ttotal: 209ms\tremaining: 935ms\n",
      "183:\tlearn: 0.2341420\ttotal: 210ms\tremaining: 933ms\n",
      "184:\tlearn: 0.2334077\ttotal: 211ms\tremaining: 930ms\n",
      "185:\tlearn: 0.2324411\ttotal: 212ms\tremaining: 927ms\n",
      "186:\tlearn: 0.2322644\ttotal: 213ms\tremaining: 924ms\n",
      "187:\tlearn: 0.2314302\ttotal: 213ms\tremaining: 922ms\n",
      "188:\tlearn: 0.2305619\ttotal: 214ms\tremaining: 919ms\n",
      "189:\tlearn: 0.2300536\ttotal: 215ms\tremaining: 917ms\n",
      "190:\tlearn: 0.2293618\ttotal: 216ms\tremaining: 915ms\n",
      "191:\tlearn: 0.2287131\ttotal: 217ms\tremaining: 912ms\n",
      "192:\tlearn: 0.2282087\ttotal: 218ms\tremaining: 910ms\n",
      "193:\tlearn: 0.2277061\ttotal: 218ms\tremaining: 908ms\n",
      "194:\tlearn: 0.2271796\ttotal: 219ms\tremaining: 905ms\n",
      "195:\tlearn: 0.2267461\ttotal: 220ms\tremaining: 903ms\n",
      "196:\tlearn: 0.2262387\ttotal: 221ms\tremaining: 900ms\n",
      "197:\tlearn: 0.2256843\ttotal: 222ms\tremaining: 898ms\n",
      "198:\tlearn: 0.2254754\ttotal: 222ms\tremaining: 895ms\n",
      "199:\tlearn: 0.2248946\ttotal: 223ms\tremaining: 892ms\n",
      "200:\tlearn: 0.2244296\ttotal: 224ms\tremaining: 890ms\n",
      "201:\tlearn: 0.2239809\ttotal: 225ms\tremaining: 888ms\n",
      "202:\tlearn: 0.2234618\ttotal: 226ms\tremaining: 885ms\n",
      "203:\tlearn: 0.2229167\ttotal: 226ms\tremaining: 883ms\n",
      "204:\tlearn: 0.2226394\ttotal: 227ms\tremaining: 881ms\n",
      "205:\tlearn: 0.2220594\ttotal: 228ms\tremaining: 878ms\n",
      "206:\tlearn: 0.2216730\ttotal: 229ms\tremaining: 876ms\n",
      "207:\tlearn: 0.2212568\ttotal: 229ms\tremaining: 873ms\n",
      "208:\tlearn: 0.2211673\ttotal: 230ms\tremaining: 871ms\n",
      "209:\tlearn: 0.2206084\ttotal: 231ms\tremaining: 868ms\n",
      "210:\tlearn: 0.2199998\ttotal: 232ms\tremaining: 866ms\n",
      "211:\tlearn: 0.2195479\ttotal: 232ms\tremaining: 864ms\n",
      "212:\tlearn: 0.2190460\ttotal: 233ms\tremaining: 863ms\n",
      "213:\tlearn: 0.2184577\ttotal: 234ms\tremaining: 860ms\n",
      "214:\tlearn: 0.2178846\ttotal: 235ms\tremaining: 858ms\n",
      "215:\tlearn: 0.2174820\ttotal: 236ms\tremaining: 856ms\n",
      "216:\tlearn: 0.2171487\ttotal: 237ms\tremaining: 854ms\n",
      "217:\tlearn: 0.2168243\ttotal: 237ms\tremaining: 852ms\n",
      "218:\tlearn: 0.2164580\ttotal: 238ms\tremaining: 850ms\n",
      "219:\tlearn: 0.2162535\ttotal: 239ms\tremaining: 848ms\n",
      "220:\tlearn: 0.2157741\ttotal: 240ms\tremaining: 846ms\n",
      "221:\tlearn: 0.2154193\ttotal: 241ms\tremaining: 844ms\n",
      "222:\tlearn: 0.2150401\ttotal: 242ms\tremaining: 842ms\n",
      "223:\tlearn: 0.2144581\ttotal: 242ms\tremaining: 840ms\n",
      "224:\tlearn: 0.2139636\ttotal: 243ms\tremaining: 837ms\n",
      "225:\tlearn: 0.2135500\ttotal: 244ms\tremaining: 835ms\n",
      "226:\tlearn: 0.2131564\ttotal: 245ms\tremaining: 833ms\n",
      "227:\tlearn: 0.2124774\ttotal: 246ms\tremaining: 831ms\n",
      "228:\tlearn: 0.2120447\ttotal: 246ms\tremaining: 829ms\n",
      "229:\tlearn: 0.2117294\ttotal: 247ms\tremaining: 827ms\n",
      "230:\tlearn: 0.2114989\ttotal: 248ms\tremaining: 826ms\n",
      "231:\tlearn: 0.2112075\ttotal: 249ms\tremaining: 823ms\n",
      "232:\tlearn: 0.2104891\ttotal: 250ms\tremaining: 822ms\n",
      "233:\tlearn: 0.2101328\ttotal: 250ms\tremaining: 820ms\n",
      "234:\tlearn: 0.2098417\ttotal: 251ms\tremaining: 818ms\n",
      "235:\tlearn: 0.2094566\ttotal: 252ms\tremaining: 816ms\n",
      "236:\tlearn: 0.2089791\ttotal: 253ms\tremaining: 814ms\n",
      "237:\tlearn: 0.2086668\ttotal: 254ms\tremaining: 812ms\n",
      "238:\tlearn: 0.2082695\ttotal: 255ms\tremaining: 810ms\n",
      "239:\tlearn: 0.2076901\ttotal: 255ms\tremaining: 808ms\n",
      "240:\tlearn: 0.2070644\ttotal: 256ms\tremaining: 807ms\n",
      "241:\tlearn: 0.2065017\ttotal: 257ms\tremaining: 805ms\n",
      "242:\tlearn: 0.2058259\ttotal: 258ms\tremaining: 803ms\n",
      "243:\tlearn: 0.2054387\ttotal: 259ms\tremaining: 801ms\n",
      "244:\tlearn: 0.2051115\ttotal: 259ms\tremaining: 800ms\n",
      "245:\tlearn: 0.2047011\ttotal: 260ms\tremaining: 798ms\n",
      "246:\tlearn: 0.2042548\ttotal: 261ms\tremaining: 796ms\n",
      "247:\tlearn: 0.2038271\ttotal: 262ms\tremaining: 794ms\n",
      "248:\tlearn: 0.2034512\ttotal: 263ms\tremaining: 793ms\n",
      "249:\tlearn: 0.2026663\ttotal: 264ms\tremaining: 792ms\n",
      "250:\tlearn: 0.2023228\ttotal: 265ms\tremaining: 790ms\n",
      "251:\tlearn: 0.2020018\ttotal: 266ms\tremaining: 788ms\n",
      "252:\tlearn: 0.2016192\ttotal: 266ms\tremaining: 787ms\n",
      "253:\tlearn: 0.2012482\ttotal: 267ms\tremaining: 785ms\n",
      "254:\tlearn: 0.2008854\ttotal: 268ms\tremaining: 783ms\n",
      "255:\tlearn: 0.2005471\ttotal: 269ms\tremaining: 782ms\n",
      "256:\tlearn: 0.2004567\ttotal: 270ms\tremaining: 780ms\n",
      "257:\tlearn: 0.2003791\ttotal: 271ms\tremaining: 780ms\n",
      "258:\tlearn: 0.2003329\ttotal: 272ms\tremaining: 779ms\n",
      "259:\tlearn: 0.1999746\ttotal: 273ms\tremaining: 777ms\n",
      "260:\tlearn: 0.1994546\ttotal: 274ms\tremaining: 775ms\n",
      "261:\tlearn: 0.1991362\ttotal: 275ms\tremaining: 774ms\n",
      "262:\tlearn: 0.1989037\ttotal: 276ms\tremaining: 772ms\n",
      "263:\tlearn: 0.1986083\ttotal: 276ms\tremaining: 771ms\n",
      "264:\tlearn: 0.1981051\ttotal: 277ms\tremaining: 769ms\n",
      "265:\tlearn: 0.1977075\ttotal: 278ms\tremaining: 767ms\n",
      "266:\tlearn: 0.1973794\ttotal: 279ms\tremaining: 766ms\n",
      "267:\tlearn: 0.1970571\ttotal: 280ms\tremaining: 764ms\n",
      "268:\tlearn: 0.1964827\ttotal: 280ms\tremaining: 762ms\n",
      "269:\tlearn: 0.1961107\ttotal: 281ms\tremaining: 760ms\n",
      "270:\tlearn: 0.1960418\ttotal: 282ms\tremaining: 759ms\n",
      "271:\tlearn: 0.1956616\ttotal: 283ms\tremaining: 757ms\n",
      "272:\tlearn: 0.1951267\ttotal: 284ms\tremaining: 756ms\n",
      "273:\tlearn: 0.1950048\ttotal: 285ms\tremaining: 754ms\n",
      "274:\tlearn: 0.1943735\ttotal: 285ms\tremaining: 752ms\n",
      "275:\tlearn: 0.1936736\ttotal: 286ms\tremaining: 751ms\n",
      "276:\tlearn: 0.1932330\ttotal: 287ms\tremaining: 749ms\n",
      "277:\tlearn: 0.1931721\ttotal: 288ms\tremaining: 747ms\n",
      "278:\tlearn: 0.1930502\ttotal: 288ms\tremaining: 745ms\n",
      "279:\tlearn: 0.1927465\ttotal: 289ms\tremaining: 744ms\n",
      "280:\tlearn: 0.1923272\ttotal: 290ms\tremaining: 742ms\n",
      "281:\tlearn: 0.1916541\ttotal: 291ms\tremaining: 741ms\n",
      "282:\tlearn: 0.1912668\ttotal: 292ms\tremaining: 739ms\n",
      "283:\tlearn: 0.1912112\ttotal: 292ms\tremaining: 737ms\n",
      "284:\tlearn: 0.1908955\ttotal: 293ms\tremaining: 736ms\n",
      "285:\tlearn: 0.1903765\ttotal: 294ms\tremaining: 734ms\n",
      "286:\tlearn: 0.1898614\ttotal: 295ms\tremaining: 733ms\n",
      "287:\tlearn: 0.1894809\ttotal: 296ms\tremaining: 731ms\n",
      "288:\tlearn: 0.1891614\ttotal: 297ms\tremaining: 730ms\n",
      "289:\tlearn: 0.1889710\ttotal: 297ms\tremaining: 728ms\n",
      "290:\tlearn: 0.1884697\ttotal: 298ms\tremaining: 726ms\n"
     ]
    },
    {
     "name": "stdout",
     "output_type": "stream",
     "text": [
      "291:\tlearn: 0.1881599\ttotal: 299ms\tremaining: 725ms\n",
      "292:\tlearn: 0.1876991\ttotal: 300ms\tremaining: 724ms\n",
      "293:\tlearn: 0.1872905\ttotal: 301ms\tremaining: 722ms\n",
      "294:\tlearn: 0.1869250\ttotal: 302ms\tremaining: 721ms\n",
      "295:\tlearn: 0.1865255\ttotal: 303ms\tremaining: 720ms\n",
      "296:\tlearn: 0.1861887\ttotal: 303ms\tremaining: 718ms\n",
      "297:\tlearn: 0.1860366\ttotal: 304ms\tremaining: 717ms\n",
      "298:\tlearn: 0.1856284\ttotal: 305ms\tremaining: 716ms\n",
      "299:\tlearn: 0.1850256\ttotal: 306ms\tremaining: 714ms\n",
      "300:\tlearn: 0.1848617\ttotal: 307ms\tremaining: 713ms\n",
      "301:\tlearn: 0.1843207\ttotal: 308ms\tremaining: 711ms\n",
      "302:\tlearn: 0.1842717\ttotal: 308ms\tremaining: 710ms\n",
      "303:\tlearn: 0.1836817\ttotal: 309ms\tremaining: 708ms\n",
      "304:\tlearn: 0.1830958\ttotal: 310ms\tremaining: 707ms\n",
      "305:\tlearn: 0.1825403\ttotal: 311ms\tremaining: 705ms\n",
      "306:\tlearn: 0.1822368\ttotal: 312ms\tremaining: 705ms\n",
      "307:\tlearn: 0.1816583\ttotal: 313ms\tremaining: 704ms\n",
      "308:\tlearn: 0.1815476\ttotal: 314ms\tremaining: 703ms\n",
      "309:\tlearn: 0.1808815\ttotal: 315ms\tremaining: 702ms\n",
      "310:\tlearn: 0.1804567\ttotal: 316ms\tremaining: 700ms\n",
      "311:\tlearn: 0.1802659\ttotal: 317ms\tremaining: 699ms\n",
      "312:\tlearn: 0.1797745\ttotal: 318ms\tremaining: 698ms\n",
      "313:\tlearn: 0.1794208\ttotal: 319ms\tremaining: 697ms\n",
      "314:\tlearn: 0.1791640\ttotal: 320ms\tremaining: 696ms\n",
      "315:\tlearn: 0.1787287\ttotal: 321ms\tremaining: 694ms\n",
      "316:\tlearn: 0.1785333\ttotal: 322ms\tremaining: 693ms\n",
      "317:\tlearn: 0.1780856\ttotal: 323ms\tremaining: 692ms\n",
      "318:\tlearn: 0.1776639\ttotal: 324ms\tremaining: 691ms\n",
      "319:\tlearn: 0.1774350\ttotal: 324ms\tremaining: 689ms\n",
      "320:\tlearn: 0.1770606\ttotal: 325ms\tremaining: 688ms\n",
      "321:\tlearn: 0.1766263\ttotal: 326ms\tremaining: 687ms\n",
      "322:\tlearn: 0.1765798\ttotal: 327ms\tremaining: 686ms\n",
      "323:\tlearn: 0.1762605\ttotal: 328ms\tremaining: 684ms\n",
      "324:\tlearn: 0.1760045\ttotal: 329ms\tremaining: 683ms\n",
      "325:\tlearn: 0.1755660\ttotal: 330ms\tremaining: 682ms\n",
      "326:\tlearn: 0.1751333\ttotal: 331ms\tremaining: 681ms\n",
      "327:\tlearn: 0.1750858\ttotal: 332ms\tremaining: 679ms\n",
      "328:\tlearn: 0.1746763\ttotal: 333ms\tremaining: 678ms\n",
      "329:\tlearn: 0.1743905\ttotal: 334ms\tremaining: 677ms\n",
      "330:\tlearn: 0.1741767\ttotal: 334ms\tremaining: 676ms\n",
      "331:\tlearn: 0.1736819\ttotal: 335ms\tremaining: 674ms\n",
      "332:\tlearn: 0.1733713\ttotal: 336ms\tremaining: 673ms\n",
      "333:\tlearn: 0.1729912\ttotal: 337ms\tremaining: 672ms\n",
      "334:\tlearn: 0.1727377\ttotal: 338ms\tremaining: 670ms\n",
      "335:\tlearn: 0.1723446\ttotal: 338ms\tremaining: 669ms\n",
      "336:\tlearn: 0.1719648\ttotal: 339ms\tremaining: 668ms\n",
      "337:\tlearn: 0.1719317\ttotal: 340ms\tremaining: 667ms\n",
      "338:\tlearn: 0.1716667\ttotal: 341ms\tremaining: 665ms\n",
      "339:\tlearn: 0.1714110\ttotal: 342ms\tremaining: 664ms\n",
      "340:\tlearn: 0.1710029\ttotal: 343ms\tremaining: 663ms\n",
      "341:\tlearn: 0.1705004\ttotal: 344ms\tremaining: 662ms\n",
      "342:\tlearn: 0.1702220\ttotal: 345ms\tremaining: 661ms\n",
      "343:\tlearn: 0.1700466\ttotal: 346ms\tremaining: 659ms\n",
      "344:\tlearn: 0.1696143\ttotal: 347ms\tremaining: 658ms\n",
      "345:\tlearn: 0.1692177\ttotal: 348ms\tremaining: 657ms\n",
      "346:\tlearn: 0.1687665\ttotal: 348ms\tremaining: 655ms\n",
      "347:\tlearn: 0.1683004\ttotal: 349ms\tremaining: 654ms\n",
      "348:\tlearn: 0.1679253\ttotal: 350ms\tremaining: 653ms\n",
      "349:\tlearn: 0.1674628\ttotal: 351ms\tremaining: 652ms\n",
      "350:\tlearn: 0.1671537\ttotal: 352ms\tremaining: 650ms\n",
      "351:\tlearn: 0.1667154\ttotal: 353ms\tremaining: 649ms\n",
      "352:\tlearn: 0.1663553\ttotal: 353ms\tremaining: 648ms\n",
      "353:\tlearn: 0.1662102\ttotal: 354ms\tremaining: 646ms\n",
      "354:\tlearn: 0.1657287\ttotal: 355ms\tremaining: 645ms\n",
      "355:\tlearn: 0.1652805\ttotal: 356ms\tremaining: 644ms\n",
      "356:\tlearn: 0.1649403\ttotal: 357ms\tremaining: 643ms\n",
      "357:\tlearn: 0.1645324\ttotal: 358ms\tremaining: 641ms\n",
      "358:\tlearn: 0.1642765\ttotal: 359ms\tremaining: 640ms\n",
      "359:\tlearn: 0.1638536\ttotal: 359ms\tremaining: 639ms\n",
      "360:\tlearn: 0.1638182\ttotal: 360ms\tremaining: 637ms\n",
      "361:\tlearn: 0.1634420\ttotal: 361ms\tremaining: 636ms\n",
      "362:\tlearn: 0.1631539\ttotal: 362ms\tremaining: 635ms\n",
      "363:\tlearn: 0.1627567\ttotal: 363ms\tremaining: 634ms\n",
      "364:\tlearn: 0.1625040\ttotal: 363ms\tremaining: 632ms\n",
      "365:\tlearn: 0.1621756\ttotal: 364ms\tremaining: 631ms\n",
      "366:\tlearn: 0.1621277\ttotal: 365ms\tremaining: 630ms\n",
      "367:\tlearn: 0.1616986\ttotal: 366ms\tremaining: 628ms\n",
      "368:\tlearn: 0.1611570\ttotal: 367ms\tremaining: 627ms\n",
      "369:\tlearn: 0.1607320\ttotal: 368ms\tremaining: 626ms\n",
      "370:\tlearn: 0.1605495\ttotal: 368ms\tremaining: 625ms\n",
      "371:\tlearn: 0.1604909\ttotal: 369ms\tremaining: 623ms\n",
      "372:\tlearn: 0.1604620\ttotal: 370ms\tremaining: 622ms\n",
      "373:\tlearn: 0.1600957\ttotal: 371ms\tremaining: 621ms\n",
      "374:\tlearn: 0.1598936\ttotal: 372ms\tremaining: 619ms\n",
      "375:\tlearn: 0.1594535\ttotal: 372ms\tremaining: 618ms\n",
      "376:\tlearn: 0.1591403\ttotal: 373ms\tremaining: 616ms\n",
      "377:\tlearn: 0.1586862\ttotal: 374ms\tremaining: 615ms\n",
      "378:\tlearn: 0.1583060\ttotal: 375ms\tremaining: 614ms\n",
      "379:\tlearn: 0.1579993\ttotal: 376ms\tremaining: 613ms\n",
      "380:\tlearn: 0.1575693\ttotal: 376ms\tremaining: 611ms\n",
      "381:\tlearn: 0.1573303\ttotal: 377ms\tremaining: 610ms\n",
      "382:\tlearn: 0.1570997\ttotal: 378ms\tremaining: 609ms\n",
      "383:\tlearn: 0.1568848\ttotal: 379ms\tremaining: 608ms\n",
      "384:\tlearn: 0.1568609\ttotal: 380ms\tremaining: 606ms\n",
      "385:\tlearn: 0.1565922\ttotal: 381ms\tremaining: 605ms\n"
     ]
    },
    {
     "name": "stdout",
     "output_type": "stream",
     "text": [
      "386:\tlearn: 0.1562726\ttotal: 382ms\tremaining: 604ms\n",
      "387:\tlearn: 0.1558098\ttotal: 382ms\tremaining: 603ms\n",
      "388:\tlearn: 0.1555881\ttotal: 383ms\tremaining: 602ms\n",
      "389:\tlearn: 0.1554783\ttotal: 384ms\tremaining: 601ms\n",
      "390:\tlearn: 0.1552219\ttotal: 385ms\tremaining: 600ms\n",
      "391:\tlearn: 0.1548505\ttotal: 386ms\tremaining: 598ms\n",
      "392:\tlearn: 0.1544341\ttotal: 386ms\tremaining: 597ms\n",
      "393:\tlearn: 0.1540707\ttotal: 387ms\tremaining: 596ms\n",
      "394:\tlearn: 0.1537695\ttotal: 388ms\tremaining: 594ms\n",
      "395:\tlearn: 0.1535099\ttotal: 389ms\tremaining: 593ms\n",
      "396:\tlearn: 0.1532489\ttotal: 390ms\tremaining: 592ms\n",
      "397:\tlearn: 0.1530036\ttotal: 391ms\tremaining: 591ms\n",
      "398:\tlearn: 0.1526063\ttotal: 392ms\tremaining: 590ms\n",
      "399:\tlearn: 0.1523574\ttotal: 392ms\tremaining: 589ms\n",
      "400:\tlearn: 0.1519680\ttotal: 393ms\tremaining: 587ms\n",
      "401:\tlearn: 0.1516945\ttotal: 394ms\tremaining: 586ms\n",
      "402:\tlearn: 0.1513701\ttotal: 395ms\tremaining: 585ms\n",
      "403:\tlearn: 0.1511451\ttotal: 396ms\tremaining: 584ms\n",
      "404:\tlearn: 0.1507742\ttotal: 397ms\tremaining: 583ms\n",
      "405:\tlearn: 0.1505479\ttotal: 398ms\tremaining: 582ms\n",
      "406:\tlearn: 0.1501920\ttotal: 399ms\tremaining: 581ms\n",
      "407:\tlearn: 0.1499205\ttotal: 400ms\tremaining: 580ms\n",
      "408:\tlearn: 0.1496738\ttotal: 401ms\tremaining: 580ms\n",
      "409:\tlearn: 0.1493229\ttotal: 402ms\tremaining: 578ms\n",
      "410:\tlearn: 0.1491260\ttotal: 403ms\tremaining: 577ms\n",
      "411:\tlearn: 0.1488504\ttotal: 404ms\tremaining: 576ms\n",
      "412:\tlearn: 0.1483581\ttotal: 404ms\tremaining: 575ms\n",
      "413:\tlearn: 0.1483344\ttotal: 405ms\tremaining: 574ms\n",
      "414:\tlearn: 0.1479107\ttotal: 406ms\tremaining: 573ms\n",
      "415:\tlearn: 0.1475071\ttotal: 407ms\tremaining: 571ms\n",
      "416:\tlearn: 0.1473178\ttotal: 408ms\tremaining: 570ms\n",
      "417:\tlearn: 0.1469794\ttotal: 409ms\tremaining: 569ms\n",
      "418:\tlearn: 0.1467905\ttotal: 410ms\tremaining: 568ms\n",
      "419:\tlearn: 0.1467642\ttotal: 410ms\tremaining: 567ms\n",
      "420:\tlearn: 0.1464617\ttotal: 411ms\tremaining: 565ms\n",
      "421:\tlearn: 0.1462461\ttotal: 412ms\tremaining: 564ms\n",
      "422:\tlearn: 0.1458438\ttotal: 413ms\tremaining: 563ms\n",
      "423:\tlearn: 0.1455217\ttotal: 413ms\tremaining: 562ms\n",
      "424:\tlearn: 0.1451406\ttotal: 414ms\tremaining: 560ms\n",
      "425:\tlearn: 0.1448607\ttotal: 415ms\tremaining: 559ms\n",
      "426:\tlearn: 0.1445781\ttotal: 416ms\tremaining: 558ms\n",
      "427:\tlearn: 0.1442671\ttotal: 417ms\tremaining: 557ms\n",
      "428:\tlearn: 0.1439812\ttotal: 417ms\tremaining: 556ms\n",
      "429:\tlearn: 0.1436455\ttotal: 418ms\tremaining: 554ms\n",
      "430:\tlearn: 0.1433964\ttotal: 419ms\tremaining: 553ms\n",
      "431:\tlearn: 0.1433427\ttotal: 420ms\tremaining: 552ms\n",
      "432:\tlearn: 0.1430311\ttotal: 421ms\tremaining: 551ms\n",
      "433:\tlearn: 0.1428168\ttotal: 422ms\tremaining: 550ms\n",
      "434:\tlearn: 0.1425747\ttotal: 422ms\tremaining: 549ms\n",
      "435:\tlearn: 0.1421711\ttotal: 423ms\tremaining: 547ms\n",
      "436:\tlearn: 0.1419578\ttotal: 424ms\tremaining: 546ms\n",
      "437:\tlearn: 0.1416051\ttotal: 425ms\tremaining: 545ms\n",
      "438:\tlearn: 0.1415826\ttotal: 425ms\tremaining: 544ms\n",
      "439:\tlearn: 0.1412238\ttotal: 426ms\tremaining: 542ms\n",
      "440:\tlearn: 0.1409121\ttotal: 427ms\tremaining: 541ms\n",
      "441:\tlearn: 0.1406162\ttotal: 428ms\tremaining: 540ms\n",
      "442:\tlearn: 0.1405988\ttotal: 429ms\tremaining: 539ms\n",
      "443:\tlearn: 0.1402642\ttotal: 430ms\tremaining: 538ms\n",
      "444:\tlearn: 0.1399004\ttotal: 430ms\tremaining: 537ms\n",
      "445:\tlearn: 0.1395632\ttotal: 431ms\tremaining: 536ms\n",
      "446:\tlearn: 0.1392148\ttotal: 432ms\tremaining: 535ms\n",
      "447:\tlearn: 0.1389676\ttotal: 433ms\tremaining: 534ms\n",
      "448:\tlearn: 0.1386272\ttotal: 434ms\tremaining: 532ms\n",
      "449:\tlearn: 0.1384958\ttotal: 435ms\tremaining: 531ms\n",
      "450:\tlearn: 0.1381698\ttotal: 436ms\tremaining: 530ms\n",
      "451:\tlearn: 0.1378723\ttotal: 436ms\tremaining: 529ms\n",
      "452:\tlearn: 0.1377090\ttotal: 438ms\tremaining: 529ms\n",
      "453:\tlearn: 0.1376822\ttotal: 439ms\tremaining: 528ms\n",
      "454:\tlearn: 0.1374087\ttotal: 439ms\tremaining: 526ms\n",
      "455:\tlearn: 0.1371974\ttotal: 440ms\tremaining: 525ms\n",
      "456:\tlearn: 0.1369887\ttotal: 441ms\tremaining: 524ms\n",
      "457:\tlearn: 0.1367628\ttotal: 442ms\tremaining: 523ms\n",
      "458:\tlearn: 0.1364846\ttotal: 443ms\tremaining: 522ms\n",
      "459:\tlearn: 0.1362504\ttotal: 444ms\tremaining: 521ms\n",
      "460:\tlearn: 0.1360572\ttotal: 444ms\tremaining: 520ms\n",
      "461:\tlearn: 0.1356904\ttotal: 445ms\tremaining: 518ms\n",
      "462:\tlearn: 0.1353690\ttotal: 446ms\tremaining: 517ms\n",
      "463:\tlearn: 0.1350158\ttotal: 447ms\tremaining: 516ms\n",
      "464:\tlearn: 0.1347024\ttotal: 448ms\tremaining: 515ms\n",
      "465:\tlearn: 0.1345438\ttotal: 448ms\tremaining: 514ms\n",
      "466:\tlearn: 0.1343230\ttotal: 449ms\tremaining: 513ms\n",
      "467:\tlearn: 0.1343067\ttotal: 450ms\tremaining: 512ms\n",
      "468:\tlearn: 0.1340348\ttotal: 451ms\tremaining: 511ms\n",
      "469:\tlearn: 0.1340151\ttotal: 452ms\tremaining: 510ms\n",
      "470:\tlearn: 0.1337259\ttotal: 453ms\tremaining: 509ms\n",
      "471:\tlearn: 0.1333359\ttotal: 454ms\tremaining: 508ms\n",
      "472:\tlearn: 0.1331102\ttotal: 455ms\tremaining: 507ms\n",
      "473:\tlearn: 0.1328967\ttotal: 456ms\tremaining: 506ms\n",
      "474:\tlearn: 0.1326441\ttotal: 456ms\tremaining: 504ms\n",
      "475:\tlearn: 0.1321718\ttotal: 457ms\tremaining: 503ms\n",
      "476:\tlearn: 0.1319931\ttotal: 458ms\tremaining: 502ms\n",
      "477:\tlearn: 0.1318225\ttotal: 459ms\tremaining: 501ms\n",
      "478:\tlearn: 0.1314958\ttotal: 460ms\tremaining: 500ms\n",
      "479:\tlearn: 0.1311651\ttotal: 460ms\tremaining: 499ms\n",
      "480:\tlearn: 0.1310336\ttotal: 461ms\tremaining: 498ms\n",
      "481:\tlearn: 0.1307728\ttotal: 462ms\tremaining: 497ms\n",
      "482:\tlearn: 0.1304950\ttotal: 463ms\tremaining: 496ms\n",
      "483:\tlearn: 0.1301869\ttotal: 464ms\tremaining: 495ms\n",
      "484:\tlearn: 0.1299699\ttotal: 465ms\tremaining: 494ms\n",
      "485:\tlearn: 0.1296834\ttotal: 466ms\tremaining: 493ms\n",
      "486:\tlearn: 0.1296286\ttotal: 467ms\tremaining: 492ms\n",
      "487:\tlearn: 0.1293668\ttotal: 468ms\tremaining: 491ms\n",
      "488:\tlearn: 0.1290869\ttotal: 468ms\tremaining: 489ms\n",
      "489:\tlearn: 0.1289088\ttotal: 469ms\tremaining: 488ms\n",
      "490:\tlearn: 0.1288529\ttotal: 470ms\tremaining: 487ms\n",
      "491:\tlearn: 0.1284859\ttotal: 471ms\tremaining: 486ms\n",
      "492:\tlearn: 0.1281798\ttotal: 472ms\tremaining: 485ms\n",
      "493:\tlearn: 0.1278365\ttotal: 473ms\tremaining: 484ms\n",
      "494:\tlearn: 0.1274824\ttotal: 474ms\tremaining: 483ms\n",
      "495:\tlearn: 0.1271625\ttotal: 475ms\tremaining: 482ms\n",
      "496:\tlearn: 0.1269245\ttotal: 476ms\tremaining: 481ms\n",
      "497:\tlearn: 0.1269104\ttotal: 476ms\tremaining: 480ms\n",
      "498:\tlearn: 0.1268904\ttotal: 477ms\tremaining: 479ms\n",
      "499:\tlearn: 0.1266145\ttotal: 478ms\tremaining: 478ms\n",
      "500:\tlearn: 0.1263039\ttotal: 479ms\tremaining: 477ms\n",
      "501:\tlearn: 0.1260622\ttotal: 480ms\tremaining: 476ms\n",
      "502:\tlearn: 0.1257334\ttotal: 481ms\tremaining: 475ms\n",
      "503:\tlearn: 0.1254904\ttotal: 482ms\tremaining: 474ms\n",
      "504:\tlearn: 0.1252602\ttotal: 482ms\tremaining: 473ms\n",
      "505:\tlearn: 0.1250647\ttotal: 483ms\tremaining: 472ms\n",
      "506:\tlearn: 0.1248114\ttotal: 484ms\tremaining: 471ms\n",
      "507:\tlearn: 0.1247301\ttotal: 485ms\tremaining: 470ms\n",
      "508:\tlearn: 0.1243973\ttotal: 486ms\tremaining: 469ms\n",
      "509:\tlearn: 0.1243507\ttotal: 487ms\tremaining: 467ms\n",
      "510:\tlearn: 0.1242226\ttotal: 487ms\tremaining: 466ms\n",
      "511:\tlearn: 0.1238890\ttotal: 488ms\tremaining: 465ms\n"
     ]
    },
    {
     "name": "stdout",
     "output_type": "stream",
     "text": [
      "512:\tlearn: 0.1236208\ttotal: 490ms\tremaining: 465ms\n",
      "513:\tlearn: 0.1233969\ttotal: 491ms\tremaining: 464ms\n",
      "514:\tlearn: 0.1232791\ttotal: 491ms\tremaining: 463ms\n",
      "515:\tlearn: 0.1229968\ttotal: 492ms\tremaining: 462ms\n",
      "516:\tlearn: 0.1229405\ttotal: 493ms\tremaining: 461ms\n",
      "517:\tlearn: 0.1226645\ttotal: 494ms\tremaining: 460ms\n",
      "518:\tlearn: 0.1224397\ttotal: 495ms\tremaining: 459ms\n",
      "519:\tlearn: 0.1222739\ttotal: 495ms\tremaining: 457ms\n",
      "520:\tlearn: 0.1218650\ttotal: 496ms\tremaining: 456ms\n",
      "521:\tlearn: 0.1215763\ttotal: 497ms\tremaining: 455ms\n",
      "522:\tlearn: 0.1214364\ttotal: 498ms\tremaining: 454ms\n",
      "523:\tlearn: 0.1211659\ttotal: 499ms\tremaining: 453ms\n",
      "524:\tlearn: 0.1210698\ttotal: 499ms\tremaining: 452ms\n",
      "525:\tlearn: 0.1210284\ttotal: 500ms\tremaining: 451ms\n",
      "526:\tlearn: 0.1208575\ttotal: 501ms\tremaining: 450ms\n",
      "527:\tlearn: 0.1207634\ttotal: 502ms\tremaining: 449ms\n",
      "528:\tlearn: 0.1207509\ttotal: 503ms\tremaining: 448ms\n",
      "529:\tlearn: 0.1204784\ttotal: 504ms\tremaining: 447ms\n",
      "530:\tlearn: 0.1204622\ttotal: 504ms\tremaining: 446ms\n",
      "531:\tlearn: 0.1201155\ttotal: 505ms\tremaining: 445ms\n",
      "532:\tlearn: 0.1198333\ttotal: 506ms\tremaining: 443ms\n",
      "533:\tlearn: 0.1196394\ttotal: 507ms\tremaining: 442ms\n",
      "534:\tlearn: 0.1193407\ttotal: 508ms\tremaining: 441ms\n",
      "535:\tlearn: 0.1190100\ttotal: 509ms\tremaining: 441ms\n",
      "536:\tlearn: 0.1187850\ttotal: 510ms\tremaining: 440ms\n",
      "537:\tlearn: 0.1185734\ttotal: 511ms\tremaining: 439ms\n",
      "538:\tlearn: 0.1181783\ttotal: 512ms\tremaining: 438ms\n",
      "539:\tlearn: 0.1180230\ttotal: 512ms\tremaining: 436ms\n",
      "540:\tlearn: 0.1178815\ttotal: 513ms\tremaining: 435ms\n",
      "541:\tlearn: 0.1176118\ttotal: 514ms\tremaining: 434ms\n",
      "542:\tlearn: 0.1174058\ttotal: 515ms\tremaining: 433ms\n",
      "543:\tlearn: 0.1171963\ttotal: 516ms\tremaining: 432ms\n",
      "544:\tlearn: 0.1169436\ttotal: 517ms\tremaining: 431ms\n",
      "545:\tlearn: 0.1166781\ttotal: 518ms\tremaining: 430ms\n",
      "546:\tlearn: 0.1165656\ttotal: 518ms\tremaining: 429ms\n",
      "547:\tlearn: 0.1164523\ttotal: 519ms\tremaining: 428ms\n",
      "548:\tlearn: 0.1163239\ttotal: 520ms\tremaining: 427ms\n",
      "549:\tlearn: 0.1160235\ttotal: 521ms\tremaining: 426ms\n",
      "550:\tlearn: 0.1158049\ttotal: 522ms\tremaining: 425ms\n",
      "551:\tlearn: 0.1156635\ttotal: 524ms\tremaining: 425ms\n",
      "552:\tlearn: 0.1154581\ttotal: 524ms\tremaining: 424ms\n",
      "553:\tlearn: 0.1153406\ttotal: 525ms\tremaining: 423ms\n",
      "554:\tlearn: 0.1150846\ttotal: 526ms\tremaining: 422ms\n",
      "555:\tlearn: 0.1148786\ttotal: 527ms\tremaining: 421ms\n",
      "556:\tlearn: 0.1146794\ttotal: 528ms\tremaining: 420ms\n",
      "557:\tlearn: 0.1144033\ttotal: 528ms\tremaining: 419ms\n",
      "558:\tlearn: 0.1142082\ttotal: 529ms\tremaining: 417ms\n",
      "559:\tlearn: 0.1139625\ttotal: 530ms\tremaining: 416ms\n",
      "560:\tlearn: 0.1136975\ttotal: 531ms\tremaining: 416ms\n",
      "561:\tlearn: 0.1136117\ttotal: 532ms\tremaining: 414ms\n",
      "562:\tlearn: 0.1133595\ttotal: 533ms\tremaining: 413ms\n",
      "563:\tlearn: 0.1131222\ttotal: 533ms\tremaining: 412ms\n",
      "564:\tlearn: 0.1128859\ttotal: 534ms\tremaining: 411ms\n",
      "565:\tlearn: 0.1127373\ttotal: 535ms\tremaining: 410ms\n",
      "566:\tlearn: 0.1127204\ttotal: 536ms\tremaining: 409ms\n",
      "567:\tlearn: 0.1126428\ttotal: 537ms\tremaining: 409ms\n",
      "568:\tlearn: 0.1124285\ttotal: 538ms\tremaining: 408ms\n",
      "569:\tlearn: 0.1122539\ttotal: 539ms\tremaining: 406ms\n",
      "570:\tlearn: 0.1119410\ttotal: 540ms\tremaining: 405ms\n",
      "571:\tlearn: 0.1118015\ttotal: 540ms\tremaining: 404ms\n",
      "572:\tlearn: 0.1116434\ttotal: 541ms\tremaining: 403ms\n",
      "573:\tlearn: 0.1114381\ttotal: 542ms\tremaining: 402ms\n",
      "574:\tlearn: 0.1114212\ttotal: 543ms\tremaining: 401ms\n",
      "575:\tlearn: 0.1114030\ttotal: 544ms\tremaining: 400ms\n",
      "576:\tlearn: 0.1112354\ttotal: 545ms\tremaining: 399ms\n",
      "577:\tlearn: 0.1111544\ttotal: 545ms\tremaining: 398ms\n",
      "578:\tlearn: 0.1108359\ttotal: 546ms\tremaining: 397ms\n",
      "579:\tlearn: 0.1106976\ttotal: 547ms\tremaining: 396ms\n",
      "580:\tlearn: 0.1105759\ttotal: 548ms\tremaining: 395ms\n",
      "581:\tlearn: 0.1103915\ttotal: 549ms\tremaining: 394ms\n",
      "582:\tlearn: 0.1101830\ttotal: 549ms\tremaining: 393ms\n",
      "583:\tlearn: 0.1099677\ttotal: 550ms\tremaining: 392ms\n",
      "584:\tlearn: 0.1096860\ttotal: 551ms\tremaining: 391ms\n",
      "585:\tlearn: 0.1095345\ttotal: 552ms\tremaining: 390ms\n",
      "586:\tlearn: 0.1093664\ttotal: 553ms\tremaining: 389ms\n",
      "587:\tlearn: 0.1091948\ttotal: 554ms\tremaining: 388ms\n",
      "588:\tlearn: 0.1090656\ttotal: 554ms\tremaining: 387ms\n",
      "589:\tlearn: 0.1089116\ttotal: 555ms\tremaining: 386ms\n",
      "590:\tlearn: 0.1086827\ttotal: 556ms\tremaining: 385ms\n",
      "591:\tlearn: 0.1085539\ttotal: 557ms\tremaining: 384ms\n",
      "592:\tlearn: 0.1084404\ttotal: 558ms\tremaining: 383ms\n",
      "593:\tlearn: 0.1082242\ttotal: 559ms\tremaining: 382ms\n",
      "594:\tlearn: 0.1080982\ttotal: 560ms\tremaining: 381ms\n",
      "595:\tlearn: 0.1078129\ttotal: 561ms\tremaining: 380ms\n",
      "596:\tlearn: 0.1075034\ttotal: 561ms\tremaining: 379ms\n",
      "597:\tlearn: 0.1074614\ttotal: 562ms\tremaining: 378ms\n",
      "598:\tlearn: 0.1072561\ttotal: 563ms\tremaining: 377ms\n",
      "599:\tlearn: 0.1069475\ttotal: 564ms\tremaining: 376ms\n",
      "600:\tlearn: 0.1067713\ttotal: 565ms\tremaining: 375ms\n",
      "601:\tlearn: 0.1065838\ttotal: 565ms\tremaining: 374ms\n",
      "602:\tlearn: 0.1063888\ttotal: 566ms\tremaining: 373ms\n",
      "603:\tlearn: 0.1063753\ttotal: 567ms\tremaining: 372ms\n",
      "604:\tlearn: 0.1063539\ttotal: 568ms\tremaining: 371ms\n",
      "605:\tlearn: 0.1063204\ttotal: 569ms\tremaining: 370ms\n",
      "606:\tlearn: 0.1062094\ttotal: 570ms\tremaining: 369ms\n",
      "607:\tlearn: 0.1060373\ttotal: 570ms\tremaining: 368ms\n",
      "608:\tlearn: 0.1057890\ttotal: 571ms\tremaining: 367ms\n"
     ]
    },
    {
     "name": "stdout",
     "output_type": "stream",
     "text": [
      "609:\tlearn: 0.1055807\ttotal: 572ms\tremaining: 366ms\n",
      "610:\tlearn: 0.1054370\ttotal: 573ms\tremaining: 365ms\n",
      "611:\tlearn: 0.1052245\ttotal: 574ms\tremaining: 364ms\n",
      "612:\tlearn: 0.1050254\ttotal: 575ms\tremaining: 363ms\n",
      "613:\tlearn: 0.1048741\ttotal: 576ms\tremaining: 362ms\n",
      "614:\tlearn: 0.1047273\ttotal: 576ms\tremaining: 361ms\n",
      "615:\tlearn: 0.1045682\ttotal: 577ms\tremaining: 360ms\n",
      "616:\tlearn: 0.1043257\ttotal: 578ms\tremaining: 359ms\n",
      "617:\tlearn: 0.1040873\ttotal: 579ms\tremaining: 358ms\n",
      "618:\tlearn: 0.1039317\ttotal: 580ms\tremaining: 357ms\n",
      "619:\tlearn: 0.1036942\ttotal: 580ms\tremaining: 356ms\n",
      "620:\tlearn: 0.1035861\ttotal: 581ms\tremaining: 355ms\n",
      "621:\tlearn: 0.1034065\ttotal: 582ms\tremaining: 354ms\n",
      "622:\tlearn: 0.1031578\ttotal: 583ms\tremaining: 353ms\n",
      "623:\tlearn: 0.1029894\ttotal: 584ms\tremaining: 352ms\n",
      "624:\tlearn: 0.1029125\ttotal: 584ms\tremaining: 351ms\n",
      "625:\tlearn: 0.1028962\ttotal: 585ms\tremaining: 350ms\n",
      "626:\tlearn: 0.1027654\ttotal: 586ms\tremaining: 349ms\n",
      "627:\tlearn: 0.1025418\ttotal: 587ms\tremaining: 348ms\n",
      "628:\tlearn: 0.1023545\ttotal: 588ms\tremaining: 347ms\n",
      "629:\tlearn: 0.1021283\ttotal: 589ms\tremaining: 346ms\n",
      "630:\tlearn: 0.1020227\ttotal: 590ms\tremaining: 345ms\n",
      "631:\tlearn: 0.1017644\ttotal: 591ms\tremaining: 344ms\n",
      "632:\tlearn: 0.1016563\ttotal: 591ms\tremaining: 343ms\n",
      "633:\tlearn: 0.1014607\ttotal: 592ms\tremaining: 342ms\n",
      "634:\tlearn: 0.1012465\ttotal: 593ms\tremaining: 341ms\n",
      "635:\tlearn: 0.1011725\ttotal: 594ms\tremaining: 340ms\n",
      "636:\tlearn: 0.1011010\ttotal: 595ms\tremaining: 339ms\n",
      "637:\tlearn: 0.1009201\ttotal: 596ms\tremaining: 338ms\n",
      "638:\tlearn: 0.1007954\ttotal: 596ms\tremaining: 337ms\n",
      "639:\tlearn: 0.1006296\ttotal: 597ms\tremaining: 336ms\n",
      "640:\tlearn: 0.1005547\ttotal: 598ms\tremaining: 335ms\n",
      "641:\tlearn: 0.1003841\ttotal: 599ms\tremaining: 334ms\n",
      "642:\tlearn: 0.1001873\ttotal: 599ms\tremaining: 333ms\n",
      "643:\tlearn: 0.0999829\ttotal: 600ms\tremaining: 332ms\n",
      "644:\tlearn: 0.0998819\ttotal: 601ms\tremaining: 331ms\n",
      "645:\tlearn: 0.0998001\ttotal: 602ms\tremaining: 330ms\n",
      "646:\tlearn: 0.0996952\ttotal: 603ms\tremaining: 329ms\n",
      "647:\tlearn: 0.0996667\ttotal: 603ms\tremaining: 328ms\n",
      "648:\tlearn: 0.0995400\ttotal: 604ms\tremaining: 327ms\n",
      "649:\tlearn: 0.0992867\ttotal: 605ms\tremaining: 326ms\n",
      "650:\tlearn: 0.0991453\ttotal: 606ms\tremaining: 325ms\n",
      "651:\tlearn: 0.0989794\ttotal: 607ms\tremaining: 324ms\n",
      "652:\tlearn: 0.0988745\ttotal: 608ms\tremaining: 323ms\n",
      "653:\tlearn: 0.0987415\ttotal: 608ms\tremaining: 322ms\n",
      "654:\tlearn: 0.0986554\ttotal: 609ms\tremaining: 321ms\n",
      "655:\tlearn: 0.0985855\ttotal: 610ms\tremaining: 320ms\n",
      "656:\tlearn: 0.0983545\ttotal: 611ms\tremaining: 319ms\n",
      "657:\tlearn: 0.0982054\ttotal: 612ms\tremaining: 318ms\n",
      "658:\tlearn: 0.0979821\ttotal: 612ms\tremaining: 317ms\n",
      "659:\tlearn: 0.0979505\ttotal: 613ms\tremaining: 316ms\n",
      "660:\tlearn: 0.0979239\ttotal: 614ms\tremaining: 315ms\n",
      "661:\tlearn: 0.0978105\ttotal: 615ms\tremaining: 314ms\n",
      "662:\tlearn: 0.0976917\ttotal: 616ms\tremaining: 313ms\n",
      "663:\tlearn: 0.0975346\ttotal: 617ms\tremaining: 312ms\n",
      "664:\tlearn: 0.0974138\ttotal: 618ms\tremaining: 311ms\n",
      "665:\tlearn: 0.0971748\ttotal: 619ms\tremaining: 310ms\n",
      "666:\tlearn: 0.0970387\ttotal: 620ms\tremaining: 309ms\n",
      "667:\tlearn: 0.0969052\ttotal: 621ms\tremaining: 308ms\n",
      "668:\tlearn: 0.0966838\ttotal: 621ms\tremaining: 307ms\n",
      "669:\tlearn: 0.0966170\ttotal: 622ms\tremaining: 306ms\n",
      "670:\tlearn: 0.0965130\ttotal: 623ms\tremaining: 306ms\n",
      "671:\tlearn: 0.0963479\ttotal: 624ms\tremaining: 305ms\n",
      "672:\tlearn: 0.0962103\ttotal: 625ms\tremaining: 304ms\n",
      "673:\tlearn: 0.0960424\ttotal: 626ms\tremaining: 303ms\n",
      "674:\tlearn: 0.0959155\ttotal: 626ms\tremaining: 302ms\n",
      "675:\tlearn: 0.0957330\ttotal: 627ms\tremaining: 301ms\n",
      "676:\tlearn: 0.0956115\ttotal: 628ms\tremaining: 300ms\n",
      "677:\tlearn: 0.0954898\ttotal: 629ms\tremaining: 299ms\n",
      "678:\tlearn: 0.0953449\ttotal: 630ms\tremaining: 298ms\n",
      "679:\tlearn: 0.0951496\ttotal: 631ms\tremaining: 297ms\n",
      "680:\tlearn: 0.0949642\ttotal: 631ms\tremaining: 296ms\n",
      "681:\tlearn: 0.0947085\ttotal: 632ms\tremaining: 295ms\n",
      "682:\tlearn: 0.0945770\ttotal: 633ms\tremaining: 294ms\n",
      "683:\tlearn: 0.0944274\ttotal: 634ms\tremaining: 293ms\n",
      "684:\tlearn: 0.0943910\ttotal: 635ms\tremaining: 292ms\n",
      "685:\tlearn: 0.0942019\ttotal: 635ms\tremaining: 291ms\n",
      "686:\tlearn: 0.0940644\ttotal: 636ms\tremaining: 290ms\n",
      "687:\tlearn: 0.0939316\ttotal: 637ms\tremaining: 289ms\n",
      "688:\tlearn: 0.0936971\ttotal: 638ms\tremaining: 288ms\n",
      "689:\tlearn: 0.0935531\ttotal: 639ms\tremaining: 287ms\n",
      "690:\tlearn: 0.0934053\ttotal: 639ms\tremaining: 286ms\n",
      "691:\tlearn: 0.0933389\ttotal: 640ms\tremaining: 285ms\n",
      "692:\tlearn: 0.0932390\ttotal: 641ms\tremaining: 284ms\n",
      "693:\tlearn: 0.0930643\ttotal: 642ms\tremaining: 283ms\n",
      "694:\tlearn: 0.0928429\ttotal: 643ms\tremaining: 282ms\n",
      "695:\tlearn: 0.0926859\ttotal: 644ms\tremaining: 281ms\n",
      "696:\tlearn: 0.0925081\ttotal: 645ms\tremaining: 280ms\n",
      "697:\tlearn: 0.0923778\ttotal: 645ms\tremaining: 279ms\n",
      "698:\tlearn: 0.0921354\ttotal: 646ms\tremaining: 278ms\n",
      "699:\tlearn: 0.0920585\ttotal: 647ms\tremaining: 277ms\n",
      "700:\tlearn: 0.0919662\ttotal: 648ms\tremaining: 276ms\n",
      "701:\tlearn: 0.0917967\ttotal: 649ms\tremaining: 275ms\n",
      "702:\tlearn: 0.0917261\ttotal: 650ms\tremaining: 274ms\n",
      "703:\tlearn: 0.0916060\ttotal: 650ms\tremaining: 273ms\n",
      "704:\tlearn: 0.0914466\ttotal: 651ms\tremaining: 272ms\n",
      "705:\tlearn: 0.0913688\ttotal: 652ms\tremaining: 271ms\n",
      "706:\tlearn: 0.0912022\ttotal: 653ms\tremaining: 271ms\n",
      "707:\tlearn: 0.0909837\ttotal: 654ms\tremaining: 270ms\n",
      "708:\tlearn: 0.0908792\ttotal: 655ms\tremaining: 269ms\n",
      "709:\tlearn: 0.0908680\ttotal: 656ms\tremaining: 268ms\n",
      "710:\tlearn: 0.0906360\ttotal: 656ms\tremaining: 267ms\n",
      "711:\tlearn: 0.0905210\ttotal: 657ms\tremaining: 266ms\n",
      "712:\tlearn: 0.0904821\ttotal: 658ms\tremaining: 265ms\n",
      "713:\tlearn: 0.0903203\ttotal: 659ms\tremaining: 264ms\n",
      "714:\tlearn: 0.0901569\ttotal: 660ms\tremaining: 263ms\n",
      "715:\tlearn: 0.0901448\ttotal: 660ms\tremaining: 262ms\n",
      "716:\tlearn: 0.0900467\ttotal: 661ms\tremaining: 261ms\n",
      "717:\tlearn: 0.0898227\ttotal: 662ms\tremaining: 260ms\n",
      "718:\tlearn: 0.0897374\ttotal: 663ms\tremaining: 259ms\n",
      "719:\tlearn: 0.0895506\ttotal: 664ms\tremaining: 258ms\n",
      "720:\tlearn: 0.0893544\ttotal: 665ms\tremaining: 257ms\n",
      "721:\tlearn: 0.0891956\ttotal: 665ms\tremaining: 256ms\n",
      "722:\tlearn: 0.0890311\ttotal: 666ms\tremaining: 255ms\n",
      "723:\tlearn: 0.0888674\ttotal: 667ms\tremaining: 254ms\n",
      "724:\tlearn: 0.0887579\ttotal: 668ms\tremaining: 253ms\n",
      "725:\tlearn: 0.0886766\ttotal: 669ms\tremaining: 253ms\n",
      "726:\tlearn: 0.0884905\ttotal: 670ms\tremaining: 252ms\n",
      "727:\tlearn: 0.0883325\ttotal: 671ms\tremaining: 251ms\n",
      "728:\tlearn: 0.0880919\ttotal: 671ms\tremaining: 250ms\n",
      "729:\tlearn: 0.0879245\ttotal: 672ms\tremaining: 249ms\n",
      "730:\tlearn: 0.0878654\ttotal: 673ms\tremaining: 248ms\n",
      "731:\tlearn: 0.0878588\ttotal: 674ms\tremaining: 247ms\n",
      "732:\tlearn: 0.0877007\ttotal: 675ms\tremaining: 246ms\n",
      "733:\tlearn: 0.0875808\ttotal: 675ms\tremaining: 245ms\n",
      "734:\tlearn: 0.0874583\ttotal: 676ms\tremaining: 244ms\n",
      "735:\tlearn: 0.0873514\ttotal: 677ms\tremaining: 243ms\n",
      "736:\tlearn: 0.0873018\ttotal: 678ms\tremaining: 242ms\n",
      "737:\tlearn: 0.0871460\ttotal: 679ms\tremaining: 241ms\n"
     ]
    },
    {
     "name": "stdout",
     "output_type": "stream",
     "text": [
      "738:\tlearn: 0.0870545\ttotal: 680ms\tremaining: 240ms\n",
      "739:\tlearn: 0.0869550\ttotal: 681ms\tremaining: 239ms\n",
      "740:\tlearn: 0.0868722\ttotal: 682ms\tremaining: 238ms\n",
      "741:\tlearn: 0.0867153\ttotal: 682ms\tremaining: 237ms\n",
      "742:\tlearn: 0.0866539\ttotal: 683ms\tremaining: 236ms\n",
      "743:\tlearn: 0.0865693\ttotal: 684ms\tremaining: 235ms\n",
      "744:\tlearn: 0.0863471\ttotal: 685ms\tremaining: 234ms\n",
      "745:\tlearn: 0.0861670\ttotal: 686ms\tremaining: 234ms\n",
      "746:\tlearn: 0.0861145\ttotal: 687ms\tremaining: 233ms\n",
      "747:\tlearn: 0.0859756\ttotal: 688ms\tremaining: 232ms\n",
      "748:\tlearn: 0.0858019\ttotal: 688ms\tremaining: 231ms\n",
      "749:\tlearn: 0.0856036\ttotal: 689ms\tremaining: 230ms\n",
      "750:\tlearn: 0.0854821\ttotal: 690ms\tremaining: 229ms\n",
      "751:\tlearn: 0.0854117\ttotal: 691ms\tremaining: 228ms\n",
      "752:\tlearn: 0.0852140\ttotal: 692ms\tremaining: 227ms\n",
      "753:\tlearn: 0.0851089\ttotal: 692ms\tremaining: 226ms\n",
      "754:\tlearn: 0.0850687\ttotal: 693ms\tremaining: 225ms\n",
      "755:\tlearn: 0.0849419\ttotal: 694ms\tremaining: 224ms\n",
      "756:\tlearn: 0.0848798\ttotal: 695ms\tremaining: 223ms\n",
      "757:\tlearn: 0.0846708\ttotal: 696ms\tremaining: 222ms\n",
      "758:\tlearn: 0.0845197\ttotal: 696ms\tremaining: 221ms\n",
      "759:\tlearn: 0.0844187\ttotal: 697ms\tremaining: 220ms\n",
      "760:\tlearn: 0.0842283\ttotal: 698ms\tremaining: 219ms\n",
      "761:\tlearn: 0.0840857\ttotal: 699ms\tremaining: 218ms\n",
      "762:\tlearn: 0.0840111\ttotal: 700ms\tremaining: 217ms\n",
      "763:\tlearn: 0.0839304\ttotal: 700ms\tremaining: 216ms\n",
      "764:\tlearn: 0.0838179\ttotal: 701ms\tremaining: 215ms\n",
      "765:\tlearn: 0.0836856\ttotal: 702ms\tremaining: 214ms\n",
      "766:\tlearn: 0.0836636\ttotal: 703ms\tremaining: 214ms\n",
      "767:\tlearn: 0.0835726\ttotal: 704ms\tremaining: 213ms\n",
      "768:\tlearn: 0.0833863\ttotal: 705ms\tremaining: 212ms\n",
      "769:\tlearn: 0.0831901\ttotal: 705ms\tremaining: 211ms\n",
      "770:\tlearn: 0.0831589\ttotal: 706ms\tremaining: 210ms\n",
      "771:\tlearn: 0.0830958\ttotal: 707ms\tremaining: 209ms\n",
      "772:\tlearn: 0.0829904\ttotal: 708ms\tremaining: 208ms\n",
      "773:\tlearn: 0.0828996\ttotal: 708ms\tremaining: 207ms\n",
      "774:\tlearn: 0.0828154\ttotal: 709ms\tremaining: 206ms\n",
      "775:\tlearn: 0.0827491\ttotal: 710ms\tremaining: 205ms\n",
      "776:\tlearn: 0.0825308\ttotal: 711ms\tremaining: 204ms\n",
      "777:\tlearn: 0.0824657\ttotal: 712ms\tremaining: 203ms\n",
      "778:\tlearn: 0.0823839\ttotal: 713ms\tremaining: 202ms\n",
      "779:\tlearn: 0.0821855\ttotal: 713ms\tremaining: 201ms\n",
      "780:\tlearn: 0.0820680\ttotal: 714ms\tremaining: 200ms\n",
      "781:\tlearn: 0.0818565\ttotal: 715ms\tremaining: 199ms\n",
      "782:\tlearn: 0.0817414\ttotal: 716ms\tremaining: 198ms\n",
      "783:\tlearn: 0.0816326\ttotal: 717ms\tremaining: 198ms\n",
      "784:\tlearn: 0.0815267\ttotal: 718ms\tremaining: 197ms\n",
      "785:\tlearn: 0.0814588\ttotal: 719ms\tremaining: 196ms\n",
      "786:\tlearn: 0.0813129\ttotal: 719ms\tremaining: 195ms\n",
      "787:\tlearn: 0.0810741\ttotal: 720ms\tremaining: 194ms\n",
      "788:\tlearn: 0.0809376\ttotal: 721ms\tremaining: 193ms\n",
      "789:\tlearn: 0.0807986\ttotal: 722ms\tremaining: 192ms\n",
      "790:\tlearn: 0.0806832\ttotal: 723ms\tremaining: 191ms\n",
      "791:\tlearn: 0.0806767\ttotal: 723ms\tremaining: 190ms\n",
      "792:\tlearn: 0.0805655\ttotal: 724ms\tremaining: 189ms\n",
      "793:\tlearn: 0.0804601\ttotal: 725ms\tremaining: 188ms\n",
      "794:\tlearn: 0.0803868\ttotal: 726ms\tremaining: 187ms\n",
      "795:\tlearn: 0.0802438\ttotal: 727ms\tremaining: 186ms\n",
      "796:\tlearn: 0.0800767\ttotal: 727ms\tremaining: 185ms\n",
      "797:\tlearn: 0.0799425\ttotal: 728ms\tremaining: 184ms\n",
      "798:\tlearn: 0.0798218\ttotal: 729ms\tremaining: 183ms\n",
      "799:\tlearn: 0.0797727\ttotal: 730ms\tremaining: 182ms\n",
      "800:\tlearn: 0.0796594\ttotal: 730ms\tremaining: 181ms\n",
      "801:\tlearn: 0.0795925\ttotal: 731ms\tremaining: 181ms\n",
      "802:\tlearn: 0.0794496\ttotal: 732ms\tremaining: 180ms\n",
      "803:\tlearn: 0.0794150\ttotal: 733ms\tremaining: 179ms\n",
      "804:\tlearn: 0.0793061\ttotal: 734ms\tremaining: 178ms\n",
      "805:\tlearn: 0.0792057\ttotal: 735ms\tremaining: 177ms\n",
      "806:\tlearn: 0.0789350\ttotal: 735ms\tremaining: 176ms\n",
      "807:\tlearn: 0.0788778\ttotal: 736ms\tremaining: 175ms\n",
      "808:\tlearn: 0.0787751\ttotal: 737ms\tremaining: 174ms\n",
      "809:\tlearn: 0.0787087\ttotal: 738ms\tremaining: 173ms\n",
      "810:\tlearn: 0.0785915\ttotal: 739ms\tremaining: 172ms\n",
      "811:\tlearn: 0.0785183\ttotal: 739ms\tremaining: 171ms\n",
      "812:\tlearn: 0.0783751\ttotal: 740ms\tremaining: 170ms\n",
      "813:\tlearn: 0.0783223\ttotal: 741ms\tremaining: 169ms\n",
      "814:\tlearn: 0.0781407\ttotal: 742ms\tremaining: 168ms\n",
      "815:\tlearn: 0.0780424\ttotal: 743ms\tremaining: 167ms\n",
      "816:\tlearn: 0.0778908\ttotal: 744ms\tremaining: 167ms\n",
      "817:\tlearn: 0.0776794\ttotal: 744ms\tremaining: 166ms\n",
      "818:\tlearn: 0.0775637\ttotal: 745ms\tremaining: 165ms\n",
      "819:\tlearn: 0.0773570\ttotal: 746ms\tremaining: 164ms\n",
      "820:\tlearn: 0.0771557\ttotal: 747ms\tremaining: 163ms\n",
      "821:\tlearn: 0.0770882\ttotal: 748ms\tremaining: 162ms\n",
      "822:\tlearn: 0.0770506\ttotal: 748ms\tremaining: 161ms\n",
      "823:\tlearn: 0.0768543\ttotal: 749ms\tremaining: 160ms\n",
      "824:\tlearn: 0.0767236\ttotal: 750ms\tremaining: 159ms\n",
      "825:\tlearn: 0.0765577\ttotal: 751ms\tremaining: 158ms\n",
      "826:\tlearn: 0.0764335\ttotal: 752ms\tremaining: 157ms\n",
      "827:\tlearn: 0.0763412\ttotal: 753ms\tremaining: 156ms\n",
      "828:\tlearn: 0.0762300\ttotal: 753ms\tremaining: 155ms\n",
      "829:\tlearn: 0.0760958\ttotal: 754ms\tremaining: 155ms\n",
      "830:\tlearn: 0.0759201\ttotal: 755ms\tremaining: 154ms\n",
      "831:\tlearn: 0.0758141\ttotal: 756ms\tremaining: 153ms\n",
      "832:\tlearn: 0.0757913\ttotal: 757ms\tremaining: 152ms\n",
      "833:\tlearn: 0.0757843\ttotal: 758ms\tremaining: 151ms\n",
      "834:\tlearn: 0.0756195\ttotal: 759ms\tremaining: 150ms\n",
      "835:\tlearn: 0.0754884\ttotal: 760ms\tremaining: 149ms\n",
      "836:\tlearn: 0.0754110\ttotal: 760ms\tremaining: 148ms\n",
      "837:\tlearn: 0.0754029\ttotal: 761ms\tremaining: 147ms\n"
     ]
    },
    {
     "name": "stdout",
     "output_type": "stream",
     "text": [
      "838:\tlearn: 0.0752932\ttotal: 762ms\tremaining: 146ms\n",
      "839:\tlearn: 0.0751605\ttotal: 763ms\tremaining: 145ms\n",
      "840:\tlearn: 0.0751298\ttotal: 764ms\tremaining: 144ms\n",
      "841:\tlearn: 0.0750200\ttotal: 765ms\tremaining: 144ms\n",
      "842:\tlearn: 0.0749655\ttotal: 766ms\tremaining: 143ms\n",
      "843:\tlearn: 0.0748737\ttotal: 767ms\tremaining: 142ms\n",
      "844:\tlearn: 0.0747791\ttotal: 768ms\tremaining: 141ms\n",
      "845:\tlearn: 0.0745699\ttotal: 768ms\tremaining: 140ms\n",
      "846:\tlearn: 0.0744840\ttotal: 769ms\tremaining: 139ms\n",
      "847:\tlearn: 0.0744065\ttotal: 770ms\tremaining: 138ms\n",
      "848:\tlearn: 0.0743869\ttotal: 771ms\tremaining: 137ms\n",
      "849:\tlearn: 0.0743051\ttotal: 772ms\tremaining: 136ms\n",
      "850:\tlearn: 0.0742168\ttotal: 772ms\tremaining: 135ms\n",
      "851:\tlearn: 0.0741398\ttotal: 773ms\tremaining: 134ms\n",
      "852:\tlearn: 0.0740273\ttotal: 774ms\tremaining: 133ms\n",
      "853:\tlearn: 0.0739428\ttotal: 775ms\tremaining: 133ms\n",
      "854:\tlearn: 0.0738657\ttotal: 776ms\tremaining: 132ms\n",
      "855:\tlearn: 0.0738048\ttotal: 777ms\tremaining: 131ms\n",
      "856:\tlearn: 0.0736955\ttotal: 778ms\tremaining: 130ms\n",
      "857:\tlearn: 0.0736085\ttotal: 778ms\tremaining: 129ms\n",
      "858:\tlearn: 0.0734672\ttotal: 779ms\tremaining: 128ms\n",
      "859:\tlearn: 0.0732805\ttotal: 780ms\tremaining: 127ms\n",
      "860:\tlearn: 0.0730916\ttotal: 781ms\tremaining: 126ms\n",
      "861:\tlearn: 0.0729228\ttotal: 782ms\tremaining: 125ms\n",
      "862:\tlearn: 0.0728905\ttotal: 782ms\tremaining: 124ms\n",
      "863:\tlearn: 0.0728273\ttotal: 783ms\tremaining: 123ms\n",
      "864:\tlearn: 0.0727865\ttotal: 784ms\tremaining: 122ms\n",
      "865:\tlearn: 0.0727084\ttotal: 785ms\tremaining: 121ms\n",
      "866:\tlearn: 0.0725590\ttotal: 786ms\tremaining: 121ms\n",
      "867:\tlearn: 0.0724588\ttotal: 787ms\tremaining: 120ms\n",
      "868:\tlearn: 0.0723641\ttotal: 788ms\tremaining: 119ms\n",
      "869:\tlearn: 0.0721959\ttotal: 788ms\tremaining: 118ms\n",
      "870:\tlearn: 0.0721284\ttotal: 789ms\tremaining: 117ms\n",
      "871:\tlearn: 0.0720903\ttotal: 790ms\tremaining: 116ms\n",
      "872:\tlearn: 0.0719488\ttotal: 791ms\tremaining: 115ms\n",
      "873:\tlearn: 0.0718148\ttotal: 792ms\tremaining: 114ms\n",
      "874:\tlearn: 0.0716846\ttotal: 793ms\tremaining: 113ms\n",
      "875:\tlearn: 0.0715393\ttotal: 794ms\tremaining: 112ms\n",
      "876:\tlearn: 0.0714963\ttotal: 794ms\tremaining: 111ms\n",
      "877:\tlearn: 0.0713469\ttotal: 795ms\tremaining: 111ms\n",
      "878:\tlearn: 0.0712071\ttotal: 796ms\tremaining: 110ms\n",
      "879:\tlearn: 0.0711651\ttotal: 797ms\tremaining: 109ms\n",
      "880:\tlearn: 0.0710330\ttotal: 798ms\tremaining: 108ms\n",
      "881:\tlearn: 0.0710063\ttotal: 799ms\tremaining: 107ms\n",
      "882:\tlearn: 0.0708696\ttotal: 799ms\tremaining: 106ms\n",
      "883:\tlearn: 0.0707566\ttotal: 800ms\tremaining: 105ms\n",
      "884:\tlearn: 0.0706200\ttotal: 801ms\tremaining: 104ms\n",
      "885:\tlearn: 0.0705914\ttotal: 802ms\tremaining: 103ms\n",
      "886:\tlearn: 0.0704771\ttotal: 803ms\tremaining: 102ms\n",
      "887:\tlearn: 0.0704009\ttotal: 804ms\tremaining: 101ms\n",
      "888:\tlearn: 0.0702194\ttotal: 805ms\tremaining: 100ms\n",
      "889:\tlearn: 0.0700664\ttotal: 805ms\tremaining: 99.5ms\n",
      "890:\tlearn: 0.0700273\ttotal: 806ms\tremaining: 98.6ms\n",
      "891:\tlearn: 0.0698357\ttotal: 807ms\tremaining: 97.7ms\n",
      "892:\tlearn: 0.0697010\ttotal: 808ms\tremaining: 96.8ms\n",
      "893:\tlearn: 0.0696321\ttotal: 809ms\tremaining: 95.9ms\n",
      "894:\tlearn: 0.0695584\ttotal: 809ms\tremaining: 95ms\n",
      "895:\tlearn: 0.0694387\ttotal: 810ms\tremaining: 94ms\n",
      "896:\tlearn: 0.0692275\ttotal: 811ms\tremaining: 93.1ms\n",
      "897:\tlearn: 0.0691347\ttotal: 812ms\tremaining: 92.2ms\n",
      "898:\tlearn: 0.0689760\ttotal: 813ms\tremaining: 91.3ms\n",
      "899:\tlearn: 0.0688446\ttotal: 813ms\tremaining: 90.4ms\n",
      "900:\tlearn: 0.0686984\ttotal: 814ms\tremaining: 89.4ms\n",
      "901:\tlearn: 0.0686214\ttotal: 815ms\tremaining: 88.6ms\n",
      "902:\tlearn: 0.0684760\ttotal: 816ms\tremaining: 87.7ms\n",
      "903:\tlearn: 0.0683811\ttotal: 817ms\tremaining: 86.8ms\n",
      "904:\tlearn: 0.0683010\ttotal: 818ms\tremaining: 85.8ms\n",
      "905:\tlearn: 0.0681476\ttotal: 819ms\tremaining: 85ms\n",
      "906:\tlearn: 0.0681342\ttotal: 820ms\tremaining: 84ms\n",
      "907:\tlearn: 0.0680161\ttotal: 820ms\tremaining: 83.1ms\n",
      "908:\tlearn: 0.0678977\ttotal: 821ms\tremaining: 82.2ms\n",
      "909:\tlearn: 0.0678181\ttotal: 822ms\tremaining: 81.3ms\n",
      "910:\tlearn: 0.0677418\ttotal: 823ms\tremaining: 80.4ms\n",
      "911:\tlearn: 0.0676485\ttotal: 824ms\tremaining: 79.5ms\n",
      "912:\tlearn: 0.0674923\ttotal: 825ms\tremaining: 78.6ms\n",
      "913:\tlearn: 0.0673380\ttotal: 825ms\tremaining: 77.7ms\n",
      "914:\tlearn: 0.0672692\ttotal: 826ms\tremaining: 76.8ms\n",
      "915:\tlearn: 0.0671790\ttotal: 827ms\tremaining: 75.8ms\n",
      "916:\tlearn: 0.0670746\ttotal: 828ms\tremaining: 74.9ms\n",
      "917:\tlearn: 0.0669993\ttotal: 829ms\tremaining: 74ms\n",
      "918:\tlearn: 0.0668828\ttotal: 830ms\tremaining: 73.1ms\n",
      "919:\tlearn: 0.0667947\ttotal: 830ms\tremaining: 72.2ms\n",
      "920:\tlearn: 0.0666973\ttotal: 831ms\tremaining: 71.3ms\n",
      "921:\tlearn: 0.0666112\ttotal: 832ms\tremaining: 70.4ms\n",
      "922:\tlearn: 0.0664847\ttotal: 833ms\tremaining: 69.5ms\n",
      "923:\tlearn: 0.0664748\ttotal: 834ms\tremaining: 68.6ms\n",
      "924:\tlearn: 0.0664666\ttotal: 834ms\tremaining: 67.7ms\n",
      "925:\tlearn: 0.0663820\ttotal: 835ms\tremaining: 66.7ms\n",
      "926:\tlearn: 0.0662429\ttotal: 836ms\tremaining: 65.8ms\n",
      "927:\tlearn: 0.0661765\ttotal: 837ms\tremaining: 64.9ms\n",
      "928:\tlearn: 0.0661092\ttotal: 838ms\tremaining: 64ms\n",
      "929:\tlearn: 0.0660388\ttotal: 839ms\tremaining: 63.1ms\n",
      "930:\tlearn: 0.0659746\ttotal: 839ms\tremaining: 62.2ms\n",
      "931:\tlearn: 0.0658800\ttotal: 840ms\tremaining: 61.3ms\n",
      "932:\tlearn: 0.0658228\ttotal: 841ms\tremaining: 60.4ms\n",
      "933:\tlearn: 0.0656826\ttotal: 842ms\tremaining: 59.5ms\n",
      "934:\tlearn: 0.0655557\ttotal: 843ms\tremaining: 58.6ms\n",
      "935:\tlearn: 0.0653903\ttotal: 844ms\tremaining: 57.7ms\n",
      "936:\tlearn: 0.0652898\ttotal: 845ms\tremaining: 56.8ms\n",
      "937:\tlearn: 0.0651665\ttotal: 846ms\tremaining: 55.9ms\n",
      "938:\tlearn: 0.0650944\ttotal: 846ms\tremaining: 55ms\n",
      "939:\tlearn: 0.0650072\ttotal: 847ms\tremaining: 54.1ms\n",
      "940:\tlearn: 0.0649345\ttotal: 848ms\tremaining: 53.2ms\n",
      "941:\tlearn: 0.0649284\ttotal: 849ms\tremaining: 52.3ms\n",
      "942:\tlearn: 0.0648617\ttotal: 850ms\tremaining: 51.4ms\n",
      "943:\tlearn: 0.0647345\ttotal: 850ms\tremaining: 50.4ms\n",
      "944:\tlearn: 0.0647268\ttotal: 851ms\tremaining: 49.5ms\n",
      "945:\tlearn: 0.0646278\ttotal: 852ms\tremaining: 48.6ms\n",
      "946:\tlearn: 0.0645764\ttotal: 853ms\tremaining: 47.7ms\n",
      "947:\tlearn: 0.0645678\ttotal: 854ms\tremaining: 46.8ms\n",
      "948:\tlearn: 0.0644780\ttotal: 855ms\tremaining: 45.9ms\n",
      "949:\tlearn: 0.0644675\ttotal: 855ms\tremaining: 45ms\n",
      "950:\tlearn: 0.0644623\ttotal: 856ms\tremaining: 44.1ms\n",
      "951:\tlearn: 0.0644455\ttotal: 857ms\tremaining: 43.2ms\n",
      "952:\tlearn: 0.0643904\ttotal: 858ms\tremaining: 42.3ms\n",
      "953:\tlearn: 0.0642876\ttotal: 858ms\tremaining: 41.4ms\n",
      "954:\tlearn: 0.0642795\ttotal: 859ms\tremaining: 40.5ms\n",
      "955:\tlearn: 0.0642719\ttotal: 860ms\tremaining: 39.6ms\n",
      "956:\tlearn: 0.0641637\ttotal: 861ms\tremaining: 38.7ms\n",
      "957:\tlearn: 0.0639808\ttotal: 862ms\tremaining: 37.8ms\n",
      "958:\tlearn: 0.0638853\ttotal: 862ms\tremaining: 36.9ms\n",
      "959:\tlearn: 0.0637674\ttotal: 863ms\tremaining: 36ms\n",
      "960:\tlearn: 0.0637295\ttotal: 864ms\tremaining: 35.1ms\n",
      "961:\tlearn: 0.0636827\ttotal: 865ms\tremaining: 34.2ms\n",
      "962:\tlearn: 0.0635360\ttotal: 866ms\tremaining: 33.3ms\n",
      "963:\tlearn: 0.0634344\ttotal: 867ms\tremaining: 32.4ms\n",
      "964:\tlearn: 0.0633748\ttotal: 867ms\tremaining: 31.5ms\n",
      "965:\tlearn: 0.0633232\ttotal: 868ms\tremaining: 30.6ms\n",
      "966:\tlearn: 0.0632821\ttotal: 869ms\tremaining: 29.7ms\n"
     ]
    },
    {
     "name": "stdout",
     "output_type": "stream",
     "text": [
      "967:\tlearn: 0.0632171\ttotal: 870ms\tremaining: 28.8ms\n",
      "968:\tlearn: 0.0631353\ttotal: 871ms\tremaining: 27.9ms\n",
      "969:\tlearn: 0.0630728\ttotal: 872ms\tremaining: 27ms\n",
      "970:\tlearn: 0.0630626\ttotal: 873ms\tremaining: 26.1ms\n",
      "971:\tlearn: 0.0629469\ttotal: 873ms\tremaining: 25.2ms\n",
      "972:\tlearn: 0.0628670\ttotal: 874ms\tremaining: 24.3ms\n",
      "973:\tlearn: 0.0628586\ttotal: 876ms\tremaining: 23.4ms\n",
      "974:\tlearn: 0.0628018\ttotal: 876ms\tremaining: 22.5ms\n",
      "975:\tlearn: 0.0627544\ttotal: 877ms\tremaining: 21.6ms\n",
      "976:\tlearn: 0.0626703\ttotal: 878ms\tremaining: 20.7ms\n",
      "977:\tlearn: 0.0626123\ttotal: 879ms\tremaining: 19.8ms\n",
      "978:\tlearn: 0.0625301\ttotal: 880ms\tremaining: 18.9ms\n",
      "979:\tlearn: 0.0625034\ttotal: 880ms\tremaining: 18ms\n",
      "980:\tlearn: 0.0623384\ttotal: 881ms\tremaining: 17.1ms\n",
      "981:\tlearn: 0.0622617\ttotal: 882ms\tremaining: 16.2ms\n",
      "982:\tlearn: 0.0621406\ttotal: 883ms\tremaining: 15.3ms\n",
      "983:\tlearn: 0.0621362\ttotal: 884ms\tremaining: 14.4ms\n",
      "984:\tlearn: 0.0620859\ttotal: 885ms\tremaining: 13.5ms\n",
      "985:\tlearn: 0.0620013\ttotal: 885ms\tremaining: 12.6ms\n",
      "986:\tlearn: 0.0619460\ttotal: 886ms\tremaining: 11.7ms\n",
      "987:\tlearn: 0.0618884\ttotal: 887ms\tremaining: 10.8ms\n",
      "988:\tlearn: 0.0618092\ttotal: 888ms\tremaining: 9.87ms\n",
      "989:\tlearn: 0.0617360\ttotal: 889ms\tremaining: 8.98ms\n",
      "990:\tlearn: 0.0615940\ttotal: 890ms\tremaining: 8.08ms\n",
      "991:\tlearn: 0.0615757\ttotal: 890ms\tremaining: 7.18ms\n",
      "992:\tlearn: 0.0614568\ttotal: 891ms\tremaining: 6.28ms\n",
      "993:\tlearn: 0.0613871\ttotal: 892ms\tremaining: 5.39ms\n",
      "994:\tlearn: 0.0613038\ttotal: 893ms\tremaining: 4.49ms\n",
      "995:\tlearn: 0.0612173\ttotal: 894ms\tremaining: 3.59ms\n",
      "996:\tlearn: 0.0611671\ttotal: 895ms\tremaining: 2.69ms\n",
      "997:\tlearn: 0.0610899\ttotal: 895ms\tremaining: 1.79ms\n",
      "998:\tlearn: 0.0610287\ttotal: 896ms\tremaining: 897us\n",
      "999:\tlearn: 0.0609670\ttotal: 897ms\tremaining: 0us\n"
     ]
    },
    {
     "data": {
      "text/plain": [
       "<catboost.core.CatBoostRegressor at 0x7feb13598e20>"
      ]
     },
     "execution_count": 9,
     "metadata": {},
     "output_type": "execute_result"
    }
   ],
   "source": [
    "#Train the Model \n",
    "prior_model = ctb.CatBoostRegressor()\n",
    "prior_model.fit(X_train,Y_train)"
   ]
  },
  {
   "cell_type": "code",
   "execution_count": 10,
   "id": "af65dcda",
   "metadata": {
    "execution": {
     "iopub.execute_input": "2022-06-12T06:58:45.674881Z",
     "iopub.status.busy": "2022-06-12T06:58:45.674499Z",
     "iopub.status.idle": "2022-06-12T06:58:45.681853Z",
     "shell.execute_reply": "2022-06-12T06:58:45.682151Z"
    },
    "id": "af65dcda",
    "papermill": {
     "duration": 0.020889,
     "end_time": "2022-06-12T06:58:45.682265",
     "exception": false,
     "start_time": "2022-06-12T06:58:45.661376",
     "status": "completed"
    },
    "tags": []
   },
   "outputs": [
    {
     "data": {
      "application/scrapbook.scrap.json+json": {
       "data": 0.1375235602937681,
       "encoder": "json",
       "name": "Prior Model MSE",
       "version": 1
      }
     },
     "metadata": {
      "scrapbook": {
       "data": true,
       "display": false,
       "name": "Prior Model MSE"
      }
     },
     "output_type": "display_data"
    },
    {
     "data": {
      "application/scrapbook.scrap.json+json": {
       "data": 0.1453058143020089,
       "encoder": "json",
       "name": "ABC Pre-generator MSE",
       "version": 1
      }
     },
     "metadata": {
      "scrapbook": {
       "data": true,
       "display": false,
       "name": "ABC Pre-generator MSE"
      }
     },
     "output_type": "display_data"
    },
    {
     "data": {
      "application/scrapbook.scrap.json+json": {
       "data": 0.23260745544946537,
       "encoder": "json",
       "name": "Prior Model MSE",
       "version": 1
      }
     },
     "metadata": {
      "scrapbook": {
       "data": true,
       "display": false,
       "name": "Prior Model MSE"
      }
     },
     "output_type": "display_data"
    },
    {
     "data": {
      "application/scrapbook.scrap.json+json": {
       "data": 0.2637895547888507,
       "encoder": "json",
       "name": "ABC Pre-generator MSE",
       "version": 1
      }
     },
     "metadata": {
      "scrapbook": {
       "data": true,
       "display": false,
       "name": "ABC Pre-generator MSE"
      }
     },
     "output_type": "display_data"
    }
   ],
   "source": [
    "y_pred = prior_model.predict(X_test)\n",
    "y_abc = y_pred + np.random.normal(0,variance, y_pred.shape) + bias \n",
    "mse = mean_squared_error(y_pred,Y_test)\n",
    "sb.glue(\"Prior Model MSE\",mse)\n",
    "mse = mean_squared_error(y_abc,Y_test)\n",
    "sb.glue(\"ABC Pre-generator MSE\",mse)\n",
    "mae = mean_absolute_error(y_pred,Y_test)\n",
    "sb.glue(\"Prior Model MSE\",mae)\n",
    "mae = mean_absolute_error(y_abc,Y_test)\n",
    "sb.glue(\"ABC Pre-generator MSE\",mae)"
   ]
  },
  {
   "cell_type": "markdown",
   "id": "25609da2",
   "metadata": {
    "papermill": {
     "duration": 0.010005,
     "end_time": "2022-06-12T06:58:45.702380",
     "exception": false,
     "start_time": "2022-06-12T06:58:45.692375",
     "status": "completed"
    },
    "tags": []
   },
   "source": [
    "# ABC GAN Model"
   ]
  },
  {
   "cell_type": "code",
   "execution_count": 11,
   "id": "dfc3464d",
   "metadata": {
    "execution": {
     "iopub.execute_input": "2022-06-12T06:58:45.724982Z",
     "iopub.status.busy": "2022-06-12T06:58:45.724616Z",
     "iopub.status.idle": "2022-06-12T06:58:45.727274Z",
     "shell.execute_reply": "2022-06-12T06:58:45.727523Z"
    },
    "papermill": {
     "duration": 0.015343,
     "end_time": "2022-06-12T06:58:45.727631",
     "exception": false,
     "start_time": "2022-06-12T06:58:45.712288",
     "status": "completed"
    },
    "tags": []
   },
   "outputs": [],
   "source": [
    "gen = network.Generator(n_features+1).to(device)\n",
    "disc = network.Discriminator(n_features+1).to(device)\n",
    "\n",
    "criterion = torch.nn.BCELoss()\n",
    "gen_opt = torch.optim.Adam(gen.parameters(), lr=0.001, betas=(0.5, 0.999))\n",
    "disc_opt = torch.optim.Adam(disc.parameters(), lr=0.001, betas=(0.5, 0.999))"
   ]
  },
  {
   "cell_type": "code",
   "execution_count": 12,
   "id": "b75fdd85",
   "metadata": {
    "execution": {
     "iopub.execute_input": "2022-06-12T06:58:45.750189Z",
     "iopub.status.busy": "2022-06-12T06:58:45.749830Z",
     "iopub.status.idle": "2022-06-12T06:59:45.956638Z",
     "shell.execute_reply": "2022-06-12T06:59:45.956931Z"
    },
    "papermill": {
     "duration": 60.219453,
     "end_time": "2022-06-12T06:59:45.957051",
     "exception": false,
     "start_time": "2022-06-12T06:58:45.737598",
     "status": "completed"
    },
    "tags": []
   },
   "outputs": [
    {
     "data": {
      "image/png": "[encoded data removed]",
      "text/plain": [
       "<Figure size 432x288 with 1 Axes>"
      ]
     },
     "metadata": {
      "needs_background": "light"
     },
     "output_type": "display_data"
    },
    {
     "data": {
      "image/png": "[encoded data removed]",
      "text/plain": [
       "<Figure size 432x288 with 1 Axes>"
      ]
     },
     "metadata": {
      "needs_background": "light"
     },
     "output_type": "display_data"
    }
   ],
   "source": [
    "#Training the ABC_GAN \n",
    "ABC_train_test2.training_GAN(disc,gen,disc_opt,gen_opt,train_data,batch_size,n_epochs,criterion,prior_model,variance,bias,device)"
   ]
  },
  {
   "cell_type": "code",
   "execution_count": 13,
   "id": "1fa7c368",
   "metadata": {
    "execution": {
     "iopub.execute_input": "2022-06-12T06:59:45.981667Z",
     "iopub.status.busy": "2022-06-12T06:59:45.981289Z",
     "iopub.status.idle": "2022-06-12T06:59:46.293217Z",
     "shell.execute_reply": "2022-06-12T06:59:46.293461Z"
    },
    "papermill": {
     "duration": 0.32565,
     "end_time": "2022-06-12T06:59:46.293583",
     "exception": false,
     "start_time": "2022-06-12T06:59:45.967933",
     "status": "completed"
    },
    "tags": []
   },
   "outputs": [
    {
     "data": {
      "application/scrapbook.scrap.json+json": {
       "data": 0.1476608030963274,
       "encoder": "json",
       "name": "ABC-GAN Model 1 MSE",
       "version": 1
      }
     },
     "metadata": {
      "scrapbook": {
       "data": true,
       "display": false,
       "name": "ABC-GAN Model 1 MSE"
      }
     },
     "output_type": "display_data"
    },
    {
     "data": {
      "application/scrapbook.scrap.json+json": {
       "data": 0.24358345206132997,
       "encoder": "json",
       "name": "ABC-GAN Model 1 MAE",
       "version": 1
      }
     },
     "metadata": {
      "scrapbook": {
       "data": true,
       "display": false,
       "name": "ABC-GAN Model 1 MAE"
      }
     },
     "output_type": "display_data"
    },
    {
     "data": {
      "application/scrapbook.scrap.json+json": {
       "data": 24.845512110255658,
       "encoder": "json",
       "name": "ABC-GAN Model 1 Manhattan Distance",
       "version": 1
      }
     },
     "metadata": {
      "scrapbook": {
       "data": true,
       "display": false,
       "name": "ABC-GAN Model 1 Manhattan Distance"
      }
     },
     "output_type": "display_data"
    },
    {
     "data": {
      "application/scrapbook.scrap.json+json": {
       "data": 3.8798823812323584,
       "encoder": "json",
       "name": "ABC-GAN Model 1 Euclidean distance",
       "version": 1
      }
     },
     "metadata": {
      "scrapbook": {
       "data": true,
       "display": false,
       "name": "ABC-GAN Model 1 Euclidean distance"
      }
     },
     "output_type": "display_data"
    },
    {
     "data": {
      "application/scrapbook.scrap.json+json": {
       "data": [
        [
         0.15206780980878845,
         0.1378797632782358,
         0.14870612589464755,
         0.15751469251767236,
         0.14266850370510334,
         0.15430222652076878,
         0.14512559904457928,
         0.1478926449708823,
         0.14266708061761252,
         0.15252787917564498,
         0.1493722359823274,
         0.15351035759859152,
         0.13724662031815182,
         0.14755543642081462,
         0.14484132233134722,
         0.14005547907378138,
         0.14661025298463207,
         0.14897511451098472,
         0.1632432454947941,
         0.14156486499738793,
         0.1571548785493715,
         0.15109342155505487,
         0.14891894365218677,
         0.15771881821683856,
         0.14763857004995365,
         0.13511514017705092,
         0.150842946927109,
         0.1467154203834351,
         0.15254836043923148,
         0.14846341754062456,
         0.1417420662215671,
         0.1478178233540597,
         0.15461937093852884,
         0.1363688031185594,
         0.16351538718268782,
         0.14757577919797782,
         0.15285300405524224,
         0.13387445059790015,
         0.14381690866536614,
         0.147984937470391,
         0.15607315738586394,
         0.14230373109686023,
         0.1515646763516984,
         0.15194944770644525,
         0.1475057127717296,
         0.15436529043131217,
         0.14256902918856412,
         0.14753450073882218,
         0.1404685869143445,
         0.15844604111963792,
         0.14998136132119336,
         0.13809777741644874,
         0.158088557211575,
         0.142591358325028,
         0.1500064678153241,
         0.1461733061788901,
         0.1437253914007611,
         0.147456589421396,
         0.1406278524928052,
         0.14031057790370446,
         0.15108662660562666,
         0.14574366219946897,
         0.16042168915638536,
         0.1463091682461569,
         0.15100152892188254,
         0.1465367412215919,
         0.1474160077213347,
         0.1534877080502191,
         0.14235332449372712,
         0.14403073042015668,
         0.1459965567625597,
         0.14448323327473891,
         0.14370546958070005,
         0.1400709606933534,
         0.13504079649532422,
         0.15521855061823156,
         0.15270022667944563,
         0.14694234510543092,
         0.14404061860983405,
         0.1444237174272443,
         0.14054472990921751,
         0.145109498236259,
         0.1445770181149718,
         0.1548039183317548,
         0.13497550905529462,
         0.1395161385014865,
         0.14777209745157519,
         0.14249114924451264,
         0.1550490093796739,
         0.14051812628412028,
         0.14988980473054345,
         0.14448280153819582,
         0.15908191947898898,
         0.14164793389199806,
         0.16325138809140646,
         0.140795787556711,
         0.13989256956600435,
         0.16367721272525534,
         0.1512886088256709,
         0.15516030970339784
        ],
        [
         0.24688345090686983,
         0.239175821809719,
         0.2448781323619187,
         0.24630837426429578,
         0.2434195565224132,
         0.24761982900364435,
         0.2439453823071923,
         0.2453079141365985,
         0.23500361577516385,
         0.2455569036651914,
         0.24408037371604757,
         0.24899940100480236,
         0.23926016121335766,
         0.243634875379868,
         0.23789803186139347,
         0.24239867311153634,
         0.24619731349943608,
         0.24287525892221168,
         0.2597689958307527,
         0.24248267910169327,
         0.24516422950717456,
         0.24515044951227075,
         0.24425924590368772,
         0.24869843341373638,
         0.2387919111414721,
         0.23216826931628234,
         0.24124415133915403,
         0.24330060015085572,
         0.24164859365270125,
         0.2472097007649056,
         0.23440578557076117,
         0.24529508682990483,
         0.24974733213985376,
         0.2419428435227304,
         0.2568679822919269,
         0.24491570403288102,
         0.24695299152175293,
         0.23175041979251831,
         0.24487038879819653,
         0.24529311129385056,
         0.2502986488078593,
         0.2409780614498053,
         0.24309105607772283,
         0.2520293106836285,
         0.23881367775702886,
         0.24131394476246307,
         0.23615867501197785,
         0.24300134739856802,
         0.23815264095387914,
         0.24909393755061662,
         0.24913426557117524,
         0.23421753043601035,
         0.2507528240390706,
         0.24099889477057493,
         0.2400154384017429,
         0.24258459332928645,
         0.2409161417197217,
         0.24810257564097934,
         0.24361307651498446,
         0.24432313466882882,
         0.24724427569547996,
         0.24038856913901718,
         0.250779140621935,
         0.23809958752427324,
         0.24914415654561975,
         0.24612494900493936,
         0.24676811376440466,
         0.2523647424691886,
         0.2378436829803475,
         0.24328177929034128,
         0.24076811219656877,
         0.24504613009847553,
         0.2388203605991222,
         0.2393895635545692,
         0.2347451762442349,
         0.24965162654681242,
         0.2491265845338942,
         0.2418545198845951,
         0.24202196803126558,
         0.24332519199735686,
         0.2407927242399869,
         0.24462058244492202,
         0.23840453628194974,
         0.24417679383437715,
         0.23398687715149102,
         0.23955587709468662,
         0.24733315151659588,
         0.23973089923132576,
         0.2498844373587738,
         0.24761971432313906,
         0.2397855669899168,
         0.23662173579100007,
         0.25432204680663406,
         0.23206266146335824,
         0.24810419029866657,
         0.23633286220879823,
         0.24084566258734055,
         0.2527511979855013,
         0.24374166856903365,
         0.24792203879641259
        ],
        [
         25.182111992500722,
         24.39593382459134,
         24.977569500915706,
         25.12345417495817,
         24.828794765286148,
         25.257222558371723,
         24.882428995333612,
         25.021407241933048,
         23.970368809066713,
         25.046804173849523,
         24.896198119036853,
         25.39793890248984,
         24.40453644376248,
         24.850757288746536,
         24.265599249862134,
         24.724664657376707,
         25.11212597694248,
         24.77327641006559,
         26.496437574736774,
         24.733233268372715,
         25.006751409731805,
         25.005345850251615,
         24.91444308217615,
         25.36724020820111,
         24.356774936430156,
         23.6811634702608,
         24.60690343659371,
         24.816661215387285,
         24.64815655257553,
         25.21538947802037,
         23.909390128217638,
         25.020098856650293,
         25.474227878265083,
         24.678170039318502,
         26.200534193776548,
         24.981401811353862,
         25.1892051352188,
         23.638542818836868,
         24.976779657416046,
         25.01989735197276,
         25.53046217840165,
         24.57976226788014,
         24.795287719927728,
         25.706989689730108,
         24.358995131216943,
         24.614022365771234,
         24.08818485122174,
         24.786137434653938,
         24.291569377295673,
         25.407581630162895,
         25.411695088259876,
         23.890188104473054,
         25.576788051985204,
         24.581887266598642,
         24.481574716977775,
         24.74362851958722,
         24.573446455411613,
         25.306462715379894,
         24.848533804528415,
         24.92095973622054,
         25.218916120938957,
         24.519634052179754,
         25.579472343437374,
         24.28615792747587,
         25.412703967653215,
         25.104744798503816,
         25.170347603969276,
         25.74120373185724,
         24.260055663995445,
         24.81474148761481,
         24.558347444050014,
         24.994705270044506,
         24.359676781110466,
         24.41773548256606,
         23.944007976911962,
         25.464465907774866,
         25.410911622457206,
         24.6691610282287,
         24.68624073918909,
         24.8191695837304,
         24.560857872478664,
         24.951299409382045,
         24.317262700758874,
         24.90603297110647,
         23.866661469452083,
         24.434699463658035,
         25.22798145469278,
         24.452551721595228,
         25.48821261059493,
         25.257210860960186,
         24.458127832971513,
         24.13541705068201,
         25.940848774276674,
         23.67039146926254,
         25.30662741046399,
         24.10595194529742,
         24.566257583908737,
         25.78062219452113,
         24.86165019404143,
         25.288047957234085
        ],
        [
         3.938390102630315,
         3.7501647769638136,
         3.894614851465295,
         4.008303710649004,
         3.8147329366445217,
         3.9672190644226353,
         3.847442150643344,
         3.883947706526182,
         3.8147139110287775,
         3.944343250265599,
         3.9033278199758454,
         3.9570262161194143,
         3.741544503604292,
         3.879517304372167,
         3.8436720564841917,
         3.7796373986833305,
         3.867071993696584,
         3.8981356672286864,
         4.080540532879069,
         3.7999495035767996,
         4.003722968942268,
         3.9257520296900563,
         3.8974007046393178,
         4.010900080794525,
         3.8806100222897006,
         3.7123771761580473,
         3.9224967286876247,
         3.868458721391554,
         3.9446080622542987,
         3.891435286516237,
         3.802327018366495,
         3.8829651018408713,
         3.971293974982202,
         3.729560016690046,
         4.083940436959647,
         3.879784720599035,
         3.9485448476159806,
         3.6952934878011807,
         3.8300554413568673,
         3.885159407537853,
         3.9899200560109116,
         3.809853090590206,
         3.9318694011720723,
         3.936857079709322,
         3.8788635839271812,
         3.968029690412339,
         3.8134028081535716,
         3.8792420748594507,
         3.785207506235707,
         4.020136340250547,
         3.9112784169324635,
         3.7531284678888586,
         4.0155986895580895,
         3.813701423702811,
         3.9116057722069915,
         3.8613051200658552,
         3.8288366278646095,
         3.8782176474486825,
         3.7873527633778887,
         3.783077972521562,
         3.925663754548257,
         3.855626219480544,
         4.045122036966414,
         3.863099165321543,
         3.924558057926015,
         3.8661023789602846,
         3.8776839463236477,
         3.9567342874044935,
         3.8105169069773415,
         3.8329015775070427,
         3.8589699130442945,
         3.838917789432767,
         3.828571260565931,
         3.779846291943899,
         3.7113557149002934,
         3.9789812971487586,
         3.946571058691767,
         3.87144923778602,
         3.833033145982835,
         3.8381270403126204,
         3.7862332800212117,
         3.8472287194938657,
         3.8401635183579255,
         3.9736632557174483,
         3.710458451949038,
         3.7723528635523507,
         3.882364478003149,
         3.8123611086753426,
         3.9768076338599445,
         3.7858749161825553,
         3.9100844086177253,
         3.838912053811076,
         4.028195102878816,
         3.801064226895384,
         4.080642300584977,
         3.7896134803940775,
         3.777438562800518,
         4.085960804752787,
         3.9282869167384433,
         3.9782347328616208
        ]
       ],
       "encoder": "json",
       "name": "ABC_GAN_1 Metrics",
       "version": 1
      }
     },
     "metadata": {
      "scrapbook": {
       "data": true,
       "display": false,
       "name": "ABC_GAN_1 Metrics"
      }
     },
     "output_type": "display_data"
    },
    {
     "name": "stdout",
     "output_type": "stream",
     "text": [
      "MSE\n",
      "0.1476608030963274\n"
     ]
    }
   ],
   "source": [
    "ABC_GAN1_metrics=ABC_train_test2.test_generator(gen,test_data,prior_model,variance,bias,\"1\",device)\n",
    "sb.glue(\"ABC_GAN_1 Metrics\",ABC_GAN1_metrics)\n",
    "\n",
    "print(\"MSE\")\n",
    "print(mean(ABC_GAN1_metrics[0]))"
   ]
  },
  {
   "cell_type": "code",
   "execution_count": 14,
   "id": "eb22ce5c",
   "metadata": {
    "execution": {
     "iopub.execute_input": "2022-06-12T06:59:46.328986Z",
     "iopub.status.busy": "2022-06-12T06:59:46.328597Z",
     "iopub.status.idle": "2022-06-12T06:59:46.653325Z",
     "shell.execute_reply": "2022-06-12T06:59:46.653624Z"
    },
    "papermill": {
     "duration": 0.346893,
     "end_time": "2022-06-12T06:59:46.653747",
     "exception": false,
     "start_time": "2022-06-12T06:59:46.306854",
     "status": "completed"
    },
    "tags": []
   },
   "outputs": [
    {
     "data": {
      "image/png": "[encoded data removed]",
      "text/plain": [
       "<Figure size 432x288 with 1 Axes>"
      ]
     },
     "metadata": {
      "needs_background": "light"
     },
     "output_type": "display_data"
    },
    {
     "data": {
      "image/png": "[encoded data removed]",
      "text/plain": [
       "<Figure size 432x288 with 1 Axes>"
      ]
     },
     "metadata": {
      "needs_background": "light"
     },
     "output_type": "display_data"
    },
    {
     "data": {
      "image/png": "[encoded data removed]",
      "text/plain": [
       "<Figure size 432x288 with 1 Axes>"
      ]
     },
     "metadata": {
      "needs_background": "light"
     },
     "output_type": "display_data"
    },
    {
     "data": {
      "image/png": "[encoded data removed]",
      "text/plain": [
       "<Figure size 432x288 with 1 Axes>"
      ]
     },
     "metadata": {
      "needs_background": "light"
     },
     "output_type": "display_data"
    }
   ],
   "source": [
    "sanityChecks.discProbVsError(train_data,disc,device)\n",
    "sanityChecks.discProbVsError(test_data,disc,device)"
   ]
  },
  {
   "cell_type": "markdown",
   "id": "130f3a4d",
   "metadata": {
    "id": "130f3a4d",
    "papermill": {
     "duration": 0.014541,
     "end_time": "2022-06-12T06:59:46.683309",
     "exception": false,
     "start_time": "2022-06-12T06:59:46.668768",
     "status": "completed"
    },
    "tags": []
   },
   "source": [
    "# ABC - GAN Model with skip connection"
   ]
  },
  {
   "cell_type": "code",
   "execution_count": 15,
   "id": "4e43dad1",
   "metadata": {
    "execution": {
     "iopub.execute_input": "2022-06-12T06:59:46.716477Z",
     "iopub.status.busy": "2022-06-12T06:59:46.716049Z",
     "iopub.status.idle": "2022-06-12T06:59:46.717879Z",
     "shell.execute_reply": "2022-06-12T06:59:46.718173Z"
    },
    "id": "4e43dad1",
    "papermill": {
     "duration": 0.02027,
     "end_time": "2022-06-12T06:59:46.718287",
     "exception": false,
     "start_time": "2022-06-12T06:59:46.698017",
     "status": "completed"
    },
    "tags": []
   },
   "outputs": [],
   "source": [
    "#Generator\n",
    "gen3 = network.GeneratorWithSkipConnection(n_features+1).to(device)\n",
    "constraints=network.weightConstraint()\n",
    "#Discriminator \n",
    "disc3 = network.Discriminator(n_features+1).to(device)\n",
    "\n",
    "criterion = torch.nn.BCELoss()\n",
    "gen_opt = torch.optim.Adam(gen3.parameters(), lr=0.001, betas=(0.5, 0.999))\n",
    "disc_opt = torch.optim.Adam(disc3.parameters(), lr=0.001, betas=(0.5, 0.999))\n"
   ]
  },
  {
   "cell_type": "code",
   "execution_count": 16,
   "id": "26acbc37",
   "metadata": {
    "execution": {
     "iopub.execute_input": "2022-06-12T06:59:46.750498Z",
     "iopub.status.busy": "2022-06-12T06:59:46.750125Z",
     "iopub.status.idle": "2022-06-12T07:02:41.401891Z",
     "shell.execute_reply": "2022-06-12T07:02:41.402205Z"
    },
    "id": "26acbc37",
    "papermill": {
     "duration": 174.669064,
     "end_time": "2022-06-12T07:02:41.402334",
     "exception": false,
     "start_time": "2022-06-12T06:59:46.733270",
     "status": "completed"
    },
    "tags": []
   },
   "outputs": [
    {
     "data": {
      "image/png": "[encoded data removed]",
      "text/plain": [
       "<Figure size 432x288 with 1 Axes>"
      ]
     },
     "metadata": {
      "needs_background": "light"
     },
     "output_type": "display_data"
    },
    {
     "data": {
      "image/png": "[encoded data removed]",
      "text/plain": [
       "<Figure size 432x288 with 1 Axes>"
      ]
     },
     "metadata": {
      "needs_background": "light"
     },
     "output_type": "display_data"
    }
   ],
   "source": [
    "ABC_train_test2.training_GAN_skip_connection(disc3,gen3,disc_opt,gen_opt,train_data,batch_size,n_epochs,criterion,prior_model,variance,bias,device)"
   ]
  },
  {
   "cell_type": "code",
   "execution_count": 17,
   "id": "c5e0717b",
   "metadata": {
    "execution": {
     "iopub.execute_input": "2022-06-12T07:02:41.436595Z",
     "iopub.status.busy": "2022-06-12T07:02:41.436200Z",
     "iopub.status.idle": "2022-06-12T07:02:42.254676Z",
     "shell.execute_reply": "2022-06-12T07:02:42.254978Z"
    },
    "id": "c5e0717b",
    "papermill": {
     "duration": 0.836816,
     "end_time": "2022-06-12T07:02:42.255104",
     "exception": false,
     "start_time": "2022-06-12T07:02:41.418288",
     "status": "completed"
    },
    "tags": []
   },
   "outputs": [
    {
     "data": {
      "application/scrapbook.scrap.json+json": {
       "data": 0.15621780461400075,
       "encoder": "json",
       "name": "ABC-GAN Model 3 MSE",
       "version": 1
      }
     },
     "metadata": {
      "scrapbook": {
       "data": true,
       "display": false,
       "name": "ABC-GAN Model 3 MSE"
      }
     },
     "output_type": "display_data"
    },
    {
     "data": {
      "application/scrapbook.scrap.json+json": {
       "data": 0.255275291260446,
       "encoder": "json",
       "name": "ABC-GAN Model 3 MAE",
       "version": 1
      }
     },
     "metadata": {
      "scrapbook": {
       "data": true,
       "display": false,
       "name": "ABC-GAN Model 3 MAE"
      }
     },
     "output_type": "display_data"
    },
    {
     "data": {
      "application/scrapbook.scrap.json+json": {
       "data": 26.03807970856549,
       "encoder": "json",
       "name": "ABC-GAN Model 3 Manhattan Distance",
       "version": 1
      }
     },
     "metadata": {
      "scrapbook": {
       "data": true,
       "display": false,
       "name": "ABC-GAN Model 3 Manhattan Distance"
      }
     },
     "output_type": "display_data"
    },
    {
     "data": {
      "application/scrapbook.scrap.json+json": {
       "data": 3.9904816528341853,
       "encoder": "json",
       "name": "ABC-GAN Model 3 Euclidean distance",
       "version": 1
      }
     },
     "metadata": {
      "scrapbook": {
       "data": true,
       "display": false,
       "name": "ABC-GAN Model 3 Euclidean distance"
      }
     },
     "output_type": "display_data"
    },
    {
     "data": {
      "application/scrapbook.scrap.json+json": {
       "data": [
        [
         0.16139908213510834,
         0.1564463850471016,
         0.15823379267431786,
         0.149546374765749,
         0.1563745112979502,
         0.15730081570090038,
         0.16868566883956818,
         0.16933523334765813,
         0.1542815210007369,
         0.1601295469420801,
         0.15980296083349593,
         0.16143330467934303,
         0.14573291031417807,
         0.15639997882255335,
         0.15382904823922083,
         0.15619063553512197,
         0.14824958065185506,
         0.158305964516902,
         0.15573591003997705,
         0.1640986702709614,
         0.15670351201292862,
         0.14761676148938555,
         0.16063843677463538,
         0.14818507802580252,
         0.15167367455755895,
         0.16196660776924648,
         0.1553585483028405,
         0.16066300815894308,
         0.1593145200175657,
         0.16410063757638646,
         0.1639390882467437,
         0.1545133384770323,
         0.15310009512721612,
         0.15076557455411266,
         0.13624946191149276,
         0.1425023402449733,
         0.16125818752036836,
         0.14612490442010442,
         0.13993705677111498,
         0.15112781585518242,
         0.16141890104270334,
         0.15953985291555456,
         0.15599745545101704,
         0.15452268093258034,
         0.15398532574308513,
         0.16166075826562354,
         0.1502034649679059,
         0.14131946000934398,
         0.151694085674825,
         0.16170913105869272,
         0.17053649258766085,
         0.16434072255217502,
         0.16271691410162178,
         0.1410212306606558,
         0.16038007194767082,
         0.15047579909278563,
         0.1606379738960177,
         0.15825712117869833,
         0.16538864395385605,
         0.15265360801043984,
         0.13823735525864128,
         0.14883172179204215,
         0.15896891484178396,
         0.16711382617101914,
         0.1598445168536322,
         0.1534255099345466,
         0.15846070471027324,
         0.14770827480200596,
         0.16067207957733462,
         0.141791648016617,
         0.16311008913524547,
         0.1745922985682787,
         0.15762068580020297,
         0.14306248613537556,
         0.13704748387356297,
         0.16264013536601768,
         0.16301951153271854,
         0.1720405684007291,
         0.157232337576635,
         0.15796218949241003,
         0.1697943561529108,
         0.15527868579934825,
         0.1573259125671154,
         0.15770112102843686,
         0.1538617462279965,
         0.16290501953512532,
         0.16332005620416992,
         0.16364293532409244,
         0.15497495832862063,
         0.15331375117063945,
         0.15412702116408136,
         0.14836573657326316,
         0.14369155036778403,
         0.16432242518222082,
         0.15945001807108508,
         0.1618642755990577,
         0.16039144346273296,
         0.14617242828695387,
         0.16274102109471533,
         0.14944342390932508
        ],
        [
         0.2533972497901642,
         0.2658455011653988,
         0.2590100134759411,
         0.25245403055576426,
         0.2495332581137179,
         0.25039280453404666,
         0.27044606830596046,
         0.2605583292395607,
         0.2483477606255488,
         0.2563096242774205,
         0.2531355601808458,
         0.2623487082949164,
         0.24879464853153216,
         0.2549802144423273,
         0.2538875483396445,
         0.25474711048288967,
         0.24603385806047157,
         0.2571103372245881,
         0.25766562421203537,
         0.2609398592646946,
         0.2418385810839633,
         0.24433873256887584,
         0.26066087015594047,
         0.25469658278184487,
         0.2561836049928531,
         0.2620091633962504,
         0.25861400098302495,
         0.26109148950005573,
         0.25212905710270883,
         0.25694415715577845,
         0.2648852145043658,
         0.26128703160394057,
         0.24795409444463895,
         0.2535283660753539,
         0.24812303352918402,
         0.24311890262270383,
         0.2514110520463802,
         0.25332976860341194,
         0.24950683879319066,
         0.2519890359128077,
         0.26145864383080136,
         0.2562041187604122,
         0.2587124792511995,
         0.25566257217752875,
         0.24473962529251972,
         0.2548722387839328,
         0.25205413547034067,
         0.23693497498136232,
         0.25128905534488605,
         0.2573073182675038,
         0.26199123208575387,
         0.2581761233125101,
         0.26044062087677566,
         0.24395407301684222,
         0.25922997824518995,
         0.25298691448737304,
         0.2601703642844679,
         0.2587611379704493,
         0.26069927550669686,
         0.2502402851595452,
         0.24392452498203984,
         0.25397809710828406,
         0.26257476734691393,
         0.26262528450210015,
         0.2551384796753672,
         0.25542000110498536,
         0.26727153608283283,
         0.2494701729886526,
         0.26138886603910255,
         0.24783605993634053,
         0.25735583670400813,
         0.27363152627595794,
         0.25374936811881615,
         0.24086437136044397,
         0.24302779827906074,
         0.25793055878659965,
         0.2637553000000908,
         0.2608649094004695,
         0.2618712592303899,
         0.25985190333506347,
         0.27134122831893026,
         0.25368882404348136,
         0.25400313716747014,
         0.25509675993018,
         0.2524194108851838,
         0.264877547208658,
         0.2578433102416788,
         0.26291924681258844,
         0.2536573716731486,
         0.24372503452696928,
         0.24659005051259608,
         0.24898634300402858,
         0.24725175401488064,
         0.25403993577678124,
         0.26560764448425056,
         0.25740749808941404,
         0.2566683819499232,
         0.2516264832377726,
         0.2608168119217689,
         0.2509688769065428
        ],
        [
         25.846519478596747,
         27.116241118870676,
         26.41902137454599,
         25.750311116687953,
         25.452392327599227,
         25.54006606247276,
         27.58549896720797,
         26.57694958243519,
         25.33147158380598,
         26.14358167629689,
         25.81982713844627,
         26.75956824608147,
         25.37705415021628,
         26.007981873117387,
         25.896529930643737,
         25.984205269254744,
         25.0954535221681,
         26.225254396907985,
         26.281893669627607,
         26.61586564499885,
         24.667535270564258,
         24.922550722025335,
         26.587408755905926,
         25.979051443748176,
         26.130727709271014,
         26.72493466641754,
         26.378628100268543,
         26.631331929005682,
         25.7171638244763,
         26.208304029889405,
         27.018291879445314,
         26.651277223601937,
         25.291317633353174,
         25.859893339686096,
         25.30854941997677,
         24.79812806751579,
         25.64392730873078,
         25.83963639754802,
         25.44969755690545,
         25.702881663106382,
         26.668781670741737,
         26.132820113562047,
         26.38867288362235,
         26.077582362107933,
         24.963441779837012,
         25.996968355961144,
         25.709521817974746,
         24.167367448098958,
         25.631483645178378,
         26.245346463285387,
         26.723105672746897,
         26.33396457787603,
         26.564943329431117,
         24.883315447717905,
         26.441457781009376,
         25.804665277712047,
         26.537377157015726,
         26.393636072985828,
         26.59132610168308,
         25.52450908627361,
         24.880301548168063,
         25.905765905044973,
         26.78262626938522,
         26.787779019214213,
         26.024124926887453,
         26.05284011270851,
         27.26169668044895,
         25.445957644842565,
         26.661664335988462,
         25.279278113506734,
         26.25029534380883,
         27.910415680147707,
         25.882435548119247,
         24.568165878765285,
         24.788835424464196,
         26.308916996233165,
         26.903040600009263,
         26.608220758847892,
         26.71086844149977,
         26.504894140176475,
         27.676805288530886,
         25.8762600524351,
         25.908319991081953,
         26.01986951287836,
         25.74677991028875,
         27.01750981528312,
         26.300017644651234,
         26.81776317488402,
         25.87305191066116,
         24.859953521750867,
         25.1521851522848,
         25.396606986410916,
         25.219678909517825,
         25.912073449231684,
         27.091979737393558,
         26.25556480512023,
         26.180174958892167,
         25.665901290252805,
         26.60331481602043,
         25.598825444467366
        ],
        [
         4.057426077919479,
         3.994687882025874,
         4.01744282507921,
         3.905602415262772,
         3.9937701676975506,
         4.005581506035277,
         4.148004125074607,
         4.155982892344617,
         3.9669528787313775,
         4.041437094412353,
         4.0373137114938915,
         4.057856216931914,
         3.8554839971197086,
         3.9940953719084424,
         3.961131520209916,
         3.9914214040342126,
         3.8886317936376043,
         4.0183589163642415,
         3.985606958052645,
         4.091217956506114,
         3.9979692626780814,
         3.880323397851952,
         4.047853820361205,
         3.8877857398050955,
         3.9332829550988335,
         4.064553357069277,
         3.980775292187406,
         4.048163390009375,
         4.031138926133866,
         4.0912424803220135,
         4.089228166924396,
         3.969932055420758,
         3.951735024388154,
         3.921490610025669,
         3.7279277239469466,
         3.8125108137534864,
         4.055654710040978,
         3.8606657781852407,
         3.7780391462574503,
         3.926198825483576,
         4.0576751849249515,
         4.0339887205328875,
         3.9889523005425542,
         3.970052072092152,
         3.9631430993334926,
         4.060713895744638,
         3.914173402741172,
         3.796654437916767,
         3.9335476022074722,
         4.061321382011851,
         4.170698052357831,
         4.094234201938361,
         4.073956950971061,
         3.792646243375052,
         4.044597302410021,
         3.9177201925946843,
         4.04784798842469,
         4.017738961185411,
         4.107266935967678,
         3.945968577810125,
         3.755024665216116,
         3.8962591832151388,
         4.026764124438127,
         4.128632978292446,
         4.037838619740825,
         3.9559325086916926,
         4.020322360265141,
         3.8815259924164622,
         4.048277672898455,
         3.8029919928518034,
         4.07887595935388,
         4.220001712554679,
         4.009652098576721,
         3.8199965426435014,
         3.738829142272139,
         4.072995679758794,
         4.077743270037643,
         4.18904977015962,
         4.00470953164106,
         4.013993438986394,
         4.161613188127521,
         3.97975199623463,
         4.005901032457714,
         4.01067504852993,
         3.961552488009674,
         4.076311076522839,
         4.0815004266599475,
         4.085532939906057,
         3.9758578633446264,
         3.954491448897724,
         3.9649660980563626,
         3.89015489800507,
         3.828385839686743,
         4.094006273637905,
         4.032852816958571,
         4.063269140864765,
         4.044740688004455,
         3.8612935248785853,
         4.074258724192778,
         3.904257834563588
        ]
       ],
       "encoder": "json",
       "name": "ABC_GAN_3 Metrics",
       "version": 1
      }
     },
     "metadata": {
      "scrapbook": {
       "data": true,
       "display": false,
       "name": "ABC_GAN_3 Metrics"
      }
     },
     "output_type": "display_data"
    },
    {
     "name": "stdout",
     "output_type": "stream",
     "text": [
      "MSE\n",
      "0.15621780461400075\n"
     ]
    }
   ],
   "source": [
    "ABC_GAN3_metrics=ABC_train_test2.test_generator(gen3,test_data,prior_model,variance,bias,\"3\",device)\n",
    "sb.glue(\"ABC_GAN_3 Metrics\",ABC_GAN3_metrics)\n",
    "\n",
    "print(\"MSE\")\n",
    "print(mean(ABC_GAN3_metrics[0]))"
   ]
  },
  {
   "cell_type": "code",
   "execution_count": 18,
   "id": "c8e46b48",
   "metadata": {
    "execution": {
     "iopub.execute_input": "2022-06-12T07:02:42.292510Z",
     "iopub.status.busy": "2022-06-12T07:02:42.292133Z",
     "iopub.status.idle": "2022-06-12T07:02:42.617489Z",
     "shell.execute_reply": "2022-06-12T07:02:42.617741Z"
    },
    "id": "c8e46b48",
    "papermill": {
     "duration": 0.345031,
     "end_time": "2022-06-12T07:02:42.617865",
     "exception": false,
     "start_time": "2022-06-12T07:02:42.272834",
     "status": "completed"
    },
    "tags": []
   },
   "outputs": [
    {
     "data": {
      "image/png": "[encoded data removed]",
      "text/plain": [
       "<Figure size 432x288 with 1 Axes>"
      ]
     },
     "metadata": {
      "needs_background": "light"
     },
     "output_type": "display_data"
    },
    {
     "data": {
      "image/png": "[encoded data removed]",
      "text/plain": [
       "<Figure size 432x288 with 1 Axes>"
      ]
     },
     "metadata": {
      "needs_background": "light"
     },
     "output_type": "display_data"
    },
    {
     "data": {
      "image/png": "[encoded data removed]",
      "text/plain": [
       "<Figure size 432x288 with 1 Axes>"
      ]
     },
     "metadata": {
      "needs_background": "light"
     },
     "output_type": "display_data"
    },
    {
     "data": {
      "image/png": "[encoded data removed]",
      "text/plain": [
       "<Figure size 432x288 with 1 Axes>"
      ]
     },
     "metadata": {
      "needs_background": "light"
     },
     "output_type": "display_data"
    }
   ],
   "source": [
    "sanityChecks.discProbVsError(train_data,disc3,device)\n",
    "sanityChecks.discProbVsError(test_data,disc3,device)"
   ]
  },
  {
   "cell_type": "markdown",
   "id": "a5bd74c3",
   "metadata": {
    "id": "a5bd74c3",
    "papermill": {
     "duration": 0.019276,
     "end_time": "2022-06-12T07:02:42.657280",
     "exception": false,
     "start_time": "2022-06-12T07:02:42.638004",
     "status": "completed"
    },
    "tags": []
   },
   "source": [
    "## Skip Connection Model Analysis - ABC-GAN "
   ]
  },
  {
   "cell_type": "markdown",
   "id": "5744a8bf",
   "metadata": {
    "id": "5744a8bf",
    "papermill": {
     "duration": 0.019171,
     "end_time": "2022-06-12T07:02:42.695711",
     "exception": false,
     "start_time": "2022-06-12T07:02:42.676540",
     "status": "completed"
    },
    "tags": []
   },
   "source": [
    "### Weight Analysis \n",
    "\n",
    "Study the weights of the skip connection layer\n",
    "\n",
    "Equation of the skip connection is \n",
    "\n",
    "$output = y_{gan} * w + y_{abc} * (1-w)$"
   ]
  },
  {
   "cell_type": "code",
   "execution_count": 19,
   "id": "52c31dea",
   "metadata": {
    "execution": {
     "iopub.execute_input": "2022-06-12T07:02:42.737016Z",
     "iopub.status.busy": "2022-06-12T07:02:42.736629Z",
     "iopub.status.idle": "2022-06-12T07:02:42.740036Z",
     "shell.execute_reply": "2022-06-12T07:02:42.740284Z"
    },
    "id": "52c31dea",
    "papermill": {
     "duration": 0.025563,
     "end_time": "2022-06-12T07:02:42.740398",
     "exception": false,
     "start_time": "2022-06-12T07:02:42.714835",
     "status": "completed"
    },
    "tags": []
   },
   "outputs": [
    {
     "name": "stdout",
     "output_type": "stream",
     "text": [
      "Weight of the node at skip connection\n",
      "Parameter containing:\n",
      "tensor([[0.1903]], requires_grad=True)\n"
     ]
    },
    {
     "data": {
      "application/scrapbook.scrap.json+json": {
       "data": 0.1902710497379303,
       "encoder": "json",
       "name": "Skip Connection Weight",
       "version": 1
      }
     },
     "metadata": {
      "scrapbook": {
       "data": true,
       "display": false,
       "name": "Skip Connection Weight"
      }
     },
     "output_type": "display_data"
    }
   ],
   "source": [
    "print(\"Weight of the node at skip connection\")\n",
    "for name,param in gen3.named_parameters():\n",
    "    if(name == \"skipNode.weight\"):\n",
    "        print(param)\n",
    "        sb.glue(\"Skip Connection Weight\",param.item())"
   ]
  }
 ],
 "metadata": {
  "colab": {
   "collapsed_sections": [],
   "name": "ABC_GAN_Model-Catboost_Pre-gen.ipynb",
   "provenance": []
  },
  "interpreter": {
   "hash": "31f2aee4e71d21fbe5cf8b01ff0e069b9275f58929596ceb00d14d90e3e16cd6"
  },
  "kernelspec": {
   "display_name": "Python 3 (ipykernel)",
   "language": "python",
   "name": "python3"
  },
  "language_info": {
   "codemirror_mode": {
    "name": "ipython",
    "version": 3
   },
   "file_extension": ".py",
   "mimetype": "text/x-python",
   "name": "python",
   "nbconvert_exporter": "python",
   "pygments_lexer": "ipython3",
   "version": "3.8.11"
  },
  "papermill": {
   "default_parameters": {},
   "duration": 241.245457,
   "end_time": "2022-06-12T07:02:43.068022",
   "environment_variables": {},
   "exception": null,
   "input_path": "ABC_GAN-Catboost.ipynb",
   "output_path": "./ABC_GAN_Catboost/ABC-GAN_output_8_4.ipynb",
   "parameters": {
    "bias": 0.1,
    "variance": 0.1
   },
   "start_time": "2022-06-12T06:58:41.822565",
   "version": "2.3.3"
  }
 },
 "nbformat": 4,
 "nbformat_minor": 5
}