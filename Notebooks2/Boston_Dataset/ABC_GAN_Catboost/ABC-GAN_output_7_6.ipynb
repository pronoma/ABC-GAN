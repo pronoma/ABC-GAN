{
 "cells": [
  {
   "cell_type": "markdown",
   "id": "622780e6",
   "metadata": {
    "id": "622780e6",
    "papermill": {
     "duration": 0.035167,
     "end_time": "2022-06-12T06:29:20.341910",
     "exception": false,
     "start_time": "2022-06-12T06:29:20.306743",
     "status": "completed"
    },
    "tags": []
   },
   "source": [
    "## Import Libraries "
   ]
  },
  {
   "cell_type": "code",
   "execution_count": 1,
   "id": "a62397e3",
   "metadata": {
    "execution": {
     "iopub.execute_input": "2022-06-12T06:29:20.377426Z",
     "iopub.status.busy": "2022-06-12T06:29:20.376871Z",
     "iopub.status.idle": "2022-06-12T06:29:20.379185Z",
     "shell.execute_reply": "2022-06-12T06:29:20.379513Z"
    },
    "id": "a62397e3",
    "papermill": {
     "duration": 0.021683,
     "end_time": "2022-06-12T06:29:20.379716",
     "exception": false,
     "start_time": "2022-06-12T06:29:20.358033",
     "status": "completed"
    },
    "tags": []
   },
   "outputs": [],
   "source": [
    "import warnings\n",
    "import sys\n",
    "sys.path.insert(0, '../../src')\n",
    "warnings.filterwarnings('ignore')"
   ]
  },
  {
   "cell_type": "code",
   "execution_count": 2,
   "id": "d6a4e155",
   "metadata": {
    "execution": {
     "iopub.execute_input": "2022-06-12T06:29:20.399822Z",
     "iopub.status.busy": "2022-06-12T06:29:20.399425Z",
     "iopub.status.idle": "2022-06-12T06:29:22.087085Z",
     "shell.execute_reply": "2022-06-12T06:29:22.087316Z"
    },
    "id": "d6a4e155",
    "papermill": {
     "duration": 1.698113,
     "end_time": "2022-06-12T06:29:22.087449",
     "exception": false,
     "start_time": "2022-06-12T06:29:20.389336",
     "status": "completed"
    },
    "tags": []
   },
   "outputs": [],
   "source": [
    "import ABC_train_test2\n",
    "import bostonDataset\n",
    "import network\n",
    "import dataset\n",
    "import sanityChecks\n",
    "import torch \n",
    "import scrapbook as sb\n",
    "from statistics import mean \n",
    "import catboost as ctb \n",
    "from sklearn.model_selection import train_test_split\n",
    "from sklearn.metrics import mean_squared_error,mean_absolute_error\n",
    "import numpy as np"
   ]
  },
  {
   "cell_type": "markdown",
   "id": "2fa5b0f7",
   "metadata": {
    "id": "2fa5b0f7",
    "papermill": {
     "duration": 0.00677,
     "end_time": "2022-06-12T06:29:22.101361",
     "exception": false,
     "start_time": "2022-06-12T06:29:22.094591",
     "status": "completed"
    },
    "tags": []
   },
   "source": [
    "## Parameters "
   ]
  },
  {
   "cell_type": "code",
   "execution_count": 3,
   "id": "783186fb",
   "metadata": {
    "execution": {
     "iopub.execute_input": "2022-06-12T06:29:22.116996Z",
     "iopub.status.busy": "2022-06-12T06:29:22.116615Z",
     "iopub.status.idle": "2022-06-12T06:29:22.117873Z",
     "shell.execute_reply": "2022-06-12T06:29:22.118117Z"
    },
    "id": "783186fb",
    "papermill": {
     "duration": 0.010164,
     "end_time": "2022-06-12T06:29:22.118222",
     "exception": false,
     "start_time": "2022-06-12T06:29:22.108058",
     "status": "completed"
    },
    "tags": [
     "parameters"
    ]
   },
   "outputs": [],
   "source": [
    "variance = 1\n",
    "bias = 1 "
   ]
  },
  {
   "cell_type": "code",
   "execution_count": 4,
   "id": "16400b44",
   "metadata": {
    "execution": {
     "iopub.execute_input": "2022-06-12T06:29:22.133832Z",
     "iopub.status.busy": "2022-06-12T06:29:22.133451Z",
     "iopub.status.idle": "2022-06-12T06:29:22.134711Z",
     "shell.execute_reply": "2022-06-12T06:29:22.134940Z"
    },
    "papermill": {
     "duration": 0.009938,
     "end_time": "2022-06-12T06:29:22.135045",
     "exception": false,
     "start_time": "2022-06-12T06:29:22.125107",
     "status": "completed"
    },
    "tags": [
     "injected-parameters"
    ]
   },
   "outputs": [],
   "source": [
    "# Parameters\n",
    "variance = 1\n",
    "bias = 0.01\n"
   ]
  },
  {
   "cell_type": "markdown",
   "id": "391cdbfd",
   "metadata": {
    "id": "391cdbfd",
    "papermill": {
     "duration": 0.006772,
     "end_time": "2022-06-12T06:29:22.148662",
     "exception": false,
     "start_time": "2022-06-12T06:29:22.141890",
     "status": "completed"
    },
    "tags": []
   },
   "source": [
    "## Dataset \n"
   ]
  },
  {
   "cell_type": "code",
   "execution_count": 5,
   "id": "5b51f161",
   "metadata": {
    "execution": {
     "iopub.execute_input": "2022-06-12T06:29:22.164303Z",
     "iopub.status.busy": "2022-06-12T06:29:22.163936Z",
     "iopub.status.idle": "2022-06-12T06:29:22.165220Z",
     "shell.execute_reply": "2022-06-12T06:29:22.165450Z"
    },
    "id": "5b51f161",
    "papermill": {
     "duration": 0.009999,
     "end_time": "2022-06-12T06:29:22.165556",
     "exception": false,
     "start_time": "2022-06-12T06:29:22.155557",
     "status": "completed"
    },
    "tags": []
   },
   "outputs": [],
   "source": [
    "#Parameters \n",
    "n_features = 13\n",
    "n_samples= 506\n",
    "n_target = 1 "
   ]
  },
  {
   "cell_type": "code",
   "execution_count": 6,
   "id": "5d6eced4",
   "metadata": {
    "execution": {
     "iopub.execute_input": "2022-06-12T06:29:22.181379Z",
     "iopub.status.busy": "2022-06-12T06:29:22.181020Z",
     "iopub.status.idle": "2022-06-12T06:29:22.191211Z",
     "shell.execute_reply": "2022-06-12T06:29:22.191459Z"
    },
    "id": "5d6eced4",
    "papermill": {
     "duration": 0.019002,
     "end_time": "2022-06-12T06:29:22.191571",
     "exception": false,
     "start_time": "2022-06-12T06:29:22.172569",
     "status": "completed"
    },
    "tags": []
   },
   "outputs": [
    {
     "name": "stdout",
     "output_type": "stream",
     "text": [
      "         X1        X2        X3        X4        X5        X6        X7  \\\n",
      "0 -0.419782  0.284830 -1.287909 -0.272599 -0.144217  0.413672 -0.120013   \n",
      "1 -0.417339 -0.487722 -0.593381 -0.272599 -0.740262  0.194274  0.367166   \n",
      "2 -0.417342 -0.487722 -0.593381 -0.272599 -0.740262  1.282714 -0.265812   \n",
      "3 -0.416750 -0.487722 -1.306878 -0.272599 -0.835284  1.016303 -0.809889   \n",
      "4 -0.412482 -0.487722 -1.306878 -0.272599 -0.835284  1.228577 -0.511180   \n",
      "\n",
      "         X8        X9       X10       X11       X12       X13         Y  \n",
      "0  0.140214 -0.982843 -0.666608 -1.459000  0.441052 -1.075562  0.159686  \n",
      "1  0.557160 -0.867883 -0.987329 -0.303094  0.441052 -0.492439 -0.101524  \n",
      "2  0.557160 -0.867883 -0.987329 -0.303094  0.396427 -1.208727  1.324247  \n",
      "3  1.077737 -0.752922 -1.106115  0.113032  0.416163 -1.361517  1.182758  \n",
      "4  1.077737 -0.752922 -1.106115  0.113032  0.441052 -1.026501  1.487503  \n"
     ]
    }
   ],
   "source": [
    "X,Y = bostonDataset.boston_data()"
   ]
  },
  {
   "cell_type": "code",
   "execution_count": 7,
   "id": "fe007438",
   "metadata": {
    "execution": {
     "iopub.execute_input": "2022-06-12T06:29:22.208868Z",
     "iopub.status.busy": "2022-06-12T06:29:22.208491Z",
     "iopub.status.idle": "2022-06-12T06:29:22.210043Z",
     "shell.execute_reply": "2022-06-12T06:29:22.210286Z"
    },
    "id": "fe007438",
    "papermill": {
     "duration": 0.011471,
     "end_time": "2022-06-12T06:29:22.210397",
     "exception": false,
     "start_time": "2022-06-12T06:29:22.198926",
     "status": "completed"
    },
    "tags": []
   },
   "outputs": [],
   "source": [
    "#Train test split for dataset \n",
    "X_train,X_test,Y_train,Y_test = train_test_split(X,Y,test_size = 0.2)\n",
    "train_data = dataset.CustomDataset(X_train,Y_train)\n",
    "test_data = dataset.CustomDataset(X_test,Y_test)\n"
   ]
  },
  {
   "cell_type": "markdown",
   "id": "a9a1af34",
   "metadata": {
    "id": "a9a1af34",
    "papermill": {
     "duration": 0.007063,
     "end_time": "2022-06-12T06:29:22.224673",
     "exception": false,
     "start_time": "2022-06-12T06:29:22.217610",
     "status": "completed"
    },
    "tags": []
   },
   "source": [
    "## Training Parameters "
   ]
  },
  {
   "cell_type": "code",
   "execution_count": 8,
   "id": "952b7fc8",
   "metadata": {
    "execution": {
     "iopub.execute_input": "2022-06-12T06:29:22.241016Z",
     "iopub.status.busy": "2022-06-12T06:29:22.240652Z",
     "iopub.status.idle": "2022-06-12T06:29:22.241868Z",
     "shell.execute_reply": "2022-06-12T06:29:22.242096Z"
    },
    "id": "952b7fc8",
    "papermill": {
     "duration": 0.010504,
     "end_time": "2022-06-12T06:29:22.242202",
     "exception": false,
     "start_time": "2022-06-12T06:29:22.231698",
     "status": "completed"
    },
    "tags": []
   },
   "outputs": [],
   "source": [
    "batch_size = 32\n",
    "n_epochs = 1000\n",
    "#Select the device \n",
    "device = torch.device('cuda' if torch.cuda.is_available() else 'cpu')"
   ]
  },
  {
   "cell_type": "markdown",
   "id": "a95e1600",
   "metadata": {
    "id": "a95e1600",
    "papermill": {
     "duration": 0.007066,
     "end_time": "2022-06-12T06:29:22.256441",
     "exception": false,
     "start_time": "2022-06-12T06:29:22.249375",
     "status": "completed"
    },
    "tags": []
   },
   "source": [
    "# ABC Pre-generator Model \n",
    "\n",
    "1. The catboost model is used as a pre-generator model for the ABC-GAN. \n",
    "2. The model is first trained on the entire dataset \n",
    "3. It generats X,Y pairs and we add some Gaussian noise with mean 0 and variance 1 to it which is then feed as input to the generator.\n"
   ]
  },
  {
   "cell_type": "code",
   "execution_count": 9,
   "id": "ff8ce7bd",
   "metadata": {
    "execution": {
     "iopub.execute_input": "2022-06-12T06:29:22.275330Z",
     "iopub.status.busy": "2022-06-12T06:29:22.274938Z",
     "iopub.status.idle": "2022-06-12T06:29:23.247055Z",
     "shell.execute_reply": "2022-06-12T06:29:23.247359Z"
    },
    "id": "ff8ce7bd",
    "papermill": {
     "duration": 0.983901,
     "end_time": "2022-06-12T06:29:23.247485",
     "exception": false,
     "start_time": "2022-06-12T06:29:22.263584",
     "status": "completed"
    },
    "tags": []
   },
   "outputs": [
    {
     "name": "stdout",
     "output_type": "stream",
     "text": [
      "Learning rate set to 0.033215\n",
      "0:\tlearn: 1.0082453\ttotal: 57.4ms\tremaining: 57.3s\n",
      "1:\tlearn: 0.9884582\ttotal: 58.3ms\tremaining: 29.1s\n",
      "2:\tlearn: 0.9686517\ttotal: 59.1ms\tremaining: 19.6s\n",
      "3:\tlearn: 0.9516842\ttotal: 60ms\tremaining: 14.9s\n",
      "4:\tlearn: 0.9363777\ttotal: 60.9ms\tremaining: 12.1s\n",
      "5:\tlearn: 0.9221812\ttotal: 62ms\tremaining: 10.3s\n",
      "6:\tlearn: 0.9047760\ttotal: 63ms\tremaining: 8.94s\n",
      "7:\tlearn: 0.8880934\ttotal: 64ms\tremaining: 7.93s\n",
      "8:\tlearn: 0.8724981\ttotal: 64.9ms\tremaining: 7.15s\n",
      "9:\tlearn: 0.8559060\ttotal: 65.8ms\tremaining: 6.52s\n",
      "10:\tlearn: 0.8398231\ttotal: 66.7ms\tremaining: 5.99s\n",
      "11:\tlearn: 0.8248232\ttotal: 67.5ms\tremaining: 5.55s\n",
      "12:\tlearn: 0.8097897\ttotal: 68.4ms\tremaining: 5.19s\n",
      "13:\tlearn: 0.7946397\ttotal: 69.3ms\tremaining: 4.88s\n",
      "14:\tlearn: 0.7810132\ttotal: 70.1ms\tremaining: 4.61s\n",
      "15:\tlearn: 0.7670891\ttotal: 70.9ms\tremaining: 4.36s\n",
      "16:\tlearn: 0.7554336\ttotal: 71.7ms\tremaining: 4.14s\n",
      "17:\tlearn: 0.7426769\ttotal: 72.5ms\tremaining: 3.95s\n",
      "18:\tlearn: 0.7299438\ttotal: 73.2ms\tremaining: 3.78s\n",
      "19:\tlearn: 0.7176663\ttotal: 74.1ms\tremaining: 3.63s\n",
      "20:\tlearn: 0.7065307\ttotal: 74.8ms\tremaining: 3.49s\n",
      "21:\tlearn: 0.6961020\ttotal: 75.6ms\tremaining: 3.36s\n",
      "22:\tlearn: 0.6841140\ttotal: 76.4ms\tremaining: 3.24s\n",
      "23:\tlearn: 0.6743191\ttotal: 77.2ms\tremaining: 3.14s\n",
      "24:\tlearn: 0.6640607\ttotal: 78ms\tremaining: 3.04s\n",
      "25:\tlearn: 0.6552951\ttotal: 79.2ms\tremaining: 2.97s\n",
      "26:\tlearn: 0.6454103\ttotal: 80ms\tremaining: 2.88s\n",
      "27:\tlearn: 0.6363424\ttotal: 80.8ms\tremaining: 2.81s\n",
      "28:\tlearn: 0.6269792\ttotal: 81.6ms\tremaining: 2.73s\n",
      "29:\tlearn: 0.6158258\ttotal: 82.3ms\tremaining: 2.66s\n",
      "30:\tlearn: 0.6068693\ttotal: 83.1ms\tremaining: 2.6s\n",
      "31:\tlearn: 0.5980835\ttotal: 83.8ms\tremaining: 2.53s\n",
      "32:\tlearn: 0.5910574\ttotal: 84.5ms\tremaining: 2.48s\n",
      "33:\tlearn: 0.5828755\ttotal: 85.3ms\tremaining: 2.42s\n",
      "34:\tlearn: 0.5761855\ttotal: 86.2ms\tremaining: 2.38s\n",
      "35:\tlearn: 0.5685865\ttotal: 86.9ms\tremaining: 2.33s\n",
      "36:\tlearn: 0.5617455\ttotal: 87.8ms\tremaining: 2.28s\n",
      "37:\tlearn: 0.5545202\ttotal: 88.5ms\tremaining: 2.24s\n",
      "38:\tlearn: 0.5473120\ttotal: 89.3ms\tremaining: 2.2s\n",
      "39:\tlearn: 0.5394476\ttotal: 90.1ms\tremaining: 2.16s\n",
      "40:\tlearn: 0.5332086\ttotal: 91.1ms\tremaining: 2.13s\n",
      "41:\tlearn: 0.5258661\ttotal: 92ms\tremaining: 2.1s\n",
      "42:\tlearn: 0.5207182\ttotal: 92.7ms\tremaining: 2.06s\n",
      "43:\tlearn: 0.5151325\ttotal: 93.5ms\tremaining: 2.03s\n",
      "44:\tlearn: 0.5093921\ttotal: 94.3ms\tremaining: 2s\n",
      "45:\tlearn: 0.5038427\ttotal: 95.2ms\tremaining: 1.97s\n",
      "46:\tlearn: 0.4983100\ttotal: 96ms\tremaining: 1.95s\n",
      "47:\tlearn: 0.4921451\ttotal: 96.7ms\tremaining: 1.92s\n",
      "48:\tlearn: 0.4872535\ttotal: 97.5ms\tremaining: 1.89s\n",
      "49:\tlearn: 0.4823960\ttotal: 98.4ms\tremaining: 1.87s\n",
      "50:\tlearn: 0.4767689\ttotal: 99.9ms\tremaining: 1.86s\n",
      "51:\tlearn: 0.4724377\ttotal: 101ms\tremaining: 1.84s\n",
      "52:\tlearn: 0.4665255\ttotal: 102ms\tremaining: 1.82s\n",
      "53:\tlearn: 0.4629665\ttotal: 102ms\tremaining: 1.79s\n",
      "54:\tlearn: 0.4577236\ttotal: 103ms\tremaining: 1.77s\n",
      "55:\tlearn: 0.4541711\ttotal: 104ms\tremaining: 1.75s\n",
      "56:\tlearn: 0.4498658\ttotal: 105ms\tremaining: 1.73s\n",
      "57:\tlearn: 0.4448676\ttotal: 105ms\tremaining: 1.71s\n",
      "58:\tlearn: 0.4412958\ttotal: 106ms\tremaining: 1.69s\n",
      "59:\tlearn: 0.4369628\ttotal: 107ms\tremaining: 1.68s\n",
      "60:\tlearn: 0.4331581\ttotal: 108ms\tremaining: 1.66s\n",
      "61:\tlearn: 0.4286088\ttotal: 109ms\tremaining: 1.64s\n"
     ]
    },
    {
     "name": "stdout",
     "output_type": "stream",
     "text": [
      "62:\tlearn: 0.4252308\ttotal: 110ms\tremaining: 1.63s\n",
      "63:\tlearn: 0.4203490\ttotal: 111ms\tremaining: 1.62s\n",
      "64:\tlearn: 0.4164353\ttotal: 112ms\tremaining: 1.6s\n",
      "65:\tlearn: 0.4129905\ttotal: 112ms\tremaining: 1.59s\n",
      "66:\tlearn: 0.4092583\ttotal: 113ms\tremaining: 1.57s\n",
      "67:\tlearn: 0.4053081\ttotal: 114ms\tremaining: 1.56s\n",
      "68:\tlearn: 0.4025261\ttotal: 115ms\tremaining: 1.55s\n",
      "69:\tlearn: 0.3996884\ttotal: 116ms\tremaining: 1.54s\n",
      "70:\tlearn: 0.3965714\ttotal: 116ms\tremaining: 1.52s\n",
      "71:\tlearn: 0.3927719\ttotal: 117ms\tremaining: 1.51s\n",
      "72:\tlearn: 0.3898604\ttotal: 118ms\tremaining: 1.5s\n",
      "73:\tlearn: 0.3866009\ttotal: 119ms\tremaining: 1.49s\n",
      "74:\tlearn: 0.3834418\ttotal: 120ms\tremaining: 1.48s\n",
      "75:\tlearn: 0.3806425\ttotal: 121ms\tremaining: 1.47s\n",
      "76:\tlearn: 0.3777104\ttotal: 121ms\tremaining: 1.46s\n",
      "77:\tlearn: 0.3746576\ttotal: 122ms\tremaining: 1.45s\n",
      "78:\tlearn: 0.3726246\ttotal: 123ms\tremaining: 1.44s\n",
      "79:\tlearn: 0.3700370\ttotal: 124ms\tremaining: 1.43s\n",
      "80:\tlearn: 0.3671645\ttotal: 125ms\tremaining: 1.42s\n",
      "81:\tlearn: 0.3639489\ttotal: 126ms\tremaining: 1.41s\n",
      "82:\tlearn: 0.3618948\ttotal: 126ms\tremaining: 1.39s\n",
      "83:\tlearn: 0.3601999\ttotal: 127ms\tremaining: 1.39s\n",
      "84:\tlearn: 0.3580019\ttotal: 128ms\tremaining: 1.38s\n",
      "85:\tlearn: 0.3553641\ttotal: 129ms\tremaining: 1.37s\n",
      "86:\tlearn: 0.3529943\ttotal: 130ms\tremaining: 1.36s\n",
      "87:\tlearn: 0.3501155\ttotal: 131ms\tremaining: 1.35s\n",
      "88:\tlearn: 0.3473871\ttotal: 132ms\tremaining: 1.35s\n",
      "89:\tlearn: 0.3451953\ttotal: 132ms\tremaining: 1.34s\n",
      "90:\tlearn: 0.3429021\ttotal: 133ms\tremaining: 1.33s\n",
      "91:\tlearn: 0.3414200\ttotal: 134ms\tremaining: 1.32s\n",
      "92:\tlearn: 0.3399290\ttotal: 135ms\tremaining: 1.32s\n",
      "93:\tlearn: 0.3379449\ttotal: 136ms\tremaining: 1.31s\n",
      "94:\tlearn: 0.3354287\ttotal: 137ms\tremaining: 1.3s\n",
      "95:\tlearn: 0.3339872\ttotal: 138ms\tremaining: 1.3s\n",
      "96:\tlearn: 0.3318585\ttotal: 139ms\tremaining: 1.29s\n",
      "97:\tlearn: 0.3302454\ttotal: 140ms\tremaining: 1.29s\n",
      "98:\tlearn: 0.3288996\ttotal: 141ms\tremaining: 1.28s\n",
      "99:\tlearn: 0.3269958\ttotal: 141ms\tremaining: 1.27s\n",
      "100:\tlearn: 0.3252811\ttotal: 143ms\tremaining: 1.27s\n",
      "101:\tlearn: 0.3234167\ttotal: 144ms\tremaining: 1.26s\n",
      "102:\tlearn: 0.3219960\ttotal: 144ms\tremaining: 1.26s\n",
      "103:\tlearn: 0.3209282\ttotal: 145ms\tremaining: 1.25s\n",
      "104:\tlearn: 0.3195432\ttotal: 146ms\tremaining: 1.24s\n",
      "105:\tlearn: 0.3179898\ttotal: 147ms\tremaining: 1.24s\n",
      "106:\tlearn: 0.3161499\ttotal: 147ms\tremaining: 1.23s\n",
      "107:\tlearn: 0.3136835\ttotal: 148ms\tremaining: 1.23s\n",
      "108:\tlearn: 0.3123762\ttotal: 149ms\tremaining: 1.22s\n",
      "109:\tlearn: 0.3114465\ttotal: 150ms\tremaining: 1.21s\n",
      "110:\tlearn: 0.3100587\ttotal: 151ms\tremaining: 1.21s\n",
      "111:\tlearn: 0.3083881\ttotal: 152ms\tremaining: 1.2s\n",
      "112:\tlearn: 0.3068172\ttotal: 152ms\tremaining: 1.2s\n",
      "113:\tlearn: 0.3049555\ttotal: 153ms\tremaining: 1.19s\n",
      "114:\tlearn: 0.3036170\ttotal: 154ms\tremaining: 1.19s\n",
      "115:\tlearn: 0.3022511\ttotal: 155ms\tremaining: 1.18s\n",
      "116:\tlearn: 0.3007615\ttotal: 156ms\tremaining: 1.18s\n",
      "117:\tlearn: 0.2994548\ttotal: 157ms\tremaining: 1.17s\n",
      "118:\tlearn: 0.2983149\ttotal: 157ms\tremaining: 1.17s\n",
      "119:\tlearn: 0.2970152\ttotal: 158ms\tremaining: 1.16s\n",
      "120:\tlearn: 0.2955245\ttotal: 159ms\tremaining: 1.16s\n",
      "121:\tlearn: 0.2945540\ttotal: 160ms\tremaining: 1.15s\n",
      "122:\tlearn: 0.2926767\ttotal: 161ms\tremaining: 1.14s\n",
      "123:\tlearn: 0.2911889\ttotal: 161ms\tremaining: 1.14s\n",
      "124:\tlearn: 0.2903928\ttotal: 162ms\tremaining: 1.14s\n",
      "125:\tlearn: 0.2894406\ttotal: 163ms\tremaining: 1.13s\n",
      "126:\tlearn: 0.2878596\ttotal: 164ms\tremaining: 1.13s\n",
      "127:\tlearn: 0.2867845\ttotal: 165ms\tremaining: 1.12s\n",
      "128:\tlearn: 0.2853135\ttotal: 165ms\tremaining: 1.12s\n",
      "129:\tlearn: 0.2843108\ttotal: 166ms\tremaining: 1.11s\n",
      "130:\tlearn: 0.2834130\ttotal: 167ms\tremaining: 1.11s\n",
      "131:\tlearn: 0.2825678\ttotal: 168ms\tremaining: 1.1s\n",
      "132:\tlearn: 0.2814909\ttotal: 169ms\tremaining: 1.1s\n",
      "133:\tlearn: 0.2807679\ttotal: 170ms\tremaining: 1.09s\n",
      "134:\tlearn: 0.2796197\ttotal: 170ms\tremaining: 1.09s\n",
      "135:\tlearn: 0.2783942\ttotal: 171ms\tremaining: 1.09s\n",
      "136:\tlearn: 0.2775961\ttotal: 172ms\tremaining: 1.08s\n",
      "137:\tlearn: 0.2765601\ttotal: 173ms\tremaining: 1.08s\n",
      "138:\tlearn: 0.2754057\ttotal: 173ms\tremaining: 1.07s\n",
      "139:\tlearn: 0.2737241\ttotal: 174ms\tremaining: 1.07s\n",
      "140:\tlearn: 0.2731366\ttotal: 175ms\tremaining: 1.06s\n",
      "141:\tlearn: 0.2721891\ttotal: 176ms\tremaining: 1.06s\n",
      "142:\tlearn: 0.2715612\ttotal: 177ms\tremaining: 1.06s\n",
      "143:\tlearn: 0.2708808\ttotal: 178ms\tremaining: 1.06s\n",
      "144:\tlearn: 0.2697101\ttotal: 179ms\tremaining: 1.05s\n",
      "145:\tlearn: 0.2690059\ttotal: 180ms\tremaining: 1.05s\n",
      "146:\tlearn: 0.2681052\ttotal: 180ms\tremaining: 1.05s\n",
      "147:\tlearn: 0.2669932\ttotal: 181ms\tremaining: 1.04s\n",
      "148:\tlearn: 0.2662309\ttotal: 182ms\tremaining: 1.04s\n",
      "149:\tlearn: 0.2651550\ttotal: 183ms\tremaining: 1.04s\n",
      "150:\tlearn: 0.2639127\ttotal: 184ms\tremaining: 1.03s\n",
      "151:\tlearn: 0.2632320\ttotal: 185ms\tremaining: 1.03s\n",
      "152:\tlearn: 0.2621446\ttotal: 185ms\tremaining: 1.03s\n",
      "153:\tlearn: 0.2611018\ttotal: 186ms\tremaining: 1.02s\n",
      "154:\tlearn: 0.2602631\ttotal: 187ms\tremaining: 1.02s\n",
      "155:\tlearn: 0.2595933\ttotal: 188ms\tremaining: 1.02s\n",
      "156:\tlearn: 0.2587866\ttotal: 189ms\tremaining: 1.01s\n",
      "157:\tlearn: 0.2578717\ttotal: 190ms\tremaining: 1.01s\n",
      "158:\tlearn: 0.2565884\ttotal: 191ms\tremaining: 1.01s\n"
     ]
    },
    {
     "name": "stdout",
     "output_type": "stream",
     "text": [
      "159:\tlearn: 0.2560003\ttotal: 192ms\tremaining: 1.01s\n",
      "160:\tlearn: 0.2548302\ttotal: 193ms\tremaining: 1s\n",
      "161:\tlearn: 0.2539541\ttotal: 194ms\tremaining: 1s\n",
      "162:\tlearn: 0.2534367\ttotal: 195ms\tremaining: 999ms\n",
      "163:\tlearn: 0.2526391\ttotal: 196ms\tremaining: 997ms\n",
      "164:\tlearn: 0.2519534\ttotal: 196ms\tremaining: 993ms\n",
      "165:\tlearn: 0.2515364\ttotal: 197ms\tremaining: 990ms\n",
      "166:\tlearn: 0.2506281\ttotal: 198ms\tremaining: 986ms\n",
      "167:\tlearn: 0.2499607\ttotal: 199ms\tremaining: 983ms\n",
      "168:\tlearn: 0.2493928\ttotal: 199ms\tremaining: 981ms\n",
      "169:\tlearn: 0.2485308\ttotal: 200ms\tremaining: 978ms\n",
      "170:\tlearn: 0.2477807\ttotal: 201ms\tremaining: 976ms\n",
      "171:\tlearn: 0.2468132\ttotal: 202ms\tremaining: 974ms\n",
      "172:\tlearn: 0.2460206\ttotal: 203ms\tremaining: 972ms\n",
      "173:\tlearn: 0.2453348\ttotal: 204ms\tremaining: 969ms\n",
      "174:\tlearn: 0.2446265\ttotal: 205ms\tremaining: 966ms\n",
      "175:\tlearn: 0.2438583\ttotal: 206ms\tremaining: 963ms\n",
      "176:\tlearn: 0.2427514\ttotal: 207ms\tremaining: 961ms\n",
      "177:\tlearn: 0.2419528\ttotal: 207ms\tremaining: 958ms\n",
      "178:\tlearn: 0.2413109\ttotal: 208ms\tremaining: 955ms\n",
      "179:\tlearn: 0.2405762\ttotal: 209ms\tremaining: 953ms\n",
      "180:\tlearn: 0.2398035\ttotal: 210ms\tremaining: 950ms\n",
      "181:\tlearn: 0.2390377\ttotal: 211ms\tremaining: 948ms\n",
      "182:\tlearn: 0.2383487\ttotal: 212ms\tremaining: 946ms\n",
      "183:\tlearn: 0.2377410\ttotal: 213ms\tremaining: 943ms\n",
      "184:\tlearn: 0.2368985\ttotal: 213ms\tremaining: 940ms\n",
      "185:\tlearn: 0.2365442\ttotal: 214ms\tremaining: 937ms\n",
      "186:\tlearn: 0.2356307\ttotal: 215ms\tremaining: 935ms\n",
      "187:\tlearn: 0.2350048\ttotal: 216ms\tremaining: 933ms\n",
      "188:\tlearn: 0.2345162\ttotal: 217ms\tremaining: 930ms\n",
      "189:\tlearn: 0.2338299\ttotal: 218ms\tremaining: 927ms\n",
      "190:\tlearn: 0.2329600\ttotal: 218ms\tremaining: 925ms\n",
      "191:\tlearn: 0.2323656\ttotal: 219ms\tremaining: 923ms\n",
      "192:\tlearn: 0.2316233\ttotal: 220ms\tremaining: 920ms\n",
      "193:\tlearn: 0.2311566\ttotal: 221ms\tremaining: 917ms\n",
      "194:\tlearn: 0.2307881\ttotal: 222ms\tremaining: 915ms\n",
      "195:\tlearn: 0.2303934\ttotal: 223ms\tremaining: 913ms\n",
      "196:\tlearn: 0.2299320\ttotal: 224ms\tremaining: 911ms\n",
      "197:\tlearn: 0.2292988\ttotal: 224ms\tremaining: 909ms\n",
      "198:\tlearn: 0.2288500\ttotal: 225ms\tremaining: 906ms\n",
      "199:\tlearn: 0.2282262\ttotal: 226ms\tremaining: 904ms\n",
      "200:\tlearn: 0.2274748\ttotal: 227ms\tremaining: 902ms\n",
      "201:\tlearn: 0.2270650\ttotal: 228ms\tremaining: 901ms\n",
      "202:\tlearn: 0.2261239\ttotal: 229ms\tremaining: 899ms\n",
      "203:\tlearn: 0.2254176\ttotal: 230ms\tremaining: 897ms\n",
      "204:\tlearn: 0.2249749\ttotal: 231ms\tremaining: 894ms\n",
      "205:\tlearn: 0.2241301\ttotal: 231ms\tremaining: 892ms\n",
      "206:\tlearn: 0.2233424\ttotal: 232ms\tremaining: 889ms\n",
      "207:\tlearn: 0.2229432\ttotal: 233ms\tremaining: 887ms\n",
      "208:\tlearn: 0.2225602\ttotal: 234ms\tremaining: 885ms\n",
      "209:\tlearn: 0.2221088\ttotal: 235ms\tremaining: 882ms\n",
      "210:\tlearn: 0.2213381\ttotal: 235ms\tremaining: 880ms\n",
      "211:\tlearn: 0.2207935\ttotal: 236ms\tremaining: 878ms\n",
      "212:\tlearn: 0.2202301\ttotal: 237ms\tremaining: 876ms\n",
      "213:\tlearn: 0.2197950\ttotal: 238ms\tremaining: 873ms\n",
      "214:\tlearn: 0.2192474\ttotal: 239ms\tremaining: 872ms\n",
      "215:\tlearn: 0.2185773\ttotal: 239ms\tremaining: 869ms\n",
      "216:\tlearn: 0.2180051\ttotal: 240ms\tremaining: 867ms\n",
      "217:\tlearn: 0.2175747\ttotal: 241ms\tremaining: 865ms\n",
      "218:\tlearn: 0.2168319\ttotal: 242ms\tremaining: 863ms\n",
      "219:\tlearn: 0.2162122\ttotal: 243ms\tremaining: 861ms\n",
      "220:\tlearn: 0.2155456\ttotal: 244ms\tremaining: 859ms\n",
      "221:\tlearn: 0.2150341\ttotal: 245ms\tremaining: 857ms\n",
      "222:\tlearn: 0.2144750\ttotal: 245ms\tremaining: 855ms\n",
      "223:\tlearn: 0.2138698\ttotal: 246ms\tremaining: 853ms\n",
      "224:\tlearn: 0.2134879\ttotal: 247ms\tremaining: 851ms\n",
      "225:\tlearn: 0.2128193\ttotal: 248ms\tremaining: 849ms\n",
      "226:\tlearn: 0.2121960\ttotal: 249ms\tremaining: 847ms\n",
      "227:\tlearn: 0.2115454\ttotal: 249ms\tremaining: 845ms\n",
      "228:\tlearn: 0.2109553\ttotal: 250ms\tremaining: 843ms\n",
      "229:\tlearn: 0.2104188\ttotal: 252ms\tremaining: 843ms\n",
      "230:\tlearn: 0.2100419\ttotal: 252ms\tremaining: 840ms\n",
      "231:\tlearn: 0.2097672\ttotal: 253ms\tremaining: 839ms\n",
      "232:\tlearn: 0.2093056\ttotal: 254ms\tremaining: 836ms\n",
      "233:\tlearn: 0.2089612\ttotal: 255ms\tremaining: 834ms\n",
      "234:\tlearn: 0.2085352\ttotal: 256ms\tremaining: 833ms\n",
      "235:\tlearn: 0.2080538\ttotal: 257ms\tremaining: 830ms\n",
      "236:\tlearn: 0.2076377\ttotal: 257ms\tremaining: 828ms\n",
      "237:\tlearn: 0.2071490\ttotal: 258ms\tremaining: 827ms\n",
      "238:\tlearn: 0.2067789\ttotal: 259ms\tremaining: 825ms\n",
      "239:\tlearn: 0.2063156\ttotal: 260ms\tremaining: 823ms\n",
      "240:\tlearn: 0.2059294\ttotal: 260ms\tremaining: 820ms\n",
      "241:\tlearn: 0.2052785\ttotal: 261ms\tremaining: 818ms\n",
      "242:\tlearn: 0.2050100\ttotal: 262ms\tremaining: 816ms\n",
      "243:\tlearn: 0.2045330\ttotal: 263ms\tremaining: 814ms\n",
      "244:\tlearn: 0.2040157\ttotal: 264ms\tremaining: 813ms\n",
      "245:\tlearn: 0.2036650\ttotal: 265ms\tremaining: 811ms\n",
      "246:\tlearn: 0.2031732\ttotal: 265ms\tremaining: 809ms\n",
      "247:\tlearn: 0.2027695\ttotal: 266ms\tremaining: 807ms\n",
      "248:\tlearn: 0.2024069\ttotal: 267ms\tremaining: 805ms\n",
      "249:\tlearn: 0.2019773\ttotal: 268ms\tremaining: 803ms\n",
      "250:\tlearn: 0.2016459\ttotal: 269ms\tremaining: 802ms\n",
      "251:\tlearn: 0.2010165\ttotal: 269ms\tremaining: 800ms\n",
      "252:\tlearn: 0.2004482\ttotal: 270ms\tremaining: 798ms\n",
      "253:\tlearn: 0.1999447\ttotal: 271ms\tremaining: 796ms\n",
      "254:\tlearn: 0.1993815\ttotal: 272ms\tremaining: 794ms\n",
      "255:\tlearn: 0.1991044\ttotal: 273ms\tremaining: 793ms\n",
      "256:\tlearn: 0.1984929\ttotal: 274ms\tremaining: 791ms\n",
      "257:\tlearn: 0.1983011\ttotal: 274ms\tremaining: 789ms\n",
      "258:\tlearn: 0.1980242\ttotal: 275ms\tremaining: 788ms\n",
      "259:\tlearn: 0.1976510\ttotal: 276ms\tremaining: 786ms\n",
      "260:\tlearn: 0.1971806\ttotal: 277ms\tremaining: 785ms\n",
      "261:\tlearn: 0.1967955\ttotal: 279ms\tremaining: 785ms\n",
      "262:\tlearn: 0.1963272\ttotal: 279ms\tremaining: 783ms\n",
      "263:\tlearn: 0.1957659\ttotal: 280ms\tremaining: 781ms\n",
      "264:\tlearn: 0.1952029\ttotal: 281ms\tremaining: 780ms\n",
      "265:\tlearn: 0.1946015\ttotal: 282ms\tremaining: 778ms\n",
      "266:\tlearn: 0.1940733\ttotal: 283ms\tremaining: 776ms\n",
      "267:\tlearn: 0.1937987\ttotal: 284ms\tremaining: 775ms\n",
      "268:\tlearn: 0.1934422\ttotal: 284ms\tremaining: 773ms\n",
      "269:\tlearn: 0.1930480\ttotal: 285ms\tremaining: 771ms\n",
      "270:\tlearn: 0.1924547\ttotal: 286ms\tremaining: 770ms\n",
      "271:\tlearn: 0.1922448\ttotal: 287ms\tremaining: 768ms\n",
      "272:\tlearn: 0.1915932\ttotal: 288ms\tremaining: 767ms\n",
      "273:\tlearn: 0.1911760\ttotal: 289ms\tremaining: 765ms\n",
      "274:\tlearn: 0.1908279\ttotal: 290ms\tremaining: 764ms\n",
      "275:\tlearn: 0.1904008\ttotal: 290ms\tremaining: 762ms\n",
      "276:\tlearn: 0.1901618\ttotal: 292ms\tremaining: 762ms\n",
      "277:\tlearn: 0.1898883\ttotal: 293ms\tremaining: 760ms\n",
      "278:\tlearn: 0.1893153\ttotal: 293ms\tremaining: 758ms\n",
      "279:\tlearn: 0.1888843\ttotal: 294ms\tremaining: 756ms\n",
      "280:\tlearn: 0.1884786\ttotal: 295ms\tremaining: 755ms\n",
      "281:\tlearn: 0.1879139\ttotal: 296ms\tremaining: 753ms\n",
      "282:\tlearn: 0.1874267\ttotal: 297ms\tremaining: 751ms\n",
      "283:\tlearn: 0.1870465\ttotal: 297ms\tremaining: 750ms\n",
      "284:\tlearn: 0.1866330\ttotal: 298ms\tremaining: 748ms\n",
      "285:\tlearn: 0.1862415\ttotal: 299ms\tremaining: 746ms\n",
      "286:\tlearn: 0.1857280\ttotal: 300ms\tremaining: 744ms\n"
     ]
    },
    {
     "name": "stdout",
     "output_type": "stream",
     "text": [
      "287:\tlearn: 0.1853746\ttotal: 301ms\tremaining: 744ms\n",
      "288:\tlearn: 0.1849229\ttotal: 302ms\tremaining: 743ms\n",
      "289:\tlearn: 0.1844683\ttotal: 303ms\tremaining: 741ms\n",
      "290:\tlearn: 0.1841891\ttotal: 304ms\tremaining: 740ms\n",
      "291:\tlearn: 0.1839782\ttotal: 305ms\tremaining: 739ms\n",
      "292:\tlearn: 0.1834249\ttotal: 306ms\tremaining: 737ms\n",
      "293:\tlearn: 0.1828161\ttotal: 306ms\tremaining: 736ms\n",
      "294:\tlearn: 0.1823434\ttotal: 307ms\tremaining: 734ms\n",
      "295:\tlearn: 0.1820619\ttotal: 308ms\tremaining: 733ms\n",
      "296:\tlearn: 0.1818012\ttotal: 309ms\tremaining: 731ms\n",
      "297:\tlearn: 0.1816113\ttotal: 310ms\tremaining: 729ms\n",
      "298:\tlearn: 0.1814362\ttotal: 310ms\tremaining: 728ms\n",
      "299:\tlearn: 0.1808972\ttotal: 311ms\tremaining: 726ms\n",
      "300:\tlearn: 0.1806752\ttotal: 312ms\tremaining: 725ms\n",
      "301:\tlearn: 0.1803757\ttotal: 313ms\tremaining: 723ms\n",
      "302:\tlearn: 0.1799187\ttotal: 314ms\tremaining: 722ms\n",
      "303:\tlearn: 0.1795146\ttotal: 315ms\tremaining: 720ms\n",
      "304:\tlearn: 0.1790590\ttotal: 316ms\tremaining: 719ms\n",
      "305:\tlearn: 0.1786604\ttotal: 316ms\tremaining: 717ms\n",
      "306:\tlearn: 0.1783058\ttotal: 317ms\tremaining: 716ms\n",
      "307:\tlearn: 0.1777831\ttotal: 318ms\tremaining: 715ms\n",
      "308:\tlearn: 0.1775433\ttotal: 319ms\tremaining: 713ms\n",
      "309:\tlearn: 0.1774057\ttotal: 320ms\tremaining: 712ms\n",
      "310:\tlearn: 0.1770815\ttotal: 320ms\tremaining: 710ms\n",
      "311:\tlearn: 0.1766006\ttotal: 322ms\tremaining: 709ms\n",
      "312:\tlearn: 0.1763749\ttotal: 322ms\tremaining: 707ms\n",
      "313:\tlearn: 0.1758933\ttotal: 323ms\tremaining: 706ms\n",
      "314:\tlearn: 0.1755669\ttotal: 324ms\tremaining: 704ms\n",
      "315:\tlearn: 0.1750451\ttotal: 325ms\tremaining: 703ms\n",
      "316:\tlearn: 0.1747353\ttotal: 325ms\tremaining: 701ms\n",
      "317:\tlearn: 0.1742492\ttotal: 326ms\tremaining: 700ms\n",
      "318:\tlearn: 0.1738404\ttotal: 327ms\tremaining: 698ms\n",
      "319:\tlearn: 0.1737354\ttotal: 328ms\tremaining: 697ms\n",
      "320:\tlearn: 0.1735512\ttotal: 329ms\tremaining: 695ms\n",
      "321:\tlearn: 0.1732999\ttotal: 330ms\tremaining: 694ms\n",
      "322:\tlearn: 0.1727661\ttotal: 330ms\tremaining: 692ms\n",
      "323:\tlearn: 0.1722456\ttotal: 331ms\tremaining: 691ms\n",
      "324:\tlearn: 0.1718257\ttotal: 332ms\tremaining: 690ms\n",
      "325:\tlearn: 0.1713090\ttotal: 333ms\tremaining: 689ms\n",
      "326:\tlearn: 0.1709806\ttotal: 334ms\tremaining: 688ms\n",
      "327:\tlearn: 0.1705608\ttotal: 335ms\tremaining: 687ms\n",
      "328:\tlearn: 0.1704259\ttotal: 336ms\tremaining: 685ms\n",
      "329:\tlearn: 0.1700804\ttotal: 337ms\tremaining: 684ms\n",
      "330:\tlearn: 0.1697439\ttotal: 338ms\tremaining: 684ms\n",
      "331:\tlearn: 0.1693341\ttotal: 339ms\tremaining: 683ms\n",
      "332:\tlearn: 0.1692304\ttotal: 340ms\tremaining: 682ms\n",
      "333:\tlearn: 0.1690725\ttotal: 341ms\tremaining: 681ms\n",
      "334:\tlearn: 0.1689590\ttotal: 342ms\tremaining: 680ms\n",
      "335:\tlearn: 0.1685804\ttotal: 343ms\tremaining: 678ms\n",
      "336:\tlearn: 0.1683111\ttotal: 344ms\tremaining: 677ms\n",
      "337:\tlearn: 0.1681701\ttotal: 345ms\tremaining: 676ms\n",
      "338:\tlearn: 0.1680163\ttotal: 346ms\tremaining: 675ms\n",
      "339:\tlearn: 0.1676988\ttotal: 347ms\tremaining: 673ms\n",
      "340:\tlearn: 0.1675790\ttotal: 348ms\tremaining: 672ms\n",
      "341:\tlearn: 0.1671233\ttotal: 349ms\tremaining: 671ms\n",
      "342:\tlearn: 0.1667336\ttotal: 350ms\tremaining: 670ms\n",
      "343:\tlearn: 0.1666740\ttotal: 351ms\tremaining: 669ms\n",
      "344:\tlearn: 0.1662223\ttotal: 352ms\tremaining: 668ms\n",
      "345:\tlearn: 0.1659392\ttotal: 352ms\tremaining: 666ms\n",
      "346:\tlearn: 0.1656688\ttotal: 353ms\tremaining: 665ms\n",
      "347:\tlearn: 0.1656025\ttotal: 354ms\tremaining: 664ms\n",
      "348:\tlearn: 0.1652873\ttotal: 355ms\tremaining: 662ms\n",
      "349:\tlearn: 0.1648568\ttotal: 356ms\tremaining: 661ms\n",
      "350:\tlearn: 0.1644583\ttotal: 357ms\tremaining: 659ms\n",
      "351:\tlearn: 0.1644207\ttotal: 358ms\tremaining: 659ms\n",
      "352:\tlearn: 0.1643828\ttotal: 359ms\tremaining: 658ms\n",
      "353:\tlearn: 0.1641871\ttotal: 360ms\tremaining: 656ms\n",
      "354:\tlearn: 0.1641381\ttotal: 360ms\tremaining: 655ms\n",
      "355:\tlearn: 0.1637763\ttotal: 361ms\tremaining: 653ms\n",
      "356:\tlearn: 0.1636527\ttotal: 362ms\tremaining: 652ms\n",
      "357:\tlearn: 0.1631444\ttotal: 363ms\tremaining: 651ms\n",
      "358:\tlearn: 0.1628775\ttotal: 364ms\tremaining: 650ms\n",
      "359:\tlearn: 0.1628217\ttotal: 365ms\tremaining: 648ms\n",
      "360:\tlearn: 0.1622250\ttotal: 366ms\tremaining: 647ms\n",
      "361:\tlearn: 0.1619750\ttotal: 367ms\tremaining: 646ms\n",
      "362:\tlearn: 0.1618518\ttotal: 368ms\tremaining: 645ms\n",
      "363:\tlearn: 0.1618145\ttotal: 369ms\tremaining: 644ms\n",
      "364:\tlearn: 0.1617685\ttotal: 370ms\tremaining: 643ms\n",
      "365:\tlearn: 0.1617073\ttotal: 371ms\tremaining: 642ms\n",
      "366:\tlearn: 0.1616210\ttotal: 372ms\tremaining: 641ms\n",
      "367:\tlearn: 0.1613176\ttotal: 373ms\tremaining: 640ms\n",
      "368:\tlearn: 0.1610935\ttotal: 374ms\tremaining: 639ms\n",
      "369:\tlearn: 0.1608201\ttotal: 374ms\tremaining: 637ms\n",
      "370:\tlearn: 0.1602025\ttotal: 375ms\tremaining: 636ms\n",
      "371:\tlearn: 0.1601453\ttotal: 376ms\tremaining: 635ms\n",
      "372:\tlearn: 0.1598262\ttotal: 377ms\tremaining: 634ms\n",
      "373:\tlearn: 0.1597895\ttotal: 378ms\tremaining: 632ms\n",
      "374:\tlearn: 0.1596622\ttotal: 379ms\tremaining: 631ms\n",
      "375:\tlearn: 0.1595606\ttotal: 379ms\tremaining: 630ms\n",
      "376:\tlearn: 0.1595268\ttotal: 380ms\tremaining: 628ms\n",
      "377:\tlearn: 0.1592907\ttotal: 381ms\tremaining: 627ms\n"
     ]
    },
    {
     "name": "stdout",
     "output_type": "stream",
     "text": [
      "378:\tlearn: 0.1592597\ttotal: 382ms\tremaining: 626ms\n",
      "379:\tlearn: 0.1592107\ttotal: 383ms\tremaining: 625ms\n",
      "380:\tlearn: 0.1588809\ttotal: 384ms\tremaining: 624ms\n",
      "381:\tlearn: 0.1588426\ttotal: 385ms\tremaining: 623ms\n",
      "382:\tlearn: 0.1586467\ttotal: 386ms\tremaining: 621ms\n",
      "383:\tlearn: 0.1581907\ttotal: 387ms\tremaining: 620ms\n",
      "384:\tlearn: 0.1581678\ttotal: 388ms\tremaining: 619ms\n",
      "385:\tlearn: 0.1577815\ttotal: 388ms\tremaining: 618ms\n",
      "386:\tlearn: 0.1573856\ttotal: 389ms\tremaining: 616ms\n",
      "387:\tlearn: 0.1572400\ttotal: 390ms\tremaining: 615ms\n",
      "388:\tlearn: 0.1572113\ttotal: 391ms\tremaining: 614ms\n",
      "389:\tlearn: 0.1566794\ttotal: 392ms\tremaining: 612ms\n",
      "390:\tlearn: 0.1566514\ttotal: 392ms\tremaining: 611ms\n",
      "391:\tlearn: 0.1562467\ttotal: 393ms\tremaining: 610ms\n",
      "392:\tlearn: 0.1562213\ttotal: 394ms\tremaining: 609ms\n",
      "393:\tlearn: 0.1561960\ttotal: 395ms\tremaining: 607ms\n",
      "394:\tlearn: 0.1558014\ttotal: 396ms\tremaining: 606ms\n",
      "395:\tlearn: 0.1555480\ttotal: 397ms\tremaining: 605ms\n",
      "396:\tlearn: 0.1555156\ttotal: 398ms\tremaining: 604ms\n",
      "397:\tlearn: 0.1553089\ttotal: 399ms\tremaining: 603ms\n",
      "398:\tlearn: 0.1552329\ttotal: 400ms\tremaining: 602ms\n",
      "399:\tlearn: 0.1552087\ttotal: 400ms\tremaining: 601ms\n",
      "400:\tlearn: 0.1551849\ttotal: 401ms\tremaining: 599ms\n",
      "401:\tlearn: 0.1551252\ttotal: 402ms\tremaining: 598ms\n",
      "402:\tlearn: 0.1547395\ttotal: 403ms\tremaining: 597ms\n",
      "403:\tlearn: 0.1546899\ttotal: 404ms\tremaining: 596ms\n",
      "404:\tlearn: 0.1542755\ttotal: 405ms\tremaining: 594ms\n",
      "405:\tlearn: 0.1539966\ttotal: 405ms\tremaining: 593ms\n",
      "406:\tlearn: 0.1539594\ttotal: 406ms\tremaining: 592ms\n",
      "407:\tlearn: 0.1537453\ttotal: 407ms\tremaining: 591ms\n",
      "408:\tlearn: 0.1534948\ttotal: 408ms\tremaining: 590ms\n",
      "409:\tlearn: 0.1534688\ttotal: 409ms\tremaining: 588ms\n",
      "410:\tlearn: 0.1531751\ttotal: 410ms\tremaining: 587ms\n",
      "411:\tlearn: 0.1528077\ttotal: 410ms\tremaining: 586ms\n",
      "412:\tlearn: 0.1524593\ttotal: 411ms\tremaining: 584ms\n",
      "413:\tlearn: 0.1521747\ttotal: 412ms\tremaining: 583ms\n",
      "414:\tlearn: 0.1518906\ttotal: 413ms\tremaining: 582ms\n",
      "415:\tlearn: 0.1516032\ttotal: 414ms\tremaining: 581ms\n",
      "416:\tlearn: 0.1512293\ttotal: 415ms\tremaining: 580ms\n",
      "417:\tlearn: 0.1508749\ttotal: 416ms\tremaining: 579ms\n",
      "418:\tlearn: 0.1504115\ttotal: 417ms\tremaining: 578ms\n",
      "419:\tlearn: 0.1500687\ttotal: 417ms\tremaining: 576ms\n",
      "420:\tlearn: 0.1497361\ttotal: 418ms\tremaining: 575ms\n",
      "421:\tlearn: 0.1497123\ttotal: 419ms\tremaining: 574ms\n",
      "422:\tlearn: 0.1494584\ttotal: 420ms\tremaining: 573ms\n",
      "423:\tlearn: 0.1494008\ttotal: 421ms\tremaining: 572ms\n",
      "424:\tlearn: 0.1493753\ttotal: 422ms\tremaining: 570ms\n",
      "425:\tlearn: 0.1490155\ttotal: 423ms\tremaining: 569ms\n",
      "426:\tlearn: 0.1485803\ttotal: 423ms\tremaining: 568ms\n",
      "427:\tlearn: 0.1481352\ttotal: 424ms\tremaining: 567ms\n",
      "428:\tlearn: 0.1479285\ttotal: 425ms\tremaining: 566ms\n",
      "429:\tlearn: 0.1476198\ttotal: 426ms\tremaining: 564ms\n",
      "430:\tlearn: 0.1475928\ttotal: 426ms\tremaining: 563ms\n",
      "431:\tlearn: 0.1472975\ttotal: 427ms\tremaining: 562ms\n",
      "432:\tlearn: 0.1470363\ttotal: 428ms\tremaining: 561ms\n",
      "433:\tlearn: 0.1469987\ttotal: 429ms\tremaining: 559ms\n",
      "434:\tlearn: 0.1467672\ttotal: 430ms\tremaining: 558ms\n",
      "435:\tlearn: 0.1463960\ttotal: 431ms\tremaining: 557ms\n",
      "436:\tlearn: 0.1463779\ttotal: 431ms\tremaining: 556ms\n",
      "437:\tlearn: 0.1459929\ttotal: 432ms\tremaining: 555ms\n",
      "438:\tlearn: 0.1459757\ttotal: 433ms\tremaining: 554ms\n",
      "439:\tlearn: 0.1456669\ttotal: 434ms\tremaining: 553ms\n",
      "440:\tlearn: 0.1453945\ttotal: 435ms\tremaining: 551ms\n",
      "441:\tlearn: 0.1450458\ttotal: 436ms\tremaining: 550ms\n",
      "442:\tlearn: 0.1445271\ttotal: 437ms\tremaining: 549ms\n",
      "443:\tlearn: 0.1442023\ttotal: 437ms\tremaining: 548ms\n",
      "444:\tlearn: 0.1441401\ttotal: 438ms\tremaining: 547ms\n",
      "445:\tlearn: 0.1437741\ttotal: 439ms\tremaining: 545ms\n",
      "446:\tlearn: 0.1435851\ttotal: 440ms\tremaining: 544ms\n",
      "447:\tlearn: 0.1431344\ttotal: 441ms\tremaining: 543ms\n",
      "448:\tlearn: 0.1429399\ttotal: 441ms\tremaining: 542ms\n",
      "449:\tlearn: 0.1427453\ttotal: 442ms\tremaining: 541ms\n",
      "450:\tlearn: 0.1423091\ttotal: 443ms\tremaining: 539ms\n",
      "451:\tlearn: 0.1421546\ttotal: 444ms\tremaining: 538ms\n",
      "452:\tlearn: 0.1418436\ttotal: 445ms\tremaining: 537ms\n",
      "453:\tlearn: 0.1417161\ttotal: 445ms\tremaining: 536ms\n",
      "454:\tlearn: 0.1414018\ttotal: 446ms\tremaining: 534ms\n",
      "455:\tlearn: 0.1411376\ttotal: 447ms\tremaining: 533ms\n",
      "456:\tlearn: 0.1411150\ttotal: 448ms\tremaining: 532ms\n",
      "457:\tlearn: 0.1407491\ttotal: 449ms\tremaining: 531ms\n",
      "458:\tlearn: 0.1404786\ttotal: 450ms\tremaining: 530ms\n",
      "459:\tlearn: 0.1401691\ttotal: 451ms\tremaining: 529ms\n",
      "460:\tlearn: 0.1398383\ttotal: 452ms\tremaining: 528ms\n",
      "461:\tlearn: 0.1398221\ttotal: 452ms\tremaining: 527ms\n",
      "462:\tlearn: 0.1396242\ttotal: 453ms\tremaining: 526ms\n",
      "463:\tlearn: 0.1393866\ttotal: 454ms\tremaining: 525ms\n",
      "464:\tlearn: 0.1390052\ttotal: 456ms\tremaining: 524ms\n",
      "465:\tlearn: 0.1386944\ttotal: 456ms\tremaining: 523ms\n",
      "466:\tlearn: 0.1386826\ttotal: 457ms\tremaining: 522ms\n",
      "467:\tlearn: 0.1384521\ttotal: 458ms\tremaining: 521ms\n",
      "468:\tlearn: 0.1382785\ttotal: 459ms\tremaining: 519ms\n",
      "469:\tlearn: 0.1380131\ttotal: 460ms\tremaining: 519ms\n",
      "470:\tlearn: 0.1376806\ttotal: 461ms\tremaining: 517ms\n",
      "471:\tlearn: 0.1372871\ttotal: 462ms\tremaining: 516ms\n",
      "472:\tlearn: 0.1372676\ttotal: 463ms\tremaining: 515ms\n",
      "473:\tlearn: 0.1371026\ttotal: 463ms\tremaining: 514ms\n",
      "474:\tlearn: 0.1370388\ttotal: 464ms\tremaining: 513ms\n",
      "475:\tlearn: 0.1368663\ttotal: 465ms\tremaining: 512ms\n",
      "476:\tlearn: 0.1367319\ttotal: 466ms\tremaining: 511ms\n",
      "477:\tlearn: 0.1363676\ttotal: 467ms\tremaining: 510ms\n",
      "478:\tlearn: 0.1361985\ttotal: 467ms\tremaining: 508ms\n",
      "479:\tlearn: 0.1358364\ttotal: 468ms\tremaining: 507ms\n",
      "480:\tlearn: 0.1357371\ttotal: 469ms\tremaining: 506ms\n",
      "481:\tlearn: 0.1354899\ttotal: 470ms\tremaining: 505ms\n",
      "482:\tlearn: 0.1351751\ttotal: 471ms\tremaining: 504ms\n",
      "483:\tlearn: 0.1350826\ttotal: 471ms\tremaining: 503ms\n",
      "484:\tlearn: 0.1349258\ttotal: 472ms\tremaining: 501ms\n",
      "485:\tlearn: 0.1347787\ttotal: 473ms\tremaining: 500ms\n",
      "486:\tlearn: 0.1345807\ttotal: 474ms\tremaining: 499ms\n",
      "487:\tlearn: 0.1342350\ttotal: 475ms\tremaining: 498ms\n",
      "488:\tlearn: 0.1340925\ttotal: 476ms\tremaining: 497ms\n",
      "489:\tlearn: 0.1338621\ttotal: 476ms\tremaining: 496ms\n",
      "490:\tlearn: 0.1335886\ttotal: 477ms\tremaining: 495ms\n",
      "491:\tlearn: 0.1334201\ttotal: 478ms\tremaining: 493ms\n",
      "492:\tlearn: 0.1332533\ttotal: 479ms\tremaining: 492ms\n",
      "493:\tlearn: 0.1328874\ttotal: 480ms\tremaining: 491ms\n",
      "494:\tlearn: 0.1328006\ttotal: 480ms\tremaining: 490ms\n",
      "495:\tlearn: 0.1327832\ttotal: 482ms\tremaining: 490ms\n",
      "496:\tlearn: 0.1327584\ttotal: 483ms\tremaining: 489ms\n",
      "497:\tlearn: 0.1326601\ttotal: 484ms\tremaining: 488ms\n",
      "498:\tlearn: 0.1326474\ttotal: 485ms\tremaining: 487ms\n",
      "499:\tlearn: 0.1323906\ttotal: 486ms\tremaining: 486ms\n",
      "500:\tlearn: 0.1320803\ttotal: 487ms\tremaining: 485ms\n",
      "501:\tlearn: 0.1319383\ttotal: 488ms\tremaining: 484ms\n",
      "502:\tlearn: 0.1317929\ttotal: 489ms\tremaining: 483ms\n"
     ]
    },
    {
     "name": "stdout",
     "output_type": "stream",
     "text": [
      "503:\tlearn: 0.1315554\ttotal: 490ms\tremaining: 482ms\n",
      "504:\tlearn: 0.1313501\ttotal: 491ms\tremaining: 481ms\n",
      "505:\tlearn: 0.1311159\ttotal: 492ms\tremaining: 481ms\n",
      "506:\tlearn: 0.1309646\ttotal: 494ms\tremaining: 480ms\n",
      "507:\tlearn: 0.1305879\ttotal: 495ms\tremaining: 479ms\n",
      "508:\tlearn: 0.1304008\ttotal: 495ms\tremaining: 478ms\n",
      "509:\tlearn: 0.1303863\ttotal: 496ms\tremaining: 477ms\n",
      "510:\tlearn: 0.1303671\ttotal: 497ms\tremaining: 476ms\n",
      "511:\tlearn: 0.1300923\ttotal: 498ms\tremaining: 475ms\n",
      "512:\tlearn: 0.1297655\ttotal: 499ms\tremaining: 473ms\n",
      "513:\tlearn: 0.1295605\ttotal: 500ms\tremaining: 472ms\n",
      "514:\tlearn: 0.1292772\ttotal: 501ms\tremaining: 471ms\n",
      "515:\tlearn: 0.1291067\ttotal: 501ms\tremaining: 470ms\n",
      "516:\tlearn: 0.1287695\ttotal: 502ms\tremaining: 469ms\n",
      "517:\tlearn: 0.1285421\ttotal: 503ms\tremaining: 468ms\n",
      "518:\tlearn: 0.1283557\ttotal: 504ms\tremaining: 467ms\n",
      "519:\tlearn: 0.1281669\ttotal: 505ms\tremaining: 466ms\n",
      "520:\tlearn: 0.1281416\ttotal: 506ms\tremaining: 465ms\n",
      "521:\tlearn: 0.1279794\ttotal: 507ms\tremaining: 464ms\n",
      "522:\tlearn: 0.1277832\ttotal: 507ms\tremaining: 463ms\n",
      "523:\tlearn: 0.1275599\ttotal: 508ms\tremaining: 462ms\n",
      "524:\tlearn: 0.1273415\ttotal: 509ms\tremaining: 461ms\n",
      "525:\tlearn: 0.1271222\ttotal: 510ms\tremaining: 460ms\n",
      "526:\tlearn: 0.1269492\ttotal: 511ms\tremaining: 459ms\n",
      "527:\tlearn: 0.1266770\ttotal: 512ms\tremaining: 458ms\n",
      "528:\tlearn: 0.1264168\ttotal: 513ms\tremaining: 457ms\n",
      "529:\tlearn: 0.1261184\ttotal: 514ms\tremaining: 455ms\n",
      "530:\tlearn: 0.1260822\ttotal: 514ms\tremaining: 454ms\n",
      "531:\tlearn: 0.1257765\ttotal: 515ms\tremaining: 453ms\n",
      "532:\tlearn: 0.1254588\ttotal: 516ms\tremaining: 452ms\n",
      "533:\tlearn: 0.1251940\ttotal: 517ms\tremaining: 451ms\n",
      "534:\tlearn: 0.1249321\ttotal: 518ms\tremaining: 450ms\n",
      "535:\tlearn: 0.1247253\ttotal: 518ms\tremaining: 449ms\n",
      "536:\tlearn: 0.1244819\ttotal: 519ms\tremaining: 448ms\n",
      "537:\tlearn: 0.1242231\ttotal: 520ms\tremaining: 447ms\n",
      "538:\tlearn: 0.1242103\ttotal: 521ms\tremaining: 446ms\n",
      "539:\tlearn: 0.1240440\ttotal: 522ms\tremaining: 445ms\n",
      "540:\tlearn: 0.1237545\ttotal: 523ms\tremaining: 443ms\n",
      "541:\tlearn: 0.1237392\ttotal: 524ms\tremaining: 442ms\n",
      "542:\tlearn: 0.1235415\ttotal: 524ms\tremaining: 441ms\n",
      "543:\tlearn: 0.1234022\ttotal: 525ms\tremaining: 440ms\n",
      "544:\tlearn: 0.1231232\ttotal: 526ms\tremaining: 439ms\n",
      "545:\tlearn: 0.1229698\ttotal: 527ms\tremaining: 438ms\n",
      "546:\tlearn: 0.1227415\ttotal: 528ms\tremaining: 437ms\n",
      "547:\tlearn: 0.1226894\ttotal: 529ms\tremaining: 436ms\n",
      "548:\tlearn: 0.1224974\ttotal: 530ms\tremaining: 435ms\n",
      "549:\tlearn: 0.1224803\ttotal: 530ms\tremaining: 434ms\n",
      "550:\tlearn: 0.1222232\ttotal: 531ms\tremaining: 433ms\n",
      "551:\tlearn: 0.1219629\ttotal: 532ms\tremaining: 432ms\n",
      "552:\tlearn: 0.1219484\ttotal: 533ms\tremaining: 431ms\n",
      "553:\tlearn: 0.1218747\ttotal: 534ms\tremaining: 430ms\n",
      "554:\tlearn: 0.1216943\ttotal: 535ms\tremaining: 429ms\n",
      "555:\tlearn: 0.1215716\ttotal: 535ms\tremaining: 428ms\n",
      "556:\tlearn: 0.1212903\ttotal: 536ms\tremaining: 426ms\n",
      "557:\tlearn: 0.1212769\ttotal: 537ms\tremaining: 425ms\n",
      "558:\tlearn: 0.1209988\ttotal: 538ms\tremaining: 424ms\n",
      "559:\tlearn: 0.1207468\ttotal: 539ms\tremaining: 423ms\n",
      "560:\tlearn: 0.1204652\ttotal: 539ms\tremaining: 422ms\n",
      "561:\tlearn: 0.1200851\ttotal: 540ms\tremaining: 421ms\n",
      "562:\tlearn: 0.1198962\ttotal: 541ms\tremaining: 420ms\n",
      "563:\tlearn: 0.1198127\ttotal: 542ms\tremaining: 419ms\n",
      "564:\tlearn: 0.1196238\ttotal: 543ms\tremaining: 418ms\n",
      "565:\tlearn: 0.1194045\ttotal: 544ms\tremaining: 417ms\n",
      "566:\tlearn: 0.1191857\ttotal: 545ms\tremaining: 416ms\n",
      "567:\tlearn: 0.1189907\ttotal: 545ms\tremaining: 415ms\n",
      "568:\tlearn: 0.1188322\ttotal: 546ms\tremaining: 414ms\n",
      "569:\tlearn: 0.1186985\ttotal: 547ms\tremaining: 413ms\n",
      "570:\tlearn: 0.1185204\ttotal: 548ms\tremaining: 412ms\n",
      "571:\tlearn: 0.1183288\ttotal: 549ms\tremaining: 411ms\n",
      "572:\tlearn: 0.1180495\ttotal: 550ms\tremaining: 410ms\n",
      "573:\tlearn: 0.1178636\ttotal: 550ms\tremaining: 408ms\n",
      "574:\tlearn: 0.1176034\ttotal: 551ms\tremaining: 407ms\n",
      "575:\tlearn: 0.1174078\ttotal: 552ms\tremaining: 406ms\n",
      "576:\tlearn: 0.1171796\ttotal: 553ms\tremaining: 405ms\n",
      "577:\tlearn: 0.1170522\ttotal: 554ms\tremaining: 404ms\n",
      "578:\tlearn: 0.1168842\ttotal: 555ms\tremaining: 403ms\n",
      "579:\tlearn: 0.1168597\ttotal: 555ms\tremaining: 402ms\n",
      "580:\tlearn: 0.1167272\ttotal: 556ms\tremaining: 401ms\n",
      "581:\tlearn: 0.1164736\ttotal: 558ms\tremaining: 401ms\n",
      "582:\tlearn: 0.1162388\ttotal: 559ms\tremaining: 400ms\n",
      "583:\tlearn: 0.1161003\ttotal: 560ms\tremaining: 399ms\n",
      "584:\tlearn: 0.1158739\ttotal: 560ms\tremaining: 398ms\n",
      "585:\tlearn: 0.1156868\ttotal: 561ms\tremaining: 396ms\n",
      "586:\tlearn: 0.1154772\ttotal: 562ms\tremaining: 395ms\n",
      "587:\tlearn: 0.1154418\ttotal: 563ms\tremaining: 394ms\n",
      "588:\tlearn: 0.1152209\ttotal: 564ms\tremaining: 393ms\n",
      "589:\tlearn: 0.1151523\ttotal: 565ms\tremaining: 392ms\n",
      "590:\tlearn: 0.1149523\ttotal: 565ms\tremaining: 391ms\n",
      "591:\tlearn: 0.1147174\ttotal: 566ms\tremaining: 390ms\n",
      "592:\tlearn: 0.1144918\ttotal: 567ms\tremaining: 389ms\n",
      "593:\tlearn: 0.1142862\ttotal: 568ms\tremaining: 388ms\n",
      "594:\tlearn: 0.1140552\ttotal: 569ms\tremaining: 387ms\n",
      "595:\tlearn: 0.1138529\ttotal: 569ms\tremaining: 386ms\n"
     ]
    },
    {
     "name": "stdout",
     "output_type": "stream",
     "text": [
      "596:\tlearn: 0.1136602\ttotal: 571ms\tremaining: 385ms\n",
      "597:\tlearn: 0.1136053\ttotal: 572ms\tremaining: 385ms\n",
      "598:\tlearn: 0.1134709\ttotal: 573ms\tremaining: 383ms\n",
      "599:\tlearn: 0.1132929\ttotal: 574ms\tremaining: 382ms\n",
      "600:\tlearn: 0.1132402\ttotal: 574ms\tremaining: 381ms\n",
      "601:\tlearn: 0.1130771\ttotal: 575ms\tremaining: 380ms\n",
      "602:\tlearn: 0.1128498\ttotal: 576ms\tremaining: 379ms\n",
      "603:\tlearn: 0.1126504\ttotal: 577ms\tremaining: 378ms\n",
      "604:\tlearn: 0.1124281\ttotal: 577ms\tremaining: 377ms\n",
      "605:\tlearn: 0.1121094\ttotal: 578ms\tremaining: 376ms\n",
      "606:\tlearn: 0.1118292\ttotal: 579ms\tremaining: 375ms\n",
      "607:\tlearn: 0.1116647\ttotal: 580ms\tremaining: 374ms\n",
      "608:\tlearn: 0.1115150\ttotal: 581ms\tremaining: 373ms\n",
      "609:\tlearn: 0.1113144\ttotal: 582ms\tremaining: 372ms\n",
      "610:\tlearn: 0.1110708\ttotal: 582ms\tremaining: 371ms\n",
      "611:\tlearn: 0.1109166\ttotal: 583ms\tremaining: 370ms\n",
      "612:\tlearn: 0.1108667\ttotal: 584ms\tremaining: 369ms\n",
      "613:\tlearn: 0.1107653\ttotal: 585ms\tremaining: 368ms\n",
      "614:\tlearn: 0.1105397\ttotal: 586ms\tremaining: 367ms\n",
      "615:\tlearn: 0.1103297\ttotal: 587ms\tremaining: 366ms\n",
      "616:\tlearn: 0.1102240\ttotal: 588ms\tremaining: 365ms\n",
      "617:\tlearn: 0.1099965\ttotal: 588ms\tremaining: 364ms\n",
      "618:\tlearn: 0.1098589\ttotal: 589ms\tremaining: 363ms\n",
      "619:\tlearn: 0.1096958\ttotal: 590ms\tremaining: 362ms\n",
      "620:\tlearn: 0.1096466\ttotal: 591ms\tremaining: 361ms\n",
      "621:\tlearn: 0.1094356\ttotal: 592ms\tremaining: 360ms\n",
      "622:\tlearn: 0.1093564\ttotal: 592ms\tremaining: 359ms\n",
      "623:\tlearn: 0.1093309\ttotal: 593ms\tremaining: 358ms\n",
      "624:\tlearn: 0.1092950\ttotal: 594ms\tremaining: 356ms\n",
      "625:\tlearn: 0.1091636\ttotal: 595ms\tremaining: 355ms\n",
      "626:\tlearn: 0.1090202\ttotal: 596ms\tremaining: 354ms\n",
      "627:\tlearn: 0.1088879\ttotal: 596ms\tremaining: 353ms\n",
      "628:\tlearn: 0.1087267\ttotal: 597ms\tremaining: 352ms\n",
      "629:\tlearn: 0.1086949\ttotal: 598ms\tremaining: 351ms\n",
      "630:\tlearn: 0.1085272\ttotal: 599ms\tremaining: 350ms\n",
      "631:\tlearn: 0.1083609\ttotal: 600ms\tremaining: 349ms\n",
      "632:\tlearn: 0.1081724\ttotal: 600ms\tremaining: 348ms\n",
      "633:\tlearn: 0.1079339\ttotal: 601ms\tremaining: 347ms\n",
      "634:\tlearn: 0.1078193\ttotal: 602ms\tremaining: 346ms\n",
      "635:\tlearn: 0.1076636\ttotal: 603ms\tremaining: 345ms\n",
      "636:\tlearn: 0.1075617\ttotal: 604ms\tremaining: 344ms\n",
      "637:\tlearn: 0.1073242\ttotal: 604ms\tremaining: 343ms\n",
      "638:\tlearn: 0.1072362\ttotal: 605ms\tremaining: 342ms\n",
      "639:\tlearn: 0.1070175\ttotal: 606ms\tremaining: 341ms\n",
      "640:\tlearn: 0.1069864\ttotal: 607ms\tremaining: 340ms\n",
      "641:\tlearn: 0.1067447\ttotal: 608ms\tremaining: 339ms\n",
      "642:\tlearn: 0.1065810\ttotal: 609ms\tremaining: 338ms\n",
      "643:\tlearn: 0.1064514\ttotal: 610ms\tremaining: 337ms\n",
      "644:\tlearn: 0.1063853\ttotal: 611ms\tremaining: 336ms\n",
      "645:\tlearn: 0.1063710\ttotal: 612ms\tremaining: 335ms\n",
      "646:\tlearn: 0.1063462\ttotal: 613ms\tremaining: 334ms\n",
      "647:\tlearn: 0.1063167\ttotal: 613ms\tremaining: 333ms\n",
      "648:\tlearn: 0.1062904\ttotal: 614ms\tremaining: 332ms\n",
      "649:\tlearn: 0.1061016\ttotal: 615ms\tremaining: 331ms\n",
      "650:\tlearn: 0.1060030\ttotal: 616ms\tremaining: 330ms\n",
      "651:\tlearn: 0.1057571\ttotal: 617ms\tremaining: 329ms\n",
      "652:\tlearn: 0.1056086\ttotal: 618ms\tremaining: 328ms\n",
      "653:\tlearn: 0.1054327\ttotal: 618ms\tremaining: 327ms\n",
      "654:\tlearn: 0.1052189\ttotal: 619ms\tremaining: 326ms\n",
      "655:\tlearn: 0.1050447\ttotal: 620ms\tremaining: 325ms\n",
      "656:\tlearn: 0.1048687\ttotal: 621ms\tremaining: 324ms\n",
      "657:\tlearn: 0.1047410\ttotal: 622ms\tremaining: 323ms\n",
      "658:\tlearn: 0.1045321\ttotal: 623ms\tremaining: 322ms\n",
      "659:\tlearn: 0.1043024\ttotal: 623ms\tremaining: 321ms\n",
      "660:\tlearn: 0.1041784\ttotal: 624ms\tremaining: 320ms\n",
      "661:\tlearn: 0.1041380\ttotal: 625ms\tremaining: 319ms\n",
      "662:\tlearn: 0.1039436\ttotal: 626ms\tremaining: 318ms\n",
      "663:\tlearn: 0.1037851\ttotal: 627ms\tremaining: 317ms\n",
      "664:\tlearn: 0.1036702\ttotal: 628ms\tremaining: 316ms\n",
      "665:\tlearn: 0.1035643\ttotal: 629ms\tremaining: 315ms\n",
      "666:\tlearn: 0.1032684\ttotal: 629ms\tremaining: 314ms\n",
      "667:\tlearn: 0.1031633\ttotal: 630ms\tremaining: 313ms\n",
      "668:\tlearn: 0.1028850\ttotal: 631ms\tremaining: 312ms\n",
      "669:\tlearn: 0.1027516\ttotal: 632ms\tremaining: 311ms\n",
      "670:\tlearn: 0.1026140\ttotal: 633ms\tremaining: 310ms\n",
      "671:\tlearn: 0.1025098\ttotal: 634ms\tremaining: 309ms\n",
      "672:\tlearn: 0.1023038\ttotal: 634ms\tremaining: 308ms\n",
      "673:\tlearn: 0.1021531\ttotal: 635ms\tremaining: 307ms\n",
      "674:\tlearn: 0.1019065\ttotal: 636ms\tremaining: 306ms\n",
      "675:\tlearn: 0.1017131\ttotal: 637ms\tremaining: 305ms\n",
      "676:\tlearn: 0.1015527\ttotal: 638ms\tremaining: 304ms\n",
      "677:\tlearn: 0.1013491\ttotal: 638ms\tremaining: 303ms\n",
      "678:\tlearn: 0.1011892\ttotal: 639ms\tremaining: 302ms\n",
      "679:\tlearn: 0.1010188\ttotal: 640ms\tremaining: 301ms\n",
      "680:\tlearn: 0.1008855\ttotal: 641ms\tremaining: 300ms\n",
      "681:\tlearn: 0.1006248\ttotal: 642ms\tremaining: 299ms\n",
      "682:\tlearn: 0.1004411\ttotal: 643ms\tremaining: 298ms\n",
      "683:\tlearn: 0.1002111\ttotal: 644ms\tremaining: 297ms\n",
      "684:\tlearn: 0.1000186\ttotal: 644ms\tremaining: 296ms\n",
      "685:\tlearn: 0.0998483\ttotal: 645ms\tremaining: 295ms\n",
      "686:\tlearn: 0.0996186\ttotal: 646ms\tremaining: 294ms\n",
      "687:\tlearn: 0.0994324\ttotal: 647ms\tremaining: 293ms\n",
      "688:\tlearn: 0.0992771\ttotal: 648ms\tremaining: 292ms\n",
      "689:\tlearn: 0.0991034\ttotal: 649ms\tremaining: 291ms\n",
      "690:\tlearn: 0.0990299\ttotal: 649ms\tremaining: 290ms\n",
      "691:\tlearn: 0.0987433\ttotal: 650ms\tremaining: 289ms\n",
      "692:\tlearn: 0.0985077\ttotal: 651ms\tremaining: 288ms\n",
      "693:\tlearn: 0.0983378\ttotal: 652ms\tremaining: 287ms\n",
      "694:\tlearn: 0.0981439\ttotal: 653ms\tremaining: 286ms\n",
      "695:\tlearn: 0.0979894\ttotal: 653ms\tremaining: 285ms\n",
      "696:\tlearn: 0.0978327\ttotal: 654ms\tremaining: 284ms\n",
      "697:\tlearn: 0.0978072\ttotal: 655ms\tremaining: 283ms\n",
      "698:\tlearn: 0.0976602\ttotal: 656ms\tremaining: 282ms\n",
      "699:\tlearn: 0.0974992\ttotal: 656ms\tremaining: 281ms\n",
      "700:\tlearn: 0.0973673\ttotal: 657ms\tremaining: 280ms\n",
      "701:\tlearn: 0.0972269\ttotal: 658ms\tremaining: 279ms\n",
      "702:\tlearn: 0.0971183\ttotal: 659ms\tremaining: 278ms\n",
      "703:\tlearn: 0.0968814\ttotal: 660ms\tremaining: 277ms\n",
      "704:\tlearn: 0.0966956\ttotal: 661ms\tremaining: 276ms\n",
      "705:\tlearn: 0.0966303\ttotal: 662ms\tremaining: 275ms\n",
      "706:\tlearn: 0.0964761\ttotal: 662ms\tremaining: 274ms\n",
      "707:\tlearn: 0.0962695\ttotal: 663ms\tremaining: 274ms\n",
      "708:\tlearn: 0.0962072\ttotal: 664ms\tremaining: 273ms\n",
      "709:\tlearn: 0.0960763\ttotal: 665ms\tremaining: 272ms\n",
      "710:\tlearn: 0.0959116\ttotal: 666ms\tremaining: 271ms\n",
      "711:\tlearn: 0.0958082\ttotal: 667ms\tremaining: 270ms\n",
      "712:\tlearn: 0.0956655\ttotal: 668ms\tremaining: 269ms\n",
      "713:\tlearn: 0.0954735\ttotal: 668ms\tremaining: 268ms\n",
      "714:\tlearn: 0.0953452\ttotal: 669ms\tremaining: 267ms\n",
      "715:\tlearn: 0.0951840\ttotal: 670ms\tremaining: 266ms\n",
      "716:\tlearn: 0.0950424\ttotal: 671ms\tremaining: 265ms\n",
      "717:\tlearn: 0.0949210\ttotal: 672ms\tremaining: 264ms\n",
      "718:\tlearn: 0.0948270\ttotal: 673ms\tremaining: 263ms\n",
      "719:\tlearn: 0.0946885\ttotal: 673ms\tremaining: 262ms\n",
      "720:\tlearn: 0.0946432\ttotal: 674ms\tremaining: 261ms\n",
      "721:\tlearn: 0.0945230\ttotal: 675ms\tremaining: 260ms\n",
      "722:\tlearn: 0.0943594\ttotal: 676ms\tremaining: 259ms\n",
      "723:\tlearn: 0.0943027\ttotal: 677ms\tremaining: 258ms\n",
      "724:\tlearn: 0.0941240\ttotal: 678ms\tremaining: 257ms\n",
      "725:\tlearn: 0.0940004\ttotal: 679ms\tremaining: 256ms\n"
     ]
    },
    {
     "name": "stdout",
     "output_type": "stream",
     "text": [
      "726:\tlearn: 0.0938356\ttotal: 680ms\tremaining: 255ms\n",
      "727:\tlearn: 0.0937015\ttotal: 681ms\tremaining: 254ms\n",
      "728:\tlearn: 0.0936079\ttotal: 682ms\tremaining: 253ms\n",
      "729:\tlearn: 0.0934566\ttotal: 683ms\tremaining: 252ms\n",
      "730:\tlearn: 0.0932584\ttotal: 683ms\tremaining: 251ms\n",
      "731:\tlearn: 0.0931064\ttotal: 684ms\tremaining: 251ms\n",
      "732:\tlearn: 0.0930126\ttotal: 685ms\tremaining: 250ms\n",
      "733:\tlearn: 0.0929855\ttotal: 686ms\tremaining: 249ms\n",
      "734:\tlearn: 0.0929679\ttotal: 687ms\tremaining: 248ms\n",
      "735:\tlearn: 0.0928292\ttotal: 688ms\tremaining: 247ms\n",
      "736:\tlearn: 0.0926855\ttotal: 689ms\tremaining: 246ms\n",
      "737:\tlearn: 0.0925211\ttotal: 689ms\tremaining: 245ms\n",
      "738:\tlearn: 0.0923881\ttotal: 690ms\tremaining: 244ms\n",
      "739:\tlearn: 0.0922955\ttotal: 691ms\tremaining: 243ms\n",
      "740:\tlearn: 0.0921630\ttotal: 692ms\tremaining: 242ms\n",
      "741:\tlearn: 0.0919843\ttotal: 693ms\tremaining: 241ms\n",
      "742:\tlearn: 0.0918926\ttotal: 693ms\tremaining: 240ms\n",
      "743:\tlearn: 0.0917582\ttotal: 694ms\tremaining: 239ms\n",
      "744:\tlearn: 0.0915770\ttotal: 696ms\tremaining: 238ms\n",
      "745:\tlearn: 0.0915202\ttotal: 696ms\tremaining: 237ms\n",
      "746:\tlearn: 0.0914574\ttotal: 697ms\tremaining: 236ms\n",
      "747:\tlearn: 0.0913460\ttotal: 698ms\tremaining: 235ms\n",
      "748:\tlearn: 0.0912031\ttotal: 699ms\tremaining: 234ms\n",
      "749:\tlearn: 0.0910782\ttotal: 700ms\tremaining: 233ms\n",
      "750:\tlearn: 0.0909019\ttotal: 700ms\tremaining: 232ms\n",
      "751:\tlearn: 0.0906863\ttotal: 701ms\tremaining: 231ms\n",
      "752:\tlearn: 0.0904883\ttotal: 702ms\tremaining: 230ms\n",
      "753:\tlearn: 0.0903552\ttotal: 703ms\tremaining: 229ms\n",
      "754:\tlearn: 0.0902504\ttotal: 704ms\tremaining: 228ms\n",
      "755:\tlearn: 0.0900282\ttotal: 704ms\tremaining: 227ms\n",
      "756:\tlearn: 0.0898624\ttotal: 705ms\tremaining: 226ms\n",
      "757:\tlearn: 0.0897469\ttotal: 706ms\tremaining: 225ms\n",
      "758:\tlearn: 0.0895802\ttotal: 707ms\tremaining: 224ms\n",
      "759:\tlearn: 0.0894296\ttotal: 708ms\tremaining: 223ms\n",
      "760:\tlearn: 0.0892790\ttotal: 708ms\tremaining: 222ms\n",
      "761:\tlearn: 0.0892412\ttotal: 709ms\tremaining: 221ms\n",
      "762:\tlearn: 0.0891062\ttotal: 710ms\tremaining: 221ms\n",
      "763:\tlearn: 0.0889227\ttotal: 711ms\tremaining: 220ms\n",
      "764:\tlearn: 0.0887955\ttotal: 712ms\tremaining: 219ms\n",
      "765:\tlearn: 0.0886945\ttotal: 713ms\tremaining: 218ms\n",
      "766:\tlearn: 0.0885889\ttotal: 714ms\tremaining: 217ms\n",
      "767:\tlearn: 0.0885324\ttotal: 714ms\tremaining: 216ms\n",
      "768:\tlearn: 0.0884204\ttotal: 715ms\tremaining: 215ms\n",
      "769:\tlearn: 0.0882626\ttotal: 716ms\tremaining: 214ms\n",
      "770:\tlearn: 0.0881980\ttotal: 717ms\tremaining: 213ms\n",
      "771:\tlearn: 0.0880051\ttotal: 718ms\tremaining: 212ms\n",
      "772:\tlearn: 0.0879071\ttotal: 718ms\tremaining: 211ms\n",
      "773:\tlearn: 0.0877497\ttotal: 719ms\tremaining: 210ms\n",
      "774:\tlearn: 0.0876328\ttotal: 720ms\tremaining: 209ms\n",
      "775:\tlearn: 0.0876209\ttotal: 721ms\tremaining: 208ms\n",
      "776:\tlearn: 0.0874654\ttotal: 722ms\tremaining: 207ms\n",
      "777:\tlearn: 0.0873565\ttotal: 723ms\tremaining: 206ms\n",
      "778:\tlearn: 0.0872509\ttotal: 723ms\tremaining: 205ms\n",
      "779:\tlearn: 0.0870731\ttotal: 724ms\tremaining: 204ms\n",
      "780:\tlearn: 0.0868831\ttotal: 725ms\tremaining: 203ms\n",
      "781:\tlearn: 0.0867194\ttotal: 726ms\tremaining: 202ms\n",
      "782:\tlearn: 0.0866561\ttotal: 727ms\tremaining: 201ms\n",
      "783:\tlearn: 0.0865930\ttotal: 727ms\tremaining: 200ms\n",
      "784:\tlearn: 0.0864584\ttotal: 728ms\tremaining: 199ms\n",
      "785:\tlearn: 0.0862230\ttotal: 729ms\tremaining: 199ms\n",
      "786:\tlearn: 0.0860449\ttotal: 730ms\tremaining: 198ms\n",
      "787:\tlearn: 0.0859241\ttotal: 731ms\tremaining: 197ms\n",
      "788:\tlearn: 0.0858708\ttotal: 732ms\tremaining: 196ms\n",
      "789:\tlearn: 0.0856985\ttotal: 733ms\tremaining: 195ms\n",
      "790:\tlearn: 0.0856491\ttotal: 733ms\tremaining: 194ms\n",
      "791:\tlearn: 0.0854951\ttotal: 734ms\tremaining: 193ms\n",
      "792:\tlearn: 0.0853441\ttotal: 735ms\tremaining: 192ms\n",
      "793:\tlearn: 0.0852613\ttotal: 736ms\tremaining: 191ms\n",
      "794:\tlearn: 0.0851950\ttotal: 737ms\tremaining: 190ms\n",
      "795:\tlearn: 0.0851389\ttotal: 737ms\tremaining: 189ms\n",
      "796:\tlearn: 0.0850817\ttotal: 738ms\tremaining: 188ms\n",
      "797:\tlearn: 0.0849459\ttotal: 739ms\tremaining: 187ms\n",
      "798:\tlearn: 0.0847846\ttotal: 740ms\tremaining: 186ms\n",
      "799:\tlearn: 0.0846841\ttotal: 740ms\tremaining: 185ms\n",
      "800:\tlearn: 0.0845906\ttotal: 741ms\tremaining: 184ms\n",
      "801:\tlearn: 0.0844727\ttotal: 742ms\tremaining: 183ms\n",
      "802:\tlearn: 0.0843180\ttotal: 743ms\tremaining: 182ms\n",
      "803:\tlearn: 0.0841981\ttotal: 744ms\tremaining: 181ms\n",
      "804:\tlearn: 0.0841332\ttotal: 744ms\tremaining: 180ms\n",
      "805:\tlearn: 0.0840532\ttotal: 745ms\tremaining: 179ms\n",
      "806:\tlearn: 0.0839862\ttotal: 746ms\tremaining: 178ms\n",
      "807:\tlearn: 0.0838625\ttotal: 747ms\tremaining: 178ms\n",
      "808:\tlearn: 0.0838302\ttotal: 748ms\tremaining: 177ms\n",
      "809:\tlearn: 0.0837429\ttotal: 749ms\tremaining: 176ms\n",
      "810:\tlearn: 0.0835756\ttotal: 750ms\tremaining: 175ms\n",
      "811:\tlearn: 0.0834924\ttotal: 751ms\tremaining: 174ms\n",
      "812:\tlearn: 0.0833011\ttotal: 751ms\tremaining: 173ms\n",
      "813:\tlearn: 0.0831723\ttotal: 752ms\tremaining: 172ms\n",
      "814:\tlearn: 0.0830831\ttotal: 753ms\tremaining: 171ms\n",
      "815:\tlearn: 0.0829303\ttotal: 754ms\tremaining: 170ms\n",
      "816:\tlearn: 0.0827614\ttotal: 755ms\tremaining: 169ms\n",
      "817:\tlearn: 0.0826359\ttotal: 755ms\tremaining: 168ms\n",
      "818:\tlearn: 0.0825001\ttotal: 756ms\tremaining: 167ms\n",
      "819:\tlearn: 0.0823525\ttotal: 757ms\tremaining: 166ms\n",
      "820:\tlearn: 0.0821978\ttotal: 758ms\tremaining: 165ms\n",
      "821:\tlearn: 0.0820882\ttotal: 759ms\tremaining: 164ms\n",
      "822:\tlearn: 0.0819252\ttotal: 759ms\tremaining: 163ms\n",
      "823:\tlearn: 0.0817962\ttotal: 760ms\tremaining: 162ms\n"
     ]
    },
    {
     "name": "stdout",
     "output_type": "stream",
     "text": [
      "824:\tlearn: 0.0817512\ttotal: 761ms\tremaining: 161ms\n",
      "825:\tlearn: 0.0816076\ttotal: 762ms\tremaining: 161ms\n",
      "826:\tlearn: 0.0815761\ttotal: 763ms\tremaining: 160ms\n",
      "827:\tlearn: 0.0814293\ttotal: 764ms\tremaining: 159ms\n",
      "828:\tlearn: 0.0813017\ttotal: 765ms\tremaining: 158ms\n",
      "829:\tlearn: 0.0812065\ttotal: 766ms\tremaining: 157ms\n",
      "830:\tlearn: 0.0810908\ttotal: 766ms\tremaining: 156ms\n",
      "831:\tlearn: 0.0809722\ttotal: 767ms\tremaining: 155ms\n",
      "832:\tlearn: 0.0807821\ttotal: 768ms\tremaining: 154ms\n",
      "833:\tlearn: 0.0806564\ttotal: 769ms\tremaining: 153ms\n",
      "834:\tlearn: 0.0805625\ttotal: 770ms\tremaining: 152ms\n",
      "835:\tlearn: 0.0804776\ttotal: 771ms\tremaining: 151ms\n",
      "836:\tlearn: 0.0803355\ttotal: 771ms\tremaining: 150ms\n",
      "837:\tlearn: 0.0802107\ttotal: 772ms\tremaining: 149ms\n",
      "838:\tlearn: 0.0801227\ttotal: 773ms\tremaining: 148ms\n",
      "839:\tlearn: 0.0800072\ttotal: 774ms\tremaining: 147ms\n",
      "840:\tlearn: 0.0798609\ttotal: 775ms\tremaining: 146ms\n",
      "841:\tlearn: 0.0797230\ttotal: 776ms\tremaining: 146ms\n",
      "842:\tlearn: 0.0796621\ttotal: 776ms\tremaining: 145ms\n",
      "843:\tlearn: 0.0796059\ttotal: 777ms\tremaining: 144ms\n",
      "844:\tlearn: 0.0795431\ttotal: 778ms\tremaining: 143ms\n",
      "845:\tlearn: 0.0793461\ttotal: 779ms\tremaining: 142ms\n",
      "846:\tlearn: 0.0791691\ttotal: 780ms\tremaining: 141ms\n",
      "847:\tlearn: 0.0790996\ttotal: 781ms\tremaining: 140ms\n",
      "848:\tlearn: 0.0789158\ttotal: 781ms\tremaining: 139ms\n",
      "849:\tlearn: 0.0788097\ttotal: 782ms\tremaining: 138ms\n",
      "850:\tlearn: 0.0787239\ttotal: 783ms\tremaining: 137ms\n",
      "851:\tlearn: 0.0786482\ttotal: 784ms\tremaining: 136ms\n",
      "852:\tlearn: 0.0785176\ttotal: 785ms\tremaining: 135ms\n",
      "853:\tlearn: 0.0783751\ttotal: 785ms\tremaining: 134ms\n",
      "854:\tlearn: 0.0782950\ttotal: 786ms\tremaining: 133ms\n",
      "855:\tlearn: 0.0782640\ttotal: 787ms\tremaining: 132ms\n",
      "856:\tlearn: 0.0780658\ttotal: 788ms\tremaining: 131ms\n",
      "857:\tlearn: 0.0779406\ttotal: 789ms\tremaining: 131ms\n",
      "858:\tlearn: 0.0779166\ttotal: 789ms\tremaining: 130ms\n",
      "859:\tlearn: 0.0777433\ttotal: 790ms\tremaining: 129ms\n",
      "860:\tlearn: 0.0777089\ttotal: 791ms\tremaining: 128ms\n",
      "861:\tlearn: 0.0776006\ttotal: 792ms\tremaining: 127ms\n",
      "862:\tlearn: 0.0774993\ttotal: 793ms\tremaining: 126ms\n",
      "863:\tlearn: 0.0774225\ttotal: 793ms\tremaining: 125ms\n",
      "864:\tlearn: 0.0773130\ttotal: 794ms\tremaining: 124ms\n",
      "865:\tlearn: 0.0772697\ttotal: 795ms\tremaining: 123ms\n",
      "866:\tlearn: 0.0772370\ttotal: 796ms\tremaining: 122ms\n",
      "867:\tlearn: 0.0771503\ttotal: 797ms\tremaining: 121ms\n",
      "868:\tlearn: 0.0770172\ttotal: 797ms\tremaining: 120ms\n",
      "869:\tlearn: 0.0768918\ttotal: 798ms\tremaining: 119ms\n",
      "870:\tlearn: 0.0768129\ttotal: 799ms\tremaining: 118ms\n",
      "871:\tlearn: 0.0766916\ttotal: 800ms\tremaining: 117ms\n",
      "872:\tlearn: 0.0765647\ttotal: 801ms\tremaining: 117ms\n",
      "873:\tlearn: 0.0764910\ttotal: 802ms\tremaining: 116ms\n",
      "874:\tlearn: 0.0763376\ttotal: 803ms\tremaining: 115ms\n",
      "875:\tlearn: 0.0761772\ttotal: 803ms\tremaining: 114ms\n",
      "876:\tlearn: 0.0760963\ttotal: 804ms\tremaining: 113ms\n",
      "877:\tlearn: 0.0760806\ttotal: 805ms\tremaining: 112ms\n",
      "878:\tlearn: 0.0760541\ttotal: 806ms\tremaining: 111ms\n",
      "879:\tlearn: 0.0759595\ttotal: 806ms\tremaining: 110ms\n",
      "880:\tlearn: 0.0758300\ttotal: 807ms\tremaining: 109ms\n",
      "881:\tlearn: 0.0757422\ttotal: 808ms\tremaining: 108ms\n",
      "882:\tlearn: 0.0755930\ttotal: 809ms\tremaining: 107ms\n",
      "883:\tlearn: 0.0754898\ttotal: 810ms\tremaining: 106ms\n",
      "884:\tlearn: 0.0753954\ttotal: 810ms\tremaining: 105ms\n",
      "885:\tlearn: 0.0752858\ttotal: 811ms\tremaining: 104ms\n",
      "886:\tlearn: 0.0751338\ttotal: 812ms\tremaining: 103ms\n",
      "887:\tlearn: 0.0751117\ttotal: 813ms\tremaining: 103ms\n",
      "888:\tlearn: 0.0749906\ttotal: 814ms\tremaining: 102ms\n",
      "889:\tlearn: 0.0749527\ttotal: 815ms\tremaining: 101ms\n",
      "890:\tlearn: 0.0748494\ttotal: 816ms\tremaining: 99.8ms\n",
      "891:\tlearn: 0.0747442\ttotal: 816ms\tremaining: 98.9ms\n",
      "892:\tlearn: 0.0746170\ttotal: 817ms\tremaining: 97.9ms\n",
      "893:\tlearn: 0.0744859\ttotal: 818ms\tremaining: 97ms\n",
      "894:\tlearn: 0.0743550\ttotal: 819ms\tremaining: 96.1ms\n",
      "895:\tlearn: 0.0743257\ttotal: 820ms\tremaining: 95.2ms\n",
      "896:\tlearn: 0.0741932\ttotal: 821ms\tremaining: 94.3ms\n",
      "897:\tlearn: 0.0740973\ttotal: 822ms\tremaining: 93.4ms\n",
      "898:\tlearn: 0.0739719\ttotal: 823ms\tremaining: 92.4ms\n",
      "899:\tlearn: 0.0738251\ttotal: 824ms\tremaining: 91.5ms\n",
      "900:\tlearn: 0.0737237\ttotal: 824ms\tremaining: 90.6ms\n",
      "901:\tlearn: 0.0735413\ttotal: 825ms\tremaining: 89.7ms\n",
      "902:\tlearn: 0.0734190\ttotal: 826ms\tremaining: 88.7ms\n",
      "903:\tlearn: 0.0733189\ttotal: 827ms\tremaining: 87.8ms\n",
      "904:\tlearn: 0.0731256\ttotal: 828ms\tremaining: 86.9ms\n",
      "905:\tlearn: 0.0730345\ttotal: 829ms\tremaining: 86ms\n",
      "906:\tlearn: 0.0730024\ttotal: 830ms\tremaining: 85.1ms\n",
      "907:\tlearn: 0.0728548\ttotal: 830ms\tremaining: 84.1ms\n",
      "908:\tlearn: 0.0727977\ttotal: 831ms\tremaining: 83.2ms\n",
      "909:\tlearn: 0.0727291\ttotal: 832ms\tremaining: 82.3ms\n",
      "910:\tlearn: 0.0725883\ttotal: 833ms\tremaining: 81.3ms\n",
      "911:\tlearn: 0.0725472\ttotal: 833ms\tremaining: 80.4ms\n",
      "912:\tlearn: 0.0724999\ttotal: 834ms\tremaining: 79.5ms\n",
      "913:\tlearn: 0.0723487\ttotal: 835ms\tremaining: 78.6ms\n",
      "914:\tlearn: 0.0722902\ttotal: 836ms\tremaining: 77.7ms\n",
      "915:\tlearn: 0.0721672\ttotal: 837ms\tremaining: 76.8ms\n",
      "916:\tlearn: 0.0720412\ttotal: 838ms\tremaining: 75.8ms\n",
      "917:\tlearn: 0.0719321\ttotal: 839ms\tremaining: 74.9ms\n",
      "918:\tlearn: 0.0719080\ttotal: 839ms\tremaining: 74ms\n",
      "919:\tlearn: 0.0718876\ttotal: 840ms\tremaining: 73ms\n",
      "920:\tlearn: 0.0717553\ttotal: 841ms\tremaining: 72.1ms\n",
      "921:\tlearn: 0.0716429\ttotal: 842ms\tremaining: 71.2ms\n",
      "922:\tlearn: 0.0714901\ttotal: 842ms\tremaining: 70.3ms\n",
      "923:\tlearn: 0.0714793\ttotal: 843ms\tremaining: 69.4ms\n",
      "924:\tlearn: 0.0713862\ttotal: 844ms\tremaining: 68.4ms\n",
      "925:\tlearn: 0.0712810\ttotal: 845ms\tremaining: 67.5ms\n",
      "926:\tlearn: 0.0711527\ttotal: 846ms\tremaining: 66.6ms\n",
      "927:\tlearn: 0.0710126\ttotal: 847ms\tremaining: 65.7ms\n",
      "928:\tlearn: 0.0709115\ttotal: 847ms\tremaining: 64.8ms\n",
      "929:\tlearn: 0.0707585\ttotal: 848ms\tremaining: 63.8ms\n",
      "930:\tlearn: 0.0706345\ttotal: 849ms\tremaining: 62.9ms\n",
      "931:\tlearn: 0.0705197\ttotal: 850ms\tremaining: 62ms\n",
      "932:\tlearn: 0.0704349\ttotal: 851ms\tremaining: 61.1ms\n",
      "933:\tlearn: 0.0703770\ttotal: 852ms\tremaining: 60.2ms\n",
      "934:\tlearn: 0.0703456\ttotal: 853ms\tremaining: 59.3ms\n",
      "935:\tlearn: 0.0702946\ttotal: 853ms\tremaining: 58.3ms\n",
      "936:\tlearn: 0.0702071\ttotal: 854ms\tremaining: 57.4ms\n",
      "937:\tlearn: 0.0701949\ttotal: 855ms\tremaining: 56.5ms\n",
      "938:\tlearn: 0.0701398\ttotal: 856ms\tremaining: 55.6ms\n",
      "939:\tlearn: 0.0700716\ttotal: 856ms\tremaining: 54.7ms\n",
      "940:\tlearn: 0.0700111\ttotal: 857ms\tremaining: 53.7ms\n",
      "941:\tlearn: 0.0698883\ttotal: 858ms\tremaining: 52.8ms\n",
      "942:\tlearn: 0.0698041\ttotal: 859ms\tremaining: 51.9ms\n",
      "943:\tlearn: 0.0697745\ttotal: 860ms\tremaining: 51ms\n",
      "944:\tlearn: 0.0697299\ttotal: 860ms\tremaining: 50.1ms\n",
      "945:\tlearn: 0.0696558\ttotal: 861ms\tremaining: 49.2ms\n",
      "946:\tlearn: 0.0695730\ttotal: 862ms\tremaining: 48.3ms\n",
      "947:\tlearn: 0.0695527\ttotal: 863ms\tremaining: 47.3ms\n",
      "948:\tlearn: 0.0694615\ttotal: 864ms\tremaining: 46.4ms\n",
      "949:\tlearn: 0.0694112\ttotal: 865ms\tremaining: 45.5ms\n",
      "950:\tlearn: 0.0693240\ttotal: 865ms\tremaining: 44.6ms\n",
      "951:\tlearn: 0.0691562\ttotal: 866ms\tremaining: 43.7ms\n",
      "952:\tlearn: 0.0690112\ttotal: 867ms\tremaining: 42.8ms\n",
      "953:\tlearn: 0.0689021\ttotal: 868ms\tremaining: 41.8ms\n",
      "954:\tlearn: 0.0687903\ttotal: 869ms\tremaining: 40.9ms\n",
      "955:\tlearn: 0.0687263\ttotal: 869ms\tremaining: 40ms\n"
     ]
    },
    {
     "name": "stdout",
     "output_type": "stream",
     "text": [
      "956:\tlearn: 0.0687162\ttotal: 870ms\tremaining: 39.1ms\n",
      "957:\tlearn: 0.0685555\ttotal: 871ms\tremaining: 38.2ms\n",
      "958:\tlearn: 0.0684196\ttotal: 872ms\tremaining: 37.3ms\n",
      "959:\tlearn: 0.0683533\ttotal: 873ms\tremaining: 36.4ms\n",
      "960:\tlearn: 0.0681916\ttotal: 874ms\tremaining: 35.5ms\n",
      "961:\tlearn: 0.0681264\ttotal: 875ms\tremaining: 34.5ms\n",
      "962:\tlearn: 0.0680452\ttotal: 875ms\tremaining: 33.6ms\n",
      "963:\tlearn: 0.0678743\ttotal: 877ms\tremaining: 32.7ms\n",
      "964:\tlearn: 0.0677389\ttotal: 878ms\tremaining: 31.8ms\n",
      "965:\tlearn: 0.0676349\ttotal: 878ms\tremaining: 30.9ms\n",
      "966:\tlearn: 0.0675023\ttotal: 879ms\tremaining: 30ms\n",
      "967:\tlearn: 0.0673847\ttotal: 880ms\tremaining: 29.1ms\n",
      "968:\tlearn: 0.0673175\ttotal: 881ms\tremaining: 28.2ms\n",
      "969:\tlearn: 0.0672577\ttotal: 882ms\tremaining: 27.3ms\n",
      "970:\tlearn: 0.0672131\ttotal: 882ms\tremaining: 26.4ms\n",
      "971:\tlearn: 0.0671840\ttotal: 884ms\tremaining: 25.5ms\n",
      "972:\tlearn: 0.0671597\ttotal: 885ms\tremaining: 24.5ms\n",
      "973:\tlearn: 0.0670585\ttotal: 885ms\tremaining: 23.6ms\n",
      "974:\tlearn: 0.0669176\ttotal: 886ms\tremaining: 22.7ms\n",
      "975:\tlearn: 0.0668858\ttotal: 887ms\tremaining: 21.8ms\n",
      "976:\tlearn: 0.0668329\ttotal: 888ms\tremaining: 20.9ms\n",
      "977:\tlearn: 0.0667957\ttotal: 888ms\tremaining: 20ms\n",
      "978:\tlearn: 0.0667801\ttotal: 889ms\tremaining: 19.1ms\n",
      "979:\tlearn: 0.0666958\ttotal: 890ms\tremaining: 18.2ms\n",
      "980:\tlearn: 0.0665643\ttotal: 891ms\tremaining: 17.3ms\n",
      "981:\tlearn: 0.0664834\ttotal: 892ms\tremaining: 16.3ms\n",
      "982:\tlearn: 0.0663814\ttotal: 892ms\tremaining: 15.4ms\n",
      "983:\tlearn: 0.0662978\ttotal: 893ms\tremaining: 14.5ms\n",
      "984:\tlearn: 0.0661301\ttotal: 894ms\tremaining: 13.6ms\n",
      "985:\tlearn: 0.0660399\ttotal: 895ms\tremaining: 12.7ms\n",
      "986:\tlearn: 0.0659619\ttotal: 896ms\tremaining: 11.8ms\n",
      "987:\tlearn: 0.0658448\ttotal: 896ms\tremaining: 10.9ms\n",
      "988:\tlearn: 0.0657521\ttotal: 897ms\tremaining: 9.98ms\n",
      "989:\tlearn: 0.0656825\ttotal: 898ms\tremaining: 9.07ms\n",
      "990:\tlearn: 0.0656014\ttotal: 899ms\tremaining: 8.16ms\n",
      "991:\tlearn: 0.0654748\ttotal: 900ms\tremaining: 7.26ms\n",
      "992:\tlearn: 0.0654423\ttotal: 901ms\tremaining: 6.35ms\n",
      "993:\tlearn: 0.0653727\ttotal: 902ms\tremaining: 5.44ms\n",
      "994:\tlearn: 0.0652879\ttotal: 902ms\tremaining: 4.54ms\n",
      "995:\tlearn: 0.0652003\ttotal: 903ms\tremaining: 3.63ms\n",
      "996:\tlearn: 0.0651049\ttotal: 904ms\tremaining: 2.72ms\n",
      "997:\tlearn: 0.0650875\ttotal: 905ms\tremaining: 1.81ms\n",
      "998:\tlearn: 0.0649452\ttotal: 906ms\tremaining: 906us\n",
      "999:\tlearn: 0.0648792\ttotal: 907ms\tremaining: 0us\n"
     ]
    },
    {
     "data": {
      "text/plain": [
       "<catboost.core.CatBoostRegressor at 0x7f7a2c0b0b50>"
      ]
     },
     "execution_count": 9,
     "metadata": {},
     "output_type": "execute_result"
    }
   ],
   "source": [
    "#Train the Model \n",
    "prior_model = ctb.CatBoostRegressor()\n",
    "prior_model.fit(X_train,Y_train)"
   ]
  },
  {
   "cell_type": "code",
   "execution_count": 10,
   "id": "af65dcda",
   "metadata": {
    "execution": {
     "iopub.execute_input": "2022-06-12T06:29:23.270302Z",
     "iopub.status.busy": "2022-06-12T06:29:23.269886Z",
     "iopub.status.idle": "2022-06-12T06:29:23.277367Z",
     "shell.execute_reply": "2022-06-12T06:29:23.277653Z"
    },
    "id": "af65dcda",
    "papermill": {
     "duration": 0.020733,
     "end_time": "2022-06-12T06:29:23.277765",
     "exception": false,
     "start_time": "2022-06-12T06:29:23.257032",
     "status": "completed"
    },
    "tags": []
   },
   "outputs": [
    {
     "data": {
      "application/scrapbook.scrap.json+json": {
       "data": 0.08934762695889001,
       "encoder": "json",
       "name": "Prior Model MSE",
       "version": 1
      }
     },
     "metadata": {
      "scrapbook": {
       "data": true,
       "display": false,
       "name": "Prior Model MSE"
      }
     },
     "output_type": "display_data"
    },
    {
     "data": {
      "application/scrapbook.scrap.json+json": {
       "data": 1.001862284968804,
       "encoder": "json",
       "name": "ABC Pre-generator MSE",
       "version": 1
      }
     },
     "metadata": {
      "scrapbook": {
       "data": true,
       "display": false,
       "name": "ABC Pre-generator MSE"
      }
     },
     "output_type": "display_data"
    },
    {
     "data": {
      "application/scrapbook.scrap.json+json": {
       "data": 0.1966823278158421,
       "encoder": "json",
       "name": "Prior Model MSE",
       "version": 1
      }
     },
     "metadata": {
      "scrapbook": {
       "data": true,
       "display": false,
       "name": "Prior Model MSE"
      }
     },
     "output_type": "display_data"
    },
    {
     "data": {
      "application/scrapbook.scrap.json+json": {
       "data": 0.7834430964767356,
       "encoder": "json",
       "name": "ABC Pre-generator MSE",
       "version": 1
      }
     },
     "metadata": {
      "scrapbook": {
       "data": true,
       "display": false,
       "name": "ABC Pre-generator MSE"
      }
     },
     "output_type": "display_data"
    }
   ],
   "source": [
    "y_pred = prior_model.predict(X_test)\n",
    "y_abc = y_pred + np.random.normal(0,variance, y_pred.shape) + bias \n",
    "mse = mean_squared_error(y_pred,Y_test)\n",
    "sb.glue(\"Prior Model MSE\",mse)\n",
    "mse = mean_squared_error(y_abc,Y_test)\n",
    "sb.glue(\"ABC Pre-generator MSE\",mse)\n",
    "mae = mean_absolute_error(y_pred,Y_test)\n",
    "sb.glue(\"Prior Model MSE\",mae)\n",
    "mae = mean_absolute_error(y_abc,Y_test)\n",
    "sb.glue(\"ABC Pre-generator MSE\",mae)"
   ]
  },
  {
   "cell_type": "markdown",
   "id": "25609da2",
   "metadata": {
    "papermill": {
     "duration": 0.009731,
     "end_time": "2022-06-12T06:29:23.297599",
     "exception": false,
     "start_time": "2022-06-12T06:29:23.287868",
     "status": "completed"
    },
    "tags": []
   },
   "source": [
    "# ABC GAN Model"
   ]
  },
  {
   "cell_type": "code",
   "execution_count": 11,
   "id": "dfc3464d",
   "metadata": {
    "execution": {
     "iopub.execute_input": "2022-06-12T06:29:23.320261Z",
     "iopub.status.busy": "2022-06-12T06:29:23.319882Z",
     "iopub.status.idle": "2022-06-12T06:29:23.322291Z",
     "shell.execute_reply": "2022-06-12T06:29:23.322534Z"
    },
    "papermill": {
     "duration": 0.015177,
     "end_time": "2022-06-12T06:29:23.322641",
     "exception": false,
     "start_time": "2022-06-12T06:29:23.307464",
     "status": "completed"
    },
    "tags": []
   },
   "outputs": [],
   "source": [
    "gen = network.Generator(n_features+1).to(device)\n",
    "disc = network.Discriminator(n_features+1).to(device)\n",
    "\n",
    "criterion = torch.nn.BCELoss()\n",
    "gen_opt = torch.optim.Adam(gen.parameters(), lr=0.001, betas=(0.5, 0.999))\n",
    "disc_opt = torch.optim.Adam(disc.parameters(), lr=0.001, betas=(0.5, 0.999))"
   ]
  },
  {
   "cell_type": "code",
   "execution_count": 12,
   "id": "b75fdd85",
   "metadata": {
    "execution": {
     "iopub.execute_input": "2022-06-12T06:29:23.344910Z",
     "iopub.status.busy": "2022-06-12T06:29:23.344537Z",
     "iopub.status.idle": "2022-06-12T06:30:23.251491Z",
     "shell.execute_reply": "2022-06-12T06:30:23.251788Z"
    },
    "papermill": {
     "duration": 59.919435,
     "end_time": "2022-06-12T06:30:23.251909",
     "exception": false,
     "start_time": "2022-06-12T06:29:23.332474",
     "status": "completed"
    },
    "tags": []
   },
   "outputs": [
    {
     "data": {
      "image/png": "[encoded data removed]",
      "text/plain": [
       "<Figure size 432x288 with 1 Axes>"
      ]
     },
     "metadata": {
      "needs_background": "light"
     },
     "output_type": "display_data"
    },
    {
     "data": {
      "image/png": "[encoded data removed]",
      "text/plain": [
       "<Figure size 432x288 with 1 Axes>"
      ]
     },
     "metadata": {
      "needs_background": "light"
     },
     "output_type": "display_data"
    }
   ],
   "source": [
    "#Training the ABC_GAN \n",
    "ABC_train_test2.training_GAN(disc,gen,disc_opt,gen_opt,train_data,batch_size,n_epochs,criterion,prior_model,variance,bias,device)"
   ]
  },
  {
   "cell_type": "code",
   "execution_count": 13,
   "id": "1fa7c368",
   "metadata": {
    "execution": {
     "iopub.execute_input": "2022-06-12T06:30:23.276602Z",
     "iopub.status.busy": "2022-06-12T06:30:23.276197Z",
     "iopub.status.idle": "2022-06-12T06:30:23.579882Z",
     "shell.execute_reply": "2022-06-12T06:30:23.580119Z"
    },
    "papermill": {
     "duration": 0.317305,
     "end_time": "2022-06-12T06:30:23.580239",
     "exception": false,
     "start_time": "2022-06-12T06:30:23.262934",
     "status": "completed"
    },
    "tags": []
   },
   "outputs": [
    {
     "data": {
      "application/scrapbook.scrap.json+json": {
       "data": 0.145974705606716,
       "encoder": "json",
       "name": "ABC-GAN Model 1 MSE",
       "version": 1
      }
     },
     "metadata": {
      "scrapbook": {
       "data": true,
       "display": false,
       "name": "ABC-GAN Model 1 MSE"
      }
     },
     "output_type": "display_data"
    },
    {
     "data": {
      "application/scrapbook.scrap.json+json": {
       "data": 0.22662377235753572,
       "encoder": "json",
       "name": "ABC-GAN Model 1 MAE",
       "version": 1
      }
     },
     "metadata": {
      "scrapbook": {
       "data": true,
       "display": false,
       "name": "ABC-GAN Model 1 MAE"
      }
     },
     "output_type": "display_data"
    },
    {
     "data": {
      "application/scrapbook.scrap.json+json": {
       "data": 23.115624780468643,
       "encoder": "json",
       "name": "ABC-GAN Model 1 Manhattan Distance",
       "version": 1
      }
     },
     "metadata": {
      "scrapbook": {
       "data": true,
       "display": false,
       "name": "ABC-GAN Model 1 Manhattan Distance"
      }
     },
     "output_type": "display_data"
    },
    {
     "data": {
      "application/scrapbook.scrap.json+json": {
       "data": 3.858553544908496,
       "encoder": "json",
       "name": "ABC-GAN Model 1 Euclidean distance",
       "version": 1
      }
     },
     "metadata": {
      "scrapbook": {
       "data": true,
       "display": false,
       "name": "ABC-GAN Model 1 Euclidean distance"
      }
     },
     "output_type": "display_data"
    },
    {
     "data": {
      "application/scrapbook.scrap.json+json": {
       "data": [
        [
         0.14764439657825412,
         0.14565296786780685,
         0.1473305962637494,
         0.14532908314295664,
         0.14226914907650662,
         0.14235484062942438,
         0.1465167297724728,
         0.14361135648114975,
         0.1439743817554665,
         0.14620769084734683,
         0.145726102060434,
         0.14415642136127194,
         0.1487477677197471,
         0.14476213742941632,
         0.14403520100576514,
         0.14825937221247826,
         0.14913909805916695,
         0.1422428923213163,
         0.14522064525724904,
         0.1508079286073432,
         0.14884663266453926,
         0.14657296261153951,
         0.1475872625012765,
         0.14432279626061087,
         0.14912717102453893,
         0.14430919537813094,
         0.14800793881183516,
         0.14859716981461463,
         0.15019721607471467,
         0.14254602831369054,
         0.14625191742351146,
         0.14652215357889872,
         0.14456036096122535,
         0.14589665878768007,
         0.14463348188051706,
         0.14398740737447016,
         0.14921374741208235,
         0.14846174824863756,
         0.14920793234928512,
         0.14466724627434388,
         0.1457041596326663,
         0.14594030585386492,
         0.14368547953883476,
         0.14639580020077098,
         0.14891731040419587,
         0.1462878251218061,
         0.145058960757805,
         0.14510325573444813,
         0.14055688674515415,
         0.14575587435218051,
         0.14570238440493674,
         0.1449178817393045,
         0.1463984442025195,
         0.14552132446149577,
         0.14340728554630636,
         0.1448974949618406,
         0.14871737674495494,
         0.1457351049098637,
         0.14669687901798933,
         0.14876000419804233,
         0.14316549722433608,
         0.14763274020157838,
         0.14723601065806155,
         0.14675769982875314,
         0.1465382577116365,
         0.1430601385990072,
         0.146615796374861,
         0.14851209566793336,
         0.14780242673442312,
         0.14359704706977913,
         0.14931928409242645,
         0.1514014635154237,
         0.144438127318521,
         0.14966055788480642,
         0.14607177024810936,
         0.14472401195695506,
         0.14948344999916308,
         0.14342252142945364,
         0.14914342309015116,
         0.14112433559182022,
         0.14092356912461562,
         0.14770662212066107,
         0.14818640273468556,
         0.14527540441060383,
         0.14480231497621499,
         0.14517017644141125,
         0.14477946875738956,
         0.147138724351146,
         0.14409215457711008,
         0.13799957340258928,
         0.14400556063599051,
         0.14394893355072894,
         0.1464620154140551,
         0.14742123706891674,
         0.14820068935821565,
         0.1457048138006277,
         0.14749667621719398,
         0.14523144211735206,
         0.14716701952257033,
         0.1443852821678752
        ],
        [
         0.22699337128513292,
         0.22635595972521924,
         0.22656067881696657,
         0.22676218765806042,
         0.2251674499746193,
         0.22477188564873501,
         0.2264712205722782,
         0.22477681822526982,
         0.22737184565916074,
         0.22726162030891167,
         0.22659517230246873,
         0.22586091524720484,
         0.22719455376157865,
         0.22634557091320553,
         0.2247724017840536,
         0.22696279950768633,
         0.22943026460159352,
         0.22478535922025056,
         0.2242701265175699,
         0.22762368894273452,
         0.22738668969923667,
         0.22820196772797727,
         0.2263348797683184,
         0.2241221253358412,
         0.22966355104547212,
         0.224170415616576,
         0.2279265096100668,
         0.22727938263914457,
         0.22881504970913133,
         0.22609986734631307,
         0.22741563491267608,
         0.2257345673518584,
         0.2253797566792106,
         0.22641783372919058,
         0.22688025700877987,
         0.22586346144660138,
         0.22510636777744866,
         0.22779296167815724,
         0.2257877240304415,
         0.22460642600358993,
         0.22577789912511612,
         0.2264110539199821,
         0.22413201137975441,
         0.22851753940659703,
         0.22709133758154862,
         0.2273631282607276,
         0.22904419633285963,
         0.2247862139187169,
         0.2228235865797044,
         0.22553770570084453,
         0.22693994266035802,
         0.22674418961191,
         0.2267817497417769,
         0.22633659413230478,
         0.2279093864958222,
         0.2274627858389388,
         0.2271291277298302,
         0.2270699213258922,
         0.2282236356233411,
         0.22759449493833908,
         0.22675052224019288,
         0.22786016080199795,
         0.22908895664537945,
         0.2266617306033332,
         0.22895857185015783,
         0.2263267384750732,
         0.22745648228252927,
         0.2268944819932621,
         0.226182856368741,
         0.22633213590940132,
         0.22817954082297637,
         0.22815381265336684,
         0.22721706817437912,
         0.22751996027963126,
         0.2263992038445876,
         0.22724747289812156,
         0.22925707139987864,
         0.22541361160612866,
         0.2273282493172469,
         0.22484986503225038,
         0.2264372961796528,
         0.22683085023662916,
         0.22652580834669517,
         0.226178016632284,
         0.22740283342735731,
         0.2262906375633297,
         0.22685795530275094,
         0.22531840406979123,
         0.22785570849573203,
         0.22352753511136947,
         0.22709067791298615,
         0.22527865244660014,
         0.22624694567867645,
         0.22847780765162087,
         0.22893834250120848,
         0.22593130226995722,
         0.22565131492949292,
         0.22590656561192637,
         0.2246037087330193,
         0.2259525593607595
        ],
        [
         23.153323871083558,
         23.088307891972363,
         23.10918923933059,
         23.129743141122162,
         22.967079897411168,
         22.92673233617097,
         23.100064498372376,
         22.92723545897752,
         23.191928257234395,
         23.18068527150899,
         23.11270757485181,
         23.037813355214894,
         23.173844483681023,
         23.087248233146966,
         22.92678498197347,
         23.150205549784005,
         23.401886989362538,
         22.928106640465558,
         22.87555290479213,
         23.21761627215892,
         23.19344234932214,
         23.27660070825368,
         23.086157736368477,
         22.860456784255803,
         23.425682206638157,
         22.86538239289075,
         23.248503980226815,
         23.182497029192746,
         23.339135070331395,
         23.062186469323933,
         23.19639476109296,
         23.024925869889557,
         22.98873518127948,
         23.094619040377438,
         23.141786214895546,
         23.03807306755334,
         22.960849513299763,
         23.23488209117204,
         23.030347851105034,
         22.909855452366173,
         23.029345710761845,
         23.093927499838173,
         22.86146516073495,
         23.308789019472897,
         23.16331643331796,
         23.191039082594216,
         23.362508025951684,
         22.928193819709122,
         22.72800583112985,
         23.00484598148614,
         23.14787415135652,
         23.127907340414822,
         23.131738473661244,
         23.086332601495087,
         23.246757422573864,
         23.20120415557176,
         23.16717102844268,
         23.161131975241005,
         23.278810833580792,
         23.214638483710587,
         23.128553268499672,
         23.24173640180379,
         23.367073577828705,
         23.119496521539986,
         23.3537743287161,
         23.085327324457467,
         23.200561192817986,
         23.143237163312733,
         23.07065134961158,
         23.085877862758934,
         23.27431316394359,
         23.271688890643418,
         23.17614095378667,
         23.20703594852239,
         23.092718792147934,
         23.1792422356084,
         23.38422128278762,
         22.992188383825123,
         23.187481430359185,
         22.93468623328954,
         23.096604210324585,
         23.136746724136174,
         23.105632451362908,
         23.07015769649297,
         23.195089009590447,
         23.08164503145963,
         23.139511440880597,
         22.982477215118706,
         23.241282266564667,
         22.799808581359684,
         23.16324914712459,
         22.978422549553216,
         23.077188459225,
         23.30473638046533,
         23.351710935123265,
         23.044992831535637,
         23.016434122808278,
         23.04246969241649,
         22.909578290767968,
         23.04716105479747
        ],
        [
         3.8806865953052583,
         3.8544263804769052,
         3.8765604366374116,
         3.8501385014803775,
         3.8093901356783704,
         3.8105371989000822,
         3.865838387309047,
         3.82731738441918,
         3.832151737478251,
         3.861759245011187,
         3.8553939370918067,
         3.8345736371661627,
         3.8951601131935756,
         3.842621243084005,
         3.832961061971284,
         3.888760209330574,
         3.900280502993986,
         3.809038594812903,
         3.8487018351957833,
         3.9220413967663585,
         3.8964543538687835,
         3.8665801668111093,
         3.8799356663648683,
         3.8367857926371527,
         3.900124542178489,
         3.8366050003315895,
         3.885461331529009,
         3.893187809635016,
         3.914091981497227,
         3.8130951847542995,
         3.862343275422081,
         3.865909940110822,
         3.8399422935826757,
         3.8576494392756002,
         3.8409133226112684,
         3.8323250843575307,
         3.9012564945197328,
         3.8914134092076407,
         3.901180475141733,
         3.8413616231725785,
         3.855103666898201,
         3.858226431547819,
         3.828304966034073,
         3.8642426968914148,
         3.8973793324781685,
         3.86281738662653,
         3.8465587214152994,
         3.8471459661564325,
         3.786397027255029,
         3.855787751409873,
         3.855080181955174,
         3.8446877555152716,
         3.864277592080696,
         3.852684141617707,
         3.824597119400061,
         3.844417314250333,
         3.894762178616995,
         3.855513026927297,
         3.8682142727407047,
         3.895320324209591,
         3.8213715753486035,
         3.8805334041289976,
         3.875315869335333,
         3.8690160742148407,
         3.8661223838087326,
         3.81996520103243,
         3.8671451007475546,
         3.8920731953714847,
         3.8827628728665817,
         3.827126703039431,
         3.902635901211833,
         3.929751808775359,
         3.8383185102970727,
         3.907093152747993,
         3.8599638036265502,
         3.842115201241292,
         3.9047806468372364,
         3.8248002805119463,
         3.900337056613879,
         3.794032449830347,
         3.791332753888899,
         3.8815042775072945,
         3.887803117306471,
         3.8494273924678186,
         3.843154450132589,
         3.848033003629769,
         3.8428512608808756,
         3.8740353488083823,
         3.8337187907911594,
         3.7517937692607917,
         3.832566657590057,
         3.8318130463495153,
         3.865116501767264,
         3.8777527230381135,
         3.8879905239773915,
         3.855112321017901,
         3.8787447678538713,
         3.8488449041199244,
         3.87440782459748,
         3.8376162889381304
        ]
       ],
       "encoder": "json",
       "name": "ABC_GAN_1 Metrics",
       "version": 1
      }
     },
     "metadata": {
      "scrapbook": {
       "data": true,
       "display": false,
       "name": "ABC_GAN_1 Metrics"
      }
     },
     "output_type": "display_data"
    },
    {
     "name": "stdout",
     "output_type": "stream",
     "text": [
      "MSE\n",
      "0.145974705606716\n"
     ]
    }
   ],
   "source": [
    "ABC_GAN1_metrics=ABC_train_test2.test_generator(gen,test_data,prior_model,variance,bias,\"1\",device)\n",
    "sb.glue(\"ABC_GAN_1 Metrics\",ABC_GAN1_metrics)\n",
    "\n",
    "print(\"MSE\")\n",
    "print(mean(ABC_GAN1_metrics[0]))"
   ]
  },
  {
   "cell_type": "code",
   "execution_count": 14,
   "id": "eb22ce5c",
   "metadata": {
    "execution": {
     "iopub.execute_input": "2022-06-12T06:30:23.607757Z",
     "iopub.status.busy": "2022-06-12T06:30:23.607397Z",
     "iopub.status.idle": "2022-06-12T06:30:23.926803Z",
     "shell.execute_reply": "2022-06-12T06:30:23.927173Z"
    },
    "papermill": {
     "duration": 0.334272,
     "end_time": "2022-06-12T06:30:23.927293",
     "exception": false,
     "start_time": "2022-06-12T06:30:23.593021",
     "status": "completed"
    },
    "tags": []
   },
   "outputs": [
    {
     "data": {
      "image/png": "[encoded data removed]",
      "text/plain": [
       "<Figure size 432x288 with 1 Axes>"
      ]
     },
     "metadata": {
      "needs_background": "light"
     },
     "output_type": "display_data"
    },
    {
     "data": {
      "image/png": "[encoded data removed]",
      "text/plain": [
       "<Figure size 432x288 with 1 Axes>"
      ]
     },
     "metadata": {
      "needs_background": "light"
     },
     "output_type": "display_data"
    },
    {
     "data": {
      "image/png": "[encoded data removed]",
      "text/plain": [
       "<Figure size 432x288 with 1 Axes>"
      ]
     },
     "metadata": {
      "needs_background": "light"
     },
     "output_type": "display_data"
    },
    {
     "data": {
      "image/png": "[encoded data removed]",
      "text/plain": [
       "<Figure size 432x288 with 1 Axes>"
      ]
     },
     "metadata": {
      "needs_background": "light"
     },
     "output_type": "display_data"
    }
   ],
   "source": [
    "sanityChecks.discProbVsError(train_data,disc,device)\n",
    "sanityChecks.discProbVsError(test_data,disc,device)"
   ]
  },
  {
   "cell_type": "markdown",
   "id": "130f3a4d",
   "metadata": {
    "id": "130f3a4d",
    "papermill": {
     "duration": 0.014431,
     "end_time": "2022-06-12T06:30:23.956657",
     "exception": false,
     "start_time": "2022-06-12T06:30:23.942226",
     "status": "completed"
    },
    "tags": []
   },
   "source": [
    "# ABC - GAN Model with skip connection"
   ]
  },
  {
   "cell_type": "code",
   "execution_count": 15,
   "id": "4e43dad1",
   "metadata": {
    "execution": {
     "iopub.execute_input": "2022-06-12T06:30:23.989186Z",
     "iopub.status.busy": "2022-06-12T06:30:23.988810Z",
     "iopub.status.idle": "2022-06-12T06:30:23.991034Z",
     "shell.execute_reply": "2022-06-12T06:30:23.991290Z"
    },
    "id": "4e43dad1",
    "papermill": {
     "duration": 0.020144,
     "end_time": "2022-06-12T06:30:23.991402",
     "exception": false,
     "start_time": "2022-06-12T06:30:23.971258",
     "status": "completed"
    },
    "tags": []
   },
   "outputs": [],
   "source": [
    "#Generator\n",
    "gen3 = network.GeneratorWithSkipConnection(n_features+1).to(device)\n",
    "constraints=network.weightConstraint()\n",
    "#Discriminator \n",
    "disc3 = network.Discriminator(n_features+1).to(device)\n",
    "\n",
    "criterion = torch.nn.BCELoss()\n",
    "gen_opt = torch.optim.Adam(gen3.parameters(), lr=0.001, betas=(0.5, 0.999))\n",
    "disc_opt = torch.optim.Adam(disc3.parameters(), lr=0.001, betas=(0.5, 0.999))\n"
   ]
  },
  {
   "cell_type": "code",
   "execution_count": 16,
   "id": "26acbc37",
   "metadata": {
    "execution": {
     "iopub.execute_input": "2022-06-12T06:30:24.023014Z",
     "iopub.status.busy": "2022-06-12T06:30:24.022648Z",
     "iopub.status.idle": "2022-06-12T06:33:17.248318Z",
     "shell.execute_reply": "2022-06-12T06:33:17.248619Z"
    },
    "id": "26acbc37",
    "papermill": {
     "duration": 173.242671,
     "end_time": "2022-06-12T06:33:17.248757",
     "exception": false,
     "start_time": "2022-06-12T06:30:24.006086",
     "status": "completed"
    },
    "tags": []
   },
   "outputs": [
    {
     "data": {
      "image/png": "[encoded data removed]",
      "text/plain": [
       "<Figure size 432x288 with 1 Axes>"
      ]
     },
     "metadata": {
      "needs_background": "light"
     },
     "output_type": "display_data"
    },
    {
     "data": {
      "image/png": "[encoded data removed]",
      "text/plain": [
       "<Figure size 432x288 with 1 Axes>"
      ]
     },
     "metadata": {
      "needs_background": "light"
     },
     "output_type": "display_data"
    }
   ],
   "source": [
    "ABC_train_test2.training_GAN_skip_connection(disc3,gen3,disc_opt,gen_opt,train_data,batch_size,n_epochs,criterion,prior_model,variance,bias,device)"
   ]
  },
  {
   "cell_type": "code",
   "execution_count": 17,
   "id": "c5e0717b",
   "metadata": {
    "execution": {
     "iopub.execute_input": "2022-06-12T06:33:17.282736Z",
     "iopub.status.busy": "2022-06-12T06:33:17.282357Z",
     "iopub.status.idle": "2022-06-12T06:33:18.101365Z",
     "shell.execute_reply": "2022-06-12T06:33:18.101605Z"
    },
    "id": "c5e0717b",
    "papermill": {
     "duration": 0.837264,
     "end_time": "2022-06-12T06:33:18.101730",
     "exception": false,
     "start_time": "2022-06-12T06:33:17.264466",
     "status": "completed"
    },
    "tags": []
   },
   "outputs": [
    {
     "data": {
      "application/scrapbook.scrap.json+json": {
       "data": 0.13244403729889198,
       "encoder": "json",
       "name": "ABC-GAN Model 3 MSE",
       "version": 1
      }
     },
     "metadata": {
      "scrapbook": {
       "data": true,
       "display": false,
       "name": "ABC-GAN Model 3 MSE"
      }
     },
     "output_type": "display_data"
    },
    {
     "data": {
      "application/scrapbook.scrap.json+json": {
       "data": 0.21408339689561057,
       "encoder": "json",
       "name": "ABC-GAN Model 3 MAE",
       "version": 1
      }
     },
     "metadata": {
      "scrapbook": {
       "data": true,
       "display": false,
       "name": "ABC-GAN Model 3 MAE"
      }
     },
     "output_type": "display_data"
    },
    {
     "data": {
      "application/scrapbook.scrap.json+json": {
       "data": 21.836506483352277,
       "encoder": "json",
       "name": "ABC-GAN Model 3 Manhattan Distance",
       "version": 1
      }
     },
     "metadata": {
      "scrapbook": {
       "data": true,
       "display": false,
       "name": "ABC-GAN Model 3 Manhattan Distance"
      }
     },
     "output_type": "display_data"
    },
    {
     "data": {
      "application/scrapbook.scrap.json+json": {
       "data": 3.6753409936989145,
       "encoder": "json",
       "name": "ABC-GAN Model 3 Euclidean distance",
       "version": 1
      }
     },
     "metadata": {
      "scrapbook": {
       "data": true,
       "display": false,
       "name": "ABC-GAN Model 3 Euclidean distance"
      }
     },
     "output_type": "display_data"
    },
    {
     "data": {
      "application/scrapbook.scrap.json+json": {
       "data": [
        [
         0.1289347696109032,
         0.13615862110349433,
         0.13059701315489444,
         0.1294868438929041,
         0.1346400079144481,
         0.13224060883027683,
         0.12860723958996279,
         0.13081761132182743,
         0.13365106278243433,
         0.13372452048642516,
         0.13349236234956877,
         0.12896339469767198,
         0.12926303953901133,
         0.13303766371895603,
         0.13343736309813323,
         0.13823715360791353,
         0.13009146376991487,
         0.13292618956413665,
         0.13181596496775475,
         0.1319079458640185,
         0.1306786231183018,
         0.13398908774851348,
         0.13711892393355057,
         0.13067511922256772,
         0.13570896111603167,
         0.13307060187509268,
         0.13679866515435626,
         0.13148941341280504,
         0.12799088824814026,
         0.12962887422546474,
         0.1344008513072039,
         0.13496128521840167,
         0.13380520139728497,
         0.13226736016789864,
         0.13368397065124166,
         0.13080632966111908,
         0.13101307769014658,
         0.13313564275609666,
         0.1327735701568809,
         0.12787961699600334,
         0.1283353175030709,
         0.13129110104184138,
         0.1327048116714884,
         0.13299855736904914,
         0.13302664275449932,
         0.13148308983535117,
         0.1331063314485238,
         0.131475374452247,
         0.12898701495037307,
         0.13162462968558475,
         0.13474357242146595,
         0.13211582156243606,
         0.13442985479520872,
         0.13585602441958075,
         0.13706469233650767,
         0.1288724268730683,
         0.13450132082500224,
         0.13199586729846163,
         0.13246449756187192,
         0.1371119127881913,
         0.1314685737301275,
         0.13124236900937847,
         0.1297835794434122,
         0.13067500866210346,
         0.13027352635257178,
         0.13320925187191227,
         0.13214705303051072,
         0.13215884460970231,
         0.12899986099862593,
         0.13163078301635636,
         0.13092357567691298,
         0.13313235314622018,
         0.13254877610334848,
         0.13495987439245868,
         0.13418425709161233,
         0.13138804286686961,
         0.13594832817125904,
         0.12976382082154256,
         0.13055311342355572,
         0.1340585547270713,
         0.13302266479857486,
         0.13203355290505148,
         0.13338898054847895,
         0.13466917439058904,
         0.12946861937046478,
         0.13193539108538183,
         0.13797973019123444,
         0.13551946395913655,
         0.13694895470961155,
         0.13161922320444755,
         0.13136024141260733,
         0.1334059766309435,
         0.12994524501022453,
         0.1282818386014115,
         0.135528176176944,
         0.12996290915092867,
         0.13149698574386373,
         0.13852823375407328,
         0.12981132454410899,
         0.13235173103999434
        ],
        [
         0.21059667943365068,
         0.2123996544191066,
         0.21009436603087714,
         0.21086476357909395,
         0.21773136095782997,
         0.21136529192638895,
         0.2073672378216596,
         0.2126319172755614,
         0.21712466093309807,
         0.21267649357882784,
         0.2189435521414613,
         0.21322174908081984,
         0.2126221819780767,
         0.21189391292522058,
         0.21715001677911655,
         0.21287327173038148,
         0.2166392373779387,
         0.21498487178491904,
         0.21441978515655385,
         0.2127636664766161,
         0.21210593943867614,
         0.21073442072078002,
         0.21654138183586447,
         0.211611983923278,
         0.21896120030250327,
         0.2086750616310347,
         0.21436993541269034,
         0.2121745678527719,
         0.20973009360479375,
         0.2121646496029023,
         0.21689774230232134,
         0.21840904663116031,
         0.21680959558808335,
         0.21518398558392243,
         0.2146265285418314,
         0.21215640732963734,
         0.21159593524484366,
         0.21545747080452593,
         0.21378497972025298,
         0.20755389012286768,
         0.2108003333594431,
         0.2151656371048268,
         0.21056773105417104,
         0.21765362395557994,
         0.21675967521892459,
         0.21577925951329663,
         0.2153336749361901,
         0.21180266158326583,
         0.21361115927278412,
         0.20987711485256166,
         0.20836332101630523,
         0.21440859929676734,
         0.21882425187904314,
         0.21804738803721016,
         0.21427916623104146,
         0.21454922169191287,
         0.22089993451521092,
         0.21483645019322342,
         0.21592805008677876,
         0.2153817591458267,
         0.21075228608085536,
         0.21646811273953348,
         0.20905621120633155,
         0.215577136661273,
         0.21222721820003262,
         0.21916945682217678,
         0.21441634159133421,
         0.21582582907970338,
         0.20935564557565192,
         0.21419524800434125,
         0.2092963486416813,
         0.2163789184471848,
         0.21502337715241546,
         0.21822145677116864,
         0.21192847558425046,
         0.2164662978246662,
         0.21793955045880056,
         0.21203997964952506,
         0.21428296498169064,
         0.21266409432442457,
         0.2167183074497563,
         0.21465111336689077,
         0.2175925798330675,
         0.2155856024017375,
         0.21495450293992227,
         0.21416791149542905,
         0.21845066442391745,
         0.21887836633615343,
         0.21935356608318055,
         0.21343681040019089,
         0.2137584064050815,
         0.2135684701394947,
         0.21291235998711167,
         0.20652774644686894,
         0.2141024535613171,
         0.2143734400343223,
         0.21544705599765568,
         0.21772388962334863,
         0.20948928642981485,
         0.21458370588245054
        ],
        [
         21.48086130223237,
         21.664764750748873,
         21.429625335149467,
         21.508205885067582,
         22.208598817698658,
         21.559259776491672,
         21.15145825780928,
         21.688455562107265,
         22.146715415176004,
         21.69300234504044,
         22.332242318429053,
         21.748618406243622,
         21.687462561763823,
         21.6131791183725,
         22.14930171146989,
         21.71307371649891,
         22.097202212549746,
         21.92845692206174,
         21.870818085968494,
         21.70189398061484,
         21.634805822744966,
         21.49491091351956,
         22.087220947258174,
         21.584422360174358,
         22.334042430855334,
         21.28485628636554,
         21.865733412094414,
         21.641805920982733,
         21.39246954768896,
         21.640794259496033,
         22.123569714836776,
         22.277722756378353,
         22.114578749984503,
         21.94876652956009,
         21.891905911266804,
         21.63995354762301,
         21.582785394974053,
         21.976662022061646,
         21.806067931465805,
         21.170496792532504,
         21.501634002663195,
         21.946894984692335,
         21.477908567525446,
         22.200669643469155,
         22.109486872330308,
         22.009484470356256,
         21.96403484349139,
         21.603871481493115,
         21.78833824582398,
         21.40746571496129,
         21.253058743663132,
         21.86967712827027,
         22.3200736916624,
         22.240833579795435,
         21.856474955566227,
         21.884020612575114,
         22.531793320551515,
         21.91331791970879,
         22.024661108851433,
         21.968939432874322,
         21.496733180247247,
         22.079747499432415,
         21.32373354304582,
         21.988867939449847,
         21.647176256403327,
         22.35528459586203,
         21.87046684231609,
         22.014234566129744,
         21.354275848716497,
         21.847915296442807,
         21.348227561451495,
         22.07064968161285,
         21.932384469546378,
         22.2585885906592,
         21.616704509593546,
         22.079562378115952,
         22.229834146797657,
         21.628077924251556,
         21.856862428132445,
         21.691737621091306,
         22.105267359875143,
         21.89441356342286,
         22.194443142972887,
         21.989731444977224,
         21.92535929987207,
         21.845126972533762,
         22.28196777123958,
         22.32559336628765,
         22.374063740484416,
         21.77055466081947,
         21.803357453318313,
         21.78398395422846,
         21.71706071868539,
         21.065830137580633,
         21.838450263254344,
         21.866090883500874,
         21.97559971176088,
         22.20783674158156,
         21.367907215841115,
         21.887538000009954
        ],
        [
         3.6264785261065757,
         3.726684766995515,
         3.6497801771886533,
         3.634234180274603,
         3.705844142334334,
         3.6726750605911525,
         3.6218694673022385,
         3.6528613927750375,
         3.6922091495212315,
         3.6932236717555242,
         3.6900163901608902,
         3.6268810649320358,
         3.6310921267545875,
         3.6837266048573025,
         3.689256162969656,
         3.755021926434941,
         3.642709061197628,
         3.682182957912594,
         3.6667735717809156,
         3.668052682027602,
         3.6509203713675786,
         3.69687529548244,
         3.7398035030228742,
         3.650871424838446,
         3.7205260426229025,
         3.68418259472294,
         3.7354335552575857,
         3.6622288525030915,
         3.613180123009412,
         3.6362267766185035,
         3.7025513950970064,
         3.7102629411238452,
         3.6943376324482116,
         3.6730465198695295,
         3.6926636736137572,
         3.652703878695089,
         3.6555894086172964,
         3.68508284318302,
         3.68006849881926,
         3.6116091889339756,
         3.6180384720609626,
         3.6594661231206693,
         3.679115490235636,
         3.6831851503342867,
         3.683574020018998,
         3.6621407896482925,
         3.6846771646576335,
         3.6620333414824597,
         3.6272131898935918,
         3.6641113831227403,
         3.7072691279416885,
         3.670941813672409,
         3.702950875870659,
         3.722541402160254,
         3.739063869249063,
         3.6256016798668,
         3.703935032387882,
         3.6692749235295903,
         3.6757827399495375,
         3.7397078902496523,
         3.6619386287147138,
         3.658786908109927,
         3.638395951958506,
         3.650869880389405,
         3.6452571497717856,
         3.686101421683219,
         3.6713756834614584,
         3.6715394795902205,
         3.627393805731581,
         3.6641970290458374,
         3.6543405313469517,
         3.6850373160816776,
         3.676951884719399,
         3.7102435483443377,
         3.6995667615741787,
         3.6608168996032417,
         3.7238057781614256,
         3.6381189815339092,
         3.6491666951788706,
         3.6978334984367884,
         3.683518943816447,
         3.669798686074653,
         3.6885872655997787,
         3.706245511004375,
         3.633978422581428,
         3.6684342560156296,
         3.7515240209154874,
         3.717927557636368,
         3.737484900354833,
         3.66403613066979,
         3.6604295682455,
         3.6888222532884716,
         3.6406613397901895,
         3.617284552996069,
         3.718047063990488,
         3.640908778504994,
         3.662334302855774,
         3.7589732431763156,
         3.6387848388574864,
         3.6742178169073507
        ]
       ],
       "encoder": "json",
       "name": "ABC_GAN_3 Metrics",
       "version": 1
      }
     },
     "metadata": {
      "scrapbook": {
       "data": true,
       "display": false,
       "name": "ABC_GAN_3 Metrics"
      }
     },
     "output_type": "display_data"
    },
    {
     "name": "stdout",
     "output_type": "stream",
     "text": [
      "MSE\n",
      "0.13244403729889198\n"
     ]
    }
   ],
   "source": [
    "ABC_GAN3_metrics=ABC_train_test2.test_generator(gen3,test_data,prior_model,variance,bias,\"3\",device)\n",
    "sb.glue(\"ABC_GAN_3 Metrics\",ABC_GAN3_metrics)\n",
    "\n",
    "print(\"MSE\")\n",
    "print(mean(ABC_GAN3_metrics[0]))"
   ]
  },
  {
   "cell_type": "code",
   "execution_count": 18,
   "id": "c8e46b48",
   "metadata": {
    "execution": {
     "iopub.execute_input": "2022-06-12T06:33:18.138919Z",
     "iopub.status.busy": "2022-06-12T06:33:18.138547Z",
     "iopub.status.idle": "2022-06-12T06:33:18.464308Z",
     "shell.execute_reply": "2022-06-12T06:33:18.464607Z"
    },
    "id": "c8e46b48",
    "papermill": {
     "duration": 0.345451,
     "end_time": "2022-06-12T06:33:18.464730",
     "exception": false,
     "start_time": "2022-06-12T06:33:18.119279",
     "status": "completed"
    },
    "tags": []
   },
   "outputs": [
    {
     "data": {
      "image/png": "[encoded data removed]",
      "text/plain": [
       "<Figure size 432x288 with 1 Axes>"
      ]
     },
     "metadata": {
      "needs_background": "light"
     },
     "output_type": "display_data"
    },
    {
     "data": {
      "image/png": "[encoded data removed]",
      "text/plain": [
       "<Figure size 432x288 with 1 Axes>"
      ]
     },
     "metadata": {
      "needs_background": "light"
     },
     "output_type": "display_data"
    },
    {
     "data": {
      "image/png": "[encoded data removed]",
      "text/plain": [
       "<Figure size 432x288 with 1 Axes>"
      ]
     },
     "metadata": {
      "needs_background": "light"
     },
     "output_type": "display_data"
    },
    {
     "data": {
      "image/png": "[encoded data removed]",
      "text/plain": [
       "<Figure size 432x288 with 1 Axes>"
      ]
     },
     "metadata": {
      "needs_background": "light"
     },
     "output_type": "display_data"
    }
   ],
   "source": [
    "sanityChecks.discProbVsError(train_data,disc3,device)\n",
    "sanityChecks.discProbVsError(test_data,disc3,device)"
   ]
  },
  {
   "cell_type": "markdown",
   "id": "a5bd74c3",
   "metadata": {
    "id": "a5bd74c3",
    "papermill": {
     "duration": 0.034445,
     "end_time": "2022-06-12T06:33:18.519093",
     "exception": false,
     "start_time": "2022-06-12T06:33:18.484648",
     "status": "completed"
    },
    "tags": []
   },
   "source": [
    "## Skip Connection Model Analysis - ABC-GAN "
   ]
  },
  {
   "cell_type": "markdown",
   "id": "5744a8bf",
   "metadata": {
    "id": "5744a8bf",
    "papermill": {
     "duration": 0.019246,
     "end_time": "2022-06-12T06:33:18.558011",
     "exception": false,
     "start_time": "2022-06-12T06:33:18.538765",
     "status": "completed"
    },
    "tags": []
   },
   "source": [
    "### Weight Analysis \n",
    "\n",
    "Study the weights of the skip connection layer\n",
    "\n",
    "Equation of the skip connection is \n",
    "\n",
    "$output = y_{gan} * w + y_{abc} * (1-w)$"
   ]
  },
  {
   "cell_type": "code",
   "execution_count": 19,
   "id": "52c31dea",
   "metadata": {
    "execution": {
     "iopub.execute_input": "2022-06-12T06:33:18.599025Z",
     "iopub.status.busy": "2022-06-12T06:33:18.598640Z",
     "iopub.status.idle": "2022-06-12T06:33:18.602043Z",
     "shell.execute_reply": "2022-06-12T06:33:18.602291Z"
    },
    "id": "52c31dea",
    "papermill": {
     "duration": 0.025299,
     "end_time": "2022-06-12T06:33:18.602405",
     "exception": false,
     "start_time": "2022-06-12T06:33:18.577106",
     "status": "completed"
    },
    "tags": []
   },
   "outputs": [
    {
     "name": "stdout",
     "output_type": "stream",
     "text": [
      "Weight of the node at skip connection\n",
      "Parameter containing:\n",
      "tensor([[0.9481]], requires_grad=True)\n"
     ]
    },
    {
     "data": {
      "application/scrapbook.scrap.json+json": {
       "data": 0.9481119513511658,
       "encoder": "json",
       "name": "Skip Connection Weight",
       "version": 1
      }
     },
     "metadata": {
      "scrapbook": {
       "data": true,
       "display": false,
       "name": "Skip Connection Weight"
      }
     },
     "output_type": "display_data"
    }
   ],
   "source": [
    "print(\"Weight of the node at skip connection\")\n",
    "for name,param in gen3.named_parameters():\n",
    "    if(name == \"skipNode.weight\"):\n",
    "        print(param)\n",
    "        sb.glue(\"Skip Connection Weight\",param.item())"
   ]
  }
 ],
 "metadata": {
  "colab": {
   "collapsed_sections": [],
   "name": "ABC_GAN_Model-Catboost_Pre-gen.ipynb",
   "provenance": []
  },
  "interpreter": {
   "hash": "31f2aee4e71d21fbe5cf8b01ff0e069b9275f58929596ceb00d14d90e3e16cd6"
  },
  "kernelspec": {
   "display_name": "Python 3 (ipykernel)",
   "language": "python",
   "name": "python3"
  },
  "language_info": {
   "codemirror_mode": {
    "name": "ipython",
    "version": 3
   },
   "file_extension": ".py",
   "mimetype": "text/x-python",
   "name": "python",
   "nbconvert_exporter": "python",
   "pygments_lexer": "ipython3",
   "version": "3.8.11"
  },
  "papermill": {
   "default_parameters": {},
   "duration": 239.572458,
   "end_time": "2022-06-12T06:33:18.929786",
   "environment_variables": {},
   "exception": null,
   "input_path": "ABC_GAN-Catboost.ipynb",
   "output_path": "./ABC_GAN_Catboost/ABC-GAN_output_7_6.ipynb",
   "parameters": {
    "bias": 0.01,
    "variance": 1
   },
   "start_time": "2022-06-12T06:29:19.357328",
   "version": "2.3.3"
  }
 },
 "nbformat": 4,
 "nbformat_minor": 5
}