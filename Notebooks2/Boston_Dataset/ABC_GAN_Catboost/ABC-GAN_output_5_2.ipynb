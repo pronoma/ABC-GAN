{
 "cells": [
  {
   "cell_type": "markdown",
   "id": "622780e6",
   "metadata": {
    "id": "622780e6",
    "papermill": {
     "duration": 0.025398,
     "end_time": "2022-06-12T04:56:32.099962",
     "exception": false,
     "start_time": "2022-06-12T04:56:32.074564",
     "status": "completed"
    },
    "tags": []
   },
   "source": [
    "## Import Libraries "
   ]
  },
  {
   "cell_type": "code",
   "execution_count": 1,
   "id": "a62397e3",
   "metadata": {
    "execution": {
     "iopub.execute_input": "2022-06-12T04:56:32.134788Z",
     "iopub.status.busy": "2022-06-12T04:56:32.134226Z",
     "iopub.status.idle": "2022-06-12T04:56:32.136523Z",
     "shell.execute_reply": "2022-06-12T04:56:32.136915Z"
    },
    "id": "a62397e3",
    "papermill": {
     "duration": 0.022156,
     "end_time": "2022-06-12T04:56:32.137124",
     "exception": false,
     "start_time": "2022-06-12T04:56:32.114968",
     "status": "completed"
    },
    "tags": []
   },
   "outputs": [],
   "source": [
    "import warnings\n",
    "import sys\n",
    "sys.path.insert(0, '../../src')\n",
    "warnings.filterwarnings('ignore')"
   ]
  },
  {
   "cell_type": "code",
   "execution_count": 2,
   "id": "d6a4e155",
   "metadata": {
    "execution": {
     "iopub.execute_input": "2022-06-12T04:56:32.158317Z",
     "iopub.status.busy": "2022-06-12T04:56:32.157890Z",
     "iopub.status.idle": "2022-06-12T04:56:33.935033Z",
     "shell.execute_reply": "2022-06-12T04:56:33.935291Z"
    },
    "id": "d6a4e155",
    "papermill": {
     "duration": 1.788432,
     "end_time": "2022-06-12T04:56:33.935413",
     "exception": false,
     "start_time": "2022-06-12T04:56:32.146981",
     "status": "completed"
    },
    "tags": []
   },
   "outputs": [],
   "source": [
    "import ABC_train_test2\n",
    "import bostonDataset\n",
    "import network\n",
    "import dataset\n",
    "import sanityChecks\n",
    "import torch \n",
    "import scrapbook as sb\n",
    "from statistics import mean \n",
    "import catboost as ctb \n",
    "from sklearn.model_selection import train_test_split\n",
    "from sklearn.metrics import mean_squared_error,mean_absolute_error\n",
    "import numpy as np"
   ]
  },
  {
   "cell_type": "markdown",
   "id": "2fa5b0f7",
   "metadata": {
    "id": "2fa5b0f7",
    "papermill": {
     "duration": 0.006825,
     "end_time": "2022-06-12T04:56:33.949530",
     "exception": false,
     "start_time": "2022-06-12T04:56:33.942705",
     "status": "completed"
    },
    "tags": []
   },
   "source": [
    "## Parameters "
   ]
  },
  {
   "cell_type": "code",
   "execution_count": 3,
   "id": "783186fb",
   "metadata": {
    "execution": {
     "iopub.execute_input": "2022-06-12T04:56:33.965259Z",
     "iopub.status.busy": "2022-06-12T04:56:33.964882Z",
     "iopub.status.idle": "2022-06-12T04:56:33.966113Z",
     "shell.execute_reply": "2022-06-12T04:56:33.966346Z"
    },
    "id": "783186fb",
    "papermill": {
     "duration": 0.010106,
     "end_time": "2022-06-12T04:56:33.966452",
     "exception": false,
     "start_time": "2022-06-12T04:56:33.956346",
     "status": "completed"
    },
    "tags": [
     "parameters"
    ]
   },
   "outputs": [],
   "source": [
    "variance = 1\n",
    "bias = 1 "
   ]
  },
  {
   "cell_type": "code",
   "execution_count": 4,
   "id": "13ee4327",
   "metadata": {
    "execution": {
     "iopub.execute_input": "2022-06-12T04:56:33.982273Z",
     "iopub.status.busy": "2022-06-12T04:56:33.981889Z",
     "iopub.status.idle": "2022-06-12T04:56:33.983102Z",
     "shell.execute_reply": "2022-06-12T04:56:33.983398Z"
    },
    "papermill": {
     "duration": 0.010035,
     "end_time": "2022-06-12T04:56:33.983500",
     "exception": false,
     "start_time": "2022-06-12T04:56:33.973465",
     "status": "completed"
    },
    "tags": [
     "injected-parameters"
    ]
   },
   "outputs": [],
   "source": [
    "# Parameters\n",
    "variance = 0.01\n",
    "bias = 1\n"
   ]
  },
  {
   "cell_type": "markdown",
   "id": "391cdbfd",
   "metadata": {
    "id": "391cdbfd",
    "papermill": {
     "duration": 0.006826,
     "end_time": "2022-06-12T04:56:33.997309",
     "exception": false,
     "start_time": "2022-06-12T04:56:33.990483",
     "status": "completed"
    },
    "tags": []
   },
   "source": [
    "## Dataset \n"
   ]
  },
  {
   "cell_type": "code",
   "execution_count": 5,
   "id": "5b51f161",
   "metadata": {
    "execution": {
     "iopub.execute_input": "2022-06-12T04:56:34.012932Z",
     "iopub.status.busy": "2022-06-12T04:56:34.012558Z",
     "iopub.status.idle": "2022-06-12T04:56:34.013791Z",
     "shell.execute_reply": "2022-06-12T04:56:34.014079Z"
    },
    "id": "5b51f161",
    "papermill": {
     "duration": 0.00998,
     "end_time": "2022-06-12T04:56:34.014187",
     "exception": false,
     "start_time": "2022-06-12T04:56:34.004207",
     "status": "completed"
    },
    "tags": []
   },
   "outputs": [],
   "source": [
    "#Parameters \n",
    "n_features = 13\n",
    "n_samples= 506\n",
    "n_target = 1 "
   ]
  },
  {
   "cell_type": "code",
   "execution_count": 6,
   "id": "5d6eced4",
   "metadata": {
    "execution": {
     "iopub.execute_input": "2022-06-12T04:56:34.030132Z",
     "iopub.status.busy": "2022-06-12T04:56:34.029767Z",
     "iopub.status.idle": "2022-06-12T04:56:34.040555Z",
     "shell.execute_reply": "2022-06-12T04:56:34.040807Z"
    },
    "id": "5d6eced4",
    "papermill": {
     "duration": 0.019812,
     "end_time": "2022-06-12T04:56:34.040923",
     "exception": false,
     "start_time": "2022-06-12T04:56:34.021111",
     "status": "completed"
    },
    "tags": []
   },
   "outputs": [
    {
     "name": "stdout",
     "output_type": "stream",
     "text": [
      "         X1        X2        X3        X4        X5        X6        X7  \\\n",
      "0 -0.419782  0.284830 -1.287909 -0.272599 -0.144217  0.413672 -0.120013   \n",
      "1 -0.417339 -0.487722 -0.593381 -0.272599 -0.740262  0.194274  0.367166   \n",
      "2 -0.417342 -0.487722 -0.593381 -0.272599 -0.740262  1.282714 -0.265812   \n",
      "3 -0.416750 -0.487722 -1.306878 -0.272599 -0.835284  1.016303 -0.809889   \n",
      "4 -0.412482 -0.487722 -1.306878 -0.272599 -0.835284  1.228577 -0.511180   \n",
      "\n",
      "         X8        X9       X10       X11       X12       X13         Y  \n",
      "0  0.140214 -0.982843 -0.666608 -1.459000  0.441052 -1.075562  0.159686  \n",
      "1  0.557160 -0.867883 -0.987329 -0.303094  0.441052 -0.492439 -0.101524  \n",
      "2  0.557160 -0.867883 -0.987329 -0.303094  0.396427 -1.208727  1.324247  \n",
      "3  1.077737 -0.752922 -1.106115  0.113032  0.416163 -1.361517  1.182758  \n",
      "4  1.077737 -0.752922 -1.106115  0.113032  0.441052 -1.026501  1.487503  \n"
     ]
    }
   ],
   "source": [
    "X,Y = bostonDataset.boston_data()"
   ]
  },
  {
   "cell_type": "code",
   "execution_count": 7,
   "id": "fe007438",
   "metadata": {
    "execution": {
     "iopub.execute_input": "2022-06-12T04:56:34.058307Z",
     "iopub.status.busy": "2022-06-12T04:56:34.057942Z",
     "iopub.status.idle": "2022-06-12T04:56:34.059235Z",
     "shell.execute_reply": "2022-06-12T04:56:34.059484Z"
    },
    "id": "fe007438",
    "papermill": {
     "duration": 0.011194,
     "end_time": "2022-06-12T04:56:34.059592",
     "exception": false,
     "start_time": "2022-06-12T04:56:34.048398",
     "status": "completed"
    },
    "tags": []
   },
   "outputs": [],
   "source": [
    "#Train test split for dataset \n",
    "X_train,X_test,Y_train,Y_test = train_test_split(X,Y,test_size = 0.2)\n",
    "train_data = dataset.CustomDataset(X_train,Y_train)\n",
    "test_data = dataset.CustomDataset(X_test,Y_test)\n"
   ]
  },
  {
   "cell_type": "markdown",
   "id": "a9a1af34",
   "metadata": {
    "id": "a9a1af34",
    "papermill": {
     "duration": 0.007072,
     "end_time": "2022-06-12T04:56:34.073950",
     "exception": false,
     "start_time": "2022-06-12T04:56:34.066878",
     "status": "completed"
    },
    "tags": []
   },
   "source": [
    "## Training Parameters "
   ]
  },
  {
   "cell_type": "code",
   "execution_count": 8,
   "id": "952b7fc8",
   "metadata": {
    "execution": {
     "iopub.execute_input": "2022-06-12T04:56:34.090329Z",
     "iopub.status.busy": "2022-06-12T04:56:34.089969Z",
     "iopub.status.idle": "2022-06-12T04:56:34.091235Z",
     "shell.execute_reply": "2022-06-12T04:56:34.091499Z"
    },
    "id": "952b7fc8",
    "papermill": {
     "duration": 0.01054,
     "end_time": "2022-06-12T04:56:34.091605",
     "exception": false,
     "start_time": "2022-06-12T04:56:34.081065",
     "status": "completed"
    },
    "tags": []
   },
   "outputs": [],
   "source": [
    "batch_size = 32\n",
    "n_epochs = 1000\n",
    "#Select the device \n",
    "device = torch.device('cuda' if torch.cuda.is_available() else 'cpu')"
   ]
  },
  {
   "cell_type": "markdown",
   "id": "a95e1600",
   "metadata": {
    "id": "a95e1600",
    "papermill": {
     "duration": 0.007119,
     "end_time": "2022-06-12T04:56:34.105974",
     "exception": false,
     "start_time": "2022-06-12T04:56:34.098855",
     "status": "completed"
    },
    "tags": []
   },
   "source": [
    "# ABC Pre-generator Model \n",
    "\n",
    "1. The catboost model is used as a pre-generator model for the ABC-GAN. \n",
    "2. The model is first trained on the entire dataset \n",
    "3. It generats X,Y pairs and we add some Gaussian noise with mean 0 and variance 1 to it which is then feed as input to the generator.\n"
   ]
  },
  {
   "cell_type": "code",
   "execution_count": 9,
   "id": "ff8ce7bd",
   "metadata": {
    "execution": {
     "iopub.execute_input": "2022-06-12T04:56:34.134108Z",
     "iopub.status.busy": "2022-06-12T04:56:34.132813Z",
     "iopub.status.idle": "2022-06-12T04:56:35.108229Z",
     "shell.execute_reply": "2022-06-12T04:56:35.108562Z"
    },
    "id": "ff8ce7bd",
    "papermill": {
     "duration": 0.995208,
     "end_time": "2022-06-12T04:56:35.108688",
     "exception": false,
     "start_time": "2022-06-12T04:56:34.113480",
     "status": "completed"
    },
    "tags": []
   },
   "outputs": [
    {
     "name": "stdout",
     "output_type": "stream",
     "text": [
      "Learning rate set to 0.033215\n",
      "0:\tlearn: 0.9959448\ttotal: 58.7ms\tremaining: 58.6s\n",
      "1:\tlearn: 0.9768048\ttotal: 59.6ms\tremaining: 29.7s\n",
      "2:\tlearn: 0.9558641\ttotal: 60.5ms\tremaining: 20.1s\n",
      "3:\tlearn: 0.9389712\ttotal: 61.5ms\tremaining: 15.3s\n",
      "4:\tlearn: 0.9220567\ttotal: 62.5ms\tremaining: 12.4s\n",
      "5:\tlearn: 0.9052212\ttotal: 63.3ms\tremaining: 10.5s\n",
      "6:\tlearn: 0.8893801\ttotal: 64.2ms\tremaining: 9.11s\n",
      "7:\tlearn: 0.8735543\ttotal: 65.1ms\tremaining: 8.07s\n",
      "8:\tlearn: 0.8578077\ttotal: 65.9ms\tremaining: 7.25s\n",
      "9:\tlearn: 0.8413991\ttotal: 66.5ms\tremaining: 6.59s\n",
      "10:\tlearn: 0.8256062\ttotal: 67.3ms\tremaining: 6.05s\n",
      "11:\tlearn: 0.8112189\ttotal: 68.1ms\tremaining: 5.6s\n",
      "12:\tlearn: 0.7958682\ttotal: 68.9ms\tremaining: 5.23s\n",
      "13:\tlearn: 0.7822009\ttotal: 70ms\tremaining: 4.93s\n",
      "14:\tlearn: 0.7687014\ttotal: 71ms\tremaining: 4.66s\n",
      "15:\tlearn: 0.7551962\ttotal: 71.8ms\tremaining: 4.41s\n",
      "16:\tlearn: 0.7431917\ttotal: 72.6ms\tremaining: 4.2s\n",
      "17:\tlearn: 0.7319391\ttotal: 73.4ms\tremaining: 4s\n",
      "18:\tlearn: 0.7193980\ttotal: 74.4ms\tremaining: 3.84s\n",
      "19:\tlearn: 0.7077782\ttotal: 75.1ms\tremaining: 3.68s\n",
      "20:\tlearn: 0.6936781\ttotal: 75.9ms\tremaining: 3.54s\n",
      "21:\tlearn: 0.6828107\ttotal: 76.6ms\tremaining: 3.41s\n",
      "22:\tlearn: 0.6714317\ttotal: 77.4ms\tremaining: 3.29s\n",
      "23:\tlearn: 0.6621852\ttotal: 78.2ms\tremaining: 3.18s\n",
      "24:\tlearn: 0.6515053\ttotal: 79ms\tremaining: 3.08s\n",
      "25:\tlearn: 0.6432354\ttotal: 79.8ms\tremaining: 2.99s\n",
      "26:\tlearn: 0.6344525\ttotal: 80.5ms\tremaining: 2.9s\n",
      "27:\tlearn: 0.6260338\ttotal: 81.3ms\tremaining: 2.82s\n",
      "28:\tlearn: 0.6166582\ttotal: 82.1ms\tremaining: 2.75s\n",
      "29:\tlearn: 0.6074441\ttotal: 82.7ms\tremaining: 2.67s\n",
      "30:\tlearn: 0.5962040\ttotal: 83.5ms\tremaining: 2.61s\n",
      "31:\tlearn: 0.5877194\ttotal: 84.5ms\tremaining: 2.56s\n",
      "32:\tlearn: 0.5798612\ttotal: 85.5ms\tremaining: 2.5s\n",
      "33:\tlearn: 0.5724535\ttotal: 86.4ms\tremaining: 2.45s\n",
      "34:\tlearn: 0.5656525\ttotal: 87.1ms\tremaining: 2.4s\n",
      "35:\tlearn: 0.5591229\ttotal: 88ms\tremaining: 2.35s\n",
      "36:\tlearn: 0.5526906\ttotal: 88.7ms\tremaining: 2.31s\n",
      "37:\tlearn: 0.5451391\ttotal: 89.4ms\tremaining: 2.26s\n",
      "38:\tlearn: 0.5378189\ttotal: 90.2ms\tremaining: 2.22s\n",
      "39:\tlearn: 0.5299870\ttotal: 90.9ms\tremaining: 2.18s\n",
      "40:\tlearn: 0.5251679\ttotal: 91.7ms\tremaining: 2.15s\n",
      "41:\tlearn: 0.5188864\ttotal: 92.6ms\tremaining: 2.11s\n",
      "42:\tlearn: 0.5139167\ttotal: 94.1ms\tremaining: 2.09s\n",
      "43:\tlearn: 0.5086020\ttotal: 94.9ms\tremaining: 2.06s\n",
      "44:\tlearn: 0.5031410\ttotal: 95.6ms\tremaining: 2.03s\n",
      "45:\tlearn: 0.4970817\ttotal: 96.4ms\tremaining: 2s\n",
      "46:\tlearn: 0.4918672\ttotal: 97ms\tremaining: 1.97s\n",
      "47:\tlearn: 0.4861845\ttotal: 97.8ms\tremaining: 1.94s\n",
      "48:\tlearn: 0.4808602\ttotal: 98.5ms\tremaining: 1.91s\n"
     ]
    },
    {
     "name": "stdout",
     "output_type": "stream",
     "text": [
      "49:\tlearn: 0.4752416\ttotal: 99.6ms\tremaining: 1.89s\n",
      "50:\tlearn: 0.4694918\ttotal: 101ms\tremaining: 1.87s\n",
      "51:\tlearn: 0.4641947\ttotal: 102ms\tremaining: 1.85s\n",
      "52:\tlearn: 0.4586489\ttotal: 102ms\tremaining: 1.83s\n",
      "53:\tlearn: 0.4546653\ttotal: 103ms\tremaining: 1.8s\n",
      "54:\tlearn: 0.4498769\ttotal: 104ms\tremaining: 1.78s\n",
      "55:\tlearn: 0.4461141\ttotal: 105ms\tremaining: 1.76s\n",
      "56:\tlearn: 0.4420629\ttotal: 105ms\tremaining: 1.74s\n",
      "57:\tlearn: 0.4375247\ttotal: 106ms\tremaining: 1.73s\n",
      "58:\tlearn: 0.4342164\ttotal: 107ms\tremaining: 1.71s\n",
      "59:\tlearn: 0.4301948\ttotal: 108ms\tremaining: 1.69s\n",
      "60:\tlearn: 0.4252890\ttotal: 109ms\tremaining: 1.68s\n",
      "61:\tlearn: 0.4202896\ttotal: 110ms\tremaining: 1.66s\n",
      "62:\tlearn: 0.4173713\ttotal: 111ms\tremaining: 1.65s\n",
      "63:\tlearn: 0.4135418\ttotal: 111ms\tremaining: 1.63s\n",
      "64:\tlearn: 0.4097632\ttotal: 112ms\tremaining: 1.61s\n",
      "65:\tlearn: 0.4063837\ttotal: 113ms\tremaining: 1.6s\n",
      "66:\tlearn: 0.4028727\ttotal: 114ms\tremaining: 1.58s\n",
      "67:\tlearn: 0.3997341\ttotal: 115ms\tremaining: 1.57s\n",
      "68:\tlearn: 0.3959366\ttotal: 116ms\tremaining: 1.56s\n",
      "69:\tlearn: 0.3929227\ttotal: 117ms\tremaining: 1.55s\n",
      "70:\tlearn: 0.3887628\ttotal: 118ms\tremaining: 1.54s\n",
      "71:\tlearn: 0.3862423\ttotal: 119ms\tremaining: 1.53s\n",
      "72:\tlearn: 0.3837194\ttotal: 119ms\tremaining: 1.52s\n",
      "73:\tlearn: 0.3808500\ttotal: 120ms\tremaining: 1.5s\n",
      "74:\tlearn: 0.3778006\ttotal: 121ms\tremaining: 1.49s\n",
      "75:\tlearn: 0.3751540\ttotal: 122ms\tremaining: 1.48s\n",
      "76:\tlearn: 0.3715949\ttotal: 123ms\tremaining: 1.47s\n",
      "77:\tlearn: 0.3692059\ttotal: 124ms\tremaining: 1.46s\n",
      "78:\tlearn: 0.3669666\ttotal: 124ms\tremaining: 1.45s\n",
      "79:\tlearn: 0.3643596\ttotal: 125ms\tremaining: 1.44s\n",
      "80:\tlearn: 0.3619138\ttotal: 126ms\tremaining: 1.43s\n",
      "81:\tlearn: 0.3590252\ttotal: 127ms\tremaining: 1.42s\n",
      "82:\tlearn: 0.3573984\ttotal: 128ms\tremaining: 1.41s\n",
      "83:\tlearn: 0.3551505\ttotal: 129ms\tremaining: 1.4s\n",
      "84:\tlearn: 0.3524717\ttotal: 130ms\tremaining: 1.39s\n",
      "85:\tlearn: 0.3497016\ttotal: 130ms\tremaining: 1.39s\n",
      "86:\tlearn: 0.3473419\ttotal: 131ms\tremaining: 1.38s\n",
      "87:\tlearn: 0.3449372\ttotal: 132ms\tremaining: 1.37s\n",
      "88:\tlearn: 0.3425016\ttotal: 133ms\tremaining: 1.36s\n",
      "89:\tlearn: 0.3401859\ttotal: 135ms\tremaining: 1.36s\n",
      "90:\tlearn: 0.3381914\ttotal: 136ms\tremaining: 1.36s\n",
      "91:\tlearn: 0.3361718\ttotal: 137ms\tremaining: 1.35s\n",
      "92:\tlearn: 0.3348313\ttotal: 138ms\tremaining: 1.35s\n",
      "93:\tlearn: 0.3330192\ttotal: 139ms\tremaining: 1.34s\n",
      "94:\tlearn: 0.3312599\ttotal: 140ms\tremaining: 1.33s\n",
      "95:\tlearn: 0.3297466\ttotal: 141ms\tremaining: 1.32s\n",
      "96:\tlearn: 0.3282144\ttotal: 142ms\tremaining: 1.32s\n",
      "97:\tlearn: 0.3263001\ttotal: 143ms\tremaining: 1.31s\n",
      "98:\tlearn: 0.3244896\ttotal: 144ms\tremaining: 1.31s\n",
      "99:\tlearn: 0.3233392\ttotal: 144ms\tremaining: 1.3s\n",
      "100:\tlearn: 0.3214196\ttotal: 145ms\tremaining: 1.29s\n",
      "101:\tlearn: 0.3193577\ttotal: 146ms\tremaining: 1.28s\n",
      "102:\tlearn: 0.3177401\ttotal: 147ms\tremaining: 1.28s\n",
      "103:\tlearn: 0.3159058\ttotal: 148ms\tremaining: 1.27s\n",
      "104:\tlearn: 0.3144094\ttotal: 148ms\tremaining: 1.26s\n",
      "105:\tlearn: 0.3123793\ttotal: 149ms\tremaining: 1.26s\n",
      "106:\tlearn: 0.3105742\ttotal: 150ms\tremaining: 1.25s\n",
      "107:\tlearn: 0.3092631\ttotal: 151ms\tremaining: 1.25s\n",
      "108:\tlearn: 0.3076985\ttotal: 152ms\tremaining: 1.24s\n",
      "109:\tlearn: 0.3064447\ttotal: 153ms\tremaining: 1.24s\n",
      "110:\tlearn: 0.3052986\ttotal: 154ms\tremaining: 1.23s\n",
      "111:\tlearn: 0.3040421\ttotal: 155ms\tremaining: 1.23s\n",
      "112:\tlearn: 0.3024428\ttotal: 156ms\tremaining: 1.23s\n",
      "113:\tlearn: 0.3008303\ttotal: 157ms\tremaining: 1.22s\n",
      "114:\tlearn: 0.2992713\ttotal: 158ms\tremaining: 1.22s\n",
      "115:\tlearn: 0.2981861\ttotal: 159ms\tremaining: 1.21s\n",
      "116:\tlearn: 0.2967513\ttotal: 160ms\tremaining: 1.21s\n",
      "117:\tlearn: 0.2956729\ttotal: 161ms\tremaining: 1.2s\n",
      "118:\tlearn: 0.2942824\ttotal: 162ms\tremaining: 1.2s\n",
      "119:\tlearn: 0.2934269\ttotal: 163ms\tremaining: 1.19s\n",
      "120:\tlearn: 0.2920438\ttotal: 163ms\tremaining: 1.19s\n",
      "121:\tlearn: 0.2907361\ttotal: 164ms\tremaining: 1.18s\n",
      "122:\tlearn: 0.2894084\ttotal: 165ms\tremaining: 1.18s\n",
      "123:\tlearn: 0.2882040\ttotal: 166ms\tremaining: 1.17s\n",
      "124:\tlearn: 0.2868534\ttotal: 167ms\tremaining: 1.17s\n",
      "125:\tlearn: 0.2857154\ttotal: 168ms\tremaining: 1.17s\n",
      "126:\tlearn: 0.2842121\ttotal: 169ms\tremaining: 1.16s\n",
      "127:\tlearn: 0.2832419\ttotal: 170ms\tremaining: 1.16s\n",
      "128:\tlearn: 0.2821302\ttotal: 171ms\tremaining: 1.15s\n",
      "129:\tlearn: 0.2810783\ttotal: 172ms\tremaining: 1.15s\n",
      "130:\tlearn: 0.2802808\ttotal: 172ms\tremaining: 1.14s\n",
      "131:\tlearn: 0.2790587\ttotal: 173ms\tremaining: 1.14s\n",
      "132:\tlearn: 0.2781274\ttotal: 175ms\tremaining: 1.14s\n",
      "133:\tlearn: 0.2772902\ttotal: 175ms\tremaining: 1.13s\n",
      "134:\tlearn: 0.2766217\ttotal: 176ms\tremaining: 1.13s\n",
      "135:\tlearn: 0.2755601\ttotal: 177ms\tremaining: 1.12s\n",
      "136:\tlearn: 0.2745367\ttotal: 178ms\tremaining: 1.12s\n",
      "137:\tlearn: 0.2733791\ttotal: 179ms\tremaining: 1.12s\n",
      "138:\tlearn: 0.2721883\ttotal: 180ms\tremaining: 1.11s\n",
      "139:\tlearn: 0.2706884\ttotal: 181ms\tremaining: 1.11s\n",
      "140:\tlearn: 0.2694231\ttotal: 182ms\tremaining: 1.11s\n",
      "141:\tlearn: 0.2687251\ttotal: 182ms\tremaining: 1.1s\n",
      "142:\tlearn: 0.2679040\ttotal: 183ms\tremaining: 1.1s\n",
      "143:\tlearn: 0.2667517\ttotal: 184ms\tremaining: 1.09s\n",
      "144:\tlearn: 0.2658801\ttotal: 185ms\tremaining: 1.09s\n",
      "145:\tlearn: 0.2649477\ttotal: 186ms\tremaining: 1.09s\n",
      "146:\tlearn: 0.2641524\ttotal: 187ms\tremaining: 1.08s\n",
      "147:\tlearn: 0.2631605\ttotal: 188ms\tremaining: 1.08s\n",
      "148:\tlearn: 0.2622316\ttotal: 188ms\tremaining: 1.08s\n",
      "149:\tlearn: 0.2614750\ttotal: 189ms\tremaining: 1.07s\n",
      "150:\tlearn: 0.2603341\ttotal: 190ms\tremaining: 1.07s\n"
     ]
    },
    {
     "name": "stdout",
     "output_type": "stream",
     "text": [
      "151:\tlearn: 0.2595420\ttotal: 191ms\tremaining: 1.06s\n",
      "152:\tlearn: 0.2589219\ttotal: 192ms\tremaining: 1.06s\n",
      "153:\tlearn: 0.2579484\ttotal: 193ms\tremaining: 1.06s\n",
      "154:\tlearn: 0.2572014\ttotal: 194ms\tremaining: 1.05s\n",
      "155:\tlearn: 0.2562379\ttotal: 194ms\tremaining: 1.05s\n",
      "156:\tlearn: 0.2552591\ttotal: 195ms\tremaining: 1.05s\n",
      "157:\tlearn: 0.2544182\ttotal: 196ms\tremaining: 1.04s\n",
      "158:\tlearn: 0.2535206\ttotal: 197ms\tremaining: 1.04s\n",
      "159:\tlearn: 0.2527479\ttotal: 198ms\tremaining: 1.04s\n",
      "160:\tlearn: 0.2518286\ttotal: 199ms\tremaining: 1.03s\n",
      "161:\tlearn: 0.2514432\ttotal: 199ms\tremaining: 1.03s\n",
      "162:\tlearn: 0.2509464\ttotal: 200ms\tremaining: 1.03s\n",
      "163:\tlearn: 0.2502988\ttotal: 201ms\tremaining: 1.02s\n",
      "164:\tlearn: 0.2496407\ttotal: 202ms\tremaining: 1.02s\n",
      "165:\tlearn: 0.2488490\ttotal: 203ms\tremaining: 1.02s\n",
      "166:\tlearn: 0.2481881\ttotal: 204ms\tremaining: 1.01s\n",
      "167:\tlearn: 0.2473161\ttotal: 204ms\tremaining: 1.01s\n",
      "168:\tlearn: 0.2467045\ttotal: 205ms\tremaining: 1.01s\n",
      "169:\tlearn: 0.2459364\ttotal: 206ms\tremaining: 1.01s\n",
      "170:\tlearn: 0.2451144\ttotal: 207ms\tremaining: 1s\n",
      "171:\tlearn: 0.2444180\ttotal: 208ms\tremaining: 1s\n",
      "172:\tlearn: 0.2434319\ttotal: 209ms\tremaining: 998ms\n",
      "173:\tlearn: 0.2424761\ttotal: 210ms\tremaining: 995ms\n",
      "174:\tlearn: 0.2414564\ttotal: 210ms\tremaining: 992ms\n",
      "175:\tlearn: 0.2408628\ttotal: 211ms\tremaining: 990ms\n",
      "176:\tlearn: 0.2397847\ttotal: 212ms\tremaining: 986ms\n",
      "177:\tlearn: 0.2388738\ttotal: 213ms\tremaining: 983ms\n",
      "178:\tlearn: 0.2382715\ttotal: 214ms\tremaining: 980ms\n",
      "179:\tlearn: 0.2376700\ttotal: 214ms\tremaining: 977ms\n",
      "180:\tlearn: 0.2368736\ttotal: 215ms\tremaining: 974ms\n",
      "181:\tlearn: 0.2361256\ttotal: 216ms\tremaining: 971ms\n",
      "182:\tlearn: 0.2353739\ttotal: 217ms\tremaining: 968ms\n",
      "183:\tlearn: 0.2345362\ttotal: 218ms\tremaining: 965ms\n",
      "184:\tlearn: 0.2339284\ttotal: 218ms\tremaining: 962ms\n",
      "185:\tlearn: 0.2332784\ttotal: 219ms\tremaining: 960ms\n",
      "186:\tlearn: 0.2327995\ttotal: 220ms\tremaining: 957ms\n",
      "187:\tlearn: 0.2322521\ttotal: 221ms\tremaining: 954ms\n",
      "188:\tlearn: 0.2317051\ttotal: 222ms\tremaining: 952ms\n",
      "189:\tlearn: 0.2310216\ttotal: 223ms\tremaining: 949ms\n",
      "190:\tlearn: 0.2304015\ttotal: 223ms\tremaining: 946ms\n",
      "191:\tlearn: 0.2299063\ttotal: 224ms\tremaining: 943ms\n",
      "192:\tlearn: 0.2293061\ttotal: 225ms\tremaining: 941ms\n",
      "193:\tlearn: 0.2286729\ttotal: 226ms\tremaining: 940ms\n",
      "194:\tlearn: 0.2280479\ttotal: 227ms\tremaining: 939ms\n",
      "195:\tlearn: 0.2274979\ttotal: 229ms\tremaining: 938ms\n",
      "196:\tlearn: 0.2270563\ttotal: 230ms\tremaining: 937ms\n",
      "197:\tlearn: 0.2264092\ttotal: 231ms\tremaining: 937ms\n",
      "198:\tlearn: 0.2259461\ttotal: 233ms\tremaining: 937ms\n",
      "199:\tlearn: 0.2252015\ttotal: 234ms\tremaining: 937ms\n",
      "200:\tlearn: 0.2249447\ttotal: 235ms\tremaining: 935ms\n",
      "201:\tlearn: 0.2243981\ttotal: 236ms\tremaining: 933ms\n",
      "202:\tlearn: 0.2237551\ttotal: 237ms\tremaining: 930ms\n",
      "203:\tlearn: 0.2230121\ttotal: 238ms\tremaining: 928ms\n",
      "204:\tlearn: 0.2224389\ttotal: 239ms\tremaining: 926ms\n",
      "205:\tlearn: 0.2216509\ttotal: 239ms\tremaining: 923ms\n",
      "206:\tlearn: 0.2211272\ttotal: 240ms\tremaining: 920ms\n",
      "207:\tlearn: 0.2208232\ttotal: 241ms\tremaining: 917ms\n",
      "208:\tlearn: 0.2201570\ttotal: 242ms\tremaining: 915ms\n",
      "209:\tlearn: 0.2194772\ttotal: 243ms\tremaining: 912ms\n",
      "210:\tlearn: 0.2190481\ttotal: 243ms\tremaining: 910ms\n",
      "211:\tlearn: 0.2183333\ttotal: 244ms\tremaining: 908ms\n",
      "212:\tlearn: 0.2175685\ttotal: 245ms\tremaining: 906ms\n",
      "213:\tlearn: 0.2169576\ttotal: 246ms\tremaining: 905ms\n",
      "214:\tlearn: 0.2164218\ttotal: 248ms\tremaining: 904ms\n",
      "215:\tlearn: 0.2160426\ttotal: 248ms\tremaining: 902ms\n",
      "216:\tlearn: 0.2155738\ttotal: 249ms\tremaining: 899ms\n",
      "217:\tlearn: 0.2149492\ttotal: 250ms\tremaining: 897ms\n",
      "218:\tlearn: 0.2145506\ttotal: 251ms\tremaining: 895ms\n",
      "219:\tlearn: 0.2142443\ttotal: 252ms\tremaining: 892ms\n",
      "220:\tlearn: 0.2139167\ttotal: 253ms\tremaining: 890ms\n",
      "221:\tlearn: 0.2132728\ttotal: 253ms\tremaining: 888ms\n",
      "222:\tlearn: 0.2126587\ttotal: 254ms\tremaining: 886ms\n",
      "223:\tlearn: 0.2120453\ttotal: 255ms\tremaining: 884ms\n",
      "224:\tlearn: 0.2116128\ttotal: 256ms\tremaining: 881ms\n",
      "225:\tlearn: 0.2110345\ttotal: 257ms\tremaining: 879ms\n",
      "226:\tlearn: 0.2104086\ttotal: 258ms\tremaining: 877ms\n",
      "227:\tlearn: 0.2100024\ttotal: 258ms\tremaining: 875ms\n",
      "228:\tlearn: 0.2096463\ttotal: 259ms\tremaining: 872ms\n",
      "229:\tlearn: 0.2092564\ttotal: 260ms\tremaining: 871ms\n",
      "230:\tlearn: 0.2090436\ttotal: 261ms\tremaining: 869ms\n",
      "231:\tlearn: 0.2085611\ttotal: 262ms\tremaining: 867ms\n",
      "232:\tlearn: 0.2080080\ttotal: 263ms\tremaining: 865ms\n",
      "233:\tlearn: 0.2075851\ttotal: 263ms\tremaining: 862ms\n",
      "234:\tlearn: 0.2072873\ttotal: 264ms\tremaining: 860ms\n",
      "235:\tlearn: 0.2066326\ttotal: 265ms\tremaining: 858ms\n",
      "236:\tlearn: 0.2064197\ttotal: 266ms\tremaining: 856ms\n",
      "237:\tlearn: 0.2060702\ttotal: 267ms\tremaining: 854ms\n",
      "238:\tlearn: 0.2055705\ttotal: 268ms\tremaining: 852ms\n",
      "239:\tlearn: 0.2050040\ttotal: 269ms\tremaining: 851ms\n",
      "240:\tlearn: 0.2045694\ttotal: 270ms\tremaining: 849ms\n",
      "241:\tlearn: 0.2041026\ttotal: 271ms\tremaining: 848ms\n",
      "242:\tlearn: 0.2036459\ttotal: 272ms\tremaining: 846ms\n",
      "243:\tlearn: 0.2030365\ttotal: 272ms\tremaining: 844ms\n",
      "244:\tlearn: 0.2025214\ttotal: 273ms\tremaining: 842ms\n",
      "245:\tlearn: 0.2020358\ttotal: 274ms\tremaining: 841ms\n",
      "246:\tlearn: 0.2016010\ttotal: 275ms\tremaining: 839ms\n",
      "247:\tlearn: 0.2008784\ttotal: 276ms\tremaining: 836ms\n",
      "248:\tlearn: 0.2005676\ttotal: 277ms\tremaining: 834ms\n",
      "249:\tlearn: 0.1999567\ttotal: 278ms\tremaining: 833ms\n",
      "250:\tlearn: 0.1994011\ttotal: 278ms\tremaining: 831ms\n",
      "251:\tlearn: 0.1990170\ttotal: 279ms\tremaining: 829ms\n",
      "252:\tlearn: 0.1985753\ttotal: 280ms\tremaining: 827ms\n",
      "253:\tlearn: 0.1982334\ttotal: 281ms\tremaining: 825ms\n",
      "254:\tlearn: 0.1977264\ttotal: 282ms\tremaining: 823ms\n",
      "255:\tlearn: 0.1974016\ttotal: 283ms\tremaining: 821ms\n",
      "256:\tlearn: 0.1968793\ttotal: 284ms\tremaining: 820ms\n",
      "257:\tlearn: 0.1962709\ttotal: 284ms\tremaining: 818ms\n",
      "258:\tlearn: 0.1957267\ttotal: 285ms\tremaining: 816ms\n",
      "259:\tlearn: 0.1955460\ttotal: 286ms\tremaining: 814ms\n",
      "260:\tlearn: 0.1952843\ttotal: 287ms\tremaining: 812ms\n",
      "261:\tlearn: 0.1945879\ttotal: 287ms\tremaining: 810ms\n",
      "262:\tlearn: 0.1940317\ttotal: 288ms\tremaining: 808ms\n"
     ]
    },
    {
     "name": "stdout",
     "output_type": "stream",
     "text": [
      "263:\tlearn: 0.1933923\ttotal: 289ms\tremaining: 807ms\n",
      "264:\tlearn: 0.1930760\ttotal: 290ms\tremaining: 805ms\n",
      "265:\tlearn: 0.1927681\ttotal: 291ms\tremaining: 803ms\n",
      "266:\tlearn: 0.1923701\ttotal: 292ms\tremaining: 801ms\n",
      "267:\tlearn: 0.1918180\ttotal: 293ms\tremaining: 799ms\n",
      "268:\tlearn: 0.1912694\ttotal: 293ms\tremaining: 797ms\n",
      "269:\tlearn: 0.1907849\ttotal: 294ms\tremaining: 795ms\n",
      "270:\tlearn: 0.1903799\ttotal: 295ms\tremaining: 794ms\n",
      "271:\tlearn: 0.1899733\ttotal: 296ms\tremaining: 792ms\n",
      "272:\tlearn: 0.1895027\ttotal: 297ms\tremaining: 791ms\n",
      "273:\tlearn: 0.1890701\ttotal: 298ms\tremaining: 789ms\n",
      "274:\tlearn: 0.1887525\ttotal: 298ms\tremaining: 787ms\n",
      "275:\tlearn: 0.1884290\ttotal: 299ms\tremaining: 785ms\n",
      "276:\tlearn: 0.1882971\ttotal: 300ms\tremaining: 783ms\n",
      "277:\tlearn: 0.1881187\ttotal: 301ms\tremaining: 781ms\n",
      "278:\tlearn: 0.1879589\ttotal: 302ms\tremaining: 779ms\n",
      "279:\tlearn: 0.1878617\ttotal: 302ms\tremaining: 778ms\n",
      "280:\tlearn: 0.1877074\ttotal: 303ms\tremaining: 776ms\n",
      "281:\tlearn: 0.1873903\ttotal: 304ms\tremaining: 774ms\n",
      "282:\tlearn: 0.1873124\ttotal: 305ms\tremaining: 773ms\n",
      "283:\tlearn: 0.1872393\ttotal: 306ms\tremaining: 771ms\n",
      "284:\tlearn: 0.1868116\ttotal: 307ms\tremaining: 770ms\n",
      "285:\tlearn: 0.1863726\ttotal: 308ms\tremaining: 768ms\n",
      "286:\tlearn: 0.1859547\ttotal: 309ms\tremaining: 767ms\n",
      "287:\tlearn: 0.1856409\ttotal: 310ms\tremaining: 766ms\n",
      "288:\tlearn: 0.1853692\ttotal: 311ms\tremaining: 764ms\n",
      "289:\tlearn: 0.1852562\ttotal: 311ms\tremaining: 762ms\n",
      "290:\tlearn: 0.1847830\ttotal: 312ms\tremaining: 761ms\n",
      "291:\tlearn: 0.1843626\ttotal: 313ms\tremaining: 759ms\n",
      "292:\tlearn: 0.1839167\ttotal: 314ms\tremaining: 757ms\n",
      "293:\tlearn: 0.1834401\ttotal: 315ms\tremaining: 756ms\n",
      "294:\tlearn: 0.1828232\ttotal: 315ms\tremaining: 754ms\n",
      "295:\tlearn: 0.1826417\ttotal: 316ms\tremaining: 752ms\n",
      "296:\tlearn: 0.1822500\ttotal: 317ms\tremaining: 750ms\n",
      "297:\tlearn: 0.1821613\ttotal: 318ms\tremaining: 749ms\n",
      "298:\tlearn: 0.1816580\ttotal: 319ms\tremaining: 747ms\n",
      "299:\tlearn: 0.1812855\ttotal: 320ms\tremaining: 746ms\n",
      "300:\tlearn: 0.1808704\ttotal: 320ms\tremaining: 744ms\n",
      "301:\tlearn: 0.1807573\ttotal: 321ms\tremaining: 743ms\n",
      "302:\tlearn: 0.1803124\ttotal: 322ms\tremaining: 742ms\n",
      "303:\tlearn: 0.1798927\ttotal: 323ms\tremaining: 740ms\n",
      "304:\tlearn: 0.1797569\ttotal: 324ms\tremaining: 738ms\n",
      "305:\tlearn: 0.1795744\ttotal: 325ms\tremaining: 737ms\n",
      "306:\tlearn: 0.1793022\ttotal: 326ms\tremaining: 735ms\n",
      "307:\tlearn: 0.1791911\ttotal: 326ms\tremaining: 733ms\n",
      "308:\tlearn: 0.1786581\ttotal: 327ms\tremaining: 731ms\n",
      "309:\tlearn: 0.1783167\ttotal: 328ms\tremaining: 730ms\n",
      "310:\tlearn: 0.1778761\ttotal: 329ms\tremaining: 728ms\n",
      "311:\tlearn: 0.1774157\ttotal: 329ms\tremaining: 726ms\n",
      "312:\tlearn: 0.1769392\ttotal: 330ms\tremaining: 725ms\n",
      "313:\tlearn: 0.1768052\ttotal: 331ms\tremaining: 723ms\n",
      "314:\tlearn: 0.1763722\ttotal: 332ms\tremaining: 721ms\n",
      "315:\tlearn: 0.1760301\ttotal: 332ms\tremaining: 720ms\n",
      "316:\tlearn: 0.1756155\ttotal: 333ms\tremaining: 718ms\n",
      "317:\tlearn: 0.1751440\ttotal: 334ms\tremaining: 717ms\n",
      "318:\tlearn: 0.1750120\ttotal: 335ms\tremaining: 715ms\n",
      "319:\tlearn: 0.1747743\ttotal: 336ms\tremaining: 713ms\n",
      "320:\tlearn: 0.1743581\ttotal: 337ms\tremaining: 712ms\n",
      "321:\tlearn: 0.1738336\ttotal: 337ms\tremaining: 710ms\n",
      "322:\tlearn: 0.1737305\ttotal: 338ms\tremaining: 709ms\n",
      "323:\tlearn: 0.1734560\ttotal: 339ms\tremaining: 707ms\n",
      "324:\tlearn: 0.1731789\ttotal: 340ms\tremaining: 706ms\n",
      "325:\tlearn: 0.1726950\ttotal: 341ms\tremaining: 705ms\n",
      "326:\tlearn: 0.1722178\ttotal: 342ms\tremaining: 703ms\n",
      "327:\tlearn: 0.1717392\ttotal: 342ms\tremaining: 702ms\n",
      "328:\tlearn: 0.1713191\ttotal: 343ms\tremaining: 700ms\n",
      "329:\tlearn: 0.1709127\ttotal: 344ms\tremaining: 698ms\n",
      "330:\tlearn: 0.1707745\ttotal: 345ms\tremaining: 697ms\n",
      "331:\tlearn: 0.1705287\ttotal: 346ms\tremaining: 695ms\n",
      "332:\tlearn: 0.1701072\ttotal: 346ms\tremaining: 694ms\n",
      "333:\tlearn: 0.1697585\ttotal: 347ms\tremaining: 692ms\n",
      "334:\tlearn: 0.1696318\ttotal: 348ms\tremaining: 691ms\n",
      "335:\tlearn: 0.1691843\ttotal: 349ms\tremaining: 689ms\n",
      "336:\tlearn: 0.1686500\ttotal: 350ms\tremaining: 688ms\n",
      "337:\tlearn: 0.1683223\ttotal: 351ms\tremaining: 687ms\n",
      "338:\tlearn: 0.1678883\ttotal: 351ms\tremaining: 685ms\n",
      "339:\tlearn: 0.1675738\ttotal: 352ms\tremaining: 684ms\n",
      "340:\tlearn: 0.1671905\ttotal: 353ms\tremaining: 682ms\n",
      "341:\tlearn: 0.1667890\ttotal: 354ms\tremaining: 681ms\n",
      "342:\tlearn: 0.1664117\ttotal: 355ms\tremaining: 679ms\n",
      "343:\tlearn: 0.1660062\ttotal: 355ms\tremaining: 678ms\n",
      "344:\tlearn: 0.1659547\ttotal: 356ms\tremaining: 676ms\n",
      "345:\tlearn: 0.1656443\ttotal: 357ms\tremaining: 675ms\n",
      "346:\tlearn: 0.1653482\ttotal: 358ms\tremaining: 674ms\n",
      "347:\tlearn: 0.1650352\ttotal: 359ms\tremaining: 672ms\n",
      "348:\tlearn: 0.1646152\ttotal: 359ms\tremaining: 671ms\n",
      "349:\tlearn: 0.1642765\ttotal: 360ms\tremaining: 669ms\n",
      "350:\tlearn: 0.1639978\ttotal: 361ms\tremaining: 668ms\n",
      "351:\tlearn: 0.1634795\ttotal: 362ms\tremaining: 667ms\n",
      "352:\tlearn: 0.1630313\ttotal: 363ms\tremaining: 665ms\n",
      "353:\tlearn: 0.1626258\ttotal: 364ms\tremaining: 664ms\n",
      "354:\tlearn: 0.1622943\ttotal: 364ms\tremaining: 662ms\n",
      "355:\tlearn: 0.1621102\ttotal: 365ms\tremaining: 661ms\n",
      "356:\tlearn: 0.1618545\ttotal: 366ms\tremaining: 659ms\n",
      "357:\tlearn: 0.1613667\ttotal: 367ms\tremaining: 658ms\n",
      "358:\tlearn: 0.1610069\ttotal: 368ms\tremaining: 657ms\n",
      "359:\tlearn: 0.1606078\ttotal: 369ms\tremaining: 655ms\n",
      "360:\tlearn: 0.1602585\ttotal: 369ms\tremaining: 654ms\n",
      "361:\tlearn: 0.1602182\ttotal: 370ms\tremaining: 652ms\n",
      "362:\tlearn: 0.1599129\ttotal: 371ms\tremaining: 651ms\n",
      "363:\tlearn: 0.1595209\ttotal: 372ms\tremaining: 649ms\n",
      "364:\tlearn: 0.1591982\ttotal: 372ms\tremaining: 648ms\n",
      "365:\tlearn: 0.1589862\ttotal: 373ms\tremaining: 646ms\n",
      "366:\tlearn: 0.1586860\ttotal: 374ms\tremaining: 645ms\n",
      "367:\tlearn: 0.1586129\ttotal: 375ms\tremaining: 644ms\n",
      "368:\tlearn: 0.1582056\ttotal: 375ms\tremaining: 642ms\n",
      "369:\tlearn: 0.1578643\ttotal: 376ms\tremaining: 641ms\n",
      "370:\tlearn: 0.1575420\ttotal: 377ms\tremaining: 639ms\n",
      "371:\tlearn: 0.1572808\ttotal: 378ms\tremaining: 638ms\n",
      "372:\tlearn: 0.1569874\ttotal: 379ms\tremaining: 637ms\n",
      "373:\tlearn: 0.1566132\ttotal: 380ms\tremaining: 635ms\n"
     ]
    },
    {
     "name": "stdout",
     "output_type": "stream",
     "text": [
      "374:\tlearn: 0.1565530\ttotal: 381ms\tremaining: 635ms\n",
      "375:\tlearn: 0.1565074\ttotal: 382ms\tremaining: 633ms\n",
      "376:\tlearn: 0.1562391\ttotal: 383ms\tremaining: 632ms\n",
      "377:\tlearn: 0.1559880\ttotal: 383ms\tremaining: 631ms\n",
      "378:\tlearn: 0.1558207\ttotal: 385ms\tremaining: 631ms\n",
      "379:\tlearn: 0.1553985\ttotal: 386ms\tremaining: 629ms\n",
      "380:\tlearn: 0.1551398\ttotal: 387ms\tremaining: 628ms\n",
      "381:\tlearn: 0.1548463\ttotal: 387ms\tremaining: 627ms\n",
      "382:\tlearn: 0.1544506\ttotal: 388ms\tremaining: 625ms\n",
      "383:\tlearn: 0.1542214\ttotal: 389ms\tremaining: 624ms\n",
      "384:\tlearn: 0.1537670\ttotal: 390ms\tremaining: 622ms\n",
      "385:\tlearn: 0.1535851\ttotal: 390ms\tremaining: 621ms\n",
      "386:\tlearn: 0.1533215\ttotal: 391ms\tremaining: 620ms\n",
      "387:\tlearn: 0.1531923\ttotal: 392ms\tremaining: 618ms\n",
      "388:\tlearn: 0.1528820\ttotal: 393ms\tremaining: 617ms\n",
      "389:\tlearn: 0.1528373\ttotal: 394ms\tremaining: 616ms\n",
      "390:\tlearn: 0.1525038\ttotal: 395ms\tremaining: 615ms\n",
      "391:\tlearn: 0.1523901\ttotal: 395ms\tremaining: 613ms\n",
      "392:\tlearn: 0.1523417\ttotal: 396ms\tremaining: 612ms\n",
      "393:\tlearn: 0.1520800\ttotal: 397ms\tremaining: 611ms\n",
      "394:\tlearn: 0.1517769\ttotal: 398ms\tremaining: 609ms\n",
      "395:\tlearn: 0.1515412\ttotal: 399ms\tremaining: 608ms\n",
      "396:\tlearn: 0.1514949\ttotal: 399ms\tremaining: 607ms\n",
      "397:\tlearn: 0.1512411\ttotal: 400ms\tremaining: 606ms\n",
      "398:\tlearn: 0.1508847\ttotal: 401ms\tremaining: 605ms\n",
      "399:\tlearn: 0.1507367\ttotal: 402ms\tremaining: 603ms\n",
      "400:\tlearn: 0.1503610\ttotal: 403ms\tremaining: 602ms\n",
      "401:\tlearn: 0.1502957\ttotal: 404ms\tremaining: 601ms\n",
      "402:\tlearn: 0.1500176\ttotal: 405ms\tremaining: 600ms\n",
      "403:\tlearn: 0.1499431\ttotal: 405ms\tremaining: 598ms\n",
      "404:\tlearn: 0.1498424\ttotal: 406ms\tremaining: 597ms\n",
      "405:\tlearn: 0.1496108\ttotal: 407ms\tremaining: 596ms\n",
      "406:\tlearn: 0.1495709\ttotal: 408ms\tremaining: 594ms\n",
      "407:\tlearn: 0.1493014\ttotal: 409ms\tremaining: 594ms\n",
      "408:\tlearn: 0.1489541\ttotal: 410ms\tremaining: 592ms\n",
      "409:\tlearn: 0.1487613\ttotal: 411ms\tremaining: 591ms\n",
      "410:\tlearn: 0.1484320\ttotal: 412ms\tremaining: 590ms\n",
      "411:\tlearn: 0.1483025\ttotal: 412ms\tremaining: 589ms\n",
      "412:\tlearn: 0.1478577\ttotal: 413ms\tremaining: 587ms\n",
      "413:\tlearn: 0.1477116\ttotal: 414ms\tremaining: 586ms\n",
      "414:\tlearn: 0.1472799\ttotal: 415ms\tremaining: 585ms\n",
      "415:\tlearn: 0.1472482\ttotal: 416ms\tremaining: 584ms\n",
      "416:\tlearn: 0.1470690\ttotal: 417ms\tremaining: 582ms\n",
      "417:\tlearn: 0.1467601\ttotal: 417ms\tremaining: 581ms\n",
      "418:\tlearn: 0.1466513\ttotal: 418ms\tremaining: 580ms\n",
      "419:\tlearn: 0.1464352\ttotal: 419ms\tremaining: 579ms\n",
      "420:\tlearn: 0.1461943\ttotal: 420ms\tremaining: 578ms\n",
      "421:\tlearn: 0.1460697\ttotal: 421ms\tremaining: 576ms\n",
      "422:\tlearn: 0.1458060\ttotal: 422ms\tremaining: 575ms\n",
      "423:\tlearn: 0.1454735\ttotal: 422ms\tremaining: 574ms\n",
      "424:\tlearn: 0.1449943\ttotal: 423ms\tremaining: 573ms\n",
      "425:\tlearn: 0.1444686\ttotal: 424ms\tremaining: 571ms\n",
      "426:\tlearn: 0.1440114\ttotal: 425ms\tremaining: 570ms\n",
      "427:\tlearn: 0.1438411\ttotal: 426ms\tremaining: 569ms\n",
      "428:\tlearn: 0.1435867\ttotal: 426ms\tremaining: 568ms\n",
      "429:\tlearn: 0.1433419\ttotal: 427ms\tremaining: 566ms\n",
      "430:\tlearn: 0.1430192\ttotal: 428ms\tremaining: 565ms\n",
      "431:\tlearn: 0.1427716\ttotal: 429ms\tremaining: 564ms\n",
      "432:\tlearn: 0.1424796\ttotal: 430ms\tremaining: 563ms\n",
      "433:\tlearn: 0.1424155\ttotal: 431ms\tremaining: 562ms\n",
      "434:\tlearn: 0.1420995\ttotal: 431ms\tremaining: 560ms\n",
      "435:\tlearn: 0.1420213\ttotal: 432ms\tremaining: 559ms\n",
      "436:\tlearn: 0.1416827\ttotal: 433ms\tremaining: 558ms\n",
      "437:\tlearn: 0.1414535\ttotal: 434ms\tremaining: 557ms\n",
      "438:\tlearn: 0.1412858\ttotal: 435ms\tremaining: 555ms\n",
      "439:\tlearn: 0.1412503\ttotal: 435ms\tremaining: 554ms\n",
      "440:\tlearn: 0.1409448\ttotal: 436ms\tremaining: 553ms\n",
      "441:\tlearn: 0.1406433\ttotal: 437ms\tremaining: 552ms\n",
      "442:\tlearn: 0.1403641\ttotal: 438ms\tremaining: 550ms\n",
      "443:\tlearn: 0.1401206\ttotal: 439ms\tremaining: 549ms\n",
      "444:\tlearn: 0.1397473\ttotal: 439ms\tremaining: 548ms\n",
      "445:\tlearn: 0.1394618\ttotal: 440ms\tremaining: 547ms\n",
      "446:\tlearn: 0.1392358\ttotal: 441ms\tremaining: 545ms\n",
      "447:\tlearn: 0.1387792\ttotal: 442ms\tremaining: 544ms\n",
      "448:\tlearn: 0.1387422\ttotal: 443ms\tremaining: 543ms\n",
      "449:\tlearn: 0.1384663\ttotal: 443ms\tremaining: 542ms\n",
      "450:\tlearn: 0.1381977\ttotal: 444ms\tremaining: 541ms\n",
      "451:\tlearn: 0.1379200\ttotal: 445ms\tremaining: 539ms\n",
      "452:\tlearn: 0.1378257\ttotal: 446ms\tremaining: 538ms\n",
      "453:\tlearn: 0.1375530\ttotal: 446ms\tremaining: 537ms\n",
      "454:\tlearn: 0.1372389\ttotal: 447ms\tremaining: 536ms\n",
      "455:\tlearn: 0.1370426\ttotal: 448ms\tremaining: 535ms\n",
      "456:\tlearn: 0.1367994\ttotal: 449ms\tremaining: 534ms\n",
      "457:\tlearn: 0.1363592\ttotal: 450ms\tremaining: 532ms\n",
      "458:\tlearn: 0.1362597\ttotal: 451ms\tremaining: 531ms\n",
      "459:\tlearn: 0.1360411\ttotal: 452ms\tremaining: 530ms\n",
      "460:\tlearn: 0.1357988\ttotal: 452ms\tremaining: 529ms\n",
      "461:\tlearn: 0.1355528\ttotal: 453ms\tremaining: 528ms\n",
      "462:\tlearn: 0.1352479\ttotal: 454ms\tremaining: 526ms\n",
      "463:\tlearn: 0.1349427\ttotal: 455ms\tremaining: 525ms\n",
      "464:\tlearn: 0.1346082\ttotal: 456ms\tremaining: 524ms\n",
      "465:\tlearn: 0.1343853\ttotal: 457ms\tremaining: 523ms\n",
      "466:\tlearn: 0.1343416\ttotal: 457ms\tremaining: 522ms\n",
      "467:\tlearn: 0.1340653\ttotal: 458ms\tremaining: 521ms\n",
      "468:\tlearn: 0.1340183\ttotal: 459ms\tremaining: 520ms\n",
      "469:\tlearn: 0.1337464\ttotal: 460ms\tremaining: 519ms\n",
      "470:\tlearn: 0.1334983\ttotal: 461ms\tremaining: 518ms\n",
      "471:\tlearn: 0.1334127\ttotal: 462ms\tremaining: 517ms\n",
      "472:\tlearn: 0.1332988\ttotal: 463ms\tremaining: 516ms\n",
      "473:\tlearn: 0.1329200\ttotal: 463ms\tremaining: 514ms\n",
      "474:\tlearn: 0.1326329\ttotal: 464ms\tremaining: 513ms\n",
      "475:\tlearn: 0.1322298\ttotal: 465ms\tremaining: 512ms\n",
      "476:\tlearn: 0.1319839\ttotal: 466ms\tremaining: 511ms\n",
      "477:\tlearn: 0.1317089\ttotal: 467ms\tremaining: 510ms\n",
      "478:\tlearn: 0.1314832\ttotal: 468ms\tremaining: 509ms\n",
      "479:\tlearn: 0.1313144\ttotal: 468ms\tremaining: 508ms\n",
      "480:\tlearn: 0.1310185\ttotal: 469ms\tremaining: 506ms\n",
      "481:\tlearn: 0.1307602\ttotal: 470ms\tremaining: 505ms\n",
      "482:\tlearn: 0.1305106\ttotal: 471ms\tremaining: 504ms\n",
      "483:\tlearn: 0.1302314\ttotal: 472ms\tremaining: 503ms\n",
      "484:\tlearn: 0.1298954\ttotal: 473ms\tremaining: 502ms\n",
      "485:\tlearn: 0.1297347\ttotal: 474ms\tremaining: 501ms\n",
      "486:\tlearn: 0.1297092\ttotal: 475ms\tremaining: 500ms\n",
      "487:\tlearn: 0.1293319\ttotal: 476ms\tremaining: 499ms\n",
      "488:\tlearn: 0.1290881\ttotal: 476ms\tremaining: 498ms\n",
      "489:\tlearn: 0.1288781\ttotal: 477ms\tremaining: 497ms\n",
      "490:\tlearn: 0.1287578\ttotal: 478ms\tremaining: 496ms\n"
     ]
    },
    {
     "name": "stdout",
     "output_type": "stream",
     "text": [
      "491:\tlearn: 0.1285418\ttotal: 479ms\tremaining: 495ms\n",
      "492:\tlearn: 0.1282899\ttotal: 480ms\tremaining: 493ms\n",
      "493:\tlearn: 0.1282693\ttotal: 481ms\tremaining: 493ms\n",
      "494:\tlearn: 0.1280699\ttotal: 482ms\tremaining: 492ms\n",
      "495:\tlearn: 0.1279033\ttotal: 483ms\tremaining: 491ms\n",
      "496:\tlearn: 0.1276414\ttotal: 484ms\tremaining: 490ms\n",
      "497:\tlearn: 0.1273843\ttotal: 485ms\tremaining: 488ms\n",
      "498:\tlearn: 0.1271616\ttotal: 485ms\tremaining: 487ms\n",
      "499:\tlearn: 0.1269417\ttotal: 486ms\tremaining: 486ms\n",
      "500:\tlearn: 0.1265266\ttotal: 487ms\tremaining: 485ms\n",
      "501:\tlearn: 0.1262231\ttotal: 488ms\tremaining: 484ms\n",
      "502:\tlearn: 0.1260069\ttotal: 489ms\tremaining: 483ms\n",
      "503:\tlearn: 0.1259819\ttotal: 490ms\tremaining: 482ms\n",
      "504:\tlearn: 0.1257598\ttotal: 491ms\tremaining: 481ms\n",
      "505:\tlearn: 0.1254954\ttotal: 491ms\tremaining: 480ms\n",
      "506:\tlearn: 0.1252987\ttotal: 492ms\tremaining: 479ms\n",
      "507:\tlearn: 0.1249795\ttotal: 493ms\tremaining: 477ms\n",
      "508:\tlearn: 0.1246973\ttotal: 494ms\tremaining: 476ms\n",
      "509:\tlearn: 0.1244803\ttotal: 495ms\tremaining: 475ms\n",
      "510:\tlearn: 0.1242691\ttotal: 496ms\tremaining: 474ms\n",
      "511:\tlearn: 0.1240199\ttotal: 497ms\tremaining: 473ms\n",
      "512:\tlearn: 0.1238089\ttotal: 497ms\tremaining: 472ms\n",
      "513:\tlearn: 0.1236185\ttotal: 498ms\tremaining: 471ms\n",
      "514:\tlearn: 0.1233803\ttotal: 499ms\tremaining: 470ms\n",
      "515:\tlearn: 0.1230143\ttotal: 500ms\tremaining: 469ms\n",
      "516:\tlearn: 0.1229781\ttotal: 501ms\tremaining: 468ms\n",
      "517:\tlearn: 0.1227934\ttotal: 501ms\tremaining: 466ms\n",
      "518:\tlearn: 0.1225746\ttotal: 502ms\tremaining: 465ms\n",
      "519:\tlearn: 0.1223781\ttotal: 503ms\tremaining: 464ms\n",
      "520:\tlearn: 0.1222312\ttotal: 504ms\tremaining: 463ms\n",
      "521:\tlearn: 0.1221596\ttotal: 505ms\tremaining: 462ms\n",
      "522:\tlearn: 0.1219157\ttotal: 505ms\tremaining: 461ms\n",
      "523:\tlearn: 0.1218814\ttotal: 506ms\tremaining: 460ms\n",
      "524:\tlearn: 0.1215813\ttotal: 507ms\tremaining: 459ms\n",
      "525:\tlearn: 0.1214428\ttotal: 508ms\tremaining: 458ms\n",
      "526:\tlearn: 0.1211692\ttotal: 509ms\tremaining: 457ms\n",
      "527:\tlearn: 0.1208885\ttotal: 509ms\tremaining: 455ms\n",
      "528:\tlearn: 0.1207575\ttotal: 510ms\tremaining: 454ms\n",
      "529:\tlearn: 0.1205346\ttotal: 511ms\tremaining: 453ms\n",
      "530:\tlearn: 0.1205078\ttotal: 512ms\tremaining: 452ms\n",
      "531:\tlearn: 0.1204886\ttotal: 513ms\tremaining: 451ms\n",
      "532:\tlearn: 0.1202559\ttotal: 513ms\tremaining: 450ms\n",
      "533:\tlearn: 0.1200148\ttotal: 514ms\tremaining: 449ms\n",
      "534:\tlearn: 0.1198455\ttotal: 515ms\tremaining: 448ms\n",
      "535:\tlearn: 0.1195148\ttotal: 516ms\tremaining: 447ms\n",
      "536:\tlearn: 0.1194262\ttotal: 517ms\tremaining: 446ms\n",
      "537:\tlearn: 0.1191884\ttotal: 518ms\tremaining: 444ms\n",
      "538:\tlearn: 0.1189210\ttotal: 518ms\tremaining: 443ms\n",
      "539:\tlearn: 0.1186919\ttotal: 519ms\tremaining: 442ms\n",
      "540:\tlearn: 0.1186313\ttotal: 520ms\tremaining: 441ms\n",
      "541:\tlearn: 0.1184230\ttotal: 521ms\tremaining: 440ms\n",
      "542:\tlearn: 0.1181061\ttotal: 522ms\tremaining: 439ms\n",
      "543:\tlearn: 0.1179390\ttotal: 523ms\tremaining: 438ms\n",
      "544:\tlearn: 0.1178140\ttotal: 524ms\tremaining: 437ms\n",
      "545:\tlearn: 0.1176998\ttotal: 525ms\tremaining: 436ms\n",
      "546:\tlearn: 0.1175175\ttotal: 526ms\tremaining: 435ms\n",
      "547:\tlearn: 0.1173224\ttotal: 526ms\tremaining: 434ms\n",
      "548:\tlearn: 0.1171253\ttotal: 527ms\tremaining: 433ms\n",
      "549:\tlearn: 0.1167701\ttotal: 528ms\tremaining: 432ms\n",
      "550:\tlearn: 0.1164387\ttotal: 529ms\tremaining: 431ms\n",
      "551:\tlearn: 0.1162382\ttotal: 530ms\tremaining: 430ms\n",
      "552:\tlearn: 0.1159201\ttotal: 531ms\tremaining: 429ms\n",
      "553:\tlearn: 0.1157180\ttotal: 531ms\tremaining: 428ms\n",
      "554:\tlearn: 0.1155548\ttotal: 532ms\tremaining: 427ms\n",
      "555:\tlearn: 0.1154007\ttotal: 533ms\tremaining: 426ms\n",
      "556:\tlearn: 0.1152207\ttotal: 534ms\tremaining: 425ms\n",
      "557:\tlearn: 0.1151060\ttotal: 535ms\tremaining: 424ms\n",
      "558:\tlearn: 0.1149126\ttotal: 536ms\tremaining: 423ms\n",
      "559:\tlearn: 0.1147246\ttotal: 537ms\tremaining: 422ms\n",
      "560:\tlearn: 0.1144709\ttotal: 537ms\tremaining: 421ms\n",
      "561:\tlearn: 0.1142975\ttotal: 538ms\tremaining: 419ms\n",
      "562:\tlearn: 0.1142305\ttotal: 539ms\tremaining: 418ms\n",
      "563:\tlearn: 0.1140015\ttotal: 540ms\tremaining: 417ms\n",
      "564:\tlearn: 0.1137969\ttotal: 541ms\tremaining: 416ms\n",
      "565:\tlearn: 0.1136290\ttotal: 542ms\tremaining: 415ms\n",
      "566:\tlearn: 0.1133700\ttotal: 542ms\tremaining: 414ms\n",
      "567:\tlearn: 0.1131144\ttotal: 543ms\tremaining: 413ms\n",
      "568:\tlearn: 0.1129086\ttotal: 544ms\tremaining: 412ms\n",
      "569:\tlearn: 0.1127691\ttotal: 545ms\tremaining: 411ms\n",
      "570:\tlearn: 0.1124746\ttotal: 546ms\tremaining: 410ms\n",
      "571:\tlearn: 0.1124523\ttotal: 547ms\tremaining: 409ms\n",
      "572:\tlearn: 0.1122940\ttotal: 547ms\tremaining: 408ms\n",
      "573:\tlearn: 0.1120070\ttotal: 548ms\tremaining: 407ms\n",
      "574:\tlearn: 0.1118699\ttotal: 549ms\tremaining: 406ms\n",
      "575:\tlearn: 0.1116439\ttotal: 550ms\tremaining: 405ms\n",
      "576:\tlearn: 0.1114324\ttotal: 551ms\tremaining: 404ms\n",
      "577:\tlearn: 0.1111817\ttotal: 552ms\tremaining: 403ms\n",
      "578:\tlearn: 0.1109780\ttotal: 553ms\tremaining: 402ms\n",
      "579:\tlearn: 0.1107919\ttotal: 553ms\tremaining: 401ms\n",
      "580:\tlearn: 0.1105624\ttotal: 554ms\tremaining: 400ms\n",
      "581:\tlearn: 0.1103715\ttotal: 555ms\tremaining: 399ms\n",
      "582:\tlearn: 0.1102230\ttotal: 556ms\tremaining: 398ms\n",
      "583:\tlearn: 0.1099596\ttotal: 557ms\tremaining: 397ms\n",
      "584:\tlearn: 0.1097291\ttotal: 558ms\tremaining: 396ms\n",
      "585:\tlearn: 0.1095358\ttotal: 559ms\tremaining: 395ms\n",
      "586:\tlearn: 0.1093590\ttotal: 560ms\tremaining: 394ms\n",
      "587:\tlearn: 0.1092278\ttotal: 560ms\tremaining: 393ms\n",
      "588:\tlearn: 0.1092121\ttotal: 561ms\tremaining: 392ms\n",
      "589:\tlearn: 0.1089984\ttotal: 562ms\tremaining: 391ms\n",
      "590:\tlearn: 0.1089581\ttotal: 563ms\tremaining: 390ms\n",
      "591:\tlearn: 0.1086885\ttotal: 564ms\tremaining: 389ms\n",
      "592:\tlearn: 0.1084248\ttotal: 565ms\tremaining: 388ms\n",
      "593:\tlearn: 0.1081397\ttotal: 566ms\tremaining: 387ms\n",
      "594:\tlearn: 0.1080367\ttotal: 567ms\tremaining: 386ms\n",
      "595:\tlearn: 0.1078625\ttotal: 567ms\tremaining: 385ms\n",
      "596:\tlearn: 0.1077062\ttotal: 568ms\tremaining: 384ms\n",
      "597:\tlearn: 0.1075117\ttotal: 569ms\tremaining: 383ms\n",
      "598:\tlearn: 0.1073285\ttotal: 570ms\tremaining: 381ms\n"
     ]
    },
    {
     "name": "stdout",
     "output_type": "stream",
     "text": [
      "599:\tlearn: 0.1071498\ttotal: 571ms\tremaining: 381ms\n",
      "600:\tlearn: 0.1070283\ttotal: 572ms\tremaining: 380ms\n",
      "601:\tlearn: 0.1069091\ttotal: 573ms\tremaining: 379ms\n",
      "602:\tlearn: 0.1066741\ttotal: 573ms\tremaining: 378ms\n",
      "603:\tlearn: 0.1065163\ttotal: 574ms\tremaining: 377ms\n",
      "604:\tlearn: 0.1062762\ttotal: 575ms\tremaining: 375ms\n",
      "605:\tlearn: 0.1061543\ttotal: 576ms\tremaining: 374ms\n",
      "606:\tlearn: 0.1059964\ttotal: 577ms\tremaining: 373ms\n",
      "607:\tlearn: 0.1058407\ttotal: 578ms\tremaining: 372ms\n",
      "608:\tlearn: 0.1056345\ttotal: 578ms\tremaining: 371ms\n",
      "609:\tlearn: 0.1054211\ttotal: 579ms\tremaining: 370ms\n",
      "610:\tlearn: 0.1052259\ttotal: 580ms\tremaining: 369ms\n",
      "611:\tlearn: 0.1051312\ttotal: 581ms\tremaining: 368ms\n",
      "612:\tlearn: 0.1050884\ttotal: 582ms\tremaining: 367ms\n",
      "613:\tlearn: 0.1050197\ttotal: 582ms\tremaining: 366ms\n",
      "614:\tlearn: 0.1049705\ttotal: 583ms\tremaining: 365ms\n",
      "615:\tlearn: 0.1049062\ttotal: 584ms\tremaining: 364ms\n",
      "616:\tlearn: 0.1047585\ttotal: 585ms\tremaining: 363ms\n",
      "617:\tlearn: 0.1046138\ttotal: 586ms\tremaining: 362ms\n",
      "618:\tlearn: 0.1043857\ttotal: 587ms\tremaining: 361ms\n",
      "619:\tlearn: 0.1042500\ttotal: 587ms\tremaining: 360ms\n",
      "620:\tlearn: 0.1040420\ttotal: 588ms\tremaining: 359ms\n",
      "621:\tlearn: 0.1039293\ttotal: 589ms\tremaining: 358ms\n",
      "622:\tlearn: 0.1038088\ttotal: 590ms\tremaining: 357ms\n",
      "623:\tlearn: 0.1035979\ttotal: 591ms\tremaining: 356ms\n",
      "624:\tlearn: 0.1034208\ttotal: 592ms\tremaining: 355ms\n",
      "625:\tlearn: 0.1033584\ttotal: 592ms\tremaining: 354ms\n",
      "626:\tlearn: 0.1032010\ttotal: 593ms\tremaining: 353ms\n",
      "627:\tlearn: 0.1030128\ttotal: 594ms\tremaining: 352ms\n",
      "628:\tlearn: 0.1028410\ttotal: 595ms\tremaining: 351ms\n",
      "629:\tlearn: 0.1026468\ttotal: 596ms\tremaining: 350ms\n",
      "630:\tlearn: 0.1024922\ttotal: 597ms\tremaining: 349ms\n",
      "631:\tlearn: 0.1023536\ttotal: 598ms\tremaining: 348ms\n",
      "632:\tlearn: 0.1023097\ttotal: 598ms\tremaining: 347ms\n",
      "633:\tlearn: 0.1021022\ttotal: 599ms\tremaining: 346ms\n",
      "634:\tlearn: 0.1020815\ttotal: 600ms\tremaining: 345ms\n",
      "635:\tlearn: 0.1018886\ttotal: 601ms\tremaining: 344ms\n",
      "636:\tlearn: 0.1016600\ttotal: 602ms\tremaining: 343ms\n",
      "637:\tlearn: 0.1014883\ttotal: 602ms\tremaining: 342ms\n",
      "638:\tlearn: 0.1013882\ttotal: 603ms\tremaining: 341ms\n",
      "639:\tlearn: 0.1011516\ttotal: 604ms\tremaining: 340ms\n",
      "640:\tlearn: 0.1009171\ttotal: 605ms\tremaining: 339ms\n",
      "641:\tlearn: 0.1007371\ttotal: 606ms\tremaining: 338ms\n",
      "642:\tlearn: 0.1005638\ttotal: 607ms\tremaining: 337ms\n",
      "643:\tlearn: 0.1003661\ttotal: 608ms\tremaining: 336ms\n",
      "644:\tlearn: 0.1002199\ttotal: 609ms\tremaining: 335ms\n",
      "645:\tlearn: 0.1000615\ttotal: 610ms\tremaining: 334ms\n",
      "646:\tlearn: 0.0998745\ttotal: 610ms\tremaining: 333ms\n",
      "647:\tlearn: 0.0997617\ttotal: 611ms\tremaining: 332ms\n",
      "648:\tlearn: 0.0995528\ttotal: 612ms\tremaining: 331ms\n",
      "649:\tlearn: 0.0993791\ttotal: 613ms\tremaining: 330ms\n",
      "650:\tlearn: 0.0993389\ttotal: 614ms\tremaining: 329ms\n",
      "651:\tlearn: 0.0991249\ttotal: 614ms\tremaining: 328ms\n",
      "652:\tlearn: 0.0989565\ttotal: 615ms\tremaining: 327ms\n",
      "653:\tlearn: 0.0988338\ttotal: 616ms\tremaining: 326ms\n",
      "654:\tlearn: 0.0986700\ttotal: 617ms\tremaining: 325ms\n",
      "655:\tlearn: 0.0985244\ttotal: 618ms\tremaining: 324ms\n",
      "656:\tlearn: 0.0983632\ttotal: 618ms\tremaining: 323ms\n",
      "657:\tlearn: 0.0981726\ttotal: 619ms\tremaining: 322ms\n",
      "658:\tlearn: 0.0980421\ttotal: 620ms\tremaining: 321ms\n",
      "659:\tlearn: 0.0978574\ttotal: 621ms\tremaining: 320ms\n",
      "660:\tlearn: 0.0976169\ttotal: 622ms\tremaining: 319ms\n",
      "661:\tlearn: 0.0974413\ttotal: 623ms\tremaining: 318ms\n",
      "662:\tlearn: 0.0972699\ttotal: 624ms\tremaining: 317ms\n",
      "663:\tlearn: 0.0970113\ttotal: 625ms\tremaining: 316ms\n",
      "664:\tlearn: 0.0968353\ttotal: 626ms\tremaining: 315ms\n",
      "665:\tlearn: 0.0967417\ttotal: 627ms\tremaining: 314ms\n",
      "666:\tlearn: 0.0965636\ttotal: 628ms\tremaining: 313ms\n",
      "667:\tlearn: 0.0963759\ttotal: 628ms\tremaining: 312ms\n",
      "668:\tlearn: 0.0962153\ttotal: 629ms\tremaining: 311ms\n",
      "669:\tlearn: 0.0960727\ttotal: 630ms\tremaining: 310ms\n",
      "670:\tlearn: 0.0958613\ttotal: 631ms\tremaining: 309ms\n",
      "671:\tlearn: 0.0957558\ttotal: 632ms\tremaining: 308ms\n",
      "672:\tlearn: 0.0955437\ttotal: 633ms\tremaining: 307ms\n",
      "673:\tlearn: 0.0952613\ttotal: 633ms\tremaining: 306ms\n",
      "674:\tlearn: 0.0951544\ttotal: 634ms\tremaining: 305ms\n",
      "675:\tlearn: 0.0949816\ttotal: 635ms\tremaining: 304ms\n",
      "676:\tlearn: 0.0948590\ttotal: 636ms\tremaining: 303ms\n",
      "677:\tlearn: 0.0947175\ttotal: 637ms\tremaining: 302ms\n",
      "678:\tlearn: 0.0945880\ttotal: 638ms\tremaining: 301ms\n",
      "679:\tlearn: 0.0944840\ttotal: 638ms\tremaining: 300ms\n",
      "680:\tlearn: 0.0943435\ttotal: 639ms\tremaining: 299ms\n",
      "681:\tlearn: 0.0942545\ttotal: 640ms\tremaining: 298ms\n",
      "682:\tlearn: 0.0941276\ttotal: 641ms\tremaining: 298ms\n",
      "683:\tlearn: 0.0939911\ttotal: 642ms\tremaining: 297ms\n",
      "684:\tlearn: 0.0938176\ttotal: 643ms\tremaining: 296ms\n",
      "685:\tlearn: 0.0936819\ttotal: 644ms\tremaining: 295ms\n",
      "686:\tlearn: 0.0935099\ttotal: 644ms\tremaining: 294ms\n",
      "687:\tlearn: 0.0932875\ttotal: 645ms\tremaining: 293ms\n",
      "688:\tlearn: 0.0932087\ttotal: 646ms\tremaining: 292ms\n",
      "689:\tlearn: 0.0930335\ttotal: 647ms\tremaining: 291ms\n",
      "690:\tlearn: 0.0928757\ttotal: 648ms\tremaining: 290ms\n",
      "691:\tlearn: 0.0926785\ttotal: 648ms\tremaining: 289ms\n",
      "692:\tlearn: 0.0925637\ttotal: 649ms\tremaining: 288ms\n",
      "693:\tlearn: 0.0923526\ttotal: 650ms\tremaining: 287ms\n",
      "694:\tlearn: 0.0921668\ttotal: 651ms\tremaining: 286ms\n",
      "695:\tlearn: 0.0921336\ttotal: 652ms\tremaining: 285ms\n",
      "696:\tlearn: 0.0920163\ttotal: 652ms\tremaining: 284ms\n",
      "697:\tlearn: 0.0918717\ttotal: 653ms\tremaining: 283ms\n",
      "698:\tlearn: 0.0917479\ttotal: 654ms\tremaining: 282ms\n",
      "699:\tlearn: 0.0917190\ttotal: 655ms\tremaining: 281ms\n",
      "700:\tlearn: 0.0916157\ttotal: 656ms\tremaining: 280ms\n",
      "701:\tlearn: 0.0914779\ttotal: 657ms\tremaining: 279ms\n",
      "702:\tlearn: 0.0913345\ttotal: 658ms\tremaining: 278ms\n",
      "703:\tlearn: 0.0912061\ttotal: 658ms\tremaining: 277ms\n",
      "704:\tlearn: 0.0910020\ttotal: 659ms\tremaining: 276ms\n",
      "705:\tlearn: 0.0909553\ttotal: 660ms\tremaining: 275ms\n",
      "706:\tlearn: 0.0908122\ttotal: 661ms\tremaining: 274ms\n",
      "707:\tlearn: 0.0906229\ttotal: 662ms\tremaining: 273ms\n",
      "708:\tlearn: 0.0904538\ttotal: 663ms\tremaining: 272ms\n",
      "709:\tlearn: 0.0904121\ttotal: 663ms\tremaining: 271ms\n",
      "710:\tlearn: 0.0902287\ttotal: 664ms\tremaining: 270ms\n",
      "711:\tlearn: 0.0901148\ttotal: 665ms\tremaining: 269ms\n",
      "712:\tlearn: 0.0899968\ttotal: 666ms\tremaining: 268ms\n",
      "713:\tlearn: 0.0899012\ttotal: 667ms\tremaining: 267ms\n",
      "714:\tlearn: 0.0897385\ttotal: 668ms\tremaining: 266ms\n",
      "715:\tlearn: 0.0896774\ttotal: 669ms\tremaining: 265ms\n"
     ]
    },
    {
     "name": "stdout",
     "output_type": "stream",
     "text": [
      "716:\tlearn: 0.0895639\ttotal: 670ms\tremaining: 264ms\n",
      "717:\tlearn: 0.0894619\ttotal: 671ms\tremaining: 263ms\n",
      "718:\tlearn: 0.0893638\ttotal: 672ms\tremaining: 262ms\n",
      "719:\tlearn: 0.0892068\ttotal: 672ms\tremaining: 261ms\n",
      "720:\tlearn: 0.0890099\ttotal: 673ms\tremaining: 260ms\n",
      "721:\tlearn: 0.0888980\ttotal: 674ms\tremaining: 260ms\n",
      "722:\tlearn: 0.0888813\ttotal: 675ms\tremaining: 259ms\n",
      "723:\tlearn: 0.0887157\ttotal: 676ms\tremaining: 258ms\n",
      "724:\tlearn: 0.0886095\ttotal: 677ms\tremaining: 257ms\n",
      "725:\tlearn: 0.0884992\ttotal: 678ms\tremaining: 256ms\n",
      "726:\tlearn: 0.0883251\ttotal: 679ms\tremaining: 255ms\n",
      "727:\tlearn: 0.0881852\ttotal: 679ms\tremaining: 254ms\n",
      "728:\tlearn: 0.0880493\ttotal: 680ms\tremaining: 253ms\n",
      "729:\tlearn: 0.0878307\ttotal: 681ms\tremaining: 252ms\n",
      "730:\tlearn: 0.0877080\ttotal: 682ms\tremaining: 251ms\n",
      "731:\tlearn: 0.0875953\ttotal: 682ms\tremaining: 250ms\n",
      "732:\tlearn: 0.0875487\ttotal: 683ms\tremaining: 249ms\n",
      "733:\tlearn: 0.0874191\ttotal: 684ms\tremaining: 248ms\n",
      "734:\tlearn: 0.0872854\ttotal: 685ms\tremaining: 247ms\n",
      "735:\tlearn: 0.0871085\ttotal: 686ms\tremaining: 246ms\n",
      "736:\tlearn: 0.0869770\ttotal: 687ms\tremaining: 245ms\n",
      "737:\tlearn: 0.0868482\ttotal: 687ms\tremaining: 244ms\n",
      "738:\tlearn: 0.0867315\ttotal: 689ms\tremaining: 243ms\n",
      "739:\tlearn: 0.0865241\ttotal: 690ms\tremaining: 242ms\n",
      "740:\tlearn: 0.0864620\ttotal: 690ms\tremaining: 241ms\n",
      "741:\tlearn: 0.0863565\ttotal: 691ms\tremaining: 240ms\n",
      "742:\tlearn: 0.0861883\ttotal: 692ms\tremaining: 239ms\n",
      "743:\tlearn: 0.0859575\ttotal: 693ms\tremaining: 238ms\n",
      "744:\tlearn: 0.0859188\ttotal: 694ms\tremaining: 238ms\n",
      "745:\tlearn: 0.0858474\ttotal: 695ms\tremaining: 237ms\n",
      "746:\tlearn: 0.0856916\ttotal: 695ms\tremaining: 236ms\n",
      "747:\tlearn: 0.0856020\ttotal: 696ms\tremaining: 235ms\n",
      "748:\tlearn: 0.0854706\ttotal: 697ms\tremaining: 234ms\n",
      "749:\tlearn: 0.0854133\ttotal: 698ms\tremaining: 233ms\n",
      "750:\tlearn: 0.0853082\ttotal: 699ms\tremaining: 232ms\n",
      "751:\tlearn: 0.0851020\ttotal: 700ms\tremaining: 231ms\n",
      "752:\tlearn: 0.0849156\ttotal: 701ms\tremaining: 230ms\n",
      "753:\tlearn: 0.0847850\ttotal: 701ms\tremaining: 229ms\n",
      "754:\tlearn: 0.0846568\ttotal: 702ms\tremaining: 228ms\n",
      "755:\tlearn: 0.0845247\ttotal: 703ms\tremaining: 227ms\n",
      "756:\tlearn: 0.0843359\ttotal: 704ms\tremaining: 226ms\n",
      "757:\tlearn: 0.0843136\ttotal: 705ms\tremaining: 225ms\n",
      "758:\tlearn: 0.0842764\ttotal: 705ms\tremaining: 224ms\n",
      "759:\tlearn: 0.0840861\ttotal: 706ms\tremaining: 223ms\n",
      "760:\tlearn: 0.0839639\ttotal: 707ms\tremaining: 222ms\n",
      "761:\tlearn: 0.0838475\ttotal: 708ms\tremaining: 221ms\n",
      "762:\tlearn: 0.0837528\ttotal: 709ms\tremaining: 220ms\n",
      "763:\tlearn: 0.0836355\ttotal: 709ms\tremaining: 219ms\n",
      "764:\tlearn: 0.0835738\ttotal: 710ms\tremaining: 218ms\n",
      "765:\tlearn: 0.0835348\ttotal: 711ms\tremaining: 217ms\n",
      "766:\tlearn: 0.0833856\ttotal: 712ms\tremaining: 216ms\n",
      "767:\tlearn: 0.0832399\ttotal: 713ms\tremaining: 215ms\n",
      "768:\tlearn: 0.0831122\ttotal: 713ms\tremaining: 214ms\n",
      "769:\tlearn: 0.0829553\ttotal: 714ms\tremaining: 213ms\n",
      "770:\tlearn: 0.0828893\ttotal: 715ms\tremaining: 212ms\n",
      "771:\tlearn: 0.0827598\ttotal: 716ms\tremaining: 212ms\n",
      "772:\tlearn: 0.0826573\ttotal: 717ms\tremaining: 211ms\n",
      "773:\tlearn: 0.0824603\ttotal: 718ms\tremaining: 210ms\n",
      "774:\tlearn: 0.0823422\ttotal: 719ms\tremaining: 209ms\n",
      "775:\tlearn: 0.0822143\ttotal: 719ms\tremaining: 208ms\n",
      "776:\tlearn: 0.0820962\ttotal: 720ms\tremaining: 207ms\n",
      "777:\tlearn: 0.0819932\ttotal: 721ms\tremaining: 206ms\n",
      "778:\tlearn: 0.0818303\ttotal: 722ms\tremaining: 205ms\n",
      "779:\tlearn: 0.0816663\ttotal: 723ms\tremaining: 204ms\n",
      "780:\tlearn: 0.0815759\ttotal: 724ms\tremaining: 203ms\n",
      "781:\tlearn: 0.0814199\ttotal: 725ms\tremaining: 202ms\n",
      "782:\tlearn: 0.0813426\ttotal: 726ms\tremaining: 201ms\n",
      "783:\tlearn: 0.0811622\ttotal: 726ms\tremaining: 200ms\n",
      "784:\tlearn: 0.0809996\ttotal: 727ms\tremaining: 199ms\n",
      "785:\tlearn: 0.0808820\ttotal: 728ms\tremaining: 198ms\n",
      "786:\tlearn: 0.0807543\ttotal: 729ms\tremaining: 197ms\n",
      "787:\tlearn: 0.0806399\ttotal: 729ms\tremaining: 196ms\n",
      "788:\tlearn: 0.0805038\ttotal: 730ms\tremaining: 195ms\n",
      "789:\tlearn: 0.0803803\ttotal: 731ms\tremaining: 194ms\n",
      "790:\tlearn: 0.0803354\ttotal: 732ms\tremaining: 193ms\n",
      "791:\tlearn: 0.0802248\ttotal: 733ms\tremaining: 193ms\n",
      "792:\tlearn: 0.0800313\ttotal: 734ms\tremaining: 192ms\n",
      "793:\tlearn: 0.0799329\ttotal: 735ms\tremaining: 191ms\n",
      "794:\tlearn: 0.0798067\ttotal: 735ms\tremaining: 190ms\n",
      "795:\tlearn: 0.0796675\ttotal: 736ms\tremaining: 189ms\n",
      "796:\tlearn: 0.0795427\ttotal: 737ms\tremaining: 188ms\n",
      "797:\tlearn: 0.0794703\ttotal: 738ms\tremaining: 187ms\n",
      "798:\tlearn: 0.0793497\ttotal: 739ms\tremaining: 186ms\n",
      "799:\tlearn: 0.0791391\ttotal: 739ms\tremaining: 185ms\n",
      "800:\tlearn: 0.0790598\ttotal: 740ms\tremaining: 184ms\n",
      "801:\tlearn: 0.0789809\ttotal: 741ms\tremaining: 183ms\n",
      "802:\tlearn: 0.0788974\ttotal: 742ms\tremaining: 182ms\n",
      "803:\tlearn: 0.0787583\ttotal: 743ms\tremaining: 181ms\n",
      "804:\tlearn: 0.0786448\ttotal: 744ms\tremaining: 180ms\n",
      "805:\tlearn: 0.0785640\ttotal: 744ms\tremaining: 179ms\n",
      "806:\tlearn: 0.0785349\ttotal: 745ms\tremaining: 178ms\n",
      "807:\tlearn: 0.0783702\ttotal: 746ms\tremaining: 177ms\n",
      "808:\tlearn: 0.0782743\ttotal: 747ms\tremaining: 176ms\n",
      "809:\tlearn: 0.0781436\ttotal: 748ms\tremaining: 175ms\n",
      "810:\tlearn: 0.0779876\ttotal: 749ms\tremaining: 174ms\n",
      "811:\tlearn: 0.0779548\ttotal: 749ms\tremaining: 174ms\n",
      "812:\tlearn: 0.0778422\ttotal: 750ms\tremaining: 173ms\n",
      "813:\tlearn: 0.0777222\ttotal: 751ms\tremaining: 172ms\n",
      "814:\tlearn: 0.0776068\ttotal: 752ms\tremaining: 171ms\n",
      "815:\tlearn: 0.0775044\ttotal: 753ms\tremaining: 170ms\n",
      "816:\tlearn: 0.0774857\ttotal: 754ms\tremaining: 169ms\n",
      "817:\tlearn: 0.0772980\ttotal: 755ms\tremaining: 168ms\n",
      "818:\tlearn: 0.0772663\ttotal: 755ms\tremaining: 167ms\n",
      "819:\tlearn: 0.0771036\ttotal: 756ms\tremaining: 166ms\n",
      "820:\tlearn: 0.0770217\ttotal: 757ms\tremaining: 165ms\n",
      "821:\tlearn: 0.0768688\ttotal: 758ms\tremaining: 164ms\n",
      "822:\tlearn: 0.0767296\ttotal: 759ms\tremaining: 163ms\n",
      "823:\tlearn: 0.0766452\ttotal: 760ms\tremaining: 162ms\n",
      "824:\tlearn: 0.0764964\ttotal: 761ms\tremaining: 161ms\n"
     ]
    },
    {
     "name": "stdout",
     "output_type": "stream",
     "text": [
      "825:\tlearn: 0.0763800\ttotal: 762ms\tremaining: 160ms\n",
      "826:\tlearn: 0.0763163\ttotal: 763ms\tremaining: 160ms\n",
      "827:\tlearn: 0.0761967\ttotal: 764ms\tremaining: 159ms\n",
      "828:\tlearn: 0.0760655\ttotal: 764ms\tremaining: 158ms\n",
      "829:\tlearn: 0.0758848\ttotal: 765ms\tremaining: 157ms\n",
      "830:\tlearn: 0.0758220\ttotal: 766ms\tremaining: 156ms\n",
      "831:\tlearn: 0.0757362\ttotal: 767ms\tremaining: 155ms\n",
      "832:\tlearn: 0.0756445\ttotal: 767ms\tremaining: 154ms\n",
      "833:\tlearn: 0.0755025\ttotal: 768ms\tremaining: 153ms\n",
      "834:\tlearn: 0.0753546\ttotal: 769ms\tremaining: 152ms\n",
      "835:\tlearn: 0.0752138\ttotal: 770ms\tremaining: 151ms\n",
      "836:\tlearn: 0.0750754\ttotal: 771ms\tremaining: 150ms\n",
      "837:\tlearn: 0.0749863\ttotal: 772ms\tremaining: 149ms\n",
      "838:\tlearn: 0.0749357\ttotal: 773ms\tremaining: 148ms\n",
      "839:\tlearn: 0.0747831\ttotal: 773ms\tremaining: 147ms\n",
      "840:\tlearn: 0.0746587\ttotal: 774ms\tremaining: 146ms\n",
      "841:\tlearn: 0.0744418\ttotal: 775ms\tremaining: 145ms\n",
      "842:\tlearn: 0.0742574\ttotal: 776ms\tremaining: 144ms\n",
      "843:\tlearn: 0.0741237\ttotal: 776ms\tremaining: 144ms\n",
      "844:\tlearn: 0.0739908\ttotal: 777ms\tremaining: 143ms\n",
      "845:\tlearn: 0.0738776\ttotal: 778ms\tremaining: 142ms\n",
      "846:\tlearn: 0.0737718\ttotal: 779ms\tremaining: 141ms\n",
      "847:\tlearn: 0.0736163\ttotal: 780ms\tremaining: 140ms\n",
      "848:\tlearn: 0.0734843\ttotal: 781ms\tremaining: 139ms\n",
      "849:\tlearn: 0.0733632\ttotal: 782ms\tremaining: 138ms\n",
      "850:\tlearn: 0.0733100\ttotal: 783ms\tremaining: 137ms\n",
      "851:\tlearn: 0.0731752\ttotal: 784ms\tremaining: 136ms\n",
      "852:\tlearn: 0.0730531\ttotal: 784ms\tremaining: 135ms\n",
      "853:\tlearn: 0.0729280\ttotal: 785ms\tremaining: 134ms\n",
      "854:\tlearn: 0.0728076\ttotal: 786ms\tremaining: 133ms\n",
      "855:\tlearn: 0.0727751\ttotal: 787ms\tremaining: 132ms\n",
      "856:\tlearn: 0.0726763\ttotal: 788ms\tremaining: 131ms\n",
      "857:\tlearn: 0.0724867\ttotal: 789ms\tremaining: 131ms\n",
      "858:\tlearn: 0.0723681\ttotal: 790ms\tremaining: 130ms\n",
      "859:\tlearn: 0.0722254\ttotal: 791ms\tremaining: 129ms\n",
      "860:\tlearn: 0.0721964\ttotal: 792ms\tremaining: 128ms\n",
      "861:\tlearn: 0.0720912\ttotal: 792ms\tremaining: 127ms\n",
      "862:\tlearn: 0.0719964\ttotal: 793ms\tremaining: 126ms\n",
      "863:\tlearn: 0.0718213\ttotal: 794ms\tremaining: 125ms\n",
      "864:\tlearn: 0.0716575\ttotal: 795ms\tremaining: 124ms\n",
      "865:\tlearn: 0.0715434\ttotal: 796ms\tremaining: 123ms\n",
      "866:\tlearn: 0.0715146\ttotal: 796ms\tremaining: 122ms\n",
      "867:\tlearn: 0.0713843\ttotal: 797ms\tremaining: 121ms\n",
      "868:\tlearn: 0.0712582\ttotal: 798ms\tremaining: 120ms\n",
      "869:\tlearn: 0.0711153\ttotal: 799ms\tremaining: 119ms\n",
      "870:\tlearn: 0.0710117\ttotal: 800ms\tremaining: 118ms\n",
      "871:\tlearn: 0.0709097\ttotal: 801ms\tremaining: 118ms\n",
      "872:\tlearn: 0.0707940\ttotal: 801ms\tremaining: 117ms\n",
      "873:\tlearn: 0.0707207\ttotal: 802ms\tremaining: 116ms\n",
      "874:\tlearn: 0.0707033\ttotal: 803ms\tremaining: 115ms\n",
      "875:\tlearn: 0.0706177\ttotal: 804ms\tremaining: 114ms\n",
      "876:\tlearn: 0.0704813\ttotal: 805ms\tremaining: 113ms\n",
      "877:\tlearn: 0.0704028\ttotal: 806ms\tremaining: 112ms\n",
      "878:\tlearn: 0.0703291\ttotal: 806ms\tremaining: 111ms\n",
      "879:\tlearn: 0.0702691\ttotal: 807ms\tremaining: 110ms\n",
      "880:\tlearn: 0.0701839\ttotal: 808ms\tremaining: 109ms\n",
      "881:\tlearn: 0.0701066\ttotal: 809ms\tremaining: 108ms\n",
      "882:\tlearn: 0.0699777\ttotal: 809ms\tremaining: 107ms\n",
      "883:\tlearn: 0.0698229\ttotal: 810ms\tremaining: 106ms\n",
      "884:\tlearn: 0.0697207\ttotal: 811ms\tremaining: 105ms\n",
      "885:\tlearn: 0.0696270\ttotal: 812ms\tremaining: 104ms\n",
      "886:\tlearn: 0.0694940\ttotal: 813ms\tremaining: 104ms\n",
      "887:\tlearn: 0.0694036\ttotal: 814ms\tremaining: 103ms\n",
      "888:\tlearn: 0.0692956\ttotal: 815ms\tremaining: 102ms\n",
      "889:\tlearn: 0.0691978\ttotal: 815ms\tremaining: 101ms\n",
      "890:\tlearn: 0.0691342\ttotal: 816ms\tremaining: 99.9ms\n",
      "891:\tlearn: 0.0690142\ttotal: 817ms\tremaining: 98.9ms\n",
      "892:\tlearn: 0.0689837\ttotal: 818ms\tremaining: 98ms\n",
      "893:\tlearn: 0.0689216\ttotal: 819ms\tremaining: 97.1ms\n",
      "894:\tlearn: 0.0688576\ttotal: 820ms\tremaining: 96.2ms\n",
      "895:\tlearn: 0.0687907\ttotal: 820ms\tremaining: 95.2ms\n",
      "896:\tlearn: 0.0686713\ttotal: 821ms\tremaining: 94.3ms\n",
      "897:\tlearn: 0.0685388\ttotal: 822ms\tremaining: 93.4ms\n",
      "898:\tlearn: 0.0684241\ttotal: 823ms\tremaining: 92.4ms\n",
      "899:\tlearn: 0.0683415\ttotal: 824ms\tremaining: 91.5ms\n",
      "900:\tlearn: 0.0683024\ttotal: 824ms\tremaining: 90.6ms\n",
      "901:\tlearn: 0.0682219\ttotal: 825ms\tremaining: 89.6ms\n",
      "902:\tlearn: 0.0681052\ttotal: 826ms\tremaining: 88.7ms\n",
      "903:\tlearn: 0.0680593\ttotal: 827ms\tremaining: 87.8ms\n",
      "904:\tlearn: 0.0679808\ttotal: 828ms\tremaining: 86.9ms\n",
      "905:\tlearn: 0.0678684\ttotal: 829ms\tremaining: 86ms\n",
      "906:\tlearn: 0.0677747\ttotal: 830ms\tremaining: 85.1ms\n",
      "907:\tlearn: 0.0676501\ttotal: 830ms\tremaining: 84.1ms\n",
      "908:\tlearn: 0.0675642\ttotal: 831ms\tremaining: 83.2ms\n",
      "909:\tlearn: 0.0674440\ttotal: 832ms\tremaining: 82.3ms\n",
      "910:\tlearn: 0.0672930\ttotal: 833ms\tremaining: 81.4ms\n",
      "911:\tlearn: 0.0671839\ttotal: 834ms\tremaining: 80.4ms\n",
      "912:\tlearn: 0.0670745\ttotal: 834ms\tremaining: 79.5ms\n",
      "913:\tlearn: 0.0670115\ttotal: 835ms\tremaining: 78.6ms\n",
      "914:\tlearn: 0.0668991\ttotal: 836ms\tremaining: 77.7ms\n",
      "915:\tlearn: 0.0667822\ttotal: 837ms\tremaining: 76.7ms\n",
      "916:\tlearn: 0.0666521\ttotal: 838ms\tremaining: 75.9ms\n",
      "917:\tlearn: 0.0665879\ttotal: 839ms\tremaining: 75ms\n",
      "918:\tlearn: 0.0664602\ttotal: 840ms\tremaining: 74ms\n",
      "919:\tlearn: 0.0663058\ttotal: 841ms\tremaining: 73.1ms\n",
      "920:\tlearn: 0.0662396\ttotal: 842ms\tremaining: 72.2ms\n",
      "921:\tlearn: 0.0660941\ttotal: 843ms\tremaining: 71.3ms\n",
      "922:\tlearn: 0.0660257\ttotal: 843ms\tremaining: 70.4ms\n",
      "923:\tlearn: 0.0659018\ttotal: 844ms\tremaining: 69.4ms\n",
      "924:\tlearn: 0.0658303\ttotal: 845ms\tremaining: 68.5ms\n",
      "925:\tlearn: 0.0657067\ttotal: 846ms\tremaining: 67.6ms\n",
      "926:\tlearn: 0.0656830\ttotal: 847ms\tremaining: 66.7ms\n",
      "927:\tlearn: 0.0656361\ttotal: 847ms\tremaining: 65.7ms\n",
      "928:\tlearn: 0.0655052\ttotal: 848ms\tremaining: 64.8ms\n",
      "929:\tlearn: 0.0653951\ttotal: 849ms\tremaining: 63.9ms\n",
      "930:\tlearn: 0.0652528\ttotal: 850ms\tremaining: 63ms\n",
      "931:\tlearn: 0.0652019\ttotal: 850ms\tremaining: 62ms\n",
      "932:\tlearn: 0.0651466\ttotal: 851ms\tremaining: 61.1ms\n",
      "933:\tlearn: 0.0650704\ttotal: 852ms\tremaining: 60.2ms\n",
      "934:\tlearn: 0.0649730\ttotal: 853ms\tremaining: 59.3ms\n",
      "935:\tlearn: 0.0649111\ttotal: 854ms\tremaining: 58.4ms\n",
      "936:\tlearn: 0.0648563\ttotal: 855ms\tremaining: 57.5ms\n",
      "937:\tlearn: 0.0647410\ttotal: 855ms\tremaining: 56.5ms\n",
      "938:\tlearn: 0.0645851\ttotal: 856ms\tremaining: 55.6ms\n",
      "939:\tlearn: 0.0644858\ttotal: 857ms\tremaining: 54.7ms\n",
      "940:\tlearn: 0.0643682\ttotal: 858ms\tremaining: 53.8ms\n",
      "941:\tlearn: 0.0642514\ttotal: 859ms\tremaining: 52.9ms\n"
     ]
    },
    {
     "name": "stdout",
     "output_type": "stream",
     "text": [
      "942:\tlearn: 0.0641540\ttotal: 860ms\tremaining: 52ms\n",
      "943:\tlearn: 0.0640320\ttotal: 861ms\tremaining: 51.1ms\n",
      "944:\tlearn: 0.0639551\ttotal: 862ms\tremaining: 50.1ms\n",
      "945:\tlearn: 0.0637915\ttotal: 862ms\tremaining: 49.2ms\n",
      "946:\tlearn: 0.0637019\ttotal: 863ms\tremaining: 48.3ms\n",
      "947:\tlearn: 0.0636901\ttotal: 864ms\tremaining: 47.4ms\n",
      "948:\tlearn: 0.0636549\ttotal: 865ms\tremaining: 46.5ms\n",
      "949:\tlearn: 0.0635363\ttotal: 866ms\tremaining: 45.6ms\n",
      "950:\tlearn: 0.0634571\ttotal: 867ms\tremaining: 44.6ms\n",
      "951:\tlearn: 0.0633882\ttotal: 867ms\tremaining: 43.7ms\n",
      "952:\tlearn: 0.0632977\ttotal: 868ms\tremaining: 42.8ms\n",
      "953:\tlearn: 0.0632115\ttotal: 869ms\tremaining: 41.9ms\n",
      "954:\tlearn: 0.0631111\ttotal: 870ms\tremaining: 41ms\n",
      "955:\tlearn: 0.0629874\ttotal: 871ms\tremaining: 40.1ms\n",
      "956:\tlearn: 0.0629340\ttotal: 872ms\tremaining: 39.2ms\n",
      "957:\tlearn: 0.0628736\ttotal: 872ms\tremaining: 38.2ms\n",
      "958:\tlearn: 0.0627557\ttotal: 873ms\tremaining: 37.3ms\n",
      "959:\tlearn: 0.0627170\ttotal: 874ms\tremaining: 36.4ms\n",
      "960:\tlearn: 0.0626650\ttotal: 875ms\tremaining: 35.5ms\n",
      "961:\tlearn: 0.0626009\ttotal: 876ms\tremaining: 34.6ms\n",
      "962:\tlearn: 0.0625495\ttotal: 877ms\tremaining: 33.7ms\n",
      "963:\tlearn: 0.0624452\ttotal: 878ms\tremaining: 32.8ms\n",
      "964:\tlearn: 0.0623609\ttotal: 879ms\tremaining: 31.9ms\n",
      "965:\tlearn: 0.0622796\ttotal: 879ms\tremaining: 31ms\n",
      "966:\tlearn: 0.0622083\ttotal: 880ms\tremaining: 30ms\n",
      "967:\tlearn: 0.0621459\ttotal: 881ms\tremaining: 29.1ms\n",
      "968:\tlearn: 0.0620578\ttotal: 882ms\tremaining: 28.2ms\n",
      "969:\tlearn: 0.0619626\ttotal: 883ms\tremaining: 27.3ms\n",
      "970:\tlearn: 0.0619124\ttotal: 883ms\tremaining: 26.4ms\n",
      "971:\tlearn: 0.0618166\ttotal: 884ms\tremaining: 25.5ms\n",
      "972:\tlearn: 0.0617758\ttotal: 885ms\tremaining: 24.6ms\n",
      "973:\tlearn: 0.0616680\ttotal: 886ms\tremaining: 23.6ms\n",
      "974:\tlearn: 0.0615473\ttotal: 887ms\tremaining: 22.7ms\n",
      "975:\tlearn: 0.0615006\ttotal: 887ms\tremaining: 21.8ms\n",
      "976:\tlearn: 0.0614133\ttotal: 888ms\tremaining: 20.9ms\n",
      "977:\tlearn: 0.0613267\ttotal: 889ms\tremaining: 20ms\n",
      "978:\tlearn: 0.0612565\ttotal: 891ms\tremaining: 19.1ms\n",
      "979:\tlearn: 0.0610989\ttotal: 891ms\tremaining: 18.2ms\n",
      "980:\tlearn: 0.0610124\ttotal: 892ms\tremaining: 17.3ms\n",
      "981:\tlearn: 0.0609194\ttotal: 893ms\tremaining: 16.4ms\n",
      "982:\tlearn: 0.0608154\ttotal: 894ms\tremaining: 15.5ms\n",
      "983:\tlearn: 0.0607868\ttotal: 895ms\tremaining: 14.5ms\n",
      "984:\tlearn: 0.0606811\ttotal: 896ms\tremaining: 13.6ms\n",
      "985:\tlearn: 0.0605875\ttotal: 896ms\tremaining: 12.7ms\n",
      "986:\tlearn: 0.0605260\ttotal: 897ms\tremaining: 11.8ms\n",
      "987:\tlearn: 0.0604158\ttotal: 898ms\tremaining: 10.9ms\n",
      "988:\tlearn: 0.0602983\ttotal: 899ms\tremaining: 10ms\n",
      "989:\tlearn: 0.0602274\ttotal: 900ms\tremaining: 9.09ms\n",
      "990:\tlearn: 0.0601344\ttotal: 900ms\tremaining: 8.18ms\n",
      "991:\tlearn: 0.0600245\ttotal: 901ms\tremaining: 7.27ms\n",
      "992:\tlearn: 0.0599966\ttotal: 902ms\tremaining: 6.36ms\n",
      "993:\tlearn: 0.0599253\ttotal: 903ms\tremaining: 5.45ms\n",
      "994:\tlearn: 0.0598114\ttotal: 904ms\tremaining: 4.54ms\n",
      "995:\tlearn: 0.0597511\ttotal: 904ms\tremaining: 3.63ms\n",
      "996:\tlearn: 0.0596581\ttotal: 905ms\tremaining: 2.72ms\n",
      "997:\tlearn: 0.0596425\ttotal: 906ms\tremaining: 1.81ms\n",
      "998:\tlearn: 0.0595900\ttotal: 907ms\tremaining: 907us\n",
      "999:\tlearn: 0.0594826\ttotal: 908ms\tremaining: 0us\n"
     ]
    },
    {
     "data": {
      "text/plain": [
       "<catboost.core.CatBoostRegressor at 0x7f79c82a0d90>"
      ]
     },
     "execution_count": 9,
     "metadata": {},
     "output_type": "execute_result"
    }
   ],
   "source": [
    "#Train the Model \n",
    "prior_model = ctb.CatBoostRegressor()\n",
    "prior_model.fit(X_train,Y_train)"
   ]
  },
  {
   "cell_type": "code",
   "execution_count": 10,
   "id": "af65dcda",
   "metadata": {
    "execution": {
     "iopub.execute_input": "2022-06-12T04:56:35.139986Z",
     "iopub.status.busy": "2022-06-12T04:56:35.139575Z",
     "iopub.status.idle": "2022-06-12T04:56:35.147378Z",
     "shell.execute_reply": "2022-06-12T04:56:35.147622Z"
    },
    "id": "af65dcda",
    "papermill": {
     "duration": 0.029176,
     "end_time": "2022-06-12T04:56:35.147744",
     "exception": false,
     "start_time": "2022-06-12T04:56:35.118568",
     "status": "completed"
    },
    "tags": []
   },
   "outputs": [
    {
     "data": {
      "application/scrapbook.scrap.json+json": {
       "data": 0.09844561597160315,
       "encoder": "json",
       "name": "Prior Model MSE",
       "version": 1
      }
     },
     "metadata": {
      "scrapbook": {
       "data": true,
       "display": false,
       "name": "Prior Model MSE"
      }
     },
     "output_type": "display_data"
    },
    {
     "data": {
      "application/scrapbook.scrap.json+json": {
       "data": 1.1823866290854974,
       "encoder": "json",
       "name": "ABC Pre-generator MSE",
       "version": 1
      }
     },
     "metadata": {
      "scrapbook": {
       "data": true,
       "display": false,
       "name": "ABC Pre-generator MSE"
      }
     },
     "output_type": "display_data"
    },
    {
     "data": {
      "application/scrapbook.scrap.json+json": {
       "data": 0.23264338303823778,
       "encoder": "json",
       "name": "Prior Model MSE",
       "version": 1
      }
     },
     "metadata": {
      "scrapbook": {
       "data": true,
       "display": false,
       "name": "Prior Model MSE"
      }
     },
     "output_type": "display_data"
    },
    {
     "data": {
      "application/scrapbook.scrap.json+json": {
       "data": 1.0435409856193791,
       "encoder": "json",
       "name": "ABC Pre-generator MSE",
       "version": 1
      }
     },
     "metadata": {
      "scrapbook": {
       "data": true,
       "display": false,
       "name": "ABC Pre-generator MSE"
      }
     },
     "output_type": "display_data"
    }
   ],
   "source": [
    "y_pred = prior_model.predict(X_test)\n",
    "y_abc = y_pred + np.random.normal(0,variance, y_pred.shape) + bias \n",
    "mse = mean_squared_error(y_pred,Y_test)\n",
    "sb.glue(\"Prior Model MSE\",mse)\n",
    "mse = mean_squared_error(y_abc,Y_test)\n",
    "sb.glue(\"ABC Pre-generator MSE\",mse)\n",
    "mae = mean_absolute_error(y_pred,Y_test)\n",
    "sb.glue(\"Prior Model MSE\",mae)\n",
    "mae = mean_absolute_error(y_abc,Y_test)\n",
    "sb.glue(\"ABC Pre-generator MSE\",mae)"
   ]
  },
  {
   "cell_type": "markdown",
   "id": "25609da2",
   "metadata": {
    "papermill": {
     "duration": 0.009866,
     "end_time": "2022-06-12T04:56:35.168217",
     "exception": false,
     "start_time": "2022-06-12T04:56:35.158351",
     "status": "completed"
    },
    "tags": []
   },
   "source": [
    "# ABC GAN Model"
   ]
  },
  {
   "cell_type": "code",
   "execution_count": 11,
   "id": "dfc3464d",
   "metadata": {
    "execution": {
     "iopub.execute_input": "2022-06-12T04:56:35.191200Z",
     "iopub.status.busy": "2022-06-12T04:56:35.190817Z",
     "iopub.status.idle": "2022-06-12T04:56:35.193475Z",
     "shell.execute_reply": "2022-06-12T04:56:35.193716Z"
    },
    "papermill": {
     "duration": 0.01567,
     "end_time": "2022-06-12T04:56:35.193829",
     "exception": false,
     "start_time": "2022-06-12T04:56:35.178159",
     "status": "completed"
    },
    "tags": []
   },
   "outputs": [],
   "source": [
    "gen = network.Generator(n_features+1).to(device)\n",
    "disc = network.Discriminator(n_features+1).to(device)\n",
    "\n",
    "criterion = torch.nn.BCELoss()\n",
    "gen_opt = torch.optim.Adam(gen.parameters(), lr=0.001, betas=(0.5, 0.999))\n",
    "disc_opt = torch.optim.Adam(disc.parameters(), lr=0.001, betas=(0.5, 0.999))"
   ]
  },
  {
   "cell_type": "code",
   "execution_count": 12,
   "id": "b75fdd85",
   "metadata": {
    "execution": {
     "iopub.execute_input": "2022-06-12T04:56:35.216960Z",
     "iopub.status.busy": "2022-06-12T04:56:35.216584Z",
     "iopub.status.idle": "2022-06-12T04:57:36.641249Z",
     "shell.execute_reply": "2022-06-12T04:57:36.641687Z"
    },
    "papermill": {
     "duration": 61.437925,
     "end_time": "2022-06-12T04:57:36.641815",
     "exception": false,
     "start_time": "2022-06-12T04:56:35.203890",
     "status": "completed"
    },
    "tags": []
   },
   "outputs": [
    {
     "data": {
      "image/png": "[encoded data removed]",
      "text/plain": [
       "<Figure size 432x288 with 1 Axes>"
      ]
     },
     "metadata": {
      "needs_background": "light"
     },
     "output_type": "display_data"
    },
    {
     "data": {
      "image/png": "[encoded data removed]",
      "text/plain": [
       "<Figure size 432x288 with 1 Axes>"
      ]
     },
     "metadata": {
      "needs_background": "light"
     },
     "output_type": "display_data"
    }
   ],
   "source": [
    "#Training the ABC_GAN \n",
    "ABC_train_test2.training_GAN(disc,gen,disc_opt,gen_opt,train_data,batch_size,n_epochs,criterion,prior_model,variance,bias,device)"
   ]
  },
  {
   "cell_type": "code",
   "execution_count": 13,
   "id": "1fa7c368",
   "metadata": {
    "execution": {
     "iopub.execute_input": "2022-06-12T04:57:36.666222Z",
     "iopub.status.busy": "2022-06-12T04:57:36.665833Z",
     "iopub.status.idle": "2022-06-12T04:57:36.977482Z",
     "shell.execute_reply": "2022-06-12T04:57:36.977779Z"
    },
    "papermill": {
     "duration": 0.325053,
     "end_time": "2022-06-12T04:57:36.977901",
     "exception": false,
     "start_time": "2022-06-12T04:57:36.652848",
     "status": "completed"
    },
    "tags": []
   },
   "outputs": [
    {
     "data": {
      "application/scrapbook.scrap.json+json": {
       "data": 0.10272833577358939,
       "encoder": "json",
       "name": "ABC-GAN Model 1 MSE",
       "version": 1
      }
     },
     "metadata": {
      "scrapbook": {
       "data": true,
       "display": false,
       "name": "ABC-GAN Model 1 MSE"
      }
     },
     "output_type": "display_data"
    },
    {
     "data": {
      "application/scrapbook.scrap.json+json": {
       "data": 0.24157433709531437,
       "encoder": "json",
       "name": "ABC-GAN Model 1 MAE",
       "version": 1
      }
     },
     "metadata": {
      "scrapbook": {
       "data": true,
       "display": false,
       "name": "ABC-GAN Model 1 MAE"
      }
     },
     "output_type": "display_data"
    },
    {
     "data": {
      "application/scrapbook.scrap.json+json": {
       "data": 24.640582383722066,
       "encoder": "json",
       "name": "ABC-GAN Model 1 Manhattan Distance",
       "version": 1
      }
     },
     "metadata": {
      "scrapbook": {
       "data": true,
       "display": false,
       "name": "ABC-GAN Model 1 Manhattan Distance"
      }
     },
     "output_type": "display_data"
    },
    {
     "data": {
      "application/scrapbook.scrap.json+json": {
       "data": 3.2369985128767196,
       "encoder": "json",
       "name": "ABC-GAN Model 1 Euclidean distance",
       "version": 1
      }
     },
     "metadata": {
      "scrapbook": {
       "data": true,
       "display": false,
       "name": "ABC-GAN Model 1 Euclidean distance"
      }
     },
     "output_type": "display_data"
    },
    {
     "data": {
      "application/scrapbook.scrap.json+json": {
       "data": [
        [
         0.10309020372102175,
         0.10188846622952098,
         0.1026228590352709,
         0.10203553642501381,
         0.10359928395544533,
         0.10293612773282372,
         0.10272946468831676,
         0.10325686484692924,
         0.10336757227852406,
         0.10263562309632462,
         0.10423954613535681,
         0.10274761605823102,
         0.10339635536116337,
         0.10311805743144067,
         0.10348524438457866,
         0.10378622702119157,
         0.10214422762761113,
         0.10273684266828148,
         0.10212314852105336,
         0.10275166642121558,
         0.10379214384640703,
         0.10204396232312463,
         0.10181844518413546,
         0.10282192135999059,
         0.10235749985693672,
         0.1031946760263522,
         0.10173096815161373,
         0.10208129278622634,
         0.10321768086554142,
         0.10335015610542576,
         0.10314528952281225,
         0.10254623324379103,
         0.1034602080112085,
         0.10299016411276479,
         0.10269714215827587,
         0.1044428795769144,
         0.10249715784913718,
         0.10392765495073596,
         0.10133206530691646,
         0.10249473326032035,
         0.10463067508624051,
         0.10236886685354064,
         0.10307908267590436,
         0.10299571024866659,
         0.10147226956198323,
         0.10151178778846802,
         0.10279051145335667,
         0.10296251520366434,
         0.10265121970090914,
         0.10349037392616482,
         0.10432741513690752,
         0.10297174832502266,
         0.10139890876730664,
         0.10284814942980751,
         0.10358748078363712,
         0.1022398325330601,
         0.10312743400246542,
         0.10265416969815726,
         0.10116110430984172,
         0.10223764596767419,
         0.10256428386385619,
         0.10215173618995872,
         0.10159914607431245,
         0.10297439805634587,
         0.10295175293238472,
         0.10138286158598876,
         0.10290698188968911,
         0.10218482040770116,
         0.10372197192003647,
         0.10238166636198713,
         0.10232237294646836,
         0.10234687443342452,
         0.10231901783126413,
         0.102748388996243,
         0.10300900047167649,
         0.10287100186546742,
         0.10288367349135324,
         0.10264935806257795,
         0.10259878844852877,
         0.10243273666955774,
         0.10295624655817978,
         0.10349448257246102,
         0.10303615642835912,
         0.10139547926358652,
         0.10328832101463797,
         0.10330369950337448,
         0.103215643764862,
         0.10212061539599177,
         0.10225353337176848,
         0.10367543795759766,
         0.10154449288090245,
         0.10295105315523413,
         0.10215860782962238,
         0.10207403666424811,
         0.1035444531057084,
         0.10189382004579232,
         0.10194455042640757,
         0.10325664173980101,
         0.10150561186687448,
         0.1030797517239835
        ],
        [
         0.2410984264650181,
         0.23956370269697086,
         0.2414876260228601,
         0.24186543079421802,
         0.24213585838237228,
         0.2429788025351716,
         0.2415763944314391,
         0.2418406479718054,
         0.24190630876988756,
         0.24137247423184852,
         0.2438068821222759,
         0.24210690827492407,
         0.24349170810013426,
         0.24154994779211633,
         0.24202900157109195,
         0.24307910115549378,
         0.24035984478598715,
         0.2422428886753087,
         0.24074069341169854,
         0.24186538375329739,
         0.2432699291510325,
         0.24105585844931648,
         0.23961088101507402,
         0.24226972405963085,
         0.24072323407174326,
         0.24282929633616232,
         0.240207494729582,
         0.2406869121261087,
         0.24161188907044776,
         0.24272830481184463,
         0.24235819159623453,
         0.24014567762759387,
         0.24236798750273153,
         0.24149938954003886,
         0.24166368981640712,
         0.24337156405489818,
         0.24189119453669763,
         0.24185276035146386,
         0.238655478383104,
         0.2403634521818044,
         0.24485116353368058,
         0.24090001786894658,
         0.24113280826485625,
         0.2409551324432387,
         0.240080435742058,
         0.24004636781618877,
         0.24156367716689905,
         0.24173706108886822,
         0.24158930029793113,
         0.2415518734019761,
         0.24348579394612826,
         0.2425103246362186,
         0.23974734636060163,
         0.2414388866620321,
         0.24280347298903793,
         0.24116597481656307,
         0.24180097896240504,
         0.24108490314992034,
         0.23956141573395215,
         0.24052981765685127,
         0.24102172675524272,
         0.24141527241205468,
         0.2410032303236863,
         0.24276134463063642,
         0.24294448881318756,
         0.2412111996216517,
         0.2416362271954616,
         0.23954930182035064,
         0.24342202230849685,
         0.24153595479826132,
         0.2411131082723538,
         0.24104716807749926,
         0.24204149393036084,
         0.24147608521960529,
         0.24329045002220892,
         0.24222825522370198,
         0.24220607484526493,
         0.24143763452622236,
         0.24107878476235212,
         0.24105363751889444,
         0.24189181578363858,
         0.24198169031125658,
         0.24250937154626145,
         0.2396083154587769,
         0.24331800964679204,
         0.2422073713193337,
         0.2428291005027645,
         0.24007042428003808,
         0.24060751632878594,
         0.24312732978632637,
         0.2404809282617826,
         0.24157172700791968,
         0.24108124002083844,
         0.24149375295668257,
         0.24202961850838334,
         0.2396111500394695,
         0.24098099055973923,
         0.24210063810003737,
         0.24045412194933377,
         0.2412074421915938
        ],
        [
         24.59203949943185,
         24.435497675091028,
         24.631737854331732,
         24.670273941010237,
         24.697857555001974,
         24.783837858587503,
         24.64079223200679,
         24.66774609312415,
         24.674443494528532,
         24.61999237164855,
         24.86830197647214,
         24.694904644042253,
         24.836154226213694,
         24.638094674795866,
         24.68695816025138,
         24.794068317860365,
         24.51670416817069,
         24.708774644881487,
         24.55555072799325,
         24.670269142836332,
         24.813532773405313,
         24.587697561830282,
         24.44030986353755,
         24.711511854082346,
         24.553769875317812,
         24.768588226288557,
         24.501164462417364,
         24.55006503686309,
         24.64441268518567,
         24.758287090808153,
         24.720535542815924,
         24.494859118014574,
         24.721534725278616,
         24.632937733083963,
         24.649696361273527,
         24.823899533599615,
         24.67290184274316,
         24.668981555849314,
         24.34285879507661,
         24.51707212254405,
         24.97481868043542,
         24.57180182263255,
         24.595546443015337,
         24.577423509210348,
         24.488204445689917,
         24.484729517251253,
         24.639495071023703,
         24.657180231064558,
         24.642108630388975,
         24.638291087001562,
         24.835550982505083,
         24.736053112894297,
         24.454229328781366,
         24.626766439527273,
         24.76595424488187,
         24.598929431289434,
         24.663699854165316,
         24.590660121291876,
         24.43526440486312,
         24.53404140099883,
         24.584216129034758,
         24.624357786029577,
         24.582329493016005,
         24.761657152324915,
         24.78033785894513,
         24.603542361408472,
         24.646895173937082,
         24.434028785675764,
         24.82904627546668,
         24.636667389422655,
         24.59353704378009,
         24.586811143904924,
         24.688232380896807,
         24.63056069239974,
         24.81562590226531,
         24.707282032817602,
         24.705019634217024,
         24.62663872167468,
         24.590036045759916,
         24.587471026927233,
         24.672965209931135,
         24.68213241174817,
         24.735955897718668,
         24.440048176795244,
         24.818436983972788,
         24.70515187457204,
         24.768568251281977,
         24.487183276563883,
         24.541966665536165,
         24.79898763820529,
         24.529054682701826,
         24.640316154807806,
         24.59028648212552,
         24.63236280158162,
         24.6870210878551,
         24.44033730402589,
         24.5800610370934,
         24.694265086203814,
         24.526320438832045,
         24.603159103542566
        ],
        [
         3.242715032121111,
         3.2237592272704143,
         3.2353564906510117,
         3.226085044655737,
         3.250711762592221,
         3.2402908864402935,
         3.237036514809233,
         3.245335146696991,
         3.2470744328409613,
         3.235557688533016,
         3.26074128164232,
         3.2373224797569304,
         3.2475264813144573,
         3.2431530734775604,
         3.248922117753368,
         3.253643366468049,
         3.2278028468319335,
         3.23715275391272,
         3.227469775094329,
         3.237386287572737,
         3.2537361098179916,
         3.226218243851261,
         3.2226513011465907,
         3.238492856054965,
         3.2311708381649438,
         3.2443577106552115,
         3.221266637747425,
         3.2268083091803095,
         3.24471931733474,
         3.2468008751313078,
         3.243581281751214,
         3.2341483872677643,
         3.2485290851619704,
         3.2411412711423124,
         3.236527228395296,
         3.2639199924087094,
         3.233374413923013,
         3.255859457190231,
         3.2149448924212494,
         3.2333361706684123,
         3.2668530513012866,
         3.2313502470424256,
         3.242540120483052,
         3.2412285395146077,
         3.217168241687446,
         3.2177946414312606,
         3.2379981729831755,
         3.2407061808769027,
         3.2358035183695457,
         3.2490026378057637,
         3.2621153173921624,
         3.240851482118906,
         3.2160050830596143,
         3.238905871099122,
         3.250526578868566,
         3.229313072213986,
         3.2433005208046124,
         3.2358500133986494,
         3.2122317225884953,
         3.2292785399687602,
         3.234433018956078,
         3.2279214816001627,
         3.2191789169879743,
         3.240893179626147,
         3.240536807244016,
         3.2157505938382185,
         3.2398321179882585,
         3.228444158040452,
         3.2526360287993676,
         3.2315522537818704,
         3.2306163561369785,
         3.2310031247600643,
         3.230563390306548,
         3.2373346564136347,
         3.241437651430458,
         3.2392656868922742,
         3.2394651867427178,
         3.235774176666683,
         3.2349770357376464,
         3.2323581392374963,
         3.24060752775376,
         3.249067131099483,
         3.241864888562234,
         3.2159506968991027,
         3.245829438447602,
         3.2460710635080368,
         3.244687298341078,
         3.227429746778566,
         3.2295294400145016,
         3.25190631348367,
         3.2183129546164473,
         3.240525794039276,
         3.2280300492129066,
         3.226693623471758,
         3.249851414569942,
         3.2238439237455054,
         3.224646359446811,
         3.2453316405969517,
         3.217696755510251,
         3.2425506435283804
        ]
       ],
       "encoder": "json",
       "name": "ABC_GAN_1 Metrics",
       "version": 1
      }
     },
     "metadata": {
      "scrapbook": {
       "data": true,
       "display": false,
       "name": "ABC_GAN_1 Metrics"
      }
     },
     "output_type": "display_data"
    },
    {
     "name": "stdout",
     "output_type": "stream",
     "text": [
      "MSE\n",
      "0.10272833577358939\n"
     ]
    }
   ],
   "source": [
    "ABC_GAN1_metrics=ABC_train_test2.test_generator(gen,test_data,prior_model,variance,bias,\"1\",device)\n",
    "sb.glue(\"ABC_GAN_1 Metrics\",ABC_GAN1_metrics)\n",
    "\n",
    "print(\"MSE\")\n",
    "print(mean(ABC_GAN1_metrics[0]))"
   ]
  },
  {
   "cell_type": "code",
   "execution_count": 14,
   "id": "eb22ce5c",
   "metadata": {
    "execution": {
     "iopub.execute_input": "2022-06-12T04:57:37.006009Z",
     "iopub.status.busy": "2022-06-12T04:57:37.005519Z",
     "iopub.status.idle": "2022-06-12T04:57:37.343354Z",
     "shell.execute_reply": "2022-06-12T04:57:37.343655Z"
    },
    "papermill": {
     "duration": 0.353038,
     "end_time": "2022-06-12T04:57:37.343776",
     "exception": false,
     "start_time": "2022-06-12T04:57:36.990738",
     "status": "completed"
    },
    "tags": []
   },
   "outputs": [
    {
     "data": {
      "image/png": "[encoded data removed]",
      "text/plain": [
       "<Figure size 432x288 with 1 Axes>"
      ]
     },
     "metadata": {
      "needs_background": "light"
     },
     "output_type": "display_data"
    },
    {
     "data": {
      "image/png": "[encoded data removed]",
      "text/plain": [
       "<Figure size 432x288 with 1 Axes>"
      ]
     },
     "metadata": {
      "needs_background": "light"
     },
     "output_type": "display_data"
    },
    {
     "data": {
      "image/png": "[encoded data removed]",
      "text/plain": [
       "<Figure size 432x288 with 1 Axes>"
      ]
     },
     "metadata": {
      "needs_background": "light"
     },
     "output_type": "display_data"
    },
    {
     "data": {
      "image/png": "[encoded data removed]",
      "text/plain": [
       "<Figure size 432x288 with 1 Axes>"
      ]
     },
     "metadata": {
      "needs_background": "light"
     },
     "output_type": "display_data"
    }
   ],
   "source": [
    "sanityChecks.discProbVsError(train_data,disc,device)\n",
    "sanityChecks.discProbVsError(test_data,disc,device)"
   ]
  },
  {
   "cell_type": "markdown",
   "id": "130f3a4d",
   "metadata": {
    "id": "130f3a4d",
    "papermill": {
     "duration": 0.014541,
     "end_time": "2022-06-12T04:57:37.373349",
     "exception": false,
     "start_time": "2022-06-12T04:57:37.358808",
     "status": "completed"
    },
    "tags": []
   },
   "source": [
    "# ABC - GAN Model with skip connection"
   ]
  },
  {
   "cell_type": "code",
   "execution_count": 15,
   "id": "4e43dad1",
   "metadata": {
    "execution": {
     "iopub.execute_input": "2022-06-12T04:57:37.406047Z",
     "iopub.status.busy": "2022-06-12T04:57:37.405654Z",
     "iopub.status.idle": "2022-06-12T04:57:37.407987Z",
     "shell.execute_reply": "2022-06-12T04:57:37.408240Z"
    },
    "id": "4e43dad1",
    "papermill": {
     "duration": 0.020205,
     "end_time": "2022-06-12T04:57:37.408350",
     "exception": false,
     "start_time": "2022-06-12T04:57:37.388145",
     "status": "completed"
    },
    "tags": []
   },
   "outputs": [],
   "source": [
    "#Generator\n",
    "gen3 = network.GeneratorWithSkipConnection(n_features+1).to(device)\n",
    "constraints=network.weightConstraint()\n",
    "#Discriminator \n",
    "disc3 = network.Discriminator(n_features+1).to(device)\n",
    "\n",
    "criterion = torch.nn.BCELoss()\n",
    "gen_opt = torch.optim.Adam(gen3.parameters(), lr=0.001, betas=(0.5, 0.999))\n",
    "disc_opt = torch.optim.Adam(disc3.parameters(), lr=0.001, betas=(0.5, 0.999))\n"
   ]
  },
  {
   "cell_type": "code",
   "execution_count": 16,
   "id": "26acbc37",
   "metadata": {
    "execution": {
     "iopub.execute_input": "2022-06-12T04:57:37.440137Z",
     "iopub.status.busy": "2022-06-12T04:57:37.439753Z",
     "iopub.status.idle": "2022-06-12T05:00:36.700419Z",
     "shell.execute_reply": "2022-06-12T05:00:36.700748Z"
    },
    "id": "26acbc37",
    "papermill": {
     "duration": 179.277883,
     "end_time": "2022-06-12T05:00:36.700996",
     "exception": false,
     "start_time": "2022-06-12T04:57:37.423113",
     "status": "completed"
    },
    "tags": []
   },
   "outputs": [
    {
     "data": {
      "image/png": "[encoded data removed]",
      "text/plain": [
       "<Figure size 432x288 with 1 Axes>"
      ]
     },
     "metadata": {
      "needs_background": "light"
     },
     "output_type": "display_data"
    },
    {
     "data": {
      "image/png": "[encoded data removed]",
      "text/plain": [
       "<Figure size 432x288 with 1 Axes>"
      ]
     },
     "metadata": {
      "needs_background": "light"
     },
     "output_type": "display_data"
    }
   ],
   "source": [
    "ABC_train_test2.training_GAN_skip_connection(disc3,gen3,disc_opt,gen_opt,train_data,batch_size,n_epochs,criterion,prior_model,variance,bias,device)"
   ]
  },
  {
   "cell_type": "code",
   "execution_count": 17,
   "id": "c5e0717b",
   "metadata": {
    "execution": {
     "iopub.execute_input": "2022-06-12T05:00:36.737343Z",
     "iopub.status.busy": "2022-06-12T05:00:36.736956Z",
     "iopub.status.idle": "2022-06-12T05:00:37.566280Z",
     "shell.execute_reply": "2022-06-12T05:00:37.566512Z"
    },
    "id": "c5e0717b",
    "papermill": {
     "duration": 0.849035,
     "end_time": "2022-06-12T05:00:37.566639",
     "exception": false,
     "start_time": "2022-06-12T05:00:36.717604",
     "status": "completed"
    },
    "tags": []
   },
   "outputs": [
    {
     "data": {
      "application/scrapbook.scrap.json+json": {
       "data": 0.10931106170046552,
       "encoder": "json",
       "name": "ABC-GAN Model 3 MSE",
       "version": 1
      }
     },
     "metadata": {
      "scrapbook": {
       "data": true,
       "display": false,
       "name": "ABC-GAN Model 3 MSE"
      }
     },
     "output_type": "display_data"
    },
    {
     "data": {
      "application/scrapbook.scrap.json+json": {
       "data": 0.24093216540328427,
       "encoder": "json",
       "name": "ABC-GAN Model 3 MAE",
       "version": 1
      }
     },
     "metadata": {
      "scrapbook": {
       "data": true,
       "display": false,
       "name": "ABC-GAN Model 3 MAE"
      }
     },
     "output_type": "display_data"
    },
    {
     "data": {
      "application/scrapbook.scrap.json+json": {
       "data": 24.575080871134997,
       "encoder": "json",
       "name": "ABC-GAN Model 3 Manhattan Distance",
       "version": 1
      }
     },
     "metadata": {
      "scrapbook": {
       "data": true,
       "display": false,
       "name": "ABC-GAN Model 3 Manhattan Distance"
      }
     },
     "output_type": "display_data"
    },
    {
     "data": {
      "application/scrapbook.scrap.json+json": {
       "data": 3.339102544959075,
       "encoder": "json",
       "name": "ABC-GAN Model 3 Euclidean distance",
       "version": 1
      }
     },
     "metadata": {
      "scrapbook": {
       "data": true,
       "display": false,
       "name": "ABC-GAN Model 3 Euclidean distance"
      }
     },
     "output_type": "display_data"
    },
    {
     "data": {
      "application/scrapbook.scrap.json+json": {
       "data": [
        [
         0.10912296515499456,
         0.10972428947030796,
         0.11019335835200948,
         0.10871211328481398,
         0.10984682495057731,
         0.10973945672464284,
         0.1091939379099925,
         0.11136530644054422,
         0.10836119743575377,
         0.11086062707145687,
         0.10926064119904823,
         0.10944306200767615,
         0.10966579781794021,
         0.10847596638217359,
         0.10985660391841444,
         0.1100144497106735,
         0.1101626852026939,
         0.10868310967710952,
         0.10881452955145698,
         0.10820146260077937,
         0.10931652538611995,
         0.10921094062455228,
         0.10963670347555218,
         0.10893873782660983,
         0.10847164188601316,
         0.10871579078967589,
         0.11042682203463937,
         0.11031456739642767,
         0.10983106881442235,
         0.10923300969711994,
         0.10900693051378833,
         0.108470153433165,
         0.11032429008726324,
         0.11076996112067998,
         0.109614701133319,
         0.10945295890044845,
         0.10947012367890104,
         0.10952978412338794,
         0.10875696492487147,
         0.10981800700956114,
         0.1078304406112886,
         0.10984846038047019,
         0.10946355844456221,
         0.1091551892728907,
         0.10926639112885692,
         0.10837986543520592,
         0.10954845728406201,
         0.10980937698498776,
         0.1085529277567009,
         0.10902074835606494,
         0.10899564965758021,
         0.10938298895393007,
         0.11033012952319747,
         0.10869456668339203,
         0.10832903856374672,
         0.10894203344336906,
         0.10909865073048738,
         0.10840483733326452,
         0.10894888960136719,
         0.10910457385985861,
         0.11081967042833803,
         0.1087860673129648,
         0.10913486633065064,
         0.10920441522709876,
         0.10984852983839627,
         0.10782338303704085,
         0.10924523636181045,
         0.10892650765656114,
         0.11037895312583902,
         0.10929182208068093,
         0.10991985947914316,
         0.10985688152701091,
         0.10826166978470556,
         0.1090666878072911,
         0.10945721416142672,
         0.11062126446563349,
         0.11001997319897827,
         0.10912517862905112,
         0.10965030687398714,
         0.10911771292792104,
         0.10943747181364881,
         0.11070784059393252,
         0.10870680493463188,
         0.10882277747648308,
         0.10966220887990681,
         0.10899567275942672,
         0.10927228451011267,
         0.1098553843464503,
         0.10819198882229297,
         0.10840037790189508,
         0.1104081234000461,
         0.10908930828010979,
         0.10824710651820761,
         0.10886861449000007,
         0.10955727629095166,
         0.10981078776978699,
         0.10906431533705076,
         0.1091109469884984,
         0.10870806164610808,
         0.10751777530762063
        ],
        [
         0.24072722341938346,
         0.24064068521792983,
         0.2418286043274052,
         0.2387693036055448,
         0.24169660209878988,
         0.2398688677406194,
         0.24063824902416445,
         0.24445219392723896,
         0.23907829729803637,
         0.24202827901086388,
         0.23961916167800332,
         0.2410199735313654,
         0.24207048465077782,
         0.24003937018706517,
         0.24291559757993503,
         0.24211065175340457,
         0.24212802592299731,
         0.24104104260457496,
         0.23937657997742587,
         0.23919286911247992,
         0.24183043658587278,
         0.24227666427545688,
         0.24072591547726416,
         0.24108457853835003,
         0.23973803160091242,
         0.24051066148368752,
         0.24185592020113095,
         0.2420432587683785,
         0.24289818937141522,
         0.2408730932237471,
         0.24182992118100324,
         0.24025664664804935,
         0.24262828157082492,
         0.24264071761246989,
         0.24137434768764413,
         0.2409764475316978,
         0.24107450681428114,
         0.24059293766086007,
         0.23984912983780982,
         0.24137142647569085,
         0.23949174272517362,
         0.24100655547397978,
         0.24063833025010192,
         0.2416838315114671,
         0.24022098700059394,
         0.23967074993632587,
         0.24101250834178692,
         0.24248337785841204,
         0.24112305129129513,
         0.2405680239419727,
         0.24160229454876161,
         0.23930447355058848,
         0.24161282791664787,
         0.2404574019578742,
         0.24005765391185002,
         0.24080615735375413,
         0.24079318107197098,
         0.24026912768535755,
         0.24140436242462374,
         0.24018614647873476,
         0.24122542387568482,
         0.24103194266995964,
         0.24000352062284946,
         0.24024832274253463,
         0.24114198949845397,
         0.23981673690472163,
         0.23983300371351196,
         0.23993376069063066,
         0.24125946061137846,
         0.24160977113334572,
         0.24065133428895005,
         0.24084841500164247,
         0.24084218631626345,
         0.24063323288425512,
         0.24253563900642536,
         0.24283345332186596,
         0.24184110055805422,
         0.24129075699431055,
         0.24085747344675018,
         0.24059486706905506,
         0.23955173348533174,
         0.24323932121635652,
         0.24065498010638883,
         0.23957690841280946,
         0.24142452574097642,
         0.24048611839466236,
         0.24164462874771334,
         0.24141426410014724,
         0.2400869221298718,
         0.2399758062161067,
         0.2414313308967679,
         0.24095953091540756,
         0.2409883424566657,
         0.23989547405611067,
         0.2405616853970523,
         0.24195287212291183,
         0.24113097140455947,
         0.23970009675066845,
         0.24080783943189124,
         0.23863483654956022
        ],
        [
         24.554176788777113,
         24.545349892228842,
         24.66651764139533,
         24.35446896776557,
         24.653053414076567,
         24.46662450954318,
         24.545101400464773,
         24.934123780578375,
         24.38598632439971,
         24.686884459108114,
         24.44115449115634,
         24.58403730019927,
         24.69118943437934,
         24.48401575908065,
         24.777390953153372,
         24.695286478847265,
         24.697058644145727,
         24.586186345666647,
         24.41641115769744,
         24.397672649472952,
         24.666704531759024,
         24.7122197560966,
         24.554043378680944,
         24.590627010911703,
         24.453279223293066,
         24.532087471336126,
         24.669303860515356,
         24.68841239437461,
         24.77561531588435,
         24.569055508822203,
         24.66665196046233,
         24.506177958101034,
         24.748084720224142,
         24.74935319647193,
         24.6201834641397,
         24.579597648233175,
         24.589599695056677,
         24.540479641407728,
         24.464611243456602,
         24.619885500520468,
         24.42815775796771,
         24.582668658345938,
         24.545109685510397,
         24.651750814169645,
         24.502540674060583,
         24.44641649350524,
         24.583275850862265,
         24.733304541558027,
         24.594551231712103,
         24.537938442081213,
         24.643434043973684,
         24.409056302160025,
         24.644508447498083,
         24.52665499970317,
         24.485880699008703,
         24.562228050082922,
         24.56090446934104,
         24.50745102390647,
         24.62324496731162,
         24.498986940830946,
         24.604993235319853,
         24.585258152335882,
         24.480359103530645,
         24.50532891973853,
         24.596482928842306,
         24.461307164281607,
         24.46296637877822,
         24.473243590444326,
         24.6084649823606,
         24.644196655601263,
         24.546436097472906,
         24.566538330167532,
         24.56590300425887,
         24.54458975419402,
         24.738635178655386,
         24.769012238830328,
         24.66779225692153,
         24.611657213419676,
         24.567462291568518,
         24.540676441043615,
         24.434276815503836,
         24.810410764068365,
         24.54680797085166,
         24.436844658106565,
         24.625301625579596,
         24.52958407625556,
         24.64775213226676,
         24.624254938215017,
         24.488866057246923,
         24.477532234042883,
         24.625995751470327,
         24.577872153371572,
         24.5808109305799,
         24.469338353723288,
         24.537291910499334,
         24.67919295653701,
         24.595359083265066,
         24.449409868568182,
         24.562399622052908,
         24.340753328055143
        ],
        [
         3.3362467603295536,
         3.3454263593705673,
         3.3525695446783743,
         3.3299602933144747,
         3.347293853989949,
         3.3456575715266452,
         3.3373315188664185,
         3.3703503166489255,
         3.3245814982410766,
         3.3627048578917242,
         3.3383507009154862,
         3.3411363822482563,
         3.3445345531822364,
         3.326341619705003,
         3.347442844871033,
         3.3498468428405346,
         3.352102905740631,
         3.3295160589889288,
         3.3315284801797227,
         3.3221302179895797,
         3.3392043347756113,
         3.3375913386309493,
         3.3440908711496347,
         3.333429354030801,
         3.326275315179629,
         3.3300166156562847,
         3.356119164680125,
         3.354412895639954,
         3.3470537819209123,
         3.337928547633432,
         3.3344725088694926,
         3.326252493450073,
         3.3545607147435637,
         3.36132950397746,
         3.34375530139371,
         3.341287447653335,
         3.341549433309031,
         3.3424598697045815,
         3.3306471476781936,
         3.34685474960824,
         3.316429547322155,
         3.3473187716152695,
         3.3414492306999586,
         3.3367393224276376,
         3.338438541465667,
         3.324867858184893,
         3.3427447768225327,
         3.3467232410925094,
         3.327521394549326,
         3.334683842933033,
         3.334299966270758,
         3.340219285211806,
         3.35464949158122,
         3.329691547531991,
         3.3240881356399337,
         3.3334797751334326,
         3.3358750537916904,
         3.3252508789552984,
         3.3335846680922105,
         3.3359656073924953,
         3.362083637224165,
         3.33109274351862,
         3.336428684345938,
         3.3374916259316776,
         3.3473198298812767,
         3.3163210142834743,
         3.338115352845774,
         3.3332422325671494,
         3.3553916639992387,
         3.3388270174163637,
         3.3484064369297526,
         3.347447074376996,
         3.323054365796619,
         3.3353863578817506,
         3.341352397527912,
         3.359072636233788,
         3.349930934556082,
         3.3362805967369127,
         3.344298327175177,
         3.3361664704639584,
         3.3410510509407327,
         3.360386843888828,
         3.3298789922957335,
         3.331654739405221,
         3.344479825884811,
         3.3343003196265215,
         3.3385285710970773,
         3.3474242640182212,
         3.3219847771887636,
         3.325182483111761,
         3.3558350058971467,
         3.33573222015365,
         3.3228308510752065,
         3.332356325181929,
         3.342879325024621,
         3.3467447396714127,
         3.3353500812327304,
         3.336063037897641,
         3.329898239872057,
         3.3116178948328723
        ]
       ],
       "encoder": "json",
       "name": "ABC_GAN_3 Metrics",
       "version": 1
      }
     },
     "metadata": {
      "scrapbook": {
       "data": true,
       "display": false,
       "name": "ABC_GAN_3 Metrics"
      }
     },
     "output_type": "display_data"
    },
    {
     "name": "stdout",
     "output_type": "stream",
     "text": [
      "MSE\n",
      "0.10931106170046552\n"
     ]
    }
   ],
   "source": [
    "ABC_GAN3_metrics=ABC_train_test2.test_generator(gen3,test_data,prior_model,variance,bias,\"3\",device)\n",
    "sb.glue(\"ABC_GAN_3 Metrics\",ABC_GAN3_metrics)\n",
    "\n",
    "print(\"MSE\")\n",
    "print(mean(ABC_GAN3_metrics[0]))"
   ]
  },
  {
   "cell_type": "code",
   "execution_count": 18,
   "id": "c8e46b48",
   "metadata": {
    "execution": {
     "iopub.execute_input": "2022-06-12T05:00:37.604110Z",
     "iopub.status.busy": "2022-06-12T05:00:37.603746Z",
     "iopub.status.idle": "2022-06-12T05:00:37.931279Z",
     "shell.execute_reply": "2022-06-12T05:00:37.931572Z"
    },
    "id": "c8e46b48",
    "papermill": {
     "duration": 0.347595,
     "end_time": "2022-06-12T05:00:37.931695",
     "exception": false,
     "start_time": "2022-06-12T05:00:37.584100",
     "status": "completed"
    },
    "tags": []
   },
   "outputs": [
    {
     "data": {
      "image/png": "[encoded data removed]",
      "text/plain": [
       "<Figure size 432x288 with 1 Axes>"
      ]
     },
     "metadata": {
      "needs_background": "light"
     },
     "output_type": "display_data"
    },
    {
     "data": {
      "image/png": "[encoded data removed]",
      "text/plain": [
       "<Figure size 432x288 with 1 Axes>"
      ]
     },
     "metadata": {
      "needs_background": "light"
     },
     "output_type": "display_data"
    },
    {
     "data": {
      "image/png": "[encoded data removed]",
      "text/plain": [
       "<Figure size 432x288 with 1 Axes>"
      ]
     },
     "metadata": {
      "needs_background": "light"
     },
     "output_type": "display_data"
    },
    {
     "data": {
      "image/png": "[encoded data removed]",
      "text/plain": [
       "<Figure size 432x288 with 1 Axes>"
      ]
     },
     "metadata": {
      "needs_background": "light"
     },
     "output_type": "display_data"
    }
   ],
   "source": [
    "sanityChecks.discProbVsError(train_data,disc3,device)\n",
    "sanityChecks.discProbVsError(test_data,disc3,device)"
   ]
  },
  {
   "cell_type": "markdown",
   "id": "a5bd74c3",
   "metadata": {
    "id": "a5bd74c3",
    "papermill": {
     "duration": 0.019606,
     "end_time": "2022-06-12T05:00:37.971417",
     "exception": false,
     "start_time": "2022-06-12T05:00:37.951811",
     "status": "completed"
    },
    "tags": []
   },
   "source": [
    "## Skip Connection Model Analysis - ABC-GAN "
   ]
  },
  {
   "cell_type": "markdown",
   "id": "5744a8bf",
   "metadata": {
    "id": "5744a8bf",
    "papermill": {
     "duration": 0.01904,
     "end_time": "2022-06-12T05:00:38.009588",
     "exception": false,
     "start_time": "2022-06-12T05:00:37.990548",
     "status": "completed"
    },
    "tags": []
   },
   "source": [
    "### Weight Analysis \n",
    "\n",
    "Study the weights of the skip connection layer\n",
    "\n",
    "Equation of the skip connection is \n",
    "\n",
    "$output = y_{gan} * w + y_{abc} * (1-w)$"
   ]
  },
  {
   "cell_type": "code",
   "execution_count": 19,
   "id": "52c31dea",
   "metadata": {
    "execution": {
     "iopub.execute_input": "2022-06-12T05:00:38.050974Z",
     "iopub.status.busy": "2022-06-12T05:00:38.050585Z",
     "iopub.status.idle": "2022-06-12T05:00:38.053941Z",
     "shell.execute_reply": "2022-06-12T05:00:38.054174Z"
    },
    "id": "52c31dea",
    "papermill": {
     "duration": 0.025628,
     "end_time": "2022-06-12T05:00:38.054285",
     "exception": false,
     "start_time": "2022-06-12T05:00:38.028657",
     "status": "completed"
    },
    "tags": []
   },
   "outputs": [
    {
     "name": "stdout",
     "output_type": "stream",
     "text": [
      "Weight of the node at skip connection\n",
      "Parameter containing:\n",
      "tensor([[0.1156]], requires_grad=True)\n"
     ]
    },
    {
     "data": {
      "application/scrapbook.scrap.json+json": {
       "data": 0.11555526405572891,
       "encoder": "json",
       "name": "Skip Connection Weight",
       "version": 1
      }
     },
     "metadata": {
      "scrapbook": {
       "data": true,
       "display": false,
       "name": "Skip Connection Weight"
      }
     },
     "output_type": "display_data"
    }
   ],
   "source": [
    "print(\"Weight of the node at skip connection\")\n",
    "for name,param in gen3.named_parameters():\n",
    "    if(name == \"skipNode.weight\"):\n",
    "        print(param)\n",
    "        sb.glue(\"Skip Connection Weight\",param.item())"
   ]
  }
 ],
 "metadata": {
  "colab": {
   "collapsed_sections": [],
   "name": "ABC_GAN_Model-Catboost_Pre-gen.ipynb",
   "provenance": []
  },
  "interpreter": {
   "hash": "31f2aee4e71d21fbe5cf8b01ff0e069b9275f58929596ceb00d14d90e3e16cd6"
  },
  "kernelspec": {
   "display_name": "Python 3 (ipykernel)",
   "language": "python",
   "name": "python3"
  },
  "language_info": {
   "codemirror_mode": {
    "name": "ipython",
    "version": 3
   },
   "file_extension": ".py",
   "mimetype": "text/x-python",
   "name": "python",
   "nbconvert_exporter": "python",
   "pygments_lexer": "ipython3",
   "version": "3.8.11"
  },
  "papermill": {
   "default_parameters": {},
   "duration": 247.383401,
   "end_time": "2022-06-12T05:00:38.483995",
   "environment_variables": {},
   "exception": null,
   "input_path": "ABC_GAN-Catboost.ipynb",
   "output_path": "./ABC_GAN_Catboost/ABC-GAN_output_5_2.ipynb",
   "parameters": {
    "bias": 1,
    "variance": 0.01
   },
   "start_time": "2022-06-12T04:56:31.100594",
   "version": "2.3.3"
  }
 },
 "nbformat": 4,
 "nbformat_minor": 5
}