{
 "cells": [
  {
   "cell_type": "markdown",
   "id": "622780e6",
   "metadata": {
    "id": "622780e6",
    "papermill": {
     "duration": 0.034733,
     "end_time": "2022-06-12T06:09:02.003726",
     "exception": false,
     "start_time": "2022-06-12T06:09:01.968993",
     "status": "completed"
    },
    "tags": []
   },
   "source": [
    "## Import Libraries "
   ]
  },
  {
   "cell_type": "code",
   "execution_count": 1,
   "id": "a62397e3",
   "metadata": {
    "execution": {
     "iopub.execute_input": "2022-06-12T06:09:02.041941Z",
     "iopub.status.busy": "2022-06-12T06:09:02.041421Z",
     "iopub.status.idle": "2022-06-12T06:09:02.043809Z",
     "shell.execute_reply": "2022-06-12T06:09:02.044156Z"
    },
    "id": "a62397e3",
    "papermill": {
     "duration": 0.023942,
     "end_time": "2022-06-12T06:09:02.044393",
     "exception": false,
     "start_time": "2022-06-12T06:09:02.020451",
     "status": "completed"
    },
    "tags": []
   },
   "outputs": [],
   "source": [
    "import warnings\n",
    "import sys\n",
    "sys.path.insert(0, '../../src')\n",
    "warnings.filterwarnings('ignore')"
   ]
  },
  {
   "cell_type": "code",
   "execution_count": 2,
   "id": "d6a4e155",
   "metadata": {
    "execution": {
     "iopub.execute_input": "2022-06-12T06:09:02.064580Z",
     "iopub.status.busy": "2022-06-12T06:09:02.064184Z",
     "iopub.status.idle": "2022-06-12T06:09:03.833208Z",
     "shell.execute_reply": "2022-06-12T06:09:03.833467Z"
    },
    "id": "d6a4e155",
    "papermill": {
     "duration": 1.779702,
     "end_time": "2022-06-12T06:09:03.833589",
     "exception": false,
     "start_time": "2022-06-12T06:09:02.053887",
     "status": "completed"
    },
    "tags": []
   },
   "outputs": [],
   "source": [
    "import ABC_train_test2\n",
    "import bostonDataset\n",
    "import network\n",
    "import dataset\n",
    "import sanityChecks\n",
    "import torch \n",
    "import scrapbook as sb\n",
    "from statistics import mean \n",
    "import catboost as ctb \n",
    "from sklearn.model_selection import train_test_split\n",
    "from sklearn.metrics import mean_squared_error,mean_absolute_error\n",
    "import numpy as np"
   ]
  },
  {
   "cell_type": "markdown",
   "id": "2fa5b0f7",
   "metadata": {
    "id": "2fa5b0f7",
    "papermill": {
     "duration": 0.006758,
     "end_time": "2022-06-12T06:09:03.847458",
     "exception": false,
     "start_time": "2022-06-12T06:09:03.840700",
     "status": "completed"
    },
    "tags": []
   },
   "source": [
    "## Parameters "
   ]
  },
  {
   "cell_type": "code",
   "execution_count": 3,
   "id": "783186fb",
   "metadata": {
    "execution": {
     "iopub.execute_input": "2022-06-12T06:09:03.863032Z",
     "iopub.status.busy": "2022-06-12T06:09:03.862681Z",
     "iopub.status.idle": "2022-06-12T06:09:03.863961Z",
     "shell.execute_reply": "2022-06-12T06:09:03.864203Z"
    },
    "id": "783186fb",
    "papermill": {
     "duration": 0.01015,
     "end_time": "2022-06-12T06:09:03.864319",
     "exception": false,
     "start_time": "2022-06-12T06:09:03.854169",
     "status": "completed"
    },
    "tags": [
     "parameters"
    ]
   },
   "outputs": [],
   "source": [
    "variance = 1\n",
    "bias = 1 "
   ]
  },
  {
   "cell_type": "code",
   "execution_count": 4,
   "id": "62319d16",
   "metadata": {
    "execution": {
     "iopub.execute_input": "2022-06-12T06:09:03.879852Z",
     "iopub.status.busy": "2022-06-12T06:09:03.879499Z",
     "iopub.status.idle": "2022-06-12T06:09:03.880750Z",
     "shell.execute_reply": "2022-06-12T06:09:03.880982Z"
    },
    "papermill": {
     "duration": 0.009854,
     "end_time": "2022-06-12T06:09:03.881085",
     "exception": false,
     "start_time": "2022-06-12T06:09:03.871231",
     "status": "completed"
    },
    "tags": [
     "injected-parameters"
    ]
   },
   "outputs": [],
   "source": [
    "# Parameters\n",
    "variance = 0.1\n",
    "bias = 1\n"
   ]
  },
  {
   "cell_type": "markdown",
   "id": "391cdbfd",
   "metadata": {
    "id": "391cdbfd",
    "papermill": {
     "duration": 0.006719,
     "end_time": "2022-06-12T06:09:03.894668",
     "exception": false,
     "start_time": "2022-06-12T06:09:03.887949",
     "status": "completed"
    },
    "tags": []
   },
   "source": [
    "## Dataset \n"
   ]
  },
  {
   "cell_type": "code",
   "execution_count": 5,
   "id": "5b51f161",
   "metadata": {
    "execution": {
     "iopub.execute_input": "2022-06-12T06:09:03.910248Z",
     "iopub.status.busy": "2022-06-12T06:09:03.909887Z",
     "iopub.status.idle": "2022-06-12T06:09:03.911100Z",
     "shell.execute_reply": "2022-06-12T06:09:03.911338Z"
    },
    "id": "5b51f161",
    "papermill": {
     "duration": 0.009904,
     "end_time": "2022-06-12T06:09:03.911441",
     "exception": false,
     "start_time": "2022-06-12T06:09:03.901537",
     "status": "completed"
    },
    "tags": []
   },
   "outputs": [],
   "source": [
    "#Parameters \n",
    "n_features = 13\n",
    "n_samples= 506\n",
    "n_target = 1 "
   ]
  },
  {
   "cell_type": "code",
   "execution_count": 6,
   "id": "5d6eced4",
   "metadata": {
    "execution": {
     "iopub.execute_input": "2022-06-12T06:09:03.927133Z",
     "iopub.status.busy": "2022-06-12T06:09:03.926788Z",
     "iopub.status.idle": "2022-06-12T06:09:03.937330Z",
     "shell.execute_reply": "2022-06-12T06:09:03.937580Z"
    },
    "id": "5d6eced4",
    "papermill": {
     "duration": 0.019339,
     "end_time": "2022-06-12T06:09:03.937695",
     "exception": false,
     "start_time": "2022-06-12T06:09:03.918356",
     "status": "completed"
    },
    "tags": []
   },
   "outputs": [
    {
     "name": "stdout",
     "output_type": "stream",
     "text": [
      "         X1        X2        X3        X4        X5        X6        X7  \\\n",
      "0 -0.419782  0.284830 -1.287909 -0.272599 -0.144217  0.413672 -0.120013   \n",
      "1 -0.417339 -0.487722 -0.593381 -0.272599 -0.740262  0.194274  0.367166   \n",
      "2 -0.417342 -0.487722 -0.593381 -0.272599 -0.740262  1.282714 -0.265812   \n",
      "3 -0.416750 -0.487722 -1.306878 -0.272599 -0.835284  1.016303 -0.809889   \n",
      "4 -0.412482 -0.487722 -1.306878 -0.272599 -0.835284  1.228577 -0.511180   \n",
      "\n",
      "         X8        X9       X10       X11       X12       X13         Y  \n",
      "0  0.140214 -0.982843 -0.666608 -1.459000  0.441052 -1.075562  0.159686  \n",
      "1  0.557160 -0.867883 -0.987329 -0.303094  0.441052 -0.492439 -0.101524  \n",
      "2  0.557160 -0.867883 -0.987329 -0.303094  0.396427 -1.208727  1.324247  \n",
      "3  1.077737 -0.752922 -1.106115  0.113032  0.416163 -1.361517  1.182758  \n",
      "4  1.077737 -0.752922 -1.106115  0.113032  0.441052 -1.026501  1.487503  \n"
     ]
    }
   ],
   "source": [
    "X,Y = bostonDataset.boston_data()"
   ]
  },
  {
   "cell_type": "code",
   "execution_count": 7,
   "id": "fe007438",
   "metadata": {
    "execution": {
     "iopub.execute_input": "2022-06-12T06:09:03.954704Z",
     "iopub.status.busy": "2022-06-12T06:09:03.954257Z",
     "iopub.status.idle": "2022-06-12T06:09:03.955764Z",
     "shell.execute_reply": "2022-06-12T06:09:03.956022Z"
    },
    "id": "fe007438",
    "papermill": {
     "duration": 0.011063,
     "end_time": "2022-06-12T06:09:03.956132",
     "exception": false,
     "start_time": "2022-06-12T06:09:03.945069",
     "status": "completed"
    },
    "tags": []
   },
   "outputs": [],
   "source": [
    "#Train test split for dataset \n",
    "X_train,X_test,Y_train,Y_test = train_test_split(X,Y,test_size = 0.2)\n",
    "train_data = dataset.CustomDataset(X_train,Y_train)\n",
    "test_data = dataset.CustomDataset(X_test,Y_test)\n"
   ]
  },
  {
   "cell_type": "markdown",
   "id": "a9a1af34",
   "metadata": {
    "id": "a9a1af34",
    "papermill": {
     "duration": 0.007111,
     "end_time": "2022-06-12T06:09:03.970431",
     "exception": false,
     "start_time": "2022-06-12T06:09:03.963320",
     "status": "completed"
    },
    "tags": []
   },
   "source": [
    "## Training Parameters "
   ]
  },
  {
   "cell_type": "code",
   "execution_count": 8,
   "id": "952b7fc8",
   "metadata": {
    "execution": {
     "iopub.execute_input": "2022-06-12T06:09:03.986853Z",
     "iopub.status.busy": "2022-06-12T06:09:03.986490Z",
     "iopub.status.idle": "2022-06-12T06:09:03.987675Z",
     "shell.execute_reply": "2022-06-12T06:09:03.987912Z"
    },
    "id": "952b7fc8",
    "papermill": {
     "duration": 0.010502,
     "end_time": "2022-06-12T06:09:03.988016",
     "exception": false,
     "start_time": "2022-06-12T06:09:03.977514",
     "status": "completed"
    },
    "tags": []
   },
   "outputs": [],
   "source": [
    "batch_size = 32\n",
    "n_epochs = 1000\n",
    "#Select the device \n",
    "device = torch.device('cuda' if torch.cuda.is_available() else 'cpu')"
   ]
  },
  {
   "cell_type": "markdown",
   "id": "a95e1600",
   "metadata": {
    "id": "a95e1600",
    "papermill": {
     "duration": 0.007062,
     "end_time": "2022-06-12T06:09:04.002242",
     "exception": false,
     "start_time": "2022-06-12T06:09:03.995180",
     "status": "completed"
    },
    "tags": []
   },
   "source": [
    "# ABC Pre-generator Model \n",
    "\n",
    "1. The catboost model is used as a pre-generator model for the ABC-GAN. \n",
    "2. The model is first trained on the entire dataset \n",
    "3. It generats X,Y pairs and we add some Gaussian noise with mean 0 and variance 1 to it which is then feed as input to the generator.\n"
   ]
  },
  {
   "cell_type": "code",
   "execution_count": 9,
   "id": "ff8ce7bd",
   "metadata": {
    "execution": {
     "iopub.execute_input": "2022-06-12T06:09:04.021299Z",
     "iopub.status.busy": "2022-06-12T06:09:04.020888Z",
     "iopub.status.idle": "2022-06-12T06:09:04.972293Z",
     "shell.execute_reply": "2022-06-12T06:09:04.972606Z"
    },
    "id": "ff8ce7bd",
    "papermill": {
     "duration": 0.96333,
     "end_time": "2022-06-12T06:09:04.972729",
     "exception": false,
     "start_time": "2022-06-12T06:09:04.009399",
     "status": "completed"
    },
    "tags": []
   },
   "outputs": [
    {
     "name": "stdout",
     "output_type": "stream",
     "text": [
      "Learning rate set to 0.033215\n",
      "0:\tlearn: 0.9820871\ttotal: 58.7ms\tremaining: 58.6s\n",
      "1:\tlearn: 0.9631146\ttotal: 59.8ms\tremaining: 29.8s\n",
      "2:\tlearn: 0.9426518\ttotal: 60.7ms\tremaining: 20.2s\n",
      "3:\tlearn: 0.9260028\ttotal: 61.6ms\tremaining: 15.3s\n",
      "4:\tlearn: 0.9095052\ttotal: 62.7ms\tremaining: 12.5s\n",
      "5:\tlearn: 0.8933009\ttotal: 63.7ms\tremaining: 10.6s\n",
      "6:\tlearn: 0.8765461\ttotal: 64.6ms\tremaining: 9.16s\n",
      "7:\tlearn: 0.8606542\ttotal: 65.5ms\tremaining: 8.12s\n",
      "8:\tlearn: 0.8457418\ttotal: 66.2ms\tremaining: 7.29s\n",
      "9:\tlearn: 0.8292022\ttotal: 67ms\tremaining: 6.63s\n",
      "10:\tlearn: 0.8136798\ttotal: 67.8ms\tremaining: 6.1s\n",
      "11:\tlearn: 0.7996564\ttotal: 68.6ms\tremaining: 5.65s\n",
      "12:\tlearn: 0.7848067\ttotal: 69.4ms\tremaining: 5.27s\n",
      "13:\tlearn: 0.7709931\ttotal: 70.5ms\tremaining: 4.96s\n",
      "14:\tlearn: 0.7576129\ttotal: 71.4ms\tremaining: 4.69s\n",
      "15:\tlearn: 0.7436205\ttotal: 72.2ms\tremaining: 4.44s\n",
      "16:\tlearn: 0.7304710\ttotal: 73ms\tremaining: 4.22s\n",
      "17:\tlearn: 0.7177069\ttotal: 73.9ms\tremaining: 4.03s\n",
      "18:\tlearn: 0.7054223\ttotal: 74.6ms\tremaining: 3.85s\n",
      "19:\tlearn: 0.6937638\ttotal: 75.5ms\tremaining: 3.7s\n",
      "20:\tlearn: 0.6822197\ttotal: 76.3ms\tremaining: 3.56s\n",
      "21:\tlearn: 0.6712394\ttotal: 77ms\tremaining: 3.42s\n",
      "22:\tlearn: 0.6595109\ttotal: 77.8ms\tremaining: 3.3s\n",
      "23:\tlearn: 0.6495118\ttotal: 78.6ms\tremaining: 3.19s\n",
      "24:\tlearn: 0.6399579\ttotal: 79.3ms\tremaining: 3.09s\n",
      "25:\tlearn: 0.6310982\ttotal: 80.1ms\tremaining: 3s\n",
      "26:\tlearn: 0.6229237\ttotal: 80.8ms\tremaining: 2.91s\n",
      "27:\tlearn: 0.6138239\ttotal: 81.6ms\tremaining: 2.83s\n",
      "28:\tlearn: 0.6041712\ttotal: 82.4ms\tremaining: 2.76s\n",
      "29:\tlearn: 0.5937077\ttotal: 83.1ms\tremaining: 2.69s\n",
      "30:\tlearn: 0.5844732\ttotal: 83.9ms\tremaining: 2.62s\n",
      "31:\tlearn: 0.5755030\ttotal: 84.6ms\tremaining: 2.56s\n",
      "32:\tlearn: 0.5674947\ttotal: 85.4ms\tremaining: 2.5s\n",
      "33:\tlearn: 0.5599463\ttotal: 86.2ms\tremaining: 2.45s\n",
      "34:\tlearn: 0.5521984\ttotal: 87.1ms\tremaining: 2.4s\n",
      "35:\tlearn: 0.5447145\ttotal: 88.1ms\tremaining: 2.36s\n",
      "36:\tlearn: 0.5380921\ttotal: 89ms\tremaining: 2.31s\n",
      "37:\tlearn: 0.5310206\ttotal: 89.9ms\tremaining: 2.27s\n",
      "38:\tlearn: 0.5235312\ttotal: 90.9ms\tremaining: 2.24s\n",
      "39:\tlearn: 0.5164315\ttotal: 91.8ms\tremaining: 2.2s\n",
      "40:\tlearn: 0.5109614\ttotal: 92.5ms\tremaining: 2.16s\n",
      "41:\tlearn: 0.5040758\ttotal: 93.3ms\tremaining: 2.13s\n",
      "42:\tlearn: 0.4975584\ttotal: 94.1ms\tremaining: 2.09s\n",
      "43:\tlearn: 0.4922923\ttotal: 94.8ms\tremaining: 2.06s\n",
      "44:\tlearn: 0.4861661\ttotal: 95.7ms\tremaining: 2.03s\n",
      "45:\tlearn: 0.4809485\ttotal: 96.5ms\tremaining: 2s\n",
      "46:\tlearn: 0.4739381\ttotal: 97.3ms\tremaining: 1.97s\n",
      "47:\tlearn: 0.4677419\ttotal: 98.1ms\tremaining: 1.94s\n",
      "48:\tlearn: 0.4617832\ttotal: 98.8ms\tremaining: 1.92s\n",
      "49:\tlearn: 0.4570529\ttotal: 99.9ms\tremaining: 1.9s\n",
      "50:\tlearn: 0.4517836\ttotal: 101ms\tremaining: 1.87s\n",
      "51:\tlearn: 0.4469799\ttotal: 102ms\tremaining: 1.85s\n",
      "52:\tlearn: 0.4411780\ttotal: 103ms\tremaining: 1.83s\n",
      "53:\tlearn: 0.4374597\ttotal: 103ms\tremaining: 1.81s\n",
      "54:\tlearn: 0.4326043\ttotal: 104ms\tremaining: 1.79s\n",
      "55:\tlearn: 0.4274375\ttotal: 105ms\tremaining: 1.76s\n",
      "56:\tlearn: 0.4227376\ttotal: 106ms\tremaining: 1.75s\n",
      "57:\tlearn: 0.4181324\ttotal: 106ms\tremaining: 1.73s\n",
      "58:\tlearn: 0.4147803\ttotal: 107ms\tremaining: 1.71s\n",
      "59:\tlearn: 0.4108019\ttotal: 108ms\tremaining: 1.69s\n"
     ]
    },
    {
     "name": "stdout",
     "output_type": "stream",
     "text": [
      "60:\tlearn: 0.4067323\ttotal: 109ms\tremaining: 1.68s\n",
      "61:\tlearn: 0.4029190\ttotal: 110ms\tremaining: 1.66s\n",
      "62:\tlearn: 0.3994566\ttotal: 111ms\tremaining: 1.65s\n",
      "63:\tlearn: 0.3949740\ttotal: 112ms\tremaining: 1.63s\n",
      "64:\tlearn: 0.3912763\ttotal: 113ms\tremaining: 1.62s\n",
      "65:\tlearn: 0.3868951\ttotal: 114ms\tremaining: 1.61s\n",
      "66:\tlearn: 0.3834427\ttotal: 115ms\tremaining: 1.59s\n",
      "67:\tlearn: 0.3808023\ttotal: 115ms\tremaining: 1.58s\n",
      "68:\tlearn: 0.3772680\ttotal: 116ms\tremaining: 1.57s\n",
      "69:\tlearn: 0.3746540\ttotal: 117ms\tremaining: 1.56s\n",
      "70:\tlearn: 0.3709348\ttotal: 118ms\tremaining: 1.54s\n",
      "71:\tlearn: 0.3672266\ttotal: 119ms\tremaining: 1.54s\n",
      "72:\tlearn: 0.3643760\ttotal: 120ms\tremaining: 1.52s\n",
      "73:\tlearn: 0.3609260\ttotal: 121ms\tremaining: 1.51s\n",
      "74:\tlearn: 0.3577573\ttotal: 122ms\tremaining: 1.5s\n",
      "75:\tlearn: 0.3555272\ttotal: 123ms\tremaining: 1.49s\n",
      "76:\tlearn: 0.3531460\ttotal: 123ms\tremaining: 1.48s\n",
      "77:\tlearn: 0.3509430\ttotal: 124ms\tremaining: 1.47s\n",
      "78:\tlearn: 0.3488005\ttotal: 125ms\tremaining: 1.46s\n",
      "79:\tlearn: 0.3461848\ttotal: 126ms\tremaining: 1.45s\n",
      "80:\tlearn: 0.3439295\ttotal: 127ms\tremaining: 1.44s\n",
      "81:\tlearn: 0.3405952\ttotal: 128ms\tremaining: 1.43s\n",
      "82:\tlearn: 0.3380975\ttotal: 129ms\tremaining: 1.42s\n",
      "83:\tlearn: 0.3360570\ttotal: 129ms\tremaining: 1.41s\n",
      "84:\tlearn: 0.3335953\ttotal: 130ms\tremaining: 1.4s\n",
      "85:\tlearn: 0.3306902\ttotal: 131ms\tremaining: 1.39s\n",
      "86:\tlearn: 0.3288520\ttotal: 132ms\tremaining: 1.38s\n",
      "87:\tlearn: 0.3264488\ttotal: 133ms\tremaining: 1.37s\n",
      "88:\tlearn: 0.3242021\ttotal: 134ms\tremaining: 1.37s\n",
      "89:\tlearn: 0.3220641\ttotal: 134ms\tremaining: 1.36s\n",
      "90:\tlearn: 0.3196812\ttotal: 135ms\tremaining: 1.35s\n",
      "91:\tlearn: 0.3182786\ttotal: 136ms\tremaining: 1.34s\n",
      "92:\tlearn: 0.3171079\ttotal: 137ms\tremaining: 1.33s\n",
      "93:\tlearn: 0.3152686\ttotal: 138ms\tremaining: 1.33s\n",
      "94:\tlearn: 0.3134392\ttotal: 138ms\tremaining: 1.32s\n",
      "95:\tlearn: 0.3115720\ttotal: 139ms\tremaining: 1.31s\n",
      "96:\tlearn: 0.3100326\ttotal: 140ms\tremaining: 1.31s\n",
      "97:\tlearn: 0.3084245\ttotal: 141ms\tremaining: 1.3s\n",
      "98:\tlearn: 0.3067580\ttotal: 142ms\tremaining: 1.29s\n",
      "99:\tlearn: 0.3054064\ttotal: 143ms\tremaining: 1.28s\n",
      "100:\tlearn: 0.3040455\ttotal: 144ms\tremaining: 1.28s\n",
      "101:\tlearn: 0.3022007\ttotal: 145ms\tremaining: 1.27s\n",
      "102:\tlearn: 0.3008635\ttotal: 145ms\tremaining: 1.27s\n",
      "103:\tlearn: 0.2990436\ttotal: 146ms\tremaining: 1.26s\n",
      "104:\tlearn: 0.2980236\ttotal: 147ms\tremaining: 1.25s\n",
      "105:\tlearn: 0.2968050\ttotal: 148ms\tremaining: 1.25s\n",
      "106:\tlearn: 0.2949483\ttotal: 149ms\tremaining: 1.24s\n",
      "107:\tlearn: 0.2937887\ttotal: 149ms\tremaining: 1.23s\n",
      "108:\tlearn: 0.2921784\ttotal: 150ms\tremaining: 1.23s\n",
      "109:\tlearn: 0.2909848\ttotal: 151ms\tremaining: 1.22s\n",
      "110:\tlearn: 0.2896182\ttotal: 152ms\tremaining: 1.22s\n",
      "111:\tlearn: 0.2889241\ttotal: 153ms\tremaining: 1.21s\n",
      "112:\tlearn: 0.2872475\ttotal: 153ms\tremaining: 1.2s\n",
      "113:\tlearn: 0.2862272\ttotal: 154ms\tremaining: 1.2s\n",
      "114:\tlearn: 0.2852850\ttotal: 155ms\tremaining: 1.19s\n",
      "115:\tlearn: 0.2838331\ttotal: 156ms\tremaining: 1.19s\n",
      "116:\tlearn: 0.2825146\ttotal: 157ms\tremaining: 1.18s\n",
      "117:\tlearn: 0.2806270\ttotal: 158ms\tremaining: 1.18s\n",
      "118:\tlearn: 0.2792558\ttotal: 158ms\tremaining: 1.17s\n",
      "119:\tlearn: 0.2784660\ttotal: 159ms\tremaining: 1.17s\n",
      "120:\tlearn: 0.2773972\ttotal: 160ms\tremaining: 1.16s\n",
      "121:\tlearn: 0.2764381\ttotal: 161ms\tremaining: 1.16s\n",
      "122:\tlearn: 0.2754142\ttotal: 161ms\tremaining: 1.15s\n",
      "123:\tlearn: 0.2740504\ttotal: 162ms\tremaining: 1.15s\n",
      "124:\tlearn: 0.2728086\ttotal: 163ms\tremaining: 1.14s\n",
      "125:\tlearn: 0.2718783\ttotal: 164ms\tremaining: 1.14s\n",
      "126:\tlearn: 0.2704562\ttotal: 165ms\tremaining: 1.13s\n",
      "127:\tlearn: 0.2694332\ttotal: 166ms\tremaining: 1.13s\n",
      "128:\tlearn: 0.2682684\ttotal: 166ms\tremaining: 1.12s\n",
      "129:\tlearn: 0.2671770\ttotal: 167ms\tremaining: 1.12s\n",
      "130:\tlearn: 0.2661635\ttotal: 168ms\tremaining: 1.12s\n",
      "131:\tlearn: 0.2651312\ttotal: 169ms\tremaining: 1.11s\n",
      "132:\tlearn: 0.2644563\ttotal: 170ms\tremaining: 1.11s\n",
      "133:\tlearn: 0.2633736\ttotal: 171ms\tremaining: 1.1s\n",
      "134:\tlearn: 0.2626096\ttotal: 171ms\tremaining: 1.1s\n",
      "135:\tlearn: 0.2616646\ttotal: 172ms\tremaining: 1.09s\n",
      "136:\tlearn: 0.2609944\ttotal: 173ms\tremaining: 1.09s\n",
      "137:\tlearn: 0.2601544\ttotal: 174ms\tremaining: 1.08s\n",
      "138:\tlearn: 0.2595778\ttotal: 174ms\tremaining: 1.08s\n",
      "139:\tlearn: 0.2587915\ttotal: 175ms\tremaining: 1.08s\n",
      "140:\tlearn: 0.2582614\ttotal: 176ms\tremaining: 1.07s\n",
      "141:\tlearn: 0.2572402\ttotal: 177ms\tremaining: 1.07s\n",
      "142:\tlearn: 0.2562589\ttotal: 178ms\tremaining: 1.06s\n",
      "143:\tlearn: 0.2554533\ttotal: 178ms\tremaining: 1.06s\n",
      "144:\tlearn: 0.2543005\ttotal: 179ms\tremaining: 1.06s\n",
      "145:\tlearn: 0.2534448\ttotal: 180ms\tremaining: 1.05s\n",
      "146:\tlearn: 0.2526276\ttotal: 181ms\tremaining: 1.05s\n",
      "147:\tlearn: 0.2517025\ttotal: 182ms\tremaining: 1.05s\n",
      "148:\tlearn: 0.2507001\ttotal: 183ms\tremaining: 1.04s\n",
      "149:\tlearn: 0.2499283\ttotal: 184ms\tremaining: 1.04s\n",
      "150:\tlearn: 0.2488137\ttotal: 184ms\tremaining: 1.04s\n",
      "151:\tlearn: 0.2478310\ttotal: 185ms\tremaining: 1.03s\n",
      "152:\tlearn: 0.2469039\ttotal: 186ms\tremaining: 1.03s\n",
      "153:\tlearn: 0.2463227\ttotal: 187ms\tremaining: 1.02s\n",
      "154:\tlearn: 0.2454698\ttotal: 188ms\tremaining: 1.02s\n",
      "155:\tlearn: 0.2447068\ttotal: 188ms\tremaining: 1.02s\n",
      "156:\tlearn: 0.2440474\ttotal: 189ms\tremaining: 1.01s\n",
      "157:\tlearn: 0.2433040\ttotal: 190ms\tremaining: 1.01s\n",
      "158:\tlearn: 0.2425360\ttotal: 191ms\tremaining: 1.01s\n"
     ]
    },
    {
     "name": "stdout",
     "output_type": "stream",
     "text": [
      "159:\tlearn: 0.2419972\ttotal: 192ms\tremaining: 1s\n",
      "160:\tlearn: 0.2410465\ttotal: 192ms\tremaining: 1s\n",
      "161:\tlearn: 0.2402253\ttotal: 193ms\tremaining: 1000ms\n",
      "162:\tlearn: 0.2397308\ttotal: 194ms\tremaining: 997ms\n",
      "163:\tlearn: 0.2395167\ttotal: 195ms\tremaining: 994ms\n",
      "164:\tlearn: 0.2390857\ttotal: 196ms\tremaining: 990ms\n",
      "165:\tlearn: 0.2383237\ttotal: 197ms\tremaining: 987ms\n",
      "166:\tlearn: 0.2373820\ttotal: 197ms\tremaining: 984ms\n",
      "167:\tlearn: 0.2366173\ttotal: 198ms\tremaining: 981ms\n",
      "168:\tlearn: 0.2359325\ttotal: 199ms\tremaining: 979ms\n",
      "169:\tlearn: 0.2354112\ttotal: 200ms\tremaining: 976ms\n",
      "170:\tlearn: 0.2347410\ttotal: 201ms\tremaining: 973ms\n",
      "171:\tlearn: 0.2341701\ttotal: 201ms\tremaining: 970ms\n",
      "172:\tlearn: 0.2334371\ttotal: 202ms\tremaining: 967ms\n",
      "173:\tlearn: 0.2331158\ttotal: 203ms\tremaining: 965ms\n",
      "174:\tlearn: 0.2324351\ttotal: 204ms\tremaining: 962ms\n",
      "175:\tlearn: 0.2322505\ttotal: 205ms\tremaining: 958ms\n",
      "176:\tlearn: 0.2315791\ttotal: 205ms\tremaining: 955ms\n",
      "177:\tlearn: 0.2312930\ttotal: 206ms\tremaining: 953ms\n",
      "178:\tlearn: 0.2305604\ttotal: 207ms\tremaining: 950ms\n",
      "179:\tlearn: 0.2299405\ttotal: 208ms\tremaining: 947ms\n",
      "180:\tlearn: 0.2292489\ttotal: 209ms\tremaining: 945ms\n",
      "181:\tlearn: 0.2287368\ttotal: 210ms\tremaining: 942ms\n",
      "182:\tlearn: 0.2282946\ttotal: 210ms\tremaining: 939ms\n",
      "183:\tlearn: 0.2275086\ttotal: 211ms\tremaining: 936ms\n",
      "184:\tlearn: 0.2269914\ttotal: 212ms\tremaining: 934ms\n",
      "185:\tlearn: 0.2263426\ttotal: 213ms\tremaining: 931ms\n",
      "186:\tlearn: 0.2255382\ttotal: 214ms\tremaining: 931ms\n",
      "187:\tlearn: 0.2250201\ttotal: 215ms\tremaining: 929ms\n",
      "188:\tlearn: 0.2242955\ttotal: 216ms\tremaining: 926ms\n",
      "189:\tlearn: 0.2235654\ttotal: 217ms\tremaining: 923ms\n",
      "190:\tlearn: 0.2228681\ttotal: 217ms\tremaining: 921ms\n",
      "191:\tlearn: 0.2223598\ttotal: 218ms\tremaining: 918ms\n",
      "192:\tlearn: 0.2216120\ttotal: 219ms\tremaining: 915ms\n",
      "193:\tlearn: 0.2211742\ttotal: 220ms\tremaining: 913ms\n",
      "194:\tlearn: 0.2208134\ttotal: 221ms\tremaining: 910ms\n",
      "195:\tlearn: 0.2199526\ttotal: 221ms\tremaining: 908ms\n",
      "196:\tlearn: 0.2194081\ttotal: 222ms\tremaining: 906ms\n",
      "197:\tlearn: 0.2189189\ttotal: 223ms\tremaining: 904ms\n",
      "198:\tlearn: 0.2184816\ttotal: 224ms\tremaining: 902ms\n",
      "199:\tlearn: 0.2182115\ttotal: 225ms\tremaining: 900ms\n",
      "200:\tlearn: 0.2175715\ttotal: 226ms\tremaining: 898ms\n",
      "201:\tlearn: 0.2172033\ttotal: 227ms\tremaining: 896ms\n",
      "202:\tlearn: 0.2164145\ttotal: 228ms\tremaining: 894ms\n",
      "203:\tlearn: 0.2159279\ttotal: 229ms\tremaining: 892ms\n",
      "204:\tlearn: 0.2152753\ttotal: 230ms\tremaining: 890ms\n",
      "205:\tlearn: 0.2149527\ttotal: 230ms\tremaining: 888ms\n",
      "206:\tlearn: 0.2143297\ttotal: 231ms\tremaining: 885ms\n",
      "207:\tlearn: 0.2139013\ttotal: 232ms\tremaining: 882ms\n",
      "208:\tlearn: 0.2134093\ttotal: 232ms\tremaining: 879ms\n",
      "209:\tlearn: 0.2128343\ttotal: 233ms\tremaining: 876ms\n",
      "210:\tlearn: 0.2124508\ttotal: 233ms\tremaining: 873ms\n",
      "211:\tlearn: 0.2122907\ttotal: 234ms\tremaining: 870ms\n",
      "212:\tlearn: 0.2120347\ttotal: 235ms\tremaining: 867ms\n",
      "213:\tlearn: 0.2113423\ttotal: 236ms\tremaining: 865ms\n",
      "214:\tlearn: 0.2108666\ttotal: 236ms\tremaining: 863ms\n",
      "215:\tlearn: 0.2102937\ttotal: 237ms\tremaining: 861ms\n",
      "216:\tlearn: 0.2099333\ttotal: 239ms\tremaining: 862ms\n",
      "217:\tlearn: 0.2093060\ttotal: 240ms\tremaining: 860ms\n",
      "218:\tlearn: 0.2087010\ttotal: 240ms\tremaining: 857ms\n",
      "219:\tlearn: 0.2082449\ttotal: 241ms\tremaining: 855ms\n",
      "220:\tlearn: 0.2078560\ttotal: 242ms\tremaining: 853ms\n",
      "221:\tlearn: 0.2072423\ttotal: 243ms\tremaining: 851ms\n",
      "222:\tlearn: 0.2066997\ttotal: 244ms\tremaining: 849ms\n",
      "223:\tlearn: 0.2061214\ttotal: 245ms\tremaining: 848ms\n",
      "224:\tlearn: 0.2059659\ttotal: 245ms\tremaining: 845ms\n",
      "225:\tlearn: 0.2054150\ttotal: 246ms\tremaining: 843ms\n",
      "226:\tlearn: 0.2047973\ttotal: 247ms\tremaining: 841ms\n",
      "227:\tlearn: 0.2046175\ttotal: 248ms\tremaining: 839ms\n",
      "228:\tlearn: 0.2041748\ttotal: 249ms\tremaining: 837ms\n",
      "229:\tlearn: 0.2036768\ttotal: 249ms\tremaining: 835ms\n",
      "230:\tlearn: 0.2032248\ttotal: 250ms\tremaining: 833ms\n",
      "231:\tlearn: 0.2025341\ttotal: 251ms\tremaining: 832ms\n",
      "232:\tlearn: 0.2019565\ttotal: 252ms\tremaining: 830ms\n",
      "233:\tlearn: 0.2013595\ttotal: 253ms\tremaining: 828ms\n",
      "234:\tlearn: 0.2012274\ttotal: 254ms\tremaining: 826ms\n",
      "235:\tlearn: 0.2010465\ttotal: 255ms\tremaining: 824ms\n",
      "236:\tlearn: 0.2009194\ttotal: 255ms\tremaining: 822ms\n",
      "237:\tlearn: 0.2003691\ttotal: 256ms\tremaining: 821ms\n",
      "238:\tlearn: 0.1997928\ttotal: 257ms\tremaining: 819ms\n",
      "239:\tlearn: 0.1993817\ttotal: 258ms\tremaining: 818ms\n",
      "240:\tlearn: 0.1987366\ttotal: 259ms\tremaining: 816ms\n",
      "241:\tlearn: 0.1982214\ttotal: 260ms\tremaining: 815ms\n",
      "242:\tlearn: 0.1975884\ttotal: 261ms\tremaining: 813ms\n",
      "243:\tlearn: 0.1972936\ttotal: 262ms\tremaining: 812ms\n",
      "244:\tlearn: 0.1965650\ttotal: 263ms\tremaining: 811ms\n",
      "245:\tlearn: 0.1964120\ttotal: 264ms\tremaining: 809ms\n",
      "246:\tlearn: 0.1956352\ttotal: 265ms\tremaining: 808ms\n",
      "247:\tlearn: 0.1950293\ttotal: 266ms\tremaining: 806ms\n",
      "248:\tlearn: 0.1949180\ttotal: 267ms\tremaining: 804ms\n",
      "249:\tlearn: 0.1944072\ttotal: 268ms\tremaining: 803ms\n",
      "250:\tlearn: 0.1940742\ttotal: 269ms\tremaining: 801ms\n",
      "251:\tlearn: 0.1939055\ttotal: 270ms\tremaining: 800ms\n",
      "252:\tlearn: 0.1934327\ttotal: 270ms\tremaining: 798ms\n",
      "253:\tlearn: 0.1929082\ttotal: 271ms\tremaining: 797ms\n",
      "254:\tlearn: 0.1921665\ttotal: 272ms\tremaining: 796ms\n",
      "255:\tlearn: 0.1918122\ttotal: 274ms\tremaining: 795ms\n",
      "256:\tlearn: 0.1912620\ttotal: 275ms\tremaining: 794ms\n",
      "257:\tlearn: 0.1905762\ttotal: 276ms\tremaining: 793ms\n",
      "258:\tlearn: 0.1901560\ttotal: 277ms\tremaining: 792ms\n",
      "259:\tlearn: 0.1895228\ttotal: 278ms\tremaining: 790ms\n",
      "260:\tlearn: 0.1890059\ttotal: 279ms\tremaining: 789ms\n",
      "261:\tlearn: 0.1887692\ttotal: 279ms\tremaining: 787ms\n",
      "262:\tlearn: 0.1885501\ttotal: 280ms\tremaining: 785ms\n",
      "263:\tlearn: 0.1880391\ttotal: 281ms\tremaining: 784ms\n",
      "264:\tlearn: 0.1879461\ttotal: 282ms\tremaining: 782ms\n",
      "265:\tlearn: 0.1873321\ttotal: 283ms\tremaining: 780ms\n",
      "266:\tlearn: 0.1869161\ttotal: 284ms\tremaining: 779ms\n",
      "267:\tlearn: 0.1863343\ttotal: 284ms\tremaining: 777ms\n",
      "268:\tlearn: 0.1859832\ttotal: 285ms\tremaining: 775ms\n",
      "269:\tlearn: 0.1855290\ttotal: 286ms\tremaining: 774ms\n",
      "270:\tlearn: 0.1853276\ttotal: 287ms\tremaining: 772ms\n",
      "271:\tlearn: 0.1852085\ttotal: 288ms\tremaining: 771ms\n",
      "272:\tlearn: 0.1847450\ttotal: 289ms\tremaining: 769ms\n",
      "273:\tlearn: 0.1842613\ttotal: 290ms\tremaining: 767ms\n",
      "274:\tlearn: 0.1837192\ttotal: 290ms\tremaining: 765ms\n",
      "275:\tlearn: 0.1835326\ttotal: 291ms\tremaining: 764ms\n",
      "276:\tlearn: 0.1832610\ttotal: 292ms\tremaining: 762ms\n",
      "277:\tlearn: 0.1826682\ttotal: 293ms\tremaining: 760ms\n",
      "278:\tlearn: 0.1823754\ttotal: 294ms\tremaining: 759ms\n",
      "279:\tlearn: 0.1821597\ttotal: 294ms\tremaining: 757ms\n",
      "280:\tlearn: 0.1820667\ttotal: 295ms\tremaining: 755ms\n",
      "281:\tlearn: 0.1816782\ttotal: 296ms\tremaining: 753ms\n",
      "282:\tlearn: 0.1815567\ttotal: 297ms\tremaining: 752ms\n",
      "283:\tlearn: 0.1810882\ttotal: 298ms\tremaining: 750ms\n",
      "284:\tlearn: 0.1807984\ttotal: 298ms\tremaining: 749ms\n"
     ]
    },
    {
     "name": "stdout",
     "output_type": "stream",
     "text": [
      "285:\tlearn: 0.1803089\ttotal: 299ms\tremaining: 747ms\n",
      "286:\tlearn: 0.1801303\ttotal: 300ms\tremaining: 746ms\n",
      "287:\tlearn: 0.1798584\ttotal: 301ms\tremaining: 745ms\n",
      "288:\tlearn: 0.1794516\ttotal: 302ms\tremaining: 743ms\n",
      "289:\tlearn: 0.1789893\ttotal: 303ms\tremaining: 742ms\n",
      "290:\tlearn: 0.1787080\ttotal: 304ms\tremaining: 741ms\n",
      "291:\tlearn: 0.1783550\ttotal: 305ms\tremaining: 739ms\n",
      "292:\tlearn: 0.1779356\ttotal: 306ms\tremaining: 737ms\n",
      "293:\tlearn: 0.1776444\ttotal: 306ms\tremaining: 735ms\n",
      "294:\tlearn: 0.1772267\ttotal: 307ms\tremaining: 734ms\n",
      "295:\tlearn: 0.1770848\ttotal: 308ms\tremaining: 733ms\n",
      "296:\tlearn: 0.1769155\ttotal: 309ms\tremaining: 731ms\n",
      "297:\tlearn: 0.1765971\ttotal: 310ms\tremaining: 729ms\n",
      "298:\tlearn: 0.1763437\ttotal: 310ms\tremaining: 727ms\n",
      "299:\tlearn: 0.1760181\ttotal: 311ms\tremaining: 726ms\n",
      "300:\tlearn: 0.1754810\ttotal: 312ms\tremaining: 724ms\n",
      "301:\tlearn: 0.1752642\ttotal: 313ms\tremaining: 723ms\n",
      "302:\tlearn: 0.1750658\ttotal: 314ms\tremaining: 721ms\n",
      "303:\tlearn: 0.1746579\ttotal: 314ms\tremaining: 720ms\n",
      "304:\tlearn: 0.1742242\ttotal: 315ms\tremaining: 718ms\n",
      "305:\tlearn: 0.1738268\ttotal: 316ms\tremaining: 717ms\n",
      "306:\tlearn: 0.1732332\ttotal: 317ms\tremaining: 715ms\n",
      "307:\tlearn: 0.1727210\ttotal: 318ms\tremaining: 714ms\n",
      "308:\tlearn: 0.1724576\ttotal: 319ms\tremaining: 712ms\n",
      "309:\tlearn: 0.1721813\ttotal: 319ms\tremaining: 711ms\n",
      "310:\tlearn: 0.1717001\ttotal: 320ms\tremaining: 709ms\n",
      "311:\tlearn: 0.1712305\ttotal: 321ms\tremaining: 708ms\n",
      "312:\tlearn: 0.1709209\ttotal: 322ms\tremaining: 706ms\n",
      "313:\tlearn: 0.1706930\ttotal: 323ms\tremaining: 705ms\n",
      "314:\tlearn: 0.1704790\ttotal: 324ms\tremaining: 704ms\n",
      "315:\tlearn: 0.1702949\ttotal: 324ms\tremaining: 702ms\n",
      "316:\tlearn: 0.1698657\ttotal: 325ms\tremaining: 701ms\n",
      "317:\tlearn: 0.1694094\ttotal: 326ms\tremaining: 699ms\n",
      "318:\tlearn: 0.1689572\ttotal: 327ms\tremaining: 698ms\n",
      "319:\tlearn: 0.1688292\ttotal: 328ms\tremaining: 696ms\n",
      "320:\tlearn: 0.1684070\ttotal: 328ms\tremaining: 695ms\n",
      "321:\tlearn: 0.1681035\ttotal: 329ms\tremaining: 693ms\n",
      "322:\tlearn: 0.1678154\ttotal: 330ms\tremaining: 692ms\n",
      "323:\tlearn: 0.1676277\ttotal: 331ms\tremaining: 690ms\n",
      "324:\tlearn: 0.1673409\ttotal: 332ms\tremaining: 689ms\n",
      "325:\tlearn: 0.1669820\ttotal: 332ms\tremaining: 687ms\n",
      "326:\tlearn: 0.1669152\ttotal: 333ms\tremaining: 686ms\n",
      "327:\tlearn: 0.1664820\ttotal: 334ms\tremaining: 684ms\n",
      "328:\tlearn: 0.1660740\ttotal: 335ms\tremaining: 683ms\n",
      "329:\tlearn: 0.1657884\ttotal: 335ms\tremaining: 681ms\n",
      "330:\tlearn: 0.1655184\ttotal: 336ms\tremaining: 680ms\n",
      "331:\tlearn: 0.1651525\ttotal: 337ms\tremaining: 678ms\n",
      "332:\tlearn: 0.1649633\ttotal: 338ms\tremaining: 677ms\n",
      "333:\tlearn: 0.1645271\ttotal: 339ms\tremaining: 676ms\n",
      "334:\tlearn: 0.1643707\ttotal: 340ms\tremaining: 674ms\n",
      "335:\tlearn: 0.1642003\ttotal: 340ms\tremaining: 673ms\n",
      "336:\tlearn: 0.1638759\ttotal: 341ms\tremaining: 672ms\n",
      "337:\tlearn: 0.1634264\ttotal: 342ms\tremaining: 670ms\n",
      "338:\tlearn: 0.1631665\ttotal: 343ms\tremaining: 669ms\n",
      "339:\tlearn: 0.1627422\ttotal: 344ms\tremaining: 667ms\n",
      "340:\tlearn: 0.1621263\ttotal: 344ms\tremaining: 666ms\n",
      "341:\tlearn: 0.1618919\ttotal: 345ms\tremaining: 664ms\n",
      "342:\tlearn: 0.1616639\ttotal: 346ms\tremaining: 663ms\n",
      "343:\tlearn: 0.1616101\ttotal: 347ms\tremaining: 661ms\n",
      "344:\tlearn: 0.1613654\ttotal: 348ms\tremaining: 660ms\n",
      "345:\tlearn: 0.1611360\ttotal: 348ms\tremaining: 659ms\n",
      "346:\tlearn: 0.1610854\ttotal: 349ms\tremaining: 657ms\n",
      "347:\tlearn: 0.1608201\ttotal: 350ms\tremaining: 656ms\n",
      "348:\tlearn: 0.1603879\ttotal: 351ms\tremaining: 654ms\n",
      "349:\tlearn: 0.1600234\ttotal: 352ms\tremaining: 653ms\n",
      "350:\tlearn: 0.1596581\ttotal: 352ms\tremaining: 652ms\n",
      "351:\tlearn: 0.1592173\ttotal: 353ms\tremaining: 650ms\n",
      "352:\tlearn: 0.1590270\ttotal: 354ms\tremaining: 649ms\n",
      "353:\tlearn: 0.1586461\ttotal: 355ms\tremaining: 648ms\n",
      "354:\tlearn: 0.1583784\ttotal: 356ms\tremaining: 646ms\n",
      "355:\tlearn: 0.1582693\ttotal: 357ms\tremaining: 645ms\n",
      "356:\tlearn: 0.1580642\ttotal: 357ms\tremaining: 644ms\n",
      "357:\tlearn: 0.1578499\ttotal: 358ms\tremaining: 642ms\n",
      "358:\tlearn: 0.1576303\ttotal: 359ms\tremaining: 641ms\n",
      "359:\tlearn: 0.1572620\ttotal: 360ms\tremaining: 640ms\n",
      "360:\tlearn: 0.1568530\ttotal: 361ms\tremaining: 638ms\n",
      "361:\tlearn: 0.1567631\ttotal: 362ms\tremaining: 637ms\n",
      "362:\tlearn: 0.1566854\ttotal: 362ms\tremaining: 636ms\n",
      "363:\tlearn: 0.1564194\ttotal: 363ms\tremaining: 635ms\n",
      "364:\tlearn: 0.1563378\ttotal: 364ms\tremaining: 633ms\n",
      "365:\tlearn: 0.1558346\ttotal: 365ms\tremaining: 632ms\n",
      "366:\tlearn: 0.1555438\ttotal: 365ms\tremaining: 630ms\n",
      "367:\tlearn: 0.1554557\ttotal: 366ms\tremaining: 629ms\n",
      "368:\tlearn: 0.1550200\ttotal: 367ms\tremaining: 628ms\n",
      "369:\tlearn: 0.1546791\ttotal: 368ms\tremaining: 627ms\n",
      "370:\tlearn: 0.1543432\ttotal: 369ms\tremaining: 625ms\n",
      "371:\tlearn: 0.1539322\ttotal: 370ms\tremaining: 624ms\n",
      "372:\tlearn: 0.1537502\ttotal: 370ms\tremaining: 622ms\n",
      "373:\tlearn: 0.1534475\ttotal: 371ms\tremaining: 621ms\n",
      "374:\tlearn: 0.1532475\ttotal: 372ms\tremaining: 620ms\n",
      "375:\tlearn: 0.1529596\ttotal: 373ms\tremaining: 618ms\n",
      "376:\tlearn: 0.1526849\ttotal: 373ms\tremaining: 617ms\n",
      "377:\tlearn: 0.1526410\ttotal: 374ms\tremaining: 616ms\n",
      "378:\tlearn: 0.1524271\ttotal: 375ms\tremaining: 615ms\n",
      "379:\tlearn: 0.1520182\ttotal: 376ms\tremaining: 613ms\n",
      "380:\tlearn: 0.1519760\ttotal: 377ms\tremaining: 612ms\n",
      "381:\tlearn: 0.1515984\ttotal: 377ms\tremaining: 611ms\n",
      "382:\tlearn: 0.1514759\ttotal: 378ms\tremaining: 609ms\n",
      "383:\tlearn: 0.1512685\ttotal: 379ms\tremaining: 608ms\n",
      "384:\tlearn: 0.1510529\ttotal: 380ms\tremaining: 606ms\n",
      "385:\tlearn: 0.1505933\ttotal: 380ms\tremaining: 605ms\n"
     ]
    },
    {
     "name": "stdout",
     "output_type": "stream",
     "text": [
      "386:\tlearn: 0.1502684\ttotal: 381ms\tremaining: 604ms\n",
      "387:\tlearn: 0.1499240\ttotal: 382ms\tremaining: 603ms\n",
      "388:\tlearn: 0.1497691\ttotal: 383ms\tremaining: 602ms\n",
      "389:\tlearn: 0.1493698\ttotal: 384ms\tremaining: 601ms\n",
      "390:\tlearn: 0.1489195\ttotal: 385ms\tremaining: 599ms\n",
      "391:\tlearn: 0.1487125\ttotal: 386ms\tremaining: 598ms\n",
      "392:\tlearn: 0.1486763\ttotal: 387ms\tremaining: 597ms\n",
      "393:\tlearn: 0.1484691\ttotal: 388ms\tremaining: 596ms\n",
      "394:\tlearn: 0.1484313\ttotal: 388ms\tremaining: 595ms\n",
      "395:\tlearn: 0.1482604\ttotal: 389ms\tremaining: 594ms\n",
      "396:\tlearn: 0.1481174\ttotal: 390ms\tremaining: 592ms\n",
      "397:\tlearn: 0.1478194\ttotal: 391ms\tremaining: 591ms\n",
      "398:\tlearn: 0.1473828\ttotal: 392ms\tremaining: 590ms\n",
      "399:\tlearn: 0.1469464\ttotal: 393ms\tremaining: 589ms\n",
      "400:\tlearn: 0.1467581\ttotal: 393ms\tremaining: 588ms\n",
      "401:\tlearn: 0.1465162\ttotal: 394ms\tremaining: 586ms\n",
      "402:\tlearn: 0.1463961\ttotal: 395ms\tremaining: 585ms\n",
      "403:\tlearn: 0.1460760\ttotal: 396ms\tremaining: 584ms\n",
      "404:\tlearn: 0.1457566\ttotal: 397ms\tremaining: 583ms\n",
      "405:\tlearn: 0.1454363\ttotal: 397ms\tremaining: 581ms\n",
      "406:\tlearn: 0.1453403\ttotal: 398ms\tremaining: 580ms\n",
      "407:\tlearn: 0.1450861\ttotal: 399ms\tremaining: 579ms\n",
      "408:\tlearn: 0.1447499\ttotal: 400ms\tremaining: 578ms\n",
      "409:\tlearn: 0.1443921\ttotal: 401ms\tremaining: 577ms\n",
      "410:\tlearn: 0.1440712\ttotal: 402ms\tremaining: 576ms\n",
      "411:\tlearn: 0.1439305\ttotal: 402ms\tremaining: 574ms\n",
      "412:\tlearn: 0.1435386\ttotal: 403ms\tremaining: 573ms\n",
      "413:\tlearn: 0.1432803\ttotal: 404ms\tremaining: 572ms\n",
      "414:\tlearn: 0.1431036\ttotal: 405ms\tremaining: 571ms\n",
      "415:\tlearn: 0.1428799\ttotal: 406ms\tremaining: 569ms\n",
      "416:\tlearn: 0.1424880\ttotal: 406ms\tremaining: 568ms\n",
      "417:\tlearn: 0.1421431\ttotal: 407ms\tremaining: 567ms\n",
      "418:\tlearn: 0.1420868\ttotal: 408ms\tremaining: 566ms\n",
      "419:\tlearn: 0.1419289\ttotal: 409ms\tremaining: 565ms\n",
      "420:\tlearn: 0.1417660\ttotal: 410ms\tremaining: 563ms\n",
      "421:\tlearn: 0.1416045\ttotal: 410ms\tremaining: 562ms\n",
      "422:\tlearn: 0.1415579\ttotal: 411ms\tremaining: 561ms\n",
      "423:\tlearn: 0.1415259\ttotal: 412ms\tremaining: 560ms\n",
      "424:\tlearn: 0.1411897\ttotal: 413ms\tremaining: 559ms\n",
      "425:\tlearn: 0.1409732\ttotal: 414ms\tremaining: 557ms\n",
      "426:\tlearn: 0.1407149\ttotal: 414ms\tremaining: 556ms\n",
      "427:\tlearn: 0.1404706\ttotal: 415ms\tremaining: 555ms\n",
      "428:\tlearn: 0.1403004\ttotal: 416ms\tremaining: 554ms\n",
      "429:\tlearn: 0.1402705\ttotal: 417ms\tremaining: 553ms\n",
      "430:\tlearn: 0.1402164\ttotal: 418ms\tremaining: 551ms\n",
      "431:\tlearn: 0.1399245\ttotal: 418ms\tremaining: 550ms\n",
      "432:\tlearn: 0.1396172\ttotal: 419ms\tremaining: 549ms\n",
      "433:\tlearn: 0.1393675\ttotal: 420ms\tremaining: 548ms\n",
      "434:\tlearn: 0.1390991\ttotal: 421ms\tremaining: 547ms\n",
      "435:\tlearn: 0.1388798\ttotal: 422ms\tremaining: 545ms\n",
      "436:\tlearn: 0.1387865\ttotal: 422ms\tremaining: 544ms\n",
      "437:\tlearn: 0.1384677\ttotal: 423ms\tremaining: 543ms\n",
      "438:\tlearn: 0.1382276\ttotal: 424ms\tremaining: 542ms\n",
      "439:\tlearn: 0.1381365\ttotal: 425ms\tremaining: 541ms\n",
      "440:\tlearn: 0.1381015\ttotal: 426ms\tremaining: 540ms\n",
      "441:\tlearn: 0.1380715\ttotal: 427ms\tremaining: 538ms\n",
      "442:\tlearn: 0.1380464\ttotal: 427ms\tremaining: 537ms\n",
      "443:\tlearn: 0.1379057\ttotal: 428ms\tremaining: 536ms\n",
      "444:\tlearn: 0.1377262\ttotal: 429ms\tremaining: 535ms\n",
      "445:\tlearn: 0.1373885\ttotal: 430ms\tremaining: 534ms\n",
      "446:\tlearn: 0.1373618\ttotal: 431ms\tremaining: 533ms\n",
      "447:\tlearn: 0.1371904\ttotal: 431ms\tremaining: 531ms\n",
      "448:\tlearn: 0.1371610\ttotal: 432ms\tremaining: 530ms\n",
      "449:\tlearn: 0.1367939\ttotal: 433ms\tremaining: 529ms\n",
      "450:\tlearn: 0.1365270\ttotal: 434ms\tremaining: 528ms\n",
      "451:\tlearn: 0.1363007\ttotal: 435ms\tremaining: 527ms\n",
      "452:\tlearn: 0.1362028\ttotal: 435ms\tremaining: 526ms\n",
      "453:\tlearn: 0.1359839\ttotal: 436ms\tremaining: 525ms\n",
      "454:\tlearn: 0.1359116\ttotal: 437ms\tremaining: 524ms\n",
      "455:\tlearn: 0.1358083\ttotal: 438ms\tremaining: 522ms\n",
      "456:\tlearn: 0.1356565\ttotal: 439ms\tremaining: 521ms\n",
      "457:\tlearn: 0.1353519\ttotal: 439ms\tremaining: 520ms\n",
      "458:\tlearn: 0.1350931\ttotal: 440ms\tremaining: 519ms\n",
      "459:\tlearn: 0.1348997\ttotal: 441ms\tremaining: 518ms\n",
      "460:\tlearn: 0.1345897\ttotal: 442ms\tremaining: 517ms\n",
      "461:\tlearn: 0.1343704\ttotal: 443ms\tremaining: 515ms\n",
      "462:\tlearn: 0.1340496\ttotal: 443ms\tremaining: 514ms\n",
      "463:\tlearn: 0.1339156\ttotal: 444ms\tremaining: 513ms\n",
      "464:\tlearn: 0.1337999\ttotal: 445ms\tremaining: 512ms\n",
      "465:\tlearn: 0.1337105\ttotal: 446ms\tremaining: 511ms\n",
      "466:\tlearn: 0.1334566\ttotal: 446ms\tremaining: 509ms\n",
      "467:\tlearn: 0.1332338\ttotal: 447ms\tremaining: 509ms\n",
      "468:\tlearn: 0.1330206\ttotal: 448ms\tremaining: 507ms\n",
      "469:\tlearn: 0.1329635\ttotal: 449ms\tremaining: 506ms\n",
      "470:\tlearn: 0.1327747\ttotal: 450ms\tremaining: 505ms\n",
      "471:\tlearn: 0.1327437\ttotal: 451ms\tremaining: 504ms\n",
      "472:\tlearn: 0.1324163\ttotal: 452ms\tremaining: 503ms\n",
      "473:\tlearn: 0.1321734\ttotal: 452ms\tremaining: 502ms\n",
      "474:\tlearn: 0.1320020\ttotal: 453ms\tremaining: 501ms\n",
      "475:\tlearn: 0.1318125\ttotal: 454ms\tremaining: 500ms\n",
      "476:\tlearn: 0.1315911\ttotal: 455ms\tremaining: 499ms\n",
      "477:\tlearn: 0.1315237\ttotal: 456ms\tremaining: 498ms\n",
      "478:\tlearn: 0.1311690\ttotal: 457ms\tremaining: 497ms\n",
      "479:\tlearn: 0.1308762\ttotal: 458ms\tremaining: 496ms\n",
      "480:\tlearn: 0.1305672\ttotal: 458ms\tremaining: 495ms\n",
      "481:\tlearn: 0.1303235\ttotal: 459ms\tremaining: 494ms\n",
      "482:\tlearn: 0.1301285\ttotal: 460ms\tremaining: 493ms\n",
      "483:\tlearn: 0.1301072\ttotal: 461ms\tremaining: 491ms\n",
      "484:\tlearn: 0.1300262\ttotal: 462ms\tremaining: 490ms\n",
      "485:\tlearn: 0.1300049\ttotal: 462ms\tremaining: 489ms\n",
      "486:\tlearn: 0.1297540\ttotal: 463ms\tremaining: 488ms\n",
      "487:\tlearn: 0.1295217\ttotal: 464ms\tremaining: 487ms\n",
      "488:\tlearn: 0.1291159\ttotal: 465ms\tremaining: 486ms\n",
      "489:\tlearn: 0.1287112\ttotal: 466ms\tremaining: 485ms\n",
      "490:\tlearn: 0.1285384\ttotal: 467ms\tremaining: 484ms\n",
      "491:\tlearn: 0.1283372\ttotal: 468ms\tremaining: 483ms\n",
      "492:\tlearn: 0.1282134\ttotal: 469ms\tremaining: 482ms\n",
      "493:\tlearn: 0.1281920\ttotal: 470ms\tremaining: 481ms\n",
      "494:\tlearn: 0.1279300\ttotal: 470ms\tremaining: 480ms\n",
      "495:\tlearn: 0.1277948\ttotal: 471ms\tremaining: 479ms\n",
      "496:\tlearn: 0.1276434\ttotal: 472ms\tremaining: 478ms\n",
      "497:\tlearn: 0.1272908\ttotal: 473ms\tremaining: 477ms\n",
      "498:\tlearn: 0.1272686\ttotal: 474ms\tremaining: 476ms\n",
      "499:\tlearn: 0.1270412\ttotal: 475ms\tremaining: 475ms\n",
      "500:\tlearn: 0.1267993\ttotal: 475ms\tremaining: 474ms\n",
      "501:\tlearn: 0.1266249\ttotal: 476ms\tremaining: 472ms\n",
      "502:\tlearn: 0.1266032\ttotal: 477ms\tremaining: 471ms\n",
      "503:\tlearn: 0.1265020\ttotal: 478ms\tremaining: 470ms\n",
      "504:\tlearn: 0.1262732\ttotal: 479ms\tremaining: 469ms\n",
      "505:\tlearn: 0.1260822\ttotal: 479ms\tremaining: 468ms\n",
      "506:\tlearn: 0.1259810\ttotal: 480ms\tremaining: 467ms\n",
      "507:\tlearn: 0.1257558\ttotal: 481ms\tremaining: 466ms\n",
      "508:\tlearn: 0.1253918\ttotal: 482ms\tremaining: 465ms\n",
      "509:\tlearn: 0.1251958\ttotal: 483ms\tremaining: 464ms\n",
      "510:\tlearn: 0.1250987\ttotal: 484ms\tremaining: 463ms\n",
      "511:\tlearn: 0.1249755\ttotal: 484ms\tremaining: 462ms\n",
      "512:\tlearn: 0.1247841\ttotal: 485ms\tremaining: 461ms\n",
      "513:\tlearn: 0.1246755\ttotal: 486ms\tremaining: 459ms\n",
      "514:\tlearn: 0.1246086\ttotal: 487ms\tremaining: 458ms\n",
      "515:\tlearn: 0.1245195\ttotal: 488ms\tremaining: 457ms\n",
      "516:\tlearn: 0.1243912\ttotal: 488ms\tremaining: 456ms\n"
     ]
    },
    {
     "name": "stdout",
     "output_type": "stream",
     "text": [
      "517:\tlearn: 0.1242610\ttotal: 489ms\tremaining: 455ms\n",
      "518:\tlearn: 0.1241242\ttotal: 490ms\tremaining: 454ms\n",
      "519:\tlearn: 0.1238670\ttotal: 491ms\tremaining: 453ms\n",
      "520:\tlearn: 0.1236634\ttotal: 492ms\tremaining: 452ms\n",
      "521:\tlearn: 0.1235674\ttotal: 493ms\tremaining: 451ms\n",
      "522:\tlearn: 0.1233509\ttotal: 493ms\tremaining: 450ms\n",
      "523:\tlearn: 0.1230737\ttotal: 494ms\tremaining: 449ms\n",
      "524:\tlearn: 0.1229494\ttotal: 495ms\tremaining: 448ms\n",
      "525:\tlearn: 0.1228513\ttotal: 496ms\tremaining: 447ms\n",
      "526:\tlearn: 0.1226157\ttotal: 497ms\tremaining: 446ms\n",
      "527:\tlearn: 0.1222981\ttotal: 497ms\tremaining: 445ms\n",
      "528:\tlearn: 0.1221615\ttotal: 498ms\tremaining: 444ms\n",
      "529:\tlearn: 0.1220851\ttotal: 499ms\tremaining: 442ms\n",
      "530:\tlearn: 0.1218584\ttotal: 500ms\tremaining: 441ms\n",
      "531:\tlearn: 0.1215566\ttotal: 501ms\tremaining: 440ms\n",
      "532:\tlearn: 0.1213303\ttotal: 501ms\tremaining: 439ms\n",
      "533:\tlearn: 0.1212179\ttotal: 502ms\tremaining: 438ms\n",
      "534:\tlearn: 0.1210169\ttotal: 503ms\tremaining: 437ms\n",
      "535:\tlearn: 0.1208579\ttotal: 504ms\tremaining: 436ms\n",
      "536:\tlearn: 0.1205518\ttotal: 505ms\tremaining: 435ms\n",
      "537:\tlearn: 0.1202032\ttotal: 505ms\tremaining: 434ms\n",
      "538:\tlearn: 0.1200607\ttotal: 506ms\tremaining: 433ms\n",
      "539:\tlearn: 0.1199267\ttotal: 507ms\tremaining: 432ms\n",
      "540:\tlearn: 0.1196449\ttotal: 508ms\tremaining: 431ms\n",
      "541:\tlearn: 0.1194769\ttotal: 509ms\tremaining: 430ms\n",
      "542:\tlearn: 0.1193028\ttotal: 510ms\tremaining: 429ms\n",
      "543:\tlearn: 0.1191637\ttotal: 510ms\tremaining: 428ms\n",
      "544:\tlearn: 0.1188731\ttotal: 511ms\tremaining: 427ms\n",
      "545:\tlearn: 0.1188475\ttotal: 512ms\tremaining: 426ms\n",
      "546:\tlearn: 0.1186249\ttotal: 513ms\tremaining: 425ms\n",
      "547:\tlearn: 0.1184013\ttotal: 513ms\tremaining: 424ms\n",
      "548:\tlearn: 0.1182232\ttotal: 514ms\tremaining: 422ms\n",
      "549:\tlearn: 0.1179425\ttotal: 515ms\tremaining: 421ms\n",
      "550:\tlearn: 0.1177143\ttotal: 516ms\tremaining: 420ms\n",
      "551:\tlearn: 0.1175311\ttotal: 517ms\tremaining: 419ms\n",
      "552:\tlearn: 0.1172016\ttotal: 517ms\tremaining: 418ms\n",
      "553:\tlearn: 0.1170047\ttotal: 518ms\tremaining: 417ms\n",
      "554:\tlearn: 0.1169242\ttotal: 519ms\tremaining: 416ms\n",
      "555:\tlearn: 0.1166444\ttotal: 520ms\tremaining: 415ms\n",
      "556:\tlearn: 0.1163800\ttotal: 521ms\tremaining: 414ms\n",
      "557:\tlearn: 0.1162989\ttotal: 522ms\tremaining: 413ms\n",
      "558:\tlearn: 0.1161596\ttotal: 522ms\tremaining: 412ms\n",
      "559:\tlearn: 0.1159393\ttotal: 523ms\tremaining: 411ms\n",
      "560:\tlearn: 0.1157484\ttotal: 524ms\tremaining: 410ms\n",
      "561:\tlearn: 0.1154563\ttotal: 525ms\tremaining: 409ms\n",
      "562:\tlearn: 0.1153510\ttotal: 526ms\tremaining: 408ms\n",
      "563:\tlearn: 0.1152555\ttotal: 527ms\tremaining: 407ms\n",
      "564:\tlearn: 0.1150463\ttotal: 527ms\tremaining: 406ms\n",
      "565:\tlearn: 0.1149297\ttotal: 528ms\tremaining: 405ms\n",
      "566:\tlearn: 0.1146665\ttotal: 529ms\tremaining: 404ms\n",
      "567:\tlearn: 0.1144417\ttotal: 530ms\tremaining: 403ms\n",
      "568:\tlearn: 0.1143613\ttotal: 531ms\tremaining: 402ms\n",
      "569:\tlearn: 0.1140659\ttotal: 532ms\tremaining: 401ms\n",
      "570:\tlearn: 0.1139383\ttotal: 533ms\tremaining: 400ms\n",
      "571:\tlearn: 0.1136937\ttotal: 533ms\tremaining: 399ms\n",
      "572:\tlearn: 0.1136089\ttotal: 534ms\tremaining: 398ms\n",
      "573:\tlearn: 0.1135044\ttotal: 535ms\tremaining: 397ms\n",
      "574:\tlearn: 0.1134596\ttotal: 536ms\tremaining: 396ms\n",
      "575:\tlearn: 0.1132847\ttotal: 536ms\tremaining: 395ms\n",
      "576:\tlearn: 0.1130630\ttotal: 537ms\tremaining: 394ms\n",
      "577:\tlearn: 0.1129659\ttotal: 538ms\tremaining: 393ms\n",
      "578:\tlearn: 0.1128496\ttotal: 539ms\tremaining: 392ms\n",
      "579:\tlearn: 0.1127832\ttotal: 540ms\tremaining: 391ms\n",
      "580:\tlearn: 0.1125217\ttotal: 541ms\tremaining: 390ms\n",
      "581:\tlearn: 0.1123447\ttotal: 542ms\tremaining: 389ms\n",
      "582:\tlearn: 0.1122379\ttotal: 542ms\tremaining: 388ms\n",
      "583:\tlearn: 0.1121048\ttotal: 543ms\tremaining: 387ms\n",
      "584:\tlearn: 0.1118246\ttotal: 544ms\tremaining: 386ms\n",
      "585:\tlearn: 0.1116175\ttotal: 545ms\tremaining: 385ms\n",
      "586:\tlearn: 0.1115560\ttotal: 546ms\tremaining: 384ms\n",
      "587:\tlearn: 0.1114561\ttotal: 547ms\tremaining: 383ms\n",
      "588:\tlearn: 0.1113401\ttotal: 547ms\tremaining: 382ms\n",
      "589:\tlearn: 0.1111211\ttotal: 548ms\tremaining: 381ms\n",
      "590:\tlearn: 0.1107980\ttotal: 549ms\tremaining: 380ms\n",
      "591:\tlearn: 0.1106464\ttotal: 550ms\tremaining: 379ms\n",
      "592:\tlearn: 0.1106312\ttotal: 551ms\tremaining: 378ms\n",
      "593:\tlearn: 0.1106155\ttotal: 552ms\tremaining: 377ms\n",
      "594:\tlearn: 0.1103300\ttotal: 552ms\tremaining: 376ms\n",
      "595:\tlearn: 0.1100652\ttotal: 553ms\tremaining: 375ms\n",
      "596:\tlearn: 0.1099892\ttotal: 554ms\tremaining: 374ms\n",
      "597:\tlearn: 0.1098834\ttotal: 555ms\tremaining: 373ms\n",
      "598:\tlearn: 0.1095589\ttotal: 556ms\tremaining: 372ms\n",
      "599:\tlearn: 0.1093275\ttotal: 557ms\tremaining: 371ms\n",
      "600:\tlearn: 0.1091454\ttotal: 558ms\tremaining: 370ms\n",
      "601:\tlearn: 0.1088830\ttotal: 558ms\tremaining: 369ms\n",
      "602:\tlearn: 0.1086334\ttotal: 559ms\tremaining: 368ms\n",
      "603:\tlearn: 0.1083586\ttotal: 560ms\tremaining: 367ms\n",
      "604:\tlearn: 0.1083438\ttotal: 561ms\tremaining: 366ms\n",
      "605:\tlearn: 0.1080612\ttotal: 562ms\tremaining: 365ms\n",
      "606:\tlearn: 0.1078404\ttotal: 562ms\tremaining: 364ms\n",
      "607:\tlearn: 0.1078211\ttotal: 563ms\tremaining: 363ms\n",
      "608:\tlearn: 0.1075691\ttotal: 564ms\tremaining: 362ms\n",
      "609:\tlearn: 0.1075540\ttotal: 565ms\tremaining: 361ms\n",
      "610:\tlearn: 0.1073560\ttotal: 565ms\tremaining: 360ms\n",
      "611:\tlearn: 0.1070859\ttotal: 566ms\tremaining: 359ms\n",
      "612:\tlearn: 0.1068935\ttotal: 567ms\tremaining: 358ms\n",
      "613:\tlearn: 0.1066478\ttotal: 568ms\tremaining: 357ms\n",
      "614:\tlearn: 0.1064144\ttotal: 569ms\tremaining: 356ms\n",
      "615:\tlearn: 0.1063597\ttotal: 569ms\tremaining: 355ms\n",
      "616:\tlearn: 0.1062385\ttotal: 570ms\tremaining: 354ms\n",
      "617:\tlearn: 0.1062253\ttotal: 571ms\tremaining: 353ms\n"
     ]
    },
    {
     "name": "stdout",
     "output_type": "stream",
     "text": [
      "618:\tlearn: 0.1061230\ttotal: 572ms\tremaining: 352ms\n",
      "619:\tlearn: 0.1059180\ttotal: 573ms\tremaining: 351ms\n",
      "620:\tlearn: 0.1056588\ttotal: 574ms\tremaining: 350ms\n",
      "621:\tlearn: 0.1054736\ttotal: 574ms\tremaining: 349ms\n",
      "622:\tlearn: 0.1054530\ttotal: 575ms\tremaining: 348ms\n",
      "623:\tlearn: 0.1053717\ttotal: 576ms\tremaining: 347ms\n",
      "624:\tlearn: 0.1051822\ttotal: 577ms\tremaining: 346ms\n",
      "625:\tlearn: 0.1050383\ttotal: 578ms\tremaining: 345ms\n",
      "626:\tlearn: 0.1047828\ttotal: 579ms\tremaining: 344ms\n",
      "627:\tlearn: 0.1046354\ttotal: 580ms\tremaining: 344ms\n",
      "628:\tlearn: 0.1044568\ttotal: 581ms\tremaining: 343ms\n",
      "629:\tlearn: 0.1042331\ttotal: 582ms\tremaining: 342ms\n",
      "630:\tlearn: 0.1041619\ttotal: 583ms\tremaining: 341ms\n",
      "631:\tlearn: 0.1039061\ttotal: 583ms\tremaining: 340ms\n",
      "632:\tlearn: 0.1036995\ttotal: 584ms\tremaining: 339ms\n",
      "633:\tlearn: 0.1035476\ttotal: 585ms\tremaining: 338ms\n",
      "634:\tlearn: 0.1033869\ttotal: 586ms\tremaining: 337ms\n",
      "635:\tlearn: 0.1031573\ttotal: 586ms\tremaining: 336ms\n",
      "636:\tlearn: 0.1030518\ttotal: 587ms\tremaining: 335ms\n",
      "637:\tlearn: 0.1027934\ttotal: 588ms\tremaining: 334ms\n",
      "638:\tlearn: 0.1025839\ttotal: 589ms\tremaining: 333ms\n",
      "639:\tlearn: 0.1023119\ttotal: 590ms\tremaining: 332ms\n",
      "640:\tlearn: 0.1022837\ttotal: 590ms\tremaining: 331ms\n",
      "641:\tlearn: 0.1022674\ttotal: 591ms\tremaining: 330ms\n",
      "642:\tlearn: 0.1021922\ttotal: 592ms\tremaining: 329ms\n",
      "643:\tlearn: 0.1019847\ttotal: 593ms\tremaining: 328ms\n",
      "644:\tlearn: 0.1017647\ttotal: 594ms\tremaining: 327ms\n",
      "645:\tlearn: 0.1016727\ttotal: 595ms\tremaining: 326ms\n",
      "646:\tlearn: 0.1015323\ttotal: 595ms\tremaining: 325ms\n",
      "647:\tlearn: 0.1014490\ttotal: 596ms\tremaining: 324ms\n",
      "648:\tlearn: 0.1013732\ttotal: 597ms\tremaining: 323ms\n",
      "649:\tlearn: 0.1011431\ttotal: 598ms\tremaining: 322ms\n",
      "650:\tlearn: 0.1011264\ttotal: 599ms\tremaining: 321ms\n",
      "651:\tlearn: 0.1010863\ttotal: 600ms\tremaining: 320ms\n",
      "652:\tlearn: 0.1009093\ttotal: 601ms\tremaining: 319ms\n",
      "653:\tlearn: 0.1008966\ttotal: 602ms\tremaining: 318ms\n",
      "654:\tlearn: 0.1007027\ttotal: 602ms\tremaining: 317ms\n",
      "655:\tlearn: 0.1004716\ttotal: 603ms\tremaining: 316ms\n",
      "656:\tlearn: 0.1002676\ttotal: 604ms\tremaining: 315ms\n",
      "657:\tlearn: 0.1001417\ttotal: 605ms\tremaining: 314ms\n",
      "658:\tlearn: 0.0999973\ttotal: 606ms\tremaining: 314ms\n",
      "659:\tlearn: 0.0999256\ttotal: 607ms\tremaining: 313ms\n",
      "660:\tlearn: 0.0998463\ttotal: 608ms\tremaining: 312ms\n",
      "661:\tlearn: 0.0998385\ttotal: 609ms\tremaining: 311ms\n",
      "662:\tlearn: 0.0996955\ttotal: 609ms\tremaining: 310ms\n",
      "663:\tlearn: 0.0995750\ttotal: 610ms\tremaining: 309ms\n",
      "664:\tlearn: 0.0993898\ttotal: 611ms\tremaining: 308ms\n",
      "665:\tlearn: 0.0991657\ttotal: 612ms\tremaining: 307ms\n",
      "666:\tlearn: 0.0989487\ttotal: 612ms\tremaining: 306ms\n",
      "667:\tlearn: 0.0987183\ttotal: 613ms\tremaining: 305ms\n",
      "668:\tlearn: 0.0985224\ttotal: 614ms\tremaining: 304ms\n",
      "669:\tlearn: 0.0983231\ttotal: 615ms\tremaining: 303ms\n",
      "670:\tlearn: 0.0982248\ttotal: 615ms\tremaining: 302ms\n",
      "671:\tlearn: 0.0980875\ttotal: 616ms\tremaining: 301ms\n",
      "672:\tlearn: 0.0979206\ttotal: 617ms\tremaining: 300ms\n",
      "673:\tlearn: 0.0978948\ttotal: 618ms\tremaining: 299ms\n",
      "674:\tlearn: 0.0976602\ttotal: 619ms\tremaining: 298ms\n",
      "675:\tlearn: 0.0974943\ttotal: 620ms\tremaining: 297ms\n",
      "676:\tlearn: 0.0973339\ttotal: 620ms\tremaining: 296ms\n",
      "677:\tlearn: 0.0972512\ttotal: 621ms\tremaining: 295ms\n",
      "678:\tlearn: 0.0970308\ttotal: 622ms\tremaining: 294ms\n",
      "679:\tlearn: 0.0968624\ttotal: 623ms\tremaining: 293ms\n",
      "680:\tlearn: 0.0968475\ttotal: 624ms\tremaining: 292ms\n",
      "681:\tlearn: 0.0965096\ttotal: 624ms\tremaining: 291ms\n",
      "682:\tlearn: 0.0965011\ttotal: 625ms\tremaining: 290ms\n",
      "683:\tlearn: 0.0964625\ttotal: 626ms\tremaining: 289ms\n",
      "684:\tlearn: 0.0961957\ttotal: 627ms\tremaining: 288ms\n",
      "685:\tlearn: 0.0960658\ttotal: 628ms\tremaining: 287ms\n",
      "686:\tlearn: 0.0960506\ttotal: 628ms\tremaining: 286ms\n",
      "687:\tlearn: 0.0959846\ttotal: 629ms\tremaining: 285ms\n",
      "688:\tlearn: 0.0957561\ttotal: 630ms\tremaining: 284ms\n",
      "689:\tlearn: 0.0955209\ttotal: 631ms\tremaining: 283ms\n",
      "690:\tlearn: 0.0954578\ttotal: 631ms\tremaining: 282ms\n",
      "691:\tlearn: 0.0953784\ttotal: 632ms\tremaining: 281ms\n",
      "692:\tlearn: 0.0951560\ttotal: 633ms\tremaining: 280ms\n",
      "693:\tlearn: 0.0948665\ttotal: 634ms\tremaining: 279ms\n",
      "694:\tlearn: 0.0947786\ttotal: 635ms\tremaining: 278ms\n",
      "695:\tlearn: 0.0946914\ttotal: 635ms\tremaining: 278ms\n",
      "696:\tlearn: 0.0944735\ttotal: 636ms\tremaining: 277ms\n",
      "697:\tlearn: 0.0944590\ttotal: 637ms\tremaining: 276ms\n",
      "698:\tlearn: 0.0942611\ttotal: 638ms\tremaining: 275ms\n",
      "699:\tlearn: 0.0940838\ttotal: 638ms\tremaining: 274ms\n",
      "700:\tlearn: 0.0939489\ttotal: 639ms\tremaining: 273ms\n",
      "701:\tlearn: 0.0938441\ttotal: 640ms\tremaining: 272ms\n",
      "702:\tlearn: 0.0938307\ttotal: 641ms\tremaining: 271ms\n",
      "703:\tlearn: 0.0937498\ttotal: 642ms\tremaining: 270ms\n",
      "704:\tlearn: 0.0936458\ttotal: 642ms\tremaining: 269ms\n",
      "705:\tlearn: 0.0934927\ttotal: 643ms\tremaining: 268ms\n",
      "706:\tlearn: 0.0933191\ttotal: 644ms\tremaining: 267ms\n",
      "707:\tlearn: 0.0933010\ttotal: 645ms\tremaining: 266ms\n",
      "708:\tlearn: 0.0931794\ttotal: 646ms\tremaining: 265ms\n",
      "709:\tlearn: 0.0930974\ttotal: 647ms\tremaining: 264ms\n",
      "710:\tlearn: 0.0930084\ttotal: 647ms\tremaining: 263ms\n",
      "711:\tlearn: 0.0927548\ttotal: 648ms\tremaining: 262ms\n",
      "712:\tlearn: 0.0926751\ttotal: 649ms\tremaining: 261ms\n",
      "713:\tlearn: 0.0926178\ttotal: 650ms\tremaining: 260ms\n",
      "714:\tlearn: 0.0925995\ttotal: 651ms\tremaining: 259ms\n",
      "715:\tlearn: 0.0924485\ttotal: 651ms\tremaining: 258ms\n",
      "716:\tlearn: 0.0923443\ttotal: 652ms\tremaining: 257ms\n",
      "717:\tlearn: 0.0922444\ttotal: 653ms\tremaining: 256ms\n",
      "718:\tlearn: 0.0921445\ttotal: 654ms\tremaining: 256ms\n",
      "719:\tlearn: 0.0920766\ttotal: 655ms\tremaining: 255ms\n",
      "720:\tlearn: 0.0920454\ttotal: 655ms\tremaining: 254ms\n",
      "721:\tlearn: 0.0918246\ttotal: 656ms\tremaining: 253ms\n",
      "722:\tlearn: 0.0916626\ttotal: 657ms\tremaining: 252ms\n",
      "723:\tlearn: 0.0915158\ttotal: 658ms\tremaining: 251ms\n",
      "724:\tlearn: 0.0914422\ttotal: 659ms\tremaining: 250ms\n",
      "725:\tlearn: 0.0912895\ttotal: 659ms\tremaining: 249ms\n",
      "726:\tlearn: 0.0911675\ttotal: 660ms\tremaining: 248ms\n",
      "727:\tlearn: 0.0910346\ttotal: 661ms\tremaining: 247ms\n",
      "728:\tlearn: 0.0909450\ttotal: 662ms\tremaining: 246ms\n",
      "729:\tlearn: 0.0908397\ttotal: 663ms\tremaining: 245ms\n",
      "730:\tlearn: 0.0906571\ttotal: 663ms\tremaining: 244ms\n",
      "731:\tlearn: 0.0904633\ttotal: 664ms\tremaining: 243ms\n",
      "732:\tlearn: 0.0902935\ttotal: 665ms\tremaining: 242ms\n",
      "733:\tlearn: 0.0901282\ttotal: 666ms\tremaining: 241ms\n",
      "734:\tlearn: 0.0900178\ttotal: 667ms\tremaining: 240ms\n",
      "735:\tlearn: 0.0899115\ttotal: 667ms\tremaining: 239ms\n",
      "736:\tlearn: 0.0897159\ttotal: 668ms\tremaining: 239ms\n",
      "737:\tlearn: 0.0897080\ttotal: 669ms\tremaining: 238ms\n",
      "738:\tlearn: 0.0896109\ttotal: 670ms\tremaining: 237ms\n",
      "739:\tlearn: 0.0895119\ttotal: 671ms\tremaining: 236ms\n",
      "740:\tlearn: 0.0893085\ttotal: 671ms\tremaining: 235ms\n",
      "741:\tlearn: 0.0891994\ttotal: 672ms\tremaining: 234ms\n",
      "742:\tlearn: 0.0890416\ttotal: 673ms\tremaining: 233ms\n",
      "743:\tlearn: 0.0889814\ttotal: 674ms\tremaining: 232ms\n",
      "744:\tlearn: 0.0888675\ttotal: 675ms\tremaining: 231ms\n",
      "745:\tlearn: 0.0887053\ttotal: 675ms\tremaining: 230ms\n",
      "746:\tlearn: 0.0885122\ttotal: 676ms\tremaining: 229ms\n",
      "747:\tlearn: 0.0883261\ttotal: 677ms\tremaining: 228ms\n",
      "748:\tlearn: 0.0882145\ttotal: 678ms\tremaining: 227ms\n",
      "749:\tlearn: 0.0880065\ttotal: 679ms\tremaining: 226ms\n"
     ]
    },
    {
     "name": "stdout",
     "output_type": "stream",
     "text": [
      "750:\tlearn: 0.0879486\ttotal: 680ms\tremaining: 225ms\n",
      "751:\tlearn: 0.0878726\ttotal: 681ms\tremaining: 225ms\n",
      "752:\tlearn: 0.0876928\ttotal: 681ms\tremaining: 224ms\n",
      "753:\tlearn: 0.0875694\ttotal: 682ms\tremaining: 223ms\n",
      "754:\tlearn: 0.0873997\ttotal: 683ms\tremaining: 222ms\n",
      "755:\tlearn: 0.0871744\ttotal: 684ms\tremaining: 221ms\n",
      "756:\tlearn: 0.0870005\ttotal: 685ms\tremaining: 220ms\n",
      "757:\tlearn: 0.0868419\ttotal: 686ms\tremaining: 219ms\n",
      "758:\tlearn: 0.0866763\ttotal: 687ms\tremaining: 218ms\n",
      "759:\tlearn: 0.0866625\ttotal: 687ms\tremaining: 217ms\n",
      "760:\tlearn: 0.0865683\ttotal: 688ms\tremaining: 216ms\n",
      "761:\tlearn: 0.0864384\ttotal: 689ms\tremaining: 215ms\n",
      "762:\tlearn: 0.0863014\ttotal: 690ms\tremaining: 214ms\n",
      "763:\tlearn: 0.0862062\ttotal: 691ms\tremaining: 213ms\n",
      "764:\tlearn: 0.0860531\ttotal: 691ms\tremaining: 212ms\n",
      "765:\tlearn: 0.0859448\ttotal: 692ms\tremaining: 211ms\n",
      "766:\tlearn: 0.0859291\ttotal: 693ms\tremaining: 211ms\n",
      "767:\tlearn: 0.0858289\ttotal: 694ms\tremaining: 210ms\n",
      "768:\tlearn: 0.0857789\ttotal: 695ms\tremaining: 209ms\n",
      "769:\tlearn: 0.0856908\ttotal: 696ms\tremaining: 208ms\n",
      "770:\tlearn: 0.0856283\ttotal: 696ms\tremaining: 207ms\n",
      "771:\tlearn: 0.0855635\ttotal: 697ms\tremaining: 206ms\n",
      "772:\tlearn: 0.0854971\ttotal: 698ms\tremaining: 205ms\n",
      "773:\tlearn: 0.0853422\ttotal: 699ms\tremaining: 204ms\n",
      "774:\tlearn: 0.0851423\ttotal: 700ms\tremaining: 203ms\n",
      "775:\tlearn: 0.0849746\ttotal: 700ms\tremaining: 202ms\n",
      "776:\tlearn: 0.0849067\ttotal: 702ms\tremaining: 201ms\n",
      "777:\tlearn: 0.0847294\ttotal: 703ms\tremaining: 200ms\n",
      "778:\tlearn: 0.0846303\ttotal: 703ms\tremaining: 200ms\n",
      "779:\tlearn: 0.0845276\ttotal: 704ms\tremaining: 199ms\n",
      "780:\tlearn: 0.0843443\ttotal: 705ms\tremaining: 198ms\n",
      "781:\tlearn: 0.0841511\ttotal: 706ms\tremaining: 197ms\n",
      "782:\tlearn: 0.0840028\ttotal: 707ms\tremaining: 196ms\n",
      "783:\tlearn: 0.0839443\ttotal: 707ms\tremaining: 195ms\n",
      "784:\tlearn: 0.0838627\ttotal: 708ms\tremaining: 194ms\n",
      "785:\tlearn: 0.0838534\ttotal: 709ms\tremaining: 193ms\n",
      "786:\tlearn: 0.0837776\ttotal: 710ms\tremaining: 192ms\n",
      "787:\tlearn: 0.0837699\ttotal: 711ms\tremaining: 191ms\n",
      "788:\tlearn: 0.0836478\ttotal: 712ms\tremaining: 190ms\n",
      "789:\tlearn: 0.0835697\ttotal: 713ms\tremaining: 190ms\n",
      "790:\tlearn: 0.0834016\ttotal: 714ms\tremaining: 189ms\n",
      "791:\tlearn: 0.0831948\ttotal: 715ms\tremaining: 188ms\n",
      "792:\tlearn: 0.0830540\ttotal: 715ms\tremaining: 187ms\n",
      "793:\tlearn: 0.0828658\ttotal: 716ms\tremaining: 186ms\n",
      "794:\tlearn: 0.0827410\ttotal: 717ms\tremaining: 185ms\n",
      "795:\tlearn: 0.0825907\ttotal: 718ms\tremaining: 184ms\n",
      "796:\tlearn: 0.0824672\ttotal: 719ms\tremaining: 183ms\n",
      "797:\tlearn: 0.0823855\ttotal: 720ms\tremaining: 182ms\n",
      "798:\tlearn: 0.0822432\ttotal: 720ms\tremaining: 181ms\n",
      "799:\tlearn: 0.0821419\ttotal: 721ms\tremaining: 180ms\n",
      "800:\tlearn: 0.0820505\ttotal: 722ms\tremaining: 179ms\n",
      "801:\tlearn: 0.0819443\ttotal: 723ms\tremaining: 178ms\n",
      "802:\tlearn: 0.0819379\ttotal: 724ms\tremaining: 178ms\n",
      "803:\tlearn: 0.0818159\ttotal: 725ms\tremaining: 177ms\n",
      "804:\tlearn: 0.0817542\ttotal: 726ms\tremaining: 176ms\n",
      "805:\tlearn: 0.0815291\ttotal: 726ms\tremaining: 175ms\n",
      "806:\tlearn: 0.0813836\ttotal: 727ms\tremaining: 174ms\n",
      "807:\tlearn: 0.0812381\ttotal: 728ms\tremaining: 173ms\n",
      "808:\tlearn: 0.0810586\ttotal: 729ms\tremaining: 172ms\n",
      "809:\tlearn: 0.0809047\ttotal: 730ms\tremaining: 171ms\n",
      "810:\tlearn: 0.0807716\ttotal: 730ms\tremaining: 170ms\n",
      "811:\tlearn: 0.0805846\ttotal: 731ms\tremaining: 169ms\n",
      "812:\tlearn: 0.0804686\ttotal: 732ms\tremaining: 168ms\n",
      "813:\tlearn: 0.0803391\ttotal: 733ms\tremaining: 167ms\n",
      "814:\tlearn: 0.0802029\ttotal: 734ms\tremaining: 167ms\n",
      "815:\tlearn: 0.0800029\ttotal: 734ms\tremaining: 166ms\n",
      "816:\tlearn: 0.0799365\ttotal: 735ms\tremaining: 165ms\n",
      "817:\tlearn: 0.0797666\ttotal: 736ms\tremaining: 164ms\n",
      "818:\tlearn: 0.0795961\ttotal: 737ms\tremaining: 163ms\n",
      "819:\tlearn: 0.0794465\ttotal: 738ms\tremaining: 162ms\n",
      "820:\tlearn: 0.0793574\ttotal: 739ms\tremaining: 161ms\n",
      "821:\tlearn: 0.0792266\ttotal: 739ms\tremaining: 160ms\n",
      "822:\tlearn: 0.0791448\ttotal: 740ms\tremaining: 159ms\n",
      "823:\tlearn: 0.0790900\ttotal: 741ms\tremaining: 158ms\n",
      "824:\tlearn: 0.0789412\ttotal: 742ms\tremaining: 157ms\n",
      "825:\tlearn: 0.0789294\ttotal: 743ms\tremaining: 156ms\n",
      "826:\tlearn: 0.0788359\ttotal: 744ms\tremaining: 156ms\n",
      "827:\tlearn: 0.0786754\ttotal: 744ms\tremaining: 155ms\n",
      "828:\tlearn: 0.0786168\ttotal: 745ms\tremaining: 154ms\n",
      "829:\tlearn: 0.0785375\ttotal: 746ms\tremaining: 153ms\n",
      "830:\tlearn: 0.0784830\ttotal: 747ms\tremaining: 152ms\n",
      "831:\tlearn: 0.0784169\ttotal: 748ms\tremaining: 151ms\n",
      "832:\tlearn: 0.0783326\ttotal: 749ms\tremaining: 150ms\n",
      "833:\tlearn: 0.0782271\ttotal: 749ms\tremaining: 149ms\n",
      "834:\tlearn: 0.0781388\ttotal: 750ms\tremaining: 148ms\n",
      "835:\tlearn: 0.0780813\ttotal: 751ms\tremaining: 147ms\n",
      "836:\tlearn: 0.0779186\ttotal: 752ms\tremaining: 146ms\n",
      "837:\tlearn: 0.0778172\ttotal: 752ms\tremaining: 145ms\n",
      "838:\tlearn: 0.0777183\ttotal: 753ms\tremaining: 145ms\n",
      "839:\tlearn: 0.0775833\ttotal: 754ms\tremaining: 144ms\n",
      "840:\tlearn: 0.0774868\ttotal: 755ms\tremaining: 143ms\n",
      "841:\tlearn: 0.0773116\ttotal: 756ms\tremaining: 142ms\n",
      "842:\tlearn: 0.0773028\ttotal: 756ms\tremaining: 141ms\n",
      "843:\tlearn: 0.0771383\ttotal: 757ms\tremaining: 140ms\n",
      "844:\tlearn: 0.0770572\ttotal: 758ms\tremaining: 139ms\n",
      "845:\tlearn: 0.0769225\ttotal: 759ms\tremaining: 138ms\n",
      "846:\tlearn: 0.0768848\ttotal: 759ms\tremaining: 137ms\n",
      "847:\tlearn: 0.0767797\ttotal: 760ms\tremaining: 136ms\n",
      "848:\tlearn: 0.0766703\ttotal: 761ms\tremaining: 135ms\n"
     ]
    },
    {
     "name": "stdout",
     "output_type": "stream",
     "text": [
      "849:\tlearn: 0.0765329\ttotal: 762ms\tremaining: 134ms\n",
      "850:\tlearn: 0.0764212\ttotal: 763ms\tremaining: 134ms\n",
      "851:\tlearn: 0.0763252\ttotal: 764ms\tremaining: 133ms\n",
      "852:\tlearn: 0.0762011\ttotal: 765ms\tremaining: 132ms\n",
      "853:\tlearn: 0.0761272\ttotal: 766ms\tremaining: 131ms\n",
      "854:\tlearn: 0.0759655\ttotal: 767ms\tremaining: 130ms\n",
      "855:\tlearn: 0.0759305\ttotal: 768ms\tremaining: 129ms\n",
      "856:\tlearn: 0.0758824\ttotal: 769ms\tremaining: 128ms\n",
      "857:\tlearn: 0.0757594\ttotal: 770ms\tremaining: 127ms\n",
      "858:\tlearn: 0.0755894\ttotal: 770ms\tremaining: 126ms\n",
      "859:\tlearn: 0.0755170\ttotal: 771ms\tremaining: 126ms\n",
      "860:\tlearn: 0.0754070\ttotal: 772ms\tremaining: 125ms\n",
      "861:\tlearn: 0.0753266\ttotal: 773ms\tremaining: 124ms\n",
      "862:\tlearn: 0.0752552\ttotal: 774ms\tremaining: 123ms\n",
      "863:\tlearn: 0.0752408\ttotal: 775ms\tremaining: 122ms\n",
      "864:\tlearn: 0.0751213\ttotal: 775ms\tremaining: 121ms\n",
      "865:\tlearn: 0.0750850\ttotal: 776ms\tremaining: 120ms\n",
      "866:\tlearn: 0.0749436\ttotal: 777ms\tremaining: 119ms\n",
      "867:\tlearn: 0.0747776\ttotal: 778ms\tremaining: 118ms\n",
      "868:\tlearn: 0.0747715\ttotal: 779ms\tremaining: 117ms\n",
      "869:\tlearn: 0.0747130\ttotal: 779ms\tremaining: 116ms\n",
      "870:\tlearn: 0.0745942\ttotal: 780ms\tremaining: 116ms\n",
      "871:\tlearn: 0.0745605\ttotal: 781ms\tremaining: 115ms\n",
      "872:\tlearn: 0.0744436\ttotal: 782ms\tremaining: 114ms\n",
      "873:\tlearn: 0.0743583\ttotal: 783ms\tremaining: 113ms\n",
      "874:\tlearn: 0.0742078\ttotal: 784ms\tremaining: 112ms\n",
      "875:\tlearn: 0.0741301\ttotal: 785ms\tremaining: 111ms\n",
      "876:\tlearn: 0.0740749\ttotal: 785ms\tremaining: 110ms\n",
      "877:\tlearn: 0.0739847\ttotal: 786ms\tremaining: 109ms\n",
      "878:\tlearn: 0.0738554\ttotal: 787ms\tremaining: 108ms\n",
      "879:\tlearn: 0.0737983\ttotal: 789ms\tremaining: 108ms\n",
      "880:\tlearn: 0.0736616\ttotal: 790ms\tremaining: 107ms\n",
      "881:\tlearn: 0.0736556\ttotal: 790ms\tremaining: 106ms\n",
      "882:\tlearn: 0.0735769\ttotal: 791ms\tremaining: 105ms\n",
      "883:\tlearn: 0.0735221\ttotal: 792ms\tremaining: 104ms\n",
      "884:\tlearn: 0.0734087\ttotal: 793ms\tremaining: 103ms\n",
      "885:\tlearn: 0.0732706\ttotal: 794ms\tremaining: 102ms\n",
      "886:\tlearn: 0.0731991\ttotal: 795ms\tremaining: 101ms\n",
      "887:\tlearn: 0.0731378\ttotal: 795ms\tremaining: 100ms\n",
      "888:\tlearn: 0.0730434\ttotal: 796ms\tremaining: 99.4ms\n",
      "889:\tlearn: 0.0728976\ttotal: 797ms\tremaining: 98.5ms\n",
      "890:\tlearn: 0.0728815\ttotal: 798ms\tremaining: 97.6ms\n",
      "891:\tlearn: 0.0727898\ttotal: 798ms\tremaining: 96.7ms\n",
      "892:\tlearn: 0.0726423\ttotal: 799ms\tremaining: 95.8ms\n",
      "893:\tlearn: 0.0725528\ttotal: 800ms\tremaining: 94.9ms\n",
      "894:\tlearn: 0.0724494\ttotal: 801ms\tremaining: 94ms\n",
      "895:\tlearn: 0.0723706\ttotal: 802ms\tremaining: 93.1ms\n",
      "896:\tlearn: 0.0722091\ttotal: 803ms\tremaining: 92.2ms\n",
      "897:\tlearn: 0.0721076\ttotal: 803ms\tremaining: 91.2ms\n",
      "898:\tlearn: 0.0720134\ttotal: 804ms\tremaining: 90.3ms\n",
      "899:\tlearn: 0.0719273\ttotal: 805ms\tremaining: 89.4ms\n",
      "900:\tlearn: 0.0719143\ttotal: 806ms\tremaining: 88.5ms\n",
      "901:\tlearn: 0.0719046\ttotal: 807ms\tremaining: 87.6ms\n",
      "902:\tlearn: 0.0718450\ttotal: 808ms\tremaining: 86.7ms\n",
      "903:\tlearn: 0.0718052\ttotal: 808ms\tremaining: 85.8ms\n",
      "904:\tlearn: 0.0717031\ttotal: 809ms\tremaining: 85ms\n",
      "905:\tlearn: 0.0716250\ttotal: 810ms\tremaining: 84.1ms\n",
      "906:\tlearn: 0.0715181\ttotal: 811ms\tremaining: 83.2ms\n",
      "907:\tlearn: 0.0715097\ttotal: 812ms\tremaining: 82.3ms\n",
      "908:\tlearn: 0.0714284\ttotal: 813ms\tremaining: 81.4ms\n",
      "909:\tlearn: 0.0712737\ttotal: 814ms\tremaining: 80.5ms\n",
      "910:\tlearn: 0.0711827\ttotal: 815ms\tremaining: 79.6ms\n",
      "911:\tlearn: 0.0710231\ttotal: 815ms\tremaining: 78.7ms\n",
      "912:\tlearn: 0.0709805\ttotal: 816ms\tremaining: 77.8ms\n",
      "913:\tlearn: 0.0709250\ttotal: 817ms\tremaining: 76.9ms\n",
      "914:\tlearn: 0.0707794\ttotal: 818ms\tremaining: 76ms\n",
      "915:\tlearn: 0.0707210\ttotal: 819ms\tremaining: 75.1ms\n",
      "916:\tlearn: 0.0706094\ttotal: 820ms\tremaining: 74.2ms\n",
      "917:\tlearn: 0.0705671\ttotal: 821ms\tremaining: 73.3ms\n",
      "918:\tlearn: 0.0704696\ttotal: 822ms\tremaining: 72.4ms\n",
      "919:\tlearn: 0.0704216\ttotal: 823ms\tremaining: 71.5ms\n",
      "920:\tlearn: 0.0704153\ttotal: 823ms\tremaining: 70.6ms\n",
      "921:\tlearn: 0.0703350\ttotal: 824ms\tremaining: 69.7ms\n",
      "922:\tlearn: 0.0702202\ttotal: 825ms\tremaining: 68.8ms\n",
      "923:\tlearn: 0.0701054\ttotal: 826ms\tremaining: 67.9ms\n",
      "924:\tlearn: 0.0699672\ttotal: 827ms\tremaining: 67ms\n",
      "925:\tlearn: 0.0698646\ttotal: 827ms\tremaining: 66.1ms\n",
      "926:\tlearn: 0.0697779\ttotal: 828ms\tremaining: 65.2ms\n",
      "927:\tlearn: 0.0697675\ttotal: 829ms\tremaining: 64.3ms\n",
      "928:\tlearn: 0.0696972\ttotal: 830ms\tremaining: 63.4ms\n",
      "929:\tlearn: 0.0696919\ttotal: 830ms\tremaining: 62.5ms\n",
      "930:\tlearn: 0.0696338\ttotal: 831ms\tremaining: 61.6ms\n",
      "931:\tlearn: 0.0695450\ttotal: 832ms\tremaining: 60.7ms\n",
      "932:\tlearn: 0.0694602\ttotal: 833ms\tremaining: 59.8ms\n",
      "933:\tlearn: 0.0694046\ttotal: 834ms\tremaining: 58.9ms\n",
      "934:\tlearn: 0.0692922\ttotal: 834ms\tremaining: 58ms\n",
      "935:\tlearn: 0.0691999\ttotal: 835ms\tremaining: 57.1ms\n",
      "936:\tlearn: 0.0691530\ttotal: 836ms\tremaining: 56.2ms\n",
      "937:\tlearn: 0.0690668\ttotal: 837ms\tremaining: 55.3ms\n",
      "938:\tlearn: 0.0689488\ttotal: 838ms\tremaining: 54.4ms\n",
      "939:\tlearn: 0.0689327\ttotal: 838ms\tremaining: 53.5ms\n",
      "940:\tlearn: 0.0687597\ttotal: 839ms\tremaining: 52.6ms\n",
      "941:\tlearn: 0.0686328\ttotal: 840ms\tremaining: 51.7ms\n",
      "942:\tlearn: 0.0686237\ttotal: 841ms\tremaining: 50.8ms\n",
      "943:\tlearn: 0.0684866\ttotal: 842ms\tremaining: 49.9ms\n",
      "944:\tlearn: 0.0683466\ttotal: 843ms\tremaining: 49.1ms\n",
      "945:\tlearn: 0.0682135\ttotal: 844ms\tremaining: 48.2ms\n",
      "946:\tlearn: 0.0681187\ttotal: 844ms\tremaining: 47.3ms\n",
      "947:\tlearn: 0.0680008\ttotal: 845ms\tremaining: 46.4ms\n",
      "948:\tlearn: 0.0679918\ttotal: 846ms\tremaining: 45.5ms\n",
      "949:\tlearn: 0.0678769\ttotal: 847ms\tremaining: 44.6ms\n",
      "950:\tlearn: 0.0677805\ttotal: 848ms\tremaining: 43.7ms\n",
      "951:\tlearn: 0.0676097\ttotal: 848ms\tremaining: 42.8ms\n",
      "952:\tlearn: 0.0675428\ttotal: 849ms\tremaining: 41.9ms\n",
      "953:\tlearn: 0.0674475\ttotal: 850ms\tremaining: 41ms\n",
      "954:\tlearn: 0.0673174\ttotal: 851ms\tremaining: 40.1ms\n",
      "955:\tlearn: 0.0672883\ttotal: 852ms\tremaining: 39.2ms\n",
      "956:\tlearn: 0.0671493\ttotal: 853ms\tremaining: 38.3ms\n",
      "957:\tlearn: 0.0671310\ttotal: 853ms\tremaining: 37.4ms\n",
      "958:\tlearn: 0.0670817\ttotal: 854ms\tremaining: 36.5ms\n",
      "959:\tlearn: 0.0670707\ttotal: 855ms\tremaining: 35.6ms\n",
      "960:\tlearn: 0.0669859\ttotal: 856ms\tremaining: 34.7ms\n",
      "961:\tlearn: 0.0669102\ttotal: 856ms\tremaining: 33.8ms\n",
      "962:\tlearn: 0.0667703\ttotal: 857ms\tremaining: 32.9ms\n",
      "963:\tlearn: 0.0666441\ttotal: 858ms\tremaining: 32ms\n",
      "964:\tlearn: 0.0665508\ttotal: 859ms\tremaining: 31.1ms\n",
      "965:\tlearn: 0.0664388\ttotal: 860ms\tremaining: 30.3ms\n",
      "966:\tlearn: 0.0663317\ttotal: 861ms\tremaining: 29.4ms\n",
      "967:\tlearn: 0.0662444\ttotal: 861ms\tremaining: 28.5ms\n",
      "968:\tlearn: 0.0662389\ttotal: 862ms\tremaining: 27.6ms\n",
      "969:\tlearn: 0.0661467\ttotal: 863ms\tremaining: 26.7ms\n",
      "970:\tlearn: 0.0660670\ttotal: 864ms\tremaining: 25.8ms\n",
      "971:\tlearn: 0.0660511\ttotal: 865ms\tremaining: 24.9ms\n",
      "972:\tlearn: 0.0658853\ttotal: 866ms\tremaining: 24ms\n",
      "973:\tlearn: 0.0658121\ttotal: 867ms\tremaining: 23.1ms\n",
      "974:\tlearn: 0.0658030\ttotal: 868ms\tremaining: 22.2ms\n",
      "975:\tlearn: 0.0657094\ttotal: 868ms\tremaining: 21.4ms\n",
      "976:\tlearn: 0.0656379\ttotal: 869ms\tremaining: 20.5ms\n"
     ]
    },
    {
     "name": "stdout",
     "output_type": "stream",
     "text": [
      "977:\tlearn: 0.0655530\ttotal: 870ms\tremaining: 19.6ms\n",
      "978:\tlearn: 0.0654311\ttotal: 871ms\tremaining: 18.7ms\n",
      "979:\tlearn: 0.0653234\ttotal: 872ms\tremaining: 17.8ms\n",
      "980:\tlearn: 0.0651939\ttotal: 873ms\tremaining: 16.9ms\n",
      "981:\tlearn: 0.0651135\ttotal: 873ms\tremaining: 16ms\n",
      "982:\tlearn: 0.0649956\ttotal: 874ms\tremaining: 15.1ms\n",
      "983:\tlearn: 0.0648942\ttotal: 875ms\tremaining: 14.2ms\n",
      "984:\tlearn: 0.0647763\ttotal: 876ms\tremaining: 13.3ms\n",
      "985:\tlearn: 0.0647688\ttotal: 877ms\tremaining: 12.4ms\n",
      "986:\tlearn: 0.0646848\ttotal: 877ms\tremaining: 11.6ms\n",
      "987:\tlearn: 0.0646771\ttotal: 878ms\tremaining: 10.7ms\n",
      "988:\tlearn: 0.0646175\ttotal: 879ms\tremaining: 9.78ms\n",
      "989:\tlearn: 0.0645297\ttotal: 880ms\tremaining: 8.89ms\n",
      "990:\tlearn: 0.0645221\ttotal: 881ms\tremaining: 8ms\n",
      "991:\tlearn: 0.0644548\ttotal: 881ms\tremaining: 7.11ms\n",
      "992:\tlearn: 0.0644111\ttotal: 882ms\tremaining: 6.22ms\n",
      "993:\tlearn: 0.0643745\ttotal: 883ms\tremaining: 5.33ms\n",
      "994:\tlearn: 0.0642487\ttotal: 884ms\tremaining: 4.44ms\n",
      "995:\tlearn: 0.0642400\ttotal: 885ms\tremaining: 3.55ms\n",
      "996:\tlearn: 0.0641486\ttotal: 885ms\tremaining: 2.66ms\n",
      "997:\tlearn: 0.0639978\ttotal: 886ms\tremaining: 1.78ms\n",
      "998:\tlearn: 0.0638464\ttotal: 887ms\tremaining: 887us\n",
      "999:\tlearn: 0.0637831\ttotal: 888ms\tremaining: 0us\n"
     ]
    },
    {
     "data": {
      "text/plain": [
       "<catboost.core.CatBoostRegressor at 0x7f8b7970a490>"
      ]
     },
     "execution_count": 9,
     "metadata": {},
     "output_type": "execute_result"
    }
   ],
   "source": [
    "#Train the Model \n",
    "prior_model = ctb.CatBoostRegressor()\n",
    "prior_model.fit(X_train,Y_train)"
   ]
  },
  {
   "cell_type": "code",
   "execution_count": 10,
   "id": "af65dcda",
   "metadata": {
    "execution": {
     "iopub.execute_input": "2022-06-12T06:09:04.995554Z",
     "iopub.status.busy": "2022-06-12T06:09:04.995178Z",
     "iopub.status.idle": "2022-06-12T06:09:05.002694Z",
     "shell.execute_reply": "2022-06-12T06:09:05.002929Z"
    },
    "id": "af65dcda",
    "papermill": {
     "duration": 0.020754,
     "end_time": "2022-06-12T06:09:05.003042",
     "exception": false,
     "start_time": "2022-06-12T06:09:04.982288",
     "status": "completed"
    },
    "tags": []
   },
   "outputs": [
    {
     "data": {
      "application/scrapbook.scrap.json+json": {
       "data": 0.12673344353510393,
       "encoder": "json",
       "name": "Prior Model MSE",
       "version": 1
      }
     },
     "metadata": {
      "scrapbook": {
       "data": true,
       "display": false,
       "name": "Prior Model MSE"
      }
     },
     "output_type": "display_data"
    },
    {
     "data": {
      "application/scrapbook.scrap.json+json": {
       "data": 1.2113277607392652,
       "encoder": "json",
       "name": "ABC Pre-generator MSE",
       "version": 1
      }
     },
     "metadata": {
      "scrapbook": {
       "data": true,
       "display": false,
       "name": "ABC Pre-generator MSE"
      }
     },
     "output_type": "display_data"
    },
    {
     "data": {
      "application/scrapbook.scrap.json+json": {
       "data": 0.2392910812643645,
       "encoder": "json",
       "name": "Prior Model MSE",
       "version": 1
      }
     },
     "metadata": {
      "scrapbook": {
       "data": true,
       "display": false,
       "name": "Prior Model MSE"
      }
     },
     "output_type": "display_data"
    },
    {
     "data": {
      "application/scrapbook.scrap.json+json": {
       "data": 1.0446557953581612,
       "encoder": "json",
       "name": "ABC Pre-generator MSE",
       "version": 1
      }
     },
     "metadata": {
      "scrapbook": {
       "data": true,
       "display": false,
       "name": "ABC Pre-generator MSE"
      }
     },
     "output_type": "display_data"
    }
   ],
   "source": [
    "y_pred = prior_model.predict(X_test)\n",
    "y_abc = y_pred + np.random.normal(0,variance, y_pred.shape) + bias \n",
    "mse = mean_squared_error(y_pred,Y_test)\n",
    "sb.glue(\"Prior Model MSE\",mse)\n",
    "mse = mean_squared_error(y_abc,Y_test)\n",
    "sb.glue(\"ABC Pre-generator MSE\",mse)\n",
    "mae = mean_absolute_error(y_pred,Y_test)\n",
    "sb.glue(\"Prior Model MSE\",mae)\n",
    "mae = mean_absolute_error(y_abc,Y_test)\n",
    "sb.glue(\"ABC Pre-generator MSE\",mae)"
   ]
  },
  {
   "cell_type": "markdown",
   "id": "25609da2",
   "metadata": {
    "papermill": {
     "duration": 0.009777,
     "end_time": "2022-06-12T06:09:05.022857",
     "exception": false,
     "start_time": "2022-06-12T06:09:05.013080",
     "status": "completed"
    },
    "tags": []
   },
   "source": [
    "# ABC GAN Model"
   ]
  },
  {
   "cell_type": "code",
   "execution_count": 11,
   "id": "dfc3464d",
   "metadata": {
    "execution": {
     "iopub.execute_input": "2022-06-12T06:09:05.045601Z",
     "iopub.status.busy": "2022-06-12T06:09:05.045223Z",
     "iopub.status.idle": "2022-06-12T06:09:05.047745Z",
     "shell.execute_reply": "2022-06-12T06:09:05.048025Z"
    },
    "papermill": {
     "duration": 0.015333,
     "end_time": "2022-06-12T06:09:05.048141",
     "exception": false,
     "start_time": "2022-06-12T06:09:05.032808",
     "status": "completed"
    },
    "tags": []
   },
   "outputs": [],
   "source": [
    "gen = network.Generator(n_features+1).to(device)\n",
    "disc = network.Discriminator(n_features+1).to(device)\n",
    "\n",
    "criterion = torch.nn.BCELoss()\n",
    "gen_opt = torch.optim.Adam(gen.parameters(), lr=0.001, betas=(0.5, 0.999))\n",
    "disc_opt = torch.optim.Adam(disc.parameters(), lr=0.001, betas=(0.5, 0.999))"
   ]
  },
  {
   "cell_type": "code",
   "execution_count": 12,
   "id": "b75fdd85",
   "metadata": {
    "execution": {
     "iopub.execute_input": "2022-06-12T06:09:05.070674Z",
     "iopub.status.busy": "2022-06-12T06:09:05.070259Z",
     "iopub.status.idle": "2022-06-12T06:10:04.723806Z",
     "shell.execute_reply": "2022-06-12T06:10:04.724109Z"
    },
    "papermill": {
     "duration": 59.666141,
     "end_time": "2022-06-12T06:10:04.724235",
     "exception": false,
     "start_time": "2022-06-12T06:09:05.058094",
     "status": "completed"
    },
    "tags": []
   },
   "outputs": [
    {
     "data": {
      "image/png": "[encoded data removed]",
      "text/plain": [
       "<Figure size 432x288 with 1 Axes>"
      ]
     },
     "metadata": {
      "needs_background": "light"
     },
     "output_type": "display_data"
    },
    {
     "data": {
      "image/png": "[encoded data removed]",
      "text/plain": [
       "<Figure size 432x288 with 1 Axes>"
      ]
     },
     "metadata": {
      "needs_background": "light"
     },
     "output_type": "display_data"
    }
   ],
   "source": [
    "#Training the ABC_GAN \n",
    "ABC_train_test2.training_GAN(disc,gen,disc_opt,gen_opt,train_data,batch_size,n_epochs,criterion,prior_model,variance,bias,device)"
   ]
  },
  {
   "cell_type": "code",
   "execution_count": 13,
   "id": "1fa7c368",
   "metadata": {
    "execution": {
     "iopub.execute_input": "2022-06-12T06:10:04.748542Z",
     "iopub.status.busy": "2022-06-12T06:10:04.748167Z",
     "iopub.status.idle": "2022-06-12T06:10:05.054048Z",
     "shell.execute_reply": "2022-06-12T06:10:05.054295Z"
    },
    "papermill": {
     "duration": 0.319353,
     "end_time": "2022-06-12T06:10:05.054423",
     "exception": false,
     "start_time": "2022-06-12T06:10:04.735070",
     "status": "completed"
    },
    "tags": []
   },
   "outputs": [
    {
     "data": {
      "application/scrapbook.scrap.json+json": {
       "data": 0.15213433409698549,
       "encoder": "json",
       "name": "ABC-GAN Model 1 MSE",
       "version": 1
      }
     },
     "metadata": {
      "scrapbook": {
       "data": true,
       "display": false,
       "name": "ABC-GAN Model 1 MSE"
      }
     },
     "output_type": "display_data"
    },
    {
     "data": {
      "application/scrapbook.scrap.json+json": {
       "data": 0.26059879741394054,
       "encoder": "json",
       "name": "ABC-GAN Model 1 MAE",
       "version": 1
      }
     },
     "metadata": {
      "scrapbook": {
       "data": true,
       "display": false,
       "name": "ABC-GAN Model 1 MAE"
      }
     },
     "output_type": "display_data"
    },
    {
     "data": {
      "application/scrapbook.scrap.json+json": {
       "data": 26.581077336221934,
       "encoder": "json",
       "name": "ABC-GAN Model 1 Manhattan Distance",
       "version": 1
      }
     },
     "metadata": {
      "scrapbook": {
       "data": true,
       "display": false,
       "name": "ABC-GAN Model 1 Manhattan Distance"
      }
     },
     "output_type": "display_data"
    },
    {
     "data": {
      "application/scrapbook.scrap.json+json": {
       "data": 3.9383277880430416,
       "encoder": "json",
       "name": "ABC-GAN Model 1 Euclidean distance",
       "version": 1
      }
     },
     "metadata": {
      "scrapbook": {
       "data": true,
       "display": false,
       "name": "ABC-GAN Model 1 Euclidean distance"
      }
     },
     "output_type": "display_data"
    },
    {
     "data": {
      "application/scrapbook.scrap.json+json": {
       "data": [
        [
         0.15104084443213575,
         0.1434051362680083,
         0.1534958105169961,
         0.14105574684501623,
         0.15434489351622468,
         0.1585872114602353,
         0.1535864036217552,
         0.1361756650160909,
         0.16156335556153975,
         0.15287075557634353,
         0.16161764539261803,
         0.14400465446224278,
         0.14822222043808334,
         0.1548058479160785,
         0.15034948850603422,
         0.15347173041406728,
         0.16069558507826706,
         0.15402088989487958,
         0.1596632366377905,
         0.15614464317305188,
         0.1607286967769304,
         0.1442884519569478,
         0.1494725091241248,
         0.1441554091391116,
         0.16792407397858278,
         0.15481931922909817,
         0.15226859888605404,
         0.14083809357191202,
         0.14821897369057152,
         0.15424648830639107,
         0.1581720738559581,
         0.15782495194661253,
         0.15482511583592662,
         0.1504921538404971,
         0.15396786774920515,
         0.14296224656316597,
         0.13828691168793716,
         0.14590131845943455,
         0.14285126995203293,
         0.1584500545062971,
         0.15774837453086488,
         0.14726530142179597,
         0.1479095805176295,
         0.15187820696950588,
         0.1632686663442516,
         0.1496451874875298,
         0.15884277323503646,
         0.15471929543407242,
         0.15998556507055295,
         0.159051858925123,
         0.14874019044837694,
         0.14869427434587437,
         0.14050956655795246,
         0.15265399314982425,
         0.1441084695603469,
         0.1552933251542945,
         0.14225039844700635,
         0.14719980348796596,
         0.1494751168194994,
         0.15714322117007534,
         0.1502870735143899,
         0.14940947005799352,
         0.15385425099069386,
         0.14732252054107003,
         0.14439243041970892,
         0.14105906153442388,
         0.15076514364677596,
         0.14601425646310032,
         0.15848675889645125,
         0.160637903495505,
         0.15688313982743565,
         0.1473683868429407,
         0.1535774125589697,
         0.15137880633247258,
         0.15596825393626734,
         0.1580793713614459,
         0.16070599590804163,
         0.15283911735029898,
         0.15055097773549117,
         0.14847610922300988,
         0.15159263859169608,
         0.14094580653045036,
         0.14167120522579094,
         0.15448489290494816,
         0.1543158394966607,
         0.14472503959429567,
         0.16404909798305065,
         0.1666683229617641,
         0.15123496588670204,
         0.15159873809494223,
         0.15930912656970433,
         0.15607698886674756,
         0.1483865668407626,
         0.15145357903771184,
         0.1664794031483077,
         0.1524154567566396,
         0.15469630394583292,
         0.15229490741195306,
         0.1514701693775164,
         0.1553084069747567
        ],
        [
         0.26360979873467894,
         0.2569936355393307,
         0.26159419805980194,
         0.2528515574248398,
         0.2731161369558643,
         0.262368429707838,
         0.2652277682049602,
         0.2488408430169026,
         0.26918985190636974,
         0.2567862929666744,
         0.26264480231147186,
         0.2548375474471672,
         0.2612724531368882,
         0.2687123021585684,
         0.2598534153737858,
         0.2620616107813868,
         0.26701750504035576,
         0.26584831022602673,
         0.26782494472960633,
         0.2612328896773796,
         0.2667143074978216,
         0.2529859847078721,
         0.2609415648906839,
         0.2576506047637439,
         0.2727299566727643,
         0.26589416968179685,
         0.2683333925464574,
         0.2537385004335174,
         0.26110133897586196,
         0.25964350362910943,
         0.2663314836282356,
         0.26444083861276213,
         0.26314090221535924,
         0.2613493493374656,
         0.2551762361225544,
         0.24639304880710208,
         0.2492061827843096,
         0.25904315918245735,
         0.25995008961534966,
         0.25641895721063895,
         0.2638133801154646,
         0.25857805741914347,
         0.25437543486409325,
         0.26447845111582796,
         0.27416903058103487,
         0.2601157441077864,
         0.2765552145520262,
         0.26679959842095186,
         0.2663766277552235,
         0.26613800669563753,
         0.2556512571652146,
         0.25172868699711914,
         0.25131409852674197,
         0.2652124349831366,
         0.2514013281347705,
         0.2630963630828203,
         0.2552306697722159,
         0.2573097095477815,
         0.2571069475482492,
         0.26282841463883716,
         0.2562570801260425,
         0.2643152153229012,
         0.26258095971071255,
         0.25524279120944293,
         0.2585842430080269,
         0.25060769824274615,
         0.26142813195930975,
         0.25858905882227656,
         0.26264374370814536,
         0.26326785232944816,
         0.25581112785228327,
         0.2580158357307607,
         0.2629751781841703,
         0.2597039818544598,
         0.2680771156561141,
         0.2650089874571445,
         0.26246426375034976,
         0.26215883742506596,
         0.2545965892427108,
         0.254489747442159,
         0.2610694579414877,
         0.24760511736659443,
         0.2531562328119488,
         0.2588768756272746,
         0.25698439875508056,
         0.25429023853411864,
         0.26308390863385855,
         0.27037252551492524,
         0.26035555766201485,
         0.26327914817660464,
         0.262160321478458,
         0.26391164684558616,
         0.2545711024865216,
         0.2592545931830126,
         0.2707065231732878,
         0.2567249837824527,
         0.25829049470085724,
         0.2649948180598371,
         0.2577291179594456,
         0.26029691892657797
        ],
        [
         26.888199470937252,
         26.21335082501173,
         26.6826082020998,
         25.79085885733366,
         27.857845969498158,
         26.76157983019948,
         27.053232356905937,
         25.381765987724066,
         27.45736489444971,
         26.192201882600784,
         26.78976983577013,
         25.993429839611053,
         26.649790219962597,
         27.40865482017398,
         26.505048368126154,
         26.730284299701452,
         27.235785514116287,
         27.116527643054724,
         27.318144362419844,
         26.645754747092724,
         27.204859364777803,
         25.80457044020295,
         26.616039618849754,
         26.28036168590188,
         27.818455580621958,
         27.121205307543278,
         27.370006039738655,
         25.88132704421878,
         26.63233657553792,
         26.483637370169163,
         27.165811330080032,
         26.97296553850174,
         26.840372025966644,
         26.657633632421494,
         26.02797608450055,
         25.132090978324413,
         25.419030643999577,
         26.42240223661065,
         26.514909140765667,
         26.154733635485172,
         26.90896477177739,
         26.374961856752634,
         25.946294356137514,
         26.97680201381445,
         27.965241119265556,
         26.531805898994207,
         28.20863188430667,
         27.213559038937092,
         27.1704160310328,
         27.146076682955027,
         26.07642823085189,
         25.67632607370615,
         25.63403804972768,
         27.051668368279934,
         25.64293546974659,
         26.83582903444767,
         26.033528316766024,
         26.24559037387371,
         26.224908649921417,
         26.808498293161392,
         26.13822217285633,
         26.960151962935925,
         26.783257890492678,
         26.03476470336318,
         26.375592786818743,
         25.561985220760107,
         26.665669459849596,
         26.376083999872208,
         26.78966185823083,
         26.853320937603712,
         26.092735040932894,
         26.317615244537592,
         26.823468174785376,
         26.4898061491549,
         27.343865796923637,
         27.03091672062874,
         26.771354902535677,
         26.74020141735673,
         25.9688521027565,
         25.957954239100218,
         26.629084710031748,
         25.25572197139263,
         25.82193574681878,
         26.40544131398201,
         26.212408673018217,
         25.9376043304801,
         26.834558680653572,
         27.577997602522373,
         26.556266881525517,
         26.854473114013672,
         26.740352790802717,
         26.91898797824979,
         25.966252453625202,
         26.443968504667282,
         27.612065363675356,
         26.185948345810175,
         26.345630459487438,
         27.029471442103386,
         26.28837003186345,
         26.55028573051095
        ],
        [
         3.925068933417329,
         3.824568459229989,
         3.956838722102988,
         3.7931103567114492,
         3.967767525782593,
         4.021926847786269,
         3.9580062113921746,
         3.726918007099335,
         4.059490395022145,
         3.948774122279855,
         4.060172389203079,
         3.832554599108637,
         3.8882729436967898,
         3.9736880208994774,
         3.916075564594673,
         3.956528339622359,
         4.048573783196156,
         3.963600732828386,
         4.035548306866692,
         3.990833697819453,
         4.048990870729014,
         3.836329248071478,
         3.9046377464062827,
         3.8345601745427573,
         4.13862967004967,
         3.973860913691873,
         3.9409893537508465,
         3.7901827850824064,
         3.8882303579441246,
         3.9665024653026366,
         4.0166592503357474,
         4.012249381401221,
         3.9739353058730735,
         3.9179330892360458,
         3.962918433480422,
         3.8186580299161283,
         3.755697670496068,
         3.857711041908443,
         3.8171755965775747,
         4.020187254300763,
         4.0112758820789445,
         3.875701322989581,
         3.8841700803129373,
         3.935934083656585,
         4.080858239036694,
         3.9068925149955227,
         4.025166191596779,
         3.972577014266103,
         4.0396197391829345,
         4.027814495525153,
         3.8950609014153357,
         3.8944596522854344,
         3.785759605272256,
         3.9459735555730817,
         3.833935823035563,
         3.979939593227269,
         3.8091390945454653,
         3.874839345801646,
         3.904671806386414,
         4.003574472811476,
         3.9152626346731547,
         3.9038142816885304,
         3.961455995092054,
         3.8764541910345263,
         3.837711284452012,
         3.7931549238742193,
         3.921485005960261,
         3.8592038245260167,
         4.020652858359949,
         4.047847101428302,
         4.000260024348221,
         3.877057577336188,
         3.95789035737663,
         3.929457754692396,
         3.98857893258981,
         4.0154820232280315,
         4.048704926593224,
         3.9483654807692883,
         3.918698729045153,
         3.8916016163974194,
         3.932232080683057,
         3.791631873759099,
         3.8013764524222906,
         3.969566610639594,
         3.9673940601683864,
         3.842128842011699,
         4.090599955296431,
         4.123126112805663,
         3.9275904216763244,
         3.932311188815569,
         4.031070690289348,
         3.989969030507411,
         3.890427973598507,
         3.930428101599952,
         4.120788652809967,
         3.942889370649047,
         3.9722818382480063,
         3.941329795388761,
         3.9306433667412097,
         3.9801328509768603
        ]
       ],
       "encoder": "json",
       "name": "ABC_GAN_1 Metrics",
       "version": 1
      }
     },
     "metadata": {
      "scrapbook": {
       "data": true,
       "display": false,
       "name": "ABC_GAN_1 Metrics"
      }
     },
     "output_type": "display_data"
    },
    {
     "name": "stdout",
     "output_type": "stream",
     "text": [
      "MSE\n",
      "0.15213433409698549\n"
     ]
    }
   ],
   "source": [
    "ABC_GAN1_metrics=ABC_train_test2.test_generator(gen,test_data,prior_model,variance,bias,\"1\",device)\n",
    "sb.glue(\"ABC_GAN_1 Metrics\",ABC_GAN1_metrics)\n",
    "\n",
    "print(\"MSE\")\n",
    "print(mean(ABC_GAN1_metrics[0]))"
   ]
  },
  {
   "cell_type": "code",
   "execution_count": 14,
   "id": "eb22ce5c",
   "metadata": {
    "execution": {
     "iopub.execute_input": "2022-06-12T06:10:05.082128Z",
     "iopub.status.busy": "2022-06-12T06:10:05.081744Z",
     "iopub.status.idle": "2022-06-12T06:10:05.424287Z",
     "shell.execute_reply": "2022-06-12T06:10:05.424589Z"
    },
    "papermill": {
     "duration": 0.357424,
     "end_time": "2022-06-12T06:10:05.424711",
     "exception": false,
     "start_time": "2022-06-12T06:10:05.067287",
     "status": "completed"
    },
    "tags": []
   },
   "outputs": [
    {
     "data": {
      "image/png": "[encoded data removed]",
      "text/plain": [
       "<Figure size 432x288 with 1 Axes>"
      ]
     },
     "metadata": {
      "needs_background": "light"
     },
     "output_type": "display_data"
    },
    {
     "data": {
      "image/png": "[encoded data removed]",
      "text/plain": [
       "<Figure size 432x288 with 1 Axes>"
      ]
     },
     "metadata": {
      "needs_background": "light"
     },
     "output_type": "display_data"
    },
    {
     "data": {
      "image/png": "[encoded data removed]",
      "text/plain": [
       "<Figure size 432x288 with 1 Axes>"
      ]
     },
     "metadata": {
      "needs_background": "light"
     },
     "output_type": "display_data"
    },
    {
     "data": {
      "image/png": "[encoded data removed]",
      "text/plain": [
       "<Figure size 432x288 with 1 Axes>"
      ]
     },
     "metadata": {
      "needs_background": "light"
     },
     "output_type": "display_data"
    }
   ],
   "source": [
    "sanityChecks.discProbVsError(train_data,disc,device)\n",
    "sanityChecks.discProbVsError(test_data,disc,device)"
   ]
  },
  {
   "cell_type": "markdown",
   "id": "130f3a4d",
   "metadata": {
    "id": "130f3a4d",
    "papermill": {
     "duration": 0.014488,
     "end_time": "2022-06-12T06:10:05.454216",
     "exception": false,
     "start_time": "2022-06-12T06:10:05.439728",
     "status": "completed"
    },
    "tags": []
   },
   "source": [
    "# ABC - GAN Model with skip connection"
   ]
  },
  {
   "cell_type": "code",
   "execution_count": 15,
   "id": "4e43dad1",
   "metadata": {
    "execution": {
     "iopub.execute_input": "2022-06-12T06:10:05.486916Z",
     "iopub.status.busy": "2022-06-12T06:10:05.486535Z",
     "iopub.status.idle": "2022-06-12T06:10:05.488615Z",
     "shell.execute_reply": "2022-06-12T06:10:05.488850Z"
    },
    "id": "4e43dad1",
    "papermill": {
     "duration": 0.020083,
     "end_time": "2022-06-12T06:10:05.488960",
     "exception": false,
     "start_time": "2022-06-12T06:10:05.468877",
     "status": "completed"
    },
    "tags": []
   },
   "outputs": [],
   "source": [
    "#Generator\n",
    "gen3 = network.GeneratorWithSkipConnection(n_features+1).to(device)\n",
    "constraints=network.weightConstraint()\n",
    "#Discriminator \n",
    "disc3 = network.Discriminator(n_features+1).to(device)\n",
    "\n",
    "criterion = torch.nn.BCELoss()\n",
    "gen_opt = torch.optim.Adam(gen3.parameters(), lr=0.001, betas=(0.5, 0.999))\n",
    "disc_opt = torch.optim.Adam(disc3.parameters(), lr=0.001, betas=(0.5, 0.999))\n"
   ]
  },
  {
   "cell_type": "code",
   "execution_count": 16,
   "id": "26acbc37",
   "metadata": {
    "execution": {
     "iopub.execute_input": "2022-06-12T06:10:05.521084Z",
     "iopub.status.busy": "2022-06-12T06:10:05.520699Z",
     "iopub.status.idle": "2022-06-12T06:13:02.385409Z",
     "shell.execute_reply": "2022-06-12T06:13:02.385811Z"
    },
    "id": "26acbc37",
    "papermill": {
     "duration": 176.882079,
     "end_time": "2022-06-12T06:13:02.386045",
     "exception": false,
     "start_time": "2022-06-12T06:10:05.503966",
     "status": "completed"
    },
    "tags": []
   },
   "outputs": [
    {
     "data": {
      "image/png": "[encoded data removed]",
      "text/plain": [
       "<Figure size 432x288 with 1 Axes>"
      ]
     },
     "metadata": {
      "needs_background": "light"
     },
     "output_type": "display_data"
    },
    {
     "data": {
      "image/png": "[encoded data removed]",
      "text/plain": [
       "<Figure size 432x288 with 1 Axes>"
      ]
     },
     "metadata": {
      "needs_background": "light"
     },
     "output_type": "display_data"
    }
   ],
   "source": [
    "ABC_train_test2.training_GAN_skip_connection(disc3,gen3,disc_opt,gen_opt,train_data,batch_size,n_epochs,criterion,prior_model,variance,bias,device)"
   ]
  },
  {
   "cell_type": "code",
   "execution_count": 17,
   "id": "c5e0717b",
   "metadata": {
    "execution": {
     "iopub.execute_input": "2022-06-12T06:13:02.420799Z",
     "iopub.status.busy": "2022-06-12T06:13:02.420420Z",
     "iopub.status.idle": "2022-06-12T06:13:03.234087Z",
     "shell.execute_reply": "2022-06-12T06:13:03.234429Z"
    },
    "id": "c5e0717b",
    "papermill": {
     "duration": 0.832568,
     "end_time": "2022-06-12T06:13:03.234557",
     "exception": false,
     "start_time": "2022-06-12T06:13:02.401989",
     "status": "completed"
    },
    "tags": []
   },
   "outputs": [
    {
     "data": {
      "application/scrapbook.scrap.json+json": {
       "data": 0.13581547664874313,
       "encoder": "json",
       "name": "ABC-GAN Model 3 MSE",
       "version": 1
      }
     },
     "metadata": {
      "scrapbook": {
       "data": true,
       "display": false,
       "name": "ABC-GAN Model 3 MSE"
      }
     },
     "output_type": "display_data"
    },
    {
     "data": {
      "application/scrapbook.scrap.json+json": {
       "data": 0.2543011201121936,
       "encoder": "json",
       "name": "ABC-GAN Model 3 MAE",
       "version": 1
      }
     },
     "metadata": {
      "scrapbook": {
       "data": true,
       "display": false,
       "name": "ABC-GAN Model 3 MAE"
      }
     },
     "output_type": "display_data"
    },
    {
     "data": {
      "application/scrapbook.scrap.json+json": {
       "data": 25.938714251443745,
       "encoder": "json",
       "name": "ABC-GAN Model 3 Manhattan Distance",
       "version": 1
      }
     },
     "metadata": {
      "scrapbook": {
       "data": true,
       "display": false,
       "name": "ABC-GAN Model 3 Manhattan Distance"
      }
     },
     "output_type": "display_data"
    },
    {
     "data": {
      "application/scrapbook.scrap.json+json": {
       "data": 3.721189851905468,
       "encoder": "json",
       "name": "ABC-GAN Model 3 Euclidean distance",
       "version": 1
      }
     },
     "metadata": {
      "scrapbook": {
       "data": true,
       "display": false,
       "name": "ABC-GAN Model 3 Euclidean distance"
      }
     },
     "output_type": "display_data"
    },
    {
     "data": {
      "application/scrapbook.scrap.json+json": {
       "data": [
        [
         0.14372065515131532,
         0.12898759677014637,
         0.12665935882515186,
         0.12462403169791582,
         0.12886201749642828,
         0.13746156713661767,
         0.13507966052222692,
         0.1415412677107494,
         0.12912982689131772,
         0.14337225687127086,
         0.1379566307326944,
         0.12884798800782524,
         0.13158652759627698,
         0.1358145994730125,
         0.13082807152451784,
         0.1310970065305672,
         0.13210635081537106,
         0.13463174786777926,
         0.13498705266192607,
         0.13993132814379486,
         0.13498255415573981,
         0.1416933796659193,
         0.13296522953408707,
         0.14097176329622446,
         0.15151007837014524,
         0.13507493509455223,
         0.13974686889305024,
         0.1432515945742561,
         0.12884129350346277,
         0.14037312198257434,
         0.13828676310941965,
         0.13421281238054047,
         0.14476400584251328,
         0.13447343019968963,
         0.13818677245385907,
         0.13203724014208942,
         0.13862464009871514,
         0.13653482682777612,
         0.13300289169164625,
         0.12347640827199549,
         0.13459426222410542,
         0.1314638798425623,
         0.13271691970372815,
         0.1366053300685284,
         0.13973766419474895,
         0.1437717775736137,
         0.1312747964969639,
         0.1416029957717492,
         0.13172847002941737,
         0.13023114189275448,
         0.12725175267356548,
         0.14415624742521907,
         0.14363107020393664,
         0.13666552949246633,
         0.1304945452702732,
         0.14412823935211988,
         0.13762343394981527,
         0.13604735267712267,
         0.1289138233015308,
         0.1347477741679057,
         0.1405333465578649,
         0.13826749436616695,
         0.12693062220136717,
         0.13912157952017515,
         0.14386453759885826,
         0.13633376275139497,
         0.13431246066299965,
         0.1301353686951953,
         0.14161100446115057,
         0.14028597078298605,
         0.1273703909928436,
         0.14162282104491536,
         0.1404096054281086,
         0.13842941443631282,
         0.13807869579385348,
         0.13119111630552224,
         0.12902955318170894,
         0.12464970111680682,
         0.13375282273970085,
         0.12816524159476558,
         0.13274767448728872,
         0.13575959783717867,
         0.1307689295189565,
         0.1408837252034685,
         0.14016415294425882,
         0.1267575735554265,
         0.13711737217286507,
         0.13417385085191075,
         0.13458356197578447,
         0.14040927501974146,
         0.13521221451123566,
         0.13731816475892217,
         0.1339923271876589,
         0.14217592511713467,
         0.13975312064079415,
         0.14543969927566092,
         0.14948368386610658,
         0.13336247759366499,
         0.13446595436747621,
         0.1352597149287928
        ],
        [
         0.25498956124133926,
         0.24552361495500685,
         0.25296267490907043,
         0.2478325437462213,
         0.25018536142420533,
         0.2581042051680532,
         0.2522586035158704,
         0.25707693021817535,
         0.2439601874599854,
         0.25898842926264976,
         0.25989836048992243,
         0.24465905542613245,
         0.2519385256968877,
         0.25507877624648456,
         0.2423782480478871,
         0.25321213992349073,
         0.25921637028017463,
         0.25787419873271505,
         0.2477432761487423,
         0.2583696827949846,
         0.25623845531806055,
         0.2615230142266727,
         0.25329399433936556,
         0.2550586979544046,
         0.2752824461124107,
         0.24854234565852903,
         0.26169233319952206,
         0.26208026477080937,
         0.24568929979760273,
         0.2520962951010933,
         0.25583101111445944,
         0.2554797533461276,
         0.2667179759591818,
         0.25644910981988206,
         0.2563979421541387,
         0.25197189787001,
         0.25393824253742603,
         0.247799985293372,
         0.24951856192566602,
         0.24437083278362656,
         0.255871627589359,
         0.24936806779427856,
         0.2612269734415938,
         0.2578978407397574,
         0.2577830711197035,
         0.25556774178118097,
         0.24881458344558874,
         0.2514707732799591,
         0.24938969960545793,
         0.24824643693864346,
         0.2517410978747934,
         0.2513934835864633,
         0.265555374506934,
         0.2508056476785272,
         0.25862851596492176,
         0.26264323882174256,
         0.26010184957846705,
         0.2617435785850473,
         0.24967673716737943,
         0.25393596265976337,
         0.25874568817808347,
         0.2607641518481222,
         0.25093145905902575,
         0.2485547822845333,
         0.2639958408898583,
         0.2587539904623055,
         0.249645876059053,
         0.2419718113526994,
         0.26038590310981463,
         0.25946547795890595,
         0.2489344448800765,
         0.26381697436319845,
         0.25851642753125403,
         0.2547562140240973,
         0.25388129417072325,
         0.24870686718792306,
         0.2462846017716562,
         0.2445276531883899,
         0.24894975655365223,
         0.24882910915595643,
         0.24890837602901691,
         0.2474222580957062,
         0.24984901358245634,
         0.2625023480504751,
         0.2605206978452556,
         0.2469648523438795,
         0.254539046253936,
         0.2513683786360072,
         0.25913710691326974,
         0.259295170542364,
         0.25492205401407736,
         0.25463768996882674,
         0.2565153302880479,
         0.25446696875288205,
         0.2562742432323741,
         0.24712787258128324,
         0.2696069602069317,
         0.25480317050481543,
         0.25387019010297224,
         0.2528764521155287
        ],
        [
         26.008935246616602,
         25.0434087254107,
         25.802192840725183,
         25.278919462114573,
         25.518906865268946,
         26.326628927141428,
         25.730377558618784,
         26.221846882253885,
         24.883939120918512,
         26.416819784790277,
         26.509632769972086,
         24.95522365346551,
         25.697729621082544,
         26.018035177141428,
         24.722581300884485,
         25.827638272196054,
         26.440069768577814,
         26.303168270736933,
         25.269814167171717,
         26.353707645088434,
         26.13632244244218,
         26.675347451120615,
         25.83598742261529,
         26.015987191349268,
         28.07880950346589,
         25.351319257169962,
         26.69261798635125,
         26.732187006622553,
         25.06030857935548,
         25.713822100311518,
         26.09476313367486,
         26.058934841305017,
         27.205233547836542,
         26.15780920162797,
         26.152590099722147,
         25.701133582741022,
         25.901700738817453,
         25.275598499923944,
         25.450893316417933,
         24.92582494392991,
         26.09890601411462,
         25.435542915016413,
         26.645151291042566,
         26.305579755455256,
         26.293873254209757,
         26.06790966168046,
         25.379087511450052,
         25.650018874555826,
         25.437749359756708,
         25.321136567741632,
         25.677591983228922,
         25.642135325819254,
         27.08664819970727,
         25.582176063209772,
         26.380108628422022,
         26.789610359817743,
         26.53038865700364,
         26.69784501567483,
         25.467027191072702,
         25.901468191295862,
         26.392060194164515,
         26.597943488508463,
         25.595008824020624,
         25.352587793022394,
         26.927575770765543,
         26.39290702715516,
         25.463879358023405,
         24.68112475797534,
         26.55936211720109,
         26.465478751808405,
         25.3913133777678,
         26.909331385046244,
         26.368675608187914,
         25.985133830457926,
         25.89589200541377,
         25.368100453168154,
         25.121029380708933,
         24.94182062521577,
         25.39287516847253,
         25.380569133907557,
         25.388654354959726,
         25.237070325762033,
         25.484599385410547,
         26.775239501148462,
         26.573111180216074,
         25.19041493907571,
         25.96298271790147,
         25.639574620872736,
         26.431984905153513,
         26.44810739532113,
         26.002049509435892,
         25.973044376820326,
         26.164563689380884,
         25.95563081279397,
         26.139972809702158,
         25.20704300329089,
         27.499909941107035,
         25.989923391491175,
         25.894759390503168,
         25.79339811578393
        ],
        [
         3.8287735406307544,
         3.627221370492147,
         3.594336461736086,
         3.565340268920684,
         3.625455252052586,
         3.74447324038175,
         3.711889730752672,
         3.7996327857434373,
         3.629220624722945,
         3.8241299926741017,
         3.7512099827568743,
         3.625257891074533,
         3.663581009725355,
         3.7219738239605165,
         3.653007431624088,
         3.656760132428411,
         3.6708102352434198,
         3.705730465443147,
         3.7106171146477043,
         3.7779618143473974,
         3.710555285113733,
         3.8016739373496735,
         3.682723640524344,
         3.791980993651589,
         3.9311611508248823,
         3.711824804546185,
         3.7754709146133174,
         3.822520457312703,
         3.625163711800228,
         3.78392104069609,
         3.75569565289319,
         3.699960386654852,
         3.842646040937983,
         3.703550982552872,
         3.7543375967397528,
         3.669849928061516,
         3.760281012114512,
         3.731829623178577,
         3.6832451659573135,
         3.548886253987798,
         3.7052145345254637,
         3.6618732561274365,
         3.679283328282869,
         3.732793011538397,
         3.775346573212106,
         3.82945444058401,
         3.6592388884425566,
         3.8004612310505705,
         3.6655564302027286,
         3.6446641097721137,
         3.602732126137562,
         3.834571323808222,
         3.827580065890397,
         3.733615407112999,
         3.6483480669431563,
         3.8341987968695923,
         3.7466772296104125,
         3.7251617378399176,
         3.626183941384681,
         3.707326929895228,
         3.7860799448641096,
         3.75543398628561,
         3.598183356158973,
         3.767014880652566,
         3.8306896030719506,
         3.72908082516889,
         3.7013336768826943,
         3.6433237032838464,
         3.8005687015284115,
         3.7827462272619576,
         3.6044111698403727,
         3.8007272654824056,
         3.7844127356390542,
         3.7576322694622353,
         3.752869165181895,
         3.6580724245377194,
         3.627811244336495,
         3.5657074352664293,
         3.69361447899608,
         3.6156402811488433,
         3.679709607795627,
         3.721220092844849,
         3.6521816508675418,
         3.790796746167458,
         3.781103489765177,
         3.5957297594026034,
         3.739782341478209,
         3.6994233046374805,
         3.705067249258779,
         3.7844082829437986,
         3.7137105272417283,
         3.742519579829885,
         3.696919984682007,
         3.808141851605286,
         3.7755553638320554,
         3.8516034746735563,
         3.9047837013518265,
         3.688220806100663,
         3.7034480346675003,
         3.7143627882500745
        ]
       ],
       "encoder": "json",
       "name": "ABC_GAN_3 Metrics",
       "version": 1
      }
     },
     "metadata": {
      "scrapbook": {
       "data": true,
       "display": false,
       "name": "ABC_GAN_3 Metrics"
      }
     },
     "output_type": "display_data"
    },
    {
     "name": "stdout",
     "output_type": "stream",
     "text": [
      "MSE\n",
      "0.13581547664874313\n"
     ]
    }
   ],
   "source": [
    "ABC_GAN3_metrics=ABC_train_test2.test_generator(gen3,test_data,prior_model,variance,bias,\"3\",device)\n",
    "sb.glue(\"ABC_GAN_3 Metrics\",ABC_GAN3_metrics)\n",
    "\n",
    "print(\"MSE\")\n",
    "print(mean(ABC_GAN3_metrics[0]))"
   ]
  },
  {
   "cell_type": "code",
   "execution_count": 18,
   "id": "c8e46b48",
   "metadata": {
    "execution": {
     "iopub.execute_input": "2022-06-12T06:13:03.272196Z",
     "iopub.status.busy": "2022-06-12T06:13:03.271819Z",
     "iopub.status.idle": "2022-06-12T06:13:03.605594Z",
     "shell.execute_reply": "2022-06-12T06:13:03.605961Z"
    },
    "id": "c8e46b48",
    "papermill": {
     "duration": 0.353491,
     "end_time": "2022-06-12T06:13:03.606081",
     "exception": false,
     "start_time": "2022-06-12T06:13:03.252590",
     "status": "completed"
    },
    "tags": []
   },
   "outputs": [
    {
     "data": {
      "image/png": "[encoded data removed]",
      "text/plain": [
       "<Figure size 432x288 with 1 Axes>"
      ]
     },
     "metadata": {
      "needs_background": "light"
     },
     "output_type": "display_data"
    },
    {
     "data": {
      "image/png": "[encoded data removed]",
      "text/plain": [
       "<Figure size 432x288 with 1 Axes>"
      ]
     },
     "metadata": {
      "needs_background": "light"
     },
     "output_type": "display_data"
    },
    {
     "data": {
      "image/png": "[encoded data removed]",
      "text/plain": [
       "<Figure size 432x288 with 1 Axes>"
      ]
     },
     "metadata": {
      "needs_background": "light"
     },
     "output_type": "display_data"
    },
    {
     "data": {
      "image/png": "[encoded data removed]",
      "text/plain": [
       "<Figure size 432x288 with 1 Axes>"
      ]
     },
     "metadata": {
      "needs_background": "light"
     },
     "output_type": "display_data"
    }
   ],
   "source": [
    "sanityChecks.discProbVsError(train_data,disc3,device)\n",
    "sanityChecks.discProbVsError(test_data,disc3,device)"
   ]
  },
  {
   "cell_type": "markdown",
   "id": "a5bd74c3",
   "metadata": {
    "id": "a5bd74c3",
    "papermill": {
     "duration": 0.019425,
     "end_time": "2022-06-12T06:13:03.645369",
     "exception": false,
     "start_time": "2022-06-12T06:13:03.625944",
     "status": "completed"
    },
    "tags": []
   },
   "source": [
    "## Skip Connection Model Analysis - ABC-GAN "
   ]
  },
  {
   "cell_type": "markdown",
   "id": "5744a8bf",
   "metadata": {
    "id": "5744a8bf",
    "papermill": {
     "duration": 0.019091,
     "end_time": "2022-06-12T06:13:03.683585",
     "exception": false,
     "start_time": "2022-06-12T06:13:03.664494",
     "status": "completed"
    },
    "tags": []
   },
   "source": [
    "### Weight Analysis \n",
    "\n",
    "Study the weights of the skip connection layer\n",
    "\n",
    "Equation of the skip connection is \n",
    "\n",
    "$output = y_{gan} * w + y_{abc} * (1-w)$"
   ]
  },
  {
   "cell_type": "code",
   "execution_count": 19,
   "id": "52c31dea",
   "metadata": {
    "execution": {
     "iopub.execute_input": "2022-06-12T06:13:03.724737Z",
     "iopub.status.busy": "2022-06-12T06:13:03.724300Z",
     "iopub.status.idle": "2022-06-12T06:13:03.727678Z",
     "shell.execute_reply": "2022-06-12T06:13:03.727975Z"
    },
    "id": "52c31dea",
    "papermill": {
     "duration": 0.025399,
     "end_time": "2022-06-12T06:13:03.728084",
     "exception": false,
     "start_time": "2022-06-12T06:13:03.702685",
     "status": "completed"
    },
    "tags": []
   },
   "outputs": [
    {
     "name": "stdout",
     "output_type": "stream",
     "text": [
      "Weight of the node at skip connection\n",
      "Parameter containing:\n",
      "tensor([[0.1543]], requires_grad=True)\n"
     ]
    },
    {
     "data": {
      "application/scrapbook.scrap.json+json": {
       "data": 0.1542951762676239,
       "encoder": "json",
       "name": "Skip Connection Weight",
       "version": 1
      }
     },
     "metadata": {
      "scrapbook": {
       "data": true,
       "display": false,
       "name": "Skip Connection Weight"
      }
     },
     "output_type": "display_data"
    }
   ],
   "source": [
    "print(\"Weight of the node at skip connection\")\n",
    "for name,param in gen3.named_parameters():\n",
    "    if(name == \"skipNode.weight\"):\n",
    "        print(param)\n",
    "        sb.glue(\"Skip Connection Weight\",param.item())"
   ]
  }
 ],
 "metadata": {
  "colab": {
   "collapsed_sections": [],
   "name": "ABC_GAN_Model-Catboost_Pre-gen.ipynb",
   "provenance": []
  },
  "interpreter": {
   "hash": "31f2aee4e71d21fbe5cf8b01ff0e069b9275f58929596ceb00d14d90e3e16cd6"
  },
  "kernelspec": {
   "display_name": "Python 3 (ipykernel)",
   "language": "python",
   "name": "python3"
  },
  "language_info": {
   "codemirror_mode": {
    "name": "ipython",
    "version": 3
   },
   "file_extension": ".py",
   "mimetype": "text/x-python",
   "name": "python",
   "nbconvert_exporter": "python",
   "pygments_lexer": "ipython3",
   "version": "3.8.11"
  },
  "papermill": {
   "default_parameters": {},
   "duration": 242.933632,
   "end_time": "2022-06-12T06:13:04.055549",
   "environment_variables": {},
   "exception": null,
   "input_path": "ABC_GAN-Catboost.ipynb",
   "output_path": "./ABC_GAN_Catboost/ABC-GAN_output_7_1.ipynb",
   "parameters": {
    "bias": 1,
    "variance": 0.1
   },
   "start_time": "2022-06-12T06:09:01.121917",
   "version": "2.3.3"
  }
 },
 "nbformat": 4,
 "nbformat_minor": 5
}