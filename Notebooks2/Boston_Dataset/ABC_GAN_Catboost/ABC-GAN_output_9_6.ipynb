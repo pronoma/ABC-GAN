{
 "cells": [
  {
   "cell_type": "markdown",
   "id": "622780e6",
   "metadata": {
    "id": "622780e6",
    "papermill": {
     "duration": 0.037387,
     "end_time": "2022-06-12T08:06:55.583287",
     "exception": false,
     "start_time": "2022-06-12T08:06:55.545900",
     "status": "completed"
    },
    "tags": []
   },
   "source": [
    "## Import Libraries "
   ]
  },
  {
   "cell_type": "code",
   "execution_count": 1,
   "id": "a62397e3",
   "metadata": {
    "execution": {
     "iopub.execute_input": "2022-06-12T08:06:55.619129Z",
     "iopub.status.busy": "2022-06-12T08:06:55.618626Z",
     "iopub.status.idle": "2022-06-12T08:06:55.620882Z",
     "shell.execute_reply": "2022-06-12T08:06:55.621345Z"
    },
    "id": "a62397e3",
    "papermill": {
     "duration": 0.021779,
     "end_time": "2022-06-12T08:06:55.621560",
     "exception": false,
     "start_time": "2022-06-12T08:06:55.599781",
     "status": "completed"
    },
    "tags": []
   },
   "outputs": [],
   "source": [
    "import warnings\n",
    "import sys\n",
    "sys.path.insert(0, '../../src')\n",
    "warnings.filterwarnings('ignore')"
   ]
  },
  {
   "cell_type": "code",
   "execution_count": 2,
   "id": "d6a4e155",
   "metadata": {
    "execution": {
     "iopub.execute_input": "2022-06-12T08:06:55.642267Z",
     "iopub.status.busy": "2022-06-12T08:06:55.641817Z",
     "iopub.status.idle": "2022-06-12T08:06:57.402739Z",
     "shell.execute_reply": "2022-06-12T08:06:57.403000Z"
    },
    "id": "d6a4e155",
    "papermill": {
     "duration": 1.771915,
     "end_time": "2022-06-12T08:06:57.403123",
     "exception": false,
     "start_time": "2022-06-12T08:06:55.631208",
     "status": "completed"
    },
    "tags": []
   },
   "outputs": [],
   "source": [
    "import ABC_train_test2\n",
    "import bostonDataset\n",
    "import network\n",
    "import dataset\n",
    "import sanityChecks\n",
    "import torch \n",
    "import scrapbook as sb\n",
    "from statistics import mean \n",
    "import catboost as ctb \n",
    "from sklearn.model_selection import train_test_split\n",
    "from sklearn.metrics import mean_squared_error,mean_absolute_error\n",
    "import numpy as np"
   ]
  },
  {
   "cell_type": "markdown",
   "id": "2fa5b0f7",
   "metadata": {
    "id": "2fa5b0f7",
    "papermill": {
     "duration": 0.006755,
     "end_time": "2022-06-12T08:06:57.416966",
     "exception": false,
     "start_time": "2022-06-12T08:06:57.410211",
     "status": "completed"
    },
    "tags": []
   },
   "source": [
    "## Parameters "
   ]
  },
  {
   "cell_type": "code",
   "execution_count": 3,
   "id": "783186fb",
   "metadata": {
    "execution": {
     "iopub.execute_input": "2022-06-12T08:06:57.432619Z",
     "iopub.status.busy": "2022-06-12T08:06:57.432243Z",
     "iopub.status.idle": "2022-06-12T08:06:57.433488Z",
     "shell.execute_reply": "2022-06-12T08:06:57.433742Z"
    },
    "id": "783186fb",
    "papermill": {
     "duration": 0.010188,
     "end_time": "2022-06-12T08:06:57.433853",
     "exception": false,
     "start_time": "2022-06-12T08:06:57.423665",
     "status": "completed"
    },
    "tags": [
     "parameters"
    ]
   },
   "outputs": [],
   "source": [
    "variance = 1\n",
    "bias = 1 "
   ]
  },
  {
   "cell_type": "code",
   "execution_count": 4,
   "id": "0a5d23bc",
   "metadata": {
    "execution": {
     "iopub.execute_input": "2022-06-12T08:06:57.449739Z",
     "iopub.status.busy": "2022-06-12T08:06:57.449378Z",
     "iopub.status.idle": "2022-06-12T08:06:57.450675Z",
     "shell.execute_reply": "2022-06-12T08:06:57.450928Z"
    },
    "papermill": {
     "duration": 0.010121,
     "end_time": "2022-06-12T08:06:57.451031",
     "exception": false,
     "start_time": "2022-06-12T08:06:57.440910",
     "status": "completed"
    },
    "tags": [
     "injected-parameters"
    ]
   },
   "outputs": [],
   "source": [
    "# Parameters\n",
    "variance = 1\n",
    "bias = 0.01\n"
   ]
  },
  {
   "cell_type": "markdown",
   "id": "391cdbfd",
   "metadata": {
    "id": "391cdbfd",
    "papermill": {
     "duration": 0.006772,
     "end_time": "2022-06-12T08:06:57.464643",
     "exception": false,
     "start_time": "2022-06-12T08:06:57.457871",
     "status": "completed"
    },
    "tags": []
   },
   "source": [
    "## Dataset \n"
   ]
  },
  {
   "cell_type": "code",
   "execution_count": 5,
   "id": "5b51f161",
   "metadata": {
    "execution": {
     "iopub.execute_input": "2022-06-12T08:06:57.480131Z",
     "iopub.status.busy": "2022-06-12T08:06:57.479765Z",
     "iopub.status.idle": "2022-06-12T08:06:57.481098Z",
     "shell.execute_reply": "2022-06-12T08:06:57.481343Z"
    },
    "id": "5b51f161",
    "papermill": {
     "duration": 0.009997,
     "end_time": "2022-06-12T08:06:57.481451",
     "exception": false,
     "start_time": "2022-06-12T08:06:57.471454",
     "status": "completed"
    },
    "tags": []
   },
   "outputs": [],
   "source": [
    "#Parameters \n",
    "n_features = 13\n",
    "n_samples= 506\n",
    "n_target = 1 "
   ]
  },
  {
   "cell_type": "code",
   "execution_count": 6,
   "id": "5d6eced4",
   "metadata": {
    "execution": {
     "iopub.execute_input": "2022-06-12T08:06:57.497293Z",
     "iopub.status.busy": "2022-06-12T08:06:57.496932Z",
     "iopub.status.idle": "2022-06-12T08:06:57.507542Z",
     "shell.execute_reply": "2022-06-12T08:06:57.507837Z"
    },
    "id": "5d6eced4",
    "papermill": {
     "duration": 0.019509,
     "end_time": "2022-06-12T08:06:57.507949",
     "exception": false,
     "start_time": "2022-06-12T08:06:57.488440",
     "status": "completed"
    },
    "tags": []
   },
   "outputs": [
    {
     "name": "stdout",
     "output_type": "stream",
     "text": [
      "         X1        X2        X3        X4        X5        X6        X7  \\\n",
      "0 -0.419782  0.284830 -1.287909 -0.272599 -0.144217  0.413672 -0.120013   \n",
      "1 -0.417339 -0.487722 -0.593381 -0.272599 -0.740262  0.194274  0.367166   \n",
      "2 -0.417342 -0.487722 -0.593381 -0.272599 -0.740262  1.282714 -0.265812   \n",
      "3 -0.416750 -0.487722 -1.306878 -0.272599 -0.835284  1.016303 -0.809889   \n",
      "4 -0.412482 -0.487722 -1.306878 -0.272599 -0.835284  1.228577 -0.511180   \n",
      "\n",
      "         X8        X9       X10       X11       X12       X13         Y  \n",
      "0  0.140214 -0.982843 -0.666608 -1.459000  0.441052 -1.075562  0.159686  \n",
      "1  0.557160 -0.867883 -0.987329 -0.303094  0.441052 -0.492439 -0.101524  \n",
      "2  0.557160 -0.867883 -0.987329 -0.303094  0.396427 -1.208727  1.324247  \n",
      "3  1.077737 -0.752922 -1.106115  0.113032  0.416163 -1.361517  1.182758  \n",
      "4  1.077737 -0.752922 -1.106115  0.113032  0.441052 -1.026501  1.487503  \n"
     ]
    }
   ],
   "source": [
    "X,Y = bostonDataset.boston_data()"
   ]
  },
  {
   "cell_type": "code",
   "execution_count": 7,
   "id": "fe007438",
   "metadata": {
    "execution": {
     "iopub.execute_input": "2022-06-12T08:06:57.525095Z",
     "iopub.status.busy": "2022-06-12T08:06:57.524733Z",
     "iopub.status.idle": "2022-06-12T08:06:57.526061Z",
     "shell.execute_reply": "2022-06-12T08:06:57.526305Z"
    },
    "id": "fe007438",
    "papermill": {
     "duration": 0.011138,
     "end_time": "2022-06-12T08:06:57.526411",
     "exception": false,
     "start_time": "2022-06-12T08:06:57.515273",
     "status": "completed"
    },
    "tags": []
   },
   "outputs": [],
   "source": [
    "#Train test split for dataset \n",
    "X_train,X_test,Y_train,Y_test = train_test_split(X,Y,test_size = 0.2)\n",
    "train_data = dataset.CustomDataset(X_train,Y_train)\n",
    "test_data = dataset.CustomDataset(X_test,Y_test)\n"
   ]
  },
  {
   "cell_type": "markdown",
   "id": "a9a1af34",
   "metadata": {
    "id": "a9a1af34",
    "papermill": {
     "duration": 0.007038,
     "end_time": "2022-06-12T08:06:57.540568",
     "exception": false,
     "start_time": "2022-06-12T08:06:57.533530",
     "status": "completed"
    },
    "tags": []
   },
   "source": [
    "## Training Parameters "
   ]
  },
  {
   "cell_type": "code",
   "execution_count": 8,
   "id": "952b7fc8",
   "metadata": {
    "execution": {
     "iopub.execute_input": "2022-06-12T08:06:57.556891Z",
     "iopub.status.busy": "2022-06-12T08:06:57.556530Z",
     "iopub.status.idle": "2022-06-12T08:06:57.557781Z",
     "shell.execute_reply": "2022-06-12T08:06:57.558020Z"
    },
    "id": "952b7fc8",
    "papermill": {
     "duration": 0.010498,
     "end_time": "2022-06-12T08:06:57.558127",
     "exception": false,
     "start_time": "2022-06-12T08:06:57.547629",
     "status": "completed"
    },
    "tags": []
   },
   "outputs": [],
   "source": [
    "batch_size = 32\n",
    "n_epochs = 1000\n",
    "#Select the device \n",
    "device = torch.device('cuda' if torch.cuda.is_available() else 'cpu')"
   ]
  },
  {
   "cell_type": "markdown",
   "id": "a95e1600",
   "metadata": {
    "id": "a95e1600",
    "papermill": {
     "duration": 0.007083,
     "end_time": "2022-06-12T08:06:57.572459",
     "exception": false,
     "start_time": "2022-06-12T08:06:57.565376",
     "status": "completed"
    },
    "tags": []
   },
   "source": [
    "# ABC Pre-generator Model \n",
    "\n",
    "1. The catboost model is used as a pre-generator model for the ABC-GAN. \n",
    "2. The model is first trained on the entire dataset \n",
    "3. It generats X,Y pairs and we add some Gaussian noise with mean 0 and variance 1 to it which is then feed as input to the generator.\n"
   ]
  },
  {
   "cell_type": "code",
   "execution_count": 9,
   "id": "ff8ce7bd",
   "metadata": {
    "execution": {
     "iopub.execute_input": "2022-06-12T08:06:57.591260Z",
     "iopub.status.busy": "2022-06-12T08:06:57.590866Z",
     "iopub.status.idle": "2022-06-12T08:06:58.552597Z",
     "shell.execute_reply": "2022-06-12T08:06:58.552969Z"
    },
    "id": "ff8ce7bd",
    "papermill": {
     "duration": 0.973494,
     "end_time": "2022-06-12T08:06:58.553092",
     "exception": false,
     "start_time": "2022-06-12T08:06:57.579598",
     "status": "completed"
    },
    "tags": []
   },
   "outputs": [
    {
     "name": "stdout",
     "output_type": "stream",
     "text": [
      "Learning rate set to 0.033215\n",
      "0:\tlearn: 0.9777615\ttotal: 58.7ms\tremaining: 58.6s\n",
      "1:\tlearn: 0.9595566\ttotal: 59.7ms\tremaining: 29.8s\n",
      "2:\tlearn: 0.9406186\ttotal: 60.7ms\tremaining: 20.2s\n",
      "3:\tlearn: 0.9251764\ttotal: 61.9ms\tremaining: 15.4s\n",
      "4:\tlearn: 0.9107530\ttotal: 62.9ms\tremaining: 12.5s\n",
      "5:\tlearn: 0.8942826\ttotal: 63.9ms\tremaining: 10.6s\n",
      "6:\tlearn: 0.8800561\ttotal: 64.9ms\tremaining: 9.21s\n",
      "7:\tlearn: 0.8645316\ttotal: 65.8ms\tremaining: 8.16s\n",
      "8:\tlearn: 0.8493010\ttotal: 66.6ms\tremaining: 7.34s\n",
      "9:\tlearn: 0.8330163\ttotal: 67.5ms\tremaining: 6.68s\n",
      "10:\tlearn: 0.8192595\ttotal: 68.3ms\tremaining: 6.14s\n",
      "11:\tlearn: 0.8054722\ttotal: 69.1ms\tremaining: 5.69s\n",
      "12:\tlearn: 0.7901328\ttotal: 69.9ms\tremaining: 5.31s\n",
      "13:\tlearn: 0.7759432\ttotal: 70.8ms\tremaining: 4.99s\n",
      "14:\tlearn: 0.7631521\ttotal: 71.6ms\tremaining: 4.7s\n",
      "15:\tlearn: 0.7494040\ttotal: 72.4ms\tremaining: 4.45s\n",
      "16:\tlearn: 0.7357454\ttotal: 73.3ms\tremaining: 4.24s\n",
      "17:\tlearn: 0.7241187\ttotal: 74ms\tremaining: 4.04s\n",
      "18:\tlearn: 0.7126839\ttotal: 74.9ms\tremaining: 3.87s\n",
      "19:\tlearn: 0.7007862\ttotal: 76.4ms\tremaining: 3.74s\n",
      "20:\tlearn: 0.6870619\ttotal: 77.1ms\tremaining: 3.59s\n",
      "21:\tlearn: 0.6757152\ttotal: 78ms\tremaining: 3.47s\n",
      "22:\tlearn: 0.6653426\ttotal: 78.7ms\tremaining: 3.34s\n",
      "23:\tlearn: 0.6560044\ttotal: 79.6ms\tremaining: 3.24s\n",
      "24:\tlearn: 0.6470656\ttotal: 80.4ms\tremaining: 3.14s\n",
      "25:\tlearn: 0.6363727\ttotal: 81.2ms\tremaining: 3.04s\n",
      "26:\tlearn: 0.6280178\ttotal: 82ms\tremaining: 2.95s\n",
      "27:\tlearn: 0.6195203\ttotal: 82.8ms\tremaining: 2.87s\n",
      "28:\tlearn: 0.6106121\ttotal: 83.7ms\tremaining: 2.8s\n",
      "29:\tlearn: 0.6007797\ttotal: 84.4ms\tremaining: 2.73s\n",
      "30:\tlearn: 0.5920001\ttotal: 85.2ms\tremaining: 2.66s\n",
      "31:\tlearn: 0.5836771\ttotal: 85.9ms\tremaining: 2.6s\n",
      "32:\tlearn: 0.5766653\ttotal: 86.7ms\tremaining: 2.54s\n",
      "33:\tlearn: 0.5693782\ttotal: 87.4ms\tremaining: 2.48s\n",
      "34:\tlearn: 0.5635296\ttotal: 88.2ms\tremaining: 2.43s\n",
      "35:\tlearn: 0.5573760\ttotal: 89ms\tremaining: 2.38s\n",
      "36:\tlearn: 0.5510503\ttotal: 89.9ms\tremaining: 2.34s\n",
      "37:\tlearn: 0.5443983\ttotal: 90.9ms\tremaining: 2.3s\n",
      "38:\tlearn: 0.5373647\ttotal: 91.6ms\tremaining: 2.26s\n",
      "39:\tlearn: 0.5308003\ttotal: 92.3ms\tremaining: 2.22s\n",
      "40:\tlearn: 0.5256153\ttotal: 93.2ms\tremaining: 2.18s\n",
      "41:\tlearn: 0.5183691\ttotal: 94.1ms\tremaining: 2.15s\n",
      "42:\tlearn: 0.5125730\ttotal: 94.8ms\tremaining: 2.11s\n",
      "43:\tlearn: 0.5059099\ttotal: 95.7ms\tremaining: 2.08s\n",
      "44:\tlearn: 0.5009148\ttotal: 96.6ms\tremaining: 2.05s\n",
      "45:\tlearn: 0.4952899\ttotal: 97.3ms\tremaining: 2.02s\n",
      "46:\tlearn: 0.4900704\ttotal: 98.2ms\tremaining: 1.99s\n",
      "47:\tlearn: 0.4844831\ttotal: 99.1ms\tremaining: 1.96s\n",
      "48:\tlearn: 0.4803684\ttotal: 99.8ms\tremaining: 1.94s\n",
      "49:\tlearn: 0.4760313\ttotal: 101ms\tremaining: 1.91s\n",
      "50:\tlearn: 0.4708403\ttotal: 102ms\tremaining: 1.89s\n",
      "51:\tlearn: 0.4666941\ttotal: 102ms\tremaining: 1.87s\n",
      "52:\tlearn: 0.4598787\ttotal: 103ms\tremaining: 1.84s\n",
      "53:\tlearn: 0.4555504\ttotal: 104ms\tremaining: 1.82s\n",
      "54:\tlearn: 0.4512650\ttotal: 105ms\tremaining: 1.8s\n",
      "55:\tlearn: 0.4471057\ttotal: 106ms\tremaining: 1.78s\n",
      "56:\tlearn: 0.4434320\ttotal: 106ms\tremaining: 1.76s\n",
      "57:\tlearn: 0.4393067\ttotal: 107ms\tremaining: 1.74s\n",
      "58:\tlearn: 0.4347979\ttotal: 108ms\tremaining: 1.72s\n"
     ]
    },
    {
     "name": "stdout",
     "output_type": "stream",
     "text": [
      "59:\tlearn: 0.4304176\ttotal: 109ms\tremaining: 1.71s\n",
      "60:\tlearn: 0.4264689\ttotal: 110ms\tremaining: 1.7s\n",
      "61:\tlearn: 0.4218895\ttotal: 111ms\tremaining: 1.68s\n",
      "62:\tlearn: 0.4171852\ttotal: 112ms\tremaining: 1.66s\n",
      "63:\tlearn: 0.4133759\ttotal: 113ms\tremaining: 1.65s\n",
      "64:\tlearn: 0.4099400\ttotal: 113ms\tremaining: 1.63s\n",
      "65:\tlearn: 0.4069787\ttotal: 114ms\tremaining: 1.62s\n",
      "66:\tlearn: 0.4036336\ttotal: 115ms\tremaining: 1.6s\n",
      "67:\tlearn: 0.4008790\ttotal: 116ms\tremaining: 1.59s\n",
      "68:\tlearn: 0.3977280\ttotal: 117ms\tremaining: 1.57s\n",
      "69:\tlearn: 0.3941627\ttotal: 117ms\tremaining: 1.56s\n",
      "70:\tlearn: 0.3904342\ttotal: 118ms\tremaining: 1.55s\n",
      "71:\tlearn: 0.3867506\ttotal: 119ms\tremaining: 1.54s\n",
      "72:\tlearn: 0.3840507\ttotal: 120ms\tremaining: 1.52s\n",
      "73:\tlearn: 0.3815083\ttotal: 121ms\tremaining: 1.51s\n",
      "74:\tlearn: 0.3789822\ttotal: 122ms\tremaining: 1.5s\n",
      "75:\tlearn: 0.3769757\ttotal: 123ms\tremaining: 1.49s\n",
      "76:\tlearn: 0.3731858\ttotal: 123ms\tremaining: 1.48s\n",
      "77:\tlearn: 0.3701770\ttotal: 124ms\tremaining: 1.47s\n",
      "78:\tlearn: 0.3672699\ttotal: 125ms\tremaining: 1.46s\n",
      "79:\tlearn: 0.3648158\ttotal: 126ms\tremaining: 1.45s\n",
      "80:\tlearn: 0.3625998\ttotal: 127ms\tremaining: 1.44s\n",
      "81:\tlearn: 0.3604876\ttotal: 128ms\tremaining: 1.43s\n",
      "82:\tlearn: 0.3584894\ttotal: 129ms\tremaining: 1.42s\n",
      "83:\tlearn: 0.3554975\ttotal: 129ms\tremaining: 1.41s\n",
      "84:\tlearn: 0.3525742\ttotal: 130ms\tremaining: 1.4s\n",
      "85:\tlearn: 0.3503991\ttotal: 131ms\tremaining: 1.39s\n",
      "86:\tlearn: 0.3476258\ttotal: 132ms\tremaining: 1.38s\n",
      "87:\tlearn: 0.3454564\ttotal: 133ms\tremaining: 1.37s\n",
      "88:\tlearn: 0.3438090\ttotal: 133ms\tremaining: 1.36s\n",
      "89:\tlearn: 0.3414900\ttotal: 134ms\tremaining: 1.36s\n",
      "90:\tlearn: 0.3386292\ttotal: 135ms\tremaining: 1.35s\n",
      "91:\tlearn: 0.3364416\ttotal: 136ms\tremaining: 1.34s\n",
      "92:\tlearn: 0.3347818\ttotal: 137ms\tremaining: 1.33s\n",
      "93:\tlearn: 0.3324293\ttotal: 138ms\tremaining: 1.32s\n",
      "94:\tlearn: 0.3302647\ttotal: 138ms\tremaining: 1.32s\n",
      "95:\tlearn: 0.3281216\ttotal: 139ms\tremaining: 1.31s\n",
      "96:\tlearn: 0.3267406\ttotal: 140ms\tremaining: 1.3s\n",
      "97:\tlearn: 0.3248300\ttotal: 141ms\tremaining: 1.3s\n",
      "98:\tlearn: 0.3230123\ttotal: 142ms\tremaining: 1.29s\n",
      "99:\tlearn: 0.3219482\ttotal: 142ms\tremaining: 1.28s\n",
      "100:\tlearn: 0.3200293\ttotal: 143ms\tremaining: 1.27s\n",
      "101:\tlearn: 0.3180099\ttotal: 144ms\tremaining: 1.27s\n",
      "102:\tlearn: 0.3158920\ttotal: 145ms\tremaining: 1.26s\n",
      "103:\tlearn: 0.3140231\ttotal: 146ms\tremaining: 1.25s\n",
      "104:\tlearn: 0.3122927\ttotal: 146ms\tremaining: 1.25s\n",
      "105:\tlearn: 0.3112555\ttotal: 147ms\tremaining: 1.24s\n",
      "106:\tlearn: 0.3095304\ttotal: 148ms\tremaining: 1.24s\n",
      "107:\tlearn: 0.3082455\ttotal: 149ms\tremaining: 1.23s\n",
      "108:\tlearn: 0.3068996\ttotal: 150ms\tremaining: 1.22s\n",
      "109:\tlearn: 0.3053313\ttotal: 151ms\tremaining: 1.22s\n",
      "110:\tlearn: 0.3038331\ttotal: 151ms\tremaining: 1.21s\n",
      "111:\tlearn: 0.3029459\ttotal: 152ms\tremaining: 1.21s\n",
      "112:\tlearn: 0.3015580\ttotal: 153ms\tremaining: 1.2s\n",
      "113:\tlearn: 0.3003110\ttotal: 154ms\tremaining: 1.2s\n",
      "114:\tlearn: 0.2991180\ttotal: 155ms\tremaining: 1.19s\n",
      "115:\tlearn: 0.2980140\ttotal: 156ms\tremaining: 1.19s\n",
      "116:\tlearn: 0.2967205\ttotal: 156ms\tremaining: 1.18s\n",
      "117:\tlearn: 0.2958437\ttotal: 157ms\tremaining: 1.17s\n",
      "118:\tlearn: 0.2943877\ttotal: 158ms\tremaining: 1.17s\n",
      "119:\tlearn: 0.2936327\ttotal: 159ms\tremaining: 1.16s\n",
      "120:\tlearn: 0.2923860\ttotal: 159ms\tremaining: 1.16s\n",
      "121:\tlearn: 0.2912193\ttotal: 160ms\tremaining: 1.15s\n",
      "122:\tlearn: 0.2897205\ttotal: 161ms\tremaining: 1.15s\n",
      "123:\tlearn: 0.2884478\ttotal: 162ms\tremaining: 1.14s\n",
      "124:\tlearn: 0.2876156\ttotal: 163ms\tremaining: 1.14s\n",
      "125:\tlearn: 0.2865820\ttotal: 164ms\tremaining: 1.13s\n",
      "126:\tlearn: 0.2848651\ttotal: 164ms\tremaining: 1.13s\n",
      "127:\tlearn: 0.2834453\ttotal: 165ms\tremaining: 1.13s\n",
      "128:\tlearn: 0.2824209\ttotal: 166ms\tremaining: 1.12s\n",
      "129:\tlearn: 0.2811431\ttotal: 167ms\tremaining: 1.11s\n",
      "130:\tlearn: 0.2797734\ttotal: 168ms\tremaining: 1.11s\n",
      "131:\tlearn: 0.2789401\ttotal: 168ms\tremaining: 1.11s\n",
      "132:\tlearn: 0.2773917\ttotal: 169ms\tremaining: 1.1s\n",
      "133:\tlearn: 0.2765742\ttotal: 170ms\tremaining: 1.1s\n",
      "134:\tlearn: 0.2753295\ttotal: 171ms\tremaining: 1.09s\n",
      "135:\tlearn: 0.2742521\ttotal: 172ms\tremaining: 1.09s\n",
      "136:\tlearn: 0.2726592\ttotal: 173ms\tremaining: 1.09s\n",
      "137:\tlearn: 0.2717350\ttotal: 173ms\tremaining: 1.08s\n",
      "138:\tlearn: 0.2704358\ttotal: 175ms\tremaining: 1.08s\n",
      "139:\tlearn: 0.2696752\ttotal: 176ms\tremaining: 1.08s\n",
      "140:\tlearn: 0.2687391\ttotal: 177ms\tremaining: 1.07s\n",
      "141:\tlearn: 0.2681154\ttotal: 177ms\tremaining: 1.07s\n",
      "142:\tlearn: 0.2669640\ttotal: 178ms\tremaining: 1.07s\n",
      "143:\tlearn: 0.2666362\ttotal: 179ms\tremaining: 1.06s\n",
      "144:\tlearn: 0.2659088\ttotal: 180ms\tremaining: 1.06s\n",
      "145:\tlearn: 0.2653348\ttotal: 181ms\tremaining: 1.06s\n",
      "146:\tlearn: 0.2648271\ttotal: 181ms\tremaining: 1.05s\n",
      "147:\tlearn: 0.2640248\ttotal: 182ms\tremaining: 1.05s\n",
      "148:\tlearn: 0.2633169\ttotal: 183ms\tremaining: 1.04s\n",
      "149:\tlearn: 0.2621216\ttotal: 184ms\tremaining: 1.04s\n",
      "150:\tlearn: 0.2614646\ttotal: 185ms\tremaining: 1.04s\n",
      "151:\tlearn: 0.2606736\ttotal: 186ms\tremaining: 1.03s\n",
      "152:\tlearn: 0.2599296\ttotal: 186ms\tremaining: 1.03s\n",
      "153:\tlearn: 0.2591313\ttotal: 187ms\tremaining: 1.03s\n",
      "154:\tlearn: 0.2583917\ttotal: 188ms\tremaining: 1.03s\n",
      "155:\tlearn: 0.2574494\ttotal: 189ms\tremaining: 1.02s\n",
      "156:\tlearn: 0.2562579\ttotal: 190ms\tremaining: 1.02s\n",
      "157:\tlearn: 0.2554665\ttotal: 191ms\tremaining: 1.02s\n"
     ]
    },
    {
     "name": "stdout",
     "output_type": "stream",
     "text": [
      "158:\tlearn: 0.2543373\ttotal: 192ms\tremaining: 1.01s\n",
      "159:\tlearn: 0.2538763\ttotal: 193ms\tremaining: 1.01s\n",
      "160:\tlearn: 0.2529358\ttotal: 193ms\tremaining: 1.01s\n",
      "161:\tlearn: 0.2523367\ttotal: 194ms\tremaining: 1s\n",
      "162:\tlearn: 0.2516200\ttotal: 195ms\tremaining: 1s\n",
      "163:\tlearn: 0.2511732\ttotal: 196ms\tremaining: 999ms\n",
      "164:\tlearn: 0.2505454\ttotal: 197ms\tremaining: 996ms\n",
      "165:\tlearn: 0.2496323\ttotal: 198ms\tremaining: 993ms\n",
      "166:\tlearn: 0.2489679\ttotal: 198ms\tremaining: 990ms\n",
      "167:\tlearn: 0.2483722\ttotal: 199ms\tremaining: 987ms\n",
      "168:\tlearn: 0.2478120\ttotal: 200ms\tremaining: 984ms\n",
      "169:\tlearn: 0.2473845\ttotal: 201ms\tremaining: 981ms\n",
      "170:\tlearn: 0.2469392\ttotal: 202ms\tremaining: 978ms\n",
      "171:\tlearn: 0.2463405\ttotal: 203ms\tremaining: 975ms\n",
      "172:\tlearn: 0.2456897\ttotal: 203ms\tremaining: 972ms\n",
      "173:\tlearn: 0.2448347\ttotal: 204ms\tremaining: 970ms\n",
      "174:\tlearn: 0.2439815\ttotal: 205ms\tremaining: 967ms\n",
      "175:\tlearn: 0.2432667\ttotal: 206ms\tremaining: 964ms\n",
      "176:\tlearn: 0.2423440\ttotal: 207ms\tremaining: 961ms\n",
      "177:\tlearn: 0.2417697\ttotal: 208ms\tremaining: 958ms\n",
      "178:\tlearn: 0.2409370\ttotal: 208ms\tremaining: 956ms\n",
      "179:\tlearn: 0.2403086\ttotal: 209ms\tremaining: 952ms\n",
      "180:\tlearn: 0.2393474\ttotal: 210ms\tremaining: 950ms\n",
      "181:\tlearn: 0.2388185\ttotal: 211ms\tremaining: 947ms\n",
      "182:\tlearn: 0.2382878\ttotal: 211ms\tremaining: 944ms\n",
      "183:\tlearn: 0.2376420\ttotal: 212ms\tremaining: 942ms\n",
      "184:\tlearn: 0.2369196\ttotal: 213ms\tremaining: 939ms\n",
      "185:\tlearn: 0.2362962\ttotal: 214ms\tremaining: 936ms\n",
      "186:\tlearn: 0.2353638\ttotal: 215ms\tremaining: 934ms\n",
      "187:\tlearn: 0.2347056\ttotal: 216ms\tremaining: 931ms\n",
      "188:\tlearn: 0.2340714\ttotal: 216ms\tremaining: 929ms\n",
      "189:\tlearn: 0.2335016\ttotal: 217ms\tremaining: 926ms\n",
      "190:\tlearn: 0.2329228\ttotal: 218ms\tremaining: 923ms\n",
      "191:\tlearn: 0.2323638\ttotal: 219ms\tremaining: 920ms\n",
      "192:\tlearn: 0.2318305\ttotal: 219ms\tremaining: 918ms\n",
      "193:\tlearn: 0.2311385\ttotal: 220ms\tremaining: 915ms\n",
      "194:\tlearn: 0.2304018\ttotal: 221ms\tremaining: 913ms\n",
      "195:\tlearn: 0.2295880\ttotal: 222ms\tremaining: 910ms\n",
      "196:\tlearn: 0.2293124\ttotal: 223ms\tremaining: 908ms\n",
      "197:\tlearn: 0.2289787\ttotal: 224ms\tremaining: 906ms\n",
      "198:\tlearn: 0.2283750\ttotal: 224ms\tremaining: 903ms\n",
      "199:\tlearn: 0.2277738\ttotal: 225ms\tremaining: 901ms\n",
      "200:\tlearn: 0.2272690\ttotal: 226ms\tremaining: 899ms\n",
      "201:\tlearn: 0.2268777\ttotal: 227ms\tremaining: 897ms\n",
      "202:\tlearn: 0.2264112\ttotal: 228ms\tremaining: 895ms\n",
      "203:\tlearn: 0.2259468\ttotal: 229ms\tremaining: 892ms\n",
      "204:\tlearn: 0.2255352\ttotal: 229ms\tremaining: 890ms\n",
      "205:\tlearn: 0.2248613\ttotal: 230ms\tremaining: 888ms\n",
      "206:\tlearn: 0.2244466\ttotal: 231ms\tremaining: 885ms\n",
      "207:\tlearn: 0.2241652\ttotal: 232ms\tremaining: 883ms\n",
      "208:\tlearn: 0.2235960\ttotal: 233ms\tremaining: 880ms\n",
      "209:\tlearn: 0.2230051\ttotal: 234ms\tremaining: 879ms\n",
      "210:\tlearn: 0.2226040\ttotal: 234ms\tremaining: 877ms\n",
      "211:\tlearn: 0.2221062\ttotal: 235ms\tremaining: 874ms\n",
      "212:\tlearn: 0.2213570\ttotal: 236ms\tremaining: 872ms\n",
      "213:\tlearn: 0.2208118\ttotal: 237ms\tremaining: 869ms\n",
      "214:\tlearn: 0.2204424\ttotal: 238ms\tremaining: 868ms\n",
      "215:\tlearn: 0.2200239\ttotal: 239ms\tremaining: 866ms\n",
      "216:\tlearn: 0.2197481\ttotal: 239ms\tremaining: 864ms\n",
      "217:\tlearn: 0.2192490\ttotal: 240ms\tremaining: 861ms\n",
      "218:\tlearn: 0.2188966\ttotal: 241ms\tremaining: 859ms\n",
      "219:\tlearn: 0.2183180\ttotal: 242ms\tremaining: 857ms\n",
      "220:\tlearn: 0.2180982\ttotal: 243ms\tremaining: 855ms\n",
      "221:\tlearn: 0.2173525\ttotal: 243ms\tremaining: 853ms\n",
      "222:\tlearn: 0.2171022\ttotal: 244ms\tremaining: 851ms\n",
      "223:\tlearn: 0.2168172\ttotal: 245ms\tremaining: 849ms\n",
      "224:\tlearn: 0.2165994\ttotal: 246ms\tremaining: 847ms\n",
      "225:\tlearn: 0.2159319\ttotal: 247ms\tremaining: 845ms\n",
      "226:\tlearn: 0.2152816\ttotal: 248ms\tremaining: 843ms\n",
      "227:\tlearn: 0.2149429\ttotal: 249ms\tremaining: 842ms\n",
      "228:\tlearn: 0.2146534\ttotal: 249ms\tremaining: 839ms\n",
      "229:\tlearn: 0.2141365\ttotal: 250ms\tremaining: 837ms\n",
      "230:\tlearn: 0.2135855\ttotal: 251ms\tremaining: 836ms\n",
      "231:\tlearn: 0.2132126\ttotal: 252ms\tremaining: 834ms\n",
      "232:\tlearn: 0.2124487\ttotal: 253ms\tremaining: 833ms\n",
      "233:\tlearn: 0.2116994\ttotal: 254ms\tremaining: 831ms\n",
      "234:\tlearn: 0.2110271\ttotal: 255ms\tremaining: 829ms\n",
      "235:\tlearn: 0.2104992\ttotal: 255ms\tremaining: 827ms\n",
      "236:\tlearn: 0.2102724\ttotal: 256ms\tremaining: 824ms\n",
      "237:\tlearn: 0.2098747\ttotal: 257ms\tremaining: 822ms\n",
      "238:\tlearn: 0.2093976\ttotal: 258ms\tremaining: 820ms\n",
      "239:\tlearn: 0.2089576\ttotal: 258ms\tremaining: 818ms\n",
      "240:\tlearn: 0.2087717\ttotal: 259ms\tremaining: 815ms\n",
      "241:\tlearn: 0.2081730\ttotal: 260ms\tremaining: 813ms\n",
      "242:\tlearn: 0.2076285\ttotal: 260ms\tremaining: 811ms\n",
      "243:\tlearn: 0.2073605\ttotal: 261ms\tremaining: 809ms\n",
      "244:\tlearn: 0.2069820\ttotal: 262ms\tremaining: 807ms\n",
      "245:\tlearn: 0.2065715\ttotal: 263ms\tremaining: 806ms\n",
      "246:\tlearn: 0.2064106\ttotal: 264ms\tremaining: 804ms\n",
      "247:\tlearn: 0.2057963\ttotal: 265ms\tremaining: 803ms\n",
      "248:\tlearn: 0.2051191\ttotal: 266ms\tremaining: 802ms\n",
      "249:\tlearn: 0.2045391\ttotal: 267ms\tremaining: 801ms\n",
      "250:\tlearn: 0.2042849\ttotal: 268ms\tremaining: 799ms\n",
      "251:\tlearn: 0.2040790\ttotal: 269ms\tremaining: 798ms\n",
      "252:\tlearn: 0.2035246\ttotal: 270ms\tremaining: 797ms\n",
      "253:\tlearn: 0.2028695\ttotal: 271ms\tremaining: 795ms\n",
      "254:\tlearn: 0.2018817\ttotal: 272ms\tremaining: 793ms\n",
      "255:\tlearn: 0.2015988\ttotal: 272ms\tremaining: 792ms\n",
      "256:\tlearn: 0.2010642\ttotal: 273ms\tremaining: 791ms\n",
      "257:\tlearn: 0.2006218\ttotal: 274ms\tremaining: 789ms\n",
      "258:\tlearn: 0.2002045\ttotal: 275ms\tremaining: 788ms\n",
      "259:\tlearn: 0.1996205\ttotal: 276ms\tremaining: 786ms\n",
      "260:\tlearn: 0.1990998\ttotal: 277ms\tremaining: 784ms\n",
      "261:\tlearn: 0.1985990\ttotal: 278ms\tremaining: 782ms\n",
      "262:\tlearn: 0.1981367\ttotal: 278ms\tremaining: 780ms\n",
      "263:\tlearn: 0.1977105\ttotal: 280ms\tremaining: 779ms\n",
      "264:\tlearn: 0.1972736\ttotal: 280ms\tremaining: 778ms\n",
      "265:\tlearn: 0.1967590\ttotal: 281ms\tremaining: 776ms\n",
      "266:\tlearn: 0.1966025\ttotal: 282ms\tremaining: 775ms\n",
      "267:\tlearn: 0.1961759\ttotal: 283ms\tremaining: 774ms\n",
      "268:\tlearn: 0.1960603\ttotal: 284ms\tremaining: 772ms\n",
      "269:\tlearn: 0.1956054\ttotal: 285ms\tremaining: 771ms\n",
      "270:\tlearn: 0.1952907\ttotal: 286ms\tremaining: 769ms\n",
      "271:\tlearn: 0.1947141\ttotal: 287ms\tremaining: 768ms\n",
      "272:\tlearn: 0.1942867\ttotal: 288ms\tremaining: 766ms\n",
      "273:\tlearn: 0.1940062\ttotal: 289ms\tremaining: 765ms\n",
      "274:\tlearn: 0.1935465\ttotal: 289ms\tremaining: 763ms\n",
      "275:\tlearn: 0.1929318\ttotal: 290ms\tremaining: 761ms\n",
      "276:\tlearn: 0.1923406\ttotal: 291ms\tremaining: 760ms\n",
      "277:\tlearn: 0.1921021\ttotal: 292ms\tremaining: 758ms\n",
      "278:\tlearn: 0.1916090\ttotal: 293ms\tremaining: 757ms\n",
      "279:\tlearn: 0.1910672\ttotal: 294ms\tremaining: 756ms\n",
      "280:\tlearn: 0.1906082\ttotal: 295ms\tremaining: 754ms\n",
      "281:\tlearn: 0.1901712\ttotal: 295ms\tremaining: 752ms\n",
      "282:\tlearn: 0.1895579\ttotal: 296ms\tremaining: 751ms\n",
      "283:\tlearn: 0.1891721\ttotal: 297ms\tremaining: 749ms\n",
      "284:\tlearn: 0.1890419\ttotal: 298ms\tremaining: 748ms\n",
      "285:\tlearn: 0.1885833\ttotal: 299ms\tremaining: 747ms\n"
     ]
    },
    {
     "name": "stdout",
     "output_type": "stream",
     "text": [
      "286:\tlearn: 0.1882279\ttotal: 300ms\tremaining: 745ms\n",
      "287:\tlearn: 0.1878116\ttotal: 301ms\tremaining: 745ms\n",
      "288:\tlearn: 0.1873595\ttotal: 302ms\tremaining: 743ms\n",
      "289:\tlearn: 0.1867899\ttotal: 303ms\tremaining: 741ms\n",
      "290:\tlearn: 0.1860254\ttotal: 304ms\tremaining: 740ms\n",
      "291:\tlearn: 0.1855507\ttotal: 304ms\tremaining: 738ms\n",
      "292:\tlearn: 0.1852456\ttotal: 305ms\tremaining: 736ms\n",
      "293:\tlearn: 0.1847365\ttotal: 306ms\tremaining: 735ms\n",
      "294:\tlearn: 0.1842431\ttotal: 307ms\tremaining: 734ms\n",
      "295:\tlearn: 0.1840132\ttotal: 308ms\tremaining: 732ms\n",
      "296:\tlearn: 0.1838145\ttotal: 309ms\tremaining: 731ms\n",
      "297:\tlearn: 0.1833564\ttotal: 309ms\tremaining: 729ms\n",
      "298:\tlearn: 0.1827838\ttotal: 310ms\tremaining: 727ms\n",
      "299:\tlearn: 0.1821464\ttotal: 311ms\tremaining: 726ms\n",
      "300:\tlearn: 0.1817130\ttotal: 312ms\tremaining: 725ms\n",
      "301:\tlearn: 0.1810832\ttotal: 313ms\tremaining: 723ms\n",
      "302:\tlearn: 0.1806565\ttotal: 314ms\tremaining: 722ms\n",
      "303:\tlearn: 0.1804408\ttotal: 315ms\tremaining: 720ms\n",
      "304:\tlearn: 0.1801940\ttotal: 316ms\tremaining: 719ms\n",
      "305:\tlearn: 0.1798796\ttotal: 316ms\tremaining: 718ms\n",
      "306:\tlearn: 0.1793733\ttotal: 317ms\tremaining: 716ms\n",
      "307:\tlearn: 0.1789767\ttotal: 318ms\tremaining: 715ms\n",
      "308:\tlearn: 0.1785690\ttotal: 319ms\tremaining: 713ms\n",
      "309:\tlearn: 0.1781292\ttotal: 320ms\tremaining: 712ms\n",
      "310:\tlearn: 0.1776032\ttotal: 321ms\tremaining: 710ms\n",
      "311:\tlearn: 0.1771274\ttotal: 321ms\tremaining: 709ms\n",
      "312:\tlearn: 0.1766999\ttotal: 322ms\tremaining: 707ms\n",
      "313:\tlearn: 0.1764050\ttotal: 323ms\tremaining: 706ms\n",
      "314:\tlearn: 0.1760983\ttotal: 324ms\tremaining: 704ms\n",
      "315:\tlearn: 0.1755908\ttotal: 325ms\tremaining: 703ms\n",
      "316:\tlearn: 0.1751207\ttotal: 325ms\tremaining: 701ms\n",
      "317:\tlearn: 0.1747677\ttotal: 326ms\tremaining: 700ms\n",
      "318:\tlearn: 0.1743008\ttotal: 327ms\tremaining: 698ms\n",
      "319:\tlearn: 0.1738825\ttotal: 328ms\tremaining: 697ms\n",
      "320:\tlearn: 0.1735237\ttotal: 329ms\tremaining: 695ms\n",
      "321:\tlearn: 0.1731183\ttotal: 330ms\tremaining: 695ms\n",
      "322:\tlearn: 0.1727041\ttotal: 331ms\tremaining: 694ms\n",
      "323:\tlearn: 0.1724387\ttotal: 332ms\tremaining: 692ms\n",
      "324:\tlearn: 0.1721555\ttotal: 333ms\tremaining: 691ms\n",
      "325:\tlearn: 0.1717287\ttotal: 334ms\tremaining: 690ms\n",
      "326:\tlearn: 0.1713333\ttotal: 334ms\tremaining: 688ms\n",
      "327:\tlearn: 0.1710115\ttotal: 335ms\tremaining: 687ms\n",
      "328:\tlearn: 0.1707131\ttotal: 336ms\tremaining: 685ms\n",
      "329:\tlearn: 0.1705856\ttotal: 337ms\tremaining: 684ms\n",
      "330:\tlearn: 0.1702372\ttotal: 338ms\tremaining: 683ms\n",
      "331:\tlearn: 0.1700618\ttotal: 339ms\tremaining: 681ms\n",
      "332:\tlearn: 0.1698064\ttotal: 339ms\tremaining: 680ms\n",
      "333:\tlearn: 0.1694302\ttotal: 340ms\tremaining: 679ms\n",
      "334:\tlearn: 0.1691529\ttotal: 341ms\tremaining: 677ms\n",
      "335:\tlearn: 0.1689523\ttotal: 342ms\tremaining: 676ms\n",
      "336:\tlearn: 0.1684466\ttotal: 343ms\tremaining: 674ms\n",
      "337:\tlearn: 0.1679934\ttotal: 344ms\tremaining: 673ms\n",
      "338:\tlearn: 0.1675020\ttotal: 345ms\tremaining: 672ms\n",
      "339:\tlearn: 0.1673280\ttotal: 345ms\tremaining: 670ms\n",
      "340:\tlearn: 0.1671269\ttotal: 346ms\tremaining: 669ms\n",
      "341:\tlearn: 0.1667930\ttotal: 347ms\tremaining: 667ms\n",
      "342:\tlearn: 0.1664720\ttotal: 348ms\tremaining: 666ms\n",
      "343:\tlearn: 0.1660248\ttotal: 348ms\tremaining: 664ms\n",
      "344:\tlearn: 0.1655591\ttotal: 349ms\tremaining: 663ms\n",
      "345:\tlearn: 0.1653617\ttotal: 350ms\tremaining: 662ms\n",
      "346:\tlearn: 0.1650439\ttotal: 351ms\tremaining: 660ms\n",
      "347:\tlearn: 0.1647829\ttotal: 352ms\tremaining: 659ms\n",
      "348:\tlearn: 0.1646230\ttotal: 352ms\tremaining: 657ms\n",
      "349:\tlearn: 0.1644112\ttotal: 353ms\tremaining: 656ms\n",
      "350:\tlearn: 0.1640177\ttotal: 354ms\tremaining: 654ms\n",
      "351:\tlearn: 0.1638214\ttotal: 355ms\tremaining: 653ms\n",
      "352:\tlearn: 0.1633899\ttotal: 355ms\tremaining: 651ms\n",
      "353:\tlearn: 0.1630072\ttotal: 356ms\tremaining: 650ms\n",
      "354:\tlearn: 0.1626706\ttotal: 357ms\tremaining: 649ms\n",
      "355:\tlearn: 0.1623583\ttotal: 358ms\tremaining: 648ms\n",
      "356:\tlearn: 0.1620305\ttotal: 359ms\tremaining: 646ms\n",
      "357:\tlearn: 0.1618239\ttotal: 360ms\tremaining: 645ms\n",
      "358:\tlearn: 0.1616485\ttotal: 361ms\tremaining: 644ms\n",
      "359:\tlearn: 0.1613648\ttotal: 361ms\tremaining: 642ms\n",
      "360:\tlearn: 0.1611667\ttotal: 362ms\tremaining: 641ms\n",
      "361:\tlearn: 0.1607235\ttotal: 363ms\tremaining: 639ms\n",
      "362:\tlearn: 0.1604875\ttotal: 364ms\tremaining: 638ms\n",
      "363:\tlearn: 0.1601542\ttotal: 364ms\tremaining: 637ms\n",
      "364:\tlearn: 0.1598173\ttotal: 365ms\tremaining: 635ms\n",
      "365:\tlearn: 0.1593722\ttotal: 366ms\tremaining: 634ms\n",
      "366:\tlearn: 0.1590261\ttotal: 367ms\tremaining: 633ms\n",
      "367:\tlearn: 0.1588385\ttotal: 368ms\tremaining: 631ms\n",
      "368:\tlearn: 0.1583549\ttotal: 368ms\tremaining: 630ms\n",
      "369:\tlearn: 0.1581169\ttotal: 369ms\tremaining: 629ms\n",
      "370:\tlearn: 0.1578977\ttotal: 370ms\tremaining: 627ms\n",
      "371:\tlearn: 0.1576011\ttotal: 371ms\tremaining: 626ms\n",
      "372:\tlearn: 0.1571726\ttotal: 372ms\tremaining: 625ms\n",
      "373:\tlearn: 0.1567906\ttotal: 373ms\tremaining: 624ms\n",
      "374:\tlearn: 0.1564970\ttotal: 374ms\tremaining: 623ms\n",
      "375:\tlearn: 0.1559983\ttotal: 374ms\tremaining: 621ms\n",
      "376:\tlearn: 0.1557584\ttotal: 376ms\tremaining: 621ms\n",
      "377:\tlearn: 0.1556024\ttotal: 377ms\tremaining: 620ms\n",
      "378:\tlearn: 0.1552749\ttotal: 378ms\tremaining: 619ms\n",
      "379:\tlearn: 0.1551757\ttotal: 379ms\tremaining: 618ms\n",
      "380:\tlearn: 0.1547567\ttotal: 379ms\tremaining: 616ms\n",
      "381:\tlearn: 0.1544543\ttotal: 380ms\tremaining: 615ms\n",
      "382:\tlearn: 0.1540866\ttotal: 381ms\tremaining: 614ms\n",
      "383:\tlearn: 0.1537518\ttotal: 382ms\tremaining: 613ms\n"
     ]
    },
    {
     "name": "stdout",
     "output_type": "stream",
     "text": [
      "384:\tlearn: 0.1534964\ttotal: 383ms\tremaining: 612ms\n",
      "385:\tlearn: 0.1533638\ttotal: 384ms\tremaining: 611ms\n",
      "386:\tlearn: 0.1530746\ttotal: 385ms\tremaining: 609ms\n",
      "387:\tlearn: 0.1528607\ttotal: 385ms\tremaining: 608ms\n",
      "388:\tlearn: 0.1526760\ttotal: 386ms\tremaining: 607ms\n",
      "389:\tlearn: 0.1523979\ttotal: 387ms\tremaining: 605ms\n",
      "390:\tlearn: 0.1520813\ttotal: 388ms\tremaining: 604ms\n",
      "391:\tlearn: 0.1519104\ttotal: 389ms\tremaining: 603ms\n",
      "392:\tlearn: 0.1517436\ttotal: 389ms\tremaining: 602ms\n",
      "393:\tlearn: 0.1514697\ttotal: 390ms\tremaining: 600ms\n",
      "394:\tlearn: 0.1513104\ttotal: 391ms\tremaining: 599ms\n",
      "395:\tlearn: 0.1510952\ttotal: 392ms\tremaining: 598ms\n",
      "396:\tlearn: 0.1509333\ttotal: 393ms\tremaining: 597ms\n",
      "397:\tlearn: 0.1508053\ttotal: 394ms\tremaining: 595ms\n",
      "398:\tlearn: 0.1506281\ttotal: 394ms\tremaining: 594ms\n",
      "399:\tlearn: 0.1502467\ttotal: 395ms\tremaining: 593ms\n",
      "400:\tlearn: 0.1501649\ttotal: 396ms\tremaining: 592ms\n",
      "401:\tlearn: 0.1497898\ttotal: 397ms\tremaining: 590ms\n",
      "402:\tlearn: 0.1495474\ttotal: 398ms\tremaining: 589ms\n",
      "403:\tlearn: 0.1491320\ttotal: 399ms\tremaining: 588ms\n",
      "404:\tlearn: 0.1489894\ttotal: 400ms\tremaining: 587ms\n",
      "405:\tlearn: 0.1487422\ttotal: 401ms\tremaining: 586ms\n",
      "406:\tlearn: 0.1486911\ttotal: 401ms\tremaining: 585ms\n",
      "407:\tlearn: 0.1484996\ttotal: 402ms\tremaining: 584ms\n",
      "408:\tlearn: 0.1481012\ttotal: 403ms\tremaining: 583ms\n",
      "409:\tlearn: 0.1476819\ttotal: 404ms\tremaining: 581ms\n",
      "410:\tlearn: 0.1472693\ttotal: 405ms\tremaining: 580ms\n",
      "411:\tlearn: 0.1469713\ttotal: 406ms\tremaining: 579ms\n",
      "412:\tlearn: 0.1466141\ttotal: 407ms\tremaining: 578ms\n",
      "413:\tlearn: 0.1464771\ttotal: 407ms\tremaining: 577ms\n",
      "414:\tlearn: 0.1462966\ttotal: 408ms\tremaining: 575ms\n",
      "415:\tlearn: 0.1461348\ttotal: 409ms\tremaining: 574ms\n",
      "416:\tlearn: 0.1460845\ttotal: 410ms\tremaining: 573ms\n",
      "417:\tlearn: 0.1460134\ttotal: 411ms\tremaining: 572ms\n",
      "418:\tlearn: 0.1458941\ttotal: 412ms\tremaining: 572ms\n",
      "419:\tlearn: 0.1454055\ttotal: 413ms\tremaining: 571ms\n",
      "420:\tlearn: 0.1451788\ttotal: 414ms\tremaining: 569ms\n",
      "421:\tlearn: 0.1449236\ttotal: 415ms\tremaining: 568ms\n",
      "422:\tlearn: 0.1446574\ttotal: 416ms\tremaining: 567ms\n",
      "423:\tlearn: 0.1445501\ttotal: 416ms\tremaining: 566ms\n",
      "424:\tlearn: 0.1444810\ttotal: 417ms\tremaining: 564ms\n",
      "425:\tlearn: 0.1444075\ttotal: 418ms\tremaining: 563ms\n",
      "426:\tlearn: 0.1443218\ttotal: 419ms\tremaining: 562ms\n",
      "427:\tlearn: 0.1439696\ttotal: 419ms\tremaining: 561ms\n",
      "428:\tlearn: 0.1436566\ttotal: 420ms\tremaining: 559ms\n",
      "429:\tlearn: 0.1434645\ttotal: 421ms\tremaining: 558ms\n",
      "430:\tlearn: 0.1431897\ttotal: 422ms\tremaining: 557ms\n",
      "431:\tlearn: 0.1429114\ttotal: 423ms\tremaining: 556ms\n",
      "432:\tlearn: 0.1424612\ttotal: 423ms\tremaining: 554ms\n",
      "433:\tlearn: 0.1421695\ttotal: 424ms\tremaining: 553ms\n",
      "434:\tlearn: 0.1417053\ttotal: 425ms\tremaining: 552ms\n",
      "435:\tlearn: 0.1414502\ttotal: 426ms\tremaining: 551ms\n",
      "436:\tlearn: 0.1411735\ttotal: 427ms\tremaining: 550ms\n",
      "437:\tlearn: 0.1409027\ttotal: 427ms\tremaining: 548ms\n",
      "438:\tlearn: 0.1406791\ttotal: 428ms\tremaining: 547ms\n",
      "439:\tlearn: 0.1404853\ttotal: 429ms\tremaining: 546ms\n",
      "440:\tlearn: 0.1402257\ttotal: 430ms\tremaining: 545ms\n",
      "441:\tlearn: 0.1398590\ttotal: 431ms\tremaining: 544ms\n",
      "442:\tlearn: 0.1395699\ttotal: 432ms\tremaining: 543ms\n",
      "443:\tlearn: 0.1395158\ttotal: 432ms\tremaining: 541ms\n",
      "444:\tlearn: 0.1393798\ttotal: 433ms\tremaining: 540ms\n",
      "445:\tlearn: 0.1390904\ttotal: 434ms\tremaining: 539ms\n",
      "446:\tlearn: 0.1390059\ttotal: 435ms\tremaining: 538ms\n",
      "447:\tlearn: 0.1387165\ttotal: 436ms\tremaining: 537ms\n",
      "448:\tlearn: 0.1384468\ttotal: 437ms\tremaining: 536ms\n",
      "449:\tlearn: 0.1380108\ttotal: 438ms\tremaining: 535ms\n",
      "450:\tlearn: 0.1378370\ttotal: 439ms\tremaining: 534ms\n",
      "451:\tlearn: 0.1375583\ttotal: 440ms\tremaining: 533ms\n",
      "452:\tlearn: 0.1372458\ttotal: 440ms\tremaining: 532ms\n",
      "453:\tlearn: 0.1370344\ttotal: 441ms\tremaining: 531ms\n",
      "454:\tlearn: 0.1368340\ttotal: 442ms\tremaining: 530ms\n",
      "455:\tlearn: 0.1364502\ttotal: 443ms\tremaining: 529ms\n",
      "456:\tlearn: 0.1361357\ttotal: 444ms\tremaining: 528ms\n",
      "457:\tlearn: 0.1360018\ttotal: 445ms\tremaining: 527ms\n",
      "458:\tlearn: 0.1357865\ttotal: 446ms\tremaining: 525ms\n",
      "459:\tlearn: 0.1355603\ttotal: 447ms\tremaining: 524ms\n",
      "460:\tlearn: 0.1352433\ttotal: 447ms\tremaining: 523ms\n",
      "461:\tlearn: 0.1349703\ttotal: 448ms\tremaining: 522ms\n",
      "462:\tlearn: 0.1348428\ttotal: 449ms\tremaining: 521ms\n",
      "463:\tlearn: 0.1345020\ttotal: 450ms\tremaining: 520ms\n",
      "464:\tlearn: 0.1342231\ttotal: 451ms\tremaining: 519ms\n",
      "465:\tlearn: 0.1340671\ttotal: 451ms\tremaining: 517ms\n",
      "466:\tlearn: 0.1337908\ttotal: 452ms\tremaining: 516ms\n",
      "467:\tlearn: 0.1334236\ttotal: 453ms\tremaining: 515ms\n",
      "468:\tlearn: 0.1332887\ttotal: 454ms\tremaining: 514ms\n",
      "469:\tlearn: 0.1328895\ttotal: 455ms\tremaining: 513ms\n",
      "470:\tlearn: 0.1325247\ttotal: 456ms\tremaining: 512ms\n",
      "471:\tlearn: 0.1323419\ttotal: 457ms\tremaining: 511ms\n",
      "472:\tlearn: 0.1320662\ttotal: 458ms\tremaining: 510ms\n",
      "473:\tlearn: 0.1319062\ttotal: 459ms\tremaining: 509ms\n",
      "474:\tlearn: 0.1315997\ttotal: 460ms\tremaining: 508ms\n",
      "475:\tlearn: 0.1314130\ttotal: 460ms\tremaining: 507ms\n",
      "476:\tlearn: 0.1313042\ttotal: 461ms\tremaining: 506ms\n",
      "477:\tlearn: 0.1310141\ttotal: 462ms\tremaining: 505ms\n",
      "478:\tlearn: 0.1309084\ttotal: 463ms\tremaining: 503ms\n",
      "479:\tlearn: 0.1306552\ttotal: 464ms\tremaining: 502ms\n",
      "480:\tlearn: 0.1304993\ttotal: 465ms\tremaining: 501ms\n",
      "481:\tlearn: 0.1302804\ttotal: 465ms\tremaining: 500ms\n",
      "482:\tlearn: 0.1299305\ttotal: 466ms\tremaining: 499ms\n",
      "483:\tlearn: 0.1296904\ttotal: 467ms\tremaining: 498ms\n",
      "484:\tlearn: 0.1294575\ttotal: 468ms\tremaining: 497ms\n",
      "485:\tlearn: 0.1290980\ttotal: 469ms\tremaining: 496ms\n",
      "486:\tlearn: 0.1288108\ttotal: 469ms\tremaining: 494ms\n",
      "487:\tlearn: 0.1287625\ttotal: 470ms\tremaining: 493ms\n",
      "488:\tlearn: 0.1286107\ttotal: 471ms\tremaining: 492ms\n",
      "489:\tlearn: 0.1284624\ttotal: 472ms\tremaining: 491ms\n",
      "490:\tlearn: 0.1280285\ttotal: 473ms\tremaining: 490ms\n",
      "491:\tlearn: 0.1279658\ttotal: 473ms\tremaining: 489ms\n",
      "492:\tlearn: 0.1278963\ttotal: 474ms\tremaining: 488ms\n",
      "493:\tlearn: 0.1275708\ttotal: 475ms\tremaining: 487ms\n",
      "494:\tlearn: 0.1273483\ttotal: 476ms\tremaining: 485ms\n",
      "495:\tlearn: 0.1273095\ttotal: 477ms\tremaining: 485ms\n",
      "496:\tlearn: 0.1270681\ttotal: 478ms\tremaining: 484ms\n",
      "497:\tlearn: 0.1268539\ttotal: 479ms\tremaining: 483ms\n",
      "498:\tlearn: 0.1268141\ttotal: 480ms\tremaining: 482ms\n",
      "499:\tlearn: 0.1267698\ttotal: 481ms\tremaining: 481ms\n",
      "500:\tlearn: 0.1265464\ttotal: 481ms\tremaining: 479ms\n",
      "501:\tlearn: 0.1263292\ttotal: 482ms\tremaining: 478ms\n",
      "502:\tlearn: 0.1261239\ttotal: 483ms\tremaining: 477ms\n",
      "503:\tlearn: 0.1258048\ttotal: 484ms\tremaining: 476ms\n",
      "504:\tlearn: 0.1256286\ttotal: 485ms\tremaining: 475ms\n",
      "505:\tlearn: 0.1252818\ttotal: 485ms\tremaining: 474ms\n",
      "506:\tlearn: 0.1250849\ttotal: 486ms\tremaining: 473ms\n",
      "507:\tlearn: 0.1248983\ttotal: 487ms\tremaining: 472ms\n",
      "508:\tlearn: 0.1247037\ttotal: 488ms\tremaining: 470ms\n",
      "509:\tlearn: 0.1244285\ttotal: 488ms\tremaining: 469ms\n",
      "510:\tlearn: 0.1242773\ttotal: 489ms\tremaining: 468ms\n"
     ]
    },
    {
     "name": "stdout",
     "output_type": "stream",
     "text": [
      "511:\tlearn: 0.1241270\ttotal: 490ms\tremaining: 467ms\n",
      "512:\tlearn: 0.1239431\ttotal: 491ms\tremaining: 466ms\n",
      "513:\tlearn: 0.1238024\ttotal: 492ms\tremaining: 465ms\n",
      "514:\tlearn: 0.1234950\ttotal: 493ms\tremaining: 464ms\n",
      "515:\tlearn: 0.1232471\ttotal: 493ms\tremaining: 463ms\n",
      "516:\tlearn: 0.1229844\ttotal: 494ms\tremaining: 462ms\n",
      "517:\tlearn: 0.1227183\ttotal: 495ms\tremaining: 461ms\n",
      "518:\tlearn: 0.1225580\ttotal: 496ms\tremaining: 460ms\n",
      "519:\tlearn: 0.1222703\ttotal: 497ms\tremaining: 459ms\n",
      "520:\tlearn: 0.1221434\ttotal: 498ms\tremaining: 458ms\n",
      "521:\tlearn: 0.1218449\ttotal: 499ms\tremaining: 457ms\n",
      "522:\tlearn: 0.1215674\ttotal: 499ms\tremaining: 456ms\n",
      "523:\tlearn: 0.1213261\ttotal: 500ms\tremaining: 454ms\n",
      "524:\tlearn: 0.1212545\ttotal: 501ms\tremaining: 453ms\n",
      "525:\tlearn: 0.1208706\ttotal: 502ms\tremaining: 452ms\n",
      "526:\tlearn: 0.1206778\ttotal: 502ms\tremaining: 451ms\n",
      "527:\tlearn: 0.1203835\ttotal: 503ms\tremaining: 450ms\n",
      "528:\tlearn: 0.1202316\ttotal: 504ms\tremaining: 449ms\n",
      "529:\tlearn: 0.1200346\ttotal: 505ms\tremaining: 448ms\n",
      "530:\tlearn: 0.1196923\ttotal: 506ms\tremaining: 447ms\n",
      "531:\tlearn: 0.1194691\ttotal: 507ms\tremaining: 446ms\n",
      "532:\tlearn: 0.1194143\ttotal: 507ms\tremaining: 444ms\n",
      "533:\tlearn: 0.1192539\ttotal: 508ms\tremaining: 443ms\n",
      "534:\tlearn: 0.1191882\ttotal: 509ms\tremaining: 442ms\n",
      "535:\tlearn: 0.1189603\ttotal: 510ms\tremaining: 441ms\n",
      "536:\tlearn: 0.1187159\ttotal: 510ms\tremaining: 440ms\n",
      "537:\tlearn: 0.1183938\ttotal: 511ms\tremaining: 439ms\n",
      "538:\tlearn: 0.1182662\ttotal: 513ms\tremaining: 439ms\n",
      "539:\tlearn: 0.1182326\ttotal: 514ms\tremaining: 437ms\n",
      "540:\tlearn: 0.1181692\ttotal: 514ms\tremaining: 436ms\n",
      "541:\tlearn: 0.1178090\ttotal: 515ms\tremaining: 435ms\n",
      "542:\tlearn: 0.1177399\ttotal: 516ms\tremaining: 434ms\n",
      "543:\tlearn: 0.1175414\ttotal: 517ms\tremaining: 433ms\n",
      "544:\tlearn: 0.1173073\ttotal: 518ms\tremaining: 432ms\n",
      "545:\tlearn: 0.1169821\ttotal: 518ms\tremaining: 431ms\n",
      "546:\tlearn: 0.1169450\ttotal: 519ms\tremaining: 430ms\n",
      "547:\tlearn: 0.1168719\ttotal: 520ms\tremaining: 429ms\n",
      "548:\tlearn: 0.1166253\ttotal: 521ms\tremaining: 428ms\n",
      "549:\tlearn: 0.1163124\ttotal: 522ms\tremaining: 427ms\n",
      "550:\tlearn: 0.1161265\ttotal: 523ms\tremaining: 426ms\n",
      "551:\tlearn: 0.1160229\ttotal: 523ms\tremaining: 425ms\n",
      "552:\tlearn: 0.1159245\ttotal: 524ms\tremaining: 424ms\n",
      "553:\tlearn: 0.1156582\ttotal: 525ms\tremaining: 423ms\n",
      "554:\tlearn: 0.1154183\ttotal: 526ms\tremaining: 422ms\n",
      "555:\tlearn: 0.1151497\ttotal: 527ms\tremaining: 421ms\n",
      "556:\tlearn: 0.1149287\ttotal: 528ms\tremaining: 420ms\n",
      "557:\tlearn: 0.1147392\ttotal: 528ms\tremaining: 418ms\n",
      "558:\tlearn: 0.1145932\ttotal: 529ms\tremaining: 417ms\n",
      "559:\tlearn: 0.1144326\ttotal: 530ms\tremaining: 416ms\n",
      "560:\tlearn: 0.1141858\ttotal: 531ms\tremaining: 415ms\n",
      "561:\tlearn: 0.1139068\ttotal: 532ms\tremaining: 414ms\n",
      "562:\tlearn: 0.1136983\ttotal: 533ms\tremaining: 413ms\n",
      "563:\tlearn: 0.1136027\ttotal: 533ms\tremaining: 412ms\n",
      "564:\tlearn: 0.1134455\ttotal: 534ms\tremaining: 411ms\n",
      "565:\tlearn: 0.1134226\ttotal: 535ms\tremaining: 410ms\n",
      "566:\tlearn: 0.1131093\ttotal: 536ms\tremaining: 409ms\n",
      "567:\tlearn: 0.1128469\ttotal: 537ms\tremaining: 408ms\n",
      "568:\tlearn: 0.1126939\ttotal: 538ms\tremaining: 407ms\n",
      "569:\tlearn: 0.1124631\ttotal: 538ms\tremaining: 406ms\n",
      "570:\tlearn: 0.1121832\ttotal: 539ms\tremaining: 405ms\n",
      "571:\tlearn: 0.1121207\ttotal: 540ms\tremaining: 404ms\n",
      "572:\tlearn: 0.1119927\ttotal: 541ms\tremaining: 403ms\n",
      "573:\tlearn: 0.1117671\ttotal: 542ms\tremaining: 402ms\n",
      "574:\tlearn: 0.1115119\ttotal: 542ms\tremaining: 401ms\n",
      "575:\tlearn: 0.1113995\ttotal: 543ms\tremaining: 400ms\n",
      "576:\tlearn: 0.1111430\ttotal: 544ms\tremaining: 399ms\n",
      "577:\tlearn: 0.1109256\ttotal: 545ms\tremaining: 398ms\n",
      "578:\tlearn: 0.1106036\ttotal: 546ms\tremaining: 397ms\n",
      "579:\tlearn: 0.1104194\ttotal: 546ms\tremaining: 396ms\n",
      "580:\tlearn: 0.1103647\ttotal: 547ms\tremaining: 395ms\n",
      "581:\tlearn: 0.1100972\ttotal: 548ms\tremaining: 394ms\n",
      "582:\tlearn: 0.1099608\ttotal: 549ms\tremaining: 392ms\n",
      "583:\tlearn: 0.1096812\ttotal: 549ms\tremaining: 391ms\n",
      "584:\tlearn: 0.1095099\ttotal: 550ms\tremaining: 390ms\n",
      "585:\tlearn: 0.1092432\ttotal: 551ms\tremaining: 389ms\n",
      "586:\tlearn: 0.1091560\ttotal: 552ms\tremaining: 388ms\n",
      "587:\tlearn: 0.1089827\ttotal: 553ms\tremaining: 387ms\n",
      "588:\tlearn: 0.1086796\ttotal: 553ms\tremaining: 386ms\n",
      "589:\tlearn: 0.1085164\ttotal: 554ms\tremaining: 385ms\n",
      "590:\tlearn: 0.1083742\ttotal: 555ms\tremaining: 384ms\n",
      "591:\tlearn: 0.1082904\ttotal: 556ms\tremaining: 383ms\n",
      "592:\tlearn: 0.1080388\ttotal: 557ms\tremaining: 382ms\n",
      "593:\tlearn: 0.1079097\ttotal: 558ms\tremaining: 381ms\n",
      "594:\tlearn: 0.1078639\ttotal: 559ms\tremaining: 380ms\n",
      "595:\tlearn: 0.1077071\ttotal: 560ms\tremaining: 379ms\n",
      "596:\tlearn: 0.1074747\ttotal: 560ms\tremaining: 378ms\n",
      "597:\tlearn: 0.1073557\ttotal: 561ms\tremaining: 377ms\n",
      "598:\tlearn: 0.1071645\ttotal: 562ms\tremaining: 376ms\n",
      "599:\tlearn: 0.1069199\ttotal: 563ms\tremaining: 375ms\n",
      "600:\tlearn: 0.1066725\ttotal: 564ms\tremaining: 374ms\n",
      "601:\tlearn: 0.1065314\ttotal: 565ms\tremaining: 373ms\n",
      "602:\tlearn: 0.1064694\ttotal: 566ms\tremaining: 372ms\n",
      "603:\tlearn: 0.1062158\ttotal: 566ms\tremaining: 371ms\n",
      "604:\tlearn: 0.1059589\ttotal: 567ms\tremaining: 370ms\n",
      "605:\tlearn: 0.1058222\ttotal: 568ms\tremaining: 369ms\n",
      "606:\tlearn: 0.1056411\ttotal: 569ms\tremaining: 368ms\n",
      "607:\tlearn: 0.1054469\ttotal: 570ms\tremaining: 367ms\n",
      "608:\tlearn: 0.1052019\ttotal: 571ms\tremaining: 366ms\n",
      "609:\tlearn: 0.1051753\ttotal: 571ms\tremaining: 365ms\n",
      "610:\tlearn: 0.1050320\ttotal: 572ms\tremaining: 364ms\n"
     ]
    },
    {
     "name": "stdout",
     "output_type": "stream",
     "text": [
      "611:\tlearn: 0.1048034\ttotal: 573ms\tremaining: 363ms\n",
      "612:\tlearn: 0.1045573\ttotal: 574ms\tremaining: 362ms\n",
      "613:\tlearn: 0.1045388\ttotal: 575ms\tremaining: 361ms\n",
      "614:\tlearn: 0.1042929\ttotal: 576ms\tremaining: 360ms\n",
      "615:\tlearn: 0.1041296\ttotal: 577ms\tremaining: 359ms\n",
      "616:\tlearn: 0.1039193\ttotal: 578ms\tremaining: 359ms\n",
      "617:\tlearn: 0.1038947\ttotal: 578ms\tremaining: 357ms\n",
      "618:\tlearn: 0.1036646\ttotal: 579ms\tremaining: 356ms\n",
      "619:\tlearn: 0.1034929\ttotal: 580ms\tremaining: 356ms\n",
      "620:\tlearn: 0.1034769\ttotal: 581ms\tremaining: 354ms\n",
      "621:\tlearn: 0.1034082\ttotal: 582ms\tremaining: 353ms\n",
      "622:\tlearn: 0.1031856\ttotal: 583ms\tremaining: 353ms\n",
      "623:\tlearn: 0.1029577\ttotal: 583ms\tremaining: 352ms\n",
      "624:\tlearn: 0.1027290\ttotal: 584ms\tremaining: 351ms\n",
      "625:\tlearn: 0.1027121\ttotal: 585ms\tremaining: 350ms\n",
      "626:\tlearn: 0.1026877\ttotal: 586ms\tremaining: 349ms\n",
      "627:\tlearn: 0.1024358\ttotal: 587ms\tremaining: 348ms\n",
      "628:\tlearn: 0.1023615\ttotal: 587ms\tremaining: 346ms\n",
      "629:\tlearn: 0.1021734\ttotal: 588ms\tremaining: 346ms\n",
      "630:\tlearn: 0.1019728\ttotal: 589ms\tremaining: 344ms\n",
      "631:\tlearn: 0.1017453\ttotal: 590ms\tremaining: 343ms\n",
      "632:\tlearn: 0.1015146\ttotal: 591ms\tremaining: 342ms\n",
      "633:\tlearn: 0.1012481\ttotal: 591ms\tremaining: 341ms\n",
      "634:\tlearn: 0.1012332\ttotal: 592ms\tremaining: 340ms\n",
      "635:\tlearn: 0.1011043\ttotal: 593ms\tremaining: 340ms\n",
      "636:\tlearn: 0.1010331\ttotal: 594ms\tremaining: 339ms\n",
      "637:\tlearn: 0.1008016\ttotal: 595ms\tremaining: 337ms\n",
      "638:\tlearn: 0.1005667\ttotal: 596ms\tremaining: 336ms\n",
      "639:\tlearn: 0.1004084\ttotal: 597ms\tremaining: 336ms\n",
      "640:\tlearn: 0.1002528\ttotal: 598ms\tremaining: 335ms\n",
      "641:\tlearn: 0.1002008\ttotal: 598ms\tremaining: 334ms\n",
      "642:\tlearn: 0.1000120\ttotal: 599ms\tremaining: 333ms\n",
      "643:\tlearn: 0.0998344\ttotal: 600ms\tremaining: 332ms\n",
      "644:\tlearn: 0.0996074\ttotal: 601ms\tremaining: 331ms\n",
      "645:\tlearn: 0.0993855\ttotal: 602ms\tremaining: 330ms\n",
      "646:\tlearn: 0.0993193\ttotal: 603ms\tremaining: 329ms\n",
      "647:\tlearn: 0.0990612\ttotal: 603ms\tremaining: 328ms\n",
      "648:\tlearn: 0.0988808\ttotal: 604ms\tremaining: 327ms\n",
      "649:\tlearn: 0.0986583\ttotal: 605ms\tremaining: 326ms\n",
      "650:\tlearn: 0.0984628\ttotal: 606ms\tremaining: 325ms\n",
      "651:\tlearn: 0.0982254\ttotal: 607ms\tremaining: 324ms\n",
      "652:\tlearn: 0.0979680\ttotal: 607ms\tremaining: 323ms\n",
      "653:\tlearn: 0.0978364\ttotal: 608ms\tremaining: 322ms\n",
      "654:\tlearn: 0.0976022\ttotal: 609ms\tremaining: 321ms\n",
      "655:\tlearn: 0.0973310\ttotal: 610ms\tremaining: 320ms\n",
      "656:\tlearn: 0.0972134\ttotal: 610ms\tremaining: 319ms\n",
      "657:\tlearn: 0.0970989\ttotal: 611ms\tremaining: 318ms\n",
      "658:\tlearn: 0.0968429\ttotal: 612ms\tremaining: 317ms\n",
      "659:\tlearn: 0.0967272\ttotal: 613ms\tremaining: 316ms\n",
      "660:\tlearn: 0.0966669\ttotal: 614ms\tremaining: 315ms\n",
      "661:\tlearn: 0.0966028\ttotal: 615ms\tremaining: 314ms\n",
      "662:\tlearn: 0.0964550\ttotal: 615ms\tremaining: 313ms\n",
      "663:\tlearn: 0.0964043\ttotal: 616ms\tremaining: 312ms\n",
      "664:\tlearn: 0.0963486\ttotal: 617ms\tremaining: 311ms\n",
      "665:\tlearn: 0.0960778\ttotal: 618ms\tremaining: 310ms\n",
      "666:\tlearn: 0.0959028\ttotal: 619ms\tremaining: 309ms\n",
      "667:\tlearn: 0.0957684\ttotal: 620ms\tremaining: 308ms\n",
      "668:\tlearn: 0.0956090\ttotal: 620ms\tremaining: 307ms\n",
      "669:\tlearn: 0.0953917\ttotal: 621ms\tremaining: 306ms\n",
      "670:\tlearn: 0.0952398\ttotal: 622ms\tremaining: 305ms\n",
      "671:\tlearn: 0.0952248\ttotal: 623ms\tremaining: 304ms\n",
      "672:\tlearn: 0.0949644\ttotal: 624ms\tremaining: 303ms\n",
      "673:\tlearn: 0.0947801\ttotal: 624ms\tremaining: 302ms\n",
      "674:\tlearn: 0.0946673\ttotal: 625ms\tremaining: 301ms\n",
      "675:\tlearn: 0.0944438\ttotal: 626ms\tremaining: 300ms\n",
      "676:\tlearn: 0.0943241\ttotal: 627ms\tremaining: 299ms\n",
      "677:\tlearn: 0.0942175\ttotal: 628ms\tremaining: 298ms\n",
      "678:\tlearn: 0.0940805\ttotal: 629ms\tremaining: 297ms\n",
      "679:\tlearn: 0.0938399\ttotal: 629ms\tremaining: 296ms\n",
      "680:\tlearn: 0.0936369\ttotal: 630ms\tremaining: 295ms\n",
      "681:\tlearn: 0.0935951\ttotal: 631ms\tremaining: 294ms\n",
      "682:\tlearn: 0.0934237\ttotal: 632ms\tremaining: 293ms\n",
      "683:\tlearn: 0.0933820\ttotal: 633ms\tremaining: 292ms\n",
      "684:\tlearn: 0.0932008\ttotal: 633ms\tremaining: 291ms\n",
      "685:\tlearn: 0.0930030\ttotal: 634ms\tremaining: 290ms\n",
      "686:\tlearn: 0.0928676\ttotal: 635ms\tremaining: 289ms\n",
      "687:\tlearn: 0.0926896\ttotal: 636ms\tremaining: 289ms\n",
      "688:\tlearn: 0.0925045\ttotal: 637ms\tremaining: 288ms\n",
      "689:\tlearn: 0.0922535\ttotal: 638ms\tremaining: 287ms\n",
      "690:\tlearn: 0.0921199\ttotal: 639ms\tremaining: 286ms\n",
      "691:\tlearn: 0.0918675\ttotal: 640ms\tremaining: 285ms\n",
      "692:\tlearn: 0.0916555\ttotal: 641ms\tremaining: 284ms\n",
      "693:\tlearn: 0.0916165\ttotal: 641ms\tremaining: 283ms\n",
      "694:\tlearn: 0.0914670\ttotal: 642ms\tremaining: 282ms\n",
      "695:\tlearn: 0.0913502\ttotal: 643ms\tremaining: 281ms\n",
      "696:\tlearn: 0.0911494\ttotal: 644ms\tremaining: 280ms\n",
      "697:\tlearn: 0.0910347\ttotal: 644ms\tremaining: 279ms\n",
      "698:\tlearn: 0.0908744\ttotal: 645ms\tremaining: 278ms\n",
      "699:\tlearn: 0.0906806\ttotal: 646ms\tremaining: 277ms\n",
      "700:\tlearn: 0.0905425\ttotal: 647ms\tremaining: 276ms\n",
      "701:\tlearn: 0.0903339\ttotal: 648ms\tremaining: 275ms\n",
      "702:\tlearn: 0.0901553\ttotal: 649ms\tremaining: 274ms\n",
      "703:\tlearn: 0.0899732\ttotal: 650ms\tremaining: 273ms\n",
      "704:\tlearn: 0.0898484\ttotal: 650ms\tremaining: 272ms\n",
      "705:\tlearn: 0.0896663\ttotal: 651ms\tremaining: 271ms\n",
      "706:\tlearn: 0.0895612\ttotal: 652ms\tremaining: 270ms\n",
      "707:\tlearn: 0.0894766\ttotal: 653ms\tremaining: 269ms\n",
      "708:\tlearn: 0.0893159\ttotal: 654ms\tremaining: 268ms\n",
      "709:\tlearn: 0.0892088\ttotal: 654ms\tremaining: 267ms\n",
      "710:\tlearn: 0.0890406\ttotal: 655ms\tremaining: 266ms\n",
      "711:\tlearn: 0.0889027\ttotal: 656ms\tremaining: 265ms\n",
      "712:\tlearn: 0.0888313\ttotal: 657ms\tremaining: 264ms\n",
      "713:\tlearn: 0.0887636\ttotal: 658ms\tremaining: 263ms\n",
      "714:\tlearn: 0.0885281\ttotal: 659ms\tremaining: 262ms\n",
      "715:\tlearn: 0.0884056\ttotal: 659ms\tremaining: 262ms\n",
      "716:\tlearn: 0.0883562\ttotal: 660ms\tremaining: 261ms\n",
      "717:\tlearn: 0.0881927\ttotal: 661ms\tremaining: 260ms\n",
      "718:\tlearn: 0.0880253\ttotal: 662ms\tremaining: 259ms\n",
      "719:\tlearn: 0.0878182\ttotal: 663ms\tremaining: 258ms\n",
      "720:\tlearn: 0.0876867\ttotal: 663ms\tremaining: 257ms\n",
      "721:\tlearn: 0.0875496\ttotal: 664ms\tremaining: 256ms\n",
      "722:\tlearn: 0.0874354\ttotal: 665ms\tremaining: 255ms\n",
      "723:\tlearn: 0.0872469\ttotal: 666ms\tremaining: 254ms\n",
      "724:\tlearn: 0.0871448\ttotal: 667ms\tremaining: 253ms\n",
      "725:\tlearn: 0.0869770\ttotal: 668ms\tremaining: 252ms\n",
      "726:\tlearn: 0.0869011\ttotal: 668ms\tremaining: 251ms\n",
      "727:\tlearn: 0.0867700\ttotal: 669ms\tremaining: 250ms\n",
      "728:\tlearn: 0.0866264\ttotal: 670ms\tremaining: 249ms\n",
      "729:\tlearn: 0.0864526\ttotal: 671ms\tremaining: 248ms\n",
      "730:\tlearn: 0.0863025\ttotal: 672ms\tremaining: 247ms\n",
      "731:\tlearn: 0.0861214\ttotal: 672ms\tremaining: 246ms\n",
      "732:\tlearn: 0.0859814\ttotal: 673ms\tremaining: 245ms\n",
      "733:\tlearn: 0.0858193\ttotal: 674ms\tremaining: 244ms\n",
      "734:\tlearn: 0.0856709\ttotal: 675ms\tremaining: 243ms\n",
      "735:\tlearn: 0.0854634\ttotal: 676ms\tremaining: 242ms\n",
      "736:\tlearn: 0.0852769\ttotal: 676ms\tremaining: 241ms\n",
      "737:\tlearn: 0.0851530\ttotal: 677ms\tremaining: 240ms\n",
      "738:\tlearn: 0.0849264\ttotal: 678ms\tremaining: 239ms\n",
      "739:\tlearn: 0.0848233\ttotal: 679ms\tremaining: 238ms\n",
      "740:\tlearn: 0.0847100\ttotal: 680ms\tremaining: 238ms\n"
     ]
    },
    {
     "name": "stdout",
     "output_type": "stream",
     "text": [
      "741:\tlearn: 0.0845922\ttotal: 680ms\tremaining: 237ms\n",
      "742:\tlearn: 0.0845215\ttotal: 681ms\tremaining: 236ms\n",
      "743:\tlearn: 0.0843225\ttotal: 682ms\tremaining: 235ms\n",
      "744:\tlearn: 0.0841695\ttotal: 683ms\tremaining: 234ms\n",
      "745:\tlearn: 0.0840736\ttotal: 684ms\tremaining: 233ms\n",
      "746:\tlearn: 0.0840277\ttotal: 685ms\tremaining: 232ms\n",
      "747:\tlearn: 0.0839062\ttotal: 685ms\tremaining: 231ms\n",
      "748:\tlearn: 0.0838533\ttotal: 686ms\tremaining: 230ms\n",
      "749:\tlearn: 0.0837263\ttotal: 687ms\tremaining: 229ms\n",
      "750:\tlearn: 0.0835756\ttotal: 688ms\tremaining: 228ms\n",
      "751:\tlearn: 0.0834691\ttotal: 689ms\tremaining: 227ms\n",
      "752:\tlearn: 0.0833515\ttotal: 690ms\tremaining: 226ms\n",
      "753:\tlearn: 0.0832525\ttotal: 690ms\tremaining: 225ms\n",
      "754:\tlearn: 0.0830999\ttotal: 691ms\tremaining: 224ms\n",
      "755:\tlearn: 0.0829707\ttotal: 692ms\tremaining: 223ms\n",
      "756:\tlearn: 0.0828251\ttotal: 693ms\tremaining: 222ms\n",
      "757:\tlearn: 0.0827716\ttotal: 694ms\tremaining: 221ms\n",
      "758:\tlearn: 0.0826256\ttotal: 694ms\tremaining: 221ms\n",
      "759:\tlearn: 0.0825192\ttotal: 695ms\tremaining: 220ms\n",
      "760:\tlearn: 0.0823057\ttotal: 696ms\tremaining: 219ms\n",
      "761:\tlearn: 0.0822381\ttotal: 697ms\tremaining: 218ms\n",
      "762:\tlearn: 0.0821291\ttotal: 698ms\tremaining: 217ms\n",
      "763:\tlearn: 0.0819253\ttotal: 699ms\tremaining: 216ms\n",
      "764:\tlearn: 0.0817833\ttotal: 699ms\tremaining: 215ms\n",
      "765:\tlearn: 0.0816757\ttotal: 700ms\tremaining: 214ms\n",
      "766:\tlearn: 0.0815139\ttotal: 701ms\tremaining: 213ms\n",
      "767:\tlearn: 0.0813548\ttotal: 702ms\tremaining: 212ms\n",
      "768:\tlearn: 0.0813438\ttotal: 703ms\tremaining: 211ms\n",
      "769:\tlearn: 0.0813142\ttotal: 704ms\tremaining: 210ms\n",
      "770:\tlearn: 0.0811881\ttotal: 705ms\tremaining: 209ms\n",
      "771:\tlearn: 0.0810028\ttotal: 706ms\tremaining: 209ms\n",
      "772:\tlearn: 0.0808521\ttotal: 707ms\tremaining: 208ms\n",
      "773:\tlearn: 0.0806992\ttotal: 708ms\tremaining: 207ms\n",
      "774:\tlearn: 0.0806052\ttotal: 709ms\tremaining: 206ms\n",
      "775:\tlearn: 0.0805509\ttotal: 710ms\tremaining: 205ms\n",
      "776:\tlearn: 0.0804671\ttotal: 710ms\tremaining: 204ms\n",
      "777:\tlearn: 0.0803873\ttotal: 711ms\tremaining: 203ms\n",
      "778:\tlearn: 0.0803180\ttotal: 712ms\tremaining: 202ms\n",
      "779:\tlearn: 0.0800977\ttotal: 713ms\tremaining: 201ms\n",
      "780:\tlearn: 0.0799977\ttotal: 714ms\tremaining: 200ms\n",
      "781:\tlearn: 0.0799051\ttotal: 714ms\tremaining: 199ms\n",
      "782:\tlearn: 0.0798191\ttotal: 716ms\tremaining: 198ms\n",
      "783:\tlearn: 0.0797632\ttotal: 716ms\tremaining: 197ms\n",
      "784:\tlearn: 0.0797514\ttotal: 717ms\tremaining: 196ms\n",
      "785:\tlearn: 0.0797262\ttotal: 718ms\tremaining: 195ms\n",
      "786:\tlearn: 0.0795982\ttotal: 719ms\tremaining: 194ms\n",
      "787:\tlearn: 0.0794054\ttotal: 719ms\tremaining: 194ms\n",
      "788:\tlearn: 0.0792091\ttotal: 720ms\tremaining: 193ms\n",
      "789:\tlearn: 0.0790973\ttotal: 721ms\tremaining: 192ms\n",
      "790:\tlearn: 0.0790352\ttotal: 722ms\tremaining: 191ms\n",
      "791:\tlearn: 0.0788306\ttotal: 723ms\tremaining: 190ms\n",
      "792:\tlearn: 0.0787079\ttotal: 724ms\tremaining: 189ms\n",
      "793:\tlearn: 0.0785447\ttotal: 725ms\tremaining: 188ms\n",
      "794:\tlearn: 0.0783614\ttotal: 725ms\tremaining: 187ms\n",
      "795:\tlearn: 0.0782702\ttotal: 726ms\tremaining: 186ms\n",
      "796:\tlearn: 0.0781412\ttotal: 727ms\tremaining: 185ms\n",
      "797:\tlearn: 0.0779844\ttotal: 728ms\tremaining: 184ms\n",
      "798:\tlearn: 0.0778368\ttotal: 729ms\tremaining: 183ms\n",
      "799:\tlearn: 0.0777473\ttotal: 730ms\tremaining: 182ms\n",
      "800:\tlearn: 0.0775641\ttotal: 730ms\tremaining: 181ms\n",
      "801:\tlearn: 0.0775522\ttotal: 731ms\tremaining: 181ms\n",
      "802:\tlearn: 0.0774125\ttotal: 732ms\tremaining: 180ms\n",
      "803:\tlearn: 0.0773472\ttotal: 733ms\tremaining: 179ms\n",
      "804:\tlearn: 0.0771955\ttotal: 734ms\tremaining: 178ms\n",
      "805:\tlearn: 0.0771228\ttotal: 734ms\tremaining: 177ms\n",
      "806:\tlearn: 0.0769713\ttotal: 735ms\tremaining: 176ms\n",
      "807:\tlearn: 0.0768277\ttotal: 736ms\tremaining: 175ms\n",
      "808:\tlearn: 0.0767178\ttotal: 737ms\tremaining: 174ms\n",
      "809:\tlearn: 0.0765557\ttotal: 738ms\tremaining: 173ms\n",
      "810:\tlearn: 0.0764609\ttotal: 739ms\tremaining: 172ms\n",
      "811:\tlearn: 0.0763614\ttotal: 740ms\tremaining: 171ms\n",
      "812:\tlearn: 0.0762580\ttotal: 741ms\tremaining: 170ms\n",
      "813:\tlearn: 0.0761303\ttotal: 742ms\tremaining: 170ms\n",
      "814:\tlearn: 0.0760183\ttotal: 743ms\tremaining: 169ms\n",
      "815:\tlearn: 0.0759423\ttotal: 744ms\tremaining: 168ms\n",
      "816:\tlearn: 0.0758682\ttotal: 744ms\tremaining: 167ms\n",
      "817:\tlearn: 0.0757332\ttotal: 745ms\tremaining: 166ms\n",
      "818:\tlearn: 0.0755665\ttotal: 746ms\tremaining: 165ms\n",
      "819:\tlearn: 0.0754921\ttotal: 747ms\tremaining: 164ms\n",
      "820:\tlearn: 0.0754131\ttotal: 747ms\tremaining: 163ms\n",
      "821:\tlearn: 0.0753067\ttotal: 748ms\tremaining: 162ms\n",
      "822:\tlearn: 0.0752108\ttotal: 749ms\tremaining: 161ms\n",
      "823:\tlearn: 0.0750716\ttotal: 750ms\tremaining: 160ms\n",
      "824:\tlearn: 0.0749532\ttotal: 751ms\tremaining: 159ms\n",
      "825:\tlearn: 0.0748303\ttotal: 752ms\tremaining: 158ms\n",
      "826:\tlearn: 0.0746752\ttotal: 752ms\tremaining: 157ms\n",
      "827:\tlearn: 0.0745292\ttotal: 753ms\tremaining: 156ms\n",
      "828:\tlearn: 0.0743544\ttotal: 754ms\tremaining: 156ms\n",
      "829:\tlearn: 0.0742842\ttotal: 755ms\tremaining: 155ms\n",
      "830:\tlearn: 0.0742169\ttotal: 756ms\tremaining: 154ms\n",
      "831:\tlearn: 0.0741035\ttotal: 757ms\tremaining: 153ms\n",
      "832:\tlearn: 0.0739904\ttotal: 757ms\tremaining: 152ms\n",
      "833:\tlearn: 0.0738898\ttotal: 758ms\tremaining: 151ms\n",
      "834:\tlearn: 0.0738424\ttotal: 759ms\tremaining: 150ms\n",
      "835:\tlearn: 0.0737485\ttotal: 760ms\tremaining: 149ms\n",
      "836:\tlearn: 0.0736907\ttotal: 761ms\tremaining: 148ms\n",
      "837:\tlearn: 0.0735990\ttotal: 762ms\tremaining: 147ms\n",
      "838:\tlearn: 0.0735855\ttotal: 763ms\tremaining: 146ms\n"
     ]
    },
    {
     "name": "stdout",
     "output_type": "stream",
     "text": [
      "839:\tlearn: 0.0735707\ttotal: 764ms\tremaining: 145ms\n",
      "840:\tlearn: 0.0734974\ttotal: 765ms\tremaining: 145ms\n",
      "841:\tlearn: 0.0733226\ttotal: 765ms\tremaining: 144ms\n",
      "842:\tlearn: 0.0732318\ttotal: 766ms\tremaining: 143ms\n",
      "843:\tlearn: 0.0731876\ttotal: 767ms\tremaining: 142ms\n",
      "844:\tlearn: 0.0730931\ttotal: 768ms\tremaining: 141ms\n",
      "845:\tlearn: 0.0729543\ttotal: 769ms\tremaining: 140ms\n",
      "846:\tlearn: 0.0727517\ttotal: 769ms\tremaining: 139ms\n",
      "847:\tlearn: 0.0726885\ttotal: 770ms\tremaining: 138ms\n",
      "848:\tlearn: 0.0725370\ttotal: 771ms\tremaining: 137ms\n",
      "849:\tlearn: 0.0723900\ttotal: 772ms\tremaining: 136ms\n",
      "850:\tlearn: 0.0723243\ttotal: 773ms\tremaining: 135ms\n",
      "851:\tlearn: 0.0721689\ttotal: 773ms\tremaining: 134ms\n",
      "852:\tlearn: 0.0721336\ttotal: 774ms\tremaining: 133ms\n",
      "853:\tlearn: 0.0719494\ttotal: 775ms\tremaining: 132ms\n",
      "854:\tlearn: 0.0718283\ttotal: 776ms\tremaining: 132ms\n",
      "855:\tlearn: 0.0716965\ttotal: 777ms\tremaining: 131ms\n",
      "856:\tlearn: 0.0716867\ttotal: 778ms\tremaining: 130ms\n",
      "857:\tlearn: 0.0715529\ttotal: 778ms\tremaining: 129ms\n",
      "858:\tlearn: 0.0715094\ttotal: 779ms\tremaining: 128ms\n",
      "859:\tlearn: 0.0714640\ttotal: 780ms\tremaining: 127ms\n",
      "860:\tlearn: 0.0713533\ttotal: 781ms\tremaining: 126ms\n",
      "861:\tlearn: 0.0711973\ttotal: 782ms\tremaining: 125ms\n",
      "862:\tlearn: 0.0710967\ttotal: 783ms\tremaining: 124ms\n",
      "863:\tlearn: 0.0709209\ttotal: 783ms\tremaining: 123ms\n",
      "864:\tlearn: 0.0708624\ttotal: 784ms\tremaining: 122ms\n",
      "865:\tlearn: 0.0708294\ttotal: 785ms\tremaining: 121ms\n",
      "866:\tlearn: 0.0707263\ttotal: 786ms\tremaining: 121ms\n",
      "867:\tlearn: 0.0705837\ttotal: 786ms\tremaining: 120ms\n",
      "868:\tlearn: 0.0704447\ttotal: 787ms\tremaining: 119ms\n",
      "869:\tlearn: 0.0703586\ttotal: 788ms\tremaining: 118ms\n",
      "870:\tlearn: 0.0703492\ttotal: 789ms\tremaining: 117ms\n",
      "871:\tlearn: 0.0703085\ttotal: 790ms\tremaining: 116ms\n",
      "872:\tlearn: 0.0701628\ttotal: 791ms\tremaining: 115ms\n",
      "873:\tlearn: 0.0701198\ttotal: 792ms\tremaining: 114ms\n",
      "874:\tlearn: 0.0700568\ttotal: 792ms\tremaining: 113ms\n",
      "875:\tlearn: 0.0699182\ttotal: 793ms\tremaining: 112ms\n",
      "876:\tlearn: 0.0698079\ttotal: 794ms\tremaining: 111ms\n",
      "877:\tlearn: 0.0697075\ttotal: 795ms\tremaining: 110ms\n",
      "878:\tlearn: 0.0696179\ttotal: 796ms\tremaining: 110ms\n",
      "879:\tlearn: 0.0695846\ttotal: 797ms\tremaining: 109ms\n",
      "880:\tlearn: 0.0694865\ttotal: 797ms\tremaining: 108ms\n",
      "881:\tlearn: 0.0693985\ttotal: 798ms\tremaining: 107ms\n",
      "882:\tlearn: 0.0693246\ttotal: 799ms\tremaining: 106ms\n",
      "883:\tlearn: 0.0692025\ttotal: 800ms\tremaining: 105ms\n",
      "884:\tlearn: 0.0691655\ttotal: 801ms\tremaining: 104ms\n",
      "885:\tlearn: 0.0691262\ttotal: 802ms\tremaining: 103ms\n",
      "886:\tlearn: 0.0690240\ttotal: 803ms\tremaining: 102ms\n",
      "887:\tlearn: 0.0689628\ttotal: 803ms\tremaining: 101ms\n",
      "888:\tlearn: 0.0688139\ttotal: 804ms\tremaining: 100ms\n",
      "889:\tlearn: 0.0687522\ttotal: 805ms\tremaining: 99.5ms\n",
      "890:\tlearn: 0.0685743\ttotal: 806ms\tremaining: 98.6ms\n",
      "891:\tlearn: 0.0685428\ttotal: 807ms\tremaining: 97.7ms\n",
      "892:\tlearn: 0.0685324\ttotal: 808ms\tremaining: 96.8ms\n",
      "893:\tlearn: 0.0684395\ttotal: 808ms\tremaining: 95.9ms\n",
      "894:\tlearn: 0.0683645\ttotal: 809ms\tremaining: 95ms\n",
      "895:\tlearn: 0.0682641\ttotal: 810ms\tremaining: 94ms\n",
      "896:\tlearn: 0.0681670\ttotal: 811ms\tremaining: 93.1ms\n",
      "897:\tlearn: 0.0680569\ttotal: 812ms\tremaining: 92.2ms\n",
      "898:\tlearn: 0.0679378\ttotal: 812ms\tremaining: 91.3ms\n",
      "899:\tlearn: 0.0678659\ttotal: 813ms\tremaining: 90.4ms\n",
      "900:\tlearn: 0.0677090\ttotal: 814ms\tremaining: 89.4ms\n",
      "901:\tlearn: 0.0676452\ttotal: 815ms\tremaining: 88.5ms\n",
      "902:\tlearn: 0.0675944\ttotal: 816ms\tremaining: 87.6ms\n",
      "903:\tlearn: 0.0674590\ttotal: 817ms\tremaining: 86.7ms\n",
      "904:\tlearn: 0.0673509\ttotal: 817ms\tremaining: 85.8ms\n",
      "905:\tlearn: 0.0672507\ttotal: 818ms\tremaining: 84.9ms\n",
      "906:\tlearn: 0.0671577\ttotal: 819ms\tremaining: 84ms\n",
      "907:\tlearn: 0.0671073\ttotal: 820ms\tremaining: 83.1ms\n",
      "908:\tlearn: 0.0670182\ttotal: 821ms\tremaining: 82.2ms\n",
      "909:\tlearn: 0.0668578\ttotal: 822ms\tremaining: 81.3ms\n",
      "910:\tlearn: 0.0667213\ttotal: 822ms\tremaining: 80.3ms\n",
      "911:\tlearn: 0.0666965\ttotal: 823ms\tremaining: 79.4ms\n",
      "912:\tlearn: 0.0666600\ttotal: 824ms\tremaining: 78.5ms\n",
      "913:\tlearn: 0.0665542\ttotal: 825ms\tremaining: 77.6ms\n",
      "914:\tlearn: 0.0665091\ttotal: 826ms\tremaining: 76.7ms\n",
      "915:\tlearn: 0.0665006\ttotal: 827ms\tremaining: 75.8ms\n",
      "916:\tlearn: 0.0663505\ttotal: 827ms\tremaining: 74.9ms\n",
      "917:\tlearn: 0.0662404\ttotal: 828ms\tremaining: 74ms\n",
      "918:\tlearn: 0.0661265\ttotal: 829ms\tremaining: 73.1ms\n",
      "919:\tlearn: 0.0661053\ttotal: 830ms\tremaining: 72.2ms\n",
      "920:\tlearn: 0.0660925\ttotal: 831ms\tremaining: 71.3ms\n",
      "921:\tlearn: 0.0660745\ttotal: 832ms\tremaining: 70.3ms\n",
      "922:\tlearn: 0.0660417\ttotal: 832ms\tremaining: 69.4ms\n",
      "923:\tlearn: 0.0659067\ttotal: 833ms\tremaining: 68.5ms\n",
      "924:\tlearn: 0.0657748\ttotal: 834ms\tremaining: 67.6ms\n",
      "925:\tlearn: 0.0656122\ttotal: 835ms\tremaining: 66.7ms\n",
      "926:\tlearn: 0.0655737\ttotal: 836ms\tremaining: 65.8ms\n",
      "927:\tlearn: 0.0655405\ttotal: 836ms\tremaining: 64.9ms\n",
      "928:\tlearn: 0.0654923\ttotal: 837ms\tremaining: 64ms\n",
      "929:\tlearn: 0.0653815\ttotal: 838ms\tremaining: 63.1ms\n",
      "930:\tlearn: 0.0652720\ttotal: 839ms\tremaining: 62.2ms\n",
      "931:\tlearn: 0.0652409\ttotal: 840ms\tremaining: 61.3ms\n",
      "932:\tlearn: 0.0652057\ttotal: 841ms\tremaining: 60.4ms\n",
      "933:\tlearn: 0.0651413\ttotal: 841ms\tremaining: 59.4ms\n",
      "934:\tlearn: 0.0650765\ttotal: 842ms\tremaining: 58.5ms\n",
      "935:\tlearn: 0.0649938\ttotal: 843ms\tremaining: 57.6ms\n",
      "936:\tlearn: 0.0649009\ttotal: 844ms\tremaining: 56.7ms\n",
      "937:\tlearn: 0.0647561\ttotal: 845ms\tremaining: 55.8ms\n",
      "938:\tlearn: 0.0646979\ttotal: 845ms\tremaining: 54.9ms\n",
      "939:\tlearn: 0.0646906\ttotal: 846ms\tremaining: 54ms\n",
      "940:\tlearn: 0.0645460\ttotal: 847ms\tremaining: 53.1ms\n",
      "941:\tlearn: 0.0644506\ttotal: 848ms\tremaining: 52.2ms\n",
      "942:\tlearn: 0.0643572\ttotal: 849ms\tremaining: 51.3ms\n",
      "943:\tlearn: 0.0642535\ttotal: 850ms\tremaining: 50.4ms\n",
      "944:\tlearn: 0.0641517\ttotal: 851ms\tremaining: 49.5ms\n",
      "945:\tlearn: 0.0640385\ttotal: 852ms\tremaining: 48.6ms\n",
      "946:\tlearn: 0.0639783\ttotal: 853ms\tremaining: 47.7ms\n",
      "947:\tlearn: 0.0639551\ttotal: 854ms\tremaining: 46.8ms\n",
      "948:\tlearn: 0.0638364\ttotal: 855ms\tremaining: 45.9ms\n",
      "949:\tlearn: 0.0637181\ttotal: 855ms\tremaining: 45ms\n",
      "950:\tlearn: 0.0635941\ttotal: 856ms\tremaining: 44.1ms\n",
      "951:\tlearn: 0.0635186\ttotal: 857ms\tremaining: 43.2ms\n",
      "952:\tlearn: 0.0634963\ttotal: 858ms\tremaining: 42.3ms\n",
      "953:\tlearn: 0.0634412\ttotal: 859ms\tremaining: 41.4ms\n",
      "954:\tlearn: 0.0632992\ttotal: 859ms\tremaining: 40.5ms\n",
      "955:\tlearn: 0.0632004\ttotal: 860ms\tremaining: 39.6ms\n",
      "956:\tlearn: 0.0630988\ttotal: 861ms\tremaining: 38.7ms\n",
      "957:\tlearn: 0.0629879\ttotal: 862ms\tremaining: 37.8ms\n",
      "958:\tlearn: 0.0628444\ttotal: 863ms\tremaining: 36.9ms\n",
      "959:\tlearn: 0.0627329\ttotal: 864ms\tremaining: 36ms\n",
      "960:\tlearn: 0.0626729\ttotal: 864ms\tremaining: 35.1ms\n",
      "961:\tlearn: 0.0626204\ttotal: 865ms\tremaining: 34.2ms\n",
      "962:\tlearn: 0.0625233\ttotal: 866ms\tremaining: 33.3ms\n",
      "963:\tlearn: 0.0624620\ttotal: 867ms\tremaining: 32.4ms\n",
      "964:\tlearn: 0.0623786\ttotal: 868ms\tremaining: 31.5ms\n",
      "965:\tlearn: 0.0622668\ttotal: 868ms\tremaining: 30.6ms\n",
      "966:\tlearn: 0.0621677\ttotal: 869ms\tremaining: 29.7ms\n",
      "967:\tlearn: 0.0620650\ttotal: 870ms\tremaining: 28.8ms\n"
     ]
    },
    {
     "name": "stdout",
     "output_type": "stream",
     "text": [
      "968:\tlearn: 0.0619669\ttotal: 871ms\tremaining: 27.9ms\n",
      "969:\tlearn: 0.0618592\ttotal: 872ms\tremaining: 27ms\n",
      "970:\tlearn: 0.0618072\ttotal: 873ms\tremaining: 26.1ms\n",
      "971:\tlearn: 0.0617207\ttotal: 874ms\tremaining: 25.2ms\n",
      "972:\tlearn: 0.0615615\ttotal: 875ms\tremaining: 24.3ms\n",
      "973:\tlearn: 0.0615077\ttotal: 876ms\tremaining: 23.4ms\n",
      "974:\tlearn: 0.0614555\ttotal: 876ms\tremaining: 22.5ms\n",
      "975:\tlearn: 0.0614156\ttotal: 877ms\tremaining: 21.6ms\n",
      "976:\tlearn: 0.0613578\ttotal: 878ms\tremaining: 20.7ms\n",
      "977:\tlearn: 0.0612812\ttotal: 879ms\tremaining: 19.8ms\n",
      "978:\tlearn: 0.0611484\ttotal: 880ms\tremaining: 18.9ms\n",
      "979:\tlearn: 0.0610857\ttotal: 881ms\tremaining: 18ms\n",
      "980:\tlearn: 0.0610318\ttotal: 882ms\tremaining: 17.1ms\n",
      "981:\tlearn: 0.0609815\ttotal: 882ms\tremaining: 16.2ms\n",
      "982:\tlearn: 0.0609096\ttotal: 883ms\tremaining: 15.3ms\n",
      "983:\tlearn: 0.0608129\ttotal: 884ms\tremaining: 14.4ms\n",
      "984:\tlearn: 0.0607064\ttotal: 885ms\tremaining: 13.5ms\n",
      "985:\tlearn: 0.0606307\ttotal: 886ms\tremaining: 12.6ms\n",
      "986:\tlearn: 0.0604670\ttotal: 887ms\tremaining: 11.7ms\n",
      "987:\tlearn: 0.0603887\ttotal: 888ms\tremaining: 10.8ms\n",
      "988:\tlearn: 0.0603297\ttotal: 888ms\tremaining: 9.88ms\n",
      "989:\tlearn: 0.0602777\ttotal: 889ms\tremaining: 8.98ms\n",
      "990:\tlearn: 0.0601867\ttotal: 890ms\tremaining: 8.08ms\n",
      "991:\tlearn: 0.0601178\ttotal: 891ms\tremaining: 7.18ms\n",
      "992:\tlearn: 0.0600148\ttotal: 892ms\tremaining: 6.29ms\n",
      "993:\tlearn: 0.0599745\ttotal: 893ms\tremaining: 5.39ms\n",
      "994:\tlearn: 0.0599366\ttotal: 893ms\tremaining: 4.49ms\n",
      "995:\tlearn: 0.0598336\ttotal: 894ms\tremaining: 3.59ms\n",
      "996:\tlearn: 0.0596952\ttotal: 895ms\tremaining: 2.69ms\n",
      "997:\tlearn: 0.0596109\ttotal: 896ms\tremaining: 1.79ms\n",
      "998:\tlearn: 0.0595043\ttotal: 897ms\tremaining: 897us\n",
      "999:\tlearn: 0.0594826\ttotal: 898ms\tremaining: 0us\n"
     ]
    },
    {
     "data": {
      "text/plain": [
       "<catboost.core.CatBoostRegressor at 0x7fd7db118f70>"
      ]
     },
     "execution_count": 9,
     "metadata": {},
     "output_type": "execute_result"
    }
   ],
   "source": [
    "#Train the Model \n",
    "prior_model = ctb.CatBoostRegressor()\n",
    "prior_model.fit(X_train,Y_train)"
   ]
  },
  {
   "cell_type": "code",
   "execution_count": 10,
   "id": "af65dcda",
   "metadata": {
    "execution": {
     "iopub.execute_input": "2022-06-12T08:06:58.575834Z",
     "iopub.status.busy": "2022-06-12T08:06:58.575436Z",
     "iopub.status.idle": "2022-06-12T08:06:58.582974Z",
     "shell.execute_reply": "2022-06-12T08:06:58.583262Z"
    },
    "id": "af65dcda",
    "papermill": {
     "duration": 0.0207,
     "end_time": "2022-06-12T08:06:58.583378",
     "exception": false,
     "start_time": "2022-06-12T08:06:58.562678",
     "status": "completed"
    },
    "tags": []
   },
   "outputs": [
    {
     "data": {
      "application/scrapbook.scrap.json+json": {
       "data": 0.07189221588400936,
       "encoder": "json",
       "name": "Prior Model MSE",
       "version": 1
      }
     },
     "metadata": {
      "scrapbook": {
       "data": true,
       "display": false,
       "name": "Prior Model MSE"
      }
     },
     "output_type": "display_data"
    },
    {
     "data": {
      "application/scrapbook.scrap.json+json": {
       "data": 1.2161629624858585,
       "encoder": "json",
       "name": "ABC Pre-generator MSE",
       "version": 1
      }
     },
     "metadata": {
      "scrapbook": {
       "data": true,
       "display": false,
       "name": "ABC Pre-generator MSE"
      }
     },
     "output_type": "display_data"
    },
    {
     "data": {
      "application/scrapbook.scrap.json+json": {
       "data": 0.19649579731779657,
       "encoder": "json",
       "name": "Prior Model MSE",
       "version": 1
      }
     },
     "metadata": {
      "scrapbook": {
       "data": true,
       "display": false,
       "name": "Prior Model MSE"
      }
     },
     "output_type": "display_data"
    },
    {
     "data": {
      "application/scrapbook.scrap.json+json": {
       "data": 0.8627192130050316,
       "encoder": "json",
       "name": "ABC Pre-generator MSE",
       "version": 1
      }
     },
     "metadata": {
      "scrapbook": {
       "data": true,
       "display": false,
       "name": "ABC Pre-generator MSE"
      }
     },
     "output_type": "display_data"
    }
   ],
   "source": [
    "y_pred = prior_model.predict(X_test)\n",
    "y_abc = y_pred + np.random.normal(0,variance, y_pred.shape) + bias \n",
    "mse = mean_squared_error(y_pred,Y_test)\n",
    "sb.glue(\"Prior Model MSE\",mse)\n",
    "mse = mean_squared_error(y_abc,Y_test)\n",
    "sb.glue(\"ABC Pre-generator MSE\",mse)\n",
    "mae = mean_absolute_error(y_pred,Y_test)\n",
    "sb.glue(\"Prior Model MSE\",mae)\n",
    "mae = mean_absolute_error(y_abc,Y_test)\n",
    "sb.glue(\"ABC Pre-generator MSE\",mae)"
   ]
  },
  {
   "cell_type": "markdown",
   "id": "25609da2",
   "metadata": {
    "papermill": {
     "duration": 0.009791,
     "end_time": "2022-06-12T08:06:58.603331",
     "exception": false,
     "start_time": "2022-06-12T08:06:58.593540",
     "status": "completed"
    },
    "tags": []
   },
   "source": [
    "# ABC GAN Model"
   ]
  },
  {
   "cell_type": "code",
   "execution_count": 11,
   "id": "dfc3464d",
   "metadata": {
    "execution": {
     "iopub.execute_input": "2022-06-12T08:06:58.625831Z",
     "iopub.status.busy": "2022-06-12T08:06:58.625458Z",
     "iopub.status.idle": "2022-06-12T08:06:58.628061Z",
     "shell.execute_reply": "2022-06-12T08:06:58.628349Z"
    },
    "papermill": {
     "duration": 0.015315,
     "end_time": "2022-06-12T08:06:58.628458",
     "exception": false,
     "start_time": "2022-06-12T08:06:58.613143",
     "status": "completed"
    },
    "tags": []
   },
   "outputs": [],
   "source": [
    "gen = network.Generator(n_features+1).to(device)\n",
    "disc = network.Discriminator(n_features+1).to(device)\n",
    "\n",
    "criterion = torch.nn.BCELoss()\n",
    "gen_opt = torch.optim.Adam(gen.parameters(), lr=0.001, betas=(0.5, 0.999))\n",
    "disc_opt = torch.optim.Adam(disc.parameters(), lr=0.001, betas=(0.5, 0.999))"
   ]
  },
  {
   "cell_type": "code",
   "execution_count": 12,
   "id": "b75fdd85",
   "metadata": {
    "execution": {
     "iopub.execute_input": "2022-06-12T08:06:58.651016Z",
     "iopub.status.busy": "2022-06-12T08:06:58.650649Z",
     "iopub.status.idle": "2022-06-12T08:08:00.130495Z",
     "shell.execute_reply": "2022-06-12T08:08:00.130881Z"
    },
    "papermill": {
     "duration": 61.492485,
     "end_time": "2022-06-12T08:08:00.131005",
     "exception": false,
     "start_time": "2022-06-12T08:06:58.638520",
     "status": "completed"
    },
    "tags": []
   },
   "outputs": [
    {
     "data": {
      "image/png": "[encoded data removed]",
      "text/plain": [
       "<Figure size 432x288 with 1 Axes>"
      ]
     },
     "metadata": {
      "needs_background": "light"
     },
     "output_type": "display_data"
    },
    {
     "data": {
      "image/png": "[encoded data removed]",
      "text/plain": [
       "<Figure size 432x288 with 1 Axes>"
      ]
     },
     "metadata": {
      "needs_background": "light"
     },
     "output_type": "display_data"
    }
   ],
   "source": [
    "#Training the ABC_GAN \n",
    "ABC_train_test2.training_GAN(disc,gen,disc_opt,gen_opt,train_data,batch_size,n_epochs,criterion,prior_model,variance,bias,device)"
   ]
  },
  {
   "cell_type": "code",
   "execution_count": 13,
   "id": "1fa7c368",
   "metadata": {
    "execution": {
     "iopub.execute_input": "2022-06-12T08:08:00.155959Z",
     "iopub.status.busy": "2022-06-12T08:08:00.155566Z",
     "iopub.status.idle": "2022-06-12T08:08:00.493638Z",
     "shell.execute_reply": "2022-06-12T08:08:00.494440Z"
    },
    "papermill": {
     "duration": 0.352514,
     "end_time": "2022-06-12T08:08:00.494737",
     "exception": false,
     "start_time": "2022-06-12T08:08:00.142223",
     "status": "completed"
    },
    "tags": []
   },
   "outputs": [
    {
     "data": {
      "application/scrapbook.scrap.json+json": {
       "data": 0.1066612650582296,
       "encoder": "json",
       "name": "ABC-GAN Model 1 MSE",
       "version": 1
      }
     },
     "metadata": {
      "scrapbook": {
       "data": true,
       "display": false,
       "name": "ABC-GAN Model 1 MSE"
      }
     },
     "output_type": "display_data"
    },
    {
     "data": {
      "application/scrapbook.scrap.json+json": {
       "data": 0.24774958580275816,
       "encoder": "json",
       "name": "ABC-GAN Model 1 MAE",
       "version": 1
      }
     },
     "metadata": {
      "scrapbook": {
       "data": true,
       "display": false,
       "name": "ABC-GAN Model 1 MAE"
      }
     },
     "output_type": "display_data"
    },
    {
     "data": {
      "application/scrapbook.scrap.json+json": {
       "data": 25.27045775188133,
       "encoder": "json",
       "name": "ABC-GAN Model 1 Manhattan Distance",
       "version": 1
      }
     },
     "metadata": {
      "scrapbook": {
       "data": true,
       "display": false,
       "name": "ABC-GAN Model 1 Manhattan Distance"
      }
     },
     "output_type": "display_data"
    },
    {
     "data": {
      "application/scrapbook.scrap.json+json": {
       "data": 3.2983220220454887,
       "encoder": "json",
       "name": "ABC-GAN Model 1 Euclidean distance",
       "version": 1
      }
     },
     "metadata": {
      "scrapbook": {
       "data": true,
       "display": false,
       "name": "ABC-GAN Model 1 Euclidean distance"
      }
     },
     "output_type": "display_data"
    },
    {
     "data": {
      "application/scrapbook.scrap.json+json": {
       "data": [
        [
         0.1041799775120115,
         0.1088693715643612,
         0.10459512506444198,
         0.10850055950371242,
         0.10699916353159729,
         0.10580079174528807,
         0.10726084934571493,
         0.10653192728323163,
         0.10439827828062327,
         0.10755220173777509,
         0.10769106124188865,
         0.10723601426009804,
         0.1097587873929832,
         0.10616097845166021,
         0.10689606867519702,
         0.10432797890007464,
         0.10731679587499625,
         0.10857940465427818,
         0.10808676539679797,
         0.10716698366635383,
         0.10831285074096168,
         0.10788783054401374,
         0.10621206293554272,
         0.10536213013264187,
         0.10587319120750925,
         0.10808097131609377,
         0.10385337698856346,
         0.10458977581882933,
         0.10953884703281239,
         0.10784045381564807,
         0.1067034649825582,
         0.10732340137709188,
         0.10639597901714787,
         0.10557643854914359,
         0.10779009389967795,
         0.10604413938842971,
         0.1067631966456263,
         0.10903834932863209,
         0.10488889948202405,
         0.10372353302566302,
         0.10658295562250722,
         0.10851776802857119,
         0.10650438804654158,
         0.10804950995783992,
         0.10708752002743481,
         0.1071673868220348,
         0.10627652447644721,
         0.10636492057672342,
         0.10571875650150206,
         0.10531562231105933,
         0.10592934958777868,
         0.10769570276000143,
         0.10810880731988964,
         0.10726533261142661,
         0.106160046001419,
         0.10840197690687386,
         0.10332862132724419,
         0.10539216001274009,
         0.10768855687727447,
         0.10649486552280912,
         0.1057051794649619,
         0.1072989602579183,
         0.10733667380561648,
         0.10683665688171808,
         0.10765389754437803,
         0.10234646301406973,
         0.10760148912440386,
         0.10728033842056997,
         0.10833747236554274,
         0.10544929987170915,
         0.10700373336963238,
         0.10669273684819229,
         0.10856952187030997,
         0.10492143205433098,
         0.10785136734774466,
         0.10458973073406455,
         0.10341485248136642,
         0.10754515104730139,
         0.10580186492327705,
         0.10545429552544906,
         0.10792833087591748,
         0.10599292597931394,
         0.10333078220299051,
         0.10660728022089096,
         0.10875213035771789,
         0.10519842439325389,
         0.10606563679282889,
         0.1088096569987509,
         0.1069440786961398,
         0.10790879610793376,
         0.10704139387781543,
         0.10741666986710752,
         0.1064205601824886,
         0.10637802611797138,
         0.10619811154171345,
         0.10553742824691846,
         0.10887754299117325,
         0.10651635346595037,
         0.10607048375747627,
         0.10668193458623633
        ],
        [
         0.24603791365071254,
         0.2509947024724063,
         0.2461739803171333,
         0.24931192571552946,
         0.24784354093101094,
         0.2470623009527723,
         0.24862774529074336,
         0.24834692825143243,
         0.24600218778804822,
         0.24987878827560767,
         0.2506685559546538,
         0.247879585159906,
         0.25085100390966614,
         0.2465791896022126,
         0.2486412888392806,
         0.24345231406828938,
         0.24686664355663107,
         0.24850575171191902,
         0.24876361502809266,
         0.24872606936111755,
         0.24805631914048218,
         0.24953385225186744,
         0.24681552572577609,
         0.24531374533898107,
         0.2476053792143277,
         0.24893227347410193,
         0.24367533147554188,
         0.24398690989861885,
         0.2507815840197544,
         0.24957214787091112,
         0.24704097885200205,
         0.24828810253929273,
         0.2463326092042467,
         0.24559219011708217,
         0.24854781241247467,
         0.2472128306205074,
         0.2487413281136576,
         0.2510938497041078,
         0.2466282288123872,
         0.24498795223075384,
         0.24830951287831163,
         0.24950853311548046,
         0.24776891102174334,
         0.2497464901420708,
         0.24776029398701355,
         0.2492509224433817,
         0.24712977936381803,
         0.2472818234716268,
         0.2469312291701927,
         0.24629013125291643,
         0.2469196143359238,
         0.2496070543888445,
         0.24864601316478321,
         0.2490795164314263,
         0.24735725088519792,
         0.24975290644329554,
         0.24401891072664192,
         0.24664564783155335,
         0.2509259595261777,
         0.24844218346783342,
         0.2465429722934085,
         0.2474514356832586,
         0.24951055074366285,
         0.24728520070293955,
         0.24955130114640092,
         0.24366019326536095,
         0.24853755246993958,
         0.24710419980407344,
         0.2504690271418761,
         0.2447696683891848,
         0.2471894927359387,
         0.24921223972284912,
         0.2504889602024181,
         0.24607204355518608,
         0.24841266907021112,
         0.2459476279898309,
         0.24457458591125175,
         0.24735910293883553,
         0.24719674627789678,
         0.24734111782163382,
         0.24872691653595835,
         0.24820821003659682,
         0.24337042986835336,
         0.24749321306087807,
         0.2505340171503086,
         0.24586947917865187,
         0.24706266840518104,
         0.2510482426184942,
         0.24878177004774996,
         0.24833755438015157,
         0.249107572396158,
         0.2483695145404222,
         0.24694885300728037,
         0.24661613834620105,
         0.24725082224490597,
         0.2459910954440049,
         0.2499469166402431,
         0.24700574739379624,
         0.24608855579486666,
         0.24819850941718208
        ],
        [
         25.09586719237268,
         25.60145965218544,
         25.109745992347598,
         25.429816422984004,
         25.280041174963117,
         25.200354697182775,
         25.360030019655824,
         25.33138668164611,
         25.092223154380918,
         25.48763640411198,
         25.568192707374692,
         25.28371768631041,
         25.58680239878595,
         25.151077339425683,
         25.36141146160662,
         24.832136034965515,
         25.18039764277637,
         25.34758667461574,
         25.373888732865453,
         25.37005907483399,
         25.301744552329183,
         25.45245292969048,
         25.17518362402916,
         25.022002024576068,
         25.255748679861426,
         25.391091894358397,
         24.85488381050527,
         24.886664809659123,
         25.579721570014954,
         25.456359082832932,
         25.19817984290421,
         25.32538645900786,
         25.125926138833165,
         25.050403391942382,
         25.351876866072416,
         25.215708723291755,
         25.371615467593074,
         25.611572669818997,
         25.156079338863492,
         24.988771127536893,
         25.327570313587785,
         25.449870377779007,
         25.27242892421782,
         25.47414199449122,
         25.27154998667538,
         25.423594089224935,
         25.20723749510944,
         25.222745994105935,
         25.186985375359654,
         25.121593387797475,
         25.185800662264228,
         25.45991954766214,
         25.36189334280789,
         25.406110676005483,
         25.23043959029019,
         25.474796457216144,
         24.889928894117475,
         25.15785607881844,
         25.594447871670127,
         25.34110271371901,
         25.147383173927665,
         25.240046439692378,
         25.45007617585361,
         25.223090471699834,
         25.454232716932893,
         24.853339713066816,
         25.350830351933837,
         25.204628380015492,
         25.54784076847136,
         24.96650617569685,
         25.213328259065747,
         25.41964845173061,
         25.54987394064665,
         25.09934844262898,
         25.338092245161533,
         25.086658054962754,
         24.94660776294768,
         25.230628499761224,
         25.214068120345473,
         25.22879401780665,
         25.370145486667752,
         25.317237423732877,
         24.82378384657204,
         25.244307732209563,
         25.554469749331474,
         25.07868687622249,
         25.200392177328467,
         25.606920747086406,
         25.375740544870496,
         25.33043054677546,
         25.408972384408116,
         25.333690483123064,
         25.188783006742597,
         25.15484611131251,
         25.219583868980408,
         25.0910917352885,
         25.494585497304797,
         25.194586234167218,
         25.101032691076398,
         25.316247960552573
        ],
        [
         3.2598094585765556,
         3.3323679117955813,
         3.2662980201710132,
         3.3267186639959,
         3.303621449292113,
         3.285069368829125,
         3.307658784285786,
         3.2964005495221036,
         3.263223005653088,
         3.3121480306974593,
         3.31428548056329,
         3.3072758358700582,
         3.345952228302772,
         3.2906564393855127,
         3.3020295281644736,
         3.262124131269013,
         3.308521297989423,
         3.327927173893139,
         3.32036896601468,
         3.3062111750413177,
         3.323839763824076,
         3.3173119713842714,
         3.291448073329634,
         3.2782521674711766,
         3.2861931627897265,
         3.320279969255841,
         3.254695754265438,
         3.2662144959448987,
         3.342598150742453,
         3.3165835266424555,
         3.2990534139690646,
         3.3086231185288195,
         3.2942965652395477,
         3.2815844849725635,
         3.3158090381937178,
         3.28884511912918,
         3.299976675349976,
         3.334953017888029,
         3.2708817996323947,
         3.2526605062037484,
         3.2971899359144805,
         3.326982467479242,
         3.295974450863847,
         3.319796682885815,
         3.3049851804203834,
         3.306217393918245,
         3.2924467340562416,
         3.2938157050487487,
         3.2837955422275016,
         3.277528562152899,
         3.287064595950835,
         3.3143569031593665,
         3.32070750693715,
         3.3077279099656174,
         3.29064198784139,
         3.325207007766754,
         3.246462594175221,
         3.2787193111487127,
         3.314246943346557,
         3.2958271015522844,
         3.2835846731013523,
         3.308246355141597,
         3.308827696960493,
         3.30111178270825,
         3.3137135587625184,
         3.230996630675296,
         3.312906864173696,
         3.3079592680228296,
         3.324217529176657,
         3.2796079928726747,
         3.3036919958892206,
         3.2988875637880732,
         3.3277757182195455,
         3.271389012260963,
         3.3167513427252806,
         3.2662137919729908,
         3.247816951907754,
         3.3120394633555836,
         3.285086029645838,
         3.2796856775605496,
         3.3179345607385904,
         3.288050858774849,
         3.246496540072857,
         3.297566160447865,
         3.330573118321713,
         3.2757043957158114,
         3.28917846169352,
         3.331453888900849,
         3.30277096193579,
         3.3176342780676173,
         3.3042733203440013,
         3.3100604717202624,
         3.294677091706232,
         3.2940186192602314,
         3.2912318935703646,
         3.2809781592058305,
         3.3324929684996594,
         3.296159591634928,
         3.2892536149197404,
         3.29872055921627
        ]
       ],
       "encoder": "json",
       "name": "ABC_GAN_1 Metrics",
       "version": 1
      }
     },
     "metadata": {
      "scrapbook": {
       "data": true,
       "display": false,
       "name": "ABC_GAN_1 Metrics"
      }
     },
     "output_type": "display_data"
    },
    {
     "name": "stdout",
     "output_type": "stream",
     "text": [
      "MSE\n",
      "0.1066612650582296\n"
     ]
    }
   ],
   "source": [
    "ABC_GAN1_metrics=ABC_train_test2.test_generator(gen,test_data,prior_model,variance,bias,\"1\",device)\n",
    "sb.glue(\"ABC_GAN_1 Metrics\",ABC_GAN1_metrics)\n",
    "\n",
    "print(\"MSE\")\n",
    "print(mean(ABC_GAN1_metrics[0]))"
   ]
  },
  {
   "cell_type": "code",
   "execution_count": 14,
   "id": "eb22ce5c",
   "metadata": {
    "execution": {
     "iopub.execute_input": "2022-06-12T08:08:00.525255Z",
     "iopub.status.busy": "2022-06-12T08:08:00.524873Z",
     "iopub.status.idle": "2022-06-12T08:08:00.847370Z",
     "shell.execute_reply": "2022-06-12T08:08:00.847611Z"
    },
    "papermill": {
     "duration": 0.337506,
     "end_time": "2022-06-12T08:08:00.847735",
     "exception": false,
     "start_time": "2022-06-12T08:08:00.510229",
     "status": "completed"
    },
    "tags": []
   },
   "outputs": [
    {
     "data": {
      "image/png": "[encoded data removed]",
      "text/plain": [
       "<Figure size 432x288 with 1 Axes>"
      ]
     },
     "metadata": {
      "needs_background": "light"
     },
     "output_type": "display_data"
    },
    {
     "data": {
      "image/png": "[encoded data removed]",
      "text/plain": [
       "<Figure size 432x288 with 1 Axes>"
      ]
     },
     "metadata": {
      "needs_background": "light"
     },
     "output_type": "display_data"
    },
    {
     "data": {
      "image/png": "[encoded data removed]",
      "text/plain": [
       "<Figure size 432x288 with 1 Axes>"
      ]
     },
     "metadata": {
      "needs_background": "light"
     },
     "output_type": "display_data"
    },
    {
     "data": {
      "image/png": "[encoded data removed]",
      "text/plain": [
       "<Figure size 432x288 with 1 Axes>"
      ]
     },
     "metadata": {
      "needs_background": "light"
     },
     "output_type": "display_data"
    }
   ],
   "source": [
    "sanityChecks.discProbVsError(train_data,disc,device)\n",
    "sanityChecks.discProbVsError(test_data,disc,device)"
   ]
  },
  {
   "cell_type": "markdown",
   "id": "130f3a4d",
   "metadata": {
    "id": "130f3a4d",
    "papermill": {
     "duration": 0.01454,
     "end_time": "2022-06-12T08:08:00.877372",
     "exception": false,
     "start_time": "2022-06-12T08:08:00.862832",
     "status": "completed"
    },
    "tags": []
   },
   "source": [
    "# ABC - GAN Model with skip connection"
   ]
  },
  {
   "cell_type": "code",
   "execution_count": 15,
   "id": "4e43dad1",
   "metadata": {
    "execution": {
     "iopub.execute_input": "2022-06-12T08:08:00.910228Z",
     "iopub.status.busy": "2022-06-12T08:08:00.909842Z",
     "iopub.status.idle": "2022-06-12T08:08:00.912251Z",
     "shell.execute_reply": "2022-06-12T08:08:00.912494Z"
    },
    "id": "4e43dad1",
    "papermill": {
     "duration": 0.020545,
     "end_time": "2022-06-12T08:08:00.912604",
     "exception": false,
     "start_time": "2022-06-12T08:08:00.892059",
     "status": "completed"
    },
    "tags": []
   },
   "outputs": [],
   "source": [
    "#Generator\n",
    "gen3 = network.GeneratorWithSkipConnection(n_features+1).to(device)\n",
    "constraints=network.weightConstraint()\n",
    "#Discriminator \n",
    "disc3 = network.Discriminator(n_features+1).to(device)\n",
    "\n",
    "criterion = torch.nn.BCELoss()\n",
    "gen_opt = torch.optim.Adam(gen3.parameters(), lr=0.001, betas=(0.5, 0.999))\n",
    "disc_opt = torch.optim.Adam(disc3.parameters(), lr=0.001, betas=(0.5, 0.999))\n"
   ]
  },
  {
   "cell_type": "code",
   "execution_count": 16,
   "id": "26acbc37",
   "metadata": {
    "execution": {
     "iopub.execute_input": "2022-06-12T08:08:00.944379Z",
     "iopub.status.busy": "2022-06-12T08:08:00.944005Z",
     "iopub.status.idle": "2022-06-12T08:11:04.127115Z",
     "shell.execute_reply": "2022-06-12T08:11:04.127519Z"
    },
    "id": "26acbc37",
    "papermill": {
     "duration": 183.200273,
     "end_time": "2022-06-12T08:11:04.127649",
     "exception": false,
     "start_time": "2022-06-12T08:08:00.927376",
     "status": "completed"
    },
    "tags": []
   },
   "outputs": [
    {
     "data": {
      "image/png": "[encoded data removed]",
      "text/plain": [
       "<Figure size 432x288 with 1 Axes>"
      ]
     },
     "metadata": {
      "needs_background": "light"
     },
     "output_type": "display_data"
    },
    {
     "data": {
      "image/png": "[encoded data removed]",
      "text/plain": [
       "<Figure size 432x288 with 1 Axes>"
      ]
     },
     "metadata": {
      "needs_background": "light"
     },
     "output_type": "display_data"
    }
   ],
   "source": [
    "ABC_train_test2.training_GAN_skip_connection(disc3,gen3,disc_opt,gen_opt,train_data,batch_size,n_epochs,criterion,prior_model,variance,bias,device)"
   ]
  },
  {
   "cell_type": "code",
   "execution_count": 17,
   "id": "c5e0717b",
   "metadata": {
    "execution": {
     "iopub.execute_input": "2022-06-12T08:11:04.161963Z",
     "iopub.status.busy": "2022-06-12T08:11:04.161599Z",
     "iopub.status.idle": "2022-06-12T08:11:05.026551Z",
     "shell.execute_reply": "2022-06-12T08:11:05.026855Z"
    },
    "id": "c5e0717b",
    "papermill": {
     "duration": 0.883354,
     "end_time": "2022-06-12T08:11:05.026979",
     "exception": false,
     "start_time": "2022-06-12T08:11:04.143625",
     "status": "completed"
    },
    "tags": []
   },
   "outputs": [
    {
     "data": {
      "application/scrapbook.scrap.json+json": {
       "data": 0.08881712621762586,
       "encoder": "json",
       "name": "ABC-GAN Model 3 MSE",
       "version": 1
      }
     },
     "metadata": {
      "scrapbook": {
       "data": true,
       "display": false,
       "name": "ABC-GAN Model 3 MSE"
      }
     },
     "output_type": "display_data"
    },
    {
     "data": {
      "application/scrapbook.scrap.json+json": {
       "data": 0.22142928144435728,
       "encoder": "json",
       "name": "ABC-GAN Model 3 MAE",
       "version": 1
      }
     },
     "metadata": {
      "scrapbook": {
       "data": true,
       "display": false,
       "name": "ABC-GAN Model 3 MAE"
      }
     },
     "output_type": "display_data"
    },
    {
     "data": {
      "application/scrapbook.scrap.json+json": {
       "data": 22.58578670732444,
       "encoder": "json",
       "name": "ABC-GAN Model 3 Manhattan Distance",
       "version": 1
      }
     },
     "metadata": {
      "scrapbook": {
       "data": true,
       "display": false,
       "name": "ABC-GAN Model 3 Manhattan Distance"
      }
     },
     "output_type": "display_data"
    },
    {
     "data": {
      "application/scrapbook.scrap.json+json": {
       "data": 3.009711090376157,
       "encoder": "json",
       "name": "ABC-GAN Model 3 Euclidean distance",
       "version": 1
      }
     },
     "metadata": {
      "scrapbook": {
       "data": true,
       "display": false,
       "name": "ABC-GAN Model 3 Euclidean distance"
      }
     },
     "output_type": "display_data"
    },
    {
     "data": {
      "application/scrapbook.scrap.json+json": {
       "data": [
        [
         0.08813176015794064,
         0.0923786570185938,
         0.09297021261190204,
         0.08602054140046637,
         0.08974763523689185,
         0.09043816913187375,
         0.09050620466327064,
         0.09072464086045556,
         0.08769504583437535,
         0.08771549984452578,
         0.08539341496802709,
         0.0910276463555034,
         0.09256200358076798,
         0.08942953218910342,
         0.0900417681074118,
         0.08683177954277087,
         0.09009710944522575,
         0.08839033542938231,
         0.08776713227546303,
         0.08707605626534383,
         0.08818963867411503,
         0.0914385156433491,
         0.08873677412148964,
         0.0871283838071527,
         0.09090224580313173,
         0.08937993984607578,
         0.08700329148216351,
         0.08936110349197517,
         0.0878838274575323,
         0.0908493960786104,
         0.08723246890783166,
         0.08767147685272912,
         0.08717527949946982,
         0.08962569341879817,
         0.08758930822235515,
         0.08761532205768792,
         0.08831864933295633,
         0.08774144492129905,
         0.09020227653540402,
         0.08883777286567872,
         0.09239318752865856,
         0.08506238233395404,
         0.0912320628349493,
         0.09145479534834065,
         0.08727928783535532,
         0.08770481059855854,
         0.08740369961999182,
         0.08583490274029874,
         0.08994150013969072,
         0.08776243636980748,
         0.08754192591729192,
         0.0883131345813604,
         0.08636210386393019,
         0.08771704780889134,
         0.08788776276084061,
         0.0904559716734771,
         0.08960964719531951,
         0.0889930975376605,
         0.0907110746735275,
         0.086226011823306,
         0.09032541027333728,
         0.08715085908113326,
         0.09169054221992731,
         0.0915350486760001,
         0.08911347984314733,
         0.08691195007963845,
         0.08608625456449409,
         0.08877082945018823,
         0.09102273154036966,
         0.09070413918958191,
         0.09126344446574303,
         0.08725143731640791,
         0.08803123854040851,
         0.09020172763975223,
         0.09079652507659147,
         0.08834454894985486,
         0.08908988533784605,
         0.09015173796808458,
         0.08905193742907805,
         0.0917810457409157,
         0.08828663480870964,
         0.08830784412808874,
         0.08888322042917368,
         0.08744424188600217,
         0.08978810434990546,
         0.08990959137070224,
         0.08793783086761922,
         0.0843301190252185,
         0.09112745154899086,
         0.09098721516915616,
         0.08968853109214636,
         0.08830236051989494,
         0.08825357888917014,
         0.08461268367608628,
         0.08848881942157397,
         0.08726316497261843,
         0.08970045639184733,
         0.08659602147156613,
         0.08790304546714106,
         0.08691213577016374
        ],
        [
         0.22142419264670096,
         0.22335734237076751,
         0.22448858933742433,
         0.21898790894477976,
         0.2227234548943884,
         0.2227171163768599,
         0.2220667070964826,
         0.22292979497133808,
         0.22132617985720143,
         0.21981092178326683,
         0.21984257087038428,
         0.22249938290127935,
         0.22215548828335516,
         0.2226635976420606,
         0.22198280219591277,
         0.22087528829590655,
         0.22250850521046303,
         0.2217010652701206,
         0.2215110786880056,
         0.21963544707635746,
         0.22053937442308547,
         0.22339545037396544,
         0.22269045261154866,
         0.2215400777629339,
         0.221562112113187,
         0.22114839684218168,
         0.2207809869273036,
         0.22078019940732596,
         0.2198080510932806,
         0.22311499696590154,
         0.22055812670356212,
         0.22122542900672437,
         0.21967148607341097,
         0.22213636310862414,
         0.2209371867790526,
         0.22118420543733472,
         0.22106272640510224,
         0.2207000212305609,
         0.2214760229667174,
         0.22158982217147508,
         0.22368453307004244,
         0.2193794434561449,
         0.22239581632026123,
         0.2237600665539503,
         0.22116466491556197,
         0.22126907471558263,
         0.22119247429438083,
         0.22094339465576351,
         0.2205610043077054,
         0.22111507874055236,
         0.22102401680860886,
         0.2210942413110067,
         0.21962584941374028,
         0.21960593833515019,
         0.2213899047278306,
         0.22246973261730196,
         0.2223683835062034,
         0.22075338847022138,
         0.22164412120850208,
         0.22054253366556675,
         0.22191966457895057,
         0.22040354879572988,
         0.22455277205353566,
         0.22278315835294552,
         0.221509242083366,
         0.22042657838513455,
         0.2196557868121411,
         0.22282050895577699,
         0.22317853156367645,
         0.2230811027088659,
         0.22186845458368315,
         0.2206818588333679,
         0.22227063929598195,
         0.2216826992419859,
         0.2232434905143272,
         0.22056609403351138,
         0.22094451170414686,
         0.221564178784177,
         0.22161790268157847,
         0.22269516257003097,
         0.22108539843968317,
         0.22030740339929858,
         0.22136949693930208,
         0.21889781230585834,
         0.22126862737715391,
         0.2219781350965301,
         0.21957278866138236,
         0.21896258304260818,
         0.2224842757625761,
         0.22270209749923178,
         0.22238506967722274,
         0.22052186014422892,
         0.22171571630728887,
         0.22077575951412903,
         0.22025700393772008,
         0.22078338393247596,
         0.22200692761872037,
         0.2197483689295968,
         0.2214688786542883,
         0.22007808645310648
        ],
        [
         22.585267649963498,
         22.782448921818286,
         22.89783611241728,
         22.336766712367535,
         22.71779239922762,
         22.71714587043971,
         22.650804123841226,
         22.738839087076485,
         22.575270345434546,
         22.420714021893218,
         22.423942228779197,
         22.694937055930495,
         22.659859804902226,
         22.71168695949018,
         22.642245823983103,
         22.529279406182468,
         22.69586753146723,
         22.613508657552302,
         22.594130026176572,
         22.40281560178846,
         22.49501619115472,
         22.786335938144475,
         22.71442616637796,
         22.59708793181926,
         22.599335435545072,
         22.55713647790253,
         22.51966066658497,
         22.519580339547247,
         22.420421211514622,
         22.757729690521955,
         22.496928923763335,
         22.564993758685887,
         22.40649157948792,
         22.657909037079662,
         22.535593051463366,
         22.560788954608142,
         22.54839809332043,
         22.51140216551721,
         22.590554342605174,
         22.60216186149046,
         22.81582237314433,
         22.37670323252678,
         22.684373264666647,
         22.82352678850293,
         22.55879582138732,
         22.569445620989427,
         22.561632378026843,
         22.53622625488788,
         22.49722243938595,
         22.55373803153634,
         22.544449714478105,
         22.551612613722682,
         22.40183664020151,
         22.39980571018532,
         22.581770282238722,
         22.6919127269648,
         22.681575117632747,
         22.51684562396258,
         22.607700363267213,
         22.49533843388781,
         22.63580578705296,
         22.481161977164447,
         22.904382749460638,
         22.723882152000442,
         22.593942692503333,
         22.483510995283723,
         22.404890254838392,
         22.727691913489252,
         22.764210219495,
         22.754272476304322,
         22.63058236753568,
         22.509549601003528,
         22.671605208190158,
         22.61163532268256,
         22.770836032461375,
         22.497741591418162,
         22.53634019382298,
         22.599546235986054,
         22.605026073521003,
         22.714906582143158,
         22.550710640847683,
         22.471355146728456,
         22.57968868780881,
         22.32757685519755,
         22.569399992469698,
         22.641769779846072,
         22.396424443461,
         22.334183470346034,
         22.693396127782762,
         22.715613944921643,
         22.68327710707672,
         22.49322973471135,
         22.615003063343465,
         22.519127470441163,
         22.46621440164745,
         22.519905161112547,
         22.644706617109478,
         22.414333630818874,
         22.589825622737408,
         22.44796481821686
        ],
        [
         2.998239406069826,
         3.0696291332824828,
         3.0794417816243915,
         2.9621099275427922,
         3.0256005675176234,
         3.037218011840954,
         3.0383602280923836,
         3.042024550815865,
         2.9908016776620756,
         2.991150444919417,
         2.9512926535229886,
         3.047100249132172,
         3.0726738136740663,
         3.0202338126854587,
         3.030554461968305,
         2.976044608765573,
         3.0314856363527483,
         3.0026345454945056,
         2.9920306636291722,
         2.9802277998611224,
         2.999223757034431,
         3.0539693180550462,
         3.0085130813064356,
         2.981123135385315,
         3.0450006686238074,
         3.019396274803909,
         2.9789823314650046,
         3.0190780970656372,
         2.9940191049270704,
         3.044115372323831,
         2.982903254984785,
         2.9903997456825686,
         2.981925302375282,
         3.02354439833739,
         2.988998066021493,
         2.9894418960542057,
         3.0014167041518145,
         2.991592783447055,
         3.0332543920039425,
         3.010224714585146,
         3.0698705392773764,
         2.9455666684126007,
         3.050519694931477,
         3.0542411701649796,
         2.9837036312620326,
         2.990968184560472,
         2.985829426012003,
         2.9589119756272697,
         3.0288666220631852,
         2.9919506195324086,
         2.9881894925797075,
         3.001322996163319,
         2.9679849383244647,
         2.991176838053362,
         2.9940861379736123,
         3.037516931754399,
         3.0232737246108874,
         3.0128551158064947,
         3.0417971031447517,
         2.9656454956682214,
         3.0353240103620567,
         2.9815076096289923,
         3.0581751595408297,
         3.055580953755277,
         3.014892194424375,
         2.9774181614484587,
         2.9632411251159425,
         3.0090903283084067,
         3.0470179876590335,
         3.041680817794225,
         3.051044302448882,
         2.983227548524183,
         2.9965290472681336,
         3.0332451630645894,
         3.043229461905941,
         3.0018567575560957,
         3.01449304269562,
         3.0324045364602368,
         3.0138509614388633,
         3.0596840793737834,
         3.0008726648240813,
         3.0012330967562395,
         3.0109946004228756,
         2.9865218352411587,
         3.0262826443824364,
         3.0283292951414027,
         2.9949388555523395,
         2.9328607434674234,
         3.0487702533967793,
         3.0464234681432463,
         3.0246041346594317,
         3.0011399122715487,
         3.0003108250138606,
         2.937770197779397,
         3.0043068386901735,
         2.983428032851987,
         3.0248052089297306,
         2.9720017143500677,
         2.9943464458289357,
         2.9774213421275633
        ]
       ],
       "encoder": "json",
       "name": "ABC_GAN_3 Metrics",
       "version": 1
      }
     },
     "metadata": {
      "scrapbook": {
       "data": true,
       "display": false,
       "name": "ABC_GAN_3 Metrics"
      }
     },
     "output_type": "display_data"
    },
    {
     "name": "stdout",
     "output_type": "stream",
     "text": [
      "MSE\n",
      "0.08881712621762586\n"
     ]
    }
   ],
   "source": [
    "ABC_GAN3_metrics=ABC_train_test2.test_generator(gen3,test_data,prior_model,variance,bias,\"3\",device)\n",
    "sb.glue(\"ABC_GAN_3 Metrics\",ABC_GAN3_metrics)\n",
    "\n",
    "print(\"MSE\")\n",
    "print(mean(ABC_GAN3_metrics[0]))"
   ]
  },
  {
   "cell_type": "code",
   "execution_count": 18,
   "id": "c8e46b48",
   "metadata": {
    "execution": {
     "iopub.execute_input": "2022-06-12T08:11:05.064875Z",
     "iopub.status.busy": "2022-06-12T08:11:05.064494Z",
     "iopub.status.idle": "2022-06-12T08:11:05.409624Z",
     "shell.execute_reply": "2022-06-12T08:11:05.409924Z"
    },
    "id": "c8e46b48",
    "papermill": {
     "duration": 0.365551,
     "end_time": "2022-06-12T08:11:05.410051",
     "exception": false,
     "start_time": "2022-06-12T08:11:05.044500",
     "status": "completed"
    },
    "tags": []
   },
   "outputs": [
    {
     "data": {
      "image/png": "[encoded data removed]",
      "text/plain": [
       "<Figure size 432x288 with 1 Axes>"
      ]
     },
     "metadata": {
      "needs_background": "light"
     },
     "output_type": "display_data"
    },
    {
     "data": {
      "image/png": "[encoded data removed]",
      "text/plain": [
       "<Figure size 432x288 with 1 Axes>"
      ]
     },
     "metadata": {
      "needs_background": "light"
     },
     "output_type": "display_data"
    },
    {
     "data": {
      "image/png": "[encoded data removed]",
      "text/plain": [
       "<Figure size 432x288 with 1 Axes>"
      ]
     },
     "metadata": {
      "needs_background": "light"
     },
     "output_type": "display_data"
    },
    {
     "data": {
      "image/png": "[encoded data removed]",
      "text/plain": [
       "<Figure size 432x288 with 1 Axes>"
      ]
     },
     "metadata": {
      "needs_background": "light"
     },
     "output_type": "display_data"
    }
   ],
   "source": [
    "sanityChecks.discProbVsError(train_data,disc3,device)\n",
    "sanityChecks.discProbVsError(test_data,disc3,device)"
   ]
  },
  {
   "cell_type": "markdown",
   "id": "a5bd74c3",
   "metadata": {
    "id": "a5bd74c3",
    "papermill": {
     "duration": 0.020132,
     "end_time": "2022-06-12T08:11:05.450334",
     "exception": false,
     "start_time": "2022-06-12T08:11:05.430202",
     "status": "completed"
    },
    "tags": []
   },
   "source": [
    "## Skip Connection Model Analysis - ABC-GAN "
   ]
  },
  {
   "cell_type": "markdown",
   "id": "5744a8bf",
   "metadata": {
    "id": "5744a8bf",
    "papermill": {
     "duration": 0.020607,
     "end_time": "2022-06-12T08:11:05.490840",
     "exception": false,
     "start_time": "2022-06-12T08:11:05.470233",
     "status": "completed"
    },
    "tags": []
   },
   "source": [
    "### Weight Analysis \n",
    "\n",
    "Study the weights of the skip connection layer\n",
    "\n",
    "Equation of the skip connection is \n",
    "\n",
    "$output = y_{gan} * w + y_{abc} * (1-w)$"
   ]
  },
  {
   "cell_type": "code",
   "execution_count": 19,
   "id": "52c31dea",
   "metadata": {
    "execution": {
     "iopub.execute_input": "2022-06-12T08:11:05.534157Z",
     "iopub.status.busy": "2022-06-12T08:11:05.533757Z",
     "iopub.status.idle": "2022-06-12T08:11:05.537163Z",
     "shell.execute_reply": "2022-06-12T08:11:05.537408Z"
    },
    "id": "52c31dea",
    "papermill": {
     "duration": 0.026192,
     "end_time": "2022-06-12T08:11:05.537524",
     "exception": false,
     "start_time": "2022-06-12T08:11:05.511332",
     "status": "completed"
    },
    "tags": []
   },
   "outputs": [
    {
     "name": "stdout",
     "output_type": "stream",
     "text": [
      "Weight of the node at skip connection\n",
      "Parameter containing:\n",
      "tensor([[0.9954]], requires_grad=True)\n"
     ]
    },
    {
     "data": {
      "application/scrapbook.scrap.json+json": {
       "data": 0.9953935742378235,
       "encoder": "json",
       "name": "Skip Connection Weight",
       "version": 1
      }
     },
     "metadata": {
      "scrapbook": {
       "data": true,
       "display": false,
       "name": "Skip Connection Weight"
      }
     },
     "output_type": "display_data"
    }
   ],
   "source": [
    "print(\"Weight of the node at skip connection\")\n",
    "for name,param in gen3.named_parameters():\n",
    "    if(name == \"skipNode.weight\"):\n",
    "        print(param)\n",
    "        sb.glue(\"Skip Connection Weight\",param.item())"
   ]
  }
 ],
 "metadata": {
  "colab": {
   "collapsed_sections": [],
   "name": "ABC_GAN_Model-Catboost_Pre-gen.ipynb",
   "provenance": []
  },
  "interpreter": {
   "hash": "31f2aee4e71d21fbe5cf8b01ff0e069b9275f58929596ceb00d14d90e3e16cd6"
  },
  "kernelspec": {
   "display_name": "Python 3 (ipykernel)",
   "language": "python",
   "name": "python3"
  },
  "language_info": {
   "codemirror_mode": {
    "name": "ipython",
    "version": 3
   },
   "file_extension": ".py",
   "mimetype": "text/x-python",
   "name": "python",
   "nbconvert_exporter": "python",
   "pygments_lexer": "ipython3",
   "version": "3.8.11"
  },
  "papermill": {
   "default_parameters": {},
   "duration": 251.220729,
   "end_time": "2022-06-12T08:11:05.865671",
   "environment_variables": {},
   "exception": null,
   "input_path": "ABC_GAN-Catboost.ipynb",
   "output_path": "./ABC_GAN_Catboost/ABC-GAN_output_9_6.ipynb",
   "parameters": {
    "bias": 0.01,
    "variance": 1
   },
   "start_time": "2022-06-12T08:06:54.644942",
   "version": "2.3.3"
  }
 },
 "nbformat": 4,
 "nbformat_minor": 5
}