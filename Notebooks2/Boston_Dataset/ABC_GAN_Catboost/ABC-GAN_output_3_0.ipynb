{
 "cells": [
  {
   "cell_type": "markdown",
   "id": "622780e6",
   "metadata": {
    "id": "622780e6",
    "papermill": {
     "duration": 0.030964,
     "end_time": "2022-06-11T17:52:01.791162",
     "exception": false,
     "start_time": "2022-06-11T17:52:01.760198",
     "status": "completed"
    },
    "tags": []
   },
   "source": [
    "## Import Libraries "
   ]
  },
  {
   "cell_type": "code",
   "execution_count": 1,
   "id": "a62397e3",
   "metadata": {
    "execution": {
     "iopub.execute_input": "2022-06-11T17:52:01.829799Z",
     "iopub.status.busy": "2022-06-11T17:52:01.829251Z",
     "iopub.status.idle": "2022-06-11T17:52:01.831758Z",
     "shell.execute_reply": "2022-06-11T17:52:01.832131Z"
    },
    "id": "a62397e3",
    "papermill": {
     "duration": 0.023685,
     "end_time": "2022-06-11T17:52:01.832360",
     "exception": false,
     "start_time": "2022-06-11T17:52:01.808675",
     "status": "completed"
    },
    "tags": []
   },
   "outputs": [],
   "source": [
    "import warnings\n",
    "import sys\n",
    "sys.path.insert(0, '../../src')\n",
    "warnings.filterwarnings('ignore')"
   ]
  },
  {
   "cell_type": "code",
   "execution_count": 2,
   "id": "d6a4e155",
   "metadata": {
    "execution": {
     "iopub.execute_input": "2022-06-11T17:52:01.854092Z",
     "iopub.status.busy": "2022-06-11T17:52:01.853694Z",
     "iopub.status.idle": "2022-06-11T17:52:03.705115Z",
     "shell.execute_reply": "2022-06-11T17:52:03.705368Z"
    },
    "id": "d6a4e155",
    "papermill": {
     "duration": 1.862685,
     "end_time": "2022-06-11T17:52:03.705513",
     "exception": false,
     "start_time": "2022-06-11T17:52:01.842828",
     "status": "completed"
    },
    "tags": []
   },
   "outputs": [],
   "source": [
    "import ABC_train_test2\n",
    "import bostonDataset\n",
    "import network\n",
    "import dataset\n",
    "import sanityChecks\n",
    "import torch \n",
    "import scrapbook as sb\n",
    "from statistics import mean \n",
    "import catboost as ctb \n",
    "from sklearn.model_selection import train_test_split\n",
    "from sklearn.metrics import mean_squared_error,mean_absolute_error\n",
    "import numpy as np"
   ]
  },
  {
   "cell_type": "markdown",
   "id": "2fa5b0f7",
   "metadata": {
    "id": "2fa5b0f7",
    "papermill": {
     "duration": 0.006855,
     "end_time": "2022-06-11T17:52:03.719981",
     "exception": false,
     "start_time": "2022-06-11T17:52:03.713126",
     "status": "completed"
    },
    "tags": []
   },
   "source": [
    "## Parameters "
   ]
  },
  {
   "cell_type": "code",
   "execution_count": 3,
   "id": "783186fb",
   "metadata": {
    "execution": {
     "iopub.execute_input": "2022-06-11T17:52:03.736733Z",
     "iopub.status.busy": "2022-06-11T17:52:03.736354Z",
     "iopub.status.idle": "2022-06-11T17:52:03.737831Z",
     "shell.execute_reply": "2022-06-11T17:52:03.738102Z"
    },
    "id": "783186fb",
    "papermill": {
     "duration": 0.010923,
     "end_time": "2022-06-11T17:52:03.738230",
     "exception": false,
     "start_time": "2022-06-11T17:52:03.727307",
     "status": "completed"
    },
    "tags": [
     "parameters"
    ]
   },
   "outputs": [],
   "source": [
    "variance = 1\n",
    "bias = 1 "
   ]
  },
  {
   "cell_type": "code",
   "execution_count": 4,
   "id": "fc04ad40",
   "metadata": {
    "execution": {
     "iopub.execute_input": "2022-06-11T17:52:03.754697Z",
     "iopub.status.busy": "2022-06-11T17:52:03.754240Z",
     "iopub.status.idle": "2022-06-11T17:52:03.755407Z",
     "shell.execute_reply": "2022-06-11T17:52:03.755729Z"
    },
    "papermill": {
     "duration": 0.010534,
     "end_time": "2022-06-11T17:52:03.755863",
     "exception": false,
     "start_time": "2022-06-11T17:52:03.745329",
     "status": "completed"
    },
    "tags": [
     "injected-parameters"
    ]
   },
   "outputs": [],
   "source": [
    "# Parameters\n",
    "variance = 1\n",
    "bias = 1\n"
   ]
  },
  {
   "cell_type": "markdown",
   "id": "391cdbfd",
   "metadata": {
    "id": "391cdbfd",
    "papermill": {
     "duration": 0.006799,
     "end_time": "2022-06-11T17:52:03.769818",
     "exception": false,
     "start_time": "2022-06-11T17:52:03.763019",
     "status": "completed"
    },
    "tags": []
   },
   "source": [
    "## Dataset \n"
   ]
  },
  {
   "cell_type": "code",
   "execution_count": 5,
   "id": "5b51f161",
   "metadata": {
    "execution": {
     "iopub.execute_input": "2022-06-11T17:52:03.786520Z",
     "iopub.status.busy": "2022-06-11T17:52:03.786147Z",
     "iopub.status.idle": "2022-06-11T17:52:03.787390Z",
     "shell.execute_reply": "2022-06-11T17:52:03.787641Z"
    },
    "id": "5b51f161",
    "papermill": {
     "duration": 0.010494,
     "end_time": "2022-06-11T17:52:03.787759",
     "exception": false,
     "start_time": "2022-06-11T17:52:03.777265",
     "status": "completed"
    },
    "tags": []
   },
   "outputs": [],
   "source": [
    "#Parameters \n",
    "n_features = 13\n",
    "n_samples= 506\n",
    "n_target = 1 "
   ]
  },
  {
   "cell_type": "code",
   "execution_count": 6,
   "id": "5d6eced4",
   "metadata": {
    "execution": {
     "iopub.execute_input": "2022-06-11T17:52:03.803879Z",
     "iopub.status.busy": "2022-06-11T17:52:03.803505Z",
     "iopub.status.idle": "2022-06-11T17:52:03.814614Z",
     "shell.execute_reply": "2022-06-11T17:52:03.814857Z"
    },
    "id": "5d6eced4",
    "papermill": {
     "duration": 0.0202,
     "end_time": "2022-06-11T17:52:03.814975",
     "exception": false,
     "start_time": "2022-06-11T17:52:03.794775",
     "status": "completed"
    },
    "tags": []
   },
   "outputs": [
    {
     "name": "stdout",
     "output_type": "stream",
     "text": [
      "         X1        X2        X3        X4        X5        X6        X7  \\\n",
      "0 -0.419782  0.284830 -1.287909 -0.272599 -0.144217  0.413672 -0.120013   \n",
      "1 -0.417339 -0.487722 -0.593381 -0.272599 -0.740262  0.194274  0.367166   \n",
      "2 -0.417342 -0.487722 -0.593381 -0.272599 -0.740262  1.282714 -0.265812   \n",
      "3 -0.416750 -0.487722 -1.306878 -0.272599 -0.835284  1.016303 -0.809889   \n",
      "4 -0.412482 -0.487722 -1.306878 -0.272599 -0.835284  1.228577 -0.511180   \n",
      "\n",
      "         X8        X9       X10       X11       X12       X13         Y  \n",
      "0  0.140214 -0.982843 -0.666608 -1.459000  0.441052 -1.075562  0.159686  \n",
      "1  0.557160 -0.867883 -0.987329 -0.303094  0.441052 -0.492439 -0.101524  \n",
      "2  0.557160 -0.867883 -0.987329 -0.303094  0.396427 -1.208727  1.324247  \n",
      "3  1.077737 -0.752922 -1.106115  0.113032  0.416163 -1.361517  1.182758  \n",
      "4  1.077737 -0.752922 -1.106115  0.113032  0.441052 -1.026501  1.487503  \n"
     ]
    }
   ],
   "source": [
    "X,Y = bostonDataset.boston_data()"
   ]
  },
  {
   "cell_type": "code",
   "execution_count": 7,
   "id": "fe007438",
   "metadata": {
    "execution": {
     "iopub.execute_input": "2022-06-11T17:52:03.832027Z",
     "iopub.status.busy": "2022-06-11T17:52:03.831595Z",
     "iopub.status.idle": "2022-06-11T17:52:03.833191Z",
     "shell.execute_reply": "2022-06-11T17:52:03.833429Z"
    },
    "id": "fe007438",
    "papermill": {
     "duration": 0.011269,
     "end_time": "2022-06-11T17:52:03.833539",
     "exception": false,
     "start_time": "2022-06-11T17:52:03.822270",
     "status": "completed"
    },
    "tags": []
   },
   "outputs": [],
   "source": [
    "#Train test split for dataset \n",
    "X_train,X_test,Y_train,Y_test = train_test_split(X,Y,test_size = 0.2)\n",
    "train_data = dataset.CustomDataset(X_train,Y_train)\n",
    "test_data = dataset.CustomDataset(X_test,Y_test)\n"
   ]
  },
  {
   "cell_type": "markdown",
   "id": "a9a1af34",
   "metadata": {
    "id": "a9a1af34",
    "papermill": {
     "duration": 0.007085,
     "end_time": "2022-06-11T17:52:03.847792",
     "exception": false,
     "start_time": "2022-06-11T17:52:03.840707",
     "status": "completed"
    },
    "tags": []
   },
   "source": [
    "## Training Parameters "
   ]
  },
  {
   "cell_type": "code",
   "execution_count": 8,
   "id": "952b7fc8",
   "metadata": {
    "execution": {
     "iopub.execute_input": "2022-06-11T17:52:03.864061Z",
     "iopub.status.busy": "2022-06-11T17:52:03.863687Z",
     "iopub.status.idle": "2022-06-11T17:52:03.865010Z",
     "shell.execute_reply": "2022-06-11T17:52:03.865247Z"
    },
    "id": "952b7fc8",
    "papermill": {
     "duration": 0.010544,
     "end_time": "2022-06-11T17:52:03.865353",
     "exception": false,
     "start_time": "2022-06-11T17:52:03.854809",
     "status": "completed"
    },
    "tags": []
   },
   "outputs": [],
   "source": [
    "batch_size = 32\n",
    "n_epochs = 1000\n",
    "#Select the device \n",
    "device = torch.device('cuda' if torch.cuda.is_available() else 'cpu')"
   ]
  },
  {
   "cell_type": "markdown",
   "id": "a95e1600",
   "metadata": {
    "id": "a95e1600",
    "papermill": {
     "duration": 0.007362,
     "end_time": "2022-06-11T17:52:03.879904",
     "exception": false,
     "start_time": "2022-06-11T17:52:03.872542",
     "status": "completed"
    },
    "tags": []
   },
   "source": [
    "# ABC Pre-generator Model \n",
    "\n",
    "1. The catboost model is used as a pre-generator model for the ABC-GAN. \n",
    "2. The model is first trained on the entire dataset \n",
    "3. It generats X,Y pairs and we add some Gaussian noise with mean 0 and variance 1 to it which is then feed as input to the generator.\n"
   ]
  },
  {
   "cell_type": "code",
   "execution_count": 9,
   "id": "ff8ce7bd",
   "metadata": {
    "execution": {
     "iopub.execute_input": "2022-06-11T17:52:03.900597Z",
     "iopub.status.busy": "2022-06-11T17:52:03.900196Z",
     "iopub.status.idle": "2022-06-11T17:52:05.015895Z",
     "shell.execute_reply": "2022-06-11T17:52:05.016185Z"
    },
    "id": "ff8ce7bd",
    "papermill": {
     "duration": 1.129129,
     "end_time": "2022-06-11T17:52:05.016304",
     "exception": false,
     "start_time": "2022-06-11T17:52:03.887175",
     "status": "completed"
    },
    "tags": []
   },
   "outputs": [
    {
     "name": "stdout",
     "output_type": "stream",
     "text": [
      "Learning rate set to 0.033215\n",
      "0:\tlearn: 0.9605611\ttotal: 59.8ms\tremaining: 59.7s\n",
      "1:\tlearn: 0.9416711\ttotal: 60.7ms\tremaining: 30.3s\n",
      "2:\tlearn: 0.9219285\ttotal: 61.6ms\tremaining: 20.5s\n",
      "3:\tlearn: 0.9059489\ttotal: 62.6ms\tremaining: 15.6s\n",
      "4:\tlearn: 0.8904200\ttotal: 63.6ms\tremaining: 12.7s\n",
      "5:\tlearn: 0.8750034\ttotal: 64.6ms\tremaining: 10.7s\n",
      "6:\tlearn: 0.8602710\ttotal: 65.5ms\tremaining: 9.29s\n",
      "7:\tlearn: 0.8439259\ttotal: 66.4ms\tremaining: 8.23s\n",
      "8:\tlearn: 0.8294348\ttotal: 67.2ms\tremaining: 7.4s\n",
      "9:\tlearn: 0.8150192\ttotal: 68.4ms\tremaining: 6.77s\n",
      "10:\tlearn: 0.8011484\ttotal: 70.3ms\tremaining: 6.32s\n",
      "11:\tlearn: 0.7878085\ttotal: 71.4ms\tremaining: 5.88s\n",
      "12:\tlearn: 0.7736105\ttotal: 72.8ms\tremaining: 5.52s\n",
      "13:\tlearn: 0.7604071\ttotal: 73.7ms\tremaining: 5.19s\n",
      "14:\tlearn: 0.7487178\ttotal: 74.7ms\tremaining: 4.91s\n",
      "15:\tlearn: 0.7353637\ttotal: 75.7ms\tremaining: 4.66s\n",
      "16:\tlearn: 0.7253171\ttotal: 76.5ms\tremaining: 4.42s\n",
      "17:\tlearn: 0.7150087\ttotal: 77.4ms\tremaining: 4.22s\n",
      "18:\tlearn: 0.7037839\ttotal: 78.2ms\tremaining: 4.04s\n",
      "19:\tlearn: 0.6908324\ttotal: 79ms\tremaining: 3.87s\n",
      "20:\tlearn: 0.6781853\ttotal: 79.8ms\tremaining: 3.72s\n",
      "21:\tlearn: 0.6680388\ttotal: 80.6ms\tremaining: 3.58s\n",
      "22:\tlearn: 0.6573279\ttotal: 81.4ms\tremaining: 3.46s\n",
      "23:\tlearn: 0.6478781\ttotal: 82.2ms\tremaining: 3.34s\n",
      "24:\tlearn: 0.6390173\ttotal: 83ms\tremaining: 3.24s\n",
      "25:\tlearn: 0.6316264\ttotal: 83.8ms\tremaining: 3.14s\n",
      "26:\tlearn: 0.6235797\ttotal: 84.7ms\tremaining: 3.05s\n",
      "27:\tlearn: 0.6161478\ttotal: 85.8ms\tremaining: 2.98s\n",
      "28:\tlearn: 0.6077161\ttotal: 87.1ms\tremaining: 2.92s\n",
      "29:\tlearn: 0.5983469\ttotal: 87.9ms\tremaining: 2.84s\n",
      "30:\tlearn: 0.5908360\ttotal: 88.8ms\tremaining: 2.78s\n",
      "31:\tlearn: 0.5839254\ttotal: 89.7ms\tremaining: 2.71s\n",
      "32:\tlearn: 0.5775174\ttotal: 90.6ms\tremaining: 2.65s\n",
      "33:\tlearn: 0.5697913\ttotal: 91.3ms\tremaining: 2.6s\n",
      "34:\tlearn: 0.5632358\ttotal: 92.2ms\tremaining: 2.54s\n",
      "35:\tlearn: 0.5561504\ttotal: 93.5ms\tremaining: 2.5s\n",
      "36:\tlearn: 0.5504917\ttotal: 94.4ms\tremaining: 2.46s\n",
      "37:\tlearn: 0.5442627\ttotal: 95.3ms\tremaining: 2.41s\n",
      "38:\tlearn: 0.5371414\ttotal: 96.3ms\tremaining: 2.37s\n",
      "39:\tlearn: 0.5296724\ttotal: 97.1ms\tremaining: 2.33s\n",
      "40:\tlearn: 0.5236404\ttotal: 97.9ms\tremaining: 2.29s\n",
      "41:\tlearn: 0.5169512\ttotal: 98.8ms\tremaining: 2.25s\n",
      "42:\tlearn: 0.5120380\ttotal: 99.8ms\tremaining: 2.22s\n",
      "43:\tlearn: 0.5058529\ttotal: 101ms\tremaining: 2.19s\n",
      "44:\tlearn: 0.5004919\ttotal: 102ms\tremaining: 2.16s\n",
      "45:\tlearn: 0.4940386\ttotal: 103ms\tremaining: 2.13s\n",
      "46:\tlearn: 0.4877100\ttotal: 104ms\tremaining: 2.11s\n",
      "47:\tlearn: 0.4821917\ttotal: 105ms\tremaining: 2.08s\n",
      "48:\tlearn: 0.4762464\ttotal: 106ms\tremaining: 2.05s\n"
     ]
    },
    {
     "name": "stdout",
     "output_type": "stream",
     "text": [
      "49:\tlearn: 0.4707373\ttotal: 107ms\tremaining: 2.03s\n",
      "50:\tlearn: 0.4652875\ttotal: 108ms\tremaining: 2.01s\n",
      "51:\tlearn: 0.4601337\ttotal: 109ms\tremaining: 1.99s\n",
      "52:\tlearn: 0.4557984\ttotal: 110ms\tremaining: 1.96s\n",
      "53:\tlearn: 0.4518661\ttotal: 110ms\tremaining: 1.93s\n",
      "54:\tlearn: 0.4477631\ttotal: 111ms\tremaining: 1.91s\n",
      "55:\tlearn: 0.4447866\ttotal: 112ms\tremaining: 1.89s\n",
      "56:\tlearn: 0.4404510\ttotal: 113ms\tremaining: 1.87s\n",
      "57:\tlearn: 0.4359643\ttotal: 114ms\tremaining: 1.85s\n",
      "58:\tlearn: 0.4316415\ttotal: 115ms\tremaining: 1.83s\n",
      "59:\tlearn: 0.4279819\ttotal: 117ms\tremaining: 1.83s\n",
      "60:\tlearn: 0.4236365\ttotal: 118ms\tremaining: 1.81s\n",
      "61:\tlearn: 0.4193896\ttotal: 119ms\tremaining: 1.8s\n",
      "62:\tlearn: 0.4148715\ttotal: 120ms\tremaining: 1.78s\n",
      "63:\tlearn: 0.4112257\ttotal: 121ms\tremaining: 1.77s\n",
      "64:\tlearn: 0.4086124\ttotal: 122ms\tremaining: 1.75s\n",
      "65:\tlearn: 0.4045279\ttotal: 123ms\tremaining: 1.73s\n",
      "66:\tlearn: 0.4005385\ttotal: 123ms\tremaining: 1.72s\n",
      "67:\tlearn: 0.3977412\ttotal: 124ms\tremaining: 1.7s\n",
      "68:\tlearn: 0.3948951\ttotal: 125ms\tremaining: 1.69s\n",
      "69:\tlearn: 0.3924478\ttotal: 126ms\tremaining: 1.67s\n",
      "70:\tlearn: 0.3887998\ttotal: 127ms\tremaining: 1.66s\n",
      "71:\tlearn: 0.3865924\ttotal: 128ms\tremaining: 1.64s\n",
      "72:\tlearn: 0.3835116\ttotal: 128ms\tremaining: 1.63s\n",
      "73:\tlearn: 0.3806156\ttotal: 129ms\tremaining: 1.61s\n",
      "74:\tlearn: 0.3778994\ttotal: 130ms\tremaining: 1.6s\n",
      "75:\tlearn: 0.3757011\ttotal: 131ms\tremaining: 1.59s\n",
      "76:\tlearn: 0.3733294\ttotal: 132ms\tremaining: 1.59s\n",
      "77:\tlearn: 0.3711701\ttotal: 134ms\tremaining: 1.58s\n",
      "78:\tlearn: 0.3691588\ttotal: 135ms\tremaining: 1.57s\n",
      "79:\tlearn: 0.3670523\ttotal: 136ms\tremaining: 1.56s\n",
      "80:\tlearn: 0.3645875\ttotal: 137ms\tremaining: 1.55s\n",
      "81:\tlearn: 0.3615182\ttotal: 138ms\tremaining: 1.54s\n",
      "82:\tlearn: 0.3592945\ttotal: 139ms\tremaining: 1.53s\n",
      "83:\tlearn: 0.3567825\ttotal: 140ms\tremaining: 1.53s\n",
      "84:\tlearn: 0.3542060\ttotal: 141ms\tremaining: 1.52s\n",
      "85:\tlearn: 0.3518593\ttotal: 142ms\tremaining: 1.51s\n",
      "86:\tlearn: 0.3497186\ttotal: 143ms\tremaining: 1.5s\n",
      "87:\tlearn: 0.3475187\ttotal: 144ms\tremaining: 1.49s\n",
      "88:\tlearn: 0.3451710\ttotal: 145ms\tremaining: 1.48s\n",
      "89:\tlearn: 0.3429463\ttotal: 146ms\tremaining: 1.48s\n",
      "90:\tlearn: 0.3403196\ttotal: 147ms\tremaining: 1.47s\n",
      "91:\tlearn: 0.3387288\ttotal: 148ms\tremaining: 1.46s\n",
      "92:\tlearn: 0.3358156\ttotal: 150ms\tremaining: 1.46s\n",
      "93:\tlearn: 0.3331874\ttotal: 151ms\tremaining: 1.45s\n",
      "94:\tlearn: 0.3310947\ttotal: 152ms\tremaining: 1.44s\n",
      "95:\tlearn: 0.3287347\ttotal: 153ms\tremaining: 1.44s\n",
      "96:\tlearn: 0.3270877\ttotal: 154ms\tremaining: 1.43s\n",
      "97:\tlearn: 0.3253922\ttotal: 154ms\tremaining: 1.42s\n",
      "98:\tlearn: 0.3236431\ttotal: 155ms\tremaining: 1.41s\n",
      "99:\tlearn: 0.3222714\ttotal: 156ms\tremaining: 1.41s\n",
      "100:\tlearn: 0.3205692\ttotal: 157ms\tremaining: 1.4s\n",
      "101:\tlearn: 0.3189758\ttotal: 158ms\tremaining: 1.39s\n",
      "102:\tlearn: 0.3174075\ttotal: 159ms\tremaining: 1.39s\n",
      "103:\tlearn: 0.3160597\ttotal: 160ms\tremaining: 1.38s\n",
      "104:\tlearn: 0.3146147\ttotal: 161ms\tremaining: 1.37s\n",
      "105:\tlearn: 0.3130261\ttotal: 162ms\tremaining: 1.37s\n",
      "106:\tlearn: 0.3109739\ttotal: 163ms\tremaining: 1.36s\n",
      "107:\tlearn: 0.3090439\ttotal: 164ms\tremaining: 1.36s\n",
      "108:\tlearn: 0.3072054\ttotal: 166ms\tremaining: 1.35s\n",
      "109:\tlearn: 0.3054063\ttotal: 166ms\tremaining: 1.35s\n",
      "110:\tlearn: 0.3037376\ttotal: 167ms\tremaining: 1.34s\n",
      "111:\tlearn: 0.3026686\ttotal: 168ms\tremaining: 1.33s\n",
      "112:\tlearn: 0.3012134\ttotal: 169ms\tremaining: 1.32s\n",
      "113:\tlearn: 0.2992871\ttotal: 170ms\tremaining: 1.32s\n",
      "114:\tlearn: 0.2979042\ttotal: 170ms\tremaining: 1.31s\n",
      "115:\tlearn: 0.2965116\ttotal: 171ms\tremaining: 1.3s\n",
      "116:\tlearn: 0.2948835\ttotal: 172ms\tremaining: 1.3s\n",
      "117:\tlearn: 0.2935650\ttotal: 173ms\tremaining: 1.29s\n",
      "118:\tlearn: 0.2922407\ttotal: 174ms\tremaining: 1.29s\n",
      "119:\tlearn: 0.2912324\ttotal: 175ms\tremaining: 1.28s\n",
      "120:\tlearn: 0.2900135\ttotal: 175ms\tremaining: 1.27s\n",
      "121:\tlearn: 0.2885944\ttotal: 176ms\tremaining: 1.27s\n",
      "122:\tlearn: 0.2876619\ttotal: 177ms\tremaining: 1.26s\n",
      "123:\tlearn: 0.2866981\ttotal: 178ms\tremaining: 1.26s\n",
      "124:\tlearn: 0.2858023\ttotal: 179ms\tremaining: 1.25s\n",
      "125:\tlearn: 0.2844954\ttotal: 180ms\tremaining: 1.25s\n",
      "126:\tlearn: 0.2830407\ttotal: 181ms\tremaining: 1.25s\n",
      "127:\tlearn: 0.2816009\ttotal: 182ms\tremaining: 1.24s\n",
      "128:\tlearn: 0.2802106\ttotal: 183ms\tremaining: 1.24s\n",
      "129:\tlearn: 0.2790676\ttotal: 184ms\tremaining: 1.23s\n",
      "130:\tlearn: 0.2780321\ttotal: 185ms\tremaining: 1.23s\n",
      "131:\tlearn: 0.2769309\ttotal: 186ms\tremaining: 1.22s\n",
      "132:\tlearn: 0.2758696\ttotal: 186ms\tremaining: 1.22s\n",
      "133:\tlearn: 0.2743872\ttotal: 187ms\tremaining: 1.21s\n",
      "134:\tlearn: 0.2733610\ttotal: 188ms\tremaining: 1.2s\n",
      "135:\tlearn: 0.2722658\ttotal: 189ms\tremaining: 1.2s\n",
      "136:\tlearn: 0.2713544\ttotal: 190ms\tremaining: 1.19s\n"
     ]
    },
    {
     "name": "stdout",
     "output_type": "stream",
     "text": [
      "137:\tlearn: 0.2701561\ttotal: 191ms\tremaining: 1.19s\n",
      "138:\tlearn: 0.2690616\ttotal: 192ms\tremaining: 1.19s\n",
      "139:\tlearn: 0.2680059\ttotal: 193ms\tremaining: 1.18s\n",
      "140:\tlearn: 0.2671678\ttotal: 194ms\tremaining: 1.18s\n",
      "141:\tlearn: 0.2663491\ttotal: 195ms\tremaining: 1.18s\n",
      "142:\tlearn: 0.2653636\ttotal: 196ms\tremaining: 1.18s\n",
      "143:\tlearn: 0.2645818\ttotal: 197ms\tremaining: 1.17s\n",
      "144:\tlearn: 0.2635221\ttotal: 198ms\tremaining: 1.17s\n",
      "145:\tlearn: 0.2626958\ttotal: 199ms\tremaining: 1.16s\n",
      "146:\tlearn: 0.2618441\ttotal: 200ms\tremaining: 1.16s\n",
      "147:\tlearn: 0.2608589\ttotal: 201ms\tremaining: 1.15s\n",
      "148:\tlearn: 0.2598885\ttotal: 202ms\tremaining: 1.15s\n",
      "149:\tlearn: 0.2592344\ttotal: 202ms\tremaining: 1.15s\n",
      "150:\tlearn: 0.2581326\ttotal: 203ms\tremaining: 1.14s\n",
      "151:\tlearn: 0.2573550\ttotal: 204ms\tremaining: 1.14s\n",
      "152:\tlearn: 0.2566929\ttotal: 205ms\tremaining: 1.13s\n",
      "153:\tlearn: 0.2558492\ttotal: 206ms\tremaining: 1.13s\n",
      "154:\tlearn: 0.2548538\ttotal: 207ms\tremaining: 1.13s\n",
      "155:\tlearn: 0.2536901\ttotal: 208ms\tremaining: 1.12s\n",
      "156:\tlearn: 0.2528700\ttotal: 209ms\tremaining: 1.12s\n",
      "157:\tlearn: 0.2517702\ttotal: 210ms\tremaining: 1.12s\n",
      "158:\tlearn: 0.2510699\ttotal: 211ms\tremaining: 1.11s\n",
      "159:\tlearn: 0.2502846\ttotal: 212ms\tremaining: 1.11s\n",
      "160:\tlearn: 0.2492604\ttotal: 213ms\tremaining: 1.11s\n",
      "161:\tlearn: 0.2484740\ttotal: 214ms\tremaining: 1.11s\n",
      "162:\tlearn: 0.2476970\ttotal: 215ms\tremaining: 1.1s\n",
      "163:\tlearn: 0.2471708\ttotal: 216ms\tremaining: 1.1s\n",
      "164:\tlearn: 0.2465933\ttotal: 217ms\tremaining: 1.1s\n",
      "165:\tlearn: 0.2459457\ttotal: 218ms\tremaining: 1.1s\n",
      "166:\tlearn: 0.2452478\ttotal: 219ms\tremaining: 1.09s\n",
      "167:\tlearn: 0.2444499\ttotal: 220ms\tremaining: 1.09s\n",
      "168:\tlearn: 0.2438703\ttotal: 221ms\tremaining: 1.09s\n",
      "169:\tlearn: 0.2428757\ttotal: 222ms\tremaining: 1.08s\n",
      "170:\tlearn: 0.2422112\ttotal: 223ms\tremaining: 1.08s\n",
      "171:\tlearn: 0.2415681\ttotal: 224ms\tremaining: 1.08s\n",
      "172:\tlearn: 0.2408966\ttotal: 225ms\tremaining: 1.08s\n",
      "173:\tlearn: 0.2401866\ttotal: 226ms\tremaining: 1.07s\n",
      "174:\tlearn: 0.2392527\ttotal: 227ms\tremaining: 1.07s\n",
      "175:\tlearn: 0.2387767\ttotal: 228ms\tremaining: 1.07s\n",
      "176:\tlearn: 0.2377800\ttotal: 230ms\tremaining: 1.07s\n",
      "177:\tlearn: 0.2372980\ttotal: 231ms\tremaining: 1.06s\n",
      "178:\tlearn: 0.2366628\ttotal: 232ms\tremaining: 1.06s\n",
      "179:\tlearn: 0.2359686\ttotal: 233ms\tremaining: 1.06s\n",
      "180:\tlearn: 0.2349508\ttotal: 234ms\tremaining: 1.06s\n",
      "181:\tlearn: 0.2340949\ttotal: 234ms\tremaining: 1.05s\n",
      "182:\tlearn: 0.2334435\ttotal: 235ms\tremaining: 1.05s\n",
      "183:\tlearn: 0.2327494\ttotal: 236ms\tremaining: 1.05s\n",
      "184:\tlearn: 0.2320553\ttotal: 237ms\tremaining: 1.04s\n",
      "185:\tlearn: 0.2314672\ttotal: 238ms\tremaining: 1.04s\n",
      "186:\tlearn: 0.2306781\ttotal: 238ms\tremaining: 1.04s\n",
      "187:\tlearn: 0.2300459\ttotal: 239ms\tremaining: 1.03s\n",
      "188:\tlearn: 0.2293593\ttotal: 241ms\tremaining: 1.03s\n",
      "189:\tlearn: 0.2286966\ttotal: 242ms\tremaining: 1.03s\n",
      "190:\tlearn: 0.2280448\ttotal: 243ms\tremaining: 1.03s\n",
      "191:\tlearn: 0.2272052\ttotal: 244ms\tremaining: 1.03s\n",
      "192:\tlearn: 0.2262577\ttotal: 245ms\tremaining: 1.02s\n",
      "193:\tlearn: 0.2256710\ttotal: 246ms\tremaining: 1.02s\n",
      "194:\tlearn: 0.2248266\ttotal: 247ms\tremaining: 1.02s\n",
      "195:\tlearn: 0.2242884\ttotal: 248ms\tremaining: 1.02s\n",
      "196:\tlearn: 0.2238511\ttotal: 249ms\tremaining: 1.01s\n",
      "197:\tlearn: 0.2234246\ttotal: 250ms\tremaining: 1.01s\n",
      "198:\tlearn: 0.2228689\ttotal: 251ms\tremaining: 1.01s\n",
      "199:\tlearn: 0.2221825\ttotal: 251ms\tremaining: 1s\n",
      "200:\tlearn: 0.2216167\ttotal: 252ms\tremaining: 1s\n",
      "201:\tlearn: 0.2210788\ttotal: 253ms\tremaining: 1s\n",
      "202:\tlearn: 0.2204531\ttotal: 254ms\tremaining: 998ms\n",
      "203:\tlearn: 0.2199758\ttotal: 255ms\tremaining: 996ms\n",
      "204:\tlearn: 0.2193889\ttotal: 256ms\tremaining: 994ms\n",
      "205:\tlearn: 0.2186210\ttotal: 257ms\tremaining: 992ms\n",
      "206:\tlearn: 0.2178211\ttotal: 259ms\tremaining: 991ms\n",
      "207:\tlearn: 0.2173033\ttotal: 260ms\tremaining: 989ms\n",
      "208:\tlearn: 0.2168777\ttotal: 261ms\tremaining: 987ms\n",
      "209:\tlearn: 0.2162516\ttotal: 262ms\tremaining: 984ms\n",
      "210:\tlearn: 0.2156744\ttotal: 263ms\tremaining: 982ms\n",
      "211:\tlearn: 0.2150127\ttotal: 263ms\tremaining: 979ms\n",
      "212:\tlearn: 0.2145687\ttotal: 264ms\tremaining: 976ms\n",
      "213:\tlearn: 0.2138795\ttotal: 265ms\tremaining: 973ms\n",
      "214:\tlearn: 0.2133944\ttotal: 266ms\tremaining: 970ms\n",
      "215:\tlearn: 0.2128383\ttotal: 267ms\tremaining: 968ms\n",
      "216:\tlearn: 0.2125219\ttotal: 267ms\tremaining: 965ms\n",
      "217:\tlearn: 0.2118882\ttotal: 268ms\tremaining: 962ms\n",
      "218:\tlearn: 0.2115338\ttotal: 269ms\tremaining: 960ms\n",
      "219:\tlearn: 0.2108051\ttotal: 270ms\tremaining: 957ms\n",
      "220:\tlearn: 0.2102664\ttotal: 271ms\tremaining: 955ms\n",
      "221:\tlearn: 0.2097402\ttotal: 272ms\tremaining: 953ms\n",
      "222:\tlearn: 0.2091311\ttotal: 273ms\tremaining: 951ms\n",
      "223:\tlearn: 0.2087129\ttotal: 274ms\tremaining: 949ms\n",
      "224:\tlearn: 0.2081279\ttotal: 275ms\tremaining: 947ms\n",
      "225:\tlearn: 0.2075451\ttotal: 276ms\tremaining: 944ms\n",
      "226:\tlearn: 0.2070882\ttotal: 277ms\tremaining: 942ms\n",
      "227:\tlearn: 0.2064059\ttotal: 277ms\tremaining: 939ms\n",
      "228:\tlearn: 0.2058545\ttotal: 278ms\tremaining: 937ms\n",
      "229:\tlearn: 0.2055234\ttotal: 279ms\tremaining: 934ms\n",
      "230:\tlearn: 0.2051518\ttotal: 280ms\tremaining: 932ms\n",
      "231:\tlearn: 0.2045568\ttotal: 281ms\tremaining: 930ms\n",
      "232:\tlearn: 0.2040582\ttotal: 282ms\tremaining: 928ms\n",
      "233:\tlearn: 0.2037400\ttotal: 283ms\tremaining: 925ms\n",
      "234:\tlearn: 0.2032176\ttotal: 283ms\tremaining: 923ms\n",
      "235:\tlearn: 0.2027529\ttotal: 284ms\tremaining: 920ms\n",
      "236:\tlearn: 0.2022202\ttotal: 285ms\tremaining: 918ms\n",
      "237:\tlearn: 0.2017138\ttotal: 286ms\tremaining: 915ms\n",
      "238:\tlearn: 0.2011669\ttotal: 287ms\tremaining: 914ms\n",
      "239:\tlearn: 0.2005191\ttotal: 288ms\tremaining: 911ms\n",
      "240:\tlearn: 0.2000029\ttotal: 289ms\tremaining: 910ms\n",
      "241:\tlearn: 0.1996910\ttotal: 290ms\tremaining: 908ms\n",
      "242:\tlearn: 0.1991684\ttotal: 291ms\tremaining: 906ms\n",
      "243:\tlearn: 0.1986299\ttotal: 292ms\tremaining: 904ms\n",
      "244:\tlearn: 0.1983286\ttotal: 293ms\tremaining: 901ms\n",
      "245:\tlearn: 0.1978856\ttotal: 293ms\tremaining: 899ms\n",
      "246:\tlearn: 0.1974430\ttotal: 294ms\tremaining: 897ms\n"
     ]
    },
    {
     "name": "stdout",
     "output_type": "stream",
     "text": [
      "247:\tlearn: 0.1969557\ttotal: 295ms\tremaining: 895ms\n",
      "248:\tlearn: 0.1967357\ttotal: 296ms\tremaining: 894ms\n",
      "249:\tlearn: 0.1962513\ttotal: 297ms\tremaining: 892ms\n",
      "250:\tlearn: 0.1959084\ttotal: 298ms\tremaining: 889ms\n",
      "251:\tlearn: 0.1952595\ttotal: 299ms\tremaining: 887ms\n",
      "252:\tlearn: 0.1947094\ttotal: 300ms\tremaining: 885ms\n",
      "253:\tlearn: 0.1941603\ttotal: 301ms\tremaining: 883ms\n",
      "254:\tlearn: 0.1936686\ttotal: 301ms\tremaining: 880ms\n",
      "255:\tlearn: 0.1933838\ttotal: 302ms\tremaining: 878ms\n",
      "256:\tlearn: 0.1929414\ttotal: 303ms\tremaining: 877ms\n",
      "257:\tlearn: 0.1927448\ttotal: 305ms\tremaining: 876ms\n",
      "258:\tlearn: 0.1921995\ttotal: 306ms\tremaining: 874ms\n",
      "259:\tlearn: 0.1917967\ttotal: 307ms\tremaining: 872ms\n",
      "260:\tlearn: 0.1915247\ttotal: 307ms\tremaining: 870ms\n",
      "261:\tlearn: 0.1910612\ttotal: 308ms\tremaining: 868ms\n",
      "262:\tlearn: 0.1908485\ttotal: 309ms\tremaining: 866ms\n",
      "263:\tlearn: 0.1903354\ttotal: 310ms\tremaining: 864ms\n",
      "264:\tlearn: 0.1897407\ttotal: 311ms\tremaining: 862ms\n",
      "265:\tlearn: 0.1892418\ttotal: 312ms\tremaining: 860ms\n",
      "266:\tlearn: 0.1890087\ttotal: 312ms\tremaining: 858ms\n",
      "267:\tlearn: 0.1885125\ttotal: 313ms\tremaining: 855ms\n",
      "268:\tlearn: 0.1882189\ttotal: 314ms\tremaining: 853ms\n",
      "269:\tlearn: 0.1880036\ttotal: 315ms\tremaining: 851ms\n",
      "270:\tlearn: 0.1873602\ttotal: 316ms\tremaining: 849ms\n",
      "271:\tlearn: 0.1868389\ttotal: 317ms\tremaining: 847ms\n",
      "272:\tlearn: 0.1863160\ttotal: 317ms\tremaining: 845ms\n",
      "273:\tlearn: 0.1858736\ttotal: 319ms\tremaining: 844ms\n",
      "274:\tlearn: 0.1855593\ttotal: 320ms\tremaining: 843ms\n",
      "275:\tlearn: 0.1851854\ttotal: 321ms\tremaining: 842ms\n",
      "276:\tlearn: 0.1847472\ttotal: 322ms\tremaining: 841ms\n",
      "277:\tlearn: 0.1841923\ttotal: 323ms\tremaining: 839ms\n",
      "278:\tlearn: 0.1839625\ttotal: 324ms\tremaining: 837ms\n",
      "279:\tlearn: 0.1835535\ttotal: 325ms\tremaining: 835ms\n",
      "280:\tlearn: 0.1829660\ttotal: 326ms\tremaining: 834ms\n",
      "281:\tlearn: 0.1824530\ttotal: 327ms\tremaining: 832ms\n",
      "282:\tlearn: 0.1820667\ttotal: 327ms\tremaining: 830ms\n",
      "283:\tlearn: 0.1815947\ttotal: 328ms\tremaining: 828ms\n",
      "284:\tlearn: 0.1812974\ttotal: 329ms\tremaining: 825ms\n",
      "285:\tlearn: 0.1808150\ttotal: 330ms\tremaining: 823ms\n",
      "286:\tlearn: 0.1803943\ttotal: 331ms\tremaining: 821ms\n",
      "287:\tlearn: 0.1799540\ttotal: 331ms\tremaining: 819ms\n",
      "288:\tlearn: 0.1796341\ttotal: 332ms\tremaining: 817ms\n",
      "289:\tlearn: 0.1792154\ttotal: 333ms\tremaining: 815ms\n",
      "290:\tlearn: 0.1788886\ttotal: 334ms\tremaining: 814ms\n",
      "291:\tlearn: 0.1784658\ttotal: 335ms\tremaining: 812ms\n",
      "292:\tlearn: 0.1781043\ttotal: 336ms\tremaining: 810ms\n",
      "293:\tlearn: 0.1777321\ttotal: 337ms\tremaining: 808ms\n",
      "294:\tlearn: 0.1773450\ttotal: 338ms\tremaining: 807ms\n",
      "295:\tlearn: 0.1770032\ttotal: 339ms\tremaining: 806ms\n",
      "296:\tlearn: 0.1766240\ttotal: 340ms\tremaining: 804ms\n",
      "297:\tlearn: 0.1762214\ttotal: 341ms\tremaining: 802ms\n",
      "298:\tlearn: 0.1758741\ttotal: 341ms\tremaining: 801ms\n",
      "299:\tlearn: 0.1755332\ttotal: 342ms\tremaining: 799ms\n",
      "300:\tlearn: 0.1751882\ttotal: 343ms\tremaining: 797ms\n",
      "301:\tlearn: 0.1748799\ttotal: 344ms\tremaining: 795ms\n",
      "302:\tlearn: 0.1745421\ttotal: 345ms\tremaining: 793ms\n",
      "303:\tlearn: 0.1741896\ttotal: 346ms\tremaining: 791ms\n",
      "304:\tlearn: 0.1739050\ttotal: 346ms\tremaining: 789ms\n",
      "305:\tlearn: 0.1734594\ttotal: 347ms\tremaining: 788ms\n",
      "306:\tlearn: 0.1729925\ttotal: 348ms\tremaining: 786ms\n",
      "307:\tlearn: 0.1726291\ttotal: 349ms\tremaining: 784ms\n",
      "308:\tlearn: 0.1724512\ttotal: 350ms\tremaining: 783ms\n",
      "309:\tlearn: 0.1720343\ttotal: 351ms\tremaining: 781ms\n",
      "310:\tlearn: 0.1717751\ttotal: 352ms\tremaining: 780ms\n",
      "311:\tlearn: 0.1715952\ttotal: 353ms\tremaining: 779ms\n",
      "312:\tlearn: 0.1710192\ttotal: 354ms\tremaining: 777ms\n",
      "313:\tlearn: 0.1704997\ttotal: 355ms\tremaining: 775ms\n",
      "314:\tlearn: 0.1701786\ttotal: 356ms\tremaining: 773ms\n",
      "315:\tlearn: 0.1698662\ttotal: 356ms\tremaining: 771ms\n",
      "316:\tlearn: 0.1694204\ttotal: 357ms\tremaining: 769ms\n",
      "317:\tlearn: 0.1690897\ttotal: 358ms\tremaining: 767ms\n",
      "318:\tlearn: 0.1689462\ttotal: 359ms\tremaining: 766ms\n",
      "319:\tlearn: 0.1686047\ttotal: 360ms\tremaining: 764ms\n",
      "320:\tlearn: 0.1682490\ttotal: 360ms\tremaining: 763ms\n",
      "321:\tlearn: 0.1678863\ttotal: 361ms\tremaining: 761ms\n",
      "322:\tlearn: 0.1675262\ttotal: 362ms\tremaining: 760ms\n",
      "323:\tlearn: 0.1673197\ttotal: 363ms\tremaining: 758ms\n",
      "324:\tlearn: 0.1668912\ttotal: 364ms\tremaining: 756ms\n",
      "325:\tlearn: 0.1667526\ttotal: 365ms\tremaining: 754ms\n",
      "326:\tlearn: 0.1663562\ttotal: 366ms\tremaining: 753ms\n",
      "327:\tlearn: 0.1659775\ttotal: 367ms\tremaining: 752ms\n",
      "328:\tlearn: 0.1656492\ttotal: 368ms\tremaining: 751ms\n",
      "329:\tlearn: 0.1654301\ttotal: 369ms\tremaining: 749ms\n",
      "330:\tlearn: 0.1653139\ttotal: 370ms\tremaining: 748ms\n",
      "331:\tlearn: 0.1651736\ttotal: 372ms\tremaining: 748ms\n",
      "332:\tlearn: 0.1647029\ttotal: 373ms\tremaining: 747ms\n",
      "333:\tlearn: 0.1641922\ttotal: 374ms\tremaining: 746ms\n",
      "334:\tlearn: 0.1638743\ttotal: 376ms\tremaining: 746ms\n",
      "335:\tlearn: 0.1635335\ttotal: 376ms\tremaining: 744ms\n",
      "336:\tlearn: 0.1630239\ttotal: 377ms\tremaining: 743ms\n"
     ]
    },
    {
     "name": "stdout",
     "output_type": "stream",
     "text": [
      "337:\tlearn: 0.1626382\ttotal: 379ms\tremaining: 742ms\n",
      "338:\tlearn: 0.1622406\ttotal: 380ms\tremaining: 741ms\n",
      "339:\tlearn: 0.1620553\ttotal: 381ms\tremaining: 740ms\n",
      "340:\tlearn: 0.1617318\ttotal: 382ms\tremaining: 739ms\n",
      "341:\tlearn: 0.1614736\ttotal: 383ms\tremaining: 737ms\n",
      "342:\tlearn: 0.1611833\ttotal: 384ms\tremaining: 736ms\n",
      "343:\tlearn: 0.1607784\ttotal: 385ms\tremaining: 734ms\n",
      "344:\tlearn: 0.1604679\ttotal: 386ms\tremaining: 733ms\n",
      "345:\tlearn: 0.1601474\ttotal: 387ms\tremaining: 732ms\n",
      "346:\tlearn: 0.1599769\ttotal: 388ms\tremaining: 730ms\n",
      "347:\tlearn: 0.1596138\ttotal: 389ms\tremaining: 729ms\n",
      "348:\tlearn: 0.1594729\ttotal: 390ms\tremaining: 727ms\n",
      "349:\tlearn: 0.1591253\ttotal: 391ms\tremaining: 726ms\n",
      "350:\tlearn: 0.1588533\ttotal: 392ms\tremaining: 725ms\n",
      "351:\tlearn: 0.1586726\ttotal: 393ms\tremaining: 723ms\n",
      "352:\tlearn: 0.1584169\ttotal: 394ms\tremaining: 722ms\n",
      "353:\tlearn: 0.1577458\ttotal: 395ms\tremaining: 721ms\n",
      "354:\tlearn: 0.1575838\ttotal: 396ms\tremaining: 720ms\n",
      "355:\tlearn: 0.1571926\ttotal: 397ms\tremaining: 718ms\n",
      "356:\tlearn: 0.1567595\ttotal: 398ms\tremaining: 717ms\n",
      "357:\tlearn: 0.1566341\ttotal: 399ms\tremaining: 716ms\n",
      "358:\tlearn: 0.1563155\ttotal: 400ms\tremaining: 714ms\n",
      "359:\tlearn: 0.1559802\ttotal: 401ms\tremaining: 713ms\n",
      "360:\tlearn: 0.1557858\ttotal: 402ms\tremaining: 712ms\n",
      "361:\tlearn: 0.1553959\ttotal: 403ms\tremaining: 711ms\n",
      "362:\tlearn: 0.1549373\ttotal: 404ms\tremaining: 709ms\n",
      "363:\tlearn: 0.1548312\ttotal: 405ms\tremaining: 708ms\n",
      "364:\tlearn: 0.1545201\ttotal: 406ms\tremaining: 707ms\n",
      "365:\tlearn: 0.1541895\ttotal: 407ms\tremaining: 706ms\n",
      "366:\tlearn: 0.1541120\ttotal: 408ms\tremaining: 704ms\n",
      "367:\tlearn: 0.1537898\ttotal: 409ms\tremaining: 703ms\n",
      "368:\tlearn: 0.1535691\ttotal: 410ms\tremaining: 701ms\n",
      "369:\tlearn: 0.1532651\ttotal: 411ms\tremaining: 700ms\n",
      "370:\tlearn: 0.1530249\ttotal: 412ms\tremaining: 699ms\n",
      "371:\tlearn: 0.1529098\ttotal: 413ms\tremaining: 698ms\n",
      "372:\tlearn: 0.1526172\ttotal: 415ms\tremaining: 697ms\n",
      "373:\tlearn: 0.1524409\ttotal: 416ms\tremaining: 696ms\n",
      "374:\tlearn: 0.1519792\ttotal: 417ms\tremaining: 695ms\n",
      "375:\tlearn: 0.1516329\ttotal: 418ms\tremaining: 694ms\n",
      "376:\tlearn: 0.1512948\ttotal: 420ms\tremaining: 693ms\n",
      "377:\tlearn: 0.1509508\ttotal: 421ms\tremaining: 693ms\n",
      "378:\tlearn: 0.1506496\ttotal: 422ms\tremaining: 692ms\n",
      "379:\tlearn: 0.1502643\ttotal: 426ms\tremaining: 696ms\n",
      "380:\tlearn: 0.1501804\ttotal: 428ms\tremaining: 696ms\n",
      "381:\tlearn: 0.1498010\ttotal: 431ms\tremaining: 697ms\n",
      "382:\tlearn: 0.1493587\ttotal: 433ms\tremaining: 697ms\n",
      "383:\tlearn: 0.1490260\ttotal: 436ms\tremaining: 699ms\n",
      "384:\tlearn: 0.1485247\ttotal: 438ms\tremaining: 699ms\n",
      "385:\tlearn: 0.1482574\ttotal: 440ms\tremaining: 699ms\n",
      "386:\tlearn: 0.1478996\ttotal: 442ms\tremaining: 699ms\n",
      "387:\tlearn: 0.1476368\ttotal: 443ms\tremaining: 699ms\n",
      "388:\tlearn: 0.1474111\ttotal: 444ms\tremaining: 698ms\n",
      "389:\tlearn: 0.1472082\ttotal: 445ms\tremaining: 696ms\n",
      "390:\tlearn: 0.1470114\ttotal: 446ms\tremaining: 695ms\n",
      "391:\tlearn: 0.1467163\ttotal: 447ms\tremaining: 693ms\n",
      "392:\tlearn: 0.1464383\ttotal: 449ms\tremaining: 693ms\n",
      "393:\tlearn: 0.1461379\ttotal: 450ms\tremaining: 692ms\n",
      "394:\tlearn: 0.1458924\ttotal: 451ms\tremaining: 690ms\n",
      "395:\tlearn: 0.1456105\ttotal: 452ms\tremaining: 689ms\n",
      "396:\tlearn: 0.1452358\ttotal: 453ms\tremaining: 688ms\n",
      "397:\tlearn: 0.1448386\ttotal: 454ms\tremaining: 686ms\n",
      "398:\tlearn: 0.1443834\ttotal: 455ms\tremaining: 685ms\n",
      "399:\tlearn: 0.1440331\ttotal: 456ms\tremaining: 684ms\n",
      "400:\tlearn: 0.1437408\ttotal: 457ms\tremaining: 682ms\n",
      "401:\tlearn: 0.1434109\ttotal: 458ms\tremaining: 681ms\n",
      "402:\tlearn: 0.1430914\ttotal: 459ms\tremaining: 679ms\n",
      "403:\tlearn: 0.1426316\ttotal: 460ms\tremaining: 678ms\n",
      "404:\tlearn: 0.1423369\ttotal: 460ms\tremaining: 676ms\n",
      "405:\tlearn: 0.1420073\ttotal: 461ms\tremaining: 675ms\n",
      "406:\tlearn: 0.1417787\ttotal: 462ms\tremaining: 674ms\n",
      "407:\tlearn: 0.1416299\ttotal: 463ms\tremaining: 672ms\n",
      "408:\tlearn: 0.1414074\ttotal: 464ms\tremaining: 670ms\n",
      "409:\tlearn: 0.1411642\ttotal: 465ms\tremaining: 669ms\n",
      "410:\tlearn: 0.1409106\ttotal: 466ms\tremaining: 668ms\n",
      "411:\tlearn: 0.1406035\ttotal: 467ms\tremaining: 666ms\n",
      "412:\tlearn: 0.1403232\ttotal: 468ms\tremaining: 665ms\n",
      "413:\tlearn: 0.1400601\ttotal: 469ms\tremaining: 664ms\n",
      "414:\tlearn: 0.1396916\ttotal: 470ms\tremaining: 662ms\n",
      "415:\tlearn: 0.1394513\ttotal: 471ms\tremaining: 661ms\n",
      "416:\tlearn: 0.1392102\ttotal: 472ms\tremaining: 660ms\n",
      "417:\tlearn: 0.1388494\ttotal: 473ms\tremaining: 658ms\n",
      "418:\tlearn: 0.1386239\ttotal: 474ms\tremaining: 657ms\n",
      "419:\tlearn: 0.1383543\ttotal: 475ms\tremaining: 655ms\n",
      "420:\tlearn: 0.1381088\ttotal: 476ms\tremaining: 654ms\n",
      "421:\tlearn: 0.1377216\ttotal: 477ms\tremaining: 653ms\n",
      "422:\tlearn: 0.1372972\ttotal: 478ms\tremaining: 651ms\n",
      "423:\tlearn: 0.1371830\ttotal: 478ms\tremaining: 650ms\n"
     ]
    },
    {
     "name": "stdout",
     "output_type": "stream",
     "text": [
      "424:\tlearn: 0.1369319\ttotal: 480ms\tremaining: 649ms\n",
      "425:\tlearn: 0.1367209\ttotal: 481ms\tremaining: 648ms\n",
      "426:\tlearn: 0.1365854\ttotal: 482ms\tremaining: 647ms\n",
      "427:\tlearn: 0.1364642\ttotal: 483ms\tremaining: 646ms\n",
      "428:\tlearn: 0.1362660\ttotal: 484ms\tremaining: 644ms\n",
      "429:\tlearn: 0.1359950\ttotal: 485ms\tremaining: 643ms\n",
      "430:\tlearn: 0.1356623\ttotal: 486ms\tremaining: 642ms\n",
      "431:\tlearn: 0.1353630\ttotal: 487ms\tremaining: 641ms\n",
      "432:\tlearn: 0.1350956\ttotal: 488ms\tremaining: 639ms\n",
      "433:\tlearn: 0.1348598\ttotal: 489ms\tremaining: 638ms\n",
      "434:\tlearn: 0.1344735\ttotal: 490ms\tremaining: 637ms\n",
      "435:\tlearn: 0.1343516\ttotal: 492ms\tremaining: 636ms\n",
      "436:\tlearn: 0.1341626\ttotal: 493ms\tremaining: 636ms\n",
      "437:\tlearn: 0.1339927\ttotal: 495ms\tremaining: 635ms\n",
      "438:\tlearn: 0.1339141\ttotal: 496ms\tremaining: 634ms\n",
      "439:\tlearn: 0.1334861\ttotal: 498ms\tremaining: 633ms\n",
      "440:\tlearn: 0.1332045\ttotal: 499ms\tremaining: 632ms\n",
      "441:\tlearn: 0.1328914\ttotal: 501ms\tremaining: 632ms\n",
      "442:\tlearn: 0.1325947\ttotal: 502ms\tremaining: 632ms\n",
      "443:\tlearn: 0.1324895\ttotal: 505ms\tremaining: 633ms\n",
      "444:\tlearn: 0.1321802\ttotal: 509ms\tremaining: 635ms\n",
      "445:\tlearn: 0.1320342\ttotal: 511ms\tremaining: 634ms\n",
      "446:\tlearn: 0.1318336\ttotal: 512ms\tremaining: 633ms\n",
      "447:\tlearn: 0.1315963\ttotal: 513ms\tremaining: 633ms\n",
      "448:\tlearn: 0.1315243\ttotal: 515ms\tremaining: 632ms\n",
      "449:\tlearn: 0.1312917\ttotal: 516ms\tremaining: 631ms\n",
      "450:\tlearn: 0.1311395\ttotal: 517ms\tremaining: 629ms\n",
      "451:\tlearn: 0.1308209\ttotal: 518ms\tremaining: 628ms\n",
      "452:\tlearn: 0.1303761\ttotal: 519ms\tremaining: 627ms\n",
      "453:\tlearn: 0.1301337\ttotal: 521ms\tremaining: 626ms\n",
      "454:\tlearn: 0.1298555\ttotal: 522ms\tremaining: 625ms\n",
      "455:\tlearn: 0.1296632\ttotal: 523ms\tremaining: 623ms\n",
      "456:\tlearn: 0.1293801\ttotal: 523ms\tremaining: 622ms\n",
      "457:\tlearn: 0.1291921\ttotal: 524ms\tremaining: 620ms\n",
      "458:\tlearn: 0.1290859\ttotal: 525ms\tremaining: 619ms\n",
      "459:\tlearn: 0.1288592\ttotal: 526ms\tremaining: 617ms\n",
      "460:\tlearn: 0.1285799\ttotal: 527ms\tremaining: 616ms\n",
      "461:\tlearn: 0.1282632\ttotal: 528ms\tremaining: 615ms\n",
      "462:\tlearn: 0.1281168\ttotal: 529ms\tremaining: 613ms\n",
      "463:\tlearn: 0.1278819\ttotal: 530ms\tremaining: 612ms\n",
      "464:\tlearn: 0.1276867\ttotal: 531ms\tremaining: 611ms\n",
      "465:\tlearn: 0.1273647\ttotal: 532ms\tremaining: 609ms\n",
      "466:\tlearn: 0.1271447\ttotal: 533ms\tremaining: 608ms\n",
      "467:\tlearn: 0.1268017\ttotal: 534ms\tremaining: 607ms\n",
      "468:\tlearn: 0.1267462\ttotal: 535ms\tremaining: 606ms\n",
      "469:\tlearn: 0.1265170\ttotal: 536ms\tremaining: 604ms\n",
      "470:\tlearn: 0.1263106\ttotal: 537ms\tremaining: 603ms\n",
      "471:\tlearn: 0.1260712\ttotal: 537ms\tremaining: 601ms\n",
      "472:\tlearn: 0.1258585\ttotal: 538ms\tremaining: 599ms\n",
      "473:\tlearn: 0.1255895\ttotal: 539ms\tremaining: 598ms\n",
      "474:\tlearn: 0.1254258\ttotal: 540ms\tremaining: 596ms\n",
      "475:\tlearn: 0.1251995\ttotal: 540ms\tremaining: 595ms\n",
      "476:\tlearn: 0.1249993\ttotal: 541ms\tremaining: 593ms\n",
      "477:\tlearn: 0.1247568\ttotal: 542ms\tremaining: 592ms\n",
      "478:\tlearn: 0.1245019\ttotal: 543ms\tremaining: 590ms\n",
      "479:\tlearn: 0.1242806\ttotal: 544ms\tremaining: 589ms\n",
      "480:\tlearn: 0.1239878\ttotal: 544ms\tremaining: 587ms\n",
      "481:\tlearn: 0.1238372\ttotal: 545ms\tremaining: 586ms\n",
      "482:\tlearn: 0.1236056\ttotal: 546ms\tremaining: 585ms\n",
      "483:\tlearn: 0.1235428\ttotal: 548ms\tremaining: 584ms\n",
      "484:\tlearn: 0.1233115\ttotal: 549ms\tremaining: 582ms\n",
      "485:\tlearn: 0.1230037\ttotal: 550ms\tremaining: 581ms\n",
      "486:\tlearn: 0.1227445\ttotal: 551ms\tremaining: 580ms\n",
      "487:\tlearn: 0.1224214\ttotal: 551ms\tremaining: 578ms\n",
      "488:\tlearn: 0.1221220\ttotal: 552ms\tremaining: 577ms\n",
      "489:\tlearn: 0.1218996\ttotal: 553ms\tremaining: 576ms\n",
      "490:\tlearn: 0.1217182\ttotal: 554ms\tremaining: 574ms\n",
      "491:\tlearn: 0.1214667\ttotal: 555ms\tremaining: 573ms\n",
      "492:\tlearn: 0.1213723\ttotal: 556ms\tremaining: 571ms\n",
      "493:\tlearn: 0.1212707\ttotal: 556ms\tremaining: 570ms\n",
      "494:\tlearn: 0.1209972\ttotal: 557ms\tremaining: 568ms\n",
      "495:\tlearn: 0.1208457\ttotal: 558ms\tremaining: 567ms\n",
      "496:\tlearn: 0.1206734\ttotal: 559ms\tremaining: 566ms\n",
      "497:\tlearn: 0.1202506\ttotal: 560ms\tremaining: 564ms\n"
     ]
    },
    {
     "name": "stdout",
     "output_type": "stream",
     "text": [
      "498:\tlearn: 0.1199979\ttotal: 561ms\tremaining: 563ms\n",
      "499:\tlearn: 0.1196861\ttotal: 563ms\tremaining: 563ms\n",
      "500:\tlearn: 0.1195255\ttotal: 564ms\tremaining: 561ms\n",
      "501:\tlearn: 0.1193815\ttotal: 565ms\tremaining: 560ms\n",
      "502:\tlearn: 0.1192707\ttotal: 566ms\tremaining: 559ms\n",
      "503:\tlearn: 0.1191199\ttotal: 567ms\tremaining: 558ms\n",
      "504:\tlearn: 0.1188833\ttotal: 567ms\tremaining: 556ms\n",
      "505:\tlearn: 0.1186391\ttotal: 568ms\tremaining: 555ms\n",
      "506:\tlearn: 0.1185166\ttotal: 569ms\tremaining: 553ms\n",
      "507:\tlearn: 0.1182497\ttotal: 570ms\tremaining: 552ms\n",
      "508:\tlearn: 0.1180198\ttotal: 570ms\tremaining: 550ms\n",
      "509:\tlearn: 0.1177411\ttotal: 571ms\tremaining: 549ms\n",
      "510:\tlearn: 0.1175269\ttotal: 572ms\tremaining: 548ms\n",
      "511:\tlearn: 0.1173469\ttotal: 573ms\tremaining: 546ms\n",
      "512:\tlearn: 0.1170037\ttotal: 574ms\tremaining: 545ms\n",
      "513:\tlearn: 0.1166974\ttotal: 575ms\tremaining: 544ms\n",
      "514:\tlearn: 0.1164182\ttotal: 576ms\tremaining: 542ms\n",
      "515:\tlearn: 0.1161620\ttotal: 577ms\tremaining: 541ms\n",
      "516:\tlearn: 0.1160174\ttotal: 578ms\tremaining: 540ms\n",
      "517:\tlearn: 0.1158850\ttotal: 579ms\tremaining: 539ms\n",
      "518:\tlearn: 0.1156321\ttotal: 580ms\tremaining: 538ms\n",
      "519:\tlearn: 0.1154723\ttotal: 581ms\tremaining: 536ms\n",
      "520:\tlearn: 0.1153172\ttotal: 582ms\tremaining: 535ms\n",
      "521:\tlearn: 0.1152570\ttotal: 583ms\tremaining: 534ms\n",
      "522:\tlearn: 0.1149769\ttotal: 584ms\tremaining: 532ms\n",
      "523:\tlearn: 0.1146840\ttotal: 584ms\tremaining: 531ms\n",
      "524:\tlearn: 0.1144186\ttotal: 585ms\tremaining: 529ms\n",
      "525:\tlearn: 0.1141564\ttotal: 586ms\tremaining: 528ms\n",
      "526:\tlearn: 0.1139240\ttotal: 587ms\tremaining: 527ms\n",
      "527:\tlearn: 0.1136466\ttotal: 588ms\tremaining: 525ms\n",
      "528:\tlearn: 0.1134540\ttotal: 588ms\tremaining: 524ms\n",
      "529:\tlearn: 0.1133329\ttotal: 589ms\tremaining: 523ms\n",
      "530:\tlearn: 0.1131425\ttotal: 590ms\tremaining: 521ms\n",
      "531:\tlearn: 0.1128113\ttotal: 591ms\tremaining: 520ms\n",
      "532:\tlearn: 0.1125597\ttotal: 593ms\tremaining: 519ms\n",
      "533:\tlearn: 0.1122626\ttotal: 594ms\tremaining: 519ms\n",
      "534:\tlearn: 0.1120185\ttotal: 595ms\tremaining: 517ms\n",
      "535:\tlearn: 0.1119464\ttotal: 596ms\tremaining: 516ms\n",
      "536:\tlearn: 0.1117642\ttotal: 597ms\tremaining: 515ms\n",
      "537:\tlearn: 0.1116338\ttotal: 598ms\tremaining: 514ms\n",
      "538:\tlearn: 0.1115043\ttotal: 599ms\tremaining: 512ms\n",
      "539:\tlearn: 0.1112653\ttotal: 600ms\tremaining: 511ms\n",
      "540:\tlearn: 0.1110593\ttotal: 601ms\tremaining: 510ms\n",
      "541:\tlearn: 0.1108100\ttotal: 602ms\tremaining: 509ms\n",
      "542:\tlearn: 0.1107062\ttotal: 603ms\tremaining: 507ms\n",
      "543:\tlearn: 0.1104671\ttotal: 604ms\tremaining: 506ms\n",
      "544:\tlearn: 0.1101370\ttotal: 605ms\tremaining: 505ms\n",
      "545:\tlearn: 0.1099508\ttotal: 606ms\tremaining: 504ms\n",
      "546:\tlearn: 0.1096920\ttotal: 607ms\tremaining: 502ms\n",
      "547:\tlearn: 0.1094758\ttotal: 607ms\tremaining: 501ms\n",
      "548:\tlearn: 0.1093375\ttotal: 608ms\tremaining: 500ms\n",
      "549:\tlearn: 0.1091478\ttotal: 609ms\tremaining: 499ms\n",
      "550:\tlearn: 0.1089365\ttotal: 610ms\tremaining: 497ms\n",
      "551:\tlearn: 0.1086715\ttotal: 611ms\tremaining: 496ms\n",
      "552:\tlearn: 0.1084604\ttotal: 612ms\tremaining: 495ms\n",
      "553:\tlearn: 0.1082182\ttotal: 613ms\tremaining: 494ms\n",
      "554:\tlearn: 0.1080019\ttotal: 614ms\tremaining: 492ms\n",
      "555:\tlearn: 0.1077722\ttotal: 615ms\tremaining: 491ms\n",
      "556:\tlearn: 0.1076953\ttotal: 616ms\tremaining: 490ms\n",
      "557:\tlearn: 0.1074475\ttotal: 617ms\tremaining: 489ms\n",
      "558:\tlearn: 0.1072919\ttotal: 618ms\tremaining: 487ms\n",
      "559:\tlearn: 0.1070926\ttotal: 619ms\tremaining: 486ms\n",
      "560:\tlearn: 0.1068898\ttotal: 620ms\tremaining: 485ms\n",
      "561:\tlearn: 0.1067313\ttotal: 621ms\tremaining: 484ms\n",
      "562:\tlearn: 0.1065394\ttotal: 622ms\tremaining: 483ms\n",
      "563:\tlearn: 0.1062959\ttotal: 624ms\tremaining: 482ms\n",
      "564:\tlearn: 0.1060220\ttotal: 626ms\tremaining: 482ms\n",
      "565:\tlearn: 0.1057845\ttotal: 627ms\tremaining: 481ms\n",
      "566:\tlearn: 0.1055527\ttotal: 628ms\tremaining: 479ms\n",
      "567:\tlearn: 0.1053881\ttotal: 629ms\tremaining: 478ms\n",
      "568:\tlearn: 0.1051578\ttotal: 629ms\tremaining: 477ms\n",
      "569:\tlearn: 0.1050283\ttotal: 630ms\tremaining: 475ms\n",
      "570:\tlearn: 0.1048315\ttotal: 631ms\tremaining: 474ms\n",
      "571:\tlearn: 0.1046159\ttotal: 632ms\tremaining: 473ms\n",
      "572:\tlearn: 0.1044607\ttotal: 633ms\tremaining: 472ms\n",
      "573:\tlearn: 0.1042546\ttotal: 634ms\tremaining: 470ms\n",
      "574:\tlearn: 0.1040654\ttotal: 635ms\tremaining: 469ms\n",
      "575:\tlearn: 0.1038906\ttotal: 635ms\tremaining: 468ms\n",
      "576:\tlearn: 0.1036624\ttotal: 636ms\tremaining: 467ms\n",
      "577:\tlearn: 0.1034402\ttotal: 637ms\tremaining: 465ms\n",
      "578:\tlearn: 0.1032369\ttotal: 638ms\tremaining: 464ms\n",
      "579:\tlearn: 0.1030752\ttotal: 639ms\tremaining: 463ms\n",
      "580:\tlearn: 0.1027801\ttotal: 640ms\tremaining: 462ms\n",
      "581:\tlearn: 0.1025771\ttotal: 641ms\tremaining: 461ms\n",
      "582:\tlearn: 0.1023931\ttotal: 642ms\tremaining: 459ms\n",
      "583:\tlearn: 0.1021854\ttotal: 643ms\tremaining: 458ms\n",
      "584:\tlearn: 0.1019866\ttotal: 644ms\tremaining: 457ms\n",
      "585:\tlearn: 0.1019417\ttotal: 645ms\tremaining: 456ms\n",
      "586:\tlearn: 0.1018256\ttotal: 646ms\tremaining: 454ms\n",
      "587:\tlearn: 0.1016403\ttotal: 647ms\tremaining: 453ms\n",
      "588:\tlearn: 0.1014164\ttotal: 648ms\tremaining: 452ms\n",
      "589:\tlearn: 0.1012650\ttotal: 648ms\tremaining: 451ms\n",
      "590:\tlearn: 0.1009660\ttotal: 649ms\tremaining: 449ms\n",
      "591:\tlearn: 0.1008183\ttotal: 650ms\tremaining: 448ms\n",
      "592:\tlearn: 0.1006585\ttotal: 651ms\tremaining: 447ms\n",
      "593:\tlearn: 0.1004997\ttotal: 652ms\tremaining: 446ms\n",
      "594:\tlearn: 0.1003488\ttotal: 653ms\tremaining: 444ms\n",
      "595:\tlearn: 0.1001333\ttotal: 654ms\tremaining: 443ms\n",
      "596:\tlearn: 0.0999036\ttotal: 655ms\tremaining: 442ms\n",
      "597:\tlearn: 0.0997578\ttotal: 656ms\tremaining: 441ms\n",
      "598:\tlearn: 0.0994531\ttotal: 657ms\tremaining: 440ms\n",
      "599:\tlearn: 0.0992644\ttotal: 658ms\tremaining: 439ms\n",
      "600:\tlearn: 0.0991366\ttotal: 659ms\tremaining: 438ms\n",
      "601:\tlearn: 0.0989889\ttotal: 660ms\tremaining: 436ms\n",
      "602:\tlearn: 0.0987807\ttotal: 661ms\tremaining: 435ms\n",
      "603:\tlearn: 0.0986156\ttotal: 662ms\tremaining: 434ms\n",
      "604:\tlearn: 0.0983918\ttotal: 663ms\tremaining: 433ms\n",
      "605:\tlearn: 0.0981735\ttotal: 663ms\tremaining: 431ms\n",
      "606:\tlearn: 0.0981091\ttotal: 664ms\tremaining: 430ms\n",
      "607:\tlearn: 0.0979695\ttotal: 665ms\tremaining: 429ms\n"
     ]
    },
    {
     "name": "stdout",
     "output_type": "stream",
     "text": [
      "608:\tlearn: 0.0977738\ttotal: 667ms\tremaining: 428ms\n",
      "609:\tlearn: 0.0976440\ttotal: 668ms\tremaining: 427ms\n",
      "610:\tlearn: 0.0974873\ttotal: 668ms\tremaining: 426ms\n",
      "611:\tlearn: 0.0973765\ttotal: 669ms\tremaining: 424ms\n",
      "612:\tlearn: 0.0972569\ttotal: 671ms\tremaining: 424ms\n",
      "613:\tlearn: 0.0971100\ttotal: 672ms\tremaining: 422ms\n",
      "614:\tlearn: 0.0969604\ttotal: 673ms\tremaining: 421ms\n",
      "615:\tlearn: 0.0967960\ttotal: 674ms\tremaining: 420ms\n",
      "616:\tlearn: 0.0966454\ttotal: 675ms\tremaining: 419ms\n",
      "617:\tlearn: 0.0964570\ttotal: 676ms\tremaining: 418ms\n",
      "618:\tlearn: 0.0962290\ttotal: 676ms\tremaining: 416ms\n",
      "619:\tlearn: 0.0959917\ttotal: 677ms\tremaining: 415ms\n",
      "620:\tlearn: 0.0958396\ttotal: 678ms\tremaining: 414ms\n",
      "621:\tlearn: 0.0956779\ttotal: 679ms\tremaining: 413ms\n",
      "622:\tlearn: 0.0955425\ttotal: 680ms\tremaining: 411ms\n",
      "623:\tlearn: 0.0953408\ttotal: 681ms\tremaining: 410ms\n",
      "624:\tlearn: 0.0951587\ttotal: 681ms\tremaining: 409ms\n",
      "625:\tlearn: 0.0949734\ttotal: 682ms\tremaining: 408ms\n",
      "626:\tlearn: 0.0949172\ttotal: 683ms\tremaining: 406ms\n",
      "627:\tlearn: 0.0946753\ttotal: 684ms\tremaining: 405ms\n",
      "628:\tlearn: 0.0946625\ttotal: 685ms\tremaining: 404ms\n",
      "629:\tlearn: 0.0944280\ttotal: 686ms\tremaining: 403ms\n",
      "630:\tlearn: 0.0943250\ttotal: 687ms\tremaining: 402ms\n",
      "631:\tlearn: 0.0941860\ttotal: 688ms\tremaining: 401ms\n",
      "632:\tlearn: 0.0940452\ttotal: 690ms\tremaining: 400ms\n",
      "633:\tlearn: 0.0938337\ttotal: 691ms\tremaining: 399ms\n",
      "634:\tlearn: 0.0937544\ttotal: 692ms\tremaining: 398ms\n",
      "635:\tlearn: 0.0935875\ttotal: 693ms\tremaining: 396ms\n",
      "636:\tlearn: 0.0934192\ttotal: 693ms\tremaining: 395ms\n",
      "637:\tlearn: 0.0931705\ttotal: 694ms\tremaining: 394ms\n",
      "638:\tlearn: 0.0929589\ttotal: 695ms\tremaining: 393ms\n",
      "639:\tlearn: 0.0928559\ttotal: 696ms\tremaining: 391ms\n",
      "640:\tlearn: 0.0926863\ttotal: 697ms\tremaining: 390ms\n",
      "641:\tlearn: 0.0926060\ttotal: 697ms\tremaining: 389ms\n",
      "642:\tlearn: 0.0924968\ttotal: 698ms\tremaining: 388ms\n",
      "643:\tlearn: 0.0923363\ttotal: 699ms\tremaining: 386ms\n",
      "644:\tlearn: 0.0921682\ttotal: 700ms\tremaining: 386ms\n",
      "645:\tlearn: 0.0920438\ttotal: 701ms\tremaining: 384ms\n",
      "646:\tlearn: 0.0919490\ttotal: 703ms\tremaining: 383ms\n",
      "647:\tlearn: 0.0918251\ttotal: 704ms\tremaining: 382ms\n",
      "648:\tlearn: 0.0916771\ttotal: 705ms\tremaining: 381ms\n",
      "649:\tlearn: 0.0915434\ttotal: 706ms\tremaining: 380ms\n",
      "650:\tlearn: 0.0913964\ttotal: 706ms\tremaining: 379ms\n",
      "651:\tlearn: 0.0912309\ttotal: 707ms\tremaining: 377ms\n",
      "652:\tlearn: 0.0910441\ttotal: 709ms\tremaining: 377ms\n",
      "653:\tlearn: 0.0909153\ttotal: 709ms\tremaining: 375ms\n",
      "654:\tlearn: 0.0907492\ttotal: 710ms\tremaining: 374ms\n",
      "655:\tlearn: 0.0905449\ttotal: 711ms\tremaining: 373ms\n",
      "656:\tlearn: 0.0903586\ttotal: 712ms\tremaining: 372ms\n",
      "657:\tlearn: 0.0901741\ttotal: 713ms\tremaining: 370ms\n",
      "658:\tlearn: 0.0900049\ttotal: 714ms\tremaining: 369ms\n",
      "659:\tlearn: 0.0898928\ttotal: 715ms\tremaining: 368ms\n",
      "660:\tlearn: 0.0896457\ttotal: 715ms\tremaining: 367ms\n",
      "661:\tlearn: 0.0894205\ttotal: 716ms\tremaining: 366ms\n",
      "662:\tlearn: 0.0892831\ttotal: 717ms\tremaining: 364ms\n",
      "663:\tlearn: 0.0891435\ttotal: 718ms\tremaining: 363ms\n",
      "664:\tlearn: 0.0889913\ttotal: 719ms\tremaining: 362ms\n",
      "665:\tlearn: 0.0888394\ttotal: 720ms\tremaining: 361ms\n",
      "666:\tlearn: 0.0886685\ttotal: 721ms\tremaining: 360ms\n",
      "667:\tlearn: 0.0885235\ttotal: 723ms\tremaining: 359ms\n",
      "668:\tlearn: 0.0883557\ttotal: 724ms\tremaining: 358ms\n",
      "669:\tlearn: 0.0881386\ttotal: 725ms\tremaining: 357ms\n",
      "670:\tlearn: 0.0880305\ttotal: 726ms\tremaining: 356ms\n",
      "671:\tlearn: 0.0878584\ttotal: 726ms\tremaining: 355ms\n",
      "672:\tlearn: 0.0876661\ttotal: 727ms\tremaining: 353ms\n",
      "673:\tlearn: 0.0875415\ttotal: 728ms\tremaining: 352ms\n",
      "674:\tlearn: 0.0873567\ttotal: 729ms\tremaining: 351ms\n",
      "675:\tlearn: 0.0872104\ttotal: 730ms\tremaining: 350ms\n",
      "676:\tlearn: 0.0870596\ttotal: 731ms\tremaining: 349ms\n",
      "677:\tlearn: 0.0869523\ttotal: 732ms\tremaining: 348ms\n",
      "678:\tlearn: 0.0867181\ttotal: 733ms\tremaining: 346ms\n",
      "679:\tlearn: 0.0865700\ttotal: 734ms\tremaining: 345ms\n",
      "680:\tlearn: 0.0864390\ttotal: 735ms\tremaining: 344ms\n",
      "681:\tlearn: 0.0863390\ttotal: 736ms\tremaining: 343ms\n",
      "682:\tlearn: 0.0862115\ttotal: 737ms\tremaining: 342ms\n",
      "683:\tlearn: 0.0860748\ttotal: 738ms\tremaining: 341ms\n",
      "684:\tlearn: 0.0859533\ttotal: 739ms\tremaining: 340ms\n",
      "685:\tlearn: 0.0857766\ttotal: 740ms\tremaining: 339ms\n",
      "686:\tlearn: 0.0856347\ttotal: 741ms\tremaining: 337ms\n",
      "687:\tlearn: 0.0854898\ttotal: 741ms\tremaining: 336ms\n",
      "688:\tlearn: 0.0853028\ttotal: 742ms\tremaining: 335ms\n",
      "689:\tlearn: 0.0851780\ttotal: 743ms\tremaining: 334ms\n",
      "690:\tlearn: 0.0850479\ttotal: 744ms\tremaining: 333ms\n",
      "691:\tlearn: 0.0849286\ttotal: 745ms\tremaining: 331ms\n",
      "692:\tlearn: 0.0847727\ttotal: 746ms\tremaining: 330ms\n",
      "693:\tlearn: 0.0846176\ttotal: 746ms\tremaining: 329ms\n",
      "694:\tlearn: 0.0844890\ttotal: 747ms\tremaining: 328ms\n",
      "695:\tlearn: 0.0842589\ttotal: 748ms\tremaining: 327ms\n"
     ]
    },
    {
     "name": "stdout",
     "output_type": "stream",
     "text": [
      "696:\tlearn: 0.0840809\ttotal: 750ms\tremaining: 326ms\n",
      "697:\tlearn: 0.0839523\ttotal: 751ms\tremaining: 325ms\n",
      "698:\tlearn: 0.0838832\ttotal: 752ms\tremaining: 324ms\n",
      "699:\tlearn: 0.0837930\ttotal: 754ms\tremaining: 323ms\n",
      "700:\tlearn: 0.0836838\ttotal: 754ms\tremaining: 322ms\n",
      "701:\tlearn: 0.0835542\ttotal: 756ms\tremaining: 321ms\n",
      "702:\tlearn: 0.0833737\ttotal: 757ms\tremaining: 320ms\n",
      "703:\tlearn: 0.0832563\ttotal: 758ms\tremaining: 319ms\n",
      "704:\tlearn: 0.0831578\ttotal: 758ms\tremaining: 317ms\n",
      "705:\tlearn: 0.0829524\ttotal: 759ms\tremaining: 316ms\n",
      "706:\tlearn: 0.0828338\ttotal: 760ms\tremaining: 315ms\n",
      "707:\tlearn: 0.0827113\ttotal: 761ms\tremaining: 314ms\n",
      "708:\tlearn: 0.0825903\ttotal: 762ms\tremaining: 313ms\n",
      "709:\tlearn: 0.0823688\ttotal: 763ms\tremaining: 311ms\n",
      "710:\tlearn: 0.0823208\ttotal: 763ms\tremaining: 310ms\n",
      "711:\tlearn: 0.0822690\ttotal: 764ms\tremaining: 309ms\n",
      "712:\tlearn: 0.0821692\ttotal: 766ms\tremaining: 308ms\n",
      "713:\tlearn: 0.0820514\ttotal: 766ms\tremaining: 307ms\n",
      "714:\tlearn: 0.0819824\ttotal: 768ms\tremaining: 306ms\n",
      "715:\tlearn: 0.0818271\ttotal: 769ms\tremaining: 305ms\n",
      "716:\tlearn: 0.0816990\ttotal: 770ms\tremaining: 304ms\n",
      "717:\tlearn: 0.0815383\ttotal: 770ms\tremaining: 303ms\n",
      "718:\tlearn: 0.0814549\ttotal: 771ms\tremaining: 301ms\n",
      "719:\tlearn: 0.0813279\ttotal: 772ms\tremaining: 300ms\n",
      "720:\tlearn: 0.0812229\ttotal: 773ms\tremaining: 299ms\n",
      "721:\tlearn: 0.0811467\ttotal: 774ms\tremaining: 298ms\n",
      "722:\tlearn: 0.0810958\ttotal: 774ms\tremaining: 297ms\n",
      "723:\tlearn: 0.0809885\ttotal: 775ms\tremaining: 296ms\n",
      "724:\tlearn: 0.0809095\ttotal: 776ms\tremaining: 294ms\n",
      "725:\tlearn: 0.0808086\ttotal: 777ms\tremaining: 293ms\n",
      "726:\tlearn: 0.0806938\ttotal: 778ms\tremaining: 292ms\n",
      "727:\tlearn: 0.0806031\ttotal: 779ms\tremaining: 291ms\n",
      "728:\tlearn: 0.0805019\ttotal: 780ms\tremaining: 290ms\n",
      "729:\tlearn: 0.0803895\ttotal: 781ms\tremaining: 289ms\n",
      "730:\tlearn: 0.0802205\ttotal: 782ms\tremaining: 288ms\n",
      "731:\tlearn: 0.0801397\ttotal: 784ms\tremaining: 287ms\n",
      "732:\tlearn: 0.0799798\ttotal: 785ms\tremaining: 286ms\n",
      "733:\tlearn: 0.0798850\ttotal: 786ms\tremaining: 285ms\n",
      "734:\tlearn: 0.0797545\ttotal: 786ms\tremaining: 284ms\n",
      "735:\tlearn: 0.0796085\ttotal: 787ms\tremaining: 282ms\n",
      "736:\tlearn: 0.0794815\ttotal: 788ms\tremaining: 281ms\n",
      "737:\tlearn: 0.0793177\ttotal: 789ms\tremaining: 280ms\n",
      "738:\tlearn: 0.0792095\ttotal: 790ms\tremaining: 279ms\n",
      "739:\tlearn: 0.0790720\ttotal: 790ms\tremaining: 278ms\n",
      "740:\tlearn: 0.0789194\ttotal: 791ms\tremaining: 276ms\n",
      "741:\tlearn: 0.0787009\ttotal: 792ms\tremaining: 275ms\n",
      "742:\tlearn: 0.0784723\ttotal: 793ms\tremaining: 274ms\n",
      "743:\tlearn: 0.0784284\ttotal: 793ms\tremaining: 273ms\n",
      "744:\tlearn: 0.0782749\ttotal: 794ms\tremaining: 272ms\n",
      "745:\tlearn: 0.0781537\ttotal: 795ms\tremaining: 271ms\n",
      "746:\tlearn: 0.0779718\ttotal: 797ms\tremaining: 270ms\n",
      "747:\tlearn: 0.0778437\ttotal: 798ms\tremaining: 269ms\n",
      "748:\tlearn: 0.0777711\ttotal: 799ms\tremaining: 268ms\n",
      "749:\tlearn: 0.0776346\ttotal: 800ms\tremaining: 267ms\n",
      "750:\tlearn: 0.0775764\ttotal: 801ms\tremaining: 265ms\n",
      "751:\tlearn: 0.0775283\ttotal: 801ms\tremaining: 264ms\n",
      "752:\tlearn: 0.0773996\ttotal: 802ms\tremaining: 263ms\n",
      "753:\tlearn: 0.0773046\ttotal: 803ms\tremaining: 262ms\n",
      "754:\tlearn: 0.0772729\ttotal: 804ms\tremaining: 261ms\n",
      "755:\tlearn: 0.0771139\ttotal: 805ms\tremaining: 260ms\n",
      "756:\tlearn: 0.0770026\ttotal: 806ms\tremaining: 259ms\n",
      "757:\tlearn: 0.0768773\ttotal: 806ms\tremaining: 257ms\n",
      "758:\tlearn: 0.0768375\ttotal: 807ms\tremaining: 256ms\n",
      "759:\tlearn: 0.0767092\ttotal: 808ms\tremaining: 255ms\n",
      "760:\tlearn: 0.0765924\ttotal: 809ms\tremaining: 254ms\n",
      "761:\tlearn: 0.0764962\ttotal: 810ms\tremaining: 253ms\n",
      "762:\tlearn: 0.0763712\ttotal: 810ms\tremaining: 252ms\n",
      "763:\tlearn: 0.0762865\ttotal: 811ms\tremaining: 251ms\n",
      "764:\tlearn: 0.0761639\ttotal: 812ms\tremaining: 250ms\n",
      "765:\tlearn: 0.0760069\ttotal: 814ms\tremaining: 249ms\n",
      "766:\tlearn: 0.0758820\ttotal: 815ms\tremaining: 248ms\n",
      "767:\tlearn: 0.0758323\ttotal: 816ms\tremaining: 246ms\n",
      "768:\tlearn: 0.0757524\ttotal: 817ms\tremaining: 245ms\n",
      "769:\tlearn: 0.0756476\ttotal: 818ms\tremaining: 244ms\n",
      "770:\tlearn: 0.0755966\ttotal: 819ms\tremaining: 243ms\n",
      "771:\tlearn: 0.0755162\ttotal: 820ms\tremaining: 242ms\n",
      "772:\tlearn: 0.0754156\ttotal: 820ms\tremaining: 241ms\n",
      "773:\tlearn: 0.0753798\ttotal: 821ms\tremaining: 240ms\n",
      "774:\tlearn: 0.0752861\ttotal: 822ms\tremaining: 239ms\n",
      "775:\tlearn: 0.0752695\ttotal: 823ms\tremaining: 238ms\n",
      "776:\tlearn: 0.0751966\ttotal: 824ms\tremaining: 236ms\n",
      "777:\tlearn: 0.0750993\ttotal: 824ms\tremaining: 235ms\n",
      "778:\tlearn: 0.0749187\ttotal: 825ms\tremaining: 234ms\n",
      "779:\tlearn: 0.0748605\ttotal: 826ms\tremaining: 233ms\n",
      "780:\tlearn: 0.0747301\ttotal: 827ms\tremaining: 232ms\n",
      "781:\tlearn: 0.0746175\ttotal: 828ms\tremaining: 231ms\n",
      "782:\tlearn: 0.0745175\ttotal: 829ms\tremaining: 230ms\n",
      "783:\tlearn: 0.0744550\ttotal: 830ms\tremaining: 229ms\n",
      "784:\tlearn: 0.0742407\ttotal: 831ms\tremaining: 228ms\n",
      "785:\tlearn: 0.0741120\ttotal: 832ms\tremaining: 227ms\n",
      "786:\tlearn: 0.0739827\ttotal: 833ms\tremaining: 225ms\n",
      "787:\tlearn: 0.0738107\ttotal: 834ms\tremaining: 224ms\n",
      "788:\tlearn: 0.0737005\ttotal: 835ms\tremaining: 223ms\n",
      "789:\tlearn: 0.0736474\ttotal: 836ms\tremaining: 222ms\n",
      "790:\tlearn: 0.0736280\ttotal: 836ms\tremaining: 221ms\n",
      "791:\tlearn: 0.0734614\ttotal: 837ms\tremaining: 220ms\n",
      "792:\tlearn: 0.0733067\ttotal: 838ms\tremaining: 219ms\n",
      "793:\tlearn: 0.0732555\ttotal: 839ms\tremaining: 218ms\n",
      "794:\tlearn: 0.0731694\ttotal: 840ms\tremaining: 217ms\n",
      "795:\tlearn: 0.0730996\ttotal: 841ms\tremaining: 215ms\n",
      "796:\tlearn: 0.0729193\ttotal: 841ms\tremaining: 214ms\n",
      "797:\tlearn: 0.0728567\ttotal: 842ms\tremaining: 213ms\n",
      "798:\tlearn: 0.0727146\ttotal: 843ms\tremaining: 212ms\n",
      "799:\tlearn: 0.0726446\ttotal: 844ms\tremaining: 211ms\n",
      "800:\tlearn: 0.0725847\ttotal: 845ms\tremaining: 210ms\n",
      "801:\tlearn: 0.0724497\ttotal: 846ms\tremaining: 209ms\n",
      "802:\tlearn: 0.0723300\ttotal: 847ms\tremaining: 208ms\n",
      "803:\tlearn: 0.0722593\ttotal: 848ms\tremaining: 207ms\n",
      "804:\tlearn: 0.0721700\ttotal: 849ms\tremaining: 206ms\n",
      "805:\tlearn: 0.0720395\ttotal: 850ms\tremaining: 205ms\n",
      "806:\tlearn: 0.0719543\ttotal: 851ms\tremaining: 203ms\n",
      "807:\tlearn: 0.0718766\ttotal: 852ms\tremaining: 202ms\n",
      "808:\tlearn: 0.0718291\ttotal: 853ms\tremaining: 201ms\n",
      "809:\tlearn: 0.0716749\ttotal: 853ms\tremaining: 200ms\n",
      "810:\tlearn: 0.0716652\ttotal: 854ms\tremaining: 199ms\n"
     ]
    },
    {
     "name": "stdout",
     "output_type": "stream",
     "text": [
      "811:\tlearn: 0.0715378\ttotal: 855ms\tremaining: 198ms\n",
      "812:\tlearn: 0.0714383\ttotal: 856ms\tremaining: 197ms\n",
      "813:\tlearn: 0.0713354\ttotal: 857ms\tremaining: 196ms\n",
      "814:\tlearn: 0.0712848\ttotal: 858ms\tremaining: 195ms\n",
      "815:\tlearn: 0.0711205\ttotal: 859ms\tremaining: 194ms\n",
      "816:\tlearn: 0.0710089\ttotal: 860ms\tremaining: 193ms\n",
      "817:\tlearn: 0.0709062\ttotal: 861ms\tremaining: 192ms\n",
      "818:\tlearn: 0.0708122\ttotal: 862ms\tremaining: 191ms\n",
      "819:\tlearn: 0.0707462\ttotal: 863ms\tremaining: 190ms\n",
      "820:\tlearn: 0.0705750\ttotal: 864ms\tremaining: 188ms\n",
      "821:\tlearn: 0.0704262\ttotal: 865ms\tremaining: 187ms\n",
      "822:\tlearn: 0.0702749\ttotal: 866ms\tremaining: 186ms\n",
      "823:\tlearn: 0.0702035\ttotal: 867ms\tremaining: 185ms\n",
      "824:\tlearn: 0.0701204\ttotal: 867ms\tremaining: 184ms\n",
      "825:\tlearn: 0.0700276\ttotal: 868ms\tremaining: 183ms\n",
      "826:\tlearn: 0.0699040\ttotal: 869ms\tremaining: 182ms\n",
      "827:\tlearn: 0.0697582\ttotal: 870ms\tremaining: 181ms\n",
      "828:\tlearn: 0.0696305\ttotal: 870ms\tremaining: 180ms\n",
      "829:\tlearn: 0.0695792\ttotal: 871ms\tremaining: 178ms\n",
      "830:\tlearn: 0.0694606\ttotal: 872ms\tremaining: 177ms\n",
      "831:\tlearn: 0.0693733\ttotal: 873ms\tremaining: 176ms\n",
      "832:\tlearn: 0.0692580\ttotal: 874ms\tremaining: 175ms\n",
      "833:\tlearn: 0.0691260\ttotal: 875ms\tremaining: 174ms\n",
      "834:\tlearn: 0.0689806\ttotal: 876ms\tremaining: 173ms\n",
      "835:\tlearn: 0.0688173\ttotal: 878ms\tremaining: 172ms\n",
      "836:\tlearn: 0.0687091\ttotal: 879ms\tremaining: 171ms\n",
      "837:\tlearn: 0.0685736\ttotal: 880ms\tremaining: 170ms\n",
      "838:\tlearn: 0.0684717\ttotal: 881ms\tremaining: 169ms\n",
      "839:\tlearn: 0.0684135\ttotal: 882ms\tremaining: 168ms\n",
      "840:\tlearn: 0.0683295\ttotal: 883ms\tremaining: 167ms\n",
      "841:\tlearn: 0.0681839\ttotal: 883ms\tremaining: 166ms\n",
      "842:\tlearn: 0.0681361\ttotal: 884ms\tremaining: 165ms\n",
      "843:\tlearn: 0.0680580\ttotal: 885ms\tremaining: 164ms\n",
      "844:\tlearn: 0.0679841\ttotal: 886ms\tremaining: 163ms\n",
      "845:\tlearn: 0.0678550\ttotal: 887ms\tremaining: 161ms\n",
      "846:\tlearn: 0.0676930\ttotal: 888ms\tremaining: 160ms\n",
      "847:\tlearn: 0.0675878\ttotal: 888ms\tremaining: 159ms\n",
      "848:\tlearn: 0.0675027\ttotal: 889ms\tremaining: 158ms\n",
      "849:\tlearn: 0.0674383\ttotal: 890ms\tremaining: 157ms\n",
      "850:\tlearn: 0.0673784\ttotal: 892ms\tremaining: 156ms\n",
      "851:\tlearn: 0.0673518\ttotal: 892ms\tremaining: 155ms\n",
      "852:\tlearn: 0.0672014\ttotal: 893ms\tremaining: 154ms\n",
      "853:\tlearn: 0.0670579\ttotal: 894ms\tremaining: 153ms\n",
      "854:\tlearn: 0.0669348\ttotal: 895ms\tremaining: 152ms\n",
      "855:\tlearn: 0.0668468\ttotal: 896ms\tremaining: 151ms\n",
      "856:\tlearn: 0.0667638\ttotal: 897ms\tremaining: 150ms\n",
      "857:\tlearn: 0.0667365\ttotal: 898ms\tremaining: 149ms\n",
      "858:\tlearn: 0.0666114\ttotal: 899ms\tremaining: 148ms\n",
      "859:\tlearn: 0.0664427\ttotal: 900ms\tremaining: 146ms\n",
      "860:\tlearn: 0.0663340\ttotal: 901ms\tremaining: 145ms\n",
      "861:\tlearn: 0.0663095\ttotal: 901ms\tremaining: 144ms\n",
      "862:\tlearn: 0.0662606\ttotal: 902ms\tremaining: 143ms\n",
      "863:\tlearn: 0.0661140\ttotal: 903ms\tremaining: 142ms\n",
      "864:\tlearn: 0.0660114\ttotal: 904ms\tremaining: 141ms\n",
      "865:\tlearn: 0.0659053\ttotal: 905ms\tremaining: 140ms\n",
      "866:\tlearn: 0.0657821\ttotal: 906ms\tremaining: 139ms\n",
      "867:\tlearn: 0.0656990\ttotal: 907ms\tremaining: 138ms\n",
      "868:\tlearn: 0.0656052\ttotal: 908ms\tremaining: 137ms\n",
      "869:\tlearn: 0.0654610\ttotal: 909ms\tremaining: 136ms\n",
      "870:\tlearn: 0.0653479\ttotal: 910ms\tremaining: 135ms\n",
      "871:\tlearn: 0.0652405\ttotal: 911ms\tremaining: 134ms\n",
      "872:\tlearn: 0.0652226\ttotal: 912ms\tremaining: 133ms\n",
      "873:\tlearn: 0.0651582\ttotal: 912ms\tremaining: 132ms\n",
      "874:\tlearn: 0.0651238\ttotal: 913ms\tremaining: 130ms\n",
      "875:\tlearn: 0.0650875\ttotal: 914ms\tremaining: 129ms\n",
      "876:\tlearn: 0.0649987\ttotal: 915ms\tremaining: 128ms\n",
      "877:\tlearn: 0.0649386\ttotal: 916ms\tremaining: 127ms\n",
      "878:\tlearn: 0.0648552\ttotal: 917ms\tremaining: 126ms\n",
      "879:\tlearn: 0.0647248\ttotal: 918ms\tremaining: 125ms\n",
      "880:\tlearn: 0.0646175\ttotal: 919ms\tremaining: 124ms\n",
      "881:\tlearn: 0.0644900\ttotal: 919ms\tremaining: 123ms\n",
      "882:\tlearn: 0.0644577\ttotal: 920ms\tremaining: 122ms\n",
      "883:\tlearn: 0.0643160\ttotal: 921ms\tremaining: 121ms\n",
      "884:\tlearn: 0.0642425\ttotal: 922ms\tremaining: 120ms\n",
      "885:\tlearn: 0.0641991\ttotal: 923ms\tremaining: 119ms\n",
      "886:\tlearn: 0.0640952\ttotal: 924ms\tremaining: 118ms\n",
      "887:\tlearn: 0.0639797\ttotal: 925ms\tremaining: 117ms\n",
      "888:\tlearn: 0.0638868\ttotal: 926ms\tremaining: 116ms\n",
      "889:\tlearn: 0.0637938\ttotal: 927ms\tremaining: 115ms\n",
      "890:\tlearn: 0.0636734\ttotal: 928ms\tremaining: 113ms\n",
      "891:\tlearn: 0.0636639\ttotal: 929ms\tremaining: 112ms\n",
      "892:\tlearn: 0.0636323\ttotal: 929ms\tremaining: 111ms\n",
      "893:\tlearn: 0.0635235\ttotal: 930ms\tremaining: 110ms\n",
      "894:\tlearn: 0.0633789\ttotal: 931ms\tremaining: 109ms\n",
      "895:\tlearn: 0.0632781\ttotal: 932ms\tremaining: 108ms\n",
      "896:\tlearn: 0.0631393\ttotal: 932ms\tremaining: 107ms\n",
      "897:\tlearn: 0.0630854\ttotal: 933ms\tremaining: 106ms\n",
      "898:\tlearn: 0.0629764\ttotal: 934ms\tremaining: 105ms\n",
      "899:\tlearn: 0.0628810\ttotal: 935ms\tremaining: 104ms\n",
      "900:\tlearn: 0.0627705\ttotal: 936ms\tremaining: 103ms\n",
      "901:\tlearn: 0.0627207\ttotal: 937ms\tremaining: 102ms\n"
     ]
    },
    {
     "name": "stdout",
     "output_type": "stream",
     "text": [
      "902:\tlearn: 0.0625967\ttotal: 938ms\tremaining: 101ms\n",
      "903:\tlearn: 0.0625544\ttotal: 940ms\tremaining: 99.8ms\n",
      "904:\tlearn: 0.0624896\ttotal: 941ms\tremaining: 98.8ms\n",
      "905:\tlearn: 0.0623835\ttotal: 942ms\tremaining: 97.7ms\n",
      "906:\tlearn: 0.0623236\ttotal: 943ms\tremaining: 96.7ms\n",
      "907:\tlearn: 0.0621855\ttotal: 944ms\tremaining: 95.6ms\n",
      "908:\tlearn: 0.0620949\ttotal: 944ms\tremaining: 94.5ms\n",
      "909:\tlearn: 0.0620123\ttotal: 945ms\tremaining: 93.5ms\n",
      "910:\tlearn: 0.0619449\ttotal: 946ms\tremaining: 92.4ms\n",
      "911:\tlearn: 0.0619003\ttotal: 947ms\tremaining: 91.4ms\n",
      "912:\tlearn: 0.0618365\ttotal: 948ms\tremaining: 90.3ms\n",
      "913:\tlearn: 0.0617242\ttotal: 949ms\tremaining: 89.3ms\n",
      "914:\tlearn: 0.0616929\ttotal: 950ms\tremaining: 88.2ms\n",
      "915:\tlearn: 0.0616367\ttotal: 950ms\tremaining: 87.2ms\n",
      "916:\tlearn: 0.0615931\ttotal: 951ms\tremaining: 86.1ms\n",
      "917:\tlearn: 0.0614912\ttotal: 952ms\tremaining: 85ms\n",
      "918:\tlearn: 0.0613818\ttotal: 953ms\tremaining: 84ms\n",
      "919:\tlearn: 0.0612739\ttotal: 954ms\tremaining: 83ms\n",
      "920:\tlearn: 0.0612173\ttotal: 955ms\tremaining: 81.9ms\n",
      "921:\tlearn: 0.0610726\ttotal: 956ms\tremaining: 80.9ms\n",
      "922:\tlearn: 0.0609808\ttotal: 957ms\tremaining: 79.8ms\n",
      "923:\tlearn: 0.0608843\ttotal: 958ms\tremaining: 78.8ms\n",
      "924:\tlearn: 0.0608479\ttotal: 959ms\tremaining: 77.7ms\n",
      "925:\tlearn: 0.0607213\ttotal: 959ms\tremaining: 76.7ms\n",
      "926:\tlearn: 0.0606160\ttotal: 960ms\tremaining: 75.6ms\n",
      "927:\tlearn: 0.0605274\ttotal: 961ms\tremaining: 74.6ms\n",
      "928:\tlearn: 0.0604339\ttotal: 962ms\tremaining: 73.5ms\n",
      "929:\tlearn: 0.0603368\ttotal: 963ms\tremaining: 72.5ms\n",
      "930:\tlearn: 0.0602264\ttotal: 964ms\tremaining: 71.4ms\n",
      "931:\tlearn: 0.0601080\ttotal: 965ms\tremaining: 70.4ms\n",
      "932:\tlearn: 0.0600039\ttotal: 965ms\tremaining: 69.3ms\n",
      "933:\tlearn: 0.0598802\ttotal: 966ms\tremaining: 68.3ms\n",
      "934:\tlearn: 0.0598300\ttotal: 967ms\tremaining: 67.2ms\n",
      "935:\tlearn: 0.0597665\ttotal: 968ms\tremaining: 66.2ms\n",
      "936:\tlearn: 0.0596496\ttotal: 969ms\tremaining: 65.1ms\n",
      "937:\tlearn: 0.0595461\ttotal: 970ms\tremaining: 64.1ms\n",
      "938:\tlearn: 0.0594697\ttotal: 971ms\tremaining: 63.1ms\n",
      "939:\tlearn: 0.0593750\ttotal: 972ms\tremaining: 62ms\n",
      "940:\tlearn: 0.0592617\ttotal: 973ms\tremaining: 61ms\n",
      "941:\tlearn: 0.0592427\ttotal: 974ms\tremaining: 59.9ms\n",
      "942:\tlearn: 0.0592163\ttotal: 975ms\tremaining: 58.9ms\n",
      "943:\tlearn: 0.0591515\ttotal: 975ms\tremaining: 57.9ms\n",
      "944:\tlearn: 0.0590447\ttotal: 976ms\tremaining: 56.8ms\n",
      "945:\tlearn: 0.0589525\ttotal: 977ms\tremaining: 55.8ms\n",
      "946:\tlearn: 0.0589098\ttotal: 978ms\tremaining: 54.7ms\n",
      "947:\tlearn: 0.0587794\ttotal: 979ms\tremaining: 53.7ms\n",
      "948:\tlearn: 0.0586932\ttotal: 980ms\tremaining: 52.7ms\n",
      "949:\tlearn: 0.0586030\ttotal: 981ms\tremaining: 51.6ms\n",
      "950:\tlearn: 0.0585131\ttotal: 982ms\tremaining: 50.6ms\n",
      "951:\tlearn: 0.0584243\ttotal: 983ms\tremaining: 49.5ms\n",
      "952:\tlearn: 0.0584101\ttotal: 984ms\tremaining: 48.5ms\n",
      "953:\tlearn: 0.0582893\ttotal: 985ms\tremaining: 47.5ms\n",
      "954:\tlearn: 0.0582020\ttotal: 986ms\tremaining: 46.5ms\n",
      "955:\tlearn: 0.0581836\ttotal: 987ms\tremaining: 45.4ms\n",
      "956:\tlearn: 0.0581353\ttotal: 988ms\tremaining: 44.4ms\n",
      "957:\tlearn: 0.0580309\ttotal: 989ms\tremaining: 43.3ms\n",
      "958:\tlearn: 0.0580033\ttotal: 990ms\tremaining: 42.3ms\n",
      "959:\tlearn: 0.0579104\ttotal: 990ms\tremaining: 41.3ms\n",
      "960:\tlearn: 0.0577930\ttotal: 991ms\tremaining: 40.2ms\n",
      "961:\tlearn: 0.0576981\ttotal: 992ms\tremaining: 39.2ms\n",
      "962:\tlearn: 0.0576082\ttotal: 993ms\tremaining: 38.1ms\n",
      "963:\tlearn: 0.0575249\ttotal: 994ms\tremaining: 37.1ms\n",
      "964:\tlearn: 0.0574441\ttotal: 995ms\tremaining: 36.1ms\n",
      "965:\tlearn: 0.0573689\ttotal: 995ms\tremaining: 35ms\n",
      "966:\tlearn: 0.0573529\ttotal: 996ms\tremaining: 34ms\n",
      "967:\tlearn: 0.0572572\ttotal: 997ms\tremaining: 33ms\n",
      "968:\tlearn: 0.0571564\ttotal: 998ms\tremaining: 31.9ms\n",
      "969:\tlearn: 0.0571250\ttotal: 999ms\tremaining: 30.9ms\n",
      "970:\tlearn: 0.0570368\ttotal: 1s\tremaining: 29.9ms\n",
      "971:\tlearn: 0.0569631\ttotal: 1s\tremaining: 28.8ms\n",
      "972:\tlearn: 0.0568379\ttotal: 1s\tremaining: 27.8ms\n",
      "973:\tlearn: 0.0567442\ttotal: 1s\tremaining: 26.8ms\n",
      "974:\tlearn: 0.0566867\ttotal: 1s\tremaining: 25.8ms\n",
      "975:\tlearn: 0.0565662\ttotal: 1s\tremaining: 24.7ms\n",
      "976:\tlearn: 0.0565452\ttotal: 1.01s\tremaining: 23.7ms\n",
      "977:\tlearn: 0.0564353\ttotal: 1.01s\tremaining: 22.7ms\n",
      "978:\tlearn: 0.0564149\ttotal: 1.01s\tremaining: 21.6ms\n",
      "979:\tlearn: 0.0563453\ttotal: 1.01s\tremaining: 20.6ms\n",
      "980:\tlearn: 0.0562770\ttotal: 1.01s\tremaining: 19.6ms\n",
      "981:\tlearn: 0.0562356\ttotal: 1.01s\tremaining: 18.5ms\n",
      "982:\tlearn: 0.0561586\ttotal: 1.01s\tremaining: 17.5ms\n",
      "983:\tlearn: 0.0560579\ttotal: 1.01s\tremaining: 16.5ms\n",
      "984:\tlearn: 0.0559579\ttotal: 1.01s\tremaining: 15.4ms\n",
      "985:\tlearn: 0.0558608\ttotal: 1.01s\tremaining: 14.4ms\n",
      "986:\tlearn: 0.0558339\ttotal: 1.01s\tremaining: 13.4ms\n",
      "987:\tlearn: 0.0557385\ttotal: 1.01s\tremaining: 12.3ms\n",
      "988:\tlearn: 0.0556552\ttotal: 1.02s\tremaining: 11.3ms\n",
      "989:\tlearn: 0.0555390\ttotal: 1.02s\tremaining: 10.3ms\n",
      "990:\tlearn: 0.0554557\ttotal: 1.02s\tremaining: 9.25ms\n",
      "991:\tlearn: 0.0553733\ttotal: 1.02s\tremaining: 8.22ms\n",
      "992:\tlearn: 0.0552948\ttotal: 1.02s\tremaining: 7.19ms\n",
      "993:\tlearn: 0.0551898\ttotal: 1.02s\tremaining: 6.16ms\n",
      "994:\tlearn: 0.0551015\ttotal: 1.02s\tremaining: 5.13ms\n",
      "995:\tlearn: 0.0550139\ttotal: 1.02s\tremaining: 4.11ms\n",
      "996:\tlearn: 0.0549148\ttotal: 1.02s\tremaining: 3.08ms\n",
      "997:\tlearn: 0.0547974\ttotal: 1.02s\tremaining: 2.05ms\n",
      "998:\tlearn: 0.0546824\ttotal: 1.02s\tremaining: 1.03ms\n",
      "999:\tlearn: 0.0546287\ttotal: 1.03s\tremaining: 0us\n"
     ]
    },
    {
     "data": {
      "text/plain": [
       "<catboost.core.CatBoostRegressor at 0x7f8042fc8a90>"
      ]
     },
     "execution_count": 9,
     "metadata": {},
     "output_type": "execute_result"
    }
   ],
   "source": [
    "#Train the Model \n",
    "prior_model = ctb.CatBoostRegressor()\n",
    "prior_model.fit(X_train,Y_train)"
   ]
  },
  {
   "cell_type": "code",
   "execution_count": 10,
   "id": "af65dcda",
   "metadata": {
    "execution": {
     "iopub.execute_input": "2022-06-11T17:52:05.041047Z",
     "iopub.status.busy": "2022-06-11T17:52:05.040617Z",
     "iopub.status.idle": "2022-06-11T17:52:05.048520Z",
     "shell.execute_reply": "2022-06-11T17:52:05.048909Z"
    },
    "id": "af65dcda",
    "papermill": {
     "duration": 0.022654,
     "end_time": "2022-06-11T17:52:05.049029",
     "exception": false,
     "start_time": "2022-06-11T17:52:05.026375",
     "status": "completed"
    },
    "tags": []
   },
   "outputs": [
    {
     "data": {
      "application/scrapbook.scrap.json+json": {
       "data": 0.07093442690568409,
       "encoder": "json",
       "name": "Prior Model MSE",
       "version": 1
      }
     },
     "metadata": {
      "scrapbook": {
       "data": true,
       "display": false,
       "name": "Prior Model MSE"
      }
     },
     "output_type": "display_data"
    },
    {
     "data": {
      "application/scrapbook.scrap.json+json": {
       "data": 2.2201253283166937,
       "encoder": "json",
       "name": "ABC Pre-generator MSE",
       "version": 1
      }
     },
     "metadata": {
      "scrapbook": {
       "data": true,
       "display": false,
       "name": "ABC Pre-generator MSE"
      }
     },
     "output_type": "display_data"
    },
    {
     "data": {
      "application/scrapbook.scrap.json+json": {
       "data": 0.19634999530649164,
       "encoder": "json",
       "name": "Prior Model MSE",
       "version": 1
      }
     },
     "metadata": {
      "scrapbook": {
       "data": true,
       "display": false,
       "name": "Prior Model MSE"
      }
     },
     "output_type": "display_data"
    },
    {
     "data": {
      "application/scrapbook.scrap.json+json": {
       "data": 1.2198588053561026,
       "encoder": "json",
       "name": "ABC Pre-generator MSE",
       "version": 1
      }
     },
     "metadata": {
      "scrapbook": {
       "data": true,
       "display": false,
       "name": "ABC Pre-generator MSE"
      }
     },
     "output_type": "display_data"
    }
   ],
   "source": [
    "y_pred = prior_model.predict(X_test)\n",
    "y_abc = y_pred + np.random.normal(0,variance, y_pred.shape) + bias \n",
    "mse = mean_squared_error(y_pred,Y_test)\n",
    "sb.glue(\"Prior Model MSE\",mse)\n",
    "mse = mean_squared_error(y_abc,Y_test)\n",
    "sb.glue(\"ABC Pre-generator MSE\",mse)\n",
    "mae = mean_absolute_error(y_pred,Y_test)\n",
    "sb.glue(\"Prior Model MSE\",mae)\n",
    "mae = mean_absolute_error(y_abc,Y_test)\n",
    "sb.glue(\"ABC Pre-generator MSE\",mae)"
   ]
  },
  {
   "cell_type": "markdown",
   "id": "25609da2",
   "metadata": {
    "papermill": {
     "duration": 0.009948,
     "end_time": "2022-06-11T17:52:05.069535",
     "exception": false,
     "start_time": "2022-06-11T17:52:05.059587",
     "status": "completed"
    },
    "tags": []
   },
   "source": [
    "# ABC GAN Model"
   ]
  },
  {
   "cell_type": "code",
   "execution_count": 11,
   "id": "dfc3464d",
   "metadata": {
    "execution": {
     "iopub.execute_input": "2022-06-11T17:52:05.093852Z",
     "iopub.status.busy": "2022-06-11T17:52:05.093457Z",
     "iopub.status.idle": "2022-06-11T17:52:05.095825Z",
     "shell.execute_reply": "2022-06-11T17:52:05.096072Z"
    },
    "papermill": {
     "duration": 0.016294,
     "end_time": "2022-06-11T17:52:05.096191",
     "exception": false,
     "start_time": "2022-06-11T17:52:05.079897",
     "status": "completed"
    },
    "tags": []
   },
   "outputs": [],
   "source": [
    "gen = network.Generator(n_features+1).to(device)\n",
    "disc = network.Discriminator(n_features+1).to(device)\n",
    "\n",
    "criterion = torch.nn.BCELoss()\n",
    "gen_opt = torch.optim.Adam(gen.parameters(), lr=0.001, betas=(0.5, 0.999))\n",
    "disc_opt = torch.optim.Adam(disc.parameters(), lr=0.001, betas=(0.5, 0.999))"
   ]
  },
  {
   "cell_type": "code",
   "execution_count": 12,
   "id": "b75fdd85",
   "metadata": {
    "execution": {
     "iopub.execute_input": "2022-06-11T17:52:05.120615Z",
     "iopub.status.busy": "2022-06-11T17:52:05.120233Z",
     "iopub.status.idle": "2022-06-11T17:53:05.125448Z",
     "shell.execute_reply": "2022-06-11T17:53:05.125733Z"
    },
    "papermill": {
     "duration": 60.019057,
     "end_time": "2022-06-11T17:53:05.125862",
     "exception": false,
     "start_time": "2022-06-11T17:52:05.106805",
     "status": "completed"
    },
    "tags": []
   },
   "outputs": [
    {
     "data": {
      "image/png": "[encoded data removed]",
      "text/plain": [
       "<Figure size 432x288 with 1 Axes>"
      ]
     },
     "metadata": {
      "needs_background": "light"
     },
     "output_type": "display_data"
    },
    {
     "data": {
      "image/png": "[encoded data removed]",
      "text/plain": [
       "<Figure size 432x288 with 1 Axes>"
      ]
     },
     "metadata": {
      "needs_background": "light"
     },
     "output_type": "display_data"
    }
   ],
   "source": [
    "#Training the ABC_GAN \n",
    "ABC_train_test2.training_GAN(disc,gen,disc_opt,gen_opt,train_data,batch_size,n_epochs,criterion,prior_model,variance,bias,device)"
   ]
  },
  {
   "cell_type": "code",
   "execution_count": 13,
   "id": "1fa7c368",
   "metadata": {
    "execution": {
     "iopub.execute_input": "2022-06-11T17:53:05.150618Z",
     "iopub.status.busy": "2022-06-11T17:53:05.150229Z",
     "iopub.status.idle": "2022-06-11T17:53:05.451084Z",
     "shell.execute_reply": "2022-06-11T17:53:05.451507Z"
    },
    "papermill": {
     "duration": 0.314599,
     "end_time": "2022-06-11T17:53:05.451628",
     "exception": false,
     "start_time": "2022-06-11T17:53:05.137029",
     "status": "completed"
    },
    "tags": []
   },
   "outputs": [
    {
     "data": {
      "application/scrapbook.scrap.json+json": {
       "data": 0.09429904444804049,
       "encoder": "json",
       "name": "ABC-GAN Model 1 MSE",
       "version": 1
      }
     },
     "metadata": {
      "scrapbook": {
       "data": true,
       "display": false,
       "name": "ABC-GAN Model 1 MSE"
      }
     },
     "output_type": "display_data"
    },
    {
     "data": {
      "application/scrapbook.scrap.json+json": {
       "data": 0.21699765534852358,
       "encoder": "json",
       "name": "ABC-GAN Model 1 MAE",
       "version": 1
      }
     },
     "metadata": {
      "scrapbook": {
       "data": true,
       "display": false,
       "name": "ABC-GAN Model 1 MAE"
      }
     },
     "output_type": "display_data"
    },
    {
     "data": {
      "application/scrapbook.scrap.json+json": {
       "data": 22.133760845549403,
       "encoder": "json",
       "name": "ABC-GAN Model 1 Manhattan Distance",
       "version": 1
      }
     },
     "metadata": {
      "scrapbook": {
       "data": true,
       "display": false,
       "name": "ABC-GAN Model 1 Manhattan Distance"
      }
     },
     "output_type": "display_data"
    },
    {
     "data": {
      "application/scrapbook.scrap.json+json": {
       "data": 3.1013355891979417,
       "encoder": "json",
       "name": "ABC-GAN Model 1 Euclidean distance",
       "version": 1
      }
     },
     "metadata": {
      "scrapbook": {
       "data": true,
       "display": false,
       "name": "ABC-GAN Model 1 Euclidean distance"
      }
     },
     "output_type": "display_data"
    },
    {
     "data": {
      "application/scrapbook.scrap.json+json": {
       "data": [
        [
         0.09450814872115122,
         0.09384931252814116,
         0.09453392952893207,
         0.09514001390794687,
         0.09389955260343535,
         0.09334268187381495,
         0.09424368735608991,
         0.09530297240941302,
         0.09605024550789971,
         0.09334503337119686,
         0.09396022528841742,
         0.09608171688833873,
         0.09545112869816413,
         0.09474057903440199,
         0.09408116209102807,
         0.09562906532425036,
         0.09502703511343658,
         0.09422238665810012,
         0.09580031857163383,
         0.09482464682221621,
         0.09600662963645165,
         0.0931155270286846,
         0.09426260726006346,
         0.09252876138367849,
         0.09306294252047874,
         0.0939156294055928,
         0.0949304180271198,
         0.09460271630058113,
         0.09430980494299059,
         0.09564579222513316,
         0.09521063705796226,
         0.09376476565432963,
         0.09314943360887944,
         0.09358291192337914,
         0.0941949314727941,
         0.0961177987658291,
         0.09390691856922179,
         0.09351811879298635,
         0.09612765952510659,
         0.09272220483143431,
         0.09369593403845937,
         0.09486484347323174,
         0.09314483874414764,
         0.0938968575221492,
         0.09388769082119108,
         0.0930484380448297,
         0.09476613739143203,
         0.0940299428921254,
         0.09431315067258883,
         0.0937613442395467,
         0.09450202370088669,
         0.09285802171889486,
         0.09596045640421526,
         0.09364717474477541,
         0.09522179774088045,
         0.0942573468622223,
         0.09583044566635657,
         0.0968252022106834,
         0.09326204135068987,
         0.09383686701485228,
         0.09311346394956618,
         0.09437494363584702,
         0.09428377241909132,
         0.09449634826947698,
         0.09339739609494567,
         0.09439315815766794,
         0.09479951553848139,
         0.0942212834622232,
         0.09425809210031959,
         0.0952320636096262,
         0.09377673597838364,
         0.09367524265684839,
         0.09539668301539245,
         0.09396815343848004,
         0.09421552298664329,
         0.09275868943780403,
         0.09407019527979497,
         0.09400582397498056,
         0.09507385789557864,
         0.0940911605986755,
         0.09427042907030363,
         0.0934004039219795,
         0.09365629300182222,
         0.09439152293510535,
         0.09389553724951331,
         0.09405973539405713,
         0.09463641516857851,
         0.09414115098509537,
         0.09515715425695384,
         0.0940802357699428,
         0.0941409514360868,
         0.09545409041724344,
         0.09311316097455674,
         0.09301180027330773,
         0.09370916343529186,
         0.0933264854941596,
         0.09452326640235004,
         0.09491825205783623,
         0.09289956760099047,
         0.09519611997418385
        ],
        [
         0.21773700879010208,
         0.21655131240064898,
         0.21796496627925366,
         0.21835878432052686,
         0.2161680619122789,
         0.21556821139529347,
         0.2167317548346724,
         0.21982627868761911,
         0.21874860293396256,
         0.2163889720287247,
         0.21567765425196758,
         0.21762601197605916,
         0.2177702869909505,
         0.2190286042625267,
         0.21733585126953675,
         0.21868790261556997,
         0.21769607288982062,
         0.21639631198280873,
         0.21911223863671517,
         0.21688566527639827,
         0.21864876369306563,
         0.21518040538820274,
         0.21854295938586196,
         0.2166665836566073,
         0.21376413799931898,
         0.2163124766620789,
         0.21848090050522895,
         0.21730925309855273,
         0.2187573223046082,
         0.21864308697153248,
         0.21862452607784494,
         0.21706416592111483,
         0.21666935209513588,
         0.2164012347713259,
         0.21756446309497252,
         0.219056029447957,
         0.2171876235755489,
         0.21584902735719202,
         0.21906533032911374,
         0.21585411179409014,
         0.21624186656017805,
         0.21686523739138946,
         0.21534996413096202,
         0.2173183529966456,
         0.21634893165901303,
         0.2165006302278854,
         0.21728899957173886,
         0.21705425285058572,
         0.2167723615580768,
         0.2160636787302792,
         0.21737808817267126,
         0.21586246440625367,
         0.2195649928522899,
         0.2167487213041122,
         0.21659964113952776,
         0.21544878636760748,
         0.21650493348601693,
         0.22067563592766723,
         0.21649468126798085,
         0.2159448907637567,
         0.21657756751622348,
         0.2172433119175919,
         0.21664825446136735,
         0.21673630812552339,
         0.2165074508326749,
         0.21783835275609995,
         0.21878707404339723,
         0.21696717517596542,
         0.21788250938897916,
         0.217765451637188,
         0.21477953055143065,
         0.21619291040206365,
         0.21776646206739778,
         0.21682481536203446,
         0.21730793299445628,
         0.21562083144946134,
         0.21665512218012237,
         0.2170346934695308,
         0.21887839657674527,
         0.21700523624781007,
         0.21677947156679103,
         0.2149489157029665,
         0.21526499654111617,
         0.21629492188895158,
         0.21747508687971562,
         0.21536952186850647,
         0.2165384236266654,
         0.21678690498183464,
         0.21798544558787755,
         0.21618863807845057,
         0.2166962373326076,
         0.21770724492585836,
         0.21493588135048164,
         0.2145346609747731,
         0.21680574476098022,
         0.21713332735988147,
         0.21544953157175697,
         0.21718380077029853,
         0.21440104226234788,
         0.21733693043500477
        ],
        [
         22.20917489659041,
         22.088233864866197,
         22.232426560483873,
         22.27259600069374,
         22.04914231505245,
         21.987957562319934,
         22.106638993136585,
         22.42228042613715,
         22.31235749926418,
         22.07167514692992,
         21.999120733700693,
         22.197853221558034,
         22.21256927307695,
         22.340917634777725,
         22.168256829492748,
         22.306166066788137,
         22.204999434761703,
         22.072423822246492,
         22.349448340944946,
         22.122337858192623,
         22.302173896692693,
         21.94840134959668,
         22.29138185735792,
         22.099991532973945,
         21.803942075930536,
         22.06387261953205,
         22.285051851533353,
         22.165543816052377,
         22.313246875070035,
         22.301594871096313,
         22.299701659940183,
         22.140544923953712,
         22.10027391370386,
         22.07292594667524,
         22.191575235687196,
         22.343715003691614,
         22.15313760470599,
         22.016600790433586,
         22.3446636935696,
         22.017119402997196,
         22.056670389138162,
         22.120254213921726,
         21.965696341358125,
         22.16647200565785,
         22.06759102921933,
         22.083064283244312,
         22.163477956317365,
         22.139533790759742,
         22.110780878923833,
         22.03849523048848,
         22.17256499361247,
         22.017971369437873,
         22.39562927093357,
         22.108369573019445,
         22.09316339623183,
         21.97577620949596,
         22.083503215573728,
         22.508914864622056,
         22.082457489334047,
         22.026378857903183,
         22.090911886654794,
         22.158817815594375,
         22.09812195505947,
         22.107103428803384,
         22.08375998493284,
         22.219511981122196,
         22.316281552426517,
         22.130651867948472,
         22.224015957675874,
         22.212076066993177,
         21.907512116245925,
         22.051676861010492,
         22.212179130874574,
         22.116131166927516,
         22.16540916543454,
         21.993324807845056,
         22.098822462372482,
         22.137538733892143,
         22.325596450828016,
         22.134534097276628,
         22.111506099812686,
         21.924789401702583,
         21.95702964719385,
         22.06208203267306,
         22.182458861730993,
         21.96769123058766,
         22.08691920991987,
         22.112264308147132,
         22.23451544996351,
         22.05124108400196,
         22.103016207925975,
         22.20613898243755,
         21.923459897749126,
         21.88253541942686,
         22.11418596561998,
         22.14759939070791,
         21.97585222031921,
         22.15274767857045,
         21.868906310759485,
         22.168366904370487
        ],
        [
         3.104807750820882,
         3.093966689844995,
         3.105231201046239,
         3.11516956498528,
         3.0947947210680073,
         3.085604244087229,
         3.1004606287326353,
         3.1178362987431085,
         3.1300359489638083,
         3.0856431102546638,
         3.0957944019941914,
         3.130548693537691,
         3.120258823753686,
         3.108623338635448,
         3.0977860696447164,
         3.123165807810008,
         3.1133193831617287,
         3.100110230157343,
         3.1259610513099245,
         3.1100022469229907,
         3.1293252024866427,
         3.0818474584128634,
         3.100771829807294,
         3.0721220127356927,
         3.0809771399815395,
         3.0950596439116422,
         3.1117362739741,
         3.10636074251837,
         3.101548017391483,
         3.123438939208446,
         3.116325557433329,
         3.092572731035055,
         3.0824085109059927,
         3.0895723031165123,
         3.09965853122969,
         3.131136450893599,
         3.094916104527006,
         3.0885025687029315,
         3.1312970589774562,
         3.075331671999997,
         3.0914374119368575,
         3.110661349981646,
         3.0823324856191396,
         3.0947503077403864,
         3.094599241220337,
         3.0807370352843537,
         3.1090426201527155,
         3.0969427141935952,
         3.1016030320793893,
         3.0925163075453237,
         3.1047071387637253,
         3.0775831776456135,
         3.1285726063542065,
         3.090632916405164,
         3.116508201428292,
         3.1006853081128165,
         3.1264525356973465,
         3.1426375269015203,
         3.0842710999149157,
         3.093761535011211,
         3.0818133173272755,
         3.1026189342000077,
         3.101119924599388,
         3.1046139089243687,
         3.086508448341662,
         3.1029183250743366,
         3.109590099181096,
         3.100092081398029,
         3.1006975657475198,
         3.1166761923853863,
         3.092770128831938,
         3.0910960436386534,
         3.1193687931326797,
         3.095925007283762,
         3.0999973136500643,
         3.0759366577769462,
         3.0976055137055605,
         3.0965455019179053,
         3.114086303452269,
         3.097950674407986,
         3.1009004765021024,
         3.0865581478471955,
         3.0907833774281017,
         3.102891448210965,
         3.094728550204421,
         3.0974332939054277,
         3.1069139587692165,
         3.0987735316540514,
         3.1154501655794937,
         3.097770819239887,
         3.0987702474499224,
         3.1203072320780887,
         3.081808303481056,
         3.080130456308204,
         3.091655651976747,
         3.085336532763367,
         3.105056066005845,
         3.1115368726562265,
         3.07827157594989,
         3.1160879700943536
        ]
       ],
       "encoder": "json",
       "name": "ABC_GAN_1 Metrics",
       "version": 1
      }
     },
     "metadata": {
      "scrapbook": {
       "data": true,
       "display": false,
       "name": "ABC_GAN_1 Metrics"
      }
     },
     "output_type": "display_data"
    },
    {
     "name": "stdout",
     "output_type": "stream",
     "text": [
      "MSE\n",
      "0.09429904444804049\n"
     ]
    }
   ],
   "source": [
    "ABC_GAN1_metrics=ABC_train_test2.test_generator(gen,test_data,prior_model,variance,bias,\"1\",device)\n",
    "sb.glue(\"ABC_GAN_1 Metrics\",ABC_GAN1_metrics)\n",
    "\n",
    "print(\"MSE\")\n",
    "print(mean(ABC_GAN1_metrics[0]))"
   ]
  },
  {
   "cell_type": "code",
   "execution_count": 14,
   "id": "eb22ce5c",
   "metadata": {
    "execution": {
     "iopub.execute_input": "2022-06-11T17:53:05.479399Z",
     "iopub.status.busy": "2022-06-11T17:53:05.479040Z",
     "iopub.status.idle": "2022-06-11T17:53:05.801159Z",
     "shell.execute_reply": "2022-06-11T17:53:05.801461Z"
    },
    "papermill": {
     "duration": 0.337204,
     "end_time": "2022-06-11T17:53:05.801588",
     "exception": false,
     "start_time": "2022-06-11T17:53:05.464384",
     "status": "completed"
    },
    "tags": []
   },
   "outputs": [
    {
     "data": {
      "image/png": "[encoded data removed]",
      "text/plain": [
       "<Figure size 432x288 with 1 Axes>"
      ]
     },
     "metadata": {
      "needs_background": "light"
     },
     "output_type": "display_data"
    },
    {
     "data": {
      "image/png": "[encoded data removed]",
      "text/plain": [
       "<Figure size 432x288 with 1 Axes>"
      ]
     },
     "metadata": {
      "needs_background": "light"
     },
     "output_type": "display_data"
    },
    {
     "data": {
      "image/png": "[encoded data removed]",
      "text/plain": [
       "<Figure size 432x288 with 1 Axes>"
      ]
     },
     "metadata": {
      "needs_background": "light"
     },
     "output_type": "display_data"
    },
    {
     "data": {
      "image/png": "[encoded data removed]",
      "text/plain": [
       "<Figure size 432x288 with 1 Axes>"
      ]
     },
     "metadata": {
      "needs_background": "light"
     },
     "output_type": "display_data"
    }
   ],
   "source": [
    "sanityChecks.discProbVsError(train_data,disc,device)\n",
    "sanityChecks.discProbVsError(test_data,disc,device)"
   ]
  },
  {
   "cell_type": "markdown",
   "id": "130f3a4d",
   "metadata": {
    "id": "130f3a4d",
    "papermill": {
     "duration": 0.014565,
     "end_time": "2022-06-11T17:53:05.831168",
     "exception": false,
     "start_time": "2022-06-11T17:53:05.816603",
     "status": "completed"
    },
    "tags": []
   },
   "source": [
    "# ABC - GAN Model with skip connection"
   ]
  },
  {
   "cell_type": "code",
   "execution_count": 15,
   "id": "4e43dad1",
   "metadata": {
    "execution": {
     "iopub.execute_input": "2022-06-11T17:53:05.863943Z",
     "iopub.status.busy": "2022-06-11T17:53:05.863562Z",
     "iopub.status.idle": "2022-06-11T17:53:05.865844Z",
     "shell.execute_reply": "2022-06-11T17:53:05.866093Z"
    },
    "id": "4e43dad1",
    "papermill": {
     "duration": 0.020321,
     "end_time": "2022-06-11T17:53:05.866204",
     "exception": false,
     "start_time": "2022-06-11T17:53:05.845883",
     "status": "completed"
    },
    "tags": []
   },
   "outputs": [],
   "source": [
    "#Generator\n",
    "gen3 = network.GeneratorWithSkipConnection(n_features+1).to(device)\n",
    "constraints=network.weightConstraint()\n",
    "#Discriminator \n",
    "disc3 = network.Discriminator(n_features+1).to(device)\n",
    "\n",
    "criterion = torch.nn.BCELoss()\n",
    "gen_opt = torch.optim.Adam(gen3.parameters(), lr=0.001, betas=(0.5, 0.999))\n",
    "disc_opt = torch.optim.Adam(disc3.parameters(), lr=0.001, betas=(0.5, 0.999))\n"
   ]
  },
  {
   "cell_type": "code",
   "execution_count": 16,
   "id": "26acbc37",
   "metadata": {
    "execution": {
     "iopub.execute_input": "2022-06-11T17:53:05.898641Z",
     "iopub.status.busy": "2022-06-11T17:53:05.898283Z",
     "iopub.status.idle": "2022-06-11T17:55:57.929366Z",
     "shell.execute_reply": "2022-06-11T17:55:57.929681Z"
    },
    "id": "26acbc37",
    "papermill": {
     "duration": 172.048441,
     "end_time": "2022-06-11T17:55:57.929804",
     "exception": false,
     "start_time": "2022-06-11T17:53:05.881363",
     "status": "completed"
    },
    "tags": []
   },
   "outputs": [
    {
     "data": {
      "image/png": "[encoded data removed]",
      "text/plain": [
       "<Figure size 432x288 with 1 Axes>"
      ]
     },
     "metadata": {
      "needs_background": "light"
     },
     "output_type": "display_data"
    },
    {
     "data": {
      "image/png": "[encoded data removed]",
      "text/plain": [
       "<Figure size 432x288 with 1 Axes>"
      ]
     },
     "metadata": {
      "needs_background": "light"
     },
     "output_type": "display_data"
    }
   ],
   "source": [
    "ABC_train_test2.training_GAN_skip_connection(disc3,gen3,disc_opt,gen_opt,train_data,batch_size,n_epochs,criterion,prior_model,variance,bias,device)"
   ]
  },
  {
   "cell_type": "code",
   "execution_count": 17,
   "id": "c5e0717b",
   "metadata": {
    "execution": {
     "iopub.execute_input": "2022-06-11T17:55:57.963723Z",
     "iopub.status.busy": "2022-06-11T17:55:57.963333Z",
     "iopub.status.idle": "2022-06-11T17:55:58.779017Z",
     "shell.execute_reply": "2022-06-11T17:55:58.779315Z"
    },
    "id": "c5e0717b",
    "papermill": {
     "duration": 0.83391,
     "end_time": "2022-06-11T17:55:58.779439",
     "exception": false,
     "start_time": "2022-06-11T17:55:57.945529",
     "status": "completed"
    },
    "tags": []
   },
   "outputs": [
    {
     "data": {
      "application/scrapbook.scrap.json+json": {
       "data": 0.08323528214564302,
       "encoder": "json",
       "name": "ABC-GAN Model 3 MSE",
       "version": 1
      }
     },
     "metadata": {
      "scrapbook": {
       "data": true,
       "display": false,
       "name": "ABC-GAN Model 3 MSE"
      }
     },
     "output_type": "display_data"
    },
    {
     "data": {
      "application/scrapbook.scrap.json+json": {
       "data": 0.20444781786086513,
       "encoder": "json",
       "name": "ABC-GAN Model 3 MAE",
       "version": 1
      }
     },
     "metadata": {
      "scrapbook": {
       "data": true,
       "display": false,
       "name": "ABC-GAN Model 3 MAE"
      }
     },
     "output_type": "display_data"
    },
    {
     "data": {
      "application/scrapbook.scrap.json+json": {
       "data": 20.853677421808243,
       "encoder": "json",
       "name": "ABC-GAN Model 3 Manhattan Distance",
       "version": 1
      }
     },
     "metadata": {
      "scrapbook": {
       "data": true,
       "display": false,
       "name": "ABC-GAN Model 3 Manhattan Distance"
      }
     },
     "output_type": "display_data"
    },
    {
     "data": {
      "application/scrapbook.scrap.json+json": {
       "data": 2.912077149760799,
       "encoder": "json",
       "name": "ABC-GAN Model 3 Euclidean distance",
       "version": 1
      }
     },
     "metadata": {
      "scrapbook": {
       "data": true,
       "display": false,
       "name": "ABC-GAN Model 3 Euclidean distance"
      }
     },
     "output_type": "display_data"
    },
    {
     "data": {
      "application/scrapbook.scrap.json+json": {
       "data": [
        [
         0.07509153914939741,
         0.08356496027368338,
         0.08420533130438891,
         0.09333299787746092,
         0.076697006587835,
         0.08076336951506209,
         0.08483858943783959,
         0.0786343081350576,
         0.08272235761377057,
         0.08445170891408703,
         0.09152763448947239,
         0.08738900503429843,
         0.08558792533746558,
         0.09305452873067846,
         0.08565881858805727,
         0.09258622157386771,
         0.08195406632441266,
         0.08496545522079936,
         0.08067158558126611,
         0.07621896473920677,
         0.0772831390264902,
         0.08680443426026345,
         0.07855757392521727,
         0.0807033653469314,
         0.07763282626393271,
         0.08465734980922011,
         0.08389614993001068,
         0.08606130172752136,
         0.07996388963278198,
         0.08706486290939983,
         0.09379773165196742,
         0.0834565143257593,
         0.08206328998928751,
         0.07439565356869687,
         0.08086596302281475,
         0.08357829440446173,
         0.07918154065636955,
         0.0833880947272353,
         0.09520860696527665,
         0.07566003950080362,
         0.07910969814737144,
         0.08567983743333163,
         0.09363063732776129,
         0.08928874683513385,
         0.08160318999245497,
         0.07831847346223596,
         0.08062784324604803,
         0.08807939392566258,
         0.08110126398895981,
         0.07199026800006264,
         0.0757549617010908,
         0.08838012585615512,
         0.08036570506315029,
         0.10576765463148721,
         0.08163568838480693,
         0.07223918386426019,
         0.08723829765407215,
         0.0822826919701714,
         0.08075569983994434,
         0.08825411606482399,
         0.07968335531603843,
         0.07882960525043811,
         0.08284025582243329,
         0.09116510685869404,
         0.08214757574401489,
         0.08590392386907295,
         0.08179605921529719,
         0.08682307124466135,
         0.0889209708524004,
         0.07406405252797721,
         0.08520441372354927,
         0.08582429920284694,
         0.0850479680722499,
         0.08522069105429804,
         0.08652596230493531,
         0.0873584093725688,
         0.08871847396726858,
         0.08509377401816569,
         0.07129125771793128,
         0.08369815064169438,
         0.08645719182044505,
         0.08666223971109378,
         0.08563753804886498,
         0.07301478769322013,
         0.0814761815732633,
         0.08290567616268514,
         0.08157475710604094,
         0.07201335618777506,
         0.08140652069768455,
         0.0819528470918576,
         0.09105131432608925,
         0.07844868753481282,
         0.07650513965795389,
         0.07558833794385779,
         0.08038036345543527,
         0.08646558042494308,
         0.08315125117384992,
         0.07984419704710856,
         0.0877862262237001,
         0.0848081704455511
        ],
        [
         0.19740910907549894,
         0.20666824528655292,
         0.21081603113014033,
         0.22194726457454117,
         0.18799198235330336,
         0.20000680725035422,
         0.20429115852925414,
         0.1989277972218891,
         0.2059025045612133,
         0.2012406672971944,
         0.21125896982666031,
         0.20713940904676623,
         0.21205289211745063,
         0.22257121790236994,
         0.20299009751418934,
         0.2166445229622517,
         0.19952709015057074,
         0.20693453509981433,
         0.19845861056819558,
         0.19181491879235005,
         0.19531509885564446,
         0.20631615809329293,
         0.19101438349039823,
         0.2024777818599022,
         0.19560925398642817,
         0.2084819897917994,
         0.20188766012114345,
         0.2097266967152702,
         0.1989462730547815,
         0.2113642216952262,
         0.21631913123579294,
         0.20731789508250123,
         0.20491494719559947,
         0.1926427534598784,
         0.2077124135879179,
         0.2018162006165321,
         0.19943566962747888,
         0.2039461529485005,
         0.21534172210878894,
         0.20167857261520683,
         0.20389123347715712,
         0.20185769085461894,
         0.2144865134968331,
         0.2098217582348369,
         0.20052569793245079,
         0.20745271363058218,
         0.20739265493865983,
         0.20829353451400118,
         0.20262854457741566,
         0.20122111120316036,
         0.1938191516343139,
         0.21516068081608883,
         0.20576575835801514,
         0.22476622088830553,
         0.20376558381808446,
         0.18511592106455388,
         0.20310841120012543,
         0.20022670923750482,
         0.20458306889871464,
         0.20804946437733723,
         0.2073957781928281,
         0.20047774829664358,
         0.1971421964813535,
         0.22044515104818285,
         0.20528151722186627,
         0.20839892735923915,
         0.1962554671655537,
         0.20757604462514614,
         0.2112310707623906,
         0.1973118400657732,
         0.2005645198765777,
         0.21044876513199187,
         0.20940061226742818,
         0.20961718683989317,
         0.20095391534086243,
         0.21144361625078553,
         0.2039528470760321,
         0.20438115962543615,
         0.1971542979773207,
         0.2085614574653115,
         0.2085869800865504,
         0.2090943877804367,
         0.21348200642558582,
         0.18648123879022166,
         0.20236781282423466,
         0.20389612156934306,
         0.20106154620903088,
         0.19802639515632214,
         0.20687149909744953,
         0.20564588267977038,
         0.20929480211663187,
         0.19681202199346587,
         0.19826827664841332,
         0.18815175698631825,
         0.19743758402582184,
         0.21756951604951538,
         0.2050612478188294,
         0.19775250766828073,
         0.20626140757482134,
         0.20587344495944826
        ],
        [
         20.13572912570089,
         21.0801610192284,
         21.503235175274312,
         22.6386209866032,
         19.175182200036943,
         20.40069433953613,
         20.837698169983923,
         20.290635316632688,
         21.002055465243757,
         20.52654806431383,
         21.548414922319353,
         21.128219722770154,
         21.629394995979965,
         22.702264226041734,
         20.704989946447313,
         22.097741342149675,
         20.351763195358217,
         21.107322580181062,
         20.24277827795595,
         19.565121716819704,
         19.922140083275735,
         21.044248125515878,
         19.48346711602062,
         20.652733749710023,
         19.952143906615674,
         21.26516295876354,
         20.59254133235663,
         21.39212306495756,
         20.292519851587713,
         21.559150612913072,
         22.06455138605088,
         21.146425298415124,
         20.901324613951147,
         19.649560852907598,
         21.186666185967624,
         20.585252462886274,
         20.342438302002847,
         20.80250760074705,
         21.96485565509647,
         20.571214406751096,
         20.796905814670026,
         20.589484467171133,
         21.877624376676977,
         21.401819339953363,
         20.45362118910998,
         21.160176790319383,
         21.154050803743303,
         21.24594052042812,
         20.668111546896398,
         20.524553342722356,
         19.769553466700017,
         21.94638944324106,
         20.988107352517545,
         22.926154530607164,
         20.784089549444616,
         18.881823948584497,
         20.717057942412794,
         20.423124342225492,
         20.867473027668893,
         21.221045366488397,
         21.154369375668466,
         20.448730326257646,
         20.10850404109806,
         22.48540540691465,
         20.93871475663036,
         21.256690590642393,
         20.018057650886476,
         21.172756551764905,
         21.54556921776384,
         20.125807686708868,
         20.457581027410924,
         21.46577404346317,
         21.358862451277673,
         21.380953057669103,
         20.49729936476797,
         21.567248857580125,
         20.803190401755273,
         20.84687828179449,
         20.109738393686712,
         21.27326866146177,
         21.27587196882814,
         21.327627553604543,
         21.775164655409753,
         19.02108635660261,
         20.641516908071935,
         20.797404400072992,
         20.50827771332115,
         20.19869230594486,
         21.10089290793985,
         20.97588003333658,
         21.34806981589645,
         20.07482624333352,
         20.22336421813816,
         19.191479212604463,
         20.13863357063383,
         22.19209063705057,
         20.916247277520597,
         20.170755782164633,
         21.038663572631776,
         20.99909138586372
        ],
        [
         2.7675507209875185,
         2.919524952439301,
         2.9306899858305835,
         3.085444179287807,
         2.796979562306305,
         2.8701678854269717,
         2.9416893314317947,
         2.832083937628946,
         2.904768575395396,
         2.9349743285481864,
         3.0554572027646167,
         2.9855784219307386,
         2.954651990407921,
         3.0808378617722165,
         2.955875419563862,
         3.073075755742853,
         2.8912479598073375,
         2.9438879789356,
         2.868536513501117,
         2.7882493438354987,
         2.807646733601291,
         2.975575960137276,
         2.830701775244464,
         2.8691014735256406,
         2.813991520762124,
         2.9385455042487347,
         2.925304649581149,
         2.9628116336019708,
         2.855926599642183,
         2.980036244202205,
         3.093116329610103,
         2.9176299390476936,
         2.8931739627798607,
         2.7546972000579446,
         2.871990290430506,
         2.9197578716830437,
         2.8419213829642955,
         2.9164337232616817,
         3.1162923339215483,
         2.778007204649039,
         2.840631833066701,
         2.956238051679841,
         3.090360012592652,
         3.017855559363909,
         2.885052058322415,
         2.8263906830351795,
         2.867758708660284,
         2.9973485250163323,
         2.876165664017617,
         2.7097983939781183,
         2.779749286088812,
         3.0024611300278004,
         2.8630930680718936,
         3.284554881930227,
         2.8856264857479923,
         2.714479094440504,
         2.983002909940813,
         2.897038933282996,
         2.8700315997692987,
         3.00031995604003,
         2.850912527987472,
         2.8355986555831008,
         2.906837816922058,
         3.049400088474254,
         2.8946593453961933,
         2.9601013892509562,
         2.8884594579049074,
         2.9758953723132566,
         3.011633946372772,
         2.7485511379367993,
         2.9480247963343227,
         2.9587292067187203,
         2.94531708706711,
         2.948306376131626,
         2.970799245170127,
         2.9850557375034077,
         3.0082028430046726,
         2.9461101387851913,
         2.696610518267143,
         2.9218506747355906,
         2.969618420889356,
         2.973137812233326,
         2.9555082271893998,
         2.7290123386874696,
         2.882806015061169,
         2.9079853797077257,
         2.884549397187744,
         2.7102328924195898,
         2.8815733742460594,
         2.891226453145702,
         3.0474963595156432,
         2.828739317885426,
         2.7934788785869307,
         2.77669056077077,
         2.8633541646911924,
         2.9697624826480973,
         2.9122890687108467,
         2.8537883766679464,
         2.992356107621118,
         2.9411619107839355
        ]
       ],
       "encoder": "json",
       "name": "ABC_GAN_3 Metrics",
       "version": 1
      }
     },
     "metadata": {
      "scrapbook": {
       "data": true,
       "display": false,
       "name": "ABC_GAN_3 Metrics"
      }
     },
     "output_type": "display_data"
    },
    {
     "name": "stdout",
     "output_type": "stream",
     "text": [
      "MSE\n",
      "0.08323528214564302\n"
     ]
    }
   ],
   "source": [
    "ABC_GAN3_metrics=ABC_train_test2.test_generator(gen3,test_data,prior_model,variance,bias,\"3\",device)\n",
    "sb.glue(\"ABC_GAN_3 Metrics\",ABC_GAN3_metrics)\n",
    "\n",
    "print(\"MSE\")\n",
    "print(mean(ABC_GAN3_metrics[0]))"
   ]
  },
  {
   "cell_type": "code",
   "execution_count": 18,
   "id": "c8e46b48",
   "metadata": {
    "execution": {
     "iopub.execute_input": "2022-06-11T17:55:58.816553Z",
     "iopub.status.busy": "2022-06-11T17:55:58.816190Z",
     "iopub.status.idle": "2022-06-11T17:55:59.130702Z",
     "shell.execute_reply": "2022-06-11T17:55:59.131002Z"
    },
    "id": "c8e46b48",
    "papermill": {
     "duration": 0.3341,
     "end_time": "2022-06-11T17:55:59.131125",
     "exception": false,
     "start_time": "2022-06-11T17:55:58.797025",
     "status": "completed"
    },
    "tags": []
   },
   "outputs": [
    {
     "data": {
      "image/png": "[encoded data removed]",
      "text/plain": [
       "<Figure size 432x288 with 1 Axes>"
      ]
     },
     "metadata": {
      "needs_background": "light"
     },
     "output_type": "display_data"
    },
    {
     "data": {
      "image/png": "[encoded data removed]",
      "text/plain": [
       "<Figure size 432x288 with 1 Axes>"
      ]
     },
     "metadata": {
      "needs_background": "light"
     },
     "output_type": "display_data"
    },
    {
     "data": {
      "image/png": "[encoded data removed]",
      "text/plain": [
       "<Figure size 432x288 with 1 Axes>"
      ]
     },
     "metadata": {
      "needs_background": "light"
     },
     "output_type": "display_data"
    },
    {
     "data": {
      "image/png": "[encoded data removed]",
      "text/plain": [
       "<Figure size 432x288 with 1 Axes>"
      ]
     },
     "metadata": {
      "needs_background": "light"
     },
     "output_type": "display_data"
    }
   ],
   "source": [
    "sanityChecks.discProbVsError(train_data,disc3,device)\n",
    "sanityChecks.discProbVsError(test_data,disc3,device)"
   ]
  },
  {
   "cell_type": "markdown",
   "id": "a5bd74c3",
   "metadata": {
    "id": "a5bd74c3",
    "papermill": {
     "duration": 0.019625,
     "end_time": "2022-06-11T17:55:59.170652",
     "exception": false,
     "start_time": "2022-06-11T17:55:59.151027",
     "status": "completed"
    },
    "tags": []
   },
   "source": [
    "## Skip Connection Model Analysis - ABC-GAN "
   ]
  },
  {
   "cell_type": "markdown",
   "id": "5744a8bf",
   "metadata": {
    "id": "5744a8bf",
    "papermill": {
     "duration": 0.019296,
     "end_time": "2022-06-11T17:55:59.209246",
     "exception": false,
     "start_time": "2022-06-11T17:55:59.189950",
     "status": "completed"
    },
    "tags": []
   },
   "source": [
    "### Weight Analysis \n",
    "\n",
    "Study the weights of the skip connection layer\n",
    "\n",
    "Equation of the skip connection is \n",
    "\n",
    "$output = y_{gan} * w + y_{abc} * (1-w)$"
   ]
  },
  {
   "cell_type": "code",
   "execution_count": 19,
   "id": "52c31dea",
   "metadata": {
    "execution": {
     "iopub.execute_input": "2022-06-11T17:55:59.250472Z",
     "iopub.status.busy": "2022-06-11T17:55:59.250059Z",
     "iopub.status.idle": "2022-06-11T17:55:59.253401Z",
     "shell.execute_reply": "2022-06-11T17:55:59.253638Z"
    },
    "id": "52c31dea",
    "papermill": {
     "duration": 0.025318,
     "end_time": "2022-06-11T17:55:59.253749",
     "exception": false,
     "start_time": "2022-06-11T17:55:59.228431",
     "status": "completed"
    },
    "tags": []
   },
   "outputs": [
    {
     "name": "stdout",
     "output_type": "stream",
     "text": [
      "Weight of the node at skip connection\n",
      "Parameter containing:\n",
      "tensor([[0.1909]], requires_grad=True)\n"
     ]
    },
    {
     "data": {
      "application/scrapbook.scrap.json+json": {
       "data": 0.19093196094036102,
       "encoder": "json",
       "name": "Skip Connection Weight",
       "version": 1
      }
     },
     "metadata": {
      "scrapbook": {
       "data": true,
       "display": false,
       "name": "Skip Connection Weight"
      }
     },
     "output_type": "display_data"
    }
   ],
   "source": [
    "print(\"Weight of the node at skip connection\")\n",
    "for name,param in gen3.named_parameters():\n",
    "    if(name == \"skipNode.weight\"):\n",
    "        print(param)\n",
    "        sb.glue(\"Skip Connection Weight\",param.item())"
   ]
  }
 ],
 "metadata": {
  "colab": {
   "collapsed_sections": [],
   "name": "ABC_GAN_Model-Catboost_Pre-gen.ipynb",
   "provenance": []
  },
  "interpreter": {
   "hash": "31f2aee4e71d21fbe5cf8b01ff0e069b9275f58929596ceb00d14d90e3e16cd6"
  },
  "kernelspec": {
   "display_name": "Python 3 (ipykernel)",
   "language": "python",
   "name": "python3"
  },
  "language_info": {
   "codemirror_mode": {
    "name": "ipython",
    "version": 3
   },
   "file_extension": ".py",
   "mimetype": "text/x-python",
   "name": "python",
   "nbconvert_exporter": "python",
   "pygments_lexer": "ipython3",
   "version": "3.8.11"
  },
  "papermill": {
   "default_parameters": {},
   "duration": 238.722266,
   "end_time": "2022-06-11T17:55:59.581241",
   "environment_variables": {},
   "exception": null,
   "input_path": "ABC_GAN-Catboost.ipynb",
   "output_path": "./ABC_GAN_Catboost/ABC-GAN_output_3_0.ipynb",
   "parameters": {
    "bias": 1,
    "variance": 1
   },
   "start_time": "2022-06-11T17:52:00.858975",
   "version": "2.3.3"
  }
 },
 "nbformat": 4,
 "nbformat_minor": 5
}