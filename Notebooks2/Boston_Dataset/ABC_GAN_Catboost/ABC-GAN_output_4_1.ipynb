{
 "cells": [
  {
   "cell_type": "markdown",
   "id": "622780e6",
   "metadata": {
    "id": "622780e6",
    "papermill": {
     "duration": 0.024898,
     "end_time": "2022-06-12T03:14:11.070668",
     "exception": false,
     "start_time": "2022-06-12T03:14:11.045770",
     "status": "completed"
    },
    "tags": []
   },
   "source": [
    "## Import Libraries "
   ]
  },
  {
   "cell_type": "code",
   "execution_count": 1,
   "id": "a62397e3",
   "metadata": {
    "execution": {
     "iopub.execute_input": "2022-06-12T03:14:11.105795Z",
     "iopub.status.busy": "2022-06-12T03:14:11.105267Z",
     "iopub.status.idle": "2022-06-12T03:14:11.107616Z",
     "shell.execute_reply": "2022-06-12T03:14:11.107965Z"
    },
    "id": "a62397e3",
    "papermill": {
     "duration": 0.022366,
     "end_time": "2022-06-12T03:14:11.108184",
     "exception": false,
     "start_time": "2022-06-12T03:14:11.085818",
     "status": "completed"
    },
    "tags": []
   },
   "outputs": [],
   "source": [
    "import warnings\n",
    "import sys\n",
    "sys.path.insert(0, '../../src')\n",
    "warnings.filterwarnings('ignore')"
   ]
  },
  {
   "cell_type": "code",
   "execution_count": 2,
   "id": "d6a4e155",
   "metadata": {
    "execution": {
     "iopub.execute_input": "2022-06-12T03:14:11.129256Z",
     "iopub.status.busy": "2022-06-12T03:14:11.128859Z",
     "iopub.status.idle": "2022-06-12T03:14:12.889463Z",
     "shell.execute_reply": "2022-06-12T03:14:12.889716Z"
    },
    "id": "d6a4e155",
    "papermill": {
     "duration": 1.771931,
     "end_time": "2022-06-12T03:14:12.889837",
     "exception": false,
     "start_time": "2022-06-12T03:14:11.117906",
     "status": "completed"
    },
    "tags": []
   },
   "outputs": [],
   "source": [
    "import ABC_train_test2\n",
    "import bostonDataset\n",
    "import network\n",
    "import dataset\n",
    "import sanityChecks\n",
    "import torch \n",
    "import scrapbook as sb\n",
    "from statistics import mean \n",
    "import catboost as ctb \n",
    "from sklearn.model_selection import train_test_split\n",
    "from sklearn.metrics import mean_squared_error,mean_absolute_error\n",
    "import numpy as np"
   ]
  },
  {
   "cell_type": "markdown",
   "id": "2fa5b0f7",
   "metadata": {
    "id": "2fa5b0f7",
    "papermill": {
     "duration": 0.00728,
     "end_time": "2022-06-12T03:14:12.904325",
     "exception": false,
     "start_time": "2022-06-12T03:14:12.897045",
     "status": "completed"
    },
    "tags": []
   },
   "source": [
    "## Parameters "
   ]
  },
  {
   "cell_type": "code",
   "execution_count": 3,
   "id": "783186fb",
   "metadata": {
    "execution": {
     "iopub.execute_input": "2022-06-12T03:14:12.920655Z",
     "iopub.status.busy": "2022-06-12T03:14:12.920264Z",
     "iopub.status.idle": "2022-06-12T03:14:12.921371Z",
     "shell.execute_reply": "2022-06-12T03:14:12.921602Z"
    },
    "id": "783186fb",
    "papermill": {
     "duration": 0.010344,
     "end_time": "2022-06-12T03:14:12.921713",
     "exception": false,
     "start_time": "2022-06-12T03:14:12.911369",
     "status": "completed"
    },
    "tags": [
     "parameters"
    ]
   },
   "outputs": [],
   "source": [
    "variance = 1\n",
    "bias = 1 "
   ]
  },
  {
   "cell_type": "code",
   "execution_count": 4,
   "id": "1bff6c82",
   "metadata": {
    "execution": {
     "iopub.execute_input": "2022-06-12T03:14:12.937583Z",
     "iopub.status.busy": "2022-06-12T03:14:12.937218Z",
     "iopub.status.idle": "2022-06-12T03:14:12.938453Z",
     "shell.execute_reply": "2022-06-12T03:14:12.938679Z"
    },
    "papermill": {
     "duration": 0.010008,
     "end_time": "2022-06-12T03:14:12.938782",
     "exception": false,
     "start_time": "2022-06-12T03:14:12.928774",
     "status": "completed"
    },
    "tags": [
     "injected-parameters"
    ]
   },
   "outputs": [],
   "source": [
    "# Parameters\n",
    "variance = 0.1\n",
    "bias = 1\n"
   ]
  },
  {
   "cell_type": "markdown",
   "id": "391cdbfd",
   "metadata": {
    "id": "391cdbfd",
    "papermill": {
     "duration": 0.006779,
     "end_time": "2022-06-12T03:14:12.952494",
     "exception": false,
     "start_time": "2022-06-12T03:14:12.945715",
     "status": "completed"
    },
    "tags": []
   },
   "source": [
    "## Dataset \n"
   ]
  },
  {
   "cell_type": "code",
   "execution_count": 5,
   "id": "5b51f161",
   "metadata": {
    "execution": {
     "iopub.execute_input": "2022-06-12T03:14:12.968184Z",
     "iopub.status.busy": "2022-06-12T03:14:12.967819Z",
     "iopub.status.idle": "2022-06-12T03:14:12.968961Z",
     "shell.execute_reply": "2022-06-12T03:14:12.969190Z"
    },
    "id": "5b51f161",
    "papermill": {
     "duration": 0.009906,
     "end_time": "2022-06-12T03:14:12.969294",
     "exception": false,
     "start_time": "2022-06-12T03:14:12.959388",
     "status": "completed"
    },
    "tags": []
   },
   "outputs": [],
   "source": [
    "#Parameters \n",
    "n_features = 13\n",
    "n_samples= 506\n",
    "n_target = 1 "
   ]
  },
  {
   "cell_type": "code",
   "execution_count": 6,
   "id": "5d6eced4",
   "metadata": {
    "execution": {
     "iopub.execute_input": "2022-06-12T03:14:12.985084Z",
     "iopub.status.busy": "2022-06-12T03:14:12.984708Z",
     "iopub.status.idle": "2022-06-12T03:14:12.995249Z",
     "shell.execute_reply": "2022-06-12T03:14:12.995487Z"
    },
    "id": "5d6eced4",
    "papermill": {
     "duration": 0.019343,
     "end_time": "2022-06-12T03:14:12.995595",
     "exception": false,
     "start_time": "2022-06-12T03:14:12.976252",
     "status": "completed"
    },
    "tags": []
   },
   "outputs": [
    {
     "name": "stdout",
     "output_type": "stream",
     "text": [
      "         X1        X2        X3        X4        X5        X6        X7  \\\n",
      "0 -0.419782  0.284830 -1.287909 -0.272599 -0.144217  0.413672 -0.120013   \n",
      "1 -0.417339 -0.487722 -0.593381 -0.272599 -0.740262  0.194274  0.367166   \n",
      "2 -0.417342 -0.487722 -0.593381 -0.272599 -0.740262  1.282714 -0.265812   \n",
      "3 -0.416750 -0.487722 -1.306878 -0.272599 -0.835284  1.016303 -0.809889   \n",
      "4 -0.412482 -0.487722 -1.306878 -0.272599 -0.835284  1.228577 -0.511180   \n",
      "\n",
      "         X8        X9       X10       X11       X12       X13         Y  \n",
      "0  0.140214 -0.982843 -0.666608 -1.459000  0.441052 -1.075562  0.159686  \n",
      "1  0.557160 -0.867883 -0.987329 -0.303094  0.441052 -0.492439 -0.101524  \n",
      "2  0.557160 -0.867883 -0.987329 -0.303094  0.396427 -1.208727  1.324247  \n",
      "3  1.077737 -0.752922 -1.106115  0.113032  0.416163 -1.361517  1.182758  \n",
      "4  1.077737 -0.752922 -1.106115  0.113032  0.441052 -1.026501  1.487503  \n"
     ]
    }
   ],
   "source": [
    "X,Y = bostonDataset.boston_data()"
   ]
  },
  {
   "cell_type": "code",
   "execution_count": 7,
   "id": "fe007438",
   "metadata": {
    "execution": {
     "iopub.execute_input": "2022-06-12T03:14:13.013586Z",
     "iopub.status.busy": "2022-06-12T03:14:13.013152Z",
     "iopub.status.idle": "2022-06-12T03:14:13.014301Z",
     "shell.execute_reply": "2022-06-12T03:14:13.014539Z"
    },
    "id": "fe007438",
    "papermill": {
     "duration": 0.011714,
     "end_time": "2022-06-12T03:14:13.014648",
     "exception": false,
     "start_time": "2022-06-12T03:14:13.002934",
     "status": "completed"
    },
    "tags": []
   },
   "outputs": [],
   "source": [
    "#Train test split for dataset \n",
    "X_train,X_test,Y_train,Y_test = train_test_split(X,Y,test_size = 0.2)\n",
    "train_data = dataset.CustomDataset(X_train,Y_train)\n",
    "test_data = dataset.CustomDataset(X_test,Y_test)\n"
   ]
  },
  {
   "cell_type": "markdown",
   "id": "a9a1af34",
   "metadata": {
    "id": "a9a1af34",
    "papermill": {
     "duration": 0.007395,
     "end_time": "2022-06-12T03:14:13.029295",
     "exception": false,
     "start_time": "2022-06-12T03:14:13.021900",
     "status": "completed"
    },
    "tags": []
   },
   "source": [
    "## Training Parameters "
   ]
  },
  {
   "cell_type": "code",
   "execution_count": 8,
   "id": "952b7fc8",
   "metadata": {
    "execution": {
     "iopub.execute_input": "2022-06-12T03:14:13.046110Z",
     "iopub.status.busy": "2022-06-12T03:14:13.045751Z",
     "iopub.status.idle": "2022-06-12T03:14:13.046956Z",
     "shell.execute_reply": "2022-06-12T03:14:13.047184Z"
    },
    "id": "952b7fc8",
    "papermill": {
     "duration": 0.010874,
     "end_time": "2022-06-12T03:14:13.047297",
     "exception": false,
     "start_time": "2022-06-12T03:14:13.036423",
     "status": "completed"
    },
    "tags": []
   },
   "outputs": [],
   "source": [
    "batch_size = 32\n",
    "n_epochs = 1000\n",
    "#Select the device \n",
    "device = torch.device('cuda' if torch.cuda.is_available() else 'cpu')"
   ]
  },
  {
   "cell_type": "markdown",
   "id": "a95e1600",
   "metadata": {
    "id": "a95e1600",
    "papermill": {
     "duration": 0.007133,
     "end_time": "2022-06-12T03:14:13.061664",
     "exception": false,
     "start_time": "2022-06-12T03:14:13.054531",
     "status": "completed"
    },
    "tags": []
   },
   "source": [
    "# ABC Pre-generator Model \n",
    "\n",
    "1. The catboost model is used as a pre-generator model for the ABC-GAN. \n",
    "2. The model is first trained on the entire dataset \n",
    "3. It generats X,Y pairs and we add some Gaussian noise with mean 0 and variance 1 to it which is then feed as input to the generator.\n"
   ]
  },
  {
   "cell_type": "code",
   "execution_count": 9,
   "id": "ff8ce7bd",
   "metadata": {
    "execution": {
     "iopub.execute_input": "2022-06-12T03:14:13.080763Z",
     "iopub.status.busy": "2022-06-12T03:14:13.080370Z",
     "iopub.status.idle": "2022-06-12T03:14:14.037738Z",
     "shell.execute_reply": "2022-06-12T03:14:14.038114Z"
    },
    "id": "ff8ce7bd",
    "papermill": {
     "duration": 0.969376,
     "end_time": "2022-06-12T03:14:14.038236",
     "exception": false,
     "start_time": "2022-06-12T03:14:13.068860",
     "status": "completed"
    },
    "tags": []
   },
   "outputs": [
    {
     "name": "stdout",
     "output_type": "stream",
     "text": [
      "Learning rate set to 0.033215\n",
      "0:\tlearn: 0.9771313\ttotal: 59.5ms\tremaining: 59.4s\n",
      "1:\tlearn: 0.9568358\ttotal: 60.4ms\tremaining: 30.1s\n",
      "2:\tlearn: 0.9366156\ttotal: 61.4ms\tremaining: 20.4s\n",
      "3:\tlearn: 0.9195848\ttotal: 62.4ms\tremaining: 15.5s\n",
      "4:\tlearn: 0.9034675\ttotal: 63.6ms\tremaining: 12.7s\n",
      "5:\tlearn: 0.8878617\ttotal: 64.7ms\tremaining: 10.7s\n",
      "6:\tlearn: 0.8725223\ttotal: 65.8ms\tremaining: 9.33s\n",
      "7:\tlearn: 0.8569365\ttotal: 66.8ms\tremaining: 8.28s\n",
      "8:\tlearn: 0.8425490\ttotal: 67.7ms\tremaining: 7.45s\n",
      "9:\tlearn: 0.8272669\ttotal: 68.6ms\tremaining: 6.79s\n",
      "10:\tlearn: 0.8138819\ttotal: 69.4ms\tremaining: 6.24s\n",
      "11:\tlearn: 0.7993935\ttotal: 70.2ms\tremaining: 5.78s\n",
      "12:\tlearn: 0.7847582\ttotal: 71ms\tremaining: 5.39s\n",
      "13:\tlearn: 0.7707323\ttotal: 71.8ms\tremaining: 5.06s\n",
      "14:\tlearn: 0.7585488\ttotal: 72.7ms\tremaining: 4.77s\n",
      "15:\tlearn: 0.7470031\ttotal: 73.5ms\tremaining: 4.52s\n",
      "16:\tlearn: 0.7358974\ttotal: 74.3ms\tremaining: 4.3s\n",
      "17:\tlearn: 0.7235650\ttotal: 75.2ms\tremaining: 4.1s\n",
      "18:\tlearn: 0.7112421\ttotal: 76ms\tremaining: 3.92s\n",
      "19:\tlearn: 0.6999489\ttotal: 77ms\tremaining: 3.77s\n",
      "20:\tlearn: 0.6885866\ttotal: 77.8ms\tremaining: 3.63s\n",
      "21:\tlearn: 0.6791636\ttotal: 78.6ms\tremaining: 3.49s\n",
      "22:\tlearn: 0.6679282\ttotal: 79.4ms\tremaining: 3.37s\n",
      "23:\tlearn: 0.6591289\ttotal: 80.2ms\tremaining: 3.26s\n",
      "24:\tlearn: 0.6490664\ttotal: 81ms\tremaining: 3.16s\n",
      "25:\tlearn: 0.6399424\ttotal: 81.8ms\tremaining: 3.06s\n",
      "26:\tlearn: 0.6305601\ttotal: 82.5ms\tremaining: 2.97s\n",
      "27:\tlearn: 0.6216363\ttotal: 83.1ms\tremaining: 2.88s\n",
      "28:\tlearn: 0.6130228\ttotal: 83.8ms\tremaining: 2.81s\n",
      "29:\tlearn: 0.6034052\ttotal: 84.7ms\tremaining: 2.74s\n",
      "30:\tlearn: 0.5941643\ttotal: 85.5ms\tremaining: 2.67s\n",
      "31:\tlearn: 0.5853179\ttotal: 86.2ms\tremaining: 2.61s\n",
      "32:\tlearn: 0.5776795\ttotal: 87.1ms\tremaining: 2.55s\n",
      "33:\tlearn: 0.5713474\ttotal: 87.9ms\tremaining: 2.5s\n",
      "34:\tlearn: 0.5638549\ttotal: 88.7ms\tremaining: 2.44s\n",
      "35:\tlearn: 0.5569106\ttotal: 90.1ms\tremaining: 2.41s\n",
      "36:\tlearn: 0.5502801\ttotal: 90.8ms\tremaining: 2.36s\n",
      "37:\tlearn: 0.5431168\ttotal: 91.6ms\tremaining: 2.32s\n",
      "38:\tlearn: 0.5352495\ttotal: 92.3ms\tremaining: 2.27s\n",
      "39:\tlearn: 0.5275957\ttotal: 93.1ms\tremaining: 2.23s\n",
      "40:\tlearn: 0.5217406\ttotal: 93.9ms\tremaining: 2.2s\n",
      "41:\tlearn: 0.5161608\ttotal: 94.7ms\tremaining: 2.16s\n",
      "42:\tlearn: 0.5093543\ttotal: 95.6ms\tremaining: 2.13s\n",
      "43:\tlearn: 0.5022979\ttotal: 96.4ms\tremaining: 2.09s\n",
      "44:\tlearn: 0.4969308\ttotal: 97.1ms\tremaining: 2.06s\n",
      "45:\tlearn: 0.4902583\ttotal: 97.9ms\tremaining: 2.03s\n",
      "46:\tlearn: 0.4867867\ttotal: 98.6ms\tremaining: 2s\n",
      "47:\tlearn: 0.4808716\ttotal: 99.4ms\tremaining: 1.97s\n",
      "48:\tlearn: 0.4755959\ttotal: 100ms\tremaining: 1.94s\n",
      "49:\tlearn: 0.4696162\ttotal: 101ms\tremaining: 1.91s\n",
      "50:\tlearn: 0.4650399\ttotal: 101ms\tremaining: 1.89s\n",
      "51:\tlearn: 0.4593513\ttotal: 102ms\tremaining: 1.86s\n",
      "52:\tlearn: 0.4553807\ttotal: 103ms\tremaining: 1.84s\n",
      "53:\tlearn: 0.4516792\ttotal: 104ms\tremaining: 1.83s\n",
      "54:\tlearn: 0.4469402\ttotal: 105ms\tremaining: 1.81s\n",
      "55:\tlearn: 0.4438883\ttotal: 106ms\tremaining: 1.79s\n"
     ]
    },
    {
     "name": "stdout",
     "output_type": "stream",
     "text": [
      "56:\tlearn: 0.4400711\ttotal: 107ms\tremaining: 1.77s\n",
      "57:\tlearn: 0.4357944\ttotal: 108ms\tremaining: 1.75s\n",
      "58:\tlearn: 0.4327416\ttotal: 109ms\tremaining: 1.73s\n",
      "59:\tlearn: 0.4285460\ttotal: 109ms\tremaining: 1.71s\n",
      "60:\tlearn: 0.4248962\ttotal: 110ms\tremaining: 1.69s\n",
      "61:\tlearn: 0.4211009\ttotal: 111ms\tremaining: 1.68s\n",
      "62:\tlearn: 0.4185801\ttotal: 112ms\tremaining: 1.66s\n",
      "63:\tlearn: 0.4152731\ttotal: 113ms\tremaining: 1.65s\n",
      "64:\tlearn: 0.4125057\ttotal: 113ms\tremaining: 1.63s\n",
      "65:\tlearn: 0.4090335\ttotal: 114ms\tremaining: 1.61s\n",
      "66:\tlearn: 0.4053267\ttotal: 115ms\tremaining: 1.6s\n",
      "67:\tlearn: 0.4014356\ttotal: 116ms\tremaining: 1.59s\n",
      "68:\tlearn: 0.3986896\ttotal: 117ms\tremaining: 1.57s\n",
      "69:\tlearn: 0.3951341\ttotal: 117ms\tremaining: 1.56s\n",
      "70:\tlearn: 0.3918293\ttotal: 118ms\tremaining: 1.55s\n",
      "71:\tlearn: 0.3886993\ttotal: 119ms\tremaining: 1.53s\n",
      "72:\tlearn: 0.3859861\ttotal: 120ms\tremaining: 1.52s\n",
      "73:\tlearn: 0.3824339\ttotal: 121ms\tremaining: 1.51s\n",
      "74:\tlearn: 0.3796056\ttotal: 121ms\tremaining: 1.5s\n",
      "75:\tlearn: 0.3769019\ttotal: 122ms\tremaining: 1.49s\n",
      "76:\tlearn: 0.3739335\ttotal: 123ms\tremaining: 1.47s\n",
      "77:\tlearn: 0.3708197\ttotal: 124ms\tremaining: 1.46s\n",
      "78:\tlearn: 0.3687921\ttotal: 125ms\tremaining: 1.45s\n",
      "79:\tlearn: 0.3667813\ttotal: 126ms\tremaining: 1.44s\n",
      "80:\tlearn: 0.3642135\ttotal: 126ms\tremaining: 1.43s\n",
      "81:\tlearn: 0.3615041\ttotal: 127ms\tremaining: 1.42s\n",
      "82:\tlearn: 0.3591244\ttotal: 128ms\tremaining: 1.41s\n",
      "83:\tlearn: 0.3568144\ttotal: 129ms\tremaining: 1.41s\n",
      "84:\tlearn: 0.3551137\ttotal: 130ms\tremaining: 1.4s\n",
      "85:\tlearn: 0.3528510\ttotal: 131ms\tremaining: 1.39s\n",
      "86:\tlearn: 0.3507556\ttotal: 132ms\tremaining: 1.38s\n",
      "87:\tlearn: 0.3483398\ttotal: 132ms\tremaining: 1.37s\n",
      "88:\tlearn: 0.3463496\ttotal: 133ms\tremaining: 1.36s\n",
      "89:\tlearn: 0.3442606\ttotal: 134ms\tremaining: 1.35s\n",
      "90:\tlearn: 0.3425773\ttotal: 135ms\tremaining: 1.35s\n",
      "91:\tlearn: 0.3408342\ttotal: 136ms\tremaining: 1.34s\n",
      "92:\tlearn: 0.3388344\ttotal: 136ms\tremaining: 1.33s\n",
      "93:\tlearn: 0.3366413\ttotal: 137ms\tremaining: 1.32s\n",
      "94:\tlearn: 0.3342606\ttotal: 138ms\tremaining: 1.31s\n",
      "95:\tlearn: 0.3324782\ttotal: 139ms\tremaining: 1.31s\n",
      "96:\tlearn: 0.3304935\ttotal: 140ms\tremaining: 1.3s\n",
      "97:\tlearn: 0.3290418\ttotal: 141ms\tremaining: 1.29s\n",
      "98:\tlearn: 0.3273310\ttotal: 142ms\tremaining: 1.29s\n",
      "99:\tlearn: 0.3261641\ttotal: 142ms\tremaining: 1.28s\n",
      "100:\tlearn: 0.3244191\ttotal: 143ms\tremaining: 1.27s\n",
      "101:\tlearn: 0.3226167\ttotal: 144ms\tremaining: 1.27s\n",
      "102:\tlearn: 0.3210888\ttotal: 145ms\tremaining: 1.26s\n",
      "103:\tlearn: 0.3195857\ttotal: 146ms\tremaining: 1.25s\n",
      "104:\tlearn: 0.3182541\ttotal: 147ms\tremaining: 1.25s\n",
      "105:\tlearn: 0.3164293\ttotal: 147ms\tremaining: 1.24s\n",
      "106:\tlearn: 0.3145965\ttotal: 148ms\tremaining: 1.24s\n",
      "107:\tlearn: 0.3126988\ttotal: 149ms\tremaining: 1.23s\n",
      "108:\tlearn: 0.3111629\ttotal: 150ms\tremaining: 1.23s\n",
      "109:\tlearn: 0.3100615\ttotal: 151ms\tremaining: 1.22s\n",
      "110:\tlearn: 0.3085748\ttotal: 151ms\tremaining: 1.21s\n",
      "111:\tlearn: 0.3072640\ttotal: 152ms\tremaining: 1.21s\n",
      "112:\tlearn: 0.3057273\ttotal: 153ms\tremaining: 1.2s\n",
      "113:\tlearn: 0.3038974\ttotal: 154ms\tremaining: 1.2s\n",
      "114:\tlearn: 0.3026728\ttotal: 155ms\tremaining: 1.19s\n",
      "115:\tlearn: 0.3010487\ttotal: 156ms\tremaining: 1.19s\n",
      "116:\tlearn: 0.2997038\ttotal: 157ms\tremaining: 1.19s\n",
      "117:\tlearn: 0.2983737\ttotal: 158ms\tremaining: 1.18s\n",
      "118:\tlearn: 0.2971231\ttotal: 159ms\tremaining: 1.18s\n",
      "119:\tlearn: 0.2959781\ttotal: 160ms\tremaining: 1.17s\n",
      "120:\tlearn: 0.2946763\ttotal: 161ms\tremaining: 1.17s\n",
      "121:\tlearn: 0.2936147\ttotal: 162ms\tremaining: 1.16s\n",
      "122:\tlearn: 0.2924527\ttotal: 162ms\tremaining: 1.16s\n",
      "123:\tlearn: 0.2908373\ttotal: 163ms\tremaining: 1.15s\n",
      "124:\tlearn: 0.2897601\ttotal: 164ms\tremaining: 1.15s\n",
      "125:\tlearn: 0.2884373\ttotal: 165ms\tremaining: 1.14s\n",
      "126:\tlearn: 0.2869397\ttotal: 166ms\tremaining: 1.14s\n",
      "127:\tlearn: 0.2861000\ttotal: 166ms\tremaining: 1.13s\n",
      "128:\tlearn: 0.2847054\ttotal: 167ms\tremaining: 1.13s\n",
      "129:\tlearn: 0.2834900\ttotal: 168ms\tremaining: 1.12s\n",
      "130:\tlearn: 0.2825627\ttotal: 169ms\tremaining: 1.12s\n",
      "131:\tlearn: 0.2815915\ttotal: 170ms\tremaining: 1.11s\n",
      "132:\tlearn: 0.2805726\ttotal: 170ms\tremaining: 1.11s\n",
      "133:\tlearn: 0.2794416\ttotal: 171ms\tremaining: 1.11s\n",
      "134:\tlearn: 0.2785857\ttotal: 172ms\tremaining: 1.1s\n",
      "135:\tlearn: 0.2775475\ttotal: 173ms\tremaining: 1.1s\n",
      "136:\tlearn: 0.2764302\ttotal: 174ms\tremaining: 1.09s\n",
      "137:\tlearn: 0.2751783\ttotal: 175ms\tremaining: 1.09s\n",
      "138:\tlearn: 0.2736655\ttotal: 175ms\tremaining: 1.09s\n",
      "139:\tlearn: 0.2723938\ttotal: 176ms\tremaining: 1.08s\n",
      "140:\tlearn: 0.2715893\ttotal: 177ms\tremaining: 1.08s\n",
      "141:\tlearn: 0.2706038\ttotal: 178ms\tremaining: 1.07s\n",
      "142:\tlearn: 0.2696453\ttotal: 179ms\tremaining: 1.07s\n",
      "143:\tlearn: 0.2682437\ttotal: 180ms\tremaining: 1.07s\n",
      "144:\tlearn: 0.2672609\ttotal: 181ms\tremaining: 1.06s\n",
      "145:\tlearn: 0.2663054\ttotal: 182ms\tremaining: 1.06s\n",
      "146:\tlearn: 0.2652902\ttotal: 183ms\tremaining: 1.06s\n",
      "147:\tlearn: 0.2641789\ttotal: 183ms\tremaining: 1.06s\n",
      "148:\tlearn: 0.2634306\ttotal: 184ms\tremaining: 1.05s\n",
      "149:\tlearn: 0.2625979\ttotal: 185ms\tremaining: 1.05s\n",
      "150:\tlearn: 0.2613547\ttotal: 186ms\tremaining: 1.05s\n",
      "151:\tlearn: 0.2605849\ttotal: 187ms\tremaining: 1.04s\n",
      "152:\tlearn: 0.2599028\ttotal: 188ms\tremaining: 1.04s\n",
      "153:\tlearn: 0.2591931\ttotal: 189ms\tremaining: 1.04s\n",
      "154:\tlearn: 0.2585445\ttotal: 190ms\tremaining: 1.03s\n",
      "155:\tlearn: 0.2576619\ttotal: 191ms\tremaining: 1.03s\n"
     ]
    },
    {
     "name": "stdout",
     "output_type": "stream",
     "text": [
      "156:\tlearn: 0.2568779\ttotal: 192ms\tremaining: 1.03s\n",
      "157:\tlearn: 0.2561860\ttotal: 193ms\tremaining: 1.03s\n",
      "158:\tlearn: 0.2553945\ttotal: 194ms\tremaining: 1.02s\n",
      "159:\tlearn: 0.2546049\ttotal: 195ms\tremaining: 1.02s\n",
      "160:\tlearn: 0.2535486\ttotal: 196ms\tremaining: 1.02s\n",
      "161:\tlearn: 0.2528754\ttotal: 197ms\tremaining: 1.02s\n",
      "162:\tlearn: 0.2522680\ttotal: 198ms\tremaining: 1.01s\n",
      "163:\tlearn: 0.2515271\ttotal: 199ms\tremaining: 1.01s\n",
      "164:\tlearn: 0.2508671\ttotal: 200ms\tremaining: 1.01s\n",
      "165:\tlearn: 0.2500938\ttotal: 200ms\tremaining: 1.01s\n",
      "166:\tlearn: 0.2496203\ttotal: 201ms\tremaining: 1s\n",
      "167:\tlearn: 0.2488338\ttotal: 202ms\tremaining: 1s\n",
      "168:\tlearn: 0.2482685\ttotal: 203ms\tremaining: 1000ms\n",
      "169:\tlearn: 0.2474288\ttotal: 204ms\tremaining: 997ms\n",
      "170:\tlearn: 0.2467575\ttotal: 205ms\tremaining: 994ms\n",
      "171:\tlearn: 0.2461549\ttotal: 206ms\tremaining: 991ms\n",
      "172:\tlearn: 0.2455464\ttotal: 207ms\tremaining: 988ms\n",
      "173:\tlearn: 0.2449040\ttotal: 208ms\tremaining: 985ms\n",
      "174:\tlearn: 0.2441221\ttotal: 208ms\tremaining: 982ms\n",
      "175:\tlearn: 0.2435906\ttotal: 209ms\tremaining: 979ms\n",
      "176:\tlearn: 0.2426845\ttotal: 210ms\tremaining: 976ms\n",
      "177:\tlearn: 0.2419622\ttotal: 211ms\tremaining: 974ms\n",
      "178:\tlearn: 0.2414519\ttotal: 212ms\tremaining: 971ms\n",
      "179:\tlearn: 0.2405905\ttotal: 213ms\tremaining: 968ms\n",
      "180:\tlearn: 0.2398433\ttotal: 213ms\tremaining: 965ms\n",
      "181:\tlearn: 0.2391818\ttotal: 214ms\tremaining: 962ms\n",
      "182:\tlearn: 0.2386095\ttotal: 215ms\tremaining: 960ms\n",
      "183:\tlearn: 0.2380568\ttotal: 216ms\tremaining: 957ms\n",
      "184:\tlearn: 0.2373503\ttotal: 217ms\tremaining: 954ms\n",
      "185:\tlearn: 0.2365185\ttotal: 217ms\tremaining: 951ms\n",
      "186:\tlearn: 0.2356027\ttotal: 218ms\tremaining: 949ms\n",
      "187:\tlearn: 0.2348430\ttotal: 219ms\tremaining: 947ms\n",
      "188:\tlearn: 0.2339975\ttotal: 220ms\tremaining: 944ms\n",
      "189:\tlearn: 0.2334765\ttotal: 221ms\tremaining: 941ms\n",
      "190:\tlearn: 0.2326723\ttotal: 222ms\tremaining: 938ms\n",
      "191:\tlearn: 0.2320805\ttotal: 222ms\tremaining: 936ms\n",
      "192:\tlearn: 0.2310981\ttotal: 223ms\tremaining: 933ms\n",
      "193:\tlearn: 0.2303269\ttotal: 224ms\tremaining: 930ms\n",
      "194:\tlearn: 0.2295710\ttotal: 225ms\tremaining: 927ms\n",
      "195:\tlearn: 0.2289378\ttotal: 225ms\tremaining: 925ms\n",
      "196:\tlearn: 0.2284749\ttotal: 226ms\tremaining: 922ms\n",
      "197:\tlearn: 0.2279895\ttotal: 227ms\tremaining: 919ms\n",
      "198:\tlearn: 0.2274251\ttotal: 228ms\tremaining: 920ms\n",
      "199:\tlearn: 0.2267273\ttotal: 229ms\tremaining: 917ms\n",
      "200:\tlearn: 0.2259729\ttotal: 230ms\tremaining: 914ms\n",
      "201:\tlearn: 0.2252401\ttotal: 231ms\tremaining: 912ms\n",
      "202:\tlearn: 0.2246997\ttotal: 232ms\tremaining: 909ms\n",
      "203:\tlearn: 0.2240709\ttotal: 232ms\tremaining: 907ms\n",
      "204:\tlearn: 0.2233264\ttotal: 233ms\tremaining: 904ms\n",
      "205:\tlearn: 0.2226703\ttotal: 234ms\tremaining: 901ms\n",
      "206:\tlearn: 0.2222232\ttotal: 235ms\tremaining: 899ms\n",
      "207:\tlearn: 0.2216444\ttotal: 235ms\tremaining: 896ms\n",
      "208:\tlearn: 0.2213391\ttotal: 236ms\tremaining: 894ms\n",
      "209:\tlearn: 0.2206809\ttotal: 237ms\tremaining: 892ms\n",
      "210:\tlearn: 0.2200210\ttotal: 238ms\tremaining: 889ms\n",
      "211:\tlearn: 0.2193808\ttotal: 239ms\tremaining: 887ms\n",
      "212:\tlearn: 0.2187855\ttotal: 239ms\tremaining: 884ms\n",
      "213:\tlearn: 0.2182149\ttotal: 240ms\tremaining: 883ms\n",
      "214:\tlearn: 0.2178863\ttotal: 241ms\tremaining: 880ms\n",
      "215:\tlearn: 0.2174128\ttotal: 242ms\tremaining: 878ms\n",
      "216:\tlearn: 0.2165182\ttotal: 243ms\tremaining: 876ms\n",
      "217:\tlearn: 0.2159954\ttotal: 243ms\tremaining: 873ms\n",
      "218:\tlearn: 0.2151856\ttotal: 244ms\tremaining: 871ms\n",
      "219:\tlearn: 0.2145456\ttotal: 245ms\tremaining: 869ms\n",
      "220:\tlearn: 0.2136575\ttotal: 246ms\tremaining: 866ms\n",
      "221:\tlearn: 0.2130408\ttotal: 247ms\tremaining: 864ms\n",
      "222:\tlearn: 0.2125771\ttotal: 247ms\tremaining: 862ms\n",
      "223:\tlearn: 0.2120027\ttotal: 248ms\tremaining: 860ms\n",
      "224:\tlearn: 0.2115081\ttotal: 249ms\tremaining: 858ms\n",
      "225:\tlearn: 0.2105814\ttotal: 250ms\tremaining: 856ms\n",
      "226:\tlearn: 0.2099895\ttotal: 251ms\tremaining: 854ms\n",
      "227:\tlearn: 0.2094101\ttotal: 252ms\tremaining: 852ms\n",
      "228:\tlearn: 0.2089752\ttotal: 252ms\tremaining: 850ms\n",
      "229:\tlearn: 0.2084868\ttotal: 253ms\tremaining: 848ms\n",
      "230:\tlearn: 0.2080637\ttotal: 254ms\tremaining: 845ms\n",
      "231:\tlearn: 0.2074889\ttotal: 255ms\tremaining: 843ms\n",
      "232:\tlearn: 0.2070612\ttotal: 256ms\tremaining: 841ms\n",
      "233:\tlearn: 0.2066218\ttotal: 256ms\tremaining: 839ms\n",
      "234:\tlearn: 0.2062827\ttotal: 257ms\tremaining: 837ms\n",
      "235:\tlearn: 0.2058649\ttotal: 258ms\tremaining: 835ms\n",
      "236:\tlearn: 0.2053208\ttotal: 259ms\tremaining: 833ms\n",
      "237:\tlearn: 0.2051109\ttotal: 260ms\tremaining: 831ms\n",
      "238:\tlearn: 0.2044977\ttotal: 260ms\tremaining: 829ms\n",
      "239:\tlearn: 0.2039210\ttotal: 261ms\tremaining: 827ms\n",
      "240:\tlearn: 0.2033335\ttotal: 262ms\tremaining: 825ms\n",
      "241:\tlearn: 0.2028391\ttotal: 263ms\tremaining: 824ms\n",
      "242:\tlearn: 0.2020220\ttotal: 264ms\tremaining: 822ms\n",
      "243:\tlearn: 0.2014279\ttotal: 264ms\tremaining: 819ms\n",
      "244:\tlearn: 0.2011969\ttotal: 265ms\tremaining: 818ms\n",
      "245:\tlearn: 0.2004666\ttotal: 266ms\tremaining: 816ms\n",
      "246:\tlearn: 0.1999199\ttotal: 267ms\tremaining: 814ms\n",
      "247:\tlearn: 0.1994032\ttotal: 268ms\tremaining: 813ms\n",
      "248:\tlearn: 0.1988439\ttotal: 269ms\tremaining: 810ms\n",
      "249:\tlearn: 0.1983008\ttotal: 270ms\tremaining: 809ms\n",
      "250:\tlearn: 0.1977565\ttotal: 270ms\tremaining: 807ms\n",
      "251:\tlearn: 0.1973141\ttotal: 271ms\tremaining: 805ms\n",
      "252:\tlearn: 0.1968676\ttotal: 272ms\tremaining: 804ms\n",
      "253:\tlearn: 0.1964611\ttotal: 273ms\tremaining: 802ms\n",
      "254:\tlearn: 0.1961092\ttotal: 274ms\tremaining: 800ms\n",
      "255:\tlearn: 0.1954147\ttotal: 275ms\tremaining: 798ms\n",
      "256:\tlearn: 0.1947939\ttotal: 276ms\tremaining: 797ms\n",
      "257:\tlearn: 0.1945669\ttotal: 276ms\tremaining: 795ms\n",
      "258:\tlearn: 0.1941565\ttotal: 277ms\tremaining: 793ms\n",
      "259:\tlearn: 0.1936229\ttotal: 278ms\tremaining: 791ms\n",
      "260:\tlearn: 0.1931456\ttotal: 279ms\tremaining: 790ms\n",
      "261:\tlearn: 0.1927869\ttotal: 280ms\tremaining: 788ms\n",
      "262:\tlearn: 0.1922171\ttotal: 281ms\tremaining: 786ms\n",
      "263:\tlearn: 0.1919751\ttotal: 281ms\tremaining: 785ms\n",
      "264:\tlearn: 0.1916646\ttotal: 282ms\tremaining: 783ms\n",
      "265:\tlearn: 0.1911088\ttotal: 283ms\tremaining: 782ms\n",
      "266:\tlearn: 0.1905339\ttotal: 284ms\tremaining: 780ms\n",
      "267:\tlearn: 0.1899403\ttotal: 285ms\tremaining: 778ms\n",
      "268:\tlearn: 0.1895873\ttotal: 286ms\tremaining: 776ms\n",
      "269:\tlearn: 0.1892877\ttotal: 287ms\tremaining: 775ms\n",
      "270:\tlearn: 0.1889357\ttotal: 287ms\tremaining: 773ms\n",
      "271:\tlearn: 0.1884615\ttotal: 288ms\tremaining: 772ms\n",
      "272:\tlearn: 0.1878703\ttotal: 289ms\tremaining: 770ms\n",
      "273:\tlearn: 0.1875041\ttotal: 290ms\tremaining: 769ms\n",
      "274:\tlearn: 0.1872330\ttotal: 291ms\tremaining: 767ms\n",
      "275:\tlearn: 0.1867938\ttotal: 292ms\tremaining: 765ms\n",
      "276:\tlearn: 0.1862581\ttotal: 293ms\tremaining: 764ms\n",
      "277:\tlearn: 0.1859157\ttotal: 293ms\tremaining: 762ms\n",
      "278:\tlearn: 0.1854171\ttotal: 294ms\tremaining: 760ms\n",
      "279:\tlearn: 0.1849815\ttotal: 295ms\tremaining: 759ms\n",
      "280:\tlearn: 0.1843629\ttotal: 296ms\tremaining: 757ms\n"
     ]
    },
    {
     "name": "stdout",
     "output_type": "stream",
     "text": [
      "281:\tlearn: 0.1838905\ttotal: 297ms\tremaining: 756ms\n",
      "282:\tlearn: 0.1833353\ttotal: 298ms\tremaining: 754ms\n",
      "283:\tlearn: 0.1830493\ttotal: 299ms\tremaining: 753ms\n",
      "284:\tlearn: 0.1825147\ttotal: 299ms\tremaining: 751ms\n",
      "285:\tlearn: 0.1819495\ttotal: 300ms\tremaining: 750ms\n",
      "286:\tlearn: 0.1814189\ttotal: 301ms\tremaining: 748ms\n",
      "287:\tlearn: 0.1808107\ttotal: 302ms\tremaining: 747ms\n",
      "288:\tlearn: 0.1805567\ttotal: 303ms\tremaining: 745ms\n",
      "289:\tlearn: 0.1800494\ttotal: 304ms\tremaining: 744ms\n",
      "290:\tlearn: 0.1794244\ttotal: 305ms\tremaining: 742ms\n",
      "291:\tlearn: 0.1791315\ttotal: 305ms\tremaining: 740ms\n",
      "292:\tlearn: 0.1786215\ttotal: 306ms\tremaining: 739ms\n",
      "293:\tlearn: 0.1781896\ttotal: 307ms\tremaining: 737ms\n",
      "294:\tlearn: 0.1778346\ttotal: 308ms\tremaining: 735ms\n",
      "295:\tlearn: 0.1773684\ttotal: 309ms\tremaining: 734ms\n",
      "296:\tlearn: 0.1771370\ttotal: 309ms\tremaining: 732ms\n",
      "297:\tlearn: 0.1768331\ttotal: 310ms\tremaining: 731ms\n",
      "298:\tlearn: 0.1763234\ttotal: 311ms\tremaining: 729ms\n",
      "299:\tlearn: 0.1758132\ttotal: 312ms\tremaining: 728ms\n",
      "300:\tlearn: 0.1752985\ttotal: 313ms\tremaining: 726ms\n",
      "301:\tlearn: 0.1748259\ttotal: 314ms\tremaining: 725ms\n",
      "302:\tlearn: 0.1744785\ttotal: 314ms\tremaining: 723ms\n",
      "303:\tlearn: 0.1741046\ttotal: 315ms\tremaining: 722ms\n",
      "304:\tlearn: 0.1736373\ttotal: 316ms\tremaining: 720ms\n",
      "305:\tlearn: 0.1730443\ttotal: 317ms\tremaining: 719ms\n",
      "306:\tlearn: 0.1725934\ttotal: 318ms\tremaining: 717ms\n",
      "307:\tlearn: 0.1722535\ttotal: 318ms\tremaining: 715ms\n",
      "308:\tlearn: 0.1718085\ttotal: 319ms\tremaining: 714ms\n",
      "309:\tlearn: 0.1714629\ttotal: 320ms\tremaining: 712ms\n",
      "310:\tlearn: 0.1710016\ttotal: 321ms\tremaining: 711ms\n",
      "311:\tlearn: 0.1706564\ttotal: 322ms\tremaining: 709ms\n",
      "312:\tlearn: 0.1703067\ttotal: 323ms\tremaining: 708ms\n",
      "313:\tlearn: 0.1699356\ttotal: 323ms\tremaining: 706ms\n",
      "314:\tlearn: 0.1696454\ttotal: 324ms\tremaining: 705ms\n",
      "315:\tlearn: 0.1693991\ttotal: 325ms\tremaining: 704ms\n",
      "316:\tlearn: 0.1689722\ttotal: 326ms\tremaining: 702ms\n",
      "317:\tlearn: 0.1685409\ttotal: 327ms\tremaining: 701ms\n",
      "318:\tlearn: 0.1682105\ttotal: 327ms\tremaining: 699ms\n",
      "319:\tlearn: 0.1679484\ttotal: 328ms\tremaining: 698ms\n",
      "320:\tlearn: 0.1675479\ttotal: 329ms\tremaining: 696ms\n",
      "321:\tlearn: 0.1671726\ttotal: 330ms\tremaining: 695ms\n",
      "322:\tlearn: 0.1670882\ttotal: 331ms\tremaining: 693ms\n",
      "323:\tlearn: 0.1669659\ttotal: 332ms\tremaining: 692ms\n",
      "324:\tlearn: 0.1665605\ttotal: 332ms\tremaining: 691ms\n",
      "325:\tlearn: 0.1663590\ttotal: 333ms\tremaining: 689ms\n",
      "326:\tlearn: 0.1661515\ttotal: 334ms\tremaining: 688ms\n",
      "327:\tlearn: 0.1658477\ttotal: 335ms\tremaining: 686ms\n",
      "328:\tlearn: 0.1652735\ttotal: 336ms\tremaining: 685ms\n",
      "329:\tlearn: 0.1647363\ttotal: 337ms\tremaining: 683ms\n",
      "330:\tlearn: 0.1644968\ttotal: 337ms\tremaining: 682ms\n",
      "331:\tlearn: 0.1641068\ttotal: 338ms\tremaining: 680ms\n",
      "332:\tlearn: 0.1637518\ttotal: 339ms\tremaining: 679ms\n",
      "333:\tlearn: 0.1635832\ttotal: 340ms\tremaining: 678ms\n",
      "334:\tlearn: 0.1631934\ttotal: 341ms\tremaining: 676ms\n",
      "335:\tlearn: 0.1629512\ttotal: 342ms\tremaining: 676ms\n",
      "336:\tlearn: 0.1626504\ttotal: 343ms\tremaining: 674ms\n",
      "337:\tlearn: 0.1622516\ttotal: 344ms\tremaining: 673ms\n",
      "338:\tlearn: 0.1621795\ttotal: 345ms\tremaining: 672ms\n",
      "339:\tlearn: 0.1617702\ttotal: 345ms\tremaining: 670ms\n",
      "340:\tlearn: 0.1614362\ttotal: 346ms\tremaining: 669ms\n",
      "341:\tlearn: 0.1610552\ttotal: 347ms\tremaining: 668ms\n",
      "342:\tlearn: 0.1608452\ttotal: 348ms\tremaining: 666ms\n",
      "343:\tlearn: 0.1605949\ttotal: 349ms\tremaining: 665ms\n",
      "344:\tlearn: 0.1604889\ttotal: 349ms\tremaining: 663ms\n",
      "345:\tlearn: 0.1602022\ttotal: 350ms\tremaining: 662ms\n",
      "346:\tlearn: 0.1597840\ttotal: 351ms\tremaining: 661ms\n",
      "347:\tlearn: 0.1596469\ttotal: 352ms\tremaining: 659ms\n",
      "348:\tlearn: 0.1593397\ttotal: 353ms\tremaining: 658ms\n",
      "349:\tlearn: 0.1588549\ttotal: 353ms\tremaining: 656ms\n",
      "350:\tlearn: 0.1586254\ttotal: 354ms\tremaining: 655ms\n",
      "351:\tlearn: 0.1582779\ttotal: 355ms\tremaining: 654ms\n",
      "352:\tlearn: 0.1579389\ttotal: 356ms\tremaining: 652ms\n",
      "353:\tlearn: 0.1575845\ttotal: 357ms\tremaining: 651ms\n",
      "354:\tlearn: 0.1571677\ttotal: 358ms\tremaining: 650ms\n",
      "355:\tlearn: 0.1570839\ttotal: 358ms\tremaining: 648ms\n",
      "356:\tlearn: 0.1568520\ttotal: 359ms\tremaining: 647ms\n",
      "357:\tlearn: 0.1564999\ttotal: 360ms\tremaining: 645ms\n",
      "358:\tlearn: 0.1561151\ttotal: 361ms\tremaining: 644ms\n",
      "359:\tlearn: 0.1558997\ttotal: 362ms\tremaining: 643ms\n",
      "360:\tlearn: 0.1556963\ttotal: 362ms\tremaining: 641ms\n",
      "361:\tlearn: 0.1554653\ttotal: 363ms\tremaining: 640ms\n",
      "362:\tlearn: 0.1550617\ttotal: 364ms\tremaining: 639ms\n",
      "363:\tlearn: 0.1549498\ttotal: 365ms\tremaining: 637ms\n",
      "364:\tlearn: 0.1548219\ttotal: 366ms\tremaining: 636ms\n",
      "365:\tlearn: 0.1547037\ttotal: 366ms\tremaining: 635ms\n",
      "366:\tlearn: 0.1545131\ttotal: 367ms\tremaining: 633ms\n",
      "367:\tlearn: 0.1541548\ttotal: 368ms\tremaining: 632ms\n",
      "368:\tlearn: 0.1539036\ttotal: 369ms\tremaining: 631ms\n",
      "369:\tlearn: 0.1534927\ttotal: 370ms\tremaining: 629ms\n",
      "370:\tlearn: 0.1531656\ttotal: 370ms\tremaining: 628ms\n",
      "371:\tlearn: 0.1527772\ttotal: 371ms\tremaining: 627ms\n",
      "372:\tlearn: 0.1526475\ttotal: 372ms\tremaining: 625ms\n",
      "373:\tlearn: 0.1523512\ttotal: 373ms\tremaining: 624ms\n",
      "374:\tlearn: 0.1522718\ttotal: 374ms\tremaining: 623ms\n",
      "375:\tlearn: 0.1519966\ttotal: 374ms\tremaining: 621ms\n",
      "376:\tlearn: 0.1515631\ttotal: 375ms\tremaining: 620ms\n",
      "377:\tlearn: 0.1511529\ttotal: 376ms\tremaining: 619ms\n",
      "378:\tlearn: 0.1508342\ttotal: 377ms\tremaining: 617ms\n",
      "379:\tlearn: 0.1506303\ttotal: 378ms\tremaining: 616ms\n",
      "380:\tlearn: 0.1503387\ttotal: 378ms\tremaining: 615ms\n",
      "381:\tlearn: 0.1499776\ttotal: 379ms\tremaining: 614ms\n",
      "382:\tlearn: 0.1498669\ttotal: 380ms\tremaining: 613ms\n",
      "383:\tlearn: 0.1493622\ttotal: 381ms\tremaining: 611ms\n"
     ]
    },
    {
     "name": "stdout",
     "output_type": "stream",
     "text": [
      "384:\tlearn: 0.1490731\ttotal: 382ms\tremaining: 610ms\n",
      "385:\tlearn: 0.1489164\ttotal: 383ms\tremaining: 609ms\n",
      "386:\tlearn: 0.1486094\ttotal: 384ms\tremaining: 608ms\n",
      "387:\tlearn: 0.1483704\ttotal: 385ms\tremaining: 607ms\n",
      "388:\tlearn: 0.1481675\ttotal: 385ms\tremaining: 605ms\n",
      "389:\tlearn: 0.1477285\ttotal: 386ms\tremaining: 604ms\n",
      "390:\tlearn: 0.1475168\ttotal: 387ms\tremaining: 603ms\n",
      "391:\tlearn: 0.1472991\ttotal: 388ms\tremaining: 602ms\n",
      "392:\tlearn: 0.1470247\ttotal: 389ms\tremaining: 600ms\n",
      "393:\tlearn: 0.1465576\ttotal: 389ms\tremaining: 599ms\n",
      "394:\tlearn: 0.1462744\ttotal: 390ms\tremaining: 598ms\n",
      "395:\tlearn: 0.1458947\ttotal: 391ms\tremaining: 596ms\n",
      "396:\tlearn: 0.1458547\ttotal: 392ms\tremaining: 595ms\n",
      "397:\tlearn: 0.1454370\ttotal: 393ms\tremaining: 594ms\n",
      "398:\tlearn: 0.1453502\ttotal: 393ms\tremaining: 592ms\n",
      "399:\tlearn: 0.1452629\ttotal: 394ms\tremaining: 591ms\n",
      "400:\tlearn: 0.1451270\ttotal: 395ms\tremaining: 590ms\n",
      "401:\tlearn: 0.1448974\ttotal: 396ms\tremaining: 589ms\n",
      "402:\tlearn: 0.1445250\ttotal: 397ms\tremaining: 588ms\n",
      "403:\tlearn: 0.1443853\ttotal: 398ms\tremaining: 586ms\n",
      "404:\tlearn: 0.1440461\ttotal: 398ms\tremaining: 585ms\n",
      "405:\tlearn: 0.1437230\ttotal: 399ms\tremaining: 584ms\n",
      "406:\tlearn: 0.1436382\ttotal: 400ms\tremaining: 583ms\n",
      "407:\tlearn: 0.1435563\ttotal: 401ms\tremaining: 582ms\n",
      "408:\tlearn: 0.1432754\ttotal: 402ms\tremaining: 580ms\n",
      "409:\tlearn: 0.1432293\ttotal: 402ms\tremaining: 579ms\n",
      "410:\tlearn: 0.1428802\ttotal: 403ms\tremaining: 578ms\n",
      "411:\tlearn: 0.1425292\ttotal: 404ms\tremaining: 577ms\n",
      "412:\tlearn: 0.1420340\ttotal: 405ms\tremaining: 575ms\n",
      "413:\tlearn: 0.1417637\ttotal: 406ms\tremaining: 574ms\n",
      "414:\tlearn: 0.1414716\ttotal: 406ms\tremaining: 573ms\n",
      "415:\tlearn: 0.1413309\ttotal: 407ms\tremaining: 572ms\n",
      "416:\tlearn: 0.1410002\ttotal: 408ms\tremaining: 571ms\n",
      "417:\tlearn: 0.1407945\ttotal: 409ms\tremaining: 570ms\n",
      "418:\tlearn: 0.1406015\ttotal: 410ms\tremaining: 568ms\n",
      "419:\tlearn: 0.1403244\ttotal: 411ms\tremaining: 567ms\n",
      "420:\tlearn: 0.1400710\ttotal: 412ms\tremaining: 566ms\n",
      "421:\tlearn: 0.1398328\ttotal: 412ms\tremaining: 565ms\n",
      "422:\tlearn: 0.1395550\ttotal: 413ms\tremaining: 563ms\n",
      "423:\tlearn: 0.1393080\ttotal: 414ms\tremaining: 562ms\n",
      "424:\tlearn: 0.1390673\ttotal: 415ms\tremaining: 561ms\n",
      "425:\tlearn: 0.1387213\ttotal: 416ms\tremaining: 560ms\n",
      "426:\tlearn: 0.1385856\ttotal: 416ms\tremaining: 559ms\n",
      "427:\tlearn: 0.1383916\ttotal: 417ms\tremaining: 558ms\n",
      "428:\tlearn: 0.1382559\ttotal: 418ms\tremaining: 557ms\n",
      "429:\tlearn: 0.1381277\ttotal: 419ms\tremaining: 556ms\n",
      "430:\tlearn: 0.1378510\ttotal: 420ms\tremaining: 554ms\n",
      "431:\tlearn: 0.1377176\ttotal: 421ms\tremaining: 553ms\n",
      "432:\tlearn: 0.1374703\ttotal: 422ms\tremaining: 552ms\n",
      "433:\tlearn: 0.1371204\ttotal: 422ms\tremaining: 551ms\n",
      "434:\tlearn: 0.1368608\ttotal: 423ms\tremaining: 550ms\n",
      "435:\tlearn: 0.1366024\ttotal: 424ms\tremaining: 548ms\n",
      "436:\tlearn: 0.1362801\ttotal: 425ms\tremaining: 547ms\n",
      "437:\tlearn: 0.1360588\ttotal: 426ms\tremaining: 546ms\n",
      "438:\tlearn: 0.1358075\ttotal: 426ms\tremaining: 545ms\n",
      "439:\tlearn: 0.1356251\ttotal: 427ms\tremaining: 544ms\n",
      "440:\tlearn: 0.1353052\ttotal: 428ms\tremaining: 543ms\n",
      "441:\tlearn: 0.1351013\ttotal: 429ms\tremaining: 542ms\n",
      "442:\tlearn: 0.1347545\ttotal: 430ms\tremaining: 540ms\n",
      "443:\tlearn: 0.1344309\ttotal: 431ms\tremaining: 539ms\n",
      "444:\tlearn: 0.1341644\ttotal: 431ms\tremaining: 538ms\n",
      "445:\tlearn: 0.1341008\ttotal: 432ms\tremaining: 537ms\n",
      "446:\tlearn: 0.1337846\ttotal: 433ms\tremaining: 536ms\n",
      "447:\tlearn: 0.1335421\ttotal: 434ms\tremaining: 534ms\n",
      "448:\tlearn: 0.1332917\ttotal: 434ms\tremaining: 533ms\n",
      "449:\tlearn: 0.1330585\ttotal: 436ms\tremaining: 532ms\n",
      "450:\tlearn: 0.1327502\ttotal: 437ms\tremaining: 531ms\n",
      "451:\tlearn: 0.1325647\ttotal: 437ms\tremaining: 530ms\n",
      "452:\tlearn: 0.1322509\ttotal: 438ms\tremaining: 529ms\n",
      "453:\tlearn: 0.1321968\ttotal: 439ms\tremaining: 528ms\n",
      "454:\tlearn: 0.1317080\ttotal: 440ms\tremaining: 527ms\n",
      "455:\tlearn: 0.1314094\ttotal: 441ms\tremaining: 526ms\n",
      "456:\tlearn: 0.1312678\ttotal: 441ms\tremaining: 525ms\n",
      "457:\tlearn: 0.1312308\ttotal: 442ms\tremaining: 523ms\n",
      "458:\tlearn: 0.1308810\ttotal: 443ms\tremaining: 522ms\n",
      "459:\tlearn: 0.1307491\ttotal: 444ms\tremaining: 521ms\n",
      "460:\tlearn: 0.1304899\ttotal: 445ms\tremaining: 520ms\n",
      "461:\tlearn: 0.1303956\ttotal: 446ms\tremaining: 519ms\n",
      "462:\tlearn: 0.1301075\ttotal: 446ms\tremaining: 518ms\n",
      "463:\tlearn: 0.1298249\ttotal: 447ms\tremaining: 517ms\n",
      "464:\tlearn: 0.1294500\ttotal: 448ms\tremaining: 515ms\n",
      "465:\tlearn: 0.1294087\ttotal: 449ms\tremaining: 514ms\n",
      "466:\tlearn: 0.1291972\ttotal: 450ms\tremaining: 513ms\n",
      "467:\tlearn: 0.1289329\ttotal: 450ms\tremaining: 512ms\n",
      "468:\tlearn: 0.1285808\ttotal: 451ms\tremaining: 511ms\n",
      "469:\tlearn: 0.1282995\ttotal: 452ms\tremaining: 510ms\n",
      "470:\tlearn: 0.1280795\ttotal: 453ms\tremaining: 509ms\n",
      "471:\tlearn: 0.1278791\ttotal: 454ms\tremaining: 507ms\n",
      "472:\tlearn: 0.1276533\ttotal: 454ms\tremaining: 506ms\n",
      "473:\tlearn: 0.1275888\ttotal: 455ms\tremaining: 505ms\n",
      "474:\tlearn: 0.1271875\ttotal: 456ms\tremaining: 504ms\n",
      "475:\tlearn: 0.1271559\ttotal: 457ms\tremaining: 503ms\n",
      "476:\tlearn: 0.1270541\ttotal: 458ms\tremaining: 502ms\n",
      "477:\tlearn: 0.1268987\ttotal: 458ms\tremaining: 501ms\n",
      "478:\tlearn: 0.1267373\ttotal: 459ms\tremaining: 500ms\n",
      "479:\tlearn: 0.1264907\ttotal: 460ms\tremaining: 498ms\n",
      "480:\tlearn: 0.1262434\ttotal: 461ms\tremaining: 497ms\n",
      "481:\tlearn: 0.1260854\ttotal: 462ms\tremaining: 496ms\n",
      "482:\tlearn: 0.1258514\ttotal: 462ms\tremaining: 495ms\n",
      "483:\tlearn: 0.1256864\ttotal: 463ms\tremaining: 494ms\n",
      "484:\tlearn: 0.1255012\ttotal: 464ms\tremaining: 493ms\n",
      "485:\tlearn: 0.1254400\ttotal: 465ms\tremaining: 492ms\n",
      "486:\tlearn: 0.1250776\ttotal: 466ms\tremaining: 491ms\n",
      "487:\tlearn: 0.1248236\ttotal: 467ms\tremaining: 490ms\n",
      "488:\tlearn: 0.1245726\ttotal: 467ms\tremaining: 488ms\n",
      "489:\tlearn: 0.1243840\ttotal: 468ms\tremaining: 487ms\n",
      "490:\tlearn: 0.1241334\ttotal: 469ms\tremaining: 486ms\n",
      "491:\tlearn: 0.1238649\ttotal: 470ms\tremaining: 485ms\n",
      "492:\tlearn: 0.1234926\ttotal: 471ms\tremaining: 484ms\n",
      "493:\tlearn: 0.1231890\ttotal: 471ms\tremaining: 483ms\n",
      "494:\tlearn: 0.1229767\ttotal: 472ms\tremaining: 482ms\n",
      "495:\tlearn: 0.1227167\ttotal: 473ms\tremaining: 481ms\n",
      "496:\tlearn: 0.1225339\ttotal: 474ms\tremaining: 480ms\n",
      "497:\tlearn: 0.1224810\ttotal: 475ms\tremaining: 479ms\n",
      "498:\tlearn: 0.1222557\ttotal: 475ms\tremaining: 477ms\n",
      "499:\tlearn: 0.1219330\ttotal: 476ms\tremaining: 476ms\n",
      "500:\tlearn: 0.1216841\ttotal: 477ms\tremaining: 475ms\n",
      "501:\tlearn: 0.1215347\ttotal: 478ms\tremaining: 474ms\n",
      "502:\tlearn: 0.1213500\ttotal: 479ms\tremaining: 473ms\n",
      "503:\tlearn: 0.1213111\ttotal: 480ms\tremaining: 472ms\n",
      "504:\tlearn: 0.1210644\ttotal: 480ms\tremaining: 471ms\n",
      "505:\tlearn: 0.1208131\ttotal: 481ms\tremaining: 470ms\n",
      "506:\tlearn: 0.1205802\ttotal: 482ms\tremaining: 469ms\n",
      "507:\tlearn: 0.1204578\ttotal: 483ms\tremaining: 468ms\n",
      "508:\tlearn: 0.1202898\ttotal: 484ms\tremaining: 467ms\n",
      "509:\tlearn: 0.1200680\ttotal: 485ms\tremaining: 466ms\n",
      "510:\tlearn: 0.1198587\ttotal: 485ms\tremaining: 465ms\n",
      "511:\tlearn: 0.1196268\ttotal: 486ms\tremaining: 463ms\n"
     ]
    },
    {
     "name": "stdout",
     "output_type": "stream",
     "text": [
      "512:\tlearn: 0.1194685\ttotal: 487ms\tremaining: 463ms\n",
      "513:\tlearn: 0.1192396\ttotal: 488ms\tremaining: 462ms\n",
      "514:\tlearn: 0.1190393\ttotal: 489ms\tremaining: 461ms\n",
      "515:\tlearn: 0.1187743\ttotal: 490ms\tremaining: 460ms\n",
      "516:\tlearn: 0.1186580\ttotal: 491ms\tremaining: 459ms\n",
      "517:\tlearn: 0.1184089\ttotal: 492ms\tremaining: 458ms\n",
      "518:\tlearn: 0.1182364\ttotal: 493ms\tremaining: 457ms\n",
      "519:\tlearn: 0.1180530\ttotal: 494ms\tremaining: 456ms\n",
      "520:\tlearn: 0.1178396\ttotal: 494ms\tremaining: 455ms\n",
      "521:\tlearn: 0.1176932\ttotal: 495ms\tremaining: 453ms\n",
      "522:\tlearn: 0.1174749\ttotal: 496ms\tremaining: 452ms\n",
      "523:\tlearn: 0.1172902\ttotal: 497ms\tremaining: 451ms\n",
      "524:\tlearn: 0.1171920\ttotal: 498ms\tremaining: 450ms\n",
      "525:\tlearn: 0.1170244\ttotal: 498ms\tremaining: 449ms\n",
      "526:\tlearn: 0.1168503\ttotal: 499ms\tremaining: 448ms\n",
      "527:\tlearn: 0.1166218\ttotal: 500ms\tremaining: 447ms\n",
      "528:\tlearn: 0.1163209\ttotal: 501ms\tremaining: 446ms\n",
      "529:\tlearn: 0.1161505\ttotal: 502ms\tremaining: 445ms\n",
      "530:\tlearn: 0.1158628\ttotal: 503ms\tremaining: 444ms\n",
      "531:\tlearn: 0.1157846\ttotal: 503ms\tremaining: 443ms\n",
      "532:\tlearn: 0.1155436\ttotal: 504ms\tremaining: 442ms\n",
      "533:\tlearn: 0.1152867\ttotal: 505ms\tremaining: 441ms\n",
      "534:\tlearn: 0.1151901\ttotal: 506ms\tremaining: 440ms\n",
      "535:\tlearn: 0.1150423\ttotal: 507ms\tremaining: 439ms\n",
      "536:\tlearn: 0.1148619\ttotal: 507ms\tremaining: 438ms\n",
      "537:\tlearn: 0.1145529\ttotal: 508ms\tremaining: 436ms\n",
      "538:\tlearn: 0.1142610\ttotal: 510ms\tremaining: 436ms\n",
      "539:\tlearn: 0.1139957\ttotal: 510ms\tremaining: 435ms\n",
      "540:\tlearn: 0.1136424\ttotal: 511ms\tremaining: 434ms\n",
      "541:\tlearn: 0.1134605\ttotal: 512ms\tremaining: 433ms\n",
      "542:\tlearn: 0.1132669\ttotal: 513ms\tremaining: 432ms\n",
      "543:\tlearn: 0.1131698\ttotal: 514ms\tremaining: 431ms\n",
      "544:\tlearn: 0.1130239\ttotal: 515ms\tremaining: 430ms\n",
      "545:\tlearn: 0.1128776\ttotal: 516ms\tremaining: 429ms\n",
      "546:\tlearn: 0.1125545\ttotal: 517ms\tremaining: 428ms\n",
      "547:\tlearn: 0.1122900\ttotal: 517ms\tremaining: 427ms\n",
      "548:\tlearn: 0.1120785\ttotal: 518ms\tremaining: 426ms\n",
      "549:\tlearn: 0.1118968\ttotal: 519ms\tremaining: 425ms\n",
      "550:\tlearn: 0.1118133\ttotal: 520ms\tremaining: 424ms\n",
      "551:\tlearn: 0.1117412\ttotal: 521ms\tremaining: 423ms\n",
      "552:\tlearn: 0.1114225\ttotal: 522ms\tremaining: 422ms\n",
      "553:\tlearn: 0.1113458\ttotal: 522ms\tremaining: 421ms\n",
      "554:\tlearn: 0.1111775\ttotal: 523ms\tremaining: 420ms\n",
      "555:\tlearn: 0.1108645\ttotal: 524ms\tremaining: 418ms\n",
      "556:\tlearn: 0.1108193\ttotal: 525ms\tremaining: 417ms\n",
      "557:\tlearn: 0.1106049\ttotal: 526ms\tremaining: 416ms\n",
      "558:\tlearn: 0.1103500\ttotal: 526ms\tremaining: 415ms\n",
      "559:\tlearn: 0.1101383\ttotal: 527ms\tremaining: 414ms\n",
      "560:\tlearn: 0.1099727\ttotal: 528ms\tremaining: 413ms\n",
      "561:\tlearn: 0.1099367\ttotal: 529ms\tremaining: 412ms\n",
      "562:\tlearn: 0.1098705\ttotal: 530ms\tremaining: 412ms\n",
      "563:\tlearn: 0.1096736\ttotal: 531ms\tremaining: 411ms\n",
      "564:\tlearn: 0.1095132\ttotal: 532ms\tremaining: 410ms\n",
      "565:\tlearn: 0.1094872\ttotal: 533ms\tremaining: 408ms\n",
      "566:\tlearn: 0.1093768\ttotal: 533ms\tremaining: 407ms\n",
      "567:\tlearn: 0.1092242\ttotal: 535ms\tremaining: 407ms\n",
      "568:\tlearn: 0.1090333\ttotal: 535ms\tremaining: 405ms\n",
      "569:\tlearn: 0.1088727\ttotal: 537ms\tremaining: 405ms\n",
      "570:\tlearn: 0.1085812\ttotal: 538ms\tremaining: 404ms\n",
      "571:\tlearn: 0.1084508\ttotal: 539ms\tremaining: 403ms\n",
      "572:\tlearn: 0.1082201\ttotal: 540ms\tremaining: 402ms\n",
      "573:\tlearn: 0.1079977\ttotal: 541ms\tremaining: 401ms\n",
      "574:\tlearn: 0.1077925\ttotal: 542ms\tremaining: 400ms\n",
      "575:\tlearn: 0.1074842\ttotal: 542ms\tremaining: 399ms\n",
      "576:\tlearn: 0.1071644\ttotal: 543ms\tremaining: 398ms\n",
      "577:\tlearn: 0.1069978\ttotal: 544ms\tremaining: 397ms\n",
      "578:\tlearn: 0.1069053\ttotal: 545ms\tremaining: 396ms\n",
      "579:\tlearn: 0.1067477\ttotal: 546ms\tremaining: 395ms\n",
      "580:\tlearn: 0.1066134\ttotal: 546ms\tremaining: 394ms\n",
      "581:\tlearn: 0.1063999\ttotal: 547ms\tremaining: 393ms\n",
      "582:\tlearn: 0.1062389\ttotal: 548ms\tremaining: 392ms\n",
      "583:\tlearn: 0.1062098\ttotal: 549ms\tremaining: 391ms\n",
      "584:\tlearn: 0.1059599\ttotal: 550ms\tremaining: 390ms\n",
      "585:\tlearn: 0.1058966\ttotal: 550ms\tremaining: 389ms\n",
      "586:\tlearn: 0.1057637\ttotal: 551ms\tremaining: 388ms\n",
      "587:\tlearn: 0.1057193\ttotal: 552ms\tremaining: 387ms\n",
      "588:\tlearn: 0.1055200\ttotal: 552ms\tremaining: 386ms\n",
      "589:\tlearn: 0.1052757\ttotal: 553ms\tremaining: 385ms\n",
      "590:\tlearn: 0.1049752\ttotal: 554ms\tremaining: 384ms\n",
      "591:\tlearn: 0.1048059\ttotal: 555ms\tremaining: 382ms\n",
      "592:\tlearn: 0.1046977\ttotal: 556ms\tremaining: 382ms\n",
      "593:\tlearn: 0.1045426\ttotal: 557ms\tremaining: 380ms\n",
      "594:\tlearn: 0.1042646\ttotal: 557ms\tremaining: 379ms\n",
      "595:\tlearn: 0.1041507\ttotal: 558ms\tremaining: 378ms\n",
      "596:\tlearn: 0.1039803\ttotal: 559ms\tremaining: 377ms\n",
      "597:\tlearn: 0.1038093\ttotal: 560ms\tremaining: 377ms\n",
      "598:\tlearn: 0.1035991\ttotal: 561ms\tremaining: 376ms\n",
      "599:\tlearn: 0.1034600\ttotal: 562ms\tremaining: 375ms\n",
      "600:\tlearn: 0.1033709\ttotal: 563ms\tremaining: 374ms\n",
      "601:\tlearn: 0.1033249\ttotal: 563ms\tremaining: 373ms\n",
      "602:\tlearn: 0.1031306\ttotal: 564ms\tremaining: 372ms\n",
      "603:\tlearn: 0.1029084\ttotal: 565ms\tremaining: 371ms\n",
      "604:\tlearn: 0.1027418\ttotal: 566ms\tremaining: 370ms\n",
      "605:\tlearn: 0.1025742\ttotal: 567ms\tremaining: 369ms\n",
      "606:\tlearn: 0.1023667\ttotal: 568ms\tremaining: 367ms\n",
      "607:\tlearn: 0.1022830\ttotal: 569ms\tremaining: 367ms\n",
      "608:\tlearn: 0.1021491\ttotal: 569ms\tremaining: 366ms\n",
      "609:\tlearn: 0.1020529\ttotal: 570ms\tremaining: 365ms\n"
     ]
    },
    {
     "name": "stdout",
     "output_type": "stream",
     "text": [
      "610:\tlearn: 0.1020092\ttotal: 571ms\tremaining: 364ms\n",
      "611:\tlearn: 0.1018241\ttotal: 572ms\tremaining: 363ms\n",
      "612:\tlearn: 0.1016322\ttotal: 573ms\tremaining: 362ms\n",
      "613:\tlearn: 0.1014858\ttotal: 574ms\tremaining: 361ms\n",
      "614:\tlearn: 0.1014090\ttotal: 575ms\tremaining: 360ms\n",
      "615:\tlearn: 0.1012148\ttotal: 576ms\tremaining: 359ms\n",
      "616:\tlearn: 0.1010775\ttotal: 576ms\tremaining: 358ms\n",
      "617:\tlearn: 0.1008941\ttotal: 577ms\tremaining: 357ms\n",
      "618:\tlearn: 0.1008072\ttotal: 578ms\tremaining: 356ms\n",
      "619:\tlearn: 0.1006253\ttotal: 579ms\tremaining: 355ms\n",
      "620:\tlearn: 0.1004567\ttotal: 580ms\tremaining: 354ms\n",
      "621:\tlearn: 0.1003360\ttotal: 581ms\tremaining: 353ms\n",
      "622:\tlearn: 0.1001007\ttotal: 581ms\tremaining: 352ms\n",
      "623:\tlearn: 0.0999304\ttotal: 582ms\tremaining: 351ms\n",
      "624:\tlearn: 0.0996961\ttotal: 583ms\tremaining: 350ms\n",
      "625:\tlearn: 0.0996408\ttotal: 584ms\tremaining: 349ms\n",
      "626:\tlearn: 0.0995193\ttotal: 585ms\tremaining: 348ms\n",
      "627:\tlearn: 0.0992816\ttotal: 586ms\tremaining: 347ms\n",
      "628:\tlearn: 0.0991751\ttotal: 587ms\tremaining: 346ms\n",
      "629:\tlearn: 0.0990380\ttotal: 587ms\tremaining: 345ms\n",
      "630:\tlearn: 0.0988181\ttotal: 588ms\tremaining: 344ms\n",
      "631:\tlearn: 0.0986903\ttotal: 589ms\tremaining: 343ms\n",
      "632:\tlearn: 0.0985387\ttotal: 590ms\tremaining: 342ms\n",
      "633:\tlearn: 0.0984364\ttotal: 590ms\tremaining: 341ms\n",
      "634:\tlearn: 0.0982301\ttotal: 591ms\tremaining: 340ms\n",
      "635:\tlearn: 0.0980737\ttotal: 592ms\tremaining: 339ms\n",
      "636:\tlearn: 0.0978378\ttotal: 593ms\tremaining: 338ms\n",
      "637:\tlearn: 0.0976694\ttotal: 593ms\tremaining: 337ms\n",
      "638:\tlearn: 0.0974683\ttotal: 594ms\tremaining: 336ms\n",
      "639:\tlearn: 0.0974058\ttotal: 595ms\tremaining: 335ms\n",
      "640:\tlearn: 0.0973173\ttotal: 596ms\tremaining: 334ms\n",
      "641:\tlearn: 0.0972192\ttotal: 597ms\tremaining: 333ms\n",
      "642:\tlearn: 0.0971175\ttotal: 598ms\tremaining: 332ms\n",
      "643:\tlearn: 0.0970061\ttotal: 598ms\tremaining: 331ms\n",
      "644:\tlearn: 0.0968721\ttotal: 599ms\tremaining: 330ms\n",
      "645:\tlearn: 0.0966767\ttotal: 600ms\tremaining: 329ms\n",
      "646:\tlearn: 0.0964834\ttotal: 601ms\tremaining: 328ms\n",
      "647:\tlearn: 0.0964070\ttotal: 602ms\tremaining: 327ms\n",
      "648:\tlearn: 0.0962998\ttotal: 602ms\tremaining: 326ms\n",
      "649:\tlearn: 0.0961343\ttotal: 603ms\tremaining: 325ms\n",
      "650:\tlearn: 0.0959617\ttotal: 604ms\tremaining: 324ms\n",
      "651:\tlearn: 0.0957464\ttotal: 605ms\tremaining: 323ms\n",
      "652:\tlearn: 0.0954882\ttotal: 606ms\tremaining: 322ms\n",
      "653:\tlearn: 0.0953199\ttotal: 607ms\tremaining: 321ms\n",
      "654:\tlearn: 0.0952351\ttotal: 607ms\tremaining: 320ms\n",
      "655:\tlearn: 0.0950507\ttotal: 608ms\tremaining: 319ms\n",
      "656:\tlearn: 0.0948175\ttotal: 609ms\tremaining: 318ms\n",
      "657:\tlearn: 0.0945955\ttotal: 610ms\tremaining: 317ms\n",
      "658:\tlearn: 0.0944420\ttotal: 611ms\tremaining: 316ms\n",
      "659:\tlearn: 0.0942244\ttotal: 611ms\tremaining: 315ms\n",
      "660:\tlearn: 0.0940299\ttotal: 612ms\tremaining: 314ms\n",
      "661:\tlearn: 0.0939147\ttotal: 613ms\tremaining: 313ms\n",
      "662:\tlearn: 0.0937290\ttotal: 614ms\tremaining: 312ms\n",
      "663:\tlearn: 0.0936131\ttotal: 615ms\tremaining: 311ms\n",
      "664:\tlearn: 0.0934708\ttotal: 616ms\tremaining: 310ms\n",
      "665:\tlearn: 0.0934071\ttotal: 616ms\tremaining: 309ms\n",
      "666:\tlearn: 0.0932992\ttotal: 617ms\tremaining: 308ms\n",
      "667:\tlearn: 0.0930737\ttotal: 618ms\tremaining: 307ms\n",
      "668:\tlearn: 0.0928157\ttotal: 619ms\tremaining: 306ms\n",
      "669:\tlearn: 0.0926827\ttotal: 619ms\tremaining: 305ms\n",
      "670:\tlearn: 0.0924941\ttotal: 620ms\tremaining: 304ms\n",
      "671:\tlearn: 0.0922950\ttotal: 621ms\tremaining: 303ms\n",
      "672:\tlearn: 0.0922179\ttotal: 622ms\tremaining: 302ms\n",
      "673:\tlearn: 0.0920381\ttotal: 623ms\tremaining: 301ms\n",
      "674:\tlearn: 0.0919265\ttotal: 624ms\tremaining: 300ms\n",
      "675:\tlearn: 0.0917244\ttotal: 624ms\tremaining: 299ms\n",
      "676:\tlearn: 0.0915081\ttotal: 625ms\tremaining: 298ms\n",
      "677:\tlearn: 0.0913726\ttotal: 626ms\tremaining: 297ms\n",
      "678:\tlearn: 0.0911983\ttotal: 627ms\tremaining: 296ms\n",
      "679:\tlearn: 0.0911195\ttotal: 628ms\tremaining: 295ms\n",
      "680:\tlearn: 0.0909753\ttotal: 629ms\tremaining: 294ms\n",
      "681:\tlearn: 0.0908076\ttotal: 629ms\tremaining: 293ms\n",
      "682:\tlearn: 0.0907814\ttotal: 630ms\tremaining: 293ms\n",
      "683:\tlearn: 0.0906442\ttotal: 631ms\tremaining: 292ms\n",
      "684:\tlearn: 0.0904765\ttotal: 632ms\tremaining: 291ms\n",
      "685:\tlearn: 0.0903750\ttotal: 633ms\tremaining: 290ms\n",
      "686:\tlearn: 0.0903150\ttotal: 633ms\tremaining: 289ms\n",
      "687:\tlearn: 0.0902221\ttotal: 634ms\tremaining: 288ms\n",
      "688:\tlearn: 0.0900347\ttotal: 635ms\tremaining: 287ms\n",
      "689:\tlearn: 0.0898225\ttotal: 636ms\tremaining: 286ms\n",
      "690:\tlearn: 0.0896211\ttotal: 637ms\tremaining: 285ms\n",
      "691:\tlearn: 0.0894206\ttotal: 637ms\tremaining: 284ms\n",
      "692:\tlearn: 0.0892274\ttotal: 638ms\tremaining: 283ms\n",
      "693:\tlearn: 0.0890818\ttotal: 639ms\tremaining: 282ms\n",
      "694:\tlearn: 0.0888561\ttotal: 640ms\tremaining: 281ms\n",
      "695:\tlearn: 0.0886774\ttotal: 641ms\tremaining: 280ms\n",
      "696:\tlearn: 0.0885794\ttotal: 641ms\tremaining: 279ms\n",
      "697:\tlearn: 0.0884118\ttotal: 642ms\tremaining: 278ms\n",
      "698:\tlearn: 0.0882509\ttotal: 643ms\tremaining: 277ms\n",
      "699:\tlearn: 0.0881506\ttotal: 644ms\tremaining: 276ms\n",
      "700:\tlearn: 0.0879687\ttotal: 645ms\tremaining: 275ms\n",
      "701:\tlearn: 0.0879478\ttotal: 646ms\tremaining: 274ms\n",
      "702:\tlearn: 0.0878580\ttotal: 646ms\tremaining: 273ms\n",
      "703:\tlearn: 0.0877833\ttotal: 647ms\tremaining: 272ms\n",
      "704:\tlearn: 0.0876422\ttotal: 648ms\tremaining: 271ms\n",
      "705:\tlearn: 0.0874401\ttotal: 649ms\tremaining: 270ms\n",
      "706:\tlearn: 0.0873187\ttotal: 650ms\tremaining: 269ms\n",
      "707:\tlearn: 0.0872364\ttotal: 650ms\tremaining: 268ms\n",
      "708:\tlearn: 0.0870649\ttotal: 651ms\tremaining: 267ms\n",
      "709:\tlearn: 0.0870379\ttotal: 652ms\tremaining: 266ms\n",
      "710:\tlearn: 0.0869178\ttotal: 653ms\tremaining: 265ms\n",
      "711:\tlearn: 0.0867815\ttotal: 654ms\tremaining: 264ms\n",
      "712:\tlearn: 0.0866544\ttotal: 655ms\tremaining: 263ms\n",
      "713:\tlearn: 0.0865751\ttotal: 655ms\tremaining: 262ms\n",
      "714:\tlearn: 0.0864169\ttotal: 656ms\tremaining: 262ms\n",
      "715:\tlearn: 0.0863965\ttotal: 657ms\tremaining: 261ms\n",
      "716:\tlearn: 0.0862633\ttotal: 658ms\tremaining: 260ms\n",
      "717:\tlearn: 0.0860591\ttotal: 659ms\tremaining: 259ms\n",
      "718:\tlearn: 0.0858619\ttotal: 659ms\tremaining: 258ms\n",
      "719:\tlearn: 0.0856885\ttotal: 660ms\tremaining: 257ms\n",
      "720:\tlearn: 0.0855725\ttotal: 661ms\tremaining: 256ms\n",
      "721:\tlearn: 0.0853874\ttotal: 662ms\tremaining: 255ms\n",
      "722:\tlearn: 0.0852382\ttotal: 663ms\tremaining: 254ms\n",
      "723:\tlearn: 0.0851867\ttotal: 663ms\tremaining: 253ms\n",
      "724:\tlearn: 0.0850590\ttotal: 664ms\tremaining: 252ms\n",
      "725:\tlearn: 0.0848948\ttotal: 665ms\tremaining: 251ms\n",
      "726:\tlearn: 0.0847505\ttotal: 666ms\tremaining: 250ms\n",
      "727:\tlearn: 0.0845751\ttotal: 667ms\tremaining: 249ms\n",
      "728:\tlearn: 0.0844285\ttotal: 668ms\tremaining: 248ms\n",
      "729:\tlearn: 0.0843079\ttotal: 668ms\tremaining: 247ms\n",
      "730:\tlearn: 0.0841525\ttotal: 669ms\tremaining: 246ms\n",
      "731:\tlearn: 0.0840771\ttotal: 670ms\tremaining: 245ms\n",
      "732:\tlearn: 0.0839016\ttotal: 671ms\tremaining: 244ms\n",
      "733:\tlearn: 0.0838669\ttotal: 672ms\tremaining: 243ms\n",
      "734:\tlearn: 0.0837176\ttotal: 672ms\tremaining: 242ms\n",
      "735:\tlearn: 0.0836089\ttotal: 673ms\tremaining: 241ms\n",
      "736:\tlearn: 0.0834470\ttotal: 674ms\tremaining: 240ms\n",
      "737:\tlearn: 0.0833715\ttotal: 675ms\tremaining: 239ms\n",
      "738:\tlearn: 0.0831917\ttotal: 675ms\tremaining: 238ms\n",
      "739:\tlearn: 0.0830632\ttotal: 676ms\tremaining: 237ms\n"
     ]
    },
    {
     "name": "stdout",
     "output_type": "stream",
     "text": [
      "740:\tlearn: 0.0830382\ttotal: 677ms\tremaining: 237ms\n",
      "741:\tlearn: 0.0828785\ttotal: 678ms\tremaining: 236ms\n",
      "742:\tlearn: 0.0826842\ttotal: 679ms\tremaining: 235ms\n",
      "743:\tlearn: 0.0825881\ttotal: 680ms\tremaining: 234ms\n",
      "744:\tlearn: 0.0825141\ttotal: 681ms\tremaining: 233ms\n",
      "745:\tlearn: 0.0824531\ttotal: 681ms\tremaining: 232ms\n",
      "746:\tlearn: 0.0822443\ttotal: 682ms\tremaining: 231ms\n",
      "747:\tlearn: 0.0820447\ttotal: 683ms\tremaining: 230ms\n",
      "748:\tlearn: 0.0819371\ttotal: 684ms\tremaining: 229ms\n",
      "749:\tlearn: 0.0817780\ttotal: 685ms\tremaining: 228ms\n",
      "750:\tlearn: 0.0816039\ttotal: 685ms\tremaining: 227ms\n",
      "751:\tlearn: 0.0814932\ttotal: 686ms\tremaining: 226ms\n",
      "752:\tlearn: 0.0813250\ttotal: 687ms\tremaining: 225ms\n",
      "753:\tlearn: 0.0811722\ttotal: 688ms\tremaining: 224ms\n",
      "754:\tlearn: 0.0811365\ttotal: 689ms\tremaining: 224ms\n",
      "755:\tlearn: 0.0809967\ttotal: 690ms\tremaining: 223ms\n",
      "756:\tlearn: 0.0808527\ttotal: 690ms\tremaining: 222ms\n",
      "757:\tlearn: 0.0806894\ttotal: 691ms\tremaining: 221ms\n",
      "758:\tlearn: 0.0806133\ttotal: 692ms\tremaining: 220ms\n",
      "759:\tlearn: 0.0804512\ttotal: 693ms\tremaining: 219ms\n",
      "760:\tlearn: 0.0804014\ttotal: 694ms\tremaining: 218ms\n",
      "761:\tlearn: 0.0802745\ttotal: 694ms\tremaining: 217ms\n",
      "762:\tlearn: 0.0802072\ttotal: 695ms\tremaining: 216ms\n",
      "763:\tlearn: 0.0800677\ttotal: 696ms\tremaining: 215ms\n",
      "764:\tlearn: 0.0800305\ttotal: 697ms\tremaining: 214ms\n",
      "765:\tlearn: 0.0800022\ttotal: 698ms\tremaining: 213ms\n",
      "766:\tlearn: 0.0798385\ttotal: 699ms\tremaining: 212ms\n",
      "767:\tlearn: 0.0798058\ttotal: 699ms\tremaining: 211ms\n",
      "768:\tlearn: 0.0796868\ttotal: 700ms\tremaining: 210ms\n",
      "769:\tlearn: 0.0795467\ttotal: 701ms\tremaining: 209ms\n",
      "770:\tlearn: 0.0794180\ttotal: 702ms\tremaining: 208ms\n",
      "771:\tlearn: 0.0793904\ttotal: 702ms\tremaining: 207ms\n",
      "772:\tlearn: 0.0792884\ttotal: 703ms\tremaining: 207ms\n",
      "773:\tlearn: 0.0791736\ttotal: 704ms\tremaining: 206ms\n",
      "774:\tlearn: 0.0790719\ttotal: 705ms\tremaining: 205ms\n",
      "775:\tlearn: 0.0789963\ttotal: 706ms\tremaining: 204ms\n",
      "776:\tlearn: 0.0789100\ttotal: 707ms\tremaining: 203ms\n",
      "777:\tlearn: 0.0787608\ttotal: 707ms\tremaining: 202ms\n",
      "778:\tlearn: 0.0787427\ttotal: 708ms\tremaining: 201ms\n",
      "779:\tlearn: 0.0785931\ttotal: 709ms\tremaining: 200ms\n",
      "780:\tlearn: 0.0785187\ttotal: 710ms\tremaining: 199ms\n",
      "781:\tlearn: 0.0784015\ttotal: 711ms\tremaining: 198ms\n",
      "782:\tlearn: 0.0783267\ttotal: 711ms\tremaining: 197ms\n",
      "783:\tlearn: 0.0781774\ttotal: 712ms\tremaining: 196ms\n",
      "784:\tlearn: 0.0781163\ttotal: 713ms\tremaining: 195ms\n",
      "785:\tlearn: 0.0780605\ttotal: 714ms\tremaining: 194ms\n",
      "786:\tlearn: 0.0780345\ttotal: 715ms\tremaining: 193ms\n",
      "787:\tlearn: 0.0778521\ttotal: 715ms\tremaining: 192ms\n",
      "788:\tlearn: 0.0778277\ttotal: 716ms\tremaining: 192ms\n",
      "789:\tlearn: 0.0777749\ttotal: 717ms\tremaining: 191ms\n",
      "790:\tlearn: 0.0776445\ttotal: 718ms\tremaining: 190ms\n",
      "791:\tlearn: 0.0776217\ttotal: 719ms\tremaining: 189ms\n",
      "792:\tlearn: 0.0775082\ttotal: 719ms\tremaining: 188ms\n",
      "793:\tlearn: 0.0774309\ttotal: 720ms\tremaining: 187ms\n",
      "794:\tlearn: 0.0772433\ttotal: 721ms\tremaining: 186ms\n",
      "795:\tlearn: 0.0771766\ttotal: 722ms\tremaining: 185ms\n",
      "796:\tlearn: 0.0769967\ttotal: 723ms\tremaining: 184ms\n",
      "797:\tlearn: 0.0769537\ttotal: 723ms\tremaining: 183ms\n",
      "798:\tlearn: 0.0769060\ttotal: 724ms\tremaining: 182ms\n",
      "799:\tlearn: 0.0767736\ttotal: 725ms\tremaining: 181ms\n",
      "800:\tlearn: 0.0766706\ttotal: 726ms\tremaining: 180ms\n",
      "801:\tlearn: 0.0766185\ttotal: 727ms\tremaining: 179ms\n",
      "802:\tlearn: 0.0765938\ttotal: 727ms\tremaining: 178ms\n",
      "803:\tlearn: 0.0764517\ttotal: 728ms\tremaining: 177ms\n",
      "804:\tlearn: 0.0763481\ttotal: 729ms\tremaining: 177ms\n",
      "805:\tlearn: 0.0762019\ttotal: 730ms\tremaining: 176ms\n",
      "806:\tlearn: 0.0761737\ttotal: 730ms\tremaining: 175ms\n",
      "807:\tlearn: 0.0760411\ttotal: 731ms\tremaining: 174ms\n",
      "808:\tlearn: 0.0759309\ttotal: 732ms\tremaining: 173ms\n",
      "809:\tlearn: 0.0758343\ttotal: 733ms\tremaining: 172ms\n",
      "810:\tlearn: 0.0756959\ttotal: 734ms\tremaining: 171ms\n",
      "811:\tlearn: 0.0756576\ttotal: 735ms\tremaining: 170ms\n",
      "812:\tlearn: 0.0755304\ttotal: 735ms\tremaining: 169ms\n",
      "813:\tlearn: 0.0754286\ttotal: 736ms\tremaining: 168ms\n",
      "814:\tlearn: 0.0753608\ttotal: 737ms\tremaining: 167ms\n",
      "815:\tlearn: 0.0752501\ttotal: 738ms\tremaining: 166ms\n",
      "816:\tlearn: 0.0751845\ttotal: 739ms\tremaining: 166ms\n",
      "817:\tlearn: 0.0751065\ttotal: 740ms\tremaining: 165ms\n",
      "818:\tlearn: 0.0750407\ttotal: 741ms\tremaining: 164ms\n",
      "819:\tlearn: 0.0749716\ttotal: 741ms\tremaining: 163ms\n",
      "820:\tlearn: 0.0749409\ttotal: 742ms\tremaining: 162ms\n",
      "821:\tlearn: 0.0748347\ttotal: 743ms\tremaining: 161ms\n",
      "822:\tlearn: 0.0746143\ttotal: 744ms\tremaining: 160ms\n",
      "823:\tlearn: 0.0744885\ttotal: 745ms\tremaining: 159ms\n",
      "824:\tlearn: 0.0744725\ttotal: 746ms\tremaining: 158ms\n",
      "825:\tlearn: 0.0743809\ttotal: 746ms\tremaining: 157ms\n",
      "826:\tlearn: 0.0742347\ttotal: 747ms\tremaining: 156ms\n",
      "827:\tlearn: 0.0741573\ttotal: 748ms\tremaining: 155ms\n",
      "828:\tlearn: 0.0740998\ttotal: 749ms\tremaining: 154ms\n",
      "829:\tlearn: 0.0739805\ttotal: 750ms\tremaining: 154ms\n",
      "830:\tlearn: 0.0739221\ttotal: 750ms\tremaining: 153ms\n",
      "831:\tlearn: 0.0738206\ttotal: 751ms\tremaining: 152ms\n",
      "832:\tlearn: 0.0737733\ttotal: 752ms\tremaining: 151ms\n",
      "833:\tlearn: 0.0735847\ttotal: 753ms\tremaining: 150ms\n",
      "834:\tlearn: 0.0735139\ttotal: 754ms\tremaining: 149ms\n",
      "835:\tlearn: 0.0734965\ttotal: 755ms\tremaining: 148ms\n",
      "836:\tlearn: 0.0733962\ttotal: 755ms\tremaining: 147ms\n",
      "837:\tlearn: 0.0733676\ttotal: 757ms\tremaining: 146ms\n",
      "838:\tlearn: 0.0733530\ttotal: 758ms\tremaining: 145ms\n",
      "839:\tlearn: 0.0732374\ttotal: 759ms\tremaining: 144ms\n",
      "840:\tlearn: 0.0730907\ttotal: 759ms\tremaining: 144ms\n",
      "841:\tlearn: 0.0730317\ttotal: 760ms\tremaining: 143ms\n"
     ]
    },
    {
     "name": "stdout",
     "output_type": "stream",
     "text": [
      "842:\tlearn: 0.0729413\ttotal: 761ms\tremaining: 142ms\n",
      "843:\tlearn: 0.0728145\ttotal: 762ms\tremaining: 141ms\n",
      "844:\tlearn: 0.0727842\ttotal: 763ms\tremaining: 140ms\n",
      "845:\tlearn: 0.0726572\ttotal: 764ms\tremaining: 139ms\n",
      "846:\tlearn: 0.0724955\ttotal: 765ms\tremaining: 138ms\n",
      "847:\tlearn: 0.0724532\ttotal: 766ms\tremaining: 137ms\n",
      "848:\tlearn: 0.0724337\ttotal: 767ms\tremaining: 136ms\n",
      "849:\tlearn: 0.0724188\ttotal: 768ms\tremaining: 135ms\n",
      "850:\tlearn: 0.0723113\ttotal: 769ms\tremaining: 135ms\n",
      "851:\tlearn: 0.0722009\ttotal: 769ms\tremaining: 134ms\n",
      "852:\tlearn: 0.0721339\ttotal: 770ms\tremaining: 133ms\n",
      "853:\tlearn: 0.0719918\ttotal: 771ms\tremaining: 132ms\n",
      "854:\tlearn: 0.0718293\ttotal: 772ms\tremaining: 131ms\n",
      "855:\tlearn: 0.0717813\ttotal: 773ms\tremaining: 130ms\n",
      "856:\tlearn: 0.0717278\ttotal: 774ms\tremaining: 129ms\n",
      "857:\tlearn: 0.0716425\ttotal: 774ms\tremaining: 128ms\n",
      "858:\tlearn: 0.0715260\ttotal: 775ms\tremaining: 127ms\n",
      "859:\tlearn: 0.0713990\ttotal: 776ms\tremaining: 126ms\n",
      "860:\tlearn: 0.0713149\ttotal: 777ms\tremaining: 125ms\n",
      "861:\tlearn: 0.0711888\ttotal: 778ms\tremaining: 124ms\n",
      "862:\tlearn: 0.0711642\ttotal: 778ms\tremaining: 124ms\n",
      "863:\tlearn: 0.0710749\ttotal: 779ms\tremaining: 123ms\n",
      "864:\tlearn: 0.0709644\ttotal: 780ms\tremaining: 122ms\n",
      "865:\tlearn: 0.0708366\ttotal: 781ms\tremaining: 121ms\n",
      "866:\tlearn: 0.0707161\ttotal: 781ms\tremaining: 120ms\n",
      "867:\tlearn: 0.0706688\ttotal: 782ms\tremaining: 119ms\n",
      "868:\tlearn: 0.0705465\ttotal: 783ms\tremaining: 118ms\n",
      "869:\tlearn: 0.0704168\ttotal: 784ms\tremaining: 117ms\n",
      "870:\tlearn: 0.0703956\ttotal: 785ms\tremaining: 116ms\n",
      "871:\tlearn: 0.0702794\ttotal: 785ms\tremaining: 115ms\n",
      "872:\tlearn: 0.0701113\ttotal: 786ms\tremaining: 114ms\n",
      "873:\tlearn: 0.0699781\ttotal: 787ms\tremaining: 113ms\n",
      "874:\tlearn: 0.0698542\ttotal: 788ms\tremaining: 113ms\n",
      "875:\tlearn: 0.0697350\ttotal: 789ms\tremaining: 112ms\n",
      "876:\tlearn: 0.0696468\ttotal: 790ms\tremaining: 111ms\n",
      "877:\tlearn: 0.0695695\ttotal: 791ms\tremaining: 110ms\n",
      "878:\tlearn: 0.0694488\ttotal: 791ms\tremaining: 109ms\n",
      "879:\tlearn: 0.0693541\ttotal: 792ms\tremaining: 108ms\n",
      "880:\tlearn: 0.0693090\ttotal: 793ms\tremaining: 107ms\n",
      "881:\tlearn: 0.0692337\ttotal: 794ms\tremaining: 106ms\n",
      "882:\tlearn: 0.0690750\ttotal: 795ms\tremaining: 105ms\n",
      "883:\tlearn: 0.0690245\ttotal: 796ms\tremaining: 104ms\n",
      "884:\tlearn: 0.0690103\ttotal: 797ms\tremaining: 104ms\n",
      "885:\tlearn: 0.0688972\ttotal: 798ms\tremaining: 103ms\n",
      "886:\tlearn: 0.0688840\ttotal: 798ms\tremaining: 102ms\n",
      "887:\tlearn: 0.0688675\ttotal: 799ms\tremaining: 101ms\n",
      "888:\tlearn: 0.0688415\ttotal: 800ms\tremaining: 99.9ms\n",
      "889:\tlearn: 0.0687825\ttotal: 801ms\tremaining: 99ms\n",
      "890:\tlearn: 0.0686883\ttotal: 802ms\tremaining: 98.1ms\n",
      "891:\tlearn: 0.0686050\ttotal: 802ms\tremaining: 97.2ms\n",
      "892:\tlearn: 0.0685128\ttotal: 803ms\tremaining: 96.2ms\n",
      "893:\tlearn: 0.0684241\ttotal: 804ms\tremaining: 95.3ms\n",
      "894:\tlearn: 0.0683435\ttotal: 805ms\tremaining: 94.5ms\n",
      "895:\tlearn: 0.0682199\ttotal: 806ms\tremaining: 93.6ms\n",
      "896:\tlearn: 0.0681472\ttotal: 807ms\tremaining: 92.7ms\n",
      "897:\tlearn: 0.0680400\ttotal: 808ms\tremaining: 91.8ms\n",
      "898:\tlearn: 0.0679241\ttotal: 809ms\tremaining: 90.9ms\n",
      "899:\tlearn: 0.0678676\ttotal: 810ms\tremaining: 90ms\n",
      "900:\tlearn: 0.0678368\ttotal: 810ms\tremaining: 89ms\n",
      "901:\tlearn: 0.0677189\ttotal: 811ms\tremaining: 88.1ms\n",
      "902:\tlearn: 0.0676696\ttotal: 812ms\tremaining: 87.2ms\n",
      "903:\tlearn: 0.0675895\ttotal: 813ms\tremaining: 86.3ms\n",
      "904:\tlearn: 0.0675356\ttotal: 814ms\tremaining: 85.4ms\n",
      "905:\tlearn: 0.0674661\ttotal: 815ms\tremaining: 84.5ms\n",
      "906:\tlearn: 0.0673039\ttotal: 815ms\tremaining: 83.6ms\n",
      "907:\tlearn: 0.0672264\ttotal: 816ms\tremaining: 82.7ms\n",
      "908:\tlearn: 0.0671432\ttotal: 817ms\tremaining: 81.8ms\n",
      "909:\tlearn: 0.0670194\ttotal: 818ms\tremaining: 80.9ms\n",
      "910:\tlearn: 0.0669840\ttotal: 819ms\tremaining: 80ms\n",
      "911:\tlearn: 0.0669439\ttotal: 819ms\tremaining: 79.1ms\n",
      "912:\tlearn: 0.0668608\ttotal: 820ms\tremaining: 78.2ms\n",
      "913:\tlearn: 0.0667808\ttotal: 821ms\tremaining: 77.2ms\n",
      "914:\tlearn: 0.0667167\ttotal: 822ms\tremaining: 76.3ms\n",
      "915:\tlearn: 0.0665315\ttotal: 823ms\tremaining: 75.4ms\n",
      "916:\tlearn: 0.0664031\ttotal: 823ms\tremaining: 74.5ms\n",
      "917:\tlearn: 0.0663413\ttotal: 824ms\tremaining: 73.6ms\n",
      "918:\tlearn: 0.0662562\ttotal: 825ms\tremaining: 72.7ms\n",
      "919:\tlearn: 0.0661887\ttotal: 826ms\tremaining: 71.8ms\n",
      "920:\tlearn: 0.0661257\ttotal: 827ms\tremaining: 70.9ms\n",
      "921:\tlearn: 0.0660190\ttotal: 827ms\tremaining: 70ms\n",
      "922:\tlearn: 0.0659913\ttotal: 828ms\tremaining: 69.1ms\n",
      "923:\tlearn: 0.0658380\ttotal: 829ms\tremaining: 68.2ms\n",
      "924:\tlearn: 0.0657992\ttotal: 830ms\tremaining: 67.3ms\n",
      "925:\tlearn: 0.0657507\ttotal: 831ms\tremaining: 66.4ms\n",
      "926:\tlearn: 0.0656962\ttotal: 832ms\tremaining: 65.5ms\n",
      "927:\tlearn: 0.0656028\ttotal: 832ms\tremaining: 64.6ms\n",
      "928:\tlearn: 0.0655605\ttotal: 833ms\tremaining: 63.7ms\n",
      "929:\tlearn: 0.0654356\ttotal: 834ms\tremaining: 62.8ms\n",
      "930:\tlearn: 0.0653215\ttotal: 835ms\tremaining: 61.9ms\n",
      "931:\tlearn: 0.0652541\ttotal: 836ms\tremaining: 61ms\n",
      "932:\tlearn: 0.0651255\ttotal: 837ms\tremaining: 60.1ms\n",
      "933:\tlearn: 0.0651148\ttotal: 837ms\tremaining: 59.2ms\n",
      "934:\tlearn: 0.0650137\ttotal: 838ms\tremaining: 58.3ms\n",
      "935:\tlearn: 0.0649678\ttotal: 839ms\tremaining: 57.4ms\n",
      "936:\tlearn: 0.0648089\ttotal: 840ms\tremaining: 56.5ms\n",
      "937:\tlearn: 0.0646939\ttotal: 841ms\tremaining: 55.6ms\n",
      "938:\tlearn: 0.0645351\ttotal: 842ms\tremaining: 54.7ms\n",
      "939:\tlearn: 0.0644657\ttotal: 843ms\tremaining: 53.8ms\n",
      "940:\tlearn: 0.0643992\ttotal: 843ms\tremaining: 52.9ms\n",
      "941:\tlearn: 0.0643828\ttotal: 844ms\tremaining: 52ms\n",
      "942:\tlearn: 0.0642698\ttotal: 845ms\tremaining: 51.1ms\n",
      "943:\tlearn: 0.0641527\ttotal: 846ms\tremaining: 50.2ms\n",
      "944:\tlearn: 0.0640462\ttotal: 847ms\tremaining: 49.3ms\n",
      "945:\tlearn: 0.0639603\ttotal: 848ms\tremaining: 48.4ms\n",
      "946:\tlearn: 0.0638257\ttotal: 849ms\tremaining: 47.5ms\n",
      "947:\tlearn: 0.0637305\ttotal: 850ms\tremaining: 46.6ms\n",
      "948:\tlearn: 0.0636050\ttotal: 850ms\tremaining: 45.7ms\n",
      "949:\tlearn: 0.0635387\ttotal: 851ms\tremaining: 44.8ms\n",
      "950:\tlearn: 0.0634873\ttotal: 852ms\tremaining: 43.9ms\n",
      "951:\tlearn: 0.0634004\ttotal: 853ms\tremaining: 43ms\n",
      "952:\tlearn: 0.0633182\ttotal: 853ms\tremaining: 42.1ms\n",
      "953:\tlearn: 0.0631889\ttotal: 854ms\tremaining: 41.2ms\n",
      "954:\tlearn: 0.0630435\ttotal: 855ms\tremaining: 40.3ms\n",
      "955:\tlearn: 0.0630353\ttotal: 856ms\tremaining: 39.4ms\n",
      "956:\tlearn: 0.0629300\ttotal: 857ms\tremaining: 38.5ms\n",
      "957:\tlearn: 0.0628029\ttotal: 858ms\tremaining: 37.6ms\n",
      "958:\tlearn: 0.0627320\ttotal: 858ms\tremaining: 36.7ms\n",
      "959:\tlearn: 0.0626715\ttotal: 859ms\tremaining: 35.8ms\n",
      "960:\tlearn: 0.0626064\ttotal: 860ms\tremaining: 34.9ms\n",
      "961:\tlearn: 0.0625497\ttotal: 861ms\tremaining: 34ms\n",
      "962:\tlearn: 0.0624836\ttotal: 862ms\tremaining: 33.1ms\n",
      "963:\tlearn: 0.0623926\ttotal: 863ms\tremaining: 32.2ms\n",
      "964:\tlearn: 0.0623386\ttotal: 863ms\tremaining: 31.3ms\n",
      "965:\tlearn: 0.0622145\ttotal: 864ms\tremaining: 30.4ms\n",
      "966:\tlearn: 0.0621183\ttotal: 865ms\tremaining: 29.5ms\n",
      "967:\tlearn: 0.0620527\ttotal: 866ms\tremaining: 28.6ms\n",
      "968:\tlearn: 0.0620058\ttotal: 867ms\tremaining: 27.7ms\n"
     ]
    },
    {
     "name": "stdout",
     "output_type": "stream",
     "text": [
      "969:\tlearn: 0.0619936\ttotal: 868ms\tremaining: 26.8ms\n",
      "970:\tlearn: 0.0619319\ttotal: 869ms\tremaining: 25.9ms\n",
      "971:\tlearn: 0.0618901\ttotal: 869ms\tremaining: 25ms\n",
      "972:\tlearn: 0.0618355\ttotal: 870ms\tremaining: 24.1ms\n",
      "973:\tlearn: 0.0617485\ttotal: 871ms\tremaining: 23.2ms\n",
      "974:\tlearn: 0.0616962\ttotal: 872ms\tremaining: 22.4ms\n",
      "975:\tlearn: 0.0616219\ttotal: 873ms\tremaining: 21.5ms\n",
      "976:\tlearn: 0.0615631\ttotal: 873ms\tremaining: 20.6ms\n",
      "977:\tlearn: 0.0614452\ttotal: 874ms\tremaining: 19.7ms\n",
      "978:\tlearn: 0.0613389\ttotal: 875ms\tremaining: 18.8ms\n",
      "979:\tlearn: 0.0612542\ttotal: 876ms\tremaining: 17.9ms\n",
      "980:\tlearn: 0.0611591\ttotal: 877ms\tremaining: 17ms\n",
      "981:\tlearn: 0.0610575\ttotal: 877ms\tremaining: 16.1ms\n",
      "982:\tlearn: 0.0609953\ttotal: 878ms\tremaining: 15.2ms\n",
      "983:\tlearn: 0.0608677\ttotal: 879ms\tremaining: 14.3ms\n",
      "984:\tlearn: 0.0607312\ttotal: 880ms\tremaining: 13.4ms\n",
      "985:\tlearn: 0.0605965\ttotal: 881ms\tremaining: 12.5ms\n",
      "986:\tlearn: 0.0604790\ttotal: 881ms\tremaining: 11.6ms\n",
      "987:\tlearn: 0.0604010\ttotal: 882ms\tremaining: 10.7ms\n",
      "988:\tlearn: 0.0603643\ttotal: 883ms\tremaining: 9.82ms\n",
      "989:\tlearn: 0.0602516\ttotal: 884ms\tremaining: 8.93ms\n",
      "990:\tlearn: 0.0601792\ttotal: 884ms\tremaining: 8.03ms\n",
      "991:\tlearn: 0.0600623\ttotal: 885ms\tremaining: 7.14ms\n",
      "992:\tlearn: 0.0600183\ttotal: 886ms\tremaining: 6.25ms\n",
      "993:\tlearn: 0.0599085\ttotal: 887ms\tremaining: 5.35ms\n",
      "994:\tlearn: 0.0597955\ttotal: 888ms\tremaining: 4.46ms\n",
      "995:\tlearn: 0.0597307\ttotal: 888ms\tremaining: 3.57ms\n",
      "996:\tlearn: 0.0596526\ttotal: 889ms\tremaining: 2.67ms\n",
      "997:\tlearn: 0.0595436\ttotal: 890ms\tremaining: 1.78ms\n",
      "998:\tlearn: 0.0595032\ttotal: 891ms\tremaining: 891us\n",
      "999:\tlearn: 0.0594596\ttotal: 892ms\tremaining: 0us\n"
     ]
    },
    {
     "data": {
      "text/plain": [
       "<catboost.core.CatBoostRegressor at 0x7fa569631700>"
      ]
     },
     "execution_count": 9,
     "metadata": {},
     "output_type": "execute_result"
    }
   ],
   "source": [
    "#Train the Model \n",
    "prior_model = ctb.CatBoostRegressor()\n",
    "prior_model.fit(X_train,Y_train)"
   ]
  },
  {
   "cell_type": "code",
   "execution_count": 10,
   "id": "af65dcda",
   "metadata": {
    "execution": {
     "iopub.execute_input": "2022-06-12T03:14:14.062190Z",
     "iopub.status.busy": "2022-06-12T03:14:14.061798Z",
     "iopub.status.idle": "2022-06-12T03:14:14.069176Z",
     "shell.execute_reply": "2022-06-12T03:14:14.069458Z"
    },
    "id": "af65dcda",
    "papermill": {
     "duration": 0.021639,
     "end_time": "2022-06-12T03:14:14.069577",
     "exception": false,
     "start_time": "2022-06-12T03:14:14.047938",
     "status": "completed"
    },
    "tags": []
   },
   "outputs": [
    {
     "data": {
      "application/scrapbook.scrap.json+json": {
       "data": 0.0676188814564681,
       "encoder": "json",
       "name": "Prior Model MSE",
       "version": 1
      }
     },
     "metadata": {
      "scrapbook": {
       "data": true,
       "display": false,
       "name": "Prior Model MSE"
      }
     },
     "output_type": "display_data"
    },
    {
     "data": {
      "application/scrapbook.scrap.json+json": {
       "data": 1.1479433372247576,
       "encoder": "json",
       "name": "ABC Pre-generator MSE",
       "version": 1
      }
     },
     "metadata": {
      "scrapbook": {
       "data": true,
       "display": false,
       "name": "ABC Pre-generator MSE"
      }
     },
     "output_type": "display_data"
    },
    {
     "data": {
      "application/scrapbook.scrap.json+json": {
       "data": 0.1891109497336113,
       "encoder": "json",
       "name": "Prior Model MSE",
       "version": 1
      }
     },
     "metadata": {
      "scrapbook": {
       "data": true,
       "display": false,
       "name": "Prior Model MSE"
      }
     },
     "output_type": "display_data"
    },
    {
     "data": {
      "application/scrapbook.scrap.json+json": {
       "data": 1.0403063138273194,
       "encoder": "json",
       "name": "ABC Pre-generator MSE",
       "version": 1
      }
     },
     "metadata": {
      "scrapbook": {
       "data": true,
       "display": false,
       "name": "ABC Pre-generator MSE"
      }
     },
     "output_type": "display_data"
    }
   ],
   "source": [
    "y_pred = prior_model.predict(X_test)\n",
    "y_abc = y_pred + np.random.normal(0,variance, y_pred.shape) + bias \n",
    "mse = mean_squared_error(y_pred,Y_test)\n",
    "sb.glue(\"Prior Model MSE\",mse)\n",
    "mse = mean_squared_error(y_abc,Y_test)\n",
    "sb.glue(\"ABC Pre-generator MSE\",mse)\n",
    "mae = mean_absolute_error(y_pred,Y_test)\n",
    "sb.glue(\"Prior Model MSE\",mae)\n",
    "mae = mean_absolute_error(y_abc,Y_test)\n",
    "sb.glue(\"ABC Pre-generator MSE\",mae)"
   ]
  },
  {
   "cell_type": "markdown",
   "id": "25609da2",
   "metadata": {
    "papermill": {
     "duration": 0.009813,
     "end_time": "2022-06-12T03:14:14.089566",
     "exception": false,
     "start_time": "2022-06-12T03:14:14.079753",
     "status": "completed"
    },
    "tags": []
   },
   "source": [
    "# ABC GAN Model"
   ]
  },
  {
   "cell_type": "code",
   "execution_count": 11,
   "id": "dfc3464d",
   "metadata": {
    "execution": {
     "iopub.execute_input": "2022-06-12T03:14:14.112411Z",
     "iopub.status.busy": "2022-06-12T03:14:14.112059Z",
     "iopub.status.idle": "2022-06-12T03:14:14.114443Z",
     "shell.execute_reply": "2022-06-12T03:14:14.114690Z"
    },
    "papermill": {
     "duration": 0.015292,
     "end_time": "2022-06-12T03:14:14.114800",
     "exception": false,
     "start_time": "2022-06-12T03:14:14.099508",
     "status": "completed"
    },
    "tags": []
   },
   "outputs": [],
   "source": [
    "gen = network.Generator(n_features+1).to(device)\n",
    "disc = network.Discriminator(n_features+1).to(device)\n",
    "\n",
    "criterion = torch.nn.BCELoss()\n",
    "gen_opt = torch.optim.Adam(gen.parameters(), lr=0.001, betas=(0.5, 0.999))\n",
    "disc_opt = torch.optim.Adam(disc.parameters(), lr=0.001, betas=(0.5, 0.999))"
   ]
  },
  {
   "cell_type": "code",
   "execution_count": 12,
   "id": "b75fdd85",
   "metadata": {
    "execution": {
     "iopub.execute_input": "2022-06-12T03:14:14.137259Z",
     "iopub.status.busy": "2022-06-12T03:14:14.136899Z",
     "iopub.status.idle": "2022-06-12T03:15:14.351168Z",
     "shell.execute_reply": "2022-06-12T03:15:14.351458Z"
    },
    "papermill": {
     "duration": 60.226853,
     "end_time": "2022-06-12T03:15:14.351578",
     "exception": false,
     "start_time": "2022-06-12T03:14:14.124725",
     "status": "completed"
    },
    "tags": []
   },
   "outputs": [
    {
     "data": {
      "image/png": "[encoded data removed]",
      "text/plain": [
       "<Figure size 432x288 with 1 Axes>"
      ]
     },
     "metadata": {
      "needs_background": "light"
     },
     "output_type": "display_data"
    },
    {
     "data": {
      "image/png": "[encoded data removed]",
      "text/plain": [
       "<Figure size 432x288 with 1 Axes>"
      ]
     },
     "metadata": {
      "needs_background": "light"
     },
     "output_type": "display_data"
    }
   ],
   "source": [
    "#Training the ABC_GAN \n",
    "ABC_train_test2.training_GAN(disc,gen,disc_opt,gen_opt,train_data,batch_size,n_epochs,criterion,prior_model,variance,bias,device)"
   ]
  },
  {
   "cell_type": "code",
   "execution_count": 13,
   "id": "1fa7c368",
   "metadata": {
    "execution": {
     "iopub.execute_input": "2022-06-12T03:15:14.376802Z",
     "iopub.status.busy": "2022-06-12T03:15:14.376420Z",
     "iopub.status.idle": "2022-06-12T03:15:14.678927Z",
     "shell.execute_reply": "2022-06-12T03:15:14.679244Z"
    },
    "papermill": {
     "duration": 0.316817,
     "end_time": "2022-06-12T03:15:14.679369",
     "exception": false,
     "start_time": "2022-06-12T03:15:14.362552",
     "status": "completed"
    },
    "tags": []
   },
   "outputs": [
    {
     "data": {
      "application/scrapbook.scrap.json+json": {
       "data": 0.11125352255947521,
       "encoder": "json",
       "name": "ABC-GAN Model 1 MSE",
       "version": 1
      }
     },
     "metadata": {
      "scrapbook": {
       "data": true,
       "display": false,
       "name": "ABC-GAN Model 1 MSE"
      }
     },
     "output_type": "display_data"
    },
    {
     "data": {
      "application/scrapbook.scrap.json+json": {
       "data": 0.20703628611769162,
       "encoder": "json",
       "name": "ABC-GAN Model 1 MAE",
       "version": 1
      }
     },
     "metadata": {
      "scrapbook": {
       "data": true,
       "display": false,
       "name": "ABC-GAN Model 1 MAE"
      }
     },
     "output_type": "display_data"
    },
    {
     "data": {
      "application/scrapbook.scrap.json+json": {
       "data": 21.117701184004545,
       "encoder": "json",
       "name": "ABC-GAN Model 1 Manhattan Distance",
       "version": 1
      }
     },
     "metadata": {
      "scrapbook": {
       "data": true,
       "display": false,
       "name": "ABC-GAN Model 1 Manhattan Distance"
      }
     },
     "output_type": "display_data"
    },
    {
     "data": {
      "application/scrapbook.scrap.json+json": {
       "data": 3.367218415931608,
       "encoder": "json",
       "name": "ABC-GAN Model 1 Euclidean distance",
       "version": 1
      }
     },
     "metadata": {
      "scrapbook": {
       "data": true,
       "display": false,
       "name": "ABC-GAN Model 1 Euclidean distance"
      }
     },
     "output_type": "display_data"
    },
    {
     "data": {
      "application/scrapbook.scrap.json+json": {
       "data": [
        [
         0.10976084926242494,
         0.11358723637752917,
         0.10042267337829251,
         0.11006084236156076,
         0.10831964988174643,
         0.10605481712391843,
         0.10998471899719797,
         0.11961302091343642,
         0.11184458021758005,
         0.11749393339118501,
         0.10858767685984679,
         0.11302201566241363,
         0.10639910865291384,
         0.11347778742327409,
         0.11930591821596145,
         0.11225154196950392,
         0.10415005580181952,
         0.11381630858573594,
         0.11724482407407813,
         0.1175944013360684,
         0.10658367339546923,
         0.1094585917087915,
         0.1165779221689183,
         0.09734356059132127,
         0.1112594041002044,
         0.11438312823703137,
         0.11370143555254557,
         0.11439006239650629,
         0.10559949801986711,
         0.11006010161801995,
         0.10474454632980795,
         0.11368702455325126,
         0.115909513635868,
         0.10636509360645989,
         0.11423403058900221,
         0.1101639294202331,
         0.10847812163964066,
         0.10967184197566904,
         0.09776108047735334,
         0.10793691660815712,
         0.11101264342307174,
         0.1164476707928694,
         0.11445807214485162,
         0.11228064177302007,
         0.10345908321798315,
         0.12858729376413905,
         0.10490834720876001,
         0.12108839341265164,
         0.11477593310231708,
         0.10726766992146675,
         0.11926543269378552,
         0.10872640675360624,
         0.10426076447161028,
         0.10645999733912821,
         0.12122996115081097,
         0.10565648085828575,
         0.1197080348828992,
         0.10914993867718682,
         0.10254077761375618,
         0.10894805141787513,
         0.09157349425165325,
         0.11480654996764368,
         0.10438860778080247,
         0.11276984749817906,
         0.09439076715930624,
         0.11659273651570738,
         0.10514656195492192,
         0.10724205283100707,
         0.11353694812672038,
         0.11876010325245386,
         0.1170416180075737,
         0.11196161722241359,
         0.11247594719997933,
         0.11260331925066597,
         0.1073381007856192,
         0.1163447487172637,
         0.11309972246349845,
         0.12476306954132063,
         0.11036391498050051,
         0.09606312995313204,
         0.11668079513215283,
         0.11523092617378573,
         0.10418830340338171,
         0.11840377124671289,
         0.10675767077904318,
         0.10585669104247006,
         0.12030711617381282,
         0.10472836544775922,
         0.1084117355100948,
         0.11010601219508592,
         0.11505328397681186,
         0.11852994213211435,
         0.11143415804073953,
         0.12019858515864963,
         0.11537208372353791,
         0.11013934550104883,
         0.12353069852768463,
         0.1079100086087799,
         0.11571560009263501,
         0.11400127389017733
        ],
        [
         0.1978887156126838,
         0.2113130000036429,
         0.19474231249050183,
         0.20615549350851306,
         0.20658663117929416,
         0.20214212158073983,
         0.20797613944273954,
         0.2123252525012575,
         0.20374866251778953,
         0.2154151352998965,
         0.2000529564296206,
         0.209470497279921,
         0.2064240114836424,
         0.20493538511515247,
         0.21707805525511503,
         0.20244353372311474,
         0.19939308640930584,
         0.2034611085283698,
         0.21178482723075384,
         0.21044201807429394,
         0.20448068859895654,
         0.21563009846517267,
         0.20886983461312802,
         0.20009691609690586,
         0.20735346085811948,
         0.21017635538808854,
         0.2091926021282287,
         0.20513565445720566,
         0.1978674320796249,
         0.20894612662275047,
         0.2055801218010339,
         0.21161847300462278,
         0.20987951987441264,
         0.20232289030636644,
         0.209643714148186,
         0.20798240260531506,
         0.2082747554990883,
         0.21791063769556143,
         0.19735079421205262,
         0.20903043377706232,
         0.2087402112745479,
         0.2148752858058787,
         0.20485186293794244,
         0.21056897085452198,
         0.2010673262434555,
         0.22119246286285274,
         0.20524233216237203,
         0.2129952161591135,
         0.21130602764805742,
         0.2014895912588519,
         0.2167948721999339,
         0.207328338413408,
         0.1952856735088954,
         0.20487665963888751,
         0.21175458112402873,
         0.20079289495433664,
         0.21245805197851916,
         0.20040657756594465,
         0.21137178292972783,
         0.20538615232662244,
         0.1934695280175291,
         0.20216176865220653,
         0.19909169022724324,
         0.21006485343198567,
         0.19372138448570872,
         0.21118282550471087,
         0.20042931772403272,
         0.20197613634096057,
         0.20860514802602576,
         0.20520247484319934,
         0.21234978174827263,
         0.20689806548476802,
         0.20783766171000168,
         0.21240684636594617,
         0.20329275897101445,
         0.20148080384687467,
         0.2129080979810918,
         0.22219066126454695,
         0.20768584130222306,
         0.1970592866669975,
         0.21487463413573363,
         0.20919692930856756,
         0.2037005032430969,
         0.21764472165309331,
         0.20519678325702748,
         0.19537898626032413,
         0.21171698527520194,
         0.20275631676628894,
         0.2100029972144494,
         0.20376890161823408,
         0.2064924159580294,
         0.20791520282407017,
         0.21199395772361873,
         0.2103572749514498,
         0.2086709913268101,
         0.20987655724599666,
         0.21456206387237592,
         0.2038260115237505,
         0.21082579419382064,
         0.20494892307575427
        ],
        [
         20.18464899249375,
         21.553926000371575,
         19.863715874031186,
         21.027860337868333,
         21.071836380288005,
         20.61849640123546,
         21.213566223159432,
         21.657175755128264,
         20.782363576814532,
         21.972343800589442,
         20.4054015558213,
         21.365990722551942,
         21.055249171331525,
         20.903409281745553,
         22.141961636021733,
         20.649240439757705,
         20.338094813749194,
         20.753033069893718,
         21.602052377536893,
         21.46508584357798,
         20.857030237093568,
         21.994270043447614,
         21.30472313053906,
         20.4098854418844,
         21.150053007528186,
         21.437988249585032,
         21.33764541707933,
         20.923836754634976,
         20.18247807212174,
         21.31250491552055,
         20.96917242370546,
         21.585084246471524,
         21.40771102719009,
         20.636934811249375,
         21.383658843114972,
         21.214205065742135,
         21.244025060907006,
         22.226885044947267,
         20.12978100962937,
         21.321104245260358,
         21.291501550003886,
         21.917279152199626,
         20.89489001967013,
         21.47803502716124,
         20.50886727683246,
         22.56163121201098,
         20.934717880561948,
         21.725512048229575,
         21.553214820101857,
         20.551938308402896,
         22.113076964393258,
         21.147490518167615,
         19.91913869790733,
         20.897419283166528,
         21.59896727465093,
         20.480875285342336,
         21.670721301808953,
         20.441470911726356,
         21.55992185883224,
         20.949387537315488,
         19.733891857787967,
         20.620500402525067,
         20.30735240317881,
         21.426615050062537,
         19.75958121754229,
         21.540648201480508,
         20.44379040785134,
         20.601565906777978,
         21.277725098654628,
         20.930652434006333,
         21.659677738323808,
         21.10360267944634,
         21.19944149442017,
         21.66549832932651,
         20.735861415043473,
         20.551041992381215,
         21.716625994071364,
         22.66344744898379,
         21.183955812826753,
         20.100047240033746,
         21.91721268184483,
         21.33808678947389,
         20.777451330795884,
         22.199761608615518,
         20.9300718922168,
         19.92865659855306,
         21.595132498070598,
         20.68114431016147,
         21.420305715873837,
         20.784427965059876,
         21.062226427718997,
         21.207350688055158,
         21.62338368780911,
         21.45644204504788,
         21.28444111533463,
         21.40740883909166,
         21.885330514982343,
         20.79025317542255,
         21.504231007769704,
         20.904790153726935
        ],
        [
         3.345983655783056,
         3.4038064149578147,
         3.2004863200122937,
         3.3505530768634593,
         3.3239440861630234,
         3.2890106942118136,
         3.3493941747298415,
         3.4929254405398518,
         3.3775948813013623,
         3.461846502359812,
         3.328053941826119,
         3.3953270236556277,
         3.294345015719697,
         3.402166121337104,
         3.4884385701955622,
         3.383734221372801,
         3.2593412972233495,
         3.4072369268580465,
         3.4581746710592816,
         3.4633262820991866,
         3.2972010382046557,
         3.3413734233540455,
         3.4483253995569605,
         3.1510384288857485,
         3.368747425708975,
         3.4157106259426016,
         3.4055170571235798,
         3.4158141583586827,
         3.2819428389334333,
         3.350541801714767,
         3.268630252206635,
         3.40530123549028,
         3.438425568608187,
         3.2938183841643283,
         3.413483721958876,
         3.352121835623487,
         3.3263746642919445,
         3.3446267178144464,
         3.157788816353943,
         3.31806652947647,
         3.3650096031294345,
         3.44639847099442,
         3.416829430740561,
         3.3841727882671777,
         3.2485114265205035,
         3.6215885967268804,
         3.271185016976802,
         3.514401247451756,
         3.421570571599589,
         3.3077639474408698,
         3.4878466329192457,
         3.3301791977111135,
         3.2610731325905964,
         3.2952875031764792,
         3.516455038441799,
         3.2828282086556317,
         3.4943124585611574,
         3.3366590693496176,
         3.234062355088895,
         3.3335718448269955,
         3.056222572665255,
         3.422026898886047,
         3.263071864614975,
         3.3915371802199465,
         3.102879026041659,
         3.448544493638171,
         3.274896841032101,
         3.3073689526212093,
         3.4030528513270952,
         3.480449759980783,
         3.4551765565268178,
         3.3793616196977476,
         3.3871147920313964,
         3.389032098338392,
         3.308849691378132,
         3.444875087599098,
         3.396494029330368,
         3.567328565357374,
         3.355163085158611,
         3.1302458777577633,
         3.4498465333228356,
         3.428345733692293,
         3.259939715262375,
         3.4752244052959678,
         3.299891273885005,
         3.28593707887597,
         3.5030452251903483,
         3.2683777743203795,
         3.325356675911573,
         3.351240552974191,
         3.4257021127988945,
         3.47707550931464,
         3.3713920152001644,
         3.501464791509727,
         3.430444947787512,
         3.351747789006055,
         3.549666357536132,
         3.317652917062837,
         3.435548167243296,
         3.410004389557011
        ]
       ],
       "encoder": "json",
       "name": "ABC_GAN_1 Metrics",
       "version": 1
      }
     },
     "metadata": {
      "scrapbook": {
       "data": true,
       "display": false,
       "name": "ABC_GAN_1 Metrics"
      }
     },
     "output_type": "display_data"
    },
    {
     "name": "stdout",
     "output_type": "stream",
     "text": [
      "MSE\n",
      "0.11125352255947521\n"
     ]
    }
   ],
   "source": [
    "ABC_GAN1_metrics=ABC_train_test2.test_generator(gen,test_data,prior_model,variance,bias,\"1\",device)\n",
    "sb.glue(\"ABC_GAN_1 Metrics\",ABC_GAN1_metrics)\n",
    "\n",
    "print(\"MSE\")\n",
    "print(mean(ABC_GAN1_metrics[0]))"
   ]
  },
  {
   "cell_type": "code",
   "execution_count": 14,
   "id": "eb22ce5c",
   "metadata": {
    "execution": {
     "iopub.execute_input": "2022-06-12T03:15:14.707697Z",
     "iopub.status.busy": "2022-06-12T03:15:14.707329Z",
     "iopub.status.idle": "2022-06-12T03:15:15.028135Z",
     "shell.execute_reply": "2022-06-12T03:15:15.028426Z"
    },
    "papermill": {
     "duration": 0.336435,
     "end_time": "2022-06-12T03:15:15.028547",
     "exception": false,
     "start_time": "2022-06-12T03:15:14.692112",
     "status": "completed"
    },
    "tags": []
   },
   "outputs": [
    {
     "data": {
      "image/png": "[encoded data removed]",
      "text/plain": [
       "<Figure size 432x288 with 1 Axes>"
      ]
     },
     "metadata": {
      "needs_background": "light"
     },
     "output_type": "display_data"
    },
    {
     "data": {
      "image/png": "[encoded data removed]",
      "text/plain": [
       "<Figure size 432x288 with 1 Axes>"
      ]
     },
     "metadata": {
      "needs_background": "light"
     },
     "output_type": "display_data"
    },
    {
     "data": {
      "image/png": "[encoded data removed]",
      "text/plain": [
       "<Figure size 432x288 with 1 Axes>"
      ]
     },
     "metadata": {
      "needs_background": "light"
     },
     "output_type": "display_data"
    },
    {
     "data": {
      "image/png": "[encoded data removed]",
      "text/plain": [
       "<Figure size 432x288 with 1 Axes>"
      ]
     },
     "metadata": {
      "needs_background": "light"
     },
     "output_type": "display_data"
    }
   ],
   "source": [
    "sanityChecks.discProbVsError(train_data,disc,device)\n",
    "sanityChecks.discProbVsError(test_data,disc,device)"
   ]
  },
  {
   "cell_type": "markdown",
   "id": "130f3a4d",
   "metadata": {
    "id": "130f3a4d",
    "papermill": {
     "duration": 0.014445,
     "end_time": "2022-06-12T03:15:15.057976",
     "exception": false,
     "start_time": "2022-06-12T03:15:15.043531",
     "status": "completed"
    },
    "tags": []
   },
   "source": [
    "# ABC - GAN Model with skip connection"
   ]
  },
  {
   "cell_type": "code",
   "execution_count": 15,
   "id": "4e43dad1",
   "metadata": {
    "execution": {
     "iopub.execute_input": "2022-06-12T03:15:15.091137Z",
     "iopub.status.busy": "2022-06-12T03:15:15.090740Z",
     "iopub.status.idle": "2022-06-12T03:15:15.093024Z",
     "shell.execute_reply": "2022-06-12T03:15:15.093280Z"
    },
    "id": "4e43dad1",
    "papermill": {
     "duration": 0.020814,
     "end_time": "2022-06-12T03:15:15.093405",
     "exception": false,
     "start_time": "2022-06-12T03:15:15.072591",
     "status": "completed"
    },
    "tags": []
   },
   "outputs": [],
   "source": [
    "#Generator\n",
    "gen3 = network.GeneratorWithSkipConnection(n_features+1).to(device)\n",
    "constraints=network.weightConstraint()\n",
    "#Discriminator \n",
    "disc3 = network.Discriminator(n_features+1).to(device)\n",
    "\n",
    "criterion = torch.nn.BCELoss()\n",
    "gen_opt = torch.optim.Adam(gen3.parameters(), lr=0.001, betas=(0.5, 0.999))\n",
    "disc_opt = torch.optim.Adam(disc3.parameters(), lr=0.001, betas=(0.5, 0.999))\n"
   ]
  },
  {
   "cell_type": "code",
   "execution_count": 16,
   "id": "26acbc37",
   "metadata": {
    "execution": {
     "iopub.execute_input": "2022-06-12T03:15:15.126200Z",
     "iopub.status.busy": "2022-06-12T03:15:15.125829Z",
     "iopub.status.idle": "2022-06-12T03:41:24.807570Z",
     "shell.execute_reply": "2022-06-12T03:41:24.807881Z"
    },
    "id": "26acbc37",
    "papermill": {
     "duration": 1569.699252,
     "end_time": "2022-06-12T03:41:24.808003",
     "exception": false,
     "start_time": "2022-06-12T03:15:15.108751",
     "status": "completed"
    },
    "tags": []
   },
   "outputs": [
    {
     "data": {
      "image/png": "[encoded data removed]",
      "text/plain": [
       "<Figure size 432x288 with 1 Axes>"
      ]
     },
     "metadata": {
      "needs_background": "light"
     },
     "output_type": "display_data"
    },
    {
     "data": {
      "image/png": "[encoded data removed]",
      "text/plain": [
       "<Figure size 432x288 with 1 Axes>"
      ]
     },
     "metadata": {
      "needs_background": "light"
     },
     "output_type": "display_data"
    }
   ],
   "source": [
    "ABC_train_test2.training_GAN_skip_connection(disc3,gen3,disc_opt,gen_opt,train_data,batch_size,n_epochs,criterion,prior_model,variance,bias,device)"
   ]
  },
  {
   "cell_type": "code",
   "execution_count": 17,
   "id": "c5e0717b",
   "metadata": {
    "execution": {
     "iopub.execute_input": "2022-06-12T03:41:24.842837Z",
     "iopub.status.busy": "2022-06-12T03:41:24.842453Z",
     "iopub.status.idle": "2022-06-12T03:41:25.657145Z",
     "shell.execute_reply": "2022-06-12T03:41:25.657442Z"
    },
    "id": "c5e0717b",
    "papermill": {
     "duration": 0.833842,
     "end_time": "2022-06-12T03:41:25.657565",
     "exception": false,
     "start_time": "2022-06-12T03:41:24.823723",
     "status": "completed"
    },
    "tags": []
   },
   "outputs": [
    {
     "data": {
      "application/scrapbook.scrap.json+json": {
       "data": 0.08211759130966811,
       "encoder": "json",
       "name": "ABC-GAN Model 3 MSE",
       "version": 1
      }
     },
     "metadata": {
      "scrapbook": {
       "data": true,
       "display": false,
       "name": "ABC-GAN Model 3 MSE"
      }
     },
     "output_type": "display_data"
    },
    {
     "data": {
      "application/scrapbook.scrap.json+json": {
       "data": 0.1958769573024748,
       "encoder": "json",
       "name": "ABC-GAN Model 3 MAE",
       "version": 1
      }
     },
     "metadata": {
      "scrapbook": {
       "data": true,
       "display": false,
       "name": "ABC-GAN Model 3 MAE"
      }
     },
     "output_type": "display_data"
    },
    {
     "data": {
      "application/scrapbook.scrap.json+json": {
       "data": 19.97944964485243,
       "encoder": "json",
       "name": "ABC-GAN Model 3 Manhattan Distance",
       "version": 1
      }
     },
     "metadata": {
      "scrapbook": {
       "data": true,
       "display": false,
       "name": "ABC-GAN Model 3 Manhattan Distance"
      }
     },
     "output_type": "display_data"
    },
    {
     "data": {
      "application/scrapbook.scrap.json+json": {
       "data": 2.892924861118173,
       "encoder": "json",
       "name": "ABC-GAN Model 3 Euclidean distance",
       "version": 1
      }
     },
     "metadata": {
      "scrapbook": {
       "data": true,
       "display": false,
       "name": "ABC-GAN Model 3 Euclidean distance"
      }
     },
     "output_type": "display_data"
    },
    {
     "data": {
      "application/scrapbook.scrap.json+json": {
       "data": [
        [
         0.08702836709959694,
         0.08808230390255822,
         0.08698275864723046,
         0.08310966969662935,
         0.09250737828162402,
         0.07723033942526669,
         0.08257605176742426,
         0.0793262123753863,
         0.08727241519818071,
         0.07154793351831225,
         0.08447447912994717,
         0.08438135534900258,
         0.07598764689041057,
         0.08137313784308574,
         0.08307978272933825,
         0.08945517845591208,
         0.07261762562266075,
         0.07909244621962341,
         0.07940984231672459,
         0.0843556173772123,
         0.08118211084813821,
         0.08497568385048838,
         0.07965997173778495,
         0.08107516249059277,
         0.07673252740870548,
         0.07792674457212141,
         0.07509170269078105,
         0.08352204715159726,
         0.08345367581292543,
         0.08290773942208803,
         0.08267898493029621,
         0.0787464024962194,
         0.0807577799575061,
         0.07799215297988824,
         0.08626459142349456,
         0.08408078460243727,
         0.08203517609616678,
         0.08707968862041954,
         0.08680264494943957,
         0.0776155570034827,
         0.0890154454940257,
         0.08873436032330793,
         0.08475533000945888,
         0.09237356304376414,
         0.0809123851174711,
         0.0749783623082333,
         0.08407795267018355,
         0.08165821175791636,
         0.08313197577857805,
         0.0869083978039484,
         0.08271810091862099,
         0.07988360579240049,
         0.07851427802487047,
         0.07519543705951116,
         0.07513474215818984,
         0.07627936972982573,
         0.08242614970551952,
         0.08010986880980339,
         0.0873658939278482,
         0.08325288370574403,
         0.0857029218457132,
         0.07419009356491596,
         0.08446703573596381,
         0.08505446474029277,
         0.07403496338598037,
         0.08293987185315092,
         0.08354759579599272,
         0.07560805499366498,
         0.08435476476522179,
         0.080533178368773,
         0.07801836255240768,
         0.08053971921624857,
         0.08929872582677331,
         0.08147373765247526,
         0.07927368813559887,
         0.08156394682786022,
         0.0791205559588905,
         0.08071133497475706,
         0.08905905807602477,
         0.08130470473431957,
         0.07303588883134907,
         0.07009370732731803,
         0.09223074101523761,
         0.0868545935354631,
         0.08502614525216724,
         0.0826839549226912,
         0.07792374374191019,
         0.09123332747986444,
         0.08093862136204717,
         0.08529581727873223,
         0.08166545095242211,
         0.07759070410088441,
         0.08861133128935379,
         0.08313759980815329,
         0.08169690165454004,
         0.08840655283547343,
         0.07874071775786756,
         0.0797984240081971,
         0.08184173013047016,
         0.08625841364772237
        ],
        [
         0.19622621387608497,
         0.20203103660149316,
         0.20129317229650184,
         0.19198836015500859,
         0.2113152494946239,
         0.19663326860423766,
         0.19623118545860052,
         0.1982502442985481,
         0.19456827795753875,
         0.18229514617911158,
         0.20092171366673475,
         0.19809514158131444,
         0.19253918150549426,
         0.20084151225712368,
         0.1927386260244484,
         0.20559326020598995,
         0.18230119849756068,
         0.1942578764705389,
         0.19474743315767423,
         0.19714823973310344,
         0.18623594594571521,
         0.1877974895760417,
         0.19955749146859436,
         0.18984309125545562,
         0.190082273811248,
         0.19585562637988843,
         0.18752129385065214,
         0.19457742580961362,
         0.1985760137767476,
         0.19590648733006388,
         0.2041866625020025,
         0.19260838403202155,
         0.2002023875749871,
         0.19453433471932716,
         0.19764381188753188,
         0.1970624486349669,
         0.1986398180654528,
         0.2035420039741724,
         0.19866035917006872,
         0.19573264855745376,
         0.2041370830516897,
         0.19683461550477088,
         0.19602224276419364,
         0.19847126361713105,
         0.1892503179500208,
         0.18964163427624633,
         0.19937950637483715,
         0.2004881097442087,
         0.20334433170729407,
         0.19609046101058816,
         0.1906833041861069,
         0.1995851270598816,
         0.19513330829567185,
         0.18693345487482993,
         0.19101016203343285,
         0.19173596098142512,
         0.1998916622799109,
         0.1960526599786153,
         0.2024366395621031,
         0.20197806874399676,
         0.2028790033221537,
         0.187897359422755,
         0.1998727283093567,
         0.18985498457343555,
         0.18380934199062632,
         0.19037159694833497,
         0.19233013676735117,
         0.19055856145260966,
         0.20874821316158654,
         0.19056203671018868,
         0.1943407763781793,
         0.19160642659328148,
         0.21038101312211333,
         0.19451713735493376,
         0.20020480952499545,
         0.19553071214799203,
         0.19449713601566412,
         0.18874697096864967,
         0.2081326373907573,
         0.1878571745702157,
         0.18578958264825976,
         0.1851648713334226,
         0.2003040450497293,
         0.195579703915499,
         0.19554214232473396,
         0.19901131219504511,
         0.19422134603647626,
         0.20430987198636227,
         0.18936075250088585,
         0.1955504080865021,
         0.20685844030231237,
         0.19146266574149623,
         0.1971290108802564,
         0.19869149364896266,
         0.19218304678432496,
         0.20439153758115045,
         0.19188473645743787,
         0.1965578145292752,
         0.19542245183359175,
         0.19769948934588363
        ],
        [
         20.015073815360665,
         20.607165733352304,
         20.531903574243188,
         19.582812735810876,
         21.554155448451638,
         20.05659339763224,
         20.015580916777253,
         20.221524918451905,
         19.845964351668954,
         18.59410491026938,
         20.494014794006944,
         20.205704441294074,
         19.638996513560414,
         20.485834250226617,
         19.659339854493737,
         20.970512541010976,
         18.59472224675119,
         19.81430339999497,
         19.864238182082772,
         20.10912045277655,
         18.99606648646295,
         19.155343936756253,
         20.354864129796624,
         19.363995308056474,
         19.388391928747296,
         19.97727389074862,
         19.12717197276652,
         19.84689743258059,
         20.254753405228257,
         19.982461707666516,
         20.827039575204253,
         19.646055171266198,
         20.420643532648683,
         19.84250214137137,
         20.159668812528253,
         20.100369760766625,
         20.261261442676187,
         20.761284405365586,
         20.26335663534701,
         19.964730152860284,
         20.82198247127235,
         20.07713078148663,
         19.99426876194775,
         20.244068888947368,
         19.303532430902123,
         19.343446696177125,
         20.336709650233388,
         20.449787193909287,
         20.741121834143996,
         20.00122702307999,
         19.449697026982903,
         20.357682960107923,
         19.90359744615853,
         19.06721239723265,
         19.48303652741015,
         19.557068020105362,
         20.388949552550912,
         19.99737131781876,
         20.648537235334516,
         20.60176301188767,
         20.693658338859677,
         19.16553066112101,
         20.387018287554383,
         19.365208426490426,
         18.748552883043885,
         19.41790288873017,
         19.61767395026982,
         19.436973268166184,
         21.292317742481828,
         19.437327744439244,
         19.82275919057429,
         19.54385551251471,
         21.458863338455558,
         19.840748010203242,
         20.420890571549535,
         19.944132639095187,
         19.83870787359774,
         19.252191038802266,
         21.229529013857245,
         19.161431806162,
         18.950537430122495,
         18.886816876009107,
         20.43101259507239,
         19.9491297993809,
         19.945298517122865,
         20.2991538438946,
         19.810577295720577,
         20.839606942608953,
         19.314796755090356,
         19.946141624823213,
         21.099560910835862,
         19.529191905632615,
         20.107159109786153,
         20.26653235219419,
         19.602670772001147,
         20.847936833277345,
         19.572243118658662,
         20.04889708198607,
         19.933090087026358,
         20.16534791328013
        ],
        [
         2.979411593613559,
         2.9973980379757603,
         2.978630789812243,
         2.91156080291245,
         3.0717670134184405,
         2.806687481957548,
         2.9021986975872744,
         2.8445164197609056,
         2.9835861559898738,
         2.7014605714072246,
         2.935369971784581,
         2.9337515650781105,
         2.7840150830808867,
         2.8809824817229877,
         2.9110372444186456,
         3.020666847320809,
         2.721580021515332,
         2.840322079342691,
         2.8460154455494275,
         2.9333041050112163,
         2.877598878667786,
         2.9440651746776623,
         2.8504941882512345,
         2.8757027965421704,
         2.797627172388765,
         2.819313382076633,
         2.7675537347014,
         2.918775224210134,
         2.9175803215881464,
         2.9080215647503334,
         2.9040069667427124,
         2.8341018073834925,
         2.870068562885845,
         2.8204963399991496,
         2.966308872183819,
         2.9285218164542672,
         2.892678337079498,
         2.9802899589272847,
         2.9755452920167142,
         2.813678520079228,
         3.0132333863128857,
         3.008472162573123,
         2.940245510321341,
         3.0695444988571086,
         2.8728145227254145,
         2.7654643290846828,
         2.9284724981393833,
         2.886024532000286,
         2.9119514984654122,
         2.9773573141298875,
         2.9046938382038374,
         2.8544925627552176,
         2.8299216170305472,
         2.7694646739162674,
         2.7683467449247323,
         2.7893539955413016,
         2.8995632895253367,
         2.8585322490047136,
         2.9851836092007,
         2.914068313884541,
         2.9566362691854313,
         2.7508888642803124,
         2.9352406451717563,
         2.945429578772825,
         2.748011329192439,
         2.90858503898741,
         2.919221603645612,
         2.777052683935583,
         2.9332892810039413,
         2.866074701331918,
         2.8209702196842814,
         2.86619108924324,
         3.0180241937948207,
         2.882762779097939,
         2.8435745444477245,
         2.884358260764731,
         2.840826764835693,
         2.8692431349443392,
         3.0139714537059774,
         2.8797708038836345,
         2.729406649951158,
         2.6738657683934766,
         3.067170615331699,
         2.9764355428292473,
         2.9449391871006534,
         2.9040942481459693,
         2.819259098003381,
         3.0505408377771595,
         2.873280247196366,
         2.9496056282884138,
         2.8861524556313816,
         2.8132280068082305,
         3.0063858354366437,
         2.912049996210854,
         2.8867081544144853,
         3.002909986865788,
         2.8339995079926332,
         2.8529702502543035,
         2.8892657325535076,
         2.9662026552593606
        ]
       ],
       "encoder": "json",
       "name": "ABC_GAN_3 Metrics",
       "version": 1
      }
     },
     "metadata": {
      "scrapbook": {
       "data": true,
       "display": false,
       "name": "ABC_GAN_3 Metrics"
      }
     },
     "output_type": "display_data"
    },
    {
     "name": "stdout",
     "output_type": "stream",
     "text": [
      "MSE\n",
      "0.08211759130966811\n"
     ]
    }
   ],
   "source": [
    "ABC_GAN3_metrics=ABC_train_test2.test_generator(gen3,test_data,prior_model,variance,bias,\"3\",device)\n",
    "sb.glue(\"ABC_GAN_3 Metrics\",ABC_GAN3_metrics)\n",
    "\n",
    "print(\"MSE\")\n",
    "print(mean(ABC_GAN3_metrics[0]))"
   ]
  },
  {
   "cell_type": "code",
   "execution_count": 18,
   "id": "c8e46b48",
   "metadata": {
    "execution": {
     "iopub.execute_input": "2022-06-12T03:41:25.694846Z",
     "iopub.status.busy": "2022-06-12T03:41:25.694487Z",
     "iopub.status.idle": "2022-06-12T03:41:26.019429Z",
     "shell.execute_reply": "2022-06-12T03:41:26.019670Z"
    },
    "id": "c8e46b48",
    "papermill": {
     "duration": 0.345241,
     "end_time": "2022-06-12T03:41:26.019793",
     "exception": false,
     "start_time": "2022-06-12T03:41:25.674552",
     "status": "completed"
    },
    "tags": []
   },
   "outputs": [
    {
     "data": {
      "image/png": "[encoded data removed]",
      "text/plain": [
       "<Figure size 432x288 with 1 Axes>"
      ]
     },
     "metadata": {
      "needs_background": "light"
     },
     "output_type": "display_data"
    },
    {
     "data": {
      "image/png": "[encoded data removed]",
      "text/plain": [
       "<Figure size 432x288 with 1 Axes>"
      ]
     },
     "metadata": {
      "needs_background": "light"
     },
     "output_type": "display_data"
    },
    {
     "data": {
      "image/png": "[encoded data removed]",
      "text/plain": [
       "<Figure size 432x288 with 1 Axes>"
      ]
     },
     "metadata": {
      "needs_background": "light"
     },
     "output_type": "display_data"
    },
    {
     "data": {
      "image/png": "[encoded data removed]",
      "text/plain": [
       "<Figure size 432x288 with 1 Axes>"
      ]
     },
     "metadata": {
      "needs_background": "light"
     },
     "output_type": "display_data"
    }
   ],
   "source": [
    "sanityChecks.discProbVsError(train_data,disc3,device)\n",
    "sanityChecks.discProbVsError(test_data,disc3,device)"
   ]
  },
  {
   "cell_type": "markdown",
   "id": "a5bd74c3",
   "metadata": {
    "id": "a5bd74c3",
    "papermill": {
     "duration": 0.019448,
     "end_time": "2022-06-12T03:41:26.058764",
     "exception": false,
     "start_time": "2022-06-12T03:41:26.039316",
     "status": "completed"
    },
    "tags": []
   },
   "source": [
    "## Skip Connection Model Analysis - ABC-GAN "
   ]
  },
  {
   "cell_type": "markdown",
   "id": "5744a8bf",
   "metadata": {
    "id": "5744a8bf",
    "papermill": {
     "duration": 0.019039,
     "end_time": "2022-06-12T03:41:26.096930",
     "exception": false,
     "start_time": "2022-06-12T03:41:26.077891",
     "status": "completed"
    },
    "tags": []
   },
   "source": [
    "### Weight Analysis \n",
    "\n",
    "Study the weights of the skip connection layer\n",
    "\n",
    "Equation of the skip connection is \n",
    "\n",
    "$output = y_{gan} * w + y_{abc} * (1-w)$"
   ]
  },
  {
   "cell_type": "code",
   "execution_count": 19,
   "id": "52c31dea",
   "metadata": {
    "execution": {
     "iopub.execute_input": "2022-06-12T03:41:26.138055Z",
     "iopub.status.busy": "2022-06-12T03:41:26.137616Z",
     "iopub.status.idle": "2022-06-12T03:41:26.140979Z",
     "shell.execute_reply": "2022-06-12T03:41:26.141220Z"
    },
    "id": "52c31dea",
    "papermill": {
     "duration": 0.025336,
     "end_time": "2022-06-12T03:41:26.141332",
     "exception": false,
     "start_time": "2022-06-12T03:41:26.115996",
     "status": "completed"
    },
    "tags": []
   },
   "outputs": [
    {
     "name": "stdout",
     "output_type": "stream",
     "text": [
      "Weight of the node at skip connection\n",
      "Parameter containing:\n",
      "tensor([[0.1492]], requires_grad=True)\n"
     ]
    },
    {
     "data": {
      "application/scrapbook.scrap.json+json": {
       "data": 0.1491827517747879,
       "encoder": "json",
       "name": "Skip Connection Weight",
       "version": 1
      }
     },
     "metadata": {
      "scrapbook": {
       "data": true,
       "display": false,
       "name": "Skip Connection Weight"
      }
     },
     "output_type": "display_data"
    }
   ],
   "source": [
    "print(\"Weight of the node at skip connection\")\n",
    "for name,param in gen3.named_parameters():\n",
    "    if(name == \"skipNode.weight\"):\n",
    "        print(param)\n",
    "        sb.glue(\"Skip Connection Weight\",param.item())"
   ]
  }
 ],
 "metadata": {
  "colab": {
   "collapsed_sections": [],
   "name": "ABC_GAN_Model-Catboost_Pre-gen.ipynb",
   "provenance": []
  },
  "interpreter": {
   "hash": "31f2aee4e71d21fbe5cf8b01ff0e069b9275f58929596ceb00d14d90e3e16cd6"
  },
  "kernelspec": {
   "display_name": "Python 3 (ipykernel)",
   "language": "python",
   "name": "python3"
  },
  "language_info": {
   "codemirror_mode": {
    "name": "ipython",
    "version": 3
   },
   "file_extension": ".py",
   "mimetype": "text/x-python",
   "name": "python",
   "nbconvert_exporter": "python",
   "pygments_lexer": "ipython3",
   "version": "3.8.11"
  },
  "papermill": {
   "default_parameters": {},
   "duration": 1636.41509,
   "end_time": "2022-06-12T03:41:26.468646",
   "environment_variables": {},
   "exception": null,
   "input_path": "ABC_GAN-Catboost.ipynb",
   "output_path": "./ABC_GAN_Catboost/ABC-GAN_output_4_1.ipynb",
   "parameters": {
    "bias": 1,
    "variance": 0.1
   },
   "start_time": "2022-06-12T03:14:10.053556",
   "version": "2.3.3"
  }
 },
 "nbformat": 4,
 "nbformat_minor": 5
}