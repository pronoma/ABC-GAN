{
 "cells": [
  {
   "cell_type": "markdown",
   "id": "622780e6",
   "metadata": {
    "id": "622780e6",
    "papermill": {
     "duration": 0.014364,
     "end_time": "2022-06-12T04:30:42.589792",
     "exception": false,
     "start_time": "2022-06-12T04:30:42.575428",
     "status": "completed"
    },
    "tags": []
   },
   "source": [
    "## Import Libraries "
   ]
  },
  {
   "cell_type": "code",
   "execution_count": 1,
   "id": "a62397e3",
   "metadata": {
    "execution": {
     "iopub.execute_input": "2022-06-12T04:30:42.617469Z",
     "iopub.status.busy": "2022-06-12T04:30:42.617034Z",
     "iopub.status.idle": "2022-06-12T04:30:42.619003Z",
     "shell.execute_reply": "2022-06-12T04:30:42.619295Z"
    },
    "id": "a62397e3",
    "papermill": {
     "duration": 0.018416,
     "end_time": "2022-06-12T04:30:42.619500",
     "exception": false,
     "start_time": "2022-06-12T04:30:42.601084",
     "status": "completed"
    },
    "tags": []
   },
   "outputs": [],
   "source": [
    "import warnings\n",
    "import sys\n",
    "sys.path.insert(0, '../../src')\n",
    "warnings.filterwarnings('ignore')"
   ]
  },
  {
   "cell_type": "code",
   "execution_count": 2,
   "id": "d6a4e155",
   "metadata": {
    "execution": {
     "iopub.execute_input": "2022-06-12T04:30:42.638154Z",
     "iopub.status.busy": "2022-06-12T04:30:42.637769Z",
     "iopub.status.idle": "2022-06-12T04:30:44.229632Z",
     "shell.execute_reply": "2022-06-12T04:30:44.229871Z"
    },
    "id": "d6a4e155",
    "papermill": {
     "duration": 1.602154,
     "end_time": "2022-06-12T04:30:44.230000",
     "exception": false,
     "start_time": "2022-06-12T04:30:42.627846",
     "status": "completed"
    },
    "tags": []
   },
   "outputs": [],
   "source": [
    "import ABC_train_test2\n",
    "import bostonDataset\n",
    "import network\n",
    "import dataset\n",
    "import sanityChecks\n",
    "import torch \n",
    "import scrapbook as sb\n",
    "from statistics import mean \n",
    "import catboost as ctb \n",
    "from sklearn.model_selection import train_test_split\n",
    "from sklearn.metrics import mean_squared_error,mean_absolute_error\n",
    "import numpy as np"
   ]
  },
  {
   "cell_type": "markdown",
   "id": "2fa5b0f7",
   "metadata": {
    "id": "2fa5b0f7",
    "papermill": {
     "duration": 0.007476,
     "end_time": "2022-06-12T04:30:44.244636",
     "exception": false,
     "start_time": "2022-06-12T04:30:44.237160",
     "status": "completed"
    },
    "tags": []
   },
   "source": [
    "## Parameters "
   ]
  },
  {
   "cell_type": "code",
   "execution_count": 3,
   "id": "783186fb",
   "metadata": {
    "execution": {
     "iopub.execute_input": "2022-06-12T04:30:44.260639Z",
     "iopub.status.busy": "2022-06-12T04:30:44.260265Z",
     "iopub.status.idle": "2022-06-12T04:30:44.261544Z",
     "shell.execute_reply": "2022-06-12T04:30:44.261804Z"
    },
    "id": "783186fb",
    "papermill": {
     "duration": 0.010458,
     "end_time": "2022-06-12T04:30:44.261916",
     "exception": false,
     "start_time": "2022-06-12T04:30:44.251458",
     "status": "completed"
    },
    "tags": [
     "parameters"
    ]
   },
   "outputs": [],
   "source": [
    "variance = 1\n",
    "bias = 1 "
   ]
  },
  {
   "cell_type": "code",
   "execution_count": 4,
   "id": "fc1274b4",
   "metadata": {
    "execution": {
     "iopub.execute_input": "2022-06-12T04:30:44.277746Z",
     "iopub.status.busy": "2022-06-12T04:30:44.277346Z",
     "iopub.status.idle": "2022-06-12T04:30:44.278697Z",
     "shell.execute_reply": "2022-06-12T04:30:44.278930Z"
    },
    "papermill": {
     "duration": 0.010093,
     "end_time": "2022-06-12T04:30:44.279035",
     "exception": false,
     "start_time": "2022-06-12T04:30:44.268942",
     "status": "completed"
    },
    "tags": [
     "injected-parameters"
    ]
   },
   "outputs": [],
   "source": [
    "# Parameters\n",
    "variance = 1\n",
    "bias = 0.01\n"
   ]
  },
  {
   "cell_type": "markdown",
   "id": "391cdbfd",
   "metadata": {
    "id": "391cdbfd",
    "papermill": {
     "duration": 0.006749,
     "end_time": "2022-06-12T04:30:44.292671",
     "exception": false,
     "start_time": "2022-06-12T04:30:44.285922",
     "status": "completed"
    },
    "tags": []
   },
   "source": [
    "## Dataset \n"
   ]
  },
  {
   "cell_type": "code",
   "execution_count": 5,
   "id": "5b51f161",
   "metadata": {
    "execution": {
     "iopub.execute_input": "2022-06-12T04:30:44.308193Z",
     "iopub.status.busy": "2022-06-12T04:30:44.307825Z",
     "iopub.status.idle": "2022-06-12T04:30:44.309086Z",
     "shell.execute_reply": "2022-06-12T04:30:44.309332Z"
    },
    "id": "5b51f161",
    "papermill": {
     "duration": 0.00992,
     "end_time": "2022-06-12T04:30:44.309440",
     "exception": false,
     "start_time": "2022-06-12T04:30:44.299520",
     "status": "completed"
    },
    "tags": []
   },
   "outputs": [],
   "source": [
    "#Parameters \n",
    "n_features = 13\n",
    "n_samples= 506\n",
    "n_target = 1 "
   ]
  },
  {
   "cell_type": "code",
   "execution_count": 6,
   "id": "5d6eced4",
   "metadata": {
    "execution": {
     "iopub.execute_input": "2022-06-12T04:30:44.325129Z",
     "iopub.status.busy": "2022-06-12T04:30:44.324786Z",
     "iopub.status.idle": "2022-06-12T04:30:44.335174Z",
     "shell.execute_reply": "2022-06-12T04:30:44.335423Z"
    },
    "id": "5d6eced4",
    "papermill": {
     "duration": 0.019177,
     "end_time": "2022-06-12T04:30:44.335536",
     "exception": false,
     "start_time": "2022-06-12T04:30:44.316359",
     "status": "completed"
    },
    "tags": []
   },
   "outputs": [
    {
     "name": "stdout",
     "output_type": "stream",
     "text": [
      "         X1        X2        X3        X4        X5        X6        X7  \\\n",
      "0 -0.419782  0.284830 -1.287909 -0.272599 -0.144217  0.413672 -0.120013   \n",
      "1 -0.417339 -0.487722 -0.593381 -0.272599 -0.740262  0.194274  0.367166   \n",
      "2 -0.417342 -0.487722 -0.593381 -0.272599 -0.740262  1.282714 -0.265812   \n",
      "3 -0.416750 -0.487722 -1.306878 -0.272599 -0.835284  1.016303 -0.809889   \n",
      "4 -0.412482 -0.487722 -1.306878 -0.272599 -0.835284  1.228577 -0.511180   \n",
      "\n",
      "         X8        X9       X10       X11       X12       X13         Y  \n",
      "0  0.140214 -0.982843 -0.666608 -1.459000  0.441052 -1.075562  0.159686  \n",
      "1  0.557160 -0.867883 -0.987329 -0.303094  0.441052 -0.492439 -0.101524  \n",
      "2  0.557160 -0.867883 -0.987329 -0.303094  0.396427 -1.208727  1.324247  \n",
      "3  1.077737 -0.752922 -1.106115  0.113032  0.416163 -1.361517  1.182758  \n",
      "4  1.077737 -0.752922 -1.106115  0.113032  0.441052 -1.026501  1.487503  \n"
     ]
    }
   ],
   "source": [
    "X,Y = bostonDataset.boston_data()"
   ]
  },
  {
   "cell_type": "code",
   "execution_count": 7,
   "id": "fe007438",
   "metadata": {
    "execution": {
     "iopub.execute_input": "2022-06-12T04:30:44.353359Z",
     "iopub.status.busy": "2022-06-12T04:30:44.352995Z",
     "iopub.status.idle": "2022-06-12T04:30:44.354503Z",
     "shell.execute_reply": "2022-06-12T04:30:44.354750Z"
    },
    "id": "fe007438",
    "papermill": {
     "duration": 0.011938,
     "end_time": "2022-06-12T04:30:44.354862",
     "exception": false,
     "start_time": "2022-06-12T04:30:44.342924",
     "status": "completed"
    },
    "tags": []
   },
   "outputs": [],
   "source": [
    "#Train test split for dataset \n",
    "X_train,X_test,Y_train,Y_test = train_test_split(X,Y,test_size = 0.2)\n",
    "train_data = dataset.CustomDataset(X_train,Y_train)\n",
    "test_data = dataset.CustomDataset(X_test,Y_test)\n"
   ]
  },
  {
   "cell_type": "markdown",
   "id": "a9a1af34",
   "metadata": {
    "id": "a9a1af34",
    "papermill": {
     "duration": 0.007129,
     "end_time": "2022-06-12T04:30:44.369364",
     "exception": false,
     "start_time": "2022-06-12T04:30:44.362235",
     "status": "completed"
    },
    "tags": []
   },
   "source": [
    "## Training Parameters "
   ]
  },
  {
   "cell_type": "code",
   "execution_count": 8,
   "id": "952b7fc8",
   "metadata": {
    "execution": {
     "iopub.execute_input": "2022-06-12T04:30:44.386170Z",
     "iopub.status.busy": "2022-06-12T04:30:44.385805Z",
     "iopub.status.idle": "2022-06-12T04:30:44.386930Z",
     "shell.execute_reply": "2022-06-12T04:30:44.387190Z"
    },
    "id": "952b7fc8",
    "papermill": {
     "duration": 0.010838,
     "end_time": "2022-06-12T04:30:44.387296",
     "exception": false,
     "start_time": "2022-06-12T04:30:44.376458",
     "status": "completed"
    },
    "tags": []
   },
   "outputs": [],
   "source": [
    "batch_size = 32\n",
    "n_epochs = 1000\n",
    "#Select the device \n",
    "device = torch.device('cuda' if torch.cuda.is_available() else 'cpu')"
   ]
  },
  {
   "cell_type": "markdown",
   "id": "a95e1600",
   "metadata": {
    "id": "a95e1600",
    "papermill": {
     "duration": 0.007048,
     "end_time": "2022-06-12T04:30:44.401581",
     "exception": false,
     "start_time": "2022-06-12T04:30:44.394533",
     "status": "completed"
    },
    "tags": []
   },
   "source": [
    "# ABC Pre-generator Model \n",
    "\n",
    "1. The catboost model is used as a pre-generator model for the ABC-GAN. \n",
    "2. The model is first trained on the entire dataset \n",
    "3. It generats X,Y pairs and we add some Gaussian noise with mean 0 and variance 1 to it which is then feed as input to the generator.\n"
   ]
  },
  {
   "cell_type": "code",
   "execution_count": 9,
   "id": "ff8ce7bd",
   "metadata": {
    "execution": {
     "iopub.execute_input": "2022-06-12T04:30:44.420452Z",
     "iopub.status.busy": "2022-06-12T04:30:44.420017Z",
     "iopub.status.idle": "2022-06-12T04:30:45.379987Z",
     "shell.execute_reply": "2022-06-12T04:30:45.380290Z"
    },
    "id": "ff8ce7bd",
    "papermill": {
     "duration": 0.97172,
     "end_time": "2022-06-12T04:30:45.380417",
     "exception": false,
     "start_time": "2022-06-12T04:30:44.408697",
     "status": "completed"
    },
    "tags": []
   },
   "outputs": [
    {
     "name": "stdout",
     "output_type": "stream",
     "text": [
      "Learning rate set to 0.033215\n",
      "0:\tlearn: 0.9818689\ttotal: 58.7ms\tremaining: 58.7s\n",
      "1:\tlearn: 0.9631954\ttotal: 59.7ms\tremaining: 29.8s\n",
      "2:\tlearn: 0.9432686\ttotal: 60.9ms\tremaining: 20.2s\n",
      "3:\tlearn: 0.9274262\ttotal: 62.1ms\tremaining: 15.5s\n",
      "4:\tlearn: 0.9125557\ttotal: 63ms\tremaining: 12.5s\n",
      "5:\tlearn: 0.8958844\ttotal: 64.1ms\tremaining: 10.6s\n",
      "6:\tlearn: 0.8790163\ttotal: 65.2ms\tremaining: 9.24s\n",
      "7:\tlearn: 0.8621312\ttotal: 66ms\tremaining: 8.18s\n",
      "8:\tlearn: 0.8470867\ttotal: 66.9ms\tremaining: 7.36s\n",
      "9:\tlearn: 0.8300201\ttotal: 67.8ms\tremaining: 6.71s\n",
      "10:\tlearn: 0.8154960\ttotal: 68.8ms\tremaining: 6.18s\n",
      "11:\tlearn: 0.8017323\ttotal: 69.7ms\tremaining: 5.74s\n",
      "12:\tlearn: 0.7874307\ttotal: 70.5ms\tremaining: 5.35s\n",
      "13:\tlearn: 0.7729903\ttotal: 71.3ms\tremaining: 5.02s\n",
      "14:\tlearn: 0.7603269\ttotal: 72.2ms\tremaining: 4.74s\n",
      "15:\tlearn: 0.7475773\ttotal: 73ms\tremaining: 4.49s\n",
      "16:\tlearn: 0.7346385\ttotal: 73.8ms\tremaining: 4.27s\n",
      "17:\tlearn: 0.7222671\ttotal: 74.7ms\tremaining: 4.08s\n",
      "18:\tlearn: 0.7102111\ttotal: 75.5ms\tremaining: 3.9s\n",
      "19:\tlearn: 0.6995797\ttotal: 76.3ms\tremaining: 3.74s\n",
      "20:\tlearn: 0.6865579\ttotal: 77.1ms\tremaining: 3.59s\n",
      "21:\tlearn: 0.6770017\ttotal: 77.9ms\tremaining: 3.46s\n",
      "22:\tlearn: 0.6670115\ttotal: 78.7ms\tremaining: 3.34s\n",
      "23:\tlearn: 0.6577084\ttotal: 79.4ms\tremaining: 3.23s\n",
      "24:\tlearn: 0.6479862\ttotal: 80.3ms\tremaining: 3.13s\n",
      "25:\tlearn: 0.6405718\ttotal: 81.1ms\tremaining: 3.04s\n",
      "26:\tlearn: 0.6318870\ttotal: 81.9ms\tremaining: 2.95s\n",
      "27:\tlearn: 0.6229083\ttotal: 82.5ms\tremaining: 2.86s\n",
      "28:\tlearn: 0.6143213\ttotal: 83.2ms\tremaining: 2.79s\n",
      "29:\tlearn: 0.6041804\ttotal: 84.1ms\tremaining: 2.72s\n",
      "30:\tlearn: 0.5946989\ttotal: 84.9ms\tremaining: 2.65s\n",
      "31:\tlearn: 0.5857211\ttotal: 85.7ms\tremaining: 2.59s\n",
      "32:\tlearn: 0.5784252\ttotal: 86.6ms\tremaining: 2.54s\n",
      "33:\tlearn: 0.5722117\ttotal: 87.4ms\tremaining: 2.48s\n",
      "34:\tlearn: 0.5644073\ttotal: 88.1ms\tremaining: 2.43s\n",
      "35:\tlearn: 0.5576209\ttotal: 88.9ms\tremaining: 2.38s\n",
      "36:\tlearn: 0.5493099\ttotal: 89.7ms\tremaining: 2.33s\n",
      "37:\tlearn: 0.5424191\ttotal: 90.5ms\tremaining: 2.29s\n",
      "38:\tlearn: 0.5348034\ttotal: 91.3ms\tremaining: 2.25s\n",
      "39:\tlearn: 0.5280790\ttotal: 92.1ms\tremaining: 2.21s\n",
      "40:\tlearn: 0.5213479\ttotal: 92.9ms\tremaining: 2.17s\n",
      "41:\tlearn: 0.5161632\ttotal: 93.6ms\tremaining: 2.13s\n",
      "42:\tlearn: 0.5084067\ttotal: 94.4ms\tremaining: 2.1s\n",
      "43:\tlearn: 0.5012572\ttotal: 95.2ms\tremaining: 2.07s\n",
      "44:\tlearn: 0.4948231\ttotal: 95.9ms\tremaining: 2.03s\n",
      "45:\tlearn: 0.4876017\ttotal: 96.6ms\tremaining: 2s\n",
      "46:\tlearn: 0.4841085\ttotal: 97.2ms\tremaining: 1.97s\n",
      "47:\tlearn: 0.4795552\ttotal: 98ms\tremaining: 1.94s\n",
      "48:\tlearn: 0.4747281\ttotal: 98.7ms\tremaining: 1.92s\n",
      "49:\tlearn: 0.4693850\ttotal: 99.5ms\tremaining: 1.89s\n",
      "50:\tlearn: 0.4641651\ttotal: 100ms\tremaining: 1.86s\n",
      "51:\tlearn: 0.4585512\ttotal: 101ms\tremaining: 1.84s\n",
      "52:\tlearn: 0.4538639\ttotal: 102ms\tremaining: 1.82s\n",
      "53:\tlearn: 0.4499163\ttotal: 103ms\tremaining: 1.8s\n",
      "54:\tlearn: 0.4451964\ttotal: 103ms\tremaining: 1.77s\n",
      "55:\tlearn: 0.4415455\ttotal: 105ms\tremaining: 1.77s\n",
      "56:\tlearn: 0.4377395\ttotal: 106ms\tremaining: 1.75s\n",
      "57:\tlearn: 0.4339112\ttotal: 107ms\tremaining: 1.73s\n"
     ]
    },
    {
     "name": "stdout",
     "output_type": "stream",
     "text": [
      "58:\tlearn: 0.4294292\ttotal: 108ms\tremaining: 1.72s\n",
      "59:\tlearn: 0.4257210\ttotal: 109ms\tremaining: 1.7s\n",
      "60:\tlearn: 0.4214554\ttotal: 109ms\tremaining: 1.68s\n",
      "61:\tlearn: 0.4170459\ttotal: 110ms\tremaining: 1.67s\n",
      "62:\tlearn: 0.4124846\ttotal: 111ms\tremaining: 1.65s\n",
      "63:\tlearn: 0.4094636\ttotal: 112ms\tremaining: 1.63s\n",
      "64:\tlearn: 0.4063870\ttotal: 113ms\tremaining: 1.62s\n",
      "65:\tlearn: 0.4034362\ttotal: 114ms\tremaining: 1.61s\n",
      "66:\tlearn: 0.3995946\ttotal: 115ms\tremaining: 1.6s\n",
      "67:\tlearn: 0.3960523\ttotal: 115ms\tremaining: 1.58s\n",
      "68:\tlearn: 0.3933240\ttotal: 116ms\tremaining: 1.57s\n",
      "69:\tlearn: 0.3901381\ttotal: 117ms\tremaining: 1.55s\n",
      "70:\tlearn: 0.3872187\ttotal: 118ms\tremaining: 1.54s\n",
      "71:\tlearn: 0.3832245\ttotal: 118ms\tremaining: 1.53s\n",
      "72:\tlearn: 0.3807142\ttotal: 119ms\tremaining: 1.51s\n",
      "73:\tlearn: 0.3776039\ttotal: 120ms\tremaining: 1.5s\n",
      "74:\tlearn: 0.3751835\ttotal: 121ms\tremaining: 1.49s\n",
      "75:\tlearn: 0.3723181\ttotal: 122ms\tremaining: 1.48s\n",
      "76:\tlearn: 0.3692407\ttotal: 122ms\tremaining: 1.47s\n",
      "77:\tlearn: 0.3658297\ttotal: 123ms\tremaining: 1.46s\n",
      "78:\tlearn: 0.3633684\ttotal: 124ms\tremaining: 1.45s\n",
      "79:\tlearn: 0.3612965\ttotal: 125ms\tremaining: 1.44s\n",
      "80:\tlearn: 0.3592260\ttotal: 126ms\tremaining: 1.43s\n",
      "81:\tlearn: 0.3568054\ttotal: 126ms\tremaining: 1.42s\n",
      "82:\tlearn: 0.3549914\ttotal: 127ms\tremaining: 1.41s\n",
      "83:\tlearn: 0.3528452\ttotal: 128ms\tremaining: 1.4s\n",
      "84:\tlearn: 0.3501049\ttotal: 129ms\tremaining: 1.39s\n",
      "85:\tlearn: 0.3475651\ttotal: 130ms\tremaining: 1.38s\n",
      "86:\tlearn: 0.3453847\ttotal: 131ms\tremaining: 1.37s\n",
      "87:\tlearn: 0.3428790\ttotal: 132ms\tremaining: 1.37s\n",
      "88:\tlearn: 0.3402428\ttotal: 133ms\tremaining: 1.36s\n",
      "89:\tlearn: 0.3381879\ttotal: 133ms\tremaining: 1.35s\n",
      "90:\tlearn: 0.3361657\ttotal: 134ms\tremaining: 1.34s\n",
      "91:\tlearn: 0.3341754\ttotal: 135ms\tremaining: 1.33s\n",
      "92:\tlearn: 0.3326112\ttotal: 136ms\tremaining: 1.32s\n",
      "93:\tlearn: 0.3308408\ttotal: 137ms\tremaining: 1.32s\n",
      "94:\tlearn: 0.3286822\ttotal: 138ms\tremaining: 1.31s\n",
      "95:\tlearn: 0.3277013\ttotal: 138ms\tremaining: 1.3s\n",
      "96:\tlearn: 0.3263337\ttotal: 139ms\tremaining: 1.29s\n",
      "97:\tlearn: 0.3241543\ttotal: 140ms\tremaining: 1.29s\n",
      "98:\tlearn: 0.3228669\ttotal: 141ms\tremaining: 1.28s\n",
      "99:\tlearn: 0.3210746\ttotal: 142ms\tremaining: 1.27s\n",
      "100:\tlearn: 0.3194536\ttotal: 142ms\tremaining: 1.27s\n",
      "101:\tlearn: 0.3177926\ttotal: 143ms\tremaining: 1.26s\n",
      "102:\tlearn: 0.3162429\ttotal: 144ms\tremaining: 1.25s\n",
      "103:\tlearn: 0.3145916\ttotal: 145ms\tremaining: 1.25s\n",
      "104:\tlearn: 0.3128911\ttotal: 145ms\tremaining: 1.24s\n",
      "105:\tlearn: 0.3113477\ttotal: 146ms\tremaining: 1.23s\n",
      "106:\tlearn: 0.3096882\ttotal: 147ms\tremaining: 1.23s\n",
      "107:\tlearn: 0.3075504\ttotal: 148ms\tremaining: 1.22s\n",
      "108:\tlearn: 0.3059182\ttotal: 149ms\tremaining: 1.22s\n",
      "109:\tlearn: 0.3041693\ttotal: 150ms\tremaining: 1.21s\n",
      "110:\tlearn: 0.3025340\ttotal: 151ms\tremaining: 1.21s\n",
      "111:\tlearn: 0.3008797\ttotal: 151ms\tremaining: 1.2s\n",
      "112:\tlearn: 0.2992374\ttotal: 152ms\tremaining: 1.19s\n",
      "113:\tlearn: 0.2978052\ttotal: 153ms\tremaining: 1.19s\n",
      "114:\tlearn: 0.2965009\ttotal: 154ms\tremaining: 1.19s\n",
      "115:\tlearn: 0.2956433\ttotal: 155ms\tremaining: 1.18s\n",
      "116:\tlearn: 0.2943909\ttotal: 156ms\tremaining: 1.18s\n",
      "117:\tlearn: 0.2929317\ttotal: 157ms\tremaining: 1.17s\n",
      "118:\tlearn: 0.2916414\ttotal: 157ms\tremaining: 1.17s\n",
      "119:\tlearn: 0.2909003\ttotal: 158ms\tremaining: 1.16s\n",
      "120:\tlearn: 0.2894460\ttotal: 159ms\tremaining: 1.16s\n",
      "121:\tlearn: 0.2886848\ttotal: 161ms\tremaining: 1.16s\n",
      "122:\tlearn: 0.2874594\ttotal: 161ms\tremaining: 1.15s\n",
      "123:\tlearn: 0.2861642\ttotal: 162ms\tremaining: 1.15s\n",
      "124:\tlearn: 0.2846740\ttotal: 163ms\tremaining: 1.14s\n",
      "125:\tlearn: 0.2838514\ttotal: 164ms\tremaining: 1.14s\n",
      "126:\tlearn: 0.2822216\ttotal: 165ms\tremaining: 1.13s\n",
      "127:\tlearn: 0.2813842\ttotal: 165ms\tremaining: 1.13s\n",
      "128:\tlearn: 0.2802664\ttotal: 166ms\tremaining: 1.12s\n",
      "129:\tlearn: 0.2792262\ttotal: 167ms\tremaining: 1.12s\n",
      "130:\tlearn: 0.2780848\ttotal: 169ms\tremaining: 1.12s\n",
      "131:\tlearn: 0.2768273\ttotal: 169ms\tremaining: 1.11s\n",
      "132:\tlearn: 0.2759458\ttotal: 170ms\tremaining: 1.11s\n",
      "133:\tlearn: 0.2750455\ttotal: 171ms\tremaining: 1.1s\n",
      "134:\tlearn: 0.2742269\ttotal: 172ms\tremaining: 1.1s\n",
      "135:\tlearn: 0.2733417\ttotal: 173ms\tremaining: 1.1s\n",
      "136:\tlearn: 0.2725341\ttotal: 174ms\tremaining: 1.1s\n",
      "137:\tlearn: 0.2719778\ttotal: 175ms\tremaining: 1.09s\n",
      "138:\tlearn: 0.2707993\ttotal: 176ms\tremaining: 1.09s\n",
      "139:\tlearn: 0.2697818\ttotal: 177ms\tremaining: 1.08s\n",
      "140:\tlearn: 0.2687535\ttotal: 177ms\tremaining: 1.08s\n",
      "141:\tlearn: 0.2678323\ttotal: 178ms\tremaining: 1.07s\n",
      "142:\tlearn: 0.2671766\ttotal: 179ms\tremaining: 1.07s\n",
      "143:\tlearn: 0.2663237\ttotal: 180ms\tremaining: 1.07s\n",
      "144:\tlearn: 0.2652566\ttotal: 180ms\tremaining: 1.06s\n",
      "145:\tlearn: 0.2646623\ttotal: 181ms\tremaining: 1.06s\n",
      "146:\tlearn: 0.2635807\ttotal: 182ms\tremaining: 1.06s\n",
      "147:\tlearn: 0.2630112\ttotal: 183ms\tremaining: 1.05s\n",
      "148:\tlearn: 0.2622268\ttotal: 184ms\tremaining: 1.05s\n",
      "149:\tlearn: 0.2615079\ttotal: 185ms\tremaining: 1.04s\n",
      "150:\tlearn: 0.2606935\ttotal: 185ms\tremaining: 1.04s\n",
      "151:\tlearn: 0.2597395\ttotal: 186ms\tremaining: 1.04s\n",
      "152:\tlearn: 0.2589474\ttotal: 187ms\tremaining: 1.03s\n",
      "153:\tlearn: 0.2580833\ttotal: 188ms\tremaining: 1.03s\n",
      "154:\tlearn: 0.2571355\ttotal: 189ms\tremaining: 1.03s\n",
      "155:\tlearn: 0.2567366\ttotal: 189ms\tremaining: 1.02s\n",
      "156:\tlearn: 0.2559295\ttotal: 190ms\tremaining: 1.02s\n",
      "157:\tlearn: 0.2552415\ttotal: 191ms\tremaining: 1.02s\n"
     ]
    },
    {
     "name": "stdout",
     "output_type": "stream",
     "text": [
      "158:\tlearn: 0.2544035\ttotal: 192ms\tremaining: 1.01s\n",
      "159:\tlearn: 0.2536670\ttotal: 193ms\tremaining: 1.01s\n",
      "160:\tlearn: 0.2527277\ttotal: 194ms\tremaining: 1.01s\n",
      "161:\tlearn: 0.2518143\ttotal: 194ms\tremaining: 1s\n",
      "162:\tlearn: 0.2511502\ttotal: 195ms\tremaining: 1s\n",
      "163:\tlearn: 0.2502569\ttotal: 196ms\tremaining: 999ms\n",
      "164:\tlearn: 0.2495790\ttotal: 197ms\tremaining: 996ms\n",
      "165:\tlearn: 0.2490109\ttotal: 198ms\tremaining: 993ms\n",
      "166:\tlearn: 0.2484410\ttotal: 198ms\tremaining: 990ms\n",
      "167:\tlearn: 0.2476106\ttotal: 199ms\tremaining: 987ms\n",
      "168:\tlearn: 0.2468453\ttotal: 200ms\tremaining: 983ms\n",
      "169:\tlearn: 0.2463029\ttotal: 201ms\tremaining: 981ms\n",
      "170:\tlearn: 0.2453693\ttotal: 202ms\tremaining: 978ms\n",
      "171:\tlearn: 0.2445386\ttotal: 202ms\tremaining: 975ms\n",
      "172:\tlearn: 0.2438679\ttotal: 203ms\tremaining: 972ms\n",
      "173:\tlearn: 0.2433264\ttotal: 204ms\tremaining: 969ms\n",
      "174:\tlearn: 0.2426785\ttotal: 205ms\tremaining: 967ms\n",
      "175:\tlearn: 0.2422448\ttotal: 206ms\tremaining: 964ms\n",
      "176:\tlearn: 0.2414906\ttotal: 207ms\tremaining: 961ms\n",
      "177:\tlearn: 0.2408062\ttotal: 207ms\tremaining: 958ms\n",
      "178:\tlearn: 0.2404805\ttotal: 208ms\tremaining: 956ms\n",
      "179:\tlearn: 0.2400315\ttotal: 209ms\tremaining: 953ms\n",
      "180:\tlearn: 0.2392219\ttotal: 210ms\tremaining: 950ms\n",
      "181:\tlearn: 0.2383477\ttotal: 211ms\tremaining: 947ms\n",
      "182:\tlearn: 0.2377357\ttotal: 212ms\tremaining: 945ms\n",
      "183:\tlearn: 0.2371657\ttotal: 212ms\tremaining: 941ms\n",
      "184:\tlearn: 0.2366474\ttotal: 213ms\tremaining: 939ms\n",
      "185:\tlearn: 0.2360111\ttotal: 214ms\tremaining: 935ms\n",
      "186:\tlearn: 0.2350265\ttotal: 215ms\tremaining: 933ms\n",
      "187:\tlearn: 0.2344186\ttotal: 215ms\tremaining: 931ms\n",
      "188:\tlearn: 0.2339265\ttotal: 216ms\tremaining: 928ms\n",
      "189:\tlearn: 0.2330364\ttotal: 217ms\tremaining: 925ms\n",
      "190:\tlearn: 0.2324395\ttotal: 218ms\tremaining: 922ms\n",
      "191:\tlearn: 0.2317603\ttotal: 219ms\tremaining: 920ms\n",
      "192:\tlearn: 0.2311463\ttotal: 219ms\tremaining: 917ms\n",
      "193:\tlearn: 0.2306074\ttotal: 220ms\tremaining: 915ms\n",
      "194:\tlearn: 0.2303105\ttotal: 221ms\tremaining: 912ms\n",
      "195:\tlearn: 0.2296764\ttotal: 222ms\tremaining: 909ms\n",
      "196:\tlearn: 0.2291550\ttotal: 223ms\tremaining: 907ms\n",
      "197:\tlearn: 0.2287973\ttotal: 223ms\tremaining: 904ms\n",
      "198:\tlearn: 0.2280307\ttotal: 224ms\tremaining: 902ms\n",
      "199:\tlearn: 0.2272473\ttotal: 225ms\tremaining: 900ms\n",
      "200:\tlearn: 0.2267729\ttotal: 226ms\tremaining: 897ms\n",
      "201:\tlearn: 0.2259802\ttotal: 227ms\tremaining: 895ms\n",
      "202:\tlearn: 0.2252099\ttotal: 228ms\tremaining: 893ms\n",
      "203:\tlearn: 0.2243316\ttotal: 228ms\tremaining: 891ms\n",
      "204:\tlearn: 0.2235917\ttotal: 229ms\tremaining: 889ms\n",
      "205:\tlearn: 0.2230631\ttotal: 230ms\tremaining: 887ms\n",
      "206:\tlearn: 0.2223807\ttotal: 231ms\tremaining: 885ms\n",
      "207:\tlearn: 0.2219050\ttotal: 232ms\tremaining: 883ms\n",
      "208:\tlearn: 0.2215009\ttotal: 233ms\tremaining: 881ms\n",
      "209:\tlearn: 0.2208657\ttotal: 234ms\tremaining: 879ms\n",
      "210:\tlearn: 0.2201702\ttotal: 234ms\tremaining: 876ms\n",
      "211:\tlearn: 0.2194405\ttotal: 235ms\tremaining: 874ms\n",
      "212:\tlearn: 0.2188914\ttotal: 236ms\tremaining: 872ms\n",
      "213:\tlearn: 0.2181413\ttotal: 237ms\tremaining: 870ms\n",
      "214:\tlearn: 0.2175906\ttotal: 238ms\tremaining: 867ms\n",
      "215:\tlearn: 0.2169348\ttotal: 238ms\tremaining: 865ms\n",
      "216:\tlearn: 0.2162803\ttotal: 240ms\tremaining: 866ms\n",
      "217:\tlearn: 0.2159391\ttotal: 241ms\tremaining: 863ms\n",
      "218:\tlearn: 0.2155034\ttotal: 241ms\tremaining: 861ms\n",
      "219:\tlearn: 0.2148594\ttotal: 242ms\tremaining: 859ms\n",
      "220:\tlearn: 0.2142217\ttotal: 243ms\tremaining: 857ms\n",
      "221:\tlearn: 0.2138192\ttotal: 244ms\tremaining: 856ms\n",
      "222:\tlearn: 0.2133091\ttotal: 245ms\tremaining: 854ms\n",
      "223:\tlearn: 0.2128937\ttotal: 246ms\tremaining: 852ms\n",
      "224:\tlearn: 0.2122406\ttotal: 247ms\tremaining: 850ms\n",
      "225:\tlearn: 0.2113846\ttotal: 248ms\tremaining: 848ms\n",
      "226:\tlearn: 0.2109287\ttotal: 249ms\tremaining: 848ms\n",
      "227:\tlearn: 0.2101444\ttotal: 250ms\tremaining: 845ms\n",
      "228:\tlearn: 0.2096675\ttotal: 251ms\tremaining: 844ms\n",
      "229:\tlearn: 0.2090897\ttotal: 251ms\tremaining: 842ms\n",
      "230:\tlearn: 0.2084966\ttotal: 252ms\tremaining: 840ms\n",
      "231:\tlearn: 0.2080141\ttotal: 253ms\tremaining: 838ms\n",
      "232:\tlearn: 0.2077053\ttotal: 254ms\tremaining: 836ms\n",
      "233:\tlearn: 0.2072690\ttotal: 255ms\tremaining: 834ms\n",
      "234:\tlearn: 0.2066404\ttotal: 255ms\tremaining: 832ms\n",
      "235:\tlearn: 0.2061542\ttotal: 256ms\tremaining: 830ms\n",
      "236:\tlearn: 0.2056662\ttotal: 257ms\tremaining: 828ms\n",
      "237:\tlearn: 0.2050160\ttotal: 258ms\tremaining: 826ms\n",
      "238:\tlearn: 0.2047639\ttotal: 259ms\tremaining: 824ms\n",
      "239:\tlearn: 0.2043726\ttotal: 260ms\tremaining: 822ms\n",
      "240:\tlearn: 0.2037984\ttotal: 260ms\tremaining: 820ms\n",
      "241:\tlearn: 0.2032079\ttotal: 261ms\tremaining: 818ms\n",
      "242:\tlearn: 0.2027107\ttotal: 262ms\tremaining: 816ms\n",
      "243:\tlearn: 0.2021032\ttotal: 263ms\tremaining: 815ms\n",
      "244:\tlearn: 0.2018093\ttotal: 264ms\tremaining: 813ms\n",
      "245:\tlearn: 0.2015198\ttotal: 265ms\tremaining: 811ms\n",
      "246:\tlearn: 0.2012767\ttotal: 265ms\tremaining: 809ms\n",
      "247:\tlearn: 0.2009344\ttotal: 266ms\tremaining: 807ms\n",
      "248:\tlearn: 0.2004148\ttotal: 267ms\tremaining: 805ms\n",
      "249:\tlearn: 0.1998695\ttotal: 268ms\tremaining: 803ms\n",
      "250:\tlearn: 0.1995545\ttotal: 269ms\tremaining: 801ms\n",
      "251:\tlearn: 0.1988988\ttotal: 269ms\tremaining: 800ms\n",
      "252:\tlearn: 0.1985907\ttotal: 270ms\tremaining: 798ms\n",
      "253:\tlearn: 0.1979968\ttotal: 271ms\tremaining: 796ms\n",
      "254:\tlearn: 0.1975038\ttotal: 272ms\tremaining: 794ms\n",
      "255:\tlearn: 0.1971191\ttotal: 273ms\tremaining: 792ms\n",
      "256:\tlearn: 0.1966696\ttotal: 273ms\tremaining: 790ms\n",
      "257:\tlearn: 0.1960600\ttotal: 274ms\tremaining: 789ms\n",
      "258:\tlearn: 0.1954658\ttotal: 275ms\tremaining: 787ms\n",
      "259:\tlearn: 0.1949966\ttotal: 276ms\tremaining: 785ms\n",
      "260:\tlearn: 0.1944849\ttotal: 277ms\tremaining: 784ms\n",
      "261:\tlearn: 0.1940211\ttotal: 278ms\tremaining: 782ms\n",
      "262:\tlearn: 0.1937058\ttotal: 278ms\tremaining: 780ms\n",
      "263:\tlearn: 0.1934617\ttotal: 279ms\tremaining: 778ms\n",
      "264:\tlearn: 0.1929320\ttotal: 280ms\tremaining: 777ms\n",
      "265:\tlearn: 0.1922288\ttotal: 281ms\tremaining: 775ms\n",
      "266:\tlearn: 0.1918593\ttotal: 282ms\tremaining: 774ms\n",
      "267:\tlearn: 0.1912762\ttotal: 283ms\tremaining: 772ms\n",
      "268:\tlearn: 0.1908342\ttotal: 284ms\tremaining: 771ms\n",
      "269:\tlearn: 0.1900742\ttotal: 284ms\tremaining: 769ms\n",
      "270:\tlearn: 0.1898169\ttotal: 285ms\tremaining: 767ms\n",
      "271:\tlearn: 0.1894941\ttotal: 286ms\tremaining: 766ms\n",
      "272:\tlearn: 0.1888831\ttotal: 287ms\tremaining: 764ms\n",
      "273:\tlearn: 0.1886963\ttotal: 288ms\tremaining: 762ms\n",
      "274:\tlearn: 0.1880288\ttotal: 288ms\tremaining: 761ms\n",
      "275:\tlearn: 0.1875089\ttotal: 289ms\tremaining: 759ms\n",
      "276:\tlearn: 0.1868692\ttotal: 290ms\tremaining: 757ms\n",
      "277:\tlearn: 0.1862481\ttotal: 291ms\tremaining: 756ms\n",
      "278:\tlearn: 0.1860422\ttotal: 292ms\tremaining: 754ms\n",
      "279:\tlearn: 0.1857673\ttotal: 293ms\tremaining: 752ms\n",
      "280:\tlearn: 0.1851664\ttotal: 293ms\tremaining: 751ms\n",
      "281:\tlearn: 0.1847332\ttotal: 294ms\tremaining: 749ms\n",
      "282:\tlearn: 0.1841937\ttotal: 295ms\tremaining: 748ms\n",
      "283:\tlearn: 0.1835807\ttotal: 296ms\tremaining: 746ms\n",
      "284:\tlearn: 0.1832662\ttotal: 297ms\tremaining: 744ms\n"
     ]
    },
    {
     "name": "stdout",
     "output_type": "stream",
     "text": [
      "285:\tlearn: 0.1827163\ttotal: 298ms\tremaining: 743ms\n",
      "286:\tlearn: 0.1825588\ttotal: 299ms\tremaining: 742ms\n",
      "287:\tlearn: 0.1821781\ttotal: 299ms\tremaining: 740ms\n",
      "288:\tlearn: 0.1817583\ttotal: 300ms\tremaining: 738ms\n",
      "289:\tlearn: 0.1812072\ttotal: 301ms\tremaining: 736ms\n",
      "290:\tlearn: 0.1806584\ttotal: 302ms\tremaining: 735ms\n",
      "291:\tlearn: 0.1803835\ttotal: 303ms\tremaining: 734ms\n",
      "292:\tlearn: 0.1798095\ttotal: 304ms\tremaining: 733ms\n",
      "293:\tlearn: 0.1795431\ttotal: 304ms\tremaining: 731ms\n",
      "294:\tlearn: 0.1793723\ttotal: 305ms\tremaining: 729ms\n",
      "295:\tlearn: 0.1788772\ttotal: 306ms\tremaining: 728ms\n",
      "296:\tlearn: 0.1785991\ttotal: 307ms\tremaining: 727ms\n",
      "297:\tlearn: 0.1781112\ttotal: 308ms\tremaining: 725ms\n",
      "298:\tlearn: 0.1775705\ttotal: 309ms\tremaining: 723ms\n",
      "299:\tlearn: 0.1772104\ttotal: 309ms\tremaining: 722ms\n",
      "300:\tlearn: 0.1767972\ttotal: 310ms\tremaining: 720ms\n",
      "301:\tlearn: 0.1764253\ttotal: 311ms\tremaining: 719ms\n",
      "302:\tlearn: 0.1760222\ttotal: 312ms\tremaining: 717ms\n",
      "303:\tlearn: 0.1757193\ttotal: 313ms\tremaining: 716ms\n",
      "304:\tlearn: 0.1751012\ttotal: 313ms\tremaining: 714ms\n",
      "305:\tlearn: 0.1747239\ttotal: 314ms\tremaining: 713ms\n",
      "306:\tlearn: 0.1744302\ttotal: 315ms\tremaining: 712ms\n",
      "307:\tlearn: 0.1741490\ttotal: 316ms\tremaining: 710ms\n",
      "308:\tlearn: 0.1739249\ttotal: 317ms\tremaining: 709ms\n",
      "309:\tlearn: 0.1733178\ttotal: 318ms\tremaining: 707ms\n",
      "310:\tlearn: 0.1730407\ttotal: 319ms\tremaining: 706ms\n",
      "311:\tlearn: 0.1727501\ttotal: 319ms\tremaining: 704ms\n",
      "312:\tlearn: 0.1725455\ttotal: 320ms\tremaining: 703ms\n",
      "313:\tlearn: 0.1719957\ttotal: 321ms\tremaining: 702ms\n",
      "314:\tlearn: 0.1716173\ttotal: 322ms\tremaining: 700ms\n",
      "315:\tlearn: 0.1711185\ttotal: 323ms\tremaining: 699ms\n",
      "316:\tlearn: 0.1706283\ttotal: 324ms\tremaining: 698ms\n",
      "317:\tlearn: 0.1700750\ttotal: 325ms\tremaining: 696ms\n",
      "318:\tlearn: 0.1698468\ttotal: 326ms\tremaining: 695ms\n",
      "319:\tlearn: 0.1695295\ttotal: 326ms\tremaining: 693ms\n",
      "320:\tlearn: 0.1691110\ttotal: 327ms\tremaining: 692ms\n",
      "321:\tlearn: 0.1687691\ttotal: 328ms\tremaining: 691ms\n",
      "322:\tlearn: 0.1683193\ttotal: 329ms\tremaining: 689ms\n",
      "323:\tlearn: 0.1678471\ttotal: 330ms\tremaining: 688ms\n",
      "324:\tlearn: 0.1673186\ttotal: 330ms\tremaining: 686ms\n",
      "325:\tlearn: 0.1668184\ttotal: 331ms\tremaining: 685ms\n",
      "326:\tlearn: 0.1665213\ttotal: 332ms\tremaining: 683ms\n",
      "327:\tlearn: 0.1662732\ttotal: 333ms\tremaining: 681ms\n",
      "328:\tlearn: 0.1658826\ttotal: 333ms\tremaining: 680ms\n",
      "329:\tlearn: 0.1653305\ttotal: 334ms\tremaining: 679ms\n",
      "330:\tlearn: 0.1649532\ttotal: 335ms\tremaining: 677ms\n",
      "331:\tlearn: 0.1648130\ttotal: 336ms\tremaining: 676ms\n",
      "332:\tlearn: 0.1643778\ttotal: 337ms\tremaining: 674ms\n",
      "333:\tlearn: 0.1642301\ttotal: 338ms\tremaining: 673ms\n",
      "334:\tlearn: 0.1641231\ttotal: 338ms\tremaining: 672ms\n",
      "335:\tlearn: 0.1637241\ttotal: 339ms\tremaining: 670ms\n",
      "336:\tlearn: 0.1633020\ttotal: 340ms\tremaining: 669ms\n",
      "337:\tlearn: 0.1629561\ttotal: 341ms\tremaining: 668ms\n",
      "338:\tlearn: 0.1626803\ttotal: 342ms\tremaining: 666ms\n",
      "339:\tlearn: 0.1623541\ttotal: 343ms\tremaining: 666ms\n",
      "340:\tlearn: 0.1622390\ttotal: 344ms\tremaining: 665ms\n",
      "341:\tlearn: 0.1618729\ttotal: 345ms\tremaining: 663ms\n",
      "342:\tlearn: 0.1615069\ttotal: 346ms\tremaining: 662ms\n",
      "343:\tlearn: 0.1611387\ttotal: 346ms\tremaining: 660ms\n",
      "344:\tlearn: 0.1608557\ttotal: 347ms\tremaining: 659ms\n",
      "345:\tlearn: 0.1604622\ttotal: 348ms\tremaining: 658ms\n",
      "346:\tlearn: 0.1603350\ttotal: 349ms\tremaining: 656ms\n",
      "347:\tlearn: 0.1599432\ttotal: 350ms\tremaining: 655ms\n",
      "348:\tlearn: 0.1598333\ttotal: 350ms\tremaining: 654ms\n",
      "349:\tlearn: 0.1595873\ttotal: 351ms\tremaining: 653ms\n",
      "350:\tlearn: 0.1594686\ttotal: 352ms\tremaining: 651ms\n",
      "351:\tlearn: 0.1593940\ttotal: 353ms\tremaining: 650ms\n",
      "352:\tlearn: 0.1593155\ttotal: 354ms\tremaining: 648ms\n",
      "353:\tlearn: 0.1590092\ttotal: 354ms\tremaining: 647ms\n",
      "354:\tlearn: 0.1588708\ttotal: 355ms\tremaining: 645ms\n",
      "355:\tlearn: 0.1583633\ttotal: 356ms\tremaining: 644ms\n",
      "356:\tlearn: 0.1579906\ttotal: 357ms\tremaining: 643ms\n",
      "357:\tlearn: 0.1578785\ttotal: 358ms\tremaining: 642ms\n",
      "358:\tlearn: 0.1574770\ttotal: 359ms\tremaining: 640ms\n",
      "359:\tlearn: 0.1574076\ttotal: 359ms\tremaining: 639ms\n",
      "360:\tlearn: 0.1569463\ttotal: 360ms\tremaining: 638ms\n",
      "361:\tlearn: 0.1565479\ttotal: 361ms\tremaining: 637ms\n",
      "362:\tlearn: 0.1561417\ttotal: 362ms\tremaining: 635ms\n",
      "363:\tlearn: 0.1557335\ttotal: 363ms\tremaining: 634ms\n",
      "364:\tlearn: 0.1556478\ttotal: 364ms\tremaining: 632ms\n",
      "365:\tlearn: 0.1552715\ttotal: 364ms\tremaining: 631ms\n",
      "366:\tlearn: 0.1549049\ttotal: 365ms\tremaining: 630ms\n",
      "367:\tlearn: 0.1544687\ttotal: 366ms\tremaining: 629ms\n",
      "368:\tlearn: 0.1543440\ttotal: 367ms\tremaining: 627ms\n",
      "369:\tlearn: 0.1542963\ttotal: 368ms\tremaining: 627ms\n",
      "370:\tlearn: 0.1542031\ttotal: 369ms\tremaining: 626ms\n",
      "371:\tlearn: 0.1540914\ttotal: 370ms\tremaining: 625ms\n",
      "372:\tlearn: 0.1537784\ttotal: 371ms\tremaining: 624ms\n",
      "373:\tlearn: 0.1536899\ttotal: 372ms\tremaining: 622ms\n",
      "374:\tlearn: 0.1532602\ttotal: 373ms\tremaining: 621ms\n",
      "375:\tlearn: 0.1531808\ttotal: 373ms\tremaining: 620ms\n",
      "376:\tlearn: 0.1530743\ttotal: 374ms\tremaining: 618ms\n",
      "377:\tlearn: 0.1527325\ttotal: 375ms\tremaining: 617ms\n",
      "378:\tlearn: 0.1523413\ttotal: 376ms\tremaining: 616ms\n",
      "379:\tlearn: 0.1522893\ttotal: 377ms\tremaining: 615ms\n",
      "380:\tlearn: 0.1520239\ttotal: 378ms\tremaining: 614ms\n",
      "381:\tlearn: 0.1519710\ttotal: 379ms\tremaining: 613ms\n",
      "382:\tlearn: 0.1518915\ttotal: 379ms\tremaining: 611ms\n",
      "383:\tlearn: 0.1516857\ttotal: 380ms\tremaining: 610ms\n",
      "384:\tlearn: 0.1516316\ttotal: 381ms\tremaining: 609ms\n"
     ]
    },
    {
     "name": "stdout",
     "output_type": "stream",
     "text": [
      "385:\tlearn: 0.1515833\ttotal: 382ms\tremaining: 608ms\n",
      "386:\tlearn: 0.1514375\ttotal: 383ms\tremaining: 607ms\n",
      "387:\tlearn: 0.1513839\ttotal: 384ms\tremaining: 606ms\n",
      "388:\tlearn: 0.1511846\ttotal: 385ms\tremaining: 604ms\n",
      "389:\tlearn: 0.1510641\ttotal: 386ms\tremaining: 603ms\n",
      "390:\tlearn: 0.1507630\ttotal: 386ms\tremaining: 602ms\n",
      "391:\tlearn: 0.1506655\ttotal: 387ms\tremaining: 601ms\n",
      "392:\tlearn: 0.1503840\ttotal: 388ms\tremaining: 599ms\n",
      "393:\tlearn: 0.1500214\ttotal: 389ms\tremaining: 598ms\n",
      "394:\tlearn: 0.1498480\ttotal: 390ms\tremaining: 597ms\n",
      "395:\tlearn: 0.1495202\ttotal: 391ms\tremaining: 596ms\n",
      "396:\tlearn: 0.1494745\ttotal: 391ms\tremaining: 595ms\n",
      "397:\tlearn: 0.1494436\ttotal: 392ms\tremaining: 593ms\n",
      "398:\tlearn: 0.1493879\ttotal: 393ms\tremaining: 592ms\n",
      "399:\tlearn: 0.1491237\ttotal: 394ms\tremaining: 591ms\n",
      "400:\tlearn: 0.1490523\ttotal: 395ms\tremaining: 590ms\n",
      "401:\tlearn: 0.1490073\ttotal: 396ms\tremaining: 589ms\n",
      "402:\tlearn: 0.1487001\ttotal: 396ms\tremaining: 587ms\n",
      "403:\tlearn: 0.1486539\ttotal: 397ms\tremaining: 586ms\n",
      "404:\tlearn: 0.1483110\ttotal: 398ms\tremaining: 585ms\n",
      "405:\tlearn: 0.1479776\ttotal: 399ms\tremaining: 584ms\n",
      "406:\tlearn: 0.1478246\ttotal: 400ms\tremaining: 582ms\n",
      "407:\tlearn: 0.1473864\ttotal: 400ms\tremaining: 581ms\n",
      "408:\tlearn: 0.1471036\ttotal: 401ms\tremaining: 580ms\n",
      "409:\tlearn: 0.1470677\ttotal: 402ms\tremaining: 579ms\n",
      "410:\tlearn: 0.1467774\ttotal: 403ms\tremaining: 577ms\n",
      "411:\tlearn: 0.1464269\ttotal: 404ms\tremaining: 576ms\n",
      "412:\tlearn: 0.1463651\ttotal: 405ms\tremaining: 575ms\n",
      "413:\tlearn: 0.1460514\ttotal: 405ms\tremaining: 574ms\n",
      "414:\tlearn: 0.1460166\ttotal: 406ms\tremaining: 573ms\n",
      "415:\tlearn: 0.1459828\ttotal: 407ms\tremaining: 571ms\n",
      "416:\tlearn: 0.1456265\ttotal: 408ms\tremaining: 570ms\n",
      "417:\tlearn: 0.1455965\ttotal: 409ms\tremaining: 569ms\n",
      "418:\tlearn: 0.1451356\ttotal: 409ms\tremaining: 568ms\n",
      "419:\tlearn: 0.1451013\ttotal: 410ms\tremaining: 567ms\n",
      "420:\tlearn: 0.1447776\ttotal: 411ms\tremaining: 565ms\n",
      "421:\tlearn: 0.1444595\ttotal: 412ms\tremaining: 564ms\n",
      "422:\tlearn: 0.1444182\ttotal: 413ms\tremaining: 563ms\n",
      "423:\tlearn: 0.1441173\ttotal: 414ms\tremaining: 562ms\n",
      "424:\tlearn: 0.1440921\ttotal: 415ms\tremaining: 561ms\n",
      "425:\tlearn: 0.1437335\ttotal: 416ms\tremaining: 560ms\n",
      "426:\tlearn: 0.1432739\ttotal: 417ms\tremaining: 559ms\n",
      "427:\tlearn: 0.1429386\ttotal: 417ms\tremaining: 558ms\n",
      "428:\tlearn: 0.1425872\ttotal: 418ms\tremaining: 557ms\n",
      "429:\tlearn: 0.1422746\ttotal: 419ms\tremaining: 556ms\n",
      "430:\tlearn: 0.1419727\ttotal: 420ms\tremaining: 554ms\n",
      "431:\tlearn: 0.1416209\ttotal: 421ms\tremaining: 553ms\n",
      "432:\tlearn: 0.1412060\ttotal: 422ms\tremaining: 552ms\n",
      "433:\tlearn: 0.1409006\ttotal: 422ms\tremaining: 551ms\n",
      "434:\tlearn: 0.1405284\ttotal: 423ms\tremaining: 549ms\n",
      "435:\tlearn: 0.1404722\ttotal: 424ms\tremaining: 548ms\n",
      "436:\tlearn: 0.1401200\ttotal: 425ms\tremaining: 547ms\n",
      "437:\tlearn: 0.1400908\ttotal: 426ms\tremaining: 546ms\n",
      "438:\tlearn: 0.1397671\ttotal: 427ms\tremaining: 545ms\n",
      "439:\tlearn: 0.1395096\ttotal: 427ms\tremaining: 544ms\n",
      "440:\tlearn: 0.1393121\ttotal: 428ms\tremaining: 543ms\n",
      "441:\tlearn: 0.1392833\ttotal: 429ms\tremaining: 542ms\n",
      "442:\tlearn: 0.1389109\ttotal: 430ms\tremaining: 540ms\n",
      "443:\tlearn: 0.1386633\ttotal: 430ms\tremaining: 539ms\n",
      "444:\tlearn: 0.1382143\ttotal: 431ms\tremaining: 538ms\n",
      "445:\tlearn: 0.1378381\ttotal: 432ms\tremaining: 537ms\n",
      "446:\tlearn: 0.1378105\ttotal: 433ms\tremaining: 536ms\n",
      "447:\tlearn: 0.1375272\ttotal: 434ms\tremaining: 534ms\n",
      "448:\tlearn: 0.1372482\ttotal: 435ms\tremaining: 533ms\n",
      "449:\tlearn: 0.1371877\ttotal: 435ms\tremaining: 532ms\n",
      "450:\tlearn: 0.1371627\ttotal: 436ms\tremaining: 531ms\n",
      "451:\tlearn: 0.1370901\ttotal: 437ms\tremaining: 530ms\n",
      "452:\tlearn: 0.1369867\ttotal: 438ms\tremaining: 529ms\n",
      "453:\tlearn: 0.1369610\ttotal: 439ms\tremaining: 528ms\n",
      "454:\tlearn: 0.1368359\ttotal: 439ms\tremaining: 526ms\n",
      "455:\tlearn: 0.1364829\ttotal: 440ms\tremaining: 525ms\n",
      "456:\tlearn: 0.1360791\ttotal: 441ms\tremaining: 524ms\n",
      "457:\tlearn: 0.1360583\ttotal: 442ms\tremaining: 523ms\n",
      "458:\tlearn: 0.1359884\ttotal: 443ms\tremaining: 522ms\n",
      "459:\tlearn: 0.1359488\ttotal: 443ms\tremaining: 520ms\n",
      "460:\tlearn: 0.1358791\ttotal: 444ms\tremaining: 519ms\n",
      "461:\tlearn: 0.1355152\ttotal: 445ms\tremaining: 518ms\n",
      "462:\tlearn: 0.1354913\ttotal: 446ms\tremaining: 517ms\n",
      "463:\tlearn: 0.1351364\ttotal: 446ms\tremaining: 516ms\n",
      "464:\tlearn: 0.1347988\ttotal: 447ms\tremaining: 514ms\n",
      "465:\tlearn: 0.1345220\ttotal: 448ms\tremaining: 513ms\n",
      "466:\tlearn: 0.1342608\ttotal: 449ms\tremaining: 512ms\n",
      "467:\tlearn: 0.1342380\ttotal: 449ms\tremaining: 511ms\n",
      "468:\tlearn: 0.1339382\ttotal: 450ms\tremaining: 510ms\n",
      "469:\tlearn: 0.1336517\ttotal: 451ms\tremaining: 509ms\n",
      "470:\tlearn: 0.1334927\ttotal: 452ms\tremaining: 507ms\n",
      "471:\tlearn: 0.1334721\ttotal: 453ms\tremaining: 506ms\n",
      "472:\tlearn: 0.1331704\ttotal: 453ms\tremaining: 505ms\n",
      "473:\tlearn: 0.1330024\ttotal: 454ms\tremaining: 504ms\n",
      "474:\tlearn: 0.1329818\ttotal: 455ms\tremaining: 503ms\n",
      "475:\tlearn: 0.1325330\ttotal: 456ms\tremaining: 502ms\n",
      "476:\tlearn: 0.1322526\ttotal: 457ms\tremaining: 501ms\n",
      "477:\tlearn: 0.1321688\ttotal: 458ms\tremaining: 500ms\n",
      "478:\tlearn: 0.1318088\ttotal: 458ms\tremaining: 499ms\n",
      "479:\tlearn: 0.1315453\ttotal: 459ms\tremaining: 497ms\n",
      "480:\tlearn: 0.1315306\ttotal: 460ms\tremaining: 496ms\n",
      "481:\tlearn: 0.1314631\ttotal: 461ms\tremaining: 495ms\n",
      "482:\tlearn: 0.1311714\ttotal: 462ms\tremaining: 494ms\n",
      "483:\tlearn: 0.1309900\ttotal: 462ms\tremaining: 493ms\n",
      "484:\tlearn: 0.1306282\ttotal: 463ms\tremaining: 492ms\n",
      "485:\tlearn: 0.1302546\ttotal: 464ms\tremaining: 491ms\n",
      "486:\tlearn: 0.1298513\ttotal: 465ms\tremaining: 490ms\n",
      "487:\tlearn: 0.1297918\ttotal: 466ms\tremaining: 488ms\n",
      "488:\tlearn: 0.1294761\ttotal: 466ms\tremaining: 487ms\n",
      "489:\tlearn: 0.1292223\ttotal: 467ms\tremaining: 486ms\n",
      "490:\tlearn: 0.1289453\ttotal: 468ms\tremaining: 485ms\n",
      "491:\tlearn: 0.1285948\ttotal: 469ms\tremaining: 484ms\n",
      "492:\tlearn: 0.1282763\ttotal: 469ms\tremaining: 483ms\n",
      "493:\tlearn: 0.1280400\ttotal: 470ms\tremaining: 482ms\n",
      "494:\tlearn: 0.1280242\ttotal: 471ms\tremaining: 481ms\n",
      "495:\tlearn: 0.1277957\ttotal: 472ms\tremaining: 480ms\n",
      "496:\tlearn: 0.1276468\ttotal: 473ms\tremaining: 479ms\n",
      "497:\tlearn: 0.1273192\ttotal: 474ms\tremaining: 477ms\n",
      "498:\tlearn: 0.1270060\ttotal: 474ms\tremaining: 476ms\n",
      "499:\tlearn: 0.1266797\ttotal: 475ms\tremaining: 475ms\n",
      "500:\tlearn: 0.1265378\ttotal: 476ms\tremaining: 474ms\n",
      "501:\tlearn: 0.1263210\ttotal: 477ms\tremaining: 473ms\n",
      "502:\tlearn: 0.1260338\ttotal: 478ms\tremaining: 472ms\n",
      "503:\tlearn: 0.1256851\ttotal: 479ms\tremaining: 471ms\n",
      "504:\tlearn: 0.1253938\ttotal: 480ms\tremaining: 470ms\n",
      "505:\tlearn: 0.1251098\ttotal: 480ms\tremaining: 469ms\n",
      "506:\tlearn: 0.1249603\ttotal: 481ms\tremaining: 468ms\n",
      "507:\tlearn: 0.1247504\ttotal: 482ms\tremaining: 467ms\n",
      "508:\tlearn: 0.1244970\ttotal: 483ms\tremaining: 466ms\n",
      "509:\tlearn: 0.1243095\ttotal: 484ms\tremaining: 465ms\n",
      "510:\tlearn: 0.1240214\ttotal: 484ms\tremaining: 464ms\n",
      "511:\tlearn: 0.1238176\ttotal: 485ms\tremaining: 463ms\n",
      "512:\tlearn: 0.1235277\ttotal: 486ms\tremaining: 461ms\n",
      "513:\tlearn: 0.1233133\ttotal: 487ms\tremaining: 460ms\n"
     ]
    },
    {
     "name": "stdout",
     "output_type": "stream",
     "text": [
      "514:\tlearn: 0.1231381\ttotal: 488ms\tremaining: 460ms\n",
      "515:\tlearn: 0.1228362\ttotal: 489ms\tremaining: 459ms\n",
      "516:\tlearn: 0.1227486\ttotal: 490ms\tremaining: 458ms\n",
      "517:\tlearn: 0.1225986\ttotal: 491ms\tremaining: 457ms\n",
      "518:\tlearn: 0.1225647\ttotal: 492ms\tremaining: 456ms\n",
      "519:\tlearn: 0.1222307\ttotal: 492ms\tremaining: 455ms\n",
      "520:\tlearn: 0.1220158\ttotal: 493ms\tremaining: 453ms\n",
      "521:\tlearn: 0.1217053\ttotal: 494ms\tremaining: 452ms\n",
      "522:\tlearn: 0.1214716\ttotal: 495ms\tremaining: 451ms\n",
      "523:\tlearn: 0.1212071\ttotal: 496ms\tremaining: 451ms\n",
      "524:\tlearn: 0.1210060\ttotal: 497ms\tremaining: 450ms\n",
      "525:\tlearn: 0.1207368\ttotal: 498ms\tremaining: 448ms\n",
      "526:\tlearn: 0.1205557\ttotal: 498ms\tremaining: 447ms\n",
      "527:\tlearn: 0.1203618\ttotal: 499ms\tremaining: 446ms\n",
      "528:\tlearn: 0.1201937\ttotal: 500ms\tremaining: 445ms\n",
      "529:\tlearn: 0.1199236\ttotal: 501ms\tremaining: 444ms\n",
      "530:\tlearn: 0.1196821\ttotal: 502ms\tremaining: 443ms\n",
      "531:\tlearn: 0.1194503\ttotal: 503ms\tremaining: 442ms\n",
      "532:\tlearn: 0.1192819\ttotal: 503ms\tremaining: 441ms\n",
      "533:\tlearn: 0.1192646\ttotal: 504ms\tremaining: 440ms\n",
      "534:\tlearn: 0.1190357\ttotal: 505ms\tremaining: 439ms\n",
      "535:\tlearn: 0.1187051\ttotal: 506ms\tremaining: 438ms\n",
      "536:\tlearn: 0.1184401\ttotal: 507ms\tremaining: 437ms\n",
      "537:\tlearn: 0.1182611\ttotal: 507ms\tremaining: 436ms\n",
      "538:\tlearn: 0.1181563\ttotal: 508ms\tremaining: 435ms\n",
      "539:\tlearn: 0.1179027\ttotal: 509ms\tremaining: 434ms\n",
      "540:\tlearn: 0.1178631\ttotal: 510ms\tremaining: 433ms\n",
      "541:\tlearn: 0.1178484\ttotal: 511ms\tremaining: 431ms\n",
      "542:\tlearn: 0.1176104\ttotal: 511ms\tremaining: 430ms\n",
      "543:\tlearn: 0.1174236\ttotal: 512ms\tremaining: 429ms\n",
      "544:\tlearn: 0.1172197\ttotal: 513ms\tremaining: 428ms\n",
      "545:\tlearn: 0.1169212\ttotal: 514ms\tremaining: 427ms\n",
      "546:\tlearn: 0.1166908\ttotal: 514ms\tremaining: 426ms\n",
      "547:\tlearn: 0.1164783\ttotal: 515ms\tremaining: 425ms\n",
      "548:\tlearn: 0.1161981\ttotal: 516ms\tremaining: 424ms\n",
      "549:\tlearn: 0.1159766\ttotal: 517ms\tremaining: 423ms\n",
      "550:\tlearn: 0.1157078\ttotal: 518ms\tremaining: 422ms\n",
      "551:\tlearn: 0.1156909\ttotal: 519ms\tremaining: 421ms\n",
      "552:\tlearn: 0.1153763\ttotal: 520ms\tremaining: 420ms\n",
      "553:\tlearn: 0.1152247\ttotal: 520ms\tremaining: 419ms\n",
      "554:\tlearn: 0.1151202\ttotal: 521ms\tremaining: 418ms\n",
      "555:\tlearn: 0.1149905\ttotal: 522ms\tremaining: 417ms\n",
      "556:\tlearn: 0.1148290\ttotal: 523ms\tremaining: 416ms\n",
      "557:\tlearn: 0.1146158\ttotal: 523ms\tremaining: 415ms\n",
      "558:\tlearn: 0.1144125\ttotal: 524ms\tremaining: 414ms\n",
      "559:\tlearn: 0.1141385\ttotal: 525ms\tremaining: 413ms\n",
      "560:\tlearn: 0.1139118\ttotal: 526ms\tremaining: 412ms\n",
      "561:\tlearn: 0.1136451\ttotal: 527ms\tremaining: 411ms\n",
      "562:\tlearn: 0.1134270\ttotal: 528ms\tremaining: 410ms\n",
      "563:\tlearn: 0.1131466\ttotal: 529ms\tremaining: 409ms\n",
      "564:\tlearn: 0.1130878\ttotal: 529ms\tremaining: 408ms\n",
      "565:\tlearn: 0.1128631\ttotal: 530ms\tremaining: 406ms\n",
      "566:\tlearn: 0.1127472\ttotal: 531ms\tremaining: 405ms\n",
      "567:\tlearn: 0.1124985\ttotal: 532ms\tremaining: 404ms\n",
      "568:\tlearn: 0.1122400\ttotal: 533ms\tremaining: 403ms\n",
      "569:\tlearn: 0.1120092\ttotal: 533ms\tremaining: 402ms\n",
      "570:\tlearn: 0.1117982\ttotal: 534ms\tremaining: 401ms\n",
      "571:\tlearn: 0.1116224\ttotal: 535ms\tremaining: 400ms\n",
      "572:\tlearn: 0.1115405\ttotal: 536ms\tremaining: 399ms\n",
      "573:\tlearn: 0.1112818\ttotal: 536ms\tremaining: 398ms\n",
      "574:\tlearn: 0.1110491\ttotal: 537ms\tremaining: 397ms\n",
      "575:\tlearn: 0.1107429\ttotal: 538ms\tremaining: 396ms\n",
      "576:\tlearn: 0.1106146\ttotal: 539ms\tremaining: 395ms\n",
      "577:\tlearn: 0.1103367\ttotal: 540ms\tremaining: 394ms\n",
      "578:\tlearn: 0.1100997\ttotal: 540ms\tremaining: 393ms\n",
      "579:\tlearn: 0.1098856\ttotal: 541ms\tremaining: 392ms\n",
      "580:\tlearn: 0.1098336\ttotal: 542ms\tremaining: 391ms\n",
      "581:\tlearn: 0.1095980\ttotal: 543ms\tremaining: 390ms\n",
      "582:\tlearn: 0.1093709\ttotal: 543ms\tremaining: 389ms\n",
      "583:\tlearn: 0.1091712\ttotal: 544ms\tremaining: 388ms\n",
      "584:\tlearn: 0.1088984\ttotal: 545ms\tremaining: 387ms\n",
      "585:\tlearn: 0.1087690\ttotal: 546ms\tremaining: 386ms\n",
      "586:\tlearn: 0.1085527\ttotal: 547ms\tremaining: 385ms\n",
      "587:\tlearn: 0.1083678\ttotal: 548ms\tremaining: 384ms\n",
      "588:\tlearn: 0.1080438\ttotal: 549ms\tremaining: 383ms\n",
      "589:\tlearn: 0.1078149\ttotal: 549ms\tremaining: 382ms\n",
      "590:\tlearn: 0.1078015\ttotal: 550ms\tremaining: 381ms\n",
      "591:\tlearn: 0.1075268\ttotal: 551ms\tremaining: 380ms\n",
      "592:\tlearn: 0.1073903\ttotal: 552ms\tremaining: 379ms\n",
      "593:\tlearn: 0.1073319\ttotal: 553ms\tremaining: 378ms\n",
      "594:\tlearn: 0.1070992\ttotal: 554ms\tremaining: 377ms\n",
      "595:\tlearn: 0.1070614\ttotal: 554ms\tremaining: 376ms\n",
      "596:\tlearn: 0.1068497\ttotal: 555ms\tremaining: 375ms\n",
      "597:\tlearn: 0.1066554\ttotal: 556ms\tremaining: 374ms\n",
      "598:\tlearn: 0.1064660\ttotal: 557ms\tremaining: 373ms\n",
      "599:\tlearn: 0.1064133\ttotal: 558ms\tremaining: 372ms\n",
      "600:\tlearn: 0.1062513\ttotal: 558ms\tremaining: 371ms\n",
      "601:\tlearn: 0.1059788\ttotal: 559ms\tremaining: 370ms\n",
      "602:\tlearn: 0.1057761\ttotal: 560ms\tremaining: 369ms\n",
      "603:\tlearn: 0.1055952\ttotal: 561ms\tremaining: 368ms\n",
      "604:\tlearn: 0.1053990\ttotal: 562ms\tremaining: 367ms\n",
      "605:\tlearn: 0.1052365\ttotal: 562ms\tremaining: 366ms\n",
      "606:\tlearn: 0.1050684\ttotal: 563ms\tremaining: 365ms\n",
      "607:\tlearn: 0.1048571\ttotal: 564ms\tremaining: 364ms\n",
      "608:\tlearn: 0.1046729\ttotal: 565ms\tremaining: 363ms\n",
      "609:\tlearn: 0.1045080\ttotal: 566ms\tremaining: 362ms\n",
      "610:\tlearn: 0.1043788\ttotal: 567ms\tremaining: 361ms\n",
      "611:\tlearn: 0.1042018\ttotal: 568ms\tremaining: 360ms\n",
      "612:\tlearn: 0.1040595\ttotal: 568ms\tremaining: 359ms\n",
      "613:\tlearn: 0.1038437\ttotal: 569ms\tremaining: 358ms\n",
      "614:\tlearn: 0.1037827\ttotal: 570ms\tremaining: 357ms\n",
      "615:\tlearn: 0.1037709\ttotal: 571ms\tremaining: 356ms\n"
     ]
    },
    {
     "name": "stdout",
     "output_type": "stream",
     "text": [
      "616:\tlearn: 0.1036562\ttotal: 572ms\tremaining: 355ms\n",
      "617:\tlearn: 0.1036436\ttotal: 573ms\tremaining: 354ms\n",
      "618:\tlearn: 0.1034698\ttotal: 574ms\tremaining: 353ms\n",
      "619:\tlearn: 0.1034221\ttotal: 575ms\tremaining: 352ms\n",
      "620:\tlearn: 0.1032844\ttotal: 576ms\tremaining: 351ms\n",
      "621:\tlearn: 0.1032666\ttotal: 576ms\tremaining: 350ms\n",
      "622:\tlearn: 0.1030742\ttotal: 577ms\tremaining: 349ms\n",
      "623:\tlearn: 0.1027863\ttotal: 578ms\tremaining: 348ms\n",
      "624:\tlearn: 0.1026165\ttotal: 579ms\tremaining: 347ms\n",
      "625:\tlearn: 0.1024507\ttotal: 580ms\tremaining: 346ms\n",
      "626:\tlearn: 0.1023099\ttotal: 581ms\tremaining: 345ms\n",
      "627:\tlearn: 0.1020698\ttotal: 581ms\tremaining: 344ms\n",
      "628:\tlearn: 0.1019340\ttotal: 582ms\tremaining: 343ms\n",
      "629:\tlearn: 0.1017737\ttotal: 583ms\tremaining: 343ms\n",
      "630:\tlearn: 0.1016511\ttotal: 584ms\tremaining: 342ms\n",
      "631:\tlearn: 0.1014478\ttotal: 585ms\tremaining: 341ms\n",
      "632:\tlearn: 0.1012732\ttotal: 586ms\tremaining: 340ms\n",
      "633:\tlearn: 0.1011158\ttotal: 587ms\tremaining: 339ms\n",
      "634:\tlearn: 0.1008664\ttotal: 588ms\tremaining: 338ms\n",
      "635:\tlearn: 0.1007348\ttotal: 588ms\tremaining: 337ms\n",
      "636:\tlearn: 0.1004946\ttotal: 589ms\tremaining: 336ms\n",
      "637:\tlearn: 0.1003776\ttotal: 590ms\tremaining: 335ms\n",
      "638:\tlearn: 0.1002216\ttotal: 591ms\tremaining: 334ms\n",
      "639:\tlearn: 0.0999924\ttotal: 592ms\tremaining: 333ms\n",
      "640:\tlearn: 0.0999275\ttotal: 593ms\tremaining: 332ms\n",
      "641:\tlearn: 0.0997363\ttotal: 593ms\tremaining: 331ms\n",
      "642:\tlearn: 0.0995668\ttotal: 594ms\tremaining: 330ms\n",
      "643:\tlearn: 0.0993873\ttotal: 595ms\tremaining: 329ms\n",
      "644:\tlearn: 0.0992034\ttotal: 596ms\tremaining: 328ms\n",
      "645:\tlearn: 0.0990063\ttotal: 597ms\tremaining: 327ms\n",
      "646:\tlearn: 0.0987300\ttotal: 598ms\tremaining: 326ms\n",
      "647:\tlearn: 0.0985913\ttotal: 598ms\tremaining: 325ms\n",
      "648:\tlearn: 0.0984035\ttotal: 599ms\tremaining: 324ms\n",
      "649:\tlearn: 0.0982866\ttotal: 600ms\tremaining: 323ms\n",
      "650:\tlearn: 0.0981480\ttotal: 601ms\tremaining: 322ms\n",
      "651:\tlearn: 0.0979120\ttotal: 602ms\tremaining: 321ms\n",
      "652:\tlearn: 0.0977175\ttotal: 602ms\tremaining: 320ms\n",
      "653:\tlearn: 0.0975929\ttotal: 603ms\tremaining: 319ms\n",
      "654:\tlearn: 0.0974501\ttotal: 604ms\tremaining: 318ms\n",
      "655:\tlearn: 0.0972795\ttotal: 605ms\tremaining: 317ms\n",
      "656:\tlearn: 0.0971096\ttotal: 606ms\tremaining: 316ms\n",
      "657:\tlearn: 0.0969143\ttotal: 607ms\tremaining: 315ms\n",
      "658:\tlearn: 0.0967563\ttotal: 607ms\tremaining: 314ms\n",
      "659:\tlearn: 0.0965561\ttotal: 608ms\tremaining: 313ms\n",
      "660:\tlearn: 0.0963895\ttotal: 609ms\tremaining: 312ms\n",
      "661:\tlearn: 0.0962439\ttotal: 610ms\tremaining: 311ms\n",
      "662:\tlearn: 0.0960378\ttotal: 611ms\tremaining: 310ms\n",
      "663:\tlearn: 0.0958417\ttotal: 612ms\tremaining: 310ms\n",
      "664:\tlearn: 0.0956667\ttotal: 613ms\tremaining: 309ms\n",
      "665:\tlearn: 0.0954242\ttotal: 613ms\tremaining: 308ms\n",
      "666:\tlearn: 0.0953140\ttotal: 614ms\tremaining: 307ms\n",
      "667:\tlearn: 0.0952015\ttotal: 615ms\tremaining: 306ms\n",
      "668:\tlearn: 0.0950808\ttotal: 616ms\tremaining: 305ms\n",
      "669:\tlearn: 0.0950698\ttotal: 617ms\tremaining: 304ms\n",
      "670:\tlearn: 0.0949439\ttotal: 618ms\tremaining: 303ms\n",
      "671:\tlearn: 0.0947441\ttotal: 618ms\tremaining: 302ms\n",
      "672:\tlearn: 0.0946122\ttotal: 619ms\tremaining: 301ms\n",
      "673:\tlearn: 0.0944867\ttotal: 620ms\tremaining: 300ms\n",
      "674:\tlearn: 0.0943070\ttotal: 621ms\tremaining: 299ms\n",
      "675:\tlearn: 0.0941448\ttotal: 622ms\tremaining: 298ms\n",
      "676:\tlearn: 0.0940008\ttotal: 623ms\tremaining: 297ms\n",
      "677:\tlearn: 0.0938252\ttotal: 624ms\tremaining: 296ms\n",
      "678:\tlearn: 0.0938155\ttotal: 624ms\tremaining: 295ms\n",
      "679:\tlearn: 0.0936541\ttotal: 625ms\tremaining: 294ms\n",
      "680:\tlearn: 0.0935188\ttotal: 626ms\tremaining: 293ms\n",
      "681:\tlearn: 0.0933914\ttotal: 627ms\tremaining: 292ms\n",
      "682:\tlearn: 0.0932533\ttotal: 627ms\tremaining: 291ms\n",
      "683:\tlearn: 0.0931222\ttotal: 628ms\tremaining: 290ms\n",
      "684:\tlearn: 0.0929988\ttotal: 629ms\tremaining: 289ms\n",
      "685:\tlearn: 0.0929012\ttotal: 630ms\tremaining: 288ms\n",
      "686:\tlearn: 0.0927314\ttotal: 631ms\tremaining: 287ms\n",
      "687:\tlearn: 0.0925811\ttotal: 631ms\tremaining: 286ms\n",
      "688:\tlearn: 0.0925540\ttotal: 632ms\tremaining: 285ms\n",
      "689:\tlearn: 0.0923900\ttotal: 633ms\tremaining: 284ms\n",
      "690:\tlearn: 0.0922305\ttotal: 634ms\tremaining: 283ms\n",
      "691:\tlearn: 0.0922151\ttotal: 635ms\tremaining: 282ms\n",
      "692:\tlearn: 0.0919845\ttotal: 636ms\tremaining: 282ms\n",
      "693:\tlearn: 0.0918282\ttotal: 637ms\tremaining: 281ms\n",
      "694:\tlearn: 0.0916696\ttotal: 638ms\tremaining: 280ms\n",
      "695:\tlearn: 0.0915108\ttotal: 639ms\tremaining: 279ms\n",
      "696:\tlearn: 0.0914670\ttotal: 640ms\tremaining: 278ms\n",
      "697:\tlearn: 0.0914572\ttotal: 640ms\tremaining: 277ms\n",
      "698:\tlearn: 0.0912526\ttotal: 641ms\tremaining: 276ms\n",
      "699:\tlearn: 0.0910881\ttotal: 642ms\tremaining: 275ms\n",
      "700:\tlearn: 0.0909482\ttotal: 643ms\tremaining: 274ms\n",
      "701:\tlearn: 0.0907950\ttotal: 644ms\tremaining: 273ms\n",
      "702:\tlearn: 0.0907004\ttotal: 645ms\tremaining: 272ms\n",
      "703:\tlearn: 0.0905040\ttotal: 646ms\tremaining: 271ms\n",
      "704:\tlearn: 0.0903471\ttotal: 646ms\tremaining: 270ms\n",
      "705:\tlearn: 0.0902546\ttotal: 647ms\tremaining: 269ms\n",
      "706:\tlearn: 0.0902457\ttotal: 648ms\tremaining: 268ms\n",
      "707:\tlearn: 0.0901588\ttotal: 649ms\tremaining: 267ms\n",
      "708:\tlearn: 0.0899145\ttotal: 649ms\tremaining: 267ms\n",
      "709:\tlearn: 0.0897593\ttotal: 650ms\tremaining: 266ms\n",
      "710:\tlearn: 0.0895955\ttotal: 651ms\tremaining: 265ms\n",
      "711:\tlearn: 0.0894538\ttotal: 652ms\tremaining: 264ms\n",
      "712:\tlearn: 0.0892613\ttotal: 653ms\tremaining: 263ms\n",
      "713:\tlearn: 0.0891059\ttotal: 654ms\tremaining: 262ms\n",
      "714:\tlearn: 0.0890221\ttotal: 655ms\tremaining: 261ms\n",
      "715:\tlearn: 0.0888427\ttotal: 656ms\tremaining: 260ms\n",
      "716:\tlearn: 0.0887556\ttotal: 657ms\tremaining: 259ms\n",
      "717:\tlearn: 0.0886424\ttotal: 658ms\tremaining: 258ms\n",
      "718:\tlearn: 0.0885502\ttotal: 659ms\tremaining: 257ms\n",
      "719:\tlearn: 0.0883743\ttotal: 660ms\tremaining: 257ms\n",
      "720:\tlearn: 0.0881936\ttotal: 661ms\tremaining: 256ms\n",
      "721:\tlearn: 0.0880779\ttotal: 661ms\tremaining: 255ms\n",
      "722:\tlearn: 0.0879170\ttotal: 662ms\tremaining: 254ms\n",
      "723:\tlearn: 0.0878034\ttotal: 663ms\tremaining: 253ms\n",
      "724:\tlearn: 0.0876834\ttotal: 664ms\tremaining: 252ms\n",
      "725:\tlearn: 0.0875562\ttotal: 665ms\tremaining: 251ms\n",
      "726:\tlearn: 0.0874845\ttotal: 666ms\tremaining: 250ms\n",
      "727:\tlearn: 0.0874145\ttotal: 667ms\tremaining: 249ms\n",
      "728:\tlearn: 0.0871318\ttotal: 668ms\tremaining: 248ms\n",
      "729:\tlearn: 0.0870263\ttotal: 669ms\tremaining: 247ms\n",
      "730:\tlearn: 0.0868474\ttotal: 670ms\tremaining: 247ms\n",
      "731:\tlearn: 0.0868094\ttotal: 671ms\tremaining: 246ms\n",
      "732:\tlearn: 0.0866889\ttotal: 672ms\tremaining: 245ms\n",
      "733:\tlearn: 0.0864919\ttotal: 673ms\tremaining: 244ms\n",
      "734:\tlearn: 0.0864596\ttotal: 674ms\tremaining: 243ms\n",
      "735:\tlearn: 0.0863715\ttotal: 675ms\tremaining: 242ms\n",
      "736:\tlearn: 0.0862277\ttotal: 676ms\tremaining: 241ms\n",
      "737:\tlearn: 0.0860420\ttotal: 676ms\tremaining: 240ms\n",
      "738:\tlearn: 0.0859205\ttotal: 677ms\tremaining: 239ms\n"
     ]
    },
    {
     "name": "stdout",
     "output_type": "stream",
     "text": [
      "739:\tlearn: 0.0858974\ttotal: 678ms\tremaining: 238ms\n",
      "740:\tlearn: 0.0857523\ttotal: 679ms\tremaining: 237ms\n",
      "741:\tlearn: 0.0856265\ttotal: 680ms\tremaining: 236ms\n",
      "742:\tlearn: 0.0854393\ttotal: 681ms\tremaining: 236ms\n",
      "743:\tlearn: 0.0854302\ttotal: 682ms\tremaining: 235ms\n",
      "744:\tlearn: 0.0852906\ttotal: 682ms\tremaining: 234ms\n",
      "745:\tlearn: 0.0852724\ttotal: 683ms\tremaining: 233ms\n",
      "746:\tlearn: 0.0851400\ttotal: 684ms\tremaining: 232ms\n",
      "747:\tlearn: 0.0850934\ttotal: 685ms\tremaining: 231ms\n",
      "748:\tlearn: 0.0850254\ttotal: 686ms\tremaining: 230ms\n",
      "749:\tlearn: 0.0848690\ttotal: 687ms\tremaining: 229ms\n",
      "750:\tlearn: 0.0847381\ttotal: 687ms\tremaining: 228ms\n",
      "751:\tlearn: 0.0846197\ttotal: 688ms\tremaining: 227ms\n",
      "752:\tlearn: 0.0845065\ttotal: 689ms\tremaining: 226ms\n",
      "753:\tlearn: 0.0844185\ttotal: 690ms\tremaining: 225ms\n",
      "754:\tlearn: 0.0843681\ttotal: 691ms\tremaining: 224ms\n",
      "755:\tlearn: 0.0842422\ttotal: 692ms\tremaining: 223ms\n",
      "756:\tlearn: 0.0841588\ttotal: 693ms\tremaining: 222ms\n",
      "757:\tlearn: 0.0840572\ttotal: 693ms\tremaining: 221ms\n",
      "758:\tlearn: 0.0840511\ttotal: 694ms\tremaining: 220ms\n",
      "759:\tlearn: 0.0839300\ttotal: 695ms\tremaining: 219ms\n",
      "760:\tlearn: 0.0837229\ttotal: 696ms\tremaining: 219ms\n",
      "761:\tlearn: 0.0835630\ttotal: 697ms\tremaining: 218ms\n",
      "762:\tlearn: 0.0835568\ttotal: 698ms\tremaining: 217ms\n",
      "763:\tlearn: 0.0834871\ttotal: 699ms\tremaining: 216ms\n",
      "764:\tlearn: 0.0833146\ttotal: 699ms\tremaining: 215ms\n",
      "765:\tlearn: 0.0832044\ttotal: 700ms\tremaining: 214ms\n",
      "766:\tlearn: 0.0831387\ttotal: 701ms\tremaining: 213ms\n",
      "767:\tlearn: 0.0831311\ttotal: 702ms\tremaining: 212ms\n",
      "768:\tlearn: 0.0830004\ttotal: 703ms\tremaining: 211ms\n",
      "769:\tlearn: 0.0828924\ttotal: 704ms\tremaining: 210ms\n",
      "770:\tlearn: 0.0827173\ttotal: 704ms\tremaining: 209ms\n",
      "771:\tlearn: 0.0825545\ttotal: 705ms\tremaining: 208ms\n",
      "772:\tlearn: 0.0824498\ttotal: 706ms\tremaining: 207ms\n",
      "773:\tlearn: 0.0822865\ttotal: 707ms\tremaining: 206ms\n",
      "774:\tlearn: 0.0822766\ttotal: 708ms\tremaining: 205ms\n",
      "775:\tlearn: 0.0821528\ttotal: 708ms\tremaining: 204ms\n",
      "776:\tlearn: 0.0819895\ttotal: 709ms\tremaining: 204ms\n",
      "777:\tlearn: 0.0818652\ttotal: 710ms\tremaining: 203ms\n",
      "778:\tlearn: 0.0817157\ttotal: 711ms\tremaining: 202ms\n",
      "779:\tlearn: 0.0815726\ttotal: 712ms\tremaining: 201ms\n",
      "780:\tlearn: 0.0814095\ttotal: 712ms\tremaining: 200ms\n",
      "781:\tlearn: 0.0812768\ttotal: 714ms\tremaining: 199ms\n",
      "782:\tlearn: 0.0811268\ttotal: 715ms\tremaining: 198ms\n",
      "783:\tlearn: 0.0810223\ttotal: 716ms\tremaining: 197ms\n",
      "784:\tlearn: 0.0809057\ttotal: 716ms\tremaining: 196ms\n",
      "785:\tlearn: 0.0807470\ttotal: 717ms\tremaining: 195ms\n",
      "786:\tlearn: 0.0805813\ttotal: 718ms\tremaining: 194ms\n",
      "787:\tlearn: 0.0803739\ttotal: 719ms\tremaining: 193ms\n",
      "788:\tlearn: 0.0801973\ttotal: 720ms\tremaining: 193ms\n",
      "789:\tlearn: 0.0799895\ttotal: 721ms\tremaining: 192ms\n",
      "790:\tlearn: 0.0798578\ttotal: 722ms\tremaining: 191ms\n",
      "791:\tlearn: 0.0797050\ttotal: 722ms\tremaining: 190ms\n",
      "792:\tlearn: 0.0796122\ttotal: 723ms\tremaining: 189ms\n",
      "793:\tlearn: 0.0794746\ttotal: 724ms\tremaining: 188ms\n",
      "794:\tlearn: 0.0793286\ttotal: 725ms\tremaining: 187ms\n",
      "795:\tlearn: 0.0792279\ttotal: 726ms\tremaining: 186ms\n",
      "796:\tlearn: 0.0791972\ttotal: 726ms\tremaining: 185ms\n",
      "797:\tlearn: 0.0790633\ttotal: 727ms\tremaining: 184ms\n",
      "798:\tlearn: 0.0788996\ttotal: 728ms\tremaining: 183ms\n",
      "799:\tlearn: 0.0787991\ttotal: 729ms\tremaining: 182ms\n",
      "800:\tlearn: 0.0787291\ttotal: 730ms\tremaining: 181ms\n",
      "801:\tlearn: 0.0786143\ttotal: 730ms\tremaining: 180ms\n",
      "802:\tlearn: 0.0785277\ttotal: 731ms\tremaining: 179ms\n",
      "803:\tlearn: 0.0783721\ttotal: 732ms\tremaining: 178ms\n",
      "804:\tlearn: 0.0782823\ttotal: 733ms\tremaining: 178ms\n",
      "805:\tlearn: 0.0780826\ttotal: 734ms\tremaining: 177ms\n",
      "806:\tlearn: 0.0779471\ttotal: 734ms\tremaining: 176ms\n",
      "807:\tlearn: 0.0777768\ttotal: 735ms\tremaining: 175ms\n",
      "808:\tlearn: 0.0776159\ttotal: 736ms\tremaining: 174ms\n",
      "809:\tlearn: 0.0774717\ttotal: 737ms\tremaining: 173ms\n",
      "810:\tlearn: 0.0774299\ttotal: 738ms\tremaining: 172ms\n",
      "811:\tlearn: 0.0773022\ttotal: 738ms\tremaining: 171ms\n",
      "812:\tlearn: 0.0772115\ttotal: 739ms\tremaining: 170ms\n",
      "813:\tlearn: 0.0770983\ttotal: 740ms\tremaining: 169ms\n",
      "814:\tlearn: 0.0768991\ttotal: 741ms\tremaining: 168ms\n",
      "815:\tlearn: 0.0768362\ttotal: 742ms\tremaining: 167ms\n",
      "816:\tlearn: 0.0768081\ttotal: 743ms\tremaining: 166ms\n",
      "817:\tlearn: 0.0767710\ttotal: 743ms\tremaining: 165ms\n",
      "818:\tlearn: 0.0766747\ttotal: 744ms\tremaining: 164ms\n",
      "819:\tlearn: 0.0764443\ttotal: 745ms\tremaining: 164ms\n",
      "820:\tlearn: 0.0762746\ttotal: 746ms\tremaining: 163ms\n",
      "821:\tlearn: 0.0762624\ttotal: 747ms\tremaining: 162ms\n",
      "822:\tlearn: 0.0761175\ttotal: 747ms\tremaining: 161ms\n",
      "823:\tlearn: 0.0759995\ttotal: 748ms\tremaining: 160ms\n",
      "824:\tlearn: 0.0759808\ttotal: 749ms\tremaining: 159ms\n",
      "825:\tlearn: 0.0758066\ttotal: 750ms\tremaining: 158ms\n",
      "826:\tlearn: 0.0757024\ttotal: 750ms\tremaining: 157ms\n",
      "827:\tlearn: 0.0755982\ttotal: 751ms\tremaining: 156ms\n",
      "828:\tlearn: 0.0755352\ttotal: 752ms\tremaining: 155ms\n",
      "829:\tlearn: 0.0754387\ttotal: 753ms\tremaining: 154ms\n",
      "830:\tlearn: 0.0753693\ttotal: 754ms\tremaining: 153ms\n",
      "831:\tlearn: 0.0752963\ttotal: 754ms\tremaining: 152ms\n",
      "832:\tlearn: 0.0752187\ttotal: 755ms\tremaining: 151ms\n",
      "833:\tlearn: 0.0750766\ttotal: 756ms\tremaining: 150ms\n",
      "834:\tlearn: 0.0750208\ttotal: 757ms\tremaining: 150ms\n",
      "835:\tlearn: 0.0749060\ttotal: 758ms\tremaining: 149ms\n",
      "836:\tlearn: 0.0748544\ttotal: 759ms\tremaining: 148ms\n",
      "837:\tlearn: 0.0747392\ttotal: 759ms\tremaining: 147ms\n",
      "838:\tlearn: 0.0746007\ttotal: 760ms\tremaining: 146ms\n",
      "839:\tlearn: 0.0745365\ttotal: 761ms\tremaining: 145ms\n"
     ]
    },
    {
     "name": "stdout",
     "output_type": "stream",
     "text": [
      "840:\tlearn: 0.0744100\ttotal: 762ms\tremaining: 144ms\n",
      "841:\tlearn: 0.0743309\ttotal: 763ms\tremaining: 143ms\n",
      "842:\tlearn: 0.0741952\ttotal: 764ms\tremaining: 142ms\n",
      "843:\tlearn: 0.0741016\ttotal: 765ms\tremaining: 141ms\n",
      "844:\tlearn: 0.0739951\ttotal: 765ms\tremaining: 140ms\n",
      "845:\tlearn: 0.0738801\ttotal: 766ms\tremaining: 139ms\n",
      "846:\tlearn: 0.0738738\ttotal: 767ms\tremaining: 139ms\n",
      "847:\tlearn: 0.0737247\ttotal: 768ms\tremaining: 138ms\n",
      "848:\tlearn: 0.0736973\ttotal: 769ms\tremaining: 137ms\n",
      "849:\tlearn: 0.0735978\ttotal: 769ms\tremaining: 136ms\n",
      "850:\tlearn: 0.0735667\ttotal: 770ms\tremaining: 135ms\n",
      "851:\tlearn: 0.0734457\ttotal: 771ms\tremaining: 134ms\n",
      "852:\tlearn: 0.0732709\ttotal: 772ms\tremaining: 133ms\n",
      "853:\tlearn: 0.0731232\ttotal: 773ms\tremaining: 132ms\n",
      "854:\tlearn: 0.0730426\ttotal: 773ms\tremaining: 131ms\n",
      "855:\tlearn: 0.0729193\ttotal: 774ms\tremaining: 130ms\n",
      "856:\tlearn: 0.0727309\ttotal: 775ms\tremaining: 129ms\n",
      "857:\tlearn: 0.0726392\ttotal: 776ms\tremaining: 128ms\n",
      "858:\tlearn: 0.0726140\ttotal: 776ms\tremaining: 127ms\n",
      "859:\tlearn: 0.0725152\ttotal: 777ms\tremaining: 127ms\n",
      "860:\tlearn: 0.0723945\ttotal: 778ms\tremaining: 126ms\n",
      "861:\tlearn: 0.0722625\ttotal: 779ms\tremaining: 125ms\n",
      "862:\tlearn: 0.0722046\ttotal: 780ms\tremaining: 124ms\n",
      "863:\tlearn: 0.0721427\ttotal: 781ms\tremaining: 123ms\n",
      "864:\tlearn: 0.0720345\ttotal: 782ms\tremaining: 122ms\n",
      "865:\tlearn: 0.0719925\ttotal: 782ms\tremaining: 121ms\n",
      "866:\tlearn: 0.0718575\ttotal: 783ms\tremaining: 120ms\n",
      "867:\tlearn: 0.0718508\ttotal: 784ms\tremaining: 119ms\n",
      "868:\tlearn: 0.0716771\ttotal: 785ms\tremaining: 118ms\n",
      "869:\tlearn: 0.0716639\ttotal: 786ms\tremaining: 117ms\n",
      "870:\tlearn: 0.0715551\ttotal: 787ms\tremaining: 117ms\n",
      "871:\tlearn: 0.0714682\ttotal: 788ms\tremaining: 116ms\n",
      "872:\tlearn: 0.0713933\ttotal: 788ms\tremaining: 115ms\n",
      "873:\tlearn: 0.0712922\ttotal: 789ms\tremaining: 114ms\n",
      "874:\tlearn: 0.0711906\ttotal: 790ms\tremaining: 113ms\n",
      "875:\tlearn: 0.0710831\ttotal: 791ms\tremaining: 112ms\n",
      "876:\tlearn: 0.0709587\ttotal: 792ms\tremaining: 111ms\n",
      "877:\tlearn: 0.0708898\ttotal: 793ms\tremaining: 110ms\n",
      "878:\tlearn: 0.0707394\ttotal: 794ms\tremaining: 109ms\n",
      "879:\tlearn: 0.0706291\ttotal: 795ms\tremaining: 108ms\n",
      "880:\tlearn: 0.0705351\ttotal: 795ms\tremaining: 107ms\n",
      "881:\tlearn: 0.0704468\ttotal: 796ms\tremaining: 107ms\n",
      "882:\tlearn: 0.0702938\ttotal: 797ms\tremaining: 106ms\n",
      "883:\tlearn: 0.0701361\ttotal: 798ms\tremaining: 105ms\n",
      "884:\tlearn: 0.0700511\ttotal: 799ms\tremaining: 104ms\n",
      "885:\tlearn: 0.0699811\ttotal: 800ms\tremaining: 103ms\n",
      "886:\tlearn: 0.0699264\ttotal: 800ms\tremaining: 102ms\n",
      "887:\tlearn: 0.0697734\ttotal: 801ms\tremaining: 101ms\n",
      "888:\tlearn: 0.0697674\ttotal: 802ms\tremaining: 100ms\n",
      "889:\tlearn: 0.0696095\ttotal: 803ms\tremaining: 99.2ms\n",
      "890:\tlearn: 0.0695037\ttotal: 804ms\tremaining: 98.3ms\n",
      "891:\tlearn: 0.0693684\ttotal: 804ms\tremaining: 97.4ms\n",
      "892:\tlearn: 0.0693608\ttotal: 805ms\tremaining: 96.5ms\n",
      "893:\tlearn: 0.0692133\ttotal: 806ms\tremaining: 95.6ms\n",
      "894:\tlearn: 0.0690869\ttotal: 807ms\tremaining: 94.7ms\n",
      "895:\tlearn: 0.0689343\ttotal: 808ms\tremaining: 93.8ms\n",
      "896:\tlearn: 0.0688003\ttotal: 809ms\tremaining: 92.9ms\n",
      "897:\tlearn: 0.0686995\ttotal: 810ms\tremaining: 92ms\n",
      "898:\tlearn: 0.0685607\ttotal: 810ms\tremaining: 91ms\n",
      "899:\tlearn: 0.0684298\ttotal: 811ms\tremaining: 90.1ms\n",
      "900:\tlearn: 0.0682975\ttotal: 812ms\tremaining: 89.2ms\n",
      "901:\tlearn: 0.0681945\ttotal: 813ms\tremaining: 88.3ms\n",
      "902:\tlearn: 0.0680954\ttotal: 814ms\tremaining: 87.4ms\n",
      "903:\tlearn: 0.0679399\ttotal: 814ms\tremaining: 86.5ms\n",
      "904:\tlearn: 0.0678818\ttotal: 815ms\tremaining: 85.6ms\n",
      "905:\tlearn: 0.0678772\ttotal: 816ms\tremaining: 84.7ms\n",
      "906:\tlearn: 0.0678077\ttotal: 817ms\tremaining: 83.8ms\n",
      "907:\tlearn: 0.0677734\ttotal: 818ms\tremaining: 82.8ms\n",
      "908:\tlearn: 0.0676666\ttotal: 819ms\tremaining: 81.9ms\n",
      "909:\tlearn: 0.0675532\ttotal: 819ms\tremaining: 81ms\n",
      "910:\tlearn: 0.0674017\ttotal: 820ms\tremaining: 80.1ms\n",
      "911:\tlearn: 0.0673620\ttotal: 821ms\tremaining: 79.2ms\n",
      "912:\tlearn: 0.0673019\ttotal: 822ms\tremaining: 78.3ms\n",
      "913:\tlearn: 0.0672960\ttotal: 823ms\tremaining: 77.4ms\n",
      "914:\tlearn: 0.0671988\ttotal: 824ms\tremaining: 76.5ms\n",
      "915:\tlearn: 0.0671707\ttotal: 824ms\tremaining: 75.6ms\n",
      "916:\tlearn: 0.0670311\ttotal: 825ms\tremaining: 74.7ms\n",
      "917:\tlearn: 0.0669136\ttotal: 826ms\tremaining: 73.8ms\n",
      "918:\tlearn: 0.0668104\ttotal: 827ms\tremaining: 72.9ms\n",
      "919:\tlearn: 0.0667353\ttotal: 828ms\tremaining: 72ms\n",
      "920:\tlearn: 0.0666694\ttotal: 829ms\tremaining: 71.1ms\n",
      "921:\tlearn: 0.0666066\ttotal: 829ms\tremaining: 70.2ms\n",
      "922:\tlearn: 0.0664769\ttotal: 830ms\tremaining: 69.3ms\n",
      "923:\tlearn: 0.0663221\ttotal: 831ms\tremaining: 68.4ms\n",
      "924:\tlearn: 0.0662696\ttotal: 832ms\tremaining: 67.5ms\n",
      "925:\tlearn: 0.0661702\ttotal: 833ms\tremaining: 66.5ms\n",
      "926:\tlearn: 0.0660760\ttotal: 834ms\tremaining: 65.7ms\n",
      "927:\tlearn: 0.0660166\ttotal: 834ms\tremaining: 64.7ms\n",
      "928:\tlearn: 0.0659695\ttotal: 835ms\tremaining: 63.8ms\n",
      "929:\tlearn: 0.0659283\ttotal: 836ms\tremaining: 62.9ms\n",
      "930:\tlearn: 0.0658962\ttotal: 837ms\tremaining: 62ms\n",
      "931:\tlearn: 0.0658360\ttotal: 838ms\tremaining: 61.1ms\n",
      "932:\tlearn: 0.0657613\ttotal: 839ms\tremaining: 60.2ms\n",
      "933:\tlearn: 0.0657178\ttotal: 839ms\tremaining: 59.3ms\n",
      "934:\tlearn: 0.0656621\ttotal: 840ms\tremaining: 58.4ms\n",
      "935:\tlearn: 0.0655557\ttotal: 841ms\tremaining: 57.5ms\n",
      "936:\tlearn: 0.0654196\ttotal: 842ms\tremaining: 56.6ms\n",
      "937:\tlearn: 0.0654003\ttotal: 843ms\tremaining: 55.7ms\n",
      "938:\tlearn: 0.0652587\ttotal: 843ms\tremaining: 54.8ms\n",
      "939:\tlearn: 0.0651739\ttotal: 844ms\tremaining: 53.9ms\n",
      "940:\tlearn: 0.0650857\ttotal: 845ms\tremaining: 53ms\n",
      "941:\tlearn: 0.0649150\ttotal: 846ms\tremaining: 52.1ms\n",
      "942:\tlearn: 0.0647759\ttotal: 847ms\tremaining: 51.2ms\n",
      "943:\tlearn: 0.0646852\ttotal: 848ms\tremaining: 50.3ms\n",
      "944:\tlearn: 0.0646022\ttotal: 849ms\tremaining: 49.4ms\n",
      "945:\tlearn: 0.0644613\ttotal: 849ms\tremaining: 48.5ms\n",
      "946:\tlearn: 0.0643928\ttotal: 850ms\tremaining: 47.6ms\n",
      "947:\tlearn: 0.0643175\ttotal: 851ms\tremaining: 46.7ms\n",
      "948:\tlearn: 0.0642478\ttotal: 852ms\tremaining: 45.8ms\n",
      "949:\tlearn: 0.0642158\ttotal: 853ms\tremaining: 44.9ms\n",
      "950:\tlearn: 0.0641668\ttotal: 853ms\tremaining: 44ms\n",
      "951:\tlearn: 0.0640835\ttotal: 854ms\tremaining: 43.1ms\n",
      "952:\tlearn: 0.0639748\ttotal: 855ms\tremaining: 42.2ms\n",
      "953:\tlearn: 0.0638878\ttotal: 856ms\tremaining: 41.3ms\n",
      "954:\tlearn: 0.0637194\ttotal: 857ms\tremaining: 40.4ms\n",
      "955:\tlearn: 0.0636671\ttotal: 858ms\tremaining: 39.5ms\n",
      "956:\tlearn: 0.0635644\ttotal: 858ms\tremaining: 38.6ms\n",
      "957:\tlearn: 0.0634074\ttotal: 859ms\tremaining: 37.7ms\n",
      "958:\tlearn: 0.0632920\ttotal: 860ms\tremaining: 36.8ms\n",
      "959:\tlearn: 0.0632272\ttotal: 861ms\tremaining: 35.9ms\n",
      "960:\tlearn: 0.0631487\ttotal: 862ms\tremaining: 35ms\n",
      "961:\tlearn: 0.0629570\ttotal: 862ms\tremaining: 34.1ms\n",
      "962:\tlearn: 0.0628427\ttotal: 863ms\tremaining: 33.2ms\n",
      "963:\tlearn: 0.0627169\ttotal: 864ms\tremaining: 32.3ms\n",
      "964:\tlearn: 0.0626200\ttotal: 865ms\tremaining: 31.4ms\n",
      "965:\tlearn: 0.0625174\ttotal: 866ms\tremaining: 30.5ms\n",
      "966:\tlearn: 0.0624537\ttotal: 866ms\tremaining: 29.6ms\n",
      "967:\tlearn: 0.0623545\ttotal: 867ms\tremaining: 28.7ms\n"
     ]
    },
    {
     "name": "stdout",
     "output_type": "stream",
     "text": [
      "968:\tlearn: 0.0622443\ttotal: 868ms\tremaining: 27.8ms\n",
      "969:\tlearn: 0.0620550\ttotal: 869ms\tremaining: 26.9ms\n",
      "970:\tlearn: 0.0619611\ttotal: 870ms\tremaining: 26ms\n",
      "971:\tlearn: 0.0619507\ttotal: 871ms\tremaining: 25.1ms\n",
      "972:\tlearn: 0.0618154\ttotal: 872ms\tremaining: 24.2ms\n",
      "973:\tlearn: 0.0617242\ttotal: 873ms\tremaining: 23.3ms\n",
      "974:\tlearn: 0.0616452\ttotal: 874ms\tremaining: 22.4ms\n",
      "975:\tlearn: 0.0615327\ttotal: 874ms\tremaining: 21.5ms\n",
      "976:\tlearn: 0.0614649\ttotal: 875ms\tremaining: 20.6ms\n",
      "977:\tlearn: 0.0613712\ttotal: 876ms\tremaining: 19.7ms\n",
      "978:\tlearn: 0.0613647\ttotal: 877ms\tremaining: 18.8ms\n",
      "979:\tlearn: 0.0612789\ttotal: 878ms\tremaining: 17.9ms\n",
      "980:\tlearn: 0.0611870\ttotal: 879ms\tremaining: 17ms\n",
      "981:\tlearn: 0.0610778\ttotal: 879ms\tremaining: 16.1ms\n",
      "982:\tlearn: 0.0610701\ttotal: 880ms\tremaining: 15.2ms\n",
      "983:\tlearn: 0.0610100\ttotal: 881ms\tremaining: 14.3ms\n",
      "984:\tlearn: 0.0609250\ttotal: 882ms\tremaining: 13.4ms\n",
      "985:\tlearn: 0.0608254\ttotal: 883ms\tremaining: 12.5ms\n",
      "986:\tlearn: 0.0607214\ttotal: 883ms\tremaining: 11.6ms\n",
      "987:\tlearn: 0.0606385\ttotal: 884ms\tremaining: 10.7ms\n",
      "988:\tlearn: 0.0605256\ttotal: 885ms\tremaining: 9.84ms\n",
      "989:\tlearn: 0.0604808\ttotal: 886ms\tremaining: 8.95ms\n",
      "990:\tlearn: 0.0604543\ttotal: 887ms\tremaining: 8.05ms\n",
      "991:\tlearn: 0.0604245\ttotal: 887ms\tremaining: 7.16ms\n",
      "992:\tlearn: 0.0602926\ttotal: 888ms\tremaining: 6.26ms\n",
      "993:\tlearn: 0.0601696\ttotal: 889ms\tremaining: 5.37ms\n",
      "994:\tlearn: 0.0601317\ttotal: 890ms\tremaining: 4.47ms\n",
      "995:\tlearn: 0.0600836\ttotal: 891ms\tremaining: 3.58ms\n",
      "996:\tlearn: 0.0599711\ttotal: 892ms\tremaining: 2.68ms\n",
      "997:\tlearn: 0.0599181\ttotal: 893ms\tremaining: 1.79ms\n",
      "998:\tlearn: 0.0598619\ttotal: 893ms\tremaining: 894us\n",
      "999:\tlearn: 0.0597876\ttotal: 894ms\tremaining: 0us\n"
     ]
    },
    {
     "data": {
      "text/plain": [
       "<catboost.core.CatBoostRegressor at 0x7f847970a430>"
      ]
     },
     "execution_count": 9,
     "metadata": {},
     "output_type": "execute_result"
    }
   ],
   "source": [
    "#Train the Model \n",
    "prior_model = ctb.CatBoostRegressor()\n",
    "prior_model.fit(X_train,Y_train)"
   ]
  },
  {
   "cell_type": "code",
   "execution_count": 10,
   "id": "af65dcda",
   "metadata": {
    "execution": {
     "iopub.execute_input": "2022-06-12T04:30:45.404259Z",
     "iopub.status.busy": "2022-06-12T04:30:45.403870Z",
     "iopub.status.idle": "2022-06-12T04:30:45.411590Z",
     "shell.execute_reply": "2022-06-12T04:30:45.411884Z"
    },
    "id": "af65dcda",
    "papermill": {
     "duration": 0.02208,
     "end_time": "2022-06-12T04:30:45.412012",
     "exception": false,
     "start_time": "2022-06-12T04:30:45.389932",
     "status": "completed"
    },
    "tags": []
   },
   "outputs": [
    {
     "data": {
      "application/scrapbook.scrap.json+json": {
       "data": 0.11426712183359573,
       "encoder": "json",
       "name": "Prior Model MSE",
       "version": 1
      }
     },
     "metadata": {
      "scrapbook": {
       "data": true,
       "display": false,
       "name": "Prior Model MSE"
      }
     },
     "output_type": "display_data"
    },
    {
     "data": {
      "application/scrapbook.scrap.json+json": {
       "data": 1.0452058224503886,
       "encoder": "json",
       "name": "ABC Pre-generator MSE",
       "version": 1
      }
     },
     "metadata": {
      "scrapbook": {
       "data": true,
       "display": false,
       "name": "ABC Pre-generator MSE"
      }
     },
     "output_type": "display_data"
    },
    {
     "data": {
      "application/scrapbook.scrap.json+json": {
       "data": 0.2159616077426878,
       "encoder": "json",
       "name": "Prior Model MSE",
       "version": 1
      }
     },
     "metadata": {
      "scrapbook": {
       "data": true,
       "display": false,
       "name": "Prior Model MSE"
      }
     },
     "output_type": "display_data"
    },
    {
     "data": {
      "application/scrapbook.scrap.json+json": {
       "data": 0.8433686838761819,
       "encoder": "json",
       "name": "ABC Pre-generator MSE",
       "version": 1
      }
     },
     "metadata": {
      "scrapbook": {
       "data": true,
       "display": false,
       "name": "ABC Pre-generator MSE"
      }
     },
     "output_type": "display_data"
    }
   ],
   "source": [
    "y_pred = prior_model.predict(X_test)\n",
    "y_abc = y_pred + np.random.normal(0,variance, y_pred.shape) + bias \n",
    "mse = mean_squared_error(y_pred,Y_test)\n",
    "sb.glue(\"Prior Model MSE\",mse)\n",
    "mse = mean_squared_error(y_abc,Y_test)\n",
    "sb.glue(\"ABC Pre-generator MSE\",mse)\n",
    "mae = mean_absolute_error(y_pred,Y_test)\n",
    "sb.glue(\"Prior Model MSE\",mae)\n",
    "mae = mean_absolute_error(y_abc,Y_test)\n",
    "sb.glue(\"ABC Pre-generator MSE\",mae)"
   ]
  },
  {
   "cell_type": "markdown",
   "id": "25609da2",
   "metadata": {
    "papermill": {
     "duration": 0.010128,
     "end_time": "2022-06-12T04:30:45.432373",
     "exception": false,
     "start_time": "2022-06-12T04:30:45.422245",
     "status": "completed"
    },
    "tags": []
   },
   "source": [
    "# ABC GAN Model"
   ]
  },
  {
   "cell_type": "code",
   "execution_count": 11,
   "id": "dfc3464d",
   "metadata": {
    "execution": {
     "iopub.execute_input": "2022-06-12T04:30:45.455149Z",
     "iopub.status.busy": "2022-06-12T04:30:45.454795Z",
     "iopub.status.idle": "2022-06-12T04:30:45.457183Z",
     "shell.execute_reply": "2022-06-12T04:30:45.457426Z"
    },
    "papermill": {
     "duration": 0.015361,
     "end_time": "2022-06-12T04:30:45.457539",
     "exception": false,
     "start_time": "2022-06-12T04:30:45.442178",
     "status": "completed"
    },
    "tags": []
   },
   "outputs": [],
   "source": [
    "gen = network.Generator(n_features+1).to(device)\n",
    "disc = network.Discriminator(n_features+1).to(device)\n",
    "\n",
    "criterion = torch.nn.BCELoss()\n",
    "gen_opt = torch.optim.Adam(gen.parameters(), lr=0.001, betas=(0.5, 0.999))\n",
    "disc_opt = torch.optim.Adam(disc.parameters(), lr=0.001, betas=(0.5, 0.999))"
   ]
  },
  {
   "cell_type": "code",
   "execution_count": 12,
   "id": "b75fdd85",
   "metadata": {
    "execution": {
     "iopub.execute_input": "2022-06-12T04:30:45.479986Z",
     "iopub.status.busy": "2022-06-12T04:30:45.479634Z",
     "iopub.status.idle": "2022-06-12T04:31:45.499787Z",
     "shell.execute_reply": "2022-06-12T04:31:45.500070Z"
    },
    "papermill": {
     "duration": 60.032733,
     "end_time": "2022-06-12T04:31:45.500193",
     "exception": false,
     "start_time": "2022-06-12T04:30:45.467460",
     "status": "completed"
    },
    "tags": []
   },
   "outputs": [
    {
     "data": {
      "image/png": "[encoded data removed]",
      "text/plain": [
       "<Figure size 432x288 with 1 Axes>"
      ]
     },
     "metadata": {
      "needs_background": "light"
     },
     "output_type": "display_data"
    },
    {
     "data": {
      "image/png": "[encoded data removed]",
      "text/plain": [
       "<Figure size 432x288 with 1 Axes>"
      ]
     },
     "metadata": {
      "needs_background": "light"
     },
     "output_type": "display_data"
    }
   ],
   "source": [
    "#Training the ABC_GAN \n",
    "ABC_train_test2.training_GAN(disc,gen,disc_opt,gen_opt,train_data,batch_size,n_epochs,criterion,prior_model,variance,bias,device)"
   ]
  },
  {
   "cell_type": "code",
   "execution_count": 13,
   "id": "1fa7c368",
   "metadata": {
    "execution": {
     "iopub.execute_input": "2022-06-12T04:31:45.525709Z",
     "iopub.status.busy": "2022-06-12T04:31:45.525334Z",
     "iopub.status.idle": "2022-06-12T04:31:45.826878Z",
     "shell.execute_reply": "2022-06-12T04:31:45.827248Z"
    },
    "papermill": {
     "duration": 0.316167,
     "end_time": "2022-06-12T04:31:45.827367",
     "exception": false,
     "start_time": "2022-06-12T04:31:45.511200",
     "status": "completed"
    },
    "tags": []
   },
   "outputs": [
    {
     "data": {
      "application/scrapbook.scrap.json+json": {
       "data": 0.2712174261073026,
       "encoder": "json",
       "name": "ABC-GAN Model 1 MSE",
       "version": 1
      }
     },
     "metadata": {
      "scrapbook": {
       "data": true,
       "display": false,
       "name": "ABC-GAN Model 1 MSE"
      }
     },
     "output_type": "display_data"
    },
    {
     "data": {
      "application/scrapbook.scrap.json+json": {
       "data": 0.2780806568317919,
       "encoder": "json",
       "name": "ABC-GAN Model 1 MAE",
       "version": 1
      }
     },
     "metadata": {
      "scrapbook": {
       "data": true,
       "display": false,
       "name": "ABC-GAN Model 1 MAE"
      }
     },
     "output_type": "display_data"
    },
    {
     "data": {
      "application/scrapbook.scrap.json+json": {
       "data": 28.36422699684277,
       "encoder": "json",
       "name": "ABC-GAN Model 1 Manhattan Distance",
       "version": 1
      }
     },
     "metadata": {
      "scrapbook": {
       "data": true,
       "display": false,
       "name": "ABC-GAN Model 1 Manhattan Distance"
      }
     },
     "output_type": "display_data"
    },
    {
     "data": {
      "application/scrapbook.scrap.json+json": {
       "data": 5.259659772906761,
       "encoder": "json",
       "name": "ABC-GAN Model 1 Euclidean distance",
       "version": 1
      }
     },
     "metadata": {
      "scrapbook": {
       "data": true,
       "display": false,
       "name": "ABC-GAN Model 1 Euclidean distance"
      }
     },
     "output_type": "display_data"
    },
    {
     "data": {
      "application/scrapbook.scrap.json+json": {
       "data": [
        [
         0.2712259980817936,
         0.27153748378871484,
         0.27010206566773376,
         0.2725975161412391,
         0.27326719069072797,
         0.2732102003928235,
         0.27052981237471657,
         0.27217071268329357,
         0.2689715551688433,
         0.26966433246779464,
         0.2674955167118981,
         0.2691335149798484,
         0.27144764107309266,
         0.27042874392224525,
         0.27049994070222483,
         0.27154497059999844,
         0.2731709483709351,
         0.2722651943480205,
         0.27138923893291195,
         0.27073622255386554,
         0.2685872106968702,
         0.27260157042204564,
         0.27074503307198255,
         0.27077396675599297,
         0.2720949916781456,
         0.2718200950497077,
         0.2735153025999807,
         0.27310273523120343,
         0.270448131900479,
         0.2711004085530797,
         0.2708322368044727,
         0.2691767705369743,
         0.27040794992628153,
         0.27133474358486126,
         0.2707070214200476,
         0.27012154624810253,
         0.2724557965421064,
         0.2717815309264259,
         0.2711023759925697,
         0.2733055039842702,
         0.27149608644804624,
         0.2715575847604865,
         0.27243409616410047,
         0.27237491340980274,
         0.27200464074755865,
         0.27165702641619477,
         0.2715134598743811,
         0.2713054561945338,
         0.2715470760129676,
         0.2705236082656919,
         0.27033106817318187,
         0.2709142847200696,
         0.2718512150376846,
         0.2708278591423033,
         0.2686156780012791,
         0.2725657316165604,
         0.27174278883311903,
         0.2717380395684831,
         0.2733551875123974,
         0.2714635586137748,
         0.27079701571973464,
         0.27235492014893975,
         0.2720411303935944,
         0.27015602708898984,
         0.27163438750021385,
         0.2728907181156362,
         0.2718258517488954,
         0.2709431961808188,
         0.27261490623552265,
         0.2718416513703144,
         0.27053716202321826,
         0.2711152780871817,
         0.27240360958666426,
         0.27352337033340685,
         0.2734442082107279,
         0.2711321440629636,
         0.2697562439656123,
         0.26988147624302533,
         0.26878271624446426,
         0.26884229528106757,
         0.2697665070449909,
         0.2703488667604426,
         0.2715369722194519,
         0.2712130350507292,
         0.2714268521026733,
         0.2720038101805774,
         0.2722263561454612,
         0.2684020221743927,
         0.2690620533132269,
         0.2715824659868626,
         0.2721670106055751,
         0.26937842046274535,
         0.27038640476106685,
         0.27204106253314686,
         0.273084222999378,
         0.2703723106470229,
         0.26896967295459806,
         0.2715364649098076,
         0.2715138611359532,
         0.27098284911022813
        ],
        [
         0.27811111658628956,
         0.2775697761909196,
         0.2773546787325804,
         0.27942714932392915,
         0.27945545860840115,
         0.27768402061808634,
         0.2771470613649809,
         0.2779080646897794,
         0.27701277441947775,
         0.27681784248709973,
         0.27601977208556205,
         0.2769480359046629,
         0.278507047835007,
         0.2765905966379625,
         0.2770829418874985,
         0.2782595557635467,
         0.27830427940752284,
         0.27853625884060473,
         0.2788686893752539,
         0.27802738230492846,
         0.27732668310294256,
         0.27861955788388265,
         0.2774957285956571,
         0.276382924395376,
         0.27783777985685304,
         0.27728111789032234,
         0.27930503328531686,
         0.27889129151498865,
         0.27803856210198763,
         0.2786017745897612,
         0.2773624380009578,
         0.2786663584867675,
         0.27887366322216156,
         0.278389116831343,
         0.27671888568347286,
         0.2781191093792372,
         0.2794114342963725,
         0.27846601551544725,
         0.2790023663775155,
         0.27902263493331914,
         0.2788967543245092,
         0.2758790712127937,
         0.27748247028748485,
         0.27961796964975255,
         0.280012601265209,
         0.28007372801977337,
         0.27900663227317674,
         0.2776876272104096,
         0.278000762695264,
         0.2789527395210576,
         0.278240180893929,
         0.2773292529688892,
         0.2786861008453165,
         0.2771883183706771,
         0.27678698590755757,
         0.2789210023121068,
         0.2783700089408633,
         0.2780127211693017,
         0.2789803558284892,
         0.27647952498941153,
         0.276603738056021,
         0.27849507183019145,
         0.278408030349323,
         0.2778643526447316,
         0.27753166070061863,
         0.278245246412196,
         0.27747862951318714,
         0.2785574185625449,
         0.28100932699025555,
         0.27971938739110735,
         0.27625081349419905,
         0.2763161108938648,
         0.2785358451325081,
         0.2773767136055611,
         0.2803193177826995,
         0.2782797301096805,
         0.27740897971442807,
         0.2779100830666721,
         0.2784699276546199,
         0.27840997705089987,
         0.2762521799452895,
         0.277676571206208,
         0.2784034446630554,
         0.27785691937577783,
         0.2791908521150403,
         0.27903185299981165,
         0.2789018789361067,
         0.277625234441503,
         0.2762002399574746,
         0.27754979884690223,
         0.27834231169967383,
         0.2787298966728735,
         0.27672579063686964,
         0.2803455997788,
         0.28013675321149184,
         0.27750809809339105,
         0.27668252122570197,
         0.2775906451210818,
         0.27780988269175094,
         0.2782650629113264
        ],
        [
         28.367333891801536,
         28.3121171714738,
         28.290177230723202,
         28.501569231040776,
         28.50445677805692,
         28.323770103044808,
         28.26900025922805,
         28.3466225983575,
         28.25530299078673,
         28.23541993368417,
         28.15401675272733,
         28.248699662275612,
         28.407718879170716,
         28.212240857072175,
         28.262460072524846,
         28.382474687881768,
         28.38703649956733,
         28.410698401741683,
         28.444606316275895,
         28.358792995102704,
         28.28732167650014,
         28.41919490415603,
         28.304564316757023,
         28.19105828832835,
         28.33945354539901,
         28.282674024812877,
         28.489113395102322,
         28.44691173452884,
         28.35993333440274,
         28.417381008155644,
         28.29096867609769,
         28.423968565650284,
         28.44511364866048,
         28.395689916796982,
         28.22532633971423,
         28.368149156682193,
         28.499966298229992,
         28.40353358257562,
         28.458241370506585,
         28.460308763198555,
         28.44746894109994,
         28.139665263704956,
         28.303211969323456,
         28.52103290427476,
         28.561285329051316,
         28.567520258016884,
         28.458676491864026,
         28.32413797546178,
         28.356077794916928,
         28.453179431147873,
         28.380498451180756,
         28.287583802826703,
         28.42598228622228,
         28.273208473809063,
         28.23227256257087,
         28.449942235834897,
         28.393740911968052,
         28.357297559268773,
         28.455996294505894,
         28.200911548919976,
         28.21358128171414,
         28.406497326679528,
         28.397619095630944,
         28.342163969762623,
         28.3082293914631,
         28.38101513404399,
         28.30282021034509,
         28.41285669337958,
         28.662951353006065,
         28.53137751389295,
         28.177582976408303,
         28.184243311174214,
         28.410656203515828,
         28.29242478776723,
         28.592570413835347,
         28.384532471187413,
         28.295715930871665,
         28.346828472800553,
         28.40393262077123,
         28.397817659191787,
         28.17772235441953,
         28.32301026303321,
         28.39715135563165,
         28.34140577632934,
         28.477466915734112,
         28.46124900598079,
         28.44799165148288,
         28.317773913033307,
         28.17242447566241,
         28.310079482384026,
         28.39091579336673,
         28.4304494606331,
         28.2260306449607,
         28.595251177437603,
         28.573948827572167,
         28.305826005525887,
         28.2216171650216,
         28.314245802350342,
         28.336608034558594,
         28.383036416955292
        ],
        [
         5.259757770500742,
         5.262777151509353,
         5.248848511636513,
         5.273039602203494,
         5.2795126148588984,
         5.278962060866511,
         5.253003032763362,
         5.2689100100206625,
         5.237852482384551,
         5.244593588803145,
         5.223460797652607,
         5.239429217762611,
         5.261906440583626,
         5.252021694554299,
         5.252713008686742,
         5.262849703459128,
         5.278582833851846,
         5.269824458508849,
         5.261340358801834,
         5.255006631822102,
         5.234108853575817,
         5.273078814416549,
         5.25509213747411,
         5.255372927691362,
         5.268177023522544,
         5.265515140522357,
         5.281908827800611,
         5.277923738894181,
         5.252209959040942,
         5.258539880272291,
         5.255938370458335,
         5.239850245452763,
         5.25181976961136,
         5.260812089939712,
         5.25472322628365,
         5.24903778966264,
         5.2716687345938995,
         5.265141608209169,
         5.258558961468635,
         5.2798827076361805,
         5.26237596696594,
         5.2629719404125295,
         5.271458793231551,
         5.270886184295757,
         5.267302284495449,
         5.263935475901264,
         5.2625443377882215,
         5.260528160920958,
         5.2628701060659555,
         5.252942798384594,
         5.251073124006611,
         5.256734446540657,
         5.265816549581254,
         5.255895892473037,
         5.234386225349679,
         5.272732178376706,
         5.2647663253916726,
         5.264720318875948,
         5.280362594203596,
         5.262060715974781,
         5.255596598238199,
         5.270692730105962,
         5.2676555791116995,
         5.249372797113667,
         5.263716132640685,
         5.275874642918924,
         5.265570897669818,
         5.257014933443076,
         5.273207793745977,
         5.265723923618866,
         5.253074388048228,
         5.258684090615496,
         5.271163835230295,
         5.281986726034768,
         5.281222324187294,
         5.258847658415509,
         5.245487287611367,
         5.246704735049284,
         5.236013469896287,
         5.236593751540107,
         5.245587070918665,
         5.251245986388863,
         5.262772194042232,
         5.259632076027216,
         5.261704943691985,
         5.267294242627697,
         5.269448579010619,
         5.232304106394052,
         5.23873357195698,
         5.263213042492199,
         5.26887417592873,
         5.24181255742706,
         5.251610542074576,
         5.267654922105374,
         5.277744854190712,
         5.2514736680284635,
         5.237834155580814,
         5.26276727784921,
         5.262548226464744,
         5.257399605246235
        ]
       ],
       "encoder": "json",
       "name": "ABC_GAN_1 Metrics",
       "version": 1
      }
     },
     "metadata": {
      "scrapbook": {
       "data": true,
       "display": false,
       "name": "ABC_GAN_1 Metrics"
      }
     },
     "output_type": "display_data"
    },
    {
     "name": "stdout",
     "output_type": "stream",
     "text": [
      "MSE\n",
      "0.2712174261073026\n"
     ]
    }
   ],
   "source": [
    "ABC_GAN1_metrics=ABC_train_test2.test_generator(gen,test_data,prior_model,variance,bias,\"1\",device)\n",
    "sb.glue(\"ABC_GAN_1 Metrics\",ABC_GAN1_metrics)\n",
    "\n",
    "print(\"MSE\")\n",
    "print(mean(ABC_GAN1_metrics[0]))"
   ]
  },
  {
   "cell_type": "code",
   "execution_count": 14,
   "id": "eb22ce5c",
   "metadata": {
    "execution": {
     "iopub.execute_input": "2022-06-12T04:31:45.856168Z",
     "iopub.status.busy": "2022-06-12T04:31:45.855703Z",
     "iopub.status.idle": "2022-06-12T04:31:46.180572Z",
     "shell.execute_reply": "2022-06-12T04:31:46.180878Z"
    },
    "papermill": {
     "duration": 0.340794,
     "end_time": "2022-06-12T04:31:46.181001",
     "exception": false,
     "start_time": "2022-06-12T04:31:45.840207",
     "status": "completed"
    },
    "tags": []
   },
   "outputs": [
    {
     "data": {
      "image/png": "[encoded data removed]",
      "text/plain": [
       "<Figure size 432x288 with 1 Axes>"
      ]
     },
     "metadata": {
      "needs_background": "light"
     },
     "output_type": "display_data"
    },
    {
     "data": {
      "image/png": "[encoded data removed]",
      "text/plain": [
       "<Figure size 432x288 with 1 Axes>"
      ]
     },
     "metadata": {
      "needs_background": "light"
     },
     "output_type": "display_data"
    },
    {
     "data": {
      "image/png": "[encoded data removed]",
      "text/plain": [
       "<Figure size 432x288 with 1 Axes>"
      ]
     },
     "metadata": {
      "needs_background": "light"
     },
     "output_type": "display_data"
    },
    {
     "data": {
      "image/png": "[encoded data removed]",
      "text/plain": [
       "<Figure size 432x288 with 1 Axes>"
      ]
     },
     "metadata": {
      "needs_background": "light"
     },
     "output_type": "display_data"
    }
   ],
   "source": [
    "sanityChecks.discProbVsError(train_data,disc,device)\n",
    "sanityChecks.discProbVsError(test_data,disc,device)"
   ]
  },
  {
   "cell_type": "markdown",
   "id": "130f3a4d",
   "metadata": {
    "id": "130f3a4d",
    "papermill": {
     "duration": 0.014455,
     "end_time": "2022-06-12T04:31:46.210419",
     "exception": false,
     "start_time": "2022-06-12T04:31:46.195964",
     "status": "completed"
    },
    "tags": []
   },
   "source": [
    "# ABC - GAN Model with skip connection"
   ]
  },
  {
   "cell_type": "code",
   "execution_count": 15,
   "id": "4e43dad1",
   "metadata": {
    "execution": {
     "iopub.execute_input": "2022-06-12T04:31:46.244445Z",
     "iopub.status.busy": "2022-06-12T04:31:46.243979Z",
     "iopub.status.idle": "2022-06-12T04:31:46.245917Z",
     "shell.execute_reply": "2022-06-12T04:31:46.246155Z"
    },
    "id": "4e43dad1",
    "papermill": {
     "duration": 0.021253,
     "end_time": "2022-06-12T04:31:46.246270",
     "exception": false,
     "start_time": "2022-06-12T04:31:46.225017",
     "status": "completed"
    },
    "tags": []
   },
   "outputs": [],
   "source": [
    "#Generator\n",
    "gen3 = network.GeneratorWithSkipConnection(n_features+1).to(device)\n",
    "constraints=network.weightConstraint()\n",
    "#Discriminator \n",
    "disc3 = network.Discriminator(n_features+1).to(device)\n",
    "\n",
    "criterion = torch.nn.BCELoss()\n",
    "gen_opt = torch.optim.Adam(gen3.parameters(), lr=0.001, betas=(0.5, 0.999))\n",
    "disc_opt = torch.optim.Adam(disc3.parameters(), lr=0.001, betas=(0.5, 0.999))\n"
   ]
  },
  {
   "cell_type": "code",
   "execution_count": 16,
   "id": "26acbc37",
   "metadata": {
    "execution": {
     "iopub.execute_input": "2022-06-12T04:31:46.278718Z",
     "iopub.status.busy": "2022-06-12T04:31:46.278351Z",
     "iopub.status.idle": "2022-06-12T04:40:00.462396Z",
     "shell.execute_reply": "2022-06-12T04:40:00.462713Z"
    },
    "id": "26acbc37",
    "papermill": {
     "duration": 494.201683,
     "end_time": "2022-06-12T04:40:00.462836",
     "exception": false,
     "start_time": "2022-06-12T04:31:46.261153",
     "status": "completed"
    },
    "tags": []
   },
   "outputs": [
    {
     "data": {
      "image/png": "[encoded data removed]",
      "text/plain": [
       "<Figure size 432x288 with 1 Axes>"
      ]
     },
     "metadata": {
      "needs_background": "light"
     },
     "output_type": "display_data"
    },
    {
     "data": {
      "image/png": "[encoded data removed]",
      "text/plain": [
       "<Figure size 432x288 with 1 Axes>"
      ]
     },
     "metadata": {
      "needs_background": "light"
     },
     "output_type": "display_data"
    }
   ],
   "source": [
    "ABC_train_test2.training_GAN_skip_connection(disc3,gen3,disc_opt,gen_opt,train_data,batch_size,n_epochs,criterion,prior_model,variance,bias,device)"
   ]
  },
  {
   "cell_type": "code",
   "execution_count": 17,
   "id": "c5e0717b",
   "metadata": {
    "execution": {
     "iopub.execute_input": "2022-06-12T04:40:00.496742Z",
     "iopub.status.busy": "2022-06-12T04:40:00.496345Z",
     "iopub.status.idle": "2022-06-12T04:40:01.306308Z",
     "shell.execute_reply": "2022-06-12T04:40:01.306682Z"
    },
    "id": "c5e0717b",
    "papermill": {
     "duration": 0.8283,
     "end_time": "2022-06-12T04:40:01.306803",
     "exception": false,
     "start_time": "2022-06-12T04:40:00.478503",
     "status": "completed"
    },
    "tags": []
   },
   "outputs": [
    {
     "data": {
      "application/scrapbook.scrap.json+json": {
       "data": 0.13214385431191797,
       "encoder": "json",
       "name": "ABC-GAN Model 3 MSE",
       "version": 1
      }
     },
     "metadata": {
      "scrapbook": {
       "data": true,
       "display": false,
       "name": "ABC-GAN Model 3 MSE"
      }
     },
     "output_type": "display_data"
    },
    {
     "data": {
      "application/scrapbook.scrap.json+json": {
       "data": 0.23022697577239287,
       "encoder": "json",
       "name": "ABC-GAN Model 3 MAE",
       "version": 1
      }
     },
     "metadata": {
      "scrapbook": {
       "data": true,
       "display": false,
       "name": "ABC-GAN Model 3 MAE"
      }
     },
     "output_type": "display_data"
    },
    {
     "data": {
      "application/scrapbook.scrap.json+json": {
       "data": 23.483151528784074,
       "encoder": "json",
       "name": "ABC-GAN Model 3 Manhattan Distance",
       "version": 1
      }
     },
     "metadata": {
      "scrapbook": {
       "data": true,
       "display": false,
       "name": "ABC-GAN Model 3 Manhattan Distance"
      }
     },
     "output_type": "display_data"
    },
    {
     "data": {
      "application/scrapbook.scrap.json+json": {
       "data": 3.670109637926733,
       "encoder": "json",
       "name": "ABC-GAN Model 3 Euclidean distance",
       "version": 1
      }
     },
     "metadata": {
      "scrapbook": {
       "data": true,
       "display": false,
       "name": "ABC-GAN Model 3 Euclidean distance"
      }
     },
     "output_type": "display_data"
    },
    {
     "data": {
      "application/scrapbook.scrap.json+json": {
       "data": [
        [
         0.13446804807145465,
         0.1381077814977147,
         0.13592551298016456,
         0.12881623235084358,
         0.12803692648569104,
         0.13283619629244803,
         0.136021365273138,
         0.11772401108846671,
         0.14241308319229562,
         0.13113870053496124,
         0.13473638659527626,
         0.1264035920719976,
         0.14558126405645136,
         0.13338456277411648,
         0.12722852751493857,
         0.12674894131869882,
         0.12344657714292329,
         0.13254923915811423,
         0.11623045711360308,
         0.1357128792607131,
         0.13358665057036143,
         0.13106690833184426,
         0.13710580117731747,
         0.13066724291754567,
         0.14425484671171793,
         0.13559265948576252,
         0.13255854237917591,
         0.13692425001409672,
         0.12851944557148437,
         0.12876680186515305,
         0.14002767404999653,
         0.13235563443323492,
         0.1321337600085284,
         0.12856087944854092,
         0.13065847837539196,
         0.13672218479960122,
         0.12789329090368426,
         0.13824243323094515,
         0.13234009674714528,
         0.13532272586951608,
         0.13155574825737568,
         0.1282363351629464,
         0.1379208445509067,
         0.13054390229006108,
         0.13905756962283414,
         0.14073407927379364,
         0.13095990384745965,
         0.11992469787484619,
         0.13334088437763128,
         0.13098138214365962,
         0.13076942802915156,
         0.12574798081636718,
         0.13692480308236352,
         0.13658426029208787,
         0.13772432328678064,
         0.1354451184400296,
         0.13997769484910308,
         0.1391242784269743,
         0.11794591447279852,
         0.11817000847880198,
         0.14319566604489128,
         0.1351847648047415,
         0.1410767810678694,
         0.14170495423054388,
         0.1255361066333271,
         0.11933681305572573,
         0.1299664595687113,
         0.12156236412305897,
         0.11854837277287462,
         0.12811458412634266,
         0.13873383522200242,
         0.11911840982752009,
         0.12312432552499672,
         0.1250317988845797,
         0.14496932636212465,
         0.12489304523147621,
         0.13862715254809974,
         0.14098847840871773,
         0.12557362090511542,
         0.133916368313346,
         0.1258260813360144,
         0.13328908494876815,
         0.1348653542789612,
         0.12490015597803059,
         0.13429280419325476,
         0.12991619042925506,
         0.12265585510522244,
         0.14588935703887376,
         0.13517612869229317,
         0.13084125363851234,
         0.1330182938359096,
         0.13546127028167054,
         0.12913771078665195,
         0.14136875844272315,
         0.12621889037194953,
         0.1393363373687934,
         0.13070480721163846,
         0.13957472374266816,
         0.12974059737480664,
         0.13048879923870765
        ],
        [
         0.22768171316962324,
         0.23711747233299355,
         0.23195988344320773,
         0.2255788523174238,
         0.2282753360603808,
         0.22872903982323467,
         0.22580190564450972,
         0.22454913766762497,
         0.24408486858923353,
         0.23023699639438122,
         0.22781877547465995,
         0.23093307714945838,
         0.24052782008862672,
         0.2283056156216737,
         0.23108702016921312,
         0.22891109161918946,
         0.22730384304133408,
         0.2254086087421313,
         0.2213505047336951,
         0.24043132082613952,
         0.23361718956855873,
         0.21742453717389235,
         0.23788354088387945,
         0.2281242214855464,
         0.24199100827579112,
         0.2403541627047839,
         0.23037221362156904,
         0.23359485775889718,
         0.23307484365524908,
         0.23534942987174087,
         0.2333735459411115,
         0.23226634733488455,
         0.2256602590045362,
         0.2282388048593466,
         0.237680873495764,
         0.23285943513516993,
         0.22359268832038723,
         0.232622311569239,
         0.22977400555585822,
         0.2411105007061041,
         0.22903334395959973,
         0.22760212164846996,
         0.23263167212808541,
         0.2277379514850384,
         0.23783351259086938,
         0.23435106313805662,
         0.223375314253145,
         0.22396747796230165,
         0.22954559644830286,
         0.21502207653304817,
         0.2331074055777315,
         0.2244021380776722,
         0.23428480622048178,
         0.22220624233687333,
         0.23113055655951886,
         0.22893406329311283,
         0.2398472140068371,
         0.23626488327578293,
         0.21634300366299702,
         0.21683497883050756,
         0.2318714144091834,
         0.2312796414537611,
         0.24151482910611757,
         0.230332105794885,
         0.23095188285315446,
         0.2181961974220387,
         0.22980526472240978,
         0.21230190498389157,
         0.22051463189407014,
         0.22964912392746875,
         0.24089028652501748,
         0.22659986830480836,
         0.22674268873992795,
         0.22489351917094752,
         0.2395042765830808,
         0.2221022699959576,
         0.24121047296177814,
         0.23996118341992592,
         0.22250511047119895,
         0.23685353200919196,
         0.21814040805888818,
         0.2333263461843279,
         0.23263675408145668,
         0.21603589975183793,
         0.2327463211236047,
         0.22601040364151784,
         0.22709828099308937,
         0.24086448943753744,
         0.2280477945254568,
         0.23287891577381423,
         0.22651816447101095,
         0.23549135112404532,
         0.22546831265493644,
         0.24127873118199847,
         0.23085323086592788,
         0.23127617653660185,
         0.22622028835957833,
         0.2389132117797785,
         0.23234719128402717,
         0.22935201884156056
        ],
        [
         23.22353474330157,
         24.185982177965343,
         23.659908111207187,
         23.009042936377227,
         23.284084278158844,
         23.330362061969936,
         23.03179437573999,
         22.904012042097747,
         24.89665659610182,
         23.484173632226884,
         23.237515098415315,
         23.555173869244754,
         24.533837649039924,
         23.28717279341072,
         23.57087605725974,
         23.348931345157325,
         23.184991990216076,
         22.991678091697395,
         22.577751482836902,
         24.52399472426623,
         23.828953335992992,
         22.17730279173702,
         24.264121170155704,
         23.268670591525733,
         24.683082844130695,
         24.51612459588796,
         23.49796578940004,
         23.826675491407514,
         23.773634052835405,
         24.00564184691757,
         23.804101685993373,
         23.691167428158224,
         23.017346418462694,
         23.280358095653355,
         24.24344909656793,
         23.751662383787334,
         22.806454208679497,
         23.727475780062377,
         23.436948566697538,
         24.593271072022617,
         23.361401083879173,
         23.215416408143938,
         23.728430557064712,
         23.229271051473916,
         24.259018284268677,
         23.903808440081775,
         22.78428205382079,
         22.844682752154768,
         23.41365083772689,
         21.932251806370914,
         23.77695536892861,
         22.889018083922565,
         23.897050234489143,
         22.66503671836108,
         23.575316769070923,
         23.35127445589751,
         24.464415828697383,
         24.09901809412986,
         22.066986373625696,
         22.117167840711772,
         23.650884269736707,
         23.590523428283632,
         24.634512568823993,
         23.49387479107827,
         23.557092051021755,
         22.256012137047946,
         23.440137001685798,
         21.65479430835694,
         22.492492453195155,
         23.424210640601814,
         24.570809225551784,
         23.11318656709045,
         23.127754251472652,
         22.939138955436647,
         24.42943621147424,
         22.654431539587677,
         24.60346824210137,
         24.476040708832443,
         22.695521268062294,
         24.15906026493758,
         22.250321622006595,
         23.799287310801446,
         23.728948916308582,
         22.03566177468747,
         23.740124754607677,
         23.05306117143482,
         23.164024661295116,
         24.56817792262882,
         23.26087504159659,
         23.75364940892905,
         23.104852776043117,
         24.02011781465262,
         22.997767890803516,
         24.610430580563843,
         23.547029548324645,
         23.590170006733388,
         23.07446941267699,
         24.369147601537406,
         23.69941351097077,
         23.393905921839178
        ],
        [
         3.7034768668493636,
         3.753264407521391,
         3.723493295814668,
         3.62481112608451,
         3.6138298938301565,
         3.6809362968991595,
         3.724805935597192,
         3.4652343544158164,
         3.8113166341323765,
         3.6573415829760894,
         3.707170272959981,
         3.590705556202535,
         3.8534775117753104,
         3.6885261830384075,
         3.6024033375683704,
         3.595607322067759,
         3.54845753371492,
         3.676958307368693,
         3.4431826302982413,
         3.7205797511399665,
         3.691319324872459,
         3.6563403356153974,
         3.7396245426628574,
         3.6507613969677144,
         3.835882475336702,
         3.7189314685199264,
         3.6770873422691417,
         3.7371477762376304,
         3.6206330176215604,
         3.624115587318596,
         3.779262196924109,
         3.6742719975785634,
         3.6711910221166506,
         3.621216605472693,
         3.650638956989581,
         3.734389220416014,
         3.6118022747896648,
         3.7550936325951185,
         3.6740563234943493,
         3.7152278582464677,
         3.6631525114649968,
         3.6166429443090644,
         3.750723416114881,
         3.649037960008943,
         3.7661481783818704,
         3.7887829293754685,
         3.6548474923642003,
         3.497473256971997,
         3.6879222072216207,
         3.655147189738504,
         3.6521886121849536,
         3.5813815830304168,
         3.7371553238260082,
         3.7325051305782506,
         3.7480502898509283,
         3.716907596495105,
         3.778587682535435,
         3.7670514198178098,
         3.4684987063894734,
         3.4717921690155644,
         3.821774187020854,
         3.713333544146504,
         3.7933931603411053,
         3.801829208619908,
         3.578363156053248,
         3.4888902149084635,
         3.640958510613456,
         3.521272659217405,
         3.477345830203434,
         3.6149256674082455,
         3.7617617139638506,
         3.485696171843876,
         3.5438229644763104,
         3.5711683643069994,
         3.845370110787349,
         3.5691862677101303,
         3.7603150878491785,
         3.792205795798694,
         3.5788977817649075,
         3.6958719631450014,
         3.5824935863548264,
         3.6872058072169436,
         3.708944072974685,
         3.569287871517107,
         3.701062824069862,
         3.6402543075702845,
         3.5370746699402162,
         3.8575529054006665,
         3.7132149313787246,
         3.6531914637927554,
         3.6834584253474043,
         3.7171292106584612,
         3.629331412290492,
         3.7973166000687595,
         3.5880812167422924,
         3.769921273928267,
         3.651286120750758,
         3.77314481855019,
         3.6377934152766667,
         3.648267742689423
        ]
       ],
       "encoder": "json",
       "name": "ABC_GAN_3 Metrics",
       "version": 1
      }
     },
     "metadata": {
      "scrapbook": {
       "data": true,
       "display": false,
       "name": "ABC_GAN_3 Metrics"
      }
     },
     "output_type": "display_data"
    },
    {
     "name": "stdout",
     "output_type": "stream",
     "text": [
      "MSE\n",
      "0.13214385431191797\n"
     ]
    }
   ],
   "source": [
    "ABC_GAN3_metrics=ABC_train_test2.test_generator(gen3,test_data,prior_model,variance,bias,\"3\",device)\n",
    "sb.glue(\"ABC_GAN_3 Metrics\",ABC_GAN3_metrics)\n",
    "\n",
    "print(\"MSE\")\n",
    "print(mean(ABC_GAN3_metrics[0]))"
   ]
  },
  {
   "cell_type": "code",
   "execution_count": 18,
   "id": "c8e46b48",
   "metadata": {
    "execution": {
     "iopub.execute_input": "2022-06-12T04:40:01.343773Z",
     "iopub.status.busy": "2022-06-12T04:40:01.343400Z",
     "iopub.status.idle": "2022-06-12T04:40:01.677792Z",
     "shell.execute_reply": "2022-06-12T04:40:01.678093Z"
    },
    "id": "c8e46b48",
    "papermill": {
     "duration": 0.354071,
     "end_time": "2022-06-12T04:40:01.678217",
     "exception": false,
     "start_time": "2022-06-12T04:40:01.324146",
     "status": "completed"
    },
    "tags": []
   },
   "outputs": [
    {
     "data": {
      "image/png": "[encoded data removed]",
      "text/plain": [
       "<Figure size 432x288 with 1 Axes>"
      ]
     },
     "metadata": {
      "needs_background": "light"
     },
     "output_type": "display_data"
    },
    {
     "data": {
      "image/png": "[encoded data removed]",
      "text/plain": [
       "<Figure size 432x288 with 1 Axes>"
      ]
     },
     "metadata": {
      "needs_background": "light"
     },
     "output_type": "display_data"
    },
    {
     "data": {
      "image/png": "[encoded data removed]",
      "text/plain": [
       "<Figure size 432x288 with 1 Axes>"
      ]
     },
     "metadata": {
      "needs_background": "light"
     },
     "output_type": "display_data"
    },
    {
     "data": {
      "image/png": "[encoded data removed]",
      "text/plain": [
       "<Figure size 432x288 with 1 Axes>"
      ]
     },
     "metadata": {
      "needs_background": "light"
     },
     "output_type": "display_data"
    }
   ],
   "source": [
    "sanityChecks.discProbVsError(train_data,disc3,device)\n",
    "sanityChecks.discProbVsError(test_data,disc3,device)"
   ]
  },
  {
   "cell_type": "markdown",
   "id": "a5bd74c3",
   "metadata": {
    "id": "a5bd74c3",
    "papermill": {
     "duration": 0.01979,
     "end_time": "2022-06-12T04:40:01.717840",
     "exception": false,
     "start_time": "2022-06-12T04:40:01.698050",
     "status": "completed"
    },
    "tags": []
   },
   "source": [
    "## Skip Connection Model Analysis - ABC-GAN "
   ]
  },
  {
   "cell_type": "markdown",
   "id": "5744a8bf",
   "metadata": {
    "id": "5744a8bf",
    "papermill": {
     "duration": 0.019508,
     "end_time": "2022-06-12T04:40:01.757047",
     "exception": false,
     "start_time": "2022-06-12T04:40:01.737539",
     "status": "completed"
    },
    "tags": []
   },
   "source": [
    "### Weight Analysis \n",
    "\n",
    "Study the weights of the skip connection layer\n",
    "\n",
    "Equation of the skip connection is \n",
    "\n",
    "$output = y_{gan} * w + y_{abc} * (1-w)$"
   ]
  },
  {
   "cell_type": "code",
   "execution_count": 19,
   "id": "52c31dea",
   "metadata": {
    "execution": {
     "iopub.execute_input": "2022-06-12T04:40:01.798828Z",
     "iopub.status.busy": "2022-06-12T04:40:01.798410Z",
     "iopub.status.idle": "2022-06-12T04:40:01.801790Z",
     "shell.execute_reply": "2022-06-12T04:40:01.802029Z"
    },
    "id": "52c31dea",
    "papermill": {
     "duration": 0.025634,
     "end_time": "2022-06-12T04:40:01.802139",
     "exception": false,
     "start_time": "2022-06-12T04:40:01.776505",
     "status": "completed"
    },
    "tags": []
   },
   "outputs": [
    {
     "name": "stdout",
     "output_type": "stream",
     "text": [
      "Weight of the node at skip connection\n",
      "Parameter containing:\n",
      "tensor([[0.4012]], requires_grad=True)\n"
     ]
    },
    {
     "data": {
      "application/scrapbook.scrap.json+json": {
       "data": 0.4012383222579956,
       "encoder": "json",
       "name": "Skip Connection Weight",
       "version": 1
      }
     },
     "metadata": {
      "scrapbook": {
       "data": true,
       "display": false,
       "name": "Skip Connection Weight"
      }
     },
     "output_type": "display_data"
    }
   ],
   "source": [
    "print(\"Weight of the node at skip connection\")\n",
    "for name,param in gen3.named_parameters():\n",
    "    if(name == \"skipNode.weight\"):\n",
    "        print(param)\n",
    "        sb.glue(\"Skip Connection Weight\",param.item())"
   ]
  }
 ],
 "metadata": {
  "colab": {
   "collapsed_sections": [],
   "name": "ABC_GAN_Model-Catboost_Pre-gen.ipynb",
   "provenance": []
  },
  "interpreter": {
   "hash": "31f2aee4e71d21fbe5cf8b01ff0e069b9275f58929596ceb00d14d90e3e16cd6"
  },
  "kernelspec": {
   "display_name": "Python 3 (ipykernel)",
   "language": "python",
   "name": "python3"
  },
  "language_info": {
   "codemirror_mode": {
    "name": "ipython",
    "version": 3
   },
   "file_extension": ".py",
   "mimetype": "text/x-python",
   "name": "python",
   "nbconvert_exporter": "python",
   "pygments_lexer": "ipython3",
   "version": "3.8.11"
  },
  "papermill": {
   "default_parameters": {},
   "duration": 560.325053,
   "end_time": "2022-06-12T04:40:02.129495",
   "environment_variables": {},
   "exception": null,
   "input_path": "ABC_GAN-Catboost.ipynb",
   "output_path": "./ABC_GAN_Catboost/ABC-GAN_output_4_6.ipynb",
   "parameters": {
    "bias": 0.01,
    "variance": 1
   },
   "start_time": "2022-06-12T04:30:41.804442",
   "version": "2.3.3"
  }
 },
 "nbformat": 4,
 "nbformat_minor": 5
}