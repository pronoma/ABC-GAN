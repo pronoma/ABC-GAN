{
 "cells": [
  {
   "cell_type": "markdown",
   "id": "622780e6",
   "metadata": {
    "id": "622780e6",
    "papermill": {
     "duration": 0.031532,
     "end_time": "2022-06-12T08:02:54.990467",
     "exception": false,
     "start_time": "2022-06-12T08:02:54.958935",
     "status": "completed"
    },
    "tags": []
   },
   "source": [
    "## Import Libraries "
   ]
  },
  {
   "cell_type": "code",
   "execution_count": 1,
   "id": "a62397e3",
   "metadata": {
    "execution": {
     "iopub.execute_input": "2022-06-12T08:02:55.029825Z",
     "iopub.status.busy": "2022-06-12T08:02:55.029322Z",
     "iopub.status.idle": "2022-06-12T08:02:55.031697Z",
     "shell.execute_reply": "2022-06-12T08:02:55.032037Z"
    },
    "id": "a62397e3",
    "papermill": {
     "duration": 0.023788,
     "end_time": "2022-06-12T08:02:55.032263",
     "exception": false,
     "start_time": "2022-06-12T08:02:55.008475",
     "status": "completed"
    },
    "tags": []
   },
   "outputs": [],
   "source": [
    "import warnings\n",
    "import sys\n",
    "sys.path.insert(0, '../../src')\n",
    "warnings.filterwarnings('ignore')"
   ]
  },
  {
   "cell_type": "code",
   "execution_count": 2,
   "id": "d6a4e155",
   "metadata": {
    "execution": {
     "iopub.execute_input": "2022-06-12T08:02:55.052367Z",
     "iopub.status.busy": "2022-06-12T08:02:55.051953Z",
     "iopub.status.idle": "2022-06-12T08:02:56.916201Z",
     "shell.execute_reply": "2022-06-12T08:02:56.916460Z"
    },
    "id": "d6a4e155",
    "papermill": {
     "duration": 1.87494,
     "end_time": "2022-06-12T08:02:56.916586",
     "exception": false,
     "start_time": "2022-06-12T08:02:55.041646",
     "status": "completed"
    },
    "tags": []
   },
   "outputs": [],
   "source": [
    "import ABC_train_test2\n",
    "import bostonDataset\n",
    "import network\n",
    "import dataset\n",
    "import sanityChecks\n",
    "import torch \n",
    "import scrapbook as sb\n",
    "from statistics import mean \n",
    "import catboost as ctb \n",
    "from sklearn.model_selection import train_test_split\n",
    "from sklearn.metrics import mean_squared_error,mean_absolute_error\n",
    "import numpy as np"
   ]
  },
  {
   "cell_type": "markdown",
   "id": "2fa5b0f7",
   "metadata": {
    "id": "2fa5b0f7",
    "papermill": {
     "duration": 0.007197,
     "end_time": "2022-06-12T08:02:56.934782",
     "exception": false,
     "start_time": "2022-06-12T08:02:56.927585",
     "status": "completed"
    },
    "tags": []
   },
   "source": [
    "## Parameters "
   ]
  },
  {
   "cell_type": "code",
   "execution_count": 3,
   "id": "783186fb",
   "metadata": {
    "execution": {
     "iopub.execute_input": "2022-06-12T08:02:56.951127Z",
     "iopub.status.busy": "2022-06-12T08:02:56.950753Z",
     "iopub.status.idle": "2022-06-12T08:02:56.952062Z",
     "shell.execute_reply": "2022-06-12T08:02:56.952317Z"
    },
    "id": "783186fb",
    "papermill": {
     "duration": 0.010872,
     "end_time": "2022-06-12T08:02:56.952433",
     "exception": false,
     "start_time": "2022-06-12T08:02:56.941561",
     "status": "completed"
    },
    "tags": [
     "parameters"
    ]
   },
   "outputs": [],
   "source": [
    "variance = 1\n",
    "bias = 1 "
   ]
  },
  {
   "cell_type": "code",
   "execution_count": 4,
   "id": "a5097e96",
   "metadata": {
    "execution": {
     "iopub.execute_input": "2022-06-12T08:02:56.968311Z",
     "iopub.status.busy": "2022-06-12T08:02:56.967938Z",
     "iopub.status.idle": "2022-06-12T08:02:56.969203Z",
     "shell.execute_reply": "2022-06-12T08:02:56.969486Z"
    },
    "papermill": {
     "duration": 0.010228,
     "end_time": "2022-06-12T08:02:56.969599",
     "exception": false,
     "start_time": "2022-06-12T08:02:56.959371",
     "status": "completed"
    },
    "tags": [
     "injected-parameters"
    ]
   },
   "outputs": [],
   "source": [
    "# Parameters\n",
    "variance = 0.01\n",
    "bias = 0.1\n"
   ]
  },
  {
   "cell_type": "markdown",
   "id": "391cdbfd",
   "metadata": {
    "id": "391cdbfd",
    "papermill": {
     "duration": 0.00681,
     "end_time": "2022-06-12T08:02:56.983299",
     "exception": false,
     "start_time": "2022-06-12T08:02:56.976489",
     "status": "completed"
    },
    "tags": []
   },
   "source": [
    "## Dataset \n"
   ]
  },
  {
   "cell_type": "code",
   "execution_count": 5,
   "id": "5b51f161",
   "metadata": {
    "execution": {
     "iopub.execute_input": "2022-06-12T08:02:56.999104Z",
     "iopub.status.busy": "2022-06-12T08:02:56.998729Z",
     "iopub.status.idle": "2022-06-12T08:02:56.999982Z",
     "shell.execute_reply": "2022-06-12T08:02:57.000219Z"
    },
    "id": "5b51f161",
    "papermill": {
     "duration": 0.010212,
     "end_time": "2022-06-12T08:02:57.000330",
     "exception": false,
     "start_time": "2022-06-12T08:02:56.990118",
     "status": "completed"
    },
    "tags": []
   },
   "outputs": [],
   "source": [
    "#Parameters \n",
    "n_features = 13\n",
    "n_samples= 506\n",
    "n_target = 1 "
   ]
  },
  {
   "cell_type": "code",
   "execution_count": 6,
   "id": "5d6eced4",
   "metadata": {
    "execution": {
     "iopub.execute_input": "2022-06-12T08:02:57.016412Z",
     "iopub.status.busy": "2022-06-12T08:02:57.016040Z",
     "iopub.status.idle": "2022-06-12T08:02:57.026901Z",
     "shell.execute_reply": "2022-06-12T08:02:57.027212Z"
    },
    "id": "5d6eced4",
    "papermill": {
     "duration": 0.020124,
     "end_time": "2022-06-12T08:02:57.027336",
     "exception": false,
     "start_time": "2022-06-12T08:02:57.007212",
     "status": "completed"
    },
    "tags": []
   },
   "outputs": [
    {
     "name": "stdout",
     "output_type": "stream",
     "text": [
      "         X1        X2        X3        X4        X5        X6        X7  \\\n",
      "0 -0.419782  0.284830 -1.287909 -0.272599 -0.144217  0.413672 -0.120013   \n",
      "1 -0.417339 -0.487722 -0.593381 -0.272599 -0.740262  0.194274  0.367166   \n",
      "2 -0.417342 -0.487722 -0.593381 -0.272599 -0.740262  1.282714 -0.265812   \n",
      "3 -0.416750 -0.487722 -1.306878 -0.272599 -0.835284  1.016303 -0.809889   \n",
      "4 -0.412482 -0.487722 -1.306878 -0.272599 -0.835284  1.228577 -0.511180   \n",
      "\n",
      "         X8        X9       X10       X11       X12       X13         Y  \n",
      "0  0.140214 -0.982843 -0.666608 -1.459000  0.441052 -1.075562  0.159686  \n",
      "1  0.557160 -0.867883 -0.987329 -0.303094  0.441052 -0.492439 -0.101524  \n",
      "2  0.557160 -0.867883 -0.987329 -0.303094  0.396427 -1.208727  1.324247  \n",
      "3  1.077737 -0.752922 -1.106115  0.113032  0.416163 -1.361517  1.182758  \n",
      "4  1.077737 -0.752922 -1.106115  0.113032  0.441052 -1.026501  1.487503  \n"
     ]
    }
   ],
   "source": [
    "X,Y = bostonDataset.boston_data()"
   ]
  },
  {
   "cell_type": "code",
   "execution_count": 7,
   "id": "fe007438",
   "metadata": {
    "execution": {
     "iopub.execute_input": "2022-06-12T08:02:57.044779Z",
     "iopub.status.busy": "2022-06-12T08:02:57.044332Z",
     "iopub.status.idle": "2022-06-12T08:02:57.045839Z",
     "shell.execute_reply": "2022-06-12T08:02:57.046075Z"
    },
    "id": "fe007438",
    "papermill": {
     "duration": 0.011465,
     "end_time": "2022-06-12T08:02:57.046189",
     "exception": false,
     "start_time": "2022-06-12T08:02:57.034724",
     "status": "completed"
    },
    "tags": []
   },
   "outputs": [],
   "source": [
    "#Train test split for dataset \n",
    "X_train,X_test,Y_train,Y_test = train_test_split(X,Y,test_size = 0.2)\n",
    "train_data = dataset.CustomDataset(X_train,Y_train)\n",
    "test_data = dataset.CustomDataset(X_test,Y_test)\n"
   ]
  },
  {
   "cell_type": "markdown",
   "id": "a9a1af34",
   "metadata": {
    "id": "a9a1af34",
    "papermill": {
     "duration": 0.006963,
     "end_time": "2022-06-12T08:02:57.060312",
     "exception": false,
     "start_time": "2022-06-12T08:02:57.053349",
     "status": "completed"
    },
    "tags": []
   },
   "source": [
    "## Training Parameters "
   ]
  },
  {
   "cell_type": "code",
   "execution_count": 8,
   "id": "952b7fc8",
   "metadata": {
    "execution": {
     "iopub.execute_input": "2022-06-12T08:02:57.076927Z",
     "iopub.status.busy": "2022-06-12T08:02:57.076472Z",
     "iopub.status.idle": "2022-06-12T08:02:57.077695Z",
     "shell.execute_reply": "2022-06-12T08:02:57.077945Z"
    },
    "id": "952b7fc8",
    "papermill": {
     "duration": 0.010653,
     "end_time": "2022-06-12T08:02:57.078065",
     "exception": false,
     "start_time": "2022-06-12T08:02:57.067412",
     "status": "completed"
    },
    "tags": []
   },
   "outputs": [],
   "source": [
    "batch_size = 32\n",
    "n_epochs = 1000\n",
    "#Select the device \n",
    "device = torch.device('cuda' if torch.cuda.is_available() else 'cpu')"
   ]
  },
  {
   "cell_type": "markdown",
   "id": "a95e1600",
   "metadata": {
    "id": "a95e1600",
    "papermill": {
     "duration": 0.00706,
     "end_time": "2022-06-12T08:02:57.092366",
     "exception": false,
     "start_time": "2022-06-12T08:02:57.085306",
     "status": "completed"
    },
    "tags": []
   },
   "source": [
    "# ABC Pre-generator Model \n",
    "\n",
    "1. The catboost model is used as a pre-generator model for the ABC-GAN. \n",
    "2. The model is first trained on the entire dataset \n",
    "3. It generats X,Y pairs and we add some Gaussian noise with mean 0 and variance 1 to it which is then feed as input to the generator.\n"
   ]
  },
  {
   "cell_type": "code",
   "execution_count": 9,
   "id": "ff8ce7bd",
   "metadata": {
    "execution": {
     "iopub.execute_input": "2022-06-12T08:02:57.111766Z",
     "iopub.status.busy": "2022-06-12T08:02:57.111368Z",
     "iopub.status.idle": "2022-06-12T08:02:58.111527Z",
     "shell.execute_reply": "2022-06-12T08:02:58.111829Z"
    },
    "id": "ff8ce7bd",
    "papermill": {
     "duration": 1.012421,
     "end_time": "2022-06-12T08:02:58.111950",
     "exception": false,
     "start_time": "2022-06-12T08:02:57.099529",
     "status": "completed"
    },
    "tags": []
   },
   "outputs": [
    {
     "name": "stdout",
     "output_type": "stream",
     "text": [
      "Learning rate set to 0.033215\n",
      "0:\tlearn: 0.9630415\ttotal: 58.8ms\tremaining: 58.7s\n",
      "1:\tlearn: 0.9458419\ttotal: 59.9ms\tremaining: 29.9s\n",
      "2:\tlearn: 0.9260788\ttotal: 60.8ms\tremaining: 20.2s\n",
      "3:\tlearn: 0.9104753\ttotal: 62ms\tremaining: 15.4s\n",
      "4:\tlearn: 0.8950799\ttotal: 62.9ms\tremaining: 12.5s\n",
      "5:\tlearn: 0.8787674\ttotal: 63.9ms\tremaining: 10.6s\n",
      "6:\tlearn: 0.8618740\ttotal: 65ms\tremaining: 9.22s\n",
      "7:\tlearn: 0.8462257\ttotal: 66.1ms\tremaining: 8.2s\n",
      "8:\tlearn: 0.8311771\ttotal: 67.3ms\tremaining: 7.41s\n",
      "9:\tlearn: 0.8154223\ttotal: 68.5ms\tremaining: 6.78s\n",
      "10:\tlearn: 0.8012123\ttotal: 69.5ms\tremaining: 6.25s\n",
      "11:\tlearn: 0.7880189\ttotal: 70.6ms\tremaining: 5.81s\n",
      "12:\tlearn: 0.7751341\ttotal: 71.7ms\tremaining: 5.45s\n",
      "13:\tlearn: 0.7628356\ttotal: 72.6ms\tremaining: 5.12s\n",
      "14:\tlearn: 0.7507681\ttotal: 73.8ms\tremaining: 4.85s\n",
      "15:\tlearn: 0.7373355\ttotal: 74.8ms\tremaining: 4.6s\n",
      "16:\tlearn: 0.7261037\ttotal: 75.7ms\tremaining: 4.38s\n",
      "17:\tlearn: 0.7137969\ttotal: 76.6ms\tremaining: 4.18s\n",
      "18:\tlearn: 0.7019623\ttotal: 77.7ms\tremaining: 4.01s\n",
      "19:\tlearn: 0.6896318\ttotal: 78.9ms\tremaining: 3.87s\n",
      "20:\tlearn: 0.6783673\ttotal: 79.9ms\tremaining: 3.73s\n",
      "21:\tlearn: 0.6684986\ttotal: 80.9ms\tremaining: 3.59s\n",
      "22:\tlearn: 0.6587430\ttotal: 81.6ms\tremaining: 3.47s\n",
      "23:\tlearn: 0.6495535\ttotal: 82.6ms\tremaining: 3.36s\n",
      "24:\tlearn: 0.6398798\ttotal: 83.6ms\tremaining: 3.26s\n",
      "25:\tlearn: 0.6296669\ttotal: 84.5ms\tremaining: 3.17s\n",
      "26:\tlearn: 0.6205719\ttotal: 85.5ms\tremaining: 3.08s\n",
      "27:\tlearn: 0.6127997\ttotal: 86.4ms\tremaining: 3s\n",
      "28:\tlearn: 0.6047934\ttotal: 87.3ms\tremaining: 2.92s\n",
      "29:\tlearn: 0.5949391\ttotal: 88.3ms\tremaining: 2.85s\n",
      "30:\tlearn: 0.5861711\ttotal: 89.2ms\tremaining: 2.79s\n",
      "31:\tlearn: 0.5783725\ttotal: 90ms\tremaining: 2.72s\n",
      "32:\tlearn: 0.5718229\ttotal: 90.8ms\tremaining: 2.66s\n",
      "33:\tlearn: 0.5648259\ttotal: 91.7ms\tremaining: 2.6s\n",
      "34:\tlearn: 0.5587058\ttotal: 92.7ms\tremaining: 2.56s\n",
      "35:\tlearn: 0.5521265\ttotal: 93.7ms\tremaining: 2.51s\n",
      "36:\tlearn: 0.5460072\ttotal: 94.6ms\tremaining: 2.46s\n",
      "37:\tlearn: 0.5392869\ttotal: 95.5ms\tremaining: 2.42s\n",
      "38:\tlearn: 0.5325521\ttotal: 96.2ms\tremaining: 2.37s\n",
      "39:\tlearn: 0.5257210\ttotal: 97.1ms\tremaining: 2.33s\n",
      "40:\tlearn: 0.5196741\ttotal: 98ms\tremaining: 2.29s\n",
      "41:\tlearn: 0.5129830\ttotal: 98.9ms\tremaining: 2.25s\n",
      "42:\tlearn: 0.5075110\ttotal: 99.7ms\tremaining: 2.22s\n",
      "43:\tlearn: 0.5005985\ttotal: 101ms\tremaining: 2.19s\n",
      "44:\tlearn: 0.4953278\ttotal: 102ms\tremaining: 2.15s\n",
      "45:\tlearn: 0.4883756\ttotal: 102ms\tremaining: 2.12s\n",
      "46:\tlearn: 0.4834273\ttotal: 103ms\tremaining: 2.09s\n",
      "47:\tlearn: 0.4775920\ttotal: 104ms\tremaining: 2.06s\n",
      "48:\tlearn: 0.4724360\ttotal: 105ms\tremaining: 2.03s\n",
      "49:\tlearn: 0.4679907\ttotal: 106ms\tremaining: 2.01s\n",
      "50:\tlearn: 0.4624879\ttotal: 107ms\tremaining: 1.98s\n",
      "51:\tlearn: 0.4578111\ttotal: 107ms\tremaining: 1.96s\n"
     ]
    },
    {
     "name": "stdout",
     "output_type": "stream",
     "text": [
      "52:\tlearn: 0.4528267\ttotal: 109ms\tremaining: 1.94s\n",
      "53:\tlearn: 0.4494989\ttotal: 110ms\tremaining: 1.92s\n",
      "54:\tlearn: 0.4454503\ttotal: 110ms\tremaining: 1.9s\n",
      "55:\tlearn: 0.4417666\ttotal: 111ms\tremaining: 1.87s\n",
      "56:\tlearn: 0.4376943\ttotal: 112ms\tremaining: 1.85s\n",
      "57:\tlearn: 0.4334101\ttotal: 114ms\tremaining: 1.84s\n",
      "58:\tlearn: 0.4299617\ttotal: 114ms\tremaining: 1.82s\n",
      "59:\tlearn: 0.4258919\ttotal: 115ms\tremaining: 1.81s\n",
      "60:\tlearn: 0.4219687\ttotal: 116ms\tremaining: 1.79s\n",
      "61:\tlearn: 0.4175065\ttotal: 117ms\tremaining: 1.77s\n",
      "62:\tlearn: 0.4129008\ttotal: 118ms\tremaining: 1.75s\n",
      "63:\tlearn: 0.4096150\ttotal: 119ms\tremaining: 1.74s\n",
      "64:\tlearn: 0.4062688\ttotal: 120ms\tremaining: 1.72s\n",
      "65:\tlearn: 0.4025372\ttotal: 120ms\tremaining: 1.7s\n",
      "66:\tlearn: 0.3991028\ttotal: 121ms\tremaining: 1.69s\n",
      "67:\tlearn: 0.3959647\ttotal: 122ms\tremaining: 1.67s\n",
      "68:\tlearn: 0.3926767\ttotal: 123ms\tremaining: 1.66s\n",
      "69:\tlearn: 0.3900255\ttotal: 124ms\tremaining: 1.64s\n",
      "70:\tlearn: 0.3869573\ttotal: 125ms\tremaining: 1.63s\n",
      "71:\tlearn: 0.3846472\ttotal: 126ms\tremaining: 1.62s\n",
      "72:\tlearn: 0.3808729\ttotal: 127ms\tremaining: 1.61s\n",
      "73:\tlearn: 0.3771498\ttotal: 127ms\tremaining: 1.59s\n",
      "74:\tlearn: 0.3747635\ttotal: 128ms\tremaining: 1.58s\n",
      "75:\tlearn: 0.3718639\ttotal: 129ms\tremaining: 1.57s\n",
      "76:\tlearn: 0.3687632\ttotal: 130ms\tremaining: 1.55s\n",
      "77:\tlearn: 0.3664532\ttotal: 131ms\tremaining: 1.54s\n",
      "78:\tlearn: 0.3637299\ttotal: 131ms\tremaining: 1.53s\n",
      "79:\tlearn: 0.3618397\ttotal: 132ms\tremaining: 1.52s\n",
      "80:\tlearn: 0.3594206\ttotal: 133ms\tremaining: 1.51s\n",
      "81:\tlearn: 0.3559319\ttotal: 134ms\tremaining: 1.5s\n",
      "82:\tlearn: 0.3540279\ttotal: 135ms\tremaining: 1.49s\n",
      "83:\tlearn: 0.3522109\ttotal: 135ms\tremaining: 1.48s\n",
      "84:\tlearn: 0.3495844\ttotal: 137ms\tremaining: 1.47s\n",
      "85:\tlearn: 0.3470741\ttotal: 138ms\tremaining: 1.46s\n",
      "86:\tlearn: 0.3443748\ttotal: 138ms\tremaining: 1.45s\n",
      "87:\tlearn: 0.3417868\ttotal: 139ms\tremaining: 1.44s\n",
      "88:\tlearn: 0.3398516\ttotal: 140ms\tremaining: 1.43s\n",
      "89:\tlearn: 0.3377911\ttotal: 141ms\tremaining: 1.43s\n",
      "90:\tlearn: 0.3348635\ttotal: 142ms\tremaining: 1.42s\n",
      "91:\tlearn: 0.3328714\ttotal: 143ms\tremaining: 1.41s\n",
      "92:\tlearn: 0.3315099\ttotal: 144ms\tremaining: 1.4s\n",
      "93:\tlearn: 0.3295005\ttotal: 144ms\tremaining: 1.39s\n",
      "94:\tlearn: 0.3272871\ttotal: 145ms\tremaining: 1.38s\n",
      "95:\tlearn: 0.3257578\ttotal: 146ms\tremaining: 1.38s\n",
      "96:\tlearn: 0.3241690\ttotal: 147ms\tremaining: 1.37s\n",
      "97:\tlearn: 0.3225819\ttotal: 148ms\tremaining: 1.36s\n",
      "98:\tlearn: 0.3209314\ttotal: 149ms\tremaining: 1.35s\n",
      "99:\tlearn: 0.3196891\ttotal: 149ms\tremaining: 1.34s\n",
      "100:\tlearn: 0.3180191\ttotal: 150ms\tremaining: 1.33s\n",
      "101:\tlearn: 0.3162846\ttotal: 151ms\tremaining: 1.33s\n",
      "102:\tlearn: 0.3147391\ttotal: 152ms\tremaining: 1.32s\n",
      "103:\tlearn: 0.3132451\ttotal: 152ms\tremaining: 1.31s\n",
      "104:\tlearn: 0.3119298\ttotal: 153ms\tremaining: 1.31s\n",
      "105:\tlearn: 0.3109298\ttotal: 154ms\tremaining: 1.3s\n",
      "106:\tlearn: 0.3089141\ttotal: 155ms\tremaining: 1.29s\n",
      "107:\tlearn: 0.3070111\ttotal: 156ms\tremaining: 1.28s\n",
      "108:\tlearn: 0.3053577\ttotal: 157ms\tremaining: 1.28s\n",
      "109:\tlearn: 0.3037933\ttotal: 157ms\tremaining: 1.27s\n",
      "110:\tlearn: 0.3020855\ttotal: 158ms\tremaining: 1.27s\n",
      "111:\tlearn: 0.3006676\ttotal: 159ms\tremaining: 1.26s\n",
      "112:\tlearn: 0.2991259\ttotal: 160ms\tremaining: 1.26s\n",
      "113:\tlearn: 0.2977728\ttotal: 161ms\tremaining: 1.25s\n",
      "114:\tlearn: 0.2964597\ttotal: 162ms\tremaining: 1.25s\n",
      "115:\tlearn: 0.2953914\ttotal: 163ms\tremaining: 1.24s\n",
      "116:\tlearn: 0.2938277\ttotal: 163ms\tremaining: 1.23s\n",
      "117:\tlearn: 0.2923307\ttotal: 164ms\tremaining: 1.23s\n",
      "118:\tlearn: 0.2910526\ttotal: 165ms\tremaining: 1.22s\n",
      "119:\tlearn: 0.2902602\ttotal: 166ms\tremaining: 1.21s\n",
      "120:\tlearn: 0.2888142\ttotal: 166ms\tremaining: 1.21s\n",
      "121:\tlearn: 0.2874615\ttotal: 167ms\tremaining: 1.2s\n",
      "122:\tlearn: 0.2861040\ttotal: 168ms\tremaining: 1.2s\n",
      "123:\tlearn: 0.2846954\ttotal: 169ms\tremaining: 1.19s\n",
      "124:\tlearn: 0.2834881\ttotal: 170ms\tremaining: 1.19s\n",
      "125:\tlearn: 0.2826574\ttotal: 170ms\tremaining: 1.18s\n",
      "126:\tlearn: 0.2813897\ttotal: 171ms\tremaining: 1.18s\n",
      "127:\tlearn: 0.2802104\ttotal: 172ms\tremaining: 1.17s\n",
      "128:\tlearn: 0.2789529\ttotal: 173ms\tremaining: 1.17s\n",
      "129:\tlearn: 0.2777040\ttotal: 175ms\tremaining: 1.17s\n",
      "130:\tlearn: 0.2768545\ttotal: 175ms\tremaining: 1.16s\n"
     ]
    },
    {
     "name": "stdout",
     "output_type": "stream",
     "text": [
      "131:\tlearn: 0.2759108\ttotal: 176ms\tremaining: 1.16s\n",
      "132:\tlearn: 0.2749589\ttotal: 178ms\tremaining: 1.16s\n",
      "133:\tlearn: 0.2740414\ttotal: 178ms\tremaining: 1.15s\n",
      "134:\tlearn: 0.2730432\ttotal: 179ms\tremaining: 1.15s\n",
      "135:\tlearn: 0.2719703\ttotal: 180ms\tremaining: 1.14s\n",
      "136:\tlearn: 0.2712618\ttotal: 181ms\tremaining: 1.14s\n",
      "137:\tlearn: 0.2702984\ttotal: 182ms\tremaining: 1.14s\n",
      "138:\tlearn: 0.2694832\ttotal: 183ms\tremaining: 1.13s\n",
      "139:\tlearn: 0.2687061\ttotal: 183ms\tremaining: 1.13s\n",
      "140:\tlearn: 0.2680810\ttotal: 184ms\tremaining: 1.12s\n",
      "141:\tlearn: 0.2669313\ttotal: 185ms\tremaining: 1.12s\n",
      "142:\tlearn: 0.2656181\ttotal: 186ms\tremaining: 1.11s\n",
      "143:\tlearn: 0.2643424\ttotal: 187ms\tremaining: 1.11s\n",
      "144:\tlearn: 0.2633579\ttotal: 187ms\tremaining: 1.1s\n",
      "145:\tlearn: 0.2623413\ttotal: 188ms\tremaining: 1.1s\n",
      "146:\tlearn: 0.2612986\ttotal: 189ms\tremaining: 1.1s\n",
      "147:\tlearn: 0.2601421\ttotal: 190ms\tremaining: 1.09s\n",
      "148:\tlearn: 0.2593298\ttotal: 192ms\tremaining: 1.1s\n",
      "149:\tlearn: 0.2588832\ttotal: 193ms\tremaining: 1.09s\n",
      "150:\tlearn: 0.2575702\ttotal: 194ms\tremaining: 1.09s\n",
      "151:\tlearn: 0.2570068\ttotal: 195ms\tremaining: 1.08s\n",
      "152:\tlearn: 0.2561178\ttotal: 195ms\tremaining: 1.08s\n",
      "153:\tlearn: 0.2551673\ttotal: 196ms\tremaining: 1.08s\n",
      "154:\tlearn: 0.2542044\ttotal: 197ms\tremaining: 1.07s\n",
      "155:\tlearn: 0.2531341\ttotal: 198ms\tremaining: 1.07s\n",
      "156:\tlearn: 0.2523413\ttotal: 199ms\tremaining: 1.07s\n",
      "157:\tlearn: 0.2512417\ttotal: 200ms\tremaining: 1.06s\n",
      "158:\tlearn: 0.2503523\ttotal: 201ms\tremaining: 1.06s\n",
      "159:\tlearn: 0.2494027\ttotal: 201ms\tremaining: 1.06s\n",
      "160:\tlearn: 0.2486779\ttotal: 202ms\tremaining: 1.05s\n",
      "161:\tlearn: 0.2481089\ttotal: 204ms\tremaining: 1.05s\n",
      "162:\tlearn: 0.2471902\ttotal: 205ms\tremaining: 1.05s\n",
      "163:\tlearn: 0.2465348\ttotal: 205ms\tremaining: 1.05s\n",
      "164:\tlearn: 0.2459011\ttotal: 206ms\tremaining: 1.04s\n",
      "165:\tlearn: 0.2448174\ttotal: 207ms\tremaining: 1.04s\n",
      "166:\tlearn: 0.2442039\ttotal: 208ms\tremaining: 1.04s\n",
      "167:\tlearn: 0.2431559\ttotal: 209ms\tremaining: 1.03s\n",
      "168:\tlearn: 0.2425436\ttotal: 210ms\tremaining: 1.03s\n",
      "169:\tlearn: 0.2419598\ttotal: 211ms\tremaining: 1.03s\n",
      "170:\tlearn: 0.2413449\ttotal: 212ms\tremaining: 1.02s\n",
      "171:\tlearn: 0.2404987\ttotal: 212ms\tremaining: 1.02s\n",
      "172:\tlearn: 0.2397240\ttotal: 213ms\tremaining: 1.02s\n",
      "173:\tlearn: 0.2389778\ttotal: 214ms\tremaining: 1.02s\n",
      "174:\tlearn: 0.2383865\ttotal: 215ms\tremaining: 1.01s\n",
      "175:\tlearn: 0.2376435\ttotal: 216ms\tremaining: 1.01s\n",
      "176:\tlearn: 0.2368327\ttotal: 217ms\tremaining: 1.01s\n",
      "177:\tlearn: 0.2358702\ttotal: 217ms\tremaining: 1s\n",
      "178:\tlearn: 0.2352506\ttotal: 218ms\tremaining: 1000ms\n",
      "179:\tlearn: 0.2348322\ttotal: 219ms\tremaining: 997ms\n",
      "180:\tlearn: 0.2339664\ttotal: 220ms\tremaining: 993ms\n",
      "181:\tlearn: 0.2330459\ttotal: 220ms\tremaining: 990ms\n",
      "182:\tlearn: 0.2325083\ttotal: 221ms\tremaining: 987ms\n",
      "183:\tlearn: 0.2319511\ttotal: 222ms\tremaining: 984ms\n",
      "184:\tlearn: 0.2313380\ttotal: 223ms\tremaining: 982ms\n",
      "185:\tlearn: 0.2307112\ttotal: 224ms\tremaining: 979ms\n",
      "186:\tlearn: 0.2295545\ttotal: 225ms\tremaining: 977ms\n",
      "187:\tlearn: 0.2291845\ttotal: 225ms\tremaining: 974ms\n",
      "188:\tlearn: 0.2282728\ttotal: 226ms\tremaining: 971ms\n",
      "189:\tlearn: 0.2276455\ttotal: 227ms\tremaining: 968ms\n",
      "190:\tlearn: 0.2270356\ttotal: 228ms\tremaining: 965ms\n",
      "191:\tlearn: 0.2261635\ttotal: 229ms\tremaining: 962ms\n",
      "192:\tlearn: 0.2256729\ttotal: 229ms\tremaining: 959ms\n",
      "193:\tlearn: 0.2250730\ttotal: 230ms\tremaining: 956ms\n",
      "194:\tlearn: 0.2242730\ttotal: 231ms\tremaining: 953ms\n",
      "195:\tlearn: 0.2237550\ttotal: 232ms\tremaining: 951ms\n",
      "196:\tlearn: 0.2232799\ttotal: 233ms\tremaining: 948ms\n",
      "197:\tlearn: 0.2225772\ttotal: 233ms\tremaining: 946ms\n",
      "198:\tlearn: 0.2217303\ttotal: 234ms\tremaining: 944ms\n",
      "199:\tlearn: 0.2211049\ttotal: 235ms\tremaining: 941ms\n",
      "200:\tlearn: 0.2204258\ttotal: 236ms\tremaining: 939ms\n",
      "201:\tlearn: 0.2198330\ttotal: 237ms\tremaining: 937ms\n",
      "202:\tlearn: 0.2192474\ttotal: 238ms\tremaining: 935ms\n",
      "203:\tlearn: 0.2187789\ttotal: 239ms\tremaining: 932ms\n",
      "204:\tlearn: 0.2180476\ttotal: 240ms\tremaining: 929ms\n",
      "205:\tlearn: 0.2175184\ttotal: 240ms\tremaining: 926ms\n",
      "206:\tlearn: 0.2168783\ttotal: 241ms\tremaining: 924ms\n",
      "207:\tlearn: 0.2164034\ttotal: 242ms\tremaining: 921ms\n",
      "208:\tlearn: 0.2158806\ttotal: 243ms\tremaining: 918ms\n",
      "209:\tlearn: 0.2153541\ttotal: 243ms\tremaining: 916ms\n",
      "210:\tlearn: 0.2145495\ttotal: 244ms\tremaining: 913ms\n",
      "211:\tlearn: 0.2140453\ttotal: 245ms\tremaining: 912ms\n",
      "212:\tlearn: 0.2134246\ttotal: 246ms\tremaining: 910ms\n",
      "213:\tlearn: 0.2126858\ttotal: 247ms\tremaining: 907ms\n",
      "214:\tlearn: 0.2121269\ttotal: 248ms\tremaining: 904ms\n",
      "215:\tlearn: 0.2116629\ttotal: 248ms\tremaining: 902ms\n",
      "216:\tlearn: 0.2113126\ttotal: 249ms\tremaining: 899ms\n",
      "217:\tlearn: 0.2109578\ttotal: 250ms\tremaining: 898ms\n",
      "218:\tlearn: 0.2105122\ttotal: 251ms\tremaining: 896ms\n",
      "219:\tlearn: 0.2098183\ttotal: 252ms\tremaining: 893ms\n",
      "220:\tlearn: 0.2093716\ttotal: 253ms\tremaining: 891ms\n",
      "221:\tlearn: 0.2086077\ttotal: 254ms\tremaining: 889ms\n",
      "222:\tlearn: 0.2082677\ttotal: 254ms\tremaining: 886ms\n",
      "223:\tlearn: 0.2076686\ttotal: 256ms\tremaining: 886ms\n",
      "224:\tlearn: 0.2072105\ttotal: 257ms\tremaining: 884ms\n",
      "225:\tlearn: 0.2068563\ttotal: 258ms\tremaining: 882ms\n",
      "226:\tlearn: 0.2062456\ttotal: 259ms\tremaining: 880ms\n",
      "227:\tlearn: 0.2056801\ttotal: 259ms\tremaining: 879ms\n",
      "228:\tlearn: 0.2052681\ttotal: 260ms\tremaining: 877ms\n",
      "229:\tlearn: 0.2047344\ttotal: 261ms\tremaining: 875ms\n",
      "230:\tlearn: 0.2043463\ttotal: 262ms\tremaining: 872ms\n",
      "231:\tlearn: 0.2039899\ttotal: 263ms\tremaining: 870ms\n",
      "232:\tlearn: 0.2035967\ttotal: 263ms\tremaining: 867ms\n",
      "233:\tlearn: 0.2032197\ttotal: 264ms\tremaining: 864ms\n",
      "234:\tlearn: 0.2028727\ttotal: 265ms\tremaining: 862ms\n",
      "235:\tlearn: 0.2024796\ttotal: 266ms\tremaining: 860ms\n",
      "236:\tlearn: 0.2022182\ttotal: 266ms\tremaining: 857ms\n",
      "237:\tlearn: 0.2018216\ttotal: 267ms\tremaining: 855ms\n",
      "238:\tlearn: 0.2014852\ttotal: 268ms\tremaining: 853ms\n",
      "239:\tlearn: 0.2009563\ttotal: 269ms\tremaining: 851ms\n",
      "240:\tlearn: 0.2004391\ttotal: 270ms\tremaining: 849ms\n",
      "241:\tlearn: 0.1998538\ttotal: 271ms\tremaining: 847ms\n",
      "242:\tlearn: 0.1995235\ttotal: 271ms\tremaining: 845ms\n",
      "243:\tlearn: 0.1988868\ttotal: 272ms\tremaining: 843ms\n",
      "244:\tlearn: 0.1985596\ttotal: 273ms\tremaining: 842ms\n",
      "245:\tlearn: 0.1980624\ttotal: 274ms\tremaining: 840ms\n",
      "246:\tlearn: 0.1977112\ttotal: 275ms\tremaining: 837ms\n",
      "247:\tlearn: 0.1973883\ttotal: 276ms\tremaining: 835ms\n",
      "248:\tlearn: 0.1969483\ttotal: 276ms\tremaining: 833ms\n",
      "249:\tlearn: 0.1966510\ttotal: 277ms\tremaining: 832ms\n",
      "250:\tlearn: 0.1961669\ttotal: 278ms\tremaining: 830ms\n",
      "251:\tlearn: 0.1959442\ttotal: 279ms\tremaining: 828ms\n",
      "252:\tlearn: 0.1952829\ttotal: 280ms\tremaining: 826ms\n",
      "253:\tlearn: 0.1948797\ttotal: 281ms\tremaining: 824ms\n",
      "254:\tlearn: 0.1945009\ttotal: 281ms\tremaining: 822ms\n"
     ]
    },
    {
     "name": "stdout",
     "output_type": "stream",
     "text": [
      "255:\tlearn: 0.1940440\ttotal: 282ms\tremaining: 821ms\n",
      "256:\tlearn: 0.1935427\ttotal: 283ms\tremaining: 819ms\n",
      "257:\tlearn: 0.1932771\ttotal: 284ms\tremaining: 818ms\n",
      "258:\tlearn: 0.1928904\ttotal: 285ms\tremaining: 816ms\n",
      "259:\tlearn: 0.1924741\ttotal: 286ms\tremaining: 814ms\n",
      "260:\tlearn: 0.1917775\ttotal: 287ms\tremaining: 813ms\n",
      "261:\tlearn: 0.1914557\ttotal: 288ms\tremaining: 811ms\n",
      "262:\tlearn: 0.1910234\ttotal: 289ms\tremaining: 809ms\n",
      "263:\tlearn: 0.1904776\ttotal: 290ms\tremaining: 808ms\n",
      "264:\tlearn: 0.1901519\ttotal: 291ms\tremaining: 806ms\n",
      "265:\tlearn: 0.1898191\ttotal: 292ms\tremaining: 806ms\n",
      "266:\tlearn: 0.1893077\ttotal: 293ms\tremaining: 804ms\n",
      "267:\tlearn: 0.1887494\ttotal: 294ms\tremaining: 803ms\n",
      "268:\tlearn: 0.1882570\ttotal: 295ms\tremaining: 801ms\n",
      "269:\tlearn: 0.1877866\ttotal: 295ms\tremaining: 799ms\n",
      "270:\tlearn: 0.1872798\ttotal: 296ms\tremaining: 797ms\n",
      "271:\tlearn: 0.1867896\ttotal: 297ms\tremaining: 796ms\n",
      "272:\tlearn: 0.1863572\ttotal: 298ms\tremaining: 794ms\n",
      "273:\tlearn: 0.1859074\ttotal: 299ms\tremaining: 792ms\n",
      "274:\tlearn: 0.1853760\ttotal: 300ms\tremaining: 790ms\n",
      "275:\tlearn: 0.1849427\ttotal: 301ms\tremaining: 789ms\n",
      "276:\tlearn: 0.1843854\ttotal: 302ms\tremaining: 787ms\n",
      "277:\tlearn: 0.1840058\ttotal: 302ms\tremaining: 785ms\n",
      "278:\tlearn: 0.1836832\ttotal: 303ms\tremaining: 784ms\n",
      "279:\tlearn: 0.1831198\ttotal: 304ms\tremaining: 782ms\n",
      "280:\tlearn: 0.1827336\ttotal: 305ms\tremaining: 780ms\n",
      "281:\tlearn: 0.1824053\ttotal: 306ms\tremaining: 778ms\n",
      "282:\tlearn: 0.1819048\ttotal: 307ms\tremaining: 777ms\n",
      "283:\tlearn: 0.1815453\ttotal: 307ms\tremaining: 775ms\n",
      "284:\tlearn: 0.1811451\ttotal: 308ms\tremaining: 773ms\n",
      "285:\tlearn: 0.1806721\ttotal: 309ms\tremaining: 771ms\n",
      "286:\tlearn: 0.1802043\ttotal: 310ms\tremaining: 770ms\n",
      "287:\tlearn: 0.1796596\ttotal: 311ms\tremaining: 768ms\n",
      "288:\tlearn: 0.1793165\ttotal: 312ms\tremaining: 767ms\n",
      "289:\tlearn: 0.1791698\ttotal: 312ms\tremaining: 765ms\n",
      "290:\tlearn: 0.1788587\ttotal: 313ms\tremaining: 763ms\n",
      "291:\tlearn: 0.1784316\ttotal: 314ms\tremaining: 761ms\n",
      "292:\tlearn: 0.1779223\ttotal: 315ms\tremaining: 760ms\n",
      "293:\tlearn: 0.1773871\ttotal: 316ms\tremaining: 758ms\n",
      "294:\tlearn: 0.1772053\ttotal: 316ms\tremaining: 756ms\n",
      "295:\tlearn: 0.1771087\ttotal: 317ms\tremaining: 754ms\n",
      "296:\tlearn: 0.1766892\ttotal: 318ms\tremaining: 753ms\n",
      "297:\tlearn: 0.1764018\ttotal: 319ms\tremaining: 751ms\n",
      "298:\tlearn: 0.1761290\ttotal: 320ms\tremaining: 749ms\n",
      "299:\tlearn: 0.1757158\ttotal: 320ms\tremaining: 748ms\n",
      "300:\tlearn: 0.1755440\ttotal: 321ms\tremaining: 746ms\n",
      "301:\tlearn: 0.1753818\ttotal: 322ms\tremaining: 744ms\n",
      "302:\tlearn: 0.1749420\ttotal: 323ms\tremaining: 743ms\n",
      "303:\tlearn: 0.1745627\ttotal: 324ms\tremaining: 742ms\n",
      "304:\tlearn: 0.1742127\ttotal: 325ms\tremaining: 740ms\n",
      "305:\tlearn: 0.1737675\ttotal: 325ms\tremaining: 738ms\n",
      "306:\tlearn: 0.1736648\ttotal: 326ms\tremaining: 737ms\n",
      "307:\tlearn: 0.1731109\ttotal: 327ms\tremaining: 735ms\n",
      "308:\tlearn: 0.1728460\ttotal: 328ms\tremaining: 733ms\n",
      "309:\tlearn: 0.1724552\ttotal: 329ms\tremaining: 732ms\n",
      "310:\tlearn: 0.1721890\ttotal: 330ms\tremaining: 730ms\n",
      "311:\tlearn: 0.1718647\ttotal: 330ms\tremaining: 728ms\n",
      "312:\tlearn: 0.1716680\ttotal: 331ms\tremaining: 727ms\n",
      "313:\tlearn: 0.1712925\ttotal: 332ms\tremaining: 725ms\n",
      "314:\tlearn: 0.1710186\ttotal: 333ms\tremaining: 724ms\n",
      "315:\tlearn: 0.1706735\ttotal: 334ms\tremaining: 722ms\n",
      "316:\tlearn: 0.1703416\ttotal: 335ms\tremaining: 721ms\n",
      "317:\tlearn: 0.1699301\ttotal: 335ms\tremaining: 719ms\n",
      "318:\tlearn: 0.1694569\ttotal: 336ms\tremaining: 718ms\n",
      "319:\tlearn: 0.1692761\ttotal: 337ms\tremaining: 717ms\n",
      "320:\tlearn: 0.1687825\ttotal: 338ms\tremaining: 715ms\n",
      "321:\tlearn: 0.1686033\ttotal: 339ms\tremaining: 713ms\n",
      "322:\tlearn: 0.1681147\ttotal: 340ms\tremaining: 712ms\n",
      "323:\tlearn: 0.1676836\ttotal: 341ms\tremaining: 711ms\n",
      "324:\tlearn: 0.1674974\ttotal: 341ms\tremaining: 709ms\n",
      "325:\tlearn: 0.1673549\ttotal: 342ms\tremaining: 708ms\n",
      "326:\tlearn: 0.1672224\ttotal: 343ms\tremaining: 706ms\n",
      "327:\tlearn: 0.1670218\ttotal: 344ms\tremaining: 705ms\n",
      "328:\tlearn: 0.1666602\ttotal: 345ms\tremaining: 703ms\n",
      "329:\tlearn: 0.1665481\ttotal: 346ms\tremaining: 702ms\n",
      "330:\tlearn: 0.1661982\ttotal: 346ms\tremaining: 700ms\n",
      "331:\tlearn: 0.1659021\ttotal: 347ms\tremaining: 698ms\n",
      "332:\tlearn: 0.1657426\ttotal: 348ms\tremaining: 697ms\n",
      "333:\tlearn: 0.1654355\ttotal: 349ms\tremaining: 695ms\n"
     ]
    },
    {
     "name": "stdout",
     "output_type": "stream",
     "text": [
      "334:\tlearn: 0.1653065\ttotal: 350ms\tremaining: 694ms\n",
      "335:\tlearn: 0.1649100\ttotal: 351ms\tremaining: 693ms\n",
      "336:\tlearn: 0.1645818\ttotal: 351ms\tremaining: 691ms\n",
      "337:\tlearn: 0.1641987\ttotal: 352ms\tremaining: 690ms\n",
      "338:\tlearn: 0.1636993\ttotal: 353ms\tremaining: 688ms\n",
      "339:\tlearn: 0.1635998\ttotal: 354ms\tremaining: 687ms\n",
      "340:\tlearn: 0.1634197\ttotal: 355ms\tremaining: 685ms\n",
      "341:\tlearn: 0.1631280\ttotal: 355ms\tremaining: 684ms\n",
      "342:\tlearn: 0.1627752\ttotal: 356ms\tremaining: 682ms\n",
      "343:\tlearn: 0.1624374\ttotal: 357ms\tremaining: 681ms\n",
      "344:\tlearn: 0.1619356\ttotal: 358ms\tremaining: 679ms\n",
      "345:\tlearn: 0.1616875\ttotal: 359ms\tremaining: 678ms\n",
      "346:\tlearn: 0.1614180\ttotal: 359ms\tremaining: 676ms\n",
      "347:\tlearn: 0.1613844\ttotal: 360ms\tremaining: 675ms\n",
      "348:\tlearn: 0.1612840\ttotal: 361ms\tremaining: 673ms\n",
      "349:\tlearn: 0.1609826\ttotal: 362ms\tremaining: 672ms\n",
      "350:\tlearn: 0.1606705\ttotal: 363ms\tremaining: 670ms\n",
      "351:\tlearn: 0.1604610\ttotal: 363ms\tremaining: 669ms\n",
      "352:\tlearn: 0.1601481\ttotal: 364ms\tremaining: 668ms\n",
      "353:\tlearn: 0.1599107\ttotal: 365ms\tremaining: 666ms\n",
      "354:\tlearn: 0.1597472\ttotal: 366ms\tremaining: 665ms\n",
      "355:\tlearn: 0.1593709\ttotal: 367ms\tremaining: 663ms\n",
      "356:\tlearn: 0.1590728\ttotal: 367ms\tremaining: 662ms\n",
      "357:\tlearn: 0.1587669\ttotal: 368ms\tremaining: 660ms\n",
      "358:\tlearn: 0.1583955\ttotal: 369ms\tremaining: 659ms\n",
      "359:\tlearn: 0.1579642\ttotal: 370ms\tremaining: 658ms\n",
      "360:\tlearn: 0.1577656\ttotal: 371ms\tremaining: 657ms\n",
      "361:\tlearn: 0.1576186\ttotal: 372ms\tremaining: 655ms\n",
      "362:\tlearn: 0.1574781\ttotal: 373ms\tremaining: 654ms\n",
      "363:\tlearn: 0.1574441\ttotal: 373ms\tremaining: 652ms\n",
      "364:\tlearn: 0.1571154\ttotal: 374ms\tremaining: 651ms\n",
      "365:\tlearn: 0.1567426\ttotal: 375ms\tremaining: 650ms\n",
      "366:\tlearn: 0.1564850\ttotal: 376ms\tremaining: 648ms\n",
      "367:\tlearn: 0.1560948\ttotal: 377ms\tremaining: 647ms\n",
      "368:\tlearn: 0.1560590\ttotal: 378ms\tremaining: 646ms\n",
      "369:\tlearn: 0.1556424\ttotal: 378ms\tremaining: 644ms\n",
      "370:\tlearn: 0.1554663\ttotal: 379ms\tremaining: 643ms\n",
      "371:\tlearn: 0.1551278\ttotal: 380ms\tremaining: 642ms\n",
      "372:\tlearn: 0.1547641\ttotal: 381ms\tremaining: 640ms\n",
      "373:\tlearn: 0.1546877\ttotal: 382ms\tremaining: 639ms\n",
      "374:\tlearn: 0.1546305\ttotal: 382ms\tremaining: 637ms\n",
      "375:\tlearn: 0.1543465\ttotal: 384ms\tremaining: 637ms\n",
      "376:\tlearn: 0.1539662\ttotal: 385ms\tremaining: 636ms\n",
      "377:\tlearn: 0.1538271\ttotal: 386ms\tremaining: 635ms\n",
      "378:\tlearn: 0.1534589\ttotal: 387ms\tremaining: 633ms\n",
      "379:\tlearn: 0.1531674\ttotal: 388ms\tremaining: 633ms\n",
      "380:\tlearn: 0.1530405\ttotal: 389ms\tremaining: 632ms\n",
      "381:\tlearn: 0.1528227\ttotal: 390ms\tremaining: 631ms\n",
      "382:\tlearn: 0.1526280\ttotal: 391ms\tremaining: 629ms\n",
      "383:\tlearn: 0.1524107\ttotal: 392ms\tremaining: 628ms\n",
      "384:\tlearn: 0.1521862\ttotal: 392ms\tremaining: 627ms\n",
      "385:\tlearn: 0.1518919\ttotal: 393ms\tremaining: 625ms\n",
      "386:\tlearn: 0.1517619\ttotal: 394ms\tremaining: 624ms\n",
      "387:\tlearn: 0.1516093\ttotal: 395ms\tremaining: 623ms\n",
      "388:\tlearn: 0.1512125\ttotal: 396ms\tremaining: 621ms\n",
      "389:\tlearn: 0.1507137\ttotal: 396ms\tremaining: 620ms\n",
      "390:\tlearn: 0.1504269\ttotal: 397ms\tremaining: 619ms\n",
      "391:\tlearn: 0.1501279\ttotal: 398ms\tremaining: 617ms\n",
      "392:\tlearn: 0.1498396\ttotal: 399ms\tremaining: 616ms\n",
      "393:\tlearn: 0.1495201\ttotal: 400ms\tremaining: 615ms\n",
      "394:\tlearn: 0.1491294\ttotal: 400ms\tremaining: 613ms\n",
      "395:\tlearn: 0.1486830\ttotal: 401ms\tremaining: 612ms\n",
      "396:\tlearn: 0.1483950\ttotal: 402ms\tremaining: 611ms\n",
      "397:\tlearn: 0.1481838\ttotal: 403ms\tremaining: 610ms\n",
      "398:\tlearn: 0.1480901\ttotal: 404ms\tremaining: 608ms\n",
      "399:\tlearn: 0.1478422\ttotal: 405ms\tremaining: 607ms\n",
      "400:\tlearn: 0.1478105\ttotal: 405ms\tremaining: 606ms\n",
      "401:\tlearn: 0.1477262\ttotal: 406ms\tremaining: 605ms\n",
      "402:\tlearn: 0.1474980\ttotal: 407ms\tremaining: 603ms\n",
      "403:\tlearn: 0.1474583\ttotal: 408ms\tremaining: 602ms\n",
      "404:\tlearn: 0.1474288\ttotal: 409ms\tremaining: 601ms\n",
      "405:\tlearn: 0.1471848\ttotal: 410ms\tremaining: 599ms\n",
      "406:\tlearn: 0.1469807\ttotal: 410ms\tremaining: 598ms\n",
      "407:\tlearn: 0.1465857\ttotal: 411ms\tremaining: 597ms\n",
      "408:\tlearn: 0.1465537\ttotal: 412ms\tremaining: 596ms\n",
      "409:\tlearn: 0.1462976\ttotal: 413ms\tremaining: 594ms\n",
      "410:\tlearn: 0.1459740\ttotal: 414ms\tremaining: 593ms\n",
      "411:\tlearn: 0.1456914\ttotal: 415ms\tremaining: 592ms\n",
      "412:\tlearn: 0.1456622\ttotal: 415ms\tremaining: 590ms\n",
      "413:\tlearn: 0.1452368\ttotal: 416ms\tremaining: 589ms\n",
      "414:\tlearn: 0.1449247\ttotal: 417ms\tremaining: 588ms\n",
      "415:\tlearn: 0.1448187\ttotal: 418ms\tremaining: 586ms\n",
      "416:\tlearn: 0.1447729\ttotal: 419ms\tremaining: 585ms\n",
      "417:\tlearn: 0.1445455\ttotal: 419ms\tremaining: 584ms\n",
      "418:\tlearn: 0.1443756\ttotal: 420ms\tremaining: 583ms\n",
      "419:\tlearn: 0.1442028\ttotal: 421ms\tremaining: 581ms\n",
      "420:\tlearn: 0.1441454\ttotal: 422ms\tremaining: 580ms\n",
      "421:\tlearn: 0.1438863\ttotal: 423ms\tremaining: 579ms\n",
      "422:\tlearn: 0.1435480\ttotal: 424ms\tremaining: 578ms\n",
      "423:\tlearn: 0.1431646\ttotal: 425ms\tremaining: 577ms\n",
      "424:\tlearn: 0.1431349\ttotal: 426ms\tremaining: 576ms\n",
      "425:\tlearn: 0.1429934\ttotal: 427ms\tremaining: 575ms\n",
      "426:\tlearn: 0.1427800\ttotal: 428ms\tremaining: 574ms\n",
      "427:\tlearn: 0.1424009\ttotal: 428ms\tremaining: 572ms\n",
      "428:\tlearn: 0.1421377\ttotal: 429ms\tremaining: 571ms\n",
      "429:\tlearn: 0.1419492\ttotal: 430ms\tremaining: 570ms\n",
      "430:\tlearn: 0.1416893\ttotal: 431ms\tremaining: 569ms\n",
      "431:\tlearn: 0.1414751\ttotal: 432ms\tremaining: 568ms\n",
      "432:\tlearn: 0.1411782\ttotal: 432ms\tremaining: 566ms\n",
      "433:\tlearn: 0.1408208\ttotal: 433ms\tremaining: 565ms\n",
      "434:\tlearn: 0.1405826\ttotal: 434ms\tremaining: 564ms\n",
      "435:\tlearn: 0.1402616\ttotal: 435ms\tremaining: 563ms\n",
      "436:\tlearn: 0.1399582\ttotal: 436ms\tremaining: 562ms\n",
      "437:\tlearn: 0.1399396\ttotal: 437ms\tremaining: 560ms\n",
      "438:\tlearn: 0.1397519\ttotal: 437ms\tremaining: 559ms\n",
      "439:\tlearn: 0.1396336\ttotal: 438ms\tremaining: 558ms\n",
      "440:\tlearn: 0.1394263\ttotal: 439ms\tremaining: 556ms\n",
      "441:\tlearn: 0.1393074\ttotal: 440ms\tremaining: 555ms\n",
      "442:\tlearn: 0.1389974\ttotal: 441ms\tremaining: 554ms\n",
      "443:\tlearn: 0.1389768\ttotal: 441ms\tremaining: 553ms\n",
      "444:\tlearn: 0.1389099\ttotal: 442ms\tremaining: 552ms\n",
      "445:\tlearn: 0.1387966\ttotal: 443ms\tremaining: 550ms\n",
      "446:\tlearn: 0.1387619\ttotal: 444ms\tremaining: 549ms\n",
      "447:\tlearn: 0.1385885\ttotal: 445ms\tremaining: 548ms\n",
      "448:\tlearn: 0.1383978\ttotal: 445ms\tremaining: 547ms\n",
      "449:\tlearn: 0.1383816\ttotal: 446ms\tremaining: 545ms\n",
      "450:\tlearn: 0.1380843\ttotal: 447ms\tremaining: 544ms\n",
      "451:\tlearn: 0.1377682\ttotal: 448ms\tremaining: 543ms\n",
      "452:\tlearn: 0.1375335\ttotal: 449ms\tremaining: 542ms\n",
      "453:\tlearn: 0.1372798\ttotal: 449ms\tremaining: 540ms\n",
      "454:\tlearn: 0.1369853\ttotal: 450ms\tremaining: 539ms\n",
      "455:\tlearn: 0.1366820\ttotal: 451ms\tremaining: 538ms\n",
      "456:\tlearn: 0.1366257\ttotal: 452ms\tremaining: 537ms\n",
      "457:\tlearn: 0.1364397\ttotal: 452ms\tremaining: 535ms\n",
      "458:\tlearn: 0.1361617\ttotal: 453ms\tremaining: 534ms\n",
      "459:\tlearn: 0.1359581\ttotal: 454ms\tremaining: 533ms\n",
      "460:\tlearn: 0.1357492\ttotal: 455ms\tremaining: 532ms\n"
     ]
    },
    {
     "name": "stdout",
     "output_type": "stream",
     "text": [
      "461:\tlearn: 0.1355603\ttotal: 456ms\tremaining: 531ms\n",
      "462:\tlearn: 0.1355356\ttotal: 457ms\tremaining: 530ms\n",
      "463:\tlearn: 0.1352252\ttotal: 458ms\tremaining: 529ms\n",
      "464:\tlearn: 0.1351770\ttotal: 458ms\tremaining: 528ms\n",
      "465:\tlearn: 0.1348776\ttotal: 459ms\tremaining: 526ms\n",
      "466:\tlearn: 0.1347833\ttotal: 460ms\tremaining: 525ms\n",
      "467:\tlearn: 0.1345697\ttotal: 461ms\tremaining: 524ms\n",
      "468:\tlearn: 0.1345216\ttotal: 462ms\tremaining: 523ms\n",
      "469:\tlearn: 0.1341787\ttotal: 463ms\tremaining: 522ms\n",
      "470:\tlearn: 0.1338044\ttotal: 463ms\tremaining: 520ms\n",
      "471:\tlearn: 0.1336031\ttotal: 464ms\tremaining: 519ms\n",
      "472:\tlearn: 0.1332804\ttotal: 465ms\tremaining: 518ms\n",
      "473:\tlearn: 0.1331123\ttotal: 466ms\tremaining: 517ms\n",
      "474:\tlearn: 0.1327965\ttotal: 466ms\tremaining: 516ms\n",
      "475:\tlearn: 0.1325801\ttotal: 467ms\tremaining: 514ms\n",
      "476:\tlearn: 0.1324586\ttotal: 468ms\tremaining: 513ms\n",
      "477:\tlearn: 0.1324400\ttotal: 469ms\tremaining: 512ms\n",
      "478:\tlearn: 0.1320645\ttotal: 470ms\tremaining: 511ms\n",
      "479:\tlearn: 0.1318249\ttotal: 471ms\tremaining: 510ms\n",
      "480:\tlearn: 0.1316129\ttotal: 471ms\tremaining: 509ms\n",
      "481:\tlearn: 0.1314950\ttotal: 472ms\tremaining: 508ms\n",
      "482:\tlearn: 0.1310286\ttotal: 473ms\tremaining: 507ms\n",
      "483:\tlearn: 0.1308421\ttotal: 474ms\tremaining: 505ms\n",
      "484:\tlearn: 0.1307915\ttotal: 475ms\tremaining: 504ms\n",
      "485:\tlearn: 0.1307283\ttotal: 476ms\tremaining: 503ms\n",
      "486:\tlearn: 0.1305194\ttotal: 477ms\tremaining: 502ms\n",
      "487:\tlearn: 0.1301281\ttotal: 478ms\tremaining: 501ms\n",
      "488:\tlearn: 0.1299059\ttotal: 478ms\tremaining: 500ms\n",
      "489:\tlearn: 0.1296297\ttotal: 479ms\tremaining: 499ms\n",
      "490:\tlearn: 0.1295821\ttotal: 480ms\tremaining: 498ms\n",
      "491:\tlearn: 0.1295654\ttotal: 481ms\tremaining: 497ms\n",
      "492:\tlearn: 0.1292729\ttotal: 482ms\tremaining: 496ms\n",
      "493:\tlearn: 0.1290056\ttotal: 483ms\tremaining: 495ms\n",
      "494:\tlearn: 0.1287097\ttotal: 484ms\tremaining: 493ms\n",
      "495:\tlearn: 0.1284942\ttotal: 484ms\tremaining: 492ms\n",
      "496:\tlearn: 0.1282997\ttotal: 485ms\tremaining: 491ms\n",
      "497:\tlearn: 0.1281121\ttotal: 486ms\tremaining: 490ms\n",
      "498:\tlearn: 0.1278808\ttotal: 487ms\tremaining: 489ms\n",
      "499:\tlearn: 0.1278342\ttotal: 488ms\tremaining: 488ms\n",
      "500:\tlearn: 0.1275585\ttotal: 489ms\tremaining: 487ms\n",
      "501:\tlearn: 0.1272966\ttotal: 490ms\tremaining: 486ms\n",
      "502:\tlearn: 0.1269323\ttotal: 490ms\tremaining: 485ms\n",
      "503:\tlearn: 0.1266777\ttotal: 491ms\tremaining: 484ms\n",
      "504:\tlearn: 0.1265186\ttotal: 492ms\tremaining: 482ms\n",
      "505:\tlearn: 0.1262376\ttotal: 493ms\tremaining: 481ms\n",
      "506:\tlearn: 0.1259302\ttotal: 494ms\tremaining: 480ms\n",
      "507:\tlearn: 0.1256988\ttotal: 495ms\tremaining: 479ms\n",
      "508:\tlearn: 0.1255528\ttotal: 495ms\tremaining: 478ms\n",
      "509:\tlearn: 0.1253463\ttotal: 496ms\tremaining: 477ms\n",
      "510:\tlearn: 0.1250660\ttotal: 497ms\tremaining: 475ms\n",
      "511:\tlearn: 0.1250237\ttotal: 498ms\tremaining: 474ms\n",
      "512:\tlearn: 0.1246910\ttotal: 499ms\tremaining: 474ms\n",
      "513:\tlearn: 0.1245827\ttotal: 500ms\tremaining: 473ms\n",
      "514:\tlearn: 0.1242916\ttotal: 501ms\tremaining: 472ms\n",
      "515:\tlearn: 0.1241710\ttotal: 502ms\tremaining: 471ms\n",
      "516:\tlearn: 0.1239108\ttotal: 503ms\tremaining: 470ms\n",
      "517:\tlearn: 0.1239008\ttotal: 504ms\tremaining: 469ms\n",
      "518:\tlearn: 0.1236247\ttotal: 505ms\tremaining: 468ms\n",
      "519:\tlearn: 0.1235206\ttotal: 505ms\tremaining: 467ms\n",
      "520:\tlearn: 0.1234652\ttotal: 506ms\tremaining: 465ms\n",
      "521:\tlearn: 0.1232106\ttotal: 507ms\tremaining: 464ms\n",
      "522:\tlearn: 0.1228536\ttotal: 508ms\tremaining: 463ms\n",
      "523:\tlearn: 0.1226543\ttotal: 509ms\tremaining: 462ms\n",
      "524:\tlearn: 0.1223508\ttotal: 510ms\tremaining: 461ms\n",
      "525:\tlearn: 0.1220941\ttotal: 511ms\tremaining: 460ms\n",
      "526:\tlearn: 0.1219087\ttotal: 511ms\tremaining: 459ms\n",
      "527:\tlearn: 0.1217212\ttotal: 512ms\tremaining: 458ms\n",
      "528:\tlearn: 0.1214867\ttotal: 513ms\tremaining: 457ms\n",
      "529:\tlearn: 0.1213079\ttotal: 514ms\tremaining: 456ms\n",
      "530:\tlearn: 0.1211185\ttotal: 515ms\tremaining: 454ms\n",
      "531:\tlearn: 0.1208716\ttotal: 515ms\tremaining: 453ms\n",
      "532:\tlearn: 0.1205673\ttotal: 516ms\tremaining: 452ms\n",
      "533:\tlearn: 0.1202494\ttotal: 517ms\tremaining: 451ms\n",
      "534:\tlearn: 0.1202175\ttotal: 518ms\tremaining: 450ms\n",
      "535:\tlearn: 0.1199613\ttotal: 519ms\tremaining: 449ms\n",
      "536:\tlearn: 0.1196668\ttotal: 520ms\tremaining: 448ms\n",
      "537:\tlearn: 0.1194252\ttotal: 520ms\tremaining: 447ms\n",
      "538:\tlearn: 0.1191797\ttotal: 521ms\tremaining: 446ms\n",
      "539:\tlearn: 0.1191403\ttotal: 522ms\tremaining: 445ms\n",
      "540:\tlearn: 0.1191247\ttotal: 523ms\tremaining: 444ms\n",
      "541:\tlearn: 0.1188282\ttotal: 524ms\tremaining: 443ms\n",
      "542:\tlearn: 0.1185538\ttotal: 525ms\tremaining: 441ms\n",
      "543:\tlearn: 0.1183431\ttotal: 525ms\tremaining: 440ms\n",
      "544:\tlearn: 0.1180650\ttotal: 526ms\tremaining: 439ms\n",
      "545:\tlearn: 0.1180483\ttotal: 527ms\tremaining: 438ms\n",
      "546:\tlearn: 0.1179498\ttotal: 528ms\tremaining: 437ms\n",
      "547:\tlearn: 0.1176908\ttotal: 528ms\tremaining: 436ms\n",
      "548:\tlearn: 0.1174263\ttotal: 529ms\tremaining: 435ms\n",
      "549:\tlearn: 0.1172272\ttotal: 530ms\tremaining: 434ms\n",
      "550:\tlearn: 0.1170380\ttotal: 531ms\tremaining: 433ms\n",
      "551:\tlearn: 0.1169353\ttotal: 532ms\tremaining: 432ms\n",
      "552:\tlearn: 0.1166735\ttotal: 533ms\tremaining: 431ms\n",
      "553:\tlearn: 0.1166370\ttotal: 534ms\tremaining: 430ms\n",
      "554:\tlearn: 0.1164991\ttotal: 534ms\tremaining: 429ms\n",
      "555:\tlearn: 0.1163571\ttotal: 535ms\tremaining: 427ms\n",
      "556:\tlearn: 0.1160892\ttotal: 536ms\tremaining: 426ms\n",
      "557:\tlearn: 0.1158802\ttotal: 537ms\tremaining: 425ms\n",
      "558:\tlearn: 0.1157255\ttotal: 538ms\tremaining: 424ms\n",
      "559:\tlearn: 0.1157099\ttotal: 539ms\tremaining: 423ms\n",
      "560:\tlearn: 0.1155334\ttotal: 539ms\tremaining: 422ms\n"
     ]
    },
    {
     "name": "stdout",
     "output_type": "stream",
     "text": [
      "561:\tlearn: 0.1154788\ttotal: 540ms\tremaining: 421ms\n",
      "562:\tlearn: 0.1152075\ttotal: 541ms\tremaining: 420ms\n",
      "563:\tlearn: 0.1149334\ttotal: 542ms\tremaining: 419ms\n",
      "564:\tlearn: 0.1146683\ttotal: 543ms\tremaining: 418ms\n",
      "565:\tlearn: 0.1144513\ttotal: 544ms\tremaining: 417ms\n",
      "566:\tlearn: 0.1141792\ttotal: 544ms\tremaining: 416ms\n",
      "567:\tlearn: 0.1139839\ttotal: 545ms\tremaining: 415ms\n",
      "568:\tlearn: 0.1136897\ttotal: 546ms\tremaining: 414ms\n",
      "569:\tlearn: 0.1134592\ttotal: 547ms\tremaining: 413ms\n",
      "570:\tlearn: 0.1134462\ttotal: 548ms\tremaining: 412ms\n",
      "571:\tlearn: 0.1132135\ttotal: 549ms\tremaining: 411ms\n",
      "572:\tlearn: 0.1129851\ttotal: 550ms\tremaining: 410ms\n",
      "573:\tlearn: 0.1127820\ttotal: 551ms\tremaining: 409ms\n",
      "574:\tlearn: 0.1125504\ttotal: 552ms\tremaining: 408ms\n",
      "575:\tlearn: 0.1123249\ttotal: 553ms\tremaining: 407ms\n",
      "576:\tlearn: 0.1120633\ttotal: 554ms\tremaining: 406ms\n",
      "577:\tlearn: 0.1118745\ttotal: 554ms\tremaining: 405ms\n",
      "578:\tlearn: 0.1116744\ttotal: 555ms\tremaining: 404ms\n",
      "579:\tlearn: 0.1113751\ttotal: 556ms\tremaining: 403ms\n",
      "580:\tlearn: 0.1111837\ttotal: 557ms\tremaining: 402ms\n",
      "581:\tlearn: 0.1110469\ttotal: 558ms\tremaining: 401ms\n",
      "582:\tlearn: 0.1108368\ttotal: 559ms\tremaining: 400ms\n",
      "583:\tlearn: 0.1105868\ttotal: 559ms\tremaining: 398ms\n",
      "584:\tlearn: 0.1103385\ttotal: 560ms\tremaining: 397ms\n",
      "585:\tlearn: 0.1101024\ttotal: 561ms\tremaining: 396ms\n",
      "586:\tlearn: 0.1100932\ttotal: 562ms\tremaining: 395ms\n",
      "587:\tlearn: 0.1099703\ttotal: 563ms\tremaining: 394ms\n",
      "588:\tlearn: 0.1099306\ttotal: 563ms\tremaining: 393ms\n",
      "589:\tlearn: 0.1099173\ttotal: 564ms\tremaining: 392ms\n",
      "590:\tlearn: 0.1096811\ttotal: 565ms\tremaining: 391ms\n",
      "591:\tlearn: 0.1095529\ttotal: 566ms\tremaining: 390ms\n",
      "592:\tlearn: 0.1093806\ttotal: 567ms\tremaining: 389ms\n",
      "593:\tlearn: 0.1093418\ttotal: 568ms\tremaining: 388ms\n",
      "594:\tlearn: 0.1092261\ttotal: 569ms\tremaining: 387ms\n",
      "595:\tlearn: 0.1089520\ttotal: 570ms\tremaining: 386ms\n",
      "596:\tlearn: 0.1087338\ttotal: 570ms\tremaining: 385ms\n",
      "597:\tlearn: 0.1085358\ttotal: 571ms\tremaining: 384ms\n",
      "598:\tlearn: 0.1082509\ttotal: 572ms\tremaining: 383ms\n",
      "599:\tlearn: 0.1080781\ttotal: 573ms\tremaining: 382ms\n",
      "600:\tlearn: 0.1079208\ttotal: 574ms\tremaining: 381ms\n",
      "601:\tlearn: 0.1078763\ttotal: 574ms\tremaining: 380ms\n",
      "602:\tlearn: 0.1076222\ttotal: 575ms\tremaining: 379ms\n",
      "603:\tlearn: 0.1073948\ttotal: 576ms\tremaining: 378ms\n",
      "604:\tlearn: 0.1072646\ttotal: 577ms\tremaining: 377ms\n",
      "605:\tlearn: 0.1070940\ttotal: 578ms\tremaining: 376ms\n",
      "606:\tlearn: 0.1069323\ttotal: 579ms\tremaining: 375ms\n",
      "607:\tlearn: 0.1068560\ttotal: 579ms\tremaining: 374ms\n",
      "608:\tlearn: 0.1066730\ttotal: 580ms\tremaining: 372ms\n",
      "609:\tlearn: 0.1066519\ttotal: 581ms\tremaining: 371ms\n",
      "610:\tlearn: 0.1064574\ttotal: 582ms\tremaining: 370ms\n",
      "611:\tlearn: 0.1063502\ttotal: 583ms\tremaining: 369ms\n",
      "612:\tlearn: 0.1062241\ttotal: 583ms\tremaining: 368ms\n",
      "613:\tlearn: 0.1062147\ttotal: 584ms\tremaining: 367ms\n",
      "614:\tlearn: 0.1061852\ttotal: 585ms\tremaining: 366ms\n",
      "615:\tlearn: 0.1061766\ttotal: 586ms\tremaining: 365ms\n",
      "616:\tlearn: 0.1060358\ttotal: 587ms\tremaining: 364ms\n",
      "617:\tlearn: 0.1058948\ttotal: 587ms\tremaining: 363ms\n",
      "618:\tlearn: 0.1058833\ttotal: 588ms\tremaining: 362ms\n",
      "619:\tlearn: 0.1056051\ttotal: 589ms\tremaining: 361ms\n",
      "620:\tlearn: 0.1055982\ttotal: 590ms\tremaining: 360ms\n",
      "621:\tlearn: 0.1054098\ttotal: 591ms\tremaining: 359ms\n",
      "622:\tlearn: 0.1052174\ttotal: 592ms\tremaining: 358ms\n",
      "623:\tlearn: 0.1049872\ttotal: 593ms\tremaining: 357ms\n",
      "624:\tlearn: 0.1047206\ttotal: 593ms\tremaining: 356ms\n",
      "625:\tlearn: 0.1045472\ttotal: 594ms\tremaining: 355ms\n",
      "626:\tlearn: 0.1043906\ttotal: 595ms\tremaining: 354ms\n",
      "627:\tlearn: 0.1042108\ttotal: 596ms\tremaining: 353ms\n",
      "628:\tlearn: 0.1039710\ttotal: 597ms\tremaining: 352ms\n",
      "629:\tlearn: 0.1038437\ttotal: 598ms\tremaining: 351ms\n",
      "630:\tlearn: 0.1037344\ttotal: 598ms\tremaining: 350ms\n",
      "631:\tlearn: 0.1035646\ttotal: 599ms\tremaining: 349ms\n",
      "632:\tlearn: 0.1033858\ttotal: 600ms\tremaining: 348ms\n",
      "633:\tlearn: 0.1032583\ttotal: 601ms\tremaining: 347ms\n",
      "634:\tlearn: 0.1029794\ttotal: 602ms\tremaining: 346ms\n",
      "635:\tlearn: 0.1028210\ttotal: 603ms\tremaining: 345ms\n",
      "636:\tlearn: 0.1026897\ttotal: 604ms\tremaining: 344ms\n",
      "637:\tlearn: 0.1025915\ttotal: 604ms\tremaining: 343ms\n",
      "638:\tlearn: 0.1024190\ttotal: 605ms\tremaining: 342ms\n",
      "639:\tlearn: 0.1022863\ttotal: 606ms\tremaining: 341ms\n",
      "640:\tlearn: 0.1020260\ttotal: 607ms\tremaining: 340ms\n",
      "641:\tlearn: 0.1019209\ttotal: 607ms\tremaining: 339ms\n",
      "642:\tlearn: 0.1018725\ttotal: 608ms\tremaining: 338ms\n",
      "643:\tlearn: 0.1018487\ttotal: 609ms\tremaining: 337ms\n",
      "644:\tlearn: 0.1017130\ttotal: 610ms\tremaining: 336ms\n",
      "645:\tlearn: 0.1015759\ttotal: 611ms\tremaining: 335ms\n",
      "646:\tlearn: 0.1015632\ttotal: 611ms\tremaining: 334ms\n",
      "647:\tlearn: 0.1014426\ttotal: 612ms\tremaining: 332ms\n",
      "648:\tlearn: 0.1014203\ttotal: 613ms\tremaining: 331ms\n",
      "649:\tlearn: 0.1012334\ttotal: 614ms\tremaining: 330ms\n",
      "650:\tlearn: 0.1010876\ttotal: 615ms\tremaining: 329ms\n",
      "651:\tlearn: 0.1008804\ttotal: 615ms\tremaining: 328ms\n",
      "652:\tlearn: 0.1008176\ttotal: 616ms\tremaining: 327ms\n",
      "653:\tlearn: 0.1006679\ttotal: 617ms\tremaining: 326ms\n",
      "654:\tlearn: 0.1003458\ttotal: 617ms\tremaining: 325ms\n",
      "655:\tlearn: 0.1002919\ttotal: 618ms\tremaining: 324ms\n",
      "656:\tlearn: 0.1001107\ttotal: 619ms\tremaining: 323ms\n",
      "657:\tlearn: 0.0998905\ttotal: 620ms\tremaining: 322ms\n",
      "658:\tlearn: 0.0996901\ttotal: 621ms\tremaining: 321ms\n",
      "659:\tlearn: 0.0995287\ttotal: 621ms\tremaining: 320ms\n",
      "660:\tlearn: 0.0992369\ttotal: 622ms\tremaining: 319ms\n",
      "661:\tlearn: 0.0991153\ttotal: 623ms\tremaining: 318ms\n",
      "662:\tlearn: 0.0989547\ttotal: 624ms\tremaining: 317ms\n",
      "663:\tlearn: 0.0988163\ttotal: 625ms\tremaining: 316ms\n",
      "664:\tlearn: 0.0986215\ttotal: 625ms\tremaining: 315ms\n",
      "665:\tlearn: 0.0983934\ttotal: 626ms\tremaining: 314ms\n",
      "666:\tlearn: 0.0982903\ttotal: 627ms\tremaining: 313ms\n",
      "667:\tlearn: 0.0980300\ttotal: 628ms\tremaining: 312ms\n",
      "668:\tlearn: 0.0978412\ttotal: 629ms\tremaining: 311ms\n",
      "669:\tlearn: 0.0978024\ttotal: 629ms\tremaining: 310ms\n",
      "670:\tlearn: 0.0975812\ttotal: 630ms\tremaining: 309ms\n",
      "671:\tlearn: 0.0974158\ttotal: 631ms\tremaining: 308ms\n",
      "672:\tlearn: 0.0972334\ttotal: 632ms\tremaining: 307ms\n",
      "673:\tlearn: 0.0971350\ttotal: 633ms\tremaining: 306ms\n",
      "674:\tlearn: 0.0971179\ttotal: 634ms\tremaining: 305ms\n",
      "675:\tlearn: 0.0969400\ttotal: 634ms\tremaining: 304ms\n",
      "676:\tlearn: 0.0969252\ttotal: 635ms\tremaining: 303ms\n",
      "677:\tlearn: 0.0967680\ttotal: 636ms\tremaining: 302ms\n",
      "678:\tlearn: 0.0966829\ttotal: 637ms\tremaining: 301ms\n",
      "679:\tlearn: 0.0966285\ttotal: 638ms\tremaining: 300ms\n",
      "680:\tlearn: 0.0965384\ttotal: 638ms\tremaining: 299ms\n",
      "681:\tlearn: 0.0964004\ttotal: 639ms\tremaining: 298ms\n",
      "682:\tlearn: 0.0962627\ttotal: 640ms\tremaining: 297ms\n",
      "683:\tlearn: 0.0960759\ttotal: 641ms\tremaining: 296ms\n",
      "684:\tlearn: 0.0958864\ttotal: 642ms\tremaining: 295ms\n",
      "685:\tlearn: 0.0956783\ttotal: 642ms\tremaining: 294ms\n",
      "686:\tlearn: 0.0956642\ttotal: 643ms\tremaining: 293ms\n",
      "687:\tlearn: 0.0954061\ttotal: 644ms\tremaining: 292ms\n",
      "688:\tlearn: 0.0952827\ttotal: 645ms\tremaining: 291ms\n",
      "689:\tlearn: 0.0952356\ttotal: 646ms\tremaining: 290ms\n"
     ]
    },
    {
     "name": "stdout",
     "output_type": "stream",
     "text": [
      "690:\tlearn: 0.0951683\ttotal: 647ms\tremaining: 290ms\n",
      "691:\tlearn: 0.0949717\ttotal: 648ms\tremaining: 289ms\n",
      "692:\tlearn: 0.0947926\ttotal: 649ms\tremaining: 288ms\n",
      "693:\tlearn: 0.0945518\ttotal: 650ms\tremaining: 287ms\n",
      "694:\tlearn: 0.0944093\ttotal: 651ms\tremaining: 286ms\n",
      "695:\tlearn: 0.0942755\ttotal: 651ms\tremaining: 285ms\n",
      "696:\tlearn: 0.0941414\ttotal: 652ms\tremaining: 284ms\n",
      "697:\tlearn: 0.0939482\ttotal: 653ms\tremaining: 283ms\n",
      "698:\tlearn: 0.0937141\ttotal: 654ms\tremaining: 282ms\n",
      "699:\tlearn: 0.0935408\ttotal: 655ms\tremaining: 281ms\n",
      "700:\tlearn: 0.0933188\ttotal: 656ms\tremaining: 280ms\n",
      "701:\tlearn: 0.0931764\ttotal: 656ms\tremaining: 279ms\n",
      "702:\tlearn: 0.0931045\ttotal: 657ms\tremaining: 278ms\n",
      "703:\tlearn: 0.0929563\ttotal: 658ms\tremaining: 277ms\n",
      "704:\tlearn: 0.0927977\ttotal: 659ms\tremaining: 276ms\n",
      "705:\tlearn: 0.0927811\ttotal: 660ms\tremaining: 275ms\n",
      "706:\tlearn: 0.0927314\ttotal: 661ms\tremaining: 274ms\n",
      "707:\tlearn: 0.0925585\ttotal: 661ms\tremaining: 273ms\n",
      "708:\tlearn: 0.0924115\ttotal: 662ms\tremaining: 272ms\n",
      "709:\tlearn: 0.0923912\ttotal: 663ms\tremaining: 271ms\n",
      "710:\tlearn: 0.0922546\ttotal: 664ms\tremaining: 270ms\n",
      "711:\tlearn: 0.0921073\ttotal: 664ms\tremaining: 269ms\n",
      "712:\tlearn: 0.0919987\ttotal: 665ms\tremaining: 268ms\n",
      "713:\tlearn: 0.0919412\ttotal: 666ms\tremaining: 267ms\n",
      "714:\tlearn: 0.0918268\ttotal: 667ms\tremaining: 266ms\n",
      "715:\tlearn: 0.0918145\ttotal: 668ms\tremaining: 265ms\n",
      "716:\tlearn: 0.0917469\ttotal: 668ms\tremaining: 264ms\n",
      "717:\tlearn: 0.0915778\ttotal: 669ms\tremaining: 263ms\n",
      "718:\tlearn: 0.0915028\ttotal: 670ms\tremaining: 262ms\n",
      "719:\tlearn: 0.0913518\ttotal: 671ms\tremaining: 261ms\n",
      "720:\tlearn: 0.0911859\ttotal: 672ms\tremaining: 260ms\n",
      "721:\tlearn: 0.0911104\ttotal: 673ms\tremaining: 259ms\n",
      "722:\tlearn: 0.0909093\ttotal: 674ms\tremaining: 258ms\n",
      "723:\tlearn: 0.0905920\ttotal: 675ms\tremaining: 257ms\n",
      "724:\tlearn: 0.0905431\ttotal: 675ms\tremaining: 256ms\n",
      "725:\tlearn: 0.0904050\ttotal: 676ms\tremaining: 255ms\n",
      "726:\tlearn: 0.0903190\ttotal: 677ms\tremaining: 254ms\n",
      "727:\tlearn: 0.0901432\ttotal: 678ms\tremaining: 253ms\n",
      "728:\tlearn: 0.0900296\ttotal: 679ms\tremaining: 252ms\n",
      "729:\tlearn: 0.0898230\ttotal: 680ms\tremaining: 251ms\n",
      "730:\tlearn: 0.0897531\ttotal: 680ms\tremaining: 250ms\n",
      "731:\tlearn: 0.0895630\ttotal: 681ms\tremaining: 249ms\n",
      "732:\tlearn: 0.0894656\ttotal: 682ms\tremaining: 248ms\n",
      "733:\tlearn: 0.0893019\ttotal: 683ms\tremaining: 247ms\n",
      "734:\tlearn: 0.0892236\ttotal: 684ms\tremaining: 246ms\n",
      "735:\tlearn: 0.0890659\ttotal: 684ms\tremaining: 246ms\n",
      "736:\tlearn: 0.0889690\ttotal: 685ms\tremaining: 245ms\n",
      "737:\tlearn: 0.0887870\ttotal: 686ms\tremaining: 244ms\n",
      "738:\tlearn: 0.0886396\ttotal: 687ms\tremaining: 243ms\n",
      "739:\tlearn: 0.0886109\ttotal: 688ms\tremaining: 242ms\n",
      "740:\tlearn: 0.0885698\ttotal: 688ms\tremaining: 241ms\n",
      "741:\tlearn: 0.0884301\ttotal: 689ms\tremaining: 240ms\n",
      "742:\tlearn: 0.0883033\ttotal: 690ms\tremaining: 239ms\n",
      "743:\tlearn: 0.0882604\ttotal: 691ms\tremaining: 238ms\n",
      "744:\tlearn: 0.0880142\ttotal: 692ms\tremaining: 237ms\n",
      "745:\tlearn: 0.0878850\ttotal: 692ms\tremaining: 236ms\n",
      "746:\tlearn: 0.0876570\ttotal: 693ms\tremaining: 235ms\n",
      "747:\tlearn: 0.0875274\ttotal: 694ms\tremaining: 234ms\n",
      "748:\tlearn: 0.0874019\ttotal: 695ms\tremaining: 233ms\n",
      "749:\tlearn: 0.0873801\ttotal: 696ms\tremaining: 232ms\n",
      "750:\tlearn: 0.0872625\ttotal: 696ms\tremaining: 231ms\n",
      "751:\tlearn: 0.0871676\ttotal: 697ms\tremaining: 230ms\n",
      "752:\tlearn: 0.0870699\ttotal: 698ms\tremaining: 229ms\n",
      "753:\tlearn: 0.0869963\ttotal: 699ms\tremaining: 228ms\n",
      "754:\tlearn: 0.0869807\ttotal: 700ms\tremaining: 227ms\n",
      "755:\tlearn: 0.0869094\ttotal: 700ms\tremaining: 226ms\n",
      "756:\tlearn: 0.0867668\ttotal: 701ms\tremaining: 225ms\n",
      "757:\tlearn: 0.0866405\ttotal: 702ms\tremaining: 224ms\n",
      "758:\tlearn: 0.0865021\ttotal: 703ms\tremaining: 223ms\n",
      "759:\tlearn: 0.0863636\ttotal: 704ms\tremaining: 222ms\n",
      "760:\tlearn: 0.0863123\ttotal: 705ms\tremaining: 221ms\n",
      "761:\tlearn: 0.0860958\ttotal: 705ms\tremaining: 220ms\n",
      "762:\tlearn: 0.0859450\ttotal: 706ms\tremaining: 219ms\n",
      "763:\tlearn: 0.0858044\ttotal: 707ms\tremaining: 218ms\n",
      "764:\tlearn: 0.0857132\ttotal: 708ms\tremaining: 217ms\n",
      "765:\tlearn: 0.0855638\ttotal: 708ms\tremaining: 216ms\n",
      "766:\tlearn: 0.0853706\ttotal: 709ms\tremaining: 215ms\n",
      "767:\tlearn: 0.0853475\ttotal: 710ms\tremaining: 214ms\n",
      "768:\tlearn: 0.0851909\ttotal: 711ms\tremaining: 213ms\n",
      "769:\tlearn: 0.0850429\ttotal: 712ms\tremaining: 213ms\n",
      "770:\tlearn: 0.0849252\ttotal: 712ms\tremaining: 212ms\n",
      "771:\tlearn: 0.0848291\ttotal: 713ms\tremaining: 211ms\n",
      "772:\tlearn: 0.0847258\ttotal: 714ms\tremaining: 210ms\n",
      "773:\tlearn: 0.0846440\ttotal: 715ms\tremaining: 209ms\n",
      "774:\tlearn: 0.0845171\ttotal: 715ms\tremaining: 208ms\n",
      "775:\tlearn: 0.0844394\ttotal: 716ms\tremaining: 207ms\n",
      "776:\tlearn: 0.0843029\ttotal: 717ms\tremaining: 206ms\n",
      "777:\tlearn: 0.0841766\ttotal: 717ms\tremaining: 205ms\n",
      "778:\tlearn: 0.0839867\ttotal: 718ms\tremaining: 204ms\n",
      "779:\tlearn: 0.0837713\ttotal: 719ms\tremaining: 203ms\n",
      "780:\tlearn: 0.0836339\ttotal: 720ms\tremaining: 202ms\n",
      "781:\tlearn: 0.0835581\ttotal: 721ms\tremaining: 201ms\n",
      "782:\tlearn: 0.0835062\ttotal: 721ms\tremaining: 200ms\n",
      "783:\tlearn: 0.0834545\ttotal: 722ms\tremaining: 199ms\n",
      "784:\tlearn: 0.0834104\ttotal: 723ms\tremaining: 198ms\n",
      "785:\tlearn: 0.0833053\ttotal: 724ms\tremaining: 197ms\n",
      "786:\tlearn: 0.0832438\ttotal: 725ms\tremaining: 196ms\n",
      "787:\tlearn: 0.0831326\ttotal: 725ms\tremaining: 195ms\n",
      "788:\tlearn: 0.0830540\ttotal: 726ms\tremaining: 194ms\n",
      "789:\tlearn: 0.0830146\ttotal: 727ms\tremaining: 193ms\n",
      "790:\tlearn: 0.0829626\ttotal: 728ms\tremaining: 192ms\n",
      "791:\tlearn: 0.0829442\ttotal: 729ms\tremaining: 191ms\n",
      "792:\tlearn: 0.0828199\ttotal: 729ms\tremaining: 190ms\n"
     ]
    },
    {
     "name": "stdout",
     "output_type": "stream",
     "text": [
      "793:\tlearn: 0.0826460\ttotal: 730ms\tremaining: 189ms\n",
      "794:\tlearn: 0.0825838\ttotal: 731ms\tremaining: 189ms\n",
      "795:\tlearn: 0.0824525\ttotal: 732ms\tremaining: 188ms\n",
      "796:\tlearn: 0.0824114\ttotal: 733ms\tremaining: 187ms\n",
      "797:\tlearn: 0.0822779\ttotal: 734ms\tremaining: 186ms\n",
      "798:\tlearn: 0.0821772\ttotal: 735ms\tremaining: 185ms\n",
      "799:\tlearn: 0.0820486\ttotal: 735ms\tremaining: 184ms\n",
      "800:\tlearn: 0.0818799\ttotal: 736ms\tremaining: 183ms\n",
      "801:\tlearn: 0.0817326\ttotal: 737ms\tremaining: 182ms\n",
      "802:\tlearn: 0.0816820\ttotal: 738ms\tremaining: 181ms\n",
      "803:\tlearn: 0.0815929\ttotal: 739ms\tremaining: 180ms\n",
      "804:\tlearn: 0.0815459\ttotal: 739ms\tremaining: 179ms\n",
      "805:\tlearn: 0.0814723\ttotal: 740ms\tremaining: 178ms\n",
      "806:\tlearn: 0.0814160\ttotal: 741ms\tremaining: 177ms\n",
      "807:\tlearn: 0.0813702\ttotal: 742ms\tremaining: 176ms\n",
      "808:\tlearn: 0.0812329\ttotal: 743ms\tremaining: 175ms\n",
      "809:\tlearn: 0.0811810\ttotal: 743ms\tremaining: 174ms\n",
      "810:\tlearn: 0.0811053\ttotal: 744ms\tremaining: 173ms\n",
      "811:\tlearn: 0.0808973\ttotal: 745ms\tremaining: 172ms\n",
      "812:\tlearn: 0.0807748\ttotal: 746ms\tremaining: 172ms\n",
      "813:\tlearn: 0.0807058\ttotal: 747ms\tremaining: 171ms\n",
      "814:\tlearn: 0.0805407\ttotal: 747ms\tremaining: 170ms\n",
      "815:\tlearn: 0.0804454\ttotal: 748ms\tremaining: 169ms\n",
      "816:\tlearn: 0.0802622\ttotal: 749ms\tremaining: 168ms\n",
      "817:\tlearn: 0.0801723\ttotal: 750ms\tremaining: 167ms\n",
      "818:\tlearn: 0.0799693\ttotal: 751ms\tremaining: 166ms\n",
      "819:\tlearn: 0.0797898\ttotal: 751ms\tremaining: 165ms\n",
      "820:\tlearn: 0.0796630\ttotal: 752ms\tremaining: 164ms\n",
      "821:\tlearn: 0.0794962\ttotal: 753ms\tremaining: 163ms\n",
      "822:\tlearn: 0.0794268\ttotal: 754ms\tremaining: 162ms\n",
      "823:\tlearn: 0.0793112\ttotal: 755ms\tremaining: 161ms\n",
      "824:\tlearn: 0.0792281\ttotal: 755ms\tremaining: 160ms\n",
      "825:\tlearn: 0.0791258\ttotal: 756ms\tremaining: 159ms\n",
      "826:\tlearn: 0.0791035\ttotal: 757ms\tremaining: 158ms\n",
      "827:\tlearn: 0.0789646\ttotal: 758ms\tremaining: 157ms\n",
      "828:\tlearn: 0.0788466\ttotal: 759ms\tremaining: 156ms\n",
      "829:\tlearn: 0.0786645\ttotal: 759ms\tremaining: 156ms\n",
      "830:\tlearn: 0.0786204\ttotal: 760ms\tremaining: 155ms\n",
      "831:\tlearn: 0.0784732\ttotal: 761ms\tremaining: 154ms\n",
      "832:\tlearn: 0.0783465\ttotal: 762ms\tremaining: 153ms\n",
      "833:\tlearn: 0.0782319\ttotal: 763ms\tremaining: 152ms\n",
      "834:\tlearn: 0.0781157\ttotal: 764ms\tremaining: 151ms\n",
      "835:\tlearn: 0.0779758\ttotal: 765ms\tremaining: 150ms\n",
      "836:\tlearn: 0.0778643\ttotal: 766ms\tremaining: 149ms\n",
      "837:\tlearn: 0.0777540\ttotal: 767ms\tremaining: 148ms\n",
      "838:\tlearn: 0.0777082\ttotal: 767ms\tremaining: 147ms\n",
      "839:\tlearn: 0.0775844\ttotal: 768ms\tremaining: 146ms\n",
      "840:\tlearn: 0.0775008\ttotal: 769ms\tremaining: 145ms\n",
      "841:\tlearn: 0.0774056\ttotal: 770ms\tremaining: 144ms\n",
      "842:\tlearn: 0.0773159\ttotal: 771ms\tremaining: 144ms\n",
      "843:\tlearn: 0.0771371\ttotal: 772ms\tremaining: 143ms\n",
      "844:\tlearn: 0.0769905\ttotal: 773ms\tremaining: 142ms\n",
      "845:\tlearn: 0.0768223\ttotal: 774ms\tremaining: 141ms\n",
      "846:\tlearn: 0.0767255\ttotal: 775ms\tremaining: 140ms\n",
      "847:\tlearn: 0.0765763\ttotal: 775ms\tremaining: 139ms\n",
      "848:\tlearn: 0.0764893\ttotal: 776ms\tremaining: 138ms\n",
      "849:\tlearn: 0.0764026\ttotal: 777ms\tremaining: 137ms\n",
      "850:\tlearn: 0.0763970\ttotal: 778ms\tremaining: 136ms\n",
      "851:\tlearn: 0.0762346\ttotal: 779ms\tremaining: 135ms\n",
      "852:\tlearn: 0.0760671\ttotal: 779ms\tremaining: 134ms\n",
      "853:\tlearn: 0.0759525\ttotal: 780ms\tremaining: 133ms\n",
      "854:\tlearn: 0.0759033\ttotal: 781ms\tremaining: 132ms\n",
      "855:\tlearn: 0.0757540\ttotal: 782ms\tremaining: 132ms\n",
      "856:\tlearn: 0.0757395\ttotal: 783ms\tremaining: 131ms\n",
      "857:\tlearn: 0.0756226\ttotal: 784ms\tremaining: 130ms\n",
      "858:\tlearn: 0.0754622\ttotal: 785ms\tremaining: 129ms\n",
      "859:\tlearn: 0.0754222\ttotal: 785ms\tremaining: 128ms\n",
      "860:\tlearn: 0.0753024\ttotal: 786ms\tremaining: 127ms\n",
      "861:\tlearn: 0.0752005\ttotal: 787ms\tremaining: 126ms\n",
      "862:\tlearn: 0.0750476\ttotal: 788ms\tremaining: 125ms\n",
      "863:\tlearn: 0.0749151\ttotal: 789ms\tremaining: 124ms\n",
      "864:\tlearn: 0.0747967\ttotal: 789ms\tremaining: 123ms\n",
      "865:\tlearn: 0.0746755\ttotal: 790ms\tremaining: 122ms\n",
      "866:\tlearn: 0.0746016\ttotal: 792ms\tremaining: 121ms\n",
      "867:\tlearn: 0.0745679\ttotal: 792ms\tremaining: 120ms\n",
      "868:\tlearn: 0.0743921\ttotal: 793ms\tremaining: 120ms\n",
      "869:\tlearn: 0.0742407\ttotal: 794ms\tremaining: 119ms\n",
      "870:\tlearn: 0.0741699\ttotal: 795ms\tremaining: 118ms\n",
      "871:\tlearn: 0.0739972\ttotal: 796ms\tremaining: 117ms\n",
      "872:\tlearn: 0.0739192\ttotal: 796ms\tremaining: 116ms\n",
      "873:\tlearn: 0.0738792\ttotal: 797ms\tremaining: 115ms\n",
      "874:\tlearn: 0.0737459\ttotal: 798ms\tremaining: 114ms\n",
      "875:\tlearn: 0.0736693\ttotal: 799ms\tremaining: 113ms\n",
      "876:\tlearn: 0.0735938\ttotal: 799ms\tremaining: 112ms\n",
      "877:\tlearn: 0.0735170\ttotal: 800ms\tremaining: 111ms\n",
      "878:\tlearn: 0.0733879\ttotal: 801ms\tremaining: 110ms\n",
      "879:\tlearn: 0.0732418\ttotal: 802ms\tremaining: 109ms\n",
      "880:\tlearn: 0.0730832\ttotal: 802ms\tremaining: 108ms\n",
      "881:\tlearn: 0.0730581\ttotal: 803ms\tremaining: 107ms\n",
      "882:\tlearn: 0.0729873\ttotal: 804ms\tremaining: 107ms\n",
      "883:\tlearn: 0.0728706\ttotal: 805ms\tremaining: 106ms\n",
      "884:\tlearn: 0.0727561\ttotal: 806ms\tremaining: 105ms\n",
      "885:\tlearn: 0.0726738\ttotal: 806ms\tremaining: 104ms\n",
      "886:\tlearn: 0.0725706\ttotal: 807ms\tremaining: 103ms\n",
      "887:\tlearn: 0.0724851\ttotal: 808ms\tremaining: 102ms\n",
      "888:\tlearn: 0.0724111\ttotal: 809ms\tremaining: 101ms\n",
      "889:\tlearn: 0.0723013\ttotal: 809ms\tremaining: 100ms\n",
      "890:\tlearn: 0.0721636\ttotal: 810ms\tremaining: 99.1ms\n",
      "891:\tlearn: 0.0720466\ttotal: 811ms\tremaining: 98.2ms\n",
      "892:\tlearn: 0.0719410\ttotal: 812ms\tremaining: 97.3ms\n",
      "893:\tlearn: 0.0718148\ttotal: 813ms\tremaining: 96.4ms\n",
      "894:\tlearn: 0.0716608\ttotal: 814ms\tremaining: 95.5ms\n",
      "895:\tlearn: 0.0715736\ttotal: 814ms\tremaining: 94.5ms\n",
      "896:\tlearn: 0.0714706\ttotal: 815ms\tremaining: 93.6ms\n",
      "897:\tlearn: 0.0713902\ttotal: 816ms\tremaining: 92.7ms\n",
      "898:\tlearn: 0.0713101\ttotal: 817ms\tremaining: 91.8ms\n",
      "899:\tlearn: 0.0711607\ttotal: 818ms\tremaining: 90.9ms\n",
      "900:\tlearn: 0.0710707\ttotal: 818ms\tremaining: 89.9ms\n",
      "901:\tlearn: 0.0709743\ttotal: 819ms\tremaining: 89ms\n",
      "902:\tlearn: 0.0709243\ttotal: 820ms\tremaining: 88.1ms\n",
      "903:\tlearn: 0.0707923\ttotal: 821ms\tremaining: 87.2ms\n",
      "904:\tlearn: 0.0707622\ttotal: 822ms\tremaining: 86.3ms\n",
      "905:\tlearn: 0.0706185\ttotal: 823ms\tremaining: 85.3ms\n",
      "906:\tlearn: 0.0704713\ttotal: 824ms\tremaining: 84.4ms\n",
      "907:\tlearn: 0.0703904\ttotal: 824ms\tremaining: 83.5ms\n",
      "908:\tlearn: 0.0702990\ttotal: 825ms\tremaining: 82.6ms\n",
      "909:\tlearn: 0.0701964\ttotal: 826ms\tremaining: 81.7ms\n",
      "910:\tlearn: 0.0701439\ttotal: 827ms\tremaining: 80.8ms\n",
      "911:\tlearn: 0.0700111\ttotal: 828ms\tremaining: 79.9ms\n",
      "912:\tlearn: 0.0698358\ttotal: 829ms\tremaining: 79ms\n",
      "913:\tlearn: 0.0697103\ttotal: 829ms\tremaining: 78ms\n",
      "914:\tlearn: 0.0695603\ttotal: 830ms\tremaining: 77.1ms\n",
      "915:\tlearn: 0.0694966\ttotal: 831ms\tremaining: 76.2ms\n",
      "916:\tlearn: 0.0693083\ttotal: 832ms\tremaining: 75.3ms\n",
      "917:\tlearn: 0.0691660\ttotal: 833ms\tremaining: 74.4ms\n",
      "918:\tlearn: 0.0690905\ttotal: 834ms\tremaining: 73.5ms\n",
      "919:\tlearn: 0.0689868\ttotal: 834ms\tremaining: 72.6ms\n",
      "920:\tlearn: 0.0688951\ttotal: 835ms\tremaining: 71.7ms\n",
      "921:\tlearn: 0.0688041\ttotal: 836ms\tremaining: 70.7ms\n"
     ]
    },
    {
     "name": "stdout",
     "output_type": "stream",
     "text": [
      "922:\tlearn: 0.0686600\ttotal: 837ms\tremaining: 69.8ms\n",
      "923:\tlearn: 0.0685633\ttotal: 838ms\tremaining: 68.9ms\n",
      "924:\tlearn: 0.0684164\ttotal: 839ms\tremaining: 68ms\n",
      "925:\tlearn: 0.0682979\ttotal: 840ms\tremaining: 67.1ms\n",
      "926:\tlearn: 0.0682386\ttotal: 841ms\tremaining: 66.2ms\n",
      "927:\tlearn: 0.0680934\ttotal: 841ms\tremaining: 65.3ms\n",
      "928:\tlearn: 0.0679953\ttotal: 842ms\tremaining: 64.4ms\n",
      "929:\tlearn: 0.0678678\ttotal: 843ms\tremaining: 63.5ms\n",
      "930:\tlearn: 0.0676830\ttotal: 844ms\tremaining: 62.5ms\n",
      "931:\tlearn: 0.0676175\ttotal: 844ms\tremaining: 61.6ms\n",
      "932:\tlearn: 0.0674703\ttotal: 845ms\tremaining: 60.7ms\n",
      "933:\tlearn: 0.0673529\ttotal: 846ms\tremaining: 59.8ms\n",
      "934:\tlearn: 0.0672416\ttotal: 847ms\tremaining: 58.9ms\n",
      "935:\tlearn: 0.0671104\ttotal: 848ms\tremaining: 58ms\n",
      "936:\tlearn: 0.0669896\ttotal: 848ms\tremaining: 57ms\n",
      "937:\tlearn: 0.0668538\ttotal: 849ms\tremaining: 56.1ms\n",
      "938:\tlearn: 0.0667549\ttotal: 850ms\tremaining: 55.2ms\n",
      "939:\tlearn: 0.0666256\ttotal: 851ms\tremaining: 54.3ms\n",
      "940:\tlearn: 0.0665423\ttotal: 852ms\tremaining: 53.4ms\n",
      "941:\tlearn: 0.0665124\ttotal: 853ms\tremaining: 52.5ms\n",
      "942:\tlearn: 0.0664170\ttotal: 853ms\tremaining: 51.6ms\n",
      "943:\tlearn: 0.0663543\ttotal: 854ms\tremaining: 50.7ms\n",
      "944:\tlearn: 0.0662270\ttotal: 855ms\tremaining: 49.8ms\n",
      "945:\tlearn: 0.0661004\ttotal: 856ms\tremaining: 48.8ms\n",
      "946:\tlearn: 0.0660530\ttotal: 856ms\tremaining: 47.9ms\n",
      "947:\tlearn: 0.0659596\ttotal: 857ms\tremaining: 47ms\n",
      "948:\tlearn: 0.0659369\ttotal: 858ms\tremaining: 46.1ms\n",
      "949:\tlearn: 0.0658226\ttotal: 859ms\tremaining: 45.2ms\n",
      "950:\tlearn: 0.0656747\ttotal: 859ms\tremaining: 44.3ms\n",
      "951:\tlearn: 0.0655305\ttotal: 860ms\tremaining: 43.4ms\n",
      "952:\tlearn: 0.0654446\ttotal: 861ms\tremaining: 42.5ms\n",
      "953:\tlearn: 0.0653961\ttotal: 862ms\tremaining: 41.6ms\n",
      "954:\tlearn: 0.0653422\ttotal: 863ms\tremaining: 40.6ms\n",
      "955:\tlearn: 0.0652702\ttotal: 863ms\tremaining: 39.7ms\n",
      "956:\tlearn: 0.0651525\ttotal: 864ms\tremaining: 38.8ms\n",
      "957:\tlearn: 0.0650776\ttotal: 865ms\tremaining: 37.9ms\n",
      "958:\tlearn: 0.0650066\ttotal: 866ms\tremaining: 37ms\n",
      "959:\tlearn: 0.0649728\ttotal: 867ms\tremaining: 36.1ms\n",
      "960:\tlearn: 0.0648850\ttotal: 868ms\tremaining: 35.2ms\n",
      "961:\tlearn: 0.0647966\ttotal: 868ms\tremaining: 34.3ms\n",
      "962:\tlearn: 0.0646937\ttotal: 869ms\tremaining: 33.4ms\n",
      "963:\tlearn: 0.0646411\ttotal: 870ms\tremaining: 32.5ms\n",
      "964:\tlearn: 0.0645121\ttotal: 871ms\tremaining: 31.6ms\n",
      "965:\tlearn: 0.0645051\ttotal: 872ms\tremaining: 30.7ms\n",
      "966:\tlearn: 0.0644059\ttotal: 872ms\tremaining: 29.8ms\n",
      "967:\tlearn: 0.0643228\ttotal: 873ms\tremaining: 28.9ms\n",
      "968:\tlearn: 0.0642651\ttotal: 874ms\tremaining: 28ms\n",
      "969:\tlearn: 0.0641822\ttotal: 875ms\tremaining: 27.1ms\n",
      "970:\tlearn: 0.0641444\ttotal: 876ms\tremaining: 26.2ms\n",
      "971:\tlearn: 0.0640552\ttotal: 876ms\tremaining: 25.2ms\n",
      "972:\tlearn: 0.0639823\ttotal: 877ms\tremaining: 24.3ms\n",
      "973:\tlearn: 0.0638772\ttotal: 879ms\tremaining: 23.5ms\n",
      "974:\tlearn: 0.0638477\ttotal: 879ms\tremaining: 22.6ms\n",
      "975:\tlearn: 0.0637614\ttotal: 880ms\tremaining: 21.6ms\n",
      "976:\tlearn: 0.0637155\ttotal: 881ms\tremaining: 20.7ms\n",
      "977:\tlearn: 0.0636355\ttotal: 882ms\tremaining: 19.8ms\n",
      "978:\tlearn: 0.0635094\ttotal: 883ms\tremaining: 18.9ms\n",
      "979:\tlearn: 0.0634780\ttotal: 883ms\tremaining: 18ms\n",
      "980:\tlearn: 0.0634342\ttotal: 884ms\tremaining: 17.1ms\n",
      "981:\tlearn: 0.0634066\ttotal: 885ms\tremaining: 16.2ms\n",
      "982:\tlearn: 0.0633362\ttotal: 886ms\tremaining: 15.3ms\n",
      "983:\tlearn: 0.0632518\ttotal: 887ms\tremaining: 14.4ms\n",
      "984:\tlearn: 0.0632273\ttotal: 888ms\tremaining: 13.5ms\n",
      "985:\tlearn: 0.0631262\ttotal: 889ms\tremaining: 12.6ms\n",
      "986:\tlearn: 0.0630236\ttotal: 889ms\tremaining: 11.7ms\n",
      "987:\tlearn: 0.0629578\ttotal: 890ms\tremaining: 10.8ms\n",
      "988:\tlearn: 0.0628420\ttotal: 891ms\tremaining: 9.91ms\n",
      "989:\tlearn: 0.0627186\ttotal: 892ms\tremaining: 9.01ms\n",
      "990:\tlearn: 0.0626640\ttotal: 893ms\tremaining: 8.11ms\n",
      "991:\tlearn: 0.0625879\ttotal: 893ms\tremaining: 7.21ms\n",
      "992:\tlearn: 0.0624577\ttotal: 894ms\tremaining: 6.3ms\n",
      "993:\tlearn: 0.0624340\ttotal: 895ms\tremaining: 5.4ms\n",
      "994:\tlearn: 0.0623830\ttotal: 896ms\tremaining: 4.5ms\n",
      "995:\tlearn: 0.0622458\ttotal: 897ms\tremaining: 3.6ms\n",
      "996:\tlearn: 0.0622012\ttotal: 897ms\tremaining: 2.7ms\n",
      "997:\tlearn: 0.0620812\ttotal: 898ms\tremaining: 1.8ms\n",
      "998:\tlearn: 0.0620282\ttotal: 899ms\tremaining: 899us\n",
      "999:\tlearn: 0.0619429\ttotal: 900ms\tremaining: 0us\n"
     ]
    },
    {
     "data": {
      "text/plain": [
       "<catboost.core.CatBoostRegressor at 0x7f82d83604c0>"
      ]
     },
     "execution_count": 9,
     "metadata": {},
     "output_type": "execute_result"
    }
   ],
   "source": [
    "#Train the Model \n",
    "prior_model = ctb.CatBoostRegressor()\n",
    "prior_model.fit(X_train,Y_train)"
   ]
  },
  {
   "cell_type": "code",
   "execution_count": 10,
   "id": "af65dcda",
   "metadata": {
    "execution": {
     "iopub.execute_input": "2022-06-12T08:02:58.135224Z",
     "iopub.status.busy": "2022-06-12T08:02:58.134832Z",
     "iopub.status.idle": "2022-06-12T08:02:58.142130Z",
     "shell.execute_reply": "2022-06-12T08:02:58.142392Z"
    },
    "id": "af65dcda",
    "papermill": {
     "duration": 0.021004,
     "end_time": "2022-06-12T08:02:58.142511",
     "exception": false,
     "start_time": "2022-06-12T08:02:58.121507",
     "status": "completed"
    },
    "tags": []
   },
   "outputs": [
    {
     "data": {
      "application/scrapbook.scrap.json+json": {
       "data": 0.08261701791918664,
       "encoder": "json",
       "name": "Prior Model MSE",
       "version": 1
      }
     },
     "metadata": {
      "scrapbook": {
       "data": true,
       "display": false,
       "name": "Prior Model MSE"
      }
     },
     "output_type": "display_data"
    },
    {
     "data": {
      "application/scrapbook.scrap.json+json": {
       "data": 0.09462045590655058,
       "encoder": "json",
       "name": "ABC Pre-generator MSE",
       "version": 1
      }
     },
     "metadata": {
      "scrapbook": {
       "data": true,
       "display": false,
       "name": "ABC Pre-generator MSE"
      }
     },
     "output_type": "display_data"
    },
    {
     "data": {
      "application/scrapbook.scrap.json+json": {
       "data": 0.214406916956343,
       "encoder": "json",
       "name": "Prior Model MSE",
       "version": 1
      }
     },
     "metadata": {
      "scrapbook": {
       "data": true,
       "display": false,
       "name": "Prior Model MSE"
      }
     },
     "output_type": "display_data"
    },
    {
     "data": {
      "application/scrapbook.scrap.json+json": {
       "data": 0.24234458291562108,
       "encoder": "json",
       "name": "ABC Pre-generator MSE",
       "version": 1
      }
     },
     "metadata": {
      "scrapbook": {
       "data": true,
       "display": false,
       "name": "ABC Pre-generator MSE"
      }
     },
     "output_type": "display_data"
    }
   ],
   "source": [
    "y_pred = prior_model.predict(X_test)\n",
    "y_abc = y_pred + np.random.normal(0,variance, y_pred.shape) + bias \n",
    "mse = mean_squared_error(y_pred,Y_test)\n",
    "sb.glue(\"Prior Model MSE\",mse)\n",
    "mse = mean_squared_error(y_abc,Y_test)\n",
    "sb.glue(\"ABC Pre-generator MSE\",mse)\n",
    "mae = mean_absolute_error(y_pred,Y_test)\n",
    "sb.glue(\"Prior Model MSE\",mae)\n",
    "mae = mean_absolute_error(y_abc,Y_test)\n",
    "sb.glue(\"ABC Pre-generator MSE\",mae)"
   ]
  },
  {
   "cell_type": "markdown",
   "id": "25609da2",
   "metadata": {
    "papermill": {
     "duration": 0.009691,
     "end_time": "2022-06-12T08:02:58.162321",
     "exception": false,
     "start_time": "2022-06-12T08:02:58.152630",
     "status": "completed"
    },
    "tags": []
   },
   "source": [
    "# ABC GAN Model"
   ]
  },
  {
   "cell_type": "code",
   "execution_count": 11,
   "id": "dfc3464d",
   "metadata": {
    "execution": {
     "iopub.execute_input": "2022-06-12T08:02:58.184809Z",
     "iopub.status.busy": "2022-06-12T08:02:58.184448Z",
     "iopub.status.idle": "2022-06-12T08:02:58.186789Z",
     "shell.execute_reply": "2022-06-12T08:02:58.187021Z"
    },
    "papermill": {
     "duration": 0.015068,
     "end_time": "2022-06-12T08:02:58.187126",
     "exception": false,
     "start_time": "2022-06-12T08:02:58.172058",
     "status": "completed"
    },
    "tags": []
   },
   "outputs": [],
   "source": [
    "gen = network.Generator(n_features+1).to(device)\n",
    "disc = network.Discriminator(n_features+1).to(device)\n",
    "\n",
    "criterion = torch.nn.BCELoss()\n",
    "gen_opt = torch.optim.Adam(gen.parameters(), lr=0.001, betas=(0.5, 0.999))\n",
    "disc_opt = torch.optim.Adam(disc.parameters(), lr=0.001, betas=(0.5, 0.999))"
   ]
  },
  {
   "cell_type": "code",
   "execution_count": 12,
   "id": "b75fdd85",
   "metadata": {
    "execution": {
     "iopub.execute_input": "2022-06-12T08:02:58.209552Z",
     "iopub.status.busy": "2022-06-12T08:02:58.209188Z",
     "iopub.status.idle": "2022-06-12T08:03:58.130866Z",
     "shell.execute_reply": "2022-06-12T08:03:58.131206Z"
    },
    "papermill": {
     "duration": 59.934326,
     "end_time": "2022-06-12T08:03:58.131349",
     "exception": false,
     "start_time": "2022-06-12T08:02:58.197023",
     "status": "completed"
    },
    "tags": []
   },
   "outputs": [
    {
     "data": {
      "image/png": "[encoded data removed]",
      "text/plain": [
       "<Figure size 432x288 with 1 Axes>"
      ]
     },
     "metadata": {
      "needs_background": "light"
     },
     "output_type": "display_data"
    },
    {
     "data": {
      "image/png": "[encoded data removed]",
      "text/plain": [
       "<Figure size 432x288 with 1 Axes>"
      ]
     },
     "metadata": {
      "needs_background": "light"
     },
     "output_type": "display_data"
    }
   ],
   "source": [
    "#Training the ABC_GAN \n",
    "ABC_train_test2.training_GAN(disc,gen,disc_opt,gen_opt,train_data,batch_size,n_epochs,criterion,prior_model,variance,bias,device)"
   ]
  },
  {
   "cell_type": "code",
   "execution_count": 13,
   "id": "1fa7c368",
   "metadata": {
    "execution": {
     "iopub.execute_input": "2022-06-12T08:03:58.156333Z",
     "iopub.status.busy": "2022-06-12T08:03:58.155945Z",
     "iopub.status.idle": "2022-06-12T08:03:58.467010Z",
     "shell.execute_reply": "2022-06-12T08:03:58.467314Z"
    },
    "papermill": {
     "duration": 0.325097,
     "end_time": "2022-06-12T08:03:58.467443",
     "exception": false,
     "start_time": "2022-06-12T08:03:58.142346",
     "status": "completed"
    },
    "tags": []
   },
   "outputs": [
    {
     "data": {
      "application/scrapbook.scrap.json+json": {
       "data": 0.08634397231447388,
       "encoder": "json",
       "name": "ABC-GAN Model 1 MSE",
       "version": 1
      }
     },
     "metadata": {
      "scrapbook": {
       "data": true,
       "display": false,
       "name": "ABC-GAN Model 1 MSE"
      }
     },
     "output_type": "display_data"
    },
    {
     "data": {
      "application/scrapbook.scrap.json+json": {
       "data": 0.22267590425908565,
       "encoder": "json",
       "name": "ABC-GAN Model 1 MAE",
       "version": 1
      }
     },
     "metadata": {
      "scrapbook": {
       "data": true,
       "display": false,
       "name": "ABC-GAN Model 1 MAE"
      }
     },
     "output_type": "display_data"
    },
    {
     "data": {
      "application/scrapbook.scrap.json+json": {
       "data": 22.712942234426738,
       "encoder": "json",
       "name": "ABC-GAN Model 1 Manhattan Distance",
       "version": 1
      }
     },
     "metadata": {
      "scrapbook": {
       "data": true,
       "display": false,
       "name": "ABC-GAN Model 1 Manhattan Distance"
      }
     },
     "output_type": "display_data"
    },
    {
     "data": {
      "application/scrapbook.scrap.json+json": {
       "data": 2.9676547120267185,
       "encoder": "json",
       "name": "ABC-GAN Model 1 Euclidean distance",
       "version": 1
      }
     },
     "metadata": {
      "scrapbook": {
       "data": true,
       "display": false,
       "name": "ABC-GAN Model 1 Euclidean distance"
      }
     },
     "output_type": "display_data"
    },
    {
     "data": {
      "application/scrapbook.scrap.json+json": {
       "data": [
        [
         0.08591956127560241,
         0.08650989772882185,
         0.08620134759787511,
         0.08641221244496147,
         0.08684315503302525,
         0.08591910246275684,
         0.08521311470831894,
         0.08705003300354162,
         0.08728062796290972,
         0.0858068415511328,
         0.08573753650143467,
         0.08645800742240857,
         0.08597224615702768,
         0.08592477012010039,
         0.08625256504926555,
         0.08557329132480516,
         0.08710855988998109,
         0.08609584825569905,
         0.08674116026311125,
         0.08657927800164386,
         0.08667114933529443,
         0.08578991911558759,
         0.08676087060509356,
         0.084913744171429,
         0.08738696713118685,
         0.08575832964683847,
         0.08710809975437535,
         0.08519528657405537,
         0.08594691396069198,
         0.08571910706730534,
         0.08679687701963687,
         0.08599166659022023,
         0.08703983880265374,
         0.08674262781391075,
         0.0857846243655983,
         0.08607569164671003,
         0.08661020503579256,
         0.08709421047264469,
         0.08635090914880386,
         0.0857675631649259,
         0.08581318805859993,
         0.08627237689729922,
         0.08664963482421276,
         0.08568578924891271,
         0.08680797039541494,
         0.08585664006666514,
         0.08731501387963765,
         0.08696730825415591,
         0.08675697186585626,
         0.0856294081830416,
         0.08695351344483296,
         0.08602622535751596,
         0.08559688862079094,
         0.08612046776178384,
         0.08619505415588137,
         0.08575699176203265,
         0.08554701462251336,
         0.08641425103269051,
         0.08723424866316451,
         0.08587861669713708,
         0.08532269745242733,
         0.08610922555645566,
         0.08588012667504065,
         0.08638504439580151,
         0.08731981354891279,
         0.08668055636233765,
         0.08731331798998415,
         0.0859640708646284,
         0.08622381561985189,
         0.0867719187655041,
         0.0867694331517415,
         0.08750544632472246,
         0.08567789485780071,
         0.08593152360143,
         0.0852921133022997,
         0.08664385778947532,
         0.08772583327158091,
         0.08689974745952743,
         0.08583760050686759,
         0.08565334386038743,
         0.08705790214451382,
         0.08707142403258174,
         0.08619070111420743,
         0.08711585899216578,
         0.08658000566680141,
         0.08541966908709657,
         0.08711442555411399,
         0.08573871453941043,
         0.08583010736274212,
         0.08611295590101771,
         0.08663812420732107,
         0.08716382312852482,
         0.0872719845889418,
         0.08648430383128751,
         0.08707136251137715,
         0.08598231387737924,
         0.08658411392077929,
         0.08575703747472875,
         0.08643006079068662,
         0.08629362939561606
        ],
        [
         0.22205939563904323,
         0.22279249814649424,
         0.22389809126216992,
         0.22216208425222658,
         0.22481400501348225,
         0.22288127174126168,
         0.22115551694935442,
         0.22331459045994514,
         0.22471446288274785,
         0.22229026404081606,
         0.2211645328823258,
         0.22260545895380132,
         0.2221215849778816,
         0.22178375195054448,
         0.22368689827328803,
         0.22129727633414314,
         0.22289875233728512,
         0.22126596439264568,
         0.2233123325322773,
         0.22365359582153022,
         0.22401686147877983,
         0.222060204830532,
         0.22302264639852093,
         0.22102197259664536,
         0.22341782705602692,
         0.2202148340715497,
         0.22355459057086824,
         0.22081735631560578,
         0.2218468788207746,
         0.22211495260981953,
         0.2234437333091217,
         0.22099837211563306,
         0.22375360142220468,
         0.22299731595843447,
         0.22228801984559088,
         0.2218335777082864,
         0.22278587374032713,
         0.2231614059750356,
         0.22121145806330092,
         0.2232523269440029,
         0.22101307046764038,
         0.22135700789444587,
         0.2244654355168927,
         0.22103239007878536,
         0.22357348370931895,
         0.22218775405895477,
         0.22394832135999904,
         0.22286301157345959,
         0.222662661735918,
         0.22017303419609865,
         0.22392663914783328,
         0.22318673846037948,
         0.2223612863351317,
         0.22169404677754523,
         0.22169088886356822,
         0.2217538442243548,
         0.22030260797370882,
         0.22247927252422361,
         0.2250388181384872,
         0.22282165066138201,
         0.22146467554072538,
         0.2239257189646071,
         0.2211793902530974,
         0.22421987179447622,
         0.22492957652053414,
         0.22305069049345513,
         0.22351225805194938,
         0.22042488383457942,
         0.22336077584209396,
         0.22358114765409162,
         0.22385385241724698,
         0.22278613381672138,
         0.22184311598539352,
         0.22140836792395396,
         0.22182300069606772,
         0.2236033845692873,
         0.22454375905149124,
         0.2235969958790377,
         0.2212133330165171,
         0.22115258631460807,
         0.22325479403576431,
         0.22332655623847364,
         0.2222270669744295,
         0.2238729291540735,
         0.22311186176889083,
         0.2225517500922376,
         0.22374511769443167,
         0.22171523031212537,
         0.22261198624676348,
         0.22248538883001195,
         0.22267800953020067,
         0.22443634461538464,
         0.22509647281292608,
         0.22377756836951948,
         0.22372184211716933,
         0.22265491269382776,
         0.22291664297089858,
         0.22122087833635948,
         0.22387810504319622,
         0.22261534707949443
        ],
        [
         22.65005835518241,
         22.72483481094241,
         22.83760530874133,
         22.660532593727112,
         22.93102851137519,
         22.73388971760869,
         22.557862728834152,
         22.778088226914406,
         22.92087521404028,
         22.67360693216324,
         22.55878235399723,
         22.705756813287735,
         22.65640166774392,
         22.621942698955536,
         22.81606362387538,
         22.5723221860826,
         22.735672738403082,
         22.56912836804986,
         22.777857918292284,
         22.81266677379608,
         22.849719870835543,
         22.650140892714262,
         22.748309932649136,
         22.544241204857826,
         22.788618359714746,
         22.46191307529807,
         22.80256823822856,
         22.52337034419179,
         22.62838163971901,
         22.65572516620159,
         22.791260797530413,
         22.541833955794573,
         22.82286734506488,
         22.745726227760315,
         22.67337802425027,
         22.627024926245213,
         22.724159121513367,
         22.76246340945363,
         22.563568722456694,
         22.771737348288298,
         22.543333187699318,
         22.57841480523348,
         22.895474422723055,
         22.545303788036108,
         22.804495338350534,
         22.663150914013386,
         22.842728778719902,
         22.732027180492878,
         22.711591497063637,
         22.457649488002062,
         22.840517193078995,
         22.765047322958708,
         22.680851206183434,
         22.612792771309614,
         22.612470664083958,
         22.61889211088419,
         22.4708660133183,
         22.692885797470808,
         22.953959450125694,
         22.727808367460966,
         22.58939690515399,
         22.840423334389925,
         22.560297805815935,
         22.870426923036575,
         22.94281680509448,
         22.751170430332422,
         22.798250321298838,
         22.4833381511271,
         22.782799135893583,
         22.805277060717344,
         22.83309294655919,
         22.724185649305582,
         22.62799783051014,
         22.583653528243303,
         22.625946070998907,
         22.807545226067305,
         22.903463423252106,
         22.806893579661846,
         22.563759967684746,
         22.557563804090023,
         22.77198899164796,
         22.77930873632431,
         22.66716083139181,
         22.835038773715496,
         22.757409900426865,
         22.700278509408236,
         22.82200200483203,
         22.614953491836786,
         22.706422597169876,
         22.69350966066122,
         22.71315697208047,
         22.892507150769234,
         22.95984022691846,
         22.825311973690987,
         22.81962789595127,
         22.71080109477043,
         22.737497583031654,
         22.564529590308666,
         22.835566714406013,
         22.70676540210843
        ],
        [
         2.960370796050969,
         2.970523450225537,
         2.9652213163578973,
         2.968845848033554,
         2.976239542336701,
         2.9603628918092455,
         2.9481753170814873,
         2.9797824360783873,
         2.9837265377739954,
         2.9584282716022616,
         2.9572332885902552,
         2.969632427942164,
         2.9612782895257954,
         2.9604605304327634,
         2.966102094504686,
         2.954399383145435,
         2.980783975530275,
         2.963406236424784,
         2.974491275300257,
         2.97171437997794,
         2.97329064038483,
         2.9581365333246423,
         2.974829205470382,
         2.9429919988823885,
         2.985543610028341,
         2.9575918623058057,
         2.980776102787039,
         2.947866894985872,
         2.9608419788956284,
         2.9569154402629003,
         2.9754464296980645,
         2.9616127350149046,
         2.9796079537198645,
         2.9745164375102875,
         2.9580452473366643,
         2.9630593223836112,
         2.972245096497064,
         2.9805384527312775,
         2.96779256909542,
         2.957751078576837,
         2.958537676281509,
         2.9664427254751637,
         2.9729215852540922,
         2.956340728567852,
         2.9756365672461293,
         2.959286617886115,
         2.9843142287170497,
         2.9783662370373296,
         2.974762365352456,
         2.955367935582682,
         2.978130012503309,
         2.9622077892117273,
         2.9548067008385974,
         2.9638299060003344,
         2.965113071014308,
         2.9575687920532516,
         2.953945749585859,
         2.9688808674876856,
         2.982933684083972,
         2.959665336335847,
         2.9500703618977613,
         2.96363644982958,
         2.959691355674464,
         2.9683791079260335,
         2.9843962508335085,
         2.9734519920386204,
         2.984285246918998,
         2.9611374889039004,
         2.965607727469176,
         2.975018607350451,
         2.974975996790165,
         2.987566823540804,
         2.9562045388463347,
         2.9605768707037248,
         2.9495415841846624,
         2.9728224794841824,
         2.9913266277190877,
         2.9772091362334288,
         2.958958474142632,
         2.95578095835255,
         2.9799171160856823,
         2.980148528399774,
         2.96503819767118,
         2.980908857580337,
         2.971726868003475,
         2.9517463046277963,
         2.9808843329655756,
         2.957253604786012,
         2.958829321032171,
         2.9637006430987265,
         2.972724115882056,
         2.9817293571197117,
         2.9835787953516606,
         2.970084003995733,
         2.980147475572387,
         2.961451673671661,
         2.971797371948412,
         2.9575695803179896,
         2.969152438095767,
         2.966808082494187
        ]
       ],
       "encoder": "json",
       "name": "ABC_GAN_1 Metrics",
       "version": 1
      }
     },
     "metadata": {
      "scrapbook": {
       "data": true,
       "display": false,
       "name": "ABC_GAN_1 Metrics"
      }
     },
     "output_type": "display_data"
    },
    {
     "name": "stdout",
     "output_type": "stream",
     "text": [
      "MSE\n",
      "0.08634397231447388\n"
     ]
    }
   ],
   "source": [
    "ABC_GAN1_metrics=ABC_train_test2.test_generator(gen,test_data,prior_model,variance,bias,\"1\",device)\n",
    "sb.glue(\"ABC_GAN_1 Metrics\",ABC_GAN1_metrics)\n",
    "\n",
    "print(\"MSE\")\n",
    "print(mean(ABC_GAN1_metrics[0]))"
   ]
  },
  {
   "cell_type": "code",
   "execution_count": 14,
   "id": "eb22ce5c",
   "metadata": {
    "execution": {
     "iopub.execute_input": "2022-06-12T08:03:58.495332Z",
     "iopub.status.busy": "2022-06-12T08:03:58.494962Z",
     "iopub.status.idle": "2022-06-12T08:03:58.822468Z",
     "shell.execute_reply": "2022-06-12T08:03:58.822766Z"
    },
    "papermill": {
     "duration": 0.342792,
     "end_time": "2022-06-12T08:03:58.822889",
     "exception": false,
     "start_time": "2022-06-12T08:03:58.480097",
     "status": "completed"
    },
    "tags": []
   },
   "outputs": [
    {
     "data": {
      "image/png": "[encoded data removed]",
      "text/plain": [
       "<Figure size 432x288 with 1 Axes>"
      ]
     },
     "metadata": {
      "needs_background": "light"
     },
     "output_type": "display_data"
    },
    {
     "data": {
      "image/png": "[encoded data removed]",
      "text/plain": [
       "<Figure size 432x288 with 1 Axes>"
      ]
     },
     "metadata": {
      "needs_background": "light"
     },
     "output_type": "display_data"
    },
    {
     "data": {
      "image/png": "[encoded data removed]",
      "text/plain": [
       "<Figure size 432x288 with 1 Axes>"
      ]
     },
     "metadata": {
      "needs_background": "light"
     },
     "output_type": "display_data"
    },
    {
     "data": {
      "image/png": "[encoded data removed]",
      "text/plain": [
       "<Figure size 432x288 with 1 Axes>"
      ]
     },
     "metadata": {
      "needs_background": "light"
     },
     "output_type": "display_data"
    }
   ],
   "source": [
    "sanityChecks.discProbVsError(train_data,disc,device)\n",
    "sanityChecks.discProbVsError(test_data,disc,device)"
   ]
  },
  {
   "cell_type": "markdown",
   "id": "130f3a4d",
   "metadata": {
    "id": "130f3a4d",
    "papermill": {
     "duration": 0.01506,
     "end_time": "2022-06-12T08:03:58.853239",
     "exception": false,
     "start_time": "2022-06-12T08:03:58.838179",
     "status": "completed"
    },
    "tags": []
   },
   "source": [
    "# ABC - GAN Model with skip connection"
   ]
  },
  {
   "cell_type": "code",
   "execution_count": 15,
   "id": "4e43dad1",
   "metadata": {
    "execution": {
     "iopub.execute_input": "2022-06-12T08:03:58.886980Z",
     "iopub.status.busy": "2022-06-12T08:03:58.886555Z",
     "iopub.status.idle": "2022-06-12T08:03:58.889023Z",
     "shell.execute_reply": "2022-06-12T08:03:58.889288Z"
    },
    "id": "4e43dad1",
    "papermill": {
     "duration": 0.021059,
     "end_time": "2022-06-12T08:03:58.889413",
     "exception": false,
     "start_time": "2022-06-12T08:03:58.868354",
     "status": "completed"
    },
    "tags": []
   },
   "outputs": [],
   "source": [
    "#Generator\n",
    "gen3 = network.GeneratorWithSkipConnection(n_features+1).to(device)\n",
    "constraints=network.weightConstraint()\n",
    "#Discriminator \n",
    "disc3 = network.Discriminator(n_features+1).to(device)\n",
    "\n",
    "criterion = torch.nn.BCELoss()\n",
    "gen_opt = torch.optim.Adam(gen3.parameters(), lr=0.001, betas=(0.5, 0.999))\n",
    "disc_opt = torch.optim.Adam(disc3.parameters(), lr=0.001, betas=(0.5, 0.999))\n"
   ]
  },
  {
   "cell_type": "code",
   "execution_count": 16,
   "id": "26acbc37",
   "metadata": {
    "execution": {
     "iopub.execute_input": "2022-06-12T08:03:58.923478Z",
     "iopub.status.busy": "2022-06-12T08:03:58.923094Z",
     "iopub.status.idle": "2022-06-12T08:06:51.834024Z",
     "shell.execute_reply": "2022-06-12T08:06:51.834330Z"
    },
    "id": "26acbc37",
    "papermill": {
     "duration": 172.929532,
     "end_time": "2022-06-12T08:06:51.834474",
     "exception": false,
     "start_time": "2022-06-12T08:03:58.904942",
     "status": "completed"
    },
    "tags": []
   },
   "outputs": [
    {
     "data": {
      "image/png": "[encoded data removed]",
      "text/plain": [
       "<Figure size 432x288 with 1 Axes>"
      ]
     },
     "metadata": {
      "needs_background": "light"
     },
     "output_type": "display_data"
    },
    {
     "data": {
      "image/png": "[encoded data removed]",
      "text/plain": [
       "<Figure size 432x288 with 1 Axes>"
      ]
     },
     "metadata": {
      "needs_background": "light"
     },
     "output_type": "display_data"
    }
   ],
   "source": [
    "ABC_train_test2.training_GAN_skip_connection(disc3,gen3,disc_opt,gen_opt,train_data,batch_size,n_epochs,criterion,prior_model,variance,bias,device)"
   ]
  },
  {
   "cell_type": "code",
   "execution_count": 17,
   "id": "c5e0717b",
   "metadata": {
    "execution": {
     "iopub.execute_input": "2022-06-12T08:06:51.867963Z",
     "iopub.status.busy": "2022-06-12T08:06:51.867575Z",
     "iopub.status.idle": "2022-06-12T08:06:52.679539Z",
     "shell.execute_reply": "2022-06-12T08:06:52.679784Z"
    },
    "id": "c5e0717b",
    "papermill": {
     "duration": 0.829899,
     "end_time": "2022-06-12T08:06:52.679909",
     "exception": false,
     "start_time": "2022-06-12T08:06:51.850010",
     "status": "completed"
    },
    "tags": []
   },
   "outputs": [
    {
     "data": {
      "application/scrapbook.scrap.json+json": {
       "data": 0.08343779619051654,
       "encoder": "json",
       "name": "ABC-GAN Model 3 MSE",
       "version": 1
      }
     },
     "metadata": {
      "scrapbook": {
       "data": true,
       "display": false,
       "name": "ABC-GAN Model 3 MSE"
      }
     },
     "output_type": "display_data"
    },
    {
     "data": {
      "application/scrapbook.scrap.json+json": {
       "data": 0.21372837885264673,
       "encoder": "json",
       "name": "ABC-GAN Model 3 MAE",
       "version": 1
      }
     },
     "metadata": {
      "scrapbook": {
       "data": true,
       "display": false,
       "name": "ABC-GAN Model 3 MAE"
      }
     },
     "output_type": "display_data"
    },
    {
     "data": {
      "application/scrapbook.scrap.json+json": {
       "data": 21.800294642969966,
       "encoder": "json",
       "name": "ABC-GAN Model 3 Manhattan Distance",
       "version": 1
      }
     },
     "metadata": {
      "scrapbook": {
       "data": true,
       "display": false,
       "name": "ABC-GAN Model 3 Manhattan Distance"
      }
     },
     "output_type": "display_data"
    },
    {
     "data": {
      "application/scrapbook.scrap.json+json": {
       "data": 2.9172766378142736,
       "encoder": "json",
       "name": "ABC-GAN Model 3 Euclidean distance",
       "version": 1
      }
     },
     "metadata": {
      "scrapbook": {
       "data": true,
       "display": false,
       "name": "ABC-GAN Model 3 Euclidean distance"
      }
     },
     "output_type": "display_data"
    },
    {
     "data": {
      "application/scrapbook.scrap.json+json": {
       "data": [
        [
         0.08299822883170023,
         0.08381025232914494,
         0.08367542431188708,
         0.08349540960314308,
         0.08317606014813458,
         0.08359726853024473,
         0.08352459077401553,
         0.08317813433242467,
         0.08262356047332896,
         0.08292888054250676,
         0.08371308869032798,
         0.08376354307656844,
         0.08375071778474229,
         0.08228162330133625,
         0.08405874044104295,
         0.08382786194403338,
         0.08344566110812782,
         0.08328585788786025,
         0.08339429045276132,
         0.08458038785194817,
         0.08348292079444317,
         0.08391980161781498,
         0.08270736993740446,
         0.08315333276764363,
         0.08402863773543824,
         0.08412503533397897,
         0.08230800422270104,
         0.08368147628276405,
         0.08339910573005965,
         0.08363273498989586,
         0.08187827328585953,
         0.08305851501996174,
         0.08356951396006053,
         0.08247226722140921,
         0.0840479351107516,
         0.08403324100883389,
         0.08373818828458221,
         0.08490222493712178,
         0.08363235987838848,
         0.08452480563430331,
         0.084425875864581,
         0.08363179573277142,
         0.0837221827216657,
         0.08228308469143471,
         0.08443198287132404,
         0.08300969191691086,
         0.08325388627498401,
         0.08285561644316385,
         0.08316967630268313,
         0.08325844522734091,
         0.08283352337213694,
         0.08321974634233502,
         0.08469727118380575,
         0.08380493179373921,
         0.08314170444248917,
         0.08427390761345188,
         0.08273187530662436,
         0.08218246280213055,
         0.08366977664905523,
         0.08192039254796876,
         0.08306906085146873,
         0.08204827058112428,
         0.08337195383212428,
         0.08326928790218364,
         0.08447247771723607,
         0.08418048338536192,
         0.08408902833601199,
         0.08296366755256379,
         0.08380835117262875,
         0.08360377636284202,
         0.08378273384885809,
         0.08317912283974106,
         0.08466555162584292,
         0.08236678633163425,
         0.08359516411756349,
         0.08279943867542663,
         0.0839847044875631,
         0.08437480338032284,
         0.08341328351790471,
         0.08366840853194368,
         0.08264181054691903,
         0.08337326472611696,
         0.08363549453825722,
         0.08481496375210411,
         0.08451199160255761,
         0.08284368085775706,
         0.08155081012101283,
         0.08309957697973148,
         0.08280381937837585,
         0.0830907561453419,
         0.08412066585143903,
         0.08451638681542602,
         0.08309859230451705,
         0.08251434552945157,
         0.08433822228539913,
         0.08281716598749138,
         0.08250269246686112,
         0.08414135670081269,
         0.08361842036977599,
         0.08311609077266734
        ],
        [
         0.21462441831096715,
         0.21367991547666343,
         0.2147221753702444,
         0.2141637546466846,
         0.21316349393158568,
         0.21423729998516103,
         0.21231903241691635,
         0.21235368703948518,
         0.21344774727727853,
         0.2109224800312636,
         0.21337641253336972,
         0.21357608433155453,
         0.21322500950419435,
         0.21290144400999828,
         0.2169634763370542,
         0.2151038500242958,
         0.2146999583597861,
         0.2142799189131634,
         0.21319990243543596,
         0.2142990314785172,
         0.21330242662453183,
         0.21349981858157643,
         0.21199353718582323,
         0.21260285008625657,
         0.21529925888513818,
         0.2148143608196109,
         0.21276019878831565,
         0.21351895043078592,
         0.21294378054638705,
         0.21386919513929123,
         0.2102461783580628,
         0.2139149949904166,
         0.21333382939737217,
         0.21244733119566067,
         0.21597557818042298,
         0.21505073045252585,
         0.2133226084942911,
         0.21691884440095985,
         0.2141227017649833,
         0.2149077089612975,
         0.21462891879034976,
         0.21433833697993382,
         0.21408258955560477,
         0.2128576767064777,
         0.21322860711199396,
         0.21172243174092442,
         0.2136375002343865,
         0.21378767358906128,
         0.21398894244111052,
         0.21370363261039352,
         0.2124613153876043,
         0.2133014061871697,
         0.21527031827352794,
         0.2142356891988539,
         0.21219155619687893,
         0.215849765156414,
         0.2133711137461896,
         0.21182058309661408,
         0.21522606712053804,
         0.2119905892394337,
         0.21323257370614537,
         0.21111408916904645,
         0.2146540780496948,
         0.21358072567804187,
         0.2145972664595819,
         0.2142671670618595,
         0.2137978038586238,
         0.21314391764063462,
         0.2155009834278448,
         0.21386490831626395,
         0.21383894256809177,
         0.21403077000058165,
         0.21483460817413003,
         0.21278887136163666,
         0.21305746172426962,
         0.21439060017320455,
         0.21427992059319628,
         0.2149072218978522,
         0.21446451453455523,
         0.2133505741389943,
         0.21281509645575403,
         0.21457533384947217,
         0.21460246575959757,
         0.21542093928392028,
         0.21530314315767848,
         0.21313524085517024,
         0.21073654491235227,
         0.21167993326397502,
         0.2135032755779285,
         0.21389453021772936,
         0.21430395160089522,
         0.21448542342028198,
         0.21458706011374792,
         0.21286962794906952,
         0.21613245094012395,
         0.21275613274352223,
         0.21150701986077955,
         0.21465124880128048,
         0.21395103217047803,
         0.21243174673587667
        ],
        [
         21.89169066771865,
         21.79535137861967,
         21.90166188776493,
         21.84470297396183,
         21.742676381021738,
         21.852204598486423,
         21.65654130652547,
         21.660076078027487,
         21.77167022228241,
         21.514092963188887,
         21.76439407840371,
         21.78476060181856,
         21.748950969427824,
         21.715947289019823,
         22.130274586379528,
         21.94059270247817,
         21.899395752698183,
         21.856551729142666,
         21.74639004841447,
         21.858501210808754,
         21.756847515702248,
         21.776981495320797,
         21.623340792953968,
         21.68549070879817,
         21.960524406284094,
         21.91106480360031,
         21.701540276408195,
         21.778932943940163,
         21.720265615731478,
         21.814657904207706,
         21.445110192522407,
         21.819329489022493,
         21.76005059853196,
         21.669627781957388,
         22.029508974403143,
         21.935174506157637,
         21.758906066417694,
         22.125722128897905,
         21.840515580028296,
         21.920586314052343,
         21.892149716615677,
         21.86251037195325,
         21.836424134671688,
         21.711483024060726,
         21.749317925423384,
         21.59568803757429,
         21.791025023907423,
         21.80634270608425,
         21.826872128993273,
         21.797770526260138,
         21.671054169535637,
         21.75674343109131,
         21.95757246389985,
         21.8520402982831,
         21.64353873208165,
         22.016676045954227,
         21.76385360211134,
         21.605699475854635,
         21.95305884629488,
         21.623040102422237,
         21.74972251802683,
         21.53363709524274,
         21.89471596106887,
         21.78523401916027,
         21.888921178877354,
         21.855251040309668,
         21.807375993579626,
         21.74067959934473,
         21.98110030964017,
         21.814220648258924,
         21.811572141945362,
         21.831138540059328,
         21.913130033761263,
         21.704464878886938,
         21.7318610958755,
         21.867841217666864,
         21.85655190050602,
         21.920536633580923,
         21.875380482524633,
         21.76175856217742,
         21.70713983848691,
         21.88668405264616,
         21.889451507478952,
         21.972935806959867,
         21.960920602083206,
         21.739794567227364,
         21.495127581059933,
         21.591353192925453,
         21.777334108948708,
         21.817242082208395,
         21.85900306329131,
         21.87751318886876,
         21.887880131602287,
         21.712702050805092,
         22.045509995892644,
         21.701125539839268,
         21.573716025799513,
         21.894427377730608,
         21.82300528138876,
         21.66803816705942
        ],
        [
         2.9096081077755858,
         2.9238067202831286,
         2.921453966745409,
         2.9183097470146304,
         2.9127234910148485,
         2.9200892777593226,
         2.918819668795862,
         2.9127598084818658,
         2.9030334425010595,
         2.908392307673724,
         2.922111402122351,
         2.922991856610275,
         2.9227680739401327,
         2.897020120181476,
         2.928137893779318,
         2.924113868899671,
         2.9174402192725455,
         2.914645347990343,
         2.91654206658873,
         2.937209485361695,
         2.918091486062972,
         2.925716965978959,
         2.9045054197944364,
         2.9123255213488153,
         2.9276135416093942,
         2.9292923384438527,
         2.8974845005134213,
         2.921559614459704,
         2.916626267533447,
         2.9207086415747425,
         2.8899107036650244,
         2.9106646203291953,
         2.9196044978603135,
         2.9003743304242193,
         2.9279496889968355,
         2.927693731062226,
         2.922549435856883,
         2.94279237181056,
         2.9207020915518966,
         2.9362442294024076,
         2.9345254025459147,
         2.920692240675605,
         2.922270117153769,
         2.8970458468112548,
         2.934631536134486,
         2.9098090273289254,
         2.9140858601023356,
         2.9071073040399993,
         2.9126117116556536,
         2.9141656461479286,
         2.9067196947689964,
         2.91348830904093,
         2.9392382790015836,
         2.923713912639436,
         2.912121881572592,
         2.9318831110008623,
         2.904935675927384,
         2.8952739431385965,
         2.921355373487388,
         2.8906539121611936,
         2.910849396112724,
         2.8929091930571675,
         2.9161514519785623,
         2.914355394598046,
         2.935335198432724,
         2.9302575493131853,
         2.928665376971774,
         2.9090022499753254,
         2.923773558196348,
         2.920202936271705,
         2.9233266756528464,
         2.9127771163708336,
         2.9386878476347187,
         2.8985189676499776,
         2.92005252349876,
         2.906121598435537,
         2.9268481097814827,
         2.933637664196608,
         2.9168741691794455,
         2.9213314892798894,
         2.9033540390013997,
         2.916174377856018,
         2.920756827074489,
         2.9412797049438564,
         2.936021652416902,
         2.9068979079925072,
         2.8841259737298763,
         2.911384009699272,
         2.906198475086369,
         2.911229487145401,
         2.9292162632429135,
         2.9360979982237403,
         2.911366760657396,
         2.901114138396499,
         2.933001649012614,
         2.9064326812648043,
         2.9009092766958147,
         2.9295764853444077,
         2.920458675913281,
         2.9116732747360357
        ]
       ],
       "encoder": "json",
       "name": "ABC_GAN_3 Metrics",
       "version": 1
      }
     },
     "metadata": {
      "scrapbook": {
       "data": true,
       "display": false,
       "name": "ABC_GAN_3 Metrics"
      }
     },
     "output_type": "display_data"
    },
    {
     "name": "stdout",
     "output_type": "stream",
     "text": [
      "MSE\n",
      "0.08343779619051654\n"
     ]
    }
   ],
   "source": [
    "ABC_GAN3_metrics=ABC_train_test2.test_generator(gen3,test_data,prior_model,variance,bias,\"3\",device)\n",
    "sb.glue(\"ABC_GAN_3 Metrics\",ABC_GAN3_metrics)\n",
    "\n",
    "print(\"MSE\")\n",
    "print(mean(ABC_GAN3_metrics[0]))"
   ]
  },
  {
   "cell_type": "code",
   "execution_count": 18,
   "id": "c8e46b48",
   "metadata": {
    "execution": {
     "iopub.execute_input": "2022-06-12T08:06:52.716563Z",
     "iopub.status.busy": "2022-06-12T08:06:52.716199Z",
     "iopub.status.idle": "2022-06-12T08:06:53.042964Z",
     "shell.execute_reply": "2022-06-12T08:06:53.043342Z"
    },
    "id": "c8e46b48",
    "papermill": {
     "duration": 0.346147,
     "end_time": "2022-06-12T08:06:53.043468",
     "exception": false,
     "start_time": "2022-06-12T08:06:52.697321",
     "status": "completed"
    },
    "tags": []
   },
   "outputs": [
    {
     "data": {
      "image/png": "[encoded data removed]",
      "text/plain": [
       "<Figure size 432x288 with 1 Axes>"
      ]
     },
     "metadata": {
      "needs_background": "light"
     },
     "output_type": "display_data"
    },
    {
     "data": {
      "image/png": "[encoded data removed]",
      "text/plain": [
       "<Figure size 432x288 with 1 Axes>"
      ]
     },
     "metadata": {
      "needs_background": "light"
     },
     "output_type": "display_data"
    },
    {
     "data": {
      "image/png": "[encoded data removed]",
      "text/plain": [
       "<Figure size 432x288 with 1 Axes>"
      ]
     },
     "metadata": {
      "needs_background": "light"
     },
     "output_type": "display_data"
    },
    {
     "data": {
      "image/png": "[encoded data removed]",
      "text/plain": [
       "<Figure size 432x288 with 1 Axes>"
      ]
     },
     "metadata": {
      "needs_background": "light"
     },
     "output_type": "display_data"
    }
   ],
   "source": [
    "sanityChecks.discProbVsError(train_data,disc3,device)\n",
    "sanityChecks.discProbVsError(test_data,disc3,device)"
   ]
  },
  {
   "cell_type": "markdown",
   "id": "a5bd74c3",
   "metadata": {
    "id": "a5bd74c3",
    "papermill": {
     "duration": 0.019196,
     "end_time": "2022-06-12T08:06:53.082263",
     "exception": false,
     "start_time": "2022-06-12T08:06:53.063067",
     "status": "completed"
    },
    "tags": []
   },
   "source": [
    "## Skip Connection Model Analysis - ABC-GAN "
   ]
  },
  {
   "cell_type": "markdown",
   "id": "5744a8bf",
   "metadata": {
    "id": "5744a8bf",
    "papermill": {
     "duration": 0.018904,
     "end_time": "2022-06-12T08:06:53.120200",
     "exception": false,
     "start_time": "2022-06-12T08:06:53.101296",
     "status": "completed"
    },
    "tags": []
   },
   "source": [
    "### Weight Analysis \n",
    "\n",
    "Study the weights of the skip connection layer\n",
    "\n",
    "Equation of the skip connection is \n",
    "\n",
    "$output = y_{gan} * w + y_{abc} * (1-w)$"
   ]
  },
  {
   "cell_type": "code",
   "execution_count": 19,
   "id": "52c31dea",
   "metadata": {
    "execution": {
     "iopub.execute_input": "2022-06-12T08:06:53.161233Z",
     "iopub.status.busy": "2022-06-12T08:06:53.160791Z",
     "iopub.status.idle": "2022-06-12T08:06:53.164173Z",
     "shell.execute_reply": "2022-06-12T08:06:53.164417Z"
    },
    "id": "52c31dea",
    "papermill": {
     "duration": 0.025389,
     "end_time": "2022-06-12T08:06:53.164536",
     "exception": false,
     "start_time": "2022-06-12T08:06:53.139147",
     "status": "completed"
    },
    "tags": []
   },
   "outputs": [
    {
     "name": "stdout",
     "output_type": "stream",
     "text": [
      "Weight of the node at skip connection\n",
      "Parameter containing:\n",
      "tensor([[0.0903]], requires_grad=True)\n"
     ]
    },
    {
     "data": {
      "application/scrapbook.scrap.json+json": {
       "data": 0.09026134759187698,
       "encoder": "json",
       "name": "Skip Connection Weight",
       "version": 1
      }
     },
     "metadata": {
      "scrapbook": {
       "data": true,
       "display": false,
       "name": "Skip Connection Weight"
      }
     },
     "output_type": "display_data"
    }
   ],
   "source": [
    "print(\"Weight of the node at skip connection\")\n",
    "for name,param in gen3.named_parameters():\n",
    "    if(name == \"skipNode.weight\"):\n",
    "        print(param)\n",
    "        sb.glue(\"Skip Connection Weight\",param.item())"
   ]
  }
 ],
 "metadata": {
  "colab": {
   "collapsed_sections": [],
   "name": "ABC_GAN_Model-Catboost_Pre-gen.ipynb",
   "provenance": []
  },
  "interpreter": {
   "hash": "31f2aee4e71d21fbe5cf8b01ff0e069b9275f58929596ceb00d14d90e3e16cd6"
  },
  "kernelspec": {
   "display_name": "Python 3 (ipykernel)",
   "language": "python",
   "name": "python3"
  },
  "language_info": {
   "codemirror_mode": {
    "name": "ipython",
    "version": 3
   },
   "file_extension": ".py",
   "mimetype": "text/x-python",
   "name": "python",
   "nbconvert_exporter": "python",
   "pygments_lexer": "ipython3",
   "version": "3.8.11"
  },
  "papermill": {
   "default_parameters": {},
   "duration": 239.473425,
   "end_time": "2022-06-12T08:06:53.491935",
   "environment_variables": {},
   "exception": null,
   "input_path": "ABC_GAN-Catboost.ipynb",
   "output_path": "./ABC_GAN_Catboost/ABC-GAN_output_9_5.ipynb",
   "parameters": {
    "bias": 0.1,
    "variance": 0.01
   },
   "start_time": "2022-06-12T08:02:54.018510",
   "version": "2.3.3"
  }
 },
 "nbformat": 4,
 "nbformat_minor": 5
}