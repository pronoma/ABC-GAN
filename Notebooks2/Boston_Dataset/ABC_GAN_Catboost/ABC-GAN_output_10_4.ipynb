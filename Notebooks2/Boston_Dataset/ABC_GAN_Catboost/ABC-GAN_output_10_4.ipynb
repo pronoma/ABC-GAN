{
 "cells": [
  {
   "cell_type": "markdown",
   "id": "622780e6",
   "metadata": {
    "id": "622780e6",
    "papermill": {
     "duration": 0.034686,
     "end_time": "2022-06-12T08:36:05.110034",
     "exception": false,
     "start_time": "2022-06-12T08:36:05.075348",
     "status": "completed"
    },
    "tags": []
   },
   "source": [
    "## Import Libraries "
   ]
  },
  {
   "cell_type": "code",
   "execution_count": 1,
   "id": "a62397e3",
   "metadata": {
    "execution": {
     "iopub.execute_input": "2022-06-12T08:36:05.146624Z",
     "iopub.status.busy": "2022-06-12T08:36:05.146027Z",
     "iopub.status.idle": "2022-06-12T08:36:05.148445Z",
     "shell.execute_reply": "2022-06-12T08:36:05.148782Z"
    },
    "id": "a62397e3",
    "papermill": {
     "duration": 0.022463,
     "end_time": "2022-06-12T08:36:05.149020",
     "exception": false,
     "start_time": "2022-06-12T08:36:05.126557",
     "status": "completed"
    },
    "tags": []
   },
   "outputs": [],
   "source": [
    "import warnings\n",
    "import sys\n",
    "sys.path.insert(0, '../../src')\n",
    "warnings.filterwarnings('ignore')"
   ]
  },
  {
   "cell_type": "code",
   "execution_count": 2,
   "id": "d6a4e155",
   "metadata": {
    "execution": {
     "iopub.execute_input": "2022-06-12T08:36:05.169733Z",
     "iopub.status.busy": "2022-06-12T08:36:05.169329Z",
     "iopub.status.idle": "2022-06-12T08:36:06.965888Z",
     "shell.execute_reply": "2022-06-12T08:36:06.966144Z"
    },
    "id": "d6a4e155",
    "papermill": {
     "duration": 1.807468,
     "end_time": "2022-06-12T08:36:06.966271",
     "exception": false,
     "start_time": "2022-06-12T08:36:05.158803",
     "status": "completed"
    },
    "tags": []
   },
   "outputs": [],
   "source": [
    "import ABC_train_test2\n",
    "import bostonDataset\n",
    "import network\n",
    "import dataset\n",
    "import sanityChecks\n",
    "import torch \n",
    "import scrapbook as sb\n",
    "from statistics import mean \n",
    "import catboost as ctb \n",
    "from sklearn.model_selection import train_test_split\n",
    "from sklearn.metrics import mean_squared_error,mean_absolute_error\n",
    "import numpy as np"
   ]
  },
  {
   "cell_type": "markdown",
   "id": "2fa5b0f7",
   "metadata": {
    "id": "2fa5b0f7",
    "papermill": {
     "duration": 0.006829,
     "end_time": "2022-06-12T08:36:06.980321",
     "exception": false,
     "start_time": "2022-06-12T08:36:06.973492",
     "status": "completed"
    },
    "tags": []
   },
   "source": [
    "## Parameters "
   ]
  },
  {
   "cell_type": "code",
   "execution_count": 3,
   "id": "783186fb",
   "metadata": {
    "execution": {
     "iopub.execute_input": "2022-06-12T08:36:06.996268Z",
     "iopub.status.busy": "2022-06-12T08:36:06.995824Z",
     "iopub.status.idle": "2022-06-12T08:36:06.996969Z",
     "shell.execute_reply": "2022-06-12T08:36:06.997198Z"
    },
    "id": "783186fb",
    "papermill": {
     "duration": 0.010148,
     "end_time": "2022-06-12T08:36:06.997307",
     "exception": false,
     "start_time": "2022-06-12T08:36:06.987159",
     "status": "completed"
    },
    "tags": [
     "parameters"
    ]
   },
   "outputs": [],
   "source": [
    "variance = 1\n",
    "bias = 1 "
   ]
  },
  {
   "cell_type": "code",
   "execution_count": 4,
   "id": "e68b0089",
   "metadata": {
    "execution": {
     "iopub.execute_input": "2022-06-12T08:36:07.025269Z",
     "iopub.status.busy": "2022-06-12T08:36:07.024841Z",
     "iopub.status.idle": "2022-06-12T08:36:07.025915Z",
     "shell.execute_reply": "2022-06-12T08:36:07.026197Z"
    },
    "papermill": {
     "duration": 0.021994,
     "end_time": "2022-06-12T08:36:07.026311",
     "exception": false,
     "start_time": "2022-06-12T08:36:07.004317",
     "status": "completed"
    },
    "tags": [
     "injected-parameters"
    ]
   },
   "outputs": [],
   "source": [
    "# Parameters\n",
    "variance = 0.1\n",
    "bias = 0.1\n"
   ]
  },
  {
   "cell_type": "markdown",
   "id": "391cdbfd",
   "metadata": {
    "id": "391cdbfd",
    "papermill": {
     "duration": 0.007003,
     "end_time": "2022-06-12T08:36:07.048939",
     "exception": false,
     "start_time": "2022-06-12T08:36:07.041936",
     "status": "completed"
    },
    "tags": []
   },
   "source": [
    "## Dataset \n"
   ]
  },
  {
   "cell_type": "code",
   "execution_count": 5,
   "id": "5b51f161",
   "metadata": {
    "execution": {
     "iopub.execute_input": "2022-06-12T08:36:07.064871Z",
     "iopub.status.busy": "2022-06-12T08:36:07.064514Z",
     "iopub.status.idle": "2022-06-12T08:36:07.065784Z",
     "shell.execute_reply": "2022-06-12T08:36:07.066065Z"
    },
    "id": "5b51f161",
    "papermill": {
     "duration": 0.010274,
     "end_time": "2022-06-12T08:36:07.066187",
     "exception": false,
     "start_time": "2022-06-12T08:36:07.055913",
     "status": "completed"
    },
    "tags": []
   },
   "outputs": [],
   "source": [
    "#Parameters \n",
    "n_features = 13\n",
    "n_samples= 506\n",
    "n_target = 1 "
   ]
  },
  {
   "cell_type": "code",
   "execution_count": 6,
   "id": "5d6eced4",
   "metadata": {
    "execution": {
     "iopub.execute_input": "2022-06-12T08:36:07.083382Z",
     "iopub.status.busy": "2022-06-12T08:36:07.082939Z",
     "iopub.status.idle": "2022-06-12T08:36:07.093997Z",
     "shell.execute_reply": "2022-06-12T08:36:07.094245Z"
    },
    "id": "5d6eced4",
    "papermill": {
     "duration": 0.021098,
     "end_time": "2022-06-12T08:36:07.094363",
     "exception": false,
     "start_time": "2022-06-12T08:36:07.073265",
     "status": "completed"
    },
    "tags": []
   },
   "outputs": [
    {
     "name": "stdout",
     "output_type": "stream",
     "text": [
      "         X1        X2        X3        X4        X5        X6        X7  \\\n",
      "0 -0.419782  0.284830 -1.287909 -0.272599 -0.144217  0.413672 -0.120013   \n",
      "1 -0.417339 -0.487722 -0.593381 -0.272599 -0.740262  0.194274  0.367166   \n",
      "2 -0.417342 -0.487722 -0.593381 -0.272599 -0.740262  1.282714 -0.265812   \n",
      "3 -0.416750 -0.487722 -1.306878 -0.272599 -0.835284  1.016303 -0.809889   \n",
      "4 -0.412482 -0.487722 -1.306878 -0.272599 -0.835284  1.228577 -0.511180   \n",
      "\n",
      "         X8        X9       X10       X11       X12       X13         Y  \n",
      "0  0.140214 -0.982843 -0.666608 -1.459000  0.441052 -1.075562  0.159686  \n",
      "1  0.557160 -0.867883 -0.987329 -0.303094  0.441052 -0.492439 -0.101524  \n",
      "2  0.557160 -0.867883 -0.987329 -0.303094  0.396427 -1.208727  1.324247  \n",
      "3  1.077737 -0.752922 -1.106115  0.113032  0.416163 -1.361517  1.182758  \n",
      "4  1.077737 -0.752922 -1.106115  0.113032  0.441052 -1.026501  1.487503  \n"
     ]
    }
   ],
   "source": [
    "X,Y = bostonDataset.boston_data()"
   ]
  },
  {
   "cell_type": "code",
   "execution_count": 7,
   "id": "fe007438",
   "metadata": {
    "execution": {
     "iopub.execute_input": "2022-06-12T08:36:07.111802Z",
     "iopub.status.busy": "2022-06-12T08:36:07.111434Z",
     "iopub.status.idle": "2022-06-12T08:36:07.113025Z",
     "shell.execute_reply": "2022-06-12T08:36:07.113261Z"
    },
    "id": "fe007438",
    "papermill": {
     "duration": 0.011436,
     "end_time": "2022-06-12T08:36:07.113371",
     "exception": false,
     "start_time": "2022-06-12T08:36:07.101935",
     "status": "completed"
    },
    "tags": []
   },
   "outputs": [],
   "source": [
    "#Train test split for dataset \n",
    "X_train,X_test,Y_train,Y_test = train_test_split(X,Y,test_size = 0.2)\n",
    "train_data = dataset.CustomDataset(X_train,Y_train)\n",
    "test_data = dataset.CustomDataset(X_test,Y_test)\n"
   ]
  },
  {
   "cell_type": "markdown",
   "id": "a9a1af34",
   "metadata": {
    "id": "a9a1af34",
    "papermill": {
     "duration": 0.007151,
     "end_time": "2022-06-12T08:36:07.127852",
     "exception": false,
     "start_time": "2022-06-12T08:36:07.120701",
     "status": "completed"
    },
    "tags": []
   },
   "source": [
    "## Training Parameters "
   ]
  },
  {
   "cell_type": "code",
   "execution_count": 8,
   "id": "952b7fc8",
   "metadata": {
    "execution": {
     "iopub.execute_input": "2022-06-12T08:36:07.144487Z",
     "iopub.status.busy": "2022-06-12T08:36:07.144123Z",
     "iopub.status.idle": "2022-06-12T08:36:07.145336Z",
     "shell.execute_reply": "2022-06-12T08:36:07.145641Z"
    },
    "id": "952b7fc8",
    "papermill": {
     "duration": 0.01075,
     "end_time": "2022-06-12T08:36:07.145745",
     "exception": false,
     "start_time": "2022-06-12T08:36:07.134995",
     "status": "completed"
    },
    "tags": []
   },
   "outputs": [],
   "source": [
    "batch_size = 32\n",
    "n_epochs = 1000\n",
    "#Select the device \n",
    "device = torch.device('cuda' if torch.cuda.is_available() else 'cpu')"
   ]
  },
  {
   "cell_type": "markdown",
   "id": "a95e1600",
   "metadata": {
    "id": "a95e1600",
    "papermill": {
     "duration": 0.007107,
     "end_time": "2022-06-12T08:36:07.160091",
     "exception": false,
     "start_time": "2022-06-12T08:36:07.152984",
     "status": "completed"
    },
    "tags": []
   },
   "source": [
    "# ABC Pre-generator Model \n",
    "\n",
    "1. The catboost model is used as a pre-generator model for the ABC-GAN. \n",
    "2. The model is first trained on the entire dataset \n",
    "3. It generats X,Y pairs and we add some Gaussian noise with mean 0 and variance 1 to it which is then feed as input to the generator.\n"
   ]
  },
  {
   "cell_type": "code",
   "execution_count": 9,
   "id": "ff8ce7bd",
   "metadata": {
    "execution": {
     "iopub.execute_input": "2022-06-12T08:36:07.179930Z",
     "iopub.status.busy": "2022-06-12T08:36:07.179512Z",
     "iopub.status.idle": "2022-06-12T08:36:08.185305Z",
     "shell.execute_reply": "2022-06-12T08:36:08.185538Z"
    },
    "id": "ff8ce7bd",
    "papermill": {
     "duration": 1.018395,
     "end_time": "2022-06-12T08:36:08.185663",
     "exception": false,
     "start_time": "2022-06-12T08:36:07.167268",
     "status": "completed"
    },
    "tags": []
   },
   "outputs": [
    {
     "name": "stdout",
     "output_type": "stream",
     "text": [
      "Learning rate set to 0.033215\n",
      "0:\tlearn: 1.0013698\ttotal: 57.3ms\tremaining: 57.2s\n",
      "1:\tlearn: 0.9825687\ttotal: 58.3ms\tremaining: 29.1s\n",
      "2:\tlearn: 0.9624621\ttotal: 59.4ms\tremaining: 19.8s\n",
      "3:\tlearn: 0.9470059\ttotal: 60.4ms\tremaining: 15s\n",
      "4:\tlearn: 0.9287399\ttotal: 61.4ms\tremaining: 12.2s\n",
      "5:\tlearn: 0.9107063\ttotal: 62.2ms\tremaining: 10.3s\n",
      "6:\tlearn: 0.8942237\ttotal: 63.2ms\tremaining: 8.97s\n",
      "7:\tlearn: 0.8778562\ttotal: 64.2ms\tremaining: 7.96s\n",
      "8:\tlearn: 0.8623769\ttotal: 65.1ms\tremaining: 7.17s\n",
      "9:\tlearn: 0.8455855\ttotal: 66ms\tremaining: 6.53s\n",
      "10:\tlearn: 0.8300368\ttotal: 66.8ms\tremaining: 6.01s\n",
      "11:\tlearn: 0.8145210\ttotal: 67.5ms\tremaining: 5.56s\n",
      "12:\tlearn: 0.7998481\ttotal: 68.4ms\tremaining: 5.19s\n",
      "13:\tlearn: 0.7849661\ttotal: 69.2ms\tremaining: 4.87s\n",
      "14:\tlearn: 0.7728694\ttotal: 70ms\tremaining: 4.6s\n",
      "15:\tlearn: 0.7597336\ttotal: 70.9ms\tremaining: 4.36s\n",
      "16:\tlearn: 0.7470039\ttotal: 71.7ms\tremaining: 4.15s\n",
      "17:\tlearn: 0.7354459\ttotal: 72.5ms\tremaining: 3.96s\n",
      "18:\tlearn: 0.7231029\ttotal: 73.4ms\tremaining: 3.79s\n",
      "19:\tlearn: 0.7096038\ttotal: 74.3ms\tremaining: 3.64s\n",
      "20:\tlearn: 0.6955288\ttotal: 75.1ms\tremaining: 3.5s\n",
      "21:\tlearn: 0.6832457\ttotal: 76ms\tremaining: 3.38s\n",
      "22:\tlearn: 0.6720064\ttotal: 76.9ms\tremaining: 3.27s\n",
      "23:\tlearn: 0.6628651\ttotal: 77.8ms\tremaining: 3.16s\n",
      "24:\tlearn: 0.6524808\ttotal: 78.6ms\tremaining: 3.06s\n",
      "25:\tlearn: 0.6441520\ttotal: 79.4ms\tremaining: 2.97s\n",
      "26:\tlearn: 0.6359886\ttotal: 80.2ms\tremaining: 2.89s\n",
      "27:\tlearn: 0.6263818\ttotal: 81ms\tremaining: 2.81s\n",
      "28:\tlearn: 0.6167819\ttotal: 82ms\tremaining: 2.75s\n",
      "29:\tlearn: 0.6068301\ttotal: 82.8ms\tremaining: 2.68s\n",
      "30:\tlearn: 0.5962073\ttotal: 83.7ms\tremaining: 2.62s\n",
      "31:\tlearn: 0.5886560\ttotal: 84.5ms\tremaining: 2.56s\n",
      "32:\tlearn: 0.5816262\ttotal: 85.3ms\tremaining: 2.5s\n",
      "33:\tlearn: 0.5745544\ttotal: 86.1ms\tremaining: 2.45s\n",
      "34:\tlearn: 0.5667856\ttotal: 86.9ms\tremaining: 2.4s\n",
      "35:\tlearn: 0.5593564\ttotal: 87.7ms\tremaining: 2.35s\n",
      "36:\tlearn: 0.5527310\ttotal: 89.3ms\tremaining: 2.32s\n",
      "37:\tlearn: 0.5452135\ttotal: 90ms\tremaining: 2.28s\n",
      "38:\tlearn: 0.5372345\ttotal: 90.8ms\tremaining: 2.24s\n",
      "39:\tlearn: 0.5295968\ttotal: 91.6ms\tremaining: 2.2s\n",
      "40:\tlearn: 0.5228774\ttotal: 92.4ms\tremaining: 2.16s\n",
      "41:\tlearn: 0.5160629\ttotal: 93.2ms\tremaining: 2.13s\n",
      "42:\tlearn: 0.5091711\ttotal: 94ms\tremaining: 2.09s\n",
      "43:\tlearn: 0.5034426\ttotal: 94.9ms\tremaining: 2.06s\n",
      "44:\tlearn: 0.4979062\ttotal: 95.6ms\tremaining: 2.03s\n",
      "45:\tlearn: 0.4913920\ttotal: 96.4ms\tremaining: 2s\n",
      "46:\tlearn: 0.4860553\ttotal: 97.3ms\tremaining: 1.97s\n",
      "47:\tlearn: 0.4799642\ttotal: 98.1ms\tremaining: 1.95s\n",
      "48:\tlearn: 0.4748944\ttotal: 99ms\tremaining: 1.92s\n",
      "49:\tlearn: 0.4699685\ttotal: 99.9ms\tremaining: 1.9s\n",
      "50:\tlearn: 0.4649167\ttotal: 101ms\tremaining: 1.87s\n",
      "51:\tlearn: 0.4610487\ttotal: 102ms\tremaining: 1.85s\n",
      "52:\tlearn: 0.4559980\ttotal: 102ms\tremaining: 1.83s\n",
      "53:\tlearn: 0.4528513\ttotal: 103ms\tremaining: 1.81s\n",
      "54:\tlearn: 0.4484919\ttotal: 104ms\tremaining: 1.79s\n",
      "55:\tlearn: 0.4446977\ttotal: 105ms\tremaining: 1.77s\n",
      "56:\tlearn: 0.4398511\ttotal: 106ms\tremaining: 1.75s\n"
     ]
    },
    {
     "name": "stdout",
     "output_type": "stream",
     "text": [
      "57:\tlearn: 0.4353152\ttotal: 107ms\tremaining: 1.73s\n",
      "58:\tlearn: 0.4320907\ttotal: 108ms\tremaining: 1.72s\n",
      "59:\tlearn: 0.4281334\ttotal: 108ms\tremaining: 1.7s\n",
      "60:\tlearn: 0.4238238\ttotal: 109ms\tremaining: 1.68s\n",
      "61:\tlearn: 0.4198371\ttotal: 110ms\tremaining: 1.67s\n",
      "62:\tlearn: 0.4165893\ttotal: 111ms\tremaining: 1.65s\n",
      "63:\tlearn: 0.4122710\ttotal: 112ms\tremaining: 1.64s\n",
      "64:\tlearn: 0.4087572\ttotal: 113ms\tremaining: 1.62s\n",
      "65:\tlearn: 0.4053906\ttotal: 114ms\tremaining: 1.61s\n",
      "66:\tlearn: 0.4017318\ttotal: 115ms\tremaining: 1.6s\n",
      "67:\tlearn: 0.3975722\ttotal: 116ms\tremaining: 1.58s\n",
      "68:\tlearn: 0.3946618\ttotal: 117ms\tremaining: 1.57s\n",
      "69:\tlearn: 0.3913368\ttotal: 118ms\tremaining: 1.56s\n",
      "70:\tlearn: 0.3874292\ttotal: 119ms\tremaining: 1.55s\n",
      "71:\tlearn: 0.3837896\ttotal: 120ms\tremaining: 1.54s\n",
      "72:\tlearn: 0.3807269\ttotal: 121ms\tremaining: 1.53s\n",
      "73:\tlearn: 0.3777381\ttotal: 122ms\tremaining: 1.52s\n",
      "74:\tlearn: 0.3746863\ttotal: 122ms\tremaining: 1.51s\n",
      "75:\tlearn: 0.3723845\ttotal: 124ms\tremaining: 1.5s\n",
      "76:\tlearn: 0.3698479\ttotal: 125ms\tremaining: 1.49s\n",
      "77:\tlearn: 0.3663508\ttotal: 126ms\tremaining: 1.48s\n",
      "78:\tlearn: 0.3635176\ttotal: 126ms\tremaining: 1.47s\n",
      "79:\tlearn: 0.3614011\ttotal: 127ms\tremaining: 1.46s\n",
      "80:\tlearn: 0.3594622\ttotal: 128ms\tremaining: 1.45s\n",
      "81:\tlearn: 0.3565429\ttotal: 129ms\tremaining: 1.44s\n",
      "82:\tlearn: 0.3547403\ttotal: 130ms\tremaining: 1.43s\n",
      "83:\tlearn: 0.3522461\ttotal: 131ms\tremaining: 1.42s\n",
      "84:\tlearn: 0.3494248\ttotal: 131ms\tremaining: 1.41s\n",
      "85:\tlearn: 0.3471418\ttotal: 132ms\tremaining: 1.4s\n",
      "86:\tlearn: 0.3445203\ttotal: 134ms\tremaining: 1.4s\n",
      "87:\tlearn: 0.3422369\ttotal: 134ms\tremaining: 1.39s\n",
      "88:\tlearn: 0.3403038\ttotal: 135ms\tremaining: 1.39s\n",
      "89:\tlearn: 0.3381785\ttotal: 136ms\tremaining: 1.38s\n",
      "90:\tlearn: 0.3365034\ttotal: 137ms\tremaining: 1.37s\n",
      "91:\tlearn: 0.3347420\ttotal: 138ms\tremaining: 1.36s\n",
      "92:\tlearn: 0.3333857\ttotal: 139ms\tremaining: 1.35s\n",
      "93:\tlearn: 0.3313499\ttotal: 139ms\tremaining: 1.34s\n",
      "94:\tlearn: 0.3295140\ttotal: 140ms\tremaining: 1.33s\n",
      "95:\tlearn: 0.3284362\ttotal: 141ms\tremaining: 1.33s\n",
      "96:\tlearn: 0.3267083\ttotal: 142ms\tremaining: 1.32s\n",
      "97:\tlearn: 0.3251875\ttotal: 143ms\tremaining: 1.32s\n",
      "98:\tlearn: 0.3237781\ttotal: 144ms\tremaining: 1.31s\n",
      "99:\tlearn: 0.3224251\ttotal: 145ms\tremaining: 1.31s\n",
      "100:\tlearn: 0.3211949\ttotal: 146ms\tremaining: 1.3s\n",
      "101:\tlearn: 0.3192606\ttotal: 147ms\tremaining: 1.29s\n",
      "102:\tlearn: 0.3177651\ttotal: 148ms\tremaining: 1.29s\n",
      "103:\tlearn: 0.3164675\ttotal: 149ms\tremaining: 1.28s\n",
      "104:\tlearn: 0.3152651\ttotal: 150ms\tremaining: 1.28s\n",
      "105:\tlearn: 0.3139015\ttotal: 151ms\tremaining: 1.27s\n",
      "106:\tlearn: 0.3125300\ttotal: 152ms\tremaining: 1.26s\n",
      "107:\tlearn: 0.3110780\ttotal: 153ms\tremaining: 1.26s\n",
      "108:\tlearn: 0.3093714\ttotal: 154ms\tremaining: 1.25s\n",
      "109:\tlearn: 0.3081901\ttotal: 155ms\tremaining: 1.25s\n",
      "110:\tlearn: 0.3067301\ttotal: 156ms\tremaining: 1.25s\n",
      "111:\tlearn: 0.3056172\ttotal: 157ms\tremaining: 1.24s\n",
      "112:\tlearn: 0.3042251\ttotal: 158ms\tremaining: 1.24s\n",
      "113:\tlearn: 0.3030420\ttotal: 158ms\tremaining: 1.23s\n",
      "114:\tlearn: 0.3018113\ttotal: 159ms\tremaining: 1.23s\n",
      "115:\tlearn: 0.3000500\ttotal: 160ms\tremaining: 1.22s\n",
      "116:\tlearn: 0.2984966\ttotal: 161ms\tremaining: 1.21s\n",
      "117:\tlearn: 0.2973430\ttotal: 162ms\tremaining: 1.21s\n",
      "118:\tlearn: 0.2958673\ttotal: 163ms\tremaining: 1.2s\n",
      "119:\tlearn: 0.2946213\ttotal: 163ms\tremaining: 1.2s\n",
      "120:\tlearn: 0.2933296\ttotal: 164ms\tremaining: 1.19s\n",
      "121:\tlearn: 0.2922456\ttotal: 165ms\tremaining: 1.19s\n",
      "122:\tlearn: 0.2909874\ttotal: 166ms\tremaining: 1.18s\n",
      "123:\tlearn: 0.2900376\ttotal: 167ms\tremaining: 1.18s\n",
      "124:\tlearn: 0.2888515\ttotal: 168ms\tremaining: 1.17s\n",
      "125:\tlearn: 0.2876608\ttotal: 168ms\tremaining: 1.17s\n",
      "126:\tlearn: 0.2864678\ttotal: 169ms\tremaining: 1.16s\n",
      "127:\tlearn: 0.2855159\ttotal: 170ms\tremaining: 1.16s\n",
      "128:\tlearn: 0.2841665\ttotal: 171ms\tremaining: 1.15s\n",
      "129:\tlearn: 0.2831973\ttotal: 172ms\tremaining: 1.15s\n",
      "130:\tlearn: 0.2820753\ttotal: 173ms\tremaining: 1.15s\n",
      "131:\tlearn: 0.2808191\ttotal: 174ms\tremaining: 1.14s\n",
      "132:\tlearn: 0.2797423\ttotal: 175ms\tremaining: 1.14s\n",
      "133:\tlearn: 0.2785247\ttotal: 175ms\tremaining: 1.13s\n"
     ]
    },
    {
     "name": "stdout",
     "output_type": "stream",
     "text": [
      "134:\tlearn: 0.2776991\ttotal: 177ms\tremaining: 1.13s\n",
      "135:\tlearn: 0.2762120\ttotal: 177ms\tremaining: 1.13s\n",
      "136:\tlearn: 0.2754953\ttotal: 178ms\tremaining: 1.12s\n",
      "137:\tlearn: 0.2741406\ttotal: 179ms\tremaining: 1.12s\n",
      "138:\tlearn: 0.2730971\ttotal: 180ms\tremaining: 1.11s\n",
      "139:\tlearn: 0.2719170\ttotal: 181ms\tremaining: 1.11s\n",
      "140:\tlearn: 0.2709709\ttotal: 182ms\tremaining: 1.11s\n",
      "141:\tlearn: 0.2698682\ttotal: 183ms\tremaining: 1.1s\n",
      "142:\tlearn: 0.2689428\ttotal: 184ms\tremaining: 1.1s\n",
      "143:\tlearn: 0.2682123\ttotal: 184ms\tremaining: 1.09s\n",
      "144:\tlearn: 0.2672367\ttotal: 185ms\tremaining: 1.09s\n",
      "145:\tlearn: 0.2662218\ttotal: 186ms\tremaining: 1.09s\n",
      "146:\tlearn: 0.2654601\ttotal: 187ms\tremaining: 1.08s\n",
      "147:\tlearn: 0.2647490\ttotal: 188ms\tremaining: 1.08s\n",
      "148:\tlearn: 0.2636258\ttotal: 189ms\tremaining: 1.08s\n",
      "149:\tlearn: 0.2628752\ttotal: 189ms\tremaining: 1.07s\n",
      "150:\tlearn: 0.2620119\ttotal: 190ms\tremaining: 1.07s\n",
      "151:\tlearn: 0.2611285\ttotal: 191ms\tremaining: 1.07s\n",
      "152:\tlearn: 0.2603981\ttotal: 192ms\tremaining: 1.06s\n",
      "153:\tlearn: 0.2596049\ttotal: 193ms\tremaining: 1.06s\n",
      "154:\tlearn: 0.2586026\ttotal: 194ms\tremaining: 1.05s\n",
      "155:\tlearn: 0.2579027\ttotal: 195ms\tremaining: 1.05s\n",
      "156:\tlearn: 0.2568052\ttotal: 195ms\tremaining: 1.05s\n",
      "157:\tlearn: 0.2558180\ttotal: 196ms\tremaining: 1.05s\n",
      "158:\tlearn: 0.2550975\ttotal: 197ms\tremaining: 1.04s\n",
      "159:\tlearn: 0.2544449\ttotal: 198ms\tremaining: 1.04s\n",
      "160:\tlearn: 0.2537057\ttotal: 199ms\tremaining: 1.04s\n",
      "161:\tlearn: 0.2531111\ttotal: 200ms\tremaining: 1.03s\n",
      "162:\tlearn: 0.2523139\ttotal: 201ms\tremaining: 1.03s\n",
      "163:\tlearn: 0.2517648\ttotal: 202ms\tremaining: 1.03s\n",
      "164:\tlearn: 0.2511820\ttotal: 202ms\tremaining: 1.02s\n",
      "165:\tlearn: 0.2502588\ttotal: 203ms\tremaining: 1.02s\n",
      "166:\tlearn: 0.2496158\ttotal: 204ms\tremaining: 1.02s\n",
      "167:\tlearn: 0.2487575\ttotal: 205ms\tremaining: 1.01s\n",
      "168:\tlearn: 0.2480757\ttotal: 206ms\tremaining: 1.01s\n",
      "169:\tlearn: 0.2475406\ttotal: 207ms\tremaining: 1.01s\n",
      "170:\tlearn: 0.2470920\ttotal: 208ms\tremaining: 1.01s\n",
      "171:\tlearn: 0.2461544\ttotal: 208ms\tremaining: 1s\n",
      "172:\tlearn: 0.2454797\ttotal: 209ms\tremaining: 1s\n",
      "173:\tlearn: 0.2447088\ttotal: 210ms\tremaining: 998ms\n",
      "174:\tlearn: 0.2440690\ttotal: 211ms\tremaining: 995ms\n",
      "175:\tlearn: 0.2434375\ttotal: 212ms\tremaining: 992ms\n",
      "176:\tlearn: 0.2425126\ttotal: 213ms\tremaining: 989ms\n",
      "177:\tlearn: 0.2418372\ttotal: 214ms\tremaining: 987ms\n",
      "178:\tlearn: 0.2413734\ttotal: 214ms\tremaining: 984ms\n",
      "179:\tlearn: 0.2407864\ttotal: 215ms\tremaining: 980ms\n",
      "180:\tlearn: 0.2401186\ttotal: 216ms\tremaining: 978ms\n",
      "181:\tlearn: 0.2395388\ttotal: 217ms\tremaining: 974ms\n",
      "182:\tlearn: 0.2389250\ttotal: 218ms\tremaining: 971ms\n",
      "183:\tlearn: 0.2381265\ttotal: 218ms\tremaining: 968ms\n",
      "184:\tlearn: 0.2370895\ttotal: 219ms\tremaining: 965ms\n",
      "185:\tlearn: 0.2362717\ttotal: 220ms\tremaining: 962ms\n",
      "186:\tlearn: 0.2353579\ttotal: 221ms\tremaining: 959ms\n",
      "187:\tlearn: 0.2347170\ttotal: 222ms\tremaining: 957ms\n",
      "188:\tlearn: 0.2340804\ttotal: 222ms\tremaining: 955ms\n",
      "189:\tlearn: 0.2335102\ttotal: 223ms\tremaining: 952ms\n",
      "190:\tlearn: 0.2329653\ttotal: 224ms\tremaining: 950ms\n",
      "191:\tlearn: 0.2324946\ttotal: 225ms\tremaining: 948ms\n",
      "192:\tlearn: 0.2318243\ttotal: 226ms\tremaining: 945ms\n",
      "193:\tlearn: 0.2312484\ttotal: 227ms\tremaining: 943ms\n",
      "194:\tlearn: 0.2307403\ttotal: 228ms\tremaining: 940ms\n",
      "195:\tlearn: 0.2302203\ttotal: 229ms\tremaining: 937ms\n",
      "196:\tlearn: 0.2297795\ttotal: 229ms\tremaining: 935ms\n",
      "197:\tlearn: 0.2292576\ttotal: 230ms\tremaining: 932ms\n",
      "198:\tlearn: 0.2284721\ttotal: 231ms\tremaining: 930ms\n",
      "199:\tlearn: 0.2277564\ttotal: 232ms\tremaining: 927ms\n",
      "200:\tlearn: 0.2269931\ttotal: 233ms\tremaining: 924ms\n",
      "201:\tlearn: 0.2265128\ttotal: 233ms\tremaining: 922ms\n",
      "202:\tlearn: 0.2259545\ttotal: 234ms\tremaining: 919ms\n",
      "203:\tlearn: 0.2252824\ttotal: 235ms\tremaining: 917ms\n",
      "204:\tlearn: 0.2246726\ttotal: 236ms\tremaining: 915ms\n",
      "205:\tlearn: 0.2239348\ttotal: 237ms\tremaining: 913ms\n",
      "206:\tlearn: 0.2233086\ttotal: 238ms\tremaining: 913ms\n",
      "207:\tlearn: 0.2228816\ttotal: 239ms\tremaining: 911ms\n",
      "208:\tlearn: 0.2224262\ttotal: 240ms\tremaining: 908ms\n",
      "209:\tlearn: 0.2218021\ttotal: 241ms\tremaining: 906ms\n",
      "210:\tlearn: 0.2212311\ttotal: 242ms\tremaining: 903ms\n",
      "211:\tlearn: 0.2207449\ttotal: 242ms\tremaining: 901ms\n",
      "212:\tlearn: 0.2203100\ttotal: 243ms\tremaining: 899ms\n",
      "213:\tlearn: 0.2199002\ttotal: 244ms\tremaining: 897ms\n",
      "214:\tlearn: 0.2192528\ttotal: 245ms\tremaining: 895ms\n",
      "215:\tlearn: 0.2187025\ttotal: 247ms\tremaining: 895ms\n",
      "216:\tlearn: 0.2181620\ttotal: 247ms\tremaining: 892ms\n",
      "217:\tlearn: 0.2176238\ttotal: 248ms\tremaining: 890ms\n",
      "218:\tlearn: 0.2172042\ttotal: 249ms\tremaining: 888ms\n",
      "219:\tlearn: 0.2167791\ttotal: 250ms\tremaining: 886ms\n",
      "220:\tlearn: 0.2161588\ttotal: 251ms\tremaining: 883ms\n",
      "221:\tlearn: 0.2157098\ttotal: 251ms\tremaining: 881ms\n",
      "222:\tlearn: 0.2149435\ttotal: 252ms\tremaining: 879ms\n",
      "223:\tlearn: 0.2145371\ttotal: 253ms\tremaining: 876ms\n",
      "224:\tlearn: 0.2141315\ttotal: 254ms\tremaining: 874ms\n",
      "225:\tlearn: 0.2136846\ttotal: 255ms\tremaining: 872ms\n",
      "226:\tlearn: 0.2133016\ttotal: 255ms\tremaining: 870ms\n",
      "227:\tlearn: 0.2127349\ttotal: 256ms\tremaining: 868ms\n",
      "228:\tlearn: 0.2121990\ttotal: 257ms\tremaining: 866ms\n",
      "229:\tlearn: 0.2118755\ttotal: 258ms\tremaining: 864ms\n",
      "230:\tlearn: 0.2115133\ttotal: 259ms\tremaining: 862ms\n",
      "231:\tlearn: 0.2109729\ttotal: 260ms\tremaining: 860ms\n",
      "232:\tlearn: 0.2104310\ttotal: 261ms\tremaining: 858ms\n",
      "233:\tlearn: 0.2102040\ttotal: 261ms\tremaining: 855ms\n",
      "234:\tlearn: 0.2095516\ttotal: 262ms\tremaining: 853ms\n",
      "235:\tlearn: 0.2092562\ttotal: 263ms\tremaining: 851ms\n",
      "236:\tlearn: 0.2089187\ttotal: 264ms\tremaining: 849ms\n",
      "237:\tlearn: 0.2083329\ttotal: 264ms\tremaining: 846ms\n",
      "238:\tlearn: 0.2078100\ttotal: 265ms\tremaining: 844ms\n",
      "239:\tlearn: 0.2074598\ttotal: 266ms\tremaining: 842ms\n",
      "240:\tlearn: 0.2070106\ttotal: 267ms\tremaining: 840ms\n",
      "241:\tlearn: 0.2064600\ttotal: 267ms\tremaining: 837ms\n",
      "242:\tlearn: 0.2059347\ttotal: 268ms\tremaining: 835ms\n",
      "243:\tlearn: 0.2056910\ttotal: 269ms\tremaining: 833ms\n",
      "244:\tlearn: 0.2051448\ttotal: 270ms\tremaining: 831ms\n",
      "245:\tlearn: 0.2044652\ttotal: 271ms\tremaining: 829ms\n",
      "246:\tlearn: 0.2040767\ttotal: 271ms\tremaining: 827ms\n",
      "247:\tlearn: 0.2037719\ttotal: 273ms\tremaining: 827ms\n",
      "248:\tlearn: 0.2032339\ttotal: 274ms\tremaining: 826ms\n",
      "249:\tlearn: 0.2027083\ttotal: 274ms\tremaining: 823ms\n",
      "250:\tlearn: 0.2023231\ttotal: 275ms\tremaining: 822ms\n",
      "251:\tlearn: 0.2018162\ttotal: 276ms\tremaining: 820ms\n",
      "252:\tlearn: 0.2011678\ttotal: 277ms\tremaining: 818ms\n",
      "253:\tlearn: 0.2006954\ttotal: 278ms\tremaining: 816ms\n",
      "254:\tlearn: 0.2005181\ttotal: 279ms\tremaining: 815ms\n",
      "255:\tlearn: 0.2000840\ttotal: 280ms\tremaining: 813ms\n",
      "256:\tlearn: 0.1996343\ttotal: 281ms\tremaining: 812ms\n"
     ]
    },
    {
     "name": "stdout",
     "output_type": "stream",
     "text": [
      "257:\tlearn: 0.1991419\ttotal: 282ms\tremaining: 810ms\n",
      "258:\tlearn: 0.1986648\ttotal: 283ms\tremaining: 808ms\n",
      "259:\tlearn: 0.1982965\ttotal: 283ms\tremaining: 806ms\n",
      "260:\tlearn: 0.1977869\ttotal: 284ms\tremaining: 805ms\n",
      "261:\tlearn: 0.1974445\ttotal: 285ms\tremaining: 803ms\n",
      "262:\tlearn: 0.1971258\ttotal: 286ms\tremaining: 802ms\n",
      "263:\tlearn: 0.1966012\ttotal: 287ms\tremaining: 800ms\n",
      "264:\tlearn: 0.1959449\ttotal: 288ms\tremaining: 798ms\n",
      "265:\tlearn: 0.1955510\ttotal: 289ms\tremaining: 796ms\n",
      "266:\tlearn: 0.1952195\ttotal: 289ms\tremaining: 795ms\n",
      "267:\tlearn: 0.1944984\ttotal: 290ms\tremaining: 793ms\n",
      "268:\tlearn: 0.1940357\ttotal: 291ms\tremaining: 791ms\n",
      "269:\tlearn: 0.1934998\ttotal: 292ms\tremaining: 789ms\n",
      "270:\tlearn: 0.1930382\ttotal: 293ms\tremaining: 788ms\n",
      "271:\tlearn: 0.1925598\ttotal: 294ms\tremaining: 786ms\n",
      "272:\tlearn: 0.1919416\ttotal: 295ms\tremaining: 784ms\n",
      "273:\tlearn: 0.1915292\ttotal: 295ms\tremaining: 783ms\n",
      "274:\tlearn: 0.1913344\ttotal: 296ms\tremaining: 781ms\n",
      "275:\tlearn: 0.1909943\ttotal: 297ms\tremaining: 779ms\n",
      "276:\tlearn: 0.1908035\ttotal: 298ms\tremaining: 778ms\n",
      "277:\tlearn: 0.1902080\ttotal: 299ms\tremaining: 777ms\n",
      "278:\tlearn: 0.1898670\ttotal: 300ms\tremaining: 775ms\n",
      "279:\tlearn: 0.1893074\ttotal: 301ms\tremaining: 773ms\n",
      "280:\tlearn: 0.1889815\ttotal: 301ms\tremaining: 771ms\n",
      "281:\tlearn: 0.1884429\ttotal: 302ms\tremaining: 770ms\n",
      "282:\tlearn: 0.1878745\ttotal: 303ms\tremaining: 768ms\n",
      "283:\tlearn: 0.1876396\ttotal: 304ms\tremaining: 767ms\n",
      "284:\tlearn: 0.1870527\ttotal: 305ms\tremaining: 765ms\n",
      "285:\tlearn: 0.1864172\ttotal: 306ms\tremaining: 763ms\n",
      "286:\tlearn: 0.1860318\ttotal: 307ms\tremaining: 761ms\n",
      "287:\tlearn: 0.1854692\ttotal: 307ms\tremaining: 760ms\n",
      "288:\tlearn: 0.1850497\ttotal: 308ms\tremaining: 758ms\n",
      "289:\tlearn: 0.1849132\ttotal: 309ms\tremaining: 756ms\n",
      "290:\tlearn: 0.1847389\ttotal: 310ms\tremaining: 754ms\n",
      "291:\tlearn: 0.1842056\ttotal: 311ms\tremaining: 753ms\n",
      "292:\tlearn: 0.1838107\ttotal: 311ms\tremaining: 751ms\n",
      "293:\tlearn: 0.1834739\ttotal: 312ms\tremaining: 749ms\n",
      "294:\tlearn: 0.1830001\ttotal: 313ms\tremaining: 748ms\n",
      "295:\tlearn: 0.1826029\ttotal: 314ms\tremaining: 746ms\n",
      "296:\tlearn: 0.1822292\ttotal: 315ms\tremaining: 745ms\n",
      "297:\tlearn: 0.1815604\ttotal: 315ms\tremaining: 743ms\n",
      "298:\tlearn: 0.1811573\ttotal: 316ms\tremaining: 742ms\n",
      "299:\tlearn: 0.1808945\ttotal: 317ms\tremaining: 741ms\n",
      "300:\tlearn: 0.1804688\ttotal: 318ms\tremaining: 739ms\n",
      "301:\tlearn: 0.1801235\ttotal: 319ms\tremaining: 737ms\n",
      "302:\tlearn: 0.1796713\ttotal: 320ms\tremaining: 735ms\n",
      "303:\tlearn: 0.1791909\ttotal: 320ms\tremaining: 734ms\n",
      "304:\tlearn: 0.1788315\ttotal: 321ms\tremaining: 732ms\n",
      "305:\tlearn: 0.1784704\ttotal: 322ms\tremaining: 731ms\n",
      "306:\tlearn: 0.1778587\ttotal: 323ms\tremaining: 729ms\n",
      "307:\tlearn: 0.1773840\ttotal: 324ms\tremaining: 727ms\n",
      "308:\tlearn: 0.1767980\ttotal: 325ms\tremaining: 726ms\n",
      "309:\tlearn: 0.1763485\ttotal: 326ms\tremaining: 725ms\n",
      "310:\tlearn: 0.1760125\ttotal: 326ms\tremaining: 723ms\n",
      "311:\tlearn: 0.1756475\ttotal: 327ms\tremaining: 722ms\n",
      "312:\tlearn: 0.1751302\ttotal: 328ms\tremaining: 720ms\n",
      "313:\tlearn: 0.1747225\ttotal: 329ms\tremaining: 718ms\n",
      "314:\tlearn: 0.1743611\ttotal: 330ms\tremaining: 717ms\n",
      "315:\tlearn: 0.1738452\ttotal: 330ms\tremaining: 715ms\n",
      "316:\tlearn: 0.1733274\ttotal: 331ms\tremaining: 714ms\n",
      "317:\tlearn: 0.1728462\ttotal: 332ms\tremaining: 712ms\n",
      "318:\tlearn: 0.1723457\ttotal: 333ms\tremaining: 711ms\n",
      "319:\tlearn: 0.1720747\ttotal: 334ms\tremaining: 709ms\n",
      "320:\tlearn: 0.1716109\ttotal: 335ms\tremaining: 708ms\n",
      "321:\tlearn: 0.1711862\ttotal: 335ms\tremaining: 706ms\n",
      "322:\tlearn: 0.1708263\ttotal: 336ms\tremaining: 705ms\n",
      "323:\tlearn: 0.1704069\ttotal: 337ms\tremaining: 704ms\n",
      "324:\tlearn: 0.1699310\ttotal: 338ms\tremaining: 702ms\n",
      "325:\tlearn: 0.1696909\ttotal: 339ms\tremaining: 700ms\n",
      "326:\tlearn: 0.1692795\ttotal: 340ms\tremaining: 699ms\n",
      "327:\tlearn: 0.1689815\ttotal: 340ms\tremaining: 697ms\n",
      "328:\tlearn: 0.1686720\ttotal: 341ms\tremaining: 696ms\n",
      "329:\tlearn: 0.1683733\ttotal: 342ms\tremaining: 694ms\n",
      "330:\tlearn: 0.1680825\ttotal: 343ms\tremaining: 693ms\n",
      "331:\tlearn: 0.1675042\ttotal: 344ms\tremaining: 692ms\n",
      "332:\tlearn: 0.1671336\ttotal: 345ms\tremaining: 690ms\n",
      "333:\tlearn: 0.1668340\ttotal: 346ms\tremaining: 689ms\n",
      "334:\tlearn: 0.1666643\ttotal: 346ms\tremaining: 688ms\n",
      "335:\tlearn: 0.1663739\ttotal: 347ms\tremaining: 686ms\n",
      "336:\tlearn: 0.1659978\ttotal: 348ms\tremaining: 684ms\n",
      "337:\tlearn: 0.1655036\ttotal: 349ms\tremaining: 683ms\n",
      "338:\tlearn: 0.1652124\ttotal: 350ms\tremaining: 682ms\n",
      "339:\tlearn: 0.1649437\ttotal: 350ms\tremaining: 680ms\n",
      "340:\tlearn: 0.1646354\ttotal: 351ms\tremaining: 679ms\n",
      "341:\tlearn: 0.1643300\ttotal: 352ms\tremaining: 677ms\n",
      "342:\tlearn: 0.1638992\ttotal: 353ms\tremaining: 676ms\n",
      "343:\tlearn: 0.1637040\ttotal: 354ms\tremaining: 675ms\n",
      "344:\tlearn: 0.1634223\ttotal: 355ms\tremaining: 673ms\n",
      "345:\tlearn: 0.1632012\ttotal: 356ms\tremaining: 672ms\n",
      "346:\tlearn: 0.1627939\ttotal: 356ms\tremaining: 671ms\n",
      "347:\tlearn: 0.1624056\ttotal: 357ms\tremaining: 669ms\n",
      "348:\tlearn: 0.1620183\ttotal: 358ms\tremaining: 668ms\n",
      "349:\tlearn: 0.1616086\ttotal: 359ms\tremaining: 666ms\n",
      "350:\tlearn: 0.1612674\ttotal: 360ms\tremaining: 665ms\n",
      "351:\tlearn: 0.1609535\ttotal: 360ms\tremaining: 664ms\n",
      "352:\tlearn: 0.1605555\ttotal: 361ms\tremaining: 662ms\n",
      "353:\tlearn: 0.1602135\ttotal: 362ms\tremaining: 661ms\n",
      "354:\tlearn: 0.1596282\ttotal: 363ms\tremaining: 660ms\n",
      "355:\tlearn: 0.1593846\ttotal: 364ms\tremaining: 658ms\n",
      "356:\tlearn: 0.1590206\ttotal: 365ms\tremaining: 657ms\n",
      "357:\tlearn: 0.1587174\ttotal: 365ms\tremaining: 655ms\n",
      "358:\tlearn: 0.1584778\ttotal: 366ms\tremaining: 654ms\n"
     ]
    },
    {
     "name": "stdout",
     "output_type": "stream",
     "text": [
      "359:\tlearn: 0.1581177\ttotal: 367ms\tremaining: 653ms\n",
      "360:\tlearn: 0.1577712\ttotal: 368ms\tremaining: 652ms\n",
      "361:\tlearn: 0.1575195\ttotal: 369ms\tremaining: 650ms\n",
      "362:\tlearn: 0.1573000\ttotal: 370ms\tremaining: 649ms\n",
      "363:\tlearn: 0.1570365\ttotal: 371ms\tremaining: 648ms\n",
      "364:\tlearn: 0.1566875\ttotal: 372ms\tremaining: 646ms\n",
      "365:\tlearn: 0.1563772\ttotal: 372ms\tremaining: 645ms\n",
      "366:\tlearn: 0.1559785\ttotal: 373ms\tremaining: 644ms\n",
      "367:\tlearn: 0.1557883\ttotal: 374ms\tremaining: 642ms\n",
      "368:\tlearn: 0.1555114\ttotal: 375ms\tremaining: 641ms\n",
      "369:\tlearn: 0.1552074\ttotal: 376ms\tremaining: 640ms\n",
      "370:\tlearn: 0.1550731\ttotal: 377ms\tremaining: 639ms\n",
      "371:\tlearn: 0.1546911\ttotal: 377ms\tremaining: 637ms\n",
      "372:\tlearn: 0.1543676\ttotal: 378ms\tremaining: 636ms\n",
      "373:\tlearn: 0.1541256\ttotal: 379ms\tremaining: 634ms\n",
      "374:\tlearn: 0.1538226\ttotal: 380ms\tremaining: 633ms\n",
      "375:\tlearn: 0.1533925\ttotal: 380ms\tremaining: 631ms\n",
      "376:\tlearn: 0.1530145\ttotal: 381ms\tremaining: 630ms\n",
      "377:\tlearn: 0.1527395\ttotal: 382ms\tremaining: 629ms\n",
      "378:\tlearn: 0.1523865\ttotal: 383ms\tremaining: 627ms\n",
      "379:\tlearn: 0.1520583\ttotal: 384ms\tremaining: 626ms\n",
      "380:\tlearn: 0.1518133\ttotal: 385ms\tremaining: 625ms\n",
      "381:\tlearn: 0.1515204\ttotal: 385ms\tremaining: 623ms\n",
      "382:\tlearn: 0.1511731\ttotal: 386ms\tremaining: 622ms\n",
      "383:\tlearn: 0.1508040\ttotal: 387ms\tremaining: 621ms\n",
      "384:\tlearn: 0.1504371\ttotal: 388ms\tremaining: 620ms\n",
      "385:\tlearn: 0.1500605\ttotal: 389ms\tremaining: 618ms\n",
      "386:\tlearn: 0.1497867\ttotal: 390ms\tremaining: 617ms\n",
      "387:\tlearn: 0.1494567\ttotal: 390ms\tremaining: 616ms\n",
      "388:\tlearn: 0.1491114\ttotal: 391ms\tremaining: 614ms\n",
      "389:\tlearn: 0.1486582\ttotal: 392ms\tremaining: 613ms\n",
      "390:\tlearn: 0.1483327\ttotal: 393ms\tremaining: 612ms\n",
      "391:\tlearn: 0.1480257\ttotal: 394ms\tremaining: 611ms\n",
      "392:\tlearn: 0.1477971\ttotal: 395ms\tremaining: 609ms\n",
      "393:\tlearn: 0.1476083\ttotal: 395ms\tremaining: 608ms\n",
      "394:\tlearn: 0.1473474\ttotal: 397ms\tremaining: 608ms\n",
      "395:\tlearn: 0.1470933\ttotal: 398ms\tremaining: 606ms\n",
      "396:\tlearn: 0.1468795\ttotal: 398ms\tremaining: 605ms\n",
      "397:\tlearn: 0.1466598\ttotal: 399ms\tremaining: 604ms\n",
      "398:\tlearn: 0.1464468\ttotal: 400ms\tremaining: 603ms\n",
      "399:\tlearn: 0.1461055\ttotal: 401ms\tremaining: 601ms\n",
      "400:\tlearn: 0.1457558\ttotal: 402ms\tremaining: 600ms\n",
      "401:\tlearn: 0.1454904\ttotal: 403ms\tremaining: 599ms\n",
      "402:\tlearn: 0.1451233\ttotal: 404ms\tremaining: 598ms\n",
      "403:\tlearn: 0.1448502\ttotal: 404ms\tremaining: 597ms\n",
      "404:\tlearn: 0.1445139\ttotal: 405ms\tremaining: 595ms\n",
      "405:\tlearn: 0.1442068\ttotal: 406ms\tremaining: 594ms\n",
      "406:\tlearn: 0.1439276\ttotal: 407ms\tremaining: 593ms\n",
      "407:\tlearn: 0.1438057\ttotal: 408ms\tremaining: 592ms\n",
      "408:\tlearn: 0.1433039\ttotal: 409ms\tremaining: 590ms\n",
      "409:\tlearn: 0.1430271\ttotal: 409ms\tremaining: 589ms\n",
      "410:\tlearn: 0.1426478\ttotal: 410ms\tremaining: 588ms\n",
      "411:\tlearn: 0.1422870\ttotal: 411ms\tremaining: 587ms\n",
      "412:\tlearn: 0.1420777\ttotal: 412ms\tremaining: 586ms\n",
      "413:\tlearn: 0.1417629\ttotal: 413ms\tremaining: 584ms\n",
      "414:\tlearn: 0.1417184\ttotal: 414ms\tremaining: 583ms\n",
      "415:\tlearn: 0.1412917\ttotal: 415ms\tremaining: 582ms\n",
      "416:\tlearn: 0.1410398\ttotal: 415ms\tremaining: 581ms\n",
      "417:\tlearn: 0.1407104\ttotal: 416ms\tremaining: 580ms\n",
      "418:\tlearn: 0.1402588\ttotal: 417ms\tremaining: 579ms\n",
      "419:\tlearn: 0.1400046\ttotal: 418ms\tremaining: 578ms\n",
      "420:\tlearn: 0.1396077\ttotal: 419ms\tremaining: 577ms\n",
      "421:\tlearn: 0.1394251\ttotal: 421ms\tremaining: 576ms\n",
      "422:\tlearn: 0.1392416\ttotal: 422ms\tremaining: 575ms\n",
      "423:\tlearn: 0.1389626\ttotal: 423ms\tremaining: 574ms\n",
      "424:\tlearn: 0.1385415\ttotal: 424ms\tremaining: 573ms\n",
      "425:\tlearn: 0.1381602\ttotal: 425ms\tremaining: 572ms\n",
      "426:\tlearn: 0.1379704\ttotal: 425ms\tremaining: 571ms\n",
      "427:\tlearn: 0.1377278\ttotal: 426ms\tremaining: 570ms\n",
      "428:\tlearn: 0.1374230\ttotal: 427ms\tremaining: 568ms\n",
      "429:\tlearn: 0.1373777\ttotal: 428ms\tremaining: 567ms\n",
      "430:\tlearn: 0.1370728\ttotal: 429ms\tremaining: 566ms\n",
      "431:\tlearn: 0.1368358\ttotal: 430ms\tremaining: 565ms\n",
      "432:\tlearn: 0.1368139\ttotal: 431ms\tremaining: 564ms\n",
      "433:\tlearn: 0.1366620\ttotal: 431ms\tremaining: 563ms\n",
      "434:\tlearn: 0.1363763\ttotal: 432ms\tremaining: 561ms\n",
      "435:\tlearn: 0.1361869\ttotal: 433ms\tremaining: 560ms\n",
      "436:\tlearn: 0.1357975\ttotal: 434ms\tremaining: 559ms\n",
      "437:\tlearn: 0.1354561\ttotal: 435ms\tremaining: 558ms\n",
      "438:\tlearn: 0.1354130\ttotal: 436ms\tremaining: 557ms\n",
      "439:\tlearn: 0.1351117\ttotal: 436ms\tremaining: 556ms\n",
      "440:\tlearn: 0.1349331\ttotal: 437ms\tremaining: 554ms\n",
      "441:\tlearn: 0.1347044\ttotal: 438ms\tremaining: 553ms\n",
      "442:\tlearn: 0.1343592\ttotal: 439ms\tremaining: 552ms\n",
      "443:\tlearn: 0.1341425\ttotal: 440ms\tremaining: 551ms\n",
      "444:\tlearn: 0.1338374\ttotal: 441ms\tremaining: 550ms\n",
      "445:\tlearn: 0.1336280\ttotal: 442ms\tremaining: 549ms\n",
      "446:\tlearn: 0.1335240\ttotal: 443ms\tremaining: 548ms\n",
      "447:\tlearn: 0.1331759\ttotal: 443ms\tremaining: 546ms\n",
      "448:\tlearn: 0.1328013\ttotal: 444ms\tremaining: 545ms\n",
      "449:\tlearn: 0.1325300\ttotal: 445ms\tremaining: 544ms\n",
      "450:\tlearn: 0.1324858\ttotal: 446ms\tremaining: 543ms\n",
      "451:\tlearn: 0.1322911\ttotal: 447ms\tremaining: 541ms\n",
      "452:\tlearn: 0.1321312\ttotal: 447ms\tremaining: 540ms\n",
      "453:\tlearn: 0.1320307\ttotal: 448ms\tremaining: 539ms\n",
      "454:\tlearn: 0.1319875\ttotal: 449ms\tremaining: 538ms\n",
      "455:\tlearn: 0.1319697\ttotal: 450ms\tremaining: 536ms\n",
      "456:\tlearn: 0.1316524\ttotal: 450ms\tremaining: 535ms\n",
      "457:\tlearn: 0.1315491\ttotal: 451ms\tremaining: 534ms\n",
      "458:\tlearn: 0.1313129\ttotal: 452ms\tremaining: 533ms\n",
      "459:\tlearn: 0.1310766\ttotal: 453ms\tremaining: 532ms\n",
      "460:\tlearn: 0.1307444\ttotal: 454ms\tremaining: 531ms\n",
      "461:\tlearn: 0.1304623\ttotal: 455ms\tremaining: 529ms\n"
     ]
    },
    {
     "name": "stdout",
     "output_type": "stream",
     "text": [
      "462:\tlearn: 0.1303107\ttotal: 456ms\tremaining: 528ms\n",
      "463:\tlearn: 0.1299470\ttotal: 457ms\tremaining: 528ms\n",
      "464:\tlearn: 0.1298924\ttotal: 458ms\tremaining: 526ms\n",
      "465:\tlearn: 0.1297966\ttotal: 458ms\tremaining: 525ms\n",
      "466:\tlearn: 0.1297368\ttotal: 459ms\tremaining: 524ms\n",
      "467:\tlearn: 0.1296575\ttotal: 460ms\tremaining: 523ms\n",
      "468:\tlearn: 0.1293836\ttotal: 461ms\tremaining: 522ms\n",
      "469:\tlearn: 0.1291184\ttotal: 462ms\tremaining: 521ms\n",
      "470:\tlearn: 0.1289349\ttotal: 463ms\tremaining: 519ms\n",
      "471:\tlearn: 0.1287546\ttotal: 463ms\tremaining: 518ms\n",
      "472:\tlearn: 0.1285224\ttotal: 464ms\tremaining: 517ms\n",
      "473:\tlearn: 0.1282967\ttotal: 465ms\tremaining: 516ms\n",
      "474:\tlearn: 0.1281270\ttotal: 466ms\tremaining: 515ms\n",
      "475:\tlearn: 0.1280593\ttotal: 467ms\tremaining: 514ms\n",
      "476:\tlearn: 0.1277987\ttotal: 467ms\tremaining: 513ms\n",
      "477:\tlearn: 0.1277669\ttotal: 468ms\tremaining: 511ms\n",
      "478:\tlearn: 0.1277112\ttotal: 469ms\tremaining: 510ms\n",
      "479:\tlearn: 0.1274618\ttotal: 470ms\tremaining: 509ms\n",
      "480:\tlearn: 0.1272108\ttotal: 471ms\tremaining: 508ms\n",
      "481:\tlearn: 0.1270932\ttotal: 472ms\tremaining: 507ms\n",
      "482:\tlearn: 0.1267013\ttotal: 472ms\tremaining: 506ms\n",
      "483:\tlearn: 0.1264230\ttotal: 473ms\tremaining: 505ms\n",
      "484:\tlearn: 0.1262257\ttotal: 474ms\tremaining: 503ms\n",
      "485:\tlearn: 0.1259830\ttotal: 475ms\tremaining: 502ms\n",
      "486:\tlearn: 0.1259307\ttotal: 476ms\tremaining: 501ms\n",
      "487:\tlearn: 0.1257253\ttotal: 477ms\tremaining: 500ms\n",
      "488:\tlearn: 0.1255275\ttotal: 478ms\tremaining: 499ms\n",
      "489:\tlearn: 0.1253298\ttotal: 478ms\tremaining: 498ms\n",
      "490:\tlearn: 0.1251440\ttotal: 479ms\tremaining: 497ms\n",
      "491:\tlearn: 0.1249401\ttotal: 480ms\tremaining: 495ms\n",
      "492:\tlearn: 0.1247052\ttotal: 481ms\tremaining: 494ms\n",
      "493:\tlearn: 0.1246650\ttotal: 482ms\tremaining: 493ms\n",
      "494:\tlearn: 0.1244485\ttotal: 482ms\tremaining: 492ms\n",
      "495:\tlearn: 0.1241730\ttotal: 483ms\tremaining: 491ms\n",
      "496:\tlearn: 0.1238532\ttotal: 484ms\tremaining: 490ms\n",
      "497:\tlearn: 0.1235511\ttotal: 485ms\tremaining: 489ms\n",
      "498:\tlearn: 0.1232651\ttotal: 486ms\tremaining: 488ms\n",
      "499:\tlearn: 0.1230119\ttotal: 487ms\tremaining: 487ms\n",
      "500:\tlearn: 0.1228264\ttotal: 487ms\tremaining: 486ms\n",
      "501:\tlearn: 0.1225120\ttotal: 488ms\tremaining: 484ms\n",
      "502:\tlearn: 0.1222926\ttotal: 489ms\tremaining: 483ms\n",
      "503:\tlearn: 0.1220195\ttotal: 490ms\tremaining: 482ms\n",
      "504:\tlearn: 0.1219810\ttotal: 491ms\tremaining: 481ms\n",
      "505:\tlearn: 0.1217889\ttotal: 491ms\tremaining: 480ms\n",
      "506:\tlearn: 0.1215439\ttotal: 492ms\tremaining: 479ms\n",
      "507:\tlearn: 0.1212535\ttotal: 493ms\tremaining: 478ms\n",
      "508:\tlearn: 0.1211415\ttotal: 494ms\tremaining: 476ms\n",
      "509:\tlearn: 0.1208389\ttotal: 495ms\tremaining: 475ms\n",
      "510:\tlearn: 0.1206074\ttotal: 496ms\tremaining: 474ms\n",
      "511:\tlearn: 0.1203307\ttotal: 496ms\tremaining: 473ms\n",
      "512:\tlearn: 0.1201668\ttotal: 497ms\tremaining: 472ms\n",
      "513:\tlearn: 0.1199744\ttotal: 498ms\tremaining: 471ms\n",
      "514:\tlearn: 0.1197653\ttotal: 499ms\tremaining: 470ms\n",
      "515:\tlearn: 0.1197280\ttotal: 499ms\tremaining: 468ms\n",
      "516:\tlearn: 0.1196855\ttotal: 500ms\tremaining: 467ms\n",
      "517:\tlearn: 0.1195420\ttotal: 501ms\tremaining: 466ms\n",
      "518:\tlearn: 0.1193190\ttotal: 502ms\tremaining: 465ms\n",
      "519:\tlearn: 0.1192828\ttotal: 503ms\tremaining: 464ms\n",
      "520:\tlearn: 0.1191224\ttotal: 504ms\tremaining: 463ms\n",
      "521:\tlearn: 0.1190334\ttotal: 504ms\tremaining: 462ms\n",
      "522:\tlearn: 0.1188100\ttotal: 505ms\tremaining: 461ms\n",
      "523:\tlearn: 0.1185330\ttotal: 506ms\tremaining: 460ms\n",
      "524:\tlearn: 0.1182667\ttotal: 507ms\tremaining: 458ms\n",
      "525:\tlearn: 0.1181348\ttotal: 507ms\tremaining: 457ms\n",
      "526:\tlearn: 0.1178419\ttotal: 508ms\tremaining: 456ms\n",
      "527:\tlearn: 0.1176411\ttotal: 509ms\tremaining: 455ms\n",
      "528:\tlearn: 0.1174498\ttotal: 510ms\tremaining: 454ms\n",
      "529:\tlearn: 0.1171459\ttotal: 511ms\tremaining: 453ms\n",
      "530:\tlearn: 0.1170620\ttotal: 511ms\tremaining: 452ms\n",
      "531:\tlearn: 0.1167943\ttotal: 512ms\tremaining: 451ms\n",
      "532:\tlearn: 0.1166287\ttotal: 513ms\tremaining: 450ms\n",
      "533:\tlearn: 0.1164723\ttotal: 514ms\tremaining: 448ms\n",
      "534:\tlearn: 0.1164382\ttotal: 515ms\tremaining: 447ms\n",
      "535:\tlearn: 0.1163074\ttotal: 516ms\tremaining: 446ms\n",
      "536:\tlearn: 0.1161897\ttotal: 516ms\tremaining: 445ms\n",
      "537:\tlearn: 0.1159909\ttotal: 517ms\tremaining: 444ms\n",
      "538:\tlearn: 0.1158493\ttotal: 518ms\tremaining: 443ms\n",
      "539:\tlearn: 0.1155566\ttotal: 519ms\tremaining: 442ms\n",
      "540:\tlearn: 0.1155087\ttotal: 519ms\tremaining: 441ms\n",
      "541:\tlearn: 0.1154338\ttotal: 520ms\tremaining: 440ms\n",
      "542:\tlearn: 0.1152159\ttotal: 521ms\tremaining: 438ms\n",
      "543:\tlearn: 0.1150328\ttotal: 522ms\tremaining: 438ms\n",
      "544:\tlearn: 0.1148359\ttotal: 523ms\tremaining: 437ms\n",
      "545:\tlearn: 0.1147798\ttotal: 524ms\tremaining: 435ms\n",
      "546:\tlearn: 0.1147624\ttotal: 525ms\tremaining: 434ms\n",
      "547:\tlearn: 0.1146666\ttotal: 525ms\tremaining: 433ms\n",
      "548:\tlearn: 0.1146345\ttotal: 526ms\tremaining: 432ms\n",
      "549:\tlearn: 0.1144464\ttotal: 527ms\tremaining: 431ms\n",
      "550:\tlearn: 0.1142596\ttotal: 528ms\tremaining: 430ms\n",
      "551:\tlearn: 0.1139558\ttotal: 529ms\tremaining: 429ms\n",
      "552:\tlearn: 0.1138061\ttotal: 529ms\tremaining: 428ms\n",
      "553:\tlearn: 0.1136062\ttotal: 530ms\tremaining: 427ms\n",
      "554:\tlearn: 0.1134329\ttotal: 531ms\tremaining: 426ms\n",
      "555:\tlearn: 0.1133583\ttotal: 532ms\tremaining: 425ms\n",
      "556:\tlearn: 0.1133272\ttotal: 533ms\tremaining: 424ms\n",
      "557:\tlearn: 0.1131606\ttotal: 534ms\tremaining: 423ms\n",
      "558:\tlearn: 0.1129348\ttotal: 534ms\tremaining: 422ms\n",
      "559:\tlearn: 0.1127562\ttotal: 536ms\tremaining: 421ms\n",
      "560:\tlearn: 0.1126442\ttotal: 537ms\tremaining: 420ms\n",
      "561:\tlearn: 0.1123791\ttotal: 537ms\tremaining: 419ms\n",
      "562:\tlearn: 0.1121401\ttotal: 538ms\tremaining: 418ms\n",
      "563:\tlearn: 0.1121011\ttotal: 539ms\tremaining: 417ms\n",
      "564:\tlearn: 0.1119535\ttotal: 540ms\tremaining: 416ms\n",
      "565:\tlearn: 0.1117719\ttotal: 541ms\tremaining: 415ms\n"
     ]
    },
    {
     "name": "stdout",
     "output_type": "stream",
     "text": [
      "566:\tlearn: 0.1115230\ttotal: 542ms\tremaining: 414ms\n",
      "567:\tlearn: 0.1113126\ttotal: 542ms\tremaining: 413ms\n",
      "568:\tlearn: 0.1111713\ttotal: 543ms\tremaining: 412ms\n",
      "569:\tlearn: 0.1111407\ttotal: 544ms\tremaining: 411ms\n",
      "570:\tlearn: 0.1109391\ttotal: 545ms\tremaining: 409ms\n",
      "571:\tlearn: 0.1107729\ttotal: 546ms\tremaining: 408ms\n",
      "572:\tlearn: 0.1105687\ttotal: 547ms\tremaining: 407ms\n",
      "573:\tlearn: 0.1103345\ttotal: 547ms\tremaining: 406ms\n",
      "574:\tlearn: 0.1100563\ttotal: 548ms\tremaining: 405ms\n",
      "575:\tlearn: 0.1099409\ttotal: 549ms\tremaining: 404ms\n",
      "576:\tlearn: 0.1097782\ttotal: 550ms\tremaining: 403ms\n",
      "577:\tlearn: 0.1095782\ttotal: 551ms\tremaining: 402ms\n",
      "578:\tlearn: 0.1095426\ttotal: 552ms\tremaining: 401ms\n",
      "579:\tlearn: 0.1093639\ttotal: 553ms\tremaining: 400ms\n",
      "580:\tlearn: 0.1090971\ttotal: 553ms\tremaining: 399ms\n",
      "581:\tlearn: 0.1089836\ttotal: 554ms\tremaining: 398ms\n",
      "582:\tlearn: 0.1087381\ttotal: 555ms\tremaining: 397ms\n",
      "583:\tlearn: 0.1084960\ttotal: 556ms\tremaining: 396ms\n",
      "584:\tlearn: 0.1082784\ttotal: 557ms\tremaining: 395ms\n",
      "585:\tlearn: 0.1081009\ttotal: 558ms\tremaining: 394ms\n",
      "586:\tlearn: 0.1079486\ttotal: 558ms\tremaining: 393ms\n",
      "587:\tlearn: 0.1079182\ttotal: 559ms\tremaining: 392ms\n",
      "588:\tlearn: 0.1076075\ttotal: 560ms\tremaining: 391ms\n",
      "589:\tlearn: 0.1074105\ttotal: 561ms\tremaining: 390ms\n",
      "590:\tlearn: 0.1070979\ttotal: 562ms\tremaining: 389ms\n",
      "591:\tlearn: 0.1068121\ttotal: 563ms\tremaining: 388ms\n",
      "592:\tlearn: 0.1066153\ttotal: 564ms\tremaining: 387ms\n",
      "593:\tlearn: 0.1064498\ttotal: 564ms\tremaining: 386ms\n",
      "594:\tlearn: 0.1062204\ttotal: 565ms\tremaining: 385ms\n",
      "595:\tlearn: 0.1060485\ttotal: 566ms\tremaining: 384ms\n",
      "596:\tlearn: 0.1058699\ttotal: 567ms\tremaining: 383ms\n",
      "597:\tlearn: 0.1055817\ttotal: 568ms\tremaining: 382ms\n",
      "598:\tlearn: 0.1053731\ttotal: 569ms\tremaining: 381ms\n",
      "599:\tlearn: 0.1052032\ttotal: 570ms\tremaining: 380ms\n",
      "600:\tlearn: 0.1051098\ttotal: 571ms\tremaining: 379ms\n",
      "601:\tlearn: 0.1049990\ttotal: 571ms\tremaining: 378ms\n",
      "602:\tlearn: 0.1048620\ttotal: 572ms\tremaining: 377ms\n",
      "603:\tlearn: 0.1047649\ttotal: 573ms\tremaining: 376ms\n",
      "604:\tlearn: 0.1045120\ttotal: 574ms\tremaining: 375ms\n",
      "605:\tlearn: 0.1043286\ttotal: 575ms\tremaining: 374ms\n",
      "606:\tlearn: 0.1041352\ttotal: 576ms\tremaining: 373ms\n",
      "607:\tlearn: 0.1040055\ttotal: 577ms\tremaining: 372ms\n",
      "608:\tlearn: 0.1038497\ttotal: 578ms\tremaining: 371ms\n",
      "609:\tlearn: 0.1037373\ttotal: 579ms\tremaining: 370ms\n",
      "610:\tlearn: 0.1035379\ttotal: 579ms\tremaining: 369ms\n",
      "611:\tlearn: 0.1032861\ttotal: 580ms\tremaining: 368ms\n",
      "612:\tlearn: 0.1029548\ttotal: 581ms\tremaining: 367ms\n",
      "613:\tlearn: 0.1027139\ttotal: 582ms\tremaining: 366ms\n",
      "614:\tlearn: 0.1024974\ttotal: 583ms\tremaining: 365ms\n",
      "615:\tlearn: 0.1023509\ttotal: 584ms\tremaining: 364ms\n",
      "616:\tlearn: 0.1021343\ttotal: 585ms\tremaining: 363ms\n",
      "617:\tlearn: 0.1020191\ttotal: 586ms\tremaining: 362ms\n",
      "618:\tlearn: 0.1018293\ttotal: 587ms\tremaining: 361ms\n",
      "619:\tlearn: 0.1016494\ttotal: 588ms\tremaining: 360ms\n",
      "620:\tlearn: 0.1014596\ttotal: 589ms\tremaining: 359ms\n",
      "621:\tlearn: 0.1013829\ttotal: 590ms\tremaining: 358ms\n",
      "622:\tlearn: 0.1011166\ttotal: 590ms\tremaining: 357ms\n",
      "623:\tlearn: 0.1009074\ttotal: 591ms\tremaining: 356ms\n",
      "624:\tlearn: 0.1008300\ttotal: 592ms\tremaining: 355ms\n",
      "625:\tlearn: 0.1006135\ttotal: 593ms\tremaining: 354ms\n",
      "626:\tlearn: 0.1004996\ttotal: 594ms\tremaining: 353ms\n",
      "627:\tlearn: 0.1002395\ttotal: 594ms\tremaining: 352ms\n",
      "628:\tlearn: 0.1000726\ttotal: 595ms\tremaining: 351ms\n",
      "629:\tlearn: 0.1000492\ttotal: 596ms\tremaining: 350ms\n",
      "630:\tlearn: 0.0998685\ttotal: 597ms\tremaining: 349ms\n",
      "631:\tlearn: 0.0997917\ttotal: 598ms\tremaining: 348ms\n",
      "632:\tlearn: 0.0996051\ttotal: 599ms\tremaining: 347ms\n",
      "633:\tlearn: 0.0994117\ttotal: 599ms\tremaining: 346ms\n",
      "634:\tlearn: 0.0992371\ttotal: 600ms\tremaining: 345ms\n",
      "635:\tlearn: 0.0990798\ttotal: 601ms\tremaining: 344ms\n",
      "636:\tlearn: 0.0989795\ttotal: 602ms\tremaining: 343ms\n",
      "637:\tlearn: 0.0987778\ttotal: 603ms\tremaining: 342ms\n",
      "638:\tlearn: 0.0985700\ttotal: 603ms\tremaining: 341ms\n",
      "639:\tlearn: 0.0984726\ttotal: 604ms\tremaining: 340ms\n",
      "640:\tlearn: 0.0981752\ttotal: 605ms\tremaining: 339ms\n",
      "641:\tlearn: 0.0980237\ttotal: 606ms\tremaining: 338ms\n",
      "642:\tlearn: 0.0978895\ttotal: 607ms\tremaining: 337ms\n",
      "643:\tlearn: 0.0977660\ttotal: 608ms\tremaining: 336ms\n",
      "644:\tlearn: 0.0975627\ttotal: 608ms\tremaining: 335ms\n",
      "645:\tlearn: 0.0973715\ttotal: 609ms\tremaining: 334ms\n",
      "646:\tlearn: 0.0973217\ttotal: 610ms\tremaining: 333ms\n",
      "647:\tlearn: 0.0971617\ttotal: 611ms\tremaining: 332ms\n",
      "648:\tlearn: 0.0970226\ttotal: 612ms\tremaining: 331ms\n",
      "649:\tlearn: 0.0969327\ttotal: 613ms\tremaining: 330ms\n",
      "650:\tlearn: 0.0967734\ttotal: 613ms\tremaining: 329ms\n",
      "651:\tlearn: 0.0965551\ttotal: 614ms\tremaining: 328ms\n",
      "652:\tlearn: 0.0963921\ttotal: 615ms\tremaining: 327ms\n",
      "653:\tlearn: 0.0962287\ttotal: 616ms\tremaining: 326ms\n",
      "654:\tlearn: 0.0960423\ttotal: 617ms\tremaining: 325ms\n",
      "655:\tlearn: 0.0958830\ttotal: 618ms\tremaining: 324ms\n",
      "656:\tlearn: 0.0957654\ttotal: 619ms\tremaining: 323ms\n",
      "657:\tlearn: 0.0956188\ttotal: 620ms\tremaining: 322ms\n",
      "658:\tlearn: 0.0954262\ttotal: 620ms\tremaining: 321ms\n",
      "659:\tlearn: 0.0953938\ttotal: 621ms\tremaining: 320ms\n",
      "660:\tlearn: 0.0951436\ttotal: 622ms\tremaining: 319ms\n",
      "661:\tlearn: 0.0950563\ttotal: 623ms\tremaining: 318ms\n",
      "662:\tlearn: 0.0948326\ttotal: 624ms\tremaining: 317ms\n",
      "663:\tlearn: 0.0946902\ttotal: 624ms\tremaining: 316ms\n",
      "664:\tlearn: 0.0946151\ttotal: 625ms\tremaining: 315ms\n",
      "665:\tlearn: 0.0944584\ttotal: 626ms\tremaining: 314ms\n",
      "666:\tlearn: 0.0943705\ttotal: 627ms\tremaining: 313ms\n",
      "667:\tlearn: 0.0942235\ttotal: 628ms\tremaining: 312ms\n",
      "668:\tlearn: 0.0941303\ttotal: 629ms\tremaining: 311ms\n",
      "669:\tlearn: 0.0940399\ttotal: 630ms\tremaining: 310ms\n",
      "670:\tlearn: 0.0939292\ttotal: 630ms\tremaining: 309ms\n",
      "671:\tlearn: 0.0938994\ttotal: 631ms\tremaining: 308ms\n",
      "672:\tlearn: 0.0938636\ttotal: 632ms\tremaining: 307ms\n",
      "673:\tlearn: 0.0937439\ttotal: 633ms\tremaining: 306ms\n",
      "674:\tlearn: 0.0936433\ttotal: 634ms\tremaining: 305ms\n",
      "675:\tlearn: 0.0934596\ttotal: 635ms\tremaining: 304ms\n",
      "676:\tlearn: 0.0933387\ttotal: 635ms\tremaining: 303ms\n",
      "677:\tlearn: 0.0931497\ttotal: 636ms\tremaining: 302ms\n",
      "678:\tlearn: 0.0930450\ttotal: 637ms\tremaining: 301ms\n",
      "679:\tlearn: 0.0929818\ttotal: 638ms\tremaining: 300ms\n",
      "680:\tlearn: 0.0928042\ttotal: 639ms\tremaining: 299ms\n",
      "681:\tlearn: 0.0926569\ttotal: 639ms\tremaining: 298ms\n",
      "682:\tlearn: 0.0924782\ttotal: 640ms\tremaining: 297ms\n",
      "683:\tlearn: 0.0922874\ttotal: 641ms\tremaining: 296ms\n",
      "684:\tlearn: 0.0921147\ttotal: 642ms\tremaining: 295ms\n",
      "685:\tlearn: 0.0919322\ttotal: 643ms\tremaining: 294ms\n",
      "686:\tlearn: 0.0917338\ttotal: 644ms\tremaining: 293ms\n",
      "687:\tlearn: 0.0916507\ttotal: 644ms\tremaining: 292ms\n",
      "688:\tlearn: 0.0914437\ttotal: 645ms\tremaining: 291ms\n"
     ]
    },
    {
     "name": "stdout",
     "output_type": "stream",
     "text": [
      "689:\tlearn: 0.0911425\ttotal: 646ms\tremaining: 290ms\n",
      "690:\tlearn: 0.0908739\ttotal: 647ms\tremaining: 289ms\n",
      "691:\tlearn: 0.0906352\ttotal: 648ms\tremaining: 288ms\n",
      "692:\tlearn: 0.0906115\ttotal: 649ms\tremaining: 287ms\n",
      "693:\tlearn: 0.0904439\ttotal: 649ms\tremaining: 286ms\n",
      "694:\tlearn: 0.0902779\ttotal: 650ms\tremaining: 285ms\n",
      "695:\tlearn: 0.0901788\ttotal: 651ms\tremaining: 284ms\n",
      "696:\tlearn: 0.0900914\ttotal: 652ms\tremaining: 284ms\n",
      "697:\tlearn: 0.0899525\ttotal: 653ms\tremaining: 283ms\n",
      "698:\tlearn: 0.0897620\ttotal: 654ms\tremaining: 282ms\n",
      "699:\tlearn: 0.0897480\ttotal: 655ms\tremaining: 281ms\n",
      "700:\tlearn: 0.0895722\ttotal: 656ms\tremaining: 280ms\n",
      "701:\tlearn: 0.0894046\ttotal: 656ms\tremaining: 279ms\n",
      "702:\tlearn: 0.0891892\ttotal: 657ms\tremaining: 278ms\n",
      "703:\tlearn: 0.0890619\ttotal: 658ms\tremaining: 277ms\n",
      "704:\tlearn: 0.0889586\ttotal: 659ms\tremaining: 276ms\n",
      "705:\tlearn: 0.0888670\ttotal: 660ms\tremaining: 275ms\n",
      "706:\tlearn: 0.0887511\ttotal: 661ms\tremaining: 274ms\n",
      "707:\tlearn: 0.0886041\ttotal: 662ms\tremaining: 273ms\n",
      "708:\tlearn: 0.0884748\ttotal: 662ms\tremaining: 272ms\n",
      "709:\tlearn: 0.0884083\ttotal: 663ms\tremaining: 271ms\n",
      "710:\tlearn: 0.0883616\ttotal: 664ms\tremaining: 270ms\n",
      "711:\tlearn: 0.0881604\ttotal: 665ms\tremaining: 269ms\n",
      "712:\tlearn: 0.0880238\ttotal: 666ms\tremaining: 268ms\n",
      "713:\tlearn: 0.0879302\ttotal: 667ms\tremaining: 267ms\n",
      "714:\tlearn: 0.0877749\ttotal: 667ms\tremaining: 266ms\n",
      "715:\tlearn: 0.0875635\ttotal: 668ms\tremaining: 265ms\n",
      "716:\tlearn: 0.0873836\ttotal: 669ms\tremaining: 264ms\n",
      "717:\tlearn: 0.0872289\ttotal: 670ms\tremaining: 263ms\n",
      "718:\tlearn: 0.0870132\ttotal: 671ms\tremaining: 262ms\n",
      "719:\tlearn: 0.0868984\ttotal: 672ms\tremaining: 261ms\n",
      "720:\tlearn: 0.0868043\ttotal: 673ms\tremaining: 260ms\n",
      "721:\tlearn: 0.0866160\ttotal: 674ms\tremaining: 259ms\n",
      "722:\tlearn: 0.0864341\ttotal: 674ms\tremaining: 258ms\n",
      "723:\tlearn: 0.0863380\ttotal: 675ms\tremaining: 257ms\n",
      "724:\tlearn: 0.0862359\ttotal: 676ms\tremaining: 256ms\n",
      "725:\tlearn: 0.0860651\ttotal: 677ms\tremaining: 255ms\n",
      "726:\tlearn: 0.0859051\ttotal: 678ms\tremaining: 254ms\n",
      "727:\tlearn: 0.0857767\ttotal: 678ms\tremaining: 253ms\n",
      "728:\tlearn: 0.0856694\ttotal: 679ms\tremaining: 253ms\n",
      "729:\tlearn: 0.0855612\ttotal: 680ms\tremaining: 252ms\n",
      "730:\tlearn: 0.0854663\ttotal: 681ms\tremaining: 251ms\n",
      "731:\tlearn: 0.0854017\ttotal: 682ms\tremaining: 250ms\n",
      "732:\tlearn: 0.0852633\ttotal: 683ms\tremaining: 249ms\n",
      "733:\tlearn: 0.0851441\ttotal: 683ms\tremaining: 248ms\n",
      "734:\tlearn: 0.0848775\ttotal: 684ms\tremaining: 247ms\n",
      "735:\tlearn: 0.0847330\ttotal: 685ms\tremaining: 246ms\n",
      "736:\tlearn: 0.0845947\ttotal: 686ms\tremaining: 245ms\n",
      "737:\tlearn: 0.0845275\ttotal: 687ms\tremaining: 244ms\n",
      "738:\tlearn: 0.0844756\ttotal: 687ms\tremaining: 243ms\n",
      "739:\tlearn: 0.0843919\ttotal: 688ms\tremaining: 242ms\n",
      "740:\tlearn: 0.0843288\ttotal: 689ms\tremaining: 241ms\n",
      "741:\tlearn: 0.0841501\ttotal: 691ms\tremaining: 240ms\n",
      "742:\tlearn: 0.0839845\ttotal: 692ms\tremaining: 239ms\n",
      "743:\tlearn: 0.0839438\ttotal: 692ms\tremaining: 238ms\n",
      "744:\tlearn: 0.0838654\ttotal: 693ms\tremaining: 237ms\n",
      "745:\tlearn: 0.0838396\ttotal: 694ms\tremaining: 236ms\n",
      "746:\tlearn: 0.0838260\ttotal: 695ms\tremaining: 235ms\n",
      "747:\tlearn: 0.0836396\ttotal: 696ms\tremaining: 234ms\n",
      "748:\tlearn: 0.0834792\ttotal: 696ms\tremaining: 233ms\n",
      "749:\tlearn: 0.0833671\ttotal: 697ms\tremaining: 232ms\n",
      "750:\tlearn: 0.0833180\ttotal: 698ms\tremaining: 231ms\n",
      "751:\tlearn: 0.0832232\ttotal: 699ms\tremaining: 230ms\n",
      "752:\tlearn: 0.0831462\ttotal: 700ms\tremaining: 230ms\n",
      "753:\tlearn: 0.0831296\ttotal: 701ms\tremaining: 229ms\n",
      "754:\tlearn: 0.0829650\ttotal: 701ms\tremaining: 228ms\n",
      "755:\tlearn: 0.0829087\ttotal: 702ms\tremaining: 227ms\n",
      "756:\tlearn: 0.0827333\ttotal: 703ms\tremaining: 226ms\n",
      "757:\tlearn: 0.0826988\ttotal: 704ms\tremaining: 225ms\n",
      "758:\tlearn: 0.0826739\ttotal: 704ms\tremaining: 224ms\n",
      "759:\tlearn: 0.0825841\ttotal: 705ms\tremaining: 223ms\n",
      "760:\tlearn: 0.0823660\ttotal: 706ms\tremaining: 222ms\n",
      "761:\tlearn: 0.0822778\ttotal: 707ms\tremaining: 221ms\n",
      "762:\tlearn: 0.0821632\ttotal: 708ms\tremaining: 220ms\n",
      "763:\tlearn: 0.0820402\ttotal: 709ms\tremaining: 219ms\n",
      "764:\tlearn: 0.0819742\ttotal: 709ms\tremaining: 218ms\n",
      "765:\tlearn: 0.0818318\ttotal: 710ms\tremaining: 217ms\n",
      "766:\tlearn: 0.0818195\ttotal: 711ms\tremaining: 216ms\n",
      "767:\tlearn: 0.0817125\ttotal: 712ms\tremaining: 215ms\n",
      "768:\tlearn: 0.0815276\ttotal: 713ms\tremaining: 214ms\n",
      "769:\tlearn: 0.0814375\ttotal: 713ms\tremaining: 213ms\n",
      "770:\tlearn: 0.0813146\ttotal: 714ms\tremaining: 212ms\n",
      "771:\tlearn: 0.0812315\ttotal: 715ms\tremaining: 211ms\n",
      "772:\tlearn: 0.0812086\ttotal: 716ms\tremaining: 210ms\n",
      "773:\tlearn: 0.0810031\ttotal: 717ms\tremaining: 209ms\n",
      "774:\tlearn: 0.0808351\ttotal: 717ms\tremaining: 208ms\n",
      "775:\tlearn: 0.0807118\ttotal: 718ms\tremaining: 207ms\n",
      "776:\tlearn: 0.0805552\ttotal: 719ms\tremaining: 206ms\n",
      "777:\tlearn: 0.0805313\ttotal: 720ms\tremaining: 205ms\n",
      "778:\tlearn: 0.0804562\ttotal: 721ms\tremaining: 204ms\n",
      "779:\tlearn: 0.0803275\ttotal: 722ms\tremaining: 204ms\n",
      "780:\tlearn: 0.0801753\ttotal: 723ms\tremaining: 203ms\n",
      "781:\tlearn: 0.0800455\ttotal: 724ms\tremaining: 202ms\n",
      "782:\tlearn: 0.0799128\ttotal: 724ms\tremaining: 201ms\n",
      "783:\tlearn: 0.0798983\ttotal: 725ms\tremaining: 200ms\n",
      "784:\tlearn: 0.0798825\ttotal: 726ms\tremaining: 199ms\n",
      "785:\tlearn: 0.0798662\ttotal: 727ms\tremaining: 198ms\n",
      "786:\tlearn: 0.0797164\ttotal: 728ms\tremaining: 197ms\n",
      "787:\tlearn: 0.0796310\ttotal: 728ms\tremaining: 196ms\n",
      "788:\tlearn: 0.0795141\ttotal: 729ms\tremaining: 195ms\n",
      "789:\tlearn: 0.0794967\ttotal: 730ms\tremaining: 194ms\n",
      "790:\tlearn: 0.0793592\ttotal: 731ms\tremaining: 193ms\n"
     ]
    },
    {
     "name": "stdout",
     "output_type": "stream",
     "text": [
      "791:\tlearn: 0.0793484\ttotal: 732ms\tremaining: 192ms\n",
      "792:\tlearn: 0.0792531\ttotal: 733ms\tremaining: 191ms\n",
      "793:\tlearn: 0.0792364\ttotal: 734ms\tremaining: 190ms\n",
      "794:\tlearn: 0.0792253\ttotal: 735ms\tremaining: 189ms\n",
      "795:\tlearn: 0.0791281\ttotal: 735ms\tremaining: 188ms\n",
      "796:\tlearn: 0.0790218\ttotal: 736ms\tremaining: 188ms\n",
      "797:\tlearn: 0.0788801\ttotal: 737ms\tremaining: 187ms\n",
      "798:\tlearn: 0.0787936\ttotal: 738ms\tremaining: 186ms\n",
      "799:\tlearn: 0.0786901\ttotal: 739ms\tremaining: 185ms\n",
      "800:\tlearn: 0.0785916\ttotal: 740ms\tremaining: 184ms\n",
      "801:\tlearn: 0.0784340\ttotal: 741ms\tremaining: 183ms\n",
      "802:\tlearn: 0.0783984\ttotal: 742ms\tremaining: 182ms\n",
      "803:\tlearn: 0.0782351\ttotal: 742ms\tremaining: 181ms\n",
      "804:\tlearn: 0.0780810\ttotal: 743ms\tremaining: 180ms\n",
      "805:\tlearn: 0.0779839\ttotal: 744ms\tremaining: 179ms\n",
      "806:\tlearn: 0.0779557\ttotal: 745ms\tremaining: 178ms\n",
      "807:\tlearn: 0.0778672\ttotal: 746ms\tremaining: 177ms\n",
      "808:\tlearn: 0.0777347\ttotal: 747ms\tremaining: 176ms\n",
      "809:\tlearn: 0.0776639\ttotal: 748ms\tremaining: 175ms\n",
      "810:\tlearn: 0.0774796\ttotal: 749ms\tremaining: 175ms\n",
      "811:\tlearn: 0.0773395\ttotal: 750ms\tremaining: 174ms\n",
      "812:\tlearn: 0.0773054\ttotal: 750ms\tremaining: 173ms\n",
      "813:\tlearn: 0.0772058\ttotal: 751ms\tremaining: 172ms\n",
      "814:\tlearn: 0.0770777\ttotal: 752ms\tremaining: 171ms\n",
      "815:\tlearn: 0.0768613\ttotal: 753ms\tremaining: 170ms\n",
      "816:\tlearn: 0.0767115\ttotal: 754ms\tremaining: 169ms\n",
      "817:\tlearn: 0.0766535\ttotal: 754ms\tremaining: 168ms\n",
      "818:\tlearn: 0.0765660\ttotal: 755ms\tremaining: 167ms\n",
      "819:\tlearn: 0.0763949\ttotal: 757ms\tremaining: 166ms\n",
      "820:\tlearn: 0.0762310\ttotal: 758ms\tremaining: 165ms\n",
      "821:\tlearn: 0.0761140\ttotal: 759ms\tremaining: 164ms\n",
      "822:\tlearn: 0.0761049\ttotal: 759ms\tremaining: 163ms\n",
      "823:\tlearn: 0.0759349\ttotal: 760ms\tremaining: 162ms\n",
      "824:\tlearn: 0.0759212\ttotal: 761ms\tremaining: 161ms\n",
      "825:\tlearn: 0.0757611\ttotal: 762ms\tremaining: 160ms\n",
      "826:\tlearn: 0.0756489\ttotal: 762ms\tremaining: 159ms\n",
      "827:\tlearn: 0.0756367\ttotal: 763ms\tremaining: 159ms\n",
      "828:\tlearn: 0.0754615\ttotal: 764ms\tremaining: 158ms\n",
      "829:\tlearn: 0.0753905\ttotal: 765ms\tremaining: 157ms\n",
      "830:\tlearn: 0.0752428\ttotal: 766ms\tremaining: 156ms\n",
      "831:\tlearn: 0.0750365\ttotal: 767ms\tremaining: 155ms\n",
      "832:\tlearn: 0.0749650\ttotal: 767ms\tremaining: 154ms\n",
      "833:\tlearn: 0.0748702\ttotal: 768ms\tremaining: 153ms\n",
      "834:\tlearn: 0.0746890\ttotal: 769ms\tremaining: 152ms\n",
      "835:\tlearn: 0.0746394\ttotal: 770ms\tremaining: 151ms\n",
      "836:\tlearn: 0.0745598\ttotal: 771ms\tremaining: 150ms\n",
      "837:\tlearn: 0.0744298\ttotal: 771ms\tremaining: 149ms\n",
      "838:\tlearn: 0.0744050\ttotal: 772ms\tremaining: 148ms\n",
      "839:\tlearn: 0.0743135\ttotal: 773ms\tremaining: 147ms\n",
      "840:\tlearn: 0.0742950\ttotal: 774ms\tremaining: 146ms\n",
      "841:\tlearn: 0.0742858\ttotal: 775ms\tremaining: 145ms\n",
      "842:\tlearn: 0.0741711\ttotal: 776ms\tremaining: 144ms\n",
      "843:\tlearn: 0.0740862\ttotal: 776ms\tremaining: 144ms\n",
      "844:\tlearn: 0.0739082\ttotal: 777ms\tremaining: 143ms\n",
      "845:\tlearn: 0.0737872\ttotal: 778ms\tremaining: 142ms\n",
      "846:\tlearn: 0.0736470\ttotal: 779ms\tremaining: 141ms\n",
      "847:\tlearn: 0.0734860\ttotal: 780ms\tremaining: 140ms\n",
      "848:\tlearn: 0.0733808\ttotal: 781ms\tremaining: 139ms\n",
      "849:\tlearn: 0.0733665\ttotal: 781ms\tremaining: 138ms\n",
      "850:\tlearn: 0.0732346\ttotal: 782ms\tremaining: 137ms\n",
      "851:\tlearn: 0.0731176\ttotal: 783ms\tremaining: 136ms\n",
      "852:\tlearn: 0.0731067\ttotal: 784ms\tremaining: 135ms\n",
      "853:\tlearn: 0.0729817\ttotal: 785ms\tremaining: 134ms\n",
      "854:\tlearn: 0.0728453\ttotal: 785ms\tremaining: 133ms\n",
      "855:\tlearn: 0.0727438\ttotal: 786ms\tremaining: 132ms\n",
      "856:\tlearn: 0.0726141\ttotal: 787ms\tremaining: 131ms\n",
      "857:\tlearn: 0.0724706\ttotal: 788ms\tremaining: 130ms\n",
      "858:\tlearn: 0.0724015\ttotal: 789ms\tremaining: 129ms\n",
      "859:\tlearn: 0.0723128\ttotal: 790ms\tremaining: 129ms\n",
      "860:\tlearn: 0.0723021\ttotal: 791ms\tremaining: 128ms\n",
      "861:\tlearn: 0.0721795\ttotal: 791ms\tremaining: 127ms\n",
      "862:\tlearn: 0.0721632\ttotal: 792ms\tremaining: 126ms\n",
      "863:\tlearn: 0.0721510\ttotal: 793ms\tremaining: 125ms\n",
      "864:\tlearn: 0.0720213\ttotal: 794ms\tremaining: 124ms\n",
      "865:\tlearn: 0.0720114\ttotal: 795ms\tremaining: 123ms\n",
      "866:\tlearn: 0.0720020\ttotal: 796ms\tremaining: 122ms\n",
      "867:\tlearn: 0.0719018\ttotal: 796ms\tremaining: 121ms\n",
      "868:\tlearn: 0.0718919\ttotal: 797ms\tremaining: 120ms\n",
      "869:\tlearn: 0.0718292\ttotal: 798ms\tremaining: 119ms\n",
      "870:\tlearn: 0.0717326\ttotal: 799ms\tremaining: 118ms\n",
      "871:\tlearn: 0.0715994\ttotal: 800ms\tremaining: 117ms\n",
      "872:\tlearn: 0.0714908\ttotal: 800ms\tremaining: 116ms\n",
      "873:\tlearn: 0.0713407\ttotal: 801ms\tremaining: 116ms\n",
      "874:\tlearn: 0.0712618\ttotal: 802ms\tremaining: 115ms\n",
      "875:\tlearn: 0.0711555\ttotal: 803ms\tremaining: 114ms\n",
      "876:\tlearn: 0.0711000\ttotal: 804ms\tremaining: 113ms\n",
      "877:\tlearn: 0.0709089\ttotal: 805ms\tremaining: 112ms\n",
      "878:\tlearn: 0.0708303\ttotal: 806ms\tremaining: 111ms\n",
      "879:\tlearn: 0.0707175\ttotal: 806ms\tremaining: 110ms\n",
      "880:\tlearn: 0.0706611\ttotal: 807ms\tremaining: 109ms\n",
      "881:\tlearn: 0.0705534\ttotal: 808ms\tremaining: 108ms\n",
      "882:\tlearn: 0.0704491\ttotal: 809ms\tremaining: 107ms\n",
      "883:\tlearn: 0.0704343\ttotal: 810ms\tremaining: 106ms\n",
      "884:\tlearn: 0.0702846\ttotal: 811ms\tremaining: 105ms\n",
      "885:\tlearn: 0.0702445\ttotal: 812ms\tremaining: 104ms\n",
      "886:\tlearn: 0.0701717\ttotal: 812ms\tremaining: 103ms\n",
      "887:\tlearn: 0.0700386\ttotal: 813ms\tremaining: 103ms\n",
      "888:\tlearn: 0.0699296\ttotal: 814ms\tremaining: 102ms\n",
      "889:\tlearn: 0.0698122\ttotal: 815ms\tremaining: 101ms\n",
      "890:\tlearn: 0.0697160\ttotal: 816ms\tremaining: 99.8ms\n",
      "891:\tlearn: 0.0697036\ttotal: 816ms\tremaining: 98.8ms\n",
      "892:\tlearn: 0.0695919\ttotal: 817ms\tremaining: 97.9ms\n",
      "893:\tlearn: 0.0694677\ttotal: 818ms\tremaining: 97ms\n",
      "894:\tlearn: 0.0694594\ttotal: 819ms\tremaining: 96ms\n",
      "895:\tlearn: 0.0693450\ttotal: 819ms\tremaining: 95.1ms\n",
      "896:\tlearn: 0.0693362\ttotal: 820ms\tremaining: 94.2ms\n",
      "897:\tlearn: 0.0691898\ttotal: 821ms\tremaining: 93.3ms\n",
      "898:\tlearn: 0.0691847\ttotal: 822ms\tremaining: 92.3ms\n",
      "899:\tlearn: 0.0690736\ttotal: 823ms\tremaining: 91.4ms\n",
      "900:\tlearn: 0.0690137\ttotal: 823ms\tremaining: 90.5ms\n",
      "901:\tlearn: 0.0689212\ttotal: 824ms\tremaining: 89.5ms\n",
      "902:\tlearn: 0.0688890\ttotal: 825ms\tremaining: 88.6ms\n",
      "903:\tlearn: 0.0688161\ttotal: 826ms\tremaining: 87.7ms\n",
      "904:\tlearn: 0.0686895\ttotal: 827ms\tremaining: 86.8ms\n",
      "905:\tlearn: 0.0685767\ttotal: 827ms\tremaining: 85.8ms\n",
      "906:\tlearn: 0.0683616\ttotal: 828ms\tremaining: 84.9ms\n",
      "907:\tlearn: 0.0683550\ttotal: 829ms\tremaining: 84ms\n",
      "908:\tlearn: 0.0682949\ttotal: 830ms\tremaining: 83.1ms\n",
      "909:\tlearn: 0.0682223\ttotal: 831ms\tremaining: 82.2ms\n",
      "910:\tlearn: 0.0681020\ttotal: 831ms\tremaining: 81.2ms\n",
      "911:\tlearn: 0.0680093\ttotal: 832ms\tremaining: 80.3ms\n",
      "912:\tlearn: 0.0678693\ttotal: 833ms\tremaining: 79.4ms\n",
      "913:\tlearn: 0.0678627\ttotal: 834ms\tremaining: 78.5ms\n",
      "914:\tlearn: 0.0677530\ttotal: 835ms\tremaining: 77.5ms\n",
      "915:\tlearn: 0.0676373\ttotal: 836ms\tremaining: 76.6ms\n"
     ]
    },
    {
     "name": "stdout",
     "output_type": "stream",
     "text": [
      "916:\tlearn: 0.0675632\ttotal: 837ms\tremaining: 75.7ms\n",
      "917:\tlearn: 0.0674946\ttotal: 838ms\tremaining: 74.8ms\n",
      "918:\tlearn: 0.0674024\ttotal: 838ms\tremaining: 73.9ms\n",
      "919:\tlearn: 0.0672400\ttotal: 839ms\tremaining: 73ms\n",
      "920:\tlearn: 0.0671652\ttotal: 840ms\tremaining: 72.1ms\n",
      "921:\tlearn: 0.0670738\ttotal: 842ms\tremaining: 71.2ms\n",
      "922:\tlearn: 0.0670591\ttotal: 842ms\tremaining: 70.3ms\n",
      "923:\tlearn: 0.0670460\ttotal: 843ms\tremaining: 69.4ms\n",
      "924:\tlearn: 0.0670378\ttotal: 844ms\tremaining: 68.4ms\n",
      "925:\tlearn: 0.0668950\ttotal: 845ms\tremaining: 67.5ms\n",
      "926:\tlearn: 0.0668113\ttotal: 846ms\tremaining: 66.6ms\n",
      "927:\tlearn: 0.0667037\ttotal: 847ms\tremaining: 65.7ms\n",
      "928:\tlearn: 0.0665788\ttotal: 848ms\tremaining: 64.8ms\n",
      "929:\tlearn: 0.0664112\ttotal: 848ms\tremaining: 63.9ms\n",
      "930:\tlearn: 0.0662825\ttotal: 849ms\tremaining: 62.9ms\n",
      "931:\tlearn: 0.0661094\ttotal: 850ms\tremaining: 62ms\n",
      "932:\tlearn: 0.0659946\ttotal: 851ms\tremaining: 61.1ms\n",
      "933:\tlearn: 0.0658660\ttotal: 852ms\tremaining: 60.2ms\n",
      "934:\tlearn: 0.0657976\ttotal: 852ms\tremaining: 59.3ms\n",
      "935:\tlearn: 0.0656841\ttotal: 853ms\tremaining: 58.3ms\n",
      "936:\tlearn: 0.0655694\ttotal: 854ms\tremaining: 57.4ms\n",
      "937:\tlearn: 0.0654467\ttotal: 855ms\tremaining: 56.5ms\n",
      "938:\tlearn: 0.0653404\ttotal: 856ms\tremaining: 55.6ms\n",
      "939:\tlearn: 0.0652391\ttotal: 856ms\tremaining: 54.7ms\n",
      "940:\tlearn: 0.0651234\ttotal: 857ms\tremaining: 53.8ms\n",
      "941:\tlearn: 0.0650767\ttotal: 858ms\tremaining: 52.8ms\n",
      "942:\tlearn: 0.0649745\ttotal: 859ms\tremaining: 51.9ms\n",
      "943:\tlearn: 0.0649117\ttotal: 860ms\tremaining: 51ms\n",
      "944:\tlearn: 0.0648262\ttotal: 861ms\tremaining: 50.1ms\n",
      "945:\tlearn: 0.0647759\ttotal: 862ms\tremaining: 49.2ms\n",
      "946:\tlearn: 0.0646569\ttotal: 862ms\tremaining: 48.3ms\n",
      "947:\tlearn: 0.0646455\ttotal: 863ms\tremaining: 47.3ms\n",
      "948:\tlearn: 0.0645607\ttotal: 864ms\tremaining: 46.4ms\n",
      "949:\tlearn: 0.0645479\ttotal: 865ms\tremaining: 45.5ms\n",
      "950:\tlearn: 0.0645382\ttotal: 866ms\tremaining: 44.6ms\n",
      "951:\tlearn: 0.0645290\ttotal: 866ms\tremaining: 43.7ms\n",
      "952:\tlearn: 0.0644859\ttotal: 867ms\tremaining: 42.8ms\n",
      "953:\tlearn: 0.0644068\ttotal: 868ms\tremaining: 41.8ms\n",
      "954:\tlearn: 0.0643069\ttotal: 869ms\tremaining: 40.9ms\n",
      "955:\tlearn: 0.0641681\ttotal: 870ms\tremaining: 40ms\n",
      "956:\tlearn: 0.0640634\ttotal: 871ms\tremaining: 39.1ms\n",
      "957:\tlearn: 0.0640561\ttotal: 871ms\tremaining: 38.2ms\n",
      "958:\tlearn: 0.0639695\ttotal: 872ms\tremaining: 37.3ms\n",
      "959:\tlearn: 0.0639629\ttotal: 873ms\tremaining: 36.4ms\n",
      "960:\tlearn: 0.0637676\ttotal: 874ms\tremaining: 35.5ms\n",
      "961:\tlearn: 0.0636536\ttotal: 875ms\tremaining: 34.6ms\n",
      "962:\tlearn: 0.0635619\ttotal: 876ms\tremaining: 33.6ms\n",
      "963:\tlearn: 0.0635027\ttotal: 876ms\tremaining: 32.7ms\n",
      "964:\tlearn: 0.0633958\ttotal: 877ms\tremaining: 31.8ms\n",
      "965:\tlearn: 0.0633698\ttotal: 878ms\tremaining: 30.9ms\n",
      "966:\tlearn: 0.0632630\ttotal: 879ms\tremaining: 30ms\n",
      "967:\tlearn: 0.0631904\ttotal: 880ms\tremaining: 29.1ms\n",
      "968:\tlearn: 0.0630997\ttotal: 880ms\tremaining: 28.2ms\n",
      "969:\tlearn: 0.0630898\ttotal: 881ms\tremaining: 27.2ms\n",
      "970:\tlearn: 0.0630832\ttotal: 882ms\tremaining: 26.3ms\n",
      "971:\tlearn: 0.0630047\ttotal: 883ms\tremaining: 25.4ms\n",
      "972:\tlearn: 0.0628983\ttotal: 883ms\tremaining: 24.5ms\n",
      "973:\tlearn: 0.0628326\ttotal: 884ms\tremaining: 23.6ms\n",
      "974:\tlearn: 0.0628218\ttotal: 885ms\tremaining: 22.7ms\n",
      "975:\tlearn: 0.0626986\ttotal: 886ms\tremaining: 21.8ms\n",
      "976:\tlearn: 0.0626111\ttotal: 887ms\tremaining: 20.9ms\n",
      "977:\tlearn: 0.0625600\ttotal: 888ms\tremaining: 20ms\n",
      "978:\tlearn: 0.0624649\ttotal: 889ms\tremaining: 19.1ms\n",
      "979:\tlearn: 0.0623947\ttotal: 890ms\tremaining: 18.2ms\n",
      "980:\tlearn: 0.0622796\ttotal: 891ms\tremaining: 17.3ms\n",
      "981:\tlearn: 0.0621733\ttotal: 892ms\tremaining: 16.3ms\n",
      "982:\tlearn: 0.0621679\ttotal: 893ms\tremaining: 15.4ms\n",
      "983:\tlearn: 0.0620676\ttotal: 893ms\tremaining: 14.5ms\n",
      "984:\tlearn: 0.0620141\ttotal: 894ms\tremaining: 13.6ms\n",
      "985:\tlearn: 0.0618937\ttotal: 895ms\tremaining: 12.7ms\n",
      "986:\tlearn: 0.0617939\ttotal: 896ms\tremaining: 11.8ms\n",
      "987:\tlearn: 0.0617869\ttotal: 897ms\tremaining: 10.9ms\n",
      "988:\tlearn: 0.0616806\ttotal: 898ms\tremaining: 9.98ms\n",
      "989:\tlearn: 0.0616737\ttotal: 898ms\tremaining: 9.07ms\n",
      "990:\tlearn: 0.0615686\ttotal: 899ms\tremaining: 8.17ms\n",
      "991:\tlearn: 0.0615013\ttotal: 900ms\tremaining: 7.26ms\n",
      "992:\tlearn: 0.0613763\ttotal: 901ms\tremaining: 6.35ms\n",
      "993:\tlearn: 0.0613241\ttotal: 902ms\tremaining: 5.44ms\n",
      "994:\tlearn: 0.0613120\ttotal: 903ms\tremaining: 4.54ms\n",
      "995:\tlearn: 0.0612368\ttotal: 904ms\tremaining: 3.63ms\n",
      "996:\tlearn: 0.0611728\ttotal: 904ms\tremaining: 2.72ms\n",
      "997:\tlearn: 0.0611608\ttotal: 905ms\tremaining: 1.81ms\n",
      "998:\tlearn: 0.0611559\ttotal: 906ms\tremaining: 906us\n",
      "999:\tlearn: 0.0610381\ttotal: 907ms\tremaining: 0us\n"
     ]
    },
    {
     "data": {
      "text/plain": [
       "<catboost.core.CatBoostRegressor at 0x7fb5c3820c40>"
      ]
     },
     "execution_count": 9,
     "metadata": {},
     "output_type": "execute_result"
    }
   ],
   "source": [
    "#Train the Model \n",
    "prior_model = ctb.CatBoostRegressor()\n",
    "prior_model.fit(X_train,Y_train)"
   ]
  },
  {
   "cell_type": "code",
   "execution_count": 10,
   "id": "af65dcda",
   "metadata": {
    "execution": {
     "iopub.execute_input": "2022-06-12T08:36:08.208816Z",
     "iopub.status.busy": "2022-06-12T08:36:08.208440Z",
     "iopub.status.idle": "2022-06-12T08:36:08.215894Z",
     "shell.execute_reply": "2022-06-12T08:36:08.216296Z"
    },
    "id": "af65dcda",
    "papermill": {
     "duration": 0.021074,
     "end_time": "2022-06-12T08:36:08.216409",
     "exception": false,
     "start_time": "2022-06-12T08:36:08.195335",
     "status": "completed"
    },
    "tags": []
   },
   "outputs": [
    {
     "data": {
      "application/scrapbook.scrap.json+json": {
       "data": 0.07332391968979515,
       "encoder": "json",
       "name": "Prior Model MSE",
       "version": 1
      }
     },
     "metadata": {
      "scrapbook": {
       "data": true,
       "display": false,
       "name": "Prior Model MSE"
      }
     },
     "output_type": "display_data"
    },
    {
     "data": {
      "application/scrapbook.scrap.json+json": {
       "data": 0.09813239574944008,
       "encoder": "json",
       "name": "ABC Pre-generator MSE",
       "version": 1
      }
     },
     "metadata": {
      "scrapbook": {
       "data": true,
       "display": false,
       "name": "ABC Pre-generator MSE"
      }
     },
     "output_type": "display_data"
    },
    {
     "data": {
      "application/scrapbook.scrap.json+json": {
       "data": 0.18474474869966875,
       "encoder": "json",
       "name": "Prior Model MSE",
       "version": 1
      }
     },
     "metadata": {
      "scrapbook": {
       "data": true,
       "display": false,
       "name": "Prior Model MSE"
      }
     },
     "output_type": "display_data"
    },
    {
     "data": {
      "application/scrapbook.scrap.json+json": {
       "data": 0.22818636396972405,
       "encoder": "json",
       "name": "ABC Pre-generator MSE",
       "version": 1
      }
     },
     "metadata": {
      "scrapbook": {
       "data": true,
       "display": false,
       "name": "ABC Pre-generator MSE"
      }
     },
     "output_type": "display_data"
    }
   ],
   "source": [
    "y_pred = prior_model.predict(X_test)\n",
    "y_abc = y_pred + np.random.normal(0,variance, y_pred.shape) + bias \n",
    "mse = mean_squared_error(y_pred,Y_test)\n",
    "sb.glue(\"Prior Model MSE\",mse)\n",
    "mse = mean_squared_error(y_abc,Y_test)\n",
    "sb.glue(\"ABC Pre-generator MSE\",mse)\n",
    "mae = mean_absolute_error(y_pred,Y_test)\n",
    "sb.glue(\"Prior Model MSE\",mae)\n",
    "mae = mean_absolute_error(y_abc,Y_test)\n",
    "sb.glue(\"ABC Pre-generator MSE\",mae)"
   ]
  },
  {
   "cell_type": "markdown",
   "id": "25609da2",
   "metadata": {
    "papermill": {
     "duration": 0.009947,
     "end_time": "2022-06-12T08:36:08.236598",
     "exception": false,
     "start_time": "2022-06-12T08:36:08.226651",
     "status": "completed"
    },
    "tags": []
   },
   "source": [
    "# ABC GAN Model"
   ]
  },
  {
   "cell_type": "code",
   "execution_count": 11,
   "id": "dfc3464d",
   "metadata": {
    "execution": {
     "iopub.execute_input": "2022-06-12T08:36:08.267818Z",
     "iopub.status.busy": "2022-06-12T08:36:08.267444Z",
     "iopub.status.idle": "2022-06-12T08:36:08.269858Z",
     "shell.execute_reply": "2022-06-12T08:36:08.270107Z"
    },
    "papermill": {
     "duration": 0.015658,
     "end_time": "2022-06-12T08:36:08.270217",
     "exception": false,
     "start_time": "2022-06-12T08:36:08.254559",
     "status": "completed"
    },
    "tags": []
   },
   "outputs": [],
   "source": [
    "gen = network.Generator(n_features+1).to(device)\n",
    "disc = network.Discriminator(n_features+1).to(device)\n",
    "\n",
    "criterion = torch.nn.BCELoss()\n",
    "gen_opt = torch.optim.Adam(gen.parameters(), lr=0.001, betas=(0.5, 0.999))\n",
    "disc_opt = torch.optim.Adam(disc.parameters(), lr=0.001, betas=(0.5, 0.999))"
   ]
  },
  {
   "cell_type": "code",
   "execution_count": 12,
   "id": "b75fdd85",
   "metadata": {
    "execution": {
     "iopub.execute_input": "2022-06-12T08:36:08.293068Z",
     "iopub.status.busy": "2022-06-12T08:36:08.292673Z",
     "iopub.status.idle": "2022-06-12T08:37:08.621473Z",
     "shell.execute_reply": "2022-06-12T08:37:08.621768Z"
    },
    "papermill": {
     "duration": 60.34161,
     "end_time": "2022-06-12T08:37:08.621899",
     "exception": false,
     "start_time": "2022-06-12T08:36:08.280289",
     "status": "completed"
    },
    "tags": []
   },
   "outputs": [
    {
     "data": {
      "image/png": "[encoded data removed]",
      "text/plain": [
       "<Figure size 432x288 with 1 Axes>"
      ]
     },
     "metadata": {
      "needs_background": "light"
     },
     "output_type": "display_data"
    },
    {
     "data": {
      "image/png": "[encoded data removed]",
      "text/plain": [
       "<Figure size 432x288 with 1 Axes>"
      ]
     },
     "metadata": {
      "needs_background": "light"
     },
     "output_type": "display_data"
    }
   ],
   "source": [
    "#Training the ABC_GAN \n",
    "ABC_train_test2.training_GAN(disc,gen,disc_opt,gen_opt,train_data,batch_size,n_epochs,criterion,prior_model,variance,bias,device)"
   ]
  },
  {
   "cell_type": "code",
   "execution_count": 13,
   "id": "1fa7c368",
   "metadata": {
    "execution": {
     "iopub.execute_input": "2022-06-12T08:37:08.646460Z",
     "iopub.status.busy": "2022-06-12T08:37:08.646053Z",
     "iopub.status.idle": "2022-06-12T08:37:08.950889Z",
     "shell.execute_reply": "2022-06-12T08:37:08.951149Z"
    },
    "papermill": {
     "duration": 0.318363,
     "end_time": "2022-06-12T08:37:08.951276",
     "exception": false,
     "start_time": "2022-06-12T08:37:08.632913",
     "status": "completed"
    },
    "tags": []
   },
   "outputs": [
    {
     "data": {
      "application/scrapbook.scrap.json+json": {
       "data": 0.07890816195287084,
       "encoder": "json",
       "name": "ABC-GAN Model 1 MSE",
       "version": 1
      }
     },
     "metadata": {
      "scrapbook": {
       "data": true,
       "display": false,
       "name": "ABC-GAN Model 1 MSE"
      }
     },
     "output_type": "display_data"
    },
    {
     "data": {
      "application/scrapbook.scrap.json+json": {
       "data": 0.19006589394902773,
       "encoder": "json",
       "name": "ABC-GAN Model 1 MAE",
       "version": 1
      }
     },
     "metadata": {
      "scrapbook": {
       "data": true,
       "display": false,
       "name": "ABC-GAN Model 1 MAE"
      }
     },
     "output_type": "display_data"
    },
    {
     "data": {
      "application/scrapbook.scrap.json+json": {
       "data": 19.38672118280083,
       "encoder": "json",
       "name": "ABC-GAN Model 1 Manhattan Distance",
       "version": 1
      }
     },
     "metadata": {
      "scrapbook": {
       "data": true,
       "display": false,
       "name": "ABC-GAN Model 1 Manhattan Distance"
      }
     },
     "output_type": "display_data"
    },
    {
     "data": {
      "application/scrapbook.scrap.json+json": {
       "data": 2.835631900102,
       "encoder": "json",
       "name": "ABC-GAN Model 1 Euclidean distance",
       "version": 1
      }
     },
     "metadata": {
      "scrapbook": {
       "data": true,
       "display": false,
       "name": "ABC-GAN Model 1 Euclidean distance"
      }
     },
     "output_type": "display_data"
    },
    {
     "data": {
      "application/scrapbook.scrap.json+json": {
       "data": [
        [
         0.08045144574272642,
         0.06939741237622056,
         0.08365768356635794,
         0.07608107413157385,
         0.07303147920498156,
         0.08641998365218696,
         0.082923813880945,
         0.08042789273004555,
         0.08722496627050363,
         0.07066042095517341,
         0.0742723031899252,
         0.07228372792258207,
         0.07344658743603621,
         0.07393886129988572,
         0.07512119659058558,
         0.07866203837152903,
         0.07579479188598412,
         0.0738596264904899,
         0.07640154968147962,
         0.07174791097847506,
         0.07646638206752168,
         0.08301274501318778,
         0.07811895584767782,
         0.08624802220673401,
         0.08753595555658544,
         0.07472091435570402,
         0.08062872944117547,
         0.0796903585400283,
         0.08473850944673432,
         0.07859474337239337,
         0.07424817877801962,
         0.08551754346538895,
         0.08561893193746765,
         0.08703010415456189,
         0.0808291392193904,
         0.07756556095142429,
         0.07952326346237071,
         0.08231866083959512,
         0.07673650122274157,
         0.08209930684896358,
         0.06656432791248536,
         0.07403463324307111,
         0.07221284788328985,
         0.07969265577164496,
         0.08196900904566251,
         0.0782631449991121,
         0.07492055316732815,
         0.07513632088429135,
         0.08043915166470378,
         0.08298743198216954,
         0.08238739521166621,
         0.08442226403469641,
         0.08110406221110444,
         0.08231021163505112,
         0.07977263621801767,
         0.0790694432720534,
         0.07508503298478392,
         0.07731942302887303,
         0.084451440375047,
         0.07506685466047454,
         0.08590114206242383,
         0.07437193436474072,
         0.0782818737236792,
         0.08506958581559747,
         0.08151717988991238,
         0.08064995503181685,
         0.08229518548649055,
         0.08006738561384533,
         0.07933923205633604,
         0.07856163092882622,
         0.09066197545038993,
         0.08169927202343115,
         0.08133247228469287,
         0.07492090404173721,
         0.07957334612458092,
         0.07733895391299168,
         0.07910838223289648,
         0.07263690625765455,
         0.07879484858636034,
         0.07822392415745807,
         0.08066556107286785,
         0.07393917423796163,
         0.07450070589101539,
         0.07641615998194666,
         0.07643767974079348,
         0.09099362069575788,
         0.08939306423736575,
         0.07874791090315554,
         0.07514388758296685,
         0.07296975376733507,
         0.07542634762788362,
         0.08400049909789974,
         0.07999787481585631,
         0.08461561383561014,
         0.0747665336815968,
         0.07235628163542783,
         0.07720073977275077,
         0.08521267153543788,
         0.06816538330081756,
         0.07526452855589552
        ],
        [
         0.19524440971002274,
         0.17933558999542512,
         0.196275721413686,
         0.1839775431937739,
         0.1795057852149886,
         0.1947534185669878,
         0.19077791585860884,
         0.192014271849949,
         0.2000126575174577,
         0.1849623518064618,
         0.180304826858143,
         0.18038373453286932,
         0.1869345322506977,
         0.1857396074771589,
         0.1894079200448651,
         0.18847934929106167,
         0.18709454683623478,
         0.18573825979860975,
         0.1935211939591111,
         0.17839132386314518,
         0.19439682158111943,
         0.19980145682233805,
         0.18914783605392657,
         0.19212904680228116,
         0.19372069348088083,
         0.18134375272647424,
         0.19013965453076012,
         0.19221427680595832,
         0.1985250256919101,
         0.18637823917921267,
         0.18584020901471376,
         0.19566432779253112,
         0.19633336984278524,
         0.19565779947694026,
         0.1945064246617988,
         0.19290121624647988,
         0.18627335823268867,
         0.19590479747264408,
         0.18724158871918917,
         0.1885744219499768,
         0.17767925379688249,
         0.18821394280987044,
         0.18218114174098946,
         0.19414986259139635,
         0.18981539722824214,
         0.19629850090645692,
         0.18490235677317662,
         0.18033386728561976,
         0.19348629576829718,
         0.19042364856703023,
         0.1974240067214066,
         0.19272936922589354,
         0.1949537032484716,
         0.19158884884753064,
         0.1886919953257722,
         0.18845025543123484,
         0.1854511704478486,
         0.18942223385195522,
         0.19974378925547295,
         0.18550375763180793,
         0.19917817565375098,
         0.1893621352775132,
         0.17965650498209632,
         0.19297587891638862,
         0.19360930101909474,
         0.18974610580606202,
         0.1969900148938976,
         0.19103092260147428,
         0.1944555269700347,
         0.19102103177311958,
         0.20619104873827276,
         0.1929829783701137,
         0.19522892174256198,
         0.1915390198392903,
         0.19292160202109931,
         0.19102390700330338,
         0.19757154041572528,
         0.17931570118183598,
         0.18868296956826075,
         0.1986875739131196,
         0.18715776282125243,
         0.18900997507586784,
         0.1849349062049798,
         0.18130338321640796,
         0.1852507014375399,
         0.20291326251611405,
         0.20111299267805674,
         0.19145453266580315,
         0.18851258092578135,
         0.18017466262202053,
         0.18550484888620822,
         0.19245524300883213,
         0.1944176934330779,
         0.19658575522914237,
         0.1864455150732515,
         0.19077233464329266,
         0.18612138443060366,
         0.19099706007788578,
         0.17362543862020852,
         0.18467582607020935
        ],
        [
         19.91492979042232,
         18.292230179533362,
         20.02012358419597,
         18.765709405764937,
         18.30959009192884,
         19.864848693832755,
         19.4593474175781,
         19.585455728694797,
         20.401291066780686,
         18.866159884259105,
         18.391092339530587,
         18.39914092235267,
         19.067322289571166,
         18.945439962670207,
         19.31960784457624,
         19.22489362768829,
         19.083643777295947,
         18.945302499458194,
         19.73916178382933,
         18.19591503404081,
         19.82847580127418,
         20.379748595878482,
         19.29307927750051,
         19.59716277383268,
         19.759510735049844,
         18.49706277810037,
         19.394244762137532,
         19.60585623420775,
         20.249552620574832,
         19.010580396279693,
         18.955701319500804,
         19.957761434838176,
         20.026003723964095,
         19.957095546647906,
         19.839655315503478,
         19.675924057140946,
         18.999882539734244,
         19.982289342209697,
         19.098642049357295,
         19.234591038897634,
         18.123283887282014,
         19.197822166606784,
         18.582476457580924,
         19.80328598432243,
         19.361170517280698,
         20.022447092458606,
         18.860040390864015,
         18.394054463133216,
         19.735602168366313,
         19.423212153837085,
         20.137248685583472,
         19.65839566104114,
         19.885277731344104,
         19.542062582448125,
         19.246583523228765,
         19.221926053985953,
         18.916019385680556,
         19.321067852899432,
         20.373866504058242,
         18.92138327844441,
         20.3161739166826,
         19.314937798306346,
         18.324963508173823,
         19.68353964947164,
         19.748148703947663,
         19.354102792218328,
         20.092981519177556,
         19.485154105350375,
         19.83446375094354,
         19.484145240858197,
         21.03148697130382,
         19.684263793751597,
         19.913350017741323,
         19.53698002360761,
         19.67800340615213,
         19.484438514336944,
         20.15229712240398,
         18.29020152054727,
         19.245662895962596,
         20.266132539138198,
         19.09009180776775,
         19.27901745773852,
         18.86336043290794,
         18.49294508807361,
         18.89557154662907,
         20.697152776643634,
         20.513525253161788,
         19.52836233191192,
         19.228283254429698,
         18.377815587446094,
         18.921494586393237,
         19.630434786900878,
         19.830604730173945,
         20.05174703337252,
         19.017442537471652,
         19.45877813361585,
         18.984381211921573,
         19.48170012794435,
         17.70979473926127,
         18.836934259161353
        ],
        [
         2.864619951364944,
         2.660551834182994,
         2.9211442490518174,
         2.7857260384719336,
         2.729324253163797,
         2.968979341882168,
         2.9083034600702153,
         2.86420059675726,
         2.9827749763586544,
         2.684653224799748,
         2.7524125645281394,
         2.715315865254606,
         2.7370699513303807,
         2.7462272033807293,
         2.7680971898110314,
         2.832583258069559,
         2.780479953599806,
         2.744755344658239,
         2.7915870159303506,
         2.7052332468392546,
         2.792771199165304,
         2.9098625382215486,
         2.8227882486051157,
         2.966023982554232,
         2.98808759355741,
         2.760712455921806,
         2.86777446864287,
         2.851037805972219,
         2.93995373493647,
         2.831371368080161,
         2.7519655221964534,
         2.953436884964646,
         2.9551871442637436,
         2.9794413274581046,
         2.8713363091734516,
         2.8127721587510917,
         2.8480472034644744,
         2.8976720666146303,
         2.7976996130248937,
         2.893808787496901,
         2.605678692216964,
         2.748005202104474,
         2.7139842453661305,
         2.851078899067471,
         2.891511529054929,
         2.8253921479875026,
         2.764398021824547,
         2.76837582892889,
         2.864401066505838,
         2.9094188529981877,
         2.8988815621873814,
         2.9344626307961454,
         2.876215281499744,
         2.897523353965454,
         2.8525092277217614,
         2.839909015047744,
         2.767430823787283,
         2.8083057434946515,
         2.934969662237549,
         2.7670958016245844,
         2.960053460727902,
         2.754258031703557,
         2.8257301923246807,
         2.945691387975146,
         2.883531229026497,
         2.8681519159984044,
         2.897258863067302,
         2.857774192026414,
         2.8447498430874854,
         2.830774868254322,
         3.040973774293322,
         2.8867500318506925,
         2.8802625180768975,
         2.7644044950508224,
         2.8489438928675392,
         2.808660410075442,
         2.8406082073660635,
         2.721941299565581,
         2.83497346650877,
         2.8246840998704124,
         2.86842940115885,
         2.746233014926462,
         2.7566414349500676,
         2.7918539213502123,
         2.7922470043964474,
         3.046530700808266,
         3.019617948054241,
         2.8341289512162047,
         2.768515221822451,
         2.7281706112829847,
         2.773713658264697,
         2.927123316156286,
         2.8565334290390063,
         2.9378210652169123,
         2.7615550755910827,
         2.7166782523540833,
         2.8061495784830455,
         2.948167650696728,
         2.636829364347149,
         2.7707367093791753
        ]
       ],
       "encoder": "json",
       "name": "ABC_GAN_1 Metrics",
       "version": 1
      }
     },
     "metadata": {
      "scrapbook": {
       "data": true,
       "display": false,
       "name": "ABC_GAN_1 Metrics"
      }
     },
     "output_type": "display_data"
    },
    {
     "name": "stdout",
     "output_type": "stream",
     "text": [
      "MSE\n",
      "0.07890816195287084\n"
     ]
    }
   ],
   "source": [
    "ABC_GAN1_metrics=ABC_train_test2.test_generator(gen,test_data,prior_model,variance,bias,\"1\",device)\n",
    "sb.glue(\"ABC_GAN_1 Metrics\",ABC_GAN1_metrics)\n",
    "\n",
    "print(\"MSE\")\n",
    "print(mean(ABC_GAN1_metrics[0]))"
   ]
  },
  {
   "cell_type": "code",
   "execution_count": 14,
   "id": "eb22ce5c",
   "metadata": {
    "execution": {
     "iopub.execute_input": "2022-06-12T08:37:08.979245Z",
     "iopub.status.busy": "2022-06-12T08:37:08.978867Z",
     "iopub.status.idle": "2022-06-12T08:37:09.295916Z",
     "shell.execute_reply": "2022-06-12T08:37:09.296219Z"
    },
    "papermill": {
     "duration": 0.332084,
     "end_time": "2022-06-12T08:37:09.296340",
     "exception": false,
     "start_time": "2022-06-12T08:37:08.964256",
     "status": "completed"
    },
    "tags": []
   },
   "outputs": [
    {
     "data": {
      "image/png": "[encoded data removed]",
      "text/plain": [
       "<Figure size 432x288 with 1 Axes>"
      ]
     },
     "metadata": {
      "needs_background": "light"
     },
     "output_type": "display_data"
    },
    {
     "data": {
      "image/png": "[encoded data removed]",
      "text/plain": [
       "<Figure size 432x288 with 1 Axes>"
      ]
     },
     "metadata": {
      "needs_background": "light"
     },
     "output_type": "display_data"
    },
    {
     "data": {
      "image/png": "[encoded data removed]",
      "text/plain": [
       "<Figure size 432x288 with 1 Axes>"
      ]
     },
     "metadata": {
      "needs_background": "light"
     },
     "output_type": "display_data"
    },
    {
     "data": {
      "image/png": "[encoded data removed]",
      "text/plain": [
       "<Figure size 432x288 with 1 Axes>"
      ]
     },
     "metadata": {
      "needs_background": "light"
     },
     "output_type": "display_data"
    }
   ],
   "source": [
    "sanityChecks.discProbVsError(train_data,disc,device)\n",
    "sanityChecks.discProbVsError(test_data,disc,device)"
   ]
  },
  {
   "cell_type": "markdown",
   "id": "130f3a4d",
   "metadata": {
    "id": "130f3a4d",
    "papermill": {
     "duration": 0.014613,
     "end_time": "2022-06-12T08:37:09.326181",
     "exception": false,
     "start_time": "2022-06-12T08:37:09.311568",
     "status": "completed"
    },
    "tags": []
   },
   "source": [
    "# ABC - GAN Model with skip connection"
   ]
  },
  {
   "cell_type": "code",
   "execution_count": 15,
   "id": "4e43dad1",
   "metadata": {
    "execution": {
     "iopub.execute_input": "2022-06-12T08:37:09.359006Z",
     "iopub.status.busy": "2022-06-12T08:37:09.358637Z",
     "iopub.status.idle": "2022-06-12T08:37:09.360912Z",
     "shell.execute_reply": "2022-06-12T08:37:09.361204Z"
    },
    "id": "4e43dad1",
    "papermill": {
     "duration": 0.02031,
     "end_time": "2022-06-12T08:37:09.361315",
     "exception": false,
     "start_time": "2022-06-12T08:37:09.341005",
     "status": "completed"
    },
    "tags": []
   },
   "outputs": [],
   "source": [
    "#Generator\n",
    "gen3 = network.GeneratorWithSkipConnection(n_features+1).to(device)\n",
    "constraints=network.weightConstraint()\n",
    "#Discriminator \n",
    "disc3 = network.Discriminator(n_features+1).to(device)\n",
    "\n",
    "criterion = torch.nn.BCELoss()\n",
    "gen_opt = torch.optim.Adam(gen3.parameters(), lr=0.001, betas=(0.5, 0.999))\n",
    "disc_opt = torch.optim.Adam(disc3.parameters(), lr=0.001, betas=(0.5, 0.999))\n"
   ]
  },
  {
   "cell_type": "code",
   "execution_count": 16,
   "id": "26acbc37",
   "metadata": {
    "execution": {
     "iopub.execute_input": "2022-06-12T08:37:09.393094Z",
     "iopub.status.busy": "2022-06-12T08:37:09.392732Z",
     "iopub.status.idle": "2022-06-12T08:40:03.592820Z",
     "shell.execute_reply": "2022-06-12T08:40:03.593190Z"
    },
    "id": "26acbc37",
    "papermill": {
     "duration": 174.21717,
     "end_time": "2022-06-12T08:40:03.593306",
     "exception": false,
     "start_time": "2022-06-12T08:37:09.376136",
     "status": "completed"
    },
    "tags": []
   },
   "outputs": [
    {
     "data": {
      "image/png": "[encoded data removed]",
      "text/plain": [
       "<Figure size 432x288 with 1 Axes>"
      ]
     },
     "metadata": {
      "needs_background": "light"
     },
     "output_type": "display_data"
    },
    {
     "data": {
      "image/png": "[encoded data removed]",
      "text/plain": [
       "<Figure size 432x288 with 1 Axes>"
      ]
     },
     "metadata": {
      "needs_background": "light"
     },
     "output_type": "display_data"
    }
   ],
   "source": [
    "ABC_train_test2.training_GAN_skip_connection(disc3,gen3,disc_opt,gen_opt,train_data,batch_size,n_epochs,criterion,prior_model,variance,bias,device)"
   ]
  },
  {
   "cell_type": "code",
   "execution_count": 17,
   "id": "c5e0717b",
   "metadata": {
    "execution": {
     "iopub.execute_input": "2022-06-12T08:40:03.627740Z",
     "iopub.status.busy": "2022-06-12T08:40:03.627372Z",
     "iopub.status.idle": "2022-06-12T08:40:04.457906Z",
     "shell.execute_reply": "2022-06-12T08:40:04.458199Z"
    },
    "id": "c5e0717b",
    "papermill": {
     "duration": 0.849207,
     "end_time": "2022-06-12T08:40:04.458320",
     "exception": false,
     "start_time": "2022-06-12T08:40:03.609113",
     "status": "completed"
    },
    "tags": []
   },
   "outputs": [
    {
     "data": {
      "application/scrapbook.scrap.json+json": {
       "data": 0.08003802629967406,
       "encoder": "json",
       "name": "ABC-GAN Model 3 MSE",
       "version": 1
      }
     },
     "metadata": {
      "scrapbook": {
       "data": true,
       "display": false,
       "name": "ABC-GAN Model 3 MSE"
      }
     },
     "output_type": "display_data"
    },
    {
     "data": {
      "application/scrapbook.scrap.json+json": {
       "data": 0.19762795548831277,
       "encoder": "json",
       "name": "ABC-GAN Model 3 MAE",
       "version": 1
      }
     },
     "metadata": {
      "scrapbook": {
       "data": true,
       "display": false,
       "name": "ABC-GAN Model 3 MAE"
      }
     },
     "output_type": "display_data"
    },
    {
     "data": {
      "application/scrapbook.scrap.json+json": {
       "data": 20.158051459807904,
       "encoder": "json",
       "name": "ABC-GAN Model 3 Manhattan Distance",
       "version": 1
      }
     },
     "metadata": {
      "scrapbook": {
       "data": true,
       "display": false,
       "name": "ABC-GAN Model 3 Manhattan Distance"
      }
     },
     "output_type": "display_data"
    },
    {
     "data": {
      "application/scrapbook.scrap.json+json": {
       "data": 2.8556067011753163,
       "encoder": "json",
       "name": "ABC-GAN Model 3 Euclidean distance",
       "version": 1
      }
     },
     "metadata": {
      "scrapbook": {
       "data": true,
       "display": false,
       "name": "ABC-GAN Model 3 Euclidean distance"
      }
     },
     "output_type": "display_data"
    },
    {
     "data": {
      "application/scrapbook.scrap.json+json": {
       "data": [
        [
         0.07351958515662438,
         0.07501175908772391,
         0.0777239791771164,
         0.0826257743275224,
         0.0799099561451851,
         0.08235447397475619,
         0.08026385779456842,
         0.08746283737964504,
         0.08104267533260483,
         0.08099613698289983,
         0.0830130001773452,
         0.08046441827558125,
         0.07046271084620699,
         0.07735389694126132,
         0.08742273168336004,
         0.07827943507888822,
         0.07695858383956208,
         0.07969540190259551,
         0.07570634895860566,
         0.08218618878534437,
         0.075366422628608,
         0.0726525878115085,
         0.08085243250194259,
         0.08780966447710228,
         0.09212075710870124,
         0.07502980861853693,
         0.0814401653803553,
         0.0789612836317168,
         0.07826849536684811,
         0.08280513376088794,
         0.07879151653762996,
         0.08086812547773882,
         0.08138948613421303,
         0.07968491331802328,
         0.08883582993157484,
         0.06977800262235952,
         0.07841019741695737,
         0.0816054530255558,
         0.08213751919677842,
         0.08692751135921431,
         0.08367338280820757,
         0.07484394520136291,
         0.08889163138532304,
         0.09182613997687039,
         0.0770357870610419,
         0.07328854173325228,
         0.08239590413588901,
         0.08018352625983767,
         0.08602852108201756,
         0.07660559442347126,
         0.08292325636885749,
         0.08368515773938172,
         0.07753377323333471,
         0.08011049629464903,
         0.07055872051740752,
         0.07688164109913338,
         0.07949936142213039,
         0.08138520488257481,
         0.08125803568496744,
         0.08176584013986936,
         0.07522378901854257,
         0.07674009667482919,
         0.07606874520292155,
         0.08743505549572604,
         0.07446709357093792,
         0.07205490266633205,
         0.07213805596197105,
         0.06499676700930142,
         0.09019295346235823,
         0.08640656993151445,
         0.07907552083908173,
         0.08905860192093894,
         0.07463261814094739,
         0.0847291585878491,
         0.07763784080997595,
         0.08793497227421213,
         0.07881769842690185,
         0.06657526570786883,
         0.07815430384739577,
         0.08141354814184637,
         0.08678385136325943,
         0.0826059671274111,
         0.07558689539106947,
         0.08327569518654297,
         0.08356766033568251,
         0.08803804232792671,
         0.08277837448992621,
         0.08073044437380045,
         0.08277428258239984,
         0.08102623971508983,
         0.07337955756936337,
         0.07904959243111047,
         0.07541537284445225,
         0.08953865983254207,
         0.08097017825118398,
         0.07348904891802699,
         0.07841316123359351,
         0.07329413494880406,
         0.0753521619483487,
         0.08741623180219017
        ],
        [
         0.19093219273011475,
         0.18353347937284292,
         0.19450258224399067,
         0.2087659787240566,
         0.19986717218496636,
         0.1988783317216325,
         0.19849664975395975,
         0.20022392360603108,
         0.20059273393788174,
         0.20190681816608297,
         0.20133574604622873,
         0.1877420198574078,
         0.18673079769474035,
         0.20226096148219178,
         0.21083025623332052,
         0.19487592082141952,
         0.191920873709023,
         0.19007928897718004,
         0.1918452582961204,
         0.20174334511416508,
         0.19037597347963967,
         0.18922328953996448,
         0.19500246811110308,
         0.209430703181116,
         0.21117093631376824,
         0.18475295831540636,
         0.19939174114123864,
         0.19431725025688315,
         0.19559039995439498,
         0.20840995229196316,
         0.20480114179572054,
         0.20188741906381705,
         0.20419762995751464,
         0.19357176188050823,
         0.21592453938415823,
         0.18266645448245838,
         0.20380988320810536,
         0.2044205776799251,
         0.19887040661392258,
         0.20257450455763176,
         0.202669931219562,
         0.19702392139052058,
         0.20529523851605608,
         0.1974443566309763,
         0.19593192036172338,
         0.1922922416900595,
         0.1932753934981484,
         0.19909953661993438,
         0.21086832636273375,
         0.19325421253840128,
         0.20386488284623505,
         0.202520576552214,
         0.195474518901285,
         0.20556302770387894,
         0.19354296282079875,
         0.19158937517261387,
         0.19419035516387106,
         0.19684077572881006,
         0.19820754918470687,
         0.19775911398670254,
         0.19506152963959703,
         0.19516949658738633,
         0.1959901096153201,
         0.19856519172625506,
         0.19247132267656863,
         0.19250682440093336,
         0.1898949305508651,
         0.18167331206667073,
         0.20315929931387597,
         0.21239711181717177,
         0.19462247534344593,
         0.20642134969067924,
         0.19494142732126454,
         0.20379990728243308,
         0.18988491943124317,
         0.2102020809280814,
         0.19375852884396033,
         0.1804613334802436,
         0.1895587169428301,
         0.19596356739673546,
         0.20427068834211312,
         0.2047100573339883,
         0.19252463327903374,
         0.20162969011375131,
         0.201326329863685,
         0.20434356424227065,
         0.20141216848666468,
         0.198077521542562,
         0.20158128796474023,
         0.19112053223173409,
         0.19680606115463317,
         0.1977935798429683,
         0.19470035702939711,
         0.19979615960562347,
         0.19894958253694223,
         0.1886822580743362,
         0.1955844075692927,
         0.1846524509509989,
         0.19292960593513414,
         0.20123863890401872
        ],
        [
         19.475083658471704,
         18.72041489602998,
         19.839263388887048,
         21.294129829853773,
         20.38645156286657,
         20.285589835606515,
         20.246658274903893,
         20.42284020781517,
         20.460458861663938,
         20.594495452940464,
         20.53624609671533,
         19.149686025455594,
         19.046541364863515,
         20.630618071183562,
         21.504686135798693,
         19.877343923784792,
         19.575929118320346,
         19.388087475672364,
         19.56821634620428,
         20.577821201644838,
         19.418349294923246,
         19.300775533076376,
         19.890251747332513,
         21.361931724473834,
         21.53943550400436,
         18.84480174817145,
         20.33795759640634,
         19.820359526202083,
         19.950220795348287,
         21.25781513378024,
         20.889716463163495,
         20.59251674450934,
         20.828158255666494,
         19.74431971181184,
         22.02430301718414,
         18.631978357210755,
         20.78860808722675,
         20.85089892335236,
         20.284781474620104,
         20.66259946487844,
         20.672332984395325,
         20.0964399818331,
         20.94011432863772,
         20.139324376359582,
         19.985055876895785,
         19.61380865238607,
         19.714090136811137,
         20.308152735233307,
         21.508569288998842,
         19.71192967891693,
         20.794218050315976,
         20.657098808325827,
         19.93840092793107,
         20.96742882579565,
         19.741382207721472,
         19.542116267606616,
         19.80741622671485,
         20.077759124338627,
         20.2171700168401,
         20.171429626643658,
         19.896276023238897,
         19.907288651913404,
         19.99099118076265,
         20.253649556078017,
         19.63207491301,
         19.6356960888952,
         19.36928291618824,
         18.530677830800414,
         20.72224853001535,
         21.66450540535152,
         19.851492485031486,
         21.054977668449283,
         19.884025586768985,
         20.787590542808175,
         19.368261781986803,
         21.440612254664302,
         19.763369942083955,
         18.407056014984846,
         19.334989128168672,
         19.988283874467015,
         20.83561021089554,
         20.880425848066807,
         19.63751259446144,
         20.566228391602635,
         20.535285646095872,
         20.843043552711606,
         20.5440411856398,
         20.203907197341323,
         20.561291372403502,
         19.494294287636876,
         20.074218237772584,
         20.174945143982768,
         19.859436416998506,
         20.379208279773593,
         20.292857418768108,
         19.24559032358229,
         19.949609572067857,
         18.834549997001886,
         19.678819805383682,
         20.52634116820991
        ],
        [
         2.7384297847444774,
         2.7660801555536745,
         2.815643066169054,
         2.9030723348561747,
         2.854963314441865,
         2.898302321260694,
         2.8612782973779356,
         2.9868393684166863,
         2.8751265857220427,
         2.8743009536678272,
         2.909867010378517,
         2.864850897360853,
         2.680894721228924,
         2.8089317343090867,
         2.9861544889209473,
         2.8256861782665457,
         2.8017450904097845,
         2.851128021339053,
         2.778857246023584,
         2.8953395752666253,
         2.7726116042673588,
         2.7222351031411423,
         2.871750009175267,
         2.9927555490992632,
         3.0653412901482153,
         2.7664129263526016,
         2.8821687786797354,
         2.8379659847212952,
         2.825488723640303,
         2.906221540696883,
         2.834913523696667,
         2.8720286904432824,
         2.881271869451012,
         2.8509403989628352,
         3.010191796716719,
         2.6678373765056724,
         2.828045285445346,
         2.8850920624144196,
         2.894482157152017,
         2.977684697653507,
         2.921418327873838,
         2.762984330491039,
         3.0111370611951473,
         3.060435635271681,
         2.8031500638079065,
         2.734123489674841,
         2.899031255757805,
         2.859846093499341,
         2.9622473141798586,
         2.795312260051472,
         2.908293683523633,
         2.921623878841514,
         2.812195738173312,
         2.8585434441432227,
         2.682720539447888,
         2.8003441560121862,
         2.8476191573062044,
         2.8811960880895677,
         2.878944188390368,
         2.8879258463933373,
         2.769986729190474,
         2.797765154696258,
         2.7855003160470106,
         2.9863649576975773,
         2.7560195108590335,
         2.7110145835029855,
         2.712578424326391,
         2.5748146020536593,
         3.033097633305024,
         2.968748917139082,
         2.840018155855053,
         3.0139637350067385,
         2.7590808343317224,
         2.9397915191320294,
         2.814082401532966,
         2.994890176946332,
         2.8353844958918684,
         2.6058927649085293,
         2.8234268172620247,
         2.8816977479375465,
         2.9752231578576525,
         2.9027243491237558,
         2.7766640650048187,
         2.9144675172366186,
         2.9195721183487855,
         2.9966448433954467,
         2.9057519161092316,
         2.869582779103548,
         2.905680096535884,
         2.8748350302128927,
         2.7358206944306604,
         2.8395525048805252,
         2.773511858661168,
         3.0220759922475957,
         2.8738403194368267,
         2.7378610245296877,
         2.8280987333943166,
         2.734227818741155,
         2.7723492779106254,
         2.9860434765460795
        ]
       ],
       "encoder": "json",
       "name": "ABC_GAN_3 Metrics",
       "version": 1
      }
     },
     "metadata": {
      "scrapbook": {
       "data": true,
       "display": false,
       "name": "ABC_GAN_3 Metrics"
      }
     },
     "output_type": "display_data"
    },
    {
     "name": "stdout",
     "output_type": "stream",
     "text": [
      "MSE\n",
      "0.08003802629967406\n"
     ]
    }
   ],
   "source": [
    "ABC_GAN3_metrics=ABC_train_test2.test_generator(gen3,test_data,prior_model,variance,bias,\"3\",device)\n",
    "sb.glue(\"ABC_GAN_3 Metrics\",ABC_GAN3_metrics)\n",
    "\n",
    "print(\"MSE\")\n",
    "print(mean(ABC_GAN3_metrics[0]))"
   ]
  },
  {
   "cell_type": "code",
   "execution_count": 18,
   "id": "c8e46b48",
   "metadata": {
    "execution": {
     "iopub.execute_input": "2022-06-12T08:40:04.495470Z",
     "iopub.status.busy": "2022-06-12T08:40:04.495097Z",
     "iopub.status.idle": "2022-06-12T08:40:04.817383Z",
     "shell.execute_reply": "2022-06-12T08:40:04.817598Z"
    },
    "id": "c8e46b48",
    "papermill": {
     "duration": 0.341917,
     "end_time": "2022-06-12T08:40:04.817722",
     "exception": false,
     "start_time": "2022-06-12T08:40:04.475805",
     "status": "completed"
    },
    "tags": []
   },
   "outputs": [
    {
     "data": {
      "image/png": "[encoded data removed]",
      "text/plain": [
       "<Figure size 432x288 with 1 Axes>"
      ]
     },
     "metadata": {
      "needs_background": "light"
     },
     "output_type": "display_data"
    },
    {
     "data": {
      "image/png": "[encoded data removed]",
      "text/plain": [
       "<Figure size 432x288 with 1 Axes>"
      ]
     },
     "metadata": {
      "needs_background": "light"
     },
     "output_type": "display_data"
    },
    {
     "data": {
      "image/png": "[encoded data removed]",
      "text/plain": [
       "<Figure size 432x288 with 1 Axes>"
      ]
     },
     "metadata": {
      "needs_background": "light"
     },
     "output_type": "display_data"
    },
    {
     "data": {
      "image/png": "[encoded data removed]",
      "text/plain": [
       "<Figure size 432x288 with 1 Axes>"
      ]
     },
     "metadata": {
      "needs_background": "light"
     },
     "output_type": "display_data"
    }
   ],
   "source": [
    "sanityChecks.discProbVsError(train_data,disc3,device)\n",
    "sanityChecks.discProbVsError(test_data,disc3,device)"
   ]
  },
  {
   "cell_type": "markdown",
   "id": "a5bd74c3",
   "metadata": {
    "id": "a5bd74c3",
    "papermill": {
     "duration": 0.019469,
     "end_time": "2022-06-12T08:40:04.857327",
     "exception": false,
     "start_time": "2022-06-12T08:40:04.837858",
     "status": "completed"
    },
    "tags": []
   },
   "source": [
    "## Skip Connection Model Analysis - ABC-GAN "
   ]
  },
  {
   "cell_type": "markdown",
   "id": "5744a8bf",
   "metadata": {
    "id": "5744a8bf",
    "papermill": {
     "duration": 0.019505,
     "end_time": "2022-06-12T08:40:04.896454",
     "exception": false,
     "start_time": "2022-06-12T08:40:04.876949",
     "status": "completed"
    },
    "tags": []
   },
   "source": [
    "### Weight Analysis \n",
    "\n",
    "Study the weights of the skip connection layer\n",
    "\n",
    "Equation of the skip connection is \n",
    "\n",
    "$output = y_{gan} * w + y_{abc} * (1-w)$"
   ]
  },
  {
   "cell_type": "code",
   "execution_count": 19,
   "id": "52c31dea",
   "metadata": {
    "execution": {
     "iopub.execute_input": "2022-06-12T08:40:04.938190Z",
     "iopub.status.busy": "2022-06-12T08:40:04.937761Z",
     "iopub.status.idle": "2022-06-12T08:40:04.941065Z",
     "shell.execute_reply": "2022-06-12T08:40:04.941267Z"
    },
    "id": "52c31dea",
    "papermill": {
     "duration": 0.025582,
     "end_time": "2022-06-12T08:40:04.941385",
     "exception": false,
     "start_time": "2022-06-12T08:40:04.915803",
     "status": "completed"
    },
    "tags": []
   },
   "outputs": [
    {
     "name": "stdout",
     "output_type": "stream",
     "text": [
      "Weight of the node at skip connection\n",
      "Parameter containing:\n",
      "tensor([[0.2196]], requires_grad=True)\n"
     ]
    },
    {
     "data": {
      "application/scrapbook.scrap.json+json": {
       "data": 0.21963661909103394,
       "encoder": "json",
       "name": "Skip Connection Weight",
       "version": 1
      }
     },
     "metadata": {
      "scrapbook": {
       "data": true,
       "display": false,
       "name": "Skip Connection Weight"
      }
     },
     "output_type": "display_data"
    }
   ],
   "source": [
    "print(\"Weight of the node at skip connection\")\n",
    "for name,param in gen3.named_parameters():\n",
    "    if(name == \"skipNode.weight\"):\n",
    "        print(param)\n",
    "        sb.glue(\"Skip Connection Weight\",param.item())"
   ]
  }
 ],
 "metadata": {
  "colab": {
   "collapsed_sections": [],
   "name": "ABC_GAN_Model-Catboost_Pre-gen.ipynb",
   "provenance": []
  },
  "interpreter": {
   "hash": "31f2aee4e71d21fbe5cf8b01ff0e069b9275f58929596ceb00d14d90e3e16cd6"
  },
  "kernelspec": {
   "display_name": "Python 3 (ipykernel)",
   "language": "python",
   "name": "python3"
  },
  "language_info": {
   "codemirror_mode": {
    "name": "ipython",
    "version": 3
   },
   "file_extension": ".py",
   "mimetype": "text/x-python",
   "name": "python",
   "nbconvert_exporter": "python",
   "pygments_lexer": "ipython3",
   "version": "3.8.11"
  },
  "papermill": {
   "default_parameters": {},
   "duration": 241.016379,
   "end_time": "2022-06-12T08:40:05.269259",
   "environment_variables": {},
   "exception": null,
   "input_path": "ABC_GAN-Catboost.ipynb",
   "output_path": "./ABC_GAN_Catboost/ABC-GAN_output_10_4.ipynb",
   "parameters": {
    "bias": 0.1,
    "variance": 0.1
   },
   "start_time": "2022-06-12T08:36:04.252880",
   "version": "2.3.3"
  }
 },
 "nbformat": 4,
 "nbformat_minor": 5
}