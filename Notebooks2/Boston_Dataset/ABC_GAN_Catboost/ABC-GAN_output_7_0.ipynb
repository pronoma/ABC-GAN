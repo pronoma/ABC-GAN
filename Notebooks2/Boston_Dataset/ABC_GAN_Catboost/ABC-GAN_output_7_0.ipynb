{
 "cells": [
  {
   "cell_type": "markdown",
   "id": "622780e6",
   "metadata": {
    "id": "622780e6",
    "papermill": {
     "duration": 0.034646,
     "end_time": "2022-06-12T06:04:52.020235",
     "exception": false,
     "start_time": "2022-06-12T06:04:51.985589",
     "status": "completed"
    },
    "tags": []
   },
   "source": [
    "## Import Libraries "
   ]
  },
  {
   "cell_type": "code",
   "execution_count": 1,
   "id": "a62397e3",
   "metadata": {
    "execution": {
     "iopub.execute_input": "2022-06-12T06:04:52.054980Z",
     "iopub.status.busy": "2022-06-12T06:04:52.054478Z",
     "iopub.status.idle": "2022-06-12T06:04:52.056700Z",
     "shell.execute_reply": "2022-06-12T06:04:52.057039Z"
    },
    "id": "a62397e3",
    "papermill": {
     "duration": 0.021236,
     "end_time": "2022-06-12T06:04:52.057240",
     "exception": false,
     "start_time": "2022-06-12T06:04:52.036004",
     "status": "completed"
    },
    "tags": []
   },
   "outputs": [],
   "source": [
    "import warnings\n",
    "import sys\n",
    "sys.path.insert(0, '../../src')\n",
    "warnings.filterwarnings('ignore')"
   ]
  },
  {
   "cell_type": "code",
   "execution_count": 2,
   "id": "d6a4e155",
   "metadata": {
    "execution": {
     "iopub.execute_input": "2022-06-12T06:04:52.077308Z",
     "iopub.status.busy": "2022-06-12T06:04:52.076858Z",
     "iopub.status.idle": "2022-06-12T06:04:53.921167Z",
     "shell.execute_reply": "2022-06-12T06:04:53.921424Z"
    },
    "id": "d6a4e155",
    "papermill": {
     "duration": 1.854775,
     "end_time": "2022-06-12T06:04:53.921546",
     "exception": false,
     "start_time": "2022-06-12T06:04:52.066771",
     "status": "completed"
    },
    "tags": []
   },
   "outputs": [],
   "source": [
    "import ABC_train_test2\n",
    "import bostonDataset\n",
    "import network\n",
    "import dataset\n",
    "import sanityChecks\n",
    "import torch \n",
    "import scrapbook as sb\n",
    "from statistics import mean \n",
    "import catboost as ctb \n",
    "from sklearn.model_selection import train_test_split\n",
    "from sklearn.metrics import mean_squared_error,mean_absolute_error\n",
    "import numpy as np"
   ]
  },
  {
   "cell_type": "markdown",
   "id": "2fa5b0f7",
   "metadata": {
    "id": "2fa5b0f7",
    "papermill": {
     "duration": 0.006794,
     "end_time": "2022-06-12T06:04:53.935504",
     "exception": false,
     "start_time": "2022-06-12T06:04:53.928710",
     "status": "completed"
    },
    "tags": []
   },
   "source": [
    "## Parameters "
   ]
  },
  {
   "cell_type": "code",
   "execution_count": 3,
   "id": "783186fb",
   "metadata": {
    "execution": {
     "iopub.execute_input": "2022-06-12T06:04:53.951162Z",
     "iopub.status.busy": "2022-06-12T06:04:53.950801Z",
     "iopub.status.idle": "2022-06-12T06:04:53.952096Z",
     "shell.execute_reply": "2022-06-12T06:04:53.952331Z"
    },
    "id": "783186fb",
    "papermill": {
     "duration": 0.010154,
     "end_time": "2022-06-12T06:04:53.952436",
     "exception": false,
     "start_time": "2022-06-12T06:04:53.942282",
     "status": "completed"
    },
    "tags": [
     "parameters"
    ]
   },
   "outputs": [],
   "source": [
    "variance = 1\n",
    "bias = 1 "
   ]
  },
  {
   "cell_type": "code",
   "execution_count": 4,
   "id": "d15e00d2",
   "metadata": {
    "execution": {
     "iopub.execute_input": "2022-06-12T06:04:53.967904Z",
     "iopub.status.busy": "2022-06-12T06:04:53.967534Z",
     "iopub.status.idle": "2022-06-12T06:04:53.968740Z",
     "shell.execute_reply": "2022-06-12T06:04:53.969082Z"
    },
    "papermill": {
     "duration": 0.009895,
     "end_time": "2022-06-12T06:04:53.969192",
     "exception": false,
     "start_time": "2022-06-12T06:04:53.959297",
     "status": "completed"
    },
    "tags": [
     "injected-parameters"
    ]
   },
   "outputs": [],
   "source": [
    "# Parameters\n",
    "variance = 1\n",
    "bias = 1\n"
   ]
  },
  {
   "cell_type": "markdown",
   "id": "391cdbfd",
   "metadata": {
    "id": "391cdbfd",
    "papermill": {
     "duration": 0.006781,
     "end_time": "2022-06-12T06:04:53.982841",
     "exception": false,
     "start_time": "2022-06-12T06:04:53.976060",
     "status": "completed"
    },
    "tags": []
   },
   "source": [
    "## Dataset \n"
   ]
  },
  {
   "cell_type": "code",
   "execution_count": 5,
   "id": "5b51f161",
   "metadata": {
    "execution": {
     "iopub.execute_input": "2022-06-12T06:04:53.998444Z",
     "iopub.status.busy": "2022-06-12T06:04:53.998076Z",
     "iopub.status.idle": "2022-06-12T06:04:53.999274Z",
     "shell.execute_reply": "2022-06-12T06:04:53.999507Z"
    },
    "id": "5b51f161",
    "papermill": {
     "duration": 0.009915,
     "end_time": "2022-06-12T06:04:53.999611",
     "exception": false,
     "start_time": "2022-06-12T06:04:53.989696",
     "status": "completed"
    },
    "tags": []
   },
   "outputs": [],
   "source": [
    "#Parameters \n",
    "n_features = 13\n",
    "n_samples= 506\n",
    "n_target = 1 "
   ]
  },
  {
   "cell_type": "code",
   "execution_count": 6,
   "id": "5d6eced4",
   "metadata": {
    "execution": {
     "iopub.execute_input": "2022-06-12T06:04:54.015562Z",
     "iopub.status.busy": "2022-06-12T06:04:54.015197Z",
     "iopub.status.idle": "2022-06-12T06:04:54.026048Z",
     "shell.execute_reply": "2022-06-12T06:04:54.026287Z"
    },
    "id": "5d6eced4",
    "papermill": {
     "duration": 0.01977,
     "end_time": "2022-06-12T06:04:54.026397",
     "exception": false,
     "start_time": "2022-06-12T06:04:54.006627",
     "status": "completed"
    },
    "tags": []
   },
   "outputs": [
    {
     "name": "stdout",
     "output_type": "stream",
     "text": [
      "         X1        X2        X3        X4        X5        X6        X7  \\\n",
      "0 -0.419782  0.284830 -1.287909 -0.272599 -0.144217  0.413672 -0.120013   \n",
      "1 -0.417339 -0.487722 -0.593381 -0.272599 -0.740262  0.194274  0.367166   \n",
      "2 -0.417342 -0.487722 -0.593381 -0.272599 -0.740262  1.282714 -0.265812   \n",
      "3 -0.416750 -0.487722 -1.306878 -0.272599 -0.835284  1.016303 -0.809889   \n",
      "4 -0.412482 -0.487722 -1.306878 -0.272599 -0.835284  1.228577 -0.511180   \n",
      "\n",
      "         X8        X9       X10       X11       X12       X13         Y  \n",
      "0  0.140214 -0.982843 -0.666608 -1.459000  0.441052 -1.075562  0.159686  \n",
      "1  0.557160 -0.867883 -0.987329 -0.303094  0.441052 -0.492439 -0.101524  \n",
      "2  0.557160 -0.867883 -0.987329 -0.303094  0.396427 -1.208727  1.324247  \n",
      "3  1.077737 -0.752922 -1.106115  0.113032  0.416163 -1.361517  1.182758  \n",
      "4  1.077737 -0.752922 -1.106115  0.113032  0.441052 -1.026501  1.487503  \n"
     ]
    }
   ],
   "source": [
    "X,Y = bostonDataset.boston_data()"
   ]
  },
  {
   "cell_type": "code",
   "execution_count": 7,
   "id": "fe007438",
   "metadata": {
    "execution": {
     "iopub.execute_input": "2022-06-12T06:04:54.043550Z",
     "iopub.status.busy": "2022-06-12T06:04:54.043173Z",
     "iopub.status.idle": "2022-06-12T06:04:54.044412Z",
     "shell.execute_reply": "2022-06-12T06:04:54.044644Z"
    },
    "id": "fe007438",
    "papermill": {
     "duration": 0.011067,
     "end_time": "2022-06-12T06:04:54.044747",
     "exception": false,
     "start_time": "2022-06-12T06:04:54.033680",
     "status": "completed"
    },
    "tags": []
   },
   "outputs": [],
   "source": [
    "#Train test split for dataset \n",
    "X_train,X_test,Y_train,Y_test = train_test_split(X,Y,test_size = 0.2)\n",
    "train_data = dataset.CustomDataset(X_train,Y_train)\n",
    "test_data = dataset.CustomDataset(X_test,Y_test)\n"
   ]
  },
  {
   "cell_type": "markdown",
   "id": "a9a1af34",
   "metadata": {
    "id": "a9a1af34",
    "papermill": {
     "duration": 0.007038,
     "end_time": "2022-06-12T06:04:54.058920",
     "exception": false,
     "start_time": "2022-06-12T06:04:54.051882",
     "status": "completed"
    },
    "tags": []
   },
   "source": [
    "## Training Parameters "
   ]
  },
  {
   "cell_type": "code",
   "execution_count": 8,
   "id": "952b7fc8",
   "metadata": {
    "execution": {
     "iopub.execute_input": "2022-06-12T06:04:54.075248Z",
     "iopub.status.busy": "2022-06-12T06:04:54.074896Z",
     "iopub.status.idle": "2022-06-12T06:04:54.076102Z",
     "shell.execute_reply": "2022-06-12T06:04:54.076339Z"
    },
    "id": "952b7fc8",
    "papermill": {
     "duration": 0.010437,
     "end_time": "2022-06-12T06:04:54.076440",
     "exception": false,
     "start_time": "2022-06-12T06:04:54.066003",
     "status": "completed"
    },
    "tags": []
   },
   "outputs": [],
   "source": [
    "batch_size = 32\n",
    "n_epochs = 1000\n",
    "#Select the device \n",
    "device = torch.device('cuda' if torch.cuda.is_available() else 'cpu')"
   ]
  },
  {
   "cell_type": "markdown",
   "id": "a95e1600",
   "metadata": {
    "id": "a95e1600",
    "papermill": {
     "duration": 0.007021,
     "end_time": "2022-06-12T06:04:54.090594",
     "exception": false,
     "start_time": "2022-06-12T06:04:54.083573",
     "status": "completed"
    },
    "tags": []
   },
   "source": [
    "# ABC Pre-generator Model \n",
    "\n",
    "1. The catboost model is used as a pre-generator model for the ABC-GAN. \n",
    "2. The model is first trained on the entire dataset \n",
    "3. It generats X,Y pairs and we add some Gaussian noise with mean 0 and variance 1 to it which is then feed as input to the generator.\n"
   ]
  },
  {
   "cell_type": "code",
   "execution_count": 9,
   "id": "ff8ce7bd",
   "metadata": {
    "execution": {
     "iopub.execute_input": "2022-06-12T06:04:54.109660Z",
     "iopub.status.busy": "2022-06-12T06:04:54.109279Z",
     "iopub.status.idle": "2022-06-12T06:04:55.135836Z",
     "shell.execute_reply": "2022-06-12T06:04:55.136139Z"
    },
    "id": "ff8ce7bd",
    "papermill": {
     "duration": 1.038531,
     "end_time": "2022-06-12T06:04:55.136266",
     "exception": false,
     "start_time": "2022-06-12T06:04:54.097735",
     "status": "completed"
    },
    "tags": []
   },
   "outputs": [
    {
     "name": "stdout",
     "output_type": "stream",
     "text": [
      "Learning rate set to 0.033215\n",
      "0:\tlearn: 0.9948928\ttotal: 58.2ms\tremaining: 58.2s\n",
      "1:\tlearn: 0.9749016\ttotal: 59.3ms\tremaining: 29.6s\n",
      "2:\tlearn: 0.9551405\ttotal: 60.4ms\tremaining: 20.1s\n",
      "3:\tlearn: 0.9386069\ttotal: 61.6ms\tremaining: 15.3s\n",
      "4:\tlearn: 0.9205957\ttotal: 62.7ms\tremaining: 12.5s\n",
      "5:\tlearn: 0.9038499\ttotal: 63.8ms\tremaining: 10.6s\n",
      "6:\tlearn: 0.8875786\ttotal: 64.8ms\tremaining: 9.19s\n",
      "7:\tlearn: 0.8707958\ttotal: 65.8ms\tremaining: 8.16s\n",
      "8:\tlearn: 0.8556357\ttotal: 66.7ms\tremaining: 7.35s\n",
      "9:\tlearn: 0.8401632\ttotal: 67.6ms\tremaining: 6.69s\n",
      "10:\tlearn: 0.8246689\ttotal: 68.5ms\tremaining: 6.16s\n",
      "11:\tlearn: 0.8107875\ttotal: 69.4ms\tremaining: 5.71s\n",
      "12:\tlearn: 0.7953515\ttotal: 70.2ms\tremaining: 5.33s\n",
      "13:\tlearn: 0.7800307\ttotal: 71ms\tremaining: 5s\n",
      "14:\tlearn: 0.7664516\ttotal: 72ms\tremaining: 4.72s\n",
      "15:\tlearn: 0.7525317\ttotal: 72.9ms\tremaining: 4.48s\n",
      "16:\tlearn: 0.7405187\ttotal: 73.8ms\tremaining: 4.26s\n",
      "17:\tlearn: 0.7274134\ttotal: 74.6ms\tremaining: 4.07s\n",
      "18:\tlearn: 0.7152792\ttotal: 75.4ms\tremaining: 3.89s\n",
      "19:\tlearn: 0.7028027\ttotal: 76.2ms\tremaining: 3.73s\n",
      "20:\tlearn: 0.6892844\ttotal: 77.1ms\tremaining: 3.59s\n",
      "21:\tlearn: 0.6782756\ttotal: 77.9ms\tremaining: 3.46s\n",
      "22:\tlearn: 0.6677309\ttotal: 79ms\tremaining: 3.35s\n",
      "23:\tlearn: 0.6572672\ttotal: 79.8ms\tremaining: 3.24s\n",
      "24:\tlearn: 0.6463986\ttotal: 80.6ms\tremaining: 3.14s\n",
      "25:\tlearn: 0.6375267\ttotal: 81.3ms\tremaining: 3.05s\n",
      "26:\tlearn: 0.6283247\ttotal: 82.1ms\tremaining: 2.96s\n",
      "27:\tlearn: 0.6191395\ttotal: 83ms\tremaining: 2.88s\n",
      "28:\tlearn: 0.6102323\ttotal: 83.8ms\tremaining: 2.8s\n",
      "29:\tlearn: 0.6000209\ttotal: 84.7ms\tremaining: 2.74s\n",
      "30:\tlearn: 0.5889539\ttotal: 85.5ms\tremaining: 2.67s\n",
      "31:\tlearn: 0.5797384\ttotal: 86.4ms\tremaining: 2.61s\n",
      "32:\tlearn: 0.5726260\ttotal: 87.3ms\tremaining: 2.56s\n",
      "33:\tlearn: 0.5655537\ttotal: 88.3ms\tremaining: 2.51s\n",
      "34:\tlearn: 0.5577503\ttotal: 89.3ms\tremaining: 2.46s\n",
      "35:\tlearn: 0.5502337\ttotal: 90.2ms\tremaining: 2.41s\n",
      "36:\tlearn: 0.5434139\ttotal: 91ms\tremaining: 2.37s\n",
      "37:\tlearn: 0.5361048\ttotal: 92ms\tremaining: 2.33s\n",
      "38:\tlearn: 0.5290673\ttotal: 92.9ms\tremaining: 2.29s\n",
      "39:\tlearn: 0.5214783\ttotal: 93.8ms\tremaining: 2.25s\n",
      "40:\tlearn: 0.5156212\ttotal: 94.6ms\tremaining: 2.21s\n",
      "41:\tlearn: 0.5085361\ttotal: 95.5ms\tremaining: 2.18s\n",
      "42:\tlearn: 0.5029175\ttotal: 96.3ms\tremaining: 2.14s\n",
      "43:\tlearn: 0.4961671\ttotal: 97.1ms\tremaining: 2.11s\n",
      "44:\tlearn: 0.4906759\ttotal: 98ms\tremaining: 2.08s\n",
      "45:\tlearn: 0.4847707\ttotal: 98.9ms\tremaining: 2.05s\n",
      "46:\tlearn: 0.4779817\ttotal: 99.8ms\tremaining: 2.02s\n",
      "47:\tlearn: 0.4716074\ttotal: 101ms\tremaining: 2s\n",
      "48:\tlearn: 0.4672164\ttotal: 102ms\tremaining: 1.97s\n",
      "49:\tlearn: 0.4626450\ttotal: 102ms\tremaining: 1.95s\n",
      "50:\tlearn: 0.4573298\ttotal: 103ms\tremaining: 1.92s\n",
      "51:\tlearn: 0.4532176\ttotal: 104ms\tremaining: 1.9s\n",
      "52:\tlearn: 0.4493229\ttotal: 105ms\tremaining: 1.88s\n",
      "53:\tlearn: 0.4452299\ttotal: 106ms\tremaining: 1.86s\n",
      "54:\tlearn: 0.4408058\ttotal: 107ms\tremaining: 1.83s\n",
      "55:\tlearn: 0.4366807\ttotal: 108ms\tremaining: 1.81s\n",
      "56:\tlearn: 0.4320957\ttotal: 108ms\tremaining: 1.79s\n"
     ]
    },
    {
     "name": "stdout",
     "output_type": "stream",
     "text": [
      "57:\tlearn: 0.4274351\ttotal: 109ms\tremaining: 1.77s\n",
      "58:\tlearn: 0.4238492\ttotal: 110ms\tremaining: 1.76s\n",
      "59:\tlearn: 0.4199424\ttotal: 111ms\tremaining: 1.74s\n",
      "60:\tlearn: 0.4156281\ttotal: 112ms\tremaining: 1.73s\n",
      "61:\tlearn: 0.4107318\ttotal: 113ms\tremaining: 1.71s\n",
      "62:\tlearn: 0.4074809\ttotal: 114ms\tremaining: 1.69s\n",
      "63:\tlearn: 0.4036489\ttotal: 115ms\tremaining: 1.68s\n",
      "64:\tlearn: 0.3997055\ttotal: 116ms\tremaining: 1.66s\n",
      "65:\tlearn: 0.3954686\ttotal: 117ms\tremaining: 1.65s\n",
      "66:\tlearn: 0.3917180\ttotal: 118ms\tremaining: 1.64s\n",
      "67:\tlearn: 0.3892650\ttotal: 118ms\tremaining: 1.62s\n",
      "68:\tlearn: 0.3864049\ttotal: 119ms\tremaining: 1.61s\n",
      "69:\tlearn: 0.3834572\ttotal: 120ms\tremaining: 1.6s\n",
      "70:\tlearn: 0.3796295\ttotal: 122ms\tremaining: 1.59s\n",
      "71:\tlearn: 0.3767702\ttotal: 122ms\tremaining: 1.58s\n",
      "72:\tlearn: 0.3742726\ttotal: 123ms\tremaining: 1.56s\n",
      "73:\tlearn: 0.3715977\ttotal: 124ms\tremaining: 1.55s\n",
      "74:\tlearn: 0.3689352\ttotal: 125ms\tremaining: 1.54s\n",
      "75:\tlearn: 0.3652980\ttotal: 126ms\tremaining: 1.53s\n",
      "76:\tlearn: 0.3623425\ttotal: 127ms\tremaining: 1.52s\n",
      "77:\tlearn: 0.3597171\ttotal: 128ms\tremaining: 1.51s\n",
      "78:\tlearn: 0.3575972\ttotal: 129ms\tremaining: 1.5s\n",
      "79:\tlearn: 0.3552293\ttotal: 130ms\tremaining: 1.49s\n",
      "80:\tlearn: 0.3528876\ttotal: 130ms\tremaining: 1.48s\n",
      "81:\tlearn: 0.3501279\ttotal: 131ms\tremaining: 1.47s\n",
      "82:\tlearn: 0.3478643\ttotal: 132ms\tremaining: 1.46s\n",
      "83:\tlearn: 0.3456915\ttotal: 133ms\tremaining: 1.45s\n",
      "84:\tlearn: 0.3436794\ttotal: 134ms\tremaining: 1.44s\n",
      "85:\tlearn: 0.3410729\ttotal: 135ms\tremaining: 1.43s\n",
      "86:\tlearn: 0.3389462\ttotal: 136ms\tremaining: 1.42s\n",
      "87:\tlearn: 0.3364459\ttotal: 137ms\tremaining: 1.42s\n",
      "88:\tlearn: 0.3336464\ttotal: 138ms\tremaining: 1.41s\n",
      "89:\tlearn: 0.3316096\ttotal: 138ms\tremaining: 1.4s\n",
      "90:\tlearn: 0.3289574\ttotal: 139ms\tremaining: 1.39s\n",
      "91:\tlearn: 0.3271768\ttotal: 140ms\tremaining: 1.38s\n",
      "92:\tlearn: 0.3252282\ttotal: 141ms\tremaining: 1.38s\n",
      "93:\tlearn: 0.3234441\ttotal: 142ms\tremaining: 1.37s\n",
      "94:\tlearn: 0.3217195\ttotal: 143ms\tremaining: 1.36s\n",
      "95:\tlearn: 0.3203809\ttotal: 144ms\tremaining: 1.35s\n",
      "96:\tlearn: 0.3182773\ttotal: 145ms\tremaining: 1.34s\n",
      "97:\tlearn: 0.3167307\ttotal: 145ms\tremaining: 1.34s\n",
      "98:\tlearn: 0.3153610\ttotal: 146ms\tremaining: 1.33s\n",
      "99:\tlearn: 0.3140336\ttotal: 147ms\tremaining: 1.32s\n",
      "100:\tlearn: 0.3124278\ttotal: 148ms\tremaining: 1.32s\n",
      "101:\tlearn: 0.3106695\ttotal: 149ms\tremaining: 1.31s\n",
      "102:\tlearn: 0.3090990\ttotal: 150ms\tremaining: 1.31s\n",
      "103:\tlearn: 0.3079644\ttotal: 151ms\tremaining: 1.3s\n",
      "104:\tlearn: 0.3063835\ttotal: 152ms\tremaining: 1.29s\n",
      "105:\tlearn: 0.3049618\ttotal: 153ms\tremaining: 1.29s\n",
      "106:\tlearn: 0.3033550\ttotal: 154ms\tremaining: 1.28s\n",
      "107:\tlearn: 0.3014519\ttotal: 155ms\tremaining: 1.28s\n",
      "108:\tlearn: 0.2997220\ttotal: 156ms\tremaining: 1.27s\n",
      "109:\tlearn: 0.2986310\ttotal: 157ms\tremaining: 1.27s\n",
      "110:\tlearn: 0.2966894\ttotal: 158ms\tremaining: 1.26s\n",
      "111:\tlearn: 0.2955981\ttotal: 159ms\tremaining: 1.26s\n",
      "112:\tlearn: 0.2941575\ttotal: 159ms\tremaining: 1.25s\n",
      "113:\tlearn: 0.2927099\ttotal: 160ms\tremaining: 1.25s\n",
      "114:\tlearn: 0.2915737\ttotal: 161ms\tremaining: 1.24s\n",
      "115:\tlearn: 0.2904677\ttotal: 162ms\tremaining: 1.24s\n",
      "116:\tlearn: 0.2892604\ttotal: 163ms\tremaining: 1.23s\n",
      "117:\tlearn: 0.2875047\ttotal: 164ms\tremaining: 1.23s\n",
      "118:\tlearn: 0.2864908\ttotal: 165ms\tremaining: 1.22s\n",
      "119:\tlearn: 0.2853831\ttotal: 166ms\tremaining: 1.22s\n",
      "120:\tlearn: 0.2841748\ttotal: 167ms\tremaining: 1.21s\n",
      "121:\tlearn: 0.2833485\ttotal: 167ms\tremaining: 1.21s\n",
      "122:\tlearn: 0.2820363\ttotal: 168ms\tremaining: 1.2s\n",
      "123:\tlearn: 0.2809597\ttotal: 169ms\tremaining: 1.2s\n",
      "124:\tlearn: 0.2799024\ttotal: 170ms\tremaining: 1.19s\n",
      "125:\tlearn: 0.2785393\ttotal: 171ms\tremaining: 1.19s\n",
      "126:\tlearn: 0.2775434\ttotal: 172ms\tremaining: 1.18s\n",
      "127:\tlearn: 0.2764645\ttotal: 173ms\tremaining: 1.18s\n",
      "128:\tlearn: 0.2750906\ttotal: 174ms\tremaining: 1.17s\n",
      "129:\tlearn: 0.2742440\ttotal: 174ms\tremaining: 1.17s\n",
      "130:\tlearn: 0.2735287\ttotal: 175ms\tremaining: 1.16s\n",
      "131:\tlearn: 0.2724899\ttotal: 176ms\tremaining: 1.16s\n",
      "132:\tlearn: 0.2714683\ttotal: 177ms\tremaining: 1.15s\n",
      "133:\tlearn: 0.2706706\ttotal: 178ms\tremaining: 1.15s\n",
      "134:\tlearn: 0.2697804\ttotal: 179ms\tremaining: 1.14s\n",
      "135:\tlearn: 0.2693123\ttotal: 179ms\tremaining: 1.14s\n",
      "136:\tlearn: 0.2686888\ttotal: 180ms\tremaining: 1.14s\n",
      "137:\tlearn: 0.2678391\ttotal: 181ms\tremaining: 1.13s\n",
      "138:\tlearn: 0.2667316\ttotal: 182ms\tremaining: 1.13s\n",
      "139:\tlearn: 0.2660123\ttotal: 183ms\tremaining: 1.12s\n",
      "140:\tlearn: 0.2652726\ttotal: 184ms\tremaining: 1.12s\n",
      "141:\tlearn: 0.2647355\ttotal: 185ms\tremaining: 1.12s\n",
      "142:\tlearn: 0.2637341\ttotal: 186ms\tremaining: 1.11s\n",
      "143:\tlearn: 0.2629559\ttotal: 187ms\tremaining: 1.11s\n",
      "144:\tlearn: 0.2616923\ttotal: 187ms\tremaining: 1.1s\n",
      "145:\tlearn: 0.2606821\ttotal: 188ms\tremaining: 1.1s\n",
      "146:\tlearn: 0.2597710\ttotal: 189ms\tremaining: 1.1s\n",
      "147:\tlearn: 0.2588370\ttotal: 190ms\tremaining: 1.09s\n",
      "148:\tlearn: 0.2576340\ttotal: 191ms\tremaining: 1.09s\n"
     ]
    },
    {
     "name": "stdout",
     "output_type": "stream",
     "text": [
      "149:\tlearn: 0.2570966\ttotal: 192ms\tremaining: 1.09s\n",
      "150:\tlearn: 0.2565153\ttotal: 193ms\tremaining: 1.09s\n",
      "151:\tlearn: 0.2556314\ttotal: 194ms\tremaining: 1.08s\n",
      "152:\tlearn: 0.2549362\ttotal: 195ms\tremaining: 1.08s\n",
      "153:\tlearn: 0.2539686\ttotal: 196ms\tremaining: 1.08s\n",
      "154:\tlearn: 0.2531769\ttotal: 197ms\tremaining: 1.07s\n",
      "155:\tlearn: 0.2523777\ttotal: 198ms\tremaining: 1.07s\n",
      "156:\tlearn: 0.2513723\ttotal: 199ms\tremaining: 1.07s\n",
      "157:\tlearn: 0.2510145\ttotal: 200ms\tremaining: 1.06s\n",
      "158:\tlearn: 0.2500103\ttotal: 200ms\tremaining: 1.06s\n",
      "159:\tlearn: 0.2493107\ttotal: 202ms\tremaining: 1.06s\n",
      "160:\tlearn: 0.2488859\ttotal: 203ms\tremaining: 1.06s\n",
      "161:\tlearn: 0.2483283\ttotal: 204ms\tremaining: 1.05s\n",
      "162:\tlearn: 0.2479502\ttotal: 205ms\tremaining: 1.05s\n",
      "163:\tlearn: 0.2473852\ttotal: 205ms\tremaining: 1.05s\n",
      "164:\tlearn: 0.2463942\ttotal: 206ms\tremaining: 1.04s\n",
      "165:\tlearn: 0.2460496\ttotal: 207ms\tremaining: 1.04s\n",
      "166:\tlearn: 0.2455528\ttotal: 208ms\tremaining: 1.04s\n",
      "167:\tlearn: 0.2447997\ttotal: 209ms\tremaining: 1.03s\n",
      "168:\tlearn: 0.2444254\ttotal: 210ms\tremaining: 1.03s\n",
      "169:\tlearn: 0.2438828\ttotal: 211ms\tremaining: 1.03s\n",
      "170:\tlearn: 0.2434305\ttotal: 212ms\tremaining: 1.03s\n",
      "171:\tlearn: 0.2428564\ttotal: 213ms\tremaining: 1.02s\n",
      "172:\tlearn: 0.2422428\ttotal: 214ms\tremaining: 1.02s\n",
      "173:\tlearn: 0.2416608\ttotal: 215ms\tremaining: 1.02s\n",
      "174:\tlearn: 0.2408233\ttotal: 215ms\tremaining: 1.01s\n",
      "175:\tlearn: 0.2402468\ttotal: 217ms\tremaining: 1.01s\n",
      "176:\tlearn: 0.2392747\ttotal: 218ms\tremaining: 1.01s\n",
      "177:\tlearn: 0.2390037\ttotal: 218ms\tremaining: 1.01s\n",
      "178:\tlearn: 0.2385623\ttotal: 219ms\tremaining: 1s\n",
      "179:\tlearn: 0.2379542\ttotal: 220ms\tremaining: 1s\n",
      "180:\tlearn: 0.2369205\ttotal: 221ms\tremaining: 1000ms\n",
      "181:\tlearn: 0.2364557\ttotal: 222ms\tremaining: 997ms\n",
      "182:\tlearn: 0.2356984\ttotal: 223ms\tremaining: 994ms\n",
      "183:\tlearn: 0.2349823\ttotal: 224ms\tremaining: 992ms\n",
      "184:\tlearn: 0.2345873\ttotal: 224ms\tremaining: 989ms\n",
      "185:\tlearn: 0.2342788\ttotal: 225ms\tremaining: 986ms\n",
      "186:\tlearn: 0.2335197\ttotal: 226ms\tremaining: 983ms\n",
      "187:\tlearn: 0.2331532\ttotal: 227ms\tremaining: 981ms\n",
      "188:\tlearn: 0.2325393\ttotal: 228ms\tremaining: 978ms\n",
      "189:\tlearn: 0.2317991\ttotal: 229ms\tremaining: 976ms\n",
      "190:\tlearn: 0.2311502\ttotal: 230ms\tremaining: 974ms\n",
      "191:\tlearn: 0.2307532\ttotal: 231ms\tremaining: 971ms\n",
      "192:\tlearn: 0.2304720\ttotal: 232ms\tremaining: 969ms\n",
      "193:\tlearn: 0.2301439\ttotal: 233ms\tremaining: 966ms\n",
      "194:\tlearn: 0.2292930\ttotal: 233ms\tremaining: 964ms\n",
      "195:\tlearn: 0.2288698\ttotal: 234ms\tremaining: 961ms\n",
      "196:\tlearn: 0.2283852\ttotal: 235ms\tremaining: 959ms\n",
      "197:\tlearn: 0.2280575\ttotal: 236ms\tremaining: 957ms\n",
      "198:\tlearn: 0.2277888\ttotal: 237ms\tremaining: 954ms\n",
      "199:\tlearn: 0.2272473\ttotal: 238ms\tremaining: 952ms\n",
      "200:\tlearn: 0.2270957\ttotal: 239ms\tremaining: 949ms\n",
      "201:\tlearn: 0.2266589\ttotal: 240ms\tremaining: 947ms\n",
      "202:\tlearn: 0.2257960\ttotal: 240ms\tremaining: 944ms\n",
      "203:\tlearn: 0.2253803\ttotal: 242ms\tremaining: 944ms\n",
      "204:\tlearn: 0.2248189\ttotal: 243ms\tremaining: 941ms\n",
      "205:\tlearn: 0.2243038\ttotal: 244ms\tremaining: 939ms\n",
      "206:\tlearn: 0.2237567\ttotal: 245ms\tremaining: 937ms\n",
      "207:\tlearn: 0.2232215\ttotal: 245ms\tremaining: 935ms\n",
      "208:\tlearn: 0.2228200\ttotal: 246ms\tremaining: 932ms\n",
      "209:\tlearn: 0.2223006\ttotal: 247ms\tremaining: 930ms\n",
      "210:\tlearn: 0.2217974\ttotal: 248ms\tremaining: 928ms\n",
      "211:\tlearn: 0.2214768\ttotal: 249ms\tremaining: 926ms\n",
      "212:\tlearn: 0.2211348\ttotal: 250ms\tremaining: 923ms\n",
      "213:\tlearn: 0.2208216\ttotal: 251ms\tremaining: 921ms\n",
      "214:\tlearn: 0.2207047\ttotal: 252ms\tremaining: 919ms\n",
      "215:\tlearn: 0.2204819\ttotal: 253ms\tremaining: 917ms\n",
      "216:\tlearn: 0.2199950\ttotal: 254ms\tremaining: 915ms\n",
      "217:\tlearn: 0.2196076\ttotal: 255ms\tremaining: 913ms\n",
      "218:\tlearn: 0.2190264\ttotal: 256ms\tremaining: 912ms\n",
      "219:\tlearn: 0.2182951\ttotal: 257ms\tremaining: 910ms\n",
      "220:\tlearn: 0.2179394\ttotal: 258ms\tremaining: 908ms\n",
      "221:\tlearn: 0.2176256\ttotal: 259ms\tremaining: 906ms\n",
      "222:\tlearn: 0.2172584\ttotal: 260ms\tremaining: 905ms\n",
      "223:\tlearn: 0.2170938\ttotal: 261ms\tremaining: 903ms\n",
      "224:\tlearn: 0.2166878\ttotal: 262ms\tremaining: 902ms\n",
      "225:\tlearn: 0.2159165\ttotal: 263ms\tremaining: 900ms\n",
      "226:\tlearn: 0.2153645\ttotal: 264ms\tremaining: 899ms\n",
      "227:\tlearn: 0.2149829\ttotal: 265ms\tremaining: 898ms\n",
      "228:\tlearn: 0.2144438\ttotal: 266ms\tremaining: 896ms\n",
      "229:\tlearn: 0.2139990\ttotal: 267ms\tremaining: 895ms\n",
      "230:\tlearn: 0.2134413\ttotal: 268ms\tremaining: 893ms\n",
      "231:\tlearn: 0.2128351\ttotal: 269ms\tremaining: 891ms\n",
      "232:\tlearn: 0.2123610\ttotal: 270ms\tremaining: 890ms\n",
      "233:\tlearn: 0.2119127\ttotal: 271ms\tremaining: 888ms\n",
      "234:\tlearn: 0.2112941\ttotal: 272ms\tremaining: 886ms\n",
      "235:\tlearn: 0.2106663\ttotal: 273ms\tremaining: 885ms\n",
      "236:\tlearn: 0.2103737\ttotal: 274ms\tremaining: 882ms\n",
      "237:\tlearn: 0.2099959\ttotal: 275ms\tremaining: 881ms\n",
      "238:\tlearn: 0.2097310\ttotal: 276ms\tremaining: 879ms\n",
      "239:\tlearn: 0.2093436\ttotal: 277ms\tremaining: 877ms\n",
      "240:\tlearn: 0.2088777\ttotal: 278ms\tremaining: 874ms\n",
      "241:\tlearn: 0.2085654\ttotal: 279ms\tremaining: 872ms\n",
      "242:\tlearn: 0.2081962\ttotal: 279ms\tremaining: 870ms\n",
      "243:\tlearn: 0.2078413\ttotal: 280ms\tremaining: 868ms\n",
      "244:\tlearn: 0.2073661\ttotal: 281ms\tremaining: 867ms\n",
      "245:\tlearn: 0.2070050\ttotal: 282ms\tremaining: 864ms\n",
      "246:\tlearn: 0.2065859\ttotal: 283ms\tremaining: 862ms\n",
      "247:\tlearn: 0.2061347\ttotal: 284ms\tremaining: 860ms\n",
      "248:\tlearn: 0.2058297\ttotal: 285ms\tremaining: 858ms\n",
      "249:\tlearn: 0.2057642\ttotal: 285ms\tremaining: 856ms\n",
      "250:\tlearn: 0.2053746\ttotal: 286ms\tremaining: 854ms\n",
      "251:\tlearn: 0.2050746\ttotal: 287ms\tremaining: 852ms\n",
      "252:\tlearn: 0.2045479\ttotal: 288ms\tremaining: 850ms\n",
      "253:\tlearn: 0.2042235\ttotal: 290ms\tremaining: 850ms\n",
      "254:\tlearn: 0.2041166\ttotal: 290ms\tremaining: 848ms\n",
      "255:\tlearn: 0.2034016\ttotal: 291ms\tremaining: 846ms\n",
      "256:\tlearn: 0.2029602\ttotal: 292ms\tremaining: 845ms\n",
      "257:\tlearn: 0.2025515\ttotal: 293ms\tremaining: 843ms\n",
      "258:\tlearn: 0.2024953\ttotal: 294ms\tremaining: 841ms\n",
      "259:\tlearn: 0.2017922\ttotal: 295ms\tremaining: 839ms\n",
      "260:\tlearn: 0.2014492\ttotal: 296ms\tremaining: 837ms\n",
      "261:\tlearn: 0.2012301\ttotal: 297ms\tremaining: 835ms\n",
      "262:\tlearn: 0.2005828\ttotal: 297ms\tremaining: 834ms\n",
      "263:\tlearn: 0.2003611\ttotal: 298ms\tremaining: 832ms\n",
      "264:\tlearn: 0.1998893\ttotal: 299ms\tremaining: 830ms\n"
     ]
    },
    {
     "name": "stdout",
     "output_type": "stream",
     "text": [
      "265:\tlearn: 0.1994782\ttotal: 300ms\tremaining: 829ms\n",
      "266:\tlearn: 0.1992052\ttotal: 301ms\tremaining: 827ms\n",
      "267:\tlearn: 0.1989017\ttotal: 303ms\tremaining: 826ms\n",
      "268:\tlearn: 0.1985052\ttotal: 303ms\tremaining: 825ms\n",
      "269:\tlearn: 0.1982336\ttotal: 304ms\tremaining: 823ms\n",
      "270:\tlearn: 0.1979156\ttotal: 305ms\tremaining: 821ms\n",
      "271:\tlearn: 0.1975406\ttotal: 306ms\tremaining: 820ms\n",
      "272:\tlearn: 0.1969212\ttotal: 307ms\tremaining: 818ms\n",
      "273:\tlearn: 0.1964946\ttotal: 308ms\tremaining: 816ms\n",
      "274:\tlearn: 0.1964478\ttotal: 309ms\tremaining: 814ms\n",
      "275:\tlearn: 0.1958641\ttotal: 310ms\tremaining: 813ms\n",
      "276:\tlearn: 0.1954462\ttotal: 311ms\tremaining: 811ms\n",
      "277:\tlearn: 0.1950135\ttotal: 312ms\tremaining: 810ms\n",
      "278:\tlearn: 0.1941503\ttotal: 313ms\tremaining: 810ms\n",
      "279:\tlearn: 0.1936500\ttotal: 314ms\tremaining: 808ms\n",
      "280:\tlearn: 0.1932286\ttotal: 315ms\tremaining: 807ms\n",
      "281:\tlearn: 0.1931741\ttotal: 316ms\tremaining: 805ms\n",
      "282:\tlearn: 0.1928466\ttotal: 317ms\tremaining: 803ms\n",
      "283:\tlearn: 0.1922423\ttotal: 318ms\tremaining: 801ms\n",
      "284:\tlearn: 0.1916996\ttotal: 319ms\tremaining: 800ms\n",
      "285:\tlearn: 0.1911995\ttotal: 320ms\tremaining: 798ms\n",
      "286:\tlearn: 0.1905888\ttotal: 320ms\tremaining: 796ms\n",
      "287:\tlearn: 0.1903243\ttotal: 321ms\tremaining: 794ms\n",
      "288:\tlearn: 0.1901074\ttotal: 322ms\tremaining: 793ms\n",
      "289:\tlearn: 0.1894609\ttotal: 323ms\tremaining: 791ms\n",
      "290:\tlearn: 0.1890562\ttotal: 324ms\tremaining: 789ms\n",
      "291:\tlearn: 0.1887115\ttotal: 325ms\tremaining: 787ms\n",
      "292:\tlearn: 0.1884633\ttotal: 326ms\tremaining: 786ms\n",
      "293:\tlearn: 0.1879327\ttotal: 327ms\tremaining: 784ms\n",
      "294:\tlearn: 0.1875330\ttotal: 328ms\tremaining: 783ms\n",
      "295:\tlearn: 0.1870206\ttotal: 328ms\tremaining: 781ms\n",
      "296:\tlearn: 0.1868448\ttotal: 329ms\tremaining: 779ms\n",
      "297:\tlearn: 0.1863170\ttotal: 330ms\tremaining: 778ms\n",
      "298:\tlearn: 0.1859530\ttotal: 331ms\tremaining: 776ms\n",
      "299:\tlearn: 0.1855493\ttotal: 332ms\tremaining: 774ms\n",
      "300:\tlearn: 0.1848961\ttotal: 333ms\tremaining: 773ms\n",
      "301:\tlearn: 0.1844343\ttotal: 334ms\tremaining: 771ms\n",
      "302:\tlearn: 0.1840587\ttotal: 334ms\tremaining: 769ms\n",
      "303:\tlearn: 0.1835047\ttotal: 335ms\tremaining: 768ms\n",
      "304:\tlearn: 0.1829797\ttotal: 336ms\tremaining: 766ms\n",
      "305:\tlearn: 0.1827587\ttotal: 337ms\tremaining: 765ms\n",
      "306:\tlearn: 0.1823711\ttotal: 338ms\tremaining: 763ms\n",
      "307:\tlearn: 0.1822187\ttotal: 339ms\tremaining: 761ms\n",
      "308:\tlearn: 0.1819034\ttotal: 340ms\tremaining: 760ms\n",
      "309:\tlearn: 0.1816979\ttotal: 341ms\tremaining: 758ms\n",
      "310:\tlearn: 0.1811613\ttotal: 341ms\tremaining: 756ms\n",
      "311:\tlearn: 0.1808519\ttotal: 342ms\tremaining: 755ms\n",
      "312:\tlearn: 0.1803101\ttotal: 343ms\tremaining: 753ms\n",
      "313:\tlearn: 0.1799725\ttotal: 344ms\tremaining: 752ms\n",
      "314:\tlearn: 0.1796687\ttotal: 345ms\tremaining: 750ms\n",
      "315:\tlearn: 0.1791044\ttotal: 346ms\tremaining: 749ms\n",
      "316:\tlearn: 0.1786458\ttotal: 347ms\tremaining: 747ms\n",
      "317:\tlearn: 0.1782910\ttotal: 348ms\tremaining: 746ms\n",
      "318:\tlearn: 0.1778342\ttotal: 349ms\tremaining: 744ms\n",
      "319:\tlearn: 0.1774528\ttotal: 350ms\tremaining: 743ms\n",
      "320:\tlearn: 0.1770765\ttotal: 351ms\tremaining: 741ms\n",
      "321:\tlearn: 0.1766836\ttotal: 351ms\tremaining: 740ms\n",
      "322:\tlearn: 0.1762747\ttotal: 352ms\tremaining: 738ms\n",
      "323:\tlearn: 0.1759783\ttotal: 353ms\tremaining: 736ms\n",
      "324:\tlearn: 0.1755254\ttotal: 354ms\tremaining: 735ms\n",
      "325:\tlearn: 0.1751748\ttotal: 355ms\tremaining: 733ms\n",
      "326:\tlearn: 0.1746910\ttotal: 356ms\tremaining: 732ms\n",
      "327:\tlearn: 0.1742872\ttotal: 356ms\tremaining: 730ms\n",
      "328:\tlearn: 0.1737684\ttotal: 357ms\tremaining: 729ms\n",
      "329:\tlearn: 0.1733385\ttotal: 358ms\tremaining: 727ms\n",
      "330:\tlearn: 0.1731800\ttotal: 359ms\tremaining: 725ms\n",
      "331:\tlearn: 0.1728112\ttotal: 360ms\tremaining: 724ms\n",
      "332:\tlearn: 0.1724693\ttotal: 360ms\tremaining: 722ms\n",
      "333:\tlearn: 0.1722395\ttotal: 361ms\tremaining: 721ms\n",
      "334:\tlearn: 0.1718421\ttotal: 362ms\tremaining: 719ms\n",
      "335:\tlearn: 0.1714166\ttotal: 363ms\tremaining: 717ms\n",
      "336:\tlearn: 0.1710042\ttotal: 364ms\tremaining: 716ms\n",
      "337:\tlearn: 0.1706551\ttotal: 365ms\tremaining: 714ms\n",
      "338:\tlearn: 0.1702907\ttotal: 366ms\tremaining: 713ms\n",
      "339:\tlearn: 0.1699338\ttotal: 367ms\tremaining: 712ms\n",
      "340:\tlearn: 0.1695311\ttotal: 367ms\tremaining: 710ms\n",
      "341:\tlearn: 0.1692767\ttotal: 368ms\tremaining: 709ms\n",
      "342:\tlearn: 0.1689093\ttotal: 369ms\tremaining: 707ms\n",
      "343:\tlearn: 0.1685564\ttotal: 370ms\tremaining: 706ms\n",
      "344:\tlearn: 0.1681168\ttotal: 371ms\tremaining: 704ms\n",
      "345:\tlearn: 0.1680068\ttotal: 372ms\tremaining: 703ms\n",
      "346:\tlearn: 0.1675846\ttotal: 373ms\tremaining: 702ms\n",
      "347:\tlearn: 0.1673597\ttotal: 374ms\tremaining: 700ms\n",
      "348:\tlearn: 0.1668829\ttotal: 375ms\tremaining: 699ms\n",
      "349:\tlearn: 0.1664938\ttotal: 376ms\tremaining: 698ms\n",
      "350:\tlearn: 0.1661022\ttotal: 377ms\tremaining: 696ms\n",
      "351:\tlearn: 0.1656283\ttotal: 378ms\tremaining: 695ms\n",
      "352:\tlearn: 0.1653266\ttotal: 378ms\tremaining: 693ms\n",
      "353:\tlearn: 0.1650850\ttotal: 379ms\tremaining: 692ms\n",
      "354:\tlearn: 0.1648952\ttotal: 380ms\tremaining: 691ms\n",
      "355:\tlearn: 0.1646680\ttotal: 381ms\tremaining: 689ms\n",
      "356:\tlearn: 0.1646290\ttotal: 382ms\tremaining: 688ms\n"
     ]
    },
    {
     "name": "stdout",
     "output_type": "stream",
     "text": [
      "357:\tlearn: 0.1641172\ttotal: 383ms\tremaining: 687ms\n",
      "358:\tlearn: 0.1639308\ttotal: 384ms\tremaining: 686ms\n",
      "359:\tlearn: 0.1637282\ttotal: 385ms\tremaining: 685ms\n",
      "360:\tlearn: 0.1632946\ttotal: 386ms\tremaining: 683ms\n",
      "361:\tlearn: 0.1628007\ttotal: 387ms\tremaining: 682ms\n",
      "362:\tlearn: 0.1624672\ttotal: 388ms\tremaining: 680ms\n",
      "363:\tlearn: 0.1620547\ttotal: 389ms\tremaining: 679ms\n",
      "364:\tlearn: 0.1617689\ttotal: 390ms\tremaining: 678ms\n",
      "365:\tlearn: 0.1613889\ttotal: 390ms\tremaining: 676ms\n",
      "366:\tlearn: 0.1608495\ttotal: 391ms\tremaining: 675ms\n",
      "367:\tlearn: 0.1603629\ttotal: 392ms\tremaining: 673ms\n",
      "368:\tlearn: 0.1600011\ttotal: 393ms\tremaining: 672ms\n",
      "369:\tlearn: 0.1597212\ttotal: 394ms\tremaining: 671ms\n",
      "370:\tlearn: 0.1594137\ttotal: 395ms\tremaining: 669ms\n",
      "371:\tlearn: 0.1592277\ttotal: 395ms\tremaining: 668ms\n",
      "372:\tlearn: 0.1587814\ttotal: 396ms\tremaining: 666ms\n",
      "373:\tlearn: 0.1584302\ttotal: 397ms\tremaining: 665ms\n",
      "374:\tlearn: 0.1580953\ttotal: 398ms\tremaining: 663ms\n",
      "375:\tlearn: 0.1577463\ttotal: 399ms\tremaining: 662ms\n",
      "376:\tlearn: 0.1574051\ttotal: 400ms\tremaining: 661ms\n",
      "377:\tlearn: 0.1570568\ttotal: 401ms\tremaining: 659ms\n",
      "378:\tlearn: 0.1569508\ttotal: 401ms\tremaining: 658ms\n",
      "379:\tlearn: 0.1565002\ttotal: 402ms\tremaining: 657ms\n",
      "380:\tlearn: 0.1561690\ttotal: 403ms\tremaining: 655ms\n",
      "381:\tlearn: 0.1558540\ttotal: 404ms\tremaining: 654ms\n",
      "382:\tlearn: 0.1556205\ttotal: 405ms\tremaining: 652ms\n",
      "383:\tlearn: 0.1555897\ttotal: 406ms\tremaining: 651ms\n",
      "384:\tlearn: 0.1553721\ttotal: 407ms\tremaining: 650ms\n",
      "385:\tlearn: 0.1550784\ttotal: 408ms\tremaining: 648ms\n",
      "386:\tlearn: 0.1547667\ttotal: 408ms\tremaining: 647ms\n",
      "387:\tlearn: 0.1544354\ttotal: 409ms\tremaining: 646ms\n",
      "388:\tlearn: 0.1541812\ttotal: 410ms\tremaining: 644ms\n",
      "389:\tlearn: 0.1539193\ttotal: 411ms\tremaining: 643ms\n",
      "390:\tlearn: 0.1534805\ttotal: 412ms\tremaining: 642ms\n",
      "391:\tlearn: 0.1533216\ttotal: 413ms\tremaining: 640ms\n",
      "392:\tlearn: 0.1529350\ttotal: 414ms\tremaining: 639ms\n",
      "393:\tlearn: 0.1526704\ttotal: 415ms\tremaining: 638ms\n",
      "394:\tlearn: 0.1524173\ttotal: 416ms\tremaining: 636ms\n",
      "395:\tlearn: 0.1521004\ttotal: 416ms\tremaining: 635ms\n",
      "396:\tlearn: 0.1516221\ttotal: 417ms\tremaining: 634ms\n",
      "397:\tlearn: 0.1513281\ttotal: 418ms\tremaining: 633ms\n",
      "398:\tlearn: 0.1510456\ttotal: 419ms\tremaining: 631ms\n",
      "399:\tlearn: 0.1508197\ttotal: 420ms\tremaining: 630ms\n",
      "400:\tlearn: 0.1503551\ttotal: 421ms\tremaining: 629ms\n",
      "401:\tlearn: 0.1502185\ttotal: 422ms\tremaining: 627ms\n",
      "402:\tlearn: 0.1497743\ttotal: 423ms\tremaining: 626ms\n",
      "403:\tlearn: 0.1494375\ttotal: 423ms\tremaining: 625ms\n",
      "404:\tlearn: 0.1492302\ttotal: 424ms\tremaining: 623ms\n",
      "405:\tlearn: 0.1488721\ttotal: 425ms\tremaining: 622ms\n",
      "406:\tlearn: 0.1485913\ttotal: 426ms\tremaining: 621ms\n",
      "407:\tlearn: 0.1482149\ttotal: 427ms\tremaining: 619ms\n",
      "408:\tlearn: 0.1477153\ttotal: 428ms\tremaining: 618ms\n",
      "409:\tlearn: 0.1475646\ttotal: 429ms\tremaining: 617ms\n",
      "410:\tlearn: 0.1471884\ttotal: 430ms\tremaining: 616ms\n",
      "411:\tlearn: 0.1468812\ttotal: 431ms\tremaining: 615ms\n",
      "412:\tlearn: 0.1465244\ttotal: 431ms\tremaining: 613ms\n",
      "413:\tlearn: 0.1462126\ttotal: 432ms\tremaining: 612ms\n",
      "414:\tlearn: 0.1458666\ttotal: 433ms\tremaining: 611ms\n",
      "415:\tlearn: 0.1455575\ttotal: 434ms\tremaining: 610ms\n",
      "416:\tlearn: 0.1452512\ttotal: 435ms\tremaining: 608ms\n",
      "417:\tlearn: 0.1449330\ttotal: 436ms\tremaining: 607ms\n",
      "418:\tlearn: 0.1446090\ttotal: 437ms\tremaining: 606ms\n",
      "419:\tlearn: 0.1442396\ttotal: 438ms\tremaining: 605ms\n",
      "420:\tlearn: 0.1439062\ttotal: 439ms\tremaining: 603ms\n",
      "421:\tlearn: 0.1435757\ttotal: 439ms\tremaining: 602ms\n",
      "422:\tlearn: 0.1433153\ttotal: 441ms\tremaining: 601ms\n",
      "423:\tlearn: 0.1430540\ttotal: 441ms\tremaining: 600ms\n",
      "424:\tlearn: 0.1427165\ttotal: 442ms\tremaining: 598ms\n",
      "425:\tlearn: 0.1425201\ttotal: 443ms\tremaining: 597ms\n",
      "426:\tlearn: 0.1422897\ttotal: 444ms\tremaining: 596ms\n",
      "427:\tlearn: 0.1419144\ttotal: 445ms\tremaining: 595ms\n",
      "428:\tlearn: 0.1414453\ttotal: 446ms\tremaining: 593ms\n",
      "429:\tlearn: 0.1412254\ttotal: 447ms\tremaining: 592ms\n",
      "430:\tlearn: 0.1408792\ttotal: 448ms\tremaining: 591ms\n",
      "431:\tlearn: 0.1406092\ttotal: 448ms\tremaining: 590ms\n",
      "432:\tlearn: 0.1403797\ttotal: 449ms\tremaining: 588ms\n",
      "433:\tlearn: 0.1400079\ttotal: 450ms\tremaining: 587ms\n",
      "434:\tlearn: 0.1398893\ttotal: 451ms\tremaining: 586ms\n",
      "435:\tlearn: 0.1396014\ttotal: 452ms\tremaining: 585ms\n",
      "436:\tlearn: 0.1393119\ttotal: 453ms\tremaining: 583ms\n",
      "437:\tlearn: 0.1388489\ttotal: 454ms\tremaining: 582ms\n",
      "438:\tlearn: 0.1388220\ttotal: 455ms\tremaining: 581ms\n",
      "439:\tlearn: 0.1385493\ttotal: 456ms\tremaining: 580ms\n",
      "440:\tlearn: 0.1382877\ttotal: 456ms\tremaining: 579ms\n",
      "441:\tlearn: 0.1377783\ttotal: 457ms\tremaining: 577ms\n",
      "442:\tlearn: 0.1376194\ttotal: 458ms\tremaining: 576ms\n",
      "443:\tlearn: 0.1373187\ttotal: 459ms\tremaining: 575ms\n",
      "444:\tlearn: 0.1368443\ttotal: 460ms\tremaining: 574ms\n",
      "445:\tlearn: 0.1365692\ttotal: 461ms\tremaining: 572ms\n",
      "446:\tlearn: 0.1364025\ttotal: 462ms\tremaining: 571ms\n",
      "447:\tlearn: 0.1363769\ttotal: 462ms\tremaining: 570ms\n",
      "448:\tlearn: 0.1360969\ttotal: 463ms\tremaining: 569ms\n",
      "449:\tlearn: 0.1358314\ttotal: 464ms\tremaining: 567ms\n",
      "450:\tlearn: 0.1353744\ttotal: 465ms\tremaining: 566ms\n",
      "451:\tlearn: 0.1350879\ttotal: 466ms\tremaining: 565ms\n",
      "452:\tlearn: 0.1348458\ttotal: 467ms\tremaining: 564ms\n",
      "453:\tlearn: 0.1346998\ttotal: 468ms\tremaining: 563ms\n",
      "454:\tlearn: 0.1344819\ttotal: 469ms\tremaining: 562ms\n",
      "455:\tlearn: 0.1342126\ttotal: 470ms\tremaining: 561ms\n",
      "456:\tlearn: 0.1339071\ttotal: 471ms\tremaining: 560ms\n",
      "457:\tlearn: 0.1335051\ttotal: 472ms\tremaining: 559ms\n",
      "458:\tlearn: 0.1331908\ttotal: 473ms\tremaining: 558ms\n",
      "459:\tlearn: 0.1331667\ttotal: 474ms\tremaining: 557ms\n",
      "460:\tlearn: 0.1330254\ttotal: 475ms\tremaining: 555ms\n",
      "461:\tlearn: 0.1326527\ttotal: 476ms\tremaining: 554ms\n",
      "462:\tlearn: 0.1322981\ttotal: 477ms\tremaining: 553ms\n",
      "463:\tlearn: 0.1320182\ttotal: 478ms\tremaining: 552ms\n",
      "464:\tlearn: 0.1318233\ttotal: 479ms\tremaining: 551ms\n",
      "465:\tlearn: 0.1317987\ttotal: 480ms\tremaining: 550ms\n",
      "466:\tlearn: 0.1315656\ttotal: 481ms\tremaining: 549ms\n",
      "467:\tlearn: 0.1312437\ttotal: 482ms\tremaining: 548ms\n",
      "468:\tlearn: 0.1309973\ttotal: 483ms\tremaining: 546ms\n",
      "469:\tlearn: 0.1307009\ttotal: 483ms\tremaining: 545ms\n",
      "470:\tlearn: 0.1304546\ttotal: 484ms\tremaining: 544ms\n",
      "471:\tlearn: 0.1302002\ttotal: 485ms\tremaining: 543ms\n",
      "472:\tlearn: 0.1299889\ttotal: 486ms\tremaining: 541ms\n",
      "473:\tlearn: 0.1295971\ttotal: 487ms\tremaining: 540ms\n",
      "474:\tlearn: 0.1293709\ttotal: 488ms\tremaining: 539ms\n",
      "475:\tlearn: 0.1291419\ttotal: 489ms\tremaining: 538ms\n",
      "476:\tlearn: 0.1289383\ttotal: 490ms\tremaining: 537ms\n",
      "477:\tlearn: 0.1287606\ttotal: 491ms\tremaining: 536ms\n"
     ]
    },
    {
     "name": "stdout",
     "output_type": "stream",
     "text": [
      "478:\tlearn: 0.1286532\ttotal: 492ms\tremaining: 535ms\n",
      "479:\tlearn: 0.1282926\ttotal: 493ms\tremaining: 534ms\n",
      "480:\tlearn: 0.1281502\ttotal: 494ms\tremaining: 533ms\n",
      "481:\tlearn: 0.1279705\ttotal: 494ms\tremaining: 531ms\n",
      "482:\tlearn: 0.1278207\ttotal: 495ms\tremaining: 530ms\n",
      "483:\tlearn: 0.1276444\ttotal: 496ms\tremaining: 529ms\n",
      "484:\tlearn: 0.1273788\ttotal: 497ms\tremaining: 528ms\n",
      "485:\tlearn: 0.1272912\ttotal: 498ms\tremaining: 527ms\n",
      "486:\tlearn: 0.1271524\ttotal: 499ms\tremaining: 526ms\n",
      "487:\tlearn: 0.1269287\ttotal: 500ms\tremaining: 525ms\n",
      "488:\tlearn: 0.1267062\ttotal: 501ms\tremaining: 523ms\n",
      "489:\tlearn: 0.1264643\ttotal: 502ms\tremaining: 522ms\n",
      "490:\tlearn: 0.1262413\ttotal: 503ms\tremaining: 521ms\n",
      "491:\tlearn: 0.1259598\ttotal: 504ms\tremaining: 520ms\n",
      "492:\tlearn: 0.1257883\ttotal: 504ms\tremaining: 519ms\n",
      "493:\tlearn: 0.1256006\ttotal: 505ms\tremaining: 518ms\n",
      "494:\tlearn: 0.1253781\ttotal: 506ms\tremaining: 516ms\n",
      "495:\tlearn: 0.1250402\ttotal: 507ms\tremaining: 515ms\n",
      "496:\tlearn: 0.1250201\ttotal: 508ms\tremaining: 514ms\n",
      "497:\tlearn: 0.1248358\ttotal: 509ms\tremaining: 513ms\n",
      "498:\tlearn: 0.1247670\ttotal: 510ms\tremaining: 512ms\n",
      "499:\tlearn: 0.1244140\ttotal: 511ms\tremaining: 511ms\n",
      "500:\tlearn: 0.1241717\ttotal: 512ms\tremaining: 509ms\n",
      "501:\tlearn: 0.1238912\ttotal: 512ms\tremaining: 508ms\n",
      "502:\tlearn: 0.1235387\ttotal: 513ms\tremaining: 507ms\n",
      "503:\tlearn: 0.1232598\ttotal: 514ms\tremaining: 506ms\n",
      "504:\tlearn: 0.1230831\ttotal: 515ms\tremaining: 505ms\n",
      "505:\tlearn: 0.1227344\ttotal: 516ms\tremaining: 504ms\n",
      "506:\tlearn: 0.1225971\ttotal: 517ms\tremaining: 503ms\n",
      "507:\tlearn: 0.1223542\ttotal: 518ms\tremaining: 502ms\n",
      "508:\tlearn: 0.1221916\ttotal: 519ms\tremaining: 501ms\n",
      "509:\tlearn: 0.1219619\ttotal: 520ms\tremaining: 499ms\n",
      "510:\tlearn: 0.1217580\ttotal: 521ms\tremaining: 498ms\n",
      "511:\tlearn: 0.1217407\ttotal: 521ms\tremaining: 497ms\n",
      "512:\tlearn: 0.1212930\ttotal: 522ms\tremaining: 496ms\n",
      "513:\tlearn: 0.1211483\ttotal: 523ms\tremaining: 495ms\n",
      "514:\tlearn: 0.1211176\ttotal: 524ms\tremaining: 494ms\n",
      "515:\tlearn: 0.1210985\ttotal: 525ms\tremaining: 493ms\n",
      "516:\tlearn: 0.1208707\ttotal: 526ms\tremaining: 491ms\n",
      "517:\tlearn: 0.1207111\ttotal: 527ms\tremaining: 490ms\n",
      "518:\tlearn: 0.1205096\ttotal: 528ms\tremaining: 489ms\n",
      "519:\tlearn: 0.1202297\ttotal: 529ms\tremaining: 488ms\n",
      "520:\tlearn: 0.1200710\ttotal: 530ms\tremaining: 487ms\n",
      "521:\tlearn: 0.1197945\ttotal: 531ms\tremaining: 486ms\n",
      "522:\tlearn: 0.1195695\ttotal: 531ms\tremaining: 485ms\n",
      "523:\tlearn: 0.1193229\ttotal: 532ms\tremaining: 483ms\n",
      "524:\tlearn: 0.1192023\ttotal: 533ms\tremaining: 482ms\n",
      "525:\tlearn: 0.1190112\ttotal: 534ms\tremaining: 481ms\n",
      "526:\tlearn: 0.1187537\ttotal: 535ms\tremaining: 480ms\n",
      "527:\tlearn: 0.1185571\ttotal: 536ms\tremaining: 479ms\n",
      "528:\tlearn: 0.1183465\ttotal: 537ms\tremaining: 478ms\n",
      "529:\tlearn: 0.1180076\ttotal: 537ms\tremaining: 477ms\n",
      "530:\tlearn: 0.1179892\ttotal: 538ms\tremaining: 476ms\n",
      "531:\tlearn: 0.1177396\ttotal: 539ms\tremaining: 474ms\n",
      "532:\tlearn: 0.1174558\ttotal: 540ms\tremaining: 473ms\n",
      "533:\tlearn: 0.1172488\ttotal: 541ms\tremaining: 472ms\n",
      "534:\tlearn: 0.1170907\ttotal: 542ms\tremaining: 471ms\n",
      "535:\tlearn: 0.1168667\ttotal: 543ms\tremaining: 470ms\n",
      "536:\tlearn: 0.1166646\ttotal: 544ms\tremaining: 469ms\n",
      "537:\tlearn: 0.1163990\ttotal: 545ms\tremaining: 468ms\n",
      "538:\tlearn: 0.1162368\ttotal: 546ms\tremaining: 467ms\n",
      "539:\tlearn: 0.1160950\ttotal: 546ms\tremaining: 465ms\n",
      "540:\tlearn: 0.1159851\ttotal: 547ms\tremaining: 464ms\n",
      "541:\tlearn: 0.1158036\ttotal: 548ms\tremaining: 463ms\n",
      "542:\tlearn: 0.1156455\ttotal: 549ms\tremaining: 462ms\n",
      "543:\tlearn: 0.1153622\ttotal: 550ms\tremaining: 461ms\n",
      "544:\tlearn: 0.1150994\ttotal: 551ms\tremaining: 460ms\n",
      "545:\tlearn: 0.1149511\ttotal: 552ms\tremaining: 459ms\n",
      "546:\tlearn: 0.1146448\ttotal: 553ms\tremaining: 458ms\n",
      "547:\tlearn: 0.1143087\ttotal: 553ms\tremaining: 456ms\n",
      "548:\tlearn: 0.1139642\ttotal: 554ms\tremaining: 455ms\n",
      "549:\tlearn: 0.1135636\ttotal: 555ms\tremaining: 454ms\n",
      "550:\tlearn: 0.1133618\ttotal: 556ms\tremaining: 453ms\n",
      "551:\tlearn: 0.1132934\ttotal: 557ms\tremaining: 452ms\n",
      "552:\tlearn: 0.1131357\ttotal: 558ms\tremaining: 451ms\n",
      "553:\tlearn: 0.1130091\ttotal: 559ms\tremaining: 450ms\n",
      "554:\tlearn: 0.1127736\ttotal: 560ms\tremaining: 449ms\n",
      "555:\tlearn: 0.1124861\ttotal: 560ms\tremaining: 448ms\n",
      "556:\tlearn: 0.1122522\ttotal: 561ms\tremaining: 446ms\n",
      "557:\tlearn: 0.1121089\ttotal: 562ms\tremaining: 445ms\n",
      "558:\tlearn: 0.1119319\ttotal: 563ms\tremaining: 444ms\n",
      "559:\tlearn: 0.1117714\ttotal: 564ms\tremaining: 443ms\n",
      "560:\tlearn: 0.1116472\ttotal: 565ms\tremaining: 442ms\n",
      "561:\tlearn: 0.1115204\ttotal: 566ms\tremaining: 441ms\n",
      "562:\tlearn: 0.1113335\ttotal: 567ms\tremaining: 440ms\n",
      "563:\tlearn: 0.1111305\ttotal: 567ms\tremaining: 439ms\n",
      "564:\tlearn: 0.1109593\ttotal: 568ms\tremaining: 437ms\n",
      "565:\tlearn: 0.1108841\ttotal: 570ms\tremaining: 437ms\n",
      "566:\tlearn: 0.1106167\ttotal: 571ms\tremaining: 436ms\n",
      "567:\tlearn: 0.1104118\ttotal: 572ms\tremaining: 435ms\n",
      "568:\tlearn: 0.1103185\ttotal: 573ms\tremaining: 434ms\n",
      "569:\tlearn: 0.1101372\ttotal: 573ms\tremaining: 433ms\n"
     ]
    },
    {
     "name": "stdout",
     "output_type": "stream",
     "text": [
      "570:\tlearn: 0.1100215\ttotal: 575ms\tremaining: 432ms\n",
      "571:\tlearn: 0.1100064\ttotal: 576ms\tremaining: 431ms\n",
      "572:\tlearn: 0.1097517\ttotal: 577ms\tremaining: 430ms\n",
      "573:\tlearn: 0.1095913\ttotal: 577ms\tremaining: 429ms\n",
      "574:\tlearn: 0.1093678\ttotal: 578ms\tremaining: 427ms\n",
      "575:\tlearn: 0.1092708\ttotal: 579ms\tremaining: 426ms\n",
      "576:\tlearn: 0.1091347\ttotal: 580ms\tremaining: 425ms\n",
      "577:\tlearn: 0.1089715\ttotal: 581ms\tremaining: 424ms\n",
      "578:\tlearn: 0.1087540\ttotal: 582ms\tremaining: 423ms\n",
      "579:\tlearn: 0.1085887\ttotal: 583ms\tremaining: 422ms\n",
      "580:\tlearn: 0.1085757\ttotal: 584ms\tremaining: 421ms\n",
      "581:\tlearn: 0.1084040\ttotal: 584ms\tremaining: 420ms\n",
      "582:\tlearn: 0.1081679\ttotal: 585ms\tremaining: 419ms\n",
      "583:\tlearn: 0.1080933\ttotal: 586ms\tremaining: 418ms\n",
      "584:\tlearn: 0.1080815\ttotal: 587ms\tremaining: 416ms\n",
      "585:\tlearn: 0.1079864\ttotal: 588ms\tremaining: 415ms\n",
      "586:\tlearn: 0.1078685\ttotal: 589ms\tremaining: 414ms\n",
      "587:\tlearn: 0.1076289\ttotal: 590ms\tremaining: 413ms\n",
      "588:\tlearn: 0.1073538\ttotal: 591ms\tremaining: 412ms\n",
      "589:\tlearn: 0.1071604\ttotal: 592ms\tremaining: 411ms\n",
      "590:\tlearn: 0.1068877\ttotal: 593ms\tremaining: 410ms\n",
      "591:\tlearn: 0.1066852\ttotal: 594ms\tremaining: 409ms\n",
      "592:\tlearn: 0.1066718\ttotal: 594ms\tremaining: 408ms\n",
      "593:\tlearn: 0.1065049\ttotal: 596ms\tremaining: 407ms\n",
      "594:\tlearn: 0.1062858\ttotal: 597ms\tremaining: 406ms\n",
      "595:\tlearn: 0.1060785\ttotal: 598ms\tremaining: 405ms\n",
      "596:\tlearn: 0.1059363\ttotal: 599ms\tremaining: 404ms\n",
      "597:\tlearn: 0.1056480\ttotal: 600ms\tremaining: 403ms\n",
      "598:\tlearn: 0.1055383\ttotal: 600ms\tremaining: 402ms\n",
      "599:\tlearn: 0.1054712\ttotal: 601ms\tremaining: 401ms\n",
      "600:\tlearn: 0.1053495\ttotal: 602ms\tremaining: 400ms\n",
      "601:\tlearn: 0.1052152\ttotal: 603ms\tremaining: 399ms\n",
      "602:\tlearn: 0.1049433\ttotal: 604ms\tremaining: 398ms\n",
      "603:\tlearn: 0.1048387\ttotal: 605ms\tremaining: 397ms\n",
      "604:\tlearn: 0.1046199\ttotal: 606ms\tremaining: 396ms\n",
      "605:\tlearn: 0.1044475\ttotal: 607ms\tremaining: 395ms\n",
      "606:\tlearn: 0.1043168\ttotal: 608ms\tremaining: 394ms\n",
      "607:\tlearn: 0.1040131\ttotal: 609ms\tremaining: 393ms\n",
      "608:\tlearn: 0.1038664\ttotal: 610ms\tremaining: 392ms\n",
      "609:\tlearn: 0.1036725\ttotal: 611ms\tremaining: 390ms\n",
      "610:\tlearn: 0.1034888\ttotal: 612ms\tremaining: 389ms\n",
      "611:\tlearn: 0.1033638\ttotal: 613ms\tremaining: 388ms\n",
      "612:\tlearn: 0.1032550\ttotal: 613ms\tremaining: 387ms\n",
      "613:\tlearn: 0.1031454\ttotal: 614ms\tremaining: 386ms\n",
      "614:\tlearn: 0.1029769\ttotal: 615ms\tremaining: 385ms\n",
      "615:\tlearn: 0.1028043\ttotal: 616ms\tremaining: 384ms\n",
      "616:\tlearn: 0.1026370\ttotal: 617ms\tremaining: 383ms\n",
      "617:\tlearn: 0.1025323\ttotal: 618ms\tremaining: 382ms\n",
      "618:\tlearn: 0.1023514\ttotal: 619ms\tremaining: 381ms\n",
      "619:\tlearn: 0.1022225\ttotal: 620ms\tremaining: 380ms\n",
      "620:\tlearn: 0.1021299\ttotal: 620ms\tremaining: 379ms\n",
      "621:\tlearn: 0.1019456\ttotal: 621ms\tremaining: 378ms\n",
      "622:\tlearn: 0.1018672\ttotal: 622ms\tremaining: 377ms\n",
      "623:\tlearn: 0.1016847\ttotal: 623ms\tremaining: 376ms\n",
      "624:\tlearn: 0.1015562\ttotal: 624ms\tremaining: 374ms\n",
      "625:\tlearn: 0.1014933\ttotal: 625ms\tremaining: 373ms\n",
      "626:\tlearn: 0.1012635\ttotal: 626ms\tremaining: 372ms\n",
      "627:\tlearn: 0.1010956\ttotal: 627ms\tremaining: 371ms\n",
      "628:\tlearn: 0.1009388\ttotal: 628ms\tremaining: 370ms\n",
      "629:\tlearn: 0.1007866\ttotal: 629ms\tremaining: 369ms\n",
      "630:\tlearn: 0.1006709\ttotal: 630ms\tremaining: 368ms\n",
      "631:\tlearn: 0.1005417\ttotal: 630ms\tremaining: 367ms\n",
      "632:\tlearn: 0.1004141\ttotal: 631ms\tremaining: 366ms\n",
      "633:\tlearn: 0.1004023\ttotal: 632ms\tremaining: 365ms\n",
      "634:\tlearn: 0.1002684\ttotal: 633ms\tremaining: 364ms\n",
      "635:\tlearn: 0.1001878\ttotal: 634ms\tremaining: 363ms\n",
      "636:\tlearn: 0.1000983\ttotal: 635ms\tremaining: 362ms\n",
      "637:\tlearn: 0.1000202\ttotal: 636ms\tremaining: 361ms\n",
      "638:\tlearn: 0.0998676\ttotal: 637ms\tremaining: 360ms\n",
      "639:\tlearn: 0.0997017\ttotal: 638ms\tremaining: 359ms\n",
      "640:\tlearn: 0.0995986\ttotal: 638ms\tremaining: 358ms\n",
      "641:\tlearn: 0.0994980\ttotal: 639ms\tremaining: 357ms\n",
      "642:\tlearn: 0.0994492\ttotal: 640ms\tremaining: 355ms\n",
      "643:\tlearn: 0.0993473\ttotal: 641ms\tremaining: 354ms\n",
      "644:\tlearn: 0.0993358\ttotal: 642ms\tremaining: 353ms\n",
      "645:\tlearn: 0.0992543\ttotal: 643ms\tremaining: 352ms\n",
      "646:\tlearn: 0.0991683\ttotal: 644ms\tremaining: 351ms\n",
      "647:\tlearn: 0.0990605\ttotal: 645ms\tremaining: 350ms\n",
      "648:\tlearn: 0.0989616\ttotal: 646ms\tremaining: 349ms\n",
      "649:\tlearn: 0.0989508\ttotal: 646ms\tremaining: 348ms\n",
      "650:\tlearn: 0.0988298\ttotal: 647ms\tremaining: 347ms\n",
      "651:\tlearn: 0.0987156\ttotal: 648ms\tremaining: 346ms\n",
      "652:\tlearn: 0.0985362\ttotal: 649ms\tremaining: 345ms\n",
      "653:\tlearn: 0.0984220\ttotal: 650ms\tremaining: 344ms\n",
      "654:\tlearn: 0.0982469\ttotal: 651ms\tremaining: 343ms\n",
      "655:\tlearn: 0.0981809\ttotal: 652ms\tremaining: 342ms\n",
      "656:\tlearn: 0.0980253\ttotal: 652ms\tremaining: 341ms\n",
      "657:\tlearn: 0.0978862\ttotal: 653ms\tremaining: 340ms\n",
      "658:\tlearn: 0.0977442\ttotal: 654ms\tremaining: 339ms\n",
      "659:\tlearn: 0.0976704\ttotal: 655ms\tremaining: 338ms\n",
      "660:\tlearn: 0.0974943\ttotal: 656ms\tremaining: 336ms\n",
      "661:\tlearn: 0.0973348\ttotal: 657ms\tremaining: 335ms\n",
      "662:\tlearn: 0.0971967\ttotal: 658ms\tremaining: 334ms\n",
      "663:\tlearn: 0.0969221\ttotal: 659ms\tremaining: 333ms\n",
      "664:\tlearn: 0.0968124\ttotal: 660ms\tremaining: 332ms\n",
      "665:\tlearn: 0.0966042\ttotal: 661ms\tremaining: 331ms\n",
      "666:\tlearn: 0.0965334\ttotal: 661ms\tremaining: 330ms\n",
      "667:\tlearn: 0.0964293\ttotal: 662ms\tremaining: 329ms\n",
      "668:\tlearn: 0.0962468\ttotal: 663ms\tremaining: 328ms\n",
      "669:\tlearn: 0.0961761\ttotal: 664ms\tremaining: 327ms\n",
      "670:\tlearn: 0.0960459\ttotal: 665ms\tremaining: 326ms\n",
      "671:\tlearn: 0.0958961\ttotal: 666ms\tremaining: 325ms\n",
      "672:\tlearn: 0.0956665\ttotal: 667ms\tremaining: 324ms\n",
      "673:\tlearn: 0.0955907\ttotal: 668ms\tremaining: 323ms\n",
      "674:\tlearn: 0.0954938\ttotal: 669ms\tremaining: 322ms\n",
      "675:\tlearn: 0.0953271\ttotal: 670ms\tremaining: 321ms\n",
      "676:\tlearn: 0.0951623\ttotal: 671ms\tremaining: 320ms\n",
      "677:\tlearn: 0.0950182\ttotal: 672ms\tremaining: 319ms\n",
      "678:\tlearn: 0.0948879\ttotal: 673ms\tremaining: 318ms\n",
      "679:\tlearn: 0.0947439\ttotal: 674ms\tremaining: 317ms\n",
      "680:\tlearn: 0.0945748\ttotal: 675ms\tremaining: 316ms\n",
      "681:\tlearn: 0.0943889\ttotal: 676ms\tremaining: 315ms\n",
      "682:\tlearn: 0.0942939\ttotal: 677ms\tremaining: 314ms\n",
      "683:\tlearn: 0.0941891\ttotal: 677ms\tremaining: 313ms\n",
      "684:\tlearn: 0.0940155\ttotal: 678ms\tremaining: 312ms\n",
      "685:\tlearn: 0.0938939\ttotal: 680ms\tremaining: 311ms\n",
      "686:\tlearn: 0.0938798\ttotal: 681ms\tremaining: 310ms\n",
      "687:\tlearn: 0.0938119\ttotal: 682ms\tremaining: 309ms\n"
     ]
    },
    {
     "name": "stdout",
     "output_type": "stream",
     "text": [
      "688:\tlearn: 0.0935976\ttotal: 683ms\tremaining: 308ms\n",
      "689:\tlearn: 0.0933927\ttotal: 684ms\tremaining: 307ms\n",
      "690:\tlearn: 0.0932591\ttotal: 685ms\tremaining: 306ms\n",
      "691:\tlearn: 0.0931940\ttotal: 685ms\tremaining: 305ms\n",
      "692:\tlearn: 0.0931851\ttotal: 686ms\tremaining: 304ms\n",
      "693:\tlearn: 0.0929988\ttotal: 687ms\tremaining: 303ms\n",
      "694:\tlearn: 0.0929115\ttotal: 688ms\tremaining: 302ms\n",
      "695:\tlearn: 0.0927003\ttotal: 689ms\tremaining: 301ms\n",
      "696:\tlearn: 0.0926042\ttotal: 690ms\tremaining: 300ms\n",
      "697:\tlearn: 0.0924905\ttotal: 691ms\tremaining: 299ms\n",
      "698:\tlearn: 0.0922922\ttotal: 692ms\tremaining: 298ms\n",
      "699:\tlearn: 0.0922301\ttotal: 692ms\tremaining: 297ms\n",
      "700:\tlearn: 0.0919894\ttotal: 693ms\tremaining: 296ms\n",
      "701:\tlearn: 0.0918868\ttotal: 694ms\tremaining: 295ms\n",
      "702:\tlearn: 0.0916900\ttotal: 695ms\tremaining: 294ms\n",
      "703:\tlearn: 0.0915885\ttotal: 696ms\tremaining: 293ms\n",
      "704:\tlearn: 0.0913564\ttotal: 697ms\tremaining: 291ms\n",
      "705:\tlearn: 0.0913056\ttotal: 698ms\tremaining: 290ms\n",
      "706:\tlearn: 0.0912354\ttotal: 698ms\tremaining: 289ms\n",
      "707:\tlearn: 0.0911446\ttotal: 699ms\tremaining: 288ms\n",
      "708:\tlearn: 0.0910241\ttotal: 700ms\tremaining: 287ms\n",
      "709:\tlearn: 0.0908914\ttotal: 701ms\tremaining: 286ms\n",
      "710:\tlearn: 0.0907984\ttotal: 702ms\tremaining: 285ms\n",
      "711:\tlearn: 0.0906862\ttotal: 703ms\tremaining: 284ms\n",
      "712:\tlearn: 0.0905407\ttotal: 704ms\tremaining: 283ms\n",
      "713:\tlearn: 0.0904538\ttotal: 705ms\tremaining: 282ms\n",
      "714:\tlearn: 0.0903759\ttotal: 706ms\tremaining: 281ms\n",
      "715:\tlearn: 0.0902701\ttotal: 707ms\tremaining: 280ms\n",
      "716:\tlearn: 0.0901529\ttotal: 708ms\tremaining: 279ms\n",
      "717:\tlearn: 0.0900988\ttotal: 709ms\tremaining: 278ms\n",
      "718:\tlearn: 0.0899775\ttotal: 710ms\tremaining: 277ms\n",
      "719:\tlearn: 0.0897482\ttotal: 710ms\tremaining: 276ms\n",
      "720:\tlearn: 0.0895998\ttotal: 711ms\tremaining: 275ms\n",
      "721:\tlearn: 0.0895450\ttotal: 712ms\tremaining: 274ms\n",
      "722:\tlearn: 0.0894350\ttotal: 713ms\tremaining: 273ms\n",
      "723:\tlearn: 0.0893079\ttotal: 714ms\tremaining: 272ms\n",
      "724:\tlearn: 0.0891834\ttotal: 715ms\tremaining: 271ms\n",
      "725:\tlearn: 0.0890679\ttotal: 716ms\tremaining: 270ms\n",
      "726:\tlearn: 0.0888491\ttotal: 716ms\tremaining: 269ms\n",
      "727:\tlearn: 0.0887347\ttotal: 717ms\tremaining: 268ms\n",
      "728:\tlearn: 0.0885657\ttotal: 718ms\tremaining: 267ms\n",
      "729:\tlearn: 0.0883957\ttotal: 719ms\tremaining: 266ms\n",
      "730:\tlearn: 0.0882383\ttotal: 720ms\tremaining: 265ms\n",
      "731:\tlearn: 0.0880116\ttotal: 721ms\tremaining: 264ms\n",
      "732:\tlearn: 0.0879390\ttotal: 722ms\tremaining: 263ms\n",
      "733:\tlearn: 0.0878673\ttotal: 723ms\tremaining: 262ms\n",
      "734:\tlearn: 0.0877879\ttotal: 723ms\tremaining: 261ms\n",
      "735:\tlearn: 0.0876570\ttotal: 724ms\tremaining: 260ms\n",
      "736:\tlearn: 0.0875539\ttotal: 725ms\tremaining: 259ms\n",
      "737:\tlearn: 0.0874508\ttotal: 726ms\tremaining: 258ms\n",
      "738:\tlearn: 0.0873832\ttotal: 727ms\tremaining: 257ms\n",
      "739:\tlearn: 0.0873332\ttotal: 728ms\tremaining: 256ms\n",
      "740:\tlearn: 0.0872192\ttotal: 729ms\tremaining: 255ms\n",
      "741:\tlearn: 0.0871446\ttotal: 730ms\tremaining: 254ms\n",
      "742:\tlearn: 0.0869949\ttotal: 730ms\tremaining: 253ms\n",
      "743:\tlearn: 0.0868753\ttotal: 731ms\tremaining: 252ms\n",
      "744:\tlearn: 0.0866975\ttotal: 733ms\tremaining: 251ms\n",
      "745:\tlearn: 0.0866093\ttotal: 734ms\tremaining: 250ms\n",
      "746:\tlearn: 0.0864714\ttotal: 735ms\tremaining: 249ms\n",
      "747:\tlearn: 0.0864617\ttotal: 736ms\tremaining: 248ms\n",
      "748:\tlearn: 0.0863453\ttotal: 737ms\tremaining: 247ms\n",
      "749:\tlearn: 0.0862612\ttotal: 738ms\tremaining: 246ms\n",
      "750:\tlearn: 0.0862519\ttotal: 739ms\tremaining: 245ms\n",
      "751:\tlearn: 0.0861267\ttotal: 740ms\tremaining: 244ms\n",
      "752:\tlearn: 0.0861181\ttotal: 741ms\tremaining: 243ms\n",
      "753:\tlearn: 0.0859681\ttotal: 742ms\tremaining: 242ms\n",
      "754:\tlearn: 0.0858378\ttotal: 743ms\tremaining: 241ms\n",
      "755:\tlearn: 0.0857829\ttotal: 744ms\tremaining: 240ms\n",
      "756:\tlearn: 0.0856830\ttotal: 745ms\tremaining: 239ms\n",
      "757:\tlearn: 0.0855997\ttotal: 746ms\tremaining: 238ms\n",
      "758:\tlearn: 0.0855118\ttotal: 746ms\tremaining: 237ms\n",
      "759:\tlearn: 0.0855043\ttotal: 747ms\tremaining: 236ms\n",
      "760:\tlearn: 0.0853567\ttotal: 748ms\tremaining: 235ms\n",
      "761:\tlearn: 0.0852784\ttotal: 749ms\tremaining: 234ms\n",
      "762:\tlearn: 0.0851528\ttotal: 750ms\tremaining: 233ms\n",
      "763:\tlearn: 0.0850669\ttotal: 751ms\tremaining: 232ms\n",
      "764:\tlearn: 0.0848501\ttotal: 752ms\tremaining: 231ms\n",
      "765:\tlearn: 0.0847296\ttotal: 753ms\tremaining: 230ms\n",
      "766:\tlearn: 0.0846749\ttotal: 754ms\tremaining: 229ms\n",
      "767:\tlearn: 0.0845153\ttotal: 754ms\tremaining: 228ms\n",
      "768:\tlearn: 0.0844211\ttotal: 755ms\tremaining: 227ms\n",
      "769:\tlearn: 0.0843096\ttotal: 756ms\tremaining: 226ms\n",
      "770:\tlearn: 0.0841891\ttotal: 757ms\tremaining: 225ms\n",
      "771:\tlearn: 0.0841275\ttotal: 758ms\tremaining: 224ms\n",
      "772:\tlearn: 0.0840771\ttotal: 759ms\tremaining: 223ms\n",
      "773:\tlearn: 0.0838644\ttotal: 760ms\tremaining: 222ms\n",
      "774:\tlearn: 0.0837904\ttotal: 760ms\tremaining: 221ms\n",
      "775:\tlearn: 0.0837072\ttotal: 761ms\tremaining: 220ms\n",
      "776:\tlearn: 0.0836211\ttotal: 762ms\tremaining: 219ms\n",
      "777:\tlearn: 0.0834990\ttotal: 763ms\tremaining: 218ms\n",
      "778:\tlearn: 0.0833040\ttotal: 764ms\tremaining: 217ms\n",
      "779:\tlearn: 0.0832535\ttotal: 765ms\tremaining: 216ms\n"
     ]
    },
    {
     "name": "stdout",
     "output_type": "stream",
     "text": [
      "780:\tlearn: 0.0831716\ttotal: 766ms\tremaining: 215ms\n",
      "781:\tlearn: 0.0830457\ttotal: 767ms\tremaining: 214ms\n",
      "782:\tlearn: 0.0828764\ttotal: 768ms\tremaining: 213ms\n",
      "783:\tlearn: 0.0826774\ttotal: 769ms\tremaining: 212ms\n",
      "784:\tlearn: 0.0826194\ttotal: 770ms\tremaining: 211ms\n",
      "785:\tlearn: 0.0825393\ttotal: 771ms\tremaining: 210ms\n",
      "786:\tlearn: 0.0824194\ttotal: 771ms\tremaining: 209ms\n",
      "787:\tlearn: 0.0822808\ttotal: 772ms\tremaining: 208ms\n",
      "788:\tlearn: 0.0820261\ttotal: 773ms\tremaining: 207ms\n",
      "789:\tlearn: 0.0820186\ttotal: 774ms\tremaining: 206ms\n",
      "790:\tlearn: 0.0818593\ttotal: 775ms\tremaining: 205ms\n",
      "791:\tlearn: 0.0817403\ttotal: 776ms\tremaining: 204ms\n",
      "792:\tlearn: 0.0816546\ttotal: 777ms\tremaining: 203ms\n",
      "793:\tlearn: 0.0814995\ttotal: 778ms\tremaining: 202ms\n",
      "794:\tlearn: 0.0813356\ttotal: 779ms\tremaining: 201ms\n",
      "795:\tlearn: 0.0811560\ttotal: 780ms\tremaining: 200ms\n",
      "796:\tlearn: 0.0809666\ttotal: 781ms\tremaining: 199ms\n",
      "797:\tlearn: 0.0808728\ttotal: 781ms\tremaining: 198ms\n",
      "798:\tlearn: 0.0808434\ttotal: 782ms\tremaining: 197ms\n",
      "799:\tlearn: 0.0807543\ttotal: 783ms\tremaining: 196ms\n",
      "800:\tlearn: 0.0805059\ttotal: 784ms\tremaining: 195ms\n",
      "801:\tlearn: 0.0802918\ttotal: 785ms\tremaining: 194ms\n",
      "802:\tlearn: 0.0801814\ttotal: 786ms\tremaining: 193ms\n",
      "803:\tlearn: 0.0801743\ttotal: 787ms\tremaining: 192ms\n",
      "804:\tlearn: 0.0801217\ttotal: 788ms\tremaining: 191ms\n",
      "805:\tlearn: 0.0799151\ttotal: 789ms\tremaining: 190ms\n",
      "806:\tlearn: 0.0797744\ttotal: 789ms\tremaining: 189ms\n",
      "807:\tlearn: 0.0797069\ttotal: 790ms\tremaining: 188ms\n",
      "808:\tlearn: 0.0795628\ttotal: 791ms\tremaining: 187ms\n",
      "809:\tlearn: 0.0794032\ttotal: 792ms\tremaining: 186ms\n",
      "810:\tlearn: 0.0793256\ttotal: 793ms\tremaining: 185ms\n",
      "811:\tlearn: 0.0792054\ttotal: 794ms\tremaining: 184ms\n",
      "812:\tlearn: 0.0790282\ttotal: 795ms\tremaining: 183ms\n",
      "813:\tlearn: 0.0788738\ttotal: 796ms\tremaining: 182ms\n",
      "814:\tlearn: 0.0787802\ttotal: 796ms\tremaining: 181ms\n",
      "815:\tlearn: 0.0787349\ttotal: 797ms\tremaining: 180ms\n",
      "816:\tlearn: 0.0785903\ttotal: 798ms\tremaining: 179ms\n",
      "817:\tlearn: 0.0784792\ttotal: 799ms\tremaining: 178ms\n",
      "818:\tlearn: 0.0784466\ttotal: 800ms\tremaining: 177ms\n",
      "819:\tlearn: 0.0782973\ttotal: 801ms\tremaining: 176ms\n",
      "820:\tlearn: 0.0782535\ttotal: 802ms\tremaining: 175ms\n",
      "821:\tlearn: 0.0781111\ttotal: 803ms\tremaining: 174ms\n",
      "822:\tlearn: 0.0780395\ttotal: 803ms\tremaining: 173ms\n",
      "823:\tlearn: 0.0779631\ttotal: 804ms\tremaining: 172ms\n",
      "824:\tlearn: 0.0778027\ttotal: 805ms\tremaining: 171ms\n",
      "825:\tlearn: 0.0777547\ttotal: 806ms\tremaining: 170ms\n",
      "826:\tlearn: 0.0776768\ttotal: 807ms\tremaining: 169ms\n",
      "827:\tlearn: 0.0775909\ttotal: 809ms\tremaining: 168ms\n",
      "828:\tlearn: 0.0774520\ttotal: 809ms\tremaining: 167ms\n",
      "829:\tlearn: 0.0773712\ttotal: 810ms\tremaining: 166ms\n",
      "830:\tlearn: 0.0771868\ttotal: 811ms\tremaining: 165ms\n",
      "831:\tlearn: 0.0770653\ttotal: 812ms\tremaining: 164ms\n",
      "832:\tlearn: 0.0769987\ttotal: 813ms\tremaining: 163ms\n",
      "833:\tlearn: 0.0769567\ttotal: 814ms\tremaining: 162ms\n",
      "834:\tlearn: 0.0768153\ttotal: 815ms\tremaining: 161ms\n",
      "835:\tlearn: 0.0767463\ttotal: 816ms\tremaining: 160ms\n",
      "836:\tlearn: 0.0765869\ttotal: 817ms\tremaining: 159ms\n",
      "837:\tlearn: 0.0763883\ttotal: 818ms\tremaining: 158ms\n",
      "838:\tlearn: 0.0763529\ttotal: 819ms\tremaining: 157ms\n",
      "839:\tlearn: 0.0762590\ttotal: 820ms\tremaining: 156ms\n",
      "840:\tlearn: 0.0761899\ttotal: 820ms\tremaining: 155ms\n",
      "841:\tlearn: 0.0760551\ttotal: 821ms\tremaining: 154ms\n",
      "842:\tlearn: 0.0759218\ttotal: 822ms\tremaining: 153ms\n",
      "843:\tlearn: 0.0757518\ttotal: 823ms\tremaining: 152ms\n",
      "844:\tlearn: 0.0756652\ttotal: 824ms\tremaining: 151ms\n",
      "845:\tlearn: 0.0755299\ttotal: 825ms\tremaining: 150ms\n",
      "846:\tlearn: 0.0753480\ttotal: 825ms\tremaining: 149ms\n",
      "847:\tlearn: 0.0752340\ttotal: 826ms\tremaining: 148ms\n",
      "848:\tlearn: 0.0750783\ttotal: 827ms\tremaining: 147ms\n",
      "849:\tlearn: 0.0750097\ttotal: 828ms\tremaining: 146ms\n",
      "850:\tlearn: 0.0748704\ttotal: 829ms\tremaining: 145ms\n",
      "851:\tlearn: 0.0748176\ttotal: 830ms\tremaining: 144ms\n",
      "852:\tlearn: 0.0747321\ttotal: 830ms\tremaining: 143ms\n",
      "853:\tlearn: 0.0745906\ttotal: 831ms\tremaining: 142ms\n",
      "854:\tlearn: 0.0745124\ttotal: 832ms\tremaining: 141ms\n",
      "855:\tlearn: 0.0744256\ttotal: 833ms\tremaining: 140ms\n",
      "856:\tlearn: 0.0743112\ttotal: 834ms\tremaining: 139ms\n",
      "857:\tlearn: 0.0742341\ttotal: 835ms\tremaining: 138ms\n",
      "858:\tlearn: 0.0741220\ttotal: 836ms\tremaining: 137ms\n",
      "859:\tlearn: 0.0739992\ttotal: 836ms\tremaining: 136ms\n",
      "860:\tlearn: 0.0738696\ttotal: 837ms\tremaining: 135ms\n",
      "861:\tlearn: 0.0737673\ttotal: 838ms\tremaining: 134ms\n",
      "862:\tlearn: 0.0736199\ttotal: 839ms\tremaining: 133ms\n",
      "863:\tlearn: 0.0735374\ttotal: 840ms\tremaining: 132ms\n",
      "864:\tlearn: 0.0734544\ttotal: 841ms\tremaining: 131ms\n",
      "865:\tlearn: 0.0733731\ttotal: 842ms\tremaining: 130ms\n",
      "866:\tlearn: 0.0733226\ttotal: 843ms\tremaining: 129ms\n",
      "867:\tlearn: 0.0731580\ttotal: 843ms\tremaining: 128ms\n",
      "868:\tlearn: 0.0730667\ttotal: 844ms\tremaining: 127ms\n",
      "869:\tlearn: 0.0730087\ttotal: 845ms\tremaining: 126ms\n",
      "870:\tlearn: 0.0728957\ttotal: 846ms\tremaining: 125ms\n",
      "871:\tlearn: 0.0727389\ttotal: 847ms\tremaining: 124ms\n",
      "872:\tlearn: 0.0726076\ttotal: 848ms\tremaining: 123ms\n",
      "873:\tlearn: 0.0724938\ttotal: 849ms\tremaining: 122ms\n",
      "874:\tlearn: 0.0723324\ttotal: 849ms\tremaining: 121ms\n",
      "875:\tlearn: 0.0722055\ttotal: 850ms\tremaining: 120ms\n",
      "876:\tlearn: 0.0720984\ttotal: 851ms\tremaining: 119ms\n",
      "877:\tlearn: 0.0719189\ttotal: 852ms\tremaining: 118ms\n",
      "878:\tlearn: 0.0717575\ttotal: 853ms\tremaining: 117ms\n",
      "879:\tlearn: 0.0715753\ttotal: 854ms\tremaining: 116ms\n",
      "880:\tlearn: 0.0715215\ttotal: 855ms\tremaining: 115ms\n",
      "881:\tlearn: 0.0714920\ttotal: 856ms\tremaining: 114ms\n",
      "882:\tlearn: 0.0713170\ttotal: 856ms\tremaining: 113ms\n",
      "883:\tlearn: 0.0712474\ttotal: 857ms\tremaining: 112ms\n",
      "884:\tlearn: 0.0711458\ttotal: 858ms\tremaining: 112ms\n",
      "885:\tlearn: 0.0711233\ttotal: 859ms\tremaining: 111ms\n",
      "886:\tlearn: 0.0710551\ttotal: 860ms\tremaining: 110ms\n",
      "887:\tlearn: 0.0709223\ttotal: 861ms\tremaining: 109ms\n",
      "888:\tlearn: 0.0708075\ttotal: 862ms\tremaining: 108ms\n",
      "889:\tlearn: 0.0707352\ttotal: 863ms\tremaining: 107ms\n",
      "890:\tlearn: 0.0706148\ttotal: 863ms\tremaining: 106ms\n",
      "891:\tlearn: 0.0704367\ttotal: 864ms\tremaining: 105ms\n",
      "892:\tlearn: 0.0703160\ttotal: 865ms\tremaining: 104ms\n",
      "893:\tlearn: 0.0701259\ttotal: 866ms\tremaining: 103ms\n",
      "894:\tlearn: 0.0700589\ttotal: 867ms\tremaining: 102ms\n",
      "895:\tlearn: 0.0700222\ttotal: 869ms\tremaining: 101ms\n",
      "896:\tlearn: 0.0698525\ttotal: 870ms\tremaining: 99.9ms\n",
      "897:\tlearn: 0.0697339\ttotal: 871ms\tremaining: 98.9ms\n",
      "898:\tlearn: 0.0696483\ttotal: 872ms\tremaining: 97.9ms\n",
      "899:\tlearn: 0.0695470\ttotal: 872ms\tremaining: 96.9ms\n",
      "900:\tlearn: 0.0694243\ttotal: 873ms\tremaining: 96ms\n"
     ]
    },
    {
     "name": "stdout",
     "output_type": "stream",
     "text": [
      "901:\tlearn: 0.0692895\ttotal: 874ms\tremaining: 95ms\n",
      "902:\tlearn: 0.0692035\ttotal: 875ms\tremaining: 94ms\n",
      "903:\tlearn: 0.0691018\ttotal: 876ms\tremaining: 93ms\n",
      "904:\tlearn: 0.0689901\ttotal: 877ms\tremaining: 92.1ms\n",
      "905:\tlearn: 0.0688367\ttotal: 878ms\tremaining: 91.1ms\n",
      "906:\tlearn: 0.0687147\ttotal: 879ms\tremaining: 90.1ms\n",
      "907:\tlearn: 0.0686276\ttotal: 880ms\tremaining: 89.2ms\n",
      "908:\tlearn: 0.0685146\ttotal: 881ms\tremaining: 88.2ms\n",
      "909:\tlearn: 0.0684392\ttotal: 882ms\tremaining: 87.2ms\n",
      "910:\tlearn: 0.0683645\ttotal: 883ms\tremaining: 86.2ms\n",
      "911:\tlearn: 0.0682876\ttotal: 884ms\tremaining: 85.3ms\n",
      "912:\tlearn: 0.0681733\ttotal: 885ms\tremaining: 84.3ms\n",
      "913:\tlearn: 0.0680743\ttotal: 886ms\tremaining: 83.4ms\n",
      "914:\tlearn: 0.0680235\ttotal: 887ms\tremaining: 82.4ms\n",
      "915:\tlearn: 0.0678676\ttotal: 888ms\tremaining: 81.4ms\n",
      "916:\tlearn: 0.0677671\ttotal: 889ms\tremaining: 80.4ms\n",
      "917:\tlearn: 0.0676310\ttotal: 890ms\tremaining: 79.5ms\n",
      "918:\tlearn: 0.0675353\ttotal: 890ms\tremaining: 78.5ms\n",
      "919:\tlearn: 0.0674276\ttotal: 891ms\tremaining: 77.5ms\n",
      "920:\tlearn: 0.0673611\ttotal: 892ms\tremaining: 76.5ms\n",
      "921:\tlearn: 0.0672195\ttotal: 893ms\tremaining: 75.6ms\n",
      "922:\tlearn: 0.0671527\ttotal: 894ms\tremaining: 74.6ms\n",
      "923:\tlearn: 0.0669639\ttotal: 895ms\tremaining: 73.6ms\n",
      "924:\tlearn: 0.0669171\ttotal: 896ms\tremaining: 72.6ms\n",
      "925:\tlearn: 0.0667951\ttotal: 897ms\tremaining: 71.7ms\n",
      "926:\tlearn: 0.0666870\ttotal: 898ms\tremaining: 70.7ms\n",
      "927:\tlearn: 0.0666378\ttotal: 899ms\tremaining: 69.7ms\n",
      "928:\tlearn: 0.0664871\ttotal: 899ms\tremaining: 68.7ms\n",
      "929:\tlearn: 0.0664210\ttotal: 900ms\tremaining: 67.8ms\n",
      "930:\tlearn: 0.0663089\ttotal: 901ms\tremaining: 66.8ms\n",
      "931:\tlearn: 0.0661947\ttotal: 902ms\tremaining: 65.8ms\n",
      "932:\tlearn: 0.0661848\ttotal: 903ms\tremaining: 64.8ms\n",
      "933:\tlearn: 0.0661497\ttotal: 904ms\tremaining: 63.9ms\n",
      "934:\tlearn: 0.0661184\ttotal: 905ms\tremaining: 62.9ms\n",
      "935:\tlearn: 0.0659774\ttotal: 906ms\tremaining: 61.9ms\n",
      "936:\tlearn: 0.0658471\ttotal: 906ms\tremaining: 60.9ms\n",
      "937:\tlearn: 0.0657370\ttotal: 907ms\tremaining: 60ms\n",
      "938:\tlearn: 0.0656607\ttotal: 908ms\tremaining: 59ms\n",
      "939:\tlearn: 0.0655346\ttotal: 909ms\tremaining: 58ms\n",
      "940:\tlearn: 0.0654016\ttotal: 910ms\tremaining: 57.1ms\n",
      "941:\tlearn: 0.0653266\ttotal: 911ms\tremaining: 56.1ms\n",
      "942:\tlearn: 0.0653156\ttotal: 912ms\tremaining: 55.1ms\n",
      "943:\tlearn: 0.0652432\ttotal: 913ms\tremaining: 54.2ms\n",
      "944:\tlearn: 0.0651597\ttotal: 914ms\tremaining: 53.2ms\n",
      "945:\tlearn: 0.0650380\ttotal: 915ms\tremaining: 52.2ms\n",
      "946:\tlearn: 0.0649781\ttotal: 916ms\tremaining: 51.3ms\n",
      "947:\tlearn: 0.0649295\ttotal: 917ms\tremaining: 50.3ms\n",
      "948:\tlearn: 0.0648134\ttotal: 918ms\tremaining: 49.3ms\n",
      "949:\tlearn: 0.0646978\ttotal: 918ms\tremaining: 48.3ms\n",
      "950:\tlearn: 0.0646044\ttotal: 919ms\tremaining: 47.4ms\n",
      "951:\tlearn: 0.0644973\ttotal: 920ms\tremaining: 46.4ms\n",
      "952:\tlearn: 0.0644007\ttotal: 921ms\tremaining: 45.4ms\n",
      "953:\tlearn: 0.0643934\ttotal: 922ms\tremaining: 44.5ms\n",
      "954:\tlearn: 0.0643661\ttotal: 923ms\tremaining: 43.5ms\n",
      "955:\tlearn: 0.0642994\ttotal: 924ms\tremaining: 42.5ms\n",
      "956:\tlearn: 0.0642217\ttotal: 925ms\tremaining: 41.5ms\n",
      "957:\tlearn: 0.0640995\ttotal: 926ms\tremaining: 40.6ms\n",
      "958:\tlearn: 0.0640067\ttotal: 926ms\tremaining: 39.6ms\n",
      "959:\tlearn: 0.0638903\ttotal: 927ms\tremaining: 38.6ms\n",
      "960:\tlearn: 0.0638099\ttotal: 929ms\tremaining: 37.7ms\n",
      "961:\tlearn: 0.0636828\ttotal: 930ms\tremaining: 36.7ms\n",
      "962:\tlearn: 0.0636481\ttotal: 931ms\tremaining: 35.8ms\n",
      "963:\tlearn: 0.0634699\ttotal: 932ms\tremaining: 34.8ms\n",
      "964:\tlearn: 0.0634117\ttotal: 932ms\tremaining: 33.8ms\n",
      "965:\tlearn: 0.0632394\ttotal: 933ms\tremaining: 32.8ms\n",
      "966:\tlearn: 0.0631407\ttotal: 934ms\tremaining: 31.9ms\n",
      "967:\tlearn: 0.0630897\ttotal: 935ms\tremaining: 30.9ms\n",
      "968:\tlearn: 0.0630267\ttotal: 936ms\tremaining: 29.9ms\n",
      "969:\tlearn: 0.0629524\ttotal: 937ms\tremaining: 29ms\n",
      "970:\tlearn: 0.0628597\ttotal: 938ms\tremaining: 28ms\n",
      "971:\tlearn: 0.0627654\ttotal: 939ms\tremaining: 27ms\n",
      "972:\tlearn: 0.0626631\ttotal: 940ms\tremaining: 26.1ms\n",
      "973:\tlearn: 0.0625726\ttotal: 941ms\tremaining: 25.1ms\n",
      "974:\tlearn: 0.0624318\ttotal: 941ms\tremaining: 24.1ms\n",
      "975:\tlearn: 0.0623508\ttotal: 942ms\tremaining: 23.2ms\n",
      "976:\tlearn: 0.0623015\ttotal: 943ms\tremaining: 22.2ms\n",
      "977:\tlearn: 0.0622588\ttotal: 944ms\tremaining: 21.2ms\n",
      "978:\tlearn: 0.0621744\ttotal: 945ms\tremaining: 20.3ms\n",
      "979:\tlearn: 0.0620194\ttotal: 946ms\tremaining: 19.3ms\n",
      "980:\tlearn: 0.0619154\ttotal: 947ms\tremaining: 18.3ms\n",
      "981:\tlearn: 0.0618785\ttotal: 948ms\tremaining: 17.4ms\n",
      "982:\tlearn: 0.0618427\ttotal: 948ms\tremaining: 16.4ms\n",
      "983:\tlearn: 0.0617729\ttotal: 949ms\tremaining: 15.4ms\n",
      "984:\tlearn: 0.0616889\ttotal: 950ms\tremaining: 14.5ms\n",
      "985:\tlearn: 0.0616835\ttotal: 951ms\tremaining: 13.5ms\n",
      "986:\tlearn: 0.0616337\ttotal: 952ms\tremaining: 12.5ms\n",
      "987:\tlearn: 0.0614712\ttotal: 953ms\tremaining: 11.6ms\n",
      "988:\tlearn: 0.0613555\ttotal: 954ms\tremaining: 10.6ms\n",
      "989:\tlearn: 0.0612643\ttotal: 955ms\tremaining: 9.64ms\n",
      "990:\tlearn: 0.0611675\ttotal: 955ms\tremaining: 8.68ms\n",
      "991:\tlearn: 0.0610074\ttotal: 956ms\tremaining: 7.71ms\n"
     ]
    },
    {
     "name": "stdout",
     "output_type": "stream",
     "text": [
      "992:\tlearn: 0.0609087\ttotal: 957ms\tremaining: 6.75ms\n",
      "993:\tlearn: 0.0608113\ttotal: 958ms\tremaining: 5.78ms\n",
      "994:\tlearn: 0.0607102\ttotal: 959ms\tremaining: 4.82ms\n",
      "995:\tlearn: 0.0606323\ttotal: 960ms\tremaining: 3.85ms\n",
      "996:\tlearn: 0.0605824\ttotal: 961ms\tremaining: 2.89ms\n",
      "997:\tlearn: 0.0604470\ttotal: 962ms\tremaining: 1.93ms\n",
      "998:\tlearn: 0.0604032\ttotal: 962ms\tremaining: 963us\n",
      "999:\tlearn: 0.0603073\ttotal: 963ms\tremaining: 0us\n"
     ]
    },
    {
     "data": {
      "text/plain": [
       "<catboost.core.CatBoostRegressor at 0x7f830188a7f0>"
      ]
     },
     "execution_count": 9,
     "metadata": {},
     "output_type": "execute_result"
    }
   ],
   "source": [
    "#Train the Model \n",
    "prior_model = ctb.CatBoostRegressor()\n",
    "prior_model.fit(X_train,Y_train)"
   ]
  },
  {
   "cell_type": "code",
   "execution_count": 10,
   "id": "af65dcda",
   "metadata": {
    "execution": {
     "iopub.execute_input": "2022-06-12T06:04:55.159175Z",
     "iopub.status.busy": "2022-06-12T06:04:55.158824Z",
     "iopub.status.idle": "2022-06-12T06:04:55.166338Z",
     "shell.execute_reply": "2022-06-12T06:04:55.166703Z"
    },
    "id": "af65dcda",
    "papermill": {
     "duration": 0.02087,
     "end_time": "2022-06-12T06:04:55.166815",
     "exception": false,
     "start_time": "2022-06-12T06:04:55.145945",
     "status": "completed"
    },
    "tags": []
   },
   "outputs": [
    {
     "data": {
      "application/scrapbook.scrap.json+json": {
       "data": 0.12477684984337598,
       "encoder": "json",
       "name": "Prior Model MSE",
       "version": 1
      }
     },
     "metadata": {
      "scrapbook": {
       "data": true,
       "display": false,
       "name": "Prior Model MSE"
      }
     },
     "output_type": "display_data"
    },
    {
     "data": {
      "application/scrapbook.scrap.json+json": {
       "data": 2.4228996228047257,
       "encoder": "json",
       "name": "ABC Pre-generator MSE",
       "version": 1
      }
     },
     "metadata": {
      "scrapbook": {
       "data": true,
       "display": false,
       "name": "ABC Pre-generator MSE"
      }
     },
     "output_type": "display_data"
    },
    {
     "data": {
      "application/scrapbook.scrap.json+json": {
       "data": 0.22811347083989553,
       "encoder": "json",
       "name": "Prior Model MSE",
       "version": 1
      }
     },
     "metadata": {
      "scrapbook": {
       "data": true,
       "display": false,
       "name": "Prior Model MSE"
      }
     },
     "output_type": "display_data"
    },
    {
     "data": {
      "application/scrapbook.scrap.json+json": {
       "data": 1.2799370110489585,
       "encoder": "json",
       "name": "ABC Pre-generator MSE",
       "version": 1
      }
     },
     "metadata": {
      "scrapbook": {
       "data": true,
       "display": false,
       "name": "ABC Pre-generator MSE"
      }
     },
     "output_type": "display_data"
    }
   ],
   "source": [
    "y_pred = prior_model.predict(X_test)\n",
    "y_abc = y_pred + np.random.normal(0,variance, y_pred.shape) + bias \n",
    "mse = mean_squared_error(y_pred,Y_test)\n",
    "sb.glue(\"Prior Model MSE\",mse)\n",
    "mse = mean_squared_error(y_abc,Y_test)\n",
    "sb.glue(\"ABC Pre-generator MSE\",mse)\n",
    "mae = mean_absolute_error(y_pred,Y_test)\n",
    "sb.glue(\"Prior Model MSE\",mae)\n",
    "mae = mean_absolute_error(y_abc,Y_test)\n",
    "sb.glue(\"ABC Pre-generator MSE\",mae)"
   ]
  },
  {
   "cell_type": "markdown",
   "id": "25609da2",
   "metadata": {
    "papermill": {
     "duration": 0.009872,
     "end_time": "2022-06-12T06:04:55.186805",
     "exception": false,
     "start_time": "2022-06-12T06:04:55.176933",
     "status": "completed"
    },
    "tags": []
   },
   "source": [
    "# ABC GAN Model"
   ]
  },
  {
   "cell_type": "code",
   "execution_count": 11,
   "id": "dfc3464d",
   "metadata": {
    "execution": {
     "iopub.execute_input": "2022-06-12T06:04:55.209606Z",
     "iopub.status.busy": "2022-06-12T06:04:55.209225Z",
     "iopub.status.idle": "2022-06-12T06:04:55.211636Z",
     "shell.execute_reply": "2022-06-12T06:04:55.211880Z"
    },
    "papermill": {
     "duration": 0.015349,
     "end_time": "2022-06-12T06:04:55.211989",
     "exception": false,
     "start_time": "2022-06-12T06:04:55.196640",
     "status": "completed"
    },
    "tags": []
   },
   "outputs": [],
   "source": [
    "gen = network.Generator(n_features+1).to(device)\n",
    "disc = network.Discriminator(n_features+1).to(device)\n",
    "\n",
    "criterion = torch.nn.BCELoss()\n",
    "gen_opt = torch.optim.Adam(gen.parameters(), lr=0.001, betas=(0.5, 0.999))\n",
    "disc_opt = torch.optim.Adam(disc.parameters(), lr=0.001, betas=(0.5, 0.999))"
   ]
  },
  {
   "cell_type": "code",
   "execution_count": 12,
   "id": "b75fdd85",
   "metadata": {
    "execution": {
     "iopub.execute_input": "2022-06-12T06:04:55.234829Z",
     "iopub.status.busy": "2022-06-12T06:04:55.234458Z",
     "iopub.status.idle": "2022-06-12T06:05:56.379838Z",
     "shell.execute_reply": "2022-06-12T06:05:56.380091Z"
    },
    "papermill": {
     "duration": 61.158105,
     "end_time": "2022-06-12T06:05:56.380214",
     "exception": false,
     "start_time": "2022-06-12T06:04:55.222109",
     "status": "completed"
    },
    "tags": []
   },
   "outputs": [
    {
     "data": {
      "image/png": "[encoded data removed]",
      "text/plain": [
       "<Figure size 432x288 with 1 Axes>"
      ]
     },
     "metadata": {
      "needs_background": "light"
     },
     "output_type": "display_data"
    },
    {
     "data": {
      "image/png": "[encoded data removed]",
      "text/plain": [
       "<Figure size 432x288 with 1 Axes>"
      ]
     },
     "metadata": {
      "needs_background": "light"
     },
     "output_type": "display_data"
    }
   ],
   "source": [
    "#Training the ABC_GAN \n",
    "ABC_train_test2.training_GAN(disc,gen,disc_opt,gen_opt,train_data,batch_size,n_epochs,criterion,prior_model,variance,bias,device)"
   ]
  },
  {
   "cell_type": "code",
   "execution_count": 13,
   "id": "1fa7c368",
   "metadata": {
    "execution": {
     "iopub.execute_input": "2022-06-12T06:05:56.405072Z",
     "iopub.status.busy": "2022-06-12T06:05:56.404679Z",
     "iopub.status.idle": "2022-06-12T06:05:56.724555Z",
     "shell.execute_reply": "2022-06-12T06:05:56.724849Z"
    },
    "papermill": {
     "duration": 0.333633,
     "end_time": "2022-06-12T06:05:56.724975",
     "exception": false,
     "start_time": "2022-06-12T06:05:56.391342",
     "status": "completed"
    },
    "tags": []
   },
   "outputs": [
    {
     "data": {
      "application/scrapbook.scrap.json+json": {
       "data": 0.1539828905181647,
       "encoder": "json",
       "name": "ABC-GAN Model 1 MSE",
       "version": 1
      }
     },
     "metadata": {
      "scrapbook": {
       "data": true,
       "display": false,
       "name": "ABC-GAN Model 1 MSE"
      }
     },
     "output_type": "display_data"
    },
    {
     "data": {
      "application/scrapbook.scrap.json+json": {
       "data": 0.22320697769960937,
       "encoder": "json",
       "name": "ABC-GAN Model 1 MAE",
       "version": 1
      }
     },
     "metadata": {
      "scrapbook": {
       "data": true,
       "display": false,
       "name": "ABC-GAN Model 1 MAE"
      }
     },
     "output_type": "display_data"
    },
    {
     "data": {
      "application/scrapbook.scrap.json+json": {
       "data": 22.767111725360156,
       "encoder": "json",
       "name": "ABC-GAN Model 1 Manhattan Distance",
       "version": 1
      }
     },
     "metadata": {
      "scrapbook": {
       "data": true,
       "display": false,
       "name": "ABC-GAN Model 1 Manhattan Distance"
      }
     },
     "output_type": "display_data"
    },
    {
     "data": {
      "application/scrapbook.scrap.json+json": {
       "data": 3.9628620752751678,
       "encoder": "json",
       "name": "ABC-GAN Model 1 Euclidean distance",
       "version": 1
      }
     },
     "metadata": {
      "scrapbook": {
       "data": true,
       "display": false,
       "name": "ABC-GAN Model 1 Euclidean distance"
      }
     },
     "output_type": "display_data"
    },
    {
     "data": {
      "application/scrapbook.scrap.json+json": {
       "data": [
        [
         0.1558249637138339,
         0.15563670918688763,
         0.1512574051400187,
         0.1565228497773691,
         0.15827631736482903,
         0.15895208936575375,
         0.15479337573326615,
         0.15432331733768836,
         0.15172240830607167,
         0.14912045812451669,
         0.15010466141465045,
         0.153536380351891,
         0.15456997090417085,
         0.15175455152085263,
         0.1566210212983493,
         0.14928372774125334,
         0.15345458769542095,
         0.1514721503563454,
         0.15835252850772324,
         0.1560481960218689,
         0.15555117769507318,
         0.15622374353420865,
         0.16040971061859846,
         0.1499600293460363,
         0.15026088670472804,
         0.1547256997460287,
         0.15612662760315021,
         0.15800113802962773,
         0.15035575258392864,
         0.15670090775649786,
         0.1516094264522674,
         0.15476075113140222,
         0.14636627495976548,
         0.15892870627759895,
         0.15267529980909475,
         0.15286844566640634,
         0.1640471513636928,
         0.1503343053170044,
         0.1481851391651343,
         0.15428461910572686,
         0.16042575706353163,
         0.15013607168128879,
         0.15562319014085776,
         0.15891887970481866,
         0.14943411818034733,
         0.1475038778397244,
         0.15322892579198405,
         0.15318586771273965,
         0.15635469647416603,
         0.15093896259808476,
         0.1544712857781574,
         0.1472340144086606,
         0.14917962169410717,
         0.1526088050523391,
         0.1574062295231512,
         0.16031608307987108,
         0.15236998166839838,
         0.15107502509738388,
         0.15666967343153487,
         0.1480332897222953,
         0.15544661678037366,
         0.15370822423861222,
         0.1546073913987793,
         0.15116409430245087,
         0.15380705640015546,
         0.15433497627684192,
         0.15413176451999702,
         0.1547975576461551,
         0.1573320705468962,
         0.15465238621717448,
         0.15380343583213715,
         0.15677128972934815,
         0.15058102734513093,
         0.1543664380862995,
         0.15401181126210245,
         0.1503574725188399,
         0.15564624237634975,
         0.15066596127199658,
         0.15754371363313255,
         0.15634409507250188,
         0.1566270521321762,
         0.1579253678937256,
         0.15405943906874592,
         0.1559197190963695,
         0.15263547197590757,
         0.14786412460410245,
         0.15102732220223603,
         0.1562605148780401,
         0.15246986354339875,
         0.15465361116697104,
         0.15211461376603713,
         0.1607864413787786,
         0.14842074873671782,
         0.15140727369647417,
         0.15210979443034064,
         0.16044904409447072,
         0.15429864549551783,
         0.15691088557942354,
         0.15202937989003087,
         0.15712829335955408
        ],
        [
         0.2240880892849436,
         0.22538996889602905,
         0.2219448957373114,
         0.22316553093054714,
         0.22324591787422404,
         0.22389317523030675,
         0.22556187190553723,
         0.2224375496015829,
         0.22247974538043433,
         0.22297473003466925,
         0.22149072507140682,
         0.22432554827309123,
         0.22248127852000443,
         0.22300549172887615,
         0.222154250697178,
         0.22398485528195605,
         0.22201512878139815,
         0.22180677964991213,
         0.22457454813753858,
         0.22432561773879856,
         0.22283675974490597,
         0.22448366186490246,
         0.22372886721117824,
         0.22022149792196705,
         0.2233183322583928,
         0.22408546010653177,
         0.22486370962624455,
         0.22269238407413164,
         0.21966594099706294,
         0.22590687724889494,
         0.21961877239393254,
         0.22358370645373477,
         0.22001797976154908,
         0.2233774920596796,
         0.2229553601321052,
         0.22292779356825584,
         0.2248697643186532,
         0.22359624753395715,
         0.22272613951388529,
         0.22174057517858112,
         0.22422423403637082,
         0.2211354943905391,
         0.22282343839897828,
         0.22458227490093194,
         0.22290999771041028,
         0.22166496208485434,
         0.2226535714432305,
         0.22675579077765054,
         0.221549610442975,
         0.22301437654623799,
         0.2217322934199782,
         0.22285696798387697,
         0.2239141318874032,
         0.22065962872960987,
         0.22543320395782881,
         0.22469821995964237,
         0.22250860710354411,
         0.22156207840524467,
         0.22551334685846872,
         0.22343051762265317,
         0.2256566396384847,
         0.22582892474590563,
         0.2269997991183225,
         0.22180647476046694,
         0.22151699698731012,
         0.22443317424725084,
         0.22147530470700824,
         0.22261481293860605,
         0.2230305592803394,
         0.2231467253729409,
         0.22191022278047076,
         0.2248895557633802,
         0.2217201237000671,
         0.2252536530003828,
         0.22412954847894462,
         0.2206577327759827,
         0.22458747759753583,
         0.22214055426564872,
         0.2219962794698921,
         0.2263174907249563,
         0.22543571728701686,
         0.22628150091451757,
         0.22447863206559537,
         0.22401639892190112,
         0.22495986667333864,
         0.22155825326255724,
         0.2205974044022607,
         0.2249618808866716,
         0.2220105396620199,
         0.22465546728641378,
         0.22298483477503644,
         0.2251016249259313,
         0.22123250357952773,
         0.22225893456854073,
         0.22089732971553708,
         0.2227153740823269,
         0.22140668106137537,
         0.22223851113927132,
         0.22416384905284525,
         0.22244464795963437
        ],
        [
         22.856985107064247,
         22.989776827394962,
         22.638379365205765,
         22.76288415491581,
         22.771083623170853,
         22.837103873491287,
         23.007310934364796,
         22.688630059361458,
         22.692934028804302,
         22.743422463536263,
         22.592053957283497,
         22.881205923855305,
         22.69309040904045,
         22.746560156345367,
         22.659733571112156,
         22.846455238759518,
         22.64554313570261,
         22.62429152429104,
         22.906603910028934,
         22.881213009357452,
         22.729349493980408,
         22.89733351022005,
         22.82034445554018,
         22.462592788040638,
         22.778469890356064,
         22.85671693086624,
         22.936098381876945,
         22.714623175561428,
         22.40592598170042,
         23.042501479387283,
         22.401114784181118,
         22.805538058280945,
         22.441833935678005,
         22.78450419008732,
         22.74144673347473,
         22.738634943962097,
         22.936715960502625,
         22.80681724846363,
         22.718066230416298,
         22.617538668215275,
         22.870871871709824,
         22.555820427834988,
         22.727990716695786,
         22.907392039895058,
         22.73681976646185,
         22.609826132655144,
         22.71066428720951,
         23.129090659320354,
         22.59806026518345,
         22.747466407716274,
         22.616693928837776,
         22.73141073435545,
         22.839241452515125,
         22.507282130420208,
         22.99418680369854,
         22.919218435883522,
         22.6958779245615,
         22.599331997334957,
         23.00236137956381,
         22.789912797510624,
         23.01697724312544,
         23.034550324082375,
         23.153979510068893,
         22.624260425567627,
         22.59473369270563,
         22.892183773219585,
         22.59048108011484,
         22.706710919737816,
         22.74911704659462,
         22.76096598803997,
         22.634842723608017,
         22.93873468786478,
         22.615452617406845,
         22.975872606039047,
         22.861213944852352,
         22.507088743150234,
         22.907922714948654,
         22.65833653509617,
         22.643620505928993,
         23.08438405394554,
         22.99444316327572,
         23.080713093280792,
         22.896820470690727,
         22.849672690033913,
         22.945906400680542,
         22.598941832780838,
         22.50093524903059,
         22.946111850440502,
         22.645075045526028,
         22.914857663214207,
         22.74445314705372,
         22.960365742444992,
         22.565715365111828,
         22.670411325991154,
         22.531527630984783,
         22.716968156397343,
         22.58348146826029,
         22.668328136205673,
         22.864712603390217,
         22.689354091882706
        ],
        [
         3.9867463298799253,
         3.984337377414535,
         3.927881785935252,
         3.9956639845326887,
         4.017982624553341,
         4.026551019831598,
         3.9735279443830698,
         3.9674901850469917,
         3.933914799181511,
         3.9000367599165906,
         3.9128858230587746,
         3.957361595292106,
         3.9706595210651616,
         3.934331487702449,
         3.9969168333143514,
         3.9021712199245995,
         3.956307362292891,
         3.930669069808247,
         4.018949851365126,
         3.9896009818314697,
         3.983242413524121,
         3.9918444158670914,
         4.044971011403795,
         3.911000254831966,
         3.914921511841873,
         3.972659232062942,
         3.990603465081606,
         4.014488271127719,
         3.9161571423476764,
         3.997936041404712,
         3.9324498087237263,
         3.973109187450431,
         3.8638530052133295,
         4.026254840458448,
         3.9462489253121955,
         3.9487442887547735,
         4.090575685535797,
         3.9158778252563557,
         3.8877865418311863,
         3.9669927084359675,
         4.045173323910883,
         3.9132951986134974,
         3.984164328233399,
         4.026130366728268,
         3.9041362750799853,
         3.878839457834249,
         3.953397327714781,
         3.9528418266734935,
         3.9935171265896594,
         3.923744918442666,
         3.9693917858246306,
         3.8752895981698416,
         3.9008103533495357,
         3.9453894757474304,
         4.006923434676712,
         4.043790359816746,
         3.942301121195162,
         3.9255130314308158,
         3.997537578311998,
         3.8857940696431816,
         3.98190342821095,
         3.9595755924516003,
         3.9711401288138255,
         3.9266700420139684,
         3.9608483627647066,
         3.9676400517483783,
         3.9650271097483936,
         3.9735816186291957,
         4.005979430274626,
         3.9717179399035625,
         3.960801743950079,
         3.998833774038814,
         3.9190897909085156,
         3.9680444408804885,
         3.963483915538759,
         3.9161795409457,
         3.9844594015233317,
         3.9201948994589095,
         4.0086729463227,
         3.993381736998754,
         3.996993785019183,
         4.0135255730043635,
         3.964096717413953,
         3.9879582931407005,
         3.945734170156749,
         3.8835731883947346,
         3.9248932297105954,
         3.9923141807177567,
         3.9435930420654044,
         3.9717336691967455,
         3.9389961416756654,
         4.0497181408877605,
         3.8908760416062105,
         3.929827212110014,
         3.938933743019136,
         4.045466907247667,
         3.9671730288131895,
         4.000613744052429,
         3.9378924247347267,
         4.003384308641191
        ]
       ],
       "encoder": "json",
       "name": "ABC_GAN_1 Metrics",
       "version": 1
      }
     },
     "metadata": {
      "scrapbook": {
       "data": true,
       "display": false,
       "name": "ABC_GAN_1 Metrics"
      }
     },
     "output_type": "display_data"
    },
    {
     "name": "stdout",
     "output_type": "stream",
     "text": [
      "MSE\n",
      "0.1539828905181647\n"
     ]
    }
   ],
   "source": [
    "ABC_GAN1_metrics=ABC_train_test2.test_generator(gen,test_data,prior_model,variance,bias,\"1\",device)\n",
    "sb.glue(\"ABC_GAN_1 Metrics\",ABC_GAN1_metrics)\n",
    "\n",
    "print(\"MSE\")\n",
    "print(mean(ABC_GAN1_metrics[0]))"
   ]
  },
  {
   "cell_type": "code",
   "execution_count": 14,
   "id": "eb22ce5c",
   "metadata": {
    "execution": {
     "iopub.execute_input": "2022-06-12T06:05:56.753054Z",
     "iopub.status.busy": "2022-06-12T06:05:56.752688Z",
     "iopub.status.idle": "2022-06-12T06:05:57.065879Z",
     "shell.execute_reply": "2022-06-12T06:05:57.066178Z"
    },
    "papermill": {
     "duration": 0.3284,
     "end_time": "2022-06-12T06:05:57.066299",
     "exception": false,
     "start_time": "2022-06-12T06:05:56.737899",
     "status": "completed"
    },
    "tags": []
   },
   "outputs": [
    {
     "data": {
      "image/png": "[encoded data removed]",
      "text/plain": [
       "<Figure size 432x288 with 1 Axes>"
      ]
     },
     "metadata": {
      "needs_background": "light"
     },
     "output_type": "display_data"
    },
    {
     "data": {
      "image/png": "[encoded data removed]",
      "text/plain": [
       "<Figure size 432x288 with 1 Axes>"
      ]
     },
     "metadata": {
      "needs_background": "light"
     },
     "output_type": "display_data"
    },
    {
     "data": {
      "image/png": "[encoded data removed]",
      "text/plain": [
       "<Figure size 432x288 with 1 Axes>"
      ]
     },
     "metadata": {
      "needs_background": "light"
     },
     "output_type": "display_data"
    },
    {
     "data": {
      "image/png": "[encoded data removed]",
      "text/plain": [
       "<Figure size 432x288 with 1 Axes>"
      ]
     },
     "metadata": {
      "needs_background": "light"
     },
     "output_type": "display_data"
    }
   ],
   "source": [
    "sanityChecks.discProbVsError(train_data,disc,device)\n",
    "sanityChecks.discProbVsError(test_data,disc,device)"
   ]
  },
  {
   "cell_type": "markdown",
   "id": "130f3a4d",
   "metadata": {
    "id": "130f3a4d",
    "papermill": {
     "duration": 0.014612,
     "end_time": "2022-06-12T06:05:57.095968",
     "exception": false,
     "start_time": "2022-06-12T06:05:57.081356",
     "status": "completed"
    },
    "tags": []
   },
   "source": [
    "# ABC - GAN Model with skip connection"
   ]
  },
  {
   "cell_type": "code",
   "execution_count": 15,
   "id": "4e43dad1",
   "metadata": {
    "execution": {
     "iopub.execute_input": "2022-06-12T06:05:57.129019Z",
     "iopub.status.busy": "2022-06-12T06:05:57.128646Z",
     "iopub.status.idle": "2022-06-12T06:05:57.131046Z",
     "shell.execute_reply": "2022-06-12T06:05:57.131329Z"
    },
    "id": "4e43dad1",
    "papermill": {
     "duration": 0.020689,
     "end_time": "2022-06-12T06:05:57.131445",
     "exception": false,
     "start_time": "2022-06-12T06:05:57.110756",
     "status": "completed"
    },
    "tags": []
   },
   "outputs": [],
   "source": [
    "#Generator\n",
    "gen3 = network.GeneratorWithSkipConnection(n_features+1).to(device)\n",
    "constraints=network.weightConstraint()\n",
    "#Discriminator \n",
    "disc3 = network.Discriminator(n_features+1).to(device)\n",
    "\n",
    "criterion = torch.nn.BCELoss()\n",
    "gen_opt = torch.optim.Adam(gen3.parameters(), lr=0.001, betas=(0.5, 0.999))\n",
    "disc_opt = torch.optim.Adam(disc3.parameters(), lr=0.001, betas=(0.5, 0.999))\n"
   ]
  },
  {
   "cell_type": "code",
   "execution_count": 16,
   "id": "26acbc37",
   "metadata": {
    "execution": {
     "iopub.execute_input": "2022-06-12T06:05:57.163424Z",
     "iopub.status.busy": "2022-06-12T06:05:57.163065Z",
     "iopub.status.idle": "2022-06-12T06:08:58.273768Z",
     "shell.execute_reply": "2022-06-12T06:08:58.274075Z"
    },
    "id": "26acbc37",
    "papermill": {
     "duration": 181.12789,
     "end_time": "2022-06-12T06:08:58.274197",
     "exception": false,
     "start_time": "2022-06-12T06:05:57.146307",
     "status": "completed"
    },
    "tags": []
   },
   "outputs": [
    {
     "data": {
      "image/png": "[encoded data removed]",
      "text/plain": [
       "<Figure size 432x288 with 1 Axes>"
      ]
     },
     "metadata": {
      "needs_background": "light"
     },
     "output_type": "display_data"
    },
    {
     "data": {
      "image/png": "[encoded data removed]",
      "text/plain": [
       "<Figure size 432x288 with 1 Axes>"
      ]
     },
     "metadata": {
      "needs_background": "light"
     },
     "output_type": "display_data"
    }
   ],
   "source": [
    "ABC_train_test2.training_GAN_skip_connection(disc3,gen3,disc_opt,gen_opt,train_data,batch_size,n_epochs,criterion,prior_model,variance,bias,device)"
   ]
  },
  {
   "cell_type": "code",
   "execution_count": 17,
   "id": "c5e0717b",
   "metadata": {
    "execution": {
     "iopub.execute_input": "2022-06-12T06:08:58.308046Z",
     "iopub.status.busy": "2022-06-12T06:08:58.307661Z",
     "iopub.status.idle": "2022-06-12T06:08:59.146381Z",
     "shell.execute_reply": "2022-06-12T06:08:59.146754Z"
    },
    "id": "c5e0717b",
    "papermill": {
     "duration": 0.857022,
     "end_time": "2022-06-12T06:08:59.146877",
     "exception": false,
     "start_time": "2022-06-12T06:08:58.289855",
     "status": "completed"
    },
    "tags": []
   },
   "outputs": [
    {
     "data": {
      "application/scrapbook.scrap.json+json": {
       "data": 0.17797858967101246,
       "encoder": "json",
       "name": "ABC-GAN Model 3 MSE",
       "version": 1
      }
     },
     "metadata": {
      "scrapbook": {
       "data": true,
       "display": false,
       "name": "ABC-GAN Model 3 MSE"
      }
     },
     "output_type": "display_data"
    },
    {
     "data": {
      "application/scrapbook.scrap.json+json": {
       "data": 0.27404838667159864,
       "encoder": "json",
       "name": "ABC-GAN Model 3 MAE",
       "version": 1
      }
     },
     "metadata": {
      "scrapbook": {
       "data": true,
       "display": false,
       "name": "ABC-GAN Model 3 MAE"
      }
     },
     "output_type": "display_data"
    },
    {
     "data": {
      "application/scrapbook.scrap.json+json": {
       "data": 27.95293544050306,
       "encoder": "json",
       "name": "ABC-GAN Model 3 Manhattan Distance",
       "version": 1
      }
     },
     "metadata": {
      "scrapbook": {
       "data": true,
       "display": false,
       "name": "ABC-GAN Model 3 Manhattan Distance"
      }
     },
     "output_type": "display_data"
    },
    {
     "data": {
      "application/scrapbook.scrap.json+json": {
       "data": 4.258818231343277,
       "encoder": "json",
       "name": "ABC-GAN Model 3 Euclidean distance",
       "version": 1
      }
     },
     "metadata": {
      "scrapbook": {
       "data": true,
       "display": false,
       "name": "ABC-GAN Model 3 Euclidean distance"
      }
     },
     "output_type": "display_data"
    },
    {
     "data": {
      "application/scrapbook.scrap.json+json": {
       "data": [
        [
         0.185216150284351,
         0.17141230503209265,
         0.1761716108421787,
         0.1811354368427724,
         0.19020246380467312,
         0.19018545000697543,
         0.16482309545816812,
         0.1754527041012321,
         0.15857605549280263,
         0.1505063938485949,
         0.17614190979714758,
         0.1950208484846993,
         0.18917450096392532,
         0.17969061667715416,
         0.17148190037713767,
         0.18254726551351655,
         0.17935276109872877,
         0.1742706015201719,
         0.1775060758871439,
         0.1760060184658909,
         0.18143336173806193,
         0.18882648161598042,
         0.17233033059802788,
         0.18689171845280902,
         0.18094795081197124,
         0.1752939373691482,
         0.18012053545426346,
         0.18890818749192065,
         0.1839952656575078,
         0.1735767181334834,
         0.18389212263938123,
         0.18068472971354715,
         0.1764605616449094,
         0.1633484411502124,
         0.18297380516378778,
         0.1826025628837347,
         0.17418035187145153,
         0.16946813600187974,
         0.171700433271505,
         0.17213632700733592,
         0.1733893960586422,
         0.16752576228134422,
         0.1716048162935837,
         0.1681258170427926,
         0.1950518216529206,
         0.17971761359809582,
         0.18581147400078166,
         0.17842811122144603,
         0.18058634858891182,
         0.1977329862122427,
         0.17421351262607465,
         0.17914805734656633,
         0.16449455243052347,
         0.18383010183797416,
         0.19099511830100888,
         0.1865259170922483,
         0.16033075284261955,
         0.20150936896333246,
         0.16644823500885939,
         0.1793952324359886,
         0.19381257332716803,
         0.19860679545578222,
         0.17680125473843908,
         0.18135953406245475,
         0.16162133608896473,
         0.18941153609470213,
         0.19393949984768913,
         0.176040053366036,
         0.19761049203002573,
         0.1799432550321355,
         0.1704598224176036,
         0.20534566146089014,
         0.19197218966712773,
         0.16747152582041652,
         0.1763987796684435,
         0.16199040026354292,
         0.17342466996085415,
         0.17739038845152905,
         0.16916972319436452,
         0.1661102401384229,
         0.17270644899644888,
         0.16626855776801394,
         0.17330796392131484,
         0.18461783057032313,
         0.1616176804593258,
         0.18201322787908925,
         0.15148907582027363,
         0.1763030468300814,
         0.17397055665608888,
         0.1766678766467309,
         0.16662959738101485,
         0.17228144292465083,
         0.16994880295049905,
         0.16939981363563328,
         0.1981231610550995,
         0.18115187578589534,
         0.18011014553356758,
         0.1906994376446621,
         0.1615113727700627,
         0.18065020177964503
        ],
        [
         0.2748950513846734,
         0.2633632880946,
         0.2729555487486662,
         0.27609123603678215,
         0.2857714457546963,
         0.2832589153127343,
         0.2651718545193766,
         0.2684566175528601,
         0.2638581469655037,
         0.26187579406827105,
         0.27931385388707414,
         0.2885478965426777,
         0.27956136474933696,
         0.2705004698067319,
         0.2754614505843789,
         0.27130411024771484,
         0.2807186167760223,
         0.2683174718974852,
         0.2743600763964887,
         0.2834916780246239,
         0.27406323591575904,
         0.28038838578789843,
         0.26799487441266867,
         0.27769480514175754,
         0.2776747874039061,
         0.27922508259322126,
         0.2714834017496483,
         0.28082212389392014,
         0.2821898238696888,
         0.2649422558937587,
         0.28101673718614906,
         0.27469120457695395,
         0.26090972045180844,
         0.26392433302951795,
         0.28528017477661954,
         0.2819947811464469,
         0.26469646386948287,
         0.2647157864389466,
         0.2656418837004286,
         0.2758527603365627,
         0.27266051740312547,
         0.2682246875163971,
         0.2647161705090719,
         0.2707897733677836,
         0.2837887872375694,
         0.2752690597930375,
         0.2813818269208366,
         0.27667051239633095,
         0.27468489928572787,
         0.285009226816542,
         0.27822942262533684,
         0.26930467302308364,
         0.2688239756606373,
         0.2776753034022655,
         0.2750454808713174,
         0.28052877320670616,
         0.2649242785193172,
         0.2919732359986679,
         0.26615548444290954,
         0.27675015355149907,
         0.28305867533473406,
         0.2876247147134706,
         0.26714265649663466,
         0.27909550516336573,
         0.2563043986173237,
         0.2829861215078363,
         0.28280783976044727,
         0.2733526300529347,
         0.2919775514187766,
         0.2810351633119817,
         0.26760068152318983,
         0.29828337141696143,
         0.2867707238331729,
         0.26409201975911856,
         0.2790942474396205,
         0.2592386684070031,
         0.2679874242794718,
         0.2711860103642239,
         0.2645648258427779,
         0.2625099814076926,
         0.26914148021708517,
         0.2653497002069272,
         0.27350646191660094,
         0.2758770095659237,
         0.26919039375349585,
         0.2800241935194707,
         0.2671556705791576,
         0.2743354649739523,
         0.265340347792588,
         0.27219813065055537,
         0.2678200574043919,
         0.26478934729946596,
         0.2683272732093054,
         0.26674558076204036,
         0.28986067222613915,
         0.26866211691031266,
         0.26927537967761356,
         0.28872527846810864,
         0.2584143694417149,
         0.278302775860271
        ],
        [
         28.039295241236687,
         26.863055385649204,
         27.84146597236395,
         28.16130607575178,
         29.148687466979027,
         28.8924093618989,
         27.04752916097641,
         27.38257499039173,
         26.913530990481377,
         26.711330994963646,
         28.49001309648156,
         29.431885447353125,
         28.51525920443237,
         27.591047920286655,
         28.097067959606647,
         27.673019245266914,
         28.63329891115427,
         27.36838213354349,
         27.984727792441845,
         28.91615115851164,
         27.95445006340742,
         28.59961535036564,
         27.335477190092206,
         28.324870124459267,
         28.32282831519842,
         28.48095842450857,
         27.691306978464127,
         28.64385663717985,
         28.78336203470826,
         27.024110101163387,
         28.663707192987204,
         28.018502866849303,
         26.61279148608446,
         26.92028196901083,
         29.098577827215195,
         28.76346767693758,
         26.999039314687252,
         27.001010216772556,
         27.09547213744372,
         28.136981554329395,
         27.811372775118798,
         27.358918126672506,
         27.001049391925335,
         27.620556883513927,
         28.94645629823208,
         28.077444098889828,
         28.70094634592533,
         28.220392264425755,
         28.01785972714424,
         29.070941135287285,
         28.37940110778436,
         27.46907664835453,
         27.420045517385006,
         28.32288094703108,
         28.054639048874378,
         28.613934867084026,
         27.022276408970356,
         29.781270071864128,
         27.147859413176775,
         28.228515662252903,
         28.871984884142876,
         29.337720900774002,
         27.248550962656736,
         28.467741526663303,
         26.143048658967018,
         28.864584393799305,
         28.84639965556562,
         27.881968265399337,
         29.781710244715214,
         28.665586657822132,
         27.295269515365362,
         30.424903884530067,
         29.25061383098364,
         26.937386015430093,
         28.467613238841295,
         26.442344177514315,
         27.334717276506126,
         27.66097305715084,
         26.985612235963345,
         26.776018103584647,
         27.452430982142687,
         27.065669421106577,
         27.897659115493298,
         28.13945497572422,
         27.45742016285658,
         28.562467738986015,
         27.249878399074078,
         27.98221742734313,
         27.06471547484398,
         27.76420932635665,
         27.317645855247974,
         27.008513424545527,
         27.369381867349148,
         27.20804923772812,
         29.565788567066193,
         27.403535924851894,
         27.466088727116585,
         29.44997840374708,
         26.358265683054924,
         28.386883137747645
        ],
        [
         4.346498283561584,
         4.181393919887654,
         4.239045211589778,
         4.2983502135078275,
         4.404617044429249,
         4.404420041357487,
         4.100238497542934,
         4.230387194847024,
         4.021785382173677,
         3.9181184479998397,
         4.238687862925159,
         4.460059029367137,
         4.3926983846287895,
         4.281173075346256,
         4.182242680484723,
         4.315069070406485,
         4.277146435658982,
         4.216112113672683,
         4.255069886675033,
         4.237052499500198,
         4.301883645251499,
         4.388655958813587,
         4.192576024474553,
         4.366114437596261,
         4.296125112566098,
         4.228472728025228,
         4.286291475895552,
         4.389605349479143,
         4.332149246859553,
         4.207710214548443,
         4.33093483086699,
         4.292999234891827,
         4.2425201576163145,
         4.081855092641294,
         4.320107420736937,
         4.315722583083966,
         4.2150202717054706,
         4.1576134827797215,
         4.184906712663199,
         4.190215430589251,
         4.205439144486757,
         4.1337183930085395,
         4.183741299596037,
         4.14111498733914,
         4.460413188102409,
         4.281494667403637,
         4.353477959985525,
         4.266106813546456,
         4.291830327036356,
         4.490964773147164,
         4.2154214840107755,
         4.274704884474455,
         4.096149942069186,
         4.33020442790792,
         4.413785457711204,
         4.361839467863223,
         4.043975369601946,
         4.533647056648754,
         4.1204028893912374,
         4.277652827015165,
         4.446221146026268,
         4.50087692972045,
         4.246613707805406,
         4.301008309032939,
         4.060218747933957,
         4.395449542613316,
         4.447676807555186,
         4.237462146537203,
         4.489573497233632,
         4.284181603676229,
         4.169760411174191,
         4.576598897545075,
         4.425060829643704,
         4.133049193232822,
         4.24177740177172,
         4.064851882526764,
         4.205866894708762,
         4.253683065539317,
         4.153951343699776,
         4.116217255456657,
         4.197148770014923,
         4.118178346348956,
         4.20445148859802,
         4.339472170457251,
         4.06017282967748,
         4.3087526319884155,
         3.930888669711711,
         4.24062622458857,
         4.212481071639499,
         4.245011592206382,
         4.12264707837859,
         4.191981295081645,
         4.163505482277032,
         4.156775311564794,
         4.495393467497605,
         4.298545257428532,
         4.28616785070579,
         4.410367630907374,
         4.058837274706439,
         4.292589030122007
        ]
       ],
       "encoder": "json",
       "name": "ABC_GAN_3 Metrics",
       "version": 1
      }
     },
     "metadata": {
      "scrapbook": {
       "data": true,
       "display": false,
       "name": "ABC_GAN_3 Metrics"
      }
     },
     "output_type": "display_data"
    },
    {
     "name": "stdout",
     "output_type": "stream",
     "text": [
      "MSE\n",
      "0.17797858967101246\n"
     ]
    }
   ],
   "source": [
    "ABC_GAN3_metrics=ABC_train_test2.test_generator(gen3,test_data,prior_model,variance,bias,\"3\",device)\n",
    "sb.glue(\"ABC_GAN_3 Metrics\",ABC_GAN3_metrics)\n",
    "\n",
    "print(\"MSE\")\n",
    "print(mean(ABC_GAN3_metrics[0]))"
   ]
  },
  {
   "cell_type": "code",
   "execution_count": 18,
   "id": "c8e46b48",
   "metadata": {
    "execution": {
     "iopub.execute_input": "2022-06-12T06:08:59.184407Z",
     "iopub.status.busy": "2022-06-12T06:08:59.184052Z",
     "iopub.status.idle": "2022-06-12T06:08:59.503531Z",
     "shell.execute_reply": "2022-06-12T06:08:59.503820Z"
    },
    "id": "c8e46b48",
    "papermill": {
     "duration": 0.339442,
     "end_time": "2022-06-12T06:08:59.503940",
     "exception": false,
     "start_time": "2022-06-12T06:08:59.164498",
     "status": "completed"
    },
    "tags": []
   },
   "outputs": [
    {
     "data": {
      "image/png": "[encoded data removed]",
      "text/plain": [
       "<Figure size 432x288 with 1 Axes>"
      ]
     },
     "metadata": {
      "needs_background": "light"
     },
     "output_type": "display_data"
    },
    {
     "data": {
      "image/png": "[encoded data removed]",
      "text/plain": [
       "<Figure size 432x288 with 1 Axes>"
      ]
     },
     "metadata": {
      "needs_background": "light"
     },
     "output_type": "display_data"
    },
    {
     "data": {
      "image/png": "[encoded data removed]",
      "text/plain": [
       "<Figure size 432x288 with 1 Axes>"
      ]
     },
     "metadata": {
      "needs_background": "light"
     },
     "output_type": "display_data"
    },
    {
     "data": {
      "image/png": "[encoded data removed]",
      "text/plain": [
       "<Figure size 432x288 with 1 Axes>"
      ]
     },
     "metadata": {
      "needs_background": "light"
     },
     "output_type": "display_data"
    }
   ],
   "source": [
    "sanityChecks.discProbVsError(train_data,disc3,device)\n",
    "sanityChecks.discProbVsError(test_data,disc3,device)"
   ]
  },
  {
   "cell_type": "markdown",
   "id": "a5bd74c3",
   "metadata": {
    "id": "a5bd74c3",
    "papermill": {
     "duration": 0.019242,
     "end_time": "2022-06-12T06:08:59.543020",
     "exception": false,
     "start_time": "2022-06-12T06:08:59.523778",
     "status": "completed"
    },
    "tags": []
   },
   "source": [
    "## Skip Connection Model Analysis - ABC-GAN "
   ]
  },
  {
   "cell_type": "markdown",
   "id": "5744a8bf",
   "metadata": {
    "id": "5744a8bf",
    "papermill": {
     "duration": 0.019159,
     "end_time": "2022-06-12T06:08:59.581304",
     "exception": false,
     "start_time": "2022-06-12T06:08:59.562145",
     "status": "completed"
    },
    "tags": []
   },
   "source": [
    "### Weight Analysis \n",
    "\n",
    "Study the weights of the skip connection layer\n",
    "\n",
    "Equation of the skip connection is \n",
    "\n",
    "$output = y_{gan} * w + y_{abc} * (1-w)$"
   ]
  },
  {
   "cell_type": "code",
   "execution_count": 19,
   "id": "52c31dea",
   "metadata": {
    "execution": {
     "iopub.execute_input": "2022-06-12T06:08:59.622282Z",
     "iopub.status.busy": "2022-06-12T06:08:59.621891Z",
     "iopub.status.idle": "2022-06-12T06:08:59.625280Z",
     "shell.execute_reply": "2022-06-12T06:08:59.625523Z"
    },
    "id": "52c31dea",
    "papermill": {
     "duration": 0.025279,
     "end_time": "2022-06-12T06:08:59.625638",
     "exception": false,
     "start_time": "2022-06-12T06:08:59.600359",
     "status": "completed"
    },
    "tags": []
   },
   "outputs": [
    {
     "name": "stdout",
     "output_type": "stream",
     "text": [
      "Weight of the node at skip connection\n",
      "Parameter containing:\n",
      "tensor([[0.2904]], requires_grad=True)\n"
     ]
    },
    {
     "data": {
      "application/scrapbook.scrap.json+json": {
       "data": 0.29041051864624023,
       "encoder": "json",
       "name": "Skip Connection Weight",
       "version": 1
      }
     },
     "metadata": {
      "scrapbook": {
       "data": true,
       "display": false,
       "name": "Skip Connection Weight"
      }
     },
     "output_type": "display_data"
    }
   ],
   "source": [
    "print(\"Weight of the node at skip connection\")\n",
    "for name,param in gen3.named_parameters():\n",
    "    if(name == \"skipNode.weight\"):\n",
    "        print(param)\n",
    "        sb.glue(\"Skip Connection Weight\",param.item())"
   ]
  }
 ],
 "metadata": {
  "colab": {
   "collapsed_sections": [],
   "name": "ABC_GAN_Model-Catboost_Pre-gen.ipynb",
   "provenance": []
  },
  "interpreter": {
   "hash": "31f2aee4e71d21fbe5cf8b01ff0e069b9275f58929596ceb00d14d90e3e16cd6"
  },
  "kernelspec": {
   "display_name": "Python 3 (ipykernel)",
   "language": "python",
   "name": "python3"
  },
  "language_info": {
   "codemirror_mode": {
    "name": "ipython",
    "version": 3
   },
   "file_extension": ".py",
   "mimetype": "text/x-python",
   "name": "python",
   "nbconvert_exporter": "python",
   "pygments_lexer": "ipython3",
   "version": "3.8.11"
  },
  "papermill": {
   "default_parameters": {},
   "duration": 248.792816,
   "end_time": "2022-06-12T06:08:59.953317",
   "environment_variables": {},
   "exception": null,
   "input_path": "ABC_GAN-Catboost.ipynb",
   "output_path": "./ABC_GAN_Catboost/ABC-GAN_output_7_0.ipynb",
   "parameters": {
    "bias": 1,
    "variance": 1
   },
   "start_time": "2022-06-12T06:04:51.160501",
   "version": "2.3.3"
  }
 },
 "nbformat": 4,
 "nbformat_minor": 5
}