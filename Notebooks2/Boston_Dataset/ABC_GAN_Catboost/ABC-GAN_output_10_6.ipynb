{
 "cells": [
  {
   "cell_type": "markdown",
   "id": "622780e6",
   "metadata": {
    "id": "622780e6",
    "papermill": {
     "duration": 0.021925,
     "end_time": "2022-06-12T08:44:08.527507",
     "exception": false,
     "start_time": "2022-06-12T08:44:08.505582",
     "status": "completed"
    },
    "tags": []
   },
   "source": [
    "## Import Libraries "
   ]
  },
  {
   "cell_type": "code",
   "execution_count": 1,
   "id": "a62397e3",
   "metadata": {
    "execution": {
     "iopub.execute_input": "2022-06-12T08:44:08.561026Z",
     "iopub.status.busy": "2022-06-12T08:44:08.560520Z",
     "iopub.status.idle": "2022-06-12T08:44:08.562842Z",
     "shell.execute_reply": "2022-06-12T08:44:08.563184Z"
    },
    "id": "a62397e3",
    "papermill": {
     "duration": 0.021828,
     "end_time": "2022-06-12T08:44:08.563398",
     "exception": false,
     "start_time": "2022-06-12T08:44:08.541570",
     "status": "completed"
    },
    "tags": []
   },
   "outputs": [],
   "source": [
    "import warnings\n",
    "import sys\n",
    "sys.path.insert(0, '../../src')\n",
    "warnings.filterwarnings('ignore')"
   ]
  },
  {
   "cell_type": "code",
   "execution_count": 2,
   "id": "d6a4e155",
   "metadata": {
    "execution": {
     "iopub.execute_input": "2022-06-12T08:44:08.583573Z",
     "iopub.status.busy": "2022-06-12T08:44:08.583164Z",
     "iopub.status.idle": "2022-06-12T08:44:10.464003Z",
     "shell.execute_reply": "2022-06-12T08:44:10.464262Z"
    },
    "id": "d6a4e155",
    "papermill": {
     "duration": 1.891629,
     "end_time": "2022-06-12T08:44:10.464383",
     "exception": false,
     "start_time": "2022-06-12T08:44:08.572754",
     "status": "completed"
    },
    "tags": []
   },
   "outputs": [],
   "source": [
    "import ABC_train_test2\n",
    "import bostonDataset\n",
    "import network\n",
    "import dataset\n",
    "import sanityChecks\n",
    "import torch \n",
    "import scrapbook as sb\n",
    "from statistics import mean \n",
    "import catboost as ctb \n",
    "from sklearn.model_selection import train_test_split\n",
    "from sklearn.metrics import mean_squared_error,mean_absolute_error\n",
    "import numpy as np"
   ]
  },
  {
   "cell_type": "markdown",
   "id": "2fa5b0f7",
   "metadata": {
    "id": "2fa5b0f7",
    "papermill": {
     "duration": 0.007195,
     "end_time": "2022-06-12T08:44:10.478794",
     "exception": false,
     "start_time": "2022-06-12T08:44:10.471599",
     "status": "completed"
    },
    "tags": []
   },
   "source": [
    "## Parameters "
   ]
  },
  {
   "cell_type": "code",
   "execution_count": 3,
   "id": "783186fb",
   "metadata": {
    "execution": {
     "iopub.execute_input": "2022-06-12T08:44:10.495180Z",
     "iopub.status.busy": "2022-06-12T08:44:10.494817Z",
     "iopub.status.idle": "2022-06-12T08:44:10.496070Z",
     "shell.execute_reply": "2022-06-12T08:44:10.496297Z"
    },
    "id": "783186fb",
    "papermill": {
     "duration": 0.0105,
     "end_time": "2022-06-12T08:44:10.496406",
     "exception": false,
     "start_time": "2022-06-12T08:44:10.485906",
     "status": "completed"
    },
    "tags": [
     "parameters"
    ]
   },
   "outputs": [],
   "source": [
    "variance = 1\n",
    "bias = 1 "
   ]
  },
  {
   "cell_type": "code",
   "execution_count": 4,
   "id": "bef89661",
   "metadata": {
    "execution": {
     "iopub.execute_input": "2022-06-12T08:44:10.512199Z",
     "iopub.status.busy": "2022-06-12T08:44:10.511834Z",
     "iopub.status.idle": "2022-06-12T08:44:10.513110Z",
     "shell.execute_reply": "2022-06-12T08:44:10.513362Z"
    },
    "papermill": {
     "duration": 0.010017,
     "end_time": "2022-06-12T08:44:10.513469",
     "exception": false,
     "start_time": "2022-06-12T08:44:10.503452",
     "status": "completed"
    },
    "tags": [
     "injected-parameters"
    ]
   },
   "outputs": [],
   "source": [
    "# Parameters\n",
    "variance = 1\n",
    "bias = 0.01\n"
   ]
  },
  {
   "cell_type": "markdown",
   "id": "391cdbfd",
   "metadata": {
    "id": "391cdbfd",
    "papermill": {
     "duration": 0.006875,
     "end_time": "2022-06-12T08:44:10.527425",
     "exception": false,
     "start_time": "2022-06-12T08:44:10.520550",
     "status": "completed"
    },
    "tags": []
   },
   "source": [
    "## Dataset \n"
   ]
  },
  {
   "cell_type": "code",
   "execution_count": 5,
   "id": "5b51f161",
   "metadata": {
    "execution": {
     "iopub.execute_input": "2022-06-12T08:44:10.543083Z",
     "iopub.status.busy": "2022-06-12T08:44:10.542734Z",
     "iopub.status.idle": "2022-06-12T08:44:10.543975Z",
     "shell.execute_reply": "2022-06-12T08:44:10.544227Z"
    },
    "id": "5b51f161",
    "papermill": {
     "duration": 0.009999,
     "end_time": "2022-06-12T08:44:10.544335",
     "exception": false,
     "start_time": "2022-06-12T08:44:10.534336",
     "status": "completed"
    },
    "tags": []
   },
   "outputs": [],
   "source": [
    "#Parameters \n",
    "n_features = 13\n",
    "n_samples= 506\n",
    "n_target = 1 "
   ]
  },
  {
   "cell_type": "code",
   "execution_count": 6,
   "id": "5d6eced4",
   "metadata": {
    "execution": {
     "iopub.execute_input": "2022-06-12T08:44:10.560574Z",
     "iopub.status.busy": "2022-06-12T08:44:10.560189Z",
     "iopub.status.idle": "2022-06-12T08:44:10.571362Z",
     "shell.execute_reply": "2022-06-12T08:44:10.571610Z"
    },
    "id": "5d6eced4",
    "papermill": {
     "duration": 0.02032,
     "end_time": "2022-06-12T08:44:10.571726",
     "exception": false,
     "start_time": "2022-06-12T08:44:10.551406",
     "status": "completed"
    },
    "tags": []
   },
   "outputs": [
    {
     "name": "stdout",
     "output_type": "stream",
     "text": [
      "         X1        X2        X3        X4        X5        X6        X7  \\\n",
      "0 -0.419782  0.284830 -1.287909 -0.272599 -0.144217  0.413672 -0.120013   \n",
      "1 -0.417339 -0.487722 -0.593381 -0.272599 -0.740262  0.194274  0.367166   \n",
      "2 -0.417342 -0.487722 -0.593381 -0.272599 -0.740262  1.282714 -0.265812   \n",
      "3 -0.416750 -0.487722 -1.306878 -0.272599 -0.835284  1.016303 -0.809889   \n",
      "4 -0.412482 -0.487722 -1.306878 -0.272599 -0.835284  1.228577 -0.511180   \n",
      "\n",
      "         X8        X9       X10       X11       X12       X13         Y  \n",
      "0  0.140214 -0.982843 -0.666608 -1.459000  0.441052 -1.075562  0.159686  \n",
      "1  0.557160 -0.867883 -0.987329 -0.303094  0.441052 -0.492439 -0.101524  \n",
      "2  0.557160 -0.867883 -0.987329 -0.303094  0.396427 -1.208727  1.324247  \n",
      "3  1.077737 -0.752922 -1.106115  0.113032  0.416163 -1.361517  1.182758  \n",
      "4  1.077737 -0.752922 -1.106115  0.113032  0.441052 -1.026501  1.487503  \n"
     ]
    }
   ],
   "source": [
    "X,Y = bostonDataset.boston_data()"
   ]
  },
  {
   "cell_type": "code",
   "execution_count": 7,
   "id": "fe007438",
   "metadata": {
    "execution": {
     "iopub.execute_input": "2022-06-12T08:44:10.589645Z",
     "iopub.status.busy": "2022-06-12T08:44:10.589272Z",
     "iopub.status.idle": "2022-06-12T08:44:10.590851Z",
     "shell.execute_reply": "2022-06-12T08:44:10.591095Z"
    },
    "id": "fe007438",
    "papermill": {
     "duration": 0.011907,
     "end_time": "2022-06-12T08:44:10.591206",
     "exception": false,
     "start_time": "2022-06-12T08:44:10.579299",
     "status": "completed"
    },
    "tags": []
   },
   "outputs": [],
   "source": [
    "#Train test split for dataset \n",
    "X_train,X_test,Y_train,Y_test = train_test_split(X,Y,test_size = 0.2)\n",
    "train_data = dataset.CustomDataset(X_train,Y_train)\n",
    "test_data = dataset.CustomDataset(X_test,Y_test)\n"
   ]
  },
  {
   "cell_type": "markdown",
   "id": "a9a1af34",
   "metadata": {
    "id": "a9a1af34",
    "papermill": {
     "duration": 0.00734,
     "end_time": "2022-06-12T08:44:10.605880",
     "exception": false,
     "start_time": "2022-06-12T08:44:10.598540",
     "status": "completed"
    },
    "tags": []
   },
   "source": [
    "## Training Parameters "
   ]
  },
  {
   "cell_type": "code",
   "execution_count": 8,
   "id": "952b7fc8",
   "metadata": {
    "execution": {
     "iopub.execute_input": "2022-06-12T08:44:10.622847Z",
     "iopub.status.busy": "2022-06-12T08:44:10.622472Z",
     "iopub.status.idle": "2022-06-12T08:44:10.623760Z",
     "shell.execute_reply": "2022-06-12T08:44:10.623992Z"
    },
    "id": "952b7fc8",
    "papermill": {
     "duration": 0.011023,
     "end_time": "2022-06-12T08:44:10.624102",
     "exception": false,
     "start_time": "2022-06-12T08:44:10.613079",
     "status": "completed"
    },
    "tags": []
   },
   "outputs": [],
   "source": [
    "batch_size = 32\n",
    "n_epochs = 1000\n",
    "#Select the device \n",
    "device = torch.device('cuda' if torch.cuda.is_available() else 'cpu')"
   ]
  },
  {
   "cell_type": "markdown",
   "id": "a95e1600",
   "metadata": {
    "id": "a95e1600",
    "papermill": {
     "duration": 0.00714,
     "end_time": "2022-06-12T08:44:10.638511",
     "exception": false,
     "start_time": "2022-06-12T08:44:10.631371",
     "status": "completed"
    },
    "tags": []
   },
   "source": [
    "# ABC Pre-generator Model \n",
    "\n",
    "1. The catboost model is used as a pre-generator model for the ABC-GAN. \n",
    "2. The model is first trained on the entire dataset \n",
    "3. It generats X,Y pairs and we add some Gaussian noise with mean 0 and variance 1 to it which is then feed as input to the generator.\n"
   ]
  },
  {
   "cell_type": "code",
   "execution_count": 9,
   "id": "ff8ce7bd",
   "metadata": {
    "execution": {
     "iopub.execute_input": "2022-06-12T08:44:10.657814Z",
     "iopub.status.busy": "2022-06-12T08:44:10.657438Z",
     "iopub.status.idle": "2022-06-12T08:44:11.624431Z",
     "shell.execute_reply": "2022-06-12T08:44:11.624807Z"
    },
    "id": "ff8ce7bd",
    "papermill": {
     "duration": 0.979224,
     "end_time": "2022-06-12T08:44:11.624932",
     "exception": false,
     "start_time": "2022-06-12T08:44:10.645708",
     "status": "completed"
    },
    "tags": []
   },
   "outputs": [
    {
     "name": "stdout",
     "output_type": "stream",
     "text": [
      "Learning rate set to 0.033215\n",
      "0:\tlearn: 0.9791873\ttotal: 58.7ms\tremaining: 58.6s\n",
      "1:\tlearn: 0.9588504\ttotal: 59.8ms\tremaining: 29.8s\n",
      "2:\tlearn: 0.9395090\ttotal: 61.1ms\tremaining: 20.3s\n",
      "3:\tlearn: 0.9228451\ttotal: 62.1ms\tremaining: 15.5s\n",
      "4:\tlearn: 0.9038088\ttotal: 63ms\tremaining: 12.5s\n",
      "5:\tlearn: 0.8870254\ttotal: 64ms\tremaining: 10.6s\n",
      "6:\tlearn: 0.8701348\ttotal: 65ms\tremaining: 9.22s\n",
      "7:\tlearn: 0.8542939\ttotal: 65.9ms\tremaining: 8.17s\n",
      "8:\tlearn: 0.8386971\ttotal: 66.9ms\tremaining: 7.37s\n",
      "9:\tlearn: 0.8237334\ttotal: 67.9ms\tremaining: 6.72s\n",
      "10:\tlearn: 0.8083533\ttotal: 68.8ms\tremaining: 6.18s\n",
      "11:\tlearn: 0.7929352\ttotal: 69.6ms\tremaining: 5.73s\n",
      "12:\tlearn: 0.7785497\ttotal: 70.4ms\tremaining: 5.34s\n",
      "13:\tlearn: 0.7632427\ttotal: 71.3ms\tremaining: 5.02s\n",
      "14:\tlearn: 0.7489940\ttotal: 72.1ms\tremaining: 4.74s\n",
      "15:\tlearn: 0.7359234\ttotal: 73ms\tremaining: 4.49s\n",
      "16:\tlearn: 0.7229764\ttotal: 73.9ms\tremaining: 4.27s\n",
      "17:\tlearn: 0.7111397\ttotal: 74.7ms\tremaining: 4.08s\n",
      "18:\tlearn: 0.6991945\ttotal: 75.5ms\tremaining: 3.9s\n",
      "19:\tlearn: 0.6874249\ttotal: 76.3ms\tremaining: 3.74s\n",
      "20:\tlearn: 0.6735939\ttotal: 77.1ms\tremaining: 3.59s\n",
      "21:\tlearn: 0.6627267\ttotal: 77.8ms\tremaining: 3.46s\n",
      "22:\tlearn: 0.6515989\ttotal: 78.6ms\tremaining: 3.34s\n",
      "23:\tlearn: 0.6425458\ttotal: 79.4ms\tremaining: 3.23s\n",
      "24:\tlearn: 0.6329269\ttotal: 80.2ms\tremaining: 3.13s\n",
      "25:\tlearn: 0.6251227\ttotal: 81ms\tremaining: 3.03s\n",
      "26:\tlearn: 0.6166877\ttotal: 81.7ms\tremaining: 2.94s\n",
      "27:\tlearn: 0.6072732\ttotal: 82.5ms\tremaining: 2.86s\n",
      "28:\tlearn: 0.5982451\ttotal: 83.3ms\tremaining: 2.79s\n",
      "29:\tlearn: 0.5885163\ttotal: 84ms\tremaining: 2.71s\n",
      "30:\tlearn: 0.5791575\ttotal: 84.8ms\tremaining: 2.65s\n",
      "31:\tlearn: 0.5710975\ttotal: 85.6ms\tremaining: 2.59s\n",
      "32:\tlearn: 0.5642569\ttotal: 86.5ms\tremaining: 2.54s\n",
      "33:\tlearn: 0.5572534\ttotal: 87.3ms\tremaining: 2.48s\n",
      "34:\tlearn: 0.5512864\ttotal: 88.1ms\tremaining: 2.43s\n",
      "35:\tlearn: 0.5437693\ttotal: 88.9ms\tremaining: 2.38s\n",
      "36:\tlearn: 0.5364321\ttotal: 89.6ms\tremaining: 2.33s\n",
      "37:\tlearn: 0.5297187\ttotal: 90.6ms\tremaining: 2.29s\n",
      "38:\tlearn: 0.5229815\ttotal: 91.6ms\tremaining: 2.26s\n",
      "39:\tlearn: 0.5161356\ttotal: 92.4ms\tremaining: 2.22s\n",
      "40:\tlearn: 0.5099009\ttotal: 93.2ms\tremaining: 2.18s\n",
      "41:\tlearn: 0.5036367\ttotal: 94ms\tremaining: 2.14s\n",
      "42:\tlearn: 0.4982756\ttotal: 94.8ms\tremaining: 2.11s\n",
      "43:\tlearn: 0.4927865\ttotal: 95.6ms\tremaining: 2.08s\n",
      "44:\tlearn: 0.4862706\ttotal: 96.3ms\tremaining: 2.04s\n",
      "45:\tlearn: 0.4809509\ttotal: 97ms\tremaining: 2.01s\n",
      "46:\tlearn: 0.4751054\ttotal: 98.5ms\tremaining: 2s\n",
      "47:\tlearn: 0.4690107\ttotal: 99.4ms\tremaining: 1.97s\n",
      "48:\tlearn: 0.4628032\ttotal: 100ms\tremaining: 1.95s\n",
      "49:\tlearn: 0.4582031\ttotal: 101ms\tremaining: 1.92s\n",
      "50:\tlearn: 0.4533623\ttotal: 102ms\tremaining: 1.9s\n",
      "51:\tlearn: 0.4488577\ttotal: 103ms\tremaining: 1.87s\n",
      "52:\tlearn: 0.4444477\ttotal: 104ms\tremaining: 1.85s\n",
      "53:\tlearn: 0.4407366\ttotal: 104ms\tremaining: 1.82s\n",
      "54:\tlearn: 0.4359295\ttotal: 105ms\tremaining: 1.8s\n"
     ]
    },
    {
     "name": "stdout",
     "output_type": "stream",
     "text": [
      "55:\tlearn: 0.4314416\ttotal: 106ms\tremaining: 1.78s\n",
      "56:\tlearn: 0.4280477\ttotal: 107ms\tremaining: 1.77s\n",
      "57:\tlearn: 0.4236722\ttotal: 108ms\tremaining: 1.75s\n",
      "58:\tlearn: 0.4195658\ttotal: 108ms\tremaining: 1.73s\n",
      "59:\tlearn: 0.4152201\ttotal: 109ms\tremaining: 1.71s\n",
      "60:\tlearn: 0.4113286\ttotal: 110ms\tremaining: 1.69s\n",
      "61:\tlearn: 0.4078950\ttotal: 111ms\tremaining: 1.68s\n",
      "62:\tlearn: 0.4046151\ttotal: 112ms\tremaining: 1.66s\n",
      "63:\tlearn: 0.4005856\ttotal: 113ms\tremaining: 1.65s\n",
      "64:\tlearn: 0.3972971\ttotal: 113ms\tremaining: 1.63s\n",
      "65:\tlearn: 0.3935810\ttotal: 115ms\tremaining: 1.62s\n",
      "66:\tlearn: 0.3904051\ttotal: 116ms\tremaining: 1.61s\n",
      "67:\tlearn: 0.3869936\ttotal: 116ms\tremaining: 1.59s\n",
      "68:\tlearn: 0.3843312\ttotal: 117ms\tremaining: 1.58s\n",
      "69:\tlearn: 0.3818559\ttotal: 118ms\tremaining: 1.57s\n",
      "70:\tlearn: 0.3791994\ttotal: 119ms\tremaining: 1.55s\n",
      "71:\tlearn: 0.3759113\ttotal: 120ms\tremaining: 1.54s\n",
      "72:\tlearn: 0.3736509\ttotal: 121ms\tremaining: 1.53s\n",
      "73:\tlearn: 0.3707640\ttotal: 122ms\tremaining: 1.52s\n",
      "74:\tlearn: 0.3672376\ttotal: 122ms\tremaining: 1.51s\n",
      "75:\tlearn: 0.3648047\ttotal: 123ms\tremaining: 1.5s\n",
      "76:\tlearn: 0.3614298\ttotal: 124ms\tremaining: 1.49s\n",
      "77:\tlearn: 0.3580326\ttotal: 125ms\tremaining: 1.48s\n",
      "78:\tlearn: 0.3557423\ttotal: 126ms\tremaining: 1.46s\n",
      "79:\tlearn: 0.3534352\ttotal: 126ms\tremaining: 1.45s\n",
      "80:\tlearn: 0.3511433\ttotal: 127ms\tremaining: 1.44s\n",
      "81:\tlearn: 0.3490695\ttotal: 128ms\tremaining: 1.43s\n",
      "82:\tlearn: 0.3471131\ttotal: 129ms\tremaining: 1.42s\n",
      "83:\tlearn: 0.3446778\ttotal: 130ms\tremaining: 1.41s\n",
      "84:\tlearn: 0.3423470\ttotal: 131ms\tremaining: 1.41s\n",
      "85:\tlearn: 0.3399996\ttotal: 131ms\tremaining: 1.4s\n",
      "86:\tlearn: 0.3378991\ttotal: 132ms\tremaining: 1.39s\n",
      "87:\tlearn: 0.3350132\ttotal: 133ms\tremaining: 1.38s\n",
      "88:\tlearn: 0.3325466\ttotal: 134ms\tremaining: 1.37s\n",
      "89:\tlearn: 0.3304059\ttotal: 135ms\tremaining: 1.36s\n",
      "90:\tlearn: 0.3282358\ttotal: 136ms\tremaining: 1.35s\n",
      "91:\tlearn: 0.3266428\ttotal: 137ms\tremaining: 1.35s\n",
      "92:\tlearn: 0.3250157\ttotal: 138ms\tremaining: 1.34s\n",
      "93:\tlearn: 0.3234343\ttotal: 138ms\tremaining: 1.33s\n",
      "94:\tlearn: 0.3213813\ttotal: 139ms\tremaining: 1.33s\n",
      "95:\tlearn: 0.3200610\ttotal: 140ms\tremaining: 1.32s\n",
      "96:\tlearn: 0.3183961\ttotal: 141ms\tremaining: 1.31s\n",
      "97:\tlearn: 0.3167423\ttotal: 142ms\tremaining: 1.31s\n",
      "98:\tlearn: 0.3149610\ttotal: 143ms\tremaining: 1.3s\n",
      "99:\tlearn: 0.3133587\ttotal: 144ms\tremaining: 1.29s\n",
      "100:\tlearn: 0.3116628\ttotal: 145ms\tremaining: 1.29s\n",
      "101:\tlearn: 0.3098702\ttotal: 146ms\tremaining: 1.28s\n",
      "102:\tlearn: 0.3087589\ttotal: 147ms\tremaining: 1.28s\n",
      "103:\tlearn: 0.3072036\ttotal: 148ms\tremaining: 1.27s\n",
      "104:\tlearn: 0.3056306\ttotal: 149ms\tremaining: 1.27s\n",
      "105:\tlearn: 0.3047317\ttotal: 150ms\tremaining: 1.26s\n",
      "106:\tlearn: 0.3032984\ttotal: 151ms\tremaining: 1.26s\n",
      "107:\tlearn: 0.3021373\ttotal: 152ms\tremaining: 1.25s\n",
      "108:\tlearn: 0.3007398\ttotal: 153ms\tremaining: 1.25s\n",
      "109:\tlearn: 0.2996308\ttotal: 154ms\tremaining: 1.24s\n",
      "110:\tlearn: 0.2982051\ttotal: 155ms\tremaining: 1.24s\n",
      "111:\tlearn: 0.2965772\ttotal: 156ms\tremaining: 1.23s\n",
      "112:\tlearn: 0.2951408\ttotal: 156ms\tremaining: 1.23s\n",
      "113:\tlearn: 0.2939837\ttotal: 157ms\tremaining: 1.22s\n",
      "114:\tlearn: 0.2924982\ttotal: 158ms\tremaining: 1.22s\n",
      "115:\tlearn: 0.2916691\ttotal: 159ms\tremaining: 1.21s\n",
      "116:\tlearn: 0.2905377\ttotal: 160ms\tremaining: 1.21s\n",
      "117:\tlearn: 0.2888830\ttotal: 161ms\tremaining: 1.2s\n",
      "118:\tlearn: 0.2879470\ttotal: 161ms\tremaining: 1.2s\n",
      "119:\tlearn: 0.2871409\ttotal: 162ms\tremaining: 1.19s\n",
      "120:\tlearn: 0.2858099\ttotal: 163ms\tremaining: 1.19s\n",
      "121:\tlearn: 0.2851022\ttotal: 164ms\tremaining: 1.18s\n",
      "122:\tlearn: 0.2841944\ttotal: 165ms\tremaining: 1.17s\n",
      "123:\tlearn: 0.2833530\ttotal: 166ms\tremaining: 1.17s\n",
      "124:\tlearn: 0.2818757\ttotal: 166ms\tremaining: 1.16s\n",
      "125:\tlearn: 0.2806853\ttotal: 167ms\tremaining: 1.16s\n",
      "126:\tlearn: 0.2791834\ttotal: 168ms\tremaining: 1.15s\n",
      "127:\tlearn: 0.2783006\ttotal: 169ms\tremaining: 1.15s\n",
      "128:\tlearn: 0.2772600\ttotal: 170ms\tremaining: 1.14s\n",
      "129:\tlearn: 0.2762152\ttotal: 170ms\tremaining: 1.14s\n",
      "130:\tlearn: 0.2753826\ttotal: 171ms\tremaining: 1.14s\n",
      "131:\tlearn: 0.2744100\ttotal: 172ms\tremaining: 1.13s\n",
      "132:\tlearn: 0.2738196\ttotal: 173ms\tremaining: 1.13s\n",
      "133:\tlearn: 0.2729760\ttotal: 174ms\tremaining: 1.12s\n",
      "134:\tlearn: 0.2718602\ttotal: 175ms\tremaining: 1.12s\n",
      "135:\tlearn: 0.2706542\ttotal: 175ms\tremaining: 1.11s\n",
      "136:\tlearn: 0.2694454\ttotal: 176ms\tremaining: 1.11s\n",
      "137:\tlearn: 0.2688853\ttotal: 177ms\tremaining: 1.11s\n",
      "138:\tlearn: 0.2680914\ttotal: 178ms\tremaining: 1.1s\n",
      "139:\tlearn: 0.2672693\ttotal: 179ms\tremaining: 1.1s\n",
      "140:\tlearn: 0.2663509\ttotal: 180ms\tremaining: 1.1s\n",
      "141:\tlearn: 0.2654079\ttotal: 181ms\tremaining: 1.09s\n",
      "142:\tlearn: 0.2643971\ttotal: 183ms\tremaining: 1.09s\n",
      "143:\tlearn: 0.2637298\ttotal: 183ms\tremaining: 1.09s\n",
      "144:\tlearn: 0.2628606\ttotal: 184ms\tremaining: 1.09s\n",
      "145:\tlearn: 0.2618405\ttotal: 185ms\tremaining: 1.08s\n",
      "146:\tlearn: 0.2608235\ttotal: 186ms\tremaining: 1.08s\n",
      "147:\tlearn: 0.2597995\ttotal: 187ms\tremaining: 1.07s\n",
      "148:\tlearn: 0.2589909\ttotal: 188ms\tremaining: 1.07s\n",
      "149:\tlearn: 0.2580818\ttotal: 188ms\tremaining: 1.07s\n",
      "150:\tlearn: 0.2569145\ttotal: 189ms\tremaining: 1.06s\n",
      "151:\tlearn: 0.2559431\ttotal: 190ms\tremaining: 1.06s\n"
     ]
    },
    {
     "name": "stdout",
     "output_type": "stream",
     "text": [
      "152:\tlearn: 0.2552371\ttotal: 191ms\tremaining: 1.06s\n",
      "153:\tlearn: 0.2546422\ttotal: 192ms\tremaining: 1.05s\n",
      "154:\tlearn: 0.2540719\ttotal: 193ms\tremaining: 1.05s\n",
      "155:\tlearn: 0.2533198\ttotal: 194ms\tremaining: 1.05s\n",
      "156:\tlearn: 0.2525864\ttotal: 195ms\tremaining: 1.04s\n",
      "157:\tlearn: 0.2521079\ttotal: 195ms\tremaining: 1.04s\n",
      "158:\tlearn: 0.2512276\ttotal: 196ms\tremaining: 1.04s\n",
      "159:\tlearn: 0.2507634\ttotal: 197ms\tremaining: 1.03s\n",
      "160:\tlearn: 0.2497328\ttotal: 198ms\tremaining: 1.03s\n",
      "161:\tlearn: 0.2491662\ttotal: 198ms\tremaining: 1.03s\n",
      "162:\tlearn: 0.2488230\ttotal: 199ms\tremaining: 1.02s\n",
      "163:\tlearn: 0.2482137\ttotal: 200ms\tremaining: 1.02s\n",
      "164:\tlearn: 0.2477840\ttotal: 201ms\tremaining: 1.02s\n",
      "165:\tlearn: 0.2468083\ttotal: 202ms\tremaining: 1.01s\n",
      "166:\tlearn: 0.2461863\ttotal: 203ms\tremaining: 1.01s\n",
      "167:\tlearn: 0.2454674\ttotal: 203ms\tremaining: 1.01s\n",
      "168:\tlearn: 0.2447162\ttotal: 204ms\tremaining: 1s\n",
      "169:\tlearn: 0.2440920\ttotal: 205ms\tremaining: 1s\n",
      "170:\tlearn: 0.2435376\ttotal: 206ms\tremaining: 998ms\n",
      "171:\tlearn: 0.2425858\ttotal: 207ms\tremaining: 995ms\n",
      "172:\tlearn: 0.2419807\ttotal: 207ms\tremaining: 992ms\n",
      "173:\tlearn: 0.2411250\ttotal: 208ms\tremaining: 988ms\n",
      "174:\tlearn: 0.2402659\ttotal: 209ms\tremaining: 985ms\n",
      "175:\tlearn: 0.2399253\ttotal: 210ms\tremaining: 982ms\n",
      "176:\tlearn: 0.2394117\ttotal: 211ms\tremaining: 979ms\n",
      "177:\tlearn: 0.2389070\ttotal: 211ms\tremaining: 976ms\n",
      "178:\tlearn: 0.2383421\ttotal: 212ms\tremaining: 974ms\n",
      "179:\tlearn: 0.2373847\ttotal: 213ms\tremaining: 971ms\n",
      "180:\tlearn: 0.2363978\ttotal: 214ms\tremaining: 968ms\n",
      "181:\tlearn: 0.2354759\ttotal: 215ms\tremaining: 966ms\n",
      "182:\tlearn: 0.2348882\ttotal: 216ms\tremaining: 963ms\n",
      "183:\tlearn: 0.2342424\ttotal: 217ms\tremaining: 961ms\n",
      "184:\tlearn: 0.2335171\ttotal: 217ms\tremaining: 958ms\n",
      "185:\tlearn: 0.2330785\ttotal: 218ms\tremaining: 955ms\n",
      "186:\tlearn: 0.2323275\ttotal: 219ms\tremaining: 952ms\n",
      "187:\tlearn: 0.2317780\ttotal: 220ms\tremaining: 949ms\n",
      "188:\tlearn: 0.2311214\ttotal: 221ms\tremaining: 946ms\n",
      "189:\tlearn: 0.2305196\ttotal: 221ms\tremaining: 944ms\n",
      "190:\tlearn: 0.2299708\ttotal: 222ms\tremaining: 941ms\n",
      "191:\tlearn: 0.2294058\ttotal: 223ms\tremaining: 939ms\n",
      "192:\tlearn: 0.2286889\ttotal: 224ms\tremaining: 936ms\n",
      "193:\tlearn: 0.2280035\ttotal: 225ms\tremaining: 933ms\n",
      "194:\tlearn: 0.2271793\ttotal: 225ms\tremaining: 930ms\n",
      "195:\tlearn: 0.2265306\ttotal: 226ms\tremaining: 928ms\n",
      "196:\tlearn: 0.2259734\ttotal: 227ms\tremaining: 925ms\n",
      "197:\tlearn: 0.2254998\ttotal: 228ms\tremaining: 925ms\n",
      "198:\tlearn: 0.2250148\ttotal: 229ms\tremaining: 923ms\n",
      "199:\tlearn: 0.2243158\ttotal: 230ms\tremaining: 920ms\n",
      "200:\tlearn: 0.2236415\ttotal: 231ms\tremaining: 918ms\n",
      "201:\tlearn: 0.2231009\ttotal: 232ms\tremaining: 917ms\n",
      "202:\tlearn: 0.2225176\ttotal: 233ms\tremaining: 914ms\n",
      "203:\tlearn: 0.2219360\ttotal: 234ms\tremaining: 911ms\n",
      "204:\tlearn: 0.2215626\ttotal: 234ms\tremaining: 909ms\n",
      "205:\tlearn: 0.2209140\ttotal: 235ms\tremaining: 906ms\n",
      "206:\tlearn: 0.2203446\ttotal: 236ms\tremaining: 904ms\n",
      "207:\tlearn: 0.2199407\ttotal: 237ms\tremaining: 901ms\n",
      "208:\tlearn: 0.2195728\ttotal: 237ms\tremaining: 899ms\n",
      "209:\tlearn: 0.2188024\ttotal: 238ms\tremaining: 897ms\n",
      "210:\tlearn: 0.2180615\ttotal: 239ms\tremaining: 895ms\n",
      "211:\tlearn: 0.2174425\ttotal: 240ms\tremaining: 892ms\n",
      "212:\tlearn: 0.2169247\ttotal: 241ms\tremaining: 890ms\n",
      "213:\tlearn: 0.2162619\ttotal: 242ms\tremaining: 890ms\n",
      "214:\tlearn: 0.2156270\ttotal: 243ms\tremaining: 888ms\n",
      "215:\tlearn: 0.2150770\ttotal: 244ms\tremaining: 885ms\n",
      "216:\tlearn: 0.2145516\ttotal: 245ms\tremaining: 883ms\n",
      "217:\tlearn: 0.2141114\ttotal: 246ms\tremaining: 881ms\n",
      "218:\tlearn: 0.2135936\ttotal: 246ms\tremaining: 878ms\n",
      "219:\tlearn: 0.2129067\ttotal: 247ms\tremaining: 876ms\n",
      "220:\tlearn: 0.2122681\ttotal: 248ms\tremaining: 874ms\n",
      "221:\tlearn: 0.2115902\ttotal: 249ms\tremaining: 872ms\n",
      "222:\tlearn: 0.2109580\ttotal: 250ms\tremaining: 870ms\n",
      "223:\tlearn: 0.2103961\ttotal: 251ms\tremaining: 868ms\n",
      "224:\tlearn: 0.2095440\ttotal: 251ms\tremaining: 866ms\n",
      "225:\tlearn: 0.2089561\ttotal: 252ms\tremaining: 863ms\n",
      "226:\tlearn: 0.2085596\ttotal: 253ms\tremaining: 861ms\n",
      "227:\tlearn: 0.2080111\ttotal: 254ms\tremaining: 859ms\n",
      "228:\tlearn: 0.2073293\ttotal: 254ms\tremaining: 856ms\n",
      "229:\tlearn: 0.2066512\ttotal: 255ms\tremaining: 854ms\n",
      "230:\tlearn: 0.2058900\ttotal: 256ms\tremaining: 852ms\n",
      "231:\tlearn: 0.2053363\ttotal: 257ms\tremaining: 850ms\n",
      "232:\tlearn: 0.2050244\ttotal: 258ms\tremaining: 848ms\n",
      "233:\tlearn: 0.2044358\ttotal: 258ms\tremaining: 845ms\n",
      "234:\tlearn: 0.2037810\ttotal: 259ms\tremaining: 844ms\n",
      "235:\tlearn: 0.2033605\ttotal: 260ms\tremaining: 842ms\n",
      "236:\tlearn: 0.2026385\ttotal: 261ms\tremaining: 840ms\n",
      "237:\tlearn: 0.2023087\ttotal: 262ms\tremaining: 838ms\n",
      "238:\tlearn: 0.2018454\ttotal: 263ms\tremaining: 836ms\n",
      "239:\tlearn: 0.2012293\ttotal: 263ms\tremaining: 834ms\n",
      "240:\tlearn: 0.2005578\ttotal: 264ms\tremaining: 832ms\n",
      "241:\tlearn: 0.2002628\ttotal: 265ms\tremaining: 830ms\n",
      "242:\tlearn: 0.1997086\ttotal: 266ms\tremaining: 828ms\n",
      "243:\tlearn: 0.1992514\ttotal: 267ms\tremaining: 826ms\n",
      "244:\tlearn: 0.1986795\ttotal: 267ms\tremaining: 824ms\n",
      "245:\tlearn: 0.1981147\ttotal: 268ms\tremaining: 822ms\n",
      "246:\tlearn: 0.1975923\ttotal: 269ms\tremaining: 820ms\n",
      "247:\tlearn: 0.1972590\ttotal: 270ms\tremaining: 818ms\n",
      "248:\tlearn: 0.1968080\ttotal: 271ms\tremaining: 817ms\n",
      "249:\tlearn: 0.1962785\ttotal: 272ms\tremaining: 815ms\n",
      "250:\tlearn: 0.1957756\ttotal: 272ms\tremaining: 813ms\n",
      "251:\tlearn: 0.1952686\ttotal: 273ms\tremaining: 811ms\n",
      "252:\tlearn: 0.1948107\ttotal: 275ms\tremaining: 811ms\n",
      "253:\tlearn: 0.1944742\ttotal: 276ms\tremaining: 809ms\n",
      "254:\tlearn: 0.1940394\ttotal: 276ms\tremaining: 807ms\n",
      "255:\tlearn: 0.1936631\ttotal: 277ms\tremaining: 805ms\n",
      "256:\tlearn: 0.1931871\ttotal: 278ms\tremaining: 803ms\n",
      "257:\tlearn: 0.1928415\ttotal: 279ms\tremaining: 802ms\n",
      "258:\tlearn: 0.1923537\ttotal: 279ms\tremaining: 800ms\n",
      "259:\tlearn: 0.1916650\ttotal: 280ms\tremaining: 798ms\n",
      "260:\tlearn: 0.1912906\ttotal: 281ms\tremaining: 796ms\n",
      "261:\tlearn: 0.1907279\ttotal: 282ms\tremaining: 795ms\n",
      "262:\tlearn: 0.1901385\ttotal: 283ms\tremaining: 793ms\n",
      "263:\tlearn: 0.1895975\ttotal: 284ms\tremaining: 791ms\n",
      "264:\tlearn: 0.1891184\ttotal: 284ms\tremaining: 789ms\n",
      "265:\tlearn: 0.1886060\ttotal: 285ms\tremaining: 787ms\n",
      "266:\tlearn: 0.1879171\ttotal: 286ms\tremaining: 785ms\n",
      "267:\tlearn: 0.1875701\ttotal: 287ms\tremaining: 785ms\n",
      "268:\tlearn: 0.1870607\ttotal: 288ms\tremaining: 783ms\n",
      "269:\tlearn: 0.1866104\ttotal: 289ms\tremaining: 782ms\n",
      "270:\tlearn: 0.1860984\ttotal: 290ms\tremaining: 780ms\n",
      "271:\tlearn: 0.1853915\ttotal: 291ms\tremaining: 778ms\n",
      "272:\tlearn: 0.1848708\ttotal: 292ms\tremaining: 777ms\n",
      "273:\tlearn: 0.1843322\ttotal: 293ms\tremaining: 775ms\n",
      "274:\tlearn: 0.1839286\ttotal: 293ms\tremaining: 774ms\n",
      "275:\tlearn: 0.1832688\ttotal: 294ms\tremaining: 772ms\n",
      "276:\tlearn: 0.1829334\ttotal: 295ms\tremaining: 770ms\n"
     ]
    },
    {
     "name": "stdout",
     "output_type": "stream",
     "text": [
      "277:\tlearn: 0.1825718\ttotal: 296ms\tremaining: 769ms\n",
      "278:\tlearn: 0.1820974\ttotal: 297ms\tremaining: 767ms\n",
      "279:\tlearn: 0.1817588\ttotal: 298ms\tremaining: 765ms\n",
      "280:\tlearn: 0.1812500\ttotal: 299ms\tremaining: 764ms\n",
      "281:\tlearn: 0.1808049\ttotal: 299ms\tremaining: 762ms\n",
      "282:\tlearn: 0.1804367\ttotal: 300ms\tremaining: 761ms\n",
      "283:\tlearn: 0.1798698\ttotal: 301ms\tremaining: 759ms\n",
      "284:\tlearn: 0.1793198\ttotal: 302ms\tremaining: 758ms\n",
      "285:\tlearn: 0.1788440\ttotal: 303ms\tremaining: 756ms\n",
      "286:\tlearn: 0.1784999\ttotal: 304ms\tremaining: 755ms\n",
      "287:\tlearn: 0.1779931\ttotal: 305ms\tremaining: 753ms\n",
      "288:\tlearn: 0.1775223\ttotal: 306ms\tremaining: 752ms\n",
      "289:\tlearn: 0.1772721\ttotal: 306ms\tremaining: 750ms\n",
      "290:\tlearn: 0.1767028\ttotal: 307ms\tremaining: 748ms\n",
      "291:\tlearn: 0.1763251\ttotal: 308ms\tremaining: 747ms\n",
      "292:\tlearn: 0.1759972\ttotal: 309ms\tremaining: 745ms\n",
      "293:\tlearn: 0.1756500\ttotal: 310ms\tremaining: 744ms\n",
      "294:\tlearn: 0.1752002\ttotal: 311ms\tremaining: 742ms\n",
      "295:\tlearn: 0.1746937\ttotal: 311ms\tremaining: 741ms\n",
      "296:\tlearn: 0.1742119\ttotal: 313ms\tremaining: 741ms\n",
      "297:\tlearn: 0.1737735\ttotal: 314ms\tremaining: 739ms\n",
      "298:\tlearn: 0.1736060\ttotal: 315ms\tremaining: 738ms\n",
      "299:\tlearn: 0.1731586\ttotal: 315ms\tremaining: 736ms\n",
      "300:\tlearn: 0.1727363\ttotal: 316ms\tremaining: 734ms\n",
      "301:\tlearn: 0.1723380\ttotal: 317ms\tremaining: 733ms\n",
      "302:\tlearn: 0.1720045\ttotal: 318ms\tremaining: 731ms\n",
      "303:\tlearn: 0.1717067\ttotal: 319ms\tremaining: 730ms\n",
      "304:\tlearn: 0.1713365\ttotal: 320ms\tremaining: 728ms\n",
      "305:\tlearn: 0.1710841\ttotal: 320ms\tremaining: 727ms\n",
      "306:\tlearn: 0.1707858\ttotal: 321ms\tremaining: 725ms\n",
      "307:\tlearn: 0.1702680\ttotal: 322ms\tremaining: 724ms\n",
      "308:\tlearn: 0.1698992\ttotal: 323ms\tremaining: 722ms\n",
      "309:\tlearn: 0.1692955\ttotal: 324ms\tremaining: 720ms\n",
      "310:\tlearn: 0.1687274\ttotal: 324ms\tremaining: 719ms\n",
      "311:\tlearn: 0.1684597\ttotal: 325ms\tremaining: 717ms\n",
      "312:\tlearn: 0.1680049\ttotal: 326ms\tremaining: 716ms\n",
      "313:\tlearn: 0.1674966\ttotal: 327ms\tremaining: 714ms\n",
      "314:\tlearn: 0.1669924\ttotal: 328ms\tremaining: 713ms\n",
      "315:\tlearn: 0.1664695\ttotal: 329ms\tremaining: 711ms\n",
      "316:\tlearn: 0.1661660\ttotal: 329ms\tremaining: 710ms\n",
      "317:\tlearn: 0.1657560\ttotal: 330ms\tremaining: 708ms\n",
      "318:\tlearn: 0.1651981\ttotal: 331ms\tremaining: 706ms\n",
      "319:\tlearn: 0.1647840\ttotal: 332ms\tremaining: 705ms\n",
      "320:\tlearn: 0.1643223\ttotal: 333ms\tremaining: 703ms\n",
      "321:\tlearn: 0.1638434\ttotal: 333ms\tremaining: 702ms\n",
      "322:\tlearn: 0.1634161\ttotal: 334ms\tremaining: 701ms\n",
      "323:\tlearn: 0.1631444\ttotal: 335ms\tremaining: 699ms\n",
      "324:\tlearn: 0.1628206\ttotal: 336ms\tremaining: 698ms\n",
      "325:\tlearn: 0.1624305\ttotal: 337ms\tremaining: 696ms\n",
      "326:\tlearn: 0.1620282\ttotal: 337ms\tremaining: 694ms\n",
      "327:\tlearn: 0.1615914\ttotal: 338ms\tremaining: 693ms\n",
      "328:\tlearn: 0.1612089\ttotal: 339ms\tremaining: 691ms\n",
      "329:\tlearn: 0.1607977\ttotal: 340ms\tremaining: 690ms\n",
      "330:\tlearn: 0.1605114\ttotal: 341ms\tremaining: 689ms\n",
      "331:\tlearn: 0.1600945\ttotal: 342ms\tremaining: 687ms\n",
      "332:\tlearn: 0.1596181\ttotal: 342ms\tremaining: 686ms\n",
      "333:\tlearn: 0.1592914\ttotal: 343ms\tremaining: 684ms\n",
      "334:\tlearn: 0.1589043\ttotal: 344ms\tremaining: 683ms\n",
      "335:\tlearn: 0.1584372\ttotal: 345ms\tremaining: 682ms\n",
      "336:\tlearn: 0.1580432\ttotal: 346ms\tremaining: 681ms\n",
      "337:\tlearn: 0.1576831\ttotal: 347ms\tremaining: 679ms\n",
      "338:\tlearn: 0.1572957\ttotal: 348ms\tremaining: 678ms\n",
      "339:\tlearn: 0.1570032\ttotal: 348ms\tremaining: 676ms\n",
      "340:\tlearn: 0.1567128\ttotal: 349ms\tremaining: 675ms\n",
      "341:\tlearn: 0.1563400\ttotal: 350ms\tremaining: 674ms\n",
      "342:\tlearn: 0.1560794\ttotal: 351ms\tremaining: 672ms\n",
      "343:\tlearn: 0.1557077\ttotal: 352ms\tremaining: 671ms\n",
      "344:\tlearn: 0.1553153\ttotal: 352ms\tremaining: 669ms\n",
      "345:\tlearn: 0.1550310\ttotal: 353ms\tremaining: 668ms\n",
      "346:\tlearn: 0.1547606\ttotal: 354ms\tremaining: 666ms\n",
      "347:\tlearn: 0.1546162\ttotal: 355ms\tremaining: 665ms\n",
      "348:\tlearn: 0.1543062\ttotal: 356ms\tremaining: 664ms\n",
      "349:\tlearn: 0.1540140\ttotal: 357ms\tremaining: 663ms\n",
      "350:\tlearn: 0.1536448\ttotal: 358ms\tremaining: 661ms\n",
      "351:\tlearn: 0.1532820\ttotal: 358ms\tremaining: 660ms\n",
      "352:\tlearn: 0.1530524\ttotal: 359ms\tremaining: 658ms\n",
      "353:\tlearn: 0.1527988\ttotal: 360ms\tremaining: 657ms\n",
      "354:\tlearn: 0.1525639\ttotal: 361ms\tremaining: 656ms\n",
      "355:\tlearn: 0.1522427\ttotal: 362ms\tremaining: 655ms\n",
      "356:\tlearn: 0.1517934\ttotal: 363ms\tremaining: 653ms\n",
      "357:\tlearn: 0.1515546\ttotal: 364ms\tremaining: 652ms\n",
      "358:\tlearn: 0.1512575\ttotal: 364ms\tremaining: 651ms\n",
      "359:\tlearn: 0.1509099\ttotal: 365ms\tremaining: 649ms\n",
      "360:\tlearn: 0.1505497\ttotal: 366ms\tremaining: 648ms\n",
      "361:\tlearn: 0.1503611\ttotal: 367ms\tremaining: 647ms\n",
      "362:\tlearn: 0.1500786\ttotal: 368ms\tremaining: 645ms\n",
      "363:\tlearn: 0.1498186\ttotal: 368ms\tremaining: 644ms\n",
      "364:\tlearn: 0.1494793\ttotal: 369ms\tremaining: 643ms\n",
      "365:\tlearn: 0.1493075\ttotal: 370ms\tremaining: 641ms\n",
      "366:\tlearn: 0.1488936\ttotal: 371ms\tremaining: 640ms\n",
      "367:\tlearn: 0.1485527\ttotal: 372ms\tremaining: 638ms\n",
      "368:\tlearn: 0.1482856\ttotal: 372ms\tremaining: 637ms\n",
      "369:\tlearn: 0.1480717\ttotal: 373ms\tremaining: 636ms\n",
      "370:\tlearn: 0.1477743\ttotal: 374ms\tremaining: 634ms\n",
      "371:\tlearn: 0.1474169\ttotal: 375ms\tremaining: 633ms\n",
      "372:\tlearn: 0.1472149\ttotal: 376ms\tremaining: 631ms\n",
      "373:\tlearn: 0.1469126\ttotal: 376ms\tremaining: 630ms\n",
      "374:\tlearn: 0.1466308\ttotal: 377ms\tremaining: 629ms\n",
      "375:\tlearn: 0.1462947\ttotal: 378ms\tremaining: 627ms\n",
      "376:\tlearn: 0.1459528\ttotal: 379ms\tremaining: 626ms\n",
      "377:\tlearn: 0.1456210\ttotal: 380ms\tremaining: 625ms\n",
      "378:\tlearn: 0.1452995\ttotal: 381ms\tremaining: 624ms\n"
     ]
    },
    {
     "name": "stdout",
     "output_type": "stream",
     "text": [
      "379:\tlearn: 0.1450839\ttotal: 382ms\tremaining: 623ms\n",
      "380:\tlearn: 0.1448425\ttotal: 383ms\tremaining: 622ms\n",
      "381:\tlearn: 0.1445114\ttotal: 383ms\tremaining: 620ms\n",
      "382:\tlearn: 0.1444007\ttotal: 384ms\tremaining: 619ms\n",
      "383:\tlearn: 0.1441566\ttotal: 385ms\tremaining: 618ms\n",
      "384:\tlearn: 0.1438517\ttotal: 386ms\tremaining: 616ms\n",
      "385:\tlearn: 0.1435206\ttotal: 387ms\tremaining: 615ms\n",
      "386:\tlearn: 0.1432857\ttotal: 388ms\tremaining: 614ms\n",
      "387:\tlearn: 0.1429786\ttotal: 389ms\tremaining: 613ms\n",
      "388:\tlearn: 0.1427323\ttotal: 389ms\tremaining: 611ms\n",
      "389:\tlearn: 0.1426266\ttotal: 390ms\tremaining: 610ms\n",
      "390:\tlearn: 0.1423546\ttotal: 391ms\tremaining: 609ms\n",
      "391:\tlearn: 0.1420968\ttotal: 392ms\tremaining: 607ms\n",
      "392:\tlearn: 0.1418725\ttotal: 392ms\tremaining: 606ms\n",
      "393:\tlearn: 0.1415636\ttotal: 393ms\tremaining: 605ms\n",
      "394:\tlearn: 0.1414106\ttotal: 394ms\tremaining: 604ms\n",
      "395:\tlearn: 0.1412579\ttotal: 395ms\tremaining: 602ms\n",
      "396:\tlearn: 0.1410462\ttotal: 396ms\tremaining: 601ms\n",
      "397:\tlearn: 0.1408876\ttotal: 397ms\tremaining: 600ms\n",
      "398:\tlearn: 0.1406813\ttotal: 397ms\tremaining: 598ms\n",
      "399:\tlearn: 0.1404242\ttotal: 398ms\tremaining: 597ms\n",
      "400:\tlearn: 0.1400903\ttotal: 399ms\tremaining: 596ms\n",
      "401:\tlearn: 0.1398628\ttotal: 400ms\tremaining: 594ms\n",
      "402:\tlearn: 0.1397228\ttotal: 400ms\tremaining: 593ms\n",
      "403:\tlearn: 0.1394792\ttotal: 401ms\tremaining: 592ms\n",
      "404:\tlearn: 0.1392102\ttotal: 402ms\tremaining: 590ms\n",
      "405:\tlearn: 0.1388755\ttotal: 403ms\tremaining: 589ms\n",
      "406:\tlearn: 0.1386567\ttotal: 403ms\tremaining: 588ms\n",
      "407:\tlearn: 0.1383811\ttotal: 404ms\tremaining: 587ms\n",
      "408:\tlearn: 0.1380411\ttotal: 405ms\tremaining: 585ms\n",
      "409:\tlearn: 0.1378034\ttotal: 406ms\tremaining: 584ms\n",
      "410:\tlearn: 0.1374436\ttotal: 407ms\tremaining: 583ms\n",
      "411:\tlearn: 0.1372184\ttotal: 408ms\tremaining: 582ms\n",
      "412:\tlearn: 0.1371518\ttotal: 408ms\tremaining: 580ms\n",
      "413:\tlearn: 0.1367826\ttotal: 409ms\tremaining: 579ms\n",
      "414:\tlearn: 0.1365649\ttotal: 410ms\tremaining: 578ms\n",
      "415:\tlearn: 0.1365098\ttotal: 411ms\tremaining: 577ms\n",
      "416:\tlearn: 0.1364220\ttotal: 412ms\tremaining: 576ms\n",
      "417:\tlearn: 0.1360239\ttotal: 413ms\tremaining: 574ms\n",
      "418:\tlearn: 0.1357799\ttotal: 413ms\tremaining: 573ms\n",
      "419:\tlearn: 0.1356694\ttotal: 414ms\tremaining: 572ms\n",
      "420:\tlearn: 0.1355408\ttotal: 415ms\tremaining: 571ms\n",
      "421:\tlearn: 0.1353991\ttotal: 416ms\tremaining: 570ms\n",
      "422:\tlearn: 0.1350379\ttotal: 417ms\tremaining: 569ms\n",
      "423:\tlearn: 0.1348454\ttotal: 418ms\tremaining: 567ms\n",
      "424:\tlearn: 0.1347075\ttotal: 419ms\tremaining: 566ms\n",
      "425:\tlearn: 0.1345878\ttotal: 419ms\tremaining: 565ms\n",
      "426:\tlearn: 0.1344605\ttotal: 420ms\tremaining: 564ms\n",
      "427:\tlearn: 0.1342074\ttotal: 421ms\tremaining: 562ms\n",
      "428:\tlearn: 0.1339825\ttotal: 422ms\tremaining: 561ms\n",
      "429:\tlearn: 0.1338883\ttotal: 422ms\tremaining: 560ms\n",
      "430:\tlearn: 0.1336632\ttotal: 423ms\tremaining: 559ms\n",
      "431:\tlearn: 0.1333128\ttotal: 424ms\tremaining: 558ms\n",
      "432:\tlearn: 0.1330392\ttotal: 425ms\tremaining: 556ms\n",
      "433:\tlearn: 0.1329275\ttotal: 426ms\tremaining: 555ms\n",
      "434:\tlearn: 0.1326938\ttotal: 427ms\tremaining: 554ms\n",
      "435:\tlearn: 0.1324564\ttotal: 427ms\tremaining: 553ms\n",
      "436:\tlearn: 0.1321190\ttotal: 428ms\tremaining: 552ms\n",
      "437:\tlearn: 0.1319285\ttotal: 429ms\tremaining: 550ms\n",
      "438:\tlearn: 0.1316465\ttotal: 430ms\tremaining: 549ms\n",
      "439:\tlearn: 0.1315901\ttotal: 430ms\tremaining: 548ms\n",
      "440:\tlearn: 0.1313537\ttotal: 431ms\tremaining: 547ms\n",
      "441:\tlearn: 0.1312903\ttotal: 432ms\tremaining: 546ms\n",
      "442:\tlearn: 0.1310057\ttotal: 433ms\tremaining: 545ms\n",
      "443:\tlearn: 0.1308183\ttotal: 434ms\tremaining: 544ms\n",
      "444:\tlearn: 0.1306233\ttotal: 435ms\tremaining: 542ms\n",
      "445:\tlearn: 0.1304766\ttotal: 436ms\tremaining: 541ms\n",
      "446:\tlearn: 0.1301234\ttotal: 436ms\tremaining: 540ms\n",
      "447:\tlearn: 0.1299432\ttotal: 437ms\tremaining: 539ms\n",
      "448:\tlearn: 0.1295751\ttotal: 438ms\tremaining: 538ms\n",
      "449:\tlearn: 0.1292534\ttotal: 439ms\tremaining: 537ms\n",
      "450:\tlearn: 0.1291273\ttotal: 440ms\tremaining: 535ms\n",
      "451:\tlearn: 0.1288514\ttotal: 441ms\tremaining: 535ms\n",
      "452:\tlearn: 0.1285532\ttotal: 442ms\tremaining: 534ms\n",
      "453:\tlearn: 0.1282678\ttotal: 443ms\tremaining: 533ms\n",
      "454:\tlearn: 0.1281226\ttotal: 444ms\tremaining: 531ms\n",
      "455:\tlearn: 0.1279144\ttotal: 444ms\tremaining: 530ms\n",
      "456:\tlearn: 0.1276303\ttotal: 445ms\tremaining: 529ms\n",
      "457:\tlearn: 0.1273781\ttotal: 446ms\tremaining: 528ms\n",
      "458:\tlearn: 0.1271629\ttotal: 447ms\tremaining: 526ms\n",
      "459:\tlearn: 0.1269613\ttotal: 447ms\tremaining: 525ms\n",
      "460:\tlearn: 0.1267602\ttotal: 448ms\tremaining: 524ms\n",
      "461:\tlearn: 0.1266278\ttotal: 449ms\tremaining: 523ms\n",
      "462:\tlearn: 0.1264252\ttotal: 450ms\tremaining: 522ms\n",
      "463:\tlearn: 0.1261372\ttotal: 451ms\tremaining: 520ms\n",
      "464:\tlearn: 0.1259082\ttotal: 451ms\tremaining: 519ms\n",
      "465:\tlearn: 0.1257032\ttotal: 452ms\tremaining: 518ms\n",
      "466:\tlearn: 0.1253876\ttotal: 453ms\tremaining: 517ms\n",
      "467:\tlearn: 0.1253304\ttotal: 454ms\tremaining: 516ms\n",
      "468:\tlearn: 0.1252397\ttotal: 454ms\tremaining: 515ms\n",
      "469:\tlearn: 0.1249354\ttotal: 455ms\tremaining: 513ms\n",
      "470:\tlearn: 0.1248039\ttotal: 456ms\tremaining: 512ms\n",
      "471:\tlearn: 0.1244773\ttotal: 457ms\tremaining: 511ms\n",
      "472:\tlearn: 0.1244298\ttotal: 458ms\tremaining: 510ms\n",
      "473:\tlearn: 0.1243196\ttotal: 458ms\tremaining: 509ms\n",
      "474:\tlearn: 0.1241873\ttotal: 459ms\tremaining: 508ms\n",
      "475:\tlearn: 0.1238932\ttotal: 460ms\tremaining: 507ms\n",
      "476:\tlearn: 0.1236638\ttotal: 461ms\tremaining: 506ms\n",
      "477:\tlearn: 0.1233345\ttotal: 462ms\tremaining: 504ms\n",
      "478:\tlearn: 0.1230867\ttotal: 463ms\tremaining: 503ms\n",
      "479:\tlearn: 0.1229172\ttotal: 464ms\tremaining: 502ms\n",
      "480:\tlearn: 0.1227857\ttotal: 464ms\tremaining: 501ms\n",
      "481:\tlearn: 0.1225685\ttotal: 465ms\tremaining: 500ms\n",
      "482:\tlearn: 0.1223188\ttotal: 466ms\tremaining: 499ms\n",
      "483:\tlearn: 0.1222711\ttotal: 467ms\tremaining: 498ms\n",
      "484:\tlearn: 0.1220913\ttotal: 468ms\tremaining: 497ms\n",
      "485:\tlearn: 0.1219119\ttotal: 469ms\tremaining: 495ms\n",
      "486:\tlearn: 0.1216166\ttotal: 469ms\tremaining: 494ms\n",
      "487:\tlearn: 0.1214579\ttotal: 470ms\tremaining: 493ms\n",
      "488:\tlearn: 0.1212702\ttotal: 471ms\tremaining: 492ms\n",
      "489:\tlearn: 0.1209897\ttotal: 472ms\tremaining: 491ms\n",
      "490:\tlearn: 0.1207159\ttotal: 473ms\tremaining: 490ms\n",
      "491:\tlearn: 0.1205281\ttotal: 473ms\tremaining: 489ms\n",
      "492:\tlearn: 0.1203468\ttotal: 474ms\tremaining: 488ms\n",
      "493:\tlearn: 0.1202713\ttotal: 475ms\tremaining: 487ms\n",
      "494:\tlearn: 0.1201353\ttotal: 476ms\tremaining: 485ms\n",
      "495:\tlearn: 0.1198439\ttotal: 477ms\tremaining: 484ms\n",
      "496:\tlearn: 0.1196638\ttotal: 478ms\tremaining: 483ms\n",
      "497:\tlearn: 0.1195383\ttotal: 478ms\tremaining: 482ms\n",
      "498:\tlearn: 0.1192992\ttotal: 479ms\tremaining: 481ms\n",
      "499:\tlearn: 0.1190902\ttotal: 480ms\tremaining: 480ms\n",
      "500:\tlearn: 0.1188089\ttotal: 481ms\tremaining: 479ms\n",
      "501:\tlearn: 0.1185780\ttotal: 482ms\tremaining: 478ms\n",
      "502:\tlearn: 0.1183160\ttotal: 483ms\tremaining: 477ms\n",
      "503:\tlearn: 0.1180590\ttotal: 484ms\tremaining: 476ms\n",
      "504:\tlearn: 0.1179890\ttotal: 484ms\tremaining: 475ms\n",
      "505:\tlearn: 0.1177370\ttotal: 485ms\tremaining: 474ms\n"
     ]
    },
    {
     "name": "stdout",
     "output_type": "stream",
     "text": [
      "506:\tlearn: 0.1174911\ttotal: 486ms\tremaining: 473ms\n",
      "507:\tlearn: 0.1173070\ttotal: 487ms\tremaining: 472ms\n",
      "508:\tlearn: 0.1171095\ttotal: 488ms\tremaining: 471ms\n",
      "509:\tlearn: 0.1170196\ttotal: 489ms\tremaining: 470ms\n",
      "510:\tlearn: 0.1167483\ttotal: 490ms\tremaining: 469ms\n",
      "511:\tlearn: 0.1165964\ttotal: 491ms\tremaining: 468ms\n",
      "512:\tlearn: 0.1164691\ttotal: 492ms\tremaining: 467ms\n",
      "513:\tlearn: 0.1162254\ttotal: 492ms\tremaining: 465ms\n",
      "514:\tlearn: 0.1159685\ttotal: 493ms\tremaining: 464ms\n",
      "515:\tlearn: 0.1157404\ttotal: 494ms\tremaining: 463ms\n",
      "516:\tlearn: 0.1156415\ttotal: 495ms\tremaining: 462ms\n",
      "517:\tlearn: 0.1154515\ttotal: 495ms\tremaining: 461ms\n",
      "518:\tlearn: 0.1152281\ttotal: 496ms\tremaining: 460ms\n",
      "519:\tlearn: 0.1149687\ttotal: 497ms\tremaining: 459ms\n",
      "520:\tlearn: 0.1148112\ttotal: 498ms\tremaining: 458ms\n",
      "521:\tlearn: 0.1145308\ttotal: 499ms\tremaining: 457ms\n",
      "522:\tlearn: 0.1143556\ttotal: 500ms\tremaining: 456ms\n",
      "523:\tlearn: 0.1141190\ttotal: 500ms\tremaining: 454ms\n",
      "524:\tlearn: 0.1139937\ttotal: 501ms\tremaining: 454ms\n",
      "525:\tlearn: 0.1137358\ttotal: 502ms\tremaining: 452ms\n",
      "526:\tlearn: 0.1134898\ttotal: 503ms\tremaining: 451ms\n",
      "527:\tlearn: 0.1133190\ttotal: 504ms\tremaining: 450ms\n",
      "528:\tlearn: 0.1131920\ttotal: 505ms\tremaining: 449ms\n",
      "529:\tlearn: 0.1129814\ttotal: 506ms\tremaining: 449ms\n",
      "530:\tlearn: 0.1128006\ttotal: 507ms\tremaining: 447ms\n",
      "531:\tlearn: 0.1126600\ttotal: 507ms\tremaining: 446ms\n",
      "532:\tlearn: 0.1125318\ttotal: 508ms\tremaining: 445ms\n",
      "533:\tlearn: 0.1123299\ttotal: 509ms\tremaining: 444ms\n",
      "534:\tlearn: 0.1121292\ttotal: 510ms\tremaining: 443ms\n",
      "535:\tlearn: 0.1118964\ttotal: 510ms\tremaining: 442ms\n",
      "536:\tlearn: 0.1117023\ttotal: 511ms\tremaining: 441ms\n",
      "537:\tlearn: 0.1116118\ttotal: 513ms\tremaining: 440ms\n",
      "538:\tlearn: 0.1115058\ttotal: 514ms\tremaining: 439ms\n",
      "539:\tlearn: 0.1111889\ttotal: 514ms\tremaining: 438ms\n",
      "540:\tlearn: 0.1111145\ttotal: 515ms\tremaining: 437ms\n",
      "541:\tlearn: 0.1110040\ttotal: 516ms\tremaining: 436ms\n",
      "542:\tlearn: 0.1108332\ttotal: 517ms\tremaining: 435ms\n",
      "543:\tlearn: 0.1106495\ttotal: 518ms\tremaining: 434ms\n",
      "544:\tlearn: 0.1105159\ttotal: 518ms\tremaining: 433ms\n",
      "545:\tlearn: 0.1102905\ttotal: 519ms\tremaining: 432ms\n",
      "546:\tlearn: 0.1101982\ttotal: 520ms\tremaining: 431ms\n",
      "547:\tlearn: 0.1100832\ttotal: 521ms\tremaining: 429ms\n",
      "548:\tlearn: 0.1098383\ttotal: 521ms\tremaining: 428ms\n",
      "549:\tlearn: 0.1095097\ttotal: 522ms\tremaining: 427ms\n",
      "550:\tlearn: 0.1092569\ttotal: 523ms\tremaining: 426ms\n",
      "551:\tlearn: 0.1091450\ttotal: 524ms\tremaining: 425ms\n",
      "552:\tlearn: 0.1089901\ttotal: 525ms\tremaining: 424ms\n",
      "553:\tlearn: 0.1089424\ttotal: 526ms\tremaining: 423ms\n",
      "554:\tlearn: 0.1087720\ttotal: 526ms\tremaining: 422ms\n",
      "555:\tlearn: 0.1084712\ttotal: 527ms\tremaining: 421ms\n",
      "556:\tlearn: 0.1082067\ttotal: 528ms\tremaining: 420ms\n",
      "557:\tlearn: 0.1081008\ttotal: 529ms\tremaining: 419ms\n",
      "558:\tlearn: 0.1080578\ttotal: 530ms\tremaining: 418ms\n",
      "559:\tlearn: 0.1077329\ttotal: 531ms\tremaining: 417ms\n",
      "560:\tlearn: 0.1075905\ttotal: 531ms\tremaining: 416ms\n",
      "561:\tlearn: 0.1074561\ttotal: 532ms\tremaining: 415ms\n",
      "562:\tlearn: 0.1072142\ttotal: 533ms\tremaining: 414ms\n",
      "563:\tlearn: 0.1070462\ttotal: 534ms\tremaining: 413ms\n",
      "564:\tlearn: 0.1069272\ttotal: 535ms\tremaining: 412ms\n",
      "565:\tlearn: 0.1067162\ttotal: 535ms\tremaining: 411ms\n",
      "566:\tlearn: 0.1065654\ttotal: 536ms\tremaining: 410ms\n",
      "567:\tlearn: 0.1064389\ttotal: 537ms\tremaining: 409ms\n",
      "568:\tlearn: 0.1063242\ttotal: 538ms\tremaining: 408ms\n",
      "569:\tlearn: 0.1060753\ttotal: 539ms\tremaining: 406ms\n",
      "570:\tlearn: 0.1059785\ttotal: 540ms\tremaining: 405ms\n",
      "571:\tlearn: 0.1058379\ttotal: 541ms\tremaining: 405ms\n",
      "572:\tlearn: 0.1056466\ttotal: 541ms\tremaining: 403ms\n",
      "573:\tlearn: 0.1054211\ttotal: 542ms\tremaining: 402ms\n",
      "574:\tlearn: 0.1052380\ttotal: 543ms\tremaining: 401ms\n",
      "575:\tlearn: 0.1050427\ttotal: 544ms\tremaining: 400ms\n",
      "576:\tlearn: 0.1049672\ttotal: 545ms\tremaining: 399ms\n",
      "577:\tlearn: 0.1048682\ttotal: 545ms\tremaining: 398ms\n",
      "578:\tlearn: 0.1048449\ttotal: 546ms\tremaining: 397ms\n",
      "579:\tlearn: 0.1048091\ttotal: 547ms\tremaining: 396ms\n",
      "580:\tlearn: 0.1046775\ttotal: 548ms\tremaining: 395ms\n",
      "581:\tlearn: 0.1044431\ttotal: 549ms\tremaining: 394ms\n",
      "582:\tlearn: 0.1042069\ttotal: 550ms\tremaining: 393ms\n",
      "583:\tlearn: 0.1039894\ttotal: 551ms\tremaining: 392ms\n",
      "584:\tlearn: 0.1037708\ttotal: 551ms\tremaining: 391ms\n",
      "585:\tlearn: 0.1035245\ttotal: 552ms\tremaining: 390ms\n",
      "586:\tlearn: 0.1034547\ttotal: 553ms\tremaining: 389ms\n",
      "587:\tlearn: 0.1032810\ttotal: 554ms\tremaining: 388ms\n",
      "588:\tlearn: 0.1031394\ttotal: 555ms\tremaining: 387ms\n",
      "589:\tlearn: 0.1031056\ttotal: 555ms\tremaining: 386ms\n",
      "590:\tlearn: 0.1030522\ttotal: 556ms\tremaining: 385ms\n",
      "591:\tlearn: 0.1027817\ttotal: 557ms\tremaining: 384ms\n",
      "592:\tlearn: 0.1027140\ttotal: 558ms\tremaining: 383ms\n",
      "593:\tlearn: 0.1025604\ttotal: 559ms\tremaining: 382ms\n",
      "594:\tlearn: 0.1025265\ttotal: 560ms\tremaining: 381ms\n",
      "595:\tlearn: 0.1023465\ttotal: 560ms\tremaining: 380ms\n",
      "596:\tlearn: 0.1022103\ttotal: 561ms\tremaining: 379ms\n",
      "597:\tlearn: 0.1020610\ttotal: 562ms\tremaining: 378ms\n",
      "598:\tlearn: 0.1019924\ttotal: 563ms\tremaining: 377ms\n",
      "599:\tlearn: 0.1018996\ttotal: 564ms\tremaining: 376ms\n",
      "600:\tlearn: 0.1017846\ttotal: 564ms\tremaining: 375ms\n",
      "601:\tlearn: 0.1015656\ttotal: 565ms\tremaining: 374ms\n",
      "602:\tlearn: 0.1014934\ttotal: 566ms\tremaining: 373ms\n",
      "603:\tlearn: 0.1014191\ttotal: 567ms\tremaining: 372ms\n",
      "604:\tlearn: 0.1012426\ttotal: 568ms\tremaining: 371ms\n",
      "605:\tlearn: 0.1010257\ttotal: 569ms\tremaining: 370ms\n",
      "606:\tlearn: 0.1008669\ttotal: 570ms\tremaining: 369ms\n",
      "607:\tlearn: 0.1007324\ttotal: 570ms\tremaining: 368ms\n"
     ]
    },
    {
     "name": "stdout",
     "output_type": "stream",
     "text": [
      "608:\tlearn: 0.1005123\ttotal: 572ms\tremaining: 367ms\n",
      "609:\tlearn: 0.1003380\ttotal: 573ms\tremaining: 366ms\n",
      "610:\tlearn: 0.1002328\ttotal: 574ms\tremaining: 365ms\n",
      "611:\tlearn: 0.1000039\ttotal: 574ms\tremaining: 364ms\n",
      "612:\tlearn: 0.0999045\ttotal: 575ms\tremaining: 363ms\n",
      "613:\tlearn: 0.0997380\ttotal: 576ms\tremaining: 362ms\n",
      "614:\tlearn: 0.0994966\ttotal: 577ms\tremaining: 361ms\n",
      "615:\tlearn: 0.0993483\ttotal: 578ms\tremaining: 360ms\n",
      "616:\tlearn: 0.0992105\ttotal: 579ms\tremaining: 359ms\n",
      "617:\tlearn: 0.0990922\ttotal: 580ms\tremaining: 358ms\n",
      "618:\tlearn: 0.0990751\ttotal: 581ms\tremaining: 357ms\n",
      "619:\tlearn: 0.0988736\ttotal: 581ms\tremaining: 356ms\n",
      "620:\tlearn: 0.0988230\ttotal: 582ms\tremaining: 355ms\n",
      "621:\tlearn: 0.0988005\ttotal: 583ms\tremaining: 354ms\n",
      "622:\tlearn: 0.0986281\ttotal: 584ms\tremaining: 353ms\n",
      "623:\tlearn: 0.0985319\ttotal: 585ms\tremaining: 352ms\n",
      "624:\tlearn: 0.0983954\ttotal: 585ms\tremaining: 351ms\n",
      "625:\tlearn: 0.0982265\ttotal: 586ms\tremaining: 350ms\n",
      "626:\tlearn: 0.0980077\ttotal: 587ms\tremaining: 349ms\n",
      "627:\tlearn: 0.0978234\ttotal: 588ms\tremaining: 348ms\n",
      "628:\tlearn: 0.0976323\ttotal: 588ms\tremaining: 347ms\n",
      "629:\tlearn: 0.0974184\ttotal: 589ms\tremaining: 346ms\n",
      "630:\tlearn: 0.0971996\ttotal: 590ms\tremaining: 345ms\n",
      "631:\tlearn: 0.0970883\ttotal: 591ms\tremaining: 344ms\n",
      "632:\tlearn: 0.0968549\ttotal: 592ms\tremaining: 343ms\n",
      "633:\tlearn: 0.0966592\ttotal: 593ms\tremaining: 342ms\n",
      "634:\tlearn: 0.0965185\ttotal: 593ms\tremaining: 341ms\n",
      "635:\tlearn: 0.0963377\ttotal: 594ms\tremaining: 340ms\n",
      "636:\tlearn: 0.0961347\ttotal: 595ms\tremaining: 339ms\n",
      "637:\tlearn: 0.0959904\ttotal: 596ms\tremaining: 338ms\n",
      "638:\tlearn: 0.0958209\ttotal: 597ms\tremaining: 337ms\n",
      "639:\tlearn: 0.0957310\ttotal: 598ms\tremaining: 336ms\n",
      "640:\tlearn: 0.0956801\ttotal: 599ms\tremaining: 335ms\n",
      "641:\tlearn: 0.0955413\ttotal: 600ms\tremaining: 335ms\n",
      "642:\tlearn: 0.0954703\ttotal: 601ms\tremaining: 333ms\n",
      "643:\tlearn: 0.0954183\ttotal: 601ms\tremaining: 332ms\n",
      "644:\tlearn: 0.0954006\ttotal: 602ms\tremaining: 332ms\n",
      "645:\tlearn: 0.0952981\ttotal: 603ms\tremaining: 330ms\n",
      "646:\tlearn: 0.0952024\ttotal: 604ms\tremaining: 329ms\n",
      "647:\tlearn: 0.0951823\ttotal: 605ms\tremaining: 328ms\n",
      "648:\tlearn: 0.0950710\ttotal: 605ms\tremaining: 327ms\n",
      "649:\tlearn: 0.0948522\ttotal: 606ms\tremaining: 326ms\n",
      "650:\tlearn: 0.0947549\ttotal: 607ms\tremaining: 325ms\n",
      "651:\tlearn: 0.0946884\ttotal: 608ms\tremaining: 325ms\n",
      "652:\tlearn: 0.0945253\ttotal: 609ms\tremaining: 324ms\n",
      "653:\tlearn: 0.0944600\ttotal: 610ms\tremaining: 323ms\n",
      "654:\tlearn: 0.0943820\ttotal: 611ms\tremaining: 322ms\n",
      "655:\tlearn: 0.0943164\ttotal: 612ms\tremaining: 321ms\n",
      "656:\tlearn: 0.0941933\ttotal: 612ms\tremaining: 320ms\n",
      "657:\tlearn: 0.0940606\ttotal: 613ms\tremaining: 319ms\n",
      "658:\tlearn: 0.0938496\ttotal: 614ms\tremaining: 318ms\n",
      "659:\tlearn: 0.0937490\ttotal: 615ms\tremaining: 317ms\n",
      "660:\tlearn: 0.0935405\ttotal: 616ms\tremaining: 316ms\n",
      "661:\tlearn: 0.0933122\ttotal: 617ms\tremaining: 315ms\n",
      "662:\tlearn: 0.0931814\ttotal: 617ms\tremaining: 314ms\n",
      "663:\tlearn: 0.0931249\ttotal: 618ms\tremaining: 313ms\n",
      "664:\tlearn: 0.0930313\ttotal: 619ms\tremaining: 312ms\n",
      "665:\tlearn: 0.0927484\ttotal: 620ms\tremaining: 311ms\n",
      "666:\tlearn: 0.0925444\ttotal: 620ms\tremaining: 310ms\n",
      "667:\tlearn: 0.0925267\ttotal: 621ms\tremaining: 309ms\n",
      "668:\tlearn: 0.0923394\ttotal: 622ms\tremaining: 308ms\n",
      "669:\tlearn: 0.0923210\ttotal: 623ms\tremaining: 307ms\n",
      "670:\tlearn: 0.0922268\ttotal: 624ms\tremaining: 306ms\n",
      "671:\tlearn: 0.0920500\ttotal: 625ms\tremaining: 305ms\n",
      "672:\tlearn: 0.0918677\ttotal: 625ms\tremaining: 304ms\n",
      "673:\tlearn: 0.0917239\ttotal: 626ms\tremaining: 303ms\n",
      "674:\tlearn: 0.0917035\ttotal: 627ms\tremaining: 302ms\n",
      "675:\tlearn: 0.0915393\ttotal: 628ms\tremaining: 301ms\n",
      "676:\tlearn: 0.0914913\ttotal: 629ms\tremaining: 300ms\n",
      "677:\tlearn: 0.0914040\ttotal: 630ms\tremaining: 299ms\n",
      "678:\tlearn: 0.0913078\ttotal: 631ms\tremaining: 298ms\n",
      "679:\tlearn: 0.0912513\ttotal: 631ms\tremaining: 297ms\n",
      "680:\tlearn: 0.0911894\ttotal: 632ms\tremaining: 296ms\n",
      "681:\tlearn: 0.0910654\ttotal: 633ms\tremaining: 295ms\n",
      "682:\tlearn: 0.0908859\ttotal: 634ms\tremaining: 294ms\n",
      "683:\tlearn: 0.0908690\ttotal: 635ms\tremaining: 293ms\n",
      "684:\tlearn: 0.0908148\ttotal: 635ms\tremaining: 292ms\n",
      "685:\tlearn: 0.0907647\ttotal: 636ms\tremaining: 291ms\n",
      "686:\tlearn: 0.0905885\ttotal: 637ms\tremaining: 290ms\n",
      "687:\tlearn: 0.0905538\ttotal: 638ms\tremaining: 289ms\n",
      "688:\tlearn: 0.0903907\ttotal: 639ms\tremaining: 288ms\n",
      "689:\tlearn: 0.0903750\ttotal: 640ms\tremaining: 288ms\n",
      "690:\tlearn: 0.0902179\ttotal: 641ms\tremaining: 287ms\n",
      "691:\tlearn: 0.0900431\ttotal: 642ms\tremaining: 286ms\n",
      "692:\tlearn: 0.0898733\ttotal: 642ms\tremaining: 285ms\n",
      "693:\tlearn: 0.0897347\ttotal: 643ms\tremaining: 284ms\n",
      "694:\tlearn: 0.0895867\ttotal: 644ms\tremaining: 283ms\n",
      "695:\tlearn: 0.0894190\ttotal: 645ms\tremaining: 282ms\n",
      "696:\tlearn: 0.0892909\ttotal: 646ms\tremaining: 281ms\n",
      "697:\tlearn: 0.0892129\ttotal: 647ms\tremaining: 280ms\n",
      "698:\tlearn: 0.0891536\ttotal: 647ms\tremaining: 279ms\n",
      "699:\tlearn: 0.0890375\ttotal: 648ms\tremaining: 278ms\n",
      "700:\tlearn: 0.0888928\ttotal: 649ms\tremaining: 277ms\n",
      "701:\tlearn: 0.0887441\ttotal: 650ms\tremaining: 276ms\n",
      "702:\tlearn: 0.0887320\ttotal: 651ms\tremaining: 275ms\n",
      "703:\tlearn: 0.0886778\ttotal: 651ms\tremaining: 274ms\n",
      "704:\tlearn: 0.0884677\ttotal: 652ms\tremaining: 273ms\n",
      "705:\tlearn: 0.0883590\ttotal: 653ms\tremaining: 272ms\n",
      "706:\tlearn: 0.0883418\ttotal: 654ms\tremaining: 271ms\n",
      "707:\tlearn: 0.0883168\ttotal: 655ms\tremaining: 270ms\n",
      "708:\tlearn: 0.0882416\ttotal: 656ms\tremaining: 269ms\n",
      "709:\tlearn: 0.0881938\ttotal: 656ms\tremaining: 268ms\n",
      "710:\tlearn: 0.0880618\ttotal: 657ms\tremaining: 267ms\n",
      "711:\tlearn: 0.0879044\ttotal: 658ms\tremaining: 266ms\n",
      "712:\tlearn: 0.0878863\ttotal: 659ms\tremaining: 265ms\n",
      "713:\tlearn: 0.0876692\ttotal: 660ms\tremaining: 264ms\n",
      "714:\tlearn: 0.0875633\ttotal: 661ms\tremaining: 264ms\n",
      "715:\tlearn: 0.0875500\ttotal: 662ms\tremaining: 263ms\n",
      "716:\tlearn: 0.0875356\ttotal: 663ms\tremaining: 262ms\n",
      "717:\tlearn: 0.0874544\ttotal: 664ms\tremaining: 261ms\n",
      "718:\tlearn: 0.0873372\ttotal: 664ms\tremaining: 260ms\n",
      "719:\tlearn: 0.0872358\ttotal: 665ms\tremaining: 259ms\n",
      "720:\tlearn: 0.0871500\ttotal: 666ms\tremaining: 258ms\n",
      "721:\tlearn: 0.0870185\ttotal: 667ms\tremaining: 257ms\n",
      "722:\tlearn: 0.0867791\ttotal: 668ms\tremaining: 256ms\n",
      "723:\tlearn: 0.0866433\ttotal: 669ms\tremaining: 255ms\n",
      "724:\tlearn: 0.0865148\ttotal: 670ms\tremaining: 254ms\n",
      "725:\tlearn: 0.0863928\ttotal: 670ms\tremaining: 253ms\n",
      "726:\tlearn: 0.0863365\ttotal: 671ms\tremaining: 252ms\n",
      "727:\tlearn: 0.0862682\ttotal: 672ms\tremaining: 251ms\n",
      "728:\tlearn: 0.0861297\ttotal: 673ms\tremaining: 250ms\n",
      "729:\tlearn: 0.0859795\ttotal: 674ms\tremaining: 249ms\n",
      "730:\tlearn: 0.0857383\ttotal: 675ms\tremaining: 248ms\n",
      "731:\tlearn: 0.0856541\ttotal: 675ms\tremaining: 247ms\n"
     ]
    },
    {
     "name": "stdout",
     "output_type": "stream",
     "text": [
      "732:\tlearn: 0.0853638\ttotal: 677ms\tremaining: 246ms\n",
      "733:\tlearn: 0.0853209\ttotal: 677ms\tremaining: 246ms\n",
      "734:\tlearn: 0.0851087\ttotal: 678ms\tremaining: 245ms\n",
      "735:\tlearn: 0.0849639\ttotal: 679ms\tremaining: 244ms\n",
      "736:\tlearn: 0.0848190\ttotal: 680ms\tremaining: 243ms\n",
      "737:\tlearn: 0.0846894\ttotal: 681ms\tremaining: 242ms\n",
      "738:\tlearn: 0.0844657\ttotal: 682ms\tremaining: 241ms\n",
      "739:\tlearn: 0.0842737\ttotal: 683ms\tremaining: 240ms\n",
      "740:\tlearn: 0.0842351\ttotal: 684ms\tremaining: 239ms\n",
      "741:\tlearn: 0.0840718\ttotal: 684ms\tremaining: 238ms\n",
      "742:\tlearn: 0.0840569\ttotal: 685ms\tremaining: 237ms\n",
      "743:\tlearn: 0.0839117\ttotal: 686ms\tremaining: 236ms\n",
      "744:\tlearn: 0.0838047\ttotal: 687ms\tremaining: 235ms\n",
      "745:\tlearn: 0.0837500\ttotal: 688ms\tremaining: 234ms\n",
      "746:\tlearn: 0.0835613\ttotal: 689ms\tremaining: 233ms\n",
      "747:\tlearn: 0.0834339\ttotal: 690ms\tremaining: 232ms\n",
      "748:\tlearn: 0.0832774\ttotal: 690ms\tremaining: 231ms\n",
      "749:\tlearn: 0.0830740\ttotal: 691ms\tremaining: 230ms\n",
      "750:\tlearn: 0.0830112\ttotal: 692ms\tremaining: 229ms\n",
      "751:\tlearn: 0.0829351\ttotal: 693ms\tremaining: 228ms\n",
      "752:\tlearn: 0.0828359\ttotal: 694ms\tremaining: 228ms\n",
      "753:\tlearn: 0.0826917\ttotal: 695ms\tremaining: 227ms\n",
      "754:\tlearn: 0.0826185\ttotal: 696ms\tremaining: 226ms\n",
      "755:\tlearn: 0.0825313\ttotal: 696ms\tremaining: 225ms\n",
      "756:\tlearn: 0.0824058\ttotal: 697ms\tremaining: 224ms\n",
      "757:\tlearn: 0.0822245\ttotal: 698ms\tremaining: 223ms\n",
      "758:\tlearn: 0.0821984\ttotal: 699ms\tremaining: 222ms\n",
      "759:\tlearn: 0.0821240\ttotal: 700ms\tremaining: 221ms\n",
      "760:\tlearn: 0.0820681\ttotal: 700ms\tremaining: 220ms\n",
      "761:\tlearn: 0.0819509\ttotal: 701ms\tremaining: 219ms\n",
      "762:\tlearn: 0.0818999\ttotal: 702ms\tremaining: 218ms\n",
      "763:\tlearn: 0.0817648\ttotal: 703ms\tremaining: 217ms\n",
      "764:\tlearn: 0.0815842\ttotal: 704ms\tremaining: 216ms\n",
      "765:\tlearn: 0.0815000\ttotal: 705ms\tremaining: 215ms\n",
      "766:\tlearn: 0.0814448\ttotal: 705ms\tremaining: 214ms\n",
      "767:\tlearn: 0.0812648\ttotal: 706ms\tremaining: 213ms\n",
      "768:\tlearn: 0.0812455\ttotal: 707ms\tremaining: 212ms\n",
      "769:\tlearn: 0.0810824\ttotal: 708ms\tremaining: 211ms\n",
      "770:\tlearn: 0.0808880\ttotal: 709ms\tremaining: 211ms\n",
      "771:\tlearn: 0.0808491\ttotal: 710ms\tremaining: 210ms\n",
      "772:\tlearn: 0.0807659\ttotal: 711ms\tremaining: 209ms\n",
      "773:\tlearn: 0.0806533\ttotal: 711ms\tremaining: 208ms\n",
      "774:\tlearn: 0.0804821\ttotal: 712ms\tremaining: 207ms\n",
      "775:\tlearn: 0.0804318\ttotal: 713ms\tremaining: 206ms\n",
      "776:\tlearn: 0.0803516\ttotal: 714ms\tremaining: 205ms\n",
      "777:\tlearn: 0.0803269\ttotal: 715ms\tremaining: 204ms\n",
      "778:\tlearn: 0.0801913\ttotal: 715ms\tremaining: 203ms\n",
      "779:\tlearn: 0.0800346\ttotal: 716ms\tremaining: 202ms\n",
      "780:\tlearn: 0.0798578\ttotal: 717ms\tremaining: 201ms\n",
      "781:\tlearn: 0.0797411\ttotal: 718ms\tremaining: 200ms\n",
      "782:\tlearn: 0.0796724\ttotal: 719ms\tremaining: 199ms\n",
      "783:\tlearn: 0.0796119\ttotal: 719ms\tremaining: 198ms\n",
      "784:\tlearn: 0.0794680\ttotal: 720ms\tremaining: 197ms\n",
      "785:\tlearn: 0.0793709\ttotal: 721ms\tremaining: 196ms\n",
      "786:\tlearn: 0.0793366\ttotal: 722ms\tremaining: 195ms\n",
      "787:\tlearn: 0.0792226\ttotal: 723ms\tremaining: 194ms\n",
      "788:\tlearn: 0.0790600\ttotal: 723ms\tremaining: 193ms\n",
      "789:\tlearn: 0.0789784\ttotal: 724ms\tremaining: 192ms\n",
      "790:\tlearn: 0.0788143\ttotal: 725ms\tremaining: 192ms\n",
      "791:\tlearn: 0.0787218\ttotal: 726ms\tremaining: 191ms\n",
      "792:\tlearn: 0.0785638\ttotal: 727ms\tremaining: 190ms\n",
      "793:\tlearn: 0.0784899\ttotal: 727ms\tremaining: 189ms\n",
      "794:\tlearn: 0.0784666\ttotal: 728ms\tremaining: 188ms\n",
      "795:\tlearn: 0.0784375\ttotal: 729ms\tremaining: 187ms\n",
      "796:\tlearn: 0.0783599\ttotal: 730ms\tremaining: 186ms\n",
      "797:\tlearn: 0.0782059\ttotal: 731ms\tremaining: 185ms\n",
      "798:\tlearn: 0.0780679\ttotal: 732ms\tremaining: 184ms\n",
      "799:\tlearn: 0.0779288\ttotal: 733ms\tremaining: 183ms\n",
      "800:\tlearn: 0.0778068\ttotal: 733ms\tremaining: 182ms\n",
      "801:\tlearn: 0.0776972\ttotal: 734ms\tremaining: 181ms\n",
      "802:\tlearn: 0.0776065\ttotal: 735ms\tremaining: 180ms\n",
      "803:\tlearn: 0.0775843\ttotal: 736ms\tremaining: 179ms\n",
      "804:\tlearn: 0.0775207\ttotal: 737ms\tremaining: 178ms\n",
      "805:\tlearn: 0.0774364\ttotal: 737ms\tremaining: 178ms\n",
      "806:\tlearn: 0.0773421\ttotal: 738ms\tremaining: 177ms\n",
      "807:\tlearn: 0.0771892\ttotal: 739ms\tremaining: 176ms\n",
      "808:\tlearn: 0.0770464\ttotal: 740ms\tremaining: 175ms\n",
      "809:\tlearn: 0.0768404\ttotal: 741ms\tremaining: 174ms\n",
      "810:\tlearn: 0.0768227\ttotal: 742ms\tremaining: 173ms\n",
      "811:\tlearn: 0.0766250\ttotal: 742ms\tremaining: 172ms\n",
      "812:\tlearn: 0.0765594\ttotal: 743ms\tremaining: 171ms\n",
      "813:\tlearn: 0.0764709\ttotal: 744ms\tremaining: 170ms\n",
      "814:\tlearn: 0.0763669\ttotal: 745ms\tremaining: 169ms\n",
      "815:\tlearn: 0.0762663\ttotal: 746ms\tremaining: 168ms\n",
      "816:\tlearn: 0.0760975\ttotal: 747ms\tremaining: 167ms\n",
      "817:\tlearn: 0.0760132\ttotal: 749ms\tremaining: 167ms\n",
      "818:\tlearn: 0.0758487\ttotal: 750ms\tremaining: 166ms\n",
      "819:\tlearn: 0.0758083\ttotal: 750ms\tremaining: 165ms\n",
      "820:\tlearn: 0.0756975\ttotal: 751ms\tremaining: 164ms\n",
      "821:\tlearn: 0.0756417\ttotal: 752ms\tremaining: 163ms\n",
      "822:\tlearn: 0.0755508\ttotal: 753ms\tremaining: 162ms\n",
      "823:\tlearn: 0.0754390\ttotal: 754ms\tremaining: 161ms\n",
      "824:\tlearn: 0.0753504\ttotal: 755ms\tremaining: 160ms\n",
      "825:\tlearn: 0.0752240\ttotal: 756ms\tremaining: 159ms\n",
      "826:\tlearn: 0.0751970\ttotal: 756ms\tremaining: 158ms\n",
      "827:\tlearn: 0.0751113\ttotal: 757ms\tremaining: 157ms\n",
      "828:\tlearn: 0.0750390\ttotal: 758ms\tremaining: 156ms\n",
      "829:\tlearn: 0.0749340\ttotal: 759ms\tremaining: 155ms\n",
      "830:\tlearn: 0.0747861\ttotal: 760ms\tremaining: 155ms\n",
      "831:\tlearn: 0.0747222\ttotal: 761ms\tremaining: 154ms\n"
     ]
    },
    {
     "name": "stdout",
     "output_type": "stream",
     "text": [
      "832:\tlearn: 0.0745727\ttotal: 762ms\tremaining: 153ms\n",
      "833:\tlearn: 0.0744782\ttotal: 763ms\tremaining: 152ms\n",
      "834:\tlearn: 0.0744618\ttotal: 764ms\tremaining: 151ms\n",
      "835:\tlearn: 0.0743255\ttotal: 764ms\tremaining: 150ms\n",
      "836:\tlearn: 0.0742263\ttotal: 765ms\tremaining: 149ms\n",
      "837:\tlearn: 0.0741779\ttotal: 766ms\tremaining: 148ms\n",
      "838:\tlearn: 0.0739501\ttotal: 767ms\tremaining: 147ms\n",
      "839:\tlearn: 0.0738976\ttotal: 768ms\tremaining: 146ms\n",
      "840:\tlearn: 0.0737180\ttotal: 768ms\tremaining: 145ms\n",
      "841:\tlearn: 0.0736817\ttotal: 769ms\tremaining: 144ms\n",
      "842:\tlearn: 0.0735949\ttotal: 770ms\tremaining: 143ms\n",
      "843:\tlearn: 0.0735405\ttotal: 771ms\tremaining: 142ms\n",
      "844:\tlearn: 0.0733821\ttotal: 772ms\tremaining: 142ms\n",
      "845:\tlearn: 0.0732485\ttotal: 773ms\tremaining: 141ms\n",
      "846:\tlearn: 0.0732161\ttotal: 774ms\tremaining: 140ms\n",
      "847:\tlearn: 0.0731434\ttotal: 775ms\tremaining: 139ms\n",
      "848:\tlearn: 0.0730142\ttotal: 776ms\tremaining: 138ms\n",
      "849:\tlearn: 0.0729301\ttotal: 776ms\tremaining: 137ms\n",
      "850:\tlearn: 0.0728575\ttotal: 777ms\tremaining: 136ms\n",
      "851:\tlearn: 0.0728262\ttotal: 778ms\tremaining: 135ms\n",
      "852:\tlearn: 0.0728140\ttotal: 779ms\tremaining: 134ms\n",
      "853:\tlearn: 0.0726943\ttotal: 780ms\tremaining: 133ms\n",
      "854:\tlearn: 0.0726712\ttotal: 780ms\tremaining: 132ms\n",
      "855:\tlearn: 0.0726229\ttotal: 781ms\tremaining: 131ms\n",
      "856:\tlearn: 0.0725872\ttotal: 782ms\tremaining: 131ms\n",
      "857:\tlearn: 0.0724550\ttotal: 783ms\tremaining: 130ms\n",
      "858:\tlearn: 0.0723284\ttotal: 784ms\tremaining: 129ms\n",
      "859:\tlearn: 0.0722209\ttotal: 784ms\tremaining: 128ms\n",
      "860:\tlearn: 0.0720592\ttotal: 785ms\tremaining: 127ms\n",
      "861:\tlearn: 0.0720420\ttotal: 786ms\tremaining: 126ms\n",
      "862:\tlearn: 0.0718990\ttotal: 787ms\tremaining: 125ms\n",
      "863:\tlearn: 0.0717596\ttotal: 788ms\tremaining: 124ms\n",
      "864:\tlearn: 0.0716676\ttotal: 789ms\tremaining: 123ms\n",
      "865:\tlearn: 0.0716137\ttotal: 790ms\tremaining: 122ms\n",
      "866:\tlearn: 0.0715516\ttotal: 791ms\tremaining: 121ms\n",
      "867:\tlearn: 0.0715111\ttotal: 791ms\tremaining: 120ms\n",
      "868:\tlearn: 0.0713208\ttotal: 792ms\tremaining: 119ms\n",
      "869:\tlearn: 0.0711822\ttotal: 793ms\tremaining: 119ms\n",
      "870:\tlearn: 0.0711692\ttotal: 794ms\tremaining: 118ms\n",
      "871:\tlearn: 0.0710865\ttotal: 795ms\tremaining: 117ms\n",
      "872:\tlearn: 0.0710525\ttotal: 795ms\tremaining: 116ms\n",
      "873:\tlearn: 0.0709574\ttotal: 796ms\tremaining: 115ms\n",
      "874:\tlearn: 0.0708574\ttotal: 797ms\tremaining: 114ms\n",
      "875:\tlearn: 0.0707576\ttotal: 798ms\tremaining: 113ms\n",
      "876:\tlearn: 0.0706787\ttotal: 798ms\tremaining: 112ms\n",
      "877:\tlearn: 0.0705362\ttotal: 800ms\tremaining: 111ms\n",
      "878:\tlearn: 0.0703831\ttotal: 800ms\tremaining: 110ms\n",
      "879:\tlearn: 0.0703365\ttotal: 801ms\tremaining: 109ms\n",
      "880:\tlearn: 0.0701575\ttotal: 802ms\tremaining: 108ms\n",
      "881:\tlearn: 0.0700913\ttotal: 803ms\tremaining: 107ms\n",
      "882:\tlearn: 0.0700102\ttotal: 803ms\tremaining: 106ms\n",
      "883:\tlearn: 0.0699146\ttotal: 804ms\tremaining: 106ms\n",
      "884:\tlearn: 0.0697431\ttotal: 805ms\tremaining: 105ms\n",
      "885:\tlearn: 0.0697249\ttotal: 806ms\tremaining: 104ms\n",
      "886:\tlearn: 0.0696868\ttotal: 807ms\tremaining: 103ms\n",
      "887:\tlearn: 0.0695327\ttotal: 807ms\tremaining: 102ms\n",
      "888:\tlearn: 0.0694808\ttotal: 808ms\tremaining: 101ms\n",
      "889:\tlearn: 0.0692865\ttotal: 809ms\tremaining: 100ms\n",
      "890:\tlearn: 0.0691718\ttotal: 810ms\tremaining: 99.1ms\n",
      "891:\tlearn: 0.0691584\ttotal: 811ms\tremaining: 98.1ms\n",
      "892:\tlearn: 0.0691065\ttotal: 811ms\tremaining: 97.2ms\n",
      "893:\tlearn: 0.0689903\ttotal: 812ms\tremaining: 96.3ms\n",
      "894:\tlearn: 0.0689059\ttotal: 813ms\tremaining: 95.4ms\n",
      "895:\tlearn: 0.0688346\ttotal: 814ms\tremaining: 94.4ms\n",
      "896:\tlearn: 0.0687927\ttotal: 815ms\tremaining: 93.5ms\n",
      "897:\tlearn: 0.0687153\ttotal: 815ms\tremaining: 92.6ms\n",
      "898:\tlearn: 0.0686189\ttotal: 816ms\tremaining: 91.7ms\n",
      "899:\tlearn: 0.0685908\ttotal: 817ms\tremaining: 90.8ms\n",
      "900:\tlearn: 0.0684954\ttotal: 818ms\tremaining: 89.9ms\n",
      "901:\tlearn: 0.0684189\ttotal: 819ms\tremaining: 89ms\n",
      "902:\tlearn: 0.0682634\ttotal: 820ms\tremaining: 88.1ms\n",
      "903:\tlearn: 0.0682507\ttotal: 821ms\tremaining: 87.1ms\n",
      "904:\tlearn: 0.0681418\ttotal: 821ms\tremaining: 86.2ms\n",
      "905:\tlearn: 0.0680580\ttotal: 822ms\tremaining: 85.3ms\n",
      "906:\tlearn: 0.0678961\ttotal: 823ms\tremaining: 84.4ms\n",
      "907:\tlearn: 0.0677926\ttotal: 824ms\tremaining: 83.5ms\n",
      "908:\tlearn: 0.0677661\ttotal: 825ms\tremaining: 82.6ms\n",
      "909:\tlearn: 0.0677042\ttotal: 826ms\tremaining: 81.7ms\n",
      "910:\tlearn: 0.0675917\ttotal: 827ms\tremaining: 80.8ms\n",
      "911:\tlearn: 0.0675428\ttotal: 828ms\tremaining: 79.9ms\n",
      "912:\tlearn: 0.0673977\ttotal: 829ms\tremaining: 78.9ms\n",
      "913:\tlearn: 0.0673789\ttotal: 829ms\tremaining: 78ms\n",
      "914:\tlearn: 0.0673542\ttotal: 830ms\tremaining: 77.1ms\n",
      "915:\tlearn: 0.0671956\ttotal: 831ms\tremaining: 76.2ms\n",
      "916:\tlearn: 0.0670929\ttotal: 832ms\tremaining: 75.3ms\n",
      "917:\tlearn: 0.0670828\ttotal: 833ms\tremaining: 74.4ms\n",
      "918:\tlearn: 0.0670626\ttotal: 834ms\tremaining: 73.5ms\n",
      "919:\tlearn: 0.0669714\ttotal: 834ms\tremaining: 72.6ms\n",
      "920:\tlearn: 0.0668498\ttotal: 835ms\tremaining: 71.7ms\n",
      "921:\tlearn: 0.0667505\ttotal: 836ms\tremaining: 70.8ms\n",
      "922:\tlearn: 0.0666140\ttotal: 837ms\tremaining: 69.8ms\n",
      "923:\tlearn: 0.0664553\ttotal: 838ms\tremaining: 68.9ms\n",
      "924:\tlearn: 0.0663047\ttotal: 839ms\tremaining: 68ms\n",
      "925:\tlearn: 0.0662953\ttotal: 840ms\tremaining: 67.1ms\n",
      "926:\tlearn: 0.0661520\ttotal: 841ms\tremaining: 66.2ms\n",
      "927:\tlearn: 0.0660164\ttotal: 841ms\tremaining: 65.3ms\n",
      "928:\tlearn: 0.0659321\ttotal: 842ms\tremaining: 64.4ms\n",
      "929:\tlearn: 0.0658794\ttotal: 843ms\tremaining: 63.5ms\n",
      "930:\tlearn: 0.0657503\ttotal: 844ms\tremaining: 62.5ms\n",
      "931:\tlearn: 0.0656923\ttotal: 845ms\tremaining: 61.6ms\n",
      "932:\tlearn: 0.0655753\ttotal: 845ms\tremaining: 60.7ms\n",
      "933:\tlearn: 0.0654545\ttotal: 846ms\tremaining: 59.8ms\n",
      "934:\tlearn: 0.0653503\ttotal: 847ms\tremaining: 58.9ms\n",
      "935:\tlearn: 0.0652645\ttotal: 848ms\tremaining: 58ms\n",
      "936:\tlearn: 0.0650925\ttotal: 849ms\tremaining: 57.1ms\n",
      "937:\tlearn: 0.0650136\ttotal: 850ms\tremaining: 56.2ms\n",
      "938:\tlearn: 0.0648898\ttotal: 850ms\tremaining: 55.2ms\n",
      "939:\tlearn: 0.0647904\ttotal: 851ms\tremaining: 54.3ms\n",
      "940:\tlearn: 0.0647230\ttotal: 852ms\tremaining: 53.4ms\n",
      "941:\tlearn: 0.0646293\ttotal: 853ms\tremaining: 52.5ms\n",
      "942:\tlearn: 0.0644887\ttotal: 853ms\tremaining: 51.6ms\n",
      "943:\tlearn: 0.0643706\ttotal: 854ms\tremaining: 50.7ms\n",
      "944:\tlearn: 0.0643061\ttotal: 855ms\tremaining: 49.8ms\n",
      "945:\tlearn: 0.0642016\ttotal: 856ms\tremaining: 48.9ms\n",
      "946:\tlearn: 0.0641330\ttotal: 857ms\tremaining: 47.9ms\n",
      "947:\tlearn: 0.0640847\ttotal: 857ms\tremaining: 47ms\n",
      "948:\tlearn: 0.0640086\ttotal: 858ms\tremaining: 46.1ms\n",
      "949:\tlearn: 0.0639983\ttotal: 859ms\tremaining: 45.2ms\n",
      "950:\tlearn: 0.0639707\ttotal: 860ms\tremaining: 44.3ms\n",
      "951:\tlearn: 0.0639155\ttotal: 861ms\tremaining: 43.4ms\n",
      "952:\tlearn: 0.0638535\ttotal: 862ms\tremaining: 42.5ms\n",
      "953:\tlearn: 0.0636793\ttotal: 862ms\tremaining: 41.6ms\n",
      "954:\tlearn: 0.0636073\ttotal: 863ms\tremaining: 40.7ms\n",
      "955:\tlearn: 0.0635459\ttotal: 864ms\tremaining: 39.8ms\n",
      "956:\tlearn: 0.0635101\ttotal: 865ms\tremaining: 38.9ms\n",
      "957:\tlearn: 0.0634983\ttotal: 866ms\tremaining: 37.9ms\n"
     ]
    },
    {
     "name": "stdout",
     "output_type": "stream",
     "text": [
      "958:\tlearn: 0.0633875\ttotal: 867ms\tremaining: 37ms\n",
      "959:\tlearn: 0.0632874\ttotal: 867ms\tremaining: 36.1ms\n",
      "960:\tlearn: 0.0632435\ttotal: 868ms\tremaining: 35.2ms\n",
      "961:\tlearn: 0.0632235\ttotal: 869ms\tremaining: 34.3ms\n",
      "962:\tlearn: 0.0631541\ttotal: 870ms\tremaining: 33.4ms\n",
      "963:\tlearn: 0.0630929\ttotal: 871ms\tremaining: 32.5ms\n",
      "964:\tlearn: 0.0630691\ttotal: 872ms\tremaining: 31.6ms\n",
      "965:\tlearn: 0.0630573\ttotal: 873ms\tremaining: 30.7ms\n",
      "966:\tlearn: 0.0629426\ttotal: 873ms\tremaining: 29.8ms\n",
      "967:\tlearn: 0.0628136\ttotal: 874ms\tremaining: 28.9ms\n",
      "968:\tlearn: 0.0627224\ttotal: 875ms\tremaining: 28ms\n",
      "969:\tlearn: 0.0626517\ttotal: 876ms\tremaining: 27.1ms\n",
      "970:\tlearn: 0.0625313\ttotal: 877ms\tremaining: 26.2ms\n",
      "971:\tlearn: 0.0625187\ttotal: 877ms\tremaining: 25.3ms\n",
      "972:\tlearn: 0.0624336\ttotal: 878ms\tremaining: 24.4ms\n",
      "973:\tlearn: 0.0623906\ttotal: 879ms\tremaining: 23.5ms\n",
      "974:\tlearn: 0.0623027\ttotal: 880ms\tremaining: 22.6ms\n",
      "975:\tlearn: 0.0622623\ttotal: 881ms\tremaining: 21.7ms\n",
      "976:\tlearn: 0.0621559\ttotal: 881ms\tremaining: 20.8ms\n",
      "977:\tlearn: 0.0620270\ttotal: 882ms\tremaining: 19.8ms\n",
      "978:\tlearn: 0.0619244\ttotal: 883ms\tremaining: 18.9ms\n",
      "979:\tlearn: 0.0618505\ttotal: 884ms\tremaining: 18ms\n",
      "980:\tlearn: 0.0617923\ttotal: 885ms\tremaining: 17.1ms\n",
      "981:\tlearn: 0.0617440\ttotal: 886ms\tremaining: 16.2ms\n",
      "982:\tlearn: 0.0616972\ttotal: 887ms\tremaining: 15.3ms\n",
      "983:\tlearn: 0.0615737\ttotal: 888ms\tremaining: 14.4ms\n",
      "984:\tlearn: 0.0615059\ttotal: 889ms\tremaining: 13.5ms\n",
      "985:\tlearn: 0.0614208\ttotal: 890ms\tremaining: 12.6ms\n",
      "986:\tlearn: 0.0612721\ttotal: 891ms\tremaining: 11.7ms\n",
      "987:\tlearn: 0.0611641\ttotal: 892ms\tremaining: 10.8ms\n",
      "988:\tlearn: 0.0610565\ttotal: 893ms\tremaining: 9.93ms\n",
      "989:\tlearn: 0.0610481\ttotal: 893ms\tremaining: 9.02ms\n",
      "990:\tlearn: 0.0609979\ttotal: 894ms\tremaining: 8.12ms\n",
      "991:\tlearn: 0.0609523\ttotal: 895ms\tremaining: 7.22ms\n",
      "992:\tlearn: 0.0608923\ttotal: 896ms\tremaining: 6.32ms\n",
      "993:\tlearn: 0.0608847\ttotal: 897ms\tremaining: 5.41ms\n",
      "994:\tlearn: 0.0608792\ttotal: 897ms\tremaining: 4.51ms\n",
      "995:\tlearn: 0.0608558\ttotal: 898ms\tremaining: 3.61ms\n",
      "996:\tlearn: 0.0608213\ttotal: 899ms\tremaining: 2.71ms\n",
      "997:\tlearn: 0.0607577\ttotal: 900ms\tremaining: 1.8ms\n",
      "998:\tlearn: 0.0607442\ttotal: 901ms\tremaining: 901us\n",
      "999:\tlearn: 0.0607382\ttotal: 901ms\tremaining: 0us\n"
     ]
    },
    {
     "data": {
      "text/plain": [
       "<catboost.core.CatBoostRegressor at 0x7fde101f8730>"
      ]
     },
     "execution_count": 9,
     "metadata": {},
     "output_type": "execute_result"
    }
   ],
   "source": [
    "#Train the Model \n",
    "prior_model = ctb.CatBoostRegressor()\n",
    "prior_model.fit(X_train,Y_train)"
   ]
  },
  {
   "cell_type": "code",
   "execution_count": 10,
   "id": "af65dcda",
   "metadata": {
    "execution": {
     "iopub.execute_input": "2022-06-12T08:44:11.648854Z",
     "iopub.status.busy": "2022-06-12T08:44:11.648422Z",
     "iopub.status.idle": "2022-06-12T08:44:11.656173Z",
     "shell.execute_reply": "2022-06-12T08:44:11.656420Z"
    },
    "id": "af65dcda",
    "papermill": {
     "duration": 0.02198,
     "end_time": "2022-06-12T08:44:11.656540",
     "exception": false,
     "start_time": "2022-06-12T08:44:11.634560",
     "status": "completed"
    },
    "tags": []
   },
   "outputs": [
    {
     "data": {
      "application/scrapbook.scrap.json+json": {
       "data": 0.09550521155611148,
       "encoder": "json",
       "name": "Prior Model MSE",
       "version": 1
      }
     },
     "metadata": {
      "scrapbook": {
       "data": true,
       "display": false,
       "name": "Prior Model MSE"
      }
     },
     "output_type": "display_data"
    },
    {
     "data": {
      "application/scrapbook.scrap.json+json": {
       "data": 0.900193726721515,
       "encoder": "json",
       "name": "ABC Pre-generator MSE",
       "version": 1
      }
     },
     "metadata": {
      "scrapbook": {
       "data": true,
       "display": false,
       "name": "ABC Pre-generator MSE"
      }
     },
     "output_type": "display_data"
    },
    {
     "data": {
      "application/scrapbook.scrap.json+json": {
       "data": 0.206967017688157,
       "encoder": "json",
       "name": "Prior Model MSE",
       "version": 1
      }
     },
     "metadata": {
      "scrapbook": {
       "data": true,
       "display": false,
       "name": "Prior Model MSE"
      }
     },
     "output_type": "display_data"
    },
    {
     "data": {
      "application/scrapbook.scrap.json+json": {
       "data": 0.7497774747523058,
       "encoder": "json",
       "name": "ABC Pre-generator MSE",
       "version": 1
      }
     },
     "metadata": {
      "scrapbook": {
       "data": true,
       "display": false,
       "name": "ABC Pre-generator MSE"
      }
     },
     "output_type": "display_data"
    }
   ],
   "source": [
    "y_pred = prior_model.predict(X_test)\n",
    "y_abc = y_pred + np.random.normal(0,variance, y_pred.shape) + bias \n",
    "mse = mean_squared_error(y_pred,Y_test)\n",
    "sb.glue(\"Prior Model MSE\",mse)\n",
    "mse = mean_squared_error(y_abc,Y_test)\n",
    "sb.glue(\"ABC Pre-generator MSE\",mse)\n",
    "mae = mean_absolute_error(y_pred,Y_test)\n",
    "sb.glue(\"Prior Model MSE\",mae)\n",
    "mae = mean_absolute_error(y_abc,Y_test)\n",
    "sb.glue(\"ABC Pre-generator MSE\",mae)"
   ]
  },
  {
   "cell_type": "markdown",
   "id": "25609da2",
   "metadata": {
    "papermill": {
     "duration": 0.009875,
     "end_time": "2022-06-12T08:44:11.676682",
     "exception": false,
     "start_time": "2022-06-12T08:44:11.666807",
     "status": "completed"
    },
    "tags": []
   },
   "source": [
    "# ABC GAN Model"
   ]
  },
  {
   "cell_type": "code",
   "execution_count": 11,
   "id": "dfc3464d",
   "metadata": {
    "execution": {
     "iopub.execute_input": "2022-06-12T08:44:11.699460Z",
     "iopub.status.busy": "2022-06-12T08:44:11.699096Z",
     "iopub.status.idle": "2022-06-12T08:44:11.701651Z",
     "shell.execute_reply": "2022-06-12T08:44:11.701893Z"
    },
    "papermill": {
     "duration": 0.01545,
     "end_time": "2022-06-12T08:44:11.702001",
     "exception": false,
     "start_time": "2022-06-12T08:44:11.686551",
     "status": "completed"
    },
    "tags": []
   },
   "outputs": [],
   "source": [
    "gen = network.Generator(n_features+1).to(device)\n",
    "disc = network.Discriminator(n_features+1).to(device)\n",
    "\n",
    "criterion = torch.nn.BCELoss()\n",
    "gen_opt = torch.optim.Adam(gen.parameters(), lr=0.001, betas=(0.5, 0.999))\n",
    "disc_opt = torch.optim.Adam(disc.parameters(), lr=0.001, betas=(0.5, 0.999))"
   ]
  },
  {
   "cell_type": "code",
   "execution_count": 12,
   "id": "b75fdd85",
   "metadata": {
    "execution": {
     "iopub.execute_input": "2022-06-12T08:44:11.724697Z",
     "iopub.status.busy": "2022-06-12T08:44:11.724331Z",
     "iopub.status.idle": "2022-06-12T08:45:12.485610Z",
     "shell.execute_reply": "2022-06-12T08:45:12.485900Z"
    },
    "papermill": {
     "duration": 60.77391,
     "end_time": "2022-06-12T08:45:12.486021",
     "exception": false,
     "start_time": "2022-06-12T08:44:11.712111",
     "status": "completed"
    },
    "tags": []
   },
   "outputs": [
    {
     "data": {
      "image/png": "[encoded data removed]",
      "text/plain": [
       "<Figure size 432x288 with 1 Axes>"
      ]
     },
     "metadata": {
      "needs_background": "light"
     },
     "output_type": "display_data"
    },
    {
     "data": {
      "image/png": "[encoded data removed]",
      "text/plain": [
       "<Figure size 432x288 with 1 Axes>"
      ]
     },
     "metadata": {
      "needs_background": "light"
     },
     "output_type": "display_data"
    }
   ],
   "source": [
    "#Training the ABC_GAN \n",
    "ABC_train_test2.training_GAN(disc,gen,disc_opt,gen_opt,train_data,batch_size,n_epochs,criterion,prior_model,variance,bias,device)"
   ]
  },
  {
   "cell_type": "code",
   "execution_count": 13,
   "id": "1fa7c368",
   "metadata": {
    "execution": {
     "iopub.execute_input": "2022-06-12T08:45:12.511233Z",
     "iopub.status.busy": "2022-06-12T08:45:12.510832Z",
     "iopub.status.idle": "2022-06-12T08:45:12.824081Z",
     "shell.execute_reply": "2022-06-12T08:45:12.824377Z"
    },
    "papermill": {
     "duration": 0.32749,
     "end_time": "2022-06-12T08:45:12.824501",
     "exception": false,
     "start_time": "2022-06-12T08:45:12.497011",
     "status": "completed"
    },
    "tags": []
   },
   "outputs": [
    {
     "data": {
      "application/scrapbook.scrap.json+json": {
       "data": 0.14168919273074018,
       "encoder": "json",
       "name": "ABC-GAN Model 1 MSE",
       "version": 1
      }
     },
     "metadata": {
      "scrapbook": {
       "data": true,
       "display": false,
       "name": "ABC-GAN Model 1 MSE"
      }
     },
     "output_type": "display_data"
    },
    {
     "data": {
      "application/scrapbook.scrap.json+json": {
       "data": 0.2621281908781213,
       "encoder": "json",
       "name": "ABC-GAN Model 1 MAE",
       "version": 1
      }
     },
     "metadata": {
      "scrapbook": {
       "data": true,
       "display": false,
       "name": "ABC-GAN Model 1 MAE"
      }
     },
     "output_type": "display_data"
    },
    {
     "data": {
      "application/scrapbook.scrap.json+json": {
       "data": 26.73707546956837,
       "encoder": "json",
       "name": "ABC-GAN Model 1 Manhattan Distance",
       "version": 1
      }
     },
     "metadata": {
      "scrapbook": {
       "data": true,
       "display": false,
       "name": "ABC-GAN Model 1 Manhattan Distance"
      }
     },
     "output_type": "display_data"
    },
    {
     "data": {
      "application/scrapbook.scrap.json+json": {
       "data": 3.80156340011055,
       "encoder": "json",
       "name": "ABC-GAN Model 1 Euclidean distance",
       "version": 1
      }
     },
     "metadata": {
      "scrapbook": {
       "data": true,
       "display": false,
       "name": "ABC-GAN Model 1 Euclidean distance"
      }
     },
     "output_type": "display_data"
    },
    {
     "data": {
      "application/scrapbook.scrap.json+json": {
       "data": [
        [
         0.141146881148645,
         0.14122290787035455,
         0.14085861153161108,
         0.1403912325389267,
         0.1391925131804605,
         0.14226879864815617,
         0.14187709566889598,
         0.1418318955147804,
         0.14154371089407594,
         0.1433391925239395,
         0.14123022406682084,
         0.14225212318623634,
         0.14266209483174974,
         0.13940786244246017,
         0.14090132635002264,
         0.14449673412797256,
         0.14185079749441454,
         0.14022090898007508,
         0.14118842105329413,
         0.1412098421184228,
         0.14514630274269455,
         0.14062835901321527,
         0.14402174470631926,
         0.13907711097266184,
         0.13999083426549452,
         0.13825959752854297,
         0.14066100607495402,
         0.14155961372304454,
         0.14589868800670902,
         0.14119860183561875,
         0.14203571632612355,
         0.14035198833809387,
         0.14150425985576426,
         0.1396568608088735,
         0.1403958543610513,
         0.14070664862006654,
         0.14289783551573534,
         0.1432020000675351,
         0.14066500177251712,
         0.14243763185077776,
         0.1394411658580846,
         0.14311264708741406,
         0.14174147999289752,
         0.14060098776102656,
         0.14192577538719248,
         0.14358212705048823,
         0.14078281288999042,
         0.14028340924184995,
         0.1413608941451469,
         0.14069507190159944,
         0.1436866438652755,
         0.1424426114416552,
         0.14342834644997896,
         0.14255486405444323,
         0.14067763490287788,
         0.14213383875852117,
         0.13963761085096318,
         0.13983051620214157,
         0.14026938251810278,
         0.1416019750403744,
         0.1434585048328404,
         0.14228777413179272,
         0.142262948815265,
         0.1408429304723435,
         0.13907329011446423,
         0.14181435808676532,
         0.14008647028428117,
         0.14090372429018763,
         0.1424402560587012,
         0.1435726558752774,
         0.1427954053522064,
         0.1394144790576049,
         0.14377278654839878,
         0.14249075269207545,
         0.14235788364962396,
         0.14304550634611685,
         0.14269999016624757,
         0.14300880608458982,
         0.1428695149791381,
         0.1427045320743926,
         0.1444531295256418,
         0.14329122681511602,
         0.14169080244347756,
         0.13950091235514953,
         0.14069569137100624,
         0.13955658693128717,
         0.1403324768541839,
         0.140243167057982,
         0.1411077642523432,
         0.14294938217220354,
         0.1425914539138098,
         0.14052767714141337,
         0.14256443695070084,
         0.14261748208579758,
         0.14462216346164697,
         0.14237804915820937,
         0.13960880690107894,
         0.14280132836777082,
         0.14156004103971484,
         0.14474549840603979
        ],
        [
         0.2604082946336883,
         0.26186405747727143,
         0.2638258906720462,
         0.26159007143338814,
         0.2608006546620791,
         0.26388079750662047,
         0.261150240834218,
         0.2599482807769057,
         0.26194150056507365,
         0.2633459379293901,
         0.262004298441039,
         0.2627742613811849,
         0.26397889046290635,
         0.2608363950241576,
         0.2613558417971374,
         0.26601190635861427,
         0.2634202698884788,
         0.2608202738669135,
         0.26254870630252886,
         0.2614054052871378,
         0.26417750314645033,
         0.2609338442356709,
         0.2630247640715656,
         0.26006342263380977,
         0.2613838203707893,
         0.2570100778841651,
         0.2609939357247569,
         0.26239512492811273,
         0.265052482750559,
         0.26323189262264207,
         0.2607003006737168,
         0.260543879970689,
         0.26328893846777435,
         0.25925617552745867,
         0.2607218799656074,
         0.26148177242344794,
         0.26339809937110426,
         0.2634885773957506,
         0.2611616544297659,
         0.2634866304567778,
         0.25966893674294445,
         0.26244242585209365,
         0.26047322560357405,
         0.2602852244459677,
         0.26048365795035283,
         0.2631863191011636,
         0.26100757992917706,
         0.2619845343881524,
         0.26039239765126626,
         0.2614719676785171,
         0.2640654238799185,
         0.2625224128383778,
         0.2646284241174512,
         0.2653783821026046,
         0.2613149697015829,
         0.2622344273726876,
         0.2600562659859219,
         0.2621871950743976,
         0.2621312993578613,
         0.261849068808278,
         0.26358871210329965,
         0.2635099644334439,
         0.2627195587801729,
         0.261114087658843,
         0.2602932815914791,
         0.2624794740467241,
         0.260456166257534,
         0.2604938971663953,
         0.26180230633483503,
         0.26401765261977617,
         0.2634959201620636,
         0.25940219039900925,
         0.26409805249240176,
         0.2626357922677462,
         0.2642706320438461,
         0.26379730765178216,
         0.2642180223255327,
         0.2616344031183889,
         0.2632492871717641,
         0.2612438067958197,
         0.2638462866364303,
         0.2656297216684941,
         0.261123273421225,
         0.2617209253230077,
         0.26175020895350504,
         0.2597772239196096,
         0.25936025853140976,
         0.2620198166125691,
         0.26311421881009844,
         0.26360851289777487,
         0.2639162738844022,
         0.2619774376370889,
         0.26166188790846395,
         0.2618288809853588,
         0.26335228275617256,
         0.2617870276045127,
         0.2607831712173042,
         0.2632031817372669,
         0.26296973547113,
         0.2633973554817631
        ],
        [
         26.561646052636206,
         26.710133862681687,
         26.91024084854871,
         26.68218728620559,
         26.601666775532067,
         26.91584134567529,
         26.63732456509024,
         26.514724639244378,
         26.718033057637513,
         26.86128566879779,
         26.724438440985978,
         26.802974660880864,
         26.925846827216446,
         26.605312292464077,
         26.658295863308012,
         27.133214448578656,
         26.868867528624833,
         26.603667934425175,
         26.779968042857945,
         26.663351339288056,
         26.94610532093793,
         26.615252112038434,
         26.828525935299695,
         26.526469108648598,
         26.661149677820504,
         26.21502794418484,
         26.621381443925202,
         26.764302742667496,
         27.035353240557015,
         26.84965304750949,
         26.591430668719113,
         26.57547575701028,
         26.85547172371298,
         26.444129903800786,
         26.59363175649196,
         26.67114078719169,
         26.866606135852635,
         26.875834894366562,
         26.63848875183612,
         26.875636306591332,
         26.486231547780335,
         26.76912743691355,
         26.568269011564553,
         26.549092893488705,
         26.569333110935986,
         26.845004548318684,
         26.622773152776062,
         26.722422507591546,
         26.560024560429156,
         26.670140703208745,
         26.93467323575169,
         26.777286109514534,
         26.992099259980023,
         27.068594974465668,
         26.654126909561455,
         26.747911592014134,
         26.525739130564034,
         26.74309389758855,
         26.73739253450185,
         26.70860501844436,
         26.886048634536564,
         26.878016372211277,
         26.797394995577633,
         26.633636941201985,
         26.54991472233087,
         26.772906352765858,
         26.566528958268464,
         26.57037751097232,
         26.703835246153176,
         26.92980056721717,
         26.876583856530488,
         26.45902342069894,
         26.93800135422498,
         26.788850811310112,
         26.955604468472302,
         26.90732538048178,
         26.950238277204335,
         26.68670911807567,
         26.85142729151994,
         26.64686829317361,
         26.912321236915886,
         27.094231610186398,
         26.63457388896495,
         26.69553438294679,
         26.698521313257515,
         26.49727683980018,
         26.454746370203793,
         26.726021294482052,
         26.83765031863004,
         26.888068315573037,
         26.919459936209023,
         26.72169863898307,
         26.689512566663325,
         26.706545860506594,
         26.8619328411296,
         26.702276815660298,
         26.599883464165032,
         26.846724537201226,
         26.82291301805526,
         26.866530259139836
        ],
        [
         3.7943354987615137,
         3.7953572431032305,
         3.7904588609064627,
         3.784165128396291,
         3.7679750986978355,
         3.809385444151317,
         3.804137715465541,
         3.803531693374935,
         3.799665578862927,
         3.8236890089861943,
         3.795455553002265,
         3.809162186753945,
         3.814647254050952,
         3.7708887505641075,
         3.791033538192759,
         3.8390971439979475,
         3.8037851338410635,
         3.7818689448429668,
         3.794893799230223,
         3.7951816683894224,
         3.847716579967246,
         3.7873595841097463,
         3.8327820131132633,
         3.7664127919296777,
         3.7787650224749934,
         3.755326743162488,
         3.7877991788960115,
         3.7998790243572937,
         3.85767626644387,
         3.795030617430261,
         3.8062636620792043,
         3.7836361889702834,
         3.7991360208984286,
         3.774254867189693,
         3.7842274171655204,
         3.788413673194466,
         3.8177976927287545,
         3.8218587110054942,
         3.7878529777166294,
         3.8116451105499474,
         3.7713391411439825,
         3.8206661726610234,
         3.802319155367621,
         3.7869909891132174,
         3.80479028193324,
         3.8269278748298605,
         3.789438865423087,
         3.7827116917191415,
         3.797210976862489,
         3.7882578230583963,
         3.82832047695306,
         3.811711737139736,
         3.824877950719192,
         3.813213360612438,
         3.7880230675239477,
         3.807578174295199,
         3.773994741225568,
         3.7766006742331713,
         3.7825225732104326,
         3.8004475333989522,
         3.8252800541855385,
         3.809639479195224,
         3.8093071258638393,
         3.790247868963062,
         3.766361054343482,
         3.803296533909769,
         3.780055551046396,
         3.7910657970548516,
         3.811680222419965,
         3.8268016540288947,
         3.816429135451757,
         3.7709782369931144,
         3.8294678779089746,
         3.8123558037769363,
         3.8105779262812143,
         3.819769842189961,
         3.8151538628156594,
         3.8192798039196023,
         3.817419354468681,
         3.8152145773977164,
         3.8385178404711704,
         3.823049193398096,
         3.8016393633845262,
         3.772147009360219,
         3.7882661627507948,
         3.7728996629901634,
         3.783373182640956,
         3.782169091925183,
         3.79380968865585,
         3.818486215971554,
         3.813702701995607,
         3.786003574803404,
         3.813341391610706,
         3.8140507564466613,
         3.840763032665253,
         3.810847807789935,
         3.7736054780421933,
         3.816508285529145,
         3.7998847595750727,
         3.84240040045491
        ]
       ],
       "encoder": "json",
       "name": "ABC_GAN_1 Metrics",
       "version": 1
      }
     },
     "metadata": {
      "scrapbook": {
       "data": true,
       "display": false,
       "name": "ABC_GAN_1 Metrics"
      }
     },
     "output_type": "display_data"
    },
    {
     "name": "stdout",
     "output_type": "stream",
     "text": [
      "MSE\n",
      "0.14168919273074018\n"
     ]
    }
   ],
   "source": [
    "ABC_GAN1_metrics=ABC_train_test2.test_generator(gen,test_data,prior_model,variance,bias,\"1\",device)\n",
    "sb.glue(\"ABC_GAN_1 Metrics\",ABC_GAN1_metrics)\n",
    "\n",
    "print(\"MSE\")\n",
    "print(mean(ABC_GAN1_metrics[0]))"
   ]
  },
  {
   "cell_type": "code",
   "execution_count": 14,
   "id": "eb22ce5c",
   "metadata": {
    "execution": {
     "iopub.execute_input": "2022-06-12T08:45:12.853116Z",
     "iopub.status.busy": "2022-06-12T08:45:12.852748Z",
     "iopub.status.idle": "2022-06-12T08:45:13.176993Z",
     "shell.execute_reply": "2022-06-12T08:45:13.177289Z"
    },
    "papermill": {
     "duration": 0.340037,
     "end_time": "2022-06-12T08:45:13.177443",
     "exception": false,
     "start_time": "2022-06-12T08:45:12.837406",
     "status": "completed"
    },
    "tags": []
   },
   "outputs": [
    {
     "data": {
      "image/png": "[encoded data removed]",
      "text/plain": [
       "<Figure size 432x288 with 1 Axes>"
      ]
     },
     "metadata": {
      "needs_background": "light"
     },
     "output_type": "display_data"
    },
    {
     "data": {
      "image/png": "[encoded data removed]",
      "text/plain": [
       "<Figure size 432x288 with 1 Axes>"
      ]
     },
     "metadata": {
      "needs_background": "light"
     },
     "output_type": "display_data"
    },
    {
     "data": {
      "image/png": "[encoded data removed]",
      "text/plain": [
       "<Figure size 432x288 with 1 Axes>"
      ]
     },
     "metadata": {
      "needs_background": "light"
     },
     "output_type": "display_data"
    },
    {
     "data": {
      "image/png": "[encoded data removed]",
      "text/plain": [
       "<Figure size 432x288 with 1 Axes>"
      ]
     },
     "metadata": {
      "needs_background": "light"
     },
     "output_type": "display_data"
    }
   ],
   "source": [
    "sanityChecks.discProbVsError(train_data,disc,device)\n",
    "sanityChecks.discProbVsError(test_data,disc,device)"
   ]
  },
  {
   "cell_type": "markdown",
   "id": "130f3a4d",
   "metadata": {
    "id": "130f3a4d",
    "papermill": {
     "duration": 0.014729,
     "end_time": "2022-06-12T08:45:13.207217",
     "exception": false,
     "start_time": "2022-06-12T08:45:13.192488",
     "status": "completed"
    },
    "tags": []
   },
   "source": [
    "# ABC - GAN Model with skip connection"
   ]
  },
  {
   "cell_type": "code",
   "execution_count": 15,
   "id": "4e43dad1",
   "metadata": {
    "execution": {
     "iopub.execute_input": "2022-06-12T08:45:13.240719Z",
     "iopub.status.busy": "2022-06-12T08:45:13.240345Z",
     "iopub.status.idle": "2022-06-12T08:45:13.242703Z",
     "shell.execute_reply": "2022-06-12T08:45:13.243004Z"
    },
    "id": "4e43dad1",
    "papermill": {
     "duration": 0.02091,
     "end_time": "2022-06-12T08:45:13.243117",
     "exception": false,
     "start_time": "2022-06-12T08:45:13.222207",
     "status": "completed"
    },
    "tags": []
   },
   "outputs": [],
   "source": [
    "#Generator\n",
    "gen3 = network.GeneratorWithSkipConnection(n_features+1).to(device)\n",
    "constraints=network.weightConstraint()\n",
    "#Discriminator \n",
    "disc3 = network.Discriminator(n_features+1).to(device)\n",
    "\n",
    "criterion = torch.nn.BCELoss()\n",
    "gen_opt = torch.optim.Adam(gen3.parameters(), lr=0.001, betas=(0.5, 0.999))\n",
    "disc_opt = torch.optim.Adam(disc3.parameters(), lr=0.001, betas=(0.5, 0.999))\n"
   ]
  },
  {
   "cell_type": "code",
   "execution_count": 16,
   "id": "26acbc37",
   "metadata": {
    "execution": {
     "iopub.execute_input": "2022-06-12T08:45:13.275317Z",
     "iopub.status.busy": "2022-06-12T08:45:13.274946Z",
     "iopub.status.idle": "2022-06-12T08:48:11.916544Z",
     "shell.execute_reply": "2022-06-12T08:48:11.916869Z"
    },
    "id": "26acbc37",
    "papermill": {
     "duration": 178.659009,
     "end_time": "2022-06-12T08:48:11.917051",
     "exception": false,
     "start_time": "2022-06-12T08:45:13.258042",
     "status": "completed"
    },
    "tags": []
   },
   "outputs": [
    {
     "data": {
      "image/png": "[encoded data removed]",
      "text/plain": [
       "<Figure size 432x288 with 1 Axes>"
      ]
     },
     "metadata": {
      "needs_background": "light"
     },
     "output_type": "display_data"
    },
    {
     "data": {
      "image/png": "[encoded data removed]",
      "text/plain": [
       "<Figure size 432x288 with 1 Axes>"
      ]
     },
     "metadata": {
      "needs_background": "light"
     },
     "output_type": "display_data"
    }
   ],
   "source": [
    "ABC_train_test2.training_GAN_skip_connection(disc3,gen3,disc_opt,gen_opt,train_data,batch_size,n_epochs,criterion,prior_model,variance,bias,device)"
   ]
  },
  {
   "cell_type": "code",
   "execution_count": 17,
   "id": "c5e0717b",
   "metadata": {
    "execution": {
     "iopub.execute_input": "2022-06-12T08:48:11.953329Z",
     "iopub.status.busy": "2022-06-12T08:48:11.952924Z",
     "iopub.status.idle": "2022-06-12T08:48:12.792616Z",
     "shell.execute_reply": "2022-06-12T08:48:12.792863Z"
    },
    "id": "c5e0717b",
    "papermill": {
     "duration": 0.859889,
     "end_time": "2022-06-12T08:48:12.792978",
     "exception": false,
     "start_time": "2022-06-12T08:48:11.933089",
     "status": "completed"
    },
    "tags": []
   },
   "outputs": [
    {
     "data": {
      "application/scrapbook.scrap.json+json": {
       "data": 0.11515186663097671,
       "encoder": "json",
       "name": "ABC-GAN Model 3 MSE",
       "version": 1
      }
     },
     "metadata": {
      "scrapbook": {
       "data": true,
       "display": false,
       "name": "ABC-GAN Model 3 MSE"
      }
     },
     "output_type": "display_data"
    },
    {
     "data": {
      "application/scrapbook.scrap.json+json": {
       "data": 0.23592602971658183,
       "encoder": "json",
       "name": "ABC-GAN Model 3 MAE",
       "version": 1
      }
     },
     "metadata": {
      "scrapbook": {
       "data": true,
       "display": false,
       "name": "ABC-GAN Model 3 MAE"
      }
     },
     "output_type": "display_data"
    },
    {
     "data": {
      "application/scrapbook.scrap.json+json": {
       "data": 24.06445503109135,
       "encoder": "json",
       "name": "ABC-GAN Model 3 Manhattan Distance",
       "version": 1
      }
     },
     "metadata": {
      "scrapbook": {
       "data": true,
       "display": false,
       "name": "ABC-GAN Model 3 Manhattan Distance"
      }
     },
     "output_type": "display_data"
    },
    {
     "data": {
      "application/scrapbook.scrap.json+json": {
       "data": 3.4235946282369074,
       "encoder": "json",
       "name": "ABC-GAN Model 3 Euclidean distance",
       "version": 1
      }
     },
     "metadata": {
      "scrapbook": {
       "data": true,
       "display": false,
       "name": "ABC-GAN Model 3 Euclidean distance"
      }
     },
     "output_type": "display_data"
    },
    {
     "data": {
      "application/scrapbook.scrap.json+json": {
       "data": [
        [
         0.1075325038466261,
         0.10834315233292813,
         0.10338224508720742,
         0.1084215264863959,
         0.1282285277544907,
         0.11060293568054079,
         0.10827126303343046,
         0.12715222559071077,
         0.11800401393303367,
         0.1184919070028538,
         0.10434585748576732,
         0.10980924055252513,
         0.09725741720490415,
         0.11951818419502588,
         0.11536537040704622,
         0.1092025367005677,
         0.10778236807120198,
         0.12894744119274254,
         0.11465524821952842,
         0.12339249393374542,
         0.12345856535013272,
         0.10325048680582292,
         0.10273024388857206,
         0.12716042450346465,
         0.10899704847217791,
         0.11857632635595566,
         0.11278198933425247,
         0.11266881487902762,
         0.11080063347811323,
         0.12427963162347994,
         0.12999931823739794,
         0.13795764537587565,
         0.10817462181547433,
         0.11863256983318006,
         0.11023948560619673,
         0.10903048800010934,
         0.11132489814663614,
         0.13165907821263698,
         0.11184760427775907,
         0.13414113773830644,
         0.12421664245693909,
         0.11075619460609391,
         0.10116131382657217,
         0.1174528705892494,
         0.11909723333686419,
         0.1107008453884843,
         0.12223610800179104,
         0.12212027724648189,
         0.1212993018024751,
         0.10739985924403081,
         0.1107177609430483,
         0.13775440473518485,
         0.10792512478824931,
         0.11735893762099059,
         0.11856563585188315,
         0.12352082605198396,
         0.115231859696595,
         0.12208159121721919,
         0.11586179016712977,
         0.1280834094429243,
         0.118121724772609,
         0.11869444452986137,
         0.10822345749984576,
         0.1141815077894746,
         0.09463665061957396,
         0.11811645420935074,
         0.10269826447138862,
         0.12427152771268606,
         0.10832339831807086,
         0.11867546823762762,
         0.10233734309533839,
         0.11939400823833514,
         0.10144627063237095,
         0.12405343189913325,
         0.09947181342921792,
         0.09612390596017878,
         0.1247895248855216,
         0.10722037044851514,
         0.1109078222902869,
         0.11290261932514663,
         0.129261164316601,
         0.11553680786688436,
         0.11945412514027669,
         0.09031031798288691,
         0.10251288417843803,
         0.12135533115741831,
         0.14155549843864193,
         0.09183382232089041,
         0.1020937935038984,
         0.10631755997994498,
         0.10725587027581865,
         0.12004637678120947,
         0.13727903772427924,
         0.1085391782713219,
         0.10462802376610508,
         0.12430781230697033,
         0.12378447863285157,
         0.12593620328175106,
         0.13406956819724777,
         0.11455934294966678
        ],
        [
         0.22494049095457383,
         0.2301309766046995,
         0.21792816320507258,
         0.235622453731576,
         0.24867993091945262,
         0.22617684712852626,
         0.22866012819805273,
         0.24955696356026272,
         0.23614361037628032,
         0.23317919816712246,
         0.23405308246283846,
         0.22602266342580027,
         0.225692030654161,
         0.238544425680576,
         0.245749204355639,
         0.23135015133804843,
         0.22625771748340306,
         0.24320925501010873,
         0.2327610552584862,
         0.24114452162757516,
         0.2326919755569714,
         0.22360500593797542,
         0.22339524451971932,
         0.2432526609239479,
         0.23237843478244602,
         0.2361135326380677,
         0.23894101119253272,
         0.229103280222226,
         0.23025150512180784,
         0.24682927335265512,
         0.24520495147718227,
         0.248368352204196,
         0.2292135343886912,
         0.24735563021043644,
         0.22818382686077088,
         0.22442065775577053,
         0.24015010081633342,
         0.2565155002178953,
         0.23264582465201908,
         0.2541344873150628,
         0.24240017027648933,
         0.22957607730310045,
         0.2286990839239283,
         0.23849028358966404,
         0.2375259423427576,
         0.22874290073363512,
         0.24940708187390484,
         0.2517799966256408,
         0.24484889290532938,
         0.2281040670989337,
         0.22802006437753639,
         0.2523686982526937,
         0.22773554357791356,
         0.23736415722170004,
         0.24528189700133368,
         0.23750970453279568,
         0.23301796099244088,
         0.2495041644730258,
         0.23731001347814704,
         0.23824703703433567,
         0.2314088432136558,
         0.2400783902563739,
         0.2355789326624397,
         0.2286186595082137,
         0.2201780024459403,
         0.23911964512594483,
         0.2316563662196345,
         0.24280962018369168,
         0.22681897081544294,
         0.23852720004780328,
         0.22635313973524698,
         0.2353986371217259,
         0.2265757998250717,
         0.24981375271454453,
         0.2267197741871225,
         0.23046141343337356,
         0.2443215212163826,
         0.23093858221545815,
         0.23573998076037742,
         0.23075584843572156,
         0.23875440488222474,
         0.2420700157298615,
         0.2369371217894642,
         0.22144637438559941,
         0.22609184907895385,
         0.2371480959084104,
         0.24729593287167304,
         0.2148733374881832,
         0.2246856273371069,
         0.22622405700202958,
         0.23696248195882813,
         0.2353344420427639,
         0.24833863300691342,
         0.23066063337575862,
         0.2299455370224428,
         0.2486474731955312,
         0.24230676822766078,
         0.2520314374591644,
         0.25662259583124053,
         0.23986167503593891
        ],
        [
         22.94393007736653,
         23.47335961367935,
         22.228672646917403,
         24.033490280620754,
         25.365352953784168,
         23.070038407109678,
         23.32333307620138,
         25.4548102831468,
         24.086648258380592,
         23.78427821304649,
         23.873414411209524,
         23.054311669431627,
         23.020587126724422,
         24.331531419418752,
         25.066418844275177,
         23.59771543648094,
         23.07828718330711,
         24.80734401103109,
         23.741627636365592,
         24.596741206012666,
         23.734581506811082,
         22.807710605673492,
         22.78631494101137,
         24.811771414242685,
         23.702600347809494,
         24.083580329082906,
         24.37198314163834,
         23.368534582667053,
         23.4856535224244,
         25.176585881970823,
         25.01090505067259,
         25.333571924827993,
         23.3797805076465,
         25.230274281464517,
         23.27475033979863,
         22.890907091088593,
         24.495310283266008,
         26.16458102222532,
         23.729874114505947,
         25.921717706136405,
         24.72481736820191,
         23.416759884916246,
         23.327306560240686,
         24.326008926145732,
         24.227646118961275,
         23.331775874830782,
         25.439522351138294,
         25.681559655815363,
         24.974587076343596,
         23.266614844091237,
         23.25804656650871,
         25.741607221774757,
         23.229025444947183,
         24.211144036613405,
         25.018753494136035,
         24.22598986234516,
         23.76783202122897,
         25.449424776248634,
         24.205621374771,
         24.30119777750224,
         23.60370200779289,
         24.48799580615014,
         24.02905113156885,
         23.319103269837797,
         22.45815624948591,
         24.390203802846372,
         23.62894935440272,
         24.76658125873655,
         23.13553502317518,
         24.329774404875934,
         23.088020252995193,
         24.010660986416042,
         23.110731582157314,
         25.481002776883543,
         23.125416967086494,
         23.507064170204103,
         24.920795164071023,
         23.555735385976732,
         24.045478037558496,
         23.5370965404436,
         24.352949297986925,
         24.691141604445875,
         24.167586422525346,
         22.58753018733114,
         23.061368606053293,
         24.18910578265786,
         25.22418515291065,
         21.917080423794687,
         22.917933988384902,
         23.074853814207017,
         24.17017315980047,
         24.00411308836192,
         25.330540566705167,
         23.52738460432738,
         23.454444776289165,
         25.362042265944183,
         24.7152903592214,
         25.707206620834768,
         26.175504774786532,
         24.46589085366577
        ],
        [
         3.311844711389087,
         3.324304669845811,
         3.247304882343996,
         3.3255068337942677,
         3.616532846658253,
         3.3587943431259903,
         3.3232015932545993,
         3.601322952784504,
         3.4693528821913504,
         3.476517584349471,
         3.2624036328370316,
         3.3467211620267316,
         3.149643877472533,
         3.4915404605836415,
         3.4303451402910925,
         3.3374629201622446,
         3.3156902061656184,
         3.626656725092649,
         3.419771237728029,
         3.5476801407739726,
         3.5486298293444944,
         3.245234915101516,
         3.237048791203856,
         3.6014390595084893,
         3.334321361860932,
         3.4777557833044384,
         3.3917197573050974,
         3.3900175689309946,
         3.361794850190526,
         3.5604104293739716,
         3.641418742772463,
         3.7512237774277497,
         3.3217181435483623,
         3.478580475277863,
         3.3532711688487202,
         3.33483279581018,
         3.369738804559914,
         3.6645908335977926,
         3.37764054279484,
         3.698972296369257,
         3.559508046150168,
         3.361120624110591,
         3.212235049044568,
         3.4612415113804818,
         3.485386320102859,
         3.360280677209181,
         3.531017277808574,
         3.529343887911909,
         3.517460558961885,
         3.3098014506751214,
         3.3605373999095622,
         3.74845958801597,
         3.3178852795721294,
         3.4598571700781284,
         3.477599007489517,
         3.5495245114384493,
         3.428359620730108,
         3.5287848197582616,
         3.4377176435896,
         3.6144858227939243,
         3.471082817624223,
         3.4794875114082324,
         3.322467857629967,
         3.412698901826296,
         3.106917823695461,
         3.471005377315594,
         3.2365449133422572,
         3.560294345513299,
         3.324001598742579,
         3.4792093584948307,
         3.2308526731691916,
         3.489726184145424,
         3.216756068542008,
         3.557168825584693,
         3.185298254446548,
         3.13123592339163,
         3.567706761818185,
         3.307034590951317,
         3.363420561513123,
         3.3935331398359665,
         3.631065788483224,
         3.4328930077155335,
         3.4906046416499557,
         3.0350704166879656,
         3.2336224557299,
         3.518272840195408,
         3.799823790748917,
         3.0605636534355605,
         3.227005878116374,
         3.293082312660038,
         3.3075820123064976,
         3.4992471235514877,
         3.741986350573246,
         3.327310653316704,
         3.266811660341428,
         3.5608140719940664,
         3.5533106844956364,
         3.584060927877567,
         3.6979853915502785,
         3.418340676536791
        ]
       ],
       "encoder": "json",
       "name": "ABC_GAN_3 Metrics",
       "version": 1
      }
     },
     "metadata": {
      "scrapbook": {
       "data": true,
       "display": false,
       "name": "ABC_GAN_3 Metrics"
      }
     },
     "output_type": "display_data"
    },
    {
     "name": "stdout",
     "output_type": "stream",
     "text": [
      "MSE\n",
      "0.11515186663097671\n"
     ]
    }
   ],
   "source": [
    "ABC_GAN3_metrics=ABC_train_test2.test_generator(gen3,test_data,prior_model,variance,bias,\"3\",device)\n",
    "sb.glue(\"ABC_GAN_3 Metrics\",ABC_GAN3_metrics)\n",
    "\n",
    "print(\"MSE\")\n",
    "print(mean(ABC_GAN3_metrics[0]))"
   ]
  },
  {
   "cell_type": "code",
   "execution_count": 18,
   "id": "c8e46b48",
   "metadata": {
    "execution": {
     "iopub.execute_input": "2022-06-12T08:48:12.831463Z",
     "iopub.status.busy": "2022-06-12T08:48:12.831050Z",
     "iopub.status.idle": "2022-06-12T08:48:13.154127Z",
     "shell.execute_reply": "2022-06-12T08:48:13.154429Z"
    },
    "id": "c8e46b48",
    "papermill": {
     "duration": 0.344118,
     "end_time": "2022-06-12T08:48:13.154551",
     "exception": false,
     "start_time": "2022-06-12T08:48:12.810433",
     "status": "completed"
    },
    "tags": []
   },
   "outputs": [
    {
     "data": {
      "image/png": "[encoded data removed]",
      "text/plain": [
       "<Figure size 432x288 with 1 Axes>"
      ]
     },
     "metadata": {
      "needs_background": "light"
     },
     "output_type": "display_data"
    },
    {
     "data": {
      "image/png": "[encoded data removed]",
      "text/plain": [
       "<Figure size 432x288 with 1 Axes>"
      ]
     },
     "metadata": {
      "needs_background": "light"
     },
     "output_type": "display_data"
    },
    {
     "data": {
      "image/png": "[encoded data removed]",
      "text/plain": [
       "<Figure size 432x288 with 1 Axes>"
      ]
     },
     "metadata": {
      "needs_background": "light"
     },
     "output_type": "display_data"
    },
    {
     "data": {
      "image/png": "[encoded data removed]",
      "text/plain": [
       "<Figure size 432x288 with 1 Axes>"
      ]
     },
     "metadata": {
      "needs_background": "light"
     },
     "output_type": "display_data"
    }
   ],
   "source": [
    "sanityChecks.discProbVsError(train_data,disc3,device)\n",
    "sanityChecks.discProbVsError(test_data,disc3,device)"
   ]
  },
  {
   "cell_type": "markdown",
   "id": "a5bd74c3",
   "metadata": {
    "id": "a5bd74c3",
    "papermill": {
     "duration": 0.020238,
     "end_time": "2022-06-12T08:48:13.195092",
     "exception": false,
     "start_time": "2022-06-12T08:48:13.174854",
     "status": "completed"
    },
    "tags": []
   },
   "source": [
    "## Skip Connection Model Analysis - ABC-GAN "
   ]
  },
  {
   "cell_type": "markdown",
   "id": "5744a8bf",
   "metadata": {
    "id": "5744a8bf",
    "papermill": {
     "duration": 0.019586,
     "end_time": "2022-06-12T08:48:13.234491",
     "exception": false,
     "start_time": "2022-06-12T08:48:13.214905",
     "status": "completed"
    },
    "tags": []
   },
   "source": [
    "### Weight Analysis \n",
    "\n",
    "Study the weights of the skip connection layer\n",
    "\n",
    "Equation of the skip connection is \n",
    "\n",
    "$output = y_{gan} * w + y_{abc} * (1-w)$"
   ]
  },
  {
   "cell_type": "code",
   "execution_count": 19,
   "id": "52c31dea",
   "metadata": {
    "execution": {
     "iopub.execute_input": "2022-06-12T08:48:13.276320Z",
     "iopub.status.busy": "2022-06-12T08:48:13.275927Z",
     "iopub.status.idle": "2022-06-12T08:48:13.279334Z",
     "shell.execute_reply": "2022-06-12T08:48:13.279584Z"
    },
    "id": "52c31dea",
    "papermill": {
     "duration": 0.025835,
     "end_time": "2022-06-12T08:48:13.279693",
     "exception": false,
     "start_time": "2022-06-12T08:48:13.253858",
     "status": "completed"
    },
    "tags": []
   },
   "outputs": [
    {
     "name": "stdout",
     "output_type": "stream",
     "text": [
      "Weight of the node at skip connection\n",
      "Parameter containing:\n",
      "tensor([[0.5890]], requires_grad=True)\n"
     ]
    },
    {
     "data": {
      "application/scrapbook.scrap.json+json": {
       "data": 0.5889776349067688,
       "encoder": "json",
       "name": "Skip Connection Weight",
       "version": 1
      }
     },
     "metadata": {
      "scrapbook": {
       "data": true,
       "display": false,
       "name": "Skip Connection Weight"
      }
     },
     "output_type": "display_data"
    }
   ],
   "source": [
    "print(\"Weight of the node at skip connection\")\n",
    "for name,param in gen3.named_parameters():\n",
    "    if(name == \"skipNode.weight\"):\n",
    "        print(param)\n",
    "        sb.glue(\"Skip Connection Weight\",param.item())"
   ]
  }
 ],
 "metadata": {
  "colab": {
   "collapsed_sections": [],
   "name": "ABC_GAN_Model-Catboost_Pre-gen.ipynb",
   "provenance": []
  },
  "interpreter": {
   "hash": "31f2aee4e71d21fbe5cf8b01ff0e069b9275f58929596ceb00d14d90e3e16cd6"
  },
  "kernelspec": {
   "display_name": "Python 3 (ipykernel)",
   "language": "python",
   "name": "python3"
  },
  "language_info": {
   "codemirror_mode": {
    "name": "ipython",
    "version": 3
   },
   "file_extension": ".py",
   "mimetype": "text/x-python",
   "name": "python",
   "nbconvert_exporter": "python",
   "pygments_lexer": "ipython3",
   "version": "3.8.11"
  },
  "papermill": {
   "default_parameters": {},
   "duration": 245.94756,
   "end_time": "2022-06-12T08:48:13.607439",
   "environment_variables": {},
   "exception": null,
   "input_path": "ABC_GAN-Catboost.ipynb",
   "output_path": "./ABC_GAN_Catboost/ABC-GAN_output_10_6.ipynb",
   "parameters": {
    "bias": 0.01,
    "variance": 1
   },
   "start_time": "2022-06-12T08:44:07.659879",
   "version": "2.3.3"
  }
 },
 "nbformat": 4,
 "nbformat_minor": 5
}