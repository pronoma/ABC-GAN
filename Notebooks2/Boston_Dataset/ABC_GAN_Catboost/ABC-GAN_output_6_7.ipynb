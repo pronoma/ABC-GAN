{
 "cells": [
  {
   "cell_type": "markdown",
   "id": "622780e6",
   "metadata": {
    "id": "622780e6",
    "papermill": {
     "duration": 0.03077,
     "end_time": "2022-06-12T05:56:36.327491",
     "exception": false,
     "start_time": "2022-06-12T05:56:36.296721",
     "status": "completed"
    },
    "tags": []
   },
   "source": [
    "## Import Libraries "
   ]
  },
  {
   "cell_type": "code",
   "execution_count": 1,
   "id": "a62397e3",
   "metadata": {
    "execution": {
     "iopub.execute_input": "2022-06-12T05:56:36.363969Z",
     "iopub.status.busy": "2022-06-12T05:56:36.363419Z",
     "iopub.status.idle": "2022-06-12T05:56:36.365937Z",
     "shell.execute_reply": "2022-06-12T05:56:36.366328Z"
    },
    "id": "a62397e3",
    "papermill": {
     "duration": 0.024299,
     "end_time": "2022-06-12T05:56:36.366557",
     "exception": false,
     "start_time": "2022-06-12T05:56:36.342258",
     "status": "completed"
    },
    "tags": []
   },
   "outputs": [],
   "source": [
    "import warnings\n",
    "import sys\n",
    "sys.path.insert(0, '../../src')\n",
    "warnings.filterwarnings('ignore')"
   ]
  },
  {
   "cell_type": "code",
   "execution_count": 2,
   "id": "d6a4e155",
   "metadata": {
    "execution": {
     "iopub.execute_input": "2022-06-12T05:56:36.388915Z",
     "iopub.status.busy": "2022-06-12T05:56:36.388512Z",
     "iopub.status.idle": "2022-06-12T05:56:38.205516Z",
     "shell.execute_reply": "2022-06-12T05:56:38.205773Z"
    },
    "id": "d6a4e155",
    "papermill": {
     "duration": 1.828925,
     "end_time": "2022-06-12T05:56:38.205895",
     "exception": false,
     "start_time": "2022-06-12T05:56:36.376970",
     "status": "completed"
    },
    "tags": []
   },
   "outputs": [],
   "source": [
    "import ABC_train_test2\n",
    "import bostonDataset\n",
    "import network\n",
    "import dataset\n",
    "import sanityChecks\n",
    "import torch \n",
    "import scrapbook as sb\n",
    "from statistics import mean \n",
    "import catboost as ctb \n",
    "from sklearn.model_selection import train_test_split\n",
    "from sklearn.metrics import mean_squared_error,mean_absolute_error\n",
    "import numpy as np"
   ]
  },
  {
   "cell_type": "markdown",
   "id": "2fa5b0f7",
   "metadata": {
    "id": "2fa5b0f7",
    "papermill": {
     "duration": 0.007811,
     "end_time": "2022-06-12T05:56:38.220880",
     "exception": false,
     "start_time": "2022-06-12T05:56:38.213069",
     "status": "completed"
    },
    "tags": []
   },
   "source": [
    "## Parameters "
   ]
  },
  {
   "cell_type": "code",
   "execution_count": 3,
   "id": "783186fb",
   "metadata": {
    "execution": {
     "iopub.execute_input": "2022-06-12T05:56:38.237290Z",
     "iopub.status.busy": "2022-06-12T05:56:38.236860Z",
     "iopub.status.idle": "2022-06-12T05:56:38.238253Z",
     "shell.execute_reply": "2022-06-12T05:56:38.238498Z"
    },
    "id": "783186fb",
    "papermill": {
     "duration": 0.010713,
     "end_time": "2022-06-12T05:56:38.238614",
     "exception": false,
     "start_time": "2022-06-12T05:56:38.227901",
     "status": "completed"
    },
    "tags": [
     "parameters"
    ]
   },
   "outputs": [],
   "source": [
    "variance = 1\n",
    "bias = 1 "
   ]
  },
  {
   "cell_type": "code",
   "execution_count": 4,
   "id": "501b33a7",
   "metadata": {
    "execution": {
     "iopub.execute_input": "2022-06-12T05:56:38.254716Z",
     "iopub.status.busy": "2022-06-12T05:56:38.254312Z",
     "iopub.status.idle": "2022-06-12T05:56:38.255646Z",
     "shell.execute_reply": "2022-06-12T05:56:38.255898Z"
    },
    "papermill": {
     "duration": 0.010352,
     "end_time": "2022-06-12T05:56:38.256009",
     "exception": false,
     "start_time": "2022-06-12T05:56:38.245657",
     "status": "completed"
    },
    "tags": [
     "injected-parameters"
    ]
   },
   "outputs": [],
   "source": [
    "# Parameters\n",
    "variance = 0.1\n",
    "bias = 0.01\n"
   ]
  },
  {
   "cell_type": "markdown",
   "id": "391cdbfd",
   "metadata": {
    "id": "391cdbfd",
    "papermill": {
     "duration": 0.006964,
     "end_time": "2022-06-12T05:56:38.270135",
     "exception": false,
     "start_time": "2022-06-12T05:56:38.263171",
     "status": "completed"
    },
    "tags": []
   },
   "source": [
    "## Dataset \n"
   ]
  },
  {
   "cell_type": "code",
   "execution_count": 5,
   "id": "5b51f161",
   "metadata": {
    "execution": {
     "iopub.execute_input": "2022-06-12T05:56:38.286194Z",
     "iopub.status.busy": "2022-06-12T05:56:38.285824Z",
     "iopub.status.idle": "2022-06-12T05:56:38.287155Z",
     "shell.execute_reply": "2022-06-12T05:56:38.287398Z"
    },
    "id": "5b51f161",
    "papermill": {
     "duration": 0.010353,
     "end_time": "2022-06-12T05:56:38.287507",
     "exception": false,
     "start_time": "2022-06-12T05:56:38.277154",
     "status": "completed"
    },
    "tags": []
   },
   "outputs": [],
   "source": [
    "#Parameters \n",
    "n_features = 13\n",
    "n_samples= 506\n",
    "n_target = 1 "
   ]
  },
  {
   "cell_type": "code",
   "execution_count": 6,
   "id": "5d6eced4",
   "metadata": {
    "execution": {
     "iopub.execute_input": "2022-06-12T05:56:38.303455Z",
     "iopub.status.busy": "2022-06-12T05:56:38.303090Z",
     "iopub.status.idle": "2022-06-12T05:56:38.314271Z",
     "shell.execute_reply": "2022-06-12T05:56:38.314524Z"
    },
    "id": "5d6eced4",
    "papermill": {
     "duration": 0.02011,
     "end_time": "2022-06-12T05:56:38.314646",
     "exception": false,
     "start_time": "2022-06-12T05:56:38.294536",
     "status": "completed"
    },
    "tags": []
   },
   "outputs": [
    {
     "name": "stdout",
     "output_type": "stream",
     "text": [
      "         X1        X2        X3        X4        X5        X6        X7  \\\n",
      "0 -0.419782  0.284830 -1.287909 -0.272599 -0.144217  0.413672 -0.120013   \n",
      "1 -0.417339 -0.487722 -0.593381 -0.272599 -0.740262  0.194274  0.367166   \n",
      "2 -0.417342 -0.487722 -0.593381 -0.272599 -0.740262  1.282714 -0.265812   \n",
      "3 -0.416750 -0.487722 -1.306878 -0.272599 -0.835284  1.016303 -0.809889   \n",
      "4 -0.412482 -0.487722 -1.306878 -0.272599 -0.835284  1.228577 -0.511180   \n",
      "\n",
      "         X8        X9       X10       X11       X12       X13         Y  \n",
      "0  0.140214 -0.982843 -0.666608 -1.459000  0.441052 -1.075562  0.159686  \n",
      "1  0.557160 -0.867883 -0.987329 -0.303094  0.441052 -0.492439 -0.101524  \n",
      "2  0.557160 -0.867883 -0.987329 -0.303094  0.396427 -1.208727  1.324247  \n",
      "3  1.077737 -0.752922 -1.106115  0.113032  0.416163 -1.361517  1.182758  \n",
      "4  1.077737 -0.752922 -1.106115  0.113032  0.441052 -1.026501  1.487503  \n"
     ]
    }
   ],
   "source": [
    "X,Y = bostonDataset.boston_data()"
   ]
  },
  {
   "cell_type": "code",
   "execution_count": 7,
   "id": "fe007438",
   "metadata": {
    "execution": {
     "iopub.execute_input": "2022-06-12T05:56:38.332749Z",
     "iopub.status.busy": "2022-06-12T05:56:38.332353Z",
     "iopub.status.idle": "2022-06-12T05:56:38.334435Z",
     "shell.execute_reply": "2022-06-12T05:56:38.334788Z"
    },
    "id": "fe007438",
    "papermill": {
     "duration": 0.012726,
     "end_time": "2022-06-12T05:56:38.334923",
     "exception": false,
     "start_time": "2022-06-12T05:56:38.322197",
     "status": "completed"
    },
    "tags": []
   },
   "outputs": [],
   "source": [
    "#Train test split for dataset \n",
    "X_train,X_test,Y_train,Y_test = train_test_split(X,Y,test_size = 0.2)\n",
    "train_data = dataset.CustomDataset(X_train,Y_train)\n",
    "test_data = dataset.CustomDataset(X_test,Y_test)\n"
   ]
  },
  {
   "cell_type": "markdown",
   "id": "a9a1af34",
   "metadata": {
    "id": "a9a1af34",
    "papermill": {
     "duration": 0.007461,
     "end_time": "2022-06-12T05:56:38.349994",
     "exception": false,
     "start_time": "2022-06-12T05:56:38.342533",
     "status": "completed"
    },
    "tags": []
   },
   "source": [
    "## Training Parameters "
   ]
  },
  {
   "cell_type": "code",
   "execution_count": 8,
   "id": "952b7fc8",
   "metadata": {
    "execution": {
     "iopub.execute_input": "2022-06-12T05:56:38.367122Z",
     "iopub.status.busy": "2022-06-12T05:56:38.366750Z",
     "iopub.status.idle": "2022-06-12T05:56:38.367928Z",
     "shell.execute_reply": "2022-06-12T05:56:38.368216Z"
    },
    "id": "952b7fc8",
    "papermill": {
     "duration": 0.011045,
     "end_time": "2022-06-12T05:56:38.368325",
     "exception": false,
     "start_time": "2022-06-12T05:56:38.357280",
     "status": "completed"
    },
    "tags": []
   },
   "outputs": [],
   "source": [
    "batch_size = 32\n",
    "n_epochs = 1000\n",
    "#Select the device \n",
    "device = torch.device('cuda' if torch.cuda.is_available() else 'cpu')"
   ]
  },
  {
   "cell_type": "markdown",
   "id": "a95e1600",
   "metadata": {
    "id": "a95e1600",
    "papermill": {
     "duration": 0.007119,
     "end_time": "2022-06-12T05:56:38.382711",
     "exception": false,
     "start_time": "2022-06-12T05:56:38.375592",
     "status": "completed"
    },
    "tags": []
   },
   "source": [
    "# ABC Pre-generator Model \n",
    "\n",
    "1. The catboost model is used as a pre-generator model for the ABC-GAN. \n",
    "2. The model is first trained on the entire dataset \n",
    "3. It generats X,Y pairs and we add some Gaussian noise with mean 0 and variance 1 to it which is then feed as input to the generator.\n"
   ]
  },
  {
   "cell_type": "code",
   "execution_count": 9,
   "id": "ff8ce7bd",
   "metadata": {
    "execution": {
     "iopub.execute_input": "2022-06-12T05:56:38.403043Z",
     "iopub.status.busy": "2022-06-12T05:56:38.402659Z",
     "iopub.status.idle": "2022-06-12T05:56:39.405866Z",
     "shell.execute_reply": "2022-06-12T05:56:39.406160Z"
    },
    "id": "ff8ce7bd",
    "papermill": {
     "duration": 1.015991,
     "end_time": "2022-06-12T05:56:39.406282",
     "exception": false,
     "start_time": "2022-06-12T05:56:38.390291",
     "status": "completed"
    },
    "tags": []
   },
   "outputs": [
    {
     "name": "stdout",
     "output_type": "stream",
     "text": [
      "Learning rate set to 0.033215\n",
      "0:\tlearn: 0.9667983\ttotal: 57.1ms\tremaining: 57.1s\n",
      "1:\tlearn: 0.9476890\ttotal: 58.1ms\tremaining: 29s\n",
      "2:\tlearn: 0.9268921\ttotal: 59ms\tremaining: 19.6s\n",
      "3:\tlearn: 0.9106203\ttotal: 59.8ms\tremaining: 14.9s\n",
      "4:\tlearn: 0.8937671\ttotal: 60.6ms\tremaining: 12.1s\n",
      "5:\tlearn: 0.8769447\ttotal: 61.4ms\tremaining: 10.2s\n",
      "6:\tlearn: 0.8604724\ttotal: 62.1ms\tremaining: 8.81s\n",
      "7:\tlearn: 0.8440841\ttotal: 62.9ms\tremaining: 7.8s\n",
      "8:\tlearn: 0.8292870\ttotal: 63.6ms\tremaining: 7.01s\n",
      "9:\tlearn: 0.8133019\ttotal: 64.4ms\tremaining: 6.38s\n",
      "10:\tlearn: 0.7992604\ttotal: 65.2ms\tremaining: 5.86s\n",
      "11:\tlearn: 0.7848821\ttotal: 66ms\tremaining: 5.43s\n",
      "12:\tlearn: 0.7697776\ttotal: 66.7ms\tremaining: 5.07s\n",
      "13:\tlearn: 0.7549299\ttotal: 67.5ms\tremaining: 4.75s\n",
      "14:\tlearn: 0.7429533\ttotal: 68.3ms\tremaining: 4.48s\n",
      "15:\tlearn: 0.7292430\ttotal: 68.9ms\tremaining: 4.24s\n",
      "16:\tlearn: 0.7165629\ttotal: 69.6ms\tremaining: 4.03s\n",
      "17:\tlearn: 0.7036494\ttotal: 70.3ms\tremaining: 3.84s\n",
      "18:\tlearn: 0.6915497\ttotal: 71ms\tremaining: 3.67s\n",
      "19:\tlearn: 0.6791080\ttotal: 71.8ms\tremaining: 3.52s\n",
      "20:\tlearn: 0.6671376\ttotal: 72.8ms\tremaining: 3.39s\n",
      "21:\tlearn: 0.6549367\ttotal: 73.7ms\tremaining: 3.28s\n",
      "22:\tlearn: 0.6446474\ttotal: 74.6ms\tremaining: 3.17s\n",
      "23:\tlearn: 0.6344052\ttotal: 75.6ms\tremaining: 3.07s\n",
      "24:\tlearn: 0.6243020\ttotal: 76.4ms\tremaining: 2.98s\n",
      "25:\tlearn: 0.6147664\ttotal: 77.1ms\tremaining: 2.89s\n",
      "26:\tlearn: 0.6054094\ttotal: 78ms\tremaining: 2.81s\n",
      "27:\tlearn: 0.5967466\ttotal: 78.7ms\tremaining: 2.73s\n",
      "28:\tlearn: 0.5865004\ttotal: 79.6ms\tremaining: 2.67s\n",
      "29:\tlearn: 0.5771445\ttotal: 80.5ms\tremaining: 2.6s\n",
      "30:\tlearn: 0.5678531\ttotal: 81.5ms\tremaining: 2.55s\n",
      "31:\tlearn: 0.5603021\ttotal: 82.4ms\tremaining: 2.49s\n",
      "32:\tlearn: 0.5530892\ttotal: 83.2ms\tremaining: 2.44s\n",
      "33:\tlearn: 0.5454123\ttotal: 84.2ms\tremaining: 2.39s\n",
      "34:\tlearn: 0.5379812\ttotal: 85.1ms\tremaining: 2.35s\n",
      "35:\tlearn: 0.5305122\ttotal: 86ms\tremaining: 2.3s\n",
      "36:\tlearn: 0.5239616\ttotal: 86.8ms\tremaining: 2.26s\n",
      "37:\tlearn: 0.5169590\ttotal: 87.9ms\tremaining: 2.23s\n",
      "38:\tlearn: 0.5094705\ttotal: 89ms\tremaining: 2.19s\n",
      "39:\tlearn: 0.5018014\ttotal: 90ms\tremaining: 2.16s\n",
      "40:\tlearn: 0.4956935\ttotal: 90.8ms\tremaining: 2.12s\n",
      "41:\tlearn: 0.4893530\ttotal: 92.3ms\tremaining: 2.1s\n",
      "42:\tlearn: 0.4833516\ttotal: 93.1ms\tremaining: 2.07s\n",
      "43:\tlearn: 0.4773625\ttotal: 94.3ms\tremaining: 2.05s\n",
      "44:\tlearn: 0.4716884\ttotal: 95.3ms\tremaining: 2.02s\n",
      "45:\tlearn: 0.4658524\ttotal: 96.3ms\tremaining: 2s\n",
      "46:\tlearn: 0.4611997\ttotal: 97ms\tremaining: 1.97s\n",
      "47:\tlearn: 0.4554830\ttotal: 97.8ms\tremaining: 1.94s\n",
      "48:\tlearn: 0.4498170\ttotal: 98.6ms\tremaining: 1.91s\n",
      "49:\tlearn: 0.4450935\ttotal: 99.6ms\tremaining: 1.89s\n",
      "50:\tlearn: 0.4395612\ttotal: 101ms\tremaining: 1.87s\n",
      "51:\tlearn: 0.4350320\ttotal: 102ms\tremaining: 1.85s\n",
      "52:\tlearn: 0.4303893\ttotal: 103ms\tremaining: 1.84s\n",
      "53:\tlearn: 0.4271293\ttotal: 104ms\tremaining: 1.82s\n"
     ]
    },
    {
     "name": "stdout",
     "output_type": "stream",
     "text": [
      "54:\tlearn: 0.4220186\ttotal: 105ms\tremaining: 1.81s\n",
      "55:\tlearn: 0.4181122\ttotal: 106ms\tremaining: 1.79s\n",
      "56:\tlearn: 0.4139190\ttotal: 107ms\tremaining: 1.77s\n",
      "57:\tlearn: 0.4093654\ttotal: 108ms\tremaining: 1.75s\n",
      "58:\tlearn: 0.4053125\ttotal: 109ms\tremaining: 1.73s\n",
      "59:\tlearn: 0.4018839\ttotal: 109ms\tremaining: 1.71s\n",
      "60:\tlearn: 0.3981911\ttotal: 110ms\tremaining: 1.7s\n",
      "61:\tlearn: 0.3938337\ttotal: 111ms\tremaining: 1.68s\n",
      "62:\tlearn: 0.3910295\ttotal: 112ms\tremaining: 1.67s\n",
      "63:\tlearn: 0.3879513\ttotal: 113ms\tremaining: 1.65s\n",
      "64:\tlearn: 0.3851022\ttotal: 114ms\tremaining: 1.64s\n",
      "65:\tlearn: 0.3816549\ttotal: 115ms\tremaining: 1.62s\n",
      "66:\tlearn: 0.3785604\ttotal: 116ms\tremaining: 1.61s\n",
      "67:\tlearn: 0.3752999\ttotal: 117ms\tremaining: 1.6s\n",
      "68:\tlearn: 0.3724493\ttotal: 117ms\tremaining: 1.58s\n",
      "69:\tlearn: 0.3693883\ttotal: 118ms\tremaining: 1.57s\n",
      "70:\tlearn: 0.3666632\ttotal: 119ms\tremaining: 1.56s\n",
      "71:\tlearn: 0.3632999\ttotal: 120ms\tremaining: 1.55s\n",
      "72:\tlearn: 0.3607809\ttotal: 121ms\tremaining: 1.53s\n",
      "73:\tlearn: 0.3577425\ttotal: 122ms\tremaining: 1.52s\n",
      "74:\tlearn: 0.3549820\ttotal: 123ms\tremaining: 1.51s\n",
      "75:\tlearn: 0.3528378\ttotal: 124ms\tremaining: 1.5s\n",
      "76:\tlearn: 0.3493964\ttotal: 125ms\tremaining: 1.5s\n",
      "77:\tlearn: 0.3465423\ttotal: 126ms\tremaining: 1.49s\n",
      "78:\tlearn: 0.3438911\ttotal: 127ms\tremaining: 1.48s\n",
      "79:\tlearn: 0.3421111\ttotal: 128ms\tremaining: 1.47s\n",
      "80:\tlearn: 0.3395759\ttotal: 129ms\tremaining: 1.46s\n",
      "81:\tlearn: 0.3369887\ttotal: 129ms\tremaining: 1.45s\n",
      "82:\tlearn: 0.3356141\ttotal: 130ms\tremaining: 1.44s\n",
      "83:\tlearn: 0.3332637\ttotal: 131ms\tremaining: 1.43s\n",
      "84:\tlearn: 0.3315420\ttotal: 132ms\tremaining: 1.42s\n",
      "85:\tlearn: 0.3292255\ttotal: 133ms\tremaining: 1.41s\n",
      "86:\tlearn: 0.3270498\ttotal: 134ms\tremaining: 1.41s\n",
      "87:\tlearn: 0.3247903\ttotal: 135ms\tremaining: 1.4s\n",
      "88:\tlearn: 0.3225667\ttotal: 136ms\tremaining: 1.39s\n",
      "89:\tlearn: 0.3202646\ttotal: 136ms\tremaining: 1.38s\n",
      "90:\tlearn: 0.3177257\ttotal: 137ms\tremaining: 1.37s\n",
      "91:\tlearn: 0.3161027\ttotal: 138ms\tremaining: 1.36s\n",
      "92:\tlearn: 0.3146290\ttotal: 139ms\tremaining: 1.35s\n",
      "93:\tlearn: 0.3122578\ttotal: 140ms\tremaining: 1.35s\n",
      "94:\tlearn: 0.3106903\ttotal: 141ms\tremaining: 1.34s\n",
      "95:\tlearn: 0.3098496\ttotal: 141ms\tremaining: 1.33s\n",
      "96:\tlearn: 0.3083268\ttotal: 142ms\tremaining: 1.32s\n",
      "97:\tlearn: 0.3065572\ttotal: 143ms\tremaining: 1.31s\n",
      "98:\tlearn: 0.3048556\ttotal: 143ms\tremaining: 1.3s\n",
      "99:\tlearn: 0.3030794\ttotal: 144ms\tremaining: 1.3s\n",
      "100:\tlearn: 0.3018012\ttotal: 145ms\tremaining: 1.29s\n",
      "101:\tlearn: 0.3004023\ttotal: 146ms\tremaining: 1.28s\n",
      "102:\tlearn: 0.2981445\ttotal: 147ms\tremaining: 1.28s\n",
      "103:\tlearn: 0.2961406\ttotal: 147ms\tremaining: 1.27s\n",
      "104:\tlearn: 0.2948842\ttotal: 148ms\tremaining: 1.26s\n",
      "105:\tlearn: 0.2936575\ttotal: 149ms\tremaining: 1.26s\n",
      "106:\tlearn: 0.2924274\ttotal: 150ms\tremaining: 1.25s\n",
      "107:\tlearn: 0.2909733\ttotal: 151ms\tremaining: 1.24s\n",
      "108:\tlearn: 0.2893167\ttotal: 151ms\tremaining: 1.24s\n",
      "109:\tlearn: 0.2882415\ttotal: 152ms\tremaining: 1.23s\n",
      "110:\tlearn: 0.2868325\ttotal: 153ms\tremaining: 1.22s\n",
      "111:\tlearn: 0.2859995\ttotal: 154ms\tremaining: 1.22s\n",
      "112:\tlearn: 0.2845780\ttotal: 155ms\tremaining: 1.22s\n",
      "113:\tlearn: 0.2837333\ttotal: 156ms\tremaining: 1.21s\n",
      "114:\tlearn: 0.2830645\ttotal: 157ms\tremaining: 1.2s\n",
      "115:\tlearn: 0.2816453\ttotal: 157ms\tremaining: 1.2s\n",
      "116:\tlearn: 0.2801177\ttotal: 158ms\tremaining: 1.19s\n",
      "117:\tlearn: 0.2788521\ttotal: 159ms\tremaining: 1.19s\n",
      "118:\tlearn: 0.2783365\ttotal: 160ms\tremaining: 1.18s\n",
      "119:\tlearn: 0.2772656\ttotal: 160ms\tremaining: 1.18s\n",
      "120:\tlearn: 0.2763250\ttotal: 161ms\tremaining: 1.17s\n",
      "121:\tlearn: 0.2752820\ttotal: 162ms\tremaining: 1.17s\n",
      "122:\tlearn: 0.2743218\ttotal: 163ms\tremaining: 1.16s\n",
      "123:\tlearn: 0.2734474\ttotal: 164ms\tremaining: 1.16s\n",
      "124:\tlearn: 0.2723445\ttotal: 164ms\tremaining: 1.15s\n",
      "125:\tlearn: 0.2711086\ttotal: 165ms\tremaining: 1.15s\n",
      "126:\tlearn: 0.2702961\ttotal: 166ms\tremaining: 1.14s\n",
      "127:\tlearn: 0.2689298\ttotal: 167ms\tremaining: 1.14s\n",
      "128:\tlearn: 0.2683105\ttotal: 168ms\tremaining: 1.13s\n",
      "129:\tlearn: 0.2677564\ttotal: 168ms\tremaining: 1.13s\n",
      "130:\tlearn: 0.2668589\ttotal: 169ms\tremaining: 1.12s\n",
      "131:\tlearn: 0.2662218\ttotal: 170ms\tremaining: 1.12s\n",
      "132:\tlearn: 0.2651208\ttotal: 171ms\tremaining: 1.11s\n",
      "133:\tlearn: 0.2648654\ttotal: 172ms\tremaining: 1.11s\n",
      "134:\tlearn: 0.2643571\ttotal: 172ms\tremaining: 1.1s\n",
      "135:\tlearn: 0.2635728\ttotal: 173ms\tremaining: 1.1s\n",
      "136:\tlearn: 0.2629388\ttotal: 174ms\tremaining: 1.09s\n",
      "137:\tlearn: 0.2620618\ttotal: 175ms\tremaining: 1.09s\n",
      "138:\tlearn: 0.2615407\ttotal: 176ms\tremaining: 1.09s\n",
      "139:\tlearn: 0.2607849\ttotal: 176ms\tremaining: 1.08s\n",
      "140:\tlearn: 0.2597951\ttotal: 177ms\tremaining: 1.08s\n",
      "141:\tlearn: 0.2585795\ttotal: 178ms\tremaining: 1.07s\n",
      "142:\tlearn: 0.2574570\ttotal: 178ms\tremaining: 1.07s\n",
      "143:\tlearn: 0.2565085\ttotal: 179ms\tremaining: 1.06s\n",
      "144:\tlearn: 0.2556421\ttotal: 179ms\tremaining: 1.06s\n",
      "145:\tlearn: 0.2544129\ttotal: 180ms\tremaining: 1.05s\n",
      "146:\tlearn: 0.2538941\ttotal: 181ms\tremaining: 1.05s\n",
      "147:\tlearn: 0.2530315\ttotal: 182ms\tremaining: 1.05s\n",
      "148:\tlearn: 0.2525938\ttotal: 183ms\tremaining: 1.05s\n",
      "149:\tlearn: 0.2518648\ttotal: 184ms\tremaining: 1.04s\n",
      "150:\tlearn: 0.2511975\ttotal: 185ms\tremaining: 1.04s\n",
      "151:\tlearn: 0.2505613\ttotal: 186ms\tremaining: 1.04s\n",
      "152:\tlearn: 0.2500593\ttotal: 187ms\tremaining: 1.03s\n",
      "153:\tlearn: 0.2496812\ttotal: 187ms\tremaining: 1.03s\n",
      "154:\tlearn: 0.2489429\ttotal: 188ms\tremaining: 1.02s\n",
      "155:\tlearn: 0.2486863\ttotal: 189ms\tremaining: 1.02s\n",
      "156:\tlearn: 0.2480813\ttotal: 190ms\tremaining: 1.02s\n",
      "157:\tlearn: 0.2468508\ttotal: 190ms\tremaining: 1.01s\n"
     ]
    },
    {
     "name": "stdout",
     "output_type": "stream",
     "text": [
      "158:\tlearn: 0.2461109\ttotal: 192ms\tremaining: 1.01s\n",
      "159:\tlearn: 0.2454001\ttotal: 193ms\tremaining: 1.01s\n",
      "160:\tlearn: 0.2448224\ttotal: 193ms\tremaining: 1.01s\n",
      "161:\tlearn: 0.2444812\ttotal: 194ms\tremaining: 1s\n",
      "162:\tlearn: 0.2441436\ttotal: 195ms\tremaining: 1s\n",
      "163:\tlearn: 0.2436187\ttotal: 196ms\tremaining: 999ms\n",
      "164:\tlearn: 0.2432328\ttotal: 197ms\tremaining: 996ms\n",
      "165:\tlearn: 0.2425166\ttotal: 198ms\tremaining: 993ms\n",
      "166:\tlearn: 0.2417484\ttotal: 199ms\tremaining: 991ms\n",
      "167:\tlearn: 0.2410622\ttotal: 200ms\tremaining: 989ms\n",
      "168:\tlearn: 0.2402364\ttotal: 201ms\tremaining: 986ms\n",
      "169:\tlearn: 0.2395681\ttotal: 201ms\tremaining: 983ms\n",
      "170:\tlearn: 0.2392043\ttotal: 202ms\tremaining: 979ms\n",
      "171:\tlearn: 0.2387283\ttotal: 203ms\tremaining: 977ms\n",
      "172:\tlearn: 0.2385398\ttotal: 203ms\tremaining: 973ms\n",
      "173:\tlearn: 0.2380765\ttotal: 204ms\tremaining: 970ms\n",
      "174:\tlearn: 0.2376187\ttotal: 205ms\tremaining: 968ms\n",
      "175:\tlearn: 0.2370104\ttotal: 206ms\tremaining: 965ms\n",
      "176:\tlearn: 0.2366517\ttotal: 207ms\tremaining: 963ms\n",
      "177:\tlearn: 0.2356844\ttotal: 208ms\tremaining: 960ms\n",
      "178:\tlearn: 0.2353571\ttotal: 209ms\tremaining: 958ms\n",
      "179:\tlearn: 0.2346410\ttotal: 210ms\tremaining: 955ms\n",
      "180:\tlearn: 0.2343580\ttotal: 211ms\tremaining: 953ms\n",
      "181:\tlearn: 0.2335541\ttotal: 211ms\tremaining: 950ms\n",
      "182:\tlearn: 0.2327852\ttotal: 213ms\tremaining: 950ms\n",
      "183:\tlearn: 0.2323333\ttotal: 214ms\tremaining: 948ms\n",
      "184:\tlearn: 0.2319909\ttotal: 215ms\tremaining: 945ms\n",
      "185:\tlearn: 0.2314787\ttotal: 216ms\tremaining: 943ms\n",
      "186:\tlearn: 0.2309575\ttotal: 216ms\tremaining: 940ms\n",
      "187:\tlearn: 0.2307482\ttotal: 217ms\tremaining: 938ms\n",
      "188:\tlearn: 0.2304190\ttotal: 218ms\tremaining: 935ms\n",
      "189:\tlearn: 0.2296600\ttotal: 219ms\tremaining: 932ms\n",
      "190:\tlearn: 0.2286452\ttotal: 220ms\tremaining: 930ms\n",
      "191:\tlearn: 0.2282289\ttotal: 220ms\tremaining: 927ms\n",
      "192:\tlearn: 0.2274546\ttotal: 221ms\tremaining: 925ms\n",
      "193:\tlearn: 0.2271762\ttotal: 222ms\tremaining: 922ms\n",
      "194:\tlearn: 0.2269096\ttotal: 222ms\tremaining: 918ms\n",
      "195:\tlearn: 0.2265021\ttotal: 223ms\tremaining: 916ms\n",
      "196:\tlearn: 0.2258944\ttotal: 224ms\tremaining: 913ms\n",
      "197:\tlearn: 0.2254731\ttotal: 225ms\tremaining: 911ms\n",
      "198:\tlearn: 0.2250722\ttotal: 226ms\tremaining: 909ms\n",
      "199:\tlearn: 0.2245713\ttotal: 227ms\tremaining: 907ms\n",
      "200:\tlearn: 0.2243567\ttotal: 227ms\tremaining: 904ms\n",
      "201:\tlearn: 0.2241247\ttotal: 228ms\tremaining: 902ms\n",
      "202:\tlearn: 0.2239554\ttotal: 229ms\tremaining: 899ms\n",
      "203:\tlearn: 0.2237467\ttotal: 230ms\tremaining: 897ms\n",
      "204:\tlearn: 0.2234684\ttotal: 231ms\tremaining: 894ms\n",
      "205:\tlearn: 0.2229449\ttotal: 231ms\tremaining: 891ms\n",
      "206:\tlearn: 0.2223574\ttotal: 233ms\tremaining: 891ms\n",
      "207:\tlearn: 0.2220954\ttotal: 233ms\tremaining: 889ms\n",
      "208:\tlearn: 0.2214008\ttotal: 234ms\tremaining: 887ms\n",
      "209:\tlearn: 0.2209238\ttotal: 235ms\tremaining: 885ms\n",
      "210:\tlearn: 0.2207241\ttotal: 236ms\tremaining: 883ms\n",
      "211:\tlearn: 0.2201485\ttotal: 237ms\tremaining: 881ms\n",
      "212:\tlearn: 0.2197418\ttotal: 238ms\tremaining: 879ms\n",
      "213:\tlearn: 0.2189414\ttotal: 239ms\tremaining: 877ms\n",
      "214:\tlearn: 0.2187259\ttotal: 240ms\tremaining: 875ms\n",
      "215:\tlearn: 0.2185600\ttotal: 240ms\tremaining: 872ms\n",
      "216:\tlearn: 0.2184032\ttotal: 242ms\tremaining: 872ms\n",
      "217:\tlearn: 0.2180050\ttotal: 243ms\tremaining: 871ms\n",
      "218:\tlearn: 0.2175471\ttotal: 244ms\tremaining: 869ms\n",
      "219:\tlearn: 0.2171029\ttotal: 244ms\tremaining: 866ms\n",
      "220:\tlearn: 0.2166864\ttotal: 245ms\tremaining: 864ms\n",
      "221:\tlearn: 0.2163791\ttotal: 246ms\tremaining: 862ms\n",
      "222:\tlearn: 0.2161826\ttotal: 247ms\tremaining: 861ms\n",
      "223:\tlearn: 0.2160199\ttotal: 248ms\tremaining: 859ms\n",
      "224:\tlearn: 0.2154756\ttotal: 249ms\tremaining: 857ms\n",
      "225:\tlearn: 0.2153084\ttotal: 249ms\tremaining: 854ms\n",
      "226:\tlearn: 0.2146642\ttotal: 250ms\tremaining: 852ms\n",
      "227:\tlearn: 0.2145277\ttotal: 251ms\tremaining: 850ms\n",
      "228:\tlearn: 0.2140970\ttotal: 252ms\tremaining: 848ms\n",
      "229:\tlearn: 0.2132581\ttotal: 253ms\tremaining: 846ms\n",
      "230:\tlearn: 0.2127403\ttotal: 254ms\tremaining: 844ms\n",
      "231:\tlearn: 0.2120253\ttotal: 254ms\tremaining: 842ms\n",
      "232:\tlearn: 0.2113864\ttotal: 255ms\tremaining: 840ms\n",
      "233:\tlearn: 0.2108859\ttotal: 256ms\tremaining: 839ms\n",
      "234:\tlearn: 0.2106931\ttotal: 257ms\tremaining: 836ms\n",
      "235:\tlearn: 0.2105091\ttotal: 258ms\tremaining: 834ms\n",
      "236:\tlearn: 0.2101887\ttotal: 259ms\tremaining: 833ms\n",
      "237:\tlearn: 0.2098993\ttotal: 259ms\tremaining: 830ms\n",
      "238:\tlearn: 0.2093227\ttotal: 260ms\tremaining: 828ms\n",
      "239:\tlearn: 0.2088478\ttotal: 261ms\tremaining: 826ms\n",
      "240:\tlearn: 0.2084001\ttotal: 262ms\tremaining: 824ms\n",
      "241:\tlearn: 0.2082501\ttotal: 263ms\tremaining: 822ms\n",
      "242:\tlearn: 0.2079850\ttotal: 263ms\tremaining: 820ms\n",
      "243:\tlearn: 0.2078400\ttotal: 264ms\tremaining: 818ms\n",
      "244:\tlearn: 0.2073927\ttotal: 265ms\tremaining: 816ms\n",
      "245:\tlearn: 0.2072315\ttotal: 266ms\tremaining: 814ms\n",
      "246:\tlearn: 0.2070241\ttotal: 267ms\tremaining: 812ms\n",
      "247:\tlearn: 0.2067785\ttotal: 267ms\tremaining: 810ms\n",
      "248:\tlearn: 0.2066156\ttotal: 268ms\tremaining: 808ms\n",
      "249:\tlearn: 0.2061273\ttotal: 269ms\tremaining: 806ms\n",
      "250:\tlearn: 0.2055554\ttotal: 270ms\tremaining: 805ms\n",
      "251:\tlearn: 0.2049511\ttotal: 271ms\tremaining: 803ms\n",
      "252:\tlearn: 0.2045701\ttotal: 272ms\tremaining: 802ms\n",
      "253:\tlearn: 0.2039417\ttotal: 272ms\tremaining: 800ms\n",
      "254:\tlearn: 0.2037524\ttotal: 273ms\tremaining: 798ms\n",
      "255:\tlearn: 0.2032623\ttotal: 274ms\tremaining: 796ms\n",
      "256:\tlearn: 0.2026146\ttotal: 275ms\tremaining: 794ms\n",
      "257:\tlearn: 0.2022483\ttotal: 276ms\tremaining: 793ms\n",
      "258:\tlearn: 0.2013496\ttotal: 277ms\tremaining: 791ms\n",
      "259:\tlearn: 0.2008240\ttotal: 277ms\tremaining: 789ms\n",
      "260:\tlearn: 0.2007192\ttotal: 278ms\tremaining: 788ms\n",
      "261:\tlearn: 0.2003272\ttotal: 279ms\tremaining: 786ms\n",
      "262:\tlearn: 0.1996784\ttotal: 280ms\tremaining: 784ms\n",
      "263:\tlearn: 0.1995300\ttotal: 281ms\tremaining: 783ms\n",
      "264:\tlearn: 0.1993833\ttotal: 282ms\tremaining: 781ms\n",
      "265:\tlearn: 0.1988878\ttotal: 283ms\tremaining: 780ms\n",
      "266:\tlearn: 0.1981550\ttotal: 283ms\tremaining: 778ms\n",
      "267:\tlearn: 0.1978224\ttotal: 284ms\tremaining: 777ms\n",
      "268:\tlearn: 0.1970572\ttotal: 286ms\tremaining: 776ms\n",
      "269:\tlearn: 0.1965317\ttotal: 286ms\tremaining: 775ms\n",
      "270:\tlearn: 0.1963744\ttotal: 287ms\tremaining: 773ms\n",
      "271:\tlearn: 0.1956453\ttotal: 288ms\tremaining: 771ms\n",
      "272:\tlearn: 0.1953127\ttotal: 289ms\tremaining: 770ms\n",
      "273:\tlearn: 0.1948420\ttotal: 290ms\tremaining: 768ms\n",
      "274:\tlearn: 0.1941391\ttotal: 291ms\tremaining: 766ms\n",
      "275:\tlearn: 0.1936479\ttotal: 291ms\tremaining: 765ms\n",
      "276:\tlearn: 0.1933298\ttotal: 292ms\tremaining: 763ms\n",
      "277:\tlearn: 0.1930515\ttotal: 293ms\tremaining: 761ms\n"
     ]
    },
    {
     "name": "stdout",
     "output_type": "stream",
     "text": [
      "278:\tlearn: 0.1924958\ttotal: 295ms\tremaining: 761ms\n",
      "279:\tlearn: 0.1920824\ttotal: 296ms\tremaining: 760ms\n",
      "280:\tlearn: 0.1918161\ttotal: 296ms\tremaining: 758ms\n",
      "281:\tlearn: 0.1914107\ttotal: 297ms\tremaining: 757ms\n",
      "282:\tlearn: 0.1912559\ttotal: 298ms\tremaining: 755ms\n",
      "283:\tlearn: 0.1907253\ttotal: 299ms\tremaining: 754ms\n",
      "284:\tlearn: 0.1903574\ttotal: 300ms\tremaining: 752ms\n",
      "285:\tlearn: 0.1900305\ttotal: 301ms\tremaining: 750ms\n",
      "286:\tlearn: 0.1894734\ttotal: 301ms\tremaining: 749ms\n",
      "287:\tlearn: 0.1889168\ttotal: 302ms\tremaining: 748ms\n",
      "288:\tlearn: 0.1887595\ttotal: 303ms\tremaining: 746ms\n",
      "289:\tlearn: 0.1883352\ttotal: 304ms\tremaining: 745ms\n",
      "290:\tlearn: 0.1876460\ttotal: 305ms\tremaining: 743ms\n",
      "291:\tlearn: 0.1874052\ttotal: 306ms\tremaining: 742ms\n",
      "292:\tlearn: 0.1872729\ttotal: 307ms\tremaining: 740ms\n",
      "293:\tlearn: 0.1869072\ttotal: 307ms\tremaining: 738ms\n",
      "294:\tlearn: 0.1862882\ttotal: 308ms\tremaining: 737ms\n",
      "295:\tlearn: 0.1859080\ttotal: 309ms\tremaining: 735ms\n",
      "296:\tlearn: 0.1858335\ttotal: 310ms\tremaining: 734ms\n",
      "297:\tlearn: 0.1856463\ttotal: 311ms\tremaining: 732ms\n",
      "298:\tlearn: 0.1855635\ttotal: 311ms\tremaining: 730ms\n",
      "299:\tlearn: 0.1851360\ttotal: 313ms\tremaining: 730ms\n",
      "300:\tlearn: 0.1847652\ttotal: 314ms\tremaining: 728ms\n",
      "301:\tlearn: 0.1845285\ttotal: 314ms\tremaining: 727ms\n",
      "302:\tlearn: 0.1844506\ttotal: 315ms\tremaining: 725ms\n",
      "303:\tlearn: 0.1839577\ttotal: 316ms\tremaining: 724ms\n",
      "304:\tlearn: 0.1835408\ttotal: 317ms\tremaining: 723ms\n",
      "305:\tlearn: 0.1828735\ttotal: 318ms\tremaining: 721ms\n",
      "306:\tlearn: 0.1823371\ttotal: 319ms\tremaining: 720ms\n",
      "307:\tlearn: 0.1819061\ttotal: 320ms\tremaining: 718ms\n",
      "308:\tlearn: 0.1815340\ttotal: 321ms\tremaining: 717ms\n",
      "309:\tlearn: 0.1811812\ttotal: 321ms\tremaining: 715ms\n",
      "310:\tlearn: 0.1808397\ttotal: 322ms\tremaining: 714ms\n",
      "311:\tlearn: 0.1807681\ttotal: 323ms\tremaining: 712ms\n",
      "312:\tlearn: 0.1803761\ttotal: 324ms\tremaining: 711ms\n",
      "313:\tlearn: 0.1800682\ttotal: 325ms\tremaining: 709ms\n",
      "314:\tlearn: 0.1798558\ttotal: 325ms\tremaining: 708ms\n",
      "315:\tlearn: 0.1794425\ttotal: 326ms\tremaining: 706ms\n",
      "316:\tlearn: 0.1788038\ttotal: 327ms\tremaining: 705ms\n",
      "317:\tlearn: 0.1783448\ttotal: 328ms\tremaining: 703ms\n",
      "318:\tlearn: 0.1777867\ttotal: 329ms\tremaining: 701ms\n",
      "319:\tlearn: 0.1775419\ttotal: 329ms\tremaining: 700ms\n",
      "320:\tlearn: 0.1774811\ttotal: 330ms\tremaining: 698ms\n",
      "321:\tlearn: 0.1769053\ttotal: 331ms\tremaining: 697ms\n",
      "322:\tlearn: 0.1763277\ttotal: 332ms\tremaining: 695ms\n",
      "323:\tlearn: 0.1762273\ttotal: 333ms\tremaining: 694ms\n",
      "324:\tlearn: 0.1760922\ttotal: 333ms\tremaining: 692ms\n",
      "325:\tlearn: 0.1755439\ttotal: 334ms\tremaining: 691ms\n",
      "326:\tlearn: 0.1750852\ttotal: 335ms\tremaining: 690ms\n",
      "327:\tlearn: 0.1749696\ttotal: 336ms\tremaining: 688ms\n",
      "328:\tlearn: 0.1746574\ttotal: 337ms\tremaining: 686ms\n",
      "329:\tlearn: 0.1745952\ttotal: 337ms\tremaining: 685ms\n",
      "330:\tlearn: 0.1743289\ttotal: 338ms\tremaining: 684ms\n",
      "331:\tlearn: 0.1740523\ttotal: 339ms\tremaining: 682ms\n",
      "332:\tlearn: 0.1736960\ttotal: 340ms\tremaining: 681ms\n",
      "333:\tlearn: 0.1731525\ttotal: 341ms\tremaining: 679ms\n",
      "334:\tlearn: 0.1730343\ttotal: 341ms\tremaining: 677ms\n",
      "335:\tlearn: 0.1726157\ttotal: 342ms\tremaining: 676ms\n",
      "336:\tlearn: 0.1724059\ttotal: 343ms\tremaining: 675ms\n",
      "337:\tlearn: 0.1719132\ttotal: 344ms\tremaining: 673ms\n",
      "338:\tlearn: 0.1716397\ttotal: 345ms\tremaining: 672ms\n",
      "339:\tlearn: 0.1711635\ttotal: 345ms\tremaining: 670ms\n",
      "340:\tlearn: 0.1706236\ttotal: 347ms\tremaining: 670ms\n",
      "341:\tlearn: 0.1700878\ttotal: 348ms\tremaining: 669ms\n",
      "342:\tlearn: 0.1698016\ttotal: 348ms\tremaining: 667ms\n",
      "343:\tlearn: 0.1693953\ttotal: 349ms\tremaining: 666ms\n",
      "344:\tlearn: 0.1690314\ttotal: 350ms\tremaining: 664ms\n",
      "345:\tlearn: 0.1686727\ttotal: 351ms\tremaining: 663ms\n",
      "346:\tlearn: 0.1682892\ttotal: 351ms\tremaining: 661ms\n",
      "347:\tlearn: 0.1678506\ttotal: 352ms\tremaining: 660ms\n",
      "348:\tlearn: 0.1673877\ttotal: 353ms\tremaining: 659ms\n",
      "349:\tlearn: 0.1668793\ttotal: 355ms\tremaining: 659ms\n",
      "350:\tlearn: 0.1666433\ttotal: 355ms\tremaining: 657ms\n",
      "351:\tlearn: 0.1663338\ttotal: 357ms\tremaining: 657ms\n",
      "352:\tlearn: 0.1659955\ttotal: 359ms\tremaining: 658ms\n",
      "353:\tlearn: 0.1659258\ttotal: 362ms\tremaining: 661ms\n",
      "354:\tlearn: 0.1655306\ttotal: 364ms\tremaining: 661ms\n",
      "355:\tlearn: 0.1650196\ttotal: 365ms\tremaining: 660ms\n",
      "356:\tlearn: 0.1646626\ttotal: 366ms\tremaining: 659ms\n",
      "357:\tlearn: 0.1642578\ttotal: 368ms\tremaining: 660ms\n",
      "358:\tlearn: 0.1640048\ttotal: 370ms\tremaining: 661ms\n",
      "359:\tlearn: 0.1637909\ttotal: 371ms\tremaining: 659ms\n",
      "360:\tlearn: 0.1635642\ttotal: 371ms\tremaining: 658ms\n",
      "361:\tlearn: 0.1633053\ttotal: 372ms\tremaining: 656ms\n",
      "362:\tlearn: 0.1628469\ttotal: 373ms\tremaining: 654ms\n",
      "363:\tlearn: 0.1625989\ttotal: 373ms\tremaining: 653ms\n",
      "364:\tlearn: 0.1622897\ttotal: 374ms\tremaining: 651ms\n",
      "365:\tlearn: 0.1621528\ttotal: 375ms\tremaining: 649ms\n"
     ]
    },
    {
     "name": "stdout",
     "output_type": "stream",
     "text": [
      "366:\tlearn: 0.1618786\ttotal: 376ms\tremaining: 648ms\n",
      "367:\tlearn: 0.1616523\ttotal: 377ms\tremaining: 647ms\n",
      "368:\tlearn: 0.1612819\ttotal: 377ms\tremaining: 646ms\n",
      "369:\tlearn: 0.1608017\ttotal: 378ms\tremaining: 644ms\n",
      "370:\tlearn: 0.1605220\ttotal: 379ms\tremaining: 643ms\n",
      "371:\tlearn: 0.1600964\ttotal: 380ms\tremaining: 642ms\n",
      "372:\tlearn: 0.1596932\ttotal: 381ms\tremaining: 640ms\n",
      "373:\tlearn: 0.1596382\ttotal: 382ms\tremaining: 639ms\n",
      "374:\tlearn: 0.1592701\ttotal: 382ms\tremaining: 637ms\n",
      "375:\tlearn: 0.1590785\ttotal: 383ms\tremaining: 636ms\n",
      "376:\tlearn: 0.1587275\ttotal: 384ms\tremaining: 635ms\n",
      "377:\tlearn: 0.1584222\ttotal: 385ms\tremaining: 634ms\n",
      "378:\tlearn: 0.1580886\ttotal: 386ms\tremaining: 632ms\n",
      "379:\tlearn: 0.1577901\ttotal: 387ms\tremaining: 631ms\n",
      "380:\tlearn: 0.1573922\ttotal: 387ms\tremaining: 629ms\n",
      "381:\tlearn: 0.1570803\ttotal: 388ms\tremaining: 628ms\n",
      "382:\tlearn: 0.1567718\ttotal: 389ms\tremaining: 626ms\n",
      "383:\tlearn: 0.1564939\ttotal: 389ms\tremaining: 624ms\n",
      "384:\tlearn: 0.1562914\ttotal: 390ms\tremaining: 623ms\n",
      "385:\tlearn: 0.1560200\ttotal: 391ms\tremaining: 621ms\n",
      "386:\tlearn: 0.1558655\ttotal: 391ms\tremaining: 620ms\n",
      "387:\tlearn: 0.1554399\ttotal: 392ms\tremaining: 618ms\n",
      "388:\tlearn: 0.1552167\ttotal: 393ms\tremaining: 617ms\n",
      "389:\tlearn: 0.1549549\ttotal: 393ms\tremaining: 615ms\n",
      "390:\tlearn: 0.1546756\ttotal: 394ms\tremaining: 614ms\n",
      "391:\tlearn: 0.1543648\ttotal: 395ms\tremaining: 612ms\n",
      "392:\tlearn: 0.1539151\ttotal: 395ms\tremaining: 611ms\n",
      "393:\tlearn: 0.1533313\ttotal: 396ms\tremaining: 609ms\n",
      "394:\tlearn: 0.1529355\ttotal: 397ms\tremaining: 608ms\n",
      "395:\tlearn: 0.1527429\ttotal: 397ms\tremaining: 606ms\n",
      "396:\tlearn: 0.1522775\ttotal: 398ms\tremaining: 605ms\n",
      "397:\tlearn: 0.1519387\ttotal: 400ms\tremaining: 605ms\n",
      "398:\tlearn: 0.1516872\ttotal: 400ms\tremaining: 603ms\n",
      "399:\tlearn: 0.1514264\ttotal: 401ms\tremaining: 602ms\n",
      "400:\tlearn: 0.1511649\ttotal: 402ms\tremaining: 600ms\n",
      "401:\tlearn: 0.1509563\ttotal: 402ms\tremaining: 599ms\n",
      "402:\tlearn: 0.1506351\ttotal: 403ms\tremaining: 597ms\n",
      "403:\tlearn: 0.1504072\ttotal: 404ms\tremaining: 596ms\n",
      "404:\tlearn: 0.1500871\ttotal: 404ms\tremaining: 594ms\n",
      "405:\tlearn: 0.1497441\ttotal: 405ms\tremaining: 593ms\n",
      "406:\tlearn: 0.1494726\ttotal: 406ms\tremaining: 592ms\n",
      "407:\tlearn: 0.1490777\ttotal: 407ms\tremaining: 590ms\n",
      "408:\tlearn: 0.1488151\ttotal: 407ms\tremaining: 589ms\n",
      "409:\tlearn: 0.1484601\ttotal: 408ms\tremaining: 587ms\n",
      "410:\tlearn: 0.1482492\ttotal: 409ms\tremaining: 586ms\n",
      "411:\tlearn: 0.1478928\ttotal: 409ms\tremaining: 584ms\n",
      "412:\tlearn: 0.1476403\ttotal: 410ms\tremaining: 583ms\n",
      "413:\tlearn: 0.1472650\ttotal: 411ms\tremaining: 581ms\n",
      "414:\tlearn: 0.1470301\ttotal: 411ms\tremaining: 580ms\n",
      "415:\tlearn: 0.1468792\ttotal: 412ms\tremaining: 579ms\n",
      "416:\tlearn: 0.1466466\ttotal: 413ms\tremaining: 577ms\n",
      "417:\tlearn: 0.1462366\ttotal: 413ms\tremaining: 576ms\n",
      "418:\tlearn: 0.1460263\ttotal: 414ms\tremaining: 574ms\n",
      "419:\tlearn: 0.1458071\ttotal: 415ms\tremaining: 573ms\n",
      "420:\tlearn: 0.1455357\ttotal: 416ms\tremaining: 572ms\n",
      "421:\tlearn: 0.1454397\ttotal: 417ms\tremaining: 571ms\n",
      "422:\tlearn: 0.1450096\ttotal: 417ms\tremaining: 569ms\n",
      "423:\tlearn: 0.1447379\ttotal: 418ms\tremaining: 568ms\n",
      "424:\tlearn: 0.1444789\ttotal: 419ms\tremaining: 567ms\n",
      "425:\tlearn: 0.1440693\ttotal: 419ms\tremaining: 565ms\n",
      "426:\tlearn: 0.1439524\ttotal: 420ms\tremaining: 564ms\n",
      "427:\tlearn: 0.1436004\ttotal: 421ms\tremaining: 562ms\n",
      "428:\tlearn: 0.1432486\ttotal: 421ms\tremaining: 561ms\n",
      "429:\tlearn: 0.1430723\ttotal: 422ms\tremaining: 560ms\n",
      "430:\tlearn: 0.1428007\ttotal: 423ms\tremaining: 558ms\n",
      "431:\tlearn: 0.1422971\ttotal: 424ms\tremaining: 557ms\n",
      "432:\tlearn: 0.1419514\ttotal: 424ms\tremaining: 556ms\n",
      "433:\tlearn: 0.1417034\ttotal: 425ms\tremaining: 555ms\n",
      "434:\tlearn: 0.1415433\ttotal: 426ms\tremaining: 554ms\n",
      "435:\tlearn: 0.1413058\ttotal: 427ms\tremaining: 553ms\n",
      "436:\tlearn: 0.1411085\ttotal: 428ms\tremaining: 551ms\n",
      "437:\tlearn: 0.1410104\ttotal: 429ms\tremaining: 550ms\n",
      "438:\tlearn: 0.1409747\ttotal: 429ms\tremaining: 549ms\n",
      "439:\tlearn: 0.1407261\ttotal: 430ms\tremaining: 547ms\n",
      "440:\tlearn: 0.1403969\ttotal: 431ms\tremaining: 546ms\n",
      "441:\tlearn: 0.1400803\ttotal: 432ms\tremaining: 545ms\n",
      "442:\tlearn: 0.1398375\ttotal: 432ms\tremaining: 544ms\n",
      "443:\tlearn: 0.1397672\ttotal: 433ms\tremaining: 542ms\n",
      "444:\tlearn: 0.1392873\ttotal: 434ms\tremaining: 541ms\n",
      "445:\tlearn: 0.1392023\ttotal: 434ms\tremaining: 539ms\n",
      "446:\tlearn: 0.1391102\ttotal: 435ms\tremaining: 538ms\n",
      "447:\tlearn: 0.1388281\ttotal: 436ms\tremaining: 538ms\n",
      "448:\tlearn: 0.1385847\ttotal: 437ms\tremaining: 536ms\n",
      "449:\tlearn: 0.1384868\ttotal: 438ms\tremaining: 535ms\n",
      "450:\tlearn: 0.1381110\ttotal: 438ms\tremaining: 533ms\n",
      "451:\tlearn: 0.1379078\ttotal: 440ms\tremaining: 533ms\n",
      "452:\tlearn: 0.1376426\ttotal: 441ms\tremaining: 532ms\n",
      "453:\tlearn: 0.1374666\ttotal: 441ms\tremaining: 531ms\n",
      "454:\tlearn: 0.1370266\ttotal: 442ms\tremaining: 530ms\n",
      "455:\tlearn: 0.1367974\ttotal: 443ms\tremaining: 529ms\n",
      "456:\tlearn: 0.1365196\ttotal: 444ms\tremaining: 527ms\n",
      "457:\tlearn: 0.1361026\ttotal: 445ms\tremaining: 526ms\n",
      "458:\tlearn: 0.1358109\ttotal: 446ms\tremaining: 525ms\n",
      "459:\tlearn: 0.1357097\ttotal: 446ms\tremaining: 524ms\n",
      "460:\tlearn: 0.1355994\ttotal: 447ms\tremaining: 523ms\n",
      "461:\tlearn: 0.1353464\ttotal: 448ms\tremaining: 522ms\n",
      "462:\tlearn: 0.1352332\ttotal: 449ms\tremaining: 521ms\n",
      "463:\tlearn: 0.1348980\ttotal: 450ms\tremaining: 520ms\n",
      "464:\tlearn: 0.1346690\ttotal: 451ms\tremaining: 519ms\n",
      "465:\tlearn: 0.1345745\ttotal: 452ms\tremaining: 518ms\n",
      "466:\tlearn: 0.1342447\ttotal: 453ms\tremaining: 517ms\n",
      "467:\tlearn: 0.1339535\ttotal: 454ms\tremaining: 516ms\n",
      "468:\tlearn: 0.1336355\ttotal: 455ms\tremaining: 515ms\n",
      "469:\tlearn: 0.1332123\ttotal: 456ms\tremaining: 514ms\n",
      "470:\tlearn: 0.1328707\ttotal: 456ms\tremaining: 513ms\n",
      "471:\tlearn: 0.1327241\ttotal: 457ms\tremaining: 512ms\n",
      "472:\tlearn: 0.1324834\ttotal: 459ms\tremaining: 511ms\n",
      "473:\tlearn: 0.1321353\ttotal: 460ms\tremaining: 510ms\n",
      "474:\tlearn: 0.1317669\ttotal: 461ms\tremaining: 509ms\n",
      "475:\tlearn: 0.1316736\ttotal: 461ms\tremaining: 508ms\n",
      "476:\tlearn: 0.1313123\ttotal: 463ms\tremaining: 507ms\n",
      "477:\tlearn: 0.1311593\ttotal: 464ms\tremaining: 506ms\n",
      "478:\tlearn: 0.1308460\ttotal: 465ms\tremaining: 505ms\n",
      "479:\tlearn: 0.1308182\ttotal: 466ms\tremaining: 505ms\n",
      "480:\tlearn: 0.1305210\ttotal: 467ms\tremaining: 503ms\n",
      "481:\tlearn: 0.1303283\ttotal: 467ms\tremaining: 502ms\n",
      "482:\tlearn: 0.1301640\ttotal: 468ms\tremaining: 501ms\n",
      "483:\tlearn: 0.1300815\ttotal: 469ms\tremaining: 500ms\n",
      "484:\tlearn: 0.1297687\ttotal: 470ms\tremaining: 499ms\n",
      "485:\tlearn: 0.1295635\ttotal: 471ms\tremaining: 498ms\n",
      "486:\tlearn: 0.1294680\ttotal: 472ms\tremaining: 497ms\n",
      "487:\tlearn: 0.1293697\ttotal: 473ms\tremaining: 496ms\n",
      "488:\tlearn: 0.1291541\ttotal: 474ms\tremaining: 495ms\n",
      "489:\tlearn: 0.1288716\ttotal: 475ms\tremaining: 494ms\n",
      "490:\tlearn: 0.1286621\ttotal: 476ms\tremaining: 493ms\n",
      "491:\tlearn: 0.1286328\ttotal: 477ms\tremaining: 492ms\n",
      "492:\tlearn: 0.1285452\ttotal: 478ms\tremaining: 491ms\n",
      "493:\tlearn: 0.1281333\ttotal: 479ms\tremaining: 490ms\n"
     ]
    },
    {
     "name": "stdout",
     "output_type": "stream",
     "text": [
      "494:\tlearn: 0.1278482\ttotal: 480ms\tremaining: 489ms\n",
      "495:\tlearn: 0.1274796\ttotal: 481ms\tremaining: 488ms\n",
      "496:\tlearn: 0.1273912\ttotal: 481ms\tremaining: 487ms\n",
      "497:\tlearn: 0.1270496\ttotal: 482ms\tremaining: 486ms\n",
      "498:\tlearn: 0.1268447\ttotal: 483ms\tremaining: 485ms\n",
      "499:\tlearn: 0.1265433\ttotal: 484ms\tremaining: 484ms\n",
      "500:\tlearn: 0.1263543\ttotal: 485ms\tremaining: 483ms\n",
      "501:\tlearn: 0.1261309\ttotal: 486ms\tremaining: 482ms\n",
      "502:\tlearn: 0.1260141\ttotal: 487ms\tremaining: 481ms\n",
      "503:\tlearn: 0.1258557\ttotal: 487ms\tremaining: 480ms\n",
      "504:\tlearn: 0.1257874\ttotal: 488ms\tremaining: 479ms\n",
      "505:\tlearn: 0.1257615\ttotal: 489ms\tremaining: 477ms\n",
      "506:\tlearn: 0.1255937\ttotal: 490ms\tremaining: 476ms\n",
      "507:\tlearn: 0.1253377\ttotal: 491ms\tremaining: 475ms\n",
      "508:\tlearn: 0.1251140\ttotal: 492ms\tremaining: 474ms\n",
      "509:\tlearn: 0.1250110\ttotal: 493ms\tremaining: 473ms\n",
      "510:\tlearn: 0.1247513\ttotal: 494ms\tremaining: 472ms\n",
      "511:\tlearn: 0.1246110\ttotal: 495ms\tremaining: 472ms\n",
      "512:\tlearn: 0.1244157\ttotal: 496ms\tremaining: 471ms\n",
      "513:\tlearn: 0.1242509\ttotal: 497ms\tremaining: 470ms\n",
      "514:\tlearn: 0.1240452\ttotal: 498ms\tremaining: 469ms\n",
      "515:\tlearn: 0.1239737\ttotal: 499ms\tremaining: 468ms\n",
      "516:\tlearn: 0.1237868\ttotal: 499ms\tremaining: 467ms\n",
      "517:\tlearn: 0.1235053\ttotal: 500ms\tremaining: 465ms\n",
      "518:\tlearn: 0.1233299\ttotal: 501ms\tremaining: 464ms\n",
      "519:\tlearn: 0.1232051\ttotal: 502ms\tremaining: 463ms\n",
      "520:\tlearn: 0.1230642\ttotal: 503ms\tremaining: 462ms\n",
      "521:\tlearn: 0.1228905\ttotal: 504ms\tremaining: 461ms\n",
      "522:\tlearn: 0.1228614\ttotal: 504ms\tremaining: 460ms\n",
      "523:\tlearn: 0.1226649\ttotal: 505ms\tremaining: 459ms\n",
      "524:\tlearn: 0.1224771\ttotal: 506ms\tremaining: 458ms\n",
      "525:\tlearn: 0.1221465\ttotal: 507ms\tremaining: 457ms\n",
      "526:\tlearn: 0.1220063\ttotal: 508ms\tremaining: 456ms\n",
      "527:\tlearn: 0.1219351\ttotal: 509ms\tremaining: 455ms\n",
      "528:\tlearn: 0.1216109\ttotal: 510ms\tremaining: 454ms\n",
      "529:\tlearn: 0.1215032\ttotal: 510ms\tremaining: 453ms\n",
      "530:\tlearn: 0.1212693\ttotal: 511ms\tremaining: 452ms\n",
      "531:\tlearn: 0.1211130\ttotal: 512ms\tremaining: 450ms\n",
      "532:\tlearn: 0.1208506\ttotal: 513ms\tremaining: 449ms\n",
      "533:\tlearn: 0.1208253\ttotal: 514ms\tremaining: 449ms\n",
      "534:\tlearn: 0.1205513\ttotal: 515ms\tremaining: 448ms\n",
      "535:\tlearn: 0.1202557\ttotal: 516ms\tremaining: 447ms\n",
      "536:\tlearn: 0.1199828\ttotal: 517ms\tremaining: 446ms\n",
      "537:\tlearn: 0.1196756\ttotal: 518ms\tremaining: 444ms\n",
      "538:\tlearn: 0.1194293\ttotal: 518ms\tremaining: 443ms\n",
      "539:\tlearn: 0.1190980\ttotal: 519ms\tremaining: 442ms\n",
      "540:\tlearn: 0.1188544\ttotal: 520ms\tremaining: 441ms\n",
      "541:\tlearn: 0.1186379\ttotal: 521ms\tremaining: 440ms\n",
      "542:\tlearn: 0.1183424\ttotal: 522ms\tremaining: 439ms\n",
      "543:\tlearn: 0.1180563\ttotal: 522ms\tremaining: 438ms\n",
      "544:\tlearn: 0.1180337\ttotal: 523ms\tremaining: 437ms\n",
      "545:\tlearn: 0.1178699\ttotal: 524ms\tremaining: 436ms\n",
      "546:\tlearn: 0.1177958\ttotal: 525ms\tremaining: 435ms\n",
      "547:\tlearn: 0.1177334\ttotal: 526ms\tremaining: 434ms\n",
      "548:\tlearn: 0.1174642\ttotal: 527ms\tremaining: 433ms\n",
      "549:\tlearn: 0.1173919\ttotal: 528ms\tremaining: 432ms\n",
      "550:\tlearn: 0.1170778\ttotal: 529ms\tremaining: 431ms\n",
      "551:\tlearn: 0.1168090\ttotal: 529ms\tremaining: 430ms\n",
      "552:\tlearn: 0.1165869\ttotal: 530ms\tremaining: 429ms\n",
      "553:\tlearn: 0.1163806\ttotal: 531ms\tremaining: 427ms\n",
      "554:\tlearn: 0.1163005\ttotal: 532ms\tremaining: 426ms\n",
      "555:\tlearn: 0.1161473\ttotal: 533ms\tremaining: 425ms\n",
      "556:\tlearn: 0.1159314\ttotal: 534ms\tremaining: 424ms\n",
      "557:\tlearn: 0.1159115\ttotal: 534ms\tremaining: 423ms\n",
      "558:\tlearn: 0.1158399\ttotal: 535ms\tremaining: 422ms\n",
      "559:\tlearn: 0.1156222\ttotal: 536ms\tremaining: 421ms\n",
      "560:\tlearn: 0.1155085\ttotal: 537ms\tremaining: 420ms\n",
      "561:\tlearn: 0.1153810\ttotal: 538ms\tremaining: 419ms\n",
      "562:\tlearn: 0.1151768\ttotal: 538ms\tremaining: 418ms\n",
      "563:\tlearn: 0.1150936\ttotal: 539ms\tremaining: 417ms\n",
      "564:\tlearn: 0.1148380\ttotal: 540ms\tremaining: 416ms\n",
      "565:\tlearn: 0.1145618\ttotal: 541ms\tremaining: 415ms\n",
      "566:\tlearn: 0.1143908\ttotal: 542ms\tremaining: 414ms\n",
      "567:\tlearn: 0.1142414\ttotal: 543ms\tremaining: 413ms\n",
      "568:\tlearn: 0.1140364\ttotal: 544ms\tremaining: 412ms\n",
      "569:\tlearn: 0.1139181\ttotal: 544ms\tremaining: 411ms\n",
      "570:\tlearn: 0.1138976\ttotal: 545ms\tremaining: 410ms\n",
      "571:\tlearn: 0.1137439\ttotal: 546ms\tremaining: 409ms\n",
      "572:\tlearn: 0.1137273\ttotal: 547ms\tremaining: 407ms\n",
      "573:\tlearn: 0.1136095\ttotal: 548ms\tremaining: 406ms\n",
      "574:\tlearn: 0.1133838\ttotal: 549ms\tremaining: 405ms\n",
      "575:\tlearn: 0.1132853\ttotal: 549ms\tremaining: 404ms\n",
      "576:\tlearn: 0.1130852\ttotal: 550ms\tremaining: 403ms\n",
      "577:\tlearn: 0.1128408\ttotal: 551ms\tremaining: 402ms\n",
      "578:\tlearn: 0.1125301\ttotal: 552ms\tremaining: 401ms\n",
      "579:\tlearn: 0.1122512\ttotal: 553ms\tremaining: 400ms\n",
      "580:\tlearn: 0.1121684\ttotal: 554ms\tremaining: 399ms\n",
      "581:\tlearn: 0.1119370\ttotal: 554ms\tremaining: 398ms\n",
      "582:\tlearn: 0.1117063\ttotal: 555ms\tremaining: 397ms\n",
      "583:\tlearn: 0.1114673\ttotal: 556ms\tremaining: 396ms\n",
      "584:\tlearn: 0.1112470\ttotal: 557ms\tremaining: 395ms\n",
      "585:\tlearn: 0.1109973\ttotal: 558ms\tremaining: 394ms\n",
      "586:\tlearn: 0.1107383\ttotal: 559ms\tremaining: 393ms\n",
      "587:\tlearn: 0.1105443\ttotal: 560ms\tremaining: 392ms\n",
      "588:\tlearn: 0.1105233\ttotal: 561ms\tremaining: 391ms\n",
      "589:\tlearn: 0.1103413\ttotal: 561ms\tremaining: 390ms\n",
      "590:\tlearn: 0.1101325\ttotal: 562ms\tremaining: 389ms\n",
      "591:\tlearn: 0.1101121\ttotal: 563ms\tremaining: 388ms\n",
      "592:\tlearn: 0.1098594\ttotal: 564ms\tremaining: 387ms\n"
     ]
    },
    {
     "name": "stdout",
     "output_type": "stream",
     "text": [
      "593:\tlearn: 0.1098038\ttotal: 565ms\tremaining: 386ms\n",
      "594:\tlearn: 0.1096471\ttotal: 566ms\tremaining: 385ms\n",
      "595:\tlearn: 0.1096299\ttotal: 567ms\tremaining: 384ms\n",
      "596:\tlearn: 0.1093753\ttotal: 568ms\tremaining: 383ms\n",
      "597:\tlearn: 0.1091635\ttotal: 569ms\tremaining: 382ms\n",
      "598:\tlearn: 0.1089953\ttotal: 569ms\tremaining: 381ms\n",
      "599:\tlearn: 0.1088784\ttotal: 570ms\tremaining: 380ms\n",
      "600:\tlearn: 0.1085838\ttotal: 571ms\tremaining: 379ms\n",
      "601:\tlearn: 0.1083797\ttotal: 572ms\tremaining: 378ms\n",
      "602:\tlearn: 0.1081405\ttotal: 573ms\tremaining: 377ms\n",
      "603:\tlearn: 0.1080827\ttotal: 573ms\tremaining: 376ms\n",
      "604:\tlearn: 0.1079801\ttotal: 574ms\tremaining: 375ms\n",
      "605:\tlearn: 0.1077105\ttotal: 575ms\tremaining: 374ms\n",
      "606:\tlearn: 0.1076281\ttotal: 576ms\tremaining: 373ms\n",
      "607:\tlearn: 0.1073642\ttotal: 577ms\tremaining: 372ms\n",
      "608:\tlearn: 0.1071919\ttotal: 578ms\tremaining: 371ms\n",
      "609:\tlearn: 0.1069217\ttotal: 579ms\tremaining: 370ms\n",
      "610:\tlearn: 0.1068337\ttotal: 580ms\tremaining: 369ms\n",
      "611:\tlearn: 0.1066629\ttotal: 580ms\tremaining: 368ms\n",
      "612:\tlearn: 0.1065148\ttotal: 581ms\tremaining: 367ms\n",
      "613:\tlearn: 0.1062665\ttotal: 582ms\tremaining: 366ms\n",
      "614:\tlearn: 0.1060109\ttotal: 583ms\tremaining: 365ms\n",
      "615:\tlearn: 0.1058542\ttotal: 584ms\tremaining: 364ms\n",
      "616:\tlearn: 0.1056456\ttotal: 585ms\tremaining: 363ms\n",
      "617:\tlearn: 0.1054641\ttotal: 586ms\tremaining: 362ms\n",
      "618:\tlearn: 0.1052396\ttotal: 587ms\tremaining: 361ms\n",
      "619:\tlearn: 0.1050311\ttotal: 588ms\tremaining: 360ms\n",
      "620:\tlearn: 0.1047356\ttotal: 589ms\tremaining: 359ms\n",
      "621:\tlearn: 0.1047121\ttotal: 589ms\tremaining: 358ms\n",
      "622:\tlearn: 0.1044763\ttotal: 590ms\tremaining: 357ms\n",
      "623:\tlearn: 0.1043519\ttotal: 591ms\tremaining: 356ms\n",
      "624:\tlearn: 0.1042421\ttotal: 592ms\tremaining: 355ms\n",
      "625:\tlearn: 0.1040304\ttotal: 593ms\tremaining: 354ms\n",
      "626:\tlearn: 0.1039164\ttotal: 594ms\tremaining: 353ms\n",
      "627:\tlearn: 0.1037725\ttotal: 595ms\tremaining: 352ms\n",
      "628:\tlearn: 0.1035578\ttotal: 595ms\tremaining: 351ms\n",
      "629:\tlearn: 0.1033391\ttotal: 596ms\tremaining: 350ms\n",
      "630:\tlearn: 0.1030870\ttotal: 597ms\tremaining: 349ms\n",
      "631:\tlearn: 0.1029016\ttotal: 598ms\tremaining: 348ms\n",
      "632:\tlearn: 0.1027063\ttotal: 599ms\tremaining: 347ms\n",
      "633:\tlearn: 0.1025753\ttotal: 600ms\tremaining: 346ms\n",
      "634:\tlearn: 0.1024439\ttotal: 600ms\tremaining: 345ms\n",
      "635:\tlearn: 0.1022229\ttotal: 601ms\tremaining: 344ms\n",
      "636:\tlearn: 0.1021325\ttotal: 602ms\tremaining: 343ms\n",
      "637:\tlearn: 0.1021044\ttotal: 603ms\tremaining: 342ms\n",
      "638:\tlearn: 0.1020035\ttotal: 604ms\tremaining: 341ms\n",
      "639:\tlearn: 0.1018272\ttotal: 604ms\tremaining: 340ms\n",
      "640:\tlearn: 0.1015569\ttotal: 605ms\tremaining: 339ms\n",
      "641:\tlearn: 0.1013298\ttotal: 606ms\tremaining: 338ms\n",
      "642:\tlearn: 0.1013137\ttotal: 607ms\tremaining: 337ms\n",
      "643:\tlearn: 0.1010927\ttotal: 608ms\tremaining: 336ms\n",
      "644:\tlearn: 0.1009069\ttotal: 609ms\tremaining: 335ms\n",
      "645:\tlearn: 0.1007004\ttotal: 610ms\tremaining: 334ms\n",
      "646:\tlearn: 0.1004617\ttotal: 611ms\tremaining: 333ms\n",
      "647:\tlearn: 0.1004341\ttotal: 611ms\tremaining: 332ms\n",
      "648:\tlearn: 0.1001831\ttotal: 612ms\tremaining: 331ms\n",
      "649:\tlearn: 0.1000390\ttotal: 613ms\tremaining: 330ms\n",
      "650:\tlearn: 0.0999589\ttotal: 614ms\tremaining: 329ms\n",
      "651:\tlearn: 0.0997220\ttotal: 614ms\tremaining: 328ms\n",
      "652:\tlearn: 0.0996397\ttotal: 615ms\tremaining: 327ms\n",
      "653:\tlearn: 0.0994620\ttotal: 616ms\tremaining: 326ms\n",
      "654:\tlearn: 0.0992666\ttotal: 617ms\tremaining: 325ms\n",
      "655:\tlearn: 0.0990334\ttotal: 617ms\tremaining: 324ms\n",
      "656:\tlearn: 0.0987656\ttotal: 618ms\tremaining: 323ms\n",
      "657:\tlearn: 0.0985295\ttotal: 619ms\tremaining: 322ms\n",
      "658:\tlearn: 0.0983069\ttotal: 619ms\tremaining: 321ms\n",
      "659:\tlearn: 0.0981548\ttotal: 620ms\tremaining: 320ms\n",
      "660:\tlearn: 0.0979546\ttotal: 621ms\tremaining: 318ms\n",
      "661:\tlearn: 0.0977863\ttotal: 622ms\tremaining: 317ms\n",
      "662:\tlearn: 0.0975775\ttotal: 622ms\tremaining: 316ms\n",
      "663:\tlearn: 0.0974458\ttotal: 623ms\tremaining: 315ms\n",
      "664:\tlearn: 0.0972629\ttotal: 624ms\tremaining: 314ms\n",
      "665:\tlearn: 0.0970231\ttotal: 624ms\tremaining: 313ms\n",
      "666:\tlearn: 0.0968321\ttotal: 625ms\tremaining: 312ms\n",
      "667:\tlearn: 0.0966865\ttotal: 626ms\tremaining: 311ms\n",
      "668:\tlearn: 0.0964108\ttotal: 626ms\tremaining: 310ms\n",
      "669:\tlearn: 0.0962405\ttotal: 627ms\tremaining: 309ms\n",
      "670:\tlearn: 0.0961377\ttotal: 628ms\tremaining: 308ms\n",
      "671:\tlearn: 0.0959318\ttotal: 628ms\tremaining: 307ms\n",
      "672:\tlearn: 0.0957386\ttotal: 629ms\tremaining: 306ms\n",
      "673:\tlearn: 0.0955800\ttotal: 630ms\tremaining: 305ms\n",
      "674:\tlearn: 0.0954395\ttotal: 631ms\tremaining: 304ms\n",
      "675:\tlearn: 0.0953499\ttotal: 631ms\tremaining: 303ms\n",
      "676:\tlearn: 0.0951504\ttotal: 632ms\tremaining: 302ms\n",
      "677:\tlearn: 0.0950098\ttotal: 633ms\tremaining: 301ms\n",
      "678:\tlearn: 0.0948807\ttotal: 633ms\tremaining: 299ms\n",
      "679:\tlearn: 0.0946816\ttotal: 634ms\tremaining: 298ms\n",
      "680:\tlearn: 0.0945051\ttotal: 635ms\tremaining: 297ms\n",
      "681:\tlearn: 0.0943282\ttotal: 636ms\tremaining: 296ms\n",
      "682:\tlearn: 0.0943101\ttotal: 636ms\tremaining: 295ms\n",
      "683:\tlearn: 0.0942197\ttotal: 637ms\tremaining: 294ms\n",
      "684:\tlearn: 0.0939798\ttotal: 638ms\tremaining: 293ms\n",
      "685:\tlearn: 0.0939140\ttotal: 639ms\tremaining: 292ms\n",
      "686:\tlearn: 0.0939016\ttotal: 639ms\tremaining: 291ms\n",
      "687:\tlearn: 0.0938890\ttotal: 640ms\tremaining: 290ms\n",
      "688:\tlearn: 0.0937811\ttotal: 641ms\tremaining: 289ms\n",
      "689:\tlearn: 0.0936696\ttotal: 641ms\tremaining: 288ms\n",
      "690:\tlearn: 0.0935870\ttotal: 642ms\tremaining: 287ms\n",
      "691:\tlearn: 0.0934357\ttotal: 643ms\tremaining: 286ms\n",
      "692:\tlearn: 0.0932554\ttotal: 643ms\tremaining: 285ms\n",
      "693:\tlearn: 0.0930610\ttotal: 644ms\tremaining: 284ms\n",
      "694:\tlearn: 0.0928878\ttotal: 645ms\tremaining: 283ms\n",
      "695:\tlearn: 0.0926707\ttotal: 646ms\tremaining: 282ms\n",
      "696:\tlearn: 0.0924602\ttotal: 647ms\tremaining: 281ms\n",
      "697:\tlearn: 0.0922584\ttotal: 648ms\tremaining: 280ms\n",
      "698:\tlearn: 0.0921240\ttotal: 648ms\tremaining: 279ms\n",
      "699:\tlearn: 0.0919831\ttotal: 649ms\tremaining: 278ms\n",
      "700:\tlearn: 0.0919731\ttotal: 650ms\tremaining: 277ms\n",
      "701:\tlearn: 0.0918016\ttotal: 650ms\tremaining: 276ms\n",
      "702:\tlearn: 0.0916045\ttotal: 651ms\tremaining: 275ms\n",
      "703:\tlearn: 0.0914357\ttotal: 652ms\tremaining: 274ms\n",
      "704:\tlearn: 0.0912473\ttotal: 653ms\tremaining: 273ms\n",
      "705:\tlearn: 0.0910773\ttotal: 653ms\tremaining: 272ms\n",
      "706:\tlearn: 0.0908441\ttotal: 654ms\tremaining: 271ms\n",
      "707:\tlearn: 0.0907542\ttotal: 655ms\tremaining: 270ms\n",
      "708:\tlearn: 0.0905317\ttotal: 656ms\tremaining: 269ms\n",
      "709:\tlearn: 0.0902807\ttotal: 656ms\tremaining: 268ms\n",
      "710:\tlearn: 0.0901232\ttotal: 657ms\tremaining: 267ms\n",
      "711:\tlearn: 0.0899334\ttotal: 658ms\tremaining: 266ms\n",
      "712:\tlearn: 0.0899256\ttotal: 658ms\tremaining: 265ms\n",
      "713:\tlearn: 0.0896438\ttotal: 659ms\tremaining: 264ms\n",
      "714:\tlearn: 0.0894995\ttotal: 660ms\tremaining: 263ms\n",
      "715:\tlearn: 0.0893006\ttotal: 661ms\tremaining: 262ms\n",
      "716:\tlearn: 0.0891071\ttotal: 661ms\tremaining: 261ms\n",
      "717:\tlearn: 0.0889722\ttotal: 662ms\tremaining: 260ms\n",
      "718:\tlearn: 0.0889633\ttotal: 663ms\tremaining: 259ms\n",
      "719:\tlearn: 0.0887920\ttotal: 663ms\tremaining: 258ms\n",
      "720:\tlearn: 0.0885562\ttotal: 665ms\tremaining: 257ms\n",
      "721:\tlearn: 0.0884482\ttotal: 666ms\tremaining: 256ms\n",
      "722:\tlearn: 0.0882890\ttotal: 666ms\tremaining: 255ms\n",
      "723:\tlearn: 0.0881448\ttotal: 667ms\tremaining: 254ms\n",
      "724:\tlearn: 0.0880165\ttotal: 668ms\tremaining: 253ms\n"
     ]
    },
    {
     "name": "stdout",
     "output_type": "stream",
     "text": [
      "725:\tlearn: 0.0878160\ttotal: 668ms\tremaining: 252ms\n",
      "726:\tlearn: 0.0876979\ttotal: 669ms\tremaining: 251ms\n",
      "727:\tlearn: 0.0874828\ttotal: 670ms\tremaining: 250ms\n",
      "728:\tlearn: 0.0874462\ttotal: 671ms\tremaining: 249ms\n",
      "729:\tlearn: 0.0874055\ttotal: 671ms\tremaining: 248ms\n",
      "730:\tlearn: 0.0873620\ttotal: 672ms\tremaining: 247ms\n",
      "731:\tlearn: 0.0872177\ttotal: 672ms\tremaining: 246ms\n",
      "732:\tlearn: 0.0871807\ttotal: 673ms\tremaining: 245ms\n",
      "733:\tlearn: 0.0869989\ttotal: 674ms\tremaining: 244ms\n",
      "734:\tlearn: 0.0868169\ttotal: 675ms\tremaining: 243ms\n",
      "735:\tlearn: 0.0867840\ttotal: 675ms\tremaining: 242ms\n",
      "736:\tlearn: 0.0865706\ttotal: 676ms\tremaining: 241ms\n",
      "737:\tlearn: 0.0865265\ttotal: 677ms\tremaining: 240ms\n",
      "738:\tlearn: 0.0865133\ttotal: 677ms\tremaining: 239ms\n",
      "739:\tlearn: 0.0863875\ttotal: 678ms\tremaining: 238ms\n",
      "740:\tlearn: 0.0863086\ttotal: 679ms\tremaining: 237ms\n",
      "741:\tlearn: 0.0861719\ttotal: 680ms\tremaining: 236ms\n",
      "742:\tlearn: 0.0860094\ttotal: 680ms\tremaining: 235ms\n",
      "743:\tlearn: 0.0859970\ttotal: 681ms\tremaining: 234ms\n",
      "744:\tlearn: 0.0858514\ttotal: 682ms\tremaining: 233ms\n",
      "745:\tlearn: 0.0856786\ttotal: 683ms\tremaining: 233ms\n",
      "746:\tlearn: 0.0854735\ttotal: 684ms\tremaining: 232ms\n",
      "747:\tlearn: 0.0853453\ttotal: 685ms\tremaining: 231ms\n",
      "748:\tlearn: 0.0852169\ttotal: 685ms\tremaining: 230ms\n",
      "749:\tlearn: 0.0850632\ttotal: 686ms\tremaining: 229ms\n",
      "750:\tlearn: 0.0850246\ttotal: 687ms\tremaining: 228ms\n",
      "751:\tlearn: 0.0849096\ttotal: 687ms\tremaining: 227ms\n",
      "752:\tlearn: 0.0847365\ttotal: 688ms\tremaining: 226ms\n",
      "753:\tlearn: 0.0846152\ttotal: 689ms\tremaining: 225ms\n",
      "754:\tlearn: 0.0845325\ttotal: 689ms\tremaining: 224ms\n",
      "755:\tlearn: 0.0843835\ttotal: 690ms\tremaining: 223ms\n",
      "756:\tlearn: 0.0842313\ttotal: 691ms\tremaining: 222ms\n",
      "757:\tlearn: 0.0840962\ttotal: 691ms\tremaining: 221ms\n",
      "758:\tlearn: 0.0838832\ttotal: 692ms\tremaining: 220ms\n",
      "759:\tlearn: 0.0837073\ttotal: 693ms\tremaining: 219ms\n",
      "760:\tlearn: 0.0834509\ttotal: 693ms\tremaining: 218ms\n",
      "761:\tlearn: 0.0832686\ttotal: 694ms\tremaining: 217ms\n",
      "762:\tlearn: 0.0831325\ttotal: 695ms\tremaining: 216ms\n",
      "763:\tlearn: 0.0831162\ttotal: 695ms\tremaining: 215ms\n",
      "764:\tlearn: 0.0830358\ttotal: 696ms\tremaining: 214ms\n",
      "765:\tlearn: 0.0829447\ttotal: 697ms\tremaining: 213ms\n",
      "766:\tlearn: 0.0827863\ttotal: 697ms\tremaining: 212ms\n",
      "767:\tlearn: 0.0827737\ttotal: 700ms\tremaining: 211ms\n",
      "768:\tlearn: 0.0825896\ttotal: 701ms\tremaining: 211ms\n",
      "769:\tlearn: 0.0824360\ttotal: 701ms\tremaining: 209ms\n",
      "770:\tlearn: 0.0823639\ttotal: 702ms\tremaining: 208ms\n",
      "771:\tlearn: 0.0822876\ttotal: 703ms\tremaining: 207ms\n",
      "772:\tlearn: 0.0821040\ttotal: 703ms\tremaining: 206ms\n",
      "773:\tlearn: 0.0820001\ttotal: 704ms\tremaining: 205ms\n",
      "774:\tlearn: 0.0817984\ttotal: 704ms\tremaining: 204ms\n",
      "775:\tlearn: 0.0816845\ttotal: 705ms\tremaining: 203ms\n",
      "776:\tlearn: 0.0815239\ttotal: 706ms\tremaining: 202ms\n",
      "777:\tlearn: 0.0814500\ttotal: 706ms\tremaining: 202ms\n",
      "778:\tlearn: 0.0812588\ttotal: 707ms\tremaining: 201ms\n",
      "779:\tlearn: 0.0811073\ttotal: 708ms\tremaining: 200ms\n",
      "780:\tlearn: 0.0809576\ttotal: 709ms\tremaining: 199ms\n",
      "781:\tlearn: 0.0809173\ttotal: 710ms\tremaining: 198ms\n",
      "782:\tlearn: 0.0807924\ttotal: 713ms\tremaining: 198ms\n",
      "783:\tlearn: 0.0806736\ttotal: 714ms\tremaining: 197ms\n",
      "784:\tlearn: 0.0806311\ttotal: 715ms\tremaining: 196ms\n",
      "785:\tlearn: 0.0805074\ttotal: 716ms\tremaining: 195ms\n",
      "786:\tlearn: 0.0803901\ttotal: 717ms\tremaining: 194ms\n",
      "787:\tlearn: 0.0803219\ttotal: 719ms\tremaining: 193ms\n",
      "788:\tlearn: 0.0801894\ttotal: 720ms\tremaining: 193ms\n",
      "789:\tlearn: 0.0800938\ttotal: 721ms\tremaining: 192ms\n",
      "790:\tlearn: 0.0800026\ttotal: 722ms\tremaining: 191ms\n",
      "791:\tlearn: 0.0798101\ttotal: 724ms\tremaining: 190ms\n",
      "792:\tlearn: 0.0797473\ttotal: 724ms\tremaining: 189ms\n",
      "793:\tlearn: 0.0796911\ttotal: 735ms\tremaining: 191ms\n",
      "794:\tlearn: 0.0795484\ttotal: 736ms\tremaining: 190ms\n",
      "795:\tlearn: 0.0794348\ttotal: 738ms\tremaining: 189ms\n",
      "796:\tlearn: 0.0793434\ttotal: 739ms\tremaining: 188ms\n",
      "797:\tlearn: 0.0791511\ttotal: 740ms\tremaining: 187ms\n",
      "798:\tlearn: 0.0790502\ttotal: 741ms\tremaining: 187ms\n",
      "799:\tlearn: 0.0789771\ttotal: 743ms\tremaining: 186ms\n",
      "800:\tlearn: 0.0789677\ttotal: 744ms\tremaining: 185ms\n",
      "801:\tlearn: 0.0787218\ttotal: 745ms\tremaining: 184ms\n",
      "802:\tlearn: 0.0787143\ttotal: 746ms\tremaining: 183ms\n"
     ]
    },
    {
     "name": "stdout",
     "output_type": "stream",
     "text": [
      "803:\tlearn: 0.0785048\ttotal: 757ms\tremaining: 185ms\n",
      "804:\tlearn: 0.0784049\ttotal: 759ms\tremaining: 184ms\n",
      "805:\tlearn: 0.0782268\ttotal: 760ms\tremaining: 183ms\n",
      "806:\tlearn: 0.0780211\ttotal: 761ms\tremaining: 182ms\n",
      "807:\tlearn: 0.0779120\ttotal: 762ms\tremaining: 181ms\n",
      "808:\tlearn: 0.0777435\ttotal: 764ms\tremaining: 180ms\n",
      "809:\tlearn: 0.0777237\ttotal: 765ms\tremaining: 179ms\n",
      "810:\tlearn: 0.0777133\ttotal: 766ms\tremaining: 178ms\n",
      "811:\tlearn: 0.0776009\ttotal: 767ms\tremaining: 177ms\n",
      "812:\tlearn: 0.0774296\ttotal: 768ms\tremaining: 177ms\n",
      "813:\tlearn: 0.0772987\ttotal: 769ms\tremaining: 176ms\n",
      "814:\tlearn: 0.0771550\ttotal: 770ms\tremaining: 175ms\n",
      "815:\tlearn: 0.0770469\ttotal: 771ms\tremaining: 174ms\n",
      "816:\tlearn: 0.0769383\ttotal: 772ms\tremaining: 173ms\n",
      "817:\tlearn: 0.0768268\ttotal: 773ms\tremaining: 172ms\n",
      "818:\tlearn: 0.0767922\ttotal: 774ms\tremaining: 171ms\n",
      "819:\tlearn: 0.0767187\ttotal: 775ms\tremaining: 170ms\n",
      "820:\tlearn: 0.0766714\ttotal: 775ms\tremaining: 169ms\n",
      "821:\tlearn: 0.0765564\ttotal: 776ms\tremaining: 168ms\n",
      "822:\tlearn: 0.0763947\ttotal: 778ms\tremaining: 167ms\n",
      "823:\tlearn: 0.0763039\ttotal: 778ms\tremaining: 166ms\n",
      "824:\tlearn: 0.0761868\ttotal: 780ms\tremaining: 165ms\n",
      "825:\tlearn: 0.0761670\ttotal: 780ms\tremaining: 164ms\n",
      "826:\tlearn: 0.0760812\ttotal: 781ms\tremaining: 163ms\n",
      "827:\tlearn: 0.0760273\ttotal: 782ms\tremaining: 162ms\n",
      "828:\tlearn: 0.0758601\ttotal: 783ms\tremaining: 161ms\n",
      "829:\tlearn: 0.0757670\ttotal: 783ms\tremaining: 160ms\n",
      "830:\tlearn: 0.0756209\ttotal: 784ms\tremaining: 159ms\n",
      "831:\tlearn: 0.0755486\ttotal: 785ms\tremaining: 159ms\n",
      "832:\tlearn: 0.0754627\ttotal: 786ms\tremaining: 158ms\n",
      "833:\tlearn: 0.0753923\ttotal: 787ms\tremaining: 157ms\n",
      "834:\tlearn: 0.0752665\ttotal: 788ms\tremaining: 156ms\n",
      "835:\tlearn: 0.0751281\ttotal: 788ms\tremaining: 155ms\n",
      "836:\tlearn: 0.0749955\ttotal: 789ms\tremaining: 154ms\n",
      "837:\tlearn: 0.0748799\ttotal: 790ms\tremaining: 153ms\n",
      "838:\tlearn: 0.0748250\ttotal: 791ms\tremaining: 152ms\n",
      "839:\tlearn: 0.0746876\ttotal: 792ms\tremaining: 151ms\n",
      "840:\tlearn: 0.0746390\ttotal: 792ms\tremaining: 150ms\n",
      "841:\tlearn: 0.0745203\ttotal: 793ms\tremaining: 149ms\n",
      "842:\tlearn: 0.0744676\ttotal: 794ms\tremaining: 148ms\n",
      "843:\tlearn: 0.0743506\ttotal: 795ms\tremaining: 147ms\n",
      "844:\tlearn: 0.0743020\ttotal: 796ms\tremaining: 146ms\n",
      "845:\tlearn: 0.0742868\ttotal: 797ms\tremaining: 145ms\n",
      "846:\tlearn: 0.0741106\ttotal: 798ms\tremaining: 144ms\n",
      "847:\tlearn: 0.0740170\ttotal: 799ms\tremaining: 143ms\n",
      "848:\tlearn: 0.0739447\ttotal: 800ms\tremaining: 142ms\n",
      "849:\tlearn: 0.0737623\ttotal: 801ms\tremaining: 141ms\n",
      "850:\tlearn: 0.0736822\ttotal: 802ms\tremaining: 140ms\n",
      "851:\tlearn: 0.0735566\ttotal: 803ms\tremaining: 139ms\n",
      "852:\tlearn: 0.0734528\ttotal: 804ms\tremaining: 138ms\n",
      "853:\tlearn: 0.0733749\ttotal: 804ms\tremaining: 138ms\n",
      "854:\tlearn: 0.0733041\ttotal: 805ms\tremaining: 137ms\n",
      "855:\tlearn: 0.0731813\ttotal: 806ms\tremaining: 136ms\n",
      "856:\tlearn: 0.0730697\ttotal: 807ms\tremaining: 135ms\n",
      "857:\tlearn: 0.0728974\ttotal: 808ms\tremaining: 134ms\n",
      "858:\tlearn: 0.0727764\ttotal: 808ms\tremaining: 133ms\n",
      "859:\tlearn: 0.0726412\ttotal: 809ms\tremaining: 132ms\n",
      "860:\tlearn: 0.0725303\ttotal: 810ms\tremaining: 131ms\n",
      "861:\tlearn: 0.0723515\ttotal: 811ms\tremaining: 130ms\n",
      "862:\tlearn: 0.0722504\ttotal: 812ms\tremaining: 129ms\n",
      "863:\tlearn: 0.0721544\ttotal: 813ms\tremaining: 128ms\n",
      "864:\tlearn: 0.0720446\ttotal: 814ms\tremaining: 127ms\n",
      "865:\tlearn: 0.0719005\ttotal: 814ms\tremaining: 126ms\n",
      "866:\tlearn: 0.0717782\ttotal: 815ms\tremaining: 125ms\n",
      "867:\tlearn: 0.0716788\ttotal: 816ms\tremaining: 124ms\n",
      "868:\tlearn: 0.0715882\ttotal: 817ms\tremaining: 123ms\n",
      "869:\tlearn: 0.0714436\ttotal: 818ms\tremaining: 122ms\n",
      "870:\tlearn: 0.0713658\ttotal: 819ms\tremaining: 121ms\n",
      "871:\tlearn: 0.0711913\ttotal: 820ms\tremaining: 120ms\n",
      "872:\tlearn: 0.0710691\ttotal: 820ms\tremaining: 119ms\n",
      "873:\tlearn: 0.0709357\ttotal: 821ms\tremaining: 118ms\n",
      "874:\tlearn: 0.0708155\ttotal: 822ms\tremaining: 117ms\n",
      "875:\tlearn: 0.0707224\ttotal: 823ms\tremaining: 116ms\n",
      "876:\tlearn: 0.0706873\ttotal: 823ms\tremaining: 115ms\n",
      "877:\tlearn: 0.0706340\ttotal: 824ms\tremaining: 115ms\n",
      "878:\tlearn: 0.0705463\ttotal: 825ms\tremaining: 114ms\n",
      "879:\tlearn: 0.0704696\ttotal: 826ms\tremaining: 113ms\n",
      "880:\tlearn: 0.0704000\ttotal: 827ms\tremaining: 112ms\n",
      "881:\tlearn: 0.0703783\ttotal: 828ms\tremaining: 111ms\n",
      "882:\tlearn: 0.0702649\ttotal: 829ms\tremaining: 110ms\n",
      "883:\tlearn: 0.0701977\ttotal: 830ms\tremaining: 109ms\n",
      "884:\tlearn: 0.0700611\ttotal: 830ms\tremaining: 108ms\n",
      "885:\tlearn: 0.0699393\ttotal: 831ms\tremaining: 107ms\n",
      "886:\tlearn: 0.0698003\ttotal: 832ms\tremaining: 106ms\n",
      "887:\tlearn: 0.0696881\ttotal: 833ms\tremaining: 105ms\n",
      "888:\tlearn: 0.0696216\ttotal: 834ms\tremaining: 104ms\n",
      "889:\tlearn: 0.0694692\ttotal: 835ms\tremaining: 103ms\n",
      "890:\tlearn: 0.0693450\ttotal: 835ms\tremaining: 102ms\n",
      "891:\tlearn: 0.0692535\ttotal: 836ms\tremaining: 101ms\n",
      "892:\tlearn: 0.0690965\ttotal: 837ms\tremaining: 100ms\n",
      "893:\tlearn: 0.0690424\ttotal: 838ms\tremaining: 99.3ms\n",
      "894:\tlearn: 0.0688999\ttotal: 839ms\tremaining: 98.4ms\n",
      "895:\tlearn: 0.0687432\ttotal: 840ms\tremaining: 97.5ms\n",
      "896:\tlearn: 0.0686440\ttotal: 841ms\tremaining: 96.6ms\n",
      "897:\tlearn: 0.0686105\ttotal: 842ms\tremaining: 95.6ms\n",
      "898:\tlearn: 0.0685469\ttotal: 843ms\tremaining: 94.7ms\n",
      "899:\tlearn: 0.0684501\ttotal: 843ms\tremaining: 93.7ms\n",
      "900:\tlearn: 0.0683811\ttotal: 844ms\tremaining: 92.7ms\n",
      "901:\tlearn: 0.0682495\ttotal: 845ms\tremaining: 91.8ms\n",
      "902:\tlearn: 0.0681371\ttotal: 846ms\tremaining: 90.8ms\n",
      "903:\tlearn: 0.0681061\ttotal: 847ms\tremaining: 89.9ms\n",
      "904:\tlearn: 0.0680397\ttotal: 848ms\tremaining: 89ms\n",
      "905:\tlearn: 0.0679351\ttotal: 849ms\tremaining: 88ms\n",
      "906:\tlearn: 0.0678452\ttotal: 849ms\tremaining: 87.1ms\n",
      "907:\tlearn: 0.0677154\ttotal: 850ms\tremaining: 86.2ms\n",
      "908:\tlearn: 0.0676443\ttotal: 851ms\tremaining: 85.2ms\n",
      "909:\tlearn: 0.0675282\ttotal: 852ms\tremaining: 84.3ms\n",
      "910:\tlearn: 0.0674301\ttotal: 853ms\tremaining: 83.3ms\n",
      "911:\tlearn: 0.0673021\ttotal: 854ms\tremaining: 82.4ms\n",
      "912:\tlearn: 0.0672151\ttotal: 855ms\tremaining: 81.4ms\n",
      "913:\tlearn: 0.0671091\ttotal: 855ms\tremaining: 80.5ms\n",
      "914:\tlearn: 0.0670432\ttotal: 856ms\tremaining: 79.5ms\n",
      "915:\tlearn: 0.0668670\ttotal: 857ms\tremaining: 78.6ms\n",
      "916:\tlearn: 0.0667981\ttotal: 858ms\tremaining: 77.7ms\n",
      "917:\tlearn: 0.0667589\ttotal: 859ms\tremaining: 76.7ms\n"
     ]
    },
    {
     "name": "stdout",
     "output_type": "stream",
     "text": [
      "918:\tlearn: 0.0666883\ttotal: 860ms\tremaining: 75.8ms\n",
      "919:\tlearn: 0.0665957\ttotal: 861ms\tremaining: 74.9ms\n",
      "920:\tlearn: 0.0665258\ttotal: 862ms\tremaining: 73.9ms\n",
      "921:\tlearn: 0.0664682\ttotal: 863ms\tremaining: 73ms\n",
      "922:\tlearn: 0.0663548\ttotal: 863ms\tremaining: 72ms\n",
      "923:\tlearn: 0.0661896\ttotal: 864ms\tremaining: 71.1ms\n",
      "924:\tlearn: 0.0661003\ttotal: 865ms\tremaining: 70.1ms\n",
      "925:\tlearn: 0.0659863\ttotal: 866ms\tremaining: 69.2ms\n",
      "926:\tlearn: 0.0658791\ttotal: 867ms\tremaining: 68.2ms\n",
      "927:\tlearn: 0.0657895\ttotal: 867ms\tremaining: 67.3ms\n",
      "928:\tlearn: 0.0656980\ttotal: 868ms\tremaining: 66.4ms\n",
      "929:\tlearn: 0.0656536\ttotal: 869ms\tremaining: 65.4ms\n",
      "930:\tlearn: 0.0656172\ttotal: 870ms\tremaining: 64.5ms\n",
      "931:\tlearn: 0.0654350\ttotal: 871ms\tremaining: 63.5ms\n",
      "932:\tlearn: 0.0653414\ttotal: 872ms\tremaining: 62.6ms\n",
      "933:\tlearn: 0.0652452\ttotal: 872ms\tremaining: 61.6ms\n",
      "934:\tlearn: 0.0651004\ttotal: 873ms\tremaining: 60.7ms\n",
      "935:\tlearn: 0.0649987\ttotal: 874ms\tremaining: 59.8ms\n",
      "936:\tlearn: 0.0648923\ttotal: 875ms\tremaining: 58.8ms\n",
      "937:\tlearn: 0.0648095\ttotal: 875ms\tremaining: 57.9ms\n",
      "938:\tlearn: 0.0647319\ttotal: 876ms\tremaining: 56.9ms\n",
      "939:\tlearn: 0.0646068\ttotal: 877ms\tremaining: 56ms\n",
      "940:\tlearn: 0.0645430\ttotal: 878ms\tremaining: 55ms\n",
      "941:\tlearn: 0.0644086\ttotal: 879ms\tremaining: 54.1ms\n",
      "942:\tlearn: 0.0643520\ttotal: 880ms\tremaining: 53.2ms\n",
      "943:\tlearn: 0.0643106\ttotal: 881ms\tremaining: 52.2ms\n",
      "944:\tlearn: 0.0642302\ttotal: 882ms\tremaining: 51.3ms\n",
      "945:\tlearn: 0.0641745\ttotal: 882ms\tremaining: 50.4ms\n",
      "946:\tlearn: 0.0641006\ttotal: 883ms\tremaining: 49.4ms\n",
      "947:\tlearn: 0.0640598\ttotal: 884ms\tremaining: 48.5ms\n",
      "948:\tlearn: 0.0640422\ttotal: 885ms\tremaining: 47.5ms\n",
      "949:\tlearn: 0.0639207\ttotal: 886ms\tremaining: 46.6ms\n",
      "950:\tlearn: 0.0638286\ttotal: 886ms\tremaining: 45.7ms\n",
      "951:\tlearn: 0.0637719\ttotal: 887ms\tremaining: 44.7ms\n",
      "952:\tlearn: 0.0636723\ttotal: 888ms\tremaining: 43.8ms\n",
      "953:\tlearn: 0.0635642\ttotal: 889ms\tremaining: 42.9ms\n",
      "954:\tlearn: 0.0634847\ttotal: 890ms\tremaining: 41.9ms\n",
      "955:\tlearn: 0.0634693\ttotal: 891ms\tremaining: 41ms\n",
      "956:\tlearn: 0.0634380\ttotal: 892ms\tremaining: 40.1ms\n",
      "957:\tlearn: 0.0634125\ttotal: 892ms\tremaining: 39.1ms\n",
      "958:\tlearn: 0.0633306\ttotal: 893ms\tremaining: 38.2ms\n",
      "959:\tlearn: 0.0632945\ttotal: 894ms\tremaining: 37.3ms\n",
      "960:\tlearn: 0.0631585\ttotal: 895ms\tremaining: 36.3ms\n",
      "961:\tlearn: 0.0631273\ttotal: 896ms\tremaining: 35.4ms\n",
      "962:\tlearn: 0.0630085\ttotal: 897ms\tremaining: 34.5ms\n",
      "963:\tlearn: 0.0628565\ttotal: 898ms\tremaining: 33.5ms\n",
      "964:\tlearn: 0.0628354\ttotal: 898ms\tremaining: 32.6ms\n",
      "965:\tlearn: 0.0626842\ttotal: 899ms\tremaining: 31.7ms\n",
      "966:\tlearn: 0.0625317\ttotal: 900ms\tremaining: 30.7ms\n",
      "967:\tlearn: 0.0624437\ttotal: 901ms\tremaining: 29.8ms\n",
      "968:\tlearn: 0.0624094\ttotal: 902ms\tremaining: 28.8ms\n",
      "969:\tlearn: 0.0623091\ttotal: 902ms\tremaining: 27.9ms\n",
      "970:\tlearn: 0.0621806\ttotal: 903ms\tremaining: 27ms\n",
      "971:\tlearn: 0.0621432\ttotal: 904ms\tremaining: 26ms\n",
      "972:\tlearn: 0.0620086\ttotal: 905ms\tremaining: 25.1ms\n",
      "973:\tlearn: 0.0619148\ttotal: 906ms\tremaining: 24.2ms\n",
      "974:\tlearn: 0.0617816\ttotal: 907ms\tremaining: 23.2ms\n",
      "975:\tlearn: 0.0616655\ttotal: 907ms\tremaining: 22.3ms\n",
      "976:\tlearn: 0.0615239\ttotal: 908ms\tremaining: 21.4ms\n",
      "977:\tlearn: 0.0614470\ttotal: 909ms\tremaining: 20.4ms\n",
      "978:\tlearn: 0.0613714\ttotal: 910ms\tremaining: 19.5ms\n",
      "979:\tlearn: 0.0612954\ttotal: 911ms\tremaining: 18.6ms\n",
      "980:\tlearn: 0.0612087\ttotal: 912ms\tremaining: 17.7ms\n",
      "981:\tlearn: 0.0611178\ttotal: 913ms\tremaining: 16.7ms\n",
      "982:\tlearn: 0.0610014\ttotal: 913ms\tremaining: 15.8ms\n",
      "983:\tlearn: 0.0609609\ttotal: 914ms\tremaining: 14.9ms\n",
      "984:\tlearn: 0.0608841\ttotal: 915ms\tremaining: 13.9ms\n",
      "985:\tlearn: 0.0607947\ttotal: 916ms\tremaining: 13ms\n",
      "986:\tlearn: 0.0607834\ttotal: 917ms\tremaining: 12.1ms\n",
      "987:\tlearn: 0.0606997\ttotal: 918ms\tremaining: 11.1ms\n",
      "988:\tlearn: 0.0606480\ttotal: 919ms\tremaining: 10.2ms\n",
      "989:\tlearn: 0.0606200\ttotal: 920ms\tremaining: 9.29ms\n",
      "990:\tlearn: 0.0605527\ttotal: 921ms\tremaining: 8.36ms\n",
      "991:\tlearn: 0.0605099\ttotal: 921ms\tremaining: 7.43ms\n",
      "992:\tlearn: 0.0604663\ttotal: 923ms\tremaining: 6.5ms\n",
      "993:\tlearn: 0.0603674\ttotal: 923ms\tremaining: 5.57ms\n",
      "994:\tlearn: 0.0603244\ttotal: 924ms\tremaining: 4.64ms\n",
      "995:\tlearn: 0.0602576\ttotal: 925ms\tremaining: 3.71ms\n",
      "996:\tlearn: 0.0601734\ttotal: 926ms\tremaining: 2.79ms\n",
      "997:\tlearn: 0.0601116\ttotal: 927ms\tremaining: 1.86ms\n",
      "998:\tlearn: 0.0600217\ttotal: 928ms\tremaining: 929us\n",
      "999:\tlearn: 0.0599798\ttotal: 929ms\tremaining: 0us\n"
     ]
    },
    {
     "data": {
      "text/plain": [
       "<catboost.core.CatBoostRegressor at 0x7fdc88698fd0>"
      ]
     },
     "execution_count": 9,
     "metadata": {},
     "output_type": "execute_result"
    }
   ],
   "source": [
    "#Train the Model \n",
    "prior_model = ctb.CatBoostRegressor()\n",
    "prior_model.fit(X_train,Y_train)"
   ]
  },
  {
   "cell_type": "code",
   "execution_count": 10,
   "id": "af65dcda",
   "metadata": {
    "execution": {
     "iopub.execute_input": "2022-06-12T05:56:39.430888Z",
     "iopub.status.busy": "2022-06-12T05:56:39.430425Z",
     "iopub.status.idle": "2022-06-12T05:56:39.438164Z",
     "shell.execute_reply": "2022-06-12T05:56:39.438459Z"
    },
    "id": "af65dcda",
    "papermill": {
     "duration": 0.021979,
     "end_time": "2022-06-12T05:56:39.438584",
     "exception": false,
     "start_time": "2022-06-12T05:56:39.416605",
     "status": "completed"
    },
    "tags": []
   },
   "outputs": [
    {
     "data": {
      "application/scrapbook.scrap.json+json": {
       "data": 0.18053967133319138,
       "encoder": "json",
       "name": "Prior Model MSE",
       "version": 1
      }
     },
     "metadata": {
      "scrapbook": {
       "data": true,
       "display": false,
       "name": "Prior Model MSE"
      }
     },
     "output_type": "display_data"
    },
    {
     "data": {
      "application/scrapbook.scrap.json+json": {
       "data": 0.19634666462792302,
       "encoder": "json",
       "name": "ABC Pre-generator MSE",
       "version": 1
      }
     },
     "metadata": {
      "scrapbook": {
       "data": true,
       "display": false,
       "name": "ABC Pre-generator MSE"
      }
     },
     "output_type": "display_data"
    },
    {
     "data": {
      "application/scrapbook.scrap.json+json": {
       "data": 0.25198013353588117,
       "encoder": "json",
       "name": "Prior Model MSE",
       "version": 1
      }
     },
     "metadata": {
      "scrapbook": {
       "data": true,
       "display": false,
       "name": "Prior Model MSE"
      }
     },
     "output_type": "display_data"
    },
    {
     "data": {
      "application/scrapbook.scrap.json+json": {
       "data": 0.27031981103963154,
       "encoder": "json",
       "name": "ABC Pre-generator MSE",
       "version": 1
      }
     },
     "metadata": {
      "scrapbook": {
       "data": true,
       "display": false,
       "name": "ABC Pre-generator MSE"
      }
     },
     "output_type": "display_data"
    }
   ],
   "source": [
    "y_pred = prior_model.predict(X_test)\n",
    "y_abc = y_pred + np.random.normal(0,variance, y_pred.shape) + bias \n",
    "mse = mean_squared_error(y_pred,Y_test)\n",
    "sb.glue(\"Prior Model MSE\",mse)\n",
    "mse = mean_squared_error(y_abc,Y_test)\n",
    "sb.glue(\"ABC Pre-generator MSE\",mse)\n",
    "mae = mean_absolute_error(y_pred,Y_test)\n",
    "sb.glue(\"Prior Model MSE\",mae)\n",
    "mae = mean_absolute_error(y_abc,Y_test)\n",
    "sb.glue(\"ABC Pre-generator MSE\",mae)"
   ]
  },
  {
   "cell_type": "markdown",
   "id": "25609da2",
   "metadata": {
    "papermill": {
     "duration": 0.010062,
     "end_time": "2022-06-12T05:56:39.459123",
     "exception": false,
     "start_time": "2022-06-12T05:56:39.449061",
     "status": "completed"
    },
    "tags": []
   },
   "source": [
    "# ABC GAN Model"
   ]
  },
  {
   "cell_type": "code",
   "execution_count": 11,
   "id": "dfc3464d",
   "metadata": {
    "execution": {
     "iopub.execute_input": "2022-06-12T05:56:39.482594Z",
     "iopub.status.busy": "2022-06-12T05:56:39.482221Z",
     "iopub.status.idle": "2022-06-12T05:56:39.484623Z",
     "shell.execute_reply": "2022-06-12T05:56:39.484854Z"
    },
    "papermill": {
     "duration": 0.015766,
     "end_time": "2022-06-12T05:56:39.484966",
     "exception": false,
     "start_time": "2022-06-12T05:56:39.469200",
     "status": "completed"
    },
    "tags": []
   },
   "outputs": [],
   "source": [
    "gen = network.Generator(n_features+1).to(device)\n",
    "disc = network.Discriminator(n_features+1).to(device)\n",
    "\n",
    "criterion = torch.nn.BCELoss()\n",
    "gen_opt = torch.optim.Adam(gen.parameters(), lr=0.001, betas=(0.5, 0.999))\n",
    "disc_opt = torch.optim.Adam(disc.parameters(), lr=0.001, betas=(0.5, 0.999))"
   ]
  },
  {
   "cell_type": "code",
   "execution_count": 12,
   "id": "b75fdd85",
   "metadata": {
    "execution": {
     "iopub.execute_input": "2022-06-12T05:56:39.508183Z",
     "iopub.status.busy": "2022-06-12T05:56:39.507808Z",
     "iopub.status.idle": "2022-06-12T05:57:44.147055Z",
     "shell.execute_reply": "2022-06-12T05:57:44.146753Z"
    },
    "papermill": {
     "duration": 64.652109,
     "end_time": "2022-06-12T05:57:44.147180",
     "exception": false,
     "start_time": "2022-06-12T05:56:39.495071",
     "status": "completed"
    },
    "tags": []
   },
   "outputs": [
    {
     "data": {
      "image/png": "[encoded data removed]",
      "text/plain": [
       "<Figure size 432x288 with 1 Axes>"
      ]
     },
     "metadata": {
      "needs_background": "light"
     },
     "output_type": "display_data"
    },
    {
     "data": {
      "image/png": "[encoded data removed]",
      "text/plain": [
       "<Figure size 432x288 with 1 Axes>"
      ]
     },
     "metadata": {
      "needs_background": "light"
     },
     "output_type": "display_data"
    }
   ],
   "source": [
    "#Training the ABC_GAN \n",
    "ABC_train_test2.training_GAN(disc,gen,disc_opt,gen_opt,train_data,batch_size,n_epochs,criterion,prior_model,variance,bias,device)"
   ]
  },
  {
   "cell_type": "code",
   "execution_count": 13,
   "id": "1fa7c368",
   "metadata": {
    "execution": {
     "iopub.execute_input": "2022-06-12T05:57:44.171825Z",
     "iopub.status.busy": "2022-06-12T05:57:44.171450Z",
     "iopub.status.idle": "2022-06-12T05:57:44.477441Z",
     "shell.execute_reply": "2022-06-12T05:57:44.477741Z"
    },
    "papermill": {
     "duration": 0.319756,
     "end_time": "2022-06-12T05:57:44.477871",
     "exception": false,
     "start_time": "2022-06-12T05:57:44.158115",
     "status": "completed"
    },
    "tags": []
   },
   "outputs": [
    {
     "data": {
      "application/scrapbook.scrap.json+json": {
       "data": 0.23899331643459037,
       "encoder": "json",
       "name": "ABC-GAN Model 1 MSE",
       "version": 1
      }
     },
     "metadata": {
      "scrapbook": {
       "data": true,
       "display": false,
       "name": "ABC-GAN Model 1 MSE"
      }
     },
     "output_type": "display_data"
    },
    {
     "data": {
      "application/scrapbook.scrap.json+json": {
       "data": 0.2813887022063136,
       "encoder": "json",
       "name": "ABC-GAN Model 1 MAE",
       "version": 1
      }
     },
     "metadata": {
      "scrapbook": {
       "data": true,
       "display": false,
       "name": "ABC-GAN Model 1 MAE"
      }
     },
     "output_type": "display_data"
    },
    {
     "data": {
      "application/scrapbook.scrap.json+json": {
       "data": 28.70164762504399,
       "encoder": "json",
       "name": "ABC-GAN Model 1 Manhattan Distance",
       "version": 1
      }
     },
     "metadata": {
      "scrapbook": {
       "data": true,
       "display": false,
       "name": "ABC-GAN Model 1 Manhattan Distance"
      }
     },
     "output_type": "display_data"
    },
    {
     "data": {
      "application/scrapbook.scrap.json+json": {
       "data": 4.936842472336084,
       "encoder": "json",
       "name": "ABC-GAN Model 1 Euclidean distance",
       "version": 1
      }
     },
     "metadata": {
      "scrapbook": {
       "data": true,
       "display": false,
       "name": "ABC-GAN Model 1 Euclidean distance"
      }
     },
     "output_type": "display_data"
    },
    {
     "data": {
      "application/scrapbook.scrap.json+json": {
       "data": [
        [
         0.23697958701478014,
         0.24285388398332144,
         0.23931364971702707,
         0.23447794709503741,
         0.23495950933190263,
         0.24391259706319662,
         0.2312181249869186,
         0.23856246889097962,
         0.2421680471396552,
         0.2395213153075763,
         0.2312121720127124,
         0.24167067483595403,
         0.237850020189726,
         0.24330652635922362,
         0.2351673328234046,
         0.23071608546236558,
         0.23952543998768205,
         0.24001647618591854,
         0.24411209538916215,
         0.24579801622649305,
         0.23348695935162328,
         0.2456194218149365,
         0.22539219058706464,
         0.23319044662942062,
         0.2381383000376334,
         0.23066149370900407,
         0.24386283531270928,
         0.2376352917407679,
         0.23102954974493925,
         0.22918665902782848,
         0.24943926267885388,
         0.23788522133632808,
         0.24704106693898034,
         0.2462547853960982,
         0.236242666134351,
         0.24048449806994932,
         0.25115976098518394,
         0.2382278430757998,
         0.24090771112855908,
         0.24805087451508168,
         0.2486625636524662,
         0.23639102014304852,
         0.24098249400128774,
         0.24299837123667373,
         0.23539152548649195,
         0.23313193398477713,
         0.24642466968682733,
         0.24237193541861837,
         0.24140760142024248,
         0.2281845416258925,
         0.24135448275397034,
         0.24540004668234858,
         0.23417878822050495,
         0.2412844489572882,
         0.24704826968238136,
         0.24554425857653564,
         0.23886806621887985,
         0.24901755985936813,
         0.24147440799104902,
         0.23079514893666184,
         0.22492446844567213,
         0.24345325039326673,
         0.23100706257300244,
         0.23041310935470127,
         0.2327372860112936,
         0.22944068480866045,
         0.24497448585179307,
         0.2425582620332079,
         0.2328676327143537,
         0.2503840452003873,
         0.24384429416732953,
         0.23948341734083783,
         0.24675961180975664,
         0.24369556482548957,
         0.2343938720472127,
         0.23959613066023874,
         0.24586720424302136,
         0.23204398637747833,
         0.22539769359964337,
         0.25047598936020155,
         0.23705795796874737,
         0.22799450463714946,
         0.23794613682099325,
         0.24297715371636094,
         0.24035282811615558,
         0.2419151869898414,
         0.2600695506251992,
         0.23133116817453847,
         0.24108294402476177,
         0.2425491377198431,
         0.22799107700850096,
         0.2372308352498353,
         0.2252364786945632,
         0.23789127387765532,
         0.237473295964569,
         0.23077445857935427,
         0.248919134074789,
         0.24343900292952847,
         0.24201564241601747,
         0.23261488129962132
        ],
        [
         0.2839435663476002,
         0.2847057732333447,
         0.286270804977154,
         0.2703408612230537,
         0.28434509033446803,
         0.28076570439061116,
         0.2811626523331392,
         0.2762309974424687,
         0.2816699777784593,
         0.284794042233889,
         0.2770627097719732,
         0.2778250746903758,
         0.28988401173595707,
         0.28233853163307204,
         0.2802709209385748,
         0.27637747837705356,
         0.28630407477783804,
         0.280643905951258,
         0.28173996911694604,
         0.29068165825789466,
         0.2738271767419635,
         0.28977728852381307,
         0.2735573901959202,
         0.2729268802841212,
         0.27500706390642066,
         0.2771755430080435,
         0.293200920299426,
         0.2804417928096418,
         0.2823991391844317,
         0.2760768209711886,
         0.2914001744277045,
         0.2832685522917731,
         0.2864896970454092,
         0.28213377346229906,
         0.2903922277082707,
         0.28539485913500484,
         0.29062682362821174,
         0.2839828591757253,
         0.2832816482941602,
         0.2811105481586328,
         0.28429403541353987,
         0.2769863835408115,
         0.28097470738358943,
         0.2808335139872689,
         0.28265889838118763,
         0.27412880633902903,
         0.27818996840905325,
         0.28440717072682636,
         0.28743273456233975,
         0.28048750833042113,
         0.28451090636571835,
         0.28912549149975475,
         0.28286641173283844,
         0.28510578708978845,
         0.2868145745722394,
         0.29245228110356075,
         0.28269109781831503,
         0.2811584145232451,
         0.28008039407066854,
         0.27520602380893394,
         0.2766707104393372,
         0.27982206494711775,
         0.2788382164001757,
         0.27187151080180033,
         0.2824582195859037,
         0.27659162194194165,
         0.28206548008921684,
         0.2784377125950128,
         0.27589018914994656,
         0.2926213598682308,
         0.282976299506046,
         0.2710203440932959,
         0.2820033396174218,
         0.2759871048049307,
         0.2808909238516992,
         0.27472384012870343,
         0.28267519846193345,
         0.2749025388346875,
         0.2753152761644885,
         0.287726213370322,
         0.2815298952490968,
         0.27580017970838383,
         0.2725389897275497,
         0.2807252676427072,
         0.28006863851538477,
         0.2801421525175957,
         0.2931909745047782,
         0.28326826416613426,
         0.2847666161353974,
         0.2785876493937537,
         0.27740320320442025,
         0.2794973449051088,
         0.2737693834282896,
         0.28042379359477293,
         0.27916305707584993,
         0.2743527787536675,
         0.28958068468480136,
         0.2804990194043985,
         0.2863407285664888,
         0.28349934034414737
        ],
        [
         28.96224376745522,
         29.039988869801164,
         29.19962210766971,
         27.574767844751477,
         29.00319921411574,
         28.638101847842336,
         28.6785905379802,
         28.17556173913181,
         28.73033773340285,
         29.04899230785668,
         28.26039639674127,
         28.338157618418336,
         29.56816919706762,
         28.798530226573348,
         28.58763393573463,
         28.190502794459462,
         29.203015627339482,
         28.625678407028317,
         28.7374768499285,
         29.649529142305255,
         27.930372027680278,
         29.557283429428935,
         27.90285379998386,
         27.838541788980365,
         28.05072051845491,
         28.271905386820436,
         29.906493870541453,
         28.605062866583467,
         28.804712196812034,
         28.159835739061236,
         29.722817791625857,
         28.893392333760858,
         29.22194909863174,
         28.777644893154502,
         29.620007226243615,
         29.11027563177049,
         29.643936010077596,
         28.96625163592398,
         28.89472812600434,
         28.673275912180543,
         28.997991612181067,
         28.252611121162772,
         28.65942015312612,
         28.645018426701427,
         28.83120763488114,
         27.96113824658096,
         28.37537677772343,
         29.00953141413629,
         29.318138925358653,
         28.609725849702954,
         29.02011244930327,
         29.490800132974982,
         28.85237399674952,
         29.08079028315842,
         29.255086606368423,
         29.830132672563195,
         28.834491977468133,
         28.678158281370997,
         28.568200195208192,
         28.071014428511262,
         28.220412464812398,
         28.541850624606013,
         28.44149807281792,
         27.730894101783633,
         28.81073839776218,
         28.212345438078046,
         28.770678969100118,
         28.40064668469131,
         28.14079929329455,
         29.84737870655954,
         28.863582549616694,
         27.64407509751618,
         28.764340640977025,
         28.150684690102935,
         28.65087423287332,
         28.02183169312775,
         28.832870243117213,
         28.04005896113813,
         28.082158168777823,
         29.348073763772845,
         28.716049315407872,
         28.13161833025515,
         27.79897695221007,
         28.633977299556136,
         28.567001128569245,
         28.574499556794763,
         29.905479399487376,
         28.893362944945693,
         29.046194845810533,
         28.415940238162875,
         28.295126726850867,
         28.508729180321097,
         27.92447710968554,
         28.603226946666837,
         28.474631821736693,
         27.983983432874084,
         29.537229837849736,
         28.610899979248643,
         29.206754313781857,
         28.91693271510303
        ],
        [
         4.916494470200039,
         4.977056978405892,
         4.940646948643139,
         4.890475498731572,
         4.895494862815615,
         4.987893834119373,
         4.856361678115181,
         4.9328867640439436,
         4.970024226122527,
         4.942790119089903,
         4.856299161429067,
         4.964917807302283,
         4.9255154105283285,
         4.981693054438501,
         4.897659435688364,
         4.851086550161859,
         4.94283267759931,
         4.947896580463631,
         4.989933239001754,
         5.007134675151278,
         4.880130106243641,
         5.005315277295081,
         4.794789196605059,
         4.877030403452586,
         4.928499427192683,
         4.850512587172454,
         4.9873850063832394,
         4.923291557236714,
         4.854380915624957,
         4.834980788052679,
         5.0440861207202925,
         4.925879878387765,
         5.019779758891418,
         5.011784922600133,
         4.908844257633746,
         4.952718324630912,
         5.061451928102129,
         4.929425929429468,
         4.957074392735398,
         5.0300287474862735,
         5.036226910351792,
         4.910385326488233,
         4.957843723649561,
         4.978537321959203,
         4.899993428528469,
         4.876418487624628,
         5.013513369689601,
         4.972115989465559,
         4.9622147620659,
         4.824398744490449,
         4.961668795970261,
         5.003079527810802,
         4.887354744490265,
         4.960948880369903,
         5.019852936850132,
         5.004549367805919,
         4.9360452544851885,
         5.039820543001064,
         4.9629013303799425,
         4.8519176818593595,
         4.789811664508173,
         4.98319491291613,
         4.854144660230703,
         4.847900283027645,
         4.872289315419594,
         4.8376595426387095,
         4.998739596826673,
         4.974026812089699,
         4.87365351013632,
         5.053629647138728,
         4.987195404740786,
         4.9423990701647575,
         5.016919413803173,
         4.985674238475667,
         4.889598649052465,
         4.943562008040796,
         5.00783933775717,
         4.865026886924961,
         4.794847729298984,
         5.0545574400476,
         4.917307364077644,
         4.822389394583275,
         4.926510525284738,
         4.978319965517365,
         4.951362284043439,
         4.96742881911395,
         5.1504460160038885,
         4.857548677450687,
         4.9588769182674515,
         4.9739332572345605,
         4.822353144976744,
         4.919100039182289,
         4.793132673611846,
         4.925942542856223,
         4.921613169316137,
         4.851700194271502,
         5.038824433896112,
         4.983049096568476,
         4.9684600759625495,
         4.871007892886375
        ]
       ],
       "encoder": "json",
       "name": "ABC_GAN_1 Metrics",
       "version": 1
      }
     },
     "metadata": {
      "scrapbook": {
       "data": true,
       "display": false,
       "name": "ABC_GAN_1 Metrics"
      }
     },
     "output_type": "display_data"
    },
    {
     "name": "stdout",
     "output_type": "stream",
     "text": [
      "MSE\n",
      "0.23899331643459037\n"
     ]
    }
   ],
   "source": [
    "ABC_GAN1_metrics=ABC_train_test2.test_generator(gen,test_data,prior_model,variance,bias,\"1\",device)\n",
    "sb.glue(\"ABC_GAN_1 Metrics\",ABC_GAN1_metrics)\n",
    "\n",
    "print(\"MSE\")\n",
    "print(mean(ABC_GAN1_metrics[0]))"
   ]
  },
  {
   "cell_type": "code",
   "execution_count": 14,
   "id": "eb22ce5c",
   "metadata": {
    "execution": {
     "iopub.execute_input": "2022-06-12T05:57:44.531426Z",
     "iopub.status.busy": "2022-06-12T05:57:44.531057Z",
     "iopub.status.idle": "2022-06-12T05:57:44.853869Z",
     "shell.execute_reply": "2022-06-12T05:57:44.854275Z"
    },
    "papermill": {
     "duration": 0.339022,
     "end_time": "2022-06-12T05:57:44.854405",
     "exception": false,
     "start_time": "2022-06-12T05:57:44.515383",
     "status": "completed"
    },
    "tags": []
   },
   "outputs": [
    {
     "data": {
      "image/png": "[encoded data removed]",
      "text/plain": [
       "<Figure size 432x288 with 1 Axes>"
      ]
     },
     "metadata": {
      "needs_background": "light"
     },
     "output_type": "display_data"
    },
    {
     "data": {
      "image/png": "[encoded data removed]",
      "text/plain": [
       "<Figure size 432x288 with 1 Axes>"
      ]
     },
     "metadata": {
      "needs_background": "light"
     },
     "output_type": "display_data"
    },
    {
     "data": {
      "image/png": "[encoded data removed]",
      "text/plain": [
       "<Figure size 432x288 with 1 Axes>"
      ]
     },
     "metadata": {
      "needs_background": "light"
     },
     "output_type": "display_data"
    },
    {
     "data": {
      "image/png": "[encoded data removed]",
      "text/plain": [
       "<Figure size 432x288 with 1 Axes>"
      ]
     },
     "metadata": {
      "needs_background": "light"
     },
     "output_type": "display_data"
    }
   ],
   "source": [
    "sanityChecks.discProbVsError(train_data,disc,device)\n",
    "sanityChecks.discProbVsError(test_data,disc,device)"
   ]
  },
  {
   "cell_type": "markdown",
   "id": "130f3a4d",
   "metadata": {
    "id": "130f3a4d",
    "papermill": {
     "duration": 0.014631,
     "end_time": "2022-06-12T05:57:44.884178",
     "exception": false,
     "start_time": "2022-06-12T05:57:44.869547",
     "status": "completed"
    },
    "tags": []
   },
   "source": [
    "# ABC - GAN Model with skip connection"
   ]
  },
  {
   "cell_type": "code",
   "execution_count": 15,
   "id": "4e43dad1",
   "metadata": {
    "execution": {
     "iopub.execute_input": "2022-06-12T05:57:44.916901Z",
     "iopub.status.busy": "2022-06-12T05:57:44.916520Z",
     "iopub.status.idle": "2022-06-12T05:57:44.918802Z",
     "shell.execute_reply": "2022-06-12T05:57:44.919048Z"
    },
    "id": "4e43dad1",
    "papermill": {
     "duration": 0.020217,
     "end_time": "2022-06-12T05:57:44.919164",
     "exception": false,
     "start_time": "2022-06-12T05:57:44.898947",
     "status": "completed"
    },
    "tags": []
   },
   "outputs": [],
   "source": [
    "#Generator\n",
    "gen3 = network.GeneratorWithSkipConnection(n_features+1).to(device)\n",
    "constraints=network.weightConstraint()\n",
    "#Discriminator \n",
    "disc3 = network.Discriminator(n_features+1).to(device)\n",
    "\n",
    "criterion = torch.nn.BCELoss()\n",
    "gen_opt = torch.optim.Adam(gen3.parameters(), lr=0.001, betas=(0.5, 0.999))\n",
    "disc_opt = torch.optim.Adam(disc3.parameters(), lr=0.001, betas=(0.5, 0.999))\n"
   ]
  },
  {
   "cell_type": "code",
   "execution_count": 16,
   "id": "26acbc37",
   "metadata": {
    "execution": {
     "iopub.execute_input": "2022-06-12T05:57:44.951282Z",
     "iopub.status.busy": "2022-06-12T05:57:44.950910Z",
     "iopub.status.idle": "2022-06-12T06:00:45.882945Z",
     "shell.execute_reply": "2022-06-12T06:00:45.883262Z"
    },
    "id": "26acbc37",
    "papermill": {
     "duration": 180.949244,
     "end_time": "2022-06-12T06:00:45.883394",
     "exception": false,
     "start_time": "2022-06-12T05:57:44.934150",
     "status": "completed"
    },
    "tags": []
   },
   "outputs": [
    {
     "data": {
      "image/png": "[encoded data removed]",
      "text/plain": [
       "<Figure size 432x288 with 1 Axes>"
      ]
     },
     "metadata": {
      "needs_background": "light"
     },
     "output_type": "display_data"
    },
    {
     "data": {
      "image/png": "[encoded data removed]",
      "text/plain": [
       "<Figure size 432x288 with 1 Axes>"
      ]
     },
     "metadata": {
      "needs_background": "light"
     },
     "output_type": "display_data"
    }
   ],
   "source": [
    "ABC_train_test2.training_GAN_skip_connection(disc3,gen3,disc_opt,gen_opt,train_data,batch_size,n_epochs,criterion,prior_model,variance,bias,device)"
   ]
  },
  {
   "cell_type": "code",
   "execution_count": 17,
   "id": "c5e0717b",
   "metadata": {
    "execution": {
     "iopub.execute_input": "2022-06-12T06:00:45.917490Z",
     "iopub.status.busy": "2022-06-12T06:00:45.917127Z",
     "iopub.status.idle": "2022-06-12T06:00:46.755052Z",
     "shell.execute_reply": "2022-06-12T06:00:46.755342Z"
    },
    "id": "c5e0717b",
    "papermill": {
     "duration": 0.856499,
     "end_time": "2022-06-12T06:00:46.755469",
     "exception": false,
     "start_time": "2022-06-12T06:00:45.898970",
     "status": "completed"
    },
    "tags": []
   },
   "outputs": [
    {
     "data": {
      "application/scrapbook.scrap.json+json": {
       "data": 0.20845462499388706,
       "encoder": "json",
       "name": "ABC-GAN Model 3 MSE",
       "version": 1
      }
     },
     "metadata": {
      "scrapbook": {
       "data": true,
       "display": false,
       "name": "ABC-GAN Model 3 MSE"
      }
     },
     "output_type": "display_data"
    },
    {
     "data": {
      "application/scrapbook.scrap.json+json": {
       "data": 0.2801623685012444,
       "encoder": "json",
       "name": "ABC-GAN Model 3 MAE",
       "version": 1
      }
     },
     "metadata": {
      "scrapbook": {
       "data": true,
       "display": false,
       "name": "ABC-GAN Model 3 MAE"
      }
     },
     "output_type": "display_data"
    },
    {
     "data": {
      "application/scrapbook.scrap.json+json": {
       "data": 28.576561587126925,
       "encoder": "json",
       "name": "ABC-GAN Model 3 Manhattan Distance",
       "version": 1
      }
     },
     "metadata": {
      "scrapbook": {
       "data": true,
       "display": false,
       "name": "ABC-GAN Model 3 Manhattan Distance"
      }
     },
     "output_type": "display_data"
    },
    {
     "data": {
      "application/scrapbook.scrap.json+json": {
       "data": 4.610353073472665,
       "encoder": "json",
       "name": "ABC-GAN Model 3 Euclidean distance",
       "version": 1
      }
     },
     "metadata": {
      "scrapbook": {
       "data": true,
       "display": false,
       "name": "ABC-GAN Model 3 Euclidean distance"
      }
     },
     "output_type": "display_data"
    },
    {
     "data": {
      "application/scrapbook.scrap.json+json": {
       "data": [
        [
         0.21014026502712166,
         0.2038931172449002,
         0.20520226843270037,
         0.2019147538164326,
         0.22176928356838083,
         0.21747419182721167,
         0.21035243272453832,
         0.21337666147269055,
         0.20726534881563638,
         0.20420182139241336,
         0.1952115382593666,
         0.20375995713044578,
         0.2146141995075708,
         0.203297943543431,
         0.20933591963431164,
         0.2108508847926229,
         0.20756209016009128,
         0.21955433347797573,
         0.19455597453440163,
         0.20639245384303254,
         0.20449664847524765,
         0.21234307498943344,
         0.22636105111808483,
         0.20328722624693688,
         0.20917632349665433,
         0.21760215916182826,
         0.2000394782557978,
         0.20677990188692383,
         0.20923352611872265,
         0.22170440985023113,
         0.20459068488218055,
         0.2131125567331678,
         0.19232823510649355,
         0.21900787989998435,
         0.20326922998290903,
         0.20762269358289392,
         0.21947448323878718,
         0.20435877137110686,
         0.2030955631847176,
         0.19244924027003066,
         0.2073838586014035,
         0.2015388154055687,
         0.22042159052997498,
         0.2194725114680998,
         0.20649122684316837,
         0.20227672811418435,
         0.20351316377709294,
         0.20796137089455435,
         0.2033217054042129,
         0.19411054585142032,
         0.2173941667831118,
         0.21285880938063328,
         0.20206493670037937,
         0.2116737128132533,
         0.22540856841115403,
         0.1982765123093325,
         0.22033905032038387,
         0.22179165164261364,
         0.20878605545915463,
         0.20545688435452655,
         0.21072543955878342,
         0.19993989990557087,
         0.196171790865425,
         0.19738259496805863,
         0.19543128685476482,
         0.21650587218466416,
         0.213775230464141,
         0.20122880032623233,
         0.20531665022006318,
         0.21632117910778959,
         0.20156018327468167,
         0.21303876251522644,
         0.2010576271053005,
         0.20900019884763527,
         0.20595552490153704,
         0.20710356886219303,
         0.20389028865548767,
         0.21493702327807787,
         0.21326119451076098,
         0.21192293589538896,
         0.2153274428520207,
         0.21867700810453375,
         0.20409736963171946,
         0.2041857483241368,
         0.21564182878330224,
         0.20752299075356512,
         0.2095846147347876,
         0.20895573444148768,
         0.21496115137667432,
         0.21528160727319892,
         0.2021774594052623,
         0.20810493532560442,
         0.2064051983251758,
         0.2081828470900782,
         0.20024765932291516,
         0.20085128299589503,
         0.20939341490449176,
         0.2051229716022086,
         0.2107603942331271,
         0.2238543454851061
        ],
        [
         0.28279059104548365,
         0.26901509432012544,
         0.2843920047595805,
         0.2779226282100175,
         0.2906506576337943,
         0.2776688035833193,
         0.2824116160947026,
         0.2952416516000442,
         0.28167877979941813,
         0.2691420243468647,
         0.2621889147615316,
         0.2741278858088395,
         0.2842635182371619,
         0.2890285626784259,
         0.27931671483697845,
         0.28597789482377906,
         0.28573608672355905,
         0.2875019195215667,
         0.26912566714500097,
         0.27768212087525457,
         0.27329655464592517,
         0.2884752527792372,
         0.28955620423178463,
         0.2789641998379546,
         0.28543750830359904,
         0.2954846973183985,
         0.2770814723426513,
         0.27764550620215195,
         0.27813176180729093,
         0.2853920245177898,
         0.2808432346575108,
         0.28521610772711975,
         0.2692411184931795,
         0.28863485875156,
         0.2680060994793095,
         0.29053526614591774,
         0.27892682726001916,
         0.27634608004169137,
         0.2763900434890506,
         0.25831404432435245,
         0.28165965642341795,
         0.27705303703745204,
         0.28587470254769515,
         0.2858233302283813,
         0.27998988600630387,
         0.2704721978482078,
         0.2710187430219615,
         0.2797210858404344,
         0.2804828971880032,
         0.27858055815758076,
         0.2834129214615506,
         0.2859904369266302,
         0.26960005952666205,
         0.28175758353124064,
         0.29038980966616496,
         0.27584914941632865,
         0.29280946361741017,
         0.28775427044898855,
         0.28699580673128366,
         0.2790790323496741,
         0.2732662081389743,
         0.27392409908055676,
         0.2763715665604846,
         0.2709479745587005,
         0.2698784265484588,
         0.28458906627972336,
         0.2946407585861344,
         0.2783198088370994,
         0.27248933851061496,
         0.2779536188269655,
         0.2764338444297512,
         0.28539969879841687,
         0.2745899750358042,
         0.2830776938912915,
         0.2822673327526918,
         0.27580794187116564,
         0.28309522832141204,
         0.27493887898676533,
         0.2918021805109639,
         0.27499783848065373,
         0.28541370125158744,
         0.29029726878027706,
         0.2697855259529224,
         0.2758427622234997,
         0.29379067590058433,
         0.27603393572145235,
         0.28480345523897926,
         0.28447063973940473,
         0.2795398801601693,
         0.28667247156594317,
         0.27102280231010095,
         0.2722327532885852,
         0.2735384459442952,
         0.2799973051593292,
         0.26928431451247603,
         0.27375778544000257,
         0.2818431138955787,
         0.283005524088866,
         0.2841169511826307,
         0.29389943162381066
        ],
        [
         28.844640286639333,
         27.439539620652795,
         29.00798448547721,
         28.348108077421784,
         29.646367078647017,
         28.322217965498567,
         28.805984841659665,
         30.114648463204503,
         28.73123553954065,
         27.4524864833802,
         26.743269305676222,
         27.96104435250163,
         28.99487886019051,
         29.480913393199444,
         28.4903049133718,
         29.169745272025466,
         29.145080845803022,
         29.325195791199803,
         27.450818048790097,
         28.323576329275966,
         27.876248573884368,
         29.424475783482194,
         29.53473283164203,
         28.45434838347137,
         29.1146258469671,
         30.139439126476645,
         28.26231017895043,
         28.3198416326195,
         28.369439704343677,
         29.109986500814557,
         28.646009935066104,
         29.092042988166213,
         27.462594086304307,
         29.440755592659116,
         27.336622146889567,
         29.634597146883607,
         28.450536380521953,
         28.18730016425252,
         28.191784435883164,
         26.34803252108395,
         28.729284955188632,
         28.25940977782011,
         29.159219659864902,
         29.153979683294892,
         28.558968372642994,
         27.588164180517197,
         27.643911788240075,
         28.53155075572431,
         28.609255513176322,
         28.415216932073236,
         28.908117989078164,
         29.17102456651628,
         27.499206071719527,
         28.739273520186543,
         29.619760585948825,
         28.136613240465522,
         29.866565288975835,
         29.350935585796833,
         29.273572286590934,
         28.466061299666762,
         27.873153230175376,
         27.94025810621679,
         28.18989978916943,
         27.636693404987454,
         27.527599507942796,
         29.028084760531783,
         30.05335737578571,
         28.38862050138414,
         27.79391252808273,
         28.35126912035048,
         28.196252131834626,
         29.11076927743852,
         28.008177453652024,
         28.873924776911736,
         28.79126794077456,
         28.132410070858896,
         28.875713288784027,
         28.043765656650066,
         29.763822412118316,
         28.04977952502668,
         29.11219752766192,
         29.61032141558826,
         27.51812364719808,
         28.135961746796966,
         29.966648941859603,
         28.155461443588138,
         29.049952434375882,
         29.01600525341928,
         28.513067776337266,
         29.2405920997262,
         27.644325835630298,
         27.76774083543569,
         27.90092148631811,
         28.55972512625158,
         27.467000080272555,
         27.923294114880264,
         28.74799761734903,
         28.86656345706433,
         28.979929020628333,
         29.977742025628686
        ],
        [
         4.629719973472089,
         4.560383532004717,
         4.5750006972825075,
         4.538205029444585,
         4.756097867367202,
         4.709816086258101,
         4.632056577580082,
         4.665235199881613,
         4.5979414501703815,
         4.563834548055634,
         4.462239001045932,
         4.558894123283131,
         4.678744313357187,
         4.553722679460176,
         4.620850982524732,
         4.63754140130819,
         4.601231704264555,
         4.732287186419852,
         4.454740104934177,
         4.588249153216215,
         4.567127997382519,
         4.653922393951386,
         4.805083476282659,
         4.553602648144384,
         4.619089195572948,
         4.7112015701417915,
         4.517081666528884,
         4.59255375498929,
         4.619720734428619,
         4.755402170660604,
         4.568177958221681,
         4.662347132805868,
         4.429162446881164,
         4.726394370955346,
         4.5534010869081945,
         4.6019033828900815,
         4.731426559755133,
         4.565588097918262,
         4.551455530359624,
         4.43055555292371,
         4.599255763419029,
         4.533978294099786,
         4.741624429882384,
         4.731405306010696,
         4.589346918462709,
         4.542271047355805,
         4.556132428415956,
         4.6056552010810075,
         4.55398879568557,
         4.449637701751106,
         4.708949459473673,
         4.659570640823528,
         4.539892459457459,
         4.6465814000135435,
         4.794963396934091,
         4.49713289280536,
         4.740736560143281,
         4.756337715884626,
         4.614778180674968,
         4.577838158362712,
         4.63616164892855,
         4.515957239652322,
         4.473200494978215,
         4.486983918707753,
         4.464749854044009,
         4.699318989261715,
         4.66959029330651,
         4.530489778520165,
         4.576275595115141,
         4.6973141548117185,
         4.534218642061445,
         4.661539850366303,
         4.52856246117249,
         4.617144169555331,
         4.583389961584849,
         4.596146649525414,
         4.5603518990161,
         4.682261886563368,
         4.663972752932591,
         4.649316020806681,
         4.686512474207884,
         4.722822760454011,
         4.562667169807082,
         4.563654930980426,
         4.68993246602729,
         4.600798306475045,
         4.6235949977207484,
         4.616652998984408,
         4.682524686578895,
         4.686013651480999,
         4.541156335046917,
         4.607244665004416,
         4.588390810422315,
         4.608107030352916,
         4.519431518558207,
         4.52623804782529,
         4.621485510120979,
         4.574116647334791,
         4.636546151153783,
         4.778403838048938
        ]
       ],
       "encoder": "json",
       "name": "ABC_GAN_3 Metrics",
       "version": 1
      }
     },
     "metadata": {
      "scrapbook": {
       "data": true,
       "display": false,
       "name": "ABC_GAN_3 Metrics"
      }
     },
     "output_type": "display_data"
    },
    {
     "name": "stdout",
     "output_type": "stream",
     "text": [
      "MSE\n",
      "0.20845462499388706\n"
     ]
    }
   ],
   "source": [
    "ABC_GAN3_metrics=ABC_train_test2.test_generator(gen3,test_data,prior_model,variance,bias,\"3\",device)\n",
    "sb.glue(\"ABC_GAN_3 Metrics\",ABC_GAN3_metrics)\n",
    "\n",
    "print(\"MSE\")\n",
    "print(mean(ABC_GAN3_metrics[0]))"
   ]
  },
  {
   "cell_type": "code",
   "execution_count": 18,
   "id": "c8e46b48",
   "metadata": {
    "execution": {
     "iopub.execute_input": "2022-06-12T06:00:46.792569Z",
     "iopub.status.busy": "2022-06-12T06:00:46.792180Z",
     "iopub.status.idle": "2022-06-12T06:00:47.109069Z",
     "shell.execute_reply": "2022-06-12T06:00:47.109382Z"
    },
    "id": "c8e46b48",
    "papermill": {
     "duration": 0.336731,
     "end_time": "2022-06-12T06:00:47.109507",
     "exception": false,
     "start_time": "2022-06-12T06:00:46.772776",
     "status": "completed"
    },
    "tags": []
   },
   "outputs": [
    {
     "data": {
      "image/png": "[encoded data removed]",
      "text/plain": [
       "<Figure size 432x288 with 1 Axes>"
      ]
     },
     "metadata": {
      "needs_background": "light"
     },
     "output_type": "display_data"
    },
    {
     "data": {
      "image/png": "[encoded data removed]",
      "text/plain": [
       "<Figure size 432x288 with 1 Axes>"
      ]
     },
     "metadata": {
      "needs_background": "light"
     },
     "output_type": "display_data"
    },
    {
     "data": {
      "image/png": "[encoded data removed]",
      "text/plain": [
       "<Figure size 432x288 with 1 Axes>"
      ]
     },
     "metadata": {
      "needs_background": "light"
     },
     "output_type": "display_data"
    },
    {
     "data": {
      "image/png": "[encoded data removed]",
      "text/plain": [
       "<Figure size 432x288 with 1 Axes>"
      ]
     },
     "metadata": {
      "needs_background": "light"
     },
     "output_type": "display_data"
    }
   ],
   "source": [
    "sanityChecks.discProbVsError(train_data,disc3,device)\n",
    "sanityChecks.discProbVsError(test_data,disc3,device)"
   ]
  },
  {
   "cell_type": "markdown",
   "id": "a5bd74c3",
   "metadata": {
    "id": "a5bd74c3",
    "papermill": {
     "duration": 0.019583,
     "end_time": "2022-06-12T06:00:47.148993",
     "exception": false,
     "start_time": "2022-06-12T06:00:47.129410",
     "status": "completed"
    },
    "tags": []
   },
   "source": [
    "## Skip Connection Model Analysis - ABC-GAN "
   ]
  },
  {
   "cell_type": "markdown",
   "id": "5744a8bf",
   "metadata": {
    "id": "5744a8bf",
    "papermill": {
     "duration": 0.019059,
     "end_time": "2022-06-12T06:00:47.187158",
     "exception": false,
     "start_time": "2022-06-12T06:00:47.168099",
     "status": "completed"
    },
    "tags": []
   },
   "source": [
    "### Weight Analysis \n",
    "\n",
    "Study the weights of the skip connection layer\n",
    "\n",
    "Equation of the skip connection is \n",
    "\n",
    "$output = y_{gan} * w + y_{abc} * (1-w)$"
   ]
  },
  {
   "cell_type": "code",
   "execution_count": 19,
   "id": "52c31dea",
   "metadata": {
    "execution": {
     "iopub.execute_input": "2022-06-12T06:00:47.229110Z",
     "iopub.status.busy": "2022-06-12T06:00:47.228727Z",
     "iopub.status.idle": "2022-06-12T06:00:47.232177Z",
     "shell.execute_reply": "2022-06-12T06:00:47.232415Z"
    },
    "id": "52c31dea",
    "papermill": {
     "duration": 0.026357,
     "end_time": "2022-06-12T06:00:47.232530",
     "exception": false,
     "start_time": "2022-06-12T06:00:47.206173",
     "status": "completed"
    },
    "tags": []
   },
   "outputs": [
    {
     "name": "stdout",
     "output_type": "stream",
     "text": [
      "Weight of the node at skip connection\n",
      "Parameter containing:\n",
      "tensor([[0.1236]], requires_grad=True)\n"
     ]
    },
    {
     "data": {
      "application/scrapbook.scrap.json+json": {
       "data": 0.12362594157457352,
       "encoder": "json",
       "name": "Skip Connection Weight",
       "version": 1
      }
     },
     "metadata": {
      "scrapbook": {
       "data": true,
       "display": false,
       "name": "Skip Connection Weight"
      }
     },
     "output_type": "display_data"
    }
   ],
   "source": [
    "print(\"Weight of the node at skip connection\")\n",
    "for name,param in gen3.named_parameters():\n",
    "    if(name == \"skipNode.weight\"):\n",
    "        print(param)\n",
    "        sb.glue(\"Skip Connection Weight\",param.item())"
   ]
  }
 ],
 "metadata": {
  "colab": {
   "collapsed_sections": [],
   "name": "ABC_GAN_Model-Catboost_Pre-gen.ipynb",
   "provenance": []
  },
  "interpreter": {
   "hash": "31f2aee4e71d21fbe5cf8b01ff0e069b9275f58929596ceb00d14d90e3e16cd6"
  },
  "kernelspec": {
   "display_name": "Python 3 (ipykernel)",
   "language": "python",
   "name": "python3"
  },
  "language_info": {
   "codemirror_mode": {
    "name": "ipython",
    "version": 3
   },
   "file_extension": ".py",
   "mimetype": "text/x-python",
   "name": "python",
   "nbconvert_exporter": "python",
   "pygments_lexer": "ipython3",
   "version": "3.8.11"
  },
  "papermill": {
   "default_parameters": {},
   "duration": 252.177657,
   "end_time": "2022-06-12T06:00:47.559669",
   "environment_variables": {},
   "exception": null,
   "input_path": "ABC_GAN-Catboost.ipynb",
   "output_path": "./ABC_GAN_Catboost/ABC-GAN_output_6_7.ipynb",
   "parameters": {
    "bias": 0.01,
    "variance": 0.1
   },
   "start_time": "2022-06-12T05:56:35.382012",
   "version": "2.3.3"
  }
 },
 "nbformat": 4,
 "nbformat_minor": 5
}