{
 "cells": [
  {
   "cell_type": "markdown",
   "id": "622780e6",
   "metadata": {
    "id": "622780e6",
    "papermill": {
     "duration": 0.035685,
     "end_time": "2022-06-12T06:37:27.733069",
     "exception": false,
     "start_time": "2022-06-12T06:37:27.697384",
     "status": "completed"
    },
    "tags": []
   },
   "source": [
    "## Import Libraries "
   ]
  },
  {
   "cell_type": "code",
   "execution_count": 1,
   "id": "a62397e3",
   "metadata": {
    "execution": {
     "iopub.execute_input": "2022-06-12T06:37:27.768506Z",
     "iopub.status.busy": "2022-06-12T06:37:27.767930Z",
     "iopub.status.idle": "2022-06-12T06:37:27.770247Z",
     "shell.execute_reply": "2022-06-12T06:37:27.770590Z"
    },
    "id": "a62397e3",
    "papermill": {
     "duration": 0.02141,
     "end_time": "2022-06-12T06:37:27.770800",
     "exception": false,
     "start_time": "2022-06-12T06:37:27.749390",
     "status": "completed"
    },
    "tags": []
   },
   "outputs": [],
   "source": [
    "import warnings\n",
    "import sys\n",
    "sys.path.insert(0, '../../src')\n",
    "warnings.filterwarnings('ignore')"
   ]
  },
  {
   "cell_type": "code",
   "execution_count": 2,
   "id": "d6a4e155",
   "metadata": {
    "execution": {
     "iopub.execute_input": "2022-06-12T06:37:27.791731Z",
     "iopub.status.busy": "2022-06-12T06:37:27.791320Z",
     "iopub.status.idle": "2022-06-12T06:37:29.624239Z",
     "shell.execute_reply": "2022-06-12T06:37:29.624502Z"
    },
    "id": "d6a4e155",
    "papermill": {
     "duration": 1.844051,
     "end_time": "2022-06-12T06:37:29.624629",
     "exception": false,
     "start_time": "2022-06-12T06:37:27.780578",
     "status": "completed"
    },
    "tags": []
   },
   "outputs": [],
   "source": [
    "import ABC_train_test2\n",
    "import bostonDataset\n",
    "import network\n",
    "import dataset\n",
    "import sanityChecks\n",
    "import torch \n",
    "import scrapbook as sb\n",
    "from statistics import mean \n",
    "import catboost as ctb \n",
    "from sklearn.model_selection import train_test_split\n",
    "from sklearn.metrics import mean_squared_error,mean_absolute_error\n",
    "import numpy as np"
   ]
  },
  {
   "cell_type": "markdown",
   "id": "2fa5b0f7",
   "metadata": {
    "id": "2fa5b0f7",
    "papermill": {
     "duration": 0.006762,
     "end_time": "2022-06-12T06:37:29.638494",
     "exception": false,
     "start_time": "2022-06-12T06:37:29.631732",
     "status": "completed"
    },
    "tags": []
   },
   "source": [
    "## Parameters "
   ]
  },
  {
   "cell_type": "code",
   "execution_count": 3,
   "id": "783186fb",
   "metadata": {
    "execution": {
     "iopub.execute_input": "2022-06-12T06:37:29.654163Z",
     "iopub.status.busy": "2022-06-12T06:37:29.653772Z",
     "iopub.status.idle": "2022-06-12T06:37:29.654900Z",
     "shell.execute_reply": "2022-06-12T06:37:29.655142Z"
    },
    "id": "783186fb",
    "papermill": {
     "duration": 0.010031,
     "end_time": "2022-06-12T06:37:29.655248",
     "exception": false,
     "start_time": "2022-06-12T06:37:29.645217",
     "status": "completed"
    },
    "tags": [
     "parameters"
    ]
   },
   "outputs": [],
   "source": [
    "variance = 1\n",
    "bias = 1 "
   ]
  },
  {
   "cell_type": "code",
   "execution_count": 4,
   "id": "d43110d1",
   "metadata": {
    "execution": {
     "iopub.execute_input": "2022-06-12T06:37:29.670617Z",
     "iopub.status.busy": "2022-06-12T06:37:29.670263Z",
     "iopub.status.idle": "2022-06-12T06:37:29.671633Z",
     "shell.execute_reply": "2022-06-12T06:37:29.671877Z"
    },
    "papermill": {
     "duration": 0.009895,
     "end_time": "2022-06-12T06:37:29.671983",
     "exception": false,
     "start_time": "2022-06-12T06:37:29.662088",
     "status": "completed"
    },
    "tags": [
     "injected-parameters"
    ]
   },
   "outputs": [],
   "source": [
    "# Parameters\n",
    "variance = 0.01\n",
    "bias = 0.01\n"
   ]
  },
  {
   "cell_type": "markdown",
   "id": "391cdbfd",
   "metadata": {
    "id": "391cdbfd",
    "papermill": {
     "duration": 0.006718,
     "end_time": "2022-06-12T06:37:29.685599",
     "exception": false,
     "start_time": "2022-06-12T06:37:29.678881",
     "status": "completed"
    },
    "tags": []
   },
   "source": [
    "## Dataset \n"
   ]
  },
  {
   "cell_type": "code",
   "execution_count": 5,
   "id": "5b51f161",
   "metadata": {
    "execution": {
     "iopub.execute_input": "2022-06-12T06:37:29.701024Z",
     "iopub.status.busy": "2022-06-12T06:37:29.700652Z",
     "iopub.status.idle": "2022-06-12T06:37:29.701885Z",
     "shell.execute_reply": "2022-06-12T06:37:29.702120Z"
    },
    "id": "5b51f161",
    "papermill": {
     "duration": 0.009816,
     "end_time": "2022-06-12T06:37:29.702222",
     "exception": false,
     "start_time": "2022-06-12T06:37:29.692406",
     "status": "completed"
    },
    "tags": []
   },
   "outputs": [],
   "source": [
    "#Parameters \n",
    "n_features = 13\n",
    "n_samples= 506\n",
    "n_target = 1 "
   ]
  },
  {
   "cell_type": "code",
   "execution_count": 6,
   "id": "5d6eced4",
   "metadata": {
    "execution": {
     "iopub.execute_input": "2022-06-12T06:37:29.717789Z",
     "iopub.status.busy": "2022-06-12T06:37:29.717424Z",
     "iopub.status.idle": "2022-06-12T06:37:29.728187Z",
     "shell.execute_reply": "2022-06-12T06:37:29.728432Z"
    },
    "id": "5d6eced4",
    "papermill": {
     "duration": 0.019402,
     "end_time": "2022-06-12T06:37:29.728541",
     "exception": false,
     "start_time": "2022-06-12T06:37:29.709139",
     "status": "completed"
    },
    "tags": []
   },
   "outputs": [
    {
     "name": "stdout",
     "output_type": "stream",
     "text": [
      "         X1        X2        X3        X4        X5        X6        X7  \\\n",
      "0 -0.419782  0.284830 -1.287909 -0.272599 -0.144217  0.413672 -0.120013   \n",
      "1 -0.417339 -0.487722 -0.593381 -0.272599 -0.740262  0.194274  0.367166   \n",
      "2 -0.417342 -0.487722 -0.593381 -0.272599 -0.740262  1.282714 -0.265812   \n",
      "3 -0.416750 -0.487722 -1.306878 -0.272599 -0.835284  1.016303 -0.809889   \n",
      "4 -0.412482 -0.487722 -1.306878 -0.272599 -0.835284  1.228577 -0.511180   \n",
      "\n",
      "         X8        X9       X10       X11       X12       X13         Y  \n",
      "0  0.140214 -0.982843 -0.666608 -1.459000  0.441052 -1.075562  0.159686  \n",
      "1  0.557160 -0.867883 -0.987329 -0.303094  0.441052 -0.492439 -0.101524  \n",
      "2  0.557160 -0.867883 -0.987329 -0.303094  0.396427 -1.208727  1.324247  \n",
      "3  1.077737 -0.752922 -1.106115  0.113032  0.416163 -1.361517  1.182758  \n",
      "4  1.077737 -0.752922 -1.106115  0.113032  0.441052 -1.026501  1.487503  \n"
     ]
    }
   ],
   "source": [
    "X,Y = bostonDataset.boston_data()"
   ]
  },
  {
   "cell_type": "code",
   "execution_count": 7,
   "id": "fe007438",
   "metadata": {
    "execution": {
     "iopub.execute_input": "2022-06-12T06:37:29.745378Z",
     "iopub.status.busy": "2022-06-12T06:37:29.744824Z",
     "iopub.status.idle": "2022-06-12T06:37:29.746657Z",
     "shell.execute_reply": "2022-06-12T06:37:29.746888Z"
    },
    "id": "fe007438",
    "papermill": {
     "duration": 0.011159,
     "end_time": "2022-06-12T06:37:29.746993",
     "exception": false,
     "start_time": "2022-06-12T06:37:29.735834",
     "status": "completed"
    },
    "tags": []
   },
   "outputs": [],
   "source": [
    "#Train test split for dataset \n",
    "X_train,X_test,Y_train,Y_test = train_test_split(X,Y,test_size = 0.2)\n",
    "train_data = dataset.CustomDataset(X_train,Y_train)\n",
    "test_data = dataset.CustomDataset(X_test,Y_test)\n"
   ]
  },
  {
   "cell_type": "markdown",
   "id": "a9a1af34",
   "metadata": {
    "id": "a9a1af34",
    "papermill": {
     "duration": 0.007029,
     "end_time": "2022-06-12T06:37:29.761150",
     "exception": false,
     "start_time": "2022-06-12T06:37:29.754121",
     "status": "completed"
    },
    "tags": []
   },
   "source": [
    "## Training Parameters "
   ]
  },
  {
   "cell_type": "code",
   "execution_count": 8,
   "id": "952b7fc8",
   "metadata": {
    "execution": {
     "iopub.execute_input": "2022-06-12T06:37:29.777470Z",
     "iopub.status.busy": "2022-06-12T06:37:29.777111Z",
     "iopub.status.idle": "2022-06-12T06:37:29.778441Z",
     "shell.execute_reply": "2022-06-12T06:37:29.778689Z"
    },
    "id": "952b7fc8",
    "papermill": {
     "duration": 0.010595,
     "end_time": "2022-06-12T06:37:29.778795",
     "exception": false,
     "start_time": "2022-06-12T06:37:29.768200",
     "status": "completed"
    },
    "tags": []
   },
   "outputs": [],
   "source": [
    "batch_size = 32\n",
    "n_epochs = 1000\n",
    "#Select the device \n",
    "device = torch.device('cuda' if torch.cuda.is_available() else 'cpu')"
   ]
  },
  {
   "cell_type": "markdown",
   "id": "a95e1600",
   "metadata": {
    "id": "a95e1600",
    "papermill": {
     "duration": 0.007046,
     "end_time": "2022-06-12T06:37:29.793037",
     "exception": false,
     "start_time": "2022-06-12T06:37:29.785991",
     "status": "completed"
    },
    "tags": []
   },
   "source": [
    "# ABC Pre-generator Model \n",
    "\n",
    "1. The catboost model is used as a pre-generator model for the ABC-GAN. \n",
    "2. The model is first trained on the entire dataset \n",
    "3. It generats X,Y pairs and we add some Gaussian noise with mean 0 and variance 1 to it which is then feed as input to the generator.\n"
   ]
  },
  {
   "cell_type": "code",
   "execution_count": 9,
   "id": "ff8ce7bd",
   "metadata": {
    "execution": {
     "iopub.execute_input": "2022-06-12T06:37:29.811936Z",
     "iopub.status.busy": "2022-06-12T06:37:29.811539Z",
     "iopub.status.idle": "2022-06-12T06:37:30.768395Z",
     "shell.execute_reply": "2022-06-12T06:37:30.768692Z"
    },
    "id": "ff8ce7bd",
    "papermill": {
     "duration": 0.968636,
     "end_time": "2022-06-12T06:37:30.768818",
     "exception": false,
     "start_time": "2022-06-12T06:37:29.800182",
     "status": "completed"
    },
    "tags": []
   },
   "outputs": [
    {
     "name": "stdout",
     "output_type": "stream",
     "text": [
      "Learning rate set to 0.033215\n",
      "0:\tlearn: 0.9343730\ttotal: 57.4ms\tremaining: 57.3s\n",
      "1:\tlearn: 0.9175347\ttotal: 58.3ms\tremaining: 29.1s\n",
      "2:\tlearn: 0.8991434\ttotal: 59.1ms\tremaining: 19.7s\n",
      "3:\tlearn: 0.8830840\ttotal: 60.2ms\tremaining: 15s\n",
      "4:\tlearn: 0.8690601\ttotal: 61ms\tremaining: 12.1s\n",
      "5:\tlearn: 0.8530931\ttotal: 62.1ms\tremaining: 10.3s\n",
      "6:\tlearn: 0.8374966\ttotal: 62.8ms\tremaining: 8.91s\n",
      "7:\tlearn: 0.8224426\ttotal: 63.6ms\tremaining: 7.89s\n",
      "8:\tlearn: 0.8084983\ttotal: 64.5ms\tremaining: 7.1s\n",
      "9:\tlearn: 0.7933157\ttotal: 65.3ms\tremaining: 6.46s\n",
      "10:\tlearn: 0.7790899\ttotal: 66.1ms\tremaining: 5.94s\n",
      "11:\tlearn: 0.7666573\ttotal: 66.9ms\tremaining: 5.51s\n",
      "12:\tlearn: 0.7520816\ttotal: 67.7ms\tremaining: 5.14s\n",
      "13:\tlearn: 0.7379539\ttotal: 68.4ms\tremaining: 4.82s\n",
      "14:\tlearn: 0.7269229\ttotal: 69.3ms\tremaining: 4.55s\n",
      "15:\tlearn: 0.7156163\ttotal: 70.1ms\tremaining: 4.31s\n",
      "16:\tlearn: 0.7038287\ttotal: 71ms\tremaining: 4.11s\n",
      "17:\tlearn: 0.6922388\ttotal: 71.7ms\tremaining: 3.91s\n",
      "18:\tlearn: 0.6803965\ttotal: 72.5ms\tremaining: 3.74s\n",
      "19:\tlearn: 0.6690286\ttotal: 73.2ms\tremaining: 3.59s\n",
      "20:\tlearn: 0.6579627\ttotal: 74.2ms\tremaining: 3.46s\n",
      "21:\tlearn: 0.6483953\ttotal: 75ms\tremaining: 3.33s\n",
      "22:\tlearn: 0.6379097\ttotal: 75.8ms\tremaining: 3.22s\n",
      "23:\tlearn: 0.6289239\ttotal: 76.6ms\tremaining: 3.11s\n",
      "24:\tlearn: 0.6193025\ttotal: 77.4ms\tremaining: 3.02s\n",
      "25:\tlearn: 0.6114751\ttotal: 78.2ms\tremaining: 2.93s\n",
      "26:\tlearn: 0.6024007\ttotal: 79.1ms\tremaining: 2.85s\n",
      "27:\tlearn: 0.5943336\ttotal: 80ms\tremaining: 2.77s\n",
      "28:\tlearn: 0.5842987\ttotal: 80.7ms\tremaining: 2.7s\n",
      "29:\tlearn: 0.5750424\ttotal: 81.4ms\tremaining: 2.63s\n",
      "30:\tlearn: 0.5668598\ttotal: 82.1ms\tremaining: 2.57s\n",
      "31:\tlearn: 0.5600292\ttotal: 82.8ms\tremaining: 2.51s\n",
      "32:\tlearn: 0.5522707\ttotal: 83.6ms\tremaining: 2.45s\n",
      "33:\tlearn: 0.5452822\ttotal: 84.3ms\tremaining: 2.4s\n",
      "34:\tlearn: 0.5392483\ttotal: 85ms\tremaining: 2.34s\n",
      "35:\tlearn: 0.5320408\ttotal: 85.7ms\tremaining: 2.29s\n",
      "36:\tlearn: 0.5257328\ttotal: 86.4ms\tremaining: 2.25s\n",
      "37:\tlearn: 0.5191201\ttotal: 87.1ms\tremaining: 2.2s\n",
      "38:\tlearn: 0.5122604\ttotal: 87.8ms\tremaining: 2.16s\n",
      "39:\tlearn: 0.5056602\ttotal: 88.5ms\tremaining: 2.12s\n",
      "40:\tlearn: 0.4994726\ttotal: 89.2ms\tremaining: 2.09s\n",
      "41:\tlearn: 0.4940109\ttotal: 90ms\tremaining: 2.05s\n",
      "42:\tlearn: 0.4877021\ttotal: 90.6ms\tremaining: 2.02s\n",
      "43:\tlearn: 0.4832038\ttotal: 91.4ms\tremaining: 1.99s\n",
      "44:\tlearn: 0.4777881\ttotal: 92.2ms\tremaining: 1.96s\n",
      "45:\tlearn: 0.4732937\ttotal: 93.1ms\tremaining: 1.93s\n",
      "46:\tlearn: 0.4686613\ttotal: 94.2ms\tremaining: 1.91s\n",
      "47:\tlearn: 0.4630682\ttotal: 95.3ms\tremaining: 1.89s\n",
      "48:\tlearn: 0.4583433\ttotal: 96.3ms\tremaining: 1.87s\n",
      "49:\tlearn: 0.4533936\ttotal: 97.3ms\tremaining: 1.85s\n",
      "50:\tlearn: 0.4482699\ttotal: 98.2ms\tremaining: 1.83s\n",
      "51:\tlearn: 0.4441287\ttotal: 99.1ms\tremaining: 1.81s\n",
      "52:\tlearn: 0.4392730\ttotal: 100ms\tremaining: 1.79s\n",
      "53:\tlearn: 0.4349707\ttotal: 101ms\tremaining: 1.76s\n",
      "54:\tlearn: 0.4305864\ttotal: 102ms\tremaining: 1.75s\n",
      "55:\tlearn: 0.4260723\ttotal: 102ms\tremaining: 1.73s\n",
      "56:\tlearn: 0.4219952\ttotal: 103ms\tremaining: 1.71s\n",
      "57:\tlearn: 0.4176532\ttotal: 104ms\tremaining: 1.69s\n",
      "58:\tlearn: 0.4142090\ttotal: 105ms\tremaining: 1.68s\n",
      "59:\tlearn: 0.4110562\ttotal: 106ms\tremaining: 1.66s\n",
      "60:\tlearn: 0.4072010\ttotal: 107ms\tremaining: 1.64s\n"
     ]
    },
    {
     "name": "stdout",
     "output_type": "stream",
     "text": [
      "61:\tlearn: 0.4042113\ttotal: 109ms\tremaining: 1.64s\n",
      "62:\tlearn: 0.4003552\ttotal: 110ms\tremaining: 1.63s\n",
      "63:\tlearn: 0.3967799\ttotal: 110ms\tremaining: 1.61s\n",
      "64:\tlearn: 0.3929773\ttotal: 111ms\tremaining: 1.6s\n",
      "65:\tlearn: 0.3898739\ttotal: 112ms\tremaining: 1.59s\n",
      "66:\tlearn: 0.3867673\ttotal: 113ms\tremaining: 1.57s\n",
      "67:\tlearn: 0.3841122\ttotal: 114ms\tremaining: 1.56s\n",
      "68:\tlearn: 0.3810859\ttotal: 115ms\tremaining: 1.55s\n",
      "69:\tlearn: 0.3779222\ttotal: 115ms\tremaining: 1.53s\n",
      "70:\tlearn: 0.3746751\ttotal: 116ms\tremaining: 1.52s\n",
      "71:\tlearn: 0.3722840\ttotal: 117ms\tremaining: 1.51s\n",
      "72:\tlearn: 0.3694953\ttotal: 118ms\tremaining: 1.5s\n",
      "73:\tlearn: 0.3663022\ttotal: 119ms\tremaining: 1.48s\n",
      "74:\tlearn: 0.3638652\ttotal: 120ms\tremaining: 1.47s\n",
      "75:\tlearn: 0.3621432\ttotal: 120ms\tremaining: 1.46s\n",
      "76:\tlearn: 0.3595093\ttotal: 121ms\tremaining: 1.45s\n",
      "77:\tlearn: 0.3568701\ttotal: 122ms\tremaining: 1.44s\n",
      "78:\tlearn: 0.3544055\ttotal: 123ms\tremaining: 1.43s\n",
      "79:\tlearn: 0.3524280\ttotal: 124ms\tremaining: 1.42s\n",
      "80:\tlearn: 0.3507373\ttotal: 124ms\tremaining: 1.41s\n",
      "81:\tlearn: 0.3483367\ttotal: 125ms\tremaining: 1.4s\n",
      "82:\tlearn: 0.3453671\ttotal: 126ms\tremaining: 1.39s\n",
      "83:\tlearn: 0.3434783\ttotal: 127ms\tremaining: 1.39s\n",
      "84:\tlearn: 0.3413339\ttotal: 128ms\tremaining: 1.38s\n",
      "85:\tlearn: 0.3391280\ttotal: 129ms\tremaining: 1.37s\n",
      "86:\tlearn: 0.3368142\ttotal: 129ms\tremaining: 1.36s\n",
      "87:\tlearn: 0.3343358\ttotal: 130ms\tremaining: 1.35s\n",
      "88:\tlearn: 0.3321143\ttotal: 131ms\tremaining: 1.34s\n",
      "89:\tlearn: 0.3302607\ttotal: 132ms\tremaining: 1.33s\n",
      "90:\tlearn: 0.3282465\ttotal: 133ms\tremaining: 1.33s\n",
      "91:\tlearn: 0.3266628\ttotal: 134ms\tremaining: 1.32s\n",
      "92:\tlearn: 0.3251401\ttotal: 134ms\tremaining: 1.31s\n",
      "93:\tlearn: 0.3229234\ttotal: 135ms\tremaining: 1.3s\n",
      "94:\tlearn: 0.3216192\ttotal: 136ms\tremaining: 1.29s\n",
      "95:\tlearn: 0.3200254\ttotal: 137ms\tremaining: 1.29s\n",
      "96:\tlearn: 0.3187687\ttotal: 138ms\tremaining: 1.28s\n",
      "97:\tlearn: 0.3168467\ttotal: 138ms\tremaining: 1.27s\n",
      "98:\tlearn: 0.3153302\ttotal: 139ms\tremaining: 1.27s\n",
      "99:\tlearn: 0.3140595\ttotal: 140ms\tremaining: 1.26s\n",
      "100:\tlearn: 0.3130132\ttotal: 141ms\tremaining: 1.25s\n",
      "101:\tlearn: 0.3110336\ttotal: 142ms\tremaining: 1.25s\n",
      "102:\tlearn: 0.3095023\ttotal: 142ms\tremaining: 1.24s\n",
      "103:\tlearn: 0.3077228\ttotal: 143ms\tremaining: 1.23s\n",
      "104:\tlearn: 0.3054703\ttotal: 144ms\tremaining: 1.23s\n",
      "105:\tlearn: 0.3042616\ttotal: 145ms\tremaining: 1.22s\n",
      "106:\tlearn: 0.3031969\ttotal: 146ms\tremaining: 1.21s\n",
      "107:\tlearn: 0.3019124\ttotal: 146ms\tremaining: 1.21s\n",
      "108:\tlearn: 0.3006845\ttotal: 147ms\tremaining: 1.2s\n",
      "109:\tlearn: 0.2986733\ttotal: 148ms\tremaining: 1.2s\n",
      "110:\tlearn: 0.2972030\ttotal: 149ms\tremaining: 1.19s\n",
      "111:\tlearn: 0.2960355\ttotal: 150ms\tremaining: 1.19s\n",
      "112:\tlearn: 0.2949377\ttotal: 150ms\tremaining: 1.18s\n",
      "113:\tlearn: 0.2939365\ttotal: 151ms\tremaining: 1.18s\n",
      "114:\tlearn: 0.2926608\ttotal: 152ms\tremaining: 1.17s\n",
      "115:\tlearn: 0.2912726\ttotal: 153ms\tremaining: 1.16s\n",
      "116:\tlearn: 0.2900492\ttotal: 154ms\tremaining: 1.16s\n",
      "117:\tlearn: 0.2886871\ttotal: 154ms\tremaining: 1.15s\n",
      "118:\tlearn: 0.2875167\ttotal: 155ms\tremaining: 1.15s\n",
      "119:\tlearn: 0.2862239\ttotal: 156ms\tremaining: 1.14s\n",
      "120:\tlearn: 0.2849805\ttotal: 157ms\tremaining: 1.14s\n",
      "121:\tlearn: 0.2836004\ttotal: 158ms\tremaining: 1.13s\n",
      "122:\tlearn: 0.2825675\ttotal: 159ms\tremaining: 1.13s\n",
      "123:\tlearn: 0.2817621\ttotal: 159ms\tremaining: 1.13s\n",
      "124:\tlearn: 0.2805379\ttotal: 160ms\tremaining: 1.12s\n",
      "125:\tlearn: 0.2795252\ttotal: 161ms\tremaining: 1.11s\n",
      "126:\tlearn: 0.2786295\ttotal: 162ms\tremaining: 1.11s\n",
      "127:\tlearn: 0.2775892\ttotal: 162ms\tremaining: 1.11s\n",
      "128:\tlearn: 0.2763466\ttotal: 163ms\tremaining: 1.1s\n",
      "129:\tlearn: 0.2755357\ttotal: 164ms\tremaining: 1.1s\n",
      "130:\tlearn: 0.2745914\ttotal: 165ms\tremaining: 1.09s\n",
      "131:\tlearn: 0.2740140\ttotal: 166ms\tremaining: 1.09s\n",
      "132:\tlearn: 0.2729775\ttotal: 166ms\tremaining: 1.08s\n",
      "133:\tlearn: 0.2718796\ttotal: 167ms\tremaining: 1.08s\n",
      "134:\tlearn: 0.2710765\ttotal: 168ms\tremaining: 1.08s\n",
      "135:\tlearn: 0.2701182\ttotal: 169ms\tremaining: 1.07s\n",
      "136:\tlearn: 0.2693669\ttotal: 170ms\tremaining: 1.07s\n",
      "137:\tlearn: 0.2682956\ttotal: 171ms\tremaining: 1.06s\n",
      "138:\tlearn: 0.2675193\ttotal: 172ms\tremaining: 1.06s\n",
      "139:\tlearn: 0.2666246\ttotal: 172ms\tremaining: 1.06s\n",
      "140:\tlearn: 0.2656556\ttotal: 173ms\tremaining: 1.05s\n",
      "141:\tlearn: 0.2649091\ttotal: 174ms\tremaining: 1.05s\n",
      "142:\tlearn: 0.2645156\ttotal: 175ms\tremaining: 1.05s\n",
      "143:\tlearn: 0.2639490\ttotal: 176ms\tremaining: 1.04s\n",
      "144:\tlearn: 0.2633277\ttotal: 176ms\tremaining: 1.04s\n",
      "145:\tlearn: 0.2624936\ttotal: 177ms\tremaining: 1.04s\n",
      "146:\tlearn: 0.2618493\ttotal: 178ms\tremaining: 1.03s\n",
      "147:\tlearn: 0.2611078\ttotal: 179ms\tremaining: 1.03s\n",
      "148:\tlearn: 0.2601901\ttotal: 180ms\tremaining: 1.03s\n",
      "149:\tlearn: 0.2597466\ttotal: 181ms\tremaining: 1.02s\n",
      "150:\tlearn: 0.2591015\ttotal: 182ms\tremaining: 1.02s\n",
      "151:\tlearn: 0.2581817\ttotal: 182ms\tremaining: 1.02s\n",
      "152:\tlearn: 0.2575670\ttotal: 183ms\tremaining: 1.01s\n",
      "153:\tlearn: 0.2570908\ttotal: 184ms\tremaining: 1.01s\n",
      "154:\tlearn: 0.2563935\ttotal: 185ms\tremaining: 1.01s\n",
      "155:\tlearn: 0.2552374\ttotal: 186ms\tremaining: 1s\n",
      "156:\tlearn: 0.2540932\ttotal: 187ms\tremaining: 1s\n",
      "157:\tlearn: 0.2534320\ttotal: 187ms\tremaining: 998ms\n",
      "158:\tlearn: 0.2526408\ttotal: 188ms\tremaining: 995ms\n",
      "159:\tlearn: 0.2523174\ttotal: 189ms\tremaining: 993ms\n"
     ]
    },
    {
     "name": "stdout",
     "output_type": "stream",
     "text": [
      "160:\tlearn: 0.2516257\ttotal: 190ms\tremaining: 990ms\n",
      "161:\tlearn: 0.2514848\ttotal: 190ms\tremaining: 985ms\n",
      "162:\tlearn: 0.2505427\ttotal: 191ms\tremaining: 982ms\n",
      "163:\tlearn: 0.2498659\ttotal: 192ms\tremaining: 979ms\n",
      "164:\tlearn: 0.2491841\ttotal: 193ms\tremaining: 976ms\n",
      "165:\tlearn: 0.2486999\ttotal: 194ms\tremaining: 974ms\n",
      "166:\tlearn: 0.2480544\ttotal: 195ms\tremaining: 971ms\n",
      "167:\tlearn: 0.2476825\ttotal: 195ms\tremaining: 967ms\n",
      "168:\tlearn: 0.2471251\ttotal: 196ms\tremaining: 964ms\n",
      "169:\tlearn: 0.2462476\ttotal: 197ms\tremaining: 961ms\n",
      "170:\tlearn: 0.2456684\ttotal: 198ms\tremaining: 958ms\n",
      "171:\tlearn: 0.2450045\ttotal: 198ms\tremaining: 955ms\n",
      "172:\tlearn: 0.2443637\ttotal: 199ms\tremaining: 952ms\n",
      "173:\tlearn: 0.2438339\ttotal: 200ms\tremaining: 949ms\n",
      "174:\tlearn: 0.2433665\ttotal: 201ms\tremaining: 947ms\n",
      "175:\tlearn: 0.2427329\ttotal: 202ms\tremaining: 944ms\n",
      "176:\tlearn: 0.2425528\ttotal: 202ms\tremaining: 941ms\n",
      "177:\tlearn: 0.2416778\ttotal: 203ms\tremaining: 939ms\n",
      "178:\tlearn: 0.2409967\ttotal: 204ms\tremaining: 937ms\n",
      "179:\tlearn: 0.2404456\ttotal: 205ms\tremaining: 936ms\n",
      "180:\tlearn: 0.2396773\ttotal: 206ms\tremaining: 933ms\n",
      "181:\tlearn: 0.2389486\ttotal: 207ms\tremaining: 930ms\n",
      "182:\tlearn: 0.2384235\ttotal: 208ms\tremaining: 928ms\n",
      "183:\tlearn: 0.2373735\ttotal: 209ms\tremaining: 925ms\n",
      "184:\tlearn: 0.2368107\ttotal: 209ms\tremaining: 922ms\n",
      "185:\tlearn: 0.2362755\ttotal: 210ms\tremaining: 920ms\n",
      "186:\tlearn: 0.2361275\ttotal: 211ms\tremaining: 917ms\n",
      "187:\tlearn: 0.2354346\ttotal: 212ms\tremaining: 915ms\n",
      "188:\tlearn: 0.2348196\ttotal: 213ms\tremaining: 912ms\n",
      "189:\tlearn: 0.2340790\ttotal: 213ms\tremaining: 909ms\n",
      "190:\tlearn: 0.2335495\ttotal: 214ms\tremaining: 907ms\n",
      "191:\tlearn: 0.2332865\ttotal: 215ms\tremaining: 904ms\n",
      "192:\tlearn: 0.2323116\ttotal: 216ms\tremaining: 902ms\n",
      "193:\tlearn: 0.2316508\ttotal: 216ms\tremaining: 899ms\n",
      "194:\tlearn: 0.2310338\ttotal: 217ms\tremaining: 897ms\n",
      "195:\tlearn: 0.2304894\ttotal: 218ms\tremaining: 895ms\n",
      "196:\tlearn: 0.2298748\ttotal: 219ms\tremaining: 893ms\n",
      "197:\tlearn: 0.2292669\ttotal: 220ms\tremaining: 890ms\n",
      "198:\tlearn: 0.2284930\ttotal: 221ms\tremaining: 888ms\n",
      "199:\tlearn: 0.2276266\ttotal: 221ms\tremaining: 886ms\n",
      "200:\tlearn: 0.2270354\ttotal: 222ms\tremaining: 883ms\n",
      "201:\tlearn: 0.2264267\ttotal: 223ms\tremaining: 881ms\n",
      "202:\tlearn: 0.2260365\ttotal: 224ms\tremaining: 879ms\n",
      "203:\tlearn: 0.2255582\ttotal: 225ms\tremaining: 877ms\n",
      "204:\tlearn: 0.2252407\ttotal: 225ms\tremaining: 874ms\n",
      "205:\tlearn: 0.2247638\ttotal: 226ms\tremaining: 872ms\n",
      "206:\tlearn: 0.2244692\ttotal: 227ms\tremaining: 870ms\n",
      "207:\tlearn: 0.2239285\ttotal: 228ms\tremaining: 868ms\n",
      "208:\tlearn: 0.2237714\ttotal: 229ms\tremaining: 868ms\n",
      "209:\tlearn: 0.2233579\ttotal: 230ms\tremaining: 866ms\n",
      "210:\tlearn: 0.2227395\ttotal: 231ms\tremaining: 864ms\n",
      "211:\tlearn: 0.2224649\ttotal: 232ms\tremaining: 862ms\n",
      "212:\tlearn: 0.2222745\ttotal: 232ms\tremaining: 859ms\n",
      "213:\tlearn: 0.2218060\ttotal: 233ms\tremaining: 857ms\n",
      "214:\tlearn: 0.2207900\ttotal: 234ms\tremaining: 855ms\n",
      "215:\tlearn: 0.2203701\ttotal: 235ms\tremaining: 853ms\n",
      "216:\tlearn: 0.2199505\ttotal: 236ms\tremaining: 850ms\n",
      "217:\tlearn: 0.2195081\ttotal: 237ms\tremaining: 849ms\n",
      "218:\tlearn: 0.2191274\ttotal: 237ms\tremaining: 846ms\n",
      "219:\tlearn: 0.2187232\ttotal: 238ms\tremaining: 844ms\n",
      "220:\tlearn: 0.2182467\ttotal: 239ms\tremaining: 842ms\n",
      "221:\tlearn: 0.2178414\ttotal: 240ms\tremaining: 840ms\n",
      "222:\tlearn: 0.2172097\ttotal: 241ms\tremaining: 838ms\n",
      "223:\tlearn: 0.2169514\ttotal: 241ms\tremaining: 836ms\n",
      "224:\tlearn: 0.2165090\ttotal: 242ms\tremaining: 834ms\n",
      "225:\tlearn: 0.2162541\ttotal: 243ms\tremaining: 832ms\n",
      "226:\tlearn: 0.2157786\ttotal: 244ms\tremaining: 830ms\n",
      "227:\tlearn: 0.2153865\ttotal: 245ms\tremaining: 828ms\n",
      "228:\tlearn: 0.2149870\ttotal: 245ms\tremaining: 826ms\n",
      "229:\tlearn: 0.2147239\ttotal: 246ms\tremaining: 824ms\n",
      "230:\tlearn: 0.2145035\ttotal: 247ms\tremaining: 822ms\n",
      "231:\tlearn: 0.2141366\ttotal: 248ms\tremaining: 820ms\n",
      "232:\tlearn: 0.2135658\ttotal: 248ms\tremaining: 818ms\n",
      "233:\tlearn: 0.2133713\ttotal: 249ms\tremaining: 816ms\n",
      "234:\tlearn: 0.2129841\ttotal: 250ms\tremaining: 815ms\n",
      "235:\tlearn: 0.2124998\ttotal: 251ms\tremaining: 812ms\n",
      "236:\tlearn: 0.2120548\ttotal: 252ms\tremaining: 812ms\n",
      "237:\tlearn: 0.2116789\ttotal: 253ms\tremaining: 810ms\n",
      "238:\tlearn: 0.2113247\ttotal: 254ms\tremaining: 809ms\n",
      "239:\tlearn: 0.2106545\ttotal: 255ms\tremaining: 806ms\n",
      "240:\tlearn: 0.2105567\ttotal: 255ms\tremaining: 805ms\n",
      "241:\tlearn: 0.2102962\ttotal: 256ms\tremaining: 802ms\n",
      "242:\tlearn: 0.2099749\ttotal: 257ms\tremaining: 801ms\n",
      "243:\tlearn: 0.2094302\ttotal: 258ms\tremaining: 799ms\n",
      "244:\tlearn: 0.2091504\ttotal: 259ms\tremaining: 797ms\n",
      "245:\tlearn: 0.2088700\ttotal: 259ms\tremaining: 795ms\n",
      "246:\tlearn: 0.2086672\ttotal: 260ms\tremaining: 794ms\n",
      "247:\tlearn: 0.2080828\ttotal: 261ms\tremaining: 792ms\n",
      "248:\tlearn: 0.2077856\ttotal: 262ms\tremaining: 790ms\n",
      "249:\tlearn: 0.2071105\ttotal: 263ms\tremaining: 788ms\n",
      "250:\tlearn: 0.2067038\ttotal: 264ms\tremaining: 786ms\n",
      "251:\tlearn: 0.2059609\ttotal: 264ms\tremaining: 785ms\n",
      "252:\tlearn: 0.2055971\ttotal: 265ms\tremaining: 783ms\n",
      "253:\tlearn: 0.2051785\ttotal: 266ms\tremaining: 781ms\n",
      "254:\tlearn: 0.2047041\ttotal: 267ms\tremaining: 779ms\n",
      "255:\tlearn: 0.2043478\ttotal: 267ms\tremaining: 777ms\n",
      "256:\tlearn: 0.2038960\ttotal: 268ms\tremaining: 775ms\n",
      "257:\tlearn: 0.2034975\ttotal: 269ms\tremaining: 774ms\n",
      "258:\tlearn: 0.2030533\ttotal: 270ms\tremaining: 772ms\n",
      "259:\tlearn: 0.2027325\ttotal: 271ms\tremaining: 770ms\n",
      "260:\tlearn: 0.2022638\ttotal: 271ms\tremaining: 768ms\n",
      "261:\tlearn: 0.2018802\ttotal: 272ms\tremaining: 767ms\n",
      "262:\tlearn: 0.2016239\ttotal: 273ms\tremaining: 765ms\n",
      "263:\tlearn: 0.2012067\ttotal: 274ms\tremaining: 763ms\n",
      "264:\tlearn: 0.2008220\ttotal: 275ms\tremaining: 761ms\n",
      "265:\tlearn: 0.2005724\ttotal: 275ms\tremaining: 760ms\n",
      "266:\tlearn: 0.2001848\ttotal: 276ms\tremaining: 758ms\n",
      "267:\tlearn: 0.1999668\ttotal: 277ms\tremaining: 756ms\n",
      "268:\tlearn: 0.1995778\ttotal: 278ms\tremaining: 755ms\n",
      "269:\tlearn: 0.1991105\ttotal: 279ms\tremaining: 753ms\n",
      "270:\tlearn: 0.1989748\ttotal: 279ms\tremaining: 751ms\n",
      "271:\tlearn: 0.1986511\ttotal: 280ms\tremaining: 750ms\n",
      "272:\tlearn: 0.1982180\ttotal: 281ms\tremaining: 748ms\n",
      "273:\tlearn: 0.1980089\ttotal: 282ms\tremaining: 747ms\n",
      "274:\tlearn: 0.1975020\ttotal: 282ms\tremaining: 745ms\n",
      "275:\tlearn: 0.1973290\ttotal: 283ms\tremaining: 743ms\n",
      "276:\tlearn: 0.1968654\ttotal: 284ms\tremaining: 741ms\n",
      "277:\tlearn: 0.1964336\ttotal: 285ms\tremaining: 740ms\n",
      "278:\tlearn: 0.1959243\ttotal: 286ms\tremaining: 738ms\n",
      "279:\tlearn: 0.1957571\ttotal: 286ms\tremaining: 737ms\n",
      "280:\tlearn: 0.1954682\ttotal: 287ms\tremaining: 735ms\n",
      "281:\tlearn: 0.1950483\ttotal: 288ms\tremaining: 734ms\n",
      "282:\tlearn: 0.1947241\ttotal: 289ms\tremaining: 732ms\n",
      "283:\tlearn: 0.1944310\ttotal: 290ms\tremaining: 731ms\n",
      "284:\tlearn: 0.1942152\ttotal: 291ms\tremaining: 729ms\n",
      "285:\tlearn: 0.1936353\ttotal: 291ms\tremaining: 728ms\n",
      "286:\tlearn: 0.1933682\ttotal: 292ms\tremaining: 726ms\n",
      "287:\tlearn: 0.1931866\ttotal: 293ms\tremaining: 725ms\n",
      "288:\tlearn: 0.1929543\ttotal: 294ms\tremaining: 723ms\n",
      "289:\tlearn: 0.1926337\ttotal: 295ms\tremaining: 722ms\n",
      "290:\tlearn: 0.1922464\ttotal: 296ms\tremaining: 721ms\n",
      "291:\tlearn: 0.1919120\ttotal: 297ms\tremaining: 719ms\n",
      "292:\tlearn: 0.1914301\ttotal: 297ms\tremaining: 718ms\n",
      "293:\tlearn: 0.1911993\ttotal: 298ms\tremaining: 716ms\n"
     ]
    },
    {
     "name": "stdout",
     "output_type": "stream",
     "text": [
      "294:\tlearn: 0.1908077\ttotal: 300ms\tremaining: 716ms\n",
      "295:\tlearn: 0.1903412\ttotal: 301ms\tremaining: 715ms\n",
      "296:\tlearn: 0.1898707\ttotal: 301ms\tremaining: 713ms\n",
      "297:\tlearn: 0.1896520\ttotal: 302ms\tremaining: 712ms\n",
      "298:\tlearn: 0.1892334\ttotal: 303ms\tremaining: 710ms\n",
      "299:\tlearn: 0.1887119\ttotal: 304ms\tremaining: 709ms\n",
      "300:\tlearn: 0.1881701\ttotal: 304ms\tremaining: 707ms\n",
      "301:\tlearn: 0.1877212\ttotal: 306ms\tremaining: 707ms\n",
      "302:\tlearn: 0.1875370\ttotal: 307ms\tremaining: 705ms\n",
      "303:\tlearn: 0.1870255\ttotal: 307ms\tremaining: 704ms\n",
      "304:\tlearn: 0.1865988\ttotal: 308ms\tremaining: 702ms\n",
      "305:\tlearn: 0.1862400\ttotal: 309ms\tremaining: 701ms\n",
      "306:\tlearn: 0.1860766\ttotal: 310ms\tremaining: 700ms\n",
      "307:\tlearn: 0.1858091\ttotal: 311ms\tremaining: 698ms\n",
      "308:\tlearn: 0.1855564\ttotal: 312ms\tremaining: 697ms\n",
      "309:\tlearn: 0.1853722\ttotal: 312ms\tremaining: 695ms\n",
      "310:\tlearn: 0.1848850\ttotal: 313ms\tremaining: 694ms\n",
      "311:\tlearn: 0.1845150\ttotal: 314ms\tremaining: 693ms\n",
      "312:\tlearn: 0.1841088\ttotal: 315ms\tremaining: 691ms\n",
      "313:\tlearn: 0.1837335\ttotal: 316ms\tremaining: 690ms\n",
      "314:\tlearn: 0.1834915\ttotal: 316ms\tremaining: 688ms\n",
      "315:\tlearn: 0.1833135\ttotal: 317ms\tremaining: 686ms\n",
      "316:\tlearn: 0.1830598\ttotal: 318ms\tremaining: 685ms\n",
      "317:\tlearn: 0.1826011\ttotal: 319ms\tremaining: 683ms\n",
      "318:\tlearn: 0.1820397\ttotal: 319ms\tremaining: 682ms\n",
      "319:\tlearn: 0.1818173\ttotal: 320ms\tremaining: 681ms\n",
      "320:\tlearn: 0.1816512\ttotal: 321ms\tremaining: 679ms\n",
      "321:\tlearn: 0.1813369\ttotal: 322ms\tremaining: 677ms\n",
      "322:\tlearn: 0.1809682\ttotal: 322ms\tremaining: 676ms\n",
      "323:\tlearn: 0.1808344\ttotal: 323ms\tremaining: 675ms\n",
      "324:\tlearn: 0.1806433\ttotal: 324ms\tremaining: 673ms\n",
      "325:\tlearn: 0.1802935\ttotal: 325ms\tremaining: 672ms\n",
      "326:\tlearn: 0.1799827\ttotal: 326ms\tremaining: 671ms\n",
      "327:\tlearn: 0.1796002\ttotal: 327ms\tremaining: 669ms\n",
      "328:\tlearn: 0.1789617\ttotal: 327ms\tremaining: 668ms\n",
      "329:\tlearn: 0.1785040\ttotal: 328ms\tremaining: 666ms\n",
      "330:\tlearn: 0.1779131\ttotal: 329ms\tremaining: 665ms\n",
      "331:\tlearn: 0.1775067\ttotal: 330ms\tremaining: 663ms\n",
      "332:\tlearn: 0.1773811\ttotal: 331ms\tremaining: 662ms\n",
      "333:\tlearn: 0.1772207\ttotal: 331ms\tremaining: 661ms\n",
      "334:\tlearn: 0.1768041\ttotal: 332ms\tremaining: 660ms\n",
      "335:\tlearn: 0.1765011\ttotal: 333ms\tremaining: 658ms\n",
      "336:\tlearn: 0.1763002\ttotal: 334ms\tremaining: 657ms\n",
      "337:\tlearn: 0.1759378\ttotal: 335ms\tremaining: 655ms\n",
      "338:\tlearn: 0.1755649\ttotal: 335ms\tremaining: 654ms\n",
      "339:\tlearn: 0.1751969\ttotal: 336ms\tremaining: 653ms\n",
      "340:\tlearn: 0.1747836\ttotal: 337ms\tremaining: 651ms\n",
      "341:\tlearn: 0.1741662\ttotal: 338ms\tremaining: 650ms\n",
      "342:\tlearn: 0.1736395\ttotal: 339ms\tremaining: 649ms\n",
      "343:\tlearn: 0.1734618\ttotal: 340ms\tremaining: 648ms\n",
      "344:\tlearn: 0.1730717\ttotal: 340ms\tremaining: 646ms\n",
      "345:\tlearn: 0.1723707\ttotal: 341ms\tremaining: 645ms\n",
      "346:\tlearn: 0.1719905\ttotal: 342ms\tremaining: 644ms\n",
      "347:\tlearn: 0.1717631\ttotal: 343ms\tremaining: 642ms\n",
      "348:\tlearn: 0.1711256\ttotal: 344ms\tremaining: 641ms\n",
      "349:\tlearn: 0.1706862\ttotal: 345ms\tremaining: 640ms\n",
      "350:\tlearn: 0.1702987\ttotal: 345ms\tremaining: 638ms\n",
      "351:\tlearn: 0.1700110\ttotal: 346ms\tremaining: 637ms\n",
      "352:\tlearn: 0.1695433\ttotal: 347ms\tremaining: 636ms\n",
      "353:\tlearn: 0.1691881\ttotal: 348ms\tremaining: 634ms\n",
      "354:\tlearn: 0.1685448\ttotal: 348ms\tremaining: 633ms\n",
      "355:\tlearn: 0.1684131\ttotal: 349ms\tremaining: 632ms\n",
      "356:\tlearn: 0.1682295\ttotal: 350ms\tremaining: 630ms\n",
      "357:\tlearn: 0.1678361\ttotal: 351ms\tremaining: 629ms\n",
      "358:\tlearn: 0.1674558\ttotal: 352ms\tremaining: 628ms\n",
      "359:\tlearn: 0.1673060\ttotal: 352ms\tremaining: 626ms\n",
      "360:\tlearn: 0.1668458\ttotal: 353ms\tremaining: 625ms\n",
      "361:\tlearn: 0.1664507\ttotal: 354ms\tremaining: 624ms\n",
      "362:\tlearn: 0.1660613\ttotal: 356ms\tremaining: 624ms\n",
      "363:\tlearn: 0.1656684\ttotal: 356ms\tremaining: 623ms\n",
      "364:\tlearn: 0.1654270\ttotal: 357ms\tremaining: 622ms\n",
      "365:\tlearn: 0.1651533\ttotal: 358ms\tremaining: 620ms\n",
      "366:\tlearn: 0.1647973\ttotal: 359ms\tremaining: 619ms\n",
      "367:\tlearn: 0.1645152\ttotal: 360ms\tremaining: 618ms\n",
      "368:\tlearn: 0.1642303\ttotal: 361ms\tremaining: 617ms\n",
      "369:\tlearn: 0.1638890\ttotal: 361ms\tremaining: 615ms\n",
      "370:\tlearn: 0.1634539\ttotal: 362ms\tremaining: 614ms\n",
      "371:\tlearn: 0.1629476\ttotal: 363ms\tremaining: 613ms\n",
      "372:\tlearn: 0.1626406\ttotal: 364ms\tremaining: 612ms\n",
      "373:\tlearn: 0.1624483\ttotal: 365ms\tremaining: 610ms\n",
      "374:\tlearn: 0.1620273\ttotal: 366ms\tremaining: 609ms\n",
      "375:\tlearn: 0.1618564\ttotal: 366ms\tremaining: 608ms\n",
      "376:\tlearn: 0.1617105\ttotal: 367ms\tremaining: 607ms\n",
      "377:\tlearn: 0.1615959\ttotal: 368ms\tremaining: 606ms\n",
      "378:\tlearn: 0.1612393\ttotal: 369ms\tremaining: 604ms\n",
      "379:\tlearn: 0.1608024\ttotal: 370ms\tremaining: 603ms\n",
      "380:\tlearn: 0.1603558\ttotal: 371ms\tremaining: 602ms\n",
      "381:\tlearn: 0.1601683\ttotal: 371ms\tremaining: 601ms\n",
      "382:\tlearn: 0.1599441\ttotal: 372ms\tremaining: 599ms\n",
      "383:\tlearn: 0.1593730\ttotal: 373ms\tremaining: 598ms\n",
      "384:\tlearn: 0.1590068\ttotal: 374ms\tremaining: 597ms\n",
      "385:\tlearn: 0.1585635\ttotal: 374ms\tremaining: 596ms\n",
      "386:\tlearn: 0.1583464\ttotal: 375ms\tremaining: 594ms\n",
      "387:\tlearn: 0.1580903\ttotal: 376ms\tremaining: 593ms\n",
      "388:\tlearn: 0.1577569\ttotal: 377ms\tremaining: 592ms\n",
      "389:\tlearn: 0.1573049\ttotal: 378ms\tremaining: 591ms\n",
      "390:\tlearn: 0.1571811\ttotal: 378ms\tremaining: 589ms\n",
      "391:\tlearn: 0.1568370\ttotal: 379ms\tremaining: 588ms\n"
     ]
    },
    {
     "name": "stdout",
     "output_type": "stream",
     "text": [
      "392:\tlearn: 0.1565851\ttotal: 380ms\tremaining: 587ms\n",
      "393:\tlearn: 0.1563710\ttotal: 381ms\tremaining: 587ms\n",
      "394:\tlearn: 0.1559342\ttotal: 382ms\tremaining: 585ms\n",
      "395:\tlearn: 0.1557011\ttotal: 383ms\tremaining: 584ms\n",
      "396:\tlearn: 0.1553448\ttotal: 384ms\tremaining: 583ms\n",
      "397:\tlearn: 0.1551672\ttotal: 385ms\tremaining: 582ms\n",
      "398:\tlearn: 0.1550419\ttotal: 386ms\tremaining: 581ms\n",
      "399:\tlearn: 0.1547956\ttotal: 386ms\tremaining: 579ms\n",
      "400:\tlearn: 0.1542797\ttotal: 387ms\tremaining: 578ms\n",
      "401:\tlearn: 0.1541254\ttotal: 388ms\tremaining: 577ms\n",
      "402:\tlearn: 0.1539212\ttotal: 389ms\tremaining: 576ms\n",
      "403:\tlearn: 0.1535193\ttotal: 390ms\tremaining: 575ms\n",
      "404:\tlearn: 0.1531760\ttotal: 390ms\tremaining: 574ms\n",
      "405:\tlearn: 0.1528360\ttotal: 391ms\tremaining: 572ms\n",
      "406:\tlearn: 0.1526298\ttotal: 392ms\tremaining: 571ms\n",
      "407:\tlearn: 0.1521600\ttotal: 393ms\tremaining: 570ms\n",
      "408:\tlearn: 0.1518569\ttotal: 394ms\tremaining: 569ms\n",
      "409:\tlearn: 0.1515072\ttotal: 394ms\tremaining: 568ms\n",
      "410:\tlearn: 0.1512271\ttotal: 395ms\tremaining: 566ms\n",
      "411:\tlearn: 0.1507995\ttotal: 396ms\tremaining: 565ms\n",
      "412:\tlearn: 0.1505197\ttotal: 397ms\tremaining: 564ms\n",
      "413:\tlearn: 0.1501905\ttotal: 398ms\tremaining: 563ms\n",
      "414:\tlearn: 0.1498106\ttotal: 399ms\tremaining: 562ms\n",
      "415:\tlearn: 0.1495587\ttotal: 399ms\tremaining: 561ms\n",
      "416:\tlearn: 0.1491692\ttotal: 400ms\tremaining: 560ms\n",
      "417:\tlearn: 0.1489602\ttotal: 401ms\tremaining: 558ms\n",
      "418:\tlearn: 0.1486188\ttotal: 402ms\tremaining: 557ms\n",
      "419:\tlearn: 0.1482321\ttotal: 403ms\tremaining: 556ms\n",
      "420:\tlearn: 0.1480427\ttotal: 404ms\tremaining: 555ms\n",
      "421:\tlearn: 0.1476292\ttotal: 404ms\tremaining: 554ms\n",
      "422:\tlearn: 0.1473294\ttotal: 405ms\tremaining: 553ms\n",
      "423:\tlearn: 0.1471356\ttotal: 406ms\tremaining: 552ms\n",
      "424:\tlearn: 0.1467408\ttotal: 407ms\tremaining: 550ms\n",
      "425:\tlearn: 0.1464549\ttotal: 407ms\tremaining: 549ms\n",
      "426:\tlearn: 0.1460891\ttotal: 408ms\tremaining: 548ms\n",
      "427:\tlearn: 0.1457827\ttotal: 409ms\tremaining: 547ms\n",
      "428:\tlearn: 0.1453800\ttotal: 410ms\tremaining: 545ms\n",
      "429:\tlearn: 0.1451900\ttotal: 411ms\tremaining: 544ms\n",
      "430:\tlearn: 0.1449956\ttotal: 411ms\tremaining: 543ms\n",
      "431:\tlearn: 0.1446981\ttotal: 412ms\tremaining: 542ms\n",
      "432:\tlearn: 0.1444518\ttotal: 413ms\tremaining: 541ms\n",
      "433:\tlearn: 0.1441972\ttotal: 414ms\tremaining: 540ms\n",
      "434:\tlearn: 0.1440801\ttotal: 415ms\tremaining: 539ms\n",
      "435:\tlearn: 0.1439646\ttotal: 416ms\tremaining: 539ms\n",
      "436:\tlearn: 0.1437029\ttotal: 417ms\tremaining: 537ms\n",
      "437:\tlearn: 0.1433214\ttotal: 418ms\tremaining: 536ms\n",
      "438:\tlearn: 0.1432134\ttotal: 419ms\tremaining: 535ms\n",
      "439:\tlearn: 0.1429014\ttotal: 419ms\tremaining: 534ms\n",
      "440:\tlearn: 0.1425836\ttotal: 420ms\tremaining: 533ms\n",
      "441:\tlearn: 0.1423458\ttotal: 421ms\tremaining: 532ms\n",
      "442:\tlearn: 0.1420790\ttotal: 422ms\tremaining: 531ms\n",
      "443:\tlearn: 0.1417466\ttotal: 423ms\tremaining: 530ms\n",
      "444:\tlearn: 0.1414846\ttotal: 424ms\tremaining: 529ms\n",
      "445:\tlearn: 0.1413829\ttotal: 425ms\tremaining: 528ms\n",
      "446:\tlearn: 0.1411529\ttotal: 426ms\tremaining: 526ms\n",
      "447:\tlearn: 0.1408953\ttotal: 426ms\tremaining: 525ms\n",
      "448:\tlearn: 0.1405793\ttotal: 427ms\tremaining: 524ms\n",
      "449:\tlearn: 0.1403152\ttotal: 428ms\tremaining: 523ms\n",
      "450:\tlearn: 0.1400463\ttotal: 429ms\tremaining: 522ms\n",
      "451:\tlearn: 0.1397261\ttotal: 430ms\tremaining: 521ms\n",
      "452:\tlearn: 0.1394424\ttotal: 430ms\tremaining: 520ms\n",
      "453:\tlearn: 0.1391726\ttotal: 431ms\tremaining: 518ms\n",
      "454:\tlearn: 0.1389237\ttotal: 432ms\tremaining: 517ms\n",
      "455:\tlearn: 0.1386705\ttotal: 433ms\tremaining: 516ms\n",
      "456:\tlearn: 0.1383183\ttotal: 434ms\tremaining: 515ms\n",
      "457:\tlearn: 0.1381236\ttotal: 434ms\tremaining: 514ms\n",
      "458:\tlearn: 0.1378210\ttotal: 435ms\tremaining: 513ms\n",
      "459:\tlearn: 0.1374686\ttotal: 436ms\tremaining: 512ms\n",
      "460:\tlearn: 0.1372792\ttotal: 437ms\tremaining: 511ms\n",
      "461:\tlearn: 0.1370606\ttotal: 438ms\tremaining: 509ms\n",
      "462:\tlearn: 0.1367765\ttotal: 438ms\tremaining: 508ms\n",
      "463:\tlearn: 0.1365022\ttotal: 439ms\tremaining: 507ms\n",
      "464:\tlearn: 0.1361967\ttotal: 440ms\tremaining: 506ms\n",
      "465:\tlearn: 0.1359081\ttotal: 441ms\tremaining: 505ms\n",
      "466:\tlearn: 0.1356092\ttotal: 441ms\tremaining: 504ms\n",
      "467:\tlearn: 0.1352586\ttotal: 442ms\tremaining: 503ms\n",
      "468:\tlearn: 0.1349725\ttotal: 443ms\tremaining: 502ms\n",
      "469:\tlearn: 0.1346630\ttotal: 444ms\tremaining: 500ms\n",
      "470:\tlearn: 0.1344008\ttotal: 445ms\tremaining: 499ms\n",
      "471:\tlearn: 0.1341306\ttotal: 445ms\tremaining: 498ms\n",
      "472:\tlearn: 0.1338875\ttotal: 446ms\tremaining: 497ms\n",
      "473:\tlearn: 0.1336949\ttotal: 447ms\tremaining: 496ms\n",
      "474:\tlearn: 0.1334687\ttotal: 448ms\tremaining: 495ms\n",
      "475:\tlearn: 0.1332058\ttotal: 449ms\tremaining: 494ms\n",
      "476:\tlearn: 0.1329151\ttotal: 450ms\tremaining: 493ms\n",
      "477:\tlearn: 0.1325774\ttotal: 450ms\tremaining: 492ms\n",
      "478:\tlearn: 0.1323902\ttotal: 451ms\tremaining: 491ms\n",
      "479:\tlearn: 0.1321468\ttotal: 452ms\tremaining: 490ms\n",
      "480:\tlearn: 0.1319347\ttotal: 453ms\tremaining: 488ms\n",
      "481:\tlearn: 0.1316775\ttotal: 453ms\tremaining: 487ms\n",
      "482:\tlearn: 0.1314785\ttotal: 455ms\tremaining: 487ms\n",
      "483:\tlearn: 0.1312323\ttotal: 456ms\tremaining: 486ms\n",
      "484:\tlearn: 0.1308892\ttotal: 456ms\tremaining: 485ms\n",
      "485:\tlearn: 0.1306769\ttotal: 457ms\tremaining: 484ms\n",
      "486:\tlearn: 0.1303328\ttotal: 458ms\tremaining: 483ms\n",
      "487:\tlearn: 0.1301235\ttotal: 459ms\tremaining: 482ms\n",
      "488:\tlearn: 0.1300086\ttotal: 460ms\tremaining: 481ms\n",
      "489:\tlearn: 0.1297805\ttotal: 461ms\tremaining: 480ms\n",
      "490:\tlearn: 0.1294988\ttotal: 462ms\tremaining: 479ms\n",
      "491:\tlearn: 0.1293891\ttotal: 463ms\tremaining: 478ms\n",
      "492:\tlearn: 0.1291566\ttotal: 464ms\tremaining: 477ms\n",
      "493:\tlearn: 0.1288541\ttotal: 464ms\tremaining: 476ms\n",
      "494:\tlearn: 0.1286900\ttotal: 465ms\tremaining: 475ms\n",
      "495:\tlearn: 0.1285120\ttotal: 466ms\tremaining: 474ms\n",
      "496:\tlearn: 0.1282709\ttotal: 467ms\tremaining: 473ms\n",
      "497:\tlearn: 0.1280552\ttotal: 468ms\tremaining: 472ms\n",
      "498:\tlearn: 0.1278636\ttotal: 469ms\tremaining: 471ms\n",
      "499:\tlearn: 0.1276739\ttotal: 470ms\tremaining: 470ms\n",
      "500:\tlearn: 0.1274355\ttotal: 470ms\tremaining: 468ms\n",
      "501:\tlearn: 0.1272131\ttotal: 471ms\tremaining: 467ms\n",
      "502:\tlearn: 0.1268565\ttotal: 472ms\tremaining: 466ms\n",
      "503:\tlearn: 0.1267541\ttotal: 473ms\tremaining: 465ms\n",
      "504:\tlearn: 0.1266660\ttotal: 474ms\tremaining: 464ms\n",
      "505:\tlearn: 0.1263491\ttotal: 474ms\tremaining: 463ms\n",
      "506:\tlearn: 0.1261895\ttotal: 476ms\tremaining: 463ms\n",
      "507:\tlearn: 0.1260381\ttotal: 477ms\tremaining: 462ms\n",
      "508:\tlearn: 0.1259561\ttotal: 477ms\tremaining: 461ms\n",
      "509:\tlearn: 0.1256979\ttotal: 478ms\tremaining: 459ms\n",
      "510:\tlearn: 0.1255580\ttotal: 479ms\tremaining: 458ms\n",
      "511:\tlearn: 0.1253162\ttotal: 480ms\tremaining: 457ms\n",
      "512:\tlearn: 0.1250583\ttotal: 480ms\tremaining: 456ms\n",
      "513:\tlearn: 0.1247742\ttotal: 481ms\tremaining: 455ms\n",
      "514:\tlearn: 0.1244998\ttotal: 482ms\tremaining: 454ms\n",
      "515:\tlearn: 0.1243465\ttotal: 483ms\tremaining: 453ms\n",
      "516:\tlearn: 0.1242357\ttotal: 484ms\tremaining: 452ms\n",
      "517:\tlearn: 0.1239359\ttotal: 485ms\tremaining: 451ms\n",
      "518:\tlearn: 0.1237363\ttotal: 485ms\tremaining: 450ms\n",
      "519:\tlearn: 0.1235299\ttotal: 486ms\tremaining: 449ms\n",
      "520:\tlearn: 0.1233465\ttotal: 487ms\tremaining: 448ms\n",
      "521:\tlearn: 0.1231766\ttotal: 488ms\tremaining: 447ms\n",
      "522:\tlearn: 0.1230050\ttotal: 489ms\tremaining: 446ms\n"
     ]
    },
    {
     "name": "stdout",
     "output_type": "stream",
     "text": [
      "523:\tlearn: 0.1227323\ttotal: 490ms\tremaining: 445ms\n",
      "524:\tlearn: 0.1224640\ttotal: 491ms\tremaining: 444ms\n",
      "525:\tlearn: 0.1222130\ttotal: 492ms\tremaining: 443ms\n",
      "526:\tlearn: 0.1219717\ttotal: 493ms\tremaining: 442ms\n",
      "527:\tlearn: 0.1217405\ttotal: 493ms\tremaining: 441ms\n",
      "528:\tlearn: 0.1215253\ttotal: 494ms\tremaining: 440ms\n",
      "529:\tlearn: 0.1213284\ttotal: 495ms\tremaining: 439ms\n",
      "530:\tlearn: 0.1210380\ttotal: 496ms\tremaining: 438ms\n",
      "531:\tlearn: 0.1208012\ttotal: 497ms\tremaining: 437ms\n",
      "532:\tlearn: 0.1206214\ttotal: 498ms\tremaining: 436ms\n",
      "533:\tlearn: 0.1204034\ttotal: 499ms\tremaining: 435ms\n",
      "534:\tlearn: 0.1202957\ttotal: 499ms\tremaining: 434ms\n",
      "535:\tlearn: 0.1200085\ttotal: 500ms\tremaining: 433ms\n",
      "536:\tlearn: 0.1198713\ttotal: 501ms\tremaining: 432ms\n",
      "537:\tlearn: 0.1197280\ttotal: 502ms\tremaining: 431ms\n",
      "538:\tlearn: 0.1194882\ttotal: 503ms\tremaining: 430ms\n",
      "539:\tlearn: 0.1193296\ttotal: 503ms\tremaining: 429ms\n",
      "540:\tlearn: 0.1191200\ttotal: 504ms\tremaining: 428ms\n",
      "541:\tlearn: 0.1190414\ttotal: 505ms\tremaining: 427ms\n",
      "542:\tlearn: 0.1188115\ttotal: 506ms\tremaining: 426ms\n",
      "543:\tlearn: 0.1185914\ttotal: 507ms\tremaining: 425ms\n",
      "544:\tlearn: 0.1184540\ttotal: 508ms\tremaining: 424ms\n",
      "545:\tlearn: 0.1181823\ttotal: 509ms\tremaining: 423ms\n",
      "546:\tlearn: 0.1179358\ttotal: 510ms\tremaining: 422ms\n",
      "547:\tlearn: 0.1177196\ttotal: 511ms\tremaining: 421ms\n",
      "548:\tlearn: 0.1174525\ttotal: 512ms\tremaining: 420ms\n",
      "549:\tlearn: 0.1171413\ttotal: 513ms\tremaining: 419ms\n",
      "550:\tlearn: 0.1169481\ttotal: 513ms\tremaining: 418ms\n",
      "551:\tlearn: 0.1168192\ttotal: 514ms\tremaining: 417ms\n",
      "552:\tlearn: 0.1166138\ttotal: 515ms\tremaining: 416ms\n",
      "553:\tlearn: 0.1164680\ttotal: 516ms\tremaining: 415ms\n",
      "554:\tlearn: 0.1163784\ttotal: 517ms\tremaining: 414ms\n",
      "555:\tlearn: 0.1161867\ttotal: 518ms\tremaining: 413ms\n",
      "556:\tlearn: 0.1160750\ttotal: 518ms\tremaining: 412ms\n",
      "557:\tlearn: 0.1157948\ttotal: 519ms\tremaining: 411ms\n",
      "558:\tlearn: 0.1155498\ttotal: 520ms\tremaining: 410ms\n",
      "559:\tlearn: 0.1154093\ttotal: 521ms\tremaining: 409ms\n",
      "560:\tlearn: 0.1152731\ttotal: 522ms\tremaining: 408ms\n",
      "561:\tlearn: 0.1151844\ttotal: 523ms\tremaining: 407ms\n",
      "562:\tlearn: 0.1150390\ttotal: 523ms\tremaining: 406ms\n",
      "563:\tlearn: 0.1149445\ttotal: 524ms\tremaining: 405ms\n",
      "564:\tlearn: 0.1148732\ttotal: 525ms\tremaining: 404ms\n",
      "565:\tlearn: 0.1146462\ttotal: 526ms\tremaining: 403ms\n",
      "566:\tlearn: 0.1144020\ttotal: 527ms\tremaining: 402ms\n",
      "567:\tlearn: 0.1142621\ttotal: 528ms\tremaining: 401ms\n",
      "568:\tlearn: 0.1141291\ttotal: 529ms\tremaining: 400ms\n",
      "569:\tlearn: 0.1138923\ttotal: 529ms\tremaining: 399ms\n",
      "570:\tlearn: 0.1138008\ttotal: 530ms\tremaining: 398ms\n",
      "571:\tlearn: 0.1136667\ttotal: 531ms\tremaining: 397ms\n",
      "572:\tlearn: 0.1135178\ttotal: 532ms\tremaining: 396ms\n",
      "573:\tlearn: 0.1133376\ttotal: 533ms\tremaining: 395ms\n",
      "574:\tlearn: 0.1131827\ttotal: 534ms\tremaining: 394ms\n",
      "575:\tlearn: 0.1129640\ttotal: 534ms\tremaining: 393ms\n",
      "576:\tlearn: 0.1128319\ttotal: 535ms\tremaining: 392ms\n",
      "577:\tlearn: 0.1125926\ttotal: 536ms\tremaining: 391ms\n",
      "578:\tlearn: 0.1123624\ttotal: 537ms\tremaining: 390ms\n",
      "579:\tlearn: 0.1122985\ttotal: 538ms\tremaining: 389ms\n",
      "580:\tlearn: 0.1121364\ttotal: 539ms\tremaining: 388ms\n",
      "581:\tlearn: 0.1118479\ttotal: 539ms\tremaining: 387ms\n",
      "582:\tlearn: 0.1117961\ttotal: 540ms\tremaining: 386ms\n",
      "583:\tlearn: 0.1116666\ttotal: 542ms\tremaining: 386ms\n",
      "584:\tlearn: 0.1114536\ttotal: 542ms\tremaining: 385ms\n",
      "585:\tlearn: 0.1113743\ttotal: 543ms\tremaining: 384ms\n",
      "586:\tlearn: 0.1112913\ttotal: 544ms\tremaining: 383ms\n",
      "587:\tlearn: 0.1111062\ttotal: 545ms\tremaining: 382ms\n",
      "588:\tlearn: 0.1109081\ttotal: 546ms\tremaining: 381ms\n",
      "589:\tlearn: 0.1106290\ttotal: 547ms\tremaining: 380ms\n",
      "590:\tlearn: 0.1104270\ttotal: 548ms\tremaining: 379ms\n",
      "591:\tlearn: 0.1102308\ttotal: 549ms\tremaining: 378ms\n",
      "592:\tlearn: 0.1101103\ttotal: 549ms\tremaining: 377ms\n",
      "593:\tlearn: 0.1100461\ttotal: 550ms\tremaining: 376ms\n",
      "594:\tlearn: 0.1098471\ttotal: 551ms\tremaining: 375ms\n",
      "595:\tlearn: 0.1096247\ttotal: 552ms\tremaining: 374ms\n",
      "596:\tlearn: 0.1094284\ttotal: 553ms\tremaining: 373ms\n",
      "597:\tlearn: 0.1092891\ttotal: 554ms\tremaining: 372ms\n",
      "598:\tlearn: 0.1090806\ttotal: 555ms\tremaining: 371ms\n",
      "599:\tlearn: 0.1090160\ttotal: 555ms\tremaining: 370ms\n",
      "600:\tlearn: 0.1088323\ttotal: 556ms\tremaining: 369ms\n",
      "601:\tlearn: 0.1087130\ttotal: 557ms\tremaining: 368ms\n",
      "602:\tlearn: 0.1085289\ttotal: 558ms\tremaining: 367ms\n",
      "603:\tlearn: 0.1082987\ttotal: 559ms\tremaining: 366ms\n",
      "604:\tlearn: 0.1081741\ttotal: 559ms\tremaining: 365ms\n",
      "605:\tlearn: 0.1080769\ttotal: 560ms\tremaining: 364ms\n",
      "606:\tlearn: 0.1078329\ttotal: 561ms\tremaining: 363ms\n",
      "607:\tlearn: 0.1076903\ttotal: 562ms\tremaining: 362ms\n",
      "608:\tlearn: 0.1075406\ttotal: 563ms\tremaining: 361ms\n",
      "609:\tlearn: 0.1074541\ttotal: 564ms\tremaining: 360ms\n",
      "610:\tlearn: 0.1073069\ttotal: 565ms\tremaining: 359ms\n",
      "611:\tlearn: 0.1070881\ttotal: 565ms\tremaining: 358ms\n",
      "612:\tlearn: 0.1068678\ttotal: 566ms\tremaining: 357ms\n",
      "613:\tlearn: 0.1067474\ttotal: 567ms\tremaining: 356ms\n",
      "614:\tlearn: 0.1066927\ttotal: 568ms\tremaining: 355ms\n",
      "615:\tlearn: 0.1063836\ttotal: 569ms\tremaining: 354ms\n",
      "616:\tlearn: 0.1061766\ttotal: 570ms\tremaining: 354ms\n"
     ]
    },
    {
     "name": "stdout",
     "output_type": "stream",
     "text": [
      "617:\tlearn: 0.1059760\ttotal: 571ms\tremaining: 353ms\n",
      "618:\tlearn: 0.1057990\ttotal: 571ms\tremaining: 352ms\n",
      "619:\tlearn: 0.1056904\ttotal: 572ms\tremaining: 351ms\n",
      "620:\tlearn: 0.1055431\ttotal: 573ms\tremaining: 350ms\n",
      "621:\tlearn: 0.1053841\ttotal: 574ms\tremaining: 349ms\n",
      "622:\tlearn: 0.1051814\ttotal: 575ms\tremaining: 348ms\n",
      "623:\tlearn: 0.1050493\ttotal: 575ms\tremaining: 347ms\n",
      "624:\tlearn: 0.1049062\ttotal: 576ms\tremaining: 346ms\n",
      "625:\tlearn: 0.1048372\ttotal: 577ms\tremaining: 345ms\n",
      "626:\tlearn: 0.1046845\ttotal: 578ms\tremaining: 344ms\n",
      "627:\tlearn: 0.1044971\ttotal: 579ms\tremaining: 343ms\n",
      "628:\tlearn: 0.1043519\ttotal: 580ms\tremaining: 342ms\n",
      "629:\tlearn: 0.1041922\ttotal: 581ms\tremaining: 341ms\n",
      "630:\tlearn: 0.1040447\ttotal: 581ms\tremaining: 340ms\n",
      "631:\tlearn: 0.1039510\ttotal: 582ms\tremaining: 339ms\n",
      "632:\tlearn: 0.1037979\ttotal: 583ms\tremaining: 338ms\n",
      "633:\tlearn: 0.1036212\ttotal: 584ms\tremaining: 337ms\n",
      "634:\tlearn: 0.1034679\ttotal: 585ms\tremaining: 336ms\n",
      "635:\tlearn: 0.1033065\ttotal: 586ms\tremaining: 336ms\n",
      "636:\tlearn: 0.1031502\ttotal: 587ms\tremaining: 335ms\n",
      "637:\tlearn: 0.1030718\ttotal: 588ms\tremaining: 334ms\n",
      "638:\tlearn: 0.1029166\ttotal: 589ms\tremaining: 333ms\n",
      "639:\tlearn: 0.1027402\ttotal: 589ms\tremaining: 332ms\n",
      "640:\tlearn: 0.1025249\ttotal: 590ms\tremaining: 331ms\n",
      "641:\tlearn: 0.1023317\ttotal: 591ms\tremaining: 330ms\n",
      "642:\tlearn: 0.1021569\ttotal: 592ms\tremaining: 329ms\n",
      "643:\tlearn: 0.1020242\ttotal: 593ms\tremaining: 328ms\n",
      "644:\tlearn: 0.1019501\ttotal: 594ms\tremaining: 327ms\n",
      "645:\tlearn: 0.1018835\ttotal: 595ms\tremaining: 326ms\n",
      "646:\tlearn: 0.1017088\ttotal: 596ms\tremaining: 325ms\n",
      "647:\tlearn: 0.1015700\ttotal: 596ms\tremaining: 324ms\n",
      "648:\tlearn: 0.1014729\ttotal: 597ms\tremaining: 323ms\n",
      "649:\tlearn: 0.1013984\ttotal: 598ms\tremaining: 322ms\n",
      "650:\tlearn: 0.1013044\ttotal: 599ms\tremaining: 321ms\n",
      "651:\tlearn: 0.1011507\ttotal: 600ms\tremaining: 320ms\n",
      "652:\tlearn: 0.1010058\ttotal: 601ms\tremaining: 319ms\n",
      "653:\tlearn: 0.1007554\ttotal: 602ms\tremaining: 318ms\n",
      "654:\tlearn: 0.1005800\ttotal: 602ms\tremaining: 317ms\n",
      "655:\tlearn: 0.1003673\ttotal: 603ms\tremaining: 316ms\n",
      "656:\tlearn: 0.1001240\ttotal: 604ms\tremaining: 316ms\n",
      "657:\tlearn: 0.0999163\ttotal: 605ms\tremaining: 315ms\n",
      "658:\tlearn: 0.0997307\ttotal: 606ms\tremaining: 314ms\n",
      "659:\tlearn: 0.0995338\ttotal: 607ms\tremaining: 313ms\n",
      "660:\tlearn: 0.0993409\ttotal: 608ms\tremaining: 312ms\n",
      "661:\tlearn: 0.0991319\ttotal: 609ms\tremaining: 311ms\n",
      "662:\tlearn: 0.0990302\ttotal: 610ms\tremaining: 310ms\n",
      "663:\tlearn: 0.0987958\ttotal: 610ms\tremaining: 309ms\n",
      "664:\tlearn: 0.0985913\ttotal: 611ms\tremaining: 308ms\n",
      "665:\tlearn: 0.0984571\ttotal: 612ms\tremaining: 307ms\n",
      "666:\tlearn: 0.0982666\ttotal: 613ms\tremaining: 306ms\n",
      "667:\tlearn: 0.0981045\ttotal: 613ms\tremaining: 305ms\n",
      "668:\tlearn: 0.0979877\ttotal: 614ms\tremaining: 304ms\n",
      "669:\tlearn: 0.0978072\ttotal: 615ms\tremaining: 303ms\n",
      "670:\tlearn: 0.0976324\ttotal: 616ms\tremaining: 302ms\n",
      "671:\tlearn: 0.0974464\ttotal: 617ms\tremaining: 301ms\n",
      "672:\tlearn: 0.0972759\ttotal: 618ms\tremaining: 300ms\n",
      "673:\tlearn: 0.0971295\ttotal: 618ms\tremaining: 299ms\n",
      "674:\tlearn: 0.0968812\ttotal: 619ms\tremaining: 298ms\n",
      "675:\tlearn: 0.0968096\ttotal: 620ms\tremaining: 297ms\n",
      "676:\tlearn: 0.0966983\ttotal: 621ms\tremaining: 296ms\n",
      "677:\tlearn: 0.0966059\ttotal: 622ms\tremaining: 295ms\n",
      "678:\tlearn: 0.0963949\ttotal: 622ms\tremaining: 294ms\n",
      "679:\tlearn: 0.0961792\ttotal: 623ms\tremaining: 293ms\n",
      "680:\tlearn: 0.0960419\ttotal: 624ms\tremaining: 292ms\n",
      "681:\tlearn: 0.0959328\ttotal: 625ms\tremaining: 291ms\n",
      "682:\tlearn: 0.0957925\ttotal: 626ms\tremaining: 291ms\n",
      "683:\tlearn: 0.0957473\ttotal: 627ms\tremaining: 290ms\n",
      "684:\tlearn: 0.0955423\ttotal: 628ms\tremaining: 289ms\n",
      "685:\tlearn: 0.0954307\ttotal: 628ms\tremaining: 288ms\n",
      "686:\tlearn: 0.0952617\ttotal: 629ms\tremaining: 287ms\n",
      "687:\tlearn: 0.0951278\ttotal: 630ms\tremaining: 286ms\n",
      "688:\tlearn: 0.0950137\ttotal: 631ms\tremaining: 285ms\n",
      "689:\tlearn: 0.0948549\ttotal: 632ms\tremaining: 284ms\n",
      "690:\tlearn: 0.0947939\ttotal: 632ms\tremaining: 283ms\n",
      "691:\tlearn: 0.0946450\ttotal: 633ms\tremaining: 282ms\n",
      "692:\tlearn: 0.0945319\ttotal: 634ms\tremaining: 281ms\n",
      "693:\tlearn: 0.0943509\ttotal: 635ms\tremaining: 280ms\n",
      "694:\tlearn: 0.0941779\ttotal: 636ms\tremaining: 279ms\n",
      "695:\tlearn: 0.0940645\ttotal: 637ms\tremaining: 278ms\n",
      "696:\tlearn: 0.0940023\ttotal: 638ms\tremaining: 277ms\n",
      "697:\tlearn: 0.0938542\ttotal: 639ms\tremaining: 276ms\n",
      "698:\tlearn: 0.0937578\ttotal: 640ms\tremaining: 275ms\n",
      "699:\tlearn: 0.0935233\ttotal: 641ms\tremaining: 275ms\n",
      "700:\tlearn: 0.0933602\ttotal: 642ms\tremaining: 274ms\n",
      "701:\tlearn: 0.0932432\ttotal: 642ms\tremaining: 273ms\n",
      "702:\tlearn: 0.0929476\ttotal: 644ms\tremaining: 272ms\n",
      "703:\tlearn: 0.0927598\ttotal: 644ms\tremaining: 271ms\n",
      "704:\tlearn: 0.0926900\ttotal: 645ms\tremaining: 270ms\n",
      "705:\tlearn: 0.0925674\ttotal: 646ms\tremaining: 269ms\n",
      "706:\tlearn: 0.0925561\ttotal: 647ms\tremaining: 268ms\n",
      "707:\tlearn: 0.0923441\ttotal: 648ms\tremaining: 267ms\n",
      "708:\tlearn: 0.0922035\ttotal: 649ms\tremaining: 266ms\n",
      "709:\tlearn: 0.0920978\ttotal: 650ms\tremaining: 265ms\n",
      "710:\tlearn: 0.0919621\ttotal: 650ms\tremaining: 264ms\n",
      "711:\tlearn: 0.0918846\ttotal: 651ms\tremaining: 263ms\n",
      "712:\tlearn: 0.0918102\ttotal: 652ms\tremaining: 262ms\n",
      "713:\tlearn: 0.0916034\ttotal: 653ms\tremaining: 262ms\n",
      "714:\tlearn: 0.0915126\ttotal: 654ms\tremaining: 261ms\n",
      "715:\tlearn: 0.0913238\ttotal: 654ms\tremaining: 260ms\n",
      "716:\tlearn: 0.0912168\ttotal: 655ms\tremaining: 259ms\n",
      "717:\tlearn: 0.0910502\ttotal: 656ms\tremaining: 258ms\n",
      "718:\tlearn: 0.0909976\ttotal: 657ms\tremaining: 257ms\n",
      "719:\tlearn: 0.0909394\ttotal: 658ms\tremaining: 256ms\n",
      "720:\tlearn: 0.0908263\ttotal: 659ms\tremaining: 255ms\n",
      "721:\tlearn: 0.0907414\ttotal: 659ms\tremaining: 254ms\n",
      "722:\tlearn: 0.0907031\ttotal: 660ms\tremaining: 253ms\n",
      "723:\tlearn: 0.0906064\ttotal: 661ms\tremaining: 252ms\n",
      "724:\tlearn: 0.0905152\ttotal: 662ms\tremaining: 251ms\n",
      "725:\tlearn: 0.0904282\ttotal: 663ms\tremaining: 250ms\n",
      "726:\tlearn: 0.0902636\ttotal: 664ms\tremaining: 249ms\n",
      "727:\tlearn: 0.0901625\ttotal: 665ms\tremaining: 249ms\n",
      "728:\tlearn: 0.0901124\ttotal: 666ms\tremaining: 248ms\n",
      "729:\tlearn: 0.0899969\ttotal: 667ms\tremaining: 247ms\n",
      "730:\tlearn: 0.0898876\ttotal: 668ms\tremaining: 246ms\n",
      "731:\tlearn: 0.0897821\ttotal: 669ms\tremaining: 245ms\n",
      "732:\tlearn: 0.0895914\ttotal: 670ms\tremaining: 244ms\n",
      "733:\tlearn: 0.0894210\ttotal: 670ms\tremaining: 243ms\n",
      "734:\tlearn: 0.0892242\ttotal: 671ms\tremaining: 242ms\n",
      "735:\tlearn: 0.0890574\ttotal: 672ms\tremaining: 241ms\n",
      "736:\tlearn: 0.0889825\ttotal: 673ms\tremaining: 240ms\n",
      "737:\tlearn: 0.0888785\ttotal: 674ms\tremaining: 239ms\n",
      "738:\tlearn: 0.0887682\ttotal: 675ms\tremaining: 238ms\n",
      "739:\tlearn: 0.0886724\ttotal: 676ms\tremaining: 237ms\n",
      "740:\tlearn: 0.0884343\ttotal: 676ms\tremaining: 236ms\n",
      "741:\tlearn: 0.0882496\ttotal: 677ms\tremaining: 235ms\n",
      "742:\tlearn: 0.0880775\ttotal: 678ms\tremaining: 234ms\n",
      "743:\tlearn: 0.0879536\ttotal: 679ms\tremaining: 234ms\n",
      "744:\tlearn: 0.0879020\ttotal: 680ms\tremaining: 233ms\n"
     ]
    },
    {
     "name": "stdout",
     "output_type": "stream",
     "text": [
      "745:\tlearn: 0.0877858\ttotal: 681ms\tremaining: 232ms\n",
      "746:\tlearn: 0.0875961\ttotal: 682ms\tremaining: 231ms\n",
      "747:\tlearn: 0.0874426\ttotal: 683ms\tremaining: 230ms\n",
      "748:\tlearn: 0.0873137\ttotal: 684ms\tremaining: 229ms\n",
      "749:\tlearn: 0.0871734\ttotal: 684ms\tremaining: 228ms\n",
      "750:\tlearn: 0.0870458\ttotal: 685ms\tremaining: 227ms\n",
      "751:\tlearn: 0.0869975\ttotal: 686ms\tremaining: 226ms\n",
      "752:\tlearn: 0.0868618\ttotal: 687ms\tremaining: 225ms\n",
      "753:\tlearn: 0.0866755\ttotal: 688ms\tremaining: 224ms\n",
      "754:\tlearn: 0.0865725\ttotal: 688ms\tremaining: 223ms\n",
      "755:\tlearn: 0.0864161\ttotal: 689ms\tremaining: 222ms\n",
      "756:\tlearn: 0.0862457\ttotal: 690ms\tremaining: 222ms\n",
      "757:\tlearn: 0.0861563\ttotal: 691ms\tremaining: 221ms\n",
      "758:\tlearn: 0.0860561\ttotal: 692ms\tremaining: 220ms\n",
      "759:\tlearn: 0.0858725\ttotal: 693ms\tremaining: 219ms\n",
      "760:\tlearn: 0.0857332\ttotal: 693ms\tremaining: 218ms\n",
      "761:\tlearn: 0.0855637\ttotal: 694ms\tremaining: 217ms\n",
      "762:\tlearn: 0.0854262\ttotal: 695ms\tremaining: 216ms\n",
      "763:\tlearn: 0.0853059\ttotal: 696ms\tremaining: 215ms\n",
      "764:\tlearn: 0.0850744\ttotal: 697ms\tremaining: 214ms\n",
      "765:\tlearn: 0.0849118\ttotal: 698ms\tremaining: 213ms\n",
      "766:\tlearn: 0.0847511\ttotal: 699ms\tremaining: 212ms\n",
      "767:\tlearn: 0.0845853\ttotal: 700ms\tremaining: 211ms\n",
      "768:\tlearn: 0.0843547\ttotal: 700ms\tremaining: 210ms\n",
      "769:\tlearn: 0.0842489\ttotal: 701ms\tremaining: 209ms\n",
      "770:\tlearn: 0.0840831\ttotal: 702ms\tremaining: 209ms\n",
      "771:\tlearn: 0.0839646\ttotal: 703ms\tremaining: 208ms\n",
      "772:\tlearn: 0.0838684\ttotal: 704ms\tremaining: 207ms\n",
      "773:\tlearn: 0.0838030\ttotal: 704ms\tremaining: 206ms\n",
      "774:\tlearn: 0.0836718\ttotal: 705ms\tremaining: 205ms\n",
      "775:\tlearn: 0.0836428\ttotal: 706ms\tremaining: 204ms\n",
      "776:\tlearn: 0.0835520\ttotal: 707ms\tremaining: 203ms\n",
      "777:\tlearn: 0.0834120\ttotal: 707ms\tremaining: 202ms\n",
      "778:\tlearn: 0.0832147\ttotal: 708ms\tremaining: 201ms\n",
      "779:\tlearn: 0.0830631\ttotal: 709ms\tremaining: 200ms\n",
      "780:\tlearn: 0.0829626\ttotal: 710ms\tremaining: 199ms\n",
      "781:\tlearn: 0.0828456\ttotal: 710ms\tremaining: 198ms\n",
      "782:\tlearn: 0.0827154\ttotal: 711ms\tremaining: 197ms\n",
      "783:\tlearn: 0.0826607\ttotal: 712ms\tremaining: 196ms\n",
      "784:\tlearn: 0.0826052\ttotal: 713ms\tremaining: 195ms\n",
      "785:\tlearn: 0.0825111\ttotal: 714ms\tremaining: 194ms\n",
      "786:\tlearn: 0.0824219\ttotal: 715ms\tremaining: 193ms\n",
      "787:\tlearn: 0.0823488\ttotal: 715ms\tremaining: 192ms\n",
      "788:\tlearn: 0.0822953\ttotal: 716ms\tremaining: 192ms\n",
      "789:\tlearn: 0.0821392\ttotal: 717ms\tremaining: 191ms\n",
      "790:\tlearn: 0.0820379\ttotal: 718ms\tremaining: 190ms\n",
      "791:\tlearn: 0.0818723\ttotal: 718ms\tremaining: 189ms\n",
      "792:\tlearn: 0.0817172\ttotal: 719ms\tremaining: 188ms\n",
      "793:\tlearn: 0.0815932\ttotal: 720ms\tremaining: 187ms\n",
      "794:\tlearn: 0.0814942\ttotal: 721ms\tremaining: 186ms\n",
      "795:\tlearn: 0.0813656\ttotal: 722ms\tremaining: 185ms\n",
      "796:\tlearn: 0.0812155\ttotal: 723ms\tremaining: 184ms\n",
      "797:\tlearn: 0.0810237\ttotal: 723ms\tremaining: 183ms\n",
      "798:\tlearn: 0.0808910\ttotal: 724ms\tremaining: 182ms\n",
      "799:\tlearn: 0.0807346\ttotal: 725ms\tremaining: 181ms\n",
      "800:\tlearn: 0.0806462\ttotal: 726ms\tremaining: 180ms\n",
      "801:\tlearn: 0.0805642\ttotal: 727ms\tremaining: 179ms\n",
      "802:\tlearn: 0.0803990\ttotal: 728ms\tremaining: 179ms\n",
      "803:\tlearn: 0.0802804\ttotal: 729ms\tremaining: 178ms\n",
      "804:\tlearn: 0.0802502\ttotal: 729ms\tremaining: 177ms\n",
      "805:\tlearn: 0.0801550\ttotal: 730ms\tremaining: 176ms\n",
      "806:\tlearn: 0.0799919\ttotal: 731ms\tremaining: 175ms\n",
      "807:\tlearn: 0.0798436\ttotal: 733ms\tremaining: 174ms\n",
      "808:\tlearn: 0.0797840\ttotal: 733ms\tremaining: 173ms\n",
      "809:\tlearn: 0.0797106\ttotal: 734ms\tremaining: 172ms\n",
      "810:\tlearn: 0.0795692\ttotal: 735ms\tremaining: 171ms\n",
      "811:\tlearn: 0.0795183\ttotal: 736ms\tremaining: 170ms\n",
      "812:\tlearn: 0.0793509\ttotal: 737ms\tremaining: 169ms\n",
      "813:\tlearn: 0.0791982\ttotal: 738ms\tremaining: 169ms\n",
      "814:\tlearn: 0.0791085\ttotal: 738ms\tremaining: 168ms\n",
      "815:\tlearn: 0.0790329\ttotal: 739ms\tremaining: 167ms\n",
      "816:\tlearn: 0.0789036\ttotal: 740ms\tremaining: 166ms\n",
      "817:\tlearn: 0.0788574\ttotal: 741ms\tremaining: 165ms\n",
      "818:\tlearn: 0.0787569\ttotal: 742ms\tremaining: 164ms\n",
      "819:\tlearn: 0.0786379\ttotal: 743ms\tremaining: 163ms\n",
      "820:\tlearn: 0.0786153\ttotal: 744ms\tremaining: 162ms\n",
      "821:\tlearn: 0.0785307\ttotal: 744ms\tremaining: 161ms\n",
      "822:\tlearn: 0.0784155\ttotal: 745ms\tremaining: 160ms\n",
      "823:\tlearn: 0.0783798\ttotal: 746ms\tremaining: 159ms\n",
      "824:\tlearn: 0.0782728\ttotal: 747ms\tremaining: 158ms\n",
      "825:\tlearn: 0.0780751\ttotal: 748ms\tremaining: 157ms\n",
      "826:\tlearn: 0.0779631\ttotal: 748ms\tremaining: 157ms\n",
      "827:\tlearn: 0.0777269\ttotal: 749ms\tremaining: 156ms\n",
      "828:\tlearn: 0.0777018\ttotal: 750ms\tremaining: 155ms\n",
      "829:\tlearn: 0.0775799\ttotal: 751ms\tremaining: 154ms\n",
      "830:\tlearn: 0.0774492\ttotal: 752ms\tremaining: 153ms\n",
      "831:\tlearn: 0.0772815\ttotal: 753ms\tremaining: 152ms\n",
      "832:\tlearn: 0.0771619\ttotal: 754ms\tremaining: 151ms\n",
      "833:\tlearn: 0.0771304\ttotal: 754ms\tremaining: 150ms\n",
      "834:\tlearn: 0.0770171\ttotal: 755ms\tremaining: 149ms\n",
      "835:\tlearn: 0.0768920\ttotal: 756ms\tremaining: 148ms\n",
      "836:\tlearn: 0.0768371\ttotal: 757ms\tremaining: 147ms\n",
      "837:\tlearn: 0.0767638\ttotal: 758ms\tremaining: 146ms\n",
      "838:\tlearn: 0.0766766\ttotal: 759ms\tremaining: 146ms\n",
      "839:\tlearn: 0.0766036\ttotal: 759ms\tremaining: 145ms\n",
      "840:\tlearn: 0.0764130\ttotal: 760ms\tremaining: 144ms\n"
     ]
    },
    {
     "name": "stdout",
     "output_type": "stream",
     "text": [
      "841:\tlearn: 0.0762593\ttotal: 761ms\tremaining: 143ms\n",
      "842:\tlearn: 0.0762170\ttotal: 762ms\tremaining: 142ms\n",
      "843:\tlearn: 0.0761407\ttotal: 763ms\tremaining: 141ms\n",
      "844:\tlearn: 0.0759939\ttotal: 763ms\tremaining: 140ms\n",
      "845:\tlearn: 0.0759303\ttotal: 764ms\tremaining: 139ms\n",
      "846:\tlearn: 0.0758312\ttotal: 765ms\tremaining: 138ms\n",
      "847:\tlearn: 0.0756933\ttotal: 766ms\tremaining: 137ms\n",
      "848:\tlearn: 0.0755472\ttotal: 767ms\tremaining: 136ms\n",
      "849:\tlearn: 0.0755001\ttotal: 768ms\tremaining: 136ms\n",
      "850:\tlearn: 0.0753948\ttotal: 769ms\tremaining: 135ms\n",
      "851:\tlearn: 0.0752571\ttotal: 770ms\tremaining: 134ms\n",
      "852:\tlearn: 0.0751101\ttotal: 770ms\tremaining: 133ms\n",
      "853:\tlearn: 0.0749946\ttotal: 771ms\tremaining: 132ms\n",
      "854:\tlearn: 0.0748579\ttotal: 772ms\tremaining: 131ms\n",
      "855:\tlearn: 0.0747625\ttotal: 773ms\tremaining: 130ms\n",
      "856:\tlearn: 0.0746931\ttotal: 774ms\tremaining: 129ms\n",
      "857:\tlearn: 0.0745209\ttotal: 774ms\tremaining: 128ms\n",
      "858:\tlearn: 0.0744978\ttotal: 775ms\tremaining: 127ms\n",
      "859:\tlearn: 0.0744079\ttotal: 776ms\tremaining: 126ms\n",
      "860:\tlearn: 0.0742573\ttotal: 777ms\tremaining: 125ms\n",
      "861:\tlearn: 0.0741466\ttotal: 778ms\tremaining: 124ms\n",
      "862:\tlearn: 0.0740185\ttotal: 778ms\tremaining: 124ms\n",
      "863:\tlearn: 0.0739366\ttotal: 779ms\tremaining: 123ms\n",
      "864:\tlearn: 0.0737975\ttotal: 780ms\tremaining: 122ms\n",
      "865:\tlearn: 0.0736240\ttotal: 781ms\tremaining: 121ms\n",
      "866:\tlearn: 0.0735773\ttotal: 782ms\tremaining: 120ms\n",
      "867:\tlearn: 0.0735548\ttotal: 783ms\tremaining: 119ms\n",
      "868:\tlearn: 0.0733808\ttotal: 783ms\tremaining: 118ms\n",
      "869:\tlearn: 0.0733596\ttotal: 784ms\tremaining: 117ms\n",
      "870:\tlearn: 0.0732730\ttotal: 785ms\tremaining: 116ms\n",
      "871:\tlearn: 0.0731439\ttotal: 786ms\tremaining: 115ms\n",
      "872:\tlearn: 0.0730573\ttotal: 787ms\tremaining: 114ms\n",
      "873:\tlearn: 0.0729996\ttotal: 788ms\tremaining: 114ms\n",
      "874:\tlearn: 0.0729303\ttotal: 788ms\tremaining: 113ms\n",
      "875:\tlearn: 0.0728179\ttotal: 789ms\tremaining: 112ms\n",
      "876:\tlearn: 0.0727583\ttotal: 790ms\tremaining: 111ms\n",
      "877:\tlearn: 0.0726700\ttotal: 791ms\tremaining: 110ms\n",
      "878:\tlearn: 0.0725391\ttotal: 792ms\tremaining: 109ms\n",
      "879:\tlearn: 0.0724254\ttotal: 793ms\tremaining: 108ms\n",
      "880:\tlearn: 0.0723678\ttotal: 794ms\tremaining: 107ms\n",
      "881:\tlearn: 0.0722594\ttotal: 794ms\tremaining: 106ms\n",
      "882:\tlearn: 0.0721827\ttotal: 795ms\tremaining: 105ms\n",
      "883:\tlearn: 0.0721392\ttotal: 796ms\tremaining: 104ms\n",
      "884:\tlearn: 0.0721172\ttotal: 797ms\tremaining: 104ms\n",
      "885:\tlearn: 0.0720157\ttotal: 798ms\tremaining: 103ms\n",
      "886:\tlearn: 0.0719211\ttotal: 799ms\tremaining: 102ms\n",
      "887:\tlearn: 0.0718055\ttotal: 799ms\tremaining: 101ms\n",
      "888:\tlearn: 0.0716677\ttotal: 800ms\tremaining: 99.9ms\n",
      "889:\tlearn: 0.0716153\ttotal: 801ms\tremaining: 99ms\n",
      "890:\tlearn: 0.0715135\ttotal: 802ms\tremaining: 98.1ms\n",
      "891:\tlearn: 0.0714845\ttotal: 803ms\tremaining: 97.2ms\n",
      "892:\tlearn: 0.0713953\ttotal: 803ms\tremaining: 96.3ms\n",
      "893:\tlearn: 0.0713144\ttotal: 804ms\tremaining: 95.4ms\n",
      "894:\tlearn: 0.0712135\ttotal: 805ms\tremaining: 94.4ms\n",
      "895:\tlearn: 0.0710763\ttotal: 806ms\tremaining: 93.5ms\n",
      "896:\tlearn: 0.0710414\ttotal: 806ms\tremaining: 92.6ms\n",
      "897:\tlearn: 0.0710085\ttotal: 807ms\tremaining: 91.7ms\n",
      "898:\tlearn: 0.0708807\ttotal: 808ms\tremaining: 90.8ms\n",
      "899:\tlearn: 0.0707769\ttotal: 809ms\tremaining: 89.8ms\n",
      "900:\tlearn: 0.0706529\ttotal: 809ms\tremaining: 88.9ms\n",
      "901:\tlearn: 0.0705135\ttotal: 810ms\tremaining: 88ms\n",
      "902:\tlearn: 0.0703782\ttotal: 811ms\tremaining: 87.1ms\n",
      "903:\tlearn: 0.0702599\ttotal: 812ms\tremaining: 86.2ms\n",
      "904:\tlearn: 0.0701429\ttotal: 813ms\tremaining: 85.3ms\n",
      "905:\tlearn: 0.0700066\ttotal: 813ms\tremaining: 84.4ms\n",
      "906:\tlearn: 0.0699119\ttotal: 814ms\tremaining: 83.5ms\n",
      "907:\tlearn: 0.0698204\ttotal: 815ms\tremaining: 82.6ms\n",
      "908:\tlearn: 0.0697296\ttotal: 816ms\tremaining: 81.7ms\n",
      "909:\tlearn: 0.0696622\ttotal: 817ms\tremaining: 80.8ms\n",
      "910:\tlearn: 0.0695593\ttotal: 818ms\tremaining: 79.9ms\n",
      "911:\tlearn: 0.0695248\ttotal: 818ms\tremaining: 79ms\n",
      "912:\tlearn: 0.0693753\ttotal: 819ms\tremaining: 78.1ms\n",
      "913:\tlearn: 0.0693420\ttotal: 820ms\tremaining: 77.2ms\n",
      "914:\tlearn: 0.0692959\ttotal: 821ms\tremaining: 76.3ms\n",
      "915:\tlearn: 0.0692735\ttotal: 822ms\tremaining: 75.4ms\n",
      "916:\tlearn: 0.0691943\ttotal: 823ms\tremaining: 74.5ms\n",
      "917:\tlearn: 0.0691316\ttotal: 823ms\tremaining: 73.5ms\n",
      "918:\tlearn: 0.0690846\ttotal: 824ms\tremaining: 72.6ms\n",
      "919:\tlearn: 0.0689549\ttotal: 825ms\tremaining: 71.7ms\n",
      "920:\tlearn: 0.0688242\ttotal: 826ms\tremaining: 70.8ms\n",
      "921:\tlearn: 0.0687755\ttotal: 827ms\tremaining: 69.9ms\n",
      "922:\tlearn: 0.0687459\ttotal: 828ms\tremaining: 69.1ms\n",
      "923:\tlearn: 0.0685874\ttotal: 829ms\tremaining: 68.2ms\n",
      "924:\tlearn: 0.0684851\ttotal: 829ms\tremaining: 67.2ms\n",
      "925:\tlearn: 0.0683761\ttotal: 830ms\tremaining: 66.4ms\n",
      "926:\tlearn: 0.0682914\ttotal: 831ms\tremaining: 65.4ms\n",
      "927:\tlearn: 0.0681630\ttotal: 832ms\tremaining: 64.5ms\n",
      "928:\tlearn: 0.0681359\ttotal: 833ms\tremaining: 63.6ms\n",
      "929:\tlearn: 0.0680930\ttotal: 833ms\tremaining: 62.7ms\n",
      "930:\tlearn: 0.0680061\ttotal: 834ms\tremaining: 61.8ms\n",
      "931:\tlearn: 0.0679176\ttotal: 835ms\tremaining: 60.9ms\n",
      "932:\tlearn: 0.0678124\ttotal: 836ms\tremaining: 60ms\n",
      "933:\tlearn: 0.0677850\ttotal: 837ms\tremaining: 59.1ms\n",
      "934:\tlearn: 0.0676851\ttotal: 837ms\tremaining: 58.2ms\n",
      "935:\tlearn: 0.0675519\ttotal: 838ms\tremaining: 57.3ms\n",
      "936:\tlearn: 0.0675260\ttotal: 839ms\tremaining: 56.4ms\n",
      "937:\tlearn: 0.0674389\ttotal: 840ms\tremaining: 55.5ms\n",
      "938:\tlearn: 0.0673182\ttotal: 841ms\tremaining: 54.6ms\n",
      "939:\tlearn: 0.0672264\ttotal: 842ms\tremaining: 53.7ms\n",
      "940:\tlearn: 0.0672043\ttotal: 843ms\tremaining: 52.8ms\n",
      "941:\tlearn: 0.0670409\ttotal: 844ms\tremaining: 51.9ms\n",
      "942:\tlearn: 0.0669720\ttotal: 844ms\tremaining: 51ms\n",
      "943:\tlearn: 0.0669274\ttotal: 845ms\tremaining: 50.1ms\n",
      "944:\tlearn: 0.0668334\ttotal: 846ms\tremaining: 49.2ms\n",
      "945:\tlearn: 0.0667868\ttotal: 847ms\tremaining: 48.3ms\n",
      "946:\tlearn: 0.0667030\ttotal: 848ms\tremaining: 47.5ms\n",
      "947:\tlearn: 0.0666470\ttotal: 849ms\tremaining: 46.5ms\n",
      "948:\tlearn: 0.0665825\ttotal: 850ms\tremaining: 45.7ms\n",
      "949:\tlearn: 0.0664316\ttotal: 850ms\tremaining: 44.8ms\n",
      "950:\tlearn: 0.0663965\ttotal: 851ms\tremaining: 43.9ms\n",
      "951:\tlearn: 0.0662964\ttotal: 852ms\tremaining: 43ms\n",
      "952:\tlearn: 0.0661270\ttotal: 853ms\tremaining: 42ms\n",
      "953:\tlearn: 0.0660751\ttotal: 854ms\tremaining: 41.2ms\n",
      "954:\tlearn: 0.0659608\ttotal: 854ms\tremaining: 40.3ms\n",
      "955:\tlearn: 0.0658103\ttotal: 855ms\tremaining: 39.4ms\n",
      "956:\tlearn: 0.0657401\ttotal: 856ms\tremaining: 38.5ms\n",
      "957:\tlearn: 0.0657145\ttotal: 857ms\tremaining: 37.6ms\n",
      "958:\tlearn: 0.0655962\ttotal: 858ms\tremaining: 36.7ms\n",
      "959:\tlearn: 0.0655396\ttotal: 858ms\tremaining: 35.8ms\n",
      "960:\tlearn: 0.0654238\ttotal: 859ms\tremaining: 34.9ms\n",
      "961:\tlearn: 0.0653425\ttotal: 860ms\tremaining: 34ms\n",
      "962:\tlearn: 0.0652774\ttotal: 861ms\tremaining: 33.1ms\n",
      "963:\tlearn: 0.0652608\ttotal: 862ms\tremaining: 32.2ms\n",
      "964:\tlearn: 0.0651713\ttotal: 862ms\tremaining: 31.3ms\n",
      "965:\tlearn: 0.0650589\ttotal: 863ms\tremaining: 30.4ms\n",
      "966:\tlearn: 0.0649344\ttotal: 864ms\tremaining: 29.5ms\n",
      "967:\tlearn: 0.0648544\ttotal: 865ms\tremaining: 28.6ms\n",
      "968:\tlearn: 0.0646937\ttotal: 866ms\tremaining: 27.7ms\n",
      "969:\tlearn: 0.0645604\ttotal: 867ms\tremaining: 26.8ms\n",
      "970:\tlearn: 0.0645157\ttotal: 868ms\tremaining: 25.9ms\n",
      "971:\tlearn: 0.0643867\ttotal: 869ms\tremaining: 25ms\n",
      "972:\tlearn: 0.0642700\ttotal: 870ms\tremaining: 24.1ms\n",
      "973:\tlearn: 0.0641534\ttotal: 870ms\tremaining: 23.2ms\n"
     ]
    },
    {
     "name": "stdout",
     "output_type": "stream",
     "text": [
      "974:\tlearn: 0.0640631\ttotal: 871ms\tremaining: 22.3ms\n",
      "975:\tlearn: 0.0639356\ttotal: 872ms\tremaining: 21.4ms\n",
      "976:\tlearn: 0.0638698\ttotal: 873ms\tremaining: 20.6ms\n",
      "977:\tlearn: 0.0637868\ttotal: 874ms\tremaining: 19.7ms\n",
      "978:\tlearn: 0.0636970\ttotal: 875ms\tremaining: 18.8ms\n",
      "979:\tlearn: 0.0635741\ttotal: 876ms\tremaining: 17.9ms\n",
      "980:\tlearn: 0.0635046\ttotal: 877ms\tremaining: 17ms\n",
      "981:\tlearn: 0.0634329\ttotal: 877ms\tremaining: 16.1ms\n",
      "982:\tlearn: 0.0634049\ttotal: 878ms\tremaining: 15.2ms\n",
      "983:\tlearn: 0.0633065\ttotal: 879ms\tremaining: 14.3ms\n",
      "984:\tlearn: 0.0631899\ttotal: 880ms\tremaining: 13.4ms\n",
      "985:\tlearn: 0.0631244\ttotal: 881ms\tremaining: 12.5ms\n",
      "986:\tlearn: 0.0630831\ttotal: 881ms\tremaining: 11.6ms\n",
      "987:\tlearn: 0.0629501\ttotal: 882ms\tremaining: 10.7ms\n",
      "988:\tlearn: 0.0628876\ttotal: 883ms\tremaining: 9.82ms\n",
      "989:\tlearn: 0.0628518\ttotal: 884ms\tremaining: 8.93ms\n",
      "990:\tlearn: 0.0627808\ttotal: 885ms\tremaining: 8.04ms\n",
      "991:\tlearn: 0.0626875\ttotal: 886ms\tremaining: 7.14ms\n",
      "992:\tlearn: 0.0626012\ttotal: 887ms\tremaining: 6.25ms\n",
      "993:\tlearn: 0.0624946\ttotal: 887ms\tremaining: 5.36ms\n",
      "994:\tlearn: 0.0623282\ttotal: 888ms\tremaining: 4.46ms\n",
      "995:\tlearn: 0.0622474\ttotal: 889ms\tremaining: 3.57ms\n",
      "996:\tlearn: 0.0621675\ttotal: 890ms\tremaining: 2.68ms\n",
      "997:\tlearn: 0.0621198\ttotal: 891ms\tremaining: 1.78ms\n",
      "998:\tlearn: 0.0620959\ttotal: 891ms\tremaining: 892us\n",
      "999:\tlearn: 0.0620566\ttotal: 892ms\tremaining: 0us\n"
     ]
    },
    {
     "data": {
      "text/plain": [
       "<catboost.core.CatBoostRegressor at 0x7fba3176e2b0>"
      ]
     },
     "execution_count": 9,
     "metadata": {},
     "output_type": "execute_result"
    }
   ],
   "source": [
    "#Train the Model \n",
    "prior_model = ctb.CatBoostRegressor()\n",
    "prior_model.fit(X_train,Y_train)"
   ]
  },
  {
   "cell_type": "code",
   "execution_count": 10,
   "id": "af65dcda",
   "metadata": {
    "execution": {
     "iopub.execute_input": "2022-06-12T06:37:30.791561Z",
     "iopub.status.busy": "2022-06-12T06:37:30.791153Z",
     "iopub.status.idle": "2022-06-12T06:37:30.798807Z",
     "shell.execute_reply": "2022-06-12T06:37:30.799164Z"
    },
    "id": "af65dcda",
    "papermill": {
     "duration": 0.020909,
     "end_time": "2022-06-12T06:37:30.799278",
     "exception": false,
     "start_time": "2022-06-12T06:37:30.778369",
     "status": "completed"
    },
    "tags": []
   },
   "outputs": [
    {
     "data": {
      "application/scrapbook.scrap.json+json": {
       "data": 0.14166081133620562,
       "encoder": "json",
       "name": "Prior Model MSE",
       "version": 1
      }
     },
     "metadata": {
      "scrapbook": {
       "data": true,
       "display": false,
       "name": "Prior Model MSE"
      }
     },
     "output_type": "display_data"
    },
    {
     "data": {
      "application/scrapbook.scrap.json+json": {
       "data": 0.14092627130694815,
       "encoder": "json",
       "name": "ABC Pre-generator MSE",
       "version": 1
      }
     },
     "metadata": {
      "scrapbook": {
       "data": true,
       "display": false,
       "name": "ABC Pre-generator MSE"
      }
     },
     "output_type": "display_data"
    },
    {
     "data": {
      "application/scrapbook.scrap.json+json": {
       "data": 0.2312175538969076,
       "encoder": "json",
       "name": "Prior Model MSE",
       "version": 1
      }
     },
     "metadata": {
      "scrapbook": {
       "data": true,
       "display": false,
       "name": "Prior Model MSE"
      }
     },
     "output_type": "display_data"
    },
    {
     "data": {
      "application/scrapbook.scrap.json+json": {
       "data": 0.2314774466768552,
       "encoder": "json",
       "name": "ABC Pre-generator MSE",
       "version": 1
      }
     },
     "metadata": {
      "scrapbook": {
       "data": true,
       "display": false,
       "name": "ABC Pre-generator MSE"
      }
     },
     "output_type": "display_data"
    }
   ],
   "source": [
    "y_pred = prior_model.predict(X_test)\n",
    "y_abc = y_pred + np.random.normal(0,variance, y_pred.shape) + bias \n",
    "mse = mean_squared_error(y_pred,Y_test)\n",
    "sb.glue(\"Prior Model MSE\",mse)\n",
    "mse = mean_squared_error(y_abc,Y_test)\n",
    "sb.glue(\"ABC Pre-generator MSE\",mse)\n",
    "mae = mean_absolute_error(y_pred,Y_test)\n",
    "sb.glue(\"Prior Model MSE\",mae)\n",
    "mae = mean_absolute_error(y_abc,Y_test)\n",
    "sb.glue(\"ABC Pre-generator MSE\",mae)"
   ]
  },
  {
   "cell_type": "markdown",
   "id": "25609da2",
   "metadata": {
    "papermill": {
     "duration": 0.009753,
     "end_time": "2022-06-12T06:37:30.819174",
     "exception": false,
     "start_time": "2022-06-12T06:37:30.809421",
     "status": "completed"
    },
    "tags": []
   },
   "source": [
    "# ABC GAN Model"
   ]
  },
  {
   "cell_type": "code",
   "execution_count": 11,
   "id": "dfc3464d",
   "metadata": {
    "execution": {
     "iopub.execute_input": "2022-06-12T06:37:30.841488Z",
     "iopub.status.busy": "2022-06-12T06:37:30.841118Z",
     "iopub.status.idle": "2022-06-12T06:37:30.843689Z",
     "shell.execute_reply": "2022-06-12T06:37:30.843970Z"
    },
    "papermill": {
     "duration": 0.015137,
     "end_time": "2022-06-12T06:37:30.844082",
     "exception": false,
     "start_time": "2022-06-12T06:37:30.828945",
     "status": "completed"
    },
    "tags": []
   },
   "outputs": [],
   "source": [
    "gen = network.Generator(n_features+1).to(device)\n",
    "disc = network.Discriminator(n_features+1).to(device)\n",
    "\n",
    "criterion = torch.nn.BCELoss()\n",
    "gen_opt = torch.optim.Adam(gen.parameters(), lr=0.001, betas=(0.5, 0.999))\n",
    "disc_opt = torch.optim.Adam(disc.parameters(), lr=0.001, betas=(0.5, 0.999))"
   ]
  },
  {
   "cell_type": "code",
   "execution_count": 12,
   "id": "b75fdd85",
   "metadata": {
    "execution": {
     "iopub.execute_input": "2022-06-12T06:37:30.866851Z",
     "iopub.status.busy": "2022-06-12T06:37:30.866430Z",
     "iopub.status.idle": "2022-06-12T06:38:32.201940Z",
     "shell.execute_reply": "2022-06-12T06:38:32.202248Z"
    },
    "papermill": {
     "duration": 61.348309,
     "end_time": "2022-06-12T06:38:32.202370",
     "exception": false,
     "start_time": "2022-06-12T06:37:30.854061",
     "status": "completed"
    },
    "tags": []
   },
   "outputs": [
    {
     "data": {
      "image/png": "[encoded data removed]",
      "text/plain": [
       "<Figure size 432x288 with 1 Axes>"
      ]
     },
     "metadata": {
      "needs_background": "light"
     },
     "output_type": "display_data"
    },
    {
     "data": {
      "image/png": "[encoded data removed]",
      "text/plain": [
       "<Figure size 432x288 with 1 Axes>"
      ]
     },
     "metadata": {
      "needs_background": "light"
     },
     "output_type": "display_data"
    }
   ],
   "source": [
    "#Training the ABC_GAN \n",
    "ABC_train_test2.training_GAN(disc,gen,disc_opt,gen_opt,train_data,batch_size,n_epochs,criterion,prior_model,variance,bias,device)"
   ]
  },
  {
   "cell_type": "code",
   "execution_count": 13,
   "id": "1fa7c368",
   "metadata": {
    "execution": {
     "iopub.execute_input": "2022-06-12T06:38:32.229953Z",
     "iopub.status.busy": "2022-06-12T06:38:32.229003Z",
     "iopub.status.idle": "2022-06-12T06:38:32.552460Z",
     "shell.execute_reply": "2022-06-12T06:38:32.552765Z"
    },
    "papermill": {
     "duration": 0.339585,
     "end_time": "2022-06-12T06:38:32.552887",
     "exception": false,
     "start_time": "2022-06-12T06:38:32.213302",
     "status": "completed"
    },
    "tags": []
   },
   "outputs": [
    {
     "data": {
      "application/scrapbook.scrap.json+json": {
       "data": 0.15929549791407507,
       "encoder": "json",
       "name": "ABC-GAN Model 1 MSE",
       "version": 1
      }
     },
     "metadata": {
      "scrapbook": {
       "data": true,
       "display": false,
       "name": "ABC-GAN Model 1 MSE"
      }
     },
     "output_type": "display_data"
    },
    {
     "data": {
      "application/scrapbook.scrap.json+json": {
       "data": 0.2382816952262439,
       "encoder": "json",
       "name": "ABC-GAN Model 1 MAE",
       "version": 1
      }
     },
     "metadata": {
      "scrapbook": {
       "data": true,
       "display": false,
       "name": "ABC-GAN Model 1 MAE"
      }
     },
     "output_type": "display_data"
    },
    {
     "data": {
      "application/scrapbook.scrap.json+json": {
       "data": 24.304732913076876,
       "encoder": "json",
       "name": "ABC-GAN Model 1 Manhattan Distance",
       "version": 1
      }
     },
     "metadata": {
      "scrapbook": {
       "data": true,
       "display": false,
       "name": "ABC-GAN Model 1 Manhattan Distance"
      }
     },
     "output_type": "display_data"
    },
    {
     "data": {
      "application/scrapbook.scrap.json+json": {
       "data": 4.0308897863708015,
       "encoder": "json",
       "name": "ABC-GAN Model 1 Euclidean distance",
       "version": 1
      }
     },
     "metadata": {
      "scrapbook": {
       "data": true,
       "display": false,
       "name": "ABC-GAN Model 1 Euclidean distance"
      }
     },
     "output_type": "display_data"
    },
    {
     "data": {
      "application/scrapbook.scrap.json+json": {
       "data": [
        [
         0.15983893339906594,
         0.1589494346391708,
         0.15747475261279212,
         0.15968435371757625,
         0.15898847733308016,
         0.15984467106343372,
         0.16001662920996765,
         0.1590979329487089,
         0.15993811193389895,
         0.15890728430804696,
         0.15934397237306788,
         0.159138895914508,
         0.15865540812022685,
         0.15930818316663595,
         0.15918151369999492,
         0.15881815176857444,
         0.1596646764408874,
         0.15915823661318507,
         0.1600079739443595,
         0.15984675324640044,
         0.1586600584003085,
         0.16086991601979259,
         0.1591763209967488,
         0.15928191000148698,
         0.1591208959339953,
         0.1600216165353297,
         0.15839451194988086,
         0.15915314029365257,
         0.15876610338976044,
         0.15846226962176438,
         0.15916363091490016,
         0.1592790796406916,
         0.15932722094763424,
         0.15793139640060452,
         0.15953572052502546,
         0.15935999056809122,
         0.15866437949053755,
         0.1604526366905476,
         0.15919233010527933,
         0.1601548744952491,
         0.16001992808372215,
         0.1594555641840677,
         0.15989191615619616,
         0.1586203653679879,
         0.15959482360520796,
         0.15956869833723178,
         0.15915935630171885,
         0.15879667996605934,
         0.1589553219586865,
         0.15943168328049917,
         0.15913699861576305,
         0.15830091917969405,
         0.15828727890652594,
         0.15973044460562993,
         0.16008520601671367,
         0.1592213324200283,
         0.15845288496716492,
         0.16036443566926745,
         0.15965805129290186,
         0.15863555435265622,
         0.15917029985508227,
         0.15900799451831313,
         0.15918668428054134,
         0.15843160167874085,
         0.16075749713778742,
         0.158915545400493,
         0.1598498712010563,
         0.15935767966934394,
         0.16133571343385367,
         0.1589118210589292,
         0.1597072289842831,
         0.15839747494082976,
         0.15962894435519948,
         0.15954735458086217,
         0.15961358739025464,
         0.15971914934459622,
         0.16021374924252313,
         0.15831621662106082,
         0.1600465609584884,
         0.16043184670066982,
         0.1584432999997768,
         0.15882601442596317,
         0.15972924219347406,
         0.15936520374167376,
         0.15954404313419826,
         0.1593608958111708,
         0.15880247423430519,
         0.15844167628135963,
         0.1596677745339593,
         0.15787938438350024,
         0.15960019358507357,
         0.15926048301969417,
         0.1588814828060817,
         0.15888392669640258,
         0.15987782062129613,
         0.1591015662782367,
         0.1590591675077712,
         0.15888254661086215,
         0.16002828358803112,
         0.15916769795918245
        ],
        [
         0.2384155949796824,
         0.23647701979486965,
         0.23751360329561957,
         0.23914320699359273,
         0.2383017677850291,
         0.23818387220814533,
         0.23976195404561712,
         0.23896117316668525,
         0.2383608706843327,
         0.23798642656309346,
         0.23860783427588494,
         0.23869026508912736,
         0.23749989020985132,
         0.23834012936362448,
         0.23838898859114624,
         0.23712641349537114,
         0.2385825218778907,
         0.2381263296211175,
         0.23862563816867038,
         0.2379299062395505,
         0.23673344474724112,
         0.23951456767013846,
         0.23695243257737042,
         0.23835819052057525,
         0.23838560149877094,
         0.23874871708525747,
         0.23581099070097303,
         0.23919234459525815,
         0.2380083402545721,
         0.23760505924549172,
         0.23925612697049098,
         0.2382323679642058,
         0.23855846351487378,
         0.23764014782785786,
         0.23706634998248488,
         0.2398218454647006,
         0.23642934813145913,
         0.23803087694606945,
         0.23803717005705716,
         0.23896535221195103,
         0.2392362882657086,
         0.239171479609521,
         0.2380237402394414,
         0.2386912171564558,
         0.23905638442831298,
         0.23923996724553553,
         0.2379789363921565,
         0.2387538333697354,
         0.23752626767564639,
         0.2384684599899486,
         0.23745389346617693,
         0.2364095629685942,
         0.23737943192542182,
         0.23814852117542543,
         0.2381290754522471,
         0.23716511071531796,
         0.237279785157857,
         0.2390935674273208,
         0.23788545337304765,
         0.23770654857085616,
         0.23878089110275694,
         0.23909466521924033,
         0.2385979824169886,
         0.23678818102195567,
         0.23960603837508196,
         0.23671610556615919,
         0.23918015537235668,
         0.23820326833383126,
         0.240744042538983,
         0.2394250330935214,
         0.238732524855318,
         0.2380380100004521,
         0.23871302347191992,
         0.24021139746422276,
         0.2385254375746145,
         0.23982870058320901,
         0.23919815451418067,
         0.23778784981764414,
         0.2386305569397176,
         0.23894209179150708,
         0.23854496094452984,
         0.2371588593129726,
         0.2388807857847389,
         0.23779501749531312,
         0.2389719364799413,
         0.23867911704834185,
         0.2378804239389651,
         0.23706208642426074,
         0.23914034823503563,
         0.23602895378409064,
         0.23809182043096014,
         0.23892470228248366,
         0.2382380056432357,
         0.23789686006585173,
         0.23863089185061992,
         0.23887538988435386,
         0.2379968426939027,
         0.237766621141311,
         0.23844852545024717,
         0.23824459465914496
        ],
        [
         24.318390687927604,
         24.120656019076705,
         24.226387536153197,
         24.392607113346457,
         24.306780314072967,
         24.294754965230823,
         24.455719312652946,
         24.374039663001895,
         24.312808809801936,
         24.274615509435534,
         24.337999096140265,
         24.34640703909099,
         24.224988801404834,
         24.310693195089698,
         24.315676836296916,
         24.186894176527858,
         24.335417231544852,
         24.288885621353984,
         24.33981509320438,
         24.26885043643415,
         24.146811364218593,
         24.43048590235412,
         24.169148122891784,
         24.312535433098674,
         24.315331352874637,
         24.35236914269626,
         24.052721051499248,
         24.39761914871633,
         24.276850705966353,
         24.235716043040156,
         24.40412495099008,
         24.29970153234899,
         24.332963278517127,
         24.2392950784415,
         24.180767698213458,
         24.46182823739946,
         24.11579350940883,
         24.279149448499084,
         24.27979134581983,
         24.374465925619006,
         24.40210140310228,
         24.39549092017114,
         24.278421504423022,
         24.34650414995849,
         24.383751211687922,
         24.402476659044623,
         24.273851511999965,
         24.35289100371301,
         24.22767930291593,
         24.323782918974757,
         24.220297133550048,
         24.113775422796607,
         24.212702056393027,
         24.291149159893394,
         24.289165696129203,
         24.190841292962432,
         24.202538086101413,
         24.387543877586722,
         24.26431624405086,
         24.24606795422733,
         24.355650892481208,
         24.387655852362514,
         24.336994206532836,
         24.152394464239478,
         24.43981591425836,
         24.145042767748237,
         24.39637584798038,
         24.296733370050788,
         24.555892338976264,
         24.421353375539184,
         24.35071753524244,
         24.279877020046115,
         24.348728394135833,
         24.501562541350722,
         24.32959463261068,
         24.46252745948732,
         24.39821176044643,
         24.254360681399703,
         24.340316807851195,
         24.37209336273372,
         24.331586016342044,
         24.190203649923205,
         24.36584015004337,
         24.255091784521937,
         24.375137520954013,
         24.34526993893087,
         24.26380324177444,
         24.180332815274596,
         24.392315519973636,
         24.074953285977244,
         24.285365683957934,
         24.370319632813334,
         24.30027657561004,
         24.265479726716876,
         24.340350968763232,
         24.365289768204093,
         24.275677954778075,
         24.252195356413722,
         24.321749595925212,
         24.300948655232787
        ],
        [
         4.037768097192398,
         4.026517395118941,
         4.007795499586375,
         4.0358151691068285,
         4.027011880783837,
         4.0378405674902815,
         4.04001190337562,
         4.028397840428415,
         4.039020601242051,
         4.025983482258812,
         4.031511525724926,
         4.028916403113847,
         4.022791521849366,
         4.0310587545949845,
         4.029455843832946,
         4.024854218527,
         4.035566502607845,
         4.02916121972612,
         4.03990264020368,
         4.037866866444811,
         4.022850476569005,
         4.050769239788764,
         4.029390120312052,
         4.030726339030183,
         4.028688544088203,
         4.040074861509823,
         4.019482580990723,
         4.029096711417159,
         4.024194645609922,
         4.020342211978972,
         4.029229498715582,
         4.0306905268639195,
         4.0312996088927315,
         4.013602176706313,
         4.033936476142454,
         4.031714156279597,
         4.022905257153694,
         4.045512197786067,
         4.029592742540925,
         4.041756697095386,
         4.040053547236678,
         4.032922953240603,
         4.038437253187426,
         4.0223472335857275,
         4.034683631678104,
         4.034353384422049,
         4.029175392406654,
         4.024582134400794,
         4.026591963408513,
         4.032620946061124,
         4.02889238610413,
         4.018294881704029,
         4.018121756301773,
         4.036397570826523,
         4.040877505407061,
         4.029959789730277,
         4.020223161299734,
         4.044400133303489,
         4.0354827755642795,
         4.022539812602347,
         4.029313909987454,
         4.027259048145269,
         4.02952128628392,
         4.019953155352879,
         4.049353616079276,
         4.026088130040161,
         4.037906247364806,
         4.031684923983158,
         4.056629483974728,
         4.026040952103043,
         4.036104230120535,
         4.0195201758374886,
         4.035114908429541,
         4.034083559775125,
         4.034920806385916,
         4.036254852353704,
         4.042499526621785,
         4.018489031383338,
         4.040389735875219,
         4.0452500990010885,
         4.020101565878309,
         4.024953847120267,
         4.03638237828558,
         4.031780100855046,
         4.034041695333381,
         4.031725607322431,
         4.024655559411157,
         4.020080966933214,
         4.035605654974708,
         4.012941216504052,
         4.034751509780683,
         4.0304552184596725,
         4.025656622989637,
         4.025687583883411,
         4.03825924172436,
         4.02844383855356,
         4.027907035396008,
         4.025670100034022,
         4.040159022362755,
         4.029280977027614
        ]
       ],
       "encoder": "json",
       "name": "ABC_GAN_1 Metrics",
       "version": 1
      }
     },
     "metadata": {
      "scrapbook": {
       "data": true,
       "display": false,
       "name": "ABC_GAN_1 Metrics"
      }
     },
     "output_type": "display_data"
    },
    {
     "name": "stdout",
     "output_type": "stream",
     "text": [
      "MSE\n",
      "0.15929549791407507\n"
     ]
    }
   ],
   "source": [
    "ABC_GAN1_metrics=ABC_train_test2.test_generator(gen,test_data,prior_model,variance,bias,\"1\",device)\n",
    "sb.glue(\"ABC_GAN_1 Metrics\",ABC_GAN1_metrics)\n",
    "\n",
    "print(\"MSE\")\n",
    "print(mean(ABC_GAN1_metrics[0]))"
   ]
  },
  {
   "cell_type": "code",
   "execution_count": 14,
   "id": "eb22ce5c",
   "metadata": {
    "execution": {
     "iopub.execute_input": "2022-06-12T06:38:32.580163Z",
     "iopub.status.busy": "2022-06-12T06:38:32.579790Z",
     "iopub.status.idle": "2022-06-12T06:38:32.910504Z",
     "shell.execute_reply": "2022-06-12T06:38:32.910839Z"
    },
    "papermill": {
     "duration": 0.345401,
     "end_time": "2022-06-12T06:38:32.910960",
     "exception": false,
     "start_time": "2022-06-12T06:38:32.565559",
     "status": "completed"
    },
    "tags": []
   },
   "outputs": [
    {
     "data": {
      "image/png": "[encoded data removed]",
      "text/plain": [
       "<Figure size 432x288 with 1 Axes>"
      ]
     },
     "metadata": {
      "needs_background": "light"
     },
     "output_type": "display_data"
    },
    {
     "data": {
      "image/png": "[encoded data removed]",
      "text/plain": [
       "<Figure size 432x288 with 1 Axes>"
      ]
     },
     "metadata": {
      "needs_background": "light"
     },
     "output_type": "display_data"
    },
    {
     "data": {
      "image/png": "[encoded data removed]",
      "text/plain": [
       "<Figure size 432x288 with 1 Axes>"
      ]
     },
     "metadata": {
      "needs_background": "light"
     },
     "output_type": "display_data"
    },
    {
     "data": {
      "image/png": "[encoded data removed]",
      "text/plain": [
       "<Figure size 432x288 with 1 Axes>"
      ]
     },
     "metadata": {
      "needs_background": "light"
     },
     "output_type": "display_data"
    }
   ],
   "source": [
    "sanityChecks.discProbVsError(train_data,disc,device)\n",
    "sanityChecks.discProbVsError(test_data,disc,device)"
   ]
  },
  {
   "cell_type": "markdown",
   "id": "130f3a4d",
   "metadata": {
    "id": "130f3a4d",
    "papermill": {
     "duration": 0.014471,
     "end_time": "2022-06-12T06:38:32.940416",
     "exception": false,
     "start_time": "2022-06-12T06:38:32.925945",
     "status": "completed"
    },
    "tags": []
   },
   "source": [
    "# ABC - GAN Model with skip connection"
   ]
  },
  {
   "cell_type": "code",
   "execution_count": 15,
   "id": "4e43dad1",
   "metadata": {
    "execution": {
     "iopub.execute_input": "2022-06-12T06:38:32.972757Z",
     "iopub.status.busy": "2022-06-12T06:38:32.972380Z",
     "iopub.status.idle": "2022-06-12T06:38:32.974717Z",
     "shell.execute_reply": "2022-06-12T06:38:32.974972Z"
    },
    "id": "4e43dad1",
    "papermill": {
     "duration": 0.020031,
     "end_time": "2022-06-12T06:38:32.975084",
     "exception": false,
     "start_time": "2022-06-12T06:38:32.955053",
     "status": "completed"
    },
    "tags": []
   },
   "outputs": [],
   "source": [
    "#Generator\n",
    "gen3 = network.GeneratorWithSkipConnection(n_features+1).to(device)\n",
    "constraints=network.weightConstraint()\n",
    "#Discriminator \n",
    "disc3 = network.Discriminator(n_features+1).to(device)\n",
    "\n",
    "criterion = torch.nn.BCELoss()\n",
    "gen_opt = torch.optim.Adam(gen3.parameters(), lr=0.001, betas=(0.5, 0.999))\n",
    "disc_opt = torch.optim.Adam(disc3.parameters(), lr=0.001, betas=(0.5, 0.999))\n"
   ]
  },
  {
   "cell_type": "code",
   "execution_count": 16,
   "id": "26acbc37",
   "metadata": {
    "execution": {
     "iopub.execute_input": "2022-06-12T06:38:33.006578Z",
     "iopub.status.busy": "2022-06-12T06:38:33.006210Z",
     "iopub.status.idle": "2022-06-12T06:41:33.134264Z",
     "shell.execute_reply": "2022-06-12T06:41:33.134639Z"
    },
    "id": "26acbc37",
    "papermill": {
     "duration": 180.145049,
     "end_time": "2022-06-12T06:41:33.134814",
     "exception": false,
     "start_time": "2022-06-12T06:38:32.989765",
     "status": "completed"
    },
    "tags": []
   },
   "outputs": [
    {
     "data": {
      "image/png": "[encoded data removed]",
      "text/plain": [
       "<Figure size 432x288 with 1 Axes>"
      ]
     },
     "metadata": {
      "needs_background": "light"
     },
     "output_type": "display_data"
    },
    {
     "data": {
      "image/png": "[encoded data removed]",
      "text/plain": [
       "<Figure size 432x288 with 1 Axes>"
      ]
     },
     "metadata": {
      "needs_background": "light"
     },
     "output_type": "display_data"
    }
   ],
   "source": [
    "ABC_train_test2.training_GAN_skip_connection(disc3,gen3,disc_opt,gen_opt,train_data,batch_size,n_epochs,criterion,prior_model,variance,bias,device)"
   ]
  },
  {
   "cell_type": "code",
   "execution_count": 17,
   "id": "c5e0717b",
   "metadata": {
    "execution": {
     "iopub.execute_input": "2022-06-12T06:41:33.169279Z",
     "iopub.status.busy": "2022-06-12T06:41:33.168836Z",
     "iopub.status.idle": "2022-06-12T06:41:34.012665Z",
     "shell.execute_reply": "2022-06-12T06:41:34.012966Z"
    },
    "id": "c5e0717b",
    "papermill": {
     "duration": 0.862419,
     "end_time": "2022-06-12T06:41:34.013091",
     "exception": false,
     "start_time": "2022-06-12T06:41:33.150672",
     "status": "completed"
    },
    "tags": []
   },
   "outputs": [
    {
     "data": {
      "application/scrapbook.scrap.json+json": {
       "data": 0.14478431716532314,
       "encoder": "json",
       "name": "ABC-GAN Model 3 MSE",
       "version": 1
      }
     },
     "metadata": {
      "scrapbook": {
       "data": true,
       "display": false,
       "name": "ABC-GAN Model 3 MSE"
      }
     },
     "output_type": "display_data"
    },
    {
     "data": {
      "application/scrapbook.scrap.json+json": {
       "data": 0.24271786316339036,
       "encoder": "json",
       "name": "ABC-GAN Model 3 MAE",
       "version": 1
      }
     },
     "metadata": {
      "scrapbook": {
       "data": true,
       "display": false,
       "name": "ABC-GAN Model 3 MAE"
      }
     },
     "output_type": "display_data"
    },
    {
     "data": {
      "application/scrapbook.scrap.json+json": {
       "data": 24.757222042665816,
       "encoder": "json",
       "name": "ABC-GAN Model 3 Manhattan Distance",
       "version": 1
      }
     },
     "metadata": {
      "scrapbook": {
       "data": true,
       "display": false,
       "name": "ABC-GAN Model 3 Manhattan Distance"
      }
     },
     "output_type": "display_data"
    },
    {
     "data": {
      "application/scrapbook.scrap.json+json": {
       "data": 3.8428987062920785,
       "encoder": "json",
       "name": "ABC-GAN Model 3 Euclidean distance",
       "version": 1
      }
     },
     "metadata": {
      "scrapbook": {
       "data": true,
       "display": false,
       "name": "ABC-GAN Model 3 Euclidean distance"
      }
     },
     "output_type": "display_data"
    },
    {
     "data": {
      "application/scrapbook.scrap.json+json": {
       "data": [
        [
         0.14475525699189432,
         0.14458711330853938,
         0.14512283167179574,
         0.14410015217975541,
         0.14322658042445555,
         0.14540611511877344,
         0.14419219445709264,
         0.14636866374811364,
         0.14474038064736658,
         0.14610111925362324,
         0.14369444726528158,
         0.1466200843148094,
         0.14449886704578,
         0.1458993864203294,
         0.1449284952504951,
         0.1448300851552108,
         0.1450854640235572,
         0.14474246498369991,
         0.14276243726326884,
         0.14539211801989388,
         0.1442503837553794,
         0.14416996639298246,
         0.14399372822990586,
         0.14614008097435935,
         0.14599956948612836,
         0.14503636817689103,
         0.14418285534516953,
         0.1440898693819175,
         0.1438719031909563,
         0.14405236085337902,
         0.14493892998577113,
         0.14420740523245792,
         0.14520878588139097,
         0.14625382216727273,
         0.14463446922962483,
         0.14284878607893878,
         0.14364539725102102,
         0.14583901945575528,
         0.14464186480006014,
         0.14403487878603252,
         0.14597762480873283,
         0.14570468034979678,
         0.14489471885960004,
         0.14493114486583217,
         0.14393415197118856,
         0.1458212068550877,
         0.14546228403316147,
         0.14420003459256964,
         0.14453474359784302,
         0.14351504286140784,
         0.14415705364496983,
         0.14494729967040007,
         0.14492073537813088,
         0.14300153505212845,
         0.14577569199661058,
         0.14455712764227727,
         0.14458777457422556,
         0.14326181295853177,
         0.14476180398843025,
         0.14527039321399407,
         0.14522405176931494,
         0.1453610050072564,
         0.14424706994647596,
         0.14480525509534314,
         0.1451469836584058,
         0.1456960172094932,
         0.14466357107341543,
         0.1449597988872528,
         0.14586021668306487,
         0.14477726009499267,
         0.14320250032234247,
         0.1457130671580239,
         0.14385725818412226,
         0.14496640069593517,
         0.14450385982337338,
         0.14534797091843718,
         0.1442820105240029,
         0.14508021794585055,
         0.1444509285074214,
         0.14402635491053345,
         0.14532967377217018,
         0.14509337715020304,
         0.14472336981486866,
         0.14282685162631173,
         0.14514577500230735,
         0.14378294510619782,
         0.14541233981395907,
         0.1443489560808204,
         0.14464780740566752,
         0.14450779961535992,
         0.14558076613265905,
         0.14602267075797015,
         0.14346733606595466,
         0.14571092277831357,
         0.1464784127221028,
         0.1451810316118625,
         0.1459197757980358,
         0.14423458112453433,
         0.14476169640243866,
         0.14577226622146902
        ],
        [
         0.24095931806711152,
         0.24369397261819126,
         0.24370445406027869,
         0.24182513904958672,
         0.2413520427311168,
         0.24445167570100987,
         0.2415638618974709,
         0.24302688908452788,
         0.24261289477056147,
         0.24496355628156485,
         0.24013765407360943,
         0.24338219214376866,
         0.24240262141706898,
         0.2448421631684052,
         0.24387936956048303,
         0.24233240116497173,
         0.24269894430158184,
         0.24382380211689308,
         0.24082452809328542,
         0.2421604933618915,
         0.24155960922293804,
         0.2416101773543393,
         0.24256754142469636,
         0.24382333821781418,
         0.2431299876257339,
         0.24434252958927377,
         0.23956881982146525,
         0.24097318478001684,
         0.2411651143292878,
         0.24144916738584346,
         0.24358444689206926,
         0.24231517229083122,
         0.24325481074515218,
         0.24501538649201393,
         0.24355689270020114,
         0.2411964645097945,
         0.24243880354561934,
         0.24378665991346626,
         0.24253074926159837,
         0.24336006408374683,
         0.24601358553285108,
         0.24179834288124943,
         0.24242622544075929,
         0.24240193600930712,
         0.24241697087920472,
         0.2430672664012687,
         0.2426494395214261,
         0.2402857909271238,
         0.24335418689959482,
         0.24083440965406744,
         0.24270053414226161,
         0.24195560551814588,
         0.24285226709702434,
         0.24077849888114952,
         0.24456141130341327,
         0.24245145445799127,
         0.24201616090631076,
         0.24108062093785287,
         0.24260057715297328,
         0.2434672984185026,
         0.24258991969548457,
         0.24338203773596415,
         0.2420779728038492,
         0.2443498597188177,
         0.24372785680872552,
         0.2438201401656603,
         0.24239827531809902,
         0.243810434268751,
         0.24360881609769136,
         0.242459220355194,
         0.24165457934506385,
         0.24333497257355383,
         0.24207321369983986,
         0.24403536955223365,
         0.24312969238734713,
         0.24284333255434154,
         0.24182109527435958,
         0.24289132719494255,
         0.24153510380225876,
         0.24224650164080017,
         0.2444929615137916,
         0.24419640881173751,
         0.24267059808377833,
         0.24075755752696126,
         0.24323733903321565,
         0.24122575880028307,
         0.24243922180989208,
         0.24201519815616457,
         0.24384352249349012,
         0.24172933200629904,
         0.24250096776614002,
         0.2449440426540141,
         0.24063595791584722,
         0.24294065645731547,
         0.24467222345079861,
         0.2428482720975344,
         0.24328795161244332,
         0.2420535086033245,
         0.244190694161636,
         0.24373494557963282
        ],
        [
         24.577850442845374,
         24.85678520705551,
         24.857854314148426,
         24.666164183057845,
         24.617908358573914,
         24.934070921503007,
         24.639513913542032,
         24.788742686621845,
         24.74651526659727,
         24.986282740719616,
         24.494040715508163,
         24.824983598664403,
         24.725067384541035,
         24.97390064317733,
         24.87569569516927,
         24.717904918827116,
         24.75529231876135,
         24.870027815923095,
         24.564101865515113,
         24.70037032291293,
         24.63908014073968,
         24.644238090142608,
         24.741889225319028,
         24.869980498217046,
         24.799258737824857,
         24.922938018105924,
         24.436019621789455,
         24.579264847561717,
         24.598841661587358,
         24.627815073356032,
         24.845613582991064,
         24.716147573664784,
         24.811990696005523,
         24.99156942218542,
         24.842803055420518,
         24.60203937999904,
         24.728757961653173,
         24.86623931117356,
         24.738136424683034,
         24.822726536542177,
         25.09338572435081,
         24.663430973887444,
         24.727474994957447,
         24.724997472949326,
         24.72653102967888,
         24.792861172929406,
         24.75024283118546,
         24.509150674566627,
         24.82212706375867,
         24.565109784714878,
         24.755454482510686,
         24.67947176285088,
         24.770931243896484,
         24.55940688587725,
         24.945263952948153,
         24.73004835471511,
         24.685648412443697,
         24.590223335660994,
         24.745258869603276,
         24.833664438687265,
         24.744171808939427,
         24.824967849068344,
         24.69195322599262,
         24.923685691319406,
         24.860241394490004,
         24.86965429689735,
         24.7246240824461,
         24.8686642954126,
         24.84809924196452,
         24.730840476229787,
         24.64876709319651,
         24.82016720250249,
         24.691467797383666,
         24.89160769432783,
         24.799228623509407,
         24.770019920542836,
         24.665751717984676,
         24.77491537388414,
         24.636580587830395,
         24.709143167361617,
         24.938282074406743,
         24.908033698797226,
         24.75240100454539,
         24.55727086775005,
         24.810208581387997,
         24.605027397628874,
         24.728800624608994,
         24.685550211928785,
         24.87203929433599,
         24.6563918646425,
         24.735098712146282,
         24.98429235070944,
         24.544867707416415,
         24.77994695864618,
         24.95656679198146,
         24.77052375394851,
         24.81537106446922,
         24.6894578775391,
         24.90745080448687,
         24.860964449122548
        ],
        [
         3.8425299235234616,
         3.8402975870980383,
         3.84740546739269,
         3.833825181504114,
         3.8221867044003046,
         3.8511587531696074,
         3.835049391419026,
         3.8638845353229163,
         3.8423324720840317,
         3.8603515596211664,
         3.828424430631839,
         3.867201649786388,
         3.839125478369984,
         3.857685499736027,
         3.8448285417623618,
         3.8435229524267838,
         3.846910101679377,
         3.8423601377717564,
         3.815988548312667,
         3.850973388382368,
         3.8358231376131897,
         3.834753782459078,
         3.8324092004182426,
         3.8608662576402013,
         3.859009728879301,
         3.846259163660567,
         3.8349251942126976,
         3.8336883906957784,
         3.830787663846371,
         3.8331893779259922,
         3.844966951554805,
         3.8352516649772426,
         3.8485446807724446,
         3.8623684263754297,
         3.8409264327010657,
         3.8171424102398577,
         3.8277709596583938,
         3.8568873440232907,
         3.8410246301743665,
         3.8329567746291264,
         3.858719700948845,
         3.8551105555715606,
         3.8443804863305604,
         3.844863687611679,
         3.8316163039977313,
         3.856651799063397,
         3.851902513224143,
         3.8351536512168707,
         3.839602042787766,
         3.826033765123303,
         3.8345820465582587,
         3.845077966229138,
         3.8447256090089637,
         3.8191827103867526,
         3.8560498678899733,
         3.8398993501799334,
         3.840306368842336,
         3.8226567883829485,
         3.842616817589269,
         3.8493609999358847,
         3.8487469753765478,
         3.8505613241110903,
         3.835779077911102,
         3.8431934663408502,
         3.847725605231927,
         3.8549959475164575,
         3.841312828902167,
         3.845243748645824,
         3.857167626856865,
         3.8428219487362734,
         3.821865386546068,
         3.8552215046762797,
         3.8305926871413085,
         3.845331308351127,
         3.839191803229436,
         3.850388686052434,
         3.836243614976543,
         3.8468405517355078,
         3.8384885967991336,
         3.832843357205511,
         3.8501463251104306,
         3.847015007680722,
         3.842106677477423,
         3.816849337592957,
         3.8477095849654956,
         3.8296031649287343,
         3.851241184478561,
         3.8371335030519433,
         3.8411035335405996,
         3.8392441392501615,
         3.853470921848409,
         3.859315019185783,
         3.825397793527802,
         3.855193136976147,
         3.8653328572911394,
         3.8481768702087966,
         3.8579550452797715,
         3.835613024628853,
         3.842615389685617,
         3.8560045584244107
        ]
       ],
       "encoder": "json",
       "name": "ABC_GAN_3 Metrics",
       "version": 1
      }
     },
     "metadata": {
      "scrapbook": {
       "data": true,
       "display": false,
       "name": "ABC_GAN_3 Metrics"
      }
     },
     "output_type": "display_data"
    },
    {
     "name": "stdout",
     "output_type": "stream",
     "text": [
      "MSE\n",
      "0.14478431716532314\n"
     ]
    }
   ],
   "source": [
    "ABC_GAN3_metrics=ABC_train_test2.test_generator(gen3,test_data,prior_model,variance,bias,\"3\",device)\n",
    "sb.glue(\"ABC_GAN_3 Metrics\",ABC_GAN3_metrics)\n",
    "\n",
    "print(\"MSE\")\n",
    "print(mean(ABC_GAN3_metrics[0]))"
   ]
  },
  {
   "cell_type": "code",
   "execution_count": 18,
   "id": "c8e46b48",
   "metadata": {
    "execution": {
     "iopub.execute_input": "2022-06-12T06:41:34.050021Z",
     "iopub.status.busy": "2022-06-12T06:41:34.049637Z",
     "iopub.status.idle": "2022-06-12T06:41:34.373061Z",
     "shell.execute_reply": "2022-06-12T06:41:34.373304Z"
    },
    "id": "c8e46b48",
    "papermill": {
     "duration": 0.342855,
     "end_time": "2022-06-12T06:41:34.373429",
     "exception": false,
     "start_time": "2022-06-12T06:41:34.030574",
     "status": "completed"
    },
    "tags": []
   },
   "outputs": [
    {
     "data": {
      "image/png": "[encoded data removed]",
      "text/plain": [
       "<Figure size 432x288 with 1 Axes>"
      ]
     },
     "metadata": {
      "needs_background": "light"
     },
     "output_type": "display_data"
    },
    {
     "data": {
      "image/png": "[encoded data removed]",
      "text/plain": [
       "<Figure size 432x288 with 1 Axes>"
      ]
     },
     "metadata": {
      "needs_background": "light"
     },
     "output_type": "display_data"
    },
    {
     "data": {
      "image/png": "[encoded data removed]",
      "text/plain": [
       "<Figure size 432x288 with 1 Axes>"
      ]
     },
     "metadata": {
      "needs_background": "light"
     },
     "output_type": "display_data"
    },
    {
     "data": {
      "image/png": "[encoded data removed]",
      "text/plain": [
       "<Figure size 432x288 with 1 Axes>"
      ]
     },
     "metadata": {
      "needs_background": "light"
     },
     "output_type": "display_data"
    }
   ],
   "source": [
    "sanityChecks.discProbVsError(train_data,disc3,device)\n",
    "sanityChecks.discProbVsError(test_data,disc3,device)"
   ]
  },
  {
   "cell_type": "markdown",
   "id": "a5bd74c3",
   "metadata": {
    "id": "a5bd74c3",
    "papermill": {
     "duration": 0.019311,
     "end_time": "2022-06-12T06:41:34.412545",
     "exception": false,
     "start_time": "2022-06-12T06:41:34.393234",
     "status": "completed"
    },
    "tags": []
   },
   "source": [
    "## Skip Connection Model Analysis - ABC-GAN "
   ]
  },
  {
   "cell_type": "markdown",
   "id": "5744a8bf",
   "metadata": {
    "id": "5744a8bf",
    "papermill": {
     "duration": 0.019039,
     "end_time": "2022-06-12T06:41:34.450690",
     "exception": false,
     "start_time": "2022-06-12T06:41:34.431651",
     "status": "completed"
    },
    "tags": []
   },
   "source": [
    "### Weight Analysis \n",
    "\n",
    "Study the weights of the skip connection layer\n",
    "\n",
    "Equation of the skip connection is \n",
    "\n",
    "$output = y_{gan} * w + y_{abc} * (1-w)$"
   ]
  },
  {
   "cell_type": "code",
   "execution_count": 19,
   "id": "52c31dea",
   "metadata": {
    "execution": {
     "iopub.execute_input": "2022-06-12T06:41:34.491571Z",
     "iopub.status.busy": "2022-06-12T06:41:34.491200Z",
     "iopub.status.idle": "2022-06-12T06:41:34.494612Z",
     "shell.execute_reply": "2022-06-12T06:41:34.494860Z"
    },
    "id": "52c31dea",
    "papermill": {
     "duration": 0.025254,
     "end_time": "2022-06-12T06:41:34.494973",
     "exception": false,
     "start_time": "2022-06-12T06:41:34.469719",
     "status": "completed"
    },
    "tags": []
   },
   "outputs": [
    {
     "name": "stdout",
     "output_type": "stream",
     "text": [
      "Weight of the node at skip connection\n",
      "Parameter containing:\n",
      "tensor([[0.1357]], requires_grad=True)\n"
     ]
    },
    {
     "data": {
      "application/scrapbook.scrap.json+json": {
       "data": 0.13570918142795563,
       "encoder": "json",
       "name": "Skip Connection Weight",
       "version": 1
      }
     },
     "metadata": {
      "scrapbook": {
       "data": true,
       "display": false,
       "name": "Skip Connection Weight"
      }
     },
     "output_type": "display_data"
    }
   ],
   "source": [
    "print(\"Weight of the node at skip connection\")\n",
    "for name,param in gen3.named_parameters():\n",
    "    if(name == \"skipNode.weight\"):\n",
    "        print(param)\n",
    "        sb.glue(\"Skip Connection Weight\",param.item())"
   ]
  }
 ],
 "metadata": {
  "colab": {
   "collapsed_sections": [],
   "name": "ABC_GAN_Model-Catboost_Pre-gen.ipynb",
   "provenance": []
  },
  "interpreter": {
   "hash": "31f2aee4e71d21fbe5cf8b01ff0e069b9275f58929596ceb00d14d90e3e16cd6"
  },
  "kernelspec": {
   "display_name": "Python 3 (ipykernel)",
   "language": "python",
   "name": "python3"
  },
  "language_info": {
   "codemirror_mode": {
    "name": "ipython",
    "version": 3
   },
   "file_extension": ".py",
   "mimetype": "text/x-python",
   "name": "python",
   "nbconvert_exporter": "python",
   "pygments_lexer": "ipython3",
   "version": "3.8.11"
  },
  "papermill": {
   "default_parameters": {},
   "duration": 248.124654,
   "end_time": "2022-06-12T06:41:34.822101",
   "environment_variables": {},
   "exception": null,
   "input_path": "ABC_GAN-Catboost.ipynb",
   "output_path": "./ABC_GAN_Catboost/ABC-GAN_output_7_8.ipynb",
   "parameters": {
    "bias": 0.01,
    "variance": 0.01
   },
   "start_time": "2022-06-12T06:37:26.697447",
   "version": "2.3.3"
  }
 },
 "nbformat": 4,
 "nbformat_minor": 5
}