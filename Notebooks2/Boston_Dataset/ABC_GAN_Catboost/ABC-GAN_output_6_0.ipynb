{
 "cells": [
  {
   "cell_type": "markdown",
   "id": "622780e6",
   "metadata": {
    "id": "622780e6",
    "papermill": {
     "duration": 0.034552,
     "end_time": "2022-06-12T05:27:13.102118",
     "exception": false,
     "start_time": "2022-06-12T05:27:13.067566",
     "status": "completed"
    },
    "tags": []
   },
   "source": [
    "## Import Libraries "
   ]
  },
  {
   "cell_type": "code",
   "execution_count": 1,
   "id": "a62397e3",
   "metadata": {
    "execution": {
     "iopub.execute_input": "2022-06-12T05:27:13.138615Z",
     "iopub.status.busy": "2022-06-12T05:27:13.138112Z",
     "iopub.status.idle": "2022-06-12T05:27:13.140446Z",
     "shell.execute_reply": "2022-06-12T05:27:13.140843Z"
    },
    "id": "a62397e3",
    "papermill": {
     "duration": 0.02236,
     "end_time": "2022-06-12T05:27:13.141065",
     "exception": false,
     "start_time": "2022-06-12T05:27:13.118705",
     "status": "completed"
    },
    "tags": []
   },
   "outputs": [],
   "source": [
    "import warnings\n",
    "import sys\n",
    "sys.path.insert(0, '../../src')\n",
    "warnings.filterwarnings('ignore')"
   ]
  },
  {
   "cell_type": "code",
   "execution_count": 2,
   "id": "d6a4e155",
   "metadata": {
    "execution": {
     "iopub.execute_input": "2022-06-12T05:27:13.161618Z",
     "iopub.status.busy": "2022-06-12T05:27:13.161229Z",
     "iopub.status.idle": "2022-06-12T05:27:15.686454Z",
     "shell.execute_reply": "2022-06-12T05:27:15.686714Z"
    },
    "id": "d6a4e155",
    "papermill": {
     "duration": 2.536157,
     "end_time": "2022-06-12T05:27:15.686834",
     "exception": false,
     "start_time": "2022-06-12T05:27:13.150677",
     "status": "completed"
    },
    "tags": []
   },
   "outputs": [],
   "source": [
    "import ABC_train_test2\n",
    "import bostonDataset\n",
    "import network\n",
    "import dataset\n",
    "import sanityChecks\n",
    "import torch \n",
    "import scrapbook as sb\n",
    "from statistics import mean \n",
    "import catboost as ctb \n",
    "from sklearn.model_selection import train_test_split\n",
    "from sklearn.metrics import mean_squared_error,mean_absolute_error\n",
    "import numpy as np"
   ]
  },
  {
   "cell_type": "markdown",
   "id": "2fa5b0f7",
   "metadata": {
    "id": "2fa5b0f7",
    "papermill": {
     "duration": 0.006962,
     "end_time": "2022-06-12T05:27:15.701116",
     "exception": false,
     "start_time": "2022-06-12T05:27:15.694154",
     "status": "completed"
    },
    "tags": []
   },
   "source": [
    "## Parameters "
   ]
  },
  {
   "cell_type": "code",
   "execution_count": 3,
   "id": "783186fb",
   "metadata": {
    "execution": {
     "iopub.execute_input": "2022-06-12T05:27:15.717043Z",
     "iopub.status.busy": "2022-06-12T05:27:15.716672Z",
     "iopub.status.idle": "2022-06-12T05:27:15.717902Z",
     "shell.execute_reply": "2022-06-12T05:27:15.718152Z"
    },
    "id": "783186fb",
    "papermill": {
     "duration": 0.010305,
     "end_time": "2022-06-12T05:27:15.718266",
     "exception": false,
     "start_time": "2022-06-12T05:27:15.707961",
     "status": "completed"
    },
    "tags": [
     "parameters"
    ]
   },
   "outputs": [],
   "source": [
    "variance = 1\n",
    "bias = 1 "
   ]
  },
  {
   "cell_type": "code",
   "execution_count": 4,
   "id": "97e5864d",
   "metadata": {
    "execution": {
     "iopub.execute_input": "2022-06-12T05:27:15.734165Z",
     "iopub.status.busy": "2022-06-12T05:27:15.733782Z",
     "iopub.status.idle": "2022-06-12T05:27:15.735175Z",
     "shell.execute_reply": "2022-06-12T05:27:15.735416Z"
    },
    "papermill": {
     "duration": 0.010194,
     "end_time": "2022-06-12T05:27:15.735547",
     "exception": false,
     "start_time": "2022-06-12T05:27:15.725353",
     "status": "completed"
    },
    "tags": [
     "injected-parameters"
    ]
   },
   "outputs": [],
   "source": [
    "# Parameters\n",
    "variance = 1\n",
    "bias = 1\n"
   ]
  },
  {
   "cell_type": "markdown",
   "id": "391cdbfd",
   "metadata": {
    "id": "391cdbfd",
    "papermill": {
     "duration": 0.006852,
     "end_time": "2022-06-12T05:27:15.749420",
     "exception": false,
     "start_time": "2022-06-12T05:27:15.742568",
     "status": "completed"
    },
    "tags": []
   },
   "source": [
    "## Dataset \n"
   ]
  },
  {
   "cell_type": "code",
   "execution_count": 5,
   "id": "5b51f161",
   "metadata": {
    "execution": {
     "iopub.execute_input": "2022-06-12T05:27:15.765238Z",
     "iopub.status.busy": "2022-06-12T05:27:15.764864Z",
     "iopub.status.idle": "2022-06-12T05:27:15.766101Z",
     "shell.execute_reply": "2022-06-12T05:27:15.766338Z"
    },
    "id": "5b51f161",
    "papermill": {
     "duration": 0.010132,
     "end_time": "2022-06-12T05:27:15.766460",
     "exception": false,
     "start_time": "2022-06-12T05:27:15.756328",
     "status": "completed"
    },
    "tags": []
   },
   "outputs": [],
   "source": [
    "#Parameters \n",
    "n_features = 13\n",
    "n_samples= 506\n",
    "n_target = 1 "
   ]
  },
  {
   "cell_type": "code",
   "execution_count": 6,
   "id": "5d6eced4",
   "metadata": {
    "execution": {
     "iopub.execute_input": "2022-06-12T05:27:15.783008Z",
     "iopub.status.busy": "2022-06-12T05:27:15.782516Z",
     "iopub.status.idle": "2022-06-12T05:27:15.800530Z",
     "shell.execute_reply": "2022-06-12T05:27:15.800865Z"
    },
    "id": "5d6eced4",
    "papermill": {
     "duration": 0.027473,
     "end_time": "2022-06-12T05:27:15.800990",
     "exception": false,
     "start_time": "2022-06-12T05:27:15.773517",
     "status": "completed"
    },
    "tags": []
   },
   "outputs": [
    {
     "name": "stdout",
     "output_type": "stream",
     "text": [
      "         X1        X2        X3        X4        X5        X6        X7  \\\n",
      "0 -0.419782  0.284830 -1.287909 -0.272599 -0.144217  0.413672 -0.120013   \n",
      "1 -0.417339 -0.487722 -0.593381 -0.272599 -0.740262  0.194274  0.367166   \n",
      "2 -0.417342 -0.487722 -0.593381 -0.272599 -0.740262  1.282714 -0.265812   \n",
      "3 -0.416750 -0.487722 -1.306878 -0.272599 -0.835284  1.016303 -0.809889   \n",
      "4 -0.412482 -0.487722 -1.306878 -0.272599 -0.835284  1.228577 -0.511180   \n",
      "\n",
      "         X8        X9       X10       X11       X12       X13         Y  \n",
      "0  0.140214 -0.982843 -0.666608 -1.459000  0.441052 -1.075562  0.159686  \n",
      "1  0.557160 -0.867883 -0.987329 -0.303094  0.441052 -0.492439 -0.101524  \n",
      "2  0.557160 -0.867883 -0.987329 -0.303094  0.396427 -1.208727  1.324247  \n",
      "3  1.077737 -0.752922 -1.106115  0.113032  0.416163 -1.361517  1.182758  \n",
      "4  1.077737 -0.752922 -1.106115  0.113032  0.441052 -1.026501  1.487503  \n"
     ]
    }
   ],
   "source": [
    "X,Y = bostonDataset.boston_data()"
   ]
  },
  {
   "cell_type": "code",
   "execution_count": 7,
   "id": "fe007438",
   "metadata": {
    "execution": {
     "iopub.execute_input": "2022-06-12T05:27:15.821118Z",
     "iopub.status.busy": "2022-06-12T05:27:15.820707Z",
     "iopub.status.idle": "2022-06-12T05:27:15.822363Z",
     "shell.execute_reply": "2022-06-12T05:27:15.822087Z"
    },
    "id": "fe007438",
    "papermill": {
     "duration": 0.013503,
     "end_time": "2022-06-12T05:27:15.822474",
     "exception": false,
     "start_time": "2022-06-12T05:27:15.808971",
     "status": "completed"
    },
    "tags": []
   },
   "outputs": [],
   "source": [
    "#Train test split for dataset \n",
    "X_train,X_test,Y_train,Y_test = train_test_split(X,Y,test_size = 0.2)\n",
    "train_data = dataset.CustomDataset(X_train,Y_train)\n",
    "test_data = dataset.CustomDataset(X_test,Y_test)\n"
   ]
  },
  {
   "cell_type": "markdown",
   "id": "a9a1af34",
   "metadata": {
    "id": "a9a1af34",
    "papermill": {
     "duration": 0.007187,
     "end_time": "2022-06-12T05:27:15.837116",
     "exception": false,
     "start_time": "2022-06-12T05:27:15.829929",
     "status": "completed"
    },
    "tags": []
   },
   "source": [
    "## Training Parameters "
   ]
  },
  {
   "cell_type": "code",
   "execution_count": 8,
   "id": "952b7fc8",
   "metadata": {
    "execution": {
     "iopub.execute_input": "2022-06-12T05:27:15.854089Z",
     "iopub.status.busy": "2022-06-12T05:27:15.853730Z",
     "iopub.status.idle": "2022-06-12T05:27:15.855072Z",
     "shell.execute_reply": "2022-06-12T05:27:15.855322Z"
    },
    "id": "952b7fc8",
    "papermill": {
     "duration": 0.011127,
     "end_time": "2022-06-12T05:27:15.855440",
     "exception": false,
     "start_time": "2022-06-12T05:27:15.844313",
     "status": "completed"
    },
    "tags": []
   },
   "outputs": [],
   "source": [
    "batch_size = 32\n",
    "n_epochs = 1000\n",
    "#Select the device \n",
    "device = torch.device('cuda' if torch.cuda.is_available() else 'cpu')"
   ]
  },
  {
   "cell_type": "markdown",
   "id": "a95e1600",
   "metadata": {
    "id": "a95e1600",
    "papermill": {
     "duration": 0.008587,
     "end_time": "2022-06-12T05:27:15.871423",
     "exception": false,
     "start_time": "2022-06-12T05:27:15.862836",
     "status": "completed"
    },
    "tags": []
   },
   "source": [
    "# ABC Pre-generator Model \n",
    "\n",
    "1. The catboost model is used as a pre-generator model for the ABC-GAN. \n",
    "2. The model is first trained on the entire dataset \n",
    "3. It generats X,Y pairs and we add some Gaussian noise with mean 0 and variance 1 to it which is then feed as input to the generator.\n"
   ]
  },
  {
   "cell_type": "code",
   "execution_count": 9,
   "id": "ff8ce7bd",
   "metadata": {
    "execution": {
     "iopub.execute_input": "2022-06-12T05:27:15.913178Z",
     "iopub.status.busy": "2022-06-12T05:27:15.912789Z",
     "iopub.status.idle": "2022-06-12T05:27:17.226475Z",
     "shell.execute_reply": "2022-06-12T05:27:17.226788Z"
    },
    "id": "ff8ce7bd",
    "papermill": {
     "duration": 1.34803,
     "end_time": "2022-06-12T05:27:17.226909",
     "exception": false,
     "start_time": "2022-06-12T05:27:15.878879",
     "status": "completed"
    },
    "tags": []
   },
   "outputs": [
    {
     "name": "stdout",
     "output_type": "stream",
     "text": [
      "Learning rate set to 0.033215\n"
     ]
    },
    {
     "name": "stdout",
     "output_type": "stream",
     "text": [
      "0:\tlearn: 0.9832449\ttotal: 64.7ms\tremaining: 1m 4s\n",
      "1:\tlearn: 0.9640516\ttotal: 65.6ms\tremaining: 32.8s\n",
      "2:\tlearn: 0.9439194\ttotal: 66.4ms\tremaining: 22.1s\n",
      "3:\tlearn: 0.9281323\ttotal: 67.2ms\tremaining: 16.7s\n",
      "4:\tlearn: 0.9100644\ttotal: 67.9ms\tremaining: 13.5s\n",
      "5:\tlearn: 0.8933693\ttotal: 68.7ms\tremaining: 11.4s\n",
      "6:\tlearn: 0.8797968\ttotal: 69.5ms\tremaining: 9.86s\n",
      "7:\tlearn: 0.8637831\ttotal: 71.8ms\tremaining: 8.9s\n",
      "8:\tlearn: 0.8491281\ttotal: 72.6ms\tremaining: 7.99s\n",
      "9:\tlearn: 0.8332646\ttotal: 73.7ms\tremaining: 7.29s\n",
      "10:\tlearn: 0.8171533\ttotal: 74.5ms\tremaining: 6.69s\n",
      "11:\tlearn: 0.8028731\ttotal: 75.1ms\tremaining: 6.18s\n",
      "12:\tlearn: 0.7875362\ttotal: 75.8ms\tremaining: 5.75s\n",
      "13:\tlearn: 0.7726839\ttotal: 76.5ms\tremaining: 5.39s\n",
      "14:\tlearn: 0.7618944\ttotal: 77.2ms\tremaining: 5.07s\n",
      "15:\tlearn: 0.7480816\ttotal: 79.6ms\tremaining: 4.89s\n",
      "16:\tlearn: 0.7368006\ttotal: 80.4ms\tremaining: 4.65s\n",
      "17:\tlearn: 0.7239702\ttotal: 81.1ms\tremaining: 4.42s\n",
      "18:\tlearn: 0.7118045\ttotal: 83ms\tremaining: 4.29s\n",
      "19:\tlearn: 0.7000085\ttotal: 83.9ms\tremaining: 4.11s\n",
      "20:\tlearn: 0.6867362\ttotal: 85.3ms\tremaining: 3.97s\n",
      "21:\tlearn: 0.6763759\ttotal: 86.3ms\tremaining: 3.84s\n",
      "22:\tlearn: 0.6668768\ttotal: 87.2ms\tremaining: 3.7s\n",
      "23:\tlearn: 0.6570039\ttotal: 88ms\tremaining: 3.58s\n",
      "24:\tlearn: 0.6475814\ttotal: 90.1ms\tremaining: 3.51s\n",
      "25:\tlearn: 0.6376166\ttotal: 90.9ms\tremaining: 3.4s\n",
      "26:\tlearn: 0.6288190\ttotal: 91.8ms\tremaining: 3.31s\n",
      "27:\tlearn: 0.6195929\ttotal: 92.5ms\tremaining: 3.21s\n",
      "28:\tlearn: 0.6105745\ttotal: 93.5ms\tremaining: 3.13s\n",
      "29:\tlearn: 0.6012528\ttotal: 94.3ms\tremaining: 3.05s\n",
      "30:\tlearn: 0.5925494\ttotal: 95.3ms\tremaining: 2.98s\n",
      "31:\tlearn: 0.5844309\ttotal: 97ms\tremaining: 2.93s\n",
      "32:\tlearn: 0.5778097\ttotal: 97.8ms\tremaining: 2.87s\n",
      "33:\tlearn: 0.5706124\ttotal: 98.8ms\tremaining: 2.81s\n",
      "34:\tlearn: 0.5635036\ttotal: 99.9ms\tremaining: 2.75s\n",
      "35:\tlearn: 0.5569554\ttotal: 101ms\tremaining: 2.7s\n",
      "36:\tlearn: 0.5509932\ttotal: 101ms\tremaining: 2.64s\n",
      "37:\tlearn: 0.5440539\ttotal: 103ms\tremaining: 2.6s\n",
      "38:\tlearn: 0.5366327\ttotal: 104ms\tremaining: 2.56s\n",
      "39:\tlearn: 0.5287610\ttotal: 105ms\tremaining: 2.53s\n",
      "40:\tlearn: 0.5236617\ttotal: 107ms\tremaining: 2.51s\n",
      "41:\tlearn: 0.5163869\ttotal: 108ms\tremaining: 2.46s\n",
      "42:\tlearn: 0.5114646\ttotal: 110ms\tremaining: 2.44s\n",
      "43:\tlearn: 0.5060242\ttotal: 112ms\tremaining: 2.42s\n",
      "44:\tlearn: 0.5003517\ttotal: 112ms\tremaining: 2.39s\n",
      "45:\tlearn: 0.4933480\ttotal: 114ms\tremaining: 2.35s\n",
      "46:\tlearn: 0.4880603\ttotal: 114ms\tremaining: 2.32s\n",
      "47:\tlearn: 0.4825030\ttotal: 116ms\tremaining: 2.31s\n",
      "48:\tlearn: 0.4773000\ttotal: 117ms\tremaining: 2.27s\n",
      "49:\tlearn: 0.4715468\ttotal: 118ms\tremaining: 2.24s\n",
      "50:\tlearn: 0.4664402\ttotal: 119ms\tremaining: 2.21s\n",
      "51:\tlearn: 0.4615851\ttotal: 120ms\tremaining: 2.19s\n",
      "52:\tlearn: 0.4556054\ttotal: 121ms\tremaining: 2.16s\n",
      "53:\tlearn: 0.4521162\ttotal: 121ms\tremaining: 2.12s\n",
      "54:\tlearn: 0.4470602\ttotal: 122ms\tremaining: 2.1s\n",
      "55:\tlearn: 0.4438742\ttotal: 124ms\tremaining: 2.09s\n",
      "56:\tlearn: 0.4398826\ttotal: 125ms\tremaining: 2.07s\n",
      "57:\tlearn: 0.4359341\ttotal: 126ms\tremaining: 2.04s\n",
      "58:\tlearn: 0.4326239\ttotal: 127ms\tremaining: 2.02s\n",
      "59:\tlearn: 0.4295513\ttotal: 128ms\tremaining: 2s\n",
      "60:\tlearn: 0.4259941\ttotal: 129ms\tremaining: 1.98s\n",
      "61:\tlearn: 0.4223605\ttotal: 130ms\tremaining: 1.97s\n",
      "62:\tlearn: 0.4188540\ttotal: 131ms\tremaining: 1.95s\n",
      "63:\tlearn: 0.4154019\ttotal: 132ms\tremaining: 1.93s\n",
      "64:\tlearn: 0.4123346\ttotal: 133ms\tremaining: 1.92s\n",
      "65:\tlearn: 0.4081816\ttotal: 134ms\tremaining: 1.9s\n",
      "66:\tlearn: 0.4044084\ttotal: 135ms\tremaining: 1.88s\n",
      "67:\tlearn: 0.4004376\ttotal: 136ms\tremaining: 1.86s\n",
      "68:\tlearn: 0.3968623\ttotal: 137ms\tremaining: 1.85s\n",
      "69:\tlearn: 0.3935378\ttotal: 138ms\tremaining: 1.84s\n",
      "70:\tlearn: 0.3892883\ttotal: 140ms\tremaining: 1.83s\n",
      "71:\tlearn: 0.3865290\ttotal: 141ms\tremaining: 1.82s\n",
      "72:\tlearn: 0.3839133\ttotal: 142ms\tremaining: 1.81s\n",
      "73:\tlearn: 0.3803853\ttotal: 144ms\tremaining: 1.8s\n",
      "74:\tlearn: 0.3768173\ttotal: 145ms\tremaining: 1.79s\n",
      "75:\tlearn: 0.3746011\ttotal: 146ms\tremaining: 1.78s\n",
      "76:\tlearn: 0.3709462\ttotal: 147ms\tremaining: 1.76s\n",
      "77:\tlearn: 0.3684319\ttotal: 148ms\tremaining: 1.75s\n",
      "78:\tlearn: 0.3660788\ttotal: 159ms\tremaining: 1.85s\n",
      "79:\tlearn: 0.3635451\ttotal: 160ms\tremaining: 1.84s\n",
      "80:\tlearn: 0.3608623\ttotal: 162ms\tremaining: 1.83s\n",
      "81:\tlearn: 0.3578673\ttotal: 163ms\tremaining: 1.82s\n",
      "82:\tlearn: 0.3557625\ttotal: 164ms\tremaining: 1.81s\n",
      "83:\tlearn: 0.3536625\ttotal: 166ms\tremaining: 1.81s\n",
      "84:\tlearn: 0.3511341\ttotal: 167ms\tremaining: 1.8s\n",
      "85:\tlearn: 0.3489695\ttotal: 178ms\tremaining: 1.89s\n",
      "86:\tlearn: 0.3474478\ttotal: 179ms\tremaining: 1.88s\n",
      "87:\tlearn: 0.3449333\ttotal: 180ms\tremaining: 1.86s\n",
      "88:\tlearn: 0.3434874\ttotal: 181ms\tremaining: 1.85s\n",
      "89:\tlearn: 0.3413116\ttotal: 182ms\tremaining: 1.83s\n",
      "90:\tlearn: 0.3389275\ttotal: 182ms\tremaining: 1.82s\n",
      "91:\tlearn: 0.3369991\ttotal: 183ms\tremaining: 1.81s\n",
      "92:\tlearn: 0.3353165\ttotal: 184ms\tremaining: 1.8s\n",
      "93:\tlearn: 0.3333655\ttotal: 185ms\tremaining: 1.78s\n"
     ]
    },
    {
     "name": "stdout",
     "output_type": "stream",
     "text": [
      "94:\tlearn: 0.3316250\ttotal: 206ms\tremaining: 1.96s\n",
      "95:\tlearn: 0.3300275\ttotal: 207ms\tremaining: 1.95s\n",
      "96:\tlearn: 0.3285871\ttotal: 209ms\tremaining: 1.94s\n",
      "97:\tlearn: 0.3270812\ttotal: 210ms\tremaining: 1.94s\n",
      "98:\tlearn: 0.3256596\ttotal: 212ms\tremaining: 1.93s\n",
      "99:\tlearn: 0.3237791\ttotal: 214ms\tremaining: 1.92s\n",
      "100:\tlearn: 0.3226413\ttotal: 215ms\tremaining: 1.91s\n",
      "101:\tlearn: 0.3208821\ttotal: 216ms\tremaining: 1.9s\n",
      "102:\tlearn: 0.3195850\ttotal: 217ms\tremaining: 1.89s\n",
      "103:\tlearn: 0.3177382\ttotal: 218ms\tremaining: 1.88s\n",
      "104:\tlearn: 0.3165426\ttotal: 219ms\tremaining: 1.86s\n",
      "105:\tlearn: 0.3149219\ttotal: 219ms\tremaining: 1.85s\n",
      "106:\tlearn: 0.3130328\ttotal: 220ms\tremaining: 1.84s\n",
      "107:\tlearn: 0.3111463\ttotal: 221ms\tremaining: 1.83s\n",
      "108:\tlearn: 0.3093718\ttotal: 222ms\tremaining: 1.81s\n",
      "109:\tlearn: 0.3084274\ttotal: 223ms\tremaining: 1.8s\n",
      "110:\tlearn: 0.3065863\ttotal: 224ms\tremaining: 1.79s\n",
      "111:\tlearn: 0.3049503\ttotal: 224ms\tremaining: 1.78s\n",
      "112:\tlearn: 0.3033653\ttotal: 225ms\tremaining: 1.77s\n",
      "113:\tlearn: 0.3019689\ttotal: 236ms\tremaining: 1.83s\n",
      "114:\tlearn: 0.3006962\ttotal: 237ms\tremaining: 1.82s\n",
      "115:\tlearn: 0.2995933\ttotal: 237ms\tremaining: 1.81s\n",
      "116:\tlearn: 0.2983781\ttotal: 238ms\tremaining: 1.8s\n",
      "117:\tlearn: 0.2970957\ttotal: 239ms\tremaining: 1.79s\n",
      "118:\tlearn: 0.2955806\ttotal: 240ms\tremaining: 1.78s\n",
      "119:\tlearn: 0.2941229\ttotal: 241ms\tremaining: 1.77s\n",
      "120:\tlearn: 0.2931111\ttotal: 242ms\tremaining: 1.76s\n",
      "121:\tlearn: 0.2923915\ttotal: 243ms\tremaining: 1.75s\n",
      "122:\tlearn: 0.2908745\ttotal: 244ms\tremaining: 1.74s\n",
      "123:\tlearn: 0.2898972\ttotal: 244ms\tremaining: 1.73s\n",
      "124:\tlearn: 0.2889379\ttotal: 245ms\tremaining: 1.72s\n",
      "125:\tlearn: 0.2877444\ttotal: 246ms\tremaining: 1.71s\n",
      "126:\tlearn: 0.2860274\ttotal: 247ms\tremaining: 1.7s\n",
      "127:\tlearn: 0.2854690\ttotal: 248ms\tremaining: 1.69s\n",
      "128:\tlearn: 0.2841521\ttotal: 248ms\tremaining: 1.68s\n",
      "129:\tlearn: 0.2830438\ttotal: 249ms\tremaining: 1.67s\n",
      "130:\tlearn: 0.2819306\ttotal: 250ms\tremaining: 1.66s\n",
      "131:\tlearn: 0.2807837\ttotal: 251ms\tremaining: 1.65s\n",
      "132:\tlearn: 0.2797467\ttotal: 252ms\tremaining: 1.64s\n",
      "133:\tlearn: 0.2786795\ttotal: 254ms\tremaining: 1.64s\n",
      "134:\tlearn: 0.2772669\ttotal: 255ms\tremaining: 1.63s\n",
      "135:\tlearn: 0.2761962\ttotal: 256ms\tremaining: 1.62s\n"
     ]
    },
    {
     "name": "stdout",
     "output_type": "stream",
     "text": [
      "136:\tlearn: 0.2750436\ttotal: 266ms\tremaining: 1.68s\n",
      "137:\tlearn: 0.2740648\ttotal: 267ms\tremaining: 1.67s\n",
      "138:\tlearn: 0.2730828\ttotal: 268ms\tremaining: 1.66s\n",
      "139:\tlearn: 0.2724239\ttotal: 269ms\tremaining: 1.65s\n",
      "140:\tlearn: 0.2714790\ttotal: 270ms\tremaining: 1.64s\n",
      "141:\tlearn: 0.2704811\ttotal: 271ms\tremaining: 1.64s\n",
      "142:\tlearn: 0.2692325\ttotal: 272ms\tremaining: 1.63s\n",
      "143:\tlearn: 0.2681375\ttotal: 273ms\tremaining: 1.63s\n",
      "144:\tlearn: 0.2670110\ttotal: 275ms\tremaining: 1.62s\n",
      "145:\tlearn: 0.2659900\ttotal: 276ms\tremaining: 1.61s\n",
      "146:\tlearn: 0.2651805\ttotal: 277ms\tremaining: 1.6s\n",
      "147:\tlearn: 0.2641589\ttotal: 277ms\tremaining: 1.6s\n",
      "148:\tlearn: 0.2627183\ttotal: 278ms\tremaining: 1.59s\n",
      "149:\tlearn: 0.2620371\ttotal: 279ms\tremaining: 1.58s\n",
      "150:\tlearn: 0.2607190\ttotal: 280ms\tremaining: 1.57s\n",
      "151:\tlearn: 0.2597936\ttotal: 281ms\tremaining: 1.56s\n",
      "152:\tlearn: 0.2590399\ttotal: 281ms\tremaining: 1.56s\n",
      "153:\tlearn: 0.2580961\ttotal: 282ms\tremaining: 1.55s\n",
      "154:\tlearn: 0.2574531\ttotal: 283ms\tremaining: 1.54s\n",
      "155:\tlearn: 0.2564915\ttotal: 284ms\tremaining: 1.54s\n",
      "156:\tlearn: 0.2557580\ttotal: 285ms\tremaining: 1.53s\n",
      "157:\tlearn: 0.2547980\ttotal: 286ms\tremaining: 1.52s\n",
      "158:\tlearn: 0.2538331\ttotal: 287ms\tremaining: 1.52s\n",
      "159:\tlearn: 0.2530192\ttotal: 288ms\tremaining: 1.51s\n",
      "160:\tlearn: 0.2518720\ttotal: 288ms\tremaining: 1.5s\n",
      "161:\tlearn: 0.2510306\ttotal: 290ms\tremaining: 1.5s\n",
      "162:\tlearn: 0.2503162\ttotal: 291ms\tremaining: 1.49s\n",
      "163:\tlearn: 0.2495961\ttotal: 292ms\tremaining: 1.49s\n",
      "164:\tlearn: 0.2488240\ttotal: 293ms\tremaining: 1.48s\n",
      "165:\tlearn: 0.2480222\ttotal: 294ms\tremaining: 1.48s\n",
      "166:\tlearn: 0.2474676\ttotal: 295ms\tremaining: 1.47s\n",
      "167:\tlearn: 0.2467439\ttotal: 295ms\tremaining: 1.46s\n",
      "168:\tlearn: 0.2462049\ttotal: 296ms\tremaining: 1.46s\n",
      "169:\tlearn: 0.2456454\ttotal: 297ms\tremaining: 1.45s\n",
      "170:\tlearn: 0.2452520\ttotal: 297ms\tremaining: 1.44s\n",
      "171:\tlearn: 0.2444510\ttotal: 298ms\tremaining: 1.44s\n",
      "172:\tlearn: 0.2436598\ttotal: 299ms\tremaining: 1.43s\n",
      "173:\tlearn: 0.2429320\ttotal: 300ms\tremaining: 1.42s\n",
      "174:\tlearn: 0.2423356\ttotal: 301ms\tremaining: 1.42s\n",
      "175:\tlearn: 0.2416577\ttotal: 302ms\tremaining: 1.41s\n",
      "176:\tlearn: 0.2409397\ttotal: 303ms\tremaining: 1.41s\n",
      "177:\tlearn: 0.2401960\ttotal: 305ms\tremaining: 1.41s\n",
      "178:\tlearn: 0.2397968\ttotal: 305ms\tremaining: 1.4s\n",
      "179:\tlearn: 0.2390036\ttotal: 307ms\tremaining: 1.4s\n",
      "180:\tlearn: 0.2382136\ttotal: 308ms\tremaining: 1.39s\n",
      "181:\tlearn: 0.2374505\ttotal: 309ms\tremaining: 1.39s\n",
      "182:\tlearn: 0.2366586\ttotal: 310ms\tremaining: 1.38s\n",
      "183:\tlearn: 0.2360774\ttotal: 311ms\tremaining: 1.38s\n",
      "184:\tlearn: 0.2353352\ttotal: 312ms\tremaining: 1.38s\n",
      "185:\tlearn: 0.2350764\ttotal: 313ms\tremaining: 1.37s\n",
      "186:\tlearn: 0.2345080\ttotal: 314ms\tremaining: 1.37s\n",
      "187:\tlearn: 0.2337214\ttotal: 315ms\tremaining: 1.36s\n",
      "188:\tlearn: 0.2330762\ttotal: 316ms\tremaining: 1.36s\n",
      "189:\tlearn: 0.2321178\ttotal: 317ms\tremaining: 1.35s\n",
      "190:\tlearn: 0.2315557\ttotal: 318ms\tremaining: 1.35s\n",
      "191:\tlearn: 0.2308968\ttotal: 320ms\tremaining: 1.34s\n",
      "192:\tlearn: 0.2303049\ttotal: 320ms\tremaining: 1.34s\n",
      "193:\tlearn: 0.2293152\ttotal: 322ms\tremaining: 1.34s\n",
      "194:\tlearn: 0.2284224\ttotal: 323ms\tremaining: 1.33s\n",
      "195:\tlearn: 0.2278622\ttotal: 324ms\tremaining: 1.33s\n",
      "196:\tlearn: 0.2272759\ttotal: 325ms\tremaining: 1.32s\n",
      "197:\tlearn: 0.2267940\ttotal: 326ms\tremaining: 1.32s\n",
      "198:\tlearn: 0.2263151\ttotal: 327ms\tremaining: 1.32s\n",
      "199:\tlearn: 0.2255577\ttotal: 328ms\tremaining: 1.31s\n",
      "200:\tlearn: 0.2252102\ttotal: 329ms\tremaining: 1.31s\n",
      "201:\tlearn: 0.2248716\ttotal: 330ms\tremaining: 1.3s\n",
      "202:\tlearn: 0.2243101\ttotal: 331ms\tremaining: 1.3s\n",
      "203:\tlearn: 0.2239227\ttotal: 333ms\tremaining: 1.3s\n",
      "204:\tlearn: 0.2234898\ttotal: 334ms\tremaining: 1.29s\n",
      "205:\tlearn: 0.2228733\ttotal: 335ms\tremaining: 1.29s\n",
      "206:\tlearn: 0.2223696\ttotal: 335ms\tremaining: 1.28s\n",
      "207:\tlearn: 0.2219396\ttotal: 336ms\tremaining: 1.28s\n",
      "208:\tlearn: 0.2213265\ttotal: 337ms\tremaining: 1.28s\n",
      "209:\tlearn: 0.2207976\ttotal: 338ms\tremaining: 1.27s\n",
      "210:\tlearn: 0.2203658\ttotal: 340ms\tremaining: 1.27s\n",
      "211:\tlearn: 0.2200149\ttotal: 341ms\tremaining: 1.27s\n",
      "212:\tlearn: 0.2194030\ttotal: 341ms\tremaining: 1.26s\n",
      "213:\tlearn: 0.2190737\ttotal: 343ms\tremaining: 1.26s\n",
      "214:\tlearn: 0.2185878\ttotal: 344ms\tremaining: 1.25s\n",
      "215:\tlearn: 0.2181671\ttotal: 355ms\tremaining: 1.29s\n",
      "216:\tlearn: 0.2175180\ttotal: 355ms\tremaining: 1.28s\n",
      "217:\tlearn: 0.2169322\ttotal: 356ms\tremaining: 1.28s\n",
      "218:\tlearn: 0.2163887\ttotal: 357ms\tremaining: 1.27s\n",
      "219:\tlearn: 0.2156776\ttotal: 358ms\tremaining: 1.27s\n",
      "220:\tlearn: 0.2148650\ttotal: 359ms\tremaining: 1.26s\n",
      "221:\tlearn: 0.2141552\ttotal: 360ms\tremaining: 1.26s\n",
      "222:\tlearn: 0.2138895\ttotal: 361ms\tremaining: 1.26s\n",
      "223:\tlearn: 0.2130063\ttotal: 361ms\tremaining: 1.25s\n",
      "224:\tlearn: 0.2125460\ttotal: 362ms\tremaining: 1.25s\n",
      "225:\tlearn: 0.2118655\ttotal: 363ms\tremaining: 1.24s\n",
      "226:\tlearn: 0.2113184\ttotal: 364ms\tremaining: 1.24s\n",
      "227:\tlearn: 0.2109053\ttotal: 365ms\tremaining: 1.23s\n",
      "228:\tlearn: 0.2103181\ttotal: 365ms\tremaining: 1.23s\n",
      "229:\tlearn: 0.2098572\ttotal: 366ms\tremaining: 1.23s\n",
      "230:\tlearn: 0.2095810\ttotal: 367ms\tremaining: 1.22s\n",
      "231:\tlearn: 0.2090759\ttotal: 368ms\tremaining: 1.22s\n",
      "232:\tlearn: 0.2088262\ttotal: 369ms\tremaining: 1.22s\n",
      "233:\tlearn: 0.2084865\ttotal: 370ms\tremaining: 1.21s\n",
      "234:\tlearn: 0.2081762\ttotal: 372ms\tremaining: 1.21s\n",
      "235:\tlearn: 0.2077782\ttotal: 373ms\tremaining: 1.21s\n",
      "236:\tlearn: 0.2075391\ttotal: 374ms\tremaining: 1.2s\n",
      "237:\tlearn: 0.2069843\ttotal: 385ms\tremaining: 1.23s\n",
      "238:\tlearn: 0.2067096\ttotal: 386ms\tremaining: 1.23s\n",
      "239:\tlearn: 0.2065072\ttotal: 386ms\tremaining: 1.22s\n",
      "240:\tlearn: 0.2060034\ttotal: 387ms\tremaining: 1.22s\n",
      "241:\tlearn: 0.2055162\ttotal: 388ms\tremaining: 1.22s\n",
      "242:\tlearn: 0.2052479\ttotal: 389ms\tremaining: 1.21s\n",
      "243:\tlearn: 0.2047522\ttotal: 390ms\tremaining: 1.21s\n",
      "244:\tlearn: 0.2041506\ttotal: 391ms\tremaining: 1.2s\n",
      "245:\tlearn: 0.2035892\ttotal: 392ms\tremaining: 1.2s\n",
      "246:\tlearn: 0.2032852\ttotal: 392ms\tremaining: 1.2s\n",
      "247:\tlearn: 0.2030503\ttotal: 393ms\tremaining: 1.19s\n"
     ]
    },
    {
     "name": "stdout",
     "output_type": "stream",
     "text": [
      "248:\tlearn: 0.2028383\ttotal: 404ms\tremaining: 1.22s\n",
      "249:\tlearn: 0.2023973\ttotal: 405ms\tremaining: 1.21s\n",
      "250:\tlearn: 0.2021895\ttotal: 406ms\tremaining: 1.21s\n",
      "251:\tlearn: 0.2015696\ttotal: 407ms\tremaining: 1.21s\n",
      "252:\tlearn: 0.2010294\ttotal: 408ms\tremaining: 1.2s\n",
      "253:\tlearn: 0.2004475\ttotal: 408ms\tremaining: 1.2s\n",
      "254:\tlearn: 0.2002311\ttotal: 409ms\tremaining: 1.2s\n",
      "255:\tlearn: 0.1997467\ttotal: 410ms\tremaining: 1.19s\n",
      "256:\tlearn: 0.1994114\ttotal: 411ms\tremaining: 1.19s\n",
      "257:\tlearn: 0.1991332\ttotal: 412ms\tremaining: 1.18s\n",
      "258:\tlearn: 0.1989143\ttotal: 413ms\tremaining: 1.18s\n",
      "259:\tlearn: 0.1986970\ttotal: 423ms\tremaining: 1.21s\n",
      "260:\tlearn: 0.1980854\ttotal: 424ms\tremaining: 1.2s\n",
      "261:\tlearn: 0.1979249\ttotal: 425ms\tremaining: 1.2s\n",
      "262:\tlearn: 0.1973722\ttotal: 426ms\tremaining: 1.19s\n",
      "263:\tlearn: 0.1968696\ttotal: 427ms\tremaining: 1.19s\n",
      "264:\tlearn: 0.1964139\ttotal: 428ms\tremaining: 1.19s\n",
      "265:\tlearn: 0.1959433\ttotal: 429ms\tremaining: 1.18s\n",
      "266:\tlearn: 0.1952820\ttotal: 429ms\tremaining: 1.18s\n",
      "267:\tlearn: 0.1946520\ttotal: 431ms\tremaining: 1.18s\n",
      "268:\tlearn: 0.1945204\ttotal: 432ms\tremaining: 1.18s\n",
      "269:\tlearn: 0.1943751\ttotal: 434ms\tremaining: 1.17s\n",
      "270:\tlearn: 0.1939710\ttotal: 434ms\tremaining: 1.17s\n",
      "271:\tlearn: 0.1937141\ttotal: 435ms\tremaining: 1.16s\n",
      "272:\tlearn: 0.1933443\ttotal: 446ms\tremaining: 1.19s\n",
      "273:\tlearn: 0.1930632\ttotal: 447ms\tremaining: 1.18s\n",
      "274:\tlearn: 0.1924869\ttotal: 448ms\tremaining: 1.18s\n",
      "275:\tlearn: 0.1923268\ttotal: 449ms\tremaining: 1.18s\n",
      "276:\tlearn: 0.1917441\ttotal: 450ms\tremaining: 1.17s\n",
      "277:\tlearn: 0.1913814\ttotal: 450ms\tremaining: 1.17s\n",
      "278:\tlearn: 0.1908337\ttotal: 451ms\tremaining: 1.17s\n",
      "279:\tlearn: 0.1904007\ttotal: 452ms\tremaining: 1.16s\n",
      "280:\tlearn: 0.1897758\ttotal: 453ms\tremaining: 1.16s\n",
      "281:\tlearn: 0.1892254\ttotal: 454ms\tremaining: 1.16s\n",
      "282:\tlearn: 0.1886808\ttotal: 455ms\tremaining: 1.15s\n"
     ]
    },
    {
     "name": "stdout",
     "output_type": "stream",
     "text": [
      "283:\tlearn: 0.1885429\ttotal: 465ms\tremaining: 1.17s\n",
      "284:\tlearn: 0.1879234\ttotal: 477ms\tremaining: 1.2s\n",
      "285:\tlearn: 0.1872618\ttotal: 478ms\tremaining: 1.19s\n",
      "286:\tlearn: 0.1871201\ttotal: 480ms\tremaining: 1.19s\n",
      "287:\tlearn: 0.1869896\ttotal: 481ms\tremaining: 1.19s\n",
      "288:\tlearn: 0.1866195\ttotal: 483ms\tremaining: 1.19s\n",
      "289:\tlearn: 0.1861647\ttotal: 484ms\tremaining: 1.19s\n",
      "290:\tlearn: 0.1854949\ttotal: 486ms\tremaining: 1.18s\n",
      "291:\tlearn: 0.1849740\ttotal: 487ms\tremaining: 1.18s\n",
      "292:\tlearn: 0.1844342\ttotal: 488ms\tremaining: 1.18s\n",
      "293:\tlearn: 0.1840751\ttotal: 490ms\tremaining: 1.18s\n",
      "294:\tlearn: 0.1837132\ttotal: 491ms\tremaining: 1.17s\n",
      "295:\tlearn: 0.1830723\ttotal: 492ms\tremaining: 1.17s\n",
      "296:\tlearn: 0.1826844\ttotal: 494ms\tremaining: 1.17s\n",
      "297:\tlearn: 0.1821228\ttotal: 495ms\tremaining: 1.17s\n",
      "298:\tlearn: 0.1816893\ttotal: 496ms\tremaining: 1.16s\n",
      "299:\tlearn: 0.1812386\ttotal: 497ms\tremaining: 1.16s\n",
      "300:\tlearn: 0.1810646\ttotal: 499ms\tremaining: 1.16s\n",
      "301:\tlearn: 0.1806839\ttotal: 500ms\tremaining: 1.16s\n",
      "302:\tlearn: 0.1800206\ttotal: 501ms\tremaining: 1.15s\n",
      "303:\tlearn: 0.1794828\ttotal: 502ms\tremaining: 1.15s\n",
      "304:\tlearn: 0.1791688\ttotal: 506ms\tremaining: 1.15s\n",
      "305:\tlearn: 0.1787122\ttotal: 507ms\tremaining: 1.15s\n",
      "306:\tlearn: 0.1784525\ttotal: 508ms\tremaining: 1.15s\n",
      "307:\tlearn: 0.1780032\ttotal: 509ms\tremaining: 1.14s\n",
      "308:\tlearn: 0.1777592\ttotal: 509ms\tremaining: 1.14s\n",
      "309:\tlearn: 0.1774310\ttotal: 510ms\tremaining: 1.14s\n",
      "310:\tlearn: 0.1769356\ttotal: 511ms\tremaining: 1.13s\n",
      "311:\tlearn: 0.1764522\ttotal: 512ms\tremaining: 1.13s\n",
      "312:\tlearn: 0.1760727\ttotal: 513ms\tremaining: 1.13s\n",
      "313:\tlearn: 0.1757547\ttotal: 514ms\tremaining: 1.12s\n",
      "314:\tlearn: 0.1756013\ttotal: 515ms\tremaining: 1.12s\n",
      "315:\tlearn: 0.1752069\ttotal: 517ms\tremaining: 1.12s\n",
      "316:\tlearn: 0.1747901\ttotal: 517ms\tremaining: 1.11s\n",
      "317:\tlearn: 0.1746929\ttotal: 518ms\tremaining: 1.11s\n",
      "318:\tlearn: 0.1745854\ttotal: 519ms\tremaining: 1.11s\n",
      "319:\tlearn: 0.1740412\ttotal: 520ms\tremaining: 1.1s\n",
      "320:\tlearn: 0.1735909\ttotal: 521ms\tremaining: 1.1s\n",
      "321:\tlearn: 0.1729869\ttotal: 522ms\tremaining: 1.1s\n",
      "322:\tlearn: 0.1726871\ttotal: 523ms\tremaining: 1.1s\n",
      "323:\tlearn: 0.1723185\ttotal: 524ms\tremaining: 1.09s\n",
      "324:\tlearn: 0.1720136\ttotal: 525ms\tremaining: 1.09s\n",
      "325:\tlearn: 0.1718351\ttotal: 526ms\tremaining: 1.09s\n",
      "326:\tlearn: 0.1715100\ttotal: 526ms\tremaining: 1.08s\n",
      "327:\tlearn: 0.1712186\ttotal: 527ms\tremaining: 1.08s\n",
      "328:\tlearn: 0.1707849\ttotal: 528ms\tremaining: 1.08s\n",
      "329:\tlearn: 0.1706949\ttotal: 530ms\tremaining: 1.07s\n",
      "330:\tlearn: 0.1701479\ttotal: 531ms\tremaining: 1.07s\n",
      "331:\tlearn: 0.1697469\ttotal: 532ms\tremaining: 1.07s\n",
      "332:\tlearn: 0.1694258\ttotal: 533ms\tremaining: 1.07s\n",
      "333:\tlearn: 0.1690654\ttotal: 534ms\tremaining: 1.06s\n",
      "334:\tlearn: 0.1688493\ttotal: 535ms\tremaining: 1.06s\n",
      "335:\tlearn: 0.1685071\ttotal: 536ms\tremaining: 1.06s\n",
      "336:\tlearn: 0.1680158\ttotal: 537ms\tremaining: 1.06s\n",
      "337:\tlearn: 0.1676750\ttotal: 538ms\tremaining: 1.05s\n",
      "338:\tlearn: 0.1675492\ttotal: 539ms\tremaining: 1.05s\n",
      "339:\tlearn: 0.1669973\ttotal: 540ms\tremaining: 1.05s\n",
      "340:\tlearn: 0.1666463\ttotal: 541ms\tremaining: 1.04s\n",
      "341:\tlearn: 0.1663692\ttotal: 542ms\tremaining: 1.04s\n",
      "342:\tlearn: 0.1660289\ttotal: 543ms\tremaining: 1.04s\n",
      "343:\tlearn: 0.1656338\ttotal: 544ms\tremaining: 1.04s\n",
      "344:\tlearn: 0.1653117\ttotal: 546ms\tremaining: 1.04s\n",
      "345:\tlearn: 0.1651342\ttotal: 547ms\tremaining: 1.03s\n",
      "346:\tlearn: 0.1650135\ttotal: 550ms\tremaining: 1.03s\n",
      "347:\tlearn: 0.1647132\ttotal: 551ms\tremaining: 1.03s\n",
      "348:\tlearn: 0.1642128\ttotal: 553ms\tremaining: 1.03s\n",
      "349:\tlearn: 0.1638838\ttotal: 554ms\tremaining: 1.03s\n",
      "350:\tlearn: 0.1635444\ttotal: 559ms\tremaining: 1.03s\n",
      "351:\tlearn: 0.1632111\ttotal: 560ms\tremaining: 1.03s\n",
      "352:\tlearn: 0.1627101\ttotal: 561ms\tremaining: 1.03s\n",
      "353:\tlearn: 0.1623166\ttotal: 561ms\tremaining: 1.02s\n",
      "354:\tlearn: 0.1620728\ttotal: 564ms\tremaining: 1.02s\n",
      "355:\tlearn: 0.1616651\ttotal: 565ms\tremaining: 1.02s\n",
      "356:\tlearn: 0.1615389\ttotal: 566ms\tremaining: 1.02s\n",
      "357:\tlearn: 0.1612826\ttotal: 566ms\tremaining: 1.01s\n",
      "358:\tlearn: 0.1609614\ttotal: 569ms\tremaining: 1.01s\n",
      "359:\tlearn: 0.1604573\ttotal: 569ms\tremaining: 1.01s\n",
      "360:\tlearn: 0.1600033\ttotal: 570ms\tremaining: 1.01s\n",
      "361:\tlearn: 0.1597246\ttotal: 571ms\tremaining: 1.01s\n",
      "362:\tlearn: 0.1592938\ttotal: 572ms\tremaining: 1s\n",
      "363:\tlearn: 0.1588500\ttotal: 573ms\tremaining: 1s\n",
      "364:\tlearn: 0.1585741\ttotal: 573ms\tremaining: 998ms\n",
      "365:\tlearn: 0.1582194\ttotal: 576ms\tremaining: 998ms\n",
      "366:\tlearn: 0.1578947\ttotal: 577ms\tremaining: 996ms\n",
      "367:\tlearn: 0.1577147\ttotal: 578ms\tremaining: 993ms\n",
      "368:\tlearn: 0.1575231\ttotal: 579ms\tremaining: 990ms\n",
      "369:\tlearn: 0.1570728\ttotal: 580ms\tremaining: 987ms\n",
      "370:\tlearn: 0.1566745\ttotal: 580ms\tremaining: 984ms\n",
      "371:\tlearn: 0.1564853\ttotal: 581ms\tremaining: 981ms\n",
      "372:\tlearn: 0.1561204\ttotal: 582ms\tremaining: 979ms\n",
      "373:\tlearn: 0.1557808\ttotal: 583ms\tremaining: 976ms\n",
      "374:\tlearn: 0.1557025\ttotal: 585ms\tremaining: 975ms\n",
      "375:\tlearn: 0.1552112\ttotal: 586ms\tremaining: 972ms\n",
      "376:\tlearn: 0.1550117\ttotal: 586ms\tremaining: 969ms\n",
      "377:\tlearn: 0.1545781\ttotal: 587ms\tremaining: 966ms\n",
      "378:\tlearn: 0.1543444\ttotal: 588ms\tremaining: 964ms\n",
      "379:\tlearn: 0.1540252\ttotal: 589ms\tremaining: 962ms\n",
      "380:\tlearn: 0.1537370\ttotal: 591ms\tremaining: 959ms\n",
      "381:\tlearn: 0.1535969\ttotal: 592ms\tremaining: 958ms\n",
      "382:\tlearn: 0.1535341\ttotal: 593ms\tremaining: 955ms\n",
      "383:\tlearn: 0.1532093\ttotal: 594ms\tremaining: 953ms\n",
      "384:\tlearn: 0.1528856\ttotal: 595ms\tremaining: 950ms\n",
      "385:\tlearn: 0.1527504\ttotal: 595ms\tremaining: 947ms\n",
      "386:\tlearn: 0.1524409\ttotal: 596ms\tremaining: 944ms\n"
     ]
    },
    {
     "name": "stdout",
     "output_type": "stream",
     "text": [
      "387:\tlearn: 0.1522464\ttotal: 598ms\tremaining: 943ms\n",
      "388:\tlearn: 0.1520718\ttotal: 599ms\tremaining: 941ms\n",
      "389:\tlearn: 0.1517052\ttotal: 601ms\tremaining: 940ms\n",
      "390:\tlearn: 0.1516304\ttotal: 602ms\tremaining: 938ms\n",
      "391:\tlearn: 0.1512263\ttotal: 603ms\tremaining: 935ms\n",
      "392:\tlearn: 0.1510242\ttotal: 604ms\tremaining: 933ms\n",
      "393:\tlearn: 0.1509834\ttotal: 605ms\tremaining: 930ms\n",
      "394:\tlearn: 0.1509141\ttotal: 606ms\tremaining: 928ms\n",
      "395:\tlearn: 0.1508263\ttotal: 607ms\tremaining: 926ms\n",
      "396:\tlearn: 0.1505359\ttotal: 608ms\tremaining: 923ms\n",
      "397:\tlearn: 0.1501611\ttotal: 609ms\tremaining: 921ms\n",
      "398:\tlearn: 0.1497129\ttotal: 610ms\tremaining: 919ms\n",
      "399:\tlearn: 0.1492958\ttotal: 611ms\tremaining: 916ms\n",
      "400:\tlearn: 0.1492524\ttotal: 612ms\tremaining: 914ms\n",
      "401:\tlearn: 0.1490039\ttotal: 613ms\tremaining: 912ms\n",
      "402:\tlearn: 0.1488811\ttotal: 614ms\tremaining: 910ms\n",
      "403:\tlearn: 0.1486269\ttotal: 615ms\tremaining: 908ms\n",
      "404:\tlearn: 0.1484162\ttotal: 616ms\tremaining: 905ms\n",
      "405:\tlearn: 0.1482575\ttotal: 617ms\tremaining: 903ms\n",
      "406:\tlearn: 0.1481925\ttotal: 618ms\tremaining: 900ms\n",
      "407:\tlearn: 0.1481322\ttotal: 619ms\tremaining: 898ms\n",
      "408:\tlearn: 0.1480052\ttotal: 627ms\tremaining: 906ms\n",
      "409:\tlearn: 0.1477720\ttotal: 628ms\tremaining: 904ms\n",
      "410:\tlearn: 0.1475304\ttotal: 629ms\tremaining: 902ms\n",
      "411:\tlearn: 0.1474312\ttotal: 630ms\tremaining: 900ms\n",
      "412:\tlearn: 0.1473450\ttotal: 631ms\tremaining: 897ms\n",
      "413:\tlearn: 0.1470585\ttotal: 632ms\tremaining: 895ms\n",
      "414:\tlearn: 0.1470323\ttotal: 633ms\tremaining: 892ms\n",
      "415:\tlearn: 0.1469444\ttotal: 634ms\tremaining: 889ms\n",
      "416:\tlearn: 0.1466629\ttotal: 634ms\tremaining: 887ms\n",
      "417:\tlearn: 0.1462940\ttotal: 636ms\tremaining: 885ms\n",
      "418:\tlearn: 0.1459718\ttotal: 637ms\tremaining: 883ms\n",
      "419:\tlearn: 0.1455856\ttotal: 638ms\tremaining: 881ms\n",
      "420:\tlearn: 0.1455028\ttotal: 639ms\tremaining: 878ms\n",
      "421:\tlearn: 0.1452472\ttotal: 641ms\tremaining: 878ms\n",
      "422:\tlearn: 0.1448451\ttotal: 642ms\tremaining: 876ms\n",
      "423:\tlearn: 0.1446062\ttotal: 644ms\tremaining: 874ms\n",
      "424:\tlearn: 0.1442014\ttotal: 645ms\tremaining: 872ms\n",
      "425:\tlearn: 0.1439642\ttotal: 646ms\tremaining: 871ms\n",
      "426:\tlearn: 0.1438144\ttotal: 648ms\tremaining: 869ms\n",
      "427:\tlearn: 0.1434358\ttotal: 648ms\tremaining: 867ms\n",
      "428:\tlearn: 0.1431974\ttotal: 649ms\tremaining: 864ms\n",
      "429:\tlearn: 0.1429168\ttotal: 650ms\tremaining: 862ms\n",
      "430:\tlearn: 0.1425970\ttotal: 651ms\tremaining: 860ms\n",
      "431:\tlearn: 0.1420992\ttotal: 653ms\tremaining: 858ms\n",
      "432:\tlearn: 0.1418475\ttotal: 653ms\tremaining: 856ms\n",
      "433:\tlearn: 0.1418107\ttotal: 654ms\tremaining: 853ms\n",
      "434:\tlearn: 0.1417354\ttotal: 655ms\tremaining: 851ms\n",
      "435:\tlearn: 0.1415883\ttotal: 656ms\tremaining: 849ms\n",
      "436:\tlearn: 0.1412393\ttotal: 658ms\tremaining: 847ms\n"
     ]
    },
    {
     "name": "stdout",
     "output_type": "stream",
     "text": [
      "437:\tlearn: 0.1409914\ttotal: 659ms\tremaining: 846ms\n",
      "438:\tlearn: 0.1408557\ttotal: 660ms\tremaining: 844ms\n",
      "439:\tlearn: 0.1406056\ttotal: 661ms\tremaining: 841ms\n",
      "440:\tlearn: 0.1405474\ttotal: 662ms\tremaining: 839ms\n",
      "441:\tlearn: 0.1404051\ttotal: 663ms\tremaining: 837ms\n",
      "442:\tlearn: 0.1399475\ttotal: 665ms\tremaining: 836ms\n",
      "443:\tlearn: 0.1397548\ttotal: 666ms\tremaining: 834ms\n",
      "444:\tlearn: 0.1395026\ttotal: 667ms\tremaining: 832ms\n",
      "445:\tlearn: 0.1392027\ttotal: 668ms\tremaining: 830ms\n",
      "446:\tlearn: 0.1391042\ttotal: 669ms\tremaining: 828ms\n",
      "447:\tlearn: 0.1390658\ttotal: 670ms\tremaining: 826ms\n",
      "448:\tlearn: 0.1388965\ttotal: 672ms\tremaining: 824ms\n",
      "449:\tlearn: 0.1388250\ttotal: 673ms\tremaining: 822ms\n",
      "450:\tlearn: 0.1384485\ttotal: 673ms\tremaining: 820ms\n",
      "451:\tlearn: 0.1381027\ttotal: 675ms\tremaining: 818ms\n",
      "452:\tlearn: 0.1380343\ttotal: 676ms\tremaining: 817ms\n",
      "453:\tlearn: 0.1379650\ttotal: 677ms\tremaining: 815ms\n",
      "454:\tlearn: 0.1377544\ttotal: 679ms\tremaining: 813ms\n",
      "455:\tlearn: 0.1376124\ttotal: 680ms\tremaining: 811ms\n",
      "456:\tlearn: 0.1372219\ttotal: 681ms\tremaining: 810ms\n",
      "457:\tlearn: 0.1369822\ttotal: 682ms\tremaining: 807ms\n",
      "458:\tlearn: 0.1367486\ttotal: 683ms\tremaining: 805ms\n",
      "459:\tlearn: 0.1364323\ttotal: 684ms\tremaining: 803ms\n",
      "460:\tlearn: 0.1361208\ttotal: 685ms\tremaining: 801ms\n",
      "461:\tlearn: 0.1357977\ttotal: 686ms\tremaining: 799ms\n",
      "462:\tlearn: 0.1357217\ttotal: 687ms\tremaining: 797ms\n",
      "463:\tlearn: 0.1354845\ttotal: 688ms\tremaining: 795ms\n",
      "464:\tlearn: 0.1351100\ttotal: 689ms\tremaining: 793ms\n",
      "465:\tlearn: 0.1350380\ttotal: 690ms\tremaining: 791ms\n",
      "466:\tlearn: 0.1348240\ttotal: 691ms\tremaining: 789ms\n",
      "467:\tlearn: 0.1344851\ttotal: 692ms\tremaining: 787ms\n",
      "468:\tlearn: 0.1342323\ttotal: 693ms\tremaining: 784ms\n",
      "469:\tlearn: 0.1339885\ttotal: 694ms\tremaining: 782ms\n",
      "470:\tlearn: 0.1338057\ttotal: 695ms\tremaining: 781ms\n",
      "471:\tlearn: 0.1335548\ttotal: 696ms\tremaining: 779ms\n",
      "472:\tlearn: 0.1333264\ttotal: 697ms\tremaining: 777ms\n",
      "473:\tlearn: 0.1331476\ttotal: 698ms\tremaining: 775ms\n",
      "474:\tlearn: 0.1328518\ttotal: 699ms\tremaining: 773ms\n",
      "475:\tlearn: 0.1325835\ttotal: 700ms\tremaining: 771ms\n",
      "476:\tlearn: 0.1321487\ttotal: 701ms\tremaining: 769ms\n",
      "477:\tlearn: 0.1318403\ttotal: 702ms\tremaining: 767ms\n",
      "478:\tlearn: 0.1315824\ttotal: 704ms\tremaining: 765ms\n",
      "479:\tlearn: 0.1314840\ttotal: 705ms\tremaining: 763ms\n",
      "480:\tlearn: 0.1313118\ttotal: 705ms\tremaining: 761ms\n",
      "481:\tlearn: 0.1312098\ttotal: 706ms\tremaining: 759ms\n",
      "482:\tlearn: 0.1310556\ttotal: 707ms\tremaining: 757ms\n",
      "483:\tlearn: 0.1309318\ttotal: 709ms\tremaining: 756ms\n",
      "484:\tlearn: 0.1306625\ttotal: 710ms\tremaining: 754ms\n",
      "485:\tlearn: 0.1303945\ttotal: 711ms\tremaining: 752ms\n",
      "486:\tlearn: 0.1300094\ttotal: 712ms\tremaining: 750ms\n",
      "487:\tlearn: 0.1299268\ttotal: 713ms\tremaining: 748ms\n",
      "488:\tlearn: 0.1297420\ttotal: 714ms\tremaining: 746ms\n",
      "489:\tlearn: 0.1297140\ttotal: 716ms\tremaining: 745ms\n",
      "490:\tlearn: 0.1293722\ttotal: 720ms\tremaining: 747ms\n",
      "491:\tlearn: 0.1290782\ttotal: 722ms\tremaining: 745ms\n",
      "492:\tlearn: 0.1287538\ttotal: 723ms\tremaining: 743ms\n",
      "493:\tlearn: 0.1285134\ttotal: 724ms\tremaining: 741ms\n",
      "494:\tlearn: 0.1282747\ttotal: 725ms\tremaining: 740ms\n",
      "495:\tlearn: 0.1282322\ttotal: 726ms\tremaining: 738ms\n",
      "496:\tlearn: 0.1281254\ttotal: 727ms\tremaining: 736ms\n",
      "497:\tlearn: 0.1277805\ttotal: 730ms\tremaining: 736ms\n",
      "498:\tlearn: 0.1275802\ttotal: 732ms\tremaining: 735ms\n",
      "499:\tlearn: 0.1273388\ttotal: 734ms\tremaining: 734ms\n",
      "500:\tlearn: 0.1271450\ttotal: 735ms\tremaining: 732ms\n",
      "501:\tlearn: 0.1269557\ttotal: 737ms\tremaining: 731ms\n",
      "502:\tlearn: 0.1268735\ttotal: 738ms\tremaining: 729ms\n",
      "503:\tlearn: 0.1266814\ttotal: 739ms\tremaining: 727ms\n",
      "504:\tlearn: 0.1264027\ttotal: 740ms\tremaining: 725ms\n",
      "505:\tlearn: 0.1261880\ttotal: 743ms\tremaining: 725ms\n",
      "506:\tlearn: 0.1259465\ttotal: 743ms\tremaining: 723ms\n",
      "507:\tlearn: 0.1257725\ttotal: 745ms\tremaining: 722ms\n",
      "508:\tlearn: 0.1257497\ttotal: 748ms\tremaining: 721ms\n",
      "509:\tlearn: 0.1254003\ttotal: 749ms\tremaining: 720ms\n",
      "510:\tlearn: 0.1251782\ttotal: 750ms\tremaining: 717ms\n",
      "511:\tlearn: 0.1249166\ttotal: 754ms\tremaining: 719ms\n",
      "512:\tlearn: 0.1247087\ttotal: 758ms\tremaining: 719ms\n",
      "513:\tlearn: 0.1246490\ttotal: 759ms\tremaining: 718ms\n",
      "514:\tlearn: 0.1244863\ttotal: 761ms\tremaining: 717ms\n",
      "515:\tlearn: 0.1241566\ttotal: 762ms\tremaining: 715ms\n",
      "516:\tlearn: 0.1241025\ttotal: 764ms\tremaining: 714ms\n",
      "517:\tlearn: 0.1240632\ttotal: 767ms\tremaining: 713ms\n",
      "518:\tlearn: 0.1237991\ttotal: 768ms\tremaining: 712ms\n",
      "519:\tlearn: 0.1235735\ttotal: 769ms\tremaining: 710ms\n",
      "520:\tlearn: 0.1235188\ttotal: 770ms\tremaining: 708ms\n",
      "521:\tlearn: 0.1234486\ttotal: 772ms\tremaining: 707ms\n",
      "522:\tlearn: 0.1232886\ttotal: 773ms\tremaining: 705ms\n",
      "523:\tlearn: 0.1230037\ttotal: 778ms\tremaining: 706ms\n",
      "524:\tlearn: 0.1226922\ttotal: 779ms\tremaining: 704ms\n",
      "525:\tlearn: 0.1224418\ttotal: 780ms\tremaining: 703ms\n",
      "526:\tlearn: 0.1222055\ttotal: 781ms\tremaining: 701ms\n",
      "527:\tlearn: 0.1218808\ttotal: 784ms\tremaining: 700ms\n",
      "528:\tlearn: 0.1216548\ttotal: 785ms\tremaining: 699ms\n",
      "529:\tlearn: 0.1215168\ttotal: 786ms\tremaining: 697ms\n",
      "530:\tlearn: 0.1213049\ttotal: 787ms\tremaining: 695ms\n",
      "531:\tlearn: 0.1212549\ttotal: 787ms\tremaining: 693ms\n",
      "532:\tlearn: 0.1209896\ttotal: 788ms\tremaining: 691ms\n"
     ]
    },
    {
     "name": "stdout",
     "output_type": "stream",
     "text": [
      "533:\tlearn: 0.1209542\ttotal: 789ms\tremaining: 689ms\n",
      "534:\tlearn: 0.1207624\ttotal: 791ms\tremaining: 688ms\n",
      "535:\tlearn: 0.1205460\ttotal: 792ms\tremaining: 686ms\n",
      "536:\tlearn: 0.1204027\ttotal: 794ms\tremaining: 684ms\n",
      "537:\tlearn: 0.1202522\ttotal: 794ms\tremaining: 682ms\n",
      "538:\tlearn: 0.1200083\ttotal: 796ms\tremaining: 681ms\n",
      "539:\tlearn: 0.1199726\ttotal: 796ms\tremaining: 678ms\n",
      "540:\tlearn: 0.1195728\ttotal: 798ms\tremaining: 677ms\n",
      "541:\tlearn: 0.1192926\ttotal: 799ms\tremaining: 675ms\n",
      "542:\tlearn: 0.1191304\ttotal: 799ms\tremaining: 673ms\n",
      "543:\tlearn: 0.1188527\ttotal: 800ms\tremaining: 671ms\n",
      "544:\tlearn: 0.1185634\ttotal: 802ms\tremaining: 669ms\n",
      "545:\tlearn: 0.1185191\ttotal: 803ms\tremaining: 668ms\n",
      "546:\tlearn: 0.1184643\ttotal: 804ms\tremaining: 666ms\n",
      "547:\tlearn: 0.1182239\ttotal: 805ms\tremaining: 664ms\n",
      "548:\tlearn: 0.1181122\ttotal: 806ms\tremaining: 662ms\n",
      "549:\tlearn: 0.1180644\ttotal: 808ms\tremaining: 661ms\n",
      "550:\tlearn: 0.1180463\ttotal: 809ms\tremaining: 659ms\n",
      "551:\tlearn: 0.1179999\ttotal: 810ms\tremaining: 657ms\n",
      "552:\tlearn: 0.1177469\ttotal: 810ms\tremaining: 655ms\n",
      "553:\tlearn: 0.1175689\ttotal: 811ms\tremaining: 653ms\n",
      "554:\tlearn: 0.1175235\ttotal: 812ms\tremaining: 651ms\n",
      "555:\tlearn: 0.1171809\ttotal: 813ms\tremaining: 649ms\n",
      "556:\tlearn: 0.1171340\ttotal: 814ms\tremaining: 647ms\n",
      "557:\tlearn: 0.1170003\ttotal: 815ms\tremaining: 646ms\n",
      "558:\tlearn: 0.1167740\ttotal: 816ms\tremaining: 644ms\n",
      "559:\tlearn: 0.1165623\ttotal: 817ms\tremaining: 642ms\n",
      "560:\tlearn: 0.1165161\ttotal: 818ms\tremaining: 640ms\n",
      "561:\tlearn: 0.1163934\ttotal: 819ms\tremaining: 639ms\n",
      "562:\tlearn: 0.1161400\ttotal: 820ms\tremaining: 637ms\n",
      "563:\tlearn: 0.1161179\ttotal: 821ms\tremaining: 635ms\n",
      "564:\tlearn: 0.1159350\ttotal: 822ms\tremaining: 633ms\n",
      "565:\tlearn: 0.1157961\ttotal: 823ms\tremaining: 631ms\n",
      "566:\tlearn: 0.1156770\ttotal: 824ms\tremaining: 630ms\n",
      "567:\tlearn: 0.1155677\ttotal: 825ms\tremaining: 628ms\n",
      "568:\tlearn: 0.1154115\ttotal: 826ms\tremaining: 626ms\n",
      "569:\tlearn: 0.1153791\ttotal: 827ms\tremaining: 624ms\n",
      "570:\tlearn: 0.1151639\ttotal: 828ms\tremaining: 622ms\n",
      "571:\tlearn: 0.1150707\ttotal: 829ms\tremaining: 621ms\n",
      "572:\tlearn: 0.1147656\ttotal: 830ms\tremaining: 619ms\n",
      "573:\tlearn: 0.1146326\ttotal: 831ms\tremaining: 617ms\n",
      "574:\tlearn: 0.1145072\ttotal: 832ms\tremaining: 615ms\n",
      "575:\tlearn: 0.1144326\ttotal: 833ms\tremaining: 613ms\n",
      "576:\tlearn: 0.1143352\ttotal: 834ms\tremaining: 612ms\n",
      "577:\tlearn: 0.1141322\ttotal: 835ms\tremaining: 610ms\n",
      "578:\tlearn: 0.1140204\ttotal: 836ms\tremaining: 608ms\n",
      "579:\tlearn: 0.1137018\ttotal: 837ms\tremaining: 606ms\n",
      "580:\tlearn: 0.1135194\ttotal: 837ms\tremaining: 604ms\n",
      "581:\tlearn: 0.1134036\ttotal: 838ms\tremaining: 602ms\n",
      "582:\tlearn: 0.1132319\ttotal: 839ms\tremaining: 600ms\n",
      "583:\tlearn: 0.1130082\ttotal: 840ms\tremaining: 598ms\n",
      "584:\tlearn: 0.1127066\ttotal: 841ms\tremaining: 597ms\n",
      "585:\tlearn: 0.1124176\ttotal: 842ms\tremaining: 595ms\n",
      "586:\tlearn: 0.1121896\ttotal: 842ms\tremaining: 593ms\n",
      "587:\tlearn: 0.1121256\ttotal: 843ms\tremaining: 591ms\n",
      "588:\tlearn: 0.1120169\ttotal: 844ms\tremaining: 589ms\n",
      "589:\tlearn: 0.1119942\ttotal: 845ms\tremaining: 587ms\n",
      "590:\tlearn: 0.1119019\ttotal: 846ms\tremaining: 585ms\n",
      "591:\tlearn: 0.1116205\ttotal: 849ms\tremaining: 585ms\n",
      "592:\tlearn: 0.1114213\ttotal: 849ms\tremaining: 583ms\n"
     ]
    },
    {
     "name": "stdout",
     "output_type": "stream",
     "text": [
      "593:\tlearn: 0.1113148\ttotal: 851ms\tremaining: 581ms\n",
      "594:\tlearn: 0.1110300\ttotal: 852ms\tremaining: 580ms\n",
      "595:\tlearn: 0.1108330\ttotal: 853ms\tremaining: 578ms\n",
      "596:\tlearn: 0.1106536\ttotal: 854ms\tremaining: 576ms\n",
      "597:\tlearn: 0.1103588\ttotal: 854ms\tremaining: 574ms\n",
      "598:\tlearn: 0.1100095\ttotal: 855ms\tremaining: 573ms\n",
      "599:\tlearn: 0.1098977\ttotal: 856ms\tremaining: 571ms\n",
      "600:\tlearn: 0.1097955\ttotal: 857ms\tremaining: 569ms\n",
      "601:\tlearn: 0.1095482\ttotal: 858ms\tremaining: 567ms\n",
      "602:\tlearn: 0.1092876\ttotal: 859ms\tremaining: 565ms\n",
      "603:\tlearn: 0.1089762\ttotal: 860ms\tremaining: 564ms\n",
      "604:\tlearn: 0.1088318\ttotal: 861ms\tremaining: 562ms\n",
      "605:\tlearn: 0.1086059\ttotal: 862ms\tremaining: 561ms\n",
      "606:\tlearn: 0.1084896\ttotal: 863ms\tremaining: 559ms\n",
      "607:\tlearn: 0.1082435\ttotal: 864ms\tremaining: 557ms\n",
      "608:\tlearn: 0.1080370\ttotal: 866ms\tremaining: 556ms\n",
      "609:\tlearn: 0.1079385\ttotal: 867ms\tremaining: 554ms\n",
      "610:\tlearn: 0.1078577\ttotal: 868ms\tremaining: 552ms\n",
      "611:\tlearn: 0.1076283\ttotal: 868ms\tremaining: 551ms\n",
      "612:\tlearn: 0.1074354\ttotal: 869ms\tremaining: 549ms\n",
      "613:\tlearn: 0.1072362\ttotal: 870ms\tremaining: 547ms\n",
      "614:\tlearn: 0.1072129\ttotal: 871ms\tremaining: 545ms\n",
      "615:\tlearn: 0.1069523\ttotal: 872ms\tremaining: 544ms\n",
      "616:\tlearn: 0.1068109\ttotal: 873ms\tremaining: 542ms\n",
      "617:\tlearn: 0.1065596\ttotal: 874ms\tremaining: 540ms\n",
      "618:\tlearn: 0.1063207\ttotal: 875ms\tremaining: 538ms\n",
      "619:\tlearn: 0.1061022\ttotal: 877ms\tremaining: 537ms\n",
      "620:\tlearn: 0.1059389\ttotal: 877ms\tremaining: 536ms\n",
      "621:\tlearn: 0.1058498\ttotal: 879ms\tremaining: 534ms\n",
      "622:\tlearn: 0.1056293\ttotal: 880ms\tremaining: 533ms\n",
      "623:\tlearn: 0.1055348\ttotal: 881ms\tremaining: 531ms\n",
      "624:\tlearn: 0.1053046\ttotal: 883ms\tremaining: 530ms\n",
      "625:\tlearn: 0.1051662\ttotal: 883ms\tremaining: 528ms\n",
      "626:\tlearn: 0.1049426\ttotal: 885ms\tremaining: 526ms\n",
      "627:\tlearn: 0.1047183\ttotal: 886ms\tremaining: 525ms\n",
      "628:\tlearn: 0.1045184\ttotal: 886ms\tremaining: 523ms\n",
      "629:\tlearn: 0.1043421\ttotal: 887ms\tremaining: 521ms\n",
      "630:\tlearn: 0.1042374\ttotal: 888ms\tremaining: 519ms\n",
      "631:\tlearn: 0.1039592\ttotal: 889ms\tremaining: 518ms\n",
      "632:\tlearn: 0.1037789\ttotal: 890ms\tremaining: 516ms\n",
      "633:\tlearn: 0.1036619\ttotal: 891ms\tremaining: 514ms\n",
      "634:\tlearn: 0.1034911\ttotal: 892ms\tremaining: 513ms\n",
      "635:\tlearn: 0.1034026\ttotal: 893ms\tremaining: 511ms\n",
      "636:\tlearn: 0.1033563\ttotal: 894ms\tremaining: 509ms\n",
      "637:\tlearn: 0.1032723\ttotal: 894ms\tremaining: 507ms\n",
      "638:\tlearn: 0.1031052\ttotal: 895ms\tremaining: 506ms\n",
      "639:\tlearn: 0.1030562\ttotal: 896ms\tremaining: 504ms\n",
      "640:\tlearn: 0.1028247\ttotal: 897ms\tremaining: 502ms\n",
      "641:\tlearn: 0.1025293\ttotal: 899ms\tremaining: 501ms\n",
      "642:\tlearn: 0.1023880\ttotal: 899ms\tremaining: 499ms\n",
      "643:\tlearn: 0.1021029\ttotal: 900ms\tremaining: 497ms\n",
      "644:\tlearn: 0.1019680\ttotal: 901ms\tremaining: 496ms\n",
      "645:\tlearn: 0.1018101\ttotal: 902ms\tremaining: 494ms\n",
      "646:\tlearn: 0.1015563\ttotal: 903ms\tremaining: 493ms\n",
      "647:\tlearn: 0.1013100\ttotal: 903ms\tremaining: 491ms\n",
      "648:\tlearn: 0.1011761\ttotal: 905ms\tremaining: 490ms\n",
      "649:\tlearn: 0.1009825\ttotal: 906ms\tremaining: 488ms\n",
      "650:\tlearn: 0.1008240\ttotal: 908ms\tremaining: 487ms\n",
      "651:\tlearn: 0.1008095\ttotal: 908ms\tremaining: 485ms\n",
      "652:\tlearn: 0.1007544\ttotal: 909ms\tremaining: 483ms\n",
      "653:\tlearn: 0.1006873\ttotal: 915ms\tremaining: 484ms\n",
      "654:\tlearn: 0.1005024\ttotal: 915ms\tremaining: 482ms\n",
      "655:\tlearn: 0.1004636\ttotal: 919ms\tremaining: 482ms\n",
      "656:\tlearn: 0.1003479\ttotal: 919ms\tremaining: 480ms\n",
      "657:\tlearn: 0.1002204\ttotal: 920ms\tremaining: 478ms\n",
      "658:\tlearn: 0.1000875\ttotal: 921ms\tremaining: 476ms\n",
      "659:\tlearn: 0.0998489\ttotal: 922ms\tremaining: 475ms\n",
      "660:\tlearn: 0.0996333\ttotal: 922ms\tremaining: 473ms\n",
      "661:\tlearn: 0.0994164\ttotal: 923ms\tremaining: 471ms\n",
      "662:\tlearn: 0.0992022\ttotal: 924ms\tremaining: 470ms\n",
      "663:\tlearn: 0.0989488\ttotal: 925ms\tremaining: 468ms\n",
      "664:\tlearn: 0.0987759\ttotal: 926ms\tremaining: 466ms\n",
      "665:\tlearn: 0.0987584\ttotal: 927ms\tremaining: 465ms\n",
      "666:\tlearn: 0.0986605\ttotal: 927ms\tremaining: 463ms\n",
      "667:\tlearn: 0.0986389\ttotal: 928ms\tremaining: 461ms\n",
      "668:\tlearn: 0.0984496\ttotal: 929ms\tremaining: 460ms\n",
      "669:\tlearn: 0.0982525\ttotal: 930ms\tremaining: 458ms\n",
      "670:\tlearn: 0.0980348\ttotal: 931ms\tremaining: 456ms\n",
      "671:\tlearn: 0.0979414\ttotal: 932ms\tremaining: 455ms\n",
      "672:\tlearn: 0.0978873\ttotal: 933ms\tremaining: 453ms\n",
      "673:\tlearn: 0.0975866\ttotal: 933ms\tremaining: 451ms\n",
      "674:\tlearn: 0.0974261\ttotal: 935ms\tremaining: 450ms\n",
      "675:\tlearn: 0.0972188\ttotal: 936ms\tremaining: 448ms\n",
      "676:\tlearn: 0.0969397\ttotal: 936ms\tremaining: 447ms\n",
      "677:\tlearn: 0.0968754\ttotal: 937ms\tremaining: 445ms\n",
      "678:\tlearn: 0.0967879\ttotal: 939ms\tremaining: 444ms\n",
      "679:\tlearn: 0.0966033\ttotal: 940ms\tremaining: 442ms\n",
      "680:\tlearn: 0.0964639\ttotal: 940ms\tremaining: 440ms\n",
      "681:\tlearn: 0.0964414\ttotal: 941ms\tremaining: 439ms\n",
      "682:\tlearn: 0.0962581\ttotal: 942ms\tremaining: 437ms\n",
      "683:\tlearn: 0.0961761\ttotal: 943ms\tremaining: 435ms\n",
      "684:\tlearn: 0.0960437\ttotal: 944ms\tremaining: 434ms\n",
      "685:\tlearn: 0.0958186\ttotal: 945ms\tremaining: 432ms\n",
      "686:\tlearn: 0.0957273\ttotal: 945ms\tremaining: 431ms\n",
      "687:\tlearn: 0.0955510\ttotal: 947ms\tremaining: 429ms\n",
      "688:\tlearn: 0.0953324\ttotal: 947ms\tremaining: 428ms\n",
      "689:\tlearn: 0.0951230\ttotal: 948ms\tremaining: 426ms\n",
      "690:\tlearn: 0.0950345\ttotal: 949ms\tremaining: 424ms\n",
      "691:\tlearn: 0.0948694\ttotal: 950ms\tremaining: 423ms\n",
      "692:\tlearn: 0.0946910\ttotal: 951ms\tremaining: 421ms\n",
      "693:\tlearn: 0.0944871\ttotal: 952ms\tremaining: 420ms\n",
      "694:\tlearn: 0.0944465\ttotal: 952ms\tremaining: 418ms\n",
      "695:\tlearn: 0.0943386\ttotal: 953ms\tremaining: 416ms\n",
      "696:\tlearn: 0.0941944\ttotal: 954ms\tremaining: 415ms\n",
      "697:\tlearn: 0.0940170\ttotal: 955ms\tremaining: 413ms\n",
      "698:\tlearn: 0.0939622\ttotal: 956ms\tremaining: 412ms\n",
      "699:\tlearn: 0.0937014\ttotal: 957ms\tremaining: 410ms\n",
      "700:\tlearn: 0.0935706\ttotal: 957ms\tremaining: 408ms\n",
      "701:\tlearn: 0.0933933\ttotal: 958ms\tremaining: 407ms\n",
      "702:\tlearn: 0.0932578\ttotal: 959ms\tremaining: 405ms\n",
      "703:\tlearn: 0.0931007\ttotal: 960ms\tremaining: 404ms\n",
      "704:\tlearn: 0.0929691\ttotal: 961ms\tremaining: 402ms\n",
      "705:\tlearn: 0.0928050\ttotal: 962ms\tremaining: 400ms\n",
      "706:\tlearn: 0.0927600\ttotal: 963ms\tremaining: 399ms\n",
      "707:\tlearn: 0.0926465\ttotal: 963ms\tremaining: 397ms\n",
      "708:\tlearn: 0.0925878\ttotal: 964ms\tremaining: 396ms\n",
      "709:\tlearn: 0.0924950\ttotal: 965ms\tremaining: 394ms\n",
      "710:\tlearn: 0.0924135\ttotal: 966ms\tremaining: 393ms\n",
      "711:\tlearn: 0.0922818\ttotal: 967ms\tremaining: 391ms\n",
      "712:\tlearn: 0.0920792\ttotal: 968ms\tremaining: 389ms\n",
      "713:\tlearn: 0.0920048\ttotal: 968ms\tremaining: 388ms\n",
      "714:\tlearn: 0.0919256\ttotal: 969ms\tremaining: 386ms\n",
      "715:\tlearn: 0.0918706\ttotal: 970ms\tremaining: 385ms\n",
      "716:\tlearn: 0.0917353\ttotal: 971ms\tremaining: 383ms\n",
      "717:\tlearn: 0.0916838\ttotal: 972ms\tremaining: 382ms\n",
      "718:\tlearn: 0.0915284\ttotal: 973ms\tremaining: 380ms\n",
      "719:\tlearn: 0.0913115\ttotal: 974ms\tremaining: 379ms\n",
      "720:\tlearn: 0.0912032\ttotal: 975ms\tremaining: 377ms\n",
      "721:\tlearn: 0.0911414\ttotal: 976ms\tremaining: 376ms\n",
      "722:\tlearn: 0.0909782\ttotal: 976ms\tremaining: 374ms\n",
      "723:\tlearn: 0.0908182\ttotal: 977ms\tremaining: 373ms\n",
      "724:\tlearn: 0.0906254\ttotal: 979ms\tremaining: 371ms\n",
      "725:\tlearn: 0.0904304\ttotal: 979ms\tremaining: 370ms\n",
      "726:\tlearn: 0.0904068\ttotal: 980ms\tremaining: 368ms\n",
      "727:\tlearn: 0.0903818\ttotal: 981ms\tremaining: 367ms\n"
     ]
    },
    {
     "name": "stdout",
     "output_type": "stream",
     "text": [
      "728:\tlearn: 0.0903309\ttotal: 982ms\tremaining: 365ms\n",
      "729:\tlearn: 0.0902395\ttotal: 983ms\tremaining: 364ms\n",
      "730:\tlearn: 0.0901554\ttotal: 984ms\tremaining: 362ms\n",
      "731:\tlearn: 0.0899983\ttotal: 985ms\tremaining: 361ms\n",
      "732:\tlearn: 0.0898861\ttotal: 986ms\tremaining: 359ms\n",
      "733:\tlearn: 0.0897542\ttotal: 987ms\tremaining: 358ms\n",
      "734:\tlearn: 0.0896226\ttotal: 988ms\tremaining: 356ms\n",
      "735:\tlearn: 0.0893964\ttotal: 989ms\tremaining: 355ms\n",
      "736:\tlearn: 0.0893211\ttotal: 989ms\tremaining: 353ms\n",
      "737:\tlearn: 0.0891464\ttotal: 990ms\tremaining: 352ms\n",
      "738:\tlearn: 0.0889670\ttotal: 991ms\tremaining: 350ms\n",
      "739:\tlearn: 0.0887998\ttotal: 992ms\tremaining: 349ms\n",
      "740:\tlearn: 0.0887559\ttotal: 993ms\tremaining: 347ms\n",
      "741:\tlearn: 0.0885909\ttotal: 994ms\tremaining: 346ms\n",
      "742:\tlearn: 0.0885797\ttotal: 995ms\tremaining: 344ms\n",
      "743:\tlearn: 0.0885288\ttotal: 996ms\tremaining: 343ms\n",
      "744:\tlearn: 0.0885066\ttotal: 997ms\tremaining: 341ms\n",
      "745:\tlearn: 0.0884184\ttotal: 998ms\tremaining: 340ms\n",
      "746:\tlearn: 0.0883189\ttotal: 999ms\tremaining: 338ms\n",
      "747:\tlearn: 0.0881429\ttotal: 1000ms\tremaining: 337ms\n",
      "748:\tlearn: 0.0880155\ttotal: 1s\tremaining: 335ms\n",
      "749:\tlearn: 0.0878545\ttotal: 1s\tremaining: 334ms\n",
      "750:\tlearn: 0.0878312\ttotal: 1s\tremaining: 332ms\n",
      "751:\tlearn: 0.0878151\ttotal: 1s\tremaining: 331ms\n",
      "752:\tlearn: 0.0876834\ttotal: 1s\tremaining: 329ms\n",
      "753:\tlearn: 0.0876095\ttotal: 1s\tremaining: 328ms\n",
      "754:\tlearn: 0.0873752\ttotal: 1s\tremaining: 326ms\n",
      "755:\tlearn: 0.0873166\ttotal: 1.01s\tremaining: 325ms\n",
      "756:\tlearn: 0.0872474\ttotal: 1.01s\tremaining: 323ms\n",
      "757:\tlearn: 0.0871971\ttotal: 1.01s\tremaining: 322ms\n",
      "758:\tlearn: 0.0870665\ttotal: 1.01s\tremaining: 321ms\n",
      "759:\tlearn: 0.0869751\ttotal: 1.01s\tremaining: 319ms\n",
      "760:\tlearn: 0.0868278\ttotal: 1.01s\tremaining: 318ms\n",
      "761:\tlearn: 0.0867093\ttotal: 1.01s\tremaining: 316ms\n",
      "762:\tlearn: 0.0865529\ttotal: 1.01s\tremaining: 315ms\n",
      "763:\tlearn: 0.0863675\ttotal: 1.01s\tremaining: 313ms\n",
      "764:\tlearn: 0.0862176\ttotal: 1.01s\tremaining: 312ms\n",
      "765:\tlearn: 0.0861588\ttotal: 1.01s\tremaining: 310ms\n",
      "766:\tlearn: 0.0859983\ttotal: 1.02s\tremaining: 309ms\n",
      "767:\tlearn: 0.0857936\ttotal: 1.02s\tremaining: 307ms\n",
      "768:\tlearn: 0.0856681\ttotal: 1.02s\tremaining: 306ms\n",
      "769:\tlearn: 0.0856563\ttotal: 1.02s\tremaining: 305ms\n",
      "770:\tlearn: 0.0855340\ttotal: 1.02s\tremaining: 303ms\n",
      "771:\tlearn: 0.0854735\ttotal: 1.02s\tremaining: 302ms\n",
      "772:\tlearn: 0.0853353\ttotal: 1.02s\tremaining: 300ms\n",
      "773:\tlearn: 0.0851815\ttotal: 1.02s\tremaining: 299ms\n",
      "774:\tlearn: 0.0851257\ttotal: 1.02s\tremaining: 297ms\n",
      "775:\tlearn: 0.0850527\ttotal: 1.02s\tremaining: 296ms\n",
      "776:\tlearn: 0.0848732\ttotal: 1.02s\tremaining: 294ms\n",
      "777:\tlearn: 0.0848521\ttotal: 1.03s\tremaining: 293ms\n",
      "778:\tlearn: 0.0848071\ttotal: 1.03s\tremaining: 292ms\n",
      "779:\tlearn: 0.0847273\ttotal: 1.03s\tremaining: 290ms\n",
      "780:\tlearn: 0.0845852\ttotal: 1.03s\tremaining: 289ms\n",
      "781:\tlearn: 0.0845588\ttotal: 1.03s\tremaining: 287ms\n",
      "782:\tlearn: 0.0844278\ttotal: 1.03s\tremaining: 286ms\n",
      "783:\tlearn: 0.0842612\ttotal: 1.03s\tremaining: 284ms\n",
      "784:\tlearn: 0.0841243\ttotal: 1.03s\tremaining: 283ms\n",
      "785:\tlearn: 0.0841086\ttotal: 1.03s\tremaining: 282ms\n",
      "786:\tlearn: 0.0838846\ttotal: 1.03s\tremaining: 280ms\n",
      "787:\tlearn: 0.0838524\ttotal: 1.03s\tremaining: 279ms\n",
      "788:\tlearn: 0.0838068\ttotal: 1.04s\tremaining: 277ms\n",
      "789:\tlearn: 0.0836473\ttotal: 1.04s\tremaining: 276ms\n",
      "790:\tlearn: 0.0836295\ttotal: 1.04s\tremaining: 274ms\n",
      "791:\tlearn: 0.0836051\ttotal: 1.04s\tremaining: 273ms\n",
      "792:\tlearn: 0.0834719\ttotal: 1.04s\tremaining: 271ms\n",
      "793:\tlearn: 0.0834402\ttotal: 1.04s\tremaining: 270ms\n"
     ]
    },
    {
     "name": "stdout",
     "output_type": "stream",
     "text": [
      "794:\tlearn: 0.0834238\ttotal: 1.04s\tremaining: 269ms\n",
      "795:\tlearn: 0.0832503\ttotal: 1.04s\tremaining: 267ms\n",
      "796:\tlearn: 0.0830928\ttotal: 1.04s\tremaining: 266ms\n",
      "797:\tlearn: 0.0830069\ttotal: 1.04s\tremaining: 264ms\n",
      "798:\tlearn: 0.0829789\ttotal: 1.04s\tremaining: 263ms\n",
      "799:\tlearn: 0.0828205\ttotal: 1.04s\tremaining: 261ms\n",
      "800:\tlearn: 0.0827842\ttotal: 1.05s\tremaining: 260ms\n",
      "801:\tlearn: 0.0826035\ttotal: 1.05s\tremaining: 259ms\n",
      "802:\tlearn: 0.0825517\ttotal: 1.05s\tremaining: 257ms\n",
      "803:\tlearn: 0.0825408\ttotal: 1.05s\tremaining: 256ms\n",
      "804:\tlearn: 0.0824258\ttotal: 1.05s\tremaining: 254ms\n",
      "805:\tlearn: 0.0822583\ttotal: 1.05s\tremaining: 253ms\n",
      "806:\tlearn: 0.0822057\ttotal: 1.05s\tremaining: 251ms\n",
      "807:\tlearn: 0.0821807\ttotal: 1.05s\tremaining: 250ms\n",
      "808:\tlearn: 0.0819907\ttotal: 1.05s\tremaining: 249ms\n",
      "809:\tlearn: 0.0818854\ttotal: 1.05s\tremaining: 247ms\n",
      "810:\tlearn: 0.0817556\ttotal: 1.05s\tremaining: 246ms\n",
      "811:\tlearn: 0.0815937\ttotal: 1.05s\tremaining: 244ms\n",
      "812:\tlearn: 0.0814266\ttotal: 1.06s\tremaining: 243ms\n",
      "813:\tlearn: 0.0812871\ttotal: 1.06s\tremaining: 242ms\n",
      "814:\tlearn: 0.0811804\ttotal: 1.06s\tremaining: 240ms\n",
      "815:\tlearn: 0.0811498\ttotal: 1.06s\tremaining: 239ms\n",
      "816:\tlearn: 0.0809811\ttotal: 1.06s\tremaining: 237ms\n",
      "817:\tlearn: 0.0808684\ttotal: 1.06s\tremaining: 236ms\n",
      "818:\tlearn: 0.0807823\ttotal: 1.06s\tremaining: 235ms\n",
      "819:\tlearn: 0.0807559\ttotal: 1.06s\tremaining: 233ms\n",
      "820:\tlearn: 0.0806202\ttotal: 1.06s\tremaining: 232ms\n",
      "821:\tlearn: 0.0806016\ttotal: 1.06s\tremaining: 230ms\n",
      "822:\tlearn: 0.0804838\ttotal: 1.06s\tremaining: 229ms\n",
      "823:\tlearn: 0.0803524\ttotal: 1.06s\tremaining: 228ms\n",
      "824:\tlearn: 0.0802854\ttotal: 1.07s\tremaining: 226ms\n",
      "825:\tlearn: 0.0801261\ttotal: 1.07s\tremaining: 225ms\n",
      "826:\tlearn: 0.0799944\ttotal: 1.07s\tremaining: 223ms\n",
      "827:\tlearn: 0.0799160\ttotal: 1.07s\tremaining: 222ms\n",
      "828:\tlearn: 0.0797740\ttotal: 1.07s\tremaining: 221ms\n",
      "829:\tlearn: 0.0796233\ttotal: 1.07s\tremaining: 219ms\n",
      "830:\tlearn: 0.0796101\ttotal: 1.07s\tremaining: 218ms\n",
      "831:\tlearn: 0.0794566\ttotal: 1.07s\tremaining: 217ms\n",
      "832:\tlearn: 0.0793327\ttotal: 1.07s\tremaining: 215ms\n",
      "833:\tlearn: 0.0791440\ttotal: 1.07s\tremaining: 214ms\n",
      "834:\tlearn: 0.0790652\ttotal: 1.07s\tremaining: 212ms\n",
      "835:\tlearn: 0.0789616\ttotal: 1.07s\tremaining: 211ms\n",
      "836:\tlearn: 0.0787894\ttotal: 1.08s\tremaining: 210ms\n",
      "837:\tlearn: 0.0787362\ttotal: 1.08s\tremaining: 208ms\n",
      "838:\tlearn: 0.0785775\ttotal: 1.08s\tremaining: 207ms\n",
      "839:\tlearn: 0.0783910\ttotal: 1.08s\tremaining: 206ms\n",
      "840:\tlearn: 0.0782725\ttotal: 1.08s\tremaining: 204ms\n",
      "841:\tlearn: 0.0781547\ttotal: 1.08s\tremaining: 203ms\n",
      "842:\tlearn: 0.0780806\ttotal: 1.08s\tremaining: 202ms\n",
      "843:\tlearn: 0.0778855\ttotal: 1.08s\tremaining: 200ms\n",
      "844:\tlearn: 0.0777277\ttotal: 1.08s\tremaining: 199ms\n",
      "845:\tlearn: 0.0775797\ttotal: 1.08s\tremaining: 197ms\n",
      "846:\tlearn: 0.0775632\ttotal: 1.08s\tremaining: 196ms\n",
      "847:\tlearn: 0.0775237\ttotal: 1.09s\tremaining: 195ms\n",
      "848:\tlearn: 0.0774021\ttotal: 1.09s\tremaining: 193ms\n",
      "849:\tlearn: 0.0773798\ttotal: 1.09s\tremaining: 192ms\n",
      "850:\tlearn: 0.0772912\ttotal: 1.09s\tremaining: 191ms\n",
      "851:\tlearn: 0.0771373\ttotal: 1.09s\tremaining: 189ms\n",
      "852:\tlearn: 0.0770344\ttotal: 1.09s\tremaining: 188ms\n",
      "853:\tlearn: 0.0768713\ttotal: 1.09s\tremaining: 187ms\n",
      "854:\tlearn: 0.0767255\ttotal: 1.09s\tremaining: 185ms\n",
      "855:\tlearn: 0.0766294\ttotal: 1.09s\tremaining: 184ms\n",
      "856:\tlearn: 0.0764748\ttotal: 1.09s\tremaining: 183ms\n",
      "857:\tlearn: 0.0763853\ttotal: 1.09s\tremaining: 181ms\n",
      "858:\tlearn: 0.0762258\ttotal: 1.1s\tremaining: 180ms\n",
      "859:\tlearn: 0.0761103\ttotal: 1.1s\tremaining: 179ms\n",
      "860:\tlearn: 0.0760284\ttotal: 1.1s\tremaining: 177ms\n",
      "861:\tlearn: 0.0759241\ttotal: 1.1s\tremaining: 176ms\n",
      "862:\tlearn: 0.0757741\ttotal: 1.1s\tremaining: 175ms\n",
      "863:\tlearn: 0.0756566\ttotal: 1.1s\tremaining: 173ms\n",
      "864:\tlearn: 0.0756288\ttotal: 1.1s\tremaining: 172ms\n",
      "865:\tlearn: 0.0755090\ttotal: 1.1s\tremaining: 171ms\n",
      "866:\tlearn: 0.0754983\ttotal: 1.1s\tremaining: 169ms\n",
      "867:\tlearn: 0.0754151\ttotal: 1.1s\tremaining: 168ms\n",
      "868:\tlearn: 0.0753506\ttotal: 1.1s\tremaining: 167ms\n",
      "869:\tlearn: 0.0751770\ttotal: 1.1s\tremaining: 165ms\n",
      "870:\tlearn: 0.0750319\ttotal: 1.11s\tremaining: 164ms\n",
      "871:\tlearn: 0.0749222\ttotal: 1.11s\tremaining: 162ms\n",
      "872:\tlearn: 0.0747370\ttotal: 1.11s\tremaining: 161ms\n",
      "873:\tlearn: 0.0746203\ttotal: 1.11s\tremaining: 160ms\n",
      "874:\tlearn: 0.0745329\ttotal: 1.11s\tremaining: 159ms\n",
      "875:\tlearn: 0.0743701\ttotal: 1.11s\tremaining: 157ms\n",
      "876:\tlearn: 0.0743529\ttotal: 1.11s\tremaining: 156ms\n",
      "877:\tlearn: 0.0742501\ttotal: 1.11s\tremaining: 155ms\n",
      "878:\tlearn: 0.0741951\ttotal: 1.11s\tremaining: 153ms\n",
      "879:\tlearn: 0.0741527\ttotal: 1.11s\tremaining: 152ms\n",
      "880:\tlearn: 0.0740686\ttotal: 1.11s\tremaining: 151ms\n",
      "881:\tlearn: 0.0739426\ttotal: 1.11s\tremaining: 149ms\n",
      "882:\tlearn: 0.0738549\ttotal: 1.12s\tremaining: 148ms\n",
      "883:\tlearn: 0.0737867\ttotal: 1.12s\tremaining: 147ms\n",
      "884:\tlearn: 0.0736169\ttotal: 1.12s\tremaining: 145ms\n",
      "885:\tlearn: 0.0735534\ttotal: 1.12s\tremaining: 144ms\n",
      "886:\tlearn: 0.0734483\ttotal: 1.12s\tremaining: 143ms\n",
      "887:\tlearn: 0.0733437\ttotal: 1.12s\tremaining: 141ms\n",
      "888:\tlearn: 0.0732741\ttotal: 1.12s\tremaining: 140ms\n",
      "889:\tlearn: 0.0731334\ttotal: 1.12s\tremaining: 139ms\n",
      "890:\tlearn: 0.0730470\ttotal: 1.12s\tremaining: 137ms\n",
      "891:\tlearn: 0.0729442\ttotal: 1.12s\tremaining: 136ms\n",
      "892:\tlearn: 0.0728404\ttotal: 1.13s\tremaining: 135ms\n",
      "893:\tlearn: 0.0727475\ttotal: 1.13s\tremaining: 134ms\n",
      "894:\tlearn: 0.0726318\ttotal: 1.13s\tremaining: 132ms\n",
      "895:\tlearn: 0.0725968\ttotal: 1.13s\tremaining: 131ms\n",
      "896:\tlearn: 0.0724278\ttotal: 1.13s\tremaining: 130ms\n",
      "897:\tlearn: 0.0723461\ttotal: 1.13s\tremaining: 128ms\n",
      "898:\tlearn: 0.0722318\ttotal: 1.13s\tremaining: 127ms\n",
      "899:\tlearn: 0.0721434\ttotal: 1.13s\tremaining: 126ms\n",
      "900:\tlearn: 0.0720685\ttotal: 1.13s\tremaining: 124ms\n",
      "901:\tlearn: 0.0719487\ttotal: 1.13s\tremaining: 123ms\n",
      "902:\tlearn: 0.0718717\ttotal: 1.13s\tremaining: 122ms\n",
      "903:\tlearn: 0.0718198\ttotal: 1.13s\tremaining: 120ms\n",
      "904:\tlearn: 0.0717437\ttotal: 1.14s\tremaining: 119ms\n",
      "905:\tlearn: 0.0716972\ttotal: 1.14s\tremaining: 118ms\n",
      "906:\tlearn: 0.0715981\ttotal: 1.14s\tremaining: 117ms\n",
      "907:\tlearn: 0.0714501\ttotal: 1.14s\tremaining: 115ms\n",
      "908:\tlearn: 0.0712929\ttotal: 1.14s\tremaining: 114ms\n",
      "909:\tlearn: 0.0711624\ttotal: 1.14s\tremaining: 113ms\n",
      "910:\tlearn: 0.0710456\ttotal: 1.14s\tremaining: 111ms\n",
      "911:\tlearn: 0.0708837\ttotal: 1.14s\tremaining: 110ms\n",
      "912:\tlearn: 0.0707763\ttotal: 1.14s\tremaining: 109ms\n",
      "913:\tlearn: 0.0706771\ttotal: 1.14s\tremaining: 108ms\n",
      "914:\tlearn: 0.0705879\ttotal: 1.14s\tremaining: 106ms\n",
      "915:\tlearn: 0.0704755\ttotal: 1.14s\tremaining: 105ms\n",
      "916:\tlearn: 0.0704411\ttotal: 1.15s\tremaining: 104ms\n",
      "917:\tlearn: 0.0703872\ttotal: 1.15s\tremaining: 102ms\n",
      "918:\tlearn: 0.0702832\ttotal: 1.15s\tremaining: 101ms\n",
      "919:\tlearn: 0.0702237\ttotal: 1.15s\tremaining: 99.8ms\n",
      "920:\tlearn: 0.0700979\ttotal: 1.15s\tremaining: 98.5ms\n",
      "921:\tlearn: 0.0700858\ttotal: 1.15s\tremaining: 97.2ms\n",
      "922:\tlearn: 0.0699381\ttotal: 1.15s\tremaining: 96ms\n",
      "923:\tlearn: 0.0698114\ttotal: 1.15s\tremaining: 94.7ms\n",
      "924:\tlearn: 0.0696987\ttotal: 1.15s\tremaining: 93.4ms\n",
      "925:\tlearn: 0.0696025\ttotal: 1.15s\tremaining: 92.1ms\n",
      "926:\tlearn: 0.0695695\ttotal: 1.15s\tremaining: 90.8ms\n",
      "927:\tlearn: 0.0694282\ttotal: 1.15s\tremaining: 89.5ms\n",
      "928:\tlearn: 0.0693761\ttotal: 1.16s\tremaining: 88.3ms\n",
      "929:\tlearn: 0.0693279\ttotal: 1.16s\tremaining: 87ms\n",
      "930:\tlearn: 0.0692909\ttotal: 1.16s\tremaining: 85.7ms\n",
      "931:\tlearn: 0.0692335\ttotal: 1.16s\tremaining: 84.5ms\n",
      "932:\tlearn: 0.0691462\ttotal: 1.16s\tremaining: 83.2ms\n",
      "933:\tlearn: 0.0690595\ttotal: 1.16s\tremaining: 81.9ms\n",
      "934:\tlearn: 0.0690423\ttotal: 1.16s\tremaining: 80.6ms\n",
      "935:\tlearn: 0.0689000\ttotal: 1.16s\tremaining: 79.4ms\n",
      "936:\tlearn: 0.0687648\ttotal: 1.16s\tremaining: 78.1ms\n",
      "937:\tlearn: 0.0686505\ttotal: 1.16s\tremaining: 76.8ms\n",
      "938:\tlearn: 0.0685169\ttotal: 1.16s\tremaining: 75.6ms\n",
      "939:\tlearn: 0.0684272\ttotal: 1.16s\tremaining: 74.3ms\n",
      "940:\tlearn: 0.0682847\ttotal: 1.17s\tremaining: 73.1ms\n",
      "941:\tlearn: 0.0681879\ttotal: 1.17s\tremaining: 71.8ms\n",
      "942:\tlearn: 0.0681299\ttotal: 1.17s\tremaining: 70.5ms\n",
      "943:\tlearn: 0.0679856\ttotal: 1.17s\tremaining: 69.3ms\n",
      "944:\tlearn: 0.0679068\ttotal: 1.17s\tremaining: 68ms\n",
      "945:\tlearn: 0.0678110\ttotal: 1.17s\tremaining: 66.8ms\n",
      "946:\tlearn: 0.0677455\ttotal: 1.17s\tremaining: 65.5ms\n",
      "947:\tlearn: 0.0676761\ttotal: 1.17s\tremaining: 64.3ms\n",
      "948:\tlearn: 0.0676106\ttotal: 1.17s\tremaining: 63ms\n"
     ]
    },
    {
     "name": "stdout",
     "output_type": "stream",
     "text": [
      "949:\tlearn: 0.0674775\ttotal: 1.17s\tremaining: 61.7ms\n",
      "950:\tlearn: 0.0673995\ttotal: 1.17s\tremaining: 60.5ms\n",
      "951:\tlearn: 0.0673308\ttotal: 1.17s\tremaining: 59.2ms\n",
      "952:\tlearn: 0.0671784\ttotal: 1.18s\tremaining: 58ms\n",
      "953:\tlearn: 0.0670809\ttotal: 1.18s\tremaining: 56.7ms\n",
      "954:\tlearn: 0.0669897\ttotal: 1.18s\tremaining: 55.5ms\n",
      "955:\tlearn: 0.0668266\ttotal: 1.18s\tremaining: 54.2ms\n",
      "956:\tlearn: 0.0667257\ttotal: 1.18s\tremaining: 53ms\n",
      "957:\tlearn: 0.0665932\ttotal: 1.18s\tremaining: 51.7ms\n",
      "958:\tlearn: 0.0665135\ttotal: 1.18s\tremaining: 50.5ms\n",
      "959:\tlearn: 0.0665064\ttotal: 1.18s\tremaining: 49.2ms\n",
      "960:\tlearn: 0.0663566\ttotal: 1.18s\tremaining: 48ms\n",
      "961:\tlearn: 0.0662610\ttotal: 1.18s\tremaining: 46.7ms\n",
      "962:\tlearn: 0.0661375\ttotal: 1.18s\tremaining: 45.5ms\n",
      "963:\tlearn: 0.0661013\ttotal: 1.18s\tremaining: 44.2ms\n",
      "964:\tlearn: 0.0659949\ttotal: 1.19s\tremaining: 43ms\n",
      "965:\tlearn: 0.0658824\ttotal: 1.19s\tremaining: 41.7ms\n",
      "966:\tlearn: 0.0657923\ttotal: 1.19s\tremaining: 40.5ms\n",
      "967:\tlearn: 0.0656699\ttotal: 1.19s\tremaining: 39.3ms\n",
      "968:\tlearn: 0.0656037\ttotal: 1.19s\tremaining: 38ms\n",
      "969:\tlearn: 0.0655117\ttotal: 1.19s\tremaining: 36.8ms\n",
      "970:\tlearn: 0.0654665\ttotal: 1.19s\tremaining: 35.5ms\n",
      "971:\tlearn: 0.0652917\ttotal: 1.19s\tremaining: 34.3ms\n",
      "972:\tlearn: 0.0651794\ttotal: 1.19s\tremaining: 33.1ms\n",
      "973:\tlearn: 0.0651070\ttotal: 1.19s\tremaining: 31.8ms\n",
      "974:\tlearn: 0.0650328\ttotal: 1.19s\tremaining: 30.6ms\n",
      "975:\tlearn: 0.0649660\ttotal: 1.19s\tremaining: 29.4ms\n",
      "976:\tlearn: 0.0648275\ttotal: 1.19s\tremaining: 28.1ms\n",
      "977:\tlearn: 0.0647144\ttotal: 1.2s\tremaining: 26.9ms\n",
      "978:\tlearn: 0.0646676\ttotal: 1.2s\tremaining: 25.7ms\n",
      "979:\tlearn: 0.0645712\ttotal: 1.2s\tremaining: 24.4ms\n",
      "980:\tlearn: 0.0644310\ttotal: 1.2s\tremaining: 23.2ms\n",
      "981:\tlearn: 0.0643330\ttotal: 1.2s\tremaining: 22ms\n",
      "982:\tlearn: 0.0642188\ttotal: 1.2s\tremaining: 20.7ms\n",
      "983:\tlearn: 0.0641356\ttotal: 1.2s\tremaining: 19.5ms\n",
      "984:\tlearn: 0.0640354\ttotal: 1.2s\tremaining: 18.3ms\n",
      "985:\tlearn: 0.0639773\ttotal: 1.2s\tremaining: 17.1ms\n",
      "986:\tlearn: 0.0639075\ttotal: 1.2s\tremaining: 15.8ms\n",
      "987:\tlearn: 0.0638184\ttotal: 1.2s\tremaining: 14.6ms\n",
      "988:\tlearn: 0.0637094\ttotal: 1.2s\tremaining: 13.4ms\n",
      "989:\tlearn: 0.0636529\ttotal: 1.21s\tremaining: 12.2ms\n",
      "990:\tlearn: 0.0635967\ttotal: 1.21s\tremaining: 11ms\n",
      "991:\tlearn: 0.0634943\ttotal: 1.21s\tremaining: 9.73ms\n",
      "992:\tlearn: 0.0634293\ttotal: 1.21s\tremaining: 8.52ms\n",
      "993:\tlearn: 0.0634012\ttotal: 1.21s\tremaining: 7.3ms\n",
      "994:\tlearn: 0.0632570\ttotal: 1.21s\tremaining: 6.08ms\n",
      "995:\tlearn: 0.0630975\ttotal: 1.21s\tremaining: 4.86ms\n",
      "996:\tlearn: 0.0630260\ttotal: 1.21s\tremaining: 3.64ms\n",
      "997:\tlearn: 0.0629875\ttotal: 1.21s\tremaining: 2.43ms\n",
      "998:\tlearn: 0.0629160\ttotal: 1.21s\tremaining: 1.21ms\n",
      "999:\tlearn: 0.0628944\ttotal: 1.21s\tremaining: 0us\n"
     ]
    },
    {
     "data": {
      "text/plain": [
       "<catboost.core.CatBoostRegressor at 0x7ff1a04a50d0>"
      ]
     },
     "execution_count": 9,
     "metadata": {},
     "output_type": "execute_result"
    }
   ],
   "source": [
    "#Train the Model \n",
    "prior_model = ctb.CatBoostRegressor()\n",
    "prior_model.fit(X_train,Y_train)"
   ]
  },
  {
   "cell_type": "code",
   "execution_count": 10,
   "id": "af65dcda",
   "metadata": {
    "execution": {
     "iopub.execute_input": "2022-06-12T05:27:17.312183Z",
     "iopub.status.busy": "2022-06-12T05:27:17.311613Z",
     "iopub.status.idle": "2022-06-12T05:27:17.322314Z",
     "shell.execute_reply": "2022-06-12T05:27:17.322626Z"
    },
    "id": "af65dcda",
    "papermill": {
     "duration": 0.085518,
     "end_time": "2022-06-12T05:27:17.322774",
     "exception": false,
     "start_time": "2022-06-12T05:27:17.237256",
     "status": "completed"
    },
    "tags": []
   },
   "outputs": [
    {
     "data": {
      "application/scrapbook.scrap.json+json": {
       "data": 0.11199827081519219,
       "encoder": "json",
       "name": "Prior Model MSE",
       "version": 1
      }
     },
     "metadata": {
      "scrapbook": {
       "data": true,
       "display": false,
       "name": "Prior Model MSE"
      }
     },
     "output_type": "display_data"
    },
    {
     "data": {
      "application/scrapbook.scrap.json+json": {
       "data": 1.891118430922221,
       "encoder": "json",
       "name": "ABC Pre-generator MSE",
       "version": 1
      }
     },
     "metadata": {
      "scrapbook": {
       "data": true,
       "display": false,
       "name": "ABC Pre-generator MSE"
      }
     },
     "output_type": "display_data"
    },
    {
     "data": {
      "application/scrapbook.scrap.json+json": {
       "data": 0.2239206980078524,
       "encoder": "json",
       "name": "Prior Model MSE",
       "version": 1
      }
     },
     "metadata": {
      "scrapbook": {
       "data": true,
       "display": false,
       "name": "Prior Model MSE"
      }
     },
     "output_type": "display_data"
    },
    {
     "data": {
      "application/scrapbook.scrap.json+json": {
       "data": 1.1698639980180674,
       "encoder": "json",
       "name": "ABC Pre-generator MSE",
       "version": 1
      }
     },
     "metadata": {
      "scrapbook": {
       "data": true,
       "display": false,
       "name": "ABC Pre-generator MSE"
      }
     },
     "output_type": "display_data"
    }
   ],
   "source": [
    "y_pred = prior_model.predict(X_test)\n",
    "y_abc = y_pred + np.random.normal(0,variance, y_pred.shape) + bias \n",
    "mse = mean_squared_error(y_pred,Y_test)\n",
    "sb.glue(\"Prior Model MSE\",mse)\n",
    "mse = mean_squared_error(y_abc,Y_test)\n",
    "sb.glue(\"ABC Pre-generator MSE\",mse)\n",
    "mae = mean_absolute_error(y_pred,Y_test)\n",
    "sb.glue(\"Prior Model MSE\",mae)\n",
    "mae = mean_absolute_error(y_abc,Y_test)\n",
    "sb.glue(\"ABC Pre-generator MSE\",mae)"
   ]
  },
  {
   "cell_type": "markdown",
   "id": "25609da2",
   "metadata": {
    "papermill": {
     "duration": 0.011646,
     "end_time": "2022-06-12T05:27:17.347901",
     "exception": false,
     "start_time": "2022-06-12T05:27:17.336255",
     "status": "completed"
    },
    "tags": []
   },
   "source": [
    "# ABC GAN Model"
   ]
  },
  {
   "cell_type": "code",
   "execution_count": 11,
   "id": "dfc3464d",
   "metadata": {
    "execution": {
     "iopub.execute_input": "2022-06-12T05:27:17.372695Z",
     "iopub.status.busy": "2022-06-12T05:27:17.372269Z",
     "iopub.status.idle": "2022-06-12T05:27:17.377371Z",
     "shell.execute_reply": "2022-06-12T05:27:17.377620Z"
    },
    "papermill": {
     "duration": 0.018907,
     "end_time": "2022-06-12T05:27:17.377739",
     "exception": false,
     "start_time": "2022-06-12T05:27:17.358832",
     "status": "completed"
    },
    "tags": []
   },
   "outputs": [],
   "source": [
    "gen = network.Generator(n_features+1).to(device)\n",
    "disc = network.Discriminator(n_features+1).to(device)\n",
    "\n",
    "criterion = torch.nn.BCELoss()\n",
    "gen_opt = torch.optim.Adam(gen.parameters(), lr=0.001, betas=(0.5, 0.999))\n",
    "disc_opt = torch.optim.Adam(disc.parameters(), lr=0.001, betas=(0.5, 0.999))"
   ]
  },
  {
   "cell_type": "code",
   "execution_count": 12,
   "id": "b75fdd85",
   "metadata": {
    "execution": {
     "iopub.execute_input": "2022-06-12T05:27:17.402830Z",
     "iopub.status.busy": "2022-06-12T05:27:17.402394Z",
     "iopub.status.idle": "2022-06-12T05:28:28.656011Z",
     "shell.execute_reply": "2022-06-12T05:28:28.656269Z"
    },
    "papermill": {
     "duration": 71.267869,
     "end_time": "2022-06-12T05:28:28.656401",
     "exception": false,
     "start_time": "2022-06-12T05:27:17.388532",
     "status": "completed"
    },
    "tags": []
   },
   "outputs": [
    {
     "data": {
      "image/png": "[encoded data removed]",
      "text/plain": [
       "<Figure size 432x288 with 1 Axes>"
      ]
     },
     "metadata": {
      "needs_background": "light"
     },
     "output_type": "display_data"
    },
    {
     "data": {
      "image/png": "[encoded data removed]",
      "text/plain": [
       "<Figure size 432x288 with 1 Axes>"
      ]
     },
     "metadata": {
      "needs_background": "light"
     },
     "output_type": "display_data"
    }
   ],
   "source": [
    "#Training the ABC_GAN \n",
    "ABC_train_test2.training_GAN(disc,gen,disc_opt,gen_opt,train_data,batch_size,n_epochs,criterion,prior_model,variance,bias,device)"
   ]
  },
  {
   "cell_type": "code",
   "execution_count": 13,
   "id": "1fa7c368",
   "metadata": {
    "execution": {
     "iopub.execute_input": "2022-06-12T05:28:28.682458Z",
     "iopub.status.busy": "2022-06-12T05:28:28.682079Z",
     "iopub.status.idle": "2022-06-12T05:28:29.027881Z",
     "shell.execute_reply": "2022-06-12T05:28:29.028126Z"
    },
    "papermill": {
     "duration": 0.36022,
     "end_time": "2022-06-12T05:28:29.028250",
     "exception": false,
     "start_time": "2022-06-12T05:28:28.668030",
     "status": "completed"
    },
    "tags": []
   },
   "outputs": [
    {
     "data": {
      "application/scrapbook.scrap.json+json": {
       "data": 0.16339203198627197,
       "encoder": "json",
       "name": "ABC-GAN Model 1 MSE",
       "version": 1
      }
     },
     "metadata": {
      "scrapbook": {
       "data": true,
       "display": false,
       "name": "ABC-GAN Model 1 MSE"
      }
     },
     "output_type": "display_data"
    },
    {
     "data": {
      "application/scrapbook.scrap.json+json": {
       "data": 0.24277792852024968,
       "encoder": "json",
       "name": "ABC-GAN Model 1 MAE",
       "version": 1
      }
     },
     "metadata": {
      "scrapbook": {
       "data": true,
       "display": false,
       "name": "ABC-GAN Model 1 MAE"
      }
     },
     "output_type": "display_data"
    },
    {
     "data": {
      "application/scrapbook.scrap.json+json": {
       "data": 24.76334870906547,
       "encoder": "json",
       "name": "ABC-GAN Model 1 Manhattan Distance",
       "version": 1
      }
     },
     "metadata": {
      "scrapbook": {
       "data": true,
       "display": false,
       "name": "ABC-GAN Model 1 Manhattan Distance"
      }
     },
     "output_type": "display_data"
    },
    {
     "data": {
      "application/scrapbook.scrap.json+json": {
       "data": 4.082379515891306,
       "encoder": "json",
       "name": "ABC-GAN Model 1 Euclidean distance",
       "version": 1
      }
     },
     "metadata": {
      "scrapbook": {
       "data": true,
       "display": false,
       "name": "ABC-GAN Model 1 Euclidean distance"
      }
     },
     "output_type": "display_data"
    },
    {
     "data": {
      "application/scrapbook.scrap.json+json": {
       "data": [
        [
         0.16412750744892324,
         0.16330509269679103,
         0.16213130081033947,
         0.16374954999587932,
         0.16443847681420726,
         0.16257861193748885,
         0.16326931048050652,
         0.16207831196694358,
         0.16203770567441683,
         0.16249431633683897,
         0.1620491783830733,
         0.16473987660955458,
         0.1636058595850089,
         0.16441313741448382,
         0.16359724827653563,
         0.16436530432088614,
         0.16398654563322204,
         0.16359648464014515,
         0.16540707026451934,
         0.1648305521433627,
         0.16372362509462315,
         0.16423700097195426,
         0.16201052696131485,
         0.16368444426295922,
         0.16459247735812504,
         0.16439705525918064,
         0.1626438727514418,
         0.1640386607557325,
         0.16485175956796722,
         0.16436297929293978,
         0.16339054668229777,
         0.16312141518298615,
         0.16298773991255444,
         0.16305840456905166,
         0.16260928396925597,
         0.16504997340981958,
         0.16434620532216293,
         0.16312437556465856,
         0.16287719913150656,
         0.16333416440736798,
         0.16504541054009494,
         0.16263060394545112,
         0.16210957065307305,
         0.16308497269886396,
         0.1626530861067071,
         0.1652458309875963,
         0.16362271847937734,
         0.16161672801986948,
         0.1655463638092209,
         0.1653485144203112,
         0.16246830214829347,
         0.16514155314293796,
         0.16305110870506168,
         0.1642873043319374,
         0.1620970559533647,
         0.16368910494306965,
         0.16308681812989242,
         0.16238841995632847,
         0.16464625373214936,
         0.16250399188126838,
         0.16208779690340194,
         0.16163803984451303,
         0.16363880406843404,
         0.16090845467732123,
         0.16330428796744273,
         0.1624369223801,
         0.16279980489548215,
         0.16289014234073193,
         0.16299083163631753,
         0.16223447292830565,
         0.16305783388653228,
         0.16311236812587518,
         0.1628060163343669,
         0.16281957932384708,
         0.163642366868263,
         0.16220946657029242,
         0.16210472206337895,
         0.163032666653452,
         0.16516358191486757,
         0.16380995031857024,
         0.16374275008665976,
         0.16499240881782257,
         0.16417995150679887,
         0.16444177212033861,
         0.16333635826800227,
         0.16304131833624183,
         0.16301386941156223,
         0.16340354343428004,
         0.16383927899176792,
         0.1615610789372048,
         0.16548715371440337,
         0.16288407871000413,
         0.16273814906420483,
         0.16373578482585413,
         0.16390799216232063,
         0.16328811059559398,
         0.1614383868108022,
         0.16365147040256253,
         0.16379284300574615,
         0.16253192527763452
        ],
        [
         0.24344816568362362,
         0.24306257797733827,
         0.24212006039406156,
         0.24176444889356694,
         0.24385790364341994,
         0.24116412632386475,
         0.24131422897106877,
         0.2418794379405239,
         0.24046978447586298,
         0.2408385223380345,
         0.24294184617625147,
         0.24505856236917714,
         0.24304291582209805,
         0.2455882199072078,
         0.24084056758632263,
         0.243771060625566,
         0.24343488140798666,
         0.2417027693351402,
         0.24472532284391277,
         0.24340341325995385,
         0.24258223942060972,
         0.24407961225027547,
         0.2417934680649755,
         0.24317533521018192,
         0.244414155964977,
         0.2438970309883064,
         0.24187571962601415,
         0.24419095505065486,
         0.24318912024518438,
         0.2438646282306781,
         0.24245452108409474,
         0.2423247631237495,
         0.24264201527351842,
         0.2432793138329597,
         0.2421589585970722,
         0.24408468474433118,
         0.245530826660494,
         0.24233137240962072,
         0.24151927227263942,
         0.24281505519962487,
         0.24579909485856108,
         0.24133025034896882,
         0.2419183787743689,
         0.2410062138977296,
         0.24195482937947793,
         0.24496122046063343,
         0.24364569836168312,
         0.23974980576438645,
         0.24392773278568888,
         0.24498000063513423,
         0.2400909268717263,
         0.24471053512146076,
         0.24187770283178373,
         0.24182963471713603,
         0.24123820562061726,
         0.24445586054421523,
         0.24160428211896443,
         0.2425529016547051,
         0.2440496222755196,
         0.24175716357707394,
         0.24212487398044152,
         0.24192805060495934,
         0.24161049122830816,
         0.2402040202207133,
         0.24396220581861688,
         0.24251073626253536,
         0.24175569840579056,
         0.24241818193638442,
         0.24333167424900273,
         0.24290840271129913,
         0.24177502652666732,
         0.24260346414338724,
         0.24213698424179764,
         0.24214625590499125,
         0.2426344753955217,
         0.24164244910592542,
         0.2427144789264775,
         0.24241073405844907,
         0.24471003753954873,
         0.24336423149661107,
         0.24329261381325185,
         0.2439184921665811,
         0.24479045888737722,
         0.24498253704651313,
         0.24306759017282256,
         0.2400580835072141,
         0.24245244909223973,
         0.24255216309764221,
         0.2428317878066617,
         0.241220345337163,
         0.245128514044279,
         0.2426391329214561,
         0.2421213481757863,
         0.24231078853721127,
         0.2446732093561806,
         0.2427232075738264,
         0.2414029248460543,
         0.24350426084928067,
         0.24157582221589252,
         0.24358272499532677
        ],
        [
         24.83171289972961,
         24.792382953688502,
         24.696246160194278,
         24.659973787143826,
         24.873506171628833,
         24.598740885034204,
         24.614051355049014,
         24.67170266993344,
         24.527918016538024,
         24.565529278479517,
         24.78006830997765,
         24.99597336165607,
         24.790377413854003,
         25.049998430535197,
         24.565737893804908,
         24.86464818380773,
         24.83035790361464,
         24.6536824721843,
         24.961982930079103,
         24.827148152515292,
         24.743388420902193,
         24.896120449528098,
         24.6629337426275,
         24.803884191438556,
         24.930243908427656,
         24.877497160807252,
         24.671323401853442,
         24.907477415166795,
         24.805290265008807,
         24.874192079529166,
         24.730361150577664,
         24.71712583862245,
         24.74948555789888,
         24.81449001096189,
         24.700213776901364,
         24.89663784392178,
         25.04414431937039,
         24.717799985781312,
         24.63496577180922,
         24.767135630361736,
         25.07150767557323,
         24.61568553559482,
         24.675674634985626,
         24.58263381756842,
         24.679392596706748,
         24.98604448698461,
         24.85186123289168,
         24.45448018796742,
         24.880628744140267,
         24.987960064783692,
         24.489274540916085,
         24.960474582388997,
         24.67152568884194,
         24.666622741147876,
         24.60629697330296,
         24.934497775509953,
         24.64363677613437,
         24.74039596877992,
         24.893061472103,
         24.65923068486154,
         24.696737146005034,
         24.67666116170585,
         24.644270105287433,
         24.500810062512755,
         24.88414499349892,
         24.736095098778605,
         24.659081237390637,
         24.72665455751121,
         24.81983077339828,
         24.77665707655251,
         24.661052705720067,
         24.7455533426255,
         24.69797239266336,
         24.698918102309108,
         24.748716490343213,
         24.647529808804393,
         24.756876850500703,
         24.725894873961806,
         24.96042382903397,
         24.82315161265433,
         24.815846608951688,
         24.879686200991273,
         24.968626806512475,
         24.98821877874434,
         24.792894197627902,
         24.48592451773584,
         24.730149807408452,
         24.740320635959506,
         24.768842356279492,
         24.604475224390626,
         25.003108432516456,
         24.749191557988524,
         24.6963775139302,
         24.71570043079555,
         24.95666735433042,
         24.757767172530293,
         24.623098334297538,
         24.83743460662663,
         24.640733866021037,
         24.84543794952333
        ],
        [
         4.091577417059361,
         4.081313447295207,
         4.066619318629987,
         4.086863601783119,
         4.095451700978677,
         4.072225241514013,
         4.080866289038599,
         4.065954724370187,
         4.0654453604482885,
         4.071169397895101,
         4.065589280174951,
         4.099203265779164,
         4.08507009458478,
         4.0951361413605465,
         4.084962585410867,
         4.0945403943214895,
         4.089820002712668,
         4.084953051541082,
         4.107495729392907,
         4.100331244987774,
         4.08654007194981,
         4.092941985801819,
         4.065104395960097,
         4.086051066105493,
         4.097368996139933,
         4.09493585254231,
         4.073042477147404,
         4.090469825959447,
         4.10059501486463,
         4.094511434576762,
         4.082381138697655,
         4.079017571507211,
         4.0773458856320435,
         4.078229673037464,
         4.072609355789493,
         4.103059503322075,
         4.094302497722978,
         4.079054585022757,
         4.075962991909233,
         4.081676710562895,
         4.103002787604424,
         4.072876330363594,
         4.066346788779021,
         4.078561905290163,
         4.073157839181306,
         4.1054932420763794,
         4.085280563791976,
         4.060160866028178,
         4.109224879285694,
         4.1067686166707436,
         4.07084350216585,
         4.104197658566125,
         4.078138434128529,
         4.0935687415576165,
         4.066189826759592,
         4.0861092379173005,
         4.078584981246441,
         4.069842605746014,
         4.098038296634041,
         4.071290602731445,
         4.066073693890335,
         4.0604285567092955,
         4.085481368820604,
         4.051254420187253,
         4.081303391403187,
         4.070450353802413,
         4.074994490712738,
         4.07612493905114,
         4.077384557152341,
         4.067913007758054,
         4.0782225364031195,
         4.078904454487659,
         4.0750722283298755,
         4.075241967175985,
         4.085525843825104,
         4.067599487433568,
         4.0662859774571505,
         4.077907796732548,
         4.1044713856130715,
         4.087617268347682,
         4.08677874478657,
         4.102343927490465,
         4.092231060643263,
         4.095492736689266,
         4.081704122463586,
         4.078015996817162,
         4.077672703881388,
         4.082543500110754,
         4.087983177211023,
         4.0594617933409465,
         4.10848995117052,
         4.076049070904376,
         4.074222773063458,
         4.0866918225181985,
         4.088840324658901,
         4.081101233827774,
         4.0579200897383165,
         4.085639482512056,
         4.087403819857552,
         4.071640502097247
        ]
       ],
       "encoder": "json",
       "name": "ABC_GAN_1 Metrics",
       "version": 1
      }
     },
     "metadata": {
      "scrapbook": {
       "data": true,
       "display": false,
       "name": "ABC_GAN_1 Metrics"
      }
     },
     "output_type": "display_data"
    },
    {
     "name": "stdout",
     "output_type": "stream",
     "text": [
      "MSE\n",
      "0.16339203198627197\n"
     ]
    }
   ],
   "source": [
    "ABC_GAN1_metrics=ABC_train_test2.test_generator(gen,test_data,prior_model,variance,bias,\"1\",device)\n",
    "sb.glue(\"ABC_GAN_1 Metrics\",ABC_GAN1_metrics)\n",
    "\n",
    "print(\"MSE\")\n",
    "print(mean(ABC_GAN1_metrics[0]))"
   ]
  },
  {
   "cell_type": "code",
   "execution_count": 14,
   "id": "eb22ce5c",
   "metadata": {
    "execution": {
     "iopub.execute_input": "2022-06-12T05:28:29.056815Z",
     "iopub.status.busy": "2022-06-12T05:28:29.056428Z",
     "iopub.status.idle": "2022-06-12T05:28:29.380680Z",
     "shell.execute_reply": "2022-06-12T05:28:29.380976Z"
    },
    "papermill": {
     "duration": 0.339551,
     "end_time": "2022-06-12T05:28:29.381100",
     "exception": false,
     "start_time": "2022-06-12T05:28:29.041549",
     "status": "completed"
    },
    "tags": []
   },
   "outputs": [
    {
     "data": {
      "image/png": "[encoded data removed]",
      "text/plain": [
       "<Figure size 432x288 with 1 Axes>"
      ]
     },
     "metadata": {
      "needs_background": "light"
     },
     "output_type": "display_data"
    },
    {
     "data": {
      "image/png": "[encoded data removed]",
      "text/plain": [
       "<Figure size 432x288 with 1 Axes>"
      ]
     },
     "metadata": {
      "needs_background": "light"
     },
     "output_type": "display_data"
    },
    {
     "data": {
      "image/png": "[encoded data removed]",
      "text/plain": [
       "<Figure size 432x288 with 1 Axes>"
      ]
     },
     "metadata": {
      "needs_background": "light"
     },
     "output_type": "display_data"
    },
    {
     "data": {
      "image/png": "[encoded data removed]",
      "text/plain": [
       "<Figure size 432x288 with 1 Axes>"
      ]
     },
     "metadata": {
      "needs_background": "light"
     },
     "output_type": "display_data"
    }
   ],
   "source": [
    "sanityChecks.discProbVsError(train_data,disc,device)\n",
    "sanityChecks.discProbVsError(test_data,disc,device)"
   ]
  },
  {
   "cell_type": "markdown",
   "id": "130f3a4d",
   "metadata": {
    "id": "130f3a4d",
    "papermill": {
     "duration": 0.015169,
     "end_time": "2022-06-12T05:28:29.411764",
     "exception": false,
     "start_time": "2022-06-12T05:28:29.396595",
     "status": "completed"
    },
    "tags": []
   },
   "source": [
    "# ABC - GAN Model with skip connection"
   ]
  },
  {
   "cell_type": "code",
   "execution_count": 15,
   "id": "4e43dad1",
   "metadata": {
    "execution": {
     "iopub.execute_input": "2022-06-12T05:28:29.445613Z",
     "iopub.status.busy": "2022-06-12T05:28:29.445221Z",
     "iopub.status.idle": "2022-06-12T05:28:29.447512Z",
     "shell.execute_reply": "2022-06-12T05:28:29.447773Z"
    },
    "id": "4e43dad1",
    "papermill": {
     "duration": 0.020882,
     "end_time": "2022-06-12T05:28:29.447883",
     "exception": false,
     "start_time": "2022-06-12T05:28:29.427001",
     "status": "completed"
    },
    "tags": []
   },
   "outputs": [],
   "source": [
    "#Generator\n",
    "gen3 = network.GeneratorWithSkipConnection(n_features+1).to(device)\n",
    "constraints=network.weightConstraint()\n",
    "#Discriminator \n",
    "disc3 = network.Discriminator(n_features+1).to(device)\n",
    "\n",
    "criterion = torch.nn.BCELoss()\n",
    "gen_opt = torch.optim.Adam(gen3.parameters(), lr=0.001, betas=(0.5, 0.999))\n",
    "disc_opt = torch.optim.Adam(disc3.parameters(), lr=0.001, betas=(0.5, 0.999))\n"
   ]
  },
  {
   "cell_type": "code",
   "execution_count": 16,
   "id": "26acbc37",
   "metadata": {
    "execution": {
     "iopub.execute_input": "2022-06-12T05:28:29.480813Z",
     "iopub.status.busy": "2022-06-12T05:28:29.480427Z",
     "iopub.status.idle": "2022-06-12T05:31:33.278563Z",
     "shell.execute_reply": "2022-06-12T05:31:33.278874Z"
    },
    "id": "26acbc37",
    "papermill": {
     "duration": 183.815835,
     "end_time": "2022-06-12T05:31:33.279051",
     "exception": false,
     "start_time": "2022-06-12T05:28:29.463216",
     "status": "completed"
    },
    "tags": []
   },
   "outputs": [
    {
     "data": {
      "image/png": "[encoded data removed]",
      "text/plain": [
       "<Figure size 432x288 with 1 Axes>"
      ]
     },
     "metadata": {
      "needs_background": "light"
     },
     "output_type": "display_data"
    },
    {
     "data": {
      "image/png": "[encoded data removed]",
      "text/plain": [
       "<Figure size 432x288 with 1 Axes>"
      ]
     },
     "metadata": {
      "needs_background": "light"
     },
     "output_type": "display_data"
    }
   ],
   "source": [
    "ABC_train_test2.training_GAN_skip_connection(disc3,gen3,disc_opt,gen_opt,train_data,batch_size,n_epochs,criterion,prior_model,variance,bias,device)"
   ]
  },
  {
   "cell_type": "code",
   "execution_count": 17,
   "id": "c5e0717b",
   "metadata": {
    "execution": {
     "iopub.execute_input": "2022-06-12T05:31:33.315857Z",
     "iopub.status.busy": "2022-06-12T05:31:33.315477Z",
     "iopub.status.idle": "2022-06-12T05:31:34.186711Z",
     "shell.execute_reply": "2022-06-12T05:31:34.186969Z"
    },
    "id": "c5e0717b",
    "papermill": {
     "duration": 0.891237,
     "end_time": "2022-06-12T05:31:34.187095",
     "exception": false,
     "start_time": "2022-06-12T05:31:33.295858",
     "status": "completed"
    },
    "tags": []
   },
   "outputs": [
    {
     "data": {
      "application/scrapbook.scrap.json+json": {
       "data": 0.10458645752769641,
       "encoder": "json",
       "name": "ABC-GAN Model 3 MSE",
       "version": 1
      }
     },
     "metadata": {
      "scrapbook": {
       "data": true,
       "display": false,
       "name": "ABC-GAN Model 3 MSE"
      }
     },
     "output_type": "display_data"
    },
    {
     "data": {
      "application/scrapbook.scrap.json+json": {
       "data": 0.22080979079505722,
       "encoder": "json",
       "name": "ABC-GAN Model 3 MAE",
       "version": 1
      }
     },
     "metadata": {
      "scrapbook": {
       "data": true,
       "display": false,
       "name": "ABC-GAN Model 3 MAE"
      }
     },
     "output_type": "display_data"
    },
    {
     "data": {
      "application/scrapbook.scrap.json+json": {
       "data": 22.522598661095834,
       "encoder": "json",
       "name": "ABC-GAN Model 3 Manhattan Distance",
       "version": 1
      }
     },
     "metadata": {
      "scrapbook": {
       "data": true,
       "display": false,
       "name": "ABC-GAN Model 3 Manhattan Distance"
      }
     },
     "output_type": "display_data"
    },
    {
     "data": {
      "application/scrapbook.scrap.json+json": {
       "data": 3.266142104590968,
       "encoder": "json",
       "name": "ABC-GAN Model 3 Euclidean distance",
       "version": 1
      }
     },
     "metadata": {
      "scrapbook": {
       "data": true,
       "display": false,
       "name": "ABC-GAN Model 3 Euclidean distance"
      }
     },
     "output_type": "display_data"
    },
    {
     "data": {
      "application/scrapbook.scrap.json+json": {
       "data": [
        [
         0.10418620316416724,
         0.10488615556643686,
         0.10404919998877564,
         0.10429651852424793,
         0.10394787699086275,
         0.1042374468725771,
         0.10364782500274088,
         0.10386999781170825,
         0.10406948364317962,
         0.10464662057752291,
         0.10473837977258302,
         0.10493770741395476,
         0.10443305387977664,
         0.10567769185004858,
         0.10510070788817058,
         0.10429990927777902,
         0.10583027429402934,
         0.10420094802407409,
         0.10491936179598425,
         0.10398614686795633,
         0.10512860451662652,
         0.10483809721790543,
         0.10343624762573331,
         0.10474075616379594,
         0.10496669488126688,
         0.1055048581985194,
         0.10488842859504727,
         0.10428390959299283,
         0.1040812319627019,
         0.10376483332574364,
         0.10335126465419159,
         0.10475072826172502,
         0.10309152395520695,
         0.1035693890759598,
         0.1044917229657777,
         0.10496840722932295,
         0.10475531492577307,
         0.10383276707410229,
         0.10495327494462912,
         0.10315981749246081,
         0.1042090042379313,
         0.10439746267415248,
         0.10562693282327311,
         0.10479336894123219,
         0.10405885197666166,
         0.10440704771706574,
         0.10496038724915951,
         0.10452238383984162,
         0.10344848495693185,
         0.10503835502961521,
         0.10514137477688329,
         0.10415881549434587,
         0.10446527386467612,
         0.10493420280002627,
         0.10496220331852683,
         0.10400552313880049,
         0.10554841063839153,
         0.1057269577996966,
         0.10470925375897158,
         0.10339563243711496,
         0.10540285126540276,
         0.10495997435924602,
         0.10465886933009347,
         0.10535429830287064,
         0.10382509475131335,
         0.10528124856456803,
         0.10418104425590502,
         0.10561952313009429,
         0.10456064756311732,
         0.10466984683465143,
         0.10307365320349372,
         0.10441816945184516,
         0.10469077656939198,
         0.10588920941761337,
         0.10379514221248959,
         0.10441015010269847,
         0.10436356767213571,
         0.10551384713660907,
         0.10325906201337764,
         0.10554852434427768,
         0.10532130111088751,
         0.10454226759727096,
         0.10552378070878078,
         0.1044559976146753,
         0.10454518933472268,
         0.10457108658979855,
         0.10503264190775605,
         0.10425762979668211,
         0.10554956093107289,
         0.10571108913176397,
         0.10317209873457263,
         0.1064255674762136,
         0.10492917903995573,
         0.10520509930789831,
         0.10380821522574794,
         0.10607443281113903,
         0.10342047818996061,
         0.10318535870012943,
         0.10547117937921552,
         0.1049387893608456
        ],
        [
         0.2207092716102945,
         0.22228489779666358,
         0.21947799149133704,
         0.22031672176101483,
         0.21999851821501756,
         0.22006708673913689,
         0.21970049683552453,
         0.21984420398104132,
         0.2208406220591974,
         0.2211304053609424,
         0.2219856001491494,
         0.2217517857184159,
         0.21988259834538706,
         0.22175099407596624,
         0.22141449028333904,
         0.22045268745654645,
         0.22190878910067327,
         0.21903384382854782,
         0.2205185681563236,
         0.21973958526573636,
         0.22097265321359622,
         0.22186607453862534,
         0.22016781266303917,
         0.2203758119459392,
         0.22143303915200865,
         0.22240757649107015,
         0.22105053738307426,
         0.22094724203149477,
         0.22042261715065323,
         0.2196246920993515,
         0.21999660599063717,
         0.22073640008730924,
         0.22003449905919387,
         0.2201254503326673,
         0.22114561630559026,
         0.22014071296571808,
         0.2227221083023823,
         0.2201092759439466,
         0.221420276900936,
         0.21870010790835118,
         0.22063928013484851,
         0.22171976383519815,
         0.22125295376149462,
         0.22034697357437336,
         0.21865826032087937,
         0.22154188778835768,
         0.2212537494214142,
         0.21893107331376158,
         0.2181906111666239,
         0.22198800419859005,
         0.2206828764493705,
         0.22057362284292192,
         0.22116633640675276,
         0.22110825325088465,
         0.21961002930195309,
         0.22176224883536205,
         0.2217032495137377,
         0.22312103203662179,
         0.22176531840152308,
         0.219495765654845,
         0.22250988808296182,
         0.2205366772489951,
         0.22205958432317072,
         0.22167865642547316,
         0.2200292517321513,
         0.22164965626400182,
         0.21944978426886247,
         0.2203743880267675,
         0.22070473797765433,
         0.22136960868888042,
         0.22016592808159105,
         0.2223456153536544,
         0.22052966288345702,
         0.22255944472500214,
         0.21934233016937094,
         0.21998485137580656,
         0.22028621714379565,
         0.22325668966982,
         0.2183841783553362,
         0.22248707312688815,
         0.22217152526090836,
         0.22129407948494761,
         0.22020644162251962,
         0.221295996286048,
         0.22105242994011326,
         0.2206124258045034,
         0.2219679978237871,
         0.22030429237102175,
         0.2223256379274615,
         0.22122386292390087,
         0.21866061708287282,
         0.22387469588212816,
         0.22119847233589812,
         0.22118627967532067,
         0.2183727165044961,
         0.22226896919492706,
         0.21972170005570732,
         0.21925081691576861,
         0.22130055158563397,
         0.2202657879987622
        ],
        [
         22.512345704250038,
         22.673059575259686,
         22.386755132116377,
         22.472305619623512,
         22.439848857931793,
         22.446842847391963,
         22.409450677223504,
         22.424108806066215,
         22.525743450038135,
         22.555301346816123,
         22.64253121521324,
         22.61868214327842,
         22.42802503122948,
         22.618601395748556,
         22.584278008900583,
         22.48617412056774,
         22.634696488268673,
         22.341452070511878,
         22.492893951945007,
         22.41343769710511,
         22.539210627786815,
         22.630339602939785,
         22.457116891629994,
         22.478332818485796,
         22.586169993504882,
         22.685572802089155,
         22.547154813073575,
         22.536618687212467,
         22.48310694936663,
         22.401718594133854,
         22.43965381104499,
         22.515112808905542,
         22.443518904037774,
         22.452795933932066,
         22.556852863170207,
         22.454352722503245,
         22.717655046842992,
         22.451146146282554,
         22.58486824389547,
         22.30741100665182,
         22.50520657375455,
         22.61541591119021,
         22.567801283672452,
         22.475391304586083,
         22.303142552729696,
         22.597272554412484,
         22.56788244098425,
         22.33096947800368,
         22.255442338995636,
         22.642776428256184,
         22.50965339783579,
         22.498509529978037,
         22.55896631348878,
         22.553041831590235,
         22.400222988799214,
         22.61974938120693,
         22.613731450401247,
         22.75834526773542,
         22.620062476955354,
         22.388568096794188,
         22.696008584462106,
         22.4947410793975,
         22.650077600963414,
         22.61122295539826,
         22.442983676679432,
         22.608264938928187,
         22.383877995423973,
         22.478187578730285,
         22.51188327372074,
         22.579700086265802,
         22.456924664322287,
         22.67925276607275,
         22.494025614112616,
         22.70106336195022,
         22.372917677275836,
         22.43845484033227,
         22.469194148667157,
         22.772182346321642,
         22.27518619224429,
         22.693681458942592,
         22.66149557661265,
         22.571996107464656,
         22.461057045497,
         22.5721916211769,
         22.54734785389155,
         22.502467432059348,
         22.640735778026283,
         22.47103782184422,
         22.677215068601072,
         22.56483401823789,
         22.303382942453027,
         22.83521897997707,
         22.562244178261608,
         22.561000526882708,
         22.274017083458602,
         22.67143485788256,
         22.411613405682147,
         22.3635833254084,
         22.572656261734664,
         22.467110375873744
        ],
        [
         3.2599068579861386,
         3.2708390158759815,
         3.257762790452232,
         3.2616322431373663,
         3.2561762011703235,
         3.260708447715444,
         3.251473227673814,
         3.2549561866166865,
         3.2580803138664827,
         3.267101972529682,
         3.2685340348240928,
         3.27164273052902,
         3.263766458516481,
         3.2831577130416614,
         3.2741826773400104,
         3.2616852616911793,
         3.2855270472164726,
         3.260137527537075,
         3.2713567373782992,
         3.2567755496090824,
         3.274617177731758,
         3.2700895884098276,
         3.248152899391407,
         3.2685711142190534,
         3.2720945704379054,
         3.2804718465868565,
         3.270874457495246,
         3.2614350796061027,
         3.258264209697487,
         3.2533080086622372,
         3.24681828791319,
         3.2687267066391383,
         3.242735796118936,
         3.250242711821365,
         3.2646830998596665,
         3.272121259579318,
         3.2687982688487907,
         3.254372787736284,
         3.271885395968534,
         3.2438097022222188,
         3.2602635525780723,
         3.263210258742693,
         3.2823691364582768,
         3.2693919361259947,
         3.2579138879994183,
         3.2633600578453956,
         3.2719962560208202,
         3.2651620406442077,
         3.2483450348765364,
         3.273211299782028,
         3.2748160600623204,
         3.2594783601710375,
         3.264269892977136,
         3.271588098401551,
         3.272024562635454,
         3.257078961302235,
         3.2811488666495965,
         3.283922912549722,
         3.268079540558201,
         3.247515128307445,
         3.278885607805048,
         3.271989820375836,
         3.2672931719803677,
         3.27813032487923,
         3.254252550837743,
         3.2769936456432043,
         3.259826147834008,
         3.282254005903506,
         3.2657596438559233,
         3.267464518114075,
         3.2424547223911016,
         3.2635338644003995,
         3.2677911821409245,
         3.2864417476347523,
         3.2537831067349794,
         3.263408541766605,
         3.262680478158694,
         3.280611590532186,
         3.245369674684922,
         3.281150634017939,
         3.277616925955583,
         3.265472599015591,
         3.280766013036534,
         3.2641249603372846,
         3.2655182302571384,
         3.265922661692933,
         3.2731222822545316,
         3.261024108966626,
         3.281166745986774,
         3.2836764596165566,
         3.244002785283392,
         3.2947546012675644,
         3.2715097832767497,
         3.2758083169510437,
         3.253988007511135,
         3.289314844574198,
         3.2479052903950234,
         3.2442112427234453,
         3.2799482155485284,
         3.2716595964137603
        ]
       ],
       "encoder": "json",
       "name": "ABC_GAN_3 Metrics",
       "version": 1
      }
     },
     "metadata": {
      "scrapbook": {
       "data": true,
       "display": false,
       "name": "ABC_GAN_3 Metrics"
      }
     },
     "output_type": "display_data"
    },
    {
     "name": "stdout",
     "output_type": "stream",
     "text": [
      "MSE\n",
      "0.10458645752769641\n"
     ]
    }
   ],
   "source": [
    "ABC_GAN3_metrics=ABC_train_test2.test_generator(gen3,test_data,prior_model,variance,bias,\"3\",device)\n",
    "sb.glue(\"ABC_GAN_3 Metrics\",ABC_GAN3_metrics)\n",
    "\n",
    "print(\"MSE\")\n",
    "print(mean(ABC_GAN3_metrics[0]))"
   ]
  },
  {
   "cell_type": "code",
   "execution_count": 18,
   "id": "c8e46b48",
   "metadata": {
    "execution": {
     "iopub.execute_input": "2022-06-12T05:31:34.226082Z",
     "iopub.status.busy": "2022-06-12T05:31:34.225699Z",
     "iopub.status.idle": "2022-06-12T05:31:34.568392Z",
     "shell.execute_reply": "2022-06-12T05:31:34.568699Z"
    },
    "id": "c8e46b48",
    "papermill": {
     "duration": 0.363461,
     "end_time": "2022-06-12T05:31:34.568821",
     "exception": false,
     "start_time": "2022-06-12T05:31:34.205360",
     "status": "completed"
    },
    "tags": []
   },
   "outputs": [
    {
     "data": {
      "image/png": "[encoded data removed]",
      "text/plain": [
       "<Figure size 432x288 with 1 Axes>"
      ]
     },
     "metadata": {
      "needs_background": "light"
     },
     "output_type": "display_data"
    },
    {
     "data": {
      "image/png": "[encoded data removed]",
      "text/plain": [
       "<Figure size 432x288 with 1 Axes>"
      ]
     },
     "metadata": {
      "needs_background": "light"
     },
     "output_type": "display_data"
    },
    {
     "data": {
      "image/png": "[encoded data removed]",
      "text/plain": [
       "<Figure size 432x288 with 1 Axes>"
      ]
     },
     "metadata": {
      "needs_background": "light"
     },
     "output_type": "display_data"
    },
    {
     "data": {
      "image/png": "[encoded data removed]",
      "text/plain": [
       "<Figure size 432x288 with 1 Axes>"
      ]
     },
     "metadata": {
      "needs_background": "light"
     },
     "output_type": "display_data"
    }
   ],
   "source": [
    "sanityChecks.discProbVsError(train_data,disc3,device)\n",
    "sanityChecks.discProbVsError(test_data,disc3,device)"
   ]
  },
  {
   "cell_type": "markdown",
   "id": "a5bd74c3",
   "metadata": {
    "id": "a5bd74c3",
    "papermill": {
     "duration": 0.021243,
     "end_time": "2022-06-12T05:31:34.611147",
     "exception": false,
     "start_time": "2022-06-12T05:31:34.589904",
     "status": "completed"
    },
    "tags": []
   },
   "source": [
    "## Skip Connection Model Analysis - ABC-GAN "
   ]
  },
  {
   "cell_type": "markdown",
   "id": "5744a8bf",
   "metadata": {
    "id": "5744a8bf",
    "papermill": {
     "duration": 0.020559,
     "end_time": "2022-06-12T05:31:34.652753",
     "exception": false,
     "start_time": "2022-06-12T05:31:34.632194",
     "status": "completed"
    },
    "tags": []
   },
   "source": [
    "### Weight Analysis \n",
    "\n",
    "Study the weights of the skip connection layer\n",
    "\n",
    "Equation of the skip connection is \n",
    "\n",
    "$output = y_{gan} * w + y_{abc} * (1-w)$"
   ]
  },
  {
   "cell_type": "code",
   "execution_count": 19,
   "id": "52c31dea",
   "metadata": {
    "execution": {
     "iopub.execute_input": "2022-06-12T05:31:34.697191Z",
     "iopub.status.busy": "2022-06-12T05:31:34.696792Z",
     "iopub.status.idle": "2022-06-12T05:31:34.705305Z",
     "shell.execute_reply": "2022-06-12T05:31:34.705557Z"
    },
    "id": "52c31dea",
    "papermill": {
     "duration": 0.032181,
     "end_time": "2022-06-12T05:31:34.705680",
     "exception": false,
     "start_time": "2022-06-12T05:31:34.673499",
     "status": "completed"
    },
    "tags": []
   },
   "outputs": [
    {
     "name": "stdout",
     "output_type": "stream",
     "text": [
      "Weight of the node at skip connection\n",
      "Parameter containing:\n",
      "tensor([[0.9942]], requires_grad=True)\n"
     ]
    },
    {
     "data": {
      "application/scrapbook.scrap.json+json": {
       "data": 0.9941545724868774,
       "encoder": "json",
       "name": "Skip Connection Weight",
       "version": 1
      }
     },
     "metadata": {
      "scrapbook": {
       "data": true,
       "display": false,
       "name": "Skip Connection Weight"
      }
     },
     "output_type": "display_data"
    }
   ],
   "source": [
    "print(\"Weight of the node at skip connection\")\n",
    "for name,param in gen3.named_parameters():\n",
    "    if(name == \"skipNode.weight\"):\n",
    "        print(param)\n",
    "        sb.glue(\"Skip Connection Weight\",param.item())"
   ]
  }
 ],
 "metadata": {
  "colab": {
   "collapsed_sections": [],
   "name": "ABC_GAN_Model-Catboost_Pre-gen.ipynb",
   "provenance": []
  },
  "interpreter": {
   "hash": "31f2aee4e71d21fbe5cf8b01ff0e069b9275f58929596ceb00d14d90e3e16cd6"
  },
  "kernelspec": {
   "display_name": "Python 3 (ipykernel)",
   "language": "python",
   "name": "python3"
  },
  "language_info": {
   "codemirror_mode": {
    "name": "ipython",
    "version": 3
   },
   "file_extension": ".py",
   "mimetype": "text/x-python",
   "name": "python",
   "nbconvert_exporter": "python",
   "pygments_lexer": "ipython3",
   "version": "3.8.11"
  },
  "papermill": {
   "default_parameters": {},
   "duration": 263.570984,
   "end_time": "2022-06-12T05:31:35.136347",
   "environment_variables": {},
   "exception": null,
   "input_path": "ABC_GAN-Catboost.ipynb",
   "output_path": "./ABC_GAN_Catboost/ABC-GAN_output_6_0.ipynb",
   "parameters": {
    "bias": 1,
    "variance": 1
   },
   "start_time": "2022-06-12T05:27:11.565363",
   "version": "2.3.3"
  }
 },
 "nbformat": 4,
 "nbformat_minor": 5
}