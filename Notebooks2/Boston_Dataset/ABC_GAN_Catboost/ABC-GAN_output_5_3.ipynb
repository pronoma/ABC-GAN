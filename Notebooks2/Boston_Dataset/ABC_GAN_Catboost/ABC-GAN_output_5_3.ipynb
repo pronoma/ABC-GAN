{
 "cells": [
  {
   "cell_type": "markdown",
   "id": "622780e6",
   "metadata": {
    "id": "622780e6",
    "papermill": {
     "duration": 0.025085,
     "end_time": "2022-06-12T05:00:40.721879",
     "exception": false,
     "start_time": "2022-06-12T05:00:40.696794",
     "status": "completed"
    },
    "tags": []
   },
   "source": [
    "## Import Libraries "
   ]
  },
  {
   "cell_type": "code",
   "execution_count": 1,
   "id": "a62397e3",
   "metadata": {
    "execution": {
     "iopub.execute_input": "2022-06-12T05:00:40.757920Z",
     "iopub.status.busy": "2022-06-12T05:00:40.757394Z",
     "iopub.status.idle": "2022-06-12T05:00:40.759697Z",
     "shell.execute_reply": "2022-06-12T05:00:40.760207Z"
    },
    "id": "a62397e3",
    "papermill": {
     "duration": 0.022544,
     "end_time": "2022-06-12T05:00:40.760429",
     "exception": false,
     "start_time": "2022-06-12T05:00:40.737885",
     "status": "completed"
    },
    "tags": []
   },
   "outputs": [],
   "source": [
    "import warnings\n",
    "import sys\n",
    "sys.path.insert(0, '../../src')\n",
    "warnings.filterwarnings('ignore')"
   ]
  },
  {
   "cell_type": "code",
   "execution_count": 2,
   "id": "d6a4e155",
   "metadata": {
    "execution": {
     "iopub.execute_input": "2022-06-12T05:00:40.781405Z",
     "iopub.status.busy": "2022-06-12T05:00:40.780990Z",
     "iopub.status.idle": "2022-06-12T05:00:42.693999Z",
     "shell.execute_reply": "2022-06-12T05:00:42.694279Z"
    },
    "id": "d6a4e155",
    "papermill": {
     "duration": 1.924221,
     "end_time": "2022-06-12T05:00:42.694415",
     "exception": false,
     "start_time": "2022-06-12T05:00:40.770194",
     "status": "completed"
    },
    "tags": []
   },
   "outputs": [],
   "source": [
    "import ABC_train_test2\n",
    "import bostonDataset\n",
    "import network\n",
    "import dataset\n",
    "import sanityChecks\n",
    "import torch \n",
    "import scrapbook as sb\n",
    "from statistics import mean \n",
    "import catboost as ctb \n",
    "from sklearn.model_selection import train_test_split\n",
    "from sklearn.metrics import mean_squared_error,mean_absolute_error\n",
    "import numpy as np"
   ]
  },
  {
   "cell_type": "markdown",
   "id": "2fa5b0f7",
   "metadata": {
    "id": "2fa5b0f7",
    "papermill": {
     "duration": 0.006979,
     "end_time": "2022-06-12T05:00:42.708926",
     "exception": false,
     "start_time": "2022-06-12T05:00:42.701947",
     "status": "completed"
    },
    "tags": []
   },
   "source": [
    "## Parameters "
   ]
  },
  {
   "cell_type": "code",
   "execution_count": 3,
   "id": "783186fb",
   "metadata": {
    "execution": {
     "iopub.execute_input": "2022-06-12T05:00:42.725884Z",
     "iopub.status.busy": "2022-06-12T05:00:42.725434Z",
     "iopub.status.idle": "2022-06-12T05:00:42.726786Z",
     "shell.execute_reply": "2022-06-12T05:00:42.727039Z"
    },
    "id": "783186fb",
    "papermill": {
     "duration": 0.011144,
     "end_time": "2022-06-12T05:00:42.727184",
     "exception": false,
     "start_time": "2022-06-12T05:00:42.716040",
     "status": "completed"
    },
    "tags": [
     "parameters"
    ]
   },
   "outputs": [],
   "source": [
    "variance = 1\n",
    "bias = 1 "
   ]
  },
  {
   "cell_type": "code",
   "execution_count": 4,
   "id": "5ce5ad4a",
   "metadata": {
    "execution": {
     "iopub.execute_input": "2022-06-12T05:00:42.744663Z",
     "iopub.status.busy": "2022-06-12T05:00:42.744221Z",
     "iopub.status.idle": "2022-06-12T05:00:42.745755Z",
     "shell.execute_reply": "2022-06-12T05:00:42.746098Z"
    },
    "papermill": {
     "duration": 0.011502,
     "end_time": "2022-06-12T05:00:42.746377",
     "exception": false,
     "start_time": "2022-06-12T05:00:42.734875",
     "status": "completed"
    },
    "tags": [
     "injected-parameters"
    ]
   },
   "outputs": [],
   "source": [
    "# Parameters\n",
    "variance = 1\n",
    "bias = 0.1\n"
   ]
  },
  {
   "cell_type": "markdown",
   "id": "391cdbfd",
   "metadata": {
    "id": "391cdbfd",
    "papermill": {
     "duration": 0.006922,
     "end_time": "2022-06-12T05:00:42.760557",
     "exception": false,
     "start_time": "2022-06-12T05:00:42.753635",
     "status": "completed"
    },
    "tags": []
   },
   "source": [
    "## Dataset \n"
   ]
  },
  {
   "cell_type": "code",
   "execution_count": 5,
   "id": "5b51f161",
   "metadata": {
    "execution": {
     "iopub.execute_input": "2022-06-12T05:00:42.777256Z",
     "iopub.status.busy": "2022-06-12T05:00:42.776812Z",
     "iopub.status.idle": "2022-06-12T05:00:42.778037Z",
     "shell.execute_reply": "2022-06-12T05:00:42.778301Z"
    },
    "id": "5b51f161",
    "papermill": {
     "duration": 0.010609,
     "end_time": "2022-06-12T05:00:42.778431",
     "exception": false,
     "start_time": "2022-06-12T05:00:42.767822",
     "status": "completed"
    },
    "tags": []
   },
   "outputs": [],
   "source": [
    "#Parameters \n",
    "n_features = 13\n",
    "n_samples= 506\n",
    "n_target = 1 "
   ]
  },
  {
   "cell_type": "code",
   "execution_count": 6,
   "id": "5d6eced4",
   "metadata": {
    "execution": {
     "iopub.execute_input": "2022-06-12T05:00:42.794963Z",
     "iopub.status.busy": "2022-06-12T05:00:42.794523Z",
     "iopub.status.idle": "2022-06-12T05:00:42.805896Z",
     "shell.execute_reply": "2022-06-12T05:00:42.806148Z"
    },
    "id": "5d6eced4",
    "papermill": {
     "duration": 0.020656,
     "end_time": "2022-06-12T05:00:42.806267",
     "exception": false,
     "start_time": "2022-06-12T05:00:42.785611",
     "status": "completed"
    },
    "tags": []
   },
   "outputs": [
    {
     "name": "stdout",
     "output_type": "stream",
     "text": [
      "         X1        X2        X3        X4        X5        X6        X7  \\\n",
      "0 -0.419782  0.284830 -1.287909 -0.272599 -0.144217  0.413672 -0.120013   \n",
      "1 -0.417339 -0.487722 -0.593381 -0.272599 -0.740262  0.194274  0.367166   \n",
      "2 -0.417342 -0.487722 -0.593381 -0.272599 -0.740262  1.282714 -0.265812   \n",
      "3 -0.416750 -0.487722 -1.306878 -0.272599 -0.835284  1.016303 -0.809889   \n",
      "4 -0.412482 -0.487722 -1.306878 -0.272599 -0.835284  1.228577 -0.511180   \n",
      "\n",
      "         X8        X9       X10       X11       X12       X13         Y  \n",
      "0  0.140214 -0.982843 -0.666608 -1.459000  0.441052 -1.075562  0.159686  \n",
      "1  0.557160 -0.867883 -0.987329 -0.303094  0.441052 -0.492439 -0.101524  \n",
      "2  0.557160 -0.867883 -0.987329 -0.303094  0.396427 -1.208727  1.324247  \n",
      "3  1.077737 -0.752922 -1.106115  0.113032  0.416163 -1.361517  1.182758  \n",
      "4  1.077737 -0.752922 -1.106115  0.113032  0.441052 -1.026501  1.487503  \n"
     ]
    }
   ],
   "source": [
    "X,Y = bostonDataset.boston_data()"
   ]
  },
  {
   "cell_type": "code",
   "execution_count": 7,
   "id": "fe007438",
   "metadata": {
    "execution": {
     "iopub.execute_input": "2022-06-12T05:00:42.824301Z",
     "iopub.status.busy": "2022-06-12T05:00:42.823900Z",
     "iopub.status.idle": "2022-06-12T05:00:42.825399Z",
     "shell.execute_reply": "2022-06-12T05:00:42.825654Z"
    },
    "id": "fe007438",
    "papermill": {
     "duration": 0.01187,
     "end_time": "2022-06-12T05:00:42.825811",
     "exception": false,
     "start_time": "2022-06-12T05:00:42.813941",
     "status": "completed"
    },
    "tags": []
   },
   "outputs": [],
   "source": [
    "#Train test split for dataset \n",
    "X_train,X_test,Y_train,Y_test = train_test_split(X,Y,test_size = 0.2)\n",
    "train_data = dataset.CustomDataset(X_train,Y_train)\n",
    "test_data = dataset.CustomDataset(X_test,Y_test)\n"
   ]
  },
  {
   "cell_type": "markdown",
   "id": "a9a1af34",
   "metadata": {
    "id": "a9a1af34",
    "papermill": {
     "duration": 0.007378,
     "end_time": "2022-06-12T05:00:42.840797",
     "exception": false,
     "start_time": "2022-06-12T05:00:42.833419",
     "status": "completed"
    },
    "tags": []
   },
   "source": [
    "## Training Parameters "
   ]
  },
  {
   "cell_type": "code",
   "execution_count": 8,
   "id": "952b7fc8",
   "metadata": {
    "execution": {
     "iopub.execute_input": "2022-06-12T05:00:42.859221Z",
     "iopub.status.busy": "2022-06-12T05:00:42.858843Z",
     "iopub.status.idle": "2022-06-12T05:00:42.860031Z",
     "shell.execute_reply": "2022-06-12T05:00:42.860352Z"
    },
    "id": "952b7fc8",
    "papermill": {
     "duration": 0.011638,
     "end_time": "2022-06-12T05:00:42.860479",
     "exception": false,
     "start_time": "2022-06-12T05:00:42.848841",
     "status": "completed"
    },
    "tags": []
   },
   "outputs": [],
   "source": [
    "batch_size = 32\n",
    "n_epochs = 1000\n",
    "#Select the device \n",
    "device = torch.device('cuda' if torch.cuda.is_available() else 'cpu')"
   ]
  },
  {
   "cell_type": "markdown",
   "id": "a95e1600",
   "metadata": {
    "id": "a95e1600",
    "papermill": {
     "duration": 0.007227,
     "end_time": "2022-06-12T05:00:42.875314",
     "exception": false,
     "start_time": "2022-06-12T05:00:42.868087",
     "status": "completed"
    },
    "tags": []
   },
   "source": [
    "# ABC Pre-generator Model \n",
    "\n",
    "1. The catboost model is used as a pre-generator model for the ABC-GAN. \n",
    "2. The model is first trained on the entire dataset \n",
    "3. It generats X,Y pairs and we add some Gaussian noise with mean 0 and variance 1 to it which is then feed as input to the generator.\n"
   ]
  },
  {
   "cell_type": "code",
   "execution_count": 9,
   "id": "ff8ce7bd",
   "metadata": {
    "execution": {
     "iopub.execute_input": "2022-06-12T05:00:42.895761Z",
     "iopub.status.busy": "2022-06-12T05:00:42.895354Z",
     "iopub.status.idle": "2022-06-12T05:00:43.881377Z",
     "shell.execute_reply": "2022-06-12T05:00:43.881634Z"
    },
    "id": "ff8ce7bd",
    "papermill": {
     "duration": 0.998901,
     "end_time": "2022-06-12T05:00:43.881760",
     "exception": false,
     "start_time": "2022-06-12T05:00:42.882859",
     "status": "completed"
    },
    "tags": []
   },
   "outputs": [
    {
     "name": "stdout",
     "output_type": "stream",
     "text": [
      "Learning rate set to 0.033215\n",
      "0:\tlearn: 0.9743075\ttotal: 57.1ms\tremaining: 57s\n",
      "1:\tlearn: 0.9570958\ttotal: 58.2ms\tremaining: 29s\n",
      "2:\tlearn: 0.9383624\ttotal: 59.2ms\tremaining: 19.7s\n",
      "3:\tlearn: 0.9204746\ttotal: 60.1ms\tremaining: 15s\n",
      "4:\tlearn: 0.9032879\ttotal: 61ms\tremaining: 12.1s\n",
      "5:\tlearn: 0.8877506\ttotal: 62.2ms\tremaining: 10.3s\n",
      "6:\tlearn: 0.8718828\ttotal: 63.4ms\tremaining: 8.99s\n",
      "7:\tlearn: 0.8553883\ttotal: 64.3ms\tremaining: 7.97s\n",
      "8:\tlearn: 0.8406763\ttotal: 65.2ms\tremaining: 7.18s\n",
      "9:\tlearn: 0.8247568\ttotal: 66.1ms\tremaining: 6.55s\n",
      "10:\tlearn: 0.8110518\ttotal: 67ms\tremaining: 6.02s\n",
      "11:\tlearn: 0.7963947\ttotal: 67.9ms\tremaining: 5.59s\n",
      "12:\tlearn: 0.7820966\ttotal: 68.8ms\tremaining: 5.22s\n",
      "13:\tlearn: 0.7675474\ttotal: 69.8ms\tremaining: 4.91s\n",
      "14:\tlearn: 0.7555453\ttotal: 70.7ms\tremaining: 4.64s\n",
      "15:\tlearn: 0.7421759\ttotal: 71.5ms\tremaining: 4.4s\n",
      "16:\tlearn: 0.7300033\ttotal: 72.3ms\tremaining: 4.18s\n",
      "17:\tlearn: 0.7179594\ttotal: 73.1ms\tremaining: 3.99s\n",
      "18:\tlearn: 0.7059643\ttotal: 73.8ms\tremaining: 3.81s\n",
      "19:\tlearn: 0.6921947\ttotal: 74.6ms\tremaining: 3.66s\n",
      "20:\tlearn: 0.6812524\ttotal: 75.4ms\tremaining: 3.51s\n",
      "21:\tlearn: 0.6714647\ttotal: 76.2ms\tremaining: 3.38s\n",
      "22:\tlearn: 0.6609483\ttotal: 77ms\tremaining: 3.27s\n",
      "23:\tlearn: 0.6521767\ttotal: 78.1ms\tremaining: 3.18s\n",
      "24:\tlearn: 0.6429406\ttotal: 78.9ms\tremaining: 3.08s\n",
      "25:\tlearn: 0.6334458\ttotal: 79.7ms\tremaining: 2.99s\n",
      "26:\tlearn: 0.6250660\ttotal: 80.6ms\tremaining: 2.9s\n",
      "27:\tlearn: 0.6160324\ttotal: 81.5ms\tremaining: 2.83s\n",
      "28:\tlearn: 0.6073628\ttotal: 82.2ms\tremaining: 2.75s\n",
      "29:\tlearn: 0.5977523\ttotal: 83.1ms\tremaining: 2.69s\n",
      "30:\tlearn: 0.5886320\ttotal: 83.9ms\tremaining: 2.62s\n",
      "31:\tlearn: 0.5811874\ttotal: 84.7ms\tremaining: 2.56s\n",
      "32:\tlearn: 0.5725495\ttotal: 85.5ms\tremaining: 2.5s\n",
      "33:\tlearn: 0.5648548\ttotal: 86.2ms\tremaining: 2.45s\n",
      "34:\tlearn: 0.5574543\ttotal: 86.9ms\tremaining: 2.4s\n",
      "35:\tlearn: 0.5505511\ttotal: 87.7ms\tremaining: 2.35s\n",
      "36:\tlearn: 0.5437905\ttotal: 88.5ms\tremaining: 2.3s\n",
      "37:\tlearn: 0.5363199\ttotal: 89.3ms\tremaining: 2.26s\n",
      "38:\tlearn: 0.5287729\ttotal: 90ms\tremaining: 2.22s\n",
      "39:\tlearn: 0.5211597\ttotal: 91ms\tremaining: 2.18s\n",
      "40:\tlearn: 0.5151334\ttotal: 91.8ms\tremaining: 2.15s\n",
      "41:\tlearn: 0.5080460\ttotal: 92.7ms\tremaining: 2.11s\n",
      "42:\tlearn: 0.5028625\ttotal: 93.6ms\tremaining: 2.08s\n",
      "43:\tlearn: 0.4975537\ttotal: 94.3ms\tremaining: 2.05s\n",
      "44:\tlearn: 0.4919127\ttotal: 95.1ms\tremaining: 2.02s\n",
      "45:\tlearn: 0.4860174\ttotal: 96ms\tremaining: 1.99s\n",
      "46:\tlearn: 0.4812731\ttotal: 96.7ms\tremaining: 1.96s\n",
      "47:\tlearn: 0.4756648\ttotal: 98ms\tremaining: 1.94s\n",
      "48:\tlearn: 0.4699125\ttotal: 98.7ms\tremaining: 1.92s\n",
      "49:\tlearn: 0.4651289\ttotal: 99.6ms\tremaining: 1.89s\n",
      "50:\tlearn: 0.4599334\ttotal: 100ms\tremaining: 1.87s\n",
      "51:\tlearn: 0.4556560\ttotal: 101ms\tremaining: 1.84s\n",
      "52:\tlearn: 0.4515624\ttotal: 102ms\tremaining: 1.82s\n"
     ]
    },
    {
     "name": "stdout",
     "output_type": "stream",
     "text": [
      "53:\tlearn: 0.4482351\ttotal: 103ms\tremaining: 1.8s\n",
      "54:\tlearn: 0.4431317\ttotal: 104ms\tremaining: 1.78s\n",
      "55:\tlearn: 0.4394209\ttotal: 105ms\tremaining: 1.76s\n",
      "56:\tlearn: 0.4360574\ttotal: 105ms\tremaining: 1.74s\n",
      "57:\tlearn: 0.4317391\ttotal: 106ms\tremaining: 1.72s\n",
      "58:\tlearn: 0.4280279\ttotal: 107ms\tremaining: 1.71s\n",
      "59:\tlearn: 0.4236708\ttotal: 108ms\tremaining: 1.69s\n",
      "60:\tlearn: 0.4192258\ttotal: 109ms\tremaining: 1.67s\n",
      "61:\tlearn: 0.4151710\ttotal: 109ms\tremaining: 1.65s\n",
      "62:\tlearn: 0.4124008\ttotal: 110ms\tremaining: 1.64s\n",
      "63:\tlearn: 0.4088050\ttotal: 111ms\tremaining: 1.62s\n",
      "64:\tlearn: 0.4044883\ttotal: 112ms\tremaining: 1.61s\n",
      "65:\tlearn: 0.4011122\ttotal: 113ms\tremaining: 1.59s\n",
      "66:\tlearn: 0.3976171\ttotal: 113ms\tremaining: 1.58s\n",
      "67:\tlearn: 0.3941183\ttotal: 114ms\tremaining: 1.57s\n",
      "68:\tlearn: 0.3906647\ttotal: 115ms\tremaining: 1.55s\n",
      "69:\tlearn: 0.3884138\ttotal: 116ms\tremaining: 1.54s\n",
      "70:\tlearn: 0.3855683\ttotal: 117ms\tremaining: 1.53s\n",
      "71:\tlearn: 0.3824351\ttotal: 118ms\tremaining: 1.52s\n",
      "72:\tlearn: 0.3797883\ttotal: 119ms\tremaining: 1.5s\n",
      "73:\tlearn: 0.3762597\ttotal: 119ms\tremaining: 1.5s\n",
      "74:\tlearn: 0.3737018\ttotal: 120ms\tremaining: 1.48s\n",
      "75:\tlearn: 0.3712229\ttotal: 121ms\tremaining: 1.48s\n",
      "76:\tlearn: 0.3685132\ttotal: 122ms\tremaining: 1.46s\n",
      "77:\tlearn: 0.3647158\ttotal: 123ms\tremaining: 1.45s\n",
      "78:\tlearn: 0.3625656\ttotal: 124ms\tremaining: 1.44s\n",
      "79:\tlearn: 0.3599941\ttotal: 125ms\tremaining: 1.43s\n",
      "80:\tlearn: 0.3571872\ttotal: 126ms\tremaining: 1.42s\n",
      "81:\tlearn: 0.3544526\ttotal: 126ms\tremaining: 1.42s\n",
      "82:\tlearn: 0.3529281\ttotal: 127ms\tremaining: 1.41s\n",
      "83:\tlearn: 0.3504689\ttotal: 128ms\tremaining: 1.4s\n",
      "84:\tlearn: 0.3481053\ttotal: 129ms\tremaining: 1.39s\n",
      "85:\tlearn: 0.3457314\ttotal: 130ms\tremaining: 1.38s\n",
      "86:\tlearn: 0.3437252\ttotal: 131ms\tremaining: 1.37s\n",
      "87:\tlearn: 0.3415189\ttotal: 132ms\tremaining: 1.36s\n",
      "88:\tlearn: 0.3389179\ttotal: 133ms\tremaining: 1.36s\n",
      "89:\tlearn: 0.3361862\ttotal: 133ms\tremaining: 1.35s\n",
      "90:\tlearn: 0.3338630\ttotal: 134ms\tremaining: 1.34s\n",
      "91:\tlearn: 0.3313214\ttotal: 135ms\tremaining: 1.33s\n",
      "92:\tlearn: 0.3290336\ttotal: 136ms\tremaining: 1.33s\n",
      "93:\tlearn: 0.3274646\ttotal: 138ms\tremaining: 1.33s\n",
      "94:\tlearn: 0.3255309\ttotal: 138ms\tremaining: 1.32s\n",
      "95:\tlearn: 0.3244652\ttotal: 139ms\tremaining: 1.31s\n",
      "96:\tlearn: 0.3233134\ttotal: 140ms\tremaining: 1.3s\n",
      "97:\tlearn: 0.3217124\ttotal: 141ms\tremaining: 1.3s\n",
      "98:\tlearn: 0.3202796\ttotal: 142ms\tremaining: 1.29s\n",
      "99:\tlearn: 0.3190626\ttotal: 143ms\tremaining: 1.28s\n",
      "100:\tlearn: 0.3167979\ttotal: 143ms\tremaining: 1.28s\n",
      "101:\tlearn: 0.3147800\ttotal: 144ms\tremaining: 1.27s\n",
      "102:\tlearn: 0.3130730\ttotal: 145ms\tremaining: 1.26s\n",
      "103:\tlearn: 0.3114377\ttotal: 146ms\tremaining: 1.26s\n",
      "104:\tlearn: 0.3100285\ttotal: 147ms\tremaining: 1.25s\n",
      "105:\tlearn: 0.3084946\ttotal: 148ms\tremaining: 1.25s\n",
      "106:\tlearn: 0.3067408\ttotal: 149ms\tremaining: 1.24s\n",
      "107:\tlearn: 0.3044564\ttotal: 149ms\tremaining: 1.23s\n",
      "108:\tlearn: 0.3028926\ttotal: 150ms\tremaining: 1.23s\n",
      "109:\tlearn: 0.3018630\ttotal: 151ms\tremaining: 1.22s\n",
      "110:\tlearn: 0.3002875\ttotal: 153ms\tremaining: 1.22s\n",
      "111:\tlearn: 0.2988096\ttotal: 153ms\tremaining: 1.22s\n",
      "112:\tlearn: 0.2973084\ttotal: 154ms\tremaining: 1.21s\n",
      "113:\tlearn: 0.2961176\ttotal: 155ms\tremaining: 1.21s\n",
      "114:\tlearn: 0.2950720\ttotal: 156ms\tremaining: 1.2s\n",
      "115:\tlearn: 0.2936753\ttotal: 157ms\tremaining: 1.2s\n",
      "116:\tlearn: 0.2924299\ttotal: 158ms\tremaining: 1.19s\n",
      "117:\tlearn: 0.2909664\ttotal: 158ms\tremaining: 1.18s\n",
      "118:\tlearn: 0.2899103\ttotal: 159ms\tremaining: 1.18s\n",
      "119:\tlearn: 0.2889204\ttotal: 160ms\tremaining: 1.18s\n",
      "120:\tlearn: 0.2876373\ttotal: 161ms\tremaining: 1.17s\n",
      "121:\tlearn: 0.2863061\ttotal: 162ms\tremaining: 1.17s\n",
      "122:\tlearn: 0.2849947\ttotal: 163ms\tremaining: 1.16s\n",
      "123:\tlearn: 0.2839734\ttotal: 164ms\tremaining: 1.16s\n",
      "124:\tlearn: 0.2828835\ttotal: 165ms\tremaining: 1.15s\n",
      "125:\tlearn: 0.2817082\ttotal: 165ms\tremaining: 1.15s\n",
      "126:\tlearn: 0.2803076\ttotal: 166ms\tremaining: 1.14s\n",
      "127:\tlearn: 0.2787768\ttotal: 167ms\tremaining: 1.14s\n",
      "128:\tlearn: 0.2776279\ttotal: 168ms\tremaining: 1.13s\n",
      "129:\tlearn: 0.2766424\ttotal: 169ms\tremaining: 1.13s\n",
      "130:\tlearn: 0.2756208\ttotal: 170ms\tremaining: 1.12s\n",
      "131:\tlearn: 0.2746442\ttotal: 170ms\tremaining: 1.12s\n",
      "132:\tlearn: 0.2735148\ttotal: 171ms\tremaining: 1.12s\n",
      "133:\tlearn: 0.2723389\ttotal: 172ms\tremaining: 1.11s\n",
      "134:\tlearn: 0.2712818\ttotal: 173ms\tremaining: 1.11s\n",
      "135:\tlearn: 0.2703396\ttotal: 174ms\tremaining: 1.1s\n",
      "136:\tlearn: 0.2694659\ttotal: 175ms\tremaining: 1.1s\n",
      "137:\tlearn: 0.2683638\ttotal: 176ms\tremaining: 1.1s\n",
      "138:\tlearn: 0.2671177\ttotal: 177ms\tremaining: 1.09s\n",
      "139:\tlearn: 0.2664736\ttotal: 177ms\tremaining: 1.09s\n",
      "140:\tlearn: 0.2656196\ttotal: 178ms\tremaining: 1.08s\n",
      "141:\tlearn: 0.2647975\ttotal: 179ms\tremaining: 1.08s\n",
      "142:\tlearn: 0.2634234\ttotal: 180ms\tremaining: 1.08s\n",
      "143:\tlearn: 0.2623499\ttotal: 181ms\tremaining: 1.07s\n",
      "144:\tlearn: 0.2615622\ttotal: 181ms\tremaining: 1.07s\n",
      "145:\tlearn: 0.2608879\ttotal: 182ms\tremaining: 1.07s\n",
      "146:\tlearn: 0.2597705\ttotal: 183ms\tremaining: 1.06s\n",
      "147:\tlearn: 0.2588236\ttotal: 184ms\tremaining: 1.06s\n",
      "148:\tlearn: 0.2575808\ttotal: 185ms\tremaining: 1.05s\n",
      "149:\tlearn: 0.2568372\ttotal: 186ms\tremaining: 1.05s\n",
      "150:\tlearn: 0.2558960\ttotal: 186ms\tremaining: 1.05s\n",
      "151:\tlearn: 0.2551322\ttotal: 187ms\tremaining: 1.04s\n",
      "152:\tlearn: 0.2543558\ttotal: 188ms\tremaining: 1.04s\n",
      "153:\tlearn: 0.2534445\ttotal: 189ms\tremaining: 1.04s\n"
     ]
    },
    {
     "name": "stdout",
     "output_type": "stream",
     "text": [
      "154:\tlearn: 0.2528823\ttotal: 190ms\tremaining: 1.04s\n",
      "155:\tlearn: 0.2520229\ttotal: 191ms\tremaining: 1.03s\n",
      "156:\tlearn: 0.2508500\ttotal: 192ms\tremaining: 1.03s\n",
      "157:\tlearn: 0.2498188\ttotal: 193ms\tremaining: 1.03s\n",
      "158:\tlearn: 0.2488187\ttotal: 194ms\tremaining: 1.02s\n",
      "159:\tlearn: 0.2480477\ttotal: 194ms\tremaining: 1.02s\n",
      "160:\tlearn: 0.2474324\ttotal: 195ms\tremaining: 1.02s\n",
      "161:\tlearn: 0.2467341\ttotal: 196ms\tremaining: 1.01s\n",
      "162:\tlearn: 0.2461461\ttotal: 197ms\tremaining: 1.01s\n",
      "163:\tlearn: 0.2454499\ttotal: 198ms\tremaining: 1.01s\n",
      "164:\tlearn: 0.2447375\ttotal: 199ms\tremaining: 1s\n",
      "165:\tlearn: 0.2441151\ttotal: 200ms\tremaining: 1s\n",
      "166:\tlearn: 0.2434682\ttotal: 200ms\tremaining: 1s\n",
      "167:\tlearn: 0.2424108\ttotal: 201ms\tremaining: 997ms\n",
      "168:\tlearn: 0.2417998\ttotal: 202ms\tremaining: 995ms\n",
      "169:\tlearn: 0.2411517\ttotal: 203ms\tremaining: 993ms\n",
      "170:\tlearn: 0.2401444\ttotal: 204ms\tremaining: 991ms\n",
      "171:\tlearn: 0.2395071\ttotal: 205ms\tremaining: 988ms\n",
      "172:\tlearn: 0.2388804\ttotal: 206ms\tremaining: 985ms\n",
      "173:\tlearn: 0.2382008\ttotal: 207ms\tremaining: 983ms\n",
      "174:\tlearn: 0.2374726\ttotal: 208ms\tremaining: 981ms\n",
      "175:\tlearn: 0.2369066\ttotal: 209ms\tremaining: 977ms\n",
      "176:\tlearn: 0.2360111\ttotal: 210ms\tremaining: 974ms\n",
      "177:\tlearn: 0.2354741\ttotal: 210ms\tremaining: 971ms\n",
      "178:\tlearn: 0.2347059\ttotal: 211ms\tremaining: 968ms\n",
      "179:\tlearn: 0.2342164\ttotal: 212ms\tremaining: 966ms\n",
      "180:\tlearn: 0.2332953\ttotal: 213ms\tremaining: 963ms\n",
      "181:\tlearn: 0.2323694\ttotal: 214ms\tremaining: 961ms\n",
      "182:\tlearn: 0.2316973\ttotal: 215ms\tremaining: 958ms\n",
      "183:\tlearn: 0.2308631\ttotal: 215ms\tremaining: 955ms\n",
      "184:\tlearn: 0.2300342\ttotal: 216ms\tremaining: 952ms\n",
      "185:\tlearn: 0.2293051\ttotal: 217ms\tremaining: 949ms\n",
      "186:\tlearn: 0.2283601\ttotal: 218ms\tremaining: 946ms\n",
      "187:\tlearn: 0.2276767\ttotal: 218ms\tremaining: 943ms\n",
      "188:\tlearn: 0.2269989\ttotal: 219ms\tremaining: 941ms\n",
      "189:\tlearn: 0.2264082\ttotal: 220ms\tremaining: 939ms\n",
      "190:\tlearn: 0.2259487\ttotal: 221ms\tremaining: 936ms\n",
      "191:\tlearn: 0.2251571\ttotal: 222ms\tremaining: 934ms\n",
      "192:\tlearn: 0.2244904\ttotal: 223ms\tremaining: 931ms\n",
      "193:\tlearn: 0.2239220\ttotal: 224ms\tremaining: 929ms\n",
      "194:\tlearn: 0.2235137\ttotal: 224ms\tremaining: 926ms\n",
      "195:\tlearn: 0.2228079\ttotal: 225ms\tremaining: 924ms\n",
      "196:\tlearn: 0.2222631\ttotal: 226ms\tremaining: 921ms\n",
      "197:\tlearn: 0.2217030\ttotal: 227ms\tremaining: 918ms\n",
      "198:\tlearn: 0.2212692\ttotal: 228ms\tremaining: 916ms\n",
      "199:\tlearn: 0.2206579\ttotal: 228ms\tremaining: 913ms\n",
      "200:\tlearn: 0.2199681\ttotal: 229ms\tremaining: 910ms\n",
      "201:\tlearn: 0.2192831\ttotal: 230ms\tremaining: 908ms\n",
      "202:\tlearn: 0.2186929\ttotal: 231ms\tremaining: 906ms\n",
      "203:\tlearn: 0.2180698\ttotal: 232ms\tremaining: 904ms\n",
      "204:\tlearn: 0.2174377\ttotal: 232ms\tremaining: 901ms\n",
      "205:\tlearn: 0.2165116\ttotal: 233ms\tremaining: 899ms\n",
      "206:\tlearn: 0.2159344\ttotal: 234ms\tremaining: 896ms\n",
      "207:\tlearn: 0.2154050\ttotal: 235ms\tremaining: 896ms\n",
      "208:\tlearn: 0.2150370\ttotal: 236ms\tremaining: 894ms\n",
      "209:\tlearn: 0.2143320\ttotal: 237ms\tremaining: 892ms\n",
      "210:\tlearn: 0.2137867\ttotal: 238ms\tremaining: 890ms\n",
      "211:\tlearn: 0.2132359\ttotal: 239ms\tremaining: 887ms\n",
      "212:\tlearn: 0.2125791\ttotal: 240ms\tremaining: 885ms\n",
      "213:\tlearn: 0.2118993\ttotal: 240ms\tremaining: 883ms\n",
      "214:\tlearn: 0.2111603\ttotal: 241ms\tremaining: 881ms\n",
      "215:\tlearn: 0.2107735\ttotal: 242ms\tremaining: 879ms\n",
      "216:\tlearn: 0.2103623\ttotal: 243ms\tremaining: 876ms\n",
      "217:\tlearn: 0.2097197\ttotal: 244ms\tremaining: 874ms\n",
      "218:\tlearn: 0.2092645\ttotal: 245ms\tremaining: 872ms\n",
      "219:\tlearn: 0.2087792\ttotal: 246ms\tremaining: 871ms\n",
      "220:\tlearn: 0.2081790\ttotal: 246ms\tremaining: 868ms\n",
      "221:\tlearn: 0.2077147\ttotal: 247ms\tremaining: 866ms\n",
      "222:\tlearn: 0.2073955\ttotal: 248ms\tremaining: 864ms\n",
      "223:\tlearn: 0.2067602\ttotal: 249ms\tremaining: 861ms\n",
      "224:\tlearn: 0.2062905\ttotal: 249ms\tremaining: 859ms\n",
      "225:\tlearn: 0.2060356\ttotal: 250ms\tremaining: 857ms\n",
      "226:\tlearn: 0.2053657\ttotal: 251ms\tremaining: 855ms\n",
      "227:\tlearn: 0.2048728\ttotal: 252ms\tremaining: 853ms\n",
      "228:\tlearn: 0.2041480\ttotal: 253ms\tremaining: 852ms\n",
      "229:\tlearn: 0.2036675\ttotal: 254ms\tremaining: 851ms\n",
      "230:\tlearn: 0.2030010\ttotal: 255ms\tremaining: 850ms\n",
      "231:\tlearn: 0.2023616\ttotal: 256ms\tremaining: 848ms\n",
      "232:\tlearn: 0.2019902\ttotal: 257ms\tremaining: 847ms\n",
      "233:\tlearn: 0.2013358\ttotal: 258ms\tremaining: 845ms\n",
      "234:\tlearn: 0.2008857\ttotal: 259ms\tremaining: 844ms\n",
      "235:\tlearn: 0.2002074\ttotal: 260ms\tremaining: 842ms\n",
      "236:\tlearn: 0.1996731\ttotal: 261ms\tremaining: 841ms\n",
      "237:\tlearn: 0.1991693\ttotal: 262ms\tremaining: 839ms\n",
      "238:\tlearn: 0.1987485\ttotal: 263ms\tremaining: 838ms\n",
      "239:\tlearn: 0.1983740\ttotal: 264ms\tremaining: 836ms\n",
      "240:\tlearn: 0.1977542\ttotal: 265ms\tremaining: 834ms\n",
      "241:\tlearn: 0.1974551\ttotal: 266ms\tremaining: 833ms\n",
      "242:\tlearn: 0.1967873\ttotal: 267ms\tremaining: 831ms\n",
      "243:\tlearn: 0.1963500\ttotal: 267ms\tremaining: 829ms\n",
      "244:\tlearn: 0.1960857\ttotal: 268ms\tremaining: 826ms\n",
      "245:\tlearn: 0.1955081\ttotal: 269ms\tremaining: 825ms\n",
      "246:\tlearn: 0.1951699\ttotal: 270ms\tremaining: 822ms\n",
      "247:\tlearn: 0.1946788\ttotal: 271ms\tremaining: 820ms\n",
      "248:\tlearn: 0.1942490\ttotal: 271ms\tremaining: 818ms\n",
      "249:\tlearn: 0.1938528\ttotal: 272ms\tremaining: 817ms\n",
      "250:\tlearn: 0.1932898\ttotal: 273ms\tremaining: 815ms\n",
      "251:\tlearn: 0.1928816\ttotal: 274ms\tremaining: 813ms\n",
      "252:\tlearn: 0.1924780\ttotal: 275ms\tremaining: 811ms\n",
      "253:\tlearn: 0.1918835\ttotal: 276ms\tremaining: 809ms\n",
      "254:\tlearn: 0.1911572\ttotal: 277ms\tremaining: 808ms\n",
      "255:\tlearn: 0.1906398\ttotal: 277ms\tremaining: 806ms\n",
      "256:\tlearn: 0.1900160\ttotal: 279ms\tremaining: 806ms\n",
      "257:\tlearn: 0.1895632\ttotal: 280ms\tremaining: 804ms\n",
      "258:\tlearn: 0.1892528\ttotal: 280ms\tremaining: 802ms\n",
      "259:\tlearn: 0.1888813\ttotal: 282ms\tremaining: 803ms\n",
      "260:\tlearn: 0.1884666\ttotal: 283ms\tremaining: 801ms\n",
      "261:\tlearn: 0.1879597\ttotal: 284ms\tremaining: 799ms\n",
      "262:\tlearn: 0.1875146\ttotal: 284ms\tremaining: 797ms\n",
      "263:\tlearn: 0.1872242\ttotal: 285ms\tremaining: 795ms\n",
      "264:\tlearn: 0.1868942\ttotal: 286ms\tremaining: 794ms\n",
      "265:\tlearn: 0.1864701\ttotal: 287ms\tremaining: 792ms\n",
      "266:\tlearn: 0.1861529\ttotal: 288ms\tremaining: 790ms\n",
      "267:\tlearn: 0.1857386\ttotal: 289ms\tremaining: 788ms\n",
      "268:\tlearn: 0.1854985\ttotal: 289ms\tremaining: 786ms\n",
      "269:\tlearn: 0.1852374\ttotal: 290ms\tremaining: 785ms\n",
      "270:\tlearn: 0.1846756\ttotal: 291ms\tremaining: 783ms\n",
      "271:\tlearn: 0.1841593\ttotal: 292ms\tremaining: 781ms\n"
     ]
    },
    {
     "name": "stdout",
     "output_type": "stream",
     "text": [
      "272:\tlearn: 0.1837351\ttotal: 293ms\tremaining: 780ms\n",
      "273:\tlearn: 0.1832958\ttotal: 294ms\tremaining: 779ms\n",
      "274:\tlearn: 0.1827571\ttotal: 295ms\tremaining: 778ms\n",
      "275:\tlearn: 0.1824131\ttotal: 296ms\tremaining: 776ms\n",
      "276:\tlearn: 0.1819517\ttotal: 297ms\tremaining: 774ms\n",
      "277:\tlearn: 0.1814582\ttotal: 297ms\tremaining: 772ms\n",
      "278:\tlearn: 0.1809462\ttotal: 298ms\tremaining: 771ms\n",
      "279:\tlearn: 0.1805559\ttotal: 299ms\tremaining: 770ms\n",
      "280:\tlearn: 0.1801445\ttotal: 300ms\tremaining: 768ms\n",
      "281:\tlearn: 0.1798992\ttotal: 301ms\tremaining: 767ms\n",
      "282:\tlearn: 0.1795960\ttotal: 302ms\tremaining: 765ms\n",
      "283:\tlearn: 0.1792007\ttotal: 303ms\tremaining: 764ms\n",
      "284:\tlearn: 0.1789563\ttotal: 304ms\tremaining: 762ms\n",
      "285:\tlearn: 0.1785784\ttotal: 304ms\tremaining: 760ms\n",
      "286:\tlearn: 0.1781562\ttotal: 305ms\tremaining: 758ms\n",
      "287:\tlearn: 0.1777278\ttotal: 306ms\tremaining: 757ms\n",
      "288:\tlearn: 0.1775970\ttotal: 307ms\tremaining: 756ms\n",
      "289:\tlearn: 0.1772246\ttotal: 309ms\tremaining: 756ms\n",
      "290:\tlearn: 0.1767091\ttotal: 310ms\tremaining: 755ms\n",
      "291:\tlearn: 0.1762720\ttotal: 311ms\tremaining: 753ms\n",
      "292:\tlearn: 0.1758516\ttotal: 312ms\tremaining: 752ms\n",
      "293:\tlearn: 0.1753722\ttotal: 312ms\tremaining: 750ms\n",
      "294:\tlearn: 0.1749287\ttotal: 313ms\tremaining: 749ms\n",
      "295:\tlearn: 0.1746331\ttotal: 314ms\tremaining: 747ms\n",
      "296:\tlearn: 0.1739903\ttotal: 315ms\tremaining: 745ms\n",
      "297:\tlearn: 0.1736272\ttotal: 316ms\tremaining: 744ms\n",
      "298:\tlearn: 0.1733788\ttotal: 317ms\tremaining: 742ms\n",
      "299:\tlearn: 0.1728806\ttotal: 318ms\tremaining: 741ms\n",
      "300:\tlearn: 0.1724362\ttotal: 318ms\tremaining: 739ms\n",
      "301:\tlearn: 0.1719317\ttotal: 319ms\tremaining: 738ms\n",
      "302:\tlearn: 0.1715699\ttotal: 321ms\tremaining: 738ms\n",
      "303:\tlearn: 0.1711474\ttotal: 322ms\tremaining: 736ms\n",
      "304:\tlearn: 0.1708440\ttotal: 322ms\tremaining: 735ms\n",
      "305:\tlearn: 0.1704731\ttotal: 323ms\tremaining: 733ms\n",
      "306:\tlearn: 0.1702151\ttotal: 324ms\tremaining: 732ms\n",
      "307:\tlearn: 0.1697844\ttotal: 325ms\tremaining: 730ms\n",
      "308:\tlearn: 0.1694579\ttotal: 326ms\tremaining: 729ms\n",
      "309:\tlearn: 0.1692272\ttotal: 327ms\tremaining: 727ms\n",
      "310:\tlearn: 0.1688430\ttotal: 328ms\tremaining: 726ms\n",
      "311:\tlearn: 0.1684445\ttotal: 328ms\tremaining: 724ms\n",
      "312:\tlearn: 0.1680249\ttotal: 330ms\tremaining: 723ms\n",
      "313:\tlearn: 0.1677702\ttotal: 330ms\tremaining: 722ms\n",
      "314:\tlearn: 0.1673712\ttotal: 331ms\tremaining: 720ms\n",
      "315:\tlearn: 0.1669899\ttotal: 332ms\tremaining: 719ms\n",
      "316:\tlearn: 0.1665770\ttotal: 333ms\tremaining: 717ms\n",
      "317:\tlearn: 0.1662454\ttotal: 334ms\tremaining: 715ms\n",
      "318:\tlearn: 0.1658779\ttotal: 335ms\tremaining: 714ms\n",
      "319:\tlearn: 0.1655554\ttotal: 336ms\tremaining: 713ms\n",
      "320:\tlearn: 0.1651685\ttotal: 336ms\tremaining: 712ms\n",
      "321:\tlearn: 0.1648734\ttotal: 337ms\tremaining: 710ms\n",
      "322:\tlearn: 0.1643918\ttotal: 338ms\tremaining: 709ms\n",
      "323:\tlearn: 0.1641385\ttotal: 339ms\tremaining: 707ms\n",
      "324:\tlearn: 0.1636819\ttotal: 340ms\tremaining: 706ms\n",
      "325:\tlearn: 0.1633805\ttotal: 341ms\tremaining: 704ms\n",
      "326:\tlearn: 0.1631206\ttotal: 341ms\tremaining: 703ms\n",
      "327:\tlearn: 0.1628148\ttotal: 342ms\tremaining: 701ms\n",
      "328:\tlearn: 0.1625365\ttotal: 343ms\tremaining: 700ms\n",
      "329:\tlearn: 0.1622636\ttotal: 344ms\tremaining: 698ms\n",
      "330:\tlearn: 0.1619647\ttotal: 345ms\tremaining: 697ms\n",
      "331:\tlearn: 0.1616469\ttotal: 345ms\tremaining: 695ms\n",
      "332:\tlearn: 0.1614555\ttotal: 346ms\tremaining: 693ms\n",
      "333:\tlearn: 0.1611941\ttotal: 347ms\tremaining: 692ms\n",
      "334:\tlearn: 0.1610115\ttotal: 348ms\tremaining: 691ms\n",
      "335:\tlearn: 0.1608154\ttotal: 349ms\tremaining: 690ms\n",
      "336:\tlearn: 0.1603746\ttotal: 350ms\tremaining: 689ms\n",
      "337:\tlearn: 0.1601920\ttotal: 352ms\tremaining: 689ms\n",
      "338:\tlearn: 0.1598645\ttotal: 352ms\tremaining: 687ms\n",
      "339:\tlearn: 0.1594574\ttotal: 353ms\tremaining: 686ms\n",
      "340:\tlearn: 0.1590727\ttotal: 354ms\tremaining: 684ms\n",
      "341:\tlearn: 0.1588027\ttotal: 355ms\tremaining: 683ms\n",
      "342:\tlearn: 0.1586387\ttotal: 356ms\tremaining: 681ms\n",
      "343:\tlearn: 0.1583194\ttotal: 356ms\tremaining: 680ms\n",
      "344:\tlearn: 0.1579764\ttotal: 358ms\tremaining: 679ms\n",
      "345:\tlearn: 0.1577937\ttotal: 359ms\tremaining: 678ms\n",
      "346:\tlearn: 0.1573348\ttotal: 360ms\tremaining: 677ms\n",
      "347:\tlearn: 0.1571073\ttotal: 360ms\tremaining: 675ms\n",
      "348:\tlearn: 0.1565671\ttotal: 361ms\tremaining: 674ms\n",
      "349:\tlearn: 0.1560577\ttotal: 362ms\tremaining: 672ms\n",
      "350:\tlearn: 0.1555495\ttotal: 363ms\tremaining: 671ms\n",
      "351:\tlearn: 0.1551629\ttotal: 364ms\tremaining: 670ms\n",
      "352:\tlearn: 0.1548777\ttotal: 365ms\tremaining: 669ms\n",
      "353:\tlearn: 0.1545882\ttotal: 366ms\tremaining: 667ms\n",
      "354:\tlearn: 0.1542134\ttotal: 367ms\tremaining: 666ms\n",
      "355:\tlearn: 0.1539177\ttotal: 367ms\tremaining: 664ms\n",
      "356:\tlearn: 0.1534410\ttotal: 368ms\tremaining: 663ms\n",
      "357:\tlearn: 0.1530313\ttotal: 369ms\tremaining: 662ms\n",
      "358:\tlearn: 0.1526890\ttotal: 370ms\tremaining: 660ms\n",
      "359:\tlearn: 0.1522978\ttotal: 371ms\tremaining: 659ms\n",
      "360:\tlearn: 0.1519653\ttotal: 372ms\tremaining: 658ms\n",
      "361:\tlearn: 0.1516723\ttotal: 373ms\tremaining: 657ms\n",
      "362:\tlearn: 0.1512601\ttotal: 373ms\tremaining: 655ms\n",
      "363:\tlearn: 0.1510722\ttotal: 374ms\tremaining: 654ms\n",
      "364:\tlearn: 0.1507906\ttotal: 375ms\tremaining: 653ms\n",
      "365:\tlearn: 0.1505310\ttotal: 376ms\tremaining: 651ms\n",
      "366:\tlearn: 0.1500819\ttotal: 377ms\tremaining: 650ms\n",
      "367:\tlearn: 0.1496909\ttotal: 378ms\tremaining: 649ms\n",
      "368:\tlearn: 0.1492031\ttotal: 379ms\tremaining: 647ms\n",
      "369:\tlearn: 0.1488963\ttotal: 380ms\tremaining: 646ms\n",
      "370:\tlearn: 0.1487276\ttotal: 380ms\tremaining: 645ms\n"
     ]
    },
    {
     "name": "stdout",
     "output_type": "stream",
     "text": [
      "371:\tlearn: 0.1485216\ttotal: 381ms\tremaining: 644ms\n",
      "372:\tlearn: 0.1484300\ttotal: 382ms\tremaining: 643ms\n",
      "373:\tlearn: 0.1481713\ttotal: 383ms\tremaining: 641ms\n",
      "374:\tlearn: 0.1477889\ttotal: 384ms\tremaining: 640ms\n",
      "375:\tlearn: 0.1474831\ttotal: 385ms\tremaining: 639ms\n",
      "376:\tlearn: 0.1472315\ttotal: 386ms\tremaining: 638ms\n",
      "377:\tlearn: 0.1469342\ttotal: 387ms\tremaining: 637ms\n",
      "378:\tlearn: 0.1465947\ttotal: 388ms\tremaining: 636ms\n",
      "379:\tlearn: 0.1461608\ttotal: 389ms\tremaining: 634ms\n",
      "380:\tlearn: 0.1457707\ttotal: 390ms\tremaining: 633ms\n",
      "381:\tlearn: 0.1454746\ttotal: 390ms\tremaining: 632ms\n",
      "382:\tlearn: 0.1452193\ttotal: 391ms\tremaining: 630ms\n",
      "383:\tlearn: 0.1450306\ttotal: 392ms\tremaining: 629ms\n",
      "384:\tlearn: 0.1448692\ttotal: 393ms\tremaining: 628ms\n",
      "385:\tlearn: 0.1446399\ttotal: 394ms\tremaining: 626ms\n",
      "386:\tlearn: 0.1442021\ttotal: 395ms\tremaining: 625ms\n",
      "387:\tlearn: 0.1440961\ttotal: 395ms\tremaining: 624ms\n",
      "388:\tlearn: 0.1437930\ttotal: 396ms\tremaining: 622ms\n",
      "389:\tlearn: 0.1435142\ttotal: 397ms\tremaining: 621ms\n",
      "390:\tlearn: 0.1432366\ttotal: 398ms\tremaining: 620ms\n",
      "391:\tlearn: 0.1430485\ttotal: 399ms\tremaining: 618ms\n",
      "392:\tlearn: 0.1425914\ttotal: 399ms\tremaining: 617ms\n",
      "393:\tlearn: 0.1422460\ttotal: 400ms\tremaining: 616ms\n",
      "394:\tlearn: 0.1419977\ttotal: 401ms\tremaining: 614ms\n",
      "395:\tlearn: 0.1417542\ttotal: 402ms\tremaining: 613ms\n",
      "396:\tlearn: 0.1414072\ttotal: 403ms\tremaining: 612ms\n",
      "397:\tlearn: 0.1411277\ttotal: 404ms\tremaining: 610ms\n",
      "398:\tlearn: 0.1407296\ttotal: 404ms\tremaining: 609ms\n",
      "399:\tlearn: 0.1406381\ttotal: 405ms\tremaining: 608ms\n",
      "400:\tlearn: 0.1403634\ttotal: 406ms\tremaining: 607ms\n",
      "401:\tlearn: 0.1399244\ttotal: 407ms\tremaining: 605ms\n",
      "402:\tlearn: 0.1396818\ttotal: 408ms\tremaining: 604ms\n",
      "403:\tlearn: 0.1396131\ttotal: 408ms\tremaining: 603ms\n",
      "404:\tlearn: 0.1394353\ttotal: 409ms\tremaining: 601ms\n",
      "405:\tlearn: 0.1390809\ttotal: 410ms\tremaining: 600ms\n",
      "406:\tlearn: 0.1388441\ttotal: 411ms\tremaining: 599ms\n",
      "407:\tlearn: 0.1386240\ttotal: 412ms\tremaining: 597ms\n",
      "408:\tlearn: 0.1383882\ttotal: 413ms\tremaining: 596ms\n",
      "409:\tlearn: 0.1380523\ttotal: 413ms\tremaining: 595ms\n",
      "410:\tlearn: 0.1378726\ttotal: 414ms\tremaining: 594ms\n",
      "411:\tlearn: 0.1376399\ttotal: 415ms\tremaining: 593ms\n",
      "412:\tlearn: 0.1373169\ttotal: 416ms\tremaining: 591ms\n",
      "413:\tlearn: 0.1370595\ttotal: 417ms\tremaining: 590ms\n",
      "414:\tlearn: 0.1367685\ttotal: 418ms\tremaining: 589ms\n",
      "415:\tlearn: 0.1363750\ttotal: 418ms\tremaining: 587ms\n",
      "416:\tlearn: 0.1362130\ttotal: 419ms\tremaining: 586ms\n",
      "417:\tlearn: 0.1358803\ttotal: 420ms\tremaining: 585ms\n",
      "418:\tlearn: 0.1356685\ttotal: 421ms\tremaining: 583ms\n",
      "419:\tlearn: 0.1354274\ttotal: 422ms\tremaining: 582ms\n",
      "420:\tlearn: 0.1351316\ttotal: 423ms\tremaining: 581ms\n",
      "421:\tlearn: 0.1347789\ttotal: 423ms\tremaining: 580ms\n",
      "422:\tlearn: 0.1346244\ttotal: 424ms\tremaining: 579ms\n",
      "423:\tlearn: 0.1343604\ttotal: 425ms\tremaining: 577ms\n",
      "424:\tlearn: 0.1342675\ttotal: 426ms\tremaining: 576ms\n",
      "425:\tlearn: 0.1341172\ttotal: 427ms\tremaining: 575ms\n",
      "426:\tlearn: 0.1338137\ttotal: 427ms\tremaining: 574ms\n",
      "427:\tlearn: 0.1335722\ttotal: 428ms\tremaining: 572ms\n",
      "428:\tlearn: 0.1332371\ttotal: 429ms\tremaining: 571ms\n",
      "429:\tlearn: 0.1328796\ttotal: 430ms\tremaining: 570ms\n",
      "430:\tlearn: 0.1326717\ttotal: 431ms\tremaining: 569ms\n",
      "431:\tlearn: 0.1325118\ttotal: 432ms\tremaining: 567ms\n",
      "432:\tlearn: 0.1321506\ttotal: 432ms\tremaining: 566ms\n",
      "433:\tlearn: 0.1320612\ttotal: 433ms\tremaining: 565ms\n",
      "434:\tlearn: 0.1317586\ttotal: 434ms\tremaining: 564ms\n",
      "435:\tlearn: 0.1315613\ttotal: 435ms\tremaining: 562ms\n",
      "436:\tlearn: 0.1313133\ttotal: 435ms\tremaining: 561ms\n",
      "437:\tlearn: 0.1310119\ttotal: 436ms\tremaining: 560ms\n",
      "438:\tlearn: 0.1307819\ttotal: 437ms\tremaining: 558ms\n",
      "439:\tlearn: 0.1307370\ttotal: 438ms\tremaining: 557ms\n",
      "440:\tlearn: 0.1303878\ttotal: 439ms\tremaining: 556ms\n",
      "441:\tlearn: 0.1301172\ttotal: 440ms\tremaining: 555ms\n",
      "442:\tlearn: 0.1298874\ttotal: 440ms\tremaining: 554ms\n",
      "443:\tlearn: 0.1297396\ttotal: 441ms\tremaining: 552ms\n",
      "444:\tlearn: 0.1293318\ttotal: 442ms\tremaining: 551ms\n",
      "445:\tlearn: 0.1290793\ttotal: 443ms\tremaining: 551ms\n",
      "446:\tlearn: 0.1287718\ttotal: 444ms\tremaining: 549ms\n",
      "447:\tlearn: 0.1285667\ttotal: 445ms\tremaining: 548ms\n",
      "448:\tlearn: 0.1285475\ttotal: 446ms\tremaining: 547ms\n",
      "449:\tlearn: 0.1282592\ttotal: 447ms\tremaining: 546ms\n",
      "450:\tlearn: 0.1279640\ttotal: 447ms\tremaining: 545ms\n",
      "451:\tlearn: 0.1277456\ttotal: 448ms\tremaining: 543ms\n",
      "452:\tlearn: 0.1274104\ttotal: 449ms\tremaining: 542ms\n",
      "453:\tlearn: 0.1272053\ttotal: 450ms\tremaining: 541ms\n",
      "454:\tlearn: 0.1269652\ttotal: 451ms\tremaining: 540ms\n",
      "455:\tlearn: 0.1266809\ttotal: 451ms\tremaining: 539ms\n",
      "456:\tlearn: 0.1264218\ttotal: 452ms\tremaining: 537ms\n",
      "457:\tlearn: 0.1262258\ttotal: 453ms\tremaining: 536ms\n",
      "458:\tlearn: 0.1259260\ttotal: 454ms\tremaining: 535ms\n",
      "459:\tlearn: 0.1256838\ttotal: 455ms\tremaining: 534ms\n",
      "460:\tlearn: 0.1253825\ttotal: 456ms\tremaining: 533ms\n",
      "461:\tlearn: 0.1251062\ttotal: 456ms\tremaining: 531ms\n",
      "462:\tlearn: 0.1248613\ttotal: 457ms\tremaining: 530ms\n",
      "463:\tlearn: 0.1246593\ttotal: 458ms\tremaining: 529ms\n",
      "464:\tlearn: 0.1243687\ttotal: 459ms\tremaining: 528ms\n",
      "465:\tlearn: 0.1241431\ttotal: 460ms\tremaining: 527ms\n",
      "466:\tlearn: 0.1237955\ttotal: 461ms\tremaining: 526ms\n",
      "467:\tlearn: 0.1234930\ttotal: 461ms\tremaining: 524ms\n",
      "468:\tlearn: 0.1231588\ttotal: 462ms\tremaining: 523ms\n",
      "469:\tlearn: 0.1229199\ttotal: 463ms\tremaining: 522ms\n",
      "470:\tlearn: 0.1225308\ttotal: 464ms\tremaining: 521ms\n",
      "471:\tlearn: 0.1223367\ttotal: 465ms\tremaining: 520ms\n",
      "472:\tlearn: 0.1220914\ttotal: 466ms\tremaining: 519ms\n",
      "473:\tlearn: 0.1219241\ttotal: 467ms\tremaining: 518ms\n",
      "474:\tlearn: 0.1217802\ttotal: 468ms\tremaining: 517ms\n",
      "475:\tlearn: 0.1215689\ttotal: 469ms\tremaining: 516ms\n",
      "476:\tlearn: 0.1213816\ttotal: 469ms\tremaining: 515ms\n",
      "477:\tlearn: 0.1211267\ttotal: 470ms\tremaining: 514ms\n",
      "478:\tlearn: 0.1210809\ttotal: 471ms\tremaining: 513ms\n",
      "479:\tlearn: 0.1208085\ttotal: 472ms\tremaining: 511ms\n",
      "480:\tlearn: 0.1205157\ttotal: 473ms\tremaining: 510ms\n",
      "481:\tlearn: 0.1202240\ttotal: 474ms\tremaining: 509ms\n",
      "482:\tlearn: 0.1199757\ttotal: 474ms\tremaining: 508ms\n",
      "483:\tlearn: 0.1197304\ttotal: 475ms\tremaining: 507ms\n",
      "484:\tlearn: 0.1194352\ttotal: 476ms\tremaining: 505ms\n",
      "485:\tlearn: 0.1193938\ttotal: 477ms\tremaining: 504ms\n",
      "486:\tlearn: 0.1192214\ttotal: 478ms\tremaining: 503ms\n",
      "487:\tlearn: 0.1189624\ttotal: 479ms\tremaining: 502ms\n",
      "488:\tlearn: 0.1189462\ttotal: 479ms\tremaining: 501ms\n",
      "489:\tlearn: 0.1186654\ttotal: 481ms\tremaining: 501ms\n",
      "490:\tlearn: 0.1184331\ttotal: 482ms\tremaining: 500ms\n"
     ]
    },
    {
     "name": "stdout",
     "output_type": "stream",
     "text": [
      "491:\tlearn: 0.1181330\ttotal: 483ms\tremaining: 499ms\n",
      "492:\tlearn: 0.1179991\ttotal: 484ms\tremaining: 498ms\n",
      "493:\tlearn: 0.1178072\ttotal: 485ms\tremaining: 497ms\n",
      "494:\tlearn: 0.1177835\ttotal: 486ms\tremaining: 496ms\n",
      "495:\tlearn: 0.1176049\ttotal: 487ms\tremaining: 495ms\n",
      "496:\tlearn: 0.1174037\ttotal: 488ms\tremaining: 494ms\n",
      "497:\tlearn: 0.1172810\ttotal: 489ms\tremaining: 492ms\n",
      "498:\tlearn: 0.1171262\ttotal: 490ms\tremaining: 491ms\n",
      "499:\tlearn: 0.1169281\ttotal: 490ms\tremaining: 490ms\n",
      "500:\tlearn: 0.1167429\ttotal: 491ms\tremaining: 489ms\n",
      "501:\tlearn: 0.1165747\ttotal: 492ms\tremaining: 488ms\n",
      "502:\tlearn: 0.1164141\ttotal: 493ms\tremaining: 487ms\n",
      "503:\tlearn: 0.1160687\ttotal: 494ms\tremaining: 486ms\n",
      "504:\tlearn: 0.1160436\ttotal: 494ms\tremaining: 485ms\n",
      "505:\tlearn: 0.1158470\ttotal: 495ms\tremaining: 483ms\n",
      "506:\tlearn: 0.1157642\ttotal: 496ms\tremaining: 482ms\n",
      "507:\tlearn: 0.1156761\ttotal: 497ms\tremaining: 481ms\n",
      "508:\tlearn: 0.1154648\ttotal: 498ms\tremaining: 480ms\n",
      "509:\tlearn: 0.1152836\ttotal: 498ms\tremaining: 479ms\n",
      "510:\tlearn: 0.1151087\ttotal: 499ms\tremaining: 478ms\n",
      "511:\tlearn: 0.1150881\ttotal: 500ms\tremaining: 477ms\n",
      "512:\tlearn: 0.1149141\ttotal: 501ms\tremaining: 476ms\n",
      "513:\tlearn: 0.1147742\ttotal: 502ms\tremaining: 475ms\n",
      "514:\tlearn: 0.1146027\ttotal: 504ms\tremaining: 474ms\n",
      "515:\tlearn: 0.1143103\ttotal: 504ms\tremaining: 473ms\n",
      "516:\tlearn: 0.1140891\ttotal: 505ms\tremaining: 472ms\n",
      "517:\tlearn: 0.1139724\ttotal: 506ms\tremaining: 471ms\n",
      "518:\tlearn: 0.1137304\ttotal: 507ms\tremaining: 470ms\n",
      "519:\tlearn: 0.1134887\ttotal: 508ms\tremaining: 469ms\n",
      "520:\tlearn: 0.1132181\ttotal: 509ms\tremaining: 468ms\n",
      "521:\tlearn: 0.1129163\ttotal: 509ms\tremaining: 466ms\n",
      "522:\tlearn: 0.1128858\ttotal: 510ms\tremaining: 465ms\n",
      "523:\tlearn: 0.1128629\ttotal: 511ms\tremaining: 464ms\n",
      "524:\tlearn: 0.1127267\ttotal: 512ms\tremaining: 463ms\n",
      "525:\tlearn: 0.1124489\ttotal: 513ms\tremaining: 462ms\n",
      "526:\tlearn: 0.1120954\ttotal: 514ms\tremaining: 461ms\n",
      "527:\tlearn: 0.1118000\ttotal: 514ms\tremaining: 460ms\n",
      "528:\tlearn: 0.1116815\ttotal: 515ms\tremaining: 459ms\n",
      "529:\tlearn: 0.1116597\ttotal: 516ms\tremaining: 458ms\n",
      "530:\tlearn: 0.1115345\ttotal: 517ms\tremaining: 456ms\n",
      "531:\tlearn: 0.1113007\ttotal: 518ms\tremaining: 455ms\n",
      "532:\tlearn: 0.1112753\ttotal: 518ms\tremaining: 454ms\n",
      "533:\tlearn: 0.1110734\ttotal: 519ms\tremaining: 453ms\n",
      "534:\tlearn: 0.1108758\ttotal: 520ms\tremaining: 452ms\n",
      "535:\tlearn: 0.1107398\ttotal: 521ms\tremaining: 451ms\n",
      "536:\tlearn: 0.1104844\ttotal: 522ms\tremaining: 450ms\n",
      "537:\tlearn: 0.1102914\ttotal: 523ms\tremaining: 449ms\n",
      "538:\tlearn: 0.1101231\ttotal: 523ms\tremaining: 448ms\n",
      "539:\tlearn: 0.1100820\ttotal: 524ms\tremaining: 447ms\n",
      "540:\tlearn: 0.1099019\ttotal: 525ms\tremaining: 445ms\n",
      "541:\tlearn: 0.1097321\ttotal: 526ms\tremaining: 444ms\n",
      "542:\tlearn: 0.1094931\ttotal: 527ms\tremaining: 443ms\n",
      "543:\tlearn: 0.1094730\ttotal: 527ms\tremaining: 442ms\n",
      "544:\tlearn: 0.1092700\ttotal: 528ms\tremaining: 441ms\n",
      "545:\tlearn: 0.1090534\ttotal: 529ms\tremaining: 440ms\n",
      "546:\tlearn: 0.1089120\ttotal: 530ms\tremaining: 439ms\n",
      "547:\tlearn: 0.1086768\ttotal: 531ms\tremaining: 438ms\n",
      "548:\tlearn: 0.1084159\ttotal: 532ms\tremaining: 437ms\n",
      "549:\tlearn: 0.1082288\ttotal: 533ms\tremaining: 436ms\n",
      "550:\tlearn: 0.1082097\ttotal: 534ms\tremaining: 435ms\n",
      "551:\tlearn: 0.1079126\ttotal: 534ms\tremaining: 434ms\n",
      "552:\tlearn: 0.1077842\ttotal: 535ms\tremaining: 433ms\n",
      "553:\tlearn: 0.1075674\ttotal: 536ms\tremaining: 432ms\n",
      "554:\tlearn: 0.1074664\ttotal: 537ms\tremaining: 431ms\n",
      "555:\tlearn: 0.1072228\ttotal: 538ms\tremaining: 430ms\n",
      "556:\tlearn: 0.1072002\ttotal: 539ms\tremaining: 429ms\n",
      "557:\tlearn: 0.1070670\ttotal: 540ms\tremaining: 428ms\n",
      "558:\tlearn: 0.1068889\ttotal: 541ms\tremaining: 426ms\n",
      "559:\tlearn: 0.1067250\ttotal: 541ms\tremaining: 425ms\n",
      "560:\tlearn: 0.1067068\ttotal: 542ms\tremaining: 424ms\n",
      "561:\tlearn: 0.1064288\ttotal: 543ms\tremaining: 423ms\n",
      "562:\tlearn: 0.1060972\ttotal: 544ms\tremaining: 422ms\n",
      "563:\tlearn: 0.1058991\ttotal: 544ms\tremaining: 421ms\n",
      "564:\tlearn: 0.1058589\ttotal: 545ms\tremaining: 420ms\n",
      "565:\tlearn: 0.1056104\ttotal: 546ms\tremaining: 418ms\n",
      "566:\tlearn: 0.1054327\ttotal: 547ms\tremaining: 417ms\n",
      "567:\tlearn: 0.1052313\ttotal: 548ms\tremaining: 416ms\n",
      "568:\tlearn: 0.1050384\ttotal: 548ms\tremaining: 415ms\n",
      "569:\tlearn: 0.1048949\ttotal: 549ms\tremaining: 414ms\n",
      "570:\tlearn: 0.1047239\ttotal: 550ms\tremaining: 413ms\n",
      "571:\tlearn: 0.1045103\ttotal: 551ms\tremaining: 412ms\n",
      "572:\tlearn: 0.1043535\ttotal: 552ms\tremaining: 411ms\n",
      "573:\tlearn: 0.1042191\ttotal: 552ms\tremaining: 410ms\n",
      "574:\tlearn: 0.1040070\ttotal: 553ms\tremaining: 409ms\n",
      "575:\tlearn: 0.1038749\ttotal: 554ms\tremaining: 408ms\n",
      "576:\tlearn: 0.1037481\ttotal: 555ms\tremaining: 407ms\n",
      "577:\tlearn: 0.1034333\ttotal: 556ms\tremaining: 406ms\n",
      "578:\tlearn: 0.1033627\ttotal: 556ms\tremaining: 405ms\n",
      "579:\tlearn: 0.1031808\ttotal: 557ms\tremaining: 404ms\n",
      "580:\tlearn: 0.1030214\ttotal: 558ms\tremaining: 402ms\n",
      "581:\tlearn: 0.1029449\ttotal: 559ms\tremaining: 401ms\n",
      "582:\tlearn: 0.1028106\ttotal: 560ms\tremaining: 400ms\n",
      "583:\tlearn: 0.1025930\ttotal: 561ms\tremaining: 399ms\n",
      "584:\tlearn: 0.1025419\ttotal: 562ms\tremaining: 398ms\n",
      "585:\tlearn: 0.1023625\ttotal: 562ms\tremaining: 397ms\n",
      "586:\tlearn: 0.1021577\ttotal: 563ms\tremaining: 396ms\n",
      "587:\tlearn: 0.1020034\ttotal: 564ms\tremaining: 395ms\n",
      "588:\tlearn: 0.1018271\ttotal: 565ms\tremaining: 394ms\n",
      "589:\tlearn: 0.1016685\ttotal: 566ms\tremaining: 393ms\n",
      "590:\tlearn: 0.1015616\ttotal: 566ms\tremaining: 392ms\n",
      "591:\tlearn: 0.1014682\ttotal: 567ms\tremaining: 391ms\n",
      "592:\tlearn: 0.1012400\ttotal: 568ms\tremaining: 390ms\n",
      "593:\tlearn: 0.1010900\ttotal: 569ms\tremaining: 389ms\n",
      "594:\tlearn: 0.1008500\ttotal: 570ms\tremaining: 388ms\n",
      "595:\tlearn: 0.1006752\ttotal: 571ms\tremaining: 387ms\n"
     ]
    },
    {
     "name": "stdout",
     "output_type": "stream",
     "text": [
      "596:\tlearn: 0.1005110\ttotal: 572ms\tremaining: 386ms\n",
      "597:\tlearn: 0.1004859\ttotal: 573ms\tremaining: 385ms\n",
      "598:\tlearn: 0.1004223\ttotal: 573ms\tremaining: 384ms\n",
      "599:\tlearn: 0.1003847\ttotal: 574ms\tremaining: 383ms\n",
      "600:\tlearn: 0.1002509\ttotal: 576ms\tremaining: 382ms\n",
      "601:\tlearn: 0.1000610\ttotal: 576ms\tremaining: 381ms\n",
      "602:\tlearn: 0.0999698\ttotal: 577ms\tremaining: 380ms\n",
      "603:\tlearn: 0.0997459\ttotal: 578ms\tremaining: 379ms\n",
      "604:\tlearn: 0.0997039\ttotal: 579ms\tremaining: 378ms\n",
      "605:\tlearn: 0.0995217\ttotal: 580ms\tremaining: 377ms\n",
      "606:\tlearn: 0.0994019\ttotal: 581ms\tremaining: 376ms\n",
      "607:\tlearn: 0.0992297\ttotal: 581ms\tremaining: 375ms\n",
      "608:\tlearn: 0.0990222\ttotal: 582ms\tremaining: 374ms\n",
      "609:\tlearn: 0.0988070\ttotal: 583ms\tremaining: 373ms\n",
      "610:\tlearn: 0.0986544\ttotal: 584ms\tremaining: 372ms\n",
      "611:\tlearn: 0.0984848\ttotal: 585ms\tremaining: 371ms\n",
      "612:\tlearn: 0.0983344\ttotal: 585ms\tremaining: 370ms\n",
      "613:\tlearn: 0.0981624\ttotal: 586ms\tremaining: 369ms\n",
      "614:\tlearn: 0.0980226\ttotal: 587ms\tremaining: 367ms\n",
      "615:\tlearn: 0.0977824\ttotal: 588ms\tremaining: 366ms\n",
      "616:\tlearn: 0.0976300\ttotal: 589ms\tremaining: 365ms\n",
      "617:\tlearn: 0.0974283\ttotal: 589ms\tremaining: 364ms\n",
      "618:\tlearn: 0.0972750\ttotal: 590ms\tremaining: 363ms\n",
      "619:\tlearn: 0.0972367\ttotal: 591ms\tremaining: 362ms\n",
      "620:\tlearn: 0.0970487\ttotal: 592ms\tremaining: 361ms\n",
      "621:\tlearn: 0.0968413\ttotal: 593ms\tremaining: 360ms\n",
      "622:\tlearn: 0.0966512\ttotal: 594ms\tremaining: 359ms\n",
      "623:\tlearn: 0.0966360\ttotal: 594ms\tremaining: 358ms\n",
      "624:\tlearn: 0.0964289\ttotal: 595ms\tremaining: 357ms\n",
      "625:\tlearn: 0.0962123\ttotal: 596ms\tremaining: 356ms\n",
      "626:\tlearn: 0.0960771\ttotal: 597ms\tremaining: 355ms\n",
      "627:\tlearn: 0.0958820\ttotal: 598ms\tremaining: 354ms\n",
      "628:\tlearn: 0.0958067\ttotal: 599ms\tremaining: 353ms\n",
      "629:\tlearn: 0.0956684\ttotal: 599ms\tremaining: 352ms\n",
      "630:\tlearn: 0.0955126\ttotal: 600ms\tremaining: 351ms\n",
      "631:\tlearn: 0.0953406\ttotal: 601ms\tremaining: 350ms\n",
      "632:\tlearn: 0.0951578\ttotal: 602ms\tremaining: 349ms\n",
      "633:\tlearn: 0.0951080\ttotal: 603ms\tremaining: 348ms\n",
      "634:\tlearn: 0.0949791\ttotal: 604ms\tremaining: 347ms\n",
      "635:\tlearn: 0.0948368\ttotal: 605ms\tremaining: 346ms\n",
      "636:\tlearn: 0.0946577\ttotal: 605ms\tremaining: 345ms\n",
      "637:\tlearn: 0.0944450\ttotal: 606ms\tremaining: 344ms\n",
      "638:\tlearn: 0.0943923\ttotal: 607ms\tremaining: 343ms\n",
      "639:\tlearn: 0.0942774\ttotal: 608ms\tremaining: 342ms\n",
      "640:\tlearn: 0.0941562\ttotal: 609ms\tremaining: 341ms\n",
      "641:\tlearn: 0.0941201\ttotal: 610ms\tremaining: 340ms\n",
      "642:\tlearn: 0.0939137\ttotal: 610ms\tremaining: 339ms\n",
      "643:\tlearn: 0.0937468\ttotal: 611ms\tremaining: 338ms\n",
      "644:\tlearn: 0.0936576\ttotal: 612ms\tremaining: 337ms\n",
      "645:\tlearn: 0.0935267\ttotal: 613ms\tremaining: 336ms\n",
      "646:\tlearn: 0.0933582\ttotal: 614ms\tremaining: 335ms\n",
      "647:\tlearn: 0.0932537\ttotal: 614ms\tremaining: 334ms\n",
      "648:\tlearn: 0.0931559\ttotal: 615ms\tremaining: 333ms\n",
      "649:\tlearn: 0.0930392\ttotal: 616ms\tremaining: 332ms\n",
      "650:\tlearn: 0.0928813\ttotal: 617ms\tremaining: 331ms\n",
      "651:\tlearn: 0.0927381\ttotal: 618ms\tremaining: 330ms\n",
      "652:\tlearn: 0.0926160\ttotal: 619ms\tremaining: 329ms\n",
      "653:\tlearn: 0.0924170\ttotal: 619ms\tremaining: 328ms\n",
      "654:\tlearn: 0.0922713\ttotal: 620ms\tremaining: 327ms\n",
      "655:\tlearn: 0.0920143\ttotal: 621ms\tremaining: 326ms\n",
      "656:\tlearn: 0.0917342\ttotal: 622ms\tremaining: 325ms\n",
      "657:\tlearn: 0.0916902\ttotal: 623ms\tremaining: 324ms\n",
      "658:\tlearn: 0.0915152\ttotal: 624ms\tremaining: 323ms\n",
      "659:\tlearn: 0.0912921\ttotal: 625ms\tremaining: 322ms\n",
      "660:\tlearn: 0.0911679\ttotal: 625ms\tremaining: 321ms\n",
      "661:\tlearn: 0.0910107\ttotal: 626ms\tremaining: 320ms\n",
      "662:\tlearn: 0.0908871\ttotal: 627ms\tremaining: 319ms\n",
      "663:\tlearn: 0.0907142\ttotal: 628ms\tremaining: 318ms\n",
      "664:\tlearn: 0.0905883\ttotal: 629ms\tremaining: 317ms\n",
      "665:\tlearn: 0.0905567\ttotal: 629ms\tremaining: 316ms\n",
      "666:\tlearn: 0.0903498\ttotal: 630ms\tremaining: 315ms\n",
      "667:\tlearn: 0.0902077\ttotal: 631ms\tremaining: 314ms\n",
      "668:\tlearn: 0.0899938\ttotal: 632ms\tremaining: 313ms\n",
      "669:\tlearn: 0.0897627\ttotal: 633ms\tremaining: 312ms\n",
      "670:\tlearn: 0.0896580\ttotal: 633ms\tremaining: 311ms\n",
      "671:\tlearn: 0.0894943\ttotal: 634ms\tremaining: 310ms\n",
      "672:\tlearn: 0.0893596\ttotal: 635ms\tremaining: 309ms\n",
      "673:\tlearn: 0.0892303\ttotal: 636ms\tremaining: 308ms\n",
      "674:\tlearn: 0.0891205\ttotal: 637ms\tremaining: 307ms\n",
      "675:\tlearn: 0.0890253\ttotal: 638ms\tremaining: 306ms\n",
      "676:\tlearn: 0.0889897\ttotal: 638ms\tremaining: 305ms\n",
      "677:\tlearn: 0.0888706\ttotal: 639ms\tremaining: 304ms\n",
      "678:\tlearn: 0.0887204\ttotal: 640ms\tremaining: 303ms\n",
      "679:\tlearn: 0.0885742\ttotal: 641ms\tremaining: 302ms\n",
      "680:\tlearn: 0.0884095\ttotal: 642ms\tremaining: 301ms\n",
      "681:\tlearn: 0.0883018\ttotal: 643ms\tremaining: 300ms\n",
      "682:\tlearn: 0.0881897\ttotal: 643ms\tremaining: 299ms\n",
      "683:\tlearn: 0.0880885\ttotal: 644ms\tremaining: 298ms\n",
      "684:\tlearn: 0.0879450\ttotal: 645ms\tremaining: 297ms\n",
      "685:\tlearn: 0.0877547\ttotal: 646ms\tremaining: 296ms\n",
      "686:\tlearn: 0.0876457\ttotal: 647ms\tremaining: 295ms\n",
      "687:\tlearn: 0.0876042\ttotal: 647ms\tremaining: 294ms\n",
      "688:\tlearn: 0.0875877\ttotal: 648ms\tremaining: 293ms\n",
      "689:\tlearn: 0.0875111\ttotal: 649ms\tremaining: 292ms\n",
      "690:\tlearn: 0.0874052\ttotal: 650ms\tremaining: 291ms\n",
      "691:\tlearn: 0.0873160\ttotal: 651ms\tremaining: 290ms\n",
      "692:\tlearn: 0.0871905\ttotal: 651ms\tremaining: 289ms\n",
      "693:\tlearn: 0.0870102\ttotal: 652ms\tremaining: 288ms\n",
      "694:\tlearn: 0.0868458\ttotal: 653ms\tremaining: 287ms\n",
      "695:\tlearn: 0.0867130\ttotal: 654ms\tremaining: 286ms\n",
      "696:\tlearn: 0.0865801\ttotal: 655ms\tremaining: 285ms\n",
      "697:\tlearn: 0.0864621\ttotal: 656ms\tremaining: 284ms\n",
      "698:\tlearn: 0.0863607\ttotal: 657ms\tremaining: 283ms\n",
      "699:\tlearn: 0.0861831\ttotal: 657ms\tremaining: 282ms\n",
      "700:\tlearn: 0.0859904\ttotal: 658ms\tremaining: 281ms\n",
      "701:\tlearn: 0.0858433\ttotal: 659ms\tremaining: 280ms\n",
      "702:\tlearn: 0.0857551\ttotal: 660ms\tremaining: 279ms\n",
      "703:\tlearn: 0.0857356\ttotal: 661ms\tremaining: 278ms\n",
      "704:\tlearn: 0.0856625\ttotal: 661ms\tremaining: 277ms\n",
      "705:\tlearn: 0.0855837\ttotal: 662ms\tremaining: 276ms\n",
      "706:\tlearn: 0.0854680\ttotal: 663ms\tremaining: 275ms\n",
      "707:\tlearn: 0.0853802\ttotal: 664ms\tremaining: 274ms\n",
      "708:\tlearn: 0.0851940\ttotal: 664ms\tremaining: 273ms\n",
      "709:\tlearn: 0.0850223\ttotal: 665ms\tremaining: 272ms\n",
      "710:\tlearn: 0.0848889\ttotal: 666ms\tremaining: 271ms\n",
      "711:\tlearn: 0.0848527\ttotal: 667ms\tremaining: 270ms\n",
      "712:\tlearn: 0.0846816\ttotal: 668ms\tremaining: 269ms\n",
      "713:\tlearn: 0.0845718\ttotal: 669ms\tremaining: 268ms\n",
      "714:\tlearn: 0.0844551\ttotal: 669ms\tremaining: 267ms\n",
      "715:\tlearn: 0.0843374\ttotal: 670ms\tremaining: 266ms\n",
      "716:\tlearn: 0.0841687\ttotal: 671ms\tremaining: 265ms\n",
      "717:\tlearn: 0.0839417\ttotal: 672ms\tremaining: 264ms\n"
     ]
    },
    {
     "name": "stdout",
     "output_type": "stream",
     "text": [
      "718:\tlearn: 0.0837913\ttotal: 673ms\tremaining: 263ms\n",
      "719:\tlearn: 0.0837429\ttotal: 674ms\tremaining: 262ms\n",
      "720:\tlearn: 0.0835526\ttotal: 675ms\tremaining: 261ms\n",
      "721:\tlearn: 0.0835185\ttotal: 676ms\tremaining: 260ms\n",
      "722:\tlearn: 0.0833890\ttotal: 676ms\tremaining: 259ms\n",
      "723:\tlearn: 0.0832916\ttotal: 677ms\tremaining: 258ms\n",
      "724:\tlearn: 0.0832750\ttotal: 678ms\tremaining: 257ms\n",
      "725:\tlearn: 0.0830847\ttotal: 679ms\tremaining: 256ms\n",
      "726:\tlearn: 0.0829311\ttotal: 680ms\tremaining: 255ms\n",
      "727:\tlearn: 0.0827368\ttotal: 681ms\tremaining: 254ms\n",
      "728:\tlearn: 0.0825560\ttotal: 681ms\tremaining: 253ms\n",
      "729:\tlearn: 0.0824712\ttotal: 682ms\tremaining: 252ms\n",
      "730:\tlearn: 0.0823773\ttotal: 683ms\tremaining: 251ms\n",
      "731:\tlearn: 0.0822340\ttotal: 684ms\tremaining: 250ms\n",
      "732:\tlearn: 0.0821319\ttotal: 685ms\tremaining: 249ms\n",
      "733:\tlearn: 0.0820016\ttotal: 686ms\tremaining: 248ms\n",
      "734:\tlearn: 0.0818240\ttotal: 686ms\tremaining: 247ms\n",
      "735:\tlearn: 0.0816737\ttotal: 687ms\tremaining: 247ms\n",
      "736:\tlearn: 0.0815220\ttotal: 688ms\tremaining: 245ms\n",
      "737:\tlearn: 0.0814504\ttotal: 689ms\tremaining: 245ms\n",
      "738:\tlearn: 0.0813721\ttotal: 690ms\tremaining: 244ms\n",
      "739:\tlearn: 0.0812552\ttotal: 690ms\tremaining: 243ms\n",
      "740:\tlearn: 0.0811177\ttotal: 691ms\tremaining: 242ms\n",
      "741:\tlearn: 0.0808998\ttotal: 692ms\tremaining: 241ms\n",
      "742:\tlearn: 0.0808432\ttotal: 693ms\tremaining: 240ms\n",
      "743:\tlearn: 0.0806234\ttotal: 694ms\tremaining: 239ms\n",
      "744:\tlearn: 0.0804292\ttotal: 694ms\tremaining: 238ms\n",
      "745:\tlearn: 0.0802653\ttotal: 695ms\tremaining: 237ms\n",
      "746:\tlearn: 0.0801259\ttotal: 696ms\tremaining: 236ms\n",
      "747:\tlearn: 0.0799696\ttotal: 697ms\tremaining: 235ms\n",
      "748:\tlearn: 0.0798939\ttotal: 698ms\tremaining: 234ms\n",
      "749:\tlearn: 0.0797713\ttotal: 699ms\tremaining: 233ms\n",
      "750:\tlearn: 0.0795576\ttotal: 699ms\tremaining: 232ms\n",
      "751:\tlearn: 0.0794296\ttotal: 700ms\tremaining: 231ms\n",
      "752:\tlearn: 0.0792763\ttotal: 701ms\tremaining: 230ms\n",
      "753:\tlearn: 0.0792415\ttotal: 702ms\tremaining: 229ms\n",
      "754:\tlearn: 0.0791059\ttotal: 703ms\tremaining: 228ms\n",
      "755:\tlearn: 0.0789865\ttotal: 704ms\tremaining: 227ms\n",
      "756:\tlearn: 0.0789103\ttotal: 704ms\tremaining: 226ms\n",
      "757:\tlearn: 0.0787618\ttotal: 705ms\tremaining: 225ms\n",
      "758:\tlearn: 0.0786067\ttotal: 706ms\tremaining: 224ms\n",
      "759:\tlearn: 0.0785937\ttotal: 707ms\tremaining: 223ms\n",
      "760:\tlearn: 0.0784730\ttotal: 708ms\tremaining: 222ms\n",
      "761:\tlearn: 0.0783887\ttotal: 708ms\tremaining: 221ms\n",
      "762:\tlearn: 0.0781585\ttotal: 709ms\tremaining: 220ms\n",
      "763:\tlearn: 0.0780481\ttotal: 710ms\tremaining: 219ms\n",
      "764:\tlearn: 0.0779440\ttotal: 711ms\tremaining: 218ms\n",
      "765:\tlearn: 0.0778680\ttotal: 712ms\tremaining: 217ms\n",
      "766:\tlearn: 0.0777609\ttotal: 713ms\tremaining: 217ms\n",
      "767:\tlearn: 0.0776342\ttotal: 713ms\tremaining: 216ms\n",
      "768:\tlearn: 0.0775082\ttotal: 714ms\tremaining: 215ms\n",
      "769:\tlearn: 0.0773554\ttotal: 715ms\tremaining: 214ms\n",
      "770:\tlearn: 0.0773248\ttotal: 716ms\tremaining: 213ms\n",
      "771:\tlearn: 0.0772363\ttotal: 717ms\tremaining: 212ms\n",
      "772:\tlearn: 0.0771248\ttotal: 718ms\tremaining: 211ms\n",
      "773:\tlearn: 0.0770329\ttotal: 718ms\tremaining: 210ms\n",
      "774:\tlearn: 0.0768907\ttotal: 719ms\tremaining: 209ms\n",
      "775:\tlearn: 0.0767483\ttotal: 720ms\tremaining: 208ms\n",
      "776:\tlearn: 0.0766548\ttotal: 721ms\tremaining: 207ms\n",
      "777:\tlearn: 0.0765258\ttotal: 722ms\tremaining: 206ms\n",
      "778:\tlearn: 0.0763912\ttotal: 723ms\tremaining: 205ms\n",
      "779:\tlearn: 0.0763005\ttotal: 724ms\tremaining: 204ms\n",
      "780:\tlearn: 0.0761739\ttotal: 725ms\tremaining: 203ms\n",
      "781:\tlearn: 0.0760375\ttotal: 725ms\tremaining: 202ms\n",
      "782:\tlearn: 0.0759284\ttotal: 726ms\tremaining: 201ms\n",
      "783:\tlearn: 0.0758540\ttotal: 727ms\tremaining: 200ms\n",
      "784:\tlearn: 0.0757400\ttotal: 728ms\tremaining: 199ms\n",
      "785:\tlearn: 0.0756051\ttotal: 729ms\tremaining: 198ms\n",
      "786:\tlearn: 0.0754761\ttotal: 729ms\tremaining: 197ms\n",
      "787:\tlearn: 0.0753836\ttotal: 730ms\tremaining: 196ms\n",
      "788:\tlearn: 0.0753731\ttotal: 731ms\tremaining: 196ms\n",
      "789:\tlearn: 0.0752902\ttotal: 732ms\tremaining: 195ms\n",
      "790:\tlearn: 0.0751256\ttotal: 733ms\tremaining: 194ms\n",
      "791:\tlearn: 0.0749405\ttotal: 734ms\tremaining: 193ms\n",
      "792:\tlearn: 0.0749096\ttotal: 735ms\tremaining: 192ms\n",
      "793:\tlearn: 0.0748966\ttotal: 736ms\tremaining: 191ms\n",
      "794:\tlearn: 0.0747558\ttotal: 736ms\tremaining: 190ms\n",
      "795:\tlearn: 0.0747432\ttotal: 737ms\tremaining: 189ms\n",
      "796:\tlearn: 0.0746377\ttotal: 738ms\tremaining: 188ms\n",
      "797:\tlearn: 0.0745900\ttotal: 739ms\tremaining: 187ms\n",
      "798:\tlearn: 0.0745035\ttotal: 740ms\tremaining: 186ms\n",
      "799:\tlearn: 0.0744398\ttotal: 741ms\tremaining: 185ms\n",
      "800:\tlearn: 0.0743185\ttotal: 741ms\tremaining: 184ms\n",
      "801:\tlearn: 0.0743004\ttotal: 742ms\tremaining: 183ms\n",
      "802:\tlearn: 0.0741586\ttotal: 743ms\tremaining: 182ms\n",
      "803:\tlearn: 0.0740513\ttotal: 745ms\tremaining: 182ms\n",
      "804:\tlearn: 0.0739445\ttotal: 745ms\tremaining: 181ms\n",
      "805:\tlearn: 0.0739149\ttotal: 746ms\tremaining: 180ms\n",
      "806:\tlearn: 0.0737445\ttotal: 747ms\tremaining: 179ms\n",
      "807:\tlearn: 0.0736936\ttotal: 748ms\tremaining: 178ms\n",
      "808:\tlearn: 0.0736824\ttotal: 749ms\tremaining: 177ms\n",
      "809:\tlearn: 0.0736558\ttotal: 750ms\tremaining: 176ms\n",
      "810:\tlearn: 0.0735187\ttotal: 751ms\tremaining: 175ms\n",
      "811:\tlearn: 0.0734354\ttotal: 752ms\tremaining: 174ms\n",
      "812:\tlearn: 0.0732379\ttotal: 753ms\tremaining: 173ms\n",
      "813:\tlearn: 0.0730960\ttotal: 754ms\tremaining: 172ms\n",
      "814:\tlearn: 0.0730152\ttotal: 754ms\tremaining: 171ms\n",
      "815:\tlearn: 0.0729446\ttotal: 755ms\tremaining: 170ms\n",
      "816:\tlearn: 0.0729339\ttotal: 756ms\tremaining: 169ms\n",
      "817:\tlearn: 0.0728526\ttotal: 757ms\tremaining: 168ms\n",
      "818:\tlearn: 0.0727950\ttotal: 758ms\tremaining: 167ms\n",
      "819:\tlearn: 0.0726884\ttotal: 758ms\tremaining: 166ms\n",
      "820:\tlearn: 0.0725700\ttotal: 759ms\tremaining: 166ms\n",
      "821:\tlearn: 0.0725561\ttotal: 760ms\tremaining: 165ms\n"
     ]
    },
    {
     "name": "stdout",
     "output_type": "stream",
     "text": [
      "822:\tlearn: 0.0724392\ttotal: 762ms\tremaining: 164ms\n",
      "823:\tlearn: 0.0723334\ttotal: 763ms\tremaining: 163ms\n",
      "824:\tlearn: 0.0722296\ttotal: 764ms\tremaining: 162ms\n",
      "825:\tlearn: 0.0720932\ttotal: 765ms\tremaining: 161ms\n",
      "826:\tlearn: 0.0719587\ttotal: 766ms\tremaining: 160ms\n",
      "827:\tlearn: 0.0718311\ttotal: 767ms\tremaining: 159ms\n",
      "828:\tlearn: 0.0717981\ttotal: 768ms\tremaining: 158ms\n",
      "829:\tlearn: 0.0716918\ttotal: 769ms\tremaining: 157ms\n",
      "830:\tlearn: 0.0715618\ttotal: 770ms\tremaining: 157ms\n",
      "831:\tlearn: 0.0714309\ttotal: 771ms\tremaining: 156ms\n",
      "832:\tlearn: 0.0712607\ttotal: 772ms\tremaining: 155ms\n",
      "833:\tlearn: 0.0711384\ttotal: 773ms\tremaining: 154ms\n",
      "834:\tlearn: 0.0710184\ttotal: 774ms\tremaining: 153ms\n",
      "835:\tlearn: 0.0709888\ttotal: 774ms\tremaining: 152ms\n",
      "836:\tlearn: 0.0709106\ttotal: 775ms\tremaining: 151ms\n",
      "837:\tlearn: 0.0708196\ttotal: 776ms\tremaining: 150ms\n",
      "838:\tlearn: 0.0707790\ttotal: 777ms\tremaining: 149ms\n",
      "839:\tlearn: 0.0707301\ttotal: 778ms\tremaining: 148ms\n",
      "840:\tlearn: 0.0706411\ttotal: 779ms\tremaining: 147ms\n",
      "841:\tlearn: 0.0706010\ttotal: 780ms\tremaining: 146ms\n",
      "842:\tlearn: 0.0705476\ttotal: 781ms\tremaining: 145ms\n",
      "843:\tlearn: 0.0704611\ttotal: 782ms\tremaining: 145ms\n",
      "844:\tlearn: 0.0703339\ttotal: 783ms\tremaining: 144ms\n",
      "845:\tlearn: 0.0702387\ttotal: 784ms\tremaining: 143ms\n",
      "846:\tlearn: 0.0701367\ttotal: 786ms\tremaining: 142ms\n",
      "847:\tlearn: 0.0699911\ttotal: 788ms\tremaining: 141ms\n",
      "848:\tlearn: 0.0699010\ttotal: 789ms\tremaining: 140ms\n",
      "849:\tlearn: 0.0697273\ttotal: 790ms\tremaining: 139ms\n",
      "850:\tlearn: 0.0695988\ttotal: 791ms\tremaining: 138ms\n",
      "851:\tlearn: 0.0694993\ttotal: 792ms\tremaining: 137ms\n",
      "852:\tlearn: 0.0693791\ttotal: 792ms\tremaining: 137ms\n",
      "853:\tlearn: 0.0692548\ttotal: 793ms\tremaining: 136ms\n",
      "854:\tlearn: 0.0692050\ttotal: 794ms\tremaining: 135ms\n",
      "855:\tlearn: 0.0690861\ttotal: 795ms\tremaining: 134ms\n",
      "856:\tlearn: 0.0689926\ttotal: 796ms\tremaining: 133ms\n",
      "857:\tlearn: 0.0689233\ttotal: 797ms\tremaining: 132ms\n",
      "858:\tlearn: 0.0688048\ttotal: 797ms\tremaining: 131ms\n",
      "859:\tlearn: 0.0686918\ttotal: 798ms\tremaining: 130ms\n",
      "860:\tlearn: 0.0685805\ttotal: 799ms\tremaining: 129ms\n",
      "861:\tlearn: 0.0684634\ttotal: 800ms\tremaining: 128ms\n",
      "862:\tlearn: 0.0684532\ttotal: 801ms\tremaining: 127ms\n",
      "863:\tlearn: 0.0683258\ttotal: 801ms\tremaining: 126ms\n",
      "864:\tlearn: 0.0682866\ttotal: 802ms\tremaining: 125ms\n",
      "865:\tlearn: 0.0682554\ttotal: 803ms\tremaining: 124ms\n",
      "866:\tlearn: 0.0681352\ttotal: 804ms\tremaining: 123ms\n",
      "867:\tlearn: 0.0681184\ttotal: 805ms\tremaining: 122ms\n",
      "868:\tlearn: 0.0680002\ttotal: 806ms\tremaining: 122ms\n",
      "869:\tlearn: 0.0679410\ttotal: 807ms\tremaining: 121ms\n",
      "870:\tlearn: 0.0678543\ttotal: 808ms\tremaining: 120ms\n",
      "871:\tlearn: 0.0678440\ttotal: 809ms\tremaining: 119ms\n",
      "872:\tlearn: 0.0677819\ttotal: 810ms\tremaining: 118ms\n",
      "873:\tlearn: 0.0676864\ttotal: 811ms\tremaining: 117ms\n",
      "874:\tlearn: 0.0676289\ttotal: 811ms\tremaining: 116ms\n",
      "875:\tlearn: 0.0675445\ttotal: 812ms\tremaining: 115ms\n",
      "876:\tlearn: 0.0674707\ttotal: 813ms\tremaining: 114ms\n",
      "877:\tlearn: 0.0673830\ttotal: 814ms\tremaining: 113ms\n",
      "878:\tlearn: 0.0672418\ttotal: 815ms\tremaining: 112ms\n",
      "879:\tlearn: 0.0672178\ttotal: 815ms\tremaining: 111ms\n",
      "880:\tlearn: 0.0670936\ttotal: 816ms\tremaining: 110ms\n",
      "881:\tlearn: 0.0670221\ttotal: 817ms\tremaining: 109ms\n",
      "882:\tlearn: 0.0670119\ttotal: 818ms\tremaining: 108ms\n",
      "883:\tlearn: 0.0669181\ttotal: 819ms\tremaining: 107ms\n",
      "884:\tlearn: 0.0666736\ttotal: 820ms\tremaining: 106ms\n",
      "885:\tlearn: 0.0665951\ttotal: 820ms\tremaining: 106ms\n",
      "886:\tlearn: 0.0665301\ttotal: 821ms\tremaining: 105ms\n",
      "887:\tlearn: 0.0664267\ttotal: 822ms\tremaining: 104ms\n",
      "888:\tlearn: 0.0663497\ttotal: 823ms\tremaining: 103ms\n",
      "889:\tlearn: 0.0662746\ttotal: 823ms\tremaining: 102ms\n",
      "890:\tlearn: 0.0661462\ttotal: 824ms\tremaining: 101ms\n",
      "891:\tlearn: 0.0661370\ttotal: 825ms\tremaining: 99.9ms\n",
      "892:\tlearn: 0.0660551\ttotal: 826ms\tremaining: 99ms\n",
      "893:\tlearn: 0.0659563\ttotal: 827ms\tremaining: 98ms\n",
      "894:\tlearn: 0.0658523\ttotal: 828ms\tremaining: 97.1ms\n",
      "895:\tlearn: 0.0658437\ttotal: 829ms\tremaining: 96.3ms\n",
      "896:\tlearn: 0.0657591\ttotal: 830ms\tremaining: 95.3ms\n",
      "897:\tlearn: 0.0656576\ttotal: 831ms\tremaining: 94.4ms\n",
      "898:\tlearn: 0.0655009\ttotal: 832ms\tremaining: 93.5ms\n",
      "899:\tlearn: 0.0654135\ttotal: 833ms\tremaining: 92.5ms\n",
      "900:\tlearn: 0.0654036\ttotal: 834ms\tremaining: 91.6ms\n",
      "901:\tlearn: 0.0652941\ttotal: 835ms\tremaining: 90.7ms\n",
      "902:\tlearn: 0.0651252\ttotal: 836ms\tremaining: 89.8ms\n",
      "903:\tlearn: 0.0650270\ttotal: 837ms\tremaining: 88.9ms\n",
      "904:\tlearn: 0.0649113\ttotal: 838ms\tremaining: 88ms\n",
      "905:\tlearn: 0.0647603\ttotal: 839ms\tremaining: 87ms\n",
      "906:\tlearn: 0.0647388\ttotal: 840ms\tremaining: 86.1ms\n",
      "907:\tlearn: 0.0646320\ttotal: 841ms\tremaining: 85.2ms\n",
      "908:\tlearn: 0.0645420\ttotal: 841ms\tremaining: 84.2ms\n",
      "909:\tlearn: 0.0644795\ttotal: 842ms\tremaining: 83.3ms\n",
      "910:\tlearn: 0.0644584\ttotal: 843ms\tremaining: 82.4ms\n",
      "911:\tlearn: 0.0643856\ttotal: 844ms\tremaining: 81.4ms\n",
      "912:\tlearn: 0.0642327\ttotal: 845ms\tremaining: 80.5ms\n",
      "913:\tlearn: 0.0640739\ttotal: 846ms\tremaining: 79.6ms\n",
      "914:\tlearn: 0.0639368\ttotal: 846ms\tremaining: 78.6ms\n",
      "915:\tlearn: 0.0638857\ttotal: 847ms\tremaining: 77.7ms\n",
      "916:\tlearn: 0.0637781\ttotal: 848ms\tremaining: 76.8ms\n",
      "917:\tlearn: 0.0636550\ttotal: 849ms\tremaining: 75.8ms\n",
      "918:\tlearn: 0.0635016\ttotal: 850ms\tremaining: 74.9ms\n",
      "919:\tlearn: 0.0634207\ttotal: 851ms\tremaining: 74ms\n",
      "920:\tlearn: 0.0633077\ttotal: 852ms\tremaining: 73ms\n",
      "921:\tlearn: 0.0632544\ttotal: 852ms\tremaining: 72.1ms\n",
      "922:\tlearn: 0.0631925\ttotal: 853ms\tremaining: 71.2ms\n",
      "923:\tlearn: 0.0630890\ttotal: 854ms\tremaining: 70.2ms\n",
      "924:\tlearn: 0.0629898\ttotal: 855ms\tremaining: 69.3ms\n",
      "925:\tlearn: 0.0629203\ttotal: 856ms\tremaining: 68.4ms\n",
      "926:\tlearn: 0.0628180\ttotal: 857ms\tremaining: 67.5ms\n",
      "927:\tlearn: 0.0627122\ttotal: 858ms\tremaining: 66.6ms\n",
      "928:\tlearn: 0.0626314\ttotal: 859ms\tremaining: 65.6ms\n",
      "929:\tlearn: 0.0624946\ttotal: 860ms\tremaining: 64.7ms\n",
      "930:\tlearn: 0.0623901\ttotal: 860ms\tremaining: 63.8ms\n",
      "931:\tlearn: 0.0622234\ttotal: 861ms\tremaining: 62.8ms\n"
     ]
    },
    {
     "name": "stdout",
     "output_type": "stream",
     "text": [
      "932:\tlearn: 0.0621265\ttotal: 862ms\tremaining: 61.9ms\n",
      "933:\tlearn: 0.0620661\ttotal: 863ms\tremaining: 61ms\n",
      "934:\tlearn: 0.0619607\ttotal: 864ms\tremaining: 60.1ms\n",
      "935:\tlearn: 0.0618183\ttotal: 865ms\tremaining: 59.2ms\n",
      "936:\tlearn: 0.0616717\ttotal: 866ms\tremaining: 58.2ms\n",
      "937:\tlearn: 0.0616259\ttotal: 867ms\tremaining: 57.3ms\n",
      "938:\tlearn: 0.0615318\ttotal: 868ms\tremaining: 56.4ms\n",
      "939:\tlearn: 0.0614934\ttotal: 869ms\tremaining: 55.4ms\n",
      "940:\tlearn: 0.0614026\ttotal: 869ms\tremaining: 54.5ms\n",
      "941:\tlearn: 0.0613116\ttotal: 870ms\tremaining: 53.6ms\n",
      "942:\tlearn: 0.0612286\ttotal: 871ms\tremaining: 52.7ms\n",
      "943:\tlearn: 0.0611391\ttotal: 872ms\tremaining: 51.7ms\n",
      "944:\tlearn: 0.0611299\ttotal: 873ms\tremaining: 50.8ms\n",
      "945:\tlearn: 0.0610818\ttotal: 874ms\tremaining: 49.9ms\n",
      "946:\tlearn: 0.0609824\ttotal: 875ms\tremaining: 49ms\n",
      "947:\tlearn: 0.0608668\ttotal: 876ms\tremaining: 48ms\n",
      "948:\tlearn: 0.0608081\ttotal: 876ms\tremaining: 47.1ms\n",
      "949:\tlearn: 0.0606691\ttotal: 877ms\tremaining: 46.2ms\n",
      "950:\tlearn: 0.0606297\ttotal: 878ms\tremaining: 45.2ms\n",
      "951:\tlearn: 0.0605399\ttotal: 879ms\tremaining: 44.3ms\n",
      "952:\tlearn: 0.0604128\ttotal: 880ms\tremaining: 43.4ms\n",
      "953:\tlearn: 0.0604002\ttotal: 881ms\tremaining: 42.5ms\n",
      "954:\tlearn: 0.0602902\ttotal: 881ms\tremaining: 41.5ms\n",
      "955:\tlearn: 0.0602540\ttotal: 882ms\tremaining: 40.6ms\n",
      "956:\tlearn: 0.0602229\ttotal: 883ms\tremaining: 39.7ms\n",
      "957:\tlearn: 0.0601991\ttotal: 884ms\tremaining: 38.7ms\n",
      "958:\tlearn: 0.0601812\ttotal: 884ms\tremaining: 37.8ms\n",
      "959:\tlearn: 0.0601000\ttotal: 885ms\tremaining: 36.9ms\n",
      "960:\tlearn: 0.0600206\ttotal: 886ms\tremaining: 36ms\n",
      "961:\tlearn: 0.0599233\ttotal: 887ms\tremaining: 35ms\n",
      "962:\tlearn: 0.0598796\ttotal: 888ms\tremaining: 34.1ms\n",
      "963:\tlearn: 0.0598687\ttotal: 889ms\tremaining: 33.2ms\n",
      "964:\tlearn: 0.0597356\ttotal: 890ms\tremaining: 32.3ms\n",
      "965:\tlearn: 0.0596106\ttotal: 891ms\tremaining: 31.3ms\n",
      "966:\tlearn: 0.0594604\ttotal: 891ms\tremaining: 30.4ms\n",
      "967:\tlearn: 0.0594030\ttotal: 892ms\tremaining: 29.5ms\n",
      "968:\tlearn: 0.0593426\ttotal: 893ms\tremaining: 28.6ms\n",
      "969:\tlearn: 0.0593233\ttotal: 894ms\tremaining: 27.6ms\n",
      "970:\tlearn: 0.0592030\ttotal: 894ms\tremaining: 26.7ms\n",
      "971:\tlearn: 0.0591030\ttotal: 895ms\tremaining: 25.8ms\n",
      "972:\tlearn: 0.0590000\ttotal: 896ms\tremaining: 24.9ms\n",
      "973:\tlearn: 0.0588969\ttotal: 897ms\tremaining: 24ms\n",
      "974:\tlearn: 0.0588513\ttotal: 898ms\tremaining: 23ms\n",
      "975:\tlearn: 0.0587154\ttotal: 899ms\tremaining: 22.1ms\n",
      "976:\tlearn: 0.0587097\ttotal: 900ms\tremaining: 21.2ms\n",
      "977:\tlearn: 0.0586471\ttotal: 900ms\tremaining: 20.3ms\n",
      "978:\tlearn: 0.0586253\ttotal: 901ms\tremaining: 19.3ms\n",
      "979:\tlearn: 0.0585223\ttotal: 902ms\tremaining: 18.4ms\n",
      "980:\tlearn: 0.0583992\ttotal: 903ms\tremaining: 17.5ms\n",
      "981:\tlearn: 0.0583340\ttotal: 904ms\tremaining: 16.6ms\n",
      "982:\tlearn: 0.0582522\ttotal: 904ms\tremaining: 15.6ms\n",
      "983:\tlearn: 0.0582037\ttotal: 905ms\tremaining: 14.7ms\n",
      "984:\tlearn: 0.0581852\ttotal: 906ms\tremaining: 13.8ms\n",
      "985:\tlearn: 0.0581111\ttotal: 906ms\tremaining: 12.9ms\n",
      "986:\tlearn: 0.0580279\ttotal: 907ms\tremaining: 11.9ms\n",
      "987:\tlearn: 0.0579210\ttotal: 908ms\tremaining: 11ms\n",
      "988:\tlearn: 0.0578254\ttotal: 909ms\tremaining: 10.1ms\n",
      "989:\tlearn: 0.0577594\ttotal: 910ms\tremaining: 9.19ms\n",
      "990:\tlearn: 0.0576295\ttotal: 911ms\tremaining: 8.27ms\n",
      "991:\tlearn: 0.0576235\ttotal: 911ms\tremaining: 7.35ms\n",
      "992:\tlearn: 0.0574981\ttotal: 912ms\tremaining: 6.43ms\n",
      "993:\tlearn: 0.0574796\ttotal: 913ms\tremaining: 5.51ms\n",
      "994:\tlearn: 0.0574434\ttotal: 914ms\tremaining: 4.59ms\n",
      "995:\tlearn: 0.0573785\ttotal: 915ms\tremaining: 3.67ms\n",
      "996:\tlearn: 0.0572829\ttotal: 916ms\tremaining: 2.75ms\n",
      "997:\tlearn: 0.0572682\ttotal: 916ms\tremaining: 1.84ms\n",
      "998:\tlearn: 0.0571628\ttotal: 917ms\tremaining: 917us\n",
      "999:\tlearn: 0.0571557\ttotal: 918ms\tremaining: 0us\n"
     ]
    },
    {
     "data": {
      "text/plain": [
       "<catboost.core.CatBoostRegressor at 0x7fb7a2b18f70>"
      ]
     },
     "execution_count": 9,
     "metadata": {},
     "output_type": "execute_result"
    }
   ],
   "source": [
    "#Train the Model \n",
    "prior_model = ctb.CatBoostRegressor()\n",
    "prior_model.fit(X_train,Y_train)"
   ]
  },
  {
   "cell_type": "code",
   "execution_count": 10,
   "id": "af65dcda",
   "metadata": {
    "execution": {
     "iopub.execute_input": "2022-06-12T05:00:43.904681Z",
     "iopub.status.busy": "2022-06-12T05:00:43.904295Z",
     "iopub.status.idle": "2022-06-12T05:00:43.911821Z",
     "shell.execute_reply": "2022-06-12T05:00:43.912119Z"
    },
    "id": "af65dcda",
    "papermill": {
     "duration": 0.020891,
     "end_time": "2022-06-12T05:00:43.912234",
     "exception": false,
     "start_time": "2022-06-12T05:00:43.891343",
     "status": "completed"
    },
    "tags": []
   },
   "outputs": [
    {
     "data": {
      "application/scrapbook.scrap.json+json": {
       "data": 0.08796799699455474,
       "encoder": "json",
       "name": "Prior Model MSE",
       "version": 1
      }
     },
     "metadata": {
      "scrapbook": {
       "data": true,
       "display": false,
       "name": "Prior Model MSE"
      }
     },
     "output_type": "display_data"
    },
    {
     "data": {
      "application/scrapbook.scrap.json+json": {
       "data": 1.0751470318460588,
       "encoder": "json",
       "name": "ABC Pre-generator MSE",
       "version": 1
      }
     },
     "metadata": {
      "scrapbook": {
       "data": true,
       "display": false,
       "name": "ABC Pre-generator MSE"
      }
     },
     "output_type": "display_data"
    },
    {
     "data": {
      "application/scrapbook.scrap.json+json": {
       "data": 0.2157262139966049,
       "encoder": "json",
       "name": "Prior Model MSE",
       "version": 1
      }
     },
     "metadata": {
      "scrapbook": {
       "data": true,
       "display": false,
       "name": "Prior Model MSE"
      }
     },
     "output_type": "display_data"
    },
    {
     "data": {
      "application/scrapbook.scrap.json+json": {
       "data": 0.8669568694287776,
       "encoder": "json",
       "name": "ABC Pre-generator MSE",
       "version": 1
      }
     },
     "metadata": {
      "scrapbook": {
       "data": true,
       "display": false,
       "name": "ABC Pre-generator MSE"
      }
     },
     "output_type": "display_data"
    }
   ],
   "source": [
    "y_pred = prior_model.predict(X_test)\n",
    "y_abc = y_pred + np.random.normal(0,variance, y_pred.shape) + bias \n",
    "mse = mean_squared_error(y_pred,Y_test)\n",
    "sb.glue(\"Prior Model MSE\",mse)\n",
    "mse = mean_squared_error(y_abc,Y_test)\n",
    "sb.glue(\"ABC Pre-generator MSE\",mse)\n",
    "mae = mean_absolute_error(y_pred,Y_test)\n",
    "sb.glue(\"Prior Model MSE\",mae)\n",
    "mae = mean_absolute_error(y_abc,Y_test)\n",
    "sb.glue(\"ABC Pre-generator MSE\",mae)"
   ]
  },
  {
   "cell_type": "markdown",
   "id": "25609da2",
   "metadata": {
    "papermill": {
     "duration": 0.009984,
     "end_time": "2022-06-12T05:00:43.932433",
     "exception": false,
     "start_time": "2022-06-12T05:00:43.922449",
     "status": "completed"
    },
    "tags": []
   },
   "source": [
    "# ABC GAN Model"
   ]
  },
  {
   "cell_type": "code",
   "execution_count": 11,
   "id": "dfc3464d",
   "metadata": {
    "execution": {
     "iopub.execute_input": "2022-06-12T05:00:43.955136Z",
     "iopub.status.busy": "2022-06-12T05:00:43.954763Z",
     "iopub.status.idle": "2022-06-12T05:00:43.957389Z",
     "shell.execute_reply": "2022-06-12T05:00:43.957633Z"
    },
    "papermill": {
     "duration": 0.015475,
     "end_time": "2022-06-12T05:00:43.957744",
     "exception": false,
     "start_time": "2022-06-12T05:00:43.942269",
     "status": "completed"
    },
    "tags": []
   },
   "outputs": [],
   "source": [
    "gen = network.Generator(n_features+1).to(device)\n",
    "disc = network.Discriminator(n_features+1).to(device)\n",
    "\n",
    "criterion = torch.nn.BCELoss()\n",
    "gen_opt = torch.optim.Adam(gen.parameters(), lr=0.001, betas=(0.5, 0.999))\n",
    "disc_opt = torch.optim.Adam(disc.parameters(), lr=0.001, betas=(0.5, 0.999))"
   ]
  },
  {
   "cell_type": "code",
   "execution_count": 12,
   "id": "b75fdd85",
   "metadata": {
    "execution": {
     "iopub.execute_input": "2022-06-12T05:00:43.981402Z",
     "iopub.status.busy": "2022-06-12T05:00:43.980975Z",
     "iopub.status.idle": "2022-06-12T05:01:45.992840Z",
     "shell.execute_reply": "2022-06-12T05:01:45.993147Z"
    },
    "papermill": {
     "duration": 62.025517,
     "end_time": "2022-06-12T05:01:45.993269",
     "exception": false,
     "start_time": "2022-06-12T05:00:43.967752",
     "status": "completed"
    },
    "tags": []
   },
   "outputs": [
    {
     "data": {
      "image/png": "[encoded data removed]",
      "text/plain": [
       "<Figure size 432x288 with 1 Axes>"
      ]
     },
     "metadata": {
      "needs_background": "light"
     },
     "output_type": "display_data"
    },
    {
     "data": {
      "image/png": "[encoded data removed]",
      "text/plain": [
       "<Figure size 432x288 with 1 Axes>"
      ]
     },
     "metadata": {
      "needs_background": "light"
     },
     "output_type": "display_data"
    }
   ],
   "source": [
    "#Training the ABC_GAN \n",
    "ABC_train_test2.training_GAN(disc,gen,disc_opt,gen_opt,train_data,batch_size,n_epochs,criterion,prior_model,variance,bias,device)"
   ]
  },
  {
   "cell_type": "code",
   "execution_count": 13,
   "id": "1fa7c368",
   "metadata": {
    "execution": {
     "iopub.execute_input": "2022-06-12T05:01:46.017979Z",
     "iopub.status.busy": "2022-06-12T05:01:46.017503Z",
     "iopub.status.idle": "2022-06-12T05:01:46.338062Z",
     "shell.execute_reply": "2022-06-12T05:01:46.338357Z"
    },
    "papermill": {
     "duration": 0.33424,
     "end_time": "2022-06-12T05:01:46.338480",
     "exception": false,
     "start_time": "2022-06-12T05:01:46.004240",
     "status": "completed"
    },
    "tags": []
   },
   "outputs": [
    {
     "data": {
      "application/scrapbook.scrap.json+json": {
       "data": 0.09578210339750129,
       "encoder": "json",
       "name": "ABC-GAN Model 1 MSE",
       "version": 1
      }
     },
     "metadata": {
      "scrapbook": {
       "data": true,
       "display": false,
       "name": "ABC-GAN Model 1 MSE"
      }
     },
     "output_type": "display_data"
    },
    {
     "data": {
      "application/scrapbook.scrap.json+json": {
       "data": 0.24215313516776352,
       "encoder": "json",
       "name": "ABC-GAN Model 1 MAE",
       "version": 1
      }
     },
     "metadata": {
      "scrapbook": {
       "data": true,
       "display": false,
       "name": "ABC-GAN Model 1 MAE"
      }
     },
     "output_type": "display_data"
    },
    {
     "data": {
      "application/scrapbook.scrap.json+json": {
       "data": 24.699619787111878,
       "encoder": "json",
       "name": "ABC-GAN Model 1 Manhattan Distance",
       "version": 1
      }
     },
     "metadata": {
      "scrapbook": {
       "data": true,
       "display": false,
       "name": "ABC-GAN Model 1 Manhattan Distance"
      }
     },
     "output_type": "display_data"
    },
    {
     "data": {
      "application/scrapbook.scrap.json+json": {
       "data": 3.1256055482751997,
       "encoder": "json",
       "name": "ABC-GAN Model 1 Euclidean distance",
       "version": 1
      }
     },
     "metadata": {
      "scrapbook": {
       "data": true,
       "display": false,
       "name": "ABC-GAN Model 1 Euclidean distance"
      }
     },
     "output_type": "display_data"
    },
    {
     "data": {
      "application/scrapbook.scrap.json+json": {
       "data": [
        [
         0.09513484659882677,
         0.09484971021158625,
         0.09445052931573035,
         0.09526017521434518,
         0.09666280690337725,
         0.09664242679599488,
         0.09663084220812738,
         0.09667506117295062,
         0.09565091040299903,
         0.09581096242042358,
         0.09737723338922469,
         0.09544678137431442,
         0.09828553993742625,
         0.0968432821319533,
         0.09577795724407626,
         0.09435678913725555,
         0.09659717313354456,
         0.09427258549845614,
         0.0948604062565695,
         0.09466994505886013,
         0.09682769024548875,
         0.09453022262870034,
         0.09713826745760112,
         0.09757334813270274,
         0.09658047456534734,
         0.09514999057257743,
         0.09410019180805893,
         0.09671858941196326,
         0.09575357870560358,
         0.09525411335300263,
         0.09442177630134695,
         0.09541256260518312,
         0.09401543234419037,
         0.09611249526461227,
         0.09586667760858837,
         0.09511222247908041,
         0.09562927686625801,
         0.09509451291623834,
         0.0955275984827151,
         0.09572086481769614,
         0.09706672688972305,
         0.09646760726383284,
         0.09659992271359003,
         0.09732745770419536,
         0.09608558618613675,
         0.09501408714552947,
         0.09742768841644593,
         0.09736673276965527,
         0.09660799172511453,
         0.09743062306511922,
         0.09570299664319354,
         0.09442998515421,
         0.09772286387258662,
         0.09698062190312609,
         0.09710123896521838,
         0.09481714799390117,
         0.09577302777395627,
         0.09919058383635541,
         0.09716792558018492,
         0.0965844067670459,
         0.09581561422614697,
         0.09363095566947584,
         0.09535531702917828,
         0.09542212344260013,
         0.09525599603707104,
         0.09589363750465925,
         0.09284197291509895,
         0.097094417779779,
         0.09534074024308509,
         0.09408258225085891,
         0.0935614543247311,
         0.09435088964732385,
         0.09712494466360333,
         0.0943180200517902,
         0.09626180741726603,
         0.09423605407811786,
         0.09586932942510935,
         0.09517890484354749,
         0.09562514296659673,
         0.09588262240260051,
         0.09583563529337673,
         0.09702114727501611,
         0.09693947271606058,
         0.09465091746895808,
         0.09563454839779446,
         0.09379920319546368,
         0.09311002969268081,
         0.09586400142292126,
         0.09535114396597721,
         0.09496849899904829,
         0.09716635667146939,
         0.09479194871647549,
         0.09636533994158218,
         0.09711704270424815,
         0.09623214711998024,
         0.09488047799624201,
         0.09555759318696921,
         0.0959028416131611,
         0.09539816613209184,
         0.09682022697985414
        ],
        [
         0.2416274890157522,
         0.24007981909694626,
         0.2403605738837345,
         0.2418069801494187,
         0.24369574882382272,
         0.2423704980196906,
         0.24486568548223553,
         0.24310316620211975,
         0.2417850442522881,
         0.24266774974325123,
         0.2439356826099695,
         0.24118909418729007,
         0.24454491293313457,
         0.24383175321945957,
         0.24244166227678457,
         0.23998915477126254,
         0.24307850459773167,
         0.24090400878705232,
         0.24125709600162273,
         0.2408625295422241,
         0.24384495323779537,
         0.23970720150014935,
         0.24383626947654227,
         0.24464786067312838,
         0.24330387085530103,
         0.24210361862445579,
         0.2395669917265574,
         0.24247413413489566,
         0.24163917422878975,
         0.2418330264661242,
         0.2412753530650162,
         0.24192877877138408,
         0.23922587503843448,
         0.243064850860951,
         0.24336382794175662,
         0.24109705544862092,
         0.2423588244938383,
         0.24102193570020153,
         0.24215651971890645,
         0.24332553221314562,
         0.24303840213984834,
         0.24322009181567267,
         0.2416636218481204,
         0.24426090271741735,
         0.24247190535214602,
         0.24170899223171027,
         0.24396738212774782,
         0.24339241742649498,
         0.24290193913175778,
         0.2438755964531618,
         0.2425449940869037,
         0.24087556645128072,
         0.24336323905370982,
         0.2433140162816819,
         0.24404624360156993,
         0.24149301615269744,
         0.24213900212563721,
         0.24630442415090167,
         0.24353274374323733,
         0.24177041193287746,
         0.24227278873178304,
         0.23985552524819093,
         0.24174639863856867,
         0.24237612463241698,
         0.24262570827176758,
         0.24251758077127092,
         0.23849757209274114,
         0.24344167741490344,
         0.2398923731536842,
         0.24056505006464088,
         0.24139409928637393,
         0.24091962177087278,
         0.24403259859365575,
         0.24012796807230688,
         0.24198931280304403,
         0.24112193841560214,
         0.24164570831492835,
         0.24107545884508713,
         0.24312428611458517,
         0.24123452304332865,
         0.241960309847605,
         0.2432747634456438,
         0.243265321186068,
         0.24144244719954097,
         0.24318608590493015,
         0.2390842732115119,
         0.24031701263989888,
         0.24333669321940227,
         0.241901025395183,
         0.24025898828518158,
         0.24327336587742263,
         0.24052849178220712,
         0.24240193983503416,
         0.24255454087374256,
         0.24313128483938237,
         0.24127226395934237,
         0.24125331914161935,
         0.24226768913806654,
         0.2422221502033519,
         0.2418675199151039
        ],
        [
         24.646003879606724,
         24.488141547888517,
         24.51677853614092,
         24.664311975240707,
         24.856966380029917,
         24.721790798008442,
         24.976299919188023,
         24.796522952616215,
         24.662074513733387,
         24.752110473811626,
         24.88143962621689,
         24.601287607103586,
         24.943581119179726,
         24.870838828384876,
         24.729049552232027,
         24.478893786668777,
         24.79400746896863,
         24.572208896279335,
         24.608223792165518,
         24.567978013306856,
         24.872185230255127,
         24.450134553015232,
         24.871299486607313,
         24.954081788659096,
         24.816994827240705,
         24.69456909969449,
         24.435833156108856,
         24.732361681759357,
         24.647195771336555,
         24.666968699544668,
         24.610086012631655,
         24.676735434681177,
         24.401039253920317,
         24.792614787817,
         24.823110450059175,
         24.591899655759335,
         24.720600098371506,
         24.584237441420555,
         24.69996501132846,
         24.819204285740852,
         24.789917018264532,
         24.808449365198612,
         24.64968942850828,
         24.91461207717657,
         24.732134345918894,
         24.65431720763445,
         24.884672977030277,
         24.82602657750249,
         24.775997791439295,
         24.875310838222504,
         24.739589396864176,
         24.569307778030634,
         24.823050383478403,
         24.818029660731554,
         24.892716847360134,
         24.63228764757514,
         24.698178216814995,
         25.12305126339197,
         24.840339861810207,
         24.6605820171535,
         24.71182445064187,
         24.465263575315475,
         24.658132661134005,
         24.722364712506533,
         24.747822243720293,
         24.736793238669634,
         24.326752353459597,
         24.831051096320152,
         24.469022061675787,
         24.53763510659337,
         24.62219812721014,
         24.573801420629025,
         24.891325056552887,
         24.4930527433753,
         24.682909905910492,
         24.59443771839142,
         24.647862248122692,
         24.589696802198887,
         24.798677183687687,
         24.60592135041952,
         24.67995160445571,
         24.81402587145567,
         24.813062760978937,
         24.62712961435318,
         24.804980762302876,
         24.386595867574215,
         24.512335289269686,
         24.82034270837903,
         24.673904590308666,
         24.50641680508852,
         24.81388331949711,
         24.533906161785126,
         24.724997863173485,
         24.740563169121742,
         24.799391053617,
         24.60977092385292,
         24.607838552445173,
         24.711304292082787,
         24.706659320741892,
         24.6704870313406
        ],
        [
         3.1150849672328893,
         3.1104132268208025,
         3.1038611422234235,
         3.1171361651142555,
         3.140001003844502,
         3.1396699720179946,
         3.1394817892813123,
         3.140200031787937,
         3.123522508499963,
         3.1261347006940063,
         3.151583380731171,
         3.1201877668146945,
         3.1662477909376388,
         3.1429309215220167,
         3.1255962053495936,
         3.1023205011732853,
         3.138934796968797,
         3.1009359427183476,
         3.110588599955013,
         3.107464303254943,
         3.142677903482928,
         3.1051703186987076,
         3.1477139769482414,
         3.1547553803006148,
         3.1386634744211475,
         3.115332893673307,
         3.09809934708718,
         3.140906894516336,
         3.125198398177556,
         3.1170369843821666,
         3.103388661243929,
         3.1196284050714564,
         3.0967037473913157,
         3.131050066190327,
         3.1270435104225864,
         3.114714544362967,
         3.123169262201188,
         3.114424556391808,
         3.1215084566979696,
         3.1246644958147116,
         3.1465546463952836,
         3.1368289626485772,
         3.1389794705901126,
         3.1507777906142356,
         3.130611727919313,
         3.1131072722994957,
         3.1523997555001624,
         3.1514134515332697,
         3.139110567654743,
         3.1524472323327095,
         3.1243728422846306,
         3.103523559718763,
         3.157171537152176,
         3.1451587295586303,
         3.1471139754467536,
         3.109879273440999,
         3.125515770707858,
         3.1807922835841156,
         3.1481944681323073,
         3.138727367937311,
         3.126210589686336,
         3.090365266159736,
         3.1186924082019027,
         3.1197847026910708,
         3.1170677881273687,
         3.127483177488768,
         3.0773172142858605,
         3.147003433988825,
         3.118454024800539,
         3.0978094501740436,
         3.0892180792431234,
         3.102223516129525,
         3.147498110513736,
         3.1016830987840454,
         3.133481188161361,
         3.100335065112805,
         3.1270867594873595,
         3.115806202901882,
         3.123101756682428,
         3.1273035485966583,
         3.1265371899154544,
         3.1458157959504947,
         3.1444914083263416,
         3.107152004944998,
         3.1232553428394283,
         3.0931405926561593,
         3.0817564843208234,
         3.1269998633095537,
         3.118624165321893,
         3.1123603419114128,
         3.1481690520824763,
         3.109465994199084,
         3.1351658128464885,
         3.147370069730172,
         3.1329984050806634,
         3.11091767098017,
         3.1219984793511446,
         3.127633265672692,
         3.1193930411978172,
         3.1425567857948287
        ]
       ],
       "encoder": "json",
       "name": "ABC_GAN_1 Metrics",
       "version": 1
      }
     },
     "metadata": {
      "scrapbook": {
       "data": true,
       "display": false,
       "name": "ABC_GAN_1 Metrics"
      }
     },
     "output_type": "display_data"
    },
    {
     "name": "stdout",
     "output_type": "stream",
     "text": [
      "MSE\n",
      "0.09578210339750129\n"
     ]
    }
   ],
   "source": [
    "ABC_GAN1_metrics=ABC_train_test2.test_generator(gen,test_data,prior_model,variance,bias,\"1\",device)\n",
    "sb.glue(\"ABC_GAN_1 Metrics\",ABC_GAN1_metrics)\n",
    "\n",
    "print(\"MSE\")\n",
    "print(mean(ABC_GAN1_metrics[0]))"
   ]
  },
  {
   "cell_type": "code",
   "execution_count": 14,
   "id": "eb22ce5c",
   "metadata": {
    "execution": {
     "iopub.execute_input": "2022-06-12T05:01:46.366637Z",
     "iopub.status.busy": "2022-06-12T05:01:46.366250Z",
     "iopub.status.idle": "2022-06-12T05:01:46.692938Z",
     "shell.execute_reply": "2022-06-12T05:01:46.693203Z"
    },
    "papermill": {
     "duration": 0.341996,
     "end_time": "2022-06-12T05:01:46.693326",
     "exception": false,
     "start_time": "2022-06-12T05:01:46.351330",
     "status": "completed"
    },
    "tags": []
   },
   "outputs": [
    {
     "data": {
      "image/png": "[encoded data removed]",
      "text/plain": [
       "<Figure size 432x288 with 1 Axes>"
      ]
     },
     "metadata": {
      "needs_background": "light"
     },
     "output_type": "display_data"
    },
    {
     "data": {
      "image/png": "[encoded data removed]",
      "text/plain": [
       "<Figure size 432x288 with 1 Axes>"
      ]
     },
     "metadata": {
      "needs_background": "light"
     },
     "output_type": "display_data"
    },
    {
     "data": {
      "image/png": "[encoded data removed]",
      "text/plain": [
       "<Figure size 432x288 with 1 Axes>"
      ]
     },
     "metadata": {
      "needs_background": "light"
     },
     "output_type": "display_data"
    },
    {
     "data": {
      "image/png": "[encoded data removed]",
      "text/plain": [
       "<Figure size 432x288 with 1 Axes>"
      ]
     },
     "metadata": {
      "needs_background": "light"
     },
     "output_type": "display_data"
    }
   ],
   "source": [
    "sanityChecks.discProbVsError(train_data,disc,device)\n",
    "sanityChecks.discProbVsError(test_data,disc,device)"
   ]
  },
  {
   "cell_type": "markdown",
   "id": "130f3a4d",
   "metadata": {
    "id": "130f3a4d",
    "papermill": {
     "duration": 0.014933,
     "end_time": "2022-06-12T05:01:46.723412",
     "exception": false,
     "start_time": "2022-06-12T05:01:46.708479",
     "status": "completed"
    },
    "tags": []
   },
   "source": [
    "# ABC - GAN Model with skip connection"
   ]
  },
  {
   "cell_type": "code",
   "execution_count": 15,
   "id": "4e43dad1",
   "metadata": {
    "execution": {
     "iopub.execute_input": "2022-06-12T05:01:46.756740Z",
     "iopub.status.busy": "2022-06-12T05:01:46.756356Z",
     "iopub.status.idle": "2022-06-12T05:01:46.758689Z",
     "shell.execute_reply": "2022-06-12T05:01:46.758926Z"
    },
    "id": "4e43dad1",
    "papermill": {
     "duration": 0.020558,
     "end_time": "2022-06-12T05:01:46.759041",
     "exception": false,
     "start_time": "2022-06-12T05:01:46.738483",
     "status": "completed"
    },
    "tags": []
   },
   "outputs": [],
   "source": [
    "#Generator\n",
    "gen3 = network.GeneratorWithSkipConnection(n_features+1).to(device)\n",
    "constraints=network.weightConstraint()\n",
    "#Discriminator \n",
    "disc3 = network.Discriminator(n_features+1).to(device)\n",
    "\n",
    "criterion = torch.nn.BCELoss()\n",
    "gen_opt = torch.optim.Adam(gen3.parameters(), lr=0.001, betas=(0.5, 0.999))\n",
    "disc_opt = torch.optim.Adam(disc3.parameters(), lr=0.001, betas=(0.5, 0.999))\n"
   ]
  },
  {
   "cell_type": "code",
   "execution_count": 16,
   "id": "26acbc37",
   "metadata": {
    "execution": {
     "iopub.execute_input": "2022-06-12T05:01:46.791224Z",
     "iopub.status.busy": "2022-06-12T05:01:46.790833Z",
     "iopub.status.idle": "2022-06-12T05:04:49.103194Z",
     "shell.execute_reply": "2022-06-12T05:04:49.103529Z"
    },
    "id": "26acbc37",
    "papermill": {
     "duration": 182.329839,
     "end_time": "2022-06-12T05:04:49.103751",
     "exception": false,
     "start_time": "2022-06-12T05:01:46.773912",
     "status": "completed"
    },
    "tags": []
   },
   "outputs": [
    {
     "data": {
      "image/png": "[encoded data removed]",
      "text/plain": [
       "<Figure size 432x288 with 1 Axes>"
      ]
     },
     "metadata": {
      "needs_background": "light"
     },
     "output_type": "display_data"
    },
    {
     "data": {
      "image/png": "[encoded data removed]",
      "text/plain": [
       "<Figure size 432x288 with 1 Axes>"
      ]
     },
     "metadata": {
      "needs_background": "light"
     },
     "output_type": "display_data"
    }
   ],
   "source": [
    "ABC_train_test2.training_GAN_skip_connection(disc3,gen3,disc_opt,gen_opt,train_data,batch_size,n_epochs,criterion,prior_model,variance,bias,device)"
   ]
  },
  {
   "cell_type": "code",
   "execution_count": 17,
   "id": "c5e0717b",
   "metadata": {
    "execution": {
     "iopub.execute_input": "2022-06-12T05:04:49.138980Z",
     "iopub.status.busy": "2022-06-12T05:04:49.138609Z",
     "iopub.status.idle": "2022-06-12T05:04:49.986013Z",
     "shell.execute_reply": "2022-06-12T05:04:49.986319Z"
    },
    "id": "c5e0717b",
    "papermill": {
     "duration": 0.866547,
     "end_time": "2022-06-12T05:04:49.986440",
     "exception": false,
     "start_time": "2022-06-12T05:04:49.119893",
     "status": "completed"
    },
    "tags": []
   },
   "outputs": [
    {
     "data": {
      "application/scrapbook.scrap.json+json": {
       "data": 0.1271066386767596,
       "encoder": "json",
       "name": "ABC-GAN Model 3 MSE",
       "version": 1
      }
     },
     "metadata": {
      "scrapbook": {
       "data": true,
       "display": false,
       "name": "ABC-GAN Model 3 MSE"
      }
     },
     "output_type": "display_data"
    },
    {
     "data": {
      "application/scrapbook.scrap.json+json": {
       "data": 0.23246104672421045,
       "encoder": "json",
       "name": "ABC-GAN Model 3 MAE",
       "version": 1
      }
     },
     "metadata": {
      "scrapbook": {
       "data": true,
       "display": false,
       "name": "ABC-GAN Model 3 MAE"
      }
     },
     "output_type": "display_data"
    },
    {
     "data": {
      "application/scrapbook.scrap.json+json": {
       "data": 23.711026765869466,
       "encoder": "json",
       "name": "ABC-GAN Model 3 Manhattan Distance",
       "version": 1
      }
     },
     "metadata": {
      "scrapbook": {
       "data": true,
       "display": false,
       "name": "ABC-GAN Model 3 Manhattan Distance"
      }
     },
     "output_type": "display_data"
    },
    {
     "data": {
      "application/scrapbook.scrap.json+json": {
       "data": 3.6005655592820394,
       "encoder": "json",
       "name": "ABC-GAN Model 3 Euclidean distance",
       "version": 1
      }
     },
     "metadata": {
      "scrapbook": {
       "data": true,
       "display": false,
       "name": "ABC-GAN Model 3 Euclidean distance"
      }
     },
     "output_type": "display_data"
    },
    {
     "data": {
      "application/scrapbook.scrap.json+json": {
       "data": [
        [
         0.12773214121862536,
         0.12502944989998166,
         0.12566943371258543,
         0.12452363841193374,
         0.12609390012675403,
         0.13059323827180158,
         0.12698973105747424,
         0.1265672586267407,
         0.13049928710038636,
         0.12530184483557033,
         0.12761578652920746,
         0.12513161108761903,
         0.12733674580149298,
         0.1287777373598531,
         0.125981745207044,
         0.1273554829771245,
         0.12606801577688811,
         0.12875984824049702,
         0.12730024439475227,
         0.1286240172735522,
         0.12385935393966953,
         0.12355372299614074,
         0.128700349075031,
         0.126273491573609,
         0.12414828978842558,
         0.1273245632464652,
         0.12669748053686794,
         0.12643304381716133,
         0.12948274724667122,
         0.12390925802713447,
         0.1254526853348587,
         0.12790074361597983,
         0.12944779351245336,
         0.12849965275426287,
         0.12867857456027543,
         0.12983956644239927,
         0.12526993686607996,
         0.13018503260775288,
         0.12483254815568408,
         0.12706711289535108,
         0.12627742658350263,
         0.12402247108708346,
         0.12658222977116387,
         0.13049608008547678,
         0.12565348850904579,
         0.12498090725207103,
         0.12861404592046288,
         0.12467879601507766,
         0.1315070162585107,
         0.13184792263752732,
         0.12792422809873977,
         0.1279841496991224,
         0.12770890047165898,
         0.12758027568913932,
         0.13065265084145627,
         0.12844564060153932,
         0.12867386708010028,
         0.13057093929061084,
         0.1298004099871653,
         0.12476494801109125,
         0.12712012784491675,
         0.1272409438071119,
         0.12468280784375131,
         0.12769225365385325,
         0.12641131614484608,
         0.12364151398581318,
         0.12653227409887932,
         0.12969494213445076,
         0.12212355157345225,
         0.12634776646395757,
         0.1273387328272181,
         0.12477874041707451,
         0.1263553486474523,
         0.12567750882840611,
         0.12913327964517166,
         0.12648195705142132,
         0.12974955855846304,
         0.1256020974604807,
         0.12562390630420722,
         0.1304013900120263,
         0.12696330841443243,
         0.12939435130144136,
         0.12590601712412167,
         0.12586009077442475,
         0.12836531538844342,
         0.12672500303130566,
         0.12916426696892397,
         0.12821986977239244,
         0.12619629384250175,
         0.12989552529599763,
         0.12613846507572182,
         0.1249354809184337,
         0.1258629912075706,
         0.1290628633314265,
         0.12573649141148596,
         0.12735335913825163,
         0.1266443984113163,
         0.12524162174799547,
         0.1274295527732,
         0.12466508565091505
        ],
        [
         0.23220079959205844,
         0.23032006206830927,
         0.23304429619262615,
         0.23024861445175668,
         0.23387162924251137,
         0.23380612614838517,
         0.23085079642524028,
         0.23125532390001943,
         0.23655341854136364,
         0.23156778637648506,
         0.23180674861970485,
         0.23214129663492536,
         0.23332062201784448,
         0.23084882984631785,
         0.23216822549846827,
         0.2329969016798571,
         0.23124204933935522,
         0.2326157606188573,
         0.23334649427994794,
         0.23249406234689934,
         0.2306663880818615,
         0.2310739088091342,
         0.23473491024810308,
         0.23007630077464616,
         0.22887563794924348,
         0.23486370129474238,
         0.2323492506847662,
         0.2322408375649841,
         0.23279951850646266,
         0.23217036224463405,
         0.23158866002717438,
         0.2330427318994029,
         0.23469837285651296,
         0.23168954562724514,
         0.23233602169499384,
         0.23394972735139377,
         0.22992432877129199,
         0.234303571502952,
         0.23139003178506506,
         0.232423907282817,
         0.23228504846566447,
         0.23137064352540263,
         0.2335895127160292,
         0.23387426187229507,
         0.23291196191099053,
         0.23315541316554242,
         0.23271965131382732,
         0.2308033087345607,
         0.2342667757332617,
         0.23534123306436575,
         0.23103737338062594,
         0.23158456611574865,
         0.2300254324286738,
         0.23274079324933244,
         0.23512498803856766,
         0.2348023466400656,
         0.231937519676399,
         0.23499584365088275,
         0.23184397803875162,
         0.23158542879437113,
         0.23279516990570462,
         0.23280472825190016,
         0.23218539797280932,
         0.23419389723087936,
         0.23090268232330097,
         0.22970813885331154,
         0.23246993424882198,
         0.23321786667128988,
         0.229054088019492,
         0.2338890434407136,
         0.23146418635002977,
         0.2341669435594596,
         0.23355227175588703,
         0.23075309722666063,
         0.23437774920489127,
         0.23247923555911756,
         0.23166268923338137,
         0.23110204721417496,
         0.2328866741199996,
         0.23618365959355644,
         0.23383736819503645,
         0.2335076618063099,
         0.2310340676237555,
         0.23275396387622344,
         0.23488080824780114,
         0.2314036202014369,
         0.23242622679647276,
         0.23370872564412945,
         0.23115537068167447,
         0.2339560301545277,
         0.232529654368466,
         0.2324111684243761,
         0.23127267567221732,
         0.23328507687969535,
         0.23294751265761898,
         0.23239925280943804,
         0.23289554365271448,
         0.22917672537048073,
         0.2319684686303577,
         0.23081161069921127
        ],
        [
         23.68448155838996,
         23.492646330967546,
         23.770518211647868,
         23.48535867407918,
         23.85490618273616,
         23.848224867135286,
         23.54678123537451,
         23.58804303780198,
         24.12844869121909,
         23.619914210401475,
         23.644288359209895,
         23.678412256762385,
         23.798703445820138,
         23.546580644324422,
         23.681159000843763,
         23.765683971345425,
         23.58668903261423,
         23.726807583123446,
         23.80134241655469,
         23.714394359383732,
         23.52797158434987,
         23.569538698531687,
         23.942960845306516,
         23.467782679013908,
         23.345315070822835,
         23.956097532063723,
         23.699623569846153,
         23.688565431628376,
         23.745550887659192,
         23.681376948952675,
         23.622043322771788,
         23.770358653739095,
         23.93923403136432,
         23.632333653979003,
         23.698274212889373,
         23.862872189842165,
         23.452281534671783,
         23.898964293301105,
         23.601783242076635,
         23.707238542847335,
         23.693074943497777,
         23.599805639591068,
         23.82613029703498,
         23.855174710974097,
         23.757020114921033,
         23.781852142885327,
         23.737404434010386,
         23.541937490925193,
         23.895211124792695,
         24.004805772565305,
         23.565812084823847,
         23.621625743806362,
         23.462594107724726,
         23.73956091143191,
         23.9827487799339,
         23.94983935728669,
         23.657627006992698,
         23.96957605239004,
         23.648085759952664,
         23.621713737025857,
         23.74510733038187,
         23.746082281693816,
         23.682910593226552,
         23.887777517549694,
         23.552073596976697,
         23.430230163037777,
         23.711933293379843,
         23.788222400471568,
         23.363516977988183,
         23.856682430952787,
         23.609347007703036,
         23.88502824306488,
         23.822331719100475,
         23.536815917119384,
         23.90653041889891,
         23.71288202702999,
         23.6295943018049,
         23.572408815845847,
         23.75444076023996,
         24.090733278542757,
         23.85141155589372,
         23.817781504243612,
         23.565474897623062,
         23.74090431537479,
         23.957842441275716,
         23.603169260546565,
         23.707475133240223,
         23.838290015701205,
         23.577847809530795,
         23.863515075761825,
         23.718024745583534,
         23.70593917928636,
         23.589812918566167,
         23.795077841728926,
         23.760646291077137,
         23.70472378656268,
         23.755345452576876,
         23.376025987789035,
         23.660783800296485,
         23.54278429131955
        ],
        [
         3.609526063668163,
         3.5711348182052896,
         3.580262872846589,
         3.563903915373875,
         3.586304199719944,
         3.649727428688855,
         3.5990210568795464,
         3.5930294153997053,
         3.648414352049313,
         3.575022821357672,
         3.607881681261064,
         3.5725935020566135,
         3.6039350815119136,
         3.6242694726944653,
         3.5847089158142937,
         3.604200225246468,
         3.5859360854932407,
         3.624017731817919,
         3.6034185058447945,
         3.622105708272789,
         3.5543851932291033,
         3.549997147267354,
         3.6231803164696568,
         3.588857219298104,
         3.558528566475111,
         3.603762679636305,
         3.5948773295844925,
         3.591123844891799,
         3.634176690690818,
         3.5551011685699914,
         3.5771740108856296,
         3.6119075083437475,
         3.6336861364556845,
         3.620354206556979,
         3.6228738047506,
         3.6391806463989558,
         3.5745676046677524,
         3.6440188427052336,
         3.5683217220256043,
         3.6001174307688646,
         3.5889131379175594,
         3.5567249051455345,
         3.593241911792012,
         3.6483695219534207,
         3.580035729978497,
         3.5704415048718054,
         3.621965306830976,
         3.566123552758362,
         3.6624739805721607,
         3.6672180340181284,
         3.6122390931486597,
         3.613085007207897,
         3.6091976737370888,
         3.607379675095513,
         3.6505575445168006,
         3.619593256342072,
         3.622807535899502,
         3.649415817311355,
         3.6386318608360004,
         3.567355420634634,
         3.600868373070794,
         3.6025791134027036,
         3.5661809264341358,
         3.608962437140767,
         3.5908152621339773,
         3.5512581469886055,
         3.5925328054292964,
         3.6371532958776944,
         3.5293912025294287,
         3.5899125587294836,
         3.603963200197284,
         3.567552595623728,
         3.5900202732074,
         3.5803778991186705,
         3.6292691445809733,
         3.591818427933819,
         3.637919044311352,
         3.5793035552980177,
         3.57961428690706,
         3.6470456236831863,
         3.5986466148084206,
         3.6329359797203993,
         3.58363136310927,
         3.5829777084139556,
         3.61846129862145,
         3.595267765993678,
         3.6297045652270716,
         3.6164107505625003,
         3.5877600215085708,
         3.6399647773284505,
         3.586937891534173,
         3.5697925785233284,
         3.5830189928567506,
         3.62827949031018,
         3.581217966554335,
         3.604170172467119,
         3.5941241823223447,
         3.574163597024559,
         3.6052481721604686,
         3.5659274721162433
        ]
       ],
       "encoder": "json",
       "name": "ABC_GAN_3 Metrics",
       "version": 1
      }
     },
     "metadata": {
      "scrapbook": {
       "data": true,
       "display": false,
       "name": "ABC_GAN_3 Metrics"
      }
     },
     "output_type": "display_data"
    },
    {
     "name": "stdout",
     "output_type": "stream",
     "text": [
      "MSE\n",
      "0.1271066386767596\n"
     ]
    }
   ],
   "source": [
    "ABC_GAN3_metrics=ABC_train_test2.test_generator(gen3,test_data,prior_model,variance,bias,\"3\",device)\n",
    "sb.glue(\"ABC_GAN_3 Metrics\",ABC_GAN3_metrics)\n",
    "\n",
    "print(\"MSE\")\n",
    "print(mean(ABC_GAN3_metrics[0]))"
   ]
  },
  {
   "cell_type": "code",
   "execution_count": 18,
   "id": "c8e46b48",
   "metadata": {
    "execution": {
     "iopub.execute_input": "2022-06-12T05:04:50.023761Z",
     "iopub.status.busy": "2022-06-12T05:04:50.023373Z",
     "iopub.status.idle": "2022-06-12T05:04:50.346649Z",
     "shell.execute_reply": "2022-06-12T05:04:50.346958Z"
    },
    "id": "c8e46b48",
    "papermill": {
     "duration": 0.343015,
     "end_time": "2022-06-12T05:04:50.347084",
     "exception": false,
     "start_time": "2022-06-12T05:04:50.004069",
     "status": "completed"
    },
    "tags": []
   },
   "outputs": [
    {
     "data": {
      "image/png": "[encoded data removed]",
      "text/plain": [
       "<Figure size 432x288 with 1 Axes>"
      ]
     },
     "metadata": {
      "needs_background": "light"
     },
     "output_type": "display_data"
    },
    {
     "data": {
      "image/png": "[encoded data removed]",
      "text/plain": [
       "<Figure size 432x288 with 1 Axes>"
      ]
     },
     "metadata": {
      "needs_background": "light"
     },
     "output_type": "display_data"
    },
    {
     "data": {
      "image/png": "[encoded data removed]",
      "text/plain": [
       "<Figure size 432x288 with 1 Axes>"
      ]
     },
     "metadata": {
      "needs_background": "light"
     },
     "output_type": "display_data"
    },
    {
     "data": {
      "image/png": "[encoded data removed]",
      "text/plain": [
       "<Figure size 432x288 with 1 Axes>"
      ]
     },
     "metadata": {
      "needs_background": "light"
     },
     "output_type": "display_data"
    }
   ],
   "source": [
    "sanityChecks.discProbVsError(train_data,disc3,device)\n",
    "sanityChecks.discProbVsError(test_data,disc3,device)"
   ]
  },
  {
   "cell_type": "markdown",
   "id": "a5bd74c3",
   "metadata": {
    "id": "a5bd74c3",
    "papermill": {
     "duration": 0.01978,
     "end_time": "2022-06-12T05:04:50.387583",
     "exception": false,
     "start_time": "2022-06-12T05:04:50.367803",
     "status": "completed"
    },
    "tags": []
   },
   "source": [
    "## Skip Connection Model Analysis - ABC-GAN "
   ]
  },
  {
   "cell_type": "markdown",
   "id": "5744a8bf",
   "metadata": {
    "id": "5744a8bf",
    "papermill": {
     "duration": 0.020109,
     "end_time": "2022-06-12T05:04:50.427669",
     "exception": false,
     "start_time": "2022-06-12T05:04:50.407560",
     "status": "completed"
    },
    "tags": []
   },
   "source": [
    "### Weight Analysis \n",
    "\n",
    "Study the weights of the skip connection layer\n",
    "\n",
    "Equation of the skip connection is \n",
    "\n",
    "$output = y_{gan} * w + y_{abc} * (1-w)$"
   ]
  },
  {
   "cell_type": "code",
   "execution_count": 19,
   "id": "52c31dea",
   "metadata": {
    "execution": {
     "iopub.execute_input": "2022-06-12T05:04:50.470313Z",
     "iopub.status.busy": "2022-06-12T05:04:50.469924Z",
     "iopub.status.idle": "2022-06-12T05:04:50.473388Z",
     "shell.execute_reply": "2022-06-12T05:04:50.473632Z"
    },
    "id": "52c31dea",
    "papermill": {
     "duration": 0.026373,
     "end_time": "2022-06-12T05:04:50.473751",
     "exception": false,
     "start_time": "2022-06-12T05:04:50.447378",
     "status": "completed"
    },
    "tags": []
   },
   "outputs": [
    {
     "name": "stdout",
     "output_type": "stream",
     "text": [
      "Weight of the node at skip connection\n",
      "Parameter containing:\n",
      "tensor([[0.9869]], requires_grad=True)\n"
     ]
    },
    {
     "data": {
      "application/scrapbook.scrap.json+json": {
       "data": 0.9868721961975098,
       "encoder": "json",
       "name": "Skip Connection Weight",
       "version": 1
      }
     },
     "metadata": {
      "scrapbook": {
       "data": true,
       "display": false,
       "name": "Skip Connection Weight"
      }
     },
     "output_type": "display_data"
    }
   ],
   "source": [
    "print(\"Weight of the node at skip connection\")\n",
    "for name,param in gen3.named_parameters():\n",
    "    if(name == \"skipNode.weight\"):\n",
    "        print(param)\n",
    "        sb.glue(\"Skip Connection Weight\",param.item())"
   ]
  }
 ],
 "metadata": {
  "colab": {
   "collapsed_sections": [],
   "name": "ABC_GAN_Model-Catboost_Pre-gen.ipynb",
   "provenance": []
  },
  "interpreter": {
   "hash": "31f2aee4e71d21fbe5cf8b01ff0e069b9275f58929596ceb00d14d90e3e16cd6"
  },
  "kernelspec": {
   "display_name": "Python 3 (ipykernel)",
   "language": "python",
   "name": "python3"
  },
  "language_info": {
   "codemirror_mode": {
    "name": "ipython",
    "version": 3
   },
   "file_extension": ".py",
   "mimetype": "text/x-python",
   "name": "python",
   "nbconvert_exporter": "python",
   "pygments_lexer": "ipython3",
   "version": "3.8.11"
  },
  "papermill": {
   "default_parameters": {},
   "duration": 251.1727,
   "end_time": "2022-06-12T05:04:50.903722",
   "environment_variables": {},
   "exception": null,
   "input_path": "ABC_GAN-Catboost.ipynb",
   "output_path": "./ABC_GAN_Catboost/ABC-GAN_output_5_3.ipynb",
   "parameters": {
    "bias": 0.1,
    "variance": 1
   },
   "start_time": "2022-06-12T05:00:39.731022",
   "version": "2.3.3"
  }
 },
 "nbformat": 4,
 "nbformat_minor": 5
}