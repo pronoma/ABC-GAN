{
 "cells": [
  {
   "cell_type": "markdown",
   "id": "622780e6",
   "metadata": {
    "id": "622780e6",
    "papermill": {
     "duration": 0.036375,
     "end_time": "2022-06-12T06:25:14.668609",
     "exception": false,
     "start_time": "2022-06-12T06:25:14.632234",
     "status": "completed"
    },
    "tags": []
   },
   "source": [
    "## Import Libraries "
   ]
  },
  {
   "cell_type": "code",
   "execution_count": 1,
   "id": "a62397e3",
   "metadata": {
    "execution": {
     "iopub.execute_input": "2022-06-12T06:25:14.703752Z",
     "iopub.status.busy": "2022-06-12T06:25:14.703268Z",
     "iopub.status.idle": "2022-06-12T06:25:14.705516Z",
     "shell.execute_reply": "2022-06-12T06:25:14.705849Z"
    },
    "id": "a62397e3",
    "papermill": {
     "duration": 0.021108,
     "end_time": "2022-06-12T06:25:14.706059",
     "exception": false,
     "start_time": "2022-06-12T06:25:14.684951",
     "status": "completed"
    },
    "tags": []
   },
   "outputs": [],
   "source": [
    "import warnings\n",
    "import sys\n",
    "sys.path.insert(0, '../../src')\n",
    "warnings.filterwarnings('ignore')"
   ]
  },
  {
   "cell_type": "code",
   "execution_count": 2,
   "id": "d6a4e155",
   "metadata": {
    "execution": {
     "iopub.execute_input": "2022-06-12T06:25:14.726369Z",
     "iopub.status.busy": "2022-06-12T06:25:14.725964Z",
     "iopub.status.idle": "2022-06-12T06:25:16.466244Z",
     "shell.execute_reply": "2022-06-12T06:25:16.466501Z"
    },
    "id": "d6a4e155",
    "papermill": {
     "duration": 1.751123,
     "end_time": "2022-06-12T06:25:16.466628",
     "exception": false,
     "start_time": "2022-06-12T06:25:14.715505",
     "status": "completed"
    },
    "tags": []
   },
   "outputs": [],
   "source": [
    "import ABC_train_test2\n",
    "import bostonDataset\n",
    "import network\n",
    "import dataset\n",
    "import sanityChecks\n",
    "import torch \n",
    "import scrapbook as sb\n",
    "from statistics import mean \n",
    "import catboost as ctb \n",
    "from sklearn.model_selection import train_test_split\n",
    "from sklearn.metrics import mean_squared_error,mean_absolute_error\n",
    "import numpy as np"
   ]
  },
  {
   "cell_type": "markdown",
   "id": "2fa5b0f7",
   "metadata": {
    "id": "2fa5b0f7",
    "papermill": {
     "duration": 0.006767,
     "end_time": "2022-06-12T06:25:16.480526",
     "exception": false,
     "start_time": "2022-06-12T06:25:16.473759",
     "status": "completed"
    },
    "tags": []
   },
   "source": [
    "## Parameters "
   ]
  },
  {
   "cell_type": "code",
   "execution_count": 3,
   "id": "783186fb",
   "metadata": {
    "execution": {
     "iopub.execute_input": "2022-06-12T06:25:16.496151Z",
     "iopub.status.busy": "2022-06-12T06:25:16.495766Z",
     "iopub.status.idle": "2022-06-12T06:25:16.497136Z",
     "shell.execute_reply": "2022-06-12T06:25:16.497386Z"
    },
    "id": "783186fb",
    "papermill": {
     "duration": 0.010232,
     "end_time": "2022-06-12T06:25:16.497493",
     "exception": false,
     "start_time": "2022-06-12T06:25:16.487261",
     "status": "completed"
    },
    "tags": [
     "parameters"
    ]
   },
   "outputs": [],
   "source": [
    "variance = 1\n",
    "bias = 1 "
   ]
  },
  {
   "cell_type": "code",
   "execution_count": 4,
   "id": "a7277ef0",
   "metadata": {
    "execution": {
     "iopub.execute_input": "2022-06-12T06:25:16.513079Z",
     "iopub.status.busy": "2022-06-12T06:25:16.512722Z",
     "iopub.status.idle": "2022-06-12T06:25:16.513961Z",
     "shell.execute_reply": "2022-06-12T06:25:16.514208Z"
    },
    "papermill": {
     "duration": 0.009882,
     "end_time": "2022-06-12T06:25:16.514310",
     "exception": false,
     "start_time": "2022-06-12T06:25:16.504428",
     "status": "completed"
    },
    "tags": [
     "injected-parameters"
    ]
   },
   "outputs": [],
   "source": [
    "# Parameters\n",
    "variance = 0.01\n",
    "bias = 0.1\n"
   ]
  },
  {
   "cell_type": "markdown",
   "id": "391cdbfd",
   "metadata": {
    "id": "391cdbfd",
    "papermill": {
     "duration": 0.00673,
     "end_time": "2022-06-12T06:25:16.527884",
     "exception": false,
     "start_time": "2022-06-12T06:25:16.521154",
     "status": "completed"
    },
    "tags": []
   },
   "source": [
    "## Dataset \n"
   ]
  },
  {
   "cell_type": "code",
   "execution_count": 5,
   "id": "5b51f161",
   "metadata": {
    "execution": {
     "iopub.execute_input": "2022-06-12T06:25:16.543405Z",
     "iopub.status.busy": "2022-06-12T06:25:16.543011Z",
     "iopub.status.idle": "2022-06-12T06:25:16.544273Z",
     "shell.execute_reply": "2022-06-12T06:25:16.544511Z"
    },
    "id": "5b51f161",
    "papermill": {
     "duration": 0.009934,
     "end_time": "2022-06-12T06:25:16.544613",
     "exception": false,
     "start_time": "2022-06-12T06:25:16.534679",
     "status": "completed"
    },
    "tags": []
   },
   "outputs": [],
   "source": [
    "#Parameters \n",
    "n_features = 13\n",
    "n_samples= 506\n",
    "n_target = 1 "
   ]
  },
  {
   "cell_type": "code",
   "execution_count": 6,
   "id": "5d6eced4",
   "metadata": {
    "execution": {
     "iopub.execute_input": "2022-06-12T06:25:16.560605Z",
     "iopub.status.busy": "2022-06-12T06:25:16.560222Z",
     "iopub.status.idle": "2022-06-12T06:25:16.570526Z",
     "shell.execute_reply": "2022-06-12T06:25:16.570766Z"
    },
    "id": "5d6eced4",
    "papermill": {
     "duration": 0.01915,
     "end_time": "2022-06-12T06:25:16.570879",
     "exception": false,
     "start_time": "2022-06-12T06:25:16.551729",
     "status": "completed"
    },
    "tags": []
   },
   "outputs": [
    {
     "name": "stdout",
     "output_type": "stream",
     "text": [
      "         X1        X2        X3        X4        X5        X6        X7  \\\n",
      "0 -0.419782  0.284830 -1.287909 -0.272599 -0.144217  0.413672 -0.120013   \n",
      "1 -0.417339 -0.487722 -0.593381 -0.272599 -0.740262  0.194274  0.367166   \n",
      "2 -0.417342 -0.487722 -0.593381 -0.272599 -0.740262  1.282714 -0.265812   \n",
      "3 -0.416750 -0.487722 -1.306878 -0.272599 -0.835284  1.016303 -0.809889   \n",
      "4 -0.412482 -0.487722 -1.306878 -0.272599 -0.835284  1.228577 -0.511180   \n",
      "\n",
      "         X8        X9       X10       X11       X12       X13         Y  \n",
      "0  0.140214 -0.982843 -0.666608 -1.459000  0.441052 -1.075562  0.159686  \n",
      "1  0.557160 -0.867883 -0.987329 -0.303094  0.441052 -0.492439 -0.101524  \n",
      "2  0.557160 -0.867883 -0.987329 -0.303094  0.396427 -1.208727  1.324247  \n",
      "3  1.077737 -0.752922 -1.106115  0.113032  0.416163 -1.361517  1.182758  \n",
      "4  1.077737 -0.752922 -1.106115  0.113032  0.441052 -1.026501  1.487503  \n"
     ]
    }
   ],
   "source": [
    "X,Y = bostonDataset.boston_data()"
   ]
  },
  {
   "cell_type": "code",
   "execution_count": 7,
   "id": "fe007438",
   "metadata": {
    "execution": {
     "iopub.execute_input": "2022-06-12T06:25:16.587801Z",
     "iopub.status.busy": "2022-06-12T06:25:16.587386Z",
     "iopub.status.idle": "2022-06-12T06:25:16.588810Z",
     "shell.execute_reply": "2022-06-12T06:25:16.589045Z"
    },
    "id": "fe007438",
    "papermill": {
     "duration": 0.010929,
     "end_time": "2022-06-12T06:25:16.589151",
     "exception": false,
     "start_time": "2022-06-12T06:25:16.578222",
     "status": "completed"
    },
    "tags": []
   },
   "outputs": [],
   "source": [
    "#Train test split for dataset \n",
    "X_train,X_test,Y_train,Y_test = train_test_split(X,Y,test_size = 0.2)\n",
    "train_data = dataset.CustomDataset(X_train,Y_train)\n",
    "test_data = dataset.CustomDataset(X_test,Y_test)\n"
   ]
  },
  {
   "cell_type": "markdown",
   "id": "a9a1af34",
   "metadata": {
    "id": "a9a1af34",
    "papermill": {
     "duration": 0.007094,
     "end_time": "2022-06-12T06:25:16.603511",
     "exception": false,
     "start_time": "2022-06-12T06:25:16.596417",
     "status": "completed"
    },
    "tags": []
   },
   "source": [
    "## Training Parameters "
   ]
  },
  {
   "cell_type": "code",
   "execution_count": 8,
   "id": "952b7fc8",
   "metadata": {
    "execution": {
     "iopub.execute_input": "2022-06-12T06:25:16.619777Z",
     "iopub.status.busy": "2022-06-12T06:25:16.619426Z",
     "iopub.status.idle": "2022-06-12T06:25:16.620696Z",
     "shell.execute_reply": "2022-06-12T06:25:16.621000Z"
    },
    "id": "952b7fc8",
    "papermill": {
     "duration": 0.01052,
     "end_time": "2022-06-12T06:25:16.621104",
     "exception": false,
     "start_time": "2022-06-12T06:25:16.610584",
     "status": "completed"
    },
    "tags": []
   },
   "outputs": [],
   "source": [
    "batch_size = 32\n",
    "n_epochs = 1000\n",
    "#Select the device \n",
    "device = torch.device('cuda' if torch.cuda.is_available() else 'cpu')"
   ]
  },
  {
   "cell_type": "markdown",
   "id": "a95e1600",
   "metadata": {
    "id": "a95e1600",
    "papermill": {
     "duration": 0.006995,
     "end_time": "2022-06-12T06:25:16.635227",
     "exception": false,
     "start_time": "2022-06-12T06:25:16.628232",
     "status": "completed"
    },
    "tags": []
   },
   "source": [
    "# ABC Pre-generator Model \n",
    "\n",
    "1. The catboost model is used as a pre-generator model for the ABC-GAN. \n",
    "2. The model is first trained on the entire dataset \n",
    "3. It generats X,Y pairs and we add some Gaussian noise with mean 0 and variance 1 to it which is then feed as input to the generator.\n"
   ]
  },
  {
   "cell_type": "code",
   "execution_count": 9,
   "id": "ff8ce7bd",
   "metadata": {
    "execution": {
     "iopub.execute_input": "2022-06-12T06:25:16.653918Z",
     "iopub.status.busy": "2022-06-12T06:25:16.653538Z",
     "iopub.status.idle": "2022-06-12T06:25:17.611394Z",
     "shell.execute_reply": "2022-06-12T06:25:17.611676Z"
    },
    "id": "ff8ce7bd",
    "papermill": {
     "duration": 0.969458,
     "end_time": "2022-06-12T06:25:17.611797",
     "exception": false,
     "start_time": "2022-06-12T06:25:16.642339",
     "status": "completed"
    },
    "tags": []
   },
   "outputs": [
    {
     "name": "stdout",
     "output_type": "stream",
     "text": [
      "Learning rate set to 0.033215\n",
      "0:\tlearn: 0.9982872\ttotal: 58.3ms\tremaining: 58.3s\n",
      "1:\tlearn: 0.9792620\ttotal: 60ms\tremaining: 29.9s\n",
      "2:\tlearn: 0.9589960\ttotal: 60.9ms\tremaining: 20.2s\n",
      "3:\tlearn: 0.9425563\ttotal: 62ms\tremaining: 15.4s\n",
      "4:\tlearn: 0.9246409\ttotal: 63.2ms\tremaining: 12.6s\n",
      "5:\tlearn: 0.9074870\ttotal: 64.1ms\tremaining: 10.6s\n",
      "6:\tlearn: 0.8896179\ttotal: 65ms\tremaining: 9.22s\n",
      "7:\tlearn: 0.8727474\ttotal: 65.9ms\tremaining: 8.17s\n",
      "8:\tlearn: 0.8568289\ttotal: 66.8ms\tremaining: 7.35s\n",
      "9:\tlearn: 0.8403945\ttotal: 67.6ms\tremaining: 6.69s\n",
      "10:\tlearn: 0.8273210\ttotal: 68.4ms\tremaining: 6.15s\n",
      "11:\tlearn: 0.8123799\ttotal: 69.1ms\tremaining: 5.69s\n",
      "12:\tlearn: 0.7973183\ttotal: 69.9ms\tremaining: 5.3s\n",
      "13:\tlearn: 0.7818191\ttotal: 70.7ms\tremaining: 4.98s\n",
      "14:\tlearn: 0.7688868\ttotal: 71.4ms\tremaining: 4.69s\n",
      "15:\tlearn: 0.7546312\ttotal: 72.2ms\tremaining: 4.44s\n",
      "16:\tlearn: 0.7428080\ttotal: 73.7ms\tremaining: 4.26s\n",
      "17:\tlearn: 0.7302919\ttotal: 75ms\tremaining: 4.09s\n",
      "18:\tlearn: 0.7176574\ttotal: 75.8ms\tremaining: 3.92s\n",
      "19:\tlearn: 0.7044205\ttotal: 76.6ms\tremaining: 3.75s\n",
      "20:\tlearn: 0.6907761\ttotal: 77.4ms\tremaining: 3.61s\n",
      "21:\tlearn: 0.6800305\ttotal: 78.2ms\tremaining: 3.48s\n",
      "22:\tlearn: 0.6694525\ttotal: 79ms\tremaining: 3.36s\n",
      "23:\tlearn: 0.6594271\ttotal: 79.8ms\tremaining: 3.24s\n",
      "24:\tlearn: 0.6493462\ttotal: 80.7ms\tremaining: 3.15s\n",
      "25:\tlearn: 0.6408600\ttotal: 81.5ms\tremaining: 3.05s\n",
      "26:\tlearn: 0.6314995\ttotal: 82.3ms\tremaining: 2.96s\n",
      "27:\tlearn: 0.6218252\ttotal: 83ms\tremaining: 2.88s\n",
      "28:\tlearn: 0.6113943\ttotal: 83.8ms\tremaining: 2.8s\n",
      "29:\tlearn: 0.6018949\ttotal: 84.5ms\tremaining: 2.73s\n",
      "30:\tlearn: 0.5920764\ttotal: 85.3ms\tremaining: 2.67s\n",
      "31:\tlearn: 0.5839070\ttotal: 86.1ms\tremaining: 2.6s\n",
      "32:\tlearn: 0.5766393\ttotal: 86.8ms\tremaining: 2.54s\n",
      "33:\tlearn: 0.5680505\ttotal: 87.6ms\tremaining: 2.49s\n",
      "34:\tlearn: 0.5604733\ttotal: 88.4ms\tremaining: 2.44s\n",
      "35:\tlearn: 0.5526673\ttotal: 89.4ms\tremaining: 2.39s\n",
      "36:\tlearn: 0.5462325\ttotal: 90.2ms\tremaining: 2.35s\n",
      "37:\tlearn: 0.5386510\ttotal: 91ms\tremaining: 2.3s\n",
      "38:\tlearn: 0.5311803\ttotal: 91.8ms\tremaining: 2.26s\n",
      "39:\tlearn: 0.5238538\ttotal: 92.6ms\tremaining: 2.22s\n",
      "40:\tlearn: 0.5171161\ttotal: 93.4ms\tremaining: 2.19s\n",
      "41:\tlearn: 0.5098754\ttotal: 94.2ms\tremaining: 2.15s\n",
      "42:\tlearn: 0.5043538\ttotal: 95.1ms\tremaining: 2.12s\n",
      "43:\tlearn: 0.4990309\ttotal: 96ms\tremaining: 2.08s\n",
      "44:\tlearn: 0.4931618\ttotal: 96.8ms\tremaining: 2.05s\n",
      "45:\tlearn: 0.4863890\ttotal: 97.5ms\tremaining: 2.02s\n",
      "46:\tlearn: 0.4815122\ttotal: 98.2ms\tremaining: 1.99s\n",
      "47:\tlearn: 0.4754477\ttotal: 98.9ms\tremaining: 1.96s\n",
      "48:\tlearn: 0.4714725\ttotal: 99.7ms\tremaining: 1.94s\n",
      "49:\tlearn: 0.4667970\ttotal: 101ms\tremaining: 1.91s\n",
      "50:\tlearn: 0.4612302\ttotal: 101ms\tremaining: 1.89s\n",
      "51:\tlearn: 0.4568534\ttotal: 102ms\tremaining: 1.86s\n",
      "52:\tlearn: 0.4519512\ttotal: 103ms\tremaining: 1.84s\n",
      "53:\tlearn: 0.4484067\ttotal: 104ms\tremaining: 1.81s\n",
      "54:\tlearn: 0.4431182\ttotal: 104ms\tremaining: 1.79s\n",
      "55:\tlearn: 0.4382943\ttotal: 105ms\tremaining: 1.77s\n",
      "56:\tlearn: 0.4342754\ttotal: 106ms\tremaining: 1.75s\n",
      "57:\tlearn: 0.4293056\ttotal: 107ms\tremaining: 1.73s\n",
      "58:\tlearn: 0.4260454\ttotal: 107ms\tremaining: 1.71s\n",
      "59:\tlearn: 0.4220636\ttotal: 108ms\tremaining: 1.69s\n"
     ]
    },
    {
     "name": "stdout",
     "output_type": "stream",
     "text": [
      "60:\tlearn: 0.4184307\ttotal: 109ms\tremaining: 1.68s\n",
      "61:\tlearn: 0.4141771\ttotal: 110ms\tremaining: 1.67s\n",
      "62:\tlearn: 0.4117230\ttotal: 111ms\tremaining: 1.65s\n",
      "63:\tlearn: 0.4081368\ttotal: 112ms\tremaining: 1.63s\n",
      "64:\tlearn: 0.4051819\ttotal: 113ms\tremaining: 1.62s\n",
      "65:\tlearn: 0.4023962\ttotal: 113ms\tremaining: 1.6s\n",
      "66:\tlearn: 0.3996675\ttotal: 115ms\tremaining: 1.6s\n",
      "67:\tlearn: 0.3959137\ttotal: 116ms\tremaining: 1.58s\n",
      "68:\tlearn: 0.3928874\ttotal: 116ms\tremaining: 1.57s\n",
      "69:\tlearn: 0.3905145\ttotal: 117ms\tremaining: 1.56s\n",
      "70:\tlearn: 0.3866678\ttotal: 118ms\tremaining: 1.54s\n",
      "71:\tlearn: 0.3834281\ttotal: 119ms\tremaining: 1.53s\n",
      "72:\tlearn: 0.3803211\ttotal: 120ms\tremaining: 1.52s\n",
      "73:\tlearn: 0.3768667\ttotal: 121ms\tremaining: 1.51s\n",
      "74:\tlearn: 0.3736720\ttotal: 121ms\tremaining: 1.5s\n",
      "75:\tlearn: 0.3710945\ttotal: 122ms\tremaining: 1.49s\n",
      "76:\tlearn: 0.3674909\ttotal: 123ms\tremaining: 1.48s\n",
      "77:\tlearn: 0.3638997\ttotal: 124ms\tremaining: 1.46s\n",
      "78:\tlearn: 0.3616297\ttotal: 125ms\tremaining: 1.46s\n",
      "79:\tlearn: 0.3592574\ttotal: 126ms\tremaining: 1.45s\n",
      "80:\tlearn: 0.3567478\ttotal: 127ms\tremaining: 1.44s\n",
      "81:\tlearn: 0.3542493\ttotal: 128ms\tremaining: 1.43s\n",
      "82:\tlearn: 0.3505651\ttotal: 129ms\tremaining: 1.42s\n",
      "83:\tlearn: 0.3481592\ttotal: 129ms\tremaining: 1.41s\n",
      "84:\tlearn: 0.3459037\ttotal: 130ms\tremaining: 1.4s\n",
      "85:\tlearn: 0.3431449\ttotal: 131ms\tremaining: 1.39s\n",
      "86:\tlearn: 0.3414522\ttotal: 132ms\tremaining: 1.38s\n",
      "87:\tlearn: 0.3392222\ttotal: 132ms\tremaining: 1.37s\n",
      "88:\tlearn: 0.3372411\ttotal: 133ms\tremaining: 1.36s\n",
      "89:\tlearn: 0.3350305\ttotal: 134ms\tremaining: 1.36s\n",
      "90:\tlearn: 0.3329427\ttotal: 135ms\tremaining: 1.35s\n",
      "91:\tlearn: 0.3311490\ttotal: 136ms\tremaining: 1.34s\n",
      "92:\tlearn: 0.3295927\ttotal: 137ms\tremaining: 1.33s\n",
      "93:\tlearn: 0.3272018\ttotal: 137ms\tremaining: 1.32s\n",
      "94:\tlearn: 0.3252632\ttotal: 138ms\tremaining: 1.32s\n",
      "95:\tlearn: 0.3239492\ttotal: 139ms\tremaining: 1.31s\n",
      "96:\tlearn: 0.3224207\ttotal: 140ms\tremaining: 1.3s\n",
      "97:\tlearn: 0.3202642\ttotal: 141ms\tremaining: 1.3s\n",
      "98:\tlearn: 0.3186219\ttotal: 142ms\tremaining: 1.29s\n",
      "99:\tlearn: 0.3171286\ttotal: 143ms\tremaining: 1.28s\n",
      "100:\tlearn: 0.3156343\ttotal: 143ms\tremaining: 1.28s\n",
      "101:\tlearn: 0.3140344\ttotal: 144ms\tremaining: 1.27s\n",
      "102:\tlearn: 0.3125171\ttotal: 145ms\tremaining: 1.26s\n",
      "103:\tlearn: 0.3107838\ttotal: 146ms\tremaining: 1.26s\n",
      "104:\tlearn: 0.3094855\ttotal: 147ms\tremaining: 1.25s\n",
      "105:\tlearn: 0.3075922\ttotal: 148ms\tremaining: 1.25s\n",
      "106:\tlearn: 0.3059206\ttotal: 149ms\tremaining: 1.24s\n",
      "107:\tlearn: 0.3037792\ttotal: 149ms\tremaining: 1.23s\n",
      "108:\tlearn: 0.3023086\ttotal: 150ms\tremaining: 1.23s\n",
      "109:\tlearn: 0.3011315\ttotal: 151ms\tremaining: 1.22s\n",
      "110:\tlearn: 0.2993531\ttotal: 152ms\tremaining: 1.22s\n",
      "111:\tlearn: 0.2977778\ttotal: 153ms\tremaining: 1.21s\n",
      "112:\tlearn: 0.2955992\ttotal: 153ms\tremaining: 1.2s\n",
      "113:\tlearn: 0.2945040\ttotal: 154ms\tremaining: 1.2s\n",
      "114:\tlearn: 0.2929282\ttotal: 155ms\tremaining: 1.19s\n",
      "115:\tlearn: 0.2910814\ttotal: 156ms\tremaining: 1.19s\n",
      "116:\tlearn: 0.2896128\ttotal: 157ms\tremaining: 1.18s\n",
      "117:\tlearn: 0.2880623\ttotal: 157ms\tremaining: 1.18s\n",
      "118:\tlearn: 0.2870102\ttotal: 158ms\tremaining: 1.17s\n",
      "119:\tlearn: 0.2859256\ttotal: 159ms\tremaining: 1.17s\n",
      "120:\tlearn: 0.2848280\ttotal: 160ms\tremaining: 1.16s\n",
      "121:\tlearn: 0.2836855\ttotal: 161ms\tremaining: 1.16s\n",
      "122:\tlearn: 0.2825378\ttotal: 161ms\tremaining: 1.15s\n",
      "123:\tlearn: 0.2816697\ttotal: 162ms\tremaining: 1.15s\n",
      "124:\tlearn: 0.2807288\ttotal: 163ms\tremaining: 1.14s\n",
      "125:\tlearn: 0.2796526\ttotal: 164ms\tremaining: 1.14s\n",
      "126:\tlearn: 0.2782491\ttotal: 165ms\tremaining: 1.13s\n",
      "127:\tlearn: 0.2772567\ttotal: 165ms\tremaining: 1.13s\n",
      "128:\tlearn: 0.2761242\ttotal: 166ms\tremaining: 1.12s\n",
      "129:\tlearn: 0.2750276\ttotal: 167ms\tremaining: 1.12s\n",
      "130:\tlearn: 0.2741026\ttotal: 168ms\tremaining: 1.11s\n",
      "131:\tlearn: 0.2731216\ttotal: 169ms\tremaining: 1.11s\n",
      "132:\tlearn: 0.2720517\ttotal: 170ms\tremaining: 1.11s\n",
      "133:\tlearn: 0.2709045\ttotal: 171ms\tremaining: 1.1s\n",
      "134:\tlearn: 0.2697962\ttotal: 171ms\tremaining: 1.1s\n",
      "135:\tlearn: 0.2689375\ttotal: 172ms\tremaining: 1.09s\n",
      "136:\tlearn: 0.2680135\ttotal: 173ms\tremaining: 1.09s\n",
      "137:\tlearn: 0.2671697\ttotal: 174ms\tremaining: 1.09s\n",
      "138:\tlearn: 0.2659763\ttotal: 175ms\tremaining: 1.08s\n",
      "139:\tlearn: 0.2650605\ttotal: 175ms\tremaining: 1.08s\n",
      "140:\tlearn: 0.2642070\ttotal: 176ms\tremaining: 1.07s\n",
      "141:\tlearn: 0.2632411\ttotal: 177ms\tremaining: 1.07s\n",
      "142:\tlearn: 0.2622815\ttotal: 178ms\tremaining: 1.06s\n",
      "143:\tlearn: 0.2611288\ttotal: 179ms\tremaining: 1.06s\n",
      "144:\tlearn: 0.2603991\ttotal: 180ms\tremaining: 1.06s\n",
      "145:\tlearn: 0.2591408\ttotal: 180ms\tremaining: 1.05s\n",
      "146:\tlearn: 0.2584976\ttotal: 181ms\tremaining: 1.05s\n",
      "147:\tlearn: 0.2580122\ttotal: 182ms\tremaining: 1.05s\n",
      "148:\tlearn: 0.2571272\ttotal: 183ms\tremaining: 1.04s\n",
      "149:\tlearn: 0.2565607\ttotal: 184ms\tremaining: 1.04s\n",
      "150:\tlearn: 0.2556552\ttotal: 185ms\tremaining: 1.04s\n",
      "151:\tlearn: 0.2547088\ttotal: 185ms\tremaining: 1.03s\n",
      "152:\tlearn: 0.2539859\ttotal: 186ms\tremaining: 1.03s\n",
      "153:\tlearn: 0.2532937\ttotal: 187ms\tremaining: 1.03s\n",
      "154:\tlearn: 0.2527114\ttotal: 188ms\tremaining: 1.02s\n",
      "155:\tlearn: 0.2518526\ttotal: 189ms\tremaining: 1.02s\n",
      "156:\tlearn: 0.2512071\ttotal: 189ms\tremaining: 1.02s\n",
      "157:\tlearn: 0.2506989\ttotal: 190ms\tremaining: 1.01s\n"
     ]
    },
    {
     "name": "stdout",
     "output_type": "stream",
     "text": [
      "158:\tlearn: 0.2496372\ttotal: 191ms\tremaining: 1.01s\n",
      "159:\tlearn: 0.2488313\ttotal: 192ms\tremaining: 1.01s\n",
      "160:\tlearn: 0.2480194\ttotal: 193ms\tremaining: 1s\n",
      "161:\tlearn: 0.2473750\ttotal: 194ms\tremaining: 1s\n",
      "162:\tlearn: 0.2466690\ttotal: 194ms\tremaining: 999ms\n",
      "163:\tlearn: 0.2461915\ttotal: 195ms\tremaining: 995ms\n",
      "164:\tlearn: 0.2453781\ttotal: 196ms\tremaining: 992ms\n",
      "165:\tlearn: 0.2447349\ttotal: 197ms\tremaining: 989ms\n",
      "166:\tlearn: 0.2441540\ttotal: 198ms\tremaining: 986ms\n",
      "167:\tlearn: 0.2433479\ttotal: 198ms\tremaining: 983ms\n",
      "168:\tlearn: 0.2425361\ttotal: 199ms\tremaining: 980ms\n",
      "169:\tlearn: 0.2419845\ttotal: 200ms\tremaining: 978ms\n",
      "170:\tlearn: 0.2412713\ttotal: 201ms\tremaining: 974ms\n",
      "171:\tlearn: 0.2402528\ttotal: 202ms\tremaining: 971ms\n",
      "172:\tlearn: 0.2394382\ttotal: 203ms\tremaining: 969ms\n",
      "173:\tlearn: 0.2389444\ttotal: 203ms\tremaining: 965ms\n",
      "174:\tlearn: 0.2384246\ttotal: 204ms\tremaining: 963ms\n",
      "175:\tlearn: 0.2378086\ttotal: 205ms\tremaining: 960ms\n",
      "176:\tlearn: 0.2371880\ttotal: 206ms\tremaining: 958ms\n",
      "177:\tlearn: 0.2362883\ttotal: 207ms\tremaining: 955ms\n",
      "178:\tlearn: 0.2358142\ttotal: 208ms\tremaining: 952ms\n",
      "179:\tlearn: 0.2349785\ttotal: 208ms\tremaining: 949ms\n",
      "180:\tlearn: 0.2338497\ttotal: 209ms\tremaining: 947ms\n",
      "181:\tlearn: 0.2331280\ttotal: 210ms\tremaining: 944ms\n",
      "182:\tlearn: 0.2323853\ttotal: 211ms\tremaining: 941ms\n",
      "183:\tlearn: 0.2315566\ttotal: 212ms\tremaining: 939ms\n",
      "184:\tlearn: 0.2306387\ttotal: 213ms\tremaining: 936ms\n",
      "185:\tlearn: 0.2300948\ttotal: 213ms\tremaining: 934ms\n",
      "186:\tlearn: 0.2294635\ttotal: 214ms\tremaining: 931ms\n",
      "187:\tlearn: 0.2289215\ttotal: 215ms\tremaining: 930ms\n",
      "188:\tlearn: 0.2283481\ttotal: 216ms\tremaining: 927ms\n",
      "189:\tlearn: 0.2276503\ttotal: 217ms\tremaining: 924ms\n",
      "190:\tlearn: 0.2270287\ttotal: 218ms\tremaining: 922ms\n",
      "191:\tlearn: 0.2263760\ttotal: 218ms\tremaining: 919ms\n",
      "192:\tlearn: 0.2258110\ttotal: 219ms\tremaining: 917ms\n",
      "193:\tlearn: 0.2250664\ttotal: 220ms\tremaining: 914ms\n",
      "194:\tlearn: 0.2242749\ttotal: 221ms\tremaining: 912ms\n",
      "195:\tlearn: 0.2237311\ttotal: 222ms\tremaining: 910ms\n",
      "196:\tlearn: 0.2230153\ttotal: 223ms\tremaining: 907ms\n",
      "197:\tlearn: 0.2222801\ttotal: 223ms\tremaining: 905ms\n",
      "198:\tlearn: 0.2216364\ttotal: 224ms\tremaining: 903ms\n",
      "199:\tlearn: 0.2208593\ttotal: 225ms\tremaining: 901ms\n",
      "200:\tlearn: 0.2199127\ttotal: 226ms\tremaining: 898ms\n",
      "201:\tlearn: 0.2192078\ttotal: 227ms\tremaining: 896ms\n",
      "202:\tlearn: 0.2185818\ttotal: 228ms\tremaining: 894ms\n",
      "203:\tlearn: 0.2180234\ttotal: 228ms\tremaining: 891ms\n",
      "204:\tlearn: 0.2175952\ttotal: 229ms\tremaining: 889ms\n",
      "205:\tlearn: 0.2170939\ttotal: 230ms\tremaining: 887ms\n",
      "206:\tlearn: 0.2165605\ttotal: 231ms\tremaining: 885ms\n",
      "207:\tlearn: 0.2159456\ttotal: 232ms\tremaining: 882ms\n",
      "208:\tlearn: 0.2154104\ttotal: 233ms\tremaining: 880ms\n",
      "209:\tlearn: 0.2147547\ttotal: 233ms\tremaining: 878ms\n",
      "210:\tlearn: 0.2141304\ttotal: 234ms\tremaining: 876ms\n",
      "211:\tlearn: 0.2136578\ttotal: 235ms\tremaining: 874ms\n",
      "212:\tlearn: 0.2132587\ttotal: 236ms\tremaining: 871ms\n",
      "213:\tlearn: 0.2127385\ttotal: 237ms\tremaining: 869ms\n",
      "214:\tlearn: 0.2123105\ttotal: 237ms\tremaining: 867ms\n",
      "215:\tlearn: 0.2116193\ttotal: 238ms\tremaining: 865ms\n",
      "216:\tlearn: 0.2112242\ttotal: 239ms\tremaining: 863ms\n",
      "217:\tlearn: 0.2107251\ttotal: 240ms\tremaining: 862ms\n",
      "218:\tlearn: 0.2101862\ttotal: 241ms\tremaining: 860ms\n",
      "219:\tlearn: 0.2095122\ttotal: 242ms\tremaining: 858ms\n",
      "220:\tlearn: 0.2088780\ttotal: 243ms\tremaining: 856ms\n",
      "221:\tlearn: 0.2086122\ttotal: 244ms\tremaining: 854ms\n",
      "222:\tlearn: 0.2082204\ttotal: 244ms\tremaining: 851ms\n",
      "223:\tlearn: 0.2073909\ttotal: 245ms\tremaining: 849ms\n",
      "224:\tlearn: 0.2068806\ttotal: 246ms\tremaining: 847ms\n",
      "225:\tlearn: 0.2061269\ttotal: 247ms\tremaining: 845ms\n",
      "226:\tlearn: 0.2058954\ttotal: 248ms\tremaining: 843ms\n",
      "227:\tlearn: 0.2054332\ttotal: 249ms\tremaining: 842ms\n",
      "228:\tlearn: 0.2048451\ttotal: 249ms\tremaining: 840ms\n",
      "229:\tlearn: 0.2040587\ttotal: 250ms\tremaining: 838ms\n",
      "230:\tlearn: 0.2033871\ttotal: 251ms\tremaining: 836ms\n",
      "231:\tlearn: 0.2029255\ttotal: 252ms\tremaining: 834ms\n",
      "232:\tlearn: 0.2023601\ttotal: 253ms\tremaining: 832ms\n",
      "233:\tlearn: 0.2017866\ttotal: 253ms\tremaining: 830ms\n",
      "234:\tlearn: 0.2013049\ttotal: 254ms\tremaining: 827ms\n",
      "235:\tlearn: 0.2007464\ttotal: 255ms\tremaining: 825ms\n",
      "236:\tlearn: 0.2004123\ttotal: 256ms\tremaining: 823ms\n",
      "237:\tlearn: 0.2000389\ttotal: 256ms\tremaining: 821ms\n",
      "238:\tlearn: 0.1995661\ttotal: 257ms\tremaining: 819ms\n",
      "239:\tlearn: 0.1991170\ttotal: 258ms\tremaining: 817ms\n",
      "240:\tlearn: 0.1986557\ttotal: 259ms\tremaining: 816ms\n",
      "241:\tlearn: 0.1979237\ttotal: 260ms\tremaining: 814ms\n",
      "242:\tlearn: 0.1974182\ttotal: 261ms\tremaining: 812ms\n",
      "243:\tlearn: 0.1972081\ttotal: 261ms\tremaining: 810ms\n",
      "244:\tlearn: 0.1965853\ttotal: 262ms\tremaining: 808ms\n",
      "245:\tlearn: 0.1962371\ttotal: 263ms\tremaining: 806ms\n",
      "246:\tlearn: 0.1958501\ttotal: 264ms\tremaining: 804ms\n",
      "247:\tlearn: 0.1955705\ttotal: 265ms\tremaining: 803ms\n",
      "248:\tlearn: 0.1952023\ttotal: 265ms\tremaining: 800ms\n",
      "249:\tlearn: 0.1949727\ttotal: 266ms\tremaining: 799ms\n",
      "250:\tlearn: 0.1943421\ttotal: 267ms\tremaining: 797ms\n",
      "251:\tlearn: 0.1935258\ttotal: 268ms\tremaining: 795ms\n",
      "252:\tlearn: 0.1932279\ttotal: 269ms\tremaining: 794ms\n",
      "253:\tlearn: 0.1926354\ttotal: 270ms\tremaining: 792ms\n",
      "254:\tlearn: 0.1920711\ttotal: 271ms\tremaining: 791ms\n",
      "255:\tlearn: 0.1912101\ttotal: 272ms\tremaining: 789ms\n",
      "256:\tlearn: 0.1906481\ttotal: 272ms\tremaining: 787ms\n",
      "257:\tlearn: 0.1902656\ttotal: 273ms\tremaining: 786ms\n",
      "258:\tlearn: 0.1898626\ttotal: 274ms\tremaining: 784ms\n",
      "259:\tlearn: 0.1896637\ttotal: 275ms\tremaining: 782ms\n",
      "260:\tlearn: 0.1890747\ttotal: 276ms\tremaining: 780ms\n",
      "261:\tlearn: 0.1884619\ttotal: 276ms\tremaining: 778ms\n",
      "262:\tlearn: 0.1882690\ttotal: 277ms\tremaining: 776ms\n",
      "263:\tlearn: 0.1877795\ttotal: 278ms\tremaining: 775ms\n",
      "264:\tlearn: 0.1874151\ttotal: 279ms\tremaining: 773ms\n",
      "265:\tlearn: 0.1867945\ttotal: 279ms\tremaining: 771ms\n",
      "266:\tlearn: 0.1862036\ttotal: 280ms\tremaining: 769ms\n",
      "267:\tlearn: 0.1856954\ttotal: 281ms\tremaining: 768ms\n",
      "268:\tlearn: 0.1853578\ttotal: 282ms\tremaining: 766ms\n",
      "269:\tlearn: 0.1848651\ttotal: 283ms\tremaining: 764ms\n",
      "270:\tlearn: 0.1843797\ttotal: 283ms\tremaining: 762ms\n",
      "271:\tlearn: 0.1842340\ttotal: 284ms\tremaining: 760ms\n",
      "272:\tlearn: 0.1835674\ttotal: 285ms\tremaining: 759ms\n",
      "273:\tlearn: 0.1830737\ttotal: 286ms\tremaining: 757ms\n",
      "274:\tlearn: 0.1826784\ttotal: 286ms\tremaining: 755ms\n",
      "275:\tlearn: 0.1821813\ttotal: 287ms\tremaining: 754ms\n",
      "276:\tlearn: 0.1819051\ttotal: 288ms\tremaining: 752ms\n",
      "277:\tlearn: 0.1816018\ttotal: 289ms\tremaining: 751ms\n",
      "278:\tlearn: 0.1812478\ttotal: 290ms\tremaining: 749ms\n",
      "279:\tlearn: 0.1806396\ttotal: 291ms\tremaining: 747ms\n",
      "280:\tlearn: 0.1801928\ttotal: 291ms\tremaining: 746ms\n",
      "281:\tlearn: 0.1798926\ttotal: 292ms\tremaining: 744ms\n",
      "282:\tlearn: 0.1793257\ttotal: 293ms\tremaining: 742ms\n",
      "283:\tlearn: 0.1790156\ttotal: 294ms\tremaining: 741ms\n",
      "284:\tlearn: 0.1787500\ttotal: 295ms\tremaining: 739ms\n",
      "285:\tlearn: 0.1782235\ttotal: 296ms\tremaining: 738ms\n",
      "286:\tlearn: 0.1780500\ttotal: 297ms\tremaining: 737ms\n",
      "287:\tlearn: 0.1775579\ttotal: 297ms\tremaining: 735ms\n",
      "288:\tlearn: 0.1771871\ttotal: 298ms\tremaining: 734ms\n"
     ]
    },
    {
     "name": "stdout",
     "output_type": "stream",
     "text": [
      "289:\tlearn: 0.1767473\ttotal: 299ms\tremaining: 733ms\n",
      "290:\tlearn: 0.1765195\ttotal: 301ms\tremaining: 732ms\n",
      "291:\tlearn: 0.1763700\ttotal: 302ms\tremaining: 731ms\n",
      "292:\tlearn: 0.1757422\ttotal: 303ms\tremaining: 730ms\n",
      "293:\tlearn: 0.1753212\ttotal: 303ms\tremaining: 729ms\n",
      "294:\tlearn: 0.1750976\ttotal: 305ms\tremaining: 728ms\n",
      "295:\tlearn: 0.1748088\ttotal: 306ms\tremaining: 727ms\n",
      "296:\tlearn: 0.1742969\ttotal: 307ms\tremaining: 726ms\n",
      "297:\tlearn: 0.1738781\ttotal: 307ms\tremaining: 724ms\n",
      "298:\tlearn: 0.1736492\ttotal: 308ms\tremaining: 723ms\n",
      "299:\tlearn: 0.1733346\ttotal: 309ms\tremaining: 721ms\n",
      "300:\tlearn: 0.1731212\ttotal: 310ms\tremaining: 719ms\n",
      "301:\tlearn: 0.1729645\ttotal: 310ms\tremaining: 717ms\n",
      "302:\tlearn: 0.1724992\ttotal: 311ms\tremaining: 715ms\n",
      "303:\tlearn: 0.1720140\ttotal: 312ms\tremaining: 714ms\n",
      "304:\tlearn: 0.1717839\ttotal: 312ms\tremaining: 712ms\n",
      "305:\tlearn: 0.1714614\ttotal: 313ms\tremaining: 710ms\n",
      "306:\tlearn: 0.1712598\ttotal: 314ms\tremaining: 708ms\n",
      "307:\tlearn: 0.1708588\ttotal: 314ms\tremaining: 707ms\n",
      "308:\tlearn: 0.1705626\ttotal: 315ms\tremaining: 705ms\n",
      "309:\tlearn: 0.1703287\ttotal: 316ms\tremaining: 704ms\n",
      "310:\tlearn: 0.1698545\ttotal: 317ms\tremaining: 703ms\n",
      "311:\tlearn: 0.1697323\ttotal: 318ms\tremaining: 702ms\n",
      "312:\tlearn: 0.1692375\ttotal: 319ms\tremaining: 701ms\n",
      "313:\tlearn: 0.1690347\ttotal: 320ms\tremaining: 699ms\n",
      "314:\tlearn: 0.1686912\ttotal: 321ms\tremaining: 698ms\n",
      "315:\tlearn: 0.1685434\ttotal: 322ms\tremaining: 697ms\n",
      "316:\tlearn: 0.1682142\ttotal: 323ms\tremaining: 696ms\n",
      "317:\tlearn: 0.1677988\ttotal: 324ms\tremaining: 695ms\n",
      "318:\tlearn: 0.1675747\ttotal: 325ms\tremaining: 693ms\n",
      "319:\tlearn: 0.1674469\ttotal: 326ms\tremaining: 692ms\n",
      "320:\tlearn: 0.1672035\ttotal: 326ms\tremaining: 691ms\n",
      "321:\tlearn: 0.1668257\ttotal: 327ms\tremaining: 689ms\n",
      "322:\tlearn: 0.1665780\ttotal: 328ms\tremaining: 688ms\n",
      "323:\tlearn: 0.1661611\ttotal: 329ms\tremaining: 686ms\n",
      "324:\tlearn: 0.1659875\ttotal: 330ms\tremaining: 686ms\n",
      "325:\tlearn: 0.1655390\ttotal: 331ms\tremaining: 685ms\n",
      "326:\tlearn: 0.1652270\ttotal: 332ms\tremaining: 683ms\n",
      "327:\tlearn: 0.1649418\ttotal: 333ms\tremaining: 682ms\n",
      "328:\tlearn: 0.1646239\ttotal: 334ms\tremaining: 681ms\n",
      "329:\tlearn: 0.1645094\ttotal: 335ms\tremaining: 680ms\n",
      "330:\tlearn: 0.1639718\ttotal: 335ms\tremaining: 678ms\n",
      "331:\tlearn: 0.1637598\ttotal: 336ms\tremaining: 677ms\n",
      "332:\tlearn: 0.1634016\ttotal: 337ms\tremaining: 675ms\n",
      "333:\tlearn: 0.1630236\ttotal: 338ms\tremaining: 674ms\n",
      "334:\tlearn: 0.1625597\ttotal: 339ms\tremaining: 673ms\n",
      "335:\tlearn: 0.1621500\ttotal: 339ms\tremaining: 671ms\n",
      "336:\tlearn: 0.1618490\ttotal: 340ms\tremaining: 669ms\n",
      "337:\tlearn: 0.1615458\ttotal: 341ms\tremaining: 668ms\n",
      "338:\tlearn: 0.1611230\ttotal: 342ms\tremaining: 666ms\n",
      "339:\tlearn: 0.1608651\ttotal: 343ms\tremaining: 665ms\n",
      "340:\tlearn: 0.1607331\ttotal: 343ms\tremaining: 664ms\n",
      "341:\tlearn: 0.1602658\ttotal: 344ms\tremaining: 662ms\n",
      "342:\tlearn: 0.1597656\ttotal: 345ms\tremaining: 661ms\n",
      "343:\tlearn: 0.1594365\ttotal: 346ms\tremaining: 660ms\n",
      "344:\tlearn: 0.1591250\ttotal: 347ms\tremaining: 659ms\n",
      "345:\tlearn: 0.1589572\ttotal: 348ms\tremaining: 657ms\n",
      "346:\tlearn: 0.1585656\ttotal: 349ms\tremaining: 656ms\n",
      "347:\tlearn: 0.1581527\ttotal: 349ms\tremaining: 655ms\n",
      "348:\tlearn: 0.1580526\ttotal: 350ms\tremaining: 653ms\n",
      "349:\tlearn: 0.1579387\ttotal: 351ms\tremaining: 652ms\n",
      "350:\tlearn: 0.1577421\ttotal: 352ms\tremaining: 651ms\n",
      "351:\tlearn: 0.1574253\ttotal: 353ms\tremaining: 649ms\n",
      "352:\tlearn: 0.1570040\ttotal: 353ms\tremaining: 648ms\n",
      "353:\tlearn: 0.1567551\ttotal: 354ms\tremaining: 646ms\n",
      "354:\tlearn: 0.1563959\ttotal: 355ms\tremaining: 645ms\n",
      "355:\tlearn: 0.1558966\ttotal: 356ms\tremaining: 644ms\n",
      "356:\tlearn: 0.1557594\ttotal: 357ms\tremaining: 643ms\n",
      "357:\tlearn: 0.1553355\ttotal: 358ms\tremaining: 641ms\n",
      "358:\tlearn: 0.1549291\ttotal: 358ms\tremaining: 640ms\n",
      "359:\tlearn: 0.1545475\ttotal: 359ms\tremaining: 638ms\n",
      "360:\tlearn: 0.1540691\ttotal: 360ms\tremaining: 637ms\n",
      "361:\tlearn: 0.1536783\ttotal: 361ms\tremaining: 636ms\n",
      "362:\tlearn: 0.1532808\ttotal: 362ms\tremaining: 635ms\n",
      "363:\tlearn: 0.1531239\ttotal: 363ms\tremaining: 633ms\n",
      "364:\tlearn: 0.1528757\ttotal: 363ms\tremaining: 632ms\n",
      "365:\tlearn: 0.1524315\ttotal: 364ms\tremaining: 631ms\n",
      "366:\tlearn: 0.1522296\ttotal: 365ms\tremaining: 629ms\n",
      "367:\tlearn: 0.1519197\ttotal: 366ms\tremaining: 628ms\n",
      "368:\tlearn: 0.1514166\ttotal: 366ms\tremaining: 626ms\n",
      "369:\tlearn: 0.1510183\ttotal: 367ms\tremaining: 625ms\n",
      "370:\tlearn: 0.1507873\ttotal: 368ms\tremaining: 624ms\n",
      "371:\tlearn: 0.1504887\ttotal: 369ms\tremaining: 623ms\n",
      "372:\tlearn: 0.1502905\ttotal: 370ms\tremaining: 621ms\n",
      "373:\tlearn: 0.1499796\ttotal: 370ms\tremaining: 620ms\n",
      "374:\tlearn: 0.1497817\ttotal: 371ms\tremaining: 619ms\n",
      "375:\tlearn: 0.1494662\ttotal: 372ms\tremaining: 618ms\n",
      "376:\tlearn: 0.1493251\ttotal: 373ms\tremaining: 616ms\n",
      "377:\tlearn: 0.1491056\ttotal: 374ms\tremaining: 615ms\n",
      "378:\tlearn: 0.1490259\ttotal: 375ms\tremaining: 614ms\n",
      "379:\tlearn: 0.1485261\ttotal: 375ms\tremaining: 612ms\n",
      "380:\tlearn: 0.1481124\ttotal: 376ms\tremaining: 611ms\n",
      "381:\tlearn: 0.1480193\ttotal: 377ms\tremaining: 609ms\n",
      "382:\tlearn: 0.1475946\ttotal: 378ms\tremaining: 608ms\n",
      "383:\tlearn: 0.1474364\ttotal: 379ms\tremaining: 607ms\n",
      "384:\tlearn: 0.1471933\ttotal: 379ms\tremaining: 606ms\n"
     ]
    },
    {
     "name": "stdout",
     "output_type": "stream",
     "text": [
      "385:\tlearn: 0.1470720\ttotal: 380ms\tremaining: 605ms\n",
      "386:\tlearn: 0.1469687\ttotal: 381ms\tremaining: 604ms\n",
      "387:\tlearn: 0.1466246\ttotal: 382ms\tremaining: 603ms\n",
      "388:\tlearn: 0.1463131\ttotal: 383ms\tremaining: 602ms\n",
      "389:\tlearn: 0.1459705\ttotal: 384ms\tremaining: 600ms\n",
      "390:\tlearn: 0.1456517\ttotal: 385ms\tremaining: 599ms\n",
      "391:\tlearn: 0.1453550\ttotal: 385ms\tremaining: 598ms\n",
      "392:\tlearn: 0.1450646\ttotal: 386ms\tremaining: 597ms\n",
      "393:\tlearn: 0.1446368\ttotal: 387ms\tremaining: 595ms\n",
      "394:\tlearn: 0.1443303\ttotal: 388ms\tremaining: 594ms\n",
      "395:\tlearn: 0.1439982\ttotal: 389ms\tremaining: 593ms\n",
      "396:\tlearn: 0.1437090\ttotal: 390ms\tremaining: 592ms\n",
      "397:\tlearn: 0.1433162\ttotal: 390ms\tremaining: 590ms\n",
      "398:\tlearn: 0.1430103\ttotal: 391ms\tremaining: 589ms\n",
      "399:\tlearn: 0.1426218\ttotal: 392ms\tremaining: 588ms\n",
      "400:\tlearn: 0.1421942\ttotal: 393ms\tremaining: 587ms\n",
      "401:\tlearn: 0.1417549\ttotal: 393ms\tremaining: 585ms\n",
      "402:\tlearn: 0.1415080\ttotal: 394ms\tremaining: 584ms\n",
      "403:\tlearn: 0.1414014\ttotal: 395ms\tremaining: 583ms\n",
      "404:\tlearn: 0.1412307\ttotal: 396ms\tremaining: 582ms\n",
      "405:\tlearn: 0.1408837\ttotal: 397ms\tremaining: 580ms\n",
      "406:\tlearn: 0.1406535\ttotal: 397ms\tremaining: 579ms\n",
      "407:\tlearn: 0.1402885\ttotal: 398ms\tremaining: 578ms\n",
      "408:\tlearn: 0.1400065\ttotal: 399ms\tremaining: 576ms\n",
      "409:\tlearn: 0.1399252\ttotal: 400ms\tremaining: 575ms\n",
      "410:\tlearn: 0.1395306\ttotal: 401ms\tremaining: 574ms\n",
      "411:\tlearn: 0.1393070\ttotal: 401ms\tremaining: 573ms\n",
      "412:\tlearn: 0.1391455\ttotal: 402ms\tremaining: 572ms\n",
      "413:\tlearn: 0.1387522\ttotal: 403ms\tremaining: 570ms\n",
      "414:\tlearn: 0.1385433\ttotal: 404ms\tremaining: 569ms\n",
      "415:\tlearn: 0.1381906\ttotal: 405ms\tremaining: 568ms\n",
      "416:\tlearn: 0.1379145\ttotal: 406ms\tremaining: 567ms\n",
      "417:\tlearn: 0.1376045\ttotal: 406ms\tremaining: 566ms\n",
      "418:\tlearn: 0.1372432\ttotal: 408ms\tremaining: 566ms\n",
      "419:\tlearn: 0.1371193\ttotal: 409ms\tremaining: 565ms\n",
      "420:\tlearn: 0.1368091\ttotal: 410ms\tremaining: 563ms\n",
      "421:\tlearn: 0.1366680\ttotal: 411ms\tremaining: 562ms\n",
      "422:\tlearn: 0.1364294\ttotal: 411ms\tremaining: 561ms\n",
      "423:\tlearn: 0.1362587\ttotal: 412ms\tremaining: 560ms\n",
      "424:\tlearn: 0.1359455\ttotal: 413ms\tremaining: 559ms\n",
      "425:\tlearn: 0.1356612\ttotal: 414ms\tremaining: 557ms\n",
      "426:\tlearn: 0.1353674\ttotal: 414ms\tremaining: 556ms\n",
      "427:\tlearn: 0.1352915\ttotal: 415ms\tremaining: 555ms\n",
      "428:\tlearn: 0.1349099\ttotal: 416ms\tremaining: 554ms\n",
      "429:\tlearn: 0.1348078\ttotal: 417ms\tremaining: 553ms\n",
      "430:\tlearn: 0.1347532\ttotal: 418ms\tremaining: 552ms\n",
      "431:\tlearn: 0.1342754\ttotal: 419ms\tremaining: 550ms\n",
      "432:\tlearn: 0.1338240\ttotal: 419ms\tremaining: 549ms\n",
      "433:\tlearn: 0.1337483\ttotal: 420ms\tremaining: 548ms\n",
      "434:\tlearn: 0.1335070\ttotal: 421ms\tremaining: 547ms\n",
      "435:\tlearn: 0.1331415\ttotal: 422ms\tremaining: 546ms\n",
      "436:\tlearn: 0.1328543\ttotal: 423ms\tremaining: 545ms\n",
      "437:\tlearn: 0.1327337\ttotal: 424ms\tremaining: 543ms\n",
      "438:\tlearn: 0.1323833\ttotal: 424ms\tremaining: 542ms\n",
      "439:\tlearn: 0.1321437\ttotal: 425ms\tremaining: 541ms\n",
      "440:\tlearn: 0.1319039\ttotal: 426ms\tremaining: 540ms\n",
      "441:\tlearn: 0.1318223\ttotal: 427ms\tremaining: 539ms\n",
      "442:\tlearn: 0.1316197\ttotal: 428ms\tremaining: 538ms\n",
      "443:\tlearn: 0.1312657\ttotal: 428ms\tremaining: 536ms\n",
      "444:\tlearn: 0.1309125\ttotal: 429ms\tremaining: 535ms\n",
      "445:\tlearn: 0.1306285\ttotal: 430ms\tremaining: 534ms\n",
      "446:\tlearn: 0.1304938\ttotal: 431ms\tremaining: 533ms\n",
      "447:\tlearn: 0.1304449\ttotal: 432ms\tremaining: 532ms\n",
      "448:\tlearn: 0.1302863\ttotal: 433ms\tremaining: 531ms\n",
      "449:\tlearn: 0.1299348\ttotal: 433ms\tremaining: 530ms\n",
      "450:\tlearn: 0.1296596\ttotal: 434ms\tremaining: 529ms\n",
      "451:\tlearn: 0.1296185\ttotal: 435ms\tremaining: 528ms\n",
      "452:\tlearn: 0.1293401\ttotal: 436ms\tremaining: 527ms\n",
      "453:\tlearn: 0.1289639\ttotal: 437ms\tremaining: 526ms\n",
      "454:\tlearn: 0.1285873\ttotal: 438ms\tremaining: 524ms\n",
      "455:\tlearn: 0.1283927\ttotal: 439ms\tremaining: 523ms\n",
      "456:\tlearn: 0.1282168\ttotal: 440ms\tremaining: 522ms\n",
      "457:\tlearn: 0.1281787\ttotal: 441ms\tremaining: 522ms\n",
      "458:\tlearn: 0.1279527\ttotal: 442ms\tremaining: 521ms\n",
      "459:\tlearn: 0.1278403\ttotal: 443ms\tremaining: 520ms\n",
      "460:\tlearn: 0.1277933\ttotal: 444ms\tremaining: 519ms\n",
      "461:\tlearn: 0.1275643\ttotal: 445ms\tremaining: 518ms\n",
      "462:\tlearn: 0.1275072\ttotal: 446ms\tremaining: 517ms\n",
      "463:\tlearn: 0.1272812\ttotal: 446ms\tremaining: 516ms\n",
      "464:\tlearn: 0.1269665\ttotal: 447ms\tremaining: 515ms\n",
      "465:\tlearn: 0.1268486\ttotal: 448ms\tremaining: 513ms\n",
      "466:\tlearn: 0.1265892\ttotal: 449ms\tremaining: 512ms\n",
      "467:\tlearn: 0.1265302\ttotal: 450ms\tremaining: 511ms\n",
      "468:\tlearn: 0.1264967\ttotal: 450ms\tremaining: 510ms\n",
      "469:\tlearn: 0.1264533\ttotal: 451ms\tremaining: 509ms\n",
      "470:\tlearn: 0.1263077\ttotal: 452ms\tremaining: 508ms\n",
      "471:\tlearn: 0.1260219\ttotal: 453ms\tremaining: 507ms\n",
      "472:\tlearn: 0.1259920\ttotal: 454ms\tremaining: 506ms\n",
      "473:\tlearn: 0.1259659\ttotal: 455ms\tremaining: 504ms\n",
      "474:\tlearn: 0.1256406\ttotal: 455ms\tremaining: 503ms\n",
      "475:\tlearn: 0.1255790\ttotal: 456ms\tremaining: 502ms\n",
      "476:\tlearn: 0.1253643\ttotal: 457ms\tremaining: 501ms\n",
      "477:\tlearn: 0.1252653\ttotal: 458ms\tremaining: 500ms\n",
      "478:\tlearn: 0.1252320\ttotal: 459ms\tremaining: 499ms\n",
      "479:\tlearn: 0.1249667\ttotal: 459ms\tremaining: 498ms\n",
      "480:\tlearn: 0.1247792\ttotal: 460ms\tremaining: 497ms\n",
      "481:\tlearn: 0.1244101\ttotal: 461ms\tremaining: 495ms\n",
      "482:\tlearn: 0.1241152\ttotal: 462ms\tremaining: 494ms\n",
      "483:\tlearn: 0.1238303\ttotal: 463ms\tremaining: 494ms\n",
      "484:\tlearn: 0.1237936\ttotal: 464ms\tremaining: 492ms\n",
      "485:\tlearn: 0.1234643\ttotal: 465ms\tremaining: 491ms\n",
      "486:\tlearn: 0.1234451\ttotal: 465ms\tremaining: 490ms\n",
      "487:\tlearn: 0.1233706\ttotal: 466ms\tremaining: 489ms\n",
      "488:\tlearn: 0.1230331\ttotal: 467ms\tremaining: 488ms\n",
      "489:\tlearn: 0.1228014\ttotal: 468ms\tremaining: 487ms\n",
      "490:\tlearn: 0.1225389\ttotal: 469ms\tremaining: 486ms\n",
      "491:\tlearn: 0.1225213\ttotal: 470ms\tremaining: 485ms\n",
      "492:\tlearn: 0.1222317\ttotal: 470ms\tremaining: 484ms\n",
      "493:\tlearn: 0.1219565\ttotal: 471ms\tremaining: 483ms\n",
      "494:\tlearn: 0.1216830\ttotal: 472ms\tremaining: 482ms\n",
      "495:\tlearn: 0.1214747\ttotal: 473ms\tremaining: 480ms\n",
      "496:\tlearn: 0.1214004\ttotal: 474ms\tremaining: 479ms\n",
      "497:\tlearn: 0.1210034\ttotal: 475ms\tremaining: 478ms\n",
      "498:\tlearn: 0.1208550\ttotal: 475ms\tremaining: 477ms\n",
      "499:\tlearn: 0.1207298\ttotal: 476ms\tremaining: 476ms\n",
      "500:\tlearn: 0.1206419\ttotal: 477ms\tremaining: 475ms\n",
      "501:\tlearn: 0.1204078\ttotal: 478ms\tremaining: 474ms\n",
      "502:\tlearn: 0.1202399\ttotal: 479ms\tremaining: 473ms\n",
      "503:\tlearn: 0.1199682\ttotal: 480ms\tremaining: 472ms\n",
      "504:\tlearn: 0.1198271\ttotal: 480ms\tremaining: 471ms\n",
      "505:\tlearn: 0.1197666\ttotal: 481ms\tremaining: 470ms\n",
      "506:\tlearn: 0.1194741\ttotal: 482ms\tremaining: 469ms\n",
      "507:\tlearn: 0.1191690\ttotal: 483ms\tremaining: 468ms\n",
      "508:\tlearn: 0.1190588\ttotal: 484ms\tremaining: 467ms\n",
      "509:\tlearn: 0.1188203\ttotal: 484ms\tremaining: 465ms\n",
      "510:\tlearn: 0.1184916\ttotal: 485ms\tremaining: 464ms\n",
      "511:\tlearn: 0.1182580\ttotal: 486ms\tremaining: 463ms\n",
      "512:\tlearn: 0.1180060\ttotal: 487ms\tremaining: 462ms\n",
      "513:\tlearn: 0.1179101\ttotal: 488ms\tremaining: 461ms\n",
      "514:\tlearn: 0.1177299\ttotal: 489ms\tremaining: 460ms\n"
     ]
    },
    {
     "name": "stdout",
     "output_type": "stream",
     "text": [
      "515:\tlearn: 0.1175688\ttotal: 490ms\tremaining: 459ms\n",
      "516:\tlearn: 0.1173263\ttotal: 490ms\tremaining: 458ms\n",
      "517:\tlearn: 0.1171763\ttotal: 491ms\tremaining: 457ms\n",
      "518:\tlearn: 0.1169435\ttotal: 492ms\tremaining: 456ms\n",
      "519:\tlearn: 0.1166089\ttotal: 493ms\tremaining: 455ms\n",
      "520:\tlearn: 0.1163020\ttotal: 494ms\tremaining: 454ms\n",
      "521:\tlearn: 0.1159645\ttotal: 494ms\tremaining: 453ms\n",
      "522:\tlearn: 0.1158978\ttotal: 495ms\tremaining: 452ms\n",
      "523:\tlearn: 0.1156704\ttotal: 496ms\tremaining: 451ms\n",
      "524:\tlearn: 0.1154739\ttotal: 497ms\tremaining: 450ms\n",
      "525:\tlearn: 0.1151824\ttotal: 498ms\tremaining: 449ms\n",
      "526:\tlearn: 0.1150036\ttotal: 498ms\tremaining: 447ms\n",
      "527:\tlearn: 0.1148244\ttotal: 499ms\tremaining: 446ms\n",
      "528:\tlearn: 0.1148077\ttotal: 500ms\tremaining: 445ms\n",
      "529:\tlearn: 0.1147827\ttotal: 501ms\tremaining: 444ms\n",
      "530:\tlearn: 0.1145763\ttotal: 502ms\tremaining: 443ms\n",
      "531:\tlearn: 0.1143112\ttotal: 503ms\tremaining: 442ms\n",
      "532:\tlearn: 0.1141373\ttotal: 503ms\tremaining: 441ms\n",
      "533:\tlearn: 0.1140144\ttotal: 504ms\tremaining: 440ms\n",
      "534:\tlearn: 0.1138327\ttotal: 505ms\tremaining: 439ms\n",
      "535:\tlearn: 0.1135394\ttotal: 506ms\tremaining: 438ms\n",
      "536:\tlearn: 0.1134616\ttotal: 507ms\tremaining: 437ms\n",
      "537:\tlearn: 0.1133371\ttotal: 508ms\tremaining: 436ms\n",
      "538:\tlearn: 0.1131013\ttotal: 508ms\tremaining: 435ms\n",
      "539:\tlearn: 0.1128974\ttotal: 509ms\tremaining: 434ms\n",
      "540:\tlearn: 0.1126572\ttotal: 510ms\tremaining: 433ms\n",
      "541:\tlearn: 0.1126106\ttotal: 511ms\tremaining: 432ms\n",
      "542:\tlearn: 0.1124702\ttotal: 511ms\tremaining: 430ms\n",
      "543:\tlearn: 0.1122183\ttotal: 512ms\tremaining: 429ms\n",
      "544:\tlearn: 0.1119862\ttotal: 513ms\tremaining: 428ms\n",
      "545:\tlearn: 0.1117926\ttotal: 514ms\tremaining: 427ms\n",
      "546:\tlearn: 0.1114685\ttotal: 515ms\tremaining: 426ms\n",
      "547:\tlearn: 0.1112877\ttotal: 516ms\tremaining: 425ms\n",
      "548:\tlearn: 0.1110399\ttotal: 516ms\tremaining: 424ms\n",
      "549:\tlearn: 0.1108811\ttotal: 517ms\tremaining: 423ms\n",
      "550:\tlearn: 0.1106844\ttotal: 518ms\tremaining: 422ms\n",
      "551:\tlearn: 0.1103380\ttotal: 519ms\tremaining: 421ms\n",
      "552:\tlearn: 0.1103233\ttotal: 520ms\tremaining: 420ms\n",
      "553:\tlearn: 0.1101414\ttotal: 520ms\tremaining: 419ms\n",
      "554:\tlearn: 0.1099853\ttotal: 521ms\tremaining: 418ms\n",
      "555:\tlearn: 0.1098711\ttotal: 522ms\tremaining: 417ms\n",
      "556:\tlearn: 0.1097225\ttotal: 523ms\tremaining: 416ms\n",
      "557:\tlearn: 0.1096298\ttotal: 524ms\tremaining: 415ms\n",
      "558:\tlearn: 0.1094622\ttotal: 525ms\tremaining: 414ms\n",
      "559:\tlearn: 0.1093062\ttotal: 526ms\tremaining: 413ms\n",
      "560:\tlearn: 0.1091170\ttotal: 527ms\tremaining: 412ms\n",
      "561:\tlearn: 0.1087837\ttotal: 527ms\tremaining: 411ms\n",
      "562:\tlearn: 0.1084666\ttotal: 528ms\tremaining: 410ms\n",
      "563:\tlearn: 0.1083601\ttotal: 529ms\tremaining: 409ms\n",
      "564:\tlearn: 0.1081887\ttotal: 530ms\tremaining: 408ms\n",
      "565:\tlearn: 0.1079249\ttotal: 531ms\tremaining: 407ms\n",
      "566:\tlearn: 0.1079014\ttotal: 532ms\tremaining: 406ms\n",
      "567:\tlearn: 0.1078780\ttotal: 532ms\tremaining: 405ms\n",
      "568:\tlearn: 0.1076503\ttotal: 533ms\tremaining: 404ms\n",
      "569:\tlearn: 0.1074622\ttotal: 534ms\tremaining: 403ms\n",
      "570:\tlearn: 0.1073197\ttotal: 535ms\tremaining: 402ms\n",
      "571:\tlearn: 0.1071378\ttotal: 536ms\tremaining: 401ms\n",
      "572:\tlearn: 0.1069023\ttotal: 537ms\tremaining: 400ms\n",
      "573:\tlearn: 0.1066063\ttotal: 538ms\tremaining: 399ms\n",
      "574:\tlearn: 0.1064130\ttotal: 538ms\tremaining: 398ms\n",
      "575:\tlearn: 0.1060867\ttotal: 539ms\tremaining: 397ms\n",
      "576:\tlearn: 0.1058759\ttotal: 540ms\tremaining: 396ms\n",
      "577:\tlearn: 0.1057376\ttotal: 541ms\tremaining: 395ms\n",
      "578:\tlearn: 0.1056473\ttotal: 542ms\tremaining: 394ms\n",
      "579:\tlearn: 0.1055619\ttotal: 543ms\tremaining: 393ms\n",
      "580:\tlearn: 0.1053554\ttotal: 543ms\tremaining: 392ms\n",
      "581:\tlearn: 0.1051384\ttotal: 544ms\tremaining: 391ms\n",
      "582:\tlearn: 0.1049455\ttotal: 545ms\tremaining: 390ms\n",
      "583:\tlearn: 0.1049018\ttotal: 546ms\tremaining: 389ms\n",
      "584:\tlearn: 0.1048905\ttotal: 547ms\tremaining: 388ms\n",
      "585:\tlearn: 0.1047518\ttotal: 548ms\tremaining: 387ms\n",
      "586:\tlearn: 0.1046296\ttotal: 548ms\tremaining: 386ms\n",
      "587:\tlearn: 0.1043938\ttotal: 549ms\tremaining: 385ms\n",
      "588:\tlearn: 0.1041862\ttotal: 550ms\tremaining: 384ms\n",
      "589:\tlearn: 0.1040856\ttotal: 551ms\tremaining: 383ms\n",
      "590:\tlearn: 0.1039485\ttotal: 552ms\tremaining: 382ms\n",
      "591:\tlearn: 0.1039369\ttotal: 552ms\tremaining: 381ms\n",
      "592:\tlearn: 0.1037164\ttotal: 553ms\tremaining: 380ms\n",
      "593:\tlearn: 0.1036671\ttotal: 554ms\tremaining: 379ms\n",
      "594:\tlearn: 0.1034374\ttotal: 555ms\tremaining: 378ms\n",
      "595:\tlearn: 0.1033407\ttotal: 555ms\tremaining: 376ms\n",
      "596:\tlearn: 0.1031424\ttotal: 556ms\tremaining: 375ms\n",
      "597:\tlearn: 0.1029694\ttotal: 557ms\tremaining: 375ms\n",
      "598:\tlearn: 0.1027741\ttotal: 558ms\tremaining: 374ms\n",
      "599:\tlearn: 0.1025322\ttotal: 559ms\tremaining: 373ms\n",
      "600:\tlearn: 0.1022840\ttotal: 560ms\tremaining: 372ms\n",
      "601:\tlearn: 0.1022287\ttotal: 561ms\tremaining: 371ms\n",
      "602:\tlearn: 0.1020083\ttotal: 562ms\tremaining: 370ms\n",
      "603:\tlearn: 0.1018608\ttotal: 562ms\tremaining: 369ms\n",
      "604:\tlearn: 0.1018493\ttotal: 563ms\tremaining: 368ms\n",
      "605:\tlearn: 0.1018372\ttotal: 564ms\tremaining: 367ms\n",
      "606:\tlearn: 0.1016238\ttotal: 565ms\tremaining: 366ms\n",
      "607:\tlearn: 0.1015534\ttotal: 566ms\tremaining: 365ms\n",
      "608:\tlearn: 0.1013260\ttotal: 567ms\tremaining: 364ms\n",
      "609:\tlearn: 0.1011909\ttotal: 567ms\tremaining: 363ms\n",
      "610:\tlearn: 0.1010792\ttotal: 568ms\tremaining: 362ms\n",
      "611:\tlearn: 0.1008918\ttotal: 569ms\tremaining: 361ms\n",
      "612:\tlearn: 0.1006820\ttotal: 570ms\tremaining: 360ms\n"
     ]
    },
    {
     "name": "stdout",
     "output_type": "stream",
     "text": [
      "613:\tlearn: 0.1004835\ttotal: 571ms\tremaining: 359ms\n",
      "614:\tlearn: 0.1004435\ttotal: 572ms\tremaining: 358ms\n",
      "615:\tlearn: 0.1002458\ttotal: 573ms\tremaining: 357ms\n",
      "616:\tlearn: 0.1001055\ttotal: 573ms\tremaining: 356ms\n",
      "617:\tlearn: 0.0998690\ttotal: 574ms\tremaining: 355ms\n",
      "618:\tlearn: 0.0996916\ttotal: 575ms\tremaining: 354ms\n",
      "619:\tlearn: 0.0994613\ttotal: 576ms\tremaining: 353ms\n",
      "620:\tlearn: 0.0993444\ttotal: 576ms\tremaining: 352ms\n",
      "621:\tlearn: 0.0992556\ttotal: 577ms\tremaining: 351ms\n",
      "622:\tlearn: 0.0990059\ttotal: 578ms\tremaining: 350ms\n",
      "623:\tlearn: 0.0989544\ttotal: 579ms\tremaining: 349ms\n",
      "624:\tlearn: 0.0988795\ttotal: 580ms\tremaining: 348ms\n",
      "625:\tlearn: 0.0985965\ttotal: 580ms\tremaining: 347ms\n",
      "626:\tlearn: 0.0984510\ttotal: 581ms\tremaining: 346ms\n",
      "627:\tlearn: 0.0981922\ttotal: 582ms\tremaining: 345ms\n",
      "628:\tlearn: 0.0979766\ttotal: 583ms\tremaining: 344ms\n",
      "629:\tlearn: 0.0977969\ttotal: 584ms\tremaining: 343ms\n",
      "630:\tlearn: 0.0976730\ttotal: 584ms\tremaining: 342ms\n",
      "631:\tlearn: 0.0975571\ttotal: 585ms\tremaining: 341ms\n",
      "632:\tlearn: 0.0974107\ttotal: 586ms\tremaining: 340ms\n",
      "633:\tlearn: 0.0973104\ttotal: 587ms\tremaining: 339ms\n",
      "634:\tlearn: 0.0970767\ttotal: 588ms\tremaining: 338ms\n",
      "635:\tlearn: 0.0969267\ttotal: 588ms\tremaining: 337ms\n",
      "636:\tlearn: 0.0967258\ttotal: 589ms\tremaining: 336ms\n",
      "637:\tlearn: 0.0965325\ttotal: 590ms\tremaining: 335ms\n",
      "638:\tlearn: 0.0963683\ttotal: 591ms\tremaining: 334ms\n",
      "639:\tlearn: 0.0963269\ttotal: 592ms\tremaining: 333ms\n",
      "640:\tlearn: 0.0961889\ttotal: 592ms\tremaining: 332ms\n",
      "641:\tlearn: 0.0959965\ttotal: 593ms\tremaining: 331ms\n",
      "642:\tlearn: 0.0958058\ttotal: 594ms\tremaining: 330ms\n",
      "643:\tlearn: 0.0956199\ttotal: 595ms\tremaining: 329ms\n",
      "644:\tlearn: 0.0955421\ttotal: 596ms\tremaining: 328ms\n",
      "645:\tlearn: 0.0954404\ttotal: 596ms\tremaining: 327ms\n",
      "646:\tlearn: 0.0953285\ttotal: 597ms\tremaining: 326ms\n",
      "647:\tlearn: 0.0951237\ttotal: 598ms\tremaining: 325ms\n",
      "648:\tlearn: 0.0950126\ttotal: 599ms\tremaining: 324ms\n",
      "649:\tlearn: 0.0947741\ttotal: 600ms\tremaining: 323ms\n",
      "650:\tlearn: 0.0945587\ttotal: 601ms\tremaining: 322ms\n",
      "651:\tlearn: 0.0944690\ttotal: 601ms\tremaining: 321ms\n",
      "652:\tlearn: 0.0944311\ttotal: 602ms\tremaining: 320ms\n",
      "653:\tlearn: 0.0942494\ttotal: 603ms\tremaining: 319ms\n",
      "654:\tlearn: 0.0941106\ttotal: 604ms\tremaining: 318ms\n",
      "655:\tlearn: 0.0940245\ttotal: 605ms\tremaining: 317ms\n",
      "656:\tlearn: 0.0939404\ttotal: 606ms\tremaining: 316ms\n",
      "657:\tlearn: 0.0937831\ttotal: 607ms\tremaining: 315ms\n",
      "658:\tlearn: 0.0935956\ttotal: 607ms\tremaining: 314ms\n",
      "659:\tlearn: 0.0934910\ttotal: 608ms\tremaining: 313ms\n",
      "660:\tlearn: 0.0933366\ttotal: 609ms\tremaining: 312ms\n",
      "661:\tlearn: 0.0931482\ttotal: 610ms\tremaining: 311ms\n",
      "662:\tlearn: 0.0929451\ttotal: 611ms\tremaining: 310ms\n",
      "663:\tlearn: 0.0928303\ttotal: 612ms\tremaining: 309ms\n",
      "664:\tlearn: 0.0927496\ttotal: 613ms\tremaining: 309ms\n",
      "665:\tlearn: 0.0926317\ttotal: 613ms\tremaining: 308ms\n",
      "666:\tlearn: 0.0925075\ttotal: 614ms\tremaining: 307ms\n",
      "667:\tlearn: 0.0923534\ttotal: 615ms\tremaining: 306ms\n",
      "668:\tlearn: 0.0922984\ttotal: 616ms\tremaining: 305ms\n",
      "669:\tlearn: 0.0922578\ttotal: 617ms\tremaining: 304ms\n",
      "670:\tlearn: 0.0920862\ttotal: 618ms\tremaining: 303ms\n",
      "671:\tlearn: 0.0919750\ttotal: 618ms\tremaining: 302ms\n",
      "672:\tlearn: 0.0918005\ttotal: 619ms\tremaining: 301ms\n",
      "673:\tlearn: 0.0915423\ttotal: 620ms\tremaining: 300ms\n",
      "674:\tlearn: 0.0913843\ttotal: 621ms\tremaining: 299ms\n",
      "675:\tlearn: 0.0912196\ttotal: 622ms\tremaining: 298ms\n",
      "676:\tlearn: 0.0910128\ttotal: 622ms\tremaining: 297ms\n",
      "677:\tlearn: 0.0909716\ttotal: 623ms\tremaining: 296ms\n",
      "678:\tlearn: 0.0907707\ttotal: 624ms\tremaining: 295ms\n",
      "679:\tlearn: 0.0905750\ttotal: 625ms\tremaining: 294ms\n",
      "680:\tlearn: 0.0905313\ttotal: 626ms\tremaining: 293ms\n",
      "681:\tlearn: 0.0904018\ttotal: 627ms\tremaining: 292ms\n",
      "682:\tlearn: 0.0903748\ttotal: 627ms\tremaining: 291ms\n",
      "683:\tlearn: 0.0902853\ttotal: 628ms\tremaining: 290ms\n",
      "684:\tlearn: 0.0901117\ttotal: 629ms\tremaining: 289ms\n",
      "685:\tlearn: 0.0899646\ttotal: 630ms\tremaining: 288ms\n",
      "686:\tlearn: 0.0898187\ttotal: 631ms\tremaining: 287ms\n",
      "687:\tlearn: 0.0897384\ttotal: 632ms\tremaining: 286ms\n",
      "688:\tlearn: 0.0895648\ttotal: 632ms\tremaining: 285ms\n",
      "689:\tlearn: 0.0894570\ttotal: 633ms\tremaining: 284ms\n",
      "690:\tlearn: 0.0894162\ttotal: 634ms\tremaining: 283ms\n",
      "691:\tlearn: 0.0893420\ttotal: 635ms\tremaining: 282ms\n",
      "692:\tlearn: 0.0891228\ttotal: 635ms\tremaining: 281ms\n",
      "693:\tlearn: 0.0889150\ttotal: 636ms\tremaining: 280ms\n",
      "694:\tlearn: 0.0888231\ttotal: 637ms\tremaining: 280ms\n",
      "695:\tlearn: 0.0887853\ttotal: 638ms\tremaining: 279ms\n",
      "696:\tlearn: 0.0886306\ttotal: 639ms\tremaining: 278ms\n",
      "697:\tlearn: 0.0885781\ttotal: 639ms\tremaining: 277ms\n",
      "698:\tlearn: 0.0883782\ttotal: 640ms\tremaining: 276ms\n",
      "699:\tlearn: 0.0882881\ttotal: 641ms\tremaining: 275ms\n",
      "700:\tlearn: 0.0881975\ttotal: 642ms\tremaining: 274ms\n",
      "701:\tlearn: 0.0881555\ttotal: 642ms\tremaining: 273ms\n",
      "702:\tlearn: 0.0880040\ttotal: 643ms\tremaining: 272ms\n",
      "703:\tlearn: 0.0879794\ttotal: 644ms\tremaining: 271ms\n",
      "704:\tlearn: 0.0877487\ttotal: 645ms\tremaining: 270ms\n",
      "705:\tlearn: 0.0876151\ttotal: 646ms\tremaining: 269ms\n",
      "706:\tlearn: 0.0875218\ttotal: 647ms\tremaining: 268ms\n",
      "707:\tlearn: 0.0872564\ttotal: 647ms\tremaining: 267ms\n",
      "708:\tlearn: 0.0872241\ttotal: 648ms\tremaining: 266ms\n",
      "709:\tlearn: 0.0870822\ttotal: 649ms\tremaining: 265ms\n",
      "710:\tlearn: 0.0869390\ttotal: 650ms\tremaining: 264ms\n",
      "711:\tlearn: 0.0867693\ttotal: 651ms\tremaining: 263ms\n",
      "712:\tlearn: 0.0867469\ttotal: 652ms\tremaining: 262ms\n",
      "713:\tlearn: 0.0866702\ttotal: 653ms\tremaining: 261ms\n",
      "714:\tlearn: 0.0865117\ttotal: 654ms\tremaining: 261ms\n",
      "715:\tlearn: 0.0863608\ttotal: 654ms\tremaining: 260ms\n",
      "716:\tlearn: 0.0862417\ttotal: 655ms\tremaining: 259ms\n",
      "717:\tlearn: 0.0860821\ttotal: 656ms\tremaining: 258ms\n",
      "718:\tlearn: 0.0859807\ttotal: 657ms\tremaining: 257ms\n",
      "719:\tlearn: 0.0858602\ttotal: 658ms\tremaining: 256ms\n",
      "720:\tlearn: 0.0858254\ttotal: 659ms\tremaining: 255ms\n",
      "721:\tlearn: 0.0856952\ttotal: 659ms\tremaining: 254ms\n",
      "722:\tlearn: 0.0854820\ttotal: 660ms\tremaining: 253ms\n",
      "723:\tlearn: 0.0853629\ttotal: 661ms\tremaining: 252ms\n",
      "724:\tlearn: 0.0851853\ttotal: 662ms\tremaining: 251ms\n",
      "725:\tlearn: 0.0851173\ttotal: 662ms\tremaining: 250ms\n",
      "726:\tlearn: 0.0849707\ttotal: 663ms\tremaining: 249ms\n",
      "727:\tlearn: 0.0848020\ttotal: 664ms\tremaining: 248ms\n",
      "728:\tlearn: 0.0846756\ttotal: 665ms\tremaining: 247ms\n",
      "729:\tlearn: 0.0845734\ttotal: 666ms\tremaining: 246ms\n",
      "730:\tlearn: 0.0844618\ttotal: 667ms\tremaining: 245ms\n",
      "731:\tlearn: 0.0843373\ttotal: 667ms\tremaining: 244ms\n",
      "732:\tlearn: 0.0842201\ttotal: 668ms\tremaining: 243ms\n",
      "733:\tlearn: 0.0840817\ttotal: 669ms\tremaining: 243ms\n",
      "734:\tlearn: 0.0839665\ttotal: 670ms\tremaining: 242ms\n",
      "735:\tlearn: 0.0839489\ttotal: 671ms\tremaining: 241ms\n",
      "736:\tlearn: 0.0839355\ttotal: 672ms\tremaining: 240ms\n",
      "737:\tlearn: 0.0838435\ttotal: 673ms\tremaining: 239ms\n",
      "738:\tlearn: 0.0837110\ttotal: 673ms\tremaining: 238ms\n",
      "739:\tlearn: 0.0835924\ttotal: 674ms\tremaining: 237ms\n",
      "740:\tlearn: 0.0834387\ttotal: 675ms\tremaining: 236ms\n",
      "741:\tlearn: 0.0832701\ttotal: 676ms\tremaining: 235ms\n",
      "742:\tlearn: 0.0830923\ttotal: 677ms\tremaining: 234ms\n",
      "743:\tlearn: 0.0829011\ttotal: 678ms\tremaining: 233ms\n",
      "744:\tlearn: 0.0827892\ttotal: 679ms\tremaining: 232ms\n",
      "745:\tlearn: 0.0827153\ttotal: 680ms\tremaining: 231ms\n"
     ]
    },
    {
     "name": "stdout",
     "output_type": "stream",
     "text": [
      "746:\tlearn: 0.0826572\ttotal: 680ms\tremaining: 230ms\n",
      "747:\tlearn: 0.0825028\ttotal: 681ms\tremaining: 230ms\n",
      "748:\tlearn: 0.0823665\ttotal: 682ms\tremaining: 229ms\n",
      "749:\tlearn: 0.0822169\ttotal: 683ms\tremaining: 228ms\n",
      "750:\tlearn: 0.0821166\ttotal: 684ms\tremaining: 227ms\n",
      "751:\tlearn: 0.0820306\ttotal: 685ms\tremaining: 226ms\n",
      "752:\tlearn: 0.0819280\ttotal: 685ms\tremaining: 225ms\n",
      "753:\tlearn: 0.0818834\ttotal: 686ms\tremaining: 224ms\n",
      "754:\tlearn: 0.0817957\ttotal: 687ms\tremaining: 223ms\n",
      "755:\tlearn: 0.0817460\ttotal: 688ms\tremaining: 222ms\n",
      "756:\tlearn: 0.0815664\ttotal: 689ms\tremaining: 221ms\n",
      "757:\tlearn: 0.0814987\ttotal: 690ms\tremaining: 220ms\n",
      "758:\tlearn: 0.0813880\ttotal: 690ms\tremaining: 219ms\n",
      "759:\tlearn: 0.0811963\ttotal: 691ms\tremaining: 218ms\n",
      "760:\tlearn: 0.0811424\ttotal: 692ms\tremaining: 217ms\n",
      "761:\tlearn: 0.0810037\ttotal: 693ms\tremaining: 216ms\n",
      "762:\tlearn: 0.0809842\ttotal: 694ms\tremaining: 215ms\n",
      "763:\tlearn: 0.0809178\ttotal: 694ms\tremaining: 215ms\n",
      "764:\tlearn: 0.0807425\ttotal: 695ms\tremaining: 214ms\n",
      "765:\tlearn: 0.0806116\ttotal: 696ms\tremaining: 213ms\n",
      "766:\tlearn: 0.0803480\ttotal: 697ms\tremaining: 212ms\n",
      "767:\tlearn: 0.0801433\ttotal: 698ms\tremaining: 211ms\n",
      "768:\tlearn: 0.0800424\ttotal: 699ms\tremaining: 210ms\n",
      "769:\tlearn: 0.0799122\ttotal: 699ms\tremaining: 209ms\n",
      "770:\tlearn: 0.0797996\ttotal: 700ms\tremaining: 208ms\n",
      "771:\tlearn: 0.0796529\ttotal: 701ms\tremaining: 207ms\n",
      "772:\tlearn: 0.0795066\ttotal: 702ms\tremaining: 206ms\n",
      "773:\tlearn: 0.0794542\ttotal: 703ms\tremaining: 205ms\n",
      "774:\tlearn: 0.0794096\ttotal: 703ms\tremaining: 204ms\n",
      "775:\tlearn: 0.0793177\ttotal: 704ms\tremaining: 203ms\n",
      "776:\tlearn: 0.0791798\ttotal: 705ms\tremaining: 202ms\n",
      "777:\tlearn: 0.0790489\ttotal: 706ms\tremaining: 201ms\n",
      "778:\tlearn: 0.0790297\ttotal: 706ms\tremaining: 200ms\n",
      "779:\tlearn: 0.0789210\ttotal: 707ms\tremaining: 199ms\n",
      "780:\tlearn: 0.0787615\ttotal: 708ms\tremaining: 199ms\n",
      "781:\tlearn: 0.0786546\ttotal: 709ms\tremaining: 198ms\n",
      "782:\tlearn: 0.0786154\ttotal: 710ms\tremaining: 197ms\n",
      "783:\tlearn: 0.0784738\ttotal: 710ms\tremaining: 196ms\n",
      "784:\tlearn: 0.0782523\ttotal: 711ms\tremaining: 195ms\n",
      "785:\tlearn: 0.0781546\ttotal: 712ms\tremaining: 194ms\n",
      "786:\tlearn: 0.0780424\ttotal: 713ms\tremaining: 193ms\n",
      "787:\tlearn: 0.0778819\ttotal: 714ms\tremaining: 192ms\n",
      "788:\tlearn: 0.0777538\ttotal: 715ms\tremaining: 191ms\n",
      "789:\tlearn: 0.0776033\ttotal: 716ms\tremaining: 190ms\n",
      "790:\tlearn: 0.0775230\ttotal: 717ms\tremaining: 189ms\n",
      "791:\tlearn: 0.0773659\ttotal: 717ms\tremaining: 188ms\n",
      "792:\tlearn: 0.0772670\ttotal: 718ms\tremaining: 187ms\n",
      "793:\tlearn: 0.0771458\ttotal: 719ms\tremaining: 187ms\n",
      "794:\tlearn: 0.0771209\ttotal: 720ms\tremaining: 186ms\n",
      "795:\tlearn: 0.0769810\ttotal: 721ms\tremaining: 185ms\n",
      "796:\tlearn: 0.0768853\ttotal: 721ms\tremaining: 184ms\n",
      "797:\tlearn: 0.0768631\ttotal: 722ms\tremaining: 183ms\n",
      "798:\tlearn: 0.0767320\ttotal: 723ms\tremaining: 182ms\n",
      "799:\tlearn: 0.0765978\ttotal: 724ms\tremaining: 181ms\n",
      "800:\tlearn: 0.0764299\ttotal: 725ms\tremaining: 180ms\n",
      "801:\tlearn: 0.0763369\ttotal: 726ms\tremaining: 179ms\n",
      "802:\tlearn: 0.0761716\ttotal: 726ms\tremaining: 178ms\n",
      "803:\tlearn: 0.0761072\ttotal: 727ms\tremaining: 177ms\n",
      "804:\tlearn: 0.0759865\ttotal: 728ms\tremaining: 176ms\n",
      "805:\tlearn: 0.0758297\ttotal: 729ms\tremaining: 175ms\n",
      "806:\tlearn: 0.0756840\ttotal: 730ms\tremaining: 174ms\n",
      "807:\tlearn: 0.0755264\ttotal: 730ms\tremaining: 174ms\n",
      "808:\tlearn: 0.0753949\ttotal: 731ms\tremaining: 173ms\n",
      "809:\tlearn: 0.0753686\ttotal: 732ms\tremaining: 172ms\n",
      "810:\tlearn: 0.0752038\ttotal: 733ms\tremaining: 171ms\n",
      "811:\tlearn: 0.0751418\ttotal: 734ms\tremaining: 170ms\n",
      "812:\tlearn: 0.0749930\ttotal: 735ms\tremaining: 169ms\n",
      "813:\tlearn: 0.0748902\ttotal: 735ms\tremaining: 168ms\n",
      "814:\tlearn: 0.0747558\ttotal: 736ms\tremaining: 167ms\n",
      "815:\tlearn: 0.0746309\ttotal: 737ms\tremaining: 166ms\n",
      "816:\tlearn: 0.0745009\ttotal: 738ms\tremaining: 165ms\n",
      "817:\tlearn: 0.0744030\ttotal: 739ms\tremaining: 164ms\n",
      "818:\tlearn: 0.0742474\ttotal: 739ms\tremaining: 163ms\n",
      "819:\tlearn: 0.0740981\ttotal: 740ms\tremaining: 162ms\n",
      "820:\tlearn: 0.0740692\ttotal: 741ms\tremaining: 161ms\n",
      "821:\tlearn: 0.0739703\ttotal: 742ms\tremaining: 161ms\n",
      "822:\tlearn: 0.0739054\ttotal: 742ms\tremaining: 160ms\n",
      "823:\tlearn: 0.0737921\ttotal: 743ms\tremaining: 159ms\n",
      "824:\tlearn: 0.0737153\ttotal: 744ms\tremaining: 158ms\n",
      "825:\tlearn: 0.0735950\ttotal: 745ms\tremaining: 157ms\n",
      "826:\tlearn: 0.0734779\ttotal: 746ms\tremaining: 156ms\n",
      "827:\tlearn: 0.0733864\ttotal: 747ms\tremaining: 155ms\n",
      "828:\tlearn: 0.0732702\ttotal: 747ms\tremaining: 154ms\n",
      "829:\tlearn: 0.0731465\ttotal: 748ms\tremaining: 153ms\n",
      "830:\tlearn: 0.0730618\ttotal: 749ms\tremaining: 152ms\n",
      "831:\tlearn: 0.0730503\ttotal: 750ms\tremaining: 151ms\n",
      "832:\tlearn: 0.0729971\ttotal: 751ms\tremaining: 151ms\n",
      "833:\tlearn: 0.0728830\ttotal: 752ms\tremaining: 150ms\n",
      "834:\tlearn: 0.0728506\ttotal: 753ms\tremaining: 149ms\n",
      "835:\tlearn: 0.0727100\ttotal: 754ms\tremaining: 148ms\n",
      "836:\tlearn: 0.0725871\ttotal: 754ms\tremaining: 147ms\n",
      "837:\tlearn: 0.0724308\ttotal: 755ms\tremaining: 146ms\n",
      "838:\tlearn: 0.0723288\ttotal: 756ms\tremaining: 145ms\n",
      "839:\tlearn: 0.0723011\ttotal: 757ms\tremaining: 144ms\n",
      "840:\tlearn: 0.0721139\ttotal: 758ms\tremaining: 143ms\n",
      "841:\tlearn: 0.0719605\ttotal: 758ms\tremaining: 142ms\n",
      "842:\tlearn: 0.0718523\ttotal: 759ms\tremaining: 141ms\n",
      "843:\tlearn: 0.0718289\ttotal: 760ms\tremaining: 140ms\n"
     ]
    },
    {
     "name": "stdout",
     "output_type": "stream",
     "text": [
      "844:\tlearn: 0.0716835\ttotal: 761ms\tremaining: 140ms\n",
      "845:\tlearn: 0.0716620\ttotal: 762ms\tremaining: 139ms\n",
      "846:\tlearn: 0.0715849\ttotal: 763ms\tremaining: 138ms\n",
      "847:\tlearn: 0.0715225\ttotal: 764ms\tremaining: 137ms\n",
      "848:\tlearn: 0.0714337\ttotal: 764ms\tremaining: 136ms\n",
      "849:\tlearn: 0.0713364\ttotal: 765ms\tremaining: 135ms\n",
      "850:\tlearn: 0.0713168\ttotal: 766ms\tremaining: 134ms\n",
      "851:\tlearn: 0.0712496\ttotal: 767ms\tremaining: 133ms\n",
      "852:\tlearn: 0.0711490\ttotal: 768ms\tremaining: 132ms\n",
      "853:\tlearn: 0.0710299\ttotal: 768ms\tremaining: 131ms\n",
      "854:\tlearn: 0.0708873\ttotal: 769ms\tremaining: 130ms\n",
      "855:\tlearn: 0.0707466\ttotal: 770ms\tremaining: 130ms\n",
      "856:\tlearn: 0.0706347\ttotal: 771ms\tremaining: 129ms\n",
      "857:\tlearn: 0.0706195\ttotal: 772ms\tremaining: 128ms\n",
      "858:\tlearn: 0.0704763\ttotal: 773ms\tremaining: 127ms\n",
      "859:\tlearn: 0.0704216\ttotal: 773ms\tremaining: 126ms\n",
      "860:\tlearn: 0.0703283\ttotal: 774ms\tremaining: 125ms\n",
      "861:\tlearn: 0.0702898\ttotal: 775ms\tremaining: 124ms\n",
      "862:\tlearn: 0.0702301\ttotal: 776ms\tremaining: 123ms\n",
      "863:\tlearn: 0.0701129\ttotal: 777ms\tremaining: 122ms\n",
      "864:\tlearn: 0.0700515\ttotal: 778ms\tremaining: 121ms\n",
      "865:\tlearn: 0.0700269\ttotal: 779ms\tremaining: 121ms\n",
      "866:\tlearn: 0.0700018\ttotal: 780ms\tremaining: 120ms\n",
      "867:\tlearn: 0.0699394\ttotal: 780ms\tremaining: 119ms\n",
      "868:\tlearn: 0.0698836\ttotal: 781ms\tremaining: 118ms\n",
      "869:\tlearn: 0.0697550\ttotal: 782ms\tremaining: 117ms\n",
      "870:\tlearn: 0.0695852\ttotal: 783ms\tremaining: 116ms\n",
      "871:\tlearn: 0.0695254\ttotal: 784ms\tremaining: 115ms\n",
      "872:\tlearn: 0.0694150\ttotal: 785ms\tremaining: 114ms\n",
      "873:\tlearn: 0.0693933\ttotal: 785ms\tremaining: 113ms\n",
      "874:\tlearn: 0.0693190\ttotal: 786ms\tremaining: 112ms\n",
      "875:\tlearn: 0.0692290\ttotal: 787ms\tremaining: 111ms\n",
      "876:\tlearn: 0.0691065\ttotal: 788ms\tremaining: 111ms\n",
      "877:\tlearn: 0.0690030\ttotal: 789ms\tremaining: 110ms\n",
      "878:\tlearn: 0.0689374\ttotal: 790ms\tremaining: 109ms\n",
      "879:\tlearn: 0.0689127\ttotal: 791ms\tremaining: 108ms\n",
      "880:\tlearn: 0.0688273\ttotal: 791ms\tremaining: 107ms\n",
      "881:\tlearn: 0.0687306\ttotal: 792ms\tremaining: 106ms\n",
      "882:\tlearn: 0.0686185\ttotal: 793ms\tremaining: 105ms\n",
      "883:\tlearn: 0.0685223\ttotal: 794ms\tremaining: 104ms\n",
      "884:\tlearn: 0.0684935\ttotal: 795ms\tremaining: 103ms\n",
      "885:\tlearn: 0.0684400\ttotal: 796ms\tremaining: 102ms\n",
      "886:\tlearn: 0.0683231\ttotal: 797ms\tremaining: 102ms\n",
      "887:\tlearn: 0.0683132\ttotal: 798ms\tremaining: 101ms\n",
      "888:\tlearn: 0.0682104\ttotal: 799ms\tremaining: 99.7ms\n",
      "889:\tlearn: 0.0681448\ttotal: 800ms\tremaining: 98.8ms\n",
      "890:\tlearn: 0.0681191\ttotal: 801ms\tremaining: 98ms\n",
      "891:\tlearn: 0.0680685\ttotal: 802ms\tremaining: 97.1ms\n",
      "892:\tlearn: 0.0679478\ttotal: 802ms\tremaining: 96.1ms\n",
      "893:\tlearn: 0.0678571\ttotal: 803ms\tremaining: 95.2ms\n",
      "894:\tlearn: 0.0677313\ttotal: 804ms\tremaining: 94.3ms\n",
      "895:\tlearn: 0.0676165\ttotal: 805ms\tremaining: 93.4ms\n",
      "896:\tlearn: 0.0675348\ttotal: 806ms\tremaining: 92.5ms\n",
      "897:\tlearn: 0.0674502\ttotal: 807ms\tremaining: 91.6ms\n",
      "898:\tlearn: 0.0673644\ttotal: 807ms\tremaining: 90.7ms\n",
      "899:\tlearn: 0.0672860\ttotal: 808ms\tremaining: 89.8ms\n",
      "900:\tlearn: 0.0672371\ttotal: 809ms\tremaining: 88.9ms\n",
      "901:\tlearn: 0.0671046\ttotal: 810ms\tremaining: 88ms\n",
      "902:\tlearn: 0.0670119\ttotal: 811ms\tremaining: 87.1ms\n",
      "903:\tlearn: 0.0669451\ttotal: 812ms\tremaining: 86.2ms\n",
      "904:\tlearn: 0.0668097\ttotal: 813ms\tremaining: 85.3ms\n",
      "905:\tlearn: 0.0667053\ttotal: 813ms\tremaining: 84.4ms\n",
      "906:\tlearn: 0.0666517\ttotal: 814ms\tremaining: 83.5ms\n",
      "907:\tlearn: 0.0666138\ttotal: 815ms\tremaining: 82.6ms\n",
      "908:\tlearn: 0.0665938\ttotal: 816ms\tremaining: 81.7ms\n",
      "909:\tlearn: 0.0665337\ttotal: 817ms\tremaining: 80.8ms\n",
      "910:\tlearn: 0.0664297\ttotal: 818ms\tremaining: 79.9ms\n",
      "911:\tlearn: 0.0663427\ttotal: 819ms\tremaining: 79ms\n",
      "912:\tlearn: 0.0662814\ttotal: 820ms\tremaining: 78.1ms\n",
      "913:\tlearn: 0.0662267\ttotal: 821ms\tremaining: 77.2ms\n",
      "914:\tlearn: 0.0661310\ttotal: 822ms\tremaining: 76.3ms\n",
      "915:\tlearn: 0.0659597\ttotal: 822ms\tremaining: 75.4ms\n",
      "916:\tlearn: 0.0658016\ttotal: 823ms\tremaining: 74.5ms\n",
      "917:\tlearn: 0.0657631\ttotal: 824ms\tremaining: 73.6ms\n",
      "918:\tlearn: 0.0656600\ttotal: 825ms\tremaining: 72.7ms\n",
      "919:\tlearn: 0.0655507\ttotal: 826ms\tremaining: 71.8ms\n",
      "920:\tlearn: 0.0654355\ttotal: 827ms\tremaining: 70.9ms\n",
      "921:\tlearn: 0.0653424\ttotal: 828ms\tremaining: 70ms\n",
      "922:\tlearn: 0.0652422\ttotal: 829ms\tremaining: 69.1ms\n",
      "923:\tlearn: 0.0652057\ttotal: 829ms\tremaining: 68.2ms\n",
      "924:\tlearn: 0.0651452\ttotal: 830ms\tremaining: 67.3ms\n",
      "925:\tlearn: 0.0650396\ttotal: 831ms\tremaining: 66.4ms\n",
      "926:\tlearn: 0.0649657\ttotal: 832ms\tremaining: 65.5ms\n",
      "927:\tlearn: 0.0648695\ttotal: 833ms\tremaining: 64.6ms\n",
      "928:\tlearn: 0.0648144\ttotal: 834ms\tremaining: 63.7ms\n",
      "929:\tlearn: 0.0647552\ttotal: 834ms\tremaining: 62.8ms\n",
      "930:\tlearn: 0.0646275\ttotal: 835ms\tremaining: 61.9ms\n",
      "931:\tlearn: 0.0644840\ttotal: 836ms\tremaining: 61ms\n",
      "932:\tlearn: 0.0644086\ttotal: 837ms\tremaining: 60.1ms\n",
      "933:\tlearn: 0.0643139\ttotal: 838ms\tremaining: 59.2ms\n",
      "934:\tlearn: 0.0642576\ttotal: 839ms\tremaining: 58.3ms\n",
      "935:\tlearn: 0.0641770\ttotal: 840ms\tremaining: 57.4ms\n",
      "936:\tlearn: 0.0640946\ttotal: 840ms\tremaining: 56.5ms\n",
      "937:\tlearn: 0.0640126\ttotal: 841ms\tremaining: 55.6ms\n",
      "938:\tlearn: 0.0639061\ttotal: 842ms\tremaining: 54.7ms\n",
      "939:\tlearn: 0.0637811\ttotal: 843ms\tremaining: 53.8ms\n",
      "940:\tlearn: 0.0636865\ttotal: 844ms\tremaining: 52.9ms\n",
      "941:\tlearn: 0.0635489\ttotal: 845ms\tremaining: 52ms\n",
      "942:\tlearn: 0.0634412\ttotal: 846ms\tremaining: 51.1ms\n",
      "943:\tlearn: 0.0633633\ttotal: 847ms\tremaining: 50.2ms\n",
      "944:\tlearn: 0.0632708\ttotal: 848ms\tremaining: 49.3ms\n",
      "945:\tlearn: 0.0631595\ttotal: 848ms\tremaining: 48.4ms\n",
      "946:\tlearn: 0.0630688\ttotal: 849ms\tremaining: 47.5ms\n",
      "947:\tlearn: 0.0630256\ttotal: 850ms\tremaining: 46.6ms\n",
      "948:\tlearn: 0.0629002\ttotal: 851ms\tremaining: 45.7ms\n",
      "949:\tlearn: 0.0627963\ttotal: 852ms\tremaining: 44.8ms\n",
      "950:\tlearn: 0.0627097\ttotal: 853ms\tremaining: 43.9ms\n",
      "951:\tlearn: 0.0626894\ttotal: 854ms\tremaining: 43ms\n",
      "952:\tlearn: 0.0626003\ttotal: 855ms\tremaining: 42.1ms\n",
      "953:\tlearn: 0.0625062\ttotal: 855ms\tremaining: 41.2ms\n",
      "954:\tlearn: 0.0624697\ttotal: 856ms\tremaining: 40.3ms\n",
      "955:\tlearn: 0.0623798\ttotal: 857ms\tremaining: 39.4ms\n",
      "956:\tlearn: 0.0623199\ttotal: 858ms\tremaining: 38.5ms\n",
      "957:\tlearn: 0.0621922\ttotal: 858ms\tremaining: 37.6ms\n",
      "958:\tlearn: 0.0620504\ttotal: 859ms\tremaining: 36.7ms\n",
      "959:\tlearn: 0.0619551\ttotal: 860ms\tremaining: 35.8ms\n",
      "960:\tlearn: 0.0618875\ttotal: 861ms\tremaining: 34.9ms\n",
      "961:\tlearn: 0.0618184\ttotal: 862ms\tremaining: 34ms\n",
      "962:\tlearn: 0.0617467\ttotal: 863ms\tremaining: 33.1ms\n",
      "963:\tlearn: 0.0616606\ttotal: 863ms\tremaining: 32.2ms\n",
      "964:\tlearn: 0.0616036\ttotal: 864ms\tremaining: 31.3ms\n",
      "965:\tlearn: 0.0615650\ttotal: 865ms\tremaining: 30.4ms\n",
      "966:\tlearn: 0.0614942\ttotal: 866ms\tremaining: 29.6ms\n",
      "967:\tlearn: 0.0614748\ttotal: 867ms\tremaining: 28.7ms\n",
      "968:\tlearn: 0.0614227\ttotal: 868ms\tremaining: 27.8ms\n",
      "969:\tlearn: 0.0613525\ttotal: 868ms\tremaining: 26.9ms\n",
      "970:\tlearn: 0.0612389\ttotal: 869ms\tremaining: 26ms\n",
      "971:\tlearn: 0.0611514\ttotal: 870ms\tremaining: 25.1ms\n"
     ]
    },
    {
     "name": "stdout",
     "output_type": "stream",
     "text": [
      "972:\tlearn: 0.0610770\ttotal: 871ms\tremaining: 24.2ms\n",
      "973:\tlearn: 0.0609861\ttotal: 872ms\tremaining: 23.3ms\n",
      "974:\tlearn: 0.0609519\ttotal: 873ms\tremaining: 22.4ms\n",
      "975:\tlearn: 0.0608256\ttotal: 873ms\tremaining: 21.5ms\n",
      "976:\tlearn: 0.0607087\ttotal: 874ms\tremaining: 20.6ms\n",
      "977:\tlearn: 0.0606126\ttotal: 875ms\tremaining: 19.7ms\n",
      "978:\tlearn: 0.0604284\ttotal: 876ms\tremaining: 18.8ms\n",
      "979:\tlearn: 0.0603144\ttotal: 877ms\tremaining: 17.9ms\n",
      "980:\tlearn: 0.0602952\ttotal: 878ms\tremaining: 17ms\n",
      "981:\tlearn: 0.0602483\ttotal: 878ms\tremaining: 16.1ms\n",
      "982:\tlearn: 0.0602285\ttotal: 879ms\tremaining: 15.2ms\n",
      "983:\tlearn: 0.0601014\ttotal: 880ms\tremaining: 14.3ms\n",
      "984:\tlearn: 0.0600598\ttotal: 881ms\tremaining: 13.4ms\n",
      "985:\tlearn: 0.0599625\ttotal: 882ms\tremaining: 12.5ms\n",
      "986:\tlearn: 0.0599418\ttotal: 882ms\tremaining: 11.6ms\n",
      "987:\tlearn: 0.0599157\ttotal: 883ms\tremaining: 10.7ms\n",
      "988:\tlearn: 0.0598533\ttotal: 884ms\tremaining: 9.83ms\n",
      "989:\tlearn: 0.0597283\ttotal: 885ms\tremaining: 8.94ms\n",
      "990:\tlearn: 0.0595727\ttotal: 886ms\tremaining: 8.04ms\n",
      "991:\tlearn: 0.0595415\ttotal: 886ms\tremaining: 7.15ms\n",
      "992:\tlearn: 0.0594623\ttotal: 887ms\tremaining: 6.25ms\n",
      "993:\tlearn: 0.0594256\ttotal: 888ms\tremaining: 5.36ms\n",
      "994:\tlearn: 0.0594032\ttotal: 889ms\tremaining: 4.47ms\n",
      "995:\tlearn: 0.0593122\ttotal: 890ms\tremaining: 3.57ms\n",
      "996:\tlearn: 0.0592356\ttotal: 890ms\tremaining: 2.68ms\n",
      "997:\tlearn: 0.0592126\ttotal: 891ms\tremaining: 1.79ms\n",
      "998:\tlearn: 0.0591669\ttotal: 892ms\tremaining: 893us\n",
      "999:\tlearn: 0.0591514\ttotal: 893ms\tremaining: 0us\n"
     ]
    },
    {
     "data": {
      "text/plain": [
       "<catboost.core.CatBoostRegressor at 0x7facc9757c70>"
      ]
     },
     "execution_count": 9,
     "metadata": {},
     "output_type": "execute_result"
    }
   ],
   "source": [
    "#Train the Model \n",
    "prior_model = ctb.CatBoostRegressor()\n",
    "prior_model.fit(X_train,Y_train)"
   ]
  },
  {
   "cell_type": "code",
   "execution_count": 10,
   "id": "af65dcda",
   "metadata": {
    "execution": {
     "iopub.execute_input": "2022-06-12T06:25:17.634597Z",
     "iopub.status.busy": "2022-06-12T06:25:17.634209Z",
     "iopub.status.idle": "2022-06-12T06:25:17.641843Z",
     "shell.execute_reply": "2022-06-12T06:25:17.642080Z"
    },
    "id": "af65dcda",
    "papermill": {
     "duration": 0.020813,
     "end_time": "2022-06-12T06:25:17.642190",
     "exception": false,
     "start_time": "2022-06-12T06:25:17.621377",
     "status": "completed"
    },
    "tags": []
   },
   "outputs": [
    {
     "data": {
      "application/scrapbook.scrap.json+json": {
       "data": 0.12438599022589983,
       "encoder": "json",
       "name": "Prior Model MSE",
       "version": 1
      }
     },
     "metadata": {
      "scrapbook": {
       "data": true,
       "display": false,
       "name": "Prior Model MSE"
      }
     },
     "output_type": "display_data"
    },
    {
     "data": {
      "application/scrapbook.scrap.json+json": {
       "data": 0.1418227627982329,
       "encoder": "json",
       "name": "ABC Pre-generator MSE",
       "version": 1
      }
     },
     "metadata": {
      "scrapbook": {
       "data": true,
       "display": false,
       "name": "ABC Pre-generator MSE"
      }
     },
     "output_type": "display_data"
    },
    {
     "data": {
      "application/scrapbook.scrap.json+json": {
       "data": 0.219983405884538,
       "encoder": "json",
       "name": "Prior Model MSE",
       "version": 1
      }
     },
     "metadata": {
      "scrapbook": {
       "data": true,
       "display": false,
       "name": "Prior Model MSE"
      }
     },
     "output_type": "display_data"
    },
    {
     "data": {
      "application/scrapbook.scrap.json+json": {
       "data": 0.2517686199877674,
       "encoder": "json",
       "name": "ABC Pre-generator MSE",
       "version": 1
      }
     },
     "metadata": {
      "scrapbook": {
       "data": true,
       "display": false,
       "name": "ABC Pre-generator MSE"
      }
     },
     "output_type": "display_data"
    }
   ],
   "source": [
    "y_pred = prior_model.predict(X_test)\n",
    "y_abc = y_pred + np.random.normal(0,variance, y_pred.shape) + bias \n",
    "mse = mean_squared_error(y_pred,Y_test)\n",
    "sb.glue(\"Prior Model MSE\",mse)\n",
    "mse = mean_squared_error(y_abc,Y_test)\n",
    "sb.glue(\"ABC Pre-generator MSE\",mse)\n",
    "mae = mean_absolute_error(y_pred,Y_test)\n",
    "sb.glue(\"Prior Model MSE\",mae)\n",
    "mae = mean_absolute_error(y_abc,Y_test)\n",
    "sb.glue(\"ABC Pre-generator MSE\",mae)"
   ]
  },
  {
   "cell_type": "markdown",
   "id": "25609da2",
   "metadata": {
    "papermill": {
     "duration": 0.009784,
     "end_time": "2022-06-12T06:25:17.662107",
     "exception": false,
     "start_time": "2022-06-12T06:25:17.652323",
     "status": "completed"
    },
    "tags": []
   },
   "source": [
    "# ABC GAN Model"
   ]
  },
  {
   "cell_type": "code",
   "execution_count": 11,
   "id": "dfc3464d",
   "metadata": {
    "execution": {
     "iopub.execute_input": "2022-06-12T06:25:17.684750Z",
     "iopub.status.busy": "2022-06-12T06:25:17.684386Z",
     "iopub.status.idle": "2022-06-12T06:25:17.686802Z",
     "shell.execute_reply": "2022-06-12T06:25:17.687041Z"
    },
    "papermill": {
     "duration": 0.015268,
     "end_time": "2022-06-12T06:25:17.687146",
     "exception": false,
     "start_time": "2022-06-12T06:25:17.671878",
     "status": "completed"
    },
    "tags": []
   },
   "outputs": [],
   "source": [
    "gen = network.Generator(n_features+1).to(device)\n",
    "disc = network.Discriminator(n_features+1).to(device)\n",
    "\n",
    "criterion = torch.nn.BCELoss()\n",
    "gen_opt = torch.optim.Adam(gen.parameters(), lr=0.001, betas=(0.5, 0.999))\n",
    "disc_opt = torch.optim.Adam(disc.parameters(), lr=0.001, betas=(0.5, 0.999))"
   ]
  },
  {
   "cell_type": "code",
   "execution_count": 12,
   "id": "b75fdd85",
   "metadata": {
    "execution": {
     "iopub.execute_input": "2022-06-12T06:25:17.709686Z",
     "iopub.status.busy": "2022-06-12T06:25:17.709322Z",
     "iopub.status.idle": "2022-06-12T06:26:18.069464Z",
     "shell.execute_reply": "2022-06-12T06:26:18.069768Z"
    },
    "papermill": {
     "duration": 60.372818,
     "end_time": "2022-06-12T06:26:18.069891",
     "exception": false,
     "start_time": "2022-06-12T06:25:17.697073",
     "status": "completed"
    },
    "tags": []
   },
   "outputs": [
    {
     "data": {
      "image/png": "[encoded data removed]",
      "text/plain": [
       "<Figure size 432x288 with 1 Axes>"
      ]
     },
     "metadata": {
      "needs_background": "light"
     },
     "output_type": "display_data"
    },
    {
     "data": {
      "image/png": "[encoded data removed]",
      "text/plain": [
       "<Figure size 432x288 with 1 Axes>"
      ]
     },
     "metadata": {
      "needs_background": "light"
     },
     "output_type": "display_data"
    }
   ],
   "source": [
    "#Training the ABC_GAN \n",
    "ABC_train_test2.training_GAN(disc,gen,disc_opt,gen_opt,train_data,batch_size,n_epochs,criterion,prior_model,variance,bias,device)"
   ]
  },
  {
   "cell_type": "code",
   "execution_count": 13,
   "id": "1fa7c368",
   "metadata": {
    "execution": {
     "iopub.execute_input": "2022-06-12T06:26:18.094014Z",
     "iopub.status.busy": "2022-06-12T06:26:18.093621Z",
     "iopub.status.idle": "2022-06-12T06:26:18.398463Z",
     "shell.execute_reply": "2022-06-12T06:26:18.398828Z"
    },
    "papermill": {
     "duration": 0.318214,
     "end_time": "2022-06-12T06:26:18.398960",
     "exception": false,
     "start_time": "2022-06-12T06:26:18.080746",
     "status": "completed"
    },
    "tags": []
   },
   "outputs": [
    {
     "data": {
      "application/scrapbook.scrap.json+json": {
       "data": 0.13696753077182794,
       "encoder": "json",
       "name": "ABC-GAN Model 1 MSE",
       "version": 1
      }
     },
     "metadata": {
      "scrapbook": {
       "data": true,
       "display": false,
       "name": "ABC-GAN Model 1 MSE"
      }
     },
     "output_type": "display_data"
    },
    {
     "data": {
      "application/scrapbook.scrap.json+json": {
       "data": 0.2433046649535205,
       "encoder": "json",
       "name": "ABC-GAN Model 1 MAE",
       "version": 1
      }
     },
     "metadata": {
      "scrapbook": {
       "data": true,
       "display": false,
       "name": "ABC-GAN Model 1 MAE"
      }
     },
     "output_type": "display_data"
    },
    {
     "data": {
      "application/scrapbook.scrap.json+json": {
       "data": 24.81707582525909,
       "encoder": "json",
       "name": "ABC-GAN Model 1 Manhattan Distance",
       "version": 1
      }
     },
     "metadata": {
      "scrapbook": {
       "data": true,
       "display": false,
       "name": "ABC-GAN Model 1 Manhattan Distance"
      }
     },
     "output_type": "display_data"
    },
    {
     "data": {
      "application/scrapbook.scrap.json+json": {
       "data": 3.7377241267963828,
       "encoder": "json",
       "name": "ABC-GAN Model 1 Euclidean distance",
       "version": 1
      }
     },
     "metadata": {
      "scrapbook": {
       "data": true,
       "display": false,
       "name": "ABC-GAN Model 1 Euclidean distance"
      }
     },
     "output_type": "display_data"
    },
    {
     "data": {
      "application/scrapbook.scrap.json+json": {
       "data": [
        [
         0.1369831375736442,
         0.13704821635608844,
         0.13601127589241824,
         0.13667761438502338,
         0.13709190543968244,
         0.13626995655268093,
         0.1363113139669534,
         0.13691732883286808,
         0.13576277330161976,
         0.1365453695292586,
         0.13733487051935564,
         0.13725322095128378,
         0.1364936410993807,
         0.13785565025523655,
         0.13685103078512997,
         0.13656024551395465,
         0.13657126526836688,
         0.13819786540002596,
         0.13749373585949087,
         0.13563861952248538,
         0.13805624499052377,
         0.13641518018362697,
         0.135410090893597,
         0.13774082340660335,
         0.1368786559006719,
         0.13599820618423952,
         0.13736465072640663,
         0.13688737726358405,
         0.13711676814827417,
         0.13654034272758264,
         0.1385997782763046,
         0.13679392540585353,
         0.13720204892974003,
         0.13573604622225258,
         0.1363388813376022,
         0.1370665023602257,
         0.13690172983600754,
         0.13784663374537579,
         0.13739394434182584,
         0.1372438731346993,
         0.1372293458891504,
         0.1373809661246636,
         0.1379834516683054,
         0.13685696133918035,
         0.1366961013255775,
         0.13649058963073493,
         0.13744282453587695,
         0.13821714298074275,
         0.13590231864326568,
         0.13709546189036376,
         0.13616369815518495,
         0.13795562027012867,
         0.13635021327850522,
         0.13734014613621093,
         0.13683068301956688,
         0.1375241102718212,
         0.13686546040144043,
         0.13695083529649915,
         0.13595551124188948,
         0.13743609555954478,
         0.13661267027654617,
         0.1368333327616,
         0.13731659263438437,
         0.13786807981692265,
         0.13583651185446335,
         0.13764245697483632,
         0.13596415822197203,
         0.13731780013564068,
         0.13702206017065857,
         0.13698534094244236,
         0.1359796828858512,
         0.13756902632098789,
         0.13688434593891724,
         0.1375258199929092,
         0.13691100425141542,
         0.13677778772031646,
         0.13587522144195469,
         0.13547802445329785,
         0.13679120786544466,
         0.1368968080655745,
         0.1359906414929831,
         0.13821867355880116,
         0.13527114869027246,
         0.13698795297138042,
         0.13652729060645527,
         0.13547147158582168,
         0.13735329649150876,
         0.13705761679581038,
         0.13622508230278127,
         0.1379106146888652,
         0.13816026097280498,
         0.13754025725972954,
         0.13744485026370273,
         0.13856983037032836,
         0.13737988602935208,
         0.1385278324876329,
         0.1385037696581289,
         0.13653017018511926,
         0.13751796414350706,
         0.13740825522307473
        ],
        [
         0.24313089437782764,
         0.24304239126835384,
         0.24194326861670204,
         0.24421604288121065,
         0.24357621824624492,
         0.24275854050967038,
         0.24397961221927522,
         0.24301117172866477,
         0.24246493511486286,
         0.2424568689848278,
         0.24466710358712018,
         0.24438454031798185,
         0.24213468579246716,
         0.24479306076525473,
         0.24221615307033062,
         0.24136842418388993,
         0.2440426171775542,
         0.24496081051434956,
         0.2443470365787838,
         0.24155937372615524,
         0.24607419313899442,
         0.24323179664126798,
         0.24248863519260697,
         0.24571568171913719,
         0.242926370462074,
         0.2433334813617608,
         0.24310924196798428,
         0.24135933199203483,
         0.2428425046816176,
         0.2433437915774537,
         0.24639249830415436,
         0.24372557495885036,
         0.2438660813678129,
         0.24357403336348488,
         0.24343723237660586,
         0.2435636749381528,
         0.24449295305884353,
         0.24176931421400286,
         0.24349097027352043,
         0.24300610715998153,
         0.24218573213061867,
         0.24176196494669305,
         0.24430939346990166,
         0.24391622720834086,
         0.2427990516538129,
         0.24338041066977323,
         0.24335959608502247,
         0.24382683309708156,
         0.24229456655973314,
         0.2435486729019413,
         0.24200627204103797,
         0.2452446640487395,
         0.24300351370052964,
         0.2430547411900525,
         0.24311879361230954,
         0.2442834359392816,
         0.24397595719817808,
         0.24352621385718093,
         0.24342746524980255,
         0.2422418679457669,
         0.2424409798912558,
         0.24424012330378972,
         0.24197321995070167,
         0.24489891167510958,
         0.24266908883902372,
         0.24386794430514178,
         0.2414848753707666,
         0.24351202670996094,
         0.2430018623012538,
         0.24278907868645938,
         0.24239711876155115,
         0.24345786040466205,
         0.24391969837540506,
         0.24433954312082598,
         0.24338726564219185,
         0.24427473935864719,
         0.24338220330137833,
         0.24231327949639628,
         0.24250270838977075,
         0.24312042448596627,
         0.24204674724708586,
         0.24209938114326374,
         0.2416328698323638,
         0.24314411616354598,
         0.24279386984805265,
         0.24134210639578454,
         0.24341080750466562,
         0.24284775821747734,
         0.24247312301075927,
         0.24429130725854753,
         0.24347432326598495,
         0.24507792567943826,
         0.24390082123378912,
         0.24438918787328637,
         0.2441001900782188,
         0.24413256029434063,
         0.24338862040609704,
         0.24285227436499268,
         0.24427026426237003,
         0.24276269698405967
        ],
        [
         24.79935122653842,
         24.79032390937209,
         24.67821339890361,
         24.910036373883486,
         24.84477426111698,
         24.76137113198638,
         24.88592044636607,
         24.787139516323805,
         24.731423381716013,
         24.730600636452436,
         24.95604456588626,
         24.92722311243415,
         24.69773795083165,
         24.968892198055983,
         24.706047613173723,
         24.619579266756773,
         24.89234695211053,
         24.986002672463655,
         24.923397731035948,
         24.639056120067835,
         25.09956770017743,
         24.809643257409334,
         24.73384078964591,
         25.06299953535199,
         24.778489787131548,
         24.820015098899603,
         24.797142680734396,
         24.61865186318755,
         24.769935477524996,
         24.821066740900278,
         25.132034827023745,
         24.860008645802736,
         24.874340299516916,
         24.844551403075457,
         24.830597702413797,
         24.843494843691587,
         24.93828121200204,
         24.66047004982829,
         24.836078967899084,
         24.786622930318117,
         24.702944677323103,
         24.659720424562693,
         24.919558133929968,
         24.87945517525077,
         24.765503268688917,
         24.82480188831687,
         24.822678800672293,
         24.87033697590232,
         24.71404578909278,
         24.84196463599801,
         24.684639748185873,
         25.01495573297143,
         24.786358397454023,
         24.791583601385355,
         24.798116948455572,
         24.916910465806723,
         24.885547634214163,
         24.839673813432455,
         24.82960145547986,
         24.708670530468225,
         24.72897994890809,
         24.91249257698655,
         24.68126843497157,
         24.979688990861177,
         24.75224706158042,
         24.87453031912446,
         24.631457287818193,
         24.838226724416018,
         24.786189954727888,
         24.764486026018858,
         24.724506113678217,
         24.83270176127553,
         24.879809234291315,
         24.92263339832425,
         24.82550109550357,
         24.916023414582014,
         24.82498473674059,
         24.71595450863242,
         24.735276255756617,
         24.79828329756856,
         24.688768219202757,
         24.6941368766129,
         24.646552722901106,
         24.80069984868169,
         24.76497472450137,
         24.616894852370024,
         24.827902365475893,
         24.770471338182688,
         24.732258547097445,
         24.917713340371847,
         24.834380973130465,
         24.997948419302702,
         24.87788376584649,
         24.92769716307521,
         24.898219387978315,
         24.901521150022745,
         24.8256392814219,
         24.770931985229254,
         24.915566954761744,
         24.761795092374086
        ],
        [
         3.7379513148931873,
         3.738839133784846,
         3.724667789350704,
         3.733780479255895,
         3.7394350315051077,
         3.7282080908089683,
         3.728773796387928,
         3.7370533232685537,
         3.721263612909627,
         3.7319736992621455,
         3.7427472253645813,
         3.74163447400076,
         3.7312667275520295,
         3.7498368399217226,
         3.736148436569838,
         3.732176984338145,
         3.7323275656583816,
         3.7544882834818707,
         3.74491135511484,
         3.7195616934382882,
         3.7525640552871873,
         3.7301941475920453,
         3.716426949523815,
         3.748274801488484,
         3.7365255120055756,
         3.7244888281202333,
         3.7431529990228123,
         3.736644548372988,
         3.7397741042907873,
         3.7319050039106605,
         3.7599438006681787,
         3.7353688427512823,
         3.7409369135062245,
         3.7208972996670786,
         3.729150827793832,
         3.739088557488712,
         3.7368404358860126,
         3.7497142080468384,
         3.7435520996596585,
         3.741507057288456,
         3.7413090330382137,
         3.7433752877203865,
         3.75157461210185,
         3.7362293902538157,
         3.734032985286673,
         3.7312250189897367,
         3.744217956083679,
         3.754750136032457,
         3.7231755937120528,
         3.739483535572406,
         3.726754246234765,
         3.7511962448735097,
         3.729305800602511,
         3.7428191120989953,
         3.7358706706731457,
         3.7453249855954773,
         3.736345401719027,
         3.7375105618904825,
         3.7239041537978292,
         3.7441262995622306,
         3.7328932971902247,
         3.7359068432822577,
         3.7424981561394532,
         3.7500058855055287,
         3.7222740642187087,
         3.7469361632450187,
         3.724022574937099,
         3.7425146110383256,
         3.738482330760328,
         3.7379813771779444,
         3.7242351771010402,
         3.7459365564222735,
         3.7366031747791415,
         3.7453482667539393,
         3.736967009975385,
         3.73514850407213,
         3.7228043981761076,
         3.7173590752355876,
         3.7353317392536036,
         3.7367732634839643,
         3.7243852421955865,
         3.754770925502343,
         3.71451977601517,
         3.7380170148195964,
         3.731726630108163,
         3.717269172625761,
         3.7429982957695684,
         3.738967359201288,
         3.727594183234501,
         3.7505843142454807,
         3.753977439893067,
         3.7455448522868355,
         3.7442455484246326,
         3.7595375643519633,
         3.743360572399339,
         3.75896779897601,
         3.7586413110496655,
         3.7317659839387245,
         3.745241292979361,
         3.7437470577956544
        ]
       ],
       "encoder": "json",
       "name": "ABC_GAN_1 Metrics",
       "version": 1
      }
     },
     "metadata": {
      "scrapbook": {
       "data": true,
       "display": false,
       "name": "ABC_GAN_1 Metrics"
      }
     },
     "output_type": "display_data"
    },
    {
     "name": "stdout",
     "output_type": "stream",
     "text": [
      "MSE\n",
      "0.13696753077182794\n"
     ]
    }
   ],
   "source": [
    "ABC_GAN1_metrics=ABC_train_test2.test_generator(gen,test_data,prior_model,variance,bias,\"1\",device)\n",
    "sb.glue(\"ABC_GAN_1 Metrics\",ABC_GAN1_metrics)\n",
    "\n",
    "print(\"MSE\")\n",
    "print(mean(ABC_GAN1_metrics[0]))"
   ]
  },
  {
   "cell_type": "code",
   "execution_count": 14,
   "id": "eb22ce5c",
   "metadata": {
    "execution": {
     "iopub.execute_input": "2022-06-12T06:26:18.426666Z",
     "iopub.status.busy": "2022-06-12T06:26:18.426256Z",
     "iopub.status.idle": "2022-06-12T06:26:18.759366Z",
     "shell.execute_reply": "2022-06-12T06:26:18.759579Z"
    },
    "papermill": {
     "duration": 0.347934,
     "end_time": "2022-06-12T06:26:18.759701",
     "exception": false,
     "start_time": "2022-06-12T06:26:18.411767",
     "status": "completed"
    },
    "tags": []
   },
   "outputs": [
    {
     "data": {
      "image/png": "[encoded data removed]",
      "text/plain": [
       "<Figure size 432x288 with 1 Axes>"
      ]
     },
     "metadata": {
      "needs_background": "light"
     },
     "output_type": "display_data"
    },
    {
     "data": {
      "image/png": "[encoded data removed]",
      "text/plain": [
       "<Figure size 432x288 with 1 Axes>"
      ]
     },
     "metadata": {
      "needs_background": "light"
     },
     "output_type": "display_data"
    },
    {
     "data": {
      "image/png": "[encoded data removed]",
      "text/plain": [
       "<Figure size 432x288 with 1 Axes>"
      ]
     },
     "metadata": {
      "needs_background": "light"
     },
     "output_type": "display_data"
    },
    {
     "data": {
      "image/png": "[encoded data removed]",
      "text/plain": [
       "<Figure size 432x288 with 1 Axes>"
      ]
     },
     "metadata": {
      "needs_background": "light"
     },
     "output_type": "display_data"
    }
   ],
   "source": [
    "sanityChecks.discProbVsError(train_data,disc,device)\n",
    "sanityChecks.discProbVsError(test_data,disc,device)"
   ]
  },
  {
   "cell_type": "markdown",
   "id": "130f3a4d",
   "metadata": {
    "id": "130f3a4d",
    "papermill": {
     "duration": 0.01442,
     "end_time": "2022-06-12T06:26:18.789034",
     "exception": false,
     "start_time": "2022-06-12T06:26:18.774614",
     "status": "completed"
    },
    "tags": []
   },
   "source": [
    "# ABC - GAN Model with skip connection"
   ]
  },
  {
   "cell_type": "code",
   "execution_count": 15,
   "id": "4e43dad1",
   "metadata": {
    "execution": {
     "iopub.execute_input": "2022-06-12T06:26:18.821224Z",
     "iopub.status.busy": "2022-06-12T06:26:18.820859Z",
     "iopub.status.idle": "2022-06-12T06:26:18.823190Z",
     "shell.execute_reply": "2022-06-12T06:26:18.823438Z"
    },
    "id": "4e43dad1",
    "papermill": {
     "duration": 0.019926,
     "end_time": "2022-06-12T06:26:18.823546",
     "exception": false,
     "start_time": "2022-06-12T06:26:18.803620",
     "status": "completed"
    },
    "tags": []
   },
   "outputs": [],
   "source": [
    "#Generator\n",
    "gen3 = network.GeneratorWithSkipConnection(n_features+1).to(device)\n",
    "constraints=network.weightConstraint()\n",
    "#Discriminator \n",
    "disc3 = network.Discriminator(n_features+1).to(device)\n",
    "\n",
    "criterion = torch.nn.BCELoss()\n",
    "gen_opt = torch.optim.Adam(gen3.parameters(), lr=0.001, betas=(0.5, 0.999))\n",
    "disc_opt = torch.optim.Adam(disc3.parameters(), lr=0.001, betas=(0.5, 0.999))\n"
   ]
  },
  {
   "cell_type": "code",
   "execution_count": 16,
   "id": "26acbc37",
   "metadata": {
    "execution": {
     "iopub.execute_input": "2022-06-12T06:26:18.854968Z",
     "iopub.status.busy": "2022-06-12T06:26:18.854586Z",
     "iopub.status.idle": "2022-06-12T06:29:16.605546Z",
     "shell.execute_reply": "2022-06-12T06:29:16.605842Z"
    },
    "id": "26acbc37",
    "papermill": {
     "duration": 177.767801,
     "end_time": "2022-06-12T06:29:16.605966",
     "exception": false,
     "start_time": "2022-06-12T06:26:18.838165",
     "status": "completed"
    },
    "tags": []
   },
   "outputs": [
    {
     "data": {
      "image/png": "[encoded data removed]",
      "text/plain": [
       "<Figure size 432x288 with 1 Axes>"
      ]
     },
     "metadata": {
      "needs_background": "light"
     },
     "output_type": "display_data"
    },
    {
     "data": {
      "image/png": "[encoded data removed]",
      "text/plain": [
       "<Figure size 432x288 with 1 Axes>"
      ]
     },
     "metadata": {
      "needs_background": "light"
     },
     "output_type": "display_data"
    }
   ],
   "source": [
    "ABC_train_test2.training_GAN_skip_connection(disc3,gen3,disc_opt,gen_opt,train_data,batch_size,n_epochs,criterion,prior_model,variance,bias,device)"
   ]
  },
  {
   "cell_type": "code",
   "execution_count": 17,
   "id": "c5e0717b",
   "metadata": {
    "execution": {
     "iopub.execute_input": "2022-06-12T06:29:16.639643Z",
     "iopub.status.busy": "2022-06-12T06:29:16.639257Z",
     "iopub.status.idle": "2022-06-12T06:29:17.474373Z",
     "shell.execute_reply": "2022-06-12T06:29:17.474777Z"
    },
    "id": "c5e0717b",
    "papermill": {
     "duration": 0.853265,
     "end_time": "2022-06-12T06:29:17.474901",
     "exception": false,
     "start_time": "2022-06-12T06:29:16.621636",
     "status": "completed"
    },
    "tags": []
   },
   "outputs": [
    {
     "data": {
      "application/scrapbook.scrap.json+json": {
       "data": 0.11993436843284376,
       "encoder": "json",
       "name": "ABC-GAN Model 3 MSE",
       "version": 1
      }
     },
     "metadata": {
      "scrapbook": {
       "data": true,
       "display": false,
       "name": "ABC-GAN Model 3 MSE"
      }
     },
     "output_type": "display_data"
    },
    {
     "data": {
      "application/scrapbook.scrap.json+json": {
       "data": 0.21170607298320415,
       "encoder": "json",
       "name": "ABC-GAN Model 3 MAE",
       "version": 1
      }
     },
     "metadata": {
      "scrapbook": {
       "data": true,
       "display": false,
       "name": "ABC-GAN Model 3 MAE"
      }
     },
     "output_type": "display_data"
    },
    {
     "data": {
      "application/scrapbook.scrap.json+json": {
       "data": 21.594019444286822,
       "encoder": "json",
       "name": "ABC-GAN Model 3 Manhattan Distance",
       "version": 1
      }
     },
     "metadata": {
      "scrapbook": {
       "data": true,
       "display": false,
       "name": "ABC-GAN Model 3 Manhattan Distance"
      }
     },
     "output_type": "display_data"
    },
    {
     "data": {
      "application/scrapbook.scrap.json+json": {
       "data": 3.497599769188854,
       "encoder": "json",
       "name": "ABC-GAN Model 3 Euclidean distance",
       "version": 1
      }
     },
     "metadata": {
      "scrapbook": {
       "data": true,
       "display": false,
       "name": "ABC-GAN Model 3 Euclidean distance"
      }
     },
     "output_type": "display_data"
    },
    {
     "data": {
      "application/scrapbook.scrap.json+json": {
       "data": [
        [
         0.11928159451582636,
         0.12045161367564987,
         0.11939050877149465,
         0.12119626933676382,
         0.11953798074267655,
         0.11962414256487841,
         0.12007347018529387,
         0.12120896346340855,
         0.12145604888532516,
         0.11939438990980528,
         0.11987508154457026,
         0.11933120471042619,
         0.12032911472475984,
         0.12026981631192603,
         0.12004311317677609,
         0.1209993929649743,
         0.11997138871781719,
         0.12034416504757112,
         0.1191763029662315,
         0.1201294024920156,
         0.11979903498102146,
         0.12062318573184051,
         0.12013415465308136,
         0.1201397472680944,
         0.11962242653490879,
         0.12089903972936583,
         0.1210702956736051,
         0.12103029207056945,
         0.11947160803341712,
         0.1206741444070803,
         0.1191596722822365,
         0.12012232303922314,
         0.11969311631309264,
         0.11951057711833006,
         0.1195371822518315,
         0.11963222976059246,
         0.12097516154264604,
         0.12011665899781267,
         0.11941390308676801,
         0.11962914256875412,
         0.11894768394646849,
         0.1195949994316721,
         0.11918245323105398,
         0.12051230600909375,
         0.1208885177967312,
         0.11989617982716075,
         0.12078116170078305,
         0.11896226986483582,
         0.11935713428212259,
         0.11891622160090197,
         0.11833022727625626,
         0.11979444213063285,
         0.12015904240662284,
         0.12043239520872574,
         0.12116145231847839,
         0.11987852581332008,
         0.11969717204189774,
         0.11936712389083784,
         0.12053463025618676,
         0.11887633690966151,
         0.12082799641746358,
         0.12048164269401668,
         0.11922031031743148,
         0.11913941952945493,
         0.12085981499656726,
         0.12073888059221315,
         0.12036162279342881,
         0.12071833033129849,
         0.11909277874039716,
         0.1203449172610212,
         0.11917767983747675,
         0.12043072511240645,
         0.1203048463284518,
         0.12056009567230633,
         0.11928356348397598,
         0.11974845306973393,
         0.1197819246708925,
         0.12057505994450028,
         0.12046560160346023,
         0.11864552361189014,
         0.11962860162062904,
         0.11989737317146573,
         0.11988150097983956,
         0.11991196517889868,
         0.11885282846315419,
         0.11867055698823843,
         0.1206970569719543,
         0.12033939097566532,
         0.11957023211611745,
         0.11912625186422439,
         0.12032026329212589,
         0.11999700768358099,
         0.1186722121005296,
         0.11955639258628957,
         0.12012372581095486,
         0.11937822914603351,
         0.1186395669457751,
         0.12051520152809735,
         0.11995761599671842,
         0.12033354615979114
        ],
        [
         0.21090908947528578,
         0.2118149088586078,
         0.21066446879915163,
         0.21246175117352428,
         0.21105493375045412,
         0.2106149941317591,
         0.2123708280497322,
         0.21267062224739908,
         0.21394098287119584,
         0.21163104251757556,
         0.2119086156142693,
         0.2099843173123458,
         0.2124634788316839,
         0.21228921395160405,
         0.21158092841506004,
         0.21157452719760875,
         0.2100179587289983,
         0.21199690966921694,
         0.21130033618971414,
         0.21171951633604133,
         0.21239122174972414,
         0.2129169012620753,
         0.21202301759930217,
         0.21182322520397456,
         0.21187688085232295,
         0.2134398021096108,
         0.21271705057691126,
         0.21372899318150446,
         0.20989013930746153,
         0.21319225028741592,
         0.21120959673734271,
         0.21155442611551753,
         0.2124136215915867,
         0.21095571151989348,
         0.21126401647194928,
         0.2119058232535334,
         0.2116607708819941,
         0.21110389100424215,
         0.21149704915781817,
         0.21076437841881723,
         0.21000921397524722,
         0.21249210860068893,
         0.21231559539834657,
         0.21384236684032515,
         0.2114839541050149,
         0.2133162952594313,
         0.21198898988465467,
         0.21158023481713792,
         0.21103337125889227,
         0.21035497836476447,
         0.21120348291508123,
         0.21044359914958477,
         0.2112706163715498,
         0.2116371130607292,
         0.21314576045409137,
         0.2123969865634161,
         0.21107077799445273,
         0.21006661423427217,
         0.21388164703168122,
         0.21151605759765588,
         0.21230426069129915,
         0.21229729954810703,
         0.21120374058099353,
         0.2112306893310126,
         0.2118055777733817,
         0.21173203247142772,
         0.21418890714937566,
         0.21181722646396534,
         0.2100652199165494,
         0.21245424924235717,
         0.21177910184305088,
         0.21167587733590135,
         0.2117882857062653,
         0.21261581636088736,
         0.21045222064005395,
         0.21181841132541498,
         0.21070048658579005,
         0.21258000682528114,
         0.21303268116624915,
         0.20972483703757033,
         0.21070545188644352,
         0.20874934428024525,
         0.21179367028468965,
         0.21249589473739558,
         0.21100163708130518,
         0.20975943183635964,
         0.21332286860720784,
         0.21233255200672382,
         0.21093745664784722,
         0.21031918537382985,
         0.21107995645234398,
         0.212988688519188,
         0.2105780610924258,
         0.21361793113835886,
         0.2136863800240498,
         0.21036435966836473,
         0.20909726283713884,
         0.2126128176482869,
         0.2111685834825039,
         0.2123808814395292
        ],
        [
         21.51272712647915,
         21.605120703577995,
         21.487775817513466,
         21.671098619699478,
         21.52760324254632,
         21.48272940143943,
         21.661824461072683,
         21.692403469234705,
         21.821980252861977,
         21.586366336792707,
         21.614678792655468,
         21.41840036585927,
         21.671274840831757,
         21.653499823063612,
         21.581254698336124,
         21.580601774156094,
         21.421831790357828,
         21.623684786260128,
         21.55263429135084,
         21.595390666276217,
         21.66390461847186,
         21.71752392873168,
         21.626347795128822,
         21.605968970805407,
         21.61144184693694,
         21.7708598151803,
         21.697139158844948,
         21.800357304513454,
         21.408794209361076,
         21.745609529316425,
         21.543378867208958,
         21.578551463782787,
         21.666189402341843,
         21.517482575029135,
         21.548929680138826,
         21.61439397186041,
         21.589398629963398,
         21.5325968824327,
         21.572699014097452,
         21.49796659871936,
         21.420939825475216,
         21.67419507727027,
         21.65619073063135,
         21.811921417713165,
         21.57136331871152,
         21.758262116461992,
         21.622876968234777,
         21.581183951348066,
         21.52540386840701,
         21.456207793205976,
         21.542755257338285,
         21.465247113257647,
         21.54960286989808,
         21.586985532194376,
         21.74086756631732,
         21.66449262946844,
         21.52921935543418,
         21.42679465189576,
         21.815927997231483,
         21.5746378749609,
         21.655034590512514,
         21.654324553906918,
         21.54278153926134,
         21.545530311763287,
         21.60416893288493,
         21.59666731208563,
         21.847268529236317,
         21.605357099324465,
         21.426652431488037,
         21.670333422720432,
         21.60146838799119,
         21.590939488261938,
         21.60240514203906,
         21.68681326881051,
         21.4661265052855,
         21.605477955192327,
         21.491449631750584,
         21.683160696178675,
         21.729333478957415,
         21.391933377832174,
         21.49195609241724,
         21.292433116585016,
         21.602954369038343,
         21.67458126321435,
         21.52216698229313,
         21.395462047308683,
         21.7589325979352,
         21.65792030468583,
         21.515620578080416,
         21.452556908130646,
         21.530155558139086,
         21.724846228957176,
         21.47896223142743,
         21.789028976112604,
         21.79601076245308,
         21.4571646861732,
         21.32792080938816,
         21.686507400125265,
         21.539195515215397,
         21.66284990683198
        ],
        [
         3.488082946349511,
         3.5051482985625992,
         3.489675041417532,
         3.515966363938926,
         3.491829611500682,
         3.4930878233473597,
         3.499641975816951,
         3.5161504907025343,
         3.519732516300516,
         3.4897317620126826,
         3.4967496789942176,
         3.4888082321135787,
         3.5033654822078577,
         3.502502143299338,
         3.4991995576175934,
         3.5131094606384496,
         3.4981540345183992,
         3.503584569387794,
         3.486543116405648,
         3.500456977908112,
         3.4956403659507345,
         3.5076437881643194,
         3.500526213959024,
         3.5006076931506658,
         3.4930627687690787,
         3.5116523251021468,
         3.5141386083516566,
         3.5135579959918237,
         3.490860068723543,
         3.508384632494303,
         3.4862998397711173,
         3.5003538321147993,
         3.4940947130745394,
         3.4914293442757316,
         3.491817949104279,
         3.4932058965340755,
         3.5127576741571422,
         3.5002713063099677,
         3.490016921857305,
         3.493160823954849,
         3.4831973476304467,
         3.4926623000270944,
         3.4866330792854447,
         3.506031262400202,
         3.5114995109307046,
         3.4970573833396545,
         3.5099399558225888,
         3.483410904015381,
         3.489187254472953,
         3.482736654312525,
         3.474144956989869,
         3.495573357451471,
         3.5008887907894946,
         3.504868658208182,
         3.5154612978220636,
         3.4967999132004457,
         3.4941539102153993,
         3.4893332653768483,
         3.506355983942738,
         3.4821525476040636,
         3.5106204059370025,
         3.50558519434198,
         3.4871867819745486,
         3.4860035559368554,
         3.511082615041955,
         3.5093255506444168,
         3.503838684204759,
         3.509026887014753,
         3.485321137502326,
         3.503595518981059,
         3.4865632567648364,
         3.5048443562397256,
         3.503012178897197,
         3.5067263592380917,
         3.4881117349313153,
         3.4949023181074548,
         3.495390724429965,
         3.5069439850586472,
         3.5053518173719658,
         3.478770387423233,
         3.4931529261262177,
         3.497074786659488,
         3.4968433050315006,
         3.497287584435638,
         3.481808223214157,
         3.479137366187245,
         3.5087176875803694,
         3.503515074823835,
         3.492300627930531,
         3.4858109085478053,
         3.5032366257215393,
         3.498527516502515,
         3.4791616280727777,
         3.492098515764057,
         3.5003742703770113,
         3.4894955757093906,
         3.478683059502411,
         3.506073381414874,
         3.4979532346309714,
         3.5034299919220158
        ]
       ],
       "encoder": "json",
       "name": "ABC_GAN_3 Metrics",
       "version": 1
      }
     },
     "metadata": {
      "scrapbook": {
       "data": true,
       "display": false,
       "name": "ABC_GAN_3 Metrics"
      }
     },
     "output_type": "display_data"
    },
    {
     "name": "stdout",
     "output_type": "stream",
     "text": [
      "MSE\n",
      "0.11993436843284376\n"
     ]
    }
   ],
   "source": [
    "ABC_GAN3_metrics=ABC_train_test2.test_generator(gen3,test_data,prior_model,variance,bias,\"3\",device)\n",
    "sb.glue(\"ABC_GAN_3 Metrics\",ABC_GAN3_metrics)\n",
    "\n",
    "print(\"MSE\")\n",
    "print(mean(ABC_GAN3_metrics[0]))"
   ]
  },
  {
   "cell_type": "code",
   "execution_count": 18,
   "id": "c8e46b48",
   "metadata": {
    "execution": {
     "iopub.execute_input": "2022-06-12T06:29:17.511456Z",
     "iopub.status.busy": "2022-06-12T06:29:17.511087Z",
     "iopub.status.idle": "2022-06-12T06:29:17.829865Z",
     "shell.execute_reply": "2022-06-12T06:29:17.830121Z"
    },
    "id": "c8e46b48",
    "papermill": {
     "duration": 0.338158,
     "end_time": "2022-06-12T06:29:17.830243",
     "exception": false,
     "start_time": "2022-06-12T06:29:17.492085",
     "status": "completed"
    },
    "tags": []
   },
   "outputs": [
    {
     "data": {
      "image/png": "[encoded data removed]",
      "text/plain": [
       "<Figure size 432x288 with 1 Axes>"
      ]
     },
     "metadata": {
      "needs_background": "light"
     },
     "output_type": "display_data"
    },
    {
     "data": {
      "image/png": "[encoded data removed]",
      "text/plain": [
       "<Figure size 432x288 with 1 Axes>"
      ]
     },
     "metadata": {
      "needs_background": "light"
     },
     "output_type": "display_data"
    },
    {
     "data": {
      "image/png": "[encoded data removed]",
      "text/plain": [
       "<Figure size 432x288 with 1 Axes>"
      ]
     },
     "metadata": {
      "needs_background": "light"
     },
     "output_type": "display_data"
    },
    {
     "data": {
      "image/png": "[encoded data removed]",
      "text/plain": [
       "<Figure size 432x288 with 1 Axes>"
      ]
     },
     "metadata": {
      "needs_background": "light"
     },
     "output_type": "display_data"
    }
   ],
   "source": [
    "sanityChecks.discProbVsError(train_data,disc3,device)\n",
    "sanityChecks.discProbVsError(test_data,disc3,device)"
   ]
  },
  {
   "cell_type": "markdown",
   "id": "a5bd74c3",
   "metadata": {
    "id": "a5bd74c3",
    "papermill": {
     "duration": 0.019218,
     "end_time": "2022-06-12T06:29:17.869339",
     "exception": false,
     "start_time": "2022-06-12T06:29:17.850121",
     "status": "completed"
    },
    "tags": []
   },
   "source": [
    "## Skip Connection Model Analysis - ABC-GAN "
   ]
  },
  {
   "cell_type": "markdown",
   "id": "5744a8bf",
   "metadata": {
    "id": "5744a8bf",
    "papermill": {
     "duration": 0.018852,
     "end_time": "2022-06-12T06:29:17.907305",
     "exception": false,
     "start_time": "2022-06-12T06:29:17.888453",
     "status": "completed"
    },
    "tags": []
   },
   "source": [
    "### Weight Analysis \n",
    "\n",
    "Study the weights of the skip connection layer\n",
    "\n",
    "Equation of the skip connection is \n",
    "\n",
    "$output = y_{gan} * w + y_{abc} * (1-w)$"
   ]
  },
  {
   "cell_type": "code",
   "execution_count": 19,
   "id": "52c31dea",
   "metadata": {
    "execution": {
     "iopub.execute_input": "2022-06-12T06:29:17.948304Z",
     "iopub.status.busy": "2022-06-12T06:29:17.947888Z",
     "iopub.status.idle": "2022-06-12T06:29:17.951302Z",
     "shell.execute_reply": "2022-06-12T06:29:17.951549Z"
    },
    "id": "52c31dea",
    "papermill": {
     "duration": 0.025313,
     "end_time": "2022-06-12T06:29:17.951665",
     "exception": false,
     "start_time": "2022-06-12T06:29:17.926352",
     "status": "completed"
    },
    "tags": []
   },
   "outputs": [
    {
     "name": "stdout",
     "output_type": "stream",
     "text": [
      "Weight of the node at skip connection\n",
      "Parameter containing:\n",
      "tensor([[0.0858]], requires_grad=True)\n"
     ]
    },
    {
     "data": {
      "application/scrapbook.scrap.json+json": {
       "data": 0.08577347546815872,
       "encoder": "json",
       "name": "Skip Connection Weight",
       "version": 1
      }
     },
     "metadata": {
      "scrapbook": {
       "data": true,
       "display": false,
       "name": "Skip Connection Weight"
      }
     },
     "output_type": "display_data"
    }
   ],
   "source": [
    "print(\"Weight of the node at skip connection\")\n",
    "for name,param in gen3.named_parameters():\n",
    "    if(name == \"skipNode.weight\"):\n",
    "        print(param)\n",
    "        sb.glue(\"Skip Connection Weight\",param.item())"
   ]
  }
 ],
 "metadata": {
  "colab": {
   "collapsed_sections": [],
   "name": "ABC_GAN_Model-Catboost_Pre-gen.ipynb",
   "provenance": []
  },
  "interpreter": {
   "hash": "31f2aee4e71d21fbe5cf8b01ff0e069b9275f58929596ceb00d14d90e3e16cd6"
  },
  "kernelspec": {
   "display_name": "Python 3 (ipykernel)",
   "language": "python",
   "name": "python3"
  },
  "language_info": {
   "codemirror_mode": {
    "name": "ipython",
    "version": 3
   },
   "file_extension": ".py",
   "mimetype": "text/x-python",
   "name": "python",
   "nbconvert_exporter": "python",
   "pygments_lexer": "ipython3",
   "version": "3.8.11"
  },
  "papermill": {
   "default_parameters": {},
   "duration": 244.5937,
   "end_time": "2022-06-12T06:29:18.278949",
   "environment_variables": {},
   "exception": null,
   "input_path": "ABC_GAN-Catboost.ipynb",
   "output_path": "./ABC_GAN_Catboost/ABC-GAN_output_7_5.ipynb",
   "parameters": {
    "bias": 0.1,
    "variance": 0.01
   },
   "start_time": "2022-06-12T06:25:13.685249",
   "version": "2.3.3"
  }
 },
 "nbformat": 4,
 "nbformat_minor": 5
}