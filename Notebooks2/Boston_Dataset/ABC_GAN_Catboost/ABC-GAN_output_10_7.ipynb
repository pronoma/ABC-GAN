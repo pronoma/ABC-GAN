{
 "cells": [
  {
   "cell_type": "markdown",
   "id": "622780e6",
   "metadata": {
    "id": "622780e6",
    "papermill": {
     "duration": 0.022928,
     "end_time": "2022-06-12T08:48:15.562972",
     "exception": false,
     "start_time": "2022-06-12T08:48:15.540044",
     "status": "completed"
    },
    "tags": []
   },
   "source": [
    "## Import Libraries "
   ]
  },
  {
   "cell_type": "code",
   "execution_count": 1,
   "id": "a62397e3",
   "metadata": {
    "execution": {
     "iopub.execute_input": "2022-06-12T08:48:15.599190Z",
     "iopub.status.busy": "2022-06-12T08:48:15.598596Z",
     "iopub.status.idle": "2022-06-12T08:48:15.601138Z",
     "shell.execute_reply": "2022-06-12T08:48:15.601486Z"
    },
    "id": "a62397e3",
    "papermill": {
     "duration": 0.022807,
     "end_time": "2022-06-12T08:48:15.601702",
     "exception": false,
     "start_time": "2022-06-12T08:48:15.578895",
     "status": "completed"
    },
    "tags": []
   },
   "outputs": [],
   "source": [
    "import warnings\n",
    "import sys\n",
    "sys.path.insert(0, '../../src')\n",
    "warnings.filterwarnings('ignore')"
   ]
  },
  {
   "cell_type": "code",
   "execution_count": 2,
   "id": "d6a4e155",
   "metadata": {
    "execution": {
     "iopub.execute_input": "2022-06-12T08:48:15.622755Z",
     "iopub.status.busy": "2022-06-12T08:48:15.622346Z",
     "iopub.status.idle": "2022-06-12T08:48:17.377575Z",
     "shell.execute_reply": "2022-06-12T08:48:17.377834Z"
    },
    "id": "d6a4e155",
    "papermill": {
     "duration": 1.766667,
     "end_time": "2022-06-12T08:48:17.377957",
     "exception": false,
     "start_time": "2022-06-12T08:48:15.611290",
     "status": "completed"
    },
    "tags": []
   },
   "outputs": [],
   "source": [
    "import ABC_train_test2\n",
    "import bostonDataset\n",
    "import network\n",
    "import dataset\n",
    "import sanityChecks\n",
    "import torch \n",
    "import scrapbook as sb\n",
    "from statistics import mean \n",
    "import catboost as ctb \n",
    "from sklearn.model_selection import train_test_split\n",
    "from sklearn.metrics import mean_squared_error,mean_absolute_error\n",
    "import numpy as np"
   ]
  },
  {
   "cell_type": "markdown",
   "id": "2fa5b0f7",
   "metadata": {
    "id": "2fa5b0f7",
    "papermill": {
     "duration": 0.00723,
     "end_time": "2022-06-12T08:48:17.392477",
     "exception": false,
     "start_time": "2022-06-12T08:48:17.385247",
     "status": "completed"
    },
    "tags": []
   },
   "source": [
    "## Parameters "
   ]
  },
  {
   "cell_type": "code",
   "execution_count": 3,
   "id": "783186fb",
   "metadata": {
    "execution": {
     "iopub.execute_input": "2022-06-12T08:48:17.408833Z",
     "iopub.status.busy": "2022-06-12T08:48:17.408455Z",
     "iopub.status.idle": "2022-06-12T08:48:17.409676Z",
     "shell.execute_reply": "2022-06-12T08:48:17.409916Z"
    },
    "id": "783186fb",
    "papermill": {
     "duration": 0.010558,
     "end_time": "2022-06-12T08:48:17.410027",
     "exception": false,
     "start_time": "2022-06-12T08:48:17.399469",
     "status": "completed"
    },
    "tags": [
     "parameters"
    ]
   },
   "outputs": [],
   "source": [
    "variance = 1\n",
    "bias = 1 "
   ]
  },
  {
   "cell_type": "code",
   "execution_count": 4,
   "id": "cc517fa5",
   "metadata": {
    "execution": {
     "iopub.execute_input": "2022-06-12T08:48:17.426062Z",
     "iopub.status.busy": "2022-06-12T08:48:17.425679Z",
     "iopub.status.idle": "2022-06-12T08:48:17.426947Z",
     "shell.execute_reply": "2022-06-12T08:48:17.427190Z"
    },
    "papermill": {
     "duration": 0.010105,
     "end_time": "2022-06-12T08:48:17.427294",
     "exception": false,
     "start_time": "2022-06-12T08:48:17.417189",
     "status": "completed"
    },
    "tags": [
     "injected-parameters"
    ]
   },
   "outputs": [],
   "source": [
    "# Parameters\n",
    "variance = 0.1\n",
    "bias = 0.01\n"
   ]
  },
  {
   "cell_type": "markdown",
   "id": "391cdbfd",
   "metadata": {
    "id": "391cdbfd",
    "papermill": {
     "duration": 0.006847,
     "end_time": "2022-06-12T08:48:17.441143",
     "exception": false,
     "start_time": "2022-06-12T08:48:17.434296",
     "status": "completed"
    },
    "tags": []
   },
   "source": [
    "## Dataset \n"
   ]
  },
  {
   "cell_type": "code",
   "execution_count": 5,
   "id": "5b51f161",
   "metadata": {
    "execution": {
     "iopub.execute_input": "2022-06-12T08:48:17.456826Z",
     "iopub.status.busy": "2022-06-12T08:48:17.456473Z",
     "iopub.status.idle": "2022-06-12T08:48:17.457725Z",
     "shell.execute_reply": "2022-06-12T08:48:17.457974Z"
    },
    "id": "5b51f161",
    "papermill": {
     "duration": 0.009981,
     "end_time": "2022-06-12T08:48:17.458081",
     "exception": false,
     "start_time": "2022-06-12T08:48:17.448100",
     "status": "completed"
    },
    "tags": []
   },
   "outputs": [],
   "source": [
    "#Parameters \n",
    "n_features = 13\n",
    "n_samples= 506\n",
    "n_target = 1 "
   ]
  },
  {
   "cell_type": "code",
   "execution_count": 6,
   "id": "5d6eced4",
   "metadata": {
    "execution": {
     "iopub.execute_input": "2022-06-12T08:48:17.474088Z",
     "iopub.status.busy": "2022-06-12T08:48:17.473732Z",
     "iopub.status.idle": "2022-06-12T08:48:17.484546Z",
     "shell.execute_reply": "2022-06-12T08:48:17.484785Z"
    },
    "id": "5d6eced4",
    "papermill": {
     "duration": 0.019703,
     "end_time": "2022-06-12T08:48:17.484895",
     "exception": false,
     "start_time": "2022-06-12T08:48:17.465192",
     "status": "completed"
    },
    "tags": []
   },
   "outputs": [
    {
     "name": "stdout",
     "output_type": "stream",
     "text": [
      "         X1        X2        X3        X4        X5        X6        X7  \\\n",
      "0 -0.419782  0.284830 -1.287909 -0.272599 -0.144217  0.413672 -0.120013   \n",
      "1 -0.417339 -0.487722 -0.593381 -0.272599 -0.740262  0.194274  0.367166   \n",
      "2 -0.417342 -0.487722 -0.593381 -0.272599 -0.740262  1.282714 -0.265812   \n",
      "3 -0.416750 -0.487722 -1.306878 -0.272599 -0.835284  1.016303 -0.809889   \n",
      "4 -0.412482 -0.487722 -1.306878 -0.272599 -0.835284  1.228577 -0.511180   \n",
      "\n",
      "         X8        X9       X10       X11       X12       X13         Y  \n",
      "0  0.140214 -0.982843 -0.666608 -1.459000  0.441052 -1.075562  0.159686  \n",
      "1  0.557160 -0.867883 -0.987329 -0.303094  0.441052 -0.492439 -0.101524  \n",
      "2  0.557160 -0.867883 -0.987329 -0.303094  0.396427 -1.208727  1.324247  \n",
      "3  1.077737 -0.752922 -1.106115  0.113032  0.416163 -1.361517  1.182758  \n",
      "4  1.077737 -0.752922 -1.106115  0.113032  0.441052 -1.026501  1.487503  \n"
     ]
    }
   ],
   "source": [
    "X,Y = bostonDataset.boston_data()"
   ]
  },
  {
   "cell_type": "code",
   "execution_count": 7,
   "id": "fe007438",
   "metadata": {
    "execution": {
     "iopub.execute_input": "2022-06-12T08:48:17.502553Z",
     "iopub.status.busy": "2022-06-12T08:48:17.502174Z",
     "iopub.status.idle": "2022-06-12T08:48:17.503681Z",
     "shell.execute_reply": "2022-06-12T08:48:17.503913Z"
    },
    "id": "fe007438",
    "papermill": {
     "duration": 0.011708,
     "end_time": "2022-06-12T08:48:17.504023",
     "exception": false,
     "start_time": "2022-06-12T08:48:17.492315",
     "status": "completed"
    },
    "tags": []
   },
   "outputs": [],
   "source": [
    "#Train test split for dataset \n",
    "X_train,X_test,Y_train,Y_test = train_test_split(X,Y,test_size = 0.2)\n",
    "train_data = dataset.CustomDataset(X_train,Y_train)\n",
    "test_data = dataset.CustomDataset(X_test,Y_test)\n"
   ]
  },
  {
   "cell_type": "markdown",
   "id": "a9a1af34",
   "metadata": {
    "id": "a9a1af34",
    "papermill": {
     "duration": 0.007339,
     "end_time": "2022-06-12T08:48:17.518664",
     "exception": false,
     "start_time": "2022-06-12T08:48:17.511325",
     "status": "completed"
    },
    "tags": []
   },
   "source": [
    "## Training Parameters "
   ]
  },
  {
   "cell_type": "code",
   "execution_count": 8,
   "id": "952b7fc8",
   "metadata": {
    "execution": {
     "iopub.execute_input": "2022-06-12T08:48:17.535563Z",
     "iopub.status.busy": "2022-06-12T08:48:17.535197Z",
     "iopub.status.idle": "2022-06-12T08:48:17.536387Z",
     "shell.execute_reply": "2022-06-12T08:48:17.536741Z"
    },
    "id": "952b7fc8",
    "papermill": {
     "duration": 0.011006,
     "end_time": "2022-06-12T08:48:17.536850",
     "exception": false,
     "start_time": "2022-06-12T08:48:17.525844",
     "status": "completed"
    },
    "tags": []
   },
   "outputs": [],
   "source": [
    "batch_size = 32\n",
    "n_epochs = 1000\n",
    "#Select the device \n",
    "device = torch.device('cuda' if torch.cuda.is_available() else 'cpu')"
   ]
  },
  {
   "cell_type": "markdown",
   "id": "a95e1600",
   "metadata": {
    "id": "a95e1600",
    "papermill": {
     "duration": 0.0072,
     "end_time": "2022-06-12T08:48:17.551315",
     "exception": false,
     "start_time": "2022-06-12T08:48:17.544115",
     "status": "completed"
    },
    "tags": []
   },
   "source": [
    "# ABC Pre-generator Model \n",
    "\n",
    "1. The catboost model is used as a pre-generator model for the ABC-GAN. \n",
    "2. The model is first trained on the entire dataset \n",
    "3. It generats X,Y pairs and we add some Gaussian noise with mean 0 and variance 1 to it which is then feed as input to the generator.\n"
   ]
  },
  {
   "cell_type": "code",
   "execution_count": 9,
   "id": "ff8ce7bd",
   "metadata": {
    "execution": {
     "iopub.execute_input": "2022-06-12T08:48:17.570550Z",
     "iopub.status.busy": "2022-06-12T08:48:17.570158Z",
     "iopub.status.idle": "2022-06-12T08:48:18.526895Z",
     "shell.execute_reply": "2022-06-12T08:48:18.527188Z"
    },
    "id": "ff8ce7bd",
    "papermill": {
     "duration": 0.968783,
     "end_time": "2022-06-12T08:48:18.527308",
     "exception": false,
     "start_time": "2022-06-12T08:48:17.558525",
     "status": "completed"
    },
    "tags": []
   },
   "outputs": [
    {
     "name": "stdout",
     "output_type": "stream",
     "text": [
      "Learning rate set to 0.033215\n",
      "0:\tlearn: 0.9939992\ttotal: 58.8ms\tremaining: 58.8s\n",
      "1:\tlearn: 0.9741094\ttotal: 59.9ms\tremaining: 29.9s\n",
      "2:\tlearn: 0.9521614\ttotal: 61ms\tremaining: 20.3s\n",
      "3:\tlearn: 0.9369257\ttotal: 62.1ms\tremaining: 15.5s\n",
      "4:\tlearn: 0.9214178\ttotal: 63.1ms\tremaining: 12.6s\n",
      "5:\tlearn: 0.9054019\ttotal: 64ms\tremaining: 10.6s\n",
      "6:\tlearn: 0.8893720\ttotal: 65ms\tremaining: 9.22s\n",
      "7:\tlearn: 0.8726348\ttotal: 65.9ms\tremaining: 8.17s\n",
      "8:\tlearn: 0.8572877\ttotal: 66.7ms\tremaining: 7.35s\n",
      "9:\tlearn: 0.8397571\ttotal: 67.7ms\tremaining: 6.7s\n",
      "10:\tlearn: 0.8241981\ttotal: 68.6ms\tremaining: 6.17s\n",
      "11:\tlearn: 0.8097734\ttotal: 69.6ms\tremaining: 5.73s\n",
      "12:\tlearn: 0.7947201\ttotal: 70.4ms\tremaining: 5.35s\n",
      "13:\tlearn: 0.7795680\ttotal: 71.3ms\tremaining: 5.02s\n",
      "14:\tlearn: 0.7673140\ttotal: 72.3ms\tremaining: 4.74s\n",
      "15:\tlearn: 0.7522230\ttotal: 73.1ms\tremaining: 4.5s\n",
      "16:\tlearn: 0.7399567\ttotal: 73.9ms\tremaining: 4.28s\n",
      "17:\tlearn: 0.7286468\ttotal: 74.8ms\tremaining: 4.08s\n",
      "18:\tlearn: 0.7160015\ttotal: 75.7ms\tremaining: 3.91s\n",
      "19:\tlearn: 0.7033106\ttotal: 76.5ms\tremaining: 3.75s\n",
      "20:\tlearn: 0.6899611\ttotal: 77.3ms\tremaining: 3.6s\n",
      "21:\tlearn: 0.6784107\ttotal: 78.1ms\tremaining: 3.47s\n",
      "22:\tlearn: 0.6686039\ttotal: 79ms\tremaining: 3.35s\n",
      "23:\tlearn: 0.6583993\ttotal: 79.7ms\tremaining: 3.24s\n",
      "24:\tlearn: 0.6481894\ttotal: 80.4ms\tremaining: 3.14s\n",
      "25:\tlearn: 0.6381484\ttotal: 81.2ms\tremaining: 3.04s\n",
      "26:\tlearn: 0.6290874\ttotal: 82ms\tremaining: 2.95s\n",
      "27:\tlearn: 0.6204025\ttotal: 82.7ms\tremaining: 2.87s\n",
      "28:\tlearn: 0.6113999\ttotal: 83.5ms\tremaining: 2.79s\n",
      "29:\tlearn: 0.6011615\ttotal: 84.2ms\tremaining: 2.72s\n",
      "30:\tlearn: 0.5915841\ttotal: 85ms\tremaining: 2.66s\n",
      "31:\tlearn: 0.5832091\ttotal: 85.8ms\tremaining: 2.6s\n",
      "32:\tlearn: 0.5764085\ttotal: 86.5ms\tremaining: 2.54s\n",
      "33:\tlearn: 0.5686178\ttotal: 87.3ms\tremaining: 2.48s\n",
      "34:\tlearn: 0.5605843\ttotal: 88ms\tremaining: 2.43s\n",
      "35:\tlearn: 0.5531385\ttotal: 88.8ms\tremaining: 2.38s\n",
      "36:\tlearn: 0.5469042\ttotal: 89.6ms\tremaining: 2.33s\n",
      "37:\tlearn: 0.5398314\ttotal: 90.2ms\tremaining: 2.28s\n",
      "38:\tlearn: 0.5320951\ttotal: 91ms\tremaining: 2.24s\n",
      "39:\tlearn: 0.5242043\ttotal: 91.8ms\tremaining: 2.2s\n",
      "40:\tlearn: 0.5182276\ttotal: 92.6ms\tremaining: 2.17s\n",
      "41:\tlearn: 0.5107857\ttotal: 93.4ms\tremaining: 2.13s\n",
      "42:\tlearn: 0.5053361\ttotal: 94.1ms\tremaining: 2.09s\n",
      "43:\tlearn: 0.4993367\ttotal: 94.8ms\tremaining: 2.06s\n",
      "44:\tlearn: 0.4942169\ttotal: 95.5ms\tremaining: 2.03s\n",
      "45:\tlearn: 0.4874563\ttotal: 96.2ms\tremaining: 2s\n",
      "46:\tlearn: 0.4819903\ttotal: 96.9ms\tremaining: 1.96s\n",
      "47:\tlearn: 0.4761379\ttotal: 97.7ms\tremaining: 1.94s\n",
      "48:\tlearn: 0.4703978\ttotal: 98.4ms\tremaining: 1.91s\n",
      "49:\tlearn: 0.4653546\ttotal: 99.1ms\tremaining: 1.88s\n",
      "50:\tlearn: 0.4597612\ttotal: 99.9ms\tremaining: 1.86s\n",
      "51:\tlearn: 0.4546339\ttotal: 101ms\tremaining: 1.83s\n",
      "52:\tlearn: 0.4484033\ttotal: 101ms\tremaining: 1.81s\n",
      "53:\tlearn: 0.4446552\ttotal: 102ms\tremaining: 1.79s\n",
      "54:\tlearn: 0.4395701\ttotal: 103ms\tremaining: 1.76s\n",
      "55:\tlearn: 0.4352554\ttotal: 104ms\tremaining: 1.75s\n",
      "56:\tlearn: 0.4312218\ttotal: 104ms\tremaining: 1.72s\n",
      "57:\tlearn: 0.4262180\ttotal: 105ms\tremaining: 1.71s\n",
      "58:\tlearn: 0.4228068\ttotal: 106ms\tremaining: 1.69s\n",
      "59:\tlearn: 0.4191554\ttotal: 107ms\tremaining: 1.67s\n"
     ]
    },
    {
     "name": "stdout",
     "output_type": "stream",
     "text": [
      "60:\tlearn: 0.4153545\ttotal: 108ms\tremaining: 1.67s\n",
      "61:\tlearn: 0.4108996\ttotal: 109ms\tremaining: 1.65s\n",
      "62:\tlearn: 0.4063011\ttotal: 110ms\tremaining: 1.63s\n",
      "63:\tlearn: 0.4020311\ttotal: 111ms\tremaining: 1.62s\n",
      "64:\tlearn: 0.3984891\ttotal: 111ms\tremaining: 1.6s\n",
      "65:\tlearn: 0.3950012\ttotal: 112ms\tremaining: 1.59s\n",
      "66:\tlearn: 0.3908411\ttotal: 113ms\tremaining: 1.57s\n",
      "67:\tlearn: 0.3867940\ttotal: 114ms\tremaining: 1.56s\n",
      "68:\tlearn: 0.3838238\ttotal: 115ms\tremaining: 1.55s\n",
      "69:\tlearn: 0.3807755\ttotal: 116ms\tremaining: 1.53s\n",
      "70:\tlearn: 0.3776245\ttotal: 116ms\tremaining: 1.52s\n",
      "71:\tlearn: 0.3753710\ttotal: 117ms\tremaining: 1.51s\n",
      "72:\tlearn: 0.3728082\ttotal: 118ms\tremaining: 1.5s\n",
      "73:\tlearn: 0.3693616\ttotal: 119ms\tremaining: 1.49s\n",
      "74:\tlearn: 0.3661445\ttotal: 119ms\tremaining: 1.47s\n",
      "75:\tlearn: 0.3631343\ttotal: 120ms\tremaining: 1.46s\n",
      "76:\tlearn: 0.3604755\ttotal: 121ms\tremaining: 1.45s\n",
      "77:\tlearn: 0.3574494\ttotal: 122ms\tremaining: 1.44s\n",
      "78:\tlearn: 0.3555824\ttotal: 123ms\tremaining: 1.43s\n",
      "79:\tlearn: 0.3530665\ttotal: 123ms\tremaining: 1.42s\n",
      "80:\tlearn: 0.3505033\ttotal: 124ms\tremaining: 1.41s\n",
      "81:\tlearn: 0.3479927\ttotal: 125ms\tremaining: 1.4s\n",
      "82:\tlearn: 0.3455993\ttotal: 126ms\tremaining: 1.39s\n",
      "83:\tlearn: 0.3427594\ttotal: 127ms\tremaining: 1.38s\n",
      "84:\tlearn: 0.3402673\ttotal: 128ms\tremaining: 1.37s\n",
      "85:\tlearn: 0.3374919\ttotal: 129ms\tremaining: 1.36s\n",
      "86:\tlearn: 0.3351287\ttotal: 129ms\tremaining: 1.36s\n",
      "87:\tlearn: 0.3326713\ttotal: 130ms\tremaining: 1.35s\n",
      "88:\tlearn: 0.3302377\ttotal: 131ms\tremaining: 1.34s\n",
      "89:\tlearn: 0.3280424\ttotal: 133ms\tremaining: 1.34s\n",
      "90:\tlearn: 0.3261002\ttotal: 133ms\tremaining: 1.33s\n",
      "91:\tlearn: 0.3239911\ttotal: 134ms\tremaining: 1.33s\n",
      "92:\tlearn: 0.3217700\ttotal: 135ms\tremaining: 1.32s\n",
      "93:\tlearn: 0.3199830\ttotal: 136ms\tremaining: 1.31s\n",
      "94:\tlearn: 0.3178701\ttotal: 137ms\tremaining: 1.3s\n",
      "95:\tlearn: 0.3167977\ttotal: 138ms\tremaining: 1.29s\n",
      "96:\tlearn: 0.3145924\ttotal: 138ms\tremaining: 1.29s\n",
      "97:\tlearn: 0.3129464\ttotal: 139ms\tremaining: 1.28s\n",
      "98:\tlearn: 0.3116182\ttotal: 140ms\tremaining: 1.27s\n",
      "99:\tlearn: 0.3100695\ttotal: 141ms\tremaining: 1.27s\n",
      "100:\tlearn: 0.3088220\ttotal: 142ms\tremaining: 1.26s\n",
      "101:\tlearn: 0.3075113\ttotal: 142ms\tremaining: 1.25s\n",
      "102:\tlearn: 0.3058982\ttotal: 143ms\tremaining: 1.25s\n",
      "103:\tlearn: 0.3045221\ttotal: 144ms\tremaining: 1.24s\n",
      "104:\tlearn: 0.3031377\ttotal: 145ms\tremaining: 1.23s\n",
      "105:\tlearn: 0.3020877\ttotal: 145ms\tremaining: 1.23s\n",
      "106:\tlearn: 0.3007019\ttotal: 146ms\tremaining: 1.22s\n",
      "107:\tlearn: 0.2994052\ttotal: 147ms\tremaining: 1.21s\n",
      "108:\tlearn: 0.2978410\ttotal: 148ms\tremaining: 1.21s\n",
      "109:\tlearn: 0.2965047\ttotal: 149ms\tremaining: 1.2s\n",
      "110:\tlearn: 0.2949997\ttotal: 150ms\tremaining: 1.2s\n",
      "111:\tlearn: 0.2936749\ttotal: 151ms\tremaining: 1.19s\n",
      "112:\tlearn: 0.2922351\ttotal: 151ms\tremaining: 1.19s\n",
      "113:\tlearn: 0.2906600\ttotal: 152ms\tremaining: 1.18s\n",
      "114:\tlearn: 0.2895034\ttotal: 153ms\tremaining: 1.18s\n",
      "115:\tlearn: 0.2883636\ttotal: 154ms\tremaining: 1.17s\n",
      "116:\tlearn: 0.2871045\ttotal: 155ms\tremaining: 1.17s\n",
      "117:\tlearn: 0.2858517\ttotal: 156ms\tremaining: 1.16s\n",
      "118:\tlearn: 0.2846539\ttotal: 156ms\tremaining: 1.16s\n",
      "119:\tlearn: 0.2835841\ttotal: 157ms\tremaining: 1.15s\n",
      "120:\tlearn: 0.2822018\ttotal: 158ms\tremaining: 1.15s\n",
      "121:\tlearn: 0.2812928\ttotal: 159ms\tremaining: 1.14s\n",
      "122:\tlearn: 0.2801156\ttotal: 160ms\tremaining: 1.14s\n",
      "123:\tlearn: 0.2790075\ttotal: 161ms\tremaining: 1.13s\n",
      "124:\tlearn: 0.2781966\ttotal: 161ms\tremaining: 1.13s\n",
      "125:\tlearn: 0.2770324\ttotal: 162ms\tremaining: 1.13s\n",
      "126:\tlearn: 0.2757963\ttotal: 163ms\tremaining: 1.12s\n",
      "127:\tlearn: 0.2747163\ttotal: 164ms\tremaining: 1.12s\n",
      "128:\tlearn: 0.2733426\ttotal: 165ms\tremaining: 1.11s\n",
      "129:\tlearn: 0.2725544\ttotal: 166ms\tremaining: 1.11s\n",
      "130:\tlearn: 0.2717831\ttotal: 166ms\tremaining: 1.1s\n",
      "131:\tlearn: 0.2706113\ttotal: 167ms\tremaining: 1.1s\n",
      "132:\tlearn: 0.2696214\ttotal: 168ms\tremaining: 1.09s\n",
      "133:\tlearn: 0.2684153\ttotal: 169ms\tremaining: 1.09s\n",
      "134:\tlearn: 0.2676864\ttotal: 170ms\tremaining: 1.09s\n",
      "135:\tlearn: 0.2668623\ttotal: 170ms\tremaining: 1.08s\n",
      "136:\tlearn: 0.2660249\ttotal: 171ms\tremaining: 1.08s\n",
      "137:\tlearn: 0.2648239\ttotal: 172ms\tremaining: 1.07s\n",
      "138:\tlearn: 0.2638703\ttotal: 173ms\tremaining: 1.07s\n",
      "139:\tlearn: 0.2629226\ttotal: 174ms\tremaining: 1.07s\n",
      "140:\tlearn: 0.2622333\ttotal: 175ms\tremaining: 1.07s\n",
      "141:\tlearn: 0.2611766\ttotal: 176ms\tremaining: 1.06s\n",
      "142:\tlearn: 0.2600115\ttotal: 177ms\tremaining: 1.06s\n",
      "143:\tlearn: 0.2593546\ttotal: 178ms\tremaining: 1.06s\n",
      "144:\tlearn: 0.2582694\ttotal: 178ms\tremaining: 1.05s\n",
      "145:\tlearn: 0.2574901\ttotal: 179ms\tremaining: 1.05s\n",
      "146:\tlearn: 0.2565691\ttotal: 180ms\tremaining: 1.04s\n",
      "147:\tlearn: 0.2555913\ttotal: 181ms\tremaining: 1.04s\n",
      "148:\tlearn: 0.2548122\ttotal: 182ms\tremaining: 1.04s\n",
      "149:\tlearn: 0.2542818\ttotal: 183ms\tremaining: 1.03s\n",
      "150:\tlearn: 0.2529290\ttotal: 183ms\tremaining: 1.03s\n",
      "151:\tlearn: 0.2520973\ttotal: 184ms\tremaining: 1.03s\n",
      "152:\tlearn: 0.2512868\ttotal: 185ms\tremaining: 1.02s\n",
      "153:\tlearn: 0.2504710\ttotal: 186ms\tremaining: 1.02s\n",
      "154:\tlearn: 0.2496061\ttotal: 187ms\tremaining: 1.02s\n",
      "155:\tlearn: 0.2485004\ttotal: 188ms\tremaining: 1.02s\n",
      "156:\tlearn: 0.2474722\ttotal: 189ms\tremaining: 1.01s\n",
      "157:\tlearn: 0.2465888\ttotal: 190ms\tremaining: 1.01s\n",
      "158:\tlearn: 0.2458124\ttotal: 190ms\tremaining: 1.01s\n",
      "159:\tlearn: 0.2450331\ttotal: 191ms\tremaining: 1s\n"
     ]
    },
    {
     "name": "stdout",
     "output_type": "stream",
     "text": [
      "160:\tlearn: 0.2442075\ttotal: 192ms\tremaining: 1s\n",
      "161:\tlearn: 0.2434235\ttotal: 193ms\tremaining: 998ms\n",
      "162:\tlearn: 0.2428165\ttotal: 194ms\tremaining: 995ms\n",
      "163:\tlearn: 0.2421487\ttotal: 195ms\tremaining: 993ms\n",
      "164:\tlearn: 0.2416921\ttotal: 196ms\tremaining: 990ms\n",
      "165:\tlearn: 0.2409778\ttotal: 196ms\tremaining: 987ms\n",
      "166:\tlearn: 0.2403276\ttotal: 197ms\tremaining: 984ms\n",
      "167:\tlearn: 0.2393839\ttotal: 198ms\tremaining: 981ms\n",
      "168:\tlearn: 0.2387166\ttotal: 199ms\tremaining: 979ms\n",
      "169:\tlearn: 0.2381217\ttotal: 200ms\tremaining: 976ms\n",
      "170:\tlearn: 0.2375342\ttotal: 201ms\tremaining: 973ms\n",
      "171:\tlearn: 0.2372587\ttotal: 201ms\tremaining: 967ms\n",
      "172:\tlearn: 0.2365720\ttotal: 202ms\tremaining: 964ms\n",
      "173:\tlearn: 0.2354168\ttotal: 203ms\tremaining: 962ms\n",
      "174:\tlearn: 0.2348845\ttotal: 203ms\tremaining: 959ms\n",
      "175:\tlearn: 0.2338745\ttotal: 204ms\tremaining: 956ms\n",
      "176:\tlearn: 0.2336372\ttotal: 205ms\tremaining: 953ms\n",
      "177:\tlearn: 0.2332229\ttotal: 206ms\tremaining: 950ms\n",
      "178:\tlearn: 0.2326955\ttotal: 207ms\tremaining: 948ms\n",
      "179:\tlearn: 0.2321768\ttotal: 207ms\tremaining: 945ms\n",
      "180:\tlearn: 0.2315472\ttotal: 208ms\tremaining: 942ms\n",
      "181:\tlearn: 0.2311914\ttotal: 209ms\tremaining: 939ms\n",
      "182:\tlearn: 0.2305404\ttotal: 210ms\tremaining: 936ms\n",
      "183:\tlearn: 0.2298904\ttotal: 211ms\tremaining: 934ms\n",
      "184:\tlearn: 0.2295362\ttotal: 212ms\tremaining: 932ms\n",
      "185:\tlearn: 0.2290861\ttotal: 212ms\tremaining: 930ms\n",
      "186:\tlearn: 0.2286944\ttotal: 213ms\tremaining: 927ms\n",
      "187:\tlearn: 0.2279566\ttotal: 214ms\tremaining: 925ms\n",
      "188:\tlearn: 0.2273420\ttotal: 215ms\tremaining: 922ms\n",
      "189:\tlearn: 0.2263255\ttotal: 216ms\tremaining: 920ms\n",
      "190:\tlearn: 0.2255923\ttotal: 217ms\tremaining: 918ms\n",
      "191:\tlearn: 0.2248420\ttotal: 218ms\tremaining: 916ms\n",
      "192:\tlearn: 0.2242955\ttotal: 219ms\tremaining: 914ms\n",
      "193:\tlearn: 0.2236425\ttotal: 219ms\tremaining: 912ms\n",
      "194:\tlearn: 0.2230273\ttotal: 220ms\tremaining: 910ms\n",
      "195:\tlearn: 0.2223001\ttotal: 221ms\tremaining: 908ms\n",
      "196:\tlearn: 0.2220273\ttotal: 222ms\tremaining: 905ms\n",
      "197:\tlearn: 0.2214332\ttotal: 223ms\tremaining: 902ms\n",
      "198:\tlearn: 0.2208540\ttotal: 224ms\tremaining: 900ms\n",
      "199:\tlearn: 0.2202959\ttotal: 225ms\tremaining: 898ms\n",
      "200:\tlearn: 0.2194820\ttotal: 225ms\tremaining: 896ms\n",
      "201:\tlearn: 0.2188307\ttotal: 226ms\tremaining: 894ms\n",
      "202:\tlearn: 0.2182707\ttotal: 227ms\tremaining: 891ms\n",
      "203:\tlearn: 0.2177374\ttotal: 228ms\tremaining: 889ms\n",
      "204:\tlearn: 0.2170977\ttotal: 228ms\tremaining: 886ms\n",
      "205:\tlearn: 0.2161326\ttotal: 229ms\tremaining: 884ms\n",
      "206:\tlearn: 0.2154124\ttotal: 230ms\tremaining: 882ms\n",
      "207:\tlearn: 0.2146098\ttotal: 231ms\tremaining: 879ms\n",
      "208:\tlearn: 0.2140396\ttotal: 232ms\tremaining: 877ms\n",
      "209:\tlearn: 0.2134747\ttotal: 232ms\tremaining: 874ms\n",
      "210:\tlearn: 0.2128685\ttotal: 233ms\tremaining: 872ms\n",
      "211:\tlearn: 0.2121783\ttotal: 235ms\tremaining: 872ms\n",
      "212:\tlearn: 0.2116098\ttotal: 235ms\tremaining: 869ms\n",
      "213:\tlearn: 0.2111850\ttotal: 236ms\tremaining: 867ms\n",
      "214:\tlearn: 0.2108019\ttotal: 237ms\tremaining: 865ms\n",
      "215:\tlearn: 0.2101478\ttotal: 238ms\tremaining: 863ms\n",
      "216:\tlearn: 0.2097589\ttotal: 239ms\tremaining: 861ms\n",
      "217:\tlearn: 0.2093642\ttotal: 239ms\tremaining: 859ms\n",
      "218:\tlearn: 0.2085286\ttotal: 240ms\tremaining: 857ms\n",
      "219:\tlearn: 0.2081728\ttotal: 241ms\tremaining: 854ms\n",
      "220:\tlearn: 0.2077115\ttotal: 242ms\tremaining: 852ms\n",
      "221:\tlearn: 0.2073126\ttotal: 243ms\tremaining: 850ms\n",
      "222:\tlearn: 0.2067295\ttotal: 244ms\tremaining: 849ms\n",
      "223:\tlearn: 0.2062298\ttotal: 244ms\tremaining: 847ms\n",
      "224:\tlearn: 0.2058378\ttotal: 245ms\tremaining: 844ms\n",
      "225:\tlearn: 0.2053978\ttotal: 246ms\tremaining: 842ms\n",
      "226:\tlearn: 0.2045993\ttotal: 247ms\tremaining: 840ms\n",
      "227:\tlearn: 0.2042742\ttotal: 248ms\tremaining: 838ms\n",
      "228:\tlearn: 0.2038054\ttotal: 248ms\tremaining: 836ms\n",
      "229:\tlearn: 0.2030361\ttotal: 249ms\tremaining: 834ms\n",
      "230:\tlearn: 0.2027180\ttotal: 250ms\tremaining: 832ms\n",
      "231:\tlearn: 0.2025300\ttotal: 251ms\tremaining: 830ms\n",
      "232:\tlearn: 0.2021267\ttotal: 252ms\tremaining: 828ms\n",
      "233:\tlearn: 0.2017988\ttotal: 252ms\tremaining: 826ms\n",
      "234:\tlearn: 0.2014221\ttotal: 253ms\tremaining: 824ms\n",
      "235:\tlearn: 0.2007157\ttotal: 254ms\tremaining: 822ms\n",
      "236:\tlearn: 0.2003531\ttotal: 255ms\tremaining: 820ms\n",
      "237:\tlearn: 0.1995785\ttotal: 256ms\tremaining: 818ms\n",
      "238:\tlearn: 0.1989798\ttotal: 256ms\tremaining: 816ms\n",
      "239:\tlearn: 0.1985689\ttotal: 257ms\tremaining: 815ms\n",
      "240:\tlearn: 0.1980434\ttotal: 258ms\tremaining: 813ms\n",
      "241:\tlearn: 0.1973109\ttotal: 259ms\tremaining: 811ms\n",
      "242:\tlearn: 0.1968401\ttotal: 260ms\tremaining: 809ms\n",
      "243:\tlearn: 0.1964342\ttotal: 261ms\tremaining: 807ms\n",
      "244:\tlearn: 0.1960208\ttotal: 261ms\tremaining: 805ms\n",
      "245:\tlearn: 0.1953795\ttotal: 262ms\tremaining: 803ms\n",
      "246:\tlearn: 0.1947657\ttotal: 263ms\tremaining: 802ms\n",
      "247:\tlearn: 0.1941088\ttotal: 264ms\tremaining: 800ms\n",
      "248:\tlearn: 0.1934628\ttotal: 265ms\tremaining: 798ms\n",
      "249:\tlearn: 0.1930761\ttotal: 265ms\tremaining: 796ms\n",
      "250:\tlearn: 0.1926920\ttotal: 266ms\tremaining: 795ms\n",
      "251:\tlearn: 0.1924498\ttotal: 267ms\tremaining: 793ms\n",
      "252:\tlearn: 0.1918411\ttotal: 268ms\tremaining: 791ms\n",
      "253:\tlearn: 0.1911619\ttotal: 269ms\tremaining: 789ms\n",
      "254:\tlearn: 0.1906394\ttotal: 270ms\tremaining: 788ms\n",
      "255:\tlearn: 0.1899656\ttotal: 270ms\tremaining: 786ms\n",
      "256:\tlearn: 0.1894604\ttotal: 271ms\tremaining: 784ms\n",
      "257:\tlearn: 0.1891311\ttotal: 272ms\tremaining: 783ms\n",
      "258:\tlearn: 0.1887595\ttotal: 273ms\tremaining: 781ms\n",
      "259:\tlearn: 0.1881702\ttotal: 274ms\tremaining: 780ms\n",
      "260:\tlearn: 0.1876492\ttotal: 275ms\tremaining: 778ms\n",
      "261:\tlearn: 0.1874486\ttotal: 275ms\tremaining: 776ms\n",
      "262:\tlearn: 0.1869878\ttotal: 276ms\tremaining: 774ms\n",
      "263:\tlearn: 0.1867023\ttotal: 277ms\tremaining: 773ms\n",
      "264:\tlearn: 0.1865235\ttotal: 278ms\tremaining: 771ms\n",
      "265:\tlearn: 0.1861376\ttotal: 279ms\tremaining: 769ms\n",
      "266:\tlearn: 0.1855535\ttotal: 279ms\tremaining: 767ms\n",
      "267:\tlearn: 0.1851132\ttotal: 280ms\tremaining: 765ms\n",
      "268:\tlearn: 0.1846239\ttotal: 281ms\tremaining: 764ms\n",
      "269:\tlearn: 0.1841813\ttotal: 282ms\tremaining: 762ms\n",
      "270:\tlearn: 0.1835019\ttotal: 283ms\tremaining: 760ms\n",
      "271:\tlearn: 0.1830171\ttotal: 283ms\tremaining: 759ms\n",
      "272:\tlearn: 0.1826070\ttotal: 284ms\tremaining: 757ms\n",
      "273:\tlearn: 0.1820468\ttotal: 285ms\tremaining: 755ms\n",
      "274:\tlearn: 0.1818041\ttotal: 286ms\tremaining: 754ms\n",
      "275:\tlearn: 0.1812987\ttotal: 287ms\tremaining: 753ms\n",
      "276:\tlearn: 0.1808742\ttotal: 288ms\tremaining: 751ms\n",
      "277:\tlearn: 0.1806238\ttotal: 289ms\tremaining: 749ms\n",
      "278:\tlearn: 0.1801294\ttotal: 290ms\tremaining: 748ms\n",
      "279:\tlearn: 0.1796094\ttotal: 290ms\tremaining: 747ms\n",
      "280:\tlearn: 0.1793209\ttotal: 291ms\tremaining: 745ms\n",
      "281:\tlearn: 0.1790025\ttotal: 292ms\tremaining: 744ms\n",
      "282:\tlearn: 0.1787381\ttotal: 293ms\tremaining: 742ms\n",
      "283:\tlearn: 0.1784452\ttotal: 294ms\tremaining: 740ms\n",
      "284:\tlearn: 0.1781825\ttotal: 294ms\tremaining: 739ms\n",
      "285:\tlearn: 0.1778952\ttotal: 295ms\tremaining: 737ms\n",
      "286:\tlearn: 0.1775141\ttotal: 296ms\tremaining: 735ms\n",
      "287:\tlearn: 0.1770310\ttotal: 297ms\tremaining: 734ms\n",
      "288:\tlearn: 0.1765096\ttotal: 298ms\tremaining: 733ms\n"
     ]
    },
    {
     "name": "stdout",
     "output_type": "stream",
     "text": [
      "289:\tlearn: 0.1762331\ttotal: 299ms\tremaining: 732ms\n",
      "290:\tlearn: 0.1757643\ttotal: 300ms\tremaining: 730ms\n",
      "291:\tlearn: 0.1753951\ttotal: 301ms\tremaining: 730ms\n",
      "292:\tlearn: 0.1751339\ttotal: 302ms\tremaining: 728ms\n",
      "293:\tlearn: 0.1746944\ttotal: 303ms\tremaining: 727ms\n",
      "294:\tlearn: 0.1743585\ttotal: 303ms\tremaining: 725ms\n",
      "295:\tlearn: 0.1741647\ttotal: 304ms\tremaining: 724ms\n",
      "296:\tlearn: 0.1739725\ttotal: 305ms\tremaining: 723ms\n",
      "297:\tlearn: 0.1733485\ttotal: 306ms\tremaining: 721ms\n",
      "298:\tlearn: 0.1728106\ttotal: 307ms\tremaining: 720ms\n",
      "299:\tlearn: 0.1724232\ttotal: 308ms\tremaining: 719ms\n",
      "300:\tlearn: 0.1721841\ttotal: 309ms\tremaining: 717ms\n",
      "301:\tlearn: 0.1716510\ttotal: 310ms\tremaining: 716ms\n",
      "302:\tlearn: 0.1714233\ttotal: 311ms\tremaining: 715ms\n",
      "303:\tlearn: 0.1712307\ttotal: 312ms\tremaining: 713ms\n",
      "304:\tlearn: 0.1707266\ttotal: 312ms\tremaining: 712ms\n",
      "305:\tlearn: 0.1702934\ttotal: 314ms\tremaining: 712ms\n",
      "306:\tlearn: 0.1699971\ttotal: 315ms\tremaining: 711ms\n",
      "307:\tlearn: 0.1696102\ttotal: 316ms\tremaining: 709ms\n",
      "308:\tlearn: 0.1693200\ttotal: 317ms\tremaining: 708ms\n",
      "309:\tlearn: 0.1688951\ttotal: 317ms\tremaining: 707ms\n",
      "310:\tlearn: 0.1685215\ttotal: 318ms\tremaining: 705ms\n",
      "311:\tlearn: 0.1678800\ttotal: 319ms\tremaining: 703ms\n",
      "312:\tlearn: 0.1674216\ttotal: 320ms\tremaining: 702ms\n",
      "313:\tlearn: 0.1670976\ttotal: 321ms\tremaining: 700ms\n",
      "314:\tlearn: 0.1668907\ttotal: 321ms\tremaining: 699ms\n",
      "315:\tlearn: 0.1665966\ttotal: 322ms\tremaining: 697ms\n",
      "316:\tlearn: 0.1660987\ttotal: 323ms\tremaining: 696ms\n",
      "317:\tlearn: 0.1656941\ttotal: 324ms\tremaining: 694ms\n",
      "318:\tlearn: 0.1654380\ttotal: 325ms\tremaining: 693ms\n",
      "319:\tlearn: 0.1650283\ttotal: 325ms\tremaining: 692ms\n",
      "320:\tlearn: 0.1644804\ttotal: 326ms\tremaining: 690ms\n",
      "321:\tlearn: 0.1641912\ttotal: 327ms\tremaining: 688ms\n",
      "322:\tlearn: 0.1638298\ttotal: 328ms\tremaining: 687ms\n",
      "323:\tlearn: 0.1633880\ttotal: 329ms\tremaining: 686ms\n",
      "324:\tlearn: 0.1630064\ttotal: 329ms\tremaining: 684ms\n",
      "325:\tlearn: 0.1625076\ttotal: 330ms\tremaining: 683ms\n",
      "326:\tlearn: 0.1621616\ttotal: 331ms\tremaining: 681ms\n",
      "327:\tlearn: 0.1618281\ttotal: 332ms\tremaining: 680ms\n",
      "328:\tlearn: 0.1614484\ttotal: 333ms\tremaining: 679ms\n",
      "329:\tlearn: 0.1611436\ttotal: 334ms\tremaining: 677ms\n",
      "330:\tlearn: 0.1607546\ttotal: 334ms\tremaining: 676ms\n",
      "331:\tlearn: 0.1604216\ttotal: 335ms\tremaining: 675ms\n",
      "332:\tlearn: 0.1601161\ttotal: 336ms\tremaining: 673ms\n",
      "333:\tlearn: 0.1598224\ttotal: 337ms\tremaining: 672ms\n",
      "334:\tlearn: 0.1593950\ttotal: 338ms\tremaining: 671ms\n",
      "335:\tlearn: 0.1591471\ttotal: 339ms\tremaining: 669ms\n",
      "336:\tlearn: 0.1589011\ttotal: 339ms\tremaining: 668ms\n",
      "337:\tlearn: 0.1585355\ttotal: 340ms\tremaining: 666ms\n",
      "338:\tlearn: 0.1583000\ttotal: 341ms\tremaining: 665ms\n",
      "339:\tlearn: 0.1577439\ttotal: 342ms\tremaining: 664ms\n",
      "340:\tlearn: 0.1575951\ttotal: 343ms\tremaining: 662ms\n",
      "341:\tlearn: 0.1574597\ttotal: 343ms\tremaining: 661ms\n",
      "342:\tlearn: 0.1570209\ttotal: 344ms\tremaining: 659ms\n",
      "343:\tlearn: 0.1566994\ttotal: 345ms\tremaining: 658ms\n",
      "344:\tlearn: 0.1564316\ttotal: 346ms\tremaining: 657ms\n",
      "345:\tlearn: 0.1561350\ttotal: 347ms\tremaining: 656ms\n",
      "346:\tlearn: 0.1557958\ttotal: 348ms\tremaining: 654ms\n",
      "347:\tlearn: 0.1555361\ttotal: 349ms\tremaining: 653ms\n",
      "348:\tlearn: 0.1553171\ttotal: 350ms\tremaining: 653ms\n",
      "349:\tlearn: 0.1548867\ttotal: 351ms\tremaining: 652ms\n",
      "350:\tlearn: 0.1543777\ttotal: 352ms\tremaining: 651ms\n",
      "351:\tlearn: 0.1541670\ttotal: 353ms\tremaining: 650ms\n",
      "352:\tlearn: 0.1537734\ttotal: 354ms\tremaining: 648ms\n",
      "353:\tlearn: 0.1536076\ttotal: 355ms\tremaining: 647ms\n",
      "354:\tlearn: 0.1535432\ttotal: 356ms\tremaining: 646ms\n",
      "355:\tlearn: 0.1534921\ttotal: 357ms\tremaining: 645ms\n",
      "356:\tlearn: 0.1532182\ttotal: 358ms\tremaining: 644ms\n",
      "357:\tlearn: 0.1530472\ttotal: 359ms\tremaining: 644ms\n",
      "358:\tlearn: 0.1527248\ttotal: 360ms\tremaining: 642ms\n",
      "359:\tlearn: 0.1522916\ttotal: 361ms\tremaining: 641ms\n",
      "360:\tlearn: 0.1519936\ttotal: 362ms\tremaining: 640ms\n",
      "361:\tlearn: 0.1516627\ttotal: 362ms\tremaining: 639ms\n",
      "362:\tlearn: 0.1514041\ttotal: 363ms\tremaining: 638ms\n",
      "363:\tlearn: 0.1510849\ttotal: 364ms\tremaining: 637ms\n",
      "364:\tlearn: 0.1508589\ttotal: 365ms\tremaining: 636ms\n",
      "365:\tlearn: 0.1504369\ttotal: 366ms\tremaining: 634ms\n",
      "366:\tlearn: 0.1500963\ttotal: 367ms\tremaining: 633ms\n",
      "367:\tlearn: 0.1497408\ttotal: 368ms\tremaining: 632ms\n",
      "368:\tlearn: 0.1493819\ttotal: 369ms\tremaining: 631ms\n",
      "369:\tlearn: 0.1490789\ttotal: 370ms\tremaining: 629ms\n",
      "370:\tlearn: 0.1486631\ttotal: 371ms\tremaining: 629ms\n",
      "371:\tlearn: 0.1482862\ttotal: 372ms\tremaining: 628ms\n",
      "372:\tlearn: 0.1480514\ttotal: 373ms\tremaining: 627ms\n",
      "373:\tlearn: 0.1478580\ttotal: 374ms\tremaining: 625ms\n",
      "374:\tlearn: 0.1474462\ttotal: 374ms\tremaining: 624ms\n",
      "375:\tlearn: 0.1472171\ttotal: 375ms\tremaining: 623ms\n",
      "376:\tlearn: 0.1470372\ttotal: 376ms\tremaining: 621ms\n",
      "377:\tlearn: 0.1467101\ttotal: 377ms\tremaining: 620ms\n",
      "378:\tlearn: 0.1463567\ttotal: 378ms\tremaining: 619ms\n",
      "379:\tlearn: 0.1461849\ttotal: 379ms\tremaining: 618ms\n",
      "380:\tlearn: 0.1459734\ttotal: 379ms\tremaining: 616ms\n",
      "381:\tlearn: 0.1457678\ttotal: 380ms\tremaining: 615ms\n",
      "382:\tlearn: 0.1454665\ttotal: 381ms\tremaining: 614ms\n"
     ]
    },
    {
     "name": "stdout",
     "output_type": "stream",
     "text": [
      "383:\tlearn: 0.1451878\ttotal: 383ms\tremaining: 614ms\n",
      "384:\tlearn: 0.1447619\ttotal: 383ms\tremaining: 613ms\n",
      "385:\tlearn: 0.1445492\ttotal: 384ms\tremaining: 611ms\n",
      "386:\tlearn: 0.1441847\ttotal: 385ms\tremaining: 610ms\n",
      "387:\tlearn: 0.1441533\ttotal: 386ms\tremaining: 609ms\n",
      "388:\tlearn: 0.1437822\ttotal: 387ms\tremaining: 608ms\n",
      "389:\tlearn: 0.1435005\ttotal: 388ms\tremaining: 607ms\n",
      "390:\tlearn: 0.1431741\ttotal: 389ms\tremaining: 605ms\n",
      "391:\tlearn: 0.1428676\ttotal: 390ms\tremaining: 604ms\n",
      "392:\tlearn: 0.1426201\ttotal: 390ms\tremaining: 603ms\n",
      "393:\tlearn: 0.1422038\ttotal: 391ms\tremaining: 602ms\n",
      "394:\tlearn: 0.1419808\ttotal: 392ms\tremaining: 600ms\n",
      "395:\tlearn: 0.1416373\ttotal: 393ms\tremaining: 600ms\n",
      "396:\tlearn: 0.1415892\ttotal: 394ms\tremaining: 598ms\n",
      "397:\tlearn: 0.1415646\ttotal: 395ms\tremaining: 597ms\n",
      "398:\tlearn: 0.1413586\ttotal: 395ms\tremaining: 596ms\n",
      "399:\tlearn: 0.1411922\ttotal: 396ms\tremaining: 594ms\n",
      "400:\tlearn: 0.1409528\ttotal: 397ms\tremaining: 593ms\n",
      "401:\tlearn: 0.1406487\ttotal: 398ms\tremaining: 592ms\n",
      "402:\tlearn: 0.1405361\ttotal: 399ms\tremaining: 591ms\n",
      "403:\tlearn: 0.1402520\ttotal: 400ms\tremaining: 590ms\n",
      "404:\tlearn: 0.1399050\ttotal: 400ms\tremaining: 588ms\n",
      "405:\tlearn: 0.1395946\ttotal: 401ms\tremaining: 587ms\n",
      "406:\tlearn: 0.1393237\ttotal: 402ms\tremaining: 586ms\n",
      "407:\tlearn: 0.1390810\ttotal: 403ms\tremaining: 585ms\n",
      "408:\tlearn: 0.1388304\ttotal: 404ms\tremaining: 583ms\n",
      "409:\tlearn: 0.1384541\ttotal: 405ms\tremaining: 582ms\n",
      "410:\tlearn: 0.1384314\ttotal: 405ms\tremaining: 581ms\n",
      "411:\tlearn: 0.1381167\ttotal: 406ms\tremaining: 580ms\n",
      "412:\tlearn: 0.1379022\ttotal: 407ms\tremaining: 578ms\n",
      "413:\tlearn: 0.1376846\ttotal: 408ms\tremaining: 577ms\n",
      "414:\tlearn: 0.1373628\ttotal: 409ms\tremaining: 576ms\n",
      "415:\tlearn: 0.1371137\ttotal: 409ms\tremaining: 575ms\n",
      "416:\tlearn: 0.1369170\ttotal: 410ms\tremaining: 574ms\n",
      "417:\tlearn: 0.1367827\ttotal: 411ms\tremaining: 573ms\n",
      "418:\tlearn: 0.1365548\ttotal: 412ms\tremaining: 571ms\n",
      "419:\tlearn: 0.1363705\ttotal: 414ms\tremaining: 571ms\n",
      "420:\tlearn: 0.1361588\ttotal: 414ms\tremaining: 570ms\n",
      "421:\tlearn: 0.1358510\ttotal: 415ms\tremaining: 569ms\n",
      "422:\tlearn: 0.1356740\ttotal: 416ms\tremaining: 568ms\n",
      "423:\tlearn: 0.1354485\ttotal: 417ms\tremaining: 566ms\n",
      "424:\tlearn: 0.1354234\ttotal: 418ms\tremaining: 565ms\n",
      "425:\tlearn: 0.1350568\ttotal: 419ms\tremaining: 564ms\n",
      "426:\tlearn: 0.1346445\ttotal: 419ms\tremaining: 563ms\n",
      "427:\tlearn: 0.1344030\ttotal: 420ms\tremaining: 561ms\n",
      "428:\tlearn: 0.1343764\ttotal: 421ms\tremaining: 560ms\n",
      "429:\tlearn: 0.1341740\ttotal: 421ms\tremaining: 559ms\n",
      "430:\tlearn: 0.1340095\ttotal: 422ms\tremaining: 558ms\n",
      "431:\tlearn: 0.1339818\ttotal: 423ms\tremaining: 556ms\n",
      "432:\tlearn: 0.1337189\ttotal: 424ms\tremaining: 555ms\n",
      "433:\tlearn: 0.1335186\ttotal: 425ms\tremaining: 554ms\n",
      "434:\tlearn: 0.1334725\ttotal: 425ms\tremaining: 553ms\n",
      "435:\tlearn: 0.1332374\ttotal: 426ms\tremaining: 551ms\n",
      "436:\tlearn: 0.1328991\ttotal: 427ms\tremaining: 550ms\n",
      "437:\tlearn: 0.1328395\ttotal: 428ms\tremaining: 549ms\n",
      "438:\tlearn: 0.1324939\ttotal: 429ms\tremaining: 548ms\n",
      "439:\tlearn: 0.1324630\ttotal: 429ms\tremaining: 546ms\n",
      "440:\tlearn: 0.1322716\ttotal: 430ms\tremaining: 545ms\n",
      "441:\tlearn: 0.1319613\ttotal: 431ms\tremaining: 544ms\n",
      "442:\tlearn: 0.1317255\ttotal: 432ms\tremaining: 543ms\n",
      "443:\tlearn: 0.1313857\ttotal: 433ms\tremaining: 542ms\n",
      "444:\tlearn: 0.1312756\ttotal: 434ms\tremaining: 541ms\n",
      "445:\tlearn: 0.1309659\ttotal: 434ms\tremaining: 540ms\n",
      "446:\tlearn: 0.1309446\ttotal: 435ms\tremaining: 538ms\n",
      "447:\tlearn: 0.1307023\ttotal: 436ms\tremaining: 538ms\n",
      "448:\tlearn: 0.1303173\ttotal: 437ms\tremaining: 537ms\n",
      "449:\tlearn: 0.1301452\ttotal: 438ms\tremaining: 535ms\n",
      "450:\tlearn: 0.1298664\ttotal: 439ms\tremaining: 534ms\n",
      "451:\tlearn: 0.1296161\ttotal: 440ms\tremaining: 533ms\n",
      "452:\tlearn: 0.1293465\ttotal: 440ms\tremaining: 532ms\n",
      "453:\tlearn: 0.1291848\ttotal: 441ms\tremaining: 531ms\n",
      "454:\tlearn: 0.1289346\ttotal: 442ms\tremaining: 529ms\n",
      "455:\tlearn: 0.1286380\ttotal: 443ms\tremaining: 528ms\n",
      "456:\tlearn: 0.1283639\ttotal: 444ms\tremaining: 527ms\n",
      "457:\tlearn: 0.1282663\ttotal: 445ms\tremaining: 526ms\n",
      "458:\tlearn: 0.1280237\ttotal: 445ms\tremaining: 525ms\n",
      "459:\tlearn: 0.1278412\ttotal: 446ms\tremaining: 524ms\n",
      "460:\tlearn: 0.1275701\ttotal: 447ms\tremaining: 523ms\n",
      "461:\tlearn: 0.1273589\ttotal: 448ms\tremaining: 521ms\n",
      "462:\tlearn: 0.1273171\ttotal: 449ms\tremaining: 520ms\n",
      "463:\tlearn: 0.1270749\ttotal: 449ms\tremaining: 519ms\n",
      "464:\tlearn: 0.1267860\ttotal: 450ms\tremaining: 518ms\n",
      "465:\tlearn: 0.1263833\ttotal: 451ms\tremaining: 517ms\n",
      "466:\tlearn: 0.1261810\ttotal: 452ms\tremaining: 515ms\n",
      "467:\tlearn: 0.1258695\ttotal: 452ms\tremaining: 514ms\n",
      "468:\tlearn: 0.1255372\ttotal: 453ms\tremaining: 513ms\n",
      "469:\tlearn: 0.1252727\ttotal: 454ms\tremaining: 512ms\n",
      "470:\tlearn: 0.1250974\ttotal: 455ms\tremaining: 512ms\n",
      "471:\tlearn: 0.1248850\ttotal: 456ms\tremaining: 510ms\n",
      "472:\tlearn: 0.1246916\ttotal: 457ms\tremaining: 509ms\n",
      "473:\tlearn: 0.1244740\ttotal: 458ms\tremaining: 508ms\n",
      "474:\tlearn: 0.1242602\ttotal: 459ms\tremaining: 507ms\n",
      "475:\tlearn: 0.1239891\ttotal: 459ms\tremaining: 506ms\n",
      "476:\tlearn: 0.1239696\ttotal: 460ms\tremaining: 504ms\n",
      "477:\tlearn: 0.1237113\ttotal: 461ms\tremaining: 503ms\n",
      "478:\tlearn: 0.1236741\ttotal: 462ms\tremaining: 502ms\n",
      "479:\tlearn: 0.1234761\ttotal: 462ms\tremaining: 501ms\n",
      "480:\tlearn: 0.1232779\ttotal: 463ms\tremaining: 500ms\n",
      "481:\tlearn: 0.1230840\ttotal: 464ms\tremaining: 499ms\n",
      "482:\tlearn: 0.1229187\ttotal: 465ms\tremaining: 498ms\n",
      "483:\tlearn: 0.1228965\ttotal: 466ms\tremaining: 497ms\n",
      "484:\tlearn: 0.1228760\ttotal: 467ms\tremaining: 496ms\n",
      "485:\tlearn: 0.1228546\ttotal: 468ms\tremaining: 495ms\n",
      "486:\tlearn: 0.1228224\ttotal: 469ms\tremaining: 494ms\n",
      "487:\tlearn: 0.1225224\ttotal: 469ms\tremaining: 492ms\n",
      "488:\tlearn: 0.1224508\ttotal: 470ms\tremaining: 491ms\n",
      "489:\tlearn: 0.1222468\ttotal: 471ms\tremaining: 490ms\n",
      "490:\tlearn: 0.1220218\ttotal: 472ms\tremaining: 489ms\n",
      "491:\tlearn: 0.1219294\ttotal: 473ms\tremaining: 488ms\n",
      "492:\tlearn: 0.1216995\ttotal: 473ms\tremaining: 487ms\n",
      "493:\tlearn: 0.1215367\ttotal: 474ms\tremaining: 486ms\n",
      "494:\tlearn: 0.1212492\ttotal: 475ms\tremaining: 484ms\n",
      "495:\tlearn: 0.1210284\ttotal: 476ms\tremaining: 483ms\n",
      "496:\tlearn: 0.1208421\ttotal: 476ms\tremaining: 482ms\n",
      "497:\tlearn: 0.1205042\ttotal: 477ms\tremaining: 481ms\n",
      "498:\tlearn: 0.1204890\ttotal: 478ms\tremaining: 480ms\n",
      "499:\tlearn: 0.1202401\ttotal: 479ms\tremaining: 479ms\n",
      "500:\tlearn: 0.1202058\ttotal: 480ms\tremaining: 478ms\n",
      "501:\tlearn: 0.1199916\ttotal: 481ms\tremaining: 477ms\n",
      "502:\tlearn: 0.1196601\ttotal: 482ms\tremaining: 476ms\n",
      "503:\tlearn: 0.1194759\ttotal: 482ms\tremaining: 475ms\n",
      "504:\tlearn: 0.1192778\ttotal: 483ms\tremaining: 473ms\n",
      "505:\tlearn: 0.1190779\ttotal: 484ms\tremaining: 472ms\n",
      "506:\tlearn: 0.1190369\ttotal: 485ms\tremaining: 471ms\n",
      "507:\tlearn: 0.1188244\ttotal: 486ms\tremaining: 470ms\n",
      "508:\tlearn: 0.1187001\ttotal: 486ms\tremaining: 469ms\n",
      "509:\tlearn: 0.1184900\ttotal: 487ms\tremaining: 468ms\n",
      "510:\tlearn: 0.1182462\ttotal: 488ms\tremaining: 467ms\n",
      "511:\tlearn: 0.1181120\ttotal: 489ms\tremaining: 466ms\n"
     ]
    },
    {
     "name": "stdout",
     "output_type": "stream",
     "text": [
      "512:\tlearn: 0.1178780\ttotal: 490ms\tremaining: 465ms\n",
      "513:\tlearn: 0.1177255\ttotal: 491ms\tremaining: 464ms\n",
      "514:\tlearn: 0.1175123\ttotal: 492ms\tremaining: 463ms\n",
      "515:\tlearn: 0.1172635\ttotal: 492ms\tremaining: 462ms\n",
      "516:\tlearn: 0.1169632\ttotal: 493ms\tremaining: 461ms\n",
      "517:\tlearn: 0.1167715\ttotal: 494ms\tremaining: 460ms\n",
      "518:\tlearn: 0.1166070\ttotal: 495ms\tremaining: 459ms\n",
      "519:\tlearn: 0.1163285\ttotal: 496ms\tremaining: 458ms\n",
      "520:\tlearn: 0.1160913\ttotal: 497ms\tremaining: 457ms\n",
      "521:\tlearn: 0.1158925\ttotal: 498ms\tremaining: 456ms\n",
      "522:\tlearn: 0.1156733\ttotal: 498ms\tremaining: 455ms\n",
      "523:\tlearn: 0.1154211\ttotal: 499ms\tremaining: 453ms\n",
      "524:\tlearn: 0.1151502\ttotal: 500ms\tremaining: 452ms\n",
      "525:\tlearn: 0.1149264\ttotal: 501ms\tremaining: 452ms\n",
      "526:\tlearn: 0.1147148\ttotal: 502ms\tremaining: 451ms\n",
      "527:\tlearn: 0.1145465\ttotal: 503ms\tremaining: 450ms\n",
      "528:\tlearn: 0.1143795\ttotal: 504ms\tremaining: 448ms\n",
      "529:\tlearn: 0.1141602\ttotal: 505ms\tremaining: 447ms\n",
      "530:\tlearn: 0.1139395\ttotal: 505ms\tremaining: 446ms\n",
      "531:\tlearn: 0.1137943\ttotal: 506ms\tremaining: 445ms\n",
      "532:\tlearn: 0.1136217\ttotal: 507ms\tremaining: 444ms\n",
      "533:\tlearn: 0.1134247\ttotal: 508ms\tremaining: 443ms\n",
      "534:\tlearn: 0.1132552\ttotal: 509ms\tremaining: 442ms\n",
      "535:\tlearn: 0.1131189\ttotal: 509ms\tremaining: 441ms\n",
      "536:\tlearn: 0.1128485\ttotal: 510ms\tremaining: 440ms\n",
      "537:\tlearn: 0.1125537\ttotal: 511ms\tremaining: 439ms\n",
      "538:\tlearn: 0.1124298\ttotal: 512ms\tremaining: 438ms\n",
      "539:\tlearn: 0.1121749\ttotal: 513ms\tremaining: 437ms\n",
      "540:\tlearn: 0.1118922\ttotal: 513ms\tremaining: 436ms\n",
      "541:\tlearn: 0.1118360\ttotal: 514ms\tremaining: 435ms\n",
      "542:\tlearn: 0.1117942\ttotal: 515ms\tremaining: 433ms\n",
      "543:\tlearn: 0.1117501\ttotal: 516ms\tremaining: 432ms\n",
      "544:\tlearn: 0.1114803\ttotal: 517ms\tremaining: 432ms\n",
      "545:\tlearn: 0.1111641\ttotal: 518ms\tremaining: 430ms\n",
      "546:\tlearn: 0.1110976\ttotal: 518ms\tremaining: 429ms\n",
      "547:\tlearn: 0.1108494\ttotal: 519ms\tremaining: 428ms\n",
      "548:\tlearn: 0.1106107\ttotal: 520ms\tremaining: 427ms\n",
      "549:\tlearn: 0.1104826\ttotal: 521ms\tremaining: 426ms\n",
      "550:\tlearn: 0.1102592\ttotal: 522ms\tremaining: 425ms\n",
      "551:\tlearn: 0.1101663\ttotal: 522ms\tremaining: 424ms\n",
      "552:\tlearn: 0.1099115\ttotal: 523ms\tremaining: 423ms\n",
      "553:\tlearn: 0.1096319\ttotal: 524ms\tremaining: 422ms\n",
      "554:\tlearn: 0.1094837\ttotal: 525ms\tremaining: 421ms\n",
      "555:\tlearn: 0.1092286\ttotal: 526ms\tremaining: 420ms\n",
      "556:\tlearn: 0.1090916\ttotal: 527ms\tremaining: 419ms\n",
      "557:\tlearn: 0.1089714\ttotal: 527ms\tremaining: 418ms\n",
      "558:\tlearn: 0.1087683\ttotal: 528ms\tremaining: 417ms\n",
      "559:\tlearn: 0.1084599\ttotal: 529ms\tremaining: 416ms\n",
      "560:\tlearn: 0.1082859\ttotal: 530ms\tremaining: 414ms\n",
      "561:\tlearn: 0.1079772\ttotal: 530ms\tremaining: 413ms\n",
      "562:\tlearn: 0.1078303\ttotal: 531ms\tremaining: 412ms\n",
      "563:\tlearn: 0.1075790\ttotal: 532ms\tremaining: 411ms\n",
      "564:\tlearn: 0.1073531\ttotal: 533ms\tremaining: 410ms\n",
      "565:\tlearn: 0.1072477\ttotal: 534ms\tremaining: 409ms\n",
      "566:\tlearn: 0.1070126\ttotal: 534ms\tremaining: 408ms\n",
      "567:\tlearn: 0.1068223\ttotal: 535ms\tremaining: 407ms\n",
      "568:\tlearn: 0.1066921\ttotal: 536ms\tremaining: 406ms\n",
      "569:\tlearn: 0.1065614\ttotal: 537ms\tremaining: 405ms\n",
      "570:\tlearn: 0.1064054\ttotal: 538ms\tremaining: 404ms\n",
      "571:\tlearn: 0.1061365\ttotal: 538ms\tremaining: 403ms\n",
      "572:\tlearn: 0.1059299\ttotal: 539ms\tremaining: 402ms\n",
      "573:\tlearn: 0.1058360\ttotal: 540ms\tremaining: 401ms\n",
      "574:\tlearn: 0.1056803\ttotal: 541ms\tremaining: 400ms\n",
      "575:\tlearn: 0.1054868\ttotal: 542ms\tremaining: 399ms\n",
      "576:\tlearn: 0.1052963\ttotal: 542ms\tremaining: 398ms\n",
      "577:\tlearn: 0.1051557\ttotal: 543ms\tremaining: 397ms\n",
      "578:\tlearn: 0.1048556\ttotal: 544ms\tremaining: 395ms\n",
      "579:\tlearn: 0.1045839\ttotal: 545ms\tremaining: 394ms\n",
      "580:\tlearn: 0.1044110\ttotal: 545ms\tremaining: 393ms\n",
      "581:\tlearn: 0.1041782\ttotal: 546ms\tremaining: 392ms\n",
      "582:\tlearn: 0.1039173\ttotal: 547ms\tremaining: 391ms\n",
      "583:\tlearn: 0.1037341\ttotal: 548ms\tremaining: 390ms\n",
      "584:\tlearn: 0.1036833\ttotal: 549ms\tremaining: 389ms\n",
      "585:\tlearn: 0.1035172\ttotal: 549ms\tremaining: 388ms\n",
      "586:\tlearn: 0.1034981\ttotal: 550ms\tremaining: 387ms\n",
      "587:\tlearn: 0.1034327\ttotal: 551ms\tremaining: 386ms\n",
      "588:\tlearn: 0.1032850\ttotal: 552ms\tremaining: 385ms\n",
      "589:\tlearn: 0.1031367\ttotal: 553ms\tremaining: 384ms\n",
      "590:\tlearn: 0.1030119\ttotal: 554ms\tremaining: 383ms\n",
      "591:\tlearn: 0.1027419\ttotal: 554ms\tremaining: 382ms\n",
      "592:\tlearn: 0.1025301\ttotal: 555ms\tremaining: 381ms\n",
      "593:\tlearn: 0.1023347\ttotal: 556ms\tremaining: 380ms\n",
      "594:\tlearn: 0.1020962\ttotal: 557ms\tremaining: 379ms\n",
      "595:\tlearn: 0.1020079\ttotal: 558ms\tremaining: 378ms\n",
      "596:\tlearn: 0.1017738\ttotal: 558ms\tremaining: 377ms\n",
      "597:\tlearn: 0.1015521\ttotal: 559ms\tremaining: 376ms\n",
      "598:\tlearn: 0.1013859\ttotal: 560ms\tremaining: 375ms\n",
      "599:\tlearn: 0.1013396\ttotal: 561ms\tremaining: 374ms\n",
      "600:\tlearn: 0.1011142\ttotal: 562ms\tremaining: 373ms\n",
      "601:\tlearn: 0.1008656\ttotal: 562ms\tremaining: 372ms\n",
      "602:\tlearn: 0.1006500\ttotal: 563ms\tremaining: 371ms\n",
      "603:\tlearn: 0.1004875\ttotal: 564ms\tremaining: 370ms\n",
      "604:\tlearn: 0.1003834\ttotal: 565ms\tremaining: 369ms\n",
      "605:\tlearn: 0.1003340\ttotal: 566ms\tremaining: 368ms\n",
      "606:\tlearn: 0.1002026\ttotal: 567ms\tremaining: 367ms\n",
      "607:\tlearn: 0.1000745\ttotal: 568ms\tremaining: 366ms\n",
      "608:\tlearn: 0.0999677\ttotal: 568ms\tremaining: 365ms\n",
      "609:\tlearn: 0.0997208\ttotal: 569ms\tremaining: 364ms\n",
      "610:\tlearn: 0.0995315\ttotal: 570ms\tremaining: 363ms\n",
      "611:\tlearn: 0.0993314\ttotal: 571ms\tremaining: 362ms\n",
      "612:\tlearn: 0.0992184\ttotal: 572ms\tremaining: 361ms\n",
      "613:\tlearn: 0.0990024\ttotal: 573ms\tremaining: 360ms\n"
     ]
    },
    {
     "name": "stdout",
     "output_type": "stream",
     "text": [
      "614:\tlearn: 0.0988058\ttotal: 574ms\tremaining: 359ms\n",
      "615:\tlearn: 0.0985830\ttotal: 574ms\tremaining: 358ms\n",
      "616:\tlearn: 0.0983622\ttotal: 575ms\tremaining: 357ms\n",
      "617:\tlearn: 0.0981205\ttotal: 576ms\tremaining: 356ms\n",
      "618:\tlearn: 0.0979133\ttotal: 577ms\tremaining: 355ms\n",
      "619:\tlearn: 0.0977735\ttotal: 577ms\tremaining: 354ms\n",
      "620:\tlearn: 0.0976534\ttotal: 578ms\tremaining: 353ms\n",
      "621:\tlearn: 0.0975053\ttotal: 579ms\tremaining: 352ms\n",
      "622:\tlearn: 0.0973077\ttotal: 580ms\tremaining: 351ms\n",
      "623:\tlearn: 0.0971283\ttotal: 581ms\tremaining: 350ms\n",
      "624:\tlearn: 0.0968401\ttotal: 582ms\tremaining: 349ms\n",
      "625:\tlearn: 0.0967272\ttotal: 583ms\tremaining: 348ms\n",
      "626:\tlearn: 0.0965073\ttotal: 584ms\tremaining: 347ms\n",
      "627:\tlearn: 0.0963435\ttotal: 585ms\tremaining: 347ms\n",
      "628:\tlearn: 0.0962123\ttotal: 586ms\tremaining: 346ms\n",
      "629:\tlearn: 0.0960734\ttotal: 587ms\tremaining: 345ms\n",
      "630:\tlearn: 0.0959530\ttotal: 587ms\tremaining: 344ms\n",
      "631:\tlearn: 0.0957259\ttotal: 588ms\tremaining: 343ms\n",
      "632:\tlearn: 0.0955298\ttotal: 589ms\tremaining: 342ms\n",
      "633:\tlearn: 0.0954651\ttotal: 590ms\tremaining: 340ms\n",
      "634:\tlearn: 0.0952708\ttotal: 590ms\tremaining: 339ms\n",
      "635:\tlearn: 0.0950787\ttotal: 591ms\tremaining: 338ms\n",
      "636:\tlearn: 0.0949058\ttotal: 592ms\tremaining: 337ms\n",
      "637:\tlearn: 0.0948461\ttotal: 593ms\tremaining: 336ms\n",
      "638:\tlearn: 0.0946403\ttotal: 594ms\tremaining: 335ms\n",
      "639:\tlearn: 0.0945219\ttotal: 595ms\tremaining: 334ms\n",
      "640:\tlearn: 0.0943958\ttotal: 595ms\tremaining: 333ms\n",
      "641:\tlearn: 0.0942252\ttotal: 596ms\tremaining: 333ms\n",
      "642:\tlearn: 0.0940065\ttotal: 597ms\tremaining: 331ms\n",
      "643:\tlearn: 0.0938407\ttotal: 598ms\tremaining: 330ms\n",
      "644:\tlearn: 0.0936576\ttotal: 599ms\tremaining: 329ms\n",
      "645:\tlearn: 0.0935435\ttotal: 599ms\tremaining: 328ms\n",
      "646:\tlearn: 0.0933370\ttotal: 600ms\tremaining: 328ms\n",
      "647:\tlearn: 0.0931980\ttotal: 601ms\tremaining: 327ms\n",
      "648:\tlearn: 0.0930425\ttotal: 602ms\tremaining: 326ms\n",
      "649:\tlearn: 0.0928935\ttotal: 603ms\tremaining: 325ms\n",
      "650:\tlearn: 0.0926724\ttotal: 604ms\tremaining: 324ms\n",
      "651:\tlearn: 0.0925355\ttotal: 604ms\tremaining: 323ms\n",
      "652:\tlearn: 0.0924091\ttotal: 605ms\tremaining: 322ms\n",
      "653:\tlearn: 0.0923504\ttotal: 606ms\tremaining: 321ms\n",
      "654:\tlearn: 0.0921803\ttotal: 607ms\tremaining: 320ms\n",
      "655:\tlearn: 0.0919848\ttotal: 608ms\tremaining: 319ms\n",
      "656:\tlearn: 0.0917298\ttotal: 609ms\tremaining: 318ms\n",
      "657:\tlearn: 0.0914824\ttotal: 610ms\tremaining: 317ms\n",
      "658:\tlearn: 0.0911964\ttotal: 611ms\tremaining: 316ms\n",
      "659:\tlearn: 0.0910239\ttotal: 611ms\tremaining: 315ms\n",
      "660:\tlearn: 0.0909345\ttotal: 612ms\tremaining: 314ms\n",
      "661:\tlearn: 0.0907736\ttotal: 613ms\tremaining: 313ms\n",
      "662:\tlearn: 0.0906032\ttotal: 614ms\tremaining: 312ms\n",
      "663:\tlearn: 0.0904610\ttotal: 615ms\tremaining: 311ms\n",
      "664:\tlearn: 0.0902960\ttotal: 615ms\tremaining: 310ms\n",
      "665:\tlearn: 0.0901619\ttotal: 616ms\tremaining: 309ms\n",
      "666:\tlearn: 0.0899688\ttotal: 617ms\tremaining: 308ms\n",
      "667:\tlearn: 0.0898471\ttotal: 618ms\tremaining: 307ms\n",
      "668:\tlearn: 0.0896435\ttotal: 619ms\tremaining: 306ms\n",
      "669:\tlearn: 0.0894991\ttotal: 620ms\tremaining: 305ms\n",
      "670:\tlearn: 0.0893789\ttotal: 620ms\tremaining: 304ms\n",
      "671:\tlearn: 0.0891797\ttotal: 621ms\tremaining: 303ms\n",
      "672:\tlearn: 0.0890744\ttotal: 622ms\tremaining: 302ms\n",
      "673:\tlearn: 0.0889185\ttotal: 623ms\tremaining: 301ms\n",
      "674:\tlearn: 0.0887893\ttotal: 624ms\tremaining: 300ms\n",
      "675:\tlearn: 0.0886519\ttotal: 624ms\tremaining: 299ms\n",
      "676:\tlearn: 0.0884882\ttotal: 625ms\tremaining: 298ms\n",
      "677:\tlearn: 0.0883580\ttotal: 626ms\tremaining: 297ms\n",
      "678:\tlearn: 0.0881714\ttotal: 627ms\tremaining: 296ms\n",
      "679:\tlearn: 0.0879880\ttotal: 628ms\tremaining: 295ms\n",
      "680:\tlearn: 0.0879078\ttotal: 628ms\tremaining: 294ms\n",
      "681:\tlearn: 0.0877297\ttotal: 629ms\tremaining: 293ms\n",
      "682:\tlearn: 0.0875516\ttotal: 630ms\tremaining: 292ms\n",
      "683:\tlearn: 0.0874473\ttotal: 631ms\tremaining: 292ms\n",
      "684:\tlearn: 0.0873284\ttotal: 632ms\tremaining: 291ms\n",
      "685:\tlearn: 0.0871093\ttotal: 633ms\tremaining: 290ms\n",
      "686:\tlearn: 0.0869469\ttotal: 634ms\tremaining: 289ms\n",
      "687:\tlearn: 0.0868226\ttotal: 635ms\tremaining: 288ms\n",
      "688:\tlearn: 0.0866582\ttotal: 635ms\tremaining: 287ms\n",
      "689:\tlearn: 0.0864277\ttotal: 636ms\tremaining: 286ms\n",
      "690:\tlearn: 0.0863079\ttotal: 638ms\tremaining: 285ms\n",
      "691:\tlearn: 0.0861271\ttotal: 638ms\tremaining: 284ms\n",
      "692:\tlearn: 0.0859075\ttotal: 639ms\tremaining: 283ms\n",
      "693:\tlearn: 0.0856976\ttotal: 640ms\tremaining: 282ms\n",
      "694:\tlearn: 0.0855894\ttotal: 641ms\tremaining: 281ms\n",
      "695:\tlearn: 0.0855782\ttotal: 642ms\tremaining: 280ms\n",
      "696:\tlearn: 0.0854846\ttotal: 642ms\tremaining: 279ms\n",
      "697:\tlearn: 0.0852827\ttotal: 643ms\tremaining: 278ms\n",
      "698:\tlearn: 0.0851983\ttotal: 644ms\tremaining: 277ms\n",
      "699:\tlearn: 0.0850563\ttotal: 645ms\tremaining: 276ms\n",
      "700:\tlearn: 0.0849425\ttotal: 646ms\tremaining: 275ms\n",
      "701:\tlearn: 0.0848256\ttotal: 647ms\tremaining: 275ms\n",
      "702:\tlearn: 0.0847428\ttotal: 648ms\tremaining: 274ms\n",
      "703:\tlearn: 0.0846851\ttotal: 648ms\tremaining: 273ms\n",
      "704:\tlearn: 0.0844840\ttotal: 649ms\tremaining: 272ms\n",
      "705:\tlearn: 0.0843749\ttotal: 650ms\tremaining: 271ms\n",
      "706:\tlearn: 0.0842017\ttotal: 651ms\tremaining: 270ms\n",
      "707:\tlearn: 0.0840570\ttotal: 652ms\tremaining: 269ms\n",
      "708:\tlearn: 0.0838988\ttotal: 653ms\tremaining: 268ms\n",
      "709:\tlearn: 0.0837617\ttotal: 653ms\tremaining: 267ms\n",
      "710:\tlearn: 0.0835650\ttotal: 654ms\tremaining: 266ms\n",
      "711:\tlearn: 0.0834470\ttotal: 655ms\tremaining: 265ms\n",
      "712:\tlearn: 0.0832430\ttotal: 656ms\tremaining: 264ms\n",
      "713:\tlearn: 0.0831013\ttotal: 657ms\tremaining: 263ms\n",
      "714:\tlearn: 0.0829354\ttotal: 658ms\tremaining: 262ms\n",
      "715:\tlearn: 0.0827656\ttotal: 658ms\tremaining: 261ms\n",
      "716:\tlearn: 0.0825603\ttotal: 659ms\tremaining: 260ms\n",
      "717:\tlearn: 0.0824693\ttotal: 660ms\tremaining: 259ms\n",
      "718:\tlearn: 0.0823122\ttotal: 661ms\tremaining: 258ms\n",
      "719:\tlearn: 0.0821408\ttotal: 662ms\tremaining: 257ms\n",
      "720:\tlearn: 0.0820588\ttotal: 662ms\tremaining: 256ms\n",
      "721:\tlearn: 0.0819133\ttotal: 663ms\tremaining: 255ms\n",
      "722:\tlearn: 0.0817900\ttotal: 664ms\tremaining: 254ms\n",
      "723:\tlearn: 0.0816906\ttotal: 665ms\tremaining: 253ms\n",
      "724:\tlearn: 0.0816088\ttotal: 666ms\tremaining: 252ms\n",
      "725:\tlearn: 0.0814270\ttotal: 666ms\tremaining: 251ms\n",
      "726:\tlearn: 0.0812940\ttotal: 667ms\tremaining: 251ms\n",
      "727:\tlearn: 0.0811147\ttotal: 668ms\tremaining: 250ms\n",
      "728:\tlearn: 0.0810289\ttotal: 669ms\tremaining: 249ms\n",
      "729:\tlearn: 0.0809815\ttotal: 670ms\tremaining: 248ms\n",
      "730:\tlearn: 0.0808930\ttotal: 670ms\tremaining: 247ms\n",
      "731:\tlearn: 0.0807578\ttotal: 671ms\tremaining: 246ms\n",
      "732:\tlearn: 0.0806495\ttotal: 672ms\tremaining: 245ms\n",
      "733:\tlearn: 0.0805308\ttotal: 673ms\tremaining: 244ms\n",
      "734:\tlearn: 0.0803658\ttotal: 673ms\tremaining: 243ms\n",
      "735:\tlearn: 0.0802550\ttotal: 674ms\tremaining: 242ms\n",
      "736:\tlearn: 0.0800799\ttotal: 675ms\tremaining: 241ms\n",
      "737:\tlearn: 0.0799299\ttotal: 676ms\tremaining: 240ms\n",
      "738:\tlearn: 0.0798086\ttotal: 676ms\tremaining: 239ms\n",
      "739:\tlearn: 0.0797128\ttotal: 677ms\tremaining: 238ms\n",
      "740:\tlearn: 0.0795492\ttotal: 678ms\tremaining: 237ms\n",
      "741:\tlearn: 0.0793594\ttotal: 679ms\tremaining: 236ms\n"
     ]
    },
    {
     "name": "stdout",
     "output_type": "stream",
     "text": [
      "742:\tlearn: 0.0792279\ttotal: 680ms\tremaining: 235ms\n",
      "743:\tlearn: 0.0791802\ttotal: 681ms\tremaining: 234ms\n",
      "744:\tlearn: 0.0790746\ttotal: 682ms\tremaining: 233ms\n",
      "745:\tlearn: 0.0789008\ttotal: 683ms\tremaining: 232ms\n",
      "746:\tlearn: 0.0787533\ttotal: 683ms\tremaining: 231ms\n",
      "747:\tlearn: 0.0786673\ttotal: 684ms\tremaining: 231ms\n",
      "748:\tlearn: 0.0785024\ttotal: 685ms\tremaining: 230ms\n",
      "749:\tlearn: 0.0784568\ttotal: 686ms\tremaining: 229ms\n",
      "750:\tlearn: 0.0783447\ttotal: 687ms\tremaining: 228ms\n",
      "751:\tlearn: 0.0781391\ttotal: 688ms\tremaining: 227ms\n",
      "752:\tlearn: 0.0779777\ttotal: 689ms\tremaining: 226ms\n",
      "753:\tlearn: 0.0778945\ttotal: 690ms\tremaining: 225ms\n",
      "754:\tlearn: 0.0777810\ttotal: 690ms\tremaining: 224ms\n",
      "755:\tlearn: 0.0775820\ttotal: 691ms\tremaining: 223ms\n",
      "756:\tlearn: 0.0773853\ttotal: 692ms\tremaining: 222ms\n",
      "757:\tlearn: 0.0773345\ttotal: 693ms\tremaining: 221ms\n",
      "758:\tlearn: 0.0772842\ttotal: 694ms\tremaining: 220ms\n",
      "759:\tlearn: 0.0772193\ttotal: 694ms\tremaining: 219ms\n",
      "760:\tlearn: 0.0770580\ttotal: 695ms\tremaining: 218ms\n",
      "761:\tlearn: 0.0769435\ttotal: 696ms\tremaining: 217ms\n",
      "762:\tlearn: 0.0768329\ttotal: 697ms\tremaining: 216ms\n",
      "763:\tlearn: 0.0766943\ttotal: 698ms\tremaining: 216ms\n",
      "764:\tlearn: 0.0765610\ttotal: 699ms\tremaining: 215ms\n",
      "765:\tlearn: 0.0764744\ttotal: 699ms\tremaining: 214ms\n",
      "766:\tlearn: 0.0763584\ttotal: 700ms\tremaining: 213ms\n",
      "767:\tlearn: 0.0762415\ttotal: 701ms\tremaining: 212ms\n",
      "768:\tlearn: 0.0761748\ttotal: 702ms\tremaining: 211ms\n",
      "769:\tlearn: 0.0760067\ttotal: 703ms\tremaining: 210ms\n",
      "770:\tlearn: 0.0759086\ttotal: 703ms\tremaining: 209ms\n",
      "771:\tlearn: 0.0758169\ttotal: 704ms\tremaining: 208ms\n",
      "772:\tlearn: 0.0756532\ttotal: 705ms\tremaining: 207ms\n",
      "773:\tlearn: 0.0755937\ttotal: 706ms\tremaining: 206ms\n",
      "774:\tlearn: 0.0754876\ttotal: 707ms\tremaining: 205ms\n",
      "775:\tlearn: 0.0753810\ttotal: 708ms\tremaining: 204ms\n",
      "776:\tlearn: 0.0752848\ttotal: 709ms\tremaining: 203ms\n",
      "777:\tlearn: 0.0751649\ttotal: 710ms\tremaining: 202ms\n",
      "778:\tlearn: 0.0749985\ttotal: 711ms\tremaining: 202ms\n",
      "779:\tlearn: 0.0748869\ttotal: 711ms\tremaining: 201ms\n",
      "780:\tlearn: 0.0748388\ttotal: 712ms\tremaining: 200ms\n",
      "781:\tlearn: 0.0747102\ttotal: 713ms\tremaining: 199ms\n",
      "782:\tlearn: 0.0746245\ttotal: 714ms\tremaining: 198ms\n",
      "783:\tlearn: 0.0744089\ttotal: 715ms\tremaining: 197ms\n",
      "784:\tlearn: 0.0742737\ttotal: 715ms\tremaining: 196ms\n",
      "785:\tlearn: 0.0741648\ttotal: 716ms\tremaining: 195ms\n",
      "786:\tlearn: 0.0740258\ttotal: 717ms\tremaining: 194ms\n",
      "787:\tlearn: 0.0739744\ttotal: 718ms\tremaining: 193ms\n",
      "788:\tlearn: 0.0738990\ttotal: 719ms\tremaining: 192ms\n",
      "789:\tlearn: 0.0737515\ttotal: 719ms\tremaining: 191ms\n",
      "790:\tlearn: 0.0736514\ttotal: 720ms\tremaining: 190ms\n",
      "791:\tlearn: 0.0736007\ttotal: 721ms\tremaining: 189ms\n",
      "792:\tlearn: 0.0735268\ttotal: 722ms\tremaining: 188ms\n",
      "793:\tlearn: 0.0734285\ttotal: 723ms\tremaining: 188ms\n",
      "794:\tlearn: 0.0733170\ttotal: 724ms\tremaining: 187ms\n",
      "795:\tlearn: 0.0731987\ttotal: 725ms\tremaining: 186ms\n",
      "796:\tlearn: 0.0730648\ttotal: 726ms\tremaining: 185ms\n",
      "797:\tlearn: 0.0729419\ttotal: 727ms\tremaining: 184ms\n",
      "798:\tlearn: 0.0728504\ttotal: 728ms\tremaining: 183ms\n",
      "799:\tlearn: 0.0727957\ttotal: 728ms\tremaining: 182ms\n",
      "800:\tlearn: 0.0727018\ttotal: 729ms\tremaining: 181ms\n",
      "801:\tlearn: 0.0726404\ttotal: 730ms\tremaining: 180ms\n",
      "802:\tlearn: 0.0725228\ttotal: 731ms\tremaining: 179ms\n",
      "803:\tlearn: 0.0723483\ttotal: 732ms\tremaining: 178ms\n",
      "804:\tlearn: 0.0722677\ttotal: 733ms\tremaining: 177ms\n",
      "805:\tlearn: 0.0721821\ttotal: 734ms\tremaining: 177ms\n",
      "806:\tlearn: 0.0720952\ttotal: 735ms\tremaining: 176ms\n",
      "807:\tlearn: 0.0720237\ttotal: 735ms\tremaining: 175ms\n",
      "808:\tlearn: 0.0719109\ttotal: 736ms\tremaining: 174ms\n",
      "809:\tlearn: 0.0717908\ttotal: 737ms\tremaining: 173ms\n",
      "810:\tlearn: 0.0717100\ttotal: 738ms\tremaining: 172ms\n",
      "811:\tlearn: 0.0716792\ttotal: 739ms\tremaining: 171ms\n",
      "812:\tlearn: 0.0715653\ttotal: 739ms\tremaining: 170ms\n",
      "813:\tlearn: 0.0714723\ttotal: 740ms\tremaining: 169ms\n",
      "814:\tlearn: 0.0713598\ttotal: 741ms\tremaining: 168ms\n",
      "815:\tlearn: 0.0712518\ttotal: 742ms\tremaining: 167ms\n",
      "816:\tlearn: 0.0711550\ttotal: 743ms\tremaining: 166ms\n",
      "817:\tlearn: 0.0709931\ttotal: 744ms\tremaining: 165ms\n",
      "818:\tlearn: 0.0708701\ttotal: 744ms\tremaining: 165ms\n",
      "819:\tlearn: 0.0707776\ttotal: 745ms\tremaining: 164ms\n",
      "820:\tlearn: 0.0706566\ttotal: 746ms\tremaining: 163ms\n",
      "821:\tlearn: 0.0705862\ttotal: 747ms\tremaining: 162ms\n",
      "822:\tlearn: 0.0704668\ttotal: 748ms\tremaining: 161ms\n",
      "823:\tlearn: 0.0703201\ttotal: 748ms\tremaining: 160ms\n",
      "824:\tlearn: 0.0701995\ttotal: 749ms\tremaining: 159ms\n",
      "825:\tlearn: 0.0700617\ttotal: 750ms\tremaining: 158ms\n",
      "826:\tlearn: 0.0699260\ttotal: 751ms\tremaining: 157ms\n",
      "827:\tlearn: 0.0697904\ttotal: 752ms\tremaining: 156ms\n",
      "828:\tlearn: 0.0697514\ttotal: 752ms\tremaining: 155ms\n",
      "829:\tlearn: 0.0696422\ttotal: 754ms\tremaining: 154ms\n",
      "830:\tlearn: 0.0696145\ttotal: 754ms\tremaining: 153ms\n",
      "831:\tlearn: 0.0694655\ttotal: 755ms\tremaining: 152ms\n",
      "832:\tlearn: 0.0693748\ttotal: 756ms\tremaining: 152ms\n",
      "833:\tlearn: 0.0692476\ttotal: 757ms\tremaining: 151ms\n",
      "834:\tlearn: 0.0691295\ttotal: 758ms\tremaining: 150ms\n",
      "835:\tlearn: 0.0690179\ttotal: 758ms\tremaining: 149ms\n",
      "836:\tlearn: 0.0689756\ttotal: 759ms\tremaining: 148ms\n",
      "837:\tlearn: 0.0688436\ttotal: 760ms\tremaining: 147ms\n",
      "838:\tlearn: 0.0687937\ttotal: 761ms\tremaining: 146ms\n",
      "839:\tlearn: 0.0687410\ttotal: 762ms\tremaining: 145ms\n",
      "840:\tlearn: 0.0686054\ttotal: 763ms\tremaining: 144ms\n"
     ]
    },
    {
     "name": "stdout",
     "output_type": "stream",
     "text": [
      "841:\tlearn: 0.0684468\ttotal: 764ms\tremaining: 143ms\n",
      "842:\tlearn: 0.0683369\ttotal: 765ms\tremaining: 142ms\n",
      "843:\tlearn: 0.0682265\ttotal: 766ms\tremaining: 142ms\n",
      "844:\tlearn: 0.0681978\ttotal: 766ms\tremaining: 141ms\n",
      "845:\tlearn: 0.0681116\ttotal: 767ms\tremaining: 140ms\n",
      "846:\tlearn: 0.0679792\ttotal: 768ms\tremaining: 139ms\n",
      "847:\tlearn: 0.0678861\ttotal: 769ms\tremaining: 138ms\n",
      "848:\tlearn: 0.0677285\ttotal: 770ms\tremaining: 137ms\n",
      "849:\tlearn: 0.0676895\ttotal: 770ms\tremaining: 136ms\n",
      "850:\tlearn: 0.0675887\ttotal: 771ms\tremaining: 135ms\n",
      "851:\tlearn: 0.0674756\ttotal: 772ms\tremaining: 134ms\n",
      "852:\tlearn: 0.0673537\ttotal: 773ms\tremaining: 133ms\n",
      "853:\tlearn: 0.0673259\ttotal: 773ms\tremaining: 132ms\n",
      "854:\tlearn: 0.0672371\ttotal: 774ms\tremaining: 131ms\n",
      "855:\tlearn: 0.0671934\ttotal: 775ms\tremaining: 130ms\n",
      "856:\tlearn: 0.0671079\ttotal: 776ms\tremaining: 129ms\n",
      "857:\tlearn: 0.0670995\ttotal: 777ms\tremaining: 129ms\n",
      "858:\tlearn: 0.0670118\ttotal: 778ms\tremaining: 128ms\n",
      "859:\tlearn: 0.0669239\ttotal: 778ms\tremaining: 127ms\n",
      "860:\tlearn: 0.0667927\ttotal: 779ms\tremaining: 126ms\n",
      "861:\tlearn: 0.0666968\ttotal: 780ms\tremaining: 125ms\n",
      "862:\tlearn: 0.0665891\ttotal: 781ms\tremaining: 124ms\n",
      "863:\tlearn: 0.0663955\ttotal: 781ms\tremaining: 123ms\n",
      "864:\tlearn: 0.0662876\ttotal: 782ms\tremaining: 122ms\n",
      "865:\tlearn: 0.0661158\ttotal: 783ms\tremaining: 121ms\n",
      "866:\tlearn: 0.0660207\ttotal: 784ms\tremaining: 120ms\n",
      "867:\tlearn: 0.0659575\ttotal: 784ms\tremaining: 119ms\n",
      "868:\tlearn: 0.0658631\ttotal: 785ms\tremaining: 118ms\n",
      "869:\tlearn: 0.0656889\ttotal: 786ms\tremaining: 117ms\n",
      "870:\tlearn: 0.0656045\ttotal: 787ms\tremaining: 117ms\n",
      "871:\tlearn: 0.0654637\ttotal: 788ms\tremaining: 116ms\n",
      "872:\tlearn: 0.0653912\ttotal: 788ms\tremaining: 115ms\n",
      "873:\tlearn: 0.0652665\ttotal: 789ms\tremaining: 114ms\n",
      "874:\tlearn: 0.0651323\ttotal: 790ms\tremaining: 113ms\n",
      "875:\tlearn: 0.0650180\ttotal: 791ms\tremaining: 112ms\n",
      "876:\tlearn: 0.0649047\ttotal: 791ms\tremaining: 111ms\n",
      "877:\tlearn: 0.0648108\ttotal: 792ms\tremaining: 110ms\n",
      "878:\tlearn: 0.0647800\ttotal: 793ms\tremaining: 109ms\n",
      "879:\tlearn: 0.0647062\ttotal: 794ms\tremaining: 108ms\n",
      "880:\tlearn: 0.0645859\ttotal: 795ms\tremaining: 107ms\n",
      "881:\tlearn: 0.0644212\ttotal: 795ms\tremaining: 106ms\n",
      "882:\tlearn: 0.0643005\ttotal: 796ms\tremaining: 105ms\n",
      "883:\tlearn: 0.0641761\ttotal: 797ms\tremaining: 105ms\n",
      "884:\tlearn: 0.0640617\ttotal: 798ms\tremaining: 104ms\n",
      "885:\tlearn: 0.0639562\ttotal: 798ms\tremaining: 103ms\n",
      "886:\tlearn: 0.0638228\ttotal: 799ms\tremaining: 102ms\n",
      "887:\tlearn: 0.0636854\ttotal: 800ms\tremaining: 101ms\n",
      "888:\tlearn: 0.0635944\ttotal: 801ms\tremaining: 100ms\n",
      "889:\tlearn: 0.0635533\ttotal: 802ms\tremaining: 99.1ms\n",
      "890:\tlearn: 0.0634707\ttotal: 803ms\tremaining: 98.2ms\n",
      "891:\tlearn: 0.0634361\ttotal: 804ms\tremaining: 97.3ms\n",
      "892:\tlearn: 0.0633182\ttotal: 805ms\tremaining: 96.4ms\n",
      "893:\tlearn: 0.0632398\ttotal: 805ms\tremaining: 95.5ms\n",
      "894:\tlearn: 0.0630865\ttotal: 806ms\tremaining: 94.6ms\n",
      "895:\tlearn: 0.0630084\ttotal: 807ms\tremaining: 93.7ms\n",
      "896:\tlearn: 0.0628611\ttotal: 808ms\tremaining: 92.8ms\n",
      "897:\tlearn: 0.0628281\ttotal: 809ms\tremaining: 91.9ms\n",
      "898:\tlearn: 0.0627099\ttotal: 810ms\tremaining: 91ms\n",
      "899:\tlearn: 0.0626682\ttotal: 811ms\tremaining: 90.1ms\n",
      "900:\tlearn: 0.0626037\ttotal: 812ms\tremaining: 89.2ms\n",
      "901:\tlearn: 0.0624893\ttotal: 813ms\tremaining: 88.3ms\n",
      "902:\tlearn: 0.0624368\ttotal: 814ms\tremaining: 87.4ms\n",
      "903:\tlearn: 0.0623374\ttotal: 815ms\tremaining: 86.5ms\n",
      "904:\tlearn: 0.0622291\ttotal: 815ms\tremaining: 85.6ms\n",
      "905:\tlearn: 0.0621598\ttotal: 816ms\tremaining: 84.7ms\n",
      "906:\tlearn: 0.0620804\ttotal: 817ms\tremaining: 83.8ms\n",
      "907:\tlearn: 0.0620386\ttotal: 818ms\tremaining: 82.9ms\n",
      "908:\tlearn: 0.0619405\ttotal: 819ms\tremaining: 82ms\n",
      "909:\tlearn: 0.0619155\ttotal: 820ms\tremaining: 81.1ms\n",
      "910:\tlearn: 0.0618171\ttotal: 821ms\tremaining: 80.2ms\n",
      "911:\tlearn: 0.0617583\ttotal: 821ms\tremaining: 79.2ms\n",
      "912:\tlearn: 0.0617146\ttotal: 822ms\tremaining: 78.3ms\n",
      "913:\tlearn: 0.0616256\ttotal: 823ms\tremaining: 77.4ms\n",
      "914:\tlearn: 0.0615130\ttotal: 824ms\tremaining: 76.5ms\n",
      "915:\tlearn: 0.0614181\ttotal: 824ms\tremaining: 75.6ms\n",
      "916:\tlearn: 0.0613718\ttotal: 825ms\tremaining: 74.7ms\n",
      "917:\tlearn: 0.0612883\ttotal: 826ms\tremaining: 73.8ms\n",
      "918:\tlearn: 0.0612024\ttotal: 827ms\tremaining: 72.9ms\n",
      "919:\tlearn: 0.0611504\ttotal: 828ms\tremaining: 72ms\n",
      "920:\tlearn: 0.0611168\ttotal: 829ms\tremaining: 71.1ms\n",
      "921:\tlearn: 0.0610053\ttotal: 829ms\tremaining: 70.2ms\n",
      "922:\tlearn: 0.0609793\ttotal: 830ms\tremaining: 69.3ms\n",
      "923:\tlearn: 0.0609435\ttotal: 832ms\tremaining: 68.4ms\n",
      "924:\tlearn: 0.0608519\ttotal: 833ms\tremaining: 67.5ms\n",
      "925:\tlearn: 0.0607020\ttotal: 833ms\tremaining: 66.6ms\n",
      "926:\tlearn: 0.0605520\ttotal: 834ms\tremaining: 65.7ms\n",
      "927:\tlearn: 0.0604449\ttotal: 835ms\tremaining: 64.8ms\n",
      "928:\tlearn: 0.0603126\ttotal: 836ms\tremaining: 63.9ms\n",
      "929:\tlearn: 0.0602071\ttotal: 836ms\tremaining: 63ms\n",
      "930:\tlearn: 0.0600872\ttotal: 837ms\tremaining: 62ms\n",
      "931:\tlearn: 0.0599688\ttotal: 838ms\tremaining: 61.1ms\n",
      "932:\tlearn: 0.0598571\ttotal: 839ms\tremaining: 60.2ms\n",
      "933:\tlearn: 0.0597063\ttotal: 840ms\tremaining: 59.3ms\n",
      "934:\tlearn: 0.0596647\ttotal: 840ms\tremaining: 58.4ms\n",
      "935:\tlearn: 0.0595672\ttotal: 841ms\tremaining: 57.5ms\n",
      "936:\tlearn: 0.0594863\ttotal: 842ms\tremaining: 56.6ms\n",
      "937:\tlearn: 0.0593856\ttotal: 843ms\tremaining: 55.7ms\n",
      "938:\tlearn: 0.0592986\ttotal: 844ms\tremaining: 54.8ms\n",
      "939:\tlearn: 0.0591927\ttotal: 844ms\tremaining: 53.9ms\n",
      "940:\tlearn: 0.0591022\ttotal: 845ms\tremaining: 53ms\n",
      "941:\tlearn: 0.0590185\ttotal: 846ms\tremaining: 52.1ms\n",
      "942:\tlearn: 0.0589255\ttotal: 847ms\tremaining: 51.2ms\n",
      "943:\tlearn: 0.0588614\ttotal: 847ms\tremaining: 50.3ms\n",
      "944:\tlearn: 0.0587959\ttotal: 848ms\tremaining: 49.4ms\n",
      "945:\tlearn: 0.0587186\ttotal: 849ms\tremaining: 48.5ms\n",
      "946:\tlearn: 0.0586402\ttotal: 850ms\tremaining: 47.6ms\n",
      "947:\tlearn: 0.0585061\ttotal: 850ms\tremaining: 46.6ms\n",
      "948:\tlearn: 0.0583919\ttotal: 851ms\tremaining: 45.7ms\n",
      "949:\tlearn: 0.0583069\ttotal: 852ms\tremaining: 44.8ms\n",
      "950:\tlearn: 0.0581980\ttotal: 853ms\tremaining: 43.9ms\n",
      "951:\tlearn: 0.0581824\ttotal: 854ms\tremaining: 43ms\n",
      "952:\tlearn: 0.0580314\ttotal: 855ms\tremaining: 42.1ms\n",
      "953:\tlearn: 0.0579229\ttotal: 855ms\tremaining: 41.2ms\n",
      "954:\tlearn: 0.0578322\ttotal: 856ms\tremaining: 40.3ms\n",
      "955:\tlearn: 0.0577925\ttotal: 857ms\tremaining: 39.4ms\n",
      "956:\tlearn: 0.0576875\ttotal: 858ms\tremaining: 38.5ms\n",
      "957:\tlearn: 0.0576450\ttotal: 859ms\tremaining: 37.6ms\n",
      "958:\tlearn: 0.0575260\ttotal: 860ms\tremaining: 36.7ms\n",
      "959:\tlearn: 0.0574424\ttotal: 860ms\tremaining: 35.8ms\n",
      "960:\tlearn: 0.0574235\ttotal: 861ms\tremaining: 34.9ms\n",
      "961:\tlearn: 0.0573949\ttotal: 862ms\tremaining: 34ms\n",
      "962:\tlearn: 0.0573280\ttotal: 863ms\tremaining: 33.1ms\n",
      "963:\tlearn: 0.0572945\ttotal: 864ms\tremaining: 32.2ms\n",
      "964:\tlearn: 0.0571809\ttotal: 864ms\tremaining: 31.3ms\n",
      "965:\tlearn: 0.0570565\ttotal: 865ms\tremaining: 30.4ms\n",
      "966:\tlearn: 0.0569375\ttotal: 866ms\tremaining: 29.6ms\n",
      "967:\tlearn: 0.0568454\ttotal: 867ms\tremaining: 28.7ms\n",
      "968:\tlearn: 0.0567927\ttotal: 867ms\tremaining: 27.8ms\n",
      "969:\tlearn: 0.0567006\ttotal: 868ms\tremaining: 26.9ms\n",
      "970:\tlearn: 0.0565959\ttotal: 869ms\tremaining: 26ms\n"
     ]
    },
    {
     "name": "stdout",
     "output_type": "stream",
     "text": [
      "971:\tlearn: 0.0564816\ttotal: 870ms\tremaining: 25.1ms\n",
      "972:\tlearn: 0.0563950\ttotal: 871ms\tremaining: 24.2ms\n",
      "973:\tlearn: 0.0563474\ttotal: 872ms\tremaining: 23.3ms\n",
      "974:\tlearn: 0.0562813\ttotal: 872ms\tremaining: 22.4ms\n",
      "975:\tlearn: 0.0562525\ttotal: 873ms\tremaining: 21.5ms\n",
      "976:\tlearn: 0.0562190\ttotal: 874ms\tremaining: 20.6ms\n",
      "977:\tlearn: 0.0561402\ttotal: 875ms\tremaining: 19.7ms\n",
      "978:\tlearn: 0.0560508\ttotal: 876ms\tremaining: 18.8ms\n",
      "979:\tlearn: 0.0559714\ttotal: 876ms\tremaining: 17.9ms\n",
      "980:\tlearn: 0.0558442\ttotal: 878ms\tremaining: 17ms\n",
      "981:\tlearn: 0.0557276\ttotal: 879ms\tremaining: 16.1ms\n",
      "982:\tlearn: 0.0556898\ttotal: 880ms\tremaining: 15.2ms\n",
      "983:\tlearn: 0.0555888\ttotal: 880ms\tremaining: 14.3ms\n",
      "984:\tlearn: 0.0554922\ttotal: 881ms\tremaining: 13.4ms\n",
      "985:\tlearn: 0.0553708\ttotal: 882ms\tremaining: 12.5ms\n",
      "986:\tlearn: 0.0553535\ttotal: 883ms\tremaining: 11.6ms\n",
      "987:\tlearn: 0.0553215\ttotal: 884ms\tremaining: 10.7ms\n",
      "988:\tlearn: 0.0552765\ttotal: 884ms\tremaining: 9.84ms\n",
      "989:\tlearn: 0.0552487\ttotal: 885ms\tremaining: 8.94ms\n",
      "990:\tlearn: 0.0552385\ttotal: 886ms\tremaining: 8.05ms\n",
      "991:\tlearn: 0.0551677\ttotal: 887ms\tremaining: 7.15ms\n",
      "992:\tlearn: 0.0550677\ttotal: 888ms\tremaining: 6.26ms\n",
      "993:\tlearn: 0.0550296\ttotal: 889ms\tremaining: 5.36ms\n",
      "994:\tlearn: 0.0549337\ttotal: 889ms\tremaining: 4.47ms\n",
      "995:\tlearn: 0.0549179\ttotal: 890ms\tremaining: 3.58ms\n",
      "996:\tlearn: 0.0548344\ttotal: 891ms\tremaining: 2.68ms\n",
      "997:\tlearn: 0.0547612\ttotal: 892ms\tremaining: 1.79ms\n",
      "998:\tlearn: 0.0546420\ttotal: 892ms\tremaining: 893us\n",
      "999:\tlearn: 0.0546274\ttotal: 893ms\tremaining: 0us\n"
     ]
    },
    {
     "data": {
      "text/plain": [
       "<catboost.core.CatBoostRegressor at 0x7ff10b970e80>"
      ]
     },
     "execution_count": 9,
     "metadata": {},
     "output_type": "execute_result"
    }
   ],
   "source": [
    "#Train the Model \n",
    "prior_model = ctb.CatBoostRegressor()\n",
    "prior_model.fit(X_train,Y_train)"
   ]
  },
  {
   "cell_type": "code",
   "execution_count": 10,
   "id": "af65dcda",
   "metadata": {
    "execution": {
     "iopub.execute_input": "2022-06-12T08:48:18.551183Z",
     "iopub.status.busy": "2022-06-12T08:48:18.550782Z",
     "iopub.status.idle": "2022-06-12T08:48:18.558300Z",
     "shell.execute_reply": "2022-06-12T08:48:18.558591Z"
    },
    "id": "af65dcda",
    "papermill": {
     "duration": 0.021753,
     "end_time": "2022-06-12T08:48:18.558707",
     "exception": false,
     "start_time": "2022-06-12T08:48:18.536954",
     "status": "completed"
    },
    "tags": []
   },
   "outputs": [
    {
     "data": {
      "application/scrapbook.scrap.json+json": {
       "data": 0.12799213726851758,
       "encoder": "json",
       "name": "Prior Model MSE",
       "version": 1
      }
     },
     "metadata": {
      "scrapbook": {
       "data": true,
       "display": false,
       "name": "Prior Model MSE"
      }
     },
     "output_type": "display_data"
    },
    {
     "data": {
      "application/scrapbook.scrap.json+json": {
       "data": 0.1287341431751992,
       "encoder": "json",
       "name": "ABC Pre-generator MSE",
       "version": 1
      }
     },
     "metadata": {
      "scrapbook": {
       "data": true,
       "display": false,
       "name": "ABC Pre-generator MSE"
      }
     },
     "output_type": "display_data"
    },
    {
     "data": {
      "application/scrapbook.scrap.json+json": {
       "data": 0.25425592640260203,
       "encoder": "json",
       "name": "Prior Model MSE",
       "version": 1
      }
     },
     "metadata": {
      "scrapbook": {
       "data": true,
       "display": false,
       "name": "Prior Model MSE"
      }
     },
     "output_type": "display_data"
    },
    {
     "data": {
      "application/scrapbook.scrap.json+json": {
       "data": 0.26274390546177506,
       "encoder": "json",
       "name": "ABC Pre-generator MSE",
       "version": 1
      }
     },
     "metadata": {
      "scrapbook": {
       "data": true,
       "display": false,
       "name": "ABC Pre-generator MSE"
      }
     },
     "output_type": "display_data"
    }
   ],
   "source": [
    "y_pred = prior_model.predict(X_test)\n",
    "y_abc = y_pred + np.random.normal(0,variance, y_pred.shape) + bias \n",
    "mse = mean_squared_error(y_pred,Y_test)\n",
    "sb.glue(\"Prior Model MSE\",mse)\n",
    "mse = mean_squared_error(y_abc,Y_test)\n",
    "sb.glue(\"ABC Pre-generator MSE\",mse)\n",
    "mae = mean_absolute_error(y_pred,Y_test)\n",
    "sb.glue(\"Prior Model MSE\",mae)\n",
    "mae = mean_absolute_error(y_abc,Y_test)\n",
    "sb.glue(\"ABC Pre-generator MSE\",mae)"
   ]
  },
  {
   "cell_type": "markdown",
   "id": "25609da2",
   "metadata": {
    "papermill": {
     "duration": 0.009867,
     "end_time": "2022-06-12T08:48:18.578825",
     "exception": false,
     "start_time": "2022-06-12T08:48:18.568958",
     "status": "completed"
    },
    "tags": []
   },
   "source": [
    "# ABC GAN Model"
   ]
  },
  {
   "cell_type": "code",
   "execution_count": 11,
   "id": "dfc3464d",
   "metadata": {
    "execution": {
     "iopub.execute_input": "2022-06-12T08:48:18.601533Z",
     "iopub.status.busy": "2022-06-12T08:48:18.601162Z",
     "iopub.status.idle": "2022-06-12T08:48:18.603795Z",
     "shell.execute_reply": "2022-06-12T08:48:18.604046Z"
    },
    "papermill": {
     "duration": 0.015443,
     "end_time": "2022-06-12T08:48:18.604155",
     "exception": false,
     "start_time": "2022-06-12T08:48:18.588712",
     "status": "completed"
    },
    "tags": []
   },
   "outputs": [],
   "source": [
    "gen = network.Generator(n_features+1).to(device)\n",
    "disc = network.Discriminator(n_features+1).to(device)\n",
    "\n",
    "criterion = torch.nn.BCELoss()\n",
    "gen_opt = torch.optim.Adam(gen.parameters(), lr=0.001, betas=(0.5, 0.999))\n",
    "disc_opt = torch.optim.Adam(disc.parameters(), lr=0.001, betas=(0.5, 0.999))"
   ]
  },
  {
   "cell_type": "code",
   "execution_count": 12,
   "id": "b75fdd85",
   "metadata": {
    "execution": {
     "iopub.execute_input": "2022-06-12T08:48:18.626888Z",
     "iopub.status.busy": "2022-06-12T08:48:18.626523Z",
     "iopub.status.idle": "2022-06-12T08:49:18.399268Z",
     "shell.execute_reply": "2022-06-12T08:49:18.399541Z"
    },
    "papermill": {
     "duration": 59.785347,
     "end_time": "2022-06-12T08:49:18.399660",
     "exception": false,
     "start_time": "2022-06-12T08:48:18.614313",
     "status": "completed"
    },
    "tags": []
   },
   "outputs": [
    {
     "data": {
      "image/png": "[encoded data removed]",
      "text/plain": [
       "<Figure size 432x288 with 1 Axes>"
      ]
     },
     "metadata": {
      "needs_background": "light"
     },
     "output_type": "display_data"
    },
    {
     "data": {
      "image/png": "[encoded data removed]",
      "text/plain": [
       "<Figure size 432x288 with 1 Axes>"
      ]
     },
     "metadata": {
      "needs_background": "light"
     },
     "output_type": "display_data"
    }
   ],
   "source": [
    "#Training the ABC_GAN \n",
    "ABC_train_test2.training_GAN(disc,gen,disc_opt,gen_opt,train_data,batch_size,n_epochs,criterion,prior_model,variance,bias,device)"
   ]
  },
  {
   "cell_type": "code",
   "execution_count": 13,
   "id": "1fa7c368",
   "metadata": {
    "execution": {
     "iopub.execute_input": "2022-06-12T08:49:18.424590Z",
     "iopub.status.busy": "2022-06-12T08:49:18.424212Z",
     "iopub.status.idle": "2022-06-12T08:49:18.732348Z",
     "shell.execute_reply": "2022-06-12T08:49:18.732593Z"
    },
    "papermill": {
     "duration": 0.322073,
     "end_time": "2022-06-12T08:49:18.732717",
     "exception": false,
     "start_time": "2022-06-12T08:49:18.410644",
     "status": "completed"
    },
    "tags": []
   },
   "outputs": [
    {
     "data": {
      "application/scrapbook.scrap.json+json": {
       "data": 0.14761704173665177,
       "encoder": "json",
       "name": "ABC-GAN Model 1 MSE",
       "version": 1
      }
     },
     "metadata": {
      "scrapbook": {
       "data": true,
       "display": false,
       "name": "ABC-GAN Model 1 MSE"
      }
     },
     "output_type": "display_data"
    },
    {
     "data": {
      "application/scrapbook.scrap.json+json": {
       "data": 0.2586371240257194,
       "encoder": "json",
       "name": "ABC-GAN Model 1 MAE",
       "version": 1
      }
     },
     "metadata": {
      "scrapbook": {
       "data": true,
       "display": false,
       "name": "ABC-GAN Model 1 MAE"
      }
     },
     "output_type": "display_data"
    },
    {
     "data": {
      "application/scrapbook.scrap.json+json": {
       "data": 26.38098665062338,
       "encoder": "json",
       "name": "ABC-GAN Model 1 Manhattan Distance",
       "version": 1
      }
     },
     "metadata": {
      "scrapbook": {
       "data": true,
       "display": false,
       "name": "ABC-GAN Model 1 Manhattan Distance"
      }
     },
     "output_type": "display_data"
    },
    {
     "data": {
      "application/scrapbook.scrap.json+json": {
       "data": 3.879548541923431,
       "encoder": "json",
       "name": "ABC-GAN Model 1 Euclidean distance",
       "version": 1
      }
     },
     "metadata": {
      "scrapbook": {
       "data": true,
       "display": false,
       "name": "ABC-GAN Model 1 Euclidean distance"
      }
     },
     "output_type": "display_data"
    },
    {
     "data": {
      "application/scrapbook.scrap.json+json": {
       "data": [
        [
         0.14348370647003286,
         0.146156912687701,
         0.15122527690709042,
         0.15238204221374027,
         0.14512161923189482,
         0.142471355419487,
         0.14939794776755702,
         0.15042213096901028,
         0.15251972209881295,
         0.14586282892056152,
         0.13953823780911964,
         0.15209049303378905,
         0.14658830796477218,
         0.14104821995240627,
         0.14563812304032164,
         0.15374557568533112,
         0.1433736069085161,
         0.15233704726151914,
         0.14781899386678474,
         0.1462167324273938,
         0.15041830756485117,
         0.14538933880640378,
         0.14951362434414617,
         0.14072483195396399,
         0.1436648794487608,
         0.14899769811007735,
         0.14534778868017176,
         0.15337831712357755,
         0.14871056353956114,
         0.1559641591011801,
         0.15740303685385984,
         0.14744297958086267,
         0.14513117514443644,
         0.15073933480612484,
         0.1426156180431637,
         0.1565265837071963,
         0.15363008612764936,
         0.14950649608949118,
         0.1477697961002996,
         0.16017657329638482,
         0.1434046730990672,
         0.14898397476367217,
         0.14163806726055075,
         0.15253234340654392,
         0.14521170642994766,
         0.16278498725711593,
         0.1539474005331512,
         0.14869989674157913,
         0.14258716377469724,
         0.15137989235435478,
         0.14741698069750664,
         0.1452385271036942,
         0.14419026903669738,
         0.14022114649624906,
         0.14392504492280422,
         0.1426726224796697,
         0.14048613426225814,
         0.1423791969764136,
         0.14980709173018739,
         0.14372543045506153,
         0.14379785834169986,
         0.14453441827124813,
         0.15916214485804103,
         0.15357203289996213,
         0.1388478606173252,
         0.14459654941680783,
         0.1479943352669482,
         0.1541572358119607,
         0.14461549447084382,
         0.14149673756655773,
         0.14336964188890017,
         0.1568922335344778,
         0.14719853815071662,
         0.14521308856928952,
         0.15517905035503127,
         0.14916806709802732,
         0.1431698240612793,
         0.14735218254731022,
         0.14893914132124883,
         0.15174808426478345,
         0.15748687541111459,
         0.14895694824993758,
         0.13863060068813138,
         0.1462801187865577,
         0.15529740755751437,
         0.14235727956822544,
         0.1515764251146203,
         0.13115606224764703,
         0.14927535011759127,
         0.14414827384020715,
         0.15033509532057837,
         0.14932750428190913,
         0.15071635515522241,
         0.13979185256209323,
         0.13427569018695037,
         0.14437257564739298,
         0.1343696269957369,
         0.1610156435348112,
         0.1590974372810317,
         0.14050991296621768
        ],
        [
         0.25799899883385674,
         0.2594192377474232,
         0.25909364591443945,
         0.26800066271942913,
         0.2539166929291598,
         0.25262418132750136,
         0.26111111369020507,
         0.2621350523869635,
         0.26544200836260823,
         0.2544260909141717,
         0.25339888360387847,
         0.2646582351139217,
         0.2591861972457492,
         0.24680616205339045,
         0.25582634733405474,
         0.26559565317652684,
         0.2559063304854813,
         0.2594311672226325,
         0.25880672942445265,
         0.25850408519709517,
         0.2558050808204594,
         0.2572796087912923,
         0.2603075558995353,
         0.2563595063527863,
         0.26017904740886066,
         0.25269167040310364,
         0.2556612859297471,
         0.2650952416873884,
         0.2608289749215485,
         0.26540968705005213,
         0.26457872821529416,
         0.2619853097415876,
         0.25441314315642505,
         0.2616120340101713,
         0.2481712080154787,
         0.26410487972601665,
         0.27146648932430967,
         0.2614009882433011,
         0.2522294706409322,
         0.26723503221885536,
         0.24974847211520754,
         0.25951692691145867,
         0.2523260873596312,
         0.2599243315247198,
         0.2593305865028763,
         0.2789113725279914,
         0.25987584186790913,
         0.2634958782525477,
         0.2539447871329007,
         0.26340101179940734,
         0.25452255416551933,
         0.25981035601238117,
         0.2543232654148311,
         0.2508350602241562,
         0.2534799703908171,
         0.2539840970170118,
         0.25340434973694237,
         0.250630628637166,
         0.2611113965566106,
         0.24920065327565752,
         0.2510247830502397,
         0.2584511429053165,
         0.26736627689873177,
         0.26261281078754395,
         0.24789263960887112,
         0.25197792348141473,
         0.26105080920216794,
         0.2687398372309319,
         0.25415579086242646,
         0.2534587589165598,
         0.2593496610118332,
         0.27072510067556127,
         0.25785930223726466,
         0.25898025961884974,
         0.26503946543579887,
         0.266254126322547,
         0.25626352702395294,
         0.2640423861186148,
         0.26294847602462945,
         0.2617833516012658,
         0.2702189768920196,
         0.2551705778357299,
         0.25024208988008256,
         0.26294830919006,
         0.2655530151838035,
         0.2522458782803048,
         0.26302458677331314,
         0.24710312181645455,
         0.26047763026629883,
         0.25387204393707946,
         0.2608537975899583,
         0.26282549009421,
         0.2660287978657174,
         0.24911631894863995,
         0.25040765193418835,
         0.2535137433978711,
         0.24366665882624539,
         0.2636198325758325,
         0.27297932920320067,
         0.24898807740058093
        ],
        [
         26.315897881053388,
         26.460762250237167,
         26.427551883272827,
         27.33606759738177,
         25.899502678774297,
         25.767666495405138,
         26.633333596400917,
         26.737775343470275,
         27.075084852986038,
         25.951461273245513,
         25.846686127595603,
         26.995139981620014,
         26.436992119066417,
         25.174228529445827,
         26.094287428073585,
         27.090756624005735,
         26.10244570951909,
         26.461979056708515,
         26.398286401294172,
         26.36741669010371,
         26.092118243686855,
         26.242520096711814,
         26.551370701752603,
         26.148669647984207,
         26.53826283570379,
         25.77455038111657,
         26.0774511648342,
         27.039714652113616,
         26.604555441997945,
         27.071788079105318,
         26.987030277960002,
         26.722501593641937,
         25.950140601955354,
         26.684427469037473,
         25.31346321757883,
         26.938697732053697,
         27.689581911079586,
         26.662900800816715,
         25.727406005375087,
         27.25797328632325,
         25.47434415575117,
         26.470726544968784,
         25.73726091068238,
         26.51228181552142,
         26.451719823293388,
         28.448959997855127,
         26.50733587052673,
         26.87657958175987,
         25.902368287555873,
         26.86690320353955,
         25.961300524882972,
         26.50065631326288,
         25.940973072312772,
         25.58517614286393,
         25.854956979863346,
         25.906377895735204,
         25.847243673168123,
         25.564324120990932,
         26.633362448774278,
         25.418466634117067,
         25.604527871124446,
         26.362016576342285,
         27.271360243670642,
         26.786506700329483,
         25.285049240104854,
         25.7017481951043,
         26.627182538621128,
         27.411463397555053,
         25.9238906679675,
         25.852793409489095,
         26.453665423206985,
         27.61396026890725,
         26.301648828200996,
         26.415986481122673,
         27.034025474451482,
         27.157920884899795,
         26.138879756443202,
         26.93232338409871,
         26.820744554512203,
         26.701901863329113,
         27.562335642986,
         26.02739893924445,
         25.52469316776842,
         26.82072753738612,
         27.086407548747957,
         25.72907958459109,
         26.82850785087794,
         25.204518425278366,
         26.568718287162483,
         25.894948481582105,
         26.607087354175746,
         26.80819998960942,
         27.13493738230318,
         25.409864532761276,
         25.541580497287214,
         25.85840182658285,
         24.85399920027703,
         26.889222922734916,
         27.84389157872647,
         25.396783894859254
        ],
        [
         3.8256160366591088,
         3.8610885892641074,
         3.927464607672896,
         3.9424571406423063,
         3.8473893956361196,
         3.812096306861576,
         3.9036637499009585,
         3.917021490729792,
         3.9442377785928318,
         3.8572021660650964,
         3.7726516214103576,
         3.938683827047618,
         3.8667825659592956,
         3.7930091530532106,
         3.8542299555310398,
         3.960056656148213,
         3.8241479972235175,
         3.941875038693508,
         3.8829804756671176,
         3.861878650034742,
         3.9169717093202006,
         3.8509365819568075,
         3.905174731443255,
         3.7886584511280934,
         3.8280305254495546,
         3.898431121262486,
         3.8503862722300353,
         3.955324050770671,
         3.8946729620130154,
         3.9885265736008786,
         4.006882798272704,
         3.878038668869611,
         3.8475160642591884,
         3.921149340464442,
         3.8140258311137187,
         3.995711643516586,
         3.958569032493968,
         3.905081638215531,
         3.8823342465880692,
         4.042030489275315,
         3.824562282942304,
         3.898251585761822,
         3.8009318410853115,
         3.944400971943328,
         3.848583382993625,
         4.0748090384981,
         3.962655025911468,
         3.8945332798219954,
         3.8136453302606825,
         3.929471850025673,
         3.877696743060973,
         3.8489387842075122,
         3.8350237863334207,
         3.781872147841252,
         3.8314950844449784,
         3.8147880010462316,
         3.785443923075645,
         3.8108631688364487,
         3.9090054178114295,
         3.8288371480667953,
         3.829801763910683,
         3.8395977215936705,
         4.029210688896794,
         3.9578210363527218,
         3.7633072931886877,
         3.8404228986550937,
         3.88528276927545,
         3.965354719671367,
         3.840674476706671,
         3.7990350395579253,
         3.824095118151196,
         4.0003759598963615,
         3.8748226916044937,
         3.8486016985481264,
         3.9784749761954243,
         3.9006592832492797,
         3.821429320849789,
         3.876844415220404,
         3.8976649951948636,
         3.93424765298372,
         4.0079497616529185,
         3.8978979875688933,
         3.7603618536238503,
         3.8627156400942684,
         3.979991905879516,
         3.810569841370053,
         3.9320217905921213,
         3.657583676316919,
         3.902061725805257,
         3.8344652732422966,
         3.915888114170142,
         3.9027433219153327,
         3.9208504467567593,
         3.776078516309414,
         3.7008269885349865,
         3.8374474219243817,
         3.7021212775333487,
         4.05260356321103,
         4.02839156521126,
         3.785764271921087
        ]
       ],
       "encoder": "json",
       "name": "ABC_GAN_1 Metrics",
       "version": 1
      }
     },
     "metadata": {
      "scrapbook": {
       "data": true,
       "display": false,
       "name": "ABC_GAN_1 Metrics"
      }
     },
     "output_type": "display_data"
    },
    {
     "name": "stdout",
     "output_type": "stream",
     "text": [
      "MSE\n",
      "0.14761704173665177\n"
     ]
    }
   ],
   "source": [
    "ABC_GAN1_metrics=ABC_train_test2.test_generator(gen,test_data,prior_model,variance,bias,\"1\",device)\n",
    "sb.glue(\"ABC_GAN_1 Metrics\",ABC_GAN1_metrics)\n",
    "\n",
    "print(\"MSE\")\n",
    "print(mean(ABC_GAN1_metrics[0]))"
   ]
  },
  {
   "cell_type": "code",
   "execution_count": 14,
   "id": "eb22ce5c",
   "metadata": {
    "execution": {
     "iopub.execute_input": "2022-06-12T08:49:18.761351Z",
     "iopub.status.busy": "2022-06-12T08:49:18.760718Z",
     "iopub.status.idle": "2022-06-12T08:49:19.080082Z",
     "shell.execute_reply": "2022-06-12T08:49:19.080393Z"
    },
    "papermill": {
     "duration": 0.334987,
     "end_time": "2022-06-12T08:49:19.080516",
     "exception": false,
     "start_time": "2022-06-12T08:49:18.745529",
     "status": "completed"
    },
    "tags": []
   },
   "outputs": [
    {
     "data": {
      "image/png": "[encoded data removed]",
      "text/plain": [
       "<Figure size 432x288 with 1 Axes>"
      ]
     },
     "metadata": {
      "needs_background": "light"
     },
     "output_type": "display_data"
    },
    {
     "data": {
      "image/png": "[encoded data removed]",
      "text/plain": [
       "<Figure size 432x288 with 1 Axes>"
      ]
     },
     "metadata": {
      "needs_background": "light"
     },
     "output_type": "display_data"
    },
    {
     "data": {
      "image/png": "[encoded data removed]",
      "text/plain": [
       "<Figure size 432x288 with 1 Axes>"
      ]
     },
     "metadata": {
      "needs_background": "light"
     },
     "output_type": "display_data"
    },
    {
     "data": {
      "image/png": "[encoded data removed]",
      "text/plain": [
       "<Figure size 432x288 with 1 Axes>"
      ]
     },
     "metadata": {
      "needs_background": "light"
     },
     "output_type": "display_data"
    }
   ],
   "source": [
    "sanityChecks.discProbVsError(train_data,disc,device)\n",
    "sanityChecks.discProbVsError(test_data,disc,device)"
   ]
  },
  {
   "cell_type": "markdown",
   "id": "130f3a4d",
   "metadata": {
    "id": "130f3a4d",
    "papermill": {
     "duration": 0.014832,
     "end_time": "2022-06-12T08:49:19.110409",
     "exception": false,
     "start_time": "2022-06-12T08:49:19.095577",
     "status": "completed"
    },
    "tags": []
   },
   "source": [
    "# ABC - GAN Model with skip connection"
   ]
  },
  {
   "cell_type": "code",
   "execution_count": 15,
   "id": "4e43dad1",
   "metadata": {
    "execution": {
     "iopub.execute_input": "2022-06-12T08:49:19.143665Z",
     "iopub.status.busy": "2022-06-12T08:49:19.143288Z",
     "iopub.status.idle": "2022-06-12T08:49:19.145701Z",
     "shell.execute_reply": "2022-06-12T08:49:19.146018Z"
    },
    "id": "4e43dad1",
    "papermill": {
     "duration": 0.020867,
     "end_time": "2022-06-12T08:49:19.146142",
     "exception": false,
     "start_time": "2022-06-12T08:49:19.125275",
     "status": "completed"
    },
    "tags": []
   },
   "outputs": [],
   "source": [
    "#Generator\n",
    "gen3 = network.GeneratorWithSkipConnection(n_features+1).to(device)\n",
    "constraints=network.weightConstraint()\n",
    "#Discriminator \n",
    "disc3 = network.Discriminator(n_features+1).to(device)\n",
    "\n",
    "criterion = torch.nn.BCELoss()\n",
    "gen_opt = torch.optim.Adam(gen3.parameters(), lr=0.001, betas=(0.5, 0.999))\n",
    "disc_opt = torch.optim.Adam(disc3.parameters(), lr=0.001, betas=(0.5, 0.999))\n"
   ]
  },
  {
   "cell_type": "code",
   "execution_count": 16,
   "id": "26acbc37",
   "metadata": {
    "execution": {
     "iopub.execute_input": "2022-06-12T08:49:19.179110Z",
     "iopub.status.busy": "2022-06-12T08:49:19.178724Z",
     "iopub.status.idle": "2022-06-12T08:52:11.960565Z",
     "shell.execute_reply": "2022-06-12T08:52:11.960915Z"
    },
    "id": "26acbc37",
    "papermill": {
     "duration": 172.799686,
     "end_time": "2022-06-12T08:52:11.961060",
     "exception": false,
     "start_time": "2022-06-12T08:49:19.161374",
     "status": "completed"
    },
    "tags": []
   },
   "outputs": [
    {
     "data": {
      "image/png": "[encoded data removed]",
      "text/plain": [
       "<Figure size 432x288 with 1 Axes>"
      ]
     },
     "metadata": {
      "needs_background": "light"
     },
     "output_type": "display_data"
    },
    {
     "data": {
      "image/png": "[encoded data removed]",
      "text/plain": [
       "<Figure size 432x288 with 1 Axes>"
      ]
     },
     "metadata": {
      "needs_background": "light"
     },
     "output_type": "display_data"
    }
   ],
   "source": [
    "ABC_train_test2.training_GAN_skip_connection(disc3,gen3,disc_opt,gen_opt,train_data,batch_size,n_epochs,criterion,prior_model,variance,bias,device)"
   ]
  },
  {
   "cell_type": "code",
   "execution_count": 17,
   "id": "c5e0717b",
   "metadata": {
    "execution": {
     "iopub.execute_input": "2022-06-12T08:52:11.995671Z",
     "iopub.status.busy": "2022-06-12T08:52:11.995195Z",
     "iopub.status.idle": "2022-06-12T08:52:12.812484Z",
     "shell.execute_reply": "2022-06-12T08:52:12.812885Z"
    },
    "id": "c5e0717b",
    "papermill": {
     "duration": 0.836303,
     "end_time": "2022-06-12T08:52:12.813011",
     "exception": false,
     "start_time": "2022-06-12T08:52:11.976708",
     "status": "completed"
    },
    "tags": []
   },
   "outputs": [
    {
     "data": {
      "application/scrapbook.scrap.json+json": {
       "data": 0.14748460820134643,
       "encoder": "json",
       "name": "ABC-GAN Model 3 MSE",
       "version": 1
      }
     },
     "metadata": {
      "scrapbook": {
       "data": true,
       "display": false,
       "name": "ABC-GAN Model 3 MSE"
      }
     },
     "output_type": "display_data"
    },
    {
     "data": {
      "application/scrapbook.scrap.json+json": {
       "data": 0.2541372654757088,
       "encoder": "json",
       "name": "ABC-GAN Model 3 MAE",
       "version": 1
      }
     },
     "metadata": {
      "scrapbook": {
       "data": true,
       "display": false,
       "name": "ABC-GAN Model 3 MAE"
      }
     },
     "output_type": "display_data"
    },
    {
     "data": {
      "application/scrapbook.scrap.json+json": {
       "data": 25.9220010785223,
       "encoder": "json",
       "name": "ABC-GAN Model 3 Manhattan Distance",
       "version": 1
      }
     },
     "metadata": {
      "scrapbook": {
       "data": true,
       "display": false,
       "name": "ABC-GAN Model 3 Manhattan Distance"
      }
     },
     "output_type": "display_data"
    },
    {
     "data": {
      "application/scrapbook.scrap.json+json": {
       "data": 3.877933486624969,
       "encoder": "json",
       "name": "ABC-GAN Model 3 Euclidean distance",
       "version": 1
      }
     },
     "metadata": {
      "scrapbook": {
       "data": true,
       "display": false,
       "name": "ABC-GAN Model 3 Euclidean distance"
      }
     },
     "output_type": "display_data"
    },
    {
     "data": {
      "application/scrapbook.scrap.json+json": {
       "data": [
        [
         0.14095893741333368,
         0.14704823427131322,
         0.14959793596607027,
         0.15056431812726104,
         0.14931732296381164,
         0.14544660753246796,
         0.14670816773458067,
         0.14727251113088302,
         0.1550753648592898,
         0.14568525548973227,
         0.13875749163694157,
         0.14783468960465526,
         0.14889962826007194,
         0.1575029785913491,
         0.1439909685631474,
         0.14385908590654778,
         0.15465910889707396,
         0.14625902231307494,
         0.14825042713870756,
         0.14397249858242855,
         0.1529783389740042,
         0.14544588536625516,
         0.1536430727802412,
         0.15227846339861126,
         0.15354258644299035,
         0.15431050730313675,
         0.14028955754344435,
         0.1444834757554513,
         0.15041090826126613,
         0.14376697435739014,
         0.1436824435598459,
         0.1454623037349574,
         0.14690151818746558,
         0.14948956378214337,
         0.13760065291646967,
         0.15771987108617166,
         0.1497191463121271,
         0.144229510391276,
         0.16078864545130897,
         0.1482917256723689,
         0.15263816795159943,
         0.14972565462248008,
         0.15604280377874516,
         0.14968467502705468,
         0.1403553773793377,
         0.14742701867377336,
         0.1422957326515285,
         0.15107641322224402,
         0.14685182875098812,
         0.14884700783442392,
         0.1454116509625282,
         0.14367544424262937,
         0.1609038855682288,
         0.1417850707359423,
         0.1500547179055737,
         0.14317533258899678,
         0.14843875670278628,
         0.14359106226342175,
         0.1588691246914165,
         0.14610948797619389,
         0.14269098708550598,
         0.14679973852477765,
         0.14398258572213013,
         0.1461490015720817,
         0.14477387322030796,
         0.1462497019688778,
         0.15150291823303333,
         0.1442135492717573,
         0.1449546893447589,
         0.16016307658829745,
         0.1536023309997335,
         0.14483275866712755,
         0.14321251966215778,
         0.14480125251987375,
         0.14800569398046703,
         0.14594362907031372,
         0.14928809303943252,
         0.1511496190337728,
         0.14500966328158524,
         0.15443420819409154,
         0.15010246264481616,
         0.1510543632474691,
         0.14161587717779314,
         0.15763869907333597,
         0.14838491205971766,
         0.13711580863378214,
         0.13784434227459616,
         0.13715729637383,
         0.15296317262724193,
         0.14388787501721487,
         0.13649200843281586,
         0.1457238002530792,
         0.14526402163683158,
         0.15035307440289314,
         0.1496845239401281,
         0.14616693923770852,
         0.15031950902187208,
         0.14559114619946045,
         0.13450179526389575,
         0.14118438284651724
        ],
        [
         0.25121190332278026,
         0.24973482046933734,
         0.25271475064002125,
         0.2511419195992251,
         0.25032991820069794,
         0.25028256280347705,
         0.2545439889928436,
         0.25517098719308917,
         0.26481794360477257,
         0.25123463661464696,
         0.2529891550303528,
         0.2552874189545857,
         0.2639068000876874,
         0.2680042399842219,
         0.2520479606738424,
         0.2499921631305387,
         0.25525759823401184,
         0.24984948085529693,
         0.25709310609975133,
         0.2532293882640992,
         0.25729546707817447,
         0.24894363804738603,
         0.26508358636797935,
         0.26669306044156355,
         0.257313278786765,
         0.2539991116169475,
         0.24796613701162676,
         0.24705744471273147,
         0.25275066150717584,
         0.2441785327049301,
         0.25386930088622167,
         0.25438553945837067,
         0.25410411776244346,
         0.2581868758516423,
         0.2426209940812459,
         0.2621813894833858,
         0.2604857899485996,
         0.25437635158681693,
         0.2675789082057628,
         0.24727301078611144,
         0.2556544105230155,
         0.2540016476813631,
         0.2610828637547207,
         0.2582082810775176,
         0.25040476694337876,
         0.25294722546366794,
         0.24474980783484437,
         0.2609365813927177,
         0.25294914720214756,
         0.2598896905935059,
         0.25656788397178637,
         0.251104957063445,
         0.2630527871478276,
         0.24675126754514434,
         0.25847981949610743,
         0.2537265968070749,
         0.2531255461622541,
         0.25152011545301944,
         0.26507031809830783,
         0.25671191388448955,
         0.24633186083177433,
         0.2562136402554518,
         0.25388258681906495,
         0.2592109939695208,
         0.25065832608835953,
         0.2571058398952671,
         0.2497787356796656,
         0.24582500824266496,
         0.25019109001218837,
         0.2599871586551707,
         0.2548900047846723,
         0.2576056908469136,
         0.25772472382431816,
         0.24948343410905377,
         0.25862638253316866,
         0.25298678180129797,
         0.2535445740190791,
         0.25255904835192305,
         0.25403494660870407,
         0.25521600214472295,
         0.2671313537376038,
         0.2503714679886459,
         0.25037945572323367,
         0.26524855999056907,
         0.26204073285757035,
         0.23518447648259064,
         0.2526255442724362,
         0.24197341771065897,
         0.25286428132733585,
         0.25351636041430575,
         0.24758377727395034,
         0.25410615414490595,
         0.2502881425031114,
         0.25511668181485114,
         0.25511542971556384,
         0.24855443275551878,
         0.2597714810467818,
         0.25322061619155256,
         0.24183725914004825,
         0.24882052582916894
        ],
        [
         25.623614138923585,
         25.47295168787241,
         25.776904565282166,
         25.616475799120963,
         25.533651656471193,
         25.52882140595466,
         25.963486877270043,
         26.027440693695098,
         27.011430247686803,
         25.625932934693992,
         25.804893813095987,
         26.03931673336774,
         26.918493608944118,
         27.336432478390634,
         25.70889198873192,
         25.49920063931495,
         26.03627501986921,
         25.484647047240287,
         26.22349682217464,
         25.829397602938116,
         26.244137641973794,
         25.392251080833375,
         27.038525809533894,
         27.20269216503948,
         26.24595443625003,
         25.907909384928644,
         25.29254597518593,
         25.19985936069861,
         25.780567473731935,
         24.90621033590287,
         25.89466869039461,
         25.94732502475381,
         25.918620011769235,
         26.33506133686751,
         24.747341396287084,
         26.742501727305353,
         26.56955057475716,
         25.946387861855328,
         27.293048636987805,
         25.221847100183368,
         26.07674987334758,
         25.908168063499033,
         26.630452102981508,
         26.337244669906795,
         25.541286228224635,
         25.800616997294128,
         24.964480399154127,
         26.615531302057207,
         25.800813014619052,
         26.5087484405376,
         26.16992416512221,
         25.612705620471388,
         26.831384289078414,
         25.168629289604723,
         26.36494158860296,
         25.88011287432164,
         25.818805708549917,
         25.655051776207983,
         27.037172446027398,
         26.184615216217935,
         25.125849804840982,
         26.133791306056082,
         25.896023855544627,
         26.439521384891123,
         25.567149261012673,
         26.224795669317245,
         25.477431039325893,
         25.074150840751827,
         25.51949118124321,
         26.518690182827413,
         25.998780488036573,
         26.275780466385186,
         26.28792183008045,
         25.447310279123485,
         26.379891018383205,
         25.804651743732393,
         25.86154654994607,
         25.76102293189615,
         25.911564554087818,
         26.032032218761742,
         27.247398081235588,
         25.537889734841883,
         25.538704483769834,
         27.055353119038045,
         26.728154751472175,
         23.988816601224244,
         25.767805515788496,
         24.681288606487215,
         25.792156695388258,
         25.858668762259185,
         25.253545281942934,
         25.918827722780406,
         25.52939053531736,
         26.021901545114815,
         26.021773830987513,
         25.352552141062915,
         26.496691066771746,
         25.82850285153836,
         24.66740043228492,
         25.379693634575233
        ],
        [
         3.7918084888559487,
         3.872843902828249,
         3.906275651888787,
         3.9188723440526387,
         3.9026102729210335,
         3.851694947462964,
         3.8683631045866447,
         3.875796193732336,
         3.9771456115721433,
         3.85485357179137,
         3.7620824216074844,
         3.8831866217933477,
         3.8971479420888464,
         4.008154664720113,
         3.8323724758223894,
         3.830617021116554,
         3.971804263493047,
         3.86243709022343,
         3.8886428954261367,
         3.832126675281979,
         3.9501633605900937,
         3.8516853853031683,
         3.958736341761673,
         3.9411170074812985,
         3.9574415747026523,
         3.9673255153717784,
         3.7827945846201216,
         3.8389210107862377,
         3.916875367260125,
         3.8293904716617484,
         3.8282645210466164,
         3.851902774080059,
         3.870911372677174,
         3.9048604976079004,
         3.7463671199549977,
         4.010913468374693,
         3.9078578433506195,
         3.835545601333681,
         4.049745897711795,
         3.8891844927415855,
         3.9457690164355967,
         3.907942779966585,
         3.9895320509342955,
         3.9074079455259816,
         3.7836818699108994,
         3.87782876165579,
         3.8097460191534958,
         3.9255310658137565,
         3.8702566494485584,
         3.896459264397773,
         3.851232062363663,
         3.8281712752629278,
         4.051196900665202,
         3.8029037872481224,
         3.912234812273991,
         3.8215028358065726,
         3.8911120754463235,
         3.8270469491331056,
         4.025500058194568,
         3.8604621191732695,
         3.815033510039146,
         3.86957017374376,
         3.8322609180035316,
         3.860984092216948,
         3.8427769995761403,
         3.8623140215194223,
         3.931068259362765,
         3.835333365656659,
         3.8451759794794045,
         4.041860192041077,
         3.9582114347231134,
         3.843558427297158,
         3.8219990849737373,
         3.843140350940507,
         3.885431866087428,
         3.85827035926359,
         3.902228272413355,
         3.9264820312137965,
         3.8459050501438137,
         3.9689153727180093,
         3.9128571644990116,
         3.9252445848942763,
         3.8006340881667224,
         4.0098812084001025,
         3.890406280851808,
         3.73976101918903,
         3.7496830415394844,
         3.7403267544601846,
         3.9499675451804257,
         3.831000293886169,
         3.731244411740835,
         3.855363488156996,
         3.849276582288784,
         3.916122264319016,
         3.90740597351914,
         3.8612210247855883,
         3.91568511505087,
         3.8536082977314865,
         3.7039415649976672,
         3.7948395289319885
        ]
       ],
       "encoder": "json",
       "name": "ABC_GAN_3 Metrics",
       "version": 1
      }
     },
     "metadata": {
      "scrapbook": {
       "data": true,
       "display": false,
       "name": "ABC_GAN_3 Metrics"
      }
     },
     "output_type": "display_data"
    },
    {
     "name": "stdout",
     "output_type": "stream",
     "text": [
      "MSE\n",
      "0.14748460820134643\n"
     ]
    }
   ],
   "source": [
    "ABC_GAN3_metrics=ABC_train_test2.test_generator(gen3,test_data,prior_model,variance,bias,\"3\",device)\n",
    "sb.glue(\"ABC_GAN_3 Metrics\",ABC_GAN3_metrics)\n",
    "\n",
    "print(\"MSE\")\n",
    "print(mean(ABC_GAN3_metrics[0]))"
   ]
  },
  {
   "cell_type": "code",
   "execution_count": 18,
   "id": "c8e46b48",
   "metadata": {
    "execution": {
     "iopub.execute_input": "2022-06-12T08:52:12.851017Z",
     "iopub.status.busy": "2022-06-12T08:52:12.850655Z",
     "iopub.status.idle": "2022-06-12T08:52:13.180143Z",
     "shell.execute_reply": "2022-06-12T08:52:13.180443Z"
    },
    "id": "c8e46b48",
    "papermill": {
     "duration": 0.349969,
     "end_time": "2022-06-12T08:52:13.180563",
     "exception": false,
     "start_time": "2022-06-12T08:52:12.830594",
     "status": "completed"
    },
    "tags": []
   },
   "outputs": [
    {
     "data": {
      "image/png": "[encoded data removed]",
      "text/plain": [
       "<Figure size 432x288 with 1 Axes>"
      ]
     },
     "metadata": {
      "needs_background": "light"
     },
     "output_type": "display_data"
    },
    {
     "data": {
      "image/png": "[encoded data removed]",
      "text/plain": [
       "<Figure size 432x288 with 1 Axes>"
      ]
     },
     "metadata": {
      "needs_background": "light"
     },
     "output_type": "display_data"
    },
    {
     "data": {
      "image/png": "[encoded data removed]",
      "text/plain": [
       "<Figure size 432x288 with 1 Axes>"
      ]
     },
     "metadata": {
      "needs_background": "light"
     },
     "output_type": "display_data"
    },
    {
     "data": {
      "image/png": "[encoded data removed]",
      "text/plain": [
       "<Figure size 432x288 with 1 Axes>"
      ]
     },
     "metadata": {
      "needs_background": "light"
     },
     "output_type": "display_data"
    }
   ],
   "source": [
    "sanityChecks.discProbVsError(train_data,disc3,device)\n",
    "sanityChecks.discProbVsError(test_data,disc3,device)"
   ]
  },
  {
   "cell_type": "markdown",
   "id": "a5bd74c3",
   "metadata": {
    "id": "a5bd74c3",
    "papermill": {
     "duration": 0.019965,
     "end_time": "2022-06-12T08:52:13.220311",
     "exception": false,
     "start_time": "2022-06-12T08:52:13.200346",
     "status": "completed"
    },
    "tags": []
   },
   "source": [
    "## Skip Connection Model Analysis - ABC-GAN "
   ]
  },
  {
   "cell_type": "markdown",
   "id": "5744a8bf",
   "metadata": {
    "id": "5744a8bf",
    "papermill": {
     "duration": 0.019352,
     "end_time": "2022-06-12T08:52:13.259143",
     "exception": false,
     "start_time": "2022-06-12T08:52:13.239791",
     "status": "completed"
    },
    "tags": []
   },
   "source": [
    "### Weight Analysis \n",
    "\n",
    "Study the weights of the skip connection layer\n",
    "\n",
    "Equation of the skip connection is \n",
    "\n",
    "$output = y_{gan} * w + y_{abc} * (1-w)$"
   ]
  },
  {
   "cell_type": "code",
   "execution_count": 19,
   "id": "52c31dea",
   "metadata": {
    "execution": {
     "iopub.execute_input": "2022-06-12T08:52:13.300500Z",
     "iopub.status.busy": "2022-06-12T08:52:13.300107Z",
     "iopub.status.idle": "2022-06-12T08:52:13.303461Z",
     "shell.execute_reply": "2022-06-12T08:52:13.303702Z"
    },
    "id": "52c31dea",
    "papermill": {
     "duration": 0.025485,
     "end_time": "2022-06-12T08:52:13.303814",
     "exception": false,
     "start_time": "2022-06-12T08:52:13.278329",
     "status": "completed"
    },
    "tags": []
   },
   "outputs": [
    {
     "name": "stdout",
     "output_type": "stream",
     "text": [
      "Weight of the node at skip connection\n",
      "Parameter containing:\n",
      "tensor([[0.3194]], requires_grad=True)\n"
     ]
    },
    {
     "data": {
      "application/scrapbook.scrap.json+json": {
       "data": 0.31940075755119324,
       "encoder": "json",
       "name": "Skip Connection Weight",
       "version": 1
      }
     },
     "metadata": {
      "scrapbook": {
       "data": true,
       "display": false,
       "name": "Skip Connection Weight"
      }
     },
     "output_type": "display_data"
    }
   ],
   "source": [
    "print(\"Weight of the node at skip connection\")\n",
    "for name,param in gen3.named_parameters():\n",
    "    if(name == \"skipNode.weight\"):\n",
    "        print(param)\n",
    "        sb.glue(\"Skip Connection Weight\",param.item())"
   ]
  }
 ],
 "metadata": {
  "colab": {
   "collapsed_sections": [],
   "name": "ABC_GAN_Model-Catboost_Pre-gen.ipynb",
   "provenance": []
  },
  "interpreter": {
   "hash": "31f2aee4e71d21fbe5cf8b01ff0e069b9275f58929596ceb00d14d90e3e16cd6"
  },
  "kernelspec": {
   "display_name": "Python 3 (ipykernel)",
   "language": "python",
   "name": "python3"
  },
  "language_info": {
   "codemirror_mode": {
    "name": "ipython",
    "version": 3
   },
   "file_extension": ".py",
   "mimetype": "text/x-python",
   "name": "python",
   "nbconvert_exporter": "python",
   "pygments_lexer": "ipython3",
   "version": "3.8.11"
  },
  "papermill": {
   "default_parameters": {},
   "duration": 238.888901,
   "end_time": "2022-06-12T08:52:13.631654",
   "environment_variables": {},
   "exception": null,
   "input_path": "ABC_GAN-Catboost.ipynb",
   "output_path": "./ABC_GAN_Catboost/ABC-GAN_output_10_7.ipynb",
   "parameters": {
    "bias": 0.01,
    "variance": 0.1
   },
   "start_time": "2022-06-12T08:48:14.742753",
   "version": "2.3.3"
  }
 },
 "nbformat": 4,
 "nbformat_minor": 5
}