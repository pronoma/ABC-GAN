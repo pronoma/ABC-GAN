{
 "cells": [
  {
   "cell_type": "markdown",
   "id": "622780e6",
   "metadata": {
    "id": "622780e6",
    "papermill": {
     "duration": 0.025287,
     "end_time": "2022-06-12T05:39:59.809086",
     "exception": false,
     "start_time": "2022-06-12T05:39:59.783799",
     "status": "completed"
    },
    "tags": []
   },
   "source": [
    "## Import Libraries "
   ]
  },
  {
   "cell_type": "code",
   "execution_count": 1,
   "id": "a62397e3",
   "metadata": {
    "execution": {
     "iopub.execute_input": "2022-06-12T05:39:59.844393Z",
     "iopub.status.busy": "2022-06-12T05:39:59.843905Z",
     "iopub.status.idle": "2022-06-12T05:39:59.846255Z",
     "shell.execute_reply": "2022-06-12T05:39:59.846585Z"
    },
    "id": "a62397e3",
    "papermill": {
     "duration": 0.022219,
     "end_time": "2022-06-12T05:39:59.846780",
     "exception": false,
     "start_time": "2022-06-12T05:39:59.824561",
     "status": "completed"
    },
    "tags": []
   },
   "outputs": [],
   "source": [
    "import warnings\n",
    "import sys\n",
    "sys.path.insert(0, '../../src')\n",
    "warnings.filterwarnings('ignore')"
   ]
  },
  {
   "cell_type": "code",
   "execution_count": 2,
   "id": "d6a4e155",
   "metadata": {
    "execution": {
     "iopub.execute_input": "2022-06-12T05:39:59.867590Z",
     "iopub.status.busy": "2022-06-12T05:39:59.867160Z",
     "iopub.status.idle": "2022-06-12T05:40:01.622857Z",
     "shell.execute_reply": "2022-06-12T05:40:01.623114Z"
    },
    "id": "d6a4e155",
    "papermill": {
     "duration": 1.766786,
     "end_time": "2022-06-12T05:40:01.623236",
     "exception": false,
     "start_time": "2022-06-12T05:39:59.856450",
     "status": "completed"
    },
    "tags": []
   },
   "outputs": [],
   "source": [
    "import ABC_train_test2\n",
    "import bostonDataset\n",
    "import network\n",
    "import dataset\n",
    "import sanityChecks\n",
    "import torch \n",
    "import scrapbook as sb\n",
    "from statistics import mean \n",
    "import catboost as ctb \n",
    "from sklearn.model_selection import train_test_split\n",
    "from sklearn.metrics import mean_squared_error,mean_absolute_error\n",
    "import numpy as np"
   ]
  },
  {
   "cell_type": "markdown",
   "id": "2fa5b0f7",
   "metadata": {
    "id": "2fa5b0f7",
    "papermill": {
     "duration": 0.006768,
     "end_time": "2022-06-12T05:40:01.637147",
     "exception": false,
     "start_time": "2022-06-12T05:40:01.630379",
     "status": "completed"
    },
    "tags": []
   },
   "source": [
    "## Parameters "
   ]
  },
  {
   "cell_type": "code",
   "execution_count": 3,
   "id": "783186fb",
   "metadata": {
    "execution": {
     "iopub.execute_input": "2022-06-12T05:40:01.652872Z",
     "iopub.status.busy": "2022-06-12T05:40:01.652483Z",
     "iopub.status.idle": "2022-06-12T05:40:01.653709Z",
     "shell.execute_reply": "2022-06-12T05:40:01.653952Z"
    },
    "id": "783186fb",
    "papermill": {
     "duration": 0.010142,
     "end_time": "2022-06-12T05:40:01.654061",
     "exception": false,
     "start_time": "2022-06-12T05:40:01.643919",
     "status": "completed"
    },
    "tags": [
     "parameters"
    ]
   },
   "outputs": [],
   "source": [
    "variance = 1\n",
    "bias = 1 "
   ]
  },
  {
   "cell_type": "code",
   "execution_count": 4,
   "id": "a8d13a74",
   "metadata": {
    "execution": {
     "iopub.execute_input": "2022-06-12T05:40:01.669749Z",
     "iopub.status.busy": "2022-06-12T05:40:01.669377Z",
     "iopub.status.idle": "2022-06-12T05:40:01.670639Z",
     "shell.execute_reply": "2022-06-12T05:40:01.670932Z"
    },
    "papermill": {
     "duration": 0.010038,
     "end_time": "2022-06-12T05:40:01.671044",
     "exception": false,
     "start_time": "2022-06-12T05:40:01.661006",
     "status": "completed"
    },
    "tags": [
     "injected-parameters"
    ]
   },
   "outputs": [],
   "source": [
    "# Parameters\n",
    "variance = 1\n",
    "bias = 0.1\n"
   ]
  },
  {
   "cell_type": "markdown",
   "id": "391cdbfd",
   "metadata": {
    "id": "391cdbfd",
    "papermill": {
     "duration": 0.006802,
     "end_time": "2022-06-12T05:40:01.684672",
     "exception": false,
     "start_time": "2022-06-12T05:40:01.677870",
     "status": "completed"
    },
    "tags": []
   },
   "source": [
    "## Dataset \n"
   ]
  },
  {
   "cell_type": "code",
   "execution_count": 5,
   "id": "5b51f161",
   "metadata": {
    "execution": {
     "iopub.execute_input": "2022-06-12T05:40:01.700205Z",
     "iopub.status.busy": "2022-06-12T05:40:01.699836Z",
     "iopub.status.idle": "2022-06-12T05:40:01.701008Z",
     "shell.execute_reply": "2022-06-12T05:40:01.701290Z"
    },
    "id": "5b51f161",
    "papermill": {
     "duration": 0.009901,
     "end_time": "2022-06-12T05:40:01.701395",
     "exception": false,
     "start_time": "2022-06-12T05:40:01.691494",
     "status": "completed"
    },
    "tags": []
   },
   "outputs": [],
   "source": [
    "#Parameters \n",
    "n_features = 13\n",
    "n_samples= 506\n",
    "n_target = 1 "
   ]
  },
  {
   "cell_type": "code",
   "execution_count": 6,
   "id": "5d6eced4",
   "metadata": {
    "execution": {
     "iopub.execute_input": "2022-06-12T05:40:01.717057Z",
     "iopub.status.busy": "2022-06-12T05:40:01.716701Z",
     "iopub.status.idle": "2022-06-12T05:40:01.727338Z",
     "shell.execute_reply": "2022-06-12T05:40:01.727576Z"
    },
    "id": "5d6eced4",
    "papermill": {
     "duration": 0.019368,
     "end_time": "2022-06-12T05:40:01.727696",
     "exception": false,
     "start_time": "2022-06-12T05:40:01.708328",
     "status": "completed"
    },
    "tags": []
   },
   "outputs": [
    {
     "name": "stdout",
     "output_type": "stream",
     "text": [
      "         X1        X2        X3        X4        X5        X6        X7  \\\n",
      "0 -0.419782  0.284830 -1.287909 -0.272599 -0.144217  0.413672 -0.120013   \n",
      "1 -0.417339 -0.487722 -0.593381 -0.272599 -0.740262  0.194274  0.367166   \n",
      "2 -0.417342 -0.487722 -0.593381 -0.272599 -0.740262  1.282714 -0.265812   \n",
      "3 -0.416750 -0.487722 -1.306878 -0.272599 -0.835284  1.016303 -0.809889   \n",
      "4 -0.412482 -0.487722 -1.306878 -0.272599 -0.835284  1.228577 -0.511180   \n",
      "\n",
      "         X8        X9       X10       X11       X12       X13         Y  \n",
      "0  0.140214 -0.982843 -0.666608 -1.459000  0.441052 -1.075562  0.159686  \n",
      "1  0.557160 -0.867883 -0.987329 -0.303094  0.441052 -0.492439 -0.101524  \n",
      "2  0.557160 -0.867883 -0.987329 -0.303094  0.396427 -1.208727  1.324247  \n",
      "3  1.077737 -0.752922 -1.106115  0.113032  0.416163 -1.361517  1.182758  \n",
      "4  1.077737 -0.752922 -1.106115  0.113032  0.441052 -1.026501  1.487503  \n"
     ]
    }
   ],
   "source": [
    "X,Y = bostonDataset.boston_data()"
   ]
  },
  {
   "cell_type": "code",
   "execution_count": 7,
   "id": "fe007438",
   "metadata": {
    "execution": {
     "iopub.execute_input": "2022-06-12T05:40:01.744824Z",
     "iopub.status.busy": "2022-06-12T05:40:01.744443Z",
     "iopub.status.idle": "2022-06-12T05:40:01.745988Z",
     "shell.execute_reply": "2022-06-12T05:40:01.746231Z"
    },
    "id": "fe007438",
    "papermill": {
     "duration": 0.01127,
     "end_time": "2022-06-12T05:40:01.746337",
     "exception": false,
     "start_time": "2022-06-12T05:40:01.735067",
     "status": "completed"
    },
    "tags": []
   },
   "outputs": [],
   "source": [
    "#Train test split for dataset \n",
    "X_train,X_test,Y_train,Y_test = train_test_split(X,Y,test_size = 0.2)\n",
    "train_data = dataset.CustomDataset(X_train,Y_train)\n",
    "test_data = dataset.CustomDataset(X_test,Y_test)\n"
   ]
  },
  {
   "cell_type": "markdown",
   "id": "a9a1af34",
   "metadata": {
    "id": "a9a1af34",
    "papermill": {
     "duration": 0.007042,
     "end_time": "2022-06-12T05:40:01.760540",
     "exception": false,
     "start_time": "2022-06-12T05:40:01.753498",
     "status": "completed"
    },
    "tags": []
   },
   "source": [
    "## Training Parameters "
   ]
  },
  {
   "cell_type": "code",
   "execution_count": 8,
   "id": "952b7fc8",
   "metadata": {
    "execution": {
     "iopub.execute_input": "2022-06-12T05:40:01.776840Z",
     "iopub.status.busy": "2022-06-12T05:40:01.776476Z",
     "iopub.status.idle": "2022-06-12T05:40:01.777712Z",
     "shell.execute_reply": "2022-06-12T05:40:01.777940Z"
    },
    "id": "952b7fc8",
    "papermill": {
     "duration": 0.010442,
     "end_time": "2022-06-12T05:40:01.778047",
     "exception": false,
     "start_time": "2022-06-12T05:40:01.767605",
     "status": "completed"
    },
    "tags": []
   },
   "outputs": [],
   "source": [
    "batch_size = 32\n",
    "n_epochs = 1000\n",
    "#Select the device \n",
    "device = torch.device('cuda' if torch.cuda.is_available() else 'cpu')"
   ]
  },
  {
   "cell_type": "markdown",
   "id": "a95e1600",
   "metadata": {
    "id": "a95e1600",
    "papermill": {
     "duration": 0.007084,
     "end_time": "2022-06-12T05:40:01.792400",
     "exception": false,
     "start_time": "2022-06-12T05:40:01.785316",
     "status": "completed"
    },
    "tags": []
   },
   "source": [
    "# ABC Pre-generator Model \n",
    "\n",
    "1. The catboost model is used as a pre-generator model for the ABC-GAN. \n",
    "2. The model is first trained on the entire dataset \n",
    "3. It generats X,Y pairs and we add some Gaussian noise with mean 0 and variance 1 to it which is then feed as input to the generator.\n"
   ]
  },
  {
   "cell_type": "code",
   "execution_count": 9,
   "id": "ff8ce7bd",
   "metadata": {
    "execution": {
     "iopub.execute_input": "2022-06-12T05:40:01.811530Z",
     "iopub.status.busy": "2022-06-12T05:40:01.811142Z",
     "iopub.status.idle": "2022-06-12T05:40:02.769087Z",
     "shell.execute_reply": "2022-06-12T05:40:02.769400Z"
    },
    "id": "ff8ce7bd",
    "papermill": {
     "duration": 0.969919,
     "end_time": "2022-06-12T05:40:02.769522",
     "exception": false,
     "start_time": "2022-06-12T05:40:01.799603",
     "status": "completed"
    },
    "tags": []
   },
   "outputs": [
    {
     "name": "stdout",
     "output_type": "stream",
     "text": [
      "Learning rate set to 0.033215\n",
      "0:\tlearn: 1.0144592\ttotal: 58.6ms\tremaining: 58.5s\n",
      "1:\tlearn: 0.9931339\ttotal: 59.5ms\tremaining: 29.7s\n",
      "2:\tlearn: 0.9713495\ttotal: 60.5ms\tremaining: 20.1s\n",
      "3:\tlearn: 0.9543817\ttotal: 61.7ms\tremaining: 15.4s\n",
      "4:\tlearn: 0.9363705\ttotal: 62.7ms\tremaining: 12.5s\n",
      "5:\tlearn: 0.9222360\ttotal: 63.6ms\tremaining: 10.5s\n",
      "6:\tlearn: 0.9071086\ttotal: 64.6ms\tremaining: 9.16s\n",
      "7:\tlearn: 0.8907928\ttotal: 65.8ms\tremaining: 8.16s\n",
      "8:\tlearn: 0.8750614\ttotal: 66.8ms\tremaining: 7.35s\n",
      "9:\tlearn: 0.8576777\ttotal: 67.7ms\tremaining: 6.71s\n",
      "10:\tlearn: 0.8435835\ttotal: 68.6ms\tremaining: 6.17s\n",
      "11:\tlearn: 0.8271296\ttotal: 69.5ms\tremaining: 5.72s\n",
      "12:\tlearn: 0.8113884\ttotal: 70.4ms\tremaining: 5.35s\n",
      "13:\tlearn: 0.7961023\ttotal: 71.3ms\tremaining: 5.02s\n",
      "14:\tlearn: 0.7831814\ttotal: 72.1ms\tremaining: 4.74s\n",
      "15:\tlearn: 0.7697789\ttotal: 73ms\tremaining: 4.49s\n",
      "16:\tlearn: 0.7565937\ttotal: 73.9ms\tremaining: 4.27s\n",
      "17:\tlearn: 0.7430979\ttotal: 74.7ms\tremaining: 4.08s\n",
      "18:\tlearn: 0.7304272\ttotal: 75.6ms\tremaining: 3.9s\n",
      "19:\tlearn: 0.7167435\ttotal: 76.4ms\tremaining: 3.74s\n",
      "20:\tlearn: 0.7053208\ttotal: 77.3ms\tremaining: 3.6s\n",
      "21:\tlearn: 0.6934278\ttotal: 78.2ms\tremaining: 3.48s\n",
      "22:\tlearn: 0.6816215\ttotal: 79ms\tremaining: 3.35s\n",
      "23:\tlearn: 0.6716247\ttotal: 79.7ms\tremaining: 3.24s\n",
      "24:\tlearn: 0.6615645\ttotal: 80.5ms\tremaining: 3.14s\n",
      "25:\tlearn: 0.6503985\ttotal: 81.4ms\tremaining: 3.05s\n",
      "26:\tlearn: 0.6404421\ttotal: 82.2ms\tremaining: 2.96s\n",
      "27:\tlearn: 0.6311160\ttotal: 83ms\tremaining: 2.88s\n",
      "28:\tlearn: 0.6217239\ttotal: 83.7ms\tremaining: 2.8s\n",
      "29:\tlearn: 0.6116522\ttotal: 84.5ms\tremaining: 2.73s\n",
      "30:\tlearn: 0.6008477\ttotal: 85.2ms\tremaining: 2.66s\n",
      "31:\tlearn: 0.5921002\ttotal: 86.1ms\tremaining: 2.6s\n",
      "32:\tlearn: 0.5848202\ttotal: 86.9ms\tremaining: 2.54s\n",
      "33:\tlearn: 0.5770151\ttotal: 87.6ms\tremaining: 2.49s\n",
      "34:\tlearn: 0.5699412\ttotal: 88.5ms\tremaining: 2.44s\n",
      "35:\tlearn: 0.5624501\ttotal: 89.3ms\tremaining: 2.39s\n",
      "36:\tlearn: 0.5555992\ttotal: 90.1ms\tremaining: 2.34s\n",
      "37:\tlearn: 0.5477175\ttotal: 90.8ms\tremaining: 2.3s\n",
      "38:\tlearn: 0.5409258\ttotal: 91.6ms\tremaining: 2.26s\n",
      "39:\tlearn: 0.5327907\ttotal: 92.5ms\tremaining: 2.22s\n",
      "40:\tlearn: 0.5263810\ttotal: 93.5ms\tremaining: 2.19s\n",
      "41:\tlearn: 0.5188190\ttotal: 94.2ms\tremaining: 2.15s\n",
      "42:\tlearn: 0.5134306\ttotal: 94.9ms\tremaining: 2.11s\n",
      "43:\tlearn: 0.5079849\ttotal: 95.6ms\tremaining: 2.08s\n",
      "44:\tlearn: 0.5019029\ttotal: 96.5ms\tremaining: 2.05s\n",
      "45:\tlearn: 0.4957410\ttotal: 97.2ms\tremaining: 2.02s\n",
      "46:\tlearn: 0.4914906\ttotal: 97.9ms\tremaining: 1.99s\n",
      "47:\tlearn: 0.4853622\ttotal: 98.6ms\tremaining: 1.96s\n",
      "48:\tlearn: 0.4801164\ttotal: 99.4ms\tremaining: 1.93s\n",
      "49:\tlearn: 0.4743113\ttotal: 100ms\tremaining: 1.9s\n",
      "50:\tlearn: 0.4684610\ttotal: 101ms\tremaining: 1.88s\n",
      "51:\tlearn: 0.4634900\ttotal: 102ms\tremaining: 1.85s\n",
      "52:\tlearn: 0.4583718\ttotal: 102ms\tremaining: 1.83s\n",
      "53:\tlearn: 0.4535168\ttotal: 103ms\tremaining: 1.8s\n",
      "54:\tlearn: 0.4488034\ttotal: 104ms\tremaining: 1.78s\n",
      "55:\tlearn: 0.4450287\ttotal: 104ms\tremaining: 1.76s\n",
      "56:\tlearn: 0.4399822\ttotal: 105ms\tremaining: 1.74s\n",
      "57:\tlearn: 0.4352950\ttotal: 106ms\tremaining: 1.72s\n",
      "58:\tlearn: 0.4309297\ttotal: 107ms\tremaining: 1.7s\n",
      "59:\tlearn: 0.4274765\ttotal: 107ms\tremaining: 1.68s\n",
      "60:\tlearn: 0.4231758\ttotal: 108ms\tremaining: 1.67s\n"
     ]
    },
    {
     "name": "stdout",
     "output_type": "stream",
     "text": [
      "61:\tlearn: 0.4189286\ttotal: 110ms\tremaining: 1.66s\n",
      "62:\tlearn: 0.4157513\ttotal: 111ms\tremaining: 1.65s\n",
      "63:\tlearn: 0.4114908\ttotal: 112ms\tremaining: 1.63s\n",
      "64:\tlearn: 0.4083530\ttotal: 112ms\tremaining: 1.62s\n",
      "65:\tlearn: 0.4042329\ttotal: 113ms\tremaining: 1.6s\n",
      "66:\tlearn: 0.4002547\ttotal: 114ms\tremaining: 1.59s\n",
      "67:\tlearn: 0.3959954\ttotal: 115ms\tremaining: 1.57s\n",
      "68:\tlearn: 0.3930373\ttotal: 116ms\tremaining: 1.56s\n",
      "69:\tlearn: 0.3899906\ttotal: 116ms\tremaining: 1.55s\n",
      "70:\tlearn: 0.3857256\ttotal: 117ms\tremaining: 1.53s\n",
      "71:\tlearn: 0.3818288\ttotal: 118ms\tremaining: 1.52s\n",
      "72:\tlearn: 0.3789844\ttotal: 119ms\tremaining: 1.51s\n",
      "73:\tlearn: 0.3754395\ttotal: 120ms\tremaining: 1.5s\n",
      "74:\tlearn: 0.3727131\ttotal: 120ms\tremaining: 1.49s\n",
      "75:\tlearn: 0.3699331\ttotal: 121ms\tremaining: 1.48s\n",
      "76:\tlearn: 0.3663936\ttotal: 122ms\tremaining: 1.47s\n",
      "77:\tlearn: 0.3635990\ttotal: 123ms\tremaining: 1.45s\n",
      "78:\tlearn: 0.3616192\ttotal: 124ms\tremaining: 1.44s\n",
      "79:\tlearn: 0.3594730\ttotal: 125ms\tremaining: 1.43s\n",
      "80:\tlearn: 0.3571465\ttotal: 125ms\tremaining: 1.42s\n",
      "81:\tlearn: 0.3546943\ttotal: 126ms\tremaining: 1.41s\n",
      "82:\tlearn: 0.3527080\ttotal: 127ms\tremaining: 1.4s\n",
      "83:\tlearn: 0.3503244\ttotal: 128ms\tremaining: 1.39s\n",
      "84:\tlearn: 0.3482430\ttotal: 129ms\tremaining: 1.39s\n",
      "85:\tlearn: 0.3458972\ttotal: 129ms\tremaining: 1.38s\n",
      "86:\tlearn: 0.3435528\ttotal: 130ms\tremaining: 1.37s\n",
      "87:\tlearn: 0.3412967\ttotal: 131ms\tremaining: 1.36s\n",
      "88:\tlearn: 0.3391543\ttotal: 132ms\tremaining: 1.35s\n",
      "89:\tlearn: 0.3371048\ttotal: 132ms\tremaining: 1.34s\n",
      "90:\tlearn: 0.3342873\ttotal: 133ms\tremaining: 1.33s\n",
      "91:\tlearn: 0.3327775\ttotal: 134ms\tremaining: 1.32s\n",
      "92:\tlearn: 0.3311224\ttotal: 135ms\tremaining: 1.31s\n",
      "93:\tlearn: 0.3285622\ttotal: 136ms\tremaining: 1.3s\n",
      "94:\tlearn: 0.3265310\ttotal: 136ms\tremaining: 1.3s\n",
      "95:\tlearn: 0.3253930\ttotal: 137ms\tremaining: 1.29s\n",
      "96:\tlearn: 0.3229984\ttotal: 138ms\tremaining: 1.29s\n",
      "97:\tlearn: 0.3212683\ttotal: 139ms\tremaining: 1.28s\n",
      "98:\tlearn: 0.3195931\ttotal: 140ms\tremaining: 1.27s\n",
      "99:\tlearn: 0.3183819\ttotal: 141ms\tremaining: 1.27s\n",
      "100:\tlearn: 0.3164219\ttotal: 142ms\tremaining: 1.26s\n",
      "101:\tlearn: 0.3145926\ttotal: 143ms\tremaining: 1.26s\n",
      "102:\tlearn: 0.3130084\ttotal: 144ms\tremaining: 1.25s\n",
      "103:\tlearn: 0.3116319\ttotal: 144ms\tremaining: 1.24s\n",
      "104:\tlearn: 0.3104890\ttotal: 145ms\tremaining: 1.24s\n",
      "105:\tlearn: 0.3091240\ttotal: 146ms\tremaining: 1.23s\n",
      "106:\tlearn: 0.3074962\ttotal: 147ms\tremaining: 1.22s\n",
      "107:\tlearn: 0.3055461\ttotal: 149ms\tremaining: 1.23s\n",
      "108:\tlearn: 0.3039671\ttotal: 150ms\tremaining: 1.23s\n",
      "109:\tlearn: 0.3026666\ttotal: 151ms\tremaining: 1.22s\n",
      "110:\tlearn: 0.3016578\ttotal: 152ms\tremaining: 1.22s\n",
      "111:\tlearn: 0.3002042\ttotal: 153ms\tremaining: 1.21s\n",
      "112:\tlearn: 0.2985349\ttotal: 153ms\tremaining: 1.2s\n",
      "113:\tlearn: 0.2969674\ttotal: 154ms\tremaining: 1.2s\n",
      "114:\tlearn: 0.2951205\ttotal: 155ms\tremaining: 1.19s\n",
      "115:\tlearn: 0.2940271\ttotal: 156ms\tremaining: 1.19s\n",
      "116:\tlearn: 0.2922728\ttotal: 156ms\tremaining: 1.18s\n",
      "117:\tlearn: 0.2912525\ttotal: 157ms\tremaining: 1.18s\n",
      "118:\tlearn: 0.2898711\ttotal: 158ms\tremaining: 1.17s\n",
      "119:\tlearn: 0.2886293\ttotal: 159ms\tremaining: 1.17s\n",
      "120:\tlearn: 0.2870209\ttotal: 160ms\tremaining: 1.16s\n",
      "121:\tlearn: 0.2857939\ttotal: 161ms\tremaining: 1.16s\n",
      "122:\tlearn: 0.2844874\ttotal: 161ms\tremaining: 1.15s\n",
      "123:\tlearn: 0.2835982\ttotal: 162ms\tremaining: 1.15s\n",
      "124:\tlearn: 0.2826774\ttotal: 163ms\tremaining: 1.14s\n",
      "125:\tlearn: 0.2813525\ttotal: 164ms\tremaining: 1.14s\n",
      "126:\tlearn: 0.2798091\ttotal: 165ms\tremaining: 1.13s\n",
      "127:\tlearn: 0.2788891\ttotal: 165ms\tremaining: 1.13s\n",
      "128:\tlearn: 0.2775320\ttotal: 166ms\tremaining: 1.12s\n",
      "129:\tlearn: 0.2762542\ttotal: 167ms\tremaining: 1.12s\n",
      "130:\tlearn: 0.2754266\ttotal: 168ms\tremaining: 1.11s\n",
      "131:\tlearn: 0.2740888\ttotal: 169ms\tremaining: 1.11s\n",
      "132:\tlearn: 0.2729342\ttotal: 169ms\tremaining: 1.1s\n",
      "133:\tlearn: 0.2721961\ttotal: 170ms\tremaining: 1.1s\n",
      "134:\tlearn: 0.2711184\ttotal: 171ms\tremaining: 1.1s\n",
      "135:\tlearn: 0.2700788\ttotal: 172ms\tremaining: 1.09s\n",
      "136:\tlearn: 0.2691410\ttotal: 173ms\tremaining: 1.09s\n",
      "137:\tlearn: 0.2680956\ttotal: 174ms\tremaining: 1.08s\n",
      "138:\tlearn: 0.2667870\ttotal: 175ms\tremaining: 1.08s\n",
      "139:\tlearn: 0.2655006\ttotal: 176ms\tremaining: 1.08s\n",
      "140:\tlearn: 0.2647104\ttotal: 177ms\tremaining: 1.07s\n",
      "141:\tlearn: 0.2638792\ttotal: 177ms\tremaining: 1.07s\n",
      "142:\tlearn: 0.2626774\ttotal: 179ms\tremaining: 1.07s\n",
      "143:\tlearn: 0.2613048\ttotal: 179ms\tremaining: 1.07s\n",
      "144:\tlearn: 0.2602117\ttotal: 180ms\tremaining: 1.06s\n",
      "145:\tlearn: 0.2591187\ttotal: 181ms\tremaining: 1.06s\n",
      "146:\tlearn: 0.2582617\ttotal: 182ms\tremaining: 1.05s\n",
      "147:\tlearn: 0.2576643\ttotal: 182ms\tremaining: 1.05s\n",
      "148:\tlearn: 0.2571640\ttotal: 183ms\tremaining: 1.05s\n",
      "149:\tlearn: 0.2563111\ttotal: 184ms\tremaining: 1.04s\n",
      "150:\tlearn: 0.2552256\ttotal: 185ms\tremaining: 1.04s\n",
      "151:\tlearn: 0.2542863\ttotal: 186ms\tremaining: 1.04s\n",
      "152:\tlearn: 0.2531568\ttotal: 187ms\tremaining: 1.03s\n",
      "153:\tlearn: 0.2525927\ttotal: 188ms\tremaining: 1.03s\n",
      "154:\tlearn: 0.2515708\ttotal: 188ms\tremaining: 1.03s\n",
      "155:\tlearn: 0.2504686\ttotal: 189ms\tremaining: 1.02s\n",
      "156:\tlearn: 0.2497225\ttotal: 190ms\tremaining: 1.02s\n",
      "157:\tlearn: 0.2489378\ttotal: 191ms\tremaining: 1.02s\n"
     ]
    },
    {
     "name": "stdout",
     "output_type": "stream",
     "text": [
      "158:\tlearn: 0.2478899\ttotal: 192ms\tremaining: 1.01s\n",
      "159:\tlearn: 0.2471542\ttotal: 193ms\tremaining: 1.01s\n",
      "160:\tlearn: 0.2463993\ttotal: 194ms\tremaining: 1.01s\n",
      "161:\tlearn: 0.2457303\ttotal: 195ms\tremaining: 1.01s\n",
      "162:\tlearn: 0.2450055\ttotal: 195ms\tremaining: 1s\n",
      "163:\tlearn: 0.2440658\ttotal: 196ms\tremaining: 1s\n",
      "164:\tlearn: 0.2433586\ttotal: 197ms\tremaining: 998ms\n",
      "165:\tlearn: 0.2426145\ttotal: 198ms\tremaining: 995ms\n",
      "166:\tlearn: 0.2419005\ttotal: 199ms\tremaining: 991ms\n",
      "167:\tlearn: 0.2412488\ttotal: 200ms\tremaining: 989ms\n",
      "168:\tlearn: 0.2406487\ttotal: 200ms\tremaining: 986ms\n",
      "169:\tlearn: 0.2399508\ttotal: 201ms\tremaining: 983ms\n",
      "170:\tlearn: 0.2391782\ttotal: 202ms\tremaining: 979ms\n",
      "171:\tlearn: 0.2382711\ttotal: 204ms\tremaining: 980ms\n",
      "172:\tlearn: 0.2373771\ttotal: 204ms\tremaining: 978ms\n",
      "173:\tlearn: 0.2366876\ttotal: 205ms\tremaining: 975ms\n",
      "174:\tlearn: 0.2360506\ttotal: 206ms\tremaining: 972ms\n",
      "175:\tlearn: 0.2352805\ttotal: 207ms\tremaining: 969ms\n",
      "176:\tlearn: 0.2346331\ttotal: 208ms\tremaining: 966ms\n",
      "177:\tlearn: 0.2342277\ttotal: 208ms\tremaining: 962ms\n",
      "178:\tlearn: 0.2337652\ttotal: 209ms\tremaining: 960ms\n",
      "179:\tlearn: 0.2331117\ttotal: 210ms\tremaining: 957ms\n",
      "180:\tlearn: 0.2323015\ttotal: 211ms\tremaining: 954ms\n",
      "181:\tlearn: 0.2316226\ttotal: 212ms\tremaining: 952ms\n",
      "182:\tlearn: 0.2309640\ttotal: 213ms\tremaining: 949ms\n",
      "183:\tlearn: 0.2302676\ttotal: 214ms\tremaining: 947ms\n",
      "184:\tlearn: 0.2294904\ttotal: 214ms\tremaining: 945ms\n",
      "185:\tlearn: 0.2290937\ttotal: 215ms\tremaining: 942ms\n",
      "186:\tlearn: 0.2284942\ttotal: 216ms\tremaining: 939ms\n",
      "187:\tlearn: 0.2279602\ttotal: 217ms\tremaining: 937ms\n",
      "188:\tlearn: 0.2273924\ttotal: 218ms\tremaining: 934ms\n",
      "189:\tlearn: 0.2268438\ttotal: 219ms\tremaining: 932ms\n",
      "190:\tlearn: 0.2259992\ttotal: 219ms\tremaining: 930ms\n",
      "191:\tlearn: 0.2254436\ttotal: 220ms\tremaining: 927ms\n",
      "192:\tlearn: 0.2248895\ttotal: 221ms\tremaining: 925ms\n",
      "193:\tlearn: 0.2241571\ttotal: 222ms\tremaining: 922ms\n",
      "194:\tlearn: 0.2233881\ttotal: 223ms\tremaining: 920ms\n",
      "195:\tlearn: 0.2225089\ttotal: 224ms\tremaining: 918ms\n",
      "196:\tlearn: 0.2221734\ttotal: 225ms\tremaining: 916ms\n",
      "197:\tlearn: 0.2215591\ttotal: 226ms\tremaining: 914ms\n",
      "198:\tlearn: 0.2209134\ttotal: 227ms\tremaining: 914ms\n",
      "199:\tlearn: 0.2202123\ttotal: 228ms\tremaining: 912ms\n",
      "200:\tlearn: 0.2196304\ttotal: 229ms\tremaining: 909ms\n",
      "201:\tlearn: 0.2190651\ttotal: 230ms\tremaining: 907ms\n",
      "202:\tlearn: 0.2184493\ttotal: 230ms\tremaining: 904ms\n",
      "203:\tlearn: 0.2179521\ttotal: 231ms\tremaining: 902ms\n",
      "204:\tlearn: 0.2174023\ttotal: 232ms\tremaining: 899ms\n",
      "205:\tlearn: 0.2169495\ttotal: 233ms\tremaining: 897ms\n",
      "206:\tlearn: 0.2163324\ttotal: 234ms\tremaining: 895ms\n",
      "207:\tlearn: 0.2157707\ttotal: 234ms\tremaining: 892ms\n",
      "208:\tlearn: 0.2150860\ttotal: 235ms\tremaining: 890ms\n",
      "209:\tlearn: 0.2145482\ttotal: 236ms\tremaining: 889ms\n",
      "210:\tlearn: 0.2138397\ttotal: 237ms\tremaining: 887ms\n",
      "211:\tlearn: 0.2134174\ttotal: 238ms\tremaining: 885ms\n",
      "212:\tlearn: 0.2127076\ttotal: 239ms\tremaining: 883ms\n",
      "213:\tlearn: 0.2119363\ttotal: 240ms\tremaining: 883ms\n",
      "214:\tlearn: 0.2115228\ttotal: 241ms\tremaining: 880ms\n",
      "215:\tlearn: 0.2110885\ttotal: 242ms\tremaining: 878ms\n",
      "216:\tlearn: 0.2107151\ttotal: 243ms\tremaining: 876ms\n",
      "217:\tlearn: 0.2101585\ttotal: 244ms\tremaining: 874ms\n",
      "218:\tlearn: 0.2095411\ttotal: 244ms\tremaining: 871ms\n",
      "219:\tlearn: 0.2087408\ttotal: 245ms\tremaining: 869ms\n",
      "220:\tlearn: 0.2082145\ttotal: 246ms\tremaining: 867ms\n",
      "221:\tlearn: 0.2075139\ttotal: 247ms\tremaining: 864ms\n",
      "222:\tlearn: 0.2068741\ttotal: 247ms\tremaining: 862ms\n",
      "223:\tlearn: 0.2065492\ttotal: 248ms\tremaining: 860ms\n",
      "224:\tlearn: 0.2062523\ttotal: 249ms\tremaining: 857ms\n",
      "225:\tlearn: 0.2055639\ttotal: 250ms\tremaining: 855ms\n",
      "226:\tlearn: 0.2050477\ttotal: 251ms\tremaining: 853ms\n",
      "227:\tlearn: 0.2044494\ttotal: 251ms\tremaining: 851ms\n",
      "228:\tlearn: 0.2036389\ttotal: 252ms\tremaining: 849ms\n",
      "229:\tlearn: 0.2033652\ttotal: 253ms\tremaining: 847ms\n",
      "230:\tlearn: 0.2030920\ttotal: 254ms\tremaining: 845ms\n",
      "231:\tlearn: 0.2026948\ttotal: 254ms\tremaining: 842ms\n",
      "232:\tlearn: 0.2021712\ttotal: 255ms\tremaining: 840ms\n",
      "233:\tlearn: 0.2016549\ttotal: 256ms\tremaining: 839ms\n",
      "234:\tlearn: 0.2012521\ttotal: 257ms\tremaining: 837ms\n",
      "235:\tlearn: 0.2010261\ttotal: 258ms\tremaining: 835ms\n",
      "236:\tlearn: 0.2004104\ttotal: 259ms\tremaining: 833ms\n",
      "237:\tlearn: 0.1998939\ttotal: 259ms\tremaining: 831ms\n",
      "238:\tlearn: 0.1994887\ttotal: 260ms\tremaining: 829ms\n",
      "239:\tlearn: 0.1989673\ttotal: 261ms\tremaining: 827ms\n",
      "240:\tlearn: 0.1986352\ttotal: 262ms\tremaining: 825ms\n",
      "241:\tlearn: 0.1981275\ttotal: 263ms\tremaining: 823ms\n",
      "242:\tlearn: 0.1974508\ttotal: 263ms\tremaining: 821ms\n",
      "243:\tlearn: 0.1972012\ttotal: 264ms\tremaining: 819ms\n",
      "244:\tlearn: 0.1969121\ttotal: 265ms\tremaining: 817ms\n",
      "245:\tlearn: 0.1964731\ttotal: 266ms\tremaining: 814ms\n",
      "246:\tlearn: 0.1957591\ttotal: 267ms\tremaining: 815ms\n",
      "247:\tlearn: 0.1952561\ttotal: 268ms\tremaining: 813ms\n",
      "248:\tlearn: 0.1948071\ttotal: 269ms\tremaining: 811ms\n",
      "249:\tlearn: 0.1942600\ttotal: 270ms\tremaining: 809ms\n",
      "250:\tlearn: 0.1937733\ttotal: 270ms\tremaining: 807ms\n",
      "251:\tlearn: 0.1933476\ttotal: 271ms\tremaining: 805ms\n",
      "252:\tlearn: 0.1926427\ttotal: 272ms\tremaining: 803ms\n",
      "253:\tlearn: 0.1922237\ttotal: 273ms\tremaining: 801ms\n",
      "254:\tlearn: 0.1915401\ttotal: 274ms\tremaining: 799ms\n",
      "255:\tlearn: 0.1910488\ttotal: 275ms\tremaining: 798ms\n",
      "256:\tlearn: 0.1905888\ttotal: 275ms\tremaining: 796ms\n",
      "257:\tlearn: 0.1900138\ttotal: 276ms\tremaining: 794ms\n",
      "258:\tlearn: 0.1896430\ttotal: 277ms\tremaining: 793ms\n",
      "259:\tlearn: 0.1894477\ttotal: 278ms\tremaining: 791ms\n",
      "260:\tlearn: 0.1889823\ttotal: 279ms\tremaining: 790ms\n",
      "261:\tlearn: 0.1884370\ttotal: 280ms\tremaining: 789ms\n",
      "262:\tlearn: 0.1879875\ttotal: 281ms\tremaining: 787ms\n",
      "263:\tlearn: 0.1873783\ttotal: 282ms\tremaining: 786ms\n",
      "264:\tlearn: 0.1867411\ttotal: 283ms\tremaining: 784ms\n",
      "265:\tlearn: 0.1861097\ttotal: 284ms\tremaining: 783ms\n",
      "266:\tlearn: 0.1858215\ttotal: 285ms\tremaining: 782ms\n",
      "267:\tlearn: 0.1856039\ttotal: 286ms\tremaining: 781ms\n",
      "268:\tlearn: 0.1853258\ttotal: 287ms\tremaining: 779ms\n",
      "269:\tlearn: 0.1850445\ttotal: 288ms\tremaining: 778ms\n",
      "270:\tlearn: 0.1847673\ttotal: 289ms\tremaining: 776ms\n",
      "271:\tlearn: 0.1843657\ttotal: 290ms\tremaining: 775ms\n",
      "272:\tlearn: 0.1838484\ttotal: 290ms\tremaining: 773ms\n",
      "273:\tlearn: 0.1831989\ttotal: 291ms\tremaining: 772ms\n",
      "274:\tlearn: 0.1829772\ttotal: 292ms\tremaining: 770ms\n",
      "275:\tlearn: 0.1827184\ttotal: 293ms\tremaining: 769ms\n",
      "276:\tlearn: 0.1823246\ttotal: 294ms\tremaining: 768ms\n",
      "277:\tlearn: 0.1819524\ttotal: 295ms\tremaining: 767ms\n",
      "278:\tlearn: 0.1816868\ttotal: 296ms\tremaining: 766ms\n",
      "279:\tlearn: 0.1814257\ttotal: 297ms\tremaining: 764ms\n",
      "280:\tlearn: 0.1809981\ttotal: 298ms\tremaining: 762ms\n",
      "281:\tlearn: 0.1802997\ttotal: 299ms\tremaining: 761ms\n",
      "282:\tlearn: 0.1796329\ttotal: 300ms\tremaining: 759ms\n"
     ]
    },
    {
     "name": "stdout",
     "output_type": "stream",
     "text": [
      "283:\tlearn: 0.1789167\ttotal: 301ms\tremaining: 759ms\n",
      "284:\tlearn: 0.1783773\ttotal: 302ms\tremaining: 757ms\n",
      "285:\tlearn: 0.1778196\ttotal: 303ms\tremaining: 755ms\n",
      "286:\tlearn: 0.1774981\ttotal: 303ms\tremaining: 754ms\n",
      "287:\tlearn: 0.1770201\ttotal: 304ms\tremaining: 752ms\n",
      "288:\tlearn: 0.1767447\ttotal: 305ms\tremaining: 751ms\n",
      "289:\tlearn: 0.1764096\ttotal: 306ms\tremaining: 749ms\n",
      "290:\tlearn: 0.1761410\ttotal: 307ms\tremaining: 748ms\n",
      "291:\tlearn: 0.1757070\ttotal: 308ms\tremaining: 746ms\n",
      "292:\tlearn: 0.1751640\ttotal: 308ms\tremaining: 744ms\n",
      "293:\tlearn: 0.1749167\ttotal: 309ms\tremaining: 743ms\n",
      "294:\tlearn: 0.1747077\ttotal: 310ms\tremaining: 741ms\n",
      "295:\tlearn: 0.1742921\ttotal: 311ms\tremaining: 739ms\n",
      "296:\tlearn: 0.1736441\ttotal: 312ms\tremaining: 738ms\n",
      "297:\tlearn: 0.1732631\ttotal: 312ms\tremaining: 736ms\n",
      "298:\tlearn: 0.1729253\ttotal: 313ms\tremaining: 735ms\n",
      "299:\tlearn: 0.1725376\ttotal: 314ms\tremaining: 733ms\n",
      "300:\tlearn: 0.1720005\ttotal: 315ms\tremaining: 732ms\n",
      "301:\tlearn: 0.1715778\ttotal: 316ms\tremaining: 730ms\n",
      "302:\tlearn: 0.1711261\ttotal: 317ms\tremaining: 729ms\n",
      "303:\tlearn: 0.1705797\ttotal: 318ms\tremaining: 727ms\n",
      "304:\tlearn: 0.1702241\ttotal: 318ms\tremaining: 726ms\n",
      "305:\tlearn: 0.1697669\ttotal: 319ms\tremaining: 724ms\n",
      "306:\tlearn: 0.1694690\ttotal: 320ms\tremaining: 723ms\n",
      "307:\tlearn: 0.1690433\ttotal: 321ms\tremaining: 721ms\n",
      "308:\tlearn: 0.1687292\ttotal: 322ms\tremaining: 720ms\n",
      "309:\tlearn: 0.1684151\ttotal: 323ms\tremaining: 718ms\n",
      "310:\tlearn: 0.1681113\ttotal: 323ms\tremaining: 716ms\n",
      "311:\tlearn: 0.1676551\ttotal: 324ms\tremaining: 715ms\n",
      "312:\tlearn: 0.1671669\ttotal: 325ms\tremaining: 713ms\n",
      "313:\tlearn: 0.1667235\ttotal: 326ms\tremaining: 712ms\n",
      "314:\tlearn: 0.1662408\ttotal: 327ms\tremaining: 710ms\n",
      "315:\tlearn: 0.1658341\ttotal: 327ms\tremaining: 709ms\n",
      "316:\tlearn: 0.1653398\ttotal: 328ms\tremaining: 707ms\n",
      "317:\tlearn: 0.1649208\ttotal: 329ms\tremaining: 706ms\n",
      "318:\tlearn: 0.1645016\ttotal: 330ms\tremaining: 704ms\n",
      "319:\tlearn: 0.1642883\ttotal: 331ms\tremaining: 703ms\n",
      "320:\tlearn: 0.1639848\ttotal: 332ms\tremaining: 701ms\n",
      "321:\tlearn: 0.1635481\ttotal: 332ms\tremaining: 700ms\n",
      "322:\tlearn: 0.1631954\ttotal: 333ms\tremaining: 699ms\n",
      "323:\tlearn: 0.1627718\ttotal: 334ms\tremaining: 697ms\n",
      "324:\tlearn: 0.1623746\ttotal: 335ms\tremaining: 695ms\n",
      "325:\tlearn: 0.1622085\ttotal: 336ms\tremaining: 694ms\n",
      "326:\tlearn: 0.1617402\ttotal: 336ms\tremaining: 693ms\n",
      "327:\tlearn: 0.1613966\ttotal: 337ms\tremaining: 691ms\n",
      "328:\tlearn: 0.1611777\ttotal: 338ms\tremaining: 690ms\n",
      "329:\tlearn: 0.1607537\ttotal: 339ms\tremaining: 689ms\n",
      "330:\tlearn: 0.1604063\ttotal: 340ms\tremaining: 687ms\n",
      "331:\tlearn: 0.1600506\ttotal: 341ms\tremaining: 686ms\n",
      "332:\tlearn: 0.1598704\ttotal: 341ms\tremaining: 684ms\n",
      "333:\tlearn: 0.1593767\ttotal: 342ms\tremaining: 683ms\n",
      "334:\tlearn: 0.1590419\ttotal: 343ms\tremaining: 681ms\n",
      "335:\tlearn: 0.1589059\ttotal: 344ms\tremaining: 680ms\n",
      "336:\tlearn: 0.1585653\ttotal: 345ms\tremaining: 678ms\n",
      "337:\tlearn: 0.1582296\ttotal: 346ms\tremaining: 677ms\n",
      "338:\tlearn: 0.1579491\ttotal: 346ms\tremaining: 676ms\n",
      "339:\tlearn: 0.1575067\ttotal: 347ms\tremaining: 674ms\n",
      "340:\tlearn: 0.1573614\ttotal: 348ms\tremaining: 673ms\n",
      "341:\tlearn: 0.1570660\ttotal: 349ms\tremaining: 671ms\n",
      "342:\tlearn: 0.1567409\ttotal: 350ms\tremaining: 670ms\n",
      "343:\tlearn: 0.1564086\ttotal: 350ms\tremaining: 668ms\n",
      "344:\tlearn: 0.1560761\ttotal: 351ms\tremaining: 667ms\n",
      "345:\tlearn: 0.1558211\ttotal: 352ms\tremaining: 666ms\n",
      "346:\tlearn: 0.1555399\ttotal: 353ms\tremaining: 664ms\n",
      "347:\tlearn: 0.1551747\ttotal: 354ms\tremaining: 663ms\n",
      "348:\tlearn: 0.1548191\ttotal: 354ms\tremaining: 661ms\n",
      "349:\tlearn: 0.1543633\ttotal: 355ms\tremaining: 660ms\n",
      "350:\tlearn: 0.1538922\ttotal: 356ms\tremaining: 658ms\n",
      "351:\tlearn: 0.1536920\ttotal: 357ms\tremaining: 657ms\n",
      "352:\tlearn: 0.1533394\ttotal: 358ms\tremaining: 656ms\n",
      "353:\tlearn: 0.1530706\ttotal: 359ms\tremaining: 654ms\n",
      "354:\tlearn: 0.1528021\ttotal: 359ms\tremaining: 653ms\n",
      "355:\tlearn: 0.1526352\ttotal: 360ms\tremaining: 651ms\n",
      "356:\tlearn: 0.1522241\ttotal: 361ms\tremaining: 650ms\n",
      "357:\tlearn: 0.1518843\ttotal: 362ms\tremaining: 649ms\n",
      "358:\tlearn: 0.1516077\ttotal: 362ms\tremaining: 647ms\n",
      "359:\tlearn: 0.1512499\ttotal: 363ms\tremaining: 646ms\n",
      "360:\tlearn: 0.1509861\ttotal: 364ms\tremaining: 645ms\n",
      "361:\tlearn: 0.1507854\ttotal: 365ms\tremaining: 643ms\n",
      "362:\tlearn: 0.1505659\ttotal: 366ms\tremaining: 642ms\n",
      "363:\tlearn: 0.1502648\ttotal: 367ms\tremaining: 641ms\n",
      "364:\tlearn: 0.1500224\ttotal: 367ms\tremaining: 639ms\n",
      "365:\tlearn: 0.1497982\ttotal: 368ms\tremaining: 638ms\n",
      "366:\tlearn: 0.1496631\ttotal: 369ms\tremaining: 637ms\n",
      "367:\tlearn: 0.1492824\ttotal: 370ms\tremaining: 636ms\n",
      "368:\tlearn: 0.1489279\ttotal: 371ms\tremaining: 634ms\n",
      "369:\tlearn: 0.1487744\ttotal: 372ms\tremaining: 633ms\n",
      "370:\tlearn: 0.1484554\ttotal: 373ms\tremaining: 633ms\n",
      "371:\tlearn: 0.1480127\ttotal: 374ms\tremaining: 632ms\n",
      "372:\tlearn: 0.1479328\ttotal: 375ms\tremaining: 630ms\n",
      "373:\tlearn: 0.1477384\ttotal: 376ms\tremaining: 629ms\n",
      "374:\tlearn: 0.1473254\ttotal: 376ms\tremaining: 627ms\n",
      "375:\tlearn: 0.1469422\ttotal: 377ms\tremaining: 626ms\n",
      "376:\tlearn: 0.1466608\ttotal: 378ms\tremaining: 625ms\n",
      "377:\tlearn: 0.1464102\ttotal: 379ms\tremaining: 623ms\n",
      "378:\tlearn: 0.1461669\ttotal: 380ms\tremaining: 622ms\n",
      "379:\tlearn: 0.1459176\ttotal: 380ms\tremaining: 621ms\n",
      "380:\tlearn: 0.1458099\ttotal: 381ms\tremaining: 620ms\n"
     ]
    },
    {
     "name": "stdout",
     "output_type": "stream",
     "text": [
      "381:\tlearn: 0.1454095\ttotal: 382ms\tremaining: 619ms\n",
      "382:\tlearn: 0.1451628\ttotal: 383ms\tremaining: 617ms\n",
      "383:\tlearn: 0.1449720\ttotal: 384ms\tremaining: 616ms\n",
      "384:\tlearn: 0.1445734\ttotal: 385ms\tremaining: 615ms\n",
      "385:\tlearn: 0.1443071\ttotal: 386ms\tremaining: 613ms\n",
      "386:\tlearn: 0.1441972\ttotal: 387ms\tremaining: 612ms\n",
      "387:\tlearn: 0.1439114\ttotal: 387ms\tremaining: 611ms\n",
      "388:\tlearn: 0.1435708\ttotal: 388ms\tremaining: 610ms\n",
      "389:\tlearn: 0.1433826\ttotal: 389ms\tremaining: 608ms\n",
      "390:\tlearn: 0.1431312\ttotal: 390ms\tremaining: 607ms\n",
      "391:\tlearn: 0.1428166\ttotal: 391ms\tremaining: 606ms\n",
      "392:\tlearn: 0.1424669\ttotal: 391ms\tremaining: 605ms\n",
      "393:\tlearn: 0.1421871\ttotal: 392ms\tremaining: 603ms\n",
      "394:\tlearn: 0.1418721\ttotal: 393ms\tremaining: 602ms\n",
      "395:\tlearn: 0.1416902\ttotal: 394ms\tremaining: 601ms\n",
      "396:\tlearn: 0.1415849\ttotal: 395ms\tremaining: 599ms\n",
      "397:\tlearn: 0.1413498\ttotal: 395ms\tremaining: 598ms\n",
      "398:\tlearn: 0.1409184\ttotal: 396ms\tremaining: 597ms\n",
      "399:\tlearn: 0.1406503\ttotal: 397ms\tremaining: 596ms\n",
      "400:\tlearn: 0.1404803\ttotal: 398ms\tremaining: 595ms\n",
      "401:\tlearn: 0.1402385\ttotal: 399ms\tremaining: 594ms\n",
      "402:\tlearn: 0.1399055\ttotal: 400ms\tremaining: 593ms\n",
      "403:\tlearn: 0.1395914\ttotal: 401ms\tremaining: 592ms\n",
      "404:\tlearn: 0.1393034\ttotal: 402ms\tremaining: 590ms\n",
      "405:\tlearn: 0.1389092\ttotal: 402ms\tremaining: 589ms\n",
      "406:\tlearn: 0.1386271\ttotal: 403ms\tremaining: 588ms\n",
      "407:\tlearn: 0.1383844\ttotal: 404ms\tremaining: 586ms\n",
      "408:\tlearn: 0.1381856\ttotal: 405ms\tremaining: 585ms\n",
      "409:\tlearn: 0.1379659\ttotal: 406ms\tremaining: 584ms\n",
      "410:\tlearn: 0.1376884\ttotal: 406ms\tremaining: 582ms\n",
      "411:\tlearn: 0.1375784\ttotal: 407ms\tremaining: 581ms\n",
      "412:\tlearn: 0.1373297\ttotal: 408ms\tremaining: 580ms\n",
      "413:\tlearn: 0.1371453\ttotal: 409ms\tremaining: 579ms\n",
      "414:\tlearn: 0.1370072\ttotal: 410ms\tremaining: 578ms\n",
      "415:\tlearn: 0.1366319\ttotal: 411ms\tremaining: 576ms\n",
      "416:\tlearn: 0.1364942\ttotal: 411ms\tremaining: 575ms\n",
      "417:\tlearn: 0.1362088\ttotal: 412ms\tremaining: 574ms\n",
      "418:\tlearn: 0.1358991\ttotal: 414ms\tremaining: 574ms\n",
      "419:\tlearn: 0.1356255\ttotal: 415ms\tremaining: 572ms\n",
      "420:\tlearn: 0.1355728\ttotal: 415ms\tremaining: 571ms\n",
      "421:\tlearn: 0.1353664\ttotal: 416ms\tremaining: 570ms\n",
      "422:\tlearn: 0.1350434\ttotal: 417ms\tremaining: 569ms\n",
      "423:\tlearn: 0.1347880\ttotal: 418ms\tremaining: 567ms\n",
      "424:\tlearn: 0.1345640\ttotal: 419ms\tremaining: 566ms\n",
      "425:\tlearn: 0.1344704\ttotal: 419ms\tremaining: 565ms\n",
      "426:\tlearn: 0.1341846\ttotal: 420ms\tremaining: 564ms\n",
      "427:\tlearn: 0.1338955\ttotal: 421ms\tremaining: 563ms\n",
      "428:\tlearn: 0.1337115\ttotal: 422ms\tremaining: 562ms\n",
      "429:\tlearn: 0.1333952\ttotal: 423ms\tremaining: 560ms\n",
      "430:\tlearn: 0.1330671\ttotal: 424ms\tremaining: 559ms\n",
      "431:\tlearn: 0.1327623\ttotal: 424ms\tremaining: 558ms\n",
      "432:\tlearn: 0.1324975\ttotal: 425ms\tremaining: 557ms\n",
      "433:\tlearn: 0.1322152\ttotal: 426ms\tremaining: 556ms\n",
      "434:\tlearn: 0.1319227\ttotal: 427ms\tremaining: 554ms\n",
      "435:\tlearn: 0.1316339\ttotal: 428ms\tremaining: 553ms\n",
      "436:\tlearn: 0.1314226\ttotal: 428ms\tremaining: 552ms\n",
      "437:\tlearn: 0.1312778\ttotal: 429ms\tremaining: 551ms\n",
      "438:\tlearn: 0.1311075\ttotal: 430ms\tremaining: 550ms\n",
      "439:\tlearn: 0.1309269\ttotal: 431ms\tremaining: 548ms\n",
      "440:\tlearn: 0.1307723\ttotal: 432ms\tremaining: 547ms\n",
      "441:\tlearn: 0.1304885\ttotal: 433ms\tremaining: 546ms\n",
      "442:\tlearn: 0.1301906\ttotal: 434ms\tremaining: 545ms\n",
      "443:\tlearn: 0.1299404\ttotal: 434ms\tremaining: 544ms\n",
      "444:\tlearn: 0.1296807\ttotal: 435ms\tremaining: 543ms\n",
      "445:\tlearn: 0.1294831\ttotal: 436ms\tremaining: 542ms\n",
      "446:\tlearn: 0.1292286\ttotal: 437ms\tremaining: 540ms\n",
      "447:\tlearn: 0.1291491\ttotal: 438ms\tremaining: 539ms\n",
      "448:\tlearn: 0.1288834\ttotal: 438ms\tremaining: 538ms\n",
      "449:\tlearn: 0.1286054\ttotal: 439ms\tremaining: 537ms\n",
      "450:\tlearn: 0.1283721\ttotal: 440ms\tremaining: 536ms\n",
      "451:\tlearn: 0.1282229\ttotal: 441ms\tremaining: 534ms\n",
      "452:\tlearn: 0.1280048\ttotal: 442ms\tremaining: 533ms\n",
      "453:\tlearn: 0.1278290\ttotal: 442ms\tremaining: 532ms\n",
      "454:\tlearn: 0.1276435\ttotal: 443ms\tremaining: 531ms\n",
      "455:\tlearn: 0.1273882\ttotal: 444ms\tremaining: 530ms\n",
      "456:\tlearn: 0.1272811\ttotal: 445ms\tremaining: 528ms\n",
      "457:\tlearn: 0.1269946\ttotal: 446ms\tremaining: 527ms\n",
      "458:\tlearn: 0.1268687\ttotal: 446ms\tremaining: 526ms\n",
      "459:\tlearn: 0.1266415\ttotal: 447ms\tremaining: 525ms\n",
      "460:\tlearn: 0.1263660\ttotal: 448ms\tremaining: 524ms\n",
      "461:\tlearn: 0.1261718\ttotal: 449ms\tremaining: 523ms\n",
      "462:\tlearn: 0.1259088\ttotal: 450ms\tremaining: 522ms\n",
      "463:\tlearn: 0.1257317\ttotal: 451ms\tremaining: 520ms\n",
      "464:\tlearn: 0.1253838\ttotal: 451ms\tremaining: 519ms\n",
      "465:\tlearn: 0.1250942\ttotal: 452ms\tremaining: 518ms\n",
      "466:\tlearn: 0.1249371\ttotal: 453ms\tremaining: 517ms\n",
      "467:\tlearn: 0.1247207\ttotal: 454ms\tremaining: 516ms\n",
      "468:\tlearn: 0.1245040\ttotal: 455ms\tremaining: 515ms\n",
      "469:\tlearn: 0.1243647\ttotal: 456ms\tremaining: 514ms\n",
      "470:\tlearn: 0.1241527\ttotal: 457ms\tremaining: 513ms\n",
      "471:\tlearn: 0.1239094\ttotal: 458ms\tremaining: 512ms\n",
      "472:\tlearn: 0.1237579\ttotal: 458ms\tremaining: 511ms\n",
      "473:\tlearn: 0.1235682\ttotal: 459ms\tremaining: 510ms\n",
      "474:\tlearn: 0.1234174\ttotal: 460ms\tremaining: 509ms\n",
      "475:\tlearn: 0.1231464\ttotal: 461ms\tremaining: 507ms\n",
      "476:\tlearn: 0.1230437\ttotal: 462ms\tremaining: 506ms\n",
      "477:\tlearn: 0.1229703\ttotal: 463ms\tremaining: 505ms\n",
      "478:\tlearn: 0.1227813\ttotal: 463ms\tremaining: 504ms\n",
      "479:\tlearn: 0.1224741\ttotal: 464ms\tremaining: 503ms\n",
      "480:\tlearn: 0.1222931\ttotal: 465ms\tremaining: 502ms\n",
      "481:\tlearn: 0.1218751\ttotal: 466ms\tremaining: 500ms\n",
      "482:\tlearn: 0.1216804\ttotal: 467ms\tremaining: 499ms\n",
      "483:\tlearn: 0.1214829\ttotal: 467ms\tremaining: 498ms\n",
      "484:\tlearn: 0.1212912\ttotal: 468ms\tremaining: 497ms\n",
      "485:\tlearn: 0.1210030\ttotal: 469ms\tremaining: 496ms\n",
      "486:\tlearn: 0.1207059\ttotal: 470ms\tremaining: 495ms\n",
      "487:\tlearn: 0.1205489\ttotal: 471ms\tremaining: 494ms\n",
      "488:\tlearn: 0.1204635\ttotal: 471ms\tremaining: 493ms\n",
      "489:\tlearn: 0.1202862\ttotal: 472ms\tremaining: 491ms\n",
      "490:\tlearn: 0.1201200\ttotal: 473ms\tremaining: 490ms\n",
      "491:\tlearn: 0.1200064\ttotal: 474ms\tremaining: 489ms\n",
      "492:\tlearn: 0.1198447\ttotal: 475ms\tremaining: 488ms\n",
      "493:\tlearn: 0.1197421\ttotal: 475ms\tremaining: 487ms\n",
      "494:\tlearn: 0.1194228\ttotal: 476ms\tremaining: 486ms\n",
      "495:\tlearn: 0.1192850\ttotal: 477ms\tremaining: 485ms\n",
      "496:\tlearn: 0.1190183\ttotal: 478ms\tremaining: 484ms\n",
      "497:\tlearn: 0.1189804\ttotal: 479ms\tremaining: 483ms\n",
      "498:\tlearn: 0.1187323\ttotal: 480ms\tremaining: 482ms\n",
      "499:\tlearn: 0.1185842\ttotal: 481ms\tremaining: 481ms\n",
      "500:\tlearn: 0.1184476\ttotal: 482ms\tremaining: 480ms\n",
      "501:\tlearn: 0.1182337\ttotal: 482ms\tremaining: 479ms\n",
      "502:\tlearn: 0.1181354\ttotal: 483ms\tremaining: 478ms\n",
      "503:\tlearn: 0.1180516\ttotal: 484ms\tremaining: 476ms\n",
      "504:\tlearn: 0.1179772\ttotal: 485ms\tremaining: 475ms\n",
      "505:\tlearn: 0.1178109\ttotal: 486ms\tremaining: 474ms\n",
      "506:\tlearn: 0.1176781\ttotal: 487ms\tremaining: 473ms\n",
      "507:\tlearn: 0.1174517\ttotal: 487ms\tremaining: 472ms\n",
      "508:\tlearn: 0.1172180\ttotal: 488ms\tremaining: 471ms\n",
      "509:\tlearn: 0.1171274\ttotal: 489ms\tremaining: 470ms\n",
      "510:\tlearn: 0.1168709\ttotal: 490ms\tremaining: 469ms\n"
     ]
    },
    {
     "name": "stdout",
     "output_type": "stream",
     "text": [
      "511:\tlearn: 0.1166130\ttotal: 491ms\tremaining: 468ms\n",
      "512:\tlearn: 0.1164554\ttotal: 492ms\tremaining: 467ms\n",
      "513:\tlearn: 0.1161934\ttotal: 493ms\tremaining: 466ms\n",
      "514:\tlearn: 0.1160885\ttotal: 494ms\tremaining: 465ms\n",
      "515:\tlearn: 0.1159792\ttotal: 494ms\tremaining: 464ms\n",
      "516:\tlearn: 0.1159157\ttotal: 495ms\tremaining: 463ms\n",
      "517:\tlearn: 0.1158813\ttotal: 496ms\tremaining: 462ms\n",
      "518:\tlearn: 0.1158340\ttotal: 497ms\tremaining: 460ms\n",
      "519:\tlearn: 0.1157263\ttotal: 498ms\tremaining: 459ms\n",
      "520:\tlearn: 0.1154894\ttotal: 498ms\tremaining: 458ms\n",
      "521:\tlearn: 0.1154362\ttotal: 499ms\tremaining: 457ms\n",
      "522:\tlearn: 0.1151406\ttotal: 500ms\tremaining: 456ms\n",
      "523:\tlearn: 0.1150935\ttotal: 501ms\tremaining: 455ms\n",
      "524:\tlearn: 0.1148983\ttotal: 502ms\tremaining: 454ms\n",
      "525:\tlearn: 0.1147361\ttotal: 502ms\tremaining: 453ms\n",
      "526:\tlearn: 0.1146647\ttotal: 503ms\tremaining: 452ms\n",
      "527:\tlearn: 0.1143727\ttotal: 504ms\tremaining: 451ms\n",
      "528:\tlearn: 0.1143269\ttotal: 505ms\tremaining: 450ms\n",
      "529:\tlearn: 0.1139502\ttotal: 506ms\tremaining: 448ms\n",
      "530:\tlearn: 0.1137292\ttotal: 507ms\tremaining: 447ms\n",
      "531:\tlearn: 0.1135590\ttotal: 507ms\tremaining: 446ms\n",
      "532:\tlearn: 0.1132781\ttotal: 508ms\tremaining: 445ms\n",
      "533:\tlearn: 0.1131028\ttotal: 509ms\tremaining: 444ms\n",
      "534:\tlearn: 0.1130288\ttotal: 510ms\tremaining: 443ms\n",
      "535:\tlearn: 0.1129259\ttotal: 511ms\tremaining: 442ms\n",
      "536:\tlearn: 0.1128667\ttotal: 511ms\tremaining: 441ms\n",
      "537:\tlearn: 0.1126445\ttotal: 512ms\tremaining: 440ms\n",
      "538:\tlearn: 0.1125828\ttotal: 513ms\tremaining: 439ms\n",
      "539:\tlearn: 0.1124218\ttotal: 514ms\tremaining: 438ms\n",
      "540:\tlearn: 0.1121624\ttotal: 515ms\tremaining: 437ms\n",
      "541:\tlearn: 0.1119851\ttotal: 515ms\tremaining: 436ms\n",
      "542:\tlearn: 0.1117150\ttotal: 517ms\tremaining: 435ms\n",
      "543:\tlearn: 0.1116733\ttotal: 518ms\tremaining: 434ms\n",
      "544:\tlearn: 0.1115372\ttotal: 518ms\tremaining: 433ms\n",
      "545:\tlearn: 0.1113038\ttotal: 519ms\tremaining: 432ms\n",
      "546:\tlearn: 0.1112074\ttotal: 520ms\tremaining: 431ms\n",
      "547:\tlearn: 0.1110351\ttotal: 521ms\tremaining: 430ms\n",
      "548:\tlearn: 0.1108109\ttotal: 522ms\tremaining: 428ms\n",
      "549:\tlearn: 0.1106004\ttotal: 522ms\tremaining: 427ms\n",
      "550:\tlearn: 0.1104215\ttotal: 523ms\tremaining: 426ms\n",
      "551:\tlearn: 0.1102990\ttotal: 524ms\tremaining: 425ms\n",
      "552:\tlearn: 0.1101074\ttotal: 525ms\tremaining: 424ms\n",
      "553:\tlearn: 0.1099260\ttotal: 526ms\tremaining: 423ms\n",
      "554:\tlearn: 0.1097272\ttotal: 527ms\tremaining: 422ms\n",
      "555:\tlearn: 0.1095687\ttotal: 527ms\tremaining: 421ms\n",
      "556:\tlearn: 0.1093256\ttotal: 528ms\tremaining: 420ms\n",
      "557:\tlearn: 0.1092945\ttotal: 529ms\tremaining: 419ms\n",
      "558:\tlearn: 0.1089940\ttotal: 530ms\tremaining: 418ms\n",
      "559:\tlearn: 0.1089209\ttotal: 531ms\tremaining: 417ms\n",
      "560:\tlearn: 0.1086392\ttotal: 531ms\tremaining: 416ms\n",
      "561:\tlearn: 0.1084235\ttotal: 532ms\tremaining: 415ms\n",
      "562:\tlearn: 0.1083662\ttotal: 533ms\tremaining: 414ms\n",
      "563:\tlearn: 0.1081209\ttotal: 534ms\tremaining: 413ms\n",
      "564:\tlearn: 0.1080317\ttotal: 534ms\tremaining: 411ms\n",
      "565:\tlearn: 0.1078058\ttotal: 535ms\tremaining: 410ms\n",
      "566:\tlearn: 0.1075775\ttotal: 536ms\tremaining: 409ms\n",
      "567:\tlearn: 0.1074159\ttotal: 537ms\tremaining: 408ms\n",
      "568:\tlearn: 0.1071363\ttotal: 538ms\tremaining: 407ms\n",
      "569:\tlearn: 0.1070767\ttotal: 538ms\tremaining: 406ms\n",
      "570:\tlearn: 0.1068759\ttotal: 539ms\tremaining: 405ms\n",
      "571:\tlearn: 0.1067678\ttotal: 540ms\tremaining: 404ms\n",
      "572:\tlearn: 0.1065870\ttotal: 541ms\tremaining: 403ms\n",
      "573:\tlearn: 0.1063651\ttotal: 542ms\tremaining: 402ms\n",
      "574:\tlearn: 0.1062658\ttotal: 543ms\tremaining: 401ms\n",
      "575:\tlearn: 0.1059219\ttotal: 544ms\tremaining: 400ms\n",
      "576:\tlearn: 0.1057842\ttotal: 545ms\tremaining: 399ms\n",
      "577:\tlearn: 0.1055304\ttotal: 545ms\tremaining: 398ms\n",
      "578:\tlearn: 0.1054295\ttotal: 546ms\tremaining: 397ms\n",
      "579:\tlearn: 0.1052220\ttotal: 547ms\tremaining: 396ms\n",
      "580:\tlearn: 0.1049780\ttotal: 548ms\tremaining: 395ms\n",
      "581:\tlearn: 0.1047787\ttotal: 549ms\tremaining: 394ms\n",
      "582:\tlearn: 0.1047316\ttotal: 549ms\tremaining: 393ms\n",
      "583:\tlearn: 0.1045527\ttotal: 550ms\tremaining: 392ms\n",
      "584:\tlearn: 0.1043682\ttotal: 551ms\tremaining: 391ms\n",
      "585:\tlearn: 0.1042243\ttotal: 552ms\tremaining: 390ms\n",
      "586:\tlearn: 0.1040828\ttotal: 553ms\tremaining: 389ms\n",
      "587:\tlearn: 0.1039874\ttotal: 553ms\tremaining: 388ms\n",
      "588:\tlearn: 0.1038895\ttotal: 554ms\tremaining: 387ms\n",
      "589:\tlearn: 0.1038354\ttotal: 555ms\tremaining: 386ms\n",
      "590:\tlearn: 0.1036371\ttotal: 556ms\tremaining: 385ms\n",
      "591:\tlearn: 0.1034570\ttotal: 557ms\tremaining: 384ms\n",
      "592:\tlearn: 0.1032577\ttotal: 557ms\tremaining: 383ms\n",
      "593:\tlearn: 0.1032019\ttotal: 558ms\tremaining: 381ms\n",
      "594:\tlearn: 0.1030510\ttotal: 559ms\tremaining: 380ms\n",
      "595:\tlearn: 0.1029276\ttotal: 560ms\tremaining: 379ms\n",
      "596:\tlearn: 0.1027489\ttotal: 560ms\tremaining: 378ms\n",
      "597:\tlearn: 0.1027011\ttotal: 561ms\tremaining: 377ms\n",
      "598:\tlearn: 0.1026749\ttotal: 562ms\tremaining: 376ms\n",
      "599:\tlearn: 0.1025616\ttotal: 563ms\tremaining: 375ms\n",
      "600:\tlearn: 0.1023207\ttotal: 564ms\tremaining: 374ms\n",
      "601:\tlearn: 0.1022930\ttotal: 565ms\tremaining: 373ms\n",
      "602:\tlearn: 0.1021561\ttotal: 565ms\tremaining: 372ms\n",
      "603:\tlearn: 0.1021265\ttotal: 566ms\tremaining: 371ms\n",
      "604:\tlearn: 0.1019398\ttotal: 567ms\tremaining: 370ms\n",
      "605:\tlearn: 0.1016674\ttotal: 568ms\tremaining: 369ms\n",
      "606:\tlearn: 0.1014853\ttotal: 569ms\tremaining: 368ms\n",
      "607:\tlearn: 0.1012668\ttotal: 569ms\tremaining: 367ms\n",
      "608:\tlearn: 0.1011423\ttotal: 570ms\tremaining: 366ms\n",
      "609:\tlearn: 0.1010969\ttotal: 571ms\tremaining: 365ms\n",
      "610:\tlearn: 0.1010375\ttotal: 572ms\tremaining: 364ms\n"
     ]
    },
    {
     "name": "stdout",
     "output_type": "stream",
     "text": [
      "611:\tlearn: 0.1008862\ttotal: 573ms\tremaining: 363ms\n",
      "612:\tlearn: 0.1006956\ttotal: 574ms\tremaining: 362ms\n",
      "613:\tlearn: 0.1005113\ttotal: 574ms\tremaining: 361ms\n",
      "614:\tlearn: 0.1003344\ttotal: 575ms\tremaining: 360ms\n",
      "615:\tlearn: 0.1001321\ttotal: 576ms\tremaining: 359ms\n",
      "616:\tlearn: 0.0999204\ttotal: 577ms\tremaining: 358ms\n",
      "617:\tlearn: 0.0998579\ttotal: 578ms\tremaining: 357ms\n",
      "618:\tlearn: 0.0997783\ttotal: 578ms\tremaining: 356ms\n",
      "619:\tlearn: 0.0995705\ttotal: 579ms\tremaining: 355ms\n",
      "620:\tlearn: 0.0994607\ttotal: 580ms\tremaining: 354ms\n",
      "621:\tlearn: 0.0993979\ttotal: 581ms\tremaining: 353ms\n",
      "622:\tlearn: 0.0992223\ttotal: 581ms\tremaining: 352ms\n",
      "623:\tlearn: 0.0991226\ttotal: 582ms\tremaining: 351ms\n",
      "624:\tlearn: 0.0989553\ttotal: 583ms\tremaining: 350ms\n",
      "625:\tlearn: 0.0989347\ttotal: 584ms\tremaining: 349ms\n",
      "626:\tlearn: 0.0987742\ttotal: 585ms\tremaining: 348ms\n",
      "627:\tlearn: 0.0985280\ttotal: 585ms\tremaining: 347ms\n",
      "628:\tlearn: 0.0984170\ttotal: 586ms\tremaining: 346ms\n",
      "629:\tlearn: 0.0982708\ttotal: 587ms\tremaining: 345ms\n",
      "630:\tlearn: 0.0981166\ttotal: 588ms\tremaining: 344ms\n",
      "631:\tlearn: 0.0979692\ttotal: 589ms\tremaining: 343ms\n",
      "632:\tlearn: 0.0978310\ttotal: 589ms\tremaining: 342ms\n",
      "633:\tlearn: 0.0978055\ttotal: 590ms\tremaining: 341ms\n",
      "634:\tlearn: 0.0977412\ttotal: 591ms\tremaining: 340ms\n",
      "635:\tlearn: 0.0975646\ttotal: 592ms\tremaining: 339ms\n",
      "636:\tlearn: 0.0974722\ttotal: 593ms\tremaining: 338ms\n",
      "637:\tlearn: 0.0972601\ttotal: 593ms\tremaining: 337ms\n",
      "638:\tlearn: 0.0972259\ttotal: 594ms\tremaining: 336ms\n",
      "639:\tlearn: 0.0970519\ttotal: 595ms\tremaining: 335ms\n",
      "640:\tlearn: 0.0968425\ttotal: 596ms\tremaining: 334ms\n",
      "641:\tlearn: 0.0966915\ttotal: 597ms\tremaining: 333ms\n",
      "642:\tlearn: 0.0966385\ttotal: 597ms\tremaining: 332ms\n",
      "643:\tlearn: 0.0964698\ttotal: 598ms\tremaining: 331ms\n",
      "644:\tlearn: 0.0962370\ttotal: 599ms\tremaining: 330ms\n",
      "645:\tlearn: 0.0959688\ttotal: 600ms\tremaining: 329ms\n",
      "646:\tlearn: 0.0958906\ttotal: 600ms\tremaining: 328ms\n",
      "647:\tlearn: 0.0957922\ttotal: 601ms\tremaining: 327ms\n",
      "648:\tlearn: 0.0955721\ttotal: 602ms\tremaining: 326ms\n",
      "649:\tlearn: 0.0954963\ttotal: 603ms\tremaining: 325ms\n",
      "650:\tlearn: 0.0952989\ttotal: 604ms\tremaining: 324ms\n",
      "651:\tlearn: 0.0951794\ttotal: 605ms\tremaining: 323ms\n",
      "652:\tlearn: 0.0950628\ttotal: 605ms\tremaining: 322ms\n",
      "653:\tlearn: 0.0948870\ttotal: 606ms\tremaining: 321ms\n",
      "654:\tlearn: 0.0947615\ttotal: 607ms\tremaining: 320ms\n",
      "655:\tlearn: 0.0946268\ttotal: 608ms\tremaining: 319ms\n",
      "656:\tlearn: 0.0944293\ttotal: 608ms\tremaining: 318ms\n",
      "657:\tlearn: 0.0943826\ttotal: 609ms\tremaining: 317ms\n",
      "658:\tlearn: 0.0943500\ttotal: 610ms\tremaining: 316ms\n",
      "659:\tlearn: 0.0941339\ttotal: 611ms\tremaining: 315ms\n",
      "660:\tlearn: 0.0938612\ttotal: 612ms\tremaining: 314ms\n",
      "661:\tlearn: 0.0936867\ttotal: 613ms\tremaining: 313ms\n",
      "662:\tlearn: 0.0934711\ttotal: 613ms\tremaining: 312ms\n",
      "663:\tlearn: 0.0932710\ttotal: 614ms\tremaining: 311ms\n",
      "664:\tlearn: 0.0930544\ttotal: 615ms\tremaining: 310ms\n",
      "665:\tlearn: 0.0930344\ttotal: 616ms\tremaining: 309ms\n",
      "666:\tlearn: 0.0928126\ttotal: 617ms\tremaining: 308ms\n",
      "667:\tlearn: 0.0927411\ttotal: 618ms\tremaining: 307ms\n",
      "668:\tlearn: 0.0926275\ttotal: 618ms\tremaining: 306ms\n",
      "669:\tlearn: 0.0924452\ttotal: 619ms\tremaining: 305ms\n",
      "670:\tlearn: 0.0922802\ttotal: 620ms\tremaining: 304ms\n",
      "671:\tlearn: 0.0922162\ttotal: 621ms\tremaining: 303ms\n",
      "672:\tlearn: 0.0921351\ttotal: 622ms\tremaining: 302ms\n",
      "673:\tlearn: 0.0919808\ttotal: 622ms\tremaining: 301ms\n",
      "674:\tlearn: 0.0917541\ttotal: 623ms\tremaining: 300ms\n",
      "675:\tlearn: 0.0917065\ttotal: 624ms\tremaining: 299ms\n",
      "676:\tlearn: 0.0915545\ttotal: 625ms\tremaining: 298ms\n",
      "677:\tlearn: 0.0913863\ttotal: 626ms\tremaining: 297ms\n",
      "678:\tlearn: 0.0912371\ttotal: 626ms\tremaining: 296ms\n",
      "679:\tlearn: 0.0910331\ttotal: 627ms\tremaining: 295ms\n",
      "680:\tlearn: 0.0909238\ttotal: 628ms\tremaining: 294ms\n",
      "681:\tlearn: 0.0908926\ttotal: 629ms\tremaining: 293ms\n",
      "682:\tlearn: 0.0907372\ttotal: 630ms\tremaining: 292ms\n",
      "683:\tlearn: 0.0907001\ttotal: 630ms\tremaining: 291ms\n",
      "684:\tlearn: 0.0905631\ttotal: 631ms\tremaining: 290ms\n",
      "685:\tlearn: 0.0904928\ttotal: 632ms\tremaining: 289ms\n",
      "686:\tlearn: 0.0904174\ttotal: 633ms\tremaining: 288ms\n",
      "687:\tlearn: 0.0903643\ttotal: 634ms\tremaining: 287ms\n",
      "688:\tlearn: 0.0903250\ttotal: 634ms\tremaining: 286ms\n",
      "689:\tlearn: 0.0902321\ttotal: 635ms\tremaining: 285ms\n",
      "690:\tlearn: 0.0901970\ttotal: 636ms\tremaining: 284ms\n",
      "691:\tlearn: 0.0899726\ttotal: 637ms\tremaining: 284ms\n",
      "692:\tlearn: 0.0897812\ttotal: 638ms\tremaining: 283ms\n",
      "693:\tlearn: 0.0896840\ttotal: 639ms\tremaining: 282ms\n",
      "694:\tlearn: 0.0895948\ttotal: 639ms\tremaining: 281ms\n",
      "695:\tlearn: 0.0894966\ttotal: 640ms\tremaining: 280ms\n",
      "696:\tlearn: 0.0893664\ttotal: 641ms\tremaining: 279ms\n",
      "697:\tlearn: 0.0891311\ttotal: 642ms\tremaining: 278ms\n",
      "698:\tlearn: 0.0889458\ttotal: 643ms\tremaining: 277ms\n",
      "699:\tlearn: 0.0888090\ttotal: 643ms\tremaining: 276ms\n",
      "700:\tlearn: 0.0887237\ttotal: 644ms\tremaining: 275ms\n",
      "701:\tlearn: 0.0886775\ttotal: 645ms\tremaining: 274ms\n",
      "702:\tlearn: 0.0885508\ttotal: 646ms\tremaining: 273ms\n",
      "703:\tlearn: 0.0884190\ttotal: 647ms\tremaining: 272ms\n",
      "704:\tlearn: 0.0882917\ttotal: 648ms\tremaining: 271ms\n",
      "705:\tlearn: 0.0881195\ttotal: 649ms\tremaining: 270ms\n",
      "706:\tlearn: 0.0879676\ttotal: 649ms\tremaining: 269ms\n",
      "707:\tlearn: 0.0879535\ttotal: 650ms\tremaining: 268ms\n",
      "708:\tlearn: 0.0876665\ttotal: 651ms\tremaining: 267ms\n",
      "709:\tlearn: 0.0875313\ttotal: 652ms\tremaining: 266ms\n",
      "710:\tlearn: 0.0873946\ttotal: 652ms\tremaining: 265ms\n",
      "711:\tlearn: 0.0872395\ttotal: 653ms\tremaining: 264ms\n",
      "712:\tlearn: 0.0871849\ttotal: 654ms\tremaining: 263ms\n",
      "713:\tlearn: 0.0870649\ttotal: 655ms\tremaining: 262ms\n",
      "714:\tlearn: 0.0869653\ttotal: 656ms\tremaining: 261ms\n",
      "715:\tlearn: 0.0868293\ttotal: 656ms\tremaining: 260ms\n",
      "716:\tlearn: 0.0865509\ttotal: 657ms\tremaining: 259ms\n",
      "717:\tlearn: 0.0863827\ttotal: 658ms\tremaining: 258ms\n",
      "718:\tlearn: 0.0863399\ttotal: 659ms\tremaining: 257ms\n",
      "719:\tlearn: 0.0862335\ttotal: 660ms\tremaining: 257ms\n",
      "720:\tlearn: 0.0859702\ttotal: 660ms\tremaining: 256ms\n",
      "721:\tlearn: 0.0858223\ttotal: 661ms\tremaining: 255ms\n",
      "722:\tlearn: 0.0857374\ttotal: 662ms\tremaining: 254ms\n",
      "723:\tlearn: 0.0856499\ttotal: 663ms\tremaining: 253ms\n",
      "724:\tlearn: 0.0854230\ttotal: 664ms\tremaining: 252ms\n",
      "725:\tlearn: 0.0853396\ttotal: 665ms\tremaining: 251ms\n",
      "726:\tlearn: 0.0852334\ttotal: 665ms\tremaining: 250ms\n",
      "727:\tlearn: 0.0851600\ttotal: 666ms\tremaining: 249ms\n",
      "728:\tlearn: 0.0850392\ttotal: 667ms\tremaining: 248ms\n",
      "729:\tlearn: 0.0849383\ttotal: 668ms\tremaining: 247ms\n",
      "730:\tlearn: 0.0848033\ttotal: 668ms\tremaining: 246ms\n",
      "731:\tlearn: 0.0846592\ttotal: 669ms\tremaining: 245ms\n",
      "732:\tlearn: 0.0845663\ttotal: 670ms\tremaining: 244ms\n",
      "733:\tlearn: 0.0844841\ttotal: 671ms\tremaining: 243ms\n",
      "734:\tlearn: 0.0844645\ttotal: 672ms\tremaining: 242ms\n",
      "735:\tlearn: 0.0843140\ttotal: 673ms\tremaining: 241ms\n",
      "736:\tlearn: 0.0841860\ttotal: 674ms\tremaining: 240ms\n",
      "737:\tlearn: 0.0841722\ttotal: 674ms\tremaining: 239ms\n",
      "738:\tlearn: 0.0839924\ttotal: 675ms\tremaining: 238ms\n",
      "739:\tlearn: 0.0838336\ttotal: 676ms\tremaining: 237ms\n",
      "740:\tlearn: 0.0837179\ttotal: 677ms\tremaining: 237ms\n",
      "741:\tlearn: 0.0836156\ttotal: 677ms\tremaining: 236ms\n",
      "742:\tlearn: 0.0836052\ttotal: 678ms\tremaining: 235ms\n",
      "743:\tlearn: 0.0834931\ttotal: 679ms\tremaining: 234ms\n",
      "744:\tlearn: 0.0833951\ttotal: 680ms\tremaining: 233ms\n",
      "745:\tlearn: 0.0832424\ttotal: 681ms\tremaining: 232ms\n"
     ]
    },
    {
     "name": "stdout",
     "output_type": "stream",
     "text": [
      "746:\tlearn: 0.0830923\ttotal: 682ms\tremaining: 231ms\n",
      "747:\tlearn: 0.0829314\ttotal: 683ms\tremaining: 230ms\n",
      "748:\tlearn: 0.0828199\ttotal: 684ms\tremaining: 229ms\n",
      "749:\tlearn: 0.0827007\ttotal: 685ms\tremaining: 228ms\n",
      "750:\tlearn: 0.0825700\ttotal: 685ms\tremaining: 227ms\n",
      "751:\tlearn: 0.0824563\ttotal: 686ms\tremaining: 226ms\n",
      "752:\tlearn: 0.0823535\ttotal: 687ms\tremaining: 225ms\n",
      "753:\tlearn: 0.0822045\ttotal: 688ms\tremaining: 224ms\n",
      "754:\tlearn: 0.0820396\ttotal: 688ms\tremaining: 223ms\n",
      "755:\tlearn: 0.0819110\ttotal: 689ms\tremaining: 223ms\n",
      "756:\tlearn: 0.0817522\ttotal: 690ms\tremaining: 222ms\n",
      "757:\tlearn: 0.0816146\ttotal: 691ms\tremaining: 221ms\n",
      "758:\tlearn: 0.0814949\ttotal: 692ms\tremaining: 220ms\n",
      "759:\tlearn: 0.0812899\ttotal: 693ms\tremaining: 219ms\n",
      "760:\tlearn: 0.0811773\ttotal: 693ms\tremaining: 218ms\n",
      "761:\tlearn: 0.0809980\ttotal: 694ms\tremaining: 217ms\n",
      "762:\tlearn: 0.0808626\ttotal: 695ms\tremaining: 216ms\n",
      "763:\tlearn: 0.0807628\ttotal: 696ms\tremaining: 215ms\n",
      "764:\tlearn: 0.0805637\ttotal: 696ms\tremaining: 214ms\n",
      "765:\tlearn: 0.0805042\ttotal: 697ms\tremaining: 213ms\n",
      "766:\tlearn: 0.0803082\ttotal: 698ms\tremaining: 212ms\n",
      "767:\tlearn: 0.0801670\ttotal: 699ms\tremaining: 211ms\n",
      "768:\tlearn: 0.0800663\ttotal: 699ms\tremaining: 210ms\n",
      "769:\tlearn: 0.0799700\ttotal: 700ms\tremaining: 209ms\n",
      "770:\tlearn: 0.0798813\ttotal: 701ms\tremaining: 208ms\n",
      "771:\tlearn: 0.0797106\ttotal: 702ms\tremaining: 207ms\n",
      "772:\tlearn: 0.0795451\ttotal: 703ms\tremaining: 206ms\n",
      "773:\tlearn: 0.0794175\ttotal: 704ms\tremaining: 206ms\n",
      "774:\tlearn: 0.0793818\ttotal: 705ms\tremaining: 205ms\n",
      "775:\tlearn: 0.0793714\ttotal: 706ms\tremaining: 204ms\n",
      "776:\tlearn: 0.0791721\ttotal: 707ms\tremaining: 203ms\n",
      "777:\tlearn: 0.0790773\ttotal: 708ms\tremaining: 202ms\n",
      "778:\tlearn: 0.0788962\ttotal: 709ms\tremaining: 201ms\n",
      "779:\tlearn: 0.0788281\ttotal: 710ms\tremaining: 200ms\n",
      "780:\tlearn: 0.0788059\ttotal: 711ms\tremaining: 199ms\n",
      "781:\tlearn: 0.0786500\ttotal: 712ms\tremaining: 199ms\n",
      "782:\tlearn: 0.0785549\ttotal: 713ms\tremaining: 198ms\n",
      "783:\tlearn: 0.0782831\ttotal: 714ms\tremaining: 197ms\n",
      "784:\tlearn: 0.0781548\ttotal: 715ms\tremaining: 196ms\n",
      "785:\tlearn: 0.0780211\ttotal: 715ms\tremaining: 195ms\n",
      "786:\tlearn: 0.0779396\ttotal: 716ms\tremaining: 194ms\n",
      "787:\tlearn: 0.0778574\ttotal: 717ms\tremaining: 193ms\n",
      "788:\tlearn: 0.0776459\ttotal: 718ms\tremaining: 192ms\n",
      "789:\tlearn: 0.0775047\ttotal: 719ms\tremaining: 191ms\n",
      "790:\tlearn: 0.0773400\ttotal: 719ms\tremaining: 190ms\n",
      "791:\tlearn: 0.0772498\ttotal: 721ms\tremaining: 189ms\n",
      "792:\tlearn: 0.0771447\ttotal: 722ms\tremaining: 188ms\n",
      "793:\tlearn: 0.0770025\ttotal: 722ms\tremaining: 187ms\n",
      "794:\tlearn: 0.0769326\ttotal: 723ms\tremaining: 187ms\n",
      "795:\tlearn: 0.0768340\ttotal: 725ms\tremaining: 186ms\n",
      "796:\tlearn: 0.0767615\ttotal: 726ms\tremaining: 185ms\n",
      "797:\tlearn: 0.0767353\ttotal: 726ms\tremaining: 184ms\n",
      "798:\tlearn: 0.0765498\ttotal: 727ms\tremaining: 183ms\n",
      "799:\tlearn: 0.0764512\ttotal: 728ms\tremaining: 182ms\n",
      "800:\tlearn: 0.0762570\ttotal: 729ms\tremaining: 181ms\n",
      "801:\tlearn: 0.0762195\ttotal: 730ms\tremaining: 180ms\n",
      "802:\tlearn: 0.0761071\ttotal: 730ms\tremaining: 179ms\n",
      "803:\tlearn: 0.0759935\ttotal: 731ms\tremaining: 178ms\n",
      "804:\tlearn: 0.0759124\ttotal: 732ms\tremaining: 177ms\n",
      "805:\tlearn: 0.0757169\ttotal: 733ms\tremaining: 176ms\n",
      "806:\tlearn: 0.0755534\ttotal: 734ms\tremaining: 175ms\n",
      "807:\tlearn: 0.0754659\ttotal: 735ms\tremaining: 175ms\n",
      "808:\tlearn: 0.0753014\ttotal: 735ms\tremaining: 174ms\n",
      "809:\tlearn: 0.0752058\ttotal: 736ms\tremaining: 173ms\n",
      "810:\tlearn: 0.0750463\ttotal: 737ms\tremaining: 172ms\n",
      "811:\tlearn: 0.0749139\ttotal: 738ms\tremaining: 171ms\n",
      "812:\tlearn: 0.0747213\ttotal: 738ms\tremaining: 170ms\n",
      "813:\tlearn: 0.0746565\ttotal: 739ms\tremaining: 169ms\n",
      "814:\tlearn: 0.0745622\ttotal: 740ms\tremaining: 168ms\n",
      "815:\tlearn: 0.0744194\ttotal: 741ms\tremaining: 167ms\n",
      "816:\tlearn: 0.0743591\ttotal: 742ms\tremaining: 166ms\n",
      "817:\tlearn: 0.0742612\ttotal: 742ms\tremaining: 165ms\n",
      "818:\tlearn: 0.0741567\ttotal: 743ms\tremaining: 164ms\n",
      "819:\tlearn: 0.0739727\ttotal: 744ms\tremaining: 163ms\n",
      "820:\tlearn: 0.0738903\ttotal: 745ms\tremaining: 162ms\n",
      "821:\tlearn: 0.0738182\ttotal: 746ms\tremaining: 161ms\n",
      "822:\tlearn: 0.0737461\ttotal: 746ms\tremaining: 161ms\n",
      "823:\tlearn: 0.0735907\ttotal: 747ms\tremaining: 160ms\n",
      "824:\tlearn: 0.0735803\ttotal: 748ms\tremaining: 159ms\n",
      "825:\tlearn: 0.0734530\ttotal: 749ms\tremaining: 158ms\n",
      "826:\tlearn: 0.0733773\ttotal: 750ms\tremaining: 157ms\n",
      "827:\tlearn: 0.0731983\ttotal: 751ms\tremaining: 156ms\n",
      "828:\tlearn: 0.0731836\ttotal: 752ms\tremaining: 155ms\n",
      "829:\tlearn: 0.0729668\ttotal: 752ms\tremaining: 154ms\n",
      "830:\tlearn: 0.0728771\ttotal: 753ms\tremaining: 153ms\n",
      "831:\tlearn: 0.0727568\ttotal: 754ms\tremaining: 152ms\n",
      "832:\tlearn: 0.0726551\ttotal: 755ms\tremaining: 151ms\n",
      "833:\tlearn: 0.0726417\ttotal: 756ms\tremaining: 150ms\n",
      "834:\tlearn: 0.0725285\ttotal: 756ms\tremaining: 149ms\n",
      "835:\tlearn: 0.0723920\ttotal: 757ms\tremaining: 149ms\n",
      "836:\tlearn: 0.0722738\ttotal: 758ms\tremaining: 148ms\n",
      "837:\tlearn: 0.0720557\ttotal: 759ms\tremaining: 147ms\n",
      "838:\tlearn: 0.0718975\ttotal: 760ms\tremaining: 146ms\n",
      "839:\tlearn: 0.0717564\ttotal: 761ms\tremaining: 145ms\n",
      "840:\tlearn: 0.0716410\ttotal: 762ms\tremaining: 144ms\n"
     ]
    },
    {
     "name": "stdout",
     "output_type": "stream",
     "text": [
      "841:\tlearn: 0.0716345\ttotal: 763ms\tremaining: 143ms\n",
      "842:\tlearn: 0.0716189\ttotal: 764ms\tremaining: 142ms\n",
      "843:\tlearn: 0.0715256\ttotal: 765ms\tremaining: 141ms\n",
      "844:\tlearn: 0.0713815\ttotal: 766ms\tremaining: 140ms\n",
      "845:\tlearn: 0.0713456\ttotal: 766ms\tremaining: 140ms\n",
      "846:\tlearn: 0.0712822\ttotal: 767ms\tremaining: 139ms\n",
      "847:\tlearn: 0.0712708\ttotal: 769ms\tremaining: 138ms\n",
      "848:\tlearn: 0.0711895\ttotal: 770ms\tremaining: 137ms\n",
      "849:\tlearn: 0.0711023\ttotal: 770ms\tremaining: 136ms\n",
      "850:\tlearn: 0.0710889\ttotal: 771ms\tremaining: 135ms\n",
      "851:\tlearn: 0.0709931\ttotal: 772ms\tremaining: 134ms\n",
      "852:\tlearn: 0.0709796\ttotal: 773ms\tremaining: 133ms\n",
      "853:\tlearn: 0.0709518\ttotal: 774ms\tremaining: 132ms\n",
      "854:\tlearn: 0.0708542\ttotal: 775ms\tremaining: 131ms\n",
      "855:\tlearn: 0.0706952\ttotal: 776ms\tremaining: 130ms\n",
      "856:\tlearn: 0.0705457\ttotal: 776ms\tremaining: 130ms\n",
      "857:\tlearn: 0.0704732\ttotal: 777ms\tremaining: 129ms\n",
      "858:\tlearn: 0.0702785\ttotal: 778ms\tremaining: 128ms\n",
      "859:\tlearn: 0.0701284\ttotal: 779ms\tremaining: 127ms\n",
      "860:\tlearn: 0.0699967\ttotal: 780ms\tremaining: 126ms\n",
      "861:\tlearn: 0.0698618\ttotal: 780ms\tremaining: 125ms\n",
      "862:\tlearn: 0.0697701\ttotal: 781ms\tremaining: 124ms\n",
      "863:\tlearn: 0.0697395\ttotal: 782ms\tremaining: 123ms\n",
      "864:\tlearn: 0.0696168\ttotal: 783ms\tremaining: 122ms\n",
      "865:\tlearn: 0.0695263\ttotal: 784ms\tremaining: 121ms\n",
      "866:\tlearn: 0.0694178\ttotal: 784ms\tremaining: 120ms\n",
      "867:\tlearn: 0.0693592\ttotal: 785ms\tremaining: 119ms\n",
      "868:\tlearn: 0.0692648\ttotal: 786ms\tremaining: 118ms\n",
      "869:\tlearn: 0.0691554\ttotal: 787ms\tremaining: 118ms\n",
      "870:\tlearn: 0.0689570\ttotal: 788ms\tremaining: 117ms\n",
      "871:\tlearn: 0.0688885\ttotal: 788ms\tremaining: 116ms\n",
      "872:\tlearn: 0.0688783\ttotal: 789ms\tremaining: 115ms\n",
      "873:\tlearn: 0.0687944\ttotal: 790ms\tremaining: 114ms\n",
      "874:\tlearn: 0.0686172\ttotal: 791ms\tremaining: 113ms\n",
      "875:\tlearn: 0.0685083\ttotal: 792ms\tremaining: 112ms\n",
      "876:\tlearn: 0.0684025\ttotal: 792ms\tremaining: 111ms\n",
      "877:\tlearn: 0.0683853\ttotal: 793ms\tremaining: 110ms\n",
      "878:\tlearn: 0.0682731\ttotal: 794ms\tremaining: 109ms\n",
      "879:\tlearn: 0.0681698\ttotal: 795ms\tremaining: 108ms\n",
      "880:\tlearn: 0.0680445\ttotal: 796ms\tremaining: 108ms\n",
      "881:\tlearn: 0.0680038\ttotal: 797ms\tremaining: 107ms\n",
      "882:\tlearn: 0.0679939\ttotal: 797ms\tremaining: 106ms\n",
      "883:\tlearn: 0.0679100\ttotal: 798ms\tremaining: 105ms\n",
      "884:\tlearn: 0.0678078\ttotal: 799ms\tremaining: 104ms\n",
      "885:\tlearn: 0.0677121\ttotal: 800ms\tremaining: 103ms\n",
      "886:\tlearn: 0.0675882\ttotal: 801ms\tremaining: 102ms\n",
      "887:\tlearn: 0.0674098\ttotal: 801ms\tremaining: 101ms\n",
      "888:\tlearn: 0.0672804\ttotal: 802ms\tremaining: 100ms\n",
      "889:\tlearn: 0.0671902\ttotal: 804ms\tremaining: 99.3ms\n",
      "890:\tlearn: 0.0670788\ttotal: 805ms\tremaining: 98.4ms\n",
      "891:\tlearn: 0.0669543\ttotal: 805ms\tremaining: 97.5ms\n",
      "892:\tlearn: 0.0669439\ttotal: 806ms\tremaining: 96.6ms\n",
      "893:\tlearn: 0.0668053\ttotal: 807ms\tremaining: 95.7ms\n",
      "894:\tlearn: 0.0667858\ttotal: 808ms\tremaining: 94.8ms\n",
      "895:\tlearn: 0.0666624\ttotal: 809ms\tremaining: 93.9ms\n",
      "896:\tlearn: 0.0665062\ttotal: 809ms\tremaining: 92.9ms\n",
      "897:\tlearn: 0.0664243\ttotal: 810ms\tremaining: 92ms\n",
      "898:\tlearn: 0.0664158\ttotal: 811ms\tremaining: 91.1ms\n",
      "899:\tlearn: 0.0663039\ttotal: 812ms\tremaining: 90.2ms\n",
      "900:\tlearn: 0.0662858\ttotal: 813ms\tremaining: 89.3ms\n",
      "901:\tlearn: 0.0662793\ttotal: 813ms\tremaining: 88.4ms\n",
      "902:\tlearn: 0.0661342\ttotal: 814ms\tremaining: 87.5ms\n",
      "903:\tlearn: 0.0660480\ttotal: 815ms\tremaining: 86.5ms\n",
      "904:\tlearn: 0.0659563\ttotal: 816ms\tremaining: 85.6ms\n",
      "905:\tlearn: 0.0658834\ttotal: 816ms\tremaining: 84.7ms\n",
      "906:\tlearn: 0.0657639\ttotal: 817ms\tremaining: 83.8ms\n",
      "907:\tlearn: 0.0657210\ttotal: 818ms\tremaining: 82.9ms\n",
      "908:\tlearn: 0.0657088\ttotal: 819ms\tremaining: 82ms\n",
      "909:\tlearn: 0.0656389\ttotal: 820ms\tremaining: 81.1ms\n",
      "910:\tlearn: 0.0655267\ttotal: 821ms\tremaining: 80.2ms\n",
      "911:\tlearn: 0.0654464\ttotal: 821ms\tremaining: 79.3ms\n",
      "912:\tlearn: 0.0654111\ttotal: 822ms\tremaining: 78.3ms\n",
      "913:\tlearn: 0.0652878\ttotal: 823ms\tremaining: 77.4ms\n",
      "914:\tlearn: 0.0651467\ttotal: 824ms\tremaining: 76.5ms\n",
      "915:\tlearn: 0.0650819\ttotal: 825ms\tremaining: 75.6ms\n",
      "916:\tlearn: 0.0649677\ttotal: 825ms\tremaining: 74.7ms\n",
      "917:\tlearn: 0.0649143\ttotal: 826ms\tremaining: 73.8ms\n",
      "918:\tlearn: 0.0647331\ttotal: 827ms\tremaining: 72.9ms\n",
      "919:\tlearn: 0.0646394\ttotal: 828ms\tremaining: 72ms\n",
      "920:\tlearn: 0.0645586\ttotal: 829ms\tremaining: 71.1ms\n",
      "921:\tlearn: 0.0644514\ttotal: 830ms\tremaining: 70.2ms\n",
      "922:\tlearn: 0.0643796\ttotal: 830ms\tremaining: 69.3ms\n",
      "923:\tlearn: 0.0643715\ttotal: 831ms\tremaining: 68.4ms\n",
      "924:\tlearn: 0.0643556\ttotal: 832ms\tremaining: 67.5ms\n",
      "925:\tlearn: 0.0643364\ttotal: 833ms\tremaining: 66.6ms\n",
      "926:\tlearn: 0.0642490\ttotal: 834ms\tremaining: 65.7ms\n",
      "927:\tlearn: 0.0641292\ttotal: 834ms\tremaining: 64.7ms\n",
      "928:\tlearn: 0.0641184\ttotal: 835ms\tremaining: 63.8ms\n",
      "929:\tlearn: 0.0639945\ttotal: 836ms\tremaining: 62.9ms\n",
      "930:\tlearn: 0.0639114\ttotal: 837ms\tremaining: 62ms\n",
      "931:\tlearn: 0.0637896\ttotal: 838ms\tremaining: 61.1ms\n",
      "932:\tlearn: 0.0636979\ttotal: 839ms\tremaining: 60.2ms\n",
      "933:\tlearn: 0.0635846\ttotal: 839ms\tremaining: 59.3ms\n",
      "934:\tlearn: 0.0634644\ttotal: 840ms\tremaining: 58.4ms\n",
      "935:\tlearn: 0.0633873\ttotal: 841ms\tremaining: 57.5ms\n",
      "936:\tlearn: 0.0633794\ttotal: 842ms\tremaining: 56.6ms\n",
      "937:\tlearn: 0.0632992\ttotal: 843ms\tremaining: 55.7ms\n",
      "938:\tlearn: 0.0631916\ttotal: 844ms\tremaining: 54.8ms\n",
      "939:\tlearn: 0.0630755\ttotal: 844ms\tremaining: 53.9ms\n",
      "940:\tlearn: 0.0630066\ttotal: 845ms\tremaining: 53ms\n",
      "941:\tlearn: 0.0629137\ttotal: 846ms\tremaining: 52.1ms\n",
      "942:\tlearn: 0.0628117\ttotal: 847ms\tremaining: 51.2ms\n",
      "943:\tlearn: 0.0627409\ttotal: 848ms\tremaining: 50.3ms\n",
      "944:\tlearn: 0.0626260\ttotal: 849ms\tremaining: 49.4ms\n",
      "945:\tlearn: 0.0624699\ttotal: 850ms\tremaining: 48.5ms\n",
      "946:\tlearn: 0.0624341\ttotal: 851ms\tremaining: 47.6ms\n",
      "947:\tlearn: 0.0623106\ttotal: 851ms\tremaining: 46.7ms\n",
      "948:\tlearn: 0.0623026\ttotal: 852ms\tremaining: 45.8ms\n",
      "949:\tlearn: 0.0622043\ttotal: 853ms\tremaining: 44.9ms\n",
      "950:\tlearn: 0.0621294\ttotal: 854ms\tremaining: 44ms\n",
      "951:\tlearn: 0.0620210\ttotal: 855ms\tremaining: 43.1ms\n",
      "952:\tlearn: 0.0618874\ttotal: 855ms\tremaining: 42.2ms\n",
      "953:\tlearn: 0.0617442\ttotal: 856ms\tremaining: 41.3ms\n",
      "954:\tlearn: 0.0617370\ttotal: 857ms\tremaining: 40.4ms\n",
      "955:\tlearn: 0.0616333\ttotal: 858ms\tremaining: 39.5ms\n",
      "956:\tlearn: 0.0615340\ttotal: 858ms\tremaining: 38.6ms\n",
      "957:\tlearn: 0.0613444\ttotal: 859ms\tremaining: 37.7ms\n",
      "958:\tlearn: 0.0613367\ttotal: 860ms\tremaining: 36.8ms\n",
      "959:\tlearn: 0.0612020\ttotal: 861ms\tremaining: 35.9ms\n",
      "960:\tlearn: 0.0610407\ttotal: 862ms\tremaining: 35ms\n",
      "961:\tlearn: 0.0608822\ttotal: 862ms\tremaining: 34.1ms\n",
      "962:\tlearn: 0.0608363\ttotal: 863ms\tremaining: 33.2ms\n",
      "963:\tlearn: 0.0608067\ttotal: 864ms\tremaining: 32.3ms\n",
      "964:\tlearn: 0.0607708\ttotal: 865ms\tremaining: 31.4ms\n",
      "965:\tlearn: 0.0607627\ttotal: 866ms\tremaining: 30.5ms\n",
      "966:\tlearn: 0.0607551\ttotal: 866ms\tremaining: 29.6ms\n",
      "967:\tlearn: 0.0606980\ttotal: 867ms\tremaining: 28.7ms\n",
      "968:\tlearn: 0.0606319\ttotal: 868ms\tremaining: 27.8ms\n",
      "969:\tlearn: 0.0605119\ttotal: 869ms\tremaining: 26.9ms\n",
      "970:\tlearn: 0.0603911\ttotal: 870ms\tremaining: 26ms\n",
      "971:\tlearn: 0.0603070\ttotal: 871ms\tremaining: 25.1ms\n"
     ]
    },
    {
     "name": "stdout",
     "output_type": "stream",
     "text": [
      "972:\tlearn: 0.0602994\ttotal: 872ms\tremaining: 24.2ms\n",
      "973:\tlearn: 0.0602055\ttotal: 873ms\tremaining: 23.3ms\n",
      "974:\tlearn: 0.0600931\ttotal: 874ms\tremaining: 22.4ms\n",
      "975:\tlearn: 0.0600141\ttotal: 874ms\tremaining: 21.5ms\n",
      "976:\tlearn: 0.0599501\ttotal: 875ms\tremaining: 20.6ms\n",
      "977:\tlearn: 0.0598939\ttotal: 876ms\tremaining: 19.7ms\n",
      "978:\tlearn: 0.0597654\ttotal: 877ms\tremaining: 18.8ms\n",
      "979:\tlearn: 0.0596590\ttotal: 878ms\tremaining: 17.9ms\n",
      "980:\tlearn: 0.0595609\ttotal: 878ms\tremaining: 17ms\n",
      "981:\tlearn: 0.0594462\ttotal: 879ms\tremaining: 16.1ms\n",
      "982:\tlearn: 0.0593264\ttotal: 880ms\tremaining: 15.2ms\n",
      "983:\tlearn: 0.0592965\ttotal: 881ms\tremaining: 14.3ms\n",
      "984:\tlearn: 0.0591611\ttotal: 881ms\tremaining: 13.4ms\n",
      "985:\tlearn: 0.0591444\ttotal: 882ms\tremaining: 12.5ms\n",
      "986:\tlearn: 0.0590460\ttotal: 883ms\tremaining: 11.6ms\n",
      "987:\tlearn: 0.0589947\ttotal: 884ms\tremaining: 10.7ms\n",
      "988:\tlearn: 0.0588946\ttotal: 885ms\tremaining: 9.84ms\n",
      "989:\tlearn: 0.0587976\ttotal: 886ms\tremaining: 8.95ms\n",
      "990:\tlearn: 0.0587102\ttotal: 886ms\tremaining: 8.05ms\n",
      "991:\tlearn: 0.0587037\ttotal: 887ms\tremaining: 7.15ms\n",
      "992:\tlearn: 0.0585645\ttotal: 888ms\tremaining: 6.26ms\n",
      "993:\tlearn: 0.0584741\ttotal: 889ms\tremaining: 5.37ms\n",
      "994:\tlearn: 0.0583727\ttotal: 890ms\tremaining: 4.47ms\n",
      "995:\tlearn: 0.0582768\ttotal: 891ms\tremaining: 3.58ms\n",
      "996:\tlearn: 0.0582702\ttotal: 891ms\tremaining: 2.68ms\n",
      "997:\tlearn: 0.0581731\ttotal: 892ms\tremaining: 1.79ms\n",
      "998:\tlearn: 0.0580849\ttotal: 893ms\tremaining: 893us\n",
      "999:\tlearn: 0.0579677\ttotal: 894ms\tremaining: 0us\n"
     ]
    },
    {
     "data": {
      "text/plain": [
       "<catboost.core.CatBoostRegressor at 0x7fbe116f1430>"
      ]
     },
     "execution_count": 9,
     "metadata": {},
     "output_type": "execute_result"
    }
   ],
   "source": [
    "#Train the Model \n",
    "prior_model = ctb.CatBoostRegressor()\n",
    "prior_model.fit(X_train,Y_train)"
   ]
  },
  {
   "cell_type": "code",
   "execution_count": 10,
   "id": "af65dcda",
   "metadata": {
    "execution": {
     "iopub.execute_input": "2022-06-12T05:40:02.792517Z",
     "iopub.status.busy": "2022-06-12T05:40:02.792126Z",
     "iopub.status.idle": "2022-06-12T05:40:02.799614Z",
     "shell.execute_reply": "2022-06-12T05:40:02.799973Z"
    },
    "id": "af65dcda",
    "papermill": {
     "duration": 0.021058,
     "end_time": "2022-06-12T05:40:02.800089",
     "exception": false,
     "start_time": "2022-06-12T05:40:02.779031",
     "status": "completed"
    },
    "tags": []
   },
   "outputs": [
    {
     "data": {
      "application/scrapbook.scrap.json+json": {
       "data": 0.09796638312492234,
       "encoder": "json",
       "name": "Prior Model MSE",
       "version": 1
      }
     },
     "metadata": {
      "scrapbook": {
       "data": true,
       "display": false,
       "name": "Prior Model MSE"
      }
     },
     "output_type": "display_data"
    },
    {
     "data": {
      "application/scrapbook.scrap.json+json": {
       "data": 1.0228445222606941,
       "encoder": "json",
       "name": "ABC Pre-generator MSE",
       "version": 1
      }
     },
     "metadata": {
      "scrapbook": {
       "data": true,
       "display": false,
       "name": "ABC Pre-generator MSE"
      }
     },
     "output_type": "display_data"
    },
    {
     "data": {
      "application/scrapbook.scrap.json+json": {
       "data": 0.21960470618119993,
       "encoder": "json",
       "name": "Prior Model MSE",
       "version": 1
      }
     },
     "metadata": {
      "scrapbook": {
       "data": true,
       "display": false,
       "name": "Prior Model MSE"
      }
     },
     "output_type": "display_data"
    },
    {
     "data": {
      "application/scrapbook.scrap.json+json": {
       "data": 0.7760410645721658,
       "encoder": "json",
       "name": "ABC Pre-generator MSE",
       "version": 1
      }
     },
     "metadata": {
      "scrapbook": {
       "data": true,
       "display": false,
       "name": "ABC Pre-generator MSE"
      }
     },
     "output_type": "display_data"
    }
   ],
   "source": [
    "y_pred = prior_model.predict(X_test)\n",
    "y_abc = y_pred + np.random.normal(0,variance, y_pred.shape) + bias \n",
    "mse = mean_squared_error(y_pred,Y_test)\n",
    "sb.glue(\"Prior Model MSE\",mse)\n",
    "mse = mean_squared_error(y_abc,Y_test)\n",
    "sb.glue(\"ABC Pre-generator MSE\",mse)\n",
    "mae = mean_absolute_error(y_pred,Y_test)\n",
    "sb.glue(\"Prior Model MSE\",mae)\n",
    "mae = mean_absolute_error(y_abc,Y_test)\n",
    "sb.glue(\"ABC Pre-generator MSE\",mae)"
   ]
  },
  {
   "cell_type": "markdown",
   "id": "25609da2",
   "metadata": {
    "papermill": {
     "duration": 0.009831,
     "end_time": "2022-06-12T05:40:02.820063",
     "exception": false,
     "start_time": "2022-06-12T05:40:02.810232",
     "status": "completed"
    },
    "tags": []
   },
   "source": [
    "# ABC GAN Model"
   ]
  },
  {
   "cell_type": "code",
   "execution_count": 11,
   "id": "dfc3464d",
   "metadata": {
    "execution": {
     "iopub.execute_input": "2022-06-12T05:40:02.842534Z",
     "iopub.status.busy": "2022-06-12T05:40:02.842162Z",
     "iopub.status.idle": "2022-06-12T05:40:02.844844Z",
     "shell.execute_reply": "2022-06-12T05:40:02.845082Z"
    },
    "papermill": {
     "duration": 0.015304,
     "end_time": "2022-06-12T05:40:02.845186",
     "exception": false,
     "start_time": "2022-06-12T05:40:02.829882",
     "status": "completed"
    },
    "tags": []
   },
   "outputs": [],
   "source": [
    "gen = network.Generator(n_features+1).to(device)\n",
    "disc = network.Discriminator(n_features+1).to(device)\n",
    "\n",
    "criterion = torch.nn.BCELoss()\n",
    "gen_opt = torch.optim.Adam(gen.parameters(), lr=0.001, betas=(0.5, 0.999))\n",
    "disc_opt = torch.optim.Adam(disc.parameters(), lr=0.001, betas=(0.5, 0.999))"
   ]
  },
  {
   "cell_type": "code",
   "execution_count": 12,
   "id": "b75fdd85",
   "metadata": {
    "execution": {
     "iopub.execute_input": "2022-06-12T05:40:02.867912Z",
     "iopub.status.busy": "2022-06-12T05:40:02.867547Z",
     "iopub.status.idle": "2022-06-12T05:41:02.617779Z",
     "shell.execute_reply": "2022-06-12T05:41:02.618090Z"
    },
    "papermill": {
     "duration": 59.76305,
     "end_time": "2022-06-12T05:41:02.618213",
     "exception": false,
     "start_time": "2022-06-12T05:40:02.855163",
     "status": "completed"
    },
    "tags": []
   },
   "outputs": [
    {
     "data": {
      "image/png": "[encoded data removed]",
      "text/plain": [
       "<Figure size 432x288 with 1 Axes>"
      ]
     },
     "metadata": {
      "needs_background": "light"
     },
     "output_type": "display_data"
    },
    {
     "data": {
      "image/png": "[encoded data removed]",
      "text/plain": [
       "<Figure size 432x288 with 1 Axes>"
      ]
     },
     "metadata": {
      "needs_background": "light"
     },
     "output_type": "display_data"
    }
   ],
   "source": [
    "#Training the ABC_GAN \n",
    "ABC_train_test2.training_GAN(disc,gen,disc_opt,gen_opt,train_data,batch_size,n_epochs,criterion,prior_model,variance,bias,device)"
   ]
  },
  {
   "cell_type": "code",
   "execution_count": 13,
   "id": "1fa7c368",
   "metadata": {
    "execution": {
     "iopub.execute_input": "2022-06-12T05:41:02.642740Z",
     "iopub.status.busy": "2022-06-12T05:41:02.642366Z",
     "iopub.status.idle": "2022-06-12T05:41:02.946505Z",
     "shell.execute_reply": "2022-06-12T05:41:02.946875Z"
    },
    "papermill": {
     "duration": 0.317701,
     "end_time": "2022-06-12T05:41:02.946994",
     "exception": false,
     "start_time": "2022-06-12T05:41:02.629293",
     "status": "completed"
    },
    "tags": []
   },
   "outputs": [
    {
     "data": {
      "application/scrapbook.scrap.json+json": {
       "data": 0.15058823279748879,
       "encoder": "json",
       "name": "ABC-GAN Model 1 MSE",
       "version": 1
      }
     },
     "metadata": {
      "scrapbook": {
       "data": true,
       "display": false,
       "name": "ABC-GAN Model 1 MSE"
      }
     },
     "output_type": "display_data"
    },
    {
     "data": {
      "application/scrapbook.scrap.json+json": {
       "data": 0.26571422479425866,
       "encoder": "json",
       "name": "ABC-GAN Model 1 MAE",
       "version": 1
      }
     },
     "metadata": {
      "scrapbook": {
       "data": true,
       "display": false,
       "name": "ABC-GAN Model 1 MAE"
      }
     },
     "output_type": "display_data"
    },
    {
     "data": {
      "application/scrapbook.scrap.json+json": {
       "data": 27.102850929014384,
       "encoder": "json",
       "name": "ABC-GAN Model 1 Manhattan Distance",
       "version": 1
      }
     },
     "metadata": {
      "scrapbook": {
       "data": true,
       "display": false,
       "name": "ABC-GAN Model 1 Manhattan Distance"
      }
     },
     "output_type": "display_data"
    },
    {
     "data": {
      "application/scrapbook.scrap.json+json": {
       "data": 3.9190755908255754,
       "encoder": "json",
       "name": "ABC-GAN Model 1 Euclidean distance",
       "version": 1
      }
     },
     "metadata": {
      "scrapbook": {
       "data": true,
       "display": false,
       "name": "ABC-GAN Model 1 Euclidean distance"
      }
     },
     "output_type": "display_data"
    },
    {
     "data": {
      "application/scrapbook.scrap.json+json": {
       "data": [
        [
         0.1539682083848226,
         0.15133822908550404,
         0.14786921292795696,
         0.14847350945597756,
         0.14769903702619225,
         0.15357209951403186,
         0.14792854785438794,
         0.1487260804160085,
         0.1516948780026862,
         0.15423760209747517,
         0.15160485730522372,
         0.15480410320926175,
         0.15113850471358536,
         0.15333117453316464,
         0.14714080853391512,
         0.1531954480480348,
         0.14917492752149228,
         0.14785524828954566,
         0.14668496813732673,
         0.14813196063055495,
         0.15073728854370883,
         0.1512221731145074,
         0.15086776377185226,
         0.15257621734970594,
         0.1511508380663149,
         0.14914979780530904,
         0.14995594182785785,
         0.14818819130788813,
         0.1512815116416837,
         0.1501781890242839,
         0.15527770535036697,
         0.1493747479018905,
         0.15340236116960596,
         0.15671691955385772,
         0.14981885645764523,
         0.15510421297168267,
         0.14575892789656972,
         0.1506400056138361,
         0.15001245677415984,
         0.15154823787172908,
         0.1465718480075238,
         0.15002168003587715,
         0.14962015972430254,
         0.151271982443711,
         0.14686623184620795,
         0.1478647781942186,
         0.15089881058119872,
         0.1556135733897016,
         0.15023380269731482,
         0.14943305298115367,
         0.15269632155638,
         0.14838882322041194,
         0.15001850000016895,
         0.15106600557875965,
         0.1507092729731815,
         0.14736219410310783,
         0.14960174419339387,
         0.14854482262147292,
         0.14956922710833837,
         0.14777656695142852,
         0.1518940480721943,
         0.15148876231450745,
         0.1481614111379944,
         0.15089515099533615,
         0.1489598597450405,
         0.15063709716660434,
         0.1525366251169519,
         0.15326669997430944,
         0.14971276576429782,
         0.14944164220351064,
         0.1493266029368182,
         0.14882843670710486,
         0.15366784791378327,
         0.15132343891185104,
         0.14790791172050113,
         0.14734018803792107,
         0.15066246369993508,
         0.15040511380234287,
         0.14920059267518193,
         0.1533284881709768,
         0.14925416422034732,
         0.1478922735456489,
         0.14949057500301513,
         0.15115424042689676,
         0.15116269159295048,
         0.1496717814368288,
         0.1517545844074111,
         0.1539649537395301,
         0.14908073987343023,
         0.1495635826154722,
         0.15176339365896754,
         0.15099637758378714,
         0.15254708092661842,
         0.1522378674321605,
         0.15257551676133166,
         0.15034950577154582,
         0.15323949208148985,
         0.1526966198033744,
         0.15063865707576504,
         0.15414288681568733
        ],
        [
         0.2666091825173912,
         0.2678275978758785,
         0.2651137620228909,
         0.26349277331439014,
         0.26197570570580225,
         0.2703590840557773,
         0.26351846832161147,
         0.264934678078063,
         0.2652084521821463,
         0.26885713619526985,
         0.2677322767912319,
         0.27097976913529576,
         0.2650365566962636,
         0.26789835446934196,
         0.26611178884209663,
         0.2662636744789779,
         0.26506320252904997,
         0.26260546800296974,
         0.26352551825088905,
         0.264478985594549,
         0.2644878145690788,
         0.26641803133465786,
         0.26675290859980033,
         0.26864765782603156,
         0.26565314852176053,
         0.2651726378255761,
         0.2649487806758022,
         0.2653274668435402,
         0.26587940012013506,
         0.26502323034675973,
         0.26873764334538697,
         0.26442556255770955,
         0.2650772385828781,
         0.2693221461046122,
         0.2641327780050536,
         0.26864072389206756,
         0.259082414839855,
         0.26597571432334827,
         0.26527414354952233,
         0.2644861252229734,
         0.26283627340350957,
         0.266086303656373,
         0.2656613188503566,
         0.2656508527568304,
         0.26253361383672147,
         0.26486581699995726,
         0.2651490344227675,
         0.27061260766441037,
         0.26633216131149845,
         0.266051168179176,
         0.26546996504104897,
         0.26327811843514737,
         0.26428151431073454,
         0.26731620492486685,
         0.26665850992624957,
         0.2625595385701779,
         0.2637474476725009,
         0.2652444972875802,
         0.2666509574114838,
         0.26383432180748556,
         0.26654519667556764,
         0.26612587127944126,
         0.2643462923611058,
         0.2668755302552645,
         0.26375564915475014,
         0.2642444210473959,
         0.26368318290869686,
         0.2675748920415108,
         0.26791650189232885,
         0.2644901378719392,
         0.2652350354519691,
         0.26329190263013336,
         0.2664604846333318,
         0.2680183519134481,
         0.26436993480641763,
         0.2625563451928981,
         0.26496419154436274,
         0.2644574011164699,
         0.2670136959036337,
         0.2691911708143558,
         0.26531698248878705,
         0.2645685062561111,
         0.26225287373195966,
         0.26501473778055284,
         0.26799076157348123,
         0.2664872110346515,
         0.2685300787892558,
         0.26702143417160007,
         0.2641311202873932,
         0.26519427884041386,
         0.26758986716067384,
         0.2649382960288694,
         0.26743116756608964,
         0.26477730158241647,
         0.2670855816983271,
         0.26667984371420506,
         0.2667563866696083,
         0.2669520158704151,
         0.26686242194481047,
         0.26884719412591235
        ],
        [
         27.194136616773903,
         27.318414983339608,
         27.04160372633487,
         26.87626287806779,
         26.721521981991827,
         27.576626573689282,
         26.87888376880437,
         27.023337163962424,
         27.05126212257892,
         27.423427891917527,
         27.308692232705653,
         27.639936451800168,
         27.033728783018887,
         27.32563215587288,
         27.143402461893857,
         27.158894796855748,
         27.036446657963097,
         26.785757736302912,
         26.879602861590683,
         26.976856530644,
         26.97775708604604,
         27.174639196135104,
         27.208796677179635,
         27.402061098255217,
         27.096621149219573,
         27.047609058208764,
         27.02477562893182,
         27.063401618041098,
         27.119698812253773,
         27.032369495369494,
         27.41123962122947,
         26.971407380886376,
         27.03787833545357,
         27.470858902670443,
         26.941543356515467,
         27.401353836990893,
         26.42640631366521,
         27.129522860981524,
         27.05796264205128,
         26.977584772743285,
         26.809299887157977,
         27.14080297295004,
         27.09745452273637,
         27.0963869811967,
         26.77842861134559,
         27.01631333399564,
         27.045201511122286,
         27.60248598176986,
         27.165880453772843,
         27.137219154275954,
         27.077936434186995,
         26.85436808038503,
         26.956714459694922,
         27.26625290233642,
         27.199168012477458,
         26.781072934158146,
         26.902239662595093,
         27.05493872333318,
         27.19839765597135,
         26.91110082436353,
         27.1876100609079,
         27.14483887050301,
         26.96332182083279,
         27.22130408603698,
         26.903076213784516,
         26.952930946834385,
         26.89568465668708,
         27.292638988234103,
         27.327483193017542,
         26.977994062937796,
         27.053973616100848,
         26.855774068273604,
         27.178969432599843,
         27.337871895171702,
         26.965733350254595,
         26.78074720967561,
         27.026347537524998,
         26.97465491387993,
         27.23539698217064,
         27.45749942306429,
         27.06233221385628,
         26.985987638123333,
         26.749793120659888,
         27.031503253616393,
         27.335057680495083,
         27.18169552553445,
         27.39006803650409,
         27.23618628550321,
         26.94137426931411,
         27.049816441722214,
         27.29416645038873,
         27.02370619494468,
         27.277979091741145,
         27.00728476140648,
         27.242729333229363,
         27.201344058848917,
         27.209151440300047,
         27.22910561878234,
         27.21996703837067,
         27.42241380084306
        ],
        [
         3.962922817221136,
         3.9289310717702106,
         3.883640008890063,
         3.8915675459266676,
         3.8814046138829186,
         3.957821894733422,
         3.8844191175962943,
         3.894876147252037,
         3.9335578750380655,
         3.966388207669853,
         3.9323905509413506,
         3.9736656285279848,
         3.926337667698195,
         3.9547161468786594,
         3.874062786076052,
         3.9529654312806164,
         3.90074898028471,
         3.8834566207869066,
         3.8680572319973923,
         3.887088882996709,
         3.9211227258858274,
         3.927424303239943,
         3.9228193821190565,
         3.9449682089555558,
         3.92649786486178,
         3.900420410179078,
         3.910946952649895,
         3.8878265796463443,
         3.9281947746327113,
         3.9138440541847035,
         3.9797394318896595,
         3.903360640011737,
         3.9556340628652444,
         3.998140291997454,
         3.9091589068084467,
         3.977515521416809,
         3.8558281400303764,
         3.9198572132937795,
         3.9116838562138816,
         3.931656173028914,
         3.8665654652116555,
         3.91180410599246,
         3.9065657925956994,
         3.9280710545073547,
         3.870446440439812,
         3.8835817714849643,
         3.9232229963745713,
         3.9840412254078843,
         3.9145686703806986,
         3.904122360285046,
         3.946520593985386,
         3.8904575525871015,
         3.91176264617592,
         3.9253958487053873,
         3.9207583250264886,
         3.8769761152884334,
         3.9063253714618003,
         3.8925020112249444,
         3.9059008135192723,
         3.8824231903600754,
         3.9361393399324442,
         3.930884602233925,
         3.887475265011397,
         3.9231754232412657,
         3.8979360813120234,
         3.9198193722407213,
         3.9444563328713746,
         3.9538845958600715,
         3.90777457230562,
         3.9042345606735873,
         3.902731543362348,
         3.896216182929882,
         3.959055504436113,
         3.928739081309525,
         3.884148168580997,
         3.8766866238926183,
         3.9201493973308437,
         3.9167999193013383,
         3.901084522651177,
         3.954681503413345,
         3.901784816013747,
         3.8839428293496017,
         3.9048737047832343,
         3.9265420567648923,
         3.926651823434432,
         3.9072396530743463,
         3.934331914004706,
         3.962880932028121,
         3.899517337708589,
         3.9058271117367904,
         3.9344461050082615,
         3.92449111523345,
         3.9445915193483696,
         3.940591640614436,
         3.9449591518361546,
         3.916075789447604,
         3.953533633638642,
         3.946524448162483,
         3.919839667859903,
         3.965170167243785
        ]
       ],
       "encoder": "json",
       "name": "ABC_GAN_1 Metrics",
       "version": 1
      }
     },
     "metadata": {
      "scrapbook": {
       "data": true,
       "display": false,
       "name": "ABC_GAN_1 Metrics"
      }
     },
     "output_type": "display_data"
    },
    {
     "name": "stdout",
     "output_type": "stream",
     "text": [
      "MSE\n",
      "0.15058823279748879\n"
     ]
    }
   ],
   "source": [
    "ABC_GAN1_metrics=ABC_train_test2.test_generator(gen,test_data,prior_model,variance,bias,\"1\",device)\n",
    "sb.glue(\"ABC_GAN_1 Metrics\",ABC_GAN1_metrics)\n",
    "\n",
    "print(\"MSE\")\n",
    "print(mean(ABC_GAN1_metrics[0]))"
   ]
  },
  {
   "cell_type": "code",
   "execution_count": 14,
   "id": "eb22ce5c",
   "metadata": {
    "execution": {
     "iopub.execute_input": "2022-06-12T05:41:02.974883Z",
     "iopub.status.busy": "2022-06-12T05:41:02.974524Z",
     "iopub.status.idle": "2022-06-12T05:41:03.298038Z",
     "shell.execute_reply": "2022-06-12T05:41:03.298258Z"
    },
    "papermill": {
     "duration": 0.338449,
     "end_time": "2022-06-12T05:41:03.298382",
     "exception": false,
     "start_time": "2022-06-12T05:41:02.959933",
     "status": "completed"
    },
    "tags": []
   },
   "outputs": [
    {
     "data": {
      "image/png": "[encoded data removed]",
      "text/plain": [
       "<Figure size 432x288 with 1 Axes>"
      ]
     },
     "metadata": {
      "needs_background": "light"
     },
     "output_type": "display_data"
    },
    {
     "data": {
      "image/png": "[encoded data removed]",
      "text/plain": [
       "<Figure size 432x288 with 1 Axes>"
      ]
     },
     "metadata": {
      "needs_background": "light"
     },
     "output_type": "display_data"
    },
    {
     "data": {
      "image/png": "[encoded data removed]",
      "text/plain": [
       "<Figure size 432x288 with 1 Axes>"
      ]
     },
     "metadata": {
      "needs_background": "light"
     },
     "output_type": "display_data"
    },
    {
     "data": {
      "image/png": "[encoded data removed]",
      "text/plain": [
       "<Figure size 432x288 with 1 Axes>"
      ]
     },
     "metadata": {
      "needs_background": "light"
     },
     "output_type": "display_data"
    }
   ],
   "source": [
    "sanityChecks.discProbVsError(train_data,disc,device)\n",
    "sanityChecks.discProbVsError(test_data,disc,device)"
   ]
  },
  {
   "cell_type": "markdown",
   "id": "130f3a4d",
   "metadata": {
    "id": "130f3a4d",
    "papermill": {
     "duration": 0.014582,
     "end_time": "2022-06-12T05:41:03.328075",
     "exception": false,
     "start_time": "2022-06-12T05:41:03.313493",
     "status": "completed"
    },
    "tags": []
   },
   "source": [
    "# ABC - GAN Model with skip connection"
   ]
  },
  {
   "cell_type": "code",
   "execution_count": 15,
   "id": "4e43dad1",
   "metadata": {
    "execution": {
     "iopub.execute_input": "2022-06-12T05:41:03.360940Z",
     "iopub.status.busy": "2022-06-12T05:41:03.360549Z",
     "iopub.status.idle": "2022-06-12T05:41:03.362844Z",
     "shell.execute_reply": "2022-06-12T05:41:03.363086Z"
    },
    "id": "4e43dad1",
    "papermill": {
     "duration": 0.020323,
     "end_time": "2022-06-12T05:41:03.363198",
     "exception": false,
     "start_time": "2022-06-12T05:41:03.342875",
     "status": "completed"
    },
    "tags": []
   },
   "outputs": [],
   "source": [
    "#Generator\n",
    "gen3 = network.GeneratorWithSkipConnection(n_features+1).to(device)\n",
    "constraints=network.weightConstraint()\n",
    "#Discriminator \n",
    "disc3 = network.Discriminator(n_features+1).to(device)\n",
    "\n",
    "criterion = torch.nn.BCELoss()\n",
    "gen_opt = torch.optim.Adam(gen3.parameters(), lr=0.001, betas=(0.5, 0.999))\n",
    "disc_opt = torch.optim.Adam(disc3.parameters(), lr=0.001, betas=(0.5, 0.999))\n"
   ]
  },
  {
   "cell_type": "code",
   "execution_count": 16,
   "id": "26acbc37",
   "metadata": {
    "execution": {
     "iopub.execute_input": "2022-06-12T05:41:03.395825Z",
     "iopub.status.busy": "2022-06-12T05:41:03.395449Z",
     "iopub.status.idle": "2022-06-12T05:43:56.000724Z",
     "shell.execute_reply": "2022-06-12T05:43:56.001072Z"
    },
    "id": "26acbc37",
    "papermill": {
     "duration": 172.622849,
     "end_time": "2022-06-12T05:43:56.001258",
     "exception": false,
     "start_time": "2022-06-12T05:41:03.378409",
     "status": "completed"
    },
    "tags": []
   },
   "outputs": [
    {
     "data": {
      "image/png": "[encoded data removed]",
      "text/plain": [
       "<Figure size 432x288 with 1 Axes>"
      ]
     },
     "metadata": {
      "needs_background": "light"
     },
     "output_type": "display_data"
    },
    {
     "data": {
      "image/png": "[encoded data removed]",
      "text/plain": [
       "<Figure size 432x288 with 1 Axes>"
      ]
     },
     "metadata": {
      "needs_background": "light"
     },
     "output_type": "display_data"
    }
   ],
   "source": [
    "ABC_train_test2.training_GAN_skip_connection(disc3,gen3,disc_opt,gen_opt,train_data,batch_size,n_epochs,criterion,prior_model,variance,bias,device)"
   ]
  },
  {
   "cell_type": "code",
   "execution_count": 17,
   "id": "c5e0717b",
   "metadata": {
    "execution": {
     "iopub.execute_input": "2022-06-12T05:43:56.037426Z",
     "iopub.status.busy": "2022-06-12T05:43:56.037033Z",
     "iopub.status.idle": "2022-06-12T05:43:56.857628Z",
     "shell.execute_reply": "2022-06-12T05:43:56.857936Z"
    },
    "id": "c5e0717b",
    "papermill": {
     "duration": 0.839926,
     "end_time": "2022-06-12T05:43:56.858058",
     "exception": false,
     "start_time": "2022-06-12T05:43:56.018132",
     "status": "completed"
    },
    "tags": []
   },
   "outputs": [
    {
     "data": {
      "application/scrapbook.scrap.json+json": {
       "data": 0.17168525467169812,
       "encoder": "json",
       "name": "ABC-GAN Model 3 MSE",
       "version": 1
      }
     },
     "metadata": {
      "scrapbook": {
       "data": true,
       "display": false,
       "name": "ABC-GAN Model 3 MSE"
      }
     },
     "output_type": "display_data"
    },
    {
     "data": {
      "application/scrapbook.scrap.json+json": {
       "data": 0.28696742591870417,
       "encoder": "json",
       "name": "ABC-GAN Model 3 MAE",
       "version": 1
      }
     },
     "metadata": {
      "scrapbook": {
       "data": true,
       "display": false,
       "name": "ABC-GAN Model 3 MAE"
      }
     },
     "output_type": "display_data"
    },
    {
     "data": {
      "application/scrapbook.scrap.json+json": {
       "data": 29.27067744370783,
       "encoder": "json",
       "name": "ABC-GAN Model 3 Manhattan Distance",
       "version": 1
      }
     },
     "metadata": {
      "scrapbook": {
       "data": true,
       "display": false,
       "name": "ABC-GAN Model 3 Manhattan Distance"
      }
     },
     "output_type": "display_data"
    },
    {
     "data": {
      "application/scrapbook.scrap.json+json": {
       "data": 4.1844377998781965,
       "encoder": "json",
       "name": "ABC-GAN Model 3 Euclidean distance",
       "version": 1
      }
     },
     "metadata": {
      "scrapbook": {
       "data": true,
       "display": false,
       "name": "ABC-GAN Model 3 Euclidean distance"
      }
     },
     "output_type": "display_data"
    },
    {
     "data": {
      "application/scrapbook.scrap.json+json": {
       "data": [
        [
         0.1789996864899647,
         0.16958331053789988,
         0.17605212348352284,
         0.17063864357411931,
         0.17022472972593747,
         0.1680887103951492,
         0.17453266599318043,
         0.172592755295224,
         0.17093255507858515,
         0.17268438455984914,
         0.17016459761350305,
         0.1667271528642119,
         0.17589144107932064,
         0.16660987520553325,
         0.16745042889617182,
         0.17420836611471954,
         0.17655728653560107,
         0.17482467171118737,
         0.16644822141486376,
         0.17436731400496594,
         0.17159338201362234,
         0.16861469645429278,
         0.16911730747736753,
         0.17422193089642396,
         0.17230472374022085,
         0.1805395837643872,
         0.1701906035804105,
         0.1715972839187983,
         0.17892983035748916,
         0.18202481700703954,
         0.16350335137424934,
         0.16798825809095458,
         0.16523178607529382,
         0.1710448557582736,
         0.17834377537124715,
         0.1675223663289688,
         0.1649414264777139,
         0.17657162105993962,
         0.17243211108973042,
         0.17300924316990937,
         0.16898191059076886,
         0.16884542370983333,
         0.1750262988164631,
         0.1653762964214996,
         0.17808042994738582,
         0.16753252532766771,
         0.169360257445635,
         0.1689925348455026,
         0.1689917520616462,
         0.17155560486562493,
         0.16553302085548907,
         0.1718359788170438,
         0.16910505939064915,
         0.16757434680847966,
         0.17253252072857161,
         0.17711612180735073,
         0.16413593933649742,
         0.16633664316469343,
         0.17180320101194874,
         0.16998538973787528,
         0.17003901482745915,
         0.17386312121820643,
         0.16985701759215413,
         0.1764835341572453,
         0.1749889650036059,
         0.1725087048796341,
         0.1683964475587515,
         0.1647015888883415,
         0.1751740918007567,
         0.17587568429323797,
         0.1727250636273242,
         0.17603040692525496,
         0.17776889982332775,
         0.16870768282404566,
         0.17456891701168276,
         0.17497390964681858,
         0.17725236880203896,
         0.17096635693316056,
         0.16667560805951737,
         0.17141768461155973,
         0.17181307586097566,
         0.16764720627627672,
         0.1706937404237283,
         0.1723404458634883,
         0.17367556359234634,
         0.17161169496945608,
         0.1745984274241242,
         0.16704794883026358,
         0.16943393422931247,
         0.17343835592418724,
         0.17260860807166423,
         0.17321820907601165,
         0.17149690243055613,
         0.17569749300782103,
         0.16617096067668538,
         0.17717409133346024,
         0.1658238411093161,
         0.17576907991997412,
         0.17654315416989302,
         0.1727445352256796
        ],
        [
         0.29535030007508456,
         0.2828507302328944,
         0.29220171244449766,
         0.28514424560810714,
         0.2922793249485503,
         0.28087462719493345,
         0.29063008175980226,
         0.28689493221577766,
         0.2831202687138655,
         0.28703230857739553,
         0.2869864109556611,
         0.2827853771319211,
         0.2917674923516518,
         0.27983418093336854,
         0.28448281485550836,
         0.28832617581036746,
         0.2964492484415863,
         0.2912756436979215,
         0.2829286351745181,
         0.2906416830351101,
         0.2870678856110602,
         0.28392785778908314,
         0.283550835091292,
         0.28861921016747755,
         0.290497785808482,
         0.29570789699095723,
         0.2838338038190177,
         0.28468197568630177,
         0.29214762152154367,
         0.2975295506801237,
         0.27370933341958065,
         0.2802140242602749,
         0.28283380732561153,
         0.28555275564648064,
         0.29676479103007153,
         0.2798037440607361,
         0.2774309227699597,
         0.28864981795149836,
         0.2889689954600352,
         0.29037161012563634,
         0.2840051368225877,
         0.28778945264753464,
         0.2894387579632594,
         0.278757518604763,
         0.2925055381641084,
         0.2811209708178306,
         0.2842871316014698,
         0.2881736138415541,
         0.28952945419130666,
         0.2903458427035195,
         0.2771361258027016,
         0.2860799920927806,
         0.28336595350365135,
         0.2831483884764762,
         0.2873946483173937,
         0.29305522323713873,
         0.2755952155509708,
         0.2810262051027487,
         0.28503943180811464,
         0.28211479077992196,
         0.2828743839179914,
         0.29118632617424806,
         0.2870262137650713,
         0.2911889325809099,
         0.2948646681547603,
         0.2894965958936761,
         0.28442534529969243,
         0.28107200658825393,
         0.28828928419662747,
         0.2904039021380538,
         0.29035169716157455,
         0.28757032824168893,
         0.2966048112230412,
         0.28448741062197325,
         0.2925474891968656,
         0.2926664033073786,
         0.2920181170544204,
         0.28213745982879224,
         0.2817367864681371,
         0.28300653524952485,
         0.287261955850922,
         0.28288715534533065,
         0.28855057596685546,
         0.283124772249721,
         0.2892982760973859,
         0.2893176011503765,
         0.2903372432817431,
         0.2803664819300905,
         0.2880449668759955,
         0.2894060082286231,
         0.28979250928387046,
         0.28804589104016914,
         0.2871492133548885,
         0.2910119465588793,
         0.2807637225361724,
         0.2911121377118808,
         0.2824449816298689,
         0.29208220867440104,
         0.29047622791874933,
         0.287684207718235
        ],
        [
         30.125730607658625,
         28.85077448375523,
         29.804574669338763,
         29.084713052026927,
         29.81249114475213,
         28.64921197388321,
         29.64426833949983,
         29.263283086009324,
         28.87826740881428,
         29.277295474894345,
         29.27261391747743,
         28.844108467455953,
         29.76028421986848,
         28.543086455203593,
         29.017247115261853,
         29.40926993265748,
         30.237823341041803,
         29.710115657188,
         28.85872078780085,
         29.645451669581234,
         29.28092433232814,
         28.96064149448648,
         28.922185179311782,
         29.439159437082708,
         29.630774152465165,
         30.162205493077636,
         28.951047989539802,
         29.037561520002782,
         29.79905739519745,
         30.348014169372618,
         27.91835200879723,
         28.581830474548042,
         28.849048347212374,
         29.126381075941026,
         30.270008685067296,
         28.53998189419508,
         28.297954122535884,
         29.442281431052834,
         29.474837536923587,
         29.617904232814908,
         28.968523955903947,
         29.354524170048535,
         29.522753312252462,
         28.433266897685826,
         29.835564892739058,
         28.674339023418725,
         28.997287423349917,
         29.39370861183852,
         29.532004327513278,
         29.61527595575899,
         28.267884831875563,
         29.180159193463624,
         28.90332725737244,
         28.881135624600574,
         29.31425412837416,
         29.891632770188153,
         28.11071198619902,
         28.66467292048037,
         29.074022044427693,
         28.775708659552038,
         28.853187159635127,
         29.701005269773304,
         29.276673804037273,
         29.70127112325281,
         30.076196151785553,
         29.52865278115496,
         29.011385220568627,
         28.6693446720019,
         29.405506988056004,
         29.621198018081486,
         29.615873110480607,
         29.332173480652273,
         30.2536907447502,
         29.01771588344127,
         29.83984389808029,
         29.851973137352616,
         29.785847939550877,
         28.77802090253681,
         28.737152219749987,
         28.866666595451534,
         29.300719496794045,
         28.854489845223725,
         29.43215874861926,
         28.87872676947154,
         29.508424161933362,
         29.510395317338407,
         29.614398814737797,
         28.597381156869233,
         29.38058662135154,
         29.519412839319557,
         29.558835946954787,
         29.380680886097252,
         29.289219762198627,
         29.683218549005687,
         28.63789969868958,
         29.693438046611845,
         28.80938812624663,
         29.792385284788907,
         29.628575247712433,
         29.343789187259972
        ],
        [
         4.272934357321254,
         4.15902604883232,
         4.237607414015523,
         4.171946984869316,
         4.1668840195097365,
         4.1406579743206535,
         4.21928097325888,
         4.195767038351015,
         4.175538362656447,
         4.196880654141194,
         4.16614797583779,
         4.1238537306928835,
         4.235673144860294,
         4.122403094187224,
         4.132788858314628,
         4.215359218821259,
         4.243682743400042,
         4.222809078627769,
         4.1204027211325,
         4.2172818293904095,
         4.183601912872384,
         4.14713142284373,
         4.153307761615009,
         4.215523330671441,
         4.1922645218905865,
         4.291274582681408,
         4.166466316340728,
         4.183649478591321,
         4.272100501681098,
         4.308889803037208,
         4.083790131749358,
         4.139420530131888,
         4.105318767121497,
         4.176909777256855,
         4.265098485131054,
         4.13367649502895,
         4.101710070291027,
         4.243855010260582,
         4.193813936162702,
         4.200826442895583,
         4.1516448403323745,
         4.149967857514439,
         4.225243481656321,
         4.107113613596896,
         4.261948363675157,
         4.133801831658372,
         4.156289963351302,
         4.151775349683707,
         4.151765734032678,
         4.18314136699846,
         4.109059275218585,
         4.186558233124014,
         4.153157360111245,
         4.13431776408937,
         4.1950348168178895,
         4.250393443476706,
         4.091682516071199,
         4.119021437525997,
         4.186158919966938,
         4.163953620450554,
         4.16461036741744,
         4.2111801628827354,
         4.162381024654005,
         4.242796304801706,
         4.224792826916818,
         4.194745272090151,
         4.144446603708708,
         4.098726883632383,
         4.227027012413946,
         4.235483419624054,
         4.1973749522751795,
         4.237346045153264,
         4.258218850878783,
         4.148274779718992,
         4.219719129893794,
         4.224611080794952,
         4.2520279417952995,
         4.175951197892808,
         4.123216223055828,
         4.181459533509693,
         4.186279223585009,
         4.135216444175592,
         4.1726204623977345,
         4.192699068389693,
         4.208908110949837,
         4.1838251501328925,
         4.2200757809855345,
         4.127819131295226,
         4.157193920349383,
         4.206032846313387,
         4.195959726130572,
         4.203362621253749,
         4.182425617738674,
         4.233337251719704,
         4.116969515192201,
         4.251088956492553,
         4.112667235888438,
         4.234199588096594,
         4.243512899159032,
         4.197611534315594
        ]
       ],
       "encoder": "json",
       "name": "ABC_GAN_3 Metrics",
       "version": 1
      }
     },
     "metadata": {
      "scrapbook": {
       "data": true,
       "display": false,
       "name": "ABC_GAN_3 Metrics"
      }
     },
     "output_type": "display_data"
    },
    {
     "name": "stdout",
     "output_type": "stream",
     "text": [
      "MSE\n",
      "0.17168525467169812\n"
     ]
    }
   ],
   "source": [
    "ABC_GAN3_metrics=ABC_train_test2.test_generator(gen3,test_data,prior_model,variance,bias,\"3\",device)\n",
    "sb.glue(\"ABC_GAN_3 Metrics\",ABC_GAN3_metrics)\n",
    "\n",
    "print(\"MSE\")\n",
    "print(mean(ABC_GAN3_metrics[0]))"
   ]
  },
  {
   "cell_type": "code",
   "execution_count": 18,
   "id": "c8e46b48",
   "metadata": {
    "execution": {
     "iopub.execute_input": "2022-06-12T05:43:56.895834Z",
     "iopub.status.busy": "2022-06-12T05:43:56.895461Z",
     "iopub.status.idle": "2022-06-12T05:43:57.214225Z",
     "shell.execute_reply": "2022-06-12T05:43:57.214516Z"
    },
    "id": "c8e46b48",
    "papermill": {
     "duration": 0.33868,
     "end_time": "2022-06-12T05:43:57.214665",
     "exception": false,
     "start_time": "2022-06-12T05:43:56.875985",
     "status": "completed"
    },
    "tags": []
   },
   "outputs": [
    {
     "data": {
      "image/png": "[encoded data removed]",
      "text/plain": [
       "<Figure size 432x288 with 1 Axes>"
      ]
     },
     "metadata": {
      "needs_background": "light"
     },
     "output_type": "display_data"
    },
    {
     "data": {
      "image/png": "[encoded data removed]",
      "text/plain": [
       "<Figure size 432x288 with 1 Axes>"
      ]
     },
     "metadata": {
      "needs_background": "light"
     },
     "output_type": "display_data"
    },
    {
     "data": {
      "image/png": "[encoded data removed]",
      "text/plain": [
       "<Figure size 432x288 with 1 Axes>"
      ]
     },
     "metadata": {
      "needs_background": "light"
     },
     "output_type": "display_data"
    },
    {
     "data": {
      "image/png": "[encoded data removed]",
      "text/plain": [
       "<Figure size 432x288 with 1 Axes>"
      ]
     },
     "metadata": {
      "needs_background": "light"
     },
     "output_type": "display_data"
    }
   ],
   "source": [
    "sanityChecks.discProbVsError(train_data,disc3,device)\n",
    "sanityChecks.discProbVsError(test_data,disc3,device)"
   ]
  },
  {
   "cell_type": "markdown",
   "id": "a5bd74c3",
   "metadata": {
    "id": "a5bd74c3",
    "papermill": {
     "duration": 0.019415,
     "end_time": "2022-06-12T05:43:57.254230",
     "exception": false,
     "start_time": "2022-06-12T05:43:57.234815",
     "status": "completed"
    },
    "tags": []
   },
   "source": [
    "## Skip Connection Model Analysis - ABC-GAN "
   ]
  },
  {
   "cell_type": "markdown",
   "id": "5744a8bf",
   "metadata": {
    "id": "5744a8bf",
    "papermill": {
     "duration": 0.019273,
     "end_time": "2022-06-12T05:43:57.292901",
     "exception": false,
     "start_time": "2022-06-12T05:43:57.273628",
     "status": "completed"
    },
    "tags": []
   },
   "source": [
    "### Weight Analysis \n",
    "\n",
    "Study the weights of the skip connection layer\n",
    "\n",
    "Equation of the skip connection is \n",
    "\n",
    "$output = y_{gan} * w + y_{abc} * (1-w)$"
   ]
  },
  {
   "cell_type": "code",
   "execution_count": 19,
   "id": "52c31dea",
   "metadata": {
    "execution": {
     "iopub.execute_input": "2022-06-12T05:43:57.334536Z",
     "iopub.status.busy": "2022-06-12T05:43:57.334157Z",
     "iopub.status.idle": "2022-06-12T05:43:57.337589Z",
     "shell.execute_reply": "2022-06-12T05:43:57.337836Z"
    },
    "id": "52c31dea",
    "papermill": {
     "duration": 0.025752,
     "end_time": "2022-06-12T05:43:57.337947",
     "exception": false,
     "start_time": "2022-06-12T05:43:57.312195",
     "status": "completed"
    },
    "tags": []
   },
   "outputs": [
    {
     "name": "stdout",
     "output_type": "stream",
     "text": [
      "Weight of the node at skip connection\n",
      "Parameter containing:\n",
      "tensor([[0.9070]], requires_grad=True)\n"
     ]
    },
    {
     "data": {
      "application/scrapbook.scrap.json+json": {
       "data": 0.9069676399230957,
       "encoder": "json",
       "name": "Skip Connection Weight",
       "version": 1
      }
     },
     "metadata": {
      "scrapbook": {
       "data": true,
       "display": false,
       "name": "Skip Connection Weight"
      }
     },
     "output_type": "display_data"
    }
   ],
   "source": [
    "print(\"Weight of the node at skip connection\")\n",
    "for name,param in gen3.named_parameters():\n",
    "    if(name == \"skipNode.weight\"):\n",
    "        print(param)\n",
    "        sb.glue(\"Skip Connection Weight\",param.item())"
   ]
  }
 ],
 "metadata": {
  "colab": {
   "collapsed_sections": [],
   "name": "ABC_GAN_Model-Catboost_Pre-gen.ipynb",
   "provenance": []
  },
  "interpreter": {
   "hash": "31f2aee4e71d21fbe5cf8b01ff0e069b9275f58929596ceb00d14d90e3e16cd6"
  },
  "kernelspec": {
   "display_name": "Python 3 (ipykernel)",
   "language": "python",
   "name": "python3"
  },
  "language_info": {
   "codemirror_mode": {
    "name": "ipython",
    "version": 3
   },
   "file_extension": ".py",
   "mimetype": "text/x-python",
   "name": "python",
   "nbconvert_exporter": "python",
   "pygments_lexer": "ipython3",
   "version": "3.8.11"
  },
  "papermill": {
   "default_parameters": {},
   "duration": 238.786484,
   "end_time": "2022-06-12T05:43:57.668907",
   "environment_variables": {},
   "exception": null,
   "input_path": "ABC_GAN-Catboost.ipynb",
   "output_path": "./ABC_GAN_Catboost/ABC-GAN_output_6_3.ipynb",
   "parameters": {
    "bias": 0.1,
    "variance": 1
   },
   "start_time": "2022-06-12T05:39:58.882423",
   "version": "2.3.3"
  }
 },
 "nbformat": 4,
 "nbformat_minor": 5
}