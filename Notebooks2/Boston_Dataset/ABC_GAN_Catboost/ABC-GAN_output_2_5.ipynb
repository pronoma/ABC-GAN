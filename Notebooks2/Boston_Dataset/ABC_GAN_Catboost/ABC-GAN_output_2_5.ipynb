{
 "cells": [
  {
   "cell_type": "markdown",
   "id": "622780e6",
   "metadata": {
    "id": "622780e6",
    "papermill": {
     "duration": 0.016311,
     "end_time": "2022-06-11T17:21:17.412866",
     "exception": false,
     "start_time": "2022-06-11T17:21:17.396555",
     "status": "completed"
    },
    "tags": []
   },
   "source": [
    "## Import Libraries "
   ]
  },
  {
   "cell_type": "code",
   "execution_count": 1,
   "id": "a62397e3",
   "metadata": {
    "execution": {
     "iopub.execute_input": "2022-06-11T17:21:17.442606Z",
     "iopub.status.busy": "2022-06-11T17:21:17.442129Z",
     "iopub.status.idle": "2022-06-11T17:21:17.444601Z",
     "shell.execute_reply": "2022-06-11T17:21:17.444928Z"
    },
    "id": "a62397e3",
    "papermill": {
     "duration": 0.019832,
     "end_time": "2022-06-11T17:21:17.445141",
     "exception": false,
     "start_time": "2022-06-11T17:21:17.425309",
     "status": "completed"
    },
    "tags": []
   },
   "outputs": [],
   "source": [
    "import warnings\n",
    "import sys\n",
    "sys.path.insert(0, '../../src')\n",
    "warnings.filterwarnings('ignore')"
   ]
  },
  {
   "cell_type": "code",
   "execution_count": 2,
   "id": "d6a4e155",
   "metadata": {
    "execution": {
     "iopub.execute_input": "2022-06-11T17:21:17.464365Z",
     "iopub.status.busy": "2022-06-11T17:21:17.463970Z",
     "iopub.status.idle": "2022-06-11T17:21:19.124375Z",
     "shell.execute_reply": "2022-06-11T17:21:19.124635Z"
    },
    "id": "d6a4e155",
    "papermill": {
     "duration": 1.670867,
     "end_time": "2022-06-11T17:21:19.124757",
     "exception": false,
     "start_time": "2022-06-11T17:21:17.453890",
     "status": "completed"
    },
    "tags": []
   },
   "outputs": [],
   "source": [
    "import ABC_train_test2\n",
    "import bostonDataset\n",
    "import network\n",
    "import dataset\n",
    "import sanityChecks\n",
    "import torch \n",
    "import scrapbook as sb\n",
    "from statistics import mean \n",
    "import catboost as ctb \n",
    "from sklearn.model_selection import train_test_split\n",
    "from sklearn.metrics import mean_squared_error,mean_absolute_error\n",
    "import numpy as np"
   ]
  },
  {
   "cell_type": "markdown",
   "id": "2fa5b0f7",
   "metadata": {
    "id": "2fa5b0f7",
    "papermill": {
     "duration": 0.007172,
     "end_time": "2022-06-11T17:21:19.139088",
     "exception": false,
     "start_time": "2022-06-11T17:21:19.131916",
     "status": "completed"
    },
    "tags": []
   },
   "source": [
    "## Parameters "
   ]
  },
  {
   "cell_type": "code",
   "execution_count": 3,
   "id": "783186fb",
   "metadata": {
    "execution": {
     "iopub.execute_input": "2022-06-11T17:21:19.155314Z",
     "iopub.status.busy": "2022-06-11T17:21:19.154871Z",
     "iopub.status.idle": "2022-06-11T17:21:19.155959Z",
     "shell.execute_reply": "2022-06-11T17:21:19.156215Z"
    },
    "id": "783186fb",
    "papermill": {
     "duration": 0.010402,
     "end_time": "2022-06-11T17:21:19.156330",
     "exception": false,
     "start_time": "2022-06-11T17:21:19.145928",
     "status": "completed"
    },
    "tags": [
     "parameters"
    ]
   },
   "outputs": [],
   "source": [
    "variance = 1\n",
    "bias = 1 "
   ]
  },
  {
   "cell_type": "code",
   "execution_count": 4,
   "id": "9cb34aae",
   "metadata": {
    "execution": {
     "iopub.execute_input": "2022-06-11T17:21:19.172024Z",
     "iopub.status.busy": "2022-06-11T17:21:19.171660Z",
     "iopub.status.idle": "2022-06-11T17:21:19.173100Z",
     "shell.execute_reply": "2022-06-11T17:21:19.173348Z"
    },
    "papermill": {
     "duration": 0.01016,
     "end_time": "2022-06-11T17:21:19.173456",
     "exception": false,
     "start_time": "2022-06-11T17:21:19.163296",
     "status": "completed"
    },
    "tags": [
     "injected-parameters"
    ]
   },
   "outputs": [],
   "source": [
    "# Parameters\n",
    "variance = 0.01\n",
    "bias = 0.1\n"
   ]
  },
  {
   "cell_type": "markdown",
   "id": "391cdbfd",
   "metadata": {
    "id": "391cdbfd",
    "papermill": {
     "duration": 0.006813,
     "end_time": "2022-06-11T17:21:19.187234",
     "exception": false,
     "start_time": "2022-06-11T17:21:19.180421",
     "status": "completed"
    },
    "tags": []
   },
   "source": [
    "## Dataset \n"
   ]
  },
  {
   "cell_type": "code",
   "execution_count": 5,
   "id": "5b51f161",
   "metadata": {
    "execution": {
     "iopub.execute_input": "2022-06-11T17:21:19.202855Z",
     "iopub.status.busy": "2022-06-11T17:21:19.202496Z",
     "iopub.status.idle": "2022-06-11T17:21:19.203849Z",
     "shell.execute_reply": "2022-06-11T17:21:19.204078Z"
    },
    "id": "5b51f161",
    "papermill": {
     "duration": 0.010077,
     "end_time": "2022-06-11T17:21:19.204180",
     "exception": false,
     "start_time": "2022-06-11T17:21:19.194103",
     "status": "completed"
    },
    "tags": []
   },
   "outputs": [],
   "source": [
    "#Parameters \n",
    "n_features = 13\n",
    "n_samples= 506\n",
    "n_target = 1 "
   ]
  },
  {
   "cell_type": "code",
   "execution_count": 6,
   "id": "5d6eced4",
   "metadata": {
    "execution": {
     "iopub.execute_input": "2022-06-11T17:21:19.219706Z",
     "iopub.status.busy": "2022-06-11T17:21:19.219360Z",
     "iopub.status.idle": "2022-06-11T17:21:19.229572Z",
     "shell.execute_reply": "2022-06-11T17:21:19.229801Z"
    },
    "id": "5d6eced4",
    "papermill": {
     "duration": 0.018817,
     "end_time": "2022-06-11T17:21:19.229905",
     "exception": false,
     "start_time": "2022-06-11T17:21:19.211088",
     "status": "completed"
    },
    "tags": []
   },
   "outputs": [
    {
     "name": "stdout",
     "output_type": "stream",
     "text": [
      "         X1        X2        X3        X4        X5        X6        X7  \\\n",
      "0 -0.419782  0.284830 -1.287909 -0.272599 -0.144217  0.413672 -0.120013   \n",
      "1 -0.417339 -0.487722 -0.593381 -0.272599 -0.740262  0.194274  0.367166   \n",
      "2 -0.417342 -0.487722 -0.593381 -0.272599 -0.740262  1.282714 -0.265812   \n",
      "3 -0.416750 -0.487722 -1.306878 -0.272599 -0.835284  1.016303 -0.809889   \n",
      "4 -0.412482 -0.487722 -1.306878 -0.272599 -0.835284  1.228577 -0.511180   \n",
      "\n",
      "         X8        X9       X10       X11       X12       X13         Y  \n",
      "0  0.140214 -0.982843 -0.666608 -1.459000  0.441052 -1.075562  0.159686  \n",
      "1  0.557160 -0.867883 -0.987329 -0.303094  0.441052 -0.492439 -0.101524  \n",
      "2  0.557160 -0.867883 -0.987329 -0.303094  0.396427 -1.208727  1.324247  \n",
      "3  1.077737 -0.752922 -1.106115  0.113032  0.416163 -1.361517  1.182758  \n",
      "4  1.077737 -0.752922 -1.106115  0.113032  0.441052 -1.026501  1.487503  \n"
     ]
    }
   ],
   "source": [
    "X,Y = bostonDataset.boston_data()"
   ]
  },
  {
   "cell_type": "code",
   "execution_count": 7,
   "id": "fe007438",
   "metadata": {
    "execution": {
     "iopub.execute_input": "2022-06-11T17:21:19.247614Z",
     "iopub.status.busy": "2022-06-11T17:21:19.247249Z",
     "iopub.status.idle": "2022-06-11T17:21:19.248590Z",
     "shell.execute_reply": "2022-06-11T17:21:19.248837Z"
    },
    "id": "fe007438",
    "papermill": {
     "duration": 0.011842,
     "end_time": "2022-06-11T17:21:19.248951",
     "exception": false,
     "start_time": "2022-06-11T17:21:19.237109",
     "status": "completed"
    },
    "tags": []
   },
   "outputs": [],
   "source": [
    "#Train test split for dataset \n",
    "X_train,X_test,Y_train,Y_test = train_test_split(X,Y,test_size = 0.2)\n",
    "train_data = dataset.CustomDataset(X_train,Y_train)\n",
    "test_data = dataset.CustomDataset(X_test,Y_test)\n"
   ]
  },
  {
   "cell_type": "markdown",
   "id": "a9a1af34",
   "metadata": {
    "id": "a9a1af34",
    "papermill": {
     "duration": 0.007165,
     "end_time": "2022-06-11T17:21:19.263547",
     "exception": false,
     "start_time": "2022-06-11T17:21:19.256382",
     "status": "completed"
    },
    "tags": []
   },
   "source": [
    "## Training Parameters "
   ]
  },
  {
   "cell_type": "code",
   "execution_count": 8,
   "id": "952b7fc8",
   "metadata": {
    "execution": {
     "iopub.execute_input": "2022-06-11T17:21:19.280199Z",
     "iopub.status.busy": "2022-06-11T17:21:19.279832Z",
     "iopub.status.idle": "2022-06-11T17:21:19.281340Z",
     "shell.execute_reply": "2022-06-11T17:21:19.281584Z"
    },
    "id": "952b7fc8",
    "papermill": {
     "duration": 0.010998,
     "end_time": "2022-06-11T17:21:19.281691",
     "exception": false,
     "start_time": "2022-06-11T17:21:19.270693",
     "status": "completed"
    },
    "tags": []
   },
   "outputs": [],
   "source": [
    "batch_size = 32\n",
    "n_epochs = 1000\n",
    "#Select the device \n",
    "device = torch.device('cuda' if torch.cuda.is_available() else 'cpu')"
   ]
  },
  {
   "cell_type": "markdown",
   "id": "a95e1600",
   "metadata": {
    "id": "a95e1600",
    "papermill": {
     "duration": 0.007031,
     "end_time": "2022-06-11T17:21:19.295922",
     "exception": false,
     "start_time": "2022-06-11T17:21:19.288891",
     "status": "completed"
    },
    "tags": []
   },
   "source": [
    "# ABC Pre-generator Model \n",
    "\n",
    "1. The catboost model is used as a pre-generator model for the ABC-GAN. \n",
    "2. The model is first trained on the entire dataset \n",
    "3. It generats X,Y pairs and we add some Gaussian noise with mean 0 and variance 1 to it which is then feed as input to the generator.\n"
   ]
  },
  {
   "cell_type": "code",
   "execution_count": 9,
   "id": "ff8ce7bd",
   "metadata": {
    "execution": {
     "iopub.execute_input": "2022-06-11T17:21:19.314950Z",
     "iopub.status.busy": "2022-06-11T17:21:19.314577Z",
     "iopub.status.idle": "2022-06-11T17:21:20.371986Z",
     "shell.execute_reply": "2022-06-11T17:21:20.372287Z"
    },
    "id": "ff8ce7bd",
    "papermill": {
     "duration": 1.069329,
     "end_time": "2022-06-11T17:21:20.372406",
     "exception": false,
     "start_time": "2022-06-11T17:21:19.303077",
     "status": "completed"
    },
    "tags": []
   },
   "outputs": [
    {
     "name": "stdout",
     "output_type": "stream",
     "text": [
      "Learning rate set to 0.033215\n",
      "0:\tlearn: 0.9774833\ttotal: 70.1ms\tremaining: 1m 10s\n",
      "1:\tlearn: 0.9576200\ttotal: 71.3ms\tremaining: 35.6s\n",
      "2:\tlearn: 0.9376674\ttotal: 72.4ms\tremaining: 24.1s\n",
      "3:\tlearn: 0.9236518\ttotal: 73.6ms\tremaining: 18.3s\n",
      "4:\tlearn: 0.9067084\ttotal: 74.7ms\tremaining: 14.9s\n",
      "5:\tlearn: 0.8932820\ttotal: 75.8ms\tremaining: 12.5s\n",
      "6:\tlearn: 0.8777116\ttotal: 76.8ms\tremaining: 10.9s\n",
      "7:\tlearn: 0.8615005\ttotal: 77.8ms\tremaining: 9.65s\n",
      "8:\tlearn: 0.8455168\ttotal: 79ms\tremaining: 8.69s\n",
      "9:\tlearn: 0.8296404\ttotal: 80ms\tremaining: 7.92s\n",
      "10:\tlearn: 0.8158022\ttotal: 81ms\tremaining: 7.28s\n",
      "11:\tlearn: 0.8023968\ttotal: 81.9ms\tremaining: 6.75s\n",
      "12:\tlearn: 0.7885385\ttotal: 82.9ms\tremaining: 6.3s\n",
      "13:\tlearn: 0.7743884\ttotal: 83.8ms\tremaining: 5.91s\n",
      "14:\tlearn: 0.7612220\ttotal: 84.9ms\tremaining: 5.57s\n",
      "15:\tlearn: 0.7479750\ttotal: 85.9ms\tremaining: 5.28s\n",
      "16:\tlearn: 0.7350304\ttotal: 86.8ms\tremaining: 5.02s\n",
      "17:\tlearn: 0.7222950\ttotal: 87.6ms\tremaining: 4.78s\n",
      "18:\tlearn: 0.7103547\ttotal: 88.5ms\tremaining: 4.57s\n",
      "19:\tlearn: 0.6985174\ttotal: 89.4ms\tremaining: 4.38s\n",
      "20:\tlearn: 0.6857340\ttotal: 90.3ms\tremaining: 4.21s\n",
      "21:\tlearn: 0.6740620\ttotal: 91.1ms\tremaining: 4.05s\n",
      "22:\tlearn: 0.6633547\ttotal: 92ms\tremaining: 3.91s\n",
      "23:\tlearn: 0.6543934\ttotal: 93ms\tremaining: 3.78s\n",
      "24:\tlearn: 0.6451900\ttotal: 93.9ms\tremaining: 3.66s\n",
      "25:\tlearn: 0.6369988\ttotal: 94.7ms\tremaining: 3.55s\n",
      "26:\tlearn: 0.6284538\ttotal: 95.6ms\tremaining: 3.44s\n",
      "27:\tlearn: 0.6191798\ttotal: 96.4ms\tremaining: 3.35s\n",
      "28:\tlearn: 0.6087895\ttotal: 97.2ms\tremaining: 3.25s\n",
      "29:\tlearn: 0.5983184\ttotal: 98ms\tremaining: 3.17s\n",
      "30:\tlearn: 0.5886964\ttotal: 98.9ms\tremaining: 3.09s\n",
      "31:\tlearn: 0.5802668\ttotal: 99.7ms\tremaining: 3.02s\n",
      "32:\tlearn: 0.5724856\ttotal: 101ms\tremaining: 2.95s\n",
      "33:\tlearn: 0.5653142\ttotal: 101ms\tremaining: 2.88s\n",
      "34:\tlearn: 0.5595475\ttotal: 102ms\tremaining: 2.82s\n",
      "35:\tlearn: 0.5524134\ttotal: 103ms\tremaining: 2.76s\n",
      "36:\tlearn: 0.5451149\ttotal: 105ms\tremaining: 2.73s\n",
      "37:\tlearn: 0.5383812\ttotal: 106ms\tremaining: 2.67s\n",
      "38:\tlearn: 0.5315568\ttotal: 107ms\tremaining: 2.63s\n",
      "39:\tlearn: 0.5253423\ttotal: 107ms\tremaining: 2.58s\n"
     ]
    },
    {
     "name": "stdout",
     "output_type": "stream",
     "text": [
      "40:\tlearn: 0.5187743\ttotal: 108ms\tremaining: 2.53s\n",
      "41:\tlearn: 0.5117527\ttotal: 109ms\tremaining: 2.49s\n",
      "42:\tlearn: 0.5064622\ttotal: 110ms\tremaining: 2.45s\n",
      "43:\tlearn: 0.5007865\ttotal: 111ms\tremaining: 2.41s\n",
      "44:\tlearn: 0.4949127\ttotal: 112ms\tremaining: 2.37s\n",
      "45:\tlearn: 0.4882001\ttotal: 113ms\tremaining: 2.34s\n",
      "46:\tlearn: 0.4828637\ttotal: 114ms\tremaining: 2.32s\n",
      "47:\tlearn: 0.4780095\ttotal: 115ms\tremaining: 2.29s\n",
      "48:\tlearn: 0.4726160\ttotal: 116ms\tremaining: 2.25s\n",
      "49:\tlearn: 0.4676850\ttotal: 117ms\tremaining: 2.22s\n",
      "50:\tlearn: 0.4619957\ttotal: 118ms\tremaining: 2.19s\n",
      "51:\tlearn: 0.4580490\ttotal: 118ms\tremaining: 2.16s\n",
      "52:\tlearn: 0.4537270\ttotal: 119ms\tremaining: 2.13s\n",
      "53:\tlearn: 0.4496567\ttotal: 120ms\tremaining: 2.1s\n",
      "54:\tlearn: 0.4456087\ttotal: 121ms\tremaining: 2.08s\n",
      "55:\tlearn: 0.4418311\ttotal: 122ms\tremaining: 2.05s\n",
      "56:\tlearn: 0.4383171\ttotal: 123ms\tremaining: 2.03s\n",
      "57:\tlearn: 0.4332340\ttotal: 123ms\tremaining: 2s\n",
      "58:\tlearn: 0.4291905\ttotal: 124ms\tremaining: 1.98s\n",
      "59:\tlearn: 0.4256003\ttotal: 125ms\tremaining: 1.96s\n",
      "60:\tlearn: 0.4218643\ttotal: 126ms\tremaining: 1.93s\n",
      "61:\tlearn: 0.4179449\ttotal: 126ms\tremaining: 1.91s\n",
      "62:\tlearn: 0.4139897\ttotal: 127ms\tremaining: 1.89s\n",
      "63:\tlearn: 0.4102993\ttotal: 128ms\tremaining: 1.87s\n",
      "64:\tlearn: 0.4064105\ttotal: 129ms\tremaining: 1.85s\n",
      "65:\tlearn: 0.4035353\ttotal: 130ms\tremaining: 1.83s\n",
      "66:\tlearn: 0.3994067\ttotal: 131ms\tremaining: 1.82s\n",
      "67:\tlearn: 0.3957880\ttotal: 132ms\tremaining: 1.8s\n",
      "68:\tlearn: 0.3931467\ttotal: 132ms\tremaining: 1.79s\n",
      "69:\tlearn: 0.3903537\ttotal: 133ms\tremaining: 1.77s\n",
      "70:\tlearn: 0.3867806\ttotal: 134ms\tremaining: 1.75s\n",
      "71:\tlearn: 0.3837848\ttotal: 135ms\tremaining: 1.74s\n",
      "72:\tlearn: 0.3811383\ttotal: 136ms\tremaining: 1.73s\n",
      "73:\tlearn: 0.3781352\ttotal: 137ms\tremaining: 1.72s\n",
      "74:\tlearn: 0.3744890\ttotal: 139ms\tremaining: 1.71s\n",
      "75:\tlearn: 0.3725337\ttotal: 140ms\tremaining: 1.7s\n",
      "76:\tlearn: 0.3699162\ttotal: 140ms\tremaining: 1.68s\n",
      "77:\tlearn: 0.3665570\ttotal: 141ms\tremaining: 1.67s\n",
      "78:\tlearn: 0.3633412\ttotal: 142ms\tremaining: 1.66s\n",
      "79:\tlearn: 0.3610892\ttotal: 143ms\tremaining: 1.64s\n",
      "80:\tlearn: 0.3588973\ttotal: 144ms\tremaining: 1.63s\n",
      "81:\tlearn: 0.3568236\ttotal: 145ms\tremaining: 1.62s\n",
      "82:\tlearn: 0.3548367\ttotal: 145ms\tremaining: 1.61s\n",
      "83:\tlearn: 0.3516326\ttotal: 146ms\tremaining: 1.59s\n",
      "84:\tlearn: 0.3487632\ttotal: 147ms\tremaining: 1.58s\n",
      "85:\tlearn: 0.3462128\ttotal: 148ms\tremaining: 1.57s\n",
      "86:\tlearn: 0.3433834\ttotal: 149ms\tremaining: 1.56s\n",
      "87:\tlearn: 0.3413251\ttotal: 150ms\tremaining: 1.55s\n",
      "88:\tlearn: 0.3399241\ttotal: 151ms\tremaining: 1.54s\n",
      "89:\tlearn: 0.3375165\ttotal: 152ms\tremaining: 1.53s\n",
      "90:\tlearn: 0.3357859\ttotal: 152ms\tremaining: 1.52s\n",
      "91:\tlearn: 0.3334455\ttotal: 153ms\tremaining: 1.51s\n",
      "92:\tlearn: 0.3317613\ttotal: 154ms\tremaining: 1.5s\n",
      "93:\tlearn: 0.3290639\ttotal: 155ms\tremaining: 1.49s\n",
      "94:\tlearn: 0.3270307\ttotal: 156ms\tremaining: 1.49s\n",
      "95:\tlearn: 0.3256619\ttotal: 157ms\tremaining: 1.48s\n",
      "96:\tlearn: 0.3238440\ttotal: 158ms\tremaining: 1.47s\n",
      "97:\tlearn: 0.3221043\ttotal: 158ms\tremaining: 1.46s\n",
      "98:\tlearn: 0.3202693\ttotal: 159ms\tremaining: 1.45s\n",
      "99:\tlearn: 0.3187833\ttotal: 160ms\tremaining: 1.44s\n",
      "100:\tlearn: 0.3169180\ttotal: 161ms\tremaining: 1.43s\n",
      "101:\tlearn: 0.3152628\ttotal: 162ms\tremaining: 1.42s\n",
      "102:\tlearn: 0.3137516\ttotal: 163ms\tremaining: 1.42s\n",
      "103:\tlearn: 0.3121156\ttotal: 164ms\tremaining: 1.41s\n",
      "104:\tlearn: 0.3098634\ttotal: 164ms\tremaining: 1.4s\n",
      "105:\tlearn: 0.3085894\ttotal: 165ms\tremaining: 1.39s\n",
      "106:\tlearn: 0.3070216\ttotal: 166ms\tremaining: 1.39s\n",
      "107:\tlearn: 0.3055166\ttotal: 167ms\tremaining: 1.38s\n",
      "108:\tlearn: 0.3042317\ttotal: 168ms\tremaining: 1.37s\n",
      "109:\tlearn: 0.3027239\ttotal: 169ms\tremaining: 1.37s\n",
      "110:\tlearn: 0.3007478\ttotal: 170ms\tremaining: 1.36s\n",
      "111:\tlearn: 0.2990193\ttotal: 171ms\tremaining: 1.35s\n",
      "112:\tlearn: 0.2975516\ttotal: 172ms\tremaining: 1.35s\n",
      "113:\tlearn: 0.2963676\ttotal: 172ms\tremaining: 1.34s\n",
      "114:\tlearn: 0.2953554\ttotal: 173ms\tremaining: 1.33s\n",
      "115:\tlearn: 0.2935703\ttotal: 174ms\tremaining: 1.33s\n",
      "116:\tlearn: 0.2925358\ttotal: 175ms\tremaining: 1.32s\n",
      "117:\tlearn: 0.2913114\ttotal: 176ms\tremaining: 1.31s\n",
      "118:\tlearn: 0.2898784\ttotal: 177ms\tremaining: 1.31s\n",
      "119:\tlearn: 0.2890608\ttotal: 178ms\tremaining: 1.3s\n",
      "120:\tlearn: 0.2875070\ttotal: 179ms\tremaining: 1.3s\n",
      "121:\tlearn: 0.2866790\ttotal: 179ms\tremaining: 1.29s\n",
      "122:\tlearn: 0.2851799\ttotal: 180ms\tremaining: 1.28s\n",
      "123:\tlearn: 0.2842932\ttotal: 181ms\tremaining: 1.28s\n",
      "124:\tlearn: 0.2833676\ttotal: 182ms\tremaining: 1.27s\n",
      "125:\tlearn: 0.2823656\ttotal: 183ms\tremaining: 1.27s\n",
      "126:\tlearn: 0.2813571\ttotal: 184ms\tremaining: 1.26s\n",
      "127:\tlearn: 0.2802221\ttotal: 185ms\tremaining: 1.26s\n",
      "128:\tlearn: 0.2791377\ttotal: 186ms\tremaining: 1.25s\n",
      "129:\tlearn: 0.2775103\ttotal: 187ms\tremaining: 1.25s\n",
      "130:\tlearn: 0.2763069\ttotal: 188ms\tremaining: 1.24s\n",
      "131:\tlearn: 0.2753018\ttotal: 188ms\tremaining: 1.24s\n",
      "132:\tlearn: 0.2741437\ttotal: 189ms\tremaining: 1.23s\n",
      "133:\tlearn: 0.2732629\ttotal: 191ms\tremaining: 1.23s\n",
      "134:\tlearn: 0.2718033\ttotal: 192ms\tremaining: 1.23s\n"
     ]
    },
    {
     "name": "stdout",
     "output_type": "stream",
     "text": [
      "135:\tlearn: 0.2707127\ttotal: 193ms\tremaining: 1.22s\n",
      "136:\tlearn: 0.2696402\ttotal: 194ms\tremaining: 1.22s\n",
      "137:\tlearn: 0.2685890\ttotal: 195ms\tremaining: 1.22s\n",
      "138:\tlearn: 0.2675951\ttotal: 195ms\tremaining: 1.21s\n",
      "139:\tlearn: 0.2667244\ttotal: 196ms\tremaining: 1.21s\n",
      "140:\tlearn: 0.2656920\ttotal: 197ms\tremaining: 1.2s\n",
      "141:\tlearn: 0.2648846\ttotal: 198ms\tremaining: 1.2s\n",
      "142:\tlearn: 0.2638889\ttotal: 199ms\tremaining: 1.19s\n",
      "143:\tlearn: 0.2632246\ttotal: 200ms\tremaining: 1.19s\n",
      "144:\tlearn: 0.2620809\ttotal: 201ms\tremaining: 1.18s\n",
      "145:\tlearn: 0.2610691\ttotal: 201ms\tremaining: 1.18s\n",
      "146:\tlearn: 0.2602578\ttotal: 202ms\tremaining: 1.17s\n",
      "147:\tlearn: 0.2591918\ttotal: 203ms\tremaining: 1.17s\n",
      "148:\tlearn: 0.2581177\ttotal: 204ms\tremaining: 1.17s\n",
      "149:\tlearn: 0.2573990\ttotal: 205ms\tremaining: 1.16s\n",
      "150:\tlearn: 0.2568268\ttotal: 206ms\tremaining: 1.16s\n",
      "151:\tlearn: 0.2560982\ttotal: 207ms\tremaining: 1.15s\n",
      "152:\tlearn: 0.2551977\ttotal: 208ms\tremaining: 1.15s\n",
      "153:\tlearn: 0.2539627\ttotal: 209ms\tremaining: 1.15s\n",
      "154:\tlearn: 0.2532824\ttotal: 209ms\tremaining: 1.14s\n",
      "155:\tlearn: 0.2525320\ttotal: 210ms\tremaining: 1.14s\n",
      "156:\tlearn: 0.2516614\ttotal: 211ms\tremaining: 1.13s\n",
      "157:\tlearn: 0.2510095\ttotal: 212ms\tremaining: 1.13s\n",
      "158:\tlearn: 0.2500013\ttotal: 213ms\tremaining: 1.13s\n",
      "159:\tlearn: 0.2491396\ttotal: 214ms\tremaining: 1.12s\n",
      "160:\tlearn: 0.2482921\ttotal: 215ms\tremaining: 1.12s\n",
      "161:\tlearn: 0.2475218\ttotal: 216ms\tremaining: 1.12s\n",
      "162:\tlearn: 0.2466799\ttotal: 217ms\tremaining: 1.11s\n",
      "163:\tlearn: 0.2461173\ttotal: 218ms\tremaining: 1.11s\n",
      "164:\tlearn: 0.2454650\ttotal: 218ms\tremaining: 1.1s\n",
      "165:\tlearn: 0.2448886\ttotal: 219ms\tremaining: 1.1s\n",
      "166:\tlearn: 0.2441473\ttotal: 220ms\tremaining: 1.1s\n",
      "167:\tlearn: 0.2434753\ttotal: 221ms\tremaining: 1.09s\n",
      "168:\tlearn: 0.2428612\ttotal: 222ms\tremaining: 1.09s\n",
      "169:\tlearn: 0.2420902\ttotal: 223ms\tremaining: 1.09s\n",
      "170:\tlearn: 0.2414722\ttotal: 224ms\tremaining: 1.08s\n",
      "171:\tlearn: 0.2406685\ttotal: 225ms\tremaining: 1.08s\n",
      "172:\tlearn: 0.2399792\ttotal: 226ms\tremaining: 1.08s\n",
      "173:\tlearn: 0.2389458\ttotal: 227ms\tremaining: 1.08s\n",
      "174:\tlearn: 0.2381835\ttotal: 228ms\tremaining: 1.07s\n",
      "175:\tlearn: 0.2375797\ttotal: 228ms\tremaining: 1.07s\n",
      "176:\tlearn: 0.2366533\ttotal: 229ms\tremaining: 1.07s\n",
      "177:\tlearn: 0.2361753\ttotal: 230ms\tremaining: 1.06s\n",
      "178:\tlearn: 0.2355218\ttotal: 231ms\tremaining: 1.06s\n",
      "179:\tlearn: 0.2348286\ttotal: 232ms\tremaining: 1.06s\n",
      "180:\tlearn: 0.2340516\ttotal: 233ms\tremaining: 1.05s\n",
      "181:\tlearn: 0.2330504\ttotal: 234ms\tremaining: 1.05s\n",
      "182:\tlearn: 0.2325111\ttotal: 235ms\tremaining: 1.05s\n",
      "183:\tlearn: 0.2318684\ttotal: 236ms\tremaining: 1.04s\n",
      "184:\tlearn: 0.2312493\ttotal: 237ms\tremaining: 1.04s\n",
      "185:\tlearn: 0.2307381\ttotal: 237ms\tremaining: 1.04s\n",
      "186:\tlearn: 0.2297135\ttotal: 238ms\tremaining: 1.03s\n",
      "187:\tlearn: 0.2294420\ttotal: 239ms\tremaining: 1.03s\n",
      "188:\tlearn: 0.2287729\ttotal: 240ms\tremaining: 1.03s\n",
      "189:\tlearn: 0.2280920\ttotal: 241ms\tremaining: 1.03s\n",
      "190:\tlearn: 0.2274348\ttotal: 242ms\tremaining: 1.02s\n",
      "191:\tlearn: 0.2266156\ttotal: 243ms\tremaining: 1.02s\n",
      "192:\tlearn: 0.2257361\ttotal: 243ms\tremaining: 1.02s\n",
      "193:\tlearn: 0.2251815\ttotal: 244ms\tremaining: 1.01s\n",
      "194:\tlearn: 0.2247078\ttotal: 245ms\tremaining: 1.01s\n",
      "195:\tlearn: 0.2242495\ttotal: 246ms\tremaining: 1.01s\n",
      "196:\tlearn: 0.2236638\ttotal: 247ms\tremaining: 1.01s\n",
      "197:\tlearn: 0.2229760\ttotal: 248ms\tremaining: 1s\n",
      "198:\tlearn: 0.2222929\ttotal: 249ms\tremaining: 1s\n",
      "199:\tlearn: 0.2216031\ttotal: 250ms\tremaining: 999ms\n",
      "200:\tlearn: 0.2207807\ttotal: 251ms\tremaining: 996ms\n",
      "201:\tlearn: 0.2199954\ttotal: 251ms\tremaining: 993ms\n",
      "202:\tlearn: 0.2194660\ttotal: 252ms\tremaining: 991ms\n",
      "203:\tlearn: 0.2190462\ttotal: 253ms\tremaining: 989ms\n",
      "204:\tlearn: 0.2185030\ttotal: 254ms\tremaining: 986ms\n",
      "205:\tlearn: 0.2177779\ttotal: 255ms\tremaining: 983ms\n",
      "206:\tlearn: 0.2173499\ttotal: 256ms\tremaining: 980ms\n",
      "207:\tlearn: 0.2167863\ttotal: 257ms\tremaining: 978ms\n",
      "208:\tlearn: 0.2163400\ttotal: 258ms\tremaining: 975ms\n",
      "209:\tlearn: 0.2157425\ttotal: 258ms\tremaining: 972ms\n",
      "210:\tlearn: 0.2151544\ttotal: 259ms\tremaining: 969ms\n",
      "211:\tlearn: 0.2144102\ttotal: 260ms\tremaining: 967ms\n",
      "212:\tlearn: 0.2138419\ttotal: 261ms\tremaining: 964ms\n",
      "213:\tlearn: 0.2135368\ttotal: 262ms\tremaining: 962ms\n",
      "214:\tlearn: 0.2130962\ttotal: 263ms\tremaining: 959ms\n",
      "215:\tlearn: 0.2125261\ttotal: 264ms\tremaining: 957ms\n",
      "216:\tlearn: 0.2122048\ttotal: 264ms\tremaining: 954ms\n",
      "217:\tlearn: 0.2116667\ttotal: 265ms\tremaining: 952ms\n",
      "218:\tlearn: 0.2108733\ttotal: 266ms\tremaining: 950ms\n",
      "219:\tlearn: 0.2104078\ttotal: 267ms\tremaining: 947ms\n",
      "220:\tlearn: 0.2096346\ttotal: 268ms\tremaining: 945ms\n",
      "221:\tlearn: 0.2091030\ttotal: 269ms\tremaining: 942ms\n",
      "222:\tlearn: 0.2087056\ttotal: 270ms\tremaining: 940ms\n",
      "223:\tlearn: 0.2078541\ttotal: 271ms\tremaining: 938ms\n",
      "224:\tlearn: 0.2073111\ttotal: 272ms\tremaining: 936ms\n",
      "225:\tlearn: 0.2067653\ttotal: 272ms\tremaining: 933ms\n",
      "226:\tlearn: 0.2059782\ttotal: 273ms\tremaining: 931ms\n",
      "227:\tlearn: 0.2053751\ttotal: 274ms\tremaining: 929ms\n",
      "228:\tlearn: 0.2047400\ttotal: 275ms\tremaining: 927ms\n",
      "229:\tlearn: 0.2044933\ttotal: 276ms\tremaining: 925ms\n",
      "230:\tlearn: 0.2039948\ttotal: 277ms\tremaining: 922ms\n",
      "231:\tlearn: 0.2033091\ttotal: 278ms\tremaining: 921ms\n",
      "232:\tlearn: 0.2027530\ttotal: 279ms\tremaining: 918ms\n",
      "233:\tlearn: 0.2021911\ttotal: 280ms\tremaining: 916ms\n",
      "234:\tlearn: 0.2017482\ttotal: 281ms\tremaining: 914ms\n",
      "235:\tlearn: 0.2013090\ttotal: 282ms\tremaining: 914ms\n",
      "236:\tlearn: 0.2010179\ttotal: 283ms\tremaining: 912ms\n",
      "237:\tlearn: 0.2006445\ttotal: 284ms\tremaining: 910ms\n",
      "238:\tlearn: 0.2001249\ttotal: 285ms\tremaining: 908ms\n",
      "239:\tlearn: 0.1996500\ttotal: 286ms\tremaining: 907ms\n",
      "240:\tlearn: 0.1990239\ttotal: 287ms\tremaining: 905ms\n",
      "241:\tlearn: 0.1986288\ttotal: 289ms\tremaining: 905ms\n",
      "242:\tlearn: 0.1982125\ttotal: 290ms\tremaining: 902ms\n",
      "243:\tlearn: 0.1978076\ttotal: 290ms\tremaining: 900ms\n",
      "244:\tlearn: 0.1971431\ttotal: 291ms\tremaining: 898ms\n",
      "245:\tlearn: 0.1967357\ttotal: 292ms\tremaining: 896ms\n",
      "246:\tlearn: 0.1961826\ttotal: 293ms\tremaining: 894ms\n",
      "247:\tlearn: 0.1958878\ttotal: 294ms\tremaining: 892ms\n",
      "248:\tlearn: 0.1953756\ttotal: 295ms\tremaining: 889ms\n",
      "249:\tlearn: 0.1947161\ttotal: 296ms\tremaining: 887ms\n",
      "250:\tlearn: 0.1941855\ttotal: 297ms\tremaining: 885ms\n",
      "251:\tlearn: 0.1935942\ttotal: 297ms\tremaining: 883ms\n",
      "252:\tlearn: 0.1932177\ttotal: 298ms\tremaining: 881ms\n"
     ]
    },
    {
     "name": "stdout",
     "output_type": "stream",
     "text": [
      "253:\tlearn: 0.1929674\ttotal: 299ms\tremaining: 879ms\n",
      "254:\tlearn: 0.1925725\ttotal: 300ms\tremaining: 877ms\n",
      "255:\tlearn: 0.1922887\ttotal: 301ms\tremaining: 875ms\n",
      "256:\tlearn: 0.1918223\ttotal: 302ms\tremaining: 873ms\n",
      "257:\tlearn: 0.1913041\ttotal: 303ms\tremaining: 871ms\n",
      "258:\tlearn: 0.1909510\ttotal: 304ms\tremaining: 869ms\n",
      "259:\tlearn: 0.1904363\ttotal: 305ms\tremaining: 867ms\n",
      "260:\tlearn: 0.1899119\ttotal: 305ms\tremaining: 864ms\n",
      "261:\tlearn: 0.1896003\ttotal: 306ms\tremaining: 863ms\n",
      "262:\tlearn: 0.1891643\ttotal: 307ms\tremaining: 861ms\n",
      "263:\tlearn: 0.1884821\ttotal: 308ms\tremaining: 859ms\n",
      "264:\tlearn: 0.1879916\ttotal: 309ms\tremaining: 857ms\n",
      "265:\tlearn: 0.1875785\ttotal: 310ms\tremaining: 855ms\n",
      "266:\tlearn: 0.1872549\ttotal: 311ms\tremaining: 853ms\n",
      "267:\tlearn: 0.1867924\ttotal: 312ms\tremaining: 852ms\n",
      "268:\tlearn: 0.1865773\ttotal: 313ms\tremaining: 850ms\n",
      "269:\tlearn: 0.1860751\ttotal: 314ms\tremaining: 848ms\n",
      "270:\tlearn: 0.1855658\ttotal: 315ms\tremaining: 846ms\n",
      "271:\tlearn: 0.1852024\ttotal: 316ms\tremaining: 845ms\n",
      "272:\tlearn: 0.1847424\ttotal: 316ms\tremaining: 843ms\n",
      "273:\tlearn: 0.1845581\ttotal: 317ms\tremaining: 841ms\n",
      "274:\tlearn: 0.1837761\ttotal: 318ms\tremaining: 839ms\n",
      "275:\tlearn: 0.1835716\ttotal: 319ms\tremaining: 837ms\n",
      "276:\tlearn: 0.1832892\ttotal: 320ms\tremaining: 835ms\n",
      "277:\tlearn: 0.1830069\ttotal: 321ms\tremaining: 833ms\n",
      "278:\tlearn: 0.1826148\ttotal: 322ms\tremaining: 831ms\n",
      "279:\tlearn: 0.1820506\ttotal: 323ms\tremaining: 829ms\n",
      "280:\tlearn: 0.1814991\ttotal: 323ms\tremaining: 827ms\n",
      "281:\tlearn: 0.1811458\ttotal: 324ms\tremaining: 825ms\n",
      "282:\tlearn: 0.1807740\ttotal: 325ms\tremaining: 824ms\n",
      "283:\tlearn: 0.1804831\ttotal: 326ms\tremaining: 822ms\n",
      "284:\tlearn: 0.1799844\ttotal: 327ms\tremaining: 820ms\n",
      "285:\tlearn: 0.1792677\ttotal: 328ms\tremaining: 818ms\n",
      "286:\tlearn: 0.1789305\ttotal: 329ms\tremaining: 816ms\n",
      "287:\tlearn: 0.1784747\ttotal: 330ms\tremaining: 815ms\n",
      "288:\tlearn: 0.1781981\ttotal: 330ms\tremaining: 813ms\n",
      "289:\tlearn: 0.1777747\ttotal: 331ms\tremaining: 811ms\n",
      "290:\tlearn: 0.1773319\ttotal: 332ms\tremaining: 810ms\n",
      "291:\tlearn: 0.1769256\ttotal: 333ms\tremaining: 808ms\n",
      "292:\tlearn: 0.1766019\ttotal: 334ms\tremaining: 806ms\n",
      "293:\tlearn: 0.1764052\ttotal: 335ms\tremaining: 804ms\n",
      "294:\tlearn: 0.1760476\ttotal: 336ms\tremaining: 803ms\n",
      "295:\tlearn: 0.1756454\ttotal: 337ms\tremaining: 801ms\n",
      "296:\tlearn: 0.1753351\ttotal: 338ms\tremaining: 799ms\n",
      "297:\tlearn: 0.1747825\ttotal: 338ms\tremaining: 797ms\n",
      "298:\tlearn: 0.1744419\ttotal: 339ms\tremaining: 796ms\n",
      "299:\tlearn: 0.1741470\ttotal: 340ms\tremaining: 794ms\n",
      "300:\tlearn: 0.1738538\ttotal: 341ms\tremaining: 792ms\n",
      "301:\tlearn: 0.1737263\ttotal: 342ms\tremaining: 791ms\n",
      "302:\tlearn: 0.1734811\ttotal: 343ms\tremaining: 789ms\n",
      "303:\tlearn: 0.1729725\ttotal: 344ms\tremaining: 788ms\n",
      "304:\tlearn: 0.1727614\ttotal: 345ms\tremaining: 786ms\n",
      "305:\tlearn: 0.1722670\ttotal: 346ms\tremaining: 784ms\n",
      "306:\tlearn: 0.1721408\ttotal: 347ms\tremaining: 782ms\n",
      "307:\tlearn: 0.1717233\ttotal: 348ms\tremaining: 781ms\n",
      "308:\tlearn: 0.1714237\ttotal: 348ms\tremaining: 779ms\n",
      "309:\tlearn: 0.1706936\ttotal: 349ms\tremaining: 778ms\n",
      "310:\tlearn: 0.1704184\ttotal: 350ms\tremaining: 776ms\n",
      "311:\tlearn: 0.1701803\ttotal: 351ms\tremaining: 774ms\n",
      "312:\tlearn: 0.1698190\ttotal: 352ms\tremaining: 773ms\n",
      "313:\tlearn: 0.1697014\ttotal: 353ms\tremaining: 771ms\n",
      "314:\tlearn: 0.1692296\ttotal: 354ms\tremaining: 769ms\n",
      "315:\tlearn: 0.1688578\ttotal: 355ms\tremaining: 768ms\n",
      "316:\tlearn: 0.1682217\ttotal: 356ms\tremaining: 766ms\n",
      "317:\tlearn: 0.1679672\ttotal: 356ms\tremaining: 764ms\n",
      "318:\tlearn: 0.1674755\ttotal: 357ms\tremaining: 763ms\n",
      "319:\tlearn: 0.1673161\ttotal: 358ms\tremaining: 761ms\n",
      "320:\tlearn: 0.1671662\ttotal: 359ms\tremaining: 759ms\n",
      "321:\tlearn: 0.1669059\ttotal: 361ms\tremaining: 760ms\n",
      "322:\tlearn: 0.1665240\ttotal: 362ms\tremaining: 758ms\n",
      "323:\tlearn: 0.1661764\ttotal: 363ms\tremaining: 756ms\n",
      "324:\tlearn: 0.1656421\ttotal: 364ms\tremaining: 755ms\n",
      "325:\tlearn: 0.1654837\ttotal: 364ms\tremaining: 753ms\n",
      "326:\tlearn: 0.1652497\ttotal: 365ms\tremaining: 752ms\n",
      "327:\tlearn: 0.1650331\ttotal: 366ms\tremaining: 750ms\n",
      "328:\tlearn: 0.1645978\ttotal: 367ms\tremaining: 748ms\n",
      "329:\tlearn: 0.1642728\ttotal: 368ms\tremaining: 747ms\n",
      "330:\tlearn: 0.1639116\ttotal: 369ms\tremaining: 745ms\n",
      "331:\tlearn: 0.1634418\ttotal: 370ms\tremaining: 744ms\n",
      "332:\tlearn: 0.1630203\ttotal: 370ms\tremaining: 742ms\n",
      "333:\tlearn: 0.1625937\ttotal: 371ms\tremaining: 740ms\n",
      "334:\tlearn: 0.1621892\ttotal: 372ms\tremaining: 738ms\n",
      "335:\tlearn: 0.1616360\ttotal: 373ms\tremaining: 737ms\n",
      "336:\tlearn: 0.1614325\ttotal: 374ms\tremaining: 735ms\n",
      "337:\tlearn: 0.1607456\ttotal: 375ms\tremaining: 734ms\n",
      "338:\tlearn: 0.1603847\ttotal: 376ms\tremaining: 733ms\n",
      "339:\tlearn: 0.1600958\ttotal: 377ms\tremaining: 731ms\n",
      "340:\tlearn: 0.1597218\ttotal: 378ms\tremaining: 730ms\n",
      "341:\tlearn: 0.1594497\ttotal: 378ms\tremaining: 728ms\n",
      "342:\tlearn: 0.1592354\ttotal: 379ms\tremaining: 727ms\n",
      "343:\tlearn: 0.1590217\ttotal: 380ms\tremaining: 725ms\n",
      "344:\tlearn: 0.1587124\ttotal: 381ms\tremaining: 724ms\n",
      "345:\tlearn: 0.1582264\ttotal: 382ms\tremaining: 722ms\n",
      "346:\tlearn: 0.1578575\ttotal: 383ms\tremaining: 721ms\n"
     ]
    },
    {
     "name": "stdout",
     "output_type": "stream",
     "text": [
      "347:\tlearn: 0.1575639\ttotal: 384ms\tremaining: 720ms\n",
      "348:\tlearn: 0.1570617\ttotal: 385ms\tremaining: 718ms\n",
      "349:\tlearn: 0.1567666\ttotal: 386ms\tremaining: 716ms\n",
      "350:\tlearn: 0.1564650\ttotal: 387ms\tremaining: 715ms\n",
      "351:\tlearn: 0.1560683\ttotal: 387ms\tremaining: 713ms\n",
      "352:\tlearn: 0.1558361\ttotal: 388ms\tremaining: 712ms\n",
      "353:\tlearn: 0.1555599\ttotal: 389ms\tremaining: 710ms\n",
      "354:\tlearn: 0.1552551\ttotal: 390ms\tremaining: 709ms\n",
      "355:\tlearn: 0.1549796\ttotal: 391ms\tremaining: 707ms\n",
      "356:\tlearn: 0.1544588\ttotal: 392ms\tremaining: 706ms\n",
      "357:\tlearn: 0.1543235\ttotal: 393ms\tremaining: 704ms\n",
      "358:\tlearn: 0.1537595\ttotal: 394ms\tremaining: 703ms\n",
      "359:\tlearn: 0.1535001\ttotal: 395ms\tremaining: 701ms\n",
      "360:\tlearn: 0.1530871\ttotal: 395ms\tremaining: 700ms\n",
      "361:\tlearn: 0.1527343\ttotal: 396ms\tremaining: 698ms\n",
      "362:\tlearn: 0.1523272\ttotal: 397ms\tremaining: 697ms\n",
      "363:\tlearn: 0.1518871\ttotal: 398ms\tremaining: 695ms\n",
      "364:\tlearn: 0.1516577\ttotal: 399ms\tremaining: 694ms\n",
      "365:\tlearn: 0.1513750\ttotal: 400ms\tremaining: 693ms\n",
      "366:\tlearn: 0.1508242\ttotal: 401ms\tremaining: 691ms\n",
      "367:\tlearn: 0.1503939\ttotal: 401ms\tremaining: 689ms\n",
      "368:\tlearn: 0.1500304\ttotal: 402ms\tremaining: 688ms\n",
      "369:\tlearn: 0.1499265\ttotal: 403ms\tremaining: 687ms\n",
      "370:\tlearn: 0.1494631\ttotal: 404ms\tremaining: 686ms\n",
      "371:\tlearn: 0.1491864\ttotal: 405ms\tremaining: 684ms\n",
      "372:\tlearn: 0.1489150\ttotal: 406ms\tremaining: 683ms\n",
      "373:\tlearn: 0.1485383\ttotal: 407ms\tremaining: 681ms\n",
      "374:\tlearn: 0.1483458\ttotal: 408ms\tremaining: 680ms\n",
      "375:\tlearn: 0.1477816\ttotal: 409ms\tremaining: 678ms\n",
      "376:\tlearn: 0.1473235\ttotal: 410ms\tremaining: 677ms\n",
      "377:\tlearn: 0.1469465\ttotal: 410ms\tremaining: 675ms\n",
      "378:\tlearn: 0.1466653\ttotal: 411ms\tremaining: 674ms\n",
      "379:\tlearn: 0.1462978\ttotal: 412ms\tremaining: 672ms\n",
      "380:\tlearn: 0.1460556\ttotal: 413ms\tremaining: 671ms\n",
      "381:\tlearn: 0.1457571\ttotal: 414ms\tremaining: 670ms\n",
      "382:\tlearn: 0.1453199\ttotal: 415ms\tremaining: 668ms\n",
      "383:\tlearn: 0.1451209\ttotal: 415ms\tremaining: 666ms\n",
      "384:\tlearn: 0.1446806\ttotal: 416ms\tremaining: 665ms\n",
      "385:\tlearn: 0.1444375\ttotal: 417ms\tremaining: 663ms\n",
      "386:\tlearn: 0.1439802\ttotal: 418ms\tremaining: 662ms\n",
      "387:\tlearn: 0.1437327\ttotal: 419ms\tremaining: 661ms\n",
      "388:\tlearn: 0.1434486\ttotal: 420ms\tremaining: 659ms\n",
      "389:\tlearn: 0.1431643\ttotal: 421ms\tremaining: 658ms\n",
      "390:\tlearn: 0.1428345\ttotal: 421ms\tremaining: 656ms\n",
      "391:\tlearn: 0.1425207\ttotal: 422ms\tremaining: 655ms\n",
      "392:\tlearn: 0.1424133\ttotal: 423ms\tremaining: 653ms\n",
      "393:\tlearn: 0.1421051\ttotal: 424ms\tremaining: 652ms\n",
      "394:\tlearn: 0.1418221\ttotal: 425ms\tremaining: 651ms\n",
      "395:\tlearn: 0.1417065\ttotal: 426ms\tremaining: 650ms\n",
      "396:\tlearn: 0.1414062\ttotal: 427ms\tremaining: 648ms\n",
      "397:\tlearn: 0.1411500\ttotal: 428ms\tremaining: 647ms\n",
      "398:\tlearn: 0.1407411\ttotal: 429ms\tremaining: 646ms\n",
      "399:\tlearn: 0.1403825\ttotal: 429ms\tremaining: 644ms\n",
      "400:\tlearn: 0.1401571\ttotal: 430ms\tremaining: 643ms\n",
      "401:\tlearn: 0.1396819\ttotal: 431ms\tremaining: 642ms\n",
      "402:\tlearn: 0.1394653\ttotal: 432ms\tremaining: 640ms\n",
      "403:\tlearn: 0.1391666\ttotal: 433ms\tremaining: 639ms\n",
      "404:\tlearn: 0.1389803\ttotal: 434ms\tremaining: 638ms\n",
      "405:\tlearn: 0.1385640\ttotal: 435ms\tremaining: 636ms\n",
      "406:\tlearn: 0.1382020\ttotal: 436ms\tremaining: 635ms\n",
      "407:\tlearn: 0.1380233\ttotal: 437ms\tremaining: 634ms\n",
      "408:\tlearn: 0.1375892\ttotal: 437ms\tremaining: 632ms\n",
      "409:\tlearn: 0.1372898\ttotal: 438ms\tremaining: 631ms\n",
      "410:\tlearn: 0.1370531\ttotal: 439ms\tremaining: 629ms\n",
      "411:\tlearn: 0.1367727\ttotal: 440ms\tremaining: 628ms\n",
      "412:\tlearn: 0.1364705\ttotal: 441ms\tremaining: 627ms\n",
      "413:\tlearn: 0.1361608\ttotal: 442ms\tremaining: 626ms\n",
      "414:\tlearn: 0.1358199\ttotal: 443ms\tremaining: 624ms\n",
      "415:\tlearn: 0.1354999\ttotal: 444ms\tremaining: 623ms\n",
      "416:\tlearn: 0.1352231\ttotal: 445ms\tremaining: 622ms\n",
      "417:\tlearn: 0.1349072\ttotal: 446ms\tremaining: 621ms\n",
      "418:\tlearn: 0.1347380\ttotal: 447ms\tremaining: 619ms\n",
      "419:\tlearn: 0.1344981\ttotal: 448ms\tremaining: 618ms\n",
      "420:\tlearn: 0.1343436\ttotal: 448ms\tremaining: 617ms\n",
      "421:\tlearn: 0.1340066\ttotal: 449ms\tremaining: 615ms\n",
      "422:\tlearn: 0.1336730\ttotal: 450ms\tremaining: 614ms\n",
      "423:\tlearn: 0.1334455\ttotal: 451ms\tremaining: 613ms\n",
      "424:\tlearn: 0.1332294\ttotal: 452ms\tremaining: 612ms\n",
      "425:\tlearn: 0.1329674\ttotal: 453ms\tremaining: 610ms\n",
      "426:\tlearn: 0.1325718\ttotal: 454ms\tremaining: 609ms\n",
      "427:\tlearn: 0.1323863\ttotal: 455ms\tremaining: 608ms\n",
      "428:\tlearn: 0.1320361\ttotal: 456ms\tremaining: 607ms\n",
      "429:\tlearn: 0.1318757\ttotal: 458ms\tremaining: 607ms\n",
      "430:\tlearn: 0.1316685\ttotal: 459ms\tremaining: 606ms\n",
      "431:\tlearn: 0.1315418\ttotal: 460ms\tremaining: 605ms\n",
      "432:\tlearn: 0.1314189\ttotal: 461ms\tremaining: 603ms\n",
      "433:\tlearn: 0.1311424\ttotal: 462ms\tremaining: 602ms\n",
      "434:\tlearn: 0.1307641\ttotal: 463ms\tremaining: 601ms\n",
      "435:\tlearn: 0.1303872\ttotal: 464ms\tremaining: 601ms\n",
      "436:\tlearn: 0.1300336\ttotal: 465ms\tremaining: 600ms\n",
      "437:\tlearn: 0.1298644\ttotal: 466ms\tremaining: 598ms\n",
      "438:\tlearn: 0.1296158\ttotal: 467ms\tremaining: 597ms\n",
      "439:\tlearn: 0.1293552\ttotal: 468ms\tremaining: 596ms\n",
      "440:\tlearn: 0.1290801\ttotal: 469ms\tremaining: 594ms\n",
      "441:\tlearn: 0.1289244\ttotal: 470ms\tremaining: 593ms\n",
      "442:\tlearn: 0.1285881\ttotal: 471ms\tremaining: 592ms\n",
      "443:\tlearn: 0.1281897\ttotal: 472ms\tremaining: 591ms\n",
      "444:\tlearn: 0.1279783\ttotal: 473ms\tremaining: 590ms\n",
      "445:\tlearn: 0.1277272\ttotal: 474ms\tremaining: 588ms\n",
      "446:\tlearn: 0.1273846\ttotal: 475ms\tremaining: 587ms\n",
      "447:\tlearn: 0.1271976\ttotal: 476ms\tremaining: 586ms\n",
      "448:\tlearn: 0.1269382\ttotal: 476ms\tremaining: 585ms\n",
      "449:\tlearn: 0.1266569\ttotal: 478ms\tremaining: 584ms\n",
      "450:\tlearn: 0.1263913\ttotal: 479ms\tremaining: 583ms\n",
      "451:\tlearn: 0.1261325\ttotal: 480ms\tremaining: 581ms\n",
      "452:\tlearn: 0.1259116\ttotal: 480ms\tremaining: 580ms\n",
      "453:\tlearn: 0.1257500\ttotal: 481ms\tremaining: 579ms\n",
      "454:\tlearn: 0.1254450\ttotal: 482ms\tremaining: 577ms\n",
      "455:\tlearn: 0.1250926\ttotal: 483ms\tremaining: 576ms\n",
      "456:\tlearn: 0.1248964\ttotal: 484ms\tremaining: 575ms\n",
      "457:\tlearn: 0.1245459\ttotal: 485ms\tremaining: 573ms\n",
      "458:\tlearn: 0.1242719\ttotal: 485ms\tremaining: 572ms\n",
      "459:\tlearn: 0.1240877\ttotal: 486ms\tremaining: 571ms\n",
      "460:\tlearn: 0.1238607\ttotal: 487ms\tremaining: 570ms\n",
      "461:\tlearn: 0.1235777\ttotal: 489ms\tremaining: 569ms\n",
      "462:\tlearn: 0.1233414\ttotal: 490ms\tremaining: 568ms\n"
     ]
    },
    {
     "name": "stdout",
     "output_type": "stream",
     "text": [
      "463:\tlearn: 0.1230668\ttotal: 491ms\tremaining: 567ms\n",
      "464:\tlearn: 0.1228363\ttotal: 492ms\tremaining: 566ms\n",
      "465:\tlearn: 0.1226504\ttotal: 492ms\tremaining: 564ms\n",
      "466:\tlearn: 0.1224161\ttotal: 494ms\tremaining: 564ms\n",
      "467:\tlearn: 0.1221052\ttotal: 495ms\tremaining: 562ms\n",
      "468:\tlearn: 0.1217944\ttotal: 496ms\tremaining: 561ms\n",
      "469:\tlearn: 0.1216465\ttotal: 497ms\tremaining: 560ms\n",
      "470:\tlearn: 0.1214982\ttotal: 498ms\tremaining: 559ms\n",
      "471:\tlearn: 0.1211607\ttotal: 498ms\tremaining: 558ms\n",
      "472:\tlearn: 0.1210873\ttotal: 500ms\tremaining: 557ms\n",
      "473:\tlearn: 0.1209473\ttotal: 501ms\tremaining: 556ms\n",
      "474:\tlearn: 0.1207569\ttotal: 501ms\tremaining: 554ms\n",
      "475:\tlearn: 0.1205280\ttotal: 502ms\tremaining: 553ms\n",
      "476:\tlearn: 0.1203533\ttotal: 503ms\tremaining: 551ms\n",
      "477:\tlearn: 0.1202344\ttotal: 504ms\tremaining: 550ms\n",
      "478:\tlearn: 0.1201578\ttotal: 504ms\tremaining: 549ms\n",
      "479:\tlearn: 0.1200197\ttotal: 505ms\tremaining: 547ms\n",
      "480:\tlearn: 0.1198228\ttotal: 506ms\tremaining: 546ms\n",
      "481:\tlearn: 0.1196198\ttotal: 507ms\tremaining: 544ms\n",
      "482:\tlearn: 0.1195261\ttotal: 507ms\tremaining: 543ms\n",
      "483:\tlearn: 0.1193021\ttotal: 508ms\tremaining: 542ms\n",
      "484:\tlearn: 0.1190272\ttotal: 509ms\tremaining: 541ms\n",
      "485:\tlearn: 0.1188053\ttotal: 510ms\tremaining: 540ms\n",
      "486:\tlearn: 0.1185751\ttotal: 511ms\tremaining: 539ms\n",
      "487:\tlearn: 0.1183811\ttotal: 512ms\tremaining: 537ms\n",
      "488:\tlearn: 0.1181626\ttotal: 513ms\tremaining: 536ms\n",
      "489:\tlearn: 0.1179571\ttotal: 514ms\tremaining: 535ms\n",
      "490:\tlearn: 0.1176936\ttotal: 515ms\tremaining: 534ms\n",
      "491:\tlearn: 0.1173858\ttotal: 516ms\tremaining: 533ms\n",
      "492:\tlearn: 0.1171482\ttotal: 517ms\tremaining: 532ms\n",
      "493:\tlearn: 0.1168844\ttotal: 518ms\tremaining: 531ms\n",
      "494:\tlearn: 0.1166777\ttotal: 519ms\tremaining: 529ms\n",
      "495:\tlearn: 0.1165279\ttotal: 520ms\tremaining: 528ms\n",
      "496:\tlearn: 0.1163351\ttotal: 521ms\tremaining: 527ms\n",
      "497:\tlearn: 0.1161771\ttotal: 522ms\tremaining: 526ms\n",
      "498:\tlearn: 0.1158637\ttotal: 523ms\tremaining: 525ms\n",
      "499:\tlearn: 0.1157894\ttotal: 524ms\tremaining: 524ms\n",
      "500:\tlearn: 0.1156340\ttotal: 525ms\tremaining: 523ms\n",
      "501:\tlearn: 0.1154051\ttotal: 526ms\tremaining: 522ms\n",
      "502:\tlearn: 0.1151433\ttotal: 527ms\tremaining: 521ms\n",
      "503:\tlearn: 0.1148763\ttotal: 528ms\tremaining: 519ms\n",
      "504:\tlearn: 0.1145996\ttotal: 529ms\tremaining: 518ms\n",
      "505:\tlearn: 0.1143875\ttotal: 530ms\tremaining: 517ms\n",
      "506:\tlearn: 0.1142601\ttotal: 531ms\tremaining: 516ms\n",
      "507:\tlearn: 0.1141625\ttotal: 531ms\tremaining: 515ms\n",
      "508:\tlearn: 0.1140088\ttotal: 532ms\tremaining: 513ms\n",
      "509:\tlearn: 0.1137573\ttotal: 533ms\tremaining: 512ms\n",
      "510:\tlearn: 0.1135056\ttotal: 534ms\tremaining: 511ms\n",
      "511:\tlearn: 0.1133034\ttotal: 535ms\tremaining: 510ms\n",
      "512:\tlearn: 0.1130532\ttotal: 536ms\tremaining: 509ms\n",
      "513:\tlearn: 0.1128245\ttotal: 537ms\tremaining: 508ms\n",
      "514:\tlearn: 0.1126171\ttotal: 538ms\tremaining: 507ms\n",
      "515:\tlearn: 0.1124602\ttotal: 539ms\tremaining: 506ms\n",
      "516:\tlearn: 0.1123359\ttotal: 540ms\tremaining: 504ms\n",
      "517:\tlearn: 0.1121561\ttotal: 541ms\tremaining: 503ms\n",
      "518:\tlearn: 0.1119396\ttotal: 541ms\tremaining: 502ms\n",
      "519:\tlearn: 0.1118592\ttotal: 542ms\tremaining: 501ms\n",
      "520:\tlearn: 0.1117399\ttotal: 543ms\tremaining: 499ms\n",
      "521:\tlearn: 0.1116610\ttotal: 544ms\tremaining: 498ms\n",
      "522:\tlearn: 0.1114983\ttotal: 545ms\tremaining: 497ms\n",
      "523:\tlearn: 0.1113633\ttotal: 546ms\tremaining: 496ms\n",
      "524:\tlearn: 0.1111801\ttotal: 547ms\tremaining: 495ms\n",
      "525:\tlearn: 0.1110407\ttotal: 548ms\tremaining: 493ms\n",
      "526:\tlearn: 0.1107563\ttotal: 548ms\tremaining: 492ms\n",
      "527:\tlearn: 0.1106754\ttotal: 550ms\tremaining: 491ms\n",
      "528:\tlearn: 0.1104573\ttotal: 551ms\tremaining: 490ms\n",
      "529:\tlearn: 0.1103074\ttotal: 552ms\tremaining: 489ms\n",
      "530:\tlearn: 0.1100241\ttotal: 552ms\tremaining: 488ms\n",
      "531:\tlearn: 0.1097692\ttotal: 554ms\tremaining: 487ms\n",
      "532:\tlearn: 0.1094988\ttotal: 555ms\tremaining: 486ms\n",
      "533:\tlearn: 0.1093392\ttotal: 556ms\tremaining: 485ms\n",
      "534:\tlearn: 0.1091831\ttotal: 557ms\tremaining: 484ms\n",
      "535:\tlearn: 0.1090871\ttotal: 558ms\tremaining: 483ms\n",
      "536:\tlearn: 0.1089343\ttotal: 558ms\tremaining: 481ms\n",
      "537:\tlearn: 0.1088085\ttotal: 560ms\tremaining: 481ms\n",
      "538:\tlearn: 0.1087211\ttotal: 560ms\tremaining: 479ms\n",
      "539:\tlearn: 0.1085148\ttotal: 561ms\tremaining: 478ms\n",
      "540:\tlearn: 0.1084048\ttotal: 562ms\tremaining: 477ms\n",
      "541:\tlearn: 0.1081655\ttotal: 563ms\tremaining: 476ms\n",
      "542:\tlearn: 0.1079481\ttotal: 564ms\tremaining: 475ms\n",
      "543:\tlearn: 0.1078146\ttotal: 565ms\tremaining: 474ms\n",
      "544:\tlearn: 0.1075838\ttotal: 566ms\tremaining: 472ms\n",
      "545:\tlearn: 0.1074107\ttotal: 567ms\tremaining: 471ms\n",
      "546:\tlearn: 0.1072695\ttotal: 568ms\tremaining: 470ms\n",
      "547:\tlearn: 0.1071243\ttotal: 569ms\tremaining: 469ms\n",
      "548:\tlearn: 0.1068995\ttotal: 569ms\tremaining: 468ms\n",
      "549:\tlearn: 0.1066871\ttotal: 570ms\tremaining: 467ms\n",
      "550:\tlearn: 0.1065726\ttotal: 571ms\tremaining: 465ms\n",
      "551:\tlearn: 0.1063572\ttotal: 572ms\tremaining: 464ms\n",
      "552:\tlearn: 0.1062881\ttotal: 573ms\tremaining: 463ms\n",
      "553:\tlearn: 0.1061427\ttotal: 574ms\tremaining: 462ms\n"
     ]
    },
    {
     "name": "stdout",
     "output_type": "stream",
     "text": [
      "554:\tlearn: 0.1058940\ttotal: 575ms\tremaining: 461ms\n",
      "555:\tlearn: 0.1057293\ttotal: 576ms\tremaining: 460ms\n",
      "556:\tlearn: 0.1055731\ttotal: 577ms\tremaining: 459ms\n",
      "557:\tlearn: 0.1052361\ttotal: 578ms\tremaining: 458ms\n",
      "558:\tlearn: 0.1050520\ttotal: 579ms\tremaining: 457ms\n",
      "559:\tlearn: 0.1048815\ttotal: 580ms\tremaining: 455ms\n",
      "560:\tlearn: 0.1048508\ttotal: 580ms\tremaining: 454ms\n",
      "561:\tlearn: 0.1047222\ttotal: 581ms\tremaining: 453ms\n",
      "562:\tlearn: 0.1046030\ttotal: 582ms\tremaining: 452ms\n",
      "563:\tlearn: 0.1044341\ttotal: 583ms\tremaining: 451ms\n",
      "564:\tlearn: 0.1043418\ttotal: 584ms\tremaining: 449ms\n",
      "565:\tlearn: 0.1041996\ttotal: 585ms\tremaining: 448ms\n",
      "566:\tlearn: 0.1040494\ttotal: 586ms\tremaining: 447ms\n",
      "567:\tlearn: 0.1040261\ttotal: 587ms\tremaining: 446ms\n",
      "568:\tlearn: 0.1038035\ttotal: 587ms\tremaining: 445ms\n",
      "569:\tlearn: 0.1036736\ttotal: 588ms\tremaining: 444ms\n",
      "570:\tlearn: 0.1036127\ttotal: 589ms\tremaining: 443ms\n",
      "571:\tlearn: 0.1035171\ttotal: 590ms\tremaining: 441ms\n",
      "572:\tlearn: 0.1033009\ttotal: 592ms\tremaining: 441ms\n",
      "573:\tlearn: 0.1031669\ttotal: 592ms\tremaining: 440ms\n",
      "574:\tlearn: 0.1029720\ttotal: 593ms\tremaining: 438ms\n",
      "575:\tlearn: 0.1028133\ttotal: 594ms\tremaining: 437ms\n",
      "576:\tlearn: 0.1026312\ttotal: 595ms\tremaining: 436ms\n",
      "577:\tlearn: 0.1024960\ttotal: 596ms\tremaining: 435ms\n",
      "578:\tlearn: 0.1023237\ttotal: 597ms\tremaining: 434ms\n",
      "579:\tlearn: 0.1020792\ttotal: 598ms\tremaining: 433ms\n",
      "580:\tlearn: 0.1019542\ttotal: 598ms\tremaining: 432ms\n",
      "581:\tlearn: 0.1018082\ttotal: 599ms\tremaining: 431ms\n",
      "582:\tlearn: 0.1016642\ttotal: 600ms\tremaining: 429ms\n",
      "583:\tlearn: 0.1015838\ttotal: 601ms\tremaining: 428ms\n",
      "584:\tlearn: 0.1013950\ttotal: 602ms\tremaining: 427ms\n",
      "585:\tlearn: 0.1011703\ttotal: 603ms\tremaining: 426ms\n",
      "586:\tlearn: 0.1011203\ttotal: 604ms\tremaining: 425ms\n",
      "587:\tlearn: 0.1009236\ttotal: 605ms\tremaining: 424ms\n",
      "588:\tlearn: 0.1008060\ttotal: 606ms\tremaining: 423ms\n",
      "589:\tlearn: 0.1007874\ttotal: 607ms\tremaining: 422ms\n",
      "590:\tlearn: 0.1006309\ttotal: 607ms\tremaining: 420ms\n",
      "591:\tlearn: 0.1006194\ttotal: 608ms\tremaining: 419ms\n",
      "592:\tlearn: 0.1004369\ttotal: 609ms\tremaining: 418ms\n",
      "593:\tlearn: 0.1004118\ttotal: 610ms\tremaining: 417ms\n",
      "594:\tlearn: 0.1002941\ttotal: 611ms\tremaining: 416ms\n",
      "595:\tlearn: 0.1002451\ttotal: 612ms\tremaining: 415ms\n",
      "596:\tlearn: 0.1001364\ttotal: 613ms\tremaining: 414ms\n",
      "597:\tlearn: 0.1000427\ttotal: 614ms\tremaining: 413ms\n",
      "598:\tlearn: 0.0998737\ttotal: 615ms\tremaining: 411ms\n",
      "599:\tlearn: 0.0996376\ttotal: 615ms\tremaining: 410ms\n",
      "600:\tlearn: 0.0995771\ttotal: 616ms\tremaining: 409ms\n",
      "601:\tlearn: 0.0994187\ttotal: 617ms\tremaining: 408ms\n",
      "602:\tlearn: 0.0992167\ttotal: 618ms\tremaining: 407ms\n",
      "603:\tlearn: 0.0990023\ttotal: 619ms\tremaining: 406ms\n",
      "604:\tlearn: 0.0988778\ttotal: 620ms\tremaining: 405ms\n",
      "605:\tlearn: 0.0988471\ttotal: 621ms\tremaining: 404ms\n",
      "606:\tlearn: 0.0986427\ttotal: 622ms\tremaining: 403ms\n",
      "607:\tlearn: 0.0984676\ttotal: 623ms\tremaining: 402ms\n",
      "608:\tlearn: 0.0983318\ttotal: 624ms\tremaining: 401ms\n",
      "609:\tlearn: 0.0982042\ttotal: 625ms\tremaining: 399ms\n",
      "610:\tlearn: 0.0979381\ttotal: 625ms\tremaining: 398ms\n",
      "611:\tlearn: 0.0977333\ttotal: 626ms\tremaining: 397ms\n",
      "612:\tlearn: 0.0976322\ttotal: 627ms\tremaining: 396ms\n",
      "613:\tlearn: 0.0975918\ttotal: 628ms\tremaining: 395ms\n",
      "614:\tlearn: 0.0974980\ttotal: 629ms\tremaining: 394ms\n",
      "615:\tlearn: 0.0973285\ttotal: 630ms\tremaining: 393ms\n",
      "616:\tlearn: 0.0972329\ttotal: 631ms\tremaining: 392ms\n",
      "617:\tlearn: 0.0970688\ttotal: 632ms\tremaining: 391ms\n",
      "618:\tlearn: 0.0969324\ttotal: 633ms\tremaining: 389ms\n",
      "619:\tlearn: 0.0967764\ttotal: 634ms\tremaining: 388ms\n",
      "620:\tlearn: 0.0964938\ttotal: 635ms\tremaining: 388ms\n",
      "621:\tlearn: 0.0962813\ttotal: 636ms\tremaining: 387ms\n",
      "622:\tlearn: 0.0962178\ttotal: 637ms\tremaining: 385ms\n",
      "623:\tlearn: 0.0961731\ttotal: 638ms\tremaining: 384ms\n",
      "624:\tlearn: 0.0961603\ttotal: 639ms\tremaining: 383ms\n",
      "625:\tlearn: 0.0960716\ttotal: 640ms\tremaining: 382ms\n",
      "626:\tlearn: 0.0959457\ttotal: 641ms\tremaining: 381ms\n",
      "627:\tlearn: 0.0959255\ttotal: 641ms\tremaining: 380ms\n",
      "628:\tlearn: 0.0958780\ttotal: 642ms\tremaining: 379ms\n",
      "629:\tlearn: 0.0957495\ttotal: 643ms\tremaining: 378ms\n",
      "630:\tlearn: 0.0956653\ttotal: 644ms\tremaining: 377ms\n",
      "631:\tlearn: 0.0955497\ttotal: 645ms\tremaining: 376ms\n",
      "632:\tlearn: 0.0954021\ttotal: 646ms\tremaining: 375ms\n",
      "633:\tlearn: 0.0952344\ttotal: 647ms\tremaining: 373ms\n",
      "634:\tlearn: 0.0950950\ttotal: 648ms\tremaining: 372ms\n",
      "635:\tlearn: 0.0949595\ttotal: 649ms\tremaining: 371ms\n",
      "636:\tlearn: 0.0949060\ttotal: 650ms\tremaining: 370ms\n",
      "637:\tlearn: 0.0947448\ttotal: 651ms\tremaining: 369ms\n",
      "638:\tlearn: 0.0946064\ttotal: 652ms\tremaining: 368ms\n",
      "639:\tlearn: 0.0944488\ttotal: 652ms\tremaining: 367ms\n",
      "640:\tlearn: 0.0941998\ttotal: 653ms\tremaining: 366ms\n",
      "641:\tlearn: 0.0940704\ttotal: 654ms\tremaining: 365ms\n",
      "642:\tlearn: 0.0939896\ttotal: 655ms\tremaining: 364ms\n",
      "643:\tlearn: 0.0938402\ttotal: 656ms\tremaining: 363ms\n",
      "644:\tlearn: 0.0937007\ttotal: 657ms\tremaining: 362ms\n",
      "645:\tlearn: 0.0934549\ttotal: 658ms\tremaining: 361ms\n",
      "646:\tlearn: 0.0932747\ttotal: 659ms\tremaining: 359ms\n",
      "647:\tlearn: 0.0930657\ttotal: 660ms\tremaining: 358ms\n",
      "648:\tlearn: 0.0929363\ttotal: 661ms\tremaining: 357ms\n",
      "649:\tlearn: 0.0928327\ttotal: 661ms\tremaining: 356ms\n",
      "650:\tlearn: 0.0927282\ttotal: 662ms\tremaining: 355ms\n",
      "651:\tlearn: 0.0926924\ttotal: 663ms\tremaining: 354ms\n",
      "652:\tlearn: 0.0924629\ttotal: 664ms\tremaining: 353ms\n",
      "653:\tlearn: 0.0923633\ttotal: 665ms\tremaining: 352ms\n",
      "654:\tlearn: 0.0922800\ttotal: 666ms\tremaining: 351ms\n",
      "655:\tlearn: 0.0920306\ttotal: 666ms\tremaining: 349ms\n",
      "656:\tlearn: 0.0919033\ttotal: 668ms\tremaining: 348ms\n",
      "657:\tlearn: 0.0916735\ttotal: 668ms\tremaining: 347ms\n",
      "658:\tlearn: 0.0914951\ttotal: 669ms\tremaining: 346ms\n",
      "659:\tlearn: 0.0913932\ttotal: 670ms\tremaining: 345ms\n",
      "660:\tlearn: 0.0911869\ttotal: 671ms\tremaining: 344ms\n",
      "661:\tlearn: 0.0910028\ttotal: 672ms\tremaining: 343ms\n",
      "662:\tlearn: 0.0908172\ttotal: 673ms\tremaining: 342ms\n"
     ]
    },
    {
     "name": "stdout",
     "output_type": "stream",
     "text": [
      "663:\tlearn: 0.0906324\ttotal: 684ms\tremaining: 346ms\n",
      "664:\tlearn: 0.0904265\ttotal: 686ms\tremaining: 345ms\n",
      "665:\tlearn: 0.0902448\ttotal: 687ms\tremaining: 344ms\n",
      "666:\tlearn: 0.0901017\ttotal: 688ms\tremaining: 344ms\n",
      "667:\tlearn: 0.0900656\ttotal: 690ms\tremaining: 343ms\n",
      "668:\tlearn: 0.0899603\ttotal: 691ms\tremaining: 342ms\n",
      "669:\tlearn: 0.0897289\ttotal: 693ms\tremaining: 341ms\n",
      "670:\tlearn: 0.0895085\ttotal: 694ms\tremaining: 340ms\n",
      "671:\tlearn: 0.0893639\ttotal: 694ms\tremaining: 339ms\n",
      "672:\tlearn: 0.0892458\ttotal: 695ms\tremaining: 338ms\n",
      "673:\tlearn: 0.0890531\ttotal: 696ms\tremaining: 337ms\n",
      "674:\tlearn: 0.0888726\ttotal: 697ms\tremaining: 336ms\n",
      "675:\tlearn: 0.0886622\ttotal: 698ms\tremaining: 334ms\n",
      "676:\tlearn: 0.0885075\ttotal: 699ms\tremaining: 333ms\n",
      "677:\tlearn: 0.0884836\ttotal: 700ms\tremaining: 332ms\n",
      "678:\tlearn: 0.0883636\ttotal: 701ms\tremaining: 331ms\n",
      "679:\tlearn: 0.0881604\ttotal: 702ms\tremaining: 330ms\n",
      "680:\tlearn: 0.0880284\ttotal: 703ms\tremaining: 329ms\n",
      "681:\tlearn: 0.0878667\ttotal: 704ms\tremaining: 328ms\n",
      "682:\tlearn: 0.0876186\ttotal: 705ms\tremaining: 327ms\n",
      "683:\tlearn: 0.0874543\ttotal: 706ms\tremaining: 326ms\n",
      "684:\tlearn: 0.0872679\ttotal: 707ms\tremaining: 325ms\n",
      "685:\tlearn: 0.0871183\ttotal: 708ms\tremaining: 324ms\n",
      "686:\tlearn: 0.0870943\ttotal: 710ms\tremaining: 323ms\n",
      "687:\tlearn: 0.0869631\ttotal: 711ms\tremaining: 322ms\n",
      "688:\tlearn: 0.0868092\ttotal: 711ms\tremaining: 321ms\n",
      "689:\tlearn: 0.0866490\ttotal: 712ms\tremaining: 320ms\n",
      "690:\tlearn: 0.0865050\ttotal: 713ms\tremaining: 319ms\n",
      "691:\tlearn: 0.0863854\ttotal: 714ms\tremaining: 318ms\n",
      "692:\tlearn: 0.0861986\ttotal: 715ms\tremaining: 317ms\n",
      "693:\tlearn: 0.0860949\ttotal: 716ms\tremaining: 316ms\n",
      "694:\tlearn: 0.0859813\ttotal: 717ms\tremaining: 315ms\n",
      "695:\tlearn: 0.0859217\ttotal: 719ms\tremaining: 314ms\n",
      "696:\tlearn: 0.0858391\ttotal: 720ms\tremaining: 313ms\n",
      "697:\tlearn: 0.0857429\ttotal: 721ms\tremaining: 312ms\n",
      "698:\tlearn: 0.0856329\ttotal: 723ms\tremaining: 311ms\n",
      "699:\tlearn: 0.0854563\ttotal: 724ms\tremaining: 310ms\n",
      "700:\tlearn: 0.0854006\ttotal: 725ms\tremaining: 309ms\n",
      "701:\tlearn: 0.0853437\ttotal: 725ms\tremaining: 308ms\n",
      "702:\tlearn: 0.0851676\ttotal: 726ms\tremaining: 307ms\n",
      "703:\tlearn: 0.0850341\ttotal: 727ms\tremaining: 306ms\n",
      "704:\tlearn: 0.0848889\ttotal: 728ms\tremaining: 305ms\n",
      "705:\tlearn: 0.0847806\ttotal: 729ms\tremaining: 303ms\n",
      "706:\tlearn: 0.0845920\ttotal: 730ms\tremaining: 302ms\n",
      "707:\tlearn: 0.0844021\ttotal: 730ms\tremaining: 301ms\n",
      "708:\tlearn: 0.0843374\ttotal: 731ms\tremaining: 300ms\n",
      "709:\tlearn: 0.0841815\ttotal: 732ms\tremaining: 299ms\n",
      "710:\tlearn: 0.0841004\ttotal: 733ms\tremaining: 298ms\n",
      "711:\tlearn: 0.0840840\ttotal: 734ms\tremaining: 297ms\n",
      "712:\tlearn: 0.0839968\ttotal: 735ms\tremaining: 296ms\n",
      "713:\tlearn: 0.0838924\ttotal: 736ms\tremaining: 295ms\n",
      "714:\tlearn: 0.0837906\ttotal: 737ms\tremaining: 294ms\n",
      "715:\tlearn: 0.0837718\ttotal: 738ms\tremaining: 293ms\n",
      "716:\tlearn: 0.0836688\ttotal: 739ms\tremaining: 292ms\n",
      "717:\tlearn: 0.0835299\ttotal: 740ms\tremaining: 290ms\n",
      "718:\tlearn: 0.0834745\ttotal: 740ms\tremaining: 289ms\n",
      "719:\tlearn: 0.0833120\ttotal: 741ms\tremaining: 288ms\n",
      "720:\tlearn: 0.0831415\ttotal: 742ms\tremaining: 287ms\n",
      "721:\tlearn: 0.0829975\ttotal: 743ms\tremaining: 286ms\n",
      "722:\tlearn: 0.0827864\ttotal: 744ms\tremaining: 285ms\n",
      "723:\tlearn: 0.0826787\ttotal: 745ms\tremaining: 284ms\n",
      "724:\tlearn: 0.0824911\ttotal: 746ms\tremaining: 283ms\n",
      "725:\tlearn: 0.0823307\ttotal: 747ms\tremaining: 282ms\n",
      "726:\tlearn: 0.0822729\ttotal: 748ms\tremaining: 281ms\n",
      "727:\tlearn: 0.0822448\ttotal: 749ms\tremaining: 280ms\n",
      "728:\tlearn: 0.0820425\ttotal: 749ms\tremaining: 279ms\n",
      "729:\tlearn: 0.0819276\ttotal: 751ms\tremaining: 278ms\n",
      "730:\tlearn: 0.0818452\ttotal: 752ms\tremaining: 277ms\n",
      "731:\tlearn: 0.0816962\ttotal: 753ms\tremaining: 276ms\n",
      "732:\tlearn: 0.0816638\ttotal: 753ms\tremaining: 274ms\n",
      "733:\tlearn: 0.0815492\ttotal: 754ms\tremaining: 273ms\n",
      "734:\tlearn: 0.0814663\ttotal: 755ms\tremaining: 272ms\n",
      "735:\tlearn: 0.0813171\ttotal: 756ms\tremaining: 271ms\n",
      "736:\tlearn: 0.0812149\ttotal: 757ms\tremaining: 270ms\n",
      "737:\tlearn: 0.0811866\ttotal: 758ms\tremaining: 269ms\n",
      "738:\tlearn: 0.0809618\ttotal: 759ms\tremaining: 268ms\n",
      "739:\tlearn: 0.0808338\ttotal: 760ms\tremaining: 267ms\n",
      "740:\tlearn: 0.0806934\ttotal: 760ms\tremaining: 266ms\n",
      "741:\tlearn: 0.0805595\ttotal: 761ms\tremaining: 265ms\n",
      "742:\tlearn: 0.0803532\ttotal: 762ms\tremaining: 264ms\n",
      "743:\tlearn: 0.0802268\ttotal: 763ms\tremaining: 263ms\n",
      "744:\tlearn: 0.0801097\ttotal: 764ms\tremaining: 262ms\n",
      "745:\tlearn: 0.0800116\ttotal: 765ms\tremaining: 260ms\n",
      "746:\tlearn: 0.0799196\ttotal: 766ms\tremaining: 259ms\n"
     ]
    },
    {
     "name": "stdout",
     "output_type": "stream",
     "text": [
      "747:\tlearn: 0.0797724\ttotal: 767ms\tremaining: 258ms\n",
      "748:\tlearn: 0.0796418\ttotal: 768ms\tremaining: 257ms\n",
      "749:\tlearn: 0.0795469\ttotal: 769ms\tremaining: 256ms\n",
      "750:\tlearn: 0.0794712\ttotal: 770ms\tremaining: 255ms\n",
      "751:\tlearn: 0.0793031\ttotal: 771ms\tremaining: 254ms\n",
      "752:\tlearn: 0.0791539\ttotal: 772ms\tremaining: 253ms\n",
      "753:\tlearn: 0.0789668\ttotal: 772ms\tremaining: 252ms\n",
      "754:\tlearn: 0.0788449\ttotal: 774ms\tremaining: 251ms\n",
      "755:\tlearn: 0.0787291\ttotal: 775ms\tremaining: 250ms\n",
      "756:\tlearn: 0.0786069\ttotal: 776ms\tremaining: 249ms\n",
      "757:\tlearn: 0.0784654\ttotal: 777ms\tremaining: 248ms\n",
      "758:\tlearn: 0.0782957\ttotal: 777ms\tremaining: 247ms\n",
      "759:\tlearn: 0.0782800\ttotal: 778ms\tremaining: 246ms\n",
      "760:\tlearn: 0.0781411\ttotal: 779ms\tremaining: 245ms\n",
      "761:\tlearn: 0.0780893\ttotal: 780ms\tremaining: 244ms\n",
      "762:\tlearn: 0.0779350\ttotal: 781ms\tremaining: 242ms\n",
      "763:\tlearn: 0.0777568\ttotal: 782ms\tremaining: 241ms\n",
      "764:\tlearn: 0.0776674\ttotal: 782ms\tremaining: 240ms\n",
      "765:\tlearn: 0.0775716\ttotal: 783ms\tremaining: 239ms\n",
      "766:\tlearn: 0.0775256\ttotal: 784ms\tremaining: 238ms\n",
      "767:\tlearn: 0.0774062\ttotal: 785ms\tremaining: 237ms\n",
      "768:\tlearn: 0.0773292\ttotal: 786ms\tremaining: 236ms\n",
      "769:\tlearn: 0.0772095\ttotal: 787ms\tremaining: 235ms\n",
      "770:\tlearn: 0.0770490\ttotal: 788ms\tremaining: 234ms\n",
      "771:\tlearn: 0.0768629\ttotal: 789ms\tremaining: 233ms\n",
      "772:\tlearn: 0.0768289\ttotal: 789ms\tremaining: 232ms\n",
      "773:\tlearn: 0.0766982\ttotal: 790ms\tremaining: 231ms\n",
      "774:\tlearn: 0.0766517\ttotal: 791ms\tremaining: 230ms\n",
      "775:\tlearn: 0.0766236\ttotal: 792ms\tremaining: 229ms\n",
      "776:\tlearn: 0.0765039\ttotal: 793ms\tremaining: 228ms\n",
      "777:\tlearn: 0.0764169\ttotal: 794ms\tremaining: 226ms\n",
      "778:\tlearn: 0.0762791\ttotal: 794ms\tremaining: 225ms\n",
      "779:\tlearn: 0.0762273\ttotal: 795ms\tremaining: 224ms\n",
      "780:\tlearn: 0.0761345\ttotal: 796ms\tremaining: 223ms\n",
      "781:\tlearn: 0.0760236\ttotal: 797ms\tremaining: 222ms\n",
      "782:\tlearn: 0.0759553\ttotal: 798ms\tremaining: 221ms\n",
      "783:\tlearn: 0.0758030\ttotal: 799ms\tremaining: 220ms\n",
      "784:\tlearn: 0.0757424\ttotal: 800ms\tremaining: 219ms\n",
      "785:\tlearn: 0.0755825\ttotal: 801ms\tremaining: 218ms\n",
      "786:\tlearn: 0.0754844\ttotal: 802ms\tremaining: 217ms\n",
      "787:\tlearn: 0.0753847\ttotal: 802ms\tremaining: 216ms\n",
      "788:\tlearn: 0.0753140\ttotal: 803ms\tremaining: 215ms\n",
      "789:\tlearn: 0.0752220\ttotal: 804ms\tremaining: 214ms\n",
      "790:\tlearn: 0.0751426\ttotal: 805ms\tremaining: 213ms\n",
      "791:\tlearn: 0.0750972\ttotal: 806ms\tremaining: 212ms\n",
      "792:\tlearn: 0.0749586\ttotal: 807ms\tremaining: 211ms\n",
      "793:\tlearn: 0.0749442\ttotal: 808ms\tremaining: 210ms\n",
      "794:\tlearn: 0.0747970\ttotal: 809ms\tremaining: 209ms\n",
      "795:\tlearn: 0.0747363\ttotal: 809ms\tremaining: 207ms\n",
      "796:\tlearn: 0.0746495\ttotal: 810ms\tremaining: 206ms\n",
      "797:\tlearn: 0.0745305\ttotal: 811ms\tremaining: 205ms\n",
      "798:\tlearn: 0.0743195\ttotal: 812ms\tremaining: 204ms\n",
      "799:\tlearn: 0.0742475\ttotal: 813ms\tremaining: 203ms\n",
      "800:\tlearn: 0.0740982\ttotal: 814ms\tremaining: 202ms\n",
      "801:\tlearn: 0.0740272\ttotal: 815ms\tremaining: 201ms\n",
      "802:\tlearn: 0.0738585\ttotal: 816ms\tremaining: 200ms\n",
      "803:\tlearn: 0.0737832\ttotal: 817ms\tremaining: 199ms\n",
      "804:\tlearn: 0.0736938\ttotal: 817ms\tremaining: 198ms\n",
      "805:\tlearn: 0.0736199\ttotal: 818ms\tremaining: 197ms\n",
      "806:\tlearn: 0.0734969\ttotal: 819ms\tremaining: 196ms\n",
      "807:\tlearn: 0.0733505\ttotal: 820ms\tremaining: 195ms\n",
      "808:\tlearn: 0.0732494\ttotal: 821ms\tremaining: 194ms\n",
      "809:\tlearn: 0.0731210\ttotal: 822ms\tremaining: 193ms\n",
      "810:\tlearn: 0.0729993\ttotal: 823ms\tremaining: 192ms\n",
      "811:\tlearn: 0.0728373\ttotal: 824ms\tremaining: 191ms\n",
      "812:\tlearn: 0.0726298\ttotal: 825ms\tremaining: 190ms\n",
      "813:\tlearn: 0.0725658\ttotal: 826ms\tremaining: 189ms\n",
      "814:\tlearn: 0.0724518\ttotal: 827ms\tremaining: 188ms\n",
      "815:\tlearn: 0.0723290\ttotal: 827ms\tremaining: 187ms\n",
      "816:\tlearn: 0.0721418\ttotal: 828ms\tremaining: 185ms\n",
      "817:\tlearn: 0.0720223\ttotal: 829ms\tremaining: 184ms\n",
      "818:\tlearn: 0.0718958\ttotal: 830ms\tremaining: 183ms\n",
      "819:\tlearn: 0.0717790\ttotal: 831ms\tremaining: 182ms\n",
      "820:\tlearn: 0.0717522\ttotal: 831ms\tremaining: 181ms\n",
      "821:\tlearn: 0.0716837\ttotal: 832ms\tremaining: 180ms\n",
      "822:\tlearn: 0.0715613\ttotal: 833ms\tremaining: 179ms\n",
      "823:\tlearn: 0.0714511\ttotal: 834ms\tremaining: 178ms\n",
      "824:\tlearn: 0.0713251\ttotal: 835ms\tremaining: 177ms\n",
      "825:\tlearn: 0.0712308\ttotal: 836ms\tremaining: 176ms\n",
      "826:\tlearn: 0.0711335\ttotal: 837ms\tremaining: 175ms\n",
      "827:\tlearn: 0.0710386\ttotal: 838ms\tremaining: 174ms\n",
      "828:\tlearn: 0.0709489\ttotal: 839ms\tremaining: 173ms\n",
      "829:\tlearn: 0.0708708\ttotal: 839ms\tremaining: 172ms\n",
      "830:\tlearn: 0.0708037\ttotal: 840ms\tremaining: 171ms\n",
      "831:\tlearn: 0.0706806\ttotal: 841ms\tremaining: 170ms\n",
      "832:\tlearn: 0.0705391\ttotal: 842ms\tremaining: 169ms\n",
      "833:\tlearn: 0.0704057\ttotal: 843ms\tremaining: 168ms\n",
      "834:\tlearn: 0.0702993\ttotal: 844ms\tremaining: 167ms\n",
      "835:\tlearn: 0.0701682\ttotal: 845ms\tremaining: 166ms\n",
      "836:\tlearn: 0.0700751\ttotal: 846ms\tremaining: 165ms\n",
      "837:\tlearn: 0.0699723\ttotal: 846ms\tremaining: 164ms\n",
      "838:\tlearn: 0.0698187\ttotal: 847ms\tremaining: 163ms\n",
      "839:\tlearn: 0.0697731\ttotal: 848ms\tremaining: 162ms\n",
      "840:\tlearn: 0.0697299\ttotal: 849ms\tremaining: 161ms\n",
      "841:\tlearn: 0.0696528\ttotal: 850ms\tremaining: 159ms\n",
      "842:\tlearn: 0.0696264\ttotal: 851ms\tremaining: 158ms\n",
      "843:\tlearn: 0.0695219\ttotal: 852ms\tremaining: 157ms\n",
      "844:\tlearn: 0.0694355\ttotal: 853ms\tremaining: 156ms\n",
      "845:\tlearn: 0.0694196\ttotal: 854ms\tremaining: 155ms\n",
      "846:\tlearn: 0.0692669\ttotal: 855ms\tremaining: 154ms\n",
      "847:\tlearn: 0.0691684\ttotal: 856ms\tremaining: 153ms\n",
      "848:\tlearn: 0.0691456\ttotal: 856ms\tremaining: 152ms\n",
      "849:\tlearn: 0.0691196\ttotal: 857ms\tremaining: 151ms\n",
      "850:\tlearn: 0.0690786\ttotal: 858ms\tremaining: 150ms\n",
      "851:\tlearn: 0.0689286\ttotal: 859ms\tremaining: 149ms\n",
      "852:\tlearn: 0.0688362\ttotal: 860ms\tremaining: 148ms\n",
      "853:\tlearn: 0.0688261\ttotal: 861ms\tremaining: 147ms\n",
      "854:\tlearn: 0.0687292\ttotal: 862ms\tremaining: 146ms\n",
      "855:\tlearn: 0.0686207\ttotal: 863ms\tremaining: 145ms\n",
      "856:\tlearn: 0.0684942\ttotal: 863ms\tremaining: 144ms\n",
      "857:\tlearn: 0.0684329\ttotal: 864ms\tremaining: 143ms\n",
      "858:\tlearn: 0.0683291\ttotal: 865ms\tremaining: 142ms\n",
      "859:\tlearn: 0.0682426\ttotal: 866ms\tremaining: 141ms\n",
      "860:\tlearn: 0.0681535\ttotal: 867ms\tremaining: 140ms\n",
      "861:\tlearn: 0.0680531\ttotal: 868ms\tremaining: 139ms\n",
      "862:\tlearn: 0.0679806\ttotal: 869ms\tremaining: 138ms\n",
      "863:\tlearn: 0.0678776\ttotal: 870ms\tremaining: 137ms\n",
      "864:\tlearn: 0.0677493\ttotal: 871ms\tremaining: 136ms\n",
      "865:\tlearn: 0.0677104\ttotal: 871ms\tremaining: 135ms\n",
      "866:\tlearn: 0.0676116\ttotal: 872ms\tremaining: 134ms\n",
      "867:\tlearn: 0.0675055\ttotal: 873ms\tremaining: 133ms\n",
      "868:\tlearn: 0.0673972\ttotal: 874ms\tremaining: 132ms\n"
     ]
    },
    {
     "name": "stdout",
     "output_type": "stream",
     "text": [
      "869:\tlearn: 0.0673079\ttotal: 875ms\tremaining: 131ms\n",
      "870:\tlearn: 0.0672487\ttotal: 876ms\tremaining: 130ms\n",
      "871:\tlearn: 0.0672362\ttotal: 877ms\tremaining: 129ms\n",
      "872:\tlearn: 0.0670897\ttotal: 878ms\tremaining: 128ms\n",
      "873:\tlearn: 0.0670720\ttotal: 879ms\tremaining: 127ms\n",
      "874:\tlearn: 0.0669746\ttotal: 880ms\tremaining: 126ms\n",
      "875:\tlearn: 0.0668784\ttotal: 881ms\tremaining: 125ms\n",
      "876:\tlearn: 0.0667714\ttotal: 882ms\tremaining: 124ms\n",
      "877:\tlearn: 0.0666960\ttotal: 883ms\tremaining: 123ms\n",
      "878:\tlearn: 0.0665517\ttotal: 884ms\tremaining: 122ms\n",
      "879:\tlearn: 0.0664356\ttotal: 885ms\tremaining: 121ms\n",
      "880:\tlearn: 0.0663656\ttotal: 886ms\tremaining: 120ms\n",
      "881:\tlearn: 0.0662913\ttotal: 886ms\tremaining: 119ms\n",
      "882:\tlearn: 0.0662647\ttotal: 887ms\tremaining: 118ms\n",
      "883:\tlearn: 0.0661687\ttotal: 888ms\tremaining: 117ms\n",
      "884:\tlearn: 0.0660374\ttotal: 889ms\tremaining: 116ms\n",
      "885:\tlearn: 0.0659324\ttotal: 890ms\tremaining: 115ms\n",
      "886:\tlearn: 0.0657968\ttotal: 891ms\tremaining: 114ms\n",
      "887:\tlearn: 0.0657265\ttotal: 892ms\tremaining: 112ms\n",
      "888:\tlearn: 0.0656406\ttotal: 893ms\tremaining: 111ms\n",
      "889:\tlearn: 0.0655445\ttotal: 893ms\tremaining: 110ms\n",
      "890:\tlearn: 0.0653982\ttotal: 894ms\tremaining: 109ms\n",
      "891:\tlearn: 0.0652740\ttotal: 895ms\tremaining: 108ms\n",
      "892:\tlearn: 0.0651930\ttotal: 896ms\tremaining: 107ms\n",
      "893:\tlearn: 0.0650264\ttotal: 897ms\tremaining: 106ms\n",
      "894:\tlearn: 0.0649937\ttotal: 898ms\tremaining: 105ms\n",
      "895:\tlearn: 0.0649059\ttotal: 899ms\tremaining: 104ms\n",
      "896:\tlearn: 0.0647677\ttotal: 900ms\tremaining: 103ms\n",
      "897:\tlearn: 0.0646811\ttotal: 901ms\tremaining: 102ms\n",
      "898:\tlearn: 0.0645483\ttotal: 901ms\tremaining: 101ms\n",
      "899:\tlearn: 0.0645139\ttotal: 902ms\tremaining: 100ms\n",
      "900:\tlearn: 0.0644326\ttotal: 903ms\tremaining: 99.2ms\n",
      "901:\tlearn: 0.0643619\ttotal: 904ms\tremaining: 98.2ms\n",
      "902:\tlearn: 0.0642586\ttotal: 905ms\tremaining: 97.2ms\n",
      "903:\tlearn: 0.0641431\ttotal: 906ms\tremaining: 96.2ms\n",
      "904:\tlearn: 0.0641206\ttotal: 906ms\tremaining: 95.1ms\n",
      "905:\tlearn: 0.0640057\ttotal: 907ms\tremaining: 94.1ms\n",
      "906:\tlearn: 0.0639250\ttotal: 908ms\tremaining: 93.1ms\n",
      "907:\tlearn: 0.0638443\ttotal: 909ms\tremaining: 92.1ms\n",
      "908:\tlearn: 0.0637244\ttotal: 910ms\tremaining: 91.1ms\n",
      "909:\tlearn: 0.0635311\ttotal: 911ms\tremaining: 90.1ms\n",
      "910:\tlearn: 0.0634477\ttotal: 912ms\tremaining: 89.1ms\n",
      "911:\tlearn: 0.0633482\ttotal: 913ms\tremaining: 88.1ms\n",
      "912:\tlearn: 0.0632630\ttotal: 914ms\tremaining: 87.1ms\n",
      "913:\tlearn: 0.0632318\ttotal: 915ms\tremaining: 86.1ms\n",
      "914:\tlearn: 0.0631460\ttotal: 916ms\tremaining: 85.1ms\n",
      "915:\tlearn: 0.0630355\ttotal: 917ms\tremaining: 84.1ms\n",
      "916:\tlearn: 0.0629902\ttotal: 917ms\tremaining: 83ms\n",
      "917:\tlearn: 0.0629368\ttotal: 918ms\tremaining: 82ms\n",
      "918:\tlearn: 0.0628569\ttotal: 919ms\tremaining: 81ms\n",
      "919:\tlearn: 0.0627965\ttotal: 920ms\tremaining: 80ms\n",
      "920:\tlearn: 0.0626441\ttotal: 921ms\tremaining: 79ms\n",
      "921:\tlearn: 0.0626174\ttotal: 922ms\tremaining: 78ms\n",
      "922:\tlearn: 0.0625710\ttotal: 923ms\tremaining: 77ms\n",
      "923:\tlearn: 0.0624934\ttotal: 924ms\tremaining: 76ms\n",
      "924:\tlearn: 0.0623519\ttotal: 925ms\tremaining: 75ms\n",
      "925:\tlearn: 0.0622611\ttotal: 926ms\tremaining: 74ms\n",
      "926:\tlearn: 0.0621523\ttotal: 927ms\tremaining: 73ms\n",
      "927:\tlearn: 0.0621272\ttotal: 928ms\tremaining: 72ms\n",
      "928:\tlearn: 0.0620116\ttotal: 929ms\tremaining: 71ms\n",
      "929:\tlearn: 0.0619371\ttotal: 929ms\tremaining: 70ms\n",
      "930:\tlearn: 0.0618222\ttotal: 930ms\tremaining: 68.9ms\n",
      "931:\tlearn: 0.0617624\ttotal: 931ms\tremaining: 67.9ms\n",
      "932:\tlearn: 0.0617362\ttotal: 932ms\tremaining: 66.9ms\n",
      "933:\tlearn: 0.0616771\ttotal: 933ms\tremaining: 65.9ms\n",
      "934:\tlearn: 0.0616396\ttotal: 934ms\tremaining: 64.9ms\n",
      "935:\tlearn: 0.0615507\ttotal: 934ms\tremaining: 63.9ms\n",
      "936:\tlearn: 0.0614957\ttotal: 935ms\tremaining: 62.9ms\n",
      "937:\tlearn: 0.0614023\ttotal: 936ms\tremaining: 61.9ms\n",
      "938:\tlearn: 0.0613125\ttotal: 937ms\tremaining: 60.9ms\n",
      "939:\tlearn: 0.0612829\ttotal: 938ms\tremaining: 59.9ms\n",
      "940:\tlearn: 0.0611637\ttotal: 939ms\tremaining: 58.9ms\n",
      "941:\tlearn: 0.0610659\ttotal: 940ms\tremaining: 57.9ms\n",
      "942:\tlearn: 0.0610367\ttotal: 941ms\tremaining: 56.9ms\n",
      "943:\tlearn: 0.0609429\ttotal: 941ms\tremaining: 55.9ms\n",
      "944:\tlearn: 0.0608103\ttotal: 942ms\tremaining: 54.8ms\n",
      "945:\tlearn: 0.0607371\ttotal: 943ms\tremaining: 53.8ms\n",
      "946:\tlearn: 0.0606632\ttotal: 944ms\tremaining: 52.8ms\n",
      "947:\tlearn: 0.0605114\ttotal: 945ms\tremaining: 51.8ms\n",
      "948:\tlearn: 0.0604262\ttotal: 946ms\tremaining: 50.8ms\n",
      "949:\tlearn: 0.0604056\ttotal: 947ms\tremaining: 49.8ms\n",
      "950:\tlearn: 0.0603255\ttotal: 948ms\tremaining: 48.8ms\n",
      "951:\tlearn: 0.0601595\ttotal: 948ms\tremaining: 47.8ms\n",
      "952:\tlearn: 0.0601295\ttotal: 949ms\tremaining: 46.8ms\n",
      "953:\tlearn: 0.0600164\ttotal: 950ms\tremaining: 45.8ms\n",
      "954:\tlearn: 0.0598812\ttotal: 951ms\tremaining: 44.8ms\n",
      "955:\tlearn: 0.0597870\ttotal: 952ms\tremaining: 43.8ms\n",
      "956:\tlearn: 0.0597274\ttotal: 953ms\tremaining: 42.8ms\n",
      "957:\tlearn: 0.0596521\ttotal: 954ms\tremaining: 41.8ms\n",
      "958:\tlearn: 0.0596218\ttotal: 955ms\tremaining: 40.8ms\n",
      "959:\tlearn: 0.0595074\ttotal: 956ms\tremaining: 39.8ms\n",
      "960:\tlearn: 0.0593751\ttotal: 956ms\tremaining: 38.8ms\n"
     ]
    },
    {
     "name": "stdout",
     "output_type": "stream",
     "text": [
      "961:\tlearn: 0.0593138\ttotal: 957ms\tremaining: 37.8ms\n",
      "962:\tlearn: 0.0592798\ttotal: 959ms\tremaining: 36.8ms\n",
      "963:\tlearn: 0.0592099\ttotal: 959ms\tremaining: 35.8ms\n",
      "964:\tlearn: 0.0591491\ttotal: 960ms\tremaining: 34.8ms\n",
      "965:\tlearn: 0.0590436\ttotal: 961ms\tremaining: 33.8ms\n",
      "966:\tlearn: 0.0589831\ttotal: 962ms\tremaining: 32.8ms\n",
      "967:\tlearn: 0.0589446\ttotal: 963ms\tremaining: 31.8ms\n",
      "968:\tlearn: 0.0588788\ttotal: 964ms\tremaining: 30.8ms\n",
      "969:\tlearn: 0.0587700\ttotal: 965ms\tremaining: 29.8ms\n",
      "970:\tlearn: 0.0586235\ttotal: 966ms\tremaining: 28.8ms\n",
      "971:\tlearn: 0.0585536\ttotal: 967ms\tremaining: 27.8ms\n",
      "972:\tlearn: 0.0584626\ttotal: 968ms\tremaining: 26.8ms\n",
      "973:\tlearn: 0.0583983\ttotal: 968ms\tremaining: 25.8ms\n",
      "974:\tlearn: 0.0583295\ttotal: 969ms\tremaining: 24.9ms\n",
      "975:\tlearn: 0.0582576\ttotal: 970ms\tremaining: 23.9ms\n",
      "976:\tlearn: 0.0581230\ttotal: 971ms\tremaining: 22.9ms\n",
      "977:\tlearn: 0.0580434\ttotal: 972ms\tremaining: 21.9ms\n",
      "978:\tlearn: 0.0579938\ttotal: 973ms\tremaining: 20.9ms\n",
      "979:\tlearn: 0.0579188\ttotal: 974ms\tremaining: 19.9ms\n",
      "980:\tlearn: 0.0578753\ttotal: 975ms\tremaining: 18.9ms\n",
      "981:\tlearn: 0.0577861\ttotal: 976ms\tremaining: 17.9ms\n",
      "982:\tlearn: 0.0576557\ttotal: 976ms\tremaining: 16.9ms\n",
      "983:\tlearn: 0.0576246\ttotal: 977ms\tremaining: 15.9ms\n",
      "984:\tlearn: 0.0575675\ttotal: 978ms\tremaining: 14.9ms\n",
      "985:\tlearn: 0.0574977\ttotal: 979ms\tremaining: 13.9ms\n",
      "986:\tlearn: 0.0574329\ttotal: 980ms\tremaining: 12.9ms\n",
      "987:\tlearn: 0.0573952\ttotal: 981ms\tremaining: 11.9ms\n",
      "988:\tlearn: 0.0572919\ttotal: 982ms\tremaining: 10.9ms\n",
      "989:\tlearn: 0.0572628\ttotal: 983ms\tremaining: 9.93ms\n",
      "990:\tlearn: 0.0571909\ttotal: 983ms\tremaining: 8.93ms\n",
      "991:\tlearn: 0.0570905\ttotal: 984ms\tremaining: 7.94ms\n",
      "992:\tlearn: 0.0570479\ttotal: 985ms\tremaining: 6.95ms\n",
      "993:\tlearn: 0.0569739\ttotal: 986ms\tremaining: 5.95ms\n",
      "994:\tlearn: 0.0568532\ttotal: 987ms\tremaining: 4.96ms\n",
      "995:\tlearn: 0.0567401\ttotal: 988ms\tremaining: 3.97ms\n",
      "996:\tlearn: 0.0566830\ttotal: 989ms\tremaining: 2.98ms\n",
      "997:\tlearn: 0.0565947\ttotal: 990ms\tremaining: 1.98ms\n",
      "998:\tlearn: 0.0565547\ttotal: 991ms\tremaining: 991us\n",
      "999:\tlearn: 0.0565311\ttotal: 992ms\tremaining: 0us\n"
     ]
    },
    {
     "data": {
      "text/plain": [
       "<catboost.core.CatBoostRegressor at 0x7fa4cc2b8d00>"
      ]
     },
     "execution_count": 9,
     "metadata": {},
     "output_type": "execute_result"
    }
   ],
   "source": [
    "#Train the Model \n",
    "prior_model = ctb.CatBoostRegressor()\n",
    "prior_model.fit(X_train,Y_train)"
   ]
  },
  {
   "cell_type": "code",
   "execution_count": 10,
   "id": "af65dcda",
   "metadata": {
    "execution": {
     "iopub.execute_input": "2022-06-11T17:21:20.396314Z",
     "iopub.status.busy": "2022-06-11T17:21:20.395935Z",
     "iopub.status.idle": "2022-06-11T17:21:20.403417Z",
     "shell.execute_reply": "2022-06-11T17:21:20.403676Z"
    },
    "id": "af65dcda",
    "papermill": {
     "duration": 0.021683,
     "end_time": "2022-06-11T17:21:20.403794",
     "exception": false,
     "start_time": "2022-06-11T17:21:20.382111",
     "status": "completed"
    },
    "tags": []
   },
   "outputs": [
    {
     "data": {
      "application/scrapbook.scrap.json+json": {
       "data": 0.08393780844017736,
       "encoder": "json",
       "name": "Prior Model MSE",
       "version": 1
      }
     },
     "metadata": {
      "scrapbook": {
       "data": true,
       "display": false,
       "name": "Prior Model MSE"
      }
     },
     "output_type": "display_data"
    },
    {
     "data": {
      "application/scrapbook.scrap.json+json": {
       "data": 0.09808122286305995,
       "encoder": "json",
       "name": "ABC Pre-generator MSE",
       "version": 1
      }
     },
     "metadata": {
      "scrapbook": {
       "data": true,
       "display": false,
       "name": "ABC Pre-generator MSE"
      }
     },
     "output_type": "display_data"
    },
    {
     "data": {
      "application/scrapbook.scrap.json+json": {
       "data": 0.2104620790726577,
       "encoder": "json",
       "name": "Prior Model MSE",
       "version": 1
      }
     },
     "metadata": {
      "scrapbook": {
       "data": true,
       "display": false,
       "name": "Prior Model MSE"
      }
     },
     "output_type": "display_data"
    },
    {
     "data": {
      "application/scrapbook.scrap.json+json": {
       "data": 0.2370161639180142,
       "encoder": "json",
       "name": "ABC Pre-generator MSE",
       "version": 1
      }
     },
     "metadata": {
      "scrapbook": {
       "data": true,
       "display": false,
       "name": "ABC Pre-generator MSE"
      }
     },
     "output_type": "display_data"
    }
   ],
   "source": [
    "y_pred = prior_model.predict(X_test)\n",
    "y_abc = y_pred + np.random.normal(0,variance, y_pred.shape) + bias \n",
    "mse = mean_squared_error(y_pred,Y_test)\n",
    "sb.glue(\"Prior Model MSE\",mse)\n",
    "mse = mean_squared_error(y_abc,Y_test)\n",
    "sb.glue(\"ABC Pre-generator MSE\",mse)\n",
    "mae = mean_absolute_error(y_pred,Y_test)\n",
    "sb.glue(\"Prior Model MSE\",mae)\n",
    "mae = mean_absolute_error(y_abc,Y_test)\n",
    "sb.glue(\"ABC Pre-generator MSE\",mae)"
   ]
  },
  {
   "cell_type": "markdown",
   "id": "25609da2",
   "metadata": {
    "papermill": {
     "duration": 0.009958,
     "end_time": "2022-06-11T17:21:20.424100",
     "exception": false,
     "start_time": "2022-06-11T17:21:20.414142",
     "status": "completed"
    },
    "tags": []
   },
   "source": [
    "# ABC GAN Model"
   ]
  },
  {
   "cell_type": "code",
   "execution_count": 11,
   "id": "dfc3464d",
   "metadata": {
    "execution": {
     "iopub.execute_input": "2022-06-11T17:21:20.447049Z",
     "iopub.status.busy": "2022-06-11T17:21:20.446660Z",
     "iopub.status.idle": "2022-06-11T17:21:20.449397Z",
     "shell.execute_reply": "2022-06-11T17:21:20.449647Z"
    },
    "papermill": {
     "duration": 0.015643,
     "end_time": "2022-06-11T17:21:20.449765",
     "exception": false,
     "start_time": "2022-06-11T17:21:20.434122",
     "status": "completed"
    },
    "tags": []
   },
   "outputs": [],
   "source": [
    "gen = network.Generator(n_features+1).to(device)\n",
    "disc = network.Discriminator(n_features+1).to(device)\n",
    "\n",
    "criterion = torch.nn.BCELoss()\n",
    "gen_opt = torch.optim.Adam(gen.parameters(), lr=0.001, betas=(0.5, 0.999))\n",
    "disc_opt = torch.optim.Adam(disc.parameters(), lr=0.001, betas=(0.5, 0.999))"
   ]
  },
  {
   "cell_type": "code",
   "execution_count": 12,
   "id": "b75fdd85",
   "metadata": {
    "execution": {
     "iopub.execute_input": "2022-06-11T17:21:20.472767Z",
     "iopub.status.busy": "2022-06-11T17:21:20.472401Z",
     "iopub.status.idle": "2022-06-11T17:25:07.208422Z",
     "shell.execute_reply": "2022-06-11T17:25:07.208713Z"
    },
    "papermill": {
     "duration": 226.748892,
     "end_time": "2022-06-11T17:25:07.208831",
     "exception": false,
     "start_time": "2022-06-11T17:21:20.459939",
     "status": "completed"
    },
    "tags": []
   },
   "outputs": [
    {
     "data": {
      "image/png": "[encoded data removed]",
      "text/plain": [
       "<Figure size 432x288 with 1 Axes>"
      ]
     },
     "metadata": {
      "needs_background": "light"
     },
     "output_type": "display_data"
    },
    {
     "data": {
      "image/png": "[encoded data removed]",
      "text/plain": [
       "<Figure size 432x288 with 1 Axes>"
      ]
     },
     "metadata": {
      "needs_background": "light"
     },
     "output_type": "display_data"
    }
   ],
   "source": [
    "#Training the ABC_GAN \n",
    "ABC_train_test2.training_GAN(disc,gen,disc_opt,gen_opt,train_data,batch_size,n_epochs,criterion,prior_model,variance,bias,device)"
   ]
  },
  {
   "cell_type": "code",
   "execution_count": 13,
   "id": "1fa7c368",
   "metadata": {
    "execution": {
     "iopub.execute_input": "2022-06-11T17:25:07.233871Z",
     "iopub.status.busy": "2022-06-11T17:25:07.233458Z",
     "iopub.status.idle": "2022-06-11T17:25:07.545537Z",
     "shell.execute_reply": "2022-06-11T17:25:07.545795Z"
    },
    "papermill": {
     "duration": 0.326337,
     "end_time": "2022-06-11T17:25:07.545917",
     "exception": false,
     "start_time": "2022-06-11T17:25:07.219580",
     "status": "completed"
    },
    "tags": []
   },
   "outputs": [
    {
     "data": {
      "application/scrapbook.scrap.json+json": {
       "data": 0.08793729586903033,
       "encoder": "json",
       "name": "ABC-GAN Model 1 MSE",
       "version": 1
      }
     },
     "metadata": {
      "scrapbook": {
       "data": true,
       "display": false,
       "name": "ABC-GAN Model 1 MSE"
      }
     },
     "output_type": "display_data"
    },
    {
     "data": {
      "application/scrapbook.scrap.json+json": {
       "data": 0.2159762511869856,
       "encoder": "json",
       "name": "ABC-GAN Model 1 MAE",
       "version": 1
      }
     },
     "metadata": {
      "scrapbook": {
       "data": true,
       "display": false,
       "name": "ABC-GAN Model 1 MAE"
      }
     },
     "output_type": "display_data"
    },
    {
     "data": {
      "application/scrapbook.scrap.json+json": {
       "data": 22.02957762107253,
       "encoder": "json",
       "name": "ABC-GAN Model 1 Manhattan Distance",
       "version": 1
      }
     },
     "metadata": {
      "scrapbook": {
       "data": true,
       "display": false,
       "name": "ABC-GAN Model 1 Manhattan Distance"
      }
     },
     "output_type": "display_data"
    },
    {
     "data": {
      "application/scrapbook.scrap.json+json": {
       "data": 2.9949134971555638,
       "encoder": "json",
       "name": "ABC-GAN Model 1 Euclidean distance",
       "version": 1
      }
     },
     "metadata": {
      "scrapbook": {
       "data": true,
       "display": false,
       "name": "ABC-GAN Model 1 Euclidean distance"
      }
     },
     "output_type": "display_data"
    },
    {
     "data": {
      "application/scrapbook.scrap.json+json": {
       "data": [
        [
         0.08723957108180147,
         0.08745476332425467,
         0.08788264949126583,
         0.08833153447470796,
         0.08722699696437193,
         0.0886021044689318,
         0.08963797610034696,
         0.08828288061970238,
         0.08926638115239255,
         0.08890492225056602,
         0.0886106934468195,
         0.0880324873757829,
         0.08821877715434852,
         0.08782476663021672,
         0.0881765514832933,
         0.08738892867374823,
         0.08774775864177925,
         0.08730469150250231,
         0.08929402019898196,
         0.08728527941180604,
         0.0889202609749623,
         0.08738700515694325,
         0.08711265228413388,
         0.08742393855604016,
         0.08801917251253262,
         0.08773407874610249,
         0.08827666487203435,
         0.08859221842335951,
         0.08898234670859739,
         0.0871792891018935,
         0.0879247286381996,
         0.08791848938272268,
         0.0884808630849657,
         0.08791077767911366,
         0.08827334005847508,
         0.08915642973628922,
         0.08792763886935913,
         0.08821140562680817,
         0.08892050400128587,
         0.08804374616868726,
         0.08753363279496536,
         0.0879118760203232,
         0.08804851554997087,
         0.08732190728061472,
         0.08844534327045851,
         0.08787727956755487,
         0.0880343802305826,
         0.08844020497115,
         0.08741058737151833,
         0.08777073834753331,
         0.0878998560095883,
         0.08805367947090746,
         0.08754252449117178,
         0.0882206164039116,
         0.08666260737203688,
         0.08705179941084243,
         0.08747672146375535,
         0.08849474122124429,
         0.0875705464865487,
         0.0876752845494202,
         0.08914935344291396,
         0.08854866196102183,
         0.08790001989539124,
         0.08766146612055312,
         0.0886311584254188,
         0.0880364771366899,
         0.08788971012149732,
         0.08716053017058065,
         0.08797770170344714,
         0.08744744976384833,
         0.08813400724707034,
         0.08708524663212262,
         0.08808590333831401,
         0.08855410278391133,
         0.08788610875851686,
         0.08783425413158838,
         0.08821467277404142,
         0.08756357324780355,
         0.08795312829237896,
         0.08820264288750108,
         0.08748251056204047,
         0.08755082838845471,
         0.08794421812165783,
         0.08668235793728056,
         0.08812447163777432,
         0.08760706720563985,
         0.08752834262282724,
         0.08770159357844204,
         0.08676126788885982,
         0.08866220889193212,
         0.08725878508361479,
         0.08756742872461191,
         0.08790004314291013,
         0.08817766387955402,
         0.08757268532028172,
         0.08748460465969549,
         0.08784313366005947,
         0.08758844212380229,
         0.08823198925661459,
         0.08759164806814364
        ],
        [
         0.21419386003239482,
         0.2153327861325998,
         0.2148944986436297,
         0.2168249380866102,
         0.21461322494581633,
         0.21686104188362756,
         0.2179137040294853,
         0.21652259630169354,
         0.21765033046112342,
         0.21742294458489791,
         0.21664161753712916,
         0.21492995270619206,
         0.21621611319920597,
         0.21603379698068487,
         0.21606679899873688,
         0.21395761629237847,
         0.2163172257589359,
         0.21535854541934005,
         0.21704142409212449,
         0.21455654607830094,
         0.21777267315808466,
         0.21357406412853913,
         0.21499463378944816,
         0.21563168443447234,
         0.2155500923593839,
         0.21590181827252986,
         0.21516153734980845,
         0.21606213007779682,
         0.21645824370138786,
         0.21541666772727872,
         0.21563012156562478,
         0.2166908868022409,
         0.21774449414920574,
         0.21706025857551425,
         0.21765067961578274,
         0.21813462722096957,
         0.21583676356457027,
         0.21585562025361202,
         0.21722420681194932,
         0.21572451585648106,
         0.21539984252669064,
         0.215072359670611,
         0.2181426612112452,
         0.21573900986535877,
         0.2177963314906639,
         0.21647625211991517,
         0.2161248671438764,
         0.21549403437358491,
         0.214945205980364,
         0.2158431745700392,
         0.21606378063705622,
         0.21706516317584934,
         0.2151113486319196,
         0.21614188554824568,
         0.21333468548369175,
         0.21353013006349406,
         0.21490181219197957,
         0.21700693703457422,
         0.2158257731181734,
         0.2166985255099979,
         0.2177059719083356,
         0.21665921157189444,
         0.2166602643316283,
         0.2155066373593667,
         0.2186269910604346,
         0.21640389087591685,
         0.21611439476848818,
         0.21423082933852486,
         0.21598328891045906,
         0.21565454197572728,
         0.21428414149319425,
         0.21562159393786215,
         0.21640180566293352,
         0.2174790692241753,
         0.21627940230217635,
         0.21611765589491994,
         0.21707874017895437,
         0.21483834880385913,
         0.21581214542190233,
         0.21520148451421775,
         0.21607138011969773,
         0.21613606792308537,
         0.21721215038469024,
         0.21437059160248906,
         0.21559727681325933,
         0.21523529298457444,
         0.2151314809772314,
         0.21543734947986462,
         0.21505155180599175,
         0.21583354790859363,
         0.21388131752610207,
         0.21645468053426228,
         0.21581889393136783,
         0.21729611864715231,
         0.21470888053961829,
         0.21648679388796582,
         0.21555102945250623,
         0.21651081025016075,
         0.21567403094149104,
         0.21636640152656564
        ],
        [
         21.84777372330427,
         21.96394418552518,
         21.91923886165023,
         22.116143684834242,
         21.890548944473267,
         22.119826272130013,
         22.2271978110075,
         22.08530482277274,
         22.200333707034588,
         22.177140347659588,
         22.097444988787174,
         21.92285517603159,
         22.054043546319008,
         22.035447292029858,
         22.03881349787116,
         21.823676861822605,
         22.06435702741146,
         21.966571632772684,
         22.138225257396698,
         21.884767699986696,
         22.212812662124634,
         21.784554541110992,
         21.929452646523714,
         21.99443181231618,
         21.986109420657158,
         22.021985463798046,
         21.946476809680462,
         22.038337267935276,
         22.07874085754156,
         21.97250010818243,
         21.994272399693727,
         22.102470453828573,
         22.209938403218985,
         22.140146374702454,
         22.20036932080984,
         22.249731976538897,
         22.01534988358617,
         22.017273265868425,
         22.15686909481883,
         22.00390061736107,
         21.970783937722445,
         21.93738068640232,
         22.25055144354701,
         22.005379006266594,
         22.21522581204772,
         22.080577716231346,
         22.044736448675394,
         21.98039150610566,
         21.92441100999713,
         22.016003806144,
         22.038505624979734,
         22.140646643936634,
         21.9413575604558,
         22.04647232592106,
         21.760137919336557,
         21.780073266476393,
         21.919984843581915,
         22.13470757752657,
         22.014228858053684,
         22.103249602019787,
         22.20600913465023,
         22.099239580333233,
         22.099346961826086,
         21.981677010655403,
         22.29995308816433,
         22.07319686934352,
         22.043668266385794,
         21.851544592529535,
         22.030295468866825,
         21.99676328152418,
         21.856982432305813,
         21.99340258166194,
         22.07298417761922,
         22.18286506086588,
         22.060499034821987,
         22.044000901281834,
         22.142031498253345,
         21.91351157799363,
         22.01283883303404,
         21.95055142045021,
         22.039280772209167,
         22.045878928154707,
         22.155639339238405,
         21.865800343453884,
         21.99092223495245,
         21.953999884426594,
         21.9434110596776,
         21.974609646946192,
         21.93525828421116,
         22.01502188667655,
         21.81589438766241,
         22.078377414494753,
         22.013527180999517,
         22.164204102009535,
         21.900305815041065,
         22.081652976572514,
         21.986205004155636,
         22.084102645516396,
         21.998751156032085,
         22.069372955709696
        ],
        [
         2.983024681484172,
         2.9867015015019454,
         2.993999039430226,
         3.001635640183567,
         2.9828096973098925,
         3.00622930859092,
         3.0237515708529017,
         3.000808861492121,
         3.017477568689457,
         3.0113621618061375,
         3.0063750151262876,
         2.9965503019855775,
         2.999719198482343,
         2.9930128961102227,
         2.99900120895206,
         2.9855771175305987,
         2.9917004163955787,
         2.9841378207541345,
         3.017944674823606,
         2.9838060426247908,
         3.011621925050712,
         2.985544259596265,
         2.9808539939053795,
         2.9861751008130946,
         2.996323680158458,
         2.991467203915572,
         3.0007032204047603,
         3.0060615893861304,
         3.012673126025612,
         2.9819938779939066,
         2.9947157329363265,
         2.9946094765491065,
         3.0041717718310483,
         2.9944781387195984,
         3.0006467112881605,
         3.015618648486824,
         2.9947652937541918,
         2.999593868165228,
         3.01162604055204,
         2.9967419156821133,
         2.9880479489269356,
         2.9944968448928053,
         2.9968230822150694,
         2.9844320301562743,
         3.0035687129790736,
         2.99390756635715,
         2.996582517388671,
         3.0034814644104766,
         2.98594707118108,
         2.9920921295054397,
         2.994292122184809,
         2.9969109606447373,
         2.9881997085368175,
         2.9997504684888345,
         2.9731441189333156,
         2.9798126685927637,
         2.9870764284335016,
         3.0044073632859636,
         2.9886779253756948,
         2.990464683630432,
         3.015498972173133,
         3.005322531779946,
         2.99429491355309,
         2.9902290120150354,
         3.006722161988486,
         2.996618205234422,
         2.994119308309661,
         2.9816730332816888,
         2.995617728240973,
         2.986576614773599,
         2.9982776287730886,
         2.980385068489726,
         2.9974592808757268,
         3.0054148605407134,
         2.9940579642633374,
         2.9931745557888894,
         2.9996494166739263,
         2.9885589288611927,
         2.995199339914232,
         2.9994448777273948,
         2.987175267259711,
         2.988341428890344,
         2.9950476203908845,
         2.9734828920985263,
         2.9981154259055773,
         2.9893010646261886,
         2.9879576549088473,
         2.990913329570265,
         2.9748360164324517,
         3.0072487936612555,
         2.9833531602089463,
         2.988624722160749,
         2.994295309513881,
         2.999020125926885,
         2.98871442307035,
         2.987211019544642,
         2.9933258481705707,
         2.988983288114511,
         2.999943816836357,
         2.989037989546244
        ]
       ],
       "encoder": "json",
       "name": "ABC_GAN_1 Metrics",
       "version": 1
      }
     },
     "metadata": {
      "scrapbook": {
       "data": true,
       "display": false,
       "name": "ABC_GAN_1 Metrics"
      }
     },
     "output_type": "display_data"
    },
    {
     "name": "stdout",
     "output_type": "stream",
     "text": [
      "MSE\n",
      "0.08793729586903033\n"
     ]
    }
   ],
   "source": [
    "ABC_GAN1_metrics=ABC_train_test2.test_generator(gen,test_data,prior_model,variance,bias,\"1\",device)\n",
    "sb.glue(\"ABC_GAN_1 Metrics\",ABC_GAN1_metrics)\n",
    "\n",
    "print(\"MSE\")\n",
    "print(mean(ABC_GAN1_metrics[0]))"
   ]
  },
  {
   "cell_type": "code",
   "execution_count": 14,
   "id": "eb22ce5c",
   "metadata": {
    "execution": {
     "iopub.execute_input": "2022-06-11T17:25:07.574277Z",
     "iopub.status.busy": "2022-06-11T17:25:07.573902Z",
     "iopub.status.idle": "2022-06-11T17:25:07.889349Z",
     "shell.execute_reply": "2022-06-11T17:25:07.889588Z"
    },
    "papermill": {
     "duration": 0.331142,
     "end_time": "2022-06-11T17:25:07.889712",
     "exception": false,
     "start_time": "2022-06-11T17:25:07.558570",
     "status": "completed"
    },
    "tags": []
   },
   "outputs": [
    {
     "data": {
      "image/png": "[encoded data removed]",
      "text/plain": [
       "<Figure size 432x288 with 1 Axes>"
      ]
     },
     "metadata": {
      "needs_background": "light"
     },
     "output_type": "display_data"
    },
    {
     "data": {
      "image/png": "[encoded data removed]",
      "text/plain": [
       "<Figure size 432x288 with 1 Axes>"
      ]
     },
     "metadata": {
      "needs_background": "light"
     },
     "output_type": "display_data"
    },
    {
     "data": {
      "image/png": "[encoded data removed]",
      "text/plain": [
       "<Figure size 432x288 with 1 Axes>"
      ]
     },
     "metadata": {
      "needs_background": "light"
     },
     "output_type": "display_data"
    },
    {
     "data": {
      "image/png": "[encoded data removed]",
      "text/plain": [
       "<Figure size 432x288 with 1 Axes>"
      ]
     },
     "metadata": {
      "needs_background": "light"
     },
     "output_type": "display_data"
    }
   ],
   "source": [
    "sanityChecks.discProbVsError(train_data,disc,device)\n",
    "sanityChecks.discProbVsError(test_data,disc,device)"
   ]
  },
  {
   "cell_type": "markdown",
   "id": "130f3a4d",
   "metadata": {
    "id": "130f3a4d",
    "papermill": {
     "duration": 0.014264,
     "end_time": "2022-06-11T17:25:07.918834",
     "exception": false,
     "start_time": "2022-06-11T17:25:07.904570",
     "status": "completed"
    },
    "tags": []
   },
   "source": [
    "# ABC - GAN Model with skip connection"
   ]
  },
  {
   "cell_type": "code",
   "execution_count": 15,
   "id": "4e43dad1",
   "metadata": {
    "execution": {
     "iopub.execute_input": "2022-06-11T17:25:07.951681Z",
     "iopub.status.busy": "2022-06-11T17:25:07.951175Z",
     "iopub.status.idle": "2022-06-11T17:25:07.953734Z",
     "shell.execute_reply": "2022-06-11T17:25:07.953962Z"
    },
    "id": "4e43dad1",
    "papermill": {
     "duration": 0.020833,
     "end_time": "2022-06-11T17:25:07.954089",
     "exception": false,
     "start_time": "2022-06-11T17:25:07.933256",
     "status": "completed"
    },
    "tags": []
   },
   "outputs": [],
   "source": [
    "#Generator\n",
    "gen3 = network.GeneratorWithSkipConnection(n_features+1).to(device)\n",
    "constraints=network.weightConstraint()\n",
    "#Discriminator \n",
    "disc3 = network.Discriminator(n_features+1).to(device)\n",
    "\n",
    "criterion = torch.nn.BCELoss()\n",
    "gen_opt = torch.optim.Adam(gen3.parameters(), lr=0.001, betas=(0.5, 0.999))\n",
    "disc_opt = torch.optim.Adam(disc3.parameters(), lr=0.001, betas=(0.5, 0.999))\n"
   ]
  },
  {
   "cell_type": "code",
   "execution_count": 16,
   "id": "26acbc37",
   "metadata": {
    "execution": {
     "iopub.execute_input": "2022-06-11T17:25:07.986629Z",
     "iopub.status.busy": "2022-06-11T17:25:07.986224Z",
     "iopub.status.idle": "2022-06-11T17:39:38.670233Z",
     "shell.execute_reply": "2022-06-11T17:39:38.670724Z"
    },
    "id": "26acbc37",
    "papermill": {
     "duration": 870.701739,
     "end_time": "2022-06-11T17:39:38.670880",
     "exception": false,
     "start_time": "2022-06-11T17:25:07.969141",
     "status": "completed"
    },
    "tags": []
   },
   "outputs": [
    {
     "data": {
      "image/png": "[encoded data removed]",
      "text/plain": [
       "<Figure size 432x288 with 1 Axes>"
      ]
     },
     "metadata": {
      "needs_background": "light"
     },
     "output_type": "display_data"
    },
    {
     "data": {
      "image/png": "[encoded data removed]",
      "text/plain": [
       "<Figure size 432x288 with 1 Axes>"
      ]
     },
     "metadata": {
      "needs_background": "light"
     },
     "output_type": "display_data"
    }
   ],
   "source": [
    "ABC_train_test2.training_GAN_skip_connection(disc3,gen3,disc_opt,gen_opt,train_data,batch_size,n_epochs,criterion,prior_model,variance,bias,device)"
   ]
  },
  {
   "cell_type": "code",
   "execution_count": 17,
   "id": "c5e0717b",
   "metadata": {
    "execution": {
     "iopub.execute_input": "2022-06-11T17:39:38.705564Z",
     "iopub.status.busy": "2022-06-11T17:39:38.705101Z",
     "iopub.status.idle": "2022-06-11T17:39:39.592749Z",
     "shell.execute_reply": "2022-06-11T17:39:39.593084Z"
    },
    "id": "c5e0717b",
    "papermill": {
     "duration": 0.906777,
     "end_time": "2022-06-11T17:39:39.593202",
     "exception": false,
     "start_time": "2022-06-11T17:39:38.686425",
     "status": "completed"
    },
    "tags": []
   },
   "outputs": [
    {
     "data": {
      "application/scrapbook.scrap.json+json": {
       "data": 0.09096201617687602,
       "encoder": "json",
       "name": "ABC-GAN Model 3 MSE",
       "version": 1
      }
     },
     "metadata": {
      "scrapbook": {
       "data": true,
       "display": false,
       "name": "ABC-GAN Model 3 MSE"
      }
     },
     "output_type": "display_data"
    },
    {
     "data": {
      "application/scrapbook.scrap.json+json": {
       "data": 0.21263100162732834,
       "encoder": "json",
       "name": "ABC-GAN Model 3 MAE",
       "version": 1
      }
     },
     "metadata": {
      "scrapbook": {
       "data": true,
       "display": false,
       "name": "ABC-GAN Model 3 MAE"
      }
     },
     "output_type": "display_data"
    },
    {
     "data": {
      "application/scrapbook.scrap.json+json": {
       "data": 21.688362165987492,
       "encoder": "json",
       "name": "ABC-GAN Model 3 Manhattan Distance",
       "version": 1
      }
     },
     "metadata": {
      "scrapbook": {
       "data": true,
       "display": false,
       "name": "ABC-GAN Model 3 Manhattan Distance"
      }
     },
     "output_type": "display_data"
    },
    {
     "data": {
      "application/scrapbook.scrap.json+json": {
       "data": 3.0459858072072223,
       "encoder": "json",
       "name": "ABC-GAN Model 3 Euclidean distance",
       "version": 1
      }
     },
     "metadata": {
      "scrapbook": {
       "data": true,
       "display": false,
       "name": "ABC-GAN Model 3 Euclidean distance"
      }
     },
     "output_type": "display_data"
    },
    {
     "data": {
      "application/scrapbook.scrap.json+json": {
       "data": [
        [
         0.09137505443792876,
         0.09074448663182136,
         0.09118577100108212,
         0.09112037192469995,
         0.09025424727682829,
         0.09010691377010983,
         0.0908880114610577,
         0.09049468245904314,
         0.09202493264305739,
         0.09047860148058791,
         0.09135413122950677,
         0.09056228313608031,
         0.09146087663532082,
         0.09111428441964764,
         0.09199369259901165,
         0.0911952076054172,
         0.09213121818402364,
         0.09051148271456033,
         0.09067261432462023,
         0.09048537249081344,
         0.0898326120971283,
         0.09132857168338084,
         0.09105341162381561,
         0.0913417686394626,
         0.09129323961850025,
         0.0908270080847598,
         0.0900790188296164,
         0.09076656726907853,
         0.09146376915368445,
         0.09080341118378965,
         0.09116015482198739,
         0.09022853806765753,
         0.09034386396028203,
         0.09107515291131503,
         0.09059319472967849,
         0.09089429245656175,
         0.091515149785148,
         0.09109237452848479,
         0.09053581630985699,
         0.09175429674506996,
         0.09045155903903372,
         0.09123189536349027,
         0.09105538672038509,
         0.09046648255240995,
         0.09076492400070528,
         0.09038706250993736,
         0.09264449761693222,
         0.09054761629665828,
         0.09182007043725032,
         0.09073879013065397,
         0.09101640798440457,
         0.08981043341067274,
         0.09093788542280347,
         0.09092464130984096,
         0.0905879146791508,
         0.09196558304244,
         0.09187875156650793,
         0.09083721594232197,
         0.09197881320795091,
         0.09161894471975617,
         0.0916202587284795,
         0.09114317002837351,
         0.09142863424976046,
         0.09081734403404493,
         0.08957638727525814,
         0.09169921587369423,
         0.09113952201798509,
         0.09051838710174413,
         0.09057491735198357,
         0.09128451317947503,
         0.09091575655104656,
         0.09105638765496177,
         0.09039576100263806,
         0.09062499899292471,
         0.09105763351803293,
         0.09106179601847171,
         0.0909713200831279,
         0.09183050960923617,
         0.08999542722947457,
         0.09068435680975213,
         0.08990725524427001,
         0.09033866229581165,
         0.09038974068945116,
         0.09106703708287925,
         0.0918015295748922,
         0.091550208629021,
         0.09028766454966324,
         0.09150593302259712,
         0.09076901761744541,
         0.09069719794673876,
         0.09108768984105543,
         0.0902241197928755,
         0.09128978135335003,
         0.09143244723956233,
         0.08967449674496598,
         0.09065277411671126,
         0.09120897767248602,
         0.09130162321685271,
         0.09111508221803462,
         0.09170275665069041
        ],
        [
         0.21254084416318172,
         0.21275387466976456,
         0.21295234970017976,
         0.21294362200241462,
         0.21118763695452727,
         0.2120457272976637,
         0.21277813178797564,
         0.21039564220928678,
         0.21272976754927167,
         0.21200158472592925,
         0.21136295273169584,
         0.2122913172066796,
         0.21232271574291528,
         0.2123883980527228,
         0.2137065926822377,
         0.21324276368992,
         0.21400404067746565,
         0.21301347444600918,
         0.21266142428651744,
         0.21183752400033615,
         0.2105691327402989,
         0.2136634978301385,
         0.21270967380819367,
         0.2128219540577893,
         0.2134052657102253,
         0.21325543552052742,
         0.21184657331483037,
         0.21192771711331956,
         0.21333751067811368,
         0.21224276893133043,
         0.21289482380391336,
         0.2113313093854516,
         0.21193055739151498,
         0.21266807466014928,
         0.21158648483163,
         0.21105520240962505,
         0.21391981843785912,
         0.2124810848823365,
         0.21305887722501568,
         0.21408179888100015,
         0.21164657887728774,
         0.2120046766803545,
         0.2124121192039228,
         0.2136417985985092,
         0.21219992451369762,
         0.21250649892232,
         0.2144375969016669,
         0.21213210304724237,
         0.2127226272999656,
         0.2121186920752128,
         0.21217070636796018,
         0.2111111664596726,
         0.21292713565715388,
         0.2115249641458778,
         0.21374407852543334,
         0.21353655469183827,
         0.21407914735084654,
         0.21311012757759468,
         0.21382398571015573,
         0.21280627621009068,
         0.21236387592758618,
         0.21360448751525551,
         0.2126793377466646,
         0.21242164020590923,
         0.21046272800395302,
         0.21399189907984406,
         0.21348578654521821,
         0.214570199121155,
         0.21224602019669964,
         0.21298803177242184,
         0.21432605480738715,
         0.2119884240422763,
         0.21195520931745276,
         0.21358484533779762,
         0.21230910375129944,
         0.2111752728621165,
         0.2131758231085305,
         0.2137189549485258,
         0.21203994988372513,
         0.2116536759570533,
         0.21182584357174003,
         0.2112131488746872,
         0.21209540860910042,
         0.2126364435489271,
         0.21428190281285958,
         0.2135045717232952,
         0.21276325728817314,
         0.21327320453436935,
         0.2119743296986117,
         0.21193426164487997,
         0.21374162586004125,
         0.21200639100781843,
         0.21367588496821768,
         0.2134549590740718,
         0.21111476571098262,
         0.2118772243825244,
         0.2124473482881691,
         0.2132535469444359,
         0.21309976677830314,
         0.21358025227399433
        ],
        [
         21.679166104644537,
         21.700895216315985,
         21.721139669418335,
         21.720249444246292,
         21.541138969361782,
         21.628664184361696,
         21.703369442373514,
         21.460355505347252,
         21.69843629002571,
         21.624161642044783,
         21.559021178632975,
         21.65371435508132,
         21.65691700577736,
         21.663616601377726,
         21.798072453588247,
         21.75076189637184,
         21.828412149101496,
         21.727374393492937,
         21.69146527722478,
         21.607427448034286,
         21.47805153951049,
         21.793676778674126,
         21.696386728435755,
         21.70783931389451,
         21.76733710244298,
         21.752054423093796,
         21.608350478112698,
         21.616627145558596,
         21.760426089167595,
         21.648762430995703,
         21.715272027999163,
         21.555793557316065,
         21.616916853934526,
         21.692143615335226,
         21.58182145282626,
         21.527630645781755,
         21.81982148066163,
         21.673070657998323,
         21.7320054769516,
         21.836343485862017,
         21.58795104548335,
         21.62447702139616,
         21.666036158800125,
         21.79146345704794,
         21.644392300397158,
         21.675662890076637,
         21.872634883970022,
         21.63747451081872,
         21.69770798459649,
         21.636106591671705,
         21.641412049531937,
         21.533338978886604,
         21.718567837029696,
         21.575546342879534,
         21.801896009594202,
         21.780728578567505,
         21.83607302978635,
         21.737233012914658,
         21.810046542435884,
         21.70624017342925,
         21.66111534461379,
         21.787657726556063,
         21.693292450159788,
         21.66700730100274,
         21.467198256403208,
         21.827173706144094,
         21.775550227612257,
         21.88616031035781,
         21.649094060063362,
         21.72477924078703,
         21.86125759035349,
         21.622819252312183,
         21.619431350380182,
         21.785654224455357,
         21.65552858263254,
         21.539877831935883,
         21.743933957070112,
         21.799333404749632,
         21.628074888139963,
         21.588674947619438,
         21.606236044317484,
         21.543741185218096,
         21.633731678128242,
         21.688917241990566,
         21.85675408691168,
         21.77746631577611,
         21.70185224339366,
         21.753866862505674,
         21.621381629258394,
         21.617294687777758,
         21.80164583772421,
         21.62465188279748,
         21.794940266758204,
         21.772405825555325,
         21.533706102520227,
         21.61147688701749,
         21.669629525393248,
         21.751861788332462,
         21.73617621138692,
         21.785185731947422
        ],
        [
         3.052909358737782,
         3.0423572499701246,
         3.0497456684304636,
         3.0486518227438495,
         3.03412808270127,
         3.0316505742831246,
         3.0447622516426276,
         3.0381668174776713,
         3.0637465837748152,
         3.0378968631308014,
         3.052559808653991,
         3.0393013802320077,
         3.0543427143663364,
         3.048549984960729,
         3.0632265089443163,
         3.0499034699072944,
         3.065515332659488,
         3.038448820843483,
         3.0411521930201495,
         3.0380105322501714,
         3.0270326119662285,
         3.052132748047641,
         3.0475314576931267,
         3.052353256296719,
         3.05154230530842,
         3.0437402689200503,
         3.0311812747872526,
         3.0427273721853574,
         3.05439101191642,
         3.0433448606338627,
         3.049317266511098,
         3.0336959114092275,
         3.0356340563297097,
         3.0478952732917404,
         3.039820037835662,
         3.044867456978923,
         3.0552488078853894,
         3.0481834265518617,
         3.0388572298818866,
         3.059238184253906,
         3.0374428425867435,
         3.0505168950648356,
         3.047564510470496,
         3.037693404599255,
         3.0426998287823164,
         3.0363597244090843,
         3.074042738305225,
         3.039055258177966,
         3.060334489005986,
         3.0422617562147254,
         3.0469121441894687,
         3.026658918327042,
         3.0455975297346742,
         3.045375742597911,
         3.0397314515057707,
         3.06275847404409,
         3.061312244738163,
         3.0439113039175174,
         3.0629787702840825,
         3.0569809226449434,
         3.0570028443403365,
         3.0490331816649845,
         3.053804298489929,
         3.0435783366742153,
         3.022712606596322,
         3.058319803277089,
         3.0489721621940853,
         3.0385647079464833,
         3.0395133771546923,
         3.051396458067429,
         3.045226948555189,
         3.0475812607387684,
         3.0365058245076826,
         3.040353580963622,
         3.0476021096657875,
         3.0476717661001675,
         3.046157357799994,
         3.060508451245003,
         3.029774509333394,
         3.041349107648564,
         3.0282899522528455,
         3.035546664799075,
         3.036404707927456,
         3.047759469258308,
         3.060025492808679,
         3.055833974573903,
         3.0346897343988313,
         3.055094952420449,
         3.042768442878858,
         3.0415644314344803,
         3.0481050447429876,
         3.0336216340989686,
         3.051484507259,
         3.0538679765889287,
         3.0243674822988247,
         3.0408194553285384,
         3.0501337220839306,
         3.051682415999243,
         3.0485633315119975,
         3.058378848077919
        ]
       ],
       "encoder": "json",
       "name": "ABC_GAN_3 Metrics",
       "version": 1
      }
     },
     "metadata": {
      "scrapbook": {
       "data": true,
       "display": false,
       "name": "ABC_GAN_3 Metrics"
      }
     },
     "output_type": "display_data"
    },
    {
     "name": "stdout",
     "output_type": "stream",
     "text": [
      "MSE\n",
      "0.09096201617687602\n"
     ]
    }
   ],
   "source": [
    "ABC_GAN3_metrics=ABC_train_test2.test_generator(gen3,test_data,prior_model,variance,bias,\"3\",device)\n",
    "sb.glue(\"ABC_GAN_3 Metrics\",ABC_GAN3_metrics)\n",
    "\n",
    "print(\"MSE\")\n",
    "print(mean(ABC_GAN3_metrics[0]))"
   ]
  },
  {
   "cell_type": "code",
   "execution_count": 18,
   "id": "c8e46b48",
   "metadata": {
    "execution": {
     "iopub.execute_input": "2022-06-11T17:39:39.630089Z",
     "iopub.status.busy": "2022-06-11T17:39:39.629712Z",
     "iopub.status.idle": "2022-06-11T17:39:39.955362Z",
     "shell.execute_reply": "2022-06-11T17:39:39.955658Z"
    },
    "id": "c8e46b48",
    "papermill": {
     "duration": 0.345212,
     "end_time": "2022-06-11T17:39:39.955778",
     "exception": false,
     "start_time": "2022-06-11T17:39:39.610566",
     "status": "completed"
    },
    "tags": []
   },
   "outputs": [
    {
     "data": {
      "image/png": "[encoded data removed]",
      "text/plain": [
       "<Figure size 432x288 with 1 Axes>"
      ]
     },
     "metadata": {
      "needs_background": "light"
     },
     "output_type": "display_data"
    },
    {
     "data": {
      "image/png": "[encoded data removed]",
      "text/plain": [
       "<Figure size 432x288 with 1 Axes>"
      ]
     },
     "metadata": {
      "needs_background": "light"
     },
     "output_type": "display_data"
    },
    {
     "data": {
      "image/png": "[encoded data removed]",
      "text/plain": [
       "<Figure size 432x288 with 1 Axes>"
      ]
     },
     "metadata": {
      "needs_background": "light"
     },
     "output_type": "display_data"
    },
    {
     "data": {
      "image/png": "[encoded data removed]",
      "text/plain": [
       "<Figure size 432x288 with 1 Axes>"
      ]
     },
     "metadata": {
      "needs_background": "light"
     },
     "output_type": "display_data"
    }
   ],
   "source": [
    "sanityChecks.discProbVsError(train_data,disc3,device)\n",
    "sanityChecks.discProbVsError(test_data,disc3,device)"
   ]
  },
  {
   "cell_type": "markdown",
   "id": "a5bd74c3",
   "metadata": {
    "id": "a5bd74c3",
    "papermill": {
     "duration": 0.019256,
     "end_time": "2022-06-11T17:39:39.994818",
     "exception": false,
     "start_time": "2022-06-11T17:39:39.975562",
     "status": "completed"
    },
    "tags": []
   },
   "source": [
    "## Skip Connection Model Analysis - ABC-GAN "
   ]
  },
  {
   "cell_type": "markdown",
   "id": "5744a8bf",
   "metadata": {
    "id": "5744a8bf",
    "papermill": {
     "duration": 0.019173,
     "end_time": "2022-06-11T17:39:40.033135",
     "exception": false,
     "start_time": "2022-06-11T17:39:40.013962",
     "status": "completed"
    },
    "tags": []
   },
   "source": [
    "### Weight Analysis \n",
    "\n",
    "Study the weights of the skip connection layer\n",
    "\n",
    "Equation of the skip connection is \n",
    "\n",
    "$output = y_{gan} * w + y_{abc} * (1-w)$"
   ]
  },
  {
   "cell_type": "code",
   "execution_count": 19,
   "id": "52c31dea",
   "metadata": {
    "execution": {
     "iopub.execute_input": "2022-06-11T17:39:40.074460Z",
     "iopub.status.busy": "2022-06-11T17:39:40.074012Z",
     "iopub.status.idle": "2022-06-11T17:39:40.077395Z",
     "shell.execute_reply": "2022-06-11T17:39:40.077670Z"
    },
    "id": "52c31dea",
    "papermill": {
     "duration": 0.025548,
     "end_time": "2022-06-11T17:39:40.077782",
     "exception": false,
     "start_time": "2022-06-11T17:39:40.052234",
     "status": "completed"
    },
    "tags": []
   },
   "outputs": [
    {
     "name": "stdout",
     "output_type": "stream",
     "text": [
      "Weight of the node at skip connection\n",
      "Parameter containing:\n",
      "tensor([[0.0850]], requires_grad=True)\n"
     ]
    },
    {
     "data": {
      "application/scrapbook.scrap.json+json": {
       "data": 0.08500976115465164,
       "encoder": "json",
       "name": "Skip Connection Weight",
       "version": 1
      }
     },
     "metadata": {
      "scrapbook": {
       "data": true,
       "display": false,
       "name": "Skip Connection Weight"
      }
     },
     "output_type": "display_data"
    }
   ],
   "source": [
    "print(\"Weight of the node at skip connection\")\n",
    "for name,param in gen3.named_parameters():\n",
    "    if(name == \"skipNode.weight\"):\n",
    "        print(param)\n",
    "        sb.glue(\"Skip Connection Weight\",param.item())"
   ]
  }
 ],
 "metadata": {
  "colab": {
   "collapsed_sections": [],
   "name": "ABC_GAN_Model-Catboost_Pre-gen.ipynb",
   "provenance": []
  },
  "interpreter": {
   "hash": "31f2aee4e71d21fbe5cf8b01ff0e069b9275f58929596ceb00d14d90e3e16cd6"
  },
  "kernelspec": {
   "display_name": "Python 3 (ipykernel)",
   "language": "python",
   "name": "python3"
  },
  "language_info": {
   "codemirror_mode": {
    "name": "ipython",
    "version": 3
   },
   "file_extension": ".py",
   "mimetype": "text/x-python",
   "name": "python",
   "nbconvert_exporter": "python",
   "pygments_lexer": "ipython3",
   "version": "3.8.11"
  },
  "papermill": {
   "default_parameters": {},
   "duration": 1103.801983,
   "end_time": "2022-06-11T17:39:40.404964",
   "environment_variables": {},
   "exception": null,
   "input_path": "ABC_GAN-Catboost.ipynb",
   "output_path": "./ABC_GAN_Catboost/ABC-GAN_output_2_5.ipynb",
   "parameters": {
    "bias": 0.1,
    "variance": 0.01
   },
   "start_time": "2022-06-11T17:21:16.602981",
   "version": "2.3.3"
  }
 },
 "nbformat": 4,
 "nbformat_minor": 5
}