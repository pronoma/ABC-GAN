{
 "cells": [
  {
   "cell_type": "markdown",
   "id": "622780e6",
   "metadata": {
    "id": "622780e6",
    "papermill": {
     "duration": 0.024688,
     "end_time": "2022-06-11T15:25:59.562636",
     "exception": false,
     "start_time": "2022-06-11T15:25:59.537948",
     "status": "completed"
    },
    "tags": []
   },
   "source": [
    "## Import Libraries "
   ]
  },
  {
   "cell_type": "code",
   "execution_count": 1,
   "id": "a62397e3",
   "metadata": {
    "execution": {
     "iopub.execute_input": "2022-06-11T15:25:59.598046Z",
     "iopub.status.busy": "2022-06-11T15:25:59.597523Z",
     "iopub.status.idle": "2022-06-11T15:25:59.600250Z",
     "shell.execute_reply": "2022-06-11T15:25:59.600595Z"
    },
    "id": "a62397e3",
    "papermill": {
     "duration": 0.023032,
     "end_time": "2022-06-11T15:25:59.600827",
     "exception": false,
     "start_time": "2022-06-11T15:25:59.577795",
     "status": "completed"
    },
    "tags": []
   },
   "outputs": [],
   "source": [
    "import warnings\n",
    "import sys\n",
    "sys.path.insert(0, '../../src')\n",
    "warnings.filterwarnings('ignore')"
   ]
  },
  {
   "cell_type": "code",
   "execution_count": 2,
   "id": "d6a4e155",
   "metadata": {
    "execution": {
     "iopub.execute_input": "2022-06-11T15:25:59.621668Z",
     "iopub.status.busy": "2022-06-11T15:25:59.621252Z",
     "iopub.status.idle": "2022-06-11T15:30:44.563750Z",
     "shell.execute_reply": "2022-06-11T15:30:44.564008Z"
    },
    "id": "d6a4e155",
    "papermill": {
     "duration": 284.953723,
     "end_time": "2022-06-11T15:30:44.564133",
     "exception": false,
     "start_time": "2022-06-11T15:25:59.610410",
     "status": "completed"
    },
    "tags": []
   },
   "outputs": [],
   "source": [
    "import ABC_train_test2\n",
    "import bostonDataset\n",
    "import network\n",
    "import dataset\n",
    "import sanityChecks\n",
    "import torch \n",
    "import scrapbook as sb\n",
    "from statistics import mean \n",
    "import catboost as ctb \n",
    "from sklearn.model_selection import train_test_split\n",
    "from sklearn.metrics import mean_squared_error,mean_absolute_error\n",
    "import numpy as np"
   ]
  },
  {
   "cell_type": "markdown",
   "id": "2fa5b0f7",
   "metadata": {
    "id": "2fa5b0f7",
    "papermill": {
     "duration": 0.007164,
     "end_time": "2022-06-11T15:30:44.578373",
     "exception": false,
     "start_time": "2022-06-11T15:30:44.571209",
     "status": "completed"
    },
    "tags": []
   },
   "source": [
    "## Parameters "
   ]
  },
  {
   "cell_type": "code",
   "execution_count": 3,
   "id": "783186fb",
   "metadata": {
    "execution": {
     "iopub.execute_input": "2022-06-11T15:30:44.594369Z",
     "iopub.status.busy": "2022-06-11T15:30:44.593993Z",
     "iopub.status.idle": "2022-06-11T15:30:44.595365Z",
     "shell.execute_reply": "2022-06-11T15:30:44.595616Z"
    },
    "id": "783186fb",
    "papermill": {
     "duration": 0.010468,
     "end_time": "2022-06-11T15:30:44.595729",
     "exception": false,
     "start_time": "2022-06-11T15:30:44.585261",
     "status": "completed"
    },
    "tags": [
     "parameters"
    ]
   },
   "outputs": [],
   "source": [
    "variance = 1\n",
    "bias = 1 "
   ]
  },
  {
   "cell_type": "code",
   "execution_count": 4,
   "id": "8e92a3ad",
   "metadata": {
    "execution": {
     "iopub.execute_input": "2022-06-11T15:30:44.611520Z",
     "iopub.status.busy": "2022-06-11T15:30:44.611164Z",
     "iopub.status.idle": "2022-06-11T15:30:44.612622Z",
     "shell.execute_reply": "2022-06-11T15:30:44.612884Z"
    },
    "papermill": {
     "duration": 0.010195,
     "end_time": "2022-06-11T15:30:44.612994",
     "exception": false,
     "start_time": "2022-06-11T15:30:44.602799",
     "status": "completed"
    },
    "tags": [
     "injected-parameters"
    ]
   },
   "outputs": [],
   "source": [
    "# Parameters\n",
    "variance = 0.01\n",
    "bias = 0.01\n"
   ]
  },
  {
   "cell_type": "markdown",
   "id": "391cdbfd",
   "metadata": {
    "id": "391cdbfd",
    "papermill": {
     "duration": 0.006678,
     "end_time": "2022-06-11T15:30:44.626508",
     "exception": false,
     "start_time": "2022-06-11T15:30:44.619830",
     "status": "completed"
    },
    "tags": []
   },
   "source": [
    "## Dataset \n"
   ]
  },
  {
   "cell_type": "code",
   "execution_count": 5,
   "id": "5b51f161",
   "metadata": {
    "execution": {
     "iopub.execute_input": "2022-06-11T15:30:44.642006Z",
     "iopub.status.busy": "2022-06-11T15:30:44.641641Z",
     "iopub.status.idle": "2022-06-11T15:30:44.643028Z",
     "shell.execute_reply": "2022-06-11T15:30:44.643278Z"
    },
    "id": "5b51f161",
    "papermill": {
     "duration": 0.010057,
     "end_time": "2022-06-11T15:30:44.643392",
     "exception": false,
     "start_time": "2022-06-11T15:30:44.633335",
     "status": "completed"
    },
    "tags": []
   },
   "outputs": [],
   "source": [
    "#Parameters \n",
    "n_features = 13\n",
    "n_samples= 506\n",
    "n_target = 1 "
   ]
  },
  {
   "cell_type": "code",
   "execution_count": 6,
   "id": "5d6eced4",
   "metadata": {
    "execution": {
     "iopub.execute_input": "2022-06-11T15:30:44.659010Z",
     "iopub.status.busy": "2022-06-11T15:30:44.658660Z",
     "iopub.status.idle": "2022-06-11T15:30:44.669143Z",
     "shell.execute_reply": "2022-06-11T15:30:44.669388Z"
    },
    "id": "5d6eced4",
    "papermill": {
     "duration": 0.019172,
     "end_time": "2022-06-11T15:30:44.669497",
     "exception": false,
     "start_time": "2022-06-11T15:30:44.650325",
     "status": "completed"
    },
    "tags": []
   },
   "outputs": [
    {
     "name": "stdout",
     "output_type": "stream",
     "text": [
      "         X1        X2        X3        X4        X5        X6        X7  \\\n",
      "0 -0.419782  0.284830 -1.287909 -0.272599 -0.144217  0.413672 -0.120013   \n",
      "1 -0.417339 -0.487722 -0.593381 -0.272599 -0.740262  0.194274  0.367166   \n",
      "2 -0.417342 -0.487722 -0.593381 -0.272599 -0.740262  1.282714 -0.265812   \n",
      "3 -0.416750 -0.487722 -1.306878 -0.272599 -0.835284  1.016303 -0.809889   \n",
      "4 -0.412482 -0.487722 -1.306878 -0.272599 -0.835284  1.228577 -0.511180   \n",
      "\n",
      "         X8        X9       X10       X11       X12       X13         Y  \n",
      "0  0.140214 -0.982843 -0.666608 -1.459000  0.441052 -1.075562  0.159686  \n",
      "1  0.557160 -0.867883 -0.987329 -0.303094  0.441052 -0.492439 -0.101524  \n",
      "2  0.557160 -0.867883 -0.987329 -0.303094  0.396427 -1.208727  1.324247  \n",
      "3  1.077737 -0.752922 -1.106115  0.113032  0.416163 -1.361517  1.182758  \n",
      "4  1.077737 -0.752922 -1.106115  0.113032  0.441052 -1.026501  1.487503  \n"
     ]
    }
   ],
   "source": [
    "X,Y = bostonDataset.boston_data()"
   ]
  },
  {
   "cell_type": "code",
   "execution_count": 7,
   "id": "fe007438",
   "metadata": {
    "execution": {
     "iopub.execute_input": "2022-06-11T15:30:44.687236Z",
     "iopub.status.busy": "2022-06-11T15:30:44.686853Z",
     "iopub.status.idle": "2022-06-11T15:30:44.688551Z",
     "shell.execute_reply": "2022-06-11T15:30:44.688298Z"
    },
    "id": "fe007438",
    "papermill": {
     "duration": 0.01186,
     "end_time": "2022-06-11T15:30:44.688655",
     "exception": false,
     "start_time": "2022-06-11T15:30:44.676795",
     "status": "completed"
    },
    "tags": []
   },
   "outputs": [],
   "source": [
    "#Train test split for dataset \n",
    "X_train,X_test,Y_train,Y_test = train_test_split(X,Y,test_size = 0.2)\n",
    "train_data = dataset.CustomDataset(X_train,Y_train)\n",
    "test_data = dataset.CustomDataset(X_test,Y_test)\n"
   ]
  },
  {
   "cell_type": "markdown",
   "id": "a9a1af34",
   "metadata": {
    "id": "a9a1af34",
    "papermill": {
     "duration": 0.007188,
     "end_time": "2022-06-11T15:30:44.702969",
     "exception": false,
     "start_time": "2022-06-11T15:30:44.695781",
     "status": "completed"
    },
    "tags": []
   },
   "source": [
    "## Training Parameters "
   ]
  },
  {
   "cell_type": "code",
   "execution_count": 8,
   "id": "952b7fc8",
   "metadata": {
    "execution": {
     "iopub.execute_input": "2022-06-11T15:30:44.719457Z",
     "iopub.status.busy": "2022-06-11T15:30:44.719101Z",
     "iopub.status.idle": "2022-06-11T15:30:44.720447Z",
     "shell.execute_reply": "2022-06-11T15:30:44.720735Z"
    },
    "id": "952b7fc8",
    "papermill": {
     "duration": 0.010848,
     "end_time": "2022-06-11T15:30:44.720839",
     "exception": false,
     "start_time": "2022-06-11T15:30:44.709991",
     "status": "completed"
    },
    "tags": []
   },
   "outputs": [],
   "source": [
    "batch_size = 32\n",
    "n_epochs = 1000\n",
    "#Select the device \n",
    "device = torch.device('cuda' if torch.cuda.is_available() else 'cpu')"
   ]
  },
  {
   "cell_type": "markdown",
   "id": "a95e1600",
   "metadata": {
    "id": "a95e1600",
    "papermill": {
     "duration": 0.006994,
     "end_time": "2022-06-11T15:30:44.734908",
     "exception": false,
     "start_time": "2022-06-11T15:30:44.727914",
     "status": "completed"
    },
    "tags": []
   },
   "source": [
    "# ABC Pre-generator Model \n",
    "\n",
    "1. The catboost model is used as a pre-generator model for the ABC-GAN. \n",
    "2. The model is first trained on the entire dataset \n",
    "3. It generats X,Y pairs and we add some Gaussian noise with mean 0 and variance 1 to it which is then feed as input to the generator.\n"
   ]
  },
  {
   "cell_type": "code",
   "execution_count": 9,
   "id": "ff8ce7bd",
   "metadata": {
    "execution": {
     "iopub.execute_input": "2022-06-11T15:30:44.753970Z",
     "iopub.status.busy": "2022-06-11T15:30:44.753596Z",
     "iopub.status.idle": "2022-06-11T15:30:45.730439Z",
     "shell.execute_reply": "2022-06-11T15:30:45.730718Z"
    },
    "id": "ff8ce7bd",
    "papermill": {
     "duration": 0.988817,
     "end_time": "2022-06-11T15:30:45.730836",
     "exception": false,
     "start_time": "2022-06-11T15:30:44.742019",
     "status": "completed"
    },
    "tags": []
   },
   "outputs": [
    {
     "name": "stdout",
     "output_type": "stream",
     "text": [
      "Learning rate set to 0.033215\n",
      "0:\tlearn: 0.9762195\ttotal: 70.1ms\tremaining: 1m 9s\n",
      "1:\tlearn: 0.9588791\ttotal: 71.3ms\tremaining: 35.6s\n",
      "2:\tlearn: 0.9386428\ttotal: 72.3ms\tremaining: 24s\n",
      "3:\tlearn: 0.9227238\ttotal: 73.5ms\tremaining: 18.3s\n",
      "4:\tlearn: 0.9059826\ttotal: 74.6ms\tremaining: 14.8s\n",
      "5:\tlearn: 0.8889105\ttotal: 75.6ms\tremaining: 12.5s\n",
      "6:\tlearn: 0.8712206\ttotal: 76.6ms\tremaining: 10.9s\n",
      "7:\tlearn: 0.8549653\ttotal: 77.6ms\tremaining: 9.62s\n",
      "8:\tlearn: 0.8403972\ttotal: 78.7ms\tremaining: 8.66s\n",
      "9:\tlearn: 0.8246089\ttotal: 79.7ms\tremaining: 7.89s\n",
      "10:\tlearn: 0.8097963\ttotal: 80.7ms\tremaining: 7.25s\n",
      "11:\tlearn: 0.7948659\ttotal: 81.7ms\tremaining: 6.73s\n",
      "12:\tlearn: 0.7802906\ttotal: 82.6ms\tremaining: 6.27s\n",
      "13:\tlearn: 0.7657933\ttotal: 83.6ms\tremaining: 5.88s\n",
      "14:\tlearn: 0.7516619\ttotal: 84.5ms\tremaining: 5.55s\n",
      "15:\tlearn: 0.7371965\ttotal: 85.3ms\tremaining: 5.25s\n",
      "16:\tlearn: 0.7257918\ttotal: 86.2ms\tremaining: 4.98s\n",
      "17:\tlearn: 0.7135113\ttotal: 87.1ms\tremaining: 4.75s\n",
      "18:\tlearn: 0.7016889\ttotal: 87.9ms\tremaining: 4.54s\n",
      "19:\tlearn: 0.6899464\ttotal: 88.7ms\tremaining: 4.35s\n",
      "20:\tlearn: 0.6768886\ttotal: 89.5ms\tremaining: 4.17s\n",
      "21:\tlearn: 0.6651373\ttotal: 90.3ms\tremaining: 4.02s\n",
      "22:\tlearn: 0.6542096\ttotal: 91.2ms\tremaining: 3.88s\n",
      "23:\tlearn: 0.6444140\ttotal: 92.2ms\tremaining: 3.75s\n",
      "24:\tlearn: 0.6347734\ttotal: 93ms\tremaining: 3.63s\n",
      "25:\tlearn: 0.6258568\ttotal: 93.8ms\tremaining: 3.52s\n",
      "26:\tlearn: 0.6163800\ttotal: 94.8ms\tremaining: 3.42s\n",
      "27:\tlearn: 0.6078559\ttotal: 95.6ms\tremaining: 3.32s\n",
      "28:\tlearn: 0.5993355\ttotal: 96.4ms\tremaining: 3.23s\n",
      "29:\tlearn: 0.5893777\ttotal: 97.1ms\tremaining: 3.14s\n",
      "30:\tlearn: 0.5801821\ttotal: 97.9ms\tremaining: 3.06s\n",
      "31:\tlearn: 0.5719176\ttotal: 98.8ms\tremaining: 2.99s\n",
      "32:\tlearn: 0.5651952\ttotal: 99.6ms\tremaining: 2.92s\n",
      "33:\tlearn: 0.5581529\ttotal: 100ms\tremaining: 2.85s\n",
      "34:\tlearn: 0.5514525\ttotal: 101ms\tremaining: 2.79s\n",
      "35:\tlearn: 0.5456955\ttotal: 102ms\tremaining: 2.73s\n",
      "36:\tlearn: 0.5391626\ttotal: 103ms\tremaining: 2.67s\n",
      "37:\tlearn: 0.5319360\ttotal: 104ms\tremaining: 2.62s\n",
      "38:\tlearn: 0.5246882\ttotal: 104ms\tremaining: 2.57s\n",
      "39:\tlearn: 0.5171457\ttotal: 105ms\tremaining: 2.52s\n",
      "40:\tlearn: 0.5112706\ttotal: 106ms\tremaining: 2.48s\n",
      "41:\tlearn: 0.5039429\ttotal: 107ms\tremaining: 2.43s\n",
      "42:\tlearn: 0.4985559\ttotal: 107ms\tremaining: 2.39s\n"
     ]
    },
    {
     "name": "stdout",
     "output_type": "stream",
     "text": [
      "43:\tlearn: 0.4934073\ttotal: 108ms\tremaining: 2.35s\n",
      "44:\tlearn: 0.4872670\ttotal: 109ms\tremaining: 2.32s\n",
      "45:\tlearn: 0.4815806\ttotal: 110ms\tremaining: 2.29s\n",
      "46:\tlearn: 0.4762199\ttotal: 111ms\tremaining: 2.25s\n",
      "47:\tlearn: 0.4701891\ttotal: 112ms\tremaining: 2.23s\n",
      "48:\tlearn: 0.4659017\ttotal: 113ms\tremaining: 2.2s\n",
      "49:\tlearn: 0.4607218\ttotal: 114ms\tremaining: 2.17s\n",
      "50:\tlearn: 0.4550746\ttotal: 115ms\tremaining: 2.14s\n",
      "51:\tlearn: 0.4493934\ttotal: 116ms\tremaining: 2.11s\n",
      "52:\tlearn: 0.4442933\ttotal: 116ms\tremaining: 2.08s\n",
      "53:\tlearn: 0.4410787\ttotal: 117ms\tremaining: 2.05s\n",
      "54:\tlearn: 0.4364582\ttotal: 118ms\tremaining: 2.02s\n",
      "55:\tlearn: 0.4324778\ttotal: 118ms\tremaining: 2s\n",
      "56:\tlearn: 0.4282111\ttotal: 119ms\tremaining: 1.97s\n",
      "57:\tlearn: 0.4231127\ttotal: 120ms\tremaining: 1.95s\n",
      "58:\tlearn: 0.4191208\ttotal: 121ms\tremaining: 1.93s\n",
      "59:\tlearn: 0.4154291\ttotal: 122ms\tremaining: 1.92s\n",
      "60:\tlearn: 0.4111227\ttotal: 123ms\tremaining: 1.89s\n",
      "61:\tlearn: 0.4076752\ttotal: 124ms\tremaining: 1.87s\n",
      "62:\tlearn: 0.4047119\ttotal: 125ms\tremaining: 1.85s\n",
      "63:\tlearn: 0.4009957\ttotal: 125ms\tremaining: 1.83s\n",
      "64:\tlearn: 0.3975878\ttotal: 126ms\tremaining: 1.81s\n",
      "65:\tlearn: 0.3930114\ttotal: 127ms\tremaining: 1.79s\n",
      "66:\tlearn: 0.3896691\ttotal: 128ms\tremaining: 1.78s\n",
      "67:\tlearn: 0.3869365\ttotal: 128ms\tremaining: 1.76s\n",
      "68:\tlearn: 0.3838514\ttotal: 129ms\tremaining: 1.74s\n",
      "69:\tlearn: 0.3812706\ttotal: 130ms\tremaining: 1.72s\n",
      "70:\tlearn: 0.3779632\ttotal: 130ms\tremaining: 1.71s\n",
      "71:\tlearn: 0.3742978\ttotal: 131ms\tremaining: 1.69s\n",
      "72:\tlearn: 0.3719367\ttotal: 132ms\tremaining: 1.68s\n",
      "73:\tlearn: 0.3686506\ttotal: 133ms\tremaining: 1.66s\n",
      "74:\tlearn: 0.3658183\ttotal: 134ms\tremaining: 1.65s\n",
      "75:\tlearn: 0.3633628\ttotal: 134ms\tremaining: 1.63s\n",
      "76:\tlearn: 0.3599411\ttotal: 135ms\tremaining: 1.62s\n",
      "77:\tlearn: 0.3564895\ttotal: 136ms\tremaining: 1.61s\n",
      "78:\tlearn: 0.3545943\ttotal: 137ms\tremaining: 1.59s\n",
      "79:\tlearn: 0.3527655\ttotal: 138ms\tremaining: 1.58s\n",
      "80:\tlearn: 0.3503608\ttotal: 138ms\tremaining: 1.57s\n",
      "81:\tlearn: 0.3475095\ttotal: 139ms\tremaining: 1.56s\n",
      "82:\tlearn: 0.3449844\ttotal: 140ms\tremaining: 1.55s\n",
      "83:\tlearn: 0.3425266\ttotal: 141ms\tremaining: 1.54s\n",
      "84:\tlearn: 0.3404771\ttotal: 142ms\tremaining: 1.52s\n",
      "85:\tlearn: 0.3379564\ttotal: 143ms\tremaining: 1.51s\n",
      "86:\tlearn: 0.3364058\ttotal: 143ms\tremaining: 1.5s\n",
      "87:\tlearn: 0.3340825\ttotal: 144ms\tremaining: 1.49s\n",
      "88:\tlearn: 0.3322921\ttotal: 145ms\tremaining: 1.48s\n",
      "89:\tlearn: 0.3297735\ttotal: 146ms\tremaining: 1.48s\n",
      "90:\tlearn: 0.3274406\ttotal: 147ms\tremaining: 1.47s\n",
      "91:\tlearn: 0.3256771\ttotal: 148ms\tremaining: 1.46s\n",
      "92:\tlearn: 0.3237841\ttotal: 149ms\tremaining: 1.45s\n",
      "93:\tlearn: 0.3212893\ttotal: 149ms\tremaining: 1.44s\n",
      "94:\tlearn: 0.3193136\ttotal: 150ms\tremaining: 1.43s\n",
      "95:\tlearn: 0.3186723\ttotal: 151ms\tremaining: 1.42s\n",
      "96:\tlearn: 0.3166368\ttotal: 152ms\tremaining: 1.41s\n",
      "97:\tlearn: 0.3152109\ttotal: 153ms\tremaining: 1.41s\n",
      "98:\tlearn: 0.3140110\ttotal: 154ms\tremaining: 1.4s\n",
      "99:\tlearn: 0.3128995\ttotal: 155ms\tremaining: 1.39s\n",
      "100:\tlearn: 0.3108194\ttotal: 155ms\tremaining: 1.38s\n",
      "101:\tlearn: 0.3091180\ttotal: 156ms\tremaining: 1.37s\n",
      "102:\tlearn: 0.3076853\ttotal: 157ms\tremaining: 1.37s\n",
      "103:\tlearn: 0.3067536\ttotal: 158ms\tremaining: 1.36s\n",
      "104:\tlearn: 0.3054014\ttotal: 158ms\tremaining: 1.35s\n",
      "105:\tlearn: 0.3040258\ttotal: 159ms\tremaining: 1.34s\n",
      "106:\tlearn: 0.3022562\ttotal: 160ms\tremaining: 1.34s\n",
      "107:\tlearn: 0.2999422\ttotal: 161ms\tremaining: 1.33s\n",
      "108:\tlearn: 0.2983171\ttotal: 162ms\tremaining: 1.32s\n",
      "109:\tlearn: 0.2972158\ttotal: 163ms\tremaining: 1.31s\n",
      "110:\tlearn: 0.2955777\ttotal: 164ms\tremaining: 1.31s\n",
      "111:\tlearn: 0.2942821\ttotal: 164ms\tremaining: 1.3s\n",
      "112:\tlearn: 0.2929907\ttotal: 165ms\tremaining: 1.29s\n",
      "113:\tlearn: 0.2916085\ttotal: 166ms\tremaining: 1.29s\n",
      "114:\tlearn: 0.2903719\ttotal: 167ms\tremaining: 1.28s\n",
      "115:\tlearn: 0.2891670\ttotal: 168ms\tremaining: 1.28s\n",
      "116:\tlearn: 0.2874566\ttotal: 169ms\tremaining: 1.28s\n",
      "117:\tlearn: 0.2858222\ttotal: 170ms\tremaining: 1.27s\n",
      "118:\tlearn: 0.2846384\ttotal: 171ms\tremaining: 1.27s\n",
      "119:\tlearn: 0.2839389\ttotal: 172ms\tremaining: 1.26s\n",
      "120:\tlearn: 0.2821621\ttotal: 173ms\tremaining: 1.26s\n",
      "121:\tlearn: 0.2809539\ttotal: 174ms\tremaining: 1.25s\n",
      "122:\tlearn: 0.2797334\ttotal: 175ms\tremaining: 1.25s\n",
      "123:\tlearn: 0.2781561\ttotal: 176ms\tremaining: 1.24s\n",
      "124:\tlearn: 0.2772765\ttotal: 177ms\tremaining: 1.24s\n",
      "125:\tlearn: 0.2765519\ttotal: 178ms\tremaining: 1.23s\n",
      "126:\tlearn: 0.2752741\ttotal: 179ms\tremaining: 1.23s\n",
      "127:\tlearn: 0.2741584\ttotal: 180ms\tremaining: 1.22s\n",
      "128:\tlearn: 0.2727995\ttotal: 181ms\tremaining: 1.22s\n",
      "129:\tlearn: 0.2717826\ttotal: 182ms\tremaining: 1.22s\n",
      "130:\tlearn: 0.2708397\ttotal: 183ms\tremaining: 1.21s\n",
      "131:\tlearn: 0.2701055\ttotal: 184ms\tremaining: 1.21s\n",
      "132:\tlearn: 0.2691159\ttotal: 185ms\tremaining: 1.2s\n",
      "133:\tlearn: 0.2680715\ttotal: 186ms\tremaining: 1.2s\n",
      "134:\tlearn: 0.2673066\ttotal: 187ms\tremaining: 1.2s\n",
      "135:\tlearn: 0.2668344\ttotal: 188ms\tremaining: 1.19s\n",
      "136:\tlearn: 0.2661831\ttotal: 189ms\tremaining: 1.19s\n"
     ]
    },
    {
     "name": "stdout",
     "output_type": "stream",
     "text": [
      "137:\tlearn: 0.2649106\ttotal: 190ms\tremaining: 1.19s\n",
      "138:\tlearn: 0.2640067\ttotal: 191ms\tremaining: 1.18s\n",
      "139:\tlearn: 0.2631264\ttotal: 192ms\tremaining: 1.18s\n",
      "140:\tlearn: 0.2624763\ttotal: 193ms\tremaining: 1.17s\n",
      "141:\tlearn: 0.2619153\ttotal: 193ms\tremaining: 1.17s\n",
      "142:\tlearn: 0.2615359\ttotal: 194ms\tremaining: 1.16s\n",
      "143:\tlearn: 0.2604887\ttotal: 195ms\tremaining: 1.16s\n",
      "144:\tlearn: 0.2595853\ttotal: 196ms\tremaining: 1.16s\n",
      "145:\tlearn: 0.2584656\ttotal: 197ms\tremaining: 1.15s\n",
      "146:\tlearn: 0.2573479\ttotal: 198ms\tremaining: 1.15s\n",
      "147:\tlearn: 0.2561414\ttotal: 199ms\tremaining: 1.14s\n",
      "148:\tlearn: 0.2552889\ttotal: 200ms\tremaining: 1.14s\n",
      "149:\tlearn: 0.2546977\ttotal: 200ms\tremaining: 1.14s\n",
      "150:\tlearn: 0.2537790\ttotal: 201ms\tremaining: 1.13s\n",
      "151:\tlearn: 0.2531645\ttotal: 202ms\tremaining: 1.13s\n",
      "152:\tlearn: 0.2524049\ttotal: 203ms\tremaining: 1.12s\n",
      "153:\tlearn: 0.2514042\ttotal: 204ms\tremaining: 1.12s\n",
      "154:\tlearn: 0.2504167\ttotal: 205ms\tremaining: 1.12s\n",
      "155:\tlearn: 0.2496538\ttotal: 206ms\tremaining: 1.11s\n",
      "156:\tlearn: 0.2487466\ttotal: 208ms\tremaining: 1.11s\n",
      "157:\tlearn: 0.2479062\ttotal: 208ms\tremaining: 1.11s\n",
      "158:\tlearn: 0.2467186\ttotal: 209ms\tremaining: 1.11s\n",
      "159:\tlearn: 0.2460574\ttotal: 210ms\tremaining: 1.1s\n",
      "160:\tlearn: 0.2454068\ttotal: 211ms\tremaining: 1.1s\n",
      "161:\tlearn: 0.2445161\ttotal: 212ms\tremaining: 1.09s\n",
      "162:\tlearn: 0.2438773\ttotal: 213ms\tremaining: 1.09s\n",
      "163:\tlearn: 0.2432528\ttotal: 213ms\tremaining: 1.09s\n",
      "164:\tlearn: 0.2425777\ttotal: 214ms\tremaining: 1.08s\n",
      "165:\tlearn: 0.2424227\ttotal: 215ms\tremaining: 1.08s\n",
      "166:\tlearn: 0.2418476\ttotal: 216ms\tremaining: 1.08s\n",
      "167:\tlearn: 0.2406785\ttotal: 217ms\tremaining: 1.07s\n",
      "168:\tlearn: 0.2397680\ttotal: 218ms\tremaining: 1.07s\n",
      "169:\tlearn: 0.2393892\ttotal: 219ms\tremaining: 1.07s\n",
      "170:\tlearn: 0.2386560\ttotal: 219ms\tremaining: 1.06s\n",
      "171:\tlearn: 0.2377709\ttotal: 220ms\tremaining: 1.06s\n",
      "172:\tlearn: 0.2369510\ttotal: 221ms\tremaining: 1.06s\n",
      "173:\tlearn: 0.2361014\ttotal: 222ms\tremaining: 1.05s\n",
      "174:\tlearn: 0.2352787\ttotal: 223ms\tremaining: 1.05s\n",
      "175:\tlearn: 0.2346792\ttotal: 223ms\tremaining: 1.05s\n",
      "176:\tlearn: 0.2339349\ttotal: 224ms\tremaining: 1.04s\n",
      "177:\tlearn: 0.2330788\ttotal: 225ms\tremaining: 1.04s\n",
      "178:\tlearn: 0.2325736\ttotal: 226ms\tremaining: 1.04s\n",
      "179:\tlearn: 0.2318292\ttotal: 227ms\tremaining: 1.03s\n",
      "180:\tlearn: 0.2315857\ttotal: 228ms\tremaining: 1.03s\n",
      "181:\tlearn: 0.2307929\ttotal: 228ms\tremaining: 1.03s\n",
      "182:\tlearn: 0.2301189\ttotal: 229ms\tremaining: 1.02s\n",
      "183:\tlearn: 0.2295317\ttotal: 230ms\tremaining: 1.02s\n",
      "184:\tlearn: 0.2286139\ttotal: 231ms\tremaining: 1.02s\n",
      "185:\tlearn: 0.2278849\ttotal: 232ms\tremaining: 1.01s\n",
      "186:\tlearn: 0.2273619\ttotal: 232ms\tremaining: 1.01s\n",
      "187:\tlearn: 0.2267925\ttotal: 233ms\tremaining: 1.01s\n",
      "188:\tlearn: 0.2261677\ttotal: 234ms\tremaining: 1s\n",
      "189:\tlearn: 0.2254874\ttotal: 235ms\tremaining: 1s\n",
      "190:\tlearn: 0.2249585\ttotal: 236ms\tremaining: 999ms\n",
      "191:\tlearn: 0.2242316\ttotal: 237ms\tremaining: 996ms\n",
      "192:\tlearn: 0.2234818\ttotal: 237ms\tremaining: 992ms\n",
      "193:\tlearn: 0.2233415\ttotal: 238ms\tremaining: 989ms\n",
      "194:\tlearn: 0.2227831\ttotal: 239ms\tremaining: 986ms\n",
      "195:\tlearn: 0.2222610\ttotal: 240ms\tremaining: 984ms\n",
      "196:\tlearn: 0.2220102\ttotal: 241ms\tremaining: 984ms\n",
      "197:\tlearn: 0.2214457\ttotal: 242ms\tremaining: 981ms\n",
      "198:\tlearn: 0.2211344\ttotal: 243ms\tremaining: 978ms\n",
      "199:\tlearn: 0.2209428\ttotal: 244ms\tremaining: 975ms\n",
      "200:\tlearn: 0.2205255\ttotal: 244ms\tremaining: 972ms\n",
      "201:\tlearn: 0.2198551\ttotal: 245ms\tremaining: 969ms\n",
      "202:\tlearn: 0.2190304\ttotal: 246ms\tremaining: 967ms\n",
      "203:\tlearn: 0.2186096\ttotal: 247ms\tremaining: 964ms\n",
      "204:\tlearn: 0.2183657\ttotal: 248ms\tremaining: 961ms\n",
      "205:\tlearn: 0.2181931\ttotal: 249ms\tremaining: 958ms\n",
      "206:\tlearn: 0.2175842\ttotal: 250ms\tremaining: 956ms\n",
      "207:\tlearn: 0.2170729\ttotal: 250ms\tremaining: 953ms\n",
      "208:\tlearn: 0.2165089\ttotal: 251ms\tremaining: 950ms\n",
      "209:\tlearn: 0.2162354\ttotal: 252ms\tremaining: 948ms\n",
      "210:\tlearn: 0.2158743\ttotal: 253ms\tremaining: 946ms\n",
      "211:\tlearn: 0.2153752\ttotal: 254ms\tremaining: 943ms\n",
      "212:\tlearn: 0.2149682\ttotal: 255ms\tremaining: 941ms\n",
      "213:\tlearn: 0.2147711\ttotal: 255ms\tremaining: 938ms\n",
      "214:\tlearn: 0.2142939\ttotal: 256ms\tremaining: 936ms\n",
      "215:\tlearn: 0.2136325\ttotal: 257ms\tremaining: 934ms\n",
      "216:\tlearn: 0.2134401\ttotal: 258ms\tremaining: 931ms\n",
      "217:\tlearn: 0.2129223\ttotal: 259ms\tremaining: 928ms\n",
      "218:\tlearn: 0.2127387\ttotal: 259ms\tremaining: 925ms\n",
      "219:\tlearn: 0.2125857\ttotal: 260ms\tremaining: 923ms\n",
      "220:\tlearn: 0.2120559\ttotal: 261ms\tremaining: 920ms\n",
      "221:\tlearn: 0.2114862\ttotal: 262ms\tremaining: 918ms\n",
      "222:\tlearn: 0.2109385\ttotal: 263ms\tremaining: 915ms\n",
      "223:\tlearn: 0.2105475\ttotal: 263ms\tremaining: 912ms\n",
      "224:\tlearn: 0.2103499\ttotal: 264ms\tremaining: 910ms\n",
      "225:\tlearn: 0.2100908\ttotal: 265ms\tremaining: 907ms\n",
      "226:\tlearn: 0.2095795\ttotal: 266ms\tremaining: 904ms\n",
      "227:\tlearn: 0.2094264\ttotal: 266ms\tremaining: 902ms\n",
      "228:\tlearn: 0.2089896\ttotal: 267ms\tremaining: 899ms\n",
      "229:\tlearn: 0.2083398\ttotal: 268ms\tremaining: 897ms\n",
      "230:\tlearn: 0.2078456\ttotal: 269ms\tremaining: 895ms\n",
      "231:\tlearn: 0.2074688\ttotal: 269ms\tremaining: 892ms\n",
      "232:\tlearn: 0.2073310\ttotal: 270ms\tremaining: 890ms\n",
      "233:\tlearn: 0.2068597\ttotal: 271ms\tremaining: 888ms\n",
      "234:\tlearn: 0.2061955\ttotal: 272ms\tremaining: 885ms\n",
      "235:\tlearn: 0.2060198\ttotal: 273ms\tremaining: 883ms\n",
      "236:\tlearn: 0.2057470\ttotal: 274ms\tremaining: 881ms\n",
      "237:\tlearn: 0.2054279\ttotal: 275ms\tremaining: 879ms\n",
      "238:\tlearn: 0.2049729\ttotal: 275ms\tremaining: 877ms\n",
      "239:\tlearn: 0.2046080\ttotal: 276ms\tremaining: 875ms\n",
      "240:\tlearn: 0.2040760\ttotal: 277ms\tremaining: 872ms\n",
      "241:\tlearn: 0.2036209\ttotal: 278ms\tremaining: 870ms\n",
      "242:\tlearn: 0.2034544\ttotal: 279ms\tremaining: 868ms\n",
      "243:\tlearn: 0.2032840\ttotal: 280ms\tremaining: 867ms\n",
      "244:\tlearn: 0.2030800\ttotal: 281ms\tremaining: 865ms\n",
      "245:\tlearn: 0.2027274\ttotal: 281ms\tremaining: 862ms\n",
      "246:\tlearn: 0.2021231\ttotal: 282ms\tremaining: 860ms\n",
      "247:\tlearn: 0.2016743\ttotal: 283ms\tremaining: 858ms\n",
      "248:\tlearn: 0.2012187\ttotal: 284ms\tremaining: 856ms\n",
      "249:\tlearn: 0.2006289\ttotal: 285ms\tremaining: 854ms\n",
      "250:\tlearn: 0.2002685\ttotal: 285ms\tremaining: 852ms\n",
      "251:\tlearn: 0.1996273\ttotal: 286ms\tremaining: 850ms\n",
      "252:\tlearn: 0.1992340\ttotal: 287ms\tremaining: 848ms\n",
      "253:\tlearn: 0.1985843\ttotal: 288ms\tremaining: 846ms\n",
      "254:\tlearn: 0.1984250\ttotal: 289ms\tremaining: 844ms\n",
      "255:\tlearn: 0.1978036\ttotal: 290ms\tremaining: 842ms\n",
      "256:\tlearn: 0.1976434\ttotal: 291ms\tremaining: 842ms\n",
      "257:\tlearn: 0.1974274\ttotal: 292ms\tremaining: 840ms\n",
      "258:\tlearn: 0.1968932\ttotal: 293ms\tremaining: 838ms\n",
      "259:\tlearn: 0.1967801\ttotal: 294ms\tremaining: 836ms\n",
      "260:\tlearn: 0.1963323\ttotal: 295ms\tremaining: 834ms\n",
      "261:\tlearn: 0.1960046\ttotal: 295ms\tremaining: 832ms\n"
     ]
    },
    {
     "name": "stdout",
     "output_type": "stream",
     "text": [
      "262:\tlearn: 0.1955857\ttotal: 296ms\tremaining: 831ms\n",
      "263:\tlearn: 0.1949301\ttotal: 297ms\tremaining: 829ms\n",
      "264:\tlearn: 0.1945219\ttotal: 298ms\tremaining: 827ms\n",
      "265:\tlearn: 0.1943449\ttotal: 299ms\tremaining: 825ms\n",
      "266:\tlearn: 0.1935992\ttotal: 300ms\tremaining: 823ms\n",
      "267:\tlearn: 0.1934862\ttotal: 301ms\tremaining: 821ms\n",
      "268:\tlearn: 0.1930117\ttotal: 301ms\tremaining: 819ms\n",
      "269:\tlearn: 0.1928576\ttotal: 302ms\tremaining: 817ms\n",
      "270:\tlearn: 0.1924267\ttotal: 303ms\tremaining: 815ms\n",
      "271:\tlearn: 0.1922802\ttotal: 304ms\tremaining: 813ms\n",
      "272:\tlearn: 0.1917460\ttotal: 305ms\tremaining: 811ms\n",
      "273:\tlearn: 0.1913364\ttotal: 305ms\tremaining: 809ms\n",
      "274:\tlearn: 0.1912076\ttotal: 306ms\tremaining: 807ms\n",
      "275:\tlearn: 0.1906133\ttotal: 307ms\tremaining: 805ms\n",
      "276:\tlearn: 0.1905238\ttotal: 308ms\tremaining: 803ms\n",
      "277:\tlearn: 0.1900627\ttotal: 309ms\tremaining: 801ms\n",
      "278:\tlearn: 0.1899776\ttotal: 310ms\tremaining: 800ms\n",
      "279:\tlearn: 0.1898583\ttotal: 310ms\tremaining: 798ms\n",
      "280:\tlearn: 0.1897414\ttotal: 311ms\tremaining: 796ms\n",
      "281:\tlearn: 0.1890424\ttotal: 312ms\tremaining: 794ms\n",
      "282:\tlearn: 0.1888951\ttotal: 313ms\tremaining: 792ms\n",
      "283:\tlearn: 0.1886393\ttotal: 314ms\tremaining: 790ms\n",
      "284:\tlearn: 0.1880149\ttotal: 314ms\tremaining: 789ms\n",
      "285:\tlearn: 0.1877913\ttotal: 315ms\tremaining: 787ms\n",
      "286:\tlearn: 0.1876925\ttotal: 316ms\tremaining: 785ms\n",
      "287:\tlearn: 0.1873493\ttotal: 317ms\tremaining: 783ms\n",
      "288:\tlearn: 0.1868416\ttotal: 318ms\tremaining: 782ms\n",
      "289:\tlearn: 0.1867398\ttotal: 318ms\tremaining: 780ms\n",
      "290:\tlearn: 0.1861389\ttotal: 319ms\tremaining: 778ms\n",
      "291:\tlearn: 0.1857589\ttotal: 320ms\tremaining: 776ms\n",
      "292:\tlearn: 0.1855623\ttotal: 321ms\tremaining: 774ms\n",
      "293:\tlearn: 0.1854563\ttotal: 322ms\tremaining: 773ms\n",
      "294:\tlearn: 0.1853483\ttotal: 323ms\tremaining: 771ms\n",
      "295:\tlearn: 0.1849279\ttotal: 323ms\tremaining: 769ms\n",
      "296:\tlearn: 0.1846065\ttotal: 324ms\tremaining: 767ms\n",
      "297:\tlearn: 0.1844875\ttotal: 325ms\tremaining: 765ms\n",
      "298:\tlearn: 0.1844054\ttotal: 326ms\tremaining: 764ms\n",
      "299:\tlearn: 0.1840949\ttotal: 326ms\tremaining: 762ms\n",
      "300:\tlearn: 0.1836800\ttotal: 327ms\tremaining: 760ms\n",
      "301:\tlearn: 0.1832224\ttotal: 328ms\tremaining: 758ms\n",
      "302:\tlearn: 0.1828030\ttotal: 329ms\tremaining: 757ms\n",
      "303:\tlearn: 0.1825928\ttotal: 330ms\tremaining: 755ms\n",
      "304:\tlearn: 0.1821998\ttotal: 331ms\tremaining: 753ms\n",
      "305:\tlearn: 0.1816677\ttotal: 331ms\tremaining: 752ms\n",
      "306:\tlearn: 0.1815798\ttotal: 332ms\tremaining: 750ms\n",
      "307:\tlearn: 0.1814407\ttotal: 333ms\tremaining: 748ms\n",
      "308:\tlearn: 0.1809328\ttotal: 334ms\tremaining: 747ms\n",
      "309:\tlearn: 0.1803933\ttotal: 335ms\tremaining: 745ms\n",
      "310:\tlearn: 0.1801417\ttotal: 335ms\tremaining: 743ms\n",
      "311:\tlearn: 0.1799197\ttotal: 336ms\tremaining: 741ms\n",
      "312:\tlearn: 0.1795888\ttotal: 337ms\tremaining: 740ms\n",
      "313:\tlearn: 0.1792836\ttotal: 338ms\tremaining: 738ms\n",
      "314:\tlearn: 0.1788084\ttotal: 339ms\tremaining: 737ms\n",
      "315:\tlearn: 0.1782553\ttotal: 340ms\tremaining: 735ms\n",
      "316:\tlearn: 0.1781678\ttotal: 341ms\tremaining: 734ms\n",
      "317:\tlearn: 0.1778297\ttotal: 341ms\tremaining: 732ms\n",
      "318:\tlearn: 0.1777311\ttotal: 342ms\tremaining: 730ms\n",
      "319:\tlearn: 0.1776391\ttotal: 343ms\tremaining: 729ms\n",
      "320:\tlearn: 0.1775155\ttotal: 344ms\tremaining: 727ms\n",
      "321:\tlearn: 0.1771847\ttotal: 345ms\tremaining: 726ms\n",
      "322:\tlearn: 0.1768408\ttotal: 346ms\tremaining: 724ms\n",
      "323:\tlearn: 0.1764920\ttotal: 346ms\tremaining: 723ms\n",
      "324:\tlearn: 0.1758356\ttotal: 347ms\tremaining: 721ms\n",
      "325:\tlearn: 0.1754918\ttotal: 348ms\tremaining: 719ms\n",
      "326:\tlearn: 0.1750680\ttotal: 349ms\tremaining: 718ms\n",
      "327:\tlearn: 0.1745769\ttotal: 350ms\tremaining: 716ms\n",
      "328:\tlearn: 0.1741723\ttotal: 350ms\tremaining: 715ms\n",
      "329:\tlearn: 0.1738086\ttotal: 351ms\tremaining: 713ms\n",
      "330:\tlearn: 0.1733852\ttotal: 352ms\tremaining: 712ms\n",
      "331:\tlearn: 0.1729917\ttotal: 353ms\tremaining: 710ms\n",
      "332:\tlearn: 0.1727400\ttotal: 354ms\tremaining: 709ms\n",
      "333:\tlearn: 0.1723420\ttotal: 355ms\tremaining: 707ms\n",
      "334:\tlearn: 0.1721071\ttotal: 355ms\tremaining: 705ms\n",
      "335:\tlearn: 0.1718339\ttotal: 356ms\tremaining: 704ms\n",
      "336:\tlearn: 0.1713899\ttotal: 357ms\tremaining: 703ms\n",
      "337:\tlearn: 0.1712486\ttotal: 358ms\tremaining: 701ms\n",
      "338:\tlearn: 0.1711741\ttotal: 359ms\tremaining: 699ms\n",
      "339:\tlearn: 0.1707031\ttotal: 359ms\tremaining: 698ms\n",
      "340:\tlearn: 0.1704860\ttotal: 360ms\tremaining: 696ms\n",
      "341:\tlearn: 0.1700110\ttotal: 361ms\tremaining: 695ms\n",
      "342:\tlearn: 0.1699252\ttotal: 362ms\tremaining: 693ms\n",
      "343:\tlearn: 0.1696026\ttotal: 363ms\tremaining: 692ms\n",
      "344:\tlearn: 0.1692799\ttotal: 364ms\tremaining: 690ms\n",
      "345:\tlearn: 0.1689418\ttotal: 364ms\tremaining: 689ms\n",
      "346:\tlearn: 0.1687661\ttotal: 365ms\tremaining: 687ms\n",
      "347:\tlearn: 0.1684042\ttotal: 366ms\tremaining: 686ms\n",
      "348:\tlearn: 0.1683164\ttotal: 367ms\tremaining: 684ms\n",
      "349:\tlearn: 0.1678991\ttotal: 368ms\tremaining: 683ms\n",
      "350:\tlearn: 0.1678375\ttotal: 369ms\tremaining: 682ms\n",
      "351:\tlearn: 0.1675098\ttotal: 370ms\tremaining: 680ms\n",
      "352:\tlearn: 0.1671846\ttotal: 370ms\tremaining: 679ms\n",
      "353:\tlearn: 0.1670129\ttotal: 371ms\tremaining: 677ms\n",
      "354:\tlearn: 0.1667944\ttotal: 372ms\tremaining: 676ms\n",
      "355:\tlearn: 0.1665551\ttotal: 373ms\tremaining: 674ms\n",
      "356:\tlearn: 0.1662058\ttotal: 374ms\tremaining: 673ms\n",
      "357:\tlearn: 0.1658660\ttotal: 374ms\tremaining: 671ms\n",
      "358:\tlearn: 0.1654661\ttotal: 375ms\tremaining: 670ms\n",
      "359:\tlearn: 0.1651988\ttotal: 376ms\tremaining: 668ms\n",
      "360:\tlearn: 0.1651520\ttotal: 377ms\tremaining: 667ms\n",
      "361:\tlearn: 0.1649019\ttotal: 377ms\tremaining: 665ms\n",
      "362:\tlearn: 0.1643934\ttotal: 378ms\tremaining: 664ms\n",
      "363:\tlearn: 0.1639449\ttotal: 379ms\tremaining: 662ms\n"
     ]
    },
    {
     "name": "stdout",
     "output_type": "stream",
     "text": [
      "364:\tlearn: 0.1638858\ttotal: 380ms\tremaining: 662ms\n",
      "365:\tlearn: 0.1635576\ttotal: 381ms\tremaining: 661ms\n",
      "366:\tlearn: 0.1632631\ttotal: 382ms\tremaining: 659ms\n",
      "367:\tlearn: 0.1630012\ttotal: 383ms\tremaining: 658ms\n",
      "368:\tlearn: 0.1625476\ttotal: 384ms\tremaining: 656ms\n",
      "369:\tlearn: 0.1624986\ttotal: 385ms\tremaining: 655ms\n",
      "370:\tlearn: 0.1621613\ttotal: 385ms\tremaining: 653ms\n",
      "371:\tlearn: 0.1615703\ttotal: 386ms\tremaining: 652ms\n",
      "372:\tlearn: 0.1613200\ttotal: 387ms\tremaining: 651ms\n",
      "373:\tlearn: 0.1612281\ttotal: 388ms\tremaining: 649ms\n",
      "374:\tlearn: 0.1609426\ttotal: 389ms\tremaining: 648ms\n",
      "375:\tlearn: 0.1607440\ttotal: 390ms\tremaining: 646ms\n",
      "376:\tlearn: 0.1603697\ttotal: 390ms\tremaining: 645ms\n",
      "377:\tlearn: 0.1600411\ttotal: 391ms\tremaining: 643ms\n",
      "378:\tlearn: 0.1596996\ttotal: 392ms\tremaining: 642ms\n",
      "379:\tlearn: 0.1596371\ttotal: 393ms\tremaining: 641ms\n",
      "380:\tlearn: 0.1592269\ttotal: 394ms\tremaining: 639ms\n",
      "381:\tlearn: 0.1589509\ttotal: 394ms\tremaining: 638ms\n",
      "382:\tlearn: 0.1588882\ttotal: 395ms\tremaining: 636ms\n",
      "383:\tlearn: 0.1587641\ttotal: 396ms\tremaining: 635ms\n",
      "384:\tlearn: 0.1582107\ttotal: 397ms\tremaining: 634ms\n",
      "385:\tlearn: 0.1578594\ttotal: 398ms\tremaining: 632ms\n",
      "386:\tlearn: 0.1574276\ttotal: 398ms\tremaining: 631ms\n",
      "387:\tlearn: 0.1573673\ttotal: 399ms\tremaining: 629ms\n",
      "388:\tlearn: 0.1573159\ttotal: 400ms\tremaining: 628ms\n",
      "389:\tlearn: 0.1570768\ttotal: 401ms\tremaining: 627ms\n",
      "390:\tlearn: 0.1570296\ttotal: 402ms\tremaining: 625ms\n",
      "391:\tlearn: 0.1567960\ttotal: 402ms\tremaining: 624ms\n",
      "392:\tlearn: 0.1562532\ttotal: 403ms\tremaining: 623ms\n",
      "393:\tlearn: 0.1559607\ttotal: 404ms\tremaining: 621ms\n",
      "394:\tlearn: 0.1558471\ttotal: 405ms\tremaining: 620ms\n",
      "395:\tlearn: 0.1557312\ttotal: 406ms\tremaining: 619ms\n",
      "396:\tlearn: 0.1553983\ttotal: 406ms\tremaining: 617ms\n",
      "397:\tlearn: 0.1549448\ttotal: 407ms\tremaining: 616ms\n",
      "398:\tlearn: 0.1544593\ttotal: 408ms\tremaining: 615ms\n",
      "399:\tlearn: 0.1541892\ttotal: 409ms\tremaining: 613ms\n",
      "400:\tlearn: 0.1539559\ttotal: 410ms\tremaining: 612ms\n",
      "401:\tlearn: 0.1538346\ttotal: 410ms\tremaining: 611ms\n",
      "402:\tlearn: 0.1533678\ttotal: 411ms\tremaining: 609ms\n",
      "403:\tlearn: 0.1530954\ttotal: 412ms\tremaining: 608ms\n",
      "404:\tlearn: 0.1528736\ttotal: 413ms\tremaining: 607ms\n",
      "405:\tlearn: 0.1526015\ttotal: 414ms\tremaining: 605ms\n",
      "406:\tlearn: 0.1522866\ttotal: 415ms\tremaining: 604ms\n",
      "407:\tlearn: 0.1518292\ttotal: 415ms\tremaining: 603ms\n",
      "408:\tlearn: 0.1517920\ttotal: 416ms\tremaining: 602ms\n",
      "409:\tlearn: 0.1516967\ttotal: 417ms\tremaining: 600ms\n",
      "410:\tlearn: 0.1515699\ttotal: 418ms\tremaining: 599ms\n",
      "411:\tlearn: 0.1512900\ttotal: 419ms\tremaining: 598ms\n",
      "412:\tlearn: 0.1508608\ttotal: 419ms\tremaining: 596ms\n",
      "413:\tlearn: 0.1505864\ttotal: 420ms\tremaining: 595ms\n",
      "414:\tlearn: 0.1503273\ttotal: 421ms\tremaining: 594ms\n",
      "415:\tlearn: 0.1499443\ttotal: 422ms\tremaining: 593ms\n",
      "416:\tlearn: 0.1497246\ttotal: 423ms\tremaining: 591ms\n",
      "417:\tlearn: 0.1494548\ttotal: 424ms\tremaining: 590ms\n",
      "418:\tlearn: 0.1491697\ttotal: 425ms\tremaining: 589ms\n",
      "419:\tlearn: 0.1488997\ttotal: 425ms\tremaining: 587ms\n",
      "420:\tlearn: 0.1485958\ttotal: 426ms\tremaining: 586ms\n",
      "421:\tlearn: 0.1482996\ttotal: 427ms\tremaining: 585ms\n",
      "422:\tlearn: 0.1479191\ttotal: 428ms\tremaining: 584ms\n",
      "423:\tlearn: 0.1477916\ttotal: 429ms\tremaining: 582ms\n",
      "424:\tlearn: 0.1475501\ttotal: 429ms\tremaining: 581ms\n",
      "425:\tlearn: 0.1473752\ttotal: 430ms\tremaining: 580ms\n",
      "426:\tlearn: 0.1469705\ttotal: 431ms\tremaining: 579ms\n",
      "427:\tlearn: 0.1469190\ttotal: 432ms\tremaining: 577ms\n",
      "428:\tlearn: 0.1466640\ttotal: 433ms\tremaining: 576ms\n",
      "429:\tlearn: 0.1461657\ttotal: 434ms\tremaining: 575ms\n",
      "430:\tlearn: 0.1459640\ttotal: 434ms\tremaining: 573ms\n",
      "431:\tlearn: 0.1459280\ttotal: 435ms\tremaining: 572ms\n",
      "432:\tlearn: 0.1456293\ttotal: 436ms\tremaining: 571ms\n",
      "433:\tlearn: 0.1454814\ttotal: 437ms\tremaining: 570ms\n",
      "434:\tlearn: 0.1454206\ttotal: 438ms\tremaining: 569ms\n",
      "435:\tlearn: 0.1453492\ttotal: 439ms\tremaining: 567ms\n",
      "436:\tlearn: 0.1452481\ttotal: 439ms\tremaining: 566ms\n",
      "437:\tlearn: 0.1452230\ttotal: 440ms\tremaining: 565ms\n",
      "438:\tlearn: 0.1451421\ttotal: 441ms\tremaining: 564ms\n",
      "439:\tlearn: 0.1450957\ttotal: 442ms\tremaining: 563ms\n",
      "440:\tlearn: 0.1448475\ttotal: 443ms\tremaining: 561ms\n",
      "441:\tlearn: 0.1446406\ttotal: 444ms\tremaining: 560ms\n",
      "442:\tlearn: 0.1441260\ttotal: 445ms\tremaining: 559ms\n",
      "443:\tlearn: 0.1440481\ttotal: 446ms\tremaining: 558ms\n",
      "444:\tlearn: 0.1439819\ttotal: 446ms\tremaining: 557ms\n",
      "445:\tlearn: 0.1437030\ttotal: 447ms\tremaining: 556ms\n",
      "446:\tlearn: 0.1436705\ttotal: 448ms\tremaining: 554ms\n",
      "447:\tlearn: 0.1435122\ttotal: 449ms\tremaining: 553ms\n",
      "448:\tlearn: 0.1431139\ttotal: 450ms\tremaining: 552ms\n",
      "449:\tlearn: 0.1428424\ttotal: 451ms\tremaining: 551ms\n",
      "450:\tlearn: 0.1427538\ttotal: 451ms\tremaining: 549ms\n",
      "451:\tlearn: 0.1425255\ttotal: 452ms\tremaining: 548ms\n",
      "452:\tlearn: 0.1422068\ttotal: 453ms\tremaining: 547ms\n",
      "453:\tlearn: 0.1421757\ttotal: 454ms\tremaining: 546ms\n",
      "454:\tlearn: 0.1419869\ttotal: 455ms\tremaining: 545ms\n",
      "455:\tlearn: 0.1417085\ttotal: 455ms\tremaining: 543ms\n",
      "456:\tlearn: 0.1415830\ttotal: 456ms\tremaining: 542ms\n",
      "457:\tlearn: 0.1412914\ttotal: 457ms\tremaining: 541ms\n",
      "458:\tlearn: 0.1410856\ttotal: 458ms\tremaining: 540ms\n",
      "459:\tlearn: 0.1409896\ttotal: 459ms\tremaining: 538ms\n",
      "460:\tlearn: 0.1409421\ttotal: 459ms\tremaining: 537ms\n",
      "461:\tlearn: 0.1405878\ttotal: 460ms\tremaining: 536ms\n",
      "462:\tlearn: 0.1403325\ttotal: 461ms\tremaining: 535ms\n",
      "463:\tlearn: 0.1402823\ttotal: 462ms\tremaining: 534ms\n",
      "464:\tlearn: 0.1402569\ttotal: 463ms\tremaining: 533ms\n",
      "465:\tlearn: 0.1398992\ttotal: 464ms\tremaining: 531ms\n",
      "466:\tlearn: 0.1396853\ttotal: 465ms\tremaining: 531ms\n",
      "467:\tlearn: 0.1396366\ttotal: 466ms\tremaining: 530ms\n",
      "468:\tlearn: 0.1393363\ttotal: 467ms\tremaining: 529ms\n",
      "469:\tlearn: 0.1389445\ttotal: 468ms\tremaining: 527ms\n",
      "470:\tlearn: 0.1388460\ttotal: 469ms\tremaining: 526ms\n",
      "471:\tlearn: 0.1387518\ttotal: 469ms\tremaining: 525ms\n",
      "472:\tlearn: 0.1384701\ttotal: 470ms\tremaining: 524ms\n",
      "473:\tlearn: 0.1384001\ttotal: 471ms\tremaining: 523ms\n",
      "474:\tlearn: 0.1381726\ttotal: 472ms\tremaining: 521ms\n",
      "475:\tlearn: 0.1377623\ttotal: 473ms\tremaining: 520ms\n",
      "476:\tlearn: 0.1375399\ttotal: 473ms\tremaining: 519ms\n",
      "477:\tlearn: 0.1372726\ttotal: 474ms\tremaining: 518ms\n",
      "478:\tlearn: 0.1372362\ttotal: 475ms\tremaining: 517ms\n",
      "479:\tlearn: 0.1369575\ttotal: 476ms\tremaining: 516ms\n",
      "480:\tlearn: 0.1367724\ttotal: 477ms\tremaining: 514ms\n",
      "481:\tlearn: 0.1367494\ttotal: 477ms\tremaining: 513ms\n",
      "482:\tlearn: 0.1365536\ttotal: 478ms\tremaining: 512ms\n",
      "483:\tlearn: 0.1365114\ttotal: 479ms\tremaining: 511ms\n",
      "484:\tlearn: 0.1363071\ttotal: 480ms\tremaining: 510ms\n",
      "485:\tlearn: 0.1361744\ttotal: 481ms\tremaining: 508ms\n",
      "486:\tlearn: 0.1359348\ttotal: 482ms\tremaining: 507ms\n",
      "487:\tlearn: 0.1356805\ttotal: 482ms\tremaining: 506ms\n",
      "488:\tlearn: 0.1355297\ttotal: 483ms\tremaining: 505ms\n",
      "489:\tlearn: 0.1352117\ttotal: 484ms\tremaining: 504ms\n",
      "490:\tlearn: 0.1351919\ttotal: 485ms\tremaining: 503ms\n",
      "491:\tlearn: 0.1347706\ttotal: 486ms\tremaining: 501ms\n"
     ]
    },
    {
     "name": "stdout",
     "output_type": "stream",
     "text": [
      "492:\tlearn: 0.1347209\ttotal: 486ms\tremaining: 500ms\n",
      "493:\tlearn: 0.1344587\ttotal: 487ms\tremaining: 499ms\n",
      "494:\tlearn: 0.1341075\ttotal: 488ms\tremaining: 498ms\n",
      "495:\tlearn: 0.1338474\ttotal: 489ms\tremaining: 497ms\n",
      "496:\tlearn: 0.1335576\ttotal: 490ms\tremaining: 496ms\n",
      "497:\tlearn: 0.1332705\ttotal: 491ms\tremaining: 495ms\n",
      "498:\tlearn: 0.1330572\ttotal: 491ms\tremaining: 493ms\n",
      "499:\tlearn: 0.1329246\ttotal: 492ms\tremaining: 492ms\n",
      "500:\tlearn: 0.1328934\ttotal: 493ms\tremaining: 491ms\n",
      "501:\tlearn: 0.1324900\ttotal: 494ms\tremaining: 490ms\n",
      "502:\tlearn: 0.1323724\ttotal: 495ms\tremaining: 489ms\n",
      "503:\tlearn: 0.1323161\ttotal: 496ms\tremaining: 488ms\n",
      "504:\tlearn: 0.1322363\ttotal: 497ms\tremaining: 487ms\n",
      "505:\tlearn: 0.1321740\ttotal: 497ms\tremaining: 485ms\n",
      "506:\tlearn: 0.1319041\ttotal: 498ms\tremaining: 484ms\n",
      "507:\tlearn: 0.1317485\ttotal: 499ms\tremaining: 483ms\n",
      "508:\tlearn: 0.1314603\ttotal: 500ms\tremaining: 482ms\n",
      "509:\tlearn: 0.1313256\ttotal: 501ms\tremaining: 481ms\n",
      "510:\tlearn: 0.1311856\ttotal: 501ms\tremaining: 480ms\n",
      "511:\tlearn: 0.1310520\ttotal: 502ms\tremaining: 479ms\n",
      "512:\tlearn: 0.1308332\ttotal: 503ms\tremaining: 478ms\n",
      "513:\tlearn: 0.1304266\ttotal: 504ms\tremaining: 476ms\n",
      "514:\tlearn: 0.1303846\ttotal: 505ms\tremaining: 475ms\n",
      "515:\tlearn: 0.1303626\ttotal: 505ms\tremaining: 474ms\n",
      "516:\tlearn: 0.1303331\ttotal: 506ms\tremaining: 473ms\n",
      "517:\tlearn: 0.1302741\ttotal: 507ms\tremaining: 472ms\n",
      "518:\tlearn: 0.1301000\ttotal: 508ms\tremaining: 471ms\n",
      "519:\tlearn: 0.1299690\ttotal: 509ms\tremaining: 469ms\n",
      "520:\tlearn: 0.1298926\ttotal: 510ms\tremaining: 468ms\n",
      "521:\tlearn: 0.1298733\ttotal: 510ms\tremaining: 467ms\n",
      "522:\tlearn: 0.1298548\ttotal: 511ms\tremaining: 466ms\n",
      "523:\tlearn: 0.1298364\ttotal: 512ms\tremaining: 465ms\n",
      "524:\tlearn: 0.1295551\ttotal: 512ms\tremaining: 464ms\n",
      "525:\tlearn: 0.1292559\ttotal: 513ms\tremaining: 463ms\n",
      "526:\tlearn: 0.1288873\ttotal: 514ms\tremaining: 461ms\n",
      "527:\tlearn: 0.1288612\ttotal: 515ms\tremaining: 460ms\n",
      "528:\tlearn: 0.1285780\ttotal: 516ms\tremaining: 459ms\n",
      "529:\tlearn: 0.1285533\ttotal: 516ms\tremaining: 458ms\n",
      "530:\tlearn: 0.1282644\ttotal: 517ms\tremaining: 457ms\n",
      "531:\tlearn: 0.1281809\ttotal: 518ms\tremaining: 456ms\n",
      "532:\tlearn: 0.1279317\ttotal: 519ms\tremaining: 455ms\n",
      "533:\tlearn: 0.1278882\ttotal: 520ms\tremaining: 454ms\n",
      "534:\tlearn: 0.1278732\ttotal: 520ms\tremaining: 452ms\n",
      "535:\tlearn: 0.1274707\ttotal: 521ms\tremaining: 451ms\n",
      "536:\tlearn: 0.1274226\ttotal: 522ms\tremaining: 450ms\n",
      "537:\tlearn: 0.1271574\ttotal: 523ms\tremaining: 449ms\n",
      "538:\tlearn: 0.1268262\ttotal: 524ms\tremaining: 448ms\n",
      "539:\tlearn: 0.1267930\ttotal: 525ms\tremaining: 447ms\n",
      "540:\tlearn: 0.1267515\ttotal: 526ms\tremaining: 446ms\n",
      "541:\tlearn: 0.1264575\ttotal: 526ms\tremaining: 445ms\n",
      "542:\tlearn: 0.1261541\ttotal: 527ms\tremaining: 444ms\n",
      "543:\tlearn: 0.1261294\ttotal: 528ms\tremaining: 442ms\n",
      "544:\tlearn: 0.1261169\ttotal: 529ms\tremaining: 441ms\n",
      "545:\tlearn: 0.1258942\ttotal: 529ms\tremaining: 440ms\n",
      "546:\tlearn: 0.1256697\ttotal: 530ms\tremaining: 439ms\n",
      "547:\tlearn: 0.1255069\ttotal: 531ms\tremaining: 438ms\n",
      "548:\tlearn: 0.1251479\ttotal: 532ms\tremaining: 437ms\n",
      "549:\tlearn: 0.1250311\ttotal: 533ms\tremaining: 436ms\n",
      "550:\tlearn: 0.1248121\ttotal: 534ms\tremaining: 435ms\n",
      "551:\tlearn: 0.1247568\ttotal: 535ms\tremaining: 434ms\n",
      "552:\tlearn: 0.1244218\ttotal: 535ms\tremaining: 433ms\n",
      "553:\tlearn: 0.1242984\ttotal: 536ms\tremaining: 432ms\n",
      "554:\tlearn: 0.1240311\ttotal: 537ms\tremaining: 430ms\n",
      "555:\tlearn: 0.1240046\ttotal: 538ms\tremaining: 429ms\n",
      "556:\tlearn: 0.1238800\ttotal: 539ms\tremaining: 428ms\n",
      "557:\tlearn: 0.1236414\ttotal: 540ms\tremaining: 427ms\n",
      "558:\tlearn: 0.1234318\ttotal: 540ms\tremaining: 426ms\n",
      "559:\tlearn: 0.1231687\ttotal: 541ms\tremaining: 425ms\n",
      "560:\tlearn: 0.1229853\ttotal: 542ms\tremaining: 424ms\n",
      "561:\tlearn: 0.1227287\ttotal: 543ms\tremaining: 423ms\n",
      "562:\tlearn: 0.1225297\ttotal: 544ms\tremaining: 422ms\n",
      "563:\tlearn: 0.1221998\ttotal: 544ms\tremaining: 421ms\n",
      "564:\tlearn: 0.1220597\ttotal: 545ms\tremaining: 420ms\n",
      "565:\tlearn: 0.1220482\ttotal: 546ms\tremaining: 419ms\n",
      "566:\tlearn: 0.1219971\ttotal: 547ms\tremaining: 417ms\n",
      "567:\tlearn: 0.1217216\ttotal: 548ms\tremaining: 416ms\n",
      "568:\tlearn: 0.1214843\ttotal: 548ms\tremaining: 415ms\n",
      "569:\tlearn: 0.1214690\ttotal: 549ms\tremaining: 414ms\n",
      "570:\tlearn: 0.1213940\ttotal: 550ms\tremaining: 413ms\n",
      "571:\tlearn: 0.1211878\ttotal: 551ms\tremaining: 412ms\n",
      "572:\tlearn: 0.1211198\ttotal: 551ms\tremaining: 411ms\n",
      "573:\tlearn: 0.1208536\ttotal: 552ms\tremaining: 410ms\n",
      "574:\tlearn: 0.1206197\ttotal: 553ms\tremaining: 409ms\n",
      "575:\tlearn: 0.1205599\ttotal: 554ms\tremaining: 408ms\n",
      "576:\tlearn: 0.1202871\ttotal: 554ms\tremaining: 406ms\n",
      "577:\tlearn: 0.1200314\ttotal: 555ms\tremaining: 406ms\n",
      "578:\tlearn: 0.1199311\ttotal: 556ms\tremaining: 404ms\n",
      "579:\tlearn: 0.1198976\ttotal: 557ms\tremaining: 403ms\n",
      "580:\tlearn: 0.1198860\ttotal: 558ms\tremaining: 402ms\n",
      "581:\tlearn: 0.1198156\ttotal: 559ms\tremaining: 401ms\n",
      "582:\tlearn: 0.1196534\ttotal: 559ms\tremaining: 400ms\n",
      "583:\tlearn: 0.1195858\ttotal: 560ms\tremaining: 399ms\n",
      "584:\tlearn: 0.1194693\ttotal: 561ms\tremaining: 398ms\n",
      "585:\tlearn: 0.1192688\ttotal: 562ms\tremaining: 397ms\n",
      "586:\tlearn: 0.1190094\ttotal: 563ms\tremaining: 396ms\n",
      "587:\tlearn: 0.1189990\ttotal: 564ms\tremaining: 395ms\n",
      "588:\tlearn: 0.1187453\ttotal: 564ms\tremaining: 394ms\n",
      "589:\tlearn: 0.1185979\ttotal: 565ms\tremaining: 393ms\n",
      "590:\tlearn: 0.1183600\ttotal: 566ms\tremaining: 392ms\n",
      "591:\tlearn: 0.1182997\ttotal: 567ms\tremaining: 391ms\n",
      "592:\tlearn: 0.1181041\ttotal: 568ms\tremaining: 390ms\n",
      "593:\tlearn: 0.1178653\ttotal: 568ms\tremaining: 389ms\n",
      "594:\tlearn: 0.1176609\ttotal: 569ms\tremaining: 388ms\n"
     ]
    },
    {
     "name": "stdout",
     "output_type": "stream",
     "text": [
      "595:\tlearn: 0.1175169\ttotal: 571ms\tremaining: 387ms\n",
      "596:\tlearn: 0.1175004\ttotal: 571ms\tremaining: 386ms\n",
      "597:\tlearn: 0.1174430\ttotal: 572ms\tremaining: 385ms\n",
      "598:\tlearn: 0.1174252\ttotal: 573ms\tremaining: 384ms\n",
      "599:\tlearn: 0.1171861\ttotal: 574ms\tremaining: 383ms\n",
      "600:\tlearn: 0.1171439\ttotal: 575ms\tremaining: 382ms\n",
      "601:\tlearn: 0.1168928\ttotal: 576ms\tremaining: 381ms\n",
      "602:\tlearn: 0.1167316\ttotal: 577ms\tremaining: 380ms\n",
      "603:\tlearn: 0.1164157\ttotal: 577ms\tremaining: 379ms\n",
      "604:\tlearn: 0.1163005\ttotal: 578ms\tremaining: 377ms\n",
      "605:\tlearn: 0.1162169\ttotal: 579ms\tremaining: 376ms\n",
      "606:\tlearn: 0.1160033\ttotal: 580ms\tremaining: 375ms\n",
      "607:\tlearn: 0.1157254\ttotal: 580ms\tremaining: 374ms\n",
      "608:\tlearn: 0.1154752\ttotal: 581ms\tremaining: 373ms\n",
      "609:\tlearn: 0.1152399\ttotal: 582ms\tremaining: 372ms\n",
      "610:\tlearn: 0.1152211\ttotal: 583ms\tremaining: 371ms\n",
      "611:\tlearn: 0.1151197\ttotal: 584ms\tremaining: 370ms\n",
      "612:\tlearn: 0.1149823\ttotal: 585ms\tremaining: 369ms\n",
      "613:\tlearn: 0.1149637\ttotal: 585ms\tremaining: 368ms\n",
      "614:\tlearn: 0.1147635\ttotal: 586ms\tremaining: 367ms\n",
      "615:\tlearn: 0.1146521\ttotal: 587ms\tremaining: 366ms\n",
      "616:\tlearn: 0.1145452\ttotal: 588ms\tremaining: 365ms\n",
      "617:\tlearn: 0.1143492\ttotal: 589ms\tremaining: 364ms\n",
      "618:\tlearn: 0.1143227\ttotal: 590ms\tremaining: 363ms\n",
      "619:\tlearn: 0.1140613\ttotal: 591ms\tremaining: 362ms\n",
      "620:\tlearn: 0.1138082\ttotal: 592ms\tremaining: 361ms\n",
      "621:\tlearn: 0.1137992\ttotal: 593ms\tremaining: 360ms\n",
      "622:\tlearn: 0.1136288\ttotal: 594ms\tremaining: 359ms\n",
      "623:\tlearn: 0.1133816\ttotal: 594ms\tremaining: 358ms\n",
      "624:\tlearn: 0.1133307\ttotal: 595ms\tremaining: 357ms\n",
      "625:\tlearn: 0.1133224\ttotal: 596ms\tremaining: 356ms\n",
      "626:\tlearn: 0.1130430\ttotal: 597ms\tremaining: 355ms\n",
      "627:\tlearn: 0.1127803\ttotal: 598ms\tremaining: 354ms\n",
      "628:\tlearn: 0.1126671\ttotal: 599ms\tremaining: 353ms\n",
      "629:\tlearn: 0.1124339\ttotal: 600ms\tremaining: 352ms\n",
      "630:\tlearn: 0.1123230\ttotal: 601ms\tremaining: 351ms\n",
      "631:\tlearn: 0.1122223\ttotal: 602ms\tremaining: 350ms\n",
      "632:\tlearn: 0.1120285\ttotal: 602ms\tremaining: 349ms\n",
      "633:\tlearn: 0.1119116\ttotal: 603ms\tremaining: 348ms\n",
      "634:\tlearn: 0.1116878\ttotal: 604ms\tremaining: 347ms\n",
      "635:\tlearn: 0.1114499\ttotal: 605ms\tremaining: 346ms\n",
      "636:\tlearn: 0.1112829\ttotal: 606ms\tremaining: 345ms\n",
      "637:\tlearn: 0.1110112\ttotal: 607ms\tremaining: 344ms\n",
      "638:\tlearn: 0.1109946\ttotal: 607ms\tremaining: 343ms\n",
      "639:\tlearn: 0.1109861\ttotal: 608ms\tremaining: 342ms\n",
      "640:\tlearn: 0.1107141\ttotal: 609ms\tremaining: 341ms\n",
      "641:\tlearn: 0.1106935\ttotal: 610ms\tremaining: 340ms\n",
      "642:\tlearn: 0.1105262\ttotal: 611ms\tremaining: 339ms\n",
      "643:\tlearn: 0.1103110\ttotal: 611ms\tremaining: 338ms\n",
      "644:\tlearn: 0.1101371\ttotal: 612ms\tremaining: 337ms\n",
      "645:\tlearn: 0.1099380\ttotal: 613ms\tremaining: 336ms\n",
      "646:\tlearn: 0.1098643\ttotal: 614ms\tremaining: 335ms\n",
      "647:\tlearn: 0.1096804\ttotal: 615ms\tremaining: 334ms\n",
      "648:\tlearn: 0.1094094\ttotal: 616ms\tremaining: 333ms\n",
      "649:\tlearn: 0.1091300\ttotal: 617ms\tremaining: 332ms\n",
      "650:\tlearn: 0.1089978\ttotal: 617ms\tremaining: 331ms\n",
      "651:\tlearn: 0.1088176\ttotal: 618ms\tremaining: 330ms\n",
      "652:\tlearn: 0.1085882\ttotal: 619ms\tremaining: 329ms\n",
      "653:\tlearn: 0.1084583\ttotal: 620ms\tremaining: 328ms\n",
      "654:\tlearn: 0.1082913\ttotal: 620ms\tremaining: 327ms\n",
      "655:\tlearn: 0.1081774\ttotal: 621ms\tremaining: 326ms\n",
      "656:\tlearn: 0.1080141\ttotal: 622ms\tremaining: 325ms\n",
      "657:\tlearn: 0.1077833\ttotal: 623ms\tremaining: 324ms\n",
      "658:\tlearn: 0.1075274\ttotal: 624ms\tremaining: 323ms\n",
      "659:\tlearn: 0.1072977\ttotal: 625ms\tremaining: 322ms\n",
      "660:\tlearn: 0.1071302\ttotal: 626ms\tremaining: 321ms\n",
      "661:\tlearn: 0.1070627\ttotal: 627ms\tremaining: 320ms\n",
      "662:\tlearn: 0.1069116\ttotal: 627ms\tremaining: 319ms\n",
      "663:\tlearn: 0.1068454\ttotal: 628ms\tremaining: 318ms\n",
      "664:\tlearn: 0.1065492\ttotal: 629ms\tremaining: 317ms\n",
      "665:\tlearn: 0.1064078\ttotal: 630ms\tremaining: 316ms\n",
      "666:\tlearn: 0.1063887\ttotal: 631ms\tremaining: 315ms\n",
      "667:\tlearn: 0.1061920\ttotal: 631ms\tremaining: 314ms\n",
      "668:\tlearn: 0.1059762\ttotal: 632ms\tremaining: 313ms\n",
      "669:\tlearn: 0.1059578\ttotal: 633ms\tremaining: 312ms\n",
      "670:\tlearn: 0.1059490\ttotal: 634ms\tremaining: 311ms\n",
      "671:\tlearn: 0.1057753\ttotal: 635ms\tremaining: 310ms\n",
      "672:\tlearn: 0.1055566\ttotal: 635ms\tremaining: 309ms\n",
      "673:\tlearn: 0.1053973\ttotal: 636ms\tremaining: 308ms\n",
      "674:\tlearn: 0.1051144\ttotal: 637ms\tremaining: 307ms\n",
      "675:\tlearn: 0.1050239\ttotal: 638ms\tremaining: 306ms\n",
      "676:\tlearn: 0.1048082\ttotal: 639ms\tremaining: 305ms\n",
      "677:\tlearn: 0.1045979\ttotal: 640ms\tremaining: 304ms\n",
      "678:\tlearn: 0.1045042\ttotal: 641ms\tremaining: 303ms\n",
      "679:\tlearn: 0.1044237\ttotal: 641ms\tremaining: 302ms\n",
      "680:\tlearn: 0.1044015\ttotal: 643ms\tremaining: 301ms\n",
      "681:\tlearn: 0.1042173\ttotal: 644ms\tremaining: 300ms\n",
      "682:\tlearn: 0.1041964\ttotal: 645ms\tremaining: 299ms\n",
      "683:\tlearn: 0.1040083\ttotal: 645ms\tremaining: 298ms\n",
      "684:\tlearn: 0.1037942\ttotal: 646ms\tremaining: 297ms\n",
      "685:\tlearn: 0.1037864\ttotal: 647ms\tremaining: 296ms\n",
      "686:\tlearn: 0.1036822\ttotal: 648ms\tremaining: 295ms\n",
      "687:\tlearn: 0.1035640\ttotal: 649ms\tremaining: 294ms\n",
      "688:\tlearn: 0.1035448\ttotal: 649ms\tremaining: 293ms\n",
      "689:\tlearn: 0.1033862\ttotal: 650ms\tremaining: 292ms\n",
      "690:\tlearn: 0.1031603\ttotal: 651ms\tremaining: 291ms\n",
      "691:\tlearn: 0.1029221\ttotal: 652ms\tremaining: 290ms\n",
      "692:\tlearn: 0.1027916\ttotal: 653ms\tremaining: 289ms\n",
      "693:\tlearn: 0.1025817\ttotal: 654ms\tremaining: 288ms\n",
      "694:\tlearn: 0.1025697\ttotal: 654ms\tremaining: 287ms\n",
      "695:\tlearn: 0.1025604\ttotal: 655ms\tremaining: 286ms\n",
      "696:\tlearn: 0.1024372\ttotal: 656ms\tremaining: 285ms\n",
      "697:\tlearn: 0.1021792\ttotal: 657ms\tremaining: 284ms\n",
      "698:\tlearn: 0.1019355\ttotal: 658ms\tremaining: 283ms\n",
      "699:\tlearn: 0.1017468\ttotal: 658ms\tremaining: 282ms\n",
      "700:\tlearn: 0.1015692\ttotal: 659ms\tremaining: 281ms\n",
      "701:\tlearn: 0.1014496\ttotal: 660ms\tremaining: 280ms\n",
      "702:\tlearn: 0.1012176\ttotal: 661ms\tremaining: 279ms\n",
      "703:\tlearn: 0.1010575\ttotal: 662ms\tremaining: 278ms\n",
      "704:\tlearn: 0.1008988\ttotal: 663ms\tremaining: 277ms\n",
      "705:\tlearn: 0.1006548\ttotal: 663ms\tremaining: 276ms\n",
      "706:\tlearn: 0.1004874\ttotal: 664ms\tremaining: 275ms\n",
      "707:\tlearn: 0.1002715\ttotal: 665ms\tremaining: 274ms\n",
      "708:\tlearn: 0.1001633\ttotal: 666ms\tremaining: 273ms\n",
      "709:\tlearn: 0.0999981\ttotal: 667ms\tremaining: 272ms\n",
      "710:\tlearn: 0.0998729\ttotal: 667ms\tremaining: 271ms\n",
      "711:\tlearn: 0.0997264\ttotal: 668ms\tremaining: 270ms\n",
      "712:\tlearn: 0.0996371\ttotal: 669ms\tremaining: 269ms\n",
      "713:\tlearn: 0.0995453\ttotal: 670ms\tremaining: 268ms\n",
      "714:\tlearn: 0.0994307\ttotal: 671ms\tremaining: 267ms\n",
      "715:\tlearn: 0.0992101\ttotal: 672ms\tremaining: 266ms\n",
      "716:\tlearn: 0.0990742\ttotal: 672ms\tremaining: 265ms\n",
      "717:\tlearn: 0.0988277\ttotal: 673ms\tremaining: 264ms\n",
      "718:\tlearn: 0.0986596\ttotal: 674ms\tremaining: 263ms\n",
      "719:\tlearn: 0.0985133\ttotal: 675ms\tremaining: 262ms\n",
      "720:\tlearn: 0.0985013\ttotal: 676ms\tremaining: 261ms\n"
     ]
    },
    {
     "name": "stdout",
     "output_type": "stream",
     "text": [
      "721:\tlearn: 0.0983908\ttotal: 677ms\tremaining: 261ms\n",
      "722:\tlearn: 0.0982125\ttotal: 678ms\tremaining: 260ms\n",
      "723:\tlearn: 0.0980491\ttotal: 678ms\tremaining: 259ms\n",
      "724:\tlearn: 0.0978864\ttotal: 679ms\tremaining: 258ms\n",
      "725:\tlearn: 0.0977946\ttotal: 680ms\tremaining: 257ms\n",
      "726:\tlearn: 0.0975569\ttotal: 682ms\tremaining: 256ms\n",
      "727:\tlearn: 0.0973691\ttotal: 683ms\tremaining: 255ms\n",
      "728:\tlearn: 0.0973033\ttotal: 684ms\tremaining: 254ms\n",
      "729:\tlearn: 0.0970800\ttotal: 684ms\tremaining: 253ms\n",
      "730:\tlearn: 0.0969717\ttotal: 685ms\tremaining: 252ms\n",
      "731:\tlearn: 0.0969386\ttotal: 686ms\tremaining: 251ms\n",
      "732:\tlearn: 0.0969310\ttotal: 687ms\tremaining: 250ms\n",
      "733:\tlearn: 0.0967364\ttotal: 688ms\tremaining: 249ms\n",
      "734:\tlearn: 0.0966236\ttotal: 689ms\tremaining: 248ms\n",
      "735:\tlearn: 0.0964217\ttotal: 690ms\tremaining: 247ms\n",
      "736:\tlearn: 0.0962304\ttotal: 690ms\tremaining: 246ms\n",
      "737:\tlearn: 0.0960948\ttotal: 691ms\tremaining: 245ms\n",
      "738:\tlearn: 0.0960833\ttotal: 692ms\tremaining: 244ms\n",
      "739:\tlearn: 0.0959113\ttotal: 693ms\tremaining: 243ms\n",
      "740:\tlearn: 0.0956613\ttotal: 693ms\tremaining: 242ms\n",
      "741:\tlearn: 0.0954988\ttotal: 695ms\tremaining: 242ms\n",
      "742:\tlearn: 0.0954200\ttotal: 696ms\tremaining: 241ms\n",
      "743:\tlearn: 0.0952496\ttotal: 697ms\tremaining: 240ms\n",
      "744:\tlearn: 0.0950386\ttotal: 697ms\tremaining: 239ms\n",
      "745:\tlearn: 0.0948648\ttotal: 698ms\tremaining: 238ms\n",
      "746:\tlearn: 0.0946769\ttotal: 699ms\tremaining: 237ms\n",
      "747:\tlearn: 0.0944944\ttotal: 700ms\tremaining: 236ms\n",
      "748:\tlearn: 0.0943407\ttotal: 701ms\tremaining: 235ms\n",
      "749:\tlearn: 0.0942184\ttotal: 701ms\tremaining: 234ms\n",
      "750:\tlearn: 0.0940315\ttotal: 702ms\tremaining: 233ms\n",
      "751:\tlearn: 0.0939341\ttotal: 704ms\tremaining: 232ms\n",
      "752:\tlearn: 0.0937465\ttotal: 705ms\tremaining: 231ms\n",
      "753:\tlearn: 0.0936267\ttotal: 705ms\tremaining: 230ms\n",
      "754:\tlearn: 0.0935889\ttotal: 706ms\tremaining: 229ms\n",
      "755:\tlearn: 0.0933740\ttotal: 707ms\tremaining: 228ms\n",
      "756:\tlearn: 0.0932031\ttotal: 708ms\tremaining: 227ms\n",
      "757:\tlearn: 0.0931687\ttotal: 709ms\tremaining: 226ms\n",
      "758:\tlearn: 0.0930889\ttotal: 709ms\tremaining: 225ms\n",
      "759:\tlearn: 0.0929656\ttotal: 710ms\tremaining: 224ms\n",
      "760:\tlearn: 0.0927939\ttotal: 711ms\tremaining: 223ms\n",
      "761:\tlearn: 0.0926534\ttotal: 712ms\tremaining: 222ms\n",
      "762:\tlearn: 0.0925335\ttotal: 713ms\tremaining: 221ms\n",
      "763:\tlearn: 0.0924078\ttotal: 714ms\tremaining: 220ms\n",
      "764:\tlearn: 0.0922183\ttotal: 714ms\tremaining: 219ms\n",
      "765:\tlearn: 0.0920263\ttotal: 715ms\tremaining: 218ms\n",
      "766:\tlearn: 0.0919312\ttotal: 716ms\tremaining: 218ms\n",
      "767:\tlearn: 0.0917423\ttotal: 717ms\tremaining: 217ms\n",
      "768:\tlearn: 0.0916527\ttotal: 718ms\tremaining: 216ms\n",
      "769:\tlearn: 0.0914827\ttotal: 718ms\tremaining: 215ms\n",
      "770:\tlearn: 0.0914347\ttotal: 719ms\tremaining: 214ms\n",
      "771:\tlearn: 0.0912832\ttotal: 720ms\tremaining: 213ms\n",
      "772:\tlearn: 0.0912678\ttotal: 721ms\tremaining: 212ms\n",
      "773:\tlearn: 0.0912606\ttotal: 722ms\tremaining: 211ms\n",
      "774:\tlearn: 0.0911035\ttotal: 723ms\tremaining: 210ms\n",
      "775:\tlearn: 0.0910025\ttotal: 723ms\tremaining: 209ms\n",
      "776:\tlearn: 0.0908192\ttotal: 724ms\tremaining: 208ms\n",
      "777:\tlearn: 0.0907158\ttotal: 725ms\tremaining: 207ms\n",
      "778:\tlearn: 0.0905759\ttotal: 726ms\tremaining: 206ms\n",
      "779:\tlearn: 0.0905634\ttotal: 727ms\tremaining: 205ms\n",
      "780:\tlearn: 0.0905240\ttotal: 728ms\tremaining: 204ms\n",
      "781:\tlearn: 0.0904239\ttotal: 728ms\tremaining: 203ms\n",
      "782:\tlearn: 0.0902981\ttotal: 729ms\tremaining: 202ms\n",
      "783:\tlearn: 0.0902404\ttotal: 730ms\tremaining: 201ms\n",
      "784:\tlearn: 0.0901602\ttotal: 731ms\tremaining: 200ms\n",
      "785:\tlearn: 0.0900829\ttotal: 732ms\tremaining: 199ms\n",
      "786:\tlearn: 0.0898879\ttotal: 733ms\tremaining: 198ms\n",
      "787:\tlearn: 0.0896512\ttotal: 733ms\tremaining: 197ms\n",
      "788:\tlearn: 0.0895754\ttotal: 734ms\tremaining: 196ms\n",
      "789:\tlearn: 0.0894866\ttotal: 735ms\tremaining: 195ms\n",
      "790:\tlearn: 0.0893251\ttotal: 736ms\tremaining: 194ms\n",
      "791:\tlearn: 0.0892057\ttotal: 737ms\tremaining: 193ms\n",
      "792:\tlearn: 0.0890738\ttotal: 738ms\tremaining: 193ms\n",
      "793:\tlearn: 0.0889759\ttotal: 739ms\tremaining: 192ms\n",
      "794:\tlearn: 0.0887956\ttotal: 740ms\tremaining: 191ms\n",
      "795:\tlearn: 0.0887545\ttotal: 740ms\tremaining: 190ms\n",
      "796:\tlearn: 0.0885952\ttotal: 741ms\tremaining: 189ms\n",
      "797:\tlearn: 0.0884618\ttotal: 742ms\tremaining: 188ms\n",
      "798:\tlearn: 0.0883873\ttotal: 743ms\tremaining: 187ms\n",
      "799:\tlearn: 0.0882921\ttotal: 744ms\tremaining: 186ms\n",
      "800:\tlearn: 0.0881421\ttotal: 745ms\tremaining: 185ms\n",
      "801:\tlearn: 0.0880876\ttotal: 746ms\tremaining: 184ms\n",
      "802:\tlearn: 0.0879208\ttotal: 746ms\tremaining: 183ms\n",
      "803:\tlearn: 0.0878345\ttotal: 747ms\tremaining: 182ms\n",
      "804:\tlearn: 0.0878112\ttotal: 748ms\tremaining: 181ms\n",
      "805:\tlearn: 0.0876529\ttotal: 749ms\tremaining: 180ms\n",
      "806:\tlearn: 0.0875628\ttotal: 750ms\tremaining: 179ms\n",
      "807:\tlearn: 0.0873814\ttotal: 751ms\tremaining: 178ms\n",
      "808:\tlearn: 0.0872625\ttotal: 751ms\tremaining: 177ms\n",
      "809:\tlearn: 0.0870957\ttotal: 753ms\tremaining: 177ms\n",
      "810:\tlearn: 0.0870613\ttotal: 754ms\tremaining: 176ms\n",
      "811:\tlearn: 0.0869489\ttotal: 754ms\tremaining: 175ms\n",
      "812:\tlearn: 0.0868078\ttotal: 755ms\tremaining: 174ms\n",
      "813:\tlearn: 0.0865621\ttotal: 756ms\tremaining: 173ms\n",
      "814:\tlearn: 0.0864235\ttotal: 757ms\tremaining: 172ms\n",
      "815:\tlearn: 0.0863923\ttotal: 757ms\tremaining: 171ms\n",
      "816:\tlearn: 0.0862916\ttotal: 758ms\tremaining: 170ms\n",
      "817:\tlearn: 0.0861803\ttotal: 759ms\tremaining: 169ms\n",
      "818:\tlearn: 0.0861521\ttotal: 760ms\tremaining: 168ms\n"
     ]
    },
    {
     "name": "stdout",
     "output_type": "stream",
     "text": [
      "819:\tlearn: 0.0860450\ttotal: 761ms\tremaining: 167ms\n",
      "820:\tlearn: 0.0858723\ttotal: 762ms\tremaining: 166ms\n",
      "821:\tlearn: 0.0857624\ttotal: 763ms\tremaining: 165ms\n",
      "822:\tlearn: 0.0857025\ttotal: 763ms\tremaining: 164ms\n",
      "823:\tlearn: 0.0856817\ttotal: 764ms\tremaining: 163ms\n",
      "824:\tlearn: 0.0856749\ttotal: 765ms\tremaining: 162ms\n",
      "825:\tlearn: 0.0855638\ttotal: 766ms\tremaining: 161ms\n",
      "826:\tlearn: 0.0855372\ttotal: 767ms\tremaining: 160ms\n",
      "827:\tlearn: 0.0853630\ttotal: 768ms\tremaining: 159ms\n",
      "828:\tlearn: 0.0852158\ttotal: 768ms\tremaining: 158ms\n",
      "829:\tlearn: 0.0850634\ttotal: 769ms\tremaining: 158ms\n",
      "830:\tlearn: 0.0848599\ttotal: 770ms\tremaining: 157ms\n",
      "831:\tlearn: 0.0847206\ttotal: 771ms\tremaining: 156ms\n",
      "832:\tlearn: 0.0845571\ttotal: 772ms\tremaining: 155ms\n",
      "833:\tlearn: 0.0843431\ttotal: 773ms\tremaining: 154ms\n",
      "834:\tlearn: 0.0842675\ttotal: 774ms\tremaining: 153ms\n",
      "835:\tlearn: 0.0841648\ttotal: 774ms\tremaining: 152ms\n",
      "836:\tlearn: 0.0840656\ttotal: 775ms\tremaining: 151ms\n",
      "837:\tlearn: 0.0839111\ttotal: 776ms\tremaining: 150ms\n",
      "838:\tlearn: 0.0837854\ttotal: 777ms\tremaining: 149ms\n",
      "839:\tlearn: 0.0836865\ttotal: 777ms\tremaining: 148ms\n",
      "840:\tlearn: 0.0836305\ttotal: 778ms\tremaining: 147ms\n",
      "841:\tlearn: 0.0835135\ttotal: 779ms\tremaining: 146ms\n",
      "842:\tlearn: 0.0834155\ttotal: 780ms\tremaining: 145ms\n",
      "843:\tlearn: 0.0832870\ttotal: 781ms\tremaining: 144ms\n",
      "844:\tlearn: 0.0831467\ttotal: 781ms\tremaining: 143ms\n",
      "845:\tlearn: 0.0829280\ttotal: 782ms\tremaining: 142ms\n",
      "846:\tlearn: 0.0827566\ttotal: 783ms\tremaining: 141ms\n",
      "847:\tlearn: 0.0827010\ttotal: 784ms\tremaining: 141ms\n",
      "848:\tlearn: 0.0825659\ttotal: 785ms\tremaining: 140ms\n",
      "849:\tlearn: 0.0823853\ttotal: 786ms\tremaining: 139ms\n",
      "850:\tlearn: 0.0822560\ttotal: 787ms\tremaining: 138ms\n",
      "851:\tlearn: 0.0821166\ttotal: 787ms\tremaining: 137ms\n",
      "852:\tlearn: 0.0821106\ttotal: 788ms\tremaining: 136ms\n",
      "853:\tlearn: 0.0819216\ttotal: 789ms\tremaining: 135ms\n",
      "854:\tlearn: 0.0818445\ttotal: 790ms\tremaining: 134ms\n",
      "855:\tlearn: 0.0817296\ttotal: 790ms\tremaining: 133ms\n",
      "856:\tlearn: 0.0816217\ttotal: 791ms\tremaining: 132ms\n",
      "857:\tlearn: 0.0815154\ttotal: 792ms\tremaining: 131ms\n",
      "858:\tlearn: 0.0813238\ttotal: 793ms\tremaining: 130ms\n",
      "859:\tlearn: 0.0812385\ttotal: 794ms\tremaining: 129ms\n",
      "860:\tlearn: 0.0810849\ttotal: 795ms\tremaining: 128ms\n",
      "861:\tlearn: 0.0809666\ttotal: 795ms\tremaining: 127ms\n",
      "862:\tlearn: 0.0808492\ttotal: 796ms\tremaining: 126ms\n",
      "863:\tlearn: 0.0806826\ttotal: 797ms\tremaining: 125ms\n",
      "864:\tlearn: 0.0805534\ttotal: 798ms\tremaining: 124ms\n",
      "865:\tlearn: 0.0804109\ttotal: 798ms\tremaining: 124ms\n",
      "866:\tlearn: 0.0802029\ttotal: 799ms\tremaining: 123ms\n",
      "867:\tlearn: 0.0801270\ttotal: 800ms\tremaining: 122ms\n",
      "868:\tlearn: 0.0800542\ttotal: 801ms\tremaining: 121ms\n",
      "869:\tlearn: 0.0798735\ttotal: 802ms\tremaining: 120ms\n",
      "870:\tlearn: 0.0797118\ttotal: 802ms\tremaining: 119ms\n",
      "871:\tlearn: 0.0795486\ttotal: 803ms\tremaining: 118ms\n",
      "872:\tlearn: 0.0794448\ttotal: 804ms\tremaining: 117ms\n",
      "873:\tlearn: 0.0792554\ttotal: 805ms\tremaining: 116ms\n",
      "874:\tlearn: 0.0791724\ttotal: 806ms\tremaining: 115ms\n",
      "875:\tlearn: 0.0790010\ttotal: 806ms\tremaining: 114ms\n",
      "876:\tlearn: 0.0789217\ttotal: 807ms\tremaining: 113ms\n",
      "877:\tlearn: 0.0787922\ttotal: 808ms\tremaining: 112ms\n",
      "878:\tlearn: 0.0787269\ttotal: 809ms\tremaining: 111ms\n",
      "879:\tlearn: 0.0785994\ttotal: 810ms\tremaining: 110ms\n",
      "880:\tlearn: 0.0785198\ttotal: 811ms\tremaining: 110ms\n",
      "881:\tlearn: 0.0785148\ttotal: 812ms\tremaining: 109ms\n",
      "882:\tlearn: 0.0784775\ttotal: 812ms\tremaining: 108ms\n",
      "883:\tlearn: 0.0784162\ttotal: 813ms\tremaining: 107ms\n",
      "884:\tlearn: 0.0783658\ttotal: 814ms\tremaining: 106ms\n",
      "885:\tlearn: 0.0782856\ttotal: 815ms\tremaining: 105ms\n",
      "886:\tlearn: 0.0781494\ttotal: 816ms\tremaining: 104ms\n",
      "887:\tlearn: 0.0780631\ttotal: 816ms\tremaining: 103ms\n",
      "888:\tlearn: 0.0779325\ttotal: 817ms\tremaining: 102ms\n",
      "889:\tlearn: 0.0778888\ttotal: 818ms\tremaining: 101ms\n",
      "890:\tlearn: 0.0778087\ttotal: 819ms\tremaining: 100ms\n",
      "891:\tlearn: 0.0777936\ttotal: 820ms\tremaining: 99.2ms\n",
      "892:\tlearn: 0.0776124\ttotal: 820ms\tremaining: 98.3ms\n",
      "893:\tlearn: 0.0775041\ttotal: 821ms\tremaining: 97.4ms\n",
      "894:\tlearn: 0.0773873\ttotal: 822ms\tremaining: 96.5ms\n",
      "895:\tlearn: 0.0772714\ttotal: 823ms\tremaining: 95.5ms\n",
      "896:\tlearn: 0.0772620\ttotal: 824ms\tremaining: 94.6ms\n",
      "897:\tlearn: 0.0770808\ttotal: 825ms\tremaining: 93.7ms\n",
      "898:\tlearn: 0.0769718\ttotal: 826ms\tremaining: 92.8ms\n",
      "899:\tlearn: 0.0768817\ttotal: 827ms\tremaining: 91.8ms\n",
      "900:\tlearn: 0.0768155\ttotal: 827ms\tremaining: 90.9ms\n",
      "901:\tlearn: 0.0766679\ttotal: 828ms\tremaining: 90ms\n",
      "902:\tlearn: 0.0765318\ttotal: 829ms\tremaining: 89.1ms\n",
      "903:\tlearn: 0.0763678\ttotal: 830ms\tremaining: 88.1ms\n",
      "904:\tlearn: 0.0763220\ttotal: 831ms\tremaining: 87.2ms\n",
      "905:\tlearn: 0.0761276\ttotal: 832ms\tremaining: 86.3ms\n",
      "906:\tlearn: 0.0760806\ttotal: 833ms\tremaining: 85.4ms\n",
      "907:\tlearn: 0.0759631\ttotal: 834ms\tremaining: 84.5ms\n",
      "908:\tlearn: 0.0758610\ttotal: 834ms\tremaining: 83.5ms\n",
      "909:\tlearn: 0.0757389\ttotal: 835ms\tremaining: 82.6ms\n",
      "910:\tlearn: 0.0755960\ttotal: 836ms\tremaining: 81.7ms\n",
      "911:\tlearn: 0.0755130\ttotal: 837ms\tremaining: 80.7ms\n",
      "912:\tlearn: 0.0753220\ttotal: 838ms\tremaining: 79.8ms\n",
      "913:\tlearn: 0.0751998\ttotal: 838ms\tremaining: 78.9ms\n",
      "914:\tlearn: 0.0750999\ttotal: 839ms\tremaining: 78ms\n",
      "915:\tlearn: 0.0749300\ttotal: 840ms\tremaining: 77ms\n",
      "916:\tlearn: 0.0748753\ttotal: 841ms\tremaining: 76.1ms\n",
      "917:\tlearn: 0.0747661\ttotal: 842ms\tremaining: 75.2ms\n",
      "918:\tlearn: 0.0745615\ttotal: 843ms\tremaining: 74.3ms\n",
      "919:\tlearn: 0.0744316\ttotal: 843ms\tremaining: 73.3ms\n",
      "920:\tlearn: 0.0743408\ttotal: 844ms\tremaining: 72.4ms\n",
      "921:\tlearn: 0.0742557\ttotal: 845ms\tremaining: 71.5ms\n",
      "922:\tlearn: 0.0741808\ttotal: 846ms\tremaining: 70.6ms\n",
      "923:\tlearn: 0.0740941\ttotal: 847ms\tremaining: 69.6ms\n",
      "924:\tlearn: 0.0739680\ttotal: 848ms\tremaining: 68.7ms\n",
      "925:\tlearn: 0.0738716\ttotal: 848ms\tremaining: 67.8ms\n",
      "926:\tlearn: 0.0737665\ttotal: 849ms\tremaining: 66.9ms\n",
      "927:\tlearn: 0.0737396\ttotal: 850ms\tremaining: 66ms\n",
      "928:\tlearn: 0.0736571\ttotal: 851ms\tremaining: 65ms\n",
      "929:\tlearn: 0.0735719\ttotal: 852ms\tremaining: 64.1ms\n",
      "930:\tlearn: 0.0734311\ttotal: 853ms\tremaining: 63.2ms\n",
      "931:\tlearn: 0.0733178\ttotal: 853ms\tremaining: 62.3ms\n",
      "932:\tlearn: 0.0731696\ttotal: 854ms\tremaining: 61.3ms\n",
      "933:\tlearn: 0.0730707\ttotal: 855ms\tremaining: 60.4ms\n",
      "934:\tlearn: 0.0729147\ttotal: 856ms\tremaining: 59.5ms\n",
      "935:\tlearn: 0.0727989\ttotal: 857ms\tremaining: 58.6ms\n",
      "936:\tlearn: 0.0726942\ttotal: 858ms\tremaining: 57.7ms\n",
      "937:\tlearn: 0.0726622\ttotal: 859ms\tremaining: 56.7ms\n",
      "938:\tlearn: 0.0725147\ttotal: 859ms\tremaining: 55.8ms\n",
      "939:\tlearn: 0.0724129\ttotal: 860ms\tremaining: 54.9ms\n",
      "940:\tlearn: 0.0723536\ttotal: 861ms\tremaining: 54ms\n",
      "941:\tlearn: 0.0722043\ttotal: 862ms\tremaining: 53.1ms\n",
      "942:\tlearn: 0.0721334\ttotal: 862ms\tremaining: 52.1ms\n",
      "943:\tlearn: 0.0720956\ttotal: 863ms\tremaining: 51.2ms\n",
      "944:\tlearn: 0.0719821\ttotal: 864ms\tremaining: 50.3ms\n",
      "945:\tlearn: 0.0719371\ttotal: 865ms\tremaining: 49.4ms\n",
      "946:\tlearn: 0.0718698\ttotal: 866ms\tremaining: 48.5ms\n",
      "947:\tlearn: 0.0717789\ttotal: 867ms\tremaining: 47.5ms\n"
     ]
    },
    {
     "name": "stdout",
     "output_type": "stream",
     "text": [
      "948:\tlearn: 0.0716779\ttotal: 868ms\tremaining: 46.6ms\n",
      "949:\tlearn: 0.0716454\ttotal: 869ms\tremaining: 45.7ms\n",
      "950:\tlearn: 0.0715390\ttotal: 869ms\tremaining: 44.8ms\n",
      "951:\tlearn: 0.0714614\ttotal: 870ms\tremaining: 43.9ms\n",
      "952:\tlearn: 0.0713867\ttotal: 871ms\tremaining: 43ms\n",
      "953:\tlearn: 0.0713162\ttotal: 872ms\tremaining: 42ms\n",
      "954:\tlearn: 0.0712737\ttotal: 873ms\tremaining: 41.1ms\n",
      "955:\tlearn: 0.0711315\ttotal: 873ms\tremaining: 40.2ms\n",
      "956:\tlearn: 0.0710396\ttotal: 874ms\tremaining: 39.3ms\n",
      "957:\tlearn: 0.0709474\ttotal: 875ms\tremaining: 38.4ms\n",
      "958:\tlearn: 0.0708781\ttotal: 876ms\tremaining: 37.4ms\n",
      "959:\tlearn: 0.0706952\ttotal: 877ms\tremaining: 36.5ms\n",
      "960:\tlearn: 0.0705995\ttotal: 878ms\tremaining: 35.6ms\n",
      "961:\tlearn: 0.0705202\ttotal: 878ms\tremaining: 34.7ms\n",
      "962:\tlearn: 0.0704089\ttotal: 879ms\tremaining: 33.8ms\n",
      "963:\tlearn: 0.0703216\ttotal: 880ms\tremaining: 32.9ms\n",
      "964:\tlearn: 0.0702216\ttotal: 881ms\tremaining: 31.9ms\n",
      "965:\tlearn: 0.0701424\ttotal: 882ms\tremaining: 31ms\n",
      "966:\tlearn: 0.0700833\ttotal: 882ms\tremaining: 30.1ms\n",
      "967:\tlearn: 0.0699671\ttotal: 883ms\tremaining: 29.2ms\n",
      "968:\tlearn: 0.0698598\ttotal: 884ms\tremaining: 28.3ms\n",
      "969:\tlearn: 0.0698529\ttotal: 885ms\tremaining: 27.4ms\n",
      "970:\tlearn: 0.0697556\ttotal: 886ms\tremaining: 26.5ms\n",
      "971:\tlearn: 0.0696261\ttotal: 887ms\tremaining: 25.5ms\n",
      "972:\tlearn: 0.0695633\ttotal: 888ms\tremaining: 24.6ms\n",
      "973:\tlearn: 0.0694424\ttotal: 888ms\tremaining: 23.7ms\n",
      "974:\tlearn: 0.0693549\ttotal: 889ms\tremaining: 22.8ms\n",
      "975:\tlearn: 0.0692733\ttotal: 890ms\tremaining: 21.9ms\n",
      "976:\tlearn: 0.0691453\ttotal: 891ms\tremaining: 21ms\n",
      "977:\tlearn: 0.0690251\ttotal: 892ms\tremaining: 20.1ms\n",
      "978:\tlearn: 0.0689332\ttotal: 892ms\tremaining: 19.1ms\n",
      "979:\tlearn: 0.0687280\ttotal: 893ms\tremaining: 18.2ms\n",
      "980:\tlearn: 0.0685813\ttotal: 894ms\tremaining: 17.3ms\n",
      "981:\tlearn: 0.0684532\ttotal: 895ms\tremaining: 16.4ms\n",
      "982:\tlearn: 0.0683432\ttotal: 896ms\tremaining: 15.5ms\n",
      "983:\tlearn: 0.0682800\ttotal: 897ms\tremaining: 14.6ms\n",
      "984:\tlearn: 0.0682300\ttotal: 897ms\tremaining: 13.7ms\n",
      "985:\tlearn: 0.0681673\ttotal: 898ms\tremaining: 12.8ms\n",
      "986:\tlearn: 0.0680490\ttotal: 899ms\tremaining: 11.8ms\n",
      "987:\tlearn: 0.0679662\ttotal: 900ms\tremaining: 10.9ms\n",
      "988:\tlearn: 0.0677936\ttotal: 901ms\tremaining: 10ms\n",
      "989:\tlearn: 0.0676536\ttotal: 902ms\tremaining: 9.11ms\n",
      "990:\tlearn: 0.0675061\ttotal: 902ms\tremaining: 8.2ms\n",
      "991:\tlearn: 0.0674113\ttotal: 903ms\tremaining: 7.29ms\n",
      "992:\tlearn: 0.0673400\ttotal: 904ms\tremaining: 6.37ms\n",
      "993:\tlearn: 0.0672510\ttotal: 905ms\tremaining: 5.46ms\n",
      "994:\tlearn: 0.0671639\ttotal: 906ms\tremaining: 4.55ms\n",
      "995:\tlearn: 0.0670427\ttotal: 907ms\tremaining: 3.64ms\n",
      "996:\tlearn: 0.0669637\ttotal: 907ms\tremaining: 2.73ms\n",
      "997:\tlearn: 0.0668093\ttotal: 908ms\tremaining: 1.82ms\n",
      "998:\tlearn: 0.0667351\ttotal: 909ms\tremaining: 909us\n",
      "999:\tlearn: 0.0666967\ttotal: 910ms\tremaining: 0us\n"
     ]
    },
    {
     "data": {
      "text/plain": [
       "<catboost.core.CatBoostRegressor at 0x7f81200c4040>"
      ]
     },
     "execution_count": 9,
     "metadata": {},
     "output_type": "execute_result"
    }
   ],
   "source": [
    "#Train the Model \n",
    "prior_model = ctb.CatBoostRegressor()\n",
    "prior_model.fit(X_train,Y_train)"
   ]
  },
  {
   "cell_type": "code",
   "execution_count": 10,
   "id": "af65dcda",
   "metadata": {
    "execution": {
     "iopub.execute_input": "2022-06-11T15:30:45.754421Z",
     "iopub.status.busy": "2022-06-11T15:30:45.754016Z",
     "iopub.status.idle": "2022-06-11T15:30:45.761656Z",
     "shell.execute_reply": "2022-06-11T15:30:45.761893Z"
    },
    "id": "af65dcda",
    "papermill": {
     "duration": 0.021752,
     "end_time": "2022-06-11T15:30:45.762009",
     "exception": false,
     "start_time": "2022-06-11T15:30:45.740257",
     "status": "completed"
    },
    "tags": []
   },
   "outputs": [
    {
     "data": {
      "application/scrapbook.scrap.json+json": {
       "data": 0.12081993432037492,
       "encoder": "json",
       "name": "Prior Model MSE",
       "version": 1
      }
     },
     "metadata": {
      "scrapbook": {
       "data": true,
       "display": false,
       "name": "Prior Model MSE"
      }
     },
     "output_type": "display_data"
    },
    {
     "data": {
      "application/scrapbook.scrap.json+json": {
       "data": 0.12084233539674416,
       "encoder": "json",
       "name": "ABC Pre-generator MSE",
       "version": 1
      }
     },
     "metadata": {
      "scrapbook": {
       "data": true,
       "display": false,
       "name": "ABC Pre-generator MSE"
      }
     },
     "output_type": "display_data"
    },
    {
     "data": {
      "application/scrapbook.scrap.json+json": {
       "data": 0.2389250342956715,
       "encoder": "json",
       "name": "Prior Model MSE",
       "version": 1
      }
     },
     "metadata": {
      "scrapbook": {
       "data": true,
       "display": false,
       "name": "Prior Model MSE"
      }
     },
     "output_type": "display_data"
    },
    {
     "data": {
      "application/scrapbook.scrap.json+json": {
       "data": 0.23972953911589565,
       "encoder": "json",
       "name": "ABC Pre-generator MSE",
       "version": 1
      }
     },
     "metadata": {
      "scrapbook": {
       "data": true,
       "display": false,
       "name": "ABC Pre-generator MSE"
      }
     },
     "output_type": "display_data"
    }
   ],
   "source": [
    "y_pred = prior_model.predict(X_test)\n",
    "y_abc = y_pred + np.random.normal(0,variance, y_pred.shape) + bias \n",
    "mse = mean_squared_error(y_pred,Y_test)\n",
    "sb.glue(\"Prior Model MSE\",mse)\n",
    "mse = mean_squared_error(y_abc,Y_test)\n",
    "sb.glue(\"ABC Pre-generator MSE\",mse)\n",
    "mae = mean_absolute_error(y_pred,Y_test)\n",
    "sb.glue(\"Prior Model MSE\",mae)\n",
    "mae = mean_absolute_error(y_abc,Y_test)\n",
    "sb.glue(\"ABC Pre-generator MSE\",mae)"
   ]
  },
  {
   "cell_type": "markdown",
   "id": "25609da2",
   "metadata": {
    "papermill": {
     "duration": 0.009837,
     "end_time": "2022-06-11T15:30:45.781978",
     "exception": false,
     "start_time": "2022-06-11T15:30:45.772141",
     "status": "completed"
    },
    "tags": []
   },
   "source": [
    "# ABC GAN Model"
   ]
  },
  {
   "cell_type": "code",
   "execution_count": 11,
   "id": "dfc3464d",
   "metadata": {
    "execution": {
     "iopub.execute_input": "2022-06-11T15:30:45.804207Z",
     "iopub.status.busy": "2022-06-11T15:30:45.803835Z",
     "iopub.status.idle": "2022-06-11T15:30:45.806501Z",
     "shell.execute_reply": "2022-06-11T15:30:45.806782Z"
    },
    "papermill": {
     "duration": 0.015167,
     "end_time": "2022-06-11T15:30:45.806888",
     "exception": false,
     "start_time": "2022-06-11T15:30:45.791721",
     "status": "completed"
    },
    "tags": []
   },
   "outputs": [],
   "source": [
    "gen = network.Generator(n_features+1).to(device)\n",
    "disc = network.Discriminator(n_features+1).to(device)\n",
    "\n",
    "criterion = torch.nn.BCELoss()\n",
    "gen_opt = torch.optim.Adam(gen.parameters(), lr=0.001, betas=(0.5, 0.999))\n",
    "disc_opt = torch.optim.Adam(disc.parameters(), lr=0.001, betas=(0.5, 0.999))"
   ]
  },
  {
   "cell_type": "code",
   "execution_count": 12,
   "id": "b75fdd85",
   "metadata": {
    "execution": {
     "iopub.execute_input": "2022-06-11T15:30:45.829222Z",
     "iopub.status.busy": "2022-06-11T15:30:45.828843Z",
     "iopub.status.idle": "2022-06-11T15:46:55.736157Z",
     "shell.execute_reply": "2022-06-11T15:46:55.736458Z"
    },
    "papermill": {
     "duration": 969.919797,
     "end_time": "2022-06-11T15:46:55.736578",
     "exception": false,
     "start_time": "2022-06-11T15:30:45.816781",
     "status": "completed"
    },
    "tags": []
   },
   "outputs": [
    {
     "data": {
      "image/png": "[encoded data removed]",
      "text/plain": [
       "<Figure size 432x288 with 1 Axes>"
      ]
     },
     "metadata": {
      "needs_background": "light"
     },
     "output_type": "display_data"
    },
    {
     "data": {
      "image/png": "[encoded data removed]",
      "text/plain": [
       "<Figure size 432x288 with 1 Axes>"
      ]
     },
     "metadata": {
      "needs_background": "light"
     },
     "output_type": "display_data"
    }
   ],
   "source": [
    "#Training the ABC_GAN \n",
    "ABC_train_test2.training_GAN(disc,gen,disc_opt,gen_opt,train_data,batch_size,n_epochs,criterion,prior_model,variance,bias,device)"
   ]
  },
  {
   "cell_type": "code",
   "execution_count": 13,
   "id": "1fa7c368",
   "metadata": {
    "execution": {
     "iopub.execute_input": "2022-06-11T15:46:55.761662Z",
     "iopub.status.busy": "2022-06-11T15:46:55.761250Z",
     "iopub.status.idle": "2022-06-11T15:46:56.066658Z",
     "shell.execute_reply": "2022-06-11T15:46:56.066965Z"
    },
    "papermill": {
     "duration": 0.319767,
     "end_time": "2022-06-11T15:46:56.067089",
     "exception": false,
     "start_time": "2022-06-11T15:46:55.747322",
     "status": "completed"
    },
    "tags": []
   },
   "outputs": [
    {
     "data": {
      "application/scrapbook.scrap.json+json": {
       "data": 0.14982730035302522,
       "encoder": "json",
       "name": "ABC-GAN Model 1 MSE",
       "version": 1
      }
     },
     "metadata": {
      "scrapbook": {
       "data": true,
       "display": false,
       "name": "ABC-GAN Model 1 MSE"
      }
     },
     "output_type": "display_data"
    },
    {
     "data": {
      "application/scrapbook.scrap.json+json": {
       "data": 0.2740030879596723,
       "encoder": "json",
       "name": "ABC-GAN Model 1 MAE",
       "version": 1
      }
     },
     "metadata": {
      "scrapbook": {
       "data": true,
       "display": false,
       "name": "ABC-GAN Model 1 MAE"
      }
     },
     "output_type": "display_data"
    },
    {
     "data": {
      "application/scrapbook.scrap.json+json": {
       "data": 27.948314971886575,
       "encoder": "json",
       "name": "ABC-GAN Model 1 Manhattan Distance",
       "version": 1
      }
     },
     "metadata": {
      "scrapbook": {
       "data": true,
       "display": false,
       "name": "ABC-GAN Model 1 Manhattan Distance"
      }
     },
     "output_type": "display_data"
    },
    {
     "data": {
      "application/scrapbook.scrap.json+json": {
       "data": 3.9092532149305907,
       "encoder": "json",
       "name": "ABC-GAN Model 1 Euclidean distance",
       "version": 1
      }
     },
     "metadata": {
      "scrapbook": {
       "data": true,
       "display": false,
       "name": "ABC-GAN Model 1 Euclidean distance"
      }
     },
     "output_type": "display_data"
    },
    {
     "data": {
      "application/scrapbook.scrap.json+json": {
       "data": [
        [
         0.15072926062259073,
         0.15028476582633749,
         0.14929254332336858,
         0.1491660570597737,
         0.1482087284839109,
         0.1481950383841709,
         0.15040300281229774,
         0.1486581803095993,
         0.15068387848526976,
         0.15160009789182308,
         0.14873567229682624,
         0.14981435538017954,
         0.14950465286128467,
         0.14982483202792282,
         0.1499271438771149,
         0.149928407960648,
         0.14780391070461746,
         0.1489938146827569,
         0.14850825717857868,
         0.1509889743732876,
         0.15076522062476752,
         0.14837442680204896,
         0.15026790812286667,
         0.15013095355077893,
         0.15033404878888898,
         0.15079199146647201,
         0.15064827801116396,
         0.15098707203737313,
         0.14889285224443152,
         0.14996683991297988,
         0.15038530790915988,
         0.14986693103418003,
         0.1506039994411466,
         0.14922369591328863,
         0.1518198887672236,
         0.14909110405205264,
         0.15060331452359627,
         0.14997478010805806,
         0.15016198062075437,
         0.15000361582497407,
         0.1497279287079141,
         0.1495567418874194,
         0.14873653851132823,
         0.14986070342385052,
         0.14984747197685613,
         0.14923513453370627,
         0.14925085921268133,
         0.14939431637497377,
         0.1496318743238808,
         0.1509062094708492,
         0.15059523244459191,
         0.15149379220076067,
         0.1488778856034434,
         0.1499646746355307,
         0.15005186753770997,
         0.15010937927413895,
         0.14877841552080007,
         0.15073165120473744,
         0.15081705022078778,
         0.14910165953800614,
         0.14961222632616117,
         0.14941068504670088,
         0.15014000042397754,
         0.14830717323966414,
         0.15024192532826686,
         0.15015744365097283,
         0.1502490893021448,
         0.1491172884331727,
         0.1503750656872404,
         0.14996448079278876,
         0.15005733062178592,
         0.14927718365657047,
         0.14853461299225515,
         0.15044642520926604,
         0.15001087296053223,
         0.1488821807950457,
         0.15118615561241508,
         0.15033979173836837,
         0.1510095528609861,
         0.1500322521652015,
         0.15071813755724428,
         0.15170762532519375,
         0.1488432814711632,
         0.14940969628612724,
         0.1506944322031803,
         0.14858347064333152,
         0.14949330647606274,
         0.14968397552226473,
         0.14945156093644568,
         0.15014333057367163,
         0.14970648321456007,
         0.1496181539855021,
         0.14876890592977168,
         0.14930230919568935,
         0.14854980794890363,
         0.14973107028271881,
         0.15044781107410196,
         0.14906131516916868,
         0.15141926225207591,
         0.14922919150929664
        ],
        [
         0.2737791038246131,
         0.27323492013794537,
         0.27281272418650926,
         0.2737458553530422,
         0.2727879468059423,
         0.2724174991176993,
         0.2741943799397525,
         0.27391853464730814,
         0.2761766662200292,
         0.27566648533969534,
         0.2725603022411758,
         0.2741017905520458,
         0.273730751638319,
         0.27445073601077585,
         0.27422163518620474,
         0.27399679116320375,
         0.27246272249841225,
         0.2737741223079901,
         0.2752236990513755,
         0.27526801696741116,
         0.2758038438418332,
         0.2730666920542717,
         0.2751999573745564,
         0.27341436123585,
         0.2747285501556654,
         0.2738238089517051,
         0.2739526690075211,
         0.2753453329205513,
         0.2734364295999209,
         0.2742162517764989,
         0.27398571284378276,
         0.2730694349270825,
         0.2751290040711562,
         0.2745119930774558,
         0.27568906231545937,
         0.2730965227180836,
         0.275180566763761,
         0.2753198429138637,
         0.27356859614305634,
         0.2749273625439873,
         0.27395674969781847,
         0.2727036033117888,
         0.271405156847893,
         0.27392253038637776,
         0.2745772488415241,
         0.27255074676199287,
         0.27265438641987594,
         0.2728036452888274,
         0.27399733962089406,
         0.27425316567806635,
         0.27575232709447545,
         0.27577549507658855,
         0.2741713618823126,
         0.2750594608997013,
         0.27445692747977435,
         0.27402722912237926,
         0.27371242828667164,
         0.27288139315650745,
         0.2743217109099907,
         0.2743191036815737,
         0.2739069900457181,
         0.27293560873059663,
         0.27462208782340963,
         0.2732275602791239,
         0.27515723088792726,
         0.27388292956439886,
         0.2744936883157375,
         0.27289556952960353,
         0.2732925203574054,
         0.2736229072233625,
         0.274875877863344,
         0.2749238545257671,
         0.27254528537684797,
         0.27403792150902984,
         0.2733085711358809,
         0.2731619356747936,
         0.2746231591365501,
         0.27514228294147,
         0.2754329322819032,
         0.27403366156652864,
         0.27494836492719604,
         0.27589300658334703,
         0.27370046966654415,
         0.27364747565897074,
         0.27380501449692485,
         0.27238532502715496,
         0.2730193377344632,
         0.27250834989051026,
         0.27450328890015097,
         0.2748210075877461,
         0.27537328559978336,
         0.27385617741474916,
         0.2727043818609387,
         0.27229139760282695,
         0.2716291844114369,
         0.2728092956411488,
         0.2757349568327852,
         0.2735541014767745,
         0.2759356210921325,
         0.2737734899217007
        ],
        [
         27.92546859011054,
         27.869961854070425,
         27.826897867023945,
         27.922077246010303,
         27.824370574206114,
         27.78658491000533,
         27.96782675385475,
         27.93969053402543,
         28.170019954442978,
         28.117981504648924,
         27.80115082859993,
         27.95838263630867,
         27.920536667108536,
         27.993975073099136,
         27.97060678899288,
         27.947672698646784,
         27.791197694838047,
         27.92496047541499,
         28.0728173032403,
         28.077337730675936,
         28.13199207186699,
         27.852802589535713,
         28.070395652204752,
         27.8882648460567,
         28.022312115877867,
         27.93002851307392,
         27.943172238767147,
         28.085223957896233,
         27.890515819191933,
         27.97005768120289,
         27.94654271006584,
         27.853082362562418,
         28.06315841525793,
         28.00022329390049,
         28.120284356176853,
         27.85584531724453,
         28.06841780990362,
         28.082623977214098,
         27.90399680659175,
         28.042590979486704,
         27.943588469177485,
         27.815767537802458,
         27.68332599848509,
         27.940098099410534,
         28.00687938183546,
         27.800176169723272,
         27.810747414827347,
         27.825971819460392,
         27.947728641331196,
         27.97382289916277,
         28.126737363636494,
         28.129100497812033,
         27.965478911995888,
         28.056065011769533,
         27.994606602936983,
         27.950777370482683,
         27.918667685240507,
         27.83390210196376,
         27.98081451281905,
         27.980548575520515,
         27.938512984663248,
         27.83943209052086,
         28.011452957987785,
         27.86921114847064,
         28.06603755056858,
         27.936058815568686,
         27.998356208205223,
         27.835348092019558,
         27.875837076455355,
         27.90953653678298,
         28.03733954206109,
         28.042233161628246,
         27.799619108438492,
         27.95186799392104,
         27.877474255859852,
         27.862517438828945,
         28.01156223192811,
         28.064512860029936,
         28.094159092754126,
         27.95143347978592,
         28.044733222573996,
         28.141086671501398,
         27.9174479059875,
         27.912042517215014,
         27.928111478686333,
         27.783303152769804,
         27.847972448915243,
         27.795851688832045,
         27.9993354678154,
         28.0317427739501,
         28.088075131177902,
         27.933330096304417,
         27.81584694981575,
         27.773722555488348,
         27.706176809966564,
         27.826548155397177,
         28.124965596944094,
         27.902518350631,
         28.145433351397514,
         27.924895972013474
        ],
        [
         3.921018309508928,
         3.9152325747376016,
         3.9022864347691844,
         3.9006330024877904,
         3.8880959742988477,
         3.887916397658961,
         3.916772432354778,
         3.89398695318553,
         3.920427987541349,
         3.932328824623641,
         3.895001742525448,
         3.9091001840293518,
         3.9050575657538045,
         3.9092368650221396,
         3.910571400123736,
         3.910587885725891,
         3.882782364731634,
         3.8983803172139586,
         3.892022897185347,
         3.9243949069984456,
         3.9214860070802606,
         3.8902688253909896,
         3.9150129793568245,
         3.9132284960348844,
         3.9158744842584863,
         3.92183415375767,
         3.919964841314105,
         3.924370184859229,
         3.8970592667974677,
         3.9110890645859686,
         3.9165420215713636,
         3.9097860511140965,
         3.9193887205783695,
         3.9013865462365342,
         3.9351783510098755,
         3.8996528836948254,
         3.9193798082613545,
         3.911192602138371,
         3.9136328421706787,
         3.911568587427217,
         3.9079724574524874,
         3.9057377884999873,
         3.895013084465247,
         3.909704816125221,
         3.9095322151939507,
         3.901536072169273,
         3.9017416162136476,
         3.9036163067401133,
         3.9067187230508216,
         3.9233191771797786,
         3.919274640714576,
         3.9309498603362494,
         3.8968633965730985,
         3.9110608295990663,
         3.9121976546241144,
         3.9129473144884246,
         3.8955613694462063,
         3.921049403269898,
         3.92216000725625,
         3.8997909268160296,
         3.9064622211495186,
         3.9038301544462057,
         3.913346399597883,
         3.889387055879852,
         3.9146744926600494,
         3.9135737187894164,
         3.914767823105065,
         3.8999953102771325,
         3.91640864825142,
         3.9110583019004523,
         3.912268871565726,
         3.9020856901111465,
         3.892368241213828,
         3.9173377913252683,
         3.9116632066135613,
         3.89691960926764,
         3.926956566154805,
         3.9159492792059467,
         3.9246623283819693,
         3.9119419373056337,
         3.920873631072406,
         3.933723145211132,
         3.89641049044613,
         3.9038172371647946,
         3.9205652761718413,
         3.8930083490303233,
         3.9049093793017016,
         3.907398815487229,
         3.904364124350783,
         3.913389798948541,
         3.9076925784771146,
         3.906539607699021,
         3.895436869574029,
         3.9024140654164707,
         3.8925673289987124,
         3.908013455559911,
         3.9173558339214467,
         3.8992632826285534,
         3.92998279254652,
         3.9014583855205034
        ]
       ],
       "encoder": "json",
       "name": "ABC_GAN_1 Metrics",
       "version": 1
      }
     },
     "metadata": {
      "scrapbook": {
       "data": true,
       "display": false,
       "name": "ABC_GAN_1 Metrics"
      }
     },
     "output_type": "display_data"
    },
    {
     "name": "stdout",
     "output_type": "stream",
     "text": [
      "MSE\n",
      "0.14982730035302522\n"
     ]
    }
   ],
   "source": [
    "ABC_GAN1_metrics=ABC_train_test2.test_generator(gen,test_data,prior_model,variance,bias,\"1\",device)\n",
    "sb.glue(\"ABC_GAN_1 Metrics\",ABC_GAN1_metrics)\n",
    "\n",
    "print(\"MSE\")\n",
    "print(mean(ABC_GAN1_metrics[0]))"
   ]
  },
  {
   "cell_type": "code",
   "execution_count": 14,
   "id": "eb22ce5c",
   "metadata": {
    "execution": {
     "iopub.execute_input": "2022-06-11T15:46:56.095255Z",
     "iopub.status.busy": "2022-06-11T15:46:56.094867Z",
     "iopub.status.idle": "2022-06-11T15:46:56.411880Z",
     "shell.execute_reply": "2022-06-11T15:46:56.412302Z"
    },
    "papermill": {
     "duration": 0.332759,
     "end_time": "2022-06-11T15:46:56.412449",
     "exception": false,
     "start_time": "2022-06-11T15:46:56.079690",
     "status": "completed"
    },
    "tags": []
   },
   "outputs": [
    {
     "data": {
      "image/png": "[encoded data removed]",
      "text/plain": [
       "<Figure size 432x288 with 1 Axes>"
      ]
     },
     "metadata": {
      "needs_background": "light"
     },
     "output_type": "display_data"
    },
    {
     "data": {
      "image/png": "[encoded data removed]",
      "text/plain": [
       "<Figure size 432x288 with 1 Axes>"
      ]
     },
     "metadata": {
      "needs_background": "light"
     },
     "output_type": "display_data"
    },
    {
     "data": {
      "image/png": "[encoded data removed]",
      "text/plain": [
       "<Figure size 432x288 with 1 Axes>"
      ]
     },
     "metadata": {
      "needs_background": "light"
     },
     "output_type": "display_data"
    },
    {
     "data": {
      "image/png": "[encoded data removed]",
      "text/plain": [
       "<Figure size 432x288 with 1 Axes>"
      ]
     },
     "metadata": {
      "needs_background": "light"
     },
     "output_type": "display_data"
    }
   ],
   "source": [
    "sanityChecks.discProbVsError(train_data,disc,device)\n",
    "sanityChecks.discProbVsError(test_data,disc,device)"
   ]
  },
  {
   "cell_type": "markdown",
   "id": "130f3a4d",
   "metadata": {
    "id": "130f3a4d",
    "papermill": {
     "duration": 0.014301,
     "end_time": "2022-06-11T15:46:56.441507",
     "exception": false,
     "start_time": "2022-06-11T15:46:56.427206",
     "status": "completed"
    },
    "tags": []
   },
   "source": [
    "# ABC - GAN Model with skip connection"
   ]
  },
  {
   "cell_type": "code",
   "execution_count": 15,
   "id": "4e43dad1",
   "metadata": {
    "execution": {
     "iopub.execute_input": "2022-06-11T15:46:56.474220Z",
     "iopub.status.busy": "2022-06-11T15:46:56.473776Z",
     "iopub.status.idle": "2022-06-11T15:46:56.476097Z",
     "shell.execute_reply": "2022-06-11T15:46:56.476390Z"
    },
    "id": "4e43dad1",
    "papermill": {
     "duration": 0.020591,
     "end_time": "2022-06-11T15:46:56.476508",
     "exception": false,
     "start_time": "2022-06-11T15:46:56.455917",
     "status": "completed"
    },
    "tags": []
   },
   "outputs": [],
   "source": [
    "#Generator\n",
    "gen3 = network.GeneratorWithSkipConnection(n_features+1).to(device)\n",
    "constraints=network.weightConstraint()\n",
    "#Discriminator \n",
    "disc3 = network.Discriminator(n_features+1).to(device)\n",
    "\n",
    "criterion = torch.nn.BCELoss()\n",
    "gen_opt = torch.optim.Adam(gen3.parameters(), lr=0.001, betas=(0.5, 0.999))\n",
    "disc_opt = torch.optim.Adam(disc3.parameters(), lr=0.001, betas=(0.5, 0.999))\n"
   ]
  },
  {
   "cell_type": "code",
   "execution_count": 16,
   "id": "26acbc37",
   "metadata": {
    "execution": {
     "iopub.execute_input": "2022-06-11T15:46:56.509206Z",
     "iopub.status.busy": "2022-06-11T15:46:56.508784Z",
     "iopub.status.idle": "2022-06-11T15:49:45.310524Z",
     "shell.execute_reply": "2022-06-11T15:49:45.310835Z"
    },
    "id": "26acbc37",
    "papermill": {
     "duration": 168.819416,
     "end_time": "2022-06-11T15:49:45.310958",
     "exception": false,
     "start_time": "2022-06-11T15:46:56.491542",
     "status": "completed"
    },
    "tags": []
   },
   "outputs": [
    {
     "data": {
      "image/png": "[encoded data removed]",
      "text/plain": [
       "<Figure size 432x288 with 1 Axes>"
      ]
     },
     "metadata": {
      "needs_background": "light"
     },
     "output_type": "display_data"
    },
    {
     "data": {
      "image/png": "[encoded data removed]",
      "text/plain": [
       "<Figure size 432x288 with 1 Axes>"
      ]
     },
     "metadata": {
      "needs_background": "light"
     },
     "output_type": "display_data"
    }
   ],
   "source": [
    "ABC_train_test2.training_GAN_skip_connection(disc3,gen3,disc_opt,gen_opt,train_data,batch_size,n_epochs,criterion,prior_model,variance,bias,device)"
   ]
  },
  {
   "cell_type": "code",
   "execution_count": 17,
   "id": "c5e0717b",
   "metadata": {
    "execution": {
     "iopub.execute_input": "2022-06-11T15:49:45.345480Z",
     "iopub.status.busy": "2022-06-11T15:49:45.345093Z",
     "iopub.status.idle": "2022-06-11T15:49:46.146973Z",
     "shell.execute_reply": "2022-06-11T15:49:46.147258Z"
    },
    "id": "c5e0717b",
    "papermill": {
     "duration": 0.820584,
     "end_time": "2022-06-11T15:49:46.147378",
     "exception": false,
     "start_time": "2022-06-11T15:49:45.326794",
     "status": "completed"
    },
    "tags": []
   },
   "outputs": [
    {
     "data": {
      "application/scrapbook.scrap.json+json": {
       "data": 124.83822345390762,
       "encoder": "json",
       "name": "ABC-GAN Model 3 MSE",
       "version": 1
      }
     },
     "metadata": {
      "scrapbook": {
       "data": true,
       "display": false,
       "name": "ABC-GAN Model 3 MSE"
      }
     },
     "output_type": "display_data"
    },
    {
     "data": {
      "application/scrapbook.scrap.json+json": {
       "data": 10.874234044300575,
       "encoder": "json",
       "name": "ABC-GAN Model 3 MAE",
       "version": 1
      }
     },
     "metadata": {
      "scrapbook": {
       "data": true,
       "display": false,
       "name": "ABC-GAN Model 3 MAE"
      }
     },
     "output_type": "display_data"
    },
    {
     "data": {
      "application/scrapbook.scrap.json+json": {
       "data": 1109.1718725186586,
       "encoder": "json",
       "name": "ABC-GAN Model 3 Manhattan Distance",
       "version": 1
      }
     },
     "metadata": {
      "scrapbook": {
       "data": true,
       "display": false,
       "name": "ABC-GAN Model 3 Manhattan Distance"
      }
     },
     "output_type": "display_data"
    },
    {
     "data": {
      "application/scrapbook.scrap.json+json": {
       "data": 112.84280446859435,
       "encoder": "json",
       "name": "ABC-GAN Model 3 Euclidean distance",
       "version": 1
      }
     },
     "metadata": {
      "scrapbook": {
       "data": true,
       "display": false,
       "name": "ABC-GAN Model 3 Euclidean distance"
      }
     },
     "output_type": "display_data"
    },
    {
     "data": {
      "application/scrapbook.scrap.json+json": {
       "data": [
        [
         124.84574753282115,
         124.81616687345735,
         124.86890068610523,
         124.83838108063992,
         124.81397648773839,
         124.87648414702983,
         124.8108058641419,
         124.8150249553095,
         124.84819197762808,
         124.83868248595887,
         124.77463346879514,
         124.84554301190306,
         124.82709000664025,
         124.91397336939356,
         124.88124712663841,
         124.88252617929734,
         124.88945936440756,
         124.85505899900384,
         124.81612697019877,
         124.83762089268204,
         124.85566424709793,
         124.85582156243458,
         124.80740563019249,
         124.81156553839692,
         124.8857710363883,
         124.76928329479907,
         124.8595326586037,
         124.91228756078154,
         124.83604679483422,
         124.85134321087011,
         124.78599363818329,
         124.76210297231904,
         124.89568285055691,
         124.86517504552376,
         124.8141031957819,
         124.75428665055041,
         124.85203932429837,
         124.84629094977434,
         124.84173504070715,
         124.86392159134154,
         124.87605871553285,
         124.86286665817983,
         124.84989291134356,
         124.89410466799124,
         124.82062227414062,
         124.87587428296574,
         124.87107408381573,
         124.8647180811059,
         124.84630263973536,
         124.79924586974882,
         124.81684648882255,
         124.81251207968364,
         124.82064413972965,
         124.85284467848531,
         124.87690819854505,
         124.82869842987648,
         124.86196151123,
         124.82119523124362,
         124.91077770760454,
         124.87588174323879,
         124.79011512726525,
         124.8711206963903,
         124.8948162212559,
         124.79573181331689,
         124.84238958109984,
         124.84255568654937,
         124.87061219960138,
         124.86948374346042,
         124.80796094511625,
         124.77204912197473,
         124.82432852840061,
         124.86480515007344,
         124.82414971026476,
         124.85096721862233,
         124.78883894429515,
         124.81138841781811,
         124.8316257604224,
         124.83879617758934,
         124.86261972565002,
         124.85837400185744,
         124.83924488760975,
         124.76067458745567,
         124.79549589752438,
         124.8384450131395,
         124.74509435455025,
         124.81234596691229,
         124.87331309256683,
         124.87415595956772,
         124.80587637241813,
         124.87994173054751,
         124.82421866228908,
         124.84579354256772,
         124.80706080886453,
         124.78025507247126,
         124.80971974197539,
         124.81028292185925,
         124.83115049569759,
         124.84024384080502,
         124.87916836122331,
         124.79641064344723
        ],
        [
         10.87524914814561,
         10.873589002180333,
         10.875423385378193,
         10.87400821684038,
         10.874177877371217,
         10.875494920301671,
         10.873756788086657,
         10.873681246796075,
         10.875355295836926,
         10.874090134659234,
         10.871667974865904,
         10.875308042209522,
         10.873960070312023,
         10.877409673935057,
         10.876387797880406,
         10.877001646248733,
         10.875412717315497,
         10.874784554482675,
         10.872686433587589,
         10.87431738496411,
         10.874873470588058,
         10.875071788097129,
         10.873911484345502,
         10.872278181507307,
         10.876073010558008,
         10.871115619791489,
         10.875314227067957,
         10.877493569225658,
         10.87435944480639,
         10.875247067826635,
         10.871677048796533,
         10.870945454374247,
         10.876894540208227,
         10.875125759518614,
         10.8735454183291,
         10.870646729919256,
         10.87525766576622,
         10.87492444074037,
         10.874375105634623,
         10.87407639052938,
         10.875929431149773,
         10.875054145122276,
         10.875410412602564,
         10.876367354655967,
         10.872899603171676,
         10.874829821288586,
         10.874306422384347,
         10.875237002822699,
         10.874792772911343,
         10.872588565098305,
         10.873690638618141,
         10.873285046541223,
         10.874042062928863,
         10.87474673942608,
         10.875890816689706,
         10.873928178320913,
         10.87544999476157,
         10.874136967547969,
         10.877674800069894,
         10.875604031863165,
         10.87227466132711,
         10.875765132699527,
         10.876235696176687,
         10.872611518730135,
         10.874994909792553,
         10.874598882508044,
         10.875496500409117,
         10.875289623205568,
         10.872578112079816,
         10.87116083049891,
         10.874032283092246,
         10.875468783080578,
         10.874683376182528,
         10.874232970762487,
         10.87238852256069,
         10.872739175517186,
         10.874315772132546,
         10.87444657043499,
         10.8753201033847,
         10.873904962896132,
         10.874064960462206,
         10.871522011271878,
         10.872444410680556,
         10.874171510192694,
         10.870014041808306,
         10.873554454860734,
         10.87647932724041,
         10.875306041363407,
         10.872304543122358,
         10.876271407539939,
         10.87292305234016,
         10.874325846486231,
         10.872772993556424,
         10.871410777317543,
         10.872374801805206,
         10.872316253681978,
         10.87389985325874,
         10.872960184865137,
         10.876143792826756,
         10.872772240901694
        ],
        [
         1109.2754131108522,
         1109.106078222394,
         1109.2931853085756,
         1109.1488381177187,
         1109.1661434918642,
         1109.3004818707705,
         1109.123192384839,
         1109.1154871731997,
         1109.2862401753664,
         1109.157193735242,
         1108.9101334363222,
         1109.2814203053713,
         1109.1439271718264,
         1109.495786741376,
         1109.3915553838015,
         1109.4541679173708,
         1109.2920971661806,
         1109.2280245572329,
         1109.014016225934,
         1109.1803732663393,
         1109.2370939999819,
         1109.2573223859072,
         1109.1389714032412,
         1108.9723745137453,
         1109.3594470769167,
         1108.8537932187319,
         1109.2820511609316,
         1109.504344061017,
         1109.1846633702517,
         1109.2752009183168,
         1108.9110589772463,
         1108.8364363461733,
         1109.4432431012392,
         1109.2628274708986,
         1109.101632669568,
         1108.805966451764,
         1109.2762819081545,
         1109.2422929555178,
         1109.1862607747316,
         1109.1557918339968,
         1109.3448019772768,
         1109.2555228024721,
         1109.2918620854616,
         1109.3894701749086,
         1109.035759523511,
         1109.2326417714357,
         1109.1792550832033,
         1109.2741742879152,
         1109.228862836957,
         1109.004033640027,
         1109.1164451390505,
         1109.0750747472048,
         1109.152290418744,
         1109.2241674214602,
         1109.34086330235,
         1109.140674188733,
         1109.2958994656801,
         1109.1619706898928,
         1109.522829607129,
         1109.311611250043,
         1108.9720154553652,
         1109.3280435353518,
         1109.3760410100222,
         1109.0063749104738,
         1109.2494807988405,
         1109.2090860158205,
         1109.30064304173,
         1109.279541566968,
         1109.0029674321413,
         1108.8584047108889,
         1109.1512928754091,
         1109.297815874219,
         1109.2177043706179,
         1109.1717630177736,
         1108.9836293011904,
         1109.0193959027529,
         1109.1802087575197,
         1109.193550184369,
         1109.2826505452394,
         1109.1383062154055,
         1109.154625967145,
         1108.8952451497316,
         1108.9893298894167,
         1109.1654940396547,
         1108.7414322644472,
         1109.1025543957949,
         1109.400891378522,
         1109.2812162190676,
         1108.9750633984804,
         1109.3796835690737,
         1109.0381513386965,
         1109.1812363415956,
         1109.0228453427553,
         1108.8838992863894,
         1108.982229784131,
         1108.9762578755617,
         1109.1377850323915,
         1109.041938856244,
         1109.366666868329,
         1109.0227685719728
        ],
        [
         112.84620617613939,
         112.83283662610214,
         112.85666958573047,
         112.84287691398728,
         112.83184657599695,
         112.86009650446454,
         112.83041344487962,
         112.83232048239356,
         112.847310919304,
         112.84301313580654,
         112.81406212798609,
         112.84611374440021,
         112.83777373148281,
         112.8770361219595,
         112.86224881206789,
         112.86282678671631,
         112.86595968302211,
         112.85041434526677,
         112.83281858998417,
         112.84253334205846,
         112.85068787209049,
         112.85075896673595,
         112.82887650898435,
         112.8307568215178,
         112.86429305015652,
         112.81164344193158,
         112.85243608880394,
         112.87627443887274,
         112.84182191489593,
         112.84873507270143,
         112.8191976176692,
         112.80839730789789,
         112.86877181380511,
         112.85498595384887,
         112.8319038480241,
         112.80486354034626,
         112.84904966847724,
         112.8464517691052,
         112.84439274572811,
         112.85441950724326,
         112.85990425737725,
         112.85394277177181,
         112.84807963344812,
         112.868058706328,
         112.8348504317808,
         112.85982091454207,
         112.85765174124974,
         112.85477944807126,
         112.84645705228412,
         112.82518813950357,
         112.83314380916589,
         112.83118466154532,
         112.83486031476453,
         112.8494136325285,
         112.8602881276297,
         112.8385006983317,
         112.85353372467102,
         112.83510940122696,
         112.87559225171606,
         112.85982428575,
         112.82106072441022,
         112.85767280531624,
         112.8683802247915,
         112.82359968091039,
         112.84468856473568,
         112.84476363583751,
         112.85744301710609,
         112.85693306940857,
         112.82912751768428,
         112.81289381290344,
         112.83652560184964,
         112.85481879524457,
         112.83644477936646,
         112.84856514949351,
         112.82048383302615,
         112.83067676220615,
         112.8398237660937,
         112.84306451933195,
         112.85383118005475,
         112.85191247023445,
         112.8432673159378,
         112.80775154181774,
         112.82349303911614,
         112.84290580865165,
         112.8007075516999,
         112.83110957809933,
         112.85866353737238,
         112.85904442212822,
         112.82818526408484,
         112.86165893037301,
         112.83647594441031,
         112.84622696989877,
         112.82872064551732,
         112.81660346505771,
         112.8299225103053,
         112.83017707169324,
         112.83960896139779,
         112.84371879622769,
         112.86130945919766,
         112.82390653417221
        ]
       ],
       "encoder": "json",
       "name": "ABC_GAN_3 Metrics",
       "version": 1
      }
     },
     "metadata": {
      "scrapbook": {
       "data": true,
       "display": false,
       "name": "ABC_GAN_3 Metrics"
      }
     },
     "output_type": "display_data"
    },
    {
     "name": "stdout",
     "output_type": "stream",
     "text": [
      "MSE\n",
      "124.83822345390762\n"
     ]
    }
   ],
   "source": [
    "ABC_GAN3_metrics=ABC_train_test2.test_generator(gen3,test_data,prior_model,variance,bias,\"3\",device)\n",
    "sb.glue(\"ABC_GAN_3 Metrics\",ABC_GAN3_metrics)\n",
    "\n",
    "print(\"MSE\")\n",
    "print(mean(ABC_GAN3_metrics[0]))"
   ]
  },
  {
   "cell_type": "code",
   "execution_count": 18,
   "id": "c8e46b48",
   "metadata": {
    "execution": {
     "iopub.execute_input": "2022-06-11T15:49:46.184764Z",
     "iopub.status.busy": "2022-06-11T15:49:46.184385Z",
     "iopub.status.idle": "2022-06-11T15:49:46.506948Z",
     "shell.execute_reply": "2022-06-11T15:49:46.507198Z"
    },
    "id": "c8e46b48",
    "papermill": {
     "duration": 0.342746,
     "end_time": "2022-06-11T15:49:46.507319",
     "exception": false,
     "start_time": "2022-06-11T15:49:46.164573",
     "status": "completed"
    },
    "tags": []
   },
   "outputs": [
    {
     "data": {
      "image/png": "[encoded data removed]",
      "text/plain": [
       "<Figure size 432x288 with 1 Axes>"
      ]
     },
     "metadata": {
      "needs_background": "light"
     },
     "output_type": "display_data"
    },
    {
     "data": {
      "image/png": "[encoded data removed]",
      "text/plain": [
       "<Figure size 432x288 with 1 Axes>"
      ]
     },
     "metadata": {
      "needs_background": "light"
     },
     "output_type": "display_data"
    },
    {
     "data": {
      "image/png": "[encoded data removed]",
      "text/plain": [
       "<Figure size 432x288 with 1 Axes>"
      ]
     },
     "metadata": {
      "needs_background": "light"
     },
     "output_type": "display_data"
    },
    {
     "data": {
      "image/png": "[encoded data removed]",
      "text/plain": [
       "<Figure size 432x288 with 1 Axes>"
      ]
     },
     "metadata": {
      "needs_background": "light"
     },
     "output_type": "display_data"
    }
   ],
   "source": [
    "sanityChecks.discProbVsError(train_data,disc3,device)\n",
    "sanityChecks.discProbVsError(test_data,disc3,device)"
   ]
  },
  {
   "cell_type": "markdown",
   "id": "a5bd74c3",
   "metadata": {
    "id": "a5bd74c3",
    "papermill": {
     "duration": 0.019823,
     "end_time": "2022-06-11T15:49:46.546840",
     "exception": false,
     "start_time": "2022-06-11T15:49:46.527017",
     "status": "completed"
    },
    "tags": []
   },
   "source": [
    "## Skip Connection Model Analysis - ABC-GAN "
   ]
  },
  {
   "cell_type": "markdown",
   "id": "5744a8bf",
   "metadata": {
    "id": "5744a8bf",
    "papermill": {
     "duration": 0.019298,
     "end_time": "2022-06-11T15:49:46.585698",
     "exception": false,
     "start_time": "2022-06-11T15:49:46.566400",
     "status": "completed"
    },
    "tags": []
   },
   "source": [
    "### Weight Analysis \n",
    "\n",
    "Study the weights of the skip connection layer\n",
    "\n",
    "Equation of the skip connection is \n",
    "\n",
    "$output = y_{gan} * w + y_{abc} * (1-w)$"
   ]
  },
  {
   "cell_type": "code",
   "execution_count": 19,
   "id": "52c31dea",
   "metadata": {
    "execution": {
     "iopub.execute_input": "2022-06-11T15:49:46.626787Z",
     "iopub.status.busy": "2022-06-11T15:49:46.626399Z",
     "iopub.status.idle": "2022-06-11T15:49:46.629900Z",
     "shell.execute_reply": "2022-06-11T15:49:46.630144Z"
    },
    "id": "52c31dea",
    "papermill": {
     "duration": 0.025506,
     "end_time": "2022-06-11T15:49:46.630253",
     "exception": false,
     "start_time": "2022-06-11T15:49:46.604747",
     "status": "completed"
    },
    "tags": []
   },
   "outputs": [
    {
     "name": "stdout",
     "output_type": "stream",
     "text": [
      "Weight of the node at skip connection\n",
      "Parameter containing:\n",
      "tensor([[0.0300]], requires_grad=True)\n"
     ]
    },
    {
     "data": {
      "application/scrapbook.scrap.json+json": {
       "data": 0.029961969703435898,
       "encoder": "json",
       "name": "Skip Connection Weight",
       "version": 1
      }
     },
     "metadata": {
      "scrapbook": {
       "data": true,
       "display": false,
       "name": "Skip Connection Weight"
      }
     },
     "output_type": "display_data"
    }
   ],
   "source": [
    "print(\"Weight of the node at skip connection\")\n",
    "for name,param in gen3.named_parameters():\n",
    "    if(name == \"skipNode.weight\"):\n",
    "        print(param)\n",
    "        sb.glue(\"Skip Connection Weight\",param.item())"
   ]
  }
 ],
 "metadata": {
  "colab": {
   "collapsed_sections": [],
   "name": "ABC_GAN_Model-Catboost_Pre-gen.ipynb",
   "provenance": []
  },
  "interpreter": {
   "hash": "31f2aee4e71d21fbe5cf8b01ff0e069b9275f58929596ceb00d14d90e3e16cd6"
  },
  "kernelspec": {
   "display_name": "Python 3 (ipykernel)",
   "language": "python",
   "name": "python3"
  },
  "language_info": {
   "codemirror_mode": {
    "name": "ipython",
    "version": 3
   },
   "file_extension": ".py",
   "mimetype": "text/x-python",
   "name": "python",
   "nbconvert_exporter": "python",
   "pygments_lexer": "ipython3",
   "version": "3.8.11"
  },
  "papermill": {
   "default_parameters": {},
   "duration": 1428.325177,
   "end_time": "2022-06-11T15:49:46.957503",
   "environment_variables": {},
   "exception": null,
   "input_path": "ABC_GAN-Catboost.ipynb",
   "output_path": "./ABC_GAN_Catboost/ABC-GAN_output_1_8.ipynb",
   "parameters": {
    "bias": 0.01,
    "variance": 0.01
   },
   "start_time": "2022-06-11T15:25:58.632326",
   "version": "2.3.3"
  }
 },
 "nbformat": 4,
 "nbformat_minor": 5
}