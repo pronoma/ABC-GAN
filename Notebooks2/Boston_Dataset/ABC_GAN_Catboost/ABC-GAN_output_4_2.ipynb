{
 "cells": [
  {
   "cell_type": "markdown",
   "id": "622780e6",
   "metadata": {
    "id": "622780e6",
    "papermill": {
     "duration": 0.015469,
     "end_time": "2022-06-12T03:41:28.278186",
     "exception": false,
     "start_time": "2022-06-12T03:41:28.262717",
     "status": "completed"
    },
    "tags": []
   },
   "source": [
    "## Import Libraries "
   ]
  },
  {
   "cell_type": "code",
   "execution_count": 1,
   "id": "a62397e3",
   "metadata": {
    "execution": {
     "iopub.execute_input": "2022-06-12T03:41:28.307021Z",
     "iopub.status.busy": "2022-06-12T03:41:28.306475Z",
     "iopub.status.idle": "2022-06-12T03:41:28.308630Z",
     "shell.execute_reply": "2022-06-12T03:41:28.308920Z"
    },
    "id": "a62397e3",
    "papermill": {
     "duration": 0.01906,
     "end_time": "2022-06-12T03:41:28.309112",
     "exception": false,
     "start_time": "2022-06-12T03:41:28.290052",
     "status": "completed"
    },
    "tags": []
   },
   "outputs": [],
   "source": [
    "import warnings\n",
    "import sys\n",
    "sys.path.insert(0, '../../src')\n",
    "warnings.filterwarnings('ignore')"
   ]
  },
  {
   "cell_type": "code",
   "execution_count": 2,
   "id": "d6a4e155",
   "metadata": {
    "execution": {
     "iopub.execute_input": "2022-06-12T03:41:28.328076Z",
     "iopub.status.busy": "2022-06-12T03:41:28.327676Z",
     "iopub.status.idle": "2022-06-12T03:41:29.903263Z",
     "shell.execute_reply": "2022-06-12T03:41:29.903489Z"
    },
    "id": "d6a4e155",
    "papermill": {
     "duration": 1.5861,
     "end_time": "2022-06-12T03:41:29.903615",
     "exception": false,
     "start_time": "2022-06-12T03:41:28.317515",
     "status": "completed"
    },
    "tags": []
   },
   "outputs": [],
   "source": [
    "import ABC_train_test2\n",
    "import bostonDataset\n",
    "import network\n",
    "import dataset\n",
    "import sanityChecks\n",
    "import torch \n",
    "import scrapbook as sb\n",
    "from statistics import mean \n",
    "import catboost as ctb \n",
    "from sklearn.model_selection import train_test_split\n",
    "from sklearn.metrics import mean_squared_error,mean_absolute_error\n",
    "import numpy as np"
   ]
  },
  {
   "cell_type": "markdown",
   "id": "2fa5b0f7",
   "metadata": {
    "id": "2fa5b0f7",
    "papermill": {
     "duration": 0.007045,
     "end_time": "2022-06-12T03:41:29.917716",
     "exception": false,
     "start_time": "2022-06-12T03:41:29.910671",
     "status": "completed"
    },
    "tags": []
   },
   "source": [
    "## Parameters "
   ]
  },
  {
   "cell_type": "code",
   "execution_count": 3,
   "id": "783186fb",
   "metadata": {
    "execution": {
     "iopub.execute_input": "2022-06-12T03:41:29.933736Z",
     "iopub.status.busy": "2022-06-12T03:41:29.933365Z",
     "iopub.status.idle": "2022-06-12T03:41:29.934770Z",
     "shell.execute_reply": "2022-06-12T03:41:29.935083Z"
    },
    "id": "783186fb",
    "papermill": {
     "duration": 0.010577,
     "end_time": "2022-06-12T03:41:29.935198",
     "exception": false,
     "start_time": "2022-06-12T03:41:29.924621",
     "status": "completed"
    },
    "tags": [
     "parameters"
    ]
   },
   "outputs": [],
   "source": [
    "variance = 1\n",
    "bias = 1 "
   ]
  },
  {
   "cell_type": "code",
   "execution_count": 4,
   "id": "88e5ea58",
   "metadata": {
    "execution": {
     "iopub.execute_input": "2022-06-12T03:41:29.950821Z",
     "iopub.status.busy": "2022-06-12T03:41:29.950389Z",
     "iopub.status.idle": "2022-06-12T03:41:29.951668Z",
     "shell.execute_reply": "2022-06-12T03:41:29.951908Z"
    },
    "papermill": {
     "duration": 0.009846,
     "end_time": "2022-06-12T03:41:29.952011",
     "exception": false,
     "start_time": "2022-06-12T03:41:29.942165",
     "status": "completed"
    },
    "tags": [
     "injected-parameters"
    ]
   },
   "outputs": [],
   "source": [
    "# Parameters\n",
    "variance = 0.01\n",
    "bias = 1\n"
   ]
  },
  {
   "cell_type": "markdown",
   "id": "391cdbfd",
   "metadata": {
    "id": "391cdbfd",
    "papermill": {
     "duration": 0.006655,
     "end_time": "2022-06-12T03:41:29.965446",
     "exception": false,
     "start_time": "2022-06-12T03:41:29.958791",
     "status": "completed"
    },
    "tags": []
   },
   "source": [
    "## Dataset \n"
   ]
  },
  {
   "cell_type": "code",
   "execution_count": 5,
   "id": "5b51f161",
   "metadata": {
    "execution": {
     "iopub.execute_input": "2022-06-12T03:41:29.980963Z",
     "iopub.status.busy": "2022-06-12T03:41:29.980550Z",
     "iopub.status.idle": "2022-06-12T03:41:29.981844Z",
     "shell.execute_reply": "2022-06-12T03:41:29.982098Z"
    },
    "id": "5b51f161",
    "papermill": {
     "duration": 0.009998,
     "end_time": "2022-06-12T03:41:29.982202",
     "exception": false,
     "start_time": "2022-06-12T03:41:29.972204",
     "status": "completed"
    },
    "tags": []
   },
   "outputs": [],
   "source": [
    "#Parameters \n",
    "n_features = 13\n",
    "n_samples= 506\n",
    "n_target = 1 "
   ]
  },
  {
   "cell_type": "code",
   "execution_count": 6,
   "id": "5d6eced4",
   "metadata": {
    "execution": {
     "iopub.execute_input": "2022-06-12T03:41:29.998368Z",
     "iopub.status.busy": "2022-06-12T03:41:29.998002Z",
     "iopub.status.idle": "2022-06-12T03:41:30.008356Z",
     "shell.execute_reply": "2022-06-12T03:41:30.008610Z"
    },
    "id": "5d6eced4",
    "papermill": {
     "duration": 0.019729,
     "end_time": "2022-06-12T03:41:30.008730",
     "exception": false,
     "start_time": "2022-06-12T03:41:29.989001",
     "status": "completed"
    },
    "tags": []
   },
   "outputs": [
    {
     "name": "stdout",
     "output_type": "stream",
     "text": [
      "         X1        X2        X3        X4        X5        X6        X7  \\\n",
      "0 -0.419782  0.284830 -1.287909 -0.272599 -0.144217  0.413672 -0.120013   \n",
      "1 -0.417339 -0.487722 -0.593381 -0.272599 -0.740262  0.194274  0.367166   \n",
      "2 -0.417342 -0.487722 -0.593381 -0.272599 -0.740262  1.282714 -0.265812   \n",
      "3 -0.416750 -0.487722 -1.306878 -0.272599 -0.835284  1.016303 -0.809889   \n",
      "4 -0.412482 -0.487722 -1.306878 -0.272599 -0.835284  1.228577 -0.511180   \n",
      "\n",
      "         X8        X9       X10       X11       X12       X13         Y  \n",
      "0  0.140214 -0.982843 -0.666608 -1.459000  0.441052 -1.075562  0.159686  \n",
      "1  0.557160 -0.867883 -0.987329 -0.303094  0.441052 -0.492439 -0.101524  \n",
      "2  0.557160 -0.867883 -0.987329 -0.303094  0.396427 -1.208727  1.324247  \n",
      "3  1.077737 -0.752922 -1.106115  0.113032  0.416163 -1.361517  1.182758  \n",
      "4  1.077737 -0.752922 -1.106115  0.113032  0.441052 -1.026501  1.487503  \n"
     ]
    }
   ],
   "source": [
    "X,Y = bostonDataset.boston_data()"
   ]
  },
  {
   "cell_type": "code",
   "execution_count": 7,
   "id": "fe007438",
   "metadata": {
    "execution": {
     "iopub.execute_input": "2022-06-12T03:41:30.026146Z",
     "iopub.status.busy": "2022-06-12T03:41:30.025781Z",
     "iopub.status.idle": "2022-06-12T03:41:30.027290Z",
     "shell.execute_reply": "2022-06-12T03:41:30.027596Z"
    },
    "id": "fe007438",
    "papermill": {
     "duration": 0.011678,
     "end_time": "2022-06-12T03:41:30.027709",
     "exception": false,
     "start_time": "2022-06-12T03:41:30.016031",
     "status": "completed"
    },
    "tags": []
   },
   "outputs": [],
   "source": [
    "#Train test split for dataset \n",
    "X_train,X_test,Y_train,Y_test = train_test_split(X,Y,test_size = 0.2)\n",
    "train_data = dataset.CustomDataset(X_train,Y_train)\n",
    "test_data = dataset.CustomDataset(X_test,Y_test)\n"
   ]
  },
  {
   "cell_type": "markdown",
   "id": "a9a1af34",
   "metadata": {
    "id": "a9a1af34",
    "papermill": {
     "duration": 0.007128,
     "end_time": "2022-06-12T03:41:30.042109",
     "exception": false,
     "start_time": "2022-06-12T03:41:30.034981",
     "status": "completed"
    },
    "tags": []
   },
   "source": [
    "## Training Parameters "
   ]
  },
  {
   "cell_type": "code",
   "execution_count": 8,
   "id": "952b7fc8",
   "metadata": {
    "execution": {
     "iopub.execute_input": "2022-06-12T03:41:30.058775Z",
     "iopub.status.busy": "2022-06-12T03:41:30.058389Z",
     "iopub.status.idle": "2022-06-12T03:41:30.059639Z",
     "shell.execute_reply": "2022-06-12T03:41:30.059868Z"
    },
    "id": "952b7fc8",
    "papermill": {
     "duration": 0.010834,
     "end_time": "2022-06-12T03:41:30.059978",
     "exception": false,
     "start_time": "2022-06-12T03:41:30.049144",
     "status": "completed"
    },
    "tags": []
   },
   "outputs": [],
   "source": [
    "batch_size = 32\n",
    "n_epochs = 1000\n",
    "#Select the device \n",
    "device = torch.device('cuda' if torch.cuda.is_available() else 'cpu')"
   ]
  },
  {
   "cell_type": "markdown",
   "id": "a95e1600",
   "metadata": {
    "id": "a95e1600",
    "papermill": {
     "duration": 0.007053,
     "end_time": "2022-06-12T03:41:30.074238",
     "exception": false,
     "start_time": "2022-06-12T03:41:30.067185",
     "status": "completed"
    },
    "tags": []
   },
   "source": [
    "# ABC Pre-generator Model \n",
    "\n",
    "1. The catboost model is used as a pre-generator model for the ABC-GAN. \n",
    "2. The model is first trained on the entire dataset \n",
    "3. It generats X,Y pairs and we add some Gaussian noise with mean 0 and variance 1 to it which is then feed as input to the generator.\n"
   ]
  },
  {
   "cell_type": "code",
   "execution_count": 9,
   "id": "ff8ce7bd",
   "metadata": {
    "execution": {
     "iopub.execute_input": "2022-06-12T03:41:30.093237Z",
     "iopub.status.busy": "2022-06-12T03:41:30.092870Z",
     "iopub.status.idle": "2022-06-12T03:41:31.126581Z",
     "shell.execute_reply": "2022-06-12T03:41:31.126852Z"
    },
    "id": "ff8ce7bd",
    "papermill": {
     "duration": 1.045707,
     "end_time": "2022-06-12T03:41:31.127038",
     "exception": false,
     "start_time": "2022-06-12T03:41:30.081331",
     "status": "completed"
    },
    "tags": []
   },
   "outputs": [
    {
     "name": "stdout",
     "output_type": "stream",
     "text": [
      "Learning rate set to 0.033215\n",
      "0:\tlearn: 1.0131156\ttotal: 58.7ms\tremaining: 58.7s\n",
      "1:\tlearn: 0.9922812\ttotal: 59.8ms\tremaining: 29.8s\n",
      "2:\tlearn: 0.9717051\ttotal: 61ms\tremaining: 20.3s\n",
      "3:\tlearn: 0.9540888\ttotal: 62.2ms\tremaining: 15.5s\n",
      "4:\tlearn: 0.9377303\ttotal: 63.2ms\tremaining: 12.6s\n",
      "5:\tlearn: 0.9207550\ttotal: 64.4ms\tremaining: 10.7s\n",
      "6:\tlearn: 0.9054919\ttotal: 65.4ms\tremaining: 9.27s\n",
      "7:\tlearn: 0.8882354\ttotal: 66.3ms\tremaining: 8.21s\n",
      "8:\tlearn: 0.8728622\ttotal: 67.2ms\tremaining: 7.4s\n",
      "9:\tlearn: 0.8555594\ttotal: 68.1ms\tremaining: 6.74s\n",
      "10:\tlearn: 0.8427537\ttotal: 69ms\tremaining: 6.2s\n",
      "11:\tlearn: 0.8282558\ttotal: 69.8ms\tremaining: 5.75s\n",
      "12:\tlearn: 0.8127358\ttotal: 70.7ms\tremaining: 5.37s\n",
      "13:\tlearn: 0.7977038\ttotal: 71.6ms\tremaining: 5.04s\n",
      "14:\tlearn: 0.7836349\ttotal: 72.5ms\tremaining: 4.76s\n",
      "15:\tlearn: 0.7705760\ttotal: 73.4ms\tremaining: 4.51s\n",
      "16:\tlearn: 0.7569676\ttotal: 74.3ms\tremaining: 4.3s\n",
      "17:\tlearn: 0.7444021\ttotal: 75.2ms\tremaining: 4.1s\n",
      "18:\tlearn: 0.7322033\ttotal: 76ms\tremaining: 3.92s\n",
      "19:\tlearn: 0.7206186\ttotal: 76.8ms\tremaining: 3.76s\n",
      "20:\tlearn: 0.7070710\ttotal: 77.6ms\tremaining: 3.62s\n",
      "21:\tlearn: 0.6954858\ttotal: 78.3ms\tremaining: 3.48s\n",
      "22:\tlearn: 0.6833822\ttotal: 79.1ms\tremaining: 3.36s\n",
      "23:\tlearn: 0.6735898\ttotal: 79.9ms\tremaining: 3.25s\n",
      "24:\tlearn: 0.6635509\ttotal: 81.4ms\tremaining: 3.17s\n",
      "25:\tlearn: 0.6536286\ttotal: 82.2ms\tremaining: 3.08s\n",
      "26:\tlearn: 0.6447601\ttotal: 83ms\tremaining: 2.99s\n",
      "27:\tlearn: 0.6356325\ttotal: 83.8ms\tremaining: 2.91s\n",
      "28:\tlearn: 0.6260705\ttotal: 84.7ms\tremaining: 2.83s\n",
      "29:\tlearn: 0.6154642\ttotal: 85.4ms\tremaining: 2.76s\n",
      "30:\tlearn: 0.6041167\ttotal: 86.2ms\tremaining: 2.69s\n",
      "31:\tlearn: 0.5949972\ttotal: 87ms\tremaining: 2.63s\n",
      "32:\tlearn: 0.5879925\ttotal: 87.9ms\tremaining: 2.58s\n",
      "33:\tlearn: 0.5805250\ttotal: 88.7ms\tremaining: 2.52s\n",
      "34:\tlearn: 0.5735313\ttotal: 89.4ms\tremaining: 2.46s\n",
      "35:\tlearn: 0.5668916\ttotal: 90.3ms\tremaining: 2.42s\n",
      "36:\tlearn: 0.5604632\ttotal: 91ms\tremaining: 2.37s\n",
      "37:\tlearn: 0.5529212\ttotal: 91.8ms\tremaining: 2.32s\n",
      "38:\tlearn: 0.5454482\ttotal: 92.5ms\tremaining: 2.28s\n",
      "39:\tlearn: 0.5381161\ttotal: 93.3ms\tremaining: 2.24s\n",
      "40:\tlearn: 0.5309125\ttotal: 94ms\tremaining: 2.2s\n",
      "41:\tlearn: 0.5244635\ttotal: 94.9ms\tremaining: 2.16s\n",
      "42:\tlearn: 0.5179977\ttotal: 95.7ms\tremaining: 2.13s\n",
      "43:\tlearn: 0.5123817\ttotal: 96.5ms\tremaining: 2.1s\n",
      "44:\tlearn: 0.5068340\ttotal: 97.3ms\tremaining: 2.06s\n",
      "45:\tlearn: 0.5004766\ttotal: 98ms\tremaining: 2.03s\n",
      "46:\tlearn: 0.4947872\ttotal: 99.5ms\tremaining: 2.02s\n",
      "47:\tlearn: 0.4886056\ttotal: 100ms\tremaining: 1.99s\n",
      "48:\tlearn: 0.4833723\ttotal: 101ms\tremaining: 1.96s\n",
      "49:\tlearn: 0.4785851\ttotal: 102ms\tremaining: 1.93s\n",
      "50:\tlearn: 0.4730419\ttotal: 102ms\tremaining: 1.91s\n",
      "51:\tlearn: 0.4678375\ttotal: 103ms\tremaining: 1.88s\n",
      "52:\tlearn: 0.4615644\ttotal: 104ms\tremaining: 1.86s\n",
      "53:\tlearn: 0.4579233\ttotal: 105ms\tremaining: 1.83s\n",
      "54:\tlearn: 0.4524344\ttotal: 105ms\tremaining: 1.81s\n",
      "55:\tlearn: 0.4486937\ttotal: 106ms\tremaining: 1.79s\n",
      "56:\tlearn: 0.4432733\ttotal: 107ms\tremaining: 1.77s\n",
      "57:\tlearn: 0.4388096\ttotal: 107ms\tremaining: 1.74s\n"
     ]
    },
    {
     "name": "stdout",
     "output_type": "stream",
     "text": [
      "58:\tlearn: 0.4351226\ttotal: 108ms\tremaining: 1.73s\n",
      "59:\tlearn: 0.4314628\ttotal: 109ms\tremaining: 1.71s\n",
      "60:\tlearn: 0.4267773\ttotal: 110ms\tremaining: 1.7s\n",
      "61:\tlearn: 0.4218492\ttotal: 111ms\tremaining: 1.68s\n",
      "62:\tlearn: 0.4180684\ttotal: 112ms\tremaining: 1.66s\n",
      "63:\tlearn: 0.4132179\ttotal: 112ms\tremaining: 1.65s\n",
      "64:\tlearn: 0.4095899\ttotal: 113ms\tremaining: 1.63s\n",
      "65:\tlearn: 0.4056997\ttotal: 114ms\tremaining: 1.61s\n",
      "66:\tlearn: 0.4024248\ttotal: 115ms\tremaining: 1.6s\n",
      "67:\tlearn: 0.3994845\ttotal: 116ms\tremaining: 1.58s\n",
      "68:\tlearn: 0.3958054\ttotal: 116ms\tremaining: 1.57s\n",
      "69:\tlearn: 0.3915927\ttotal: 117ms\tremaining: 1.56s\n",
      "70:\tlearn: 0.3875902\ttotal: 118ms\tremaining: 1.54s\n",
      "71:\tlearn: 0.3848175\ttotal: 119ms\tremaining: 1.53s\n",
      "72:\tlearn: 0.3818728\ttotal: 120ms\tremaining: 1.52s\n",
      "73:\tlearn: 0.3779578\ttotal: 120ms\tremaining: 1.51s\n",
      "74:\tlearn: 0.3744348\ttotal: 121ms\tremaining: 1.5s\n",
      "75:\tlearn: 0.3718912\ttotal: 122ms\tremaining: 1.48s\n",
      "76:\tlearn: 0.3680169\ttotal: 123ms\tremaining: 1.47s\n",
      "77:\tlearn: 0.3654398\ttotal: 124ms\tremaining: 1.46s\n",
      "78:\tlearn: 0.3625657\ttotal: 124ms\tremaining: 1.45s\n",
      "79:\tlearn: 0.3602041\ttotal: 125ms\tremaining: 1.44s\n",
      "80:\tlearn: 0.3574078\ttotal: 126ms\tremaining: 1.43s\n",
      "81:\tlearn: 0.3546127\ttotal: 127ms\tremaining: 1.42s\n",
      "82:\tlearn: 0.3515131\ttotal: 128ms\tremaining: 1.41s\n",
      "83:\tlearn: 0.3489063\ttotal: 128ms\tremaining: 1.4s\n",
      "84:\tlearn: 0.3470389\ttotal: 129ms\tremaining: 1.39s\n",
      "85:\tlearn: 0.3438458\ttotal: 130ms\tremaining: 1.38s\n",
      "86:\tlearn: 0.3406288\ttotal: 131ms\tremaining: 1.37s\n",
      "87:\tlearn: 0.3378532\ttotal: 131ms\tremaining: 1.36s\n",
      "88:\tlearn: 0.3352965\ttotal: 132ms\tremaining: 1.35s\n",
      "89:\tlearn: 0.3334460\ttotal: 133ms\tremaining: 1.34s\n",
      "90:\tlearn: 0.3309495\ttotal: 134ms\tremaining: 1.34s\n",
      "91:\tlearn: 0.3292575\ttotal: 135ms\tremaining: 1.33s\n",
      "92:\tlearn: 0.3275255\ttotal: 136ms\tremaining: 1.32s\n",
      "93:\tlearn: 0.3251370\ttotal: 137ms\tremaining: 1.31s\n",
      "94:\tlearn: 0.3227607\ttotal: 137ms\tremaining: 1.31s\n",
      "95:\tlearn: 0.3215225\ttotal: 138ms\tremaining: 1.3s\n",
      "96:\tlearn: 0.3198518\ttotal: 139ms\tremaining: 1.29s\n",
      "97:\tlearn: 0.3182997\ttotal: 140ms\tremaining: 1.29s\n",
      "98:\tlearn: 0.3166465\ttotal: 141ms\tremaining: 1.28s\n",
      "99:\tlearn: 0.3151310\ttotal: 142ms\tremaining: 1.27s\n",
      "100:\tlearn: 0.3133876\ttotal: 142ms\tremaining: 1.27s\n",
      "101:\tlearn: 0.3113107\ttotal: 143ms\tremaining: 1.26s\n",
      "102:\tlearn: 0.3098117\ttotal: 144ms\tremaining: 1.25s\n",
      "103:\tlearn: 0.3077394\ttotal: 145ms\tremaining: 1.25s\n",
      "104:\tlearn: 0.3062315\ttotal: 146ms\tremaining: 1.24s\n",
      "105:\tlearn: 0.3049446\ttotal: 146ms\tremaining: 1.24s\n",
      "106:\tlearn: 0.3031273\ttotal: 147ms\tremaining: 1.23s\n",
      "107:\tlearn: 0.3014154\ttotal: 148ms\tremaining: 1.22s\n",
      "108:\tlearn: 0.3000638\ttotal: 149ms\tremaining: 1.22s\n",
      "109:\tlearn: 0.2990743\ttotal: 150ms\tremaining: 1.21s\n",
      "110:\tlearn: 0.2976966\ttotal: 151ms\tremaining: 1.21s\n",
      "111:\tlearn: 0.2960995\ttotal: 151ms\tremaining: 1.2s\n",
      "112:\tlearn: 0.2940486\ttotal: 152ms\tremaining: 1.19s\n",
      "113:\tlearn: 0.2930259\ttotal: 153ms\tremaining: 1.19s\n",
      "114:\tlearn: 0.2919666\ttotal: 154ms\tremaining: 1.18s\n",
      "115:\tlearn: 0.2904402\ttotal: 155ms\tremaining: 1.18s\n",
      "116:\tlearn: 0.2887377\ttotal: 155ms\tremaining: 1.17s\n",
      "117:\tlearn: 0.2873410\ttotal: 156ms\tremaining: 1.17s\n",
      "118:\tlearn: 0.2854866\ttotal: 157ms\tremaining: 1.16s\n",
      "119:\tlearn: 0.2847204\ttotal: 158ms\tremaining: 1.16s\n",
      "120:\tlearn: 0.2833163\ttotal: 159ms\tremaining: 1.15s\n",
      "121:\tlearn: 0.2823571\ttotal: 160ms\tremaining: 1.15s\n",
      "122:\tlearn: 0.2810379\ttotal: 160ms\tremaining: 1.14s\n",
      "123:\tlearn: 0.2793976\ttotal: 161ms\tremaining: 1.14s\n",
      "124:\tlearn: 0.2782752\ttotal: 162ms\tremaining: 1.13s\n",
      "125:\tlearn: 0.2773138\ttotal: 163ms\tremaining: 1.13s\n",
      "126:\tlearn: 0.2758836\ttotal: 163ms\tremaining: 1.12s\n",
      "127:\tlearn: 0.2749236\ttotal: 164ms\tremaining: 1.12s\n",
      "128:\tlearn: 0.2735404\ttotal: 165ms\tremaining: 1.12s\n",
      "129:\tlearn: 0.2725538\ttotal: 166ms\tremaining: 1.11s\n",
      "130:\tlearn: 0.2717016\ttotal: 167ms\tremaining: 1.11s\n",
      "131:\tlearn: 0.2706961\ttotal: 168ms\tremaining: 1.1s\n",
      "132:\tlearn: 0.2697775\ttotal: 169ms\tremaining: 1.1s\n",
      "133:\tlearn: 0.2685012\ttotal: 169ms\tremaining: 1.09s\n",
      "134:\tlearn: 0.2674475\ttotal: 170ms\tremaining: 1.09s\n",
      "135:\tlearn: 0.2667985\ttotal: 171ms\tremaining: 1.09s\n",
      "136:\tlearn: 0.2658580\ttotal: 172ms\tremaining: 1.08s\n",
      "137:\tlearn: 0.2645384\ttotal: 173ms\tremaining: 1.08s\n",
      "138:\tlearn: 0.2637555\ttotal: 174ms\tremaining: 1.07s\n",
      "139:\tlearn: 0.2628452\ttotal: 175ms\tremaining: 1.07s\n",
      "140:\tlearn: 0.2620331\ttotal: 175ms\tremaining: 1.07s\n",
      "141:\tlearn: 0.2611653\ttotal: 176ms\tremaining: 1.06s\n",
      "142:\tlearn: 0.2603231\ttotal: 177ms\tremaining: 1.06s\n",
      "143:\tlearn: 0.2592061\ttotal: 178ms\tremaining: 1.06s\n",
      "144:\tlearn: 0.2584917\ttotal: 179ms\tremaining: 1.05s\n",
      "145:\tlearn: 0.2575987\ttotal: 179ms\tremaining: 1.05s\n",
      "146:\tlearn: 0.2564985\ttotal: 180ms\tremaining: 1.05s\n",
      "147:\tlearn: 0.2557481\ttotal: 181ms\tremaining: 1.04s\n",
      "148:\tlearn: 0.2548521\ttotal: 182ms\tremaining: 1.04s\n",
      "149:\tlearn: 0.2541870\ttotal: 183ms\tremaining: 1.04s\n",
      "150:\tlearn: 0.2532735\ttotal: 184ms\tremaining: 1.03s\n",
      "151:\tlearn: 0.2525334\ttotal: 185ms\tremaining: 1.03s\n",
      "152:\tlearn: 0.2518266\ttotal: 185ms\tremaining: 1.03s\n",
      "153:\tlearn: 0.2511393\ttotal: 186ms\tremaining: 1.02s\n",
      "154:\tlearn: 0.2502256\ttotal: 187ms\tremaining: 1.02s\n",
      "155:\tlearn: 0.2492305\ttotal: 188ms\tremaining: 1.02s\n",
      "156:\tlearn: 0.2484007\ttotal: 189ms\tremaining: 1.01s\n",
      "157:\tlearn: 0.2475016\ttotal: 190ms\tremaining: 1.01s\n",
      "158:\tlearn: 0.2464634\ttotal: 190ms\tremaining: 1.01s\n",
      "159:\tlearn: 0.2457482\ttotal: 191ms\tremaining: 1s\n"
     ]
    },
    {
     "name": "stdout",
     "output_type": "stream",
     "text": [
      "160:\tlearn: 0.2447445\ttotal: 192ms\tremaining: 1s\n",
      "161:\tlearn: 0.2438989\ttotal: 193ms\tremaining: 999ms\n",
      "162:\tlearn: 0.2433823\ttotal: 194ms\tremaining: 996ms\n",
      "163:\tlearn: 0.2427227\ttotal: 195ms\tremaining: 993ms\n",
      "164:\tlearn: 0.2417420\ttotal: 196ms\tremaining: 990ms\n",
      "165:\tlearn: 0.2410413\ttotal: 196ms\tremaining: 987ms\n",
      "166:\tlearn: 0.2402658\ttotal: 197ms\tremaining: 984ms\n",
      "167:\tlearn: 0.2394483\ttotal: 198ms\tremaining: 981ms\n",
      "168:\tlearn: 0.2389661\ttotal: 199ms\tremaining: 978ms\n",
      "169:\tlearn: 0.2383336\ttotal: 200ms\tremaining: 975ms\n",
      "170:\tlearn: 0.2377685\ttotal: 201ms\tremaining: 972ms\n",
      "171:\tlearn: 0.2372751\ttotal: 201ms\tremaining: 969ms\n",
      "172:\tlearn: 0.2365193\ttotal: 202ms\tremaining: 967ms\n",
      "173:\tlearn: 0.2359215\ttotal: 203ms\tremaining: 964ms\n",
      "174:\tlearn: 0.2353791\ttotal: 204ms\tremaining: 961ms\n",
      "175:\tlearn: 0.2347076\ttotal: 205ms\tremaining: 957ms\n",
      "176:\tlearn: 0.2339047\ttotal: 205ms\tremaining: 955ms\n",
      "177:\tlearn: 0.2332551\ttotal: 206ms\tremaining: 952ms\n",
      "178:\tlearn: 0.2328269\ttotal: 207ms\tremaining: 950ms\n",
      "179:\tlearn: 0.2320850\ttotal: 208ms\tremaining: 948ms\n",
      "180:\tlearn: 0.2311585\ttotal: 209ms\tremaining: 945ms\n",
      "181:\tlearn: 0.2304124\ttotal: 210ms\tremaining: 943ms\n",
      "182:\tlearn: 0.2298832\ttotal: 210ms\tremaining: 940ms\n",
      "183:\tlearn: 0.2292109\ttotal: 211ms\tremaining: 937ms\n",
      "184:\tlearn: 0.2287101\ttotal: 212ms\tremaining: 935ms\n",
      "185:\tlearn: 0.2281661\ttotal: 213ms\tremaining: 933ms\n",
      "186:\tlearn: 0.2274898\ttotal: 214ms\tremaining: 931ms\n",
      "187:\tlearn: 0.2268195\ttotal: 215ms\tremaining: 928ms\n",
      "188:\tlearn: 0.2259860\ttotal: 216ms\tremaining: 927ms\n",
      "189:\tlearn: 0.2252851\ttotal: 217ms\tremaining: 925ms\n",
      "190:\tlearn: 0.2247739\ttotal: 218ms\tremaining: 922ms\n",
      "191:\tlearn: 0.2241191\ttotal: 219ms\tremaining: 920ms\n",
      "192:\tlearn: 0.2235315\ttotal: 219ms\tremaining: 918ms\n",
      "193:\tlearn: 0.2229100\ttotal: 220ms\tremaining: 915ms\n",
      "194:\tlearn: 0.2222131\ttotal: 221ms\tremaining: 913ms\n",
      "195:\tlearn: 0.2215548\ttotal: 222ms\tremaining: 911ms\n",
      "196:\tlearn: 0.2209589\ttotal: 223ms\tremaining: 908ms\n",
      "197:\tlearn: 0.2202814\ttotal: 224ms\tremaining: 905ms\n",
      "198:\tlearn: 0.2197922\ttotal: 224ms\tremaining: 903ms\n",
      "199:\tlearn: 0.2192793\ttotal: 225ms\tremaining: 901ms\n",
      "200:\tlearn: 0.2186426\ttotal: 226ms\tremaining: 899ms\n",
      "201:\tlearn: 0.2180439\ttotal: 227ms\tremaining: 897ms\n",
      "202:\tlearn: 0.2174273\ttotal: 228ms\tremaining: 894ms\n",
      "203:\tlearn: 0.2167086\ttotal: 229ms\tremaining: 892ms\n",
      "204:\tlearn: 0.2159829\ttotal: 229ms\tremaining: 889ms\n",
      "205:\tlearn: 0.2154759\ttotal: 230ms\tremaining: 887ms\n",
      "206:\tlearn: 0.2149084\ttotal: 231ms\tremaining: 884ms\n",
      "207:\tlearn: 0.2144640\ttotal: 232ms\tremaining: 882ms\n",
      "208:\tlearn: 0.2138507\ttotal: 232ms\tremaining: 880ms\n",
      "209:\tlearn: 0.2133454\ttotal: 233ms\tremaining: 878ms\n",
      "210:\tlearn: 0.2126498\ttotal: 234ms\tremaining: 876ms\n",
      "211:\tlearn: 0.2121485\ttotal: 235ms\tremaining: 873ms\n",
      "212:\tlearn: 0.2114377\ttotal: 236ms\tremaining: 872ms\n",
      "213:\tlearn: 0.2107781\ttotal: 237ms\tremaining: 869ms\n",
      "214:\tlearn: 0.2101671\ttotal: 237ms\tremaining: 867ms\n",
      "215:\tlearn: 0.2095957\ttotal: 239ms\tremaining: 867ms\n",
      "216:\tlearn: 0.2091954\ttotal: 240ms\tremaining: 865ms\n",
      "217:\tlearn: 0.2087111\ttotal: 240ms\tremaining: 862ms\n",
      "218:\tlearn: 0.2080732\ttotal: 241ms\tremaining: 860ms\n",
      "219:\tlearn: 0.2075357\ttotal: 242ms\tremaining: 858ms\n",
      "220:\tlearn: 0.2069970\ttotal: 243ms\tremaining: 856ms\n",
      "221:\tlearn: 0.2066673\ttotal: 244ms\tremaining: 854ms\n",
      "222:\tlearn: 0.2061492\ttotal: 244ms\tremaining: 852ms\n",
      "223:\tlearn: 0.2055389\ttotal: 245ms\tremaining: 850ms\n",
      "224:\tlearn: 0.2051507\ttotal: 246ms\tremaining: 848ms\n",
      "225:\tlearn: 0.2045643\ttotal: 247ms\tremaining: 848ms\n",
      "226:\tlearn: 0.2041321\ttotal: 248ms\tremaining: 845ms\n",
      "227:\tlearn: 0.2036219\ttotal: 249ms\tremaining: 843ms\n",
      "228:\tlearn: 0.2030480\ttotal: 250ms\tremaining: 841ms\n",
      "229:\tlearn: 0.2026123\ttotal: 251ms\tremaining: 839ms\n",
      "230:\tlearn: 0.2020244\ttotal: 251ms\tremaining: 837ms\n",
      "231:\tlearn: 0.2015154\ttotal: 252ms\tremaining: 835ms\n",
      "232:\tlearn: 0.2012285\ttotal: 253ms\tremaining: 833ms\n",
      "233:\tlearn: 0.2007744\ttotal: 254ms\tremaining: 831ms\n",
      "234:\tlearn: 0.2005188\ttotal: 255ms\tremaining: 830ms\n",
      "235:\tlearn: 0.2001596\ttotal: 256ms\tremaining: 827ms\n",
      "236:\tlearn: 0.1995383\ttotal: 256ms\tremaining: 825ms\n",
      "237:\tlearn: 0.1991693\ttotal: 257ms\tremaining: 824ms\n",
      "238:\tlearn: 0.1987888\ttotal: 258ms\tremaining: 822ms\n",
      "239:\tlearn: 0.1980296\ttotal: 259ms\tremaining: 820ms\n",
      "240:\tlearn: 0.1977038\ttotal: 260ms\tremaining: 819ms\n",
      "241:\tlearn: 0.1974797\ttotal: 261ms\tremaining: 817ms\n",
      "242:\tlearn: 0.1967884\ttotal: 262ms\tremaining: 815ms\n",
      "243:\tlearn: 0.1963301\ttotal: 263ms\tremaining: 814ms\n",
      "244:\tlearn: 0.1958579\ttotal: 264ms\tremaining: 812ms\n",
      "245:\tlearn: 0.1955105\ttotal: 264ms\tremaining: 810ms\n",
      "246:\tlearn: 0.1950801\ttotal: 265ms\tremaining: 809ms\n",
      "247:\tlearn: 0.1946183\ttotal: 266ms\tremaining: 807ms\n",
      "248:\tlearn: 0.1942071\ttotal: 267ms\tremaining: 805ms\n",
      "249:\tlearn: 0.1937924\ttotal: 268ms\tremaining: 803ms\n",
      "250:\tlearn: 0.1933597\ttotal: 269ms\tremaining: 802ms\n",
      "251:\tlearn: 0.1928026\ttotal: 269ms\tremaining: 800ms\n",
      "252:\tlearn: 0.1924194\ttotal: 270ms\tremaining: 798ms\n",
      "253:\tlearn: 0.1919861\ttotal: 271ms\tremaining: 796ms\n",
      "254:\tlearn: 0.1914801\ttotal: 272ms\tremaining: 794ms\n",
      "255:\tlearn: 0.1909689\ttotal: 273ms\tremaining: 792ms\n",
      "256:\tlearn: 0.1905886\ttotal: 273ms\tremaining: 791ms\n",
      "257:\tlearn: 0.1903126\ttotal: 274ms\tremaining: 789ms\n",
      "258:\tlearn: 0.1899431\ttotal: 275ms\tremaining: 787ms\n",
      "259:\tlearn: 0.1895193\ttotal: 276ms\tremaining: 786ms\n",
      "260:\tlearn: 0.1890813\ttotal: 277ms\tremaining: 785ms\n",
      "261:\tlearn: 0.1888623\ttotal: 278ms\tremaining: 783ms\n",
      "262:\tlearn: 0.1882147\ttotal: 279ms\tremaining: 781ms\n",
      "263:\tlearn: 0.1878163\ttotal: 280ms\tremaining: 779ms\n",
      "264:\tlearn: 0.1872924\ttotal: 280ms\tremaining: 778ms\n",
      "265:\tlearn: 0.1867654\ttotal: 281ms\tremaining: 776ms\n",
      "266:\tlearn: 0.1863549\ttotal: 282ms\tremaining: 775ms\n",
      "267:\tlearn: 0.1860403\ttotal: 283ms\tremaining: 773ms\n",
      "268:\tlearn: 0.1857733\ttotal: 284ms\tremaining: 771ms\n",
      "269:\tlearn: 0.1852866\ttotal: 285ms\tremaining: 770ms\n",
      "270:\tlearn: 0.1848628\ttotal: 286ms\tremaining: 768ms\n",
      "271:\tlearn: 0.1846669\ttotal: 286ms\tremaining: 766ms\n",
      "272:\tlearn: 0.1844327\ttotal: 287ms\tremaining: 765ms\n",
      "273:\tlearn: 0.1841258\ttotal: 288ms\tremaining: 763ms\n",
      "274:\tlearn: 0.1837519\ttotal: 289ms\tremaining: 761ms\n",
      "275:\tlearn: 0.1832709\ttotal: 290ms\tremaining: 760ms\n",
      "276:\tlearn: 0.1830846\ttotal: 291ms\tremaining: 758ms\n",
      "277:\tlearn: 0.1825301\ttotal: 291ms\tremaining: 757ms\n",
      "278:\tlearn: 0.1821886\ttotal: 292ms\tremaining: 755ms\n",
      "279:\tlearn: 0.1818039\ttotal: 293ms\tremaining: 754ms\n",
      "280:\tlearn: 0.1814957\ttotal: 294ms\tremaining: 753ms\n",
      "281:\tlearn: 0.1809363\ttotal: 295ms\tremaining: 751ms\n",
      "282:\tlearn: 0.1803018\ttotal: 296ms\tremaining: 750ms\n",
      "283:\tlearn: 0.1799867\ttotal: 297ms\tremaining: 748ms\n",
      "284:\tlearn: 0.1795853\ttotal: 298ms\tremaining: 747ms\n"
     ]
    },
    {
     "name": "stdout",
     "output_type": "stream",
     "text": [
      "285:\tlearn: 0.1793235\ttotal: 299ms\tremaining: 746ms\n",
      "286:\tlearn: 0.1787793\ttotal: 300ms\tremaining: 745ms\n",
      "287:\tlearn: 0.1782319\ttotal: 301ms\tremaining: 744ms\n",
      "288:\tlearn: 0.1777573\ttotal: 302ms\tremaining: 742ms\n",
      "289:\tlearn: 0.1773931\ttotal: 302ms\tremaining: 741ms\n",
      "290:\tlearn: 0.1770607\ttotal: 303ms\tremaining: 739ms\n",
      "291:\tlearn: 0.1768565\ttotal: 304ms\tremaining: 738ms\n",
      "292:\tlearn: 0.1765289\ttotal: 305ms\tremaining: 736ms\n",
      "293:\tlearn: 0.1760707\ttotal: 306ms\tremaining: 735ms\n",
      "294:\tlearn: 0.1756062\ttotal: 307ms\tremaining: 733ms\n",
      "295:\tlearn: 0.1750899\ttotal: 308ms\tremaining: 731ms\n",
      "296:\tlearn: 0.1746921\ttotal: 308ms\tremaining: 730ms\n",
      "297:\tlearn: 0.1743107\ttotal: 309ms\tremaining: 728ms\n",
      "298:\tlearn: 0.1737781\ttotal: 310ms\tremaining: 726ms\n",
      "299:\tlearn: 0.1733777\ttotal: 311ms\tremaining: 725ms\n",
      "300:\tlearn: 0.1731134\ttotal: 311ms\tremaining: 723ms\n",
      "301:\tlearn: 0.1728968\ttotal: 312ms\tremaining: 722ms\n",
      "302:\tlearn: 0.1723880\ttotal: 313ms\tremaining: 720ms\n",
      "303:\tlearn: 0.1719185\ttotal: 314ms\tremaining: 719ms\n",
      "304:\tlearn: 0.1714730\ttotal: 315ms\tremaining: 717ms\n",
      "305:\tlearn: 0.1711898\ttotal: 316ms\tremaining: 716ms\n",
      "306:\tlearn: 0.1710404\ttotal: 317ms\tremaining: 715ms\n",
      "307:\tlearn: 0.1705857\ttotal: 317ms\tremaining: 713ms\n",
      "308:\tlearn: 0.1703249\ttotal: 318ms\tremaining: 712ms\n",
      "309:\tlearn: 0.1698455\ttotal: 319ms\tremaining: 710ms\n",
      "310:\tlearn: 0.1696223\ttotal: 320ms\tremaining: 709ms\n",
      "311:\tlearn: 0.1694773\ttotal: 321ms\tremaining: 707ms\n",
      "312:\tlearn: 0.1690373\ttotal: 322ms\tremaining: 706ms\n",
      "313:\tlearn: 0.1687741\ttotal: 322ms\tremaining: 704ms\n",
      "314:\tlearn: 0.1685573\ttotal: 323ms\tremaining: 703ms\n",
      "315:\tlearn: 0.1681861\ttotal: 324ms\tremaining: 702ms\n",
      "316:\tlearn: 0.1677761\ttotal: 325ms\tremaining: 700ms\n",
      "317:\tlearn: 0.1673890\ttotal: 326ms\tremaining: 699ms\n",
      "318:\tlearn: 0.1670201\ttotal: 327ms\tremaining: 697ms\n",
      "319:\tlearn: 0.1668725\ttotal: 327ms\tremaining: 696ms\n",
      "320:\tlearn: 0.1665241\ttotal: 328ms\tremaining: 694ms\n",
      "321:\tlearn: 0.1663021\ttotal: 329ms\tremaining: 693ms\n",
      "322:\tlearn: 0.1660333\ttotal: 330ms\tremaining: 691ms\n",
      "323:\tlearn: 0.1655430\ttotal: 331ms\tremaining: 690ms\n",
      "324:\tlearn: 0.1651806\ttotal: 331ms\tremaining: 688ms\n",
      "325:\tlearn: 0.1647500\ttotal: 332ms\tremaining: 687ms\n",
      "326:\tlearn: 0.1644538\ttotal: 333ms\tremaining: 686ms\n",
      "327:\tlearn: 0.1639385\ttotal: 334ms\tremaining: 684ms\n",
      "328:\tlearn: 0.1637135\ttotal: 335ms\tremaining: 683ms\n",
      "329:\tlearn: 0.1635745\ttotal: 336ms\tremaining: 681ms\n",
      "330:\tlearn: 0.1631698\ttotal: 336ms\tremaining: 680ms\n",
      "331:\tlearn: 0.1627840\ttotal: 337ms\tremaining: 679ms\n",
      "332:\tlearn: 0.1625263\ttotal: 338ms\tremaining: 677ms\n",
      "333:\tlearn: 0.1621346\ttotal: 339ms\tremaining: 676ms\n",
      "334:\tlearn: 0.1617105\ttotal: 340ms\tremaining: 675ms\n",
      "335:\tlearn: 0.1613551\ttotal: 341ms\tremaining: 673ms\n",
      "336:\tlearn: 0.1609626\ttotal: 341ms\tremaining: 672ms\n",
      "337:\tlearn: 0.1607157\ttotal: 342ms\tremaining: 670ms\n",
      "338:\tlearn: 0.1603381\ttotal: 343ms\tremaining: 669ms\n",
      "339:\tlearn: 0.1600657\ttotal: 344ms\tremaining: 667ms\n",
      "340:\tlearn: 0.1596494\ttotal: 345ms\tremaining: 666ms\n",
      "341:\tlearn: 0.1594193\ttotal: 345ms\tremaining: 664ms\n",
      "342:\tlearn: 0.1590543\ttotal: 346ms\tremaining: 663ms\n",
      "343:\tlearn: 0.1587741\ttotal: 347ms\tremaining: 662ms\n",
      "344:\tlearn: 0.1584895\ttotal: 348ms\tremaining: 660ms\n",
      "345:\tlearn: 0.1583698\ttotal: 349ms\tremaining: 659ms\n",
      "346:\tlearn: 0.1580690\ttotal: 350ms\tremaining: 658ms\n",
      "347:\tlearn: 0.1577525\ttotal: 350ms\tremaining: 656ms\n",
      "348:\tlearn: 0.1576283\ttotal: 351ms\tremaining: 655ms\n",
      "349:\tlearn: 0.1575160\ttotal: 352ms\tremaining: 654ms\n",
      "350:\tlearn: 0.1574065\ttotal: 353ms\tremaining: 652ms\n",
      "351:\tlearn: 0.1568840\ttotal: 354ms\tremaining: 651ms\n",
      "352:\tlearn: 0.1563016\ttotal: 354ms\tremaining: 649ms\n",
      "353:\tlearn: 0.1559681\ttotal: 355ms\tremaining: 648ms\n",
      "354:\tlearn: 0.1555624\ttotal: 356ms\tremaining: 647ms\n",
      "355:\tlearn: 0.1551298\ttotal: 357ms\tremaining: 645ms\n",
      "356:\tlearn: 0.1549878\ttotal: 357ms\tremaining: 644ms\n",
      "357:\tlearn: 0.1545950\ttotal: 358ms\tremaining: 642ms\n",
      "358:\tlearn: 0.1544902\ttotal: 359ms\tremaining: 641ms\n",
      "359:\tlearn: 0.1541638\ttotal: 360ms\tremaining: 640ms\n",
      "360:\tlearn: 0.1537151\ttotal: 361ms\tremaining: 638ms\n",
      "361:\tlearn: 0.1536184\ttotal: 361ms\tremaining: 637ms\n",
      "362:\tlearn: 0.1532737\ttotal: 362ms\tremaining: 636ms\n",
      "363:\tlearn: 0.1531363\ttotal: 363ms\tremaining: 634ms\n",
      "364:\tlearn: 0.1527767\ttotal: 364ms\tremaining: 633ms\n",
      "365:\tlearn: 0.1524653\ttotal: 365ms\tremaining: 632ms\n",
      "366:\tlearn: 0.1522216\ttotal: 366ms\tremaining: 630ms\n",
      "367:\tlearn: 0.1519055\ttotal: 366ms\tremaining: 629ms\n",
      "368:\tlearn: 0.1515569\ttotal: 367ms\tremaining: 628ms\n",
      "369:\tlearn: 0.1511428\ttotal: 368ms\tremaining: 627ms\n",
      "370:\tlearn: 0.1509230\ttotal: 369ms\tremaining: 625ms\n",
      "371:\tlearn: 0.1507768\ttotal: 370ms\tremaining: 624ms\n",
      "372:\tlearn: 0.1504236\ttotal: 370ms\tremaining: 623ms\n",
      "373:\tlearn: 0.1499946\ttotal: 371ms\tremaining: 621ms\n",
      "374:\tlearn: 0.1495652\ttotal: 372ms\tremaining: 620ms\n",
      "375:\tlearn: 0.1493003\ttotal: 373ms\tremaining: 619ms\n",
      "376:\tlearn: 0.1491174\ttotal: 374ms\tremaining: 617ms\n",
      "377:\tlearn: 0.1489947\ttotal: 374ms\tremaining: 616ms\n",
      "378:\tlearn: 0.1488575\ttotal: 375ms\tremaining: 615ms\n",
      "379:\tlearn: 0.1486459\ttotal: 376ms\tremaining: 613ms\n",
      "380:\tlearn: 0.1485609\ttotal: 377ms\tremaining: 612ms\n",
      "381:\tlearn: 0.1482206\ttotal: 377ms\tremaining: 611ms\n",
      "382:\tlearn: 0.1481439\ttotal: 378ms\tremaining: 610ms\n",
      "383:\tlearn: 0.1479546\ttotal: 379ms\tremaining: 608ms\n",
      "384:\tlearn: 0.1478174\ttotal: 380ms\tremaining: 607ms\n",
      "385:\tlearn: 0.1475367\ttotal: 381ms\tremaining: 606ms\n"
     ]
    },
    {
     "name": "stdout",
     "output_type": "stream",
     "text": [
      "386:\tlearn: 0.1473225\ttotal: 382ms\tremaining: 605ms\n",
      "387:\tlearn: 0.1470432\ttotal: 383ms\tremaining: 604ms\n",
      "388:\tlearn: 0.1467592\ttotal: 384ms\tremaining: 603ms\n",
      "389:\tlearn: 0.1465451\ttotal: 385ms\tremaining: 602ms\n",
      "390:\tlearn: 0.1462729\ttotal: 385ms\tremaining: 600ms\n",
      "391:\tlearn: 0.1459915\ttotal: 386ms\tremaining: 599ms\n",
      "392:\tlearn: 0.1459135\ttotal: 387ms\tremaining: 598ms\n",
      "393:\tlearn: 0.1455780\ttotal: 388ms\tremaining: 596ms\n",
      "394:\tlearn: 0.1455107\ttotal: 389ms\tremaining: 595ms\n",
      "395:\tlearn: 0.1452767\ttotal: 390ms\tremaining: 594ms\n",
      "396:\tlearn: 0.1451765\ttotal: 390ms\tremaining: 593ms\n",
      "397:\tlearn: 0.1448766\ttotal: 391ms\tremaining: 592ms\n",
      "398:\tlearn: 0.1445410\ttotal: 392ms\tremaining: 590ms\n",
      "399:\tlearn: 0.1442295\ttotal: 393ms\tremaining: 589ms\n",
      "400:\tlearn: 0.1438872\ttotal: 394ms\tremaining: 588ms\n",
      "401:\tlearn: 0.1436799\ttotal: 394ms\tremaining: 587ms\n",
      "402:\tlearn: 0.1435874\ttotal: 395ms\tremaining: 585ms\n",
      "403:\tlearn: 0.1434544\ttotal: 396ms\tremaining: 584ms\n",
      "404:\tlearn: 0.1431633\ttotal: 397ms\tremaining: 583ms\n",
      "405:\tlearn: 0.1428385\ttotal: 398ms\tremaining: 582ms\n",
      "406:\tlearn: 0.1424801\ttotal: 399ms\tremaining: 581ms\n",
      "407:\tlearn: 0.1420944\ttotal: 399ms\tremaining: 580ms\n",
      "408:\tlearn: 0.1417855\ttotal: 400ms\tremaining: 579ms\n",
      "409:\tlearn: 0.1413155\ttotal: 401ms\tremaining: 577ms\n",
      "410:\tlearn: 0.1412335\ttotal: 402ms\tremaining: 576ms\n",
      "411:\tlearn: 0.1408258\ttotal: 403ms\tremaining: 575ms\n",
      "412:\tlearn: 0.1405373\ttotal: 404ms\tremaining: 574ms\n",
      "413:\tlearn: 0.1403299\ttotal: 404ms\tremaining: 572ms\n",
      "414:\tlearn: 0.1402656\ttotal: 405ms\tremaining: 571ms\n",
      "415:\tlearn: 0.1399157\ttotal: 406ms\tremaining: 570ms\n",
      "416:\tlearn: 0.1395460\ttotal: 407ms\tremaining: 569ms\n",
      "417:\tlearn: 0.1392521\ttotal: 407ms\tremaining: 567ms\n",
      "418:\tlearn: 0.1389626\ttotal: 408ms\tremaining: 566ms\n",
      "419:\tlearn: 0.1388622\ttotal: 409ms\tremaining: 565ms\n",
      "420:\tlearn: 0.1385555\ttotal: 410ms\tremaining: 564ms\n",
      "421:\tlearn: 0.1383005\ttotal: 411ms\tremaining: 563ms\n",
      "422:\tlearn: 0.1379365\ttotal: 412ms\tremaining: 561ms\n",
      "423:\tlearn: 0.1375531\ttotal: 412ms\tremaining: 560ms\n",
      "424:\tlearn: 0.1372016\ttotal: 413ms\tremaining: 559ms\n",
      "425:\tlearn: 0.1369971\ttotal: 414ms\tremaining: 558ms\n",
      "426:\tlearn: 0.1366533\ttotal: 415ms\tremaining: 557ms\n",
      "427:\tlearn: 0.1363345\ttotal: 416ms\tremaining: 555ms\n",
      "428:\tlearn: 0.1362582\ttotal: 416ms\tremaining: 554ms\n",
      "429:\tlearn: 0.1360541\ttotal: 417ms\tremaining: 553ms\n",
      "430:\tlearn: 0.1358936\ttotal: 418ms\tremaining: 552ms\n",
      "431:\tlearn: 0.1357916\ttotal: 419ms\tremaining: 550ms\n",
      "432:\tlearn: 0.1356957\ttotal: 419ms\tremaining: 549ms\n",
      "433:\tlearn: 0.1353377\ttotal: 420ms\tremaining: 548ms\n",
      "434:\tlearn: 0.1349956\ttotal: 421ms\tremaining: 547ms\n",
      "435:\tlearn: 0.1347263\ttotal: 422ms\tremaining: 546ms\n",
      "436:\tlearn: 0.1344319\ttotal: 423ms\tremaining: 545ms\n",
      "437:\tlearn: 0.1340875\ttotal: 424ms\tremaining: 543ms\n",
      "438:\tlearn: 0.1340222\ttotal: 424ms\tremaining: 542ms\n",
      "439:\tlearn: 0.1336132\ttotal: 425ms\tremaining: 541ms\n",
      "440:\tlearn: 0.1333392\ttotal: 426ms\tremaining: 540ms\n",
      "441:\tlearn: 0.1332702\ttotal: 427ms\tremaining: 539ms\n",
      "442:\tlearn: 0.1329809\ttotal: 427ms\tremaining: 538ms\n",
      "443:\tlearn: 0.1329112\ttotal: 428ms\tremaining: 536ms\n",
      "444:\tlearn: 0.1327773\ttotal: 429ms\tremaining: 535ms\n",
      "445:\tlearn: 0.1325426\ttotal: 430ms\tremaining: 534ms\n",
      "446:\tlearn: 0.1322330\ttotal: 431ms\tremaining: 533ms\n",
      "447:\tlearn: 0.1320869\ttotal: 432ms\tremaining: 532ms\n",
      "448:\tlearn: 0.1317821\ttotal: 433ms\tremaining: 531ms\n",
      "449:\tlearn: 0.1314430\ttotal: 433ms\tremaining: 530ms\n",
      "450:\tlearn: 0.1313852\ttotal: 434ms\tremaining: 529ms\n",
      "451:\tlearn: 0.1311734\ttotal: 435ms\tremaining: 527ms\n",
      "452:\tlearn: 0.1310047\ttotal: 436ms\tremaining: 526ms\n",
      "453:\tlearn: 0.1307468\ttotal: 437ms\tremaining: 525ms\n",
      "454:\tlearn: 0.1304006\ttotal: 437ms\tremaining: 524ms\n",
      "455:\tlearn: 0.1303020\ttotal: 438ms\tremaining: 523ms\n",
      "456:\tlearn: 0.1300867\ttotal: 439ms\tremaining: 522ms\n",
      "457:\tlearn: 0.1298349\ttotal: 440ms\tremaining: 521ms\n",
      "458:\tlearn: 0.1295773\ttotal: 441ms\tremaining: 520ms\n",
      "459:\tlearn: 0.1293134\ttotal: 442ms\tremaining: 519ms\n",
      "460:\tlearn: 0.1290205\ttotal: 442ms\tremaining: 517ms\n",
      "461:\tlearn: 0.1286760\ttotal: 443ms\tremaining: 516ms\n",
      "462:\tlearn: 0.1283083\ttotal: 444ms\tremaining: 515ms\n",
      "463:\tlearn: 0.1280756\ttotal: 445ms\tremaining: 514ms\n",
      "464:\tlearn: 0.1277398\ttotal: 446ms\tremaining: 513ms\n",
      "465:\tlearn: 0.1274643\ttotal: 447ms\tremaining: 512ms\n",
      "466:\tlearn: 0.1274212\ttotal: 447ms\tremaining: 511ms\n",
      "467:\tlearn: 0.1270228\ttotal: 448ms\tremaining: 510ms\n",
      "468:\tlearn: 0.1266598\ttotal: 449ms\tremaining: 509ms\n",
      "469:\tlearn: 0.1264122\ttotal: 450ms\tremaining: 507ms\n",
      "470:\tlearn: 0.1263525\ttotal: 451ms\tremaining: 506ms\n",
      "471:\tlearn: 0.1261262\ttotal: 452ms\tremaining: 505ms\n",
      "472:\tlearn: 0.1257981\ttotal: 452ms\tremaining: 504ms\n",
      "473:\tlearn: 0.1257446\ttotal: 453ms\tremaining: 503ms\n",
      "474:\tlearn: 0.1256841\ttotal: 454ms\tremaining: 502ms\n",
      "475:\tlearn: 0.1254822\ttotal: 455ms\tremaining: 501ms\n",
      "476:\tlearn: 0.1251477\ttotal: 456ms\tremaining: 499ms\n",
      "477:\tlearn: 0.1249687\ttotal: 456ms\tremaining: 498ms\n",
      "478:\tlearn: 0.1247386\ttotal: 457ms\tremaining: 497ms\n",
      "479:\tlearn: 0.1244922\ttotal: 458ms\tremaining: 496ms\n",
      "480:\tlearn: 0.1244345\ttotal: 459ms\tremaining: 495ms\n",
      "481:\tlearn: 0.1242329\ttotal: 460ms\tremaining: 494ms\n",
      "482:\tlearn: 0.1240416\ttotal: 461ms\tremaining: 493ms\n",
      "483:\tlearn: 0.1238980\ttotal: 462ms\tremaining: 492ms\n",
      "484:\tlearn: 0.1238160\ttotal: 462ms\tremaining: 491ms\n",
      "485:\tlearn: 0.1236806\ttotal: 463ms\tremaining: 490ms\n",
      "486:\tlearn: 0.1233809\ttotal: 464ms\tremaining: 489ms\n",
      "487:\tlearn: 0.1233307\ttotal: 465ms\tremaining: 488ms\n",
      "488:\tlearn: 0.1230229\ttotal: 466ms\tremaining: 487ms\n",
      "489:\tlearn: 0.1227618\ttotal: 467ms\tremaining: 486ms\n",
      "490:\tlearn: 0.1224608\ttotal: 468ms\tremaining: 485ms\n",
      "491:\tlearn: 0.1221187\ttotal: 468ms\tremaining: 484ms\n",
      "492:\tlearn: 0.1220729\ttotal: 469ms\tremaining: 483ms\n",
      "493:\tlearn: 0.1220173\ttotal: 470ms\tremaining: 481ms\n",
      "494:\tlearn: 0.1218222\ttotal: 471ms\tremaining: 480ms\n",
      "495:\tlearn: 0.1215709\ttotal: 472ms\tremaining: 479ms\n",
      "496:\tlearn: 0.1212985\ttotal: 473ms\tremaining: 479ms\n",
      "497:\tlearn: 0.1211417\ttotal: 474ms\tremaining: 478ms\n",
      "498:\tlearn: 0.1209471\ttotal: 475ms\tremaining: 477ms\n",
      "499:\tlearn: 0.1206661\ttotal: 476ms\tremaining: 476ms\n",
      "500:\tlearn: 0.1206067\ttotal: 477ms\tremaining: 475ms\n",
      "501:\tlearn: 0.1205643\ttotal: 477ms\tremaining: 474ms\n",
      "502:\tlearn: 0.1203921\ttotal: 479ms\tremaining: 473ms\n",
      "503:\tlearn: 0.1202939\ttotal: 479ms\tremaining: 472ms\n",
      "504:\tlearn: 0.1199859\ttotal: 480ms\tremaining: 471ms\n",
      "505:\tlearn: 0.1197583\ttotal: 481ms\tremaining: 470ms\n",
      "506:\tlearn: 0.1197143\ttotal: 482ms\tremaining: 469ms\n",
      "507:\tlearn: 0.1195491\ttotal: 483ms\tremaining: 468ms\n",
      "508:\tlearn: 0.1192849\ttotal: 483ms\tremaining: 466ms\n",
      "509:\tlearn: 0.1190627\ttotal: 484ms\tremaining: 465ms\n",
      "510:\tlearn: 0.1190143\ttotal: 485ms\tremaining: 464ms\n",
      "511:\tlearn: 0.1188008\ttotal: 486ms\tremaining: 463ms\n",
      "512:\tlearn: 0.1186185\ttotal: 487ms\tremaining: 462ms\n",
      "513:\tlearn: 0.1184898\ttotal: 487ms\tremaining: 461ms\n",
      "514:\tlearn: 0.1183598\ttotal: 488ms\tremaining: 460ms\n"
     ]
    },
    {
     "name": "stdout",
     "output_type": "stream",
     "text": [
      "515:\tlearn: 0.1180949\ttotal: 489ms\tremaining: 459ms\n",
      "516:\tlearn: 0.1180570\ttotal: 490ms\tremaining: 458ms\n",
      "517:\tlearn: 0.1177405\ttotal: 491ms\tremaining: 457ms\n",
      "518:\tlearn: 0.1175613\ttotal: 492ms\tremaining: 456ms\n",
      "519:\tlearn: 0.1174537\ttotal: 493ms\tremaining: 455ms\n",
      "520:\tlearn: 0.1172852\ttotal: 493ms\tremaining: 454ms\n",
      "521:\tlearn: 0.1169751\ttotal: 494ms\tremaining: 452ms\n",
      "522:\tlearn: 0.1168361\ttotal: 495ms\tremaining: 451ms\n",
      "523:\tlearn: 0.1167951\ttotal: 496ms\tremaining: 450ms\n",
      "524:\tlearn: 0.1165946\ttotal: 497ms\tremaining: 449ms\n",
      "525:\tlearn: 0.1162851\ttotal: 497ms\tremaining: 448ms\n",
      "526:\tlearn: 0.1162530\ttotal: 498ms\tremaining: 447ms\n",
      "527:\tlearn: 0.1159725\ttotal: 499ms\tremaining: 446ms\n",
      "528:\tlearn: 0.1156986\ttotal: 500ms\tremaining: 445ms\n",
      "529:\tlearn: 0.1154983\ttotal: 501ms\tremaining: 444ms\n",
      "530:\tlearn: 0.1152079\ttotal: 502ms\tremaining: 443ms\n",
      "531:\tlearn: 0.1150586\ttotal: 502ms\tremaining: 442ms\n",
      "532:\tlearn: 0.1149083\ttotal: 503ms\tremaining: 441ms\n",
      "533:\tlearn: 0.1146539\ttotal: 504ms\tremaining: 440ms\n",
      "534:\tlearn: 0.1144558\ttotal: 505ms\tremaining: 439ms\n",
      "535:\tlearn: 0.1142420\ttotal: 506ms\tremaining: 438ms\n",
      "536:\tlearn: 0.1139599\ttotal: 506ms\tremaining: 437ms\n",
      "537:\tlearn: 0.1139273\ttotal: 507ms\tremaining: 436ms\n",
      "538:\tlearn: 0.1136727\ttotal: 508ms\tremaining: 435ms\n",
      "539:\tlearn: 0.1134153\ttotal: 509ms\tremaining: 434ms\n",
      "540:\tlearn: 0.1133519\ttotal: 510ms\tremaining: 432ms\n",
      "541:\tlearn: 0.1131791\ttotal: 511ms\tremaining: 431ms\n",
      "542:\tlearn: 0.1129111\ttotal: 511ms\tremaining: 430ms\n",
      "543:\tlearn: 0.1127563\ttotal: 512ms\tremaining: 429ms\n",
      "544:\tlearn: 0.1127231\ttotal: 513ms\tremaining: 428ms\n",
      "545:\tlearn: 0.1126687\ttotal: 514ms\tremaining: 427ms\n",
      "546:\tlearn: 0.1124460\ttotal: 515ms\tremaining: 426ms\n",
      "547:\tlearn: 0.1123015\ttotal: 516ms\tremaining: 425ms\n",
      "548:\tlearn: 0.1122765\ttotal: 517ms\tremaining: 424ms\n",
      "549:\tlearn: 0.1120679\ttotal: 517ms\tremaining: 423ms\n",
      "550:\tlearn: 0.1118445\ttotal: 518ms\tremaining: 422ms\n",
      "551:\tlearn: 0.1115863\ttotal: 519ms\tremaining: 421ms\n",
      "552:\tlearn: 0.1113848\ttotal: 520ms\tremaining: 420ms\n",
      "553:\tlearn: 0.1111147\ttotal: 521ms\tremaining: 419ms\n",
      "554:\tlearn: 0.1109217\ttotal: 522ms\tremaining: 418ms\n",
      "555:\tlearn: 0.1106936\ttotal: 522ms\tremaining: 417ms\n",
      "556:\tlearn: 0.1104906\ttotal: 523ms\tremaining: 416ms\n",
      "557:\tlearn: 0.1101888\ttotal: 524ms\tremaining: 415ms\n",
      "558:\tlearn: 0.1100218\ttotal: 525ms\tremaining: 414ms\n",
      "559:\tlearn: 0.1098399\ttotal: 526ms\tremaining: 413ms\n",
      "560:\tlearn: 0.1096156\ttotal: 527ms\tremaining: 412ms\n",
      "561:\tlearn: 0.1094358\ttotal: 528ms\tremaining: 411ms\n",
      "562:\tlearn: 0.1092501\ttotal: 528ms\tremaining: 410ms\n",
      "563:\tlearn: 0.1089880\ttotal: 529ms\tremaining: 409ms\n",
      "564:\tlearn: 0.1086821\ttotal: 530ms\tremaining: 408ms\n",
      "565:\tlearn: 0.1085138\ttotal: 531ms\tremaining: 407ms\n",
      "566:\tlearn: 0.1082871\ttotal: 531ms\tremaining: 406ms\n",
      "567:\tlearn: 0.1081626\ttotal: 532ms\tremaining: 405ms\n",
      "568:\tlearn: 0.1079008\ttotal: 533ms\tremaining: 404ms\n",
      "569:\tlearn: 0.1077977\ttotal: 534ms\tremaining: 403ms\n",
      "570:\tlearn: 0.1076656\ttotal: 535ms\tremaining: 402ms\n",
      "571:\tlearn: 0.1075185\ttotal: 536ms\tremaining: 401ms\n",
      "572:\tlearn: 0.1072955\ttotal: 536ms\tremaining: 400ms\n",
      "573:\tlearn: 0.1070595\ttotal: 537ms\tremaining: 399ms\n",
      "574:\tlearn: 0.1068608\ttotal: 538ms\tremaining: 398ms\n",
      "575:\tlearn: 0.1068258\ttotal: 539ms\tremaining: 397ms\n",
      "576:\tlearn: 0.1066010\ttotal: 539ms\tremaining: 395ms\n",
      "577:\tlearn: 0.1064301\ttotal: 540ms\tremaining: 394ms\n",
      "578:\tlearn: 0.1063433\ttotal: 541ms\tremaining: 393ms\n",
      "579:\tlearn: 0.1062012\ttotal: 542ms\tremaining: 392ms\n",
      "580:\tlearn: 0.1060280\ttotal: 543ms\tremaining: 391ms\n",
      "581:\tlearn: 0.1060119\ttotal: 544ms\tremaining: 390ms\n",
      "582:\tlearn: 0.1058104\ttotal: 545ms\tremaining: 389ms\n",
      "583:\tlearn: 0.1055307\ttotal: 546ms\tremaining: 389ms\n",
      "584:\tlearn: 0.1053258\ttotal: 547ms\tremaining: 388ms\n",
      "585:\tlearn: 0.1051281\ttotal: 547ms\tremaining: 387ms\n",
      "586:\tlearn: 0.1050473\ttotal: 548ms\tremaining: 386ms\n",
      "587:\tlearn: 0.1047876\ttotal: 549ms\tremaining: 385ms\n",
      "588:\tlearn: 0.1045586\ttotal: 550ms\tremaining: 384ms\n",
      "589:\tlearn: 0.1043557\ttotal: 551ms\tremaining: 383ms\n",
      "590:\tlearn: 0.1041885\ttotal: 551ms\tremaining: 382ms\n",
      "591:\tlearn: 0.1041537\ttotal: 552ms\tremaining: 381ms\n",
      "592:\tlearn: 0.1040016\ttotal: 553ms\tremaining: 380ms\n",
      "593:\tlearn: 0.1038124\ttotal: 554ms\tremaining: 379ms\n",
      "594:\tlearn: 0.1036531\ttotal: 555ms\tremaining: 378ms\n",
      "595:\tlearn: 0.1035587\ttotal: 556ms\tremaining: 377ms\n",
      "596:\tlearn: 0.1034309\ttotal: 556ms\tremaining: 376ms\n",
      "597:\tlearn: 0.1032366\ttotal: 557ms\tremaining: 375ms\n",
      "598:\tlearn: 0.1030917\ttotal: 558ms\tremaining: 374ms\n",
      "599:\tlearn: 0.1029033\ttotal: 559ms\tremaining: 373ms\n",
      "600:\tlearn: 0.1027118\ttotal: 560ms\tremaining: 372ms\n",
      "601:\tlearn: 0.1025347\ttotal: 560ms\tremaining: 371ms\n",
      "602:\tlearn: 0.1024263\ttotal: 561ms\tremaining: 370ms\n",
      "603:\tlearn: 0.1022588\ttotal: 562ms\tremaining: 369ms\n",
      "604:\tlearn: 0.1021877\ttotal: 563ms\tremaining: 368ms\n",
      "605:\tlearn: 0.1019564\ttotal: 564ms\tremaining: 367ms\n",
      "606:\tlearn: 0.1017305\ttotal: 564ms\tremaining: 365ms\n",
      "607:\tlearn: 0.1017136\ttotal: 565ms\tremaining: 364ms\n",
      "608:\tlearn: 0.1014215\ttotal: 566ms\tremaining: 363ms\n",
      "609:\tlearn: 0.1012156\ttotal: 567ms\tremaining: 362ms\n",
      "610:\tlearn: 0.1010619\ttotal: 568ms\tremaining: 362ms\n",
      "611:\tlearn: 0.1009120\ttotal: 569ms\tremaining: 360ms\n",
      "612:\tlearn: 0.1008819\ttotal: 569ms\tremaining: 359ms\n",
      "613:\tlearn: 0.1006911\ttotal: 570ms\tremaining: 359ms\n",
      "614:\tlearn: 0.1005364\ttotal: 571ms\tremaining: 358ms\n",
      "615:\tlearn: 0.1003723\ttotal: 572ms\tremaining: 356ms\n",
      "616:\tlearn: 0.1002014\ttotal: 573ms\tremaining: 355ms\n"
     ]
    },
    {
     "name": "stdout",
     "output_type": "stream",
     "text": [
      "617:\tlearn: 0.1001857\ttotal: 573ms\tremaining: 354ms\n",
      "618:\tlearn: 0.1000836\ttotal: 574ms\tremaining: 353ms\n",
      "619:\tlearn: 0.0999583\ttotal: 575ms\tremaining: 352ms\n",
      "620:\tlearn: 0.0997687\ttotal: 576ms\tremaining: 351ms\n",
      "621:\tlearn: 0.0996832\ttotal: 577ms\tremaining: 350ms\n",
      "622:\tlearn: 0.0995031\ttotal: 577ms\tremaining: 349ms\n",
      "623:\tlearn: 0.0993933\ttotal: 578ms\tremaining: 348ms\n",
      "624:\tlearn: 0.0991951\ttotal: 579ms\tremaining: 347ms\n",
      "625:\tlearn: 0.0991082\ttotal: 580ms\tremaining: 346ms\n",
      "626:\tlearn: 0.0989644\ttotal: 581ms\tremaining: 345ms\n",
      "627:\tlearn: 0.0987628\ttotal: 581ms\tremaining: 344ms\n",
      "628:\tlearn: 0.0985256\ttotal: 582ms\tremaining: 343ms\n",
      "629:\tlearn: 0.0983689\ttotal: 583ms\tremaining: 342ms\n",
      "630:\tlearn: 0.0983497\ttotal: 584ms\tremaining: 341ms\n",
      "631:\tlearn: 0.0982886\ttotal: 585ms\tremaining: 340ms\n",
      "632:\tlearn: 0.0981208\ttotal: 585ms\tremaining: 339ms\n",
      "633:\tlearn: 0.0979237\ttotal: 586ms\tremaining: 338ms\n",
      "634:\tlearn: 0.0977657\ttotal: 587ms\tremaining: 337ms\n",
      "635:\tlearn: 0.0977359\ttotal: 588ms\tremaining: 336ms\n",
      "636:\tlearn: 0.0975513\ttotal: 589ms\tremaining: 335ms\n",
      "637:\tlearn: 0.0973514\ttotal: 589ms\tremaining: 334ms\n",
      "638:\tlearn: 0.0972137\ttotal: 590ms\tremaining: 333ms\n",
      "639:\tlearn: 0.0970880\ttotal: 591ms\tremaining: 332ms\n",
      "640:\tlearn: 0.0968550\ttotal: 592ms\tremaining: 331ms\n",
      "641:\tlearn: 0.0967305\ttotal: 593ms\tremaining: 330ms\n",
      "642:\tlearn: 0.0965514\ttotal: 593ms\tremaining: 329ms\n",
      "643:\tlearn: 0.0964021\ttotal: 594ms\tremaining: 328ms\n",
      "644:\tlearn: 0.0961490\ttotal: 595ms\tremaining: 327ms\n",
      "645:\tlearn: 0.0959025\ttotal: 596ms\tremaining: 327ms\n",
      "646:\tlearn: 0.0957714\ttotal: 597ms\tremaining: 326ms\n",
      "647:\tlearn: 0.0956258\ttotal: 598ms\tremaining: 325ms\n",
      "648:\tlearn: 0.0954567\ttotal: 598ms\tremaining: 324ms\n",
      "649:\tlearn: 0.0952715\ttotal: 599ms\tremaining: 323ms\n",
      "650:\tlearn: 0.0951299\ttotal: 600ms\tremaining: 322ms\n",
      "651:\tlearn: 0.0949509\ttotal: 601ms\tremaining: 321ms\n",
      "652:\tlearn: 0.0948374\ttotal: 601ms\tremaining: 320ms\n",
      "653:\tlearn: 0.0948126\ttotal: 602ms\tremaining: 319ms\n",
      "654:\tlearn: 0.0946487\ttotal: 603ms\tremaining: 318ms\n",
      "655:\tlearn: 0.0945686\ttotal: 604ms\tremaining: 317ms\n",
      "656:\tlearn: 0.0945489\ttotal: 605ms\tremaining: 316ms\n",
      "657:\tlearn: 0.0943690\ttotal: 606ms\tremaining: 315ms\n",
      "658:\tlearn: 0.0941737\ttotal: 606ms\tremaining: 314ms\n",
      "659:\tlearn: 0.0940676\ttotal: 607ms\tremaining: 313ms\n",
      "660:\tlearn: 0.0938581\ttotal: 608ms\tremaining: 312ms\n",
      "661:\tlearn: 0.0936505\ttotal: 609ms\tremaining: 311ms\n",
      "662:\tlearn: 0.0936247\ttotal: 610ms\tremaining: 310ms\n",
      "663:\tlearn: 0.0935966\ttotal: 610ms\tremaining: 309ms\n",
      "664:\tlearn: 0.0934791\ttotal: 611ms\tremaining: 308ms\n",
      "665:\tlearn: 0.0933343\ttotal: 612ms\tremaining: 307ms\n",
      "666:\tlearn: 0.0932238\ttotal: 613ms\tremaining: 306ms\n",
      "667:\tlearn: 0.0932052\ttotal: 614ms\tremaining: 305ms\n",
      "668:\tlearn: 0.0930454\ttotal: 615ms\tremaining: 304ms\n",
      "669:\tlearn: 0.0928478\ttotal: 616ms\tremaining: 303ms\n",
      "670:\tlearn: 0.0926937\ttotal: 616ms\tremaining: 302ms\n",
      "671:\tlearn: 0.0924857\ttotal: 617ms\tremaining: 301ms\n",
      "672:\tlearn: 0.0923779\ttotal: 618ms\tremaining: 300ms\n",
      "673:\tlearn: 0.0922393\ttotal: 619ms\tremaining: 299ms\n",
      "674:\tlearn: 0.0920071\ttotal: 620ms\tremaining: 298ms\n",
      "675:\tlearn: 0.0918223\ttotal: 620ms\tremaining: 297ms\n",
      "676:\tlearn: 0.0917975\ttotal: 621ms\tremaining: 296ms\n",
      "677:\tlearn: 0.0916692\ttotal: 622ms\tremaining: 295ms\n",
      "678:\tlearn: 0.0916072\ttotal: 623ms\tremaining: 294ms\n",
      "679:\tlearn: 0.0914773\ttotal: 624ms\tremaining: 293ms\n",
      "680:\tlearn: 0.0913064\ttotal: 624ms\tremaining: 292ms\n",
      "681:\tlearn: 0.0910751\ttotal: 625ms\tremaining: 291ms\n",
      "682:\tlearn: 0.0908569\ttotal: 626ms\tremaining: 291ms\n",
      "683:\tlearn: 0.0907780\ttotal: 627ms\tremaining: 290ms\n",
      "684:\tlearn: 0.0905961\ttotal: 628ms\tremaining: 289ms\n",
      "685:\tlearn: 0.0904289\ttotal: 628ms\tremaining: 288ms\n",
      "686:\tlearn: 0.0903176\ttotal: 629ms\tremaining: 287ms\n",
      "687:\tlearn: 0.0902107\ttotal: 630ms\tremaining: 286ms\n",
      "688:\tlearn: 0.0900016\ttotal: 631ms\tremaining: 285ms\n",
      "689:\tlearn: 0.0899316\ttotal: 632ms\tremaining: 284ms\n",
      "690:\tlearn: 0.0897121\ttotal: 632ms\tremaining: 283ms\n",
      "691:\tlearn: 0.0895978\ttotal: 633ms\tremaining: 282ms\n",
      "692:\tlearn: 0.0895606\ttotal: 634ms\tremaining: 281ms\n",
      "693:\tlearn: 0.0894518\ttotal: 635ms\tremaining: 280ms\n",
      "694:\tlearn: 0.0893508\ttotal: 636ms\tremaining: 279ms\n",
      "695:\tlearn: 0.0891481\ttotal: 637ms\tremaining: 278ms\n",
      "696:\tlearn: 0.0889915\ttotal: 637ms\tremaining: 277ms\n",
      "697:\tlearn: 0.0889582\ttotal: 639ms\tremaining: 276ms\n",
      "698:\tlearn: 0.0888108\ttotal: 639ms\tremaining: 275ms\n",
      "699:\tlearn: 0.0887559\ttotal: 640ms\tremaining: 274ms\n",
      "700:\tlearn: 0.0887040\ttotal: 641ms\tremaining: 273ms\n",
      "701:\tlearn: 0.0886418\ttotal: 642ms\tremaining: 272ms\n",
      "702:\tlearn: 0.0883892\ttotal: 643ms\tremaining: 271ms\n",
      "703:\tlearn: 0.0883407\ttotal: 644ms\tremaining: 271ms\n",
      "704:\tlearn: 0.0881387\ttotal: 644ms\tremaining: 270ms\n",
      "705:\tlearn: 0.0880192\ttotal: 645ms\tremaining: 269ms\n",
      "706:\tlearn: 0.0879251\ttotal: 646ms\tremaining: 268ms\n",
      "707:\tlearn: 0.0877185\ttotal: 647ms\tremaining: 267ms\n",
      "708:\tlearn: 0.0876372\ttotal: 648ms\tremaining: 266ms\n",
      "709:\tlearn: 0.0874636\ttotal: 648ms\tremaining: 265ms\n",
      "710:\tlearn: 0.0874425\ttotal: 649ms\tremaining: 264ms\n",
      "711:\tlearn: 0.0872954\ttotal: 650ms\tremaining: 263ms\n",
      "712:\tlearn: 0.0871669\ttotal: 651ms\tremaining: 262ms\n",
      "713:\tlearn: 0.0870122\ttotal: 652ms\tremaining: 261ms\n",
      "714:\tlearn: 0.0869849\ttotal: 652ms\tremaining: 260ms\n",
      "715:\tlearn: 0.0869012\ttotal: 653ms\tremaining: 259ms\n",
      "716:\tlearn: 0.0867634\ttotal: 654ms\tremaining: 258ms\n",
      "717:\tlearn: 0.0866343\ttotal: 655ms\tremaining: 257ms\n",
      "718:\tlearn: 0.0865081\ttotal: 656ms\tremaining: 256ms\n",
      "719:\tlearn: 0.0864021\ttotal: 657ms\tremaining: 255ms\n",
      "720:\tlearn: 0.0863169\ttotal: 657ms\tremaining: 254ms\n",
      "721:\tlearn: 0.0860997\ttotal: 658ms\tremaining: 253ms\n",
      "722:\tlearn: 0.0860890\ttotal: 659ms\tremaining: 252ms\n",
      "723:\tlearn: 0.0860347\ttotal: 660ms\tremaining: 252ms\n",
      "724:\tlearn: 0.0858986\ttotal: 661ms\tremaining: 251ms\n",
      "725:\tlearn: 0.0857342\ttotal: 661ms\tremaining: 250ms\n",
      "726:\tlearn: 0.0857102\ttotal: 662ms\tremaining: 249ms\n",
      "727:\tlearn: 0.0856800\ttotal: 663ms\tremaining: 248ms\n",
      "728:\tlearn: 0.0854750\ttotal: 664ms\tremaining: 247ms\n",
      "729:\tlearn: 0.0853668\ttotal: 665ms\tremaining: 246ms\n",
      "730:\tlearn: 0.0852070\ttotal: 666ms\tremaining: 245ms\n",
      "731:\tlearn: 0.0849890\ttotal: 666ms\tremaining: 244ms\n",
      "732:\tlearn: 0.0848656\ttotal: 667ms\tremaining: 243ms\n",
      "733:\tlearn: 0.0848481\ttotal: 668ms\tremaining: 242ms\n",
      "734:\tlearn: 0.0846697\ttotal: 669ms\tremaining: 241ms\n",
      "735:\tlearn: 0.0845676\ttotal: 670ms\tremaining: 240ms\n",
      "736:\tlearn: 0.0844869\ttotal: 670ms\tremaining: 239ms\n",
      "737:\tlearn: 0.0844723\ttotal: 671ms\tremaining: 238ms\n",
      "738:\tlearn: 0.0842994\ttotal: 672ms\tremaining: 237ms\n",
      "739:\tlearn: 0.0841140\ttotal: 673ms\tremaining: 236ms\n",
      "740:\tlearn: 0.0840876\ttotal: 673ms\tremaining: 235ms\n",
      "741:\tlearn: 0.0839642\ttotal: 674ms\tremaining: 234ms\n",
      "742:\tlearn: 0.0838622\ttotal: 675ms\tremaining: 233ms\n",
      "743:\tlearn: 0.0837342\ttotal: 676ms\tremaining: 233ms\n",
      "744:\tlearn: 0.0837197\ttotal: 677ms\tremaining: 232ms\n",
      "745:\tlearn: 0.0836024\ttotal: 677ms\tremaining: 231ms\n",
      "746:\tlearn: 0.0835212\ttotal: 678ms\tremaining: 230ms\n"
     ]
    },
    {
     "name": "stdout",
     "output_type": "stream",
     "text": [
      "747:\tlearn: 0.0834003\ttotal: 679ms\tremaining: 229ms\n",
      "748:\tlearn: 0.0832630\ttotal: 680ms\tremaining: 228ms\n",
      "749:\tlearn: 0.0831190\ttotal: 681ms\tremaining: 227ms\n",
      "750:\tlearn: 0.0831072\ttotal: 682ms\tremaining: 226ms\n",
      "751:\tlearn: 0.0829629\ttotal: 683ms\tremaining: 225ms\n",
      "752:\tlearn: 0.0828849\ttotal: 684ms\tremaining: 224ms\n",
      "753:\tlearn: 0.0827032\ttotal: 684ms\tremaining: 223ms\n",
      "754:\tlearn: 0.0825810\ttotal: 685ms\tremaining: 222ms\n",
      "755:\tlearn: 0.0824798\ttotal: 686ms\tremaining: 221ms\n",
      "756:\tlearn: 0.0823041\ttotal: 687ms\tremaining: 220ms\n",
      "757:\tlearn: 0.0821198\ttotal: 687ms\tremaining: 219ms\n",
      "758:\tlearn: 0.0820590\ttotal: 688ms\tremaining: 219ms\n",
      "759:\tlearn: 0.0819098\ttotal: 689ms\tremaining: 218ms\n",
      "760:\tlearn: 0.0817872\ttotal: 690ms\tremaining: 217ms\n",
      "761:\tlearn: 0.0816100\ttotal: 691ms\tremaining: 216ms\n",
      "762:\tlearn: 0.0815165\ttotal: 692ms\tremaining: 215ms\n",
      "763:\tlearn: 0.0814153\ttotal: 692ms\tremaining: 214ms\n",
      "764:\tlearn: 0.0811989\ttotal: 693ms\tremaining: 213ms\n",
      "765:\tlearn: 0.0810811\ttotal: 694ms\tremaining: 212ms\n",
      "766:\tlearn: 0.0810570\ttotal: 695ms\tremaining: 211ms\n",
      "767:\tlearn: 0.0810306\ttotal: 696ms\tremaining: 210ms\n",
      "768:\tlearn: 0.0808342\ttotal: 696ms\tremaining: 209ms\n",
      "769:\tlearn: 0.0808094\ttotal: 697ms\tremaining: 208ms\n",
      "770:\tlearn: 0.0806774\ttotal: 698ms\tremaining: 207ms\n",
      "771:\tlearn: 0.0805524\ttotal: 699ms\tremaining: 206ms\n",
      "772:\tlearn: 0.0804825\ttotal: 700ms\tremaining: 206ms\n",
      "773:\tlearn: 0.0803854\ttotal: 701ms\tremaining: 205ms\n",
      "774:\tlearn: 0.0802291\ttotal: 702ms\tremaining: 204ms\n",
      "775:\tlearn: 0.0800815\ttotal: 703ms\tremaining: 203ms\n",
      "776:\tlearn: 0.0799963\ttotal: 704ms\tremaining: 202ms\n",
      "777:\tlearn: 0.0798350\ttotal: 705ms\tremaining: 201ms\n",
      "778:\tlearn: 0.0796807\ttotal: 706ms\tremaining: 200ms\n",
      "779:\tlearn: 0.0795853\ttotal: 707ms\tremaining: 199ms\n",
      "780:\tlearn: 0.0794893\ttotal: 707ms\tremaining: 198ms\n",
      "781:\tlearn: 0.0793275\ttotal: 708ms\tremaining: 197ms\n",
      "782:\tlearn: 0.0793085\ttotal: 709ms\tremaining: 197ms\n",
      "783:\tlearn: 0.0791306\ttotal: 711ms\tremaining: 196ms\n",
      "784:\tlearn: 0.0791085\ttotal: 712ms\tremaining: 195ms\n",
      "785:\tlearn: 0.0790970\ttotal: 713ms\tremaining: 194ms\n",
      "786:\tlearn: 0.0790864\ttotal: 714ms\tremaining: 193ms\n",
      "787:\tlearn: 0.0789260\ttotal: 715ms\tremaining: 192ms\n",
      "788:\tlearn: 0.0787738\ttotal: 716ms\tremaining: 191ms\n",
      "789:\tlearn: 0.0786561\ttotal: 717ms\tremaining: 191ms\n",
      "790:\tlearn: 0.0784960\ttotal: 718ms\tremaining: 190ms\n",
      "791:\tlearn: 0.0782957\ttotal: 719ms\tremaining: 189ms\n",
      "792:\tlearn: 0.0782598\ttotal: 720ms\tremaining: 188ms\n",
      "793:\tlearn: 0.0781538\ttotal: 721ms\tremaining: 187ms\n",
      "794:\tlearn: 0.0780385\ttotal: 721ms\tremaining: 186ms\n",
      "795:\tlearn: 0.0779051\ttotal: 722ms\tremaining: 185ms\n",
      "796:\tlearn: 0.0778878\ttotal: 723ms\tremaining: 184ms\n",
      "797:\tlearn: 0.0778713\ttotal: 724ms\tremaining: 183ms\n",
      "798:\tlearn: 0.0778543\ttotal: 724ms\tremaining: 182ms\n",
      "799:\tlearn: 0.0777898\ttotal: 725ms\tremaining: 181ms\n",
      "800:\tlearn: 0.0776293\ttotal: 726ms\tremaining: 180ms\n",
      "801:\tlearn: 0.0775112\ttotal: 727ms\tremaining: 179ms\n",
      "802:\tlearn: 0.0773649\ttotal: 728ms\tremaining: 179ms\n",
      "803:\tlearn: 0.0773525\ttotal: 729ms\tremaining: 178ms\n",
      "804:\tlearn: 0.0771861\ttotal: 729ms\tremaining: 177ms\n",
      "805:\tlearn: 0.0771739\ttotal: 730ms\tremaining: 176ms\n",
      "806:\tlearn: 0.0770777\ttotal: 731ms\tremaining: 175ms\n",
      "807:\tlearn: 0.0769192\ttotal: 732ms\tremaining: 174ms\n",
      "808:\tlearn: 0.0768158\ttotal: 733ms\tremaining: 173ms\n",
      "809:\tlearn: 0.0766575\ttotal: 734ms\tremaining: 172ms\n",
      "810:\tlearn: 0.0766467\ttotal: 735ms\tremaining: 171ms\n",
      "811:\tlearn: 0.0765311\ttotal: 736ms\tremaining: 170ms\n",
      "812:\tlearn: 0.0764739\ttotal: 737ms\tremaining: 170ms\n",
      "813:\tlearn: 0.0764656\ttotal: 738ms\tremaining: 169ms\n",
      "814:\tlearn: 0.0763570\ttotal: 738ms\tremaining: 168ms\n",
      "815:\tlearn: 0.0762539\ttotal: 739ms\tremaining: 167ms\n",
      "816:\tlearn: 0.0761022\ttotal: 740ms\tremaining: 166ms\n",
      "817:\tlearn: 0.0760819\ttotal: 741ms\tremaining: 165ms\n",
      "818:\tlearn: 0.0760720\ttotal: 742ms\tremaining: 164ms\n",
      "819:\tlearn: 0.0760592\ttotal: 742ms\tremaining: 163ms\n",
      "820:\tlearn: 0.0759379\ttotal: 743ms\tremaining: 162ms\n",
      "821:\tlearn: 0.0757610\ttotal: 744ms\tremaining: 161ms\n",
      "822:\tlearn: 0.0756195\ttotal: 745ms\tremaining: 160ms\n",
      "823:\tlearn: 0.0754910\ttotal: 745ms\tremaining: 159ms\n",
      "824:\tlearn: 0.0754801\ttotal: 746ms\tremaining: 158ms\n",
      "825:\tlearn: 0.0752942\ttotal: 747ms\tremaining: 157ms\n",
      "826:\tlearn: 0.0752377\ttotal: 748ms\tremaining: 156ms\n",
      "827:\tlearn: 0.0750990\ttotal: 749ms\tremaining: 156ms\n",
      "828:\tlearn: 0.0749279\ttotal: 750ms\tremaining: 155ms\n",
      "829:\tlearn: 0.0748428\ttotal: 750ms\tremaining: 154ms\n",
      "830:\tlearn: 0.0747055\ttotal: 751ms\tremaining: 153ms\n",
      "831:\tlearn: 0.0745795\ttotal: 752ms\tremaining: 152ms\n",
      "832:\tlearn: 0.0744936\ttotal: 753ms\tremaining: 151ms\n",
      "833:\tlearn: 0.0743386\ttotal: 754ms\tremaining: 150ms\n",
      "834:\tlearn: 0.0742293\ttotal: 755ms\tremaining: 149ms\n",
      "835:\tlearn: 0.0742105\ttotal: 756ms\tremaining: 148ms\n",
      "836:\tlearn: 0.0740980\ttotal: 757ms\tremaining: 147ms\n",
      "837:\tlearn: 0.0740878\ttotal: 757ms\tremaining: 146ms\n",
      "838:\tlearn: 0.0738996\ttotal: 758ms\tremaining: 145ms\n",
      "839:\tlearn: 0.0738440\ttotal: 759ms\tremaining: 145ms\n",
      "840:\tlearn: 0.0737306\ttotal: 760ms\tremaining: 144ms\n",
      "841:\tlearn: 0.0737218\ttotal: 761ms\tremaining: 143ms\n",
      "842:\tlearn: 0.0736411\ttotal: 761ms\tremaining: 142ms\n",
      "843:\tlearn: 0.0736064\ttotal: 762ms\tremaining: 141ms\n"
     ]
    },
    {
     "name": "stdout",
     "output_type": "stream",
     "text": [
      "844:\tlearn: 0.0735678\ttotal: 763ms\tremaining: 140ms\n",
      "845:\tlearn: 0.0733974\ttotal: 764ms\tremaining: 139ms\n",
      "846:\tlearn: 0.0732820\ttotal: 765ms\tremaining: 138ms\n",
      "847:\tlearn: 0.0732721\ttotal: 766ms\tremaining: 137ms\n",
      "848:\tlearn: 0.0731677\ttotal: 767ms\tremaining: 136ms\n",
      "849:\tlearn: 0.0730498\ttotal: 767ms\tremaining: 135ms\n",
      "850:\tlearn: 0.0729460\ttotal: 768ms\tremaining: 135ms\n",
      "851:\tlearn: 0.0727852\ttotal: 769ms\tremaining: 134ms\n",
      "852:\tlearn: 0.0727192\ttotal: 770ms\tremaining: 133ms\n",
      "853:\tlearn: 0.0726145\ttotal: 771ms\tremaining: 132ms\n",
      "854:\tlearn: 0.0725300\ttotal: 772ms\tremaining: 131ms\n",
      "855:\tlearn: 0.0724468\ttotal: 773ms\tremaining: 130ms\n",
      "856:\tlearn: 0.0723544\ttotal: 773ms\tremaining: 129ms\n",
      "857:\tlearn: 0.0722638\ttotal: 774ms\tremaining: 128ms\n",
      "858:\tlearn: 0.0722212\ttotal: 775ms\tremaining: 127ms\n",
      "859:\tlearn: 0.0721558\ttotal: 776ms\tremaining: 126ms\n",
      "860:\tlearn: 0.0720723\ttotal: 777ms\tremaining: 125ms\n",
      "861:\tlearn: 0.0719973\ttotal: 778ms\tremaining: 125ms\n",
      "862:\tlearn: 0.0719389\ttotal: 780ms\tremaining: 124ms\n",
      "863:\tlearn: 0.0718683\ttotal: 781ms\tremaining: 123ms\n",
      "864:\tlearn: 0.0717354\ttotal: 782ms\tremaining: 122ms\n",
      "865:\tlearn: 0.0715965\ttotal: 783ms\tremaining: 121ms\n",
      "866:\tlearn: 0.0715216\ttotal: 785ms\tremaining: 120ms\n",
      "867:\tlearn: 0.0713697\ttotal: 786ms\tremaining: 120ms\n",
      "868:\tlearn: 0.0711803\ttotal: 787ms\tremaining: 119ms\n",
      "869:\tlearn: 0.0710328\ttotal: 788ms\tremaining: 118ms\n",
      "870:\tlearn: 0.0709464\ttotal: 789ms\tremaining: 117ms\n",
      "871:\tlearn: 0.0707923\ttotal: 790ms\tremaining: 116ms\n",
      "872:\tlearn: 0.0707438\ttotal: 791ms\tremaining: 115ms\n",
      "873:\tlearn: 0.0706834\ttotal: 792ms\tremaining: 114ms\n",
      "874:\tlearn: 0.0706764\ttotal: 793ms\tremaining: 113ms\n",
      "875:\tlearn: 0.0705250\ttotal: 794ms\tremaining: 112ms\n",
      "876:\tlearn: 0.0704996\ttotal: 795ms\tremaining: 112ms\n",
      "877:\tlearn: 0.0704916\ttotal: 796ms\tremaining: 111ms\n",
      "878:\tlearn: 0.0703722\ttotal: 797ms\tremaining: 110ms\n",
      "879:\tlearn: 0.0703249\ttotal: 798ms\tremaining: 109ms\n",
      "880:\tlearn: 0.0702090\ttotal: 799ms\tremaining: 108ms\n",
      "881:\tlearn: 0.0701028\ttotal: 800ms\tremaining: 107ms\n",
      "882:\tlearn: 0.0699615\ttotal: 801ms\tremaining: 106ms\n",
      "883:\tlearn: 0.0699239\ttotal: 801ms\tremaining: 105ms\n",
      "884:\tlearn: 0.0698243\ttotal: 803ms\tremaining: 104ms\n",
      "885:\tlearn: 0.0696804\ttotal: 804ms\tremaining: 103ms\n",
      "886:\tlearn: 0.0695978\ttotal: 804ms\tremaining: 102ms\n",
      "887:\tlearn: 0.0695339\ttotal: 805ms\tremaining: 102ms\n",
      "888:\tlearn: 0.0694873\ttotal: 806ms\tremaining: 101ms\n",
      "889:\tlearn: 0.0694462\ttotal: 807ms\tremaining: 99.8ms\n",
      "890:\tlearn: 0.0693094\ttotal: 808ms\tremaining: 98.8ms\n",
      "891:\tlearn: 0.0692755\ttotal: 809ms\tremaining: 97.9ms\n",
      "892:\tlearn: 0.0691637\ttotal: 810ms\tremaining: 97ms\n",
      "893:\tlearn: 0.0690483\ttotal: 810ms\tremaining: 96.1ms\n",
      "894:\tlearn: 0.0688960\ttotal: 811ms\tremaining: 95.2ms\n",
      "895:\tlearn: 0.0688826\ttotal: 812ms\tremaining: 94.3ms\n",
      "896:\tlearn: 0.0687827\ttotal: 813ms\tremaining: 93.4ms\n",
      "897:\tlearn: 0.0686684\ttotal: 814ms\tremaining: 92.5ms\n",
      "898:\tlearn: 0.0686404\ttotal: 815ms\tremaining: 91.6ms\n",
      "899:\tlearn: 0.0686325\ttotal: 816ms\tremaining: 90.7ms\n",
      "900:\tlearn: 0.0686030\ttotal: 817ms\tremaining: 89.8ms\n",
      "901:\tlearn: 0.0684456\ttotal: 818ms\tremaining: 88.9ms\n",
      "902:\tlearn: 0.0684393\ttotal: 819ms\tremaining: 88ms\n",
      "903:\tlearn: 0.0683677\ttotal: 820ms\tremaining: 87.1ms\n",
      "904:\tlearn: 0.0683604\ttotal: 821ms\tremaining: 86.2ms\n",
      "905:\tlearn: 0.0682777\ttotal: 822ms\tremaining: 85.2ms\n",
      "906:\tlearn: 0.0682701\ttotal: 822ms\tremaining: 84.3ms\n",
      "907:\tlearn: 0.0681932\ttotal: 823ms\tremaining: 83.4ms\n",
      "908:\tlearn: 0.0680744\ttotal: 824ms\tremaining: 82.5ms\n",
      "909:\tlearn: 0.0679391\ttotal: 825ms\tremaining: 81.6ms\n",
      "910:\tlearn: 0.0678500\ttotal: 826ms\tremaining: 80.7ms\n",
      "911:\tlearn: 0.0677894\ttotal: 827ms\tremaining: 79.8ms\n",
      "912:\tlearn: 0.0677546\ttotal: 827ms\tremaining: 78.8ms\n",
      "913:\tlearn: 0.0676229\ttotal: 828ms\tremaining: 77.9ms\n",
      "914:\tlearn: 0.0675922\ttotal: 829ms\tremaining: 77ms\n",
      "915:\tlearn: 0.0675569\ttotal: 830ms\tremaining: 76.1ms\n",
      "916:\tlearn: 0.0674466\ttotal: 841ms\tremaining: 76.2ms\n",
      "917:\tlearn: 0.0674303\ttotal: 842ms\tremaining: 75.3ms\n",
      "918:\tlearn: 0.0672913\ttotal: 844ms\tremaining: 74.4ms\n",
      "919:\tlearn: 0.0672838\ttotal: 845ms\tremaining: 73.5ms\n",
      "920:\tlearn: 0.0672485\ttotal: 846ms\tremaining: 72.6ms\n",
      "921:\tlearn: 0.0672270\ttotal: 848ms\tremaining: 71.7ms\n",
      "922:\tlearn: 0.0671112\ttotal: 849ms\tremaining: 70.8ms\n",
      "923:\tlearn: 0.0670341\ttotal: 850ms\tremaining: 69.9ms\n",
      "924:\tlearn: 0.0668982\ttotal: 851ms\tremaining: 69ms\n",
      "925:\tlearn: 0.0668088\ttotal: 852ms\tremaining: 68.1ms\n",
      "926:\tlearn: 0.0666807\ttotal: 852ms\tremaining: 67.1ms\n",
      "927:\tlearn: 0.0665375\ttotal: 853ms\tremaining: 66.2ms\n",
      "928:\tlearn: 0.0663878\ttotal: 854ms\tremaining: 65.3ms\n",
      "929:\tlearn: 0.0662778\ttotal: 855ms\tremaining: 64.3ms\n",
      "930:\tlearn: 0.0661579\ttotal: 856ms\tremaining: 63.4ms\n",
      "931:\tlearn: 0.0661522\ttotal: 857ms\tremaining: 62.5ms\n",
      "932:\tlearn: 0.0660924\ttotal: 857ms\tremaining: 61.6ms\n",
      "933:\tlearn: 0.0659721\ttotal: 858ms\tremaining: 60.6ms\n",
      "934:\tlearn: 0.0659043\ttotal: 859ms\tremaining: 59.7ms\n",
      "935:\tlearn: 0.0658238\ttotal: 860ms\tremaining: 58.8ms\n",
      "936:\tlearn: 0.0657552\ttotal: 861ms\tremaining: 57.9ms\n",
      "937:\tlearn: 0.0656401\ttotal: 862ms\tremaining: 57ms\n",
      "938:\tlearn: 0.0655536\ttotal: 864ms\tremaining: 56.1ms\n",
      "939:\tlearn: 0.0654454\ttotal: 865ms\tremaining: 55.2ms\n",
      "940:\tlearn: 0.0653593\ttotal: 868ms\tremaining: 54.4ms\n",
      "941:\tlearn: 0.0652594\ttotal: 869ms\tremaining: 53.5ms\n"
     ]
    },
    {
     "name": "stdout",
     "output_type": "stream",
     "text": [
      "942:\tlearn: 0.0651681\ttotal: 870ms\tremaining: 52.6ms\n",
      "943:\tlearn: 0.0650820\ttotal: 872ms\tremaining: 51.7ms\n",
      "944:\tlearn: 0.0649483\ttotal: 873ms\tremaining: 50.8ms\n",
      "945:\tlearn: 0.0648888\ttotal: 874ms\tremaining: 49.9ms\n",
      "946:\tlearn: 0.0648165\ttotal: 875ms\tremaining: 49ms\n",
      "947:\tlearn: 0.0647568\ttotal: 876ms\tremaining: 48.1ms\n",
      "948:\tlearn: 0.0646842\ttotal: 878ms\tremaining: 47.2ms\n",
      "949:\tlearn: 0.0645819\ttotal: 880ms\tremaining: 46.3ms\n",
      "950:\tlearn: 0.0645082\ttotal: 881ms\tremaining: 45.4ms\n",
      "951:\tlearn: 0.0644031\ttotal: 884ms\tremaining: 44.6ms\n",
      "952:\tlearn: 0.0643647\ttotal: 896ms\tremaining: 44.2ms\n",
      "953:\tlearn: 0.0642343\ttotal: 908ms\tremaining: 43.8ms\n",
      "954:\tlearn: 0.0642189\ttotal: 909ms\tremaining: 42.8ms\n",
      "955:\tlearn: 0.0641751\ttotal: 910ms\tremaining: 41.9ms\n",
      "956:\tlearn: 0.0640837\ttotal: 912ms\tremaining: 41ms\n",
      "957:\tlearn: 0.0640652\ttotal: 914ms\tremaining: 40.1ms\n",
      "958:\tlearn: 0.0640105\ttotal: 915ms\tremaining: 39.1ms\n",
      "959:\tlearn: 0.0638697\ttotal: 916ms\tremaining: 38.2ms\n",
      "960:\tlearn: 0.0637213\ttotal: 917ms\tremaining: 37.2ms\n",
      "961:\tlearn: 0.0636505\ttotal: 918ms\tremaining: 36.3ms\n",
      "962:\tlearn: 0.0636291\ttotal: 919ms\tremaining: 35.3ms\n",
      "963:\tlearn: 0.0634931\ttotal: 920ms\tremaining: 34.4ms\n",
      "964:\tlearn: 0.0633350\ttotal: 921ms\tremaining: 33.4ms\n",
      "965:\tlearn: 0.0632181\ttotal: 922ms\tremaining: 32.5ms\n",
      "966:\tlearn: 0.0631042\ttotal: 923ms\tremaining: 31.5ms\n",
      "967:\tlearn: 0.0630122\ttotal: 924ms\tremaining: 30.6ms\n",
      "968:\tlearn: 0.0629771\ttotal: 925ms\tremaining: 29.6ms\n",
      "969:\tlearn: 0.0629241\ttotal: 926ms\tremaining: 28.6ms\n",
      "970:\tlearn: 0.0628116\ttotal: 927ms\tremaining: 27.7ms\n",
      "971:\tlearn: 0.0626449\ttotal: 928ms\tremaining: 26.7ms\n",
      "972:\tlearn: 0.0625619\ttotal: 929ms\tremaining: 25.8ms\n",
      "973:\tlearn: 0.0623820\ttotal: 930ms\tremaining: 24.8ms\n",
      "974:\tlearn: 0.0622672\ttotal: 931ms\tremaining: 23.9ms\n",
      "975:\tlearn: 0.0621540\ttotal: 932ms\tremaining: 22.9ms\n",
      "976:\tlearn: 0.0620817\ttotal: 933ms\tremaining: 22ms\n",
      "977:\tlearn: 0.0619243\ttotal: 934ms\tremaining: 21ms\n",
      "978:\tlearn: 0.0618091\ttotal: 935ms\tremaining: 20.1ms\n",
      "979:\tlearn: 0.0616847\ttotal: 936ms\tremaining: 19.1ms\n",
      "980:\tlearn: 0.0616333\ttotal: 936ms\tremaining: 18.1ms\n",
      "981:\tlearn: 0.0616269\ttotal: 937ms\tremaining: 17.2ms\n",
      "982:\tlearn: 0.0615217\ttotal: 938ms\tremaining: 16.2ms\n",
      "983:\tlearn: 0.0614153\ttotal: 939ms\tremaining: 15.3ms\n",
      "984:\tlearn: 0.0613181\ttotal: 941ms\tremaining: 14.3ms\n",
      "985:\tlearn: 0.0611511\ttotal: 942ms\tremaining: 13.4ms\n",
      "986:\tlearn: 0.0611311\ttotal: 945ms\tremaining: 12.4ms\n",
      "987:\tlearn: 0.0610203\ttotal: 946ms\tremaining: 11.5ms\n",
      "988:\tlearn: 0.0610117\ttotal: 948ms\tremaining: 10.5ms\n",
      "989:\tlearn: 0.0610050\ttotal: 949ms\tremaining: 9.58ms\n",
      "990:\tlearn: 0.0609272\ttotal: 950ms\tremaining: 8.62ms\n",
      "991:\tlearn: 0.0608637\ttotal: 951ms\tremaining: 7.67ms\n",
      "992:\tlearn: 0.0608229\ttotal: 952ms\tremaining: 6.71ms\n",
      "993:\tlearn: 0.0607198\ttotal: 952ms\tremaining: 5.75ms\n"
     ]
    },
    {
     "name": "stdout",
     "output_type": "stream",
     "text": [
      "994:\tlearn: 0.0607027\ttotal: 953ms\tremaining: 4.79ms\n",
      "995:\tlearn: 0.0606342\ttotal: 955ms\tremaining: 3.83ms\n",
      "996:\tlearn: 0.0605615\ttotal: 956ms\tremaining: 2.88ms\n",
      "997:\tlearn: 0.0604726\ttotal: 958ms\tremaining: 1.92ms\n",
      "998:\tlearn: 0.0603937\ttotal: 959ms\tremaining: 960us\n",
      "999:\tlearn: 0.0603006\ttotal: 961ms\tremaining: 0us\n"
     ]
    },
    {
     "data": {
      "text/plain": [
       "<catboost.core.CatBoostRegressor at 0x7fbac17f2550>"
      ]
     },
     "execution_count": 9,
     "metadata": {},
     "output_type": "execute_result"
    }
   ],
   "source": [
    "#Train the Model \n",
    "prior_model = ctb.CatBoostRegressor()\n",
    "prior_model.fit(X_train,Y_train)"
   ]
  },
  {
   "cell_type": "code",
   "execution_count": 10,
   "id": "af65dcda",
   "metadata": {
    "execution": {
     "iopub.execute_input": "2022-06-12T03:41:31.151878Z",
     "iopub.status.busy": "2022-06-12T03:41:31.151383Z",
     "iopub.status.idle": "2022-06-12T03:41:31.160091Z",
     "shell.execute_reply": "2022-06-12T03:41:31.160385Z"
    },
    "id": "af65dcda",
    "papermill": {
     "duration": 0.023468,
     "end_time": "2022-06-12T03:41:31.160511",
     "exception": false,
     "start_time": "2022-06-12T03:41:31.137043",
     "status": "completed"
    },
    "tags": []
   },
   "outputs": [
    {
     "data": {
      "application/scrapbook.scrap.json+json": {
       "data": 0.1271790938742267,
       "encoder": "json",
       "name": "Prior Model MSE",
       "version": 1
      }
     },
     "metadata": {
      "scrapbook": {
       "data": true,
       "display": false,
       "name": "Prior Model MSE"
      }
     },
     "output_type": "display_data"
    },
    {
     "data": {
      "application/scrapbook.scrap.json+json": {
       "data": 1.2108854118947168,
       "encoder": "json",
       "name": "ABC Pre-generator MSE",
       "version": 1
      }
     },
     "metadata": {
      "scrapbook": {
       "data": true,
       "display": false,
       "name": "ABC Pre-generator MSE"
      }
     },
     "output_type": "display_data"
    },
    {
     "data": {
      "application/scrapbook.scrap.json+json": {
       "data": 0.239856429350331,
       "encoder": "json",
       "name": "Prior Model MSE",
       "version": 1
      }
     },
     "metadata": {
      "scrapbook": {
       "data": true,
       "display": false,
       "name": "Prior Model MSE"
      }
     },
     "output_type": "display_data"
    },
    {
     "data": {
      "application/scrapbook.scrap.json+json": {
       "data": 1.0415578281870614,
       "encoder": "json",
       "name": "ABC Pre-generator MSE",
       "version": 1
      }
     },
     "metadata": {
      "scrapbook": {
       "data": true,
       "display": false,
       "name": "ABC Pre-generator MSE"
      }
     },
     "output_type": "display_data"
    }
   ],
   "source": [
    "y_pred = prior_model.predict(X_test)\n",
    "y_abc = y_pred + np.random.normal(0,variance, y_pred.shape) + bias \n",
    "mse = mean_squared_error(y_pred,Y_test)\n",
    "sb.glue(\"Prior Model MSE\",mse)\n",
    "mse = mean_squared_error(y_abc,Y_test)\n",
    "sb.glue(\"ABC Pre-generator MSE\",mse)\n",
    "mae = mean_absolute_error(y_pred,Y_test)\n",
    "sb.glue(\"Prior Model MSE\",mae)\n",
    "mae = mean_absolute_error(y_abc,Y_test)\n",
    "sb.glue(\"ABC Pre-generator MSE\",mae)"
   ]
  },
  {
   "cell_type": "markdown",
   "id": "25609da2",
   "metadata": {
    "papermill": {
     "duration": 0.010938,
     "end_time": "2022-06-12T03:41:31.182428",
     "exception": false,
     "start_time": "2022-06-12T03:41:31.171490",
     "status": "completed"
    },
    "tags": []
   },
   "source": [
    "# ABC GAN Model"
   ]
  },
  {
   "cell_type": "code",
   "execution_count": 11,
   "id": "dfc3464d",
   "metadata": {
    "execution": {
     "iopub.execute_input": "2022-06-12T03:41:31.207406Z",
     "iopub.status.busy": "2022-06-12T03:41:31.206984Z",
     "iopub.status.idle": "2022-06-12T03:41:31.209339Z",
     "shell.execute_reply": "2022-06-12T03:41:31.209575Z"
    },
    "papermill": {
     "duration": 0.016745,
     "end_time": "2022-06-12T03:41:31.209694",
     "exception": false,
     "start_time": "2022-06-12T03:41:31.192949",
     "status": "completed"
    },
    "tags": []
   },
   "outputs": [],
   "source": [
    "gen = network.Generator(n_features+1).to(device)\n",
    "disc = network.Discriminator(n_features+1).to(device)\n",
    "\n",
    "criterion = torch.nn.BCELoss()\n",
    "gen_opt = torch.optim.Adam(gen.parameters(), lr=0.001, betas=(0.5, 0.999))\n",
    "disc_opt = torch.optim.Adam(disc.parameters(), lr=0.001, betas=(0.5, 0.999))"
   ]
  },
  {
   "cell_type": "code",
   "execution_count": 12,
   "id": "b75fdd85",
   "metadata": {
    "execution": {
     "iopub.execute_input": "2022-06-12T03:41:31.233725Z",
     "iopub.status.busy": "2022-06-12T03:41:31.233357Z",
     "iopub.status.idle": "2022-06-12T04:15:21.326842Z",
     "shell.execute_reply": "2022-06-12T04:15:21.327155Z"
    },
    "papermill": {
     "duration": 2030.107281,
     "end_time": "2022-06-12T04:15:21.327279",
     "exception": false,
     "start_time": "2022-06-12T03:41:31.219998",
     "status": "completed"
    },
    "tags": []
   },
   "outputs": [
    {
     "data": {
      "image/png": "[encoded data removed]",
      "text/plain": [
       "<Figure size 432x288 with 1 Axes>"
      ]
     },
     "metadata": {
      "needs_background": "light"
     },
     "output_type": "display_data"
    },
    {
     "data": {
      "image/png": "[encoded data removed]",
      "text/plain": [
       "<Figure size 432x288 with 1 Axes>"
      ]
     },
     "metadata": {
      "needs_background": "light"
     },
     "output_type": "display_data"
    }
   ],
   "source": [
    "#Training the ABC_GAN \n",
    "ABC_train_test2.training_GAN(disc,gen,disc_opt,gen_opt,train_data,batch_size,n_epochs,criterion,prior_model,variance,bias,device)"
   ]
  },
  {
   "cell_type": "code",
   "execution_count": 13,
   "id": "1fa7c368",
   "metadata": {
    "execution": {
     "iopub.execute_input": "2022-06-12T04:15:21.354196Z",
     "iopub.status.busy": "2022-06-12T04:15:21.353102Z",
     "iopub.status.idle": "2022-06-12T04:15:21.665219Z",
     "shell.execute_reply": "2022-06-12T04:15:21.665544Z"
    },
    "papermill": {
     "duration": 0.327359,
     "end_time": "2022-06-12T04:15:21.665679",
     "exception": false,
     "start_time": "2022-06-12T04:15:21.338320",
     "status": "completed"
    },
    "tags": []
   },
   "outputs": [
    {
     "data": {
      "application/scrapbook.scrap.json+json": {
       "data": 0.15846692044485877,
       "encoder": "json",
       "name": "ABC-GAN Model 1 MSE",
       "version": 1
      }
     },
     "metadata": {
      "scrapbook": {
       "data": true,
       "display": false,
       "name": "ABC-GAN Model 1 MSE"
      }
     },
     "output_type": "display_data"
    },
    {
     "data": {
      "application/scrapbook.scrap.json+json": {
       "data": 0.26244955119512536,
       "encoder": "json",
       "name": "ABC-GAN Model 1 MAE",
       "version": 1
      }
     },
     "metadata": {
      "scrapbook": {
       "data": true,
       "display": false,
       "name": "ABC-GAN Model 1 MAE"
      }
     },
     "output_type": "display_data"
    },
    {
     "data": {
      "application/scrapbook.scrap.json+json": {
       "data": 26.769854221902786,
       "encoder": "json",
       "name": "ABC-GAN Model 1 Manhattan Distance",
       "version": 1
      }
     },
     "metadata": {
      "scrapbook": {
       "data": true,
       "display": false,
       "name": "ABC-GAN Model 1 Manhattan Distance"
      }
     },
     "output_type": "display_data"
    },
    {
     "data": {
      "application/scrapbook.scrap.json+json": {
       "data": 4.020390635282547,
       "encoder": "json",
       "name": "ABC-GAN Model 1 Euclidean distance",
       "version": 1
      }
     },
     "metadata": {
      "scrapbook": {
       "data": true,
       "display": false,
       "name": "ABC-GAN Model 1 Euclidean distance"
      }
     },
     "output_type": "display_data"
    },
    {
     "data": {
      "application/scrapbook.scrap.json+json": {
       "data": [
        [
         0.1596482822751997,
         0.15833287744417063,
         0.15860045062005418,
         0.15837953380923486,
         0.15907812708957028,
         0.15710437098271798,
         0.15961108921034356,
         0.1584722583462512,
         0.15680549626775084,
         0.15886952085847209,
         0.15796806381273523,
         0.15816140299534792,
         0.15841521057994762,
         0.15777196514786632,
         0.15827638198568475,
         0.15848019669563945,
         0.1588759601240539,
         0.1584233492512491,
         0.15722631923110286,
         0.15794011139236153,
         0.15688083646080137,
         0.15787516248317449,
         0.15876285210826246,
         0.15783200475899375,
         0.1577264891019797,
         0.15939492421217602,
         0.15763510833893155,
         0.15809931277983796,
         0.15837156851978826,
         0.15873647993847254,
         0.15999195082416204,
         0.15906839113777146,
         0.15888941647363253,
         0.1573946610521961,
         0.15752780376970485,
         0.15694436674396608,
         0.15902495716461965,
         0.15879770333740775,
         0.1583142794604518,
         0.15989473916858996,
         0.1577712757002677,
         0.1579129069696543,
         0.15897122169372993,
         0.15835755562745013,
         0.15839215873606322,
         0.15866275671467908,
         0.15716573803080672,
         0.1588141788896011,
         0.15865261432796735,
         0.15772649002553601,
         0.15888640661936168,
         0.1588837204670673,
         0.15900699486493833,
         0.15807969374434458,
         0.1581809159825686,
         0.15867338222729938,
         0.15907577835145237,
         0.15881357469719942,
         0.15868585450445,
         0.1590528990905262,
         0.1573913643471023,
         0.15727022301981414,
         0.15964393627474738,
         0.15833898932078772,
         0.1583665334237717,
         0.1594933375860458,
         0.15781186049511833,
         0.15765168081471384,
         0.15867298958327125,
         0.15914567220347883,
         0.15952708763742166,
         0.15954678147644522,
         0.15852988381504993,
         0.15825717344529044,
         0.159656543112793,
         0.15985018845675056,
         0.15811978645268332,
         0.1586429720084527,
         0.1581697661755553,
         0.15843845878555968,
         0.15897543644880494,
         0.15839043679224624,
         0.15917807228274353,
         0.15752447636967565,
         0.15749887476996416,
         0.1576204234086933,
         0.15931115122298226,
         0.1585963670731585,
         0.15890771919160165,
         0.15830512074723388,
         0.1587807664462411,
         0.15919521424447572,
         0.15842753844663998,
         0.1580362261405079,
         0.15856112756509744,
         0.15979986192899953,
         0.15730059102522984,
         0.15840624702909387,
         0.1591724808329058,
         0.15880859086509233
        ],
        [
         0.2637453267588189,
         0.2621011787833756,
         0.2619860573014354,
         0.26231586262035894,
         0.2633520471269959,
         0.2625251761135444,
         0.26298569394823385,
         0.2625600109196396,
         0.26128743456073983,
         0.26172939238284587,
         0.26085684913685364,
         0.26185806080078083,
         0.2639476888968299,
         0.26079304838626116,
         0.26232204853794444,
         0.26201887451587064,
         0.26319564695415254,
         0.26236317137840626,
         0.2617352767664866,
         0.2628071046224339,
         0.2620393849051028,
         0.2634141462188506,
         0.26328788291407274,
         0.2615221187052335,
         0.2619992845153034,
         0.26349485315857274,
         0.2611945998060572,
         0.26323491670008675,
         0.2634452539130899,
         0.26179597907535296,
         0.26405994735621646,
         0.2635463123785003,
         0.26240268811200035,
         0.26212107279228375,
         0.26109562021241906,
         0.26029470388083625,
         0.26293619397534607,
         0.26330209696464535,
         0.2616513795401974,
         0.26383466734642197,
         0.2620613057778089,
         0.2628213925716266,
         0.26280911743878294,
         0.26335100581705134,
         0.26339408644365475,
         0.26315217584773315,
         0.26149365712212874,
         0.2646047134573261,
         0.26226470899749915,
         0.26113543028523234,
         0.2627744343880491,
         0.2627975886833726,
         0.26366757768133253,
         0.26272627413181554,
         0.2616759448531358,
         0.26298742623104915,
         0.2615705753046581,
         0.2634056851213031,
         0.2634670937561667,
         0.26212857890527186,
         0.2613587692863874,
         0.26172886994740396,
         0.26359412599099324,
         0.26329233060024826,
         0.26195585446925285,
         0.2619795347244351,
         0.2605886800150734,
         0.2593560329200152,
         0.2631321588266349,
         0.2630673426742136,
         0.2653783628598367,
         0.2637131116672547,
         0.26333054482900337,
         0.26148676069672494,
         0.26378220731538593,
         0.2617374174022937,
         0.2608656059932329,
         0.26288715097140153,
         0.26110809171280147,
         0.2622721585965551,
         0.2631234898295838,
         0.26262927185013596,
         0.26297390471011695,
         0.2621077839604707,
         0.2615023269820228,
         0.261455574885522,
         0.2631528112882127,
         0.2620145939199217,
         0.26329854896803406,
         0.2616175728229185,
         0.2638742183015554,
         0.2626606039474627,
         0.26107510647225174,
         0.262399439896256,
         0.26133948440809607,
         0.26217267579654707,
         0.26118566812582167,
         0.2613470654332024,
         0.26408642483875155,
         0.2628756157789087
        ],
        [
         26.902023329399526,
         26.734320235904306,
         26.72257784474641,
         26.756217987276614,
         26.86190880695358,
         26.777567963581532,
         26.82454078271985,
         26.781121113803238,
         26.65131832519546,
         26.69639802305028,
         26.60739861195907,
         26.709522201679647,
         26.922664267476648,
         26.60089093539864,
         26.756848950870335,
         26.725925200618804,
         26.845955989323556,
         26.761043480597436,
         26.696998230181634,
         26.806324671488255,
         26.728017260320485,
         26.868242914322764,
         26.85536405723542,
         26.67525610793382,
         26.72392702056095,
         26.876475022174418,
         26.641849180217832,
         26.84996150340885,
         26.871415899135172,
         26.703189865686,
         26.93411463033408,
         26.881723862607032,
         26.765074187424034,
         26.736349424812943,
         26.631753261666745,
         26.5500597958453,
         26.819491785485297,
         26.856813890393823,
         26.688440713100135,
         26.911136069335043,
         26.73025318933651,
         26.807782042305917,
         26.80652997875586,
         26.861802593339235,
         26.866196817252785,
         26.84152193646878,
         26.67235302645713,
         26.98968077264726,
         26.75100031774491,
         26.635813889093697,
         26.802992307581007,
         26.805354045704007,
         26.89409292349592,
         26.798079961445183,
         26.69094637501985,
         26.824717475567013,
         26.680198681075126,
         26.867379882372916,
         26.873643563129008,
         26.737115048337728,
         26.658594467211515,
         26.696344734635204,
         26.88660085108131,
         26.85581772122532,
         26.71949715586379,
         26.72191254189238,
         26.580045361537486,
         26.45431535784155,
         26.839480200316757,
         26.832868952769786,
         27.068593011703342,
         26.898737390059978,
         26.859715572558343,
         26.671649591065943,
         26.905785146169364,
         26.697216575033963,
         26.608291811309755,
         26.81448939908296,
         26.63302535470575,
         26.75176017684862,
         26.838595962617546,
         26.78818572871387,
         26.823338280431926,
         26.73499396396801,
         26.673237352166325,
         26.668468638323247,
         26.8415867513977,
         26.725488579832017,
         26.856451994739473,
         26.684992427937686,
         26.91517026675865,
         26.791381602641195,
         26.62966086016968,
         26.764742869418114,
         26.6566274096258,
         26.7416129312478,
         26.64093814883381,
         26.657400674186647,
         26.93681533355266,
         26.81331280944869
        ],
        [
         4.03535931387409,
         4.018700473947443,
         4.022094723305944,
         4.019292530849422,
         4.02814708807116,
         4.003079544580301,
         4.034889230134458,
         4.020468921819646,
         3.999270010803294,
         4.025505077324354,
         4.014068074771402,
         4.016523758864808,
         4.019745200775126,
         4.011575805725521,
         4.017983444781704,
         4.02056961921507,
         4.02558665695492,
         4.0198484577938265,
         4.004632887241038,
         4.013712914748746,
         4.000230658224814,
         4.012887560508492,
         4.024153440792581,
         4.012339029221903,
         4.010997617601129,
         4.032156032402757,
         4.009835539092721,
         4.015735288031753,
         4.019191459612045,
         4.0238191999298625,
         4.039700358202887,
         4.028023820194301,
         4.025757131312136,
         4.006776188823628,
         4.008470529330344,
         4.001040540644963,
         4.0274738522790186,
         4.024595102667545,
         4.018464446149309,
         4.0384729038581115,
         4.0115670406248105,
         4.013367228513326,
         4.026793341203451,
         4.019013644415743,
         4.01945272283161,
         4.022884684513995,
         4.003861296191751,
         4.024803876804349,
         4.022756102655575,
         4.0109976293441845,
         4.025719001020176,
         4.025684971236679,
         4.02724638881503,
         4.015486117759984,
         4.016771518299491,
         4.023019386876546,
         4.028117350803988,
         4.024796220818433,
         4.023177495395138,
         4.0278276660296255,
         4.006734226699399,
         4.005191973928471,
         4.0353043875306644,
         4.018778037005819,
         4.0191275681700755,
         4.033400604177159,
         4.012082971537612,
         4.01004631433364,
         4.023014409307238,
         4.0290021797902815,
         4.033827331333978,
         4.034076314424085,
         4.0211998394925725,
         4.0177396246421475,
         4.035463715300248,
         4.037910254399986,
         4.015995296084609,
         4.022633856674278,
         4.016629949336463,
         4.02004014857154,
         4.026846721415915,
         4.019430874241913,
         4.029412286281938,
         4.008428194405746,
         4.008102447110894,
         4.009648761136905,
         4.031096305565545,
         4.022042943761561,
         4.025988991234746,
         4.018348207437709,
         4.024380471267172,
         4.029629245096443,
         4.019901605954713,
         4.01493400522746,
         4.021596077633847,
         4.037274565441141,
         4.005578645411102,
         4.019631475268295,
         4.029341515056324,
         4.024733067948658
        ]
       ],
       "encoder": "json",
       "name": "ABC_GAN_1 Metrics",
       "version": 1
      }
     },
     "metadata": {
      "scrapbook": {
       "data": true,
       "display": false,
       "name": "ABC_GAN_1 Metrics"
      }
     },
     "output_type": "display_data"
    },
    {
     "name": "stdout",
     "output_type": "stream",
     "text": [
      "MSE\n",
      "0.15846692044485877\n"
     ]
    }
   ],
   "source": [
    "ABC_GAN1_metrics=ABC_train_test2.test_generator(gen,test_data,prior_model,variance,bias,\"1\",device)\n",
    "sb.glue(\"ABC_GAN_1 Metrics\",ABC_GAN1_metrics)\n",
    "\n",
    "print(\"MSE\")\n",
    "print(mean(ABC_GAN1_metrics[0]))"
   ]
  },
  {
   "cell_type": "code",
   "execution_count": 14,
   "id": "eb22ce5c",
   "metadata": {
    "execution": {
     "iopub.execute_input": "2022-06-12T04:15:21.693128Z",
     "iopub.status.busy": "2022-06-12T04:15:21.692728Z",
     "iopub.status.idle": "2022-06-12T04:15:22.012745Z",
     "shell.execute_reply": "2022-06-12T04:15:22.013049Z"
    },
    "papermill": {
     "duration": 0.33484,
     "end_time": "2022-06-12T04:15:22.013176",
     "exception": false,
     "start_time": "2022-06-12T04:15:21.678336",
     "status": "completed"
    },
    "tags": []
   },
   "outputs": [
    {
     "data": {
      "image/png": "[encoded data removed]",
      "text/plain": [
       "<Figure size 432x288 with 1 Axes>"
      ]
     },
     "metadata": {
      "needs_background": "light"
     },
     "output_type": "display_data"
    },
    {
     "data": {
      "image/png": "[encoded data removed]",
      "text/plain": [
       "<Figure size 432x288 with 1 Axes>"
      ]
     },
     "metadata": {
      "needs_background": "light"
     },
     "output_type": "display_data"
    },
    {
     "data": {
      "image/png": "[encoded data removed]",
      "text/plain": [
       "<Figure size 432x288 with 1 Axes>"
      ]
     },
     "metadata": {
      "needs_background": "light"
     },
     "output_type": "display_data"
    },
    {
     "data": {
      "image/png": "[encoded data removed]",
      "text/plain": [
       "<Figure size 432x288 with 1 Axes>"
      ]
     },
     "metadata": {
      "needs_background": "light"
     },
     "output_type": "display_data"
    }
   ],
   "source": [
    "sanityChecks.discProbVsError(train_data,disc,device)\n",
    "sanityChecks.discProbVsError(test_data,disc,device)"
   ]
  },
  {
   "cell_type": "markdown",
   "id": "130f3a4d",
   "metadata": {
    "id": "130f3a4d",
    "papermill": {
     "duration": 0.014535,
     "end_time": "2022-06-12T04:15:22.042679",
     "exception": false,
     "start_time": "2022-06-12T04:15:22.028144",
     "status": "completed"
    },
    "tags": []
   },
   "source": [
    "# ABC - GAN Model with skip connection"
   ]
  },
  {
   "cell_type": "code",
   "execution_count": 15,
   "id": "4e43dad1",
   "metadata": {
    "execution": {
     "iopub.execute_input": "2022-06-12T04:15:22.075463Z",
     "iopub.status.busy": "2022-06-12T04:15:22.075035Z",
     "iopub.status.idle": "2022-06-12T04:15:22.077436Z",
     "shell.execute_reply": "2022-06-12T04:15:22.077671Z"
    },
    "id": "4e43dad1",
    "papermill": {
     "duration": 0.020447,
     "end_time": "2022-06-12T04:15:22.077780",
     "exception": false,
     "start_time": "2022-06-12T04:15:22.057333",
     "status": "completed"
    },
    "tags": []
   },
   "outputs": [],
   "source": [
    "#Generator\n",
    "gen3 = network.GeneratorWithSkipConnection(n_features+1).to(device)\n",
    "constraints=network.weightConstraint()\n",
    "#Discriminator \n",
    "disc3 = network.Discriminator(n_features+1).to(device)\n",
    "\n",
    "criterion = torch.nn.BCELoss()\n",
    "gen_opt = torch.optim.Adam(gen3.parameters(), lr=0.001, betas=(0.5, 0.999))\n",
    "disc_opt = torch.optim.Adam(disc3.parameters(), lr=0.001, betas=(0.5, 0.999))\n"
   ]
  },
  {
   "cell_type": "code",
   "execution_count": 16,
   "id": "26acbc37",
   "metadata": {
    "execution": {
     "iopub.execute_input": "2022-06-12T04:15:22.109115Z",
     "iopub.status.busy": "2022-06-12T04:15:22.108754Z",
     "iopub.status.idle": "2022-06-12T04:18:16.714598Z",
     "shell.execute_reply": "2022-06-12T04:18:16.714920Z"
    },
    "id": "26acbc37",
    "papermill": {
     "duration": 174.622673,
     "end_time": "2022-06-12T04:18:16.715041",
     "exception": false,
     "start_time": "2022-06-12T04:15:22.092368",
     "status": "completed"
    },
    "tags": []
   },
   "outputs": [
    {
     "data": {
      "image/png": "[encoded data removed]",
      "text/plain": [
       "<Figure size 432x288 with 1 Axes>"
      ]
     },
     "metadata": {
      "needs_background": "light"
     },
     "output_type": "display_data"
    },
    {
     "data": {
      "image/png": "[encoded data removed]",
      "text/plain": [
       "<Figure size 432x288 with 1 Axes>"
      ]
     },
     "metadata": {
      "needs_background": "light"
     },
     "output_type": "display_data"
    }
   ],
   "source": [
    "ABC_train_test2.training_GAN_skip_connection(disc3,gen3,disc_opt,gen_opt,train_data,batch_size,n_epochs,criterion,prior_model,variance,bias,device)"
   ]
  },
  {
   "cell_type": "code",
   "execution_count": 17,
   "id": "c5e0717b",
   "metadata": {
    "execution": {
     "iopub.execute_input": "2022-06-12T04:18:16.748901Z",
     "iopub.status.busy": "2022-06-12T04:18:16.748511Z",
     "iopub.status.idle": "2022-06-12T04:18:17.574728Z",
     "shell.execute_reply": "2022-06-12T04:18:17.575132Z"
    },
    "id": "c5e0717b",
    "papermill": {
     "duration": 0.844576,
     "end_time": "2022-06-12T04:18:17.575254",
     "exception": false,
     "start_time": "2022-06-12T04:18:16.730678",
     "status": "completed"
    },
    "tags": []
   },
   "outputs": [
    {
     "data": {
      "application/scrapbook.scrap.json+json": {
       "data": 0.12420182834116318,
       "encoder": "json",
       "name": "ABC-GAN Model 3 MSE",
       "version": 1
      }
     },
     "metadata": {
      "scrapbook": {
       "data": true,
       "display": false,
       "name": "ABC-GAN Model 3 MSE"
      }
     },
     "output_type": "display_data"
    },
    {
     "data": {
      "application/scrapbook.scrap.json+json": {
       "data": 0.23597750302294598,
       "encoder": "json",
       "name": "ABC-GAN Model 3 MAE",
       "version": 1
      }
     },
     "metadata": {
      "scrapbook": {
       "data": true,
       "display": false,
       "name": "ABC-GAN Model 3 MAE"
      }
     },
     "output_type": "display_data"
    },
    {
     "data": {
      "application/scrapbook.scrap.json+json": {
       "data": 24.069705308340488,
       "encoder": "json",
       "name": "ABC-GAN Model 3 Manhattan Distance",
       "version": 1
      }
     },
     "metadata": {
      "scrapbook": {
       "data": true,
       "display": false,
       "name": "ABC-GAN Model 3 Manhattan Distance"
      }
     },
     "output_type": "display_data"
    },
    {
     "data": {
      "application/scrapbook.scrap.json+json": {
       "data": 3.559281192553311,
       "encoder": "json",
       "name": "ABC-GAN Model 3 Euclidean distance",
       "version": 1
      }
     },
     "metadata": {
      "scrapbook": {
       "data": true,
       "display": false,
       "name": "ABC-GAN Model 3 Euclidean distance"
      }
     },
     "output_type": "display_data"
    },
    {
     "data": {
      "application/scrapbook.scrap.json+json": {
       "data": [
        [
         0.12403454169437084,
         0.12464141301918995,
         0.12457219603432428,
         0.12427514604265326,
         0.12404035242626464,
         0.12372899458823611,
         0.12431046242756814,
         0.12470300551275915,
         0.12522140124156117,
         0.12473787198746547,
         0.12398097982366331,
         0.12445718565442383,
         0.12453218832276824,
         0.12457623311296359,
         0.12339157554423874,
         0.12364005545206311,
         0.12436248713942491,
         0.12374864532686465,
         0.12427789439219268,
         0.12447918397074002,
         0.12427931904304935,
         0.12416281149443543,
         0.12400183527917283,
         0.12368811604707178,
         0.12450098742965464,
         0.12448014514925781,
         0.12416549957626913,
         0.12449487836307384,
         0.12332823287150407,
         0.12375545606621584,
         0.1256340672390174,
         0.12466551256015157,
         0.12588330537053066,
         0.12487241778633422,
         0.12406459947447207,
         0.12485478797051666,
         0.12404052649550328,
         0.12379345729397176,
         0.12326448454624642,
         0.12403194604658102,
         0.12348314977283889,
         0.12495293994426242,
         0.12264395374152998,
         0.12223106892066554,
         0.12284983318110698,
         0.12441292885095342,
         0.12362586095030667,
         0.12358228283602789,
         0.12354198247250091,
         0.12401225305490222,
         0.12348728283029002,
         0.12349529482245405,
         0.12440631028482844,
         0.124859611049011,
         0.12420096041387937,
         0.12474296660136615,
         0.12417662125671068,
         0.12564380546484258,
         0.12396774219996164,
         0.12279810338744399,
         0.12386925303533156,
         0.12326577993162288,
         0.12537745966213384,
         0.12492064467574583,
         0.12464499035908252,
         0.12533981456734314,
         0.12476552925570811,
         0.12443966876516128,
         0.1240011307885346,
         0.12377335086786308,
         0.12362247503841388,
         0.12281380561667991,
         0.12504658455990847,
         0.12463556118482895,
         0.1247033868639644,
         0.12561668624208494,
         0.12553112726695306,
         0.12337771762113718,
         0.12397802242287678,
         0.1234393671084164,
         0.12463165475389869,
         0.12444966995196254,
         0.12361212620563228,
         0.12240280465533046,
         0.12453711373375484,
         0.12404497426877574,
         0.12441773456730472,
         0.12452929406196925,
         0.12482536930409795,
         0.12413884182140787,
         0.12425955546873164,
         0.12382303977234295,
         0.12311080573888057,
         0.12399446380205345,
         0.12400663459676285,
         0.1249756744626192,
         0.12414205882374052,
         0.12544444082094416,
         0.12466757652914569,
         0.12421749309052263
        ],
        [
         0.2353730548958422,
         0.23587200391635882,
         0.23448923342477748,
         0.23499252744859048,
         0.23559004239117107,
         0.23428237433636598,
         0.23804848943380455,
         0.23638164349740334,
         0.23735305545486363,
         0.2365794295317256,
         0.23640275727409651,
         0.23567920641097076,
         0.23577215591007294,
         0.23730746053122714,
         0.2357562432229957,
         0.23552040166824179,
         0.23704306396893135,
         0.23566108762158774,
         0.23609095719624676,
         0.2362294103128507,
         0.23673891373818703,
         0.2365311813248577,
         0.23514197849869437,
         0.23681050300707712,
         0.2356574765735251,
         0.23797155488465055,
         0.235930295798051,
         0.2376638254534234,
         0.23365649430300384,
         0.2347348963056563,
         0.23620033230376886,
         0.2346233175793553,
         0.23845372505157308,
         0.2366760100931952,
         0.23519043678271712,
         0.23661780265141644,
         0.2367783480542986,
         0.23465273802296496,
         0.23573814298701928,
         0.23566732010530198,
         0.23648329191457698,
         0.23726199738060436,
         0.23310845720526926,
         0.23366305081392913,
         0.23614285910940347,
         0.23716473720931247,
         0.23411885337611915,
         0.23497591528347603,
         0.23657931441295088,
         0.2366931026016234,
         0.23527229207513087,
         0.2351300429607577,
         0.2352357801396911,
         0.2373386986243228,
         0.23573283963453243,
         0.23657557246841343,
         0.23680115997900858,
         0.23849464773072623,
         0.23630397718436286,
         0.2350822189987144,
         0.23462115866406,
         0.23501204826193406,
         0.2375668463589368,
         0.23663630098214045,
         0.23711745640920365,
         0.23648545199859083,
         0.23642197480498284,
         0.237371854584518,
         0.23521936315057032,
         0.23622073988229328,
         0.23580461735928468,
         0.23278051288798451,
         0.2352712656480863,
         0.23687635971160204,
         0.23717260546069227,
         0.2355983446753931,
         0.23663515914414152,
         0.23553356027011485,
         0.23513297878169254,
         0.23624021730696163,
         0.23657896847226748,
         0.2355623925561268,
         0.23637393346129387,
         0.2356964083406709,
         0.2372871994807878,
         0.23642665435395696,
         0.23647954690215342,
         0.23635763042222926,
         0.23641459960673078,
         0.23584173907361486,
         0.23511903246353363,
         0.23322416340713115,
         0.23590363236144185,
         0.23522736784983792,
         0.23426500790953345,
         0.23659976348098294,
         0.23499900507101534,
         0.23727188123317033,
         0.23584724373786764,
         0.23653661469728046
        ],
        [
         24.008051599375904,
         24.0589443994686,
         23.917901809327304,
         23.96923779975623,
         24.030184323899448,
         23.89680218230933,
         24.280945922248065,
         24.11092763673514,
         24.21001165639609,
         24.13110181223601,
         24.113081241957843,
         24.039279053919017,
         24.04875990282744,
         24.20536097418517,
         24.047136808745563,
         24.023080970160663,
         24.178392524830997,
         24.03743093740195,
         24.08127763401717,
         24.09539985191077,
         24.147369201295078,
         24.126180495135486,
         23.984481806866825,
         24.154671306721866,
         24.03706261049956,
         24.273098598234355,
         24.064890171401203,
         24.241710196249187,
         23.83296241890639,
         23.942959423176944,
         24.092433894984424,
         23.93157839309424,
         24.322279955260456,
         24.14095302950591,
         23.989424551837146,
         24.135015870444477,
         24.151391501538455,
         23.934579278342426,
         24.045290584675968,
         24.038066650740802,
         24.121295775286853,
         24.200723732821643,
         23.777062634937465,
         23.83363118302077,
         24.086571629159153,
         24.190803195349872,
         23.880123044364154,
         23.967543358914554,
         24.13109007012099,
         24.14269646536559,
         23.99777379166335,
         23.983264381997287,
         23.994049574248493,
         24.208547259680927,
         24.04474964272231,
         24.13070839177817,
         24.153718317858875,
         24.326454068534076,
         24.10300567280501,
         23.97838633786887,
         23.93135818373412,
         23.971228922717273,
         24.231818328611553,
         24.136902700178325,
         24.185980553738773,
         24.121516103856266,
         24.11504143010825,
         24.211929167620838,
         23.992375041358173,
         24.094515467993915,
         24.052070970647037,
         23.74361231457442,
         23.9976690961048,
         24.161388690583408,
         24.19160575699061,
         24.031031156890094,
         24.136786232702434,
         24.024423147551715,
         23.98356383573264,
         24.096502165310085,
         24.131054784171283,
         24.027364040724933,
         24.110141213051975,
         24.04103365074843,
         24.203294347040355,
         24.11551874410361,
         24.12091378401965,
         24.108478303067386,
         24.11428915988654,
         24.055857385508716,
         23.98214131128043,
         23.788864667527378,
         24.06217050086707,
         23.993191520683467,
         23.89503080677241,
         24.13317587506026,
         23.969898517243564,
         24.201731885783374,
         24.0564188612625,
         24.126734699122608
        ],
        [
         3.556897981784947,
         3.5655888893641916,
         3.5645987145120666,
         3.560346176476472,
         3.556981297038121,
         3.552514243180467,
         3.5608520283229894,
         3.5664697618655663,
         3.5738750575026033,
         3.566968312547992,
         3.5561299107335285,
         3.5629528395350993,
         3.564026263781225,
         3.564656473984875,
         3.547666938357144,
         3.5512372007668596,
         3.561597069886112,
         3.5527963385677195,
         3.5603855448537662,
         3.563267708861556,
         3.560405951909281,
         3.5587366820871162,
         3.5564289952810286,
         3.551927341148932,
         3.5635797616757188,
         3.563281465899698,
         3.5587752045864667,
         3.563492330991261,
         3.5467562296968507,
         3.5528941046355453,
         3.5797590503244447,
         3.5659335777795214,
         3.5833081290609274,
         3.568891510568245,
         3.5573289342421157,
         3.5686395689383787,
         3.5569837928420944,
         3.553439551193339,
         3.545839452614449,
         3.5568607643189045,
         3.548983132790232,
         3.5700419989567025,
         3.536903063647074,
         3.5309444954442264,
         3.5398704756633275,
         3.5623192926515235,
         3.551033344947817,
         3.5504074201807945,
         3.5498284764471495,
         3.5565783854148387,
         3.549042525624282,
         3.549157656668736,
         3.562224536585601,
         3.568708495660456,
         3.559283349526376,
         3.567041153861186,
         3.5589345832965917,
         3.5798977858891363,
         3.555940059168052,
         3.539125110181793,
         3.554527227298142,
         3.545858084163202,
         3.5761013528055448,
         3.5695806135911923,
         3.5656400570762075,
         3.5755644429752627,
         3.5673637302750922,
         3.562702094484809,
         3.55641889271083,
         3.5531509661879035,
         3.5509847160918926,
         3.5393513774279817,
         3.5713795128928347,
         3.565505187326552,
         3.5664752151282877,
         3.579511418712429,
         3.5782921877942293,
         3.5474677161823456,
         3.55608749711441,
         3.5483539063992016,
         3.565449310381185,
         3.562845258371486,
         3.5508360808370885,
         3.533424128921365,
         3.564096744035295,
         3.557047564401567,
         3.562388093100621,
         3.563984847655902,
         3.5682191172933857,
         3.558393157842961,
         3.5601228430786804,
         3.553864102182155,
         3.543628392674071,
         3.5563232850529,
         3.5564978179200124,
         3.570366759198158,
         3.5584392646245253,
         3.5770564663891316,
         3.565963096552298,
         3.5595202338564267
        ]
       ],
       "encoder": "json",
       "name": "ABC_GAN_3 Metrics",
       "version": 1
      }
     },
     "metadata": {
      "scrapbook": {
       "data": true,
       "display": false,
       "name": "ABC_GAN_3 Metrics"
      }
     },
     "output_type": "display_data"
    },
    {
     "name": "stdout",
     "output_type": "stream",
     "text": [
      "MSE\n",
      "0.12420182834116318\n"
     ]
    }
   ],
   "source": [
    "ABC_GAN3_metrics=ABC_train_test2.test_generator(gen3,test_data,prior_model,variance,bias,\"3\",device)\n",
    "sb.glue(\"ABC_GAN_3 Metrics\",ABC_GAN3_metrics)\n",
    "\n",
    "print(\"MSE\")\n",
    "print(mean(ABC_GAN3_metrics[0]))"
   ]
  },
  {
   "cell_type": "code",
   "execution_count": 18,
   "id": "c8e46b48",
   "metadata": {
    "execution": {
     "iopub.execute_input": "2022-06-12T04:18:17.612003Z",
     "iopub.status.busy": "2022-06-12T04:18:17.611637Z",
     "iopub.status.idle": "2022-06-12T04:18:17.931268Z",
     "shell.execute_reply": "2022-06-12T04:18:17.931567Z"
    },
    "id": "c8e46b48",
    "papermill": {
     "duration": 0.339179,
     "end_time": "2022-06-12T04:18:17.931688",
     "exception": false,
     "start_time": "2022-06-12T04:18:17.592509",
     "status": "completed"
    },
    "tags": []
   },
   "outputs": [
    {
     "data": {
      "image/png": "[encoded data removed]",
      "text/plain": [
       "<Figure size 432x288 with 1 Axes>"
      ]
     },
     "metadata": {
      "needs_background": "light"
     },
     "output_type": "display_data"
    },
    {
     "data": {
      "image/png": "[encoded data removed]",
      "text/plain": [
       "<Figure size 432x288 with 1 Axes>"
      ]
     },
     "metadata": {
      "needs_background": "light"
     },
     "output_type": "display_data"
    },
    {
     "data": {
      "image/png": "[encoded data removed]",
      "text/plain": [
       "<Figure size 432x288 with 1 Axes>"
      ]
     },
     "metadata": {
      "needs_background": "light"
     },
     "output_type": "display_data"
    },
    {
     "data": {
      "image/png": "[encoded data removed]",
      "text/plain": [
       "<Figure size 432x288 with 1 Axes>"
      ]
     },
     "metadata": {
      "needs_background": "light"
     },
     "output_type": "display_data"
    }
   ],
   "source": [
    "sanityChecks.discProbVsError(train_data,disc3,device)\n",
    "sanityChecks.discProbVsError(test_data,disc3,device)"
   ]
  },
  {
   "cell_type": "markdown",
   "id": "a5bd74c3",
   "metadata": {
    "id": "a5bd74c3",
    "papermill": {
     "duration": 0.019314,
     "end_time": "2022-06-12T04:18:17.970686",
     "exception": false,
     "start_time": "2022-06-12T04:18:17.951372",
     "status": "completed"
    },
    "tags": []
   },
   "source": [
    "## Skip Connection Model Analysis - ABC-GAN "
   ]
  },
  {
   "cell_type": "markdown",
   "id": "5744a8bf",
   "metadata": {
    "id": "5744a8bf",
    "papermill": {
     "duration": 0.019147,
     "end_time": "2022-06-12T04:18:18.008938",
     "exception": false,
     "start_time": "2022-06-12T04:18:17.989791",
     "status": "completed"
    },
    "tags": []
   },
   "source": [
    "### Weight Analysis \n",
    "\n",
    "Study the weights of the skip connection layer\n",
    "\n",
    "Equation of the skip connection is \n",
    "\n",
    "$output = y_{gan} * w + y_{abc} * (1-w)$"
   ]
  },
  {
   "cell_type": "code",
   "execution_count": 19,
   "id": "52c31dea",
   "metadata": {
    "execution": {
     "iopub.execute_input": "2022-06-12T04:18:18.052428Z",
     "iopub.status.busy": "2022-06-12T04:18:18.051906Z",
     "iopub.status.idle": "2022-06-12T04:18:18.055375Z",
     "shell.execute_reply": "2022-06-12T04:18:18.055616Z"
    },
    "id": "52c31dea",
    "papermill": {
     "duration": 0.026707,
     "end_time": "2022-06-12T04:18:18.055735",
     "exception": false,
     "start_time": "2022-06-12T04:18:18.029028",
     "status": "completed"
    },
    "tags": []
   },
   "outputs": [
    {
     "name": "stdout",
     "output_type": "stream",
     "text": [
      "Weight of the node at skip connection\n",
      "Parameter containing:\n",
      "tensor([[0.1535]], requires_grad=True)\n"
     ]
    },
    {
     "data": {
      "application/scrapbook.scrap.json+json": {
       "data": 0.15345025062561035,
       "encoder": "json",
       "name": "Skip Connection Weight",
       "version": 1
      }
     },
     "metadata": {
      "scrapbook": {
       "data": true,
       "display": false,
       "name": "Skip Connection Weight"
      }
     },
     "output_type": "display_data"
    }
   ],
   "source": [
    "print(\"Weight of the node at skip connection\")\n",
    "for name,param in gen3.named_parameters():\n",
    "    if(name == \"skipNode.weight\"):\n",
    "        print(param)\n",
    "        sb.glue(\"Skip Connection Weight\",param.item())"
   ]
  }
 ],
 "metadata": {
  "colab": {
   "collapsed_sections": [],
   "name": "ABC_GAN_Model-Catboost_Pre-gen.ipynb",
   "provenance": []
  },
  "interpreter": {
   "hash": "31f2aee4e71d21fbe5cf8b01ff0e069b9275f58929596ceb00d14d90e3e16cd6"
  },
  "kernelspec": {
   "display_name": "Python 3 (ipykernel)",
   "language": "python",
   "name": "python3"
  },
  "language_info": {
   "codemirror_mode": {
    "name": "ipython",
    "version": 3
   },
   "file_extension": ".py",
   "mimetype": "text/x-python",
   "name": "python",
   "nbconvert_exporter": "python",
   "pygments_lexer": "ipython3",
   "version": "3.8.11"
  },
  "papermill": {
   "default_parameters": {},
   "duration": 2210.894434,
   "end_time": "2022-06-12T04:18:18.382820",
   "environment_variables": {},
   "exception": null,
   "input_path": "ABC_GAN-Catboost.ipynb",
   "output_path": "./ABC_GAN_Catboost/ABC-GAN_output_4_2.ipynb",
   "parameters": {
    "bias": 1,
    "variance": 0.01
   },
   "start_time": "2022-06-12T03:41:27.488386",
   "version": "2.3.3"
  }
 },
 "nbformat": 4,
 "nbformat_minor": 5
}