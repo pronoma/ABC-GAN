{
 "cells": [
  {
   "cell_type": "markdown",
   "id": "622780e6",
   "metadata": {
    "id": "622780e6",
    "papermill": {
     "duration": 0.020987,
     "end_time": "2022-06-11T15:17:49.333422",
     "exception": false,
     "start_time": "2022-06-11T15:17:49.312435",
     "status": "completed"
    },
    "tags": []
   },
   "source": [
    "## Import Libraries "
   ]
  },
  {
   "cell_type": "code",
   "execution_count": 1,
   "id": "a62397e3",
   "metadata": {
    "execution": {
     "iopub.execute_input": "2022-06-11T15:17:49.367948Z",
     "iopub.status.busy": "2022-06-11T15:17:49.367350Z",
     "iopub.status.idle": "2022-06-11T15:17:49.369664Z",
     "shell.execute_reply": "2022-06-11T15:17:49.370063Z"
    },
    "id": "a62397e3",
    "papermill": {
     "duration": 0.022191,
     "end_time": "2022-06-11T15:17:49.370286",
     "exception": false,
     "start_time": "2022-06-11T15:17:49.348095",
     "status": "completed"
    },
    "tags": []
   },
   "outputs": [],
   "source": [
    "import warnings\n",
    "import sys\n",
    "sys.path.insert(0, '../../src')\n",
    "warnings.filterwarnings('ignore')"
   ]
  },
  {
   "cell_type": "code",
   "execution_count": 2,
   "id": "d6a4e155",
   "metadata": {
    "execution": {
     "iopub.execute_input": "2022-06-11T15:17:49.390975Z",
     "iopub.status.busy": "2022-06-11T15:17:49.390561Z",
     "iopub.status.idle": "2022-06-11T15:17:51.167738Z",
     "shell.execute_reply": "2022-06-11T15:17:51.167997Z"
    },
    "id": "d6a4e155",
    "papermill": {
     "duration": 1.788442,
     "end_time": "2022-06-11T15:17:51.168121",
     "exception": false,
     "start_time": "2022-06-11T15:17:49.379679",
     "status": "completed"
    },
    "tags": []
   },
   "outputs": [],
   "source": [
    "import ABC_train_test2\n",
    "import bostonDataset\n",
    "import network\n",
    "import dataset\n",
    "import sanityChecks\n",
    "import torch \n",
    "import scrapbook as sb\n",
    "from statistics import mean \n",
    "import catboost as ctb \n",
    "from sklearn.model_selection import train_test_split\n",
    "from sklearn.metrics import mean_squared_error,mean_absolute_error\n",
    "import numpy as np"
   ]
  },
  {
   "cell_type": "markdown",
   "id": "2fa5b0f7",
   "metadata": {
    "id": "2fa5b0f7",
    "papermill": {
     "duration": 0.007241,
     "end_time": "2022-06-11T15:17:51.182510",
     "exception": false,
     "start_time": "2022-06-11T15:17:51.175269",
     "status": "completed"
    },
    "tags": []
   },
   "source": [
    "## Parameters "
   ]
  },
  {
   "cell_type": "code",
   "execution_count": 3,
   "id": "783186fb",
   "metadata": {
    "execution": {
     "iopub.execute_input": "2022-06-11T15:17:51.198420Z",
     "iopub.status.busy": "2022-06-11T15:17:51.198053Z",
     "iopub.status.idle": "2022-06-11T15:17:51.199311Z",
     "shell.execute_reply": "2022-06-11T15:17:51.199565Z"
    },
    "id": "783186fb",
    "papermill": {
     "duration": 0.010377,
     "end_time": "2022-06-11T15:17:51.199684",
     "exception": false,
     "start_time": "2022-06-11T15:17:51.189307",
     "status": "completed"
    },
    "tags": [
     "parameters"
    ]
   },
   "outputs": [],
   "source": [
    "variance = 1\n",
    "bias = 1 "
   ]
  },
  {
   "cell_type": "code",
   "execution_count": 4,
   "id": "16d282a3",
   "metadata": {
    "execution": {
     "iopub.execute_input": "2022-06-11T15:17:51.215429Z",
     "iopub.status.busy": "2022-06-11T15:17:51.215089Z",
     "iopub.status.idle": "2022-06-11T15:17:51.216415Z",
     "shell.execute_reply": "2022-06-11T15:17:51.216665Z"
    },
    "papermill": {
     "duration": 0.010103,
     "end_time": "2022-06-11T15:17:51.216773",
     "exception": false,
     "start_time": "2022-06-11T15:17:51.206670",
     "status": "completed"
    },
    "tags": [
     "injected-parameters"
    ]
   },
   "outputs": [],
   "source": [
    "# Parameters\n",
    "variance = 1\n",
    "bias = 0.01\n"
   ]
  },
  {
   "cell_type": "markdown",
   "id": "391cdbfd",
   "metadata": {
    "id": "391cdbfd",
    "papermill": {
     "duration": 0.006794,
     "end_time": "2022-06-11T15:17:51.230453",
     "exception": false,
     "start_time": "2022-06-11T15:17:51.223659",
     "status": "completed"
    },
    "tags": []
   },
   "source": [
    "## Dataset \n"
   ]
  },
  {
   "cell_type": "code",
   "execution_count": 5,
   "id": "5b51f161",
   "metadata": {
    "execution": {
     "iopub.execute_input": "2022-06-11T15:17:51.245968Z",
     "iopub.status.busy": "2022-06-11T15:17:51.245607Z",
     "iopub.status.idle": "2022-06-11T15:17:51.246837Z",
     "shell.execute_reply": "2022-06-11T15:17:51.247073Z"
    },
    "id": "5b51f161",
    "papermill": {
     "duration": 0.009889,
     "end_time": "2022-06-11T15:17:51.247179",
     "exception": false,
     "start_time": "2022-06-11T15:17:51.237290",
     "status": "completed"
    },
    "tags": []
   },
   "outputs": [],
   "source": [
    "#Parameters \n",
    "n_features = 13\n",
    "n_samples= 506\n",
    "n_target = 1 "
   ]
  },
  {
   "cell_type": "code",
   "execution_count": 6,
   "id": "5d6eced4",
   "metadata": {
    "execution": {
     "iopub.execute_input": "2022-06-11T15:17:51.263114Z",
     "iopub.status.busy": "2022-06-11T15:17:51.262751Z",
     "iopub.status.idle": "2022-06-11T15:17:51.273413Z",
     "shell.execute_reply": "2022-06-11T15:17:51.273651Z"
    },
    "id": "5d6eced4",
    "papermill": {
     "duration": 0.019578,
     "end_time": "2022-06-11T15:17:51.273758",
     "exception": false,
     "start_time": "2022-06-11T15:17:51.254180",
     "status": "completed"
    },
    "tags": []
   },
   "outputs": [
    {
     "name": "stdout",
     "output_type": "stream",
     "text": [
      "         X1        X2        X3        X4        X5        X6        X7  \\\n",
      "0 -0.419782  0.284830 -1.287909 -0.272599 -0.144217  0.413672 -0.120013   \n",
      "1 -0.417339 -0.487722 -0.593381 -0.272599 -0.740262  0.194274  0.367166   \n",
      "2 -0.417342 -0.487722 -0.593381 -0.272599 -0.740262  1.282714 -0.265812   \n",
      "3 -0.416750 -0.487722 -1.306878 -0.272599 -0.835284  1.016303 -0.809889   \n",
      "4 -0.412482 -0.487722 -1.306878 -0.272599 -0.835284  1.228577 -0.511180   \n",
      "\n",
      "         X8        X9       X10       X11       X12       X13         Y  \n",
      "0  0.140214 -0.982843 -0.666608 -1.459000  0.441052 -1.075562  0.159686  \n",
      "1  0.557160 -0.867883 -0.987329 -0.303094  0.441052 -0.492439 -0.101524  \n",
      "2  0.557160 -0.867883 -0.987329 -0.303094  0.396427 -1.208727  1.324247  \n",
      "3  1.077737 -0.752922 -1.106115  0.113032  0.416163 -1.361517  1.182758  \n",
      "4  1.077737 -0.752922 -1.106115  0.113032  0.441052 -1.026501  1.487503  \n"
     ]
    }
   ],
   "source": [
    "X,Y = bostonDataset.boston_data()"
   ]
  },
  {
   "cell_type": "code",
   "execution_count": 7,
   "id": "fe007438",
   "metadata": {
    "execution": {
     "iopub.execute_input": "2022-06-11T15:17:51.291516Z",
     "iopub.status.busy": "2022-06-11T15:17:51.291133Z",
     "iopub.status.idle": "2022-06-11T15:17:51.292645Z",
     "shell.execute_reply": "2022-06-11T15:17:51.292874Z"
    },
    "id": "fe007438",
    "papermill": {
     "duration": 0.011877,
     "end_time": "2022-06-11T15:17:51.292982",
     "exception": false,
     "start_time": "2022-06-11T15:17:51.281105",
     "status": "completed"
    },
    "tags": []
   },
   "outputs": [],
   "source": [
    "#Train test split for dataset \n",
    "X_train,X_test,Y_train,Y_test = train_test_split(X,Y,test_size = 0.2)\n",
    "train_data = dataset.CustomDataset(X_train,Y_train)\n",
    "test_data = dataset.CustomDataset(X_test,Y_test)\n"
   ]
  },
  {
   "cell_type": "markdown",
   "id": "a9a1af34",
   "metadata": {
    "id": "a9a1af34",
    "papermill": {
     "duration": 0.007086,
     "end_time": "2022-06-11T15:17:51.307483",
     "exception": false,
     "start_time": "2022-06-11T15:17:51.300397",
     "status": "completed"
    },
    "tags": []
   },
   "source": [
    "## Training Parameters "
   ]
  },
  {
   "cell_type": "code",
   "execution_count": 8,
   "id": "952b7fc8",
   "metadata": {
    "execution": {
     "iopub.execute_input": "2022-06-11T15:17:51.324199Z",
     "iopub.status.busy": "2022-06-11T15:17:51.323831Z",
     "iopub.status.idle": "2022-06-11T15:17:51.325057Z",
     "shell.execute_reply": "2022-06-11T15:17:51.325328Z"
    },
    "id": "952b7fc8",
    "papermill": {
     "duration": 0.010812,
     "end_time": "2022-06-11T15:17:51.325438",
     "exception": false,
     "start_time": "2022-06-11T15:17:51.314626",
     "status": "completed"
    },
    "tags": []
   },
   "outputs": [],
   "source": [
    "batch_size = 32\n",
    "n_epochs = 1000\n",
    "#Select the device \n",
    "device = torch.device('cuda' if torch.cuda.is_available() else 'cpu')"
   ]
  },
  {
   "cell_type": "markdown",
   "id": "a95e1600",
   "metadata": {
    "id": "a95e1600",
    "papermill": {
     "duration": 0.007059,
     "end_time": "2022-06-11T15:17:51.339736",
     "exception": false,
     "start_time": "2022-06-11T15:17:51.332677",
     "status": "completed"
    },
    "tags": []
   },
   "source": [
    "# ABC Pre-generator Model \n",
    "\n",
    "1. The catboost model is used as a pre-generator model for the ABC-GAN. \n",
    "2. The model is first trained on the entire dataset \n",
    "3. It generats X,Y pairs and we add some Gaussian noise with mean 0 and variance 1 to it which is then feed as input to the generator.\n"
   ]
  },
  {
   "cell_type": "code",
   "execution_count": 9,
   "id": "ff8ce7bd",
   "metadata": {
    "execution": {
     "iopub.execute_input": "2022-06-11T15:17:51.358711Z",
     "iopub.status.busy": "2022-06-11T15:17:51.358271Z",
     "iopub.status.idle": "2022-06-11T15:17:52.327039Z",
     "shell.execute_reply": "2022-06-11T15:17:52.327327Z"
    },
    "id": "ff8ce7bd",
    "papermill": {
     "duration": 0.980576,
     "end_time": "2022-06-11T15:17:52.327451",
     "exception": false,
     "start_time": "2022-06-11T15:17:51.346875",
     "status": "completed"
    },
    "tags": []
   },
   "outputs": [
    {
     "name": "stdout",
     "output_type": "stream",
     "text": [
      "Learning rate set to 0.033215\n",
      "0:\tlearn: 0.9759516\ttotal: 57.9ms\tremaining: 57.9s\n",
      "1:\tlearn: 0.9575807\ttotal: 58.9ms\tremaining: 29.4s\n",
      "2:\tlearn: 0.9386428\ttotal: 60ms\tremaining: 19.9s\n",
      "3:\tlearn: 0.9221364\ttotal: 61ms\tremaining: 15.2s\n",
      "4:\tlearn: 0.9035286\ttotal: 62ms\tremaining: 12.3s\n",
      "5:\tlearn: 0.8870842\ttotal: 63ms\tremaining: 10.4s\n",
      "6:\tlearn: 0.8712316\ttotal: 64ms\tremaining: 9.08s\n",
      "7:\tlearn: 0.8534283\ttotal: 65ms\tremaining: 8.06s\n",
      "8:\tlearn: 0.8386805\ttotal: 65.9ms\tremaining: 7.26s\n",
      "9:\tlearn: 0.8217993\ttotal: 66.9ms\tremaining: 6.62s\n",
      "10:\tlearn: 0.8101678\ttotal: 67.8ms\tremaining: 6.09s\n",
      "11:\tlearn: 0.7954646\ttotal: 68.6ms\tremaining: 5.65s\n",
      "12:\tlearn: 0.7813236\ttotal: 69.5ms\tremaining: 5.27s\n",
      "13:\tlearn: 0.7661838\ttotal: 70.3ms\tremaining: 4.95s\n",
      "14:\tlearn: 0.7546347\ttotal: 71.1ms\tremaining: 4.67s\n",
      "15:\tlearn: 0.7416746\ttotal: 72ms\tremaining: 4.43s\n",
      "16:\tlearn: 0.7292519\ttotal: 73ms\tremaining: 4.22s\n",
      "17:\tlearn: 0.7172560\ttotal: 73.9ms\tremaining: 4.03s\n",
      "18:\tlearn: 0.7052335\ttotal: 74.8ms\tremaining: 3.86s\n",
      "19:\tlearn: 0.6946460\ttotal: 75.5ms\tremaining: 3.7s\n",
      "20:\tlearn: 0.6813961\ttotal: 76.4ms\tremaining: 3.56s\n",
      "21:\tlearn: 0.6711225\ttotal: 77.1ms\tremaining: 3.43s\n",
      "22:\tlearn: 0.6601406\ttotal: 77.8ms\tremaining: 3.31s\n",
      "23:\tlearn: 0.6508920\ttotal: 78.5ms\tremaining: 3.19s\n",
      "24:\tlearn: 0.6415025\ttotal: 79.4ms\tremaining: 3.1s\n",
      "25:\tlearn: 0.6313250\ttotal: 80.2ms\tremaining: 3s\n",
      "26:\tlearn: 0.6232965\ttotal: 80.9ms\tremaining: 2.92s\n",
      "27:\tlearn: 0.6141915\ttotal: 81.5ms\tremaining: 2.83s\n",
      "28:\tlearn: 0.6052834\ttotal: 82.2ms\tremaining: 2.75s\n",
      "29:\tlearn: 0.5957946\ttotal: 83ms\tremaining: 2.68s\n",
      "30:\tlearn: 0.5876368\ttotal: 83.8ms\tremaining: 2.62s\n",
      "31:\tlearn: 0.5792783\ttotal: 84.5ms\tremaining: 2.56s\n",
      "32:\tlearn: 0.5719078\ttotal: 85.3ms\tremaining: 2.5s\n",
      "33:\tlearn: 0.5648108\ttotal: 86.2ms\tremaining: 2.45s\n",
      "34:\tlearn: 0.5571404\ttotal: 87ms\tremaining: 2.4s\n",
      "35:\tlearn: 0.5499885\ttotal: 87.8ms\tremaining: 2.35s\n",
      "36:\tlearn: 0.5435300\ttotal: 88.3ms\tremaining: 2.3s\n",
      "37:\tlearn: 0.5360923\ttotal: 89.2ms\tremaining: 2.26s\n",
      "38:\tlearn: 0.5304329\ttotal: 90ms\tremaining: 2.22s\n",
      "39:\tlearn: 0.5241278\ttotal: 90.9ms\tremaining: 2.18s\n",
      "40:\tlearn: 0.5171003\ttotal: 91.6ms\tremaining: 2.14s\n",
      "41:\tlearn: 0.5100852\ttotal: 92.4ms\tremaining: 2.11s\n",
      "42:\tlearn: 0.5045888\ttotal: 93.3ms\tremaining: 2.08s\n",
      "43:\tlearn: 0.4988726\ttotal: 94.1ms\tremaining: 2.04s\n",
      "44:\tlearn: 0.4934363\ttotal: 94.8ms\tremaining: 2.01s\n",
      "45:\tlearn: 0.4881238\ttotal: 95.5ms\tremaining: 1.98s\n",
      "46:\tlearn: 0.4830843\ttotal: 96.2ms\tremaining: 1.95s\n",
      "47:\tlearn: 0.4780368\ttotal: 96.9ms\tremaining: 1.92s\n",
      "48:\tlearn: 0.4727486\ttotal: 97.6ms\tremaining: 1.89s\n",
      "49:\tlearn: 0.4685618\ttotal: 98.4ms\tremaining: 1.87s\n",
      "50:\tlearn: 0.4631383\ttotal: 99.2ms\tremaining: 1.85s\n",
      "51:\tlearn: 0.4575673\ttotal: 100ms\tremaining: 1.82s\n",
      "52:\tlearn: 0.4536751\ttotal: 101ms\tremaining: 1.8s\n",
      "53:\tlearn: 0.4493445\ttotal: 101ms\tremaining: 1.78s\n",
      "54:\tlearn: 0.4448859\ttotal: 102ms\tremaining: 1.75s\n",
      "55:\tlearn: 0.4408921\ttotal: 103ms\tremaining: 1.73s\n",
      "56:\tlearn: 0.4360275\ttotal: 104ms\tremaining: 1.71s\n",
      "57:\tlearn: 0.4315109\ttotal: 104ms\tremaining: 1.7s\n",
      "58:\tlearn: 0.4284632\ttotal: 105ms\tremaining: 1.68s\n",
      "59:\tlearn: 0.4243343\ttotal: 106ms\tremaining: 1.66s\n"
     ]
    },
    {
     "name": "stdout",
     "output_type": "stream",
     "text": [
      "60:\tlearn: 0.4211939\ttotal: 107ms\tremaining: 1.64s\n",
      "61:\tlearn: 0.4173246\ttotal: 108ms\tremaining: 1.63s\n",
      "62:\tlearn: 0.4131067\ttotal: 109ms\tremaining: 1.61s\n",
      "63:\tlearn: 0.4087220\ttotal: 109ms\tremaining: 1.6s\n",
      "64:\tlearn: 0.4046039\ttotal: 110ms\tremaining: 1.58s\n",
      "65:\tlearn: 0.4016063\ttotal: 111ms\tremaining: 1.57s\n",
      "66:\tlearn: 0.3992799\ttotal: 112ms\tremaining: 1.56s\n",
      "67:\tlearn: 0.3957885\ttotal: 113ms\tremaining: 1.54s\n",
      "68:\tlearn: 0.3927424\ttotal: 113ms\tremaining: 1.53s\n",
      "69:\tlearn: 0.3896071\ttotal: 114ms\tremaining: 1.52s\n",
      "70:\tlearn: 0.3872362\ttotal: 115ms\tremaining: 1.51s\n",
      "71:\tlearn: 0.3846888\ttotal: 116ms\tremaining: 1.5s\n",
      "72:\tlearn: 0.3821869\ttotal: 117ms\tremaining: 1.48s\n",
      "73:\tlearn: 0.3794791\ttotal: 117ms\tremaining: 1.47s\n",
      "74:\tlearn: 0.3762849\ttotal: 118ms\tremaining: 1.46s\n",
      "75:\tlearn: 0.3738062\ttotal: 119ms\tremaining: 1.45s\n",
      "76:\tlearn: 0.3717293\ttotal: 120ms\tremaining: 1.44s\n",
      "77:\tlearn: 0.3695718\ttotal: 121ms\tremaining: 1.43s\n",
      "78:\tlearn: 0.3673674\ttotal: 122ms\tremaining: 1.42s\n",
      "79:\tlearn: 0.3644632\ttotal: 123ms\tremaining: 1.41s\n",
      "80:\tlearn: 0.3616913\ttotal: 123ms\tremaining: 1.4s\n",
      "81:\tlearn: 0.3591736\ttotal: 124ms\tremaining: 1.39s\n",
      "82:\tlearn: 0.3572684\ttotal: 125ms\tremaining: 1.38s\n",
      "83:\tlearn: 0.3552006\ttotal: 126ms\tremaining: 1.37s\n",
      "84:\tlearn: 0.3535414\ttotal: 127ms\tremaining: 1.36s\n",
      "85:\tlearn: 0.3517487\ttotal: 127ms\tremaining: 1.35s\n",
      "86:\tlearn: 0.3497641\ttotal: 128ms\tremaining: 1.34s\n",
      "87:\tlearn: 0.3471028\ttotal: 129ms\tremaining: 1.34s\n",
      "88:\tlearn: 0.3448568\ttotal: 130ms\tremaining: 1.33s\n",
      "89:\tlearn: 0.3428766\ttotal: 131ms\tremaining: 1.32s\n",
      "90:\tlearn: 0.3406787\ttotal: 132ms\tremaining: 1.31s\n",
      "91:\tlearn: 0.3390298\ttotal: 132ms\tremaining: 1.31s\n",
      "92:\tlearn: 0.3368352\ttotal: 133ms\tremaining: 1.3s\n",
      "93:\tlearn: 0.3346447\ttotal: 134ms\tremaining: 1.29s\n",
      "94:\tlearn: 0.3324455\ttotal: 135ms\tremaining: 1.28s\n",
      "95:\tlearn: 0.3308932\ttotal: 136ms\tremaining: 1.28s\n",
      "96:\tlearn: 0.3293572\ttotal: 137ms\tremaining: 1.27s\n",
      "97:\tlearn: 0.3276228\ttotal: 137ms\tremaining: 1.26s\n",
      "98:\tlearn: 0.3264074\ttotal: 138ms\tremaining: 1.26s\n",
      "99:\tlearn: 0.3244708\ttotal: 139ms\tremaining: 1.25s\n",
      "100:\tlearn: 0.3232126\ttotal: 140ms\tremaining: 1.24s\n",
      "101:\tlearn: 0.3214237\ttotal: 141ms\tremaining: 1.24s\n",
      "102:\tlearn: 0.3199221\ttotal: 142ms\tremaining: 1.23s\n",
      "103:\tlearn: 0.3187813\ttotal: 142ms\tremaining: 1.23s\n",
      "104:\tlearn: 0.3174357\ttotal: 143ms\tremaining: 1.22s\n",
      "105:\tlearn: 0.3157914\ttotal: 144ms\tremaining: 1.22s\n",
      "106:\tlearn: 0.3140915\ttotal: 145ms\tremaining: 1.21s\n",
      "107:\tlearn: 0.3125679\ttotal: 146ms\tremaining: 1.21s\n",
      "108:\tlearn: 0.3106827\ttotal: 147ms\tremaining: 1.2s\n",
      "109:\tlearn: 0.3098886\ttotal: 148ms\tremaining: 1.19s\n",
      "110:\tlearn: 0.3084476\ttotal: 148ms\tremaining: 1.19s\n",
      "111:\tlearn: 0.3074448\ttotal: 149ms\tremaining: 1.18s\n",
      "112:\tlearn: 0.3058322\ttotal: 150ms\tremaining: 1.18s\n",
      "113:\tlearn: 0.3041046\ttotal: 151ms\tremaining: 1.17s\n",
      "114:\tlearn: 0.3029306\ttotal: 152ms\tremaining: 1.17s\n",
      "115:\tlearn: 0.3011868\ttotal: 153ms\tremaining: 1.16s\n",
      "116:\tlearn: 0.2994771\ttotal: 154ms\tremaining: 1.16s\n",
      "117:\tlearn: 0.2980161\ttotal: 154ms\tremaining: 1.15s\n",
      "118:\tlearn: 0.2968614\ttotal: 155ms\tremaining: 1.15s\n",
      "119:\tlearn: 0.2958548\ttotal: 156ms\tremaining: 1.14s\n",
      "120:\tlearn: 0.2944470\ttotal: 157ms\tremaining: 1.14s\n",
      "121:\tlearn: 0.2933638\ttotal: 158ms\tremaining: 1.14s\n",
      "122:\tlearn: 0.2924069\ttotal: 159ms\tremaining: 1.13s\n",
      "123:\tlearn: 0.2912012\ttotal: 160ms\tremaining: 1.13s\n",
      "124:\tlearn: 0.2900152\ttotal: 161ms\tremaining: 1.12s\n",
      "125:\tlearn: 0.2889146\ttotal: 162ms\tremaining: 1.12s\n",
      "126:\tlearn: 0.2870536\ttotal: 162ms\tremaining: 1.12s\n",
      "127:\tlearn: 0.2856748\ttotal: 163ms\tremaining: 1.11s\n",
      "128:\tlearn: 0.2845271\ttotal: 164ms\tremaining: 1.11s\n",
      "129:\tlearn: 0.2834153\ttotal: 165ms\tremaining: 1.1s\n",
      "130:\tlearn: 0.2822542\ttotal: 166ms\tremaining: 1.1s\n",
      "131:\tlearn: 0.2810463\ttotal: 167ms\tremaining: 1.1s\n",
      "132:\tlearn: 0.2804097\ttotal: 167ms\tremaining: 1.09s\n",
      "133:\tlearn: 0.2796304\ttotal: 168ms\tremaining: 1.09s\n",
      "134:\tlearn: 0.2786860\ttotal: 169ms\tremaining: 1.08s\n",
      "135:\tlearn: 0.2778359\ttotal: 170ms\tremaining: 1.08s\n",
      "136:\tlearn: 0.2769468\ttotal: 171ms\tremaining: 1.07s\n",
      "137:\tlearn: 0.2757935\ttotal: 171ms\tremaining: 1.07s\n",
      "138:\tlearn: 0.2750190\ttotal: 172ms\tremaining: 1.07s\n",
      "139:\tlearn: 0.2737373\ttotal: 173ms\tremaining: 1.06s\n",
      "140:\tlearn: 0.2728421\ttotal: 174ms\tremaining: 1.06s\n",
      "141:\tlearn: 0.2720759\ttotal: 175ms\tremaining: 1.05s\n",
      "142:\tlearn: 0.2710845\ttotal: 176ms\tremaining: 1.05s\n",
      "143:\tlearn: 0.2699631\ttotal: 176ms\tremaining: 1.05s\n",
      "144:\tlearn: 0.2689143\ttotal: 177ms\tremaining: 1.04s\n",
      "145:\tlearn: 0.2677606\ttotal: 178ms\tremaining: 1.04s\n",
      "146:\tlearn: 0.2671384\ttotal: 179ms\tremaining: 1.04s\n",
      "147:\tlearn: 0.2662143\ttotal: 180ms\tremaining: 1.03s\n",
      "148:\tlearn: 0.2651451\ttotal: 181ms\tremaining: 1.03s\n",
      "149:\tlearn: 0.2642603\ttotal: 181ms\tremaining: 1.03s\n",
      "150:\tlearn: 0.2633222\ttotal: 182ms\tremaining: 1.02s\n",
      "151:\tlearn: 0.2621789\ttotal: 183ms\tremaining: 1.02s\n",
      "152:\tlearn: 0.2613255\ttotal: 184ms\tremaining: 1.02s\n",
      "153:\tlearn: 0.2604602\ttotal: 184ms\tremaining: 1.01s\n",
      "154:\tlearn: 0.2591289\ttotal: 185ms\tremaining: 1.01s\n",
      "155:\tlearn: 0.2580964\ttotal: 186ms\tremaining: 1.01s\n",
      "156:\tlearn: 0.2570560\ttotal: 187ms\tremaining: 1s\n",
      "157:\tlearn: 0.2561047\ttotal: 188ms\tremaining: 1s\n",
      "158:\tlearn: 0.2552405\ttotal: 189ms\tremaining: 999ms\n",
      "159:\tlearn: 0.2545952\ttotal: 190ms\tremaining: 996ms\n",
      "160:\tlearn: 0.2539005\ttotal: 191ms\tremaining: 993ms\n"
     ]
    },
    {
     "name": "stdout",
     "output_type": "stream",
     "text": [
      "161:\tlearn: 0.2530376\ttotal: 191ms\tremaining: 990ms\n",
      "162:\tlearn: 0.2524124\ttotal: 192ms\tremaining: 988ms\n",
      "163:\tlearn: 0.2518184\ttotal: 193ms\tremaining: 985ms\n",
      "164:\tlearn: 0.2511272\ttotal: 194ms\tremaining: 982ms\n",
      "165:\tlearn: 0.2501423\ttotal: 195ms\tremaining: 979ms\n",
      "166:\tlearn: 0.2493222\ttotal: 196ms\tremaining: 976ms\n",
      "167:\tlearn: 0.2487212\ttotal: 196ms\tremaining: 973ms\n",
      "168:\tlearn: 0.2478050\ttotal: 197ms\tremaining: 969ms\n",
      "169:\tlearn: 0.2472376\ttotal: 198ms\tremaining: 967ms\n",
      "170:\tlearn: 0.2461649\ttotal: 199ms\tremaining: 963ms\n",
      "171:\tlearn: 0.2454911\ttotal: 200ms\tremaining: 961ms\n",
      "172:\tlearn: 0.2447946\ttotal: 200ms\tremaining: 958ms\n",
      "173:\tlearn: 0.2440566\ttotal: 201ms\tremaining: 955ms\n",
      "174:\tlearn: 0.2432986\ttotal: 202ms\tremaining: 952ms\n",
      "175:\tlearn: 0.2429086\ttotal: 203ms\tremaining: 949ms\n",
      "176:\tlearn: 0.2422834\ttotal: 204ms\tremaining: 947ms\n",
      "177:\tlearn: 0.2414006\ttotal: 204ms\tremaining: 944ms\n",
      "178:\tlearn: 0.2406424\ttotal: 205ms\tremaining: 941ms\n",
      "179:\tlearn: 0.2401107\ttotal: 206ms\tremaining: 939ms\n",
      "180:\tlearn: 0.2393541\ttotal: 207ms\tremaining: 937ms\n",
      "181:\tlearn: 0.2387491\ttotal: 208ms\tremaining: 934ms\n",
      "182:\tlearn: 0.2381854\ttotal: 209ms\tremaining: 932ms\n",
      "183:\tlearn: 0.2373579\ttotal: 209ms\tremaining: 929ms\n",
      "184:\tlearn: 0.2369643\ttotal: 210ms\tremaining: 927ms\n",
      "185:\tlearn: 0.2362412\ttotal: 211ms\tremaining: 924ms\n",
      "186:\tlearn: 0.2356194\ttotal: 212ms\tremaining: 922ms\n",
      "187:\tlearn: 0.2349751\ttotal: 213ms\tremaining: 920ms\n",
      "188:\tlearn: 0.2344698\ttotal: 214ms\tremaining: 917ms\n",
      "189:\tlearn: 0.2339527\ttotal: 214ms\tremaining: 914ms\n",
      "190:\tlearn: 0.2331336\ttotal: 215ms\tremaining: 912ms\n",
      "191:\tlearn: 0.2324561\ttotal: 216ms\tremaining: 909ms\n",
      "192:\tlearn: 0.2318469\ttotal: 217ms\tremaining: 907ms\n",
      "193:\tlearn: 0.2312158\ttotal: 218ms\tremaining: 904ms\n",
      "194:\tlearn: 0.2303222\ttotal: 219ms\tremaining: 902ms\n",
      "195:\tlearn: 0.2297706\ttotal: 219ms\tremaining: 900ms\n",
      "196:\tlearn: 0.2292296\ttotal: 220ms\tremaining: 898ms\n",
      "197:\tlearn: 0.2285185\ttotal: 221ms\tremaining: 896ms\n",
      "198:\tlearn: 0.2277944\ttotal: 222ms\tremaining: 894ms\n",
      "199:\tlearn: 0.2270839\ttotal: 223ms\tremaining: 891ms\n",
      "200:\tlearn: 0.2263694\ttotal: 224ms\tremaining: 890ms\n",
      "201:\tlearn: 0.2258387\ttotal: 225ms\tremaining: 887ms\n",
      "202:\tlearn: 0.2250433\ttotal: 225ms\tremaining: 885ms\n",
      "203:\tlearn: 0.2245185\ttotal: 226ms\tremaining: 883ms\n",
      "204:\tlearn: 0.2238151\ttotal: 227ms\tremaining: 881ms\n",
      "205:\tlearn: 0.2231802\ttotal: 228ms\tremaining: 879ms\n",
      "206:\tlearn: 0.2222383\ttotal: 229ms\tremaining: 877ms\n",
      "207:\tlearn: 0.2217146\ttotal: 230ms\tremaining: 875ms\n",
      "208:\tlearn: 0.2212088\ttotal: 231ms\tremaining: 873ms\n",
      "209:\tlearn: 0.2205539\ttotal: 232ms\tremaining: 871ms\n",
      "210:\tlearn: 0.2198289\ttotal: 232ms\tremaining: 869ms\n",
      "211:\tlearn: 0.2192339\ttotal: 233ms\tremaining: 867ms\n",
      "212:\tlearn: 0.2186113\ttotal: 234ms\tremaining: 865ms\n",
      "213:\tlearn: 0.2178484\ttotal: 235ms\tremaining: 862ms\n",
      "214:\tlearn: 0.2172792\ttotal: 236ms\tremaining: 860ms\n",
      "215:\tlearn: 0.2169743\ttotal: 236ms\tremaining: 858ms\n",
      "216:\tlearn: 0.2165213\ttotal: 237ms\tremaining: 856ms\n",
      "217:\tlearn: 0.2159394\ttotal: 238ms\tremaining: 853ms\n",
      "218:\tlearn: 0.2151840\ttotal: 239ms\tremaining: 851ms\n",
      "219:\tlearn: 0.2145274\ttotal: 239ms\tremaining: 849ms\n",
      "220:\tlearn: 0.2138656\ttotal: 240ms\tremaining: 847ms\n",
      "221:\tlearn: 0.2132126\ttotal: 241ms\tremaining: 845ms\n",
      "222:\tlearn: 0.2128022\ttotal: 243ms\tremaining: 845ms\n",
      "223:\tlearn: 0.2121196\ttotal: 244ms\tremaining: 844ms\n",
      "224:\tlearn: 0.2115757\ttotal: 244ms\tremaining: 842ms\n",
      "225:\tlearn: 0.2109620\ttotal: 245ms\tremaining: 840ms\n",
      "226:\tlearn: 0.2103108\ttotal: 246ms\tremaining: 839ms\n",
      "227:\tlearn: 0.2098559\ttotal: 247ms\tremaining: 836ms\n",
      "228:\tlearn: 0.2091891\ttotal: 248ms\tremaining: 834ms\n",
      "229:\tlearn: 0.2087233\ttotal: 249ms\tremaining: 832ms\n",
      "230:\tlearn: 0.2085287\ttotal: 250ms\tremaining: 832ms\n",
      "231:\tlearn: 0.2078229\ttotal: 251ms\tremaining: 831ms\n",
      "232:\tlearn: 0.2072622\ttotal: 252ms\tremaining: 829ms\n",
      "233:\tlearn: 0.2069778\ttotal: 253ms\tremaining: 827ms\n",
      "234:\tlearn: 0.2066858\ttotal: 254ms\tremaining: 825ms\n",
      "235:\tlearn: 0.2062188\ttotal: 254ms\tremaining: 823ms\n",
      "236:\tlearn: 0.2058825\ttotal: 255ms\tremaining: 821ms\n",
      "237:\tlearn: 0.2055657\ttotal: 256ms\tremaining: 819ms\n",
      "238:\tlearn: 0.2051816\ttotal: 257ms\tremaining: 817ms\n",
      "239:\tlearn: 0.2048513\ttotal: 258ms\tremaining: 815ms\n",
      "240:\tlearn: 0.2044407\ttotal: 258ms\tremaining: 814ms\n",
      "241:\tlearn: 0.2038563\ttotal: 259ms\tremaining: 812ms\n",
      "242:\tlearn: 0.2033147\ttotal: 260ms\tremaining: 810ms\n",
      "243:\tlearn: 0.2028954\ttotal: 261ms\tremaining: 808ms\n",
      "244:\tlearn: 0.2022723\ttotal: 262ms\tremaining: 806ms\n",
      "245:\tlearn: 0.2019404\ttotal: 262ms\tremaining: 804ms\n",
      "246:\tlearn: 0.2015127\ttotal: 263ms\tremaining: 802ms\n",
      "247:\tlearn: 0.2010966\ttotal: 264ms\tremaining: 800ms\n",
      "248:\tlearn: 0.2005596\ttotal: 265ms\tremaining: 798ms\n",
      "249:\tlearn: 0.2001084\ttotal: 265ms\tremaining: 796ms\n",
      "250:\tlearn: 0.1994628\ttotal: 266ms\tremaining: 795ms\n",
      "251:\tlearn: 0.1988985\ttotal: 267ms\tremaining: 793ms\n",
      "252:\tlearn: 0.1985890\ttotal: 268ms\tremaining: 792ms\n",
      "253:\tlearn: 0.1979208\ttotal: 269ms\tremaining: 790ms\n",
      "254:\tlearn: 0.1974969\ttotal: 270ms\tremaining: 788ms\n",
      "255:\tlearn: 0.1970935\ttotal: 271ms\tremaining: 788ms\n",
      "256:\tlearn: 0.1967758\ttotal: 272ms\tremaining: 787ms\n",
      "257:\tlearn: 0.1962011\ttotal: 273ms\tremaining: 785ms\n",
      "258:\tlearn: 0.1955982\ttotal: 274ms\tremaining: 784ms\n",
      "259:\tlearn: 0.1951611\ttotal: 275ms\tremaining: 782ms\n",
      "260:\tlearn: 0.1949081\ttotal: 276ms\tremaining: 780ms\n",
      "261:\tlearn: 0.1943262\ttotal: 277ms\tremaining: 779ms\n",
      "262:\tlearn: 0.1939617\ttotal: 277ms\tremaining: 777ms\n",
      "263:\tlearn: 0.1936819\ttotal: 278ms\tremaining: 776ms\n",
      "264:\tlearn: 0.1931358\ttotal: 279ms\tremaining: 774ms\n",
      "265:\tlearn: 0.1926051\ttotal: 280ms\tremaining: 773ms\n",
      "266:\tlearn: 0.1921126\ttotal: 281ms\tremaining: 772ms\n",
      "267:\tlearn: 0.1915608\ttotal: 282ms\tremaining: 771ms\n",
      "268:\tlearn: 0.1909293\ttotal: 283ms\tremaining: 769ms\n",
      "269:\tlearn: 0.1904228\ttotal: 284ms\tremaining: 768ms\n",
      "270:\tlearn: 0.1899024\ttotal: 285ms\tremaining: 767ms\n",
      "271:\tlearn: 0.1892546\ttotal: 286ms\tremaining: 765ms\n",
      "272:\tlearn: 0.1886958\ttotal: 287ms\tremaining: 764ms\n",
      "273:\tlearn: 0.1882605\ttotal: 288ms\tremaining: 763ms\n",
      "274:\tlearn: 0.1876464\ttotal: 289ms\tremaining: 762ms\n",
      "275:\tlearn: 0.1871531\ttotal: 290ms\tremaining: 761ms\n",
      "276:\tlearn: 0.1866331\ttotal: 291ms\tremaining: 760ms\n",
      "277:\tlearn: 0.1861009\ttotal: 292ms\tremaining: 759ms\n",
      "278:\tlearn: 0.1857841\ttotal: 293ms\tremaining: 757ms\n",
      "279:\tlearn: 0.1854917\ttotal: 294ms\tremaining: 756ms\n",
      "280:\tlearn: 0.1851080\ttotal: 295ms\tremaining: 754ms\n",
      "281:\tlearn: 0.1848160\ttotal: 296ms\tremaining: 753ms\n"
     ]
    },
    {
     "name": "stdout",
     "output_type": "stream",
     "text": [
      "282:\tlearn: 0.1843150\ttotal: 297ms\tremaining: 752ms\n",
      "283:\tlearn: 0.1839777\ttotal: 298ms\tremaining: 751ms\n",
      "284:\tlearn: 0.1834999\ttotal: 299ms\tremaining: 750ms\n",
      "285:\tlearn: 0.1829956\ttotal: 300ms\tremaining: 748ms\n",
      "286:\tlearn: 0.1825687\ttotal: 301ms\tremaining: 747ms\n",
      "287:\tlearn: 0.1821679\ttotal: 302ms\tremaining: 746ms\n",
      "288:\tlearn: 0.1818959\ttotal: 303ms\tremaining: 744ms\n",
      "289:\tlearn: 0.1816770\ttotal: 303ms\tremaining: 743ms\n",
      "290:\tlearn: 0.1814502\ttotal: 304ms\tremaining: 741ms\n",
      "291:\tlearn: 0.1809473\ttotal: 305ms\tremaining: 739ms\n",
      "292:\tlearn: 0.1804463\ttotal: 306ms\tremaining: 738ms\n",
      "293:\tlearn: 0.1800055\ttotal: 307ms\tremaining: 736ms\n",
      "294:\tlearn: 0.1794605\ttotal: 307ms\tremaining: 735ms\n",
      "295:\tlearn: 0.1790881\ttotal: 308ms\tremaining: 734ms\n",
      "296:\tlearn: 0.1786633\ttotal: 309ms\tremaining: 732ms\n",
      "297:\tlearn: 0.1781970\ttotal: 310ms\tremaining: 730ms\n",
      "298:\tlearn: 0.1777623\ttotal: 311ms\tremaining: 729ms\n",
      "299:\tlearn: 0.1773385\ttotal: 312ms\tremaining: 727ms\n",
      "300:\tlearn: 0.1770620\ttotal: 313ms\tremaining: 726ms\n",
      "301:\tlearn: 0.1764911\ttotal: 313ms\tremaining: 724ms\n",
      "302:\tlearn: 0.1762387\ttotal: 314ms\tremaining: 723ms\n",
      "303:\tlearn: 0.1757874\ttotal: 315ms\tremaining: 721ms\n",
      "304:\tlearn: 0.1753422\ttotal: 316ms\tremaining: 720ms\n",
      "305:\tlearn: 0.1746884\ttotal: 317ms\tremaining: 718ms\n",
      "306:\tlearn: 0.1742920\ttotal: 318ms\tremaining: 717ms\n",
      "307:\tlearn: 0.1736723\ttotal: 318ms\tremaining: 715ms\n",
      "308:\tlearn: 0.1731991\ttotal: 319ms\tremaining: 714ms\n",
      "309:\tlearn: 0.1729595\ttotal: 320ms\tremaining: 713ms\n",
      "310:\tlearn: 0.1727012\ttotal: 321ms\tremaining: 711ms\n",
      "311:\tlearn: 0.1724149\ttotal: 322ms\tremaining: 710ms\n",
      "312:\tlearn: 0.1720494\ttotal: 323ms\tremaining: 708ms\n",
      "313:\tlearn: 0.1716765\ttotal: 323ms\tremaining: 707ms\n",
      "314:\tlearn: 0.1713606\ttotal: 324ms\tremaining: 705ms\n",
      "315:\tlearn: 0.1709446\ttotal: 325ms\tremaining: 704ms\n",
      "316:\tlearn: 0.1704987\ttotal: 326ms\tremaining: 702ms\n",
      "317:\tlearn: 0.1702274\ttotal: 327ms\tremaining: 701ms\n",
      "318:\tlearn: 0.1699622\ttotal: 328ms\tremaining: 700ms\n",
      "319:\tlearn: 0.1696311\ttotal: 328ms\tremaining: 698ms\n",
      "320:\tlearn: 0.1691318\ttotal: 329ms\tremaining: 696ms\n",
      "321:\tlearn: 0.1688293\ttotal: 330ms\tremaining: 695ms\n",
      "322:\tlearn: 0.1686176\ttotal: 331ms\tremaining: 693ms\n",
      "323:\tlearn: 0.1682117\ttotal: 332ms\tremaining: 692ms\n",
      "324:\tlearn: 0.1679286\ttotal: 332ms\tremaining: 691ms\n",
      "325:\tlearn: 0.1677350\ttotal: 333ms\tremaining: 689ms\n",
      "326:\tlearn: 0.1674394\ttotal: 334ms\tremaining: 688ms\n",
      "327:\tlearn: 0.1669198\ttotal: 335ms\tremaining: 686ms\n",
      "328:\tlearn: 0.1665390\ttotal: 336ms\tremaining: 685ms\n",
      "329:\tlearn: 0.1660918\ttotal: 337ms\tremaining: 683ms\n",
      "330:\tlearn: 0.1656732\ttotal: 338ms\tremaining: 682ms\n",
      "331:\tlearn: 0.1653296\ttotal: 338ms\tremaining: 681ms\n",
      "332:\tlearn: 0.1651376\ttotal: 339ms\tremaining: 680ms\n",
      "333:\tlearn: 0.1648003\ttotal: 340ms\tremaining: 678ms\n",
      "334:\tlearn: 0.1643358\ttotal: 341ms\tremaining: 677ms\n",
      "335:\tlearn: 0.1641558\ttotal: 342ms\tremaining: 675ms\n",
      "336:\tlearn: 0.1638085\ttotal: 343ms\tremaining: 674ms\n",
      "337:\tlearn: 0.1634659\ttotal: 343ms\tremaining: 672ms\n",
      "338:\tlearn: 0.1632857\ttotal: 344ms\tremaining: 671ms\n",
      "339:\tlearn: 0.1628313\ttotal: 345ms\tremaining: 670ms\n",
      "340:\tlearn: 0.1625470\ttotal: 346ms\tremaining: 668ms\n",
      "341:\tlearn: 0.1624278\ttotal: 346ms\tremaining: 667ms\n",
      "342:\tlearn: 0.1622216\ttotal: 348ms\tremaining: 666ms\n",
      "343:\tlearn: 0.1619579\ttotal: 349ms\tremaining: 665ms\n",
      "344:\tlearn: 0.1618402\ttotal: 350ms\tremaining: 664ms\n",
      "345:\tlearn: 0.1614552\ttotal: 350ms\tremaining: 662ms\n",
      "346:\tlearn: 0.1612856\ttotal: 351ms\tremaining: 661ms\n",
      "347:\tlearn: 0.1607355\ttotal: 352ms\tremaining: 660ms\n",
      "348:\tlearn: 0.1605917\ttotal: 353ms\tremaining: 658ms\n",
      "349:\tlearn: 0.1603373\ttotal: 354ms\tremaining: 657ms\n",
      "350:\tlearn: 0.1600484\ttotal: 355ms\tremaining: 656ms\n",
      "351:\tlearn: 0.1595948\ttotal: 356ms\tremaining: 655ms\n",
      "352:\tlearn: 0.1591964\ttotal: 357ms\tremaining: 654ms\n",
      "353:\tlearn: 0.1588238\ttotal: 358ms\tremaining: 653ms\n",
      "354:\tlearn: 0.1584263\ttotal: 358ms\tremaining: 651ms\n",
      "355:\tlearn: 0.1582943\ttotal: 359ms\tremaining: 650ms\n",
      "356:\tlearn: 0.1578944\ttotal: 360ms\tremaining: 649ms\n",
      "357:\tlearn: 0.1575346\ttotal: 361ms\tremaining: 647ms\n",
      "358:\tlearn: 0.1572392\ttotal: 362ms\tremaining: 646ms\n",
      "359:\tlearn: 0.1569018\ttotal: 363ms\tremaining: 645ms\n",
      "360:\tlearn: 0.1564780\ttotal: 364ms\tremaining: 643ms\n",
      "361:\tlearn: 0.1562048\ttotal: 364ms\tremaining: 642ms\n",
      "362:\tlearn: 0.1558132\ttotal: 365ms\tremaining: 641ms\n",
      "363:\tlearn: 0.1553455\ttotal: 366ms\tremaining: 640ms\n",
      "364:\tlearn: 0.1551142\ttotal: 367ms\tremaining: 638ms\n",
      "365:\tlearn: 0.1548246\ttotal: 368ms\tremaining: 637ms\n",
      "366:\tlearn: 0.1545411\ttotal: 369ms\tremaining: 637ms\n",
      "367:\tlearn: 0.1544176\ttotal: 370ms\tremaining: 636ms\n",
      "368:\tlearn: 0.1540332\ttotal: 371ms\tremaining: 634ms\n",
      "369:\tlearn: 0.1534569\ttotal: 372ms\tremaining: 633ms\n",
      "370:\tlearn: 0.1531978\ttotal: 373ms\tremaining: 632ms\n",
      "371:\tlearn: 0.1527392\ttotal: 373ms\tremaining: 630ms\n",
      "372:\tlearn: 0.1524317\ttotal: 374ms\tremaining: 629ms\n",
      "373:\tlearn: 0.1521731\ttotal: 375ms\tremaining: 628ms\n",
      "374:\tlearn: 0.1519696\ttotal: 376ms\tremaining: 627ms\n",
      "375:\tlearn: 0.1517678\ttotal: 377ms\tremaining: 625ms\n",
      "376:\tlearn: 0.1514855\ttotal: 378ms\tremaining: 624ms\n",
      "377:\tlearn: 0.1511788\ttotal: 378ms\tremaining: 623ms\n",
      "378:\tlearn: 0.1508136\ttotal: 380ms\tremaining: 622ms\n",
      "379:\tlearn: 0.1504584\ttotal: 380ms\tremaining: 620ms\n",
      "380:\tlearn: 0.1501978\ttotal: 381ms\tremaining: 619ms\n"
     ]
    },
    {
     "name": "stdout",
     "output_type": "stream",
     "text": [
      "381:\tlearn: 0.1499803\ttotal: 382ms\tremaining: 618ms\n",
      "382:\tlearn: 0.1495997\ttotal: 383ms\tremaining: 617ms\n",
      "383:\tlearn: 0.1492953\ttotal: 384ms\tremaining: 616ms\n",
      "384:\tlearn: 0.1491059\ttotal: 385ms\tremaining: 614ms\n",
      "385:\tlearn: 0.1488760\ttotal: 385ms\tremaining: 613ms\n",
      "386:\tlearn: 0.1486360\ttotal: 386ms\tremaining: 612ms\n",
      "387:\tlearn: 0.1483804\ttotal: 387ms\tremaining: 611ms\n",
      "388:\tlearn: 0.1481213\ttotal: 388ms\tremaining: 609ms\n",
      "389:\tlearn: 0.1478714\ttotal: 389ms\tremaining: 608ms\n",
      "390:\tlearn: 0.1474346\ttotal: 390ms\tremaining: 607ms\n",
      "391:\tlearn: 0.1470978\ttotal: 391ms\tremaining: 606ms\n",
      "392:\tlearn: 0.1470169\ttotal: 392ms\tremaining: 605ms\n",
      "393:\tlearn: 0.1466586\ttotal: 393ms\tremaining: 604ms\n",
      "394:\tlearn: 0.1462962\ttotal: 393ms\tremaining: 602ms\n",
      "395:\tlearn: 0.1460203\ttotal: 394ms\tremaining: 601ms\n",
      "396:\tlearn: 0.1458031\ttotal: 395ms\tremaining: 600ms\n",
      "397:\tlearn: 0.1456340\ttotal: 396ms\tremaining: 599ms\n",
      "398:\tlearn: 0.1451119\ttotal: 397ms\tremaining: 598ms\n",
      "399:\tlearn: 0.1449314\ttotal: 398ms\tremaining: 596ms\n",
      "400:\tlearn: 0.1448037\ttotal: 398ms\tremaining: 595ms\n",
      "401:\tlearn: 0.1447035\ttotal: 399ms\tremaining: 594ms\n",
      "402:\tlearn: 0.1444245\ttotal: 400ms\tremaining: 593ms\n",
      "403:\tlearn: 0.1439856\ttotal: 401ms\tremaining: 591ms\n",
      "404:\tlearn: 0.1438519\ttotal: 402ms\tremaining: 590ms\n",
      "405:\tlearn: 0.1436349\ttotal: 403ms\tremaining: 589ms\n",
      "406:\tlearn: 0.1431847\ttotal: 403ms\tremaining: 588ms\n",
      "407:\tlearn: 0.1429492\ttotal: 404ms\tremaining: 587ms\n",
      "408:\tlearn: 0.1427650\ttotal: 405ms\tremaining: 586ms\n",
      "409:\tlearn: 0.1426057\ttotal: 406ms\tremaining: 584ms\n",
      "410:\tlearn: 0.1421904\ttotal: 407ms\tremaining: 583ms\n",
      "411:\tlearn: 0.1418627\ttotal: 408ms\tremaining: 582ms\n",
      "412:\tlearn: 0.1415939\ttotal: 409ms\tremaining: 581ms\n",
      "413:\tlearn: 0.1413730\ttotal: 409ms\tremaining: 579ms\n",
      "414:\tlearn: 0.1412730\ttotal: 410ms\tremaining: 578ms\n",
      "415:\tlearn: 0.1410482\ttotal: 411ms\tremaining: 577ms\n",
      "416:\tlearn: 0.1407133\ttotal: 412ms\tremaining: 576ms\n",
      "417:\tlearn: 0.1404826\ttotal: 413ms\tremaining: 574ms\n",
      "418:\tlearn: 0.1403001\ttotal: 413ms\tremaining: 573ms\n",
      "419:\tlearn: 0.1401744\ttotal: 414ms\tremaining: 572ms\n",
      "420:\tlearn: 0.1400356\ttotal: 415ms\tremaining: 571ms\n",
      "421:\tlearn: 0.1396529\ttotal: 416ms\tremaining: 569ms\n",
      "422:\tlearn: 0.1393112\ttotal: 417ms\tremaining: 568ms\n",
      "423:\tlearn: 0.1391894\ttotal: 417ms\tremaining: 567ms\n",
      "424:\tlearn: 0.1390272\ttotal: 418ms\tremaining: 566ms\n",
      "425:\tlearn: 0.1387260\ttotal: 419ms\tremaining: 565ms\n",
      "426:\tlearn: 0.1383103\ttotal: 420ms\tremaining: 564ms\n",
      "427:\tlearn: 0.1380399\ttotal: 421ms\tremaining: 563ms\n",
      "428:\tlearn: 0.1378220\ttotal: 422ms\tremaining: 562ms\n",
      "429:\tlearn: 0.1376487\ttotal: 423ms\tremaining: 560ms\n",
      "430:\tlearn: 0.1373869\ttotal: 423ms\tremaining: 559ms\n",
      "431:\tlearn: 0.1370713\ttotal: 424ms\tremaining: 558ms\n",
      "432:\tlearn: 0.1366647\ttotal: 425ms\tremaining: 557ms\n",
      "433:\tlearn: 0.1362884\ttotal: 426ms\tremaining: 556ms\n",
      "434:\tlearn: 0.1360889\ttotal: 427ms\tremaining: 554ms\n",
      "435:\tlearn: 0.1359824\ttotal: 428ms\tremaining: 553ms\n",
      "436:\tlearn: 0.1357085\ttotal: 428ms\tremaining: 552ms\n",
      "437:\tlearn: 0.1355598\ttotal: 429ms\tremaining: 551ms\n",
      "438:\tlearn: 0.1354251\ttotal: 430ms\tremaining: 550ms\n",
      "439:\tlearn: 0.1353240\ttotal: 431ms\tremaining: 548ms\n",
      "440:\tlearn: 0.1351831\ttotal: 432ms\tremaining: 547ms\n",
      "441:\tlearn: 0.1349454\ttotal: 432ms\tremaining: 546ms\n",
      "442:\tlearn: 0.1347413\ttotal: 433ms\tremaining: 545ms\n",
      "443:\tlearn: 0.1344077\ttotal: 434ms\tremaining: 544ms\n",
      "444:\tlearn: 0.1342178\ttotal: 435ms\tremaining: 542ms\n",
      "445:\tlearn: 0.1340026\ttotal: 436ms\tremaining: 541ms\n",
      "446:\tlearn: 0.1337369\ttotal: 437ms\tremaining: 540ms\n",
      "447:\tlearn: 0.1335265\ttotal: 437ms\tremaining: 539ms\n",
      "448:\tlearn: 0.1332259\ttotal: 438ms\tremaining: 538ms\n",
      "449:\tlearn: 0.1329009\ttotal: 439ms\tremaining: 536ms\n",
      "450:\tlearn: 0.1326133\ttotal: 440ms\tremaining: 535ms\n",
      "451:\tlearn: 0.1324685\ttotal: 440ms\tremaining: 534ms\n",
      "452:\tlearn: 0.1322669\ttotal: 441ms\tremaining: 533ms\n",
      "453:\tlearn: 0.1321114\ttotal: 442ms\tremaining: 531ms\n",
      "454:\tlearn: 0.1320081\ttotal: 443ms\tremaining: 530ms\n",
      "455:\tlearn: 0.1317659\ttotal: 444ms\tremaining: 529ms\n",
      "456:\tlearn: 0.1315818\ttotal: 444ms\tremaining: 528ms\n",
      "457:\tlearn: 0.1313389\ttotal: 445ms\tremaining: 527ms\n",
      "458:\tlearn: 0.1312435\ttotal: 446ms\tremaining: 525ms\n",
      "459:\tlearn: 0.1311255\ttotal: 447ms\tremaining: 524ms\n",
      "460:\tlearn: 0.1309678\ttotal: 447ms\tremaining: 523ms\n",
      "461:\tlearn: 0.1307542\ttotal: 448ms\tremaining: 522ms\n",
      "462:\tlearn: 0.1305521\ttotal: 449ms\tremaining: 521ms\n",
      "463:\tlearn: 0.1302479\ttotal: 450ms\tremaining: 520ms\n",
      "464:\tlearn: 0.1300676\ttotal: 451ms\tremaining: 519ms\n",
      "465:\tlearn: 0.1297739\ttotal: 452ms\tremaining: 518ms\n",
      "466:\tlearn: 0.1297002\ttotal: 453ms\tremaining: 517ms\n",
      "467:\tlearn: 0.1295383\ttotal: 454ms\tremaining: 516ms\n",
      "468:\tlearn: 0.1293178\ttotal: 454ms\tremaining: 515ms\n",
      "469:\tlearn: 0.1292386\ttotal: 455ms\tremaining: 513ms\n",
      "470:\tlearn: 0.1290179\ttotal: 456ms\tremaining: 512ms\n",
      "471:\tlearn: 0.1288600\ttotal: 457ms\tremaining: 512ms\n",
      "472:\tlearn: 0.1285985\ttotal: 458ms\tremaining: 511ms\n",
      "473:\tlearn: 0.1283089\ttotal: 459ms\tremaining: 510ms\n",
      "474:\tlearn: 0.1280549\ttotal: 460ms\tremaining: 509ms\n",
      "475:\tlearn: 0.1278301\ttotal: 461ms\tremaining: 507ms\n",
      "476:\tlearn: 0.1276278\ttotal: 462ms\tremaining: 506ms\n",
      "477:\tlearn: 0.1273637\ttotal: 463ms\tremaining: 505ms\n",
      "478:\tlearn: 0.1270075\ttotal: 463ms\tremaining: 504ms\n",
      "479:\tlearn: 0.1266677\ttotal: 464ms\tremaining: 503ms\n",
      "480:\tlearn: 0.1264797\ttotal: 465ms\tremaining: 502ms\n",
      "481:\tlearn: 0.1263162\ttotal: 466ms\tremaining: 501ms\n",
      "482:\tlearn: 0.1260431\ttotal: 467ms\tremaining: 500ms\n",
      "483:\tlearn: 0.1257555\ttotal: 468ms\tremaining: 499ms\n",
      "484:\tlearn: 0.1256394\ttotal: 469ms\tremaining: 498ms\n",
      "485:\tlearn: 0.1253600\ttotal: 469ms\tremaining: 496ms\n",
      "486:\tlearn: 0.1252514\ttotal: 470ms\tremaining: 495ms\n",
      "487:\tlearn: 0.1250593\ttotal: 471ms\tremaining: 494ms\n",
      "488:\tlearn: 0.1248870\ttotal: 472ms\tremaining: 493ms\n",
      "489:\tlearn: 0.1247794\ttotal: 472ms\tremaining: 492ms\n",
      "490:\tlearn: 0.1246477\ttotal: 473ms\tremaining: 491ms\n",
      "491:\tlearn: 0.1245879\ttotal: 474ms\tremaining: 490ms\n",
      "492:\tlearn: 0.1242943\ttotal: 475ms\tremaining: 489ms\n",
      "493:\tlearn: 0.1240860\ttotal: 476ms\tremaining: 487ms\n",
      "494:\tlearn: 0.1238666\ttotal: 477ms\tremaining: 486ms\n",
      "495:\tlearn: 0.1237915\ttotal: 478ms\tremaining: 485ms\n",
      "496:\tlearn: 0.1236086\ttotal: 478ms\tremaining: 484ms\n",
      "497:\tlearn: 0.1233143\ttotal: 479ms\tremaining: 483ms\n",
      "498:\tlearn: 0.1231377\ttotal: 480ms\tremaining: 482ms\n",
      "499:\tlearn: 0.1229694\ttotal: 481ms\tremaining: 481ms\n",
      "500:\tlearn: 0.1227432\ttotal: 481ms\tremaining: 480ms\n",
      "501:\tlearn: 0.1223990\ttotal: 482ms\tremaining: 478ms\n",
      "502:\tlearn: 0.1222972\ttotal: 483ms\tremaining: 477ms\n",
      "503:\tlearn: 0.1220655\ttotal: 484ms\tremaining: 476ms\n",
      "504:\tlearn: 0.1219120\ttotal: 485ms\tremaining: 475ms\n",
      "505:\tlearn: 0.1218498\ttotal: 486ms\tremaining: 474ms\n",
      "506:\tlearn: 0.1217112\ttotal: 486ms\tremaining: 473ms\n"
     ]
    },
    {
     "name": "stdout",
     "output_type": "stream",
     "text": [
      "507:\tlearn: 0.1215875\ttotal: 487ms\tremaining: 472ms\n",
      "508:\tlearn: 0.1214211\ttotal: 488ms\tremaining: 471ms\n",
      "509:\tlearn: 0.1213018\ttotal: 489ms\tremaining: 470ms\n",
      "510:\tlearn: 0.1210514\ttotal: 490ms\tremaining: 469ms\n",
      "511:\tlearn: 0.1207150\ttotal: 491ms\tremaining: 468ms\n",
      "512:\tlearn: 0.1206440\ttotal: 492ms\tremaining: 467ms\n",
      "513:\tlearn: 0.1204841\ttotal: 492ms\tremaining: 465ms\n",
      "514:\tlearn: 0.1204159\ttotal: 493ms\tremaining: 464ms\n",
      "515:\tlearn: 0.1202175\ttotal: 494ms\tremaining: 463ms\n",
      "516:\tlearn: 0.1200853\ttotal: 495ms\tremaining: 463ms\n",
      "517:\tlearn: 0.1197302\ttotal: 496ms\tremaining: 462ms\n",
      "518:\tlearn: 0.1195095\ttotal: 497ms\tremaining: 461ms\n",
      "519:\tlearn: 0.1193504\ttotal: 498ms\tremaining: 459ms\n",
      "520:\tlearn: 0.1192127\ttotal: 498ms\tremaining: 458ms\n",
      "521:\tlearn: 0.1191572\ttotal: 499ms\tremaining: 457ms\n",
      "522:\tlearn: 0.1188799\ttotal: 500ms\tremaining: 456ms\n",
      "523:\tlearn: 0.1186135\ttotal: 501ms\tremaining: 455ms\n",
      "524:\tlearn: 0.1183289\ttotal: 502ms\tremaining: 454ms\n",
      "525:\tlearn: 0.1181874\ttotal: 503ms\tremaining: 453ms\n",
      "526:\tlearn: 0.1178865\ttotal: 503ms\tremaining: 452ms\n",
      "527:\tlearn: 0.1177391\ttotal: 504ms\tremaining: 451ms\n",
      "528:\tlearn: 0.1176064\ttotal: 505ms\tremaining: 450ms\n",
      "529:\tlearn: 0.1173747\ttotal: 506ms\tremaining: 449ms\n",
      "530:\tlearn: 0.1173173\ttotal: 507ms\tremaining: 448ms\n",
      "531:\tlearn: 0.1170764\ttotal: 508ms\tremaining: 446ms\n",
      "532:\tlearn: 0.1168184\ttotal: 508ms\tremaining: 445ms\n",
      "533:\tlearn: 0.1167232\ttotal: 509ms\tremaining: 444ms\n",
      "534:\tlearn: 0.1165171\ttotal: 510ms\tremaining: 443ms\n",
      "535:\tlearn: 0.1163876\ttotal: 511ms\tremaining: 442ms\n",
      "536:\tlearn: 0.1163330\ttotal: 512ms\tremaining: 441ms\n",
      "537:\tlearn: 0.1162052\ttotal: 513ms\tremaining: 440ms\n",
      "538:\tlearn: 0.1161413\ttotal: 513ms\tremaining: 439ms\n",
      "539:\tlearn: 0.1160230\ttotal: 514ms\tremaining: 438ms\n",
      "540:\tlearn: 0.1156571\ttotal: 515ms\tremaining: 437ms\n",
      "541:\tlearn: 0.1155582\ttotal: 516ms\tremaining: 436ms\n",
      "542:\tlearn: 0.1152331\ttotal: 517ms\tremaining: 435ms\n",
      "543:\tlearn: 0.1151283\ttotal: 517ms\tremaining: 434ms\n",
      "544:\tlearn: 0.1148290\ttotal: 518ms\tremaining: 433ms\n",
      "545:\tlearn: 0.1147109\ttotal: 519ms\tremaining: 432ms\n",
      "546:\tlearn: 0.1143244\ttotal: 520ms\tremaining: 430ms\n",
      "547:\tlearn: 0.1141872\ttotal: 521ms\tremaining: 429ms\n",
      "548:\tlearn: 0.1138715\ttotal: 521ms\tremaining: 428ms\n",
      "549:\tlearn: 0.1137340\ttotal: 522ms\tremaining: 427ms\n",
      "550:\tlearn: 0.1134880\ttotal: 523ms\tremaining: 426ms\n",
      "551:\tlearn: 0.1133211\ttotal: 525ms\tremaining: 426ms\n",
      "552:\tlearn: 0.1132673\ttotal: 526ms\tremaining: 425ms\n",
      "553:\tlearn: 0.1130452\ttotal: 526ms\tremaining: 424ms\n",
      "554:\tlearn: 0.1128539\ttotal: 527ms\tremaining: 423ms\n",
      "555:\tlearn: 0.1126610\ttotal: 528ms\tremaining: 422ms\n",
      "556:\tlearn: 0.1124544\ttotal: 529ms\tremaining: 421ms\n",
      "557:\tlearn: 0.1122955\ttotal: 530ms\tremaining: 419ms\n",
      "558:\tlearn: 0.1120007\ttotal: 530ms\tremaining: 418ms\n",
      "559:\tlearn: 0.1118899\ttotal: 531ms\tremaining: 417ms\n",
      "560:\tlearn: 0.1117680\ttotal: 532ms\tremaining: 416ms\n",
      "561:\tlearn: 0.1115350\ttotal: 533ms\tremaining: 415ms\n",
      "562:\tlearn: 0.1113448\ttotal: 534ms\tremaining: 414ms\n",
      "563:\tlearn: 0.1111692\ttotal: 534ms\tremaining: 413ms\n",
      "564:\tlearn: 0.1109469\ttotal: 535ms\tremaining: 412ms\n",
      "565:\tlearn: 0.1108229\ttotal: 536ms\tremaining: 411ms\n",
      "566:\tlearn: 0.1107363\ttotal: 537ms\tremaining: 410ms\n",
      "567:\tlearn: 0.1105262\ttotal: 538ms\tremaining: 409ms\n",
      "568:\tlearn: 0.1104059\ttotal: 539ms\tremaining: 408ms\n",
      "569:\tlearn: 0.1101915\ttotal: 540ms\tremaining: 407ms\n",
      "570:\tlearn: 0.1098973\ttotal: 541ms\tremaining: 406ms\n",
      "571:\tlearn: 0.1096215\ttotal: 541ms\tremaining: 405ms\n",
      "572:\tlearn: 0.1094726\ttotal: 542ms\tremaining: 404ms\n",
      "573:\tlearn: 0.1093796\ttotal: 543ms\tremaining: 403ms\n",
      "574:\tlearn: 0.1091757\ttotal: 544ms\tremaining: 402ms\n",
      "575:\tlearn: 0.1089124\ttotal: 545ms\tremaining: 401ms\n",
      "576:\tlearn: 0.1086150\ttotal: 545ms\tremaining: 400ms\n",
      "577:\tlearn: 0.1083982\ttotal: 546ms\tremaining: 399ms\n",
      "578:\tlearn: 0.1082223\ttotal: 547ms\tremaining: 398ms\n",
      "579:\tlearn: 0.1081512\ttotal: 548ms\tremaining: 397ms\n",
      "580:\tlearn: 0.1079030\ttotal: 549ms\tremaining: 396ms\n",
      "581:\tlearn: 0.1076558\ttotal: 550ms\tremaining: 395ms\n",
      "582:\tlearn: 0.1073554\ttotal: 550ms\tremaining: 394ms\n",
      "583:\tlearn: 0.1071697\ttotal: 551ms\tremaining: 393ms\n",
      "584:\tlearn: 0.1068900\ttotal: 552ms\tremaining: 392ms\n",
      "585:\tlearn: 0.1066913\ttotal: 553ms\tremaining: 391ms\n",
      "586:\tlearn: 0.1066384\ttotal: 554ms\tremaining: 390ms\n",
      "587:\tlearn: 0.1065688\ttotal: 555ms\tremaining: 389ms\n",
      "588:\tlearn: 0.1064465\ttotal: 556ms\tremaining: 388ms\n",
      "589:\tlearn: 0.1062071\ttotal: 556ms\tremaining: 387ms\n",
      "590:\tlearn: 0.1060811\ttotal: 557ms\tremaining: 386ms\n",
      "591:\tlearn: 0.1058892\ttotal: 558ms\tremaining: 385ms\n",
      "592:\tlearn: 0.1056790\ttotal: 559ms\tremaining: 384ms\n",
      "593:\tlearn: 0.1054111\ttotal: 560ms\tremaining: 383ms\n",
      "594:\tlearn: 0.1051964\ttotal: 561ms\tremaining: 382ms\n",
      "595:\tlearn: 0.1049410\ttotal: 561ms\tremaining: 381ms\n",
      "596:\tlearn: 0.1047327\ttotal: 562ms\tremaining: 379ms\n",
      "597:\tlearn: 0.1046288\ttotal: 563ms\tremaining: 378ms\n",
      "598:\tlearn: 0.1044414\ttotal: 564ms\tremaining: 377ms\n",
      "599:\tlearn: 0.1042293\ttotal: 565ms\tremaining: 376ms\n",
      "600:\tlearn: 0.1040284\ttotal: 565ms\tremaining: 375ms\n",
      "601:\tlearn: 0.1039232\ttotal: 566ms\tremaining: 374ms\n",
      "602:\tlearn: 0.1037713\ttotal: 567ms\tremaining: 373ms\n",
      "603:\tlearn: 0.1034535\ttotal: 568ms\tremaining: 372ms\n",
      "604:\tlearn: 0.1032918\ttotal: 569ms\tremaining: 371ms\n",
      "605:\tlearn: 0.1030978\ttotal: 570ms\tremaining: 370ms\n",
      "606:\tlearn: 0.1029440\ttotal: 571ms\tremaining: 370ms\n",
      "607:\tlearn: 0.1027919\ttotal: 571ms\tremaining: 368ms\n"
     ]
    },
    {
     "name": "stdout",
     "output_type": "stream",
     "text": [
      "608:\tlearn: 0.1026131\ttotal: 572ms\tremaining: 368ms\n",
      "609:\tlearn: 0.1024428\ttotal: 573ms\tremaining: 367ms\n",
      "610:\tlearn: 0.1021811\ttotal: 574ms\tremaining: 366ms\n",
      "611:\tlearn: 0.1019921\ttotal: 575ms\tremaining: 365ms\n",
      "612:\tlearn: 0.1017564\ttotal: 576ms\tremaining: 364ms\n",
      "613:\tlearn: 0.1016794\ttotal: 577ms\tremaining: 363ms\n",
      "614:\tlearn: 0.1014229\ttotal: 577ms\tremaining: 362ms\n",
      "615:\tlearn: 0.1011201\ttotal: 578ms\tremaining: 361ms\n",
      "616:\tlearn: 0.1008602\ttotal: 579ms\tremaining: 360ms\n",
      "617:\tlearn: 0.1008177\ttotal: 580ms\tremaining: 359ms\n",
      "618:\tlearn: 0.1006223\ttotal: 581ms\tremaining: 358ms\n",
      "619:\tlearn: 0.1004122\ttotal: 582ms\tremaining: 357ms\n",
      "620:\tlearn: 0.1001333\ttotal: 583ms\tremaining: 356ms\n",
      "621:\tlearn: 0.1000251\ttotal: 584ms\tremaining: 355ms\n",
      "622:\tlearn: 0.0997630\ttotal: 585ms\tremaining: 354ms\n",
      "623:\tlearn: 0.0995752\ttotal: 585ms\tremaining: 353ms\n",
      "624:\tlearn: 0.0994663\ttotal: 586ms\tremaining: 352ms\n",
      "625:\tlearn: 0.0993127\ttotal: 587ms\tremaining: 351ms\n",
      "626:\tlearn: 0.0991988\ttotal: 588ms\tremaining: 350ms\n",
      "627:\tlearn: 0.0989901\ttotal: 589ms\tremaining: 349ms\n",
      "628:\tlearn: 0.0987508\ttotal: 590ms\tremaining: 348ms\n",
      "629:\tlearn: 0.0986896\ttotal: 590ms\tremaining: 347ms\n",
      "630:\tlearn: 0.0985979\ttotal: 591ms\tremaining: 346ms\n",
      "631:\tlearn: 0.0984287\ttotal: 592ms\tremaining: 345ms\n",
      "632:\tlearn: 0.0982316\ttotal: 593ms\tremaining: 344ms\n",
      "633:\tlearn: 0.0981423\ttotal: 594ms\tremaining: 343ms\n",
      "634:\tlearn: 0.0980207\ttotal: 595ms\tremaining: 342ms\n",
      "635:\tlearn: 0.0979060\ttotal: 595ms\tremaining: 341ms\n",
      "636:\tlearn: 0.0978469\ttotal: 596ms\tremaining: 340ms\n",
      "637:\tlearn: 0.0977043\ttotal: 597ms\tremaining: 339ms\n",
      "638:\tlearn: 0.0975473\ttotal: 598ms\tremaining: 338ms\n",
      "639:\tlearn: 0.0974962\ttotal: 599ms\tremaining: 337ms\n",
      "640:\tlearn: 0.0974399\ttotal: 600ms\tremaining: 336ms\n",
      "641:\tlearn: 0.0973132\ttotal: 601ms\tremaining: 335ms\n",
      "642:\tlearn: 0.0972006\ttotal: 602ms\tremaining: 334ms\n",
      "643:\tlearn: 0.0971068\ttotal: 602ms\tremaining: 333ms\n",
      "644:\tlearn: 0.0968903\ttotal: 603ms\tremaining: 332ms\n",
      "645:\tlearn: 0.0967030\ttotal: 604ms\tremaining: 331ms\n",
      "646:\tlearn: 0.0965440\ttotal: 605ms\tremaining: 330ms\n",
      "647:\tlearn: 0.0962613\ttotal: 606ms\tremaining: 329ms\n",
      "648:\tlearn: 0.0960250\ttotal: 606ms\tremaining: 328ms\n",
      "649:\tlearn: 0.0957885\ttotal: 607ms\tremaining: 327ms\n",
      "650:\tlearn: 0.0955800\ttotal: 608ms\tremaining: 326ms\n",
      "651:\tlearn: 0.0954220\ttotal: 609ms\tremaining: 325ms\n",
      "652:\tlearn: 0.0953524\ttotal: 610ms\tremaining: 324ms\n",
      "653:\tlearn: 0.0950982\ttotal: 611ms\tremaining: 323ms\n",
      "654:\tlearn: 0.0949400\ttotal: 612ms\tremaining: 322ms\n",
      "655:\tlearn: 0.0948510\ttotal: 612ms\tremaining: 321ms\n",
      "656:\tlearn: 0.0947054\ttotal: 613ms\tremaining: 320ms\n",
      "657:\tlearn: 0.0946058\ttotal: 614ms\tremaining: 319ms\n",
      "658:\tlearn: 0.0944092\ttotal: 615ms\tremaining: 318ms\n",
      "659:\tlearn: 0.0942350\ttotal: 616ms\tremaining: 317ms\n",
      "660:\tlearn: 0.0939772\ttotal: 616ms\tremaining: 316ms\n",
      "661:\tlearn: 0.0938239\ttotal: 617ms\tremaining: 315ms\n",
      "662:\tlearn: 0.0936198\ttotal: 618ms\tremaining: 314ms\n",
      "663:\tlearn: 0.0934881\ttotal: 619ms\tremaining: 313ms\n",
      "664:\tlearn: 0.0933474\ttotal: 620ms\tremaining: 312ms\n",
      "665:\tlearn: 0.0931622\ttotal: 620ms\tremaining: 311ms\n",
      "666:\tlearn: 0.0930687\ttotal: 621ms\tremaining: 310ms\n",
      "667:\tlearn: 0.0929432\ttotal: 622ms\tremaining: 309ms\n",
      "668:\tlearn: 0.0927982\ttotal: 623ms\tremaining: 308ms\n",
      "669:\tlearn: 0.0926322\ttotal: 624ms\tremaining: 307ms\n",
      "670:\tlearn: 0.0923736\ttotal: 625ms\tremaining: 306ms\n",
      "671:\tlearn: 0.0921997\ttotal: 625ms\tremaining: 305ms\n",
      "672:\tlearn: 0.0920819\ttotal: 626ms\tremaining: 304ms\n",
      "673:\tlearn: 0.0919349\ttotal: 627ms\tremaining: 303ms\n",
      "674:\tlearn: 0.0917990\ttotal: 628ms\tremaining: 302ms\n",
      "675:\tlearn: 0.0916548\ttotal: 629ms\tremaining: 301ms\n",
      "676:\tlearn: 0.0915466\ttotal: 630ms\tremaining: 300ms\n",
      "677:\tlearn: 0.0913371\ttotal: 630ms\tremaining: 299ms\n",
      "678:\tlearn: 0.0910910\ttotal: 631ms\tremaining: 298ms\n",
      "679:\tlearn: 0.0910272\ttotal: 632ms\tremaining: 297ms\n",
      "680:\tlearn: 0.0908950\ttotal: 633ms\tremaining: 296ms\n",
      "681:\tlearn: 0.0907202\ttotal: 634ms\tremaining: 295ms\n",
      "682:\tlearn: 0.0905746\ttotal: 634ms\tremaining: 294ms\n",
      "683:\tlearn: 0.0904317\ttotal: 635ms\tremaining: 294ms\n",
      "684:\tlearn: 0.0902308\ttotal: 636ms\tremaining: 293ms\n",
      "685:\tlearn: 0.0901507\ttotal: 637ms\tremaining: 292ms\n",
      "686:\tlearn: 0.0900632\ttotal: 638ms\tremaining: 291ms\n",
      "687:\tlearn: 0.0899192\ttotal: 639ms\tremaining: 290ms\n",
      "688:\tlearn: 0.0897680\ttotal: 640ms\tremaining: 289ms\n",
      "689:\tlearn: 0.0896807\ttotal: 641ms\tremaining: 288ms\n",
      "690:\tlearn: 0.0894897\ttotal: 641ms\tremaining: 287ms\n",
      "691:\tlearn: 0.0893301\ttotal: 642ms\tremaining: 286ms\n",
      "692:\tlearn: 0.0890703\ttotal: 643ms\tremaining: 285ms\n",
      "693:\tlearn: 0.0890023\ttotal: 644ms\tremaining: 284ms\n",
      "694:\tlearn: 0.0889348\ttotal: 645ms\tremaining: 283ms\n",
      "695:\tlearn: 0.0887851\ttotal: 646ms\tremaining: 282ms\n",
      "696:\tlearn: 0.0885840\ttotal: 646ms\tremaining: 281ms\n",
      "697:\tlearn: 0.0884111\ttotal: 647ms\tremaining: 280ms\n",
      "698:\tlearn: 0.0882467\ttotal: 648ms\tremaining: 279ms\n",
      "699:\tlearn: 0.0881122\ttotal: 649ms\tremaining: 278ms\n",
      "700:\tlearn: 0.0878744\ttotal: 650ms\tremaining: 277ms\n",
      "701:\tlearn: 0.0877510\ttotal: 651ms\tremaining: 276ms\n",
      "702:\tlearn: 0.0875620\ttotal: 651ms\tremaining: 275ms\n",
      "703:\tlearn: 0.0873369\ttotal: 652ms\tremaining: 274ms\n",
      "704:\tlearn: 0.0873290\ttotal: 653ms\tremaining: 273ms\n",
      "705:\tlearn: 0.0870906\ttotal: 654ms\tremaining: 272ms\n",
      "706:\tlearn: 0.0869951\ttotal: 655ms\tremaining: 271ms\n",
      "707:\tlearn: 0.0868102\ttotal: 655ms\tremaining: 270ms\n",
      "708:\tlearn: 0.0865652\ttotal: 656ms\tremaining: 269ms\n",
      "709:\tlearn: 0.0865014\ttotal: 657ms\tremaining: 268ms\n",
      "710:\tlearn: 0.0864213\ttotal: 658ms\tremaining: 267ms\n",
      "711:\tlearn: 0.0862847\ttotal: 659ms\tremaining: 266ms\n",
      "712:\tlearn: 0.0861254\ttotal: 659ms\tremaining: 265ms\n",
      "713:\tlearn: 0.0860452\ttotal: 660ms\tremaining: 265ms\n",
      "714:\tlearn: 0.0859808\ttotal: 661ms\tremaining: 264ms\n",
      "715:\tlearn: 0.0857775\ttotal: 662ms\tremaining: 263ms\n",
      "716:\tlearn: 0.0856827\ttotal: 663ms\tremaining: 262ms\n",
      "717:\tlearn: 0.0855345\ttotal: 664ms\tremaining: 261ms\n",
      "718:\tlearn: 0.0853842\ttotal: 665ms\tremaining: 260ms\n",
      "719:\tlearn: 0.0853206\ttotal: 665ms\tremaining: 259ms\n",
      "720:\tlearn: 0.0851543\ttotal: 666ms\tremaining: 258ms\n",
      "721:\tlearn: 0.0850068\ttotal: 667ms\tremaining: 257ms\n",
      "722:\tlearn: 0.0848573\ttotal: 668ms\tremaining: 256ms\n",
      "723:\tlearn: 0.0846114\ttotal: 669ms\tremaining: 255ms\n",
      "724:\tlearn: 0.0845152\ttotal: 670ms\tremaining: 254ms\n",
      "725:\tlearn: 0.0844679\ttotal: 670ms\tremaining: 253ms\n",
      "726:\tlearn: 0.0843547\ttotal: 671ms\tremaining: 252ms\n",
      "727:\tlearn: 0.0842354\ttotal: 672ms\tremaining: 251ms\n",
      "728:\tlearn: 0.0841244\ttotal: 673ms\tremaining: 250ms\n",
      "729:\tlearn: 0.0840048\ttotal: 674ms\tremaining: 249ms\n",
      "730:\tlearn: 0.0838560\ttotal: 674ms\tremaining: 248ms\n",
      "731:\tlearn: 0.0837089\ttotal: 675ms\tremaining: 247ms\n",
      "732:\tlearn: 0.0836108\ttotal: 676ms\tremaining: 246ms\n",
      "733:\tlearn: 0.0835158\ttotal: 677ms\tremaining: 245ms\n"
     ]
    },
    {
     "name": "stdout",
     "output_type": "stream",
     "text": [
      "734:\tlearn: 0.0833994\ttotal: 678ms\tremaining: 244ms\n",
      "735:\tlearn: 0.0833322\ttotal: 679ms\tremaining: 243ms\n",
      "736:\tlearn: 0.0831480\ttotal: 679ms\tremaining: 242ms\n",
      "737:\tlearn: 0.0830636\ttotal: 680ms\tremaining: 242ms\n",
      "738:\tlearn: 0.0830174\ttotal: 681ms\tremaining: 241ms\n",
      "739:\tlearn: 0.0827966\ttotal: 682ms\tremaining: 240ms\n",
      "740:\tlearn: 0.0826866\ttotal: 683ms\tremaining: 239ms\n",
      "741:\tlearn: 0.0825019\ttotal: 684ms\tremaining: 238ms\n",
      "742:\tlearn: 0.0824363\ttotal: 685ms\tremaining: 237ms\n",
      "743:\tlearn: 0.0822756\ttotal: 685ms\tremaining: 236ms\n",
      "744:\tlearn: 0.0820809\ttotal: 686ms\tremaining: 235ms\n",
      "745:\tlearn: 0.0819375\ttotal: 687ms\tremaining: 234ms\n",
      "746:\tlearn: 0.0818245\ttotal: 688ms\tremaining: 233ms\n",
      "747:\tlearn: 0.0817532\ttotal: 689ms\tremaining: 232ms\n",
      "748:\tlearn: 0.0815561\ttotal: 690ms\tremaining: 231ms\n",
      "749:\tlearn: 0.0814387\ttotal: 691ms\tremaining: 230ms\n",
      "750:\tlearn: 0.0813542\ttotal: 692ms\tremaining: 229ms\n",
      "751:\tlearn: 0.0812943\ttotal: 693ms\tremaining: 228ms\n",
      "752:\tlearn: 0.0811913\ttotal: 694ms\tremaining: 228ms\n",
      "753:\tlearn: 0.0811183\ttotal: 695ms\tremaining: 227ms\n",
      "754:\tlearn: 0.0810595\ttotal: 695ms\tremaining: 226ms\n",
      "755:\tlearn: 0.0809500\ttotal: 696ms\tremaining: 225ms\n",
      "756:\tlearn: 0.0809072\ttotal: 697ms\tremaining: 224ms\n",
      "757:\tlearn: 0.0807898\ttotal: 698ms\tremaining: 223ms\n",
      "758:\tlearn: 0.0807441\ttotal: 699ms\tremaining: 222ms\n",
      "759:\tlearn: 0.0806522\ttotal: 700ms\tremaining: 221ms\n",
      "760:\tlearn: 0.0805422\ttotal: 701ms\tremaining: 220ms\n",
      "761:\tlearn: 0.0803397\ttotal: 702ms\tremaining: 219ms\n",
      "762:\tlearn: 0.0802111\ttotal: 702ms\tremaining: 218ms\n",
      "763:\tlearn: 0.0800795\ttotal: 703ms\tremaining: 217ms\n",
      "764:\tlearn: 0.0799781\ttotal: 704ms\tremaining: 216ms\n",
      "765:\tlearn: 0.0798619\ttotal: 705ms\tremaining: 215ms\n",
      "766:\tlearn: 0.0797208\ttotal: 706ms\tremaining: 214ms\n",
      "767:\tlearn: 0.0795490\ttotal: 707ms\tremaining: 213ms\n",
      "768:\tlearn: 0.0793470\ttotal: 708ms\tremaining: 213ms\n",
      "769:\tlearn: 0.0792131\ttotal: 708ms\tremaining: 212ms\n",
      "770:\tlearn: 0.0791780\ttotal: 709ms\tremaining: 211ms\n",
      "771:\tlearn: 0.0790737\ttotal: 710ms\tremaining: 210ms\n",
      "772:\tlearn: 0.0788772\ttotal: 711ms\tremaining: 209ms\n",
      "773:\tlearn: 0.0786994\ttotal: 712ms\tremaining: 208ms\n",
      "774:\tlearn: 0.0786546\ttotal: 713ms\tremaining: 207ms\n",
      "775:\tlearn: 0.0786127\ttotal: 714ms\tremaining: 206ms\n",
      "776:\tlearn: 0.0785217\ttotal: 715ms\tremaining: 205ms\n",
      "777:\tlearn: 0.0784917\ttotal: 715ms\tremaining: 204ms\n",
      "778:\tlearn: 0.0784361\ttotal: 716ms\tremaining: 203ms\n",
      "779:\tlearn: 0.0783759\ttotal: 717ms\tremaining: 202ms\n",
      "780:\tlearn: 0.0782788\ttotal: 718ms\tremaining: 201ms\n",
      "781:\tlearn: 0.0781596\ttotal: 719ms\tremaining: 200ms\n",
      "782:\tlearn: 0.0780986\ttotal: 720ms\tremaining: 199ms\n",
      "783:\tlearn: 0.0779926\ttotal: 721ms\tremaining: 199ms\n",
      "784:\tlearn: 0.0779211\ttotal: 722ms\tremaining: 198ms\n",
      "785:\tlearn: 0.0778192\ttotal: 722ms\tremaining: 197ms\n",
      "786:\tlearn: 0.0777738\ttotal: 723ms\tremaining: 196ms\n",
      "787:\tlearn: 0.0775571\ttotal: 724ms\tremaining: 195ms\n",
      "788:\tlearn: 0.0774373\ttotal: 725ms\tremaining: 194ms\n",
      "789:\tlearn: 0.0772564\ttotal: 726ms\tremaining: 193ms\n",
      "790:\tlearn: 0.0771871\ttotal: 726ms\tremaining: 192ms\n",
      "791:\tlearn: 0.0770363\ttotal: 727ms\tremaining: 191ms\n",
      "792:\tlearn: 0.0768456\ttotal: 728ms\tremaining: 190ms\n",
      "793:\tlearn: 0.0767163\ttotal: 729ms\tremaining: 189ms\n",
      "794:\tlearn: 0.0766097\ttotal: 730ms\tremaining: 188ms\n",
      "795:\tlearn: 0.0764521\ttotal: 731ms\tremaining: 187ms\n",
      "796:\tlearn: 0.0764287\ttotal: 731ms\tremaining: 186ms\n",
      "797:\tlearn: 0.0763309\ttotal: 732ms\tremaining: 185ms\n",
      "798:\tlearn: 0.0762161\ttotal: 733ms\tremaining: 184ms\n",
      "799:\tlearn: 0.0761032\ttotal: 734ms\tremaining: 183ms\n",
      "800:\tlearn: 0.0759810\ttotal: 735ms\tremaining: 182ms\n",
      "801:\tlearn: 0.0758710\ttotal: 735ms\tremaining: 182ms\n",
      "802:\tlearn: 0.0757223\ttotal: 736ms\tremaining: 181ms\n",
      "803:\tlearn: 0.0755419\ttotal: 737ms\tremaining: 180ms\n",
      "804:\tlearn: 0.0754496\ttotal: 738ms\tremaining: 179ms\n",
      "805:\tlearn: 0.0753790\ttotal: 739ms\tremaining: 178ms\n",
      "806:\tlearn: 0.0752944\ttotal: 740ms\tremaining: 177ms\n",
      "807:\tlearn: 0.0752203\ttotal: 740ms\tremaining: 176ms\n",
      "808:\tlearn: 0.0751491\ttotal: 741ms\tremaining: 175ms\n",
      "809:\tlearn: 0.0750118\ttotal: 742ms\tremaining: 174ms\n",
      "810:\tlearn: 0.0749682\ttotal: 743ms\tremaining: 173ms\n",
      "811:\tlearn: 0.0748329\ttotal: 744ms\tremaining: 172ms\n",
      "812:\tlearn: 0.0746772\ttotal: 745ms\tremaining: 171ms\n",
      "813:\tlearn: 0.0745713\ttotal: 745ms\tremaining: 170ms\n",
      "814:\tlearn: 0.0744193\ttotal: 746ms\tremaining: 169ms\n",
      "815:\tlearn: 0.0742311\ttotal: 747ms\tremaining: 168ms\n",
      "816:\tlearn: 0.0741485\ttotal: 748ms\tremaining: 168ms\n",
      "817:\tlearn: 0.0740568\ttotal: 749ms\tremaining: 167ms\n",
      "818:\tlearn: 0.0739984\ttotal: 750ms\tremaining: 166ms\n",
      "819:\tlearn: 0.0738786\ttotal: 751ms\tremaining: 165ms\n",
      "820:\tlearn: 0.0737591\ttotal: 751ms\tremaining: 164ms\n",
      "821:\tlearn: 0.0736388\ttotal: 752ms\tremaining: 163ms\n",
      "822:\tlearn: 0.0734577\ttotal: 753ms\tremaining: 162ms\n",
      "823:\tlearn: 0.0733963\ttotal: 754ms\tremaining: 161ms\n",
      "824:\tlearn: 0.0732937\ttotal: 755ms\tremaining: 160ms\n",
      "825:\tlearn: 0.0732286\ttotal: 755ms\tremaining: 159ms\n",
      "826:\tlearn: 0.0732144\ttotal: 756ms\tremaining: 158ms\n",
      "827:\tlearn: 0.0730696\ttotal: 757ms\tremaining: 157ms\n",
      "828:\tlearn: 0.0729206\ttotal: 758ms\tremaining: 156ms\n",
      "829:\tlearn: 0.0728700\ttotal: 759ms\tremaining: 155ms\n",
      "830:\tlearn: 0.0727267\ttotal: 760ms\tremaining: 154ms\n",
      "831:\tlearn: 0.0725199\ttotal: 760ms\tremaining: 154ms\n",
      "832:\tlearn: 0.0724588\ttotal: 761ms\tremaining: 153ms\n",
      "833:\tlearn: 0.0723619\ttotal: 762ms\tremaining: 152ms\n"
     ]
    },
    {
     "name": "stdout",
     "output_type": "stream",
     "text": [
      "834:\tlearn: 0.0721856\ttotal: 763ms\tremaining: 151ms\n",
      "835:\tlearn: 0.0720522\ttotal: 764ms\tremaining: 150ms\n",
      "836:\tlearn: 0.0719615\ttotal: 765ms\tremaining: 149ms\n",
      "837:\tlearn: 0.0718732\ttotal: 766ms\tremaining: 148ms\n",
      "838:\tlearn: 0.0717450\ttotal: 767ms\tremaining: 147ms\n",
      "839:\tlearn: 0.0715609\ttotal: 768ms\tremaining: 146ms\n",
      "840:\tlearn: 0.0714464\ttotal: 769ms\tremaining: 145ms\n",
      "841:\tlearn: 0.0713200\ttotal: 769ms\tremaining: 144ms\n",
      "842:\tlearn: 0.0712301\ttotal: 770ms\tremaining: 143ms\n",
      "843:\tlearn: 0.0711127\ttotal: 771ms\tremaining: 143ms\n",
      "844:\tlearn: 0.0710256\ttotal: 772ms\tremaining: 142ms\n",
      "845:\tlearn: 0.0709811\ttotal: 773ms\tremaining: 141ms\n",
      "846:\tlearn: 0.0708452\ttotal: 774ms\tremaining: 140ms\n",
      "847:\tlearn: 0.0706660\ttotal: 775ms\tremaining: 139ms\n",
      "848:\tlearn: 0.0706074\ttotal: 776ms\tremaining: 138ms\n",
      "849:\tlearn: 0.0704687\ttotal: 777ms\tremaining: 137ms\n",
      "850:\tlearn: 0.0704329\ttotal: 778ms\tremaining: 136ms\n",
      "851:\tlearn: 0.0703280\ttotal: 779ms\tremaining: 135ms\n",
      "852:\tlearn: 0.0702650\ttotal: 779ms\tremaining: 134ms\n",
      "853:\tlearn: 0.0702296\ttotal: 780ms\tremaining: 133ms\n",
      "854:\tlearn: 0.0701094\ttotal: 781ms\tremaining: 132ms\n",
      "855:\tlearn: 0.0699958\ttotal: 782ms\tremaining: 132ms\n",
      "856:\tlearn: 0.0698581\ttotal: 783ms\tremaining: 131ms\n",
      "857:\tlearn: 0.0697939\ttotal: 783ms\tremaining: 130ms\n",
      "858:\tlearn: 0.0697127\ttotal: 784ms\tremaining: 129ms\n",
      "859:\tlearn: 0.0695498\ttotal: 785ms\tremaining: 128ms\n",
      "860:\tlearn: 0.0694924\ttotal: 786ms\tremaining: 127ms\n",
      "861:\tlearn: 0.0694155\ttotal: 787ms\tremaining: 126ms\n",
      "862:\tlearn: 0.0693839\ttotal: 788ms\tremaining: 125ms\n",
      "863:\tlearn: 0.0692218\ttotal: 788ms\tremaining: 124ms\n",
      "864:\tlearn: 0.0691897\ttotal: 789ms\tremaining: 123ms\n",
      "865:\tlearn: 0.0690134\ttotal: 790ms\tremaining: 122ms\n",
      "866:\tlearn: 0.0688493\ttotal: 791ms\tremaining: 121ms\n",
      "867:\tlearn: 0.0687277\ttotal: 792ms\tremaining: 120ms\n",
      "868:\tlearn: 0.0685686\ttotal: 792ms\tremaining: 119ms\n",
      "869:\tlearn: 0.0684241\ttotal: 793ms\tremaining: 119ms\n",
      "870:\tlearn: 0.0683137\ttotal: 794ms\tremaining: 118ms\n",
      "871:\tlearn: 0.0682095\ttotal: 795ms\tremaining: 117ms\n",
      "872:\tlearn: 0.0681014\ttotal: 796ms\tremaining: 116ms\n",
      "873:\tlearn: 0.0679466\ttotal: 797ms\tremaining: 115ms\n",
      "874:\tlearn: 0.0678934\ttotal: 798ms\tremaining: 114ms\n",
      "875:\tlearn: 0.0678228\ttotal: 798ms\tremaining: 113ms\n",
      "876:\tlearn: 0.0676938\ttotal: 799ms\tremaining: 112ms\n",
      "877:\tlearn: 0.0676728\ttotal: 800ms\tremaining: 111ms\n",
      "878:\tlearn: 0.0675545\ttotal: 801ms\tremaining: 110ms\n",
      "879:\tlearn: 0.0674383\ttotal: 802ms\tremaining: 109ms\n",
      "880:\tlearn: 0.0673026\ttotal: 802ms\tremaining: 108ms\n",
      "881:\tlearn: 0.0671979\ttotal: 803ms\tremaining: 107ms\n",
      "882:\tlearn: 0.0671324\ttotal: 804ms\tremaining: 107ms\n",
      "883:\tlearn: 0.0670200\ttotal: 805ms\tremaining: 106ms\n",
      "884:\tlearn: 0.0668858\ttotal: 806ms\tremaining: 105ms\n",
      "885:\tlearn: 0.0667836\ttotal: 807ms\tremaining: 104ms\n",
      "886:\tlearn: 0.0666795\ttotal: 807ms\tremaining: 103ms\n",
      "887:\tlearn: 0.0666015\ttotal: 808ms\tremaining: 102ms\n",
      "888:\tlearn: 0.0665261\ttotal: 809ms\tremaining: 101ms\n",
      "889:\tlearn: 0.0663345\ttotal: 810ms\tremaining: 100ms\n",
      "890:\tlearn: 0.0662379\ttotal: 811ms\tremaining: 99.2ms\n",
      "891:\tlearn: 0.0661701\ttotal: 811ms\tremaining: 98.2ms\n",
      "892:\tlearn: 0.0661218\ttotal: 812ms\tremaining: 97.3ms\n",
      "893:\tlearn: 0.0659875\ttotal: 813ms\tremaining: 96.4ms\n",
      "894:\tlearn: 0.0659420\ttotal: 814ms\tremaining: 95.5ms\n",
      "895:\tlearn: 0.0658433\ttotal: 815ms\tremaining: 94.6ms\n",
      "896:\tlearn: 0.0657753\ttotal: 816ms\tremaining: 93.7ms\n",
      "897:\tlearn: 0.0657363\ttotal: 816ms\tremaining: 92.7ms\n",
      "898:\tlearn: 0.0656858\ttotal: 817ms\tremaining: 91.8ms\n",
      "899:\tlearn: 0.0655521\ttotal: 818ms\tremaining: 90.9ms\n",
      "900:\tlearn: 0.0654889\ttotal: 819ms\tremaining: 90ms\n",
      "901:\tlearn: 0.0653496\ttotal: 820ms\tremaining: 89.1ms\n",
      "902:\tlearn: 0.0651980\ttotal: 821ms\tremaining: 88.2ms\n",
      "903:\tlearn: 0.0650938\ttotal: 821ms\tremaining: 87.2ms\n",
      "904:\tlearn: 0.0650216\ttotal: 822ms\tremaining: 86.3ms\n",
      "905:\tlearn: 0.0648523\ttotal: 823ms\tremaining: 85.4ms\n",
      "906:\tlearn: 0.0647493\ttotal: 824ms\tremaining: 84.5ms\n",
      "907:\tlearn: 0.0647068\ttotal: 825ms\tremaining: 83.6ms\n",
      "908:\tlearn: 0.0646771\ttotal: 825ms\tremaining: 82.6ms\n",
      "909:\tlearn: 0.0645549\ttotal: 826ms\tremaining: 81.7ms\n",
      "910:\tlearn: 0.0645266\ttotal: 827ms\tremaining: 80.8ms\n",
      "911:\tlearn: 0.0644659\ttotal: 828ms\tremaining: 79.9ms\n",
      "912:\tlearn: 0.0644017\ttotal: 829ms\tremaining: 79ms\n",
      "913:\tlearn: 0.0642720\ttotal: 829ms\tremaining: 78ms\n",
      "914:\tlearn: 0.0641172\ttotal: 830ms\tremaining: 77.1ms\n",
      "915:\tlearn: 0.0640160\ttotal: 831ms\tremaining: 76.2ms\n",
      "916:\tlearn: 0.0639724\ttotal: 832ms\tremaining: 75.3ms\n",
      "917:\tlearn: 0.0639226\ttotal: 832ms\tremaining: 74.4ms\n",
      "918:\tlearn: 0.0638212\ttotal: 833ms\tremaining: 73.4ms\n",
      "919:\tlearn: 0.0637323\ttotal: 834ms\tremaining: 72.5ms\n",
      "920:\tlearn: 0.0636793\ttotal: 835ms\tremaining: 71.6ms\n",
      "921:\tlearn: 0.0636209\ttotal: 836ms\tremaining: 70.7ms\n",
      "922:\tlearn: 0.0635277\ttotal: 837ms\tremaining: 69.8ms\n",
      "923:\tlearn: 0.0633675\ttotal: 838ms\tremaining: 68.9ms\n",
      "924:\tlearn: 0.0632700\ttotal: 839ms\tremaining: 68ms\n",
      "925:\tlearn: 0.0631760\ttotal: 839ms\tremaining: 67.1ms\n",
      "926:\tlearn: 0.0630740\ttotal: 840ms\tremaining: 66.2ms\n",
      "927:\tlearn: 0.0629919\ttotal: 841ms\tremaining: 65.3ms\n",
      "928:\tlearn: 0.0628794\ttotal: 843ms\tremaining: 64.4ms\n",
      "929:\tlearn: 0.0628372\ttotal: 844ms\tremaining: 63.5ms\n",
      "930:\tlearn: 0.0627539\ttotal: 844ms\tremaining: 62.6ms\n",
      "931:\tlearn: 0.0627073\ttotal: 845ms\tremaining: 61.7ms\n",
      "932:\tlearn: 0.0625954\ttotal: 846ms\tremaining: 60.8ms\n",
      "933:\tlearn: 0.0625081\ttotal: 847ms\tremaining: 59.8ms\n",
      "934:\tlearn: 0.0623801\ttotal: 848ms\tremaining: 58.9ms\n",
      "935:\tlearn: 0.0622625\ttotal: 848ms\tremaining: 58ms\n",
      "936:\tlearn: 0.0621635\ttotal: 849ms\tremaining: 57.1ms\n",
      "937:\tlearn: 0.0620670\ttotal: 850ms\tremaining: 56.2ms\n",
      "938:\tlearn: 0.0620126\ttotal: 851ms\tremaining: 55.3ms\n",
      "939:\tlearn: 0.0619998\ttotal: 852ms\tremaining: 54.4ms\n",
      "940:\tlearn: 0.0619629\ttotal: 853ms\tremaining: 53.5ms\n",
      "941:\tlearn: 0.0618215\ttotal: 854ms\tremaining: 52.6ms\n",
      "942:\tlearn: 0.0617522\ttotal: 854ms\tremaining: 51.6ms\n",
      "943:\tlearn: 0.0616435\ttotal: 855ms\tremaining: 50.7ms\n",
      "944:\tlearn: 0.0615226\ttotal: 856ms\tremaining: 49.8ms\n",
      "945:\tlearn: 0.0614361\ttotal: 857ms\tremaining: 48.9ms\n",
      "946:\tlearn: 0.0613093\ttotal: 858ms\tremaining: 48ms\n",
      "947:\tlearn: 0.0611666\ttotal: 858ms\tremaining: 47.1ms\n",
      "948:\tlearn: 0.0611054\ttotal: 859ms\tremaining: 46.2ms\n",
      "949:\tlearn: 0.0610064\ttotal: 860ms\tremaining: 45.3ms\n",
      "950:\tlearn: 0.0608232\ttotal: 861ms\tremaining: 44.4ms\n",
      "951:\tlearn: 0.0607797\ttotal: 862ms\tremaining: 43.4ms\n",
      "952:\tlearn: 0.0607060\ttotal: 863ms\tremaining: 42.5ms\n",
      "953:\tlearn: 0.0606026\ttotal: 864ms\tremaining: 41.6ms\n",
      "954:\tlearn: 0.0604681\ttotal: 864ms\tremaining: 40.7ms\n",
      "955:\tlearn: 0.0603683\ttotal: 865ms\tremaining: 39.8ms\n",
      "956:\tlearn: 0.0602351\ttotal: 866ms\tremaining: 38.9ms\n",
      "957:\tlearn: 0.0602076\ttotal: 867ms\tremaining: 38ms\n",
      "958:\tlearn: 0.0601620\ttotal: 868ms\tremaining: 37.1ms\n"
     ]
    },
    {
     "name": "stdout",
     "output_type": "stream",
     "text": [
      "959:\tlearn: 0.0600729\ttotal: 870ms\tremaining: 36.2ms\n",
      "960:\tlearn: 0.0599502\ttotal: 871ms\tremaining: 35.3ms\n",
      "961:\tlearn: 0.0598265\ttotal: 871ms\tremaining: 34.4ms\n",
      "962:\tlearn: 0.0597687\ttotal: 872ms\tremaining: 33.5ms\n",
      "963:\tlearn: 0.0596222\ttotal: 873ms\tremaining: 32.6ms\n",
      "964:\tlearn: 0.0594944\ttotal: 874ms\tremaining: 31.7ms\n",
      "965:\tlearn: 0.0594226\ttotal: 875ms\tremaining: 30.8ms\n",
      "966:\tlearn: 0.0593342\ttotal: 876ms\tremaining: 29.9ms\n",
      "967:\tlearn: 0.0592437\ttotal: 877ms\tremaining: 29ms\n",
      "968:\tlearn: 0.0591812\ttotal: 877ms\tremaining: 28.1ms\n",
      "969:\tlearn: 0.0590507\ttotal: 878ms\tremaining: 27.2ms\n",
      "970:\tlearn: 0.0590142\ttotal: 879ms\tremaining: 26.3ms\n",
      "971:\tlearn: 0.0588813\ttotal: 880ms\tremaining: 25.3ms\n",
      "972:\tlearn: 0.0587476\ttotal: 881ms\tremaining: 24.4ms\n",
      "973:\tlearn: 0.0586281\ttotal: 882ms\tremaining: 23.5ms\n",
      "974:\tlearn: 0.0585280\ttotal: 882ms\tremaining: 22.6ms\n",
      "975:\tlearn: 0.0583998\ttotal: 883ms\tremaining: 21.7ms\n",
      "976:\tlearn: 0.0583683\ttotal: 884ms\tremaining: 20.8ms\n",
      "977:\tlearn: 0.0582450\ttotal: 885ms\tremaining: 19.9ms\n",
      "978:\tlearn: 0.0581451\ttotal: 885ms\tremaining: 19ms\n",
      "979:\tlearn: 0.0580265\ttotal: 886ms\tremaining: 18.1ms\n",
      "980:\tlearn: 0.0579268\ttotal: 887ms\tremaining: 17.2ms\n",
      "981:\tlearn: 0.0577813\ttotal: 888ms\tremaining: 16.3ms\n",
      "982:\tlearn: 0.0576893\ttotal: 889ms\tremaining: 15.4ms\n",
      "983:\tlearn: 0.0576598\ttotal: 890ms\tremaining: 14.5ms\n",
      "984:\tlearn: 0.0575465\ttotal: 890ms\tremaining: 13.6ms\n",
      "985:\tlearn: 0.0574687\ttotal: 891ms\tremaining: 12.7ms\n",
      "986:\tlearn: 0.0573950\ttotal: 892ms\tremaining: 11.8ms\n",
      "987:\tlearn: 0.0573169\ttotal: 893ms\tremaining: 10.8ms\n",
      "988:\tlearn: 0.0572826\ttotal: 894ms\tremaining: 9.94ms\n",
      "989:\tlearn: 0.0571909\ttotal: 895ms\tremaining: 9.04ms\n",
      "990:\tlearn: 0.0571692\ttotal: 896ms\tremaining: 8.14ms\n",
      "991:\tlearn: 0.0570662\ttotal: 897ms\tremaining: 7.23ms\n",
      "992:\tlearn: 0.0569392\ttotal: 898ms\tremaining: 6.33ms\n",
      "993:\tlearn: 0.0569161\ttotal: 898ms\tremaining: 5.42ms\n",
      "994:\tlearn: 0.0569025\ttotal: 899ms\tremaining: 4.52ms\n",
      "995:\tlearn: 0.0567679\ttotal: 900ms\tremaining: 3.61ms\n",
      "996:\tlearn: 0.0566986\ttotal: 901ms\tremaining: 2.71ms\n",
      "997:\tlearn: 0.0566093\ttotal: 902ms\tremaining: 1.81ms\n",
      "998:\tlearn: 0.0565138\ttotal: 902ms\tremaining: 903us\n",
      "999:\tlearn: 0.0564188\ttotal: 903ms\tremaining: 0us\n"
     ]
    },
    {
     "data": {
      "text/plain": [
       "<catboost.core.CatBoostRegressor at 0x7fde03590c40>"
      ]
     },
     "execution_count": 9,
     "metadata": {},
     "output_type": "execute_result"
    }
   ],
   "source": [
    "#Train the Model \n",
    "prior_model = ctb.CatBoostRegressor()\n",
    "prior_model.fit(X_train,Y_train)"
   ]
  },
  {
   "cell_type": "code",
   "execution_count": 10,
   "id": "af65dcda",
   "metadata": {
    "execution": {
     "iopub.execute_input": "2022-06-11T15:17:52.351543Z",
     "iopub.status.busy": "2022-06-11T15:17:52.351133Z",
     "iopub.status.idle": "2022-06-11T15:17:52.358646Z",
     "shell.execute_reply": "2022-06-11T15:17:52.358952Z"
    },
    "id": "af65dcda",
    "papermill": {
     "duration": 0.02196,
     "end_time": "2022-06-11T15:17:52.359077",
     "exception": false,
     "start_time": "2022-06-11T15:17:52.337117",
     "status": "completed"
    },
    "tags": []
   },
   "outputs": [
    {
     "data": {
      "application/scrapbook.scrap.json+json": {
       "data": 0.07661739337803271,
       "encoder": "json",
       "name": "Prior Model MSE",
       "version": 1
      }
     },
     "metadata": {
      "scrapbook": {
       "data": true,
       "display": false,
       "name": "Prior Model MSE"
      }
     },
     "output_type": "display_data"
    },
    {
     "data": {
      "application/scrapbook.scrap.json+json": {
       "data": 0.8721743239283364,
       "encoder": "json",
       "name": "ABC Pre-generator MSE",
       "version": 1
      }
     },
     "metadata": {
      "scrapbook": {
       "data": true,
       "display": false,
       "name": "ABC Pre-generator MSE"
      }
     },
     "output_type": "display_data"
    },
    {
     "data": {
      "application/scrapbook.scrap.json+json": {
       "data": 0.19867337479085379,
       "encoder": "json",
       "name": "Prior Model MSE",
       "version": 1
      }
     },
     "metadata": {
      "scrapbook": {
       "data": true,
       "display": false,
       "name": "Prior Model MSE"
      }
     },
     "output_type": "display_data"
    },
    {
     "data": {
      "application/scrapbook.scrap.json+json": {
       "data": 0.7716316432647404,
       "encoder": "json",
       "name": "ABC Pre-generator MSE",
       "version": 1
      }
     },
     "metadata": {
      "scrapbook": {
       "data": true,
       "display": false,
       "name": "ABC Pre-generator MSE"
      }
     },
     "output_type": "display_data"
    }
   ],
   "source": [
    "y_pred = prior_model.predict(X_test)\n",
    "y_abc = y_pred + np.random.normal(0,variance, y_pred.shape) + bias \n",
    "mse = mean_squared_error(y_pred,Y_test)\n",
    "sb.glue(\"Prior Model MSE\",mse)\n",
    "mse = mean_squared_error(y_abc,Y_test)\n",
    "sb.glue(\"ABC Pre-generator MSE\",mse)\n",
    "mae = mean_absolute_error(y_pred,Y_test)\n",
    "sb.glue(\"Prior Model MSE\",mae)\n",
    "mae = mean_absolute_error(y_abc,Y_test)\n",
    "sb.glue(\"ABC Pre-generator MSE\",mae)"
   ]
  },
  {
   "cell_type": "markdown",
   "id": "25609da2",
   "metadata": {
    "papermill": {
     "duration": 0.009802,
     "end_time": "2022-06-11T15:17:52.379204",
     "exception": false,
     "start_time": "2022-06-11T15:17:52.369402",
     "status": "completed"
    },
    "tags": []
   },
   "source": [
    "# ABC GAN Model"
   ]
  },
  {
   "cell_type": "code",
   "execution_count": 11,
   "id": "dfc3464d",
   "metadata": {
    "execution": {
     "iopub.execute_input": "2022-06-11T15:17:52.402055Z",
     "iopub.status.busy": "2022-06-11T15:17:52.401687Z",
     "iopub.status.idle": "2022-06-11T15:17:52.403992Z",
     "shell.execute_reply": "2022-06-11T15:17:52.404227Z"
    },
    "papermill": {
     "duration": 0.015245,
     "end_time": "2022-06-11T15:17:52.404333",
     "exception": false,
     "start_time": "2022-06-11T15:17:52.389088",
     "status": "completed"
    },
    "tags": []
   },
   "outputs": [],
   "source": [
    "gen = network.Generator(n_features+1).to(device)\n",
    "disc = network.Discriminator(n_features+1).to(device)\n",
    "\n",
    "criterion = torch.nn.BCELoss()\n",
    "gen_opt = torch.optim.Adam(gen.parameters(), lr=0.001, betas=(0.5, 0.999))\n",
    "disc_opt = torch.optim.Adam(disc.parameters(), lr=0.001, betas=(0.5, 0.999))"
   ]
  },
  {
   "cell_type": "code",
   "execution_count": 12,
   "id": "b75fdd85",
   "metadata": {
    "execution": {
     "iopub.execute_input": "2022-06-11T15:17:52.426770Z",
     "iopub.status.busy": "2022-06-11T15:17:52.426407Z",
     "iopub.status.idle": "2022-06-11T15:18:52.875501Z",
     "shell.execute_reply": "2022-06-11T15:18:52.875808Z"
    },
    "papermill": {
     "duration": 60.461714,
     "end_time": "2022-06-11T15:18:52.875928",
     "exception": false,
     "start_time": "2022-06-11T15:17:52.414214",
     "status": "completed"
    },
    "tags": []
   },
   "outputs": [
    {
     "data": {
      "image/png": "[encoded data removed]",
      "text/plain": [
       "<Figure size 432x288 with 1 Axes>"
      ]
     },
     "metadata": {
      "needs_background": "light"
     },
     "output_type": "display_data"
    },
    {
     "data": {
      "image/png": "[encoded data removed]",
      "text/plain": [
       "<Figure size 432x288 with 1 Axes>"
      ]
     },
     "metadata": {
      "needs_background": "light"
     },
     "output_type": "display_data"
    }
   ],
   "source": [
    "#Training the ABC_GAN \n",
    "ABC_train_test2.training_GAN(disc,gen,disc_opt,gen_opt,train_data,batch_size,n_epochs,criterion,prior_model,variance,bias,device)"
   ]
  },
  {
   "cell_type": "code",
   "execution_count": 13,
   "id": "1fa7c368",
   "metadata": {
    "execution": {
     "iopub.execute_input": "2022-06-11T15:18:52.901075Z",
     "iopub.status.busy": "2022-06-11T15:18:52.900654Z",
     "iopub.status.idle": "2022-06-11T15:18:53.206603Z",
     "shell.execute_reply": "2022-06-11T15:18:53.206936Z"
    },
    "papermill": {
     "duration": 0.320288,
     "end_time": "2022-06-11T15:18:53.207062",
     "exception": false,
     "start_time": "2022-06-11T15:18:52.886774",
     "status": "completed"
    },
    "tags": []
   },
   "outputs": [
    {
     "data": {
      "application/scrapbook.scrap.json+json": {
       "data": 0.10299461827498965,
       "encoder": "json",
       "name": "ABC-GAN Model 1 MSE",
       "version": 1
      }
     },
     "metadata": {
      "scrapbook": {
       "data": true,
       "display": false,
       "name": "ABC-GAN Model 1 MSE"
      }
     },
     "output_type": "display_data"
    },
    {
     "data": {
      "application/scrapbook.scrap.json+json": {
       "data": 0.20696538977178872,
       "encoder": "json",
       "name": "ABC-GAN Model 1 MAE",
       "version": 1
      }
     },
     "metadata": {
      "scrapbook": {
       "data": true,
       "display": false,
       "name": "ABC-GAN Model 1 MAE"
      }
     },
     "output_type": "display_data"
    },
    {
     "data": {
      "application/scrapbook.scrap.json+json": {
       "data": 21.110469756722452,
       "encoder": "json",
       "name": "ABC-GAN Model 1 Manhattan Distance",
       "version": 1
      }
     },
     "metadata": {
      "scrapbook": {
       "data": true,
       "display": false,
       "name": "ABC-GAN Model 1 Manhattan Distance"
      }
     },
     "output_type": "display_data"
    },
    {
     "data": {
      "application/scrapbook.scrap.json+json": {
       "data": 3.241192236100533,
       "encoder": "json",
       "name": "ABC-GAN Model 1 Euclidean distance",
       "version": 1
      }
     },
     "metadata": {
      "scrapbook": {
       "data": true,
       "display": false,
       "name": "ABC-GAN Model 1 Euclidean distance"
      }
     },
     "output_type": "display_data"
    },
    {
     "data": {
      "application/scrapbook.scrap.json+json": {
       "data": [
        [
         0.10153343427149185,
         0.10272125378905628,
         0.10305603584974375,
         0.10364243341197739,
         0.10302349174899775,
         0.10282578942278424,
         0.10295767429460419,
         0.10216022171072825,
         0.10359937278145129,
         0.10213303075876384,
         0.10354869736246992,
         0.10254083955154737,
         0.10199207241956447,
         0.10178770698284531,
         0.10372166215018548,
         0.10359687433372732,
         0.10411661605256292,
         0.10177688393373456,
         0.10263086267669498,
         0.10273380452418798,
         0.10126392228890196,
         0.10380336771723664,
         0.10306942170569723,
         0.10345020166464262,
         0.10316900199197475,
         0.10155647368603317,
         0.10310982513029657,
         0.10359057395591319,
         0.103171717865248,
         0.10346971231140753,
         0.10351533899440686,
         0.10250549987603244,
         0.10334625787242531,
         0.1044805098581896,
         0.10325889579418741,
         0.10401949570880967,
         0.10450989487283613,
         0.1022135464610885,
         0.10279244121841338,
         0.10274085731094804,
         0.10311108518561615,
         0.10337912291575702,
         0.10165360227939582,
         0.1033114937979873,
         0.10337824407549429,
         0.10247206817321076,
         0.10390847040829689,
         0.10457081531096246,
         0.1034233554787596,
         0.10282113381072838,
         0.10341413423402511,
         0.1027742895792867,
         0.10238765929215243,
         0.10357628139124365,
         0.1023895077879238,
         0.10347345138352129,
         0.10216753448960599,
         0.10278177304228349,
         0.1032858419995311,
         0.10352972506856531,
         0.10320358562894175,
         0.10309063479603182,
         0.10337343298281372,
         0.10224968500786473,
         0.10220802996777405,
         0.1027712608947898,
         0.10196103854394141,
         0.10295326545642473,
         0.10281734955480665,
         0.10272660576776393,
         0.10314624212119246,
         0.10219542108721327,
         0.10380366123240119,
         0.10353195516604868,
         0.10212919497763225,
         0.10363347053878294,
         0.10212235590605423,
         0.10290829774425793,
         0.10195224958126077,
         0.10382442722279692,
         0.10282599384951135,
         0.1032958266708936,
         0.10261172400328472,
         0.10199742355999714,
         0.10460001867817977,
         0.10322575025684036,
         0.10305161752513727,
         0.10303770628258996,
         0.10278132940814838,
         0.10378662270005452,
         0.1022811559679062,
         0.1027239018108741,
         0.1031510889797417,
         0.10346342968504614,
         0.10379784791572108,
         0.10236252845489037,
         0.10375872676633349,
         0.10201601150818115,
         0.10366176484495035,
         0.10348389043573424
        ],
        [
         0.20522695646493458,
         0.20672768374503242,
         0.20685487362903124,
         0.20693281722054177,
         0.20686630705627157,
         0.20734910570158094,
         0.20710600750046035,
         0.20582652879038862,
         0.20707214475773714,
         0.20480520093777016,
         0.20760210733130283,
         0.2069886776563876,
         0.20585317951718382,
         0.20355862822821913,
         0.20714266275000923,
         0.20645934385338835,
         0.20875514647466878,
         0.20471545270479777,
         0.20684453828589006,
         0.2069661838422511,
         0.20491482381361956,
         0.2109779859253881,
         0.2066118230531905,
         0.20762542143975402,
         0.20725558155818896,
         0.2044540492306445,
         0.20785499135872312,
         0.20791038905507794,
         0.20607773395364776,
         0.20657613930091553,
         0.20824943583312572,
         0.207935000368047,
         0.2089820203791354,
         0.21028030026411892,
         0.20668777668227753,
         0.20959299019373515,
         0.20851547583280242,
         0.20559330815997193,
         0.20671312662535438,
         0.20511830567071834,
         0.20776920917206534,
         0.20740435190279694,
         0.20441592796979582,
         0.20814602177444042,
         0.20907654290032737,
         0.20621768916573593,
         0.20741921814852485,
         0.20974561285373627,
         0.20819436479359865,
         0.20728833328786433,
         0.2071974821498289,
         0.20598256491197675,
         0.20721726826227763,
         0.20642536212051033,
         0.20693337988546667,
         0.207728023604289,
         0.2060465567069603,
         0.20487235769556433,
         0.20699545746559606,
         0.2086987745783785,
         0.2060102764699681,
         0.20662386246098607,
         0.2071653407834032,
         0.2053118959324909,
         0.20622770040862115,
         0.20507112764479482,
         0.2050152510660244,
         0.20644094449851444,
         0.20757856524969434,
         0.20687905441531362,
         0.20818718075387033,
         0.20505475090341826,
         0.21002881986764715,
         0.20738151200188726,
         0.2048840074087767,
         0.20959934013366116,
         0.20604580449049964,
         0.20656065399959392,
         0.2049820372542622,
         0.20705171738404268,
         0.20455399789281337,
         0.2061880647807437,
         0.20666855213908003,
         0.2048504007615003,
         0.20997955158864165,
         0.20802581045484425,
         0.20843911687752195,
         0.2074366614186004,
         0.20554727372512513,
         0.2084580117690505,
         0.20489997597520843,
         0.2064903677057694,
         0.2080456487944021,
         0.20792311172494116,
         0.2076201472321854,
         0.2052725880571148,
         0.20846525431774995,
         0.2055025684154209,
         0.20939806985723622,
         0.20931923606743416
        ],
        [
         20.933149559423327,
         21.086223741993308,
         21.099197110161185,
         21.10714735649526,
         21.1003633197397,
         21.149608781561255,
         21.124812765046954,
         20.99430593661964,
         21.121358765289187,
         20.890130495652556,
         21.175414947792888,
         21.112845120951533,
         20.99702431075275,
         20.76298007927835,
         21.12855160050094,
         21.05885307304561,
         21.293024940416217,
         20.880976175889373,
         21.098142905160785,
         21.110550751909614,
         20.901312028989196,
         21.519754564389586,
         21.074405951425433,
         21.17779298685491,
         21.140069318935275,
         20.85431302152574,
         21.20120911858976,
         21.20685968361795,
         21.01992886327207,
         21.070766208693385,
         21.241442454978824,
         21.209370037540793,
         21.316166078671813,
         21.44859062694013,
         21.082153221592307,
         21.378484999760985,
         21.268578534945846,
         20.970517432317138,
         21.084738915786147,
         20.922067178413272,
         21.192459335550666,
         21.155243894085288,
         20.850424652919173,
         21.230894220992923,
         21.325807375833392,
         21.034204294905066,
         21.156760251149535,
         21.3940525110811,
         21.235825208947062,
         21.143409995362163,
         21.134143179282546,
         21.01022162102163,
         21.13616136275232,
         21.055386936292052,
         21.1072047483176,
         21.188258407637477,
         21.01674878410995,
         20.896980484947562,
         21.113536661490798,
         21.287275006994605,
         21.013048199936748,
         21.07563397102058,
         21.130864759907126,
         20.941813385114074,
         21.03522544167936,
         20.917255019769073,
         20.91155560873449,
         21.05697633884847,
         21.17301365546882,
         21.10166355036199,
         21.235092436894774,
         20.91558459214866,
         21.42293962650001,
         21.1529142241925,
         20.898168755695224,
         21.379132693633437,
         21.016672058030963,
         21.06918670795858,
         20.908167799934745,
         21.119275173172355,
         20.864507785066962,
         21.031182607635856,
         21.080192318186164,
         20.89474087767303,
         21.41791426204145,
         21.218632666394114,
         21.26078992150724,
         21.158539464697242,
         20.965821919962764,
         21.26271720044315,
         20.89979754947126,
         21.06201750598848,
         21.220656177029014,
         21.208157395944,
         21.17725501768291,
         20.93780398182571,
         21.263455940410495,
         20.96126197837293,
         21.358603125438094,
         21.350562078878284
        ],
        [
         3.218137706141887,
         3.236907148264179,
         3.2421776102912467,
         3.251388658407618,
         3.241665645682443,
         3.2385537699911655,
         3.2406299970915575,
         3.2280555469964085,
         3.2507131561717393,
         3.2276259289753377,
         3.249918019115549,
         3.234063331825434,
         3.225397864883583,
         3.2221648176730837,
         3.2526311717314216,
         3.2506739581262507,
         3.258818012310816,
         3.221993507324452,
         3.2354826522518843,
         3.2371048888578158,
         3.213863729760178,
         3.253912031256859,
         3.242388165223454,
         3.248371987595255,
         3.2439541000423273,
         3.2185028065818715,
         3.2430236143590214,
         3.250575109654158,
         3.2439967975100243,
         3.248678293670145,
         3.2493944939679915,
         3.233505989998365,
         3.246739642008176,
         3.2645079270137085,
         3.245367062599717,
         3.2572977392769276,
         3.2649669641558834,
         3.2288979139996092,
         3.2380285675512757,
         3.237216002326181,
         3.243043430010281,
         3.2472558472358184,
         3.2200415265176896,
         3.2461935197080756,
         3.2472420445203056,
         3.232978650357515,
         3.2555589353667496,
         3.26591842545373,
         3.2479504705018947,
         3.2384804536532705,
         3.2478056733540197,
         3.2377426607263344,
         3.2316468321584195,
         3.250350858277742,
         3.231676003928647,
         3.248736991681409,
         3.228171079410106,
         3.2378605359577977,
         3.2457904867616105,
         3.2496202788931603,
         3.2444977630061724,
         3.242721811872743,
         3.2471664823730553,
         3.229468666948512,
         3.228810780568126,
         3.2376949533994948,
         3.2249071198225265,
         3.240560611461437,
         3.2384208581637868,
         3.2369914717700325,
         3.2435962597650203,
         3.2286116135106364,
         3.25391663164638,
         3.249655278169819,
         3.2275653188926303,
         3.251248067274452,
         3.2274572502850494,
         3.239852831520949,
         3.224768124577114,
         3.254242089446525,
         3.2385569892546524,
         3.245947368709349,
         3.235180960678249,
         3.2254824760211775,
         3.2663744281962432,
         3.2448461483093025,
         3.2421081085559127,
         3.241889270290424,
         3.2378535482061466,
         3.253649568623757,
         3.229965620362921,
         3.236948869647026,
         3.243672467425411,
         3.2485796631566086,
         3.2538255158203473,
         3.2312502073344334,
         3.253212278681798,
         3.2257763676105133,
         3.2516918695019266,
         3.248900864053086
        ]
       ],
       "encoder": "json",
       "name": "ABC_GAN_1 Metrics",
       "version": 1
      }
     },
     "metadata": {
      "scrapbook": {
       "data": true,
       "display": false,
       "name": "ABC_GAN_1 Metrics"
      }
     },
     "output_type": "display_data"
    },
    {
     "name": "stdout",
     "output_type": "stream",
     "text": [
      "MSE\n",
      "0.10299461827498965\n"
     ]
    }
   ],
   "source": [
    "ABC_GAN1_metrics=ABC_train_test2.test_generator(gen,test_data,prior_model,variance,bias,\"1\",device)\n",
    "sb.glue(\"ABC_GAN_1 Metrics\",ABC_GAN1_metrics)\n",
    "\n",
    "print(\"MSE\")\n",
    "print(mean(ABC_GAN1_metrics[0]))"
   ]
  },
  {
   "cell_type": "code",
   "execution_count": 14,
   "id": "eb22ce5c",
   "metadata": {
    "execution": {
     "iopub.execute_input": "2022-06-11T15:18:53.235662Z",
     "iopub.status.busy": "2022-06-11T15:18:53.235285Z",
     "iopub.status.idle": "2022-06-11T15:18:53.556900Z",
     "shell.execute_reply": "2022-06-11T15:18:53.557266Z"
    },
    "papermill": {
     "duration": 0.337572,
     "end_time": "2022-06-11T15:18:53.557387",
     "exception": false,
     "start_time": "2022-06-11T15:18:53.219815",
     "status": "completed"
    },
    "tags": []
   },
   "outputs": [
    {
     "data": {
      "image/png": "[encoded data removed]",
      "text/plain": [
       "<Figure size 432x288 with 1 Axes>"
      ]
     },
     "metadata": {
      "needs_background": "light"
     },
     "output_type": "display_data"
    },
    {
     "data": {
      "image/png": "[encoded data removed]",
      "text/plain": [
       "<Figure size 432x288 with 1 Axes>"
      ]
     },
     "metadata": {
      "needs_background": "light"
     },
     "output_type": "display_data"
    },
    {
     "data": {
      "image/png": "[encoded data removed]",
      "text/plain": [
       "<Figure size 432x288 with 1 Axes>"
      ]
     },
     "metadata": {
      "needs_background": "light"
     },
     "output_type": "display_data"
    },
    {
     "data": {
      "image/png": "[encoded data removed]",
      "text/plain": [
       "<Figure size 432x288 with 1 Axes>"
      ]
     },
     "metadata": {
      "needs_background": "light"
     },
     "output_type": "display_data"
    }
   ],
   "source": [
    "sanityChecks.discProbVsError(train_data,disc,device)\n",
    "sanityChecks.discProbVsError(test_data,disc,device)"
   ]
  },
  {
   "cell_type": "markdown",
   "id": "130f3a4d",
   "metadata": {
    "id": "130f3a4d",
    "papermill": {
     "duration": 0.014418,
     "end_time": "2022-06-11T15:18:53.586764",
     "exception": false,
     "start_time": "2022-06-11T15:18:53.572346",
     "status": "completed"
    },
    "tags": []
   },
   "source": [
    "# ABC - GAN Model with skip connection"
   ]
  },
  {
   "cell_type": "code",
   "execution_count": 15,
   "id": "4e43dad1",
   "metadata": {
    "execution": {
     "iopub.execute_input": "2022-06-11T15:18:53.620303Z",
     "iopub.status.busy": "2022-06-11T15:18:53.619925Z",
     "iopub.status.idle": "2022-06-11T15:18:53.622335Z",
     "shell.execute_reply": "2022-06-11T15:18:53.622591Z"
    },
    "id": "4e43dad1",
    "papermill": {
     "duration": 0.021117,
     "end_time": "2022-06-11T15:18:53.622705",
     "exception": false,
     "start_time": "2022-06-11T15:18:53.601588",
     "status": "completed"
    },
    "tags": []
   },
   "outputs": [],
   "source": [
    "#Generator\n",
    "gen3 = network.GeneratorWithSkipConnection(n_features+1).to(device)\n",
    "constraints=network.weightConstraint()\n",
    "#Discriminator \n",
    "disc3 = network.Discriminator(n_features+1).to(device)\n",
    "\n",
    "criterion = torch.nn.BCELoss()\n",
    "gen_opt = torch.optim.Adam(gen3.parameters(), lr=0.001, betas=(0.5, 0.999))\n",
    "disc_opt = torch.optim.Adam(disc3.parameters(), lr=0.001, betas=(0.5, 0.999))\n"
   ]
  },
  {
   "cell_type": "code",
   "execution_count": 16,
   "id": "26acbc37",
   "metadata": {
    "execution": {
     "iopub.execute_input": "2022-06-11T15:18:53.655433Z",
     "iopub.status.busy": "2022-06-11T15:18:53.655045Z",
     "iopub.status.idle": "2022-06-11T15:21:50.942441Z",
     "shell.execute_reply": "2022-06-11T15:21:50.942750Z"
    },
    "id": "26acbc37",
    "papermill": {
     "duration": 177.305212,
     "end_time": "2022-06-11T15:21:50.942876",
     "exception": false,
     "start_time": "2022-06-11T15:18:53.637664",
     "status": "completed"
    },
    "tags": []
   },
   "outputs": [
    {
     "data": {
      "image/png": "[encoded data removed]",
      "text/plain": [
       "<Figure size 432x288 with 1 Axes>"
      ]
     },
     "metadata": {
      "needs_background": "light"
     },
     "output_type": "display_data"
    },
    {
     "data": {
      "image/png": "[encoded data removed]",
      "text/plain": [
       "<Figure size 432x288 with 1 Axes>"
      ]
     },
     "metadata": {
      "needs_background": "light"
     },
     "output_type": "display_data"
    }
   ],
   "source": [
    "ABC_train_test2.training_GAN_skip_connection(disc3,gen3,disc_opt,gen_opt,train_data,batch_size,n_epochs,criterion,prior_model,variance,bias,device)"
   ]
  },
  {
   "cell_type": "code",
   "execution_count": 17,
   "id": "c5e0717b",
   "metadata": {
    "execution": {
     "iopub.execute_input": "2022-06-11T15:21:50.977910Z",
     "iopub.status.busy": "2022-06-11T15:21:50.977524Z",
     "iopub.status.idle": "2022-06-11T15:21:51.811536Z",
     "shell.execute_reply": "2022-06-11T15:21:51.811860Z"
    },
    "id": "c5e0717b",
    "papermill": {
     "duration": 0.853328,
     "end_time": "2022-06-11T15:21:51.811988",
     "exception": false,
     "start_time": "2022-06-11T15:21:50.958660",
     "status": "completed"
    },
    "tags": []
   },
   "outputs": [
    {
     "data": {
      "application/scrapbook.scrap.json+json": {
       "data": 0.07110266312617756,
       "encoder": "json",
       "name": "ABC-GAN Model 3 MSE",
       "version": 1
      }
     },
     "metadata": {
      "scrapbook": {
       "data": true,
       "display": false,
       "name": "ABC-GAN Model 3 MSE"
      }
     },
     "output_type": "display_data"
    },
    {
     "data": {
      "application/scrapbook.scrap.json+json": {
       "data": 0.2163864975950827,
       "encoder": "json",
       "name": "ABC-GAN Model 3 MAE",
       "version": 1
      }
     },
     "metadata": {
      "scrapbook": {
       "data": true,
       "display": false,
       "name": "ABC-GAN Model 3 MAE"
      }
     },
     "output_type": "display_data"
    },
    {
     "data": {
      "application/scrapbook.scrap.json+json": {
       "data": 22.071422754698432,
       "encoder": "json",
       "name": "ABC-GAN Model 3 Manhattan Distance",
       "version": 1
      }
     },
     "metadata": {
      "scrapbook": {
       "data": true,
       "display": false,
       "name": "ABC-GAN Model 3 Manhattan Distance"
      }
     },
     "output_type": "display_data"
    },
    {
     "data": {
      "application/scrapbook.scrap.json+json": {
       "data": 2.69227368342017,
       "encoder": "json",
       "name": "ABC-GAN Model 3 Euclidean distance",
       "version": 1
      }
     },
     "metadata": {
      "scrapbook": {
       "data": true,
       "display": false,
       "name": "ABC-GAN Model 3 Euclidean distance"
      }
     },
     "output_type": "display_data"
    },
    {
     "data": {
      "application/scrapbook.scrap.json+json": {
       "data": [
        [
         0.06824914492116253,
         0.07027144848232379,
         0.07667932887116509,
         0.07112593667661785,
         0.07456808367380699,
         0.07231716438036738,
         0.07375993278297147,
         0.06766627210154198,
         0.06904860140785407,
         0.06920612465921872,
         0.07624013056407325,
         0.07164659651942251,
         0.06727057890885495,
         0.06743238655215925,
         0.07098268272633988,
         0.07121990040938309,
         0.06566271963110727,
         0.07677199438905137,
         0.0727597908189464,
         0.07391785590466372,
         0.07573773946733996,
         0.06851651819470934,
         0.06708698252669376,
         0.07016623419042203,
         0.07306769246827947,
         0.07132267258115091,
         0.06944700939569093,
         0.06717619830227022,
         0.06718909029470325,
         0.07439891782098677,
         0.07649334946965489,
         0.07398006672160211,
         0.07286736512153019,
         0.06687290340894846,
         0.06690198256830633,
         0.07014955564061087,
         0.07009289151181157,
         0.06626375438884018,
         0.07023501109256625,
         0.06987903555447789,
         0.0704155790113371,
         0.0690729571837792,
         0.07672805506453466,
         0.06553288274431546,
         0.07074587816188424,
         0.07164920727383625,
         0.07327929404872291,
         0.06982498040548316,
         0.07220265825024358,
         0.0753230352097856,
         0.07463650717104775,
         0.07126642015087234,
         0.06891985231842797,
         0.07661803721224568,
         0.07076123161643794,
         0.073007958405089,
         0.06955007109090194,
         0.07033358425673654,
         0.07153819159056858,
         0.07368573371023954,
         0.07660860904437851,
         0.07016140412950465,
         0.06792085980638383,
         0.07050588055267538,
         0.07698729792555777,
         0.07169994760619143,
         0.07008839557670862,
         0.07193473132715598,
         0.06778638247859996,
         0.070900162587096,
         0.06845650476156767,
         0.07063117902390159,
         0.07035742341490529,
         0.07078646004942607,
         0.06630551484104112,
         0.07350123574743975,
         0.06749865095739152,
         0.07367388845090048,
         0.07099341361152216,
         0.06579266987784366,
         0.07252180843955086,
         0.07078617807921474,
         0.07213053241027144,
         0.0708583846758568,
         0.07648393024122947,
         0.08197888602567806,
         0.06670088058435282,
         0.07202602940666822,
         0.06929687004349715,
         0.07132252611096414,
         0.06683546010300803,
         0.0741420763505685,
         0.07675584253086289,
         0.07042602200525686,
         0.0758540334987149,
         0.06103764435780964,
         0.07593815424742467,
         0.06956912823834648,
         0.0671196439927323,
         0.06615790952744045
        ],
        [
         0.21242230712417878,
         0.21707213076525458,
         0.22320954934419954,
         0.21626361954372889,
         0.22172678629045978,
         0.21892138090276836,
         0.22099944074437314,
         0.21337515789577188,
         0.21684193324443757,
         0.21095068553718282,
         0.2229211100504971,
         0.21689752184365893,
         0.20535583861683512,
         0.21654163178640837,
         0.21787467494826107,
         0.22087834693272324,
         0.21067276584240152,
         0.22763620377244317,
         0.22220858845713676,
         0.22244937679566004,
         0.22424673860636996,
         0.21221338106118434,
         0.2037909880243972,
         0.21681835138987676,
         0.22213902224001347,
         0.21989734523801827,
         0.21470975435758924,
         0.2118195601939863,
         0.21082111589574054,
         0.2238868130736199,
         0.22529659615646974,
         0.22152159671646124,
         0.2216099741156487,
         0.21276673048223352,
         0.20630653653586029,
         0.21843775086031825,
         0.21005114230929928,
         0.2111225689706557,
         0.2136148682010232,
         0.21634185129740074,
         0.21205460676448604,
         0.21414558956509128,
         0.22698877512605167,
         0.20805991084917502,
         0.21213520962891041,
         0.21628459899083657,
         0.2173868583003972,
         0.21733120005285622,
         0.22133128642670663,
         0.2236170976733168,
         0.2225588090608225,
         0.21812988005067205,
         0.21090101795818875,
         0.22476571566407003,
         0.21873544603951423,
         0.2230746810160139,
         0.21561626730231093,
         0.20943520760492368,
         0.21788284239158326,
         0.2207634974015402,
         0.22650912380320767,
         0.21592903716087924,
         0.21000913831898393,
         0.21661701449649592,
         0.22205131524698993,
         0.21420550976386843,
         0.2140972125800509,
         0.2165864005082232,
         0.21365079048144467,
         0.20783899412216508,
         0.2131821798964166,
         0.21330738124236756,
         0.21443233534912853,
         0.21394713093325787,
         0.21073132590847274,
         0.22272741968067838,
         0.2130862734298788,
         0.2222784620837546,
         0.21386628293012286,
         0.20857625938586744,
         0.21798162584138267,
         0.21466512695027917,
         0.21460847664332272,
         0.20977640960949892,
         0.22598963210760964,
         0.23136522553349828,
         0.20674299099939128,
         0.21681410744421037,
         0.21074237804129428,
         0.2143137417551057,
         0.21052640163357936,
         0.21963373858335555,
         0.22259752691595577,
         0.215076669484523,
         0.22234991589086314,
         0.20033273606688953,
         0.2220195553575953,
         0.21547120972079972,
         0.2131741679291807,
         0.20700830164566345
        ],
        [
         21.667075326666236,
         22.14135733805597,
         22.767374033108354,
         22.058889193460345,
         22.616132201626897,
         22.32998085208237,
         22.54194295592606,
         21.764266105368733,
         22.11787719093263,
         21.516969924792647,
         22.737953225150704,
         22.123547228053212,
         20.946295538917184,
         22.087246442213655,
         22.22321684472263,
         22.52959138713777,
         21.488622115924954,
         23.218892784789205,
         22.66527602262795,
         22.689836433157325,
         22.873167337849736,
         21.645764868240803,
         20.786680778488517,
         22.11547184176743,
         22.658180268481374,
         22.429529214277864,
         21.9003949444741,
         21.6055951397866,
         21.503753821365535,
         22.83645493350923,
         22.980252807959914,
         22.595202865079045,
         22.604217359796166,
         21.702206509187818,
         21.043266726657748,
         22.28065058775246,
         21.425216515548527,
         21.53450203500688,
         21.78871655650437,
         22.066868832334876,
         21.629569889977574,
         21.84285013563931,
         23.15285506285727,
         21.222110906615853,
         21.637791382148862,
         22.06102909706533,
         22.173459546640515,
         22.167782405391335,
         22.575791215524077,
         22.808943962678313,
         22.700998524203897,
         22.249247765168548,
         21.511903831735253,
         22.926102997735143,
         22.31101549603045,
         22.753617463633418,
         21.992859264835715,
         21.362391175702214,
         22.224049923941493,
         22.5178767349571,
         23.103930627927184,
         22.024761790409684,
         21.420932108536363,
         22.094935478642583,
         22.64923415519297,
         21.84896199591458,
         21.837915683165193,
         22.091812851838768,
         21.792380629107356,
         21.19957740046084,
         21.744582349434495,
         21.757352886721492,
         21.87209820561111,
         21.822607355192304,
         21.494595242664218,
         22.718196807429194,
         21.734799889847636,
         22.672403132542968,
         21.814360858872533,
         21.27477845735848,
         22.234125835821033,
         21.895842948928475,
         21.89006461761892,
         21.39719378016889,
         23.050942474976182,
         23.599253004416823,
         21.08778508193791,
         22.11503895930946,
         21.495722560212016,
         21.86000165902078,
         21.473692966625094,
         22.402641335502267,
         22.70494774542749,
         21.937820287421346,
         22.67969142086804,
         20.433939078822732,
         22.64599464647472,
         21.978063391521573,
         21.74376512877643,
         21.11484676785767
        ],
        [
         2.638448934877948,
         2.6772537692936442,
         2.7966572090370385,
         2.693482047650405,
         2.757887694364713,
         2.7159438077393045,
         2.742902321239874,
         2.6271581136957254,
         2.6538570691733034,
         2.656882518147972,
         2.788636462060889,
         2.703322556592368,
         2.619465412770935,
         2.622613854214959,
         2.6907682245200286,
         2.6952606259427077,
         2.5879716772741044,
         2.7983465524633004,
         2.724242768831833,
         2.745837085894882,
         2.779433292178223,
         2.643612084981523,
         2.6158884184388986,
         2.6752487524383683,
         2.7300008483083857,
         2.6972045905487763,
         2.66150238744219,
         2.61762721311335,
         2.61787837953938,
         2.754757633212158,
         2.7932636191209737,
         2.7469923199025175,
         2.726255901854424,
         2.6117113446383664,
         2.612279124053792,
         2.674930779542213,
         2.673850207884649,
         2.599789019836359,
         2.6765595699408147,
         2.669768084788778,
         2.6799979587970557,
         2.654325080457456,
         2.7975456415548496,
         2.5854117737645153,
         2.6862761534347492,
         2.7033718097833486,
         2.7339509858389444,
         2.6687352812445226,
         2.713792759501883,
         2.7718134120820848,
         2.7591527198484087,
         2.6961407336021943,
         2.6513817032784344,
         2.795539267413187,
         2.6865676289415585,
         2.728884709422345,
         2.663476534770299,
         2.6784371551685,
         2.7012766504447474,
         2.7415223578231918,
         2.795367260759596,
         2.675156672273509,
         2.6320956859983546,
         2.681715834381579,
         2.802267722471729,
         2.704328873460387,
         2.6737644527565023,
         2.708752959457527,
         2.6294887360126102,
         2.689203708141834,
         2.642454065008492,
         2.6840976622392043,
         2.678891037037591,
         2.6870465059320168,
         2.6006081046144174,
         2.7380880274817416,
         2.6239021318741926,
         2.7413019939422667,
         2.6909716067575404,
         2.5905312828723095,
         2.7197838996571373,
         2.6870411541470482,
         2.712436968087496,
         2.688411284929706,
         2.79309163555466,
         2.891685732340076,
         2.608350018614064,
         2.7104713611252484,
         2.658623844103695,
         2.697201821020878,
         2.610980070875076,
         2.7499985068646833,
         2.79805216858943,
         2.6801966801964734,
         2.781566360320911,
         2.495163266100353,
         2.783108286293819,
         2.663841414257114,
         2.616525116879006,
         2.597711833864358
        ]
       ],
       "encoder": "json",
       "name": "ABC_GAN_3 Metrics",
       "version": 1
      }
     },
     "metadata": {
      "scrapbook": {
       "data": true,
       "display": false,
       "name": "ABC_GAN_3 Metrics"
      }
     },
     "output_type": "display_data"
    },
    {
     "name": "stdout",
     "output_type": "stream",
     "text": [
      "MSE\n",
      "0.07110266312617756\n"
     ]
    }
   ],
   "source": [
    "ABC_GAN3_metrics=ABC_train_test2.test_generator(gen3,test_data,prior_model,variance,bias,\"3\",device)\n",
    "sb.glue(\"ABC_GAN_3 Metrics\",ABC_GAN3_metrics)\n",
    "\n",
    "print(\"MSE\")\n",
    "print(mean(ABC_GAN3_metrics[0]))"
   ]
  },
  {
   "cell_type": "code",
   "execution_count": 18,
   "id": "c8e46b48",
   "metadata": {
    "execution": {
     "iopub.execute_input": "2022-06-11T15:21:51.849810Z",
     "iopub.status.busy": "2022-06-11T15:21:51.849437Z",
     "iopub.status.idle": "2022-06-11T15:21:52.174006Z",
     "shell.execute_reply": "2022-06-11T15:21:52.174306Z"
    },
    "id": "c8e46b48",
    "papermill": {
     "duration": 0.345139,
     "end_time": "2022-06-11T15:21:52.174432",
     "exception": false,
     "start_time": "2022-06-11T15:21:51.829293",
     "status": "completed"
    },
    "tags": []
   },
   "outputs": [
    {
     "data": {
      "image/png": "[encoded data removed]",
      "text/plain": [
       "<Figure size 432x288 with 1 Axes>"
      ]
     },
     "metadata": {
      "needs_background": "light"
     },
     "output_type": "display_data"
    },
    {
     "data": {
      "image/png": "[encoded data removed]",
      "text/plain": [
       "<Figure size 432x288 with 1 Axes>"
      ]
     },
     "metadata": {
      "needs_background": "light"
     },
     "output_type": "display_data"
    },
    {
     "data": {
      "image/png": "[encoded data removed]",
      "text/plain": [
       "<Figure size 432x288 with 1 Axes>"
      ]
     },
     "metadata": {
      "needs_background": "light"
     },
     "output_type": "display_data"
    },
    {
     "data": {
      "image/png": "[encoded data removed]",
      "text/plain": [
       "<Figure size 432x288 with 1 Axes>"
      ]
     },
     "metadata": {
      "needs_background": "light"
     },
     "output_type": "display_data"
    }
   ],
   "source": [
    "sanityChecks.discProbVsError(train_data,disc3,device)\n",
    "sanityChecks.discProbVsError(test_data,disc3,device)"
   ]
  },
  {
   "cell_type": "markdown",
   "id": "a5bd74c3",
   "metadata": {
    "id": "a5bd74c3",
    "papermill": {
     "duration": 0.019884,
     "end_time": "2022-06-11T15:21:52.215066",
     "exception": false,
     "start_time": "2022-06-11T15:21:52.195182",
     "status": "completed"
    },
    "tags": []
   },
   "source": [
    "## Skip Connection Model Analysis - ABC-GAN "
   ]
  },
  {
   "cell_type": "markdown",
   "id": "5744a8bf",
   "metadata": {
    "id": "5744a8bf",
    "papermill": {
     "duration": 0.019158,
     "end_time": "2022-06-11T15:21:52.253799",
     "exception": false,
     "start_time": "2022-06-11T15:21:52.234641",
     "status": "completed"
    },
    "tags": []
   },
   "source": [
    "### Weight Analysis \n",
    "\n",
    "Study the weights of the skip connection layer\n",
    "\n",
    "Equation of the skip connection is \n",
    "\n",
    "$output = y_{gan} * w + y_{abc} * (1-w)$"
   ]
  },
  {
   "cell_type": "code",
   "execution_count": 19,
   "id": "52c31dea",
   "metadata": {
    "execution": {
     "iopub.execute_input": "2022-06-11T15:21:52.295200Z",
     "iopub.status.busy": "2022-06-11T15:21:52.294809Z",
     "iopub.status.idle": "2022-06-11T15:21:52.298230Z",
     "shell.execute_reply": "2022-06-11T15:21:52.298475Z"
    },
    "id": "52c31dea",
    "papermill": {
     "duration": 0.025696,
     "end_time": "2022-06-11T15:21:52.298585",
     "exception": false,
     "start_time": "2022-06-11T15:21:52.272889",
     "status": "completed"
    },
    "tags": []
   },
   "outputs": [
    {
     "name": "stdout",
     "output_type": "stream",
     "text": [
      "Weight of the node at skip connection\n",
      "Parameter containing:\n",
      "tensor([[0.4033]], requires_grad=True)\n"
     ]
    },
    {
     "data": {
      "application/scrapbook.scrap.json+json": {
       "data": 0.4033465087413788,
       "encoder": "json",
       "name": "Skip Connection Weight",
       "version": 1
      }
     },
     "metadata": {
      "scrapbook": {
       "data": true,
       "display": false,
       "name": "Skip Connection Weight"
      }
     },
     "output_type": "display_data"
    }
   ],
   "source": [
    "print(\"Weight of the node at skip connection\")\n",
    "for name,param in gen3.named_parameters():\n",
    "    if(name == \"skipNode.weight\"):\n",
    "        print(param)\n",
    "        sb.glue(\"Skip Connection Weight\",param.item())"
   ]
  }
 ],
 "metadata": {
  "colab": {
   "collapsed_sections": [],
   "name": "ABC_GAN_Model-Catboost_Pre-gen.ipynb",
   "provenance": []
  },
  "interpreter": {
   "hash": "31f2aee4e71d21fbe5cf8b01ff0e069b9275f58929596ceb00d14d90e3e16cd6"
  },
  "kernelspec": {
   "display_name": "Python 3 (ipykernel)",
   "language": "python",
   "name": "python3"
  },
  "language_info": {
   "codemirror_mode": {
    "name": "ipython",
    "version": 3
   },
   "file_extension": ".py",
   "mimetype": "text/x-python",
   "name": "python",
   "nbconvert_exporter": "python",
   "pygments_lexer": "ipython3",
   "version": "3.8.11"
  },
  "papermill": {
   "default_parameters": {},
   "duration": 244.134001,
   "end_time": "2022-06-11T15:21:52.625917",
   "environment_variables": {},
   "exception": null,
   "input_path": "ABC_GAN-Catboost.ipynb",
   "output_path": "./ABC_GAN_Catboost/ABC-GAN_output_1_6.ipynb",
   "parameters": {
    "bias": 0.01,
    "variance": 1
   },
   "start_time": "2022-06-11T15:17:48.491916",
   "version": "2.3.3"
  }
 },
 "nbformat": 4,
 "nbformat_minor": 5
}