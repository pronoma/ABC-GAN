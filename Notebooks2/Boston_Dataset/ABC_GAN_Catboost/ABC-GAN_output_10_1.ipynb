{
 "cells": [
  {
   "cell_type": "markdown",
   "id": "622780e6",
   "metadata": {
    "id": "622780e6",
    "papermill": {
     "duration": 0.012794,
     "end_time": "2022-06-12T08:23:33.448337",
     "exception": false,
     "start_time": "2022-06-12T08:23:33.435543",
     "status": "completed"
    },
    "tags": []
   },
   "source": [
    "## Import Libraries "
   ]
  },
  {
   "cell_type": "code",
   "execution_count": 1,
   "id": "a62397e3",
   "metadata": {
    "execution": {
     "iopub.execute_input": "2022-06-12T08:23:33.476521Z",
     "iopub.status.busy": "2022-06-12T08:23:33.476043Z",
     "iopub.status.idle": "2022-06-12T08:23:33.477981Z",
     "shell.execute_reply": "2022-06-12T08:23:33.478272Z"
    },
    "id": "a62397e3",
    "papermill": {
     "duration": 0.018511,
     "end_time": "2022-06-12T08:23:33.478487",
     "exception": false,
     "start_time": "2022-06-12T08:23:33.459976",
     "status": "completed"
    },
    "tags": []
   },
   "outputs": [],
   "source": [
    "import warnings\n",
    "import sys\n",
    "sys.path.insert(0, '../../src')\n",
    "warnings.filterwarnings('ignore')"
   ]
  },
  {
   "cell_type": "code",
   "execution_count": 2,
   "id": "d6a4e155",
   "metadata": {
    "execution": {
     "iopub.execute_input": "2022-06-12T08:23:33.496719Z",
     "iopub.status.busy": "2022-06-12T08:23:33.496327Z",
     "iopub.status.idle": "2022-06-12T08:23:35.547487Z",
     "shell.execute_reply": "2022-06-12T08:23:35.547818Z"
    },
    "id": "d6a4e155",
    "papermill": {
     "duration": 2.061565,
     "end_time": "2022-06-12T08:23:35.548096",
     "exception": false,
     "start_time": "2022-06-12T08:23:33.486531",
     "status": "completed"
    },
    "tags": []
   },
   "outputs": [],
   "source": [
    "import ABC_train_test2\n",
    "import bostonDataset\n",
    "import network\n",
    "import dataset\n",
    "import sanityChecks\n",
    "import torch \n",
    "import scrapbook as sb\n",
    "from statistics import mean \n",
    "import catboost as ctb \n",
    "from sklearn.model_selection import train_test_split\n",
    "from sklearn.metrics import mean_squared_error,mean_absolute_error\n",
    "import numpy as np"
   ]
  },
  {
   "cell_type": "markdown",
   "id": "2fa5b0f7",
   "metadata": {
    "id": "2fa5b0f7",
    "papermill": {
     "duration": 0.006866,
     "end_time": "2022-06-12T08:23:35.563879",
     "exception": false,
     "start_time": "2022-06-12T08:23:35.557013",
     "status": "completed"
    },
    "tags": []
   },
   "source": [
    "## Parameters "
   ]
  },
  {
   "cell_type": "code",
   "execution_count": 3,
   "id": "783186fb",
   "metadata": {
    "execution": {
     "iopub.execute_input": "2022-06-12T08:23:35.580437Z",
     "iopub.status.busy": "2022-06-12T08:23:35.580058Z",
     "iopub.status.idle": "2022-06-12T08:23:35.581288Z",
     "shell.execute_reply": "2022-06-12T08:23:35.581520Z"
    },
    "id": "783186fb",
    "papermill": {
     "duration": 0.010588,
     "end_time": "2022-06-12T08:23:35.581631",
     "exception": false,
     "start_time": "2022-06-12T08:23:35.571043",
     "status": "completed"
    },
    "tags": [
     "parameters"
    ]
   },
   "outputs": [],
   "source": [
    "variance = 1\n",
    "bias = 1 "
   ]
  },
  {
   "cell_type": "code",
   "execution_count": 4,
   "id": "7a14dff5",
   "metadata": {
    "execution": {
     "iopub.execute_input": "2022-06-12T08:23:35.597470Z",
     "iopub.status.busy": "2022-06-12T08:23:35.597105Z",
     "iopub.status.idle": "2022-06-12T08:23:35.598414Z",
     "shell.execute_reply": "2022-06-12T08:23:35.598673Z"
    },
    "papermill": {
     "duration": 0.01007,
     "end_time": "2022-06-12T08:23:35.598781",
     "exception": false,
     "start_time": "2022-06-12T08:23:35.588711",
     "status": "completed"
    },
    "tags": [
     "injected-parameters"
    ]
   },
   "outputs": [],
   "source": [
    "# Parameters\n",
    "variance = 0.1\n",
    "bias = 1\n"
   ]
  },
  {
   "cell_type": "markdown",
   "id": "391cdbfd",
   "metadata": {
    "id": "391cdbfd",
    "papermill": {
     "duration": 0.007169,
     "end_time": "2022-06-12T08:23:35.613020",
     "exception": false,
     "start_time": "2022-06-12T08:23:35.605851",
     "status": "completed"
    },
    "tags": []
   },
   "source": [
    "## Dataset \n"
   ]
  },
  {
   "cell_type": "code",
   "execution_count": 5,
   "id": "5b51f161",
   "metadata": {
    "execution": {
     "iopub.execute_input": "2022-06-12T08:23:35.629045Z",
     "iopub.status.busy": "2022-06-12T08:23:35.628672Z",
     "iopub.status.idle": "2022-06-12T08:23:35.629942Z",
     "shell.execute_reply": "2022-06-12T08:23:35.630182Z"
    },
    "id": "5b51f161",
    "papermill": {
     "duration": 0.010362,
     "end_time": "2022-06-12T08:23:35.630297",
     "exception": false,
     "start_time": "2022-06-12T08:23:35.619935",
     "status": "completed"
    },
    "tags": []
   },
   "outputs": [],
   "source": [
    "#Parameters \n",
    "n_features = 13\n",
    "n_samples= 506\n",
    "n_target = 1 "
   ]
  },
  {
   "cell_type": "code",
   "execution_count": 6,
   "id": "5d6eced4",
   "metadata": {
    "execution": {
     "iopub.execute_input": "2022-06-12T08:23:35.646624Z",
     "iopub.status.busy": "2022-06-12T08:23:35.646167Z",
     "iopub.status.idle": "2022-06-12T08:23:35.657251Z",
     "shell.execute_reply": "2022-06-12T08:23:35.657494Z"
    },
    "id": "5d6eced4",
    "papermill": {
     "duration": 0.020184,
     "end_time": "2022-06-12T08:23:35.657612",
     "exception": false,
     "start_time": "2022-06-12T08:23:35.637428",
     "status": "completed"
    },
    "tags": []
   },
   "outputs": [
    {
     "name": "stdout",
     "output_type": "stream",
     "text": [
      "         X1        X2        X3        X4        X5        X6        X7  \\\n",
      "0 -0.419782  0.284830 -1.287909 -0.272599 -0.144217  0.413672 -0.120013   \n",
      "1 -0.417339 -0.487722 -0.593381 -0.272599 -0.740262  0.194274  0.367166   \n",
      "2 -0.417342 -0.487722 -0.593381 -0.272599 -0.740262  1.282714 -0.265812   \n",
      "3 -0.416750 -0.487722 -1.306878 -0.272599 -0.835284  1.016303 -0.809889   \n",
      "4 -0.412482 -0.487722 -1.306878 -0.272599 -0.835284  1.228577 -0.511180   \n",
      "\n",
      "         X8        X9       X10       X11       X12       X13         Y  \n",
      "0  0.140214 -0.982843 -0.666608 -1.459000  0.441052 -1.075562  0.159686  \n",
      "1  0.557160 -0.867883 -0.987329 -0.303094  0.441052 -0.492439 -0.101524  \n",
      "2  0.557160 -0.867883 -0.987329 -0.303094  0.396427 -1.208727  1.324247  \n",
      "3  1.077737 -0.752922 -1.106115  0.113032  0.416163 -1.361517  1.182758  \n",
      "4  1.077737 -0.752922 -1.106115  0.113032  0.441052 -1.026501  1.487503  \n"
     ]
    }
   ],
   "source": [
    "X,Y = bostonDataset.boston_data()"
   ]
  },
  {
   "cell_type": "code",
   "execution_count": 7,
   "id": "fe007438",
   "metadata": {
    "execution": {
     "iopub.execute_input": "2022-06-12T08:23:35.674961Z",
     "iopub.status.busy": "2022-06-12T08:23:35.674549Z",
     "iopub.status.idle": "2022-06-12T08:23:35.676053Z",
     "shell.execute_reply": "2022-06-12T08:23:35.676281Z"
    },
    "id": "fe007438",
    "papermill": {
     "duration": 0.011367,
     "end_time": "2022-06-12T08:23:35.676394",
     "exception": false,
     "start_time": "2022-06-12T08:23:35.665027",
     "status": "completed"
    },
    "tags": []
   },
   "outputs": [],
   "source": [
    "#Train test split for dataset \n",
    "X_train,X_test,Y_train,Y_test = train_test_split(X,Y,test_size = 0.2)\n",
    "train_data = dataset.CustomDataset(X_train,Y_train)\n",
    "test_data = dataset.CustomDataset(X_test,Y_test)\n"
   ]
  },
  {
   "cell_type": "markdown",
   "id": "a9a1af34",
   "metadata": {
    "id": "a9a1af34",
    "papermill": {
     "duration": 0.007068,
     "end_time": "2022-06-12T08:23:35.690690",
     "exception": false,
     "start_time": "2022-06-12T08:23:35.683622",
     "status": "completed"
    },
    "tags": []
   },
   "source": [
    "## Training Parameters "
   ]
  },
  {
   "cell_type": "code",
   "execution_count": 8,
   "id": "952b7fc8",
   "metadata": {
    "execution": {
     "iopub.execute_input": "2022-06-12T08:23:35.707769Z",
     "iopub.status.busy": "2022-06-12T08:23:35.707347Z",
     "iopub.status.idle": "2022-06-12T08:23:35.708499Z",
     "shell.execute_reply": "2022-06-12T08:23:35.708745Z"
    },
    "id": "952b7fc8",
    "papermill": {
     "duration": 0.011049,
     "end_time": "2022-06-12T08:23:35.708861",
     "exception": false,
     "start_time": "2022-06-12T08:23:35.697812",
     "status": "completed"
    },
    "tags": []
   },
   "outputs": [],
   "source": [
    "batch_size = 32\n",
    "n_epochs = 1000\n",
    "#Select the device \n",
    "device = torch.device('cuda' if torch.cuda.is_available() else 'cpu')"
   ]
  },
  {
   "cell_type": "markdown",
   "id": "a95e1600",
   "metadata": {
    "id": "a95e1600",
    "papermill": {
     "duration": 0.007105,
     "end_time": "2022-06-12T08:23:35.723257",
     "exception": false,
     "start_time": "2022-06-12T08:23:35.716152",
     "status": "completed"
    },
    "tags": []
   },
   "source": [
    "# ABC Pre-generator Model \n",
    "\n",
    "1. The catboost model is used as a pre-generator model for the ABC-GAN. \n",
    "2. The model is first trained on the entire dataset \n",
    "3. It generats X,Y pairs and we add some Gaussian noise with mean 0 and variance 1 to it which is then feed as input to the generator.\n"
   ]
  },
  {
   "cell_type": "code",
   "execution_count": 9,
   "id": "ff8ce7bd",
   "metadata": {
    "execution": {
     "iopub.execute_input": "2022-06-12T08:23:35.742407Z",
     "iopub.status.busy": "2022-06-12T08:23:35.742017Z",
     "iopub.status.idle": "2022-06-12T08:23:36.890043Z",
     "shell.execute_reply": "2022-06-12T08:23:36.890300Z"
    },
    "id": "ff8ce7bd",
    "papermill": {
     "duration": 1.160004,
     "end_time": "2022-06-12T08:23:36.890424",
     "exception": false,
     "start_time": "2022-06-12T08:23:35.730420",
     "status": "completed"
    },
    "tags": []
   },
   "outputs": [
    {
     "name": "stdout",
     "output_type": "stream",
     "text": [
      "Learning rate set to 0.033215\n",
      "0:\tlearn: 0.9719015\ttotal: 57.7ms\tremaining: 57.6s\n",
      "1:\tlearn: 0.9522483\ttotal: 58.7ms\tremaining: 29.3s\n",
      "2:\tlearn: 0.9331857\ttotal: 59.9ms\tremaining: 19.9s\n",
      "3:\tlearn: 0.9174004\ttotal: 60.7ms\tremaining: 15.1s\n",
      "4:\tlearn: 0.9006634\ttotal: 61.8ms\tremaining: 12.3s\n",
      "5:\tlearn: 0.8873324\ttotal: 62.7ms\tremaining: 10.4s\n",
      "6:\tlearn: 0.8708736\ttotal: 63.8ms\tremaining: 9.04s\n",
      "7:\tlearn: 0.8554690\ttotal: 64.7ms\tremaining: 8.02s\n",
      "8:\tlearn: 0.8409336\ttotal: 65.5ms\tremaining: 7.22s\n",
      "9:\tlearn: 0.8251839\ttotal: 66.4ms\tremaining: 6.57s\n",
      "10:\tlearn: 0.8120085\ttotal: 67.3ms\tremaining: 6.05s\n",
      "11:\tlearn: 0.7973329\ttotal: 68.1ms\tremaining: 5.61s\n",
      "12:\tlearn: 0.7829160\ttotal: 69.4ms\tremaining: 5.27s\n",
      "13:\tlearn: 0.7683930\ttotal: 70.6ms\tremaining: 4.97s\n",
      "14:\tlearn: 0.7560133\ttotal: 71.8ms\tremaining: 4.71s\n",
      "15:\tlearn: 0.7430075\ttotal: 73.1ms\tremaining: 4.49s\n",
      "16:\tlearn: 0.7322459\ttotal: 74.2ms\tremaining: 4.29s\n",
      "17:\tlearn: 0.7213931\ttotal: 75.1ms\tremaining: 4.09s\n",
      "18:\tlearn: 0.7092126\ttotal: 75.9ms\tremaining: 3.92s\n",
      "19:\tlearn: 0.6971697\ttotal: 76.9ms\tremaining: 3.77s\n",
      "20:\tlearn: 0.6850409\ttotal: 77.9ms\tremaining: 3.63s\n",
      "21:\tlearn: 0.6756683\ttotal: 78.9ms\tremaining: 3.51s\n",
      "22:\tlearn: 0.6652117\ttotal: 79.9ms\tremaining: 3.4s\n",
      "23:\tlearn: 0.6554848\ttotal: 80.8ms\tremaining: 3.29s\n",
      "24:\tlearn: 0.6455414\ttotal: 81.7ms\tremaining: 3.19s\n",
      "25:\tlearn: 0.6371021\ttotal: 82.8ms\tremaining: 3.1s\n",
      "26:\tlearn: 0.6284520\ttotal: 83.7ms\tremaining: 3.02s\n",
      "27:\tlearn: 0.6199096\ttotal: 84.6ms\tremaining: 2.94s\n",
      "28:\tlearn: 0.6109546\ttotal: 85.4ms\tremaining: 2.86s\n",
      "29:\tlearn: 0.6022444\ttotal: 86.4ms\tremaining: 2.79s\n",
      "30:\tlearn: 0.5924099\ttotal: 87.8ms\tremaining: 2.75s\n",
      "31:\tlearn: 0.5843585\ttotal: 88.7ms\tremaining: 2.68s\n",
      "32:\tlearn: 0.5775749\ttotal: 89.9ms\tremaining: 2.63s\n",
      "33:\tlearn: 0.5708055\ttotal: 91.3ms\tremaining: 2.6s\n",
      "34:\tlearn: 0.5633347\ttotal: 92.9ms\tremaining: 2.56s\n",
      "35:\tlearn: 0.5569707\ttotal: 95.4ms\tremaining: 2.56s\n"
     ]
    },
    {
     "name": "stdout",
     "output_type": "stream",
     "text": [
      "36:\tlearn: 0.5507013\ttotal: 96.6ms\tremaining: 2.52s\n",
      "37:\tlearn: 0.5436418\ttotal: 97.7ms\tremaining: 2.47s\n",
      "38:\tlearn: 0.5361302\ttotal: 99ms\tremaining: 2.44s\n",
      "39:\tlearn: 0.5292399\ttotal: 100ms\tremaining: 2.4s\n",
      "40:\tlearn: 0.5231031\ttotal: 101ms\tremaining: 2.37s\n",
      "41:\tlearn: 0.5163922\ttotal: 102ms\tremaining: 2.33s\n",
      "42:\tlearn: 0.5109330\ttotal: 103ms\tremaining: 2.3s\n",
      "43:\tlearn: 0.5050588\ttotal: 105ms\tremaining: 2.27s\n",
      "44:\tlearn: 0.4977018\ttotal: 105ms\tremaining: 2.24s\n"
     ]
    },
    {
     "name": "stdout",
     "output_type": "stream",
     "text": [
      "45:\tlearn: 0.4913992\ttotal: 107ms\tremaining: 2.22s\n",
      "46:\tlearn: 0.4860270\ttotal: 108ms\tremaining: 2.19s\n",
      "47:\tlearn: 0.4803619\ttotal: 109ms\tremaining: 2.16s\n",
      "48:\tlearn: 0.4753400\ttotal: 110ms\tremaining: 2.13s\n",
      "49:\tlearn: 0.4703647\ttotal: 111ms\tremaining: 2.1s\n",
      "50:\tlearn: 0.4640531\ttotal: 112ms\tremaining: 2.08s\n",
      "51:\tlearn: 0.4590661\ttotal: 112ms\tremaining: 2.05s\n",
      "52:\tlearn: 0.4533155\ttotal: 113ms\tremaining: 2.02s\n",
      "53:\tlearn: 0.4500690\ttotal: 114ms\tremaining: 2s\n",
      "54:\tlearn: 0.4459143\ttotal: 115ms\tremaining: 1.97s\n",
      "55:\tlearn: 0.4426567\ttotal: 116ms\tremaining: 1.95s\n",
      "56:\tlearn: 0.4388098\ttotal: 117ms\tremaining: 1.93s\n",
      "57:\tlearn: 0.4345224\ttotal: 118ms\tremaining: 1.91s\n",
      "58:\tlearn: 0.4311808\ttotal: 118ms\tremaining: 1.89s\n",
      "59:\tlearn: 0.4273366\ttotal: 120ms\tremaining: 1.87s\n",
      "60:\tlearn: 0.4233931\ttotal: 120ms\tremaining: 1.85s\n",
      "61:\tlearn: 0.4186786\ttotal: 121ms\tremaining: 1.83s\n",
      "62:\tlearn: 0.4162692\ttotal: 122ms\tremaining: 1.81s\n",
      "63:\tlearn: 0.4120486\ttotal: 123ms\tremaining: 1.8s\n",
      "64:\tlearn: 0.4084386\ttotal: 124ms\tremaining: 1.78s\n",
      "65:\tlearn: 0.4047881\ttotal: 125ms\tremaining: 1.76s\n",
      "66:\tlearn: 0.4015226\ttotal: 126ms\tremaining: 1.75s\n",
      "67:\tlearn: 0.3977519\ttotal: 126ms\tremaining: 1.73s\n",
      "68:\tlearn: 0.3950930\ttotal: 127ms\tremaining: 1.71s\n",
      "69:\tlearn: 0.3925783\ttotal: 128ms\tremaining: 1.7s\n",
      "70:\tlearn: 0.3889523\ttotal: 129ms\tremaining: 1.68s\n",
      "71:\tlearn: 0.3859032\ttotal: 129ms\tremaining: 1.67s\n",
      "72:\tlearn: 0.3837408\ttotal: 130ms\tremaining: 1.66s\n",
      "73:\tlearn: 0.3807954\ttotal: 131ms\tremaining: 1.64s\n",
      "74:\tlearn: 0.3776034\ttotal: 132ms\tremaining: 1.63s\n",
      "75:\tlearn: 0.3751575\ttotal: 133ms\tremaining: 1.61s\n",
      "76:\tlearn: 0.3726160\ttotal: 134ms\tremaining: 1.6s\n",
      "77:\tlearn: 0.3699634\ttotal: 135ms\tremaining: 1.59s\n",
      "78:\tlearn: 0.3680173\ttotal: 136ms\tremaining: 1.58s\n",
      "79:\tlearn: 0.3654324\ttotal: 136ms\tremaining: 1.57s\n",
      "80:\tlearn: 0.3627277\ttotal: 137ms\tremaining: 1.55s\n",
      "81:\tlearn: 0.3599051\ttotal: 138ms\tremaining: 1.54s\n",
      "82:\tlearn: 0.3582303\ttotal: 139ms\tremaining: 1.53s\n",
      "83:\tlearn: 0.3557347\ttotal: 139ms\tremaining: 1.52s\n",
      "84:\tlearn: 0.3535274\ttotal: 140ms\tremaining: 1.51s\n",
      "85:\tlearn: 0.3509756\ttotal: 141ms\tremaining: 1.5s\n",
      "86:\tlearn: 0.3495569\ttotal: 142ms\tremaining: 1.49s\n",
      "87:\tlearn: 0.3469174\ttotal: 143ms\tremaining: 1.48s\n",
      "88:\tlearn: 0.3445394\ttotal: 143ms\tremaining: 1.47s\n",
      "89:\tlearn: 0.3423976\ttotal: 144ms\tremaining: 1.46s\n",
      "90:\tlearn: 0.3408646\ttotal: 145ms\tremaining: 1.45s\n",
      "91:\tlearn: 0.3394340\ttotal: 146ms\tremaining: 1.44s\n",
      "92:\tlearn: 0.3378224\ttotal: 147ms\tremaining: 1.43s\n",
      "93:\tlearn: 0.3352444\ttotal: 148ms\tremaining: 1.42s\n",
      "94:\tlearn: 0.3333251\ttotal: 149ms\tremaining: 1.41s\n",
      "95:\tlearn: 0.3322730\ttotal: 149ms\tremaining: 1.41s\n",
      "96:\tlearn: 0.3307531\ttotal: 150ms\tremaining: 1.4s\n",
      "97:\tlearn: 0.3285877\ttotal: 151ms\tremaining: 1.39s\n",
      "98:\tlearn: 0.3268457\ttotal: 152ms\tremaining: 1.38s\n",
      "99:\tlearn: 0.3255222\ttotal: 153ms\tremaining: 1.38s\n",
      "100:\tlearn: 0.3238989\ttotal: 154ms\tremaining: 1.37s\n",
      "101:\tlearn: 0.3222877\ttotal: 155ms\tremaining: 1.36s\n",
      "102:\tlearn: 0.3210564\ttotal: 156ms\tremaining: 1.35s\n",
      "103:\tlearn: 0.3193737\ttotal: 157ms\tremaining: 1.35s\n",
      "104:\tlearn: 0.3182389\ttotal: 157ms\tremaining: 1.34s\n",
      "105:\tlearn: 0.3164848\ttotal: 158ms\tremaining: 1.33s\n",
      "106:\tlearn: 0.3147376\ttotal: 159ms\tremaining: 1.33s\n",
      "107:\tlearn: 0.3129786\ttotal: 160ms\tremaining: 1.32s\n",
      "108:\tlearn: 0.3114633\ttotal: 161ms\tremaining: 1.31s\n",
      "109:\tlearn: 0.3097623\ttotal: 162ms\tremaining: 1.31s\n",
      "110:\tlearn: 0.3082939\ttotal: 163ms\tremaining: 1.3s\n",
      "111:\tlearn: 0.3070584\ttotal: 163ms\tremaining: 1.29s\n",
      "112:\tlearn: 0.3055039\ttotal: 164ms\tremaining: 1.29s\n",
      "113:\tlearn: 0.3039534\ttotal: 165ms\tremaining: 1.28s\n",
      "114:\tlearn: 0.3026573\ttotal: 166ms\tremaining: 1.28s\n",
      "115:\tlearn: 0.3015914\ttotal: 167ms\tremaining: 1.27s\n",
      "116:\tlearn: 0.3000397\ttotal: 168ms\tremaining: 1.26s\n",
      "117:\tlearn: 0.2986975\ttotal: 169ms\tremaining: 1.26s\n",
      "118:\tlearn: 0.2974057\ttotal: 169ms\tremaining: 1.25s\n",
      "119:\tlearn: 0.2967484\ttotal: 170ms\tremaining: 1.25s\n",
      "120:\tlearn: 0.2954224\ttotal: 171ms\tremaining: 1.24s\n",
      "121:\tlearn: 0.2943870\ttotal: 172ms\tremaining: 1.24s\n",
      "122:\tlearn: 0.2931366\ttotal: 173ms\tremaining: 1.23s\n",
      "123:\tlearn: 0.2915463\ttotal: 173ms\tremaining: 1.23s\n",
      "124:\tlearn: 0.2903688\ttotal: 174ms\tremaining: 1.22s\n",
      "125:\tlearn: 0.2891968\ttotal: 175ms\tremaining: 1.21s\n",
      "126:\tlearn: 0.2877317\ttotal: 176ms\tremaining: 1.21s\n",
      "127:\tlearn: 0.2863605\ttotal: 177ms\tremaining: 1.21s\n",
      "128:\tlearn: 0.2849728\ttotal: 178ms\tremaining: 1.2s\n",
      "129:\tlearn: 0.2836374\ttotal: 179ms\tremaining: 1.2s\n",
      "130:\tlearn: 0.2826732\ttotal: 180ms\tremaining: 1.19s\n",
      "131:\tlearn: 0.2816424\ttotal: 180ms\tremaining: 1.19s\n",
      "132:\tlearn: 0.2804986\ttotal: 181ms\tremaining: 1.18s\n",
      "133:\tlearn: 0.2789619\ttotal: 182ms\tremaining: 1.18s\n",
      "134:\tlearn: 0.2777801\ttotal: 183ms\tremaining: 1.17s\n",
      "135:\tlearn: 0.2765528\ttotal: 184ms\tremaining: 1.17s\n",
      "136:\tlearn: 0.2756686\ttotal: 185ms\tremaining: 1.16s\n",
      "137:\tlearn: 0.2747375\ttotal: 185ms\tremaining: 1.16s\n",
      "138:\tlearn: 0.2736148\ttotal: 186ms\tremaining: 1.15s\n",
      "139:\tlearn: 0.2725453\ttotal: 187ms\tremaining: 1.15s\n",
      "140:\tlearn: 0.2717782\ttotal: 188ms\tremaining: 1.14s\n",
      "141:\tlearn: 0.2707525\ttotal: 189ms\tremaining: 1.14s\n",
      "142:\tlearn: 0.2697731\ttotal: 190ms\tremaining: 1.14s\n",
      "143:\tlearn: 0.2686935\ttotal: 190ms\tremaining: 1.13s\n",
      "144:\tlearn: 0.2678341\ttotal: 191ms\tremaining: 1.13s\n",
      "145:\tlearn: 0.2665367\ttotal: 192ms\tremaining: 1.12s\n",
      "146:\tlearn: 0.2660136\ttotal: 193ms\tremaining: 1.12s\n",
      "147:\tlearn: 0.2653594\ttotal: 194ms\tremaining: 1.12s\n",
      "148:\tlearn: 0.2646024\ttotal: 195ms\tremaining: 1.11s\n",
      "149:\tlearn: 0.2640223\ttotal: 196ms\tremaining: 1.11s\n",
      "150:\tlearn: 0.2628635\ttotal: 197ms\tremaining: 1.1s\n",
      "151:\tlearn: 0.2621453\ttotal: 197ms\tremaining: 1.1s\n",
      "152:\tlearn: 0.2614992\ttotal: 198ms\tremaining: 1.1s\n",
      "153:\tlearn: 0.2606743\ttotal: 199ms\tremaining: 1.09s\n",
      "154:\tlearn: 0.2601769\ttotal: 201ms\tremaining: 1.09s\n",
      "155:\tlearn: 0.2595781\ttotal: 202ms\tremaining: 1.09s\n",
      "156:\tlearn: 0.2583699\ttotal: 203ms\tremaining: 1.09s\n",
      "157:\tlearn: 0.2573495\ttotal: 204ms\tremaining: 1.09s\n",
      "158:\tlearn: 0.2567081\ttotal: 205ms\tremaining: 1.08s\n",
      "159:\tlearn: 0.2557399\ttotal: 206ms\tremaining: 1.08s\n",
      "160:\tlearn: 0.2547977\ttotal: 207ms\tremaining: 1.08s\n",
      "161:\tlearn: 0.2543052\ttotal: 207ms\tremaining: 1.07s\n",
      "162:\tlearn: 0.2538941\ttotal: 208ms\tremaining: 1.07s\n",
      "163:\tlearn: 0.2532710\ttotal: 209ms\tremaining: 1.06s\n",
      "164:\tlearn: 0.2526953\ttotal: 210ms\tremaining: 1.06s\n",
      "165:\tlearn: 0.2519427\ttotal: 211ms\tremaining: 1.06s\n",
      "166:\tlearn: 0.2512740\ttotal: 212ms\tremaining: 1.06s\n",
      "167:\tlearn: 0.2505543\ttotal: 213ms\tremaining: 1.05s\n",
      "168:\tlearn: 0.2499348\ttotal: 214ms\tremaining: 1.05s\n",
      "169:\tlearn: 0.2489920\ttotal: 215ms\tremaining: 1.05s\n",
      "170:\tlearn: 0.2483777\ttotal: 216ms\tremaining: 1.05s\n",
      "171:\tlearn: 0.2473384\ttotal: 217ms\tremaining: 1.04s\n",
      "172:\tlearn: 0.2462206\ttotal: 218ms\tremaining: 1.04s\n"
     ]
    },
    {
     "name": "stdout",
     "output_type": "stream",
     "text": [
      "173:\tlearn: 0.2454549\ttotal: 219ms\tremaining: 1.04s\n",
      "174:\tlearn: 0.2448898\ttotal: 220ms\tremaining: 1.04s\n",
      "175:\tlearn: 0.2441212\ttotal: 221ms\tremaining: 1.03s\n",
      "176:\tlearn: 0.2432394\ttotal: 222ms\tremaining: 1.03s\n",
      "177:\tlearn: 0.2426885\ttotal: 222ms\tremaining: 1.03s\n",
      "178:\tlearn: 0.2420194\ttotal: 223ms\tremaining: 1.02s\n",
      "179:\tlearn: 0.2413751\ttotal: 224ms\tremaining: 1.02s\n",
      "180:\tlearn: 0.2404555\ttotal: 225ms\tremaining: 1.02s\n",
      "181:\tlearn: 0.2396436\ttotal: 226ms\tremaining: 1.01s\n",
      "182:\tlearn: 0.2390926\ttotal: 227ms\tremaining: 1.01s\n",
      "183:\tlearn: 0.2382703\ttotal: 228ms\tremaining: 1.01s\n",
      "184:\tlearn: 0.2372149\ttotal: 228ms\tremaining: 1s\n",
      "185:\tlearn: 0.2363875\ttotal: 229ms\tremaining: 1s\n",
      "186:\tlearn: 0.2354958\ttotal: 230ms\tremaining: 1s\n",
      "187:\tlearn: 0.2346221\ttotal: 231ms\tremaining: 998ms\n",
      "188:\tlearn: 0.2337528\ttotal: 232ms\tremaining: 995ms\n",
      "189:\tlearn: 0.2332840\ttotal: 233ms\tremaining: 993ms\n",
      "190:\tlearn: 0.2327484\ttotal: 234ms\tremaining: 989ms\n",
      "191:\tlearn: 0.2322196\ttotal: 235ms\tremaining: 989ms\n",
      "192:\tlearn: 0.2315311\ttotal: 236ms\tremaining: 986ms\n",
      "193:\tlearn: 0.2308413\ttotal: 237ms\tremaining: 983ms\n",
      "194:\tlearn: 0.2300128\ttotal: 238ms\tremaining: 980ms\n",
      "195:\tlearn: 0.2295824\ttotal: 238ms\tremaining: 978ms\n",
      "196:\tlearn: 0.2290207\ttotal: 240ms\tremaining: 976ms\n",
      "197:\tlearn: 0.2284490\ttotal: 241ms\tremaining: 975ms\n",
      "198:\tlearn: 0.2278404\ttotal: 241ms\tremaining: 971ms\n",
      "199:\tlearn: 0.2271735\ttotal: 242ms\tremaining: 968ms\n",
      "200:\tlearn: 0.2265075\ttotal: 243ms\tremaining: 965ms\n",
      "201:\tlearn: 0.2260587\ttotal: 244ms\tremaining: 962ms\n",
      "202:\tlearn: 0.2255190\ttotal: 244ms\tremaining: 959ms\n",
      "203:\tlearn: 0.2251940\ttotal: 245ms\tremaining: 955ms\n",
      "204:\tlearn: 0.2246381\ttotal: 245ms\tremaining: 952ms\n",
      "205:\tlearn: 0.2238458\ttotal: 246ms\tremaining: 948ms\n",
      "206:\tlearn: 0.2232788\ttotal: 247ms\tremaining: 945ms\n",
      "207:\tlearn: 0.2228380\ttotal: 247ms\tremaining: 942ms\n",
      "208:\tlearn: 0.2223112\ttotal: 248ms\tremaining: 939ms\n",
      "209:\tlearn: 0.2216645\ttotal: 249ms\tremaining: 937ms\n",
      "210:\tlearn: 0.2208866\ttotal: 250ms\tremaining: 935ms\n",
      "211:\tlearn: 0.2203816\ttotal: 251ms\tremaining: 932ms\n",
      "212:\tlearn: 0.2197749\ttotal: 252ms\tremaining: 930ms\n",
      "213:\tlearn: 0.2192057\ttotal: 253ms\tremaining: 928ms\n",
      "214:\tlearn: 0.2187654\ttotal: 254ms\tremaining: 926ms\n",
      "215:\tlearn: 0.2183608\ttotal: 255ms\tremaining: 924ms\n",
      "216:\tlearn: 0.2179646\ttotal: 255ms\tremaining: 921ms\n",
      "217:\tlearn: 0.2173656\ttotal: 256ms\tremaining: 919ms\n",
      "218:\tlearn: 0.2168026\ttotal: 257ms\tremaining: 917ms\n",
      "219:\tlearn: 0.2162815\ttotal: 258ms\tremaining: 914ms\n",
      "220:\tlearn: 0.2155742\ttotal: 259ms\tremaining: 912ms\n",
      "221:\tlearn: 0.2150217\ttotal: 260ms\tremaining: 910ms\n",
      "222:\tlearn: 0.2144778\ttotal: 260ms\tremaining: 908ms\n",
      "223:\tlearn: 0.2136711\ttotal: 261ms\tremaining: 906ms\n",
      "224:\tlearn: 0.2134134\ttotal: 262ms\tremaining: 903ms\n",
      "225:\tlearn: 0.2126045\ttotal: 263ms\tremaining: 901ms\n",
      "226:\tlearn: 0.2116134\ttotal: 264ms\tremaining: 899ms\n",
      "227:\tlearn: 0.2112308\ttotal: 265ms\tremaining: 897ms\n",
      "228:\tlearn: 0.2108348\ttotal: 266ms\tremaining: 895ms\n",
      "229:\tlearn: 0.2102106\ttotal: 267ms\tremaining: 893ms\n",
      "230:\tlearn: 0.2097345\ttotal: 268ms\tremaining: 891ms\n",
      "231:\tlearn: 0.2091148\ttotal: 268ms\tremaining: 888ms\n",
      "232:\tlearn: 0.2083465\ttotal: 270ms\tremaining: 888ms\n",
      "233:\tlearn: 0.2076545\ttotal: 271ms\tremaining: 886ms\n",
      "234:\tlearn: 0.2071176\ttotal: 272ms\tremaining: 884ms\n",
      "235:\tlearn: 0.2068718\ttotal: 272ms\tremaining: 882ms\n",
      "236:\tlearn: 0.2062801\ttotal: 273ms\tremaining: 880ms\n",
      "237:\tlearn: 0.2056733\ttotal: 274ms\tremaining: 877ms\n",
      "238:\tlearn: 0.2053982\ttotal: 275ms\tremaining: 876ms\n",
      "239:\tlearn: 0.2047902\ttotal: 276ms\tremaining: 874ms\n",
      "240:\tlearn: 0.2041206\ttotal: 277ms\tremaining: 872ms\n",
      "241:\tlearn: 0.2036339\ttotal: 278ms\tremaining: 870ms\n",
      "242:\tlearn: 0.2031734\ttotal: 279ms\tremaining: 868ms\n",
      "243:\tlearn: 0.2028724\ttotal: 279ms\tremaining: 866ms\n",
      "244:\tlearn: 0.2023703\ttotal: 280ms\tremaining: 864ms\n",
      "245:\tlearn: 0.2016886\ttotal: 281ms\tremaining: 862ms\n",
      "246:\tlearn: 0.2012934\ttotal: 282ms\tremaining: 859ms\n",
      "247:\tlearn: 0.2006265\ttotal: 283ms\tremaining: 857ms\n",
      "248:\tlearn: 0.2003410\ttotal: 284ms\tremaining: 855ms\n",
      "249:\tlearn: 0.1995707\ttotal: 284ms\tremaining: 853ms\n",
      "250:\tlearn: 0.1991996\ttotal: 285ms\tremaining: 851ms\n",
      "251:\tlearn: 0.1987289\ttotal: 286ms\tremaining: 849ms\n",
      "252:\tlearn: 0.1984010\ttotal: 287ms\tremaining: 847ms\n",
      "253:\tlearn: 0.1977524\ttotal: 288ms\tremaining: 845ms\n",
      "254:\tlearn: 0.1975370\ttotal: 289ms\tremaining: 846ms\n",
      "255:\tlearn: 0.1973225\ttotal: 290ms\tremaining: 843ms\n",
      "256:\tlearn: 0.1966680\ttotal: 292ms\tremaining: 843ms\n",
      "257:\tlearn: 0.1961654\ttotal: 292ms\tremaining: 841ms\n",
      "258:\tlearn: 0.1957268\ttotal: 293ms\tremaining: 839ms\n",
      "259:\tlearn: 0.1954916\ttotal: 294ms\tremaining: 837ms\n",
      "260:\tlearn: 0.1949376\ttotal: 295ms\tremaining: 834ms\n",
      "261:\tlearn: 0.1943529\ttotal: 295ms\tremaining: 832ms\n"
     ]
    },
    {
     "name": "stdout",
     "output_type": "stream",
     "text": [
      "262:\tlearn: 0.1940045\ttotal: 297ms\tremaining: 831ms\n",
      "263:\tlearn: 0.1937124\ttotal: 297ms\tremaining: 829ms\n",
      "264:\tlearn: 0.1932291\ttotal: 298ms\tremaining: 827ms\n",
      "265:\tlearn: 0.1925235\ttotal: 299ms\tremaining: 825ms\n",
      "266:\tlearn: 0.1919812\ttotal: 300ms\tremaining: 823ms\n",
      "267:\tlearn: 0.1913357\ttotal: 301ms\tremaining: 821ms\n",
      "268:\tlearn: 0.1907592\ttotal: 301ms\tremaining: 819ms\n",
      "269:\tlearn: 0.1902058\ttotal: 302ms\tremaining: 817ms\n",
      "270:\tlearn: 0.1898267\ttotal: 303ms\tremaining: 815ms\n",
      "271:\tlearn: 0.1893065\ttotal: 304ms\tremaining: 813ms\n",
      "272:\tlearn: 0.1889694\ttotal: 305ms\tremaining: 812ms\n",
      "273:\tlearn: 0.1885918\ttotal: 306ms\tremaining: 810ms\n",
      "274:\tlearn: 0.1883694\ttotal: 307ms\tremaining: 808ms\n",
      "275:\tlearn: 0.1882205\ttotal: 307ms\tremaining: 806ms\n",
      "276:\tlearn: 0.1877568\ttotal: 308ms\tremaining: 804ms\n",
      "277:\tlearn: 0.1871957\ttotal: 309ms\tremaining: 802ms\n",
      "278:\tlearn: 0.1869640\ttotal: 310ms\tremaining: 802ms\n",
      "279:\tlearn: 0.1865432\ttotal: 311ms\tremaining: 801ms\n",
      "280:\tlearn: 0.1863991\ttotal: 313ms\tremaining: 800ms\n",
      "281:\tlearn: 0.1859233\ttotal: 313ms\tremaining: 798ms\n",
      "282:\tlearn: 0.1856271\ttotal: 315ms\tremaining: 797ms\n",
      "283:\tlearn: 0.1853291\ttotal: 315ms\tremaining: 795ms\n",
      "284:\tlearn: 0.1847671\ttotal: 316ms\tremaining: 793ms\n",
      "285:\tlearn: 0.1841282\ttotal: 317ms\tremaining: 792ms\n",
      "286:\tlearn: 0.1838113\ttotal: 318ms\tremaining: 790ms\n",
      "287:\tlearn: 0.1832266\ttotal: 319ms\tremaining: 788ms\n",
      "288:\tlearn: 0.1829794\ttotal: 320ms\tremaining: 788ms\n",
      "289:\tlearn: 0.1824148\ttotal: 321ms\tremaining: 786ms\n",
      "290:\tlearn: 0.1820953\ttotal: 321ms\tremaining: 783ms\n",
      "291:\tlearn: 0.1819457\ttotal: 322ms\tremaining: 781ms\n",
      "292:\tlearn: 0.1815264\ttotal: 323ms\tremaining: 780ms\n",
      "293:\tlearn: 0.1810014\ttotal: 324ms\tremaining: 778ms\n",
      "294:\tlearn: 0.1806806\ttotal: 325ms\tremaining: 777ms\n",
      "295:\tlearn: 0.1803708\ttotal: 326ms\tremaining: 775ms\n",
      "296:\tlearn: 0.1797723\ttotal: 327ms\tremaining: 773ms\n",
      "297:\tlearn: 0.1794220\ttotal: 328ms\tremaining: 772ms\n",
      "298:\tlearn: 0.1788828\ttotal: 329ms\tremaining: 770ms\n",
      "299:\tlearn: 0.1787491\ttotal: 329ms\tremaining: 768ms\n",
      "300:\tlearn: 0.1783526\ttotal: 330ms\tremaining: 767ms\n",
      "301:\tlearn: 0.1780345\ttotal: 331ms\tremaining: 765ms\n",
      "302:\tlearn: 0.1776295\ttotal: 332ms\tremaining: 765ms\n",
      "303:\tlearn: 0.1769776\ttotal: 333ms\tremaining: 763ms\n",
      "304:\tlearn: 0.1766761\ttotal: 334ms\tremaining: 761ms\n",
      "305:\tlearn: 0.1764178\ttotal: 335ms\tremaining: 759ms\n",
      "306:\tlearn: 0.1762386\ttotal: 336ms\tremaining: 758ms\n",
      "307:\tlearn: 0.1756965\ttotal: 337ms\tremaining: 756ms\n",
      "308:\tlearn: 0.1753661\ttotal: 338ms\tremaining: 755ms\n",
      "309:\tlearn: 0.1750833\ttotal: 338ms\tremaining: 753ms\n",
      "310:\tlearn: 0.1746538\ttotal: 339ms\tremaining: 752ms\n",
      "311:\tlearn: 0.1741252\ttotal: 340ms\tremaining: 750ms\n",
      "312:\tlearn: 0.1736463\ttotal: 341ms\tremaining: 748ms\n",
      "313:\tlearn: 0.1732751\ttotal: 342ms\tremaining: 747ms\n",
      "314:\tlearn: 0.1728925\ttotal: 343ms\tremaining: 745ms\n",
      "315:\tlearn: 0.1727590\ttotal: 344ms\tremaining: 744ms\n",
      "316:\tlearn: 0.1722604\ttotal: 344ms\tremaining: 742ms\n",
      "317:\tlearn: 0.1718429\ttotal: 345ms\tremaining: 741ms\n",
      "318:\tlearn: 0.1715697\ttotal: 346ms\tremaining: 739ms\n",
      "319:\tlearn: 0.1711739\ttotal: 347ms\tremaining: 738ms\n",
      "320:\tlearn: 0.1710025\ttotal: 348ms\tremaining: 736ms\n",
      "321:\tlearn: 0.1706233\ttotal: 349ms\tremaining: 734ms\n",
      "322:\tlearn: 0.1702757\ttotal: 349ms\tremaining: 733ms\n",
      "323:\tlearn: 0.1697080\ttotal: 350ms\tremaining: 731ms\n",
      "324:\tlearn: 0.1694456\ttotal: 351ms\tremaining: 729ms\n",
      "325:\tlearn: 0.1691262\ttotal: 352ms\tremaining: 727ms\n",
      "326:\tlearn: 0.1685778\ttotal: 353ms\tremaining: 726ms\n",
      "327:\tlearn: 0.1684229\ttotal: 353ms\tremaining: 724ms\n",
      "328:\tlearn: 0.1679254\ttotal: 354ms\tremaining: 722ms\n",
      "329:\tlearn: 0.1676156\ttotal: 355ms\tremaining: 721ms\n",
      "330:\tlearn: 0.1672206\ttotal: 356ms\tremaining: 719ms\n",
      "331:\tlearn: 0.1667605\ttotal: 356ms\tremaining: 717ms\n",
      "332:\tlearn: 0.1664652\ttotal: 358ms\tremaining: 716ms\n",
      "333:\tlearn: 0.1660814\ttotal: 358ms\tremaining: 714ms\n",
      "334:\tlearn: 0.1659652\ttotal: 359ms\tremaining: 713ms\n",
      "335:\tlearn: 0.1657938\ttotal: 360ms\tremaining: 712ms\n",
      "336:\tlearn: 0.1654232\ttotal: 361ms\tremaining: 710ms\n",
      "337:\tlearn: 0.1651290\ttotal: 363ms\tremaining: 710ms\n",
      "338:\tlearn: 0.1646794\ttotal: 364ms\tremaining: 709ms\n",
      "339:\tlearn: 0.1642889\ttotal: 364ms\tremaining: 707ms\n",
      "340:\tlearn: 0.1639408\ttotal: 365ms\tremaining: 706ms\n",
      "341:\tlearn: 0.1636296\ttotal: 366ms\tremaining: 704ms\n",
      "342:\tlearn: 0.1634604\ttotal: 367ms\tremaining: 702ms\n",
      "343:\tlearn: 0.1633487\ttotal: 368ms\tremaining: 701ms\n",
      "344:\tlearn: 0.1630991\ttotal: 369ms\tremaining: 700ms\n",
      "345:\tlearn: 0.1628162\ttotal: 369ms\tremaining: 698ms\n",
      "346:\tlearn: 0.1623511\ttotal: 370ms\tremaining: 696ms\n",
      "347:\tlearn: 0.1622417\ttotal: 371ms\tremaining: 695ms\n",
      "348:\tlearn: 0.1619967\ttotal: 371ms\tremaining: 693ms\n",
      "349:\tlearn: 0.1615089\ttotal: 372ms\tremaining: 691ms\n",
      "350:\tlearn: 0.1611947\ttotal: 373ms\tremaining: 690ms\n",
      "351:\tlearn: 0.1609663\ttotal: 374ms\tremaining: 688ms\n",
      "352:\tlearn: 0.1607075\ttotal: 375ms\tremaining: 687ms\n",
      "353:\tlearn: 0.1604506\ttotal: 375ms\tremaining: 685ms\n",
      "354:\tlearn: 0.1602632\ttotal: 376ms\tremaining: 684ms\n",
      "355:\tlearn: 0.1598537\ttotal: 377ms\tremaining: 683ms\n",
      "356:\tlearn: 0.1595812\ttotal: 378ms\tremaining: 681ms\n"
     ]
    },
    {
     "name": "stdout",
     "output_type": "stream",
     "text": [
      "357:\tlearn: 0.1593890\ttotal: 379ms\tremaining: 680ms\n",
      "358:\tlearn: 0.1590349\ttotal: 380ms\tremaining: 678ms\n",
      "359:\tlearn: 0.1586417\ttotal: 381ms\tremaining: 677ms\n",
      "360:\tlearn: 0.1583698\ttotal: 381ms\tremaining: 675ms\n",
      "361:\tlearn: 0.1580332\ttotal: 382ms\tremaining: 674ms\n",
      "362:\tlearn: 0.1575766\ttotal: 383ms\tremaining: 672ms\n",
      "363:\tlearn: 0.1574325\ttotal: 384ms\tremaining: 671ms\n",
      "364:\tlearn: 0.1570352\ttotal: 385ms\tremaining: 669ms\n",
      "365:\tlearn: 0.1565321\ttotal: 385ms\tremaining: 668ms\n",
      "366:\tlearn: 0.1563667\ttotal: 386ms\tremaining: 666ms\n",
      "367:\tlearn: 0.1559784\ttotal: 387ms\tremaining: 665ms\n",
      "368:\tlearn: 0.1555929\ttotal: 388ms\tremaining: 663ms\n",
      "369:\tlearn: 0.1554480\ttotal: 389ms\tremaining: 662ms\n",
      "370:\tlearn: 0.1550122\ttotal: 389ms\tremaining: 660ms\n",
      "371:\tlearn: 0.1546362\ttotal: 390ms\tremaining: 659ms\n",
      "372:\tlearn: 0.1545119\ttotal: 391ms\tremaining: 657ms\n",
      "373:\tlearn: 0.1542847\ttotal: 392ms\tremaining: 656ms\n",
      "374:\tlearn: 0.1541797\ttotal: 393ms\tremaining: 654ms\n",
      "375:\tlearn: 0.1538790\ttotal: 393ms\tremaining: 653ms\n",
      "376:\tlearn: 0.1534514\ttotal: 394ms\tremaining: 651ms\n",
      "377:\tlearn: 0.1530635\ttotal: 395ms\tremaining: 650ms\n",
      "378:\tlearn: 0.1525762\ttotal: 396ms\tremaining: 649ms\n",
      "379:\tlearn: 0.1522991\ttotal: 397ms\tremaining: 648ms\n",
      "380:\tlearn: 0.1518824\ttotal: 398ms\tremaining: 646ms\n",
      "381:\tlearn: 0.1516926\ttotal: 399ms\tremaining: 645ms\n",
      "382:\tlearn: 0.1515277\ttotal: 399ms\tremaining: 643ms\n",
      "383:\tlearn: 0.1511433\ttotal: 400ms\tremaining: 642ms\n",
      "384:\tlearn: 0.1507453\ttotal: 401ms\tremaining: 641ms\n",
      "385:\tlearn: 0.1504926\ttotal: 402ms\tremaining: 640ms\n",
      "386:\tlearn: 0.1500003\ttotal: 403ms\tremaining: 639ms\n",
      "387:\tlearn: 0.1497837\ttotal: 404ms\tremaining: 637ms\n",
      "388:\tlearn: 0.1494836\ttotal: 405ms\tremaining: 636ms\n",
      "389:\tlearn: 0.1493370\ttotal: 405ms\tremaining: 634ms\n",
      "390:\tlearn: 0.1491311\ttotal: 406ms\tremaining: 633ms\n",
      "391:\tlearn: 0.1490149\ttotal: 407ms\tremaining: 632ms\n",
      "392:\tlearn: 0.1486199\ttotal: 408ms\tremaining: 630ms\n",
      "393:\tlearn: 0.1483298\ttotal: 409ms\tremaining: 629ms\n",
      "394:\tlearn: 0.1481926\ttotal: 410ms\tremaining: 627ms\n",
      "395:\tlearn: 0.1480311\ttotal: 410ms\tremaining: 626ms\n",
      "396:\tlearn: 0.1477461\ttotal: 411ms\tremaining: 625ms\n",
      "397:\tlearn: 0.1475456\ttotal: 412ms\tremaining: 623ms\n",
      "398:\tlearn: 0.1471752\ttotal: 413ms\tremaining: 622ms\n",
      "399:\tlearn: 0.1469373\ttotal: 414ms\tremaining: 621ms\n",
      "400:\tlearn: 0.1466613\ttotal: 415ms\tremaining: 620ms\n",
      "401:\tlearn: 0.1463079\ttotal: 416ms\tremaining: 619ms\n",
      "402:\tlearn: 0.1458418\ttotal: 417ms\tremaining: 617ms\n",
      "403:\tlearn: 0.1455898\ttotal: 418ms\tremaining: 616ms\n",
      "404:\tlearn: 0.1452855\ttotal: 418ms\tremaining: 615ms\n",
      "405:\tlearn: 0.1451787\ttotal: 419ms\tremaining: 613ms\n",
      "406:\tlearn: 0.1450879\ttotal: 420ms\tremaining: 612ms\n",
      "407:\tlearn: 0.1448633\ttotal: 421ms\tremaining: 611ms\n",
      "408:\tlearn: 0.1444791\ttotal: 422ms\tremaining: 609ms\n",
      "409:\tlearn: 0.1439727\ttotal: 423ms\tremaining: 608ms\n",
      "410:\tlearn: 0.1436862\ttotal: 423ms\tremaining: 607ms\n",
      "411:\tlearn: 0.1432921\ttotal: 424ms\tremaining: 605ms\n",
      "412:\tlearn: 0.1432342\ttotal: 425ms\tremaining: 604ms\n",
      "413:\tlearn: 0.1427880\ttotal: 426ms\tremaining: 603ms\n",
      "414:\tlearn: 0.1426687\ttotal: 427ms\tremaining: 601ms\n",
      "415:\tlearn: 0.1423555\ttotal: 428ms\tremaining: 600ms\n",
      "416:\tlearn: 0.1419709\ttotal: 428ms\tremaining: 599ms\n",
      "417:\tlearn: 0.1416421\ttotal: 429ms\tremaining: 597ms\n",
      "418:\tlearn: 0.1414574\ttotal: 430ms\tremaining: 596ms\n",
      "419:\tlearn: 0.1412462\ttotal: 431ms\tremaining: 595ms\n",
      "420:\tlearn: 0.1408300\ttotal: 432ms\tremaining: 594ms\n",
      "421:\tlearn: 0.1406015\ttotal: 433ms\tremaining: 593ms\n",
      "422:\tlearn: 0.1403588\ttotal: 433ms\tremaining: 591ms\n",
      "423:\tlearn: 0.1401430\ttotal: 434ms\tremaining: 590ms\n",
      "424:\tlearn: 0.1397997\ttotal: 435ms\tremaining: 589ms\n",
      "425:\tlearn: 0.1396498\ttotal: 436ms\tremaining: 588ms\n",
      "426:\tlearn: 0.1392493\ttotal: 437ms\tremaining: 587ms\n",
      "427:\tlearn: 0.1388678\ttotal: 438ms\tremaining: 585ms\n",
      "428:\tlearn: 0.1386297\ttotal: 439ms\tremaining: 585ms\n",
      "429:\tlearn: 0.1385309\ttotal: 440ms\tremaining: 583ms\n",
      "430:\tlearn: 0.1381821\ttotal: 441ms\tremaining: 582ms\n",
      "431:\tlearn: 0.1380369\ttotal: 442ms\tremaining: 581ms\n",
      "432:\tlearn: 0.1377871\ttotal: 443ms\tremaining: 580ms\n",
      "433:\tlearn: 0.1374954\ttotal: 443ms\tremaining: 578ms\n",
      "434:\tlearn: 0.1373005\ttotal: 444ms\tremaining: 577ms\n",
      "435:\tlearn: 0.1369339\ttotal: 445ms\tremaining: 576ms\n",
      "436:\tlearn: 0.1366831\ttotal: 446ms\tremaining: 574ms\n",
      "437:\tlearn: 0.1364111\ttotal: 447ms\tremaining: 573ms\n",
      "438:\tlearn: 0.1360782\ttotal: 447ms\tremaining: 572ms\n",
      "439:\tlearn: 0.1357616\ttotal: 448ms\tremaining: 571ms\n",
      "440:\tlearn: 0.1354269\ttotal: 449ms\tremaining: 570ms\n",
      "441:\tlearn: 0.1352088\ttotal: 450ms\tremaining: 568ms\n",
      "442:\tlearn: 0.1349524\ttotal: 451ms\tremaining: 567ms\n",
      "443:\tlearn: 0.1345299\ttotal: 452ms\tremaining: 566ms\n",
      "444:\tlearn: 0.1342111\ttotal: 453ms\tremaining: 565ms\n",
      "445:\tlearn: 0.1340125\ttotal: 454ms\tremaining: 563ms\n",
      "446:\tlearn: 0.1337350\ttotal: 454ms\tremaining: 562ms\n",
      "447:\tlearn: 0.1334517\ttotal: 455ms\tremaining: 561ms\n"
     ]
    },
    {
     "name": "stdout",
     "output_type": "stream",
     "text": [
      "448:\tlearn: 0.1331068\ttotal: 456ms\tremaining: 560ms\n",
      "449:\tlearn: 0.1327240\ttotal: 457ms\tremaining: 559ms\n",
      "450:\tlearn: 0.1324171\ttotal: 458ms\tremaining: 557ms\n",
      "451:\tlearn: 0.1321107\ttotal: 459ms\tremaining: 556ms\n",
      "452:\tlearn: 0.1319597\ttotal: 460ms\tremaining: 555ms\n",
      "453:\tlearn: 0.1316745\ttotal: 460ms\tremaining: 554ms\n",
      "454:\tlearn: 0.1313097\ttotal: 461ms\tremaining: 552ms\n",
      "455:\tlearn: 0.1309988\ttotal: 462ms\tremaining: 551ms\n",
      "456:\tlearn: 0.1306998\ttotal: 463ms\tremaining: 550ms\n",
      "457:\tlearn: 0.1303949\ttotal: 464ms\tremaining: 549ms\n",
      "458:\tlearn: 0.1300643\ttotal: 465ms\tremaining: 548ms\n",
      "459:\tlearn: 0.1297462\ttotal: 465ms\tremaining: 546ms\n",
      "460:\tlearn: 0.1295569\ttotal: 466ms\tremaining: 545ms\n",
      "461:\tlearn: 0.1293126\ttotal: 467ms\tremaining: 544ms\n",
      "462:\tlearn: 0.1290504\ttotal: 468ms\tremaining: 543ms\n",
      "463:\tlearn: 0.1287701\ttotal: 469ms\tremaining: 542ms\n",
      "464:\tlearn: 0.1285166\ttotal: 470ms\tremaining: 540ms\n",
      "465:\tlearn: 0.1282458\ttotal: 470ms\tremaining: 539ms\n",
      "466:\tlearn: 0.1279013\ttotal: 471ms\tremaining: 538ms\n",
      "467:\tlearn: 0.1277869\ttotal: 472ms\tremaining: 536ms\n",
      "468:\tlearn: 0.1275433\ttotal: 473ms\tremaining: 535ms\n",
      "469:\tlearn: 0.1273598\ttotal: 474ms\tremaining: 534ms\n",
      "470:\tlearn: 0.1270955\ttotal: 475ms\tremaining: 533ms\n",
      "471:\tlearn: 0.1268649\ttotal: 475ms\tremaining: 532ms\n",
      "472:\tlearn: 0.1267090\ttotal: 476ms\tremaining: 531ms\n",
      "473:\tlearn: 0.1263307\ttotal: 477ms\tremaining: 530ms\n",
      "474:\tlearn: 0.1261787\ttotal: 478ms\tremaining: 528ms\n",
      "475:\tlearn: 0.1259503\ttotal: 479ms\tremaining: 527ms\n",
      "476:\tlearn: 0.1257916\ttotal: 480ms\tremaining: 526ms\n",
      "477:\tlearn: 0.1255770\ttotal: 480ms\tremaining: 525ms\n",
      "478:\tlearn: 0.1253095\ttotal: 481ms\tremaining: 523ms\n",
      "479:\tlearn: 0.1252664\ttotal: 482ms\tremaining: 522ms\n",
      "480:\tlearn: 0.1251696\ttotal: 483ms\tremaining: 521ms\n",
      "481:\tlearn: 0.1250435\ttotal: 484ms\tremaining: 520ms\n",
      "482:\tlearn: 0.1249507\ttotal: 484ms\tremaining: 518ms\n",
      "483:\tlearn: 0.1248557\ttotal: 485ms\tremaining: 517ms\n",
      "484:\tlearn: 0.1245480\ttotal: 486ms\tremaining: 516ms\n",
      "485:\tlearn: 0.1242384\ttotal: 487ms\tremaining: 515ms\n",
      "486:\tlearn: 0.1241474\ttotal: 488ms\tremaining: 514ms\n",
      "487:\tlearn: 0.1238130\ttotal: 489ms\tremaining: 513ms\n",
      "488:\tlearn: 0.1235215\ttotal: 489ms\tremaining: 511ms\n",
      "489:\tlearn: 0.1233784\ttotal: 490ms\tremaining: 510ms\n",
      "490:\tlearn: 0.1230446\ttotal: 491ms\tremaining: 509ms\n",
      "491:\tlearn: 0.1227242\ttotal: 492ms\tremaining: 508ms\n",
      "492:\tlearn: 0.1225328\ttotal: 493ms\tremaining: 507ms\n",
      "493:\tlearn: 0.1222386\ttotal: 494ms\tremaining: 506ms\n",
      "494:\tlearn: 0.1220022\ttotal: 494ms\tremaining: 504ms\n",
      "495:\tlearn: 0.1219213\ttotal: 495ms\tremaining: 503ms\n",
      "496:\tlearn: 0.1216481\ttotal: 496ms\tremaining: 502ms\n",
      "497:\tlearn: 0.1213832\ttotal: 497ms\tremaining: 501ms\n",
      "498:\tlearn: 0.1212528\ttotal: 498ms\tremaining: 500ms\n",
      "499:\tlearn: 0.1209825\ttotal: 498ms\tremaining: 498ms\n",
      "500:\tlearn: 0.1207673\ttotal: 499ms\tremaining: 497ms\n",
      "501:\tlearn: 0.1204873\ttotal: 500ms\tremaining: 496ms\n",
      "502:\tlearn: 0.1202807\ttotal: 501ms\tremaining: 495ms\n",
      "503:\tlearn: 0.1200392\ttotal: 502ms\tremaining: 494ms\n",
      "504:\tlearn: 0.1197945\ttotal: 502ms\tremaining: 492ms\n",
      "505:\tlearn: 0.1195801\ttotal: 503ms\tremaining: 491ms\n",
      "506:\tlearn: 0.1194993\ttotal: 504ms\tremaining: 490ms\n",
      "507:\tlearn: 0.1192598\ttotal: 505ms\tremaining: 489ms\n",
      "508:\tlearn: 0.1191119\ttotal: 506ms\tremaining: 488ms\n",
      "509:\tlearn: 0.1188916\ttotal: 507ms\tremaining: 487ms\n",
      "510:\tlearn: 0.1186442\ttotal: 507ms\tremaining: 486ms\n",
      "511:\tlearn: 0.1184338\ttotal: 508ms\tremaining: 484ms\n",
      "512:\tlearn: 0.1181170\ttotal: 509ms\tremaining: 483ms\n",
      "513:\tlearn: 0.1179033\ttotal: 510ms\tremaining: 482ms\n",
      "514:\tlearn: 0.1175747\ttotal: 511ms\tremaining: 481ms\n",
      "515:\tlearn: 0.1173783\ttotal: 512ms\tremaining: 480ms\n",
      "516:\tlearn: 0.1171061\ttotal: 513ms\tremaining: 479ms\n",
      "517:\tlearn: 0.1168076\ttotal: 513ms\tremaining: 478ms\n",
      "518:\tlearn: 0.1165905\ttotal: 514ms\tremaining: 477ms\n",
      "519:\tlearn: 0.1162877\ttotal: 515ms\tremaining: 476ms\n",
      "520:\tlearn: 0.1160899\ttotal: 516ms\tremaining: 474ms\n",
      "521:\tlearn: 0.1159159\ttotal: 517ms\tremaining: 473ms\n",
      "522:\tlearn: 0.1158248\ttotal: 518ms\tremaining: 472ms\n",
      "523:\tlearn: 0.1156329\ttotal: 519ms\tremaining: 471ms\n",
      "524:\tlearn: 0.1153582\ttotal: 519ms\tremaining: 470ms\n",
      "525:\tlearn: 0.1152101\ttotal: 520ms\tremaining: 469ms\n",
      "526:\tlearn: 0.1149697\ttotal: 521ms\tremaining: 468ms\n",
      "527:\tlearn: 0.1146954\ttotal: 522ms\tremaining: 467ms\n",
      "528:\tlearn: 0.1145245\ttotal: 523ms\tremaining: 465ms\n",
      "529:\tlearn: 0.1143057\ttotal: 524ms\tremaining: 464ms\n",
      "530:\tlearn: 0.1140500\ttotal: 524ms\tremaining: 463ms\n",
      "531:\tlearn: 0.1139687\ttotal: 525ms\tremaining: 462ms\n",
      "532:\tlearn: 0.1137989\ttotal: 526ms\tremaining: 461ms\n",
      "533:\tlearn: 0.1135869\ttotal: 527ms\tremaining: 460ms\n",
      "534:\tlearn: 0.1134060\ttotal: 528ms\tremaining: 459ms\n",
      "535:\tlearn: 0.1131584\ttotal: 529ms\tremaining: 458ms\n",
      "536:\tlearn: 0.1129105\ttotal: 529ms\tremaining: 456ms\n",
      "537:\tlearn: 0.1125627\ttotal: 530ms\tremaining: 455ms\n",
      "538:\tlearn: 0.1123451\ttotal: 531ms\tremaining: 454ms\n",
      "539:\tlearn: 0.1122855\ttotal: 532ms\tremaining: 453ms\n",
      "540:\tlearn: 0.1120580\ttotal: 533ms\tremaining: 452ms\n",
      "541:\tlearn: 0.1119016\ttotal: 534ms\tremaining: 451ms\n",
      "542:\tlearn: 0.1116035\ttotal: 534ms\tremaining: 450ms\n",
      "543:\tlearn: 0.1115721\ttotal: 535ms\tremaining: 449ms\n",
      "544:\tlearn: 0.1113458\ttotal: 536ms\tremaining: 448ms\n",
      "545:\tlearn: 0.1111152\ttotal: 537ms\tremaining: 447ms\n",
      "546:\tlearn: 0.1109998\ttotal: 538ms\tremaining: 445ms\n",
      "547:\tlearn: 0.1107891\ttotal: 539ms\tremaining: 444ms\n",
      "548:\tlearn: 0.1106435\ttotal: 539ms\tremaining: 443ms\n",
      "549:\tlearn: 0.1103809\ttotal: 540ms\tremaining: 442ms\n",
      "550:\tlearn: 0.1101514\ttotal: 541ms\tremaining: 441ms\n",
      "551:\tlearn: 0.1100128\ttotal: 542ms\tremaining: 440ms\n",
      "552:\tlearn: 0.1099328\ttotal: 543ms\tremaining: 439ms\n",
      "553:\tlearn: 0.1096789\ttotal: 543ms\tremaining: 437ms\n",
      "554:\tlearn: 0.1095130\ttotal: 544ms\tremaining: 436ms\n",
      "555:\tlearn: 0.1094407\ttotal: 545ms\tremaining: 435ms\n",
      "556:\tlearn: 0.1092214\ttotal: 546ms\tremaining: 434ms\n",
      "557:\tlearn: 0.1091100\ttotal: 547ms\tremaining: 433ms\n",
      "558:\tlearn: 0.1088867\ttotal: 548ms\tremaining: 432ms\n",
      "559:\tlearn: 0.1087149\ttotal: 549ms\tremaining: 431ms\n",
      "560:\tlearn: 0.1084225\ttotal: 550ms\tremaining: 430ms\n",
      "561:\tlearn: 0.1082983\ttotal: 551ms\tremaining: 429ms\n",
      "562:\tlearn: 0.1080516\ttotal: 551ms\tremaining: 428ms\n",
      "563:\tlearn: 0.1078662\ttotal: 552ms\tremaining: 427ms\n",
      "564:\tlearn: 0.1075947\ttotal: 554ms\tremaining: 426ms\n",
      "565:\tlearn: 0.1074676\ttotal: 554ms\tremaining: 425ms\n",
      "566:\tlearn: 0.1073787\ttotal: 555ms\tremaining: 424ms\n",
      "567:\tlearn: 0.1070867\ttotal: 556ms\tremaining: 423ms\n",
      "568:\tlearn: 0.1069217\ttotal: 557ms\tremaining: 422ms\n",
      "569:\tlearn: 0.1067545\ttotal: 557ms\tremaining: 421ms\n",
      "570:\tlearn: 0.1065119\ttotal: 558ms\tremaining: 419ms\n",
      "571:\tlearn: 0.1063674\ttotal: 559ms\tremaining: 418ms\n",
      "572:\tlearn: 0.1061789\ttotal: 560ms\tremaining: 417ms\n",
      "573:\tlearn: 0.1060118\ttotal: 561ms\tremaining: 416ms\n",
      "574:\tlearn: 0.1058150\ttotal: 562ms\tremaining: 415ms\n",
      "575:\tlearn: 0.1056022\ttotal: 562ms\tremaining: 414ms\n",
      "576:\tlearn: 0.1054319\ttotal: 563ms\tremaining: 413ms\n",
      "577:\tlearn: 0.1053280\ttotal: 564ms\tremaining: 412ms\n",
      "578:\tlearn: 0.1051225\ttotal: 565ms\tremaining: 411ms\n",
      "579:\tlearn: 0.1049748\ttotal: 566ms\tremaining: 410ms\n",
      "580:\tlearn: 0.1047358\ttotal: 566ms\tremaining: 409ms\n",
      "581:\tlearn: 0.1046343\ttotal: 567ms\tremaining: 407ms\n",
      "582:\tlearn: 0.1045300\ttotal: 568ms\tremaining: 406ms\n"
     ]
    },
    {
     "name": "stdout",
     "output_type": "stream",
     "text": [
      "583:\tlearn: 0.1042671\ttotal: 569ms\tremaining: 405ms\n",
      "584:\tlearn: 0.1040468\ttotal: 570ms\tremaining: 404ms\n",
      "585:\tlearn: 0.1037836\ttotal: 571ms\tremaining: 403ms\n",
      "586:\tlearn: 0.1035758\ttotal: 572ms\tremaining: 402ms\n",
      "587:\tlearn: 0.1034926\ttotal: 572ms\tremaining: 401ms\n",
      "588:\tlearn: 0.1032750\ttotal: 573ms\tremaining: 400ms\n",
      "589:\tlearn: 0.1030627\ttotal: 574ms\tremaining: 399ms\n",
      "590:\tlearn: 0.1029628\ttotal: 575ms\tremaining: 398ms\n",
      "591:\tlearn: 0.1028482\ttotal: 576ms\tremaining: 397ms\n",
      "592:\tlearn: 0.1026077\ttotal: 577ms\tremaining: 396ms\n",
      "593:\tlearn: 0.1025446\ttotal: 577ms\tremaining: 395ms\n",
      "594:\tlearn: 0.1023677\ttotal: 578ms\tremaining: 394ms\n",
      "595:\tlearn: 0.1021715\ttotal: 579ms\tremaining: 392ms\n",
      "596:\tlearn: 0.1020433\ttotal: 580ms\tremaining: 391ms\n",
      "597:\tlearn: 0.1019145\ttotal: 581ms\tremaining: 390ms\n",
      "598:\tlearn: 0.1017516\ttotal: 582ms\tremaining: 389ms\n",
      "599:\tlearn: 0.1016836\ttotal: 582ms\tremaining: 388ms\n",
      "600:\tlearn: 0.1016090\ttotal: 583ms\tremaining: 387ms\n",
      "601:\tlearn: 0.1014132\ttotal: 584ms\tremaining: 386ms\n",
      "602:\tlearn: 0.1012363\ttotal: 585ms\tremaining: 385ms\n",
      "603:\tlearn: 0.1010274\ttotal: 586ms\tremaining: 384ms\n",
      "604:\tlearn: 0.1010125\ttotal: 587ms\tremaining: 383ms\n",
      "605:\tlearn: 0.1008472\ttotal: 588ms\tremaining: 382ms\n",
      "606:\tlearn: 0.1006512\ttotal: 589ms\tremaining: 381ms\n",
      "607:\tlearn: 0.1005225\ttotal: 589ms\tremaining: 380ms\n",
      "608:\tlearn: 0.1003698\ttotal: 590ms\tremaining: 379ms\n",
      "609:\tlearn: 0.1002049\ttotal: 591ms\tremaining: 378ms\n",
      "610:\tlearn: 0.1000207\ttotal: 592ms\tremaining: 377ms\n",
      "611:\tlearn: 0.0998869\ttotal: 593ms\tremaining: 376ms\n",
      "612:\tlearn: 0.0997458\ttotal: 593ms\tremaining: 375ms\n",
      "613:\tlearn: 0.0995627\ttotal: 594ms\tremaining: 374ms\n",
      "614:\tlearn: 0.0993918\ttotal: 595ms\tremaining: 373ms\n",
      "615:\tlearn: 0.0992350\ttotal: 596ms\tremaining: 372ms\n",
      "616:\tlearn: 0.0989965\ttotal: 597ms\tremaining: 371ms\n",
      "617:\tlearn: 0.0988599\ttotal: 598ms\tremaining: 370ms\n",
      "618:\tlearn: 0.0986872\ttotal: 599ms\tremaining: 369ms\n",
      "619:\tlearn: 0.0985058\ttotal: 600ms\tremaining: 368ms\n",
      "620:\tlearn: 0.0983067\ttotal: 601ms\tremaining: 367ms\n",
      "621:\tlearn: 0.0980974\ttotal: 602ms\tremaining: 366ms\n",
      "622:\tlearn: 0.0980424\ttotal: 603ms\tremaining: 365ms\n",
      "623:\tlearn: 0.0979197\ttotal: 604ms\tremaining: 364ms\n",
      "624:\tlearn: 0.0977180\ttotal: 605ms\tremaining: 363ms\n",
      "625:\tlearn: 0.0976119\ttotal: 606ms\tremaining: 362ms\n",
      "626:\tlearn: 0.0974348\ttotal: 606ms\tremaining: 361ms\n",
      "627:\tlearn: 0.0972872\ttotal: 607ms\tremaining: 360ms\n",
      "628:\tlearn: 0.0971734\ttotal: 608ms\tremaining: 359ms\n",
      "629:\tlearn: 0.0970713\ttotal: 609ms\tremaining: 358ms\n",
      "630:\tlearn: 0.0969195\ttotal: 610ms\tremaining: 357ms\n",
      "631:\tlearn: 0.0968972\ttotal: 611ms\tremaining: 356ms\n",
      "632:\tlearn: 0.0967517\ttotal: 611ms\tremaining: 354ms\n",
      "633:\tlearn: 0.0964950\ttotal: 612ms\tremaining: 353ms\n",
      "634:\tlearn: 0.0963525\ttotal: 613ms\tremaining: 352ms\n",
      "635:\tlearn: 0.0961126\ttotal: 614ms\tremaining: 351ms\n",
      "636:\tlearn: 0.0960417\ttotal: 614ms\tremaining: 350ms\n",
      "637:\tlearn: 0.0958964\ttotal: 615ms\tremaining: 349ms\n",
      "638:\tlearn: 0.0956773\ttotal: 616ms\tremaining: 348ms\n",
      "639:\tlearn: 0.0955321\ttotal: 617ms\tremaining: 347ms\n",
      "640:\tlearn: 0.0954660\ttotal: 618ms\tremaining: 346ms\n",
      "641:\tlearn: 0.0953716\ttotal: 619ms\tremaining: 345ms\n",
      "642:\tlearn: 0.0953010\ttotal: 619ms\tremaining: 344ms\n",
      "643:\tlearn: 0.0950500\ttotal: 620ms\tremaining: 343ms\n",
      "644:\tlearn: 0.0948747\ttotal: 621ms\tremaining: 342ms\n",
      "645:\tlearn: 0.0947168\ttotal: 622ms\tremaining: 341ms\n",
      "646:\tlearn: 0.0944946\ttotal: 623ms\tremaining: 340ms\n",
      "647:\tlearn: 0.0943421\ttotal: 624ms\tremaining: 339ms\n",
      "648:\tlearn: 0.0941981\ttotal: 625ms\tremaining: 338ms\n",
      "649:\tlearn: 0.0939940\ttotal: 626ms\tremaining: 337ms\n",
      "650:\tlearn: 0.0938832\ttotal: 626ms\tremaining: 336ms\n",
      "651:\tlearn: 0.0937710\ttotal: 627ms\tremaining: 335ms\n",
      "652:\tlearn: 0.0936965\ttotal: 628ms\tremaining: 334ms\n",
      "653:\tlearn: 0.0934705\ttotal: 629ms\tremaining: 333ms\n",
      "654:\tlearn: 0.0933714\ttotal: 630ms\tremaining: 332ms\n",
      "655:\tlearn: 0.0931435\ttotal: 630ms\tremaining: 331ms\n",
      "656:\tlearn: 0.0930381\ttotal: 631ms\tremaining: 330ms\n",
      "657:\tlearn: 0.0928387\ttotal: 632ms\tremaining: 328ms\n",
      "658:\tlearn: 0.0926338\ttotal: 633ms\tremaining: 327ms\n",
      "659:\tlearn: 0.0925101\ttotal: 634ms\tremaining: 326ms\n",
      "660:\tlearn: 0.0923657\ttotal: 634ms\tremaining: 325ms\n",
      "661:\tlearn: 0.0922749\ttotal: 635ms\tremaining: 324ms\n",
      "662:\tlearn: 0.0921371\ttotal: 636ms\tremaining: 323ms\n",
      "663:\tlearn: 0.0919829\ttotal: 637ms\tremaining: 322ms\n",
      "664:\tlearn: 0.0918383\ttotal: 638ms\tremaining: 321ms\n",
      "665:\tlearn: 0.0917220\ttotal: 639ms\tremaining: 320ms\n",
      "666:\tlearn: 0.0915394\ttotal: 640ms\tremaining: 319ms\n",
      "667:\tlearn: 0.0913999\ttotal: 640ms\tremaining: 318ms\n",
      "668:\tlearn: 0.0913924\ttotal: 641ms\tremaining: 317ms\n",
      "669:\tlearn: 0.0912047\ttotal: 642ms\tremaining: 316ms\n",
      "670:\tlearn: 0.0911238\ttotal: 643ms\tremaining: 315ms\n",
      "671:\tlearn: 0.0909925\ttotal: 644ms\tremaining: 314ms\n",
      "672:\tlearn: 0.0908983\ttotal: 645ms\tremaining: 313ms\n",
      "673:\tlearn: 0.0907864\ttotal: 645ms\tremaining: 312ms\n"
     ]
    },
    {
     "name": "stdout",
     "output_type": "stream",
     "text": [
      "674:\tlearn: 0.0906709\ttotal: 646ms\tremaining: 311ms\n",
      "675:\tlearn: 0.0905754\ttotal: 647ms\tremaining: 310ms\n",
      "676:\tlearn: 0.0903926\ttotal: 648ms\tremaining: 309ms\n",
      "677:\tlearn: 0.0903455\ttotal: 649ms\tremaining: 308ms\n",
      "678:\tlearn: 0.0902188\ttotal: 650ms\tremaining: 307ms\n",
      "679:\tlearn: 0.0900484\ttotal: 651ms\tremaining: 306ms\n",
      "680:\tlearn: 0.0899470\ttotal: 659ms\tremaining: 309ms\n",
      "681:\tlearn: 0.0898754\ttotal: 660ms\tremaining: 308ms\n",
      "682:\tlearn: 0.0897324\ttotal: 661ms\tremaining: 307ms\n",
      "683:\tlearn: 0.0896843\ttotal: 662ms\tremaining: 306ms\n",
      "684:\tlearn: 0.0894816\ttotal: 663ms\tremaining: 305ms\n",
      "685:\tlearn: 0.0893422\ttotal: 663ms\tremaining: 304ms\n",
      "686:\tlearn: 0.0892508\ttotal: 664ms\tremaining: 303ms\n",
      "687:\tlearn: 0.0890731\ttotal: 665ms\tremaining: 302ms\n",
      "688:\tlearn: 0.0889181\ttotal: 666ms\tremaining: 301ms\n",
      "689:\tlearn: 0.0887238\ttotal: 667ms\tremaining: 300ms\n",
      "690:\tlearn: 0.0885964\ttotal: 668ms\tremaining: 299ms\n",
      "691:\tlearn: 0.0884925\ttotal: 669ms\tremaining: 298ms\n",
      "692:\tlearn: 0.0884516\ttotal: 669ms\tremaining: 297ms\n",
      "693:\tlearn: 0.0883293\ttotal: 670ms\tremaining: 296ms\n",
      "694:\tlearn: 0.0881902\ttotal: 671ms\tremaining: 295ms\n",
      "695:\tlearn: 0.0880179\ttotal: 672ms\tremaining: 294ms\n",
      "696:\tlearn: 0.0878858\ttotal: 673ms\tremaining: 293ms\n",
      "697:\tlearn: 0.0878021\ttotal: 674ms\tremaining: 292ms\n",
      "698:\tlearn: 0.0877335\ttotal: 675ms\tremaining: 291ms\n",
      "699:\tlearn: 0.0875865\ttotal: 676ms\tremaining: 290ms\n",
      "700:\tlearn: 0.0874505\ttotal: 677ms\tremaining: 289ms\n",
      "701:\tlearn: 0.0873598\ttotal: 677ms\tremaining: 288ms\n",
      "702:\tlearn: 0.0872319\ttotal: 678ms\tremaining: 287ms\n",
      "703:\tlearn: 0.0871863\ttotal: 679ms\tremaining: 286ms\n",
      "704:\tlearn: 0.0870515\ttotal: 680ms\tremaining: 284ms\n",
      "705:\tlearn: 0.0868989\ttotal: 681ms\tremaining: 283ms\n",
      "706:\tlearn: 0.0867546\ttotal: 682ms\tremaining: 282ms\n",
      "707:\tlearn: 0.0866699\ttotal: 682ms\tremaining: 281ms\n",
      "708:\tlearn: 0.0865128\ttotal: 683ms\tremaining: 280ms\n",
      "709:\tlearn: 0.0863431\ttotal: 684ms\tremaining: 279ms\n",
      "710:\tlearn: 0.0862744\ttotal: 685ms\tremaining: 278ms\n",
      "711:\tlearn: 0.0862142\ttotal: 686ms\tremaining: 278ms\n",
      "712:\tlearn: 0.0861083\ttotal: 689ms\tremaining: 277ms\n",
      "713:\tlearn: 0.0859561\ttotal: 690ms\tremaining: 276ms\n",
      "714:\tlearn: 0.0859374\ttotal: 691ms\tremaining: 275ms\n",
      "715:\tlearn: 0.0857815\ttotal: 692ms\tremaining: 274ms\n",
      "716:\tlearn: 0.0856218\ttotal: 692ms\tremaining: 273ms\n",
      "717:\tlearn: 0.0854955\ttotal: 693ms\tremaining: 272ms\n",
      "718:\tlearn: 0.0854166\ttotal: 694ms\tremaining: 271ms\n",
      "719:\tlearn: 0.0852905\ttotal: 695ms\tremaining: 270ms\n",
      "720:\tlearn: 0.0852445\ttotal: 696ms\tremaining: 269ms\n",
      "721:\tlearn: 0.0850705\ttotal: 697ms\tremaining: 268ms\n",
      "722:\tlearn: 0.0849543\ttotal: 698ms\tremaining: 267ms\n",
      "723:\tlearn: 0.0848102\ttotal: 699ms\tremaining: 266ms\n",
      "724:\tlearn: 0.0847192\ttotal: 700ms\tremaining: 265ms\n",
      "725:\tlearn: 0.0846059\ttotal: 701ms\tremaining: 264ms\n",
      "726:\tlearn: 0.0845515\ttotal: 702ms\tremaining: 263ms\n",
      "727:\tlearn: 0.0844215\ttotal: 703ms\tremaining: 263ms\n",
      "728:\tlearn: 0.0842554\ttotal: 704ms\tremaining: 262ms\n",
      "729:\tlearn: 0.0842151\ttotal: 704ms\tremaining: 261ms\n",
      "730:\tlearn: 0.0841268\ttotal: 705ms\tremaining: 260ms\n",
      "731:\tlearn: 0.0840622\ttotal: 706ms\tremaining: 259ms\n",
      "732:\tlearn: 0.0839037\ttotal: 707ms\tremaining: 258ms\n",
      "733:\tlearn: 0.0837552\ttotal: 708ms\tremaining: 256ms\n",
      "734:\tlearn: 0.0835766\ttotal: 709ms\tremaining: 255ms\n",
      "735:\tlearn: 0.0835115\ttotal: 709ms\tremaining: 254ms\n",
      "736:\tlearn: 0.0833747\ttotal: 710ms\tremaining: 253ms\n",
      "737:\tlearn: 0.0832361\ttotal: 711ms\tremaining: 252ms\n",
      "738:\tlearn: 0.0831221\ttotal: 712ms\tremaining: 251ms\n",
      "739:\tlearn: 0.0829560\ttotal: 712ms\tremaining: 250ms\n",
      "740:\tlearn: 0.0827206\ttotal: 713ms\tremaining: 249ms\n",
      "741:\tlearn: 0.0826531\ttotal: 714ms\tremaining: 248ms\n",
      "742:\tlearn: 0.0825440\ttotal: 715ms\tremaining: 247ms\n",
      "743:\tlearn: 0.0825164\ttotal: 716ms\tremaining: 247ms\n",
      "744:\tlearn: 0.0824851\ttotal: 718ms\tremaining: 246ms\n",
      "745:\tlearn: 0.0824223\ttotal: 718ms\tremaining: 245ms\n",
      "746:\tlearn: 0.0823146\ttotal: 719ms\tremaining: 244ms\n",
      "747:\tlearn: 0.0821642\ttotal: 720ms\tremaining: 243ms\n",
      "748:\tlearn: 0.0821243\ttotal: 721ms\tremaining: 242ms\n",
      "749:\tlearn: 0.0819572\ttotal: 722ms\tremaining: 241ms\n",
      "750:\tlearn: 0.0817852\ttotal: 723ms\tremaining: 240ms\n",
      "751:\tlearn: 0.0816270\ttotal: 723ms\tremaining: 239ms\n",
      "752:\tlearn: 0.0814205\ttotal: 724ms\tremaining: 238ms\n",
      "753:\tlearn: 0.0812491\ttotal: 725ms\tremaining: 237ms\n",
      "754:\tlearn: 0.0812095\ttotal: 726ms\tremaining: 235ms\n",
      "755:\tlearn: 0.0810554\ttotal: 726ms\tremaining: 234ms\n",
      "756:\tlearn: 0.0808707\ttotal: 727ms\tremaining: 233ms\n",
      "757:\tlearn: 0.0807688\ttotal: 728ms\tremaining: 232ms\n",
      "758:\tlearn: 0.0806618\ttotal: 729ms\tremaining: 232ms\n",
      "759:\tlearn: 0.0804492\ttotal: 730ms\tremaining: 231ms\n",
      "760:\tlearn: 0.0803857\ttotal: 731ms\tremaining: 230ms\n",
      "761:\tlearn: 0.0801284\ttotal: 732ms\tremaining: 229ms\n",
      "762:\tlearn: 0.0799922\ttotal: 733ms\tremaining: 228ms\n",
      "763:\tlearn: 0.0799601\ttotal: 734ms\tremaining: 227ms\n",
      "764:\tlearn: 0.0798334\ttotal: 735ms\tremaining: 226ms\n",
      "765:\tlearn: 0.0797042\ttotal: 736ms\tremaining: 225ms\n",
      "766:\tlearn: 0.0795838\ttotal: 737ms\tremaining: 224ms\n",
      "767:\tlearn: 0.0795045\ttotal: 737ms\tremaining: 223ms\n",
      "768:\tlearn: 0.0793304\ttotal: 738ms\tremaining: 222ms\n",
      "769:\tlearn: 0.0792838\ttotal: 739ms\tremaining: 221ms\n",
      "770:\tlearn: 0.0790567\ttotal: 740ms\tremaining: 220ms\n",
      "771:\tlearn: 0.0789482\ttotal: 741ms\tremaining: 219ms\n",
      "772:\tlearn: 0.0788344\ttotal: 742ms\tremaining: 218ms\n",
      "773:\tlearn: 0.0787869\ttotal: 743ms\tremaining: 217ms\n",
      "774:\tlearn: 0.0785866\ttotal: 743ms\tremaining: 216ms\n",
      "775:\tlearn: 0.0784858\ttotal: 744ms\tremaining: 215ms\n",
      "776:\tlearn: 0.0783470\ttotal: 745ms\tremaining: 214ms\n",
      "777:\tlearn: 0.0781950\ttotal: 746ms\tremaining: 213ms\n",
      "778:\tlearn: 0.0780222\ttotal: 747ms\tremaining: 212ms\n",
      "779:\tlearn: 0.0779060\ttotal: 748ms\tremaining: 211ms\n",
      "780:\tlearn: 0.0778109\ttotal: 749ms\tremaining: 210ms\n",
      "781:\tlearn: 0.0776650\ttotal: 749ms\tremaining: 209ms\n",
      "782:\tlearn: 0.0775273\ttotal: 751ms\tremaining: 208ms\n",
      "783:\tlearn: 0.0774450\ttotal: 752ms\tremaining: 207ms\n",
      "784:\tlearn: 0.0774307\ttotal: 753ms\tremaining: 206ms\n",
      "785:\tlearn: 0.0774192\ttotal: 754ms\tremaining: 205ms\n",
      "786:\tlearn: 0.0772563\ttotal: 755ms\tremaining: 204ms\n",
      "787:\tlearn: 0.0770890\ttotal: 756ms\tremaining: 203ms\n",
      "788:\tlearn: 0.0770078\ttotal: 757ms\tremaining: 202ms\n",
      "789:\tlearn: 0.0768257\ttotal: 758ms\tremaining: 201ms\n",
      "790:\tlearn: 0.0767272\ttotal: 759ms\tremaining: 200ms\n"
     ]
    },
    {
     "name": "stdout",
     "output_type": "stream",
     "text": [
      "791:\tlearn: 0.0765880\ttotal: 760ms\tremaining: 199ms\n",
      "792:\tlearn: 0.0765284\ttotal: 761ms\tremaining: 199ms\n",
      "793:\tlearn: 0.0764934\ttotal: 762ms\tremaining: 198ms\n",
      "794:\tlearn: 0.0763510\ttotal: 763ms\tremaining: 197ms\n",
      "795:\tlearn: 0.0762002\ttotal: 763ms\tremaining: 196ms\n",
      "796:\tlearn: 0.0760962\ttotal: 764ms\tremaining: 195ms\n",
      "797:\tlearn: 0.0760115\ttotal: 766ms\tremaining: 194ms\n",
      "798:\tlearn: 0.0759348\ttotal: 767ms\tremaining: 193ms\n",
      "799:\tlearn: 0.0759001\ttotal: 768ms\tremaining: 192ms\n",
      "800:\tlearn: 0.0758205\ttotal: 769ms\tremaining: 191ms\n",
      "801:\tlearn: 0.0756654\ttotal: 770ms\tremaining: 190ms\n",
      "802:\tlearn: 0.0755202\ttotal: 771ms\tremaining: 189ms\n",
      "803:\tlearn: 0.0754374\ttotal: 772ms\tremaining: 188ms\n",
      "804:\tlearn: 0.0753982\ttotal: 773ms\tremaining: 187ms\n",
      "805:\tlearn: 0.0753054\ttotal: 774ms\tremaining: 186ms\n",
      "806:\tlearn: 0.0751628\ttotal: 775ms\tremaining: 185ms\n",
      "807:\tlearn: 0.0750332\ttotal: 776ms\tremaining: 184ms\n",
      "808:\tlearn: 0.0748905\ttotal: 777ms\tremaining: 183ms\n",
      "809:\tlearn: 0.0748457\ttotal: 782ms\tremaining: 183ms\n",
      "810:\tlearn: 0.0748179\ttotal: 783ms\tremaining: 182ms\n",
      "811:\tlearn: 0.0747775\ttotal: 783ms\tremaining: 181ms\n",
      "812:\tlearn: 0.0747158\ttotal: 784ms\tremaining: 180ms\n",
      "813:\tlearn: 0.0745574\ttotal: 785ms\tremaining: 179ms\n",
      "814:\tlearn: 0.0744783\ttotal: 786ms\tremaining: 178ms\n",
      "815:\tlearn: 0.0743636\ttotal: 787ms\tremaining: 178ms\n",
      "816:\tlearn: 0.0741898\ttotal: 788ms\tremaining: 177ms\n",
      "817:\tlearn: 0.0741739\ttotal: 789ms\tremaining: 176ms\n",
      "818:\tlearn: 0.0740996\ttotal: 790ms\tremaining: 175ms\n",
      "819:\tlearn: 0.0739732\ttotal: 791ms\tremaining: 174ms\n",
      "820:\tlearn: 0.0739035\ttotal: 792ms\tremaining: 173ms\n",
      "821:\tlearn: 0.0737695\ttotal: 792ms\tremaining: 172ms\n",
      "822:\tlearn: 0.0736740\ttotal: 793ms\tremaining: 171ms\n",
      "823:\tlearn: 0.0736406\ttotal: 798ms\tremaining: 171ms\n",
      "824:\tlearn: 0.0735412\ttotal: 799ms\tremaining: 170ms\n",
      "825:\tlearn: 0.0734414\ttotal: 800ms\tremaining: 169ms\n",
      "826:\tlearn: 0.0733354\ttotal: 801ms\tremaining: 168ms\n",
      "827:\tlearn: 0.0731968\ttotal: 802ms\tremaining: 167ms\n",
      "828:\tlearn: 0.0730454\ttotal: 803ms\tremaining: 166ms\n",
      "829:\tlearn: 0.0728608\ttotal: 804ms\tremaining: 165ms\n",
      "830:\tlearn: 0.0727511\ttotal: 805ms\tremaining: 164ms\n",
      "831:\tlearn: 0.0726357\ttotal: 806ms\tremaining: 163ms\n",
      "832:\tlearn: 0.0725206\ttotal: 807ms\tremaining: 162ms\n",
      "833:\tlearn: 0.0724833\ttotal: 808ms\tremaining: 161ms\n",
      "834:\tlearn: 0.0723695\ttotal: 809ms\tremaining: 160ms\n",
      "835:\tlearn: 0.0722230\ttotal: 810ms\tremaining: 159ms\n",
      "836:\tlearn: 0.0721141\ttotal: 812ms\tremaining: 158ms\n",
      "837:\tlearn: 0.0720849\ttotal: 813ms\tremaining: 157ms\n",
      "838:\tlearn: 0.0720065\ttotal: 814ms\tremaining: 156ms\n",
      "839:\tlearn: 0.0718303\ttotal: 815ms\tremaining: 155ms\n",
      "840:\tlearn: 0.0717203\ttotal: 816ms\tremaining: 154ms\n",
      "841:\tlearn: 0.0716442\ttotal: 817ms\tremaining: 153ms\n",
      "842:\tlearn: 0.0715787\ttotal: 818ms\tremaining: 152ms\n",
      "843:\tlearn: 0.0714260\ttotal: 818ms\tremaining: 151ms\n",
      "844:\tlearn: 0.0712656\ttotal: 819ms\tremaining: 150ms\n",
      "845:\tlearn: 0.0711779\ttotal: 820ms\tremaining: 149ms\n",
      "846:\tlearn: 0.0710464\ttotal: 822ms\tremaining: 148ms\n",
      "847:\tlearn: 0.0708872\ttotal: 823ms\tremaining: 148ms\n",
      "848:\tlearn: 0.0708058\ttotal: 824ms\tremaining: 147ms\n",
      "849:\tlearn: 0.0706769\ttotal: 825ms\tremaining: 146ms\n",
      "850:\tlearn: 0.0705606\ttotal: 830ms\tremaining: 145ms\n",
      "851:\tlearn: 0.0705108\ttotal: 831ms\tremaining: 144ms\n",
      "852:\tlearn: 0.0704621\ttotal: 832ms\tremaining: 143ms\n",
      "853:\tlearn: 0.0702744\ttotal: 833ms\tremaining: 142ms\n",
      "854:\tlearn: 0.0702518\ttotal: 833ms\tremaining: 141ms\n",
      "855:\tlearn: 0.0701521\ttotal: 834ms\tremaining: 140ms\n",
      "856:\tlearn: 0.0700753\ttotal: 835ms\tremaining: 139ms\n",
      "857:\tlearn: 0.0699963\ttotal: 836ms\tremaining: 138ms\n"
     ]
    },
    {
     "name": "stdout",
     "output_type": "stream",
     "text": [
      "858:\tlearn: 0.0698914\ttotal: 837ms\tremaining: 137ms\n",
      "859:\tlearn: 0.0697946\ttotal: 838ms\tremaining: 136ms\n",
      "860:\tlearn: 0.0696718\ttotal: 839ms\tremaining: 135ms\n",
      "861:\tlearn: 0.0695604\ttotal: 840ms\tremaining: 134ms\n",
      "862:\tlearn: 0.0694277\ttotal: 840ms\tremaining: 133ms\n",
      "863:\tlearn: 0.0693247\ttotal: 841ms\tremaining: 132ms\n",
      "864:\tlearn: 0.0692231\ttotal: 842ms\tremaining: 131ms\n",
      "865:\tlearn: 0.0691999\ttotal: 843ms\tremaining: 130ms\n",
      "866:\tlearn: 0.0690559\ttotal: 844ms\tremaining: 129ms\n",
      "867:\tlearn: 0.0689935\ttotal: 844ms\tremaining: 128ms\n",
      "868:\tlearn: 0.0689732\ttotal: 845ms\tremaining: 127ms\n",
      "869:\tlearn: 0.0688704\ttotal: 846ms\tremaining: 126ms\n",
      "870:\tlearn: 0.0687833\ttotal: 847ms\tremaining: 125ms\n",
      "871:\tlearn: 0.0687078\ttotal: 847ms\tremaining: 124ms\n",
      "872:\tlearn: 0.0686276\ttotal: 848ms\tremaining: 123ms\n",
      "873:\tlearn: 0.0685348\ttotal: 849ms\tremaining: 122ms\n",
      "874:\tlearn: 0.0684763\ttotal: 850ms\tremaining: 121ms\n",
      "875:\tlearn: 0.0684212\ttotal: 851ms\tremaining: 120ms\n",
      "876:\tlearn: 0.0683245\ttotal: 852ms\tremaining: 119ms\n",
      "877:\tlearn: 0.0681621\ttotal: 853ms\tremaining: 118ms\n",
      "878:\tlearn: 0.0680536\ttotal: 854ms\tremaining: 118ms\n",
      "879:\tlearn: 0.0680291\ttotal: 855ms\tremaining: 117ms\n",
      "880:\tlearn: 0.0679351\ttotal: 855ms\tremaining: 116ms\n",
      "881:\tlearn: 0.0678354\ttotal: 856ms\tremaining: 115ms\n",
      "882:\tlearn: 0.0678158\ttotal: 857ms\tremaining: 114ms\n",
      "883:\tlearn: 0.0677251\ttotal: 858ms\tremaining: 113ms\n",
      "884:\tlearn: 0.0675650\ttotal: 860ms\tremaining: 112ms\n",
      "885:\tlearn: 0.0674924\ttotal: 861ms\tremaining: 111ms\n",
      "886:\tlearn: 0.0674065\ttotal: 862ms\tremaining: 110ms\n",
      "887:\tlearn: 0.0672519\ttotal: 863ms\tremaining: 109ms\n",
      "888:\tlearn: 0.0671349\ttotal: 863ms\tremaining: 108ms\n",
      "889:\tlearn: 0.0670633\ttotal: 864ms\tremaining: 107ms\n",
      "890:\tlearn: 0.0669271\ttotal: 865ms\tremaining: 106ms\n",
      "891:\tlearn: 0.0668715\ttotal: 865ms\tremaining: 105ms\n",
      "892:\tlearn: 0.0667264\ttotal: 866ms\tremaining: 104ms\n",
      "893:\tlearn: 0.0666672\ttotal: 867ms\tremaining: 103ms\n",
      "894:\tlearn: 0.0665985\ttotal: 868ms\tremaining: 102ms\n",
      "895:\tlearn: 0.0665797\ttotal: 868ms\tremaining: 101ms\n",
      "896:\tlearn: 0.0665190\ttotal: 869ms\tremaining: 99.7ms\n",
      "897:\tlearn: 0.0664980\ttotal: 869ms\tremaining: 98.7ms\n",
      "898:\tlearn: 0.0664706\ttotal: 870ms\tremaining: 97.8ms\n",
      "899:\tlearn: 0.0664589\ttotal: 871ms\tremaining: 96.7ms\n",
      "900:\tlearn: 0.0663180\ttotal: 872ms\tremaining: 95.8ms\n",
      "901:\tlearn: 0.0661957\ttotal: 872ms\tremaining: 94.8ms\n",
      "902:\tlearn: 0.0661004\ttotal: 873ms\tremaining: 93.7ms\n",
      "903:\tlearn: 0.0659998\ttotal: 873ms\tremaining: 92.7ms\n",
      "904:\tlearn: 0.0659050\ttotal: 874ms\tremaining: 91.8ms\n",
      "905:\tlearn: 0.0657717\ttotal: 875ms\tremaining: 90.8ms\n",
      "906:\tlearn: 0.0656677\ttotal: 876ms\tremaining: 89.9ms\n",
      "907:\tlearn: 0.0655902\ttotal: 877ms\tremaining: 88.9ms\n",
      "908:\tlearn: 0.0655185\ttotal: 878ms\tremaining: 87.9ms\n",
      "909:\tlearn: 0.0654655\ttotal: 879ms\tremaining: 86.9ms\n",
      "910:\tlearn: 0.0653365\ttotal: 880ms\tremaining: 85.9ms\n",
      "911:\tlearn: 0.0652583\ttotal: 880ms\tremaining: 85ms\n",
      "912:\tlearn: 0.0651360\ttotal: 881ms\tremaining: 84ms\n",
      "913:\tlearn: 0.0650265\ttotal: 882ms\tremaining: 83ms\n",
      "914:\tlearn: 0.0649924\ttotal: 884ms\tremaining: 82.1ms\n",
      "915:\tlearn: 0.0648955\ttotal: 885ms\tremaining: 81.1ms\n",
      "916:\tlearn: 0.0647614\ttotal: 885ms\tremaining: 80.1ms\n",
      "917:\tlearn: 0.0646692\ttotal: 886ms\tremaining: 79.2ms\n",
      "918:\tlearn: 0.0645405\ttotal: 887ms\tremaining: 78.2ms\n",
      "919:\tlearn: 0.0645011\ttotal: 888ms\tremaining: 77.2ms\n",
      "920:\tlearn: 0.0644505\ttotal: 889ms\tremaining: 76.2ms\n",
      "921:\tlearn: 0.0643359\ttotal: 890ms\tremaining: 75.3ms\n",
      "922:\tlearn: 0.0642960\ttotal: 891ms\tremaining: 74.3ms\n",
      "923:\tlearn: 0.0642241\ttotal: 892ms\tremaining: 73.4ms\n",
      "924:\tlearn: 0.0640601\ttotal: 893ms\tremaining: 72.4ms\n",
      "925:\tlearn: 0.0639860\ttotal: 894ms\tremaining: 71.4ms\n",
      "926:\tlearn: 0.0638650\ttotal: 895ms\tremaining: 70.4ms\n",
      "927:\tlearn: 0.0638349\ttotal: 895ms\tremaining: 69.5ms\n",
      "928:\tlearn: 0.0637480\ttotal: 896ms\tremaining: 68.5ms\n",
      "929:\tlearn: 0.0636770\ttotal: 897ms\tremaining: 67.5ms\n",
      "930:\tlearn: 0.0635695\ttotal: 898ms\tremaining: 66.6ms\n",
      "931:\tlearn: 0.0635409\ttotal: 899ms\tremaining: 65.6ms\n",
      "932:\tlearn: 0.0634341\ttotal: 900ms\tremaining: 64.6ms\n",
      "933:\tlearn: 0.0633388\ttotal: 901ms\tremaining: 63.6ms\n",
      "934:\tlearn: 0.0632601\ttotal: 902ms\tremaining: 62.7ms\n",
      "935:\tlearn: 0.0632066\ttotal: 902ms\tremaining: 61.7ms\n",
      "936:\tlearn: 0.0631409\ttotal: 903ms\tremaining: 60.7ms\n",
      "937:\tlearn: 0.0631130\ttotal: 904ms\tremaining: 59.8ms\n",
      "938:\tlearn: 0.0630507\ttotal: 905ms\tremaining: 58.8ms\n",
      "939:\tlearn: 0.0629470\ttotal: 906ms\tremaining: 57.8ms\n",
      "940:\tlearn: 0.0629148\ttotal: 907ms\tremaining: 56.8ms\n",
      "941:\tlearn: 0.0628876\ttotal: 907ms\tremaining: 55.9ms\n",
      "942:\tlearn: 0.0627992\ttotal: 908ms\tremaining: 54.9ms\n",
      "943:\tlearn: 0.0627827\ttotal: 908ms\tremaining: 53.9ms\n",
      "944:\tlearn: 0.0627012\ttotal: 909ms\tremaining: 52.9ms\n",
      "945:\tlearn: 0.0626098\ttotal: 910ms\tremaining: 51.9ms\n",
      "946:\tlearn: 0.0624789\ttotal: 910ms\tremaining: 50.9ms\n",
      "947:\tlearn: 0.0623750\ttotal: 911ms\tremaining: 50ms\n",
      "948:\tlearn: 0.0623182\ttotal: 912ms\tremaining: 49ms\n",
      "949:\tlearn: 0.0622820\ttotal: 913ms\tremaining: 48ms\n",
      "950:\tlearn: 0.0621823\ttotal: 914ms\tremaining: 47.1ms\n",
      "951:\tlearn: 0.0621161\ttotal: 914ms\tremaining: 46.1ms\n",
      "952:\tlearn: 0.0620289\ttotal: 915ms\tremaining: 45.1ms\n",
      "953:\tlearn: 0.0619570\ttotal: 916ms\tremaining: 44.2ms\n",
      "954:\tlearn: 0.0618537\ttotal: 917ms\tremaining: 43.2ms\n",
      "955:\tlearn: 0.0617618\ttotal: 918ms\tremaining: 42.2ms\n",
      "956:\tlearn: 0.0617114\ttotal: 919ms\tremaining: 41.3ms\n",
      "957:\tlearn: 0.0616201\ttotal: 920ms\tremaining: 40.3ms\n",
      "958:\tlearn: 0.0615893\ttotal: 921ms\tremaining: 39.4ms\n",
      "959:\tlearn: 0.0614969\ttotal: 922ms\tremaining: 38.4ms\n",
      "960:\tlearn: 0.0614814\ttotal: 923ms\tremaining: 37.5ms\n",
      "961:\tlearn: 0.0614058\ttotal: 924ms\tremaining: 36.5ms\n",
      "962:\tlearn: 0.0613765\ttotal: 925ms\tremaining: 35.5ms\n",
      "963:\tlearn: 0.0612953\ttotal: 926ms\tremaining: 34.6ms\n",
      "964:\tlearn: 0.0612087\ttotal: 927ms\tremaining: 33.6ms\n",
      "965:\tlearn: 0.0611555\ttotal: 928ms\tremaining: 32.7ms\n",
      "966:\tlearn: 0.0610897\ttotal: 929ms\tremaining: 31.7ms\n",
      "967:\tlearn: 0.0610487\ttotal: 930ms\tremaining: 30.7ms\n",
      "968:\tlearn: 0.0609627\ttotal: 931ms\tremaining: 29.8ms\n",
      "969:\tlearn: 0.0608593\ttotal: 932ms\tremaining: 28.8ms\n",
      "970:\tlearn: 0.0607078\ttotal: 933ms\tremaining: 27.9ms\n",
      "971:\tlearn: 0.0606476\ttotal: 934ms\tremaining: 26.9ms\n",
      "972:\tlearn: 0.0605493\ttotal: 935ms\tremaining: 25.9ms\n",
      "973:\tlearn: 0.0605091\ttotal: 936ms\tremaining: 25ms\n",
      "974:\tlearn: 0.0604342\ttotal: 937ms\tremaining: 24ms\n",
      "975:\tlearn: 0.0603094\ttotal: 938ms\tremaining: 23.1ms\n",
      "976:\tlearn: 0.0601854\ttotal: 939ms\tremaining: 22.1ms\n",
      "977:\tlearn: 0.0600494\ttotal: 939ms\tremaining: 21.1ms\n",
      "978:\tlearn: 0.0599872\ttotal: 940ms\tremaining: 20.2ms\n",
      "979:\tlearn: 0.0598889\ttotal: 941ms\tremaining: 19.2ms\n",
      "980:\tlearn: 0.0597612\ttotal: 941ms\tremaining: 18.2ms\n",
      "981:\tlearn: 0.0596984\ttotal: 942ms\tremaining: 17.3ms\n",
      "982:\tlearn: 0.0596026\ttotal: 943ms\tremaining: 16.3ms\n",
      "983:\tlearn: 0.0595938\ttotal: 943ms\tremaining: 15.3ms\n",
      "984:\tlearn: 0.0594977\ttotal: 944ms\tremaining: 14.4ms\n",
      "985:\tlearn: 0.0594189\ttotal: 944ms\tremaining: 13.4ms\n",
      "986:\tlearn: 0.0593201\ttotal: 945ms\tremaining: 12.4ms\n",
      "987:\tlearn: 0.0592105\ttotal: 946ms\tremaining: 11.5ms\n",
      "988:\tlearn: 0.0590915\ttotal: 946ms\tremaining: 10.5ms\n",
      "989:\tlearn: 0.0590460\ttotal: 947ms\tremaining: 9.56ms\n"
     ]
    },
    {
     "name": "stdout",
     "output_type": "stream",
     "text": [
      "990:\tlearn: 0.0589893\ttotal: 947ms\tremaining: 8.6ms\n",
      "991:\tlearn: 0.0589107\ttotal: 948ms\tremaining: 7.65ms\n",
      "992:\tlearn: 0.0588204\ttotal: 949ms\tremaining: 6.69ms\n",
      "993:\tlearn: 0.0587006\ttotal: 950ms\tremaining: 5.73ms\n",
      "994:\tlearn: 0.0586584\ttotal: 951ms\tremaining: 4.78ms\n",
      "995:\tlearn: 0.0585906\ttotal: 951ms\tremaining: 3.82ms\n",
      "996:\tlearn: 0.0584356\ttotal: 952ms\tremaining: 2.87ms\n",
      "997:\tlearn: 0.0583025\ttotal: 953ms\tremaining: 1.91ms\n",
      "998:\tlearn: 0.0582426\ttotal: 954ms\tremaining: 954us\n",
      "999:\tlearn: 0.0581530\ttotal: 955ms\tremaining: 0us\n"
     ]
    },
    {
     "data": {
      "text/plain": [
       "<catboost.core.CatBoostRegressor at 0x7f8bf2fb0b20>"
      ]
     },
     "execution_count": 9,
     "metadata": {},
     "output_type": "execute_result"
    }
   ],
   "source": [
    "#Train the Model \n",
    "prior_model = ctb.CatBoostRegressor()\n",
    "prior_model.fit(X_train,Y_train)"
   ]
  },
  {
   "cell_type": "code",
   "execution_count": 10,
   "id": "af65dcda",
   "metadata": {
    "execution": {
     "iopub.execute_input": "2022-06-12T08:23:36.914504Z",
     "iopub.status.busy": "2022-06-12T08:23:36.914124Z",
     "iopub.status.idle": "2022-06-12T08:23:36.921672Z",
     "shell.execute_reply": "2022-06-12T08:23:36.921967Z"
    },
    "id": "af65dcda",
    "papermill": {
     "duration": 0.021601,
     "end_time": "2022-06-12T08:23:36.922085",
     "exception": false,
     "start_time": "2022-06-12T08:23:36.900484",
     "status": "completed"
    },
    "tags": []
   },
   "outputs": [
    {
     "data": {
      "application/scrapbook.scrap.json+json": {
       "data": 0.07009731446191458,
       "encoder": "json",
       "name": "Prior Model MSE",
       "version": 1
      }
     },
     "metadata": {
      "scrapbook": {
       "data": true,
       "display": false,
       "name": "Prior Model MSE"
      }
     },
     "output_type": "display_data"
    },
    {
     "data": {
      "application/scrapbook.scrap.json+json": {
       "data": 0.9945673081884512,
       "encoder": "json",
       "name": "ABC Pre-generator MSE",
       "version": 1
      }
     },
     "metadata": {
      "scrapbook": {
       "data": true,
       "display": false,
       "name": "ABC Pre-generator MSE"
      }
     },
     "output_type": "display_data"
    },
    {
     "data": {
      "application/scrapbook.scrap.json+json": {
       "data": 0.19932556614855668,
       "encoder": "json",
       "name": "Prior Model MSE",
       "version": 1
      }
     },
     "metadata": {
      "scrapbook": {
       "data": true,
       "display": false,
       "name": "Prior Model MSE"
      }
     },
     "output_type": "display_data"
    },
    {
     "data": {
      "application/scrapbook.scrap.json+json": {
       "data": 0.9609660036634738,
       "encoder": "json",
       "name": "ABC Pre-generator MSE",
       "version": 1
      }
     },
     "metadata": {
      "scrapbook": {
       "data": true,
       "display": false,
       "name": "ABC Pre-generator MSE"
      }
     },
     "output_type": "display_data"
    }
   ],
   "source": [
    "y_pred = prior_model.predict(X_test)\n",
    "y_abc = y_pred + np.random.normal(0,variance, y_pred.shape) + bias \n",
    "mse = mean_squared_error(y_pred,Y_test)\n",
    "sb.glue(\"Prior Model MSE\",mse)\n",
    "mse = mean_squared_error(y_abc,Y_test)\n",
    "sb.glue(\"ABC Pre-generator MSE\",mse)\n",
    "mae = mean_absolute_error(y_pred,Y_test)\n",
    "sb.glue(\"Prior Model MSE\",mae)\n",
    "mae = mean_absolute_error(y_abc,Y_test)\n",
    "sb.glue(\"ABC Pre-generator MSE\",mae)"
   ]
  },
  {
   "cell_type": "markdown",
   "id": "25609da2",
   "metadata": {
    "papermill": {
     "duration": 0.009978,
     "end_time": "2022-06-12T08:23:36.942581",
     "exception": false,
     "start_time": "2022-06-12T08:23:36.932603",
     "status": "completed"
    },
    "tags": []
   },
   "source": [
    "# ABC GAN Model"
   ]
  },
  {
   "cell_type": "code",
   "execution_count": 11,
   "id": "dfc3464d",
   "metadata": {
    "execution": {
     "iopub.execute_input": "2022-06-12T08:23:36.965378Z",
     "iopub.status.busy": "2022-06-12T08:23:36.965023Z",
     "iopub.status.idle": "2022-06-12T08:23:36.967630Z",
     "shell.execute_reply": "2022-06-12T08:23:36.967877Z"
    },
    "papermill": {
     "duration": 0.015406,
     "end_time": "2022-06-12T08:23:36.967988",
     "exception": false,
     "start_time": "2022-06-12T08:23:36.952582",
     "status": "completed"
    },
    "tags": []
   },
   "outputs": [],
   "source": [
    "gen = network.Generator(n_features+1).to(device)\n",
    "disc = network.Discriminator(n_features+1).to(device)\n",
    "\n",
    "criterion = torch.nn.BCELoss()\n",
    "gen_opt = torch.optim.Adam(gen.parameters(), lr=0.001, betas=(0.5, 0.999))\n",
    "disc_opt = torch.optim.Adam(disc.parameters(), lr=0.001, betas=(0.5, 0.999))"
   ]
  },
  {
   "cell_type": "code",
   "execution_count": 12,
   "id": "b75fdd85",
   "metadata": {
    "execution": {
     "iopub.execute_input": "2022-06-12T08:23:37.002891Z",
     "iopub.status.busy": "2022-06-12T08:23:37.000592Z",
     "iopub.status.idle": "2022-06-12T08:24:40.593775Z",
     "shell.execute_reply": "2022-06-12T08:24:40.593500Z"
    },
    "papermill": {
     "duration": 63.615621,
     "end_time": "2022-06-12T08:24:40.593888",
     "exception": false,
     "start_time": "2022-06-12T08:23:36.978267",
     "status": "completed"
    },
    "tags": []
   },
   "outputs": [
    {
     "data": {
      "image/png": "[encoded data removed]",
      "text/plain": [
       "<Figure size 432x288 with 1 Axes>"
      ]
     },
     "metadata": {
      "needs_background": "light"
     },
     "output_type": "display_data"
    },
    {
     "data": {
      "image/png": "[encoded data removed]",
      "text/plain": [
       "<Figure size 432x288 with 1 Axes>"
      ]
     },
     "metadata": {
      "needs_background": "light"
     },
     "output_type": "display_data"
    }
   ],
   "source": [
    "#Training the ABC_GAN \n",
    "ABC_train_test2.training_GAN(disc,gen,disc_opt,gen_opt,train_data,batch_size,n_epochs,criterion,prior_model,variance,bias,device)"
   ]
  },
  {
   "cell_type": "code",
   "execution_count": 13,
   "id": "1fa7c368",
   "metadata": {
    "execution": {
     "iopub.execute_input": "2022-06-12T08:24:40.624370Z",
     "iopub.status.busy": "2022-06-12T08:24:40.623904Z",
     "iopub.status.idle": "2022-06-12T08:24:40.943522Z",
     "shell.execute_reply": "2022-06-12T08:24:40.943739Z"
    },
    "papermill": {
     "duration": 0.333574,
     "end_time": "2022-06-12T08:24:40.943860",
     "exception": false,
     "start_time": "2022-06-12T08:24:40.610286",
     "status": "completed"
    },
    "tags": []
   },
   "outputs": [
    {
     "data": {
      "application/scrapbook.scrap.json+json": {
       "data": 0.09391210752978905,
       "encoder": "json",
       "name": "ABC-GAN Model 1 MSE",
       "version": 1
      }
     },
     "metadata": {
      "scrapbook": {
       "data": true,
       "display": false,
       "name": "ABC-GAN Model 1 MSE"
      }
     },
     "output_type": "display_data"
    },
    {
     "data": {
      "application/scrapbook.scrap.json+json": {
       "data": 0.21024623349382013,
       "encoder": "json",
       "name": "ABC-GAN Model 1 MAE",
       "version": 1
      }
     },
     "metadata": {
      "scrapbook": {
       "data": true,
       "display": false,
       "name": "ABC-GAN Model 1 MAE"
      }
     },
     "output_type": "display_data"
    },
    {
     "data": {
      "application/scrapbook.scrap.json+json": {
       "data": 21.445115816369654,
       "encoder": "json",
       "name": "ABC-GAN Model 1 Manhattan Distance",
       "version": 1
      }
     },
     "metadata": {
      "scrapbook": {
       "data": true,
       "display": false,
       "name": "ABC-GAN Model 1 Manhattan Distance"
      }
     },
     "output_type": "display_data"
    },
    {
     "data": {
      "application/scrapbook.scrap.json+json": {
       "data": 3.094017409995369,
       "encoder": "json",
       "name": "ABC-GAN Model 1 Euclidean distance",
       "version": 1
      }
     },
     "metadata": {
      "scrapbook": {
       "data": true,
       "display": false,
       "name": "ABC-GAN Model 1 Euclidean distance"
      }
     },
     "output_type": "display_data"
    },
    {
     "data": {
      "application/scrapbook.scrap.json+json": {
       "data": [
        [
         0.09423819161834554,
         0.09537797726709733,
         0.09047467138045717,
         0.09128453343771889,
         0.09935703687897297,
         0.09202622537456943,
         0.0975980959524731,
         0.0956224091913176,
         0.10107201635360422,
         0.08569094438713494,
         0.09042326463078001,
         0.09637857406271244,
         0.0868568280582842,
         0.08718204944379838,
         0.09727619118566966,
         0.0980938910655168,
         0.09057144540929027,
         0.0986865870038422,
         0.09766502192550378,
         0.08823069161578079,
         0.08989146269740744,
         0.09779155524622948,
         0.1000809442593767,
         0.09255228357852074,
         0.09490180060306165,
         0.10683039490713153,
         0.08863162187926305,
         0.09289926292250375,
         0.09243713834411778,
         0.08958750166692987,
         0.08726960337654882,
         0.09230575951866266,
         0.09928160025662272,
         0.08521635298703027,
         0.0918156947264885,
         0.09712743318299301,
         0.09602877524445341,
         0.09450616339845844,
         0.0941391890012763,
         0.09349511154619662,
         0.0924479226175675,
         0.09476687037004064,
         0.0876899608115627,
         0.09352194392326563,
         0.08928013128594975,
         0.08885798229647003,
         0.09137167949090237,
         0.09730591634911835,
         0.08890296232431168,
         0.09248992326085688,
         0.09345748647996895,
         0.09945013032852185,
         0.08587436525362097,
         0.09215929791603374,
         0.09589456563638803,
         0.10350474736961997,
         0.08965790888793004,
         0.09804149496260013,
         0.09275056305079922,
         0.10297732110970366,
         0.09113301823703301,
         0.09345336228417486,
         0.09139104424353033,
         0.10099627859884919,
         0.09342372084605524,
         0.09327929928547628,
         0.09386254035848493,
         0.10099632324976258,
         0.09474917543919213,
         0.09732678116615248,
         0.09517135723503638,
         0.0897444237003919,
         0.09417541205468613,
         0.08999761537361466,
         0.09625862069852549,
         0.09329847142176537,
         0.09615763207097769,
         0.09609909667228338,
         0.0992722349400238,
         0.08734724986273211,
         0.10274901830871148,
         0.09061448868923294,
         0.09945576185931604,
         0.09161211717252735,
         0.09396566236394388,
         0.08295827774486826,
         0.08608041256846151,
         0.08316029451019702,
         0.09687779324628797,
         0.09765349652316699,
         0.08935355728483292,
         0.09664000898147027,
         0.09924468358608915,
         0.09400038829654467,
         0.09268507458992932,
         0.09594361621659422,
         0.09639753764311831,
         0.10547847134137658,
         0.09733314471326789,
         0.08957382028884653
        ],
        [
         0.2055581865065238,
         0.20971794576183253,
         0.21081572117320463,
         0.2041311886015476,
         0.21943858934237676,
         0.20519904989530058,
         0.21817958764001436,
         0.20622233279487667,
         0.2185612443980633,
         0.19361907148770258,
         0.20588986392991215,
         0.20740200966304423,
         0.20532297164055646,
         0.20550981521898626,
         0.22572949473910472,
         0.21052174189803646,
         0.21485878793778374,
         0.20736422156002007,
         0.21025737323889546,
         0.21155421698794646,
         0.202917918635934,
         0.2155925203845197,
         0.20835456109660513,
         0.21033365516832062,
         0.21300695054963523,
         0.21850882003120348,
         0.21099991081099884,
         0.21155223809182644,
         0.20587409660220146,
         0.2132058834255326,
         0.20291529541068218,
         0.20590547209276872,
         0.2182150023313714,
         0.20165447255267815,
         0.20867878384888172,
         0.2091431354044699,
         0.21478169915430687,
         0.20378136196557214,
         0.20903769672355232,
         0.21092572125295797,
         0.21261965351946213,
         0.20938452384343334,
         0.2024958402867995,
         0.2136593733859413,
         0.20830378604724126,
         0.20535900688492784,
         0.20651614428589157,
         0.20330790886838063,
         0.2036716415747708,
         0.20515766210269695,
         0.20821423123718477,
         0.22096583477276213,
         0.20677057284788758,
         0.2072214730376122,
         0.2051971437153863,
         0.2268725547063,
         0.19636804402312813,
         0.21636704132691317,
         0.21214882390317963,
         0.20910915655686574,
         0.20894508819807978,
         0.2010596315650379,
         0.2102103819157563,
         0.21636948665129205,
         0.21528088089589978,
         0.21333842516383705,
         0.20940583568139404,
         0.2171087986333113,
         0.21325434094258383,
         0.21608383624869235,
         0.20940491655731902,
         0.20713900650540987,
         0.21634159394192928,
         0.21228648853652618,
         0.211730126254991,
         0.20934474157790342,
         0.21155255225797495,
         0.2053616138576877,
         0.22055498558078326,
         0.2078660879576323,
         0.22105703185148098,
         0.21691996677249087,
         0.2102603467510027,
         0.21377290653831818,
         0.20811453600432359,
         0.1959672980375734,
         0.20024863451573194,
         0.20154717699715904,
         0.21524938316467931,
         0.21583513630663648,
         0.20716787911221093,
         0.22132558908824826,
         0.21531236471206533,
         0.20925762215811833,
         0.21171348826850162,
         0.20682394562983045,
         0.21282108697821112,
         0.22345555781879844,
         0.20828050674468862,
         0.20590504613138882
        ],
        [
         20.966935023665428,
         21.39123046770692,
         21.503203559666872,
         20.821381237357855,
         22.38273611292243,
         20.93030308932066,
         22.254317939281464,
         21.03467794507742,
         22.293246928602457,
         19.749145291745663,
         21.00076612085104,
         21.155004985630512,
         20.94294310733676,
         20.962001152336597,
         23.02440846338868,
         21.47321767359972,
         21.91559636965394,
         21.151150599122047,
         21.446252070367336,
         21.57853013277054,
         20.69762770086527,
         21.99043707922101,
         21.252165231853724,
         21.454032827168703,
         21.726708956062794,
         22.287899643182755,
         21.521990902721882,
         21.578328285366297,
         20.99915785342455,
         21.747000109404325,
         20.69736013188958,
         21.00235815346241,
         22.257930237799883,
         20.568756200373173,
         21.285235952585936,
         21.332599811255932,
         21.9077333137393,
         20.785698920488358,
         21.321845065802336,
         21.514423567801714,
         21.687204658985138,
         21.3572214320302,
         20.65457570925355,
         21.79325608536601,
         21.24698617681861,
         20.94661870226264,
         21.06464671716094,
         20.737406704574823,
         20.77450744062662,
         20.926081534475088,
         21.237851586192846,
         22.538515146821737,
         21.090598430484533,
         21.136590249836445,
         20.930108658969402,
         23.1410005800426,
         20.029540490359068,
         22.069438215345144,
         21.639180038124323,
         21.329133968800306,
         21.312398996204138,
         20.508082419633865,
         21.441458955407143,
         22.069687638431787,
         21.95864985138178,
         21.760519366711378,
         21.35939523950219,
         22.145097460597754,
         21.75194277614355,
         22.04055129736662,
         21.35930148884654,
         21.128178663551807,
         22.066842582076788,
         21.65322183072567,
         21.59647287800908,
         21.35316364094615,
         21.578360330313444,
         20.946884613484144,
         22.496608529239893,
         21.202340971678495,
         22.54781724885106,
         22.125836610794067,
         21.446555368602276,
         21.804836466908455,
         21.227682672441006,
         19.988664399832487,
         20.425360720604658,
         20.557812053710222,
         21.95543708279729,
         22.01518390327692,
         21.131123669445515,
         22.575210087001324,
         21.961861200630665,
         21.34427746012807,
         21.594775803387165,
         21.096042454242706,
         21.707750871777534,
         22.792466897517443,
         21.24461168795824,
         21.00231470540166
        ],
        [
         3.1003702270972804,
         3.119062949227528,
         3.037830884168279,
         3.0513967966567903,
         3.183460029850421,
         3.063768102876926,
         3.155155429951471,
         3.1230571140333625,
         3.2108169782888005,
         2.956429658809383,
         3.036967729881165,
         3.1353810859920466,
         2.9764738302133598,
         2.9820410867839215,
         3.149947856860222,
         3.163159320787164,
         3.0394551208641998,
         3.1727010376636344,
         3.156237037423106,
         2.9999217564479315,
         3.028023975323768,
         3.1582809620290915,
         3.1950361992403815,
         3.0725124776002315,
         3.111267211525279,
         3.3010150379129466,
         3.0067300230790313,
         3.0782665281121098,
         3.0706006108089032,
         3.02290012571154,
         2.9835380916636502,
         3.0684177471302028,
         3.1822512826889566,
         2.9482313350002043,
         3.0602615675954605,
         3.147538432595428,
         3.129686098466465,
         3.1047751394654592,
         3.098741240912216,
         3.0881226299666364,
         3.0707797229680738,
         3.1090546437372484,
         2.9907149651512084,
         3.0885657318848003,
         3.0177099580918756,
         3.0105670884801654,
         3.0528529784567153,
         3.150429092617396,
         3.0113289685917395,
         3.0714771971491825,
         3.087501193676989,
         3.1849510661090576,
         2.9595920759235272,
         3.0659824506078697,
         3.127498312535369,
         3.2492282517085864,
         3.0240877478288994,
         3.162314419248221,
         3.075801916766019,
         3.2409391776443086,
         3.048863371844886,
         3.08743306858397,
         3.0531764627744806,
         3.2096137488929433,
         3.0869433953828236,
         3.0845564554921956,
         3.0941847256693418,
         3.2096144583852717,
         3.1087643678473924,
         3.150766839826068,
         3.115682660023917,
         3.0255464328679493,
         3.0993373533027966,
         3.0298113419994808,
         3.1334293212468665,
         3.084873430956295,
         3.131785189191577,
         3.1308318160790596,
         3.182101186933317,
         2.9848650699820043,
         3.2373445703984878,
         3.0401772721836076,
         3.1850412414363234,
         3.056867015687432,
         3.0958839708752453,
         2.9089077554945884,
         2.9631405774925828,
         2.912447431292125,
         3.1434908797579433,
         3.1560507989199142,
         3.0189506195121765,
         3.139630697408529,
         3.18165958672217,
         3.09645597518317,
         3.0747158581197045,
         3.128298076285667,
         3.135689531761406,
         3.2800615964979083,
         3.150869841925135,
         3.0226692954179324
        ]
       ],
       "encoder": "json",
       "name": "ABC_GAN_1 Metrics",
       "version": 1
      }
     },
     "metadata": {
      "scrapbook": {
       "data": true,
       "display": false,
       "name": "ABC_GAN_1 Metrics"
      }
     },
     "output_type": "display_data"
    },
    {
     "name": "stdout",
     "output_type": "stream",
     "text": [
      "MSE\n",
      "0.09391210752978905\n"
     ]
    }
   ],
   "source": [
    "ABC_GAN1_metrics=ABC_train_test2.test_generator(gen,test_data,prior_model,variance,bias,\"1\",device)\n",
    "sb.glue(\"ABC_GAN_1 Metrics\",ABC_GAN1_metrics)\n",
    "\n",
    "print(\"MSE\")\n",
    "print(mean(ABC_GAN1_metrics[0]))"
   ]
  },
  {
   "cell_type": "code",
   "execution_count": 14,
   "id": "eb22ce5c",
   "metadata": {
    "execution": {
     "iopub.execute_input": "2022-06-12T08:24:40.972481Z",
     "iopub.status.busy": "2022-06-12T08:24:40.972084Z",
     "iopub.status.idle": "2022-06-12T08:24:41.294205Z",
     "shell.execute_reply": "2022-06-12T08:24:41.294498Z"
    },
    "papermill": {
     "duration": 0.337492,
     "end_time": "2022-06-12T08:24:41.294621",
     "exception": false,
     "start_time": "2022-06-12T08:24:40.957129",
     "status": "completed"
    },
    "tags": []
   },
   "outputs": [
    {
     "data": {
      "image/png": "[encoded data removed]",
      "text/plain": [
       "<Figure size 432x288 with 1 Axes>"
      ]
     },
     "metadata": {
      "needs_background": "light"
     },
     "output_type": "display_data"
    },
    {
     "data": {
      "image/png": "[encoded data removed]",
      "text/plain": [
       "<Figure size 432x288 with 1 Axes>"
      ]
     },
     "metadata": {
      "needs_background": "light"
     },
     "output_type": "display_data"
    },
    {
     "data": {
      "image/png": "[encoded data removed]",
      "text/plain": [
       "<Figure size 432x288 with 1 Axes>"
      ]
     },
     "metadata": {
      "needs_background": "light"
     },
     "output_type": "display_data"
    },
    {
     "data": {
      "image/png": "[encoded data removed]",
      "text/plain": [
       "<Figure size 432x288 with 1 Axes>"
      ]
     },
     "metadata": {
      "needs_background": "light"
     },
     "output_type": "display_data"
    }
   ],
   "source": [
    "sanityChecks.discProbVsError(train_data,disc,device)\n",
    "sanityChecks.discProbVsError(test_data,disc,device)"
   ]
  },
  {
   "cell_type": "markdown",
   "id": "130f3a4d",
   "metadata": {
    "id": "130f3a4d",
    "papermill": {
     "duration": 0.014688,
     "end_time": "2022-06-12T08:24:41.324609",
     "exception": false,
     "start_time": "2022-06-12T08:24:41.309921",
     "status": "completed"
    },
    "tags": []
   },
   "source": [
    "# ABC - GAN Model with skip connection"
   ]
  },
  {
   "cell_type": "code",
   "execution_count": 15,
   "id": "4e43dad1",
   "metadata": {
    "execution": {
     "iopub.execute_input": "2022-06-12T08:24:41.360140Z",
     "iopub.status.busy": "2022-06-12T08:24:41.359754Z",
     "iopub.status.idle": "2022-06-12T08:24:41.362151Z",
     "shell.execute_reply": "2022-06-12T08:24:41.362400Z"
    },
    "id": "4e43dad1",
    "papermill": {
     "duration": 0.02157,
     "end_time": "2022-06-12T08:24:41.362510",
     "exception": false,
     "start_time": "2022-06-12T08:24:41.340940",
     "status": "completed"
    },
    "tags": []
   },
   "outputs": [],
   "source": [
    "#Generator\n",
    "gen3 = network.GeneratorWithSkipConnection(n_features+1).to(device)\n",
    "constraints=network.weightConstraint()\n",
    "#Discriminator \n",
    "disc3 = network.Discriminator(n_features+1).to(device)\n",
    "\n",
    "criterion = torch.nn.BCELoss()\n",
    "gen_opt = torch.optim.Adam(gen3.parameters(), lr=0.001, betas=(0.5, 0.999))\n",
    "disc_opt = torch.optim.Adam(disc3.parameters(), lr=0.001, betas=(0.5, 0.999))\n"
   ]
  },
  {
   "cell_type": "code",
   "execution_count": 16,
   "id": "26acbc37",
   "metadata": {
    "execution": {
     "iopub.execute_input": "2022-06-12T08:24:41.395726Z",
     "iopub.status.busy": "2022-06-12T08:24:41.395356Z",
     "iopub.status.idle": "2022-06-12T08:27:42.114838Z",
     "shell.execute_reply": "2022-06-12T08:27:42.115159Z"
    },
    "id": "26acbc37",
    "papermill": {
     "duration": 180.737643,
     "end_time": "2022-06-12T08:27:42.115297",
     "exception": false,
     "start_time": "2022-06-12T08:24:41.377654",
     "status": "completed"
    },
    "tags": []
   },
   "outputs": [
    {
     "data": {
      "image/png": "[encoded data removed]",
      "text/plain": [
       "<Figure size 432x288 with 1 Axes>"
      ]
     },
     "metadata": {
      "needs_background": "light"
     },
     "output_type": "display_data"
    },
    {
     "data": {
      "image/png": "[encoded data removed]",
      "text/plain": [
       "<Figure size 432x288 with 1 Axes>"
      ]
     },
     "metadata": {
      "needs_background": "light"
     },
     "output_type": "display_data"
    }
   ],
   "source": [
    "ABC_train_test2.training_GAN_skip_connection(disc3,gen3,disc_opt,gen_opt,train_data,batch_size,n_epochs,criterion,prior_model,variance,bias,device)"
   ]
  },
  {
   "cell_type": "code",
   "execution_count": 17,
   "id": "c5e0717b",
   "metadata": {
    "execution": {
     "iopub.execute_input": "2022-06-12T08:27:42.151666Z",
     "iopub.status.busy": "2022-06-12T08:27:42.151092Z",
     "iopub.status.idle": "2022-06-12T08:27:42.978563Z",
     "shell.execute_reply": "2022-06-12T08:27:42.978870Z"
    },
    "id": "c5e0717b",
    "papermill": {
     "duration": 0.847641,
     "end_time": "2022-06-12T08:27:42.978992",
     "exception": false,
     "start_time": "2022-06-12T08:27:42.131351",
     "status": "completed"
    },
    "tags": []
   },
   "outputs": [
    {
     "data": {
      "application/scrapbook.scrap.json+json": {
       "data": 0.0854901117526008,
       "encoder": "json",
       "name": "ABC-GAN Model 3 MSE",
       "version": 1
      }
     },
     "metadata": {
      "scrapbook": {
       "data": true,
       "display": false,
       "name": "ABC-GAN Model 3 MSE"
      }
     },
     "output_type": "display_data"
    },
    {
     "data": {
      "application/scrapbook.scrap.json+json": {
       "data": 0.199199306818054,
       "encoder": "json",
       "name": "ABC-GAN Model 3 MAE",
       "version": 1
      }
     },
     "metadata": {
      "scrapbook": {
       "data": true,
       "display": false,
       "name": "ABC-GAN Model 3 MAE"
      }
     },
     "output_type": "display_data"
    },
    {
     "data": {
      "application/scrapbook.scrap.json+json": {
       "data": 20.318329295441508,
       "encoder": "json",
       "name": "ABC-GAN Model 3 Manhattan Distance",
       "version": 1
      }
     },
     "metadata": {
      "scrapbook": {
       "data": true,
       "display": false,
       "name": "ABC-GAN Model 3 Manhattan Distance"
      }
     },
     "output_type": "display_data"
    },
    {
     "data": {
      "application/scrapbook.scrap.json+json": {
       "data": 2.9521698585652425,
       "encoder": "json",
       "name": "ABC-GAN Model 3 Euclidean distance",
       "version": 1
      }
     },
     "metadata": {
      "scrapbook": {
       "data": true,
       "display": false,
       "name": "ABC-GAN Model 3 Euclidean distance"
      }
     },
     "output_type": "display_data"
    },
    {
     "data": {
      "application/scrapbook.scrap.json+json": {
       "data": [
        [
         0.09073023599241799,
         0.09232863758417074,
         0.08415519069616748,
         0.08319330485615278,
         0.08792513036173656,
         0.08303414757146708,
         0.08476613102789164,
         0.08514985175669235,
         0.08939633261568464,
         0.08907462108544087,
         0.08686581282945552,
         0.082386716509171,
         0.09184582332168814,
         0.08883008297821961,
         0.08075449799033535,
         0.09453040865024974,
         0.08394702513733034,
         0.0858256495141035,
         0.08520009765344633,
         0.08994195852164578,
         0.08788516028691579,
         0.08714042439489646,
         0.08297088940154503,
         0.07907778813335475,
         0.08482553389827441,
         0.0896682551329578,
         0.08480300945469846,
         0.09119080069550603,
         0.08003035529910754,
         0.0876849518848815,
         0.08568105220009894,
         0.08199494929510884,
         0.09122597500925192,
         0.09257341046781921,
         0.08091717573030059,
         0.0880295332892468,
         0.08449574082227261,
         0.08345379294624314,
         0.08039531038241518,
         0.08665993523206048,
         0.08905943433717046,
         0.08278899763922215,
         0.0861946639000106,
         0.08807329928774886,
         0.07870466818557852,
         0.09295812881350253,
         0.08602463660501682,
         0.091834897407374,
         0.08274331039564485,
         0.08279613707031885,
         0.08417944094465013,
         0.08162388459526503,
         0.08822636000686768,
         0.08960519505176083,
         0.08412719503555496,
         0.08316533724870712,
         0.08685716525430141,
         0.08875162885082884,
         0.07732896459803794,
         0.08439865260340043,
         0.078793387180065,
         0.08838812066852046,
         0.07725635144271527,
         0.08081493131313844,
         0.08547689404284513,
         0.08339042682086138,
         0.0822190209701854,
         0.08283922642029862,
         0.08958757662706683,
         0.0920786685006792,
         0.0835297994005672,
         0.0833197949375439,
         0.08247091335034777,
         0.07977050034156487,
         0.08327534322541864,
         0.07807998829182529,
         0.08944791486314964,
         0.08414924009821917,
         0.08791369934989354,
         0.08318988108077012,
         0.08707838952768748,
         0.08295654098996742,
         0.08602286939156183,
         0.08736113766350594,
         0.08309503766994866,
         0.08494507461343222,
         0.09312522213717787,
         0.08635237952348114,
         0.09098793017037932,
         0.08520927445283727,
         0.08905277086700984,
         0.08411486708631177,
         0.0803475081750423,
         0.07821771036091887,
         0.08788179937526594,
         0.09062820889666685,
         0.08158210115203476,
         0.08137800886204419,
         0.08331937486285396,
         0.08933559211489166
        ],
        [
         0.2060049041813495,
         0.20419112863201722,
         0.19516758817960234,
         0.19776678538205578,
         0.2058104411059735,
         0.19362386374496945,
         0.19929260789763695,
         0.1982635127417013,
         0.20580085900192166,
         0.20342314550105264,
         0.20172803359580974,
         0.20488972348325393,
         0.20795537611725284,
         0.20240700734304448,
         0.19286924666341612,
         0.21383615502831982,
         0.1962352112373885,
         0.19811446701779084,
         0.19593439981633543,
         0.20480151715524056,
         0.207253461374956,
         0.20678144408499494,
         0.19769959195571787,
         0.19108663280220592,
         0.2033980910246279,
         0.19843069405532351,
         0.19770607929311546,
         0.20115608670840077,
         0.1943146390657799,
         0.20119019510114894,
         0.19340492200617695,
         0.1975671442262098,
         0.2069182669123014,
         0.2044694761143011,
         0.19740066516633129,
         0.20002322351815655,
         0.19871118365257395,
         0.19265186516385452,
         0.19652668518178604,
         0.1991420846943762,
         0.2036336510643071,
         0.19550716840461188,
         0.19837470060470058,
         0.2017064505055839,
         0.19009817172499263,
         0.20936856879030957,
         0.19983243482077823,
         0.208265660074996,
         0.19647719112097048,
         0.19974594614377209,
         0.1994346495644719,
         0.18689151867931963,
         0.1974539707104365,
         0.20615113672672533,
         0.19920341232243707,
         0.20016814724487417,
         0.19646402623723536,
         0.2008125570182707,
         0.18986995079938104,
         0.1993936186327654,
         0.19171499519371518,
         0.20314714699691416,
         0.19208513616639025,
         0.19046802804166196,
         0.19653127934126294,
         0.19459821444516087,
         0.2010372348275839,
         0.19058718408147493,
         0.19209535222719698,
         0.20831110708269418,
         0.19920641790125884,
         0.1957201054137127,
         0.1941261935759993,
         0.1966345714149522,
         0.19783985994610132,
         0.1919793086309059,
         0.20511690782857875,
         0.202630660405346,
         0.20498523693166526,
         0.1969762108489579,
         0.2018237601162172,
         0.1932596875464215,
         0.20702915404941521,
         0.20186860209294394,
         0.19593841933152256,
         0.1895371798206778,
         0.2050213504071329,
         0.19774888645784527,
         0.2065116836890286,
         0.2020217308811113,
         0.20709131804167055,
         0.20052334023456947,
         0.19599401907009237,
         0.18704555103299664,
         0.19803405699192309,
         0.2033527758629883,
         0.1961985950668653,
         0.1947714538112575,
         0.1926297568076966,
         0.2049368720720796
        ],
        [
         21.01250022649765,
         20.827495120465755,
         19.90709399431944,
         20.17221210896969,
         20.992664992809296,
         19.749634101986885,
         20.327846005558968,
         20.22287829965353,
         20.99168761819601,
         20.74916084110737,
         20.576259426772594,
         20.8987517952919,
         21.21144836395979,
         20.645514748990536,
         19.672663159668446,
         21.811287812888622,
         20.015991546213627,
         20.207675635814667,
         19.985308781266212,
         20.889754749834538,
         21.139853060245514,
         21.091707296669483,
         20.165358379483223,
         19.490836545825005,
         20.746605284512043,
         20.239930793642998,
         20.166020087897778,
         20.517920844256878,
         19.82009318470955,
         20.521399900317192,
         19.72730204463005,
         20.1518487110734,
         21.10566322505474,
         20.855886563658714,
         20.13486784696579,
         20.402368798851967,
         20.268540732562542,
         19.65049024671316,
         20.045721888542175,
         20.31249263882637,
         20.770632408559322,
         19.941731177270412,
         20.23421946167946,
         20.574057951569557,
         19.39001351594925,
         21.355594016611576,
         20.38290835171938,
         21.243097327649593,
         20.04067349433899,
         20.374086506664753,
         20.342334255576134,
         19.062934905290604,
         20.140305012464523,
         21.027415946125984,
         20.31874805688858,
         20.417151018977165,
         20.039330676198006,
         20.48288081586361,
         19.366734981536865,
         20.33814910054207,
         19.55492950975895,
         20.721008993685246,
         19.592683888971806,
         19.42773886024952,
         20.04619049280882,
         19.84901787340641,
         20.50579795241356,
         19.439892776310444,
         19.59372592717409,
         21.247732922434807,
         20.319054625928402,
         19.963450752198696,
         19.80087174475193,
         20.056726284325123,
         20.179665714502335,
         19.5818894803524,
         20.921924598515034,
         20.66832736134529,
         20.908494167029858,
         20.091573506593704,
         20.586023531854153,
         19.712488129734993,
         21.116973713040352,
         20.590597413480282,
         19.9857187718153,
         19.332792341709137,
         20.912177741527557,
         20.170386418700218,
         21.064191736280918,
         20.606216549873352,
         21.123314440250397,
         20.453380703926086,
         19.99138994514942,
         19.078646205365658,
         20.199473813176155,
         20.741983138024807,
         20.01225669682026,
         19.866688288748264,
         19.64823519438505,
         20.90356095135212
        ],
        [
         3.0421183526001467,
         3.068797978620524,
         2.929817306763184,
         2.913025419615761,
         2.9947225742791486,
         2.9102376281481965,
         2.940432853313428,
         2.9470807384906528,
         3.0196731490013673,
         3.0142347869260226,
         2.9766277746141623,
         2.8988696217552525,
         3.060763626746141,
         3.0100944277179082,
         2.8700102430155545,
         3.105173373956029,
         2.926191477673273,
         2.9587524821178524,
         2.947950128589614,
         3.0288743402802085,
         2.994041808202653,
         2.981329114384964,
         2.9091288591187556,
         2.8400588707986643,
         2.9414629791353795,
         3.0242622279758895,
         2.9410724173979874,
         3.0498297773714538,
         2.857113270507308,
         2.9906295478139566,
         2.9562590083431615,
         2.8919690226731514,
         3.0504179141461414,
         3.072863138461841,
         2.872899567421503,
         2.9965000242788533,
         2.9357393555749813,
         2.917582369105763,
         2.8636203762032335,
         2.973098281871988,
         3.0139778204876326,
         2.9059383612183955,
         2.9651063585984696,
         2.997244822724761,
         2.8333506939538933,
         3.0792416499809256,
         2.9621804357114563,
         3.0605815681912723,
         2.905136427150328,
         2.906063657453587,
         2.9302394059793664,
         2.885417860330983,
         2.999848116271972,
         3.023198619885832,
         2.9293299393592735,
         2.9125357335778945,
         2.976479607848631,
         3.008764886591264,
         2.8084790170125657,
         2.9340522431522653,
         2.8349471762921135,
         3.0025969273595625,
         2.8071601035845735,
         2.871083940594583,
         2.952734866588973,
         2.9164745045564615,
         2.89591784050565,
         2.9068197561717617,
         3.0229013903799133,
         3.0646409556535783,
         2.918910676752177,
         2.9152391125994237,
         2.900350523942834,
         2.8524710401403928,
         2.91446135829465,
         2.8220841245019925,
         3.0205442085891177,
         2.9297137215124547,
         2.9945278982986854,
         2.9129654770076745,
         2.98026772821237,
         2.9088773059337987,
         2.9621500093579503,
         2.9851023502850964,
         2.911304491518322,
         2.943534883532058,
         3.082007893888681,
         2.9678178366259402,
         3.0464354379140692,
         2.948108884384937,
         3.0138650647358114,
         2.9291153003601273,
         2.8627689103129357,
         2.824571906823001,
         2.9939845584566944,
         3.0404074245830968,
         2.8846792399688987,
         2.8810687086441567,
         2.9152317636872547,
         3.0186471134796373
        ]
       ],
       "encoder": "json",
       "name": "ABC_GAN_3 Metrics",
       "version": 1
      }
     },
     "metadata": {
      "scrapbook": {
       "data": true,
       "display": false,
       "name": "ABC_GAN_3 Metrics"
      }
     },
     "output_type": "display_data"
    },
    {
     "name": "stdout",
     "output_type": "stream",
     "text": [
      "MSE\n",
      "0.0854901117526008\n"
     ]
    }
   ],
   "source": [
    "ABC_GAN3_metrics=ABC_train_test2.test_generator(gen3,test_data,prior_model,variance,bias,\"3\",device)\n",
    "sb.glue(\"ABC_GAN_3 Metrics\",ABC_GAN3_metrics)\n",
    "\n",
    "print(\"MSE\")\n",
    "print(mean(ABC_GAN3_metrics[0]))"
   ]
  },
  {
   "cell_type": "code",
   "execution_count": 18,
   "id": "c8e46b48",
   "metadata": {
    "execution": {
     "iopub.execute_input": "2022-06-12T08:27:43.016594Z",
     "iopub.status.busy": "2022-06-12T08:27:43.016221Z",
     "iopub.status.idle": "2022-06-12T08:27:43.364899Z",
     "shell.execute_reply": "2022-06-12T08:27:43.365317Z"
    },
    "id": "c8e46b48",
    "papermill": {
     "duration": 0.368835,
     "end_time": "2022-06-12T08:27:43.365438",
     "exception": false,
     "start_time": "2022-06-12T08:27:42.996603",
     "status": "completed"
    },
    "tags": []
   },
   "outputs": [
    {
     "data": {
      "image/png": "[encoded data removed]",
      "text/plain": [
       "<Figure size 432x288 with 1 Axes>"
      ]
     },
     "metadata": {
      "needs_background": "light"
     },
     "output_type": "display_data"
    },
    {
     "data": {
      "image/png": "[encoded data removed]",
      "text/plain": [
       "<Figure size 432x288 with 1 Axes>"
      ]
     },
     "metadata": {
      "needs_background": "light"
     },
     "output_type": "display_data"
    },
    {
     "data": {
      "image/png": "[encoded data removed]",
      "text/plain": [
       "<Figure size 432x288 with 1 Axes>"
      ]
     },
     "metadata": {
      "needs_background": "light"
     },
     "output_type": "display_data"
    },
    {
     "data": {
      "image/png": "[encoded data removed]",
      "text/plain": [
       "<Figure size 432x288 with 1 Axes>"
      ]
     },
     "metadata": {
      "needs_background": "light"
     },
     "output_type": "display_data"
    }
   ],
   "source": [
    "sanityChecks.discProbVsError(train_data,disc3,device)\n",
    "sanityChecks.discProbVsError(test_data,disc3,device)"
   ]
  },
  {
   "cell_type": "markdown",
   "id": "a5bd74c3",
   "metadata": {
    "id": "a5bd74c3",
    "papermill": {
     "duration": 0.019423,
     "end_time": "2022-06-12T08:27:43.404904",
     "exception": false,
     "start_time": "2022-06-12T08:27:43.385481",
     "status": "completed"
    },
    "tags": []
   },
   "source": [
    "## Skip Connection Model Analysis - ABC-GAN "
   ]
  },
  {
   "cell_type": "markdown",
   "id": "5744a8bf",
   "metadata": {
    "id": "5744a8bf",
    "papermill": {
     "duration": 0.019147,
     "end_time": "2022-06-12T08:27:43.443316",
     "exception": false,
     "start_time": "2022-06-12T08:27:43.424169",
     "status": "completed"
    },
    "tags": []
   },
   "source": [
    "### Weight Analysis \n",
    "\n",
    "Study the weights of the skip connection layer\n",
    "\n",
    "Equation of the skip connection is \n",
    "\n",
    "$output = y_{gan} * w + y_{abc} * (1-w)$"
   ]
  },
  {
   "cell_type": "code",
   "execution_count": 19,
   "id": "52c31dea",
   "metadata": {
    "execution": {
     "iopub.execute_input": "2022-06-12T08:27:43.484747Z",
     "iopub.status.busy": "2022-06-12T08:27:43.484332Z",
     "iopub.status.idle": "2022-06-12T08:27:43.487822Z",
     "shell.execute_reply": "2022-06-12T08:27:43.488065Z"
    },
    "id": "52c31dea",
    "papermill": {
     "duration": 0.025691,
     "end_time": "2022-06-12T08:27:43.488178",
     "exception": false,
     "start_time": "2022-06-12T08:27:43.462487",
     "status": "completed"
    },
    "tags": []
   },
   "outputs": [
    {
     "name": "stdout",
     "output_type": "stream",
     "text": [
      "Weight of the node at skip connection\n",
      "Parameter containing:\n",
      "tensor([[0.7391]], requires_grad=True)\n"
     ]
    },
    {
     "data": {
      "application/scrapbook.scrap.json+json": {
       "data": 0.7390697002410889,
       "encoder": "json",
       "name": "Skip Connection Weight",
       "version": 1
      }
     },
     "metadata": {
      "scrapbook": {
       "data": true,
       "display": false,
       "name": "Skip Connection Weight"
      }
     },
     "output_type": "display_data"
    }
   ],
   "source": [
    "print(\"Weight of the node at skip connection\")\n",
    "for name,param in gen3.named_parameters():\n",
    "    if(name == \"skipNode.weight\"):\n",
    "        print(param)\n",
    "        sb.glue(\"Skip Connection Weight\",param.item())"
   ]
  }
 ],
 "metadata": {
  "colab": {
   "collapsed_sections": [],
   "name": "ABC_GAN_Model-Catboost_Pre-gen.ipynb",
   "provenance": []
  },
  "interpreter": {
   "hash": "31f2aee4e71d21fbe5cf8b01ff0e069b9275f58929596ceb00d14d90e3e16cd6"
  },
  "kernelspec": {
   "display_name": "Python 3 (ipykernel)",
   "language": "python",
   "name": "python3"
  },
  "language_info": {
   "codemirror_mode": {
    "name": "ipython",
    "version": 3
   },
   "file_extension": ".py",
   "mimetype": "text/x-python",
   "name": "python",
   "nbconvert_exporter": "python",
   "pygments_lexer": "ipython3",
   "version": "3.8.11"
  },
  "papermill": {
   "default_parameters": {},
   "duration": 251.305726,
   "end_time": "2022-06-12T08:27:43.815845",
   "environment_variables": {},
   "exception": null,
   "input_path": "ABC_GAN-Catboost.ipynb",
   "output_path": "./ABC_GAN_Catboost/ABC-GAN_output_10_1.ipynb",
   "parameters": {
    "bias": 1,
    "variance": 0.1
   },
   "start_time": "2022-06-12T08:23:32.510119",
   "version": "2.3.3"
  }
 },
 "nbformat": 4,
 "nbformat_minor": 5
}