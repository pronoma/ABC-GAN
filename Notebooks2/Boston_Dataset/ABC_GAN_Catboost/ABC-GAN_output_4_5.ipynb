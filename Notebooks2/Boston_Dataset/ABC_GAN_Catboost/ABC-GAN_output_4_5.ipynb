{
 "cells": [
  {
   "cell_type": "markdown",
   "id": "622780e6",
   "metadata": {
    "id": "622780e6",
    "papermill": {
     "duration": 0.034355,
     "end_time": "2022-06-12T04:26:40.637900",
     "exception": false,
     "start_time": "2022-06-12T04:26:40.603545",
     "status": "completed"
    },
    "tags": []
   },
   "source": [
    "## Import Libraries "
   ]
  },
  {
   "cell_type": "code",
   "execution_count": 1,
   "id": "a62397e3",
   "metadata": {
    "execution": {
     "iopub.execute_input": "2022-06-12T04:26:40.675856Z",
     "iopub.status.busy": "2022-06-12T04:26:40.675339Z",
     "iopub.status.idle": "2022-06-12T04:26:40.677854Z",
     "shell.execute_reply": "2022-06-12T04:26:40.678259Z"
    },
    "id": "a62397e3",
    "papermill": {
     "duration": 0.023633,
     "end_time": "2022-06-12T04:26:40.678481",
     "exception": false,
     "start_time": "2022-06-12T04:26:40.654848",
     "status": "completed"
    },
    "tags": []
   },
   "outputs": [],
   "source": [
    "import warnings\n",
    "import sys\n",
    "sys.path.insert(0, '../../src')\n",
    "warnings.filterwarnings('ignore')"
   ]
  },
  {
   "cell_type": "code",
   "execution_count": 2,
   "id": "d6a4e155",
   "metadata": {
    "execution": {
     "iopub.execute_input": "2022-06-12T04:26:40.698938Z",
     "iopub.status.busy": "2022-06-12T04:26:40.698533Z",
     "iopub.status.idle": "2022-06-12T04:26:42.562184Z",
     "shell.execute_reply": "2022-06-12T04:26:42.562437Z"
    },
    "id": "d6a4e155",
    "papermill": {
     "duration": 1.87454,
     "end_time": "2022-06-12T04:26:42.562561",
     "exception": false,
     "start_time": "2022-06-12T04:26:40.688021",
     "status": "completed"
    },
    "tags": []
   },
   "outputs": [],
   "source": [
    "import ABC_train_test2\n",
    "import bostonDataset\n",
    "import network\n",
    "import dataset\n",
    "import sanityChecks\n",
    "import torch \n",
    "import scrapbook as sb\n",
    "from statistics import mean \n",
    "import catboost as ctb \n",
    "from sklearn.model_selection import train_test_split\n",
    "from sklearn.metrics import mean_squared_error,mean_absolute_error\n",
    "import numpy as np"
   ]
  },
  {
   "cell_type": "markdown",
   "id": "2fa5b0f7",
   "metadata": {
    "id": "2fa5b0f7",
    "papermill": {
     "duration": 0.006857,
     "end_time": "2022-06-12T04:26:42.576662",
     "exception": false,
     "start_time": "2022-06-12T04:26:42.569805",
     "status": "completed"
    },
    "tags": []
   },
   "source": [
    "## Parameters "
   ]
  },
  {
   "cell_type": "code",
   "execution_count": 3,
   "id": "783186fb",
   "metadata": {
    "execution": {
     "iopub.execute_input": "2022-06-12T04:26:42.592637Z",
     "iopub.status.busy": "2022-06-12T04:26:42.592191Z",
     "iopub.status.idle": "2022-06-12T04:26:42.593313Z",
     "shell.execute_reply": "2022-06-12T04:26:42.593546Z"
    },
    "id": "783186fb",
    "papermill": {
     "duration": 0.010139,
     "end_time": "2022-06-12T04:26:42.593653",
     "exception": false,
     "start_time": "2022-06-12T04:26:42.583514",
     "status": "completed"
    },
    "tags": [
     "parameters"
    ]
   },
   "outputs": [],
   "source": [
    "variance = 1\n",
    "bias = 1 "
   ]
  },
  {
   "cell_type": "code",
   "execution_count": 4,
   "id": "0b13c613",
   "metadata": {
    "execution": {
     "iopub.execute_input": "2022-06-12T04:26:42.609427Z",
     "iopub.status.busy": "2022-06-12T04:26:42.609060Z",
     "iopub.status.idle": "2022-06-12T04:26:42.610286Z",
     "shell.execute_reply": "2022-06-12T04:26:42.610532Z"
    },
    "papermill": {
     "duration": 0.009999,
     "end_time": "2022-06-12T04:26:42.610637",
     "exception": false,
     "start_time": "2022-06-12T04:26:42.600638",
     "status": "completed"
    },
    "tags": [
     "injected-parameters"
    ]
   },
   "outputs": [],
   "source": [
    "# Parameters\n",
    "variance = 0.01\n",
    "bias = 0.1\n"
   ]
  },
  {
   "cell_type": "markdown",
   "id": "391cdbfd",
   "metadata": {
    "id": "391cdbfd",
    "papermill": {
     "duration": 0.00681,
     "end_time": "2022-06-12T04:26:42.624441",
     "exception": false,
     "start_time": "2022-06-12T04:26:42.617631",
     "status": "completed"
    },
    "tags": []
   },
   "source": [
    "## Dataset \n"
   ]
  },
  {
   "cell_type": "code",
   "execution_count": 5,
   "id": "5b51f161",
   "metadata": {
    "execution": {
     "iopub.execute_input": "2022-06-12T04:26:42.640193Z",
     "iopub.status.busy": "2022-06-12T04:26:42.639828Z",
     "iopub.status.idle": "2022-06-12T04:26:42.641113Z",
     "shell.execute_reply": "2022-06-12T04:26:42.641351Z"
    },
    "id": "5b51f161",
    "papermill": {
     "duration": 0.01008,
     "end_time": "2022-06-12T04:26:42.641462",
     "exception": false,
     "start_time": "2022-06-12T04:26:42.631382",
     "status": "completed"
    },
    "tags": []
   },
   "outputs": [],
   "source": [
    "#Parameters \n",
    "n_features = 13\n",
    "n_samples= 506\n",
    "n_target = 1 "
   ]
  },
  {
   "cell_type": "code",
   "execution_count": 6,
   "id": "5d6eced4",
   "metadata": {
    "execution": {
     "iopub.execute_input": "2022-06-12T04:26:42.657291Z",
     "iopub.status.busy": "2022-06-12T04:26:42.656892Z",
     "iopub.status.idle": "2022-06-12T04:26:42.667668Z",
     "shell.execute_reply": "2022-06-12T04:26:42.667918Z"
    },
    "id": "5d6eced4",
    "papermill": {
     "duration": 0.019597,
     "end_time": "2022-06-12T04:26:42.668034",
     "exception": false,
     "start_time": "2022-06-12T04:26:42.648437",
     "status": "completed"
    },
    "tags": []
   },
   "outputs": [
    {
     "name": "stdout",
     "output_type": "stream",
     "text": [
      "         X1        X2        X3        X4        X5        X6        X7  \\\n",
      "0 -0.419782  0.284830 -1.287909 -0.272599 -0.144217  0.413672 -0.120013   \n",
      "1 -0.417339 -0.487722 -0.593381 -0.272599 -0.740262  0.194274  0.367166   \n",
      "2 -0.417342 -0.487722 -0.593381 -0.272599 -0.740262  1.282714 -0.265812   \n",
      "3 -0.416750 -0.487722 -1.306878 -0.272599 -0.835284  1.016303 -0.809889   \n",
      "4 -0.412482 -0.487722 -1.306878 -0.272599 -0.835284  1.228577 -0.511180   \n",
      "\n",
      "         X8        X9       X10       X11       X12       X13         Y  \n",
      "0  0.140214 -0.982843 -0.666608 -1.459000  0.441052 -1.075562  0.159686  \n",
      "1  0.557160 -0.867883 -0.987329 -0.303094  0.441052 -0.492439 -0.101524  \n",
      "2  0.557160 -0.867883 -0.987329 -0.303094  0.396427 -1.208727  1.324247  \n",
      "3  1.077737 -0.752922 -1.106115  0.113032  0.416163 -1.361517  1.182758  \n",
      "4  1.077737 -0.752922 -1.106115  0.113032  0.441052 -1.026501  1.487503  \n"
     ]
    }
   ],
   "source": [
    "X,Y = bostonDataset.boston_data()"
   ]
  },
  {
   "cell_type": "code",
   "execution_count": 7,
   "id": "fe007438",
   "metadata": {
    "execution": {
     "iopub.execute_input": "2022-06-12T04:26:42.685422Z",
     "iopub.status.busy": "2022-06-12T04:26:42.685051Z",
     "iopub.status.idle": "2022-06-12T04:26:42.686374Z",
     "shell.execute_reply": "2022-06-12T04:26:42.686610Z"
    },
    "id": "fe007438",
    "papermill": {
     "duration": 0.011245,
     "end_time": "2022-06-12T04:26:42.686718",
     "exception": false,
     "start_time": "2022-06-12T04:26:42.675473",
     "status": "completed"
    },
    "tags": []
   },
   "outputs": [],
   "source": [
    "#Train test split for dataset \n",
    "X_train,X_test,Y_train,Y_test = train_test_split(X,Y,test_size = 0.2)\n",
    "train_data = dataset.CustomDataset(X_train,Y_train)\n",
    "test_data = dataset.CustomDataset(X_test,Y_test)\n"
   ]
  },
  {
   "cell_type": "markdown",
   "id": "a9a1af34",
   "metadata": {
    "id": "a9a1af34",
    "papermill": {
     "duration": 0.007118,
     "end_time": "2022-06-12T04:26:42.701107",
     "exception": false,
     "start_time": "2022-06-12T04:26:42.693989",
     "status": "completed"
    },
    "tags": []
   },
   "source": [
    "## Training Parameters "
   ]
  },
  {
   "cell_type": "code",
   "execution_count": 8,
   "id": "952b7fc8",
   "metadata": {
    "execution": {
     "iopub.execute_input": "2022-06-12T04:26:42.718405Z",
     "iopub.status.busy": "2022-06-12T04:26:42.718039Z",
     "iopub.status.idle": "2022-06-12T04:26:42.719286Z",
     "shell.execute_reply": "2022-06-12T04:26:42.719527Z"
    },
    "id": "952b7fc8",
    "papermill": {
     "duration": 0.011399,
     "end_time": "2022-06-12T04:26:42.719649",
     "exception": false,
     "start_time": "2022-06-12T04:26:42.708250",
     "status": "completed"
    },
    "tags": []
   },
   "outputs": [],
   "source": [
    "batch_size = 32\n",
    "n_epochs = 1000\n",
    "#Select the device \n",
    "device = torch.device('cuda' if torch.cuda.is_available() else 'cpu')"
   ]
  },
  {
   "cell_type": "markdown",
   "id": "a95e1600",
   "metadata": {
    "id": "a95e1600",
    "papermill": {
     "duration": 0.007591,
     "end_time": "2022-06-12T04:26:42.734873",
     "exception": false,
     "start_time": "2022-06-12T04:26:42.727282",
     "status": "completed"
    },
    "tags": []
   },
   "source": [
    "# ABC Pre-generator Model \n",
    "\n",
    "1. The catboost model is used as a pre-generator model for the ABC-GAN. \n",
    "2. The model is first trained on the entire dataset \n",
    "3. It generats X,Y pairs and we add some Gaussian noise with mean 0 and variance 1 to it which is then feed as input to the generator.\n"
   ]
  },
  {
   "cell_type": "code",
   "execution_count": 9,
   "id": "ff8ce7bd",
   "metadata": {
    "execution": {
     "iopub.execute_input": "2022-06-12T04:26:42.754416Z",
     "iopub.status.busy": "2022-06-12T04:26:42.754027Z",
     "iopub.status.idle": "2022-06-12T04:26:43.707171Z",
     "shell.execute_reply": "2022-06-12T04:26:43.707473Z"
    },
    "id": "ff8ce7bd",
    "papermill": {
     "duration": 0.965405,
     "end_time": "2022-06-12T04:26:43.707595",
     "exception": false,
     "start_time": "2022-06-12T04:26:42.742190",
     "status": "completed"
    },
    "tags": []
   },
   "outputs": [
    {
     "name": "stdout",
     "output_type": "stream",
     "text": [
      "Learning rate set to 0.033215\n",
      "0:\tlearn: 0.9854870\ttotal: 58.6ms\tremaining: 58.5s\n",
      "1:\tlearn: 0.9679342\ttotal: 59.6ms\tremaining: 29.7s\n",
      "2:\tlearn: 0.9487659\ttotal: 60.6ms\tremaining: 20.1s\n",
      "3:\tlearn: 0.9310874\ttotal: 61.5ms\tremaining: 15.3s\n",
      "4:\tlearn: 0.9137796\ttotal: 62.6ms\tremaining: 12.4s\n",
      "5:\tlearn: 0.9001370\ttotal: 63.6ms\tremaining: 10.5s\n",
      "6:\tlearn: 0.8836619\ttotal: 64.4ms\tremaining: 9.14s\n",
      "7:\tlearn: 0.8681949\ttotal: 65.2ms\tremaining: 8.09s\n",
      "8:\tlearn: 0.8531951\ttotal: 66ms\tremaining: 7.27s\n",
      "9:\tlearn: 0.8365558\ttotal: 66.8ms\tremaining: 6.62s\n",
      "10:\tlearn: 0.8233602\ttotal: 67.6ms\tremaining: 6.08s\n",
      "11:\tlearn: 0.8096640\ttotal: 68.4ms\tremaining: 5.63s\n",
      "12:\tlearn: 0.7950543\ttotal: 69.3ms\tremaining: 5.26s\n",
      "13:\tlearn: 0.7800349\ttotal: 70.1ms\tremaining: 4.93s\n",
      "14:\tlearn: 0.7682337\ttotal: 70.9ms\tremaining: 4.66s\n",
      "15:\tlearn: 0.7549284\ttotal: 71.7ms\tremaining: 4.41s\n",
      "16:\tlearn: 0.7414885\ttotal: 72.6ms\tremaining: 4.2s\n",
      "17:\tlearn: 0.7284181\ttotal: 73.3ms\tremaining: 4s\n",
      "18:\tlearn: 0.7165064\ttotal: 74.1ms\tremaining: 3.83s\n",
      "19:\tlearn: 0.7039519\ttotal: 75ms\tremaining: 3.67s\n",
      "20:\tlearn: 0.6911462\ttotal: 75.8ms\tremaining: 3.53s\n",
      "21:\tlearn: 0.6803362\ttotal: 76.6ms\tremaining: 3.4s\n",
      "22:\tlearn: 0.6699155\ttotal: 77.3ms\tremaining: 3.28s\n",
      "23:\tlearn: 0.6605637\ttotal: 78.1ms\tremaining: 3.17s\n",
      "24:\tlearn: 0.6508485\ttotal: 78.9ms\tremaining: 3.08s\n",
      "25:\tlearn: 0.6402700\ttotal: 79.7ms\tremaining: 2.99s\n",
      "26:\tlearn: 0.6320807\ttotal: 80.6ms\tremaining: 2.91s\n",
      "27:\tlearn: 0.6239737\ttotal: 81.4ms\tremaining: 2.83s\n",
      "28:\tlearn: 0.6149823\ttotal: 82.3ms\tremaining: 2.75s\n",
      "29:\tlearn: 0.6050154\ttotal: 83.3ms\tremaining: 2.69s\n",
      "30:\tlearn: 0.5947014\ttotal: 84.2ms\tremaining: 2.63s\n",
      "31:\tlearn: 0.5867359\ttotal: 85.1ms\tremaining: 2.57s\n",
      "32:\tlearn: 0.5795611\ttotal: 85.9ms\tremaining: 2.52s\n",
      "33:\tlearn: 0.5723523\ttotal: 86.7ms\tremaining: 2.46s\n",
      "34:\tlearn: 0.5653847\ttotal: 87.5ms\tremaining: 2.41s\n",
      "35:\tlearn: 0.5581578\ttotal: 88.3ms\tremaining: 2.37s\n",
      "36:\tlearn: 0.5514591\ttotal: 89.1ms\tremaining: 2.32s\n",
      "37:\tlearn: 0.5440312\ttotal: 90ms\tremaining: 2.28s\n",
      "38:\tlearn: 0.5371771\ttotal: 90.9ms\tremaining: 2.24s\n",
      "39:\tlearn: 0.5293853\ttotal: 91.8ms\tremaining: 2.2s\n",
      "40:\tlearn: 0.5231904\ttotal: 92.6ms\tremaining: 2.17s\n",
      "41:\tlearn: 0.5166644\ttotal: 93.3ms\tremaining: 2.13s\n",
      "42:\tlearn: 0.5111679\ttotal: 94.1ms\tremaining: 2.09s\n",
      "43:\tlearn: 0.5056721\ttotal: 94.8ms\tremaining: 2.06s\n",
      "44:\tlearn: 0.4985996\ttotal: 95.9ms\tremaining: 2.03s\n",
      "45:\tlearn: 0.4934678\ttotal: 96.6ms\tremaining: 2s\n",
      "46:\tlearn: 0.4884596\ttotal: 97.3ms\tremaining: 1.97s\n",
      "47:\tlearn: 0.4823682\ttotal: 98.1ms\tremaining: 1.95s\n",
      "48:\tlearn: 0.4772780\ttotal: 99ms\tremaining: 1.92s\n",
      "49:\tlearn: 0.4723623\ttotal: 99.8ms\tremaining: 1.9s\n",
      "50:\tlearn: 0.4672582\ttotal: 101ms\tremaining: 1.87s\n",
      "51:\tlearn: 0.4630222\ttotal: 101ms\tremaining: 1.85s\n",
      "52:\tlearn: 0.4585465\ttotal: 102ms\tremaining: 1.83s\n",
      "53:\tlearn: 0.4552195\ttotal: 103ms\tremaining: 1.8s\n",
      "54:\tlearn: 0.4499372\ttotal: 104ms\tremaining: 1.78s\n",
      "55:\tlearn: 0.4464353\ttotal: 105ms\tremaining: 1.76s\n",
      "56:\tlearn: 0.4421420\ttotal: 105ms\tremaining: 1.75s\n"
     ]
    },
    {
     "name": "stdout",
     "output_type": "stream",
     "text": [
      "57:\tlearn: 0.4372942\ttotal: 106ms\tremaining: 1.73s\n",
      "58:\tlearn: 0.4330002\ttotal: 107ms\tremaining: 1.71s\n",
      "59:\tlearn: 0.4284316\ttotal: 108ms\tremaining: 1.7s\n",
      "60:\tlearn: 0.4246614\ttotal: 109ms\tremaining: 1.68s\n",
      "61:\tlearn: 0.4206854\ttotal: 110ms\tremaining: 1.66s\n",
      "62:\tlearn: 0.4176018\ttotal: 111ms\tremaining: 1.65s\n",
      "63:\tlearn: 0.4131808\ttotal: 112ms\tremaining: 1.63s\n",
      "64:\tlearn: 0.4100332\ttotal: 113ms\tremaining: 1.62s\n",
      "65:\tlearn: 0.4065578\ttotal: 114ms\tremaining: 1.61s\n",
      "66:\tlearn: 0.4034232\ttotal: 114ms\tremaining: 1.59s\n",
      "67:\tlearn: 0.4001194\ttotal: 115ms\tremaining: 1.58s\n",
      "68:\tlearn: 0.3967011\ttotal: 116ms\tremaining: 1.57s\n",
      "69:\tlearn: 0.3944366\ttotal: 117ms\tremaining: 1.55s\n",
      "70:\tlearn: 0.3911083\ttotal: 118ms\tremaining: 1.54s\n",
      "71:\tlearn: 0.3886119\ttotal: 118ms\tremaining: 1.53s\n",
      "72:\tlearn: 0.3864490\ttotal: 119ms\tremaining: 1.51s\n",
      "73:\tlearn: 0.3832074\ttotal: 120ms\tremaining: 1.5s\n",
      "74:\tlearn: 0.3806676\ttotal: 121ms\tremaining: 1.49s\n",
      "75:\tlearn: 0.3772627\ttotal: 122ms\tremaining: 1.48s\n",
      "76:\tlearn: 0.3741016\ttotal: 123ms\tremaining: 1.47s\n",
      "77:\tlearn: 0.3715072\ttotal: 123ms\tremaining: 1.46s\n",
      "78:\tlearn: 0.3695106\ttotal: 124ms\tremaining: 1.45s\n",
      "79:\tlearn: 0.3672306\ttotal: 125ms\tremaining: 1.44s\n",
      "80:\tlearn: 0.3647175\ttotal: 126ms\tremaining: 1.43s\n",
      "81:\tlearn: 0.3626686\ttotal: 127ms\tremaining: 1.42s\n",
      "82:\tlearn: 0.3600429\ttotal: 128ms\tremaining: 1.41s\n",
      "83:\tlearn: 0.3576016\ttotal: 128ms\tremaining: 1.4s\n",
      "84:\tlearn: 0.3552592\ttotal: 129ms\tremaining: 1.39s\n",
      "85:\tlearn: 0.3527844\ttotal: 130ms\tremaining: 1.38s\n",
      "86:\tlearn: 0.3509809\ttotal: 131ms\tremaining: 1.38s\n",
      "87:\tlearn: 0.3481798\ttotal: 132ms\tremaining: 1.37s\n",
      "88:\tlearn: 0.3456609\ttotal: 133ms\tremaining: 1.36s\n",
      "89:\tlearn: 0.3436447\ttotal: 134ms\tremaining: 1.35s\n",
      "90:\tlearn: 0.3413941\ttotal: 134ms\tremaining: 1.34s\n",
      "91:\tlearn: 0.3397371\ttotal: 135ms\tremaining: 1.33s\n",
      "92:\tlearn: 0.3378656\ttotal: 136ms\tremaining: 1.33s\n",
      "93:\tlearn: 0.3360608\ttotal: 137ms\tremaining: 1.32s\n",
      "94:\tlearn: 0.3339788\ttotal: 138ms\tremaining: 1.31s\n",
      "95:\tlearn: 0.3329155\ttotal: 139ms\tremaining: 1.31s\n",
      "96:\tlearn: 0.3312903\ttotal: 140ms\tremaining: 1.3s\n",
      "97:\tlearn: 0.3296759\ttotal: 140ms\tremaining: 1.29s\n",
      "98:\tlearn: 0.3281680\ttotal: 141ms\tremaining: 1.28s\n",
      "99:\tlearn: 0.3265983\ttotal: 142ms\tremaining: 1.28s\n",
      "100:\tlearn: 0.3246204\ttotal: 143ms\tremaining: 1.27s\n",
      "101:\tlearn: 0.3227714\ttotal: 144ms\tremaining: 1.27s\n",
      "102:\tlearn: 0.3210813\ttotal: 145ms\tremaining: 1.26s\n",
      "103:\tlearn: 0.3194519\ttotal: 145ms\tremaining: 1.25s\n",
      "104:\tlearn: 0.3179062\ttotal: 146ms\tremaining: 1.25s\n",
      "105:\tlearn: 0.3163177\ttotal: 147ms\tremaining: 1.24s\n",
      "106:\tlearn: 0.3146745\ttotal: 148ms\tremaining: 1.23s\n",
      "107:\tlearn: 0.3130945\ttotal: 149ms\tremaining: 1.23s\n",
      "108:\tlearn: 0.3111881\ttotal: 150ms\tremaining: 1.22s\n",
      "109:\tlearn: 0.3097599\ttotal: 150ms\tremaining: 1.22s\n",
      "110:\tlearn: 0.3082351\ttotal: 151ms\tremaining: 1.21s\n",
      "111:\tlearn: 0.3071038\ttotal: 152ms\tremaining: 1.21s\n",
      "112:\tlearn: 0.3054718\ttotal: 153ms\tremaining: 1.2s\n",
      "113:\tlearn: 0.3037860\ttotal: 154ms\tremaining: 1.19s\n",
      "114:\tlearn: 0.3027436\ttotal: 155ms\tremaining: 1.19s\n",
      "115:\tlearn: 0.3013016\ttotal: 155ms\tremaining: 1.18s\n",
      "116:\tlearn: 0.2998733\ttotal: 156ms\tremaining: 1.18s\n",
      "117:\tlearn: 0.2988001\ttotal: 157ms\tremaining: 1.17s\n",
      "118:\tlearn: 0.2978574\ttotal: 158ms\tremaining: 1.17s\n",
      "119:\tlearn: 0.2964704\ttotal: 159ms\tremaining: 1.16s\n",
      "120:\tlearn: 0.2950971\ttotal: 160ms\tremaining: 1.16s\n",
      "121:\tlearn: 0.2942882\ttotal: 160ms\tremaining: 1.15s\n",
      "122:\tlearn: 0.2928517\ttotal: 162ms\tremaining: 1.15s\n",
      "123:\tlearn: 0.2913190\ttotal: 162ms\tremaining: 1.15s\n",
      "124:\tlearn: 0.2901672\ttotal: 163ms\tremaining: 1.14s\n",
      "125:\tlearn: 0.2890707\ttotal: 164ms\tremaining: 1.14s\n",
      "126:\tlearn: 0.2874260\ttotal: 165ms\tremaining: 1.13s\n",
      "127:\tlearn: 0.2864180\ttotal: 165ms\tremaining: 1.13s\n",
      "128:\tlearn: 0.2852889\ttotal: 166ms\tremaining: 1.12s\n",
      "129:\tlearn: 0.2843008\ttotal: 167ms\tremaining: 1.12s\n",
      "130:\tlearn: 0.2832518\ttotal: 168ms\tremaining: 1.11s\n",
      "131:\tlearn: 0.2822908\ttotal: 169ms\tremaining: 1.11s\n",
      "132:\tlearn: 0.2813329\ttotal: 169ms\tremaining: 1.1s\n",
      "133:\tlearn: 0.2804114\ttotal: 170ms\tremaining: 1.1s\n",
      "134:\tlearn: 0.2796468\ttotal: 171ms\tremaining: 1.09s\n",
      "135:\tlearn: 0.2782822\ttotal: 172ms\tremaining: 1.09s\n",
      "136:\tlearn: 0.2773965\ttotal: 173ms\tremaining: 1.09s\n",
      "137:\tlearn: 0.2759608\ttotal: 174ms\tremaining: 1.08s\n",
      "138:\tlearn: 0.2748393\ttotal: 174ms\tremaining: 1.08s\n",
      "139:\tlearn: 0.2738161\ttotal: 176ms\tremaining: 1.08s\n",
      "140:\tlearn: 0.2731068\ttotal: 177ms\tremaining: 1.08s\n",
      "141:\tlearn: 0.2723827\ttotal: 178ms\tremaining: 1.08s\n",
      "142:\tlearn: 0.2714590\ttotal: 180ms\tremaining: 1.08s\n",
      "143:\tlearn: 0.2704059\ttotal: 181ms\tremaining: 1.07s\n",
      "144:\tlearn: 0.2693085\ttotal: 182ms\tremaining: 1.07s\n",
      "145:\tlearn: 0.2683615\ttotal: 182ms\tremaining: 1.07s\n",
      "146:\tlearn: 0.2677370\ttotal: 183ms\tremaining: 1.06s\n",
      "147:\tlearn: 0.2665304\ttotal: 184ms\tremaining: 1.06s\n",
      "148:\tlearn: 0.2648824\ttotal: 185ms\tremaining: 1.06s\n",
      "149:\tlearn: 0.2644110\ttotal: 186ms\tremaining: 1.05s\n",
      "150:\tlearn: 0.2631942\ttotal: 187ms\tremaining: 1.05s\n",
      "151:\tlearn: 0.2624434\ttotal: 188ms\tremaining: 1.05s\n",
      "152:\tlearn: 0.2617383\ttotal: 188ms\tremaining: 1.04s\n",
      "153:\tlearn: 0.2612326\ttotal: 189ms\tremaining: 1.04s\n",
      "154:\tlearn: 0.2604802\ttotal: 190ms\tremaining: 1.03s\n"
     ]
    },
    {
     "name": "stdout",
     "output_type": "stream",
     "text": [
      "155:\tlearn: 0.2595807\ttotal: 191ms\tremaining: 1.03s\n",
      "156:\tlearn: 0.2584506\ttotal: 192ms\tremaining: 1.03s\n",
      "157:\tlearn: 0.2575693\ttotal: 193ms\tremaining: 1.03s\n",
      "158:\tlearn: 0.2568341\ttotal: 194ms\tremaining: 1.02s\n",
      "159:\tlearn: 0.2561733\ttotal: 194ms\tremaining: 1.02s\n",
      "160:\tlearn: 0.2555415\ttotal: 195ms\tremaining: 1.02s\n",
      "161:\tlearn: 0.2547578\ttotal: 196ms\tremaining: 1.01s\n",
      "162:\tlearn: 0.2542128\ttotal: 197ms\tremaining: 1.01s\n",
      "163:\tlearn: 0.2536080\ttotal: 197ms\tremaining: 1s\n",
      "164:\tlearn: 0.2527699\ttotal: 198ms\tremaining: 1s\n",
      "165:\tlearn: 0.2520085\ttotal: 199ms\tremaining: 999ms\n",
      "166:\tlearn: 0.2513375\ttotal: 200ms\tremaining: 997ms\n",
      "167:\tlearn: 0.2502626\ttotal: 201ms\tremaining: 993ms\n",
      "168:\tlearn: 0.2497123\ttotal: 201ms\tremaining: 990ms\n",
      "169:\tlearn: 0.2492250\ttotal: 202ms\tremaining: 987ms\n",
      "170:\tlearn: 0.2484862\ttotal: 203ms\tremaining: 985ms\n",
      "171:\tlearn: 0.2479145\ttotal: 204ms\tremaining: 982ms\n",
      "172:\tlearn: 0.2472407\ttotal: 205ms\tremaining: 979ms\n",
      "173:\tlearn: 0.2464182\ttotal: 206ms\tremaining: 976ms\n",
      "174:\tlearn: 0.2457028\ttotal: 207ms\tremaining: 974ms\n",
      "175:\tlearn: 0.2450201\ttotal: 207ms\tremaining: 971ms\n",
      "176:\tlearn: 0.2437342\ttotal: 208ms\tremaining: 968ms\n",
      "177:\tlearn: 0.2429252\ttotal: 209ms\tremaining: 965ms\n",
      "178:\tlearn: 0.2423275\ttotal: 210ms\tremaining: 965ms\n",
      "179:\tlearn: 0.2417951\ttotal: 211ms\tremaining: 963ms\n",
      "180:\tlearn: 0.2409053\ttotal: 212ms\tremaining: 960ms\n",
      "181:\tlearn: 0.2404250\ttotal: 213ms\tremaining: 957ms\n",
      "182:\tlearn: 0.2398854\ttotal: 214ms\tremaining: 954ms\n",
      "183:\tlearn: 0.2392529\ttotal: 215ms\tremaining: 952ms\n",
      "184:\tlearn: 0.2382678\ttotal: 216ms\tremaining: 950ms\n",
      "185:\tlearn: 0.2378374\ttotal: 216ms\tremaining: 947ms\n",
      "186:\tlearn: 0.2370233\ttotal: 217ms\tremaining: 945ms\n",
      "187:\tlearn: 0.2364013\ttotal: 218ms\tremaining: 942ms\n",
      "188:\tlearn: 0.2357834\ttotal: 219ms\tremaining: 939ms\n",
      "189:\tlearn: 0.2350031\ttotal: 220ms\tremaining: 936ms\n",
      "190:\tlearn: 0.2341774\ttotal: 220ms\tremaining: 933ms\n",
      "191:\tlearn: 0.2336084\ttotal: 221ms\tremaining: 931ms\n",
      "192:\tlearn: 0.2331977\ttotal: 222ms\tremaining: 928ms\n",
      "193:\tlearn: 0.2324409\ttotal: 223ms\tremaining: 925ms\n",
      "194:\tlearn: 0.2318574\ttotal: 224ms\tremaining: 923ms\n",
      "195:\tlearn: 0.2311391\ttotal: 224ms\tremaining: 920ms\n",
      "196:\tlearn: 0.2306426\ttotal: 225ms\tremaining: 918ms\n",
      "197:\tlearn: 0.2300974\ttotal: 226ms\tremaining: 916ms\n",
      "198:\tlearn: 0.2294384\ttotal: 227ms\tremaining: 914ms\n",
      "199:\tlearn: 0.2288442\ttotal: 228ms\tremaining: 911ms\n",
      "200:\tlearn: 0.2283353\ttotal: 229ms\tremaining: 908ms\n",
      "201:\tlearn: 0.2281353\ttotal: 229ms\tremaining: 906ms\n",
      "202:\tlearn: 0.2274396\ttotal: 230ms\tremaining: 904ms\n",
      "203:\tlearn: 0.2267330\ttotal: 231ms\tremaining: 901ms\n",
      "204:\tlearn: 0.2259304\ttotal: 232ms\tremaining: 899ms\n",
      "205:\tlearn: 0.2250741\ttotal: 233ms\tremaining: 896ms\n",
      "206:\tlearn: 0.2245767\ttotal: 234ms\tremaining: 895ms\n",
      "207:\tlearn: 0.2241481\ttotal: 234ms\tremaining: 892ms\n",
      "208:\tlearn: 0.2234939\ttotal: 235ms\tremaining: 890ms\n",
      "209:\tlearn: 0.2229000\ttotal: 236ms\tremaining: 888ms\n",
      "210:\tlearn: 0.2225657\ttotal: 237ms\tremaining: 886ms\n",
      "211:\tlearn: 0.2221563\ttotal: 238ms\tremaining: 883ms\n",
      "212:\tlearn: 0.2215469\ttotal: 238ms\tremaining: 881ms\n",
      "213:\tlearn: 0.2208938\ttotal: 239ms\tremaining: 879ms\n",
      "214:\tlearn: 0.2202321\ttotal: 240ms\tremaining: 878ms\n",
      "215:\tlearn: 0.2197066\ttotal: 241ms\tremaining: 876ms\n",
      "216:\tlearn: 0.2192884\ttotal: 242ms\tremaining: 874ms\n",
      "217:\tlearn: 0.2186789\ttotal: 243ms\tremaining: 871ms\n",
      "218:\tlearn: 0.2181375\ttotal: 244ms\tremaining: 869ms\n",
      "219:\tlearn: 0.2177368\ttotal: 244ms\tremaining: 866ms\n",
      "220:\tlearn: 0.2171111\ttotal: 245ms\tremaining: 864ms\n",
      "221:\tlearn: 0.2165616\ttotal: 246ms\tremaining: 862ms\n",
      "222:\tlearn: 0.2159643\ttotal: 247ms\tremaining: 861ms\n",
      "223:\tlearn: 0.2154582\ttotal: 248ms\tremaining: 858ms\n",
      "224:\tlearn: 0.2148947\ttotal: 249ms\tremaining: 856ms\n",
      "225:\tlearn: 0.2144196\ttotal: 249ms\tremaining: 854ms\n",
      "226:\tlearn: 0.2139685\ttotal: 250ms\tremaining: 852ms\n",
      "227:\tlearn: 0.2133028\ttotal: 251ms\tremaining: 849ms\n",
      "228:\tlearn: 0.2127969\ttotal: 252ms\tremaining: 847ms\n",
      "229:\tlearn: 0.2123171\ttotal: 252ms\tremaining: 845ms\n",
      "230:\tlearn: 0.2119063\ttotal: 253ms\tremaining: 843ms\n",
      "231:\tlearn: 0.2116341\ttotal: 254ms\tremaining: 841ms\n",
      "232:\tlearn: 0.2110980\ttotal: 255ms\tremaining: 839ms\n",
      "233:\tlearn: 0.2106628\ttotal: 256ms\tremaining: 837ms\n",
      "234:\tlearn: 0.2103138\ttotal: 257ms\tremaining: 836ms\n",
      "235:\tlearn: 0.2096524\ttotal: 258ms\tremaining: 834ms\n",
      "236:\tlearn: 0.2091935\ttotal: 258ms\tremaining: 832ms\n",
      "237:\tlearn: 0.2084644\ttotal: 259ms\tremaining: 830ms\n",
      "238:\tlearn: 0.2078986\ttotal: 260ms\tremaining: 829ms\n",
      "239:\tlearn: 0.2073796\ttotal: 261ms\tremaining: 827ms\n",
      "240:\tlearn: 0.2066830\ttotal: 262ms\tremaining: 825ms\n",
      "241:\tlearn: 0.2063144\ttotal: 263ms\tremaining: 823ms\n",
      "242:\tlearn: 0.2057946\ttotal: 263ms\tremaining: 821ms\n",
      "243:\tlearn: 0.2052184\ttotal: 264ms\tremaining: 819ms\n",
      "244:\tlearn: 0.2048293\ttotal: 265ms\tremaining: 817ms\n",
      "245:\tlearn: 0.2043965\ttotal: 266ms\tremaining: 815ms\n",
      "246:\tlearn: 0.2041411\ttotal: 267ms\tremaining: 813ms\n",
      "247:\tlearn: 0.2035734\ttotal: 267ms\tremaining: 811ms\n",
      "248:\tlearn: 0.2030716\ttotal: 268ms\tremaining: 809ms\n",
      "249:\tlearn: 0.2026419\ttotal: 269ms\tremaining: 807ms\n",
      "250:\tlearn: 0.2022649\ttotal: 270ms\tremaining: 805ms\n",
      "251:\tlearn: 0.2021070\ttotal: 271ms\tremaining: 804ms\n",
      "252:\tlearn: 0.2017759\ttotal: 272ms\tremaining: 802ms\n",
      "253:\tlearn: 0.2013328\ttotal: 272ms\tremaining: 800ms\n",
      "254:\tlearn: 0.2005949\ttotal: 273ms\tremaining: 798ms\n",
      "255:\tlearn: 0.2001839\ttotal: 274ms\tremaining: 797ms\n",
      "256:\tlearn: 0.1995640\ttotal: 275ms\tremaining: 795ms\n",
      "257:\tlearn: 0.1993739\ttotal: 276ms\tremaining: 793ms\n",
      "258:\tlearn: 0.1990334\ttotal: 277ms\tremaining: 791ms\n",
      "259:\tlearn: 0.1984490\ttotal: 277ms\tremaining: 789ms\n",
      "260:\tlearn: 0.1981492\ttotal: 278ms\tremaining: 787ms\n",
      "261:\tlearn: 0.1979283\ttotal: 279ms\tremaining: 786ms\n",
      "262:\tlearn: 0.1975012\ttotal: 280ms\tremaining: 783ms\n",
      "263:\tlearn: 0.1970156\ttotal: 280ms\tremaining: 782ms\n",
      "264:\tlearn: 0.1965323\ttotal: 281ms\tremaining: 780ms\n",
      "265:\tlearn: 0.1960322\ttotal: 282ms\tremaining: 778ms\n",
      "266:\tlearn: 0.1954738\ttotal: 283ms\tremaining: 777ms\n",
      "267:\tlearn: 0.1952925\ttotal: 284ms\tremaining: 775ms\n",
      "268:\tlearn: 0.1949057\ttotal: 285ms\tremaining: 773ms\n",
      "269:\tlearn: 0.1945542\ttotal: 285ms\tremaining: 771ms\n",
      "270:\tlearn: 0.1939896\ttotal: 286ms\tremaining: 770ms\n",
      "271:\tlearn: 0.1935290\ttotal: 287ms\tremaining: 768ms\n",
      "272:\tlearn: 0.1930486\ttotal: 288ms\tremaining: 766ms\n",
      "273:\tlearn: 0.1927895\ttotal: 288ms\tremaining: 764ms\n",
      "274:\tlearn: 0.1924143\ttotal: 289ms\tremaining: 763ms\n",
      "275:\tlearn: 0.1920748\ttotal: 290ms\tremaining: 762ms\n",
      "276:\tlearn: 0.1914607\ttotal: 291ms\tremaining: 760ms\n",
      "277:\tlearn: 0.1909414\ttotal: 292ms\tremaining: 759ms\n",
      "278:\tlearn: 0.1903644\ttotal: 293ms\tremaining: 757ms\n",
      "279:\tlearn: 0.1900972\ttotal: 294ms\tremaining: 756ms\n",
      "280:\tlearn: 0.1896415\ttotal: 295ms\tremaining: 754ms\n",
      "281:\tlearn: 0.1891788\ttotal: 296ms\tremaining: 753ms\n"
     ]
    },
    {
     "name": "stdout",
     "output_type": "stream",
     "text": [
      "282:\tlearn: 0.1889302\ttotal: 296ms\tremaining: 751ms\n",
      "283:\tlearn: 0.1884108\ttotal: 297ms\tremaining: 750ms\n",
      "284:\tlearn: 0.1879617\ttotal: 298ms\tremaining: 748ms\n",
      "285:\tlearn: 0.1878012\ttotal: 299ms\tremaining: 747ms\n",
      "286:\tlearn: 0.1873008\ttotal: 300ms\tremaining: 745ms\n",
      "287:\tlearn: 0.1867950\ttotal: 301ms\tremaining: 744ms\n",
      "288:\tlearn: 0.1865121\ttotal: 302ms\tremaining: 742ms\n",
      "289:\tlearn: 0.1861953\ttotal: 302ms\tremaining: 740ms\n",
      "290:\tlearn: 0.1860235\ttotal: 303ms\tremaining: 739ms\n",
      "291:\tlearn: 0.1855965\ttotal: 304ms\tremaining: 737ms\n",
      "292:\tlearn: 0.1850891\ttotal: 305ms\tremaining: 735ms\n",
      "293:\tlearn: 0.1845677\ttotal: 306ms\tremaining: 734ms\n",
      "294:\tlearn: 0.1843899\ttotal: 306ms\tremaining: 732ms\n",
      "295:\tlearn: 0.1839438\ttotal: 307ms\tremaining: 731ms\n",
      "296:\tlearn: 0.1834204\ttotal: 308ms\tremaining: 729ms\n",
      "297:\tlearn: 0.1832931\ttotal: 309ms\tremaining: 729ms\n",
      "298:\tlearn: 0.1828442\ttotal: 310ms\tremaining: 727ms\n",
      "299:\tlearn: 0.1824055\ttotal: 311ms\tremaining: 726ms\n",
      "300:\tlearn: 0.1820249\ttotal: 312ms\tremaining: 724ms\n",
      "301:\tlearn: 0.1816517\ttotal: 313ms\tremaining: 723ms\n",
      "302:\tlearn: 0.1813673\ttotal: 314ms\tremaining: 721ms\n",
      "303:\tlearn: 0.1807932\ttotal: 314ms\tremaining: 720ms\n",
      "304:\tlearn: 0.1801445\ttotal: 315ms\tremaining: 718ms\n",
      "305:\tlearn: 0.1797174\ttotal: 316ms\tremaining: 717ms\n",
      "306:\tlearn: 0.1795170\ttotal: 317ms\tremaining: 715ms\n",
      "307:\tlearn: 0.1793247\ttotal: 318ms\tremaining: 714ms\n",
      "308:\tlearn: 0.1788585\ttotal: 319ms\tremaining: 712ms\n",
      "309:\tlearn: 0.1785381\ttotal: 319ms\tremaining: 711ms\n",
      "310:\tlearn: 0.1784256\ttotal: 320ms\tremaining: 710ms\n",
      "311:\tlearn: 0.1780446\ttotal: 321ms\tremaining: 708ms\n",
      "312:\tlearn: 0.1779340\ttotal: 322ms\tremaining: 707ms\n",
      "313:\tlearn: 0.1774902\ttotal: 323ms\tremaining: 705ms\n",
      "314:\tlearn: 0.1773296\ttotal: 324ms\tremaining: 704ms\n",
      "315:\tlearn: 0.1770676\ttotal: 325ms\tremaining: 703ms\n",
      "316:\tlearn: 0.1765781\ttotal: 325ms\tremaining: 701ms\n",
      "317:\tlearn: 0.1761170\ttotal: 326ms\tremaining: 700ms\n",
      "318:\tlearn: 0.1757236\ttotal: 327ms\tremaining: 699ms\n",
      "319:\tlearn: 0.1752185\ttotal: 328ms\tremaining: 697ms\n",
      "320:\tlearn: 0.1749055\ttotal: 329ms\tremaining: 696ms\n",
      "321:\tlearn: 0.1747804\ttotal: 330ms\tremaining: 695ms\n",
      "322:\tlearn: 0.1744282\ttotal: 331ms\tremaining: 693ms\n",
      "323:\tlearn: 0.1740404\ttotal: 332ms\tremaining: 692ms\n",
      "324:\tlearn: 0.1736780\ttotal: 332ms\tremaining: 690ms\n",
      "325:\tlearn: 0.1733254\ttotal: 333ms\tremaining: 689ms\n",
      "326:\tlearn: 0.1730113\ttotal: 334ms\tremaining: 688ms\n",
      "327:\tlearn: 0.1728989\ttotal: 335ms\tremaining: 686ms\n",
      "328:\tlearn: 0.1725358\ttotal: 336ms\tremaining: 685ms\n",
      "329:\tlearn: 0.1721565\ttotal: 337ms\tremaining: 684ms\n",
      "330:\tlearn: 0.1716653\ttotal: 337ms\tremaining: 682ms\n",
      "331:\tlearn: 0.1712597\ttotal: 338ms\tremaining: 680ms\n",
      "332:\tlearn: 0.1711438\ttotal: 339ms\tremaining: 679ms\n",
      "333:\tlearn: 0.1705840\ttotal: 340ms\tremaining: 678ms\n",
      "334:\tlearn: 0.1702362\ttotal: 341ms\tremaining: 676ms\n",
      "335:\tlearn: 0.1701910\ttotal: 341ms\tremaining: 675ms\n",
      "336:\tlearn: 0.1696832\ttotal: 342ms\tremaining: 673ms\n",
      "337:\tlearn: 0.1693730\ttotal: 343ms\tremaining: 672ms\n",
      "338:\tlearn: 0.1689462\ttotal: 344ms\tremaining: 671ms\n",
      "339:\tlearn: 0.1682866\ttotal: 345ms\tremaining: 669ms\n",
      "340:\tlearn: 0.1679094\ttotal: 345ms\tremaining: 668ms\n",
      "341:\tlearn: 0.1676176\ttotal: 346ms\tremaining: 666ms\n",
      "342:\tlearn: 0.1669948\ttotal: 347ms\tremaining: 665ms\n",
      "343:\tlearn: 0.1669002\ttotal: 348ms\tremaining: 664ms\n",
      "344:\tlearn: 0.1664859\ttotal: 349ms\tremaining: 662ms\n",
      "345:\tlearn: 0.1664166\ttotal: 350ms\tremaining: 661ms\n",
      "346:\tlearn: 0.1661519\ttotal: 350ms\tremaining: 659ms\n",
      "347:\tlearn: 0.1657912\ttotal: 351ms\tremaining: 658ms\n",
      "348:\tlearn: 0.1653743\ttotal: 352ms\tremaining: 657ms\n",
      "349:\tlearn: 0.1649829\ttotal: 353ms\tremaining: 656ms\n",
      "350:\tlearn: 0.1646498\ttotal: 354ms\tremaining: 654ms\n",
      "351:\tlearn: 0.1642796\ttotal: 355ms\tremaining: 653ms\n",
      "352:\tlearn: 0.1638627\ttotal: 356ms\tremaining: 652ms\n",
      "353:\tlearn: 0.1636030\ttotal: 356ms\tremaining: 650ms\n",
      "354:\tlearn: 0.1632265\ttotal: 357ms\tremaining: 649ms\n",
      "355:\tlearn: 0.1628761\ttotal: 358ms\tremaining: 648ms\n",
      "356:\tlearn: 0.1625270\ttotal: 359ms\tremaining: 647ms\n",
      "357:\tlearn: 0.1621316\ttotal: 360ms\tremaining: 645ms\n",
      "358:\tlearn: 0.1620393\ttotal: 361ms\tremaining: 644ms\n",
      "359:\tlearn: 0.1616428\ttotal: 362ms\tremaining: 643ms\n",
      "360:\tlearn: 0.1613076\ttotal: 362ms\tremaining: 641ms\n",
      "361:\tlearn: 0.1609056\ttotal: 363ms\tremaining: 640ms\n",
      "362:\tlearn: 0.1604352\ttotal: 364ms\tremaining: 639ms\n",
      "363:\tlearn: 0.1600127\ttotal: 365ms\tremaining: 637ms\n",
      "364:\tlearn: 0.1596503\ttotal: 366ms\tremaining: 636ms\n",
      "365:\tlearn: 0.1593192\ttotal: 366ms\tremaining: 635ms\n",
      "366:\tlearn: 0.1590675\ttotal: 367ms\tremaining: 633ms\n",
      "367:\tlearn: 0.1587226\ttotal: 368ms\tremaining: 632ms\n",
      "368:\tlearn: 0.1582733\ttotal: 369ms\tremaining: 631ms\n",
      "369:\tlearn: 0.1580721\ttotal: 370ms\tremaining: 629ms\n",
      "370:\tlearn: 0.1577243\ttotal: 370ms\tremaining: 628ms\n",
      "371:\tlearn: 0.1573613\ttotal: 371ms\tremaining: 627ms\n",
      "372:\tlearn: 0.1570874\ttotal: 372ms\tremaining: 625ms\n",
      "373:\tlearn: 0.1567050\ttotal: 373ms\tremaining: 624ms\n",
      "374:\tlearn: 0.1564376\ttotal: 374ms\tremaining: 623ms\n",
      "375:\tlearn: 0.1563355\ttotal: 374ms\tremaining: 621ms\n",
      "376:\tlearn: 0.1560647\ttotal: 375ms\tremaining: 620ms\n",
      "377:\tlearn: 0.1556590\ttotal: 376ms\tremaining: 619ms\n",
      "378:\tlearn: 0.1553094\ttotal: 377ms\tremaining: 617ms\n",
      "379:\tlearn: 0.1551757\ttotal: 378ms\tremaining: 616ms\n",
      "380:\tlearn: 0.1548302\ttotal: 378ms\tremaining: 615ms\n",
      "381:\tlearn: 0.1547878\ttotal: 379ms\tremaining: 613ms\n",
      "382:\tlearn: 0.1544781\ttotal: 380ms\tremaining: 612ms\n",
      "383:\tlearn: 0.1541462\ttotal: 381ms\tremaining: 611ms\n",
      "384:\tlearn: 0.1539502\ttotal: 382ms\tremaining: 610ms\n"
     ]
    },
    {
     "name": "stdout",
     "output_type": "stream",
     "text": [
      "385:\tlearn: 0.1536807\ttotal: 383ms\tremaining: 609ms\n",
      "386:\tlearn: 0.1532681\ttotal: 384ms\tremaining: 607ms\n",
      "387:\tlearn: 0.1529678\ttotal: 384ms\tremaining: 606ms\n",
      "388:\tlearn: 0.1525553\ttotal: 385ms\tremaining: 605ms\n",
      "389:\tlearn: 0.1523803\ttotal: 386ms\tremaining: 604ms\n",
      "390:\tlearn: 0.1521424\ttotal: 387ms\tremaining: 602ms\n",
      "391:\tlearn: 0.1518264\ttotal: 388ms\tremaining: 601ms\n",
      "392:\tlearn: 0.1515357\ttotal: 388ms\tremaining: 600ms\n",
      "393:\tlearn: 0.1511313\ttotal: 389ms\tremaining: 599ms\n",
      "394:\tlearn: 0.1507159\ttotal: 390ms\tremaining: 597ms\n",
      "395:\tlearn: 0.1504400\ttotal: 391ms\tremaining: 596ms\n",
      "396:\tlearn: 0.1501020\ttotal: 392ms\tremaining: 595ms\n",
      "397:\tlearn: 0.1496964\ttotal: 393ms\tremaining: 594ms\n",
      "398:\tlearn: 0.1494740\ttotal: 393ms\tremaining: 593ms\n",
      "399:\tlearn: 0.1492704\ttotal: 394ms\tremaining: 591ms\n",
      "400:\tlearn: 0.1488135\ttotal: 395ms\tremaining: 590ms\n",
      "401:\tlearn: 0.1484938\ttotal: 396ms\tremaining: 589ms\n",
      "402:\tlearn: 0.1481231\ttotal: 397ms\tremaining: 588ms\n",
      "403:\tlearn: 0.1479481\ttotal: 397ms\tremaining: 586ms\n",
      "404:\tlearn: 0.1478144\ttotal: 398ms\tremaining: 585ms\n",
      "405:\tlearn: 0.1476092\ttotal: 399ms\tremaining: 584ms\n",
      "406:\tlearn: 0.1475056\ttotal: 400ms\tremaining: 583ms\n",
      "407:\tlearn: 0.1472385\ttotal: 401ms\tremaining: 581ms\n",
      "408:\tlearn: 0.1469629\ttotal: 401ms\tremaining: 580ms\n",
      "409:\tlearn: 0.1466202\ttotal: 402ms\tremaining: 579ms\n",
      "410:\tlearn: 0.1462786\ttotal: 403ms\tremaining: 577ms\n",
      "411:\tlearn: 0.1462161\ttotal: 404ms\tremaining: 576ms\n",
      "412:\tlearn: 0.1460334\ttotal: 405ms\tremaining: 575ms\n",
      "413:\tlearn: 0.1459646\ttotal: 405ms\tremaining: 574ms\n",
      "414:\tlearn: 0.1455322\ttotal: 406ms\tremaining: 573ms\n",
      "415:\tlearn: 0.1454809\ttotal: 407ms\tremaining: 572ms\n",
      "416:\tlearn: 0.1452011\ttotal: 408ms\tremaining: 571ms\n",
      "417:\tlearn: 0.1449112\ttotal: 409ms\tremaining: 569ms\n",
      "418:\tlearn: 0.1448645\ttotal: 410ms\tremaining: 568ms\n",
      "419:\tlearn: 0.1446000\ttotal: 410ms\tremaining: 567ms\n",
      "420:\tlearn: 0.1443251\ttotal: 411ms\tremaining: 566ms\n",
      "421:\tlearn: 0.1439727\ttotal: 412ms\tremaining: 564ms\n",
      "422:\tlearn: 0.1438056\ttotal: 413ms\tremaining: 563ms\n",
      "423:\tlearn: 0.1437333\ttotal: 414ms\tremaining: 562ms\n",
      "424:\tlearn: 0.1435754\ttotal: 415ms\tremaining: 561ms\n",
      "425:\tlearn: 0.1431498\ttotal: 416ms\tremaining: 560ms\n",
      "426:\tlearn: 0.1427824\ttotal: 417ms\tremaining: 559ms\n",
      "427:\tlearn: 0.1426486\ttotal: 417ms\tremaining: 558ms\n",
      "428:\tlearn: 0.1423669\ttotal: 418ms\tremaining: 557ms\n",
      "429:\tlearn: 0.1423324\ttotal: 419ms\tremaining: 556ms\n",
      "430:\tlearn: 0.1419725\ttotal: 420ms\tremaining: 554ms\n",
      "431:\tlearn: 0.1419374\ttotal: 421ms\tremaining: 553ms\n",
      "432:\tlearn: 0.1415569\ttotal: 422ms\tremaining: 552ms\n",
      "433:\tlearn: 0.1414435\ttotal: 423ms\tremaining: 551ms\n",
      "434:\tlearn: 0.1411319\ttotal: 423ms\tremaining: 550ms\n",
      "435:\tlearn: 0.1410313\ttotal: 424ms\tremaining: 549ms\n",
      "436:\tlearn: 0.1410006\ttotal: 425ms\tremaining: 547ms\n",
      "437:\tlearn: 0.1406454\ttotal: 426ms\tremaining: 546ms\n",
      "438:\tlearn: 0.1404646\ttotal: 427ms\tremaining: 545ms\n",
      "439:\tlearn: 0.1402015\ttotal: 427ms\tremaining: 544ms\n",
      "440:\tlearn: 0.1398588\ttotal: 428ms\tremaining: 543ms\n",
      "441:\tlearn: 0.1397587\ttotal: 429ms\tremaining: 542ms\n",
      "442:\tlearn: 0.1393821\ttotal: 430ms\tremaining: 540ms\n",
      "443:\tlearn: 0.1392062\ttotal: 431ms\tremaining: 539ms\n",
      "444:\tlearn: 0.1391346\ttotal: 431ms\tremaining: 538ms\n",
      "445:\tlearn: 0.1388097\ttotal: 432ms\tremaining: 537ms\n",
      "446:\tlearn: 0.1387570\ttotal: 433ms\tremaining: 536ms\n",
      "447:\tlearn: 0.1385147\ttotal: 434ms\tremaining: 534ms\n",
      "448:\tlearn: 0.1381783\ttotal: 434ms\tremaining: 533ms\n",
      "449:\tlearn: 0.1378162\ttotal: 435ms\tremaining: 532ms\n",
      "450:\tlearn: 0.1375955\ttotal: 436ms\tremaining: 531ms\n",
      "451:\tlearn: 0.1374591\ttotal: 437ms\tremaining: 530ms\n",
      "452:\tlearn: 0.1374273\ttotal: 438ms\tremaining: 529ms\n",
      "453:\tlearn: 0.1371886\ttotal: 439ms\tremaining: 527ms\n",
      "454:\tlearn: 0.1370191\ttotal: 439ms\tremaining: 526ms\n",
      "455:\tlearn: 0.1367965\ttotal: 440ms\tremaining: 525ms\n",
      "456:\tlearn: 0.1366310\ttotal: 441ms\tremaining: 524ms\n",
      "457:\tlearn: 0.1363057\ttotal: 442ms\tremaining: 523ms\n",
      "458:\tlearn: 0.1361450\ttotal: 443ms\tremaining: 522ms\n",
      "459:\tlearn: 0.1360745\ttotal: 443ms\tremaining: 520ms\n",
      "460:\tlearn: 0.1358154\ttotal: 444ms\tremaining: 519ms\n",
      "461:\tlearn: 0.1355939\ttotal: 445ms\tremaining: 518ms\n",
      "462:\tlearn: 0.1353933\ttotal: 446ms\tremaining: 517ms\n",
      "463:\tlearn: 0.1351636\ttotal: 446ms\tremaining: 516ms\n",
      "464:\tlearn: 0.1350105\ttotal: 447ms\tremaining: 515ms\n",
      "465:\tlearn: 0.1347182\ttotal: 448ms\tremaining: 514ms\n",
      "466:\tlearn: 0.1346786\ttotal: 449ms\tremaining: 512ms\n",
      "467:\tlearn: 0.1346524\ttotal: 450ms\tremaining: 511ms\n",
      "468:\tlearn: 0.1345419\ttotal: 451ms\tremaining: 510ms\n",
      "469:\tlearn: 0.1342245\ttotal: 451ms\tremaining: 509ms\n",
      "470:\tlearn: 0.1339906\ttotal: 452ms\tremaining: 508ms\n",
      "471:\tlearn: 0.1336499\ttotal: 453ms\tremaining: 507ms\n",
      "472:\tlearn: 0.1333885\ttotal: 454ms\tremaining: 506ms\n",
      "473:\tlearn: 0.1333621\ttotal: 454ms\tremaining: 504ms\n",
      "474:\tlearn: 0.1331276\ttotal: 455ms\tremaining: 503ms\n",
      "475:\tlearn: 0.1328378\ttotal: 456ms\tremaining: 502ms\n",
      "476:\tlearn: 0.1326882\ttotal: 457ms\tremaining: 501ms\n",
      "477:\tlearn: 0.1323626\ttotal: 458ms\tremaining: 500ms\n",
      "478:\tlearn: 0.1320240\ttotal: 459ms\tremaining: 499ms\n",
      "479:\tlearn: 0.1317306\ttotal: 459ms\tremaining: 498ms\n",
      "480:\tlearn: 0.1315382\ttotal: 460ms\tremaining: 497ms\n",
      "481:\tlearn: 0.1313732\ttotal: 461ms\tremaining: 495ms\n",
      "482:\tlearn: 0.1310243\ttotal: 462ms\tremaining: 494ms\n",
      "483:\tlearn: 0.1307680\ttotal: 463ms\tremaining: 493ms\n",
      "484:\tlearn: 0.1305135\ttotal: 464ms\tremaining: 492ms\n",
      "485:\tlearn: 0.1304809\ttotal: 465ms\tremaining: 491ms\n",
      "486:\tlearn: 0.1303007\ttotal: 465ms\tremaining: 490ms\n",
      "487:\tlearn: 0.1299982\ttotal: 466ms\tremaining: 489ms\n",
      "488:\tlearn: 0.1298496\ttotal: 467ms\tremaining: 488ms\n",
      "489:\tlearn: 0.1295485\ttotal: 468ms\tremaining: 487ms\n",
      "490:\tlearn: 0.1292487\ttotal: 469ms\tremaining: 486ms\n",
      "491:\tlearn: 0.1291710\ttotal: 469ms\tremaining: 485ms\n",
      "492:\tlearn: 0.1288710\ttotal: 470ms\tremaining: 484ms\n",
      "493:\tlearn: 0.1285513\ttotal: 471ms\tremaining: 483ms\n",
      "494:\tlearn: 0.1282318\ttotal: 472ms\tremaining: 482ms\n",
      "495:\tlearn: 0.1280138\ttotal: 473ms\tremaining: 480ms\n",
      "496:\tlearn: 0.1277260\ttotal: 474ms\tremaining: 479ms\n",
      "497:\tlearn: 0.1273008\ttotal: 474ms\tremaining: 478ms\n",
      "498:\tlearn: 0.1272757\ttotal: 475ms\tremaining: 477ms\n",
      "499:\tlearn: 0.1270911\ttotal: 476ms\tremaining: 476ms\n",
      "500:\tlearn: 0.1268845\ttotal: 477ms\tremaining: 475ms\n",
      "501:\tlearn: 0.1265448\ttotal: 478ms\tremaining: 474ms\n",
      "502:\tlearn: 0.1263929\ttotal: 479ms\tremaining: 473ms\n",
      "503:\tlearn: 0.1261641\ttotal: 479ms\tremaining: 472ms\n",
      "504:\tlearn: 0.1259315\ttotal: 480ms\tremaining: 471ms\n",
      "505:\tlearn: 0.1257121\ttotal: 481ms\tremaining: 470ms\n",
      "506:\tlearn: 0.1255559\ttotal: 482ms\tremaining: 469ms\n",
      "507:\tlearn: 0.1252906\ttotal: 483ms\tremaining: 468ms\n",
      "508:\tlearn: 0.1251429\ttotal: 484ms\tremaining: 467ms\n",
      "509:\tlearn: 0.1248421\ttotal: 484ms\tremaining: 465ms\n",
      "510:\tlearn: 0.1244793\ttotal: 485ms\tremaining: 464ms\n",
      "511:\tlearn: 0.1241616\ttotal: 486ms\tremaining: 463ms\n"
     ]
    },
    {
     "name": "stdout",
     "output_type": "stream",
     "text": [
      "512:\tlearn: 0.1240204\ttotal: 487ms\tremaining: 462ms\n",
      "513:\tlearn: 0.1237583\ttotal: 488ms\tremaining: 461ms\n",
      "514:\tlearn: 0.1236324\ttotal: 489ms\tremaining: 460ms\n",
      "515:\tlearn: 0.1233340\ttotal: 490ms\tremaining: 459ms\n",
      "516:\tlearn: 0.1230312\ttotal: 490ms\tremaining: 458ms\n",
      "517:\tlearn: 0.1227992\ttotal: 491ms\tremaining: 457ms\n",
      "518:\tlearn: 0.1226150\ttotal: 492ms\tremaining: 456ms\n",
      "519:\tlearn: 0.1223039\ttotal: 493ms\tremaining: 455ms\n",
      "520:\tlearn: 0.1220211\ttotal: 494ms\tremaining: 454ms\n",
      "521:\tlearn: 0.1218392\ttotal: 494ms\tremaining: 453ms\n",
      "522:\tlearn: 0.1216479\ttotal: 495ms\tremaining: 452ms\n",
      "523:\tlearn: 0.1214752\ttotal: 496ms\tremaining: 451ms\n",
      "524:\tlearn: 0.1213031\ttotal: 497ms\tremaining: 450ms\n",
      "525:\tlearn: 0.1211731\ttotal: 498ms\tremaining: 449ms\n",
      "526:\tlearn: 0.1209586\ttotal: 498ms\tremaining: 447ms\n",
      "527:\tlearn: 0.1208983\ttotal: 499ms\tremaining: 446ms\n",
      "528:\tlearn: 0.1208710\ttotal: 500ms\tremaining: 445ms\n",
      "529:\tlearn: 0.1207973\ttotal: 501ms\tremaining: 444ms\n",
      "530:\tlearn: 0.1207772\ttotal: 502ms\tremaining: 443ms\n",
      "531:\tlearn: 0.1207476\ttotal: 502ms\tremaining: 442ms\n",
      "532:\tlearn: 0.1204632\ttotal: 503ms\tremaining: 441ms\n",
      "533:\tlearn: 0.1202805\ttotal: 504ms\tremaining: 440ms\n",
      "534:\tlearn: 0.1200194\ttotal: 505ms\tremaining: 439ms\n",
      "535:\tlearn: 0.1197270\ttotal: 506ms\tremaining: 438ms\n",
      "536:\tlearn: 0.1197160\ttotal: 507ms\tremaining: 437ms\n",
      "537:\tlearn: 0.1196839\ttotal: 508ms\tremaining: 436ms\n",
      "538:\tlearn: 0.1194522\ttotal: 508ms\tremaining: 435ms\n",
      "539:\tlearn: 0.1191974\ttotal: 509ms\tremaining: 434ms\n",
      "540:\tlearn: 0.1191386\ttotal: 510ms\tremaining: 433ms\n",
      "541:\tlearn: 0.1190484\ttotal: 511ms\tremaining: 432ms\n",
      "542:\tlearn: 0.1189313\ttotal: 512ms\tremaining: 431ms\n",
      "543:\tlearn: 0.1186851\ttotal: 513ms\tremaining: 430ms\n",
      "544:\tlearn: 0.1183799\ttotal: 513ms\tremaining: 429ms\n",
      "545:\tlearn: 0.1183513\ttotal: 514ms\tremaining: 427ms\n",
      "546:\tlearn: 0.1181142\ttotal: 515ms\tremaining: 426ms\n",
      "547:\tlearn: 0.1178866\ttotal: 516ms\tremaining: 425ms\n",
      "548:\tlearn: 0.1176721\ttotal: 517ms\tremaining: 424ms\n",
      "549:\tlearn: 0.1174395\ttotal: 518ms\tremaining: 424ms\n",
      "550:\tlearn: 0.1172416\ttotal: 519ms\tremaining: 423ms\n",
      "551:\tlearn: 0.1170450\ttotal: 519ms\tremaining: 421ms\n",
      "552:\tlearn: 0.1167139\ttotal: 520ms\tremaining: 420ms\n",
      "553:\tlearn: 0.1164910\ttotal: 521ms\tremaining: 419ms\n",
      "554:\tlearn: 0.1162450\ttotal: 522ms\tremaining: 418ms\n",
      "555:\tlearn: 0.1160374\ttotal: 523ms\tremaining: 417ms\n",
      "556:\tlearn: 0.1157791\ttotal: 523ms\tremaining: 416ms\n",
      "557:\tlearn: 0.1155201\ttotal: 524ms\tremaining: 415ms\n",
      "558:\tlearn: 0.1153663\ttotal: 525ms\tremaining: 414ms\n",
      "559:\tlearn: 0.1151372\ttotal: 526ms\tremaining: 413ms\n",
      "560:\tlearn: 0.1148523\ttotal: 527ms\tremaining: 412ms\n",
      "561:\tlearn: 0.1146606\ttotal: 528ms\tremaining: 411ms\n",
      "562:\tlearn: 0.1146428\ttotal: 529ms\tremaining: 410ms\n",
      "563:\tlearn: 0.1143970\ttotal: 529ms\tremaining: 409ms\n",
      "564:\tlearn: 0.1141650\ttotal: 530ms\tremaining: 408ms\n",
      "565:\tlearn: 0.1141181\ttotal: 531ms\tremaining: 407ms\n",
      "566:\tlearn: 0.1139622\ttotal: 532ms\tremaining: 406ms\n",
      "567:\tlearn: 0.1136933\ttotal: 533ms\tremaining: 405ms\n",
      "568:\tlearn: 0.1134503\ttotal: 533ms\tremaining: 404ms\n",
      "569:\tlearn: 0.1132858\ttotal: 534ms\tremaining: 403ms\n",
      "570:\tlearn: 0.1131580\ttotal: 535ms\tremaining: 402ms\n",
      "571:\tlearn: 0.1131330\ttotal: 536ms\tremaining: 401ms\n",
      "572:\tlearn: 0.1129056\ttotal: 537ms\tremaining: 400ms\n",
      "573:\tlearn: 0.1127670\ttotal: 538ms\tremaining: 399ms\n",
      "574:\tlearn: 0.1124772\ttotal: 539ms\tremaining: 398ms\n",
      "575:\tlearn: 0.1122558\ttotal: 540ms\tremaining: 397ms\n",
      "576:\tlearn: 0.1119412\ttotal: 541ms\tremaining: 396ms\n",
      "577:\tlearn: 0.1117202\ttotal: 541ms\tremaining: 395ms\n",
      "578:\tlearn: 0.1115158\ttotal: 542ms\tremaining: 394ms\n",
      "579:\tlearn: 0.1113599\ttotal: 543ms\tremaining: 393ms\n",
      "580:\tlearn: 0.1112563\ttotal: 544ms\tremaining: 392ms\n",
      "581:\tlearn: 0.1110863\ttotal: 545ms\tremaining: 391ms\n",
      "582:\tlearn: 0.1108319\ttotal: 546ms\tremaining: 390ms\n",
      "583:\tlearn: 0.1106561\ttotal: 546ms\tremaining: 389ms\n",
      "584:\tlearn: 0.1104421\ttotal: 547ms\tremaining: 388ms\n",
      "585:\tlearn: 0.1104172\ttotal: 548ms\tremaining: 387ms\n",
      "586:\tlearn: 0.1102419\ttotal: 550ms\tremaining: 387ms\n",
      "587:\tlearn: 0.1100633\ttotal: 550ms\tremaining: 386ms\n",
      "588:\tlearn: 0.1099341\ttotal: 551ms\tremaining: 385ms\n",
      "589:\tlearn: 0.1096802\ttotal: 552ms\tremaining: 384ms\n",
      "590:\tlearn: 0.1096043\ttotal: 553ms\tremaining: 383ms\n",
      "591:\tlearn: 0.1095857\ttotal: 554ms\tremaining: 381ms\n",
      "592:\tlearn: 0.1093300\ttotal: 554ms\tremaining: 380ms\n",
      "593:\tlearn: 0.1090699\ttotal: 555ms\tremaining: 379ms\n",
      "594:\tlearn: 0.1088591\ttotal: 556ms\tremaining: 378ms\n",
      "595:\tlearn: 0.1086817\ttotal: 557ms\tremaining: 377ms\n",
      "596:\tlearn: 0.1086570\ttotal: 558ms\tremaining: 376ms\n",
      "597:\tlearn: 0.1083974\ttotal: 558ms\tremaining: 375ms\n",
      "598:\tlearn: 0.1081687\ttotal: 559ms\tremaining: 374ms\n",
      "599:\tlearn: 0.1081009\ttotal: 560ms\tremaining: 373ms\n",
      "600:\tlearn: 0.1079331\ttotal: 561ms\tremaining: 372ms\n",
      "601:\tlearn: 0.1077542\ttotal: 562ms\tremaining: 371ms\n",
      "602:\tlearn: 0.1075444\ttotal: 563ms\tremaining: 370ms\n",
      "603:\tlearn: 0.1073456\ttotal: 563ms\tremaining: 369ms\n",
      "604:\tlearn: 0.1070992\ttotal: 564ms\tremaining: 368ms\n",
      "605:\tlearn: 0.1069825\ttotal: 565ms\tremaining: 367ms\n",
      "606:\tlearn: 0.1066953\ttotal: 566ms\tremaining: 366ms\n",
      "607:\tlearn: 0.1065633\ttotal: 567ms\tremaining: 365ms\n",
      "608:\tlearn: 0.1064148\ttotal: 567ms\tremaining: 364ms\n",
      "609:\tlearn: 0.1062340\ttotal: 568ms\tremaining: 363ms\n",
      "610:\tlearn: 0.1059820\ttotal: 569ms\tremaining: 362ms\n",
      "611:\tlearn: 0.1058195\ttotal: 570ms\tremaining: 361ms\n",
      "612:\tlearn: 0.1057240\ttotal: 571ms\tremaining: 360ms\n",
      "613:\tlearn: 0.1057025\ttotal: 571ms\tremaining: 359ms\n"
     ]
    },
    {
     "name": "stdout",
     "output_type": "stream",
     "text": [
      "614:\tlearn: 0.1055850\ttotal: 573ms\tremaining: 358ms\n",
      "615:\tlearn: 0.1054666\ttotal: 573ms\tremaining: 357ms\n",
      "616:\tlearn: 0.1052421\ttotal: 574ms\tremaining: 356ms\n",
      "617:\tlearn: 0.1051609\ttotal: 575ms\tremaining: 356ms\n",
      "618:\tlearn: 0.1048559\ttotal: 576ms\tremaining: 355ms\n",
      "619:\tlearn: 0.1046866\ttotal: 577ms\tremaining: 354ms\n",
      "620:\tlearn: 0.1045387\ttotal: 578ms\tremaining: 353ms\n",
      "621:\tlearn: 0.1042600\ttotal: 579ms\tremaining: 352ms\n",
      "622:\tlearn: 0.1041675\ttotal: 579ms\tremaining: 351ms\n",
      "623:\tlearn: 0.1039479\ttotal: 580ms\tremaining: 350ms\n",
      "624:\tlearn: 0.1038488\ttotal: 581ms\tremaining: 349ms\n",
      "625:\tlearn: 0.1038241\ttotal: 582ms\tremaining: 348ms\n",
      "626:\tlearn: 0.1036042\ttotal: 583ms\tremaining: 347ms\n",
      "627:\tlearn: 0.1035783\ttotal: 584ms\tremaining: 346ms\n",
      "628:\tlearn: 0.1034206\ttotal: 584ms\tremaining: 345ms\n",
      "629:\tlearn: 0.1032939\ttotal: 585ms\tremaining: 344ms\n",
      "630:\tlearn: 0.1032161\ttotal: 586ms\tremaining: 343ms\n",
      "631:\tlearn: 0.1031916\ttotal: 587ms\tremaining: 342ms\n",
      "632:\tlearn: 0.1029934\ttotal: 587ms\tremaining: 340ms\n",
      "633:\tlearn: 0.1028706\ttotal: 588ms\tremaining: 339ms\n",
      "634:\tlearn: 0.1028240\ttotal: 589ms\tremaining: 339ms\n",
      "635:\tlearn: 0.1026875\ttotal: 590ms\tremaining: 338ms\n",
      "636:\tlearn: 0.1025101\ttotal: 590ms\tremaining: 336ms\n",
      "637:\tlearn: 0.1024728\ttotal: 591ms\tremaining: 335ms\n",
      "638:\tlearn: 0.1023655\ttotal: 592ms\tremaining: 334ms\n",
      "639:\tlearn: 0.1021303\ttotal: 593ms\tremaining: 334ms\n",
      "640:\tlearn: 0.1018890\ttotal: 594ms\tremaining: 333ms\n",
      "641:\tlearn: 0.1017357\ttotal: 595ms\tremaining: 332ms\n",
      "642:\tlearn: 0.1015611\ttotal: 595ms\tremaining: 331ms\n",
      "643:\tlearn: 0.1014798\ttotal: 596ms\tremaining: 330ms\n",
      "644:\tlearn: 0.1012932\ttotal: 597ms\tremaining: 329ms\n",
      "645:\tlearn: 0.1010691\ttotal: 598ms\tremaining: 328ms\n",
      "646:\tlearn: 0.1007764\ttotal: 599ms\tremaining: 327ms\n",
      "647:\tlearn: 0.1006903\ttotal: 600ms\tremaining: 326ms\n",
      "648:\tlearn: 0.1005050\ttotal: 601ms\tremaining: 325ms\n",
      "649:\tlearn: 0.1003049\ttotal: 602ms\tremaining: 324ms\n",
      "650:\tlearn: 0.1001929\ttotal: 602ms\tremaining: 323ms\n",
      "651:\tlearn: 0.1000337\ttotal: 603ms\tremaining: 322ms\n",
      "652:\tlearn: 0.0998391\ttotal: 604ms\tremaining: 321ms\n",
      "653:\tlearn: 0.0996329\ttotal: 605ms\tremaining: 320ms\n",
      "654:\tlearn: 0.0994010\ttotal: 606ms\tremaining: 319ms\n",
      "655:\tlearn: 0.0992648\ttotal: 606ms\tremaining: 318ms\n",
      "656:\tlearn: 0.0990452\ttotal: 607ms\tremaining: 317ms\n",
      "657:\tlearn: 0.0989111\ttotal: 608ms\tremaining: 316ms\n",
      "658:\tlearn: 0.0987542\ttotal: 609ms\tremaining: 315ms\n",
      "659:\tlearn: 0.0986889\ttotal: 610ms\tremaining: 314ms\n",
      "660:\tlearn: 0.0985209\ttotal: 611ms\tremaining: 313ms\n",
      "661:\tlearn: 0.0981814\ttotal: 611ms\tremaining: 312ms\n",
      "662:\tlearn: 0.0980477\ttotal: 612ms\tremaining: 311ms\n",
      "663:\tlearn: 0.0980215\ttotal: 614ms\tremaining: 310ms\n",
      "664:\tlearn: 0.0978487\ttotal: 614ms\tremaining: 309ms\n",
      "665:\tlearn: 0.0977685\ttotal: 615ms\tremaining: 308ms\n",
      "666:\tlearn: 0.0977009\ttotal: 616ms\tremaining: 308ms\n",
      "667:\tlearn: 0.0975589\ttotal: 617ms\tremaining: 307ms\n",
      "668:\tlearn: 0.0975411\ttotal: 618ms\tremaining: 306ms\n",
      "669:\tlearn: 0.0973174\ttotal: 619ms\tremaining: 305ms\n",
      "670:\tlearn: 0.0971258\ttotal: 620ms\tremaining: 304ms\n",
      "671:\tlearn: 0.0969884\ttotal: 620ms\tremaining: 303ms\n",
      "672:\tlearn: 0.0968459\ttotal: 621ms\tremaining: 302ms\n",
      "673:\tlearn: 0.0966287\ttotal: 622ms\tremaining: 301ms\n",
      "674:\tlearn: 0.0963911\ttotal: 623ms\tremaining: 300ms\n",
      "675:\tlearn: 0.0961942\ttotal: 624ms\tremaining: 299ms\n",
      "676:\tlearn: 0.0959949\ttotal: 625ms\tremaining: 298ms\n",
      "677:\tlearn: 0.0958815\ttotal: 626ms\tremaining: 297ms\n",
      "678:\tlearn: 0.0956747\ttotal: 626ms\tremaining: 296ms\n",
      "679:\tlearn: 0.0955538\ttotal: 627ms\tremaining: 295ms\n",
      "680:\tlearn: 0.0954692\ttotal: 628ms\tremaining: 294ms\n",
      "681:\tlearn: 0.0952615\ttotal: 629ms\tremaining: 293ms\n",
      "682:\tlearn: 0.0952351\ttotal: 629ms\tremaining: 292ms\n",
      "683:\tlearn: 0.0951330\ttotal: 630ms\tremaining: 291ms\n",
      "684:\tlearn: 0.0949822\ttotal: 631ms\tremaining: 290ms\n",
      "685:\tlearn: 0.0948014\ttotal: 632ms\tremaining: 289ms\n",
      "686:\tlearn: 0.0945977\ttotal: 633ms\tremaining: 288ms\n",
      "687:\tlearn: 0.0945422\ttotal: 633ms\tremaining: 287ms\n",
      "688:\tlearn: 0.0944263\ttotal: 634ms\tremaining: 286ms\n",
      "689:\tlearn: 0.0943097\ttotal: 635ms\tremaining: 285ms\n",
      "690:\tlearn: 0.0941991\ttotal: 636ms\tremaining: 284ms\n",
      "691:\tlearn: 0.0940392\ttotal: 637ms\tremaining: 283ms\n",
      "692:\tlearn: 0.0939248\ttotal: 637ms\tremaining: 282ms\n",
      "693:\tlearn: 0.0938160\ttotal: 638ms\tremaining: 281ms\n",
      "694:\tlearn: 0.0936403\ttotal: 639ms\tremaining: 280ms\n",
      "695:\tlearn: 0.0935442\ttotal: 640ms\tremaining: 279ms\n",
      "696:\tlearn: 0.0933915\ttotal: 641ms\tremaining: 278ms\n",
      "697:\tlearn: 0.0931983\ttotal: 641ms\tremaining: 278ms\n",
      "698:\tlearn: 0.0931890\ttotal: 642ms\tremaining: 277ms\n",
      "699:\tlearn: 0.0929710\ttotal: 643ms\tremaining: 276ms\n",
      "700:\tlearn: 0.0927556\ttotal: 644ms\tremaining: 275ms\n",
      "701:\tlearn: 0.0925644\ttotal: 645ms\tremaining: 274ms\n",
      "702:\tlearn: 0.0924068\ttotal: 645ms\tremaining: 273ms\n",
      "703:\tlearn: 0.0922054\ttotal: 646ms\tremaining: 272ms\n",
      "704:\tlearn: 0.0920266\ttotal: 647ms\tremaining: 271ms\n",
      "705:\tlearn: 0.0918380\ttotal: 648ms\tremaining: 270ms\n",
      "706:\tlearn: 0.0916364\ttotal: 649ms\tremaining: 269ms\n",
      "707:\tlearn: 0.0914139\ttotal: 650ms\tremaining: 268ms\n",
      "708:\tlearn: 0.0912508\ttotal: 650ms\tremaining: 267ms\n",
      "709:\tlearn: 0.0910272\ttotal: 651ms\tremaining: 266ms\n",
      "710:\tlearn: 0.0909066\ttotal: 652ms\tremaining: 265ms\n",
      "711:\tlearn: 0.0907065\ttotal: 653ms\tremaining: 264ms\n",
      "712:\tlearn: 0.0905587\ttotal: 654ms\tremaining: 263ms\n",
      "713:\tlearn: 0.0904455\ttotal: 655ms\tremaining: 262ms\n",
      "714:\tlearn: 0.0903577\ttotal: 655ms\tremaining: 261ms\n",
      "715:\tlearn: 0.0903358\ttotal: 656ms\tremaining: 260ms\n",
      "716:\tlearn: 0.0902614\ttotal: 657ms\tremaining: 259ms\n",
      "717:\tlearn: 0.0900057\ttotal: 658ms\tremaining: 258ms\n",
      "718:\tlearn: 0.0898706\ttotal: 659ms\tremaining: 257ms\n",
      "719:\tlearn: 0.0897441\ttotal: 660ms\tremaining: 256ms\n",
      "720:\tlearn: 0.0895559\ttotal: 660ms\tremaining: 256ms\n",
      "721:\tlearn: 0.0895380\ttotal: 661ms\tremaining: 255ms\n",
      "722:\tlearn: 0.0894824\ttotal: 662ms\tremaining: 254ms\n",
      "723:\tlearn: 0.0892882\ttotal: 663ms\tremaining: 253ms\n",
      "724:\tlearn: 0.0890914\ttotal: 663ms\tremaining: 252ms\n",
      "725:\tlearn: 0.0890664\ttotal: 664ms\tremaining: 251ms\n",
      "726:\tlearn: 0.0890018\ttotal: 665ms\tremaining: 250ms\n",
      "727:\tlearn: 0.0889509\ttotal: 666ms\tremaining: 249ms\n",
      "728:\tlearn: 0.0887875\ttotal: 667ms\tremaining: 248ms\n",
      "729:\tlearn: 0.0886421\ttotal: 668ms\tremaining: 247ms\n",
      "730:\tlearn: 0.0885316\ttotal: 668ms\tremaining: 246ms\n",
      "731:\tlearn: 0.0882900\ttotal: 669ms\tremaining: 245ms\n",
      "732:\tlearn: 0.0881624\ttotal: 670ms\tremaining: 244ms\n",
      "733:\tlearn: 0.0879747\ttotal: 671ms\tremaining: 243ms\n",
      "734:\tlearn: 0.0879186\ttotal: 672ms\tremaining: 242ms\n",
      "735:\tlearn: 0.0877538\ttotal: 673ms\tremaining: 241ms\n",
      "736:\tlearn: 0.0875810\ttotal: 673ms\tremaining: 240ms\n",
      "737:\tlearn: 0.0873903\ttotal: 674ms\tremaining: 239ms\n",
      "738:\tlearn: 0.0873737\ttotal: 675ms\tremaining: 238ms\n",
      "739:\tlearn: 0.0872617\ttotal: 676ms\tremaining: 237ms\n"
     ]
    },
    {
     "name": "stdout",
     "output_type": "stream",
     "text": [
      "740:\tlearn: 0.0871604\ttotal: 677ms\tremaining: 237ms\n",
      "741:\tlearn: 0.0871444\ttotal: 678ms\tremaining: 236ms\n",
      "742:\tlearn: 0.0870624\ttotal: 678ms\tremaining: 235ms\n",
      "743:\tlearn: 0.0870078\ttotal: 679ms\tremaining: 234ms\n",
      "744:\tlearn: 0.0869814\ttotal: 680ms\tremaining: 233ms\n",
      "745:\tlearn: 0.0868684\ttotal: 681ms\tremaining: 232ms\n",
      "746:\tlearn: 0.0867402\ttotal: 682ms\tremaining: 231ms\n",
      "747:\tlearn: 0.0867205\ttotal: 682ms\tremaining: 230ms\n",
      "748:\tlearn: 0.0866998\ttotal: 683ms\tremaining: 229ms\n",
      "749:\tlearn: 0.0865523\ttotal: 684ms\tremaining: 228ms\n",
      "750:\tlearn: 0.0864311\ttotal: 685ms\tremaining: 227ms\n",
      "751:\tlearn: 0.0863813\ttotal: 685ms\tremaining: 226ms\n",
      "752:\tlearn: 0.0863067\ttotal: 686ms\tremaining: 225ms\n",
      "753:\tlearn: 0.0862908\ttotal: 687ms\tremaining: 224ms\n",
      "754:\tlearn: 0.0861759\ttotal: 688ms\tremaining: 223ms\n",
      "755:\tlearn: 0.0859977\ttotal: 689ms\tremaining: 222ms\n",
      "756:\tlearn: 0.0858713\ttotal: 690ms\tremaining: 221ms\n",
      "757:\tlearn: 0.0857108\ttotal: 690ms\tremaining: 220ms\n",
      "758:\tlearn: 0.0855745\ttotal: 691ms\tremaining: 220ms\n",
      "759:\tlearn: 0.0853852\ttotal: 692ms\tremaining: 219ms\n",
      "760:\tlearn: 0.0852042\ttotal: 693ms\tremaining: 218ms\n",
      "761:\tlearn: 0.0850395\ttotal: 694ms\tremaining: 217ms\n",
      "762:\tlearn: 0.0848955\ttotal: 695ms\tremaining: 216ms\n",
      "763:\tlearn: 0.0848370\ttotal: 695ms\tremaining: 215ms\n",
      "764:\tlearn: 0.0847264\ttotal: 696ms\tremaining: 214ms\n",
      "765:\tlearn: 0.0846312\ttotal: 697ms\tremaining: 213ms\n",
      "766:\tlearn: 0.0845149\ttotal: 698ms\tremaining: 212ms\n",
      "767:\tlearn: 0.0844224\ttotal: 699ms\tremaining: 211ms\n",
      "768:\tlearn: 0.0842228\ttotal: 699ms\tremaining: 210ms\n",
      "769:\tlearn: 0.0841264\ttotal: 700ms\tremaining: 209ms\n",
      "770:\tlearn: 0.0840066\ttotal: 701ms\tremaining: 208ms\n",
      "771:\tlearn: 0.0838697\ttotal: 702ms\tremaining: 207ms\n",
      "772:\tlearn: 0.0838148\ttotal: 703ms\tremaining: 206ms\n",
      "773:\tlearn: 0.0837102\ttotal: 703ms\tremaining: 205ms\n",
      "774:\tlearn: 0.0834828\ttotal: 704ms\tremaining: 204ms\n",
      "775:\tlearn: 0.0833942\ttotal: 705ms\tremaining: 204ms\n",
      "776:\tlearn: 0.0832540\ttotal: 706ms\tremaining: 203ms\n",
      "777:\tlearn: 0.0831730\ttotal: 707ms\tremaining: 202ms\n",
      "778:\tlearn: 0.0830102\ttotal: 707ms\tremaining: 201ms\n",
      "779:\tlearn: 0.0828565\ttotal: 708ms\tremaining: 200ms\n",
      "780:\tlearn: 0.0826810\ttotal: 709ms\tremaining: 199ms\n",
      "781:\tlearn: 0.0825126\ttotal: 710ms\tremaining: 198ms\n",
      "782:\tlearn: 0.0823059\ttotal: 711ms\tremaining: 197ms\n",
      "783:\tlearn: 0.0821883\ttotal: 712ms\tremaining: 196ms\n",
      "784:\tlearn: 0.0820235\ttotal: 713ms\tremaining: 195ms\n",
      "785:\tlearn: 0.0818935\ttotal: 713ms\tremaining: 194ms\n",
      "786:\tlearn: 0.0817769\ttotal: 714ms\tremaining: 193ms\n",
      "787:\tlearn: 0.0816899\ttotal: 715ms\tremaining: 192ms\n",
      "788:\tlearn: 0.0816627\ttotal: 716ms\tremaining: 191ms\n",
      "789:\tlearn: 0.0815609\ttotal: 717ms\tremaining: 191ms\n",
      "790:\tlearn: 0.0814360\ttotal: 718ms\tremaining: 190ms\n",
      "791:\tlearn: 0.0814203\ttotal: 718ms\tremaining: 189ms\n",
      "792:\tlearn: 0.0814002\ttotal: 719ms\tremaining: 188ms\n",
      "793:\tlearn: 0.0813223\ttotal: 720ms\tremaining: 187ms\n",
      "794:\tlearn: 0.0811907\ttotal: 721ms\tremaining: 186ms\n",
      "795:\tlearn: 0.0810839\ttotal: 722ms\tremaining: 185ms\n",
      "796:\tlearn: 0.0808641\ttotal: 723ms\tremaining: 184ms\n",
      "797:\tlearn: 0.0808458\ttotal: 723ms\tremaining: 183ms\n",
      "798:\tlearn: 0.0807669\ttotal: 724ms\tremaining: 182ms\n",
      "799:\tlearn: 0.0806706\ttotal: 725ms\tremaining: 181ms\n",
      "800:\tlearn: 0.0805406\ttotal: 726ms\tremaining: 180ms\n",
      "801:\tlearn: 0.0804585\ttotal: 727ms\tremaining: 179ms\n",
      "802:\tlearn: 0.0803429\ttotal: 727ms\tremaining: 178ms\n",
      "803:\tlearn: 0.0802873\ttotal: 729ms\tremaining: 178ms\n",
      "804:\tlearn: 0.0801178\ttotal: 730ms\tremaining: 177ms\n",
      "805:\tlearn: 0.0799132\ttotal: 731ms\tremaining: 176ms\n",
      "806:\tlearn: 0.0797515\ttotal: 732ms\tremaining: 175ms\n",
      "807:\tlearn: 0.0795358\ttotal: 732ms\tremaining: 174ms\n",
      "808:\tlearn: 0.0794050\ttotal: 733ms\tremaining: 173ms\n",
      "809:\tlearn: 0.0792847\ttotal: 734ms\tremaining: 172ms\n",
      "810:\tlearn: 0.0791790\ttotal: 735ms\tremaining: 171ms\n",
      "811:\tlearn: 0.0789778\ttotal: 736ms\tremaining: 170ms\n",
      "812:\tlearn: 0.0788457\ttotal: 736ms\tremaining: 169ms\n",
      "813:\tlearn: 0.0787288\ttotal: 737ms\tremaining: 168ms\n",
      "814:\tlearn: 0.0786347\ttotal: 738ms\tremaining: 168ms\n",
      "815:\tlearn: 0.0784439\ttotal: 739ms\tremaining: 167ms\n",
      "816:\tlearn: 0.0782504\ttotal: 739ms\tremaining: 166ms\n",
      "817:\tlearn: 0.0781420\ttotal: 740ms\tremaining: 165ms\n",
      "818:\tlearn: 0.0780354\ttotal: 741ms\tremaining: 164ms\n",
      "819:\tlearn: 0.0779434\ttotal: 742ms\tremaining: 163ms\n",
      "820:\tlearn: 0.0778550\ttotal: 743ms\tremaining: 162ms\n",
      "821:\tlearn: 0.0778426\ttotal: 744ms\tremaining: 161ms\n",
      "822:\tlearn: 0.0777278\ttotal: 744ms\tremaining: 160ms\n",
      "823:\tlearn: 0.0776715\ttotal: 745ms\tremaining: 159ms\n",
      "824:\tlearn: 0.0776629\ttotal: 746ms\tremaining: 158ms\n",
      "825:\tlearn: 0.0775301\ttotal: 747ms\tremaining: 157ms\n",
      "826:\tlearn: 0.0774661\ttotal: 748ms\tremaining: 156ms\n",
      "827:\tlearn: 0.0773013\ttotal: 749ms\tremaining: 155ms\n",
      "828:\tlearn: 0.0772699\ttotal: 749ms\tremaining: 155ms\n",
      "829:\tlearn: 0.0771316\ttotal: 750ms\tremaining: 154ms\n",
      "830:\tlearn: 0.0771161\ttotal: 751ms\tremaining: 153ms\n",
      "831:\tlearn: 0.0770091\ttotal: 752ms\tremaining: 152ms\n",
      "832:\tlearn: 0.0768917\ttotal: 753ms\tremaining: 151ms\n",
      "833:\tlearn: 0.0768126\ttotal: 754ms\tremaining: 150ms\n",
      "834:\tlearn: 0.0766191\ttotal: 754ms\tremaining: 149ms\n",
      "835:\tlearn: 0.0764453\ttotal: 755ms\tremaining: 148ms\n",
      "836:\tlearn: 0.0762771\ttotal: 756ms\tremaining: 147ms\n",
      "837:\tlearn: 0.0761122\ttotal: 757ms\tremaining: 146ms\n",
      "838:\tlearn: 0.0760040\ttotal: 758ms\tremaining: 145ms\n",
      "839:\tlearn: 0.0758839\ttotal: 758ms\tremaining: 144ms\n",
      "840:\tlearn: 0.0757965\ttotal: 759ms\tremaining: 144ms\n",
      "841:\tlearn: 0.0756839\ttotal: 760ms\tremaining: 143ms\n",
      "842:\tlearn: 0.0756602\ttotal: 761ms\tremaining: 142ms\n",
      "843:\tlearn: 0.0756371\ttotal: 762ms\tremaining: 141ms\n",
      "844:\tlearn: 0.0754912\ttotal: 763ms\tremaining: 140ms\n"
     ]
    },
    {
     "name": "stdout",
     "output_type": "stream",
     "text": [
      "845:\tlearn: 0.0753898\ttotal: 763ms\tremaining: 139ms\n",
      "846:\tlearn: 0.0753799\ttotal: 764ms\tremaining: 138ms\n",
      "847:\tlearn: 0.0752901\ttotal: 765ms\tremaining: 137ms\n",
      "848:\tlearn: 0.0751885\ttotal: 766ms\tremaining: 136ms\n",
      "849:\tlearn: 0.0751189\ttotal: 767ms\tremaining: 135ms\n",
      "850:\tlearn: 0.0748984\ttotal: 768ms\tremaining: 134ms\n",
      "851:\tlearn: 0.0748054\ttotal: 769ms\tremaining: 134ms\n",
      "852:\tlearn: 0.0747154\ttotal: 770ms\tremaining: 133ms\n",
      "853:\tlearn: 0.0746118\ttotal: 770ms\tremaining: 132ms\n",
      "854:\tlearn: 0.0745502\ttotal: 771ms\tremaining: 131ms\n",
      "855:\tlearn: 0.0745037\ttotal: 772ms\tremaining: 130ms\n",
      "856:\tlearn: 0.0743528\ttotal: 773ms\tremaining: 129ms\n",
      "857:\tlearn: 0.0742705\ttotal: 774ms\tremaining: 128ms\n",
      "858:\tlearn: 0.0740726\ttotal: 774ms\tremaining: 127ms\n",
      "859:\tlearn: 0.0739342\ttotal: 775ms\tremaining: 126ms\n",
      "860:\tlearn: 0.0738252\ttotal: 776ms\tremaining: 125ms\n",
      "861:\tlearn: 0.0737075\ttotal: 777ms\tremaining: 124ms\n",
      "862:\tlearn: 0.0735737\ttotal: 778ms\tremaining: 123ms\n",
      "863:\tlearn: 0.0734873\ttotal: 778ms\tremaining: 123ms\n",
      "864:\tlearn: 0.0733599\ttotal: 779ms\tremaining: 122ms\n",
      "865:\tlearn: 0.0732832\ttotal: 780ms\tremaining: 121ms\n",
      "866:\tlearn: 0.0731288\ttotal: 781ms\tremaining: 120ms\n",
      "867:\tlearn: 0.0730462\ttotal: 782ms\tremaining: 119ms\n",
      "868:\tlearn: 0.0730293\ttotal: 783ms\tremaining: 118ms\n",
      "869:\tlearn: 0.0729219\ttotal: 784ms\tremaining: 117ms\n",
      "870:\tlearn: 0.0728161\ttotal: 784ms\tremaining: 116ms\n",
      "871:\tlearn: 0.0727523\ttotal: 785ms\tremaining: 115ms\n",
      "872:\tlearn: 0.0726852\ttotal: 786ms\tremaining: 114ms\n",
      "873:\tlearn: 0.0725623\ttotal: 787ms\tremaining: 113ms\n",
      "874:\tlearn: 0.0724510\ttotal: 787ms\tremaining: 112ms\n",
      "875:\tlearn: 0.0723165\ttotal: 788ms\tremaining: 112ms\n",
      "876:\tlearn: 0.0722760\ttotal: 789ms\tremaining: 111ms\n",
      "877:\tlearn: 0.0721124\ttotal: 790ms\tremaining: 110ms\n",
      "878:\tlearn: 0.0720776\ttotal: 791ms\tremaining: 109ms\n",
      "879:\tlearn: 0.0719349\ttotal: 791ms\tremaining: 108ms\n",
      "880:\tlearn: 0.0718541\ttotal: 792ms\tremaining: 107ms\n",
      "881:\tlearn: 0.0717993\ttotal: 793ms\tremaining: 106ms\n",
      "882:\tlearn: 0.0717530\ttotal: 794ms\tremaining: 105ms\n",
      "883:\tlearn: 0.0716895\ttotal: 795ms\tremaining: 104ms\n",
      "884:\tlearn: 0.0715729\ttotal: 795ms\tremaining: 103ms\n",
      "885:\tlearn: 0.0714219\ttotal: 796ms\tremaining: 102ms\n",
      "886:\tlearn: 0.0712854\ttotal: 797ms\tremaining: 102ms\n",
      "887:\tlearn: 0.0711252\ttotal: 798ms\tremaining: 101ms\n",
      "888:\tlearn: 0.0710183\ttotal: 798ms\tremaining: 99.7ms\n",
      "889:\tlearn: 0.0708614\ttotal: 799ms\tremaining: 98.8ms\n",
      "890:\tlearn: 0.0706956\ttotal: 800ms\tremaining: 97.9ms\n",
      "891:\tlearn: 0.0706734\ttotal: 801ms\tremaining: 97ms\n",
      "892:\tlearn: 0.0706632\ttotal: 802ms\tremaining: 96ms\n",
      "893:\tlearn: 0.0705261\ttotal: 802ms\tremaining: 95.1ms\n",
      "894:\tlearn: 0.0703778\ttotal: 803ms\tremaining: 94.2ms\n",
      "895:\tlearn: 0.0702574\ttotal: 804ms\tremaining: 93.3ms\n",
      "896:\tlearn: 0.0701455\ttotal: 805ms\tremaining: 92.4ms\n",
      "897:\tlearn: 0.0700230\ttotal: 806ms\tremaining: 91.5ms\n",
      "898:\tlearn: 0.0699605\ttotal: 806ms\tremaining: 90.6ms\n",
      "899:\tlearn: 0.0698138\ttotal: 807ms\tremaining: 89.7ms\n",
      "900:\tlearn: 0.0697184\ttotal: 808ms\tremaining: 88.8ms\n",
      "901:\tlearn: 0.0695610\ttotal: 809ms\tremaining: 87.9ms\n",
      "902:\tlearn: 0.0693928\ttotal: 809ms\tremaining: 87ms\n",
      "903:\tlearn: 0.0692645\ttotal: 810ms\tremaining: 86ms\n",
      "904:\tlearn: 0.0691737\ttotal: 811ms\tremaining: 85.1ms\n",
      "905:\tlearn: 0.0691375\ttotal: 812ms\tremaining: 84.2ms\n",
      "906:\tlearn: 0.0690166\ttotal: 813ms\tremaining: 83.3ms\n",
      "907:\tlearn: 0.0690044\ttotal: 814ms\tremaining: 82.4ms\n",
      "908:\tlearn: 0.0688924\ttotal: 814ms\tremaining: 81.5ms\n",
      "909:\tlearn: 0.0688808\ttotal: 815ms\tremaining: 80.6ms\n",
      "910:\tlearn: 0.0687456\ttotal: 816ms\tremaining: 79.7ms\n",
      "911:\tlearn: 0.0686484\ttotal: 817ms\tremaining: 78.8ms\n",
      "912:\tlearn: 0.0685105\ttotal: 818ms\tremaining: 77.9ms\n",
      "913:\tlearn: 0.0683965\ttotal: 818ms\tremaining: 77ms\n",
      "914:\tlearn: 0.0683338\ttotal: 819ms\tremaining: 76.1ms\n",
      "915:\tlearn: 0.0682624\ttotal: 820ms\tremaining: 75.2ms\n",
      "916:\tlearn: 0.0682527\ttotal: 821ms\tremaining: 74.3ms\n",
      "917:\tlearn: 0.0681549\ttotal: 821ms\tremaining: 73.4ms\n",
      "918:\tlearn: 0.0680377\ttotal: 822ms\tremaining: 72.5ms\n",
      "919:\tlearn: 0.0679397\ttotal: 823ms\tremaining: 71.6ms\n",
      "920:\tlearn: 0.0678771\ttotal: 824ms\tremaining: 70.7ms\n",
      "921:\tlearn: 0.0677931\ttotal: 825ms\tremaining: 69.8ms\n",
      "922:\tlearn: 0.0677201\ttotal: 825ms\tremaining: 68.9ms\n",
      "923:\tlearn: 0.0676088\ttotal: 826ms\tremaining: 67.9ms\n",
      "924:\tlearn: 0.0675968\ttotal: 827ms\tremaining: 67ms\n",
      "925:\tlearn: 0.0674898\ttotal: 828ms\tremaining: 66.1ms\n",
      "926:\tlearn: 0.0673857\ttotal: 828ms\tremaining: 65.2ms\n",
      "927:\tlearn: 0.0672250\ttotal: 829ms\tremaining: 64.3ms\n",
      "928:\tlearn: 0.0670725\ttotal: 830ms\tremaining: 63.4ms\n",
      "929:\tlearn: 0.0669727\ttotal: 831ms\tremaining: 62.5ms\n",
      "930:\tlearn: 0.0669051\ttotal: 832ms\tremaining: 61.6ms\n",
      "931:\tlearn: 0.0667501\ttotal: 833ms\tremaining: 60.7ms\n",
      "932:\tlearn: 0.0666515\ttotal: 833ms\tremaining: 59.8ms\n",
      "933:\tlearn: 0.0665170\ttotal: 834ms\tremaining: 58.9ms\n",
      "934:\tlearn: 0.0663583\ttotal: 835ms\tremaining: 58ms\n",
      "935:\tlearn: 0.0663235\ttotal: 836ms\tremaining: 57.1ms\n",
      "936:\tlearn: 0.0662097\ttotal: 836ms\tremaining: 56.2ms\n",
      "937:\tlearn: 0.0661595\ttotal: 837ms\tremaining: 55.3ms\n",
      "938:\tlearn: 0.0660904\ttotal: 838ms\tremaining: 54.4ms\n",
      "939:\tlearn: 0.0659872\ttotal: 839ms\tremaining: 53.5ms\n",
      "940:\tlearn: 0.0658563\ttotal: 840ms\tremaining: 52.6ms\n",
      "941:\tlearn: 0.0657948\ttotal: 841ms\tremaining: 51.8ms\n",
      "942:\tlearn: 0.0656510\ttotal: 841ms\tremaining: 50.9ms\n",
      "943:\tlearn: 0.0655555\ttotal: 842ms\tremaining: 50ms\n",
      "944:\tlearn: 0.0655011\ttotal: 843ms\tremaining: 49.1ms\n",
      "945:\tlearn: 0.0654006\ttotal: 844ms\tremaining: 48.2ms\n",
      "946:\tlearn: 0.0653018\ttotal: 845ms\tremaining: 47.3ms\n",
      "947:\tlearn: 0.0651757\ttotal: 846ms\tremaining: 46.4ms\n",
      "948:\tlearn: 0.0650400\ttotal: 846ms\tremaining: 45.5ms\n",
      "949:\tlearn: 0.0649864\ttotal: 847ms\tremaining: 44.6ms\n",
      "950:\tlearn: 0.0648543\ttotal: 848ms\tremaining: 43.7ms\n",
      "951:\tlearn: 0.0647437\ttotal: 849ms\tremaining: 42.8ms\n",
      "952:\tlearn: 0.0646725\ttotal: 850ms\tremaining: 41.9ms\n",
      "953:\tlearn: 0.0646305\ttotal: 851ms\tremaining: 41ms\n",
      "954:\tlearn: 0.0645668\ttotal: 851ms\tremaining: 40.1ms\n",
      "955:\tlearn: 0.0645045\ttotal: 852ms\tremaining: 39.2ms\n",
      "956:\tlearn: 0.0644498\ttotal: 853ms\tremaining: 38.3ms\n",
      "957:\tlearn: 0.0643482\ttotal: 854ms\tremaining: 37.4ms\n",
      "958:\tlearn: 0.0643379\ttotal: 855ms\tremaining: 36.5ms\n",
      "959:\tlearn: 0.0643281\ttotal: 856ms\tremaining: 35.6ms\n",
      "960:\tlearn: 0.0642589\ttotal: 856ms\tremaining: 34.8ms\n",
      "961:\tlearn: 0.0641806\ttotal: 857ms\tremaining: 33.9ms\n",
      "962:\tlearn: 0.0640694\ttotal: 858ms\tremaining: 33ms\n",
      "963:\tlearn: 0.0639953\ttotal: 859ms\tremaining: 32.1ms\n",
      "964:\tlearn: 0.0638553\ttotal: 860ms\tremaining: 31.2ms\n",
      "965:\tlearn: 0.0637962\ttotal: 861ms\tremaining: 30.3ms\n",
      "966:\tlearn: 0.0637808\ttotal: 861ms\tremaining: 29.4ms\n",
      "967:\tlearn: 0.0637403\ttotal: 862ms\tremaining: 28.5ms\n",
      "968:\tlearn: 0.0636826\ttotal: 863ms\tremaining: 27.6ms\n",
      "969:\tlearn: 0.0636074\ttotal: 864ms\tremaining: 26.7ms\n",
      "970:\tlearn: 0.0635485\ttotal: 865ms\tremaining: 25.8ms\n",
      "971:\tlearn: 0.0634601\ttotal: 865ms\tremaining: 24.9ms\n",
      "972:\tlearn: 0.0633977\ttotal: 866ms\tremaining: 24ms\n"
     ]
    },
    {
     "name": "stdout",
     "output_type": "stream",
     "text": [
      "973:\tlearn: 0.0633102\ttotal: 867ms\tremaining: 23.1ms\n",
      "974:\tlearn: 0.0631991\ttotal: 868ms\tremaining: 22.3ms\n",
      "975:\tlearn: 0.0631891\ttotal: 869ms\tremaining: 21.4ms\n",
      "976:\tlearn: 0.0630552\ttotal: 870ms\tremaining: 20.5ms\n",
      "977:\tlearn: 0.0629415\ttotal: 870ms\tremaining: 19.6ms\n",
      "978:\tlearn: 0.0628940\ttotal: 871ms\tremaining: 18.7ms\n",
      "979:\tlearn: 0.0627596\ttotal: 872ms\tremaining: 17.8ms\n",
      "980:\tlearn: 0.0627500\ttotal: 873ms\tremaining: 16.9ms\n",
      "981:\tlearn: 0.0626297\ttotal: 874ms\tremaining: 16ms\n",
      "982:\tlearn: 0.0625497\ttotal: 875ms\tremaining: 15.1ms\n",
      "983:\tlearn: 0.0624975\ttotal: 875ms\tremaining: 14.2ms\n",
      "984:\tlearn: 0.0623701\ttotal: 876ms\tremaining: 13.3ms\n",
      "985:\tlearn: 0.0623067\ttotal: 877ms\tremaining: 12.5ms\n",
      "986:\tlearn: 0.0622156\ttotal: 879ms\tremaining: 11.6ms\n",
      "987:\tlearn: 0.0621346\ttotal: 880ms\tremaining: 10.7ms\n",
      "988:\tlearn: 0.0620808\ttotal: 880ms\tremaining: 9.79ms\n",
      "989:\tlearn: 0.0619625\ttotal: 881ms\tremaining: 8.9ms\n",
      "990:\tlearn: 0.0619500\ttotal: 882ms\tremaining: 8.01ms\n",
      "991:\tlearn: 0.0619234\ttotal: 883ms\tremaining: 7.12ms\n",
      "992:\tlearn: 0.0618365\ttotal: 883ms\tremaining: 6.23ms\n",
      "993:\tlearn: 0.0617818\ttotal: 884ms\tremaining: 5.34ms\n",
      "994:\tlearn: 0.0616674\ttotal: 885ms\tremaining: 4.45ms\n",
      "995:\tlearn: 0.0615849\ttotal: 886ms\tremaining: 3.56ms\n",
      "996:\tlearn: 0.0614969\ttotal: 887ms\tremaining: 2.67ms\n",
      "997:\tlearn: 0.0614102\ttotal: 888ms\tremaining: 1.78ms\n",
      "998:\tlearn: 0.0613508\ttotal: 888ms\tremaining: 889us\n",
      "999:\tlearn: 0.0611719\ttotal: 889ms\tremaining: 0us\n"
     ]
    },
    {
     "data": {
      "text/plain": [
       "<catboost.core.CatBoostRegressor at 0x7fc15b420af0>"
      ]
     },
     "execution_count": 9,
     "metadata": {},
     "output_type": "execute_result"
    }
   ],
   "source": [
    "#Train the Model \n",
    "prior_model = ctb.CatBoostRegressor()\n",
    "prior_model.fit(X_train,Y_train)"
   ]
  },
  {
   "cell_type": "code",
   "execution_count": 10,
   "id": "af65dcda",
   "metadata": {
    "execution": {
     "iopub.execute_input": "2022-06-12T04:26:43.731082Z",
     "iopub.status.busy": "2022-06-12T04:26:43.730690Z",
     "iopub.status.idle": "2022-06-12T04:26:43.737987Z",
     "shell.execute_reply": "2022-06-12T04:26:43.738233Z"
    },
    "id": "af65dcda",
    "papermill": {
     "duration": 0.021063,
     "end_time": "2022-06-12T04:26:43.738349",
     "exception": false,
     "start_time": "2022-06-12T04:26:43.717286",
     "status": "completed"
    },
    "tags": []
   },
   "outputs": [
    {
     "data": {
      "application/scrapbook.scrap.json+json": {
       "data": 0.08333882604218645,
       "encoder": "json",
       "name": "Prior Model MSE",
       "version": 1
      }
     },
     "metadata": {
      "scrapbook": {
       "data": true,
       "display": false,
       "name": "Prior Model MSE"
      }
     },
     "output_type": "display_data"
    },
    {
     "data": {
      "application/scrapbook.scrap.json+json": {
       "data": 0.09451290211952805,
       "encoder": "json",
       "name": "ABC Pre-generator MSE",
       "version": 1
      }
     },
     "metadata": {
      "scrapbook": {
       "data": true,
       "display": false,
       "name": "ABC Pre-generator MSE"
      }
     },
     "output_type": "display_data"
    },
    {
     "data": {
      "application/scrapbook.scrap.json+json": {
       "data": 0.20498248743107428,
       "encoder": "json",
       "name": "Prior Model MSE",
       "version": 1
      }
     },
     "metadata": {
      "scrapbook": {
       "data": true,
       "display": false,
       "name": "Prior Model MSE"
      }
     },
     "output_type": "display_data"
    },
    {
     "data": {
      "application/scrapbook.scrap.json+json": {
       "data": 0.22538574916569773,
       "encoder": "json",
       "name": "ABC Pre-generator MSE",
       "version": 1
      }
     },
     "metadata": {
      "scrapbook": {
       "data": true,
       "display": false,
       "name": "ABC Pre-generator MSE"
      }
     },
     "output_type": "display_data"
    }
   ],
   "source": [
    "y_pred = prior_model.predict(X_test)\n",
    "y_abc = y_pred + np.random.normal(0,variance, y_pred.shape) + bias \n",
    "mse = mean_squared_error(y_pred,Y_test)\n",
    "sb.glue(\"Prior Model MSE\",mse)\n",
    "mse = mean_squared_error(y_abc,Y_test)\n",
    "sb.glue(\"ABC Pre-generator MSE\",mse)\n",
    "mae = mean_absolute_error(y_pred,Y_test)\n",
    "sb.glue(\"Prior Model MSE\",mae)\n",
    "mae = mean_absolute_error(y_abc,Y_test)\n",
    "sb.glue(\"ABC Pre-generator MSE\",mae)"
   ]
  },
  {
   "cell_type": "markdown",
   "id": "25609da2",
   "metadata": {
    "papermill": {
     "duration": 0.010084,
     "end_time": "2022-06-12T04:26:43.758585",
     "exception": false,
     "start_time": "2022-06-12T04:26:43.748501",
     "status": "completed"
    },
    "tags": []
   },
   "source": [
    "# ABC GAN Model"
   ]
  },
  {
   "cell_type": "code",
   "execution_count": 11,
   "id": "dfc3464d",
   "metadata": {
    "execution": {
     "iopub.execute_input": "2022-06-12T04:26:43.781654Z",
     "iopub.status.busy": "2022-06-12T04:26:43.781281Z",
     "iopub.status.idle": "2022-06-12T04:26:43.783642Z",
     "shell.execute_reply": "2022-06-12T04:26:43.783893Z"
    },
    "papermill": {
     "duration": 0.01536,
     "end_time": "2022-06-12T04:26:43.784001",
     "exception": false,
     "start_time": "2022-06-12T04:26:43.768641",
     "status": "completed"
    },
    "tags": []
   },
   "outputs": [],
   "source": [
    "gen = network.Generator(n_features+1).to(device)\n",
    "disc = network.Discriminator(n_features+1).to(device)\n",
    "\n",
    "criterion = torch.nn.BCELoss()\n",
    "gen_opt = torch.optim.Adam(gen.parameters(), lr=0.001, betas=(0.5, 0.999))\n",
    "disc_opt = torch.optim.Adam(disc.parameters(), lr=0.001, betas=(0.5, 0.999))"
   ]
  },
  {
   "cell_type": "code",
   "execution_count": 12,
   "id": "b75fdd85",
   "metadata": {
    "execution": {
     "iopub.execute_input": "2022-06-12T04:26:43.806597Z",
     "iopub.status.busy": "2022-06-12T04:26:43.806232Z",
     "iopub.status.idle": "2022-06-12T04:27:44.689722Z",
     "shell.execute_reply": "2022-06-12T04:27:44.690023Z"
    },
    "papermill": {
     "duration": 60.896132,
     "end_time": "2022-06-12T04:27:44.690148",
     "exception": false,
     "start_time": "2022-06-12T04:26:43.794016",
     "status": "completed"
    },
    "tags": []
   },
   "outputs": [
    {
     "data": {
      "image/png": "[encoded data removed]",
      "text/plain": [
       "<Figure size 432x288 with 1 Axes>"
      ]
     },
     "metadata": {
      "needs_background": "light"
     },
     "output_type": "display_data"
    },
    {
     "data": {
      "image/png": "[encoded data removed]",
      "text/plain": [
       "<Figure size 432x288 with 1 Axes>"
      ]
     },
     "metadata": {
      "needs_background": "light"
     },
     "output_type": "display_data"
    }
   ],
   "source": [
    "#Training the ABC_GAN \n",
    "ABC_train_test2.training_GAN(disc,gen,disc_opt,gen_opt,train_data,batch_size,n_epochs,criterion,prior_model,variance,bias,device)"
   ]
  },
  {
   "cell_type": "code",
   "execution_count": 13,
   "id": "1fa7c368",
   "metadata": {
    "execution": {
     "iopub.execute_input": "2022-06-12T04:27:44.715502Z",
     "iopub.status.busy": "2022-06-12T04:27:44.715110Z",
     "iopub.status.idle": "2022-06-12T04:27:45.022672Z",
     "shell.execute_reply": "2022-06-12T04:27:45.023086Z"
    },
    "papermill": {
     "duration": 0.322077,
     "end_time": "2022-06-12T04:27:45.023212",
     "exception": false,
     "start_time": "2022-06-12T04:27:44.701135",
     "status": "completed"
    },
    "tags": []
   },
   "outputs": [
    {
     "data": {
      "application/scrapbook.scrap.json+json": {
       "data": 0.10403803912067558,
       "encoder": "json",
       "name": "ABC-GAN Model 1 MSE",
       "version": 1
      }
     },
     "metadata": {
      "scrapbook": {
       "data": true,
       "display": false,
       "name": "ABC-GAN Model 1 MSE"
      }
     },
     "output_type": "display_data"
    },
    {
     "data": {
      "application/scrapbook.scrap.json+json": {
       "data": 0.22763948117839355,
       "encoder": "json",
       "name": "ABC-GAN Model 1 MAE",
       "version": 1
      }
     },
     "metadata": {
      "scrapbook": {
       "data": true,
       "display": false,
       "name": "ABC-GAN Model 1 MAE"
      }
     },
     "output_type": "display_data"
    },
    {
     "data": {
      "application/scrapbook.scrap.json+json": {
       "data": 23.21922708019614,
       "encoder": "json",
       "name": "ABC-GAN Model 1 Manhattan Distance",
       "version": 1
      }
     },
     "metadata": {
      "scrapbook": {
       "data": true,
       "display": false,
       "name": "ABC-GAN Model 1 Manhattan Distance"
      }
     },
     "output_type": "display_data"
    },
    {
     "data": {
      "application/scrapbook.scrap.json+json": {
       "data": 3.2575669475438374,
       "encoder": "json",
       "name": "ABC-GAN Model 1 Euclidean distance",
       "version": 1
      }
     },
     "metadata": {
      "scrapbook": {
       "data": true,
       "display": false,
       "name": "ABC-GAN Model 1 Euclidean distance"
      }
     },
     "output_type": "display_data"
    },
    {
     "data": {
      "application/scrapbook.scrap.json+json": {
       "data": [
        [
         0.1027440823298769,
         0.10470983109615217,
         0.10399570181225583,
         0.10352772020417811,
         0.10330509907510321,
         0.1044276791838961,
         0.10436874793835764,
         0.1042547544092557,
         0.10375621351527232,
         0.10439449654907967,
         0.10405223537599366,
         0.10488939779950678,
         0.10351377635711867,
         0.10435067565216379,
         0.10354691178712017,
         0.10278187641681305,
         0.10383742026947437,
         0.1034354972808285,
         0.1033121395217448,
         0.10321113069494542,
         0.1040428225636605,
         0.10403272788223769,
         0.10442615856713297,
         0.10614807069145198,
         0.10376597707348581,
         0.10344418854415967,
         0.10354731057640165,
         0.1039130836285279,
         0.10494365909011484,
         0.10405189352020326,
         0.10322218159508051,
         0.10411021020276837,
         0.10389337999087891,
         0.10373036382642965,
         0.10361032337163295,
         0.10460523754017714,
         0.10458392719699575,
         0.10467357744931176,
         0.10411560682534604,
         0.10479978479063753,
         0.1038194842669224,
         0.10576360106961637,
         0.1025874524787218,
         0.10456088034827708,
         0.10451381319286349,
         0.10440762508808099,
         0.10239228878555866,
         0.10345904066130354,
         0.10415983423564985,
         0.10480146800858689,
         0.10409962486945584,
         0.10364080005341686,
         0.10348046384837162,
         0.104210543328886,
         0.10478199452282289,
         0.10369582398926103,
         0.10462562061142153,
         0.10386351922836726,
         0.10292395195416607,
         0.10358324517449684,
         0.10357849837664299,
         0.1038533857961486,
         0.1056361765725136,
         0.10425144825582609,
         0.10252035195272761,
         0.10372742970921621,
         0.10278637948495503,
         0.10374006094018141,
         0.10343429311590992,
         0.10438061046107819,
         0.10481907090828463,
         0.10420156624478438,
         0.10411938749715591,
         0.10331064062708845,
         0.103676657033441,
         0.1048332810144245,
         0.1046938247211993,
         0.10485582678040205,
         0.10428361818465132,
         0.10392534433175492,
         0.10367918502624307,
         0.10478104061752581,
         0.10257566561466833,
         0.1041327245819748,
         0.10292098559748664,
         0.10529812105761745,
         0.10344730729535681,
         0.10526263577147302,
         0.10431625572927879,
         0.10388928369492022,
         0.1058453896657541,
         0.1030581738145379,
         0.10324894999189162,
         0.10372253248804332,
         0.1043672475084791,
         0.10412112530883467,
         0.1046410985877142,
         0.10590953172563625,
         0.10424689909221098,
         0.10426495897750587
        ],
        [
         0.2255138179433404,
         0.2276259344984211,
         0.22908811535978435,
         0.22700363498035014,
         0.22778748565663895,
         0.22870049638418005,
         0.2279725524907311,
         0.22718405349216625,
         0.22731172371947883,
         0.2271881711797095,
         0.22818623240306682,
         0.22963226687017024,
         0.22724189519809157,
         0.228487839283166,
         0.22739473571453026,
         0.22678238231980918,
         0.2273842094685225,
         0.22648560370811643,
         0.22765017938161014,
         0.22718300296030208,
         0.22710913034411623,
         0.22865976066346846,
         0.22751981467373816,
         0.23102880629035188,
         0.22766255764473303,
         0.2266675166457015,
         0.227037299113969,
         0.227041872601737,
         0.22974534046050965,
         0.22726768494455837,
         0.22682553915051268,
         0.22893515347923135,
         0.22698560815450608,
         0.22626220297944896,
         0.22632622019406043,
         0.22737134680809343,
         0.22632585460429683,
         0.22904024676730236,
         0.2288350333441414,
         0.22823116451720982,
         0.2269548270303537,
         0.22796529872963825,
         0.22622356149276682,
         0.2285139747877039,
         0.22748543086516507,
         0.22918546117623062,
         0.22599803449987782,
         0.2272354847769819,
         0.22763275433623908,
         0.22869860915941934,
         0.22875093356432283,
         0.22669050891828887,
         0.2278651214734304,
         0.227628236764348,
         0.22926597850506797,
         0.22714914175152195,
         0.2275849798621208,
         0.22705384710913196,
         0.22732322935161053,
         0.22812692724241346,
         0.22730263032238274,
         0.22721451303611198,
         0.2295611149576657,
         0.22839667131284289,
         0.22547645766434132,
         0.22857908975771246,
         0.22538804129569553,
         0.22637915642311177,
         0.227594083887251,
         0.2267043899343002,
         0.22834440592822491,
         0.2270907954878959,
         0.22876862073134557,
         0.2274268931873581,
         0.2275182892038834,
         0.22734505929710233,
         0.2295570393074669,
         0.22874014694974118,
         0.2278554655209768,
         0.22788431194117842,
         0.22643670649724265,
         0.22799587689851428,
         0.22571474195037985,
         0.2292944428273568,
         0.22588004243067084,
         0.22641111649207624,
         0.22580169143118695,
         0.22937448521820353,
         0.22829692629987702,
         0.22814254106625037,
         0.2297475188422729,
         0.22628134311925546,
         0.22766707368268102,
         0.22573069674784646,
         0.22669774467381193,
         0.22645507743764742,
         0.22825600449726277,
         0.23053415231041463,
         0.22928011422867284,
         0.22680781725063628
        ],
        [
         23.002409430220723,
         23.217845318838954,
         23.366987766698003,
         23.154370767995715,
         23.234323536977172,
         23.327450631186366,
         23.25320035405457,
         23.172773456200957,
         23.18579581938684,
         23.173193460330367,
         23.274995705112815,
         23.422491220757365,
         23.17867331020534,
         23.30575960688293,
         23.194263042882085,
         23.131802996620536,
         23.193189365789294,
         23.101531578227878,
         23.220318296924233,
         23.172666301950812,
         23.165131295099854,
         23.323295587673783,
         23.20702109672129,
         23.56493824161589,
         23.22158087976277,
         23.120086697861552,
         23.15780450962484,
         23.158271005377173,
         23.434024726971984,
         23.181303864344954,
         23.136204993352294,
         23.351385654881597,
         23.15253203175962,
         23.078744703903794,
         23.085274459794164,
         23.19187737442553,
         23.085237169638276,
         23.36210517026484,
         23.341173401102424,
         23.2795787807554,
         23.149392357096076,
         23.252460470423102,
         23.074803272262216,
         23.3084254283458,
         23.203513948246837,
         23.376917039975524,
         23.051799518987536,
         23.178019447252154,
         23.218540942296386,
         23.327258134260774,
         23.33259522356093,
         23.122431909665465,
         23.242242390289903,
         23.218080149963498,
         23.385129807516932,
         23.169212458655238,
         23.213667945936322,
         23.15949240513146,
         23.186969393864274,
         23.268946578726172,
         23.18486829288304,
         23.175880329683423,
         23.4152337256819,
         23.296460473909974,
         22.998598681762815,
         23.31506715528667,
         22.989580212160945,
         23.0906739551574,
         23.2145965564996,
         23.12384777329862,
         23.29112940467894,
         23.163261139765382,
         23.33439931459725,
         23.197543105110526,
         23.206865498796105,
         23.18919604830444,
         23.414818009361625,
         23.3314949888736,
         23.241257483139634,
         23.244199818000197,
         23.09654406271875,
         23.255579443648458,
         23.022903678938746,
         23.388033168390393,
         23.039764327928424,
         23.093933882191777,
         23.03177252598107,
         23.39619749225676,
         23.286286482587457,
         23.27053918875754,
         23.434246921911836,
         23.080696998164058,
         23.222041515633464,
         23.02453106828034,
         23.123169956728816,
         23.098417898640037,
         23.282112458720803,
         23.514483535662293,
         23.38657165132463,
         23.1343973595649
        ],
        [
         3.2372668097713913,
         3.268088550178456,
         3.2569251733575486,
         3.249588814115744,
         3.2460930525264557,
         3.263682471803499,
         3.262761451548746,
         3.2609791397284464,
         3.25317287867672,
         3.263163901492863,
         3.2578103088349617,
         3.2708895694519695,
         3.2493699679208743,
         3.262478952655588,
         3.249889998490142,
         3.2378621642242473,
         3.2544457081792557,
         3.2481411180311275,
         3.2462036644699244,
         3.2446163611256775,
         3.2576629508734274,
         3.2575049108156757,
         3.263658709768465,
         3.290456383319508,
         3.2533259384045046,
         3.2482775791955163,
         3.2498962566200427,
         3.2556312030249743,
         3.2717355069124574,
         3.257804957185241,
         3.244790058339401,
         3.2587177602060557,
         3.255322527656768,
         3.252767607791221,
         3.2508849539635447,
         3.266455912621211,
         3.2661231719109374,
         3.267522746643059,
         3.258802218022029,
         3.269492016911041,
         3.2541646232521932,
         3.2844919407879307,
         3.2347983171798553,
         3.2657632791622024,
         3.2650281692003933,
         3.2633690810241274,
         3.2317198913468634,
         3.2485107584019115,
         3.2594943000466015,
         3.2695182729074728,
         3.258552092062438,
         3.251363038088567,
         3.2488470743532853,
         3.2602876283460587,
         3.269214499130935,
         3.2522260141178108,
         3.266774143151773,
         3.2548546759100407,
         3.2400992422030748,
         3.2504601224747662,
         3.2503856439532806,
         3.254695892277365,
         3.282512758603747,
         3.2609274328163544,
         3.2337402337198045,
         3.2527216035713926,
         3.23793309187596,
         3.2529196448572937,
         3.248122211035603,
         3.262946868557619,
         3.2697928424664813,
         3.26014719866573,
         3.2588613847032364,
         3.246180115761141,
         3.251925432326359,
         3.2700144745048605,
         3.267838753910959,
         3.2703660852572765,
         3.2614305227667253,
         3.2558232632990087,
         3.2519650786373444,
         3.269199618100374,
         3.234612479524582,
         3.2590700985651457,
         3.240052550645381,
         3.277256222494204,
         3.248326545180824,
         3.2767039611002775,
         3.2619408462426827,
         3.2552583517874365,
         3.285761669066537,
         3.2422112406632086,
         3.245210763444024,
         3.2526448182641183,
         3.2627379983481464,
         3.2588885807129304,
         3.2670157722219297,
         3.2867571002456044,
         3.2608562843838307,
         3.261138729907944
        ]
       ],
       "encoder": "json",
       "name": "ABC_GAN_1 Metrics",
       "version": 1
      }
     },
     "metadata": {
      "scrapbook": {
       "data": true,
       "display": false,
       "name": "ABC_GAN_1 Metrics"
      }
     },
     "output_type": "display_data"
    },
    {
     "name": "stdout",
     "output_type": "stream",
     "text": [
      "MSE\n",
      "0.10403803912067558\n"
     ]
    }
   ],
   "source": [
    "ABC_GAN1_metrics=ABC_train_test2.test_generator(gen,test_data,prior_model,variance,bias,\"1\",device)\n",
    "sb.glue(\"ABC_GAN_1 Metrics\",ABC_GAN1_metrics)\n",
    "\n",
    "print(\"MSE\")\n",
    "print(mean(ABC_GAN1_metrics[0]))"
   ]
  },
  {
   "cell_type": "code",
   "execution_count": 14,
   "id": "eb22ce5c",
   "metadata": {
    "execution": {
     "iopub.execute_input": "2022-06-12T04:27:45.051927Z",
     "iopub.status.busy": "2022-06-12T04:27:45.051549Z",
     "iopub.status.idle": "2022-06-12T04:27:45.374237Z",
     "shell.execute_reply": "2022-06-12T04:27:45.374531Z"
    },
    "papermill": {
     "duration": 0.33855,
     "end_time": "2022-06-12T04:27:45.374653",
     "exception": false,
     "start_time": "2022-06-12T04:27:45.036103",
     "status": "completed"
    },
    "tags": []
   },
   "outputs": [
    {
     "data": {
      "image/png": "[encoded data removed]",
      "text/plain": [
       "<Figure size 432x288 with 1 Axes>"
      ]
     },
     "metadata": {
      "needs_background": "light"
     },
     "output_type": "display_data"
    },
    {
     "data": {
      "image/png": "[encoded data removed]",
      "text/plain": [
       "<Figure size 432x288 with 1 Axes>"
      ]
     },
     "metadata": {
      "needs_background": "light"
     },
     "output_type": "display_data"
    },
    {
     "data": {
      "image/png": "[encoded data removed]",
      "text/plain": [
       "<Figure size 432x288 with 1 Axes>"
      ]
     },
     "metadata": {
      "needs_background": "light"
     },
     "output_type": "display_data"
    },
    {
     "data": {
      "image/png": "[encoded data removed]",
      "text/plain": [
       "<Figure size 432x288 with 1 Axes>"
      ]
     },
     "metadata": {
      "needs_background": "light"
     },
     "output_type": "display_data"
    }
   ],
   "source": [
    "sanityChecks.discProbVsError(train_data,disc,device)\n",
    "sanityChecks.discProbVsError(test_data,disc,device)"
   ]
  },
  {
   "cell_type": "markdown",
   "id": "130f3a4d",
   "metadata": {
    "id": "130f3a4d",
    "papermill": {
     "duration": 0.014575,
     "end_time": "2022-06-12T04:27:45.404283",
     "exception": false,
     "start_time": "2022-06-12T04:27:45.389708",
     "status": "completed"
    },
    "tags": []
   },
   "source": [
    "# ABC - GAN Model with skip connection"
   ]
  },
  {
   "cell_type": "code",
   "execution_count": 15,
   "id": "4e43dad1",
   "metadata": {
    "execution": {
     "iopub.execute_input": "2022-06-12T04:27:45.438066Z",
     "iopub.status.busy": "2022-06-12T04:27:45.437680Z",
     "iopub.status.idle": "2022-06-12T04:27:45.440023Z",
     "shell.execute_reply": "2022-06-12T04:27:45.440325Z"
    },
    "id": "4e43dad1",
    "papermill": {
     "duration": 0.021129,
     "end_time": "2022-06-12T04:27:45.440438",
     "exception": false,
     "start_time": "2022-06-12T04:27:45.419309",
     "status": "completed"
    },
    "tags": []
   },
   "outputs": [],
   "source": [
    "#Generator\n",
    "gen3 = network.GeneratorWithSkipConnection(n_features+1).to(device)\n",
    "constraints=network.weightConstraint()\n",
    "#Discriminator \n",
    "disc3 = network.Discriminator(n_features+1).to(device)\n",
    "\n",
    "criterion = torch.nn.BCELoss()\n",
    "gen_opt = torch.optim.Adam(gen3.parameters(), lr=0.001, betas=(0.5, 0.999))\n",
    "disc_opt = torch.optim.Adam(disc3.parameters(), lr=0.001, betas=(0.5, 0.999))\n"
   ]
  },
  {
   "cell_type": "code",
   "execution_count": 16,
   "id": "26acbc37",
   "metadata": {
    "execution": {
     "iopub.execute_input": "2022-06-12T04:27:45.472888Z",
     "iopub.status.busy": "2022-06-12T04:27:45.472521Z",
     "iopub.status.idle": "2022-06-12T04:30:39.087819Z",
     "shell.execute_reply": "2022-06-12T04:30:39.088181Z"
    },
    "id": "26acbc37",
    "papermill": {
     "duration": 173.632727,
     "end_time": "2022-06-12T04:30:39.088303",
     "exception": false,
     "start_time": "2022-06-12T04:27:45.455576",
     "status": "completed"
    },
    "tags": []
   },
   "outputs": [
    {
     "data": {
      "image/png": "[encoded data removed]",
      "text/plain": [
       "<Figure size 432x288 with 1 Axes>"
      ]
     },
     "metadata": {
      "needs_background": "light"
     },
     "output_type": "display_data"
    },
    {
     "data": {
      "image/png": "[encoded data removed]",
      "text/plain": [
       "<Figure size 432x288 with 1 Axes>"
      ]
     },
     "metadata": {
      "needs_background": "light"
     },
     "output_type": "display_data"
    }
   ],
   "source": [
    "ABC_train_test2.training_GAN_skip_connection(disc3,gen3,disc_opt,gen_opt,train_data,batch_size,n_epochs,criterion,prior_model,variance,bias,device)"
   ]
  },
  {
   "cell_type": "code",
   "execution_count": 17,
   "id": "c5e0717b",
   "metadata": {
    "execution": {
     "iopub.execute_input": "2022-06-12T04:30:39.122858Z",
     "iopub.status.busy": "2022-06-12T04:30:39.122466Z",
     "iopub.status.idle": "2022-06-12T04:30:39.954488Z",
     "shell.execute_reply": "2022-06-12T04:30:39.954804Z"
    },
    "id": "c5e0717b",
    "papermill": {
     "duration": 0.850937,
     "end_time": "2022-06-12T04:30:39.954930",
     "exception": false,
     "start_time": "2022-06-12T04:30:39.103993",
     "status": "completed"
    },
    "tags": []
   },
   "outputs": [
    {
     "data": {
      "application/scrapbook.scrap.json+json": {
       "data": 0.09444501864050868,
       "encoder": "json",
       "name": "ABC-GAN Model 3 MSE",
       "version": 1
      }
     },
     "metadata": {
      "scrapbook": {
       "data": true,
       "display": false,
       "name": "ABC-GAN Model 3 MSE"
      }
     },
     "output_type": "display_data"
    },
    {
     "data": {
      "application/scrapbook.scrap.json+json": {
       "data": 0.226474999385919,
       "encoder": "json",
       "name": "ABC-GAN Model 3 MAE",
       "version": 1
      }
     },
     "metadata": {
      "scrapbook": {
       "data": true,
       "display": false,
       "name": "ABC-GAN Model 3 MAE"
      }
     },
     "output_type": "display_data"
    },
    {
     "data": {
      "application/scrapbook.scrap.json+json": {
       "data": 23.100449937363738,
       "encoder": "json",
       "name": "ABC-GAN Model 3 Manhattan Distance",
       "version": 1
      }
     },
     "metadata": {
      "scrapbook": {
       "data": true,
       "display": false,
       "name": "ABC-GAN Model 3 Manhattan Distance"
      }
     },
     "output_type": "display_data"
    },
    {
     "data": {
      "application/scrapbook.scrap.json+json": {
       "data": 3.103757118327509,
       "encoder": "json",
       "name": "ABC-GAN Model 3 Euclidean distance",
       "version": 1
      }
     },
     "metadata": {
      "scrapbook": {
       "data": true,
       "display": false,
       "name": "ABC-GAN Model 3 Euclidean distance"
      }
     },
     "output_type": "display_data"
    },
    {
     "data": {
      "application/scrapbook.scrap.json+json": {
       "data": [
        [
         0.09475109619314577,
         0.09536308941837225,
         0.09380561900223038,
         0.09417504983803816,
         0.09406129131466144,
         0.09488873299642933,
         0.0941824641203698,
         0.09364981140529628,
         0.09329670048492096,
         0.09540935917847479,
         0.09395664870761643,
         0.09463688142001385,
         0.09494362853594329,
         0.09496099636753995,
         0.09404463941660957,
         0.09540031685509398,
         0.09487599815813891,
         0.09466856026573961,
         0.09387110037540217,
         0.09496641296637649,
         0.0937394509859664,
         0.09525805448261707,
         0.09411336926233103,
         0.0957955839686762,
         0.0936898571465865,
         0.09437582783329834,
         0.09406755887475235,
         0.09443284820810267,
         0.09459621704831839,
         0.09493519236906212,
         0.0947574380610343,
         0.09481143263363322,
         0.09504552708011926,
         0.0940730004238103,
         0.0948661432666719,
         0.09408112801326393,
         0.09413986727711432,
         0.0943925553902067,
         0.09428771220893555,
         0.09466023705099826,
         0.09422953161098599,
         0.09389460518795448,
         0.09412834277979741,
         0.09427930192783099,
         0.09430586209097619,
         0.09459326021227774,
         0.09438201294712181,
         0.09504761103112809,
         0.09535536321781475,
         0.09483930646176268,
         0.09519465007975715,
         0.0947706216304276,
         0.09475694479290314,
         0.0943614002669842,
         0.0941850148716388,
         0.0938952075679433,
         0.09563860137069444,
         0.09442668844726082,
         0.09447306749230218,
         0.0934687512645978,
         0.09443931562270584,
         0.09430902943171597,
         0.09483668742257383,
         0.09508604014602433,
         0.09477639928607592,
         0.09397030341101356,
         0.09372850685566984,
         0.0943683068411019,
         0.0950542395165622,
         0.09397413149250543,
         0.09549523693231204,
         0.09513561870449873,
         0.09409605259771707,
         0.09376773808662701,
         0.09399597652511643,
         0.09450743303646655,
         0.09533623805950688,
         0.09520609074026344,
         0.0940886551024049,
         0.09429021954138697,
         0.09393432249308076,
         0.09360492725586494,
         0.09380351491008702,
         0.09493670862381519,
         0.09447803739962639,
         0.0953189052526203,
         0.09348896501209471,
         0.09502700557065845,
         0.09392192020421701,
         0.09448199264738048,
         0.09445061060850501,
         0.09465832993631974,
         0.09398006621627256,
         0.09418241864286211,
         0.09375541930557667,
         0.09421928191264302,
         0.09321440893765989,
         0.09374987730105594,
         0.09458825490235184,
         0.09399113370785465
        ],
        [
         0.2260745537590564,
         0.22653249545278503,
         0.22565671412602945,
         0.2258059164850434,
         0.22692428177733923,
         0.2279537440158938,
         0.22587527878874658,
         0.22483639530928842,
         0.2251120223983319,
         0.22811416496394896,
         0.22769733364054678,
         0.22742535277068907,
         0.2269888086901868,
         0.22793844316666032,
         0.2260524629268284,
         0.22760053513818146,
         0.22693091839570187,
         0.22581251399299385,
         0.22601478176154927,
         0.22655335780890548,
         0.22557911778088002,
         0.22849254481330075,
         0.2265500821556677,
         0.2272033130033307,
         0.22570876186649663,
         0.22615807724422685,
         0.227545698595635,
         0.22720553615534514,
         0.22605433246787346,
         0.22585641809364818,
         0.2258672211867045,
         0.22642231919327935,
         0.2265690763654443,
         0.2263763286355956,
         0.22632982071452573,
         0.22694448758756705,
         0.22730915367776783,
         0.22736553577523605,
         0.22524033044464886,
         0.22772513644646525,
         0.22668187280970753,
         0.22478227924519018,
         0.226455450811259,
         0.22644593773921037,
         0.22628665429667807,
         0.22772904807774752,
         0.22582104655128776,
         0.2273483871500574,
         0.22776566085453584,
         0.22735462848133609,
         0.22591605100452022,
         0.22650300646566002,
         0.22644061638115376,
         0.22626585111606354,
         0.22697615576907992,
         0.22641433202022432,
         0.22879897081293166,
         0.22613766981179223,
         0.2272216622471152,
         0.22481431809308774,
         0.22648179314701872,
         0.2254126175105864,
         0.22637688442973383,
         0.2266778341841464,
         0.22749600151334615,
         0.22666288043974953,
         0.22662084059351506,
         0.22556856806463033,
         0.2279709774347972,
         0.22597700269783244,
         0.2272256478740304,
         0.22691216464976177,
         0.22669272093723217,
         0.22571124453736724,
         0.22476572327900166,
         0.22683986474979012,
         0.22708904985155837,
         0.2277300399454201,
         0.22531675831779985,
         0.22581763748152583,
         0.22592508003992193,
         0.2255328008722441,
         0.2254103871482406,
         0.2265205063364085,
         0.22631538060365938,
         0.2272029843035282,
         0.22513997252099216,
         0.22756413891957158,
         0.22612222683314673,
         0.22607709611674734,
         0.22661442051221634,
         0.22620021210704913,
         0.2255943065016147,
         0.22589974107640778,
         0.22546926343484835,
         0.22658826547729619,
         0.22709251041798031,
         0.22514919830741836,
         0.22619792385318993,
         0.22497430425959036
        ],
        [
         23.059604483423755,
         23.106314536184072,
         23.016984840855002,
         23.032203481474426,
         23.146276741288602,
         23.25128188962117,
         23.03927843645215,
         22.93331232154742,
         22.96142628462985,
         23.267644826322794,
         23.22512803133577,
         23.197385982610285,
         23.152858486399055,
         23.249721202999353,
         23.057351218536496,
         23.21525458409451,
         23.14695367636159,
         23.032876427285373,
         23.053507739678025,
         23.10844249650836,
         23.00907001364976,
         23.306239570956677,
         23.108108379878104,
         23.17473792633973,
         23.022293710382655,
         23.068123878911138,
         23.20966125675477,
         23.174964687845204,
         23.057541911723092,
         23.037354645552114,
         23.03845656104386,
         23.095076557714492,
         23.11004578927532,
         23.09038552083075,
         23.085641712881625,
         23.14833773393184,
         23.18553367513232,
         23.191284649074078,
         22.974513705354184,
         23.227963917539455,
         23.12155102659017,
         22.927792483009398,
         23.09845598274842,
         23.09748564939946,
         23.081238738261163,
         23.228362903930247,
         23.03374674823135,
         23.189535489305854,
         23.232097407162655,
         23.19017210509628,
         23.043437202461064,
         23.10330665949732,
         23.096942870877683,
         23.079116813838482,
         23.151567888446152,
         23.09426186606288,
         23.33749502291903,
         23.066042320802808,
         23.17660954920575,
         22.93106044549495,
         23.10114290099591,
         22.992086986079812,
         23.09044221183285,
         23.121139086782932,
         23.204592154361308,
         23.119613804854453,
         23.115325740538538,
         23.007993942592293,
         23.253039698349312,
         23.04965427517891,
         23.177016083151102,
         23.1450407942757,
         23.122657535597682,
         23.02254694281146,
         22.92610377445817,
         23.13766620447859,
         23.163083084858954,
         23.22846407443285,
         22.982309348415583,
         23.033399023115635,
         23.044358164072037,
         23.004345688968897,
         22.991859489120543,
         23.105091646313667,
         23.084168821573257,
         23.174704398959875,
         22.9642771971412,
         23.211542169796303,
         23.064467136980966,
         23.05986380390823,
         23.114670892246068,
         23.07242163491901,
         23.0106192631647,
         23.041773589793593,
         22.997864870354533,
         23.11200307868421,
         23.16343606263399,
         22.965218227356672,
         23.072188233025372,
         22.947379034478217
        ],
        [
         3.108795878101499,
         3.1188195075499263,
         3.093246375287216,
         3.0993313929749253,
         3.0974589124144107,
         3.1110529994900107,
         3.0994533937902204,
         3.090676424885048,
         3.084844153188608,
         3.1195760346887567,
         3.0957354809765123,
         3.1069216122782066,
         3.1119527809184726,
         3.1122373992819163,
         3.0971847249549342,
         3.1194282038892296,
         3.11084422820079,
         3.107441575815294,
         3.0943258132089158,
         3.1123261594136302,
         3.092155235522397,
         3.1171014672652126,
         3.098316262868877,
         3.1258838053908797,
         3.0913371587311245,
         3.1026334683614225,
         3.097562106758271,
         3.103570607739813,
         3.106254036444617,
         3.111814522371848,
         3.10889991511877,
         3.109785543832659,
         3.1136222895804435,
         3.097651698178581,
         3.1106826603175923,
         3.0977855086098067,
         3.0987524041564956,
         3.1029084178881408,
         3.1011847164126527,
         3.1073049704208024,
         3.1002277697486305,
         3.094713190131091,
         3.0985627254485806,
         3.1010464034965297,
         3.101483182814243,
         3.106205489283078,
         3.1027351354259074,
         3.113656423752477,
         3.1186931635249238,
         3.1102426366924805,
         3.116063912716687,
         3.109116177678733,
         3.1088918232830363,
         3.1023963040257097,
         3.099495364879121,
         3.094723117167385,
         3.123321523604452,
         3.103469384675899,
         3.1042314482355886,
         3.087687262173579,
         3.1036768829109764,
         3.1015352653218415,
         3.1101996908723604,
         3.1142858081580247,
         3.109210949289183,
         3.0959604241532834,
         3.0919747248770193,
         3.102509838468267,
         3.1137649928485844,
         3.096023483799106,
         3.1209796806605175,
         3.115097608078897,
         3.098031207874953,
         3.092621749395802,
         3.096383310503058,
         3.104795994863364,
         3.1183803940619077,
         3.1162511541124003,
         3.0979094274115404,
         3.1012259500432195,
         3.095367650909054,
         3.0899356919033485,
         3.09321168380518,
         3.1118393724016578,
         3.1043130987002407,
         3.118096909296962,
         3.0880211189746842,
         3.1133188992146565,
         3.095163301157168,
         3.104378077817328,
         3.1038624779567003,
         3.1072736689105147,
         3.096121243436665,
         3.0994526454798326,
         3.092418595398886,
         3.100059153482331,
         3.0834833730119753,
         3.0923271956097573,
         3.1061233072819063,
         3.0963035442606683
        ]
       ],
       "encoder": "json",
       "name": "ABC_GAN_3 Metrics",
       "version": 1
      }
     },
     "metadata": {
      "scrapbook": {
       "data": true,
       "display": false,
       "name": "ABC_GAN_3 Metrics"
      }
     },
     "output_type": "display_data"
    },
    {
     "name": "stdout",
     "output_type": "stream",
     "text": [
      "MSE\n",
      "0.09444501864050868\n"
     ]
    }
   ],
   "source": [
    "ABC_GAN3_metrics=ABC_train_test2.test_generator(gen3,test_data,prior_model,variance,bias,\"3\",device)\n",
    "sb.glue(\"ABC_GAN_3 Metrics\",ABC_GAN3_metrics)\n",
    "\n",
    "print(\"MSE\")\n",
    "print(mean(ABC_GAN3_metrics[0]))"
   ]
  },
  {
   "cell_type": "code",
   "execution_count": 18,
   "id": "c8e46b48",
   "metadata": {
    "execution": {
     "iopub.execute_input": "2022-06-12T04:30:39.993015Z",
     "iopub.status.busy": "2022-06-12T04:30:39.992493Z",
     "iopub.status.idle": "2022-06-12T04:30:40.309106Z",
     "shell.execute_reply": "2022-06-12T04:30:40.309397Z"
    },
    "id": "c8e46b48",
    "papermill": {
     "duration": 0.337021,
     "end_time": "2022-06-12T04:30:40.309520",
     "exception": false,
     "start_time": "2022-06-12T04:30:39.972499",
     "status": "completed"
    },
    "tags": []
   },
   "outputs": [
    {
     "data": {
      "image/png": "[encoded data removed]",
      "text/plain": [
       "<Figure size 432x288 with 1 Axes>"
      ]
     },
     "metadata": {
      "needs_background": "light"
     },
     "output_type": "display_data"
    },
    {
     "data": {
      "image/png": "[encoded data removed]",
      "text/plain": [
       "<Figure size 432x288 with 1 Axes>"
      ]
     },
     "metadata": {
      "needs_background": "light"
     },
     "output_type": "display_data"
    },
    {
     "data": {
      "image/png": "[encoded data removed]",
      "text/plain": [
       "<Figure size 432x288 with 1 Axes>"
      ]
     },
     "metadata": {
      "needs_background": "light"
     },
     "output_type": "display_data"
    },
    {
     "data": {
      "image/png": "[encoded data removed]",
      "text/plain": [
       "<Figure size 432x288 with 1 Axes>"
      ]
     },
     "metadata": {
      "needs_background": "light"
     },
     "output_type": "display_data"
    }
   ],
   "source": [
    "sanityChecks.discProbVsError(train_data,disc3,device)\n",
    "sanityChecks.discProbVsError(test_data,disc3,device)"
   ]
  },
  {
   "cell_type": "markdown",
   "id": "a5bd74c3",
   "metadata": {
    "id": "a5bd74c3",
    "papermill": {
     "duration": 0.020342,
     "end_time": "2022-06-12T04:30:40.349638",
     "exception": false,
     "start_time": "2022-06-12T04:30:40.329296",
     "status": "completed"
    },
    "tags": []
   },
   "source": [
    "## Skip Connection Model Analysis - ABC-GAN "
   ]
  },
  {
   "cell_type": "markdown",
   "id": "5744a8bf",
   "metadata": {
    "id": "5744a8bf",
    "papermill": {
     "duration": 0.019454,
     "end_time": "2022-06-12T04:30:40.388741",
     "exception": false,
     "start_time": "2022-06-12T04:30:40.369287",
     "status": "completed"
    },
    "tags": []
   },
   "source": [
    "### Weight Analysis \n",
    "\n",
    "Study the weights of the skip connection layer\n",
    "\n",
    "Equation of the skip connection is \n",
    "\n",
    "$output = y_{gan} * w + y_{abc} * (1-w)$"
   ]
  },
  {
   "cell_type": "code",
   "execution_count": 19,
   "id": "52c31dea",
   "metadata": {
    "execution": {
     "iopub.execute_input": "2022-06-12T04:30:40.430141Z",
     "iopub.status.busy": "2022-06-12T04:30:40.429761Z",
     "iopub.status.idle": "2022-06-12T04:30:40.432925Z",
     "shell.execute_reply": "2022-06-12T04:30:40.433159Z"
    },
    "id": "52c31dea",
    "papermill": {
     "duration": 0.025251,
     "end_time": "2022-06-12T04:30:40.433272",
     "exception": false,
     "start_time": "2022-06-12T04:30:40.408021",
     "status": "completed"
    },
    "tags": []
   },
   "outputs": [
    {
     "name": "stdout",
     "output_type": "stream",
     "text": [
      "Weight of the node at skip connection\n",
      "Parameter containing:\n",
      "tensor([[0.]], requires_grad=True)\n"
     ]
    },
    {
     "data": {
      "application/scrapbook.scrap.json+json": {
       "data": 0.0,
       "encoder": "json",
       "name": "Skip Connection Weight",
       "version": 1
      }
     },
     "metadata": {
      "scrapbook": {
       "data": true,
       "display": false,
       "name": "Skip Connection Weight"
      }
     },
     "output_type": "display_data"
    }
   ],
   "source": [
    "print(\"Weight of the node at skip connection\")\n",
    "for name,param in gen3.named_parameters():\n",
    "    if(name == \"skipNode.weight\"):\n",
    "        print(param)\n",
    "        sb.glue(\"Skip Connection Weight\",param.item())"
   ]
  }
 ],
 "metadata": {
  "colab": {
   "collapsed_sections": [],
   "name": "ABC_GAN_Model-Catboost_Pre-gen.ipynb",
   "provenance": []
  },
  "interpreter": {
   "hash": "31f2aee4e71d21fbe5cf8b01ff0e069b9275f58929596ceb00d14d90e3e16cd6"
  },
  "kernelspec": {
   "display_name": "Python 3 (ipykernel)",
   "language": "python",
   "name": "python3"
  },
  "language_info": {
   "codemirror_mode": {
    "name": "ipython",
    "version": 3
   },
   "file_extension": ".py",
   "mimetype": "text/x-python",
   "name": "python",
   "nbconvert_exporter": "python",
   "pygments_lexer": "ipython3",
   "version": "3.8.11"
  },
  "papermill": {
   "default_parameters": {},
   "duration": 241.067275,
   "end_time": "2022-06-12T04:30:40.760828",
   "environment_variables": {},
   "exception": null,
   "input_path": "ABC_GAN-Catboost.ipynb",
   "output_path": "./ABC_GAN_Catboost/ABC-GAN_output_4_5.ipynb",
   "parameters": {
    "bias": 0.1,
    "variance": 0.01
   },
   "start_time": "2022-06-12T04:26:39.693553",
   "version": "2.3.3"
  }
 },
 "nbformat": 4,
 "nbformat_minor": 5
}