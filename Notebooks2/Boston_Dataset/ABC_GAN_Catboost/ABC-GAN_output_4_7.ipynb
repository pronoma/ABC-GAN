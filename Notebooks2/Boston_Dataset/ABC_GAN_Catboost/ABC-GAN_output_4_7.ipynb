{
 "cells": [
  {
   "cell_type": "markdown",
   "id": "622780e6",
   "metadata": {
    "id": "622780e6",
    "papermill": {
     "duration": 0.034822,
     "end_time": "2022-06-12T04:40:03.936744",
     "exception": false,
     "start_time": "2022-06-12T04:40:03.901922",
     "status": "completed"
    },
    "tags": []
   },
   "source": [
    "## Import Libraries "
   ]
  },
  {
   "cell_type": "code",
   "execution_count": 1,
   "id": "a62397e3",
   "metadata": {
    "execution": {
     "iopub.execute_input": "2022-06-12T04:40:03.972926Z",
     "iopub.status.busy": "2022-06-12T04:40:03.972277Z",
     "iopub.status.idle": "2022-06-12T04:40:03.974455Z",
     "shell.execute_reply": "2022-06-12T04:40:03.974856Z"
    },
    "id": "a62397e3",
    "papermill": {
     "duration": 0.021895,
     "end_time": "2022-06-12T04:40:03.975056",
     "exception": false,
     "start_time": "2022-06-12T04:40:03.953161",
     "status": "completed"
    },
    "tags": []
   },
   "outputs": [],
   "source": [
    "import warnings\n",
    "import sys\n",
    "sys.path.insert(0, '../../src')\n",
    "warnings.filterwarnings('ignore')"
   ]
  },
  {
   "cell_type": "code",
   "execution_count": 2,
   "id": "d6a4e155",
   "metadata": {
    "execution": {
     "iopub.execute_input": "2022-06-12T04:40:03.995110Z",
     "iopub.status.busy": "2022-06-12T04:40:03.994713Z",
     "iopub.status.idle": "2022-06-12T04:40:05.537314Z",
     "shell.execute_reply": "2022-06-12T04:40:05.537545Z"
    },
    "id": "d6a4e155",
    "papermill": {
     "duration": 1.553188,
     "end_time": "2022-06-12T04:40:05.537697",
     "exception": false,
     "start_time": "2022-06-12T04:40:03.984509",
     "status": "completed"
    },
    "tags": []
   },
   "outputs": [],
   "source": [
    "import ABC_train_test2\n",
    "import bostonDataset\n",
    "import network\n",
    "import dataset\n",
    "import sanityChecks\n",
    "import torch \n",
    "import scrapbook as sb\n",
    "from statistics import mean \n",
    "import catboost as ctb \n",
    "from sklearn.model_selection import train_test_split\n",
    "from sklearn.metrics import mean_squared_error,mean_absolute_error\n",
    "import numpy as np"
   ]
  },
  {
   "cell_type": "markdown",
   "id": "2fa5b0f7",
   "metadata": {
    "id": "2fa5b0f7",
    "papermill": {
     "duration": 0.006639,
     "end_time": "2022-06-12T04:40:05.551376",
     "exception": false,
     "start_time": "2022-06-12T04:40:05.544737",
     "status": "completed"
    },
    "tags": []
   },
   "source": [
    "## Parameters "
   ]
  },
  {
   "cell_type": "code",
   "execution_count": 3,
   "id": "783186fb",
   "metadata": {
    "execution": {
     "iopub.execute_input": "2022-06-12T04:40:05.566877Z",
     "iopub.status.busy": "2022-06-12T04:40:05.566497Z",
     "iopub.status.idle": "2022-06-12T04:40:05.567838Z",
     "shell.execute_reply": "2022-06-12T04:40:05.568080Z"
    },
    "id": "783186fb",
    "papermill": {
     "duration": 0.010176,
     "end_time": "2022-06-12T04:40:05.568186",
     "exception": false,
     "start_time": "2022-06-12T04:40:05.558010",
     "status": "completed"
    },
    "tags": [
     "parameters"
    ]
   },
   "outputs": [],
   "source": [
    "variance = 1\n",
    "bias = 1 "
   ]
  },
  {
   "cell_type": "code",
   "execution_count": 4,
   "id": "a6a20629",
   "metadata": {
    "execution": {
     "iopub.execute_input": "2022-06-12T04:40:05.583587Z",
     "iopub.status.busy": "2022-06-12T04:40:05.583234Z",
     "iopub.status.idle": "2022-06-12T04:40:05.584527Z",
     "shell.execute_reply": "2022-06-12T04:40:05.584756Z"
    },
    "papermill": {
     "duration": 0.009926,
     "end_time": "2022-06-12T04:40:05.584864",
     "exception": false,
     "start_time": "2022-06-12T04:40:05.574938",
     "status": "completed"
    },
    "tags": [
     "injected-parameters"
    ]
   },
   "outputs": [],
   "source": [
    "# Parameters\n",
    "variance = 0.1\n",
    "bias = 0.01\n"
   ]
  },
  {
   "cell_type": "markdown",
   "id": "391cdbfd",
   "metadata": {
    "id": "391cdbfd",
    "papermill": {
     "duration": 0.0067,
     "end_time": "2022-06-12T04:40:05.598347",
     "exception": false,
     "start_time": "2022-06-12T04:40:05.591647",
     "status": "completed"
    },
    "tags": []
   },
   "source": [
    "## Dataset \n"
   ]
  },
  {
   "cell_type": "code",
   "execution_count": 5,
   "id": "5b51f161",
   "metadata": {
    "execution": {
     "iopub.execute_input": "2022-06-12T04:40:05.613830Z",
     "iopub.status.busy": "2022-06-12T04:40:05.613450Z",
     "iopub.status.idle": "2022-06-12T04:40:05.614655Z",
     "shell.execute_reply": "2022-06-12T04:40:05.614887Z"
    },
    "id": "5b51f161",
    "papermill": {
     "duration": 0.009837,
     "end_time": "2022-06-12T04:40:05.614988",
     "exception": false,
     "start_time": "2022-06-12T04:40:05.605151",
     "status": "completed"
    },
    "tags": []
   },
   "outputs": [],
   "source": [
    "#Parameters \n",
    "n_features = 13\n",
    "n_samples= 506\n",
    "n_target = 1 "
   ]
  },
  {
   "cell_type": "code",
   "execution_count": 6,
   "id": "5d6eced4",
   "metadata": {
    "execution": {
     "iopub.execute_input": "2022-06-12T04:40:05.630545Z",
     "iopub.status.busy": "2022-06-12T04:40:05.630183Z",
     "iopub.status.idle": "2022-06-12T04:40:05.640386Z",
     "shell.execute_reply": "2022-06-12T04:40:05.640666Z"
    },
    "id": "5d6eced4",
    "papermill": {
     "duration": 0.018952,
     "end_time": "2022-06-12T04:40:05.640798",
     "exception": false,
     "start_time": "2022-06-12T04:40:05.621846",
     "status": "completed"
    },
    "tags": []
   },
   "outputs": [
    {
     "name": "stdout",
     "output_type": "stream",
     "text": [
      "         X1        X2        X3        X4        X5        X6        X7  \\\n",
      "0 -0.419782  0.284830 -1.287909 -0.272599 -0.144217  0.413672 -0.120013   \n",
      "1 -0.417339 -0.487722 -0.593381 -0.272599 -0.740262  0.194274  0.367166   \n",
      "2 -0.417342 -0.487722 -0.593381 -0.272599 -0.740262  1.282714 -0.265812   \n",
      "3 -0.416750 -0.487722 -1.306878 -0.272599 -0.835284  1.016303 -0.809889   \n",
      "4 -0.412482 -0.487722 -1.306878 -0.272599 -0.835284  1.228577 -0.511180   \n",
      "\n",
      "         X8        X9       X10       X11       X12       X13         Y  \n",
      "0  0.140214 -0.982843 -0.666608 -1.459000  0.441052 -1.075562  0.159686  \n",
      "1  0.557160 -0.867883 -0.987329 -0.303094  0.441052 -0.492439 -0.101524  \n",
      "2  0.557160 -0.867883 -0.987329 -0.303094  0.396427 -1.208727  1.324247  \n",
      "3  1.077737 -0.752922 -1.106115  0.113032  0.416163 -1.361517  1.182758  \n",
      "4  1.077737 -0.752922 -1.106115  0.113032  0.441052 -1.026501  1.487503  \n"
     ]
    }
   ],
   "source": [
    "X,Y = bostonDataset.boston_data()"
   ]
  },
  {
   "cell_type": "code",
   "execution_count": 7,
   "id": "fe007438",
   "metadata": {
    "execution": {
     "iopub.execute_input": "2022-06-12T04:40:05.657609Z",
     "iopub.status.busy": "2022-06-12T04:40:05.657197Z",
     "iopub.status.idle": "2022-06-12T04:40:05.658795Z",
     "shell.execute_reply": "2022-06-12T04:40:05.659022Z"
    },
    "id": "fe007438",
    "papermill": {
     "duration": 0.011146,
     "end_time": "2022-06-12T04:40:05.659124",
     "exception": false,
     "start_time": "2022-06-12T04:40:05.647978",
     "status": "completed"
    },
    "tags": []
   },
   "outputs": [],
   "source": [
    "#Train test split for dataset \n",
    "X_train,X_test,Y_train,Y_test = train_test_split(X,Y,test_size = 0.2)\n",
    "train_data = dataset.CustomDataset(X_train,Y_train)\n",
    "test_data = dataset.CustomDataset(X_test,Y_test)\n"
   ]
  },
  {
   "cell_type": "markdown",
   "id": "a9a1af34",
   "metadata": {
    "id": "a9a1af34",
    "papermill": {
     "duration": 0.007151,
     "end_time": "2022-06-12T04:40:05.673358",
     "exception": false,
     "start_time": "2022-06-12T04:40:05.666207",
     "status": "completed"
    },
    "tags": []
   },
   "source": [
    "## Training Parameters "
   ]
  },
  {
   "cell_type": "code",
   "execution_count": 8,
   "id": "952b7fc8",
   "metadata": {
    "execution": {
     "iopub.execute_input": "2022-06-12T04:40:05.689566Z",
     "iopub.status.busy": "2022-06-12T04:40:05.689215Z",
     "iopub.status.idle": "2022-06-12T04:40:05.690590Z",
     "shell.execute_reply": "2022-06-12T04:40:05.690835Z"
    },
    "id": "952b7fc8",
    "papermill": {
     "duration": 0.010617,
     "end_time": "2022-06-12T04:40:05.690941",
     "exception": false,
     "start_time": "2022-06-12T04:40:05.680324",
     "status": "completed"
    },
    "tags": []
   },
   "outputs": [],
   "source": [
    "batch_size = 32\n",
    "n_epochs = 1000\n",
    "#Select the device \n",
    "device = torch.device('cuda' if torch.cuda.is_available() else 'cpu')"
   ]
  },
  {
   "cell_type": "markdown",
   "id": "a95e1600",
   "metadata": {
    "id": "a95e1600",
    "papermill": {
     "duration": 0.007135,
     "end_time": "2022-06-12T04:40:05.705283",
     "exception": false,
     "start_time": "2022-06-12T04:40:05.698148",
     "status": "completed"
    },
    "tags": []
   },
   "source": [
    "# ABC Pre-generator Model \n",
    "\n",
    "1. The catboost model is used as a pre-generator model for the ABC-GAN. \n",
    "2. The model is first trained on the entire dataset \n",
    "3. It generats X,Y pairs and we add some Gaussian noise with mean 0 and variance 1 to it which is then feed as input to the generator.\n"
   ]
  },
  {
   "cell_type": "code",
   "execution_count": 9,
   "id": "ff8ce7bd",
   "metadata": {
    "execution": {
     "iopub.execute_input": "2022-06-12T04:40:05.724541Z",
     "iopub.status.busy": "2022-06-12T04:40:05.724174Z",
     "iopub.status.idle": "2022-06-12T04:40:06.691382Z",
     "shell.execute_reply": "2022-06-12T04:40:06.691635Z"
    },
    "id": "ff8ce7bd",
    "papermill": {
     "duration": 0.979301,
     "end_time": "2022-06-12T04:40:06.691761",
     "exception": false,
     "start_time": "2022-06-12T04:40:05.712460",
     "status": "completed"
    },
    "tags": []
   },
   "outputs": [
    {
     "name": "stdout",
     "output_type": "stream",
     "text": [
      "Learning rate set to 0.033215\n",
      "0:\tlearn: 0.9960599\ttotal: 58.8ms\tremaining: 58.7s\n",
      "1:\tlearn: 0.9774658\ttotal: 59.8ms\tremaining: 29.8s\n",
      "2:\tlearn: 0.9574201\ttotal: 60.7ms\tremaining: 20.2s\n",
      "3:\tlearn: 0.9402131\ttotal: 61.6ms\tremaining: 15.3s\n",
      "4:\tlearn: 0.9220066\ttotal: 62.8ms\tremaining: 12.5s\n",
      "5:\tlearn: 0.9047112\ttotal: 63.8ms\tremaining: 10.6s\n",
      "6:\tlearn: 0.8878884\ttotal: 64.7ms\tremaining: 9.18s\n",
      "7:\tlearn: 0.8715725\ttotal: 65.6ms\tremaining: 8.13s\n",
      "8:\tlearn: 0.8565513\ttotal: 66.3ms\tremaining: 7.3s\n",
      "9:\tlearn: 0.8400035\ttotal: 67.2ms\tremaining: 6.66s\n",
      "10:\tlearn: 0.8247873\ttotal: 68ms\tremaining: 6.12s\n",
      "11:\tlearn: 0.8106027\ttotal: 68.9ms\tremaining: 5.67s\n",
      "12:\tlearn: 0.7951926\ttotal: 69.7ms\tremaining: 5.29s\n",
      "13:\tlearn: 0.7802017\ttotal: 70.5ms\tremaining: 4.96s\n",
      "14:\tlearn: 0.7684342\ttotal: 71.4ms\tremaining: 4.69s\n",
      "15:\tlearn: 0.7548581\ttotal: 72.1ms\tremaining: 4.44s\n",
      "16:\tlearn: 0.7413094\ttotal: 72.9ms\tremaining: 4.22s\n",
      "17:\tlearn: 0.7277804\ttotal: 73.7ms\tremaining: 4.02s\n",
      "18:\tlearn: 0.7149112\ttotal: 74.4ms\tremaining: 3.84s\n",
      "19:\tlearn: 0.7033816\ttotal: 75.8ms\tremaining: 3.71s\n",
      "20:\tlearn: 0.6895885\ttotal: 76.6ms\tremaining: 3.57s\n",
      "21:\tlearn: 0.6793024\ttotal: 77.5ms\tremaining: 3.44s\n",
      "22:\tlearn: 0.6701139\ttotal: 78.3ms\tremaining: 3.33s\n",
      "23:\tlearn: 0.6605962\ttotal: 79ms\tremaining: 3.21s\n",
      "24:\tlearn: 0.6508632\ttotal: 79.8ms\tremaining: 3.11s\n",
      "25:\tlearn: 0.6424547\ttotal: 80.6ms\tremaining: 3.02s\n",
      "26:\tlearn: 0.6331495\ttotal: 81.3ms\tremaining: 2.93s\n",
      "27:\tlearn: 0.6236135\ttotal: 81.9ms\tremaining: 2.84s\n",
      "28:\tlearn: 0.6159384\ttotal: 82.5ms\tremaining: 2.76s\n",
      "29:\tlearn: 0.6056840\ttotal: 83.3ms\tremaining: 2.69s\n",
      "30:\tlearn: 0.5974121\ttotal: 84ms\tremaining: 2.63s\n",
      "31:\tlearn: 0.5876963\ttotal: 84.8ms\tremaining: 2.56s\n",
      "32:\tlearn: 0.5801263\ttotal: 85.4ms\tremaining: 2.5s\n",
      "33:\tlearn: 0.5741531\ttotal: 86.3ms\tremaining: 2.45s\n",
      "34:\tlearn: 0.5663042\ttotal: 87.1ms\tremaining: 2.4s\n",
      "35:\tlearn: 0.5589005\ttotal: 88ms\tremaining: 2.36s\n",
      "36:\tlearn: 0.5521503\ttotal: 88.8ms\tremaining: 2.31s\n",
      "37:\tlearn: 0.5443200\ttotal: 89.6ms\tremaining: 2.27s\n",
      "38:\tlearn: 0.5364153\ttotal: 90.4ms\tremaining: 2.23s\n",
      "39:\tlearn: 0.5286137\ttotal: 91.3ms\tremaining: 2.19s\n",
      "40:\tlearn: 0.5220778\ttotal: 92.1ms\tremaining: 2.15s\n",
      "41:\tlearn: 0.5164660\ttotal: 93.1ms\tremaining: 2.12s\n",
      "42:\tlearn: 0.5105712\ttotal: 93.9ms\tremaining: 2.09s\n",
      "43:\tlearn: 0.5034564\ttotal: 94.7ms\tremaining: 2.06s\n",
      "44:\tlearn: 0.4969083\ttotal: 95.4ms\tremaining: 2.02s\n",
      "45:\tlearn: 0.4900485\ttotal: 96.3ms\tremaining: 2s\n",
      "46:\tlearn: 0.4848920\ttotal: 97.1ms\tremaining: 1.97s\n",
      "47:\tlearn: 0.4781848\ttotal: 97.9ms\tremaining: 1.94s\n",
      "48:\tlearn: 0.4731215\ttotal: 98.7ms\tremaining: 1.92s\n",
      "49:\tlearn: 0.4678648\ttotal: 99.5ms\tremaining: 1.89s\n",
      "50:\tlearn: 0.4635650\ttotal: 100ms\tremaining: 1.87s\n",
      "51:\tlearn: 0.4589467\ttotal: 101ms\tremaining: 1.84s\n",
      "52:\tlearn: 0.4542326\ttotal: 102ms\tremaining: 1.82s\n",
      "53:\tlearn: 0.4503988\ttotal: 103ms\tremaining: 1.8s\n",
      "54:\tlearn: 0.4452451\ttotal: 104ms\tremaining: 1.78s\n",
      "55:\tlearn: 0.4405980\ttotal: 105ms\tremaining: 1.77s\n",
      "56:\tlearn: 0.4360116\ttotal: 106ms\tremaining: 1.75s\n",
      "57:\tlearn: 0.4315011\ttotal: 106ms\tremaining: 1.73s\n",
      "58:\tlearn: 0.4273315\ttotal: 107ms\tremaining: 1.71s\n",
      "59:\tlearn: 0.4225640\ttotal: 108ms\tremaining: 1.69s\n"
     ]
    },
    {
     "name": "stdout",
     "output_type": "stream",
     "text": [
      "60:\tlearn: 0.4187159\ttotal: 109ms\tremaining: 1.68s\n",
      "61:\tlearn: 0.4150570\ttotal: 110ms\tremaining: 1.66s\n",
      "62:\tlearn: 0.4118571\ttotal: 111ms\tremaining: 1.65s\n",
      "63:\tlearn: 0.4076522\ttotal: 112ms\tremaining: 1.63s\n",
      "64:\tlearn: 0.4044079\ttotal: 113ms\tremaining: 1.63s\n",
      "65:\tlearn: 0.4006462\ttotal: 114ms\tremaining: 1.61s\n",
      "66:\tlearn: 0.3968089\ttotal: 115ms\tremaining: 1.6s\n",
      "67:\tlearn: 0.3927706\ttotal: 116ms\tremaining: 1.58s\n",
      "68:\tlearn: 0.3897284\ttotal: 116ms\tremaining: 1.57s\n",
      "69:\tlearn: 0.3868848\ttotal: 117ms\tremaining: 1.56s\n",
      "70:\tlearn: 0.3831217\ttotal: 118ms\tremaining: 1.54s\n",
      "71:\tlearn: 0.3800082\ttotal: 119ms\tremaining: 1.53s\n",
      "72:\tlearn: 0.3771418\ttotal: 120ms\tremaining: 1.52s\n",
      "73:\tlearn: 0.3742990\ttotal: 121ms\tremaining: 1.51s\n",
      "74:\tlearn: 0.3712245\ttotal: 122ms\tremaining: 1.5s\n",
      "75:\tlearn: 0.3683372\ttotal: 122ms\tremaining: 1.49s\n",
      "76:\tlearn: 0.3648898\ttotal: 123ms\tremaining: 1.48s\n",
      "77:\tlearn: 0.3622828\ttotal: 124ms\tremaining: 1.47s\n",
      "78:\tlearn: 0.3592430\ttotal: 125ms\tremaining: 1.46s\n",
      "79:\tlearn: 0.3568189\ttotal: 126ms\tremaining: 1.45s\n",
      "80:\tlearn: 0.3541197\ttotal: 126ms\tremaining: 1.43s\n",
      "81:\tlearn: 0.3518580\ttotal: 127ms\tremaining: 1.43s\n",
      "82:\tlearn: 0.3500950\ttotal: 128ms\tremaining: 1.42s\n",
      "83:\tlearn: 0.3474134\ttotal: 129ms\tremaining: 1.41s\n",
      "84:\tlearn: 0.3450126\ttotal: 130ms\tremaining: 1.4s\n",
      "85:\tlearn: 0.3427465\ttotal: 131ms\tremaining: 1.39s\n",
      "86:\tlearn: 0.3406030\ttotal: 132ms\tremaining: 1.38s\n",
      "87:\tlearn: 0.3382377\ttotal: 132ms\tremaining: 1.37s\n",
      "88:\tlearn: 0.3358193\ttotal: 133ms\tremaining: 1.36s\n",
      "89:\tlearn: 0.3338610\ttotal: 134ms\tremaining: 1.35s\n",
      "90:\tlearn: 0.3314567\ttotal: 135ms\tremaining: 1.35s\n",
      "91:\tlearn: 0.3295314\ttotal: 136ms\tremaining: 1.34s\n",
      "92:\tlearn: 0.3281172\ttotal: 137ms\tremaining: 1.33s\n",
      "93:\tlearn: 0.3255565\ttotal: 137ms\tremaining: 1.32s\n",
      "94:\tlearn: 0.3232184\ttotal: 138ms\tremaining: 1.32s\n",
      "95:\tlearn: 0.3221737\ttotal: 139ms\tremaining: 1.31s\n",
      "96:\tlearn: 0.3206183\ttotal: 140ms\tremaining: 1.3s\n",
      "97:\tlearn: 0.3192256\ttotal: 140ms\tremaining: 1.29s\n",
      "98:\tlearn: 0.3176502\ttotal: 141ms\tremaining: 1.29s\n",
      "99:\tlearn: 0.3156175\ttotal: 142ms\tremaining: 1.28s\n",
      "100:\tlearn: 0.3139933\ttotal: 143ms\tremaining: 1.27s\n",
      "101:\tlearn: 0.3121844\ttotal: 144ms\tremaining: 1.27s\n",
      "102:\tlearn: 0.3110603\ttotal: 145ms\tremaining: 1.26s\n",
      "103:\tlearn: 0.3092205\ttotal: 145ms\tremaining: 1.25s\n",
      "104:\tlearn: 0.3075454\ttotal: 146ms\tremaining: 1.25s\n",
      "105:\tlearn: 0.3061103\ttotal: 147ms\tremaining: 1.24s\n",
      "106:\tlearn: 0.3041267\ttotal: 148ms\tremaining: 1.23s\n",
      "107:\tlearn: 0.3021067\ttotal: 148ms\tremaining: 1.23s\n",
      "108:\tlearn: 0.3008248\ttotal: 149ms\tremaining: 1.22s\n",
      "109:\tlearn: 0.2995217\ttotal: 150ms\tremaining: 1.22s\n",
      "110:\tlearn: 0.2981631\ttotal: 151ms\tremaining: 1.21s\n",
      "111:\tlearn: 0.2967228\ttotal: 152ms\tremaining: 1.21s\n",
      "112:\tlearn: 0.2949352\ttotal: 153ms\tremaining: 1.2s\n",
      "113:\tlearn: 0.2934202\ttotal: 154ms\tremaining: 1.2s\n",
      "114:\tlearn: 0.2921617\ttotal: 155ms\tremaining: 1.19s\n",
      "115:\tlearn: 0.2903096\ttotal: 156ms\tremaining: 1.19s\n",
      "116:\tlearn: 0.2890834\ttotal: 156ms\tremaining: 1.18s\n",
      "117:\tlearn: 0.2878580\ttotal: 157ms\tremaining: 1.18s\n",
      "118:\tlearn: 0.2866108\ttotal: 158ms\tremaining: 1.17s\n",
      "119:\tlearn: 0.2854634\ttotal: 159ms\tremaining: 1.17s\n",
      "120:\tlearn: 0.2840909\ttotal: 160ms\tremaining: 1.16s\n",
      "121:\tlearn: 0.2827728\ttotal: 161ms\tremaining: 1.16s\n",
      "122:\tlearn: 0.2816333\ttotal: 162ms\tremaining: 1.15s\n",
      "123:\tlearn: 0.2801883\ttotal: 162ms\tremaining: 1.15s\n",
      "124:\tlearn: 0.2791306\ttotal: 163ms\tremaining: 1.14s\n",
      "125:\tlearn: 0.2780347\ttotal: 164ms\tremaining: 1.14s\n",
      "126:\tlearn: 0.2764821\ttotal: 165ms\tremaining: 1.13s\n",
      "127:\tlearn: 0.2752883\ttotal: 166ms\tremaining: 1.13s\n",
      "128:\tlearn: 0.2742803\ttotal: 166ms\tremaining: 1.12s\n",
      "129:\tlearn: 0.2729369\ttotal: 167ms\tremaining: 1.12s\n",
      "130:\tlearn: 0.2722240\ttotal: 168ms\tremaining: 1.11s\n",
      "131:\tlearn: 0.2707208\ttotal: 169ms\tremaining: 1.11s\n",
      "132:\tlearn: 0.2700286\ttotal: 170ms\tremaining: 1.11s\n",
      "133:\tlearn: 0.2690130\ttotal: 171ms\tremaining: 1.1s\n",
      "134:\tlearn: 0.2675879\ttotal: 171ms\tremaining: 1.1s\n",
      "135:\tlearn: 0.2661376\ttotal: 172ms\tremaining: 1.09s\n",
      "136:\tlearn: 0.2650444\ttotal: 173ms\tremaining: 1.09s\n",
      "137:\tlearn: 0.2644046\ttotal: 174ms\tremaining: 1.09s\n",
      "138:\tlearn: 0.2635355\ttotal: 175ms\tremaining: 1.08s\n",
      "139:\tlearn: 0.2627183\ttotal: 176ms\tremaining: 1.08s\n",
      "140:\tlearn: 0.2619266\ttotal: 176ms\tremaining: 1.07s\n",
      "141:\tlearn: 0.2612246\ttotal: 177ms\tremaining: 1.07s\n",
      "142:\tlearn: 0.2603968\ttotal: 178ms\tremaining: 1.07s\n",
      "143:\tlearn: 0.2597238\ttotal: 179ms\tremaining: 1.06s\n",
      "144:\tlearn: 0.2587874\ttotal: 180ms\tremaining: 1.06s\n",
      "145:\tlearn: 0.2576474\ttotal: 181ms\tremaining: 1.06s\n",
      "146:\tlearn: 0.2569335\ttotal: 181ms\tremaining: 1.05s\n",
      "147:\tlearn: 0.2562267\ttotal: 182ms\tremaining: 1.05s\n",
      "148:\tlearn: 0.2552783\ttotal: 183ms\tremaining: 1.05s\n",
      "149:\tlearn: 0.2543773\ttotal: 184ms\tremaining: 1.04s\n",
      "150:\tlearn: 0.2532169\ttotal: 185ms\tremaining: 1.04s\n",
      "151:\tlearn: 0.2519206\ttotal: 186ms\tremaining: 1.03s\n",
      "152:\tlearn: 0.2509982\ttotal: 187ms\tremaining: 1.03s\n",
      "153:\tlearn: 0.2504340\ttotal: 187ms\tremaining: 1.03s\n",
      "154:\tlearn: 0.2495036\ttotal: 188ms\tremaining: 1.03s\n",
      "155:\tlearn: 0.2484814\ttotal: 189ms\tremaining: 1.02s\n",
      "156:\tlearn: 0.2476245\ttotal: 190ms\tremaining: 1.02s\n",
      "157:\tlearn: 0.2468589\ttotal: 191ms\tremaining: 1.02s\n"
     ]
    },
    {
     "name": "stdout",
     "output_type": "stream",
     "text": [
      "158:\tlearn: 0.2459070\ttotal: 192ms\tremaining: 1.01s\n",
      "159:\tlearn: 0.2451769\ttotal: 193ms\tremaining: 1.01s\n",
      "160:\tlearn: 0.2445302\ttotal: 194ms\tremaining: 1.01s\n",
      "161:\tlearn: 0.2439222\ttotal: 194ms\tremaining: 1s\n",
      "162:\tlearn: 0.2434900\ttotal: 195ms\tremaining: 1s\n",
      "163:\tlearn: 0.2428800\ttotal: 196ms\tremaining: 999ms\n",
      "164:\tlearn: 0.2420734\ttotal: 197ms\tremaining: 995ms\n",
      "165:\tlearn: 0.2412384\ttotal: 197ms\tremaining: 992ms\n",
      "166:\tlearn: 0.2407621\ttotal: 198ms\tremaining: 990ms\n",
      "167:\tlearn: 0.2400479\ttotal: 199ms\tremaining: 987ms\n",
      "168:\tlearn: 0.2394183\ttotal: 200ms\tremaining: 985ms\n",
      "169:\tlearn: 0.2388292\ttotal: 201ms\tremaining: 982ms\n",
      "170:\tlearn: 0.2382388\ttotal: 202ms\tremaining: 979ms\n",
      "171:\tlearn: 0.2376223\ttotal: 203ms\tremaining: 976ms\n",
      "172:\tlearn: 0.2370658\ttotal: 204ms\tremaining: 976ms\n",
      "173:\tlearn: 0.2363624\ttotal: 205ms\tremaining: 973ms\n",
      "174:\tlearn: 0.2355452\ttotal: 206ms\tremaining: 971ms\n",
      "175:\tlearn: 0.2350171\ttotal: 207ms\tremaining: 968ms\n",
      "176:\tlearn: 0.2346032\ttotal: 208ms\tremaining: 965ms\n",
      "177:\tlearn: 0.2339531\ttotal: 208ms\tremaining: 962ms\n",
      "178:\tlearn: 0.2334121\ttotal: 209ms\tremaining: 960ms\n",
      "179:\tlearn: 0.2325882\ttotal: 210ms\tremaining: 957ms\n",
      "180:\tlearn: 0.2320580\ttotal: 211ms\tremaining: 954ms\n",
      "181:\tlearn: 0.2312840\ttotal: 212ms\tremaining: 952ms\n",
      "182:\tlearn: 0.2308558\ttotal: 213ms\tremaining: 949ms\n",
      "183:\tlearn: 0.2300696\ttotal: 213ms\tremaining: 946ms\n",
      "184:\tlearn: 0.2292168\ttotal: 214ms\tremaining: 944ms\n",
      "185:\tlearn: 0.2283800\ttotal: 215ms\tremaining: 941ms\n",
      "186:\tlearn: 0.2274739\ttotal: 216ms\tremaining: 938ms\n",
      "187:\tlearn: 0.2269514\ttotal: 217ms\tremaining: 935ms\n",
      "188:\tlearn: 0.2262443\ttotal: 217ms\tremaining: 933ms\n",
      "189:\tlearn: 0.2256233\ttotal: 218ms\tremaining: 930ms\n",
      "190:\tlearn: 0.2249942\ttotal: 219ms\tremaining: 927ms\n",
      "191:\tlearn: 0.2245057\ttotal: 220ms\tremaining: 925ms\n",
      "192:\tlearn: 0.2240574\ttotal: 221ms\tremaining: 923ms\n",
      "193:\tlearn: 0.2234820\ttotal: 221ms\tremaining: 920ms\n",
      "194:\tlearn: 0.2228838\ttotal: 222ms\tremaining: 917ms\n",
      "195:\tlearn: 0.2222795\ttotal: 223ms\tremaining: 915ms\n",
      "196:\tlearn: 0.2216982\ttotal: 224ms\tremaining: 912ms\n",
      "197:\tlearn: 0.2211778\ttotal: 225ms\tremaining: 910ms\n",
      "198:\tlearn: 0.2207100\ttotal: 225ms\tremaining: 907ms\n",
      "199:\tlearn: 0.2200305\ttotal: 226ms\tremaining: 906ms\n",
      "200:\tlearn: 0.2193433\ttotal: 227ms\tremaining: 903ms\n",
      "201:\tlearn: 0.2186726\ttotal: 229ms\tremaining: 904ms\n",
      "202:\tlearn: 0.2182810\ttotal: 230ms\tremaining: 902ms\n",
      "203:\tlearn: 0.2175737\ttotal: 230ms\tremaining: 899ms\n",
      "204:\tlearn: 0.2168883\ttotal: 231ms\tremaining: 896ms\n",
      "205:\tlearn: 0.2162745\ttotal: 232ms\tremaining: 894ms\n",
      "206:\tlearn: 0.2157131\ttotal: 233ms\tremaining: 892ms\n",
      "207:\tlearn: 0.2152735\ttotal: 234ms\tremaining: 889ms\n",
      "208:\tlearn: 0.2146330\ttotal: 234ms\tremaining: 887ms\n",
      "209:\tlearn: 0.2141813\ttotal: 235ms\tremaining: 885ms\n",
      "210:\tlearn: 0.2134457\ttotal: 236ms\tremaining: 882ms\n",
      "211:\tlearn: 0.2130505\ttotal: 237ms\tremaining: 880ms\n",
      "212:\tlearn: 0.2126708\ttotal: 238ms\tremaining: 878ms\n",
      "213:\tlearn: 0.2122185\ttotal: 238ms\tremaining: 875ms\n",
      "214:\tlearn: 0.2115700\ttotal: 239ms\tremaining: 873ms\n",
      "215:\tlearn: 0.2110738\ttotal: 240ms\tremaining: 871ms\n",
      "216:\tlearn: 0.2105193\ttotal: 241ms\tremaining: 868ms\n",
      "217:\tlearn: 0.2099874\ttotal: 241ms\tremaining: 866ms\n",
      "218:\tlearn: 0.2094571\ttotal: 242ms\tremaining: 864ms\n",
      "219:\tlearn: 0.2088575\ttotal: 243ms\tremaining: 862ms\n",
      "220:\tlearn: 0.2082780\ttotal: 244ms\tremaining: 860ms\n",
      "221:\tlearn: 0.2076351\ttotal: 245ms\tremaining: 857ms\n",
      "222:\tlearn: 0.2069902\ttotal: 245ms\tremaining: 855ms\n",
      "223:\tlearn: 0.2064651\ttotal: 246ms\tremaining: 853ms\n",
      "224:\tlearn: 0.2060399\ttotal: 247ms\tremaining: 852ms\n",
      "225:\tlearn: 0.2057243\ttotal: 248ms\tremaining: 850ms\n",
      "226:\tlearn: 0.2052943\ttotal: 249ms\tremaining: 848ms\n",
      "227:\tlearn: 0.2047564\ttotal: 250ms\tremaining: 846ms\n",
      "228:\tlearn: 0.2042044\ttotal: 251ms\tremaining: 845ms\n",
      "229:\tlearn: 0.2035132\ttotal: 252ms\tremaining: 843ms\n",
      "230:\tlearn: 0.2030005\ttotal: 253ms\tremaining: 841ms\n",
      "231:\tlearn: 0.2023047\ttotal: 253ms\tremaining: 839ms\n",
      "232:\tlearn: 0.2018665\ttotal: 254ms\tremaining: 837ms\n",
      "233:\tlearn: 0.2015621\ttotal: 255ms\tremaining: 835ms\n",
      "234:\tlearn: 0.2011703\ttotal: 256ms\tremaining: 833ms\n",
      "235:\tlearn: 0.2006521\ttotal: 257ms\tremaining: 831ms\n",
      "236:\tlearn: 0.2001913\ttotal: 258ms\tremaining: 829ms\n",
      "237:\tlearn: 0.1997977\ttotal: 259ms\tremaining: 828ms\n",
      "238:\tlearn: 0.1991899\ttotal: 259ms\tremaining: 826ms\n",
      "239:\tlearn: 0.1986151\ttotal: 260ms\tremaining: 824ms\n",
      "240:\tlearn: 0.1983211\ttotal: 261ms\tremaining: 822ms\n",
      "241:\tlearn: 0.1975926\ttotal: 262ms\tremaining: 820ms\n",
      "242:\tlearn: 0.1972326\ttotal: 263ms\tremaining: 818ms\n",
      "243:\tlearn: 0.1969477\ttotal: 263ms\tremaining: 816ms\n",
      "244:\tlearn: 0.1963088\ttotal: 264ms\tremaining: 814ms\n",
      "245:\tlearn: 0.1956595\ttotal: 265ms\tremaining: 813ms\n",
      "246:\tlearn: 0.1951714\ttotal: 266ms\tremaining: 811ms\n",
      "247:\tlearn: 0.1948053\ttotal: 267ms\tremaining: 809ms\n",
      "248:\tlearn: 0.1944382\ttotal: 268ms\tremaining: 807ms\n",
      "249:\tlearn: 0.1939438\ttotal: 268ms\tremaining: 805ms\n",
      "250:\tlearn: 0.1933378\ttotal: 269ms\tremaining: 803ms\n",
      "251:\tlearn: 0.1928566\ttotal: 270ms\tremaining: 802ms\n",
      "252:\tlearn: 0.1926002\ttotal: 271ms\tremaining: 800ms\n",
      "253:\tlearn: 0.1920825\ttotal: 272ms\tremaining: 798ms\n",
      "254:\tlearn: 0.1917722\ttotal: 273ms\tremaining: 797ms\n",
      "255:\tlearn: 0.1913453\ttotal: 274ms\tremaining: 795ms\n",
      "256:\tlearn: 0.1910578\ttotal: 274ms\tremaining: 793ms\n",
      "257:\tlearn: 0.1907170\ttotal: 275ms\tremaining: 792ms\n",
      "258:\tlearn: 0.1903173\ttotal: 276ms\tremaining: 790ms\n",
      "259:\tlearn: 0.1899049\ttotal: 277ms\tremaining: 788ms\n",
      "260:\tlearn: 0.1893447\ttotal: 278ms\tremaining: 786ms\n",
      "261:\tlearn: 0.1888787\ttotal: 278ms\tremaining: 784ms\n",
      "262:\tlearn: 0.1883658\ttotal: 279ms\tremaining: 783ms\n",
      "263:\tlearn: 0.1879704\ttotal: 280ms\tremaining: 781ms\n",
      "264:\tlearn: 0.1875542\ttotal: 281ms\tremaining: 779ms\n",
      "265:\tlearn: 0.1871693\ttotal: 281ms\tremaining: 777ms\n",
      "266:\tlearn: 0.1865875\ttotal: 282ms\tremaining: 775ms\n",
      "267:\tlearn: 0.1861103\ttotal: 284ms\tremaining: 775ms\n",
      "268:\tlearn: 0.1856437\ttotal: 285ms\tremaining: 773ms\n",
      "269:\tlearn: 0.1852238\ttotal: 285ms\tremaining: 771ms\n",
      "270:\tlearn: 0.1847941\ttotal: 286ms\tremaining: 770ms\n",
      "271:\tlearn: 0.1844063\ttotal: 287ms\tremaining: 768ms\n",
      "272:\tlearn: 0.1841981\ttotal: 288ms\tremaining: 766ms\n",
      "273:\tlearn: 0.1837053\ttotal: 289ms\tremaining: 765ms\n",
      "274:\tlearn: 0.1833781\ttotal: 289ms\tremaining: 763ms\n",
      "275:\tlearn: 0.1829897\ttotal: 290ms\tremaining: 761ms\n",
      "276:\tlearn: 0.1825072\ttotal: 291ms\tremaining: 759ms\n",
      "277:\tlearn: 0.1820059\ttotal: 292ms\tremaining: 758ms\n",
      "278:\tlearn: 0.1816988\ttotal: 293ms\tremaining: 756ms\n",
      "279:\tlearn: 0.1813866\ttotal: 293ms\tremaining: 754ms\n",
      "280:\tlearn: 0.1810017\ttotal: 294ms\tremaining: 753ms\n",
      "281:\tlearn: 0.1806912\ttotal: 295ms\tremaining: 751ms\n",
      "282:\tlearn: 0.1802470\ttotal: 296ms\tremaining: 750ms\n",
      "283:\tlearn: 0.1800507\ttotal: 297ms\tremaining: 748ms\n",
      "284:\tlearn: 0.1796929\ttotal: 298ms\tremaining: 747ms\n",
      "285:\tlearn: 0.1792806\ttotal: 298ms\tremaining: 745ms\n"
     ]
    },
    {
     "name": "stdout",
     "output_type": "stream",
     "text": [
      "286:\tlearn: 0.1789823\ttotal: 300ms\tremaining: 745ms\n",
      "287:\tlearn: 0.1785252\ttotal: 301ms\tremaining: 744ms\n",
      "288:\tlearn: 0.1781588\ttotal: 302ms\tremaining: 742ms\n",
      "289:\tlearn: 0.1776674\ttotal: 303ms\tremaining: 741ms\n",
      "290:\tlearn: 0.1773004\ttotal: 303ms\tremaining: 739ms\n",
      "291:\tlearn: 0.1768566\ttotal: 304ms\tremaining: 738ms\n",
      "292:\tlearn: 0.1766234\ttotal: 305ms\tremaining: 736ms\n",
      "293:\tlearn: 0.1759929\ttotal: 306ms\tremaining: 735ms\n",
      "294:\tlearn: 0.1756650\ttotal: 307ms\tremaining: 733ms\n",
      "295:\tlearn: 0.1753647\ttotal: 307ms\tremaining: 731ms\n",
      "296:\tlearn: 0.1751003\ttotal: 308ms\tremaining: 729ms\n",
      "297:\tlearn: 0.1744747\ttotal: 309ms\tremaining: 728ms\n",
      "298:\tlearn: 0.1742629\ttotal: 310ms\tremaining: 726ms\n",
      "299:\tlearn: 0.1739491\ttotal: 310ms\tremaining: 724ms\n",
      "300:\tlearn: 0.1735607\ttotal: 311ms\tremaining: 723ms\n",
      "301:\tlearn: 0.1730742\ttotal: 312ms\tremaining: 721ms\n",
      "302:\tlearn: 0.1728333\ttotal: 313ms\tremaining: 720ms\n",
      "303:\tlearn: 0.1723695\ttotal: 314ms\tremaining: 718ms\n",
      "304:\tlearn: 0.1720531\ttotal: 315ms\tremaining: 717ms\n",
      "305:\tlearn: 0.1716760\ttotal: 315ms\tremaining: 716ms\n",
      "306:\tlearn: 0.1712994\ttotal: 316ms\tremaining: 714ms\n",
      "307:\tlearn: 0.1708907\ttotal: 317ms\tremaining: 713ms\n",
      "308:\tlearn: 0.1705670\ttotal: 318ms\tremaining: 711ms\n",
      "309:\tlearn: 0.1701214\ttotal: 319ms\tremaining: 710ms\n",
      "310:\tlearn: 0.1698551\ttotal: 320ms\tremaining: 708ms\n",
      "311:\tlearn: 0.1694679\ttotal: 321ms\tremaining: 707ms\n",
      "312:\tlearn: 0.1691052\ttotal: 321ms\tremaining: 705ms\n",
      "313:\tlearn: 0.1687949\ttotal: 322ms\tremaining: 704ms\n",
      "314:\tlearn: 0.1685850\ttotal: 323ms\tremaining: 703ms\n",
      "315:\tlearn: 0.1682504\ttotal: 324ms\tremaining: 701ms\n",
      "316:\tlearn: 0.1680221\ttotal: 325ms\tremaining: 700ms\n",
      "317:\tlearn: 0.1675796\ttotal: 326ms\tremaining: 699ms\n",
      "318:\tlearn: 0.1672277\ttotal: 327ms\tremaining: 697ms\n",
      "319:\tlearn: 0.1670322\ttotal: 327ms\tremaining: 696ms\n",
      "320:\tlearn: 0.1667117\ttotal: 328ms\tremaining: 694ms\n",
      "321:\tlearn: 0.1666600\ttotal: 329ms\tremaining: 693ms\n",
      "322:\tlearn: 0.1662301\ttotal: 330ms\tremaining: 692ms\n",
      "323:\tlearn: 0.1658055\ttotal: 331ms\tremaining: 690ms\n",
      "324:\tlearn: 0.1655061\ttotal: 332ms\tremaining: 689ms\n",
      "325:\tlearn: 0.1652150\ttotal: 332ms\tremaining: 687ms\n",
      "326:\tlearn: 0.1648196\ttotal: 333ms\tremaining: 685ms\n",
      "327:\tlearn: 0.1645674\ttotal: 334ms\tremaining: 684ms\n",
      "328:\tlearn: 0.1641817\ttotal: 335ms\tremaining: 682ms\n",
      "329:\tlearn: 0.1637489\ttotal: 335ms\tremaining: 681ms\n",
      "330:\tlearn: 0.1633195\ttotal: 336ms\tremaining: 679ms\n",
      "331:\tlearn: 0.1630457\ttotal: 337ms\tremaining: 678ms\n",
      "332:\tlearn: 0.1626393\ttotal: 338ms\tremaining: 677ms\n",
      "333:\tlearn: 0.1622061\ttotal: 339ms\tremaining: 675ms\n",
      "334:\tlearn: 0.1617967\ttotal: 339ms\tremaining: 674ms\n",
      "335:\tlearn: 0.1614182\ttotal: 340ms\tremaining: 672ms\n",
      "336:\tlearn: 0.1611039\ttotal: 341ms\tremaining: 671ms\n",
      "337:\tlearn: 0.1607676\ttotal: 342ms\tremaining: 669ms\n",
      "338:\tlearn: 0.1605623\ttotal: 343ms\tremaining: 668ms\n",
      "339:\tlearn: 0.1603314\ttotal: 344ms\tremaining: 667ms\n",
      "340:\tlearn: 0.1600493\ttotal: 344ms\tremaining: 666ms\n",
      "341:\tlearn: 0.1599177\ttotal: 345ms\tremaining: 664ms\n",
      "342:\tlearn: 0.1598395\ttotal: 346ms\tremaining: 663ms\n",
      "343:\tlearn: 0.1594759\ttotal: 347ms\tremaining: 662ms\n",
      "344:\tlearn: 0.1589659\ttotal: 348ms\tremaining: 660ms\n",
      "345:\tlearn: 0.1585249\ttotal: 348ms\tremaining: 659ms\n",
      "346:\tlearn: 0.1581828\ttotal: 349ms\tremaining: 657ms\n",
      "347:\tlearn: 0.1579165\ttotal: 350ms\tremaining: 656ms\n",
      "348:\tlearn: 0.1577791\ttotal: 351ms\tremaining: 655ms\n",
      "349:\tlearn: 0.1576761\ttotal: 352ms\tremaining: 654ms\n",
      "350:\tlearn: 0.1574116\ttotal: 353ms\tremaining: 653ms\n",
      "351:\tlearn: 0.1570835\ttotal: 354ms\tremaining: 652ms\n",
      "352:\tlearn: 0.1569232\ttotal: 355ms\tremaining: 650ms\n",
      "353:\tlearn: 0.1566391\ttotal: 356ms\tremaining: 649ms\n",
      "354:\tlearn: 0.1562416\ttotal: 357ms\tremaining: 648ms\n",
      "355:\tlearn: 0.1559473\ttotal: 357ms\tremaining: 646ms\n",
      "356:\tlearn: 0.1557904\ttotal: 358ms\tremaining: 645ms\n",
      "357:\tlearn: 0.1555113\ttotal: 359ms\tremaining: 644ms\n",
      "358:\tlearn: 0.1551125\ttotal: 360ms\tremaining: 642ms\n",
      "359:\tlearn: 0.1547687\ttotal: 360ms\tremaining: 641ms\n",
      "360:\tlearn: 0.1544387\ttotal: 361ms\tremaining: 639ms\n",
      "361:\tlearn: 0.1543928\ttotal: 362ms\tremaining: 638ms\n",
      "362:\tlearn: 0.1542135\ttotal: 363ms\tremaining: 637ms\n",
      "363:\tlearn: 0.1539284\ttotal: 364ms\tremaining: 636ms\n",
      "364:\tlearn: 0.1538027\ttotal: 365ms\tremaining: 635ms\n",
      "365:\tlearn: 0.1534660\ttotal: 366ms\tremaining: 633ms\n",
      "366:\tlearn: 0.1531218\ttotal: 366ms\tremaining: 632ms\n",
      "367:\tlearn: 0.1529348\ttotal: 367ms\tremaining: 631ms\n",
      "368:\tlearn: 0.1525337\ttotal: 368ms\tremaining: 630ms\n",
      "369:\tlearn: 0.1521078\ttotal: 369ms\tremaining: 628ms\n",
      "370:\tlearn: 0.1520528\ttotal: 370ms\tremaining: 628ms\n",
      "371:\tlearn: 0.1519878\ttotal: 371ms\tremaining: 627ms\n",
      "372:\tlearn: 0.1519337\ttotal: 372ms\tremaining: 625ms\n",
      "373:\tlearn: 0.1515991\ttotal: 373ms\tremaining: 624ms\n",
      "374:\tlearn: 0.1512690\ttotal: 374ms\tremaining: 623ms\n",
      "375:\tlearn: 0.1511603\ttotal: 374ms\tremaining: 621ms\n",
      "376:\tlearn: 0.1508115\ttotal: 375ms\tremaining: 620ms\n",
      "377:\tlearn: 0.1504177\ttotal: 376ms\tremaining: 619ms\n",
      "378:\tlearn: 0.1503750\ttotal: 377ms\tremaining: 617ms\n",
      "379:\tlearn: 0.1500997\ttotal: 377ms\tremaining: 616ms\n",
      "380:\tlearn: 0.1497763\ttotal: 378ms\tremaining: 615ms\n",
      "381:\tlearn: 0.1492105\ttotal: 379ms\tremaining: 613ms\n",
      "382:\tlearn: 0.1489439\ttotal: 380ms\tremaining: 612ms\n",
      "383:\tlearn: 0.1485445\ttotal: 381ms\tremaining: 611ms\n"
     ]
    },
    {
     "name": "stdout",
     "output_type": "stream",
     "text": [
      "384:\tlearn: 0.1483091\ttotal: 382ms\tremaining: 610ms\n",
      "385:\tlearn: 0.1480083\ttotal: 383ms\tremaining: 609ms\n",
      "386:\tlearn: 0.1475471\ttotal: 384ms\tremaining: 608ms\n",
      "387:\tlearn: 0.1472659\ttotal: 385ms\tremaining: 607ms\n",
      "388:\tlearn: 0.1470368\ttotal: 385ms\tremaining: 605ms\n",
      "389:\tlearn: 0.1468233\ttotal: 386ms\tremaining: 604ms\n",
      "390:\tlearn: 0.1466919\ttotal: 387ms\tremaining: 603ms\n",
      "391:\tlearn: 0.1462723\ttotal: 388ms\tremaining: 601ms\n",
      "392:\tlearn: 0.1458824\ttotal: 389ms\tremaining: 600ms\n",
      "393:\tlearn: 0.1456543\ttotal: 389ms\tremaining: 599ms\n",
      "394:\tlearn: 0.1452557\ttotal: 390ms\tremaining: 598ms\n",
      "395:\tlearn: 0.1450352\ttotal: 391ms\tremaining: 596ms\n",
      "396:\tlearn: 0.1449996\ttotal: 392ms\tremaining: 595ms\n",
      "397:\tlearn: 0.1448217\ttotal: 393ms\tremaining: 594ms\n",
      "398:\tlearn: 0.1445886\ttotal: 393ms\tremaining: 593ms\n",
      "399:\tlearn: 0.1442438\ttotal: 394ms\tremaining: 591ms\n",
      "400:\tlearn: 0.1440933\ttotal: 395ms\tremaining: 590ms\n",
      "401:\tlearn: 0.1438693\ttotal: 396ms\tremaining: 589ms\n",
      "402:\tlearn: 0.1436172\ttotal: 397ms\tremaining: 588ms\n",
      "403:\tlearn: 0.1434923\ttotal: 398ms\tremaining: 587ms\n",
      "404:\tlearn: 0.1433198\ttotal: 399ms\tremaining: 586ms\n",
      "405:\tlearn: 0.1429782\ttotal: 400ms\tremaining: 585ms\n",
      "406:\tlearn: 0.1427654\ttotal: 401ms\tremaining: 584ms\n",
      "407:\tlearn: 0.1424765\ttotal: 402ms\tremaining: 583ms\n",
      "408:\tlearn: 0.1422920\ttotal: 402ms\tremaining: 582ms\n",
      "409:\tlearn: 0.1421155\ttotal: 403ms\tremaining: 580ms\n",
      "410:\tlearn: 0.1419328\ttotal: 404ms\tremaining: 579ms\n",
      "411:\tlearn: 0.1417805\ttotal: 405ms\tremaining: 578ms\n",
      "412:\tlearn: 0.1416222\ttotal: 406ms\tremaining: 577ms\n",
      "413:\tlearn: 0.1414459\ttotal: 406ms\tremaining: 575ms\n",
      "414:\tlearn: 0.1411061\ttotal: 407ms\tremaining: 574ms\n",
      "415:\tlearn: 0.1410352\ttotal: 408ms\tremaining: 573ms\n",
      "416:\tlearn: 0.1408671\ttotal: 409ms\tremaining: 572ms\n",
      "417:\tlearn: 0.1404808\ttotal: 410ms\tremaining: 571ms\n",
      "418:\tlearn: 0.1403298\ttotal: 411ms\tremaining: 570ms\n",
      "419:\tlearn: 0.1400897\ttotal: 412ms\tremaining: 569ms\n",
      "420:\tlearn: 0.1398589\ttotal: 413ms\tremaining: 567ms\n",
      "421:\tlearn: 0.1395873\ttotal: 413ms\tremaining: 566ms\n",
      "422:\tlearn: 0.1391917\ttotal: 414ms\tremaining: 565ms\n",
      "423:\tlearn: 0.1389334\ttotal: 415ms\tremaining: 564ms\n",
      "424:\tlearn: 0.1387879\ttotal: 416ms\tremaining: 563ms\n",
      "425:\tlearn: 0.1386219\ttotal: 417ms\tremaining: 562ms\n",
      "426:\tlearn: 0.1383425\ttotal: 418ms\tremaining: 560ms\n",
      "427:\tlearn: 0.1382346\ttotal: 418ms\tremaining: 559ms\n",
      "428:\tlearn: 0.1380406\ttotal: 419ms\tremaining: 558ms\n",
      "429:\tlearn: 0.1378568\ttotal: 420ms\tremaining: 557ms\n",
      "430:\tlearn: 0.1376813\ttotal: 421ms\tremaining: 556ms\n",
      "431:\tlearn: 0.1375308\ttotal: 422ms\tremaining: 555ms\n",
      "432:\tlearn: 0.1374228\ttotal: 423ms\tremaining: 554ms\n",
      "433:\tlearn: 0.1370947\ttotal: 424ms\tremaining: 553ms\n",
      "434:\tlearn: 0.1368752\ttotal: 425ms\tremaining: 552ms\n",
      "435:\tlearn: 0.1366749\ttotal: 426ms\tremaining: 551ms\n",
      "436:\tlearn: 0.1366077\ttotal: 426ms\tremaining: 549ms\n",
      "437:\tlearn: 0.1363240\ttotal: 427ms\tremaining: 548ms\n",
      "438:\tlearn: 0.1360312\ttotal: 428ms\tremaining: 547ms\n",
      "439:\tlearn: 0.1356096\ttotal: 429ms\tremaining: 546ms\n",
      "440:\tlearn: 0.1354205\ttotal: 430ms\tremaining: 545ms\n",
      "441:\tlearn: 0.1351846\ttotal: 431ms\tremaining: 544ms\n",
      "442:\tlearn: 0.1350592\ttotal: 432ms\tremaining: 543ms\n",
      "443:\tlearn: 0.1349192\ttotal: 433ms\tremaining: 542ms\n",
      "444:\tlearn: 0.1348043\ttotal: 433ms\tremaining: 541ms\n",
      "445:\tlearn: 0.1344787\ttotal: 434ms\tremaining: 540ms\n",
      "446:\tlearn: 0.1341546\ttotal: 435ms\tremaining: 538ms\n",
      "447:\tlearn: 0.1339317\ttotal: 436ms\tremaining: 537ms\n",
      "448:\tlearn: 0.1337166\ttotal: 437ms\tremaining: 536ms\n",
      "449:\tlearn: 0.1333357\ttotal: 438ms\tremaining: 535ms\n",
      "450:\tlearn: 0.1331375\ttotal: 438ms\tremaining: 534ms\n",
      "451:\tlearn: 0.1327918\ttotal: 439ms\tremaining: 533ms\n",
      "452:\tlearn: 0.1324842\ttotal: 440ms\tremaining: 531ms\n",
      "453:\tlearn: 0.1321664\ttotal: 441ms\tremaining: 530ms\n",
      "454:\tlearn: 0.1318316\ttotal: 442ms\tremaining: 529ms\n",
      "455:\tlearn: 0.1314915\ttotal: 442ms\tremaining: 528ms\n",
      "456:\tlearn: 0.1312853\ttotal: 443ms\tremaining: 527ms\n",
      "457:\tlearn: 0.1309366\ttotal: 444ms\tremaining: 526ms\n",
      "458:\tlearn: 0.1308475\ttotal: 445ms\tremaining: 525ms\n",
      "459:\tlearn: 0.1305898\ttotal: 446ms\tremaining: 523ms\n",
      "460:\tlearn: 0.1303888\ttotal: 447ms\tremaining: 522ms\n",
      "461:\tlearn: 0.1300687\ttotal: 448ms\tremaining: 521ms\n",
      "462:\tlearn: 0.1298847\ttotal: 448ms\tremaining: 520ms\n",
      "463:\tlearn: 0.1296240\ttotal: 449ms\tremaining: 519ms\n",
      "464:\tlearn: 0.1295476\ttotal: 450ms\tremaining: 518ms\n",
      "465:\tlearn: 0.1293703\ttotal: 451ms\tremaining: 517ms\n",
      "466:\tlearn: 0.1292134\ttotal: 452ms\tremaining: 516ms\n",
      "467:\tlearn: 0.1290572\ttotal: 452ms\tremaining: 514ms\n",
      "468:\tlearn: 0.1289776\ttotal: 453ms\tremaining: 513ms\n",
      "469:\tlearn: 0.1287603\ttotal: 454ms\tremaining: 512ms\n",
      "470:\tlearn: 0.1284709\ttotal: 455ms\tremaining: 511ms\n",
      "471:\tlearn: 0.1281972\ttotal: 456ms\tremaining: 510ms\n",
      "472:\tlearn: 0.1280164\ttotal: 457ms\tremaining: 509ms\n",
      "473:\tlearn: 0.1278393\ttotal: 457ms\tremaining: 507ms\n",
      "474:\tlearn: 0.1276489\ttotal: 458ms\tremaining: 506ms\n",
      "475:\tlearn: 0.1275099\ttotal: 459ms\tremaining: 505ms\n",
      "476:\tlearn: 0.1272566\ttotal: 460ms\tremaining: 504ms\n",
      "477:\tlearn: 0.1270863\ttotal: 460ms\tremaining: 503ms\n",
      "478:\tlearn: 0.1269959\ttotal: 462ms\tremaining: 502ms\n",
      "479:\tlearn: 0.1267248\ttotal: 463ms\tremaining: 501ms\n",
      "480:\tlearn: 0.1264438\ttotal: 463ms\tremaining: 500ms\n",
      "481:\tlearn: 0.1263792\ttotal: 464ms\tremaining: 499ms\n",
      "482:\tlearn: 0.1260579\ttotal: 465ms\tremaining: 498ms\n",
      "483:\tlearn: 0.1258879\ttotal: 466ms\tremaining: 497ms\n",
      "484:\tlearn: 0.1256335\ttotal: 467ms\tremaining: 496ms\n",
      "485:\tlearn: 0.1253576\ttotal: 468ms\tremaining: 494ms\n",
      "486:\tlearn: 0.1251123\ttotal: 468ms\tremaining: 493ms\n",
      "487:\tlearn: 0.1248216\ttotal: 469ms\tremaining: 492ms\n",
      "488:\tlearn: 0.1247551\ttotal: 470ms\tremaining: 491ms\n",
      "489:\tlearn: 0.1246177\ttotal: 471ms\tremaining: 490ms\n",
      "490:\tlearn: 0.1244672\ttotal: 471ms\tremaining: 489ms\n",
      "491:\tlearn: 0.1242827\ttotal: 472ms\tremaining: 488ms\n",
      "492:\tlearn: 0.1239641\ttotal: 473ms\tremaining: 487ms\n",
      "493:\tlearn: 0.1237197\ttotal: 474ms\tremaining: 485ms\n",
      "494:\tlearn: 0.1234779\ttotal: 475ms\tremaining: 484ms\n",
      "495:\tlearn: 0.1231873\ttotal: 476ms\tremaining: 483ms\n",
      "496:\tlearn: 0.1229561\ttotal: 477ms\tremaining: 482ms\n",
      "497:\tlearn: 0.1227294\ttotal: 477ms\tremaining: 481ms\n",
      "498:\tlearn: 0.1224380\ttotal: 478ms\tremaining: 480ms\n",
      "499:\tlearn: 0.1221882\ttotal: 480ms\tremaining: 480ms\n",
      "500:\tlearn: 0.1221251\ttotal: 480ms\tremaining: 478ms\n",
      "501:\tlearn: 0.1218302\ttotal: 481ms\tremaining: 477ms\n",
      "502:\tlearn: 0.1215618\ttotal: 482ms\tremaining: 476ms\n",
      "503:\tlearn: 0.1214015\ttotal: 483ms\tremaining: 475ms\n",
      "504:\tlearn: 0.1212269\ttotal: 484ms\tremaining: 474ms\n",
      "505:\tlearn: 0.1210341\ttotal: 485ms\tremaining: 473ms\n",
      "506:\tlearn: 0.1208961\ttotal: 486ms\tremaining: 472ms\n",
      "507:\tlearn: 0.1206863\ttotal: 486ms\tremaining: 471ms\n",
      "508:\tlearn: 0.1206207\ttotal: 487ms\tremaining: 470ms\n",
      "509:\tlearn: 0.1204755\ttotal: 488ms\tremaining: 469ms\n",
      "510:\tlearn: 0.1202241\ttotal: 489ms\tremaining: 468ms\n"
     ]
    },
    {
     "name": "stdout",
     "output_type": "stream",
     "text": [
      "511:\tlearn: 0.1200764\ttotal: 490ms\tremaining: 467ms\n",
      "512:\tlearn: 0.1197647\ttotal: 491ms\tremaining: 466ms\n",
      "513:\tlearn: 0.1195591\ttotal: 492ms\tremaining: 465ms\n",
      "514:\tlearn: 0.1192388\ttotal: 493ms\tremaining: 464ms\n",
      "515:\tlearn: 0.1189674\ttotal: 494ms\tremaining: 463ms\n",
      "516:\tlearn: 0.1187030\ttotal: 494ms\tremaining: 462ms\n",
      "517:\tlearn: 0.1185878\ttotal: 495ms\tremaining: 461ms\n",
      "518:\tlearn: 0.1182865\ttotal: 496ms\tremaining: 460ms\n",
      "519:\tlearn: 0.1180916\ttotal: 497ms\tremaining: 459ms\n",
      "520:\tlearn: 0.1177873\ttotal: 498ms\tremaining: 458ms\n",
      "521:\tlearn: 0.1176034\ttotal: 499ms\tremaining: 457ms\n",
      "522:\tlearn: 0.1172070\ttotal: 500ms\tremaining: 456ms\n",
      "523:\tlearn: 0.1171407\ttotal: 500ms\tremaining: 455ms\n",
      "524:\tlearn: 0.1169708\ttotal: 501ms\tremaining: 454ms\n",
      "525:\tlearn: 0.1168689\ttotal: 502ms\tremaining: 452ms\n",
      "526:\tlearn: 0.1167906\ttotal: 503ms\tremaining: 451ms\n",
      "527:\tlearn: 0.1165643\ttotal: 504ms\tremaining: 450ms\n",
      "528:\tlearn: 0.1163419\ttotal: 505ms\tremaining: 449ms\n",
      "529:\tlearn: 0.1161036\ttotal: 505ms\tremaining: 448ms\n",
      "530:\tlearn: 0.1158278\ttotal: 506ms\tremaining: 447ms\n",
      "531:\tlearn: 0.1156326\ttotal: 507ms\tremaining: 446ms\n",
      "532:\tlearn: 0.1154363\ttotal: 507ms\tremaining: 445ms\n",
      "533:\tlearn: 0.1152143\ttotal: 508ms\tremaining: 444ms\n",
      "534:\tlearn: 0.1150202\ttotal: 509ms\tremaining: 443ms\n",
      "535:\tlearn: 0.1148234\ttotal: 510ms\tremaining: 442ms\n",
      "536:\tlearn: 0.1147245\ttotal: 511ms\tremaining: 440ms\n",
      "537:\tlearn: 0.1145727\ttotal: 512ms\tremaining: 439ms\n",
      "538:\tlearn: 0.1143140\ttotal: 512ms\tremaining: 438ms\n",
      "539:\tlearn: 0.1141469\ttotal: 513ms\tremaining: 437ms\n",
      "540:\tlearn: 0.1139024\ttotal: 514ms\tremaining: 436ms\n",
      "541:\tlearn: 0.1136936\ttotal: 515ms\tremaining: 435ms\n",
      "542:\tlearn: 0.1135615\ttotal: 516ms\tremaining: 434ms\n",
      "543:\tlearn: 0.1132666\ttotal: 516ms\tremaining: 433ms\n",
      "544:\tlearn: 0.1129550\ttotal: 517ms\tremaining: 432ms\n",
      "545:\tlearn: 0.1128820\ttotal: 518ms\tremaining: 431ms\n",
      "546:\tlearn: 0.1128040\ttotal: 519ms\tremaining: 430ms\n",
      "547:\tlearn: 0.1125947\ttotal: 520ms\tremaining: 429ms\n",
      "548:\tlearn: 0.1124014\ttotal: 521ms\tremaining: 428ms\n",
      "549:\tlearn: 0.1122950\ttotal: 521ms\tremaining: 427ms\n",
      "550:\tlearn: 0.1120426\ttotal: 522ms\tremaining: 426ms\n",
      "551:\tlearn: 0.1118406\ttotal: 523ms\tremaining: 424ms\n",
      "552:\tlearn: 0.1115497\ttotal: 524ms\tremaining: 423ms\n",
      "553:\tlearn: 0.1112038\ttotal: 525ms\tremaining: 422ms\n",
      "554:\tlearn: 0.1110691\ttotal: 526ms\tremaining: 421ms\n",
      "555:\tlearn: 0.1109311\ttotal: 526ms\tremaining: 420ms\n",
      "556:\tlearn: 0.1108072\ttotal: 527ms\tremaining: 419ms\n",
      "557:\tlearn: 0.1106746\ttotal: 528ms\tremaining: 418ms\n",
      "558:\tlearn: 0.1104542\ttotal: 529ms\tremaining: 417ms\n",
      "559:\tlearn: 0.1102004\ttotal: 529ms\tremaining: 416ms\n",
      "560:\tlearn: 0.1100356\ttotal: 530ms\tremaining: 415ms\n",
      "561:\tlearn: 0.1099353\ttotal: 531ms\tremaining: 414ms\n",
      "562:\tlearn: 0.1098543\ttotal: 532ms\tremaining: 413ms\n",
      "563:\tlearn: 0.1096555\ttotal: 533ms\tremaining: 412ms\n",
      "564:\tlearn: 0.1093048\ttotal: 534ms\tremaining: 411ms\n",
      "565:\tlearn: 0.1090054\ttotal: 534ms\tremaining: 410ms\n",
      "566:\tlearn: 0.1088312\ttotal: 535ms\tremaining: 409ms\n",
      "567:\tlearn: 0.1086168\ttotal: 536ms\tremaining: 408ms\n",
      "568:\tlearn: 0.1084645\ttotal: 537ms\tremaining: 407ms\n",
      "569:\tlearn: 0.1083250\ttotal: 538ms\tremaining: 406ms\n",
      "570:\tlearn: 0.1082051\ttotal: 539ms\tremaining: 405ms\n",
      "571:\tlearn: 0.1081025\ttotal: 539ms\tremaining: 404ms\n",
      "572:\tlearn: 0.1079922\ttotal: 540ms\tremaining: 403ms\n",
      "573:\tlearn: 0.1078518\ttotal: 541ms\tremaining: 402ms\n",
      "574:\tlearn: 0.1077955\ttotal: 542ms\tremaining: 400ms\n",
      "575:\tlearn: 0.1076124\ttotal: 543ms\tremaining: 400ms\n",
      "576:\tlearn: 0.1074044\ttotal: 543ms\tremaining: 398ms\n",
      "577:\tlearn: 0.1072589\ttotal: 544ms\tremaining: 397ms\n",
      "578:\tlearn: 0.1072206\ttotal: 545ms\tremaining: 396ms\n",
      "579:\tlearn: 0.1069826\ttotal: 546ms\tremaining: 395ms\n",
      "580:\tlearn: 0.1069184\ttotal: 547ms\tremaining: 394ms\n",
      "581:\tlearn: 0.1068022\ttotal: 548ms\tremaining: 393ms\n",
      "582:\tlearn: 0.1066787\ttotal: 548ms\tremaining: 392ms\n",
      "583:\tlearn: 0.1065263\ttotal: 549ms\tremaining: 391ms\n",
      "584:\tlearn: 0.1064849\ttotal: 550ms\tremaining: 390ms\n",
      "585:\tlearn: 0.1062744\ttotal: 551ms\tremaining: 389ms\n",
      "586:\tlearn: 0.1062131\ttotal: 552ms\tremaining: 388ms\n",
      "587:\tlearn: 0.1060881\ttotal: 553ms\tremaining: 387ms\n",
      "588:\tlearn: 0.1059465\ttotal: 554ms\tremaining: 386ms\n",
      "589:\tlearn: 0.1058568\ttotal: 555ms\tremaining: 385ms\n",
      "590:\tlearn: 0.1057445\ttotal: 555ms\tremaining: 384ms\n",
      "591:\tlearn: 0.1056260\ttotal: 556ms\tremaining: 383ms\n",
      "592:\tlearn: 0.1054612\ttotal: 557ms\tremaining: 382ms\n",
      "593:\tlearn: 0.1052553\ttotal: 558ms\tremaining: 381ms\n",
      "594:\tlearn: 0.1052225\ttotal: 559ms\tremaining: 380ms\n",
      "595:\tlearn: 0.1049924\ttotal: 559ms\tremaining: 379ms\n",
      "596:\tlearn: 0.1048707\ttotal: 560ms\tremaining: 378ms\n",
      "597:\tlearn: 0.1045907\ttotal: 561ms\tremaining: 377ms\n",
      "598:\tlearn: 0.1045118\ttotal: 562ms\tremaining: 376ms\n",
      "599:\tlearn: 0.1043486\ttotal: 563ms\tremaining: 375ms\n",
      "600:\tlearn: 0.1042908\ttotal: 564ms\tremaining: 374ms\n",
      "601:\tlearn: 0.1042410\ttotal: 565ms\tremaining: 373ms\n",
      "602:\tlearn: 0.1040699\ttotal: 566ms\tremaining: 372ms\n",
      "603:\tlearn: 0.1038410\ttotal: 566ms\tremaining: 371ms\n",
      "604:\tlearn: 0.1035137\ttotal: 567ms\tremaining: 370ms\n",
      "605:\tlearn: 0.1034708\ttotal: 568ms\tremaining: 369ms\n",
      "606:\tlearn: 0.1034157\ttotal: 569ms\tremaining: 368ms\n",
      "607:\tlearn: 0.1032005\ttotal: 570ms\tremaining: 367ms\n",
      "608:\tlearn: 0.1029920\ttotal: 571ms\tremaining: 366ms\n"
     ]
    },
    {
     "name": "stdout",
     "output_type": "stream",
     "text": [
      "609:\tlearn: 0.1028317\ttotal: 572ms\tremaining: 366ms\n",
      "610:\tlearn: 0.1026032\ttotal: 573ms\tremaining: 365ms\n",
      "611:\tlearn: 0.1025181\ttotal: 574ms\tremaining: 364ms\n",
      "612:\tlearn: 0.1024406\ttotal: 575ms\tremaining: 363ms\n",
      "613:\tlearn: 0.1022095\ttotal: 575ms\tremaining: 362ms\n",
      "614:\tlearn: 0.1019873\ttotal: 576ms\tremaining: 361ms\n",
      "615:\tlearn: 0.1018300\ttotal: 577ms\tremaining: 360ms\n",
      "616:\tlearn: 0.1016086\ttotal: 578ms\tremaining: 359ms\n",
      "617:\tlearn: 0.1014584\ttotal: 579ms\tremaining: 358ms\n",
      "618:\tlearn: 0.1012909\ttotal: 580ms\tremaining: 357ms\n",
      "619:\tlearn: 0.1011098\ttotal: 580ms\tremaining: 356ms\n",
      "620:\tlearn: 0.1009996\ttotal: 581ms\tremaining: 355ms\n",
      "621:\tlearn: 0.1007806\ttotal: 582ms\tremaining: 354ms\n",
      "622:\tlearn: 0.1007498\ttotal: 583ms\tremaining: 353ms\n",
      "623:\tlearn: 0.1005901\ttotal: 584ms\tremaining: 352ms\n",
      "624:\tlearn: 0.1003804\ttotal: 585ms\tremaining: 351ms\n",
      "625:\tlearn: 0.1003486\ttotal: 586ms\tremaining: 350ms\n",
      "626:\tlearn: 0.1001839\ttotal: 587ms\tremaining: 349ms\n",
      "627:\tlearn: 0.1001573\ttotal: 587ms\tremaining: 348ms\n",
      "628:\tlearn: 0.0999561\ttotal: 588ms\tremaining: 347ms\n",
      "629:\tlearn: 0.0999250\ttotal: 589ms\tremaining: 346ms\n",
      "630:\tlearn: 0.0997860\ttotal: 590ms\tremaining: 345ms\n",
      "631:\tlearn: 0.0996124\ttotal: 591ms\tremaining: 344ms\n",
      "632:\tlearn: 0.0995195\ttotal: 591ms\tremaining: 343ms\n",
      "633:\tlearn: 0.0994422\ttotal: 592ms\tremaining: 342ms\n",
      "634:\tlearn: 0.0992123\ttotal: 593ms\tremaining: 341ms\n",
      "635:\tlearn: 0.0990719\ttotal: 594ms\tremaining: 340ms\n",
      "636:\tlearn: 0.0988868\ttotal: 595ms\tremaining: 339ms\n",
      "637:\tlearn: 0.0987737\ttotal: 596ms\tremaining: 338ms\n",
      "638:\tlearn: 0.0986003\ttotal: 596ms\tremaining: 337ms\n",
      "639:\tlearn: 0.0985717\ttotal: 597ms\tremaining: 336ms\n",
      "640:\tlearn: 0.0985130\ttotal: 598ms\tremaining: 335ms\n",
      "641:\tlearn: 0.0984713\ttotal: 599ms\tremaining: 334ms\n",
      "642:\tlearn: 0.0983684\ttotal: 599ms\tremaining: 333ms\n",
      "643:\tlearn: 0.0983385\ttotal: 600ms\tremaining: 332ms\n",
      "644:\tlearn: 0.0981767\ttotal: 601ms\tremaining: 331ms\n",
      "645:\tlearn: 0.0980903\ttotal: 602ms\tremaining: 330ms\n",
      "646:\tlearn: 0.0980606\ttotal: 603ms\tremaining: 329ms\n",
      "647:\tlearn: 0.0979188\ttotal: 604ms\tremaining: 328ms\n",
      "648:\tlearn: 0.0977730\ttotal: 604ms\tremaining: 327ms\n",
      "649:\tlearn: 0.0976701\ttotal: 605ms\tremaining: 326ms\n",
      "650:\tlearn: 0.0975774\ttotal: 606ms\tremaining: 325ms\n",
      "651:\tlearn: 0.0974083\ttotal: 607ms\tremaining: 324ms\n",
      "652:\tlearn: 0.0971651\ttotal: 608ms\tremaining: 323ms\n",
      "653:\tlearn: 0.0970683\ttotal: 608ms\tremaining: 322ms\n",
      "654:\tlearn: 0.0969196\ttotal: 609ms\tremaining: 321ms\n",
      "655:\tlearn: 0.0968175\ttotal: 610ms\tremaining: 320ms\n",
      "656:\tlearn: 0.0966591\ttotal: 611ms\tremaining: 319ms\n",
      "657:\tlearn: 0.0964343\ttotal: 612ms\tremaining: 318ms\n",
      "658:\tlearn: 0.0962422\ttotal: 612ms\tremaining: 317ms\n",
      "659:\tlearn: 0.0960324\ttotal: 613ms\tremaining: 316ms\n",
      "660:\tlearn: 0.0959672\ttotal: 614ms\tremaining: 315ms\n",
      "661:\tlearn: 0.0957248\ttotal: 615ms\tremaining: 314ms\n",
      "662:\tlearn: 0.0956256\ttotal: 615ms\tremaining: 313ms\n",
      "663:\tlearn: 0.0954473\ttotal: 616ms\tremaining: 312ms\n",
      "664:\tlearn: 0.0953728\ttotal: 617ms\tremaining: 311ms\n",
      "665:\tlearn: 0.0952949\ttotal: 618ms\tremaining: 310ms\n",
      "666:\tlearn: 0.0951785\ttotal: 619ms\tremaining: 309ms\n",
      "667:\tlearn: 0.0951305\ttotal: 619ms\tremaining: 308ms\n",
      "668:\tlearn: 0.0950961\ttotal: 620ms\tremaining: 307ms\n",
      "669:\tlearn: 0.0949991\ttotal: 621ms\tremaining: 306ms\n",
      "670:\tlearn: 0.0948835\ttotal: 622ms\tremaining: 305ms\n",
      "671:\tlearn: 0.0947143\ttotal: 622ms\tremaining: 304ms\n",
      "672:\tlearn: 0.0944946\ttotal: 623ms\tremaining: 303ms\n",
      "673:\tlearn: 0.0943052\ttotal: 624ms\tremaining: 302ms\n",
      "674:\tlearn: 0.0941716\ttotal: 625ms\tremaining: 301ms\n",
      "675:\tlearn: 0.0939665\ttotal: 626ms\tremaining: 300ms\n",
      "676:\tlearn: 0.0936947\ttotal: 627ms\tremaining: 299ms\n",
      "677:\tlearn: 0.0935577\ttotal: 628ms\tremaining: 298ms\n",
      "678:\tlearn: 0.0933653\ttotal: 629ms\tremaining: 297ms\n",
      "679:\tlearn: 0.0931330\ttotal: 629ms\tremaining: 296ms\n",
      "680:\tlearn: 0.0928852\ttotal: 630ms\tremaining: 295ms\n",
      "681:\tlearn: 0.0926398\ttotal: 631ms\tremaining: 294ms\n",
      "682:\tlearn: 0.0924130\ttotal: 632ms\tremaining: 293ms\n",
      "683:\tlearn: 0.0922737\ttotal: 633ms\tremaining: 292ms\n",
      "684:\tlearn: 0.0921590\ttotal: 634ms\tremaining: 291ms\n",
      "685:\tlearn: 0.0920172\ttotal: 635ms\tremaining: 291ms\n",
      "686:\tlearn: 0.0919731\ttotal: 636ms\tremaining: 290ms\n",
      "687:\tlearn: 0.0918141\ttotal: 637ms\tremaining: 289ms\n",
      "688:\tlearn: 0.0916783\ttotal: 637ms\tremaining: 288ms\n",
      "689:\tlearn: 0.0915371\ttotal: 638ms\tremaining: 287ms\n",
      "690:\tlearn: 0.0914478\ttotal: 639ms\tremaining: 286ms\n",
      "691:\tlearn: 0.0913372\ttotal: 640ms\tremaining: 285ms\n",
      "692:\tlearn: 0.0911993\ttotal: 641ms\tremaining: 284ms\n",
      "693:\tlearn: 0.0910565\ttotal: 642ms\tremaining: 283ms\n",
      "694:\tlearn: 0.0908786\ttotal: 642ms\tremaining: 282ms\n",
      "695:\tlearn: 0.0907356\ttotal: 643ms\tremaining: 281ms\n",
      "696:\tlearn: 0.0906968\ttotal: 644ms\tremaining: 280ms\n",
      "697:\tlearn: 0.0906206\ttotal: 645ms\tremaining: 279ms\n",
      "698:\tlearn: 0.0904556\ttotal: 646ms\tremaining: 278ms\n",
      "699:\tlearn: 0.0903724\ttotal: 647ms\tremaining: 277ms\n",
      "700:\tlearn: 0.0902230\ttotal: 647ms\tremaining: 276ms\n",
      "701:\tlearn: 0.0900380\ttotal: 648ms\tremaining: 275ms\n",
      "702:\tlearn: 0.0899781\ttotal: 649ms\tremaining: 274ms\n",
      "703:\tlearn: 0.0898774\ttotal: 650ms\tremaining: 273ms\n",
      "704:\tlearn: 0.0897027\ttotal: 651ms\tremaining: 272ms\n",
      "705:\tlearn: 0.0895388\ttotal: 651ms\tremaining: 271ms\n",
      "706:\tlearn: 0.0894171\ttotal: 652ms\tremaining: 270ms\n",
      "707:\tlearn: 0.0892378\ttotal: 653ms\tremaining: 269ms\n",
      "708:\tlearn: 0.0891128\ttotal: 654ms\tremaining: 268ms\n",
      "709:\tlearn: 0.0889931\ttotal: 654ms\tremaining: 267ms\n",
      "710:\tlearn: 0.0889083\ttotal: 655ms\tremaining: 266ms\n",
      "711:\tlearn: 0.0888618\ttotal: 656ms\tremaining: 265ms\n",
      "712:\tlearn: 0.0887014\ttotal: 657ms\tremaining: 264ms\n",
      "713:\tlearn: 0.0885478\ttotal: 658ms\tremaining: 263ms\n",
      "714:\tlearn: 0.0883970\ttotal: 659ms\tremaining: 262ms\n",
      "715:\tlearn: 0.0883683\ttotal: 659ms\tremaining: 262ms\n",
      "716:\tlearn: 0.0882718\ttotal: 660ms\tremaining: 261ms\n",
      "717:\tlearn: 0.0882479\ttotal: 661ms\tremaining: 260ms\n",
      "718:\tlearn: 0.0881324\ttotal: 662ms\tremaining: 259ms\n",
      "719:\tlearn: 0.0880165\ttotal: 663ms\tremaining: 258ms\n",
      "720:\tlearn: 0.0878552\ttotal: 664ms\tremaining: 257ms\n",
      "721:\tlearn: 0.0878284\ttotal: 665ms\tremaining: 256ms\n",
      "722:\tlearn: 0.0876715\ttotal: 666ms\tremaining: 255ms\n",
      "723:\tlearn: 0.0875719\ttotal: 666ms\tremaining: 254ms\n",
      "724:\tlearn: 0.0874567\ttotal: 667ms\tremaining: 253ms\n",
      "725:\tlearn: 0.0873010\ttotal: 668ms\tremaining: 252ms\n",
      "726:\tlearn: 0.0871664\ttotal: 669ms\tremaining: 251ms\n",
      "727:\tlearn: 0.0871264\ttotal: 670ms\tremaining: 250ms\n",
      "728:\tlearn: 0.0869887\ttotal: 671ms\tremaining: 249ms\n",
      "729:\tlearn: 0.0868808\ttotal: 672ms\tremaining: 248ms\n",
      "730:\tlearn: 0.0867569\ttotal: 673ms\tremaining: 247ms\n",
      "731:\tlearn: 0.0865914\ttotal: 673ms\tremaining: 247ms\n",
      "732:\tlearn: 0.0864746\ttotal: 674ms\tremaining: 246ms\n",
      "733:\tlearn: 0.0863764\ttotal: 675ms\tremaining: 245ms\n",
      "734:\tlearn: 0.0863503\ttotal: 676ms\tremaining: 244ms\n",
      "735:\tlearn: 0.0862035\ttotal: 677ms\tremaining: 243ms\n",
      "736:\tlearn: 0.0860599\ttotal: 678ms\tremaining: 242ms\n",
      "737:\tlearn: 0.0860212\ttotal: 678ms\tremaining: 241ms\n",
      "738:\tlearn: 0.0858502\ttotal: 679ms\tremaining: 240ms\n"
     ]
    },
    {
     "name": "stdout",
     "output_type": "stream",
     "text": [
      "739:\tlearn: 0.0857523\ttotal: 680ms\tremaining: 239ms\n",
      "740:\tlearn: 0.0856533\ttotal: 681ms\tremaining: 238ms\n",
      "741:\tlearn: 0.0855540\ttotal: 682ms\tremaining: 237ms\n",
      "742:\tlearn: 0.0853765\ttotal: 683ms\tremaining: 236ms\n",
      "743:\tlearn: 0.0851916\ttotal: 684ms\tremaining: 235ms\n",
      "744:\tlearn: 0.0850695\ttotal: 685ms\tremaining: 234ms\n",
      "745:\tlearn: 0.0848930\ttotal: 685ms\tremaining: 233ms\n",
      "746:\tlearn: 0.0847673\ttotal: 686ms\tremaining: 232ms\n",
      "747:\tlearn: 0.0846835\ttotal: 687ms\tremaining: 231ms\n",
      "748:\tlearn: 0.0845142\ttotal: 688ms\tremaining: 231ms\n",
      "749:\tlearn: 0.0844775\ttotal: 689ms\tremaining: 230ms\n",
      "750:\tlearn: 0.0843091\ttotal: 689ms\tremaining: 229ms\n",
      "751:\tlearn: 0.0842765\ttotal: 690ms\tremaining: 228ms\n",
      "752:\tlearn: 0.0840989\ttotal: 691ms\tremaining: 227ms\n",
      "753:\tlearn: 0.0840693\ttotal: 692ms\tremaining: 226ms\n",
      "754:\tlearn: 0.0838964\ttotal: 693ms\tremaining: 225ms\n",
      "755:\tlearn: 0.0838245\ttotal: 694ms\tremaining: 224ms\n",
      "756:\tlearn: 0.0836817\ttotal: 695ms\tremaining: 223ms\n",
      "757:\tlearn: 0.0835253\ttotal: 696ms\tremaining: 222ms\n",
      "758:\tlearn: 0.0833770\ttotal: 696ms\tremaining: 221ms\n",
      "759:\tlearn: 0.0833543\ttotal: 697ms\tremaining: 220ms\n",
      "760:\tlearn: 0.0832600\ttotal: 698ms\tremaining: 219ms\n",
      "761:\tlearn: 0.0832360\ttotal: 699ms\tremaining: 218ms\n",
      "762:\tlearn: 0.0832148\ttotal: 700ms\tremaining: 217ms\n",
      "763:\tlearn: 0.0830349\ttotal: 701ms\tremaining: 216ms\n",
      "764:\tlearn: 0.0829965\ttotal: 702ms\tremaining: 216ms\n",
      "765:\tlearn: 0.0828120\ttotal: 702ms\tremaining: 215ms\n",
      "766:\tlearn: 0.0826616\ttotal: 703ms\tremaining: 214ms\n",
      "767:\tlearn: 0.0825064\ttotal: 704ms\tremaining: 213ms\n",
      "768:\tlearn: 0.0823610\ttotal: 705ms\tremaining: 212ms\n",
      "769:\tlearn: 0.0822327\ttotal: 706ms\tremaining: 211ms\n",
      "770:\tlearn: 0.0821500\ttotal: 706ms\tremaining: 210ms\n",
      "771:\tlearn: 0.0820524\ttotal: 707ms\tremaining: 209ms\n",
      "772:\tlearn: 0.0820284\ttotal: 708ms\tremaining: 208ms\n",
      "773:\tlearn: 0.0819776\ttotal: 709ms\tremaining: 207ms\n",
      "774:\tlearn: 0.0818582\ttotal: 710ms\tremaining: 206ms\n",
      "775:\tlearn: 0.0817409\ttotal: 711ms\tremaining: 205ms\n",
      "776:\tlearn: 0.0815737\ttotal: 711ms\tremaining: 204ms\n",
      "777:\tlearn: 0.0814488\ttotal: 712ms\tremaining: 203ms\n",
      "778:\tlearn: 0.0813054\ttotal: 713ms\tremaining: 202ms\n",
      "779:\tlearn: 0.0812800\ttotal: 714ms\tremaining: 201ms\n",
      "780:\tlearn: 0.0811495\ttotal: 715ms\tremaining: 200ms\n",
      "781:\tlearn: 0.0810500\ttotal: 716ms\tremaining: 199ms\n",
      "782:\tlearn: 0.0809384\ttotal: 716ms\tremaining: 199ms\n",
      "783:\tlearn: 0.0809150\ttotal: 717ms\tremaining: 198ms\n",
      "784:\tlearn: 0.0808162\ttotal: 718ms\tremaining: 197ms\n",
      "785:\tlearn: 0.0806927\ttotal: 719ms\tremaining: 196ms\n",
      "786:\tlearn: 0.0805693\ttotal: 720ms\tremaining: 195ms\n",
      "787:\tlearn: 0.0804725\ttotal: 721ms\tremaining: 194ms\n",
      "788:\tlearn: 0.0804275\ttotal: 722ms\tremaining: 193ms\n",
      "789:\tlearn: 0.0803308\ttotal: 723ms\tremaining: 192ms\n",
      "790:\tlearn: 0.0802237\ttotal: 724ms\tremaining: 191ms\n",
      "791:\tlearn: 0.0800333\ttotal: 725ms\tremaining: 190ms\n",
      "792:\tlearn: 0.0800014\ttotal: 725ms\tremaining: 189ms\n",
      "793:\tlearn: 0.0798550\ttotal: 726ms\tremaining: 188ms\n",
      "794:\tlearn: 0.0797063\ttotal: 727ms\tremaining: 187ms\n",
      "795:\tlearn: 0.0795755\ttotal: 728ms\tremaining: 186ms\n",
      "796:\tlearn: 0.0794264\ttotal: 728ms\tremaining: 186ms\n",
      "797:\tlearn: 0.0793222\ttotal: 729ms\tremaining: 185ms\n",
      "798:\tlearn: 0.0792965\ttotal: 730ms\tremaining: 184ms\n",
      "799:\tlearn: 0.0792422\ttotal: 731ms\tremaining: 183ms\n",
      "800:\tlearn: 0.0790782\ttotal: 731ms\tremaining: 182ms\n",
      "801:\tlearn: 0.0789173\ttotal: 732ms\tremaining: 181ms\n",
      "802:\tlearn: 0.0788634\ttotal: 733ms\tremaining: 180ms\n",
      "803:\tlearn: 0.0788116\ttotal: 734ms\tremaining: 179ms\n",
      "804:\tlearn: 0.0787825\ttotal: 735ms\tremaining: 178ms\n",
      "805:\tlearn: 0.0787384\ttotal: 735ms\tremaining: 177ms\n",
      "806:\tlearn: 0.0785883\ttotal: 737ms\tremaining: 176ms\n",
      "807:\tlearn: 0.0784889\ttotal: 738ms\tremaining: 175ms\n",
      "808:\tlearn: 0.0784088\ttotal: 739ms\tremaining: 174ms\n",
      "809:\tlearn: 0.0782820\ttotal: 740ms\tremaining: 174ms\n",
      "810:\tlearn: 0.0782394\ttotal: 741ms\tremaining: 173ms\n",
      "811:\tlearn: 0.0782095\ttotal: 742ms\tremaining: 172ms\n",
      "812:\tlearn: 0.0781136\ttotal: 743ms\tremaining: 171ms\n",
      "813:\tlearn: 0.0780373\ttotal: 743ms\tremaining: 170ms\n",
      "814:\tlearn: 0.0779690\ttotal: 745ms\tremaining: 169ms\n",
      "815:\tlearn: 0.0778318\ttotal: 745ms\tremaining: 168ms\n",
      "816:\tlearn: 0.0776524\ttotal: 746ms\tremaining: 167ms\n",
      "817:\tlearn: 0.0775139\ttotal: 747ms\tremaining: 166ms\n",
      "818:\tlearn: 0.0774448\ttotal: 748ms\tremaining: 165ms\n",
      "819:\tlearn: 0.0774159\ttotal: 749ms\tremaining: 164ms\n",
      "820:\tlearn: 0.0773129\ttotal: 750ms\tremaining: 163ms\n",
      "821:\tlearn: 0.0772061\ttotal: 751ms\tremaining: 163ms\n",
      "822:\tlearn: 0.0770525\ttotal: 751ms\tremaining: 162ms\n",
      "823:\tlearn: 0.0769890\ttotal: 752ms\tremaining: 161ms\n",
      "824:\tlearn: 0.0769042\ttotal: 753ms\tremaining: 160ms\n",
      "825:\tlearn: 0.0768122\ttotal: 755ms\tremaining: 159ms\n",
      "826:\tlearn: 0.0766960\ttotal: 755ms\tremaining: 158ms\n",
      "827:\tlearn: 0.0765970\ttotal: 756ms\tremaining: 157ms\n",
      "828:\tlearn: 0.0764547\ttotal: 757ms\tremaining: 156ms\n",
      "829:\tlearn: 0.0763323\ttotal: 758ms\tremaining: 155ms\n",
      "830:\tlearn: 0.0761514\ttotal: 759ms\tremaining: 154ms\n",
      "831:\tlearn: 0.0760609\ttotal: 760ms\tremaining: 153ms\n",
      "832:\tlearn: 0.0758782\ttotal: 761ms\tremaining: 153ms\n"
     ]
    },
    {
     "name": "stdout",
     "output_type": "stream",
     "text": [
      "833:\tlearn: 0.0757769\ttotal: 762ms\tremaining: 152ms\n",
      "834:\tlearn: 0.0756578\ttotal: 763ms\tremaining: 151ms\n",
      "835:\tlearn: 0.0755182\ttotal: 764ms\tremaining: 150ms\n",
      "836:\tlearn: 0.0753976\ttotal: 765ms\tremaining: 149ms\n",
      "837:\tlearn: 0.0753055\ttotal: 766ms\tremaining: 148ms\n",
      "838:\tlearn: 0.0752343\ttotal: 766ms\tremaining: 147ms\n",
      "839:\tlearn: 0.0751933\ttotal: 767ms\tremaining: 146ms\n",
      "840:\tlearn: 0.0750906\ttotal: 768ms\tremaining: 145ms\n",
      "841:\tlearn: 0.0750230\ttotal: 769ms\tremaining: 144ms\n",
      "842:\tlearn: 0.0749664\ttotal: 770ms\tremaining: 143ms\n",
      "843:\tlearn: 0.0748797\ttotal: 770ms\tremaining: 142ms\n",
      "844:\tlearn: 0.0748322\ttotal: 771ms\tremaining: 141ms\n",
      "845:\tlearn: 0.0747796\ttotal: 772ms\tremaining: 141ms\n",
      "846:\tlearn: 0.0747580\ttotal: 773ms\tremaining: 140ms\n",
      "847:\tlearn: 0.0746869\ttotal: 774ms\tremaining: 139ms\n",
      "848:\tlearn: 0.0746001\ttotal: 775ms\tremaining: 138ms\n",
      "849:\tlearn: 0.0745355\ttotal: 776ms\tremaining: 137ms\n",
      "850:\tlearn: 0.0744094\ttotal: 776ms\tremaining: 136ms\n",
      "851:\tlearn: 0.0743229\ttotal: 777ms\tremaining: 135ms\n",
      "852:\tlearn: 0.0742112\ttotal: 779ms\tremaining: 134ms\n",
      "853:\tlearn: 0.0741811\ttotal: 780ms\tremaining: 133ms\n",
      "854:\tlearn: 0.0740853\ttotal: 780ms\tremaining: 132ms\n",
      "855:\tlearn: 0.0739888\ttotal: 781ms\tremaining: 131ms\n",
      "856:\tlearn: 0.0739597\ttotal: 782ms\tremaining: 130ms\n",
      "857:\tlearn: 0.0739066\ttotal: 783ms\tremaining: 130ms\n",
      "858:\tlearn: 0.0737637\ttotal: 784ms\tremaining: 129ms\n",
      "859:\tlearn: 0.0737127\ttotal: 785ms\tremaining: 128ms\n",
      "860:\tlearn: 0.0735555\ttotal: 785ms\tremaining: 127ms\n",
      "861:\tlearn: 0.0735296\ttotal: 786ms\tremaining: 126ms\n",
      "862:\tlearn: 0.0735043\ttotal: 787ms\tremaining: 125ms\n",
      "863:\tlearn: 0.0734515\ttotal: 788ms\tremaining: 124ms\n",
      "864:\tlearn: 0.0733385\ttotal: 789ms\tremaining: 123ms\n",
      "865:\tlearn: 0.0732386\ttotal: 790ms\tremaining: 122ms\n",
      "866:\tlearn: 0.0731762\ttotal: 790ms\tremaining: 121ms\n",
      "867:\tlearn: 0.0730887\ttotal: 791ms\tremaining: 120ms\n",
      "868:\tlearn: 0.0729542\ttotal: 792ms\tremaining: 119ms\n",
      "869:\tlearn: 0.0728516\ttotal: 793ms\tremaining: 118ms\n",
      "870:\tlearn: 0.0726950\ttotal: 794ms\tremaining: 118ms\n",
      "871:\tlearn: 0.0725629\ttotal: 795ms\tremaining: 117ms\n",
      "872:\tlearn: 0.0724654\ttotal: 796ms\tremaining: 116ms\n",
      "873:\tlearn: 0.0724208\ttotal: 796ms\tremaining: 115ms\n",
      "874:\tlearn: 0.0723385\ttotal: 797ms\tremaining: 114ms\n",
      "875:\tlearn: 0.0722991\ttotal: 798ms\tremaining: 113ms\n",
      "876:\tlearn: 0.0722125\ttotal: 799ms\tremaining: 112ms\n",
      "877:\tlearn: 0.0721724\ttotal: 800ms\tremaining: 111ms\n",
      "878:\tlearn: 0.0720212\ttotal: 800ms\tremaining: 110ms\n",
      "879:\tlearn: 0.0720083\ttotal: 801ms\tremaining: 109ms\n",
      "880:\tlearn: 0.0718710\ttotal: 802ms\tremaining: 108ms\n",
      "881:\tlearn: 0.0717492\ttotal: 803ms\tremaining: 107ms\n",
      "882:\tlearn: 0.0715970\ttotal: 804ms\tremaining: 107ms\n",
      "883:\tlearn: 0.0715820\ttotal: 805ms\tremaining: 106ms\n",
      "884:\tlearn: 0.0715300\ttotal: 805ms\tremaining: 105ms\n",
      "885:\tlearn: 0.0715136\ttotal: 806ms\tremaining: 104ms\n",
      "886:\tlearn: 0.0714346\ttotal: 807ms\tremaining: 103ms\n",
      "887:\tlearn: 0.0713618\ttotal: 808ms\tremaining: 102ms\n",
      "888:\tlearn: 0.0712105\ttotal: 809ms\tremaining: 101ms\n",
      "889:\tlearn: 0.0711022\ttotal: 810ms\tremaining: 100ms\n",
      "890:\tlearn: 0.0709690\ttotal: 811ms\tremaining: 99.2ms\n",
      "891:\tlearn: 0.0708213\ttotal: 811ms\tremaining: 98.2ms\n",
      "892:\tlearn: 0.0706570\ttotal: 812ms\tremaining: 97.3ms\n",
      "893:\tlearn: 0.0705491\ttotal: 813ms\tremaining: 96.4ms\n",
      "894:\tlearn: 0.0704245\ttotal: 814ms\tremaining: 95.5ms\n",
      "895:\tlearn: 0.0702846\ttotal: 815ms\tremaining: 94.6ms\n",
      "896:\tlearn: 0.0702312\ttotal: 815ms\tremaining: 93.6ms\n",
      "897:\tlearn: 0.0701339\ttotal: 816ms\tremaining: 92.7ms\n",
      "898:\tlearn: 0.0700464\ttotal: 817ms\tremaining: 91.8ms\n",
      "899:\tlearn: 0.0699528\ttotal: 818ms\tremaining: 90.9ms\n",
      "900:\tlearn: 0.0699408\ttotal: 819ms\tremaining: 89.9ms\n",
      "901:\tlearn: 0.0698747\ttotal: 819ms\tremaining: 89ms\n",
      "902:\tlearn: 0.0698009\ttotal: 820ms\tremaining: 88.1ms\n",
      "903:\tlearn: 0.0697852\ttotal: 821ms\tremaining: 87.2ms\n",
      "904:\tlearn: 0.0696692\ttotal: 822ms\tremaining: 86.3ms\n",
      "905:\tlearn: 0.0696265\ttotal: 822ms\tremaining: 85.3ms\n",
      "906:\tlearn: 0.0695133\ttotal: 823ms\tremaining: 84.4ms\n",
      "907:\tlearn: 0.0694210\ttotal: 824ms\tremaining: 83.5ms\n",
      "908:\tlearn: 0.0693554\ttotal: 825ms\tremaining: 82.6ms\n",
      "909:\tlearn: 0.0692855\ttotal: 826ms\tremaining: 81.7ms\n",
      "910:\tlearn: 0.0691149\ttotal: 827ms\tremaining: 80.8ms\n",
      "911:\tlearn: 0.0689249\ttotal: 828ms\tremaining: 79.8ms\n",
      "912:\tlearn: 0.0687695\ttotal: 828ms\tremaining: 78.9ms\n",
      "913:\tlearn: 0.0686739\ttotal: 829ms\tremaining: 78ms\n",
      "914:\tlearn: 0.0686488\ttotal: 830ms\tremaining: 77.1ms\n",
      "915:\tlearn: 0.0685646\ttotal: 831ms\tremaining: 76.2ms\n",
      "916:\tlearn: 0.0684680\ttotal: 832ms\tremaining: 75.3ms\n",
      "917:\tlearn: 0.0683885\ttotal: 833ms\tremaining: 74.4ms\n",
      "918:\tlearn: 0.0683082\ttotal: 833ms\tremaining: 73.4ms\n",
      "919:\tlearn: 0.0682486\ttotal: 834ms\tremaining: 72.5ms\n",
      "920:\tlearn: 0.0681959\ttotal: 835ms\tremaining: 71.6ms\n",
      "921:\tlearn: 0.0681292\ttotal: 836ms\tremaining: 70.7ms\n",
      "922:\tlearn: 0.0680419\ttotal: 837ms\tremaining: 69.8ms\n",
      "923:\tlearn: 0.0679585\ttotal: 837ms\tremaining: 68.9ms\n",
      "924:\tlearn: 0.0678393\ttotal: 838ms\tremaining: 68ms\n",
      "925:\tlearn: 0.0677558\ttotal: 839ms\tremaining: 67.1ms\n",
      "926:\tlearn: 0.0676802\ttotal: 840ms\tremaining: 66.2ms\n",
      "927:\tlearn: 0.0675637\ttotal: 841ms\tremaining: 65.2ms\n",
      "928:\tlearn: 0.0675045\ttotal: 842ms\tremaining: 64.3ms\n",
      "929:\tlearn: 0.0674025\ttotal: 843ms\tremaining: 63.4ms\n",
      "930:\tlearn: 0.0673299\ttotal: 843ms\tremaining: 62.5ms\n",
      "931:\tlearn: 0.0671549\ttotal: 844ms\tremaining: 61.6ms\n",
      "932:\tlearn: 0.0670605\ttotal: 845ms\tremaining: 60.7ms\n",
      "933:\tlearn: 0.0670209\ttotal: 846ms\tremaining: 59.8ms\n",
      "934:\tlearn: 0.0669394\ttotal: 847ms\tremaining: 58.9ms\n",
      "935:\tlearn: 0.0669052\ttotal: 848ms\tremaining: 58ms\n",
      "936:\tlearn: 0.0668209\ttotal: 850ms\tremaining: 57.1ms\n",
      "937:\tlearn: 0.0666665\ttotal: 850ms\tremaining: 56.2ms\n",
      "938:\tlearn: 0.0666093\ttotal: 851ms\tremaining: 55.3ms\n",
      "939:\tlearn: 0.0664788\ttotal: 852ms\tremaining: 54.4ms\n",
      "940:\tlearn: 0.0664144\ttotal: 853ms\tremaining: 53.5ms\n",
      "941:\tlearn: 0.0663439\ttotal: 854ms\tremaining: 52.6ms\n",
      "942:\tlearn: 0.0663038\ttotal: 855ms\tremaining: 51.7ms\n",
      "943:\tlearn: 0.0662246\ttotal: 855ms\tremaining: 50.7ms\n",
      "944:\tlearn: 0.0660982\ttotal: 856ms\tremaining: 49.8ms\n",
      "945:\tlearn: 0.0659580\ttotal: 857ms\tremaining: 48.9ms\n",
      "946:\tlearn: 0.0658630\ttotal: 858ms\tremaining: 48ms\n",
      "947:\tlearn: 0.0657251\ttotal: 859ms\tremaining: 47.1ms\n",
      "948:\tlearn: 0.0656040\ttotal: 859ms\tremaining: 46.2ms\n",
      "949:\tlearn: 0.0654735\ttotal: 860ms\tremaining: 45.3ms\n",
      "950:\tlearn: 0.0654014\ttotal: 861ms\tremaining: 44.4ms\n",
      "951:\tlearn: 0.0653462\ttotal: 862ms\tremaining: 43.5ms\n",
      "952:\tlearn: 0.0652327\ttotal: 863ms\tremaining: 42.5ms\n",
      "953:\tlearn: 0.0651428\ttotal: 864ms\tremaining: 41.6ms\n",
      "954:\tlearn: 0.0650418\ttotal: 864ms\tremaining: 40.7ms\n",
      "955:\tlearn: 0.0649703\ttotal: 865ms\tremaining: 39.8ms\n",
      "956:\tlearn: 0.0648534\ttotal: 866ms\tremaining: 38.9ms\n",
      "957:\tlearn: 0.0647438\ttotal: 867ms\tremaining: 38ms\n",
      "958:\tlearn: 0.0646551\ttotal: 868ms\tremaining: 37.1ms\n",
      "959:\tlearn: 0.0645640\ttotal: 869ms\tremaining: 36.2ms\n",
      "960:\tlearn: 0.0644043\ttotal: 870ms\tremaining: 35.3ms\n"
     ]
    },
    {
     "name": "stdout",
     "output_type": "stream",
     "text": [
      "961:\tlearn: 0.0643384\ttotal: 871ms\tremaining: 34.4ms\n",
      "962:\tlearn: 0.0642155\ttotal: 872ms\tremaining: 33.5ms\n",
      "963:\tlearn: 0.0640592\ttotal: 872ms\tremaining: 32.6ms\n",
      "964:\tlearn: 0.0639530\ttotal: 873ms\tremaining: 31.7ms\n",
      "965:\tlearn: 0.0639264\ttotal: 874ms\tremaining: 30.8ms\n",
      "966:\tlearn: 0.0638513\ttotal: 875ms\tremaining: 29.9ms\n",
      "967:\tlearn: 0.0637912\ttotal: 876ms\tremaining: 28.9ms\n",
      "968:\tlearn: 0.0637380\ttotal: 877ms\tremaining: 28ms\n",
      "969:\tlearn: 0.0636934\ttotal: 877ms\tremaining: 27.1ms\n",
      "970:\tlearn: 0.0636030\ttotal: 878ms\tremaining: 26.2ms\n",
      "971:\tlearn: 0.0635562\ttotal: 879ms\tremaining: 25.3ms\n",
      "972:\tlearn: 0.0634920\ttotal: 880ms\tremaining: 24.4ms\n",
      "973:\tlearn: 0.0634453\ttotal: 881ms\tremaining: 23.5ms\n",
      "974:\tlearn: 0.0633504\ttotal: 882ms\tremaining: 22.6ms\n",
      "975:\tlearn: 0.0632765\ttotal: 883ms\tremaining: 21.7ms\n",
      "976:\tlearn: 0.0632341\ttotal: 884ms\tremaining: 20.8ms\n",
      "977:\tlearn: 0.0632132\ttotal: 884ms\tremaining: 19.9ms\n",
      "978:\tlearn: 0.0631396\ttotal: 885ms\tremaining: 19ms\n",
      "979:\tlearn: 0.0631130\ttotal: 886ms\tremaining: 18.1ms\n",
      "980:\tlearn: 0.0630072\ttotal: 887ms\tremaining: 17.2ms\n",
      "981:\tlearn: 0.0628854\ttotal: 888ms\tremaining: 16.3ms\n",
      "982:\tlearn: 0.0627756\ttotal: 889ms\tremaining: 15.4ms\n",
      "983:\tlearn: 0.0626646\ttotal: 889ms\tremaining: 14.5ms\n",
      "984:\tlearn: 0.0626487\ttotal: 890ms\tremaining: 13.6ms\n",
      "985:\tlearn: 0.0625045\ttotal: 891ms\tremaining: 12.7ms\n",
      "986:\tlearn: 0.0624351\ttotal: 892ms\tremaining: 11.7ms\n",
      "987:\tlearn: 0.0624093\ttotal: 893ms\tremaining: 10.8ms\n",
      "988:\tlearn: 0.0622950\ttotal: 893ms\tremaining: 9.94ms\n",
      "989:\tlearn: 0.0622511\ttotal: 894ms\tremaining: 9.03ms\n",
      "990:\tlearn: 0.0621602\ttotal: 895ms\tremaining: 8.13ms\n",
      "991:\tlearn: 0.0621498\ttotal: 896ms\tremaining: 7.22ms\n",
      "992:\tlearn: 0.0620743\ttotal: 897ms\tremaining: 6.32ms\n",
      "993:\tlearn: 0.0620541\ttotal: 898ms\tremaining: 5.42ms\n",
      "994:\tlearn: 0.0619391\ttotal: 898ms\tremaining: 4.51ms\n",
      "995:\tlearn: 0.0619159\ttotal: 899ms\tremaining: 3.61ms\n",
      "996:\tlearn: 0.0618215\ttotal: 900ms\tremaining: 2.71ms\n",
      "997:\tlearn: 0.0617843\ttotal: 901ms\tremaining: 1.8ms\n",
      "998:\tlearn: 0.0617303\ttotal: 902ms\tremaining: 902us\n",
      "999:\tlearn: 0.0616728\ttotal: 903ms\tremaining: 0us\n"
     ]
    },
    {
     "data": {
      "text/plain": [
       "<catboost.core.CatBoostRegressor at 0x7fd0997609d0>"
      ]
     },
     "execution_count": 9,
     "metadata": {},
     "output_type": "execute_result"
    }
   ],
   "source": [
    "#Train the Model \n",
    "prior_model = ctb.CatBoostRegressor()\n",
    "prior_model.fit(X_train,Y_train)"
   ]
  },
  {
   "cell_type": "code",
   "execution_count": 10,
   "id": "af65dcda",
   "metadata": {
    "execution": {
     "iopub.execute_input": "2022-06-12T04:40:06.714379Z",
     "iopub.status.busy": "2022-06-12T04:40:06.714006Z",
     "iopub.status.idle": "2022-06-12T04:40:06.721499Z",
     "shell.execute_reply": "2022-06-12T04:40:06.721863Z"
    },
    "id": "af65dcda",
    "papermill": {
     "duration": 0.020729,
     "end_time": "2022-06-12T04:40:06.721974",
     "exception": false,
     "start_time": "2022-06-12T04:40:06.701245",
     "status": "completed"
    },
    "tags": []
   },
   "outputs": [
    {
     "data": {
      "application/scrapbook.scrap.json+json": {
       "data": 0.10309631790895042,
       "encoder": "json",
       "name": "Prior Model MSE",
       "version": 1
      }
     },
     "metadata": {
      "scrapbook": {
       "data": true,
       "display": false,
       "name": "Prior Model MSE"
      }
     },
     "output_type": "display_data"
    },
    {
     "data": {
      "application/scrapbook.scrap.json+json": {
       "data": 0.11609070801245544,
       "encoder": "json",
       "name": "ABC Pre-generator MSE",
       "version": 1
      }
     },
     "metadata": {
      "scrapbook": {
       "data": true,
       "display": false,
       "name": "ABC Pre-generator MSE"
      }
     },
     "output_type": "display_data"
    },
    {
     "data": {
      "application/scrapbook.scrap.json+json": {
       "data": 0.230327655733196,
       "encoder": "json",
       "name": "Prior Model MSE",
       "version": 1
      }
     },
     "metadata": {
      "scrapbook": {
       "data": true,
       "display": false,
       "name": "Prior Model MSE"
      }
     },
     "output_type": "display_data"
    },
    {
     "data": {
      "application/scrapbook.scrap.json+json": {
       "data": 0.2457152873280697,
       "encoder": "json",
       "name": "ABC Pre-generator MSE",
       "version": 1
      }
     },
     "metadata": {
      "scrapbook": {
       "data": true,
       "display": false,
       "name": "ABC Pre-generator MSE"
      }
     },
     "output_type": "display_data"
    }
   ],
   "source": [
    "y_pred = prior_model.predict(X_test)\n",
    "y_abc = y_pred + np.random.normal(0,variance, y_pred.shape) + bias \n",
    "mse = mean_squared_error(y_pred,Y_test)\n",
    "sb.glue(\"Prior Model MSE\",mse)\n",
    "mse = mean_squared_error(y_abc,Y_test)\n",
    "sb.glue(\"ABC Pre-generator MSE\",mse)\n",
    "mae = mean_absolute_error(y_pred,Y_test)\n",
    "sb.glue(\"Prior Model MSE\",mae)\n",
    "mae = mean_absolute_error(y_abc,Y_test)\n",
    "sb.glue(\"ABC Pre-generator MSE\",mae)"
   ]
  },
  {
   "cell_type": "markdown",
   "id": "25609da2",
   "metadata": {
    "papermill": {
     "duration": 0.009808,
     "end_time": "2022-06-12T04:40:06.741860",
     "exception": false,
     "start_time": "2022-06-12T04:40:06.732052",
     "status": "completed"
    },
    "tags": []
   },
   "source": [
    "# ABC GAN Model"
   ]
  },
  {
   "cell_type": "code",
   "execution_count": 11,
   "id": "dfc3464d",
   "metadata": {
    "execution": {
     "iopub.execute_input": "2022-06-12T04:40:06.764450Z",
     "iopub.status.busy": "2022-06-12T04:40:06.764086Z",
     "iopub.status.idle": "2022-06-12T04:40:06.766351Z",
     "shell.execute_reply": "2022-06-12T04:40:06.766650Z"
    },
    "papermill": {
     "duration": 0.015153,
     "end_time": "2022-06-12T04:40:06.766764",
     "exception": false,
     "start_time": "2022-06-12T04:40:06.751611",
     "status": "completed"
    },
    "tags": []
   },
   "outputs": [],
   "source": [
    "gen = network.Generator(n_features+1).to(device)\n",
    "disc = network.Discriminator(n_features+1).to(device)\n",
    "\n",
    "criterion = torch.nn.BCELoss()\n",
    "gen_opt = torch.optim.Adam(gen.parameters(), lr=0.001, betas=(0.5, 0.999))\n",
    "disc_opt = torch.optim.Adam(disc.parameters(), lr=0.001, betas=(0.5, 0.999))"
   ]
  },
  {
   "cell_type": "code",
   "execution_count": 12,
   "id": "b75fdd85",
   "metadata": {
    "execution": {
     "iopub.execute_input": "2022-06-12T04:40:06.789112Z",
     "iopub.status.busy": "2022-06-12T04:40:06.788757Z",
     "iopub.status.idle": "2022-06-12T04:41:07.242659Z",
     "shell.execute_reply": "2022-06-12T04:41:07.243033Z"
    },
    "papermill": {
     "duration": 60.466457,
     "end_time": "2022-06-12T04:41:07.243152",
     "exception": false,
     "start_time": "2022-06-12T04:40:06.776695",
     "status": "completed"
    },
    "tags": []
   },
   "outputs": [
    {
     "data": {
      "image/png": "[encoded data removed]",
      "text/plain": [
       "<Figure size 432x288 with 1 Axes>"
      ]
     },
     "metadata": {
      "needs_background": "light"
     },
     "output_type": "display_data"
    },
    {
     "data": {
      "image/png": "[encoded data removed]",
      "text/plain": [
       "<Figure size 432x288 with 1 Axes>"
      ]
     },
     "metadata": {
      "needs_background": "light"
     },
     "output_type": "display_data"
    }
   ],
   "source": [
    "#Training the ABC_GAN \n",
    "ABC_train_test2.training_GAN(disc,gen,disc_opt,gen_opt,train_data,batch_size,n_epochs,criterion,prior_model,variance,bias,device)"
   ]
  },
  {
   "cell_type": "code",
   "execution_count": 13,
   "id": "1fa7c368",
   "metadata": {
    "execution": {
     "iopub.execute_input": "2022-06-12T04:41:07.267610Z",
     "iopub.status.busy": "2022-06-12T04:41:07.267235Z",
     "iopub.status.idle": "2022-06-12T04:41:07.573123Z",
     "shell.execute_reply": "2022-06-12T04:41:07.573432Z"
    },
    "papermill": {
     "duration": 0.319399,
     "end_time": "2022-06-12T04:41:07.573555",
     "exception": false,
     "start_time": "2022-06-12T04:41:07.254156",
     "status": "completed"
    },
    "tags": []
   },
   "outputs": [
    {
     "data": {
      "application/scrapbook.scrap.json+json": {
       "data": 0.11930096464898492,
       "encoder": "json",
       "name": "ABC-GAN Model 1 MSE",
       "version": 1
      }
     },
     "metadata": {
      "scrapbook": {
       "data": true,
       "display": false,
       "name": "ABC-GAN Model 1 MSE"
      }
     },
     "output_type": "display_data"
    },
    {
     "data": {
      "application/scrapbook.scrap.json+json": {
       "data": 0.24375444576728578,
       "encoder": "json",
       "name": "ABC-GAN Model 1 MAE",
       "version": 1
      }
     },
     "metadata": {
      "scrapbook": {
       "data": true,
       "display": false,
       "name": "ABC-GAN Model 1 MAE"
      }
     },
     "output_type": "display_data"
    },
    {
     "data": {
      "application/scrapbook.scrap.json+json": {
       "data": 24.86295346826315,
       "encoder": "json",
       "name": "ABC-GAN Model 1 Manhattan Distance",
       "version": 1
      }
     },
     "metadata": {
      "scrapbook": {
       "data": true,
       "display": false,
       "name": "ABC-GAN Model 1 Manhattan Distance"
      }
     },
     "output_type": "display_data"
    },
    {
     "data": {
      "application/scrapbook.scrap.json+json": {
       "data": 3.4875971100485725,
       "encoder": "json",
       "name": "ABC-GAN Model 1 Euclidean distance",
       "version": 1
      }
     },
     "metadata": {
      "scrapbook": {
       "data": true,
       "display": false,
       "name": "ABC-GAN Model 1 Euclidean distance"
      }
     },
     "output_type": "display_data"
    },
    {
     "data": {
      "application/scrapbook.scrap.json+json": {
       "data": [
        [
         0.11623639079812921,
         0.12219313240702108,
         0.11282631922487132,
         0.11683557731989494,
         0.11577646401903546,
         0.11893646143596133,
         0.1178865771549101,
         0.1271792081061113,
         0.12355967134095855,
         0.11919751264146985,
         0.12544663729311709,
         0.12044814128100408,
         0.12407998010914555,
         0.11390090718576555,
         0.10927048884695413,
         0.12541458669672095,
         0.11679793088805657,
         0.1155592647961413,
         0.12216598340606312,
         0.12143649948028137,
         0.11666774695383914,
         0.12526236312957953,
         0.12012720491988355,
         0.1122398317370981,
         0.11919746088459024,
         0.1198198443049369,
         0.11402952349605056,
         0.11142374349798286,
         0.11821353230286269,
         0.11408179088327447,
         0.11497095173356002,
         0.12107756212477405,
         0.1239943286300871,
         0.12542537424715264,
         0.12665059604698836,
         0.12357837707622399,
         0.11580876522144881,
         0.11786836256350795,
         0.11677297942051738,
         0.10582356034702804,
         0.11996552894533274,
         0.11997741763638778,
         0.11438814186987188,
         0.13143517838194885,
         0.12575007172985014,
         0.1138475654420364,
         0.1257923110605677,
         0.11882828467808473,
         0.11569595191449746,
         0.12384106592682685,
         0.12390321175099843,
         0.11603599522661817,
         0.11473157372753678,
         0.12211199735415279,
         0.1201174296907978,
         0.11617590123692699,
         0.12653199230014756,
         0.11761256781329164,
         0.12147849573206497,
         0.11546559304241232,
         0.12300476514827072,
         0.11867324769810973,
         0.11691970126539245,
         0.1161363630326745,
         0.11310440715590031,
         0.11442122320186099,
         0.12892469464977419,
         0.11998194632757267,
         0.11544860671888962,
         0.11335542321409109,
         0.11717907360857178,
         0.11795758627766563,
         0.120812371294629,
         0.11338250944861779,
         0.11907999094244831,
         0.11602535301972443,
         0.11244412054592874,
         0.11789103791148503,
         0.12358728663398008,
         0.12714988934827462,
         0.12102511788121444,
         0.12428285398121114,
         0.11148346277125125,
         0.1190081074754006,
         0.12742985060067757,
         0.11736381275321335,
         0.1180241369427541,
         0.11900946199780842,
         0.1126822212232322,
         0.12242944571131666,
         0.11168460624263371,
         0.12049147953509452,
         0.11607163616198111,
         0.11903865748665939,
         0.12306297064871057,
         0.13157456275060703,
         0.1318187283993684,
         0.11886289343269858,
         0.12404911032408267,
         0.12335584172136278
        ],
        [
         0.236965615521459,
         0.24579893140231862,
         0.2434327877765777,
         0.24472616503343864,
         0.23912404857429803,
         0.2454940435640952,
         0.23831229927200898,
         0.2484711705177438,
         0.2529117717024158,
         0.24758942206116283,
         0.2554277502292511,
         0.2429155800856796,
         0.24784897749914842,
         0.2372084200090053,
         0.2348451467559618,
         0.24502365575993762,
         0.2409223238481026,
         0.24346600107702554,
         0.24500750187857478,
         0.24673557770895024,
         0.23790469962884397,
         0.2454884796604222,
         0.2495961269619418,
         0.23980807564130016,
         0.2472386499684231,
         0.24716161432511666,
         0.2415019764619715,
         0.2310040249105762,
         0.24221300107299112,
         0.24146542413269773,
         0.24314170009365269,
         0.24803794599046894,
         0.24373552210482896,
         0.24693753840584381,
         0.25262049103484435,
         0.25255993746367156,
         0.2416782241825964,
         0.2370439211965776,
         0.238696992689488,
         0.23041156043901162,
         0.24231549995202645,
         0.24709097960708187,
         0.246470611761598,
         0.25655227461281943,
         0.24815422062780343,
         0.23851547455962965,
         0.2519071159847811,
         0.25003991955343413,
         0.23703012337871626,
         0.24749748700974034,
         0.2508006203992694,
         0.2373725065559733,
         0.23415114117019317,
         0.24547690788612647,
         0.24017146032522707,
         0.23938829371449993,
         0.24918492963793232,
         0.24228577556855538,
         0.24126324934117935,
         0.24331660780544376,
         0.2525699257704557,
         0.240308894465367,
         0.2386692573919016,
         0.24317482398713336,
         0.23930380931671927,
         0.2444500556471301,
         0.2477740577476866,
         0.23948049822858736,
         0.24395336218032182,
         0.23641490132785312,
         0.2336601377556137,
         0.2392702460581181,
         0.24578781637783145,
         0.23195961461055511,
         0.24031613409227015,
         0.2473103480011809,
         0.23249215011795363,
         0.24388235193841598,
         0.25222131792528957,
         0.2558833684260939,
         0.24741716069333694,
         0.2483513325306715,
         0.23684892850909747,
         0.2466408759355545,
         0.2535504251718521,
         0.2392083329020762,
         0.24133504324537866,
         0.24506003825980074,
         0.24545395673782217,
         0.24033898334292805,
         0.23687217669451938,
         0.24084729336056054,
         0.23709657525315003,
         0.24302887770475126,
         0.24922932260761074,
         0.25537699804294345,
         0.2535880470246661,
         0.2348497960643441,
         0.24779568188915066,
         0.2542133632974297
        ],
        [
         24.17049278318882,
         25.0714910030365,
         24.830144353210926,
         24.96206883341074,
         24.3906529545784,
         25.040392443537712,
         24.307854525744915,
         25.344059392809868,
         25.797000713646412,
         25.25412105023861,
         26.053630523383617,
         24.77738916873932,
         25.28059570491314,
         24.19525884091854,
         23.954204969108105,
         24.992412887513638,
         24.574077032506466,
         24.833532109856606,
         24.990765191614628,
         25.167028926312923,
         24.266279362142086,
         25.039824925363064,
         25.458804950118065,
         24.460423715412617,
         25.218342296779156,
         25.2104846611619,
         24.633201599121094,
         23.562410540878773,
         24.705726109445095,
         24.629473261535168,
         24.800453409552574,
         25.299870491027832,
         24.861023254692554,
         25.18762891739607,
         25.767290085554123,
         25.7611136212945,
         24.651178866624832,
         24.178479962050915,
         24.347093254327774,
         23.501979164779186,
         24.716180995106697,
         25.203279919922352,
         25.140002399683,
         26.168332010507584,
         25.31173050403595,
         24.328578405082226,
         25.694525830447674,
         25.504071794450283,
         24.17707258462906,
         25.244743674993515,
         25.58166328072548,
         24.211995668709278,
         23.883416399359703,
         25.0386446043849,
         24.49748895317316,
         24.417605958878994,
         25.416862823069096,
         24.71314910799265,
         24.608851432800293,
         24.818293996155262,
         25.762132428586483,
         24.511507235467434,
         24.34426425397396,
         24.803832046687603,
         24.408988550305367,
         24.93390567600727,
         25.272953890264034,
         24.42701081931591,
         24.883242942392826,
         24.114319935441017,
         23.833334051072598,
         24.405565097928047,
         25.070357270538807,
         23.659880690276623,
         24.512245677411556,
         25.225655496120453,
         23.71419931203127,
         24.87599989771843,
         25.726574428379536,
         26.100103579461575,
         25.236550390720367,
         25.33183591812849,
         24.158590707927942,
         25.15736934542656,
         25.862143367528915,
         24.399249956011772,
         24.616174411028624,
         24.996123902499676,
         25.036303587257862,
         24.51457630097866,
         24.160962022840977,
         24.566423922777176,
         24.183850675821304,
         24.78894552588463,
         25.421390905976295,
         26.04845380038023,
         25.86598079651594,
         23.9546791985631,
         25.275159552693367,
         25.929763056337833
        ],
        [
         3.4432705181860426,
         3.530396508257416,
         3.3923862635226065,
         3.4521339612809467,
         3.4364515608315527,
         3.483033026898834,
         3.4676261144767078,
         3.6017050443954113,
         3.550082601402081,
         3.486853350720377,
         3.5770877825261636,
         3.5050977747649803,
         3.557549433406771,
         3.4085029753468143,
         3.338501140091062,
         3.5766307949053866,
         3.4515777480134746,
         3.4332266178052406,
         3.5300042928328623,
         3.5194492391549987,
         3.4496536332350227,
         3.5744595450525267,
         3.50042496017671,
         3.38355771890831,
         3.4868525937051316,
         3.495943952511762,
         3.4104268642791853,
         3.3712344677868744,
         3.472431467270736,
         3.411208388547084,
         3.4244761755373796,
         3.5142440633409273,
         3.5563213465980383,
         3.5767846137571055,
         3.594212124623811,
         3.5503513152609067,
         3.436930905995606,
         3.4673582136084256,
         3.4512090491439045,
         3.2854228274906805,
         3.498068603161456,
         3.498241929728639,
         3.4157854837104353,
         3.6614735005129804,
         3.5814113581721814,
         3.4077047517482666,
         3.5820128040220496,
         3.4814486980515227,
         3.4352564817315665,
         3.55412277848365,
         3.5550144301538125,
         3.440301078846887,
         3.420909311894829,
         3.5292242391386215,
         3.5002825355192932,
         3.4423744604802295,
         3.5925288049805593,
         3.463593786366373,
         3.5200577501897077,
         3.4318348576710465,
         3.5421019247226093,
         3.4791768085579085,
         3.453376540296472,
         3.441788638096883,
         3.396564371523353,
         3.416279374786234,
         3.6263368368474764,
         3.498307951769314,
         3.4315824170966285,
         3.4003313320671102,
         3.45720486926568,
         3.468670321653803,
         3.510393407020381,
         3.400737561729663,
         3.4851340112153117,
         3.44014331213278,
         3.3866355421988845,
         3.4676917202905266,
         3.550479296752196,
         3.6012898680228465,
         3.513482890791396,
         3.560456586743269,
         3.372137779312646,
         3.4840819396924143,
         3.605252385238669,
         3.4599290311836977,
         3.469648680797656,
         3.484101767138333,
         3.390219250250592,
         3.533808634116213,
         3.3751784896133477,
         3.5057282998800177,
         3.4408293896271682,
         3.4845291021369382,
         3.542939881816862,
         3.663414445645198,
         3.666812007280381,
         3.4819556473532596,
         3.557106865565951,
         3.5471532044132235
        ]
       ],
       "encoder": "json",
       "name": "ABC_GAN_1 Metrics",
       "version": 1
      }
     },
     "metadata": {
      "scrapbook": {
       "data": true,
       "display": false,
       "name": "ABC_GAN_1 Metrics"
      }
     },
     "output_type": "display_data"
    },
    {
     "name": "stdout",
     "output_type": "stream",
     "text": [
      "MSE\n",
      "0.11930096464898492\n"
     ]
    }
   ],
   "source": [
    "ABC_GAN1_metrics=ABC_train_test2.test_generator(gen,test_data,prior_model,variance,bias,\"1\",device)\n",
    "sb.glue(\"ABC_GAN_1 Metrics\",ABC_GAN1_metrics)\n",
    "\n",
    "print(\"MSE\")\n",
    "print(mean(ABC_GAN1_metrics[0]))"
   ]
  },
  {
   "cell_type": "code",
   "execution_count": 14,
   "id": "eb22ce5c",
   "metadata": {
    "execution": {
     "iopub.execute_input": "2022-06-12T04:41:07.600971Z",
     "iopub.status.busy": "2022-06-12T04:41:07.600595Z",
     "iopub.status.idle": "2022-06-12T04:41:07.920886Z",
     "shell.execute_reply": "2022-06-12T04:41:07.921175Z"
    },
    "papermill": {
     "duration": 0.335027,
     "end_time": "2022-06-12T04:41:07.921293",
     "exception": false,
     "start_time": "2022-06-12T04:41:07.586266",
     "status": "completed"
    },
    "tags": []
   },
   "outputs": [
    {
     "data": {
      "image/png": "[encoded data removed]",
      "text/plain": [
       "<Figure size 432x288 with 1 Axes>"
      ]
     },
     "metadata": {
      "needs_background": "light"
     },
     "output_type": "display_data"
    },
    {
     "data": {
      "image/png": "[encoded data removed]",
      "text/plain": [
       "<Figure size 432x288 with 1 Axes>"
      ]
     },
     "metadata": {
      "needs_background": "light"
     },
     "output_type": "display_data"
    },
    {
     "data": {
      "image/png": "[encoded data removed]",
      "text/plain": [
       "<Figure size 432x288 with 1 Axes>"
      ]
     },
     "metadata": {
      "needs_background": "light"
     },
     "output_type": "display_data"
    },
    {
     "data": {
      "image/png": "[encoded data removed]",
      "text/plain": [
       "<Figure size 432x288 with 1 Axes>"
      ]
     },
     "metadata": {
      "needs_background": "light"
     },
     "output_type": "display_data"
    }
   ],
   "source": [
    "sanityChecks.discProbVsError(train_data,disc,device)\n",
    "sanityChecks.discProbVsError(test_data,disc,device)"
   ]
  },
  {
   "cell_type": "markdown",
   "id": "130f3a4d",
   "metadata": {
    "id": "130f3a4d",
    "papermill": {
     "duration": 0.014435,
     "end_time": "2022-06-12T04:41:07.950698",
     "exception": false,
     "start_time": "2022-06-12T04:41:07.936263",
     "status": "completed"
    },
    "tags": []
   },
   "source": [
    "# ABC - GAN Model with skip connection"
   ]
  },
  {
   "cell_type": "code",
   "execution_count": 15,
   "id": "4e43dad1",
   "metadata": {
    "execution": {
     "iopub.execute_input": "2022-06-12T04:41:07.983521Z",
     "iopub.status.busy": "2022-06-12T04:41:07.983147Z",
     "iopub.status.idle": "2022-06-12T04:41:07.985443Z",
     "shell.execute_reply": "2022-06-12T04:41:07.985674Z"
    },
    "id": "4e43dad1",
    "papermill": {
     "duration": 0.0202,
     "end_time": "2022-06-12T04:41:07.985782",
     "exception": false,
     "start_time": "2022-06-12T04:41:07.965582",
     "status": "completed"
    },
    "tags": []
   },
   "outputs": [],
   "source": [
    "#Generator\n",
    "gen3 = network.GeneratorWithSkipConnection(n_features+1).to(device)\n",
    "constraints=network.weightConstraint()\n",
    "#Discriminator \n",
    "disc3 = network.Discriminator(n_features+1).to(device)\n",
    "\n",
    "criterion = torch.nn.BCELoss()\n",
    "gen_opt = torch.optim.Adam(gen3.parameters(), lr=0.001, betas=(0.5, 0.999))\n",
    "disc_opt = torch.optim.Adam(disc3.parameters(), lr=0.001, betas=(0.5, 0.999))\n"
   ]
  },
  {
   "cell_type": "code",
   "execution_count": 16,
   "id": "26acbc37",
   "metadata": {
    "execution": {
     "iopub.execute_input": "2022-06-12T04:41:08.017057Z",
     "iopub.status.busy": "2022-06-12T04:41:08.016690Z",
     "iopub.status.idle": "2022-06-12T04:44:02.071805Z",
     "shell.execute_reply": "2022-06-12T04:44:02.072134Z"
    },
    "id": "26acbc37",
    "papermill": {
     "duration": 174.072065,
     "end_time": "2022-06-12T04:44:02.072265",
     "exception": false,
     "start_time": "2022-06-12T04:41:08.000200",
     "status": "completed"
    },
    "tags": []
   },
   "outputs": [
    {
     "data": {
      "image/png": "[encoded data removed]",
      "text/plain": [
       "<Figure size 432x288 with 1 Axes>"
      ]
     },
     "metadata": {
      "needs_background": "light"
     },
     "output_type": "display_data"
    },
    {
     "data": {
      "image/png": "[encoded data removed]",
      "text/plain": [
       "<Figure size 432x288 with 1 Axes>"
      ]
     },
     "metadata": {
      "needs_background": "light"
     },
     "output_type": "display_data"
    }
   ],
   "source": [
    "ABC_train_test2.training_GAN_skip_connection(disc3,gen3,disc_opt,gen_opt,train_data,batch_size,n_epochs,criterion,prior_model,variance,bias,device)"
   ]
  },
  {
   "cell_type": "code",
   "execution_count": 17,
   "id": "c5e0717b",
   "metadata": {
    "execution": {
     "iopub.execute_input": "2022-06-12T04:44:02.105886Z",
     "iopub.status.busy": "2022-06-12T04:44:02.105492Z",
     "iopub.status.idle": "2022-06-12T04:44:02.952770Z",
     "shell.execute_reply": "2022-06-12T04:44:02.953027Z"
    },
    "id": "c5e0717b",
    "papermill": {
     "duration": 0.865359,
     "end_time": "2022-06-12T04:44:02.953156",
     "exception": false,
     "start_time": "2022-06-12T04:44:02.087797",
     "status": "completed"
    },
    "tags": []
   },
   "outputs": [
    {
     "data": {
      "application/scrapbook.scrap.json+json": {
       "data": 0.11626777207978584,
       "encoder": "json",
       "name": "ABC-GAN Model 3 MSE",
       "version": 1
      }
     },
     "metadata": {
      "scrapbook": {
       "data": true,
       "display": false,
       "name": "ABC-GAN Model 3 MSE"
      }
     },
     "output_type": "display_data"
    },
    {
     "data": {
      "application/scrapbook.scrap.json+json": {
       "data": 0.25018054471771217,
       "encoder": "json",
       "name": "ABC-GAN Model 3 MAE",
       "version": 1
      }
     },
     "metadata": {
      "scrapbook": {
       "data": true,
       "display": false,
       "name": "ABC-GAN Model 3 MAE"
      }
     },
     "output_type": "display_data"
    },
    {
     "data": {
      "application/scrapbook.scrap.json+json": {
       "data": 25.518415561206638,
       "encoder": "json",
       "name": "ABC-GAN Model 3 Manhattan Distance",
       "version": 1
      }
     },
     "metadata": {
      "scrapbook": {
       "data": true,
       "display": false,
       "name": "ABC-GAN Model 3 Manhattan Distance"
      }
     },
     "output_type": "display_data"
    },
    {
     "data": {
      "application/scrapbook.scrap.json+json": {
       "data": 3.4426473388187437,
       "encoder": "json",
       "name": "ABC-GAN Model 3 Euclidean distance",
       "version": 1
      }
     },
     "metadata": {
      "scrapbook": {
       "data": true,
       "display": false,
       "name": "ABC-GAN Model 3 Euclidean distance"
      }
     },
     "output_type": "display_data"
    },
    {
     "data": {
      "application/scrapbook.scrap.json+json": {
       "data": [
        [
         0.1143794075755534,
         0.10758576744199311,
         0.10726946424093242,
         0.11247732661441759,
         0.11699293157658186,
         0.11791669052188664,
         0.11806452951605417,
         0.1214840227785568,
         0.11547643559409813,
         0.11066501094731712,
         0.11842242738035179,
         0.10663048984262104,
         0.10973639446707181,
         0.11034539949433711,
         0.12677062209913698,
         0.11922696405343451,
         0.1184048359419643,
         0.11598686623066248,
         0.11251890717238866,
         0.12893694114891405,
         0.11545568948189332,
         0.120962251682324,
         0.11133254194546038,
         0.12170326394045712,
         0.12127614147932012,
         0.10689004432283737,
         0.11942086293253176,
         0.12266679755786358,
         0.11782330408712167,
         0.1310650369759932,
         0.117294322427978,
         0.10751453270738079,
         0.11648131038662074,
         0.12324410564388388,
         0.11307311959430512,
         0.11287895038053378,
         0.12217435762467187,
         0.11760662200557145,
         0.11524189916123417,
         0.12093012529710911,
         0.11936723541961108,
         0.12083616213539021,
         0.11535237525280116,
         0.12031297764888425,
         0.12016823505265843,
         0.11073405278485693,
         0.12264827323991474,
         0.1184532103345521,
         0.11348996990615016,
         0.10394361636680122,
         0.11816237218684222,
         0.11667595487893044,
         0.11413642543021296,
         0.11571040314361214,
         0.11646607839268035,
         0.11886176912804293,
         0.11312599902143784,
         0.122195211637881,
         0.10460000277808776,
         0.11239022245733932,
         0.11799011887241308,
         0.11095912804216036,
         0.1274950678699566,
         0.1163653202719209,
         0.11516890620271117,
         0.11470872842576256,
         0.10983347041719929,
         0.11211741755318326,
         0.12447172456668082,
         0.11809937876218232,
         0.11843876757709554,
         0.12039480950471063,
         0.10793934037909184,
         0.11375158971873962,
         0.12138467293370993,
         0.12182191941228741,
         0.1178264964416016,
         0.1020629930376052,
         0.12052405769677668,
         0.11713539060591509,
         0.11906208600592004,
         0.11267527292205944,
         0.12244501019223929,
         0.11958972944149342,
         0.11218596569047126,
         0.10978817041823166,
         0.10326030408641187,
         0.10240412952750963,
         0.10962351789424189,
         0.11335618882916225,
         0.12296333337000492,
         0.122900287891767,
         0.11321944319145219,
         0.12728563140199828,
         0.1153194504371484,
         0.1169394192244986,
         0.11905420003055482,
         0.11250704344297244,
         0.12142203050338289,
         0.1203294337153062
        ],
        [
         0.2532561086483446,
         0.24341776809089033,
         0.24090170078710013,
         0.2526170434612854,
         0.257635048791474,
         0.2548391583065192,
         0.2576778292035063,
         0.2526070183398677,
         0.24332152644866237,
         0.24789734761796745,
         0.2514512310644575,
         0.2414262148314247,
         0.24683825098270296,
         0.23393364049786447,
         0.2653124753531872,
         0.252526602689542,
         0.26228587259995,
         0.24810521468958435,
         0.25168917387468265,
         0.271092803728785,
         0.25367491834742184,
         0.24615069356400007,
         0.2466592591475038,
         0.2535234752531145,
         0.2559803352672972,
         0.23913713072554446,
         0.25644821365016934,
         0.2559328965623589,
         0.251507168233979,
         0.26136926274892747,
         0.24211539116268063,
         0.2366826668308646,
         0.25269464819746856,
         0.25618236979433134,
         0.2424147795137091,
         0.24412499454018532,
         0.2603467236473864,
         0.25413916486443255,
         0.24638317317208824,
         0.24679690183085554,
         0.2531648506136501,
         0.25625171934199686,
         0.25611913408718856,
         0.2504213057531446,
         0.25215874718246506,
         0.25397286224452886,
         0.25502916491206956,
         0.2527304107651991,
         0.25404626580283923,
         0.23743943482929586,
         0.2526301038542799,
         0.24813243673712598,
         0.24237338840669276,
         0.24952061346494683,
         0.25390655065284057,
         0.2558221722514752,
         0.23889056125692293,
         0.25818991051146795,
         0.2435112686499077,
         0.2398946929869114,
         0.24735639173099222,
         0.2413125290517129,
         0.2585680158626215,
         0.24201828157346622,
         0.2565891595886034,
         0.250339593537444,
         0.2450171384558666,
         0.24632543319945827,
         0.2574509759159649,
         0.25345382499782476,
         0.25316827766159,
         0.2546303008920422,
         0.24578824369054214,
         0.24899241386675366,
         0.2534348657537325,
         0.2539719071732286,
         0.24591513392606787,
         0.23180008113530337,
         0.2547458260886225,
         0.25791638465050387,
         0.2469493041874147,
         0.24993265518809066,
         0.2538525914663778,
         0.2498699136662717,
         0.24376779299813742,
         0.23438079439687962,
         0.24155146705315395,
         0.2297413336733977,
         0.24241106148224836,
         0.24694321468910752,
         0.25780942829727543,
         0.25861083022227477,
         0.24540086097869218,
         0.26232577288778974,
         0.2505883165434295,
         0.2467530176554825,
         0.25215812683032424,
         0.2486693115320568,
         0.26437871806396573,
         0.2578633898394365
        ],
        [
         25.832123082131147,
         24.828612345270813,
         24.571973480284214,
         25.76693843305111,
         26.278774976730347,
         25.993594147264957,
         26.283138578757644,
         25.765915870666504,
         24.818795697763562,
         25.28552945703268,
         25.648025568574667,
         24.62547391280532,
         25.1775016002357,
         23.861231330782175,
         27.061872486025095,
         25.757713474333286,
         26.753159005194902,
         25.306731898337603,
         25.67229573521763,
         27.65146598033607,
         25.874841671437025,
         25.10737074352801,
         25.159244433045387,
         25.85939447581768,
         26.109994197264314,
         24.391987334005535,
         26.15771779231727,
         26.10515544936061,
         25.653731159865856,
         26.6596648003906,
         24.695769898593426,
         24.14163201674819,
         25.774854116141796,
         26.130601719021797,
         24.72630751039833,
         24.900749443098903,
         26.555365812033415,
         25.922194816172123,
         25.131083663553,
         25.173283986747265,
         25.822814762592316,
         26.137675372883677,
         26.124151676893234,
         25.542973186820745,
         25.720192212611437,
         25.905231948941946,
         26.012974821031094,
         25.77850189805031,
         25.9127191118896,
         24.218822352588177,
         25.76827059313655,
         25.30950854718685,
         24.722085617482662,
         25.451102573424578,
         25.898468166589737,
         26.09386156965047,
         24.36683724820614,
         26.335370872169733,
         24.838149402290583,
         24.469258684664965,
         25.230351956561208,
         24.613877963274717,
         26.373937617987394,
         24.685864720493555,
         26.172094278037548,
         25.534638540819287,
         24.991748122498393,
         25.125194186344743,
         26.25999954342842,
         25.852290149778128,
         25.82316432148218,
         25.972290690988302,
         25.0704008564353,
         25.397226214408875,
         25.850356306880713,
         25.90513453166932,
         25.083343660458922,
         23.643608275800943,
         25.984074261039495,
         26.307471234351397,
         25.1888290271163,
         25.493130829185247,
         25.892964329570532,
         25.486731193959713,
         24.864314885810018,
         23.906841028481722,
         24.6382496394217,
         23.433616034686565,
         24.725928271189332,
         25.188207898288965,
         26.296561686322093,
         26.378304682672024,
         25.030887819826603,
         26.757228834554553,
         25.56000828742981,
         25.168807800859213,
         25.720128936693072,
         25.364269776269794,
         26.966629242524505,
         26.302065763622522
        ],
        [
         3.4156550722674623,
         3.3126648304776163,
         3.307791612628448,
         3.387135561897485,
         3.454457847595096,
         3.4680689775770657,
         3.4702423561817017,
         3.520137827331878,
         3.4319959834763805,
         3.3597367629959267,
         3.475498179081077,
         3.297925099808567,
         3.34561089124861,
         3.3548816295694217,
         3.5959148285397378,
         3.4872840913023313,
         3.4752400299951023,
         3.4395726995555096,
         3.387761581278063,
         3.626509064815533,
         3.4316876791388102,
         3.512570237247512,
         3.3698544892082443,
         3.5233127766246675,
         3.517124739171281,
         3.3019364804504354,
         3.490118625364794,
         3.537232442306002,
         3.4666954029574635,
         3.6563142331521927,
         3.4589045791483968,
         3.311567957350843,
         3.4468962356640955,
         3.5455463296473995,
         3.3960945508950604,
         3.393177410453872,
         3.5301252779067944,
         3.4635062356762534,
         3.428508963740052,
         3.5121037542056084,
         3.48933489547798,
         3.5107390301487515,
         3.4301519318808196,
         3.5031305599686395,
         3.5010227042067528,
         3.360784638154519,
         3.5369653476492107,
         3.4759498635803583,
         3.4023487373323915,
         3.2561094682786265,
         3.471679991453404,
         3.449774977828395,
         3.4120251162442696,
         3.435471018746692,
         3.4466708569362114,
         3.481939179690015,
         3.396888561637938,
         3.5304265446350604,
         3.266374179937894,
         3.3858237831654225,
         3.4691486167338135,
         3.36419842760506,
         3.6061748325248417,
         3.445179627789519,
         3.427423001713756,
         3.4205687099410493,
         3.347090375617953,
         3.3817120797644327,
         3.563160943011337,
         3.4707544761539384,
         3.4757379493948832,
         3.50432169891414,
         3.318103783588959,
         3.406268068034494,
         3.518698145513254,
         3.5250298977531114,
         3.4667423666957653,
         3.226519067018778,
         3.5062022025364166,
         3.456560406213572,
         3.48487198797945,
         3.3901147234348956,
         3.534033253891141,
         3.4925853465638212,
         3.3827457043691695,
         3.3464000631513904,
         3.2453891934271932,
         3.2319067455305674,
         3.3438897746804797,
         3.4003428151547523,
         3.5415053301866566,
         3.540597317538417,
         3.3982912184696765,
         3.603211678905893,
         3.4296623659755685,
         3.453667725896465,
         3.484756577311619,
         3.387582977756145,
         3.5192395643583367,
         3.503370125887533
        ]
       ],
       "encoder": "json",
       "name": "ABC_GAN_3 Metrics",
       "version": 1
      }
     },
     "metadata": {
      "scrapbook": {
       "data": true,
       "display": false,
       "name": "ABC_GAN_3 Metrics"
      }
     },
     "output_type": "display_data"
    },
    {
     "name": "stdout",
     "output_type": "stream",
     "text": [
      "MSE\n",
      "0.11626777207978584\n"
     ]
    }
   ],
   "source": [
    "ABC_GAN3_metrics=ABC_train_test2.test_generator(gen3,test_data,prior_model,variance,bias,\"3\",device)\n",
    "sb.glue(\"ABC_GAN_3 Metrics\",ABC_GAN3_metrics)\n",
    "\n",
    "print(\"MSE\")\n",
    "print(mean(ABC_GAN3_metrics[0]))"
   ]
  },
  {
   "cell_type": "code",
   "execution_count": 18,
   "id": "c8e46b48",
   "metadata": {
    "execution": {
     "iopub.execute_input": "2022-06-12T04:44:02.991671Z",
     "iopub.status.busy": "2022-06-12T04:44:02.991287Z",
     "iopub.status.idle": "2022-06-12T04:44:03.306376Z",
     "shell.execute_reply": "2022-06-12T04:44:03.306746Z"
    },
    "id": "c8e46b48",
    "papermill": {
     "duration": 0.335641,
     "end_time": "2022-06-12T04:44:03.306882",
     "exception": false,
     "start_time": "2022-06-12T04:44:02.971241",
     "status": "completed"
    },
    "tags": []
   },
   "outputs": [
    {
     "data": {
      "image/png": "[encoded data removed]",
      "text/plain": [
       "<Figure size 432x288 with 1 Axes>"
      ]
     },
     "metadata": {
      "needs_background": "light"
     },
     "output_type": "display_data"
    },
    {
     "data": {
      "image/png": "[encoded data removed]",
      "text/plain": [
       "<Figure size 432x288 with 1 Axes>"
      ]
     },
     "metadata": {
      "needs_background": "light"
     },
     "output_type": "display_data"
    },
    {
     "data": {
      "image/png": "[encoded data removed]",
      "text/plain": [
       "<Figure size 432x288 with 1 Axes>"
      ]
     },
     "metadata": {
      "needs_background": "light"
     },
     "output_type": "display_data"
    },
    {
     "data": {
      "image/png": "[encoded data removed]",
      "text/plain": [
       "<Figure size 432x288 with 1 Axes>"
      ]
     },
     "metadata": {
      "needs_background": "light"
     },
     "output_type": "display_data"
    }
   ],
   "source": [
    "sanityChecks.discProbVsError(train_data,disc3,device)\n",
    "sanityChecks.discProbVsError(test_data,disc3,device)"
   ]
  },
  {
   "cell_type": "markdown",
   "id": "a5bd74c3",
   "metadata": {
    "id": "a5bd74c3",
    "papermill": {
     "duration": 0.019023,
     "end_time": "2022-06-12T04:44:03.345636",
     "exception": false,
     "start_time": "2022-06-12T04:44:03.326613",
     "status": "completed"
    },
    "tags": []
   },
   "source": [
    "## Skip Connection Model Analysis - ABC-GAN "
   ]
  },
  {
   "cell_type": "markdown",
   "id": "5744a8bf",
   "metadata": {
    "id": "5744a8bf",
    "papermill": {
     "duration": 0.019243,
     "end_time": "2022-06-12T04:44:03.383849",
     "exception": false,
     "start_time": "2022-06-12T04:44:03.364606",
     "status": "completed"
    },
    "tags": []
   },
   "source": [
    "### Weight Analysis \n",
    "\n",
    "Study the weights of the skip connection layer\n",
    "\n",
    "Equation of the skip connection is \n",
    "\n",
    "$output = y_{gan} * w + y_{abc} * (1-w)$"
   ]
  },
  {
   "cell_type": "code",
   "execution_count": 19,
   "id": "52c31dea",
   "metadata": {
    "execution": {
     "iopub.execute_input": "2022-06-12T04:44:03.424998Z",
     "iopub.status.busy": "2022-06-12T04:44:03.424577Z",
     "iopub.status.idle": "2022-06-12T04:44:03.427963Z",
     "shell.execute_reply": "2022-06-12T04:44:03.428214Z"
    },
    "id": "52c31dea",
    "papermill": {
     "duration": 0.025295,
     "end_time": "2022-06-12T04:44:03.428325",
     "exception": false,
     "start_time": "2022-06-12T04:44:03.403030",
     "status": "completed"
    },
    "tags": []
   },
   "outputs": [
    {
     "name": "stdout",
     "output_type": "stream",
     "text": [
      "Weight of the node at skip connection\n",
      "Parameter containing:\n",
      "tensor([[0.0199]], requires_grad=True)\n"
     ]
    },
    {
     "data": {
      "application/scrapbook.scrap.json+json": {
       "data": 0.01986725814640522,
       "encoder": "json",
       "name": "Skip Connection Weight",
       "version": 1
      }
     },
     "metadata": {
      "scrapbook": {
       "data": true,
       "display": false,
       "name": "Skip Connection Weight"
      }
     },
     "output_type": "display_data"
    }
   ],
   "source": [
    "print(\"Weight of the node at skip connection\")\n",
    "for name,param in gen3.named_parameters():\n",
    "    if(name == \"skipNode.weight\"):\n",
    "        print(param)\n",
    "        sb.glue(\"Skip Connection Weight\",param.item())"
   ]
  }
 ],
 "metadata": {
  "colab": {
   "collapsed_sections": [],
   "name": "ABC_GAN_Model-Catboost_Pre-gen.ipynb",
   "provenance": []
  },
  "interpreter": {
   "hash": "31f2aee4e71d21fbe5cf8b01ff0e069b9275f58929596ceb00d14d90e3e16cd6"
  },
  "kernelspec": {
   "display_name": "Python 3 (ipykernel)",
   "language": "python",
   "name": "python3"
  },
  "language_info": {
   "codemirror_mode": {
    "name": "ipython",
    "version": 3
   },
   "file_extension": ".py",
   "mimetype": "text/x-python",
   "name": "python",
   "nbconvert_exporter": "python",
   "pygments_lexer": "ipython3",
   "version": "3.8.11"
  },
  "papermill": {
   "default_parameters": {},
   "duration": 240.62562,
   "end_time": "2022-06-12T04:44:03.756267",
   "environment_variables": {},
   "exception": null,
   "input_path": "ABC_GAN-Catboost.ipynb",
   "output_path": "./ABC_GAN_Catboost/ABC-GAN_output_4_7.ipynb",
   "parameters": {
    "bias": 0.01,
    "variance": 0.1
   },
   "start_time": "2022-06-12T04:40:03.130647",
   "version": "2.3.3"
  }
 },
 "nbformat": 4,
 "nbformat_minor": 5
}