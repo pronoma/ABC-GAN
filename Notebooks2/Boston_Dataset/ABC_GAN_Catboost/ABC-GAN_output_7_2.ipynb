{
 "cells": [
  {
   "cell_type": "markdown",
   "id": "622780e6",
   "metadata": {
    "id": "622780e6",
    "papermill": {
     "duration": 0.036184,
     "end_time": "2022-06-12T06:13:06.074507",
     "exception": false,
     "start_time": "2022-06-12T06:13:06.038323",
     "status": "completed"
    },
    "tags": []
   },
   "source": [
    "## Import Libraries "
   ]
  },
  {
   "cell_type": "code",
   "execution_count": 1,
   "id": "a62397e3",
   "metadata": {
    "execution": {
     "iopub.execute_input": "2022-06-12T06:13:06.110593Z",
     "iopub.status.busy": "2022-06-12T06:13:06.110084Z",
     "iopub.status.idle": "2022-06-12T06:13:06.112388Z",
     "shell.execute_reply": "2022-06-12T06:13:06.112708Z"
    },
    "id": "a62397e3",
    "papermill": {
     "duration": 0.02165,
     "end_time": "2022-06-12T06:13:06.112906",
     "exception": false,
     "start_time": "2022-06-12T06:13:06.091256",
     "status": "completed"
    },
    "tags": []
   },
   "outputs": [],
   "source": [
    "import warnings\n",
    "import sys\n",
    "sys.path.insert(0, '../../src')\n",
    "warnings.filterwarnings('ignore')"
   ]
  },
  {
   "cell_type": "code",
   "execution_count": 2,
   "id": "d6a4e155",
   "metadata": {
    "execution": {
     "iopub.execute_input": "2022-06-12T06:13:06.133588Z",
     "iopub.status.busy": "2022-06-12T06:13:06.133176Z",
     "iopub.status.idle": "2022-06-12T06:13:07.979039Z",
     "shell.execute_reply": "2022-06-12T06:13:07.979294Z"
    },
    "id": "d6a4e155",
    "papermill": {
     "duration": 1.856799,
     "end_time": "2022-06-12T06:13:07.979420",
     "exception": false,
     "start_time": "2022-06-12T06:13:06.122621",
     "status": "completed"
    },
    "tags": []
   },
   "outputs": [],
   "source": [
    "import ABC_train_test2\n",
    "import bostonDataset\n",
    "import network\n",
    "import dataset\n",
    "import sanityChecks\n",
    "import torch \n",
    "import scrapbook as sb\n",
    "from statistics import mean \n",
    "import catboost as ctb \n",
    "from sklearn.model_selection import train_test_split\n",
    "from sklearn.metrics import mean_squared_error,mean_absolute_error\n",
    "import numpy as np"
   ]
  },
  {
   "cell_type": "markdown",
   "id": "2fa5b0f7",
   "metadata": {
    "id": "2fa5b0f7",
    "papermill": {
     "duration": 0.006832,
     "end_time": "2022-06-12T06:13:07.993437",
     "exception": false,
     "start_time": "2022-06-12T06:13:07.986605",
     "status": "completed"
    },
    "tags": []
   },
   "source": [
    "## Parameters "
   ]
  },
  {
   "cell_type": "code",
   "execution_count": 3,
   "id": "783186fb",
   "metadata": {
    "execution": {
     "iopub.execute_input": "2022-06-12T06:13:08.009180Z",
     "iopub.status.busy": "2022-06-12T06:13:08.008808Z",
     "iopub.status.idle": "2022-06-12T06:13:08.010155Z",
     "shell.execute_reply": "2022-06-12T06:13:08.010402Z"
    },
    "id": "783186fb",
    "papermill": {
     "duration": 0.010274,
     "end_time": "2022-06-12T06:13:08.010512",
     "exception": false,
     "start_time": "2022-06-12T06:13:08.000238",
     "status": "completed"
    },
    "tags": [
     "parameters"
    ]
   },
   "outputs": [],
   "source": [
    "variance = 1\n",
    "bias = 1 "
   ]
  },
  {
   "cell_type": "code",
   "execution_count": 4,
   "id": "8ac518c4",
   "metadata": {
    "execution": {
     "iopub.execute_input": "2022-06-12T06:13:08.026191Z",
     "iopub.status.busy": "2022-06-12T06:13:08.025832Z",
     "iopub.status.idle": "2022-06-12T06:13:08.027017Z",
     "shell.execute_reply": "2022-06-12T06:13:08.027249Z"
    },
    "papermill": {
     "duration": 0.009813,
     "end_time": "2022-06-12T06:13:08.027353",
     "exception": false,
     "start_time": "2022-06-12T06:13:08.017540",
     "status": "completed"
    },
    "tags": [
     "injected-parameters"
    ]
   },
   "outputs": [],
   "source": [
    "# Parameters\n",
    "variance = 0.01\n",
    "bias = 1\n"
   ]
  },
  {
   "cell_type": "markdown",
   "id": "391cdbfd",
   "metadata": {
    "id": "391cdbfd",
    "papermill": {
     "duration": 0.006791,
     "end_time": "2022-06-12T06:13:08.041100",
     "exception": false,
     "start_time": "2022-06-12T06:13:08.034309",
     "status": "completed"
    },
    "tags": []
   },
   "source": [
    "## Dataset \n"
   ]
  },
  {
   "cell_type": "code",
   "execution_count": 5,
   "id": "5b51f161",
   "metadata": {
    "execution": {
     "iopub.execute_input": "2022-06-12T06:13:08.057087Z",
     "iopub.status.busy": "2022-06-12T06:13:08.056720Z",
     "iopub.status.idle": "2022-06-12T06:13:08.057966Z",
     "shell.execute_reply": "2022-06-12T06:13:08.058207Z"
    },
    "id": "5b51f161",
    "papermill": {
     "duration": 0.010046,
     "end_time": "2022-06-12T06:13:08.058314",
     "exception": false,
     "start_time": "2022-06-12T06:13:08.048268",
     "status": "completed"
    },
    "tags": []
   },
   "outputs": [],
   "source": [
    "#Parameters \n",
    "n_features = 13\n",
    "n_samples= 506\n",
    "n_target = 1 "
   ]
  },
  {
   "cell_type": "code",
   "execution_count": 6,
   "id": "5d6eced4",
   "metadata": {
    "execution": {
     "iopub.execute_input": "2022-06-12T06:13:08.074212Z",
     "iopub.status.busy": "2022-06-12T06:13:08.073837Z",
     "iopub.status.idle": "2022-06-12T06:13:08.084670Z",
     "shell.execute_reply": "2022-06-12T06:13:08.084921Z"
    },
    "id": "5d6eced4",
    "papermill": {
     "duration": 0.01966,
     "end_time": "2022-06-12T06:13:08.085036",
     "exception": false,
     "start_time": "2022-06-12T06:13:08.065376",
     "status": "completed"
    },
    "tags": []
   },
   "outputs": [
    {
     "name": "stdout",
     "output_type": "stream",
     "text": [
      "         X1        X2        X3        X4        X5        X6        X7  \\\n",
      "0 -0.419782  0.284830 -1.287909 -0.272599 -0.144217  0.413672 -0.120013   \n",
      "1 -0.417339 -0.487722 -0.593381 -0.272599 -0.740262  0.194274  0.367166   \n",
      "2 -0.417342 -0.487722 -0.593381 -0.272599 -0.740262  1.282714 -0.265812   \n",
      "3 -0.416750 -0.487722 -1.306878 -0.272599 -0.835284  1.016303 -0.809889   \n",
      "4 -0.412482 -0.487722 -1.306878 -0.272599 -0.835284  1.228577 -0.511180   \n",
      "\n",
      "         X8        X9       X10       X11       X12       X13         Y  \n",
      "0  0.140214 -0.982843 -0.666608 -1.459000  0.441052 -1.075562  0.159686  \n",
      "1  0.557160 -0.867883 -0.987329 -0.303094  0.441052 -0.492439 -0.101524  \n",
      "2  0.557160 -0.867883 -0.987329 -0.303094  0.396427 -1.208727  1.324247  \n",
      "3  1.077737 -0.752922 -1.106115  0.113032  0.416163 -1.361517  1.182758  \n",
      "4  1.077737 -0.752922 -1.106115  0.113032  0.441052 -1.026501  1.487503  \n"
     ]
    }
   ],
   "source": [
    "X,Y = bostonDataset.boston_data()"
   ]
  },
  {
   "cell_type": "code",
   "execution_count": 7,
   "id": "fe007438",
   "metadata": {
    "execution": {
     "iopub.execute_input": "2022-06-12T06:13:08.102223Z",
     "iopub.status.busy": "2022-06-12T06:13:08.101855Z",
     "iopub.status.idle": "2022-06-12T06:13:08.103469Z",
     "shell.execute_reply": "2022-06-12T06:13:08.103700Z"
    },
    "id": "fe007438",
    "papermill": {
     "duration": 0.011305,
     "end_time": "2022-06-12T06:13:08.103817",
     "exception": false,
     "start_time": "2022-06-12T06:13:08.092512",
     "status": "completed"
    },
    "tags": []
   },
   "outputs": [],
   "source": [
    "#Train test split for dataset \n",
    "X_train,X_test,Y_train,Y_test = train_test_split(X,Y,test_size = 0.2)\n",
    "train_data = dataset.CustomDataset(X_train,Y_train)\n",
    "test_data = dataset.CustomDataset(X_test,Y_test)\n"
   ]
  },
  {
   "cell_type": "markdown",
   "id": "a9a1af34",
   "metadata": {
    "id": "a9a1af34",
    "papermill": {
     "duration": 0.007046,
     "end_time": "2022-06-12T06:13:08.118201",
     "exception": false,
     "start_time": "2022-06-12T06:13:08.111155",
     "status": "completed"
    },
    "tags": []
   },
   "source": [
    "## Training Parameters "
   ]
  },
  {
   "cell_type": "code",
   "execution_count": 8,
   "id": "952b7fc8",
   "metadata": {
    "execution": {
     "iopub.execute_input": "2022-06-12T06:13:08.134626Z",
     "iopub.status.busy": "2022-06-12T06:13:08.134257Z",
     "iopub.status.idle": "2022-06-12T06:13:08.135628Z",
     "shell.execute_reply": "2022-06-12T06:13:08.135884Z"
    },
    "id": "952b7fc8",
    "papermill": {
     "duration": 0.010679,
     "end_time": "2022-06-12T06:13:08.135999",
     "exception": false,
     "start_time": "2022-06-12T06:13:08.125320",
     "status": "completed"
    },
    "tags": []
   },
   "outputs": [],
   "source": [
    "batch_size = 32\n",
    "n_epochs = 1000\n",
    "#Select the device \n",
    "device = torch.device('cuda' if torch.cuda.is_available() else 'cpu')"
   ]
  },
  {
   "cell_type": "markdown",
   "id": "a95e1600",
   "metadata": {
    "id": "a95e1600",
    "papermill": {
     "duration": 0.007098,
     "end_time": "2022-06-12T06:13:08.150423",
     "exception": false,
     "start_time": "2022-06-12T06:13:08.143325",
     "status": "completed"
    },
    "tags": []
   },
   "source": [
    "# ABC Pre-generator Model \n",
    "\n",
    "1. The catboost model is used as a pre-generator model for the ABC-GAN. \n",
    "2. The model is first trained on the entire dataset \n",
    "3. It generats X,Y pairs and we add some Gaussian noise with mean 0 and variance 1 to it which is then feed as input to the generator.\n"
   ]
  },
  {
   "cell_type": "code",
   "execution_count": 9,
   "id": "ff8ce7bd",
   "metadata": {
    "execution": {
     "iopub.execute_input": "2022-06-12T06:13:08.169448Z",
     "iopub.status.busy": "2022-06-12T06:13:08.169056Z",
     "iopub.status.idle": "2022-06-12T06:13:09.125984Z",
     "shell.execute_reply": "2022-06-12T06:13:09.126276Z"
    },
    "id": "ff8ce7bd",
    "papermill": {
     "duration": 0.968763,
     "end_time": "2022-06-12T06:13:09.126398",
     "exception": false,
     "start_time": "2022-06-12T06:13:08.157635",
     "status": "completed"
    },
    "tags": []
   },
   "outputs": [
    {
     "name": "stdout",
     "output_type": "stream",
     "text": [
      "Learning rate set to 0.033215\n",
      "0:\tlearn: 0.9906906\ttotal: 57.8ms\tremaining: 57.8s\n",
      "1:\tlearn: 0.9722462\ttotal: 58.7ms\tremaining: 29.3s\n",
      "2:\tlearn: 0.9526164\ttotal: 59.6ms\tremaining: 19.8s\n",
      "3:\tlearn: 0.9359889\ttotal: 60.4ms\tremaining: 15s\n",
      "4:\tlearn: 0.9197790\ttotal: 61.5ms\tremaining: 12.2s\n",
      "5:\tlearn: 0.9024448\ttotal: 62.5ms\tremaining: 10.3s\n",
      "6:\tlearn: 0.8852150\ttotal: 63.4ms\tremaining: 8.99s\n",
      "7:\tlearn: 0.8694254\ttotal: 64.3ms\tremaining: 7.98s\n",
      "8:\tlearn: 0.8544063\ttotal: 65.3ms\tremaining: 7.2s\n",
      "9:\tlearn: 0.8373677\ttotal: 66.2ms\tremaining: 6.56s\n",
      "10:\tlearn: 0.8227594\ttotal: 67ms\tremaining: 6.02s\n",
      "11:\tlearn: 0.8089097\ttotal: 67.9ms\tremaining: 5.59s\n",
      "12:\tlearn: 0.7936547\ttotal: 68.7ms\tremaining: 5.22s\n",
      "13:\tlearn: 0.7802647\ttotal: 69.6ms\tremaining: 4.9s\n",
      "14:\tlearn: 0.7675377\ttotal: 70.5ms\tremaining: 4.63s\n",
      "15:\tlearn: 0.7545227\ttotal: 71.2ms\tremaining: 4.38s\n",
      "16:\tlearn: 0.7431407\ttotal: 72.2ms\tremaining: 4.17s\n",
      "17:\tlearn: 0.7306682\ttotal: 72.9ms\tremaining: 3.98s\n",
      "18:\tlearn: 0.7180302\ttotal: 73.7ms\tremaining: 3.81s\n",
      "19:\tlearn: 0.7053995\ttotal: 74.5ms\tremaining: 3.65s\n",
      "20:\tlearn: 0.6915889\ttotal: 75.3ms\tremaining: 3.51s\n",
      "21:\tlearn: 0.6815629\ttotal: 76ms\tremaining: 3.38s\n",
      "22:\tlearn: 0.6716102\ttotal: 76.8ms\tremaining: 3.26s\n",
      "23:\tlearn: 0.6615752\ttotal: 77.6ms\tremaining: 3.15s\n",
      "24:\tlearn: 0.6519270\ttotal: 78.3ms\tremaining: 3.05s\n",
      "25:\tlearn: 0.6425023\ttotal: 79ms\tremaining: 2.96s\n",
      "26:\tlearn: 0.6337677\ttotal: 80ms\tremaining: 2.88s\n",
      "27:\tlearn: 0.6245044\ttotal: 80.7ms\tremaining: 2.8s\n",
      "28:\tlearn: 0.6158752\ttotal: 81.6ms\tremaining: 2.73s\n",
      "29:\tlearn: 0.6059972\ttotal: 82.3ms\tremaining: 2.66s\n",
      "30:\tlearn: 0.5969535\ttotal: 83.1ms\tremaining: 2.6s\n",
      "31:\tlearn: 0.5877740\ttotal: 83.9ms\tremaining: 2.54s\n",
      "32:\tlearn: 0.5799163\ttotal: 84.7ms\tremaining: 2.48s\n",
      "33:\tlearn: 0.5737619\ttotal: 85.6ms\tremaining: 2.43s\n",
      "34:\tlearn: 0.5657199\ttotal: 86.4ms\tremaining: 2.38s\n",
      "35:\tlearn: 0.5589970\ttotal: 87.1ms\tremaining: 2.33s\n",
      "36:\tlearn: 0.5515925\ttotal: 88.1ms\tremaining: 2.29s\n",
      "37:\tlearn: 0.5418264\ttotal: 88.8ms\tremaining: 2.25s\n",
      "38:\tlearn: 0.5346478\ttotal: 89.5ms\tremaining: 2.21s\n",
      "39:\tlearn: 0.5271344\ttotal: 90.4ms\tremaining: 2.17s\n",
      "40:\tlearn: 0.5200067\ttotal: 91.1ms\tremaining: 2.13s\n",
      "41:\tlearn: 0.5148382\ttotal: 92ms\tremaining: 2.1s\n",
      "42:\tlearn: 0.5080750\ttotal: 92.8ms\tremaining: 2.07s\n",
      "43:\tlearn: 0.5012446\ttotal: 93.7ms\tremaining: 2.04s\n",
      "44:\tlearn: 0.4950251\ttotal: 94.4ms\tremaining: 2s\n",
      "45:\tlearn: 0.4882833\ttotal: 95.3ms\tremaining: 1.98s\n",
      "46:\tlearn: 0.4840337\ttotal: 96.1ms\tremaining: 1.95s\n",
      "47:\tlearn: 0.4778390\ttotal: 97ms\tremaining: 1.92s\n",
      "48:\tlearn: 0.4734074\ttotal: 97.9ms\tremaining: 1.9s\n",
      "49:\tlearn: 0.4682131\ttotal: 98.7ms\tremaining: 1.87s\n",
      "50:\tlearn: 0.4639936\ttotal: 99.5ms\tremaining: 1.85s\n",
      "51:\tlearn: 0.4581131\ttotal: 100ms\tremaining: 1.83s\n",
      "52:\tlearn: 0.4543689\ttotal: 101ms\tremaining: 1.8s\n",
      "53:\tlearn: 0.4505134\ttotal: 102ms\tremaining: 1.78s\n",
      "54:\tlearn: 0.4456309\ttotal: 103ms\tremaining: 1.76s\n",
      "55:\tlearn: 0.4423851\ttotal: 103ms\tremaining: 1.74s\n",
      "56:\tlearn: 0.4385334\ttotal: 104ms\tremaining: 1.72s\n",
      "57:\tlearn: 0.4341208\ttotal: 105ms\tremaining: 1.71s\n",
      "58:\tlearn: 0.4301969\ttotal: 106ms\tremaining: 1.69s\n",
      "59:\tlearn: 0.4263050\ttotal: 107ms\tremaining: 1.67s\n"
     ]
    },
    {
     "name": "stdout",
     "output_type": "stream",
     "text": [
      "60:\tlearn: 0.4223423\ttotal: 108ms\tremaining: 1.66s\n",
      "61:\tlearn: 0.4185235\ttotal: 109ms\tremaining: 1.65s\n",
      "62:\tlearn: 0.4153806\ttotal: 110ms\tremaining: 1.63s\n",
      "63:\tlearn: 0.4112904\ttotal: 111ms\tremaining: 1.62s\n",
      "64:\tlearn: 0.4080574\ttotal: 111ms\tremaining: 1.6s\n",
      "65:\tlearn: 0.4042794\ttotal: 112ms\tremaining: 1.59s\n",
      "66:\tlearn: 0.4013552\ttotal: 113ms\tremaining: 1.57s\n",
      "67:\tlearn: 0.3973532\ttotal: 114ms\tremaining: 1.56s\n",
      "68:\tlearn: 0.3948028\ttotal: 115ms\tremaining: 1.55s\n",
      "69:\tlearn: 0.3922750\ttotal: 115ms\tremaining: 1.53s\n",
      "70:\tlearn: 0.3882623\ttotal: 116ms\tremaining: 1.52s\n",
      "71:\tlearn: 0.3842301\ttotal: 117ms\tremaining: 1.51s\n",
      "72:\tlearn: 0.3817809\ttotal: 118ms\tremaining: 1.5s\n",
      "73:\tlearn: 0.3781767\ttotal: 119ms\tremaining: 1.49s\n",
      "74:\tlearn: 0.3757435\ttotal: 120ms\tremaining: 1.48s\n",
      "75:\tlearn: 0.3730420\ttotal: 120ms\tremaining: 1.46s\n",
      "76:\tlearn: 0.3697276\ttotal: 121ms\tremaining: 1.45s\n",
      "77:\tlearn: 0.3664469\ttotal: 122ms\tremaining: 1.44s\n",
      "78:\tlearn: 0.3633965\ttotal: 123ms\tremaining: 1.43s\n",
      "79:\tlearn: 0.3605121\ttotal: 124ms\tremaining: 1.42s\n",
      "80:\tlearn: 0.3580242\ttotal: 125ms\tremaining: 1.42s\n",
      "81:\tlearn: 0.3555336\ttotal: 126ms\tremaining: 1.41s\n",
      "82:\tlearn: 0.3538751\ttotal: 126ms\tremaining: 1.4s\n",
      "83:\tlearn: 0.3514620\ttotal: 127ms\tremaining: 1.39s\n",
      "84:\tlearn: 0.3487879\ttotal: 128ms\tremaining: 1.38s\n",
      "85:\tlearn: 0.3464291\ttotal: 129ms\tremaining: 1.37s\n",
      "86:\tlearn: 0.3442780\ttotal: 130ms\tremaining: 1.36s\n",
      "87:\tlearn: 0.3417444\ttotal: 131ms\tremaining: 1.35s\n",
      "88:\tlearn: 0.3391172\ttotal: 131ms\tremaining: 1.34s\n",
      "89:\tlearn: 0.3371788\ttotal: 132ms\tremaining: 1.34s\n",
      "90:\tlearn: 0.3346974\ttotal: 133ms\tremaining: 1.33s\n",
      "91:\tlearn: 0.3326066\ttotal: 134ms\tremaining: 1.32s\n",
      "92:\tlearn: 0.3303158\ttotal: 135ms\tremaining: 1.31s\n",
      "93:\tlearn: 0.3285417\ttotal: 136ms\tremaining: 1.31s\n",
      "94:\tlearn: 0.3266743\ttotal: 136ms\tremaining: 1.3s\n",
      "95:\tlearn: 0.3248861\ttotal: 137ms\tremaining: 1.29s\n",
      "96:\tlearn: 0.3234980\ttotal: 138ms\tremaining: 1.28s\n",
      "97:\tlearn: 0.3218123\ttotal: 139ms\tremaining: 1.28s\n",
      "98:\tlearn: 0.3196751\ttotal: 140ms\tremaining: 1.27s\n",
      "99:\tlearn: 0.3178535\ttotal: 140ms\tremaining: 1.26s\n",
      "100:\tlearn: 0.3158159\ttotal: 141ms\tremaining: 1.26s\n",
      "101:\tlearn: 0.3140993\ttotal: 142ms\tremaining: 1.25s\n",
      "102:\tlearn: 0.3129159\ttotal: 143ms\tremaining: 1.24s\n",
      "103:\tlearn: 0.3120640\ttotal: 143ms\tremaining: 1.23s\n",
      "104:\tlearn: 0.3107166\ttotal: 144ms\tremaining: 1.23s\n",
      "105:\tlearn: 0.3089415\ttotal: 145ms\tremaining: 1.22s\n",
      "106:\tlearn: 0.3069566\ttotal: 146ms\tremaining: 1.22s\n",
      "107:\tlearn: 0.3046569\ttotal: 147ms\tremaining: 1.21s\n",
      "108:\tlearn: 0.3031869\ttotal: 147ms\tremaining: 1.21s\n",
      "109:\tlearn: 0.3020829\ttotal: 148ms\tremaining: 1.2s\n",
      "110:\tlearn: 0.3002291\ttotal: 149ms\tremaining: 1.19s\n",
      "111:\tlearn: 0.2989588\ttotal: 150ms\tremaining: 1.19s\n",
      "112:\tlearn: 0.2972669\ttotal: 151ms\tremaining: 1.18s\n",
      "113:\tlearn: 0.2954312\ttotal: 152ms\tremaining: 1.18s\n",
      "114:\tlearn: 0.2941358\ttotal: 152ms\tremaining: 1.17s\n",
      "115:\tlearn: 0.2925172\ttotal: 154ms\tremaining: 1.17s\n",
      "116:\tlearn: 0.2913058\ttotal: 155ms\tremaining: 1.17s\n",
      "117:\tlearn: 0.2903281\ttotal: 156ms\tremaining: 1.16s\n",
      "118:\tlearn: 0.2891379\ttotal: 157ms\tremaining: 1.16s\n",
      "119:\tlearn: 0.2883965\ttotal: 158ms\tremaining: 1.16s\n",
      "120:\tlearn: 0.2867869\ttotal: 158ms\tremaining: 1.15s\n",
      "121:\tlearn: 0.2857224\ttotal: 159ms\tremaining: 1.15s\n",
      "122:\tlearn: 0.2847984\ttotal: 160ms\tremaining: 1.14s\n",
      "123:\tlearn: 0.2840385\ttotal: 161ms\tremaining: 1.13s\n",
      "124:\tlearn: 0.2827301\ttotal: 161ms\tremaining: 1.13s\n",
      "125:\tlearn: 0.2813837\ttotal: 162ms\tremaining: 1.13s\n",
      "126:\tlearn: 0.2798637\ttotal: 163ms\tremaining: 1.12s\n",
      "127:\tlearn: 0.2788099\ttotal: 164ms\tremaining: 1.12s\n",
      "128:\tlearn: 0.2774742\ttotal: 165ms\tremaining: 1.12s\n",
      "129:\tlearn: 0.2764324\ttotal: 166ms\tremaining: 1.11s\n",
      "130:\tlearn: 0.2755078\ttotal: 167ms\tremaining: 1.11s\n",
      "131:\tlearn: 0.2747291\ttotal: 168ms\tremaining: 1.1s\n",
      "132:\tlearn: 0.2738548\ttotal: 169ms\tremaining: 1.1s\n",
      "133:\tlearn: 0.2730123\ttotal: 170ms\tremaining: 1.09s\n",
      "134:\tlearn: 0.2722342\ttotal: 170ms\tremaining: 1.09s\n",
      "135:\tlearn: 0.2711834\ttotal: 171ms\tremaining: 1.09s\n",
      "136:\tlearn: 0.2706849\ttotal: 172ms\tremaining: 1.08s\n",
      "137:\tlearn: 0.2695309\ttotal: 173ms\tremaining: 1.08s\n",
      "138:\tlearn: 0.2684025\ttotal: 174ms\tremaining: 1.07s\n",
      "139:\tlearn: 0.2676805\ttotal: 175ms\tremaining: 1.07s\n",
      "140:\tlearn: 0.2667162\ttotal: 175ms\tremaining: 1.07s\n",
      "141:\tlearn: 0.2659008\ttotal: 176ms\tremaining: 1.06s\n",
      "142:\tlearn: 0.2649767\ttotal: 177ms\tremaining: 1.06s\n",
      "143:\tlearn: 0.2640176\ttotal: 178ms\tremaining: 1.06s\n",
      "144:\tlearn: 0.2632305\ttotal: 179ms\tremaining: 1.05s\n",
      "145:\tlearn: 0.2623256\ttotal: 180ms\tremaining: 1.05s\n",
      "146:\tlearn: 0.2615537\ttotal: 180ms\tremaining: 1.05s\n",
      "147:\tlearn: 0.2609446\ttotal: 181ms\tremaining: 1.04s\n",
      "148:\tlearn: 0.2598919\ttotal: 182ms\tremaining: 1.04s\n",
      "149:\tlearn: 0.2594409\ttotal: 183ms\tremaining: 1.04s\n",
      "150:\tlearn: 0.2585943\ttotal: 184ms\tremaining: 1.03s\n",
      "151:\tlearn: 0.2577910\ttotal: 185ms\tremaining: 1.03s\n",
      "152:\tlearn: 0.2571379\ttotal: 185ms\tremaining: 1.03s\n",
      "153:\tlearn: 0.2564142\ttotal: 186ms\tremaining: 1.02s\n",
      "154:\tlearn: 0.2554434\ttotal: 187ms\tremaining: 1.02s\n",
      "155:\tlearn: 0.2547409\ttotal: 188ms\tremaining: 1.01s\n",
      "156:\tlearn: 0.2539413\ttotal: 189ms\tremaining: 1.01s\n",
      "157:\tlearn: 0.2531316\ttotal: 189ms\tremaining: 1.01s\n",
      "158:\tlearn: 0.2524449\ttotal: 190ms\tremaining: 1.01s\n",
      "159:\tlearn: 0.2518494\ttotal: 191ms\tremaining: 1s\n"
     ]
    },
    {
     "name": "stdout",
     "output_type": "stream",
     "text": [
      "160:\tlearn: 0.2510319\ttotal: 192ms\tremaining: 1s\n",
      "161:\tlearn: 0.2504029\ttotal: 193ms\tremaining: 999ms\n",
      "162:\tlearn: 0.2499494\ttotal: 194ms\tremaining: 996ms\n",
      "163:\tlearn: 0.2493084\ttotal: 195ms\tremaining: 993ms\n",
      "164:\tlearn: 0.2485352\ttotal: 196ms\tremaining: 990ms\n",
      "165:\tlearn: 0.2479620\ttotal: 197ms\tremaining: 987ms\n",
      "166:\tlearn: 0.2474034\ttotal: 197ms\tremaining: 984ms\n",
      "167:\tlearn: 0.2464363\ttotal: 198ms\tremaining: 981ms\n",
      "168:\tlearn: 0.2458619\ttotal: 199ms\tremaining: 978ms\n",
      "169:\tlearn: 0.2451414\ttotal: 200ms\tremaining: 975ms\n",
      "170:\tlearn: 0.2444400\ttotal: 201ms\tremaining: 972ms\n",
      "171:\tlearn: 0.2435645\ttotal: 201ms\tremaining: 970ms\n",
      "172:\tlearn: 0.2429786\ttotal: 202ms\tremaining: 967ms\n",
      "173:\tlearn: 0.2421474\ttotal: 203ms\tremaining: 964ms\n",
      "174:\tlearn: 0.2417733\ttotal: 204ms\tremaining: 960ms\n",
      "175:\tlearn: 0.2410070\ttotal: 204ms\tremaining: 957ms\n",
      "176:\tlearn: 0.2401758\ttotal: 205ms\tremaining: 953ms\n",
      "177:\tlearn: 0.2395117\ttotal: 206ms\tremaining: 950ms\n",
      "178:\tlearn: 0.2389602\ttotal: 206ms\tremaining: 946ms\n",
      "179:\tlearn: 0.2383390\ttotal: 207ms\tremaining: 943ms\n",
      "180:\tlearn: 0.2377507\ttotal: 208ms\tremaining: 941ms\n",
      "181:\tlearn: 0.2373445\ttotal: 209ms\tremaining: 938ms\n",
      "182:\tlearn: 0.2367477\ttotal: 209ms\tremaining: 935ms\n",
      "183:\tlearn: 0.2361942\ttotal: 210ms\tremaining: 932ms\n",
      "184:\tlearn: 0.2358334\ttotal: 211ms\tremaining: 929ms\n",
      "185:\tlearn: 0.2353838\ttotal: 212ms\tremaining: 927ms\n",
      "186:\tlearn: 0.2344152\ttotal: 213ms\tremaining: 925ms\n",
      "187:\tlearn: 0.2337866\ttotal: 213ms\tremaining: 922ms\n",
      "188:\tlearn: 0.2329469\ttotal: 214ms\tremaining: 919ms\n",
      "189:\tlearn: 0.2321604\ttotal: 215ms\tremaining: 916ms\n",
      "190:\tlearn: 0.2316272\ttotal: 216ms\tremaining: 914ms\n",
      "191:\tlearn: 0.2309242\ttotal: 217ms\tremaining: 911ms\n",
      "192:\tlearn: 0.2302836\ttotal: 217ms\tremaining: 909ms\n",
      "193:\tlearn: 0.2295944\ttotal: 218ms\tremaining: 907ms\n",
      "194:\tlearn: 0.2290523\ttotal: 219ms\tremaining: 904ms\n",
      "195:\tlearn: 0.2286297\ttotal: 220ms\tremaining: 902ms\n",
      "196:\tlearn: 0.2278797\ttotal: 221ms\tremaining: 899ms\n",
      "197:\tlearn: 0.2272966\ttotal: 221ms\tremaining: 897ms\n",
      "198:\tlearn: 0.2268788\ttotal: 222ms\tremaining: 895ms\n",
      "199:\tlearn: 0.2263227\ttotal: 223ms\tremaining: 893ms\n",
      "200:\tlearn: 0.2256427\ttotal: 224ms\tremaining: 891ms\n",
      "201:\tlearn: 0.2250276\ttotal: 225ms\tremaining: 889ms\n",
      "202:\tlearn: 0.2243694\ttotal: 226ms\tremaining: 887ms\n",
      "203:\tlearn: 0.2240268\ttotal: 227ms\tremaining: 884ms\n",
      "204:\tlearn: 0.2234970\ttotal: 227ms\tremaining: 881ms\n",
      "205:\tlearn: 0.2229719\ttotal: 228ms\tremaining: 879ms\n",
      "206:\tlearn: 0.2221151\ttotal: 229ms\tremaining: 876ms\n",
      "207:\tlearn: 0.2214716\ttotal: 230ms\tremaining: 874ms\n",
      "208:\tlearn: 0.2211235\ttotal: 230ms\tremaining: 872ms\n",
      "209:\tlearn: 0.2205106\ttotal: 231ms\tremaining: 870ms\n",
      "210:\tlearn: 0.2200991\ttotal: 232ms\tremaining: 868ms\n",
      "211:\tlearn: 0.2195548\ttotal: 233ms\tremaining: 866ms\n",
      "212:\tlearn: 0.2189786\ttotal: 234ms\tremaining: 865ms\n",
      "213:\tlearn: 0.2182849\ttotal: 235ms\tremaining: 863ms\n",
      "214:\tlearn: 0.2177649\ttotal: 236ms\tremaining: 862ms\n",
      "215:\tlearn: 0.2173856\ttotal: 237ms\tremaining: 860ms\n",
      "216:\tlearn: 0.2170079\ttotal: 238ms\tremaining: 858ms\n",
      "217:\tlearn: 0.2165349\ttotal: 239ms\tremaining: 856ms\n",
      "218:\tlearn: 0.2160489\ttotal: 239ms\tremaining: 854ms\n",
      "219:\tlearn: 0.2154544\ttotal: 240ms\tremaining: 852ms\n",
      "220:\tlearn: 0.2151041\ttotal: 241ms\tremaining: 850ms\n",
      "221:\tlearn: 0.2145038\ttotal: 242ms\tremaining: 848ms\n",
      "222:\tlearn: 0.2139616\ttotal: 243ms\tremaining: 847ms\n",
      "223:\tlearn: 0.2132194\ttotal: 244ms\tremaining: 845ms\n",
      "224:\tlearn: 0.2128600\ttotal: 245ms\tremaining: 844ms\n",
      "225:\tlearn: 0.2121046\ttotal: 246ms\tremaining: 842ms\n",
      "226:\tlearn: 0.2115804\ttotal: 247ms\tremaining: 840ms\n",
      "227:\tlearn: 0.2110250\ttotal: 248ms\tremaining: 839ms\n",
      "228:\tlearn: 0.2105960\ttotal: 249ms\tremaining: 838ms\n",
      "229:\tlearn: 0.2102105\ttotal: 250ms\tremaining: 836ms\n",
      "230:\tlearn: 0.2096823\ttotal: 250ms\tremaining: 834ms\n",
      "231:\tlearn: 0.2093900\ttotal: 251ms\tremaining: 832ms\n",
      "232:\tlearn: 0.2088249\ttotal: 252ms\tremaining: 830ms\n",
      "233:\tlearn: 0.2082261\ttotal: 253ms\tremaining: 828ms\n",
      "234:\tlearn: 0.2079530\ttotal: 254ms\tremaining: 826ms\n",
      "235:\tlearn: 0.2074417\ttotal: 255ms\tremaining: 825ms\n",
      "236:\tlearn: 0.2072163\ttotal: 256ms\tremaining: 823ms\n",
      "237:\tlearn: 0.2067475\ttotal: 256ms\tremaining: 821ms\n",
      "238:\tlearn: 0.2062037\ttotal: 257ms\tremaining: 819ms\n",
      "239:\tlearn: 0.2057088\ttotal: 258ms\tremaining: 818ms\n",
      "240:\tlearn: 0.2051248\ttotal: 259ms\tremaining: 816ms\n",
      "241:\tlearn: 0.2046578\ttotal: 260ms\tremaining: 814ms\n",
      "242:\tlearn: 0.2042692\ttotal: 261ms\tremaining: 812ms\n",
      "243:\tlearn: 0.2039869\ttotal: 262ms\tremaining: 810ms\n",
      "244:\tlearn: 0.2036475\ttotal: 262ms\tremaining: 808ms\n",
      "245:\tlearn: 0.2030651\ttotal: 263ms\tremaining: 806ms\n",
      "246:\tlearn: 0.2027852\ttotal: 264ms\tremaining: 805ms\n",
      "247:\tlearn: 0.2024764\ttotal: 265ms\tremaining: 803ms\n",
      "248:\tlearn: 0.2020200\ttotal: 266ms\tremaining: 801ms\n",
      "249:\tlearn: 0.2016806\ttotal: 266ms\tremaining: 799ms\n",
      "250:\tlearn: 0.2011559\ttotal: 267ms\tremaining: 798ms\n",
      "251:\tlearn: 0.2006335\ttotal: 268ms\tremaining: 796ms\n",
      "252:\tlearn: 0.2000131\ttotal: 269ms\tremaining: 794ms\n",
      "253:\tlearn: 0.1994721\ttotal: 270ms\tremaining: 792ms\n",
      "254:\tlearn: 0.1989290\ttotal: 271ms\tremaining: 791ms\n",
      "255:\tlearn: 0.1984009\ttotal: 271ms\tremaining: 789ms\n",
      "256:\tlearn: 0.1977344\ttotal: 272ms\tremaining: 787ms\n",
      "257:\tlearn: 0.1972133\ttotal: 273ms\tremaining: 785ms\n",
      "258:\tlearn: 0.1969306\ttotal: 274ms\tremaining: 784ms\n",
      "259:\tlearn: 0.1966449\ttotal: 275ms\tremaining: 782ms\n",
      "260:\tlearn: 0.1960867\ttotal: 276ms\tremaining: 781ms\n",
      "261:\tlearn: 0.1956146\ttotal: 277ms\tremaining: 779ms\n",
      "262:\tlearn: 0.1951209\ttotal: 277ms\tremaining: 777ms\n",
      "263:\tlearn: 0.1948839\ttotal: 278ms\tremaining: 776ms\n",
      "264:\tlearn: 0.1945032\ttotal: 279ms\tremaining: 774ms\n",
      "265:\tlearn: 0.1940042\ttotal: 280ms\tremaining: 773ms\n",
      "266:\tlearn: 0.1935242\ttotal: 281ms\tremaining: 771ms\n",
      "267:\tlearn: 0.1933240\ttotal: 282ms\tremaining: 770ms\n",
      "268:\tlearn: 0.1931567\ttotal: 283ms\tremaining: 768ms\n",
      "269:\tlearn: 0.1928215\ttotal: 283ms\tremaining: 766ms\n",
      "270:\tlearn: 0.1923377\ttotal: 284ms\tremaining: 765ms\n",
      "271:\tlearn: 0.1919812\ttotal: 285ms\tremaining: 763ms\n",
      "272:\tlearn: 0.1916064\ttotal: 286ms\tremaining: 762ms\n",
      "273:\tlearn: 0.1912048\ttotal: 287ms\tremaining: 760ms\n",
      "274:\tlearn: 0.1908227\ttotal: 288ms\tremaining: 758ms\n",
      "275:\tlearn: 0.1904477\ttotal: 288ms\tremaining: 757ms\n",
      "276:\tlearn: 0.1899960\ttotal: 289ms\tremaining: 755ms\n",
      "277:\tlearn: 0.1896348\ttotal: 290ms\tremaining: 753ms\n",
      "278:\tlearn: 0.1891680\ttotal: 291ms\tremaining: 752ms\n",
      "279:\tlearn: 0.1888993\ttotal: 292ms\tremaining: 750ms\n",
      "280:\tlearn: 0.1887633\ttotal: 292ms\tremaining: 748ms\n",
      "281:\tlearn: 0.1885239\ttotal: 293ms\tremaining: 747ms\n",
      "282:\tlearn: 0.1878634\ttotal: 294ms\tremaining: 745ms\n",
      "283:\tlearn: 0.1877083\ttotal: 295ms\tremaining: 744ms\n",
      "284:\tlearn: 0.1873354\ttotal: 296ms\tremaining: 742ms\n",
      "285:\tlearn: 0.1869336\ttotal: 297ms\tremaining: 741ms\n"
     ]
    },
    {
     "name": "stdout",
     "output_type": "stream",
     "text": [
      "286:\tlearn: 0.1865924\ttotal: 298ms\tremaining: 741ms\n",
      "287:\tlearn: 0.1862227\ttotal: 299ms\tremaining: 740ms\n",
      "288:\tlearn: 0.1860793\ttotal: 300ms\tremaining: 738ms\n",
      "289:\tlearn: 0.1858621\ttotal: 301ms\tremaining: 737ms\n",
      "290:\tlearn: 0.1856678\ttotal: 302ms\tremaining: 736ms\n",
      "291:\tlearn: 0.1851519\ttotal: 303ms\tremaining: 734ms\n",
      "292:\tlearn: 0.1845423\ttotal: 304ms\tremaining: 733ms\n",
      "293:\tlearn: 0.1841762\ttotal: 304ms\tremaining: 731ms\n",
      "294:\tlearn: 0.1839550\ttotal: 305ms\tremaining: 729ms\n",
      "295:\tlearn: 0.1835670\ttotal: 306ms\tremaining: 728ms\n",
      "296:\tlearn: 0.1831268\ttotal: 307ms\tremaining: 726ms\n",
      "297:\tlearn: 0.1828111\ttotal: 308ms\tremaining: 725ms\n",
      "298:\tlearn: 0.1823083\ttotal: 308ms\tremaining: 723ms\n",
      "299:\tlearn: 0.1818305\ttotal: 309ms\tremaining: 722ms\n",
      "300:\tlearn: 0.1815876\ttotal: 310ms\tremaining: 721ms\n",
      "301:\tlearn: 0.1811333\ttotal: 311ms\tremaining: 719ms\n",
      "302:\tlearn: 0.1805135\ttotal: 312ms\tremaining: 717ms\n",
      "303:\tlearn: 0.1799360\ttotal: 313ms\tremaining: 716ms\n",
      "304:\tlearn: 0.1798014\ttotal: 314ms\tremaining: 714ms\n",
      "305:\tlearn: 0.1795578\ttotal: 314ms\tremaining: 713ms\n",
      "306:\tlearn: 0.1791318\ttotal: 315ms\tremaining: 712ms\n",
      "307:\tlearn: 0.1789748\ttotal: 316ms\tremaining: 710ms\n",
      "308:\tlearn: 0.1785437\ttotal: 317ms\tremaining: 709ms\n",
      "309:\tlearn: 0.1780664\ttotal: 318ms\tremaining: 708ms\n",
      "310:\tlearn: 0.1775048\ttotal: 319ms\tremaining: 706ms\n",
      "311:\tlearn: 0.1772804\ttotal: 320ms\tremaining: 705ms\n",
      "312:\tlearn: 0.1770183\ttotal: 321ms\tremaining: 704ms\n",
      "313:\tlearn: 0.1765073\ttotal: 321ms\tremaining: 702ms\n",
      "314:\tlearn: 0.1761213\ttotal: 322ms\tremaining: 701ms\n",
      "315:\tlearn: 0.1757048\ttotal: 323ms\tremaining: 699ms\n",
      "316:\tlearn: 0.1755092\ttotal: 324ms\tremaining: 698ms\n",
      "317:\tlearn: 0.1751109\ttotal: 325ms\tremaining: 696ms\n",
      "318:\tlearn: 0.1747701\ttotal: 325ms\tremaining: 695ms\n",
      "319:\tlearn: 0.1743878\ttotal: 326ms\tremaining: 694ms\n",
      "320:\tlearn: 0.1742347\ttotal: 327ms\tremaining: 692ms\n",
      "321:\tlearn: 0.1737550\ttotal: 328ms\tremaining: 691ms\n",
      "322:\tlearn: 0.1736715\ttotal: 329ms\tremaining: 689ms\n",
      "323:\tlearn: 0.1733157\ttotal: 330ms\tremaining: 688ms\n",
      "324:\tlearn: 0.1730126\ttotal: 331ms\tremaining: 687ms\n",
      "325:\tlearn: 0.1727236\ttotal: 331ms\tremaining: 685ms\n",
      "326:\tlearn: 0.1723065\ttotal: 332ms\tremaining: 684ms\n",
      "327:\tlearn: 0.1717948\ttotal: 333ms\tremaining: 683ms\n",
      "328:\tlearn: 0.1715537\ttotal: 334ms\tremaining: 681ms\n",
      "329:\tlearn: 0.1710944\ttotal: 335ms\tremaining: 680ms\n",
      "330:\tlearn: 0.1706524\ttotal: 336ms\tremaining: 679ms\n",
      "331:\tlearn: 0.1704676\ttotal: 337ms\tremaining: 677ms\n",
      "332:\tlearn: 0.1700490\ttotal: 337ms\tremaining: 675ms\n",
      "333:\tlearn: 0.1696882\ttotal: 338ms\tremaining: 674ms\n",
      "334:\tlearn: 0.1695210\ttotal: 339ms\tremaining: 672ms\n",
      "335:\tlearn: 0.1690341\ttotal: 339ms\tremaining: 671ms\n",
      "336:\tlearn: 0.1686532\ttotal: 340ms\tremaining: 669ms\n",
      "337:\tlearn: 0.1684201\ttotal: 341ms\tremaining: 668ms\n",
      "338:\tlearn: 0.1678465\ttotal: 342ms\tremaining: 666ms\n",
      "339:\tlearn: 0.1674459\ttotal: 342ms\tremaining: 665ms\n",
      "340:\tlearn: 0.1670346\ttotal: 343ms\tremaining: 663ms\n",
      "341:\tlearn: 0.1667662\ttotal: 344ms\tremaining: 662ms\n",
      "342:\tlearn: 0.1663898\ttotal: 345ms\tremaining: 660ms\n",
      "343:\tlearn: 0.1660401\ttotal: 346ms\tremaining: 659ms\n",
      "344:\tlearn: 0.1657432\ttotal: 346ms\tremaining: 658ms\n",
      "345:\tlearn: 0.1654089\ttotal: 347ms\tremaining: 656ms\n",
      "346:\tlearn: 0.1652435\ttotal: 348ms\tremaining: 655ms\n",
      "347:\tlearn: 0.1648799\ttotal: 349ms\tremaining: 654ms\n",
      "348:\tlearn: 0.1646306\ttotal: 350ms\tremaining: 652ms\n",
      "349:\tlearn: 0.1641932\ttotal: 350ms\tremaining: 651ms\n",
      "350:\tlearn: 0.1638632\ttotal: 351ms\tremaining: 650ms\n",
      "351:\tlearn: 0.1634629\ttotal: 352ms\tremaining: 648ms\n",
      "352:\tlearn: 0.1632419\ttotal: 353ms\tremaining: 647ms\n",
      "353:\tlearn: 0.1627815\ttotal: 354ms\tremaining: 645ms\n",
      "354:\tlearn: 0.1625902\ttotal: 355ms\tremaining: 645ms\n",
      "355:\tlearn: 0.1622309\ttotal: 356ms\tremaining: 644ms\n",
      "356:\tlearn: 0.1620460\ttotal: 357ms\tremaining: 643ms\n",
      "357:\tlearn: 0.1618543\ttotal: 358ms\tremaining: 641ms\n",
      "358:\tlearn: 0.1616705\ttotal: 358ms\tremaining: 640ms\n",
      "359:\tlearn: 0.1614546\ttotal: 359ms\tremaining: 638ms\n",
      "360:\tlearn: 0.1613643\ttotal: 360ms\tremaining: 637ms\n",
      "361:\tlearn: 0.1611102\ttotal: 361ms\tremaining: 636ms\n",
      "362:\tlearn: 0.1608042\ttotal: 361ms\tremaining: 634ms\n",
      "363:\tlearn: 0.1607118\ttotal: 362ms\tremaining: 633ms\n",
      "364:\tlearn: 0.1603678\ttotal: 363ms\tremaining: 632ms\n",
      "365:\tlearn: 0.1602410\ttotal: 364ms\tremaining: 630ms\n",
      "366:\tlearn: 0.1600878\ttotal: 365ms\tremaining: 629ms\n",
      "367:\tlearn: 0.1599687\ttotal: 366ms\tremaining: 628ms\n",
      "368:\tlearn: 0.1596355\ttotal: 366ms\tremaining: 627ms\n",
      "369:\tlearn: 0.1593152\ttotal: 367ms\tremaining: 626ms\n",
      "370:\tlearn: 0.1590817\ttotal: 368ms\tremaining: 624ms\n",
      "371:\tlearn: 0.1588182\ttotal: 369ms\tremaining: 623ms\n",
      "372:\tlearn: 0.1585317\ttotal: 370ms\tremaining: 622ms\n",
      "373:\tlearn: 0.1583239\ttotal: 371ms\tremaining: 621ms\n",
      "374:\tlearn: 0.1580117\ttotal: 372ms\tremaining: 619ms\n",
      "375:\tlearn: 0.1578287\ttotal: 373ms\tremaining: 618ms\n",
      "376:\tlearn: 0.1576832\ttotal: 374ms\tremaining: 617ms\n",
      "377:\tlearn: 0.1574474\ttotal: 374ms\tremaining: 616ms\n",
      "378:\tlearn: 0.1572149\ttotal: 375ms\tremaining: 615ms\n",
      "379:\tlearn: 0.1570250\ttotal: 376ms\tremaining: 614ms\n",
      "380:\tlearn: 0.1568338\ttotal: 377ms\tremaining: 612ms\n",
      "381:\tlearn: 0.1565756\ttotal: 378ms\tremaining: 611ms\n",
      "382:\tlearn: 0.1563451\ttotal: 379ms\tremaining: 610ms\n",
      "383:\tlearn: 0.1562154\ttotal: 380ms\tremaining: 609ms\n",
      "384:\tlearn: 0.1560818\ttotal: 380ms\tremaining: 608ms\n",
      "385:\tlearn: 0.1559649\ttotal: 381ms\tremaining: 607ms\n"
     ]
    },
    {
     "name": "stdout",
     "output_type": "stream",
     "text": [
      "386:\tlearn: 0.1556529\ttotal: 382ms\tremaining: 606ms\n",
      "387:\tlearn: 0.1552434\ttotal: 383ms\tremaining: 605ms\n",
      "388:\tlearn: 0.1549197\ttotal: 384ms\tremaining: 603ms\n",
      "389:\tlearn: 0.1546175\ttotal: 385ms\tremaining: 602ms\n",
      "390:\tlearn: 0.1542312\ttotal: 386ms\tremaining: 601ms\n",
      "391:\tlearn: 0.1540046\ttotal: 387ms\tremaining: 600ms\n",
      "392:\tlearn: 0.1537455\ttotal: 387ms\tremaining: 598ms\n",
      "393:\tlearn: 0.1534645\ttotal: 388ms\tremaining: 597ms\n",
      "394:\tlearn: 0.1533295\ttotal: 389ms\tremaining: 596ms\n",
      "395:\tlearn: 0.1530951\ttotal: 390ms\tremaining: 594ms\n",
      "396:\tlearn: 0.1529277\ttotal: 390ms\tremaining: 593ms\n",
      "397:\tlearn: 0.1525529\ttotal: 391ms\tremaining: 592ms\n",
      "398:\tlearn: 0.1524241\ttotal: 392ms\tremaining: 591ms\n",
      "399:\tlearn: 0.1521401\ttotal: 393ms\tremaining: 589ms\n",
      "400:\tlearn: 0.1520092\ttotal: 394ms\tremaining: 588ms\n",
      "401:\tlearn: 0.1516564\ttotal: 395ms\tremaining: 587ms\n",
      "402:\tlearn: 0.1512699\ttotal: 395ms\tremaining: 586ms\n",
      "403:\tlearn: 0.1510707\ttotal: 396ms\tremaining: 584ms\n",
      "404:\tlearn: 0.1506921\ttotal: 397ms\tremaining: 583ms\n",
      "405:\tlearn: 0.1505347\ttotal: 398ms\tremaining: 582ms\n",
      "406:\tlearn: 0.1502168\ttotal: 399ms\tremaining: 581ms\n",
      "407:\tlearn: 0.1499236\ttotal: 399ms\tremaining: 580ms\n",
      "408:\tlearn: 0.1497119\ttotal: 400ms\tremaining: 578ms\n",
      "409:\tlearn: 0.1492689\ttotal: 401ms\tremaining: 577ms\n",
      "410:\tlearn: 0.1490612\ttotal: 402ms\tremaining: 576ms\n",
      "411:\tlearn: 0.1487365\ttotal: 403ms\tremaining: 575ms\n",
      "412:\tlearn: 0.1485220\ttotal: 404ms\tremaining: 574ms\n",
      "413:\tlearn: 0.1482774\ttotal: 404ms\tremaining: 572ms\n",
      "414:\tlearn: 0.1481221\ttotal: 405ms\tremaining: 571ms\n",
      "415:\tlearn: 0.1478258\ttotal: 406ms\tremaining: 570ms\n",
      "416:\tlearn: 0.1473338\ttotal: 407ms\tremaining: 569ms\n",
      "417:\tlearn: 0.1470748\ttotal: 408ms\tremaining: 568ms\n",
      "418:\tlearn: 0.1468689\ttotal: 408ms\tremaining: 566ms\n",
      "419:\tlearn: 0.1465326\ttotal: 409ms\tremaining: 565ms\n",
      "420:\tlearn: 0.1462579\ttotal: 410ms\tremaining: 564ms\n",
      "421:\tlearn: 0.1459854\ttotal: 411ms\tremaining: 563ms\n",
      "422:\tlearn: 0.1455798\ttotal: 412ms\tremaining: 561ms\n",
      "423:\tlearn: 0.1453417\ttotal: 412ms\tremaining: 560ms\n",
      "424:\tlearn: 0.1447682\ttotal: 414ms\tremaining: 560ms\n",
      "425:\tlearn: 0.1445180\ttotal: 415ms\tremaining: 559ms\n",
      "426:\tlearn: 0.1444055\ttotal: 416ms\tremaining: 558ms\n",
      "427:\tlearn: 0.1442534\ttotal: 416ms\tremaining: 556ms\n",
      "428:\tlearn: 0.1440106\ttotal: 417ms\tremaining: 555ms\n",
      "429:\tlearn: 0.1437975\ttotal: 418ms\tremaining: 554ms\n",
      "430:\tlearn: 0.1435019\ttotal: 419ms\tremaining: 553ms\n",
      "431:\tlearn: 0.1432330\ttotal: 420ms\tremaining: 552ms\n",
      "432:\tlearn: 0.1430783\ttotal: 421ms\tremaining: 551ms\n",
      "433:\tlearn: 0.1428241\ttotal: 422ms\tremaining: 550ms\n",
      "434:\tlearn: 0.1426535\ttotal: 423ms\tremaining: 549ms\n",
      "435:\tlearn: 0.1424348\ttotal: 423ms\tremaining: 548ms\n",
      "436:\tlearn: 0.1422060\ttotal: 424ms\tremaining: 546ms\n",
      "437:\tlearn: 0.1419385\ttotal: 425ms\tremaining: 545ms\n",
      "438:\tlearn: 0.1417968\ttotal: 426ms\tremaining: 544ms\n",
      "439:\tlearn: 0.1417414\ttotal: 427ms\tremaining: 543ms\n",
      "440:\tlearn: 0.1416431\ttotal: 427ms\tremaining: 542ms\n",
      "441:\tlearn: 0.1413901\ttotal: 428ms\tremaining: 541ms\n",
      "442:\tlearn: 0.1413232\ttotal: 429ms\tremaining: 539ms\n",
      "443:\tlearn: 0.1410030\ttotal: 430ms\tremaining: 538ms\n",
      "444:\tlearn: 0.1405694\ttotal: 431ms\tremaining: 537ms\n",
      "445:\tlearn: 0.1404241\ttotal: 431ms\tremaining: 536ms\n",
      "446:\tlearn: 0.1402173\ttotal: 432ms\tremaining: 535ms\n",
      "447:\tlearn: 0.1401474\ttotal: 433ms\tremaining: 534ms\n",
      "448:\tlearn: 0.1399976\ttotal: 434ms\tremaining: 533ms\n",
      "449:\tlearn: 0.1396668\ttotal: 435ms\tremaining: 531ms\n",
      "450:\tlearn: 0.1394393\ttotal: 435ms\tremaining: 530ms\n",
      "451:\tlearn: 0.1390677\ttotal: 436ms\tremaining: 529ms\n",
      "452:\tlearn: 0.1387246\ttotal: 437ms\tremaining: 528ms\n",
      "453:\tlearn: 0.1385723\ttotal: 438ms\tremaining: 527ms\n",
      "454:\tlearn: 0.1381258\ttotal: 439ms\tremaining: 526ms\n",
      "455:\tlearn: 0.1381049\ttotal: 440ms\tremaining: 524ms\n",
      "456:\tlearn: 0.1378460\ttotal: 440ms\tremaining: 523ms\n",
      "457:\tlearn: 0.1376520\ttotal: 441ms\tremaining: 522ms\n",
      "458:\tlearn: 0.1375465\ttotal: 442ms\tremaining: 521ms\n",
      "459:\tlearn: 0.1374552\ttotal: 443ms\tremaining: 520ms\n",
      "460:\tlearn: 0.1371213\ttotal: 444ms\tremaining: 519ms\n",
      "461:\tlearn: 0.1369708\ttotal: 445ms\tremaining: 518ms\n",
      "462:\tlearn: 0.1364439\ttotal: 446ms\tremaining: 517ms\n",
      "463:\tlearn: 0.1362752\ttotal: 446ms\tremaining: 516ms\n",
      "464:\tlearn: 0.1359625\ttotal: 447ms\tremaining: 515ms\n",
      "465:\tlearn: 0.1357944\ttotal: 448ms\tremaining: 513ms\n",
      "466:\tlearn: 0.1354986\ttotal: 449ms\tremaining: 512ms\n",
      "467:\tlearn: 0.1351333\ttotal: 450ms\tremaining: 511ms\n",
      "468:\tlearn: 0.1348452\ttotal: 451ms\tremaining: 510ms\n",
      "469:\tlearn: 0.1346195\ttotal: 452ms\tremaining: 509ms\n",
      "470:\tlearn: 0.1343729\ttotal: 452ms\tremaining: 508ms\n",
      "471:\tlearn: 0.1341633\ttotal: 453ms\tremaining: 507ms\n",
      "472:\tlearn: 0.1338947\ttotal: 454ms\tremaining: 506ms\n",
      "473:\tlearn: 0.1335761\ttotal: 455ms\tremaining: 504ms\n",
      "474:\tlearn: 0.1333040\ttotal: 455ms\tremaining: 503ms\n",
      "475:\tlearn: 0.1330672\ttotal: 456ms\tremaining: 502ms\n",
      "476:\tlearn: 0.1329367\ttotal: 457ms\tremaining: 501ms\n",
      "477:\tlearn: 0.1326030\ttotal: 458ms\tremaining: 500ms\n",
      "478:\tlearn: 0.1322360\ttotal: 459ms\tremaining: 499ms\n",
      "479:\tlearn: 0.1320321\ttotal: 460ms\tremaining: 498ms\n",
      "480:\tlearn: 0.1315906\ttotal: 461ms\tremaining: 498ms\n",
      "481:\tlearn: 0.1312982\ttotal: 462ms\tremaining: 497ms\n",
      "482:\tlearn: 0.1310426\ttotal: 463ms\tremaining: 495ms\n",
      "483:\tlearn: 0.1306188\ttotal: 464ms\tremaining: 494ms\n",
      "484:\tlearn: 0.1303902\ttotal: 464ms\tremaining: 493ms\n",
      "485:\tlearn: 0.1302575\ttotal: 465ms\tremaining: 492ms\n",
      "486:\tlearn: 0.1300016\ttotal: 466ms\tremaining: 491ms\n",
      "487:\tlearn: 0.1298477\ttotal: 467ms\tremaining: 490ms\n",
      "488:\tlearn: 0.1295863\ttotal: 468ms\tremaining: 489ms\n",
      "489:\tlearn: 0.1293907\ttotal: 468ms\tremaining: 488ms\n",
      "490:\tlearn: 0.1293399\ttotal: 469ms\tremaining: 487ms\n",
      "491:\tlearn: 0.1291604\ttotal: 470ms\tremaining: 485ms\n",
      "492:\tlearn: 0.1288335\ttotal: 471ms\tremaining: 484ms\n",
      "493:\tlearn: 0.1286248\ttotal: 472ms\tremaining: 483ms\n",
      "494:\tlearn: 0.1285597\ttotal: 473ms\tremaining: 482ms\n",
      "495:\tlearn: 0.1281600\ttotal: 474ms\tremaining: 481ms\n",
      "496:\tlearn: 0.1278796\ttotal: 474ms\tremaining: 480ms\n",
      "497:\tlearn: 0.1275891\ttotal: 475ms\tremaining: 479ms\n",
      "498:\tlearn: 0.1275069\ttotal: 476ms\tremaining: 478ms\n",
      "499:\tlearn: 0.1273337\ttotal: 477ms\tremaining: 477ms\n",
      "500:\tlearn: 0.1270798\ttotal: 478ms\tremaining: 476ms\n",
      "501:\tlearn: 0.1266957\ttotal: 478ms\tremaining: 475ms\n",
      "502:\tlearn: 0.1265499\ttotal: 479ms\tremaining: 474ms\n",
      "503:\tlearn: 0.1263564\ttotal: 480ms\tremaining: 472ms\n",
      "504:\tlearn: 0.1260031\ttotal: 481ms\tremaining: 471ms\n",
      "505:\tlearn: 0.1257307\ttotal: 482ms\tremaining: 470ms\n",
      "506:\tlearn: 0.1255971\ttotal: 483ms\tremaining: 469ms\n",
      "507:\tlearn: 0.1253215\ttotal: 483ms\tremaining: 468ms\n",
      "508:\tlearn: 0.1250587\ttotal: 484ms\tremaining: 467ms\n",
      "509:\tlearn: 0.1247890\ttotal: 485ms\tremaining: 466ms\n",
      "510:\tlearn: 0.1244944\ttotal: 486ms\tremaining: 465ms\n",
      "511:\tlearn: 0.1242531\ttotal: 487ms\tremaining: 464ms\n",
      "512:\tlearn: 0.1240164\ttotal: 487ms\tremaining: 463ms\n",
      "513:\tlearn: 0.1237480\ttotal: 488ms\tremaining: 462ms\n"
     ]
    },
    {
     "name": "stdout",
     "output_type": "stream",
     "text": [
      "514:\tlearn: 0.1235845\ttotal: 489ms\tremaining: 461ms\n",
      "515:\tlearn: 0.1233779\ttotal: 490ms\tremaining: 460ms\n",
      "516:\tlearn: 0.1231531\ttotal: 491ms\tremaining: 459ms\n",
      "517:\tlearn: 0.1229401\ttotal: 492ms\tremaining: 458ms\n",
      "518:\tlearn: 0.1226897\ttotal: 493ms\tremaining: 457ms\n",
      "519:\tlearn: 0.1224898\ttotal: 493ms\tremaining: 455ms\n",
      "520:\tlearn: 0.1222685\ttotal: 494ms\tremaining: 454ms\n",
      "521:\tlearn: 0.1221545\ttotal: 495ms\tremaining: 453ms\n",
      "522:\tlearn: 0.1219864\ttotal: 496ms\tremaining: 452ms\n",
      "523:\tlearn: 0.1215897\ttotal: 496ms\tremaining: 451ms\n",
      "524:\tlearn: 0.1214114\ttotal: 497ms\tremaining: 450ms\n",
      "525:\tlearn: 0.1211993\ttotal: 498ms\tremaining: 449ms\n",
      "526:\tlearn: 0.1209884\ttotal: 499ms\tremaining: 448ms\n",
      "527:\tlearn: 0.1207664\ttotal: 500ms\tremaining: 447ms\n",
      "528:\tlearn: 0.1205875\ttotal: 500ms\tremaining: 445ms\n",
      "529:\tlearn: 0.1204087\ttotal: 501ms\tremaining: 444ms\n",
      "530:\tlearn: 0.1202341\ttotal: 502ms\tremaining: 443ms\n",
      "531:\tlearn: 0.1199957\ttotal: 503ms\tremaining: 442ms\n",
      "532:\tlearn: 0.1198235\ttotal: 503ms\tremaining: 441ms\n",
      "533:\tlearn: 0.1196803\ttotal: 504ms\tremaining: 440ms\n",
      "534:\tlearn: 0.1193874\ttotal: 505ms\tremaining: 439ms\n",
      "535:\tlearn: 0.1192346\ttotal: 506ms\tremaining: 438ms\n",
      "536:\tlearn: 0.1190786\ttotal: 507ms\tremaining: 437ms\n",
      "537:\tlearn: 0.1188573\ttotal: 508ms\tremaining: 436ms\n",
      "538:\tlearn: 0.1187652\ttotal: 508ms\tremaining: 435ms\n",
      "539:\tlearn: 0.1185852\ttotal: 509ms\tremaining: 434ms\n",
      "540:\tlearn: 0.1184024\ttotal: 510ms\tremaining: 433ms\n",
      "541:\tlearn: 0.1181920\ttotal: 511ms\tremaining: 432ms\n",
      "542:\tlearn: 0.1179904\ttotal: 512ms\tremaining: 431ms\n",
      "543:\tlearn: 0.1178190\ttotal: 513ms\tremaining: 430ms\n",
      "544:\tlearn: 0.1175062\ttotal: 513ms\tremaining: 429ms\n",
      "545:\tlearn: 0.1171379\ttotal: 514ms\tremaining: 428ms\n",
      "546:\tlearn: 0.1169852\ttotal: 515ms\tremaining: 427ms\n",
      "547:\tlearn: 0.1167348\ttotal: 516ms\tremaining: 426ms\n",
      "548:\tlearn: 0.1165467\ttotal: 517ms\tremaining: 425ms\n",
      "549:\tlearn: 0.1165027\ttotal: 518ms\tremaining: 424ms\n",
      "550:\tlearn: 0.1163603\ttotal: 519ms\tremaining: 423ms\n",
      "551:\tlearn: 0.1163343\ttotal: 519ms\tremaining: 421ms\n",
      "552:\tlearn: 0.1161092\ttotal: 520ms\tremaining: 420ms\n",
      "553:\tlearn: 0.1159288\ttotal: 521ms\tremaining: 419ms\n",
      "554:\tlearn: 0.1157142\ttotal: 522ms\tremaining: 418ms\n",
      "555:\tlearn: 0.1155024\ttotal: 523ms\tremaining: 417ms\n",
      "556:\tlearn: 0.1152321\ttotal: 523ms\tremaining: 416ms\n",
      "557:\tlearn: 0.1150265\ttotal: 524ms\tremaining: 415ms\n",
      "558:\tlearn: 0.1147571\ttotal: 525ms\tremaining: 414ms\n",
      "559:\tlearn: 0.1145842\ttotal: 526ms\tremaining: 413ms\n",
      "560:\tlearn: 0.1143052\ttotal: 527ms\tremaining: 412ms\n",
      "561:\tlearn: 0.1142562\ttotal: 527ms\tremaining: 411ms\n",
      "562:\tlearn: 0.1140580\ttotal: 529ms\tremaining: 411ms\n",
      "563:\tlearn: 0.1137739\ttotal: 530ms\tremaining: 410ms\n",
      "564:\tlearn: 0.1136336\ttotal: 531ms\tremaining: 408ms\n",
      "565:\tlearn: 0.1133705\ttotal: 531ms\tremaining: 407ms\n",
      "566:\tlearn: 0.1133222\ttotal: 532ms\tremaining: 406ms\n",
      "567:\tlearn: 0.1130335\ttotal: 533ms\tremaining: 406ms\n",
      "568:\tlearn: 0.1129019\ttotal: 534ms\tremaining: 405ms\n",
      "569:\tlearn: 0.1126088\ttotal: 535ms\tremaining: 404ms\n",
      "570:\tlearn: 0.1124187\ttotal: 536ms\tremaining: 402ms\n",
      "571:\tlearn: 0.1122594\ttotal: 537ms\tremaining: 402ms\n",
      "572:\tlearn: 0.1119381\ttotal: 537ms\tremaining: 400ms\n",
      "573:\tlearn: 0.1118184\ttotal: 538ms\tremaining: 400ms\n",
      "574:\tlearn: 0.1116270\ttotal: 539ms\tremaining: 399ms\n",
      "575:\tlearn: 0.1112870\ttotal: 540ms\tremaining: 398ms\n",
      "576:\tlearn: 0.1110857\ttotal: 541ms\tremaining: 397ms\n",
      "577:\tlearn: 0.1108495\ttotal: 542ms\tremaining: 396ms\n",
      "578:\tlearn: 0.1106720\ttotal: 543ms\tremaining: 395ms\n",
      "579:\tlearn: 0.1104643\ttotal: 544ms\tremaining: 394ms\n",
      "580:\tlearn: 0.1102764\ttotal: 545ms\tremaining: 393ms\n",
      "581:\tlearn: 0.1100482\ttotal: 545ms\tremaining: 392ms\n",
      "582:\tlearn: 0.1099550\ttotal: 546ms\tremaining: 391ms\n",
      "583:\tlearn: 0.1097523\ttotal: 547ms\tremaining: 390ms\n",
      "584:\tlearn: 0.1094893\ttotal: 548ms\tremaining: 389ms\n",
      "585:\tlearn: 0.1093928\ttotal: 549ms\tremaining: 388ms\n",
      "586:\tlearn: 0.1093703\ttotal: 550ms\tremaining: 387ms\n",
      "587:\tlearn: 0.1091387\ttotal: 551ms\tremaining: 386ms\n",
      "588:\tlearn: 0.1090244\ttotal: 551ms\tremaining: 385ms\n",
      "589:\tlearn: 0.1088895\ttotal: 552ms\tremaining: 384ms\n",
      "590:\tlearn: 0.1086560\ttotal: 553ms\tremaining: 383ms\n",
      "591:\tlearn: 0.1084466\ttotal: 554ms\tremaining: 382ms\n",
      "592:\tlearn: 0.1081647\ttotal: 555ms\tremaining: 381ms\n",
      "593:\tlearn: 0.1079231\ttotal: 555ms\tremaining: 380ms\n",
      "594:\tlearn: 0.1077560\ttotal: 556ms\tremaining: 379ms\n",
      "595:\tlearn: 0.1076226\ttotal: 557ms\tremaining: 378ms\n",
      "596:\tlearn: 0.1074597\ttotal: 558ms\tremaining: 377ms\n",
      "597:\tlearn: 0.1072631\ttotal: 559ms\tremaining: 376ms\n",
      "598:\tlearn: 0.1069530\ttotal: 560ms\tremaining: 375ms\n",
      "599:\tlearn: 0.1067519\ttotal: 561ms\tremaining: 374ms\n",
      "600:\tlearn: 0.1065593\ttotal: 562ms\tremaining: 373ms\n",
      "601:\tlearn: 0.1064313\ttotal: 563ms\tremaining: 372ms\n",
      "602:\tlearn: 0.1062197\ttotal: 563ms\tremaining: 371ms\n",
      "603:\tlearn: 0.1060968\ttotal: 564ms\tremaining: 370ms\n",
      "604:\tlearn: 0.1058656\ttotal: 565ms\tremaining: 369ms\n",
      "605:\tlearn: 0.1056396\ttotal: 566ms\tremaining: 368ms\n",
      "606:\tlearn: 0.1054988\ttotal: 567ms\tremaining: 367ms\n",
      "607:\tlearn: 0.1052746\ttotal: 568ms\tremaining: 366ms\n",
      "608:\tlearn: 0.1051477\ttotal: 568ms\tremaining: 365ms\n",
      "609:\tlearn: 0.1049529\ttotal: 569ms\tremaining: 364ms\n",
      "610:\tlearn: 0.1047920\ttotal: 570ms\tremaining: 363ms\n",
      "611:\tlearn: 0.1046012\ttotal: 571ms\tremaining: 362ms\n",
      "612:\tlearn: 0.1044397\ttotal: 571ms\tremaining: 361ms\n",
      "613:\tlearn: 0.1044044\ttotal: 572ms\tremaining: 360ms\n"
     ]
    },
    {
     "name": "stdout",
     "output_type": "stream",
     "text": [
      "614:\tlearn: 0.1042308\ttotal: 573ms\tremaining: 359ms\n",
      "615:\tlearn: 0.1040611\ttotal: 574ms\tremaining: 358ms\n",
      "616:\tlearn: 0.1038052\ttotal: 575ms\tremaining: 357ms\n",
      "617:\tlearn: 0.1037003\ttotal: 576ms\tremaining: 356ms\n",
      "618:\tlearn: 0.1035108\ttotal: 576ms\tremaining: 355ms\n",
      "619:\tlearn: 0.1034680\ttotal: 577ms\tremaining: 354ms\n",
      "620:\tlearn: 0.1032850\ttotal: 578ms\tremaining: 353ms\n",
      "621:\tlearn: 0.1031619\ttotal: 579ms\tremaining: 352ms\n",
      "622:\tlearn: 0.1031259\ttotal: 580ms\tremaining: 351ms\n",
      "623:\tlearn: 0.1028517\ttotal: 581ms\tremaining: 350ms\n",
      "624:\tlearn: 0.1027814\ttotal: 582ms\tremaining: 349ms\n",
      "625:\tlearn: 0.1026235\ttotal: 582ms\tremaining: 348ms\n",
      "626:\tlearn: 0.1024454\ttotal: 583ms\tremaining: 347ms\n",
      "627:\tlearn: 0.1022007\ttotal: 584ms\tremaining: 346ms\n",
      "628:\tlearn: 0.1019881\ttotal: 585ms\tremaining: 345ms\n",
      "629:\tlearn: 0.1017532\ttotal: 586ms\tremaining: 344ms\n",
      "630:\tlearn: 0.1015385\ttotal: 587ms\tremaining: 343ms\n",
      "631:\tlearn: 0.1014724\ttotal: 587ms\tremaining: 342ms\n",
      "632:\tlearn: 0.1012921\ttotal: 589ms\tremaining: 341ms\n",
      "633:\tlearn: 0.1011501\ttotal: 590ms\tremaining: 340ms\n",
      "634:\tlearn: 0.1010099\ttotal: 590ms\tremaining: 339ms\n",
      "635:\tlearn: 0.1007392\ttotal: 591ms\tremaining: 338ms\n",
      "636:\tlearn: 0.1005359\ttotal: 592ms\tremaining: 337ms\n",
      "637:\tlearn: 0.1003491\ttotal: 593ms\tremaining: 336ms\n",
      "638:\tlearn: 0.1002322\ttotal: 594ms\tremaining: 335ms\n",
      "639:\tlearn: 0.1000933\ttotal: 595ms\tremaining: 334ms\n",
      "640:\tlearn: 0.1000249\ttotal: 595ms\tremaining: 333ms\n",
      "641:\tlearn: 0.0998401\ttotal: 596ms\tremaining: 332ms\n",
      "642:\tlearn: 0.0997711\ttotal: 597ms\tremaining: 331ms\n",
      "643:\tlearn: 0.0996021\ttotal: 598ms\tremaining: 330ms\n",
      "644:\tlearn: 0.0993362\ttotal: 599ms\tremaining: 329ms\n",
      "645:\tlearn: 0.0991358\ttotal: 599ms\tremaining: 328ms\n",
      "646:\tlearn: 0.0989846\ttotal: 600ms\tremaining: 327ms\n",
      "647:\tlearn: 0.0988046\ttotal: 601ms\tremaining: 327ms\n",
      "648:\tlearn: 0.0986906\ttotal: 602ms\tremaining: 326ms\n",
      "649:\tlearn: 0.0985819\ttotal: 603ms\tremaining: 325ms\n",
      "650:\tlearn: 0.0984551\ttotal: 603ms\tremaining: 324ms\n",
      "651:\tlearn: 0.0982950\ttotal: 604ms\tremaining: 323ms\n",
      "652:\tlearn: 0.0981012\ttotal: 605ms\tremaining: 322ms\n",
      "653:\tlearn: 0.0979085\ttotal: 606ms\tremaining: 321ms\n",
      "654:\tlearn: 0.0976707\ttotal: 607ms\tremaining: 320ms\n",
      "655:\tlearn: 0.0975191\ttotal: 608ms\tremaining: 319ms\n",
      "656:\tlearn: 0.0973846\ttotal: 609ms\tremaining: 318ms\n",
      "657:\tlearn: 0.0971804\ttotal: 610ms\tremaining: 317ms\n",
      "658:\tlearn: 0.0969822\ttotal: 610ms\tremaining: 316ms\n",
      "659:\tlearn: 0.0968423\ttotal: 611ms\tremaining: 315ms\n",
      "660:\tlearn: 0.0966442\ttotal: 612ms\tremaining: 314ms\n",
      "661:\tlearn: 0.0965074\ttotal: 613ms\tremaining: 313ms\n",
      "662:\tlearn: 0.0963760\ttotal: 614ms\tremaining: 312ms\n",
      "663:\tlearn: 0.0962050\ttotal: 615ms\tremaining: 311ms\n",
      "664:\tlearn: 0.0959816\ttotal: 616ms\tremaining: 310ms\n",
      "665:\tlearn: 0.0959076\ttotal: 616ms\tremaining: 309ms\n",
      "666:\tlearn: 0.0958302\ttotal: 617ms\tremaining: 308ms\n",
      "667:\tlearn: 0.0956720\ttotal: 618ms\tremaining: 307ms\n",
      "668:\tlearn: 0.0956059\ttotal: 619ms\tremaining: 306ms\n",
      "669:\tlearn: 0.0953512\ttotal: 620ms\tremaining: 305ms\n",
      "670:\tlearn: 0.0952301\ttotal: 621ms\tremaining: 304ms\n",
      "671:\tlearn: 0.0951208\ttotal: 622ms\tremaining: 303ms\n",
      "672:\tlearn: 0.0950363\ttotal: 622ms\tremaining: 302ms\n",
      "673:\tlearn: 0.0949301\ttotal: 623ms\tremaining: 301ms\n",
      "674:\tlearn: 0.0948874\ttotal: 624ms\tremaining: 300ms\n",
      "675:\tlearn: 0.0947164\ttotal: 625ms\tremaining: 299ms\n",
      "676:\tlearn: 0.0945926\ttotal: 625ms\tremaining: 298ms\n",
      "677:\tlearn: 0.0943506\ttotal: 626ms\tremaining: 297ms\n",
      "678:\tlearn: 0.0941697\ttotal: 627ms\tremaining: 296ms\n",
      "679:\tlearn: 0.0940344\ttotal: 628ms\tremaining: 295ms\n",
      "680:\tlearn: 0.0938598\ttotal: 628ms\tremaining: 294ms\n",
      "681:\tlearn: 0.0937508\ttotal: 629ms\tremaining: 293ms\n",
      "682:\tlearn: 0.0935106\ttotal: 630ms\tremaining: 292ms\n",
      "683:\tlearn: 0.0932873\ttotal: 631ms\tremaining: 291ms\n",
      "684:\tlearn: 0.0931784\ttotal: 632ms\tremaining: 291ms\n",
      "685:\tlearn: 0.0929635\ttotal: 633ms\tremaining: 290ms\n",
      "686:\tlearn: 0.0928364\ttotal: 634ms\tremaining: 289ms\n",
      "687:\tlearn: 0.0926976\ttotal: 635ms\tremaining: 288ms\n",
      "688:\tlearn: 0.0925311\ttotal: 635ms\tremaining: 287ms\n",
      "689:\tlearn: 0.0923715\ttotal: 636ms\tremaining: 286ms\n",
      "690:\tlearn: 0.0922838\ttotal: 637ms\tremaining: 285ms\n",
      "691:\tlearn: 0.0921499\ttotal: 638ms\tremaining: 284ms\n",
      "692:\tlearn: 0.0920955\ttotal: 639ms\tremaining: 283ms\n",
      "693:\tlearn: 0.0918885\ttotal: 639ms\tremaining: 282ms\n",
      "694:\tlearn: 0.0917636\ttotal: 640ms\tremaining: 281ms\n",
      "695:\tlearn: 0.0916225\ttotal: 641ms\tremaining: 280ms\n",
      "696:\tlearn: 0.0913709\ttotal: 642ms\tremaining: 279ms\n",
      "697:\tlearn: 0.0912196\ttotal: 643ms\tremaining: 278ms\n",
      "698:\tlearn: 0.0910221\ttotal: 644ms\tremaining: 277ms\n",
      "699:\tlearn: 0.0909676\ttotal: 644ms\tremaining: 276ms\n",
      "700:\tlearn: 0.0908659\ttotal: 645ms\tremaining: 275ms\n",
      "701:\tlearn: 0.0906162\ttotal: 646ms\tremaining: 274ms\n",
      "702:\tlearn: 0.0904437\ttotal: 647ms\tremaining: 273ms\n",
      "703:\tlearn: 0.0902709\ttotal: 648ms\tremaining: 272ms\n",
      "704:\tlearn: 0.0902320\ttotal: 649ms\tremaining: 272ms\n",
      "705:\tlearn: 0.0902148\ttotal: 650ms\tremaining: 271ms\n",
      "706:\tlearn: 0.0900380\ttotal: 651ms\tremaining: 270ms\n",
      "707:\tlearn: 0.0899762\ttotal: 652ms\tremaining: 269ms\n",
      "708:\tlearn: 0.0898350\ttotal: 652ms\tremaining: 268ms\n",
      "709:\tlearn: 0.0897012\ttotal: 653ms\tremaining: 267ms\n",
      "710:\tlearn: 0.0894393\ttotal: 654ms\tremaining: 266ms\n",
      "711:\tlearn: 0.0893375\ttotal: 655ms\tremaining: 265ms\n",
      "712:\tlearn: 0.0892989\ttotal: 656ms\tremaining: 264ms\n",
      "713:\tlearn: 0.0892234\ttotal: 657ms\tremaining: 263ms\n",
      "714:\tlearn: 0.0890182\ttotal: 657ms\tremaining: 262ms\n",
      "715:\tlearn: 0.0889453\ttotal: 658ms\tremaining: 261ms\n",
      "716:\tlearn: 0.0888187\ttotal: 659ms\tremaining: 260ms\n",
      "717:\tlearn: 0.0887182\ttotal: 660ms\tremaining: 259ms\n",
      "718:\tlearn: 0.0886596\ttotal: 661ms\tremaining: 258ms\n",
      "719:\tlearn: 0.0885148\ttotal: 662ms\tremaining: 257ms\n",
      "720:\tlearn: 0.0884753\ttotal: 662ms\tremaining: 256ms\n",
      "721:\tlearn: 0.0883520\ttotal: 663ms\tremaining: 255ms\n",
      "722:\tlearn: 0.0882059\ttotal: 664ms\tremaining: 254ms\n",
      "723:\tlearn: 0.0881065\ttotal: 665ms\tremaining: 253ms\n",
      "724:\tlearn: 0.0879021\ttotal: 666ms\tremaining: 252ms\n",
      "725:\tlearn: 0.0877696\ttotal: 666ms\tremaining: 251ms\n",
      "726:\tlearn: 0.0876641\ttotal: 667ms\tremaining: 251ms\n",
      "727:\tlearn: 0.0875496\ttotal: 668ms\tremaining: 250ms\n",
      "728:\tlearn: 0.0874287\ttotal: 669ms\tremaining: 249ms\n",
      "729:\tlearn: 0.0873477\ttotal: 670ms\tremaining: 248ms\n",
      "730:\tlearn: 0.0872064\ttotal: 670ms\tremaining: 247ms\n",
      "731:\tlearn: 0.0870760\ttotal: 671ms\tremaining: 246ms\n",
      "732:\tlearn: 0.0869750\ttotal: 672ms\tremaining: 245ms\n",
      "733:\tlearn: 0.0869555\ttotal: 673ms\tremaining: 244ms\n",
      "734:\tlearn: 0.0869080\ttotal: 674ms\tremaining: 243ms\n",
      "735:\tlearn: 0.0867253\ttotal: 674ms\tremaining: 242ms\n",
      "736:\tlearn: 0.0866889\ttotal: 675ms\tremaining: 241ms\n",
      "737:\tlearn: 0.0865666\ttotal: 676ms\tremaining: 240ms\n",
      "738:\tlearn: 0.0864539\ttotal: 677ms\tremaining: 239ms\n",
      "739:\tlearn: 0.0862816\ttotal: 678ms\tremaining: 238ms\n",
      "740:\tlearn: 0.0861602\ttotal: 679ms\tremaining: 237ms\n",
      "741:\tlearn: 0.0860285\ttotal: 679ms\tremaining: 236ms\n"
     ]
    },
    {
     "name": "stdout",
     "output_type": "stream",
     "text": [
      "742:\tlearn: 0.0859619\ttotal: 680ms\tremaining: 235ms\n",
      "743:\tlearn: 0.0858551\ttotal: 681ms\tremaining: 234ms\n",
      "744:\tlearn: 0.0857948\ttotal: 682ms\tremaining: 233ms\n",
      "745:\tlearn: 0.0855873\ttotal: 683ms\tremaining: 233ms\n",
      "746:\tlearn: 0.0854663\ttotal: 684ms\tremaining: 232ms\n",
      "747:\tlearn: 0.0853318\ttotal: 684ms\tremaining: 231ms\n",
      "748:\tlearn: 0.0852638\ttotal: 685ms\tremaining: 230ms\n",
      "749:\tlearn: 0.0851057\ttotal: 686ms\tremaining: 229ms\n",
      "750:\tlearn: 0.0849383\ttotal: 687ms\tremaining: 228ms\n",
      "751:\tlearn: 0.0848889\ttotal: 688ms\tremaining: 227ms\n",
      "752:\tlearn: 0.0847947\ttotal: 689ms\tremaining: 226ms\n",
      "753:\tlearn: 0.0847096\ttotal: 689ms\tremaining: 225ms\n",
      "754:\tlearn: 0.0846101\ttotal: 690ms\tremaining: 224ms\n",
      "755:\tlearn: 0.0844527\ttotal: 691ms\tremaining: 223ms\n",
      "756:\tlearn: 0.0843044\ttotal: 692ms\tremaining: 222ms\n",
      "757:\tlearn: 0.0841771\ttotal: 693ms\tremaining: 221ms\n",
      "758:\tlearn: 0.0840870\ttotal: 694ms\tremaining: 220ms\n",
      "759:\tlearn: 0.0839684\ttotal: 695ms\tremaining: 219ms\n",
      "760:\tlearn: 0.0838033\ttotal: 695ms\tremaining: 218ms\n",
      "761:\tlearn: 0.0837438\ttotal: 696ms\tremaining: 218ms\n",
      "762:\tlearn: 0.0836689\ttotal: 697ms\tremaining: 217ms\n",
      "763:\tlearn: 0.0835091\ttotal: 698ms\tremaining: 216ms\n",
      "764:\tlearn: 0.0834100\ttotal: 699ms\tremaining: 215ms\n",
      "765:\tlearn: 0.0833366\ttotal: 700ms\tremaining: 214ms\n",
      "766:\tlearn: 0.0832318\ttotal: 701ms\tremaining: 213ms\n",
      "767:\tlearn: 0.0831046\ttotal: 701ms\tremaining: 212ms\n",
      "768:\tlearn: 0.0829473\ttotal: 702ms\tremaining: 211ms\n",
      "769:\tlearn: 0.0827831\ttotal: 703ms\tremaining: 210ms\n",
      "770:\tlearn: 0.0827458\ttotal: 704ms\tremaining: 209ms\n",
      "771:\tlearn: 0.0827061\ttotal: 705ms\tremaining: 208ms\n",
      "772:\tlearn: 0.0825797\ttotal: 706ms\tremaining: 207ms\n",
      "773:\tlearn: 0.0824481\ttotal: 706ms\tremaining: 206ms\n",
      "774:\tlearn: 0.0823648\ttotal: 707ms\tremaining: 205ms\n",
      "775:\tlearn: 0.0822959\ttotal: 708ms\tremaining: 204ms\n",
      "776:\tlearn: 0.0821195\ttotal: 709ms\tremaining: 204ms\n",
      "777:\tlearn: 0.0820214\ttotal: 710ms\tremaining: 203ms\n",
      "778:\tlearn: 0.0819728\ttotal: 711ms\tremaining: 202ms\n",
      "779:\tlearn: 0.0818472\ttotal: 712ms\tremaining: 201ms\n",
      "780:\tlearn: 0.0817670\ttotal: 713ms\tremaining: 200ms\n",
      "781:\tlearn: 0.0816584\ttotal: 713ms\tremaining: 199ms\n",
      "782:\tlearn: 0.0815279\ttotal: 714ms\tremaining: 198ms\n",
      "783:\tlearn: 0.0814510\ttotal: 715ms\tremaining: 197ms\n",
      "784:\tlearn: 0.0812760\ttotal: 716ms\tremaining: 196ms\n",
      "785:\tlearn: 0.0811502\ttotal: 717ms\tremaining: 195ms\n",
      "786:\tlearn: 0.0809740\ttotal: 717ms\tremaining: 194ms\n",
      "787:\tlearn: 0.0807991\ttotal: 718ms\tremaining: 193ms\n",
      "788:\tlearn: 0.0807099\ttotal: 719ms\tremaining: 192ms\n",
      "789:\tlearn: 0.0805504\ttotal: 720ms\tremaining: 191ms\n",
      "790:\tlearn: 0.0803576\ttotal: 721ms\tremaining: 190ms\n",
      "791:\tlearn: 0.0803155\ttotal: 721ms\tremaining: 189ms\n",
      "792:\tlearn: 0.0802013\ttotal: 723ms\tremaining: 189ms\n",
      "793:\tlearn: 0.0800992\ttotal: 724ms\tremaining: 188ms\n",
      "794:\tlearn: 0.0800328\ttotal: 725ms\tremaining: 187ms\n",
      "795:\tlearn: 0.0798650\ttotal: 725ms\tremaining: 186ms\n",
      "796:\tlearn: 0.0798290\ttotal: 726ms\tremaining: 185ms\n",
      "797:\tlearn: 0.0796910\ttotal: 727ms\tremaining: 184ms\n",
      "798:\tlearn: 0.0795343\ttotal: 728ms\tremaining: 183ms\n",
      "799:\tlearn: 0.0794667\ttotal: 729ms\tremaining: 182ms\n",
      "800:\tlearn: 0.0793509\ttotal: 730ms\tremaining: 181ms\n",
      "801:\tlearn: 0.0791798\ttotal: 731ms\tremaining: 180ms\n",
      "802:\tlearn: 0.0789945\ttotal: 732ms\tremaining: 180ms\n",
      "803:\tlearn: 0.0789042\ttotal: 733ms\tremaining: 179ms\n",
      "804:\tlearn: 0.0787775\ttotal: 733ms\tremaining: 178ms\n",
      "805:\tlearn: 0.0787267\ttotal: 734ms\tremaining: 177ms\n",
      "806:\tlearn: 0.0785740\ttotal: 735ms\tremaining: 176ms\n",
      "807:\tlearn: 0.0785265\ttotal: 736ms\tremaining: 175ms\n",
      "808:\tlearn: 0.0783995\ttotal: 737ms\tremaining: 174ms\n",
      "809:\tlearn: 0.0783024\ttotal: 738ms\tremaining: 173ms\n",
      "810:\tlearn: 0.0781442\ttotal: 738ms\tremaining: 172ms\n",
      "811:\tlearn: 0.0780396\ttotal: 739ms\tremaining: 171ms\n",
      "812:\tlearn: 0.0779503\ttotal: 740ms\tremaining: 170ms\n",
      "813:\tlearn: 0.0778406\ttotal: 741ms\tremaining: 169ms\n",
      "814:\tlearn: 0.0777770\ttotal: 741ms\tremaining: 168ms\n",
      "815:\tlearn: 0.0776493\ttotal: 742ms\tremaining: 167ms\n",
      "816:\tlearn: 0.0775172\ttotal: 743ms\tremaining: 166ms\n",
      "817:\tlearn: 0.0773866\ttotal: 744ms\tremaining: 166ms\n",
      "818:\tlearn: 0.0772625\ttotal: 745ms\tremaining: 165ms\n",
      "819:\tlearn: 0.0771719\ttotal: 746ms\tremaining: 164ms\n",
      "820:\tlearn: 0.0771047\ttotal: 746ms\tremaining: 163ms\n",
      "821:\tlearn: 0.0769549\ttotal: 747ms\tremaining: 162ms\n",
      "822:\tlearn: 0.0768528\ttotal: 748ms\tremaining: 161ms\n",
      "823:\tlearn: 0.0766569\ttotal: 749ms\tremaining: 160ms\n",
      "824:\tlearn: 0.0766034\ttotal: 750ms\tremaining: 159ms\n",
      "825:\tlearn: 0.0765399\ttotal: 751ms\tremaining: 158ms\n",
      "826:\tlearn: 0.0763993\ttotal: 751ms\tremaining: 157ms\n",
      "827:\tlearn: 0.0762490\ttotal: 752ms\tremaining: 156ms\n",
      "828:\tlearn: 0.0762278\ttotal: 753ms\tremaining: 155ms\n",
      "829:\tlearn: 0.0761382\ttotal: 754ms\tremaining: 154ms\n",
      "830:\tlearn: 0.0759799\ttotal: 755ms\tremaining: 153ms\n",
      "831:\tlearn: 0.0758888\ttotal: 755ms\tremaining: 153ms\n",
      "832:\tlearn: 0.0758494\ttotal: 756ms\tremaining: 152ms\n",
      "833:\tlearn: 0.0757737\ttotal: 757ms\tremaining: 151ms\n",
      "834:\tlearn: 0.0756591\ttotal: 758ms\tremaining: 150ms\n",
      "835:\tlearn: 0.0756215\ttotal: 759ms\tremaining: 149ms\n",
      "836:\tlearn: 0.0754776\ttotal: 760ms\tremaining: 148ms\n",
      "837:\tlearn: 0.0753484\ttotal: 760ms\tremaining: 147ms\n",
      "838:\tlearn: 0.0753207\ttotal: 761ms\tremaining: 146ms\n",
      "839:\tlearn: 0.0752226\ttotal: 762ms\tremaining: 145ms\n",
      "840:\tlearn: 0.0751054\ttotal: 763ms\tremaining: 144ms\n"
     ]
    },
    {
     "name": "stdout",
     "output_type": "stream",
     "text": [
      "841:\tlearn: 0.0750805\ttotal: 764ms\tremaining: 143ms\n",
      "842:\tlearn: 0.0749435\ttotal: 765ms\tremaining: 142ms\n",
      "843:\tlearn: 0.0749174\ttotal: 766ms\tremaining: 142ms\n",
      "844:\tlearn: 0.0747708\ttotal: 766ms\tremaining: 141ms\n",
      "845:\tlearn: 0.0746917\ttotal: 767ms\tremaining: 140ms\n",
      "846:\tlearn: 0.0745970\ttotal: 768ms\tremaining: 139ms\n",
      "847:\tlearn: 0.0744420\ttotal: 769ms\tremaining: 138ms\n",
      "848:\tlearn: 0.0743029\ttotal: 770ms\tremaining: 137ms\n",
      "849:\tlearn: 0.0741995\ttotal: 770ms\tremaining: 136ms\n",
      "850:\tlearn: 0.0740903\ttotal: 771ms\tremaining: 135ms\n",
      "851:\tlearn: 0.0739275\ttotal: 772ms\tremaining: 134ms\n",
      "852:\tlearn: 0.0739004\ttotal: 773ms\tremaining: 133ms\n",
      "853:\tlearn: 0.0738357\ttotal: 774ms\tremaining: 132ms\n",
      "854:\tlearn: 0.0737251\ttotal: 775ms\tremaining: 131ms\n",
      "855:\tlearn: 0.0736471\ttotal: 776ms\tremaining: 130ms\n",
      "856:\tlearn: 0.0735065\ttotal: 776ms\tremaining: 130ms\n",
      "857:\tlearn: 0.0733632\ttotal: 777ms\tremaining: 129ms\n",
      "858:\tlearn: 0.0731755\ttotal: 778ms\tremaining: 128ms\n",
      "859:\tlearn: 0.0730558\ttotal: 779ms\tremaining: 127ms\n",
      "860:\tlearn: 0.0729373\ttotal: 780ms\tremaining: 126ms\n",
      "861:\tlearn: 0.0728417\ttotal: 781ms\tremaining: 125ms\n",
      "862:\tlearn: 0.0727768\ttotal: 781ms\tremaining: 124ms\n",
      "863:\tlearn: 0.0727253\ttotal: 782ms\tremaining: 123ms\n",
      "864:\tlearn: 0.0726211\ttotal: 783ms\tremaining: 122ms\n",
      "865:\tlearn: 0.0725961\ttotal: 784ms\tremaining: 121ms\n",
      "866:\tlearn: 0.0724577\ttotal: 785ms\tremaining: 120ms\n",
      "867:\tlearn: 0.0723459\ttotal: 785ms\tremaining: 119ms\n",
      "868:\tlearn: 0.0723031\ttotal: 786ms\tremaining: 119ms\n",
      "869:\tlearn: 0.0721909\ttotal: 787ms\tremaining: 118ms\n",
      "870:\tlearn: 0.0720834\ttotal: 788ms\tremaining: 117ms\n",
      "871:\tlearn: 0.0719433\ttotal: 789ms\tremaining: 116ms\n",
      "872:\tlearn: 0.0718575\ttotal: 790ms\tremaining: 115ms\n",
      "873:\tlearn: 0.0717981\ttotal: 790ms\tremaining: 114ms\n",
      "874:\tlearn: 0.0717193\ttotal: 791ms\tremaining: 113ms\n",
      "875:\tlearn: 0.0715915\ttotal: 792ms\tremaining: 112ms\n",
      "876:\tlearn: 0.0714675\ttotal: 793ms\tremaining: 111ms\n",
      "877:\tlearn: 0.0713251\ttotal: 794ms\tremaining: 110ms\n",
      "878:\tlearn: 0.0712667\ttotal: 795ms\tremaining: 109ms\n",
      "879:\tlearn: 0.0711983\ttotal: 796ms\tremaining: 108ms\n",
      "880:\tlearn: 0.0709939\ttotal: 796ms\tremaining: 108ms\n",
      "881:\tlearn: 0.0709005\ttotal: 797ms\tremaining: 107ms\n",
      "882:\tlearn: 0.0707859\ttotal: 798ms\tremaining: 106ms\n",
      "883:\tlearn: 0.0707371\ttotal: 799ms\tremaining: 105ms\n",
      "884:\tlearn: 0.0706484\ttotal: 800ms\tremaining: 104ms\n",
      "885:\tlearn: 0.0706207\ttotal: 801ms\tremaining: 103ms\n",
      "886:\tlearn: 0.0705381\ttotal: 801ms\tremaining: 102ms\n",
      "887:\tlearn: 0.0704082\ttotal: 802ms\tremaining: 101ms\n",
      "888:\tlearn: 0.0703010\ttotal: 803ms\tremaining: 100ms\n",
      "889:\tlearn: 0.0702343\ttotal: 804ms\tremaining: 99.3ms\n",
      "890:\tlearn: 0.0702141\ttotal: 804ms\tremaining: 98.4ms\n",
      "891:\tlearn: 0.0700926\ttotal: 805ms\tremaining: 97.5ms\n",
      "892:\tlearn: 0.0699908\ttotal: 806ms\tremaining: 96.6ms\n",
      "893:\tlearn: 0.0698075\ttotal: 807ms\tremaining: 95.7ms\n",
      "894:\tlearn: 0.0697093\ttotal: 808ms\tremaining: 94.8ms\n",
      "895:\tlearn: 0.0695909\ttotal: 808ms\tremaining: 93.8ms\n",
      "896:\tlearn: 0.0694649\ttotal: 809ms\tremaining: 92.9ms\n",
      "897:\tlearn: 0.0694082\ttotal: 810ms\tremaining: 92ms\n",
      "898:\tlearn: 0.0692893\ttotal: 811ms\tremaining: 91.1ms\n",
      "899:\tlearn: 0.0692200\ttotal: 812ms\tremaining: 90.2ms\n",
      "900:\tlearn: 0.0691694\ttotal: 813ms\tremaining: 89.3ms\n",
      "901:\tlearn: 0.0690352\ttotal: 813ms\tremaining: 88.4ms\n",
      "902:\tlearn: 0.0690126\ttotal: 814ms\tremaining: 87.5ms\n",
      "903:\tlearn: 0.0689579\ttotal: 815ms\tremaining: 86.5ms\n",
      "904:\tlearn: 0.0688890\ttotal: 816ms\tremaining: 85.7ms\n",
      "905:\tlearn: 0.0688488\ttotal: 817ms\tremaining: 84.8ms\n",
      "906:\tlearn: 0.0687209\ttotal: 818ms\tremaining: 83.9ms\n",
      "907:\tlearn: 0.0686128\ttotal: 819ms\tremaining: 82.9ms\n",
      "908:\tlearn: 0.0684417\ttotal: 819ms\tremaining: 82ms\n",
      "909:\tlearn: 0.0683502\ttotal: 820ms\tremaining: 81.1ms\n",
      "910:\tlearn: 0.0682106\ttotal: 821ms\tremaining: 80.2ms\n",
      "911:\tlearn: 0.0680783\ttotal: 822ms\tremaining: 79.3ms\n",
      "912:\tlearn: 0.0679858\ttotal: 823ms\tremaining: 78.4ms\n",
      "913:\tlearn: 0.0679032\ttotal: 824ms\tremaining: 77.5ms\n",
      "914:\tlearn: 0.0678269\ttotal: 825ms\tremaining: 76.6ms\n",
      "915:\tlearn: 0.0677302\ttotal: 825ms\tremaining: 75.7ms\n",
      "916:\tlearn: 0.0676591\ttotal: 826ms\tremaining: 74.8ms\n",
      "917:\tlearn: 0.0675819\ttotal: 827ms\tremaining: 73.9ms\n",
      "918:\tlearn: 0.0675598\ttotal: 828ms\tremaining: 73ms\n",
      "919:\tlearn: 0.0674539\ttotal: 829ms\tremaining: 72ms\n",
      "920:\tlearn: 0.0673943\ttotal: 829ms\tremaining: 71.1ms\n",
      "921:\tlearn: 0.0673770\ttotal: 830ms\tremaining: 70.2ms\n",
      "922:\tlearn: 0.0673272\ttotal: 831ms\tremaining: 69.3ms\n",
      "923:\tlearn: 0.0671845\ttotal: 832ms\tremaining: 68.4ms\n",
      "924:\tlearn: 0.0670273\ttotal: 833ms\tremaining: 67.5ms\n",
      "925:\tlearn: 0.0669625\ttotal: 834ms\tremaining: 66.6ms\n",
      "926:\tlearn: 0.0668638\ttotal: 835ms\tremaining: 65.7ms\n",
      "927:\tlearn: 0.0667517\ttotal: 835ms\tremaining: 64.8ms\n",
      "928:\tlearn: 0.0666740\ttotal: 836ms\tremaining: 63.9ms\n",
      "929:\tlearn: 0.0666239\ttotal: 837ms\tremaining: 63ms\n",
      "930:\tlearn: 0.0665368\ttotal: 838ms\tremaining: 62.1ms\n",
      "931:\tlearn: 0.0664560\ttotal: 839ms\tremaining: 61.2ms\n",
      "932:\tlearn: 0.0664097\ttotal: 840ms\tremaining: 60.3ms\n",
      "933:\tlearn: 0.0663001\ttotal: 840ms\tremaining: 59.4ms\n",
      "934:\tlearn: 0.0662810\ttotal: 841ms\tremaining: 58.5ms\n",
      "935:\tlearn: 0.0661807\ttotal: 842ms\tremaining: 57.6ms\n",
      "936:\tlearn: 0.0661507\ttotal: 843ms\tremaining: 56.7ms\n",
      "937:\tlearn: 0.0660599\ttotal: 843ms\tremaining: 55.7ms\n",
      "938:\tlearn: 0.0660284\ttotal: 844ms\tremaining: 54.8ms\n",
      "939:\tlearn: 0.0659024\ttotal: 845ms\tremaining: 53.9ms\n",
      "940:\tlearn: 0.0658033\ttotal: 846ms\tremaining: 53ms\n",
      "941:\tlearn: 0.0657767\ttotal: 847ms\tremaining: 52.1ms\n",
      "942:\tlearn: 0.0657131\ttotal: 847ms\tremaining: 51.2ms\n",
      "943:\tlearn: 0.0655403\ttotal: 848ms\tremaining: 50.3ms\n",
      "944:\tlearn: 0.0654017\ttotal: 849ms\tremaining: 49.4ms\n",
      "945:\tlearn: 0.0652831\ttotal: 850ms\tremaining: 48.5ms\n",
      "946:\tlearn: 0.0652495\ttotal: 851ms\tremaining: 47.6ms\n",
      "947:\tlearn: 0.0652324\ttotal: 851ms\tremaining: 46.7ms\n",
      "948:\tlearn: 0.0651597\ttotal: 852ms\tremaining: 45.8ms\n",
      "949:\tlearn: 0.0650365\ttotal: 853ms\tremaining: 44.9ms\n",
      "950:\tlearn: 0.0649392\ttotal: 854ms\tremaining: 44ms\n",
      "951:\tlearn: 0.0648168\ttotal: 855ms\tremaining: 43.1ms\n",
      "952:\tlearn: 0.0646999\ttotal: 856ms\tremaining: 42.2ms\n",
      "953:\tlearn: 0.0646316\ttotal: 856ms\tremaining: 41.3ms\n",
      "954:\tlearn: 0.0645376\ttotal: 857ms\tremaining: 40.4ms\n",
      "955:\tlearn: 0.0644696\ttotal: 858ms\tremaining: 39.5ms\n",
      "956:\tlearn: 0.0644098\ttotal: 859ms\tremaining: 38.6ms\n",
      "957:\tlearn: 0.0643926\ttotal: 859ms\tremaining: 37.7ms\n",
      "958:\tlearn: 0.0642952\ttotal: 860ms\tremaining: 36.8ms\n",
      "959:\tlearn: 0.0642088\ttotal: 861ms\tremaining: 35.9ms\n",
      "960:\tlearn: 0.0641333\ttotal: 862ms\tremaining: 35ms\n",
      "961:\tlearn: 0.0640293\ttotal: 863ms\tremaining: 34.1ms\n",
      "962:\tlearn: 0.0639574\ttotal: 864ms\tremaining: 33.2ms\n",
      "963:\tlearn: 0.0638727\ttotal: 865ms\tremaining: 32.3ms\n",
      "964:\tlearn: 0.0637599\ttotal: 865ms\tremaining: 31.4ms\n",
      "965:\tlearn: 0.0636795\ttotal: 866ms\tremaining: 30.5ms\n",
      "966:\tlearn: 0.0635720\ttotal: 867ms\tremaining: 29.6ms\n",
      "967:\tlearn: 0.0634421\ttotal: 868ms\tremaining: 28.7ms\n",
      "968:\tlearn: 0.0633744\ttotal: 868ms\tremaining: 27.8ms\n",
      "969:\tlearn: 0.0632496\ttotal: 869ms\tremaining: 26.9ms\n",
      "970:\tlearn: 0.0631812\ttotal: 870ms\tremaining: 26ms\n"
     ]
    },
    {
     "name": "stdout",
     "output_type": "stream",
     "text": [
      "971:\tlearn: 0.0631649\ttotal: 871ms\tremaining: 25.1ms\n",
      "972:\tlearn: 0.0631215\ttotal: 872ms\tremaining: 24.2ms\n",
      "973:\tlearn: 0.0630460\ttotal: 873ms\tremaining: 23.3ms\n",
      "974:\tlearn: 0.0630235\ttotal: 874ms\tremaining: 22.4ms\n",
      "975:\tlearn: 0.0629361\ttotal: 874ms\tremaining: 21.5ms\n",
      "976:\tlearn: 0.0628410\ttotal: 875ms\tremaining: 20.6ms\n",
      "977:\tlearn: 0.0627167\ttotal: 876ms\tremaining: 19.7ms\n",
      "978:\tlearn: 0.0626938\ttotal: 877ms\tremaining: 18.8ms\n",
      "979:\tlearn: 0.0625402\ttotal: 878ms\tremaining: 17.9ms\n",
      "980:\tlearn: 0.0624303\ttotal: 878ms\tremaining: 17ms\n",
      "981:\tlearn: 0.0624152\ttotal: 879ms\tremaining: 16.1ms\n",
      "982:\tlearn: 0.0623053\ttotal: 880ms\tremaining: 15.2ms\n",
      "983:\tlearn: 0.0621705\ttotal: 881ms\tremaining: 14.3ms\n",
      "984:\tlearn: 0.0620895\ttotal: 882ms\tremaining: 13.4ms\n",
      "985:\tlearn: 0.0620047\ttotal: 882ms\tremaining: 12.5ms\n",
      "986:\tlearn: 0.0619188\ttotal: 883ms\tremaining: 11.6ms\n",
      "987:\tlearn: 0.0618877\ttotal: 884ms\tremaining: 10.7ms\n",
      "988:\tlearn: 0.0618129\ttotal: 885ms\tremaining: 9.84ms\n",
      "989:\tlearn: 0.0617274\ttotal: 885ms\tremaining: 8.94ms\n",
      "990:\tlearn: 0.0616222\ttotal: 886ms\tremaining: 8.05ms\n",
      "991:\tlearn: 0.0615958\ttotal: 887ms\tremaining: 7.15ms\n",
      "992:\tlearn: 0.0615124\ttotal: 888ms\tremaining: 6.26ms\n",
      "993:\tlearn: 0.0614525\ttotal: 889ms\tremaining: 5.36ms\n",
      "994:\tlearn: 0.0613880\ttotal: 890ms\tremaining: 4.47ms\n",
      "995:\tlearn: 0.0612866\ttotal: 890ms\tremaining: 3.58ms\n",
      "996:\tlearn: 0.0611895\ttotal: 891ms\tremaining: 2.68ms\n",
      "997:\tlearn: 0.0610940\ttotal: 892ms\tremaining: 1.79ms\n",
      "998:\tlearn: 0.0610252\ttotal: 893ms\tremaining: 893us\n",
      "999:\tlearn: 0.0610007\ttotal: 894ms\tremaining: 0us\n"
     ]
    },
    {
     "data": {
      "text/plain": [
       "<catboost.core.CatBoostRegressor at 0x7f84798ca280>"
      ]
     },
     "execution_count": 9,
     "metadata": {},
     "output_type": "execute_result"
    }
   ],
   "source": [
    "#Train the Model \n",
    "prior_model = ctb.CatBoostRegressor()\n",
    "prior_model.fit(X_train,Y_train)"
   ]
  },
  {
   "cell_type": "code",
   "execution_count": 10,
   "id": "af65dcda",
   "metadata": {
    "execution": {
     "iopub.execute_input": "2022-06-12T06:13:09.149204Z",
     "iopub.status.busy": "2022-06-12T06:13:09.148817Z",
     "iopub.status.idle": "2022-06-12T06:13:09.156316Z",
     "shell.execute_reply": "2022-06-12T06:13:09.156604Z"
    },
    "id": "af65dcda",
    "papermill": {
     "duration": 0.020737,
     "end_time": "2022-06-12T06:13:09.156719",
     "exception": false,
     "start_time": "2022-06-12T06:13:09.135982",
     "status": "completed"
    },
    "tags": []
   },
   "outputs": [
    {
     "data": {
      "application/scrapbook.scrap.json+json": {
       "data": 0.07051523404314314,
       "encoder": "json",
       "name": "Prior Model MSE",
       "version": 1
      }
     },
     "metadata": {
      "scrapbook": {
       "data": true,
       "display": false,
       "name": "Prior Model MSE"
      }
     },
     "output_type": "display_data"
    },
    {
     "data": {
      "application/scrapbook.scrap.json+json": {
       "data": 1.1066644235154204,
       "encoder": "json",
       "name": "ABC Pre-generator MSE",
       "version": 1
      }
     },
     "metadata": {
      "scrapbook": {
       "data": true,
       "display": false,
       "name": "ABC Pre-generator MSE"
      }
     },
     "output_type": "display_data"
    },
    {
     "data": {
      "application/scrapbook.scrap.json+json": {
       "data": 0.19087684899275664,
       "encoder": "json",
       "name": "Prior Model MSE",
       "version": 1
      }
     },
     "metadata": {
      "scrapbook": {
       "data": true,
       "display": false,
       "name": "Prior Model MSE"
      }
     },
     "output_type": "display_data"
    },
    {
     "data": {
      "application/scrapbook.scrap.json+json": {
       "data": 1.0180724658718168,
       "encoder": "json",
       "name": "ABC Pre-generator MSE",
       "version": 1
      }
     },
     "metadata": {
      "scrapbook": {
       "data": true,
       "display": false,
       "name": "ABC Pre-generator MSE"
      }
     },
     "output_type": "display_data"
    }
   ],
   "source": [
    "y_pred = prior_model.predict(X_test)\n",
    "y_abc = y_pred + np.random.normal(0,variance, y_pred.shape) + bias \n",
    "mse = mean_squared_error(y_pred,Y_test)\n",
    "sb.glue(\"Prior Model MSE\",mse)\n",
    "mse = mean_squared_error(y_abc,Y_test)\n",
    "sb.glue(\"ABC Pre-generator MSE\",mse)\n",
    "mae = mean_absolute_error(y_pred,Y_test)\n",
    "sb.glue(\"Prior Model MSE\",mae)\n",
    "mae = mean_absolute_error(y_abc,Y_test)\n",
    "sb.glue(\"ABC Pre-generator MSE\",mae)"
   ]
  },
  {
   "cell_type": "markdown",
   "id": "25609da2",
   "metadata": {
    "papermill": {
     "duration": 0.009854,
     "end_time": "2022-06-12T06:13:09.176633",
     "exception": false,
     "start_time": "2022-06-12T06:13:09.166779",
     "status": "completed"
    },
    "tags": []
   },
   "source": [
    "# ABC GAN Model"
   ]
  },
  {
   "cell_type": "code",
   "execution_count": 11,
   "id": "dfc3464d",
   "metadata": {
    "execution": {
     "iopub.execute_input": "2022-06-12T06:13:09.199263Z",
     "iopub.status.busy": "2022-06-12T06:13:09.198909Z",
     "iopub.status.idle": "2022-06-12T06:13:09.201314Z",
     "shell.execute_reply": "2022-06-12T06:13:09.201555Z"
    },
    "papermill": {
     "duration": 0.015257,
     "end_time": "2022-06-12T06:13:09.201662",
     "exception": false,
     "start_time": "2022-06-12T06:13:09.186405",
     "status": "completed"
    },
    "tags": []
   },
   "outputs": [],
   "source": [
    "gen = network.Generator(n_features+1).to(device)\n",
    "disc = network.Discriminator(n_features+1).to(device)\n",
    "\n",
    "criterion = torch.nn.BCELoss()\n",
    "gen_opt = torch.optim.Adam(gen.parameters(), lr=0.001, betas=(0.5, 0.999))\n",
    "disc_opt = torch.optim.Adam(disc.parameters(), lr=0.001, betas=(0.5, 0.999))"
   ]
  },
  {
   "cell_type": "code",
   "execution_count": 12,
   "id": "b75fdd85",
   "metadata": {
    "execution": {
     "iopub.execute_input": "2022-06-12T06:13:09.224188Z",
     "iopub.status.busy": "2022-06-12T06:13:09.223799Z",
     "iopub.status.idle": "2022-06-12T06:14:09.230875Z",
     "shell.execute_reply": "2022-06-12T06:14:09.231127Z"
    },
    "papermill": {
     "duration": 60.019678,
     "end_time": "2022-06-12T06:14:09.231250",
     "exception": false,
     "start_time": "2022-06-12T06:13:09.211572",
     "status": "completed"
    },
    "tags": []
   },
   "outputs": [
    {
     "data": {
      "image/png": "[encoded data removed]",
      "text/plain": [
       "<Figure size 432x288 with 1 Axes>"
      ]
     },
     "metadata": {
      "needs_background": "light"
     },
     "output_type": "display_data"
    },
    {
     "data": {
      "image/png": "[encoded data removed]",
      "text/plain": [
       "<Figure size 432x288 with 1 Axes>"
      ]
     },
     "metadata": {
      "needs_background": "light"
     },
     "output_type": "display_data"
    }
   ],
   "source": [
    "#Training the ABC_GAN \n",
    "ABC_train_test2.training_GAN(disc,gen,disc_opt,gen_opt,train_data,batch_size,n_epochs,criterion,prior_model,variance,bias,device)"
   ]
  },
  {
   "cell_type": "code",
   "execution_count": 13,
   "id": "1fa7c368",
   "metadata": {
    "execution": {
     "iopub.execute_input": "2022-06-12T06:14:09.255887Z",
     "iopub.status.busy": "2022-06-12T06:14:09.255497Z",
     "iopub.status.idle": "2022-06-12T06:14:09.560829Z",
     "shell.execute_reply": "2022-06-12T06:14:09.561163Z"
    },
    "papermill": {
     "duration": 0.319097,
     "end_time": "2022-06-12T06:14:09.561282",
     "exception": false,
     "start_time": "2022-06-12T06:14:09.242185",
     "status": "completed"
    },
    "tags": []
   },
   "outputs": [
    {
     "data": {
      "application/scrapbook.scrap.json+json": {
       "data": 0.08662483457844722,
       "encoder": "json",
       "name": "ABC-GAN Model 1 MSE",
       "version": 1
      }
     },
     "metadata": {
      "scrapbook": {
       "data": true,
       "display": false,
       "name": "ABC-GAN Model 1 MSE"
      }
     },
     "output_type": "display_data"
    },
    {
     "data": {
      "application/scrapbook.scrap.json+json": {
       "data": 0.21150698344606686,
       "encoder": "json",
       "name": "ABC-GAN Model 1 MAE",
       "version": 1
      }
     },
     "metadata": {
      "scrapbook": {
       "data": true,
       "display": false,
       "name": "ABC-GAN Model 1 MAE"
      }
     },
     "output_type": "display_data"
    },
    {
     "data": {
      "application/scrapbook.scrap.json+json": {
       "data": 21.57371231149882,
       "encoder": "json",
       "name": "ABC-GAN Model 1 Manhattan Distance",
       "version": 1
      }
     },
     "metadata": {
      "scrapbook": {
       "data": true,
       "display": false,
       "name": "ABC-GAN Model 1 Manhattan Distance"
      }
     },
     "output_type": "display_data"
    },
    {
     "data": {
      "application/scrapbook.scrap.json+json": {
       "data": 2.972469165224208,
       "encoder": "json",
       "name": "ABC-GAN Model 1 Euclidean distance",
       "version": 1
      }
     },
     "metadata": {
      "scrapbook": {
       "data": true,
       "display": false,
       "name": "ABC-GAN Model 1 Euclidean distance"
      }
     },
     "output_type": "display_data"
    },
    {
     "data": {
      "application/scrapbook.scrap.json+json": {
       "data": [
        [
         0.08583672692772648,
         0.08737703079185681,
         0.08741503388440963,
         0.08718866358496372,
         0.08470357882760675,
         0.08717497006920745,
         0.08659047106278767,
         0.08633011988732192,
         0.08667382371593527,
         0.08643716655062322,
         0.08629406255326973,
         0.08707589708039178,
         0.08692721024053833,
         0.08760910206594556,
         0.08677171220788853,
         0.08615229874764922,
         0.08726994130219454,
         0.08688052348751205,
         0.08647140926383054,
         0.08587068823238118,
         0.08608802774887801,
         0.08672403980219268,
         0.08595869576132273,
         0.08620909205893751,
         0.08572192647338843,
         0.08629006737228617,
         0.08593705672939571,
         0.08633749531774837,
         0.08705432526173912,
         0.08559649083288386,
         0.0878830077984205,
         0.08617056390126834,
         0.08691007760333046,
         0.08677443954078849,
         0.08786424340496815,
         0.08718839480995011,
         0.08782515257432433,
         0.08575760777573911,
         0.08646240497968584,
         0.0857062664035399,
         0.08681493727341096,
         0.08651285877464979,
         0.08600105696770066,
         0.08637800119018801,
         0.08657232855459111,
         0.08809642821520294,
         0.0873261008135033,
         0.08749708357265486,
         0.08697837150441994,
         0.08784077302579998,
         0.08530703536321692,
         0.08643935466380326,
         0.08651480443387016,
         0.0869285269798575,
         0.08657552910076056,
         0.08663259789418483,
         0.08882915160987412,
         0.08690461966682828,
         0.08676315085496743,
         0.08733629486002432,
         0.08644652233797308,
         0.08544651507066202,
         0.08687788084311972,
         0.08686611477375229,
         0.08677008295599788,
         0.08590551815759419,
         0.08739927216344415,
         0.08573615000740759,
         0.08701831271740143,
         0.08608750847998292,
         0.08679504855462765,
         0.08700975978951786,
         0.08658397829092675,
         0.08736018724410786,
         0.08681292129672002,
         0.08592940805829062,
         0.08554599552097371,
         0.08660283844287166,
         0.08600969187579284,
         0.08650361072226498,
         0.08698480497553152,
         0.08673217043052014,
         0.08510271469643325,
         0.08702472345059281,
         0.08800285654527575,
         0.08609810694072753,
         0.08715942151299594,
         0.08481460656187455,
         0.0857692009688416,
         0.08539530788841804,
         0.08794065507210126,
         0.08704263778026491,
         0.08615646646025735,
         0.08659281515761506,
         0.08662027875024496,
         0.0866157300786317,
         0.08626352128343573,
         0.08798826270288565,
         0.08690460390455368,
         0.08580844342575378
        ],
        [
         0.21082468042332753,
         0.21350479115019827,
         0.21216392856748664,
         0.2129968390160916,
         0.21009103639745244,
         0.2129228397400356,
         0.21088063505058194,
         0.2121488469853705,
         0.21163560073895782,
         0.21205456865330538,
         0.21085872563223043,
         0.21182402431526604,
         0.21240144825595267,
         0.21440950813977158,
         0.21009885538004192,
         0.2100346402867752,
         0.21215843573650894,
         0.21032669559559403,
         0.21153246998494746,
         0.209718500026593,
         0.21137618014187204,
         0.20992944583150686,
         0.21050592500935583,
         0.21135215680388844,
         0.20928204881356044,
         0.21336024155949845,
         0.21183782498187878,
         0.21156326261367284,
         0.2130972304034467,
         0.21180466153458052,
         0.2123288309895525,
         0.21100877130440637,
         0.21283907446937234,
         0.21106925814905586,
         0.21214644231048285,
         0.21213207613019383,
         0.2139932943106282,
         0.2102191068743374,
         0.2108778949534776,
         0.21022714196028663,
         0.21285931667422547,
         0.21212276250270068,
         0.21119827590882778,
         0.21159616295321315,
         0.2111364696905309,
         0.212945772955815,
         0.2122444646688653,
         0.21299947728859445,
         0.21159500252528518,
         0.21219621649851986,
         0.20948260314032144,
         0.21184188511003466,
         0.21068213372399994,
         0.21199027682636298,
         0.21148250898455873,
         0.21120566341514682,
         0.21467182496745213,
         0.21299529020838878,
         0.21168711785154015,
         0.2121809505510564,
         0.21060397947097526,
         0.20947742374504313,
         0.21128210107631543,
         0.21233224613117238,
         0.21096803061664104,
         0.2104915536794008,
         0.2114174257160402,
         0.2094006137009345,
         0.21138778054977164,
         0.21018964815519603,
         0.210205659306809,
         0.211594207942778,
         0.2108110599219799,
         0.21305244047121674,
         0.21248126077447452,
         0.2117999975076493,
         0.20866404331344016,
         0.21238785551167003,
         0.21016779925455065,
         0.21127733259516604,
         0.21200084321054757,
         0.2129815876776097,
         0.20863144848422677,
         0.21268859027209236,
         0.21332147122159892,
         0.2109315918721989,
         0.21130616484465553,
         0.20973716007874293,
         0.20996332117447666,
         0.21072479311888123,
         0.21180517679336025,
         0.21076003315986372,
         0.2114130168714944,
         0.21196678868841892,
         0.21114134828687883,
         0.21195326252456972,
         0.21094139040831258,
         0.21260787181410135,
         0.2131184873116367,
         0.2100594216848121
        ],
        [
         21.504117403179407,
         21.777488697320223,
         21.64072071388364,
         21.725677579641342,
         21.42928571254015,
         21.71812965348363,
         21.50982477515936,
         21.63918239250779,
         21.586831275373697,
         21.629566002637148,
         21.507590014487505,
         21.606050480157137,
         21.664947722107172,
         21.8697698302567,
         21.430083248764277,
         21.42353330925107,
         21.64016044512391,
         21.45332295075059,
         21.57631193846464,
         21.391287002712488,
         21.56037037447095,
         21.4128034748137,
         21.471604350954294,
         21.55791999399662,
         21.346768978983164,
         21.762744639068842,
         21.607458148151636,
         21.57945278659463,
         21.73591750115156,
         21.604075476527214,
         21.657540760934353,
         21.52289467304945,
         21.70958559587598,
         21.5290643312037,
         21.63893711566925,
         21.63747176527977,
         21.827316019684076,
         21.442348901182413,
         21.509545285254717,
         21.443168479949236,
         21.711650300770998,
         21.63652177527547,
         21.542224142700434,
         21.58280862122774,
         21.535919908434153,
         21.72046884149313,
         21.64893539622426,
         21.725946683436632,
         21.582690257579088,
         21.644014082849026,
         21.367225520312786,
         21.607872281223536,
         21.489577639847994,
         21.623008236289024,
         21.57121591642499,
         21.542977668344975,
         21.896526146680117,
         21.725519601255655,
         21.592086020857096,
         21.642456956207752,
         21.481605906039476,
         21.3666972219944,
         21.550774309784174,
         21.65788910537958,
         21.518739122897387,
         21.47013847529888,
         21.5645774230361,
         21.358862597495317,
         21.561553616076708,
         21.439344111829996,
         21.44097724929452,
         21.582609210163355,
         21.50272811204195,
         21.731348928064108,
         21.6730885989964,
         21.60359974578023,
         21.283732417970896,
         21.663561262190342,
         21.437115523964167,
         21.550287924706936,
         21.624086007475853,
         21.724121943116188,
         21.28040774539113,
         21.69423620775342,
         21.75879006460309,
         21.51502237096429,
         21.553228814154863,
         21.39319032803178,
         21.41625875979662,
         21.493928898125887,
         21.604128032922745,
         21.4975233823061,
         21.56412772089243,
         21.62061244621873,
         21.53641752526164,
         21.619232777506113,
         21.516021821647882,
         21.686002925038338,
         21.738085705786943,
         21.426061011850834
        ],
        [
         2.958943417273825,
         2.985373869512727,
         2.9860230166912274,
         2.9821542021944967,
         2.9393477236311947,
         2.9819200101711574,
         2.971906466967684,
         2.96743529474643,
         2.9733365129136313,
         2.9692744885179554,
         2.966815528547994,
         2.980225075761889,
         2.977679540268715,
         2.9893357808594274,
         2.9750150663827952,
         2.9643775859799337,
         2.9835438680910733,
         2.9768798087471096,
         2.9698625801391407,
         2.9595287124308958,
         2.9632716430299726,
         2.9741977170026295,
         2.9610449114552306,
         2.9653545133780588,
         2.9569640681424616,
         2.9667468499980223,
         2.960672184892877,
         2.967562050304986,
         2.9798558986463406,
         2.954799835006451,
         2.994005142854449,
         2.964691808254168,
         2.977386087752091,
         2.975061820056925,
         2.993685492383385,
         2.982149605672879,
         2.9930194724694124,
         2.95757941450866,
         2.969707949938504,
         2.956693960010245,
         2.9757559714949604,
         2.9705742870721608,
         2.961774436162461,
         2.968258095482799,
         2.971595112488963,
         2.9976383500934025,
         2.984503691231984,
         2.9874240616977685,
         2.978555672377273,
         2.9932856276392332,
         2.9497995876072873,
         2.969312071121513,
         2.970607690735139,
         2.9777020925447633,
         2.9716500413537212,
         2.9726293050440797,
         3.0100786475119143,
         2.977292596641533,
         2.9748682974556497,
         2.9846778847511297,
         2.969435178358546,
         2.952210110613322,
         2.9768345345346643,
         2.976632947967003,
         2.974987136360724,
         2.960128857342972,
         2.985753801081278,
         2.957209377226369,
         2.979239483018265,
         2.96326270603169,
         2.9754150891215194,
         2.979093066443346,
         2.9717950443586325,
         2.9850861124763215,
         2.9757214204736036,
         2.9605404273452574,
         2.953928154701687,
         2.972118692309058,
         2.9619231204288314,
         2.9704155085898383,
         2.9786658267593924,
         2.974337133532958,
         2.9462649064597346,
         2.979349222894232,
         2.996045955525069,
         2.9634451079704864,
         2.981654070197544,
         2.941273511476143,
         2.957779318817048,
         2.951325364072663,
         2.9949869477769564,
         2.979655861603319,
         2.9644492876327377,
         2.9719466930072507,
         2.9724179437833067,
         2.972339897794401,
         2.966290473117972,
         2.995797522479504,
         2.977292326639168,
         2.9584558860031835
        ]
       ],
       "encoder": "json",
       "name": "ABC_GAN_1 Metrics",
       "version": 1
      }
     },
     "metadata": {
      "scrapbook": {
       "data": true,
       "display": false,
       "name": "ABC_GAN_1 Metrics"
      }
     },
     "output_type": "display_data"
    },
    {
     "name": "stdout",
     "output_type": "stream",
     "text": [
      "MSE\n",
      "0.08662483457844722\n"
     ]
    }
   ],
   "source": [
    "ABC_GAN1_metrics=ABC_train_test2.test_generator(gen,test_data,prior_model,variance,bias,\"1\",device)\n",
    "sb.glue(\"ABC_GAN_1 Metrics\",ABC_GAN1_metrics)\n",
    "\n",
    "print(\"MSE\")\n",
    "print(mean(ABC_GAN1_metrics[0]))"
   ]
  },
  {
   "cell_type": "code",
   "execution_count": 14,
   "id": "eb22ce5c",
   "metadata": {
    "execution": {
     "iopub.execute_input": "2022-06-12T06:14:09.589254Z",
     "iopub.status.busy": "2022-06-12T06:14:09.588876Z",
     "iopub.status.idle": "2022-06-12T06:14:09.916971Z",
     "shell.execute_reply": "2022-06-12T06:14:09.917272Z"
    },
    "papermill": {
     "duration": 0.343249,
     "end_time": "2022-06-12T06:14:09.917394",
     "exception": false,
     "start_time": "2022-06-12T06:14:09.574145",
     "status": "completed"
    },
    "tags": []
   },
   "outputs": [
    {
     "data": {
      "image/png": "[encoded data removed]",
      "text/plain": [
       "<Figure size 432x288 with 1 Axes>"
      ]
     },
     "metadata": {
      "needs_background": "light"
     },
     "output_type": "display_data"
    },
    {
     "data": {
      "image/png": "[encoded data removed]",
      "text/plain": [
       "<Figure size 432x288 with 1 Axes>"
      ]
     },
     "metadata": {
      "needs_background": "light"
     },
     "output_type": "display_data"
    },
    {
     "data": {
      "image/png": "[encoded data removed]",
      "text/plain": [
       "<Figure size 432x288 with 1 Axes>"
      ]
     },
     "metadata": {
      "needs_background": "light"
     },
     "output_type": "display_data"
    },
    {
     "data": {
      "image/png": "[encoded data removed]",
      "text/plain": [
       "<Figure size 432x288 with 1 Axes>"
      ]
     },
     "metadata": {
      "needs_background": "light"
     },
     "output_type": "display_data"
    }
   ],
   "source": [
    "sanityChecks.discProbVsError(train_data,disc,device)\n",
    "sanityChecks.discProbVsError(test_data,disc,device)"
   ]
  },
  {
   "cell_type": "markdown",
   "id": "130f3a4d",
   "metadata": {
    "id": "130f3a4d",
    "papermill": {
     "duration": 0.01453,
     "end_time": "2022-06-12T06:14:09.947011",
     "exception": false,
     "start_time": "2022-06-12T06:14:09.932481",
     "status": "completed"
    },
    "tags": []
   },
   "source": [
    "# ABC - GAN Model with skip connection"
   ]
  },
  {
   "cell_type": "code",
   "execution_count": 15,
   "id": "4e43dad1",
   "metadata": {
    "execution": {
     "iopub.execute_input": "2022-06-12T06:14:09.979497Z",
     "iopub.status.busy": "2022-06-12T06:14:09.979119Z",
     "iopub.status.idle": "2022-06-12T06:14:09.981497Z",
     "shell.execute_reply": "2022-06-12T06:14:09.981756Z"
    },
    "id": "4e43dad1",
    "papermill": {
     "duration": 0.020163,
     "end_time": "2022-06-12T06:14:09.981869",
     "exception": false,
     "start_time": "2022-06-12T06:14:09.961706",
     "status": "completed"
    },
    "tags": []
   },
   "outputs": [],
   "source": [
    "#Generator\n",
    "gen3 = network.GeneratorWithSkipConnection(n_features+1).to(device)\n",
    "constraints=network.weightConstraint()\n",
    "#Discriminator \n",
    "disc3 = network.Discriminator(n_features+1).to(device)\n",
    "\n",
    "criterion = torch.nn.BCELoss()\n",
    "gen_opt = torch.optim.Adam(gen3.parameters(), lr=0.001, betas=(0.5, 0.999))\n",
    "disc_opt = torch.optim.Adam(disc3.parameters(), lr=0.001, betas=(0.5, 0.999))\n"
   ]
  },
  {
   "cell_type": "code",
   "execution_count": 16,
   "id": "26acbc37",
   "metadata": {
    "execution": {
     "iopub.execute_input": "2022-06-12T06:14:10.014005Z",
     "iopub.status.busy": "2022-06-12T06:14:10.013643Z",
     "iopub.status.idle": "2022-06-12T06:17:02.633393Z",
     "shell.execute_reply": "2022-06-12T06:17:02.633713Z"
    },
    "id": "26acbc37",
    "papermill": {
     "duration": 172.636979,
     "end_time": "2022-06-12T06:17:02.633842",
     "exception": false,
     "start_time": "2022-06-12T06:14:09.996863",
     "status": "completed"
    },
    "tags": []
   },
   "outputs": [
    {
     "data": {
      "image/png": "[encoded data removed]",
      "text/plain": [
       "<Figure size 432x288 with 1 Axes>"
      ]
     },
     "metadata": {
      "needs_background": "light"
     },
     "output_type": "display_data"
    },
    {
     "data": {
      "image/png": "[encoded data removed]",
      "text/plain": [
       "<Figure size 432x288 with 1 Axes>"
      ]
     },
     "metadata": {
      "needs_background": "light"
     },
     "output_type": "display_data"
    }
   ],
   "source": [
    "ABC_train_test2.training_GAN_skip_connection(disc3,gen3,disc_opt,gen_opt,train_data,batch_size,n_epochs,criterion,prior_model,variance,bias,device)"
   ]
  },
  {
   "cell_type": "code",
   "execution_count": 17,
   "id": "c5e0717b",
   "metadata": {
    "execution": {
     "iopub.execute_input": "2022-06-12T06:17:02.667775Z",
     "iopub.status.busy": "2022-06-12T06:17:02.667377Z",
     "iopub.status.idle": "2022-06-12T06:17:03.501849Z",
     "shell.execute_reply": "2022-06-12T06:17:03.502150Z"
    },
    "id": "c5e0717b",
    "papermill": {
     "duration": 0.852749,
     "end_time": "2022-06-12T06:17:03.502274",
     "exception": false,
     "start_time": "2022-06-12T06:17:02.649525",
     "status": "completed"
    },
    "tags": []
   },
   "outputs": [
    {
     "data": {
      "application/scrapbook.scrap.json+json": {
       "data": 0.08241681842331026,
       "encoder": "json",
       "name": "ABC-GAN Model 3 MSE",
       "version": 1
      }
     },
     "metadata": {
      "scrapbook": {
       "data": true,
       "display": false,
       "name": "ABC-GAN Model 3 MSE"
      }
     },
     "output_type": "display_data"
    },
    {
     "data": {
      "application/scrapbook.scrap.json+json": {
       "data": 0.21189402307073274,
       "encoder": "json",
       "name": "ABC-GAN Model 3 MAE",
       "version": 1
      }
     },
     "metadata": {
      "scrapbook": {
       "data": true,
       "display": false,
       "name": "ABC-GAN Model 3 MAE"
      }
     },
     "output_type": "display_data"
    },
    {
     "data": {
      "application/scrapbook.scrap.json+json": {
       "data": 21.61319035321474,
       "encoder": "json",
       "name": "ABC-GAN Model 3 Manhattan Distance",
       "version": 1
      }
     },
     "metadata": {
      "scrapbook": {
       "data": true,
       "display": false,
       "name": "ABC-GAN Model 3 Manhattan Distance"
      }
     },
     "output_type": "display_data"
    },
    {
     "data": {
      "application/scrapbook.scrap.json+json": {
       "data": 2.89937478634357,
       "encoder": "json",
       "name": "ABC-GAN Model 3 Euclidean distance",
       "version": 1
      }
     },
     "metadata": {
      "scrapbook": {
       "data": true,
       "display": false,
       "name": "ABC-GAN Model 3 Euclidean distance"
      }
     },
     "output_type": "display_data"
    },
    {
     "data": {
      "application/scrapbook.scrap.json+json": {
       "data": [
        [
         0.08245753041853193,
         0.08259290418073349,
         0.08238746597852536,
         0.0823159979513564,
         0.08246926021356224,
         0.08215142629084092,
         0.08240544955478234,
         0.08351636210186328,
         0.08271401872922163,
         0.08121120347580219,
         0.08290684781393949,
         0.08212729911709694,
         0.08145669921700681,
         0.08254914569174414,
         0.08182322685570967,
         0.08195771509453464,
         0.08115379512201491,
         0.08305480298046339,
         0.08305652733233058,
         0.08308020656013353,
         0.08239153884023286,
         0.08278186305633045,
         0.0818637160229986,
         0.08237859742947445,
         0.08110706248447207,
         0.0831235885624574,
         0.08278503693581808,
         0.0836161077982597,
         0.08366777314279084,
         0.08332523452479498,
         0.08297660242255474,
         0.08349505237842414,
         0.08272955337027685,
         0.08266327377457912,
         0.08219380224242197,
         0.08379219904941557,
         0.08185585236956434,
         0.08154103618313933,
         0.08152712609619632,
         0.08288542746420152,
         0.08291634456989418,
         0.08269826150096175,
         0.08247399675236469,
         0.08190218936122406,
         0.08241069136602829,
         0.08273379384144675,
         0.08335308790759476,
         0.08108239979240729,
         0.082198193840015,
         0.08135482227149479,
         0.08311517475694899,
         0.08246092977096947,
         0.08254668595473443,
         0.08263447555770644,
         0.08374590909210812,
         0.08125647552932974,
         0.08149798724064052,
         0.08191423622661434,
         0.08196382765907764,
         0.08250110969186611,
         0.08171726865650125,
         0.0824097488384042,
         0.0827516756780472,
         0.08199802551745526,
         0.08160929125719257,
         0.08280101570904082,
         0.0820573530276457,
         0.08226016525622844,
         0.08231177297836138,
         0.08238384184831567,
         0.08159995804062511,
         0.08200575042475405,
         0.08212510726824973,
         0.08261877049527223,
         0.08236182689009819,
         0.08224520489429443,
         0.08317541847470743,
         0.08235734934763883,
         0.08360469771602091,
         0.08168281052460019,
         0.08168267203732174,
         0.08275147989862043,
         0.08293421681042361,
         0.0812933788361238,
         0.08102804719924621,
         0.08233095151793554,
         0.08157490835284993,
         0.08154793045577449,
         0.08268509679630774,
         0.08248379384933657,
         0.08316946609499414,
         0.08163715115707994,
         0.0836631419853521,
         0.08272915288013433,
         0.08206292045452084,
         0.08320374117334976,
         0.08259476394291894,
         0.0835473338393438,
         0.08302009651744204,
         0.08281562417647263
        ],
        [
         0.21239537165007172,
         0.2122977149910202,
         0.21321489636366273,
         0.21177433040358273,
         0.21232902057761072,
         0.2110352377754216,
         0.21110020187117307,
         0.2142396907084713,
         0.2125384794803811,
         0.21050949412964137,
         0.21135853044688702,
         0.21125592075872654,
         0.21016222227583914,
         0.21177590992666928,
         0.20963706079797417,
         0.21166536376318512,
         0.2110896302277551,
         0.211994584467189,
         0.2122815884284529,
         0.2109861600705806,
         0.211654655964059,
         0.21271738983398558,
         0.2116641193701356,
         0.2111719424891121,
         0.20980760531828685,
         0.21237906598139042,
         0.21314069880720446,
         0.21424823491742798,
         0.21354922612069868,
         0.2136076784090084,
         0.21208573574675063,
         0.21340458668476225,
         0.2129692158059162,
         0.21121769752718655,
         0.21210148072271956,
         0.21304426930260426,
         0.21181094314099527,
         0.21085193654631867,
         0.21142590940729075,
         0.21308603316691577,
         0.21255603597006378,
         0.21189243204015143,
         0.20980348324804915,
         0.21295824957390627,
         0.21249562607822464,
         0.21263684292196058,
         0.2131337957712365,
         0.2098328215891824,
         0.21296579540506297,
         0.2088544145591703,
         0.21216092174690143,
         0.21217643034954867,
         0.2118059313837804,
         0.21259660861801868,
         0.2130250581996698,
         0.2102729983846931,
         0.21035871775273016,
         0.21024997229231338,
         0.21165738813579082,
         0.21179568727372908,
         0.21101267040506297,
         0.21112539418333887,
         0.21251133190212296,
         0.2115428671606031,
         0.21087222199375724,
         0.21303214340963783,
         0.21319913911614932,
         0.21315939012257493,
         0.21101331699858694,
         0.21139959863149652,
         0.21118567317870318,
         0.21067211400790542,
         0.2104532945462886,
         0.21185695266752852,
         0.2123049528648456,
         0.21106696497722,
         0.2138670234776595,
         0.21091733160702622,
         0.21319586290594408,
         0.21151598605016866,
         0.210432518675339,
         0.21322647938687428,
         0.21168759848703356,
         0.20891671982027737,
         0.21048764756643304,
         0.212107243965946,
         0.2116845997013882,
         0.21023957741757235,
         0.2116983879503666,
         0.21225304949079074,
         0.21376664341226512,
         0.2105782919143345,
         0.21369850566135903,
         0.21358094105095254,
         0.21061070237820054,
         0.2129613528137698,
         0.2145989918898718,
         0.212272380387374,
         0.21270104092271888,
         0.21318635830253946
        ],
        [
         21.664327908307314,
         21.654366929084063,
         21.7479194290936,
         21.600981701165438,
         21.657560098916292,
         21.525594253093004,
         21.53222059085965,
         21.85244845226407,
         21.678924906998873,
         21.47196840122342,
         21.558570105582476,
         21.548103917390108,
         21.43654667213559,
         21.601142812520266,
         21.382980201393366,
         21.58986710384488,
         21.53114228323102,
         21.623447615653276,
         21.652722019702196,
         21.52058832719922,
         21.588774908334017,
         21.69717376306653,
         21.589740175753832,
         21.539538133889437,
         21.400375742465258,
         21.662664730101824,
         21.740351278334856,
         21.853319961577654,
         21.782021064311266,
         21.78798319771886,
         21.632745046168566,
         21.76726784184575,
         21.722860012203455,
         21.544205147773027,
         21.634351033717394,
         21.730515468865633,
         21.604716200381517,
         21.506897527724504,
         21.565442759543657,
         21.734775383025408,
         21.680715668946505,
         21.613028068095446,
         21.399955291301012,
         21.72174145653844,
         21.674553859978914,
         21.68895797803998,
         21.739647168666124,
         21.402947802096605,
         21.722511131316423,
         21.303150285035372,
         21.640414018183947,
         21.641995895653963,
         21.6042050011456,
         21.684854079037905,
         21.72855593636632,
         21.447845835238695,
         21.456589210778475,
         21.445497173815966,
         21.589053589850664,
         21.603160101920366,
         21.523292381316423,
         21.534790206700563,
         21.676155854016542,
         21.577372450381517,
         21.508966643363237,
         21.72927862778306,
         21.74631218984723,
         21.74225779250264,
         21.523358333855867,
         21.562759060412645,
         21.540938664227724,
         21.488555628806353,
         21.466236043721437,
         21.609409172087908,
         21.65510519221425,
         21.52883042767644,
         21.81443639472127,
         21.513567823916674,
         21.745978016406298,
         21.574630577117205,
         21.464116904884577,
         21.749100897461176,
         21.592135045677423,
         21.30950542166829,
         21.46974005177617,
         21.63493888452649,
         21.591829169541597,
         21.44443689659238,
         21.593235570937395,
         21.649811048060656,
         21.804197628051043,
         21.478985775262117,
         21.79724757745862,
         21.78525598719716,
         21.482291642576456,
         21.72205798700452,
         21.889097172766924,
         21.651782799512148,
         21.695506174117327,
         21.745008546859026
        ],
        [
         2.9001151878313824,
         2.902494827977272,
         2.898882807187898,
         2.8976251985096955,
         2.900321454905188,
         2.8947271860515236,
         2.899199174701144,
         2.9186758871772747,
         2.904622163101528,
         2.878114444307561,
         2.9080059279550694,
         2.894302076484742,
         2.882461330206304,
         2.901725841729004,
         2.8889391027299944,
         2.8913123213590284,
         2.8770969921859635,
         2.9105995780950806,
         2.9106297923126045,
         2.9110446697248764,
         2.898954460094837,
         2.905813144671506,
         2.8896537914334752,
         2.898726778743798,
         2.876268480760471,
         2.9118046008224265,
         2.9058688489767466,
         2.920418291173798,
         2.9213203967666166,
         2.9153342726913984,
         2.9092290124877724,
         2.918303504195419,
         2.9048949109680775,
         2.9037310352384686,
         2.8954736795085942,
         2.9234917997217615,
         2.889515001119662,
         2.8839531360062374,
         2.8837071387039326,
         2.9076302380716417,
         2.9081724753063054,
         2.9043454810160063,
         2.9004047422284356,
         2.8903327342790233,
         2.8992913822751385,
         2.904969358156393,
         2.915821490862337,
         2.875831145743008,
         2.895551030750715,
         2.880658235836467,
         2.911657230033919,
         2.900174966556136,
         2.9016826096909543,
         2.9032251905227837,
         2.922684164838039,
         2.878916550369536,
         2.88319175542407,
         2.8905452937317313,
         2.8914201391748517,
         2.9008814502785767,
         2.8870679595331876,
         2.899274802690705,
         2.905283276921686,
         2.89202327147975,
         2.885159910340091,
         2.9061492739228245,
         2.89306930591368,
         2.8966423417700877,
         2.897550835411323,
         2.8988190472204702,
         2.8849949254970553,
         2.892159494793624,
         2.8942634540348036,
         2.902949291757912,
         2.898431704006499,
         2.896378928803694,
         2.912712255685438,
         2.8983529173410125,
         2.9202190272365067,
         2.886459193113462,
         2.886456746221363,
         2.905279840163298,
         2.908485880086614,
         2.8795702181548943,
         2.8748670950711985,
         2.8978883786007743,
         2.8845520712912593,
         2.88407505215953,
         2.9041143009915062,
         2.9005770068440397,
         2.9126080309045017,
         2.885652338384191,
         2.92123954555355,
         2.9048878797250843,
         2.8931674487248618,
         2.913208128452492,
         2.9025275058434383,
         2.9192170271518125,
         2.909991382251687,
         2.906405626542896
        ]
       ],
       "encoder": "json",
       "name": "ABC_GAN_3 Metrics",
       "version": 1
      }
     },
     "metadata": {
      "scrapbook": {
       "data": true,
       "display": false,
       "name": "ABC_GAN_3 Metrics"
      }
     },
     "output_type": "display_data"
    },
    {
     "name": "stdout",
     "output_type": "stream",
     "text": [
      "MSE\n",
      "0.08241681842331026\n"
     ]
    }
   ],
   "source": [
    "ABC_GAN3_metrics=ABC_train_test2.test_generator(gen3,test_data,prior_model,variance,bias,\"3\",device)\n",
    "sb.glue(\"ABC_GAN_3 Metrics\",ABC_GAN3_metrics)\n",
    "\n",
    "print(\"MSE\")\n",
    "print(mean(ABC_GAN3_metrics[0]))"
   ]
  },
  {
   "cell_type": "code",
   "execution_count": 18,
   "id": "c8e46b48",
   "metadata": {
    "execution": {
     "iopub.execute_input": "2022-06-12T06:17:03.539967Z",
     "iopub.status.busy": "2022-06-12T06:17:03.539591Z",
     "iopub.status.idle": "2022-06-12T06:17:03.865532Z",
     "shell.execute_reply": "2022-06-12T06:17:03.865863Z"
    },
    "id": "c8e46b48",
    "papermill": {
     "duration": 0.346118,
     "end_time": "2022-06-12T06:17:03.865990",
     "exception": false,
     "start_time": "2022-06-12T06:17:03.519872",
     "status": "completed"
    },
    "tags": []
   },
   "outputs": [
    {
     "data": {
      "image/png": "[encoded data removed]",
      "text/plain": [
       "<Figure size 432x288 with 1 Axes>"
      ]
     },
     "metadata": {
      "needs_background": "light"
     },
     "output_type": "display_data"
    },
    {
     "data": {
      "image/png": "[encoded data removed]",
      "text/plain": [
       "<Figure size 432x288 with 1 Axes>"
      ]
     },
     "metadata": {
      "needs_background": "light"
     },
     "output_type": "display_data"
    },
    {
     "data": {
      "image/png": "[encoded data removed]",
      "text/plain": [
       "<Figure size 432x288 with 1 Axes>"
      ]
     },
     "metadata": {
      "needs_background": "light"
     },
     "output_type": "display_data"
    },
    {
     "data": {
      "image/png": "[encoded data removed]",
      "text/plain": [
       "<Figure size 432x288 with 1 Axes>"
      ]
     },
     "metadata": {
      "needs_background": "light"
     },
     "output_type": "display_data"
    }
   ],
   "source": [
    "sanityChecks.discProbVsError(train_data,disc3,device)\n",
    "sanityChecks.discProbVsError(test_data,disc3,device)"
   ]
  },
  {
   "cell_type": "markdown",
   "id": "a5bd74c3",
   "metadata": {
    "id": "a5bd74c3",
    "papermill": {
     "duration": 0.019596,
     "end_time": "2022-06-12T06:17:03.905385",
     "exception": false,
     "start_time": "2022-06-12T06:17:03.885789",
     "status": "completed"
    },
    "tags": []
   },
   "source": [
    "## Skip Connection Model Analysis - ABC-GAN "
   ]
  },
  {
   "cell_type": "markdown",
   "id": "5744a8bf",
   "metadata": {
    "id": "5744a8bf",
    "papermill": {
     "duration": 0.019056,
     "end_time": "2022-06-12T06:17:03.943576",
     "exception": false,
     "start_time": "2022-06-12T06:17:03.924520",
     "status": "completed"
    },
    "tags": []
   },
   "source": [
    "### Weight Analysis \n",
    "\n",
    "Study the weights of the skip connection layer\n",
    "\n",
    "Equation of the skip connection is \n",
    "\n",
    "$output = y_{gan} * w + y_{abc} * (1-w)$"
   ]
  },
  {
   "cell_type": "code",
   "execution_count": 19,
   "id": "52c31dea",
   "metadata": {
    "execution": {
     "iopub.execute_input": "2022-06-12T06:17:03.984726Z",
     "iopub.status.busy": "2022-06-12T06:17:03.984333Z",
     "iopub.status.idle": "2022-06-12T06:17:03.987818Z",
     "shell.execute_reply": "2022-06-12T06:17:03.988069Z"
    },
    "id": "52c31dea",
    "papermill": {
     "duration": 0.025462,
     "end_time": "2022-06-12T06:17:03.988187",
     "exception": false,
     "start_time": "2022-06-12T06:17:03.962725",
     "status": "completed"
    },
    "tags": []
   },
   "outputs": [
    {
     "name": "stdout",
     "output_type": "stream",
     "text": [
      "Weight of the node at skip connection\n",
      "Parameter containing:\n",
      "tensor([[0.1148]], requires_grad=True)\n"
     ]
    },
    {
     "data": {
      "application/scrapbook.scrap.json+json": {
       "data": 0.11478389799594879,
       "encoder": "json",
       "name": "Skip Connection Weight",
       "version": 1
      }
     },
     "metadata": {
      "scrapbook": {
       "data": true,
       "display": false,
       "name": "Skip Connection Weight"
      }
     },
     "output_type": "display_data"
    }
   ],
   "source": [
    "print(\"Weight of the node at skip connection\")\n",
    "for name,param in gen3.named_parameters():\n",
    "    if(name == \"skipNode.weight\"):\n",
    "        print(param)\n",
    "        sb.glue(\"Skip Connection Weight\",param.item())"
   ]
  }
 ],
 "metadata": {
  "colab": {
   "collapsed_sections": [],
   "name": "ABC_GAN_Model-Catboost_Pre-gen.ipynb",
   "provenance": []
  },
  "interpreter": {
   "hash": "31f2aee4e71d21fbe5cf8b01ff0e069b9275f58929596ceb00d14d90e3e16cd6"
  },
  "kernelspec": {
   "display_name": "Python 3 (ipykernel)",
   "language": "python",
   "name": "python3"
  },
  "language_info": {
   "codemirror_mode": {
    "name": "ipython",
    "version": 3
   },
   "file_extension": ".py",
   "mimetype": "text/x-python",
   "name": "python",
   "nbconvert_exporter": "python",
   "pygments_lexer": "ipython3",
   "version": "3.8.11"
  },
  "papermill": {
   "default_parameters": {},
   "duration": 239.103265,
   "end_time": "2022-06-12T06:17:04.315510",
   "environment_variables": {},
   "exception": null,
   "input_path": "ABC_GAN-Catboost.ipynb",
   "output_path": "./ABC_GAN_Catboost/ABC-GAN_output_7_2.ipynb",
   "parameters": {
    "bias": 1,
    "variance": 0.01
   },
   "start_time": "2022-06-12T06:13:05.212245",
   "version": "2.3.3"
  }
 },
 "nbformat": 4,
 "nbformat_minor": 5
}