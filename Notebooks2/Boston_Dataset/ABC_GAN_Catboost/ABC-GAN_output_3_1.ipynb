{
 "cells": [
  {
   "cell_type": "markdown",
   "id": "622780e6",
   "metadata": {
    "id": "622780e6",
    "papermill": {
     "duration": 0.035236,
     "end_time": "2022-06-11T17:56:01.424594",
     "exception": false,
     "start_time": "2022-06-11T17:56:01.389358",
     "status": "completed"
    },
    "tags": []
   },
   "source": [
    "## Import Libraries "
   ]
  },
  {
   "cell_type": "code",
   "execution_count": 1,
   "id": "a62397e3",
   "metadata": {
    "execution": {
     "iopub.execute_input": "2022-06-11T17:56:01.460643Z",
     "iopub.status.busy": "2022-06-11T17:56:01.460129Z",
     "iopub.status.idle": "2022-06-11T17:56:01.462350Z",
     "shell.execute_reply": "2022-06-11T17:56:01.462686Z"
    },
    "id": "a62397e3",
    "papermill": {
     "duration": 0.022286,
     "end_time": "2022-06-11T17:56:01.462912",
     "exception": false,
     "start_time": "2022-06-11T17:56:01.440626",
     "status": "completed"
    },
    "tags": []
   },
   "outputs": [],
   "source": [
    "import warnings\n",
    "import sys\n",
    "sys.path.insert(0, '../../src')\n",
    "warnings.filterwarnings('ignore')"
   ]
  },
  {
   "cell_type": "code",
   "execution_count": 2,
   "id": "d6a4e155",
   "metadata": {
    "execution": {
     "iopub.execute_input": "2022-06-11T17:56:01.484421Z",
     "iopub.status.busy": "2022-06-11T17:56:01.483941Z",
     "iopub.status.idle": "2022-06-11T17:56:03.274596Z",
     "shell.execute_reply": "2022-06-11T17:56:03.274889Z"
    },
    "id": "d6a4e155",
    "papermill": {
     "duration": 1.802207,
     "end_time": "2022-06-11T17:56:03.275041",
     "exception": false,
     "start_time": "2022-06-11T17:56:01.472834",
     "status": "completed"
    },
    "tags": []
   },
   "outputs": [],
   "source": [
    "import ABC_train_test2\n",
    "import bostonDataset\n",
    "import network\n",
    "import dataset\n",
    "import sanityChecks\n",
    "import torch \n",
    "import scrapbook as sb\n",
    "from statistics import mean \n",
    "import catboost as ctb \n",
    "from sklearn.model_selection import train_test_split\n",
    "from sklearn.metrics import mean_squared_error,mean_absolute_error\n",
    "import numpy as np"
   ]
  },
  {
   "cell_type": "markdown",
   "id": "2fa5b0f7",
   "metadata": {
    "id": "2fa5b0f7",
    "papermill": {
     "duration": 0.007327,
     "end_time": "2022-06-11T17:56:03.289876",
     "exception": false,
     "start_time": "2022-06-11T17:56:03.282549",
     "status": "completed"
    },
    "tags": []
   },
   "source": [
    "## Parameters "
   ]
  },
  {
   "cell_type": "code",
   "execution_count": 3,
   "id": "783186fb",
   "metadata": {
    "execution": {
     "iopub.execute_input": "2022-06-11T17:56:03.306783Z",
     "iopub.status.busy": "2022-06-11T17:56:03.306323Z",
     "iopub.status.idle": "2022-06-11T17:56:03.307915Z",
     "shell.execute_reply": "2022-06-11T17:56:03.308185Z"
    },
    "id": "783186fb",
    "papermill": {
     "duration": 0.011415,
     "end_time": "2022-06-11T17:56:03.308317",
     "exception": false,
     "start_time": "2022-06-11T17:56:03.296902",
     "status": "completed"
    },
    "tags": [
     "parameters"
    ]
   },
   "outputs": [],
   "source": [
    "variance = 1\n",
    "bias = 1 "
   ]
  },
  {
   "cell_type": "code",
   "execution_count": 4,
   "id": "c86424b5",
   "metadata": {
    "execution": {
     "iopub.execute_input": "2022-06-11T17:56:03.325564Z",
     "iopub.status.busy": "2022-06-11T17:56:03.325173Z",
     "iopub.status.idle": "2022-06-11T17:56:03.326357Z",
     "shell.execute_reply": "2022-06-11T17:56:03.326599Z"
    },
    "papermill": {
     "duration": 0.011068,
     "end_time": "2022-06-11T17:56:03.326721",
     "exception": false,
     "start_time": "2022-06-11T17:56:03.315653",
     "status": "completed"
    },
    "tags": [
     "injected-parameters"
    ]
   },
   "outputs": [],
   "source": [
    "# Parameters\n",
    "variance = 0.1\n",
    "bias = 1\n"
   ]
  },
  {
   "cell_type": "markdown",
   "id": "391cdbfd",
   "metadata": {
    "id": "391cdbfd",
    "papermill": {
     "duration": 0.00727,
     "end_time": "2022-06-11T17:56:03.341056",
     "exception": false,
     "start_time": "2022-06-11T17:56:03.333786",
     "status": "completed"
    },
    "tags": []
   },
   "source": [
    "## Dataset \n"
   ]
  },
  {
   "cell_type": "code",
   "execution_count": 5,
   "id": "5b51f161",
   "metadata": {
    "execution": {
     "iopub.execute_input": "2022-06-11T17:56:03.358176Z",
     "iopub.status.busy": "2022-06-11T17:56:03.357698Z",
     "iopub.status.idle": "2022-06-11T17:56:03.358911Z",
     "shell.execute_reply": "2022-06-11T17:56:03.359158Z"
    },
    "id": "5b51f161",
    "papermill": {
     "duration": 0.011182,
     "end_time": "2022-06-11T17:56:03.359280",
     "exception": false,
     "start_time": "2022-06-11T17:56:03.348098",
     "status": "completed"
    },
    "tags": []
   },
   "outputs": [],
   "source": [
    "#Parameters \n",
    "n_features = 13\n",
    "n_samples= 506\n",
    "n_target = 1 "
   ]
  },
  {
   "cell_type": "code",
   "execution_count": 6,
   "id": "5d6eced4",
   "metadata": {
    "execution": {
     "iopub.execute_input": "2022-06-11T17:56:03.376600Z",
     "iopub.status.busy": "2022-06-11T17:56:03.376222Z",
     "iopub.status.idle": "2022-06-11T17:56:03.387034Z",
     "shell.execute_reply": "2022-06-11T17:56:03.387295Z"
    },
    "id": "5d6eced4",
    "papermill": {
     "duration": 0.021048,
     "end_time": "2022-06-11T17:56:03.387438",
     "exception": false,
     "start_time": "2022-06-11T17:56:03.366390",
     "status": "completed"
    },
    "tags": []
   },
   "outputs": [
    {
     "name": "stdout",
     "output_type": "stream",
     "text": [
      "         X1        X2        X3        X4        X5        X6        X7  \\\n",
      "0 -0.419782  0.284830 -1.287909 -0.272599 -0.144217  0.413672 -0.120013   \n",
      "1 -0.417339 -0.487722 -0.593381 -0.272599 -0.740262  0.194274  0.367166   \n",
      "2 -0.417342 -0.487722 -0.593381 -0.272599 -0.740262  1.282714 -0.265812   \n",
      "3 -0.416750 -0.487722 -1.306878 -0.272599 -0.835284  1.016303 -0.809889   \n",
      "4 -0.412482 -0.487722 -1.306878 -0.272599 -0.835284  1.228577 -0.511180   \n",
      "\n",
      "         X8        X9       X10       X11       X12       X13         Y  \n",
      "0  0.140214 -0.982843 -0.666608 -1.459000  0.441052 -1.075562  0.159686  \n",
      "1  0.557160 -0.867883 -0.987329 -0.303094  0.441052 -0.492439 -0.101524  \n",
      "2  0.557160 -0.867883 -0.987329 -0.303094  0.396427 -1.208727  1.324247  \n",
      "3  1.077737 -0.752922 -1.106115  0.113032  0.416163 -1.361517  1.182758  \n",
      "4  1.077737 -0.752922 -1.106115  0.113032  0.441052 -1.026501  1.487503  \n"
     ]
    }
   ],
   "source": [
    "X,Y = bostonDataset.boston_data()"
   ]
  },
  {
   "cell_type": "code",
   "execution_count": 7,
   "id": "fe007438",
   "metadata": {
    "execution": {
     "iopub.execute_input": "2022-06-11T17:56:03.406300Z",
     "iopub.status.busy": "2022-06-11T17:56:03.405799Z",
     "iopub.status.idle": "2022-06-11T17:56:03.407538Z",
     "shell.execute_reply": "2022-06-11T17:56:03.407838Z"
    },
    "id": "fe007438",
    "papermill": {
     "duration": 0.012592,
     "end_time": "2022-06-11T17:56:03.407960",
     "exception": false,
     "start_time": "2022-06-11T17:56:03.395368",
     "status": "completed"
    },
    "tags": []
   },
   "outputs": [],
   "source": [
    "#Train test split for dataset \n",
    "X_train,X_test,Y_train,Y_test = train_test_split(X,Y,test_size = 0.2)\n",
    "train_data = dataset.CustomDataset(X_train,Y_train)\n",
    "test_data = dataset.CustomDataset(X_test,Y_test)\n"
   ]
  },
  {
   "cell_type": "markdown",
   "id": "a9a1af34",
   "metadata": {
    "id": "a9a1af34",
    "papermill": {
     "duration": 0.00806,
     "end_time": "2022-06-11T17:56:03.423413",
     "exception": false,
     "start_time": "2022-06-11T17:56:03.415353",
     "status": "completed"
    },
    "tags": []
   },
   "source": [
    "## Training Parameters "
   ]
  },
  {
   "cell_type": "code",
   "execution_count": 8,
   "id": "952b7fc8",
   "metadata": {
    "execution": {
     "iopub.execute_input": "2022-06-11T17:56:03.441614Z",
     "iopub.status.busy": "2022-06-11T17:56:03.441222Z",
     "iopub.status.idle": "2022-06-11T17:56:03.442480Z",
     "shell.execute_reply": "2022-06-11T17:56:03.442720Z"
    },
    "id": "952b7fc8",
    "papermill": {
     "duration": 0.011868,
     "end_time": "2022-06-11T17:56:03.442844",
     "exception": false,
     "start_time": "2022-06-11T17:56:03.430976",
     "status": "completed"
    },
    "tags": []
   },
   "outputs": [],
   "source": [
    "batch_size = 32\n",
    "n_epochs = 1000\n",
    "#Select the device \n",
    "device = torch.device('cuda' if torch.cuda.is_available() else 'cpu')"
   ]
  },
  {
   "cell_type": "markdown",
   "id": "a95e1600",
   "metadata": {
    "id": "a95e1600",
    "papermill": {
     "duration": 0.007945,
     "end_time": "2022-06-11T17:56:03.458184",
     "exception": false,
     "start_time": "2022-06-11T17:56:03.450239",
     "status": "completed"
    },
    "tags": []
   },
   "source": [
    "# ABC Pre-generator Model \n",
    "\n",
    "1. The catboost model is used as a pre-generator model for the ABC-GAN. \n",
    "2. The model is first trained on the entire dataset \n",
    "3. It generats X,Y pairs and we add some Gaussian noise with mean 0 and variance 1 to it which is then feed as input to the generator.\n"
   ]
  },
  {
   "cell_type": "code",
   "execution_count": 9,
   "id": "ff8ce7bd",
   "metadata": {
    "execution": {
     "iopub.execute_input": "2022-06-11T17:56:03.478858Z",
     "iopub.status.busy": "2022-06-11T17:56:03.478413Z",
     "iopub.status.idle": "2022-06-11T17:56:04.517720Z",
     "shell.execute_reply": "2022-06-11T17:56:04.518003Z"
    },
    "id": "ff8ce7bd",
    "papermill": {
     "duration": 1.052517,
     "end_time": "2022-06-11T17:56:04.518129",
     "exception": false,
     "start_time": "2022-06-11T17:56:03.465612",
     "status": "completed"
    },
    "tags": []
   },
   "outputs": [
    {
     "name": "stdout",
     "output_type": "stream",
     "text": [
      "Learning rate set to 0.033215\n",
      "0:\tlearn: 0.9578754\ttotal: 58.3ms\tremaining: 58.3s\n",
      "1:\tlearn: 0.9389149\ttotal: 59.4ms\tremaining: 29.6s\n",
      "2:\tlearn: 0.9201987\ttotal: 60.5ms\tremaining: 20.1s\n",
      "3:\tlearn: 0.9045484\ttotal: 61.7ms\tremaining: 15.4s\n",
      "4:\tlearn: 0.8900267\ttotal: 62.6ms\tremaining: 12.5s\n",
      "5:\tlearn: 0.8738702\ttotal: 63.6ms\tremaining: 10.5s\n",
      "6:\tlearn: 0.8592268\ttotal: 64.5ms\tremaining: 9.15s\n",
      "7:\tlearn: 0.8439924\ttotal: 65.4ms\tremaining: 8.11s\n",
      "8:\tlearn: 0.8297672\ttotal: 66.3ms\tremaining: 7.29s\n",
      "9:\tlearn: 0.8143096\ttotal: 67.1ms\tremaining: 6.64s\n",
      "10:\tlearn: 0.7993338\ttotal: 67.9ms\tremaining: 6.11s\n",
      "11:\tlearn: 0.7864512\ttotal: 68.9ms\tremaining: 5.67s\n",
      "12:\tlearn: 0.7718280\ttotal: 69.6ms\tremaining: 5.28s\n",
      "13:\tlearn: 0.7577103\ttotal: 70.4ms\tremaining: 4.96s\n",
      "14:\tlearn: 0.7462665\ttotal: 71.2ms\tremaining: 4.68s\n",
      "15:\tlearn: 0.7326830\ttotal: 72.4ms\tremaining: 4.45s\n",
      "16:\tlearn: 0.7215824\ttotal: 73.7ms\tremaining: 4.26s\n",
      "17:\tlearn: 0.7110233\ttotal: 75.1ms\tremaining: 4.09s\n",
      "18:\tlearn: 0.6993305\ttotal: 76ms\tremaining: 3.92s\n",
      "19:\tlearn: 0.6878915\ttotal: 76.9ms\tremaining: 3.77s\n",
      "20:\tlearn: 0.6747974\ttotal: 77.7ms\tremaining: 3.62s\n",
      "21:\tlearn: 0.6632537\ttotal: 78.4ms\tremaining: 3.48s\n",
      "22:\tlearn: 0.6538455\ttotal: 79.8ms\tremaining: 3.39s\n",
      "23:\tlearn: 0.6442541\ttotal: 80.5ms\tremaining: 3.27s\n",
      "24:\tlearn: 0.6337797\ttotal: 81.3ms\tremaining: 3.17s\n",
      "25:\tlearn: 0.6250838\ttotal: 81.9ms\tremaining: 3.07s\n",
      "26:\tlearn: 0.6164715\ttotal: 82.7ms\tremaining: 2.98s\n",
      "27:\tlearn: 0.6085717\ttotal: 83.5ms\tremaining: 2.9s\n",
      "28:\tlearn: 0.5990425\ttotal: 84.3ms\tremaining: 2.82s\n",
      "29:\tlearn: 0.5896470\ttotal: 85ms\tremaining: 2.75s\n",
      "30:\tlearn: 0.5798182\ttotal: 85.8ms\tremaining: 2.68s\n",
      "31:\tlearn: 0.5722329\ttotal: 86.5ms\tremaining: 2.62s\n",
      "32:\tlearn: 0.5652401\ttotal: 87.5ms\tremaining: 2.56s\n",
      "33:\tlearn: 0.5576778\ttotal: 88.8ms\tremaining: 2.52s\n",
      "34:\tlearn: 0.5495645\ttotal: 89.6ms\tremaining: 2.47s\n",
      "35:\tlearn: 0.5430559\ttotal: 90.7ms\tremaining: 2.43s\n",
      "36:\tlearn: 0.5365573\ttotal: 91.7ms\tremaining: 2.39s\n",
      "37:\tlearn: 0.5305121\ttotal: 92.7ms\tremaining: 2.35s\n",
      "38:\tlearn: 0.5235479\ttotal: 93.6ms\tremaining: 2.31s\n",
      "39:\tlearn: 0.5161119\ttotal: 94.3ms\tremaining: 2.26s\n",
      "40:\tlearn: 0.5108632\ttotal: 95.1ms\tremaining: 2.23s\n",
      "41:\tlearn: 0.5050117\ttotal: 96.1ms\tremaining: 2.19s\n",
      "42:\tlearn: 0.4989318\ttotal: 96.9ms\tremaining: 2.16s\n",
      "43:\tlearn: 0.4939029\ttotal: 97.9ms\tremaining: 2.13s\n",
      "44:\tlearn: 0.4877158\ttotal: 98.8ms\tremaining: 2.1s\n",
      "45:\tlearn: 0.4813535\ttotal: 99.7ms\tremaining: 2.07s\n",
      "46:\tlearn: 0.4770141\ttotal: 101ms\tremaining: 2.04s\n"
     ]
    },
    {
     "name": "stdout",
     "output_type": "stream",
     "text": [
      "47:\tlearn: 0.4725899\ttotal: 102ms\tremaining: 2.02s\n",
      "48:\tlearn: 0.4682713\ttotal: 103ms\tremaining: 2s\n",
      "49:\tlearn: 0.4631993\ttotal: 104ms\tremaining: 1.98s\n",
      "50:\tlearn: 0.4594593\ttotal: 105ms\tremaining: 1.96s\n",
      "51:\tlearn: 0.4539629\ttotal: 106ms\tremaining: 1.94s\n",
      "52:\tlearn: 0.4489734\ttotal: 107ms\tremaining: 1.91s\n",
      "53:\tlearn: 0.4442559\ttotal: 108ms\tremaining: 1.89s\n",
      "54:\tlearn: 0.4397448\ttotal: 109ms\tremaining: 1.87s\n",
      "55:\tlearn: 0.4363155\ttotal: 110ms\tremaining: 1.85s\n",
      "56:\tlearn: 0.4331923\ttotal: 110ms\tremaining: 1.82s\n",
      "57:\tlearn: 0.4290276\ttotal: 111ms\tremaining: 1.8s\n",
      "58:\tlearn: 0.4247362\ttotal: 112ms\tremaining: 1.78s\n",
      "59:\tlearn: 0.4216672\ttotal: 113ms\tremaining: 1.76s\n",
      "60:\tlearn: 0.4178923\ttotal: 113ms\tremaining: 1.75s\n",
      "61:\tlearn: 0.4145842\ttotal: 114ms\tremaining: 1.73s\n",
      "62:\tlearn: 0.4119180\ttotal: 115ms\tremaining: 1.71s\n",
      "63:\tlearn: 0.4082216\ttotal: 116ms\tremaining: 1.69s\n",
      "64:\tlearn: 0.4053022\ttotal: 117ms\tremaining: 1.68s\n",
      "65:\tlearn: 0.4018322\ttotal: 118ms\tremaining: 1.66s\n",
      "66:\tlearn: 0.3988199\ttotal: 119ms\tremaining: 1.65s\n",
      "67:\tlearn: 0.3947114\ttotal: 120ms\tremaining: 1.64s\n",
      "68:\tlearn: 0.3918534\ttotal: 121ms\tremaining: 1.63s\n",
      "69:\tlearn: 0.3885457\ttotal: 122ms\tremaining: 1.61s\n",
      "70:\tlearn: 0.3845850\ttotal: 122ms\tremaining: 1.6s\n",
      "71:\tlearn: 0.3820738\ttotal: 123ms\tremaining: 1.59s\n",
      "72:\tlearn: 0.3793642\ttotal: 124ms\tremaining: 1.57s\n",
      "73:\tlearn: 0.3762942\ttotal: 125ms\tremaining: 1.56s\n",
      "74:\tlearn: 0.3733151\ttotal: 126ms\tremaining: 1.55s\n",
      "75:\tlearn: 0.3708800\ttotal: 126ms\tremaining: 1.54s\n",
      "76:\tlearn: 0.3676136\ttotal: 127ms\tremaining: 1.52s\n",
      "77:\tlearn: 0.3651945\ttotal: 128ms\tremaining: 1.51s\n",
      "78:\tlearn: 0.3622642\ttotal: 129ms\tremaining: 1.5s\n",
      "79:\tlearn: 0.3602535\ttotal: 130ms\tremaining: 1.49s\n",
      "80:\tlearn: 0.3580933\ttotal: 130ms\tremaining: 1.48s\n",
      "81:\tlearn: 0.3554599\ttotal: 131ms\tremaining: 1.47s\n",
      "82:\tlearn: 0.3530705\ttotal: 132ms\tremaining: 1.46s\n",
      "83:\tlearn: 0.3509677\ttotal: 133ms\tremaining: 1.45s\n",
      "84:\tlearn: 0.3486962\ttotal: 135ms\tremaining: 1.45s\n",
      "85:\tlearn: 0.3460055\ttotal: 136ms\tremaining: 1.45s\n",
      "86:\tlearn: 0.3435054\ttotal: 137ms\tremaining: 1.44s\n",
      "87:\tlearn: 0.3410225\ttotal: 138ms\tremaining: 1.43s\n",
      "88:\tlearn: 0.3385775\ttotal: 139ms\tremaining: 1.42s\n",
      "89:\tlearn: 0.3363754\ttotal: 140ms\tremaining: 1.41s\n",
      "90:\tlearn: 0.3341182\ttotal: 141ms\tremaining: 1.4s\n",
      "91:\tlearn: 0.3322966\ttotal: 141ms\tremaining: 1.39s\n",
      "92:\tlearn: 0.3295089\ttotal: 142ms\tremaining: 1.39s\n",
      "93:\tlearn: 0.3280076\ttotal: 143ms\tremaining: 1.38s\n",
      "94:\tlearn: 0.3258804\ttotal: 144ms\tremaining: 1.37s\n",
      "95:\tlearn: 0.3246636\ttotal: 145ms\tremaining: 1.36s\n",
      "96:\tlearn: 0.3231023\ttotal: 146ms\tremaining: 1.35s\n",
      "97:\tlearn: 0.3216314\ttotal: 146ms\tremaining: 1.35s\n",
      "98:\tlearn: 0.3200905\ttotal: 147ms\tremaining: 1.34s\n",
      "99:\tlearn: 0.3189742\ttotal: 148ms\tremaining: 1.33s\n",
      "100:\tlearn: 0.3170300\ttotal: 149ms\tremaining: 1.33s\n",
      "101:\tlearn: 0.3151037\ttotal: 150ms\tremaining: 1.32s\n",
      "102:\tlearn: 0.3134154\ttotal: 152ms\tremaining: 1.32s\n",
      "103:\tlearn: 0.3117939\ttotal: 153ms\tremaining: 1.31s\n",
      "104:\tlearn: 0.3103280\ttotal: 154ms\tremaining: 1.31s\n",
      "105:\tlearn: 0.3086033\ttotal: 154ms\tremaining: 1.3s\n",
      "106:\tlearn: 0.3070090\ttotal: 155ms\tremaining: 1.29s\n",
      "107:\tlearn: 0.3050513\ttotal: 156ms\tremaining: 1.29s\n",
      "108:\tlearn: 0.3036838\ttotal: 157ms\tremaining: 1.28s\n",
      "109:\tlearn: 0.3023015\ttotal: 158ms\tremaining: 1.28s\n",
      "110:\tlearn: 0.3009888\ttotal: 159ms\tremaining: 1.27s\n",
      "111:\tlearn: 0.2995436\ttotal: 159ms\tremaining: 1.26s\n",
      "112:\tlearn: 0.2981929\ttotal: 160ms\tremaining: 1.26s\n",
      "113:\tlearn: 0.2965945\ttotal: 161ms\tremaining: 1.25s\n",
      "114:\tlearn: 0.2953568\ttotal: 162ms\tremaining: 1.25s\n",
      "115:\tlearn: 0.2939733\ttotal: 163ms\tremaining: 1.24s\n",
      "116:\tlearn: 0.2922479\ttotal: 164ms\tremaining: 1.23s\n",
      "117:\tlearn: 0.2910274\ttotal: 165ms\tremaining: 1.23s\n",
      "118:\tlearn: 0.2897710\ttotal: 166ms\tremaining: 1.23s\n",
      "119:\tlearn: 0.2880241\ttotal: 167ms\tremaining: 1.22s\n",
      "120:\tlearn: 0.2866392\ttotal: 168ms\tremaining: 1.22s\n",
      "121:\tlearn: 0.2858382\ttotal: 169ms\tremaining: 1.21s\n",
      "122:\tlearn: 0.2847477\ttotal: 169ms\tremaining: 1.21s\n",
      "123:\tlearn: 0.2835985\ttotal: 170ms\tremaining: 1.2s\n",
      "124:\tlearn: 0.2828770\ttotal: 171ms\tremaining: 1.2s\n",
      "125:\tlearn: 0.2818180\ttotal: 172ms\tremaining: 1.19s\n",
      "126:\tlearn: 0.2802858\ttotal: 173ms\tremaining: 1.19s\n",
      "127:\tlearn: 0.2792382\ttotal: 174ms\tremaining: 1.18s\n",
      "128:\tlearn: 0.2777586\ttotal: 174ms\tremaining: 1.18s\n",
      "129:\tlearn: 0.2767973\ttotal: 175ms\tremaining: 1.17s\n",
      "130:\tlearn: 0.2756913\ttotal: 176ms\tremaining: 1.17s\n",
      "131:\tlearn: 0.2744617\ttotal: 177ms\tremaining: 1.16s\n",
      "132:\tlearn: 0.2735562\ttotal: 178ms\tremaining: 1.16s\n",
      "133:\tlearn: 0.2727149\ttotal: 179ms\tremaining: 1.15s\n",
      "134:\tlearn: 0.2718572\ttotal: 179ms\tremaining: 1.15s\n",
      "135:\tlearn: 0.2708274\ttotal: 180ms\tremaining: 1.14s\n",
      "136:\tlearn: 0.2700426\ttotal: 181ms\tremaining: 1.14s\n",
      "137:\tlearn: 0.2689075\ttotal: 182ms\tremaining: 1.14s\n",
      "138:\tlearn: 0.2681441\ttotal: 183ms\tremaining: 1.13s\n",
      "139:\tlearn: 0.2674113\ttotal: 184ms\tremaining: 1.13s\n",
      "140:\tlearn: 0.2666448\ttotal: 185ms\tremaining: 1.13s\n",
      "141:\tlearn: 0.2660432\ttotal: 186ms\tremaining: 1.12s\n",
      "142:\tlearn: 0.2648090\ttotal: 187ms\tremaining: 1.12s\n",
      "143:\tlearn: 0.2641062\ttotal: 188ms\tremaining: 1.12s\n",
      "144:\tlearn: 0.2636177\ttotal: 189ms\tremaining: 1.11s\n",
      "145:\tlearn: 0.2627715\ttotal: 190ms\tremaining: 1.11s\n"
     ]
    },
    {
     "name": "stdout",
     "output_type": "stream",
     "text": [
      "146:\tlearn: 0.2618416\ttotal: 191ms\tremaining: 1.11s\n",
      "147:\tlearn: 0.2613705\ttotal: 192ms\tremaining: 1.1s\n",
      "148:\tlearn: 0.2605130\ttotal: 193ms\tremaining: 1.1s\n",
      "149:\tlearn: 0.2603470\ttotal: 193ms\tremaining: 1.09s\n",
      "150:\tlearn: 0.2595275\ttotal: 194ms\tremaining: 1.09s\n",
      "151:\tlearn: 0.2586306\ttotal: 195ms\tremaining: 1.09s\n",
      "152:\tlearn: 0.2577945\ttotal: 196ms\tremaining: 1.08s\n",
      "153:\tlearn: 0.2572625\ttotal: 197ms\tremaining: 1.08s\n",
      "154:\tlearn: 0.2564345\ttotal: 199ms\tremaining: 1.08s\n",
      "155:\tlearn: 0.2561287\ttotal: 200ms\tremaining: 1.08s\n",
      "156:\tlearn: 0.2548805\ttotal: 201ms\tremaining: 1.08s\n",
      "157:\tlearn: 0.2541763\ttotal: 202ms\tremaining: 1.07s\n",
      "158:\tlearn: 0.2533474\ttotal: 202ms\tremaining: 1.07s\n",
      "159:\tlearn: 0.2523838\ttotal: 203ms\tremaining: 1.07s\n",
      "160:\tlearn: 0.2516526\ttotal: 204ms\tremaining: 1.06s\n",
      "161:\tlearn: 0.2511693\ttotal: 205ms\tremaining: 1.06s\n",
      "162:\tlearn: 0.2504618\ttotal: 206ms\tremaining: 1.06s\n",
      "163:\tlearn: 0.2494116\ttotal: 207ms\tremaining: 1.05s\n",
      "164:\tlearn: 0.2488913\ttotal: 208ms\tremaining: 1.05s\n",
      "165:\tlearn: 0.2478802\ttotal: 208ms\tremaining: 1.05s\n",
      "166:\tlearn: 0.2471323\ttotal: 209ms\tremaining: 1.04s\n",
      "167:\tlearn: 0.2460192\ttotal: 210ms\tremaining: 1.04s\n",
      "168:\tlearn: 0.2451152\ttotal: 211ms\tremaining: 1.04s\n",
      "169:\tlearn: 0.2445659\ttotal: 212ms\tremaining: 1.03s\n",
      "170:\tlearn: 0.2441020\ttotal: 213ms\tremaining: 1.03s\n",
      "171:\tlearn: 0.2432907\ttotal: 214ms\tremaining: 1.03s\n",
      "172:\tlearn: 0.2424716\ttotal: 215ms\tremaining: 1.03s\n",
      "173:\tlearn: 0.2417747\ttotal: 216ms\tremaining: 1.02s\n",
      "174:\tlearn: 0.2411860\ttotal: 217ms\tremaining: 1.02s\n",
      "175:\tlearn: 0.2405041\ttotal: 218ms\tremaining: 1.02s\n",
      "176:\tlearn: 0.2401619\ttotal: 218ms\tremaining: 1.01s\n",
      "177:\tlearn: 0.2394746\ttotal: 219ms\tremaining: 1.01s\n",
      "178:\tlearn: 0.2389509\ttotal: 220ms\tremaining: 1.01s\n",
      "179:\tlearn: 0.2382309\ttotal: 221ms\tremaining: 1.01s\n",
      "180:\tlearn: 0.2375957\ttotal: 222ms\tremaining: 1s\n",
      "181:\tlearn: 0.2371189\ttotal: 223ms\tremaining: 1s\n",
      "182:\tlearn: 0.2361283\ttotal: 223ms\tremaining: 998ms\n",
      "183:\tlearn: 0.2355885\ttotal: 224ms\tremaining: 994ms\n",
      "184:\tlearn: 0.2351642\ttotal: 225ms\tremaining: 991ms\n",
      "185:\tlearn: 0.2346089\ttotal: 226ms\tremaining: 988ms\n",
      "186:\tlearn: 0.2342887\ttotal: 227ms\tremaining: 986ms\n",
      "187:\tlearn: 0.2332432\ttotal: 228ms\tremaining: 985ms\n",
      "188:\tlearn: 0.2329081\ttotal: 229ms\tremaining: 983ms\n",
      "189:\tlearn: 0.2319121\ttotal: 230ms\tremaining: 981ms\n",
      "190:\tlearn: 0.2311017\ttotal: 231ms\tremaining: 979ms\n",
      "191:\tlearn: 0.2305847\ttotal: 232ms\tremaining: 976ms\n",
      "192:\tlearn: 0.2297058\ttotal: 233ms\tremaining: 973ms\n",
      "193:\tlearn: 0.2293967\ttotal: 233ms\tremaining: 970ms\n",
      "194:\tlearn: 0.2288445\ttotal: 234ms\tremaining: 967ms\n",
      "195:\tlearn: 0.2281558\ttotal: 235ms\tremaining: 964ms\n",
      "196:\tlearn: 0.2275561\ttotal: 236ms\tremaining: 962ms\n",
      "197:\tlearn: 0.2268882\ttotal: 237ms\tremaining: 959ms\n",
      "198:\tlearn: 0.2259187\ttotal: 238ms\tremaining: 957ms\n",
      "199:\tlearn: 0.2254224\ttotal: 238ms\tremaining: 954ms\n",
      "200:\tlearn: 0.2251513\ttotal: 239ms\tremaining: 951ms\n",
      "201:\tlearn: 0.2243458\ttotal: 240ms\tremaining: 948ms\n",
      "202:\tlearn: 0.2238109\ttotal: 241ms\tremaining: 946ms\n",
      "203:\tlearn: 0.2236014\ttotal: 242ms\tremaining: 943ms\n",
      "204:\tlearn: 0.2226782\ttotal: 243ms\tremaining: 941ms\n",
      "205:\tlearn: 0.2221856\ttotal: 244ms\tremaining: 939ms\n",
      "206:\tlearn: 0.2216601\ttotal: 245ms\tremaining: 937ms\n",
      "207:\tlearn: 0.2210325\ttotal: 246ms\tremaining: 935ms\n",
      "208:\tlearn: 0.2206218\ttotal: 247ms\tremaining: 933ms\n",
      "209:\tlearn: 0.2200908\ttotal: 248ms\tremaining: 931ms\n",
      "210:\tlearn: 0.2195605\ttotal: 248ms\tremaining: 929ms\n",
      "211:\tlearn: 0.2192270\ttotal: 249ms\tremaining: 926ms\n",
      "212:\tlearn: 0.2188701\ttotal: 250ms\tremaining: 924ms\n",
      "213:\tlearn: 0.2182364\ttotal: 251ms\tremaining: 922ms\n",
      "214:\tlearn: 0.2177751\ttotal: 252ms\tremaining: 919ms\n",
      "215:\tlearn: 0.2173485\ttotal: 253ms\tremaining: 917ms\n",
      "216:\tlearn: 0.2168919\ttotal: 253ms\tremaining: 914ms\n",
      "217:\tlearn: 0.2163327\ttotal: 254ms\tremaining: 912ms\n",
      "218:\tlearn: 0.2157439\ttotal: 255ms\tremaining: 910ms\n",
      "219:\tlearn: 0.2154055\ttotal: 256ms\tremaining: 907ms\n",
      "220:\tlearn: 0.2148060\ttotal: 257ms\tremaining: 905ms\n",
      "221:\tlearn: 0.2143799\ttotal: 257ms\tremaining: 902ms\n",
      "222:\tlearn: 0.2141531\ttotal: 258ms\tremaining: 901ms\n",
      "223:\tlearn: 0.2137319\ttotal: 260ms\tremaining: 899ms\n",
      "224:\tlearn: 0.2135340\ttotal: 261ms\tremaining: 898ms\n",
      "225:\tlearn: 0.2132474\ttotal: 262ms\tremaining: 897ms\n",
      "226:\tlearn: 0.2124259\ttotal: 263ms\tremaining: 895ms\n",
      "227:\tlearn: 0.2120510\ttotal: 264ms\tremaining: 893ms\n",
      "228:\tlearn: 0.2114689\ttotal: 265ms\tremaining: 891ms\n",
      "229:\tlearn: 0.2111103\ttotal: 266ms\tremaining: 889ms\n",
      "230:\tlearn: 0.2106639\ttotal: 266ms\tremaining: 887ms\n",
      "231:\tlearn: 0.2101662\ttotal: 267ms\tremaining: 885ms\n",
      "232:\tlearn: 0.2100178\ttotal: 268ms\tremaining: 883ms\n",
      "233:\tlearn: 0.2094541\ttotal: 269ms\tremaining: 881ms\n",
      "234:\tlearn: 0.2089766\ttotal: 270ms\tremaining: 879ms\n",
      "235:\tlearn: 0.2085271\ttotal: 271ms\tremaining: 877ms\n",
      "236:\tlearn: 0.2080350\ttotal: 272ms\tremaining: 875ms\n",
      "237:\tlearn: 0.2078344\ttotal: 273ms\tremaining: 873ms\n",
      "238:\tlearn: 0.2072682\ttotal: 273ms\tremaining: 870ms\n",
      "239:\tlearn: 0.2068658\ttotal: 274ms\tremaining: 869ms\n",
      "240:\tlearn: 0.2065761\ttotal: 276ms\tremaining: 868ms\n",
      "241:\tlearn: 0.2063694\ttotal: 277ms\tremaining: 866ms\n",
      "242:\tlearn: 0.2059603\ttotal: 278ms\tremaining: 865ms\n",
      "243:\tlearn: 0.2056814\ttotal: 278ms\tremaining: 863ms\n",
      "244:\tlearn: 0.2052953\ttotal: 279ms\tremaining: 861ms\n",
      "245:\tlearn: 0.2047370\ttotal: 280ms\tremaining: 859ms\n",
      "246:\tlearn: 0.2046157\ttotal: 281ms\tremaining: 857ms\n",
      "247:\tlearn: 0.2041033\ttotal: 282ms\tremaining: 854ms\n",
      "248:\tlearn: 0.2038153\ttotal: 283ms\tremaining: 852ms\n",
      "249:\tlearn: 0.2032638\ttotal: 283ms\tremaining: 850ms\n",
      "250:\tlearn: 0.2031562\ttotal: 284ms\tremaining: 848ms\n",
      "251:\tlearn: 0.2027836\ttotal: 285ms\tremaining: 846ms\n",
      "252:\tlearn: 0.2021954\ttotal: 286ms\tremaining: 844ms\n",
      "253:\tlearn: 0.2016365\ttotal: 287ms\tremaining: 842ms\n",
      "254:\tlearn: 0.2012306\ttotal: 288ms\tremaining: 840ms\n",
      "255:\tlearn: 0.2008304\ttotal: 288ms\tremaining: 838ms\n",
      "256:\tlearn: 0.2001720\ttotal: 289ms\tremaining: 836ms\n"
     ]
    },
    {
     "name": "stdout",
     "output_type": "stream",
     "text": [
      "257:\tlearn: 0.1997762\ttotal: 290ms\tremaining: 835ms\n",
      "258:\tlearn: 0.1996464\ttotal: 292ms\tremaining: 834ms\n",
      "259:\tlearn: 0.1992432\ttotal: 293ms\tremaining: 833ms\n",
      "260:\tlearn: 0.1985887\ttotal: 294ms\tremaining: 832ms\n",
      "261:\tlearn: 0.1980803\ttotal: 295ms\tremaining: 831ms\n",
      "262:\tlearn: 0.1977444\ttotal: 296ms\tremaining: 829ms\n",
      "263:\tlearn: 0.1975685\ttotal: 297ms\tremaining: 827ms\n",
      "264:\tlearn: 0.1969070\ttotal: 297ms\tremaining: 825ms\n",
      "265:\tlearn: 0.1965204\ttotal: 298ms\tremaining: 823ms\n",
      "266:\tlearn: 0.1960177\ttotal: 299ms\tremaining: 822ms\n",
      "267:\tlearn: 0.1956389\ttotal: 300ms\tremaining: 820ms\n",
      "268:\tlearn: 0.1952311\ttotal: 301ms\tremaining: 818ms\n",
      "269:\tlearn: 0.1947922\ttotal: 302ms\tremaining: 816ms\n",
      "270:\tlearn: 0.1946739\ttotal: 303ms\tremaining: 814ms\n",
      "271:\tlearn: 0.1940129\ttotal: 304ms\tremaining: 812ms\n",
      "272:\tlearn: 0.1939365\ttotal: 304ms\tremaining: 810ms\n",
      "273:\tlearn: 0.1937019\ttotal: 305ms\tremaining: 809ms\n",
      "274:\tlearn: 0.1932814\ttotal: 306ms\tremaining: 807ms\n",
      "275:\tlearn: 0.1926078\ttotal: 307ms\tremaining: 806ms\n",
      "276:\tlearn: 0.1917461\ttotal: 308ms\tremaining: 804ms\n",
      "277:\tlearn: 0.1913321\ttotal: 309ms\tremaining: 803ms\n",
      "278:\tlearn: 0.1910223\ttotal: 310ms\tremaining: 801ms\n",
      "279:\tlearn: 0.1904494\ttotal: 311ms\tremaining: 799ms\n",
      "280:\tlearn: 0.1900862\ttotal: 312ms\tremaining: 798ms\n",
      "281:\tlearn: 0.1895620\ttotal: 313ms\tremaining: 796ms\n",
      "282:\tlearn: 0.1891974\ttotal: 314ms\tremaining: 794ms\n",
      "283:\tlearn: 0.1889247\ttotal: 314ms\tremaining: 793ms\n",
      "284:\tlearn: 0.1884341\ttotal: 315ms\tremaining: 791ms\n",
      "285:\tlearn: 0.1881182\ttotal: 316ms\tremaining: 789ms\n",
      "286:\tlearn: 0.1875436\ttotal: 317ms\tremaining: 787ms\n",
      "287:\tlearn: 0.1870236\ttotal: 318ms\tremaining: 785ms\n",
      "288:\tlearn: 0.1867091\ttotal: 318ms\tremaining: 783ms\n",
      "289:\tlearn: 0.1864175\ttotal: 319ms\tremaining: 782ms\n",
      "290:\tlearn: 0.1862162\ttotal: 320ms\tremaining: 780ms\n",
      "291:\tlearn: 0.1856850\ttotal: 321ms\tremaining: 779ms\n",
      "292:\tlearn: 0.1851810\ttotal: 322ms\tremaining: 777ms\n",
      "293:\tlearn: 0.1848688\ttotal: 323ms\tremaining: 776ms\n",
      "294:\tlearn: 0.1842832\ttotal: 325ms\tremaining: 776ms\n",
      "295:\tlearn: 0.1838848\ttotal: 326ms\tremaining: 774ms\n",
      "296:\tlearn: 0.1835998\ttotal: 327ms\tremaining: 773ms\n",
      "297:\tlearn: 0.1833346\ttotal: 328ms\tremaining: 772ms\n",
      "298:\tlearn: 0.1829666\ttotal: 328ms\tremaining: 770ms\n",
      "299:\tlearn: 0.1823350\ttotal: 329ms\tremaining: 768ms\n",
      "300:\tlearn: 0.1817942\ttotal: 330ms\tremaining: 766ms\n",
      "301:\tlearn: 0.1813953\ttotal: 331ms\tremaining: 765ms\n",
      "302:\tlearn: 0.1807376\ttotal: 332ms\tremaining: 763ms\n",
      "303:\tlearn: 0.1802197\ttotal: 332ms\tremaining: 761ms\n",
      "304:\tlearn: 0.1800895\ttotal: 333ms\tremaining: 759ms\n",
      "305:\tlearn: 0.1796214\ttotal: 334ms\tremaining: 758ms\n",
      "306:\tlearn: 0.1792874\ttotal: 335ms\tremaining: 756ms\n",
      "307:\tlearn: 0.1787556\ttotal: 336ms\tremaining: 755ms\n",
      "308:\tlearn: 0.1786043\ttotal: 337ms\tremaining: 753ms\n",
      "309:\tlearn: 0.1783383\ttotal: 338ms\tremaining: 751ms\n",
      "310:\tlearn: 0.1782031\ttotal: 338ms\tremaining: 750ms\n",
      "311:\tlearn: 0.1778147\ttotal: 339ms\tremaining: 748ms\n",
      "312:\tlearn: 0.1773391\ttotal: 340ms\tremaining: 747ms\n",
      "313:\tlearn: 0.1770362\ttotal: 341ms\tremaining: 745ms\n",
      "314:\tlearn: 0.1764435\ttotal: 342ms\tremaining: 743ms\n",
      "315:\tlearn: 0.1757588\ttotal: 343ms\tremaining: 742ms\n",
      "316:\tlearn: 0.1755075\ttotal: 344ms\tremaining: 741ms\n",
      "317:\tlearn: 0.1750141\ttotal: 345ms\tremaining: 739ms\n",
      "318:\tlearn: 0.1747537\ttotal: 346ms\tremaining: 738ms\n",
      "319:\tlearn: 0.1743279\ttotal: 347ms\tremaining: 736ms\n",
      "320:\tlearn: 0.1737861\ttotal: 347ms\tremaining: 735ms\n",
      "321:\tlearn: 0.1735863\ttotal: 348ms\tremaining: 733ms\n",
      "322:\tlearn: 0.1732342\ttotal: 349ms\tremaining: 732ms\n",
      "323:\tlearn: 0.1731276\ttotal: 350ms\tremaining: 730ms\n",
      "324:\tlearn: 0.1726084\ttotal: 351ms\tremaining: 728ms\n",
      "325:\tlearn: 0.1721262\ttotal: 351ms\tremaining: 727ms\n",
      "326:\tlearn: 0.1720191\ttotal: 352ms\tremaining: 725ms\n",
      "327:\tlearn: 0.1715299\ttotal: 353ms\tremaining: 724ms\n",
      "328:\tlearn: 0.1711641\ttotal: 354ms\tremaining: 722ms\n",
      "329:\tlearn: 0.1708913\ttotal: 355ms\tremaining: 721ms\n",
      "330:\tlearn: 0.1703922\ttotal: 356ms\tremaining: 720ms\n",
      "331:\tlearn: 0.1697978\ttotal: 357ms\tremaining: 718ms\n",
      "332:\tlearn: 0.1695664\ttotal: 358ms\tremaining: 717ms\n",
      "333:\tlearn: 0.1691994\ttotal: 359ms\tremaining: 715ms\n",
      "334:\tlearn: 0.1687920\ttotal: 359ms\tremaining: 713ms\n",
      "335:\tlearn: 0.1685356\ttotal: 360ms\tremaining: 712ms\n",
      "336:\tlearn: 0.1682010\ttotal: 361ms\tremaining: 710ms\n",
      "337:\tlearn: 0.1678192\ttotal: 362ms\tremaining: 709ms\n",
      "338:\tlearn: 0.1674202\ttotal: 363ms\tremaining: 707ms\n",
      "339:\tlearn: 0.1669633\ttotal: 363ms\tremaining: 706ms\n",
      "340:\tlearn: 0.1665635\ttotal: 364ms\tremaining: 704ms\n",
      "341:\tlearn: 0.1663719\ttotal: 365ms\tremaining: 702ms\n",
      "342:\tlearn: 0.1660639\ttotal: 366ms\tremaining: 701ms\n",
      "343:\tlearn: 0.1654605\ttotal: 367ms\tremaining: 699ms\n",
      "344:\tlearn: 0.1651665\ttotal: 367ms\tremaining: 698ms\n",
      "345:\tlearn: 0.1647066\ttotal: 368ms\tremaining: 696ms\n",
      "346:\tlearn: 0.1643240\ttotal: 369ms\tremaining: 695ms\n",
      "347:\tlearn: 0.1639435\ttotal: 370ms\tremaining: 694ms\n",
      "348:\tlearn: 0.1635168\ttotal: 371ms\tremaining: 692ms\n",
      "349:\tlearn: 0.1632367\ttotal: 372ms\tremaining: 691ms\n",
      "350:\tlearn: 0.1630348\ttotal: 373ms\tremaining: 690ms\n",
      "351:\tlearn: 0.1626297\ttotal: 374ms\tremaining: 689ms\n",
      "352:\tlearn: 0.1622473\ttotal: 375ms\tremaining: 687ms\n",
      "353:\tlearn: 0.1621631\ttotal: 376ms\tremaining: 686ms\n",
      "354:\tlearn: 0.1617003\ttotal: 377ms\tremaining: 684ms\n",
      "355:\tlearn: 0.1613511\ttotal: 377ms\tremaining: 683ms\n",
      "356:\tlearn: 0.1609642\ttotal: 378ms\tremaining: 681ms\n"
     ]
    },
    {
     "name": "stdout",
     "output_type": "stream",
     "text": [
      "357:\tlearn: 0.1605949\ttotal: 379ms\tremaining: 680ms\n",
      "358:\tlearn: 0.1601502\ttotal: 380ms\tremaining: 679ms\n",
      "359:\tlearn: 0.1596800\ttotal: 381ms\tremaining: 677ms\n",
      "360:\tlearn: 0.1593389\ttotal: 382ms\tremaining: 676ms\n",
      "361:\tlearn: 0.1590473\ttotal: 383ms\tremaining: 674ms\n",
      "362:\tlearn: 0.1588102\ttotal: 383ms\tremaining: 673ms\n",
      "363:\tlearn: 0.1585358\ttotal: 385ms\tremaining: 672ms\n",
      "364:\tlearn: 0.1582975\ttotal: 386ms\tremaining: 671ms\n",
      "365:\tlearn: 0.1581063\ttotal: 387ms\tremaining: 671ms\n",
      "366:\tlearn: 0.1577182\ttotal: 388ms\tremaining: 670ms\n",
      "367:\tlearn: 0.1575047\ttotal: 389ms\tremaining: 669ms\n",
      "368:\tlearn: 0.1572699\ttotal: 390ms\tremaining: 667ms\n",
      "369:\tlearn: 0.1568511\ttotal: 391ms\tremaining: 666ms\n",
      "370:\tlearn: 0.1565287\ttotal: 392ms\tremaining: 664ms\n",
      "371:\tlearn: 0.1561578\ttotal: 393ms\tremaining: 663ms\n",
      "372:\tlearn: 0.1560381\ttotal: 393ms\tremaining: 661ms\n",
      "373:\tlearn: 0.1557001\ttotal: 394ms\tremaining: 660ms\n",
      "374:\tlearn: 0.1554733\ttotal: 395ms\tremaining: 659ms\n",
      "375:\tlearn: 0.1550320\ttotal: 396ms\tremaining: 657ms\n",
      "376:\tlearn: 0.1549100\ttotal: 397ms\tremaining: 655ms\n",
      "377:\tlearn: 0.1544932\ttotal: 398ms\tremaining: 654ms\n",
      "378:\tlearn: 0.1541303\ttotal: 398ms\tremaining: 653ms\n",
      "379:\tlearn: 0.1536700\ttotal: 399ms\tremaining: 651ms\n",
      "380:\tlearn: 0.1531691\ttotal: 400ms\tremaining: 650ms\n",
      "381:\tlearn: 0.1529083\ttotal: 401ms\tremaining: 649ms\n",
      "382:\tlearn: 0.1526122\ttotal: 402ms\tremaining: 648ms\n",
      "383:\tlearn: 0.1523032\ttotal: 403ms\tremaining: 647ms\n",
      "384:\tlearn: 0.1518474\ttotal: 404ms\tremaining: 645ms\n",
      "385:\tlearn: 0.1515055\ttotal: 405ms\tremaining: 644ms\n",
      "386:\tlearn: 0.1511558\ttotal: 406ms\tremaining: 643ms\n",
      "387:\tlearn: 0.1509042\ttotal: 407ms\tremaining: 642ms\n",
      "388:\tlearn: 0.1507194\ttotal: 408ms\tremaining: 641ms\n",
      "389:\tlearn: 0.1503727\ttotal: 409ms\tremaining: 639ms\n",
      "390:\tlearn: 0.1502590\ttotal: 409ms\tremaining: 638ms\n",
      "391:\tlearn: 0.1499679\ttotal: 410ms\tremaining: 636ms\n",
      "392:\tlearn: 0.1498184\ttotal: 411ms\tremaining: 635ms\n",
      "393:\tlearn: 0.1492898\ttotal: 412ms\tremaining: 634ms\n",
      "394:\tlearn: 0.1487860\ttotal: 413ms\tremaining: 633ms\n",
      "395:\tlearn: 0.1485691\ttotal: 414ms\tremaining: 631ms\n",
      "396:\tlearn: 0.1481172\ttotal: 415ms\tremaining: 630ms\n",
      "397:\tlearn: 0.1478368\ttotal: 416ms\tremaining: 629ms\n",
      "398:\tlearn: 0.1476204\ttotal: 417ms\tremaining: 628ms\n",
      "399:\tlearn: 0.1473327\ttotal: 418ms\tremaining: 627ms\n",
      "400:\tlearn: 0.1469698\ttotal: 419ms\tremaining: 626ms\n",
      "401:\tlearn: 0.1466611\ttotal: 420ms\tremaining: 624ms\n",
      "402:\tlearn: 0.1463120\ttotal: 421ms\tremaining: 623ms\n",
      "403:\tlearn: 0.1459599\ttotal: 421ms\tremaining: 622ms\n",
      "404:\tlearn: 0.1457882\ttotal: 422ms\tremaining: 620ms\n",
      "405:\tlearn: 0.1457594\ttotal: 423ms\tremaining: 619ms\n",
      "406:\tlearn: 0.1453127\ttotal: 424ms\tremaining: 618ms\n",
      "407:\tlearn: 0.1449177\ttotal: 425ms\tremaining: 616ms\n",
      "408:\tlearn: 0.1445830\ttotal: 426ms\tremaining: 615ms\n",
      "409:\tlearn: 0.1443488\ttotal: 426ms\tremaining: 614ms\n",
      "410:\tlearn: 0.1440207\ttotal: 427ms\tremaining: 612ms\n",
      "411:\tlearn: 0.1437401\ttotal: 428ms\tremaining: 611ms\n",
      "412:\tlearn: 0.1435159\ttotal: 429ms\tremaining: 610ms\n",
      "413:\tlearn: 0.1432812\ttotal: 431ms\tremaining: 609ms\n",
      "414:\tlearn: 0.1430236\ttotal: 431ms\tremaining: 608ms\n",
      "415:\tlearn: 0.1427307\ttotal: 432ms\tremaining: 607ms\n",
      "416:\tlearn: 0.1424741\ttotal: 433ms\tremaining: 606ms\n",
      "417:\tlearn: 0.1422458\ttotal: 435ms\tremaining: 605ms\n",
      "418:\tlearn: 0.1419052\ttotal: 435ms\tremaining: 604ms\n",
      "419:\tlearn: 0.1417207\ttotal: 436ms\tremaining: 603ms\n",
      "420:\tlearn: 0.1415247\ttotal: 437ms\tremaining: 601ms\n",
      "421:\tlearn: 0.1410899\ttotal: 438ms\tremaining: 600ms\n",
      "422:\tlearn: 0.1410162\ttotal: 439ms\tremaining: 599ms\n",
      "423:\tlearn: 0.1407697\ttotal: 440ms\tremaining: 597ms\n",
      "424:\tlearn: 0.1404534\ttotal: 440ms\tremaining: 596ms\n",
      "425:\tlearn: 0.1400257\ttotal: 441ms\tremaining: 595ms\n",
      "426:\tlearn: 0.1396693\ttotal: 442ms\tremaining: 593ms\n",
      "427:\tlearn: 0.1394013\ttotal: 443ms\tremaining: 592ms\n",
      "428:\tlearn: 0.1391044\ttotal: 444ms\tremaining: 591ms\n",
      "429:\tlearn: 0.1389847\ttotal: 445ms\tremaining: 590ms\n",
      "430:\tlearn: 0.1388150\ttotal: 446ms\tremaining: 589ms\n",
      "431:\tlearn: 0.1387547\ttotal: 448ms\tremaining: 589ms\n",
      "432:\tlearn: 0.1386489\ttotal: 450ms\tremaining: 589ms\n",
      "433:\tlearn: 0.1384449\ttotal: 451ms\tremaining: 588ms\n",
      "434:\tlearn: 0.1380053\ttotal: 452ms\tremaining: 587ms\n",
      "435:\tlearn: 0.1377256\ttotal: 452ms\tremaining: 585ms\n",
      "436:\tlearn: 0.1374612\ttotal: 453ms\tremaining: 584ms\n",
      "437:\tlearn: 0.1370403\ttotal: 454ms\tremaining: 583ms\n",
      "438:\tlearn: 0.1367480\ttotal: 455ms\tremaining: 582ms\n",
      "439:\tlearn: 0.1365010\ttotal: 456ms\tremaining: 581ms\n",
      "440:\tlearn: 0.1362537\ttotal: 457ms\tremaining: 579ms\n",
      "441:\tlearn: 0.1359806\ttotal: 458ms\tremaining: 578ms\n",
      "442:\tlearn: 0.1357345\ttotal: 459ms\tremaining: 577ms\n",
      "443:\tlearn: 0.1354793\ttotal: 460ms\tremaining: 576ms\n",
      "444:\tlearn: 0.1351877\ttotal: 461ms\tremaining: 574ms\n",
      "445:\tlearn: 0.1348560\ttotal: 462ms\tremaining: 574ms\n",
      "446:\tlearn: 0.1345213\ttotal: 463ms\tremaining: 573ms\n",
      "447:\tlearn: 0.1342022\ttotal: 465ms\tremaining: 572ms\n",
      "448:\tlearn: 0.1338556\ttotal: 466ms\tremaining: 572ms\n",
      "449:\tlearn: 0.1334999\ttotal: 467ms\tremaining: 571ms\n",
      "450:\tlearn: 0.1333865\ttotal: 468ms\tremaining: 570ms\n",
      "451:\tlearn: 0.1330940\ttotal: 469ms\tremaining: 569ms\n",
      "452:\tlearn: 0.1327745\ttotal: 470ms\tremaining: 568ms\n",
      "453:\tlearn: 0.1325459\ttotal: 471ms\tremaining: 566ms\n",
      "454:\tlearn: 0.1325024\ttotal: 472ms\tremaining: 565ms\n",
      "455:\tlearn: 0.1323031\ttotal: 472ms\tremaining: 564ms\n",
      "456:\tlearn: 0.1319537\ttotal: 473ms\tremaining: 562ms\n",
      "457:\tlearn: 0.1317926\ttotal: 474ms\tremaining: 561ms\n",
      "458:\tlearn: 0.1314716\ttotal: 475ms\tremaining: 560ms\n",
      "459:\tlearn: 0.1314368\ttotal: 476ms\tremaining: 559ms\n",
      "460:\tlearn: 0.1312828\ttotal: 477ms\tremaining: 557ms\n",
      "461:\tlearn: 0.1309830\ttotal: 478ms\tremaining: 556ms\n"
     ]
    },
    {
     "name": "stdout",
     "output_type": "stream",
     "text": [
      "462:\tlearn: 0.1307600\ttotal: 479ms\tremaining: 556ms\n",
      "463:\tlearn: 0.1305465\ttotal: 480ms\tremaining: 555ms\n",
      "464:\tlearn: 0.1305080\ttotal: 482ms\tremaining: 554ms\n",
      "465:\tlearn: 0.1302924\ttotal: 482ms\tremaining: 553ms\n",
      "466:\tlearn: 0.1299004\ttotal: 483ms\tremaining: 552ms\n",
      "467:\tlearn: 0.1295172\ttotal: 484ms\tremaining: 550ms\n",
      "468:\tlearn: 0.1294819\ttotal: 485ms\tremaining: 549ms\n",
      "469:\tlearn: 0.1291125\ttotal: 486ms\tremaining: 548ms\n",
      "470:\tlearn: 0.1288402\ttotal: 487ms\tremaining: 547ms\n",
      "471:\tlearn: 0.1285936\ttotal: 488ms\tremaining: 546ms\n",
      "472:\tlearn: 0.1285640\ttotal: 489ms\tremaining: 544ms\n",
      "473:\tlearn: 0.1282519\ttotal: 489ms\tremaining: 543ms\n",
      "474:\tlearn: 0.1279171\ttotal: 490ms\tremaining: 542ms\n",
      "475:\tlearn: 0.1276474\ttotal: 491ms\tremaining: 541ms\n",
      "476:\tlearn: 0.1274637\ttotal: 492ms\tremaining: 539ms\n",
      "477:\tlearn: 0.1272317\ttotal: 493ms\tremaining: 538ms\n",
      "478:\tlearn: 0.1271066\ttotal: 494ms\tremaining: 537ms\n",
      "479:\tlearn: 0.1267275\ttotal: 495ms\tremaining: 536ms\n",
      "480:\tlearn: 0.1265222\ttotal: 496ms\tremaining: 535ms\n",
      "481:\tlearn: 0.1262794\ttotal: 497ms\tremaining: 534ms\n",
      "482:\tlearn: 0.1261378\ttotal: 498ms\tremaining: 533ms\n",
      "483:\tlearn: 0.1258566\ttotal: 499ms\tremaining: 532ms\n",
      "484:\tlearn: 0.1255222\ttotal: 500ms\tremaining: 531ms\n",
      "485:\tlearn: 0.1253482\ttotal: 501ms\tremaining: 530ms\n",
      "486:\tlearn: 0.1251033\ttotal: 502ms\tremaining: 529ms\n",
      "487:\tlearn: 0.1249394\ttotal: 503ms\tremaining: 527ms\n",
      "488:\tlearn: 0.1247527\ttotal: 503ms\tremaining: 526ms\n",
      "489:\tlearn: 0.1245156\ttotal: 504ms\tremaining: 525ms\n",
      "490:\tlearn: 0.1242749\ttotal: 505ms\tremaining: 524ms\n",
      "491:\tlearn: 0.1239769\ttotal: 506ms\tremaining: 523ms\n",
      "492:\tlearn: 0.1237373\ttotal: 507ms\tremaining: 521ms\n",
      "493:\tlearn: 0.1234796\ttotal: 508ms\tremaining: 520ms\n",
      "494:\tlearn: 0.1232052\ttotal: 509ms\tremaining: 519ms\n",
      "495:\tlearn: 0.1228874\ttotal: 509ms\tremaining: 517ms\n",
      "496:\tlearn: 0.1226982\ttotal: 510ms\tremaining: 517ms\n",
      "497:\tlearn: 0.1225675\ttotal: 512ms\tremaining: 516ms\n",
      "498:\tlearn: 0.1224995\ttotal: 513ms\tremaining: 515ms\n",
      "499:\tlearn: 0.1222933\ttotal: 514ms\tremaining: 514ms\n",
      "500:\tlearn: 0.1221249\ttotal: 515ms\tremaining: 513ms\n",
      "501:\tlearn: 0.1218452\ttotal: 516ms\tremaining: 512ms\n",
      "502:\tlearn: 0.1217344\ttotal: 516ms\tremaining: 510ms\n",
      "503:\tlearn: 0.1213584\ttotal: 517ms\tremaining: 509ms\n",
      "504:\tlearn: 0.1210241\ttotal: 518ms\tremaining: 508ms\n",
      "505:\tlearn: 0.1208362\ttotal: 519ms\tremaining: 506ms\n",
      "506:\tlearn: 0.1206259\ttotal: 520ms\tremaining: 505ms\n",
      "507:\tlearn: 0.1204141\ttotal: 521ms\tremaining: 504ms\n",
      "508:\tlearn: 0.1202141\ttotal: 521ms\tremaining: 503ms\n",
      "509:\tlearn: 0.1200439\ttotal: 522ms\tremaining: 502ms\n",
      "510:\tlearn: 0.1197825\ttotal: 523ms\tremaining: 501ms\n",
      "511:\tlearn: 0.1194837\ttotal: 524ms\tremaining: 499ms\n",
      "512:\tlearn: 0.1193176\ttotal: 525ms\tremaining: 498ms\n",
      "513:\tlearn: 0.1190065\ttotal: 526ms\tremaining: 497ms\n",
      "514:\tlearn: 0.1188309\ttotal: 527ms\tremaining: 496ms\n",
      "515:\tlearn: 0.1185974\ttotal: 528ms\tremaining: 495ms\n",
      "516:\tlearn: 0.1183268\ttotal: 529ms\tremaining: 494ms\n",
      "517:\tlearn: 0.1182712\ttotal: 530ms\tremaining: 493ms\n",
      "518:\tlearn: 0.1179414\ttotal: 531ms\tremaining: 492ms\n",
      "519:\tlearn: 0.1177079\ttotal: 531ms\tremaining: 491ms\n",
      "520:\tlearn: 0.1173589\ttotal: 532ms\tremaining: 489ms\n",
      "521:\tlearn: 0.1171362\ttotal: 533ms\tremaining: 488ms\n",
      "522:\tlearn: 0.1167892\ttotal: 534ms\tremaining: 487ms\n",
      "523:\tlearn: 0.1164936\ttotal: 535ms\tremaining: 486ms\n",
      "524:\tlearn: 0.1164463\ttotal: 536ms\tremaining: 485ms\n",
      "525:\tlearn: 0.1162489\ttotal: 537ms\tremaining: 483ms\n",
      "526:\tlearn: 0.1160088\ttotal: 537ms\tremaining: 482ms\n",
      "527:\tlearn: 0.1156870\ttotal: 538ms\tremaining: 481ms\n",
      "528:\tlearn: 0.1155927\ttotal: 539ms\tremaining: 480ms\n",
      "529:\tlearn: 0.1154658\ttotal: 540ms\tremaining: 479ms\n",
      "530:\tlearn: 0.1151320\ttotal: 541ms\tremaining: 478ms\n",
      "531:\tlearn: 0.1148957\ttotal: 542ms\tremaining: 477ms\n",
      "532:\tlearn: 0.1148705\ttotal: 543ms\tremaining: 476ms\n",
      "533:\tlearn: 0.1148321\ttotal: 544ms\tremaining: 475ms\n",
      "534:\tlearn: 0.1146275\ttotal: 545ms\tremaining: 474ms\n",
      "535:\tlearn: 0.1143158\ttotal: 546ms\tremaining: 472ms\n",
      "536:\tlearn: 0.1141584\ttotal: 547ms\tremaining: 471ms\n",
      "537:\tlearn: 0.1141244\ttotal: 547ms\tremaining: 470ms\n",
      "538:\tlearn: 0.1141063\ttotal: 548ms\tremaining: 469ms\n",
      "539:\tlearn: 0.1138390\ttotal: 549ms\tremaining: 468ms\n",
      "540:\tlearn: 0.1138158\ttotal: 550ms\tremaining: 467ms\n",
      "541:\tlearn: 0.1135151\ttotal: 551ms\tremaining: 465ms\n",
      "542:\tlearn: 0.1132649\ttotal: 552ms\tremaining: 464ms\n",
      "543:\tlearn: 0.1130038\ttotal: 552ms\tremaining: 463ms\n",
      "544:\tlearn: 0.1129871\ttotal: 553ms\tremaining: 462ms\n",
      "545:\tlearn: 0.1127043\ttotal: 554ms\tremaining: 461ms\n",
      "546:\tlearn: 0.1125384\ttotal: 555ms\tremaining: 460ms\n",
      "547:\tlearn: 0.1123696\ttotal: 556ms\tremaining: 458ms\n",
      "548:\tlearn: 0.1123302\ttotal: 557ms\tremaining: 457ms\n",
      "549:\tlearn: 0.1120863\ttotal: 558ms\tremaining: 457ms\n",
      "550:\tlearn: 0.1118596\ttotal: 560ms\tremaining: 456ms\n",
      "551:\tlearn: 0.1116763\ttotal: 561ms\tremaining: 455ms\n",
      "552:\tlearn: 0.1116577\ttotal: 561ms\tremaining: 454ms\n",
      "553:\tlearn: 0.1116303\ttotal: 562ms\tremaining: 453ms\n",
      "554:\tlearn: 0.1114137\ttotal: 563ms\tremaining: 452ms\n",
      "555:\tlearn: 0.1113279\ttotal: 564ms\tremaining: 450ms\n",
      "556:\tlearn: 0.1113068\ttotal: 565ms\tremaining: 449ms\n",
      "557:\tlearn: 0.1112765\ttotal: 566ms\tremaining: 448ms\n",
      "558:\tlearn: 0.1111929\ttotal: 566ms\tremaining: 447ms\n"
     ]
    },
    {
     "name": "stdout",
     "output_type": "stream",
     "text": [
      "559:\tlearn: 0.1110135\ttotal: 568ms\tremaining: 446ms\n",
      "560:\tlearn: 0.1109377\ttotal: 569ms\tremaining: 445ms\n",
      "561:\tlearn: 0.1107934\ttotal: 569ms\tremaining: 444ms\n",
      "562:\tlearn: 0.1105406\ttotal: 570ms\tremaining: 443ms\n",
      "563:\tlearn: 0.1103065\ttotal: 571ms\tremaining: 441ms\n",
      "564:\tlearn: 0.1100369\ttotal: 572ms\tremaining: 441ms\n",
      "565:\tlearn: 0.1098372\ttotal: 573ms\tremaining: 440ms\n",
      "566:\tlearn: 0.1096268\ttotal: 574ms\tremaining: 439ms\n",
      "567:\tlearn: 0.1094602\ttotal: 576ms\tremaining: 438ms\n",
      "568:\tlearn: 0.1093305\ttotal: 577ms\tremaining: 437ms\n",
      "569:\tlearn: 0.1092020\ttotal: 578ms\tremaining: 436ms\n",
      "570:\tlearn: 0.1091702\ttotal: 578ms\tremaining: 434ms\n",
      "571:\tlearn: 0.1089294\ttotal: 579ms\tremaining: 433ms\n",
      "572:\tlearn: 0.1086384\ttotal: 580ms\tremaining: 432ms\n",
      "573:\tlearn: 0.1085931\ttotal: 581ms\tremaining: 431ms\n",
      "574:\tlearn: 0.1083781\ttotal: 582ms\tremaining: 430ms\n",
      "575:\tlearn: 0.1081711\ttotal: 583ms\tremaining: 429ms\n",
      "576:\tlearn: 0.1079322\ttotal: 584ms\tremaining: 428ms\n",
      "577:\tlearn: 0.1076439\ttotal: 584ms\tremaining: 427ms\n",
      "578:\tlearn: 0.1074084\ttotal: 585ms\tremaining: 425ms\n",
      "579:\tlearn: 0.1073357\ttotal: 586ms\tremaining: 424ms\n",
      "580:\tlearn: 0.1071326\ttotal: 587ms\tremaining: 423ms\n",
      "581:\tlearn: 0.1068605\ttotal: 588ms\tremaining: 422ms\n",
      "582:\tlearn: 0.1067587\ttotal: 589ms\tremaining: 421ms\n",
      "583:\tlearn: 0.1065627\ttotal: 590ms\tremaining: 420ms\n",
      "584:\tlearn: 0.1063832\ttotal: 591ms\tremaining: 419ms\n",
      "585:\tlearn: 0.1061613\ttotal: 592ms\tremaining: 418ms\n",
      "586:\tlearn: 0.1059449\ttotal: 593ms\tremaining: 417ms\n",
      "587:\tlearn: 0.1057568\ttotal: 593ms\tremaining: 416ms\n",
      "588:\tlearn: 0.1054937\ttotal: 594ms\tremaining: 415ms\n",
      "589:\tlearn: 0.1052577\ttotal: 595ms\tremaining: 413ms\n",
      "590:\tlearn: 0.1051824\ttotal: 596ms\tremaining: 412ms\n",
      "591:\tlearn: 0.1051566\ttotal: 597ms\tremaining: 411ms\n",
      "592:\tlearn: 0.1048717\ttotal: 597ms\tremaining: 410ms\n",
      "593:\tlearn: 0.1048536\ttotal: 598ms\tremaining: 409ms\n",
      "594:\tlearn: 0.1047602\ttotal: 599ms\tremaining: 408ms\n",
      "595:\tlearn: 0.1046827\ttotal: 600ms\tremaining: 407ms\n",
      "596:\tlearn: 0.1044923\ttotal: 601ms\tremaining: 406ms\n",
      "597:\tlearn: 0.1043299\ttotal: 602ms\tremaining: 404ms\n",
      "598:\tlearn: 0.1041446\ttotal: 602ms\tremaining: 403ms\n",
      "599:\tlearn: 0.1039306\ttotal: 603ms\tremaining: 402ms\n",
      "600:\tlearn: 0.1037472\ttotal: 604ms\tremaining: 401ms\n",
      "601:\tlearn: 0.1035692\ttotal: 605ms\tremaining: 400ms\n",
      "602:\tlearn: 0.1034661\ttotal: 606ms\tremaining: 399ms\n",
      "603:\tlearn: 0.1032491\ttotal: 607ms\tremaining: 398ms\n",
      "604:\tlearn: 0.1030180\ttotal: 608ms\tremaining: 397ms\n",
      "605:\tlearn: 0.1030063\ttotal: 609ms\tremaining: 396ms\n",
      "606:\tlearn: 0.1027967\ttotal: 610ms\tremaining: 395ms\n",
      "607:\tlearn: 0.1025791\ttotal: 611ms\tremaining: 394ms\n",
      "608:\tlearn: 0.1024868\ttotal: 611ms\tremaining: 393ms\n",
      "609:\tlearn: 0.1023053\ttotal: 612ms\tremaining: 391ms\n",
      "610:\tlearn: 0.1020410\ttotal: 613ms\tremaining: 390ms\n",
      "611:\tlearn: 0.1018256\ttotal: 614ms\tremaining: 389ms\n",
      "612:\tlearn: 0.1017173\ttotal: 615ms\tremaining: 388ms\n",
      "613:\tlearn: 0.1015611\ttotal: 616ms\tremaining: 387ms\n",
      "614:\tlearn: 0.1014637\ttotal: 616ms\tremaining: 386ms\n",
      "615:\tlearn: 0.1014129\ttotal: 617ms\tremaining: 385ms\n",
      "616:\tlearn: 0.1010737\ttotal: 618ms\tremaining: 384ms\n",
      "617:\tlearn: 0.1009929\ttotal: 619ms\tremaining: 382ms\n",
      "618:\tlearn: 0.1008059\ttotal: 620ms\tremaining: 382ms\n",
      "619:\tlearn: 0.1006561\ttotal: 621ms\tremaining: 381ms\n",
      "620:\tlearn: 0.1004184\ttotal: 622ms\tremaining: 380ms\n",
      "621:\tlearn: 0.1002459\ttotal: 623ms\tremaining: 379ms\n",
      "622:\tlearn: 0.1000435\ttotal: 624ms\tremaining: 378ms\n",
      "623:\tlearn: 0.0998577\ttotal: 625ms\tremaining: 377ms\n",
      "624:\tlearn: 0.0997440\ttotal: 626ms\tremaining: 376ms\n",
      "625:\tlearn: 0.0995546\ttotal: 627ms\tremaining: 374ms\n",
      "626:\tlearn: 0.0993902\ttotal: 627ms\tremaining: 373ms\n",
      "627:\tlearn: 0.0991279\ttotal: 628ms\tremaining: 372ms\n",
      "628:\tlearn: 0.0989493\ttotal: 629ms\tremaining: 371ms\n",
      "629:\tlearn: 0.0987306\ttotal: 630ms\tremaining: 370ms\n",
      "630:\tlearn: 0.0985806\ttotal: 631ms\tremaining: 369ms\n",
      "631:\tlearn: 0.0984564\ttotal: 632ms\tremaining: 368ms\n",
      "632:\tlearn: 0.0982516\ttotal: 633ms\tremaining: 367ms\n",
      "633:\tlearn: 0.0981195\ttotal: 633ms\tremaining: 366ms\n",
      "634:\tlearn: 0.0979552\ttotal: 635ms\tremaining: 365ms\n",
      "635:\tlearn: 0.0978763\ttotal: 636ms\tremaining: 364ms\n",
      "636:\tlearn: 0.0976866\ttotal: 637ms\tremaining: 363ms\n",
      "637:\tlearn: 0.0975324\ttotal: 638ms\tremaining: 362ms\n",
      "638:\tlearn: 0.0973914\ttotal: 639ms\tremaining: 361ms\n",
      "639:\tlearn: 0.0972390\ttotal: 640ms\tremaining: 360ms\n",
      "640:\tlearn: 0.0970825\ttotal: 641ms\tremaining: 359ms\n",
      "641:\tlearn: 0.0969690\ttotal: 642ms\tremaining: 358ms\n",
      "642:\tlearn: 0.0968737\ttotal: 642ms\tremaining: 357ms\n",
      "643:\tlearn: 0.0966543\ttotal: 643ms\tremaining: 356ms\n",
      "644:\tlearn: 0.0964561\ttotal: 644ms\tremaining: 354ms\n",
      "645:\tlearn: 0.0963748\ttotal: 645ms\tremaining: 353ms\n",
      "646:\tlearn: 0.0961466\ttotal: 646ms\tremaining: 352ms\n",
      "647:\tlearn: 0.0960103\ttotal: 646ms\tremaining: 351ms\n",
      "648:\tlearn: 0.0958593\ttotal: 647ms\tremaining: 350ms\n",
      "649:\tlearn: 0.0956736\ttotal: 648ms\tremaining: 349ms\n",
      "650:\tlearn: 0.0956575\ttotal: 649ms\tremaining: 348ms\n",
      "651:\tlearn: 0.0955338\ttotal: 650ms\tremaining: 347ms\n",
      "652:\tlearn: 0.0953399\ttotal: 651ms\tremaining: 346ms\n",
      "653:\tlearn: 0.0953190\ttotal: 651ms\tremaining: 345ms\n",
      "654:\tlearn: 0.0950955\ttotal: 652ms\tremaining: 344ms\n",
      "655:\tlearn: 0.0950119\ttotal: 653ms\tremaining: 343ms\n",
      "656:\tlearn: 0.0948133\ttotal: 654ms\tremaining: 342ms\n",
      "657:\tlearn: 0.0947053\ttotal: 655ms\tremaining: 341ms\n",
      "658:\tlearn: 0.0946501\ttotal: 656ms\tremaining: 340ms\n",
      "659:\tlearn: 0.0944341\ttotal: 657ms\tremaining: 338ms\n",
      "660:\tlearn: 0.0942682\ttotal: 658ms\tremaining: 337ms\n",
      "661:\tlearn: 0.0941057\ttotal: 659ms\tremaining: 336ms\n",
      "662:\tlearn: 0.0939372\ttotal: 659ms\tremaining: 335ms\n",
      "663:\tlearn: 0.0937058\ttotal: 660ms\tremaining: 334ms\n",
      "664:\tlearn: 0.0936485\ttotal: 661ms\tremaining: 333ms\n",
      "665:\tlearn: 0.0935662\ttotal: 662ms\tremaining: 332ms\n",
      "666:\tlearn: 0.0934817\ttotal: 663ms\tremaining: 331ms\n",
      "667:\tlearn: 0.0933857\ttotal: 664ms\tremaining: 330ms\n",
      "668:\tlearn: 0.0931790\ttotal: 664ms\tremaining: 329ms\n",
      "669:\tlearn: 0.0930542\ttotal: 665ms\tremaining: 328ms\n",
      "670:\tlearn: 0.0928530\ttotal: 666ms\tremaining: 327ms\n",
      "671:\tlearn: 0.0927300\ttotal: 667ms\tremaining: 326ms\n"
     ]
    },
    {
     "name": "stdout",
     "output_type": "stream",
     "text": [
      "672:\tlearn: 0.0926666\ttotal: 669ms\tremaining: 325ms\n",
      "673:\tlearn: 0.0924769\ttotal: 670ms\tremaining: 324ms\n",
      "674:\tlearn: 0.0922307\ttotal: 671ms\tremaining: 323ms\n",
      "675:\tlearn: 0.0921239\ttotal: 672ms\tremaining: 322ms\n",
      "676:\tlearn: 0.0918978\ttotal: 673ms\tremaining: 321ms\n",
      "677:\tlearn: 0.0918719\ttotal: 673ms\tremaining: 320ms\n",
      "678:\tlearn: 0.0917012\ttotal: 674ms\tremaining: 319ms\n",
      "679:\tlearn: 0.0916271\ttotal: 675ms\tremaining: 318ms\n",
      "680:\tlearn: 0.0914702\ttotal: 676ms\tremaining: 317ms\n",
      "681:\tlearn: 0.0913204\ttotal: 677ms\tremaining: 316ms\n",
      "682:\tlearn: 0.0911519\ttotal: 678ms\tremaining: 315ms\n",
      "683:\tlearn: 0.0909599\ttotal: 679ms\tremaining: 314ms\n",
      "684:\tlearn: 0.0907987\ttotal: 680ms\tremaining: 312ms\n",
      "685:\tlearn: 0.0906842\ttotal: 680ms\tremaining: 311ms\n",
      "686:\tlearn: 0.0906610\ttotal: 681ms\tremaining: 310ms\n",
      "687:\tlearn: 0.0906042\ttotal: 682ms\tremaining: 309ms\n",
      "688:\tlearn: 0.0904584\ttotal: 683ms\tremaining: 308ms\n",
      "689:\tlearn: 0.0903373\ttotal: 684ms\tremaining: 307ms\n",
      "690:\tlearn: 0.0903115\ttotal: 685ms\tremaining: 306ms\n",
      "691:\tlearn: 0.0902702\ttotal: 686ms\tremaining: 305ms\n",
      "692:\tlearn: 0.0900257\ttotal: 687ms\tremaining: 304ms\n",
      "693:\tlearn: 0.0898963\ttotal: 688ms\tremaining: 303ms\n",
      "694:\tlearn: 0.0897856\ttotal: 689ms\tremaining: 302ms\n",
      "695:\tlearn: 0.0896229\ttotal: 689ms\tremaining: 301ms\n",
      "696:\tlearn: 0.0894821\ttotal: 690ms\tremaining: 300ms\n",
      "697:\tlearn: 0.0892798\ttotal: 691ms\tremaining: 299ms\n",
      "698:\tlearn: 0.0891513\ttotal: 692ms\tremaining: 298ms\n",
      "699:\tlearn: 0.0889888\ttotal: 693ms\tremaining: 297ms\n",
      "700:\tlearn: 0.0888328\ttotal: 694ms\tremaining: 296ms\n",
      "701:\tlearn: 0.0886242\ttotal: 694ms\tremaining: 295ms\n",
      "702:\tlearn: 0.0883881\ttotal: 695ms\tremaining: 294ms\n",
      "703:\tlearn: 0.0883271\ttotal: 696ms\tremaining: 293ms\n",
      "704:\tlearn: 0.0881300\ttotal: 697ms\tremaining: 292ms\n",
      "705:\tlearn: 0.0879421\ttotal: 698ms\tremaining: 291ms\n",
      "706:\tlearn: 0.0878238\ttotal: 699ms\tremaining: 290ms\n",
      "707:\tlearn: 0.0876937\ttotal: 700ms\tremaining: 289ms\n",
      "708:\tlearn: 0.0876694\ttotal: 702ms\tremaining: 288ms\n",
      "709:\tlearn: 0.0875359\ttotal: 702ms\tremaining: 287ms\n",
      "710:\tlearn: 0.0873647\ttotal: 703ms\tremaining: 286ms\n",
      "711:\tlearn: 0.0872385\ttotal: 704ms\tremaining: 285ms\n",
      "712:\tlearn: 0.0871285\ttotal: 705ms\tremaining: 284ms\n",
      "713:\tlearn: 0.0869599\ttotal: 706ms\tremaining: 283ms\n",
      "714:\tlearn: 0.0867786\ttotal: 707ms\tremaining: 282ms\n",
      "715:\tlearn: 0.0865794\ttotal: 707ms\tremaining: 281ms\n",
      "716:\tlearn: 0.0864187\ttotal: 708ms\tremaining: 280ms\n",
      "717:\tlearn: 0.0863489\ttotal: 709ms\tremaining: 279ms\n",
      "718:\tlearn: 0.0861893\ttotal: 710ms\tremaining: 277ms\n",
      "719:\tlearn: 0.0860496\ttotal: 711ms\tremaining: 276ms\n",
      "720:\tlearn: 0.0858495\ttotal: 712ms\tremaining: 275ms\n",
      "721:\tlearn: 0.0857355\ttotal: 713ms\tremaining: 274ms\n",
      "722:\tlearn: 0.0856117\ttotal: 714ms\tremaining: 273ms\n",
      "723:\tlearn: 0.0855362\ttotal: 715ms\tremaining: 272ms\n",
      "724:\tlearn: 0.0853707\ttotal: 716ms\tremaining: 272ms\n",
      "725:\tlearn: 0.0851932\ttotal: 717ms\tremaining: 271ms\n",
      "726:\tlearn: 0.0850636\ttotal: 718ms\tremaining: 270ms\n",
      "727:\tlearn: 0.0849343\ttotal: 719ms\tremaining: 268ms\n",
      "728:\tlearn: 0.0848110\ttotal: 719ms\tremaining: 267ms\n",
      "729:\tlearn: 0.0847985\ttotal: 720ms\tremaining: 266ms\n",
      "730:\tlearn: 0.0846897\ttotal: 721ms\tremaining: 265ms\n",
      "731:\tlearn: 0.0845700\ttotal: 722ms\tremaining: 264ms\n",
      "732:\tlearn: 0.0844268\ttotal: 723ms\tremaining: 263ms\n",
      "733:\tlearn: 0.0843150\ttotal: 723ms\tremaining: 262ms\n",
      "734:\tlearn: 0.0841808\ttotal: 724ms\tremaining: 261ms\n",
      "735:\tlearn: 0.0840344\ttotal: 725ms\tremaining: 260ms\n",
      "736:\tlearn: 0.0839660\ttotal: 726ms\tremaining: 259ms\n",
      "737:\tlearn: 0.0837606\ttotal: 727ms\tremaining: 258ms\n",
      "738:\tlearn: 0.0836378\ttotal: 728ms\tremaining: 257ms\n",
      "739:\tlearn: 0.0835520\ttotal: 729ms\tremaining: 256ms\n",
      "740:\tlearn: 0.0833809\ttotal: 730ms\tremaining: 255ms\n",
      "741:\tlearn: 0.0832880\ttotal: 731ms\tremaining: 254ms\n",
      "742:\tlearn: 0.0831826\ttotal: 732ms\tremaining: 253ms\n",
      "743:\tlearn: 0.0830195\ttotal: 733ms\tremaining: 252ms\n",
      "744:\tlearn: 0.0829878\ttotal: 734ms\tremaining: 251ms\n",
      "745:\tlearn: 0.0828420\ttotal: 734ms\tremaining: 250ms\n",
      "746:\tlearn: 0.0827273\ttotal: 735ms\tremaining: 249ms\n",
      "747:\tlearn: 0.0826399\ttotal: 736ms\tremaining: 248ms\n",
      "748:\tlearn: 0.0825040\ttotal: 737ms\tremaining: 247ms\n",
      "749:\tlearn: 0.0823097\ttotal: 737ms\tremaining: 246ms\n",
      "750:\tlearn: 0.0821957\ttotal: 738ms\tremaining: 245ms\n",
      "751:\tlearn: 0.0821742\ttotal: 739ms\tremaining: 244ms\n",
      "752:\tlearn: 0.0821202\ttotal: 740ms\tremaining: 243ms\n",
      "753:\tlearn: 0.0820700\ttotal: 741ms\tremaining: 242ms\n",
      "754:\tlearn: 0.0819174\ttotal: 742ms\tremaining: 241ms\n",
      "755:\tlearn: 0.0817860\ttotal: 743ms\tremaining: 240ms\n",
      "756:\tlearn: 0.0817085\ttotal: 744ms\tremaining: 239ms\n",
      "757:\tlearn: 0.0816664\ttotal: 745ms\tremaining: 238ms\n",
      "758:\tlearn: 0.0815241\ttotal: 746ms\tremaining: 237ms\n",
      "759:\tlearn: 0.0814446\ttotal: 747ms\tremaining: 236ms\n",
      "760:\tlearn: 0.0813234\ttotal: 747ms\tremaining: 235ms\n",
      "761:\tlearn: 0.0812721\ttotal: 748ms\tremaining: 234ms\n",
      "762:\tlearn: 0.0812514\ttotal: 749ms\tremaining: 233ms\n",
      "763:\tlearn: 0.0811209\ttotal: 750ms\tremaining: 232ms\n",
      "764:\tlearn: 0.0809790\ttotal: 751ms\tremaining: 231ms\n",
      "765:\tlearn: 0.0809503\ttotal: 752ms\tremaining: 230ms\n",
      "766:\tlearn: 0.0807866\ttotal: 753ms\tremaining: 229ms\n",
      "767:\tlearn: 0.0806262\ttotal: 754ms\tremaining: 228ms\n",
      "768:\tlearn: 0.0805885\ttotal: 754ms\tremaining: 227ms\n",
      "769:\tlearn: 0.0805312\ttotal: 755ms\tremaining: 226ms\n"
     ]
    },
    {
     "name": "stdout",
     "output_type": "stream",
     "text": [
      "770:\tlearn: 0.0804276\ttotal: 757ms\tremaining: 225ms\n",
      "771:\tlearn: 0.0803344\ttotal: 758ms\tremaining: 224ms\n",
      "772:\tlearn: 0.0801445\ttotal: 758ms\tremaining: 223ms\n",
      "773:\tlearn: 0.0800760\ttotal: 759ms\tremaining: 222ms\n",
      "774:\tlearn: 0.0799477\ttotal: 760ms\tremaining: 221ms\n",
      "775:\tlearn: 0.0798599\ttotal: 762ms\tremaining: 220ms\n",
      "776:\tlearn: 0.0797567\ttotal: 763ms\tremaining: 219ms\n",
      "777:\tlearn: 0.0797161\ttotal: 764ms\tremaining: 218ms\n",
      "778:\tlearn: 0.0797045\ttotal: 765ms\tremaining: 217ms\n",
      "779:\tlearn: 0.0796904\ttotal: 765ms\tremaining: 216ms\n",
      "780:\tlearn: 0.0794828\ttotal: 766ms\tremaining: 215ms\n",
      "781:\tlearn: 0.0792944\ttotal: 767ms\tremaining: 214ms\n",
      "782:\tlearn: 0.0792075\ttotal: 768ms\tremaining: 213ms\n",
      "783:\tlearn: 0.0790516\ttotal: 769ms\tremaining: 212ms\n",
      "784:\tlearn: 0.0789082\ttotal: 770ms\tremaining: 211ms\n",
      "785:\tlearn: 0.0786963\ttotal: 770ms\tremaining: 210ms\n",
      "786:\tlearn: 0.0785596\ttotal: 771ms\tremaining: 209ms\n",
      "787:\tlearn: 0.0785332\ttotal: 772ms\tremaining: 208ms\n",
      "788:\tlearn: 0.0784115\ttotal: 773ms\tremaining: 207ms\n",
      "789:\tlearn: 0.0783545\ttotal: 774ms\tremaining: 206ms\n",
      "790:\tlearn: 0.0782091\ttotal: 774ms\tremaining: 205ms\n",
      "791:\tlearn: 0.0781471\ttotal: 775ms\tremaining: 204ms\n",
      "792:\tlearn: 0.0780290\ttotal: 776ms\tremaining: 203ms\n",
      "793:\tlearn: 0.0779708\ttotal: 777ms\tremaining: 202ms\n",
      "794:\tlearn: 0.0778801\ttotal: 778ms\tremaining: 201ms\n",
      "795:\tlearn: 0.0777898\ttotal: 779ms\tremaining: 200ms\n",
      "796:\tlearn: 0.0776893\ttotal: 780ms\tremaining: 199ms\n",
      "797:\tlearn: 0.0775607\ttotal: 781ms\tremaining: 198ms\n",
      "798:\tlearn: 0.0774448\ttotal: 782ms\tremaining: 197ms\n",
      "799:\tlearn: 0.0774250\ttotal: 782ms\tremaining: 196ms\n",
      "800:\tlearn: 0.0774034\ttotal: 783ms\tremaining: 195ms\n",
      "801:\tlearn: 0.0773629\ttotal: 784ms\tremaining: 194ms\n",
      "802:\tlearn: 0.0772100\ttotal: 785ms\tremaining: 193ms\n",
      "803:\tlearn: 0.0771120\ttotal: 786ms\tremaining: 192ms\n",
      "804:\tlearn: 0.0771013\ttotal: 786ms\tremaining: 190ms\n",
      "805:\tlearn: 0.0769623\ttotal: 787ms\tremaining: 189ms\n",
      "806:\tlearn: 0.0768164\ttotal: 788ms\tremaining: 188ms\n",
      "807:\tlearn: 0.0766700\ttotal: 789ms\tremaining: 187ms\n",
      "808:\tlearn: 0.0764917\ttotal: 790ms\tremaining: 186ms\n",
      "809:\tlearn: 0.0763847\ttotal: 791ms\tremaining: 185ms\n",
      "810:\tlearn: 0.0762729\ttotal: 792ms\tremaining: 184ms\n",
      "811:\tlearn: 0.0761270\ttotal: 793ms\tremaining: 184ms\n",
      "812:\tlearn: 0.0759991\ttotal: 794ms\tremaining: 183ms\n",
      "813:\tlearn: 0.0759135\ttotal: 795ms\tremaining: 182ms\n",
      "814:\tlearn: 0.0757615\ttotal: 796ms\tremaining: 181ms\n",
      "815:\tlearn: 0.0756767\ttotal: 797ms\tremaining: 180ms\n",
      "816:\tlearn: 0.0755789\ttotal: 797ms\tremaining: 179ms\n",
      "817:\tlearn: 0.0755154\ttotal: 798ms\tremaining: 178ms\n",
      "818:\tlearn: 0.0754261\ttotal: 799ms\tremaining: 177ms\n",
      "819:\tlearn: 0.0753224\ttotal: 800ms\tremaining: 176ms\n",
      "820:\tlearn: 0.0752264\ttotal: 801ms\tremaining: 175ms\n",
      "821:\tlearn: 0.0751618\ttotal: 802ms\tremaining: 174ms\n",
      "822:\tlearn: 0.0751230\ttotal: 803ms\tremaining: 173ms\n",
      "823:\tlearn: 0.0750030\ttotal: 803ms\tremaining: 172ms\n",
      "824:\tlearn: 0.0748377\ttotal: 804ms\tremaining: 171ms\n",
      "825:\tlearn: 0.0746957\ttotal: 805ms\tremaining: 170ms\n",
      "826:\tlearn: 0.0745797\ttotal: 806ms\tremaining: 169ms\n",
      "827:\tlearn: 0.0745134\ttotal: 807ms\tremaining: 168ms\n",
      "828:\tlearn: 0.0744205\ttotal: 808ms\tremaining: 167ms\n",
      "829:\tlearn: 0.0742430\ttotal: 809ms\tremaining: 166ms\n",
      "830:\tlearn: 0.0741401\ttotal: 810ms\tremaining: 165ms\n",
      "831:\tlearn: 0.0740891\ttotal: 811ms\tremaining: 164ms\n",
      "832:\tlearn: 0.0740183\ttotal: 812ms\tremaining: 163ms\n",
      "833:\tlearn: 0.0739833\ttotal: 813ms\tremaining: 162ms\n",
      "834:\tlearn: 0.0738765\ttotal: 814ms\tremaining: 161ms\n",
      "835:\tlearn: 0.0737363\ttotal: 815ms\tremaining: 160ms\n",
      "836:\tlearn: 0.0736538\ttotal: 816ms\tremaining: 159ms\n",
      "837:\tlearn: 0.0734562\ttotal: 817ms\tremaining: 158ms\n",
      "838:\tlearn: 0.0734393\ttotal: 818ms\tremaining: 157ms\n",
      "839:\tlearn: 0.0733746\ttotal: 819ms\tremaining: 156ms\n",
      "840:\tlearn: 0.0731869\ttotal: 820ms\tremaining: 155ms\n",
      "841:\tlearn: 0.0730783\ttotal: 821ms\tremaining: 154ms\n",
      "842:\tlearn: 0.0729510\ttotal: 821ms\tremaining: 153ms\n",
      "843:\tlearn: 0.0727823\ttotal: 822ms\tremaining: 152ms\n",
      "844:\tlearn: 0.0727125\ttotal: 823ms\tremaining: 151ms\n",
      "845:\tlearn: 0.0726134\ttotal: 825ms\tremaining: 150ms\n",
      "846:\tlearn: 0.0724685\ttotal: 826ms\tremaining: 149ms\n",
      "847:\tlearn: 0.0723779\ttotal: 827ms\tremaining: 148ms\n",
      "848:\tlearn: 0.0722577\ttotal: 828ms\tremaining: 147ms\n",
      "849:\tlearn: 0.0721519\ttotal: 829ms\tremaining: 146ms\n",
      "850:\tlearn: 0.0720770\ttotal: 830ms\tremaining: 145ms\n",
      "851:\tlearn: 0.0720241\ttotal: 831ms\tremaining: 144ms\n",
      "852:\tlearn: 0.0719567\ttotal: 832ms\tremaining: 143ms\n",
      "853:\tlearn: 0.0718451\ttotal: 833ms\tremaining: 142ms\n",
      "854:\tlearn: 0.0717339\ttotal: 833ms\tremaining: 141ms\n",
      "855:\tlearn: 0.0716378\ttotal: 834ms\tremaining: 140ms\n",
      "856:\tlearn: 0.0715643\ttotal: 835ms\tremaining: 139ms\n",
      "857:\tlearn: 0.0714436\ttotal: 836ms\tremaining: 138ms\n",
      "858:\tlearn: 0.0713973\ttotal: 837ms\tremaining: 137ms\n",
      "859:\tlearn: 0.0712702\ttotal: 837ms\tremaining: 136ms\n",
      "860:\tlearn: 0.0711545\ttotal: 838ms\tremaining: 135ms\n",
      "861:\tlearn: 0.0711003\ttotal: 839ms\tremaining: 134ms\n",
      "862:\tlearn: 0.0709987\ttotal: 840ms\tremaining: 133ms\n",
      "863:\tlearn: 0.0708173\ttotal: 841ms\tremaining: 132ms\n",
      "864:\tlearn: 0.0707159\ttotal: 842ms\tremaining: 131ms\n",
      "865:\tlearn: 0.0706532\ttotal: 843ms\tremaining: 131ms\n",
      "866:\tlearn: 0.0706005\ttotal: 844ms\tremaining: 130ms\n",
      "867:\tlearn: 0.0704363\ttotal: 845ms\tremaining: 129ms\n",
      "868:\tlearn: 0.0703853\ttotal: 846ms\tremaining: 128ms\n",
      "869:\tlearn: 0.0703766\ttotal: 847ms\tremaining: 127ms\n",
      "870:\tlearn: 0.0702596\ttotal: 848ms\tremaining: 126ms\n",
      "871:\tlearn: 0.0702164\ttotal: 849ms\tremaining: 125ms\n",
      "872:\tlearn: 0.0701335\ttotal: 850ms\tremaining: 124ms\n",
      "873:\tlearn: 0.0700186\ttotal: 851ms\tremaining: 123ms\n",
      "874:\tlearn: 0.0699104\ttotal: 852ms\tremaining: 122ms\n",
      "875:\tlearn: 0.0698638\ttotal: 852ms\tremaining: 121ms\n",
      "876:\tlearn: 0.0697664\ttotal: 853ms\tremaining: 120ms\n",
      "877:\tlearn: 0.0695846\ttotal: 854ms\tremaining: 119ms\n",
      "878:\tlearn: 0.0694426\ttotal: 855ms\tremaining: 118ms\n",
      "879:\tlearn: 0.0693402\ttotal: 856ms\tremaining: 117ms\n",
      "880:\tlearn: 0.0692406\ttotal: 857ms\tremaining: 116ms\n"
     ]
    },
    {
     "name": "stdout",
     "output_type": "stream",
     "text": [
      "881:\tlearn: 0.0691486\ttotal: 858ms\tremaining: 115ms\n",
      "882:\tlearn: 0.0690635\ttotal: 859ms\tremaining: 114ms\n",
      "883:\tlearn: 0.0690318\ttotal: 860ms\tremaining: 113ms\n",
      "884:\tlearn: 0.0689960\ttotal: 860ms\tremaining: 112ms\n",
      "885:\tlearn: 0.0688488\ttotal: 861ms\tremaining: 111ms\n",
      "886:\tlearn: 0.0686650\ttotal: 862ms\tremaining: 110ms\n",
      "887:\tlearn: 0.0685130\ttotal: 863ms\tremaining: 109ms\n",
      "888:\tlearn: 0.0683511\ttotal: 864ms\tremaining: 108ms\n",
      "889:\tlearn: 0.0681930\ttotal: 865ms\tremaining: 107ms\n",
      "890:\tlearn: 0.0681658\ttotal: 866ms\tremaining: 106ms\n",
      "891:\tlearn: 0.0680612\ttotal: 867ms\tremaining: 105ms\n",
      "892:\tlearn: 0.0679170\ttotal: 867ms\tremaining: 104ms\n",
      "893:\tlearn: 0.0678364\ttotal: 868ms\tremaining: 103ms\n",
      "894:\tlearn: 0.0677885\ttotal: 869ms\tremaining: 102ms\n",
      "895:\tlearn: 0.0677405\ttotal: 870ms\tremaining: 101ms\n",
      "896:\tlearn: 0.0676218\ttotal: 871ms\tremaining: 100ms\n",
      "897:\tlearn: 0.0675300\ttotal: 872ms\tremaining: 99ms\n",
      "898:\tlearn: 0.0674047\ttotal: 873ms\tremaining: 98.1ms\n",
      "899:\tlearn: 0.0673415\ttotal: 874ms\tremaining: 97.1ms\n",
      "900:\tlearn: 0.0672816\ttotal: 875ms\tremaining: 96.1ms\n",
      "901:\tlearn: 0.0671301\ttotal: 876ms\tremaining: 95.2ms\n",
      "902:\tlearn: 0.0670359\ttotal: 877ms\tremaining: 94.2ms\n",
      "903:\tlearn: 0.0669312\ttotal: 878ms\tremaining: 93.2ms\n",
      "904:\tlearn: 0.0667748\ttotal: 878ms\tremaining: 92.2ms\n",
      "905:\tlearn: 0.0667122\ttotal: 879ms\tremaining: 91.2ms\n",
      "906:\tlearn: 0.0665440\ttotal: 880ms\tremaining: 90.2ms\n",
      "907:\tlearn: 0.0664299\ttotal: 881ms\tremaining: 89.2ms\n",
      "908:\tlearn: 0.0664089\ttotal: 881ms\tremaining: 88.2ms\n",
      "909:\tlearn: 0.0663174\ttotal: 882ms\tremaining: 87.2ms\n",
      "910:\tlearn: 0.0662260\ttotal: 883ms\tremaining: 86.3ms\n",
      "911:\tlearn: 0.0660969\ttotal: 884ms\tremaining: 85.3ms\n",
      "912:\tlearn: 0.0659712\ttotal: 885ms\tremaining: 84.3ms\n",
      "913:\tlearn: 0.0658909\ttotal: 886ms\tremaining: 83.3ms\n",
      "914:\tlearn: 0.0658324\ttotal: 887ms\tremaining: 82.4ms\n",
      "915:\tlearn: 0.0657329\ttotal: 888ms\tremaining: 81.4ms\n",
      "916:\tlearn: 0.0656975\ttotal: 889ms\tremaining: 80.5ms\n",
      "917:\tlearn: 0.0655894\ttotal: 890ms\tremaining: 79.5ms\n",
      "918:\tlearn: 0.0654910\ttotal: 891ms\tremaining: 78.5ms\n",
      "919:\tlearn: 0.0654759\ttotal: 892ms\tremaining: 77.6ms\n",
      "920:\tlearn: 0.0654343\ttotal: 893ms\tremaining: 76.6ms\n",
      "921:\tlearn: 0.0653685\ttotal: 894ms\tremaining: 75.6ms\n",
      "922:\tlearn: 0.0652469\ttotal: 894ms\tremaining: 74.6ms\n",
      "923:\tlearn: 0.0651394\ttotal: 895ms\tremaining: 73.6ms\n",
      "924:\tlearn: 0.0650400\ttotal: 896ms\tremaining: 72.7ms\n",
      "925:\tlearn: 0.0649244\ttotal: 897ms\tremaining: 71.7ms\n",
      "926:\tlearn: 0.0648527\ttotal: 898ms\tremaining: 70.7ms\n",
      "927:\tlearn: 0.0647225\ttotal: 899ms\tremaining: 69.7ms\n",
      "928:\tlearn: 0.0645724\ttotal: 899ms\tremaining: 68.7ms\n",
      "929:\tlearn: 0.0645078\ttotal: 900ms\tremaining: 67.8ms\n",
      "930:\tlearn: 0.0644278\ttotal: 901ms\tremaining: 66.8ms\n",
      "931:\tlearn: 0.0643603\ttotal: 902ms\tremaining: 65.8ms\n",
      "932:\tlearn: 0.0642764\ttotal: 903ms\tremaining: 64.9ms\n",
      "933:\tlearn: 0.0641958\ttotal: 904ms\tremaining: 63.9ms\n",
      "934:\tlearn: 0.0641619\ttotal: 905ms\tremaining: 62.9ms\n",
      "935:\tlearn: 0.0641340\ttotal: 906ms\tremaining: 61.9ms\n",
      "936:\tlearn: 0.0639605\ttotal: 907ms\tremaining: 61ms\n",
      "937:\tlearn: 0.0638485\ttotal: 908ms\tremaining: 60ms\n",
      "938:\tlearn: 0.0637346\ttotal: 909ms\tremaining: 59ms\n",
      "939:\tlearn: 0.0636086\ttotal: 909ms\tremaining: 58ms\n",
      "940:\tlearn: 0.0634898\ttotal: 910ms\tremaining: 57.1ms\n",
      "941:\tlearn: 0.0633877\ttotal: 911ms\tremaining: 56.1ms\n",
      "942:\tlearn: 0.0633107\ttotal: 912ms\tremaining: 55.1ms\n",
      "943:\tlearn: 0.0632485\ttotal: 913ms\tremaining: 54.1ms\n",
      "944:\tlearn: 0.0631911\ttotal: 913ms\tremaining: 53.2ms\n",
      "945:\tlearn: 0.0630878\ttotal: 914ms\tremaining: 52.2ms\n",
      "946:\tlearn: 0.0630277\ttotal: 915ms\tremaining: 51.2ms\n",
      "947:\tlearn: 0.0628696\ttotal: 916ms\tremaining: 50.2ms\n",
      "948:\tlearn: 0.0628213\ttotal: 917ms\tremaining: 49.3ms\n",
      "949:\tlearn: 0.0627043\ttotal: 918ms\tremaining: 48.3ms\n",
      "950:\tlearn: 0.0626265\ttotal: 919ms\tremaining: 47.3ms\n",
      "951:\tlearn: 0.0626075\ttotal: 920ms\tremaining: 46.4ms\n",
      "952:\tlearn: 0.0625374\ttotal: 921ms\tremaining: 45.4ms\n",
      "953:\tlearn: 0.0625228\ttotal: 922ms\tremaining: 44.4ms\n",
      "954:\tlearn: 0.0625099\ttotal: 923ms\tremaining: 43.5ms\n",
      "955:\tlearn: 0.0624042\ttotal: 923ms\tremaining: 42.5ms\n",
      "956:\tlearn: 0.0622783\ttotal: 924ms\tremaining: 41.5ms\n",
      "957:\tlearn: 0.0621834\ttotal: 925ms\tremaining: 40.6ms\n",
      "958:\tlearn: 0.0620583\ttotal: 926ms\tremaining: 39.6ms\n",
      "959:\tlearn: 0.0619458\ttotal: 927ms\tremaining: 38.6ms\n",
      "960:\tlearn: 0.0618221\ttotal: 928ms\tremaining: 37.6ms\n",
      "961:\tlearn: 0.0617820\ttotal: 928ms\tremaining: 36.7ms\n",
      "962:\tlearn: 0.0617425\ttotal: 929ms\tremaining: 35.7ms\n",
      "963:\tlearn: 0.0616625\ttotal: 930ms\tremaining: 34.7ms\n",
      "964:\tlearn: 0.0615806\ttotal: 931ms\tremaining: 33.8ms\n",
      "965:\tlearn: 0.0615233\ttotal: 932ms\tremaining: 32.8ms\n",
      "966:\tlearn: 0.0614637\ttotal: 933ms\tremaining: 31.8ms\n",
      "967:\tlearn: 0.0613772\ttotal: 933ms\tremaining: 30.9ms\n",
      "968:\tlearn: 0.0612478\ttotal: 934ms\tremaining: 29.9ms\n",
      "969:\tlearn: 0.0611986\ttotal: 935ms\tremaining: 28.9ms\n",
      "970:\tlearn: 0.0611333\ttotal: 936ms\tremaining: 28ms\n",
      "971:\tlearn: 0.0610552\ttotal: 937ms\tremaining: 27ms\n",
      "972:\tlearn: 0.0610184\ttotal: 938ms\tremaining: 26ms\n",
      "973:\tlearn: 0.0609152\ttotal: 939ms\tremaining: 25.1ms\n",
      "974:\tlearn: 0.0608619\ttotal: 940ms\tremaining: 24.1ms\n",
      "975:\tlearn: 0.0608386\ttotal: 941ms\tremaining: 23.1ms\n",
      "976:\tlearn: 0.0607938\ttotal: 942ms\tremaining: 22.2ms\n",
      "977:\tlearn: 0.0606928\ttotal: 943ms\tremaining: 21.2ms\n",
      "978:\tlearn: 0.0605992\ttotal: 944ms\tremaining: 20.2ms\n",
      "979:\tlearn: 0.0605430\ttotal: 945ms\tremaining: 19.3ms\n"
     ]
    },
    {
     "name": "stdout",
     "output_type": "stream",
     "text": [
      "980:\tlearn: 0.0605192\ttotal: 946ms\tremaining: 18.3ms\n",
      "981:\tlearn: 0.0604859\ttotal: 947ms\tremaining: 17.4ms\n",
      "982:\tlearn: 0.0604042\ttotal: 947ms\tremaining: 16.4ms\n",
      "983:\tlearn: 0.0603739\ttotal: 949ms\tremaining: 15.4ms\n",
      "984:\tlearn: 0.0602984\ttotal: 950ms\tremaining: 14.5ms\n",
      "985:\tlearn: 0.0602588\ttotal: 951ms\tremaining: 13.5ms\n",
      "986:\tlearn: 0.0601888\ttotal: 952ms\tremaining: 12.5ms\n",
      "987:\tlearn: 0.0601187\ttotal: 953ms\tremaining: 11.6ms\n",
      "988:\tlearn: 0.0600536\ttotal: 954ms\tremaining: 10.6ms\n",
      "989:\tlearn: 0.0599768\ttotal: 955ms\tremaining: 9.64ms\n",
      "990:\tlearn: 0.0599049\ttotal: 956ms\tremaining: 8.68ms\n",
      "991:\tlearn: 0.0597724\ttotal: 957ms\tremaining: 7.71ms\n",
      "992:\tlearn: 0.0597476\ttotal: 957ms\tremaining: 6.75ms\n",
      "993:\tlearn: 0.0595982\ttotal: 958ms\tremaining: 5.78ms\n",
      "994:\tlearn: 0.0594876\ttotal: 959ms\tremaining: 4.82ms\n",
      "995:\tlearn: 0.0594332\ttotal: 960ms\tremaining: 3.85ms\n",
      "996:\tlearn: 0.0593367\ttotal: 961ms\tremaining: 2.89ms\n",
      "997:\tlearn: 0.0592527\ttotal: 962ms\tremaining: 1.93ms\n",
      "998:\tlearn: 0.0591353\ttotal: 962ms\tremaining: 963us\n",
      "999:\tlearn: 0.0590876\ttotal: 963ms\tremaining: 0us\n"
     ]
    },
    {
     "data": {
      "text/plain": [
       "<catboost.core.CatBoostRegressor at 0x7fb7d01f8cd0>"
      ]
     },
     "execution_count": 9,
     "metadata": {},
     "output_type": "execute_result"
    }
   ],
   "source": [
    "#Train the Model \n",
    "prior_model = ctb.CatBoostRegressor()\n",
    "prior_model.fit(X_train,Y_train)"
   ]
  },
  {
   "cell_type": "code",
   "execution_count": 10,
   "id": "af65dcda",
   "metadata": {
    "execution": {
     "iopub.execute_input": "2022-06-11T17:56:04.542969Z",
     "iopub.status.busy": "2022-06-11T17:56:04.542556Z",
     "iopub.status.idle": "2022-06-11T17:56:04.550036Z",
     "shell.execute_reply": "2022-06-11T17:56:04.550395Z"
    },
    "id": "af65dcda",
    "papermill": {
     "duration": 0.022159,
     "end_time": "2022-06-11T17:56:04.550516",
     "exception": false,
     "start_time": "2022-06-11T17:56:04.528357",
     "status": "completed"
    },
    "tags": []
   },
   "outputs": [
    {
     "data": {
      "application/scrapbook.scrap.json+json": {
       "data": 0.11950686522478945,
       "encoder": "json",
       "name": "Prior Model MSE",
       "version": 1
      }
     },
     "metadata": {
      "scrapbook": {
       "data": true,
       "display": false,
       "name": "Prior Model MSE"
      }
     },
     "output_type": "display_data"
    },
    {
     "data": {
      "application/scrapbook.scrap.json+json": {
       "data": 1.0699617713687253,
       "encoder": "json",
       "name": "ABC Pre-generator MSE",
       "version": 1
      }
     },
     "metadata": {
      "scrapbook": {
       "data": true,
       "display": false,
       "name": "ABC Pre-generator MSE"
      }
     },
     "output_type": "display_data"
    },
    {
     "data": {
      "application/scrapbook.scrap.json+json": {
       "data": 0.22186884896407844,
       "encoder": "json",
       "name": "Prior Model MSE",
       "version": 1
      }
     },
     "metadata": {
      "scrapbook": {
       "data": true,
       "display": false,
       "name": "Prior Model MSE"
      }
     },
     "output_type": "display_data"
    },
    {
     "data": {
      "application/scrapbook.scrap.json+json": {
       "data": 0.9894334587495072,
       "encoder": "json",
       "name": "ABC Pre-generator MSE",
       "version": 1
      }
     },
     "metadata": {
      "scrapbook": {
       "data": true,
       "display": false,
       "name": "ABC Pre-generator MSE"
      }
     },
     "output_type": "display_data"
    }
   ],
   "source": [
    "y_pred = prior_model.predict(X_test)\n",
    "y_abc = y_pred + np.random.normal(0,variance, y_pred.shape) + bias \n",
    "mse = mean_squared_error(y_pred,Y_test)\n",
    "sb.glue(\"Prior Model MSE\",mse)\n",
    "mse = mean_squared_error(y_abc,Y_test)\n",
    "sb.glue(\"ABC Pre-generator MSE\",mse)\n",
    "mae = mean_absolute_error(y_pred,Y_test)\n",
    "sb.glue(\"Prior Model MSE\",mae)\n",
    "mae = mean_absolute_error(y_abc,Y_test)\n",
    "sb.glue(\"ABC Pre-generator MSE\",mae)"
   ]
  },
  {
   "cell_type": "markdown",
   "id": "25609da2",
   "metadata": {
    "papermill": {
     "duration": 0.010322,
     "end_time": "2022-06-11T17:56:04.571741",
     "exception": false,
     "start_time": "2022-06-11T17:56:04.561419",
     "status": "completed"
    },
    "tags": []
   },
   "source": [
    "# ABC GAN Model"
   ]
  },
  {
   "cell_type": "code",
   "execution_count": 11,
   "id": "dfc3464d",
   "metadata": {
    "execution": {
     "iopub.execute_input": "2022-06-11T17:56:04.596426Z",
     "iopub.status.busy": "2022-06-11T17:56:04.596024Z",
     "iopub.status.idle": "2022-06-11T17:56:04.598269Z",
     "shell.execute_reply": "2022-06-11T17:56:04.598510Z"
    },
    "papermill": {
     "duration": 0.016378,
     "end_time": "2022-06-11T17:56:04.598624",
     "exception": false,
     "start_time": "2022-06-11T17:56:04.582246",
     "status": "completed"
    },
    "tags": []
   },
   "outputs": [],
   "source": [
    "gen = network.Generator(n_features+1).to(device)\n",
    "disc = network.Discriminator(n_features+1).to(device)\n",
    "\n",
    "criterion = torch.nn.BCELoss()\n",
    "gen_opt = torch.optim.Adam(gen.parameters(), lr=0.001, betas=(0.5, 0.999))\n",
    "disc_opt = torch.optim.Adam(disc.parameters(), lr=0.001, betas=(0.5, 0.999))"
   ]
  },
  {
   "cell_type": "code",
   "execution_count": 12,
   "id": "b75fdd85",
   "metadata": {
    "execution": {
     "iopub.execute_input": "2022-06-11T17:56:04.623616Z",
     "iopub.status.busy": "2022-06-11T17:56:04.623134Z",
     "iopub.status.idle": "2022-06-11T17:57:04.562972Z",
     "shell.execute_reply": "2022-06-11T17:57:04.563334Z"
    },
    "papermill": {
     "duration": 59.954254,
     "end_time": "2022-06-11T17:57:04.563459",
     "exception": false,
     "start_time": "2022-06-11T17:56:04.609205",
     "status": "completed"
    },
    "tags": []
   },
   "outputs": [
    {
     "data": {
      "image/png": "[encoded data removed]",
      "text/plain": [
       "<Figure size 432x288 with 1 Axes>"
      ]
     },
     "metadata": {
      "needs_background": "light"
     },
     "output_type": "display_data"
    },
    {
     "data": {
      "image/png": "[encoded data removed]",
      "text/plain": [
       "<Figure size 432x288 with 1 Axes>"
      ]
     },
     "metadata": {
      "needs_background": "light"
     },
     "output_type": "display_data"
    }
   ],
   "source": [
    "#Training the ABC_GAN \n",
    "ABC_train_test2.training_GAN(disc,gen,disc_opt,gen_opt,train_data,batch_size,n_epochs,criterion,prior_model,variance,bias,device)"
   ]
  },
  {
   "cell_type": "code",
   "execution_count": 13,
   "id": "1fa7c368",
   "metadata": {
    "execution": {
     "iopub.execute_input": "2022-06-11T17:57:04.590267Z",
     "iopub.status.busy": "2022-06-11T17:57:04.589818Z",
     "iopub.status.idle": "2022-06-11T17:57:04.905165Z",
     "shell.execute_reply": "2022-06-11T17:57:04.905590Z"
    },
    "papermill": {
     "duration": 0.330367,
     "end_time": "2022-06-11T17:57:04.905714",
     "exception": false,
     "start_time": "2022-06-11T17:57:04.575347",
     "status": "completed"
    },
    "tags": []
   },
   "outputs": [
    {
     "data": {
      "application/scrapbook.scrap.json+json": {
       "data": 0.1130842739949274,
       "encoder": "json",
       "name": "ABC-GAN Model 1 MSE",
       "version": 1
      }
     },
     "metadata": {
      "scrapbook": {
       "data": true,
       "display": false,
       "name": "ABC-GAN Model 1 MSE"
      }
     },
     "output_type": "display_data"
    },
    {
     "data": {
      "application/scrapbook.scrap.json+json": {
       "data": 0.21060285858453853,
       "encoder": "json",
       "name": "ABC-GAN Model 1 MAE",
       "version": 1
      }
     },
     "metadata": {
      "scrapbook": {
       "data": true,
       "display": false,
       "name": "ABC-GAN Model 1 MAE"
      }
     },
     "output_type": "display_data"
    },
    {
     "data": {
      "application/scrapbook.scrap.json+json": {
       "data": 21.481491575622933,
       "encoder": "json",
       "name": "ABC-GAN Model 1 Manhattan Distance",
       "version": 1
      }
     },
     "metadata": {
      "scrapbook": {
       "data": true,
       "display": false,
       "name": "ABC-GAN Model 1 Manhattan Distance"
      }
     },
     "output_type": "display_data"
    },
    {
     "data": {
      "application/scrapbook.scrap.json+json": {
       "data": 3.395167168591247,
       "encoder": "json",
       "name": "ABC-GAN Model 1 Euclidean distance",
       "version": 1
      }
     },
     "metadata": {
      "scrapbook": {
       "data": true,
       "display": false,
       "name": "ABC-GAN Model 1 Euclidean distance"
      }
     },
     "output_type": "display_data"
    },
    {
     "data": {
      "application/scrapbook.scrap.json+json": {
       "data": [
        [
         0.11255330853092385,
         0.11189740039544187,
         0.11734082675560266,
         0.116442006691613,
         0.105896571296467,
         0.10621434896574357,
         0.11178757549520889,
         0.10818102761837449,
         0.10783130149436249,
         0.10774923341179735,
         0.11883733183716057,
         0.12079349680135308,
         0.11608169177544649,
         0.11324620008779777,
         0.10674180968879828,
         0.1111648372048907,
         0.11708222680959358,
         0.11782528625678045,
         0.12081993121883115,
         0.11624693375607147,
         0.10237530665331647,
         0.10999551212922144,
         0.11401880549402757,
         0.10961470624075006,
         0.11659311322358537,
         0.10560911108028118,
         0.10672747307472567,
         0.10729121305540179,
         0.11778308169153939,
         0.1079109626858578,
         0.11150301229204082,
         0.10929762424724396,
         0.11850663584182886,
         0.1146660735503119,
         0.10984910514378864,
         0.10866735733427542,
         0.11571316942043638,
         0.12053174571642757,
         0.10715126117211592,
         0.11094050827627533,
         0.12089110595851288,
         0.10935182655866336,
         0.11830011448760205,
         0.11676332774919258,
         0.10652444215664296,
         0.11253655613557363,
         0.1031371995826832,
         0.12018195844923218,
         0.11245420460418225,
         0.11364316254657111,
         0.11284075155731756,
         0.11152793354475123,
         0.11585629716836358,
         0.10185480766511462,
         0.10441373548224621,
         0.10868386722578915,
         0.10483516278393955,
         0.12016788719072474,
         0.11056552312127085,
         0.12387530398221665,
         0.1194539400605154,
         0.11824426223956408,
         0.11425272584589277,
         0.11262128274480325,
         0.12340955820960775,
         0.11309920868738088,
         0.10216397757919057,
         0.1111318026576075,
         0.1272293726542388,
         0.12378685586942384,
         0.10886478263770046,
         0.09822370821061084,
         0.11112022366554258,
         0.11441967113280238,
         0.11984905901969944,
         0.10938917804713703,
         0.1199607309642377,
         0.11683935689128329,
         0.10862220048063402,
         0.11476185474061927,
         0.11482676718451433,
         0.11265974092922258,
         0.11152655745345352,
         0.11608806738184359,
         0.12016505951010856,
         0.1111531365808754,
         0.10960434936494044,
         0.1193226748389703,
         0.11073134666293544,
         0.10918254747551698,
         0.12437174707907199,
         0.1189206556827066,
         0.11792608682509961,
         0.11695419877179816,
         0.10483385659805644,
         0.10951550436651496,
         0.12287169950357961,
         0.10902195199917553,
         0.11247177309901726,
         0.11095163348054647
        ],
        [
         0.21096825391492424,
         0.2167023612624582,
         0.2120171800876657,
         0.20499607243155146,
         0.20674343268368758,
         0.20835175863741076,
         0.21113574044669375,
         0.20603517539726168,
         0.21427049937055392,
         0.20324243944795692,
         0.21509944380936669,
         0.21039170004865704,
         0.217147208512852,
         0.2160050896014653,
         0.20152075135824726,
         0.21748310784060582,
         0.21925661762190216,
         0.21322392498818682,
         0.21907418878639445,
         0.2142990306019783,
         0.1955314865883659,
         0.2020629742639322,
         0.2130440107418918,
         0.20910175234152406,
         0.217243254111678,
         0.2027357645405858,
         0.2074547531631063,
         0.20920734087407006,
         0.20922326517528764,
         0.2025332430961962,
         0.21094474746096953,
         0.2096500465390729,
         0.21556412530880348,
         0.21263579060049617,
         0.2022825600579381,
         0.2127266363697309,
         0.21458279443722145,
         0.21442735136723987,
         0.20663508643195325,
         0.20737057396521172,
         0.21172160505518026,
         0.21514692458817186,
         0.21795053471464151,
         0.20964541682498714,
         0.2025606511708568,
         0.2132314445049155,
         0.20103347111566394,
         0.2145961615731757,
         0.21426613563123872,
         0.2157197424630616,
         0.21216537396186122,
         0.2095590327117665,
         0.2110535857614641,
         0.2051487134440857,
         0.2004084716569267,
         0.19947781185528227,
         0.20216259413270973,
         0.21713084840745317,
         0.21084316482073537,
         0.21944223831900778,
         0.21867003174973468,
         0.2117050443136809,
         0.2130618993667703,
         0.21151958579453184,
         0.22100505380726912,
         0.21740378468644386,
         0.19836027387018298,
         0.21365507905754974,
         0.21876025860946552,
         0.21645039354688397,
         0.21217342467942074,
         0.20433191336033976,
         0.21028851693970899,
         0.21365543385492822,
         0.2109439176160331,
         0.20576652011596688,
         0.2147619359962204,
         0.21937974429159773,
         0.20402059897634328,
         0.2112886709909813,
         0.20256442983872167,
         0.21270745709611505,
         0.21052687960293362,
         0.21274501744511665,
         0.21526435506986638,
         0.2081534840604838,
         0.20839548483490944,
         0.2099943822797607,
         0.2054656895206255,
         0.2040693054121791,
         0.2176414151657738,
         0.20982204120167913,
         0.20855072204607958,
         0.2090559907659304,
         0.20612796273666853,
         0.20824741871625768,
         0.21916884658675567,
         0.2040502382990192,
         0.20875218968984544,
         0.21559500946279833
        ],
        [
         21.51876189932227,
         22.103640848770738,
         21.625752368941903,
         20.90959938801825,
         21.087830133736134,
         21.251879381015897,
         21.535845525562763,
         21.015587890520692,
         21.8555909357965,
         20.730728823691607,
         21.940143268555403,
         21.459953404963017,
         22.149015268310905,
         22.03251913934946,
         20.55511663854122,
         22.183276999741793,
         22.36417499743402,
         21.748840348795056,
         22.345567256212234,
         21.858501121401787,
         19.94421163201332,
         20.610423374921083,
         21.730489095672965,
         21.328378738835454,
         22.158811919391155,
         20.679047983139753,
         21.160384822636843,
         21.339148769155145,
         21.34077304787934,
         20.65839079581201,
         21.51636424101889,
         21.384304746985435,
         21.987540781497955,
         21.68885064125061,
         20.632821125909686,
         21.698116909712553,
         21.887445032596588,
         21.871589839458466,
         21.07677881605923,
         21.151798544451594,
         21.595603715628386,
         21.94498630799353,
         22.230954540893435,
         21.383832516148686,
         20.661186419427395,
         21.74960733950138,
         20.505414053797722,
         21.888808480463922,
         21.85514583438635,
         22.003413731232285,
         21.640868144109845,
         21.375021336600184,
         21.52746574766934,
         20.92516877129674,
         20.441664109006524,
         20.34673680923879,
         20.620584601536393,
         22.147346537560225,
         21.506002811715007,
         22.383108308538795,
         22.30434323847294,
         21.59391451999545,
         21.73231373541057,
         21.574997751042247,
         22.54251548834145,
         22.175186038017273,
         20.232747934758663,
         21.792818063870072,
         22.313546378165483,
         22.077940141782165,
         21.641689317300916,
         20.841855162754655,
         21.449428727850318,
         21.792854253202677,
         21.516279596835375,
         20.988185051828623,
         21.90571747161448,
         22.376733917742968,
         20.810101095587015,
         21.551444441080093,
         20.66157184354961,
         21.696160623803735,
         21.47374171949923,
         21.6999917794019,
         21.95696421712637,
         21.23165537416935,
         21.256339453160763,
         21.41942699253559,
         20.9575003311038,
         20.81506915204227,
         22.199424346908927,
         21.401848202571273,
         21.272173648700118,
         21.3237110581249,
         21.02505219914019,
         21.241236709058285,
         22.35522235184908,
         20.813124306499958,
         21.292723348364234,
         21.99069096520543
        ],
        [
         3.388279426221254,
         3.3783923455299076,
         3.4595901966954794,
         3.446314652283583,
         3.286555989518455,
         3.2914834944908713,
         3.3767340286897487,
         3.321816493588138,
         3.3164427859417334,
         3.3151805091130897,
         3.4815812280327987,
         3.5101191822697437,
         3.44097843078034,
         3.398692750007768,
         3.2996461307627247,
         3.3673154581801295,
         3.45577590919587,
         3.466724563358271,
         3.5105032380444787,
         3.4434266716628774,
         3.231451884004817,
         3.349558513771716,
         3.410266582012441,
         3.343755379293842,
         3.4485500647091825,
         3.2820922184162766,
         3.299424533706146,
         3.3081269219379985,
         3.4661036240333347,
         3.3176675834021543,
         3.3724334320766305,
         3.3389156433217777,
         3.4767336475298958,
         3.4199326750875967,
         3.3473285952631597,
         3.3292747630822084,
         3.435512084229148,
         3.5063140280179703,
         3.3059686386225464,
         3.363916147019732,
         3.5115371004402487,
         3.3397434495756797,
         3.4737028770082516,
         3.4510664192996403,
         3.296284741944721,
         3.388027261671385,
         3.2434540782063928,
         3.501222609578214,
         3.3867873965790336,
         3.4046442662560565,
         3.3926032274414863,
         3.372810285439226,
         3.437636151656118,
         3.223226703451324,
         3.2634645729943372,
         3.329527662751953,
         3.270043822942107,
         3.5010176368384553,
         3.358226222035916,
         3.554614044616671,
         3.4906019375134383,
         3.472882772054871,
         3.413763031653054,
         3.3893024119971833,
         3.5479254413501966,
         3.3964863147247986,
         3.2281148853591684,
         3.366815093092574,
         3.6024153023676146,
         3.553344804361269,
         3.3322976801368513,
         3.1652516862774602,
         3.3666396917230905,
         3.416256204611394,
         3.496370120569236,
         3.340313781788767,
         3.4979986504217293,
         3.452189798216617,
         3.3285829490978083,
         3.421360721049909,
         3.422328191863027,
         3.389881056140569,
         3.3727894776063705,
         3.4410729246774245,
         3.500976445226541,
         3.367138240590857,
         3.343597409262055,
         3.4886835387542625,
         3.3607435724284898,
         3.3371574494624507,
         3.5617296643717,
         3.4828015848790566,
         3.4682071530057366,
         3.453885967243766,
         3.2700234514452267,
         3.3422419788795246,
         3.5401854964627373,
         3.3347022511636473,
         3.3870519417481266,
         3.3640848109130275
        ]
       ],
       "encoder": "json",
       "name": "ABC_GAN_1 Metrics",
       "version": 1
      }
     },
     "metadata": {
      "scrapbook": {
       "data": true,
       "display": false,
       "name": "ABC_GAN_1 Metrics"
      }
     },
     "output_type": "display_data"
    },
    {
     "name": "stdout",
     "output_type": "stream",
     "text": [
      "MSE\n",
      "0.1130842739949274\n"
     ]
    }
   ],
   "source": [
    "ABC_GAN1_metrics=ABC_train_test2.test_generator(gen,test_data,prior_model,variance,bias,\"1\",device)\n",
    "sb.glue(\"ABC_GAN_1 Metrics\",ABC_GAN1_metrics)\n",
    "\n",
    "print(\"MSE\")\n",
    "print(mean(ABC_GAN1_metrics[0]))"
   ]
  },
  {
   "cell_type": "code",
   "execution_count": 14,
   "id": "eb22ce5c",
   "metadata": {
    "execution": {
     "iopub.execute_input": "2022-06-11T17:57:04.933837Z",
     "iopub.status.busy": "2022-06-11T17:57:04.933449Z",
     "iopub.status.idle": "2022-06-11T17:57:05.252264Z",
     "shell.execute_reply": "2022-06-11T17:57:05.252562Z"
    },
    "papermill": {
     "duration": 0.334133,
     "end_time": "2022-06-11T17:57:05.252692",
     "exception": false,
     "start_time": "2022-06-11T17:57:04.918559",
     "status": "completed"
    },
    "tags": []
   },
   "outputs": [
    {
     "data": {
      "image/png": "[encoded data removed]",
      "text/plain": [
       "<Figure size 432x288 with 1 Axes>"
      ]
     },
     "metadata": {
      "needs_background": "light"
     },
     "output_type": "display_data"
    },
    {
     "data": {
      "image/png": "[encoded data removed]",
      "text/plain": [
       "<Figure size 432x288 with 1 Axes>"
      ]
     },
     "metadata": {
      "needs_background": "light"
     },
     "output_type": "display_data"
    },
    {
     "data": {
      "image/png": "[encoded data removed]",
      "text/plain": [
       "<Figure size 432x288 with 1 Axes>"
      ]
     },
     "metadata": {
      "needs_background": "light"
     },
     "output_type": "display_data"
    },
    {
     "data": {
      "image/png": "[encoded data removed]",
      "text/plain": [
       "<Figure size 432x288 with 1 Axes>"
      ]
     },
     "metadata": {
      "needs_background": "light"
     },
     "output_type": "display_data"
    }
   ],
   "source": [
    "sanityChecks.discProbVsError(train_data,disc,device)\n",
    "sanityChecks.discProbVsError(test_data,disc,device)"
   ]
  },
  {
   "cell_type": "markdown",
   "id": "130f3a4d",
   "metadata": {
    "id": "130f3a4d",
    "papermill": {
     "duration": 0.016584,
     "end_time": "2022-06-11T17:57:05.285101",
     "exception": false,
     "start_time": "2022-06-11T17:57:05.268517",
     "status": "completed"
    },
    "tags": []
   },
   "source": [
    "# ABC - GAN Model with skip connection"
   ]
  },
  {
   "cell_type": "code",
   "execution_count": 15,
   "id": "4e43dad1",
   "metadata": {
    "execution": {
     "iopub.execute_input": "2022-06-11T17:57:05.319898Z",
     "iopub.status.busy": "2022-06-11T17:57:05.319525Z",
     "iopub.status.idle": "2022-06-11T17:57:05.322009Z",
     "shell.execute_reply": "2022-06-11T17:57:05.322313Z"
    },
    "id": "4e43dad1",
    "papermill": {
     "duration": 0.021259,
     "end_time": "2022-06-11T17:57:05.322432",
     "exception": false,
     "start_time": "2022-06-11T17:57:05.301173",
     "status": "completed"
    },
    "tags": []
   },
   "outputs": [],
   "source": [
    "#Generator\n",
    "gen3 = network.GeneratorWithSkipConnection(n_features+1).to(device)\n",
    "constraints=network.weightConstraint()\n",
    "#Discriminator \n",
    "disc3 = network.Discriminator(n_features+1).to(device)\n",
    "\n",
    "criterion = torch.nn.BCELoss()\n",
    "gen_opt = torch.optim.Adam(gen3.parameters(), lr=0.001, betas=(0.5, 0.999))\n",
    "disc_opt = torch.optim.Adam(disc3.parameters(), lr=0.001, betas=(0.5, 0.999))\n"
   ]
  },
  {
   "cell_type": "code",
   "execution_count": 16,
   "id": "26acbc37",
   "metadata": {
    "execution": {
     "iopub.execute_input": "2022-06-11T17:57:05.355579Z",
     "iopub.status.busy": "2022-06-11T17:57:05.355204Z",
     "iopub.status.idle": "2022-06-11T18:00:01.510776Z",
     "shell.execute_reply": "2022-06-11T18:00:01.511109Z"
    },
    "id": "26acbc37",
    "papermill": {
     "duration": 176.173779,
     "end_time": "2022-06-11T18:00:01.511234",
     "exception": false,
     "start_time": "2022-06-11T17:57:05.337455",
     "status": "completed"
    },
    "tags": []
   },
   "outputs": [
    {
     "data": {
      "image/png": "[encoded data removed]",
      "text/plain": [
       "<Figure size 432x288 with 1 Axes>"
      ]
     },
     "metadata": {
      "needs_background": "light"
     },
     "output_type": "display_data"
    },
    {
     "data": {
      "image/png": "[encoded data removed]",
      "text/plain": [
       "<Figure size 432x288 with 1 Axes>"
      ]
     },
     "metadata": {
      "needs_background": "light"
     },
     "output_type": "display_data"
    }
   ],
   "source": [
    "ABC_train_test2.training_GAN_skip_connection(disc3,gen3,disc_opt,gen_opt,train_data,batch_size,n_epochs,criterion,prior_model,variance,bias,device)"
   ]
  },
  {
   "cell_type": "code",
   "execution_count": 17,
   "id": "c5e0717b",
   "metadata": {
    "execution": {
     "iopub.execute_input": "2022-06-11T18:00:01.545314Z",
     "iopub.status.busy": "2022-06-11T18:00:01.544945Z",
     "iopub.status.idle": "2022-06-11T18:00:02.371517Z",
     "shell.execute_reply": "2022-06-11T18:00:02.371798Z"
    },
    "id": "c5e0717b",
    "papermill": {
     "duration": 0.844959,
     "end_time": "2022-06-11T18:00:02.371925",
     "exception": false,
     "start_time": "2022-06-11T18:00:01.526966",
     "status": "completed"
    },
    "tags": []
   },
   "outputs": [
    {
     "data": {
      "application/scrapbook.scrap.json+json": {
       "data": 0.12570817101824727,
       "encoder": "json",
       "name": "ABC-GAN Model 3 MSE",
       "version": 1
      }
     },
     "metadata": {
      "scrapbook": {
       "data": true,
       "display": false,
       "name": "ABC-GAN Model 3 MSE"
      }
     },
     "output_type": "display_data"
    },
    {
     "data": {
      "application/scrapbook.scrap.json+json": {
       "data": 0.23155041799752735,
       "encoder": "json",
       "name": "ABC-GAN Model 3 MAE",
       "version": 1
      }
     },
     "metadata": {
      "scrapbook": {
       "data": true,
       "display": false,
       "name": "ABC-GAN Model 3 MAE"
      }
     },
     "output_type": "display_data"
    },
    {
     "data": {
      "application/scrapbook.scrap.json+json": {
       "data": 23.61814263574779,
       "encoder": "json",
       "name": "ABC-GAN Model 3 Manhattan Distance",
       "version": 1
      }
     },
     "metadata": {
      "scrapbook": {
       "data": true,
       "display": false,
       "name": "ABC-GAN Model 3 Manhattan Distance"
      }
     },
     "output_type": "display_data"
    },
    {
     "data": {
      "application/scrapbook.scrap.json+json": {
       "data": 3.5797627025910455,
       "encoder": "json",
       "name": "ABC-GAN Model 3 Euclidean distance",
       "version": 1
      }
     },
     "metadata": {
      "scrapbook": {
       "data": true,
       "display": false,
       "name": "ABC-GAN Model 3 Euclidean distance"
      }
     },
     "output_type": "display_data"
    },
    {
     "data": {
      "application/scrapbook.scrap.json+json": {
       "data": [
        [
         0.11949347588051067,
         0.11972199468859883,
         0.13098528546851487,
         0.12460395627029987,
         0.1193255690751775,
         0.12033743885926103,
         0.12509883907132027,
         0.12692009967348475,
         0.11871616134575314,
         0.13448507538802754,
         0.12464571021359526,
         0.12825680523506303,
         0.1308288512623305,
         0.11886612416994577,
         0.11931791520509169,
         0.1264759883264702,
         0.13728771032485163,
         0.12611861729885182,
         0.11434939169931098,
         0.12839691145240126,
         0.1210739512315417,
         0.12948056891414822,
         0.12220985750216765,
         0.12623600669087684,
         0.11959886718636073,
         0.14325466659086988,
         0.12357375917127915,
         0.1340612977257964,
         0.12802914225352638,
         0.13424634395901053,
         0.11720511258170065,
         0.12952969824679172,
         0.13153075738590236,
         0.12585662365905587,
         0.12929110110195932,
         0.1264064482632509,
         0.12814960976803194,
         0.11901263225591663,
         0.1269415695715238,
         0.11965191701057648,
         0.1263398684854089,
         0.12950653699600453,
         0.13396622483995255,
         0.1331690072850965,
         0.1289871198861392,
         0.11915813263994522,
         0.1251666463182505,
         0.125678154104773,
         0.1361392485879225,
         0.14213680535569814,
         0.1259399954246463,
         0.1285593989145798,
         0.12790211051515768,
         0.1208356088434296,
         0.11652581888344542,
         0.12144078433562773,
         0.12571951123222547,
         0.12294984729813387,
         0.12725611600336031,
         0.12868719448161844,
         0.12933336023641817,
         0.12823635148648813,
         0.12301194701909006,
         0.12583273538237535,
         0.13080507874266536,
         0.12716620623869632,
         0.12012397843893503,
         0.1255759344614797,
         0.12948937323921775,
         0.12522120472282508,
         0.11819930688367349,
         0.12860056434222078,
         0.12853863806857027,
         0.11890548635556779,
         0.13996513838957794,
         0.1322110494364056,
         0.1251981747830119,
         0.12814453475981077,
         0.12705072319497607,
         0.12736590899599853,
         0.12463801676455041,
         0.1115138435115646,
         0.11846015064071273,
         0.12918317714338948,
         0.12217108723490697,
         0.1334740667435086,
         0.11766776474132382,
         0.13402867156864068,
         0.126476965736439,
         0.12846079684031525,
         0.11454664809821102,
         0.11296406109117764,
         0.11951693743352006,
         0.1291235633472305,
         0.11375825915597193,
         0.12325821567439035,
         0.11882903655380593,
         0.13089948162146792,
         0.12223317025946644,
         0.12500151007556712
        ],
        [
         0.2225247677232997,
         0.22504694206530557,
         0.23062967028761028,
         0.22855852955185316,
         0.22770678765122213,
         0.2369720408619911,
         0.23337234865289694,
         0.2296903684333551,
         0.23021297626124293,
         0.23546093397353793,
         0.2283259907956509,
         0.22768402364397167,
         0.23406540531226816,
         0.22901602383410813,
         0.22452445023273135,
         0.23059250021755112,
         0.2435360295405867,
         0.22665713729300335,
         0.21739969667339443,
         0.23519462743299266,
         0.22572068901111683,
         0.23662064050999926,
         0.2330824370660326,
         0.23608842727673404,
         0.2268781298406276,
         0.24686426934147,
         0.22510289329597177,
         0.23186101883138513,
         0.23655012134900866,
         0.23911600035852662,
         0.22943977808908506,
         0.2302574985934531,
         0.24454012617249699,
         0.23417115856108128,
         0.23428509590745555,
         0.23398733126255228,
         0.22921495667348304,
         0.23173825503053033,
         0.235065688707811,
         0.2246366872397416,
         0.23355387635163816,
         0.22363994447697028,
         0.24337075214248663,
         0.24116927401765303,
         0.23334694056607344,
         0.22992812405687338,
         0.23079438421729148,
         0.23752853027818835,
         0.23651470231147959,
         0.24599001909076584,
         0.23029971840407917,
         0.2382586483167959,
         0.23263715589236394,
         0.2221863199865409,
         0.22019801801983632,
         0.2276368256767883,
         0.23288030719713254,
         0.22747658151110597,
         0.23088955924864493,
         0.23575107273006557,
         0.23521848053981861,
         0.22529427606758534,
         0.23175415617651215,
         0.230248784335951,
         0.23029677688564157,
         0.2362911401900883,
         0.22312012433494424,
         0.23273115592333032,
         0.23801022682192863,
         0.2356311267095746,
         0.231944190100858,
         0.23042464301939689,
         0.2348794393862287,
         0.23095082902513883,
         0.24439083494465141,
         0.23788284263847506,
         0.22912380670872973,
         0.23164545615002805,
         0.23005026405421541,
         0.2366816423577713,
         0.2314170431163089,
         0.21684329754070325,
         0.22628209858621454,
         0.23286558952474712,
         0.22465407455741776,
         0.23531856857167155,
         0.22282767283054544,
         0.23221301084713025,
         0.23242638685612702,
         0.2312587363937614,
         0.22092355833407126,
         0.21793755335623727,
         0.23106868654562562,
         0.23488342354768046,
         0.2272915907532853,
         0.23210460226982832,
         0.23220680495176246,
         0.2328130880589871,
         0.23765358608216047,
         0.22903902260769232
        ],
        [
         22.69752630777657,
         22.954788090661168,
         23.524226369336247,
         23.31297001428902,
         23.226092340424657,
         24.171148167923093,
         23.803979562595487,
         23.428417580202222,
         23.48172357864678,
         24.01701526530087,
         23.289251061156392,
         23.22377041168511,
         23.874671341851354,
         23.35963443107903,
         22.9014939237386,
         23.520435022190213,
         24.840675013139844,
         23.119028003886342,
         22.17476906068623,
         23.98985199816525,
         23.023510279133916,
         24.135305332019925,
         23.774408580735326,
         24.081019582226872,
         23.141569243744016,
         25.180155472829938,
         22.960495116189122,
         23.649823920801282,
         24.12811237759888,
         24.389832036569715,
         23.402857365086675,
         23.486264856532216,
         24.943092869594693,
         23.88545817323029,
         23.897079782560468,
         23.86670778878033,
         23.37992558069527,
         23.637302013114095,
         23.97670024819672,
         22.91294209845364,
         23.822495387867093,
         22.811274336650968,
         24.823816718533635,
         24.59926594980061,
         23.80138793773949,
         23.452668653801084,
         23.54102719016373,
         24.22791008837521,
         24.124499635770917,
         25.090981947258115,
         23.490571277216077,
         24.302382128313184,
         23.728989901021123,
         22.66300463862717,
         22.460197838023305,
         23.218956219032407,
         23.753791334107518,
         23.20261131413281,
         23.550735043361783,
         24.046609418466687,
         23.992285015061498,
         22.980016158893704,
         23.63892393000424,
         23.485376002267003,
         23.49027124233544,
         24.101696299389005,
         22.75825268216431,
         23.738577904179692,
         24.27704313583672,
         24.034374924376607,
         23.65830739028752,
         23.503313587978482,
         23.95770281739533,
         23.55698456056416,
         24.927865164354444,
         24.264049949124455,
         23.370628284290433,
         23.62783652730286,
         23.465126933529973,
         24.141527520492673,
         23.604538397863507,
         22.11801634915173,
         23.08077405579388,
         23.752290131524205,
         22.91471560485661,
         24.0024939943105,
         22.728422628715634,
         23.685727106407285,
         23.707491459324956,
         23.588391112163663,
         22.53420295007527,
         22.2296304423362,
         23.569006027653813,
         23.958109201863408,
         23.183742256835103,
         23.67466943152249,
         23.68509410507977,
         23.746934982016683,
         24.24066578038037,
         23.361980305984616
        ],
        [
         3.491179534170662,
         3.4945161980218478,
         3.655201652137473,
         3.5650530907085494,
         3.4887258484535724,
         3.5034866581228217,
         3.5721256396261682,
         3.598034208661091,
         3.4798058074074785,
         3.7037113399371187,
         3.5656503532717156,
         3.616931591000364,
         3.653018317605005,
         3.482002967450554,
         3.4886139584252285,
         3.5917336773903425,
         3.7421045486644084,
         3.5866556796663485,
         3.415206868306767,
         3.6189065984278903,
         3.514191660341998,
         3.6341461210638073,
         3.5306381102034656,
         3.5883244951466464,
         3.4927187766851184,
         3.8225614438840254,
         3.55028497947284,
         3.697871329296251,
         3.61372003755959,
         3.700422554765749,
         3.457588969691664,
         3.6348355150092764,
         3.6628045611746796,
         3.5829283572552337,
         3.6314862401501458,
         3.5907461234194193,
         3.6154197814830926,
         3.4841481728111807,
         3.598338518857755,
         3.493493314016615,
         3.589800354547827,
         3.634510527374003,
         3.6965598782753606,
         3.685544565336287,
         3.6272146653301607,
         3.486277316748397,
         3.573093607010813,
         3.5803870906211865,
         3.726419643031108,
         3.8076179097017073,
         3.584114888408841,
         3.62119575406897,
         3.6119268088578536,
         3.5107309925469674,
         3.447554716913341,
         3.519511330033478,
         3.580976144249915,
         3.5413111165795144,
         3.602793892570424,
         3.6229951472676682,
         3.632079672049423,
         3.616643174495071,
         3.542205329444805,
         3.582588311403123,
         3.6526864130050716,
         3.6015209337649305,
         3.500377951132045,
         3.57893075024803,
         3.6342696749691275,
         3.5738722531349882,
         3.4722225306184926,
         3.6217754710785854,
         3.6209033517886335,
         3.4825794475170135,
         3.7784182028643865,
         3.672264565974702,
         3.5735435953500283,
         3.6153481914610515,
         3.599885243433123,
         3.6043477520339025,
         3.5655403110866857,
         3.3725972244220896,
         3.476051691985131,
         3.629970257264613,
         3.530078030010174,
         3.6897635165194353,
         3.464406443189803,
         3.6974213311443624,
         3.591747555872596,
         3.619806801158336,
         3.418151270206969,
         3.394456397024436,
         3.491522249423457,
         3.6291326045513284,
         3.4063679240371467,
         3.5457492859461754,
         3.4814597123172635,
         3.6540042590820447,
         3.5309748464787405,
         3.570735782399455
        ]
       ],
       "encoder": "json",
       "name": "ABC_GAN_3 Metrics",
       "version": 1
      }
     },
     "metadata": {
      "scrapbook": {
       "data": true,
       "display": false,
       "name": "ABC_GAN_3 Metrics"
      }
     },
     "output_type": "display_data"
    },
    {
     "name": "stdout",
     "output_type": "stream",
     "text": [
      "MSE\n",
      "0.12570817101824727\n"
     ]
    }
   ],
   "source": [
    "ABC_GAN3_metrics=ABC_train_test2.test_generator(gen3,test_data,prior_model,variance,bias,\"3\",device)\n",
    "sb.glue(\"ABC_GAN_3 Metrics\",ABC_GAN3_metrics)\n",
    "\n",
    "print(\"MSE\")\n",
    "print(mean(ABC_GAN3_metrics[0]))"
   ]
  },
  {
   "cell_type": "code",
   "execution_count": 18,
   "id": "c8e46b48",
   "metadata": {
    "execution": {
     "iopub.execute_input": "2022-06-11T18:00:02.408715Z",
     "iopub.status.busy": "2022-06-11T18:00:02.408348Z",
     "iopub.status.idle": "2022-06-11T18:00:02.739087Z",
     "shell.execute_reply": "2022-06-11T18:00:02.739307Z"
    },
    "id": "c8e46b48",
    "papermill": {
     "duration": 0.350178,
     "end_time": "2022-06-11T18:00:02.739444",
     "exception": false,
     "start_time": "2022-06-11T18:00:02.389266",
     "status": "completed"
    },
    "tags": []
   },
   "outputs": [
    {
     "data": {
      "image/png": "[encoded data removed]",
      "text/plain": [
       "<Figure size 432x288 with 1 Axes>"
      ]
     },
     "metadata": {
      "needs_background": "light"
     },
     "output_type": "display_data"
    },
    {
     "data": {
      "image/png": "[encoded data removed]",
      "text/plain": [
       "<Figure size 432x288 with 1 Axes>"
      ]
     },
     "metadata": {
      "needs_background": "light"
     },
     "output_type": "display_data"
    },
    {
     "data": {
      "image/png": "[encoded data removed]",
      "text/plain": [
       "<Figure size 432x288 with 1 Axes>"
      ]
     },
     "metadata": {
      "needs_background": "light"
     },
     "output_type": "display_data"
    },
    {
     "data": {
      "image/png": "[encoded data removed]",
      "text/plain": [
       "<Figure size 432x288 with 1 Axes>"
      ]
     },
     "metadata": {
      "needs_background": "light"
     },
     "output_type": "display_data"
    }
   ],
   "source": [
    "sanityChecks.discProbVsError(train_data,disc3,device)\n",
    "sanityChecks.discProbVsError(test_data,disc3,device)"
   ]
  },
  {
   "cell_type": "markdown",
   "id": "a5bd74c3",
   "metadata": {
    "id": "a5bd74c3",
    "papermill": {
     "duration": 0.019567,
     "end_time": "2022-06-11T18:00:02.778985",
     "exception": false,
     "start_time": "2022-06-11T18:00:02.759418",
     "status": "completed"
    },
    "tags": []
   },
   "source": [
    "## Skip Connection Model Analysis - ABC-GAN "
   ]
  },
  {
   "cell_type": "markdown",
   "id": "5744a8bf",
   "metadata": {
    "id": "5744a8bf",
    "papermill": {
     "duration": 0.019296,
     "end_time": "2022-06-11T18:00:02.817977",
     "exception": false,
     "start_time": "2022-06-11T18:00:02.798681",
     "status": "completed"
    },
    "tags": []
   },
   "source": [
    "### Weight Analysis \n",
    "\n",
    "Study the weights of the skip connection layer\n",
    "\n",
    "Equation of the skip connection is \n",
    "\n",
    "$output = y_{gan} * w + y_{abc} * (1-w)$"
   ]
  },
  {
   "cell_type": "code",
   "execution_count": 19,
   "id": "52c31dea",
   "metadata": {
    "execution": {
     "iopub.execute_input": "2022-06-11T18:00:02.859511Z",
     "iopub.status.busy": "2022-06-11T18:00:02.859133Z",
     "iopub.status.idle": "2022-06-11T18:00:02.862574Z",
     "shell.execute_reply": "2022-06-11T18:00:02.862810Z"
    },
    "id": "52c31dea",
    "papermill": {
     "duration": 0.025631,
     "end_time": "2022-06-11T18:00:02.862925",
     "exception": false,
     "start_time": "2022-06-11T18:00:02.837294",
     "status": "completed"
    },
    "tags": []
   },
   "outputs": [
    {
     "name": "stdout",
     "output_type": "stream",
     "text": [
      "Weight of the node at skip connection\n",
      "Parameter containing:\n",
      "tensor([[0.1397]], requires_grad=True)\n"
     ]
    },
    {
     "data": {
      "application/scrapbook.scrap.json+json": {
       "data": 0.13968688249588013,
       "encoder": "json",
       "name": "Skip Connection Weight",
       "version": 1
      }
     },
     "metadata": {
      "scrapbook": {
       "data": true,
       "display": false,
       "name": "Skip Connection Weight"
      }
     },
     "output_type": "display_data"
    }
   ],
   "source": [
    "print(\"Weight of the node at skip connection\")\n",
    "for name,param in gen3.named_parameters():\n",
    "    if(name == \"skipNode.weight\"):\n",
    "        print(param)\n",
    "        sb.glue(\"Skip Connection Weight\",param.item())"
   ]
  }
 ],
 "metadata": {
  "colab": {
   "collapsed_sections": [],
   "name": "ABC_GAN_Model-Catboost_Pre-gen.ipynb",
   "provenance": []
  },
  "interpreter": {
   "hash": "31f2aee4e71d21fbe5cf8b01ff0e069b9275f58929596ceb00d14d90e3e16cd6"
  },
  "kernelspec": {
   "display_name": "Python 3 (ipykernel)",
   "language": "python",
   "name": "python3"
  },
  "language_info": {
   "codemirror_mode": {
    "name": "ipython",
    "version": 3
   },
   "file_extension": ".py",
   "mimetype": "text/x-python",
   "name": "python",
   "nbconvert_exporter": "python",
   "pygments_lexer": "ipython3",
   "version": "3.8.11"
  },
  "papermill": {
   "default_parameters": {},
   "duration": 242.574821,
   "end_time": "2022-06-11T18:00:03.190437",
   "environment_variables": {},
   "exception": null,
   "input_path": "ABC_GAN-Catboost.ipynb",
   "output_path": "./ABC_GAN_Catboost/ABC-GAN_output_3_1.ipynb",
   "parameters": {
    "bias": 1,
    "variance": 0.1
   },
   "start_time": "2022-06-11T17:56:00.615616",
   "version": "2.3.3"
  }
 },
 "nbformat": 4,
 "nbformat_minor": 5
}