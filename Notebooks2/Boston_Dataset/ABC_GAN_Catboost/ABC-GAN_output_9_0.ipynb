{
 "cells": [
  {
   "cell_type": "markdown",
   "id": "622780e6",
   "metadata": {
    "id": "622780e6",
    "papermill": {
     "duration": 0.033823,
     "end_time": "2022-06-12T07:19:06.313980",
     "exception": false,
     "start_time": "2022-06-12T07:19:06.280157",
     "status": "completed"
    },
    "tags": []
   },
   "source": [
    "## Import Libraries "
   ]
  },
  {
   "cell_type": "code",
   "execution_count": 1,
   "id": "a62397e3",
   "metadata": {
    "execution": {
     "iopub.execute_input": "2022-06-12T07:19:06.350336Z",
     "iopub.status.busy": "2022-06-12T07:19:06.349756Z",
     "iopub.status.idle": "2022-06-12T07:19:06.352151Z",
     "shell.execute_reply": "2022-06-12T07:19:06.352488Z"
    },
    "id": "a62397e3",
    "papermill": {
     "duration": 0.022593,
     "end_time": "2022-06-12T07:19:06.352704",
     "exception": false,
     "start_time": "2022-06-12T07:19:06.330111",
     "status": "completed"
    },
    "tags": []
   },
   "outputs": [],
   "source": [
    "import warnings\n",
    "import sys\n",
    "sys.path.insert(0, '../../src')\n",
    "warnings.filterwarnings('ignore')"
   ]
  },
  {
   "cell_type": "code",
   "execution_count": 2,
   "id": "d6a4e155",
   "metadata": {
    "execution": {
     "iopub.execute_input": "2022-06-12T07:19:06.373113Z",
     "iopub.status.busy": "2022-06-12T07:19:06.372710Z",
     "iopub.status.idle": "2022-06-12T07:19:08.209740Z",
     "shell.execute_reply": "2022-06-12T07:19:08.210001Z"
    },
    "id": "d6a4e155",
    "papermill": {
     "duration": 1.847676,
     "end_time": "2022-06-12T07:19:08.210124",
     "exception": false,
     "start_time": "2022-06-12T07:19:06.362448",
     "status": "completed"
    },
    "tags": []
   },
   "outputs": [],
   "source": [
    "import ABC_train_test2\n",
    "import bostonDataset\n",
    "import network\n",
    "import dataset\n",
    "import sanityChecks\n",
    "import torch \n",
    "import scrapbook as sb\n",
    "from statistics import mean \n",
    "import catboost as ctb \n",
    "from sklearn.model_selection import train_test_split\n",
    "from sklearn.metrics import mean_squared_error,mean_absolute_error\n",
    "import numpy as np"
   ]
  },
  {
   "cell_type": "markdown",
   "id": "2fa5b0f7",
   "metadata": {
    "id": "2fa5b0f7",
    "papermill": {
     "duration": 0.006739,
     "end_time": "2022-06-12T07:19:08.223959",
     "exception": false,
     "start_time": "2022-06-12T07:19:08.217220",
     "status": "completed"
    },
    "tags": []
   },
   "source": [
    "## Parameters "
   ]
  },
  {
   "cell_type": "code",
   "execution_count": 3,
   "id": "783186fb",
   "metadata": {
    "execution": {
     "iopub.execute_input": "2022-06-12T07:19:08.239527Z",
     "iopub.status.busy": "2022-06-12T07:19:08.239122Z",
     "iopub.status.idle": "2022-06-12T07:19:08.240405Z",
     "shell.execute_reply": "2022-06-12T07:19:08.240641Z"
    },
    "id": "783186fb",
    "papermill": {
     "duration": 0.010096,
     "end_time": "2022-06-12T07:19:08.240750",
     "exception": false,
     "start_time": "2022-06-12T07:19:08.230654",
     "status": "completed"
    },
    "tags": [
     "parameters"
    ]
   },
   "outputs": [],
   "source": [
    "variance = 1\n",
    "bias = 1 "
   ]
  },
  {
   "cell_type": "code",
   "execution_count": 4,
   "id": "cc8eccbe",
   "metadata": {
    "execution": {
     "iopub.execute_input": "2022-06-12T07:19:08.256181Z",
     "iopub.status.busy": "2022-06-12T07:19:08.255825Z",
     "iopub.status.idle": "2022-06-12T07:19:08.257093Z",
     "shell.execute_reply": "2022-06-12T07:19:08.257329Z"
    },
    "papermill": {
     "duration": 0.009821,
     "end_time": "2022-06-12T07:19:08.257432",
     "exception": false,
     "start_time": "2022-06-12T07:19:08.247611",
     "status": "completed"
    },
    "tags": [
     "injected-parameters"
    ]
   },
   "outputs": [],
   "source": [
    "# Parameters\n",
    "variance = 1\n",
    "bias = 1\n"
   ]
  },
  {
   "cell_type": "markdown",
   "id": "391cdbfd",
   "metadata": {
    "id": "391cdbfd",
    "papermill": {
     "duration": 0.006713,
     "end_time": "2022-06-12T07:19:08.270924",
     "exception": false,
     "start_time": "2022-06-12T07:19:08.264211",
     "status": "completed"
    },
    "tags": []
   },
   "source": [
    "## Dataset \n"
   ]
  },
  {
   "cell_type": "code",
   "execution_count": 5,
   "id": "5b51f161",
   "metadata": {
    "execution": {
     "iopub.execute_input": "2022-06-12T07:19:08.286230Z",
     "iopub.status.busy": "2022-06-12T07:19:08.285872Z",
     "iopub.status.idle": "2022-06-12T07:19:08.287193Z",
     "shell.execute_reply": "2022-06-12T07:19:08.287447Z"
    },
    "id": "5b51f161",
    "papermill": {
     "duration": 0.009873,
     "end_time": "2022-06-12T07:19:08.287556",
     "exception": false,
     "start_time": "2022-06-12T07:19:08.277683",
     "status": "completed"
    },
    "tags": []
   },
   "outputs": [],
   "source": [
    "#Parameters \n",
    "n_features = 13\n",
    "n_samples= 506\n",
    "n_target = 1 "
   ]
  },
  {
   "cell_type": "code",
   "execution_count": 6,
   "id": "5d6eced4",
   "metadata": {
    "execution": {
     "iopub.execute_input": "2022-06-12T07:19:08.303367Z",
     "iopub.status.busy": "2022-06-12T07:19:08.302939Z",
     "iopub.status.idle": "2022-06-12T07:19:08.313746Z",
     "shell.execute_reply": "2022-06-12T07:19:08.313984Z"
    },
    "id": "5d6eced4",
    "papermill": {
     "duration": 0.019615,
     "end_time": "2022-06-12T07:19:08.314095",
     "exception": false,
     "start_time": "2022-06-12T07:19:08.294480",
     "status": "completed"
    },
    "tags": []
   },
   "outputs": [
    {
     "name": "stdout",
     "output_type": "stream",
     "text": [
      "         X1        X2        X3        X4        X5        X6        X7  \\\n",
      "0 -0.419782  0.284830 -1.287909 -0.272599 -0.144217  0.413672 -0.120013   \n",
      "1 -0.417339 -0.487722 -0.593381 -0.272599 -0.740262  0.194274  0.367166   \n",
      "2 -0.417342 -0.487722 -0.593381 -0.272599 -0.740262  1.282714 -0.265812   \n",
      "3 -0.416750 -0.487722 -1.306878 -0.272599 -0.835284  1.016303 -0.809889   \n",
      "4 -0.412482 -0.487722 -1.306878 -0.272599 -0.835284  1.228577 -0.511180   \n",
      "\n",
      "         X8        X9       X10       X11       X12       X13         Y  \n",
      "0  0.140214 -0.982843 -0.666608 -1.459000  0.441052 -1.075562  0.159686  \n",
      "1  0.557160 -0.867883 -0.987329 -0.303094  0.441052 -0.492439 -0.101524  \n",
      "2  0.557160 -0.867883 -0.987329 -0.303094  0.396427 -1.208727  1.324247  \n",
      "3  1.077737 -0.752922 -1.106115  0.113032  0.416163 -1.361517  1.182758  \n",
      "4  1.077737 -0.752922 -1.106115  0.113032  0.441052 -1.026501  1.487503  \n"
     ]
    }
   ],
   "source": [
    "X,Y = bostonDataset.boston_data()"
   ]
  },
  {
   "cell_type": "code",
   "execution_count": 7,
   "id": "fe007438",
   "metadata": {
    "execution": {
     "iopub.execute_input": "2022-06-12T07:19:08.330902Z",
     "iopub.status.busy": "2022-06-12T07:19:08.330524Z",
     "iopub.status.idle": "2022-06-12T07:19:08.332092Z",
     "shell.execute_reply": "2022-06-12T07:19:08.332326Z"
    },
    "id": "fe007438",
    "papermill": {
     "duration": 0.011109,
     "end_time": "2022-06-12T07:19:08.332442",
     "exception": false,
     "start_time": "2022-06-12T07:19:08.321333",
     "status": "completed"
    },
    "tags": []
   },
   "outputs": [],
   "source": [
    "#Train test split for dataset \n",
    "X_train,X_test,Y_train,Y_test = train_test_split(X,Y,test_size = 0.2)\n",
    "train_data = dataset.CustomDataset(X_train,Y_train)\n",
    "test_data = dataset.CustomDataset(X_test,Y_test)\n"
   ]
  },
  {
   "cell_type": "markdown",
   "id": "a9a1af34",
   "metadata": {
    "id": "a9a1af34",
    "papermill": {
     "duration": 0.006993,
     "end_time": "2022-06-12T07:19:08.346536",
     "exception": false,
     "start_time": "2022-06-12T07:19:08.339543",
     "status": "completed"
    },
    "tags": []
   },
   "source": [
    "## Training Parameters "
   ]
  },
  {
   "cell_type": "code",
   "execution_count": 8,
   "id": "952b7fc8",
   "metadata": {
    "execution": {
     "iopub.execute_input": "2022-06-12T07:19:08.362721Z",
     "iopub.status.busy": "2022-06-12T07:19:08.362360Z",
     "iopub.status.idle": "2022-06-12T07:19:08.363650Z",
     "shell.execute_reply": "2022-06-12T07:19:08.363899Z"
    },
    "id": "952b7fc8",
    "papermill": {
     "duration": 0.010459,
     "end_time": "2022-06-12T07:19:08.364008",
     "exception": false,
     "start_time": "2022-06-12T07:19:08.353549",
     "status": "completed"
    },
    "tags": []
   },
   "outputs": [],
   "source": [
    "batch_size = 32\n",
    "n_epochs = 1000\n",
    "#Select the device \n",
    "device = torch.device('cuda' if torch.cuda.is_available() else 'cpu')"
   ]
  },
  {
   "cell_type": "markdown",
   "id": "a95e1600",
   "metadata": {
    "id": "a95e1600",
    "papermill": {
     "duration": 0.006989,
     "end_time": "2022-06-12T07:19:08.378174",
     "exception": false,
     "start_time": "2022-06-12T07:19:08.371185",
     "status": "completed"
    },
    "tags": []
   },
   "source": [
    "# ABC Pre-generator Model \n",
    "\n",
    "1. The catboost model is used as a pre-generator model for the ABC-GAN. \n",
    "2. The model is first trained on the entire dataset \n",
    "3. It generats X,Y pairs and we add some Gaussian noise with mean 0 and variance 1 to it which is then feed as input to the generator.\n"
   ]
  },
  {
   "cell_type": "code",
   "execution_count": 9,
   "id": "ff8ce7bd",
   "metadata": {
    "execution": {
     "iopub.execute_input": "2022-06-12T07:19:08.397179Z",
     "iopub.status.busy": "2022-06-12T07:19:08.396787Z",
     "iopub.status.idle": "2022-06-12T07:19:09.359505Z",
     "shell.execute_reply": "2022-06-12T07:19:09.359899Z"
    },
    "id": "ff8ce7bd",
    "papermill": {
     "duration": 0.97475,
     "end_time": "2022-06-12T07:19:09.360023",
     "exception": false,
     "start_time": "2022-06-12T07:19:08.385273",
     "status": "completed"
    },
    "tags": []
   },
   "outputs": [
    {
     "name": "stdout",
     "output_type": "stream",
     "text": [
      "Learning rate set to 0.033215\n",
      "0:\tlearn: 0.9805710\ttotal: 58.1ms\tremaining: 58s\n",
      "1:\tlearn: 0.9611463\ttotal: 59ms\tremaining: 29.5s\n",
      "2:\tlearn: 0.9409695\ttotal: 60.1ms\tremaining: 20s\n",
      "3:\tlearn: 0.9232241\ttotal: 61ms\tremaining: 15.2s\n",
      "4:\tlearn: 0.9062065\ttotal: 61.9ms\tremaining: 12.3s\n",
      "5:\tlearn: 0.8888946\ttotal: 63.1ms\tremaining: 10.5s\n",
      "6:\tlearn: 0.8709730\ttotal: 63.9ms\tremaining: 9.07s\n",
      "7:\tlearn: 0.8548279\ttotal: 64.8ms\tremaining: 8.03s\n",
      "8:\tlearn: 0.8398658\ttotal: 65.6ms\tremaining: 7.23s\n",
      "9:\tlearn: 0.8225429\ttotal: 66.5ms\tremaining: 6.59s\n",
      "10:\tlearn: 0.8057189\ttotal: 67.3ms\tremaining: 6.05s\n",
      "11:\tlearn: 0.7893815\ttotal: 68.2ms\tremaining: 5.61s\n",
      "12:\tlearn: 0.7743709\ttotal: 69ms\tremaining: 5.24s\n",
      "13:\tlearn: 0.7588383\ttotal: 69.9ms\tremaining: 4.92s\n",
      "14:\tlearn: 0.7471584\ttotal: 70.9ms\tremaining: 4.65s\n",
      "15:\tlearn: 0.7322114\ttotal: 71.7ms\tremaining: 4.41s\n",
      "16:\tlearn: 0.7183822\ttotal: 72.5ms\tremaining: 4.19s\n",
      "17:\tlearn: 0.7054339\ttotal: 73.2ms\tremaining: 4s\n",
      "18:\tlearn: 0.6928385\ttotal: 74.1ms\tremaining: 3.82s\n",
      "19:\tlearn: 0.6808880\ttotal: 74.8ms\tremaining: 3.67s\n",
      "20:\tlearn: 0.6693933\ttotal: 75.6ms\tremaining: 3.53s\n",
      "21:\tlearn: 0.6585115\ttotal: 76.4ms\tremaining: 3.4s\n",
      "22:\tlearn: 0.6475754\ttotal: 77.1ms\tremaining: 3.28s\n",
      "23:\tlearn: 0.6371750\ttotal: 77.9ms\tremaining: 3.17s\n",
      "24:\tlearn: 0.6280036\ttotal: 78.7ms\tremaining: 3.07s\n",
      "25:\tlearn: 0.6185168\ttotal: 79.5ms\tremaining: 2.98s\n",
      "26:\tlearn: 0.6090744\ttotal: 80.3ms\tremaining: 2.9s\n",
      "27:\tlearn: 0.6002016\ttotal: 81ms\tremaining: 2.81s\n",
      "28:\tlearn: 0.5903937\ttotal: 81.8ms\tremaining: 2.74s\n",
      "29:\tlearn: 0.5801298\ttotal: 82.7ms\tremaining: 2.67s\n",
      "30:\tlearn: 0.5706841\ttotal: 83.5ms\tremaining: 2.61s\n",
      "31:\tlearn: 0.5620578\ttotal: 84.4ms\tremaining: 2.55s\n",
      "32:\tlearn: 0.5540459\ttotal: 85.2ms\tremaining: 2.5s\n",
      "33:\tlearn: 0.5464828\ttotal: 86ms\tremaining: 2.44s\n",
      "34:\tlearn: 0.5386195\ttotal: 86.8ms\tremaining: 2.39s\n",
      "35:\tlearn: 0.5307774\ttotal: 87.6ms\tremaining: 2.35s\n",
      "36:\tlearn: 0.5237981\ttotal: 88.5ms\tremaining: 2.3s\n",
      "37:\tlearn: 0.5155496\ttotal: 89.2ms\tremaining: 2.26s\n",
      "38:\tlearn: 0.5080148\ttotal: 90.1ms\tremaining: 2.22s\n",
      "39:\tlearn: 0.5004134\ttotal: 91ms\tremaining: 2.18s\n",
      "40:\tlearn: 0.4938159\ttotal: 91.9ms\tremaining: 2.15s\n",
      "41:\tlearn: 0.4864199\ttotal: 92.6ms\tremaining: 2.11s\n",
      "42:\tlearn: 0.4801092\ttotal: 93.4ms\tremaining: 2.08s\n",
      "43:\tlearn: 0.4743395\ttotal: 94.3ms\tremaining: 2.05s\n",
      "44:\tlearn: 0.4683318\ttotal: 95.1ms\tremaining: 2.02s\n",
      "45:\tlearn: 0.4618543\ttotal: 95.8ms\tremaining: 1.99s\n",
      "46:\tlearn: 0.4561985\ttotal: 96.6ms\tremaining: 1.96s\n",
      "47:\tlearn: 0.4501832\ttotal: 97.4ms\tremaining: 1.93s\n",
      "48:\tlearn: 0.4447360\ttotal: 98.2ms\tremaining: 1.91s\n",
      "49:\tlearn: 0.4395593\ttotal: 99.1ms\tremaining: 1.88s\n",
      "50:\tlearn: 0.4344483\ttotal: 100ms\tremaining: 1.86s\n",
      "51:\tlearn: 0.4292530\ttotal: 101ms\tremaining: 1.84s\n",
      "52:\tlearn: 0.4250169\ttotal: 102ms\tremaining: 1.81s\n",
      "53:\tlearn: 0.4199054\ttotal: 103ms\tremaining: 1.8s\n",
      "54:\tlearn: 0.4153439\ttotal: 103ms\tremaining: 1.78s\n",
      "55:\tlearn: 0.4104584\ttotal: 104ms\tremaining: 1.76s\n",
      "56:\tlearn: 0.4065927\ttotal: 105ms\tremaining: 1.74s\n",
      "57:\tlearn: 0.4019982\ttotal: 106ms\tremaining: 1.72s\n",
      "58:\tlearn: 0.3977542\ttotal: 107ms\tremaining: 1.7s\n",
      "59:\tlearn: 0.3935103\ttotal: 108ms\tremaining: 1.69s\n"
     ]
    },
    {
     "name": "stdout",
     "output_type": "stream",
     "text": [
      "60:\tlearn: 0.3896867\ttotal: 109ms\tremaining: 1.67s\n",
      "61:\tlearn: 0.3859182\ttotal: 110ms\tremaining: 1.66s\n",
      "62:\tlearn: 0.3824398\ttotal: 110ms\tremaining: 1.64s\n",
      "63:\tlearn: 0.3788176\ttotal: 111ms\tremaining: 1.63s\n",
      "64:\tlearn: 0.3752801\ttotal: 112ms\tremaining: 1.61s\n",
      "65:\tlearn: 0.3717107\ttotal: 113ms\tremaining: 1.6s\n",
      "66:\tlearn: 0.3681468\ttotal: 114ms\tremaining: 1.58s\n",
      "67:\tlearn: 0.3652185\ttotal: 115ms\tremaining: 1.57s\n",
      "68:\tlearn: 0.3626862\ttotal: 116ms\tremaining: 1.56s\n",
      "69:\tlearn: 0.3592354\ttotal: 116ms\tremaining: 1.54s\n",
      "70:\tlearn: 0.3564405\ttotal: 117ms\tremaining: 1.53s\n",
      "71:\tlearn: 0.3536761\ttotal: 118ms\tremaining: 1.52s\n",
      "72:\tlearn: 0.3505777\ttotal: 119ms\tremaining: 1.51s\n",
      "73:\tlearn: 0.3479506\ttotal: 120ms\tremaining: 1.5s\n",
      "74:\tlearn: 0.3450702\ttotal: 120ms\tremaining: 1.48s\n",
      "75:\tlearn: 0.3426658\ttotal: 121ms\tremaining: 1.47s\n",
      "76:\tlearn: 0.3392191\ttotal: 122ms\tremaining: 1.46s\n",
      "77:\tlearn: 0.3366738\ttotal: 123ms\tremaining: 1.45s\n",
      "78:\tlearn: 0.3341987\ttotal: 123ms\tremaining: 1.44s\n",
      "79:\tlearn: 0.3316815\ttotal: 124ms\tremaining: 1.43s\n",
      "80:\tlearn: 0.3292756\ttotal: 125ms\tremaining: 1.42s\n",
      "81:\tlearn: 0.3266927\ttotal: 126ms\tremaining: 1.41s\n",
      "82:\tlearn: 0.3241569\ttotal: 126ms\tremaining: 1.4s\n",
      "83:\tlearn: 0.3222207\ttotal: 127ms\tremaining: 1.39s\n",
      "84:\tlearn: 0.3196731\ttotal: 128ms\tremaining: 1.38s\n",
      "85:\tlearn: 0.3171351\ttotal: 129ms\tremaining: 1.37s\n",
      "86:\tlearn: 0.3141859\ttotal: 130ms\tremaining: 1.36s\n",
      "87:\tlearn: 0.3117727\ttotal: 131ms\tremaining: 1.35s\n",
      "88:\tlearn: 0.3101564\ttotal: 131ms\tremaining: 1.34s\n",
      "89:\tlearn: 0.3081759\ttotal: 132ms\tremaining: 1.33s\n",
      "90:\tlearn: 0.3058122\ttotal: 133ms\tremaining: 1.33s\n",
      "91:\tlearn: 0.3036832\ttotal: 134ms\tremaining: 1.32s\n",
      "92:\tlearn: 0.3019902\ttotal: 135ms\tremaining: 1.31s\n",
      "93:\tlearn: 0.3003177\ttotal: 136ms\tremaining: 1.31s\n",
      "94:\tlearn: 0.2985873\ttotal: 136ms\tremaining: 1.3s\n",
      "95:\tlearn: 0.2969883\ttotal: 137ms\tremaining: 1.29s\n",
      "96:\tlearn: 0.2955459\ttotal: 138ms\tremaining: 1.28s\n",
      "97:\tlearn: 0.2941491\ttotal: 139ms\tremaining: 1.28s\n",
      "98:\tlearn: 0.2922398\ttotal: 140ms\tremaining: 1.27s\n",
      "99:\tlearn: 0.2911517\ttotal: 141ms\tremaining: 1.26s\n",
      "100:\tlearn: 0.2898184\ttotal: 141ms\tremaining: 1.26s\n",
      "101:\tlearn: 0.2881615\ttotal: 142ms\tremaining: 1.25s\n",
      "102:\tlearn: 0.2869110\ttotal: 143ms\tremaining: 1.24s\n",
      "103:\tlearn: 0.2854795\ttotal: 144ms\tremaining: 1.24s\n",
      "104:\tlearn: 0.2838524\ttotal: 144ms\tremaining: 1.23s\n",
      "105:\tlearn: 0.2823693\ttotal: 145ms\tremaining: 1.22s\n",
      "106:\tlearn: 0.2810904\ttotal: 146ms\tremaining: 1.22s\n",
      "107:\tlearn: 0.2798102\ttotal: 147ms\tremaining: 1.21s\n",
      "108:\tlearn: 0.2783480\ttotal: 148ms\tremaining: 1.21s\n",
      "109:\tlearn: 0.2768278\ttotal: 148ms\tremaining: 1.2s\n",
      "110:\tlearn: 0.2756200\ttotal: 149ms\tremaining: 1.2s\n",
      "111:\tlearn: 0.2744366\ttotal: 150ms\tremaining: 1.19s\n",
      "112:\tlearn: 0.2731027\ttotal: 151ms\tremaining: 1.19s\n",
      "113:\tlearn: 0.2718077\ttotal: 152ms\tremaining: 1.18s\n",
      "114:\tlearn: 0.2705471\ttotal: 153ms\tremaining: 1.18s\n",
      "115:\tlearn: 0.2692244\ttotal: 154ms\tremaining: 1.17s\n",
      "116:\tlearn: 0.2681729\ttotal: 154ms\tremaining: 1.17s\n",
      "117:\tlearn: 0.2671926\ttotal: 155ms\tremaining: 1.16s\n",
      "118:\tlearn: 0.2659309\ttotal: 156ms\tremaining: 1.16s\n",
      "119:\tlearn: 0.2651805\ttotal: 157ms\tremaining: 1.15s\n",
      "120:\tlearn: 0.2640369\ttotal: 158ms\tremaining: 1.15s\n",
      "121:\tlearn: 0.2629375\ttotal: 159ms\tremaining: 1.14s\n",
      "122:\tlearn: 0.2620397\ttotal: 159ms\tremaining: 1.14s\n",
      "123:\tlearn: 0.2614003\ttotal: 160ms\tremaining: 1.13s\n",
      "124:\tlearn: 0.2606185\ttotal: 161ms\tremaining: 1.13s\n",
      "125:\tlearn: 0.2594940\ttotal: 162ms\tremaining: 1.12s\n",
      "126:\tlearn: 0.2584473\ttotal: 163ms\tremaining: 1.12s\n",
      "127:\tlearn: 0.2573734\ttotal: 163ms\tremaining: 1.11s\n",
      "128:\tlearn: 0.2561727\ttotal: 164ms\tremaining: 1.11s\n",
      "129:\tlearn: 0.2548420\ttotal: 165ms\tremaining: 1.1s\n",
      "130:\tlearn: 0.2539055\ttotal: 166ms\tremaining: 1.1s\n",
      "131:\tlearn: 0.2528862\ttotal: 167ms\tremaining: 1.09s\n",
      "132:\tlearn: 0.2518250\ttotal: 167ms\tremaining: 1.09s\n",
      "133:\tlearn: 0.2510590\ttotal: 168ms\tremaining: 1.09s\n",
      "134:\tlearn: 0.2500704\ttotal: 169ms\tremaining: 1.08s\n",
      "135:\tlearn: 0.2491363\ttotal: 170ms\tremaining: 1.08s\n",
      "136:\tlearn: 0.2479488\ttotal: 171ms\tremaining: 1.07s\n",
      "137:\tlearn: 0.2470103\ttotal: 171ms\tremaining: 1.07s\n",
      "138:\tlearn: 0.2461028\ttotal: 172ms\tremaining: 1.07s\n",
      "139:\tlearn: 0.2451924\ttotal: 173ms\tremaining: 1.06s\n",
      "140:\tlearn: 0.2440895\ttotal: 174ms\tremaining: 1.06s\n",
      "141:\tlearn: 0.2433196\ttotal: 175ms\tremaining: 1.06s\n",
      "142:\tlearn: 0.2425782\ttotal: 176ms\tremaining: 1.05s\n",
      "143:\tlearn: 0.2416817\ttotal: 177ms\tremaining: 1.05s\n",
      "144:\tlearn: 0.2410412\ttotal: 178ms\tremaining: 1.05s\n",
      "145:\tlearn: 0.2403740\ttotal: 178ms\tremaining: 1.04s\n",
      "146:\tlearn: 0.2398397\ttotal: 179ms\tremaining: 1.04s\n",
      "147:\tlearn: 0.2387170\ttotal: 180ms\tremaining: 1.03s\n",
      "148:\tlearn: 0.2377092\ttotal: 181ms\tremaining: 1.03s\n",
      "149:\tlearn: 0.2370351\ttotal: 182ms\tremaining: 1.03s\n",
      "150:\tlearn: 0.2362648\ttotal: 183ms\tremaining: 1.03s\n",
      "151:\tlearn: 0.2353763\ttotal: 184ms\tremaining: 1.03s\n",
      "152:\tlearn: 0.2345133\ttotal: 185ms\tremaining: 1.02s\n",
      "153:\tlearn: 0.2338775\ttotal: 186ms\tremaining: 1.02s\n",
      "154:\tlearn: 0.2331789\ttotal: 187ms\tremaining: 1.02s\n",
      "155:\tlearn: 0.2323408\ttotal: 188ms\tremaining: 1.01s\n",
      "156:\tlearn: 0.2315779\ttotal: 188ms\tremaining: 1.01s\n",
      "157:\tlearn: 0.2307877\ttotal: 189ms\tremaining: 1.01s\n",
      "158:\tlearn: 0.2299513\ttotal: 190ms\tremaining: 1.01s\n"
     ]
    },
    {
     "name": "stdout",
     "output_type": "stream",
     "text": [
      "159:\tlearn: 0.2289943\ttotal: 191ms\tremaining: 1s\n",
      "160:\tlearn: 0.2283079\ttotal: 192ms\tremaining: 1s\n",
      "161:\tlearn: 0.2274379\ttotal: 193ms\tremaining: 999ms\n",
      "162:\tlearn: 0.2268321\ttotal: 194ms\tremaining: 996ms\n",
      "163:\tlearn: 0.2263761\ttotal: 195ms\tremaining: 992ms\n",
      "164:\tlearn: 0.2257656\ttotal: 195ms\tremaining: 989ms\n",
      "165:\tlearn: 0.2249420\ttotal: 196ms\tremaining: 986ms\n",
      "166:\tlearn: 0.2244157\ttotal: 197ms\tremaining: 983ms\n",
      "167:\tlearn: 0.2237273\ttotal: 198ms\tremaining: 981ms\n",
      "168:\tlearn: 0.2232138\ttotal: 199ms\tremaining: 977ms\n",
      "169:\tlearn: 0.2226052\ttotal: 200ms\tremaining: 974ms\n",
      "170:\tlearn: 0.2220479\ttotal: 200ms\tremaining: 971ms\n",
      "171:\tlearn: 0.2212604\ttotal: 201ms\tremaining: 969ms\n",
      "172:\tlearn: 0.2206201\ttotal: 202ms\tremaining: 965ms\n",
      "173:\tlearn: 0.2199820\ttotal: 203ms\tremaining: 962ms\n",
      "174:\tlearn: 0.2194474\ttotal: 203ms\tremaining: 958ms\n",
      "175:\tlearn: 0.2187028\ttotal: 204ms\tremaining: 955ms\n",
      "176:\tlearn: 0.2180162\ttotal: 205ms\tremaining: 952ms\n",
      "177:\tlearn: 0.2172298\ttotal: 205ms\tremaining: 948ms\n",
      "178:\tlearn: 0.2166200\ttotal: 206ms\tremaining: 945ms\n",
      "179:\tlearn: 0.2159074\ttotal: 207ms\tremaining: 942ms\n",
      "180:\tlearn: 0.2149529\ttotal: 208ms\tremaining: 939ms\n",
      "181:\tlearn: 0.2140586\ttotal: 208ms\tremaining: 936ms\n",
      "182:\tlearn: 0.2136010\ttotal: 209ms\tremaining: 933ms\n",
      "183:\tlearn: 0.2129527\ttotal: 210ms\tremaining: 930ms\n",
      "184:\tlearn: 0.2124723\ttotal: 211ms\tremaining: 928ms\n",
      "185:\tlearn: 0.2117449\ttotal: 212ms\tremaining: 926ms\n",
      "186:\tlearn: 0.2110877\ttotal: 213ms\tremaining: 925ms\n",
      "187:\tlearn: 0.2103852\ttotal: 214ms\tremaining: 923ms\n",
      "188:\tlearn: 0.2099437\ttotal: 215ms\tremaining: 921ms\n",
      "189:\tlearn: 0.2094014\ttotal: 216ms\tremaining: 920ms\n",
      "190:\tlearn: 0.2088436\ttotal: 217ms\tremaining: 918ms\n",
      "191:\tlearn: 0.2082986\ttotal: 218ms\tremaining: 917ms\n",
      "192:\tlearn: 0.2076381\ttotal: 219ms\tremaining: 915ms\n",
      "193:\tlearn: 0.2067265\ttotal: 220ms\tremaining: 913ms\n",
      "194:\tlearn: 0.2060723\ttotal: 221ms\tremaining: 911ms\n",
      "195:\tlearn: 0.2052371\ttotal: 221ms\tremaining: 908ms\n",
      "196:\tlearn: 0.2049130\ttotal: 222ms\tremaining: 905ms\n",
      "197:\tlearn: 0.2045490\ttotal: 223ms\tremaining: 903ms\n",
      "198:\tlearn: 0.2039075\ttotal: 224ms\tremaining: 903ms\n",
      "199:\tlearn: 0.2033162\ttotal: 225ms\tremaining: 901ms\n",
      "200:\tlearn: 0.2030706\ttotal: 226ms\tremaining: 899ms\n",
      "201:\tlearn: 0.2025461\ttotal: 227ms\tremaining: 897ms\n",
      "202:\tlearn: 0.2020064\ttotal: 228ms\tremaining: 894ms\n",
      "203:\tlearn: 0.2013589\ttotal: 229ms\tremaining: 892ms\n",
      "204:\tlearn: 0.2006738\ttotal: 229ms\tremaining: 889ms\n",
      "205:\tlearn: 0.1999882\ttotal: 230ms\tremaining: 887ms\n",
      "206:\tlearn: 0.1997066\ttotal: 231ms\tremaining: 885ms\n",
      "207:\tlearn: 0.1993726\ttotal: 232ms\tremaining: 883ms\n",
      "208:\tlearn: 0.1988477\ttotal: 233ms\tremaining: 880ms\n",
      "209:\tlearn: 0.1982634\ttotal: 233ms\tremaining: 878ms\n",
      "210:\tlearn: 0.1978949\ttotal: 234ms\tremaining: 875ms\n",
      "211:\tlearn: 0.1974019\ttotal: 235ms\tremaining: 874ms\n",
      "212:\tlearn: 0.1968021\ttotal: 236ms\tremaining: 872ms\n",
      "213:\tlearn: 0.1961740\ttotal: 237ms\tremaining: 870ms\n",
      "214:\tlearn: 0.1955870\ttotal: 238ms\tremaining: 867ms\n",
      "215:\tlearn: 0.1950755\ttotal: 238ms\tremaining: 865ms\n",
      "216:\tlearn: 0.1945184\ttotal: 239ms\tremaining: 862ms\n",
      "217:\tlearn: 0.1942383\ttotal: 240ms\tremaining: 860ms\n",
      "218:\tlearn: 0.1935089\ttotal: 241ms\tremaining: 858ms\n",
      "219:\tlearn: 0.1930574\ttotal: 241ms\tremaining: 856ms\n",
      "220:\tlearn: 0.1923319\ttotal: 242ms\tremaining: 854ms\n",
      "221:\tlearn: 0.1918777\ttotal: 243ms\tremaining: 852ms\n",
      "222:\tlearn: 0.1913599\ttotal: 244ms\tremaining: 850ms\n",
      "223:\tlearn: 0.1908370\ttotal: 245ms\tremaining: 848ms\n",
      "224:\tlearn: 0.1903269\ttotal: 246ms\tremaining: 847ms\n",
      "225:\tlearn: 0.1898540\ttotal: 247ms\tremaining: 844ms\n",
      "226:\tlearn: 0.1893584\ttotal: 247ms\tremaining: 842ms\n",
      "227:\tlearn: 0.1890458\ttotal: 248ms\tremaining: 840ms\n",
      "228:\tlearn: 0.1883224\ttotal: 249ms\tremaining: 838ms\n",
      "229:\tlearn: 0.1878034\ttotal: 250ms\tremaining: 836ms\n",
      "230:\tlearn: 0.1872496\ttotal: 251ms\tremaining: 834ms\n",
      "231:\tlearn: 0.1867483\ttotal: 251ms\tremaining: 832ms\n",
      "232:\tlearn: 0.1862227\ttotal: 252ms\tremaining: 831ms\n",
      "233:\tlearn: 0.1858912\ttotal: 253ms\tremaining: 829ms\n",
      "234:\tlearn: 0.1853800\ttotal: 254ms\tremaining: 827ms\n",
      "235:\tlearn: 0.1850334\ttotal: 255ms\tremaining: 825ms\n",
      "236:\tlearn: 0.1845648\ttotal: 255ms\tremaining: 822ms\n",
      "237:\tlearn: 0.1842297\ttotal: 256ms\tremaining: 820ms\n",
      "238:\tlearn: 0.1837969\ttotal: 257ms\tremaining: 819ms\n",
      "239:\tlearn: 0.1834598\ttotal: 258ms\tremaining: 817ms\n",
      "240:\tlearn: 0.1830930\ttotal: 259ms\tremaining: 815ms\n",
      "241:\tlearn: 0.1825928\ttotal: 259ms\tremaining: 813ms\n",
      "242:\tlearn: 0.1821345\ttotal: 260ms\tremaining: 811ms\n",
      "243:\tlearn: 0.1818584\ttotal: 261ms\tremaining: 809ms\n",
      "244:\tlearn: 0.1815802\ttotal: 262ms\tremaining: 807ms\n",
      "245:\tlearn: 0.1812239\ttotal: 263ms\tremaining: 805ms\n",
      "246:\tlearn: 0.1809316\ttotal: 263ms\tremaining: 803ms\n",
      "247:\tlearn: 0.1803013\ttotal: 264ms\tremaining: 801ms\n",
      "248:\tlearn: 0.1799696\ttotal: 265ms\tremaining: 800ms\n",
      "249:\tlearn: 0.1794908\ttotal: 266ms\tremaining: 798ms\n",
      "250:\tlearn: 0.1790100\ttotal: 267ms\tremaining: 796ms\n",
      "251:\tlearn: 0.1784364\ttotal: 268ms\tremaining: 794ms\n",
      "252:\tlearn: 0.1780153\ttotal: 268ms\tremaining: 792ms\n",
      "253:\tlearn: 0.1775571\ttotal: 269ms\tremaining: 791ms\n",
      "254:\tlearn: 0.1771209\ttotal: 270ms\tremaining: 789ms\n",
      "255:\tlearn: 0.1768007\ttotal: 271ms\tremaining: 787ms\n",
      "256:\tlearn: 0.1763232\ttotal: 272ms\tremaining: 785ms\n",
      "257:\tlearn: 0.1760538\ttotal: 272ms\tremaining: 784ms\n",
      "258:\tlearn: 0.1755196\ttotal: 273ms\tremaining: 782ms\n",
      "259:\tlearn: 0.1748874\ttotal: 274ms\tremaining: 780ms\n",
      "260:\tlearn: 0.1742672\ttotal: 275ms\tremaining: 778ms\n",
      "261:\tlearn: 0.1738740\ttotal: 276ms\tremaining: 776ms\n",
      "262:\tlearn: 0.1734502\ttotal: 276ms\tremaining: 775ms\n",
      "263:\tlearn: 0.1730978\ttotal: 277ms\tremaining: 773ms\n",
      "264:\tlearn: 0.1726950\ttotal: 278ms\tremaining: 771ms\n",
      "265:\tlearn: 0.1723606\ttotal: 279ms\tremaining: 769ms\n",
      "266:\tlearn: 0.1721253\ttotal: 280ms\tremaining: 767ms\n",
      "267:\tlearn: 0.1715630\ttotal: 280ms\tremaining: 765ms\n",
      "268:\tlearn: 0.1712877\ttotal: 281ms\tremaining: 764ms\n",
      "269:\tlearn: 0.1709233\ttotal: 282ms\tremaining: 762ms\n",
      "270:\tlearn: 0.1704679\ttotal: 283ms\tremaining: 760ms\n",
      "271:\tlearn: 0.1701007\ttotal: 283ms\tremaining: 759ms\n",
      "272:\tlearn: 0.1698326\ttotal: 284ms\tremaining: 757ms\n",
      "273:\tlearn: 0.1694611\ttotal: 285ms\tremaining: 755ms\n",
      "274:\tlearn: 0.1691745\ttotal: 286ms\tremaining: 754ms\n",
      "275:\tlearn: 0.1688109\ttotal: 287ms\tremaining: 752ms\n",
      "276:\tlearn: 0.1683516\ttotal: 288ms\tremaining: 751ms\n",
      "277:\tlearn: 0.1677927\ttotal: 289ms\tremaining: 749ms\n",
      "278:\tlearn: 0.1673422\ttotal: 289ms\tremaining: 748ms\n",
      "279:\tlearn: 0.1668970\ttotal: 290ms\tremaining: 747ms\n",
      "280:\tlearn: 0.1664176\ttotal: 291ms\tremaining: 745ms\n",
      "281:\tlearn: 0.1658664\ttotal: 292ms\tremaining: 744ms\n",
      "282:\tlearn: 0.1655707\ttotal: 293ms\tremaining: 742ms\n",
      "283:\tlearn: 0.1652301\ttotal: 294ms\tremaining: 741ms\n",
      "284:\tlearn: 0.1649298\ttotal: 295ms\tremaining: 739ms\n",
      "285:\tlearn: 0.1645242\ttotal: 295ms\tremaining: 737ms\n",
      "286:\tlearn: 0.1642795\ttotal: 296ms\tremaining: 736ms\n",
      "287:\tlearn: 0.1637609\ttotal: 297ms\tremaining: 735ms\n",
      "288:\tlearn: 0.1633484\ttotal: 298ms\tremaining: 733ms\n"
     ]
    },
    {
     "name": "stdout",
     "output_type": "stream",
     "text": [
      "289:\tlearn: 0.1628988\ttotal: 299ms\tremaining: 732ms\n",
      "290:\tlearn: 0.1624098\ttotal: 300ms\tremaining: 731ms\n",
      "291:\tlearn: 0.1620231\ttotal: 301ms\tremaining: 730ms\n",
      "292:\tlearn: 0.1615211\ttotal: 302ms\tremaining: 728ms\n",
      "293:\tlearn: 0.1612037\ttotal: 303ms\tremaining: 727ms\n",
      "294:\tlearn: 0.1608418\ttotal: 303ms\tremaining: 725ms\n",
      "295:\tlearn: 0.1604505\ttotal: 304ms\tremaining: 724ms\n",
      "296:\tlearn: 0.1599938\ttotal: 305ms\tremaining: 722ms\n",
      "297:\tlearn: 0.1598104\ttotal: 306ms\tremaining: 721ms\n",
      "298:\tlearn: 0.1593951\ttotal: 307ms\tremaining: 719ms\n",
      "299:\tlearn: 0.1589888\ttotal: 308ms\tremaining: 718ms\n",
      "300:\tlearn: 0.1585544\ttotal: 309ms\tremaining: 716ms\n",
      "301:\tlearn: 0.1579966\ttotal: 309ms\tremaining: 715ms\n",
      "302:\tlearn: 0.1576596\ttotal: 310ms\tremaining: 714ms\n",
      "303:\tlearn: 0.1574074\ttotal: 311ms\tremaining: 713ms\n",
      "304:\tlearn: 0.1571307\ttotal: 312ms\tremaining: 711ms\n",
      "305:\tlearn: 0.1566667\ttotal: 313ms\tremaining: 710ms\n",
      "306:\tlearn: 0.1563949\ttotal: 314ms\tremaining: 708ms\n",
      "307:\tlearn: 0.1559313\ttotal: 314ms\tremaining: 707ms\n",
      "308:\tlearn: 0.1555243\ttotal: 315ms\tremaining: 705ms\n",
      "309:\tlearn: 0.1552924\ttotal: 316ms\tremaining: 704ms\n",
      "310:\tlearn: 0.1549604\ttotal: 317ms\tremaining: 702ms\n",
      "311:\tlearn: 0.1545282\ttotal: 318ms\tremaining: 700ms\n",
      "312:\tlearn: 0.1543309\ttotal: 318ms\tremaining: 699ms\n",
      "313:\tlearn: 0.1539054\ttotal: 319ms\tremaining: 697ms\n",
      "314:\tlearn: 0.1537620\ttotal: 320ms\tremaining: 696ms\n",
      "315:\tlearn: 0.1534616\ttotal: 321ms\tremaining: 694ms\n",
      "316:\tlearn: 0.1532407\ttotal: 322ms\tremaining: 693ms\n",
      "317:\tlearn: 0.1529448\ttotal: 322ms\tremaining: 691ms\n",
      "318:\tlearn: 0.1526742\ttotal: 323ms\tremaining: 690ms\n",
      "319:\tlearn: 0.1524042\ttotal: 324ms\tremaining: 689ms\n",
      "320:\tlearn: 0.1519486\ttotal: 325ms\tremaining: 687ms\n",
      "321:\tlearn: 0.1515759\ttotal: 326ms\tremaining: 686ms\n",
      "322:\tlearn: 0.1512883\ttotal: 327ms\tremaining: 685ms\n",
      "323:\tlearn: 0.1508777\ttotal: 327ms\tremaining: 683ms\n",
      "324:\tlearn: 0.1505179\ttotal: 328ms\tremaining: 682ms\n",
      "325:\tlearn: 0.1500592\ttotal: 329ms\tremaining: 680ms\n",
      "326:\tlearn: 0.1498870\ttotal: 330ms\tremaining: 679ms\n",
      "327:\tlearn: 0.1494949\ttotal: 331ms\tremaining: 677ms\n",
      "328:\tlearn: 0.1490667\ttotal: 331ms\tremaining: 676ms\n",
      "329:\tlearn: 0.1486174\ttotal: 332ms\tremaining: 675ms\n",
      "330:\tlearn: 0.1481979\ttotal: 333ms\tremaining: 673ms\n",
      "331:\tlearn: 0.1478245\ttotal: 334ms\tremaining: 672ms\n",
      "332:\tlearn: 0.1475144\ttotal: 335ms\tremaining: 671ms\n",
      "333:\tlearn: 0.1471688\ttotal: 336ms\tremaining: 669ms\n",
      "334:\tlearn: 0.1468392\ttotal: 336ms\tremaining: 668ms\n",
      "335:\tlearn: 0.1465783\ttotal: 337ms\tremaining: 666ms\n",
      "336:\tlearn: 0.1462143\ttotal: 338ms\tremaining: 665ms\n",
      "337:\tlearn: 0.1457616\ttotal: 339ms\tremaining: 664ms\n",
      "338:\tlearn: 0.1453131\ttotal: 340ms\tremaining: 662ms\n",
      "339:\tlearn: 0.1448755\ttotal: 340ms\tremaining: 661ms\n",
      "340:\tlearn: 0.1445005\ttotal: 341ms\tremaining: 660ms\n",
      "341:\tlearn: 0.1441152\ttotal: 342ms\tremaining: 658ms\n",
      "342:\tlearn: 0.1438149\ttotal: 343ms\tremaining: 657ms\n",
      "343:\tlearn: 0.1435157\ttotal: 344ms\tremaining: 655ms\n",
      "344:\tlearn: 0.1432612\ttotal: 344ms\tremaining: 654ms\n",
      "345:\tlearn: 0.1428391\ttotal: 345ms\tremaining: 653ms\n",
      "346:\tlearn: 0.1425435\ttotal: 346ms\tremaining: 652ms\n",
      "347:\tlearn: 0.1420606\ttotal: 347ms\tremaining: 650ms\n",
      "348:\tlearn: 0.1415681\ttotal: 348ms\tremaining: 649ms\n",
      "349:\tlearn: 0.1411036\ttotal: 349ms\tremaining: 647ms\n",
      "350:\tlearn: 0.1409082\ttotal: 349ms\tremaining: 646ms\n",
      "351:\tlearn: 0.1405768\ttotal: 350ms\tremaining: 645ms\n",
      "352:\tlearn: 0.1402037\ttotal: 351ms\tremaining: 644ms\n",
      "353:\tlearn: 0.1397932\ttotal: 352ms\tremaining: 642ms\n",
      "354:\tlearn: 0.1397242\ttotal: 353ms\tremaining: 641ms\n",
      "355:\tlearn: 0.1394687\ttotal: 354ms\tremaining: 640ms\n",
      "356:\tlearn: 0.1392590\ttotal: 354ms\tremaining: 638ms\n",
      "357:\tlearn: 0.1390921\ttotal: 355ms\tremaining: 637ms\n",
      "358:\tlearn: 0.1388450\ttotal: 356ms\tremaining: 635ms\n",
      "359:\tlearn: 0.1384844\ttotal: 357ms\tremaining: 634ms\n",
      "360:\tlearn: 0.1382151\ttotal: 358ms\tremaining: 633ms\n",
      "361:\tlearn: 0.1380123\ttotal: 358ms\tremaining: 631ms\n",
      "362:\tlearn: 0.1376605\ttotal: 359ms\tremaining: 630ms\n",
      "363:\tlearn: 0.1373596\ttotal: 360ms\tremaining: 628ms\n",
      "364:\tlearn: 0.1371502\ttotal: 360ms\tremaining: 627ms\n",
      "365:\tlearn: 0.1367428\ttotal: 361ms\tremaining: 626ms\n",
      "366:\tlearn: 0.1364393\ttotal: 362ms\tremaining: 624ms\n",
      "367:\tlearn: 0.1361971\ttotal: 363ms\tremaining: 623ms\n",
      "368:\tlearn: 0.1361106\ttotal: 364ms\tremaining: 622ms\n",
      "369:\tlearn: 0.1357020\ttotal: 364ms\tremaining: 620ms\n",
      "370:\tlearn: 0.1353100\ttotal: 365ms\tremaining: 620ms\n",
      "371:\tlearn: 0.1350675\ttotal: 366ms\tremaining: 618ms\n",
      "372:\tlearn: 0.1348629\ttotal: 367ms\tremaining: 617ms\n",
      "373:\tlearn: 0.1346111\ttotal: 368ms\tremaining: 616ms\n",
      "374:\tlearn: 0.1342962\ttotal: 369ms\tremaining: 615ms\n",
      "375:\tlearn: 0.1340868\ttotal: 370ms\tremaining: 614ms\n",
      "376:\tlearn: 0.1339978\ttotal: 371ms\tremaining: 613ms\n",
      "377:\tlearn: 0.1336479\ttotal: 372ms\tremaining: 611ms\n",
      "378:\tlearn: 0.1333362\ttotal: 372ms\tremaining: 610ms\n",
      "379:\tlearn: 0.1332454\ttotal: 373ms\tremaining: 609ms\n",
      "380:\tlearn: 0.1329801\ttotal: 374ms\tremaining: 608ms\n",
      "381:\tlearn: 0.1327930\ttotal: 375ms\tremaining: 607ms\n",
      "382:\tlearn: 0.1323483\ttotal: 376ms\tremaining: 606ms\n",
      "383:\tlearn: 0.1320734\ttotal: 377ms\tremaining: 604ms\n",
      "384:\tlearn: 0.1316979\ttotal: 378ms\tremaining: 603ms\n",
      "385:\tlearn: 0.1315445\ttotal: 378ms\tremaining: 602ms\n",
      "386:\tlearn: 0.1313392\ttotal: 379ms\tremaining: 601ms\n",
      "387:\tlearn: 0.1313081\ttotal: 380ms\tremaining: 600ms\n"
     ]
    },
    {
     "name": "stdout",
     "output_type": "stream",
     "text": [
      "388:\tlearn: 0.1310516\ttotal: 381ms\tremaining: 599ms\n",
      "389:\tlearn: 0.1309245\ttotal: 382ms\tremaining: 598ms\n",
      "390:\tlearn: 0.1305653\ttotal: 383ms\tremaining: 596ms\n",
      "391:\tlearn: 0.1304110\ttotal: 384ms\tremaining: 595ms\n",
      "392:\tlearn: 0.1302811\ttotal: 385ms\tremaining: 594ms\n",
      "393:\tlearn: 0.1300958\ttotal: 385ms\tremaining: 593ms\n",
      "394:\tlearn: 0.1299173\ttotal: 386ms\tremaining: 591ms\n",
      "395:\tlearn: 0.1295380\ttotal: 387ms\tremaining: 590ms\n",
      "396:\tlearn: 0.1293290\ttotal: 388ms\tremaining: 590ms\n",
      "397:\tlearn: 0.1289639\ttotal: 389ms\tremaining: 589ms\n",
      "398:\tlearn: 0.1287630\ttotal: 390ms\tremaining: 587ms\n",
      "399:\tlearn: 0.1286983\ttotal: 391ms\tremaining: 586ms\n",
      "400:\tlearn: 0.1284658\ttotal: 391ms\tremaining: 585ms\n",
      "401:\tlearn: 0.1283126\ttotal: 392ms\tremaining: 583ms\n",
      "402:\tlearn: 0.1281165\ttotal: 393ms\tremaining: 582ms\n",
      "403:\tlearn: 0.1279681\ttotal: 394ms\tremaining: 581ms\n",
      "404:\tlearn: 0.1278763\ttotal: 395ms\tremaining: 580ms\n",
      "405:\tlearn: 0.1275547\ttotal: 396ms\tremaining: 579ms\n",
      "406:\tlearn: 0.1271582\ttotal: 396ms\tremaining: 577ms\n",
      "407:\tlearn: 0.1268649\ttotal: 397ms\tremaining: 576ms\n",
      "408:\tlearn: 0.1265722\ttotal: 398ms\tremaining: 575ms\n",
      "409:\tlearn: 0.1262184\ttotal: 399ms\tremaining: 574ms\n",
      "410:\tlearn: 0.1258636\ttotal: 400ms\tremaining: 573ms\n",
      "411:\tlearn: 0.1256740\ttotal: 400ms\tremaining: 571ms\n",
      "412:\tlearn: 0.1252929\ttotal: 401ms\tremaining: 570ms\n",
      "413:\tlearn: 0.1251456\ttotal: 402ms\tremaining: 569ms\n",
      "414:\tlearn: 0.1248089\ttotal: 403ms\tremaining: 568ms\n",
      "415:\tlearn: 0.1245483\ttotal: 404ms\tremaining: 567ms\n",
      "416:\tlearn: 0.1242603\ttotal: 404ms\tremaining: 565ms\n",
      "417:\tlearn: 0.1239922\ttotal: 405ms\tremaining: 564ms\n",
      "418:\tlearn: 0.1238175\ttotal: 406ms\tremaining: 563ms\n",
      "419:\tlearn: 0.1235680\ttotal: 407ms\tremaining: 562ms\n",
      "420:\tlearn: 0.1234827\ttotal: 408ms\tremaining: 561ms\n",
      "421:\tlearn: 0.1232590\ttotal: 409ms\tremaining: 560ms\n",
      "422:\tlearn: 0.1229742\ttotal: 410ms\tremaining: 559ms\n",
      "423:\tlearn: 0.1225213\ttotal: 410ms\tremaining: 557ms\n",
      "424:\tlearn: 0.1223116\ttotal: 411ms\tremaining: 556ms\n",
      "425:\tlearn: 0.1220267\ttotal: 412ms\tremaining: 555ms\n",
      "426:\tlearn: 0.1217092\ttotal: 413ms\tremaining: 554ms\n",
      "427:\tlearn: 0.1216310\ttotal: 414ms\tremaining: 553ms\n",
      "428:\tlearn: 0.1215510\ttotal: 414ms\tremaining: 552ms\n",
      "429:\tlearn: 0.1212879\ttotal: 415ms\tremaining: 551ms\n",
      "430:\tlearn: 0.1211702\ttotal: 416ms\tremaining: 549ms\n",
      "431:\tlearn: 0.1209136\ttotal: 417ms\tremaining: 548ms\n",
      "432:\tlearn: 0.1208642\ttotal: 418ms\tremaining: 547ms\n",
      "433:\tlearn: 0.1205111\ttotal: 419ms\tremaining: 546ms\n",
      "434:\tlearn: 0.1203787\ttotal: 419ms\tremaining: 545ms\n",
      "435:\tlearn: 0.1203317\ttotal: 420ms\tremaining: 544ms\n",
      "436:\tlearn: 0.1202028\ttotal: 421ms\tremaining: 542ms\n",
      "437:\tlearn: 0.1200365\ttotal: 422ms\tremaining: 541ms\n",
      "438:\tlearn: 0.1198266\ttotal: 422ms\tremaining: 540ms\n",
      "439:\tlearn: 0.1195779\ttotal: 423ms\tremaining: 539ms\n",
      "440:\tlearn: 0.1193951\ttotal: 424ms\tremaining: 538ms\n",
      "441:\tlearn: 0.1191134\ttotal: 425ms\tremaining: 537ms\n",
      "442:\tlearn: 0.1188393\ttotal: 426ms\tremaining: 535ms\n",
      "443:\tlearn: 0.1187551\ttotal: 427ms\tremaining: 534ms\n",
      "444:\tlearn: 0.1185726\ttotal: 427ms\tremaining: 533ms\n",
      "445:\tlearn: 0.1184906\ttotal: 428ms\tremaining: 532ms\n",
      "446:\tlearn: 0.1184362\ttotal: 429ms\tremaining: 531ms\n",
      "447:\tlearn: 0.1180916\ttotal: 430ms\tremaining: 529ms\n",
      "448:\tlearn: 0.1179724\ttotal: 431ms\tremaining: 528ms\n",
      "449:\tlearn: 0.1176649\ttotal: 431ms\tremaining: 527ms\n",
      "450:\tlearn: 0.1174927\ttotal: 432ms\tremaining: 526ms\n",
      "451:\tlearn: 0.1174021\ttotal: 433ms\tremaining: 525ms\n",
      "452:\tlearn: 0.1171230\ttotal: 434ms\tremaining: 524ms\n",
      "453:\tlearn: 0.1167993\ttotal: 435ms\tremaining: 523ms\n",
      "454:\tlearn: 0.1166832\ttotal: 436ms\tremaining: 522ms\n",
      "455:\tlearn: 0.1165292\ttotal: 437ms\tremaining: 521ms\n",
      "456:\tlearn: 0.1163776\ttotal: 437ms\tremaining: 520ms\n",
      "457:\tlearn: 0.1161962\ttotal: 438ms\tremaining: 519ms\n",
      "458:\tlearn: 0.1161490\ttotal: 439ms\tremaining: 517ms\n",
      "459:\tlearn: 0.1159123\ttotal: 440ms\tremaining: 517ms\n",
      "460:\tlearn: 0.1157917\ttotal: 441ms\tremaining: 515ms\n",
      "461:\tlearn: 0.1155842\ttotal: 442ms\tremaining: 514ms\n",
      "462:\tlearn: 0.1155669\ttotal: 442ms\tremaining: 513ms\n",
      "463:\tlearn: 0.1154668\ttotal: 443ms\tremaining: 512ms\n",
      "464:\tlearn: 0.1152508\ttotal: 444ms\tremaining: 511ms\n",
      "465:\tlearn: 0.1151144\ttotal: 445ms\tremaining: 510ms\n",
      "466:\tlearn: 0.1149753\ttotal: 446ms\tremaining: 509ms\n",
      "467:\tlearn: 0.1149509\ttotal: 447ms\tremaining: 508ms\n",
      "468:\tlearn: 0.1146220\ttotal: 447ms\tremaining: 506ms\n",
      "469:\tlearn: 0.1145361\ttotal: 448ms\tremaining: 505ms\n",
      "470:\tlearn: 0.1142510\ttotal: 449ms\tremaining: 504ms\n",
      "471:\tlearn: 0.1140903\ttotal: 450ms\tremaining: 503ms\n",
      "472:\tlearn: 0.1139085\ttotal: 451ms\tremaining: 502ms\n",
      "473:\tlearn: 0.1137113\ttotal: 451ms\tremaining: 501ms\n",
      "474:\tlearn: 0.1135142\ttotal: 452ms\tremaining: 500ms\n",
      "475:\tlearn: 0.1131991\ttotal: 453ms\tremaining: 498ms\n",
      "476:\tlearn: 0.1128812\ttotal: 454ms\tremaining: 497ms\n",
      "477:\tlearn: 0.1128635\ttotal: 454ms\tremaining: 496ms\n",
      "478:\tlearn: 0.1125905\ttotal: 455ms\tremaining: 495ms\n",
      "479:\tlearn: 0.1124102\ttotal: 456ms\tremaining: 494ms\n",
      "480:\tlearn: 0.1121838\ttotal: 457ms\tremaining: 493ms\n",
      "481:\tlearn: 0.1121099\ttotal: 458ms\tremaining: 492ms\n",
      "482:\tlearn: 0.1120947\ttotal: 459ms\tremaining: 491ms\n",
      "483:\tlearn: 0.1119382\ttotal: 459ms\tremaining: 490ms\n",
      "484:\tlearn: 0.1118051\ttotal: 460ms\tremaining: 489ms\n",
      "485:\tlearn: 0.1117281\ttotal: 461ms\tremaining: 487ms\n",
      "486:\tlearn: 0.1114768\ttotal: 462ms\tremaining: 486ms\n",
      "487:\tlearn: 0.1114217\ttotal: 463ms\tremaining: 485ms\n",
      "488:\tlearn: 0.1112837\ttotal: 463ms\tremaining: 484ms\n",
      "489:\tlearn: 0.1112607\ttotal: 464ms\tremaining: 483ms\n",
      "490:\tlearn: 0.1111106\ttotal: 465ms\tremaining: 482ms\n",
      "491:\tlearn: 0.1108886\ttotal: 466ms\tremaining: 481ms\n",
      "492:\tlearn: 0.1107009\ttotal: 467ms\tremaining: 480ms\n",
      "493:\tlearn: 0.1105182\ttotal: 468ms\tremaining: 479ms\n",
      "494:\tlearn: 0.1102431\ttotal: 469ms\tremaining: 478ms\n",
      "495:\tlearn: 0.1102294\ttotal: 469ms\tremaining: 477ms\n",
      "496:\tlearn: 0.1099788\ttotal: 470ms\tremaining: 476ms\n",
      "497:\tlearn: 0.1097289\ttotal: 471ms\tremaining: 475ms\n",
      "498:\tlearn: 0.1095993\ttotal: 472ms\tremaining: 474ms\n",
      "499:\tlearn: 0.1095174\ttotal: 473ms\tremaining: 473ms\n",
      "500:\tlearn: 0.1093650\ttotal: 474ms\tremaining: 472ms\n",
      "501:\tlearn: 0.1092797\ttotal: 474ms\tremaining: 471ms\n",
      "502:\tlearn: 0.1092662\ttotal: 475ms\tremaining: 469ms\n",
      "503:\tlearn: 0.1090031\ttotal: 476ms\tremaining: 468ms\n",
      "504:\tlearn: 0.1089083\ttotal: 477ms\tremaining: 467ms\n",
      "505:\tlearn: 0.1088312\ttotal: 478ms\tremaining: 466ms\n",
      "506:\tlearn: 0.1085061\ttotal: 478ms\tremaining: 465ms\n",
      "507:\tlearn: 0.1083939\ttotal: 479ms\tremaining: 464ms\n",
      "508:\tlearn: 0.1083810\ttotal: 480ms\tremaining: 463ms\n",
      "509:\tlearn: 0.1081627\ttotal: 481ms\tremaining: 462ms\n",
      "510:\tlearn: 0.1080416\ttotal: 482ms\tremaining: 461ms\n",
      "511:\tlearn: 0.1079005\ttotal: 482ms\tremaining: 460ms\n",
      "512:\tlearn: 0.1076222\ttotal: 483ms\tremaining: 459ms\n",
      "513:\tlearn: 0.1074787\ttotal: 484ms\tremaining: 458ms\n",
      "514:\tlearn: 0.1072830\ttotal: 485ms\tremaining: 456ms\n",
      "515:\tlearn: 0.1071693\ttotal: 485ms\tremaining: 455ms\n",
      "516:\tlearn: 0.1068778\ttotal: 486ms\tremaining: 454ms\n",
      "517:\tlearn: 0.1067890\ttotal: 487ms\tremaining: 453ms\n",
      "518:\tlearn: 0.1067291\ttotal: 488ms\tremaining: 452ms\n",
      "519:\tlearn: 0.1065344\ttotal: 489ms\tremaining: 451ms\n"
     ]
    },
    {
     "name": "stdout",
     "output_type": "stream",
     "text": [
      "520:\tlearn: 0.1065230\ttotal: 490ms\tremaining: 450ms\n",
      "521:\tlearn: 0.1063764\ttotal: 491ms\tremaining: 449ms\n",
      "522:\tlearn: 0.1061125\ttotal: 492ms\tremaining: 448ms\n",
      "523:\tlearn: 0.1057280\ttotal: 492ms\tremaining: 447ms\n",
      "524:\tlearn: 0.1056673\ttotal: 493ms\tremaining: 446ms\n",
      "525:\tlearn: 0.1055764\ttotal: 495ms\tremaining: 446ms\n",
      "526:\tlearn: 0.1053101\ttotal: 496ms\tremaining: 445ms\n",
      "527:\tlearn: 0.1051023\ttotal: 496ms\tremaining: 444ms\n",
      "528:\tlearn: 0.1049423\ttotal: 497ms\tremaining: 443ms\n",
      "529:\tlearn: 0.1047317\ttotal: 498ms\tremaining: 442ms\n",
      "530:\tlearn: 0.1045201\ttotal: 499ms\tremaining: 441ms\n",
      "531:\tlearn: 0.1043905\ttotal: 500ms\tremaining: 439ms\n",
      "532:\tlearn: 0.1042819\ttotal: 500ms\tremaining: 438ms\n",
      "533:\tlearn: 0.1041250\ttotal: 501ms\tremaining: 437ms\n",
      "534:\tlearn: 0.1039480\ttotal: 502ms\tremaining: 436ms\n",
      "535:\tlearn: 0.1039350\ttotal: 503ms\tremaining: 435ms\n",
      "536:\tlearn: 0.1037787\ttotal: 504ms\tremaining: 434ms\n",
      "537:\tlearn: 0.1034940\ttotal: 504ms\tremaining: 433ms\n",
      "538:\tlearn: 0.1033452\ttotal: 505ms\tremaining: 432ms\n",
      "539:\tlearn: 0.1030692\ttotal: 506ms\tremaining: 431ms\n",
      "540:\tlearn: 0.1027553\ttotal: 507ms\tremaining: 430ms\n",
      "541:\tlearn: 0.1026188\ttotal: 508ms\tremaining: 429ms\n",
      "542:\tlearn: 0.1026086\ttotal: 509ms\tremaining: 428ms\n",
      "543:\tlearn: 0.1023465\ttotal: 509ms\tremaining: 427ms\n",
      "544:\tlearn: 0.1021014\ttotal: 510ms\tremaining: 426ms\n",
      "545:\tlearn: 0.1018334\ttotal: 511ms\tremaining: 425ms\n",
      "546:\tlearn: 0.1016698\ttotal: 512ms\tremaining: 424ms\n",
      "547:\tlearn: 0.1013949\ttotal: 513ms\tremaining: 423ms\n",
      "548:\tlearn: 0.1013828\ttotal: 513ms\tremaining: 422ms\n",
      "549:\tlearn: 0.1011387\ttotal: 514ms\tremaining: 421ms\n",
      "550:\tlearn: 0.1008745\ttotal: 515ms\tremaining: 420ms\n",
      "551:\tlearn: 0.1006505\ttotal: 516ms\tremaining: 419ms\n",
      "552:\tlearn: 0.1004926\ttotal: 517ms\tremaining: 418ms\n",
      "553:\tlearn: 0.1003594\ttotal: 518ms\tremaining: 417ms\n",
      "554:\tlearn: 0.1002530\ttotal: 518ms\tremaining: 416ms\n",
      "555:\tlearn: 0.1002434\ttotal: 519ms\tremaining: 414ms\n",
      "556:\tlearn: 0.1000323\ttotal: 520ms\tremaining: 413ms\n",
      "557:\tlearn: 0.0998548\ttotal: 521ms\tremaining: 412ms\n",
      "558:\tlearn: 0.0996588\ttotal: 521ms\tremaining: 411ms\n",
      "559:\tlearn: 0.0994748\ttotal: 522ms\tremaining: 410ms\n",
      "560:\tlearn: 0.0994635\ttotal: 523ms\tremaining: 409ms\n",
      "561:\tlearn: 0.0992385\ttotal: 524ms\tremaining: 408ms\n",
      "562:\tlearn: 0.0990578\ttotal: 525ms\tremaining: 407ms\n",
      "563:\tlearn: 0.0989458\ttotal: 526ms\tremaining: 406ms\n",
      "564:\tlearn: 0.0987461\ttotal: 526ms\tremaining: 405ms\n",
      "565:\tlearn: 0.0986158\ttotal: 527ms\tremaining: 404ms\n",
      "566:\tlearn: 0.0983339\ttotal: 528ms\tremaining: 403ms\n",
      "567:\tlearn: 0.0982179\ttotal: 529ms\tremaining: 402ms\n",
      "568:\tlearn: 0.0981486\ttotal: 530ms\tremaining: 401ms\n",
      "569:\tlearn: 0.0979328\ttotal: 531ms\tremaining: 400ms\n",
      "570:\tlearn: 0.0977074\ttotal: 531ms\tremaining: 399ms\n",
      "571:\tlearn: 0.0976740\ttotal: 532ms\tremaining: 398ms\n",
      "572:\tlearn: 0.0975836\ttotal: 533ms\tremaining: 397ms\n",
      "573:\tlearn: 0.0974785\ttotal: 534ms\tremaining: 396ms\n",
      "574:\tlearn: 0.0974705\ttotal: 535ms\tremaining: 395ms\n",
      "575:\tlearn: 0.0973475\ttotal: 535ms\tremaining: 394ms\n",
      "576:\tlearn: 0.0972637\ttotal: 536ms\tremaining: 393ms\n",
      "577:\tlearn: 0.0972055\ttotal: 537ms\tremaining: 392ms\n",
      "578:\tlearn: 0.0969728\ttotal: 538ms\tremaining: 391ms\n",
      "579:\tlearn: 0.0968788\ttotal: 539ms\tremaining: 390ms\n",
      "580:\tlearn: 0.0967484\ttotal: 540ms\tremaining: 389ms\n",
      "581:\tlearn: 0.0965580\ttotal: 540ms\tremaining: 388ms\n",
      "582:\tlearn: 0.0964890\ttotal: 541ms\tremaining: 387ms\n",
      "583:\tlearn: 0.0963969\ttotal: 542ms\tremaining: 386ms\n",
      "584:\tlearn: 0.0962148\ttotal: 543ms\tremaining: 385ms\n",
      "585:\tlearn: 0.0962062\ttotal: 544ms\tremaining: 384ms\n",
      "586:\tlearn: 0.0960269\ttotal: 545ms\tremaining: 383ms\n",
      "587:\tlearn: 0.0958224\ttotal: 546ms\tremaining: 382ms\n",
      "588:\tlearn: 0.0956710\ttotal: 546ms\tremaining: 381ms\n",
      "589:\tlearn: 0.0954935\ttotal: 547ms\tremaining: 380ms\n",
      "590:\tlearn: 0.0952815\ttotal: 548ms\tremaining: 379ms\n",
      "591:\tlearn: 0.0952086\ttotal: 549ms\tremaining: 378ms\n",
      "592:\tlearn: 0.0950230\ttotal: 550ms\tremaining: 377ms\n",
      "593:\tlearn: 0.0947988\ttotal: 550ms\tremaining: 376ms\n",
      "594:\tlearn: 0.0947094\ttotal: 551ms\tremaining: 375ms\n",
      "595:\tlearn: 0.0946078\ttotal: 552ms\tremaining: 374ms\n",
      "596:\tlearn: 0.0945007\ttotal: 553ms\tremaining: 373ms\n",
      "597:\tlearn: 0.0941927\ttotal: 553ms\tremaining: 372ms\n",
      "598:\tlearn: 0.0939998\ttotal: 554ms\tremaining: 371ms\n",
      "599:\tlearn: 0.0939181\ttotal: 555ms\tremaining: 370ms\n",
      "600:\tlearn: 0.0937900\ttotal: 556ms\tremaining: 369ms\n",
      "601:\tlearn: 0.0937098\ttotal: 557ms\tremaining: 368ms\n",
      "602:\tlearn: 0.0936365\ttotal: 557ms\tremaining: 367ms\n",
      "603:\tlearn: 0.0935374\ttotal: 558ms\tremaining: 366ms\n",
      "604:\tlearn: 0.0933236\ttotal: 559ms\tremaining: 365ms\n",
      "605:\tlearn: 0.0931814\ttotal: 560ms\tremaining: 364ms\n",
      "606:\tlearn: 0.0930058\ttotal: 561ms\tremaining: 363ms\n",
      "607:\tlearn: 0.0928487\ttotal: 562ms\tremaining: 362ms\n",
      "608:\tlearn: 0.0927025\ttotal: 563ms\tremaining: 362ms\n",
      "609:\tlearn: 0.0925326\ttotal: 564ms\tremaining: 361ms\n",
      "610:\tlearn: 0.0922796\ttotal: 565ms\tremaining: 360ms\n",
      "611:\tlearn: 0.0921649\ttotal: 566ms\tremaining: 359ms\n",
      "612:\tlearn: 0.0921406\ttotal: 566ms\tremaining: 358ms\n",
      "613:\tlearn: 0.0920806\ttotal: 567ms\tremaining: 357ms\n",
      "614:\tlearn: 0.0918755\ttotal: 568ms\tremaining: 356ms\n",
      "615:\tlearn: 0.0916653\ttotal: 569ms\tremaining: 355ms\n",
      "616:\tlearn: 0.0915311\ttotal: 570ms\tremaining: 354ms\n",
      "617:\tlearn: 0.0913432\ttotal: 571ms\tremaining: 353ms\n"
     ]
    },
    {
     "name": "stdout",
     "output_type": "stream",
     "text": [
      "618:\tlearn: 0.0911593\ttotal: 572ms\tremaining: 352ms\n",
      "619:\tlearn: 0.0909637\ttotal: 573ms\tremaining: 351ms\n",
      "620:\tlearn: 0.0907659\ttotal: 573ms\tremaining: 350ms\n",
      "621:\tlearn: 0.0907418\ttotal: 574ms\tremaining: 349ms\n",
      "622:\tlearn: 0.0905969\ttotal: 575ms\tremaining: 348ms\n",
      "623:\tlearn: 0.0903766\ttotal: 576ms\tremaining: 347ms\n",
      "624:\tlearn: 0.0902409\ttotal: 577ms\tremaining: 346ms\n",
      "625:\tlearn: 0.0901263\ttotal: 577ms\tremaining: 345ms\n",
      "626:\tlearn: 0.0900031\ttotal: 578ms\tremaining: 344ms\n",
      "627:\tlearn: 0.0898433\ttotal: 579ms\tremaining: 343ms\n",
      "628:\tlearn: 0.0897141\ttotal: 580ms\tremaining: 342ms\n",
      "629:\tlearn: 0.0894886\ttotal: 581ms\tremaining: 341ms\n",
      "630:\tlearn: 0.0892652\ttotal: 582ms\tremaining: 340ms\n",
      "631:\tlearn: 0.0892120\ttotal: 583ms\tremaining: 339ms\n",
      "632:\tlearn: 0.0890699\ttotal: 583ms\tremaining: 338ms\n",
      "633:\tlearn: 0.0889742\ttotal: 584ms\tremaining: 337ms\n",
      "634:\tlearn: 0.0887686\ttotal: 585ms\tremaining: 336ms\n",
      "635:\tlearn: 0.0886483\ttotal: 586ms\tremaining: 335ms\n",
      "636:\tlearn: 0.0885702\ttotal: 587ms\tremaining: 334ms\n",
      "637:\tlearn: 0.0884414\ttotal: 587ms\tremaining: 333ms\n",
      "638:\tlearn: 0.0882652\ttotal: 588ms\tremaining: 332ms\n",
      "639:\tlearn: 0.0880099\ttotal: 589ms\tremaining: 331ms\n",
      "640:\tlearn: 0.0878250\ttotal: 590ms\tremaining: 330ms\n",
      "641:\tlearn: 0.0877251\ttotal: 591ms\tremaining: 329ms\n",
      "642:\tlearn: 0.0875351\ttotal: 591ms\tremaining: 328ms\n",
      "643:\tlearn: 0.0875089\ttotal: 592ms\tremaining: 327ms\n",
      "644:\tlearn: 0.0872891\ttotal: 594ms\tremaining: 327ms\n",
      "645:\tlearn: 0.0871426\ttotal: 595ms\tremaining: 326ms\n",
      "646:\tlearn: 0.0869956\ttotal: 596ms\tremaining: 325ms\n",
      "647:\tlearn: 0.0868384\ttotal: 596ms\tremaining: 324ms\n",
      "648:\tlearn: 0.0867559\ttotal: 597ms\tremaining: 323ms\n",
      "649:\tlearn: 0.0865932\ttotal: 598ms\tremaining: 322ms\n",
      "650:\tlearn: 0.0864487\ttotal: 599ms\tremaining: 321ms\n",
      "651:\tlearn: 0.0862780\ttotal: 599ms\tremaining: 320ms\n",
      "652:\tlearn: 0.0861325\ttotal: 600ms\tremaining: 319ms\n",
      "653:\tlearn: 0.0859405\ttotal: 601ms\tremaining: 318ms\n",
      "654:\tlearn: 0.0858795\ttotal: 602ms\tremaining: 317ms\n",
      "655:\tlearn: 0.0856713\ttotal: 603ms\tremaining: 316ms\n",
      "656:\tlearn: 0.0855865\ttotal: 604ms\tremaining: 315ms\n",
      "657:\tlearn: 0.0854477\ttotal: 604ms\tremaining: 314ms\n",
      "658:\tlearn: 0.0852757\ttotal: 605ms\tremaining: 313ms\n",
      "659:\tlearn: 0.0850689\ttotal: 606ms\tremaining: 312ms\n",
      "660:\tlearn: 0.0849057\ttotal: 607ms\tremaining: 311ms\n",
      "661:\tlearn: 0.0848092\ttotal: 608ms\tremaining: 310ms\n",
      "662:\tlearn: 0.0846273\ttotal: 608ms\tremaining: 309ms\n",
      "663:\tlearn: 0.0845619\ttotal: 609ms\tremaining: 308ms\n",
      "664:\tlearn: 0.0843943\ttotal: 610ms\tremaining: 307ms\n",
      "665:\tlearn: 0.0841751\ttotal: 611ms\tremaining: 306ms\n",
      "666:\tlearn: 0.0841013\ttotal: 612ms\tremaining: 305ms\n",
      "667:\tlearn: 0.0839916\ttotal: 613ms\tremaining: 304ms\n",
      "668:\tlearn: 0.0838490\ttotal: 613ms\tremaining: 303ms\n",
      "669:\tlearn: 0.0837459\ttotal: 614ms\tremaining: 302ms\n",
      "670:\tlearn: 0.0834939\ttotal: 615ms\tremaining: 301ms\n",
      "671:\tlearn: 0.0833301\ttotal: 616ms\tremaining: 300ms\n",
      "672:\tlearn: 0.0831651\ttotal: 617ms\tremaining: 300ms\n",
      "673:\tlearn: 0.0830566\ttotal: 617ms\tremaining: 299ms\n",
      "674:\tlearn: 0.0828959\ttotal: 618ms\tremaining: 298ms\n",
      "675:\tlearn: 0.0827137\ttotal: 619ms\tremaining: 297ms\n",
      "676:\tlearn: 0.0826994\ttotal: 620ms\tremaining: 296ms\n",
      "677:\tlearn: 0.0825456\ttotal: 620ms\tremaining: 295ms\n",
      "678:\tlearn: 0.0825030\ttotal: 622ms\tremaining: 294ms\n",
      "679:\tlearn: 0.0823654\ttotal: 623ms\tremaining: 293ms\n",
      "680:\tlearn: 0.0822625\ttotal: 624ms\tremaining: 292ms\n",
      "681:\tlearn: 0.0820756\ttotal: 624ms\tremaining: 291ms\n",
      "682:\tlearn: 0.0819376\ttotal: 625ms\tremaining: 290ms\n",
      "683:\tlearn: 0.0817422\ttotal: 626ms\tremaining: 289ms\n",
      "684:\tlearn: 0.0816369\ttotal: 627ms\tremaining: 288ms\n",
      "685:\tlearn: 0.0815833\ttotal: 628ms\tremaining: 287ms\n",
      "686:\tlearn: 0.0814632\ttotal: 628ms\tremaining: 286ms\n",
      "687:\tlearn: 0.0812799\ttotal: 629ms\tremaining: 285ms\n",
      "688:\tlearn: 0.0812229\ttotal: 630ms\tremaining: 284ms\n",
      "689:\tlearn: 0.0810382\ttotal: 631ms\tremaining: 284ms\n",
      "690:\tlearn: 0.0809299\ttotal: 632ms\tremaining: 283ms\n",
      "691:\tlearn: 0.0807361\ttotal: 633ms\tremaining: 282ms\n",
      "692:\tlearn: 0.0805924\ttotal: 634ms\tremaining: 281ms\n",
      "693:\tlearn: 0.0805706\ttotal: 634ms\tremaining: 280ms\n",
      "694:\tlearn: 0.0803704\ttotal: 635ms\tremaining: 279ms\n",
      "695:\tlearn: 0.0802308\ttotal: 636ms\tremaining: 278ms\n",
      "696:\tlearn: 0.0801327\ttotal: 637ms\tremaining: 277ms\n",
      "697:\tlearn: 0.0800400\ttotal: 638ms\tremaining: 276ms\n",
      "698:\tlearn: 0.0799081\ttotal: 639ms\tremaining: 275ms\n",
      "699:\tlearn: 0.0797421\ttotal: 640ms\tremaining: 274ms\n",
      "700:\tlearn: 0.0795811\ttotal: 640ms\tremaining: 273ms\n",
      "701:\tlearn: 0.0793945\ttotal: 641ms\tremaining: 272ms\n",
      "702:\tlearn: 0.0792167\ttotal: 642ms\tremaining: 271ms\n",
      "703:\tlearn: 0.0790644\ttotal: 643ms\tremaining: 270ms\n",
      "704:\tlearn: 0.0789513\ttotal: 644ms\tremaining: 269ms\n",
      "705:\tlearn: 0.0788255\ttotal: 645ms\tremaining: 268ms\n",
      "706:\tlearn: 0.0786646\ttotal: 645ms\tremaining: 268ms\n",
      "707:\tlearn: 0.0785820\ttotal: 646ms\tremaining: 267ms\n",
      "708:\tlearn: 0.0784409\ttotal: 647ms\tremaining: 266ms\n",
      "709:\tlearn: 0.0783215\ttotal: 648ms\tremaining: 265ms\n",
      "710:\tlearn: 0.0782441\ttotal: 649ms\tremaining: 264ms\n",
      "711:\tlearn: 0.0781298\ttotal: 649ms\tremaining: 263ms\n",
      "712:\tlearn: 0.0779631\ttotal: 650ms\tremaining: 262ms\n",
      "713:\tlearn: 0.0778043\ttotal: 651ms\tremaining: 261ms\n",
      "714:\tlearn: 0.0776894\ttotal: 652ms\tremaining: 260ms\n",
      "715:\tlearn: 0.0775742\ttotal: 653ms\tremaining: 259ms\n",
      "716:\tlearn: 0.0774688\ttotal: 654ms\tremaining: 258ms\n",
      "717:\tlearn: 0.0774590\ttotal: 655ms\tremaining: 257ms\n",
      "718:\tlearn: 0.0773598\ttotal: 655ms\tremaining: 256ms\n",
      "719:\tlearn: 0.0773119\ttotal: 656ms\tremaining: 255ms\n",
      "720:\tlearn: 0.0771746\ttotal: 658ms\tremaining: 255ms\n",
      "721:\tlearn: 0.0771514\ttotal: 659ms\tremaining: 254ms\n",
      "722:\tlearn: 0.0769847\ttotal: 659ms\tremaining: 253ms\n",
      "723:\tlearn: 0.0768310\ttotal: 660ms\tremaining: 252ms\n",
      "724:\tlearn: 0.0768114\ttotal: 661ms\tremaining: 251ms\n",
      "725:\tlearn: 0.0767157\ttotal: 662ms\tremaining: 250ms\n",
      "726:\tlearn: 0.0765794\ttotal: 663ms\tremaining: 249ms\n",
      "727:\tlearn: 0.0764266\ttotal: 664ms\tremaining: 248ms\n",
      "728:\tlearn: 0.0763062\ttotal: 665ms\tremaining: 247ms\n",
      "729:\tlearn: 0.0761679\ttotal: 666ms\tremaining: 246ms\n",
      "730:\tlearn: 0.0760781\ttotal: 667ms\tremaining: 245ms\n",
      "731:\tlearn: 0.0760608\ttotal: 667ms\tremaining: 244ms\n",
      "732:\tlearn: 0.0759045\ttotal: 668ms\tremaining: 243ms\n",
      "733:\tlearn: 0.0758251\ttotal: 669ms\tremaining: 242ms\n",
      "734:\tlearn: 0.0757432\ttotal: 670ms\tremaining: 241ms\n",
      "735:\tlearn: 0.0757205\ttotal: 671ms\tremaining: 241ms\n",
      "736:\tlearn: 0.0755763\ttotal: 671ms\tremaining: 240ms\n",
      "737:\tlearn: 0.0755303\ttotal: 672ms\tremaining: 239ms\n",
      "738:\tlearn: 0.0754069\ttotal: 673ms\tremaining: 238ms\n",
      "739:\tlearn: 0.0752759\ttotal: 674ms\tremaining: 237ms\n",
      "740:\tlearn: 0.0751329\ttotal: 675ms\tremaining: 236ms\n",
      "741:\tlearn: 0.0749954\ttotal: 676ms\tremaining: 235ms\n",
      "742:\tlearn: 0.0748895\ttotal: 677ms\tremaining: 234ms\n",
      "743:\tlearn: 0.0747748\ttotal: 678ms\tremaining: 233ms\n",
      "744:\tlearn: 0.0746231\ttotal: 678ms\tremaining: 232ms\n",
      "745:\tlearn: 0.0745471\ttotal: 679ms\tremaining: 231ms\n"
     ]
    },
    {
     "name": "stdout",
     "output_type": "stream",
     "text": [
      "746:\tlearn: 0.0744764\ttotal: 680ms\tremaining: 230ms\n",
      "747:\tlearn: 0.0743805\ttotal: 681ms\tremaining: 229ms\n",
      "748:\tlearn: 0.0743691\ttotal: 682ms\tremaining: 228ms\n",
      "749:\tlearn: 0.0742276\ttotal: 683ms\tremaining: 228ms\n",
      "750:\tlearn: 0.0740873\ttotal: 684ms\tremaining: 227ms\n",
      "751:\tlearn: 0.0740036\ttotal: 684ms\tremaining: 226ms\n",
      "752:\tlearn: 0.0738147\ttotal: 685ms\tremaining: 225ms\n",
      "753:\tlearn: 0.0737077\ttotal: 686ms\tremaining: 224ms\n",
      "754:\tlearn: 0.0736676\ttotal: 687ms\tremaining: 223ms\n",
      "755:\tlearn: 0.0736455\ttotal: 688ms\tremaining: 222ms\n",
      "756:\tlearn: 0.0735495\ttotal: 689ms\tremaining: 221ms\n",
      "757:\tlearn: 0.0733488\ttotal: 689ms\tremaining: 220ms\n",
      "758:\tlearn: 0.0731973\ttotal: 690ms\tremaining: 219ms\n",
      "759:\tlearn: 0.0730806\ttotal: 691ms\tremaining: 218ms\n",
      "760:\tlearn: 0.0729476\ttotal: 692ms\tremaining: 217ms\n",
      "761:\tlearn: 0.0728514\ttotal: 693ms\tremaining: 216ms\n",
      "762:\tlearn: 0.0728281\ttotal: 694ms\tremaining: 215ms\n",
      "763:\tlearn: 0.0727417\ttotal: 695ms\tremaining: 215ms\n",
      "764:\tlearn: 0.0726009\ttotal: 696ms\tremaining: 214ms\n",
      "765:\tlearn: 0.0725332\ttotal: 696ms\tremaining: 213ms\n",
      "766:\tlearn: 0.0723913\ttotal: 697ms\tremaining: 212ms\n",
      "767:\tlearn: 0.0722535\ttotal: 698ms\tremaining: 211ms\n",
      "768:\tlearn: 0.0721871\ttotal: 699ms\tremaining: 210ms\n",
      "769:\tlearn: 0.0720503\ttotal: 699ms\tremaining: 209ms\n",
      "770:\tlearn: 0.0718943\ttotal: 700ms\tremaining: 208ms\n",
      "771:\tlearn: 0.0717998\ttotal: 701ms\tremaining: 207ms\n",
      "772:\tlearn: 0.0717386\ttotal: 702ms\tremaining: 206ms\n",
      "773:\tlearn: 0.0717274\ttotal: 703ms\tremaining: 205ms\n",
      "774:\tlearn: 0.0716592\ttotal: 703ms\tremaining: 204ms\n",
      "775:\tlearn: 0.0715398\ttotal: 704ms\tremaining: 203ms\n",
      "776:\tlearn: 0.0714057\ttotal: 705ms\tremaining: 202ms\n",
      "777:\tlearn: 0.0713490\ttotal: 706ms\tremaining: 201ms\n",
      "778:\tlearn: 0.0712654\ttotal: 707ms\tremaining: 201ms\n",
      "779:\tlearn: 0.0711015\ttotal: 708ms\tremaining: 200ms\n",
      "780:\tlearn: 0.0709856\ttotal: 708ms\tremaining: 199ms\n",
      "781:\tlearn: 0.0708351\ttotal: 709ms\tremaining: 198ms\n",
      "782:\tlearn: 0.0707232\ttotal: 710ms\tremaining: 197ms\n",
      "783:\tlearn: 0.0706071\ttotal: 711ms\tremaining: 196ms\n",
      "784:\tlearn: 0.0705492\ttotal: 712ms\tremaining: 195ms\n",
      "785:\tlearn: 0.0704210\ttotal: 712ms\tremaining: 194ms\n",
      "786:\tlearn: 0.0703160\ttotal: 713ms\tremaining: 193ms\n",
      "787:\tlearn: 0.0701773\ttotal: 714ms\tremaining: 192ms\n",
      "788:\tlearn: 0.0701227\ttotal: 715ms\tremaining: 191ms\n",
      "789:\tlearn: 0.0699679\ttotal: 716ms\tremaining: 190ms\n",
      "790:\tlearn: 0.0699454\ttotal: 717ms\tremaining: 189ms\n",
      "791:\tlearn: 0.0699329\ttotal: 717ms\tremaining: 188ms\n",
      "792:\tlearn: 0.0698097\ttotal: 718ms\tremaining: 187ms\n",
      "793:\tlearn: 0.0696947\ttotal: 719ms\tremaining: 187ms\n",
      "794:\tlearn: 0.0695797\ttotal: 720ms\tremaining: 186ms\n",
      "795:\tlearn: 0.0694632\ttotal: 721ms\tremaining: 185ms\n",
      "796:\tlearn: 0.0692782\ttotal: 721ms\tremaining: 184ms\n",
      "797:\tlearn: 0.0692030\ttotal: 722ms\tremaining: 183ms\n",
      "798:\tlearn: 0.0691829\ttotal: 723ms\tremaining: 182ms\n",
      "799:\tlearn: 0.0690625\ttotal: 724ms\tremaining: 181ms\n",
      "800:\tlearn: 0.0689953\ttotal: 725ms\tremaining: 180ms\n",
      "801:\tlearn: 0.0689190\ttotal: 726ms\tremaining: 179ms\n",
      "802:\tlearn: 0.0688127\ttotal: 726ms\tremaining: 178ms\n",
      "803:\tlearn: 0.0687079\ttotal: 727ms\tremaining: 177ms\n",
      "804:\tlearn: 0.0686514\ttotal: 728ms\tremaining: 176ms\n",
      "805:\tlearn: 0.0685357\ttotal: 729ms\tremaining: 175ms\n",
      "806:\tlearn: 0.0685203\ttotal: 730ms\tremaining: 175ms\n",
      "807:\tlearn: 0.0684144\ttotal: 731ms\tremaining: 174ms\n",
      "808:\tlearn: 0.0682494\ttotal: 731ms\tremaining: 173ms\n",
      "809:\tlearn: 0.0681244\ttotal: 732ms\tremaining: 172ms\n",
      "810:\tlearn: 0.0679888\ttotal: 733ms\tremaining: 171ms\n",
      "811:\tlearn: 0.0678377\ttotal: 734ms\tremaining: 170ms\n",
      "812:\tlearn: 0.0677125\ttotal: 734ms\tremaining: 169ms\n",
      "813:\tlearn: 0.0676976\ttotal: 735ms\tremaining: 168ms\n",
      "814:\tlearn: 0.0675679\ttotal: 736ms\tremaining: 167ms\n",
      "815:\tlearn: 0.0675494\ttotal: 737ms\tremaining: 166ms\n",
      "816:\tlearn: 0.0673613\ttotal: 738ms\tremaining: 165ms\n",
      "817:\tlearn: 0.0672205\ttotal: 738ms\tremaining: 164ms\n",
      "818:\tlearn: 0.0671412\ttotal: 739ms\tremaining: 163ms\n",
      "819:\tlearn: 0.0671269\ttotal: 740ms\tremaining: 162ms\n",
      "820:\tlearn: 0.0669671\ttotal: 741ms\tremaining: 162ms\n",
      "821:\tlearn: 0.0668220\ttotal: 742ms\tremaining: 161ms\n",
      "822:\tlearn: 0.0667262\ttotal: 743ms\tremaining: 160ms\n",
      "823:\tlearn: 0.0666302\ttotal: 743ms\tremaining: 159ms\n",
      "824:\tlearn: 0.0665004\ttotal: 744ms\tremaining: 158ms\n",
      "825:\tlearn: 0.0664916\ttotal: 745ms\tremaining: 157ms\n",
      "826:\tlearn: 0.0664266\ttotal: 746ms\tremaining: 156ms\n",
      "827:\tlearn: 0.0662641\ttotal: 747ms\tremaining: 155ms\n",
      "828:\tlearn: 0.0661553\ttotal: 747ms\tremaining: 154ms\n",
      "829:\tlearn: 0.0660479\ttotal: 748ms\tremaining: 153ms\n",
      "830:\tlearn: 0.0659773\ttotal: 750ms\tremaining: 153ms\n",
      "831:\tlearn: 0.0658516\ttotal: 751ms\tremaining: 152ms\n",
      "832:\tlearn: 0.0657593\ttotal: 752ms\tremaining: 151ms\n",
      "833:\tlearn: 0.0656660\ttotal: 753ms\tremaining: 150ms\n",
      "834:\tlearn: 0.0655320\ttotal: 753ms\tremaining: 149ms\n",
      "835:\tlearn: 0.0653897\ttotal: 754ms\tremaining: 148ms\n",
      "836:\tlearn: 0.0652860\ttotal: 755ms\tremaining: 147ms\n",
      "837:\tlearn: 0.0652006\ttotal: 756ms\tremaining: 146ms\n",
      "838:\tlearn: 0.0650646\ttotal: 757ms\tremaining: 145ms\n",
      "839:\tlearn: 0.0650204\ttotal: 758ms\tremaining: 144ms\n",
      "840:\tlearn: 0.0649639\ttotal: 759ms\tremaining: 144ms\n",
      "841:\tlearn: 0.0648275\ttotal: 760ms\tremaining: 143ms\n",
      "842:\tlearn: 0.0647029\ttotal: 761ms\tremaining: 142ms\n",
      "843:\tlearn: 0.0645876\ttotal: 762ms\tremaining: 141ms\n"
     ]
    },
    {
     "name": "stdout",
     "output_type": "stream",
     "text": [
      "844:\tlearn: 0.0644744\ttotal: 763ms\tremaining: 140ms\n",
      "845:\tlearn: 0.0643892\ttotal: 764ms\tremaining: 139ms\n",
      "846:\tlearn: 0.0643214\ttotal: 764ms\tremaining: 138ms\n",
      "847:\tlearn: 0.0642126\ttotal: 765ms\tremaining: 137ms\n",
      "848:\tlearn: 0.0640992\ttotal: 766ms\tremaining: 136ms\n",
      "849:\tlearn: 0.0639548\ttotal: 767ms\tremaining: 135ms\n",
      "850:\tlearn: 0.0638398\ttotal: 768ms\tremaining: 134ms\n",
      "851:\tlearn: 0.0637734\ttotal: 769ms\tremaining: 134ms\n",
      "852:\tlearn: 0.0636536\ttotal: 770ms\tremaining: 133ms\n",
      "853:\tlearn: 0.0635510\ttotal: 770ms\tremaining: 132ms\n",
      "854:\tlearn: 0.0634812\ttotal: 772ms\tremaining: 131ms\n",
      "855:\tlearn: 0.0633533\ttotal: 772ms\tremaining: 130ms\n",
      "856:\tlearn: 0.0632567\ttotal: 773ms\tremaining: 129ms\n",
      "857:\tlearn: 0.0631365\ttotal: 774ms\tremaining: 128ms\n",
      "858:\tlearn: 0.0630182\ttotal: 775ms\tremaining: 127ms\n",
      "859:\tlearn: 0.0628720\ttotal: 776ms\tremaining: 126ms\n",
      "860:\tlearn: 0.0627098\ttotal: 776ms\tremaining: 125ms\n",
      "861:\tlearn: 0.0626842\ttotal: 778ms\tremaining: 125ms\n",
      "862:\tlearn: 0.0625849\ttotal: 779ms\tremaining: 124ms\n",
      "863:\tlearn: 0.0624876\ttotal: 779ms\tremaining: 123ms\n",
      "864:\tlearn: 0.0623884\ttotal: 780ms\tremaining: 122ms\n",
      "865:\tlearn: 0.0622250\ttotal: 781ms\tremaining: 121ms\n",
      "866:\tlearn: 0.0621773\ttotal: 782ms\tremaining: 120ms\n",
      "867:\tlearn: 0.0620619\ttotal: 783ms\tremaining: 119ms\n",
      "868:\tlearn: 0.0620246\ttotal: 783ms\tremaining: 118ms\n",
      "869:\tlearn: 0.0619253\ttotal: 784ms\tremaining: 117ms\n",
      "870:\tlearn: 0.0619132\ttotal: 785ms\tremaining: 116ms\n",
      "871:\tlearn: 0.0618731\ttotal: 786ms\tremaining: 115ms\n",
      "872:\tlearn: 0.0617785\ttotal: 787ms\tremaining: 114ms\n",
      "873:\tlearn: 0.0616521\ttotal: 787ms\tremaining: 114ms\n",
      "874:\tlearn: 0.0615236\ttotal: 788ms\tremaining: 113ms\n",
      "875:\tlearn: 0.0614709\ttotal: 789ms\tremaining: 112ms\n",
      "876:\tlearn: 0.0613840\ttotal: 790ms\tremaining: 111ms\n",
      "877:\tlearn: 0.0612170\ttotal: 791ms\tremaining: 110ms\n",
      "878:\tlearn: 0.0611475\ttotal: 791ms\tremaining: 109ms\n",
      "879:\tlearn: 0.0610891\ttotal: 792ms\tremaining: 108ms\n",
      "880:\tlearn: 0.0610015\ttotal: 793ms\tremaining: 107ms\n",
      "881:\tlearn: 0.0608230\ttotal: 794ms\tremaining: 106ms\n",
      "882:\tlearn: 0.0606937\ttotal: 796ms\tremaining: 105ms\n",
      "883:\tlearn: 0.0605500\ttotal: 796ms\tremaining: 105ms\n",
      "884:\tlearn: 0.0604676\ttotal: 797ms\tremaining: 104ms\n",
      "885:\tlearn: 0.0604583\ttotal: 798ms\tremaining: 103ms\n",
      "886:\tlearn: 0.0603370\ttotal: 799ms\tremaining: 102ms\n",
      "887:\tlearn: 0.0602666\ttotal: 800ms\tremaining: 101ms\n",
      "888:\tlearn: 0.0602114\ttotal: 800ms\tremaining: 99.9ms\n",
      "889:\tlearn: 0.0601222\ttotal: 801ms\tremaining: 99ms\n",
      "890:\tlearn: 0.0600161\ttotal: 802ms\tremaining: 98.1ms\n",
      "891:\tlearn: 0.0599300\ttotal: 803ms\tremaining: 97.2ms\n",
      "892:\tlearn: 0.0598882\ttotal: 804ms\tremaining: 96.3ms\n",
      "893:\tlearn: 0.0598204\ttotal: 804ms\tremaining: 95.4ms\n",
      "894:\tlearn: 0.0596801\ttotal: 805ms\tremaining: 94.4ms\n",
      "895:\tlearn: 0.0596029\ttotal: 806ms\tremaining: 93.5ms\n",
      "896:\tlearn: 0.0595510\ttotal: 807ms\tremaining: 92.6ms\n",
      "897:\tlearn: 0.0594196\ttotal: 807ms\tremaining: 91.7ms\n",
      "898:\tlearn: 0.0593688\ttotal: 808ms\tremaining: 90.8ms\n",
      "899:\tlearn: 0.0593172\ttotal: 809ms\tremaining: 89.9ms\n",
      "900:\tlearn: 0.0591814\ttotal: 810ms\tremaining: 89ms\n",
      "901:\tlearn: 0.0590943\ttotal: 811ms\tremaining: 88.1ms\n",
      "902:\tlearn: 0.0590478\ttotal: 812ms\tremaining: 87.3ms\n",
      "903:\tlearn: 0.0589552\ttotal: 813ms\tremaining: 86.3ms\n",
      "904:\tlearn: 0.0589137\ttotal: 814ms\tremaining: 85.4ms\n",
      "905:\tlearn: 0.0588051\ttotal: 815ms\tremaining: 84.6ms\n",
      "906:\tlearn: 0.0587895\ttotal: 816ms\tremaining: 83.7ms\n",
      "907:\tlearn: 0.0586845\ttotal: 817ms\tremaining: 82.8ms\n",
      "908:\tlearn: 0.0586064\ttotal: 818ms\tremaining: 81.9ms\n",
      "909:\tlearn: 0.0585303\ttotal: 819ms\tremaining: 81ms\n",
      "910:\tlearn: 0.0583780\ttotal: 820ms\tremaining: 80.1ms\n",
      "911:\tlearn: 0.0582610\ttotal: 821ms\tremaining: 79.2ms\n",
      "912:\tlearn: 0.0581853\ttotal: 822ms\tremaining: 78.3ms\n",
      "913:\tlearn: 0.0580705\ttotal: 823ms\tremaining: 77.4ms\n",
      "914:\tlearn: 0.0579925\ttotal: 824ms\tremaining: 76.5ms\n",
      "915:\tlearn: 0.0579101\ttotal: 825ms\tremaining: 75.6ms\n",
      "916:\tlearn: 0.0578509\ttotal: 826ms\tremaining: 74.7ms\n",
      "917:\tlearn: 0.0577508\ttotal: 827ms\tremaining: 73.8ms\n",
      "918:\tlearn: 0.0576299\ttotal: 828ms\tremaining: 72.9ms\n",
      "919:\tlearn: 0.0575183\ttotal: 829ms\tremaining: 72.1ms\n",
      "920:\tlearn: 0.0574483\ttotal: 830ms\tremaining: 71.2ms\n",
      "921:\tlearn: 0.0574307\ttotal: 831ms\tremaining: 70.3ms\n",
      "922:\tlearn: 0.0574115\ttotal: 832ms\tremaining: 69.4ms\n",
      "923:\tlearn: 0.0573570\ttotal: 833ms\tremaining: 68.5ms\n",
      "924:\tlearn: 0.0572899\ttotal: 834ms\tremaining: 67.6ms\n",
      "925:\tlearn: 0.0571520\ttotal: 834ms\tremaining: 66.7ms\n",
      "926:\tlearn: 0.0570511\ttotal: 835ms\tremaining: 65.8ms\n",
      "927:\tlearn: 0.0569925\ttotal: 836ms\tremaining: 64.9ms\n",
      "928:\tlearn: 0.0569029\ttotal: 837ms\tremaining: 64ms\n",
      "929:\tlearn: 0.0568576\ttotal: 838ms\tremaining: 63ms\n",
      "930:\tlearn: 0.0567549\ttotal: 839ms\tremaining: 62.1ms\n",
      "931:\tlearn: 0.0566148\ttotal: 839ms\tremaining: 61.2ms\n",
      "932:\tlearn: 0.0565363\ttotal: 840ms\tremaining: 60.3ms\n",
      "933:\tlearn: 0.0564566\ttotal: 841ms\tremaining: 59.4ms\n",
      "934:\tlearn: 0.0563594\ttotal: 842ms\tremaining: 58.5ms\n",
      "935:\tlearn: 0.0563424\ttotal: 842ms\tremaining: 57.6ms\n",
      "936:\tlearn: 0.0562122\ttotal: 843ms\tremaining: 56.7ms\n",
      "937:\tlearn: 0.0561464\ttotal: 844ms\tremaining: 55.8ms\n",
      "938:\tlearn: 0.0560860\ttotal: 845ms\tremaining: 54.9ms\n",
      "939:\tlearn: 0.0560009\ttotal: 846ms\tremaining: 54ms\n",
      "940:\tlearn: 0.0559175\ttotal: 847ms\tremaining: 53.1ms\n",
      "941:\tlearn: 0.0558020\ttotal: 848ms\tremaining: 52.2ms\n",
      "942:\tlearn: 0.0557860\ttotal: 848ms\tremaining: 51.3ms\n",
      "943:\tlearn: 0.0557086\ttotal: 849ms\tremaining: 50.4ms\n",
      "944:\tlearn: 0.0556236\ttotal: 850ms\tremaining: 49.5ms\n",
      "945:\tlearn: 0.0555995\ttotal: 851ms\tremaining: 48.6ms\n",
      "946:\tlearn: 0.0555090\ttotal: 852ms\tremaining: 47.7ms\n",
      "947:\tlearn: 0.0554569\ttotal: 853ms\tremaining: 46.8ms\n",
      "948:\tlearn: 0.0554246\ttotal: 854ms\tremaining: 45.9ms\n",
      "949:\tlearn: 0.0553282\ttotal: 855ms\tremaining: 45ms\n",
      "950:\tlearn: 0.0552060\ttotal: 855ms\tremaining: 44.1ms\n",
      "951:\tlearn: 0.0550928\ttotal: 856ms\tremaining: 43.2ms\n",
      "952:\tlearn: 0.0549779\ttotal: 857ms\tremaining: 42.3ms\n",
      "953:\tlearn: 0.0548873\ttotal: 858ms\tremaining: 41.4ms\n",
      "954:\tlearn: 0.0547628\ttotal: 859ms\tremaining: 40.5ms\n",
      "955:\tlearn: 0.0547470\ttotal: 860ms\tremaining: 39.6ms\n",
      "956:\tlearn: 0.0546200\ttotal: 861ms\tremaining: 38.7ms\n",
      "957:\tlearn: 0.0545324\ttotal: 862ms\tremaining: 37.8ms\n",
      "958:\tlearn: 0.0544369\ttotal: 863ms\tremaining: 36.9ms\n",
      "959:\tlearn: 0.0544120\ttotal: 864ms\tremaining: 36ms\n",
      "960:\tlearn: 0.0543401\ttotal: 864ms\tremaining: 35.1ms\n",
      "961:\tlearn: 0.0542937\ttotal: 865ms\tremaining: 34.2ms\n",
      "962:\tlearn: 0.0542407\ttotal: 866ms\tremaining: 33.3ms\n",
      "963:\tlearn: 0.0541252\ttotal: 867ms\tremaining: 32.4ms\n",
      "964:\tlearn: 0.0540756\ttotal: 868ms\tremaining: 31.5ms\n",
      "965:\tlearn: 0.0539667\ttotal: 869ms\tremaining: 30.6ms\n",
      "966:\tlearn: 0.0539064\ttotal: 869ms\tremaining: 29.7ms\n"
     ]
    },
    {
     "name": "stdout",
     "output_type": "stream",
     "text": [
      "967:\tlearn: 0.0537901\ttotal: 870ms\tremaining: 28.8ms\n",
      "968:\tlearn: 0.0537328\ttotal: 871ms\tremaining: 27.9ms\n",
      "969:\tlearn: 0.0537020\ttotal: 872ms\tremaining: 27ms\n",
      "970:\tlearn: 0.0536080\ttotal: 873ms\tremaining: 26.1ms\n",
      "971:\tlearn: 0.0535551\ttotal: 874ms\tremaining: 25.2ms\n",
      "972:\tlearn: 0.0535068\ttotal: 874ms\tremaining: 24.3ms\n",
      "973:\tlearn: 0.0534914\ttotal: 875ms\tremaining: 23.4ms\n",
      "974:\tlearn: 0.0534184\ttotal: 876ms\tremaining: 22.5ms\n",
      "975:\tlearn: 0.0533360\ttotal: 877ms\tremaining: 21.6ms\n",
      "976:\tlearn: 0.0532948\ttotal: 878ms\tremaining: 20.7ms\n",
      "977:\tlearn: 0.0531920\ttotal: 879ms\tremaining: 19.8ms\n",
      "978:\tlearn: 0.0530988\ttotal: 879ms\tremaining: 18.9ms\n",
      "979:\tlearn: 0.0530551\ttotal: 880ms\tremaining: 18ms\n",
      "980:\tlearn: 0.0529897\ttotal: 881ms\tremaining: 17.1ms\n",
      "981:\tlearn: 0.0528844\ttotal: 882ms\tremaining: 16.2ms\n",
      "982:\tlearn: 0.0528230\ttotal: 883ms\tremaining: 15.3ms\n",
      "983:\tlearn: 0.0527526\ttotal: 884ms\tremaining: 14.4ms\n",
      "984:\tlearn: 0.0527199\ttotal: 885ms\tremaining: 13.5ms\n",
      "985:\tlearn: 0.0526362\ttotal: 885ms\tremaining: 12.6ms\n",
      "986:\tlearn: 0.0525784\ttotal: 886ms\tremaining: 11.7ms\n",
      "987:\tlearn: 0.0525122\ttotal: 887ms\tremaining: 10.8ms\n",
      "988:\tlearn: 0.0524393\ttotal: 888ms\tremaining: 9.87ms\n",
      "989:\tlearn: 0.0524101\ttotal: 888ms\tremaining: 8.97ms\n",
      "990:\tlearn: 0.0523383\ttotal: 889ms\tremaining: 8.07ms\n",
      "991:\tlearn: 0.0522224\ttotal: 890ms\tremaining: 7.18ms\n",
      "992:\tlearn: 0.0521226\ttotal: 891ms\tremaining: 6.28ms\n",
      "993:\tlearn: 0.0520360\ttotal: 892ms\tremaining: 5.38ms\n",
      "994:\tlearn: 0.0519771\ttotal: 893ms\tremaining: 4.48ms\n",
      "995:\tlearn: 0.0518863\ttotal: 893ms\tremaining: 3.59ms\n",
      "996:\tlearn: 0.0518671\ttotal: 894ms\tremaining: 2.69ms\n",
      "997:\tlearn: 0.0518560\ttotal: 895ms\tremaining: 1.79ms\n",
      "998:\tlearn: 0.0517434\ttotal: 896ms\tremaining: 896us\n",
      "999:\tlearn: 0.0516911\ttotal: 897ms\tremaining: 0us\n"
     ]
    },
    {
     "data": {
      "text/plain": [
       "<catboost.core.CatBoostRegressor at 0x7f81117725e0>"
      ]
     },
     "execution_count": 9,
     "metadata": {},
     "output_type": "execute_result"
    }
   ],
   "source": [
    "#Train the Model \n",
    "prior_model = ctb.CatBoostRegressor()\n",
    "prior_model.fit(X_train,Y_train)"
   ]
  },
  {
   "cell_type": "code",
   "execution_count": 10,
   "id": "af65dcda",
   "metadata": {
    "execution": {
     "iopub.execute_input": "2022-06-12T07:19:09.382729Z",
     "iopub.status.busy": "2022-06-12T07:19:09.382334Z",
     "iopub.status.idle": "2022-06-12T07:19:09.389804Z",
     "shell.execute_reply": "2022-06-12T07:19:09.390213Z"
    },
    "id": "af65dcda",
    "papermill": {
     "duration": 0.020795,
     "end_time": "2022-06-12T07:19:09.390333",
     "exception": false,
     "start_time": "2022-06-12T07:19:09.369538",
     "status": "completed"
    },
    "tags": []
   },
   "outputs": [
    {
     "data": {
      "application/scrapbook.scrap.json+json": {
       "data": 0.24887247775567367,
       "encoder": "json",
       "name": "Prior Model MSE",
       "version": 1
      }
     },
     "metadata": {
      "scrapbook": {
       "data": true,
       "display": false,
       "name": "Prior Model MSE"
      }
     },
     "output_type": "display_data"
    },
    {
     "data": {
      "application/scrapbook.scrap.json+json": {
       "data": 2.5706542077059464,
       "encoder": "json",
       "name": "ABC Pre-generator MSE",
       "version": 1
      }
     },
     "metadata": {
      "scrapbook": {
       "data": true,
       "display": false,
       "name": "ABC Pre-generator MSE"
      }
     },
     "output_type": "display_data"
    },
    {
     "data": {
      "application/scrapbook.scrap.json+json": {
       "data": 0.2556740311545676,
       "encoder": "json",
       "name": "Prior Model MSE",
       "version": 1
      }
     },
     "metadata": {
      "scrapbook": {
       "data": true,
       "display": false,
       "name": "Prior Model MSE"
      }
     },
     "output_type": "display_data"
    },
    {
     "data": {
      "application/scrapbook.scrap.json+json": {
       "data": 1.3614250953131266,
       "encoder": "json",
       "name": "ABC Pre-generator MSE",
       "version": 1
      }
     },
     "metadata": {
      "scrapbook": {
       "data": true,
       "display": false,
       "name": "ABC Pre-generator MSE"
      }
     },
     "output_type": "display_data"
    }
   ],
   "source": [
    "y_pred = prior_model.predict(X_test)\n",
    "y_abc = y_pred + np.random.normal(0,variance, y_pred.shape) + bias \n",
    "mse = mean_squared_error(y_pred,Y_test)\n",
    "sb.glue(\"Prior Model MSE\",mse)\n",
    "mse = mean_squared_error(y_abc,Y_test)\n",
    "sb.glue(\"ABC Pre-generator MSE\",mse)\n",
    "mae = mean_absolute_error(y_pred,Y_test)\n",
    "sb.glue(\"Prior Model MSE\",mae)\n",
    "mae = mean_absolute_error(y_abc,Y_test)\n",
    "sb.glue(\"ABC Pre-generator MSE\",mae)"
   ]
  },
  {
   "cell_type": "markdown",
   "id": "25609da2",
   "metadata": {
    "papermill": {
     "duration": 0.009743,
     "end_time": "2022-06-12T07:19:09.410195",
     "exception": false,
     "start_time": "2022-06-12T07:19:09.400452",
     "status": "completed"
    },
    "tags": []
   },
   "source": [
    "# ABC GAN Model"
   ]
  },
  {
   "cell_type": "code",
   "execution_count": 11,
   "id": "dfc3464d",
   "metadata": {
    "execution": {
     "iopub.execute_input": "2022-06-12T07:19:09.434520Z",
     "iopub.status.busy": "2022-06-12T07:19:09.434110Z",
     "iopub.status.idle": "2022-06-12T07:19:09.436748Z",
     "shell.execute_reply": "2022-06-12T07:19:09.437097Z"
    },
    "papermill": {
     "duration": 0.016991,
     "end_time": "2022-06-12T07:19:09.437218",
     "exception": false,
     "start_time": "2022-06-12T07:19:09.420227",
     "status": "completed"
    },
    "tags": []
   },
   "outputs": [],
   "source": [
    "gen = network.Generator(n_features+1).to(device)\n",
    "disc = network.Discriminator(n_features+1).to(device)\n",
    "\n",
    "criterion = torch.nn.BCELoss()\n",
    "gen_opt = torch.optim.Adam(gen.parameters(), lr=0.001, betas=(0.5, 0.999))\n",
    "disc_opt = torch.optim.Adam(disc.parameters(), lr=0.001, betas=(0.5, 0.999))"
   ]
  },
  {
   "cell_type": "code",
   "execution_count": 12,
   "id": "b75fdd85",
   "metadata": {
    "execution": {
     "iopub.execute_input": "2022-06-12T07:19:09.462775Z",
     "iopub.status.busy": "2022-06-12T07:19:09.462354Z",
     "iopub.status.idle": "2022-06-12T07:20:10.273767Z",
     "shell.execute_reply": "2022-06-12T07:20:10.274071Z"
    },
    "papermill": {
     "duration": 60.826414,
     "end_time": "2022-06-12T07:20:10.274191",
     "exception": false,
     "start_time": "2022-06-12T07:19:09.447777",
     "status": "completed"
    },
    "tags": []
   },
   "outputs": [
    {
     "data": {
      "image/png": "[encoded data removed]",
      "text/plain": [
       "<Figure size 432x288 with 1 Axes>"
      ]
     },
     "metadata": {
      "needs_background": "light"
     },
     "output_type": "display_data"
    },
    {
     "data": {
      "image/png": "[encoded data removed]",
      "text/plain": [
       "<Figure size 432x288 with 1 Axes>"
      ]
     },
     "metadata": {
      "needs_background": "light"
     },
     "output_type": "display_data"
    }
   ],
   "source": [
    "#Training the ABC_GAN \n",
    "ABC_train_test2.training_GAN(disc,gen,disc_opt,gen_opt,train_data,batch_size,n_epochs,criterion,prior_model,variance,bias,device)"
   ]
  },
  {
   "cell_type": "code",
   "execution_count": 13,
   "id": "1fa7c368",
   "metadata": {
    "execution": {
     "iopub.execute_input": "2022-06-12T07:20:10.298620Z",
     "iopub.status.busy": "2022-06-12T07:20:10.298227Z",
     "iopub.status.idle": "2022-06-12T07:20:10.604054Z",
     "shell.execute_reply": "2022-06-12T07:20:10.604492Z"
    },
    "papermill": {
     "duration": 0.319498,
     "end_time": "2022-06-12T07:20:10.604620",
     "exception": false,
     "start_time": "2022-06-12T07:20:10.285122",
     "status": "completed"
    },
    "tags": []
   },
   "outputs": [
    {
     "data": {
      "application/scrapbook.scrap.json+json": {
       "data": 0.1870999660325249,
       "encoder": "json",
       "name": "ABC-GAN Model 1 MSE",
       "version": 1
      }
     },
     "metadata": {
      "scrapbook": {
       "data": true,
       "display": false,
       "name": "ABC-GAN Model 1 MSE"
      }
     },
     "output_type": "display_data"
    },
    {
     "data": {
      "application/scrapbook.scrap.json+json": {
       "data": 0.26401440760778155,
       "encoder": "json",
       "name": "ABC-GAN Model 1 MAE",
       "version": 1
      }
     },
     "metadata": {
      "scrapbook": {
       "data": true,
       "display": false,
       "name": "ABC-GAN Model 1 MAE"
      }
     },
     "output_type": "display_data"
    },
    {
     "data": {
      "application/scrapbook.scrap.json+json": {
       "data": 26.929469575993718,
       "encoder": "json",
       "name": "ABC-GAN Model 1 Manhattan Distance",
       "version": 1
      }
     },
     "metadata": {
      "scrapbook": {
       "data": true,
       "display": false,
       "name": "ABC-GAN Model 1 Manhattan Distance"
      }
     },
     "output_type": "display_data"
    },
    {
     "data": {
      "application/scrapbook.scrap.json+json": {
       "data": 4.368128494321179,
       "encoder": "json",
       "name": "ABC-GAN Model 1 Euclidean distance",
       "version": 1
      }
     },
     "metadata": {
      "scrapbook": {
       "data": true,
       "display": false,
       "name": "ABC-GAN Model 1 Euclidean distance"
      }
     },
     "output_type": "display_data"
    },
    {
     "data": {
      "application/scrapbook.scrap.json+json": {
       "data": [
        [
         0.18631454813119974,
         0.1907653937047792,
         0.1864030637889586,
         0.1925556394976233,
         0.1864119039846681,
         0.1905415972512219,
         0.18439215521443686,
         0.19538282142138932,
         0.18088043123057865,
         0.18747333484184137,
         0.18486574310865725,
         0.18709011960021846,
         0.1910461307986782,
         0.18014565537638505,
         0.18101021231314213,
         0.18811599350830385,
         0.18193226017161607,
         0.18228917201858152,
         0.1922175733090416,
         0.18619908724646556,
         0.18986510354660482,
         0.18721652424419027,
         0.18127026515183195,
         0.1936802436736415,
         0.19278459420333957,
         0.18486805034318118,
         0.1774780034187105,
         0.18688390933503554,
         0.1833757778726957,
         0.18794575387045784,
         0.18220350267447571,
         0.18069927432631586,
         0.1903560144778378,
         0.18408760357712112,
         0.18584565758532365,
         0.1895803488611135,
         0.18401413098895206,
         0.1918809315809892,
         0.18165008536609928,
         0.1858821334259129,
         0.19531369499465867,
         0.1811875009240756,
         0.18417265209268266,
         0.18657259837664739,
         0.19223805619917236,
         0.18571822500858187,
         0.1865997202646672,
         0.18141796584224212,
         0.18900900994671588,
         0.2071466822163651,
         0.18741786276237046,
         0.19036739923839244,
         0.20360216048552704,
         0.18561724936775914,
         0.1892684950517211,
         0.19042784429321188,
         0.1871689133768977,
         0.18822699393785114,
         0.19124042494369295,
         0.19238023434633297,
         0.18418996297616885,
         0.18686899596445974,
         0.1838273535788867,
         0.18024570723004496,
         0.20045361212369853,
         0.18805592206659655,
         0.1879555258788799,
         0.18890208149597357,
         0.18753033700435318,
         0.18663191476418897,
         0.1794789346673643,
         0.1825237281096931,
         0.18362451706805413,
         0.19307288557142244,
         0.19250137257289482,
         0.19881891114558028,
         0.18231856536317703,
         0.18084856490338527,
         0.19150491232500755,
         0.18489878896794773,
         0.18105651961784283,
         0.18285818845739965,
         0.1825762007083123,
         0.17874682841714923,
         0.18552339146398467,
         0.1826875295979334,
         0.18560818500032517,
         0.18553909763331816,
         0.18976416765777876,
         0.1867998626157042,
         0.18779478603336844,
         0.1903690995054897,
         0.19344092695802814,
         0.1818561833736649,
         0.19291062040920906,
         0.1927016788833979,
         0.1827457277786564,
         0.18451285944042223,
         0.17879294417768674,
         0.1867647830338601
        ],
        [
         0.26364142608408836,
         0.2676099745885414,
         0.2636407162701967,
         0.2646081768633688,
         0.26169633748484594,
         0.26221020530690164,
         0.2610046844564232,
         0.2679651269287455,
         0.26344908521894145,
         0.26326313403015045,
         0.26228172324743926,
         0.2661313918218309,
         0.2638594479318343,
         0.2648778214466338,
         0.2609384103367726,
         0.26475607567265924,
         0.26195612845613675,
         0.26167108644457426,
         0.2660657803290615,
         0.2632084088217394,
         0.2669073768398341,
         0.2637715294007577,
         0.2627568575097065,
         0.26764978764249997,
         0.2641356428902523,
         0.26106422306860194,
         0.2571908311516631,
         0.2641965010586907,
         0.2651052623987198,
         0.26438486272943956,
         0.2625556869030583,
         0.2642949350981736,
         0.265693154076443,
         0.2645694490010832,
         0.26281874393131216,
         0.2662124759791529,
         0.2611582210543109,
         0.26760121515276386,
         0.2652874799700929,
         0.26069351756835685,
         0.26586224394393904,
         0.2634153659729397,
         0.2624023606014602,
         0.26573237652579945,
         0.2657604665659806,
         0.2599354746806271,
         0.26248980934421223,
         0.26090633912998085,
         0.265839330632897,
         0.26881534211775837,
         0.263792313854484,
         0.2666024035025461,
         0.26697172845403355,
         0.2652709976057796,
         0.26498138334821253,
         0.26590099927111,
         0.265539599911255,
         0.2638288140296936,
         0.26258863895839335,
         0.26586873274223477,
         0.26404209120893013,
         0.26451890729367733,
         0.2624017714577563,
         0.26159366234844805,
         0.26519590196217974,
         0.2663850486278534,
         0.26235400662556585,
         0.2651801954078324,
         0.26310309789636555,
         0.26224523154543894,
         0.26129313675211924,
         0.2626157183127076,
         0.2650161075095336,
         0.26644417544936433,
         0.26219509319201406,
         0.26629151597472966,
         0.2634749662350206,
         0.264053125664884,
         0.26582309439340057,
         0.2629137198787694,
         0.26353828338723556,
         0.26182086612371835,
         0.26289005201382964,
         0.2608153768175957,
         0.2646885215140441,
         0.2626524019036807,
         0.26614150368407663,
         0.2647770443821655,
         0.2638787140741068,
         0.26380649720336874,
         0.26269643593068215,
         0.2654037043525308,
         0.26589185203991683,
         0.2626128859598847,
         0.2668904126347864,
         0.26733049078314913,
         0.2635742290420275,
         0.26335455236189503,
         0.26304020363764435,
         0.26310854883608864
        ],
        [
         26.89142546057701,
         27.296217408031225,
         26.89135305956006,
         26.99003404006362,
         26.693026423454285,
         26.74544094130397,
         26.622477814555168,
         27.332442946732044,
         26.87180669233203,
         26.852839671075344,
         26.752735771238804,
         27.14540196582675,
         26.913663689047098,
         27.01753778755665,
         26.615717854350805,
         27.00511971861124,
         26.71952510252595,
         26.690450817346573,
         27.138709593564272,
         26.84725769981742,
         27.22455243766308,
         26.904695998877287,
         26.801199465990067,
         27.300278339534998,
         26.941835574805737,
         26.6285507529974,
         26.233464777469635,
         26.94804310798645,
         27.04073676466942,
         26.967255998402834,
         26.780680064111948,
         26.958083380013704,
         27.100701715797186,
         26.986083798110485,
         26.807511880993843,
         27.15367254987359,
         26.63813854753971,
         27.295323945581913,
         27.059322956949472,
         26.5907387919724,
         27.11794888228178,
         26.868367329239845,
         26.765040781348944,
         27.104702405631542,
         27.107567589730024,
         26.513418417423964,
         26.773960553109646,
         26.61244659125805,
         27.115611724555492,
         27.419164896011353,
         26.906816013157368,
         27.193445157259703,
         27.23111630231142,
         27.05764175578952,
         27.028101101517677,
         27.12190192565322,
         27.08503919094801,
         26.910539031028748,
         26.784041173756123,
         27.118610739707947,
         26.93229330331087,
         26.980928543955088,
         26.76498068869114,
         26.682553559541702,
         27.049982000142336,
         27.171274960041046,
         26.760108675807714,
         27.0483799315989,
         26.836515985429287,
         26.749013617634773,
         26.651899948716164,
         26.786803267896175,
         27.031642965972424,
         27.17730589583516,
         26.743899505585432,
         27.161734629422426,
         26.8744465559721,
         26.933418817818165,
         27.11395562812686,
         26.817199427634478,
         26.880904905498028,
         26.705728344619274,
         26.814785305410624,
         26.603168435394764,
         26.998229194432497,
         26.790544994175434,
         27.146433375775814,
         27.007258526980877,
         26.91562883555889,
         26.908262714743614,
         26.79503646492958,
         27.07117784395814,
         27.120968908071518,
         26.78651436790824,
         27.222822088748217,
         27.26771005988121,
         26.884571362286806,
         26.862164340913296,
         26.830100771039724,
         26.837071981281042
        ],
        [
         4.359367374904571,
         4.411130258549103,
         4.36040279176979,
         4.431780142195412,
         4.3605061869507935,
         4.408542040133521,
         4.336819091439319,
         4.464196208163537,
         4.2953235018469815,
         4.372902943568245,
         4.342384805274982,
         4.368431320190611,
         4.4143748528489475,
         4.286590352295314,
         4.29686416540487,
         4.380391687720059,
         4.307794161459532,
         4.312017572540181,
         4.427888038051802,
         4.358016395005815,
         4.400709097606168,
         4.369906803686711,
         4.299949656157251,
         4.444703010855891,
         4.434414122377457,
         4.342411902964121,
         4.254733405127572,
         4.366023219380954,
         4.3248502104714515,
         4.378409173979369,
         4.311004207002879,
         4.293172018599327,
         4.406394612008717,
         4.333236153830802,
         4.353878394455111,
         4.397407825507383,
         4.332371332292872,
         4.424008930965318,
         4.304452195964327,
         4.354305640333843,
         4.46340642216852,
         4.298967910354265,
         4.334237016298673,
         4.362385245988488,
         4.428123951778629,
         4.3523854322515305,
         4.362702312443065,
         4.301701118849228,
         4.390776584451207,
         4.596625021259538,
         4.372255939645092,
         4.406526378261684,
         4.5571285223837785,
         4.351202067878648,
         4.393789536980072,
         4.407225898216202,
         4.369351114804528,
         4.381683852317601,
         4.41661899469002,
         4.429761156464981,
         4.334440704816392,
         4.365849011174675,
         4.330172059519857,
         4.287780560787199,
         4.521755017315428,
         4.379692232428307,
         4.37852299750107,
         4.389534407267961,
         4.373567694050706,
         4.363078649984122,
         4.278650644311961,
         4.314790871779151,
         4.327782427634449,
         4.437728509979523,
         4.431155605757405,
         4.503279797752876,
         4.312365205666613,
         4.294945124229796,
         4.419672053122355,
         4.3427729015838095,
         4.2974137572521425,
         4.31874231954799,
         4.315411043255074,
         4.269915280020111,
         4.350101829765188,
         4.316726539750835,
         4.351095824046302,
         4.3502859628533,
         4.399539191903332,
         4.365041349953266,
         4.376650337347454,
         4.406546056670683,
         4.441956162516563,
         4.306893393632332,
         4.435863307377644,
         4.433460414406177,
         4.317414067867819,
         4.338238313292973,
         4.270466052566633,
         4.364631470061789
        ]
       ],
       "encoder": "json",
       "name": "ABC_GAN_1 Metrics",
       "version": 1
      }
     },
     "metadata": {
      "scrapbook": {
       "data": true,
       "display": false,
       "name": "ABC_GAN_1 Metrics"
      }
     },
     "output_type": "display_data"
    },
    {
     "name": "stdout",
     "output_type": "stream",
     "text": [
      "MSE\n",
      "0.1870999660325249\n"
     ]
    }
   ],
   "source": [
    "ABC_GAN1_metrics=ABC_train_test2.test_generator(gen,test_data,prior_model,variance,bias,\"1\",device)\n",
    "sb.glue(\"ABC_GAN_1 Metrics\",ABC_GAN1_metrics)\n",
    "\n",
    "print(\"MSE\")\n",
    "print(mean(ABC_GAN1_metrics[0]))"
   ]
  },
  {
   "cell_type": "code",
   "execution_count": 14,
   "id": "eb22ce5c",
   "metadata": {
    "execution": {
     "iopub.execute_input": "2022-06-12T07:20:10.632300Z",
     "iopub.status.busy": "2022-06-12T07:20:10.631929Z",
     "iopub.status.idle": "2022-06-12T07:20:10.950274Z",
     "shell.execute_reply": "2022-06-12T07:20:10.950522Z"
    },
    "papermill": {
     "duration": 0.332955,
     "end_time": "2022-06-12T07:20:10.950646",
     "exception": false,
     "start_time": "2022-06-12T07:20:10.617691",
     "status": "completed"
    },
    "tags": []
   },
   "outputs": [
    {
     "data": {
      "image/png": "[encoded data removed]",
      "text/plain": [
       "<Figure size 432x288 with 1 Axes>"
      ]
     },
     "metadata": {
      "needs_background": "light"
     },
     "output_type": "display_data"
    },
    {
     "data": {
      "image/png": "[encoded data removed]",
      "text/plain": [
       "<Figure size 432x288 with 1 Axes>"
      ]
     },
     "metadata": {
      "needs_background": "light"
     },
     "output_type": "display_data"
    },
    {
     "data": {
      "image/png": "[encoded data removed]",
      "text/plain": [
       "<Figure size 432x288 with 1 Axes>"
      ]
     },
     "metadata": {
      "needs_background": "light"
     },
     "output_type": "display_data"
    },
    {
     "data": {
      "image/png": "[encoded data removed]",
      "text/plain": [
       "<Figure size 432x288 with 1 Axes>"
      ]
     },
     "metadata": {
      "needs_background": "light"
     },
     "output_type": "display_data"
    }
   ],
   "source": [
    "sanityChecks.discProbVsError(train_data,disc,device)\n",
    "sanityChecks.discProbVsError(test_data,disc,device)"
   ]
  },
  {
   "cell_type": "markdown",
   "id": "130f3a4d",
   "metadata": {
    "id": "130f3a4d",
    "papermill": {
     "duration": 0.014476,
     "end_time": "2022-06-12T07:20:10.980078",
     "exception": false,
     "start_time": "2022-06-12T07:20:10.965602",
     "status": "completed"
    },
    "tags": []
   },
   "source": [
    "# ABC - GAN Model with skip connection"
   ]
  },
  {
   "cell_type": "code",
   "execution_count": 15,
   "id": "4e43dad1",
   "metadata": {
    "execution": {
     "iopub.execute_input": "2022-06-12T07:20:11.012426Z",
     "iopub.status.busy": "2022-06-12T07:20:11.012057Z",
     "iopub.status.idle": "2022-06-12T07:20:11.014287Z",
     "shell.execute_reply": "2022-06-12T07:20:11.014535Z"
    },
    "id": "4e43dad1",
    "papermill": {
     "duration": 0.019988,
     "end_time": "2022-06-12T07:20:11.014650",
     "exception": false,
     "start_time": "2022-06-12T07:20:10.994662",
     "status": "completed"
    },
    "tags": []
   },
   "outputs": [],
   "source": [
    "#Generator\n",
    "gen3 = network.GeneratorWithSkipConnection(n_features+1).to(device)\n",
    "constraints=network.weightConstraint()\n",
    "#Discriminator \n",
    "disc3 = network.Discriminator(n_features+1).to(device)\n",
    "\n",
    "criterion = torch.nn.BCELoss()\n",
    "gen_opt = torch.optim.Adam(gen3.parameters(), lr=0.001, betas=(0.5, 0.999))\n",
    "disc_opt = torch.optim.Adam(disc3.parameters(), lr=0.001, betas=(0.5, 0.999))\n"
   ]
  },
  {
   "cell_type": "code",
   "execution_count": 16,
   "id": "26acbc37",
   "metadata": {
    "execution": {
     "iopub.execute_input": "2022-06-12T07:20:11.046567Z",
     "iopub.status.busy": "2022-06-12T07:20:11.046200Z",
     "iopub.status.idle": "2022-06-12T07:23:09.464991Z",
     "shell.execute_reply": "2022-06-12T07:23:09.465313Z"
    },
    "id": "26acbc37",
    "papermill": {
     "duration": 178.435894,
     "end_time": "2022-06-12T07:23:09.465438",
     "exception": false,
     "start_time": "2022-06-12T07:20:11.029544",
     "status": "completed"
    },
    "tags": []
   },
   "outputs": [
    {
     "data": {
      "image/png": "[encoded data removed]",
      "text/plain": [
       "<Figure size 432x288 with 1 Axes>"
      ]
     },
     "metadata": {
      "needs_background": "light"
     },
     "output_type": "display_data"
    },
    {
     "data": {
      "image/png": "[encoded data removed]",
      "text/plain": [
       "<Figure size 432x288 with 1 Axes>"
      ]
     },
     "metadata": {
      "needs_background": "light"
     },
     "output_type": "display_data"
    }
   ],
   "source": [
    "ABC_train_test2.training_GAN_skip_connection(disc3,gen3,disc_opt,gen_opt,train_data,batch_size,n_epochs,criterion,prior_model,variance,bias,device)"
   ]
  },
  {
   "cell_type": "code",
   "execution_count": 17,
   "id": "c5e0717b",
   "metadata": {
    "execution": {
     "iopub.execute_input": "2022-06-12T07:23:09.499291Z",
     "iopub.status.busy": "2022-06-12T07:23:09.498900Z",
     "iopub.status.idle": "2022-06-12T07:23:10.331070Z",
     "shell.execute_reply": "2022-06-12T07:23:10.331403Z"
    },
    "id": "c5e0717b",
    "papermill": {
     "duration": 0.850299,
     "end_time": "2022-06-12T07:23:10.331532",
     "exception": false,
     "start_time": "2022-06-12T07:23:09.481233",
     "status": "completed"
    },
    "tags": []
   },
   "outputs": [
    {
     "data": {
      "application/scrapbook.scrap.json+json": {
       "data": 0.24550188504771278,
       "encoder": "json",
       "name": "ABC-GAN Model 3 MSE",
       "version": 1
      }
     },
     "metadata": {
      "scrapbook": {
       "data": true,
       "display": false,
       "name": "ABC-GAN Model 3 MSE"
      }
     },
     "output_type": "display_data"
    },
    {
     "data": {
      "application/scrapbook.scrap.json+json": {
       "data": 0.2995859187761066,
       "encoder": "json",
       "name": "ABC-GAN Model 3 MAE",
       "version": 1
      }
     },
     "metadata": {
      "scrapbook": {
       "data": true,
       "display": false,
       "name": "ABC-GAN Model 3 MAE"
      }
     },
     "output_type": "display_data"
    },
    {
     "data": {
      "application/scrapbook.scrap.json+json": {
       "data": 30.557763715162874,
       "encoder": "json",
       "name": "ABC-GAN Model 3 Manhattan Distance",
       "version": 1
      }
     },
     "metadata": {
      "scrapbook": {
       "data": true,
       "display": false,
       "name": "ABC-GAN Model 3 Manhattan Distance"
      }
     },
     "output_type": "display_data"
    },
    {
     "data": {
      "application/scrapbook.scrap.json+json": {
       "data": 5.003023294222255,
       "encoder": "json",
       "name": "ABC-GAN Model 3 Euclidean distance",
       "version": 1
      }
     },
     "metadata": {
      "scrapbook": {
       "data": true,
       "display": false,
       "name": "ABC-GAN Model 3 Euclidean distance"
      }
     },
     "output_type": "display_data"
    },
    {
     "data": {
      "application/scrapbook.scrap.json+json": {
       "data": [
        [
         0.24786779951285162,
         0.23900820554892116,
         0.22808025797340278,
         0.24919637202576217,
         0.24374141733553314,
         0.2494329135559171,
         0.24408995636646255,
         0.23282755788184495,
         0.2520613539279893,
         0.24124128410912687,
         0.23491799604107244,
         0.2360918657219706,
         0.27835072926375887,
         0.2540326844777417,
         0.25237780392715564,
         0.23388733022162453,
         0.24048770289199384,
         0.2236565860839265,
         0.2449775510726569,
         0.2690636057093444,
         0.23748070266168098,
         0.23485964626529124,
         0.23295181238197593,
         0.23584210865602687,
         0.2512749131017536,
         0.2557076700483742,
         0.24087421634238537,
         0.25841258664153116,
         0.2460086873882049,
         0.2493045107144435,
         0.23452766280325602,
         0.25171559700716023,
         0.2509914355749394,
         0.23419219880346176,
         0.25695028890466903,
         0.23807072604223778,
         0.2397738718368637,
         0.24211082769752765,
         0.2349790664157004,
         0.23685746370452943,
         0.24689278022379557,
         0.24960903022974723,
         0.24020837318175237,
         0.24097566483973598,
         0.2814449322182438,
         0.2553211972730065,
         0.2406768351593483,
         0.25434032917118216,
         0.24617268878179213,
         0.23682222627069016,
         0.24866789289701663,
         0.24068160072102854,
         0.2537451024285891,
         0.24312320966289816,
         0.23966226060976836,
         0.23941974399291652,
         0.23996216574922336,
         0.26687773306100376,
         0.24234008101710153,
         0.24914155010265607,
         0.2488662269773875,
         0.2501533291086549,
         0.24105187556619273,
         0.24985241090894458,
         0.2575587842537474,
         0.2390167148719922,
         0.2315582982911508,
         0.2534537919829178,
         0.23802409024424181,
         0.23964339156917636,
         0.2538856213784717,
         0.23263088418112057,
         0.23468746365704535,
         0.24014208477440943,
         0.2502719218858503,
         0.25031565402991235,
         0.2601377182449123,
         0.2611215041092019,
         0.22997581737801484,
         0.25324623376787286,
         0.27287738253176297,
         0.24881129268081778,
         0.2501590857454752,
         0.24968470386936714,
         0.24235397771768033,
         0.26442839533149537,
         0.24370213426612283,
         0.23376801400984223,
         0.24698443341769039,
         0.24312622233367662,
         0.24500552946607443,
         0.2454409138082082,
         0.23921631775212363,
         0.2456488804336383,
         0.2297055726591552,
         0.23709728232445185,
         0.2474790534671481,
         0.2478319525074634,
         0.2537307254603891,
         0.23318045357491243
        ],
        [
         0.30969163581875025,
         0.30436509581027077,
         0.28109355274514825,
         0.3065106676270564,
         0.31193806315023526,
         0.30057128215683443,
         0.2965304002384929,
         0.2943215128034353,
         0.3134133756233781,
         0.30001208503894944,
         0.2940082215137926,
         0.28631555237898637,
         0.2985125627806958,
         0.30130579004831176,
         0.30421571634417655,
         0.29129338268117577,
         0.3017915725050604,
         0.28043966535844056,
         0.31234936149535225,
         0.30081341709649445,
         0.2921980178239299,
         0.29028073680021016,
         0.28097119748446286,
         0.29837692912448854,
         0.315139646075812,
         0.30269594903231833,
         0.30652486288226116,
         0.3065737282090327,
         0.2908668660869201,
         0.2939118091017008,
         0.28930958670874435,
         0.31186077685332764,
         0.3091058975414318,
         0.2875601998804247,
         0.30301378046472865,
         0.2918282800956684,
         0.2936843962719043,
         0.3052713595988119,
         0.29707344471677843,
         0.2865649966121304,
         0.30193668881467745,
         0.30978390143490303,
         0.28860820950392413,
         0.3020409826627549,
         0.3108961472616476,
         0.30215701866237554,
         0.30073597139733677,
         0.31078301381100626,
         0.30404540724760176,
         0.2997293243294253,
         0.2993189769559631,
         0.29415511906000913,
         0.3022036015914351,
         0.2988579865983304,
         0.28897745830609517,
         0.29462855780387626,
         0.29678296177264524,
         0.3124951132226224,
         0.28951315548928347,
         0.31096762144828544,
         0.29437057173573505,
         0.2960232591585201,
         0.3014331672194542,
         0.3083981875622389,
         0.2991604884246401,
         0.2972406234738289,
         0.29373093398616595,
         0.2961824125445941,
         0.3015900901792681,
         0.3032993807585216,
         0.3052122535585773,
         0.2807822324992979,
         0.29317951821448174,
         0.29444273250798386,
         0.30618418986890833,
         0.2992298269607857,
         0.30564752655724686,
         0.3117798173471409,
         0.2838232475972059,
         0.2998052323784898,
         0.3177515624419731,
         0.287840451059096,
         0.3081108533649468,
         0.29446508446890934,
         0.3006953845056249,
         0.3035608807249981,
         0.3037887212327298,
         0.2983375823161766,
         0.3112199217738474,
         0.30324228476806014,
         0.30481960171577976,
         0.30556232412802237,
         0.30016293877041805,
         0.2963967872235705,
         0.28590805518130463,
         0.29053315282890607,
         0.3020411469042301,
         0.3034321570805475,
         0.3104333679246552,
         0.29785133470945496
        ],
        [
         31.588546853512526,
         31.04523977264762,
         28.67154238000512,
         31.264088097959757,
         31.817682441323996,
         30.65827077999711,
         30.246100824326277,
         30.020794305950403,
         31.968164313584566,
         30.601232673972845,
         29.988838594406843,
         29.204186342656612,
         30.448281403630972,
         30.733190584927797,
         31.03000306710601,
         29.71192503347993,
         30.782740395516157,
         28.604845866560936,
         31.85963487252593,
         30.682968543842435,
         29.804197818040848,
         29.608635153621435,
         28.659062143415213,
         30.434446770697832,
         32.14424389973283,
         30.874986801296473,
         31.26553601399064,
         31.27052027732134,
         29.66842034086585,
         29.97900452837348,
         29.509577844291925,
         31.80979923903942,
         31.528801549226046,
         29.331140387803316,
         30.907405607402325,
         29.766484569758177,
         29.95580841973424,
         31.137678679078817,
         30.301491361111403,
         29.229629654437304,
         30.7975422590971,
         31.59795794636011,
         29.438037369400263,
         30.808180231601,
         31.711407020688057,
         30.820015903562307,
         30.675069082528353,
         31.69986740872264,
         31.01263153925538,
         30.57239108160138,
         30.530535649508238,
         30.00382214412093,
         30.824767362326384,
         30.4835146330297,
         29.47570074722171,
         30.05211289599538,
         30.271862100809813,
         31.874501548707485,
         29.530341859906912,
         31.718697387725115,
         30.025798317044973,
         30.194372434169054,
         30.746183056384325,
         31.45661513134837,
         30.514369819313288,
         30.31854359433055,
         29.960555266588926,
         30.210606079548597,
         30.76218919828534,
         30.936536837369204,
         31.131649862974882,
         28.63978771492839,
         29.904310857877135,
         30.033158715814352,
         31.230787366628647,
         30.521442350000143,
         31.176047708839178,
         31.80154136940837,
         28.949971254915,
         30.580133702605963,
         32.41065936908126,
         29.359726008027792,
         31.427307043224573,
         30.035438615828753,
         30.670929219573736,
         30.963209833949804,
         30.98644956573844,
         30.43043339625001,
         31.744432020932436,
         30.930713046342134,
         31.091599375009537,
         31.167357061058283,
         30.616619754582644,
         30.23247229680419,
         29.16262162849307,
         29.634381588548422,
         30.808196984231472,
         30.950080022215843,
         31.66420352831483,
         30.38083614036441
        ],
        [
         5.0281721878144605,
         4.937492983892732,
         4.82329620832964,
         5.041629691540995,
         4.986143255886696,
         5.04402192527982,
         4.989706960271233,
         4.8732341318623495,
         5.0705283847598075,
         4.960505113305594,
         4.895062368978499,
         4.907277280085261,
         5.328393227315661,
         5.09031765381392,
         5.073710279526204,
         4.884312406327599,
         4.952751325776752,
         4.776292681626671,
         4.998770869865011,
         5.238748684786581,
         4.921689920290739,
         4.894454404635894,
         4.874534322677556,
         4.904680935893256,
         5.062612086302767,
         5.107071797511189,
         4.9567297754591495,
         5.13401245006634,
         5.0092799995205795,
         5.042723479715424,
         4.890993928224826,
         5.067049525584919,
         5.059755570049193,
         4.887494683163665,
         5.119465740512016,
         4.927800123412906,
         4.945395325690364,
         4.969437033019719,
         4.895698599219671,
         4.915227491974507,
         5.018272968146228,
         5.045802323063619,
         4.949874146333292,
         4.957773473410525,
         5.357927125881881,
         5.103210961918649,
         4.954698495998877,
         5.093399019855069,
         5.010949436558185,
         4.914861857632459,
         5.036280877343489,
         4.954747548921631,
         5.0874355472788135,
         4.979815999172621,
         4.944244187153014,
         4.941741989144869,
         4.947336748839803,
         5.21742549273321,
         4.971789241685969,
         5.041075094706576,
         5.038288911098045,
         5.05130077990638,
         4.958557381714127,
         5.048261672369247,
         5.125523972618042,
         4.937580877002745,
         4.859932759380255,
         5.084514409681383,
         4.927317445112773,
         4.9440495487055935,
         5.088844012209857,
         4.871175441972327,
         4.892659940463737,
         4.949191110372458,
         5.0524979992432195,
         5.052939412960645,
         5.151120971301398,
         5.1608520051575395,
         4.843297778637765,
         5.082432079656651,
         5.275745731007117,
         5.0377328088579105,
         5.051358900933339,
         5.0465671297105965,
         4.971931790280655,
         5.19342818606482,
         4.985741438857868,
         4.883066396128965,
         5.01920434019222,
         4.979846852869576,
         4.999056311499161,
         5.0034960985732,
         4.939642133871299,
         5.005615427120935,
         4.840451261115416,
         4.917715200893001,
         5.024227647474695,
         5.027808583842594,
         5.087291420486907,
         4.876925903132122
        ]
       ],
       "encoder": "json",
       "name": "ABC_GAN_3 Metrics",
       "version": 1
      }
     },
     "metadata": {
      "scrapbook": {
       "data": true,
       "display": false,
       "name": "ABC_GAN_3 Metrics"
      }
     },
     "output_type": "display_data"
    },
    {
     "name": "stdout",
     "output_type": "stream",
     "text": [
      "MSE\n",
      "0.24550188504771278\n"
     ]
    }
   ],
   "source": [
    "ABC_GAN3_metrics=ABC_train_test2.test_generator(gen3,test_data,prior_model,variance,bias,\"3\",device)\n",
    "sb.glue(\"ABC_GAN_3 Metrics\",ABC_GAN3_metrics)\n",
    "\n",
    "print(\"MSE\")\n",
    "print(mean(ABC_GAN3_metrics[0]))"
   ]
  },
  {
   "cell_type": "code",
   "execution_count": 18,
   "id": "c8e46b48",
   "metadata": {
    "execution": {
     "iopub.execute_input": "2022-06-12T07:23:10.368569Z",
     "iopub.status.busy": "2022-06-12T07:23:10.368203Z",
     "iopub.status.idle": "2022-06-12T07:23:10.680705Z",
     "shell.execute_reply": "2022-06-12T07:23:10.680958Z"
    },
    "id": "c8e46b48",
    "papermill": {
     "duration": 0.332281,
     "end_time": "2022-06-12T07:23:10.681081",
     "exception": false,
     "start_time": "2022-06-12T07:23:10.348800",
     "status": "completed"
    },
    "tags": []
   },
   "outputs": [
    {
     "data": {
      "image/png": "[encoded data removed]",
      "text/plain": [
       "<Figure size 432x288 with 1 Axes>"
      ]
     },
     "metadata": {
      "needs_background": "light"
     },
     "output_type": "display_data"
    },
    {
     "data": {
      "image/png": "[encoded data removed]",
      "text/plain": [
       "<Figure size 432x288 with 1 Axes>"
      ]
     },
     "metadata": {
      "needs_background": "light"
     },
     "output_type": "display_data"
    },
    {
     "data": {
      "image/png": "[encoded data removed]",
      "text/plain": [
       "<Figure size 432x288 with 1 Axes>"
      ]
     },
     "metadata": {
      "needs_background": "light"
     },
     "output_type": "display_data"
    },
    {
     "data": {
      "image/png": "[encoded data removed]",
      "text/plain": [
       "<Figure size 432x288 with 1 Axes>"
      ]
     },
     "metadata": {
      "needs_background": "light"
     },
     "output_type": "display_data"
    }
   ],
   "source": [
    "sanityChecks.discProbVsError(train_data,disc3,device)\n",
    "sanityChecks.discProbVsError(test_data,disc3,device)"
   ]
  },
  {
   "cell_type": "markdown",
   "id": "a5bd74c3",
   "metadata": {
    "id": "a5bd74c3",
    "papermill": {
     "duration": 0.019467,
     "end_time": "2022-06-12T07:23:10.720692",
     "exception": false,
     "start_time": "2022-06-12T07:23:10.701225",
     "status": "completed"
    },
    "tags": []
   },
   "source": [
    "## Skip Connection Model Analysis - ABC-GAN "
   ]
  },
  {
   "cell_type": "markdown",
   "id": "5744a8bf",
   "metadata": {
    "id": "5744a8bf",
    "papermill": {
     "duration": 0.019328,
     "end_time": "2022-06-12T07:23:10.759342",
     "exception": false,
     "start_time": "2022-06-12T07:23:10.740014",
     "status": "completed"
    },
    "tags": []
   },
   "source": [
    "### Weight Analysis \n",
    "\n",
    "Study the weights of the skip connection layer\n",
    "\n",
    "Equation of the skip connection is \n",
    "\n",
    "$output = y_{gan} * w + y_{abc} * (1-w)$"
   ]
  },
  {
   "cell_type": "code",
   "execution_count": 19,
   "id": "52c31dea",
   "metadata": {
    "execution": {
     "iopub.execute_input": "2022-06-12T07:23:10.800486Z",
     "iopub.status.busy": "2022-06-12T07:23:10.800100Z",
     "iopub.status.idle": "2022-06-12T07:23:10.803505Z",
     "shell.execute_reply": "2022-06-12T07:23:10.803752Z"
    },
    "id": "52c31dea",
    "papermill": {
     "duration": 0.025273,
     "end_time": "2022-06-12T07:23:10.803866",
     "exception": false,
     "start_time": "2022-06-12T07:23:10.778593",
     "status": "completed"
    },
    "tags": []
   },
   "outputs": [
    {
     "name": "stdout",
     "output_type": "stream",
     "text": [
      "Weight of the node at skip connection\n",
      "Parameter containing:\n",
      "tensor([[0.2179]], requires_grad=True)\n"
     ]
    },
    {
     "data": {
      "application/scrapbook.scrap.json+json": {
       "data": 0.2178666889667511,
       "encoder": "json",
       "name": "Skip Connection Weight",
       "version": 1
      }
     },
     "metadata": {
      "scrapbook": {
       "data": true,
       "display": false,
       "name": "Skip Connection Weight"
      }
     },
     "output_type": "display_data"
    }
   ],
   "source": [
    "print(\"Weight of the node at skip connection\")\n",
    "for name,param in gen3.named_parameters():\n",
    "    if(name == \"skipNode.weight\"):\n",
    "        print(param)\n",
    "        sb.glue(\"Skip Connection Weight\",param.item())"
   ]
  }
 ],
 "metadata": {
  "colab": {
   "collapsed_sections": [],
   "name": "ABC_GAN_Model-Catboost_Pre-gen.ipynb",
   "provenance": []
  },
  "interpreter": {
   "hash": "31f2aee4e71d21fbe5cf8b01ff0e069b9275f58929596ceb00d14d90e3e16cd6"
  },
  "kernelspec": {
   "display_name": "Python 3 (ipykernel)",
   "language": "python",
   "name": "python3"
  },
  "language_info": {
   "codemirror_mode": {
    "name": "ipython",
    "version": 3
   },
   "file_extension": ".py",
   "mimetype": "text/x-python",
   "name": "python",
   "nbconvert_exporter": "python",
   "pygments_lexer": "ipython3",
   "version": "3.8.11"
  },
  "papermill": {
   "default_parameters": {},
   "duration": 245.684157,
   "end_time": "2022-06-12T07:23:11.131574",
   "environment_variables": {},
   "exception": null,
   "input_path": "ABC_GAN-Catboost.ipynb",
   "output_path": "./ABC_GAN_Catboost/ABC-GAN_output_9_0.ipynb",
   "parameters": {
    "bias": 1,
    "variance": 1
   },
   "start_time": "2022-06-12T07:19:05.447417",
   "version": "2.3.3"
  }
 },
 "nbformat": 4,
 "nbformat_minor": 5
}