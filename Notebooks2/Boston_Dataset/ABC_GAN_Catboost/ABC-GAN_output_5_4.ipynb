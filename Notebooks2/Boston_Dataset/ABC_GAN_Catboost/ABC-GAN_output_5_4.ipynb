{
 "cells": [
  {
   "cell_type": "markdown",
   "id": "622780e6",
   "metadata": {
    "id": "622780e6",
    "papermill": {
     "duration": 0.024516,
     "end_time": "2022-06-12T05:04:52.821677",
     "exception": false,
     "start_time": "2022-06-12T05:04:52.797161",
     "status": "completed"
    },
    "tags": []
   },
   "source": [
    "## Import Libraries "
   ]
  },
  {
   "cell_type": "code",
   "execution_count": 1,
   "id": "a62397e3",
   "metadata": {
    "execution": {
     "iopub.execute_input": "2022-06-12T05:04:52.857398Z",
     "iopub.status.busy": "2022-06-12T05:04:52.856895Z",
     "iopub.status.idle": "2022-06-12T05:04:52.859296Z",
     "shell.execute_reply": "2022-06-12T05:04:52.859632Z"
    },
    "id": "a62397e3",
    "papermill": {
     "duration": 0.022438,
     "end_time": "2022-06-12T05:04:52.859849",
     "exception": false,
     "start_time": "2022-06-12T05:04:52.837411",
     "status": "completed"
    },
    "tags": []
   },
   "outputs": [],
   "source": [
    "import warnings\n",
    "import sys\n",
    "sys.path.insert(0, '../../src')\n",
    "warnings.filterwarnings('ignore')"
   ]
  },
  {
   "cell_type": "code",
   "execution_count": 2,
   "id": "d6a4e155",
   "metadata": {
    "execution": {
     "iopub.execute_input": "2022-06-12T05:04:52.881292Z",
     "iopub.status.busy": "2022-06-12T05:04:52.880789Z",
     "iopub.status.idle": "2022-06-12T05:04:54.870230Z",
     "shell.execute_reply": "2022-06-12T05:04:54.870521Z"
    },
    "id": "d6a4e155",
    "papermill": {
     "duration": 2.001007,
     "end_time": "2022-06-12T05:04:54.870724",
     "exception": false,
     "start_time": "2022-06-12T05:04:52.869717",
     "status": "completed"
    },
    "tags": []
   },
   "outputs": [],
   "source": [
    "import ABC_train_test2\n",
    "import bostonDataset\n",
    "import network\n",
    "import dataset\n",
    "import sanityChecks\n",
    "import torch \n",
    "import scrapbook as sb\n",
    "from statistics import mean \n",
    "import catboost as ctb \n",
    "from sklearn.model_selection import train_test_split\n",
    "from sklearn.metrics import mean_squared_error,mean_absolute_error\n",
    "import numpy as np"
   ]
  },
  {
   "cell_type": "markdown",
   "id": "2fa5b0f7",
   "metadata": {
    "id": "2fa5b0f7",
    "papermill": {
     "duration": 0.006829,
     "end_time": "2022-06-12T05:04:54.885300",
     "exception": false,
     "start_time": "2022-06-12T05:04:54.878471",
     "status": "completed"
    },
    "tags": []
   },
   "source": [
    "## Parameters "
   ]
  },
  {
   "cell_type": "code",
   "execution_count": 3,
   "id": "783186fb",
   "metadata": {
    "execution": {
     "iopub.execute_input": "2022-06-12T05:04:54.901382Z",
     "iopub.status.busy": "2022-06-12T05:04:54.900913Z",
     "iopub.status.idle": "2022-06-12T05:04:54.902244Z",
     "shell.execute_reply": "2022-06-12T05:04:54.902484Z"
    },
    "id": "783186fb",
    "papermill": {
     "duration": 0.010457,
     "end_time": "2022-06-12T05:04:54.902595",
     "exception": false,
     "start_time": "2022-06-12T05:04:54.892138",
     "status": "completed"
    },
    "tags": [
     "parameters"
    ]
   },
   "outputs": [],
   "source": [
    "variance = 1\n",
    "bias = 1 "
   ]
  },
  {
   "cell_type": "code",
   "execution_count": 4,
   "id": "ea78629c",
   "metadata": {
    "execution": {
     "iopub.execute_input": "2022-06-12T05:04:54.919923Z",
     "iopub.status.busy": "2022-06-12T05:04:54.919316Z",
     "iopub.status.idle": "2022-06-12T05:04:54.920788Z",
     "shell.execute_reply": "2022-06-12T05:04:54.921038Z"
    },
    "papermill": {
     "duration": 0.011447,
     "end_time": "2022-06-12T05:04:54.921159",
     "exception": false,
     "start_time": "2022-06-12T05:04:54.909712",
     "status": "completed"
    },
    "tags": [
     "injected-parameters"
    ]
   },
   "outputs": [],
   "source": [
    "# Parameters\n",
    "variance = 0.1\n",
    "bias = 0.1\n"
   ]
  },
  {
   "cell_type": "markdown",
   "id": "391cdbfd",
   "metadata": {
    "id": "391cdbfd",
    "papermill": {
     "duration": 0.006889,
     "end_time": "2022-06-12T05:04:54.935193",
     "exception": false,
     "start_time": "2022-06-12T05:04:54.928304",
     "status": "completed"
    },
    "tags": []
   },
   "source": [
    "## Dataset \n"
   ]
  },
  {
   "cell_type": "code",
   "execution_count": 5,
   "id": "5b51f161",
   "metadata": {
    "execution": {
     "iopub.execute_input": "2022-06-12T05:04:54.951151Z",
     "iopub.status.busy": "2022-06-12T05:04:54.950779Z",
     "iopub.status.idle": "2022-06-12T05:04:54.952046Z",
     "shell.execute_reply": "2022-06-12T05:04:54.952288Z"
    },
    "id": "5b51f161",
    "papermill": {
     "duration": 0.010249,
     "end_time": "2022-06-12T05:04:54.952395",
     "exception": false,
     "start_time": "2022-06-12T05:04:54.942146",
     "status": "completed"
    },
    "tags": []
   },
   "outputs": [],
   "source": [
    "#Parameters \n",
    "n_features = 13\n",
    "n_samples= 506\n",
    "n_target = 1 "
   ]
  },
  {
   "cell_type": "code",
   "execution_count": 6,
   "id": "5d6eced4",
   "metadata": {
    "execution": {
     "iopub.execute_input": "2022-06-12T05:04:54.968302Z",
     "iopub.status.busy": "2022-06-12T05:04:54.967900Z",
     "iopub.status.idle": "2022-06-12T05:04:54.980450Z",
     "shell.execute_reply": "2022-06-12T05:04:54.980701Z"
    },
    "id": "5d6eced4",
    "papermill": {
     "duration": 0.021425,
     "end_time": "2022-06-12T05:04:54.980820",
     "exception": false,
     "start_time": "2022-06-12T05:04:54.959395",
     "status": "completed"
    },
    "tags": []
   },
   "outputs": [
    {
     "name": "stdout",
     "output_type": "stream",
     "text": [
      "         X1        X2        X3        X4        X5        X6        X7  \\\n",
      "0 -0.419782  0.284830 -1.287909 -0.272599 -0.144217  0.413672 -0.120013   \n",
      "1 -0.417339 -0.487722 -0.593381 -0.272599 -0.740262  0.194274  0.367166   \n",
      "2 -0.417342 -0.487722 -0.593381 -0.272599 -0.740262  1.282714 -0.265812   \n",
      "3 -0.416750 -0.487722 -1.306878 -0.272599 -0.835284  1.016303 -0.809889   \n",
      "4 -0.412482 -0.487722 -1.306878 -0.272599 -0.835284  1.228577 -0.511180   \n",
      "\n",
      "         X8        X9       X10       X11       X12       X13         Y  \n",
      "0  0.140214 -0.982843 -0.666608 -1.459000  0.441052 -1.075562  0.159686  \n",
      "1  0.557160 -0.867883 -0.987329 -0.303094  0.441052 -0.492439 -0.101524  \n",
      "2  0.557160 -0.867883 -0.987329 -0.303094  0.396427 -1.208727  1.324247  \n",
      "3  1.077737 -0.752922 -1.106115  0.113032  0.416163 -1.361517  1.182758  \n",
      "4  1.077737 -0.752922 -1.106115  0.113032  0.441052 -1.026501  1.487503  \n"
     ]
    }
   ],
   "source": [
    "X,Y = bostonDataset.boston_data()"
   ]
  },
  {
   "cell_type": "code",
   "execution_count": 7,
   "id": "fe007438",
   "metadata": {
    "execution": {
     "iopub.execute_input": "2022-06-12T05:04:54.999077Z",
     "iopub.status.busy": "2022-06-12T05:04:54.998639Z",
     "iopub.status.idle": "2022-06-12T05:04:54.999853Z",
     "shell.execute_reply": "2022-06-12T05:04:55.000100Z"
    },
    "id": "fe007438",
    "papermill": {
     "duration": 0.011658,
     "end_time": "2022-06-12T05:04:55.000214",
     "exception": false,
     "start_time": "2022-06-12T05:04:54.988556",
     "status": "completed"
    },
    "tags": []
   },
   "outputs": [],
   "source": [
    "#Train test split for dataset \n",
    "X_train,X_test,Y_train,Y_test = train_test_split(X,Y,test_size = 0.2)\n",
    "train_data = dataset.CustomDataset(X_train,Y_train)\n",
    "test_data = dataset.CustomDataset(X_test,Y_test)\n"
   ]
  },
  {
   "cell_type": "markdown",
   "id": "a9a1af34",
   "metadata": {
    "id": "a9a1af34",
    "papermill": {
     "duration": 0.007138,
     "end_time": "2022-06-12T05:04:55.014867",
     "exception": false,
     "start_time": "2022-06-12T05:04:55.007729",
     "status": "completed"
    },
    "tags": []
   },
   "source": [
    "## Training Parameters "
   ]
  },
  {
   "cell_type": "code",
   "execution_count": 8,
   "id": "952b7fc8",
   "metadata": {
    "execution": {
     "iopub.execute_input": "2022-06-12T05:04:55.032042Z",
     "iopub.status.busy": "2022-06-12T05:04:55.031670Z",
     "iopub.status.idle": "2022-06-12T05:04:55.032986Z",
     "shell.execute_reply": "2022-06-12T05:04:55.033278Z"
    },
    "id": "952b7fc8",
    "papermill": {
     "duration": 0.011431,
     "end_time": "2022-06-12T05:04:55.033395",
     "exception": false,
     "start_time": "2022-06-12T05:04:55.021964",
     "status": "completed"
    },
    "tags": []
   },
   "outputs": [],
   "source": [
    "batch_size = 32\n",
    "n_epochs = 1000\n",
    "#Select the device \n",
    "device = torch.device('cuda' if torch.cuda.is_available() else 'cpu')"
   ]
  },
  {
   "cell_type": "markdown",
   "id": "a95e1600",
   "metadata": {
    "id": "a95e1600",
    "papermill": {
     "duration": 0.007239,
     "end_time": "2022-06-12T05:04:55.048398",
     "exception": false,
     "start_time": "2022-06-12T05:04:55.041159",
     "status": "completed"
    },
    "tags": []
   },
   "source": [
    "# ABC Pre-generator Model \n",
    "\n",
    "1. The catboost model is used as a pre-generator model for the ABC-GAN. \n",
    "2. The model is first trained on the entire dataset \n",
    "3. It generats X,Y pairs and we add some Gaussian noise with mean 0 and variance 1 to it which is then feed as input to the generator.\n"
   ]
  },
  {
   "cell_type": "code",
   "execution_count": 9,
   "id": "ff8ce7bd",
   "metadata": {
    "execution": {
     "iopub.execute_input": "2022-06-12T05:04:55.068108Z",
     "iopub.status.busy": "2022-06-12T05:04:55.067662Z",
     "iopub.status.idle": "2022-06-12T05:04:56.338154Z",
     "shell.execute_reply": "2022-06-12T05:04:56.338483Z"
    },
    "id": "ff8ce7bd",
    "papermill": {
     "duration": 1.282919,
     "end_time": "2022-06-12T05:04:56.338616",
     "exception": false,
     "start_time": "2022-06-12T05:04:55.055697",
     "status": "completed"
    },
    "tags": []
   },
   "outputs": [
    {
     "name": "stdout",
     "output_type": "stream",
     "text": [
      "Learning rate set to 0.033215\n",
      "0:\tlearn: 0.9603901\ttotal: 58.4ms\tremaining: 58.4s\n",
      "1:\tlearn: 0.9426529\ttotal: 59.2ms\tremaining: 29.6s\n",
      "2:\tlearn: 0.9230918\ttotal: 60.1ms\tremaining: 20s\n",
      "3:\tlearn: 0.9060689\ttotal: 61ms\tremaining: 15.2s\n",
      "4:\tlearn: 0.8889497\ttotal: 61.8ms\tremaining: 12.3s\n",
      "5:\tlearn: 0.8737764\ttotal: 62.6ms\tremaining: 10.4s\n",
      "6:\tlearn: 0.8584427\ttotal: 63.7ms\tremaining: 9.03s\n",
      "7:\tlearn: 0.8433831\ttotal: 64.4ms\tremaining: 7.98s\n",
      "8:\tlearn: 0.8300343\ttotal: 65.6ms\tremaining: 7.22s\n",
      "9:\tlearn: 0.8126257\ttotal: 66.7ms\tremaining: 6.6s\n",
      "10:\tlearn: 0.7982019\ttotal: 67.8ms\tremaining: 6.09s\n",
      "11:\tlearn: 0.7834807\ttotal: 68.9ms\tremaining: 5.67s\n",
      "12:\tlearn: 0.7685766\ttotal: 70.2ms\tremaining: 5.33s\n",
      "13:\tlearn: 0.7539694\ttotal: 71.4ms\tremaining: 5.03s\n",
      "14:\tlearn: 0.7421302\ttotal: 72.6ms\tremaining: 4.77s\n",
      "15:\tlearn: 0.7292631\ttotal: 73.5ms\tremaining: 4.52s\n",
      "16:\tlearn: 0.7174310\ttotal: 74.4ms\tremaining: 4.3s\n",
      "17:\tlearn: 0.7068477\ttotal: 75.4ms\tremaining: 4.11s\n",
      "18:\tlearn: 0.6953500\ttotal: 76.2ms\tremaining: 3.94s\n",
      "19:\tlearn: 0.6828182\ttotal: 77.2ms\tremaining: 3.79s\n",
      "20:\tlearn: 0.6712281\ttotal: 78.1ms\tremaining: 3.64s\n",
      "21:\tlearn: 0.6603656\ttotal: 79.1ms\tremaining: 3.52s\n",
      "22:\tlearn: 0.6501308\ttotal: 80.7ms\tremaining: 3.43s\n",
      "23:\tlearn: 0.6405821\ttotal: 82.3ms\tremaining: 3.35s\n",
      "24:\tlearn: 0.6304113\ttotal: 83.9ms\tremaining: 3.27s\n",
      "25:\tlearn: 0.6222310\ttotal: 85ms\tremaining: 3.19s\n",
      "26:\tlearn: 0.6135614\ttotal: 86.1ms\tremaining: 3.1s\n",
      "27:\tlearn: 0.6042319\ttotal: 87.9ms\tremaining: 3.05s\n",
      "28:\tlearn: 0.5956215\ttotal: 89.2ms\tremaining: 2.99s\n",
      "29:\tlearn: 0.5862080\ttotal: 90ms\tremaining: 2.91s\n",
      "30:\tlearn: 0.5780137\ttotal: 90.6ms\tremaining: 2.83s\n",
      "31:\tlearn: 0.5701850\ttotal: 91.2ms\tremaining: 2.76s\n",
      "32:\tlearn: 0.5631555\ttotal: 91.8ms\tremaining: 2.69s\n",
      "33:\tlearn: 0.5555766\ttotal: 92.5ms\tremaining: 2.63s\n",
      "34:\tlearn: 0.5492229\ttotal: 93.1ms\tremaining: 2.57s\n",
      "35:\tlearn: 0.5413159\ttotal: 93.7ms\tremaining: 2.51s\n",
      "36:\tlearn: 0.5348717\ttotal: 94.7ms\tremaining: 2.46s\n",
      "37:\tlearn: 0.5284258\ttotal: 95.8ms\tremaining: 2.42s\n",
      "38:\tlearn: 0.5212682\ttotal: 96.9ms\tremaining: 2.39s\n",
      "39:\tlearn: 0.5142723\ttotal: 98.4ms\tremaining: 2.36s\n",
      "40:\tlearn: 0.5089210\ttotal: 99.2ms\tremaining: 2.32s\n",
      "41:\tlearn: 0.5023110\ttotal: 100ms\tremaining: 2.28s\n",
      "42:\tlearn: 0.4968239\ttotal: 101ms\tremaining: 2.25s\n",
      "43:\tlearn: 0.4926106\ttotal: 102ms\tremaining: 2.21s\n",
      "44:\tlearn: 0.4872302\ttotal: 103ms\tremaining: 2.18s\n",
      "45:\tlearn: 0.4821889\ttotal: 103ms\tremaining: 2.14s\n"
     ]
    },
    {
     "name": "stdout",
     "output_type": "stream",
     "text": [
      "46:\tlearn: 0.4771483\ttotal: 104ms\tremaining: 2.11s\n",
      "47:\tlearn: 0.4710802\ttotal: 105ms\tremaining: 2.08s\n",
      "48:\tlearn: 0.4669224\ttotal: 105ms\tremaining: 2.05s\n",
      "49:\tlearn: 0.4616505\ttotal: 106ms\tremaining: 2.02s\n",
      "50:\tlearn: 0.4556795\ttotal: 107ms\tremaining: 1.99s\n",
      "51:\tlearn: 0.4515282\ttotal: 108ms\tremaining: 1.97s\n",
      "52:\tlearn: 0.4462163\ttotal: 109ms\tremaining: 1.94s\n",
      "53:\tlearn: 0.4417223\ttotal: 110ms\tremaining: 1.92s\n",
      "54:\tlearn: 0.4382518\ttotal: 110ms\tremaining: 1.9s\n",
      "55:\tlearn: 0.4329268\ttotal: 112ms\tremaining: 1.88s\n",
      "56:\tlearn: 0.4291741\ttotal: 113ms\tremaining: 1.87s\n",
      "57:\tlearn: 0.4247941\ttotal: 114ms\tremaining: 1.85s\n",
      "58:\tlearn: 0.4205016\ttotal: 115ms\tremaining: 1.83s\n",
      "59:\tlearn: 0.4166236\ttotal: 116ms\tremaining: 1.82s\n",
      "60:\tlearn: 0.4132556\ttotal: 117ms\tremaining: 1.8s\n",
      "61:\tlearn: 0.4096146\ttotal: 118ms\tremaining: 1.78s\n",
      "62:\tlearn: 0.4054147\ttotal: 119ms\tremaining: 1.77s\n",
      "63:\tlearn: 0.4019788\ttotal: 120ms\tremaining: 1.75s\n",
      "64:\tlearn: 0.3983840\ttotal: 120ms\tremaining: 1.73s\n",
      "65:\tlearn: 0.3948946\ttotal: 121ms\tremaining: 1.71s\n",
      "66:\tlearn: 0.3903595\ttotal: 122ms\tremaining: 1.7s\n",
      "67:\tlearn: 0.3873558\ttotal: 123ms\tremaining: 1.68s\n",
      "68:\tlearn: 0.3847954\ttotal: 123ms\tremaining: 1.67s\n",
      "69:\tlearn: 0.3816387\ttotal: 124ms\tremaining: 1.65s\n",
      "70:\tlearn: 0.3780511\ttotal: 125ms\tremaining: 1.64s\n",
      "71:\tlearn: 0.3754548\ttotal: 127ms\tremaining: 1.63s\n",
      "72:\tlearn: 0.3722878\ttotal: 128ms\tremaining: 1.62s\n",
      "73:\tlearn: 0.3696530\ttotal: 129ms\tremaining: 1.61s\n",
      "74:\tlearn: 0.3662894\ttotal: 130ms\tremaining: 1.6s\n",
      "75:\tlearn: 0.3641311\ttotal: 130ms\tremaining: 1.58s\n",
      "76:\tlearn: 0.3604651\ttotal: 131ms\tremaining: 1.57s\n",
      "77:\tlearn: 0.3576287\ttotal: 132ms\tremaining: 1.56s\n",
      "78:\tlearn: 0.3549269\ttotal: 133ms\tremaining: 1.55s\n",
      "79:\tlearn: 0.3529399\ttotal: 134ms\tremaining: 1.54s\n",
      "80:\tlearn: 0.3501714\ttotal: 134ms\tremaining: 1.52s\n",
      "81:\tlearn: 0.3479687\ttotal: 135ms\tremaining: 1.51s\n",
      "82:\tlearn: 0.3457280\ttotal: 136ms\tremaining: 1.5s\n",
      "83:\tlearn: 0.3436510\ttotal: 137ms\tremaining: 1.5s\n",
      "84:\tlearn: 0.3413543\ttotal: 138ms\tremaining: 1.49s\n",
      "85:\tlearn: 0.3395437\ttotal: 139ms\tremaining: 1.48s\n",
      "86:\tlearn: 0.3375287\ttotal: 140ms\tremaining: 1.47s\n",
      "87:\tlearn: 0.3354408\ttotal: 140ms\tremaining: 1.46s\n",
      "88:\tlearn: 0.3335440\ttotal: 142ms\tremaining: 1.45s\n",
      "89:\tlearn: 0.3316350\ttotal: 143ms\tremaining: 1.45s\n",
      "90:\tlearn: 0.3293652\ttotal: 145ms\tremaining: 1.45s\n",
      "91:\tlearn: 0.3276006\ttotal: 146ms\tremaining: 1.44s\n",
      "92:\tlearn: 0.3256318\ttotal: 147ms\tremaining: 1.44s\n",
      "93:\tlearn: 0.3233111\ttotal: 148ms\tremaining: 1.43s\n",
      "94:\tlearn: 0.3220499\ttotal: 149ms\tremaining: 1.42s\n",
      "95:\tlearn: 0.3204194\ttotal: 150ms\tremaining: 1.41s\n",
      "96:\tlearn: 0.3190511\ttotal: 152ms\tremaining: 1.41s\n",
      "97:\tlearn: 0.3175758\ttotal: 153ms\tremaining: 1.41s\n",
      "98:\tlearn: 0.3161576\ttotal: 154ms\tremaining: 1.4s\n",
      "99:\tlearn: 0.3152175\ttotal: 155ms\tremaining: 1.4s\n",
      "100:\tlearn: 0.3137017\ttotal: 156ms\tremaining: 1.39s\n",
      "101:\tlearn: 0.3121985\ttotal: 158ms\tremaining: 1.39s\n",
      "102:\tlearn: 0.3107268\ttotal: 159ms\tremaining: 1.39s\n",
      "103:\tlearn: 0.3088845\ttotal: 160ms\tremaining: 1.38s\n",
      "104:\tlearn: 0.3067859\ttotal: 162ms\tremaining: 1.38s\n",
      "105:\tlearn: 0.3055026\ttotal: 163ms\tremaining: 1.37s\n",
      "106:\tlearn: 0.3039504\ttotal: 163ms\tremaining: 1.36s\n",
      "107:\tlearn: 0.3031077\ttotal: 164ms\tremaining: 1.36s\n",
      "108:\tlearn: 0.3023276\ttotal: 165ms\tremaining: 1.35s\n",
      "109:\tlearn: 0.3007050\ttotal: 166ms\tremaining: 1.34s\n",
      "110:\tlearn: 0.2995240\ttotal: 167ms\tremaining: 1.33s\n",
      "111:\tlearn: 0.2978378\ttotal: 167ms\tremaining: 1.32s\n",
      "112:\tlearn: 0.2967417\ttotal: 168ms\tremaining: 1.32s\n",
      "113:\tlearn: 0.2955957\ttotal: 169ms\tremaining: 1.31s\n",
      "114:\tlearn: 0.2944334\ttotal: 169ms\tremaining: 1.3s\n",
      "115:\tlearn: 0.2932514\ttotal: 170ms\tremaining: 1.29s\n",
      "116:\tlearn: 0.2918559\ttotal: 171ms\tremaining: 1.29s\n",
      "117:\tlearn: 0.2905462\ttotal: 172ms\tremaining: 1.28s\n",
      "118:\tlearn: 0.2891979\ttotal: 172ms\tremaining: 1.27s\n",
      "119:\tlearn: 0.2875220\ttotal: 174ms\tremaining: 1.27s\n",
      "120:\tlearn: 0.2863036\ttotal: 175ms\tremaining: 1.27s\n",
      "121:\tlearn: 0.2850227\ttotal: 175ms\tremaining: 1.26s\n",
      "122:\tlearn: 0.2841997\ttotal: 176ms\tremaining: 1.26s\n",
      "123:\tlearn: 0.2830262\ttotal: 177ms\tremaining: 1.25s\n",
      "124:\tlearn: 0.2816168\ttotal: 178ms\tremaining: 1.24s\n",
      "125:\tlearn: 0.2805086\ttotal: 178ms\tremaining: 1.24s\n",
      "126:\tlearn: 0.2789395\ttotal: 180ms\tremaining: 1.23s\n",
      "127:\tlearn: 0.2774992\ttotal: 182ms\tremaining: 1.24s\n",
      "128:\tlearn: 0.2766261\ttotal: 183ms\tremaining: 1.24s\n",
      "129:\tlearn: 0.2753301\ttotal: 184ms\tremaining: 1.23s\n",
      "130:\tlearn: 0.2741769\ttotal: 184ms\tremaining: 1.22s\n",
      "131:\tlearn: 0.2736820\ttotal: 185ms\tremaining: 1.22s\n",
      "132:\tlearn: 0.2727375\ttotal: 186ms\tremaining: 1.21s\n"
     ]
    },
    {
     "name": "stdout",
     "output_type": "stream",
     "text": [
      "133:\tlearn: 0.2716298\ttotal: 189ms\tremaining: 1.22s\n",
      "134:\tlearn: 0.2707397\ttotal: 191ms\tremaining: 1.23s\n",
      "135:\tlearn: 0.2699352\ttotal: 193ms\tremaining: 1.22s\n",
      "136:\tlearn: 0.2688976\ttotal: 194ms\tremaining: 1.22s\n",
      "137:\tlearn: 0.2678798\ttotal: 195ms\tremaining: 1.22s\n",
      "138:\tlearn: 0.2669975\ttotal: 196ms\tremaining: 1.22s\n",
      "139:\tlearn: 0.2663761\ttotal: 198ms\tremaining: 1.21s\n",
      "140:\tlearn: 0.2655629\ttotal: 199ms\tremaining: 1.21s\n",
      "141:\tlearn: 0.2649459\ttotal: 199ms\tremaining: 1.2s\n",
      "142:\tlearn: 0.2638278\ttotal: 200ms\tremaining: 1.2s\n",
      "143:\tlearn: 0.2633764\ttotal: 202ms\tremaining: 1.2s\n",
      "144:\tlearn: 0.2626698\ttotal: 204ms\tremaining: 1.21s\n",
      "145:\tlearn: 0.2619477\ttotal: 206ms\tremaining: 1.21s\n",
      "146:\tlearn: 0.2609629\ttotal: 207ms\tremaining: 1.2s\n",
      "147:\tlearn: 0.2599545\ttotal: 208ms\tremaining: 1.2s\n",
      "148:\tlearn: 0.2594750\ttotal: 209ms\tremaining: 1.2s\n",
      "149:\tlearn: 0.2585196\ttotal: 211ms\tremaining: 1.2s\n",
      "150:\tlearn: 0.2574053\ttotal: 213ms\tremaining: 1.2s\n",
      "151:\tlearn: 0.2566002\ttotal: 215ms\tremaining: 1.2s\n",
      "152:\tlearn: 0.2560025\ttotal: 216ms\tremaining: 1.2s\n",
      "153:\tlearn: 0.2553812\ttotal: 219ms\tremaining: 1.2s\n",
      "154:\tlearn: 0.2546795\ttotal: 220ms\tremaining: 1.2s\n",
      "155:\tlearn: 0.2537184\ttotal: 221ms\tremaining: 1.2s\n",
      "156:\tlearn: 0.2530827\ttotal: 223ms\tremaining: 1.19s\n",
      "157:\tlearn: 0.2523587\ttotal: 225ms\tremaining: 1.2s\n",
      "158:\tlearn: 0.2520450\ttotal: 227ms\tremaining: 1.2s\n",
      "159:\tlearn: 0.2515829\ttotal: 228ms\tremaining: 1.2s\n",
      "160:\tlearn: 0.2509005\ttotal: 229ms\tremaining: 1.19s\n",
      "161:\tlearn: 0.2501178\ttotal: 230ms\tremaining: 1.19s\n",
      "162:\tlearn: 0.2496507\ttotal: 231ms\tremaining: 1.19s\n",
      "163:\tlearn: 0.2494149\ttotal: 233ms\tremaining: 1.19s\n",
      "164:\tlearn: 0.2488707\ttotal: 234ms\tremaining: 1.19s\n",
      "165:\tlearn: 0.2483237\ttotal: 235ms\tremaining: 1.18s\n",
      "166:\tlearn: 0.2477957\ttotal: 236ms\tremaining: 1.18s\n",
      "167:\tlearn: 0.2470260\ttotal: 237ms\tremaining: 1.17s\n",
      "168:\tlearn: 0.2467379\ttotal: 237ms\tremaining: 1.17s\n",
      "169:\tlearn: 0.2459694\ttotal: 238ms\tremaining: 1.16s\n",
      "170:\tlearn: 0.2456787\ttotal: 239ms\tremaining: 1.16s\n",
      "171:\tlearn: 0.2449009\ttotal: 240ms\tremaining: 1.15s\n",
      "172:\tlearn: 0.2442456\ttotal: 240ms\tremaining: 1.15s\n",
      "173:\tlearn: 0.2435562\ttotal: 241ms\tremaining: 1.14s\n",
      "174:\tlearn: 0.2429475\ttotal: 242ms\tremaining: 1.14s\n",
      "175:\tlearn: 0.2424272\ttotal: 242ms\tremaining: 1.13s\n",
      "176:\tlearn: 0.2418318\ttotal: 243ms\tremaining: 1.13s\n",
      "177:\tlearn: 0.2409603\ttotal: 244ms\tremaining: 1.13s\n",
      "178:\tlearn: 0.2405705\ttotal: 244ms\tremaining: 1.12s\n",
      "179:\tlearn: 0.2401761\ttotal: 245ms\tremaining: 1.12s\n",
      "180:\tlearn: 0.2398114\ttotal: 246ms\tremaining: 1.11s\n",
      "181:\tlearn: 0.2394358\ttotal: 247ms\tremaining: 1.11s\n",
      "182:\tlearn: 0.2387676\ttotal: 248ms\tremaining: 1.1s\n",
      "183:\tlearn: 0.2383459\ttotal: 248ms\tremaining: 1.1s\n",
      "184:\tlearn: 0.2373522\ttotal: 249ms\tremaining: 1.1s\n",
      "185:\tlearn: 0.2364679\ttotal: 250ms\tremaining: 1.09s\n",
      "186:\tlearn: 0.2356266\ttotal: 251ms\tremaining: 1.09s\n",
      "187:\tlearn: 0.2351100\ttotal: 252ms\tremaining: 1.09s\n",
      "188:\tlearn: 0.2345303\ttotal: 252ms\tremaining: 1.08s\n",
      "189:\tlearn: 0.2335379\ttotal: 253ms\tremaining: 1.08s\n",
      "190:\tlearn: 0.2329499\ttotal: 254ms\tremaining: 1.07s\n",
      "191:\tlearn: 0.2323476\ttotal: 255ms\tremaining: 1.07s\n",
      "192:\tlearn: 0.2318182\ttotal: 255ms\tremaining: 1.07s\n",
      "193:\tlearn: 0.2312718\ttotal: 256ms\tremaining: 1.06s\n",
      "194:\tlearn: 0.2308107\ttotal: 257ms\tremaining: 1.06s\n",
      "195:\tlearn: 0.2304994\ttotal: 257ms\tremaining: 1.05s\n",
      "196:\tlearn: 0.2301390\ttotal: 259ms\tremaining: 1.05s\n",
      "197:\tlearn: 0.2296211\ttotal: 260ms\tremaining: 1.05s\n",
      "198:\tlearn: 0.2290456\ttotal: 261ms\tremaining: 1.05s\n",
      "199:\tlearn: 0.2284870\ttotal: 261ms\tremaining: 1.04s\n",
      "200:\tlearn: 0.2281567\ttotal: 262ms\tremaining: 1.04s\n",
      "201:\tlearn: 0.2274988\ttotal: 263ms\tremaining: 1.04s\n",
      "202:\tlearn: 0.2269196\ttotal: 264ms\tremaining: 1.03s\n",
      "203:\tlearn: 0.2262886\ttotal: 264ms\tremaining: 1.03s\n",
      "204:\tlearn: 0.2261295\ttotal: 265ms\tremaining: 1.03s\n",
      "205:\tlearn: 0.2257590\ttotal: 266ms\tremaining: 1.02s\n",
      "206:\tlearn: 0.2252252\ttotal: 266ms\tremaining: 1.02s\n",
      "207:\tlearn: 0.2247736\ttotal: 267ms\tremaining: 1.02s\n",
      "208:\tlearn: 0.2241882\ttotal: 268ms\tremaining: 1.01s\n",
      "209:\tlearn: 0.2236045\ttotal: 269ms\tremaining: 1.01s\n",
      "210:\tlearn: 0.2230298\ttotal: 269ms\tremaining: 1.01s\n",
      "211:\tlearn: 0.2228078\ttotal: 270ms\tremaining: 1s\n",
      "212:\tlearn: 0.2224511\ttotal: 271ms\tremaining: 1s\n",
      "213:\tlearn: 0.2221918\ttotal: 272ms\tremaining: 998ms\n"
     ]
    },
    {
     "name": "stdout",
     "output_type": "stream",
     "text": [
      "214:\tlearn: 0.2217548\ttotal: 273ms\tremaining: 996ms\n",
      "215:\tlearn: 0.2209039\ttotal: 274ms\tremaining: 995ms\n",
      "216:\tlearn: 0.2204475\ttotal: 275ms\tremaining: 992ms\n",
      "217:\tlearn: 0.2199937\ttotal: 276ms\tremaining: 989ms\n",
      "218:\tlearn: 0.2195681\ttotal: 276ms\tremaining: 986ms\n",
      "219:\tlearn: 0.2189701\ttotal: 277ms\tremaining: 982ms\n",
      "220:\tlearn: 0.2183548\ttotal: 278ms\tremaining: 980ms\n",
      "221:\tlearn: 0.2179600\ttotal: 279ms\tremaining: 978ms\n",
      "222:\tlearn: 0.2176562\ttotal: 280ms\tremaining: 975ms\n",
      "223:\tlearn: 0.2174177\ttotal: 281ms\tremaining: 972ms\n",
      "224:\tlearn: 0.2169998\ttotal: 282ms\tremaining: 971ms\n",
      "225:\tlearn: 0.2168463\ttotal: 283ms\tremaining: 969ms\n",
      "226:\tlearn: 0.2164631\ttotal: 284ms\tremaining: 967ms\n",
      "227:\tlearn: 0.2157808\ttotal: 285ms\tremaining: 964ms\n",
      "228:\tlearn: 0.2153285\ttotal: 286ms\tremaining: 961ms\n",
      "229:\tlearn: 0.2148570\ttotal: 286ms\tremaining: 959ms\n",
      "230:\tlearn: 0.2147148\ttotal: 287ms\tremaining: 956ms\n",
      "231:\tlearn: 0.2142769\ttotal: 288ms\tremaining: 954ms\n",
      "232:\tlearn: 0.2140910\ttotal: 289ms\tremaining: 952ms\n",
      "233:\tlearn: 0.2138675\ttotal: 290ms\tremaining: 949ms\n",
      "234:\tlearn: 0.2134697\ttotal: 291ms\tremaining: 947ms\n",
      "235:\tlearn: 0.2129480\ttotal: 292ms\tremaining: 944ms\n",
      "236:\tlearn: 0.2127259\ttotal: 292ms\tremaining: 941ms\n",
      "237:\tlearn: 0.2123028\ttotal: 293ms\tremaining: 939ms\n",
      "238:\tlearn: 0.2119238\ttotal: 294ms\tremaining: 937ms\n",
      "239:\tlearn: 0.2117058\ttotal: 296ms\tremaining: 937ms\n",
      "240:\tlearn: 0.2110750\ttotal: 297ms\tremaining: 935ms\n",
      "241:\tlearn: 0.2105408\ttotal: 298ms\tremaining: 933ms\n",
      "242:\tlearn: 0.2102090\ttotal: 299ms\tremaining: 930ms\n",
      "243:\tlearn: 0.2096223\ttotal: 299ms\tremaining: 928ms\n",
      "244:\tlearn: 0.2090209\ttotal: 300ms\tremaining: 925ms\n",
      "245:\tlearn: 0.2086823\ttotal: 301ms\tremaining: 923ms\n",
      "246:\tlearn: 0.2081122\ttotal: 302ms\tremaining: 921ms\n",
      "247:\tlearn: 0.2076089\ttotal: 303ms\tremaining: 919ms\n",
      "248:\tlearn: 0.2070641\ttotal: 304ms\tremaining: 916ms\n",
      "249:\tlearn: 0.2066861\ttotal: 305ms\tremaining: 914ms\n",
      "250:\tlearn: 0.2065096\ttotal: 305ms\tremaining: 911ms\n",
      "251:\tlearn: 0.2060126\ttotal: 306ms\tremaining: 909ms\n",
      "252:\tlearn: 0.2053703\ttotal: 307ms\tremaining: 907ms\n",
      "253:\tlearn: 0.2048880\ttotal: 308ms\tremaining: 905ms\n",
      "254:\tlearn: 0.2043676\ttotal: 309ms\tremaining: 902ms\n",
      "255:\tlearn: 0.2041453\ttotal: 311ms\tremaining: 903ms\n",
      "256:\tlearn: 0.2038554\ttotal: 312ms\tremaining: 901ms\n",
      "257:\tlearn: 0.2034164\ttotal: 312ms\tremaining: 898ms\n",
      "258:\tlearn: 0.2030623\ttotal: 314ms\tremaining: 897ms\n",
      "259:\tlearn: 0.2025782\ttotal: 314ms\tremaining: 895ms\n",
      "260:\tlearn: 0.2024418\ttotal: 315ms\tremaining: 893ms\n",
      "261:\tlearn: 0.2019524\ttotal: 316ms\tremaining: 890ms\n",
      "262:\tlearn: 0.2017393\ttotal: 317ms\tremaining: 888ms\n",
      "263:\tlearn: 0.2015325\ttotal: 318ms\tremaining: 886ms\n",
      "264:\tlearn: 0.2011771\ttotal: 319ms\tremaining: 883ms\n",
      "265:\tlearn: 0.2010305\ttotal: 319ms\tremaining: 881ms\n",
      "266:\tlearn: 0.2004891\ttotal: 320ms\tremaining: 879ms\n",
      "267:\tlearn: 0.1997563\ttotal: 321ms\tremaining: 876ms\n",
      "268:\tlearn: 0.1992071\ttotal: 322ms\tremaining: 874ms\n",
      "269:\tlearn: 0.1987619\ttotal: 323ms\tremaining: 872ms\n",
      "270:\tlearn: 0.1982386\ttotal: 323ms\tremaining: 870ms\n",
      "271:\tlearn: 0.1977879\ttotal: 324ms\tremaining: 868ms\n",
      "272:\tlearn: 0.1973262\ttotal: 326ms\tremaining: 867ms\n",
      "273:\tlearn: 0.1971528\ttotal: 327ms\tremaining: 867ms\n",
      "274:\tlearn: 0.1970126\ttotal: 331ms\tremaining: 871ms\n",
      "275:\tlearn: 0.1962270\ttotal: 332ms\tremaining: 871ms\n",
      "276:\tlearn: 0.1957491\ttotal: 333ms\tremaining: 870ms\n",
      "277:\tlearn: 0.1956585\ttotal: 336ms\tremaining: 872ms\n",
      "278:\tlearn: 0.1952232\ttotal: 338ms\tremaining: 873ms\n",
      "279:\tlearn: 0.1946327\ttotal: 339ms\tremaining: 870ms\n",
      "280:\tlearn: 0.1942859\ttotal: 340ms\tremaining: 869ms\n",
      "281:\tlearn: 0.1935616\ttotal: 341ms\tremaining: 867ms\n",
      "282:\tlearn: 0.1930716\ttotal: 349ms\tremaining: 883ms\n",
      "283:\tlearn: 0.1926486\ttotal: 350ms\tremaining: 883ms\n",
      "284:\tlearn: 0.1921939\ttotal: 351ms\tremaining: 882ms\n",
      "285:\tlearn: 0.1918305\ttotal: 352ms\tremaining: 880ms\n",
      "286:\tlearn: 0.1916464\ttotal: 353ms\tremaining: 878ms\n"
     ]
    },
    {
     "name": "stdout",
     "output_type": "stream",
     "text": [
      "287:\tlearn: 0.1910993\ttotal: 356ms\tremaining: 881ms\n",
      "288:\tlearn: 0.1903530\ttotal: 361ms\tremaining: 888ms\n",
      "289:\tlearn: 0.1900778\ttotal: 363ms\tremaining: 890ms\n",
      "290:\tlearn: 0.1896104\ttotal: 365ms\tremaining: 889ms\n",
      "291:\tlearn: 0.1892371\ttotal: 366ms\tremaining: 887ms\n",
      "292:\tlearn: 0.1886201\ttotal: 373ms\tremaining: 900ms\n",
      "293:\tlearn: 0.1882389\ttotal: 375ms\tremaining: 902ms\n",
      "294:\tlearn: 0.1878132\ttotal: 377ms\tremaining: 901ms\n",
      "295:\tlearn: 0.1876470\ttotal: 380ms\tremaining: 904ms\n",
      "296:\tlearn: 0.1873169\ttotal: 386ms\tremaining: 914ms\n",
      "297:\tlearn: 0.1870276\ttotal: 389ms\tremaining: 917ms\n",
      "298:\tlearn: 0.1865730\ttotal: 392ms\tremaining: 918ms\n",
      "299:\tlearn: 0.1864026\ttotal: 400ms\tremaining: 933ms\n",
      "300:\tlearn: 0.1859992\ttotal: 403ms\tremaining: 936ms\n",
      "301:\tlearn: 0.1856874\ttotal: 404ms\tremaining: 934ms\n",
      "302:\tlearn: 0.1854626\ttotal: 405ms\tremaining: 932ms\n",
      "303:\tlearn: 0.1849626\ttotal: 408ms\tremaining: 935ms\n",
      "304:\tlearn: 0.1846608\ttotal: 410ms\tremaining: 934ms\n",
      "305:\tlearn: 0.1843791\ttotal: 411ms\tremaining: 932ms\n",
      "306:\tlearn: 0.1837990\ttotal: 413ms\tremaining: 932ms\n",
      "307:\tlearn: 0.1834917\ttotal: 416ms\tremaining: 934ms\n",
      "308:\tlearn: 0.1833262\ttotal: 420ms\tremaining: 939ms\n",
      "309:\tlearn: 0.1828675\ttotal: 429ms\tremaining: 954ms\n",
      "310:\tlearn: 0.1827432\ttotal: 433ms\tremaining: 959ms\n",
      "311:\tlearn: 0.1825959\ttotal: 434ms\tremaining: 958ms\n",
      "312:\tlearn: 0.1821227\ttotal: 437ms\tremaining: 959ms\n",
      "313:\tlearn: 0.1820255\ttotal: 438ms\tremaining: 957ms\n",
      "314:\tlearn: 0.1816098\ttotal: 442ms\tremaining: 962ms\n",
      "315:\tlearn: 0.1811601\ttotal: 444ms\tremaining: 960ms\n",
      "316:\tlearn: 0.1808789\ttotal: 445ms\tremaining: 958ms\n",
      "317:\tlearn: 0.1804139\ttotal: 446ms\tremaining: 956ms\n",
      "318:\tlearn: 0.1798742\ttotal: 446ms\tremaining: 953ms\n",
      "319:\tlearn: 0.1795850\ttotal: 447ms\tremaining: 950ms\n",
      "320:\tlearn: 0.1792181\ttotal: 448ms\tremaining: 947ms\n",
      "321:\tlearn: 0.1789542\ttotal: 449ms\tremaining: 945ms\n",
      "322:\tlearn: 0.1787466\ttotal: 449ms\tremaining: 942ms\n",
      "323:\tlearn: 0.1783777\ttotal: 450ms\tremaining: 939ms\n",
      "324:\tlearn: 0.1778034\ttotal: 451ms\tremaining: 937ms\n"
     ]
    },
    {
     "name": "stdout",
     "output_type": "stream",
     "text": [
      "325:\tlearn: 0.1773163\ttotal: 452ms\tremaining: 935ms\n",
      "326:\tlearn: 0.1768993\ttotal: 453ms\tremaining: 932ms\n",
      "327:\tlearn: 0.1766453\ttotal: 454ms\tremaining: 929ms\n",
      "328:\tlearn: 0.1760908\ttotal: 454ms\tremaining: 927ms\n",
      "329:\tlearn: 0.1759680\ttotal: 455ms\tremaining: 924ms\n",
      "330:\tlearn: 0.1755657\ttotal: 456ms\tremaining: 922ms\n",
      "331:\tlearn: 0.1751204\ttotal: 458ms\tremaining: 921ms\n",
      "332:\tlearn: 0.1746592\ttotal: 459ms\tremaining: 920ms\n",
      "333:\tlearn: 0.1742196\ttotal: 460ms\tremaining: 918ms\n",
      "334:\tlearn: 0.1738105\ttotal: 461ms\tremaining: 916ms\n",
      "335:\tlearn: 0.1734464\ttotal: 462ms\tremaining: 914ms\n",
      "336:\tlearn: 0.1731629\ttotal: 463ms\tremaining: 912ms\n",
      "337:\tlearn: 0.1726684\ttotal: 464ms\tremaining: 910ms\n",
      "338:\tlearn: 0.1724264\ttotal: 465ms\tremaining: 907ms\n",
      "339:\tlearn: 0.1718542\ttotal: 466ms\tremaining: 905ms\n",
      "340:\tlearn: 0.1714893\ttotal: 467ms\tremaining: 903ms\n",
      "341:\tlearn: 0.1710862\ttotal: 468ms\tremaining: 901ms\n",
      "342:\tlearn: 0.1707820\ttotal: 469ms\tremaining: 899ms\n",
      "343:\tlearn: 0.1705899\ttotal: 471ms\tremaining: 897ms\n",
      "344:\tlearn: 0.1704769\ttotal: 471ms\tremaining: 895ms\n",
      "345:\tlearn: 0.1700221\ttotal: 472ms\tremaining: 893ms\n",
      "346:\tlearn: 0.1699020\ttotal: 474ms\tremaining: 892ms\n",
      "347:\tlearn: 0.1695289\ttotal: 475ms\tremaining: 891ms\n",
      "348:\tlearn: 0.1690216\ttotal: 476ms\tremaining: 888ms\n",
      "349:\tlearn: 0.1686608\ttotal: 477ms\tremaining: 886ms\n",
      "350:\tlearn: 0.1683677\ttotal: 478ms\tremaining: 883ms\n",
      "351:\tlearn: 0.1679936\ttotal: 479ms\tremaining: 881ms\n",
      "352:\tlearn: 0.1675446\ttotal: 480ms\tremaining: 879ms\n",
      "353:\tlearn: 0.1671577\ttotal: 481ms\tremaining: 877ms\n",
      "354:\tlearn: 0.1667493\ttotal: 482ms\tremaining: 876ms\n",
      "355:\tlearn: 0.1663376\ttotal: 483ms\tremaining: 874ms\n",
      "356:\tlearn: 0.1660619\ttotal: 484ms\tremaining: 871ms\n",
      "357:\tlearn: 0.1655965\ttotal: 485ms\tremaining: 869ms\n",
      "358:\tlearn: 0.1655082\ttotal: 485ms\tremaining: 867ms\n",
      "359:\tlearn: 0.1653342\ttotal: 486ms\tremaining: 864ms\n",
      "360:\tlearn: 0.1649792\ttotal: 487ms\tremaining: 862ms\n",
      "361:\tlearn: 0.1645856\ttotal: 489ms\tremaining: 861ms\n",
      "362:\tlearn: 0.1641001\ttotal: 490ms\tremaining: 860ms\n",
      "363:\tlearn: 0.1636463\ttotal: 491ms\tremaining: 858ms\n",
      "364:\tlearn: 0.1632275\ttotal: 492ms\tremaining: 856ms\n",
      "365:\tlearn: 0.1629311\ttotal: 493ms\tremaining: 854ms\n",
      "366:\tlearn: 0.1628584\ttotal: 494ms\tremaining: 851ms\n",
      "367:\tlearn: 0.1626557\ttotal: 494ms\tremaining: 849ms\n",
      "368:\tlearn: 0.1622867\ttotal: 496ms\tremaining: 848ms\n",
      "369:\tlearn: 0.1620874\ttotal: 497ms\tremaining: 845ms\n",
      "370:\tlearn: 0.1618364\ttotal: 498ms\tremaining: 844ms\n",
      "371:\tlearn: 0.1613936\ttotal: 499ms\tremaining: 842ms\n",
      "372:\tlearn: 0.1609013\ttotal: 500ms\tremaining: 840ms\n",
      "373:\tlearn: 0.1606738\ttotal: 501ms\tremaining: 838ms\n",
      "374:\tlearn: 0.1604424\ttotal: 502ms\tremaining: 837ms\n",
      "375:\tlearn: 0.1599145\ttotal: 503ms\tremaining: 835ms\n",
      "376:\tlearn: 0.1596723\ttotal: 506ms\tremaining: 836ms\n",
      "377:\tlearn: 0.1594437\ttotal: 507ms\tremaining: 835ms\n",
      "378:\tlearn: 0.1590961\ttotal: 509ms\tremaining: 833ms\n",
      "379:\tlearn: 0.1587954\ttotal: 509ms\tremaining: 831ms\n",
      "380:\tlearn: 0.1584595\ttotal: 510ms\tremaining: 829ms\n",
      "381:\tlearn: 0.1580925\ttotal: 511ms\tremaining: 826ms\n",
      "382:\tlearn: 0.1577404\ttotal: 511ms\tremaining: 824ms\n",
      "383:\tlearn: 0.1575279\ttotal: 512ms\tremaining: 822ms\n",
      "384:\tlearn: 0.1571227\ttotal: 513ms\tremaining: 819ms\n",
      "385:\tlearn: 0.1566985\ttotal: 514ms\tremaining: 817ms\n",
      "386:\tlearn: 0.1565203\ttotal: 514ms\tremaining: 815ms\n",
      "387:\tlearn: 0.1559660\ttotal: 515ms\tremaining: 813ms\n",
      "388:\tlearn: 0.1557100\ttotal: 516ms\tremaining: 811ms\n",
      "389:\tlearn: 0.1553632\ttotal: 517ms\tremaining: 809ms\n",
      "390:\tlearn: 0.1550643\ttotal: 519ms\tremaining: 808ms\n",
      "391:\tlearn: 0.1546832\ttotal: 521ms\tremaining: 807ms\n",
      "392:\tlearn: 0.1543987\ttotal: 523ms\tremaining: 807ms\n",
      "393:\tlearn: 0.1540637\ttotal: 524ms\tremaining: 807ms\n",
      "394:\tlearn: 0.1537597\ttotal: 528ms\tremaining: 809ms\n",
      "395:\tlearn: 0.1534335\ttotal: 529ms\tremaining: 807ms\n",
      "396:\tlearn: 0.1529004\ttotal: 533ms\tremaining: 809ms\n",
      "397:\tlearn: 0.1526361\ttotal: 540ms\tremaining: 817ms\n"
     ]
    },
    {
     "name": "stdout",
     "output_type": "stream",
     "text": [
      "398:\tlearn: 0.1523712\ttotal: 544ms\tremaining: 820ms\n",
      "399:\tlearn: 0.1519601\ttotal: 548ms\tremaining: 822ms\n",
      "400:\tlearn: 0.1516811\ttotal: 551ms\tremaining: 822ms\n",
      "401:\tlearn: 0.1513062\ttotal: 554ms\tremaining: 824ms\n",
      "402:\tlearn: 0.1509695\ttotal: 557ms\tremaining: 825ms\n",
      "403:\tlearn: 0.1507282\ttotal: 559ms\tremaining: 824ms\n",
      "404:\tlearn: 0.1504569\ttotal: 560ms\tremaining: 823ms\n",
      "405:\tlearn: 0.1501814\ttotal: 561ms\tremaining: 821ms\n",
      "406:\tlearn: 0.1497139\ttotal: 563ms\tremaining: 820ms\n",
      "407:\tlearn: 0.1493981\ttotal: 564ms\tremaining: 819ms\n",
      "408:\tlearn: 0.1490416\ttotal: 568ms\tremaining: 820ms\n",
      "409:\tlearn: 0.1485958\ttotal: 569ms\tremaining: 819ms\n",
      "410:\tlearn: 0.1482675\ttotal: 570ms\tremaining: 817ms\n",
      "411:\tlearn: 0.1479839\ttotal: 572ms\tremaining: 816ms\n",
      "412:\tlearn: 0.1478198\ttotal: 574ms\tremaining: 816ms\n",
      "413:\tlearn: 0.1475658\ttotal: 576ms\tremaining: 815ms\n",
      "414:\tlearn: 0.1474561\ttotal: 577ms\tremaining: 813ms\n",
      "415:\tlearn: 0.1471469\ttotal: 578ms\tremaining: 812ms\n",
      "416:\tlearn: 0.1468782\ttotal: 579ms\tremaining: 810ms\n",
      "417:\tlearn: 0.1466584\ttotal: 580ms\tremaining: 808ms\n",
      "418:\tlearn: 0.1463407\ttotal: 581ms\tremaining: 806ms\n",
      "419:\tlearn: 0.1461179\ttotal: 583ms\tremaining: 804ms\n",
      "420:\tlearn: 0.1457378\ttotal: 584ms\tremaining: 803ms\n",
      "421:\tlearn: 0.1454254\ttotal: 585ms\tremaining: 801ms\n",
      "422:\tlearn: 0.1450741\ttotal: 585ms\tremaining: 798ms\n",
      "423:\tlearn: 0.1448200\ttotal: 586ms\tremaining: 796ms\n",
      "424:\tlearn: 0.1445334\ttotal: 587ms\tremaining: 794ms\n",
      "425:\tlearn: 0.1442466\ttotal: 587ms\tremaining: 791ms\n",
      "426:\tlearn: 0.1440209\ttotal: 588ms\tremaining: 789ms\n",
      "427:\tlearn: 0.1435890\ttotal: 589ms\tremaining: 788ms\n",
      "428:\tlearn: 0.1433031\ttotal: 591ms\tremaining: 786ms\n",
      "429:\tlearn: 0.1429257\ttotal: 592ms\tremaining: 784ms\n",
      "430:\tlearn: 0.1426366\ttotal: 594ms\tremaining: 784ms\n",
      "431:\tlearn: 0.1423470\ttotal: 596ms\tremaining: 784ms\n",
      "432:\tlearn: 0.1420375\ttotal: 598ms\tremaining: 783ms\n",
      "433:\tlearn: 0.1419701\ttotal: 599ms\tremaining: 781ms\n",
      "434:\tlearn: 0.1419129\ttotal: 600ms\tremaining: 779ms\n",
      "435:\tlearn: 0.1416613\ttotal: 601ms\tremaining: 778ms\n",
      "436:\tlearn: 0.1413733\ttotal: 603ms\tremaining: 777ms\n",
      "437:\tlearn: 0.1411118\ttotal: 604ms\tremaining: 775ms\n",
      "438:\tlearn: 0.1407556\ttotal: 605ms\tremaining: 773ms\n",
      "439:\tlearn: 0.1406245\ttotal: 606ms\tremaining: 771ms\n",
      "440:\tlearn: 0.1404904\ttotal: 608ms\tremaining: 771ms\n",
      "441:\tlearn: 0.1402704\ttotal: 610ms\tremaining: 770ms\n",
      "442:\tlearn: 0.1399310\ttotal: 611ms\tremaining: 768ms\n",
      "443:\tlearn: 0.1397018\ttotal: 612ms\tremaining: 766ms\n",
      "444:\tlearn: 0.1394437\ttotal: 626ms\tremaining: 780ms\n",
      "445:\tlearn: 0.1391575\ttotal: 629ms\tremaining: 781ms\n"
     ]
    },
    {
     "name": "stdout",
     "output_type": "stream",
     "text": [
      "446:\tlearn: 0.1388117\ttotal: 642ms\tremaining: 794ms\n",
      "447:\tlearn: 0.1384928\ttotal: 645ms\tremaining: 794ms\n",
      "448:\tlearn: 0.1383507\ttotal: 649ms\tremaining: 797ms\n",
      "449:\tlearn: 0.1380816\ttotal: 661ms\tremaining: 808ms\n",
      "450:\tlearn: 0.1377268\ttotal: 662ms\tremaining: 806ms\n",
      "451:\tlearn: 0.1373871\ttotal: 663ms\tremaining: 804ms\n",
      "452:\tlearn: 0.1371135\ttotal: 664ms\tremaining: 802ms\n",
      "453:\tlearn: 0.1369453\ttotal: 665ms\tremaining: 800ms\n",
      "454:\tlearn: 0.1365865\ttotal: 666ms\tremaining: 797ms\n",
      "455:\tlearn: 0.1362136\ttotal: 667ms\tremaining: 795ms\n",
      "456:\tlearn: 0.1359082\ttotal: 669ms\tremaining: 795ms\n",
      "457:\tlearn: 0.1354828\ttotal: 671ms\tremaining: 794ms\n",
      "458:\tlearn: 0.1352134\ttotal: 671ms\tremaining: 791ms\n",
      "459:\tlearn: 0.1349402\ttotal: 672ms\tremaining: 789ms\n",
      "460:\tlearn: 0.1348076\ttotal: 673ms\tremaining: 787ms\n",
      "461:\tlearn: 0.1344359\ttotal: 674ms\tremaining: 785ms\n",
      "462:\tlearn: 0.1343158\ttotal: 675ms\tremaining: 783ms\n",
      "463:\tlearn: 0.1339710\ttotal: 676ms\tremaining: 781ms\n",
      "464:\tlearn: 0.1337236\ttotal: 677ms\tremaining: 779ms\n",
      "465:\tlearn: 0.1334402\ttotal: 678ms\tremaining: 777ms\n",
      "466:\tlearn: 0.1333118\ttotal: 679ms\tremaining: 775ms\n",
      "467:\tlearn: 0.1330064\ttotal: 680ms\tremaining: 773ms\n",
      "468:\tlearn: 0.1327778\ttotal: 681ms\tremaining: 771ms\n",
      "469:\tlearn: 0.1324945\ttotal: 682ms\tremaining: 769ms\n",
      "470:\tlearn: 0.1320459\ttotal: 682ms\tremaining: 766ms\n",
      "471:\tlearn: 0.1318419\ttotal: 683ms\tremaining: 764ms\n",
      "472:\tlearn: 0.1315364\ttotal: 684ms\tremaining: 762ms\n",
      "473:\tlearn: 0.1312286\ttotal: 684ms\tremaining: 759ms\n",
      "474:\tlearn: 0.1309887\ttotal: 685ms\tremaining: 757ms\n",
      "475:\tlearn: 0.1307131\ttotal: 686ms\tremaining: 755ms\n",
      "476:\tlearn: 0.1305402\ttotal: 687ms\tremaining: 753ms\n",
      "477:\tlearn: 0.1302374\ttotal: 688ms\tremaining: 751ms\n",
      "478:\tlearn: 0.1298644\ttotal: 688ms\tremaining: 749ms\n",
      "479:\tlearn: 0.1296519\ttotal: 689ms\tremaining: 746ms\n",
      "480:\tlearn: 0.1293730\ttotal: 690ms\tremaining: 744ms\n",
      "481:\tlearn: 0.1290179\ttotal: 690ms\tremaining: 742ms\n",
      "482:\tlearn: 0.1289516\ttotal: 691ms\tremaining: 740ms\n",
      "483:\tlearn: 0.1286811\ttotal: 692ms\tremaining: 737ms\n",
      "484:\tlearn: 0.1286407\ttotal: 693ms\tremaining: 735ms\n",
      "485:\tlearn: 0.1284243\ttotal: 693ms\tremaining: 733ms\n",
      "486:\tlearn: 0.1281358\ttotal: 694ms\tremaining: 731ms\n",
      "487:\tlearn: 0.1279199\ttotal: 694ms\tremaining: 729ms\n",
      "488:\tlearn: 0.1278725\ttotal: 695ms\tremaining: 726ms\n",
      "489:\tlearn: 0.1276415\ttotal: 696ms\tremaining: 724ms\n",
      "490:\tlearn: 0.1272596\ttotal: 696ms\tremaining: 722ms\n",
      "491:\tlearn: 0.1269270\ttotal: 697ms\tremaining: 720ms\n",
      "492:\tlearn: 0.1266241\ttotal: 698ms\tremaining: 717ms\n",
      "493:\tlearn: 0.1264089\ttotal: 698ms\tremaining: 715ms\n",
      "494:\tlearn: 0.1261238\ttotal: 699ms\tremaining: 713ms\n",
      "495:\tlearn: 0.1259097\ttotal: 700ms\tremaining: 712ms\n",
      "496:\tlearn: 0.1255890\ttotal: 701ms\tremaining: 710ms\n",
      "497:\tlearn: 0.1252880\ttotal: 702ms\tremaining: 708ms\n",
      "498:\tlearn: 0.1251953\ttotal: 703ms\tremaining: 706ms\n",
      "499:\tlearn: 0.1249758\ttotal: 703ms\tremaining: 703ms\n",
      "500:\tlearn: 0.1247799\ttotal: 704ms\tremaining: 701ms\n",
      "501:\tlearn: 0.1245457\ttotal: 705ms\tremaining: 699ms\n",
      "502:\tlearn: 0.1242784\ttotal: 705ms\tremaining: 697ms\n",
      "503:\tlearn: 0.1239633\ttotal: 706ms\tremaining: 694ms\n",
      "504:\tlearn: 0.1239266\ttotal: 706ms\tremaining: 692ms\n",
      "505:\tlearn: 0.1237603\ttotal: 707ms\tremaining: 690ms\n",
      "506:\tlearn: 0.1234695\ttotal: 708ms\tremaining: 689ms\n",
      "507:\tlearn: 0.1232229\ttotal: 709ms\tremaining: 687ms\n",
      "508:\tlearn: 0.1231057\ttotal: 710ms\tremaining: 685ms\n",
      "509:\tlearn: 0.1230542\ttotal: 710ms\tremaining: 683ms\n",
      "510:\tlearn: 0.1227359\ttotal: 711ms\tremaining: 681ms\n",
      "511:\tlearn: 0.1224046\ttotal: 712ms\tremaining: 679ms\n",
      "512:\tlearn: 0.1221634\ttotal: 713ms\tremaining: 677ms\n",
      "513:\tlearn: 0.1221380\ttotal: 714ms\tremaining: 675ms\n",
      "514:\tlearn: 0.1218069\ttotal: 715ms\tremaining: 674ms\n",
      "515:\tlearn: 0.1217218\ttotal: 716ms\tremaining: 672ms\n",
      "516:\tlearn: 0.1214549\ttotal: 717ms\tremaining: 670ms\n",
      "517:\tlearn: 0.1213542\ttotal: 718ms\tremaining: 668ms\n",
      "518:\tlearn: 0.1212391\ttotal: 718ms\tremaining: 666ms\n",
      "519:\tlearn: 0.1209818\ttotal: 719ms\tremaining: 663ms\n",
      "520:\tlearn: 0.1206633\ttotal: 719ms\tremaining: 661ms\n",
      "521:\tlearn: 0.1204108\ttotal: 720ms\tremaining: 659ms\n",
      "522:\tlearn: 0.1201494\ttotal: 721ms\tremaining: 657ms\n",
      "523:\tlearn: 0.1200139\ttotal: 721ms\tremaining: 655ms\n",
      "524:\tlearn: 0.1198274\ttotal: 722ms\tremaining: 653ms\n",
      "525:\tlearn: 0.1195637\ttotal: 723ms\tremaining: 652ms\n",
      "526:\tlearn: 0.1194048\ttotal: 724ms\tremaining: 650ms\n",
      "527:\tlearn: 0.1192165\ttotal: 725ms\tremaining: 648ms\n",
      "528:\tlearn: 0.1188843\ttotal: 725ms\tremaining: 646ms\n",
      "529:\tlearn: 0.1185268\ttotal: 726ms\tremaining: 644ms\n",
      "530:\tlearn: 0.1183927\ttotal: 727ms\tremaining: 642ms\n",
      "531:\tlearn: 0.1181705\ttotal: 728ms\tremaining: 640ms\n"
     ]
    },
    {
     "name": "stdout",
     "output_type": "stream",
     "text": [
      "532:\tlearn: 0.1178989\ttotal: 729ms\tremaining: 639ms\n",
      "533:\tlearn: 0.1176035\ttotal: 730ms\tremaining: 637ms\n",
      "534:\tlearn: 0.1174717\ttotal: 731ms\tremaining: 635ms\n",
      "535:\tlearn: 0.1172058\ttotal: 732ms\tremaining: 634ms\n",
      "536:\tlearn: 0.1169678\ttotal: 733ms\tremaining: 632ms\n",
      "537:\tlearn: 0.1168882\ttotal: 734ms\tremaining: 630ms\n",
      "538:\tlearn: 0.1167096\ttotal: 735ms\tremaining: 629ms\n",
      "539:\tlearn: 0.1163818\ttotal: 736ms\tremaining: 627ms\n",
      "540:\tlearn: 0.1162954\ttotal: 737ms\tremaining: 625ms\n",
      "541:\tlearn: 0.1160469\ttotal: 738ms\tremaining: 624ms\n",
      "542:\tlearn: 0.1158130\ttotal: 739ms\tremaining: 622ms\n",
      "543:\tlearn: 0.1155814\ttotal: 740ms\tremaining: 620ms\n",
      "544:\tlearn: 0.1153887\ttotal: 741ms\tremaining: 618ms\n",
      "545:\tlearn: 0.1151922\ttotal: 742ms\tremaining: 617ms\n",
      "546:\tlearn: 0.1150302\ttotal: 742ms\tremaining: 615ms\n",
      "547:\tlearn: 0.1148232\ttotal: 743ms\tremaining: 613ms\n",
      "548:\tlearn: 0.1146485\ttotal: 744ms\tremaining: 611ms\n",
      "549:\tlearn: 0.1143652\ttotal: 745ms\tremaining: 609ms\n",
      "550:\tlearn: 0.1140922\ttotal: 746ms\tremaining: 608ms\n",
      "551:\tlearn: 0.1137533\ttotal: 747ms\tremaining: 606ms\n",
      "552:\tlearn: 0.1136310\ttotal: 748ms\tremaining: 605ms\n",
      "553:\tlearn: 0.1134493\ttotal: 749ms\tremaining: 603ms\n",
      "554:\tlearn: 0.1132305\ttotal: 750ms\tremaining: 602ms\n",
      "555:\tlearn: 0.1130762\ttotal: 751ms\tremaining: 600ms\n",
      "556:\tlearn: 0.1128990\ttotal: 752ms\tremaining: 598ms\n",
      "557:\tlearn: 0.1127389\ttotal: 752ms\tremaining: 596ms\n",
      "558:\tlearn: 0.1125219\ttotal: 753ms\tremaining: 594ms\n",
      "559:\tlearn: 0.1124873\ttotal: 753ms\tremaining: 592ms\n",
      "560:\tlearn: 0.1123205\ttotal: 754ms\tremaining: 590ms\n",
      "561:\tlearn: 0.1121001\ttotal: 755ms\tremaining: 588ms\n",
      "562:\tlearn: 0.1117798\ttotal: 756ms\tremaining: 586ms\n",
      "563:\tlearn: 0.1116233\ttotal: 756ms\tremaining: 585ms\n",
      "564:\tlearn: 0.1112870\ttotal: 757ms\tremaining: 583ms\n",
      "565:\tlearn: 0.1111275\ttotal: 758ms\tremaining: 581ms\n",
      "566:\tlearn: 0.1109743\ttotal: 759ms\tremaining: 579ms\n",
      "567:\tlearn: 0.1107041\ttotal: 759ms\tremaining: 577ms\n",
      "568:\tlearn: 0.1104810\ttotal: 760ms\tremaining: 576ms\n",
      "569:\tlearn: 0.1103415\ttotal: 761ms\tremaining: 574ms\n",
      "570:\tlearn: 0.1101008\ttotal: 761ms\tremaining: 572ms\n",
      "571:\tlearn: 0.1099140\ttotal: 762ms\tremaining: 570ms\n",
      "572:\tlearn: 0.1097294\ttotal: 763ms\tremaining: 568ms\n",
      "573:\tlearn: 0.1095675\ttotal: 764ms\tremaining: 567ms\n",
      "574:\tlearn: 0.1092914\ttotal: 765ms\tremaining: 565ms\n",
      "575:\tlearn: 0.1091893\ttotal: 766ms\tremaining: 564ms\n",
      "576:\tlearn: 0.1090120\ttotal: 767ms\tremaining: 562ms\n",
      "577:\tlearn: 0.1087783\ttotal: 767ms\tremaining: 560ms\n",
      "578:\tlearn: 0.1087645\ttotal: 768ms\tremaining: 558ms\n",
      "579:\tlearn: 0.1086840\ttotal: 769ms\tremaining: 557ms\n",
      "580:\tlearn: 0.1084034\ttotal: 769ms\tremaining: 555ms\n",
      "581:\tlearn: 0.1082084\ttotal: 770ms\tremaining: 553ms\n",
      "582:\tlearn: 0.1081782\ttotal: 771ms\tremaining: 551ms\n",
      "583:\tlearn: 0.1079172\ttotal: 771ms\tremaining: 549ms\n",
      "584:\tlearn: 0.1077691\ttotal: 772ms\tremaining: 548ms\n",
      "585:\tlearn: 0.1074932\ttotal: 773ms\tremaining: 546ms\n",
      "586:\tlearn: 0.1074603\ttotal: 773ms\tremaining: 544ms\n",
      "587:\tlearn: 0.1072614\ttotal: 774ms\tremaining: 542ms\n",
      "588:\tlearn: 0.1070476\ttotal: 774ms\tremaining: 540ms\n",
      "589:\tlearn: 0.1067790\ttotal: 775ms\tremaining: 539ms\n",
      "590:\tlearn: 0.1064714\ttotal: 776ms\tremaining: 537ms\n",
      "591:\tlearn: 0.1062485\ttotal: 776ms\tremaining: 535ms\n",
      "592:\tlearn: 0.1059208\ttotal: 777ms\tremaining: 533ms\n",
      "593:\tlearn: 0.1057874\ttotal: 778ms\tremaining: 532ms\n",
      "594:\tlearn: 0.1055847\ttotal: 779ms\tremaining: 530ms\n",
      "595:\tlearn: 0.1053587\ttotal: 780ms\tremaining: 529ms\n",
      "596:\tlearn: 0.1051543\ttotal: 781ms\tremaining: 527ms\n",
      "597:\tlearn: 0.1049078\ttotal: 782ms\tremaining: 525ms\n",
      "598:\tlearn: 0.1046521\ttotal: 782ms\tremaining: 524ms\n",
      "599:\tlearn: 0.1044744\ttotal: 783ms\tremaining: 522ms\n",
      "600:\tlearn: 0.1042145\ttotal: 784ms\tremaining: 520ms\n",
      "601:\tlearn: 0.1041091\ttotal: 784ms\tremaining: 519ms\n",
      "602:\tlearn: 0.1038784\ttotal: 785ms\tremaining: 517ms\n",
      "603:\tlearn: 0.1036878\ttotal: 786ms\tremaining: 515ms\n",
      "604:\tlearn: 0.1036716\ttotal: 787ms\tremaining: 514ms\n",
      "605:\tlearn: 0.1034650\ttotal: 788ms\tremaining: 512ms\n",
      "606:\tlearn: 0.1034088\ttotal: 789ms\tremaining: 511ms\n",
      "607:\tlearn: 0.1032365\ttotal: 789ms\tremaining: 509ms\n",
      "608:\tlearn: 0.1032227\ttotal: 790ms\tremaining: 507ms\n",
      "609:\tlearn: 0.1031263\ttotal: 791ms\tremaining: 506ms\n",
      "610:\tlearn: 0.1029674\ttotal: 792ms\tremaining: 504ms\n",
      "611:\tlearn: 0.1028268\ttotal: 793ms\tremaining: 503ms\n",
      "612:\tlearn: 0.1026341\ttotal: 795ms\tremaining: 502ms\n",
      "613:\tlearn: 0.1025043\ttotal: 796ms\tremaining: 500ms\n",
      "614:\tlearn: 0.1023369\ttotal: 796ms\tremaining: 499ms\n",
      "615:\tlearn: 0.1021341\ttotal: 797ms\tremaining: 497ms\n",
      "616:\tlearn: 0.1018720\ttotal: 798ms\tremaining: 495ms\n",
      "617:\tlearn: 0.1016388\ttotal: 799ms\tremaining: 494ms\n",
      "618:\tlearn: 0.1014112\ttotal: 800ms\tremaining: 493ms\n",
      "619:\tlearn: 0.1012359\ttotal: 801ms\tremaining: 491ms\n",
      "620:\tlearn: 0.1010654\ttotal: 802ms\tremaining: 489ms\n",
      "621:\tlearn: 0.1008784\ttotal: 803ms\tremaining: 488ms\n",
      "622:\tlearn: 0.1006705\ttotal: 804ms\tremaining: 486ms\n",
      "623:\tlearn: 0.1004992\ttotal: 804ms\tremaining: 485ms\n",
      "624:\tlearn: 0.1003634\ttotal: 805ms\tremaining: 483ms\n",
      "625:\tlearn: 0.1001486\ttotal: 806ms\tremaining: 482ms\n",
      "626:\tlearn: 0.0999761\ttotal: 807ms\tremaining: 480ms\n",
      "627:\tlearn: 0.0998322\ttotal: 808ms\tremaining: 479ms\n",
      "628:\tlearn: 0.0997890\ttotal: 809ms\tremaining: 477ms\n",
      "629:\tlearn: 0.0996910\ttotal: 810ms\tremaining: 476ms\n",
      "630:\tlearn: 0.0994854\ttotal: 811ms\tremaining: 474ms\n",
      "631:\tlearn: 0.0992682\ttotal: 812ms\tremaining: 473ms\n",
      "632:\tlearn: 0.0990638\ttotal: 813ms\tremaining: 471ms\n",
      "633:\tlearn: 0.0988544\ttotal: 814ms\tremaining: 470ms\n",
      "634:\tlearn: 0.0987158\ttotal: 815ms\tremaining: 468ms\n",
      "635:\tlearn: 0.0985063\ttotal: 815ms\tremaining: 467ms\n",
      "636:\tlearn: 0.0984698\ttotal: 816ms\tremaining: 465ms\n",
      "637:\tlearn: 0.0984527\ttotal: 817ms\tremaining: 464ms\n",
      "638:\tlearn: 0.0982984\ttotal: 819ms\tremaining: 463ms\n",
      "639:\tlearn: 0.0982520\ttotal: 820ms\tremaining: 461ms\n",
      "640:\tlearn: 0.0981214\ttotal: 820ms\tremaining: 459ms\n",
      "641:\tlearn: 0.0979616\ttotal: 821ms\tremaining: 458ms\n",
      "642:\tlearn: 0.0979430\ttotal: 822ms\tremaining: 456ms\n",
      "643:\tlearn: 0.0977162\ttotal: 823ms\tremaining: 455ms\n",
      "644:\tlearn: 0.0976221\ttotal: 824ms\tremaining: 453ms\n",
      "645:\tlearn: 0.0974474\ttotal: 824ms\tremaining: 452ms\n",
      "646:\tlearn: 0.0973054\ttotal: 825ms\tremaining: 450ms\n",
      "647:\tlearn: 0.0971655\ttotal: 826ms\tremaining: 449ms\n",
      "648:\tlearn: 0.0971273\ttotal: 827ms\tremaining: 447ms\n",
      "649:\tlearn: 0.0971167\ttotal: 828ms\tremaining: 446ms\n",
      "650:\tlearn: 0.0968239\ttotal: 829ms\tremaining: 444ms\n",
      "651:\tlearn: 0.0965944\ttotal: 829ms\tremaining: 443ms\n"
     ]
    },
    {
     "name": "stdout",
     "output_type": "stream",
     "text": [
      "652:\tlearn: 0.0965803\ttotal: 831ms\tremaining: 441ms\n",
      "653:\tlearn: 0.0965350\ttotal: 832ms\tremaining: 440ms\n",
      "654:\tlearn: 0.0964991\ttotal: 832ms\tremaining: 438ms\n",
      "655:\tlearn: 0.0964875\ttotal: 833ms\tremaining: 437ms\n",
      "656:\tlearn: 0.0962288\ttotal: 834ms\tremaining: 435ms\n",
      "657:\tlearn: 0.0960193\ttotal: 835ms\tremaining: 434ms\n",
      "658:\tlearn: 0.0959587\ttotal: 836ms\tremaining: 433ms\n",
      "659:\tlearn: 0.0957607\ttotal: 837ms\tremaining: 431ms\n",
      "660:\tlearn: 0.0955574\ttotal: 838ms\tremaining: 430ms\n",
      "661:\tlearn: 0.0955350\ttotal: 839ms\tremaining: 428ms\n",
      "662:\tlearn: 0.0953689\ttotal: 839ms\tremaining: 427ms\n",
      "663:\tlearn: 0.0952179\ttotal: 840ms\tremaining: 425ms\n",
      "664:\tlearn: 0.0951991\ttotal: 841ms\tremaining: 424ms\n",
      "665:\tlearn: 0.0951889\ttotal: 842ms\tremaining: 422ms\n",
      "666:\tlearn: 0.0950141\ttotal: 843ms\tremaining: 421ms\n",
      "667:\tlearn: 0.0948440\ttotal: 843ms\tremaining: 419ms\n",
      "668:\tlearn: 0.0947052\ttotal: 844ms\tremaining: 418ms\n",
      "669:\tlearn: 0.0944589\ttotal: 845ms\tremaining: 416ms\n",
      "670:\tlearn: 0.0943380\ttotal: 846ms\tremaining: 415ms\n",
      "671:\tlearn: 0.0941780\ttotal: 847ms\tremaining: 413ms\n",
      "672:\tlearn: 0.0941090\ttotal: 848ms\tremaining: 412ms\n",
      "673:\tlearn: 0.0939513\ttotal: 849ms\tremaining: 411ms\n",
      "674:\tlearn: 0.0937387\ttotal: 850ms\tremaining: 409ms\n",
      "675:\tlearn: 0.0936075\ttotal: 851ms\tremaining: 408ms\n",
      "676:\tlearn: 0.0934841\ttotal: 852ms\tremaining: 406ms\n",
      "677:\tlearn: 0.0932515\ttotal: 853ms\tremaining: 405ms\n",
      "678:\tlearn: 0.0930803\ttotal: 853ms\tremaining: 403ms\n",
      "679:\tlearn: 0.0928851\ttotal: 854ms\tremaining: 402ms\n",
      "680:\tlearn: 0.0927003\ttotal: 855ms\tremaining: 401ms\n",
      "681:\tlearn: 0.0925754\ttotal: 856ms\tremaining: 399ms\n",
      "682:\tlearn: 0.0923262\ttotal: 857ms\tremaining: 398ms\n",
      "683:\tlearn: 0.0923163\ttotal: 858ms\tremaining: 396ms\n",
      "684:\tlearn: 0.0921314\ttotal: 859ms\tremaining: 395ms\n",
      "685:\tlearn: 0.0921203\ttotal: 859ms\tremaining: 393ms\n",
      "686:\tlearn: 0.0920050\ttotal: 860ms\tremaining: 392ms\n",
      "687:\tlearn: 0.0917825\ttotal: 861ms\tremaining: 390ms\n",
      "688:\tlearn: 0.0916525\ttotal: 862ms\tremaining: 389ms\n",
      "689:\tlearn: 0.0916307\ttotal: 863ms\tremaining: 388ms\n",
      "690:\tlearn: 0.0915460\ttotal: 863ms\tremaining: 386ms\n",
      "691:\tlearn: 0.0914107\ttotal: 864ms\tremaining: 385ms\n",
      "692:\tlearn: 0.0913018\ttotal: 865ms\tremaining: 383ms\n",
      "693:\tlearn: 0.0911157\ttotal: 866ms\tremaining: 382ms\n",
      "694:\tlearn: 0.0910609\ttotal: 867ms\tremaining: 380ms\n",
      "695:\tlearn: 0.0909282\ttotal: 868ms\tremaining: 379ms\n",
      "696:\tlearn: 0.0907447\ttotal: 868ms\tremaining: 378ms\n",
      "697:\tlearn: 0.0905753\ttotal: 869ms\tremaining: 376ms\n",
      "698:\tlearn: 0.0904395\ttotal: 870ms\tremaining: 375ms\n",
      "699:\tlearn: 0.0902845\ttotal: 871ms\tremaining: 373ms\n",
      "700:\tlearn: 0.0902155\ttotal: 872ms\tremaining: 372ms\n",
      "701:\tlearn: 0.0902023\ttotal: 873ms\tremaining: 370ms\n",
      "702:\tlearn: 0.0900210\ttotal: 873ms\tremaining: 369ms\n",
      "703:\tlearn: 0.0899235\ttotal: 874ms\tremaining: 368ms\n",
      "704:\tlearn: 0.0898190\ttotal: 875ms\tremaining: 366ms\n",
      "705:\tlearn: 0.0896513\ttotal: 876ms\tremaining: 365ms\n",
      "706:\tlearn: 0.0894895\ttotal: 877ms\tremaining: 363ms\n",
      "707:\tlearn: 0.0894109\ttotal: 878ms\tremaining: 362ms\n",
      "708:\tlearn: 0.0893269\ttotal: 878ms\tremaining: 361ms\n",
      "709:\tlearn: 0.0892164\ttotal: 879ms\tremaining: 359ms\n",
      "710:\tlearn: 0.0890665\ttotal: 880ms\tremaining: 358ms\n",
      "711:\tlearn: 0.0890462\ttotal: 881ms\tremaining: 356ms\n",
      "712:\tlearn: 0.0888884\ttotal: 882ms\tremaining: 355ms\n",
      "713:\tlearn: 0.0888099\ttotal: 883ms\tremaining: 354ms\n",
      "714:\tlearn: 0.0886661\ttotal: 884ms\tremaining: 352ms\n",
      "715:\tlearn: 0.0884919\ttotal: 885ms\tremaining: 351ms\n",
      "716:\tlearn: 0.0883809\ttotal: 886ms\tremaining: 350ms\n",
      "717:\tlearn: 0.0883162\ttotal: 887ms\tremaining: 348ms\n",
      "718:\tlearn: 0.0882869\ttotal: 888ms\tremaining: 347ms\n",
      "719:\tlearn: 0.0881459\ttotal: 889ms\tremaining: 346ms\n",
      "720:\tlearn: 0.0880251\ttotal: 890ms\tremaining: 344ms\n",
      "721:\tlearn: 0.0880166\ttotal: 890ms\tremaining: 343ms\n",
      "722:\tlearn: 0.0878519\ttotal: 891ms\tremaining: 341ms\n",
      "723:\tlearn: 0.0878394\ttotal: 892ms\tremaining: 340ms\n",
      "724:\tlearn: 0.0876925\ttotal: 893ms\tremaining: 339ms\n",
      "725:\tlearn: 0.0874658\ttotal: 894ms\tremaining: 337ms\n",
      "726:\tlearn: 0.0872392\ttotal: 895ms\tremaining: 336ms\n",
      "727:\tlearn: 0.0872201\ttotal: 896ms\tremaining: 335ms\n",
      "728:\tlearn: 0.0872120\ttotal: 896ms\tremaining: 333ms\n",
      "729:\tlearn: 0.0870819\ttotal: 897ms\tremaining: 332ms\n",
      "730:\tlearn: 0.0869264\ttotal: 898ms\tremaining: 330ms\n",
      "731:\tlearn: 0.0868387\ttotal: 899ms\tremaining: 329ms\n",
      "732:\tlearn: 0.0867543\ttotal: 900ms\tremaining: 328ms\n",
      "733:\tlearn: 0.0865675\ttotal: 901ms\tremaining: 327ms\n",
      "734:\tlearn: 0.0865010\ttotal: 902ms\tremaining: 325ms\n",
      "735:\tlearn: 0.0863586\ttotal: 903ms\tremaining: 324ms\n",
      "736:\tlearn: 0.0861747\ttotal: 904ms\tremaining: 323ms\n",
      "737:\tlearn: 0.0859771\ttotal: 905ms\tremaining: 321ms\n",
      "738:\tlearn: 0.0858333\ttotal: 906ms\tremaining: 320ms\n",
      "739:\tlearn: 0.0856821\ttotal: 907ms\tremaining: 319ms\n",
      "740:\tlearn: 0.0855849\ttotal: 907ms\tremaining: 317ms\n",
      "741:\tlearn: 0.0854172\ttotal: 908ms\tremaining: 316ms\n",
      "742:\tlearn: 0.0852715\ttotal: 909ms\tremaining: 314ms\n",
      "743:\tlearn: 0.0851579\ttotal: 910ms\tremaining: 313ms\n",
      "744:\tlearn: 0.0850595\ttotal: 911ms\tremaining: 312ms\n",
      "745:\tlearn: 0.0850540\ttotal: 912ms\tremaining: 310ms\n",
      "746:\tlearn: 0.0848955\ttotal: 912ms\tremaining: 309ms\n",
      "747:\tlearn: 0.0848844\ttotal: 913ms\tremaining: 308ms\n",
      "748:\tlearn: 0.0847461\ttotal: 914ms\tremaining: 306ms\n",
      "749:\tlearn: 0.0845564\ttotal: 915ms\tremaining: 305ms\n",
      "750:\tlearn: 0.0844641\ttotal: 916ms\tremaining: 304ms\n",
      "751:\tlearn: 0.0843002\ttotal: 917ms\tremaining: 302ms\n",
      "752:\tlearn: 0.0841615\ttotal: 917ms\tremaining: 301ms\n"
     ]
    },
    {
     "name": "stdout",
     "output_type": "stream",
     "text": [
      "753:\tlearn: 0.0839876\ttotal: 919ms\tremaining: 300ms\n",
      "754:\tlearn: 0.0838703\ttotal: 920ms\tremaining: 298ms\n",
      "755:\tlearn: 0.0838589\ttotal: 920ms\tremaining: 297ms\n",
      "756:\tlearn: 0.0837399\ttotal: 921ms\tremaining: 296ms\n",
      "757:\tlearn: 0.0835352\ttotal: 922ms\tremaining: 295ms\n",
      "758:\tlearn: 0.0834473\ttotal: 923ms\tremaining: 293ms\n",
      "759:\tlearn: 0.0833297\ttotal: 924ms\tremaining: 292ms\n",
      "760:\tlearn: 0.0832952\ttotal: 925ms\tremaining: 290ms\n",
      "761:\tlearn: 0.0832560\ttotal: 926ms\tremaining: 289ms\n",
      "762:\tlearn: 0.0831465\ttotal: 927ms\tremaining: 288ms\n",
      "763:\tlearn: 0.0829615\ttotal: 927ms\tremaining: 286ms\n",
      "764:\tlearn: 0.0828969\ttotal: 928ms\tremaining: 285ms\n",
      "765:\tlearn: 0.0827262\ttotal: 929ms\tremaining: 284ms\n",
      "766:\tlearn: 0.0825991\ttotal: 930ms\tremaining: 282ms\n",
      "767:\tlearn: 0.0824935\ttotal: 931ms\tremaining: 281ms\n",
      "768:\tlearn: 0.0823142\ttotal: 932ms\tremaining: 280ms\n",
      "769:\tlearn: 0.0822131\ttotal: 933ms\tremaining: 279ms\n",
      "770:\tlearn: 0.0822007\ttotal: 933ms\tremaining: 277ms\n",
      "771:\tlearn: 0.0820638\ttotal: 934ms\tremaining: 276ms\n",
      "772:\tlearn: 0.0819561\ttotal: 935ms\tremaining: 274ms\n",
      "773:\tlearn: 0.0818497\ttotal: 935ms\tremaining: 273ms\n",
      "774:\tlearn: 0.0818415\ttotal: 936ms\tremaining: 272ms\n",
      "775:\tlearn: 0.0816481\ttotal: 937ms\tremaining: 271ms\n",
      "776:\tlearn: 0.0814932\ttotal: 938ms\tremaining: 269ms\n",
      "777:\tlearn: 0.0813287\ttotal: 939ms\tremaining: 268ms\n",
      "778:\tlearn: 0.0813122\ttotal: 940ms\tremaining: 267ms\n",
      "779:\tlearn: 0.0813023\ttotal: 941ms\tremaining: 265ms\n",
      "780:\tlearn: 0.0811968\ttotal: 942ms\tremaining: 264ms\n",
      "781:\tlearn: 0.0811230\ttotal: 943ms\tremaining: 263ms\n",
      "782:\tlearn: 0.0810372\ttotal: 943ms\tremaining: 261ms\n",
      "783:\tlearn: 0.0809315\ttotal: 944ms\tremaining: 260ms\n",
      "784:\tlearn: 0.0808118\ttotal: 945ms\tremaining: 259ms\n",
      "785:\tlearn: 0.0806204\ttotal: 946ms\tremaining: 258ms\n",
      "786:\tlearn: 0.0805256\ttotal: 947ms\tremaining: 256ms\n",
      "787:\tlearn: 0.0804555\ttotal: 947ms\tremaining: 255ms\n",
      "788:\tlearn: 0.0802616\ttotal: 948ms\tremaining: 254ms\n",
      "789:\tlearn: 0.0801346\ttotal: 949ms\tremaining: 252ms\n",
      "790:\tlearn: 0.0800459\ttotal: 950ms\tremaining: 251ms\n",
      "791:\tlearn: 0.0799395\ttotal: 951ms\tremaining: 250ms\n",
      "792:\tlearn: 0.0798044\ttotal: 952ms\tremaining: 248ms\n",
      "793:\tlearn: 0.0797418\ttotal: 953ms\tremaining: 247ms\n",
      "794:\tlearn: 0.0795604\ttotal: 954ms\tremaining: 246ms\n",
      "795:\tlearn: 0.0793992\ttotal: 954ms\tremaining: 245ms\n",
      "796:\tlearn: 0.0793177\ttotal: 955ms\tremaining: 243ms\n",
      "797:\tlearn: 0.0791692\ttotal: 956ms\tremaining: 242ms\n",
      "798:\tlearn: 0.0790185\ttotal: 957ms\tremaining: 241ms\n",
      "799:\tlearn: 0.0788395\ttotal: 958ms\tremaining: 239ms\n",
      "800:\tlearn: 0.0786763\ttotal: 958ms\tremaining: 238ms\n",
      "801:\tlearn: 0.0785882\ttotal: 959ms\tremaining: 237ms\n",
      "802:\tlearn: 0.0784560\ttotal: 960ms\tremaining: 236ms\n",
      "803:\tlearn: 0.0783433\ttotal: 961ms\tremaining: 234ms\n",
      "804:\tlearn: 0.0782202\ttotal: 962ms\tremaining: 233ms\n",
      "805:\tlearn: 0.0781003\ttotal: 962ms\tremaining: 232ms\n",
      "806:\tlearn: 0.0780437\ttotal: 963ms\tremaining: 230ms\n",
      "807:\tlearn: 0.0778801\ttotal: 964ms\tremaining: 229ms\n",
      "808:\tlearn: 0.0777829\ttotal: 965ms\tremaining: 228ms\n",
      "809:\tlearn: 0.0777705\ttotal: 966ms\tremaining: 226ms\n",
      "810:\tlearn: 0.0775772\ttotal: 966ms\tremaining: 225ms\n",
      "811:\tlearn: 0.0774992\ttotal: 967ms\tremaining: 224ms\n",
      "812:\tlearn: 0.0774125\ttotal: 969ms\tremaining: 223ms\n",
      "813:\tlearn: 0.0772649\ttotal: 970ms\tremaining: 222ms\n",
      "814:\tlearn: 0.0772385\ttotal: 971ms\tremaining: 220ms\n",
      "815:\tlearn: 0.0771258\ttotal: 971ms\tremaining: 219ms\n",
      "816:\tlearn: 0.0771122\ttotal: 972ms\tremaining: 218ms\n",
      "817:\tlearn: 0.0769437\ttotal: 973ms\tremaining: 217ms\n",
      "818:\tlearn: 0.0768881\ttotal: 974ms\tremaining: 215ms\n",
      "819:\tlearn: 0.0768561\ttotal: 975ms\tremaining: 214ms\n",
      "820:\tlearn: 0.0767972\ttotal: 976ms\tremaining: 213ms\n",
      "821:\tlearn: 0.0766671\ttotal: 977ms\tremaining: 211ms\n",
      "822:\tlearn: 0.0765368\ttotal: 978ms\tremaining: 210ms\n",
      "823:\tlearn: 0.0764243\ttotal: 978ms\tremaining: 209ms\n",
      "824:\tlearn: 0.0762476\ttotal: 979ms\tremaining: 208ms\n",
      "825:\tlearn: 0.0761951\ttotal: 980ms\tremaining: 206ms\n",
      "826:\tlearn: 0.0760363\ttotal: 981ms\tremaining: 205ms\n",
      "827:\tlearn: 0.0758749\ttotal: 982ms\tremaining: 204ms\n",
      "828:\tlearn: 0.0758661\ttotal: 983ms\tremaining: 203ms\n",
      "829:\tlearn: 0.0757846\ttotal: 985ms\tremaining: 202ms\n",
      "830:\tlearn: 0.0757068\ttotal: 986ms\tremaining: 200ms\n",
      "831:\tlearn: 0.0756095\ttotal: 986ms\tremaining: 199ms\n",
      "832:\tlearn: 0.0756031\ttotal: 987ms\tremaining: 198ms\n",
      "833:\tlearn: 0.0755123\ttotal: 988ms\tremaining: 197ms\n",
      "834:\tlearn: 0.0754164\ttotal: 989ms\tremaining: 195ms\n",
      "835:\tlearn: 0.0753161\ttotal: 990ms\tremaining: 194ms\n",
      "836:\tlearn: 0.0751532\ttotal: 991ms\tremaining: 193ms\n",
      "837:\tlearn: 0.0750237\ttotal: 992ms\tremaining: 192ms\n",
      "838:\tlearn: 0.0748956\ttotal: 993ms\tremaining: 190ms\n",
      "839:\tlearn: 0.0747542\ttotal: 993ms\tremaining: 189ms\n",
      "840:\tlearn: 0.0747455\ttotal: 994ms\tremaining: 188ms\n",
      "841:\tlearn: 0.0746472\ttotal: 995ms\tremaining: 187ms\n",
      "842:\tlearn: 0.0745264\ttotal: 996ms\tremaining: 185ms\n",
      "843:\tlearn: 0.0744726\ttotal: 997ms\tremaining: 184ms\n",
      "844:\tlearn: 0.0742931\ttotal: 997ms\tremaining: 183ms\n",
      "845:\tlearn: 0.0741907\ttotal: 1s\tremaining: 182ms\n",
      "846:\tlearn: 0.0740628\ttotal: 1s\tremaining: 181ms\n",
      "847:\tlearn: 0.0739631\ttotal: 1s\tremaining: 180ms\n",
      "848:\tlearn: 0.0738296\ttotal: 1s\tremaining: 179ms\n",
      "849:\tlearn: 0.0736688\ttotal: 1s\tremaining: 177ms\n",
      "850:\tlearn: 0.0736483\ttotal: 1.01s\tremaining: 176ms\n",
      "851:\tlearn: 0.0735374\ttotal: 1.01s\tremaining: 175ms\n",
      "852:\tlearn: 0.0734369\ttotal: 1.01s\tremaining: 174ms\n",
      "853:\tlearn: 0.0734313\ttotal: 1.01s\tremaining: 172ms\n",
      "854:\tlearn: 0.0732976\ttotal: 1.01s\tremaining: 171ms\n",
      "855:\tlearn: 0.0731878\ttotal: 1.01s\tremaining: 170ms\n",
      "856:\tlearn: 0.0730295\ttotal: 1.01s\tremaining: 169ms\n",
      "857:\tlearn: 0.0730016\ttotal: 1.01s\tremaining: 167ms\n",
      "858:\tlearn: 0.0728745\ttotal: 1.01s\tremaining: 166ms\n",
      "859:\tlearn: 0.0728664\ttotal: 1.01s\tremaining: 165ms\n",
      "860:\tlearn: 0.0727888\ttotal: 1.01s\tremaining: 164ms\n",
      "861:\tlearn: 0.0727005\ttotal: 1.01s\tremaining: 163ms\n",
      "862:\tlearn: 0.0726395\ttotal: 1.02s\tremaining: 161ms\n",
      "863:\tlearn: 0.0725212\ttotal: 1.02s\tremaining: 160ms\n",
      "864:\tlearn: 0.0724511\ttotal: 1.02s\tremaining: 159ms\n",
      "865:\tlearn: 0.0723298\ttotal: 1.02s\tremaining: 158ms\n",
      "866:\tlearn: 0.0722612\ttotal: 1.02s\tremaining: 156ms\n",
      "867:\tlearn: 0.0721005\ttotal: 1.02s\tremaining: 155ms\n"
     ]
    },
    {
     "name": "stdout",
     "output_type": "stream",
     "text": [
      "868:\tlearn: 0.0720952\ttotal: 1.02s\tremaining: 154ms\n",
      "869:\tlearn: 0.0720012\ttotal: 1.02s\tremaining: 153ms\n",
      "870:\tlearn: 0.0719788\ttotal: 1.02s\tremaining: 151ms\n",
      "871:\tlearn: 0.0718415\ttotal: 1.02s\tremaining: 150ms\n",
      "872:\tlearn: 0.0717262\ttotal: 1.02s\tremaining: 149ms\n",
      "873:\tlearn: 0.0716403\ttotal: 1.03s\tremaining: 148ms\n",
      "874:\tlearn: 0.0715263\ttotal: 1.03s\tremaining: 147ms\n",
      "875:\tlearn: 0.0714744\ttotal: 1.03s\tremaining: 145ms\n",
      "876:\tlearn: 0.0713401\ttotal: 1.03s\tremaining: 144ms\n",
      "877:\tlearn: 0.0711906\ttotal: 1.03s\tremaining: 143ms\n",
      "878:\tlearn: 0.0710150\ttotal: 1.03s\tremaining: 142ms\n",
      "879:\tlearn: 0.0708832\ttotal: 1.03s\tremaining: 141ms\n",
      "880:\tlearn: 0.0707801\ttotal: 1.03s\tremaining: 139ms\n",
      "881:\tlearn: 0.0707706\ttotal: 1.03s\tremaining: 138ms\n",
      "882:\tlearn: 0.0707606\ttotal: 1.03s\tremaining: 137ms\n",
      "883:\tlearn: 0.0705636\ttotal: 1.03s\tremaining: 136ms\n",
      "884:\tlearn: 0.0705130\ttotal: 1.04s\tremaining: 135ms\n",
      "885:\tlearn: 0.0703910\ttotal: 1.04s\tremaining: 133ms\n",
      "886:\tlearn: 0.0703779\ttotal: 1.04s\tremaining: 132ms\n",
      "887:\tlearn: 0.0702881\ttotal: 1.04s\tremaining: 131ms\n",
      "888:\tlearn: 0.0701856\ttotal: 1.04s\tremaining: 130ms\n",
      "889:\tlearn: 0.0700610\ttotal: 1.04s\tremaining: 129ms\n",
      "890:\tlearn: 0.0699592\ttotal: 1.04s\tremaining: 127ms\n",
      "891:\tlearn: 0.0698993\ttotal: 1.04s\tremaining: 126ms\n",
      "892:\tlearn: 0.0697537\ttotal: 1.04s\tremaining: 125ms\n",
      "893:\tlearn: 0.0696570\ttotal: 1.04s\tremaining: 124ms\n",
      "894:\tlearn: 0.0695221\ttotal: 1.04s\tremaining: 123ms\n",
      "895:\tlearn: 0.0694389\ttotal: 1.04s\tremaining: 121ms\n",
      "896:\tlearn: 0.0693399\ttotal: 1.05s\tremaining: 120ms\n",
      "897:\tlearn: 0.0691959\ttotal: 1.05s\tremaining: 119ms\n",
      "898:\tlearn: 0.0691889\ttotal: 1.05s\tremaining: 118ms\n",
      "899:\tlearn: 0.0690806\ttotal: 1.05s\tremaining: 117ms\n",
      "900:\tlearn: 0.0689398\ttotal: 1.05s\tremaining: 115ms\n",
      "901:\tlearn: 0.0688793\ttotal: 1.05s\tremaining: 114ms\n",
      "902:\tlearn: 0.0687784\ttotal: 1.05s\tremaining: 113ms\n",
      "903:\tlearn: 0.0687468\ttotal: 1.05s\tremaining: 112ms\n",
      "904:\tlearn: 0.0686884\ttotal: 1.05s\tremaining: 111ms\n",
      "905:\tlearn: 0.0686310\ttotal: 1.05s\tremaining: 109ms\n",
      "906:\tlearn: 0.0686248\ttotal: 1.05s\tremaining: 108ms\n",
      "907:\tlearn: 0.0684959\ttotal: 1.06s\tremaining: 107ms\n",
      "908:\tlearn: 0.0683752\ttotal: 1.06s\tremaining: 106ms\n",
      "909:\tlearn: 0.0682816\ttotal: 1.06s\tremaining: 105ms\n",
      "910:\tlearn: 0.0682276\ttotal: 1.06s\tremaining: 103ms\n",
      "911:\tlearn: 0.0681954\ttotal: 1.06s\tremaining: 102ms\n",
      "912:\tlearn: 0.0680218\ttotal: 1.06s\tremaining: 101ms\n",
      "913:\tlearn: 0.0678958\ttotal: 1.06s\tremaining: 99.9ms\n",
      "914:\tlearn: 0.0678155\ttotal: 1.06s\tremaining: 98.7ms\n",
      "915:\tlearn: 0.0677380\ttotal: 1.06s\tremaining: 97.5ms\n",
      "916:\tlearn: 0.0676021\ttotal: 1.06s\tremaining: 96.3ms\n",
      "917:\tlearn: 0.0674569\ttotal: 1.06s\tremaining: 95.1ms\n",
      "918:\tlearn: 0.0673332\ttotal: 1.07s\tremaining: 94ms\n",
      "919:\tlearn: 0.0672091\ttotal: 1.07s\tremaining: 92.8ms\n",
      "920:\tlearn: 0.0670746\ttotal: 1.07s\tremaining: 91.6ms\n",
      "921:\tlearn: 0.0669947\ttotal: 1.07s\tremaining: 90.4ms\n",
      "922:\tlearn: 0.0668582\ttotal: 1.07s\tremaining: 89.3ms\n",
      "923:\tlearn: 0.0667618\ttotal: 1.07s\tremaining: 88.1ms\n",
      "924:\tlearn: 0.0667218\ttotal: 1.07s\tremaining: 86.9ms\n",
      "925:\tlearn: 0.0666071\ttotal: 1.07s\tremaining: 85.7ms\n",
      "926:\tlearn: 0.0665973\ttotal: 1.07s\tremaining: 84.5ms\n",
      "927:\tlearn: 0.0664584\ttotal: 1.07s\tremaining: 83.3ms\n",
      "928:\tlearn: 0.0663577\ttotal: 1.07s\tremaining: 82.2ms\n",
      "929:\tlearn: 0.0662610\ttotal: 1.07s\tremaining: 81ms\n",
      "930:\tlearn: 0.0661279\ttotal: 1.08s\tremaining: 79.8ms\n",
      "931:\tlearn: 0.0661186\ttotal: 1.08s\tremaining: 78.6ms\n",
      "932:\tlearn: 0.0660313\ttotal: 1.08s\tremaining: 77.4ms\n",
      "933:\tlearn: 0.0659152\ttotal: 1.08s\tremaining: 76.3ms\n",
      "934:\tlearn: 0.0658179\ttotal: 1.08s\tremaining: 75.1ms\n",
      "935:\tlearn: 0.0656977\ttotal: 1.08s\tremaining: 74ms\n",
      "936:\tlearn: 0.0656775\ttotal: 1.08s\tremaining: 72.8ms\n",
      "937:\tlearn: 0.0655646\ttotal: 1.08s\tremaining: 71.6ms\n",
      "938:\tlearn: 0.0655299\ttotal: 1.08s\tremaining: 70.5ms\n",
      "939:\tlearn: 0.0654592\ttotal: 1.08s\tremaining: 69.3ms\n",
      "940:\tlearn: 0.0653699\ttotal: 1.09s\tremaining: 68.1ms\n",
      "941:\tlearn: 0.0653617\ttotal: 1.09s\tremaining: 67ms\n",
      "942:\tlearn: 0.0653125\ttotal: 1.09s\tremaining: 65.8ms\n",
      "943:\tlearn: 0.0652609\ttotal: 1.09s\tremaining: 64.6ms\n",
      "944:\tlearn: 0.0651591\ttotal: 1.09s\tremaining: 63.5ms\n",
      "945:\tlearn: 0.0650839\ttotal: 1.09s\tremaining: 62.3ms\n",
      "946:\tlearn: 0.0649853\ttotal: 1.09s\tremaining: 61.1ms\n",
      "947:\tlearn: 0.0649321\ttotal: 1.09s\tremaining: 59.9ms\n",
      "948:\tlearn: 0.0648303\ttotal: 1.09s\tremaining: 58.8ms\n",
      "949:\tlearn: 0.0648234\ttotal: 1.09s\tremaining: 57.7ms\n",
      "950:\tlearn: 0.0648023\ttotal: 1.1s\tremaining: 56.5ms\n",
      "951:\tlearn: 0.0646504\ttotal: 1.1s\tremaining: 55.4ms\n",
      "952:\tlearn: 0.0645574\ttotal: 1.1s\tremaining: 54.2ms\n",
      "953:\tlearn: 0.0644546\ttotal: 1.1s\tremaining: 53.1ms\n",
      "954:\tlearn: 0.0643142\ttotal: 1.1s\tremaining: 51.9ms\n",
      "955:\tlearn: 0.0642031\ttotal: 1.1s\tremaining: 50.7ms\n",
      "956:\tlearn: 0.0641118\ttotal: 1.1s\tremaining: 49.6ms\n",
      "957:\tlearn: 0.0640494\ttotal: 1.1s\tremaining: 48.4ms\n",
      "958:\tlearn: 0.0638583\ttotal: 1.1s\tremaining: 47.2ms\n",
      "959:\tlearn: 0.0637996\ttotal: 1.1s\tremaining: 46.1ms\n",
      "960:\tlearn: 0.0637336\ttotal: 1.11s\tremaining: 44.9ms\n",
      "961:\tlearn: 0.0636693\ttotal: 1.11s\tremaining: 43.8ms\n"
     ]
    },
    {
     "name": "stdout",
     "output_type": "stream",
     "text": [
      "962:\tlearn: 0.0635439\ttotal: 1.11s\tremaining: 42.6ms\n",
      "963:\tlearn: 0.0634165\ttotal: 1.11s\tremaining: 41.5ms\n",
      "964:\tlearn: 0.0633400\ttotal: 1.11s\tremaining: 40.3ms\n",
      "965:\tlearn: 0.0632483\ttotal: 1.11s\tremaining: 39.1ms\n",
      "966:\tlearn: 0.0631624\ttotal: 1.11s\tremaining: 38ms\n",
      "967:\tlearn: 0.0631406\ttotal: 1.11s\tremaining: 36.9ms\n",
      "968:\tlearn: 0.0630594\ttotal: 1.11s\tremaining: 35.7ms\n",
      "969:\tlearn: 0.0629857\ttotal: 1.12s\tremaining: 34.5ms\n",
      "970:\tlearn: 0.0628768\ttotal: 1.12s\tremaining: 33.4ms\n",
      "971:\tlearn: 0.0628527\ttotal: 1.12s\tremaining: 32.2ms\n",
      "972:\tlearn: 0.0627826\ttotal: 1.12s\tremaining: 31.1ms\n",
      "973:\tlearn: 0.0626785\ttotal: 1.12s\tremaining: 29.9ms\n",
      "974:\tlearn: 0.0625759\ttotal: 1.12s\tremaining: 28.8ms\n",
      "975:\tlearn: 0.0624357\ttotal: 1.12s\tremaining: 27.6ms\n",
      "976:\tlearn: 0.0623594\ttotal: 1.12s\tremaining: 26.4ms\n",
      "977:\tlearn: 0.0623275\ttotal: 1.12s\tremaining: 25.3ms\n",
      "978:\tlearn: 0.0622677\ttotal: 1.13s\tremaining: 24.1ms\n",
      "979:\tlearn: 0.0621714\ttotal: 1.13s\tremaining: 23ms\n",
      "980:\tlearn: 0.0620889\ttotal: 1.13s\tremaining: 21.8ms\n",
      "981:\tlearn: 0.0619811\ttotal: 1.13s\tremaining: 20.7ms\n",
      "982:\tlearn: 0.0619211\ttotal: 1.13s\tremaining: 19.5ms\n",
      "983:\tlearn: 0.0617862\ttotal: 1.13s\tremaining: 18.4ms\n",
      "984:\tlearn: 0.0617440\ttotal: 1.13s\tremaining: 17.2ms\n",
      "985:\tlearn: 0.0617291\ttotal: 1.13s\tremaining: 16.1ms\n",
      "986:\tlearn: 0.0616481\ttotal: 1.13s\tremaining: 14.9ms\n",
      "987:\tlearn: 0.0615279\ttotal: 1.13s\tremaining: 13.8ms\n",
      "988:\tlearn: 0.0614685\ttotal: 1.13s\tremaining: 12.6ms\n",
      "989:\tlearn: 0.0613834\ttotal: 1.13s\tremaining: 11.5ms\n",
      "990:\tlearn: 0.0613115\ttotal: 1.14s\tremaining: 10.3ms\n",
      "991:\tlearn: 0.0612148\ttotal: 1.14s\tremaining: 9.16ms\n",
      "992:\tlearn: 0.0611253\ttotal: 1.14s\tremaining: 8.02ms\n",
      "993:\tlearn: 0.0610590\ttotal: 1.14s\tremaining: 6.87ms\n",
      "994:\tlearn: 0.0610544\ttotal: 1.14s\tremaining: 5.72ms\n",
      "995:\tlearn: 0.0609689\ttotal: 1.14s\tremaining: 4.58ms\n",
      "996:\tlearn: 0.0608871\ttotal: 1.14s\tremaining: 3.43ms\n",
      "997:\tlearn: 0.0607708\ttotal: 1.14s\tremaining: 2.29ms\n",
      "998:\tlearn: 0.0607029\ttotal: 1.14s\tremaining: 1.14ms\n",
      "999:\tlearn: 0.0606910\ttotal: 1.14s\tremaining: 0us\n"
     ]
    },
    {
     "data": {
      "text/plain": [
       "<catboost.core.CatBoostRegressor at 0x7fa9097ca640>"
      ]
     },
     "execution_count": 9,
     "metadata": {},
     "output_type": "execute_result"
    }
   ],
   "source": [
    "#Train the Model \n",
    "prior_model = ctb.CatBoostRegressor()\n",
    "prior_model.fit(X_train,Y_train)"
   ]
  },
  {
   "cell_type": "code",
   "execution_count": 10,
   "id": "af65dcda",
   "metadata": {
    "execution": {
     "iopub.execute_input": "2022-06-12T05:04:56.362955Z",
     "iopub.status.busy": "2022-06-12T05:04:56.362563Z",
     "iopub.status.idle": "2022-06-12T05:04:56.370116Z",
     "shell.execute_reply": "2022-06-12T05:04:56.370405Z"
    },
    "id": "af65dcda",
    "papermill": {
     "duration": 0.021753,
     "end_time": "2022-06-12T05:04:56.370526",
     "exception": false,
     "start_time": "2022-06-12T05:04:56.348773",
     "status": "completed"
    },
    "tags": []
   },
   "outputs": [
    {
     "data": {
      "application/scrapbook.scrap.json+json": {
       "data": 0.1160719381181731,
       "encoder": "json",
       "name": "Prior Model MSE",
       "version": 1
      }
     },
     "metadata": {
      "scrapbook": {
       "data": true,
       "display": false,
       "name": "Prior Model MSE"
      }
     },
     "output_type": "display_data"
    },
    {
     "data": {
      "application/scrapbook.scrap.json+json": {
       "data": 0.12851168957952633,
       "encoder": "json",
       "name": "ABC Pre-generator MSE",
       "version": 1
      }
     },
     "metadata": {
      "scrapbook": {
       "data": true,
       "display": false,
       "name": "ABC Pre-generator MSE"
      }
     },
     "output_type": "display_data"
    },
    {
     "data": {
      "application/scrapbook.scrap.json+json": {
       "data": 0.21093986539350934,
       "encoder": "json",
       "name": "Prior Model MSE",
       "version": 1
      }
     },
     "metadata": {
      "scrapbook": {
       "data": true,
       "display": false,
       "name": "Prior Model MSE"
      }
     },
     "output_type": "display_data"
    },
    {
     "data": {
      "application/scrapbook.scrap.json+json": {
       "data": 0.2502082874921536,
       "encoder": "json",
       "name": "ABC Pre-generator MSE",
       "version": 1
      }
     },
     "metadata": {
      "scrapbook": {
       "data": true,
       "display": false,
       "name": "ABC Pre-generator MSE"
      }
     },
     "output_type": "display_data"
    }
   ],
   "source": [
    "y_pred = prior_model.predict(X_test)\n",
    "y_abc = y_pred + np.random.normal(0,variance, y_pred.shape) + bias \n",
    "mse = mean_squared_error(y_pred,Y_test)\n",
    "sb.glue(\"Prior Model MSE\",mse)\n",
    "mse = mean_squared_error(y_abc,Y_test)\n",
    "sb.glue(\"ABC Pre-generator MSE\",mse)\n",
    "mae = mean_absolute_error(y_pred,Y_test)\n",
    "sb.glue(\"Prior Model MSE\",mae)\n",
    "mae = mean_absolute_error(y_abc,Y_test)\n",
    "sb.glue(\"ABC Pre-generator MSE\",mae)"
   ]
  },
  {
   "cell_type": "markdown",
   "id": "25609da2",
   "metadata": {
    "papermill": {
     "duration": 0.010183,
     "end_time": "2022-06-12T05:04:56.391315",
     "exception": false,
     "start_time": "2022-06-12T05:04:56.381132",
     "status": "completed"
    },
    "tags": []
   },
   "source": [
    "# ABC GAN Model"
   ]
  },
  {
   "cell_type": "code",
   "execution_count": 11,
   "id": "dfc3464d",
   "metadata": {
    "execution": {
     "iopub.execute_input": "2022-06-12T05:04:56.415117Z",
     "iopub.status.busy": "2022-06-12T05:04:56.414732Z",
     "iopub.status.idle": "2022-06-12T05:04:56.416858Z",
     "shell.execute_reply": "2022-06-12T05:04:56.417099Z"
    },
    "papermill": {
     "duration": 0.015721,
     "end_time": "2022-06-12T05:04:56.417208",
     "exception": false,
     "start_time": "2022-06-12T05:04:56.401487",
     "status": "completed"
    },
    "tags": []
   },
   "outputs": [],
   "source": [
    "gen = network.Generator(n_features+1).to(device)\n",
    "disc = network.Discriminator(n_features+1).to(device)\n",
    "\n",
    "criterion = torch.nn.BCELoss()\n",
    "gen_opt = torch.optim.Adam(gen.parameters(), lr=0.001, betas=(0.5, 0.999))\n",
    "disc_opt = torch.optim.Adam(disc.parameters(), lr=0.001, betas=(0.5, 0.999))"
   ]
  },
  {
   "cell_type": "code",
   "execution_count": 12,
   "id": "b75fdd85",
   "metadata": {
    "execution": {
     "iopub.execute_input": "2022-06-12T05:04:56.440972Z",
     "iopub.status.busy": "2022-06-12T05:04:56.440596Z",
     "iopub.status.idle": "2022-06-12T05:05:57.901468Z",
     "shell.execute_reply": "2022-06-12T05:05:57.901197Z"
    },
    "papermill": {
     "duration": 61.474046,
     "end_time": "2022-06-12T05:05:57.901574",
     "exception": false,
     "start_time": "2022-06-12T05:04:56.427528",
     "status": "completed"
    },
    "tags": []
   },
   "outputs": [
    {
     "data": {
      "image/png": "[encoded data removed]",
      "text/plain": [
       "<Figure size 432x288 with 1 Axes>"
      ]
     },
     "metadata": {
      "needs_background": "light"
     },
     "output_type": "display_data"
    },
    {
     "data": {
      "image/png": "[encoded data removed]",
      "text/plain": [
       "<Figure size 432x288 with 1 Axes>"
      ]
     },
     "metadata": {
      "needs_background": "light"
     },
     "output_type": "display_data"
    }
   ],
   "source": [
    "#Training the ABC_GAN \n",
    "ABC_train_test2.training_GAN(disc,gen,disc_opt,gen_opt,train_data,batch_size,n_epochs,criterion,prior_model,variance,bias,device)"
   ]
  },
  {
   "cell_type": "code",
   "execution_count": 13,
   "id": "1fa7c368",
   "metadata": {
    "execution": {
     "iopub.execute_input": "2022-06-12T05:05:57.926261Z",
     "iopub.status.busy": "2022-06-12T05:05:57.925910Z",
     "iopub.status.idle": "2022-06-12T05:05:58.239016Z",
     "shell.execute_reply": "2022-06-12T05:05:58.239311Z"
    },
    "papermill": {
     "duration": 0.326767,
     "end_time": "2022-06-12T05:05:58.239432",
     "exception": false,
     "start_time": "2022-06-12T05:05:57.912665",
     "status": "completed"
    },
    "tags": []
   },
   "outputs": [
    {
     "data": {
      "application/scrapbook.scrap.json+json": {
       "data": 0.12254424133766288,
       "encoder": "json",
       "name": "ABC-GAN Model 1 MSE",
       "version": 1
      }
     },
     "metadata": {
      "scrapbook": {
       "data": true,
       "display": false,
       "name": "ABC-GAN Model 1 MSE"
      }
     },
     "output_type": "display_data"
    },
    {
     "data": {
      "application/scrapbook.scrap.json+json": {
       "data": 0.2213489171024412,
       "encoder": "json",
       "name": "ABC-GAN Model 1 MAE",
       "version": 1
      }
     },
     "metadata": {
      "scrapbook": {
       "data": true,
       "display": false,
       "name": "ABC-GAN Model 1 MAE"
      }
     },
     "output_type": "display_data"
    },
    {
     "data": {
      "application/scrapbook.scrap.json+json": {
       "data": 22.577589544449,
       "encoder": "json",
       "name": "ABC-GAN Model 1 Manhattan Distance",
       "version": 1
      }
     },
     "metadata": {
      "scrapbook": {
       "data": true,
       "display": false,
       "name": "ABC-GAN Model 1 Manhattan Distance"
      }
     },
     "output_type": "display_data"
    },
    {
     "data": {
      "application/scrapbook.scrap.json+json": {
       "data": 3.5347484534376914,
       "encoder": "json",
       "name": "ABC-GAN Model 1 Euclidean distance",
       "version": 1
      }
     },
     "metadata": {
      "scrapbook": {
       "data": true,
       "display": false,
       "name": "ABC-GAN Model 1 Euclidean distance"
      }
     },
     "output_type": "display_data"
    },
    {
     "data": {
      "application/scrapbook.scrap.json+json": {
       "data": [
        [
         0.11729865970566701,
         0.12115068843555417,
         0.11742599507096772,
         0.13012132793503625,
         0.12863782275345803,
         0.12201093637013419,
         0.11763844701119716,
         0.12291876453979413,
         0.11432363836744645,
         0.12040671360068665,
         0.12115401938926167,
         0.12341913824970849,
         0.13196778543229928,
         0.11485462164219369,
         0.11407404159607988,
         0.12624984467341263,
         0.1223104359472464,
         0.12301746381591724,
         0.13054781959478143,
         0.1197039867305875,
         0.1253006055058239,
         0.1291673028988911,
         0.11902512907595335,
         0.12818935972143275,
         0.12668888031806397,
         0.12147332480868012,
         0.11639885115834142,
         0.1281937729266137,
         0.11507391516016025,
         0.1257106844692083,
         0.12510120460693233,
         0.12626876056554273,
         0.12395862203268873,
         0.13027914311786765,
         0.12708355127816717,
         0.12094940621013092,
         0.1295585352317027,
         0.1181668711203954,
         0.12445740347464028,
         0.11584713950004734,
         0.12298574979255011,
         0.12146534648486071,
         0.12069743960190482,
         0.12614702885762802,
         0.12008091757487994,
         0.12067603915559733,
         0.12629597709828372,
         0.12296761880491036,
         0.12082125801892502,
         0.12886549713168982,
         0.122324693148396,
         0.13102380202406336,
         0.12141280872295276,
         0.12440935290968586,
         0.1160495758881986,
         0.12301384313733729,
         0.12084261197527368,
         0.12073572260674569,
         0.1189994653382302,
         0.12996042600158847,
         0.11531127305126786,
         0.122370007292551,
         0.1261980214642465,
         0.11845578042889651,
         0.11519335526418736,
         0.124269148224148,
         0.1313088592115284,
         0.12960018205655294,
         0.11779097418446241,
         0.12163484133180955,
         0.1289964047903675,
         0.11285028533514459,
         0.12611089498019284,
         0.12119119219277423,
         0.12444986520339534,
         0.1298090579442134,
         0.12911802654865664,
         0.11714927274512262,
         0.12389597152253799,
         0.12306378939629528,
         0.11678476880709326,
         0.10974002902684742,
         0.12414247185414289,
         0.12381937845746353,
         0.12356533926527344,
         0.1159152580207461,
         0.11783883762515761,
         0.12134095394011432,
         0.13051956320345615,
         0.12328971599458215,
         0.12279031286804305,
         0.11644195922269279,
         0.12075804810329704,
         0.12467010152446627,
         0.1243883130702671,
         0.1180485209790187,
         0.12545102456484164,
         0.12837847247946713,
         0.1128968135181318,
         0.11897725975641907
        ],
        [
         0.21946020762198695,
         0.22159405233448043,
         0.21678213174363561,
         0.23109630431395536,
         0.21914393467572973,
         0.22106960282533192,
         0.21552867630460099,
         0.2207111976492931,
         0.21617297384449663,
         0.2249334831995999,
         0.21927199518198476,
         0.22537770555080736,
         0.22403673497119955,
         0.21822965570597672,
         0.2218646524912294,
         0.22763824731330662,
         0.22412303468102918,
         0.22306856803376884,
         0.22253473229048884,
         0.21729756130234285,
         0.22714320122830423,
         0.22633753174587207,
         0.21504225839367686,
         0.2216453553889604,
         0.22862377760968372,
         0.22234051621646858,
         0.2147426655808208,
         0.22518792417923025,
         0.21529558540194058,
         0.22604695840866543,
         0.23408134153806695,
         0.22172945772535077,
         0.22289033312642692,
         0.22405859785994478,
         0.2273907577253732,
         0.22267862392918153,
         0.22855982146061518,
         0.21267937282648156,
         0.22604915384641466,
         0.2133977624459886,
         0.22264248828458436,
         0.22273596619054967,
         0.2173370626371573,
         0.22731729054494815,
         0.21985278430157432,
         0.21886787233034186,
         0.2206748319132363,
         0.2224403950111831,
         0.2190803083974649,
         0.2257177864621375,
         0.22108613968114643,
         0.23017720251764154,
         0.2252599975167244,
         0.22737975741791375,
         0.2117643225390245,
         0.22788151578210733,
         0.2236368310473421,
         0.21839202200884328,
         0.21627610777596049,
         0.22397798203004926,
         0.2230526806202297,
         0.2214759149059069,
         0.22805757899129508,
         0.2190118878531982,
         0.21850121293363034,
         0.2256690762462277,
         0.23471802986208715,
         0.22198584001949606,
         0.22085485189203538,
         0.21613090611336863,
         0.2255161001949626,
         0.21468698465283595,
         0.21703199956420005,
         0.21683779528693242,
         0.22139587886996714,
         0.2270600569124023,
         0.22456811706298122,
         0.2141925708445556,
         0.21912007207306577,
         0.22061760557413684,
         0.2144123905100951,
         0.21048391372988037,
         0.22573244149851449,
         0.21837382524402119,
         0.220209317263581,
         0.20927193371907754,
         0.21879916336825667,
         0.21910774676750103,
         0.2247147879873713,
         0.22096433101550622,
         0.22128921131804294,
         0.2122489624273251,
         0.21649791802480525,
         0.22432804324974617,
         0.21914076379628158,
         0.22067237420774558,
         0.22886061242909408,
         0.22173171229295285,
         0.21160993113310314,
         0.21760205672506025
        ],
        [
         22.38494117744267,
         22.602593338117003,
         22.111777437850833,
         23.571823040023446,
         22.352681336924434,
         22.549099488183856,
         21.9839249830693,
         22.512542160227895,
         22.049643332138658,
         22.94321528635919,
         22.365743508562446,
         22.98852596618235,
         22.851746967062354,
         22.259424882009625,
         22.6301945541054,
         23.219101225957274,
         22.860549537464976,
         22.752993939444423,
         22.69854269362986,
         22.16435125283897,
         23.168606525287032,
         23.086428238078952,
         21.934310356155038,
         22.607826249673963,
         23.31962531618774,
         22.678732654079795,
         21.903751889243722,
         22.969168266281486,
         21.96014971099794,
         23.056789757683873,
         23.87629683688283,
         22.616404687985778,
         22.734813978895545,
         22.853976981714368,
         23.193857287988067,
         22.713219640776515,
         23.31310178898275,
         21.69329602830112,
         23.057013692334294,
         21.766571769490838,
         22.709533805027604,
         22.719068551436067,
         22.168380388990045,
         23.186363635584712,
         22.42498399876058,
         22.32452297769487,
         22.508832855150104,
         22.688920291140676,
         22.34619145654142,
         23.023214219138026,
         22.550786247476935,
         23.478074656799436,
         22.97651974670589,
         23.192735256627202,
         21.5999608989805,
         23.243914609774947,
         22.810956766828895,
         22.275986244902015,
         22.06016299314797,
         22.845754167065024,
         22.75137342326343,
         22.590543320402503,
         23.261873057112098,
         22.339212561026216,
         22.287123719230294,
         23.018245777115226,
         23.94123904593289,
         22.642555681988597,
         22.52719489298761,
         22.0453524235636,
         23.002642219886184,
         21.898072434589267,
         22.137263955548406,
         22.117455119267106,
         22.582379644736648,
         23.160125805065036,
         22.905947940424085,
         21.84764222614467,
         22.35024735145271,
         22.50299576856196,
         21.8700638320297,
         21.469359200447798,
         23.024709032848477,
         22.27413017489016,
         22.461350360885262,
         21.345737239345908,
         22.31751466356218,
         22.348990170285106,
         22.92090837471187,
         22.538361763581634,
         22.57149955444038,
         21.64939416758716,
         22.082787638530135,
         22.88146041147411,
         22.35235790722072,
         22.50858216919005,
         23.343782467767596,
         22.616634653881192,
         21.58421297557652,
         22.195409785956144
        ],
        [
         3.4589685297756083,
         3.5153051390208683,
         3.46084548878431,
         3.643127152512481,
         3.622300087079026,
         3.5277635280377972,
         3.463974825997168,
         3.540863451625748,
         3.4148222667482324,
         3.504494940397266,
         3.5153534641205977,
         3.548063147897775,
         3.6688845871864824,
         3.422743257608399,
         3.4110925292052903,
         3.58852116570156,
         3.532090665118767,
         3.5422847583478605,
         3.649092708971328,
         3.4942533746882076,
         3.5750051414779866,
         3.6297472220096663,
         3.484331093014445,
         3.6159804606200705,
         3.5947553174649483,
         3.519982830992982,
         3.4456759595398445,
         3.6160427041884606,
         3.4260092449286157,
         3.580850431930834,
         3.5721594127232197,
         3.5887899879604768,
         3.5558092535081585,
         3.6453357318664765,
         3.6003502927316737,
         3.512383725254596,
         3.63524010123591,
         3.4717460814812373,
         3.5629559574057756,
         3.437500287855235,
         3.541828126665678,
         3.5198672334984153,
         3.5087232491882703,
         3.5870596515081896,
         3.4997505043413817,
         3.508412175596096,
         3.5891767390343063,
         3.541567042722876,
         3.5105225135199394,
         3.6255042004433475,
         3.5322965194242104,
         3.65573902329672,
         3.5191059219269287,
         3.5622680972644316,
         3.440502396539822,
         3.542232629290234,
         3.510832724793067,
         3.5092796562668043,
         3.4839554337705696,
         3.64087399564473,
         3.4295407638967235,
         3.532950713474532,
         3.58778457956343,
         3.4759875724385783,
         3.4277867840557277,
         3.5602602599898643,
         3.6597136007583835,
         3.635824331533139,
         3.4662197516624884,
         3.522322219196389,
         3.6273452122202934,
         3.392746542874187,
         3.586545871445068,
         3.515892717883037,
         3.562848053277927,
         3.6387530708073283,
         3.6290547953927303,
         3.4567652248890877,
         3.5549105608016176,
         3.542951667525556,
         3.4513832615812916,
         3.3456662954841194,
         3.558445184223381,
         3.553811559813108,
         3.550164025092064,
         3.438510770394082,
         3.46692391577405,
         3.5180644254890585,
         3.648697774104143,
         3.546202339326872,
         3.5390128443593403,
         3.4463139498186557,
         3.5096040954125147,
         3.5659992085663106,
         3.5619668630080263,
         3.4700070806642325,
         3.577150333102293,
         3.6186467350248006,
         3.393445885652141,
         3.483630361441171
        ]
       ],
       "encoder": "json",
       "name": "ABC_GAN_1 Metrics",
       "version": 1
      }
     },
     "metadata": {
      "scrapbook": {
       "data": true,
       "display": false,
       "name": "ABC_GAN_1 Metrics"
      }
     },
     "output_type": "display_data"
    },
    {
     "name": "stdout",
     "output_type": "stream",
     "text": [
      "MSE\n",
      "0.12254424133766288\n"
     ]
    }
   ],
   "source": [
    "ABC_GAN1_metrics=ABC_train_test2.test_generator(gen,test_data,prior_model,variance,bias,\"1\",device)\n",
    "sb.glue(\"ABC_GAN_1 Metrics\",ABC_GAN1_metrics)\n",
    "\n",
    "print(\"MSE\")\n",
    "print(mean(ABC_GAN1_metrics[0]))"
   ]
  },
  {
   "cell_type": "code",
   "execution_count": 14,
   "id": "eb22ce5c",
   "metadata": {
    "execution": {
     "iopub.execute_input": "2022-06-12T05:05:58.268494Z",
     "iopub.status.busy": "2022-06-12T05:05:58.268009Z",
     "iopub.status.idle": "2022-06-12T05:05:58.588826Z",
     "shell.execute_reply": "2022-06-12T05:05:58.589197Z"
    },
    "papermill": {
     "duration": 0.336537,
     "end_time": "2022-06-12T05:05:58.589317",
     "exception": false,
     "start_time": "2022-06-12T05:05:58.252780",
     "status": "completed"
    },
    "tags": []
   },
   "outputs": [
    {
     "data": {
      "image/png": "[encoded data removed]",
      "text/plain": [
       "<Figure size 432x288 with 1 Axes>"
      ]
     },
     "metadata": {
      "needs_background": "light"
     },
     "output_type": "display_data"
    },
    {
     "data": {
      "image/png": "[encoded data removed]",
      "text/plain": [
       "<Figure size 432x288 with 1 Axes>"
      ]
     },
     "metadata": {
      "needs_background": "light"
     },
     "output_type": "display_data"
    },
    {
     "data": {
      "image/png": "[encoded data removed]",
      "text/plain": [
       "<Figure size 432x288 with 1 Axes>"
      ]
     },
     "metadata": {
      "needs_background": "light"
     },
     "output_type": "display_data"
    },
    {
     "data": {
      "image/png": "[encoded data removed]",
      "text/plain": [
       "<Figure size 432x288 with 1 Axes>"
      ]
     },
     "metadata": {
      "needs_background": "light"
     },
     "output_type": "display_data"
    }
   ],
   "source": [
    "sanityChecks.discProbVsError(train_data,disc,device)\n",
    "sanityChecks.discProbVsError(test_data,disc,device)"
   ]
  },
  {
   "cell_type": "markdown",
   "id": "130f3a4d",
   "metadata": {
    "id": "130f3a4d",
    "papermill": {
     "duration": 0.01472,
     "end_time": "2022-06-12T05:05:58.619297",
     "exception": false,
     "start_time": "2022-06-12T05:05:58.604577",
     "status": "completed"
    },
    "tags": []
   },
   "source": [
    "# ABC - GAN Model with skip connection"
   ]
  },
  {
   "cell_type": "code",
   "execution_count": 15,
   "id": "4e43dad1",
   "metadata": {
    "execution": {
     "iopub.execute_input": "2022-06-12T05:05:58.652220Z",
     "iopub.status.busy": "2022-06-12T05:05:58.651828Z",
     "iopub.status.idle": "2022-06-12T05:05:58.654157Z",
     "shell.execute_reply": "2022-06-12T05:05:58.654399Z"
    },
    "id": "4e43dad1",
    "papermill": {
     "duration": 0.020322,
     "end_time": "2022-06-12T05:05:58.654508",
     "exception": false,
     "start_time": "2022-06-12T05:05:58.634186",
     "status": "completed"
    },
    "tags": []
   },
   "outputs": [],
   "source": [
    "#Generator\n",
    "gen3 = network.GeneratorWithSkipConnection(n_features+1).to(device)\n",
    "constraints=network.weightConstraint()\n",
    "#Discriminator \n",
    "disc3 = network.Discriminator(n_features+1).to(device)\n",
    "\n",
    "criterion = torch.nn.BCELoss()\n",
    "gen_opt = torch.optim.Adam(gen3.parameters(), lr=0.001, betas=(0.5, 0.999))\n",
    "disc_opt = torch.optim.Adam(disc3.parameters(), lr=0.001, betas=(0.5, 0.999))\n"
   ]
  },
  {
   "cell_type": "code",
   "execution_count": 16,
   "id": "26acbc37",
   "metadata": {
    "execution": {
     "iopub.execute_input": "2022-06-12T05:05:58.687123Z",
     "iopub.status.busy": "2022-06-12T05:05:58.686747Z",
     "iopub.status.idle": "2022-06-12T05:09:00.173048Z",
     "shell.execute_reply": "2022-06-12T05:09:00.173422Z"
    },
    "id": "26acbc37",
    "papermill": {
     "duration": 181.50396,
     "end_time": "2022-06-12T05:09:00.173546",
     "exception": false,
     "start_time": "2022-06-12T05:05:58.669586",
     "status": "completed"
    },
    "tags": []
   },
   "outputs": [
    {
     "data": {
      "image/png": "[encoded data removed]",
      "text/plain": [
       "<Figure size 432x288 with 1 Axes>"
      ]
     },
     "metadata": {
      "needs_background": "light"
     },
     "output_type": "display_data"
    },
    {
     "data": {
      "image/png": "[encoded data removed]",
      "text/plain": [
       "<Figure size 432x288 with 1 Axes>"
      ]
     },
     "metadata": {
      "needs_background": "light"
     },
     "output_type": "display_data"
    }
   ],
   "source": [
    "ABC_train_test2.training_GAN_skip_connection(disc3,gen3,disc_opt,gen_opt,train_data,batch_size,n_epochs,criterion,prior_model,variance,bias,device)"
   ]
  },
  {
   "cell_type": "code",
   "execution_count": 17,
   "id": "c5e0717b",
   "metadata": {
    "execution": {
     "iopub.execute_input": "2022-06-12T05:09:00.208390Z",
     "iopub.status.busy": "2022-06-12T05:09:00.207988Z",
     "iopub.status.idle": "2022-06-12T05:09:01.044143Z",
     "shell.execute_reply": "2022-06-12T05:09:01.044556Z"
    },
    "id": "c5e0717b",
    "papermill": {
     "duration": 0.854963,
     "end_time": "2022-06-12T05:09:01.044677",
     "exception": false,
     "start_time": "2022-06-12T05:09:00.189714",
     "status": "completed"
    },
    "tags": []
   },
   "outputs": [
    {
     "data": {
      "application/scrapbook.scrap.json+json": {
       "data": 0.12787823423181258,
       "encoder": "json",
       "name": "ABC-GAN Model 3 MSE",
       "version": 1
      }
     },
     "metadata": {
      "scrapbook": {
       "data": true,
       "display": false,
       "name": "ABC-GAN Model 3 MSE"
      }
     },
     "output_type": "display_data"
    },
    {
     "data": {
      "application/scrapbook.scrap.json+json": {
       "data": 0.2279576889989788,
       "encoder": "json",
       "name": "ABC-GAN Model 3 MAE",
       "version": 1
      }
     },
     "metadata": {
      "scrapbook": {
       "data": true,
       "display": false,
       "name": "ABC-GAN Model 3 MAE"
      }
     },
     "output_type": "display_data"
    },
    {
     "data": {
      "application/scrapbook.scrap.json+json": {
       "data": 23.251684277895837,
       "encoder": "json",
       "name": "ABC-GAN Model 3 Manhattan Distance",
       "version": 1
      }
     },
     "metadata": {
      "scrapbook": {
       "data": true,
       "display": false,
       "name": "ABC-GAN Model 3 Manhattan Distance"
      }
     },
     "output_type": "display_data"
    },
    {
     "data": {
      "application/scrapbook.scrap.json+json": {
       "data": 3.610456582521636,
       "encoder": "json",
       "name": "ABC-GAN Model 3 Euclidean distance",
       "version": 1
      }
     },
     "metadata": {
      "scrapbook": {
       "data": true,
       "display": false,
       "name": "ABC-GAN Model 3 Euclidean distance"
      }
     },
     "output_type": "display_data"
    },
    {
     "data": {
      "application/scrapbook.scrap.json+json": {
       "data": [
        [
         0.12867857564383867,
         0.1334479294660944,
         0.1326421074965494,
         0.12062170059798291,
         0.12605875709226125,
         0.1155772885876186,
         0.12299586057768466,
         0.13311931070345837,
         0.13760437968725475,
         0.12210999881598496,
         0.13292519382077742,
         0.12136793722730521,
         0.12156430455516631,
         0.12436633688827002,
         0.12223400012896521,
         0.12679283795939936,
         0.1312731703870413,
         0.1293284936313113,
         0.1294043574933492,
         0.1364916713585769,
         0.12422596347040457,
         0.11994248367702798,
         0.12595910407106953,
         0.13100906206686644,
         0.12990667111140397,
         0.1398823422185149,
         0.11158568347277288,
         0.13499253428693359,
         0.13161039155189422,
         0.1270705545259717,
         0.13510722231972627,
         0.13060804210913823,
         0.11761175897439419,
         0.12328434334335296,
         0.12436279435810098,
         0.12156153934825249,
         0.12727636844650345,
         0.12490983606288802,
         0.12242133330992278,
         0.1327768306927662,
         0.13768505233140815,
         0.1275187859395972,
         0.11530010083032412,
         0.1247601730652252,
         0.11814902028853828,
         0.13045582019513288,
         0.13149038228070664,
         0.13588151184295952,
         0.12887525076724038,
         0.1270764306337713,
         0.12871799587569052,
         0.12468935347566149,
         0.12674996049341755,
         0.12392301803178833,
         0.13260703290902048,
         0.12415531792376043,
         0.13713772086405013,
         0.12641437783295245,
         0.12868801133023955,
         0.13488755908075523,
         0.1355881870185099,
         0.12525463240408904,
         0.13205170427825,
         0.133674364475772,
         0.13491415530653286,
         0.1257157018989754,
         0.13319088089380382,
         0.13039655848856663,
         0.12188189054971435,
         0.12178803935134781,
         0.12535828028372195,
         0.12064377141496037,
         0.1253102105505003,
         0.1321928152233062,
         0.1292800166887155,
         0.1267979397415177,
         0.1349070771735989,
         0.1322907760714134,
         0.11651779306769985,
         0.1222311843446348,
         0.124454983705477,
         0.13986301231338544,
         0.11929756182775315,
         0.12555556166747617,
         0.11685040860510504,
         0.12143972267335935,
         0.13752931692387535,
         0.1363015037278914,
         0.125990898769593,
         0.13131083719950867,
         0.12266321614584588,
         0.13452169746164086,
         0.13484284022336168,
         0.1358339919850359,
         0.12799390625221438,
         0.11786328604602214,
         0.11830799159085448,
         0.14586227021914724,
         0.1326913365428742,
         0.12879115254616952
        ],
        [
         0.23684948859918936,
         0.22885314265594764,
         0.23518107387730303,
         0.22951736021786928,
         0.22837907011967665,
         0.22147780340895348,
         0.2246083376710029,
         0.23070755186399408,
         0.23309239725052727,
         0.218701386002495,
         0.2338433500708026,
         0.22621949154007084,
         0.2263912220403333,
         0.2240810788912224,
         0.22713000614049972,
         0.2297365145903884,
         0.23095222166282872,
         0.2339426237615008,
         0.22900939822270006,
         0.23074606490120583,
         0.2292307785109562,
         0.22687915400328004,
         0.22774368946385734,
         0.2303274919041524,
         0.23442459825937653,
         0.23057115850422313,
         0.21654417209199392,
         0.2372983097847478,
         0.22324669863298244,
         0.22338968309044255,
         0.23765251367334642,
         0.22772301362790898,
         0.2223453344412002,
         0.21318879515370903,
         0.22599438083011145,
         0.2212837375152637,
         0.23056583847923606,
         0.22350243223356267,
         0.22161505376810536,
         0.2306814735170965,
         0.23588870157140726,
         0.22928377706557512,
         0.21938515733927488,
         0.22759030209671632,
         0.2224965717771328,
         0.23082422224037788,
         0.226957999772447,
         0.23703164105102711,
         0.23076234620027974,
         0.22577020615412324,
         0.21819404580210353,
         0.2288250996749483,
         0.2274783391907227,
         0.22207398206799053,
         0.2318270652938415,
         0.2171275187101142,
         0.23506210983603024,
         0.2206158862796192,
         0.22626971349339275,
         0.2305388503762729,
         0.23197216673881985,
         0.22844280980016088,
         0.22757489780219747,
         0.23295698015421046,
         0.2368991960607031,
         0.21901487878651596,
         0.23373122219288467,
         0.23460162100473456,
         0.22468670740650565,
         0.22092160372538308,
         0.22826923778755406,
         0.2246047628166921,
         0.23441121323655048,
         0.23521717263422176,
         0.22448799498014005,
         0.22887520946781426,
         0.2351849997854408,
         0.22965508820854275,
         0.21958955074203948,
         0.22192807270980933,
         0.22342894224486515,
         0.2408251527368146,
         0.2184130304182569,
         0.22380722224639327,
         0.21554056896517673,
         0.21891396509154754,
         0.23602017868018033,
         0.24564684921985164,
         0.22571352608136686,
         0.2290757632832609,
         0.2266334174566117,
         0.22733829822391272,
         0.23337897448343972,
         0.23555718356853023,
         0.22400473870848323,
         0.2225115184361736,
         0.21545653470664047,
         0.23744271971358388,
         0.23633657010527803,
         0.22906693251913085
        ],
        [
         24.158647837117314,
         23.343020550906658,
         23.98846953548491,
         23.410770742222667,
         23.294665152207017,
         22.590735947713256,
         22.910050442442298,
         23.532170290127397,
         23.77542451955378,
         22.30754137225449,
         23.852021707221866,
         23.074388137087226,
         23.091904648113996,
         22.856270046904683,
         23.16726062633097,
         23.43312448821962,
         23.55712660960853,
         23.86214762367308,
         23.358958618715405,
         23.536098619922996,
         23.381539408117533,
         23.141673708334565,
         23.22985632531345,
         23.493404174223542,
         23.911309022456408,
         23.51825816743076,
         22.08750555338338,
         24.204427598044276,
         22.771163260564208,
         22.78574767522514,
         24.240556394681334,
         23.227747390046716,
         22.67922411300242,
         21.74525710567832,
         23.05142684467137,
         22.570941226556897,
         23.517715524882078,
         22.79724808782339,
         22.604735484346747,
         23.529510298743844,
         24.06064756028354,
         23.386945260688663,
         22.377286048606038,
         23.214210813865066,
         22.694650321267545,
         23.544070668518543,
         23.149715976789594,
         24.177227387204766,
         23.537759312428534,
         23.02856102772057,
         22.25579267181456,
         23.340160166844726,
         23.202790597453713,
         22.651546170935035,
         23.646360659971833,
         22.14700690843165,
         23.976335203275084,
         22.50282040052116,
         23.07951077632606,
         23.514962738379836,
         23.661161007359624,
         23.30116659961641,
         23.21263957582414,
         23.761611975729465,
         24.163717998191714,
         22.339517636224627,
         23.840584663674235,
         23.929365342482924,
         22.918044155463576,
         22.534003579989076,
         23.283462254330516,
         22.909685807302594,
         23.90994375012815,
         23.99215160869062,
         22.897775487974286,
         23.345271365717053,
         23.988869978114963,
         23.42481899727136,
         22.39813417568803,
         22.636663416400552,
         22.789752108976245,
         24.564165579155087,
         22.278129102662206,
         22.828336669132113,
         21.985138034448028,
         22.32922443933785,
         24.074058225378394,
         25.055978620424867,
         23.02277966029942,
         23.36572785489261,
         23.116608580574393,
         23.188506418839097,
         23.804655397310853,
         24.026832723990083,
         22.84848334826529,
         22.696174880489707,
         21.97656654007733,
         24.219157410785556,
         24.10633015073836,
         23.364827116951346
        ],
        [
         3.6228738200041604,
         3.6894022287549006,
         3.6782461805387685,
         3.5076221947345254,
         3.5858044039532673,
         3.4334943477362967,
         3.5419737123422914,
         3.684856807496425,
         3.7464178528428973,
         3.5291953586094476,
         3.682169166363665,
         3.5184555698751017,
         3.5213007631593984,
         3.5616521956254434,
         3.5309868327642415,
         3.596229896969705,
         3.6592162247506237,
         3.6320113367655873,
         3.633076446253453,
         3.731239804485212,
         3.5596415934727563,
         3.497732599135738,
         3.584386783711977,
         3.655533385269566,
         3.6401209393869327,
         3.7773004786869304,
         3.373683404562857,
         3.7106924552254696,
         3.6639132001581602,
         3.600166185282162,
         3.7122684004004984,
         3.6499342864128517,
         3.463581876524389,
         3.54612507126046,
         3.5616014690762774,
         3.5212607136538114,
         3.6030805682836666,
         3.5694261833542065,
         3.533691553830374,
         3.68011368447527,
         3.747515888932777,
         3.606510247571593,
         3.429374620057287,
         3.5672871559005404,
         3.471483842599718,
         3.6478066916852305,
         3.6622423448799886,
         3.722890571583036,
         3.6256414023257344,
         3.600249425337732,
         3.6234287048761464,
         3.566274534373016,
         3.5956217779861923,
         3.555298558383306,
         3.6777598285804483,
         3.5586292906431773,
         3.7400598294857677,
         3.5908587467291375,
         3.623006645823939,
         3.7092493885201407,
         3.718870134313378,
         3.5743492422001917,
         3.670050931033723,
         3.6925309987227926,
         3.7096150529760297,
         3.5809218915937677,
         3.685847236547927,
         3.6469780594121755,
         3.5258974511563523,
         3.524539688219935,
         3.5758278186931256,
         3.5079430845334363,
         3.5751421616700827,
         3.6720113225284625,
         3.6313305691232487,
         3.596302247258259,
         3.7095177411231077,
         3.6733716337016826,
         3.447435988224493,
         3.5309461625961887,
         3.562921320764556,
         3.7770394829767553,
         3.4883163999888,
         3.578640424809759,
         3.4523530638856617,
         3.5194959458255743,
         3.7453958837798824,
         3.7286396152276393,
         3.5848391420673935,
         3.6597411649391116,
         3.5371808049456956,
         3.70421559052485,
         3.708634479533254,
         3.722239538567294,
         3.6132227218545308,
         3.467283544317404,
         3.4738185246594497,
         3.857194778897355,
         3.6789286928905227,
         3.6244582436150767
        ]
       ],
       "encoder": "json",
       "name": "ABC_GAN_3 Metrics",
       "version": 1
      }
     },
     "metadata": {
      "scrapbook": {
       "data": true,
       "display": false,
       "name": "ABC_GAN_3 Metrics"
      }
     },
     "output_type": "display_data"
    },
    {
     "name": "stdout",
     "output_type": "stream",
     "text": [
      "MSE\n",
      "0.12787823423181258\n"
     ]
    }
   ],
   "source": [
    "ABC_GAN3_metrics=ABC_train_test2.test_generator(gen3,test_data,prior_model,variance,bias,\"3\",device)\n",
    "sb.glue(\"ABC_GAN_3 Metrics\",ABC_GAN3_metrics)\n",
    "\n",
    "print(\"MSE\")\n",
    "print(mean(ABC_GAN3_metrics[0]))"
   ]
  },
  {
   "cell_type": "code",
   "execution_count": 18,
   "id": "c8e46b48",
   "metadata": {
    "execution": {
     "iopub.execute_input": "2022-06-12T05:09:01.082019Z",
     "iopub.status.busy": "2022-06-12T05:09:01.081655Z",
     "iopub.status.idle": "2022-06-12T05:09:01.411509Z",
     "shell.execute_reply": "2022-06-12T05:09:01.411788Z"
    },
    "id": "c8e46b48",
    "papermill": {
     "duration": 0.349619,
     "end_time": "2022-06-12T05:09:01.411913",
     "exception": false,
     "start_time": "2022-06-12T05:09:01.062294",
     "status": "completed"
    },
    "tags": []
   },
   "outputs": [
    {
     "data": {
      "image/png": "[encoded data removed]",
      "text/plain": [
       "<Figure size 432x288 with 1 Axes>"
      ]
     },
     "metadata": {
      "needs_background": "light"
     },
     "output_type": "display_data"
    },
    {
     "data": {
      "image/png": "[encoded data removed]",
      "text/plain": [
       "<Figure size 432x288 with 1 Axes>"
      ]
     },
     "metadata": {
      "needs_background": "light"
     },
     "output_type": "display_data"
    },
    {
     "data": {
      "image/png": "[encoded data removed]",
      "text/plain": [
       "<Figure size 432x288 with 1 Axes>"
      ]
     },
     "metadata": {
      "needs_background": "light"
     },
     "output_type": "display_data"
    },
    {
     "data": {
      "image/png": "[encoded data removed]",
      "text/plain": [
       "<Figure size 432x288 with 1 Axes>"
      ]
     },
     "metadata": {
      "needs_background": "light"
     },
     "output_type": "display_data"
    }
   ],
   "source": [
    "sanityChecks.discProbVsError(train_data,disc3,device)\n",
    "sanityChecks.discProbVsError(test_data,disc3,device)"
   ]
  },
  {
   "cell_type": "markdown",
   "id": "a5bd74c3",
   "metadata": {
    "id": "a5bd74c3",
    "papermill": {
     "duration": 0.019373,
     "end_time": "2022-06-12T05:09:01.451418",
     "exception": false,
     "start_time": "2022-06-12T05:09:01.432045",
     "status": "completed"
    },
    "tags": []
   },
   "source": [
    "## Skip Connection Model Analysis - ABC-GAN "
   ]
  },
  {
   "cell_type": "markdown",
   "id": "5744a8bf",
   "metadata": {
    "id": "5744a8bf",
    "papermill": {
     "duration": 0.01924,
     "end_time": "2022-06-12T05:09:01.489953",
     "exception": false,
     "start_time": "2022-06-12T05:09:01.470713",
     "status": "completed"
    },
    "tags": []
   },
   "source": [
    "### Weight Analysis \n",
    "\n",
    "Study the weights of the skip connection layer\n",
    "\n",
    "Equation of the skip connection is \n",
    "\n",
    "$output = y_{gan} * w + y_{abc} * (1-w)$"
   ]
  },
  {
   "cell_type": "code",
   "execution_count": 19,
   "id": "52c31dea",
   "metadata": {
    "execution": {
     "iopub.execute_input": "2022-06-12T05:09:01.531491Z",
     "iopub.status.busy": "2022-06-12T05:09:01.531127Z",
     "iopub.status.idle": "2022-06-12T05:09:01.534490Z",
     "shell.execute_reply": "2022-06-12T05:09:01.534730Z"
    },
    "id": "52c31dea",
    "papermill": {
     "duration": 0.025597,
     "end_time": "2022-06-12T05:09:01.534843",
     "exception": false,
     "start_time": "2022-06-12T05:09:01.509246",
     "status": "completed"
    },
    "tags": []
   },
   "outputs": [
    {
     "name": "stdout",
     "output_type": "stream",
     "text": [
      "Weight of the node at skip connection\n",
      "Parameter containing:\n",
      "tensor([[0.3854]], requires_grad=True)\n"
     ]
    },
    {
     "data": {
      "application/scrapbook.scrap.json+json": {
       "data": 0.38537147641181946,
       "encoder": "json",
       "name": "Skip Connection Weight",
       "version": 1
      }
     },
     "metadata": {
      "scrapbook": {
       "data": true,
       "display": false,
       "name": "Skip Connection Weight"
      }
     },
     "output_type": "display_data"
    }
   ],
   "source": [
    "print(\"Weight of the node at skip connection\")\n",
    "for name,param in gen3.named_parameters():\n",
    "    if(name == \"skipNode.weight\"):\n",
    "        print(param)\n",
    "        sb.glue(\"Skip Connection Weight\",param.item())"
   ]
  }
 ],
 "metadata": {
  "colab": {
   "collapsed_sections": [],
   "name": "ABC_GAN_Model-Catboost_Pre-gen.ipynb",
   "provenance": []
  },
  "interpreter": {
   "hash": "31f2aee4e71d21fbe5cf8b01ff0e069b9275f58929596ceb00d14d90e3e16cd6"
  },
  "kernelspec": {
   "display_name": "Python 3 (ipykernel)",
   "language": "python",
   "name": "python3"
  },
  "language_info": {
   "codemirror_mode": {
    "name": "ipython",
    "version": 3
   },
   "file_extension": ".py",
   "mimetype": "text/x-python",
   "name": "python",
   "nbconvert_exporter": "python",
   "pygments_lexer": "ipython3",
   "version": "3.8.11"
  },
  "papermill": {
   "default_parameters": {},
   "duration": 249.819454,
   "end_time": "2022-06-12T05:09:01.862315",
   "environment_variables": {},
   "exception": null,
   "input_path": "ABC_GAN-Catboost.ipynb",
   "output_path": "./ABC_GAN_Catboost/ABC-GAN_output_5_4.ipynb",
   "parameters": {
    "bias": 0.1,
    "variance": 0.1
   },
   "start_time": "2022-06-12T05:04:52.042861",
   "version": "2.3.3"
  }
 },
 "nbformat": 4,
 "nbformat_minor": 5
}