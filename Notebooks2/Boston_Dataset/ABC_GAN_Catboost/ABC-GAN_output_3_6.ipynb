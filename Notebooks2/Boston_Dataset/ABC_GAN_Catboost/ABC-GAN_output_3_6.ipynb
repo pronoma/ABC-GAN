{
 "cells": [
  {
   "cell_type": "markdown",
   "id": "622780e6",
   "metadata": {
    "id": "622780e6",
    "papermill": {
     "duration": 0.026199,
     "end_time": "2022-06-12T02:32:50.002487",
     "exception": false,
     "start_time": "2022-06-12T02:32:49.976288",
     "status": "completed"
    },
    "tags": []
   },
   "source": [
    "## Import Libraries "
   ]
  },
  {
   "cell_type": "code",
   "execution_count": 1,
   "id": "a62397e3",
   "metadata": {
    "execution": {
     "iopub.execute_input": "2022-06-12T02:32:50.037434Z",
     "iopub.status.busy": "2022-06-12T02:32:50.036874Z",
     "iopub.status.idle": "2022-06-12T02:32:50.039342Z",
     "shell.execute_reply": "2022-06-12T02:32:50.039675Z"
    },
    "id": "a62397e3",
    "papermill": {
     "duration": 0.021971,
     "end_time": "2022-06-12T02:32:50.039885",
     "exception": false,
     "start_time": "2022-06-12T02:32:50.017914",
     "status": "completed"
    },
    "tags": []
   },
   "outputs": [],
   "source": [
    "import warnings\n",
    "import sys\n",
    "sys.path.insert(0, '../../src')\n",
    "warnings.filterwarnings('ignore')"
   ]
  },
  {
   "cell_type": "code",
   "execution_count": 2,
   "id": "d6a4e155",
   "metadata": {
    "execution": {
     "iopub.execute_input": "2022-06-12T02:32:50.060769Z",
     "iopub.status.busy": "2022-06-12T02:32:50.060319Z",
     "iopub.status.idle": "2022-06-12T02:32:51.794578Z",
     "shell.execute_reply": "2022-06-12T02:32:51.794825Z"
    },
    "id": "d6a4e155",
    "papermill": {
     "duration": 1.745335,
     "end_time": "2022-06-12T02:32:51.794945",
     "exception": false,
     "start_time": "2022-06-12T02:32:50.049610",
     "status": "completed"
    },
    "tags": []
   },
   "outputs": [],
   "source": [
    "import ABC_train_test2\n",
    "import bostonDataset\n",
    "import network\n",
    "import dataset\n",
    "import sanityChecks\n",
    "import torch \n",
    "import scrapbook as sb\n",
    "from statistics import mean \n",
    "import catboost as ctb \n",
    "from sklearn.model_selection import train_test_split\n",
    "from sklearn.metrics import mean_squared_error,mean_absolute_error\n",
    "import numpy as np"
   ]
  },
  {
   "cell_type": "markdown",
   "id": "2fa5b0f7",
   "metadata": {
    "id": "2fa5b0f7",
    "papermill": {
     "duration": 0.006682,
     "end_time": "2022-06-12T02:32:51.808597",
     "exception": false,
     "start_time": "2022-06-12T02:32:51.801915",
     "status": "completed"
    },
    "tags": []
   },
   "source": [
    "## Parameters "
   ]
  },
  {
   "cell_type": "code",
   "execution_count": 3,
   "id": "783186fb",
   "metadata": {
    "execution": {
     "iopub.execute_input": "2022-06-12T02:32:51.823951Z",
     "iopub.status.busy": "2022-06-12T02:32:51.823592Z",
     "iopub.status.idle": "2022-06-12T02:32:51.824965Z",
     "shell.execute_reply": "2022-06-12T02:32:51.825202Z"
    },
    "id": "783186fb",
    "papermill": {
     "duration": 0.010015,
     "end_time": "2022-06-12T02:32:51.825311",
     "exception": false,
     "start_time": "2022-06-12T02:32:51.815296",
     "status": "completed"
    },
    "tags": [
     "parameters"
    ]
   },
   "outputs": [],
   "source": [
    "variance = 1\n",
    "bias = 1 "
   ]
  },
  {
   "cell_type": "code",
   "execution_count": 4,
   "id": "cdf369c4",
   "metadata": {
    "execution": {
     "iopub.execute_input": "2022-06-12T02:32:51.840451Z",
     "iopub.status.busy": "2022-06-12T02:32:51.840098Z",
     "iopub.status.idle": "2022-06-12T02:32:51.841394Z",
     "shell.execute_reply": "2022-06-12T02:32:51.841634Z"
    },
    "papermill": {
     "duration": 0.009706,
     "end_time": "2022-06-12T02:32:51.841740",
     "exception": false,
     "start_time": "2022-06-12T02:32:51.832034",
     "status": "completed"
    },
    "tags": [
     "injected-parameters"
    ]
   },
   "outputs": [],
   "source": [
    "# Parameters\n",
    "variance = 1\n",
    "bias = 0.01\n"
   ]
  },
  {
   "cell_type": "markdown",
   "id": "391cdbfd",
   "metadata": {
    "id": "391cdbfd",
    "papermill": {
     "duration": 0.006693,
     "end_time": "2022-06-12T02:32:51.855291",
     "exception": false,
     "start_time": "2022-06-12T02:32:51.848598",
     "status": "completed"
    },
    "tags": []
   },
   "source": [
    "## Dataset \n"
   ]
  },
  {
   "cell_type": "code",
   "execution_count": 5,
   "id": "5b51f161",
   "metadata": {
    "execution": {
     "iopub.execute_input": "2022-06-12T02:32:51.870659Z",
     "iopub.status.busy": "2022-06-12T02:32:51.870289Z",
     "iopub.status.idle": "2022-06-12T02:32:51.871620Z",
     "shell.execute_reply": "2022-06-12T02:32:51.871858Z"
    },
    "id": "5b51f161",
    "papermill": {
     "duration": 0.009926,
     "end_time": "2022-06-12T02:32:51.871962",
     "exception": false,
     "start_time": "2022-06-12T02:32:51.862036",
     "status": "completed"
    },
    "tags": []
   },
   "outputs": [],
   "source": [
    "#Parameters \n",
    "n_features = 13\n",
    "n_samples= 506\n",
    "n_target = 1 "
   ]
  },
  {
   "cell_type": "code",
   "execution_count": 6,
   "id": "5d6eced4",
   "metadata": {
    "execution": {
     "iopub.execute_input": "2022-06-12T02:32:51.887447Z",
     "iopub.status.busy": "2022-06-12T02:32:51.887078Z",
     "iopub.status.idle": "2022-06-12T02:32:51.897799Z",
     "shell.execute_reply": "2022-06-12T02:32:51.898048Z"
    },
    "id": "5d6eced4",
    "papermill": {
     "duration": 0.019399,
     "end_time": "2022-06-12T02:32:51.898158",
     "exception": false,
     "start_time": "2022-06-12T02:32:51.878759",
     "status": "completed"
    },
    "tags": []
   },
   "outputs": [
    {
     "name": "stdout",
     "output_type": "stream",
     "text": [
      "         X1        X2        X3        X4        X5        X6        X7  \\\n",
      "0 -0.419782  0.284830 -1.287909 -0.272599 -0.144217  0.413672 -0.120013   \n",
      "1 -0.417339 -0.487722 -0.593381 -0.272599 -0.740262  0.194274  0.367166   \n",
      "2 -0.417342 -0.487722 -0.593381 -0.272599 -0.740262  1.282714 -0.265812   \n",
      "3 -0.416750 -0.487722 -1.306878 -0.272599 -0.835284  1.016303 -0.809889   \n",
      "4 -0.412482 -0.487722 -1.306878 -0.272599 -0.835284  1.228577 -0.511180   \n",
      "\n",
      "         X8        X9       X10       X11       X12       X13         Y  \n",
      "0  0.140214 -0.982843 -0.666608 -1.459000  0.441052 -1.075562  0.159686  \n",
      "1  0.557160 -0.867883 -0.987329 -0.303094  0.441052 -0.492439 -0.101524  \n",
      "2  0.557160 -0.867883 -0.987329 -0.303094  0.396427 -1.208727  1.324247  \n",
      "3  1.077737 -0.752922 -1.106115  0.113032  0.416163 -1.361517  1.182758  \n",
      "4  1.077737 -0.752922 -1.106115  0.113032  0.441052 -1.026501  1.487503  \n"
     ]
    }
   ],
   "source": [
    "X,Y = bostonDataset.boston_data()"
   ]
  },
  {
   "cell_type": "code",
   "execution_count": 7,
   "id": "fe007438",
   "metadata": {
    "execution": {
     "iopub.execute_input": "2022-06-12T02:32:51.914895Z",
     "iopub.status.busy": "2022-06-12T02:32:51.914513Z",
     "iopub.status.idle": "2022-06-12T02:32:51.916205Z",
     "shell.execute_reply": "2022-06-12T02:32:51.916441Z"
    },
    "id": "fe007438",
    "papermill": {
     "duration": 0.011121,
     "end_time": "2022-06-12T02:32:51.916545",
     "exception": false,
     "start_time": "2022-06-12T02:32:51.905424",
     "status": "completed"
    },
    "tags": []
   },
   "outputs": [],
   "source": [
    "#Train test split for dataset \n",
    "X_train,X_test,Y_train,Y_test = train_test_split(X,Y,test_size = 0.2)\n",
    "train_data = dataset.CustomDataset(X_train,Y_train)\n",
    "test_data = dataset.CustomDataset(X_test,Y_test)\n"
   ]
  },
  {
   "cell_type": "markdown",
   "id": "a9a1af34",
   "metadata": {
    "id": "a9a1af34",
    "papermill": {
     "duration": 0.007005,
     "end_time": "2022-06-12T02:32:51.930628",
     "exception": false,
     "start_time": "2022-06-12T02:32:51.923623",
     "status": "completed"
    },
    "tags": []
   },
   "source": [
    "## Training Parameters "
   ]
  },
  {
   "cell_type": "code",
   "execution_count": 8,
   "id": "952b7fc8",
   "metadata": {
    "execution": {
     "iopub.execute_input": "2022-06-12T02:32:51.946746Z",
     "iopub.status.busy": "2022-06-12T02:32:51.946388Z",
     "iopub.status.idle": "2022-06-12T02:32:51.947781Z",
     "shell.execute_reply": "2022-06-12T02:32:51.948027Z"
    },
    "id": "952b7fc8",
    "papermill": {
     "duration": 0.010543,
     "end_time": "2022-06-12T02:32:51.948133",
     "exception": false,
     "start_time": "2022-06-12T02:32:51.937590",
     "status": "completed"
    },
    "tags": []
   },
   "outputs": [],
   "source": [
    "batch_size = 32\n",
    "n_epochs = 1000\n",
    "#Select the device \n",
    "device = torch.device('cuda' if torch.cuda.is_available() else 'cpu')"
   ]
  },
  {
   "cell_type": "markdown",
   "id": "a95e1600",
   "metadata": {
    "id": "a95e1600",
    "papermill": {
     "duration": 0.006986,
     "end_time": "2022-06-12T02:32:51.962282",
     "exception": false,
     "start_time": "2022-06-12T02:32:51.955296",
     "status": "completed"
    },
    "tags": []
   },
   "source": [
    "# ABC Pre-generator Model \n",
    "\n",
    "1. The catboost model is used as a pre-generator model for the ABC-GAN. \n",
    "2. The model is first trained on the entire dataset \n",
    "3. It generats X,Y pairs and we add some Gaussian noise with mean 0 and variance 1 to it which is then feed as input to the generator.\n"
   ]
  },
  {
   "cell_type": "code",
   "execution_count": 9,
   "id": "ff8ce7bd",
   "metadata": {
    "execution": {
     "iopub.execute_input": "2022-06-12T02:32:51.981040Z",
     "iopub.status.busy": "2022-06-12T02:32:51.980654Z",
     "iopub.status.idle": "2022-06-12T02:45:33.010209Z",
     "shell.execute_reply": "2022-06-12T02:45:33.010486Z"
    },
    "id": "ff8ce7bd",
    "papermill": {
     "duration": 761.041266,
     "end_time": "2022-06-12T02:45:33.010609",
     "exception": false,
     "start_time": "2022-06-12T02:32:51.969343",
     "status": "completed"
    },
    "tags": []
   },
   "outputs": [
    {
     "name": "stdout",
     "output_type": "stream",
     "text": [
      "Learning rate set to 0.033215\n",
      "0:\tlearn: 0.9984236\ttotal: 70ms\tremaining: 1m 9s\n",
      "1:\tlearn: 0.9800276\ttotal: 71.4ms\tremaining: 35.6s\n",
      "2:\tlearn: 0.9601851\ttotal: 72.7ms\tremaining: 24.2s\n",
      "3:\tlearn: 0.9436694\ttotal: 73.8ms\tremaining: 18.4s\n",
      "4:\tlearn: 0.9275517\ttotal: 75ms\tremaining: 14.9s\n",
      "5:\tlearn: 0.9130825\ttotal: 76.2ms\tremaining: 12.6s\n",
      "6:\tlearn: 0.8955652\ttotal: 77.2ms\tremaining: 11s\n",
      "7:\tlearn: 0.8789848\ttotal: 78.3ms\tremaining: 9.7s\n",
      "8:\tlearn: 0.8626065\ttotal: 79.3ms\tremaining: 8.73s\n",
      "9:\tlearn: 0.8462768\ttotal: 80.4ms\tremaining: 7.96s\n",
      "10:\tlearn: 0.8303836\ttotal: 81.4ms\tremaining: 7.32s\n",
      "11:\tlearn: 0.8152616\ttotal: 82.4ms\tremaining: 6.78s\n",
      "12:\tlearn: 0.8011620\ttotal: 83.4ms\tremaining: 6.33s\n",
      "13:\tlearn: 0.7861922\ttotal: 84.5ms\tremaining: 5.95s\n",
      "14:\tlearn: 0.7727628\ttotal: 85.5ms\tremaining: 5.61s\n",
      "15:\tlearn: 0.7590373\ttotal: 86.4ms\tremaining: 5.31s\n",
      "16:\tlearn: 0.7465107\ttotal: 87.5ms\tremaining: 5.06s\n",
      "17:\tlearn: 0.7333456\ttotal: 88.4ms\tremaining: 4.83s\n",
      "18:\tlearn: 0.7212591\ttotal: 89.3ms\tremaining: 4.61s\n",
      "19:\tlearn: 0.7084578\ttotal: 90.3ms\tremaining: 4.42s\n",
      "20:\tlearn: 0.6960014\ttotal: 91.2ms\tremaining: 4.25s\n",
      "21:\tlearn: 0.6858923\ttotal: 92.2ms\tremaining: 4.1s\n",
      "22:\tlearn: 0.6742781\ttotal: 93.1ms\tremaining: 3.95s\n",
      "23:\tlearn: 0.6647838\ttotal: 94ms\tremaining: 3.82s\n",
      "24:\tlearn: 0.6550751\ttotal: 94.8ms\tremaining: 3.7s\n",
      "25:\tlearn: 0.6440237\ttotal: 95.7ms\tremaining: 3.58s\n",
      "26:\tlearn: 0.6352007\ttotal: 96.7ms\tremaining: 3.49s\n",
      "27:\tlearn: 0.6255803\ttotal: 97.4ms\tremaining: 3.38s\n",
      "28:\tlearn: 0.6173563\ttotal: 98.3ms\tremaining: 3.29s\n",
      "29:\tlearn: 0.6072286\ttotal: 99.3ms\tremaining: 3.21s\n",
      "30:\tlearn: 0.5979556\ttotal: 100ms\tremaining: 3.13s\n",
      "31:\tlearn: 0.5882768\ttotal: 101ms\tremaining: 3.05s\n",
      "32:\tlearn: 0.5808239\ttotal: 102ms\tremaining: 2.98s\n",
      "33:\tlearn: 0.5735182\ttotal: 103ms\tremaining: 2.94s\n",
      "34:\tlearn: 0.5656316\ttotal: 104ms\tremaining: 2.88s\n",
      "35:\tlearn: 0.5580721\ttotal: 105ms\tremaining: 2.82s\n",
      "36:\tlearn: 0.5496274\ttotal: 106ms\tremaining: 2.76s\n",
      "37:\tlearn: 0.5421611\ttotal: 107ms\tremaining: 2.7s\n",
      "38:\tlearn: 0.5347091\ttotal: 108ms\tremaining: 2.65s\n",
      "39:\tlearn: 0.5272327\ttotal: 108ms\tremaining: 2.6s\n",
      "40:\tlearn: 0.5208461\ttotal: 109ms\tremaining: 2.55s\n"
     ]
    },
    {
     "name": "stdout",
     "output_type": "stream",
     "text": [
      "41:\tlearn: 0.5149751\ttotal: 110ms\tremaining: 2.52s\n",
      "42:\tlearn: 0.5075552\ttotal: 111ms\tremaining: 2.48s\n",
      "43:\tlearn: 0.5007656\ttotal: 113ms\tremaining: 2.45s\n",
      "44:\tlearn: 0.4948074\ttotal: 114ms\tremaining: 2.41s\n",
      "45:\tlearn: 0.4886951\ttotal: 115ms\tremaining: 2.38s\n",
      "46:\tlearn: 0.4845160\ttotal: 115ms\tremaining: 2.34s\n",
      "47:\tlearn: 0.4783087\ttotal: 116ms\tremaining: 2.3s\n",
      "48:\tlearn: 0.4735325\ttotal: 117ms\tremaining: 2.27s\n",
      "49:\tlearn: 0.4684578\ttotal: 118ms\tremaining: 2.24s\n",
      "50:\tlearn: 0.4641506\ttotal: 119ms\tremaining: 2.21s\n",
      "51:\tlearn: 0.4593285\ttotal: 119ms\tremaining: 2.17s\n",
      "52:\tlearn: 0.4543100\ttotal: 120ms\tremaining: 2.15s\n",
      "53:\tlearn: 0.4503615\ttotal: 121ms\tremaining: 2.12s\n",
      "54:\tlearn: 0.4454422\ttotal: 122ms\tremaining: 2.09s\n",
      "55:\tlearn: 0.4411449\ttotal: 122ms\tremaining: 2.06s\n",
      "56:\tlearn: 0.4378713\ttotal: 123ms\tremaining: 2.04s\n",
      "57:\tlearn: 0.4343589\ttotal: 124ms\tremaining: 2.01s\n",
      "58:\tlearn: 0.4307960\ttotal: 125ms\tremaining: 1.99s\n",
      "59:\tlearn: 0.4267512\ttotal: 125ms\tremaining: 1.96s\n",
      "60:\tlearn: 0.4226050\ttotal: 126ms\tremaining: 1.94s\n",
      "61:\tlearn: 0.4183450\ttotal: 127ms\tremaining: 1.92s\n",
      "62:\tlearn: 0.4156283\ttotal: 128ms\tremaining: 1.9s\n",
      "63:\tlearn: 0.4118529\ttotal: 128ms\tremaining: 1.88s\n",
      "64:\tlearn: 0.4085002\ttotal: 129ms\tremaining: 1.86s\n",
      "65:\tlearn: 0.4045110\ttotal: 130ms\tremaining: 1.84s\n",
      "66:\tlearn: 0.4007585\ttotal: 131ms\tremaining: 1.82s\n",
      "67:\tlearn: 0.3977086\ttotal: 132ms\tremaining: 1.81s\n",
      "68:\tlearn: 0.3939283\ttotal: 133ms\tremaining: 1.79s\n",
      "69:\tlearn: 0.3902275\ttotal: 134ms\tremaining: 1.78s\n",
      "70:\tlearn: 0.3864825\ttotal: 135ms\tremaining: 1.76s\n",
      "71:\tlearn: 0.3824840\ttotal: 135ms\tremaining: 1.74s\n",
      "72:\tlearn: 0.3792858\ttotal: 136ms\tremaining: 1.73s\n",
      "73:\tlearn: 0.3759370\ttotal: 137ms\tremaining: 1.71s\n",
      "74:\tlearn: 0.3733331\ttotal: 138ms\tremaining: 1.7s\n",
      "75:\tlearn: 0.3703280\ttotal: 139ms\tremaining: 1.69s\n",
      "76:\tlearn: 0.3667317\ttotal: 140ms\tremaining: 1.67s\n",
      "77:\tlearn: 0.3638011\ttotal: 141ms\tremaining: 1.66s\n",
      "78:\tlearn: 0.3610091\ttotal: 141ms\tremaining: 1.65s\n",
      "79:\tlearn: 0.3585303\ttotal: 142ms\tremaining: 1.63s\n",
      "80:\tlearn: 0.3560635\ttotal: 143ms\tremaining: 1.62s\n",
      "81:\tlearn: 0.3533424\ttotal: 144ms\tremaining: 1.61s\n",
      "82:\tlearn: 0.3512267\ttotal: 144ms\tremaining: 1.6s\n",
      "83:\tlearn: 0.3490067\ttotal: 145ms\tremaining: 1.58s\n",
      "84:\tlearn: 0.3470698\ttotal: 146ms\tremaining: 1.57s\n",
      "85:\tlearn: 0.3437681\ttotal: 147ms\tremaining: 1.56s\n",
      "86:\tlearn: 0.3409023\ttotal: 148ms\tremaining: 1.55s\n",
      "87:\tlearn: 0.3389799\ttotal: 148ms\tremaining: 1.54s\n",
      "88:\tlearn: 0.3365733\ttotal: 149ms\tremaining: 1.53s\n",
      "89:\tlearn: 0.3343707\ttotal: 150ms\tremaining: 1.52s\n",
      "90:\tlearn: 0.3326652\ttotal: 151ms\tremaining: 1.51s\n",
      "91:\tlearn: 0.3304357\ttotal: 152ms\tremaining: 1.5s\n",
      "92:\tlearn: 0.3290239\ttotal: 153ms\tremaining: 1.49s\n",
      "93:\tlearn: 0.3270169\ttotal: 153ms\tremaining: 1.48s\n",
      "94:\tlearn: 0.3243588\ttotal: 154ms\tremaining: 1.47s\n",
      "95:\tlearn: 0.3231805\ttotal: 155ms\tremaining: 1.46s\n",
      "96:\tlearn: 0.3218310\ttotal: 156ms\tremaining: 1.45s\n",
      "97:\tlearn: 0.3199355\ttotal: 157ms\tremaining: 1.44s\n",
      "98:\tlearn: 0.3189036\ttotal: 158ms\tremaining: 1.43s\n",
      "99:\tlearn: 0.3173124\ttotal: 159ms\tremaining: 1.43s\n",
      "100:\tlearn: 0.3149505\ttotal: 159ms\tremaining: 1.42s\n",
      "101:\tlearn: 0.3132077\ttotal: 160ms\tremaining: 1.41s\n",
      "102:\tlearn: 0.3115852\ttotal: 161ms\tremaining: 1.4s\n",
      "103:\tlearn: 0.3098178\ttotal: 162ms\tremaining: 1.4s\n",
      "104:\tlearn: 0.3082696\ttotal: 163ms\tremaining: 1.39s\n",
      "105:\tlearn: 0.3066569\ttotal: 164ms\tremaining: 1.38s\n",
      "106:\tlearn: 0.3049116\ttotal: 164ms\tremaining: 1.37s\n",
      "107:\tlearn: 0.3026782\ttotal: 165ms\tremaining: 1.36s\n",
      "108:\tlearn: 0.3012912\ttotal: 166ms\tremaining: 1.36s\n",
      "109:\tlearn: 0.3002076\ttotal: 167ms\tremaining: 1.35s\n",
      "110:\tlearn: 0.2982567\ttotal: 168ms\tremaining: 1.34s\n",
      "111:\tlearn: 0.2971591\ttotal: 169ms\tremaining: 1.34s\n",
      "112:\tlearn: 0.2954203\ttotal: 170ms\tremaining: 1.33s\n",
      "113:\tlearn: 0.2941471\ttotal: 171ms\tremaining: 1.33s\n",
      "114:\tlearn: 0.2926857\ttotal: 172ms\tremaining: 1.32s\n",
      "115:\tlearn: 0.2917319\ttotal: 173ms\tremaining: 1.31s\n",
      "116:\tlearn: 0.2902413\ttotal: 173ms\tremaining: 1.31s\n",
      "117:\tlearn: 0.2882346\ttotal: 174ms\tremaining: 1.3s\n",
      "118:\tlearn: 0.2868610\ttotal: 175ms\tremaining: 1.29s\n",
      "119:\tlearn: 0.2855034\ttotal: 176ms\tremaining: 1.29s\n",
      "120:\tlearn: 0.2841751\ttotal: 177ms\tremaining: 1.28s\n",
      "121:\tlearn: 0.2833991\ttotal: 178ms\tremaining: 1.28s\n",
      "122:\tlearn: 0.2820157\ttotal: 178ms\tremaining: 1.27s\n",
      "123:\tlearn: 0.2806809\ttotal: 179ms\tremaining: 1.26s\n",
      "124:\tlearn: 0.2795367\ttotal: 180ms\tremaining: 1.26s\n",
      "125:\tlearn: 0.2782439\ttotal: 181ms\tremaining: 1.25s\n",
      "126:\tlearn: 0.2768489\ttotal: 181ms\tremaining: 1.25s\n",
      "127:\tlearn: 0.2760254\ttotal: 182ms\tremaining: 1.24s\n",
      "128:\tlearn: 0.2746765\ttotal: 183ms\tremaining: 1.24s\n",
      "129:\tlearn: 0.2737838\ttotal: 184ms\tremaining: 1.23s\n",
      "130:\tlearn: 0.2724963\ttotal: 185ms\tremaining: 1.23s\n",
      "131:\tlearn: 0.2716244\ttotal: 186ms\tremaining: 1.22s\n",
      "132:\tlearn: 0.2705402\ttotal: 186ms\tremaining: 1.22s\n",
      "133:\tlearn: 0.2699111\ttotal: 187ms\tremaining: 1.21s\n",
      "134:\tlearn: 0.2691433\ttotal: 188ms\tremaining: 1.21s\n",
      "135:\tlearn: 0.2682452\ttotal: 189ms\tremaining: 1.2s\n",
      "136:\tlearn: 0.2674076\ttotal: 190ms\tremaining: 1.19s\n",
      "137:\tlearn: 0.2666082\ttotal: 191ms\tremaining: 1.19s\n",
      "138:\tlearn: 0.2655430\ttotal: 191ms\tremaining: 1.19s\n"
     ]
    },
    {
     "name": "stdout",
     "output_type": "stream",
     "text": [
      "139:\tlearn: 0.2645773\ttotal: 192ms\tremaining: 1.18s\n",
      "140:\tlearn: 0.2640144\ttotal: 193ms\tremaining: 1.18s\n",
      "141:\tlearn: 0.2627625\ttotal: 194ms\tremaining: 1.17s\n",
      "142:\tlearn: 0.2616411\ttotal: 195ms\tremaining: 1.17s\n",
      "143:\tlearn: 0.2605856\ttotal: 196ms\tremaining: 1.16s\n",
      "144:\tlearn: 0.2595312\ttotal: 196ms\tremaining: 1.16s\n",
      "145:\tlearn: 0.2586817\ttotal: 197ms\tremaining: 1.15s\n",
      "146:\tlearn: 0.2579600\ttotal: 198ms\tremaining: 1.15s\n",
      "147:\tlearn: 0.2574639\ttotal: 199ms\tremaining: 1.15s\n",
      "148:\tlearn: 0.2565691\ttotal: 200ms\tremaining: 1.14s\n",
      "149:\tlearn: 0.2559392\ttotal: 201ms\tremaining: 1.14s\n",
      "150:\tlearn: 0.2550288\ttotal: 202ms\tremaining: 1.13s\n",
      "151:\tlearn: 0.2543249\ttotal: 202ms\tremaining: 1.13s\n",
      "152:\tlearn: 0.2536582\ttotal: 203ms\tremaining: 1.13s\n",
      "153:\tlearn: 0.2528888\ttotal: 204ms\tremaining: 1.12s\n",
      "154:\tlearn: 0.2518447\ttotal: 205ms\tremaining: 1.12s\n",
      "155:\tlearn: 0.2510491\ttotal: 206ms\tremaining: 1.11s\n",
      "156:\tlearn: 0.2501466\ttotal: 207ms\tremaining: 1.11s\n",
      "157:\tlearn: 0.2492130\ttotal: 208ms\tremaining: 1.11s\n",
      "158:\tlearn: 0.2486484\ttotal: 208ms\tremaining: 1.1s\n",
      "159:\tlearn: 0.2480012\ttotal: 209ms\tremaining: 1.1s\n",
      "160:\tlearn: 0.2473259\ttotal: 210ms\tremaining: 1.09s\n",
      "161:\tlearn: 0.2466073\ttotal: 211ms\tremaining: 1.09s\n",
      "162:\tlearn: 0.2460776\ttotal: 212ms\tremaining: 1.09s\n",
      "163:\tlearn: 0.2451005\ttotal: 213ms\tremaining: 1.08s\n",
      "164:\tlearn: 0.2443577\ttotal: 213ms\tremaining: 1.08s\n",
      "165:\tlearn: 0.2436379\ttotal: 214ms\tremaining: 1.07s\n",
      "166:\tlearn: 0.2427866\ttotal: 215ms\tremaining: 1.07s\n",
      "167:\tlearn: 0.2418497\ttotal: 215ms\tremaining: 1.07s\n",
      "168:\tlearn: 0.2412238\ttotal: 216ms\tremaining: 1.06s\n",
      "169:\tlearn: 0.2405401\ttotal: 217ms\tremaining: 1.06s\n",
      "170:\tlearn: 0.2399848\ttotal: 218ms\tremaining: 1.06s\n",
      "171:\tlearn: 0.2393776\ttotal: 219ms\tremaining: 1.05s\n",
      "172:\tlearn: 0.2387328\ttotal: 220ms\tremaining: 1.05s\n",
      "173:\tlearn: 0.2383108\ttotal: 220ms\tremaining: 1.04s\n",
      "174:\tlearn: 0.2377696\ttotal: 221ms\tremaining: 1.04s\n",
      "175:\tlearn: 0.2372285\ttotal: 222ms\tremaining: 1.04s\n",
      "176:\tlearn: 0.2364520\ttotal: 223ms\tremaining: 1.03s\n",
      "177:\tlearn: 0.2355683\ttotal: 224ms\tremaining: 1.03s\n",
      "178:\tlearn: 0.2349283\ttotal: 224ms\tremaining: 1.03s\n",
      "179:\tlearn: 0.2342133\ttotal: 225ms\tremaining: 1.02s\n",
      "180:\tlearn: 0.2334349\ttotal: 226ms\tremaining: 1.02s\n",
      "181:\tlearn: 0.2324909\ttotal: 227ms\tremaining: 1.02s\n",
      "182:\tlearn: 0.2320487\ttotal: 228ms\tremaining: 1.02s\n",
      "183:\tlearn: 0.2313951\ttotal: 229ms\tremaining: 1.01s\n",
      "184:\tlearn: 0.2307437\ttotal: 229ms\tremaining: 1.01s\n",
      "185:\tlearn: 0.2301226\ttotal: 230ms\tremaining: 1.01s\n",
      "186:\tlearn: 0.2296036\ttotal: 231ms\tremaining: 1s\n",
      "187:\tlearn: 0.2290257\ttotal: 232ms\tremaining: 1s\n",
      "188:\tlearn: 0.2283127\ttotal: 233ms\tremaining: 998ms\n",
      "189:\tlearn: 0.2276232\ttotal: 234ms\tremaining: 996ms\n",
      "190:\tlearn: 0.2269165\ttotal: 234ms\tremaining: 993ms\n",
      "191:\tlearn: 0.2263192\ttotal: 235ms\tremaining: 990ms\n",
      "192:\tlearn: 0.2256367\ttotal: 236ms\tremaining: 987ms\n",
      "193:\tlearn: 0.2252782\ttotal: 237ms\tremaining: 984ms\n",
      "194:\tlearn: 0.2246336\ttotal: 238ms\tremaining: 982ms\n",
      "195:\tlearn: 0.2241791\ttotal: 239ms\tremaining: 979ms\n",
      "196:\tlearn: 0.2237455\ttotal: 240ms\tremaining: 976ms\n",
      "197:\tlearn: 0.2231232\ttotal: 240ms\tremaining: 974ms\n",
      "198:\tlearn: 0.2225774\ttotal: 241ms\tremaining: 971ms\n",
      "199:\tlearn: 0.2219414\ttotal: 242ms\tremaining: 968ms\n",
      "200:\tlearn: 0.2214354\ttotal: 243ms\tremaining: 965ms\n",
      "201:\tlearn: 0.2209494\ttotal: 244ms\tremaining: 962ms\n",
      "202:\tlearn: 0.2204042\ttotal: 244ms\tremaining: 960ms\n",
      "203:\tlearn: 0.2197946\ttotal: 245ms\tremaining: 957ms\n",
      "204:\tlearn: 0.2191868\ttotal: 246ms\tremaining: 954ms\n",
      "205:\tlearn: 0.2186900\ttotal: 247ms\tremaining: 952ms\n",
      "206:\tlearn: 0.2180248\ttotal: 248ms\tremaining: 949ms\n",
      "207:\tlearn: 0.2174359\ttotal: 249ms\tremaining: 947ms\n",
      "208:\tlearn: 0.2169346\ttotal: 249ms\tremaining: 944ms\n",
      "209:\tlearn: 0.2164256\ttotal: 250ms\tremaining: 941ms\n",
      "210:\tlearn: 0.2158061\ttotal: 251ms\tremaining: 939ms\n",
      "211:\tlearn: 0.2154436\ttotal: 252ms\tremaining: 937ms\n",
      "212:\tlearn: 0.2148188\ttotal: 253ms\tremaining: 934ms\n",
      "213:\tlearn: 0.2144317\ttotal: 254ms\tremaining: 932ms\n",
      "214:\tlearn: 0.2141530\ttotal: 255ms\tremaining: 930ms\n",
      "215:\tlearn: 0.2135643\ttotal: 255ms\tremaining: 927ms\n",
      "216:\tlearn: 0.2131750\ttotal: 256ms\tremaining: 925ms\n",
      "217:\tlearn: 0.2126994\ttotal: 257ms\tremaining: 922ms\n",
      "218:\tlearn: 0.2121557\ttotal: 258ms\tremaining: 920ms\n",
      "219:\tlearn: 0.2114097\ttotal: 259ms\tremaining: 917ms\n",
      "220:\tlearn: 0.2107811\ttotal: 260ms\tremaining: 915ms\n",
      "221:\tlearn: 0.2101979\ttotal: 260ms\tremaining: 912ms\n",
      "222:\tlearn: 0.2096395\ttotal: 261ms\tremaining: 910ms\n",
      "223:\tlearn: 0.2092935\ttotal: 262ms\tremaining: 907ms\n",
      "224:\tlearn: 0.2089140\ttotal: 263ms\tremaining: 905ms\n",
      "225:\tlearn: 0.2085496\ttotal: 263ms\tremaining: 902ms\n",
      "226:\tlearn: 0.2078600\ttotal: 264ms\tremaining: 900ms\n",
      "227:\tlearn: 0.2072607\ttotal: 265ms\tremaining: 898ms\n",
      "228:\tlearn: 0.2068777\ttotal: 266ms\tremaining: 896ms\n",
      "229:\tlearn: 0.2064376\ttotal: 267ms\tremaining: 893ms\n",
      "230:\tlearn: 0.2059305\ttotal: 268ms\tremaining: 891ms\n",
      "231:\tlearn: 0.2053696\ttotal: 268ms\tremaining: 889ms\n",
      "232:\tlearn: 0.2047497\ttotal: 269ms\tremaining: 887ms\n",
      "233:\tlearn: 0.2042995\ttotal: 270ms\tremaining: 884ms\n",
      "234:\tlearn: 0.2040875\ttotal: 271ms\tremaining: 882ms\n",
      "235:\tlearn: 0.2034043\ttotal: 272ms\tremaining: 879ms\n",
      "236:\tlearn: 0.2029805\ttotal: 272ms\tremaining: 877ms\n",
      "237:\tlearn: 0.2027433\ttotal: 273ms\tremaining: 875ms\n",
      "238:\tlearn: 0.2024674\ttotal: 274ms\tremaining: 873ms\n",
      "239:\tlearn: 0.2015863\ttotal: 275ms\tremaining: 870ms\n",
      "240:\tlearn: 0.2013269\ttotal: 276ms\tremaining: 869ms\n"
     ]
    },
    {
     "name": "stdout",
     "output_type": "stream",
     "text": [
      "241:\tlearn: 0.2008289\ttotal: 276ms\tremaining: 869ms\n",
      "242:\tlearn: 0.2004393\ttotal: 277ms\tremaining: 867ms\n",
      "243:\tlearn: 0.1999239\ttotal: 279ms\tremaining: 867ms\n",
      "244:\tlearn: 0.1993418\ttotal: 280ms\tremaining: 865ms\n",
      "245:\tlearn: 0.1991664\ttotal: 282ms\tremaining: 867ms\n",
      "246:\tlearn: 0.1986844\ttotal: 284ms\tremaining: 869ms\n",
      "247:\tlearn: 0.1981551\ttotal: 286ms\tremaining: 870ms\n",
      "248:\tlearn: 0.1977556\ttotal: 287ms\tremaining: 870ms\n",
      "249:\tlearn: 0.1972970\ttotal: 288ms\tremaining: 868ms\n",
      "250:\tlearn: 0.1968485\ttotal: 290ms\tremaining: 868ms\n",
      "251:\tlearn: 0.1962779\ttotal: 291ms\tremaining: 868ms\n",
      "252:\tlearn: 0.1959643\ttotal: 293ms\tremaining: 869ms\n",
      "253:\tlearn: 0.1954145\ttotal: 295ms\tremaining: 869ms\n",
      "254:\tlearn: 0.1947233\ttotal: 296ms\tremaining: 869ms\n",
      "255:\tlearn: 0.1942604\ttotal: 297ms\tremaining: 868ms\n",
      "256:\tlearn: 0.1940331\ttotal: 303ms\tremaining: 880ms\n",
      "257:\tlearn: 0.1938116\ttotal: 304ms\tremaining: 877ms\n",
      "258:\tlearn: 0.1934335\ttotal: 309ms\tremaining: 887ms\n",
      "259:\tlearn: 0.1931767\ttotal: 310ms\tremaining: 886ms\n",
      "260:\tlearn: 0.1926248\ttotal: 311ms\tremaining: 884ms\n",
      "261:\tlearn: 0.1922407\ttotal: 312ms\tremaining: 882ms\n",
      "262:\tlearn: 0.1919743\ttotal: 313ms\tremaining: 880ms\n",
      "263:\tlearn: 0.1916746\ttotal: 314ms\tremaining: 878ms\n",
      "264:\tlearn: 0.1914052\ttotal: 315ms\tremaining: 876ms\n",
      "265:\tlearn: 0.1911271\ttotal: 316ms\tremaining: 875ms\n",
      "266:\tlearn: 0.1907314\ttotal: 317ms\tremaining: 873ms\n",
      "267:\tlearn: 0.1902106\ttotal: 318ms\tremaining: 871ms\n",
      "268:\tlearn: 0.1901004\ttotal: 318ms\tremaining: 869ms\n",
      "269:\tlearn: 0.1896510\ttotal: 319ms\tremaining: 867ms\n",
      "270:\tlearn: 0.1893928\ttotal: 320ms\tremaining: 864ms\n",
      "271:\tlearn: 0.1891791\ttotal: 321ms\tremaining: 863ms\n",
      "272:\tlearn: 0.1888824\ttotal: 322ms\tremaining: 861ms\n",
      "273:\tlearn: 0.1884123\ttotal: 323ms\tremaining: 859ms\n",
      "274:\tlearn: 0.1880312\ttotal: 324ms\tremaining: 858ms\n",
      "275:\tlearn: 0.1876943\ttotal: 325ms\tremaining: 857ms\n",
      "276:\tlearn: 0.1871222\ttotal: 327ms\tremaining: 855ms\n",
      "277:\tlearn: 0.1864587\ttotal: 328ms\tremaining: 854ms\n",
      "278:\tlearn: 0.1859448\ttotal: 329ms\tremaining: 852ms\n",
      "279:\tlearn: 0.1853389\ttotal: 329ms\tremaining: 850ms\n",
      "280:\tlearn: 0.1851624\ttotal: 330ms\tremaining: 848ms\n",
      "281:\tlearn: 0.1847767\ttotal: 331ms\tremaining: 847ms\n",
      "282:\tlearn: 0.1843566\ttotal: 332ms\tremaining: 845ms\n",
      "283:\tlearn: 0.1838500\ttotal: 333ms\tremaining: 843ms\n",
      "284:\tlearn: 0.1835252\ttotal: 334ms\tremaining: 841ms\n",
      "285:\tlearn: 0.1828887\ttotal: 335ms\tremaining: 840ms\n",
      "286:\tlearn: 0.1824524\ttotal: 336ms\tremaining: 838ms\n",
      "287:\tlearn: 0.1819620\ttotal: 337ms\tremaining: 836ms\n",
      "288:\tlearn: 0.1812116\ttotal: 338ms\tremaining: 834ms\n",
      "289:\tlearn: 0.1808493\ttotal: 339ms\tremaining: 832ms\n",
      "290:\tlearn: 0.1804226\ttotal: 340ms\tremaining: 830ms\n",
      "291:\tlearn: 0.1803169\ttotal: 341ms\tremaining: 828ms\n",
      "292:\tlearn: 0.1798001\ttotal: 341ms\tremaining: 826ms\n",
      "293:\tlearn: 0.1795000\ttotal: 342ms\tremaining: 824ms\n",
      "294:\tlearn: 0.1788878\ttotal: 343ms\tremaining: 823ms\n",
      "295:\tlearn: 0.1784773\ttotal: 344ms\tremaining: 821ms\n",
      "296:\tlearn: 0.1779904\ttotal: 345ms\tremaining: 819ms\n",
      "297:\tlearn: 0.1776217\ttotal: 346ms\tremaining: 817ms\n",
      "298:\tlearn: 0.1770589\ttotal: 346ms\tremaining: 815ms\n",
      "299:\tlearn: 0.1767451\ttotal: 347ms\tremaining: 813ms\n",
      "300:\tlearn: 0.1762674\ttotal: 348ms\tremaining: 811ms\n",
      "301:\tlearn: 0.1760739\ttotal: 349ms\tremaining: 809ms\n",
      "302:\tlearn: 0.1758907\ttotal: 350ms\tremaining: 808ms\n",
      "303:\tlearn: 0.1755895\ttotal: 351ms\tremaining: 806ms\n",
      "304:\tlearn: 0.1753914\ttotal: 352ms\tremaining: 805ms\n",
      "305:\tlearn: 0.1749363\ttotal: 353ms\tremaining: 803ms\n",
      "306:\tlearn: 0.1744658\ttotal: 354ms\tremaining: 802ms\n",
      "307:\tlearn: 0.1739536\ttotal: 355ms\tremaining: 800ms\n",
      "308:\tlearn: 0.1736483\ttotal: 356ms\tremaining: 798ms\n",
      "309:\tlearn: 0.1732602\ttotal: 357ms\tremaining: 796ms\n",
      "310:\tlearn: 0.1729378\ttotal: 357ms\tremaining: 794ms\n",
      "311:\tlearn: 0.1726312\ttotal: 358ms\tremaining: 793ms\n",
      "312:\tlearn: 0.1721211\ttotal: 359ms\tremaining: 791ms\n",
      "313:\tlearn: 0.1717022\ttotal: 360ms\tremaining: 789ms\n",
      "314:\tlearn: 0.1711955\ttotal: 361ms\tremaining: 787ms\n",
      "315:\tlearn: 0.1708119\ttotal: 362ms\tremaining: 786ms\n",
      "316:\tlearn: 0.1704345\ttotal: 363ms\tremaining: 784ms\n",
      "317:\tlearn: 0.1700884\ttotal: 363ms\tremaining: 782ms\n",
      "318:\tlearn: 0.1699710\ttotal: 364ms\tremaining: 780ms\n",
      "319:\tlearn: 0.1697490\ttotal: 366ms\tremaining: 780ms\n",
      "320:\tlearn: 0.1694675\ttotal: 366ms\tremaining: 778ms\n",
      "321:\tlearn: 0.1691364\ttotal: 367ms\tremaining: 776ms\n",
      "322:\tlearn: 0.1687222\ttotal: 368ms\tremaining: 774ms\n",
      "323:\tlearn: 0.1684680\ttotal: 369ms\tremaining: 772ms\n",
      "324:\tlearn: 0.1681459\ttotal: 370ms\tremaining: 770ms\n",
      "325:\tlearn: 0.1676991\ttotal: 370ms\tremaining: 768ms\n",
      "326:\tlearn: 0.1674395\ttotal: 371ms\tremaining: 766ms\n",
      "327:\tlearn: 0.1671682\ttotal: 372ms\tremaining: 765ms\n",
      "328:\tlearn: 0.1670213\ttotal: 374ms\tremaining: 764ms\n",
      "329:\tlearn: 0.1667493\ttotal: 375ms\tremaining: 764ms\n",
      "330:\tlearn: 0.1664294\ttotal: 376ms\tremaining: 762ms\n",
      "331:\tlearn: 0.1662660\ttotal: 377ms\tremaining: 760ms\n",
      "332:\tlearn: 0.1659186\ttotal: 377ms\tremaining: 758ms\n",
      "333:\tlearn: 0.1655028\ttotal: 378ms\tremaining: 756ms\n",
      "334:\tlearn: 0.1651090\ttotal: 379ms\tremaining: 754ms\n",
      "335:\tlearn: 0.1649074\ttotal: 380ms\tremaining: 752ms\n",
      "336:\tlearn: 0.1644844\ttotal: 380ms\tremaining: 750ms\n",
      "337:\tlearn: 0.1642905\ttotal: 381ms\tremaining: 749ms\n",
      "338:\tlearn: 0.1638556\ttotal: 382ms\tremaining: 748ms\n",
      "339:\tlearn: 0.1634450\ttotal: 384ms\tremaining: 747ms\n",
      "340:\tlearn: 0.1629062\ttotal: 385ms\tremaining: 746ms\n",
      "341:\tlearn: 0.1624368\ttotal: 386ms\tremaining: 744ms\n",
      "342:\tlearn: 0.1622470\ttotal: 387ms\tremaining: 743ms\n",
      "343:\tlearn: 0.1618879\ttotal: 388ms\tremaining: 742ms\n",
      "344:\tlearn: 0.1615638\ttotal: 389ms\tremaining: 741ms\n",
      "345:\tlearn: 0.1610508\ttotal: 390ms\tremaining: 740ms\n",
      "346:\tlearn: 0.1609094\ttotal: 391ms\tremaining: 739ms\n",
      "347:\tlearn: 0.1604960\ttotal: 393ms\tremaining: 738ms\n",
      "348:\tlearn: 0.1603919\ttotal: 393ms\tremaining: 736ms\n",
      "349:\tlearn: 0.1602545\ttotal: 395ms\tremaining: 736ms\n",
      "350:\tlearn: 0.1600371\ttotal: 406ms\tremaining: 753ms\n",
      "351:\tlearn: 0.1599272\ttotal: 407ms\tremaining: 751ms\n",
      "352:\tlearn: 0.1594812\ttotal: 408ms\tremaining: 750ms\n",
      "353:\tlearn: 0.1592665\ttotal: 409ms\tremaining: 748ms\n",
      "354:\tlearn: 0.1589544\ttotal: 410ms\tremaining: 747ms\n",
      "355:\tlearn: 0.1585624\ttotal: 411ms\tremaining: 746ms\n",
      "356:\tlearn: 0.1579863\ttotal: 413ms\tremaining: 745ms\n",
      "357:\tlearn: 0.1578312\ttotal: 414ms\tremaining: 745ms\n",
      "358:\tlearn: 0.1575518\ttotal: 425ms\tremaining: 762ms\n",
      "359:\tlearn: 0.1572042\ttotal: 426ms\tremaining: 760ms\n",
      "360:\tlearn: 0.1570524\ttotal: 427ms\tremaining: 758ms\n",
      "361:\tlearn: 0.1569154\ttotal: 428ms\tremaining: 756ms\n",
      "362:\tlearn: 0.1568241\ttotal: 429ms\tremaining: 755ms\n",
      "363:\tlearn: 0.1566297\ttotal: 430ms\tremaining: 754ms\n",
      "364:\tlearn: 0.1564337\ttotal: 432ms\tremaining: 753ms\n",
      "365:\tlearn: 0.1560700\ttotal: 433ms\tremaining: 753ms\n",
      "366:\tlearn: 0.1556369\ttotal: 435ms\tremaining: 752ms\n",
      "367:\tlearn: 0.1552727\ttotal: 436ms\tremaining: 751ms\n",
      "368:\tlearn: 0.1551300\ttotal: 437ms\tremaining: 750ms\n",
      "369:\tlearn: 0.1547865\ttotal: 439ms\tremaining: 749ms\n",
      "370:\tlearn: 0.1545675\ttotal: 450ms\tremaining: 766ms\n",
      "371:\tlearn: 0.1542316\ttotal: 452ms\tremaining: 765ms\n",
      "372:\tlearn: 0.1539493\ttotal: 454ms\tremaining: 765ms\n",
      "373:\tlearn: 0.1537929\ttotal: 455ms\tremaining: 764ms\n",
      "374:\tlearn: 0.1536478\ttotal: 457ms\tremaining: 763ms\n",
      "375:\tlearn: 0.1533580\ttotal: 458ms\tremaining: 762ms\n",
      "376:\tlearn: 0.1531333\ttotal: 459ms\tremaining: 761ms\n",
      "377:\tlearn: 0.1527111\ttotal: 461ms\tremaining: 760ms\n",
      "378:\tlearn: 0.1524706\ttotal: 462ms\tremaining: 759ms\n",
      "379:\tlearn: 0.1524340\ttotal: 464ms\tremaining: 759ms\n",
      "380:\tlearn: 0.1522326\ttotal: 465ms\tremaining: 758ms\n",
      "381:\tlearn: 0.1518093\ttotal: 467ms\tremaining: 757ms\n"
     ]
    },
    {
     "name": "stdout",
     "output_type": "stream",
     "text": [
      "382:\tlearn: 0.1515875\ttotal: 468ms\tremaining: 756ms\n",
      "383:\tlearn: 0.1512415\ttotal: 469ms\tremaining: 754ms\n",
      "384:\tlearn: 0.1509574\ttotal: 469ms\tremaining: 752ms\n",
      "385:\tlearn: 0.1505718\ttotal: 470ms\tremaining: 750ms\n",
      "386:\tlearn: 0.1504935\ttotal: 471ms\tremaining: 748ms\n",
      "387:\tlearn: 0.1503340\ttotal: 472ms\tremaining: 747ms\n",
      "388:\tlearn: 0.1501904\ttotal: 473ms\tremaining: 746ms\n",
      "389:\tlearn: 0.1499367\ttotal: 475ms\tremaining: 745ms\n",
      "390:\tlearn: 0.1497281\ttotal: 476ms\tremaining: 743ms\n",
      "391:\tlearn: 0.1495921\ttotal: 477ms\tremaining: 742ms\n",
      "392:\tlearn: 0.1495441\ttotal: 478ms\tremaining: 741ms\n",
      "393:\tlearn: 0.1490362\ttotal: 479ms\tremaining: 739ms\n",
      "394:\tlearn: 0.1489547\ttotal: 480ms\tremaining: 737ms\n",
      "395:\tlearn: 0.1486181\ttotal: 480ms\tremaining: 735ms\n",
      "396:\tlearn: 0.1484930\ttotal: 481ms\tremaining: 732ms\n",
      "397:\tlearn: 0.1481827\ttotal: 482ms\tremaining: 730ms\n",
      "398:\tlearn: 0.1479574\ttotal: 502ms\tremaining: 758ms\n",
      "399:\tlearn: 0.1478357\ttotal: 503ms\tremaining: 757ms\n",
      "400:\tlearn: 0.1476212\ttotal: 504ms\tremaining: 755ms\n",
      "401:\tlearn: 0.1471451\ttotal: 505ms\tremaining: 753ms\n",
      "402:\tlearn: 0.1468517\ttotal: 506ms\tremaining: 752ms\n",
      "403:\tlearn: 0.1467763\ttotal: 507ms\tremaining: 750ms\n",
      "404:\tlearn: 0.1465556\ttotal: 509ms\tremaining: 749ms\n",
      "405:\tlearn: 0.1460612\ttotal: 510ms\tremaining: 748ms\n",
      "406:\tlearn: 0.1459920\ttotal: 512ms\tremaining: 748ms\n",
      "407:\tlearn: 0.1457853\ttotal: 513ms\tremaining: 746ms\n",
      "408:\tlearn: 0.1456157\ttotal: 514ms\tremaining: 745ms\n",
      "409:\tlearn: 0.1453520\ttotal: 515ms\tremaining: 743ms\n",
      "410:\tlearn: 0.1452378\ttotal: 517ms\tremaining: 743ms\n",
      "411:\tlearn: 0.1450928\ttotal: 518ms\tremaining: 741ms\n",
      "412:\tlearn: 0.1449521\ttotal: 519ms\tremaining: 739ms\n",
      "413:\tlearn: 0.1446500\ttotal: 539ms\tremaining: 765ms\n",
      "414:\tlearn: 0.1446094\ttotal: 540ms\tremaining: 763ms\n",
      "415:\tlearn: 0.1445308\ttotal: 542ms\tremaining: 762ms\n",
      "416:\tlearn: 0.1442963\ttotal: 543ms\tremaining: 761ms\n",
      "417:\tlearn: 0.1442205\ttotal: 545ms\tremaining: 761ms\n",
      "418:\tlearn: 0.1439968\ttotal: 546ms\tremaining: 760ms\n",
      "419:\tlearn: 0.1435832\ttotal: 548ms\tremaining: 758ms\n",
      "420:\tlearn: 0.1433605\ttotal: 562ms\tremaining: 775ms\n",
      "421:\tlearn: 0.1433115\ttotal: 563ms\tremaining: 772ms\n",
      "422:\tlearn: 0.1430032\ttotal: 563ms\tremaining: 770ms\n",
      "423:\tlearn: 0.1426037\ttotal: 564ms\tremaining: 768ms\n",
      "424:\tlearn: 0.1422223\ttotal: 565ms\tremaining: 766ms\n",
      "425:\tlearn: 0.1421747\ttotal: 566ms\tremaining: 764ms\n",
      "426:\tlearn: 0.1418954\ttotal: 568ms\tremaining: 764ms\n",
      "427:\tlearn: 0.1417318\ttotal: 570ms\tremaining: 763ms\n",
      "428:\tlearn: 0.1412971\ttotal: 571ms\tremaining: 761ms\n",
      "429:\tlearn: 0.1410778\ttotal: 571ms\tremaining: 759ms\n",
      "430:\tlearn: 0.1408792\ttotal: 573ms\tremaining: 758ms\n",
      "431:\tlearn: 0.1406666\ttotal: 573ms\tremaining: 756ms\n",
      "432:\tlearn: 0.1404884\ttotal: 574ms\tremaining: 754ms\n",
      "433:\tlearn: 0.1400560\ttotal: 575ms\tremaining: 752ms\n",
      "434:\tlearn: 0.1396176\ttotal: 576ms\tremaining: 750ms\n",
      "435:\tlearn: 0.1393504\ttotal: 577ms\tremaining: 748ms\n",
      "436:\tlearn: 0.1388888\ttotal: 578ms\tremaining: 746ms\n",
      "437:\tlearn: 0.1386233\ttotal: 579ms\tremaining: 744ms\n",
      "438:\tlearn: 0.1382762\ttotal: 580ms\tremaining: 742ms\n",
      "439:\tlearn: 0.1382164\ttotal: 580ms\tremaining: 740ms\n",
      "440:\tlearn: 0.1379728\ttotal: 581ms\tremaining: 738ms\n",
      "441:\tlearn: 0.1378606\ttotal: 582ms\tremaining: 736ms\n",
      "442:\tlearn: 0.1378381\ttotal: 583ms\tremaining: 734ms\n",
      "443:\tlearn: 0.1375418\ttotal: 583ms\tremaining: 732ms\n",
      "444:\tlearn: 0.1371785\ttotal: 584ms\tremaining: 730ms\n",
      "445:\tlearn: 0.1369471\ttotal: 585ms\tremaining: 728ms\n",
      "446:\tlearn: 0.1368772\ttotal: 586ms\tremaining: 727ms\n",
      "447:\tlearn: 0.1368445\ttotal: 587ms\tremaining: 725ms\n",
      "448:\tlearn: 0.1365639\ttotal: 588ms\tremaining: 723ms\n",
      "449:\tlearn: 0.1363404\ttotal: 589ms\tremaining: 721ms\n",
      "450:\tlearn: 0.1360387\ttotal: 589ms\tremaining: 719ms\n",
      "451:\tlearn: 0.1359744\ttotal: 591ms\tremaining: 718ms\n",
      "452:\tlearn: 0.1357510\ttotal: 591ms\tremaining: 716ms\n",
      "453:\tlearn: 0.1354907\ttotal: 592ms\tremaining: 714ms\n",
      "454:\tlearn: 0.1354557\ttotal: 593ms\tremaining: 712ms\n",
      "455:\tlearn: 0.1352803\ttotal: 596ms\tremaining: 713ms\n",
      "456:\tlearn: 0.1350413\ttotal: 597ms\tremaining: 711ms\n",
      "457:\tlearn: 0.1347838\ttotal: 598ms\tremaining: 709ms\n",
      "458:\tlearn: 0.1347652\ttotal: 599ms\tremaining: 707ms\n",
      "459:\tlearn: 0.1345673\ttotal: 602ms\tremaining: 709ms\n",
      "460:\tlearn: 0.1344718\ttotal: 603ms\tremaining: 707ms\n",
      "461:\tlearn: 0.1340561\ttotal: 604ms\tremaining: 705ms\n",
      "462:\tlearn: 0.1339612\ttotal: 605ms\tremaining: 704ms\n",
      "463:\tlearn: 0.1336536\ttotal: 606ms\tremaining: 702ms\n",
      "464:\tlearn: 0.1333583\ttotal: 607ms\tremaining: 700ms\n",
      "465:\tlearn: 0.1331694\ttotal: 608ms\tremaining: 698ms\n",
      "466:\tlearn: 0.1328930\ttotal: 609ms\tremaining: 696ms\n",
      "467:\tlearn: 0.1326316\ttotal: 610ms\tremaining: 695ms\n",
      "468:\tlearn: 0.1324729\ttotal: 611ms\tremaining: 693ms\n",
      "469:\tlearn: 0.1322023\ttotal: 614ms\tremaining: 693ms\n",
      "470:\tlearn: 0.1319696\ttotal: 614ms\tremaining: 692ms\n",
      "471:\tlearn: 0.1319005\ttotal: 616ms\tremaining: 690ms\n",
      "472:\tlearn: 0.1316625\ttotal: 626ms\tremaining: 699ms\n",
      "473:\tlearn: 0.1315410\ttotal: 630ms\tremaining: 701ms\n",
      "474:\tlearn: 0.1312668\ttotal: 632ms\tremaining: 700ms\n",
      "475:\tlearn: 0.1311581\ttotal: 633ms\tremaining: 698ms\n",
      "476:\tlearn: 0.1307980\ttotal: 634ms\tremaining: 697ms\n",
      "477:\tlearn: 0.1305474\ttotal: 635ms\tremaining: 695ms\n",
      "478:\tlearn: 0.1304412\ttotal: 636ms\tremaining: 693ms\n",
      "479:\tlearn: 0.1303146\ttotal: 637ms\tremaining: 692ms\n",
      "480:\tlearn: 0.1300404\ttotal: 638ms\tremaining: 690ms\n",
      "481:\tlearn: 0.1298043\ttotal: 639ms\tremaining: 688ms\n",
      "482:\tlearn: 0.1295994\ttotal: 641ms\tremaining: 687ms\n",
      "483:\tlearn: 0.1293202\ttotal: 643ms\tremaining: 686ms\n",
      "484:\tlearn: 0.1290372\ttotal: 643ms\tremaining: 685ms\n",
      "485:\tlearn: 0.1287407\ttotal: 644ms\tremaining: 683ms\n",
      "486:\tlearn: 0.1285665\ttotal: 645ms\tremaining: 681ms\n",
      "487:\tlearn: 0.1285106\ttotal: 646ms\tremaining: 679ms\n",
      "488:\tlearn: 0.1284614\ttotal: 649ms\tremaining: 680ms\n",
      "489:\tlearn: 0.1282743\ttotal: 653ms\tremaining: 681ms\n",
      "490:\tlearn: 0.1280730\ttotal: 654ms\tremaining: 679ms\n",
      "491:\tlearn: 0.1277924\ttotal: 655ms\tremaining: 677ms\n",
      "492:\tlearn: 0.1277482\ttotal: 656ms\tremaining: 676ms\n",
      "493:\tlearn: 0.1275331\ttotal: 657ms\tremaining: 674ms\n",
      "494:\tlearn: 0.1273691\ttotal: 658ms\tremaining: 672ms\n",
      "495:\tlearn: 0.1271167\ttotal: 659ms\tremaining: 671ms\n",
      "496:\tlearn: 0.1270803\ttotal: 659ms\tremaining: 669ms\n",
      "497:\tlearn: 0.1268929\ttotal: 660ms\tremaining: 667ms\n",
      "498:\tlearn: 0.1268592\ttotal: 661ms\tremaining: 665ms\n",
      "499:\tlearn: 0.1268094\ttotal: 662ms\tremaining: 663ms\n"
     ]
    },
    {
     "name": "stdout",
     "output_type": "stream",
     "text": [
      "500:\tlearn: 0.1265250\ttotal: 663ms\tremaining: 661ms\n",
      "501:\tlearn: 0.1263765\ttotal: 664ms\tremaining: 660ms\n",
      "502:\tlearn: 0.1263309\ttotal: 664ms\tremaining: 658ms\n",
      "503:\tlearn: 0.1259920\ttotal: 665ms\tremaining: 656ms\n",
      "504:\tlearn: 0.1257628\ttotal: 666ms\tremaining: 654ms\n",
      "505:\tlearn: 0.1256469\ttotal: 667ms\tremaining: 652ms\n",
      "506:\tlearn: 0.1255740\ttotal: 667ms\tremaining: 650ms\n",
      "507:\tlearn: 0.1254128\ttotal: 668ms\tremaining: 648ms\n",
      "508:\tlearn: 0.1251437\ttotal: 669ms\tremaining: 647ms\n",
      "509:\tlearn: 0.1250423\ttotal: 670ms\tremaining: 645ms\n",
      "510:\tlearn: 0.1247394\ttotal: 671ms\tremaining: 643ms\n",
      "511:\tlearn: 0.1246517\ttotal: 672ms\tremaining: 641ms\n",
      "512:\tlearn: 0.1244548\ttotal: 672ms\tremaining: 640ms\n",
      "513:\tlearn: 0.1241185\ttotal: 673ms\tremaining: 638ms\n",
      "514:\tlearn: 0.1240880\ttotal: 674ms\tremaining: 636ms\n",
      "515:\tlearn: 0.1238207\ttotal: 675ms\tremaining: 634ms\n",
      "516:\tlearn: 0.1236464\ttotal: 675ms\tremaining: 632ms\n",
      "517:\tlearn: 0.1235591\ttotal: 677ms\tremaining: 631ms\n",
      "518:\tlearn: 0.1233906\ttotal: 678ms\tremaining: 629ms\n",
      "519:\tlearn: 0.1231479\ttotal: 679ms\tremaining: 628ms\n",
      "520:\tlearn: 0.1230877\ttotal: 680ms\tremaining: 627ms\n",
      "521:\tlearn: 0.1230020\ttotal: 681ms\tremaining: 625ms\n",
      "522:\tlearn: 0.1227864\ttotal: 682ms\tremaining: 624ms\n",
      "523:\tlearn: 0.1227711\ttotal: 683ms\tremaining: 622ms\n",
      "524:\tlearn: 0.1225601\ttotal: 684ms\tremaining: 620ms\n",
      "525:\tlearn: 0.1224611\ttotal: 685ms\tremaining: 619ms\n",
      "526:\tlearn: 0.1224345\ttotal: 687ms\tremaining: 617ms\n",
      "527:\tlearn: 0.1223496\ttotal: 688ms\tremaining: 616ms\n",
      "528:\tlearn: 0.1223070\ttotal: 689ms\tremaining: 615ms\n",
      "529:\tlearn: 0.1220919\ttotal: 690ms\tremaining: 613ms\n",
      "530:\tlearn: 0.1220125\ttotal: 691ms\tremaining: 612ms\n",
      "531:\tlearn: 0.1217611\ttotal: 692ms\tremaining: 610ms\n",
      "532:\tlearn: 0.1217330\ttotal: 693ms\tremaining: 608ms\n",
      "533:\tlearn: 0.1215638\ttotal: 694ms\tremaining: 607ms\n",
      "534:\tlearn: 0.1213584\ttotal: 695ms\tremaining: 605ms\n",
      "535:\tlearn: 0.1211077\ttotal: 696ms\tremaining: 604ms\n",
      "536:\tlearn: 0.1208718\ttotal: 697ms\tremaining: 602ms\n",
      "537:\tlearn: 0.1205796\ttotal: 698ms\tremaining: 600ms\n",
      "538:\tlearn: 0.1205104\ttotal: 709ms\tremaining: 607ms\n",
      "539:\tlearn: 0.1202316\ttotal: 709ms\tremaining: 605ms\n",
      "540:\tlearn: 0.1199568\ttotal: 710ms\tremaining: 604ms\n",
      "541:\tlearn: 0.1198676\ttotal: 711ms\tremaining: 602ms\n",
      "542:\tlearn: 0.1196032\ttotal: 712ms\tremaining: 600ms\n",
      "543:\tlearn: 0.1193406\ttotal: 713ms\tremaining: 599ms\n",
      "544:\tlearn: 0.1189981\ttotal: 714ms\tremaining: 597ms\n",
      "545:\tlearn: 0.1189131\ttotal: 715ms\tremaining: 595ms\n",
      "546:\tlearn: 0.1188875\ttotal: 716ms\tremaining: 594ms\n",
      "547:\tlearn: 0.1187571\ttotal: 716ms\tremaining: 592ms\n",
      "548:\tlearn: 0.1185133\ttotal: 717ms\tremaining: 590ms\n",
      "549:\tlearn: 0.1182878\ttotal: 718ms\tremaining: 588ms\n",
      "550:\tlearn: 0.1182496\ttotal: 719ms\tremaining: 587ms\n",
      "551:\tlearn: 0.1180944\ttotal: 721ms\tremaining: 587ms\n",
      "552:\tlearn: 0.1177669\ttotal: 722ms\tremaining: 585ms\n",
      "553:\tlearn: 0.1175196\ttotal: 723ms\tremaining: 583ms\n",
      "554:\tlearn: 0.1172925\ttotal: 724ms\tremaining: 581ms\n",
      "555:\tlearn: 0.1169754\ttotal: 725ms\tremaining: 580ms\n",
      "556:\tlearn: 0.1166641\ttotal: 725ms\tremaining: 578ms\n",
      "557:\tlearn: 0.1166281\ttotal: 726ms\tremaining: 576ms\n",
      "558:\tlearn: 0.1164199\ttotal: 727ms\tremaining: 574ms\n",
      "559:\tlearn: 0.1162612\ttotal: 728ms\tremaining: 573ms\n",
      "560:\tlearn: 0.1160485\ttotal: 728ms\tremaining: 571ms\n",
      "561:\tlearn: 0.1159088\ttotal: 729ms\tremaining: 569ms\n",
      "562:\tlearn: 0.1158514\ttotal: 730ms\tremaining: 568ms\n",
      "563:\tlearn: 0.1156500\ttotal: 731ms\tremaining: 566ms\n",
      "564:\tlearn: 0.1154911\ttotal: 732ms\tremaining: 564ms\n",
      "565:\tlearn: 0.1154313\ttotal: 732ms\tremaining: 563ms\n",
      "566:\tlearn: 0.1153560\ttotal: 733ms\tremaining: 561ms\n",
      "567:\tlearn: 0.1151821\ttotal: 734ms\tremaining: 559ms\n",
      "568:\tlearn: 0.1149609\ttotal: 735ms\tremaining: 557ms\n",
      "569:\tlearn: 0.1148249\ttotal: 735ms\tremaining: 556ms\n",
      "570:\tlearn: 0.1147012\ttotal: 736ms\tremaining: 554ms\n",
      "571:\tlearn: 0.1146636\ttotal: 737ms\tremaining: 552ms\n",
      "572:\tlearn: 0.1144613\ttotal: 738ms\tremaining: 551ms\n",
      "573:\tlearn: 0.1143448\ttotal: 738ms\tremaining: 549ms\n",
      "574:\tlearn: 0.1142002\ttotal: 739ms\tremaining: 547ms\n",
      "575:\tlearn: 0.1141598\ttotal: 740ms\tremaining: 546ms\n",
      "576:\tlearn: 0.1140830\ttotal: 741ms\tremaining: 544ms\n",
      "577:\tlearn: 0.1138552\ttotal: 742ms\tremaining: 542ms\n",
      "578:\tlearn: 0.1137262\ttotal: 742ms\tremaining: 541ms\n",
      "579:\tlearn: 0.1135655\ttotal: 743ms\tremaining: 539ms\n",
      "580:\tlearn: 0.1134137\ttotal: 744ms\tremaining: 538ms\n",
      "581:\tlearn: 0.1132772\ttotal: 745ms\tremaining: 536ms\n",
      "582:\tlearn: 0.1131733\ttotal: 746ms\tremaining: 534ms\n",
      "583:\tlearn: 0.1130776\ttotal: 747ms\tremaining: 533ms\n",
      "584:\tlearn: 0.1128950\ttotal: 748ms\tremaining: 531ms\n",
      "585:\tlearn: 0.1128368\ttotal: 748ms\tremaining: 530ms\n",
      "586:\tlearn: 0.1126385\ttotal: 749ms\tremaining: 528ms\n",
      "587:\tlearn: 0.1124691\ttotal: 750ms\tremaining: 526ms\n",
      "588:\tlearn: 0.1122758\ttotal: 751ms\tremaining: 525ms\n",
      "589:\tlearn: 0.1120068\ttotal: 752ms\tremaining: 523ms\n",
      "590:\tlearn: 0.1117478\ttotal: 752ms\tremaining: 522ms\n",
      "591:\tlearn: 0.1115377\ttotal: 753ms\tremaining: 520ms\n",
      "592:\tlearn: 0.1114265\ttotal: 754ms\tremaining: 518ms\n",
      "593:\tlearn: 0.1113249\ttotal: 755ms\tremaining: 517ms\n",
      "594:\tlearn: 0.1112263\ttotal: 755ms\tremaining: 515ms\n",
      "595:\tlearn: 0.1109159\ttotal: 756ms\tremaining: 513ms\n",
      "596:\tlearn: 0.1108783\ttotal: 757ms\tremaining: 512ms\n",
      "597:\tlearn: 0.1106212\ttotal: 758ms\tremaining: 510ms\n",
      "598:\tlearn: 0.1104213\ttotal: 759ms\tremaining: 509ms\n",
      "599:\tlearn: 0.1103699\ttotal: 759ms\tremaining: 507ms\n",
      "600:\tlearn: 0.1103248\ttotal: 760ms\tremaining: 505ms\n",
      "601:\tlearn: 0.1101776\ttotal: 761ms\tremaining: 504ms\n",
      "602:\tlearn: 0.1101478\ttotal: 762ms\tremaining: 502ms\n",
      "603:\tlearn: 0.1100352\ttotal: 762ms\tremaining: 501ms\n",
      "604:\tlearn: 0.1097365\ttotal: 763ms\tremaining: 499ms\n",
      "605:\tlearn: 0.1095237\ttotal: 764ms\tremaining: 498ms\n",
      "606:\tlearn: 0.1094486\ttotal: 765ms\tremaining: 496ms\n",
      "607:\tlearn: 0.1093489\ttotal: 766ms\tremaining: 494ms\n",
      "608:\tlearn: 0.1091100\ttotal: 766ms\tremaining: 493ms\n",
      "609:\tlearn: 0.1089826\ttotal: 767ms\tremaining: 491ms\n",
      "610:\tlearn: 0.1087172\ttotal: 768ms\tremaining: 490ms\n",
      "611:\tlearn: 0.1085667\ttotal: 769ms\tremaining: 488ms\n",
      "612:\tlearn: 0.1081920\ttotal: 770ms\tremaining: 487ms\n",
      "613:\tlearn: 0.1079924\ttotal: 771ms\tremaining: 485ms\n",
      "614:\tlearn: 0.1079565\ttotal: 771ms\tremaining: 484ms\n",
      "615:\tlearn: 0.1078285\ttotal: 772ms\tremaining: 482ms\n",
      "616:\tlearn: 0.1076538\ttotal: 773ms\tremaining: 481ms\n",
      "617:\tlearn: 0.1075839\ttotal: 774ms\tremaining: 479ms\n",
      "618:\tlearn: 0.1075198\ttotal: 775ms\tremaining: 478ms\n",
      "619:\tlearn: 0.1072549\ttotal: 776ms\tremaining: 476ms\n",
      "620:\tlearn: 0.1070450\ttotal: 776ms\tremaining: 475ms\n",
      "621:\tlearn: 0.1068985\ttotal: 777ms\tremaining: 473ms\n",
      "622:\tlearn: 0.1066652\ttotal: 778ms\tremaining: 472ms\n",
      "623:\tlearn: 0.1065240\ttotal: 779ms\tremaining: 470ms\n",
      "624:\tlearn: 0.1063404\ttotal: 780ms\tremaining: 469ms\n",
      "625:\tlearn: 0.1061349\ttotal: 781ms\tremaining: 467ms\n",
      "626:\tlearn: 0.1058701\ttotal: 781ms\tremaining: 466ms\n",
      "627:\tlearn: 0.1057015\ttotal: 783ms\tremaining: 465ms\n",
      "628:\tlearn: 0.1056711\ttotal: 784ms\tremaining: 463ms\n",
      "629:\tlearn: 0.1055342\ttotal: 785ms\tremaining: 462ms\n",
      "630:\tlearn: 0.1054137\ttotal: 785ms\tremaining: 460ms\n",
      "631:\tlearn: 0.1051728\ttotal: 786ms\tremaining: 459ms\n",
      "632:\tlearn: 0.1050162\ttotal: 787ms\tremaining: 457ms\n",
      "633:\tlearn: 0.1047580\ttotal: 788ms\tremaining: 456ms\n",
      "634:\tlearn: 0.1046533\ttotal: 789ms\tremaining: 454ms\n",
      "635:\tlearn: 0.1044262\ttotal: 789ms\tremaining: 453ms\n",
      "636:\tlearn: 0.1041497\ttotal: 790ms\tremaining: 451ms\n",
      "637:\tlearn: 0.1040758\ttotal: 791ms\tremaining: 450ms\n",
      "638:\tlearn: 0.1039275\ttotal: 792ms\tremaining: 448ms\n",
      "639:\tlearn: 0.1038675\ttotal: 793ms\tremaining: 447ms\n",
      "640:\tlearn: 0.1037100\ttotal: 794ms\tremaining: 445ms\n",
      "641:\tlearn: 0.1036298\ttotal: 794ms\tremaining: 444ms\n",
      "642:\tlearn: 0.1036006\ttotal: 795ms\tremaining: 442ms\n",
      "643:\tlearn: 0.1034121\ttotal: 796ms\tremaining: 441ms\n",
      "644:\tlearn: 0.1032221\ttotal: 797ms\tremaining: 439ms\n",
      "645:\tlearn: 0.1032108\ttotal: 798ms\tremaining: 438ms\n",
      "646:\tlearn: 0.1030814\ttotal: 799ms\tremaining: 436ms\n",
      "647:\tlearn: 0.1029086\ttotal: 799ms\tremaining: 435ms\n",
      "648:\tlearn: 0.1027070\ttotal: 800ms\tremaining: 433ms\n",
      "649:\tlearn: 0.1025927\ttotal: 801ms\tremaining: 432ms\n",
      "650:\tlearn: 0.1025002\ttotal: 802ms\tremaining: 430ms\n",
      "651:\tlearn: 0.1022862\ttotal: 802ms\tremaining: 429ms\n",
      "652:\tlearn: 0.1022615\ttotal: 803ms\tremaining: 427ms\n",
      "653:\tlearn: 0.1021858\ttotal: 804ms\tremaining: 426ms\n",
      "654:\tlearn: 0.1021699\ttotal: 806ms\tremaining: 425ms\n",
      "655:\tlearn: 0.1021147\ttotal: 806ms\tremaining: 423ms\n",
      "656:\tlearn: 0.1020885\ttotal: 807ms\tremaining: 422ms\n",
      "657:\tlearn: 0.1020529\ttotal: 808ms\tremaining: 421ms\n",
      "658:\tlearn: 0.1018908\ttotal: 809ms\tremaining: 419ms\n",
      "659:\tlearn: 0.1018011\ttotal: 810ms\tremaining: 418ms\n",
      "660:\tlearn: 0.1017093\ttotal: 811ms\tremaining: 416ms\n",
      "661:\tlearn: 0.1014911\ttotal: 811ms\tremaining: 415ms\n",
      "662:\tlearn: 0.1013479\ttotal: 812ms\tremaining: 413ms\n",
      "663:\tlearn: 0.1013216\ttotal: 813ms\tremaining: 412ms\n",
      "664:\tlearn: 0.1011357\ttotal: 814ms\tremaining: 411ms\n",
      "665:\tlearn: 0.1009935\ttotal: 815ms\tremaining: 409ms\n",
      "666:\tlearn: 0.1008865\ttotal: 815ms\tremaining: 408ms\n",
      "667:\tlearn: 0.1007511\ttotal: 816ms\tremaining: 406ms\n",
      "668:\tlearn: 0.1005008\ttotal: 817ms\tremaining: 405ms\n",
      "669:\tlearn: 0.1004529\ttotal: 818ms\tremaining: 403ms\n",
      "670:\tlearn: 0.1002738\ttotal: 819ms\tremaining: 402ms\n",
      "671:\tlearn: 0.1000857\ttotal: 820ms\tremaining: 401ms\n",
      "672:\tlearn: 0.1000596\ttotal: 820ms\tremaining: 399ms\n",
      "673:\tlearn: 0.0999198\ttotal: 821ms\tremaining: 398ms\n",
      "674:\tlearn: 0.0998008\ttotal: 822ms\tremaining: 396ms\n",
      "675:\tlearn: 0.0996860\ttotal: 823ms\tremaining: 395ms\n",
      "676:\tlearn: 0.0996633\ttotal: 824ms\tremaining: 394ms\n",
      "677:\tlearn: 0.0995831\ttotal: 824ms\tremaining: 392ms\n",
      "678:\tlearn: 0.0995581\ttotal: 825ms\tremaining: 391ms\n",
      "679:\tlearn: 0.0994341\ttotal: 826ms\tremaining: 389ms\n",
      "680:\tlearn: 0.0991681\ttotal: 826ms\tremaining: 388ms\n",
      "681:\tlearn: 0.0989343\ttotal: 827ms\tremaining: 386ms\n",
      "682:\tlearn: 0.0987892\ttotal: 828ms\tremaining: 385ms\n",
      "683:\tlearn: 0.0985541\ttotal: 829ms\tremaining: 384ms\n",
      "684:\tlearn: 0.0984385\ttotal: 830ms\tremaining: 382ms\n",
      "685:\tlearn: 0.0984305\ttotal: 831ms\tremaining: 381ms\n",
      "686:\tlearn: 0.0982003\ttotal: 832ms\tremaining: 380ms\n",
      "687:\tlearn: 0.0979753\ttotal: 834ms\tremaining: 379ms\n",
      "688:\tlearn: 0.0977594\ttotal: 835ms\tremaining: 377ms\n",
      "689:\tlearn: 0.0975969\ttotal: 835ms\tremaining: 376ms\n",
      "690:\tlearn: 0.0975511\ttotal: 836ms\tremaining: 374ms\n",
      "691:\tlearn: 0.0974076\ttotal: 837ms\tremaining: 373ms\n",
      "692:\tlearn: 0.0972748\ttotal: 838ms\tremaining: 372ms\n",
      "693:\tlearn: 0.0972512\ttotal: 839ms\tremaining: 370ms\n",
      "694:\tlearn: 0.0971233\ttotal: 839ms\tremaining: 369ms\n",
      "695:\tlearn: 0.0970349\ttotal: 841ms\tremaining: 368ms\n",
      "696:\tlearn: 0.0969745\ttotal: 841ms\tremaining: 366ms\n",
      "697:\tlearn: 0.0968185\ttotal: 842ms\tremaining: 365ms\n",
      "698:\tlearn: 0.0966148\ttotal: 843ms\tremaining: 364ms\n",
      "699:\tlearn: 0.0964435\ttotal: 844ms\tremaining: 362ms\n",
      "700:\tlearn: 0.0962671\ttotal: 845ms\tremaining: 361ms\n",
      "701:\tlearn: 0.0962408\ttotal: 845ms\tremaining: 359ms\n",
      "702:\tlearn: 0.0960817\ttotal: 846ms\tremaining: 358ms\n",
      "703:\tlearn: 0.0959561\ttotal: 847ms\tremaining: 357ms\n",
      "704:\tlearn: 0.0958766\ttotal: 848ms\tremaining: 355ms\n",
      "705:\tlearn: 0.0956960\ttotal: 849ms\tremaining: 354ms\n",
      "706:\tlearn: 0.0955286\ttotal: 849ms\tremaining: 352ms\n",
      "707:\tlearn: 0.0954484\ttotal: 850ms\tremaining: 351ms\n",
      "708:\tlearn: 0.0952649\ttotal: 851ms\tremaining: 350ms\n",
      "709:\tlearn: 0.0952167\ttotal: 852ms\tremaining: 348ms\n"
     ]
    },
    {
     "name": "stdout",
     "output_type": "stream",
     "text": [
      "710:\tlearn: 0.0950427\ttotal: 853ms\tremaining: 347ms\n",
      "711:\tlearn: 0.0949752\ttotal: 854ms\tremaining: 346ms\n",
      "712:\tlearn: 0.0948909\ttotal: 854ms\tremaining: 344ms\n",
      "713:\tlearn: 0.0946608\ttotal: 855ms\tremaining: 343ms\n",
      "714:\tlearn: 0.0944796\ttotal: 856ms\tremaining: 342ms\n",
      "715:\tlearn: 0.0944618\ttotal: 857ms\tremaining: 340ms\n",
      "716:\tlearn: 0.0943596\ttotal: 858ms\tremaining: 339ms\n",
      "717:\tlearn: 0.0942353\ttotal: 858ms\tremaining: 338ms\n",
      "718:\tlearn: 0.0940470\ttotal: 859ms\tremaining: 336ms\n",
      "719:\tlearn: 0.0938906\ttotal: 860ms\tremaining: 335ms\n",
      "720:\tlearn: 0.0938679\ttotal: 861ms\tremaining: 334ms\n",
      "721:\tlearn: 0.0936516\ttotal: 862ms\tremaining: 332ms\n",
      "722:\tlearn: 0.0935395\ttotal: 863ms\tremaining: 331ms\n",
      "723:\tlearn: 0.0935264\ttotal: 863ms\tremaining: 330ms\n",
      "724:\tlearn: 0.0933879\ttotal: 864ms\tremaining: 328ms\n",
      "725:\tlearn: 0.0932698\ttotal: 865ms\tremaining: 327ms\n",
      "726:\tlearn: 0.0931077\ttotal: 866ms\tremaining: 326ms\n",
      "727:\tlearn: 0.0930940\ttotal: 867ms\tremaining: 324ms\n",
      "728:\tlearn: 0.0930226\ttotal: 868ms\tremaining: 323ms\n",
      "729:\tlearn: 0.0929267\ttotal: 869ms\tremaining: 322ms\n",
      "730:\tlearn: 0.0927197\ttotal: 869ms\tremaining: 320ms\n",
      "731:\tlearn: 0.0926622\ttotal: 870ms\tremaining: 319ms\n",
      "732:\tlearn: 0.0924496\ttotal: 871ms\tremaining: 318ms\n",
      "733:\tlearn: 0.0922926\ttotal: 872ms\tremaining: 316ms\n",
      "734:\tlearn: 0.0920682\ttotal: 873ms\tremaining: 315ms\n",
      "735:\tlearn: 0.0918406\ttotal: 873ms\tremaining: 314ms\n",
      "736:\tlearn: 0.0917051\ttotal: 874ms\tremaining: 312ms\n",
      "737:\tlearn: 0.0915337\ttotal: 875ms\tremaining: 311ms\n",
      "738:\tlearn: 0.0914101\ttotal: 876ms\tremaining: 310ms\n",
      "739:\tlearn: 0.0912196\ttotal: 877ms\tremaining: 309ms\n",
      "740:\tlearn: 0.0910254\ttotal: 878ms\tremaining: 307ms\n",
      "741:\tlearn: 0.0908639\ttotal: 879ms\tremaining: 306ms\n",
      "742:\tlearn: 0.0908216\ttotal: 879ms\tremaining: 305ms\n",
      "743:\tlearn: 0.0907436\ttotal: 880ms\tremaining: 303ms\n",
      "744:\tlearn: 0.0905753\ttotal: 881ms\tremaining: 302ms\n",
      "745:\tlearn: 0.0904751\ttotal: 882ms\tremaining: 301ms\n",
      "746:\tlearn: 0.0903919\ttotal: 883ms\tremaining: 299ms\n",
      "747:\tlearn: 0.0901921\ttotal: 883ms\tremaining: 298ms\n",
      "748:\tlearn: 0.0900960\ttotal: 884ms\tremaining: 297ms\n",
      "749:\tlearn: 0.0898982\ttotal: 885ms\tremaining: 295ms\n",
      "750:\tlearn: 0.0897804\ttotal: 886ms\tremaining: 294ms\n",
      "751:\tlearn: 0.0895844\ttotal: 886ms\tremaining: 293ms\n",
      "752:\tlearn: 0.0895108\ttotal: 887ms\tremaining: 291ms\n",
      "753:\tlearn: 0.0893861\ttotal: 888ms\tremaining: 290ms\n",
      "754:\tlearn: 0.0892716\ttotal: 889ms\tremaining: 289ms\n",
      "755:\tlearn: 0.0890759\ttotal: 890ms\tremaining: 288ms\n",
      "756:\tlearn: 0.0888166\ttotal: 891ms\tremaining: 286ms\n",
      "757:\tlearn: 0.0887144\ttotal: 892ms\tremaining: 285ms\n",
      "758:\tlearn: 0.0885381\ttotal: 893ms\tremaining: 284ms\n",
      "759:\tlearn: 0.0884259\ttotal: 894ms\tremaining: 283ms\n",
      "760:\tlearn: 0.0882730\ttotal: 894ms\tremaining: 281ms\n",
      "761:\tlearn: 0.0882560\ttotal: 895ms\tremaining: 280ms\n",
      "762:\tlearn: 0.0880853\ttotal: 896ms\tremaining: 279ms\n",
      "763:\tlearn: 0.0880267\ttotal: 897ms\tremaining: 277ms\n",
      "764:\tlearn: 0.0879011\ttotal: 898ms\tremaining: 276ms\n",
      "765:\tlearn: 0.0878873\ttotal: 898ms\tremaining: 275ms\n",
      "766:\tlearn: 0.0877160\ttotal: 899ms\tremaining: 273ms\n",
      "767:\tlearn: 0.0875463\ttotal: 900ms\tremaining: 272ms\n",
      "768:\tlearn: 0.0874379\ttotal: 901ms\tremaining: 271ms\n",
      "769:\tlearn: 0.0873274\ttotal: 901ms\tremaining: 270ms\n",
      "770:\tlearn: 0.0872876\ttotal: 902ms\tremaining: 268ms\n",
      "771:\tlearn: 0.0871158\ttotal: 903ms\tremaining: 267ms\n",
      "772:\tlearn: 0.0870047\ttotal: 904ms\tremaining: 266ms\n",
      "773:\tlearn: 0.0869201\ttotal: 904ms\tremaining: 264ms\n",
      "774:\tlearn: 0.0868176\ttotal: 905ms\tremaining: 263ms\n",
      "775:\tlearn: 0.0866481\ttotal: 906ms\tremaining: 262ms\n",
      "776:\tlearn: 0.0866373\ttotal: 907ms\tremaining: 261ms\n",
      "777:\tlearn: 0.0864786\ttotal: 908ms\tremaining: 259ms\n",
      "778:\tlearn: 0.0864690\ttotal: 908ms\tremaining: 258ms\n",
      "779:\tlearn: 0.0863801\ttotal: 909ms\tremaining: 257ms\n",
      "780:\tlearn: 0.0862391\ttotal: 910ms\tremaining: 256ms\n",
      "781:\tlearn: 0.0861216\ttotal: 911ms\tremaining: 254ms\n",
      "782:\tlearn: 0.0860572\ttotal: 912ms\tremaining: 253ms\n",
      "783:\tlearn: 0.0859404\ttotal: 913ms\tremaining: 252ms\n",
      "784:\tlearn: 0.0858782\ttotal: 914ms\tremaining: 251ms\n",
      "785:\tlearn: 0.0857336\ttotal: 914ms\tremaining: 249ms\n",
      "786:\tlearn: 0.0856140\ttotal: 915ms\tremaining: 248ms\n",
      "787:\tlearn: 0.0854630\ttotal: 916ms\tremaining: 247ms\n",
      "788:\tlearn: 0.0853272\ttotal: 917ms\tremaining: 245ms\n",
      "789:\tlearn: 0.0851204\ttotal: 918ms\tremaining: 244ms\n",
      "790:\tlearn: 0.0850247\ttotal: 918ms\tremaining: 243ms\n",
      "791:\tlearn: 0.0848612\ttotal: 919ms\tremaining: 242ms\n",
      "792:\tlearn: 0.0847455\ttotal: 920ms\tremaining: 240ms\n",
      "793:\tlearn: 0.0845816\ttotal: 921ms\tremaining: 239ms\n",
      "794:\tlearn: 0.0844619\ttotal: 922ms\tremaining: 238ms\n",
      "795:\tlearn: 0.0842765\ttotal: 923ms\tremaining: 237ms\n",
      "796:\tlearn: 0.0841673\ttotal: 923ms\tremaining: 235ms\n",
      "797:\tlearn: 0.0840221\ttotal: 924ms\tremaining: 234ms\n",
      "798:\tlearn: 0.0839477\ttotal: 925ms\tremaining: 233ms\n",
      "799:\tlearn: 0.0838584\ttotal: 926ms\tremaining: 232ms\n",
      "800:\tlearn: 0.0837289\ttotal: 927ms\tremaining: 231ms\n",
      "801:\tlearn: 0.0836777\ttotal: 928ms\tremaining: 229ms\n",
      "802:\tlearn: 0.0835248\ttotal: 928ms\tremaining: 228ms\n",
      "803:\tlearn: 0.0833173\ttotal: 929ms\tremaining: 227ms\n",
      "804:\tlearn: 0.0832769\ttotal: 930ms\tremaining: 226ms\n",
      "805:\tlearn: 0.0832627\ttotal: 931ms\tremaining: 224ms\n",
      "806:\tlearn: 0.0831272\ttotal: 932ms\tremaining: 223ms\n",
      "807:\tlearn: 0.0829631\ttotal: 933ms\tremaining: 222ms\n",
      "808:\tlearn: 0.0828697\ttotal: 933ms\tremaining: 221ms\n",
      "809:\tlearn: 0.0826593\ttotal: 934ms\tremaining: 219ms\n",
      "810:\tlearn: 0.0825179\ttotal: 935ms\tremaining: 218ms\n",
      "811:\tlearn: 0.0823942\ttotal: 936ms\tremaining: 217ms\n",
      "812:\tlearn: 0.0823758\ttotal: 937ms\tremaining: 216ms\n",
      "813:\tlearn: 0.0822538\ttotal: 938ms\tremaining: 215ms\n",
      "814:\tlearn: 0.0821108\ttotal: 939ms\tremaining: 213ms\n",
      "815:\tlearn: 0.0819839\ttotal: 939ms\tremaining: 212ms\n",
      "816:\tlearn: 0.0818431\ttotal: 940ms\tremaining: 211ms\n",
      "817:\tlearn: 0.0817567\ttotal: 941ms\tremaining: 210ms\n",
      "818:\tlearn: 0.0817416\ttotal: 942ms\tremaining: 208ms\n",
      "819:\tlearn: 0.0816076\ttotal: 943ms\tremaining: 207ms\n",
      "820:\tlearn: 0.0815218\ttotal: 944ms\tremaining: 206ms\n",
      "821:\tlearn: 0.0814661\ttotal: 945ms\tremaining: 205ms\n",
      "822:\tlearn: 0.0814278\ttotal: 946ms\tremaining: 204ms\n",
      "823:\tlearn: 0.0812923\ttotal: 947ms\tremaining: 202ms\n",
      "824:\tlearn: 0.0812008\ttotal: 948ms\tremaining: 201ms\n",
      "825:\tlearn: 0.0809870\ttotal: 949ms\tremaining: 200ms\n",
      "826:\tlearn: 0.0808320\ttotal: 950ms\tremaining: 199ms\n",
      "827:\tlearn: 0.0806332\ttotal: 951ms\tremaining: 198ms\n",
      "828:\tlearn: 0.0805295\ttotal: 952ms\tremaining: 197ms\n",
      "829:\tlearn: 0.0804180\ttotal: 953ms\tremaining: 195ms\n",
      "830:\tlearn: 0.0803339\ttotal: 954ms\tremaining: 194ms\n",
      "831:\tlearn: 0.0802161\ttotal: 955ms\tremaining: 193ms\n",
      "832:\tlearn: 0.0801420\ttotal: 955ms\tremaining: 192ms\n",
      "833:\tlearn: 0.0800169\ttotal: 956ms\tremaining: 191ms\n",
      "834:\tlearn: 0.0798612\ttotal: 957ms\tremaining: 189ms\n",
      "835:\tlearn: 0.0797914\ttotal: 958ms\tremaining: 188ms\n",
      "836:\tlearn: 0.0795314\ttotal: 959ms\tremaining: 187ms\n",
      "837:\tlearn: 0.0793714\ttotal: 960ms\tremaining: 186ms\n",
      "838:\tlearn: 0.0792082\ttotal: 961ms\tremaining: 185ms\n",
      "839:\tlearn: 0.0791435\ttotal: 962ms\tremaining: 183ms\n",
      "840:\tlearn: 0.0789616\ttotal: 963ms\tremaining: 182ms\n",
      "841:\tlearn: 0.0788768\ttotal: 964ms\tremaining: 181ms\n",
      "842:\tlearn: 0.0787877\ttotal: 964ms\tremaining: 180ms\n",
      "843:\tlearn: 0.0787446\ttotal: 965ms\tremaining: 179ms\n",
      "844:\tlearn: 0.0786319\ttotal: 966ms\tremaining: 177ms\n",
      "845:\tlearn: 0.0785807\ttotal: 967ms\tremaining: 176ms\n",
      "846:\tlearn: 0.0783829\ttotal: 968ms\tremaining: 175ms\n",
      "847:\tlearn: 0.0783762\ttotal: 969ms\tremaining: 174ms\n",
      "848:\tlearn: 0.0782622\ttotal: 970ms\tremaining: 173ms\n",
      "849:\tlearn: 0.0782549\ttotal: 970ms\tremaining: 171ms\n",
      "850:\tlearn: 0.0781890\ttotal: 971ms\tremaining: 170ms\n",
      "851:\tlearn: 0.0780900\ttotal: 972ms\tremaining: 169ms\n",
      "852:\tlearn: 0.0779069\ttotal: 973ms\tremaining: 168ms\n",
      "853:\tlearn: 0.0777757\ttotal: 974ms\tremaining: 167ms\n",
      "854:\tlearn: 0.0776163\ttotal: 974ms\tremaining: 165ms\n",
      "855:\tlearn: 0.0775288\ttotal: 975ms\tremaining: 164ms\n",
      "856:\tlearn: 0.0774518\ttotal: 976ms\tremaining: 163ms\n",
      "857:\tlearn: 0.0773334\ttotal: 977ms\tremaining: 162ms\n",
      "858:\tlearn: 0.0773252\ttotal: 978ms\tremaining: 161ms\n",
      "859:\tlearn: 0.0772364\ttotal: 979ms\tremaining: 160ms\n",
      "860:\tlearn: 0.0771583\ttotal: 979ms\tremaining: 158ms\n",
      "861:\tlearn: 0.0770230\ttotal: 980ms\tremaining: 157ms\n",
      "862:\tlearn: 0.0769026\ttotal: 981ms\tremaining: 156ms\n",
      "863:\tlearn: 0.0767678\ttotal: 982ms\tremaining: 155ms\n",
      "864:\tlearn: 0.0766363\ttotal: 983ms\tremaining: 154ms\n",
      "865:\tlearn: 0.0766278\ttotal: 984ms\tremaining: 152ms\n",
      "866:\tlearn: 0.0765333\ttotal: 985ms\tremaining: 151ms\n",
      "867:\tlearn: 0.0764203\ttotal: 986ms\tremaining: 150ms\n",
      "868:\tlearn: 0.0763080\ttotal: 987ms\tremaining: 149ms\n",
      "869:\tlearn: 0.0762941\ttotal: 987ms\tremaining: 148ms\n",
      "870:\tlearn: 0.0761702\ttotal: 989ms\tremaining: 147ms\n",
      "871:\tlearn: 0.0760408\ttotal: 990ms\tremaining: 146ms\n",
      "872:\tlearn: 0.0759583\ttotal: 991ms\tremaining: 144ms\n",
      "873:\tlearn: 0.0757933\ttotal: 992ms\tremaining: 143ms\n",
      "874:\tlearn: 0.0757280\ttotal: 993ms\tremaining: 142ms\n",
      "875:\tlearn: 0.0756815\ttotal: 994ms\tremaining: 141ms\n",
      "876:\tlearn: 0.0756348\ttotal: 995ms\tremaining: 140ms\n",
      "877:\tlearn: 0.0754968\ttotal: 995ms\tremaining: 138ms\n",
      "878:\tlearn: 0.0753933\ttotal: 997ms\tremaining: 137ms\n",
      "879:\tlearn: 0.0753071\ttotal: 997ms\tremaining: 136ms\n",
      "880:\tlearn: 0.0751881\ttotal: 998ms\tremaining: 135ms\n",
      "881:\tlearn: 0.0751774\ttotal: 999ms\tremaining: 134ms\n",
      "882:\tlearn: 0.0750512\ttotal: 1000ms\tremaining: 133ms\n",
      "883:\tlearn: 0.0749782\ttotal: 1s\tremaining: 131ms\n",
      "884:\tlearn: 0.0748940\ttotal: 1s\tremaining: 130ms\n",
      "885:\tlearn: 0.0748314\ttotal: 1s\tremaining: 129ms\n",
      "886:\tlearn: 0.0747847\ttotal: 1s\tremaining: 128ms\n",
      "887:\tlearn: 0.0746677\ttotal: 1s\tremaining: 127ms\n",
      "888:\tlearn: 0.0746236\ttotal: 1s\tremaining: 126ms\n",
      "889:\tlearn: 0.0745648\ttotal: 1.01s\tremaining: 124ms\n",
      "890:\tlearn: 0.0744740\ttotal: 1.01s\tremaining: 123ms\n",
      "891:\tlearn: 0.0743389\ttotal: 1.01s\tremaining: 122ms\n",
      "892:\tlearn: 0.0742844\ttotal: 1.01s\tremaining: 121ms\n",
      "893:\tlearn: 0.0742772\ttotal: 1.01s\tremaining: 120ms\n",
      "894:\tlearn: 0.0742000\ttotal: 1.01s\tremaining: 119ms\n",
      "895:\tlearn: 0.0741098\ttotal: 1.01s\tremaining: 118ms\n",
      "896:\tlearn: 0.0738985\ttotal: 1.01s\tremaining: 116ms\n",
      "897:\tlearn: 0.0738079\ttotal: 1.01s\tremaining: 115ms\n",
      "898:\tlearn: 0.0736808\ttotal: 1.01s\tremaining: 114ms\n",
      "899:\tlearn: 0.0735703\ttotal: 1.01s\tremaining: 113ms\n",
      "900:\tlearn: 0.0734949\ttotal: 1.01s\tremaining: 112ms\n",
      "901:\tlearn: 0.0733852\ttotal: 1.02s\tremaining: 111ms\n",
      "902:\tlearn: 0.0733670\ttotal: 1.02s\tremaining: 109ms\n",
      "903:\tlearn: 0.0733085\ttotal: 1.02s\tremaining: 108ms\n",
      "904:\tlearn: 0.0731848\ttotal: 1.02s\tremaining: 107ms\n",
      "905:\tlearn: 0.0730588\ttotal: 1.02s\tremaining: 106ms\n",
      "906:\tlearn: 0.0729607\ttotal: 1.02s\tremaining: 105ms\n",
      "907:\tlearn: 0.0729509\ttotal: 1.02s\tremaining: 104ms\n",
      "908:\tlearn: 0.0729090\ttotal: 1.02s\tremaining: 102ms\n",
      "909:\tlearn: 0.0728277\ttotal: 1.02s\tremaining: 101ms\n",
      "910:\tlearn: 0.0727938\ttotal: 1.02s\tremaining: 100ms\n",
      "911:\tlearn: 0.0727089\ttotal: 1.02s\tremaining: 99ms\n",
      "912:\tlearn: 0.0727007\ttotal: 1.02s\tremaining: 97.8ms\n",
      "913:\tlearn: 0.0725468\ttotal: 1.03s\tremaining: 96.7ms\n",
      "914:\tlearn: 0.0724552\ttotal: 1.03s\tremaining: 95.5ms\n",
      "915:\tlearn: 0.0722909\ttotal: 1.03s\tremaining: 94.4ms\n",
      "916:\tlearn: 0.0722106\ttotal: 1.03s\tremaining: 93.2ms\n",
      "917:\tlearn: 0.0720570\ttotal: 1.03s\tremaining: 92ms\n",
      "918:\tlearn: 0.0719931\ttotal: 1.03s\tremaining: 90.9ms\n",
      "919:\tlearn: 0.0718753\ttotal: 1.03s\tremaining: 89.7ms\n",
      "920:\tlearn: 0.0718684\ttotal: 1.03s\tremaining: 88.6ms\n",
      "921:\tlearn: 0.0718533\ttotal: 1.03s\tremaining: 87.5ms\n",
      "922:\tlearn: 0.0716652\ttotal: 1.03s\tremaining: 86.3ms\n",
      "923:\tlearn: 0.0716032\ttotal: 1.03s\tremaining: 85.2ms\n",
      "924:\tlearn: 0.0715093\ttotal: 1.03s\tremaining: 84ms\n",
      "925:\tlearn: 0.0715041\ttotal: 1.03s\tremaining: 82.9ms\n",
      "926:\tlearn: 0.0714363\ttotal: 1.04s\tremaining: 81.7ms\n",
      "927:\tlearn: 0.0713479\ttotal: 1.04s\tremaining: 80.6ms\n",
      "928:\tlearn: 0.0712636\ttotal: 1.04s\tremaining: 79.4ms\n",
      "929:\tlearn: 0.0711530\ttotal: 1.04s\tremaining: 78.3ms\n",
      "930:\tlearn: 0.0710478\ttotal: 1.04s\tremaining: 77.2ms\n",
      "931:\tlearn: 0.0709319\ttotal: 1.04s\tremaining: 76ms\n",
      "932:\tlearn: 0.0708367\ttotal: 1.04s\tremaining: 74.9ms\n",
      "933:\tlearn: 0.0706891\ttotal: 1.04s\tremaining: 73.8ms\n"
     ]
    },
    {
     "name": "stdout",
     "output_type": "stream",
     "text": [
      "934:\tlearn: 0.0706057\ttotal: 1.04s\tremaining: 72.7ms\n",
      "935:\tlearn: 0.0705266\ttotal: 1.04s\tremaining: 71.5ms\n",
      "936:\tlearn: 0.0704153\ttotal: 1.04s\tremaining: 70.4ms\n",
      "937:\tlearn: 0.0703590\ttotal: 1.05s\tremaining: 69.2ms\n",
      "938:\tlearn: 0.0702796\ttotal: 1.05s\tremaining: 68.1ms\n",
      "939:\tlearn: 0.0701171\ttotal: 1.05s\tremaining: 67ms\n",
      "940:\tlearn: 0.0700131\ttotal: 1.05s\tremaining: 65.8ms\n",
      "941:\tlearn: 0.0700070\ttotal: 1.05s\tremaining: 64.7ms\n",
      "942:\tlearn: 0.0699044\ttotal: 1.05s\tremaining: 63.6ms\n",
      "943:\tlearn: 0.0698250\ttotal: 1.05s\tremaining: 62.4ms\n",
      "944:\tlearn: 0.0697689\ttotal: 1.05s\tremaining: 61.3ms\n",
      "945:\tlearn: 0.0697627\ttotal: 1.05s\tremaining: 60.2ms\n",
      "946:\tlearn: 0.0696992\ttotal: 1.05s\tremaining: 59ms\n",
      "947:\tlearn: 0.0695645\ttotal: 1.05s\tremaining: 57.9ms\n",
      "948:\tlearn: 0.0695581\ttotal: 1.05s\tremaining: 56.8ms\n",
      "949:\tlearn: 0.0694396\ttotal: 1.06s\tremaining: 55.7ms\n",
      "950:\tlearn: 0.0692436\ttotal: 1.06s\tremaining: 54.6ms\n",
      "951:\tlearn: 0.0691406\ttotal: 1.06s\tremaining: 53.5ms\n",
      "952:\tlearn: 0.0689727\ttotal: 1.06s\tremaining: 52.3ms\n",
      "953:\tlearn: 0.0688608\ttotal: 1.06s\tremaining: 51.2ms\n",
      "954:\tlearn: 0.0687348\ttotal: 1.06s\tremaining: 50.1ms\n",
      "955:\tlearn: 0.0686390\ttotal: 1.06s\tremaining: 49ms\n",
      "956:\tlearn: 0.0685706\ttotal: 1.06s\tremaining: 47.9ms\n",
      "957:\tlearn: 0.0684487\ttotal: 1.06s\tremaining: 46.7ms\n",
      "958:\tlearn: 0.0683488\ttotal: 1.06s\tremaining: 45.6ms\n",
      "959:\tlearn: 0.0682640\ttotal: 1.07s\tremaining: 44.5ms\n",
      "960:\tlearn: 0.0681917\ttotal: 1.07s\tremaining: 43.4ms\n",
      "961:\tlearn: 0.0681607\ttotal: 1.07s\tremaining: 42.3ms\n",
      "962:\tlearn: 0.0680962\ttotal: 1.07s\tremaining: 41.2ms\n",
      "963:\tlearn: 0.0680832\ttotal: 1.07s\tremaining: 40.1ms\n",
      "964:\tlearn: 0.0680411\ttotal: 1.07s\tremaining: 39ms\n",
      "965:\tlearn: 0.0678782\ttotal: 1.07s\tremaining: 37.8ms\n",
      "966:\tlearn: 0.0677334\ttotal: 1.07s\tremaining: 36.7ms\n",
      "967:\tlearn: 0.0676449\ttotal: 1.07s\tremaining: 35.6ms\n",
      "968:\tlearn: 0.0675497\ttotal: 1.08s\tremaining: 34.5ms\n",
      "969:\tlearn: 0.0674845\ttotal: 1.08s\tremaining: 33.4ms\n",
      "970:\tlearn: 0.0674363\ttotal: 1.08s\tremaining: 32.2ms\n",
      "971:\tlearn: 0.0673910\ttotal: 1.08s\tremaining: 31.1ms\n",
      "972:\tlearn: 0.0673661\ttotal: 1.08s\tremaining: 30ms\n",
      "973:\tlearn: 0.0672880\ttotal: 1.08s\tremaining: 28.9ms\n",
      "974:\tlearn: 0.0671301\ttotal: 1.08s\tremaining: 27.8ms\n",
      "975:\tlearn: 0.0670186\ttotal: 1.08s\tremaining: 26.6ms\n",
      "976:\tlearn: 0.0669157\ttotal: 1.08s\tremaining: 25.5ms\n",
      "977:\tlearn: 0.0668907\ttotal: 1.08s\tremaining: 24.4ms\n",
      "978:\tlearn: 0.0668539\ttotal: 1.08s\tremaining: 23.3ms\n",
      "979:\tlearn: 0.0667420\ttotal: 1.09s\tremaining: 22.2ms\n",
      "980:\tlearn: 0.0666181\ttotal: 1.09s\tremaining: 21.1ms\n",
      "981:\tlearn: 0.0665783\ttotal: 1.09s\tremaining: 20ms\n",
      "982:\tlearn: 0.0664593\ttotal: 1.09s\tremaining: 18.9ms\n",
      "983:\tlearn: 0.0664549\ttotal: 1.09s\tremaining: 17.7ms\n",
      "984:\tlearn: 0.0663458\ttotal: 1.09s\tremaining: 16.6ms\n",
      "985:\tlearn: 0.0662963\ttotal: 1.09s\tremaining: 15.5ms\n",
      "986:\tlearn: 0.0662248\ttotal: 1.09s\tremaining: 14.4ms\n",
      "987:\tlearn: 0.0661364\ttotal: 1.09s\tremaining: 13.3ms\n",
      "988:\tlearn: 0.0660924\ttotal: 1.09s\tremaining: 12.2ms\n",
      "989:\tlearn: 0.0659455\ttotal: 1.09s\tremaining: 11.1ms\n",
      "990:\tlearn: 0.0658606\ttotal: 1.09s\tremaining: 9.96ms\n",
      "991:\tlearn: 0.0658461\ttotal: 1.1s\tremaining: 8.85ms\n",
      "992:\tlearn: 0.0657547\ttotal: 1.1s\tremaining: 7.74ms\n",
      "993:\tlearn: 0.0656657\ttotal: 1.1s\tremaining: 6.63ms\n",
      "994:\tlearn: 0.0656016\ttotal: 1.1s\tremaining: 5.53ms\n",
      "995:\tlearn: 0.0655901\ttotal: 1.1s\tremaining: 4.42ms\n",
      "996:\tlearn: 0.0655511\ttotal: 1.1s\tremaining: 3.31ms\n",
      "997:\tlearn: 0.0654742\ttotal: 1.1s\tremaining: 2.21ms\n",
      "998:\tlearn: 0.0654115\ttotal: 1.1s\tremaining: 1.1ms\n",
      "999:\tlearn: 0.0652682\ttotal: 1.1s\tremaining: 0us\n"
     ]
    },
    {
     "data": {
      "text/plain": [
       "<catboost.core.CatBoostRegressor at 0x7fe19b680f70>"
      ]
     },
     "execution_count": 9,
     "metadata": {},
     "output_type": "execute_result"
    }
   ],
   "source": [
    "#Train the Model \n",
    "prior_model = ctb.CatBoostRegressor()\n",
    "prior_model.fit(X_train,Y_train)"
   ]
  },
  {
   "cell_type": "code",
   "execution_count": 10,
   "id": "af65dcda",
   "metadata": {
    "execution": {
     "iopub.execute_input": "2022-06-12T02:45:33.033157Z",
     "iopub.status.busy": "2022-06-12T02:45:33.032802Z",
     "iopub.status.idle": "2022-06-12T02:45:33.040269Z",
     "shell.execute_reply": "2022-06-12T02:45:33.040514Z"
    },
    "id": "af65dcda",
    "papermill": {
     "duration": 0.020881,
     "end_time": "2022-06-12T02:45:33.040635",
     "exception": false,
     "start_time": "2022-06-12T02:45:33.019754",
     "status": "completed"
    },
    "tags": []
   },
   "outputs": [
    {
     "data": {
      "application/scrapbook.scrap.json+json": {
       "data": 0.08756286200116713,
       "encoder": "json",
       "name": "Prior Model MSE",
       "version": 1
      }
     },
     "metadata": {
      "scrapbook": {
       "data": true,
       "display": false,
       "name": "Prior Model MSE"
      }
     },
     "output_type": "display_data"
    },
    {
     "data": {
      "application/scrapbook.scrap.json+json": {
       "data": 0.9918883847829361,
       "encoder": "json",
       "name": "ABC Pre-generator MSE",
       "version": 1
      }
     },
     "metadata": {
      "scrapbook": {
       "data": true,
       "display": false,
       "name": "ABC Pre-generator MSE"
      }
     },
     "output_type": "display_data"
    },
    {
     "data": {
      "application/scrapbook.scrap.json+json": {
       "data": 0.20659433815223346,
       "encoder": "json",
       "name": "Prior Model MSE",
       "version": 1
      }
     },
     "metadata": {
      "scrapbook": {
       "data": true,
       "display": false,
       "name": "Prior Model MSE"
      }
     },
     "output_type": "display_data"
    },
    {
     "data": {
      "application/scrapbook.scrap.json+json": {
       "data": 0.7732111746064948,
       "encoder": "json",
       "name": "ABC Pre-generator MSE",
       "version": 1
      }
     },
     "metadata": {
      "scrapbook": {
       "data": true,
       "display": false,
       "name": "ABC Pre-generator MSE"
      }
     },
     "output_type": "display_data"
    }
   ],
   "source": [
    "y_pred = prior_model.predict(X_test)\n",
    "y_abc = y_pred + np.random.normal(0,variance, y_pred.shape) + bias \n",
    "mse = mean_squared_error(y_pred,Y_test)\n",
    "sb.glue(\"Prior Model MSE\",mse)\n",
    "mse = mean_squared_error(y_abc,Y_test)\n",
    "sb.glue(\"ABC Pre-generator MSE\",mse)\n",
    "mae = mean_absolute_error(y_pred,Y_test)\n",
    "sb.glue(\"Prior Model MSE\",mae)\n",
    "mae = mean_absolute_error(y_abc,Y_test)\n",
    "sb.glue(\"ABC Pre-generator MSE\",mae)"
   ]
  },
  {
   "cell_type": "markdown",
   "id": "25609da2",
   "metadata": {
    "papermill": {
     "duration": 0.009423,
     "end_time": "2022-06-12T02:45:33.059983",
     "exception": false,
     "start_time": "2022-06-12T02:45:33.050560",
     "status": "completed"
    },
    "tags": []
   },
   "source": [
    "# ABC GAN Model"
   ]
  },
  {
   "cell_type": "code",
   "execution_count": 11,
   "id": "dfc3464d",
   "metadata": {
    "execution": {
     "iopub.execute_input": "2022-06-12T02:45:33.081896Z",
     "iopub.status.busy": "2022-06-12T02:45:33.081510Z",
     "iopub.status.idle": "2022-06-12T02:45:33.083974Z",
     "shell.execute_reply": "2022-06-12T02:45:33.084281Z"
    },
    "papermill": {
     "duration": 0.014882,
     "end_time": "2022-06-12T02:45:33.084387",
     "exception": false,
     "start_time": "2022-06-12T02:45:33.069505",
     "status": "completed"
    },
    "tags": []
   },
   "outputs": [],
   "source": [
    "gen = network.Generator(n_features+1).to(device)\n",
    "disc = network.Discriminator(n_features+1).to(device)\n",
    "\n",
    "criterion = torch.nn.BCELoss()\n",
    "gen_opt = torch.optim.Adam(gen.parameters(), lr=0.001, betas=(0.5, 0.999))\n",
    "disc_opt = torch.optim.Adam(disc.parameters(), lr=0.001, betas=(0.5, 0.999))"
   ]
  },
  {
   "cell_type": "code",
   "execution_count": 12,
   "id": "b75fdd85",
   "metadata": {
    "execution": {
     "iopub.execute_input": "2022-06-12T02:45:33.106358Z",
     "iopub.status.busy": "2022-06-12T02:45:33.105994Z",
     "iopub.status.idle": "2022-06-12T02:46:32.733048Z",
     "shell.execute_reply": "2022-06-12T02:46:32.733432Z"
    },
    "papermill": {
     "duration": 59.639112,
     "end_time": "2022-06-12T02:46:32.733557",
     "exception": false,
     "start_time": "2022-06-12T02:45:33.094445",
     "status": "completed"
    },
    "tags": []
   },
   "outputs": [
    {
     "data": {
      "image/png": "[encoded data removed]",
      "text/plain": [
       "<Figure size 432x288 with 1 Axes>"
      ]
     },
     "metadata": {
      "needs_background": "light"
     },
     "output_type": "display_data"
    },
    {
     "data": {
      "image/png": "[encoded data removed]",
      "text/plain": [
       "<Figure size 432x288 with 1 Axes>"
      ]
     },
     "metadata": {
      "needs_background": "light"
     },
     "output_type": "display_data"
    }
   ],
   "source": [
    "#Training the ABC_GAN \n",
    "ABC_train_test2.training_GAN(disc,gen,disc_opt,gen_opt,train_data,batch_size,n_epochs,criterion,prior_model,variance,bias,device)"
   ]
  },
  {
   "cell_type": "code",
   "execution_count": 13,
   "id": "1fa7c368",
   "metadata": {
    "execution": {
     "iopub.execute_input": "2022-06-12T02:46:32.758158Z",
     "iopub.status.busy": "2022-06-12T02:46:32.757786Z",
     "iopub.status.idle": "2022-06-12T02:46:33.059546Z",
     "shell.execute_reply": "2022-06-12T02:46:33.059876Z"
    },
    "papermill": {
     "duration": 0.315727,
     "end_time": "2022-06-12T02:46:33.060003",
     "exception": false,
     "start_time": "2022-06-12T02:46:32.744276",
     "status": "completed"
    },
    "tags": []
   },
   "outputs": [
    {
     "data": {
      "application/scrapbook.scrap.json+json": {
       "data": 0.1107609682980392,
       "encoder": "json",
       "name": "ABC-GAN Model 1 MSE",
       "version": 1
      }
     },
     "metadata": {
      "scrapbook": {
       "data": true,
       "display": false,
       "name": "ABC-GAN Model 1 MSE"
      }
     },
     "output_type": "display_data"
    },
    {
     "data": {
      "application/scrapbook.scrap.json+json": {
       "data": 0.24072644871148263,
       "encoder": "json",
       "name": "ABC-GAN Model 1 MAE",
       "version": 1
      }
     },
     "metadata": {
      "scrapbook": {
       "data": true,
       "display": false,
       "name": "ABC-GAN Model 1 MAE"
      }
     },
     "output_type": "display_data"
    },
    {
     "data": {
      "application/scrapbook.scrap.json+json": {
       "data": 24.55409776857123,
       "encoder": "json",
       "name": "ABC-GAN Model 1 Manhattan Distance",
       "version": 1
      }
     },
     "metadata": {
      "scrapbook": {
       "data": true,
       "display": false,
       "name": "ABC-GAN Model 1 Manhattan Distance"
      }
     },
     "output_type": "display_data"
    },
    {
     "data": {
      "application/scrapbook.scrap.json+json": {
       "data": 3.3611481943429182,
       "encoder": "json",
       "name": "ABC-GAN Model 1 Euclidean distance",
       "version": 1
      }
     },
     "metadata": {
      "scrapbook": {
       "data": true,
       "display": false,
       "name": "ABC-GAN Model 1 Euclidean distance"
      }
     },
     "output_type": "display_data"
    },
    {
     "data": {
      "application/scrapbook.scrap.json+json": {
       "data": [
        [
         0.11021259470981674,
         0.11024068772066023,
         0.11096401906060561,
         0.10883632210558947,
         0.11031092288611098,
         0.11181894657493659,
         0.11058951812751876,
         0.11029610119531491,
         0.11140272994202145,
         0.1101437131381596,
         0.10781644523634658,
         0.11229163335015699,
         0.11042130552410528,
         0.11138582862009229,
         0.11083865284090491,
         0.11142157784921121,
         0.10883130612475687,
         0.11060714376413036,
         0.1105607880133821,
         0.11243871130344586,
         0.11229432146163179,
         0.1095392251681859,
         0.11029120988015968,
         0.11095777124380486,
         0.11041770089108505,
         0.11117148120894757,
         0.11038503526544063,
         0.11154493110489587,
         0.10926013754168148,
         0.10913976737448354,
         0.11133066666707209,
         0.1123623699476924,
         0.11081413904974668,
         0.10842426625965611,
         0.1119112206240764,
         0.11191429084922427,
         0.11208847242844547,
         0.10985964130191421,
         0.10949525711778337,
         0.11179996795581923,
         0.11056089997060624,
         0.11046885899000818,
         0.1117051888981361,
         0.11108853291067078,
         0.11030829715988685,
         0.10921436770707721,
         0.11183988256571137,
         0.11247179978808962,
         0.11108132730546512,
         0.1088706854301341,
         0.11152373239662244,
         0.11078486633983117,
         0.11125603637050313,
         0.11254456570640906,
         0.11154001430803565,
         0.1119368093307008,
         0.11036341549045563,
         0.11171691911331785,
         0.11104599536876396,
         0.11082767528049418,
         0.10999084536139979,
         0.10902487001752288,
         0.11125094182480746,
         0.11005191399426345,
         0.1103771737682605,
         0.11112105164829866,
         0.11108275119789329,
         0.1120153537539669,
         0.11208135144999949,
         0.11140290382641144,
         0.10923151478301929,
         0.11206449908594342,
         0.11021164472013903,
         0.11100980188013804,
         0.11114699843706304,
         0.11121560405921677,
         0.11140693339849443,
         0.1108770966476403,
         0.11228854687119505,
         0.11182667571682756,
         0.11016305471034711,
         0.11234327143940247,
         0.11236512382908367,
         0.11088875302027638,
         0.10992535133174453,
         0.10854472115137327,
         0.11344705185314684,
         0.10925463504950217,
         0.1105304013156098,
         0.10878269338177388,
         0.11311101617494505,
         0.11017549936938187,
         0.10901952745122578,
         0.11068713547082602,
         0.1101639340632384,
         0.1104232811651337,
         0.10907407560386996,
         0.10890970096263573,
         0.1117909281866131,
         0.10923750997135763
        ],
        [
         0.2402930146576289,
         0.23980395767070792,
         0.24180796473086172,
         0.24017574865480557,
         0.24060689132916285,
         0.2416289427646381,
         0.24081244725989653,
         0.24006804119905129,
         0.24146425352413572,
         0.2409923134426422,
         0.23798092181666516,
         0.242192129449298,
         0.24152396295183137,
         0.2412226643395044,
         0.23951351333080845,
         0.24146660255706487,
         0.23821992325760863,
         0.24065484264500292,
         0.24030639469513998,
         0.24287470650183512,
         0.24295746490322784,
         0.24014296148008868,
         0.23849383384610215,
         0.24058901833589463,
         0.23968360263525562,
         0.23894782219191685,
         0.24009696252680585,
         0.23998179095888547,
         0.23895647019768754,
         0.23958354650576616,
         0.24143735261853128,
         0.2418257304394216,
         0.24149499184397213,
         0.2378482122942075,
         0.24344624526908293,
         0.24145708694214038,
         0.24373830815631092,
         0.2403908610508284,
         0.23926379370010076,
         0.24229682749137282,
         0.24038434756335383,
         0.24059580442696518,
         0.24227814260395428,
         0.24181795981256107,
         0.24052014772542843,
         0.23882447958321257,
         0.24395433887291482,
         0.2418031777328282,
         0.24069059750649566,
         0.23912098668698295,
         0.24066530103229133,
         0.2415512773281365,
         0.24075180318608297,
         0.2423636860798533,
         0.24078673815500795,
         0.24221895310991243,
         0.23881854081307263,
         0.24153981901084384,
         0.24117223733086504,
         0.23969894626597857,
         0.24111888635282716,
         0.2405650496720245,
         0.2415358117672012,
         0.23959910969122075,
         0.24036977680253924,
         0.24175377711471097,
         0.241001316939718,
         0.24131610818828145,
         0.2436414691619575,
         0.24040806575623505,
         0.23902963493567178,
         0.24154428258428678,
         0.24018699022959553,
         0.2397349938914618,
         0.2429673479888223,
         0.24111966818899794,
         0.24190645348098055,
         0.24114828367772348,
         0.24112093075196825,
         0.2417403111946495,
         0.23946194125193299,
         0.2417273450295861,
         0.24130511076609587,
         0.2406499981241045,
         0.2406412917919749,
         0.23809934397428936,
         0.2439328259423229,
         0.23929945687197296,
         0.2406041281133452,
         0.23900030189029434,
         0.24213031442908972,
         0.2404316984500517,
         0.23884789896763714,
         0.23893911743025278,
         0.23975949813885725,
         0.24173818295821548,
         0.23935941633238805,
         0.23816521806350233,
         0.2412024446507441,
         0.23974166460810045
        ],
        [
         24.509887495078146,
         24.460003682412207,
         24.664412402547896,
         24.497926362790167,
         24.54190291557461,
         24.646152161993086,
         24.562869620509446,
         24.48694020230323,
         24.629353859461844,
         24.581215971149504,
         24.274054025299847,
         24.703597203828394,
         24.6354442210868,
         24.60471176262945,
         24.430378359742463,
         24.629593460820615,
         24.29843217227608,
         24.5467939497903,
         24.51125225890428,
         24.773220063187182,
         24.78166142012924,
         24.494582070969045,
         24.32637105230242,
         24.540079870261252,
         24.447727468796074,
         24.372677863575518,
         24.489890177734196,
         24.478142677806318,
         24.37355996016413,
         24.43752174358815,
         24.62660996709019,
         24.666224504821002,
         24.632489168085158,
         24.260517654009163,
         24.83151701744646,
         24.62862286809832,
         24.861307431943715,
         24.5198678271845,
         24.404906957410276,
         24.714276404120028,
         24.51920345146209,
         24.540772051550448,
         24.712370545603335,
         24.66543190088123,
         24.5330550679937,
         24.36009691748768,
         24.88334256503731,
         24.663924128748477,
         24.550440945662558,
         24.39034064207226,
         24.547860705293715,
         24.638230287469923,
         24.55668392498046,
         24.721095980145037,
         24.56024729181081,
         24.706333217211068,
         24.35949116293341,
         24.63706153910607,
         24.599568207748234,
         24.449292519129813,
         24.59412640798837,
         24.5376350665465,
         24.636652800254524,
         24.439109188504517,
         24.517717233859003,
         24.65888526570052,
         24.582134327851236,
         24.61424303520471,
         24.851429854519665,
         24.521622707135975,
         24.381022763438523,
         24.637516823597252,
         24.499073003418744,
         24.452969376929104,
         24.782669494859874,
         24.59420615527779,
         24.674458255060017,
         24.597124935127795,
         24.59433493670076,
         24.65751174185425,
         24.425118007697165,
         24.65618919301778,
         24.613121298141778,
         24.54629980865866,
         24.54541176278144,
         24.286133085377514,
         24.881148246116936,
         24.40854460094124,
         24.54162106756121,
         24.378030792810023,
         24.69729207176715,
         24.524033241905272,
         24.36248569469899,
         24.371789977885783,
         24.45546881016344,
         24.65729466173798,
         24.41466046590358,
         24.292852242477238,
         24.6026493543759,
         24.453649790026248
        ],
        [
         3.352862159469325,
         3.3532894517931706,
         3.364272572812996,
         3.3318620701898998,
         3.354357484583794,
         3.3772078038882256,
         3.3585906045552663,
         3.3541321264854966,
         3.370916559941255,
         3.351814246060225,
         3.316214319688543,
         3.38433842895713,
         3.356035334059929,
         3.3706608431062017,
         3.3623715722347374,
         3.3712017057155657,
         3.331785290910145,
         3.358858238143029,
         3.3581543111305914,
         3.386554082389867,
         3.384378936981857,
         3.342603920172858,
         3.354057752600019,
         3.364177858982502,
         3.3559805557974665,
         3.367416084078808,
         3.3554841077071043,
         3.373067294422004,
         3.3383430065305615,
         3.3365035999077417,
         3.3698261082793803,
         3.3854042202763064,
         3.3619997297849626,
         3.325548850713957,
         3.378600968397391,
         3.378647313144845,
         3.381275526735648,
         3.3474891206388184,
         3.34193300740962,
         3.376921191187849,
         3.358156011414871,
         3.356757902646664,
         3.3754894856316593,
         3.3661595857725497,
         3.3543175625316777,
         3.337643705688472,
         3.3775239483536685,
         3.3870523436145974,
         3.366050413341642,
         3.33238801970504,
         3.372746759609368,
         3.361555646819309,
         3.3686964407306452,
         3.3881478276565384,
         3.3729929527675617,
         3.3789872079857717,
         3.355155492674888,
         3.375666711859809,
         3.3655150464102705,
         3.36220506195122,
         3.3494874573377307,
         3.334746878218395,
         3.368619311547442,
         3.350417172146608,
         3.355364618690876,
         3.3666522345093,
         3.3660719870770905,
         3.3801724930696397,
         3.381168118845904,
         3.370919190709555,
         3.337905706856915,
         3.380913915905909,
         3.352847709254654,
         3.3649665365013774,
         3.3670452685671495,
         3.368084264688178,
         3.3709801551843097,
         3.3629546321738135,
         3.384291917205413,
         3.37732452143948,
         3.3521085275473115,
         3.385116495309881,
         3.3854457063386105,
         3.3631313991677745,
         3.348490082983365,
         3.32739561180213,
         3.4017053501179335,
         3.338258943678459,
         3.3576927992584724,
         3.33104108724899,
         3.396663605634858,
         3.3522978590329577,
         3.334665170601844,
         3.3600725911837457,
         3.3521219062633025,
         3.3560653567598524,
         3.3354993196813476,
         3.332985073202225,
         3.376784665185883,
         3.3379973063318182
        ]
       ],
       "encoder": "json",
       "name": "ABC_GAN_1 Metrics",
       "version": 1
      }
     },
     "metadata": {
      "scrapbook": {
       "data": true,
       "display": false,
       "name": "ABC_GAN_1 Metrics"
      }
     },
     "output_type": "display_data"
    },
    {
     "name": "stdout",
     "output_type": "stream",
     "text": [
      "MSE\n",
      "0.1107609682980392\n"
     ]
    }
   ],
   "source": [
    "ABC_GAN1_metrics=ABC_train_test2.test_generator(gen,test_data,prior_model,variance,bias,\"1\",device)\n",
    "sb.glue(\"ABC_GAN_1 Metrics\",ABC_GAN1_metrics)\n",
    "\n",
    "print(\"MSE\")\n",
    "print(mean(ABC_GAN1_metrics[0]))"
   ]
  },
  {
   "cell_type": "code",
   "execution_count": 14,
   "id": "eb22ce5c",
   "metadata": {
    "execution": {
     "iopub.execute_input": "2022-06-12T02:46:33.088107Z",
     "iopub.status.busy": "2022-06-12T02:46:33.087742Z",
     "iopub.status.idle": "2022-06-12T02:46:33.396051Z",
     "shell.execute_reply": "2022-06-12T02:46:33.396291Z"
    },
    "papermill": {
     "duration": 0.324048,
     "end_time": "2022-06-12T02:46:33.396413",
     "exception": false,
     "start_time": "2022-06-12T02:46:33.072365",
     "status": "completed"
    },
    "tags": []
   },
   "outputs": [
    {
     "data": {
      "image/png": "[encoded data removed]",
      "text/plain": [
       "<Figure size 432x288 with 1 Axes>"
      ]
     },
     "metadata": {
      "needs_background": "light"
     },
     "output_type": "display_data"
    },
    {
     "data": {
      "image/png": "[encoded data removed]",
      "text/plain": [
       "<Figure size 432x288 with 1 Axes>"
      ]
     },
     "metadata": {
      "needs_background": "light"
     },
     "output_type": "display_data"
    },
    {
     "data": {
      "image/png": "[encoded data removed]",
      "text/plain": [
       "<Figure size 432x288 with 1 Axes>"
      ]
     },
     "metadata": {
      "needs_background": "light"
     },
     "output_type": "display_data"
    },
    {
     "data": {
      "image/png": "[encoded data removed]",
      "text/plain": [
       "<Figure size 432x288 with 1 Axes>"
      ]
     },
     "metadata": {
      "needs_background": "light"
     },
     "output_type": "display_data"
    }
   ],
   "source": [
    "sanityChecks.discProbVsError(train_data,disc,device)\n",
    "sanityChecks.discProbVsError(test_data,disc,device)"
   ]
  },
  {
   "cell_type": "markdown",
   "id": "130f3a4d",
   "metadata": {
    "id": "130f3a4d",
    "papermill": {
     "duration": 0.014369,
     "end_time": "2022-06-12T02:46:33.425428",
     "exception": false,
     "start_time": "2022-06-12T02:46:33.411059",
     "status": "completed"
    },
    "tags": []
   },
   "source": [
    "# ABC - GAN Model with skip connection"
   ]
  },
  {
   "cell_type": "code",
   "execution_count": 15,
   "id": "4e43dad1",
   "metadata": {
    "execution": {
     "iopub.execute_input": "2022-06-12T02:46:33.458261Z",
     "iopub.status.busy": "2022-06-12T02:46:33.457868Z",
     "iopub.status.idle": "2022-06-12T02:46:33.460227Z",
     "shell.execute_reply": "2022-06-12T02:46:33.460482Z"
    },
    "id": "4e43dad1",
    "papermill": {
     "duration": 0.020684,
     "end_time": "2022-06-12T02:46:33.460595",
     "exception": false,
     "start_time": "2022-06-12T02:46:33.439911",
     "status": "completed"
    },
    "tags": []
   },
   "outputs": [],
   "source": [
    "#Generator\n",
    "gen3 = network.GeneratorWithSkipConnection(n_features+1).to(device)\n",
    "constraints=network.weightConstraint()\n",
    "#Discriminator \n",
    "disc3 = network.Discriminator(n_features+1).to(device)\n",
    "\n",
    "criterion = torch.nn.BCELoss()\n",
    "gen_opt = torch.optim.Adam(gen3.parameters(), lr=0.001, betas=(0.5, 0.999))\n",
    "disc_opt = torch.optim.Adam(disc3.parameters(), lr=0.001, betas=(0.5, 0.999))\n"
   ]
  },
  {
   "cell_type": "code",
   "execution_count": 16,
   "id": "26acbc37",
   "metadata": {
    "execution": {
     "iopub.execute_input": "2022-06-12T02:46:33.492294Z",
     "iopub.status.busy": "2022-06-12T02:46:33.491916Z",
     "iopub.status.idle": "2022-06-12T03:00:34.293529Z",
     "shell.execute_reply": "2022-06-12T03:00:34.293783Z"
    },
    "id": "26acbc37",
    "papermill": {
     "duration": 840.818707,
     "end_time": "2022-06-12T03:00:34.293927",
     "exception": false,
     "start_time": "2022-06-12T02:46:33.475220",
     "status": "completed"
    },
    "tags": []
   },
   "outputs": [
    {
     "data": {
      "image/png": "[encoded data removed]",
      "text/plain": [
       "<Figure size 432x288 with 1 Axes>"
      ]
     },
     "metadata": {
      "needs_background": "light"
     },
     "output_type": "display_data"
    },
    {
     "data": {
      "image/png": "[encoded data removed]",
      "text/plain": [
       "<Figure size 432x288 with 1 Axes>"
      ]
     },
     "metadata": {
      "needs_background": "light"
     },
     "output_type": "display_data"
    }
   ],
   "source": [
    "ABC_train_test2.training_GAN_skip_connection(disc3,gen3,disc_opt,gen_opt,train_data,batch_size,n_epochs,criterion,prior_model,variance,bias,device)"
   ]
  },
  {
   "cell_type": "code",
   "execution_count": 17,
   "id": "c5e0717b",
   "metadata": {
    "execution": {
     "iopub.execute_input": "2022-06-12T03:00:34.328545Z",
     "iopub.status.busy": "2022-06-12T03:00:34.328161Z",
     "iopub.status.idle": "2022-06-12T03:00:35.136424Z",
     "shell.execute_reply": "2022-06-12T03:00:35.136718Z"
    },
    "id": "c5e0717b",
    "papermill": {
     "duration": 0.827276,
     "end_time": "2022-06-12T03:00:35.136838",
     "exception": false,
     "start_time": "2022-06-12T03:00:34.309562",
     "status": "completed"
    },
    "tags": []
   },
   "outputs": [
    {
     "data": {
      "application/scrapbook.scrap.json+json": {
       "data": 0.130567072686209,
       "encoder": "json",
       "name": "ABC-GAN Model 3 MSE",
       "version": 1
      }
     },
     "metadata": {
      "scrapbook": {
       "data": true,
       "display": false,
       "name": "ABC-GAN Model 3 MSE"
      }
     },
     "output_type": "display_data"
    },
    {
     "data": {
      "application/scrapbook.scrap.json+json": {
       "data": 0.25043772281494503,
       "encoder": "json",
       "name": "ABC-GAN Model 3 MAE",
       "version": 1
      }
     },
     "metadata": {
      "scrapbook": {
       "data": true,
       "display": false,
       "name": "ABC-GAN Model 3 MAE"
      }
     },
     "output_type": "display_data"
    },
    {
     "data": {
      "application/scrapbook.scrap.json+json": {
       "data": 25.544647727124392,
       "encoder": "json",
       "name": "ABC-GAN Model 3 Manhattan Distance",
       "version": 1
      }
     },
     "metadata": {
      "scrapbook": {
       "data": true,
       "display": false,
       "name": "ABC-GAN Model 3 Manhattan Distance"
      }
     },
     "output_type": "display_data"
    },
    {
     "data": {
      "application/scrapbook.scrap.json+json": {
       "data": 3.648029389068135,
       "encoder": "json",
       "name": "ABC-GAN Model 3 Euclidean distance",
       "version": 1
      }
     },
     "metadata": {
      "scrapbook": {
       "data": true,
       "display": false,
       "name": "ABC-GAN Model 3 Euclidean distance"
      }
     },
     "output_type": "display_data"
    },
    {
     "data": {
      "application/scrapbook.scrap.json+json": {
       "data": [
        [
         0.14106186777847046,
         0.12317691545310035,
         0.12705535171528803,
         0.1263651670050641,
         0.12219165497976799,
         0.13852736234590024,
         0.12868400302324678,
         0.1374757829696974,
         0.1270454471753429,
         0.12128295424226819,
         0.1314919673529195,
         0.12711534755973683,
         0.1255002855765949,
         0.13974026026924022,
         0.14232614220126205,
         0.13191611825108931,
         0.13206373755017906,
         0.13118617812560024,
         0.13127857687129493,
         0.12089466570719437,
         0.13808390487566238,
         0.13633910534219554,
         0.12925942285574632,
         0.12969431072091886,
         0.1250142204823522,
         0.14340055612959277,
         0.13658848521314723,
         0.13413213322344833,
         0.1248600057339853,
         0.12338333216633547,
         0.12830449314374498,
         0.13006441349292222,
         0.12272684082284778,
         0.13299045445517518,
         0.1449181739715655,
         0.12138539441485817,
         0.13853872108820842,
         0.13450964128444906,
         0.1421976071963956,
         0.1412643475570254,
         0.1228504738588921,
         0.13266550094905416,
         0.14155447619346853,
         0.1315814712236826,
         0.1307256646516998,
         0.1224824361179433,
         0.13041879389099115,
         0.1348238673056352,
         0.1188304217221898,
         0.12610802726180242,
         0.12812092094249303,
         0.1316829465301788,
         0.13718244580068364,
         0.12324081825958154,
         0.1252231260865992,
         0.12272521191295534,
         0.14108525901983837,
         0.14295484512311052,
         0.126091143042516,
         0.12069362670736658,
         0.12544271168387286,
         0.126557503005515,
         0.12994724876939504,
         0.13142685330918702,
         0.13478243589981068,
         0.11843140729910141,
         0.12502309348172186,
         0.14053144489931357,
         0.12675676140901038,
         0.14165685655022944,
         0.11889991086708336,
         0.1409209768265881,
         0.12046580506536485,
         0.12680855494776563,
         0.12432089764756858,
         0.13688959845057921,
         0.12155899866604987,
         0.1440976622009348,
         0.13141028972162952,
         0.12828299263600623,
         0.13193032470634986,
         0.11935345306886656,
         0.13997680131187631,
         0.13715759781176046,
         0.1307945845186094,
         0.12914483772617477,
         0.13127836562607242,
         0.1346512814476898,
         0.12425610657450209,
         0.13197829744175832,
         0.12807708831719647,
         0.11810132625563842,
         0.12966593938990809,
         0.14368469042487925,
         0.12785847670247646,
         0.12029369087584699,
         0.13226636111163803,
         0.13579048368230634,
         0.13623981149808395,
         0.12491891986802446
        ],
        [
         0.26178705561723487,
         0.2339942782624241,
         0.2518207101133086,
         0.2469194280257558,
         0.24312040393295534,
         0.26086143456289873,
         0.25145237831691025,
         0.26523772270108265,
         0.24543982416427895,
         0.24127998037775064,
         0.23889606731815957,
         0.24586480316322515,
         0.24357128761453078,
         0.2656427624854533,
         0.25835124309192975,
         0.25739085733634876,
         0.26012977301234413,
         0.2553894130567856,
         0.2493214862987253,
         0.24083869273354316,
         0.26483851869353187,
         0.2611471627948477,
         0.2506233116374442,
         0.2528341651309793,
         0.24034434506742686,
         0.2610911682120287,
         0.25791255471424435,
         0.24312893061113416,
         0.2465643806145618,
         0.2505428012843956,
         0.25167604208029076,
         0.25691871828052637,
         0.24145473518828844,
         0.25842690658664297,
         0.25718782667764556,
         0.2418381267263755,
         0.24350689900308556,
         0.25716313391960427,
         0.2599536190813809,
         0.2667187395432562,
         0.2511286331687634,
         0.25405111551905674,
         0.2566063003158014,
         0.2511321288789166,
         0.24663276701033407,
         0.2453951698033979,
         0.2520290223936386,
         0.25490929523263783,
         0.24074818943535872,
         0.2497875465390583,
         0.25034131563505996,
         0.2543852574776347,
         0.24958677349758207,
         0.24075735405123994,
         0.2503662127727533,
         0.24612253488899738,
         0.2549776734473805,
         0.26131463132104743,
         0.2491161333963129,
         0.24137748581558174,
         0.24271422165318154,
         0.24616142673710106,
         0.25063424540099266,
         0.25098794166400445,
         0.25531184367433774,
         0.24316208620610483,
         0.23545168523731477,
         0.25508773736838325,
         0.247769092237029,
         0.2544930236249724,
         0.2404401681532024,
         0.2560075176788457,
         0.23941807022464334,
         0.2541158817361529,
         0.24405033313943184,
         0.2475070114904905,
         0.24229091143819922,
         0.2569370204856729,
         0.2501227407277945,
         0.25110452674219713,
         0.24683307082958372,
         0.23875652006188153,
         0.265259480514728,
         0.252331167103394,
         0.2544762031723033,
         0.24843472279790862,
         0.25002347518160356,
         0.25528447776485014,
         0.24554824961495458,
         0.2531383825082551,
         0.2567879629284874,
         0.23284209454797355,
         0.2507161065004766,
         0.26038866111205194,
         0.2469889375965531,
         0.24659545019305512,
         0.24540503192510382,
         0.25208930759782006,
         0.24970833983674062,
         0.246449925452836
        ],
        [
         26.702279672957957,
         23.86741638276726,
         25.685712431557477,
         25.185781658627093,
         24.798281201161444,
         26.60786632541567,
         25.648142588324845,
         27.054247715510428,
         25.034862064756453,
         24.610557998530567,
         24.367398866452277,
         25.078209922648966,
         24.84427133668214,
         27.095561773516238,
         26.351826795376837,
         26.253867448307574,
         26.533236847259104,
         26.049720131792128,
         25.43079160246998,
         24.565546658821404,
         27.013528906740248,
         26.637010605074465,
         25.563577787019312,
         25.789084843359888,
         24.51512319687754,
         26.631299157626927,
         26.307080580852926,
         24.799150922335684,
         25.1495668226853,
         25.55536573100835,
         25.670956292189658,
         26.205709264613688,
         24.62838298920542,
         26.35954447183758,
         26.233158321119845,
         24.6674889260903,
         24.837703698314726,
         26.230639659799635,
         26.515269146300852,
         27.205311433412135,
         25.615120583213866,
         25.913213782943785,
         26.173842632211745,
         25.615477145649493,
         25.156542235054076,
         25.030307319946587,
         25.706960284151137,
         26.00074811372906,
         24.55631532240659,
         25.478329746983945,
         25.534814194776118,
         25.947296262718737,
         25.45785089675337,
         24.557250113226473,
         25.537353702820837,
         25.104498558677733,
         26.007722691632807,
         26.65409239474684,
         25.409845606423914,
         24.620503553189337,
         24.756850608624518,
         25.108465527184308,
         25.564693030901253,
         25.600770049728453,
         26.04180805478245,
         24.802532793022692,
         24.016071894206107,
         26.01894921157509,
         25.27244740817696,
         25.958288409747183,
         24.524897151626647,
         26.112766803242266,
         24.42064316291362,
         25.919819937087595,
         24.893133980222046,
         25.24571517203003,
         24.713672966696322,
         26.207576089538634,
         25.51251955423504,
         25.612661727704108,
         25.17697322461754,
         24.353165046311915,
         27.056467012502253,
         25.737779044546187,
         25.956572723574936,
         25.34034172538668,
         25.502394468523562,
         26.039016732014716,
         25.045921460725367,
         25.82011501584202,
         26.192372218705714,
         23.7498936438933,
         25.573042863048613,
         26.5596434334293,
         25.192871634848416,
         25.152735919691622,
         25.03131325636059,
         25.71310937497765,
         25.470250663347542,
         25.137892396189272
        ],
        [
         3.7931926544013006,
         3.544579717853195,
         3.5999508156305935,
         3.5901597505565865,
         3.5303751653239814,
         3.7589614202970774,
         3.622950221624798,
         3.744666856064653,
         3.5998104966629803,
         3.5172235261227507,
         3.662264418361649,
         3.6008006680588633,
         3.577852586232792,
         3.7753816426240276,
         3.8101530815085014,
         3.6681663077907345,
         3.6702181447590094,
         3.658003576927068,
         3.6592915763672185,
         3.511588800263183,
         3.752939953865177,
         3.729153891287398,
         3.631041328776928,
         3.63714444221476,
         3.570917317609009,
         3.824507383339515,
         3.7325628583777415,
         3.6988481435159954,
         3.5687141360532784,
         3.5475484325046525,
         3.617603944693502,
         3.6423303222357615,
         3.53809804328971,
         3.683072949919383,
         3.844691631990748,
         3.518708602643238,
         3.759115527753471,
         3.704049596187098,
         3.808432214708875,
         3.7959140468162063,
         3.539879706092707,
         3.678570523559868,
         3.7998100704816533,
         3.6635106202678904,
         3.6515774391998566,
         3.5345733100376084,
         3.6472889900419316,
         3.7083735606293473,
         3.4814800036282496,
         3.586505092803277,
         3.6150150672070906,
         3.664922993198935,
         3.7406696555121957,
         3.5454990427974047,
         3.5738996713440505,
         3.5380745632506736,
         3.7935071398408504,
         3.818559178873266,
         3.5862649916503146,
         3.508667827559541,
         3.577031813075616,
         3.5928909399761255,
         3.640689409229836,
         3.661357540248845,
         3.70780372481887,
         3.4756299493053544,
         3.5710440399322474,
         3.7860543286817716,
         3.595718240312922,
         3.8011839429476977,
         3.4824977973349105,
         3.791297882824823,
         3.5053547775749054,
         3.5964527808205817,
         3.5610014827365624,
         3.7366748643625765,
         3.5212239156204035,
         3.8337920580667055,
         3.66112681446658,
         3.6173008236629474,
         3.6683638205673774,
         3.48913344729381,
         3.778575622349165,
         3.740330864616065,
         3.6525398862843588,
         3.6294315599098743,
         3.6592886322151994,
         3.7059992859773137,
         3.560073436124487,
         3.6690307083832567,
         3.6143966313001727,
         3.4707830929165135,
         3.636746597959586,
         3.828294453583434,
         3.6113106517790183,
         3.5028497640259126,
         3.673032648015407,
         3.7216433649122327,
         3.727795698909016,
         3.5695559705008817
        ]
       ],
       "encoder": "json",
       "name": "ABC_GAN_3 Metrics",
       "version": 1
      }
     },
     "metadata": {
      "scrapbook": {
       "data": true,
       "display": false,
       "name": "ABC_GAN_3 Metrics"
      }
     },
     "output_type": "display_data"
    },
    {
     "name": "stdout",
     "output_type": "stream",
     "text": [
      "MSE\n",
      "0.130567072686209\n"
     ]
    }
   ],
   "source": [
    "ABC_GAN3_metrics=ABC_train_test2.test_generator(gen3,test_data,prior_model,variance,bias,\"3\",device)\n",
    "sb.glue(\"ABC_GAN_3 Metrics\",ABC_GAN3_metrics)\n",
    "\n",
    "print(\"MSE\")\n",
    "print(mean(ABC_GAN3_metrics[0]))"
   ]
  },
  {
   "cell_type": "code",
   "execution_count": 18,
   "id": "c8e46b48",
   "metadata": {
    "execution": {
     "iopub.execute_input": "2022-06-12T03:00:35.174083Z",
     "iopub.status.busy": "2022-06-12T03:00:35.173707Z",
     "iopub.status.idle": "2022-06-12T03:00:35.499436Z",
     "shell.execute_reply": "2022-06-12T03:00:35.499743Z"
    },
    "id": "c8e46b48",
    "papermill": {
     "duration": 0.346144,
     "end_time": "2022-06-12T03:00:35.499865",
     "exception": false,
     "start_time": "2022-06-12T03:00:35.153721",
     "status": "completed"
    },
    "tags": []
   },
   "outputs": [
    {
     "data": {
      "image/png": "[encoded data removed]",
      "text/plain": [
       "<Figure size 432x288 with 1 Axes>"
      ]
     },
     "metadata": {
      "needs_background": "light"
     },
     "output_type": "display_data"
    },
    {
     "data": {
      "image/png": "[encoded data removed]",
      "text/plain": [
       "<Figure size 432x288 with 1 Axes>"
      ]
     },
     "metadata": {
      "needs_background": "light"
     },
     "output_type": "display_data"
    },
    {
     "data": {
      "image/png": "[encoded data removed]",
      "text/plain": [
       "<Figure size 432x288 with 1 Axes>"
      ]
     },
     "metadata": {
      "needs_background": "light"
     },
     "output_type": "display_data"
    },
    {
     "data": {
      "image/png": "[encoded data removed]",
      "text/plain": [
       "<Figure size 432x288 with 1 Axes>"
      ]
     },
     "metadata": {
      "needs_background": "light"
     },
     "output_type": "display_data"
    }
   ],
   "source": [
    "sanityChecks.discProbVsError(train_data,disc3,device)\n",
    "sanityChecks.discProbVsError(test_data,disc3,device)"
   ]
  },
  {
   "cell_type": "markdown",
   "id": "a5bd74c3",
   "metadata": {
    "id": "a5bd74c3",
    "papermill": {
     "duration": 0.019512,
     "end_time": "2022-06-12T03:00:35.539136",
     "exception": false,
     "start_time": "2022-06-12T03:00:35.519624",
     "status": "completed"
    },
    "tags": []
   },
   "source": [
    "## Skip Connection Model Analysis - ABC-GAN "
   ]
  },
  {
   "cell_type": "markdown",
   "id": "5744a8bf",
   "metadata": {
    "id": "5744a8bf",
    "papermill": {
     "duration": 0.018653,
     "end_time": "2022-06-12T03:00:35.576660",
     "exception": false,
     "start_time": "2022-06-12T03:00:35.558007",
     "status": "completed"
    },
    "tags": []
   },
   "source": [
    "### Weight Analysis \n",
    "\n",
    "Study the weights of the skip connection layer\n",
    "\n",
    "Equation of the skip connection is \n",
    "\n",
    "$output = y_{gan} * w + y_{abc} * (1-w)$"
   ]
  },
  {
   "cell_type": "code",
   "execution_count": 19,
   "id": "52c31dea",
   "metadata": {
    "execution": {
     "iopub.execute_input": "2022-06-12T03:00:35.616982Z",
     "iopub.status.busy": "2022-06-12T03:00:35.616600Z",
     "iopub.status.idle": "2022-06-12T03:00:35.619930Z",
     "shell.execute_reply": "2022-06-12T03:00:35.620168Z"
    },
    "id": "52c31dea",
    "papermill": {
     "duration": 0.025028,
     "end_time": "2022-06-12T03:00:35.620278",
     "exception": false,
     "start_time": "2022-06-12T03:00:35.595250",
     "status": "completed"
    },
    "tags": []
   },
   "outputs": [
    {
     "name": "stdout",
     "output_type": "stream",
     "text": [
      "Weight of the node at skip connection\n",
      "Parameter containing:\n",
      "tensor([[0.3517]], requires_grad=True)\n"
     ]
    },
    {
     "data": {
      "application/scrapbook.scrap.json+json": {
       "data": 0.35174185037612915,
       "encoder": "json",
       "name": "Skip Connection Weight",
       "version": 1
      }
     },
     "metadata": {
      "scrapbook": {
       "data": true,
       "display": false,
       "name": "Skip Connection Weight"
      }
     },
     "output_type": "display_data"
    }
   ],
   "source": [
    "print(\"Weight of the node at skip connection\")\n",
    "for name,param in gen3.named_parameters():\n",
    "    if(name == \"skipNode.weight\"):\n",
    "        print(param)\n",
    "        sb.glue(\"Skip Connection Weight\",param.item())"
   ]
  }
 ],
 "metadata": {
  "colab": {
   "collapsed_sections": [],
   "name": "ABC_GAN_Model-Catboost_Pre-gen.ipynb",
   "provenance": []
  },
  "interpreter": {
   "hash": "31f2aee4e71d21fbe5cf8b01ff0e069b9275f58929596ceb00d14d90e3e16cd6"
  },
  "kernelspec": {
   "display_name": "Python 3 (ipykernel)",
   "language": "python",
   "name": "python3"
  },
  "language_info": {
   "codemirror_mode": {
    "name": "ipython",
    "version": 3
   },
   "file_extension": ".py",
   "mimetype": "text/x-python",
   "name": "python",
   "nbconvert_exporter": "python",
   "pygments_lexer": "ipython3",
   "version": "3.8.11"
  },
  "papermill": {
   "default_parameters": {},
   "duration": 1666.964308,
   "end_time": "2022-06-12T03:00:35.947485",
   "environment_variables": {},
   "exception": null,
   "input_path": "ABC_GAN-Catboost.ipynb",
   "output_path": "./ABC_GAN_Catboost/ABC-GAN_output_3_6.ipynb",
   "parameters": {
    "bias": 0.01,
    "variance": 1
   },
   "start_time": "2022-06-12T02:32:48.983177",
   "version": "2.3.3"
  }
 },
 "nbformat": 4,
 "nbformat_minor": 5
}