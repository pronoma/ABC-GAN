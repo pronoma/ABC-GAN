{
 "cells": [
  {
   "cell_type": "markdown",
   "id": "622780e6",
   "metadata": {
    "id": "622780e6",
    "papermill": {
     "duration": 0.01408,
     "end_time": "2022-06-11T15:49:48.730976",
     "exception": false,
     "start_time": "2022-06-11T15:49:48.716896",
     "status": "completed"
    },
    "tags": []
   },
   "source": [
    "## Import Libraries "
   ]
  },
  {
   "cell_type": "code",
   "execution_count": 1,
   "id": "a62397e3",
   "metadata": {
    "execution": {
     "iopub.execute_input": "2022-06-11T15:49:48.758645Z",
     "iopub.status.busy": "2022-06-11T15:49:48.758191Z",
     "iopub.status.idle": "2022-06-11T15:49:48.760477Z",
     "shell.execute_reply": "2022-06-11T15:49:48.760829Z"
    },
    "id": "a62397e3",
    "papermill": {
     "duration": 0.018794,
     "end_time": "2022-06-11T15:49:48.761032",
     "exception": false,
     "start_time": "2022-06-11T15:49:48.742238",
     "status": "completed"
    },
    "tags": []
   },
   "outputs": [],
   "source": [
    "import warnings\n",
    "import sys\n",
    "sys.path.insert(0, '../../src')\n",
    "warnings.filterwarnings('ignore')"
   ]
  },
  {
   "cell_type": "code",
   "execution_count": 2,
   "id": "d6a4e155",
   "metadata": {
    "execution": {
     "iopub.execute_input": "2022-06-11T15:49:48.779209Z",
     "iopub.status.busy": "2022-06-11T15:49:48.778837Z",
     "iopub.status.idle": "2022-06-11T15:49:50.342783Z",
     "shell.execute_reply": "2022-06-11T15:49:50.343008Z"
    },
    "id": "d6a4e155",
    "papermill": {
     "duration": 1.573966,
     "end_time": "2022-06-11T15:49:50.343138",
     "exception": false,
     "start_time": "2022-06-11T15:49:48.769172",
     "status": "completed"
    },
    "tags": []
   },
   "outputs": [],
   "source": [
    "import ABC_train_test2\n",
    "import bostonDataset\n",
    "import network\n",
    "import dataset\n",
    "import sanityChecks\n",
    "import torch \n",
    "import scrapbook as sb\n",
    "from statistics import mean \n",
    "import catboost as ctb \n",
    "from sklearn.model_selection import train_test_split\n",
    "from sklearn.metrics import mean_squared_error,mean_absolute_error\n",
    "import numpy as np"
   ]
  },
  {
   "cell_type": "markdown",
   "id": "2fa5b0f7",
   "metadata": {
    "id": "2fa5b0f7",
    "papermill": {
     "duration": 0.006959,
     "end_time": "2022-06-11T15:49:50.357270",
     "exception": false,
     "start_time": "2022-06-11T15:49:50.350311",
     "status": "completed"
    },
    "tags": []
   },
   "source": [
    "## Parameters "
   ]
  },
  {
   "cell_type": "code",
   "execution_count": 3,
   "id": "783186fb",
   "metadata": {
    "execution": {
     "iopub.execute_input": "2022-06-11T15:49:50.373452Z",
     "iopub.status.busy": "2022-06-11T15:49:50.373069Z",
     "iopub.status.idle": "2022-06-11T15:49:50.374349Z",
     "shell.execute_reply": "2022-06-11T15:49:50.374604Z"
    },
    "id": "783186fb",
    "papermill": {
     "duration": 0.010689,
     "end_time": "2022-06-11T15:49:50.374719",
     "exception": false,
     "start_time": "2022-06-11T15:49:50.364030",
     "status": "completed"
    },
    "tags": [
     "parameters"
    ]
   },
   "outputs": [],
   "source": [
    "variance = 1\n",
    "bias = 1 "
   ]
  },
  {
   "cell_type": "code",
   "execution_count": 4,
   "id": "10aa9139",
   "metadata": {
    "execution": {
     "iopub.execute_input": "2022-06-11T15:49:50.390436Z",
     "iopub.status.busy": "2022-06-11T15:49:50.390081Z",
     "iopub.status.idle": "2022-06-11T15:49:50.391405Z",
     "shell.execute_reply": "2022-06-11T15:49:50.391658Z"
    },
    "papermill": {
     "duration": 0.0101,
     "end_time": "2022-06-11T15:49:50.391767",
     "exception": false,
     "start_time": "2022-06-11T15:49:50.381667",
     "status": "completed"
    },
    "tags": [
     "injected-parameters"
    ]
   },
   "outputs": [],
   "source": [
    "# Parameters\n",
    "variance = 1\n",
    "bias = 1\n"
   ]
  },
  {
   "cell_type": "markdown",
   "id": "391cdbfd",
   "metadata": {
    "id": "391cdbfd",
    "papermill": {
     "duration": 0.006767,
     "end_time": "2022-06-11T15:49:50.405452",
     "exception": false,
     "start_time": "2022-06-11T15:49:50.398685",
     "status": "completed"
    },
    "tags": []
   },
   "source": [
    "## Dataset \n"
   ]
  },
  {
   "cell_type": "code",
   "execution_count": 5,
   "id": "5b51f161",
   "metadata": {
    "execution": {
     "iopub.execute_input": "2022-06-11T15:49:50.421004Z",
     "iopub.status.busy": "2022-06-11T15:49:50.420634Z",
     "iopub.status.idle": "2022-06-11T15:49:50.421890Z",
     "shell.execute_reply": "2022-06-11T15:49:50.422160Z"
    },
    "id": "5b51f161",
    "papermill": {
     "duration": 0.010012,
     "end_time": "2022-06-11T15:49:50.422267",
     "exception": false,
     "start_time": "2022-06-11T15:49:50.412255",
     "status": "completed"
    },
    "tags": []
   },
   "outputs": [],
   "source": [
    "#Parameters \n",
    "n_features = 13\n",
    "n_samples= 506\n",
    "n_target = 1 "
   ]
  },
  {
   "cell_type": "code",
   "execution_count": 6,
   "id": "5d6eced4",
   "metadata": {
    "execution": {
     "iopub.execute_input": "2022-06-11T15:49:50.437685Z",
     "iopub.status.busy": "2022-06-11T15:49:50.437334Z",
     "iopub.status.idle": "2022-06-11T15:49:50.447477Z",
     "shell.execute_reply": "2022-06-11T15:49:50.447697Z"
    },
    "id": "5d6eced4",
    "papermill": {
     "duration": 0.018771,
     "end_time": "2022-06-11T15:49:50.447808",
     "exception": false,
     "start_time": "2022-06-11T15:49:50.429037",
     "status": "completed"
    },
    "tags": []
   },
   "outputs": [
    {
     "name": "stdout",
     "output_type": "stream",
     "text": [
      "         X1        X2        X3        X4        X5        X6        X7  \\\n",
      "0 -0.419782  0.284830 -1.287909 -0.272599 -0.144217  0.413672 -0.120013   \n",
      "1 -0.417339 -0.487722 -0.593381 -0.272599 -0.740262  0.194274  0.367166   \n",
      "2 -0.417342 -0.487722 -0.593381 -0.272599 -0.740262  1.282714 -0.265812   \n",
      "3 -0.416750 -0.487722 -1.306878 -0.272599 -0.835284  1.016303 -0.809889   \n",
      "4 -0.412482 -0.487722 -1.306878 -0.272599 -0.835284  1.228577 -0.511180   \n",
      "\n",
      "         X8        X9       X10       X11       X12       X13         Y  \n",
      "0  0.140214 -0.982843 -0.666608 -1.459000  0.441052 -1.075562  0.159686  \n",
      "1  0.557160 -0.867883 -0.987329 -0.303094  0.441052 -0.492439 -0.101524  \n",
      "2  0.557160 -0.867883 -0.987329 -0.303094  0.396427 -1.208727  1.324247  \n",
      "3  1.077737 -0.752922 -1.106115  0.113032  0.416163 -1.361517  1.182758  \n",
      "4  1.077737 -0.752922 -1.106115  0.113032  0.441052 -1.026501  1.487503  \n"
     ]
    }
   ],
   "source": [
    "X,Y = bostonDataset.boston_data()"
   ]
  },
  {
   "cell_type": "code",
   "execution_count": 7,
   "id": "fe007438",
   "metadata": {
    "execution": {
     "iopub.execute_input": "2022-06-11T15:49:50.465229Z",
     "iopub.status.busy": "2022-06-11T15:49:50.464847Z",
     "iopub.status.idle": "2022-06-11T15:49:50.466508Z",
     "shell.execute_reply": "2022-06-11T15:49:50.466764Z"
    },
    "id": "fe007438",
    "papermill": {
     "duration": 0.011894,
     "end_time": "2022-06-11T15:49:50.466890",
     "exception": false,
     "start_time": "2022-06-11T15:49:50.454996",
     "status": "completed"
    },
    "tags": []
   },
   "outputs": [],
   "source": [
    "#Train test split for dataset \n",
    "X_train,X_test,Y_train,Y_test = train_test_split(X,Y,test_size = 0.2)\n",
    "train_data = dataset.CustomDataset(X_train,Y_train)\n",
    "test_data = dataset.CustomDataset(X_test,Y_test)\n"
   ]
  },
  {
   "cell_type": "markdown",
   "id": "a9a1af34",
   "metadata": {
    "id": "a9a1af34",
    "papermill": {
     "duration": 0.00704,
     "end_time": "2022-06-11T15:49:50.481155",
     "exception": false,
     "start_time": "2022-06-11T15:49:50.474115",
     "status": "completed"
    },
    "tags": []
   },
   "source": [
    "## Training Parameters "
   ]
  },
  {
   "cell_type": "code",
   "execution_count": 8,
   "id": "952b7fc8",
   "metadata": {
    "execution": {
     "iopub.execute_input": "2022-06-11T15:49:50.497661Z",
     "iopub.status.busy": "2022-06-11T15:49:50.497314Z",
     "iopub.status.idle": "2022-06-11T15:49:50.498734Z",
     "shell.execute_reply": "2022-06-11T15:49:50.498974Z"
    },
    "id": "952b7fc8",
    "papermill": {
     "duration": 0.010789,
     "end_time": "2022-06-11T15:49:50.499080",
     "exception": false,
     "start_time": "2022-06-11T15:49:50.488291",
     "status": "completed"
    },
    "tags": []
   },
   "outputs": [],
   "source": [
    "batch_size = 32\n",
    "n_epochs = 1000\n",
    "#Select the device \n",
    "device = torch.device('cuda' if torch.cuda.is_available() else 'cpu')"
   ]
  },
  {
   "cell_type": "markdown",
   "id": "a95e1600",
   "metadata": {
    "id": "a95e1600",
    "papermill": {
     "duration": 0.00701,
     "end_time": "2022-06-11T15:49:50.513244",
     "exception": false,
     "start_time": "2022-06-11T15:49:50.506234",
     "status": "completed"
    },
    "tags": []
   },
   "source": [
    "# ABC Pre-generator Model \n",
    "\n",
    "1. The catboost model is used as a pre-generator model for the ABC-GAN. \n",
    "2. The model is first trained on the entire dataset \n",
    "3. It generats X,Y pairs and we add some Gaussian noise with mean 0 and variance 1 to it which is then feed as input to the generator.\n"
   ]
  },
  {
   "cell_type": "code",
   "execution_count": 9,
   "id": "ff8ce7bd",
   "metadata": {
    "execution": {
     "iopub.execute_input": "2022-06-11T15:49:50.531971Z",
     "iopub.status.busy": "2022-06-11T15:49:50.531607Z",
     "iopub.status.idle": "2022-06-11T15:49:51.482970Z",
     "shell.execute_reply": "2022-06-11T15:49:51.483280Z"
    },
    "id": "ff8ce7bd",
    "papermill": {
     "duration": 0.963048,
     "end_time": "2022-06-11T15:49:51.483404",
     "exception": false,
     "start_time": "2022-06-11T15:49:50.520356",
     "status": "completed"
    },
    "tags": []
   },
   "outputs": [
    {
     "name": "stdout",
     "output_type": "stream",
     "text": [
      "Learning rate set to 0.033215\n",
      "0:\tlearn: 0.9785964\ttotal: 58.8ms\tremaining: 58.8s\n",
      "1:\tlearn: 0.9580867\ttotal: 59.9ms\tremaining: 29.9s\n",
      "2:\tlearn: 0.9387958\ttotal: 60.9ms\tremaining: 20.2s\n",
      "3:\tlearn: 0.9219558\ttotal: 61.8ms\tremaining: 15.4s\n",
      "4:\tlearn: 0.9070778\ttotal: 62.9ms\tremaining: 12.5s\n",
      "5:\tlearn: 0.8900421\ttotal: 63.9ms\tremaining: 10.6s\n",
      "6:\tlearn: 0.8728321\ttotal: 64.8ms\tremaining: 9.2s\n",
      "7:\tlearn: 0.8553517\ttotal: 65.9ms\tremaining: 8.16s\n",
      "8:\tlearn: 0.8398497\ttotal: 66.8ms\tremaining: 7.36s\n",
      "9:\tlearn: 0.8244386\ttotal: 67.7ms\tremaining: 6.7s\n",
      "10:\tlearn: 0.8115741\ttotal: 68.5ms\tremaining: 6.16s\n",
      "11:\tlearn: 0.7974220\ttotal: 69.3ms\tremaining: 5.7s\n",
      "12:\tlearn: 0.7823928\ttotal: 70.1ms\tremaining: 5.32s\n",
      "13:\tlearn: 0.7679237\ttotal: 70.9ms\tremaining: 5s\n",
      "14:\tlearn: 0.7545847\ttotal: 71.8ms\tremaining: 4.71s\n",
      "15:\tlearn: 0.7404446\ttotal: 72.6ms\tremaining: 4.47s\n",
      "16:\tlearn: 0.7295023\ttotal: 73.6ms\tremaining: 4.25s\n",
      "17:\tlearn: 0.7164294\ttotal: 74.3ms\tremaining: 4.05s\n",
      "18:\tlearn: 0.7042214\ttotal: 75.2ms\tremaining: 3.88s\n",
      "19:\tlearn: 0.6919932\ttotal: 76ms\tremaining: 3.72s\n",
      "20:\tlearn: 0.6818102\ttotal: 76.9ms\tremaining: 3.58s\n",
      "21:\tlearn: 0.6713293\ttotal: 77.6ms\tremaining: 3.45s\n",
      "22:\tlearn: 0.6606459\ttotal: 78.4ms\tremaining: 3.33s\n",
      "23:\tlearn: 0.6515295\ttotal: 79.1ms\tremaining: 3.22s\n",
      "24:\tlearn: 0.6416835\ttotal: 79.9ms\tremaining: 3.12s\n",
      "25:\tlearn: 0.6321832\ttotal: 80.7ms\tremaining: 3.02s\n",
      "26:\tlearn: 0.6229330\ttotal: 81.5ms\tremaining: 2.94s\n",
      "27:\tlearn: 0.6141354\ttotal: 82.4ms\tremaining: 2.86s\n",
      "28:\tlearn: 0.6052391\ttotal: 83.2ms\tremaining: 2.79s\n",
      "29:\tlearn: 0.5953616\ttotal: 84ms\tremaining: 2.71s\n",
      "30:\tlearn: 0.5859751\ttotal: 84.7ms\tremaining: 2.65s\n",
      "31:\tlearn: 0.5785175\ttotal: 85.6ms\tremaining: 2.59s\n",
      "32:\tlearn: 0.5698234\ttotal: 86.4ms\tremaining: 2.53s\n",
      "33:\tlearn: 0.5622484\ttotal: 87.2ms\tremaining: 2.48s\n",
      "34:\tlearn: 0.5562445\ttotal: 88ms\tremaining: 2.43s\n",
      "35:\tlearn: 0.5490864\ttotal: 88.9ms\tremaining: 2.38s\n",
      "36:\tlearn: 0.5421148\ttotal: 89.7ms\tremaining: 2.33s\n",
      "37:\tlearn: 0.5353055\ttotal: 90.5ms\tremaining: 2.29s\n",
      "38:\tlearn: 0.5281410\ttotal: 91.3ms\tremaining: 2.25s\n",
      "39:\tlearn: 0.5207451\ttotal: 92ms\tremaining: 2.21s\n",
      "40:\tlearn: 0.5153013\ttotal: 92.7ms\tremaining: 2.17s\n",
      "41:\tlearn: 0.5080558\ttotal: 93.5ms\tremaining: 2.13s\n",
      "42:\tlearn: 0.5026554\ttotal: 94.3ms\tremaining: 2.1s\n",
      "43:\tlearn: 0.4959327\ttotal: 95ms\tremaining: 2.06s\n",
      "44:\tlearn: 0.4908544\ttotal: 96.5ms\tremaining: 2.05s\n",
      "45:\tlearn: 0.4854500\ttotal: 97.3ms\tremaining: 2.02s\n",
      "46:\tlearn: 0.4799864\ttotal: 98ms\tremaining: 1.99s\n",
      "47:\tlearn: 0.4741186\ttotal: 98.8ms\tremaining: 1.96s\n",
      "48:\tlearn: 0.4679621\ttotal: 99.6ms\tremaining: 1.93s\n",
      "49:\tlearn: 0.4631540\ttotal: 100ms\tremaining: 1.91s\n",
      "50:\tlearn: 0.4566534\ttotal: 101ms\tremaining: 1.88s\n",
      "51:\tlearn: 0.4513065\ttotal: 102ms\tremaining: 1.86s\n",
      "52:\tlearn: 0.4464111\ttotal: 103ms\tremaining: 1.83s\n",
      "53:\tlearn: 0.4417213\ttotal: 103ms\tremaining: 1.81s\n",
      "54:\tlearn: 0.4373422\ttotal: 104ms\tremaining: 1.79s\n",
      "55:\tlearn: 0.4325865\ttotal: 105ms\tremaining: 1.77s\n",
      "56:\tlearn: 0.4289369\ttotal: 107ms\tremaining: 1.76s\n",
      "57:\tlearn: 0.4241020\ttotal: 107ms\tremaining: 1.74s\n",
      "58:\tlearn: 0.4194987\ttotal: 108ms\tremaining: 1.72s\n"
     ]
    },
    {
     "name": "stdout",
     "output_type": "stream",
     "text": [
      "59:\tlearn: 0.4147526\ttotal: 109ms\tremaining: 1.71s\n",
      "60:\tlearn: 0.4113810\ttotal: 110ms\tremaining: 1.69s\n",
      "61:\tlearn: 0.4067250\ttotal: 111ms\tremaining: 1.67s\n",
      "62:\tlearn: 0.4026839\ttotal: 111ms\tremaining: 1.66s\n",
      "63:\tlearn: 0.3981923\ttotal: 112ms\tremaining: 1.64s\n",
      "64:\tlearn: 0.3948832\ttotal: 113ms\tremaining: 1.62s\n",
      "65:\tlearn: 0.3912344\ttotal: 114ms\tremaining: 1.61s\n",
      "66:\tlearn: 0.3871272\ttotal: 114ms\tremaining: 1.59s\n",
      "67:\tlearn: 0.3843306\ttotal: 115ms\tremaining: 1.58s\n",
      "68:\tlearn: 0.3810692\ttotal: 116ms\tremaining: 1.56s\n",
      "69:\tlearn: 0.3771011\ttotal: 117ms\tremaining: 1.55s\n",
      "70:\tlearn: 0.3734541\ttotal: 118ms\tremaining: 1.54s\n",
      "71:\tlearn: 0.3700047\ttotal: 118ms\tremaining: 1.53s\n",
      "72:\tlearn: 0.3675670\ttotal: 119ms\tremaining: 1.51s\n",
      "73:\tlearn: 0.3650255\ttotal: 120ms\tremaining: 1.5s\n",
      "74:\tlearn: 0.3613717\ttotal: 121ms\tremaining: 1.49s\n",
      "75:\tlearn: 0.3581442\ttotal: 122ms\tremaining: 1.48s\n",
      "76:\tlearn: 0.3552798\ttotal: 122ms\tremaining: 1.47s\n",
      "77:\tlearn: 0.3524159\ttotal: 123ms\tremaining: 1.46s\n",
      "78:\tlearn: 0.3491009\ttotal: 124ms\tremaining: 1.44s\n",
      "79:\tlearn: 0.3468745\ttotal: 125ms\tremaining: 1.44s\n",
      "80:\tlearn: 0.3439803\ttotal: 126ms\tremaining: 1.42s\n",
      "81:\tlearn: 0.3411851\ttotal: 126ms\tremaining: 1.42s\n",
      "82:\tlearn: 0.3395582\ttotal: 127ms\tremaining: 1.41s\n",
      "83:\tlearn: 0.3371344\ttotal: 128ms\tremaining: 1.4s\n",
      "84:\tlearn: 0.3345121\ttotal: 129ms\tremaining: 1.39s\n",
      "85:\tlearn: 0.3324051\ttotal: 130ms\tremaining: 1.38s\n",
      "86:\tlearn: 0.3295841\ttotal: 130ms\tremaining: 1.37s\n",
      "87:\tlearn: 0.3272398\ttotal: 131ms\tremaining: 1.36s\n",
      "88:\tlearn: 0.3250786\ttotal: 132ms\tremaining: 1.35s\n",
      "89:\tlearn: 0.3229556\ttotal: 133ms\tremaining: 1.34s\n",
      "90:\tlearn: 0.3211991\ttotal: 134ms\tremaining: 1.33s\n",
      "91:\tlearn: 0.3187677\ttotal: 134ms\tremaining: 1.33s\n",
      "92:\tlearn: 0.3172872\ttotal: 135ms\tremaining: 1.32s\n",
      "93:\tlearn: 0.3158271\ttotal: 136ms\tremaining: 1.31s\n",
      "94:\tlearn: 0.3140629\ttotal: 137ms\tremaining: 1.3s\n",
      "95:\tlearn: 0.3122804\ttotal: 138ms\tremaining: 1.3s\n",
      "96:\tlearn: 0.3101991\ttotal: 138ms\tremaining: 1.29s\n",
      "97:\tlearn: 0.3083728\ttotal: 139ms\tremaining: 1.28s\n",
      "98:\tlearn: 0.3065158\ttotal: 140ms\tremaining: 1.27s\n",
      "99:\tlearn: 0.3052093\ttotal: 141ms\tremaining: 1.27s\n",
      "100:\tlearn: 0.3036517\ttotal: 142ms\tremaining: 1.26s\n",
      "101:\tlearn: 0.3018470\ttotal: 143ms\tremaining: 1.25s\n",
      "102:\tlearn: 0.3003146\ttotal: 143ms\tremaining: 1.25s\n",
      "103:\tlearn: 0.2983888\ttotal: 144ms\tremaining: 1.24s\n",
      "104:\tlearn: 0.2965076\ttotal: 145ms\tremaining: 1.24s\n",
      "105:\tlearn: 0.2951566\ttotal: 146ms\tremaining: 1.23s\n",
      "106:\tlearn: 0.2940212\ttotal: 147ms\tremaining: 1.23s\n",
      "107:\tlearn: 0.2930640\ttotal: 148ms\tremaining: 1.22s\n",
      "108:\tlearn: 0.2918418\ttotal: 149ms\tremaining: 1.21s\n",
      "109:\tlearn: 0.2903800\ttotal: 149ms\tremaining: 1.21s\n",
      "110:\tlearn: 0.2894167\ttotal: 150ms\tremaining: 1.2s\n",
      "111:\tlearn: 0.2880138\ttotal: 151ms\tremaining: 1.2s\n",
      "112:\tlearn: 0.2867693\ttotal: 152ms\tremaining: 1.19s\n",
      "113:\tlearn: 0.2857639\ttotal: 153ms\tremaining: 1.19s\n",
      "114:\tlearn: 0.2843882\ttotal: 154ms\tremaining: 1.18s\n",
      "115:\tlearn: 0.2826884\ttotal: 154ms\tremaining: 1.18s\n",
      "116:\tlearn: 0.2816717\ttotal: 155ms\tremaining: 1.17s\n",
      "117:\tlearn: 0.2804049\ttotal: 156ms\tremaining: 1.17s\n",
      "118:\tlearn: 0.2789598\ttotal: 157ms\tremaining: 1.16s\n",
      "119:\tlearn: 0.2781080\ttotal: 158ms\tremaining: 1.16s\n",
      "120:\tlearn: 0.2768466\ttotal: 158ms\tremaining: 1.15s\n",
      "121:\tlearn: 0.2759863\ttotal: 159ms\tremaining: 1.15s\n",
      "122:\tlearn: 0.2748225\ttotal: 160ms\tremaining: 1.14s\n",
      "123:\tlearn: 0.2739521\ttotal: 161ms\tremaining: 1.14s\n",
      "124:\tlearn: 0.2728232\ttotal: 162ms\tremaining: 1.13s\n",
      "125:\tlearn: 0.2718228\ttotal: 163ms\tremaining: 1.13s\n",
      "126:\tlearn: 0.2705845\ttotal: 163ms\tremaining: 1.12s\n",
      "127:\tlearn: 0.2694756\ttotal: 164ms\tremaining: 1.12s\n",
      "128:\tlearn: 0.2680893\ttotal: 165ms\tremaining: 1.11s\n",
      "129:\tlearn: 0.2666413\ttotal: 166ms\tremaining: 1.11s\n",
      "130:\tlearn: 0.2657133\ttotal: 167ms\tremaining: 1.1s\n",
      "131:\tlearn: 0.2649083\ttotal: 167ms\tremaining: 1.1s\n",
      "132:\tlearn: 0.2639624\ttotal: 168ms\tremaining: 1.1s\n",
      "133:\tlearn: 0.2629942\ttotal: 169ms\tremaining: 1.09s\n",
      "134:\tlearn: 0.2619526\ttotal: 170ms\tremaining: 1.09s\n",
      "135:\tlearn: 0.2610604\ttotal: 171ms\tremaining: 1.09s\n",
      "136:\tlearn: 0.2600330\ttotal: 172ms\tremaining: 1.08s\n",
      "137:\tlearn: 0.2588077\ttotal: 173ms\tremaining: 1.08s\n",
      "138:\tlearn: 0.2578724\ttotal: 174ms\tremaining: 1.07s\n",
      "139:\tlearn: 0.2569768\ttotal: 174ms\tremaining: 1.07s\n",
      "140:\tlearn: 0.2562231\ttotal: 175ms\tremaining: 1.07s\n",
      "141:\tlearn: 0.2554909\ttotal: 176ms\tremaining: 1.06s\n",
      "142:\tlearn: 0.2549042\ttotal: 177ms\tremaining: 1.06s\n",
      "143:\tlearn: 0.2539617\ttotal: 178ms\tremaining: 1.05s\n",
      "144:\tlearn: 0.2529288\ttotal: 178ms\tremaining: 1.05s\n",
      "145:\tlearn: 0.2518632\ttotal: 179ms\tremaining: 1.05s\n",
      "146:\tlearn: 0.2509589\ttotal: 180ms\tremaining: 1.05s\n",
      "147:\tlearn: 0.2503597\ttotal: 181ms\tremaining: 1.04s\n",
      "148:\tlearn: 0.2494891\ttotal: 182ms\tremaining: 1.04s\n",
      "149:\tlearn: 0.2488009\ttotal: 183ms\tremaining: 1.03s\n",
      "150:\tlearn: 0.2479551\ttotal: 183ms\tremaining: 1.03s\n",
      "151:\tlearn: 0.2473070\ttotal: 184ms\tremaining: 1.03s\n",
      "152:\tlearn: 0.2467250\ttotal: 185ms\tremaining: 1.02s\n",
      "153:\tlearn: 0.2459960\ttotal: 186ms\tremaining: 1.02s\n",
      "154:\tlearn: 0.2452484\ttotal: 187ms\tremaining: 1.02s\n",
      "155:\tlearn: 0.2443968\ttotal: 188ms\tremaining: 1.01s\n",
      "156:\tlearn: 0.2432308\ttotal: 188ms\tremaining: 1.01s\n",
      "157:\tlearn: 0.2423054\ttotal: 189ms\tremaining: 1.01s\n",
      "158:\tlearn: 0.2418408\ttotal: 190ms\tremaining: 1s\n",
      "159:\tlearn: 0.2410952\ttotal: 191ms\tremaining: 1s\n"
     ]
    },
    {
     "name": "stdout",
     "output_type": "stream",
     "text": [
      "160:\tlearn: 0.2403781\ttotal: 192ms\tremaining: 999ms\n",
      "161:\tlearn: 0.2397089\ttotal: 193ms\tremaining: 996ms\n",
      "162:\tlearn: 0.2391468\ttotal: 193ms\tremaining: 993ms\n",
      "163:\tlearn: 0.2387597\ttotal: 194ms\tremaining: 990ms\n",
      "164:\tlearn: 0.2381401\ttotal: 195ms\tremaining: 987ms\n",
      "165:\tlearn: 0.2374794\ttotal: 196ms\tremaining: 984ms\n",
      "166:\tlearn: 0.2368900\ttotal: 197ms\tremaining: 981ms\n",
      "167:\tlearn: 0.2359622\ttotal: 198ms\tremaining: 978ms\n",
      "168:\tlearn: 0.2353900\ttotal: 198ms\tremaining: 976ms\n",
      "169:\tlearn: 0.2348051\ttotal: 199ms\tremaining: 973ms\n",
      "170:\tlearn: 0.2342381\ttotal: 200ms\tremaining: 970ms\n",
      "171:\tlearn: 0.2336896\ttotal: 201ms\tremaining: 967ms\n",
      "172:\tlearn: 0.2329693\ttotal: 202ms\tremaining: 964ms\n",
      "173:\tlearn: 0.2321716\ttotal: 202ms\tremaining: 961ms\n",
      "174:\tlearn: 0.2316375\ttotal: 203ms\tremaining: 958ms\n",
      "175:\tlearn: 0.2311646\ttotal: 204ms\tremaining: 954ms\n",
      "176:\tlearn: 0.2303517\ttotal: 205ms\tremaining: 951ms\n",
      "177:\tlearn: 0.2296798\ttotal: 205ms\tremaining: 949ms\n",
      "178:\tlearn: 0.2289990\ttotal: 206ms\tremaining: 946ms\n",
      "179:\tlearn: 0.2281649\ttotal: 207ms\tremaining: 943ms\n",
      "180:\tlearn: 0.2274123\ttotal: 208ms\tremaining: 941ms\n",
      "181:\tlearn: 0.2266420\ttotal: 209ms\tremaining: 939ms\n",
      "182:\tlearn: 0.2260657\ttotal: 210ms\tremaining: 936ms\n",
      "183:\tlearn: 0.2255204\ttotal: 211ms\tremaining: 934ms\n",
      "184:\tlearn: 0.2250090\ttotal: 211ms\tremaining: 931ms\n",
      "185:\tlearn: 0.2243904\ttotal: 212ms\tremaining: 929ms\n",
      "186:\tlearn: 0.2236601\ttotal: 213ms\tremaining: 926ms\n",
      "187:\tlearn: 0.2232359\ttotal: 214ms\tremaining: 923ms\n",
      "188:\tlearn: 0.2226846\ttotal: 215ms\tremaining: 921ms\n",
      "189:\tlearn: 0.2221396\ttotal: 216ms\tremaining: 919ms\n",
      "190:\tlearn: 0.2214857\ttotal: 216ms\tremaining: 917ms\n",
      "191:\tlearn: 0.2209068\ttotal: 217ms\tremaining: 915ms\n",
      "192:\tlearn: 0.2202830\ttotal: 218ms\tremaining: 913ms\n",
      "193:\tlearn: 0.2196810\ttotal: 219ms\tremaining: 911ms\n",
      "194:\tlearn: 0.2191104\ttotal: 220ms\tremaining: 909ms\n",
      "195:\tlearn: 0.2184810\ttotal: 221ms\tremaining: 907ms\n",
      "196:\tlearn: 0.2177946\ttotal: 222ms\tremaining: 904ms\n",
      "197:\tlearn: 0.2172907\ttotal: 223ms\tremaining: 902ms\n",
      "198:\tlearn: 0.2166922\ttotal: 223ms\tremaining: 899ms\n",
      "199:\tlearn: 0.2160482\ttotal: 224ms\tremaining: 897ms\n",
      "200:\tlearn: 0.2156040\ttotal: 225ms\tremaining: 895ms\n",
      "201:\tlearn: 0.2151421\ttotal: 226ms\tremaining: 892ms\n",
      "202:\tlearn: 0.2146701\ttotal: 227ms\tremaining: 890ms\n",
      "203:\tlearn: 0.2139903\ttotal: 227ms\tremaining: 888ms\n",
      "204:\tlearn: 0.2134461\ttotal: 228ms\tremaining: 886ms\n",
      "205:\tlearn: 0.2129388\ttotal: 229ms\tremaining: 883ms\n",
      "206:\tlearn: 0.2123567\ttotal: 230ms\tremaining: 881ms\n",
      "207:\tlearn: 0.2119264\ttotal: 231ms\tremaining: 879ms\n",
      "208:\tlearn: 0.2112936\ttotal: 232ms\tremaining: 876ms\n",
      "209:\tlearn: 0.2106611\ttotal: 232ms\tremaining: 874ms\n",
      "210:\tlearn: 0.2101340\ttotal: 233ms\tremaining: 872ms\n",
      "211:\tlearn: 0.2096102\ttotal: 234ms\tremaining: 870ms\n",
      "212:\tlearn: 0.2090386\ttotal: 235ms\tremaining: 867ms\n",
      "213:\tlearn: 0.2084651\ttotal: 236ms\tremaining: 865ms\n",
      "214:\tlearn: 0.2079854\ttotal: 236ms\tremaining: 863ms\n",
      "215:\tlearn: 0.2073918\ttotal: 237ms\tremaining: 861ms\n",
      "216:\tlearn: 0.2070196\ttotal: 238ms\tremaining: 859ms\n",
      "217:\tlearn: 0.2063425\ttotal: 239ms\tremaining: 857ms\n",
      "218:\tlearn: 0.2058416\ttotal: 240ms\tremaining: 854ms\n",
      "219:\tlearn: 0.2054151\ttotal: 240ms\tremaining: 853ms\n",
      "220:\tlearn: 0.2047319\ttotal: 241ms\tremaining: 850ms\n",
      "221:\tlearn: 0.2044265\ttotal: 242ms\tremaining: 848ms\n",
      "222:\tlearn: 0.2038123\ttotal: 243ms\tremaining: 846ms\n",
      "223:\tlearn: 0.2031934\ttotal: 244ms\tremaining: 844ms\n",
      "224:\tlearn: 0.2026141\ttotal: 244ms\tremaining: 842ms\n",
      "225:\tlearn: 0.2021333\ttotal: 245ms\tremaining: 839ms\n",
      "226:\tlearn: 0.2014972\ttotal: 246ms\tremaining: 837ms\n",
      "227:\tlearn: 0.2009935\ttotal: 247ms\tremaining: 835ms\n",
      "228:\tlearn: 0.2005177\ttotal: 247ms\tremaining: 833ms\n",
      "229:\tlearn: 0.2000627\ttotal: 248ms\tremaining: 831ms\n",
      "230:\tlearn: 0.1995714\ttotal: 249ms\tremaining: 829ms\n",
      "231:\tlearn: 0.1990626\ttotal: 250ms\tremaining: 827ms\n",
      "232:\tlearn: 0.1983650\ttotal: 251ms\tremaining: 825ms\n",
      "233:\tlearn: 0.1978726\ttotal: 251ms\tremaining: 823ms\n",
      "234:\tlearn: 0.1974182\ttotal: 252ms\tremaining: 820ms\n",
      "235:\tlearn: 0.1970077\ttotal: 253ms\tremaining: 819ms\n",
      "236:\tlearn: 0.1966527\ttotal: 254ms\tremaining: 817ms\n",
      "237:\tlearn: 0.1962446\ttotal: 255ms\tremaining: 816ms\n",
      "238:\tlearn: 0.1959924\ttotal: 256ms\tremaining: 814ms\n",
      "239:\tlearn: 0.1956299\ttotal: 256ms\tremaining: 812ms\n",
      "240:\tlearn: 0.1950008\ttotal: 257ms\tremaining: 810ms\n",
      "241:\tlearn: 0.1946832\ttotal: 258ms\tremaining: 808ms\n",
      "242:\tlearn: 0.1942169\ttotal: 259ms\tremaining: 806ms\n",
      "243:\tlearn: 0.1936388\ttotal: 259ms\tremaining: 804ms\n",
      "244:\tlearn: 0.1933676\ttotal: 260ms\tremaining: 802ms\n",
      "245:\tlearn: 0.1927856\ttotal: 261ms\tremaining: 801ms\n",
      "246:\tlearn: 0.1924541\ttotal: 262ms\tremaining: 799ms\n",
      "247:\tlearn: 0.1920143\ttotal: 263ms\tremaining: 797ms\n",
      "248:\tlearn: 0.1917492\ttotal: 264ms\tremaining: 795ms\n",
      "249:\tlearn: 0.1913971\ttotal: 265ms\tremaining: 794ms\n",
      "250:\tlearn: 0.1908561\ttotal: 265ms\tremaining: 792ms\n",
      "251:\tlearn: 0.1904508\ttotal: 266ms\tremaining: 790ms\n",
      "252:\tlearn: 0.1900011\ttotal: 267ms\tremaining: 788ms\n",
      "253:\tlearn: 0.1895440\ttotal: 268ms\tremaining: 786ms\n",
      "254:\tlearn: 0.1892158\ttotal: 269ms\tremaining: 785ms\n",
      "255:\tlearn: 0.1887700\ttotal: 270ms\tremaining: 783ms\n",
      "256:\tlearn: 0.1882650\ttotal: 270ms\tremaining: 781ms\n",
      "257:\tlearn: 0.1877697\ttotal: 271ms\tremaining: 780ms\n",
      "258:\tlearn: 0.1873031\ttotal: 272ms\tremaining: 778ms\n",
      "259:\tlearn: 0.1870776\ttotal: 273ms\tremaining: 776ms\n",
      "260:\tlearn: 0.1867725\ttotal: 274ms\tremaining: 775ms\n",
      "261:\tlearn: 0.1863904\ttotal: 274ms\tremaining: 773ms\n",
      "262:\tlearn: 0.1861095\ttotal: 275ms\tremaining: 771ms\n",
      "263:\tlearn: 0.1855740\ttotal: 276ms\tremaining: 770ms\n",
      "264:\tlearn: 0.1853437\ttotal: 277ms\tremaining: 768ms\n",
      "265:\tlearn: 0.1851099\ttotal: 278ms\tremaining: 766ms\n",
      "266:\tlearn: 0.1848779\ttotal: 279ms\tremaining: 765ms\n",
      "267:\tlearn: 0.1844731\ttotal: 279ms\tremaining: 763ms\n",
      "268:\tlearn: 0.1843178\ttotal: 280ms\tremaining: 762ms\n",
      "269:\tlearn: 0.1839098\ttotal: 281ms\tremaining: 760ms\n",
      "270:\tlearn: 0.1834384\ttotal: 282ms\tremaining: 758ms\n",
      "271:\tlearn: 0.1829064\ttotal: 283ms\tremaining: 756ms\n",
      "272:\tlearn: 0.1824583\ttotal: 283ms\tremaining: 755ms\n",
      "273:\tlearn: 0.1819894\ttotal: 284ms\tremaining: 753ms\n",
      "274:\tlearn: 0.1815908\ttotal: 285ms\tremaining: 751ms\n",
      "275:\tlearn: 0.1813663\ttotal: 286ms\tremaining: 750ms\n",
      "276:\tlearn: 0.1809656\ttotal: 287ms\tremaining: 748ms\n",
      "277:\tlearn: 0.1807850\ttotal: 287ms\tremaining: 746ms\n",
      "278:\tlearn: 0.1803506\ttotal: 288ms\tremaining: 745ms\n",
      "279:\tlearn: 0.1801541\ttotal: 289ms\tremaining: 744ms\n",
      "280:\tlearn: 0.1799903\ttotal: 290ms\tremaining: 742ms\n",
      "281:\tlearn: 0.1794615\ttotal: 291ms\tremaining: 741ms\n",
      "282:\tlearn: 0.1790720\ttotal: 292ms\tremaining: 739ms\n",
      "283:\tlearn: 0.1786795\ttotal: 293ms\tremaining: 738ms\n",
      "284:\tlearn: 0.1782955\ttotal: 294ms\tremaining: 736ms\n",
      "285:\tlearn: 0.1778773\ttotal: 294ms\tremaining: 735ms\n",
      "286:\tlearn: 0.1776641\ttotal: 295ms\tremaining: 733ms\n",
      "287:\tlearn: 0.1772320\ttotal: 296ms\tremaining: 732ms\n",
      "288:\tlearn: 0.1770643\ttotal: 297ms\tremaining: 730ms\n",
      "289:\tlearn: 0.1768604\ttotal: 297ms\tremaining: 728ms\n",
      "290:\tlearn: 0.1764248\ttotal: 298ms\tremaining: 727ms\n"
     ]
    },
    {
     "name": "stdout",
     "output_type": "stream",
     "text": [
      "291:\tlearn: 0.1759502\ttotal: 299ms\tremaining: 726ms\n",
      "292:\tlearn: 0.1755306\ttotal: 300ms\tremaining: 725ms\n",
      "293:\tlearn: 0.1753958\ttotal: 301ms\tremaining: 724ms\n",
      "294:\tlearn: 0.1750708\ttotal: 302ms\tremaining: 723ms\n",
      "295:\tlearn: 0.1749237\ttotal: 303ms\tremaining: 721ms\n",
      "296:\tlearn: 0.1746240\ttotal: 304ms\tremaining: 719ms\n",
      "297:\tlearn: 0.1745034\ttotal: 305ms\tremaining: 718ms\n",
      "298:\tlearn: 0.1743659\ttotal: 306ms\tremaining: 717ms\n",
      "299:\tlearn: 0.1738731\ttotal: 306ms\tremaining: 715ms\n",
      "300:\tlearn: 0.1735748\ttotal: 307ms\tremaining: 714ms\n",
      "301:\tlearn: 0.1730490\ttotal: 308ms\tremaining: 712ms\n",
      "302:\tlearn: 0.1728540\ttotal: 309ms\tremaining: 711ms\n",
      "303:\tlearn: 0.1727174\ttotal: 310ms\tremaining: 709ms\n",
      "304:\tlearn: 0.1720946\ttotal: 311ms\tremaining: 708ms\n",
      "305:\tlearn: 0.1717281\ttotal: 312ms\tremaining: 707ms\n",
      "306:\tlearn: 0.1712820\ttotal: 312ms\tremaining: 705ms\n",
      "307:\tlearn: 0.1711237\ttotal: 313ms\tremaining: 704ms\n",
      "308:\tlearn: 0.1705676\ttotal: 314ms\tremaining: 702ms\n",
      "309:\tlearn: 0.1704387\ttotal: 315ms\tremaining: 701ms\n",
      "310:\tlearn: 0.1701151\ttotal: 316ms\tremaining: 699ms\n",
      "311:\tlearn: 0.1699618\ttotal: 316ms\tremaining: 698ms\n",
      "312:\tlearn: 0.1695832\ttotal: 317ms\tremaining: 696ms\n",
      "313:\tlearn: 0.1691144\ttotal: 318ms\tremaining: 695ms\n",
      "314:\tlearn: 0.1686817\ttotal: 319ms\tremaining: 693ms\n",
      "315:\tlearn: 0.1683598\ttotal: 320ms\tremaining: 692ms\n",
      "316:\tlearn: 0.1679927\ttotal: 320ms\tremaining: 690ms\n",
      "317:\tlearn: 0.1678574\ttotal: 321ms\tremaining: 689ms\n",
      "318:\tlearn: 0.1674082\ttotal: 322ms\tremaining: 688ms\n",
      "319:\tlearn: 0.1669689\ttotal: 323ms\tremaining: 686ms\n",
      "320:\tlearn: 0.1666634\ttotal: 324ms\tremaining: 685ms\n",
      "321:\tlearn: 0.1663920\ttotal: 324ms\tremaining: 683ms\n",
      "322:\tlearn: 0.1661021\ttotal: 325ms\tremaining: 682ms\n",
      "323:\tlearn: 0.1660052\ttotal: 326ms\tremaining: 680ms\n",
      "324:\tlearn: 0.1655792\ttotal: 327ms\tremaining: 679ms\n",
      "325:\tlearn: 0.1652064\ttotal: 328ms\tremaining: 678ms\n",
      "326:\tlearn: 0.1649715\ttotal: 328ms\tremaining: 676ms\n",
      "327:\tlearn: 0.1646533\ttotal: 329ms\tremaining: 675ms\n",
      "328:\tlearn: 0.1642389\ttotal: 330ms\tremaining: 673ms\n",
      "329:\tlearn: 0.1641364\ttotal: 331ms\tremaining: 672ms\n",
      "330:\tlearn: 0.1638413\ttotal: 332ms\tremaining: 670ms\n",
      "331:\tlearn: 0.1636628\ttotal: 332ms\tremaining: 669ms\n",
      "332:\tlearn: 0.1634874\ttotal: 333ms\tremaining: 668ms\n",
      "333:\tlearn: 0.1631099\ttotal: 334ms\tremaining: 667ms\n",
      "334:\tlearn: 0.1629427\ttotal: 335ms\tremaining: 665ms\n",
      "335:\tlearn: 0.1627082\ttotal: 336ms\tremaining: 664ms\n",
      "336:\tlearn: 0.1624164\ttotal: 337ms\tremaining: 663ms\n",
      "337:\tlearn: 0.1620412\ttotal: 338ms\tremaining: 662ms\n",
      "338:\tlearn: 0.1616007\ttotal: 339ms\tremaining: 660ms\n",
      "339:\tlearn: 0.1613343\ttotal: 339ms\tremaining: 659ms\n",
      "340:\tlearn: 0.1610024\ttotal: 340ms\tremaining: 658ms\n",
      "341:\tlearn: 0.1605743\ttotal: 341ms\tremaining: 656ms\n",
      "342:\tlearn: 0.1602911\ttotal: 342ms\tremaining: 655ms\n",
      "343:\tlearn: 0.1599987\ttotal: 343ms\tremaining: 653ms\n",
      "344:\tlearn: 0.1596640\ttotal: 343ms\tremaining: 652ms\n",
      "345:\tlearn: 0.1594102\ttotal: 344ms\tremaining: 651ms\n",
      "346:\tlearn: 0.1589814\ttotal: 345ms\tremaining: 649ms\n",
      "347:\tlearn: 0.1585704\ttotal: 346ms\tremaining: 648ms\n",
      "348:\tlearn: 0.1582204\ttotal: 347ms\tremaining: 647ms\n",
      "349:\tlearn: 0.1578339\ttotal: 348ms\tremaining: 646ms\n",
      "350:\tlearn: 0.1575355\ttotal: 349ms\tremaining: 644ms\n",
      "351:\tlearn: 0.1570926\ttotal: 349ms\tremaining: 643ms\n",
      "352:\tlearn: 0.1567453\ttotal: 350ms\tremaining: 642ms\n",
      "353:\tlearn: 0.1563445\ttotal: 351ms\tremaining: 640ms\n",
      "354:\tlearn: 0.1562015\ttotal: 352ms\tremaining: 639ms\n",
      "355:\tlearn: 0.1558801\ttotal: 353ms\tremaining: 638ms\n",
      "356:\tlearn: 0.1557071\ttotal: 353ms\tremaining: 636ms\n",
      "357:\tlearn: 0.1553350\ttotal: 354ms\tremaining: 635ms\n",
      "358:\tlearn: 0.1549639\ttotal: 355ms\tremaining: 634ms\n",
      "359:\tlearn: 0.1548278\ttotal: 356ms\tremaining: 632ms\n",
      "360:\tlearn: 0.1546559\ttotal: 356ms\tremaining: 631ms\n",
      "361:\tlearn: 0.1544547\ttotal: 357ms\tremaining: 629ms\n",
      "362:\tlearn: 0.1541023\ttotal: 358ms\tremaining: 628ms\n",
      "363:\tlearn: 0.1537801\ttotal: 359ms\tremaining: 627ms\n",
      "364:\tlearn: 0.1537254\ttotal: 359ms\tremaining: 625ms\n",
      "365:\tlearn: 0.1536151\ttotal: 360ms\tremaining: 624ms\n",
      "366:\tlearn: 0.1534292\ttotal: 361ms\tremaining: 623ms\n",
      "367:\tlearn: 0.1531179\ttotal: 362ms\tremaining: 621ms\n",
      "368:\tlearn: 0.1527470\ttotal: 363ms\tremaining: 620ms\n",
      "369:\tlearn: 0.1523665\ttotal: 363ms\tremaining: 619ms\n",
      "370:\tlearn: 0.1521589\ttotal: 364ms\tremaining: 618ms\n",
      "371:\tlearn: 0.1518740\ttotal: 365ms\tremaining: 616ms\n",
      "372:\tlearn: 0.1516396\ttotal: 366ms\tremaining: 615ms\n",
      "373:\tlearn: 0.1512486\ttotal: 367ms\tremaining: 614ms\n",
      "374:\tlearn: 0.1511237\ttotal: 368ms\tremaining: 613ms\n",
      "375:\tlearn: 0.1508152\ttotal: 368ms\tremaining: 611ms\n",
      "376:\tlearn: 0.1505023\ttotal: 369ms\tremaining: 610ms\n",
      "377:\tlearn: 0.1501031\ttotal: 370ms\tremaining: 609ms\n",
      "378:\tlearn: 0.1497982\ttotal: 371ms\tremaining: 608ms\n",
      "379:\tlearn: 0.1494947\ttotal: 372ms\tremaining: 607ms\n",
      "380:\tlearn: 0.1494379\ttotal: 373ms\tremaining: 606ms\n",
      "381:\tlearn: 0.1490037\ttotal: 374ms\tremaining: 604ms\n",
      "382:\tlearn: 0.1486541\ttotal: 374ms\tremaining: 603ms\n",
      "383:\tlearn: 0.1482859\ttotal: 375ms\tremaining: 602ms\n",
      "384:\tlearn: 0.1479022\ttotal: 376ms\tremaining: 601ms\n",
      "385:\tlearn: 0.1475933\ttotal: 377ms\tremaining: 600ms\n",
      "386:\tlearn: 0.1472148\ttotal: 378ms\tremaining: 599ms\n",
      "387:\tlearn: 0.1469158\ttotal: 379ms\tremaining: 597ms\n",
      "388:\tlearn: 0.1465854\ttotal: 380ms\tremaining: 596ms\n",
      "389:\tlearn: 0.1462946\ttotal: 380ms\tremaining: 595ms\n",
      "390:\tlearn: 0.1459643\ttotal: 381ms\tremaining: 594ms\n"
     ]
    },
    {
     "name": "stdout",
     "output_type": "stream",
     "text": [
      "391:\tlearn: 0.1455106\ttotal: 382ms\tremaining: 593ms\n",
      "392:\tlearn: 0.1454258\ttotal: 383ms\tremaining: 592ms\n",
      "393:\tlearn: 0.1453164\ttotal: 384ms\tremaining: 590ms\n",
      "394:\tlearn: 0.1450706\ttotal: 385ms\tremaining: 589ms\n",
      "395:\tlearn: 0.1447539\ttotal: 386ms\tremaining: 588ms\n",
      "396:\tlearn: 0.1447158\ttotal: 386ms\tremaining: 587ms\n",
      "397:\tlearn: 0.1443784\ttotal: 387ms\tremaining: 586ms\n",
      "398:\tlearn: 0.1441462\ttotal: 388ms\tremaining: 585ms\n",
      "399:\tlearn: 0.1438642\ttotal: 389ms\tremaining: 583ms\n",
      "400:\tlearn: 0.1435244\ttotal: 390ms\tremaining: 582ms\n",
      "401:\tlearn: 0.1432892\ttotal: 391ms\tremaining: 581ms\n",
      "402:\tlearn: 0.1430232\ttotal: 392ms\tremaining: 580ms\n",
      "403:\tlearn: 0.1428402\ttotal: 392ms\tremaining: 579ms\n",
      "404:\tlearn: 0.1425859\ttotal: 393ms\tremaining: 577ms\n",
      "405:\tlearn: 0.1421911\ttotal: 394ms\tremaining: 576ms\n",
      "406:\tlearn: 0.1418019\ttotal: 395ms\tremaining: 575ms\n",
      "407:\tlearn: 0.1415396\ttotal: 395ms\tremaining: 574ms\n",
      "408:\tlearn: 0.1412875\ttotal: 396ms\tremaining: 573ms\n",
      "409:\tlearn: 0.1411488\ttotal: 397ms\tremaining: 571ms\n",
      "410:\tlearn: 0.1408441\ttotal: 398ms\tremaining: 570ms\n",
      "411:\tlearn: 0.1404582\ttotal: 399ms\tremaining: 569ms\n",
      "412:\tlearn: 0.1401609\ttotal: 399ms\tremaining: 568ms\n",
      "413:\tlearn: 0.1399951\ttotal: 400ms\tremaining: 566ms\n",
      "414:\tlearn: 0.1397236\ttotal: 401ms\tremaining: 565ms\n",
      "415:\tlearn: 0.1393604\ttotal: 402ms\tremaining: 564ms\n",
      "416:\tlearn: 0.1389902\ttotal: 403ms\tremaining: 563ms\n",
      "417:\tlearn: 0.1389121\ttotal: 403ms\tremaining: 561ms\n",
      "418:\tlearn: 0.1386659\ttotal: 404ms\tremaining: 560ms\n",
      "419:\tlearn: 0.1385866\ttotal: 405ms\tremaining: 559ms\n",
      "420:\tlearn: 0.1384363\ttotal: 406ms\tremaining: 559ms\n",
      "421:\tlearn: 0.1381039\ttotal: 407ms\tremaining: 558ms\n",
      "422:\tlearn: 0.1378940\ttotal: 408ms\tremaining: 556ms\n",
      "423:\tlearn: 0.1377814\ttotal: 409ms\tremaining: 555ms\n",
      "424:\tlearn: 0.1374997\ttotal: 410ms\tremaining: 554ms\n",
      "425:\tlearn: 0.1372522\ttotal: 410ms\tremaining: 553ms\n",
      "426:\tlearn: 0.1370129\ttotal: 411ms\tremaining: 552ms\n",
      "427:\tlearn: 0.1367072\ttotal: 412ms\tremaining: 550ms\n",
      "428:\tlearn: 0.1363764\ttotal: 413ms\tremaining: 549ms\n",
      "429:\tlearn: 0.1360107\ttotal: 413ms\tremaining: 548ms\n",
      "430:\tlearn: 0.1356931\ttotal: 414ms\tremaining: 547ms\n",
      "431:\tlearn: 0.1354749\ttotal: 415ms\tremaining: 546ms\n",
      "432:\tlearn: 0.1352817\ttotal: 416ms\tremaining: 545ms\n",
      "433:\tlearn: 0.1351758\ttotal: 417ms\tremaining: 544ms\n",
      "434:\tlearn: 0.1350017\ttotal: 418ms\tremaining: 543ms\n",
      "435:\tlearn: 0.1348052\ttotal: 419ms\tremaining: 541ms\n",
      "436:\tlearn: 0.1346408\ttotal: 419ms\tremaining: 540ms\n",
      "437:\tlearn: 0.1345694\ttotal: 420ms\tremaining: 539ms\n",
      "438:\tlearn: 0.1343416\ttotal: 421ms\tremaining: 538ms\n",
      "439:\tlearn: 0.1339218\ttotal: 422ms\tremaining: 537ms\n",
      "440:\tlearn: 0.1335736\ttotal: 423ms\tremaining: 536ms\n",
      "441:\tlearn: 0.1332780\ttotal: 423ms\tremaining: 534ms\n",
      "442:\tlearn: 0.1331793\ttotal: 424ms\tremaining: 533ms\n",
      "443:\tlearn: 0.1329736\ttotal: 425ms\tremaining: 532ms\n",
      "444:\tlearn: 0.1326521\ttotal: 426ms\tremaining: 531ms\n",
      "445:\tlearn: 0.1323243\ttotal: 427ms\tremaining: 530ms\n",
      "446:\tlearn: 0.1321009\ttotal: 427ms\tremaining: 529ms\n",
      "447:\tlearn: 0.1318421\ttotal: 428ms\tremaining: 527ms\n",
      "448:\tlearn: 0.1316590\ttotal: 429ms\tremaining: 526ms\n",
      "449:\tlearn: 0.1315377\ttotal: 430ms\tremaining: 525ms\n",
      "450:\tlearn: 0.1314552\ttotal: 431ms\tremaining: 524ms\n",
      "451:\tlearn: 0.1311164\ttotal: 431ms\tremaining: 523ms\n",
      "452:\tlearn: 0.1307377\ttotal: 432ms\tremaining: 522ms\n",
      "453:\tlearn: 0.1305570\ttotal: 433ms\tremaining: 521ms\n",
      "454:\tlearn: 0.1301883\ttotal: 434ms\tremaining: 520ms\n",
      "455:\tlearn: 0.1299555\ttotal: 435ms\tremaining: 518ms\n",
      "456:\tlearn: 0.1296581\ttotal: 435ms\tremaining: 517ms\n",
      "457:\tlearn: 0.1293809\ttotal: 436ms\tremaining: 516ms\n",
      "458:\tlearn: 0.1292108\ttotal: 437ms\tremaining: 515ms\n",
      "459:\tlearn: 0.1291436\ttotal: 438ms\tremaining: 514ms\n",
      "460:\tlearn: 0.1289371\ttotal: 439ms\tremaining: 513ms\n",
      "461:\tlearn: 0.1286833\ttotal: 440ms\tremaining: 512ms\n",
      "462:\tlearn: 0.1284096\ttotal: 440ms\tremaining: 511ms\n",
      "463:\tlearn: 0.1281394\ttotal: 441ms\tremaining: 510ms\n",
      "464:\tlearn: 0.1278352\ttotal: 442ms\tremaining: 509ms\n",
      "465:\tlearn: 0.1275226\ttotal: 443ms\tremaining: 507ms\n",
      "466:\tlearn: 0.1271943\ttotal: 444ms\tremaining: 506ms\n",
      "467:\tlearn: 0.1268609\ttotal: 445ms\tremaining: 505ms\n",
      "468:\tlearn: 0.1266135\ttotal: 445ms\tremaining: 504ms\n",
      "469:\tlearn: 0.1262852\ttotal: 446ms\tremaining: 503ms\n",
      "470:\tlearn: 0.1259963\ttotal: 447ms\tremaining: 502ms\n",
      "471:\tlearn: 0.1256957\ttotal: 448ms\tremaining: 501ms\n",
      "472:\tlearn: 0.1254337\ttotal: 449ms\tremaining: 500ms\n",
      "473:\tlearn: 0.1253350\ttotal: 450ms\tremaining: 499ms\n",
      "474:\tlearn: 0.1251619\ttotal: 450ms\tremaining: 498ms\n",
      "475:\tlearn: 0.1250433\ttotal: 451ms\tremaining: 496ms\n",
      "476:\tlearn: 0.1247288\ttotal: 452ms\tremaining: 495ms\n",
      "477:\tlearn: 0.1244577\ttotal: 453ms\tremaining: 494ms\n",
      "478:\tlearn: 0.1241863\ttotal: 453ms\tremaining: 493ms\n",
      "479:\tlearn: 0.1238878\ttotal: 454ms\tremaining: 492ms\n",
      "480:\tlearn: 0.1235560\ttotal: 455ms\tremaining: 491ms\n",
      "481:\tlearn: 0.1231929\ttotal: 456ms\tremaining: 490ms\n",
      "482:\tlearn: 0.1229171\ttotal: 457ms\tremaining: 489ms\n",
      "483:\tlearn: 0.1226378\ttotal: 458ms\tremaining: 488ms\n",
      "484:\tlearn: 0.1223086\ttotal: 458ms\tremaining: 487ms\n",
      "485:\tlearn: 0.1221806\ttotal: 459ms\tremaining: 486ms\n",
      "486:\tlearn: 0.1219721\ttotal: 460ms\tremaining: 485ms\n",
      "487:\tlearn: 0.1217156\ttotal: 461ms\tremaining: 484ms\n",
      "488:\tlearn: 0.1214815\ttotal: 462ms\tremaining: 483ms\n",
      "489:\tlearn: 0.1212486\ttotal: 463ms\tremaining: 482ms\n",
      "490:\tlearn: 0.1210303\ttotal: 464ms\tremaining: 481ms\n",
      "491:\tlearn: 0.1209906\ttotal: 465ms\tremaining: 480ms\n",
      "492:\tlearn: 0.1208568\ttotal: 465ms\tremaining: 479ms\n",
      "493:\tlearn: 0.1204730\ttotal: 466ms\tremaining: 478ms\n",
      "494:\tlearn: 0.1201694\ttotal: 467ms\tremaining: 477ms\n",
      "495:\tlearn: 0.1198960\ttotal: 468ms\tremaining: 476ms\n",
      "496:\tlearn: 0.1195861\ttotal: 469ms\tremaining: 474ms\n",
      "497:\tlearn: 0.1193032\ttotal: 470ms\tremaining: 473ms\n",
      "498:\tlearn: 0.1191489\ttotal: 470ms\tremaining: 472ms\n",
      "499:\tlearn: 0.1189181\ttotal: 471ms\tremaining: 471ms\n",
      "500:\tlearn: 0.1187759\ttotal: 472ms\tremaining: 470ms\n",
      "501:\tlearn: 0.1187019\ttotal: 473ms\tremaining: 469ms\n",
      "502:\tlearn: 0.1184476\ttotal: 475ms\tremaining: 469ms\n",
      "503:\tlearn: 0.1180654\ttotal: 475ms\tremaining: 468ms\n",
      "504:\tlearn: 0.1177949\ttotal: 476ms\tremaining: 467ms\n",
      "505:\tlearn: 0.1175888\ttotal: 477ms\tremaining: 466ms\n",
      "506:\tlearn: 0.1172882\ttotal: 478ms\tremaining: 465ms\n",
      "507:\tlearn: 0.1170954\ttotal: 479ms\tremaining: 464ms\n",
      "508:\tlearn: 0.1168854\ttotal: 480ms\tremaining: 463ms\n",
      "509:\tlearn: 0.1166876\ttotal: 481ms\tremaining: 462ms\n",
      "510:\tlearn: 0.1164242\ttotal: 481ms\tremaining: 461ms\n",
      "511:\tlearn: 0.1161098\ttotal: 482ms\tremaining: 460ms\n",
      "512:\tlearn: 0.1158647\ttotal: 483ms\tremaining: 459ms\n",
      "513:\tlearn: 0.1157530\ttotal: 484ms\tremaining: 458ms\n",
      "514:\tlearn: 0.1155612\ttotal: 485ms\tremaining: 456ms\n",
      "515:\tlearn: 0.1153326\ttotal: 485ms\tremaining: 455ms\n",
      "516:\tlearn: 0.1152491\ttotal: 486ms\tremaining: 454ms\n",
      "517:\tlearn: 0.1151806\ttotal: 487ms\tremaining: 453ms\n",
      "518:\tlearn: 0.1149672\ttotal: 488ms\tremaining: 452ms\n",
      "519:\tlearn: 0.1148912\ttotal: 489ms\tremaining: 451ms\n"
     ]
    },
    {
     "name": "stdout",
     "output_type": "stream",
     "text": [
      "520:\tlearn: 0.1147454\ttotal: 490ms\tremaining: 450ms\n",
      "521:\tlearn: 0.1144964\ttotal: 491ms\tremaining: 449ms\n",
      "522:\tlearn: 0.1142990\ttotal: 492ms\tremaining: 448ms\n",
      "523:\tlearn: 0.1140763\ttotal: 492ms\tremaining: 447ms\n",
      "524:\tlearn: 0.1138067\ttotal: 493ms\tremaining: 446ms\n",
      "525:\tlearn: 0.1135934\ttotal: 494ms\tremaining: 445ms\n",
      "526:\tlearn: 0.1135440\ttotal: 495ms\tremaining: 444ms\n",
      "527:\tlearn: 0.1133265\ttotal: 496ms\tremaining: 443ms\n",
      "528:\tlearn: 0.1132627\ttotal: 496ms\tremaining: 442ms\n",
      "529:\tlearn: 0.1129751\ttotal: 497ms\tremaining: 441ms\n",
      "530:\tlearn: 0.1127291\ttotal: 498ms\tremaining: 440ms\n",
      "531:\tlearn: 0.1125574\ttotal: 499ms\tremaining: 439ms\n",
      "532:\tlearn: 0.1123194\ttotal: 500ms\tremaining: 438ms\n",
      "533:\tlearn: 0.1120617\ttotal: 501ms\tremaining: 437ms\n",
      "534:\tlearn: 0.1119057\ttotal: 501ms\tremaining: 436ms\n",
      "535:\tlearn: 0.1115672\ttotal: 502ms\tremaining: 435ms\n",
      "536:\tlearn: 0.1113431\ttotal: 503ms\tremaining: 434ms\n",
      "537:\tlearn: 0.1111452\ttotal: 504ms\tremaining: 433ms\n",
      "538:\tlearn: 0.1108586\ttotal: 505ms\tremaining: 432ms\n",
      "539:\tlearn: 0.1107155\ttotal: 506ms\tremaining: 431ms\n",
      "540:\tlearn: 0.1104359\ttotal: 506ms\tremaining: 430ms\n",
      "541:\tlearn: 0.1102649\ttotal: 507ms\tremaining: 429ms\n",
      "542:\tlearn: 0.1100674\ttotal: 508ms\tremaining: 428ms\n",
      "543:\tlearn: 0.1099488\ttotal: 509ms\tremaining: 427ms\n",
      "544:\tlearn: 0.1097518\ttotal: 510ms\tremaining: 425ms\n",
      "545:\tlearn: 0.1094911\ttotal: 510ms\tremaining: 424ms\n",
      "546:\tlearn: 0.1093156\ttotal: 511ms\tremaining: 423ms\n",
      "547:\tlearn: 0.1090960\ttotal: 512ms\tremaining: 422ms\n",
      "548:\tlearn: 0.1090068\ttotal: 513ms\tremaining: 421ms\n",
      "549:\tlearn: 0.1088402\ttotal: 514ms\tremaining: 420ms\n",
      "550:\tlearn: 0.1087280\ttotal: 514ms\tremaining: 419ms\n",
      "551:\tlearn: 0.1085549\ttotal: 515ms\tremaining: 418ms\n",
      "552:\tlearn: 0.1084763\ttotal: 516ms\tremaining: 417ms\n",
      "553:\tlearn: 0.1082343\ttotal: 517ms\tremaining: 416ms\n",
      "554:\tlearn: 0.1080565\ttotal: 518ms\tremaining: 415ms\n",
      "555:\tlearn: 0.1079622\ttotal: 519ms\tremaining: 414ms\n",
      "556:\tlearn: 0.1077724\ttotal: 520ms\tremaining: 413ms\n",
      "557:\tlearn: 0.1076306\ttotal: 520ms\tremaining: 412ms\n",
      "558:\tlearn: 0.1073149\ttotal: 521ms\tremaining: 411ms\n",
      "559:\tlearn: 0.1071632\ttotal: 522ms\tremaining: 410ms\n",
      "560:\tlearn: 0.1070395\ttotal: 523ms\tremaining: 409ms\n",
      "561:\tlearn: 0.1069240\ttotal: 523ms\tremaining: 408ms\n",
      "562:\tlearn: 0.1066863\ttotal: 524ms\tremaining: 407ms\n",
      "563:\tlearn: 0.1064837\ttotal: 525ms\tremaining: 406ms\n",
      "564:\tlearn: 0.1062759\ttotal: 526ms\tremaining: 405ms\n",
      "565:\tlearn: 0.1061391\ttotal: 527ms\tremaining: 404ms\n",
      "566:\tlearn: 0.1059128\ttotal: 527ms\tremaining: 403ms\n",
      "567:\tlearn: 0.1058324\ttotal: 528ms\tremaining: 402ms\n",
      "568:\tlearn: 0.1056580\ttotal: 529ms\tremaining: 401ms\n",
      "569:\tlearn: 0.1053654\ttotal: 530ms\tremaining: 400ms\n",
      "570:\tlearn: 0.1051068\ttotal: 531ms\tremaining: 399ms\n",
      "571:\tlearn: 0.1049796\ttotal: 531ms\tremaining: 398ms\n",
      "572:\tlearn: 0.1048165\ttotal: 532ms\tremaining: 397ms\n",
      "573:\tlearn: 0.1046457\ttotal: 533ms\tremaining: 396ms\n",
      "574:\tlearn: 0.1045212\ttotal: 534ms\tremaining: 395ms\n",
      "575:\tlearn: 0.1042742\ttotal: 535ms\tremaining: 393ms\n",
      "576:\tlearn: 0.1039748\ttotal: 535ms\tremaining: 392ms\n",
      "577:\tlearn: 0.1038651\ttotal: 536ms\tremaining: 391ms\n",
      "578:\tlearn: 0.1037389\ttotal: 537ms\tremaining: 390ms\n",
      "579:\tlearn: 0.1034130\ttotal: 538ms\tremaining: 389ms\n",
      "580:\tlearn: 0.1032185\ttotal: 539ms\tremaining: 388ms\n",
      "581:\tlearn: 0.1030803\ttotal: 539ms\tremaining: 387ms\n",
      "582:\tlearn: 0.1029176\ttotal: 540ms\tremaining: 386ms\n",
      "583:\tlearn: 0.1027001\ttotal: 541ms\tremaining: 385ms\n",
      "584:\tlearn: 0.1025978\ttotal: 542ms\tremaining: 384ms\n",
      "585:\tlearn: 0.1023912\ttotal: 543ms\tremaining: 383ms\n",
      "586:\tlearn: 0.1023496\ttotal: 544ms\tremaining: 382ms\n",
      "587:\tlearn: 0.1021830\ttotal: 544ms\tremaining: 381ms\n",
      "588:\tlearn: 0.1021177\ttotal: 545ms\tremaining: 380ms\n",
      "589:\tlearn: 0.1019667\ttotal: 546ms\tremaining: 379ms\n",
      "590:\tlearn: 0.1017053\ttotal: 547ms\tremaining: 378ms\n",
      "591:\tlearn: 0.1014659\ttotal: 548ms\tremaining: 377ms\n",
      "592:\tlearn: 0.1012669\ttotal: 548ms\tremaining: 376ms\n",
      "593:\tlearn: 0.1011335\ttotal: 549ms\tremaining: 375ms\n",
      "594:\tlearn: 0.1009895\ttotal: 550ms\tremaining: 374ms\n",
      "595:\tlearn: 0.1007436\ttotal: 551ms\tremaining: 373ms\n",
      "596:\tlearn: 0.1005884\ttotal: 551ms\tremaining: 372ms\n",
      "597:\tlearn: 0.1004269\ttotal: 552ms\tremaining: 371ms\n",
      "598:\tlearn: 0.1001886\ttotal: 553ms\tremaining: 370ms\n",
      "599:\tlearn: 0.0999455\ttotal: 554ms\tremaining: 369ms\n",
      "600:\tlearn: 0.0997159\ttotal: 555ms\tremaining: 368ms\n",
      "601:\tlearn: 0.0995235\ttotal: 556ms\tremaining: 367ms\n",
      "602:\tlearn: 0.0992667\ttotal: 556ms\tremaining: 366ms\n",
      "603:\tlearn: 0.0990980\ttotal: 557ms\tremaining: 365ms\n",
      "604:\tlearn: 0.0988658\ttotal: 558ms\tremaining: 364ms\n",
      "605:\tlearn: 0.0986052\ttotal: 559ms\tremaining: 363ms\n",
      "606:\tlearn: 0.0983558\ttotal: 560ms\tremaining: 362ms\n",
      "607:\tlearn: 0.0983331\ttotal: 561ms\tremaining: 361ms\n",
      "608:\tlearn: 0.0981444\ttotal: 561ms\tremaining: 360ms\n",
      "609:\tlearn: 0.0979627\ttotal: 562ms\tremaining: 359ms\n",
      "610:\tlearn: 0.0978382\ttotal: 563ms\tremaining: 358ms\n",
      "611:\tlearn: 0.0976470\ttotal: 564ms\tremaining: 357ms\n",
      "612:\tlearn: 0.0976059\ttotal: 565ms\tremaining: 356ms\n",
      "613:\tlearn: 0.0974835\ttotal: 565ms\tremaining: 355ms\n",
      "614:\tlearn: 0.0973600\ttotal: 566ms\tremaining: 354ms\n",
      "615:\tlearn: 0.0973041\ttotal: 567ms\tremaining: 353ms\n",
      "616:\tlearn: 0.0971053\ttotal: 568ms\tremaining: 352ms\n",
      "617:\tlearn: 0.0969289\ttotal: 568ms\tremaining: 351ms\n",
      "618:\tlearn: 0.0968151\ttotal: 569ms\tremaining: 350ms\n",
      "619:\tlearn: 0.0965870\ttotal: 570ms\tremaining: 349ms\n",
      "620:\tlearn: 0.0963886\ttotal: 571ms\tremaining: 348ms\n",
      "621:\tlearn: 0.0962111\ttotal: 572ms\tremaining: 347ms\n"
     ]
    },
    {
     "name": "stdout",
     "output_type": "stream",
     "text": [
      "622:\tlearn: 0.0960309\ttotal: 573ms\tremaining: 347ms\n",
      "623:\tlearn: 0.0958610\ttotal: 574ms\tremaining: 346ms\n",
      "624:\tlearn: 0.0956472\ttotal: 574ms\tremaining: 345ms\n",
      "625:\tlearn: 0.0954793\ttotal: 575ms\tremaining: 344ms\n",
      "626:\tlearn: 0.0953349\ttotal: 576ms\tremaining: 343ms\n",
      "627:\tlearn: 0.0952808\ttotal: 577ms\tremaining: 342ms\n",
      "628:\tlearn: 0.0950449\ttotal: 578ms\tremaining: 341ms\n",
      "629:\tlearn: 0.0948814\ttotal: 579ms\tremaining: 340ms\n",
      "630:\tlearn: 0.0948603\ttotal: 579ms\tremaining: 339ms\n",
      "631:\tlearn: 0.0947168\ttotal: 580ms\tremaining: 338ms\n",
      "632:\tlearn: 0.0945139\ttotal: 581ms\tremaining: 337ms\n",
      "633:\tlearn: 0.0943949\ttotal: 582ms\tremaining: 336ms\n",
      "634:\tlearn: 0.0941689\ttotal: 583ms\tremaining: 335ms\n",
      "635:\tlearn: 0.0940155\ttotal: 584ms\tremaining: 334ms\n",
      "636:\tlearn: 0.0938351\ttotal: 584ms\tremaining: 333ms\n",
      "637:\tlearn: 0.0936401\ttotal: 585ms\tremaining: 332ms\n",
      "638:\tlearn: 0.0935297\ttotal: 586ms\tremaining: 331ms\n",
      "639:\tlearn: 0.0934908\ttotal: 587ms\tremaining: 330ms\n",
      "640:\tlearn: 0.0932421\ttotal: 588ms\tremaining: 329ms\n",
      "641:\tlearn: 0.0931221\ttotal: 588ms\tremaining: 328ms\n",
      "642:\tlearn: 0.0928872\ttotal: 589ms\tremaining: 327ms\n",
      "643:\tlearn: 0.0926893\ttotal: 590ms\tremaining: 326ms\n",
      "644:\tlearn: 0.0925262\ttotal: 591ms\tremaining: 325ms\n",
      "645:\tlearn: 0.0923007\ttotal: 591ms\tremaining: 324ms\n",
      "646:\tlearn: 0.0922193\ttotal: 592ms\tremaining: 323ms\n",
      "647:\tlearn: 0.0920692\ttotal: 593ms\tremaining: 322ms\n",
      "648:\tlearn: 0.0919645\ttotal: 594ms\tremaining: 321ms\n",
      "649:\tlearn: 0.0919446\ttotal: 595ms\tremaining: 320ms\n",
      "650:\tlearn: 0.0917299\ttotal: 595ms\tremaining: 319ms\n",
      "651:\tlearn: 0.0915858\ttotal: 596ms\tremaining: 318ms\n",
      "652:\tlearn: 0.0914654\ttotal: 597ms\tremaining: 317ms\n",
      "653:\tlearn: 0.0912863\ttotal: 598ms\tremaining: 316ms\n",
      "654:\tlearn: 0.0911950\ttotal: 599ms\tremaining: 315ms\n",
      "655:\tlearn: 0.0910403\ttotal: 600ms\tremaining: 315ms\n",
      "656:\tlearn: 0.0908856\ttotal: 601ms\tremaining: 314ms\n",
      "657:\tlearn: 0.0907472\ttotal: 601ms\tremaining: 313ms\n",
      "658:\tlearn: 0.0906362\ttotal: 602ms\tremaining: 312ms\n",
      "659:\tlearn: 0.0906170\ttotal: 603ms\tremaining: 311ms\n",
      "660:\tlearn: 0.0904343\ttotal: 604ms\tremaining: 310ms\n",
      "661:\tlearn: 0.0902558\ttotal: 605ms\tremaining: 309ms\n",
      "662:\tlearn: 0.0900198\ttotal: 606ms\tremaining: 308ms\n",
      "663:\tlearn: 0.0899788\ttotal: 606ms\tremaining: 307ms\n",
      "664:\tlearn: 0.0899328\ttotal: 607ms\tremaining: 306ms\n",
      "665:\tlearn: 0.0898508\ttotal: 608ms\tremaining: 305ms\n",
      "666:\tlearn: 0.0896893\ttotal: 609ms\tremaining: 304ms\n",
      "667:\tlearn: 0.0896214\ttotal: 610ms\tremaining: 303ms\n",
      "668:\tlearn: 0.0894874\ttotal: 610ms\tremaining: 302ms\n",
      "669:\tlearn: 0.0894307\ttotal: 611ms\tremaining: 301ms\n",
      "670:\tlearn: 0.0892882\ttotal: 612ms\tremaining: 300ms\n",
      "671:\tlearn: 0.0891891\ttotal: 613ms\tremaining: 299ms\n",
      "672:\tlearn: 0.0890090\ttotal: 614ms\tremaining: 298ms\n",
      "673:\tlearn: 0.0888465\ttotal: 615ms\tremaining: 297ms\n",
      "674:\tlearn: 0.0886037\ttotal: 615ms\tremaining: 296ms\n",
      "675:\tlearn: 0.0884815\ttotal: 616ms\tremaining: 295ms\n",
      "676:\tlearn: 0.0883637\ttotal: 617ms\tremaining: 295ms\n",
      "677:\tlearn: 0.0881245\ttotal: 618ms\tremaining: 294ms\n",
      "678:\tlearn: 0.0879824\ttotal: 619ms\tremaining: 293ms\n",
      "679:\tlearn: 0.0877843\ttotal: 620ms\tremaining: 292ms\n",
      "680:\tlearn: 0.0876771\ttotal: 620ms\tremaining: 291ms\n",
      "681:\tlearn: 0.0874746\ttotal: 621ms\tremaining: 290ms\n",
      "682:\tlearn: 0.0872954\ttotal: 622ms\tremaining: 289ms\n",
      "683:\tlearn: 0.0871417\ttotal: 623ms\tremaining: 288ms\n",
      "684:\tlearn: 0.0870868\ttotal: 624ms\tremaining: 287ms\n",
      "685:\tlearn: 0.0869983\ttotal: 624ms\tremaining: 286ms\n",
      "686:\tlearn: 0.0868315\ttotal: 625ms\tremaining: 285ms\n",
      "687:\tlearn: 0.0866583\ttotal: 626ms\tremaining: 284ms\n",
      "688:\tlearn: 0.0865059\ttotal: 627ms\tremaining: 283ms\n",
      "689:\tlearn: 0.0862789\ttotal: 627ms\tremaining: 282ms\n",
      "690:\tlearn: 0.0861132\ttotal: 628ms\tremaining: 281ms\n",
      "691:\tlearn: 0.0860350\ttotal: 629ms\tremaining: 280ms\n",
      "692:\tlearn: 0.0858715\ttotal: 630ms\tremaining: 279ms\n",
      "693:\tlearn: 0.0857504\ttotal: 631ms\tremaining: 278ms\n",
      "694:\tlearn: 0.0855615\ttotal: 631ms\tremaining: 277ms\n",
      "695:\tlearn: 0.0853921\ttotal: 632ms\tremaining: 276ms\n",
      "696:\tlearn: 0.0852439\ttotal: 633ms\tremaining: 275ms\n",
      "697:\tlearn: 0.0851013\ttotal: 634ms\tremaining: 274ms\n",
      "698:\tlearn: 0.0849839\ttotal: 635ms\tremaining: 273ms\n",
      "699:\tlearn: 0.0848782\ttotal: 636ms\tremaining: 272ms\n",
      "700:\tlearn: 0.0846838\ttotal: 636ms\tremaining: 271ms\n",
      "701:\tlearn: 0.0845901\ttotal: 637ms\tremaining: 270ms\n",
      "702:\tlearn: 0.0844584\ttotal: 638ms\tremaining: 270ms\n",
      "703:\tlearn: 0.0842592\ttotal: 639ms\tremaining: 269ms\n",
      "704:\tlearn: 0.0841664\ttotal: 639ms\tremaining: 268ms\n",
      "705:\tlearn: 0.0840180\ttotal: 640ms\tremaining: 267ms\n",
      "706:\tlearn: 0.0839395\ttotal: 641ms\tremaining: 266ms\n",
      "707:\tlearn: 0.0838136\ttotal: 642ms\tremaining: 265ms\n",
      "708:\tlearn: 0.0837029\ttotal: 643ms\tremaining: 264ms\n",
      "709:\tlearn: 0.0835369\ttotal: 644ms\tremaining: 263ms\n",
      "710:\tlearn: 0.0833972\ttotal: 644ms\tremaining: 262ms\n",
      "711:\tlearn: 0.0832288\ttotal: 645ms\tremaining: 261ms\n",
      "712:\tlearn: 0.0831448\ttotal: 646ms\tremaining: 260ms\n",
      "713:\tlearn: 0.0830346\ttotal: 647ms\tremaining: 259ms\n",
      "714:\tlearn: 0.0829603\ttotal: 648ms\tremaining: 258ms\n",
      "715:\tlearn: 0.0828114\ttotal: 649ms\tremaining: 257ms\n",
      "716:\tlearn: 0.0827836\ttotal: 649ms\tremaining: 256ms\n",
      "717:\tlearn: 0.0826791\ttotal: 650ms\tremaining: 255ms\n",
      "718:\tlearn: 0.0826484\ttotal: 651ms\tremaining: 254ms\n",
      "719:\tlearn: 0.0826026\ttotal: 652ms\tremaining: 253ms\n",
      "720:\tlearn: 0.0823811\ttotal: 653ms\tremaining: 253ms\n",
      "721:\tlearn: 0.0823230\ttotal: 653ms\tremaining: 252ms\n",
      "722:\tlearn: 0.0821759\ttotal: 654ms\tremaining: 251ms\n",
      "723:\tlearn: 0.0820752\ttotal: 655ms\tremaining: 250ms\n",
      "724:\tlearn: 0.0819598\ttotal: 656ms\tremaining: 249ms\n",
      "725:\tlearn: 0.0817923\ttotal: 657ms\tremaining: 248ms\n",
      "726:\tlearn: 0.0816472\ttotal: 658ms\tremaining: 247ms\n",
      "727:\tlearn: 0.0815868\ttotal: 659ms\tremaining: 246ms\n",
      "728:\tlearn: 0.0814032\ttotal: 660ms\tremaining: 245ms\n",
      "729:\tlearn: 0.0812854\ttotal: 660ms\tremaining: 244ms\n",
      "730:\tlearn: 0.0811779\ttotal: 661ms\tremaining: 243ms\n",
      "731:\tlearn: 0.0809870\ttotal: 662ms\tremaining: 242ms\n",
      "732:\tlearn: 0.0809585\ttotal: 663ms\tremaining: 241ms\n",
      "733:\tlearn: 0.0808194\ttotal: 664ms\tremaining: 241ms\n",
      "734:\tlearn: 0.0806149\ttotal: 665ms\tremaining: 240ms\n",
      "735:\tlearn: 0.0805401\ttotal: 665ms\tremaining: 239ms\n",
      "736:\tlearn: 0.0804475\ttotal: 666ms\tremaining: 238ms\n",
      "737:\tlearn: 0.0803449\ttotal: 667ms\tremaining: 237ms\n",
      "738:\tlearn: 0.0801966\ttotal: 668ms\tremaining: 236ms\n",
      "739:\tlearn: 0.0800284\ttotal: 669ms\tremaining: 235ms\n",
      "740:\tlearn: 0.0799216\ttotal: 669ms\tremaining: 234ms\n",
      "741:\tlearn: 0.0797301\ttotal: 670ms\tremaining: 233ms\n",
      "742:\tlearn: 0.0795779\ttotal: 671ms\tremaining: 232ms\n",
      "743:\tlearn: 0.0794388\ttotal: 672ms\tremaining: 231ms\n",
      "744:\tlearn: 0.0793626\ttotal: 673ms\tremaining: 230ms\n",
      "745:\tlearn: 0.0792529\ttotal: 673ms\tremaining: 229ms\n",
      "746:\tlearn: 0.0791222\ttotal: 674ms\tremaining: 228ms\n",
      "747:\tlearn: 0.0790385\ttotal: 675ms\tremaining: 227ms\n",
      "748:\tlearn: 0.0789314\ttotal: 676ms\tremaining: 227ms\n",
      "749:\tlearn: 0.0788669\ttotal: 677ms\tremaining: 226ms\n",
      "750:\tlearn: 0.0786233\ttotal: 678ms\tremaining: 225ms\n",
      "751:\tlearn: 0.0784594\ttotal: 678ms\tremaining: 224ms\n"
     ]
    },
    {
     "name": "stdout",
     "output_type": "stream",
     "text": [
      "752:\tlearn: 0.0783683\ttotal: 679ms\tremaining: 223ms\n",
      "753:\tlearn: 0.0782275\ttotal: 680ms\tremaining: 222ms\n",
      "754:\tlearn: 0.0781416\ttotal: 681ms\tremaining: 221ms\n",
      "755:\tlearn: 0.0779903\ttotal: 682ms\tremaining: 220ms\n",
      "756:\tlearn: 0.0778114\ttotal: 683ms\tremaining: 219ms\n",
      "757:\tlearn: 0.0777228\ttotal: 684ms\tremaining: 218ms\n",
      "758:\tlearn: 0.0776090\ttotal: 685ms\tremaining: 217ms\n",
      "759:\tlearn: 0.0775645\ttotal: 686ms\tremaining: 216ms\n",
      "760:\tlearn: 0.0774086\ttotal: 686ms\tremaining: 216ms\n",
      "761:\tlearn: 0.0772799\ttotal: 687ms\tremaining: 215ms\n",
      "762:\tlearn: 0.0771133\ttotal: 688ms\tremaining: 214ms\n",
      "763:\tlearn: 0.0769829\ttotal: 689ms\tremaining: 213ms\n",
      "764:\tlearn: 0.0768083\ttotal: 690ms\tremaining: 212ms\n",
      "765:\tlearn: 0.0766970\ttotal: 690ms\tremaining: 211ms\n",
      "766:\tlearn: 0.0766114\ttotal: 691ms\tremaining: 210ms\n",
      "767:\tlearn: 0.0765617\ttotal: 692ms\tremaining: 209ms\n",
      "768:\tlearn: 0.0765155\ttotal: 693ms\tremaining: 208ms\n",
      "769:\tlearn: 0.0764247\ttotal: 694ms\tremaining: 207ms\n",
      "770:\tlearn: 0.0763041\ttotal: 694ms\tremaining: 206ms\n",
      "771:\tlearn: 0.0762021\ttotal: 695ms\tremaining: 205ms\n",
      "772:\tlearn: 0.0761229\ttotal: 696ms\tremaining: 204ms\n",
      "773:\tlearn: 0.0760692\ttotal: 697ms\tremaining: 204ms\n",
      "774:\tlearn: 0.0759653\ttotal: 698ms\tremaining: 203ms\n",
      "775:\tlearn: 0.0759424\ttotal: 699ms\tremaining: 202ms\n",
      "776:\tlearn: 0.0758655\ttotal: 700ms\tremaining: 201ms\n",
      "777:\tlearn: 0.0757630\ttotal: 700ms\tremaining: 200ms\n",
      "778:\tlearn: 0.0756658\ttotal: 701ms\tremaining: 199ms\n",
      "779:\tlearn: 0.0756024\ttotal: 702ms\tremaining: 198ms\n",
      "780:\tlearn: 0.0754415\ttotal: 703ms\tremaining: 197ms\n",
      "781:\tlearn: 0.0753547\ttotal: 704ms\tremaining: 196ms\n",
      "782:\tlearn: 0.0753386\ttotal: 704ms\tremaining: 195ms\n",
      "783:\tlearn: 0.0751630\ttotal: 705ms\tremaining: 194ms\n",
      "784:\tlearn: 0.0750605\ttotal: 706ms\tremaining: 193ms\n",
      "785:\tlearn: 0.0750264\ttotal: 707ms\tremaining: 192ms\n",
      "786:\tlearn: 0.0748743\ttotal: 708ms\tremaining: 192ms\n",
      "787:\tlearn: 0.0746801\ttotal: 709ms\tremaining: 191ms\n",
      "788:\tlearn: 0.0745741\ttotal: 709ms\tremaining: 190ms\n",
      "789:\tlearn: 0.0744312\ttotal: 710ms\tremaining: 189ms\n",
      "790:\tlearn: 0.0743526\ttotal: 711ms\tremaining: 188ms\n",
      "791:\tlearn: 0.0742150\ttotal: 712ms\tremaining: 187ms\n",
      "792:\tlearn: 0.0741409\ttotal: 713ms\tremaining: 186ms\n",
      "793:\tlearn: 0.0739794\ttotal: 713ms\tremaining: 185ms\n",
      "794:\tlearn: 0.0739254\ttotal: 714ms\tremaining: 184ms\n",
      "795:\tlearn: 0.0738455\ttotal: 715ms\tremaining: 183ms\n",
      "796:\tlearn: 0.0737385\ttotal: 716ms\tremaining: 182ms\n",
      "797:\tlearn: 0.0736472\ttotal: 717ms\tremaining: 181ms\n",
      "798:\tlearn: 0.0735366\ttotal: 717ms\tremaining: 180ms\n",
      "799:\tlearn: 0.0734351\ttotal: 718ms\tremaining: 180ms\n",
      "800:\tlearn: 0.0733656\ttotal: 719ms\tremaining: 179ms\n",
      "801:\tlearn: 0.0731986\ttotal: 720ms\tremaining: 178ms\n",
      "802:\tlearn: 0.0731304\ttotal: 721ms\tremaining: 177ms\n",
      "803:\tlearn: 0.0730263\ttotal: 722ms\tremaining: 176ms\n",
      "804:\tlearn: 0.0728541\ttotal: 723ms\tremaining: 175ms\n",
      "805:\tlearn: 0.0727587\ttotal: 723ms\tremaining: 174ms\n",
      "806:\tlearn: 0.0726777\ttotal: 724ms\tremaining: 173ms\n",
      "807:\tlearn: 0.0725427\ttotal: 725ms\tremaining: 172ms\n",
      "808:\tlearn: 0.0724296\ttotal: 726ms\tremaining: 171ms\n",
      "809:\tlearn: 0.0723645\ttotal: 727ms\tremaining: 170ms\n",
      "810:\tlearn: 0.0723038\ttotal: 728ms\tremaining: 170ms\n",
      "811:\tlearn: 0.0722140\ttotal: 728ms\tremaining: 169ms\n",
      "812:\tlearn: 0.0721183\ttotal: 729ms\tremaining: 168ms\n",
      "813:\tlearn: 0.0720289\ttotal: 730ms\tremaining: 167ms\n",
      "814:\tlearn: 0.0719427\ttotal: 731ms\tremaining: 166ms\n",
      "815:\tlearn: 0.0718007\ttotal: 732ms\tremaining: 165ms\n",
      "816:\tlearn: 0.0717369\ttotal: 733ms\tremaining: 164ms\n",
      "817:\tlearn: 0.0715874\ttotal: 733ms\tremaining: 163ms\n",
      "818:\tlearn: 0.0714841\ttotal: 734ms\tremaining: 162ms\n",
      "819:\tlearn: 0.0713590\ttotal: 735ms\tremaining: 161ms\n",
      "820:\tlearn: 0.0712642\ttotal: 736ms\tremaining: 160ms\n",
      "821:\tlearn: 0.0711641\ttotal: 737ms\tremaining: 160ms\n",
      "822:\tlearn: 0.0710934\ttotal: 737ms\tremaining: 159ms\n",
      "823:\tlearn: 0.0710081\ttotal: 738ms\tremaining: 158ms\n",
      "824:\tlearn: 0.0709917\ttotal: 739ms\tremaining: 157ms\n",
      "825:\tlearn: 0.0709608\ttotal: 740ms\tremaining: 156ms\n",
      "826:\tlearn: 0.0708572\ttotal: 741ms\tremaining: 155ms\n",
      "827:\tlearn: 0.0707498\ttotal: 742ms\tremaining: 154ms\n",
      "828:\tlearn: 0.0706421\ttotal: 742ms\tremaining: 153ms\n",
      "829:\tlearn: 0.0705780\ttotal: 743ms\tremaining: 152ms\n",
      "830:\tlearn: 0.0705046\ttotal: 744ms\tremaining: 151ms\n",
      "831:\tlearn: 0.0703838\ttotal: 745ms\tremaining: 150ms\n",
      "832:\tlearn: 0.0702914\ttotal: 746ms\tremaining: 149ms\n",
      "833:\tlearn: 0.0701981\ttotal: 747ms\tremaining: 149ms\n",
      "834:\tlearn: 0.0701162\ttotal: 747ms\tremaining: 148ms\n",
      "835:\tlearn: 0.0700188\ttotal: 748ms\tremaining: 147ms\n",
      "836:\tlearn: 0.0698334\ttotal: 749ms\tremaining: 146ms\n",
      "837:\tlearn: 0.0697989\ttotal: 750ms\tremaining: 145ms\n",
      "838:\tlearn: 0.0697843\ttotal: 750ms\tremaining: 144ms\n",
      "839:\tlearn: 0.0696268\ttotal: 751ms\tremaining: 143ms\n",
      "840:\tlearn: 0.0695183\ttotal: 752ms\tremaining: 142ms\n",
      "841:\tlearn: 0.0694204\ttotal: 753ms\tremaining: 141ms\n",
      "842:\tlearn: 0.0692193\ttotal: 754ms\tremaining: 140ms\n",
      "843:\tlearn: 0.0690682\ttotal: 754ms\tremaining: 139ms\n",
      "844:\tlearn: 0.0690339\ttotal: 755ms\tremaining: 139ms\n",
      "845:\tlearn: 0.0689417\ttotal: 756ms\tremaining: 138ms\n",
      "846:\tlearn: 0.0688210\ttotal: 757ms\tremaining: 137ms\n",
      "847:\tlearn: 0.0687284\ttotal: 758ms\tremaining: 136ms\n",
      "848:\tlearn: 0.0685912\ttotal: 759ms\tremaining: 135ms\n",
      "849:\tlearn: 0.0684912\ttotal: 760ms\tremaining: 134ms\n",
      "850:\tlearn: 0.0684033\ttotal: 761ms\tremaining: 133ms\n",
      "851:\tlearn: 0.0682397\ttotal: 762ms\tremaining: 132ms\n"
     ]
    },
    {
     "name": "stdout",
     "output_type": "stream",
     "text": [
      "852:\tlearn: 0.0682230\ttotal: 763ms\tremaining: 131ms\n",
      "853:\tlearn: 0.0682068\ttotal: 764ms\tremaining: 131ms\n",
      "854:\tlearn: 0.0680711\ttotal: 765ms\tremaining: 130ms\n",
      "855:\tlearn: 0.0679742\ttotal: 766ms\tremaining: 129ms\n",
      "856:\tlearn: 0.0678189\ttotal: 767ms\tremaining: 128ms\n",
      "857:\tlearn: 0.0676524\ttotal: 768ms\tremaining: 127ms\n",
      "858:\tlearn: 0.0675056\ttotal: 768ms\tremaining: 126ms\n",
      "859:\tlearn: 0.0673026\ttotal: 769ms\tremaining: 125ms\n",
      "860:\tlearn: 0.0672535\ttotal: 770ms\tremaining: 124ms\n",
      "861:\tlearn: 0.0671710\ttotal: 771ms\tremaining: 123ms\n",
      "862:\tlearn: 0.0671392\ttotal: 772ms\tremaining: 123ms\n",
      "863:\tlearn: 0.0670475\ttotal: 773ms\tremaining: 122ms\n",
      "864:\tlearn: 0.0669368\ttotal: 774ms\tremaining: 121ms\n",
      "865:\tlearn: 0.0668422\ttotal: 775ms\tremaining: 120ms\n",
      "866:\tlearn: 0.0668142\ttotal: 776ms\tremaining: 119ms\n",
      "867:\tlearn: 0.0666305\ttotal: 777ms\tremaining: 118ms\n",
      "868:\tlearn: 0.0664962\ttotal: 778ms\tremaining: 117ms\n",
      "869:\tlearn: 0.0663614\ttotal: 779ms\tremaining: 116ms\n",
      "870:\tlearn: 0.0662621\ttotal: 780ms\tremaining: 116ms\n",
      "871:\tlearn: 0.0661699\ttotal: 781ms\tremaining: 115ms\n",
      "872:\tlearn: 0.0660407\ttotal: 782ms\tremaining: 114ms\n",
      "873:\tlearn: 0.0659058\ttotal: 783ms\tremaining: 113ms\n",
      "874:\tlearn: 0.0658221\ttotal: 783ms\tremaining: 112ms\n",
      "875:\tlearn: 0.0657544\ttotal: 784ms\tremaining: 111ms\n",
      "876:\tlearn: 0.0657256\ttotal: 785ms\tremaining: 110ms\n",
      "877:\tlearn: 0.0655833\ttotal: 786ms\tremaining: 109ms\n",
      "878:\tlearn: 0.0654117\ttotal: 787ms\tremaining: 108ms\n",
      "879:\tlearn: 0.0653223\ttotal: 788ms\tremaining: 107ms\n",
      "880:\tlearn: 0.0652297\ttotal: 788ms\tremaining: 106ms\n",
      "881:\tlearn: 0.0651754\ttotal: 789ms\tremaining: 106ms\n",
      "882:\tlearn: 0.0651170\ttotal: 790ms\tremaining: 105ms\n",
      "883:\tlearn: 0.0650298\ttotal: 791ms\tremaining: 104ms\n",
      "884:\tlearn: 0.0649867\ttotal: 791ms\tremaining: 103ms\n",
      "885:\tlearn: 0.0649714\ttotal: 792ms\tremaining: 102ms\n",
      "886:\tlearn: 0.0648949\ttotal: 793ms\tremaining: 101ms\n",
      "887:\tlearn: 0.0648231\ttotal: 794ms\tremaining: 100ms\n",
      "888:\tlearn: 0.0647087\ttotal: 795ms\tremaining: 99.2ms\n",
      "889:\tlearn: 0.0646155\ttotal: 796ms\tremaining: 98.3ms\n",
      "890:\tlearn: 0.0645113\ttotal: 796ms\tremaining: 97.4ms\n",
      "891:\tlearn: 0.0644332\ttotal: 797ms\tremaining: 96.5ms\n",
      "892:\tlearn: 0.0643717\ttotal: 798ms\tremaining: 95.6ms\n",
      "893:\tlearn: 0.0643537\ttotal: 799ms\tremaining: 94.7ms\n",
      "894:\tlearn: 0.0642586\ttotal: 800ms\tremaining: 93.8ms\n",
      "895:\tlearn: 0.0641501\ttotal: 800ms\tremaining: 92.9ms\n",
      "896:\tlearn: 0.0640174\ttotal: 801ms\tremaining: 92ms\n",
      "897:\tlearn: 0.0639434\ttotal: 802ms\tremaining: 91.1ms\n",
      "898:\tlearn: 0.0637726\ttotal: 803ms\tremaining: 90.2ms\n",
      "899:\tlearn: 0.0636140\ttotal: 804ms\tremaining: 89.3ms\n",
      "900:\tlearn: 0.0635746\ttotal: 805ms\tremaining: 88.4ms\n",
      "901:\tlearn: 0.0635042\ttotal: 805ms\tremaining: 87.5ms\n",
      "902:\tlearn: 0.0634876\ttotal: 806ms\tremaining: 86.6ms\n",
      "903:\tlearn: 0.0633668\ttotal: 807ms\tremaining: 85.7ms\n",
      "904:\tlearn: 0.0633558\ttotal: 808ms\tremaining: 84.8ms\n",
      "905:\tlearn: 0.0632765\ttotal: 809ms\tremaining: 83.9ms\n",
      "906:\tlearn: 0.0631645\ttotal: 810ms\tremaining: 83ms\n",
      "907:\tlearn: 0.0631179\ttotal: 810ms\tremaining: 82.1ms\n",
      "908:\tlearn: 0.0630501\ttotal: 811ms\tremaining: 81.2ms\n",
      "909:\tlearn: 0.0629740\ttotal: 812ms\tremaining: 80.3ms\n",
      "910:\tlearn: 0.0628182\ttotal: 813ms\tremaining: 79.4ms\n",
      "911:\tlearn: 0.0627925\ttotal: 814ms\tremaining: 78.5ms\n",
      "912:\tlearn: 0.0626209\ttotal: 814ms\tremaining: 77.6ms\n",
      "913:\tlearn: 0.0625943\ttotal: 815ms\tremaining: 76.7ms\n",
      "914:\tlearn: 0.0625572\ttotal: 816ms\tremaining: 75.8ms\n",
      "915:\tlearn: 0.0624386\ttotal: 817ms\tremaining: 74.9ms\n",
      "916:\tlearn: 0.0623219\ttotal: 818ms\tremaining: 74ms\n",
      "917:\tlearn: 0.0621912\ttotal: 819ms\tremaining: 73.1ms\n",
      "918:\tlearn: 0.0620638\ttotal: 819ms\tremaining: 72.2ms\n",
      "919:\tlearn: 0.0619673\ttotal: 820ms\tremaining: 71.3ms\n",
      "920:\tlearn: 0.0619337\ttotal: 821ms\tremaining: 70.4ms\n",
      "921:\tlearn: 0.0618723\ttotal: 822ms\tremaining: 69.5ms\n",
      "922:\tlearn: 0.0617576\ttotal: 823ms\tremaining: 68.6ms\n",
      "923:\tlearn: 0.0616645\ttotal: 823ms\tremaining: 67.7ms\n",
      "924:\tlearn: 0.0615275\ttotal: 824ms\tremaining: 66.8ms\n",
      "925:\tlearn: 0.0614355\ttotal: 826ms\tremaining: 66ms\n",
      "926:\tlearn: 0.0613500\ttotal: 827ms\tremaining: 65.1ms\n",
      "927:\tlearn: 0.0611988\ttotal: 827ms\tremaining: 64.2ms\n",
      "928:\tlearn: 0.0610654\ttotal: 828ms\tremaining: 63.3ms\n",
      "929:\tlearn: 0.0609658\ttotal: 829ms\tremaining: 62.4ms\n",
      "930:\tlearn: 0.0608356\ttotal: 830ms\tremaining: 61.5ms\n",
      "931:\tlearn: 0.0607775\ttotal: 831ms\tremaining: 60.6ms\n",
      "932:\tlearn: 0.0606427\ttotal: 831ms\tremaining: 59.7ms\n",
      "933:\tlearn: 0.0605846\ttotal: 832ms\tremaining: 58.8ms\n",
      "934:\tlearn: 0.0604672\ttotal: 833ms\tremaining: 57.9ms\n",
      "935:\tlearn: 0.0603755\ttotal: 834ms\tremaining: 57ms\n",
      "936:\tlearn: 0.0603602\ttotal: 835ms\tremaining: 56.1ms\n",
      "937:\tlearn: 0.0602922\ttotal: 836ms\tremaining: 55.2ms\n",
      "938:\tlearn: 0.0602534\ttotal: 837ms\tremaining: 54.3ms\n",
      "939:\tlearn: 0.0601882\ttotal: 837ms\tremaining: 53.4ms\n",
      "940:\tlearn: 0.0601578\ttotal: 838ms\tremaining: 52.6ms\n",
      "941:\tlearn: 0.0601187\ttotal: 839ms\tremaining: 51.7ms\n",
      "942:\tlearn: 0.0599731\ttotal: 840ms\tremaining: 50.8ms\n",
      "943:\tlearn: 0.0598847\ttotal: 841ms\tremaining: 49.9ms\n",
      "944:\tlearn: 0.0598549\ttotal: 841ms\tremaining: 49ms\n",
      "945:\tlearn: 0.0597798\ttotal: 842ms\tremaining: 48.1ms\n",
      "946:\tlearn: 0.0596532\ttotal: 843ms\tremaining: 47.2ms\n",
      "947:\tlearn: 0.0595550\ttotal: 844ms\tremaining: 46.3ms\n",
      "948:\tlearn: 0.0594446\ttotal: 845ms\tremaining: 45.4ms\n",
      "949:\tlearn: 0.0593540\ttotal: 846ms\tremaining: 44.5ms\n",
      "950:\tlearn: 0.0592882\ttotal: 846ms\tremaining: 43.6ms\n",
      "951:\tlearn: 0.0592161\ttotal: 847ms\tremaining: 42.7ms\n",
      "952:\tlearn: 0.0591286\ttotal: 848ms\tremaining: 41.8ms\n",
      "953:\tlearn: 0.0591000\ttotal: 849ms\tremaining: 40.9ms\n",
      "954:\tlearn: 0.0590182\ttotal: 850ms\tremaining: 40ms\n",
      "955:\tlearn: 0.0589235\ttotal: 851ms\tremaining: 39.2ms\n",
      "956:\tlearn: 0.0587863\ttotal: 852ms\tremaining: 38.3ms\n",
      "957:\tlearn: 0.0586798\ttotal: 852ms\tremaining: 37.4ms\n",
      "958:\tlearn: 0.0586654\ttotal: 853ms\tremaining: 36.5ms\n",
      "959:\tlearn: 0.0585726\ttotal: 854ms\tremaining: 35.6ms\n",
      "960:\tlearn: 0.0584530\ttotal: 855ms\tremaining: 34.7ms\n",
      "961:\tlearn: 0.0583472\ttotal: 856ms\tremaining: 33.8ms\n",
      "962:\tlearn: 0.0582119\ttotal: 856ms\tremaining: 32.9ms\n",
      "963:\tlearn: 0.0581652\ttotal: 857ms\tremaining: 32ms\n",
      "964:\tlearn: 0.0581326\ttotal: 858ms\tremaining: 31.1ms\n",
      "965:\tlearn: 0.0580920\ttotal: 859ms\tremaining: 30.2ms\n",
      "966:\tlearn: 0.0580469\ttotal: 860ms\tremaining: 29.3ms\n",
      "967:\tlearn: 0.0579969\ttotal: 860ms\tremaining: 28.4ms\n",
      "968:\tlearn: 0.0579695\ttotal: 861ms\tremaining: 27.6ms\n",
      "969:\tlearn: 0.0579174\ttotal: 862ms\tremaining: 26.7ms\n",
      "970:\tlearn: 0.0578183\ttotal: 863ms\tremaining: 25.8ms\n",
      "971:\tlearn: 0.0578031\ttotal: 864ms\tremaining: 24.9ms\n",
      "972:\tlearn: 0.0577377\ttotal: 865ms\tremaining: 24ms\n",
      "973:\tlearn: 0.0576928\ttotal: 865ms\tremaining: 23.1ms\n",
      "974:\tlearn: 0.0576262\ttotal: 866ms\tremaining: 22.2ms\n",
      "975:\tlearn: 0.0575022\ttotal: 867ms\tremaining: 21.3ms\n",
      "976:\tlearn: 0.0574341\ttotal: 868ms\tremaining: 20.4ms\n",
      "977:\tlearn: 0.0573562\ttotal: 868ms\tremaining: 19.5ms\n"
     ]
    },
    {
     "name": "stdout",
     "output_type": "stream",
     "text": [
      "978:\tlearn: 0.0572442\ttotal: 869ms\tremaining: 18.6ms\n",
      "979:\tlearn: 0.0571764\ttotal: 870ms\tremaining: 17.8ms\n",
      "980:\tlearn: 0.0571461\ttotal: 871ms\tremaining: 16.9ms\n",
      "981:\tlearn: 0.0570144\ttotal: 872ms\tremaining: 16ms\n",
      "982:\tlearn: 0.0569179\ttotal: 873ms\tremaining: 15.1ms\n",
      "983:\tlearn: 0.0567863\ttotal: 874ms\tremaining: 14.2ms\n",
      "984:\tlearn: 0.0567251\ttotal: 874ms\tremaining: 13.3ms\n",
      "985:\tlearn: 0.0566514\ttotal: 875ms\tremaining: 12.4ms\n",
      "986:\tlearn: 0.0565569\ttotal: 876ms\tremaining: 11.5ms\n",
      "987:\tlearn: 0.0565119\ttotal: 877ms\tremaining: 10.7ms\n",
      "988:\tlearn: 0.0564352\ttotal: 878ms\tremaining: 9.76ms\n",
      "989:\tlearn: 0.0563643\ttotal: 879ms\tremaining: 8.88ms\n",
      "990:\tlearn: 0.0563443\ttotal: 880ms\tremaining: 7.99ms\n",
      "991:\tlearn: 0.0563283\ttotal: 880ms\tremaining: 7.1ms\n",
      "992:\tlearn: 0.0562441\ttotal: 881ms\tremaining: 6.21ms\n",
      "993:\tlearn: 0.0561090\ttotal: 882ms\tremaining: 5.32ms\n",
      "994:\tlearn: 0.0560153\ttotal: 883ms\tremaining: 4.43ms\n",
      "995:\tlearn: 0.0560009\ttotal: 883ms\tremaining: 3.55ms\n",
      "996:\tlearn: 0.0558507\ttotal: 884ms\tremaining: 2.66ms\n",
      "997:\tlearn: 0.0557966\ttotal: 885ms\tremaining: 1.77ms\n",
      "998:\tlearn: 0.0557018\ttotal: 886ms\tremaining: 886us\n",
      "999:\tlearn: 0.0556185\ttotal: 887ms\tremaining: 0us\n"
     ]
    },
    {
     "data": {
      "text/plain": [
       "<catboost.core.CatBoostRegressor at 0x7f9665b40e50>"
      ]
     },
     "execution_count": 9,
     "metadata": {},
     "output_type": "execute_result"
    }
   ],
   "source": [
    "#Train the Model \n",
    "prior_model = ctb.CatBoostRegressor()\n",
    "prior_model.fit(X_train,Y_train)"
   ]
  },
  {
   "cell_type": "code",
   "execution_count": 10,
   "id": "af65dcda",
   "metadata": {
    "execution": {
     "iopub.execute_input": "2022-06-11T15:49:51.506928Z",
     "iopub.status.busy": "2022-06-11T15:49:51.506533Z",
     "iopub.status.idle": "2022-06-11T15:49:51.514156Z",
     "shell.execute_reply": "2022-06-11T15:49:51.514444Z"
    },
    "id": "af65dcda",
    "papermill": {
     "duration": 0.021641,
     "end_time": "2022-06-11T15:49:51.514580",
     "exception": false,
     "start_time": "2022-06-11T15:49:51.492939",
     "status": "completed"
    },
    "tags": []
   },
   "outputs": [
    {
     "data": {
      "application/scrapbook.scrap.json+json": {
       "data": 0.10662457647997063,
       "encoder": "json",
       "name": "Prior Model MSE",
       "version": 1
      }
     },
     "metadata": {
      "scrapbook": {
       "data": true,
       "display": false,
       "name": "Prior Model MSE"
      }
     },
     "output_type": "display_data"
    },
    {
     "data": {
      "application/scrapbook.scrap.json+json": {
       "data": 2.3282398993305486,
       "encoder": "json",
       "name": "ABC Pre-generator MSE",
       "version": 1
      }
     },
     "metadata": {
      "scrapbook": {
       "data": true,
       "display": false,
       "name": "ABC Pre-generator MSE"
      }
     },
     "output_type": "display_data"
    },
    {
     "data": {
      "application/scrapbook.scrap.json+json": {
       "data": 0.22955170526989965,
       "encoder": "json",
       "name": "Prior Model MSE",
       "version": 1
      }
     },
     "metadata": {
      "scrapbook": {
       "data": true,
       "display": false,
       "name": "Prior Model MSE"
      }
     },
     "output_type": "display_data"
    },
    {
     "data": {
      "application/scrapbook.scrap.json+json": {
       "data": 1.241747058043976,
       "encoder": "json",
       "name": "ABC Pre-generator MSE",
       "version": 1
      }
     },
     "metadata": {
      "scrapbook": {
       "data": true,
       "display": false,
       "name": "ABC Pre-generator MSE"
      }
     },
     "output_type": "display_data"
    }
   ],
   "source": [
    "y_pred = prior_model.predict(X_test)\n",
    "y_abc = y_pred + np.random.normal(0,variance, y_pred.shape) + bias \n",
    "mse = mean_squared_error(y_pred,Y_test)\n",
    "sb.glue(\"Prior Model MSE\",mse)\n",
    "mse = mean_squared_error(y_abc,Y_test)\n",
    "sb.glue(\"ABC Pre-generator MSE\",mse)\n",
    "mae = mean_absolute_error(y_pred,Y_test)\n",
    "sb.glue(\"Prior Model MSE\",mae)\n",
    "mae = mean_absolute_error(y_abc,Y_test)\n",
    "sb.glue(\"ABC Pre-generator MSE\",mae)"
   ]
  },
  {
   "cell_type": "markdown",
   "id": "25609da2",
   "metadata": {
    "papermill": {
     "duration": 0.009759,
     "end_time": "2022-06-11T15:49:51.534519",
     "exception": false,
     "start_time": "2022-06-11T15:49:51.524760",
     "status": "completed"
    },
    "tags": []
   },
   "source": [
    "# ABC GAN Model"
   ]
  },
  {
   "cell_type": "code",
   "execution_count": 11,
   "id": "dfc3464d",
   "metadata": {
    "execution": {
     "iopub.execute_input": "2022-06-11T15:49:51.557294Z",
     "iopub.status.busy": "2022-06-11T15:49:51.556923Z",
     "iopub.status.idle": "2022-06-11T15:49:51.559325Z",
     "shell.execute_reply": "2022-06-11T15:49:51.559560Z"
    },
    "papermill": {
     "duration": 0.015346,
     "end_time": "2022-06-11T15:49:51.559670",
     "exception": false,
     "start_time": "2022-06-11T15:49:51.544324",
     "status": "completed"
    },
    "tags": []
   },
   "outputs": [],
   "source": [
    "gen = network.Generator(n_features+1).to(device)\n",
    "disc = network.Discriminator(n_features+1).to(device)\n",
    "\n",
    "criterion = torch.nn.BCELoss()\n",
    "gen_opt = torch.optim.Adam(gen.parameters(), lr=0.001, betas=(0.5, 0.999))\n",
    "disc_opt = torch.optim.Adam(disc.parameters(), lr=0.001, betas=(0.5, 0.999))"
   ]
  },
  {
   "cell_type": "code",
   "execution_count": 12,
   "id": "b75fdd85",
   "metadata": {
    "execution": {
     "iopub.execute_input": "2022-06-11T15:49:51.582228Z",
     "iopub.status.busy": "2022-06-11T15:49:51.581849Z",
     "iopub.status.idle": "2022-06-11T15:50:51.778158Z",
     "shell.execute_reply": "2022-06-11T15:50:51.778458Z"
    },
    "papermill": {
     "duration": 60.209026,
     "end_time": "2022-06-11T15:50:51.778581",
     "exception": false,
     "start_time": "2022-06-11T15:49:51.569555",
     "status": "completed"
    },
    "tags": []
   },
   "outputs": [
    {
     "data": {
      "image/png": "[encoded data removed]",
      "text/plain": [
       "<Figure size 432x288 with 1 Axes>"
      ]
     },
     "metadata": {
      "needs_background": "light"
     },
     "output_type": "display_data"
    },
    {
     "data": {
      "image/png": "[encoded data removed]",
      "text/plain": [
       "<Figure size 432x288 with 1 Axes>"
      ]
     },
     "metadata": {
      "needs_background": "light"
     },
     "output_type": "display_data"
    }
   ],
   "source": [
    "#Training the ABC_GAN \n",
    "ABC_train_test2.training_GAN(disc,gen,disc_opt,gen_opt,train_data,batch_size,n_epochs,criterion,prior_model,variance,bias,device)"
   ]
  },
  {
   "cell_type": "code",
   "execution_count": 13,
   "id": "1fa7c368",
   "metadata": {
    "execution": {
     "iopub.execute_input": "2022-06-11T15:50:51.803581Z",
     "iopub.status.busy": "2022-06-11T15:50:51.803187Z",
     "iopub.status.idle": "2022-06-11T15:50:52.107627Z",
     "shell.execute_reply": "2022-06-11T15:50:52.107870Z"
    },
    "papermill": {
     "duration": 0.318552,
     "end_time": "2022-06-11T15:50:52.107993",
     "exception": false,
     "start_time": "2022-06-11T15:50:51.789441",
     "status": "completed"
    },
    "tags": []
   },
   "outputs": [
    {
     "data": {
      "application/scrapbook.scrap.json+json": {
       "data": 0.1174870446028278,
       "encoder": "json",
       "name": "ABC-GAN Model 1 MSE",
       "version": 1
      }
     },
     "metadata": {
      "scrapbook": {
       "data": true,
       "display": false,
       "name": "ABC-GAN Model 1 MSE"
      }
     },
     "output_type": "display_data"
    },
    {
     "data": {
      "application/scrapbook.scrap.json+json": {
       "data": 0.22931539409994786,
       "encoder": "json",
       "name": "ABC-GAN Model 1 MAE",
       "version": 1
      }
     },
     "metadata": {
      "scrapbook": {
       "data": true,
       "display": false,
       "name": "ABC-GAN Model 1 MAE"
      }
     },
     "output_type": "display_data"
    },
    {
     "data": {
      "application/scrapbook.scrap.json+json": {
       "data": 23.39017019819468,
       "encoder": "json",
       "name": "ABC-GAN Model 1 Manhattan Distance",
       "version": 1
      }
     },
     "metadata": {
      "scrapbook": {
       "data": true,
       "display": false,
       "name": "ABC-GAN Model 1 Manhattan Distance"
      }
     },
     "output_type": "display_data"
    },
    {
     "data": {
      "application/scrapbook.scrap.json+json": {
       "data": 3.4615736508886354,
       "encoder": "json",
       "name": "ABC-GAN Model 1 Euclidean distance",
       "version": 1
      }
     },
     "metadata": {
      "scrapbook": {
       "data": true,
       "display": false,
       "name": "ABC-GAN Model 1 Euclidean distance"
      }
     },
     "output_type": "display_data"
    },
    {
     "data": {
      "application/scrapbook.scrap.json+json": {
       "data": [
        [
         0.11663156860961425,
         0.11977097095128116,
         0.11360832773984951,
         0.1190319285366063,
         0.11956327092314857,
         0.12104472871934857,
         0.11619744320293597,
         0.11338798773339735,
         0.12269233108936081,
         0.11679027415391889,
         0.11911564656042269,
         0.11990527695744127,
         0.11799742170871441,
         0.11765562621008473,
         0.1117670641886008,
         0.11126915953239747,
         0.11983808789709775,
         0.11786215930071364,
         0.11876719713247023,
         0.11494767473692888,
         0.11893662620179427,
         0.11890633157833928,
         0.11732657887002342,
         0.11655667912159447,
         0.11844688114727775,
         0.11816077828296105,
         0.11586292075104498,
         0.11580144473707363,
         0.11852444387032943,
         0.11478222269828958,
         0.11638754772191623,
         0.11087597345956943,
         0.11708496452095211,
         0.12303810334786225,
         0.12043927397802758,
         0.11809100147136428,
         0.11861726579714942,
         0.11981864093038976,
         0.11617303450794515,
         0.11819997192815773,
         0.11585691313577139,
         0.12017490655428237,
         0.11555448578405812,
         0.11723470883595344,
         0.11397238640053776,
         0.11473236837813694,
         0.11972642825550175,
         0.11764826237726991,
         0.11895090122092328,
         0.11755956392882497,
         0.116315208165107,
         0.11587956121509609,
         0.11848809065109596,
         0.11948802805083701,
         0.11744166855060874,
         0.11763335142900797,
         0.11739550857860323,
         0.11369784192760411,
         0.11611674719470488,
         0.11552257860529178,
         0.11594648733691677,
         0.11635113657081567,
         0.12065257101836104,
         0.11588755290178937,
         0.11774641054113719,
         0.11341476225918128,
         0.11875758716777514,
         0.12056229702155499,
         0.1157065145667606,
         0.11922153852657612,
         0.11764382916704304,
         0.12013773828764723,
         0.11739163767050283,
         0.11394980800992219,
         0.11869732816373309,
         0.11423694184646394,
         0.11910360704578059,
         0.12109198424932216,
         0.11609400174556678,
         0.11673099966725242,
         0.11834206713671354,
         0.11801003219865049,
         0.1151478689376242,
         0.11599564136172276,
         0.12098184859426726,
         0.1178931573411857,
         0.11887446674732091,
         0.11699262759638554,
         0.1189042747663644,
         0.12053110308317685,
         0.11648592829976114,
         0.11741244975935843,
         0.11864623008585444,
         0.11709371835029742,
         0.11812156361063764,
         0.11590350411969774,
         0.11916680440545604,
         0.12170388872323752,
         0.1200455042298759,
         0.11386270712547845
        ],
        [
         0.22873562302294315,
         0.22976124920316188,
         0.22736247733016224,
         0.23000392867434843,
         0.23047546523750997,
         0.23216987519945,
         0.22696990306105683,
         0.22629304246648269,
         0.2303271323771161,
         0.22757843145918027,
         0.22797643844330429,
         0.22900150546475367,
         0.22924406357182592,
         0.23046948667615652,
         0.2271039803311521,
         0.22758796480575613,
         0.2300918063367991,
         0.22916415892541409,
         0.2310639057929317,
         0.22837017975090182,
         0.22962613887719663,
         0.2300384159875559,
         0.22820169962577375,
         0.22764275834767841,
         0.22887440493293837,
         0.23150470787111452,
         0.2282728937947575,
         0.22876046011772225,
         0.22987466541064136,
         0.22686774851571695,
         0.22790623721027492,
         0.22849242420246205,
         0.22982838328051217,
         0.23337424071688279,
         0.22927553723474928,
         0.23072267270774818,
         0.2298106666946528,
         0.2296252361882259,
         0.227874371971862,
         0.2278144089139852,
         0.2276469938931804,
         0.23063275084702992,
         0.2275307684881138,
         0.22926412780276118,
         0.2285358411643435,
         0.22693401054643533,
         0.2297918029932999,
         0.23018259743192032,
         0.23037266755001803,
         0.22985063637515493,
         0.22813935652740447,
         0.2283019578522619,
         0.230992196182556,
         0.2321982022886183,
         0.2282187512290536,
         0.23012884616778762,
         0.23016287260414922,
         0.2262540953964287,
         0.22969873393794485,
         0.229960044389408,
         0.22800946672100061,
         0.22754497203391558,
         0.22995983853059657,
         0.22836585520017966,
         0.23117672085908114,
         0.22824316305637943,
         0.23087549810389094,
         0.23004129717089966,
         0.23036951270392714,
         0.2311625081278822,
         0.22876312099762408,
         0.22893596650557776,
         0.22982606647864862,
         0.22695750971416048,
         0.2296083384357831,
         0.22790713800007806,
         0.23167036263746957,
         0.23064504700767643,
         0.23092491868152923,
         0.22902972110565387,
         0.23099153541831993,
         0.23015924731232956,
         0.22856815150190218,
         0.22977460845939668,
         0.23294441937012414,
         0.22858380677872428,
         0.22913882160084506,
         0.22900028842702216,
         0.22957108250143482,
         0.2295572990551591,
         0.23084041881648934,
         0.22815447684158296,
         0.2281663150654412,
         0.23059190877293254,
         0.22918524609549956,
         0.22925307033766135,
         0.22883206918178237,
         0.23006739867303302,
         0.23124657620621078,
         0.22795970310621402
        ],
        [
         23.3310335483402,
         23.43564741872251,
         23.19097268767655,
         23.46040072478354,
         23.508497454226017,
         23.6813272703439,
         23.150930112227798,
         23.081890331581235,
         23.493367502465844,
         23.21300000883639,
         23.253596721217036,
         23.358153557404876,
         23.382894484326243,
         23.507887640967965,
         23.164605993777514,
         23.213972410187125,
         23.469364246353507,
         23.374744210392237,
         23.568518390879035,
         23.293758334591985,
         23.421866165474057,
         23.4639184307307,
         23.276573361828923,
         23.2195613514632,
         23.345189303159714,
         23.61348020285368,
         23.283835167065263,
         23.33356693200767,
         23.44721587188542,
         23.14051034860313,
         23.24643619544804,
         23.306227268651128,
         23.44249509461224,
         23.804172553122044,
         23.386104797944427,
         23.533712616190314,
         23.440688002854586,
         23.42177409119904,
         23.243185941129923,
         23.23706970922649,
         23.2199933771044,
         23.524540586397052,
         23.208138385787606,
         23.38494103588164,
         23.310655798763037,
         23.147269075736403,
         23.43876390531659,
         23.478624938055873,
         23.498012090101838,
         23.444764910265803,
         23.270214365795255,
         23.286799700930715,
         23.561204010620713,
         23.684216633439064,
         23.27831262536347,
         23.473142309114337,
         23.47661300562322,
         23.07791773043573,
         23.429270861670375,
         23.455924527719617,
         23.256965605542064,
         23.209587147459388,
         23.45590353012085,
         23.293317230418324,
         23.580025527626276,
         23.280802631750703,
         23.549300806596875,
         23.464212311431766,
         23.497690295800567,
         23.578575829043984,
         23.333838341757655,
         23.35146858356893,
         23.442258780822158,
         23.14966599084437,
         23.420050520449877,
         23.246528076007962,
         23.630376989021897,
         23.525794794782996,
         23.55434170551598,
         23.361031552776694,
         23.561136612668633,
         23.476243225857615,
         23.313951453194022,
         23.437010062858462,
         23.760330775752664,
         23.315548291429877,
         23.372159803286195,
         23.35802941955626,
         23.41625041514635,
         23.414844503626227,
         23.545722719281912,
         23.271756637841463,
         23.272964136675,
         23.52037469483912,
         23.376895101740956,
         23.383813174441457,
         23.3408710565418,
         23.466874664649367,
         23.5871507730335,
         23.25188971683383
        ],
        [
         3.449118727759405,
         3.4952308989579906,
         3.404122416932835,
         3.484430614997785,
         3.49219896829507,
         3.513767540599911,
         3.4426935975627377,
         3.400819717186802,
         3.53760056692595,
         3.4514646113932166,
         3.4856557416307066,
         3.4971900505490137,
         3.469255974166344,
         3.4642277456063195,
         3.37642422501043,
         3.3688951115023658,
         3.496210086007987,
         3.467266971069979,
         3.4805537070288057,
         3.424129498597672,
         3.483035439466991,
         3.4825918252058483,
         3.459380153256127,
         3.448011205086584,
         3.4758569989316768,
         3.4716565764577036,
         3.4377344162408168,
         3.436822276926974,
         3.4769948626326146,
         3.4216643194833614,
         3.4455086515107536,
         3.3629375987187275,
         3.4558163118338787,
         3.54258190328494,
         3.5049687510388465,
         3.4706313762886367,
         3.478356093229851,
         3.4959263972371835,
         3.4423319886103965,
         3.4722322987772696,
         3.4376452899984717,
         3.501119887769741,
         3.433155625656071,
         3.4580254917029243,
         3.4095723211063946,
         3.420921158777262,
         3.4945809022057532,
         3.4641193343303764,
         3.483244453743402,
         3.4628132379237755,
         3.4444377237570887,
         3.4379812745184934,
         3.476461598581493,
         3.4910999500423037,
         3.461076449915847,
         3.463899803077279,
         3.460396202029115,
         3.4054632396511955,
         3.441497960751959,
         3.432681607393811,
         3.4389739324928743,
         3.4449696559219785,
         3.5080710146564624,
         3.4380998234464513,
         3.4655640053526633,
         3.401221214569332,
         3.4804128908957144,
         3.5067583743677866,
         3.4354132918485334,
         3.4872047444494507,
         3.4640540664138584,
         3.500578424395033,
         3.4603391513537063,
         3.4092345793465224,
         3.4795297775275285,
         3.4135272180457736,
         3.485479582305658,
         3.51445335627475,
         3.4411608765135946,
         3.450588640516245,
         3.474318760267224,
         3.46944135045721,
         3.42710995324598,
         3.4397028096763997,
         3.5128547588272507,
         3.467722891005125,
         3.482125156887204,
         3.4544533597707345,
         3.4825617045745463,
         3.5063046807834652,
         3.446964561259027,
         3.4606458754767955,
         3.4787807445651344,
         3.4559454960589777,
         3.471080449699349,
         3.438336432085896,
         3.4864041718304133,
         3.5233218203522405,
         3.4992344064734127,
         3.4079313559399638
        ]
       ],
       "encoder": "json",
       "name": "ABC_GAN_1 Metrics",
       "version": 1
      }
     },
     "metadata": {
      "scrapbook": {
       "data": true,
       "display": false,
       "name": "ABC_GAN_1 Metrics"
      }
     },
     "output_type": "display_data"
    },
    {
     "name": "stdout",
     "output_type": "stream",
     "text": [
      "MSE\n",
      "0.1174870446028278\n"
     ]
    }
   ],
   "source": [
    "ABC_GAN1_metrics=ABC_train_test2.test_generator(gen,test_data,prior_model,variance,bias,\"1\",device)\n",
    "sb.glue(\"ABC_GAN_1 Metrics\",ABC_GAN1_metrics)\n",
    "\n",
    "print(\"MSE\")\n",
    "print(mean(ABC_GAN1_metrics[0]))"
   ]
  },
  {
   "cell_type": "code",
   "execution_count": 14,
   "id": "eb22ce5c",
   "metadata": {
    "execution": {
     "iopub.execute_input": "2022-06-11T15:50:52.135958Z",
     "iopub.status.busy": "2022-06-11T15:50:52.135529Z",
     "iopub.status.idle": "2022-06-11T15:50:52.457183Z",
     "shell.execute_reply": "2022-06-11T15:50:52.457553Z"
    },
    "papermill": {
     "duration": 0.337101,
     "end_time": "2022-06-11T15:50:52.457674",
     "exception": false,
     "start_time": "2022-06-11T15:50:52.120573",
     "status": "completed"
    },
    "tags": []
   },
   "outputs": [
    {
     "data": {
      "image/png": "[encoded data removed]",
      "text/plain": [
       "<Figure size 432x288 with 1 Axes>"
      ]
     },
     "metadata": {
      "needs_background": "light"
     },
     "output_type": "display_data"
    },
    {
     "data": {
      "image/png": "[encoded data removed]",
      "text/plain": [
       "<Figure size 432x288 with 1 Axes>"
      ]
     },
     "metadata": {
      "needs_background": "light"
     },
     "output_type": "display_data"
    },
    {
     "data": {
      "image/png": "[encoded data removed]",
      "text/plain": [
       "<Figure size 432x288 with 1 Axes>"
      ]
     },
     "metadata": {
      "needs_background": "light"
     },
     "output_type": "display_data"
    },
    {
     "data": {
      "image/png": "[encoded data removed]",
      "text/plain": [
       "<Figure size 432x288 with 1 Axes>"
      ]
     },
     "metadata": {
      "needs_background": "light"
     },
     "output_type": "display_data"
    }
   ],
   "source": [
    "sanityChecks.discProbVsError(train_data,disc,device)\n",
    "sanityChecks.discProbVsError(test_data,disc,device)"
   ]
  },
  {
   "cell_type": "markdown",
   "id": "130f3a4d",
   "metadata": {
    "id": "130f3a4d",
    "papermill": {
     "duration": 0.01435,
     "end_time": "2022-06-11T15:50:52.486894",
     "exception": false,
     "start_time": "2022-06-11T15:50:52.472544",
     "status": "completed"
    },
    "tags": []
   },
   "source": [
    "# ABC - GAN Model with skip connection"
   ]
  },
  {
   "cell_type": "code",
   "execution_count": 15,
   "id": "4e43dad1",
   "metadata": {
    "execution": {
     "iopub.execute_input": "2022-06-11T15:50:52.519758Z",
     "iopub.status.busy": "2022-06-11T15:50:52.519368Z",
     "iopub.status.idle": "2022-06-11T15:50:52.521702Z",
     "shell.execute_reply": "2022-06-11T15:50:52.521949Z"
    },
    "id": "4e43dad1",
    "papermill": {
     "duration": 0.020472,
     "end_time": "2022-06-11T15:50:52.522062",
     "exception": false,
     "start_time": "2022-06-11T15:50:52.501590",
     "status": "completed"
    },
    "tags": []
   },
   "outputs": [],
   "source": [
    "#Generator\n",
    "gen3 = network.GeneratorWithSkipConnection(n_features+1).to(device)\n",
    "constraints=network.weightConstraint()\n",
    "#Discriminator \n",
    "disc3 = network.Discriminator(n_features+1).to(device)\n",
    "\n",
    "criterion = torch.nn.BCELoss()\n",
    "gen_opt = torch.optim.Adam(gen3.parameters(), lr=0.001, betas=(0.5, 0.999))\n",
    "disc_opt = torch.optim.Adam(disc3.parameters(), lr=0.001, betas=(0.5, 0.999))\n"
   ]
  },
  {
   "cell_type": "code",
   "execution_count": 16,
   "id": "26acbc37",
   "metadata": {
    "execution": {
     "iopub.execute_input": "2022-06-11T15:50:52.554068Z",
     "iopub.status.busy": "2022-06-11T15:50:52.553703Z",
     "iopub.status.idle": "2022-06-11T15:53:45.208806Z",
     "shell.execute_reply": "2022-06-11T15:53:45.209115Z"
    },
    "id": "26acbc37",
    "papermill": {
     "duration": 172.672202,
     "end_time": "2022-06-11T15:53:45.209237",
     "exception": false,
     "start_time": "2022-06-11T15:50:52.537035",
     "status": "completed"
    },
    "tags": []
   },
   "outputs": [
    {
     "data": {
      "image/png": "[encoded data removed]",
      "text/plain": [
       "<Figure size 432x288 with 1 Axes>"
      ]
     },
     "metadata": {
      "needs_background": "light"
     },
     "output_type": "display_data"
    },
    {
     "data": {
      "image/png": "[encoded data removed]",
      "text/plain": [
       "<Figure size 432x288 with 1 Axes>"
      ]
     },
     "metadata": {
      "needs_background": "light"
     },
     "output_type": "display_data"
    }
   ],
   "source": [
    "ABC_train_test2.training_GAN_skip_connection(disc3,gen3,disc_opt,gen_opt,train_data,batch_size,n_epochs,criterion,prior_model,variance,bias,device)"
   ]
  },
  {
   "cell_type": "code",
   "execution_count": 17,
   "id": "c5e0717b",
   "metadata": {
    "execution": {
     "iopub.execute_input": "2022-06-11T15:53:45.243864Z",
     "iopub.status.busy": "2022-06-11T15:53:45.243440Z",
     "iopub.status.idle": "2022-06-11T15:53:46.061518Z",
     "shell.execute_reply": "2022-06-11T15:53:46.061854Z"
    },
    "id": "c5e0717b",
    "papermill": {
     "duration": 0.83715,
     "end_time": "2022-06-11T15:53:46.061981",
     "exception": false,
     "start_time": "2022-06-11T15:53:45.224831",
     "status": "completed"
    },
    "tags": []
   },
   "outputs": [
    {
     "data": {
      "application/scrapbook.scrap.json+json": {
       "data": 0.11235110903030054,
       "encoder": "json",
       "name": "ABC-GAN Model 3 MSE",
       "version": 1
      }
     },
     "metadata": {
      "scrapbook": {
       "data": true,
       "display": false,
       "name": "ABC-GAN Model 3 MSE"
      }
     },
     "output_type": "display_data"
    },
    {
     "data": {
      "application/scrapbook.scrap.json+json": {
       "data": 0.22579458774980524,
       "encoder": "json",
       "name": "ABC-GAN Model 3 MAE",
       "version": 1
      }
     },
     "metadata": {
      "scrapbook": {
       "data": true,
       "display": false,
       "name": "ABC-GAN Model 3 MAE"
      }
     },
     "output_type": "display_data"
    },
    {
     "data": {
      "application/scrapbook.scrap.json+json": {
       "data": 23.031047950480133,
       "encoder": "json",
       "name": "ABC-GAN Model 3 Manhattan Distance",
       "version": 1
      }
     },
     "metadata": {
      "scrapbook": {
       "data": true,
       "display": false,
       "name": "ABC-GAN Model 3 Manhattan Distance"
      }
     },
     "output_type": "display_data"
    },
    {
     "data": {
      "application/scrapbook.scrap.json+json": {
       "data": 3.3828931257763464,
       "encoder": "json",
       "name": "ABC-GAN Model 3 Euclidean distance",
       "version": 1
      }
     },
     "metadata": {
      "scrapbook": {
       "data": true,
       "display": false,
       "name": "ABC-GAN Model 3 Euclidean distance"
      }
     },
     "output_type": "display_data"
    },
    {
     "data": {
      "application/scrapbook.scrap.json+json": {
       "data": [
        [
         0.12481673820978345,
         0.10446261439402289,
         0.10923852585572635,
         0.10990323006054585,
         0.11630020909892562,
         0.11196901960140473,
         0.12789539447500883,
         0.10808805844388296,
         0.10676225368814717,
         0.12271267760629115,
         0.10013692475234841,
         0.1147426201497943,
         0.11036391134497996,
         0.11200322065191014,
         0.1049328077003148,
         0.12584976771330836,
         0.12242845742802996,
         0.10741533936956595,
         0.10753005762171904,
         0.12381108802652978,
         0.10387666767716158,
         0.11267539024145035,
         0.11447414672764965,
         0.11398792081638678,
         0.10419854330561296,
         0.10812295660011718,
         0.1084138894814605,
         0.10286810212577939,
         0.11565979650131267,
         0.10134647571337163,
         0.11943179917654977,
         0.11873134121513418,
         0.10119887749646599,
         0.11504433540667787,
         0.11823937282937609,
         0.12766848474832124,
         0.1043435259105003,
         0.10995985454898222,
         0.11378656909181452,
         0.11564614082443087,
         0.1073960167647671,
         0.11683914849264415,
         0.12298977645366094,
         0.10192412134305433,
         0.10811958784444754,
         0.10877349370985714,
         0.10806077974949904,
         0.11021473171964377,
         0.10391225840937536,
         0.10311722174330179,
         0.11454951562452001,
         0.09732716516437913,
         0.12113712795947287,
         0.13290630138258638,
         0.12137099300194759,
         0.11419594786939755,
         0.1198417789278823,
         0.10049261779027681,
         0.10969696933609331,
         0.10157858095404979,
         0.12056500867913332,
         0.11099941054117962,
         0.11062652902504456,
         0.09965118468701471,
         0.11048141138224718,
         0.10931855531920927,
         0.11368373642194458,
         0.11061921207661124,
         0.11562375506944822,
         0.10795617703398339,
         0.11913427237585054,
         0.10610967272746447,
         0.11482591217404775,
         0.11439146318200738,
         0.10875418332109757,
         0.11791449583818729,
         0.12842907268527345,
         0.1254114924369678,
         0.1003619527889081,
         0.11687269671970281,
         0.10895738767191236,
         0.10905637721256638,
         0.1151005553122309,
         0.1037400465234629,
         0.1070080094702919,
         0.1273435195825448,
         0.12378921739555677,
         0.11474861772459972,
         0.10411955955622508,
         0.11825083733395683,
         0.10586984382514891,
         0.11490176939689667,
         0.10226658488624807,
         0.13801772365139142,
         0.11292727720424929,
         0.11361565728841916,
         0.10286897255907117,
         0.09647388266415852,
         0.1001944832864469,
         0.12864914512770165
        ],
        [
         0.2394580478579098,
         0.21444150748863525,
         0.22669417942490647,
         0.2223501907953737,
         0.23103926237672567,
         0.23059689456268267,
         0.2341399568443497,
         0.22272289845654192,
         0.22051356208748094,
         0.24050018744652762,
         0.21216471677682563,
         0.2320413690279512,
         0.22156693558117338,
         0.22903794161610158,
         0.21466404117424698,
         0.22602807564259159,
         0.23305592523412963,
         0.22217165406647266,
         0.2294727768931611,
         0.23439787362939588,
         0.22279322357373496,
         0.22420453387951733,
         0.2307674222461441,
         0.22256693304242456,
         0.21946949703509316,
         0.22036560403877029,
         0.22231544658322544,
         0.21696763976897096,
         0.2253358006733013,
         0.21056835661989218,
         0.23682040251864522,
         0.23095375962336273,
         0.2208182541653514,
         0.22851672803289166,
         0.23035345370789953,
         0.2369838258178503,
         0.21829227816459595,
         0.21942617976124965,
         0.2176142044767153,
         0.22063880349856382,
         0.2225000924229914,
         0.23148954511784456,
         0.2318803359224808,
         0.22027211988746537,
         0.22997567395442256,
         0.22190242525482295,
         0.21686035739805767,
         0.22330003507508367,
         0.21871474040124347,
         0.2241644425792437,
         0.2291207501445623,
         0.20841659716896566,
         0.2362726982500331,
         0.24206726130682463,
         0.23373961490670256,
         0.22711878136603855,
         0.23300149614977486,
         0.21319909231262466,
         0.2175626603009946,
         0.21439350211956337,
         0.23485081202770566,
         0.22819620376343236,
         0.22418295104494868,
         0.21422537209867848,
         0.22815912667954086,
         0.21885088475092368,
         0.22861323699209035,
         0.2206000870312838,
         0.22702299997064412,
         0.223314633976449,
         0.23013578258527845,
         0.22401937738280087,
         0.23162909520461278,
         0.23138858737679674,
         0.22079937979944197,
         0.23347872968617023,
         0.24806287320440307,
         0.24206146117591976,
         0.21633808356801085,
         0.23008029606631575,
         0.22643735170291335,
         0.21810453277373432,
         0.22979017250312894,
         0.21906102790186802,
         0.22251391723094618,
         0.23578934848089428,
         0.23664689975261105,
         0.23384895856839186,
         0.21923490217430333,
         0.23374516292310812,
         0.2242158429478021,
         0.22597161733417534,
         0.22372134886316808,
         0.2396183983769779,
         0.21972768423238806,
         0.22823030561866128,
         0.22093475305055285,
         0.20656148579848163,
         0.2109699722050744,
         0.23954255190477067
        ],
        [
         24.4247208815068,
         21.873033763840795,
         23.12280630134046,
         22.679719461128116,
         23.56600476242602,
         23.520883245393634,
         23.88227559812367,
         22.717735642567277,
         22.492383332923055,
         24.531019119545817,
         21.640801111236215,
         23.66821964085102,
         22.599827429279685,
         23.361870044842362,
         21.895732199773192,
         23.054863715544343,
         23.77170437388122,
         22.66150871478021,
         23.40622324310243,
         23.90858311019838,
         22.724908804520965,
         22.86886245571077,
         23.538277069106698,
         22.701827170327306,
         22.385888697579503,
         22.47729161195457,
         22.676175551488996,
         22.130699256435037,
         22.984251668676734,
         21.477972375229,
         24.155681056901813,
         23.557283481583,
         22.523461924865842,
         23.30870625935495,
         23.496052278205752,
         24.17235023342073,
         22.265812372788787,
         22.381470335647464,
         22.19664885662496,
         22.50515795685351,
         22.695009427145123,
         23.611933602020144,
         23.65179426409304,
         22.467756228521466,
         23.457518743351102,
         22.63404737599194,
         22.119756454601884,
         22.776603577658534,
         22.308903520926833,
         22.864773143082857,
         23.370316514745355,
         21.258492911234498,
         24.099815221503377,
         24.690860653296113,
         23.84144072048366,
         23.166115699335933,
         23.766152607277036,
         21.746307415887713,
         22.19139135070145,
         21.868137216195464,
         23.954782826825976,
         23.2760127838701,
         22.866661006584764,
         21.850987954065204,
         23.272230921313167,
         22.322790244594216,
         23.318550173193216,
         22.501208877190948,
         23.1563459970057,
         22.778092665597796,
         23.4738498236984,
         22.849976493045688,
         23.626167710870504,
         23.601635912433267,
         22.52153673954308,
         23.814830427989364,
         25.302413066849113,
         24.690269039943814,
         22.066484523937106,
         23.468190198764205,
         23.09660987369716,
         22.2466623429209,
         23.438597595319152,
         22.34422484599054,
         22.69641955755651,
         24.050513545051217,
         24.137983774766326,
         23.85259377397597,
         22.36196002177894,
         23.84200661815703,
         22.870015980675817,
         23.049104968085885,
         22.819577584043145,
         24.441076634451747,
         22.412223791703582,
         23.27949117310345,
         22.535344811156392,
         21.069271551445127,
         21.51893716491759,
         24.43334029428661
        ],
        [
         3.5680957522743006,
         3.2642283419194698,
         3.338012827609277,
         3.3481531425810966,
         3.444215633216133,
         3.3794733316514387,
         3.6118319778819856,
         3.3203888268207473,
         3.299962102235571,
         3.5378938813709064,
         3.1959296495291523,
         3.421073991494339,
         3.3551630298970503,
         3.379989424021152,
         3.271566350455407,
         3.58283076725059,
         3.533794371162399,
         3.310039971918122,
         3.311807041090308,
         3.553692583596116,
         3.2550606911500863,
         3.3901164883566954,
         3.417069353440205,
         3.4098046752374898,
         3.2600999090783276,
         3.3209248069192943,
         3.3253897105616006,
         3.2392200321727906,
         3.434719674607215,
         3.2151734825299716,
         3.4902784295823834,
         3.480028276313812,
         3.212831384408389,
         3.4255688887367506,
         3.472810969315255,
         3.6086265315669293,
         3.2623671839434363,
         3.3490155514712354,
         3.4067917528614915,
         3.4345169040335133,
         3.3097422422306906,
         3.4521867194938496,
         3.5418861074678016,
         3.224323243254549,
         3.3208730719697255,
         3.33090023243048,
         3.319969809267683,
         3.3528946651220135,
         3.2556182758051175,
         3.2431399318895844,
         3.4181940544242133,
         3.15077305542095,
         3.5151083983095353,
         3.681907486755174,
         3.5184998630380315,
         3.412914690214004,
         3.4962639274865954,
         3.201600695684619,
         3.3450098463654054,
         3.218853096572299,
         3.506797810720144,
         3.3648090399308423,
         3.359152565834804,
         3.1881688848107625,
         3.3569486086309412,
         3.339235338001702,
         3.4052519899470495,
         3.3590414751554265,
         3.4341844762743476,
         3.3183625566634984,
         3.4859282526088733,
         3.2898611852479998,
         3.4223154503570927,
         3.415835072799147,
         3.3306045545444074,
         3.46803670330853,
         3.619359807189372,
         3.576586672872714,
         3.1995185863608646,
         3.452682300097951,
         3.3337146762335648,
         3.335228699157191,
         3.426405790598589,
         3.252919418828756,
         3.3037580065691508,
         3.6040309373560553,
         3.5533786984146216,
         3.421163399767566,
         3.2588640773642217,
         3.472979327330295,
         3.286141212754739,
         3.423445702575617,
         3.229735540009011,
         3.7520404865142276,
         3.393903692627919,
         3.404232225248264,
         3.239233736707689,
         3.1369309893180897,
         3.196848025042414,
         3.6224594963954484
        ]
       ],
       "encoder": "json",
       "name": "ABC_GAN_3 Metrics",
       "version": 1
      }
     },
     "metadata": {
      "scrapbook": {
       "data": true,
       "display": false,
       "name": "ABC_GAN_3 Metrics"
      }
     },
     "output_type": "display_data"
    },
    {
     "name": "stdout",
     "output_type": "stream",
     "text": [
      "MSE\n",
      "0.11235110903030054\n"
     ]
    }
   ],
   "source": [
    "ABC_GAN3_metrics=ABC_train_test2.test_generator(gen3,test_data,prior_model,variance,bias,\"3\",device)\n",
    "sb.glue(\"ABC_GAN_3 Metrics\",ABC_GAN3_metrics)\n",
    "\n",
    "print(\"MSE\")\n",
    "print(mean(ABC_GAN3_metrics[0]))"
   ]
  },
  {
   "cell_type": "code",
   "execution_count": 18,
   "id": "c8e46b48",
   "metadata": {
    "execution": {
     "iopub.execute_input": "2022-06-11T15:53:46.099095Z",
     "iopub.status.busy": "2022-06-11T15:53:46.098686Z",
     "iopub.status.idle": "2022-06-11T15:53:46.416388Z",
     "shell.execute_reply": "2022-06-11T15:53:46.416682Z"
    },
    "id": "c8e46b48",
    "papermill": {
     "duration": 0.337602,
     "end_time": "2022-06-11T15:53:46.416801",
     "exception": false,
     "start_time": "2022-06-11T15:53:46.079199",
     "status": "completed"
    },
    "tags": []
   },
   "outputs": [
    {
     "data": {
      "image/png": "[encoded data removed]",
      "text/plain": [
       "<Figure size 432x288 with 1 Axes>"
      ]
     },
     "metadata": {
      "needs_background": "light"
     },
     "output_type": "display_data"
    },
    {
     "data": {
      "image/png": "[encoded data removed]",
      "text/plain": [
       "<Figure size 432x288 with 1 Axes>"
      ]
     },
     "metadata": {
      "needs_background": "light"
     },
     "output_type": "display_data"
    },
    {
     "data": {
      "image/png": "[encoded data removed]",
      "text/plain": [
       "<Figure size 432x288 with 1 Axes>"
      ]
     },
     "metadata": {
      "needs_background": "light"
     },
     "output_type": "display_data"
    },
    {
     "data": {
      "image/png": "[encoded data removed]",
      "text/plain": [
       "<Figure size 432x288 with 1 Axes>"
      ]
     },
     "metadata": {
      "needs_background": "light"
     },
     "output_type": "display_data"
    }
   ],
   "source": [
    "sanityChecks.discProbVsError(train_data,disc3,device)\n",
    "sanityChecks.discProbVsError(test_data,disc3,device)"
   ]
  },
  {
   "cell_type": "markdown",
   "id": "a5bd74c3",
   "metadata": {
    "id": "a5bd74c3",
    "papermill": {
     "duration": 0.020147,
     "end_time": "2022-06-11T15:53:46.456681",
     "exception": false,
     "start_time": "2022-06-11T15:53:46.436534",
     "status": "completed"
    },
    "tags": []
   },
   "source": [
    "## Skip Connection Model Analysis - ABC-GAN "
   ]
  },
  {
   "cell_type": "markdown",
   "id": "5744a8bf",
   "metadata": {
    "id": "5744a8bf",
    "papermill": {
     "duration": 0.019248,
     "end_time": "2022-06-11T15:53:46.495488",
     "exception": false,
     "start_time": "2022-06-11T15:53:46.476240",
     "status": "completed"
    },
    "tags": []
   },
   "source": [
    "### Weight Analysis \n",
    "\n",
    "Study the weights of the skip connection layer\n",
    "\n",
    "Equation of the skip connection is \n",
    "\n",
    "$output = y_{gan} * w + y_{abc} * (1-w)$"
   ]
  },
  {
   "cell_type": "code",
   "execution_count": 19,
   "id": "52c31dea",
   "metadata": {
    "execution": {
     "iopub.execute_input": "2022-06-11T15:53:46.536862Z",
     "iopub.status.busy": "2022-06-11T15:53:46.536441Z",
     "iopub.status.idle": "2022-06-11T15:53:46.539836Z",
     "shell.execute_reply": "2022-06-11T15:53:46.540084Z"
    },
    "id": "52c31dea",
    "papermill": {
     "duration": 0.025453,
     "end_time": "2022-06-11T15:53:46.540197",
     "exception": false,
     "start_time": "2022-06-11T15:53:46.514744",
     "status": "completed"
    },
    "tags": []
   },
   "outputs": [
    {
     "name": "stdout",
     "output_type": "stream",
     "text": [
      "Weight of the node at skip connection\n",
      "Parameter containing:\n",
      "tensor([[0.2460]], requires_grad=True)\n"
     ]
    },
    {
     "data": {
      "application/scrapbook.scrap.json+json": {
       "data": 0.24603213369846344,
       "encoder": "json",
       "name": "Skip Connection Weight",
       "version": 1
      }
     },
     "metadata": {
      "scrapbook": {
       "data": true,
       "display": false,
       "name": "Skip Connection Weight"
      }
     },
     "output_type": "display_data"
    }
   ],
   "source": [
    "print(\"Weight of the node at skip connection\")\n",
    "for name,param in gen3.named_parameters():\n",
    "    if(name == \"skipNode.weight\"):\n",
    "        print(param)\n",
    "        sb.glue(\"Skip Connection Weight\",param.item())"
   ]
  }
 ],
 "metadata": {
  "colab": {
   "collapsed_sections": [],
   "name": "ABC_GAN_Model-Catboost_Pre-gen.ipynb",
   "provenance": []
  },
  "interpreter": {
   "hash": "31f2aee4e71d21fbe5cf8b01ff0e069b9275f58929596ceb00d14d90e3e16cd6"
  },
  "kernelspec": {
   "display_name": "Python 3 (ipykernel)",
   "language": "python",
   "name": "python3"
  },
  "language_info": {
   "codemirror_mode": {
    "name": "ipython",
    "version": 3
   },
   "file_extension": ".py",
   "mimetype": "text/x-python",
   "name": "python",
   "nbconvert_exporter": "python",
   "pygments_lexer": "ipython3",
   "version": "3.8.11"
  },
  "papermill": {
   "default_parameters": {},
   "duration": 238.877492,
   "end_time": "2022-06-11T15:53:46.867990",
   "environment_variables": {},
   "exception": null,
   "input_path": "ABC_GAN-Catboost.ipynb",
   "output_path": "./ABC_GAN_Catboost/ABC-GAN_output_2_0.ipynb",
   "parameters": {
    "bias": 1,
    "variance": 1
   },
   "start_time": "2022-06-11T15:49:47.990498",
   "version": "2.3.3"
  }
 },
 "nbformat": 4,
 "nbformat_minor": 5
}