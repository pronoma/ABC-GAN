{
 "cells": [
  {
   "cell_type": "markdown",
   "id": "622780e6",
   "metadata": {
    "id": "622780e6",
    "papermill": {
     "duration": 0.02535,
     "end_time": "2022-06-11T15:11:54.219185",
     "exception": false,
     "start_time": "2022-06-11T15:11:54.193835",
     "status": "completed"
    },
    "tags": []
   },
   "source": [
    "## Import Libraries "
   ]
  },
  {
   "cell_type": "code",
   "execution_count": 1,
   "id": "a62397e3",
   "metadata": {
    "execution": {
     "iopub.execute_input": "2022-06-11T15:11:54.254846Z",
     "iopub.status.busy": "2022-06-11T15:11:54.254259Z",
     "iopub.status.idle": "2022-06-11T15:11:54.256558Z",
     "shell.execute_reply": "2022-06-11T15:11:54.256891Z"
    },
    "id": "a62397e3",
    "papermill": {
     "duration": 0.022309,
     "end_time": "2022-06-11T15:11:54.257097",
     "exception": false,
     "start_time": "2022-06-11T15:11:54.234788",
     "status": "completed"
    },
    "tags": []
   },
   "outputs": [],
   "source": [
    "import warnings\n",
    "import sys\n",
    "sys.path.insert(0, '../../src')\n",
    "warnings.filterwarnings('ignore')"
   ]
  },
  {
   "cell_type": "code",
   "execution_count": 2,
   "id": "d6a4e155",
   "metadata": {
    "execution": {
     "iopub.execute_input": "2022-06-11T15:11:54.278192Z",
     "iopub.status.busy": "2022-06-11T15:11:54.277798Z",
     "iopub.status.idle": "2022-06-11T15:11:55.845378Z",
     "shell.execute_reply": "2022-06-11T15:11:55.845605Z"
    },
    "id": "d6a4e155",
    "papermill": {
     "duration": 1.578926,
     "end_time": "2022-06-11T15:11:55.845732",
     "exception": false,
     "start_time": "2022-06-11T15:11:54.266806",
     "status": "completed"
    },
    "tags": []
   },
   "outputs": [],
   "source": [
    "import ABC_train_test2\n",
    "import bostonDataset\n",
    "import network\n",
    "import dataset\n",
    "import sanityChecks\n",
    "import torch \n",
    "import scrapbook as sb\n",
    "from statistics import mean \n",
    "import catboost as ctb \n",
    "from sklearn.model_selection import train_test_split\n",
    "from sklearn.metrics import mean_squared_error,mean_absolute_error\n",
    "import numpy as np"
   ]
  },
  {
   "cell_type": "markdown",
   "id": "2fa5b0f7",
   "metadata": {
    "id": "2fa5b0f7",
    "papermill": {
     "duration": 0.007245,
     "end_time": "2022-06-11T15:11:55.860237",
     "exception": false,
     "start_time": "2022-06-11T15:11:55.852992",
     "status": "completed"
    },
    "tags": []
   },
   "source": [
    "## Parameters "
   ]
  },
  {
   "cell_type": "code",
   "execution_count": 3,
   "id": "783186fb",
   "metadata": {
    "execution": {
     "iopub.execute_input": "2022-06-11T15:11:55.876142Z",
     "iopub.status.busy": "2022-06-11T15:11:55.875738Z",
     "iopub.status.idle": "2022-06-11T15:11:55.876874Z",
     "shell.execute_reply": "2022-06-11T15:11:55.877110Z"
    },
    "id": "783186fb",
    "papermill": {
     "duration": 0.010196,
     "end_time": "2022-06-11T15:11:55.877218",
     "exception": false,
     "start_time": "2022-06-11T15:11:55.867022",
     "status": "completed"
    },
    "tags": [
     "parameters"
    ]
   },
   "outputs": [],
   "source": [
    "variance = 1\n",
    "bias = 1 "
   ]
  },
  {
   "cell_type": "code",
   "execution_count": 4,
   "id": "479731a4",
   "metadata": {
    "execution": {
     "iopub.execute_input": "2022-06-11T15:11:55.892967Z",
     "iopub.status.busy": "2022-06-11T15:11:55.892606Z",
     "iopub.status.idle": "2022-06-11T15:11:55.893891Z",
     "shell.execute_reply": "2022-06-11T15:11:55.894144Z"
    },
    "papermill": {
     "duration": 0.010084,
     "end_time": "2022-06-11T15:11:55.894257",
     "exception": false,
     "start_time": "2022-06-11T15:11:55.884173",
     "status": "completed"
    },
    "tags": [
     "injected-parameters"
    ]
   },
   "outputs": [],
   "source": [
    "# Parameters\n",
    "variance = 0.01\n",
    "bias = 0.1\n"
   ]
  },
  {
   "cell_type": "markdown",
   "id": "391cdbfd",
   "metadata": {
    "id": "391cdbfd",
    "papermill": {
     "duration": 0.006828,
     "end_time": "2022-06-11T15:11:55.908004",
     "exception": false,
     "start_time": "2022-06-11T15:11:55.901176",
     "status": "completed"
    },
    "tags": []
   },
   "source": [
    "## Dataset \n"
   ]
  },
  {
   "cell_type": "code",
   "execution_count": 5,
   "id": "5b51f161",
   "metadata": {
    "execution": {
     "iopub.execute_input": "2022-06-11T15:11:55.923570Z",
     "iopub.status.busy": "2022-06-11T15:11:55.923178Z",
     "iopub.status.idle": "2022-06-11T15:11:55.924389Z",
     "shell.execute_reply": "2022-06-11T15:11:55.924619Z"
    },
    "id": "5b51f161",
    "papermill": {
     "duration": 0.009841,
     "end_time": "2022-06-11T15:11:55.924720",
     "exception": false,
     "start_time": "2022-06-11T15:11:55.914879",
     "status": "completed"
    },
    "tags": []
   },
   "outputs": [],
   "source": [
    "#Parameters \n",
    "n_features = 13\n",
    "n_samples= 506\n",
    "n_target = 1 "
   ]
  },
  {
   "cell_type": "code",
   "execution_count": 6,
   "id": "5d6eced4",
   "metadata": {
    "execution": {
     "iopub.execute_input": "2022-06-11T15:11:55.940341Z",
     "iopub.status.busy": "2022-06-11T15:11:55.939984Z",
     "iopub.status.idle": "2022-06-11T15:11:55.950221Z",
     "shell.execute_reply": "2022-06-11T15:11:55.950454Z"
    },
    "id": "5d6eced4",
    "papermill": {
     "duration": 0.018979,
     "end_time": "2022-06-11T15:11:55.950560",
     "exception": false,
     "start_time": "2022-06-11T15:11:55.931581",
     "status": "completed"
    },
    "tags": []
   },
   "outputs": [
    {
     "name": "stdout",
     "output_type": "stream",
     "text": [
      "         X1        X2        X3        X4        X5        X6        X7  \\\n",
      "0 -0.419782  0.284830 -1.287909 -0.272599 -0.144217  0.413672 -0.120013   \n",
      "1 -0.417339 -0.487722 -0.593381 -0.272599 -0.740262  0.194274  0.367166   \n",
      "2 -0.417342 -0.487722 -0.593381 -0.272599 -0.740262  1.282714 -0.265812   \n",
      "3 -0.416750 -0.487722 -1.306878 -0.272599 -0.835284  1.016303 -0.809889   \n",
      "4 -0.412482 -0.487722 -1.306878 -0.272599 -0.835284  1.228577 -0.511180   \n",
      "\n",
      "         X8        X9       X10       X11       X12       X13         Y  \n",
      "0  0.140214 -0.982843 -0.666608 -1.459000  0.441052 -1.075562  0.159686  \n",
      "1  0.557160 -0.867883 -0.987329 -0.303094  0.441052 -0.492439 -0.101524  \n",
      "2  0.557160 -0.867883 -0.987329 -0.303094  0.396427 -1.208727  1.324247  \n",
      "3  1.077737 -0.752922 -1.106115  0.113032  0.416163 -1.361517  1.182758  \n",
      "4  1.077737 -0.752922 -1.106115  0.113032  0.441052 -1.026501  1.487503  \n"
     ]
    }
   ],
   "source": [
    "X,Y = bostonDataset.boston_data()"
   ]
  },
  {
   "cell_type": "code",
   "execution_count": 7,
   "id": "fe007438",
   "metadata": {
    "execution": {
     "iopub.execute_input": "2022-06-11T15:11:55.968343Z",
     "iopub.status.busy": "2022-06-11T15:11:55.967961Z",
     "iopub.status.idle": "2022-06-11T15:11:55.969464Z",
     "shell.execute_reply": "2022-06-11T15:11:55.969700Z"
    },
    "id": "fe007438",
    "papermill": {
     "duration": 0.011908,
     "end_time": "2022-06-11T15:11:55.969810",
     "exception": false,
     "start_time": "2022-06-11T15:11:55.957902",
     "status": "completed"
    },
    "tags": []
   },
   "outputs": [],
   "source": [
    "#Train test split for dataset \n",
    "X_train,X_test,Y_train,Y_test = train_test_split(X,Y,test_size = 0.2)\n",
    "train_data = dataset.CustomDataset(X_train,Y_train)\n",
    "test_data = dataset.CustomDataset(X_test,Y_test)\n"
   ]
  },
  {
   "cell_type": "markdown",
   "id": "a9a1af34",
   "metadata": {
    "id": "a9a1af34",
    "papermill": {
     "duration": 0.007132,
     "end_time": "2022-06-11T15:11:55.984403",
     "exception": false,
     "start_time": "2022-06-11T15:11:55.977271",
     "status": "completed"
    },
    "tags": []
   },
   "source": [
    "## Training Parameters "
   ]
  },
  {
   "cell_type": "code",
   "execution_count": 8,
   "id": "952b7fc8",
   "metadata": {
    "execution": {
     "iopub.execute_input": "2022-06-11T15:11:56.001194Z",
     "iopub.status.busy": "2022-06-11T15:11:56.000834Z",
     "iopub.status.idle": "2022-06-11T15:11:56.002084Z",
     "shell.execute_reply": "2022-06-11T15:11:56.002311Z"
    },
    "id": "952b7fc8",
    "papermill": {
     "duration": 0.010889,
     "end_time": "2022-06-11T15:11:56.002416",
     "exception": false,
     "start_time": "2022-06-11T15:11:55.991527",
     "status": "completed"
    },
    "tags": []
   },
   "outputs": [],
   "source": [
    "batch_size = 32\n",
    "n_epochs = 1000\n",
    "#Select the device \n",
    "device = torch.device('cuda' if torch.cuda.is_available() else 'cpu')"
   ]
  },
  {
   "cell_type": "markdown",
   "id": "a95e1600",
   "metadata": {
    "id": "a95e1600",
    "papermill": {
     "duration": 0.007075,
     "end_time": "2022-06-11T15:11:56.016700",
     "exception": false,
     "start_time": "2022-06-11T15:11:56.009625",
     "status": "completed"
    },
    "tags": []
   },
   "source": [
    "# ABC Pre-generator Model \n",
    "\n",
    "1. The catboost model is used as a pre-generator model for the ABC-GAN. \n",
    "2. The model is first trained on the entire dataset \n",
    "3. It generats X,Y pairs and we add some Gaussian noise with mean 0 and variance 1 to it which is then feed as input to the generator.\n"
   ]
  },
  {
   "cell_type": "code",
   "execution_count": 9,
   "id": "ff8ce7bd",
   "metadata": {
    "execution": {
     "iopub.execute_input": "2022-06-11T15:11:56.035916Z",
     "iopub.status.busy": "2022-06-11T15:11:56.035525Z",
     "iopub.status.idle": "2022-06-11T15:11:57.030761Z",
     "shell.execute_reply": "2022-06-11T15:11:57.031051Z"
    },
    "id": "ff8ce7bd",
    "papermill": {
     "duration": 1.00729,
     "end_time": "2022-06-11T15:11:57.031174",
     "exception": false,
     "start_time": "2022-06-11T15:11:56.023884",
     "status": "completed"
    },
    "tags": []
   },
   "outputs": [
    {
     "name": "stdout",
     "output_type": "stream",
     "text": [
      "Learning rate set to 0.033215\n",
      "0:\tlearn: 0.9746104\ttotal: 58.8ms\tremaining: 58.7s\n",
      "1:\tlearn: 0.9562425\ttotal: 59.7ms\tremaining: 29.8s\n",
      "2:\tlearn: 0.9374257\ttotal: 60.7ms\tremaining: 20.2s\n",
      "3:\tlearn: 0.9216279\ttotal: 61.9ms\tremaining: 15.4s\n",
      "4:\tlearn: 0.9060835\ttotal: 63ms\tremaining: 12.5s\n",
      "5:\tlearn: 0.8893226\ttotal: 64ms\tremaining: 10.6s\n",
      "6:\tlearn: 0.8741443\ttotal: 65ms\tremaining: 9.22s\n",
      "7:\tlearn: 0.8585035\ttotal: 66ms\tremaining: 8.18s\n",
      "8:\tlearn: 0.8436626\ttotal: 66.9ms\tremaining: 7.37s\n",
      "9:\tlearn: 0.8272388\ttotal: 67.8ms\tremaining: 6.71s\n",
      "10:\tlearn: 0.8119983\ttotal: 68.6ms\tremaining: 6.17s\n",
      "11:\tlearn: 0.7985098\ttotal: 69.5ms\tremaining: 5.72s\n",
      "12:\tlearn: 0.7835980\ttotal: 70.6ms\tremaining: 5.36s\n",
      "13:\tlearn: 0.7690760\ttotal: 71.5ms\tremaining: 5.04s\n",
      "14:\tlearn: 0.7565531\ttotal: 72.4ms\tremaining: 4.75s\n",
      "15:\tlearn: 0.7427156\ttotal: 73.3ms\tremaining: 4.51s\n",
      "16:\tlearn: 0.7313448\ttotal: 74.1ms\tremaining: 4.29s\n",
      "17:\tlearn: 0.7193022\ttotal: 75ms\tremaining: 4.09s\n",
      "18:\tlearn: 0.7081054\ttotal: 75.9ms\tremaining: 3.92s\n",
      "19:\tlearn: 0.6961814\ttotal: 76.7ms\tremaining: 3.76s\n",
      "20:\tlearn: 0.6862354\ttotal: 77.5ms\tremaining: 3.61s\n",
      "21:\tlearn: 0.6751572\ttotal: 78.3ms\tremaining: 3.48s\n",
      "22:\tlearn: 0.6638396\ttotal: 79.1ms\tremaining: 3.36s\n",
      "23:\tlearn: 0.6548843\ttotal: 79.9ms\tremaining: 3.25s\n",
      "24:\tlearn: 0.6448583\ttotal: 80.6ms\tremaining: 3.14s\n",
      "25:\tlearn: 0.6370601\ttotal: 81.5ms\tremaining: 3.05s\n",
      "26:\tlearn: 0.6279217\ttotal: 82.4ms\tremaining: 2.97s\n",
      "27:\tlearn: 0.6190616\ttotal: 83.8ms\tremaining: 2.91s\n",
      "28:\tlearn: 0.6102580\ttotal: 84.5ms\tremaining: 2.83s\n",
      "29:\tlearn: 0.6018014\ttotal: 85.3ms\tremaining: 2.76s\n",
      "30:\tlearn: 0.5921004\ttotal: 86.2ms\tremaining: 2.69s\n",
      "31:\tlearn: 0.5846749\ttotal: 87ms\tremaining: 2.63s\n",
      "32:\tlearn: 0.5776628\ttotal: 88ms\tremaining: 2.58s\n",
      "33:\tlearn: 0.5708408\ttotal: 88.8ms\tremaining: 2.52s\n",
      "34:\tlearn: 0.5647636\ttotal: 89.5ms\tremaining: 2.47s\n",
      "35:\tlearn: 0.5575119\ttotal: 90.3ms\tremaining: 2.42s\n",
      "36:\tlearn: 0.5508730\ttotal: 91.1ms\tremaining: 2.37s\n",
      "37:\tlearn: 0.5435097\ttotal: 91.9ms\tremaining: 2.33s\n",
      "38:\tlearn: 0.5359173\ttotal: 92.8ms\tremaining: 2.29s\n",
      "39:\tlearn: 0.5285000\ttotal: 93.6ms\tremaining: 2.25s\n",
      "40:\tlearn: 0.5229653\ttotal: 94.4ms\tremaining: 2.21s\n",
      "41:\tlearn: 0.5163222\ttotal: 95.2ms\tremaining: 2.17s\n",
      "42:\tlearn: 0.5112710\ttotal: 95.9ms\tremaining: 2.13s\n",
      "43:\tlearn: 0.5050191\ttotal: 96.7ms\tremaining: 2.1s\n",
      "44:\tlearn: 0.4992892\ttotal: 97.5ms\tremaining: 2.07s\n",
      "45:\tlearn: 0.4945395\ttotal: 98.3ms\tremaining: 2.04s\n",
      "46:\tlearn: 0.4892675\ttotal: 98.9ms\tremaining: 2s\n",
      "47:\tlearn: 0.4836516\ttotal: 99.6ms\tremaining: 1.98s\n",
      "48:\tlearn: 0.4792018\ttotal: 100ms\tremaining: 1.95s\n",
      "49:\tlearn: 0.4745879\ttotal: 101ms\tremaining: 1.92s\n",
      "50:\tlearn: 0.4696545\ttotal: 102ms\tremaining: 1.89s\n",
      "51:\tlearn: 0.4655210\ttotal: 103ms\tremaining: 1.87s\n",
      "52:\tlearn: 0.4608163\ttotal: 103ms\tremaining: 1.84s\n",
      "53:\tlearn: 0.4575583\ttotal: 104ms\tremaining: 1.82s\n",
      "54:\tlearn: 0.4523771\ttotal: 105ms\tremaining: 1.8s\n",
      "55:\tlearn: 0.4484664\ttotal: 105ms\tremaining: 1.77s\n",
      "56:\tlearn: 0.4452959\ttotal: 106ms\tremaining: 1.75s\n",
      "57:\tlearn: 0.4415800\ttotal: 107ms\tremaining: 1.73s\n"
     ]
    },
    {
     "name": "stdout",
     "output_type": "stream",
     "text": [
      "58:\tlearn: 0.4380280\ttotal: 108ms\tremaining: 1.72s\n",
      "59:\tlearn: 0.4351472\ttotal: 109ms\tremaining: 1.7s\n",
      "60:\tlearn: 0.4308016\ttotal: 109ms\tremaining: 1.69s\n",
      "61:\tlearn: 0.4269361\ttotal: 110ms\tremaining: 1.67s\n",
      "62:\tlearn: 0.4226644\ttotal: 111ms\tremaining: 1.65s\n",
      "63:\tlearn: 0.4192363\ttotal: 112ms\tremaining: 1.64s\n",
      "64:\tlearn: 0.4164586\ttotal: 113ms\tremaining: 1.62s\n",
      "65:\tlearn: 0.4130039\ttotal: 114ms\tremaining: 1.61s\n",
      "66:\tlearn: 0.4094627\ttotal: 114ms\tremaining: 1.59s\n",
      "67:\tlearn: 0.4065309\ttotal: 115ms\tremaining: 1.58s\n",
      "68:\tlearn: 0.4033870\ttotal: 116ms\tremaining: 1.56s\n",
      "69:\tlearn: 0.3998744\ttotal: 117ms\tremaining: 1.55s\n",
      "70:\tlearn: 0.3961537\ttotal: 118ms\tremaining: 1.54s\n",
      "71:\tlearn: 0.3927536\ttotal: 118ms\tremaining: 1.52s\n",
      "72:\tlearn: 0.3905939\ttotal: 119ms\tremaining: 1.51s\n",
      "73:\tlearn: 0.3875416\ttotal: 120ms\tremaining: 1.5s\n",
      "74:\tlearn: 0.3845216\ttotal: 121ms\tremaining: 1.49s\n",
      "75:\tlearn: 0.3822875\ttotal: 122ms\tremaining: 1.48s\n",
      "76:\tlearn: 0.3787237\ttotal: 123ms\tremaining: 1.47s\n",
      "77:\tlearn: 0.3751261\ttotal: 123ms\tremaining: 1.46s\n",
      "78:\tlearn: 0.3726618\ttotal: 124ms\tremaining: 1.45s\n",
      "79:\tlearn: 0.3706684\ttotal: 125ms\tremaining: 1.44s\n",
      "80:\tlearn: 0.3680809\ttotal: 126ms\tremaining: 1.43s\n",
      "81:\tlearn: 0.3653202\ttotal: 127ms\tremaining: 1.42s\n",
      "82:\tlearn: 0.3626455\ttotal: 128ms\tremaining: 1.41s\n",
      "83:\tlearn: 0.3602769\ttotal: 128ms\tremaining: 1.4s\n",
      "84:\tlearn: 0.3580145\ttotal: 129ms\tremaining: 1.39s\n",
      "85:\tlearn: 0.3549326\ttotal: 130ms\tremaining: 1.38s\n",
      "86:\tlearn: 0.3524586\ttotal: 131ms\tremaining: 1.37s\n",
      "87:\tlearn: 0.3498643\ttotal: 132ms\tremaining: 1.36s\n",
      "88:\tlearn: 0.3476526\ttotal: 132ms\tremaining: 1.36s\n",
      "89:\tlearn: 0.3448459\ttotal: 133ms\tremaining: 1.35s\n",
      "90:\tlearn: 0.3425308\ttotal: 134ms\tremaining: 1.34s\n",
      "91:\tlearn: 0.3409276\ttotal: 135ms\tremaining: 1.33s\n",
      "92:\tlearn: 0.3391282\ttotal: 136ms\tremaining: 1.32s\n",
      "93:\tlearn: 0.3373160\ttotal: 136ms\tremaining: 1.31s\n",
      "94:\tlearn: 0.3352210\ttotal: 137ms\tremaining: 1.31s\n",
      "95:\tlearn: 0.3342468\ttotal: 138ms\tremaining: 1.3s\n",
      "96:\tlearn: 0.3327526\ttotal: 139ms\tremaining: 1.29s\n",
      "97:\tlearn: 0.3311869\ttotal: 140ms\tremaining: 1.29s\n",
      "98:\tlearn: 0.3293068\ttotal: 141ms\tremaining: 1.28s\n",
      "99:\tlearn: 0.3273164\ttotal: 141ms\tremaining: 1.27s\n",
      "100:\tlearn: 0.3255001\ttotal: 142ms\tremaining: 1.26s\n",
      "101:\tlearn: 0.3232646\ttotal: 143ms\tremaining: 1.26s\n",
      "102:\tlearn: 0.3220638\ttotal: 144ms\tremaining: 1.25s\n",
      "103:\tlearn: 0.3206959\ttotal: 145ms\tremaining: 1.25s\n",
      "104:\tlearn: 0.3191854\ttotal: 146ms\tremaining: 1.24s\n",
      "105:\tlearn: 0.3181704\ttotal: 147ms\tremaining: 1.24s\n",
      "106:\tlearn: 0.3162328\ttotal: 147ms\tremaining: 1.23s\n",
      "107:\tlearn: 0.3138741\ttotal: 148ms\tremaining: 1.22s\n",
      "108:\tlearn: 0.3120851\ttotal: 149ms\tremaining: 1.22s\n",
      "109:\tlearn: 0.3106906\ttotal: 151ms\tremaining: 1.22s\n",
      "110:\tlearn: 0.3091826\ttotal: 151ms\tremaining: 1.21s\n",
      "111:\tlearn: 0.3080055\ttotal: 152ms\tremaining: 1.21s\n",
      "112:\tlearn: 0.3065133\ttotal: 153ms\tremaining: 1.2s\n",
      "113:\tlearn: 0.3052244\ttotal: 154ms\tremaining: 1.2s\n",
      "114:\tlearn: 0.3041524\ttotal: 155ms\tremaining: 1.19s\n",
      "115:\tlearn: 0.3027408\ttotal: 155ms\tremaining: 1.18s\n",
      "116:\tlearn: 0.3014232\ttotal: 156ms\tremaining: 1.18s\n",
      "117:\tlearn: 0.3000249\ttotal: 157ms\tremaining: 1.17s\n",
      "118:\tlearn: 0.2987358\ttotal: 158ms\tremaining: 1.17s\n",
      "119:\tlearn: 0.2980237\ttotal: 159ms\tremaining: 1.16s\n",
      "120:\tlearn: 0.2964615\ttotal: 160ms\tremaining: 1.16s\n",
      "121:\tlearn: 0.2952251\ttotal: 161ms\tremaining: 1.16s\n",
      "122:\tlearn: 0.2932960\ttotal: 161ms\tremaining: 1.15s\n",
      "123:\tlearn: 0.2923067\ttotal: 162ms\tremaining: 1.15s\n",
      "124:\tlearn: 0.2912575\ttotal: 163ms\tremaining: 1.14s\n",
      "125:\tlearn: 0.2900184\ttotal: 164ms\tremaining: 1.14s\n",
      "126:\tlearn: 0.2886766\ttotal: 165ms\tremaining: 1.13s\n",
      "127:\tlearn: 0.2868673\ttotal: 166ms\tremaining: 1.13s\n",
      "128:\tlearn: 0.2859045\ttotal: 166ms\tremaining: 1.12s\n",
      "129:\tlearn: 0.2843355\ttotal: 167ms\tremaining: 1.12s\n",
      "130:\tlearn: 0.2834527\ttotal: 168ms\tremaining: 1.11s\n",
      "131:\tlearn: 0.2821982\ttotal: 169ms\tremaining: 1.11s\n",
      "132:\tlearn: 0.2811299\ttotal: 170ms\tremaining: 1.11s\n",
      "133:\tlearn: 0.2800421\ttotal: 171ms\tremaining: 1.1s\n",
      "134:\tlearn: 0.2791524\ttotal: 172ms\tremaining: 1.1s\n",
      "135:\tlearn: 0.2782937\ttotal: 172ms\tremaining: 1.09s\n",
      "136:\tlearn: 0.2775020\ttotal: 173ms\tremaining: 1.09s\n",
      "137:\tlearn: 0.2764944\ttotal: 174ms\tremaining: 1.09s\n",
      "138:\tlearn: 0.2753910\ttotal: 175ms\tremaining: 1.08s\n",
      "139:\tlearn: 0.2744882\ttotal: 176ms\tremaining: 1.08s\n",
      "140:\tlearn: 0.2737007\ttotal: 176ms\tremaining: 1.07s\n",
      "141:\tlearn: 0.2727214\ttotal: 177ms\tremaining: 1.07s\n",
      "142:\tlearn: 0.2714968\ttotal: 178ms\tremaining: 1.07s\n",
      "143:\tlearn: 0.2705250\ttotal: 179ms\tremaining: 1.06s\n",
      "144:\tlearn: 0.2690649\ttotal: 180ms\tremaining: 1.06s\n",
      "145:\tlearn: 0.2681507\ttotal: 181ms\tremaining: 1.06s\n",
      "146:\tlearn: 0.2667166\ttotal: 181ms\tremaining: 1.05s\n",
      "147:\tlearn: 0.2656068\ttotal: 182ms\tremaining: 1.05s\n",
      "148:\tlearn: 0.2644852\ttotal: 183ms\tremaining: 1.04s\n",
      "149:\tlearn: 0.2639732\ttotal: 184ms\tremaining: 1.04s\n",
      "150:\tlearn: 0.2629821\ttotal: 185ms\tremaining: 1.04s\n",
      "151:\tlearn: 0.2621314\ttotal: 186ms\tremaining: 1.03s\n",
      "152:\tlearn: 0.2613648\ttotal: 186ms\tremaining: 1.03s\n",
      "153:\tlearn: 0.2609475\ttotal: 187ms\tremaining: 1.03s\n",
      "154:\tlearn: 0.2601738\ttotal: 188ms\tremaining: 1.02s\n",
      "155:\tlearn: 0.2591627\ttotal: 189ms\tremaining: 1.02s\n",
      "156:\tlearn: 0.2582323\ttotal: 190ms\tremaining: 1.02s\n",
      "157:\tlearn: 0.2572898\ttotal: 191ms\tremaining: 1.01s\n",
      "158:\tlearn: 0.2559943\ttotal: 191ms\tremaining: 1.01s\n"
     ]
    },
    {
     "name": "stdout",
     "output_type": "stream",
     "text": [
      "159:\tlearn: 0.2554705\ttotal: 192ms\tremaining: 1.01s\n",
      "160:\tlearn: 0.2547936\ttotal: 193ms\tremaining: 1.01s\n",
      "161:\tlearn: 0.2540194\ttotal: 194ms\tremaining: 1s\n",
      "162:\tlearn: 0.2533217\ttotal: 195ms\tremaining: 1s\n",
      "163:\tlearn: 0.2524712\ttotal: 196ms\tremaining: 997ms\n",
      "164:\tlearn: 0.2518874\ttotal: 196ms\tremaining: 994ms\n",
      "165:\tlearn: 0.2512831\ttotal: 197ms\tremaining: 991ms\n",
      "166:\tlearn: 0.2505072\ttotal: 198ms\tremaining: 988ms\n",
      "167:\tlearn: 0.2496881\ttotal: 199ms\tremaining: 985ms\n",
      "168:\tlearn: 0.2490007\ttotal: 200ms\tremaining: 982ms\n",
      "169:\tlearn: 0.2484939\ttotal: 201ms\tremaining: 979ms\n",
      "170:\tlearn: 0.2478453\ttotal: 201ms\tremaining: 976ms\n",
      "171:\tlearn: 0.2469042\ttotal: 202ms\tremaining: 973ms\n",
      "172:\tlearn: 0.2461154\ttotal: 203ms\tremaining: 970ms\n",
      "173:\tlearn: 0.2454083\ttotal: 204ms\tremaining: 968ms\n",
      "174:\tlearn: 0.2449213\ttotal: 205ms\tremaining: 965ms\n",
      "175:\tlearn: 0.2443095\ttotal: 205ms\tremaining: 962ms\n",
      "176:\tlearn: 0.2433402\ttotal: 206ms\tremaining: 959ms\n",
      "177:\tlearn: 0.2428856\ttotal: 207ms\tremaining: 956ms\n",
      "178:\tlearn: 0.2425715\ttotal: 208ms\tremaining: 954ms\n",
      "179:\tlearn: 0.2419564\ttotal: 209ms\tremaining: 951ms\n",
      "180:\tlearn: 0.2409388\ttotal: 210ms\tremaining: 948ms\n",
      "181:\tlearn: 0.2400611\ttotal: 210ms\tremaining: 946ms\n",
      "182:\tlearn: 0.2393749\ttotal: 211ms\tremaining: 943ms\n",
      "183:\tlearn: 0.2387263\ttotal: 212ms\tremaining: 940ms\n",
      "184:\tlearn: 0.2380286\ttotal: 213ms\tremaining: 938ms\n",
      "185:\tlearn: 0.2374396\ttotal: 214ms\tremaining: 935ms\n",
      "186:\tlearn: 0.2366174\ttotal: 214ms\tremaining: 933ms\n",
      "187:\tlearn: 0.2358215\ttotal: 215ms\tremaining: 930ms\n",
      "188:\tlearn: 0.2352348\ttotal: 216ms\tremaining: 927ms\n",
      "189:\tlearn: 0.2344358\ttotal: 217ms\tremaining: 924ms\n",
      "190:\tlearn: 0.2337185\ttotal: 218ms\tremaining: 922ms\n",
      "191:\tlearn: 0.2329925\ttotal: 218ms\tremaining: 919ms\n",
      "192:\tlearn: 0.2325852\ttotal: 219ms\tremaining: 916ms\n",
      "193:\tlearn: 0.2317123\ttotal: 220ms\tremaining: 914ms\n",
      "194:\tlearn: 0.2310886\ttotal: 221ms\tremaining: 912ms\n",
      "195:\tlearn: 0.2305131\ttotal: 222ms\tremaining: 910ms\n",
      "196:\tlearn: 0.2301200\ttotal: 223ms\tremaining: 907ms\n",
      "197:\tlearn: 0.2294775\ttotal: 223ms\tremaining: 905ms\n",
      "198:\tlearn: 0.2287990\ttotal: 224ms\tremaining: 902ms\n",
      "199:\tlearn: 0.2282313\ttotal: 225ms\tremaining: 900ms\n",
      "200:\tlearn: 0.2274345\ttotal: 226ms\tremaining: 898ms\n",
      "201:\tlearn: 0.2265509\ttotal: 227ms\tremaining: 895ms\n",
      "202:\tlearn: 0.2258555\ttotal: 227ms\tremaining: 893ms\n",
      "203:\tlearn: 0.2254462\ttotal: 228ms\tremaining: 891ms\n",
      "204:\tlearn: 0.2246653\ttotal: 229ms\tremaining: 888ms\n",
      "205:\tlearn: 0.2242727\ttotal: 231ms\tremaining: 889ms\n",
      "206:\tlearn: 0.2235095\ttotal: 231ms\tremaining: 886ms\n",
      "207:\tlearn: 0.2230999\ttotal: 232ms\tremaining: 884ms\n",
      "208:\tlearn: 0.2223978\ttotal: 233ms\tremaining: 882ms\n",
      "209:\tlearn: 0.2216164\ttotal: 234ms\tremaining: 880ms\n",
      "210:\tlearn: 0.2209882\ttotal: 235ms\tremaining: 878ms\n",
      "211:\tlearn: 0.2205056\ttotal: 236ms\tremaining: 876ms\n",
      "212:\tlearn: 0.2198837\ttotal: 237ms\tremaining: 874ms\n",
      "213:\tlearn: 0.2191677\ttotal: 237ms\tremaining: 872ms\n",
      "214:\tlearn: 0.2184994\ttotal: 238ms\tremaining: 870ms\n",
      "215:\tlearn: 0.2177118\ttotal: 239ms\tremaining: 868ms\n",
      "216:\tlearn: 0.2172927\ttotal: 240ms\tremaining: 866ms\n",
      "217:\tlearn: 0.2166479\ttotal: 241ms\tremaining: 864ms\n",
      "218:\tlearn: 0.2159642\ttotal: 242ms\tremaining: 862ms\n",
      "219:\tlearn: 0.2154411\ttotal: 242ms\tremaining: 860ms\n",
      "220:\tlearn: 0.2145695\ttotal: 243ms\tremaining: 857ms\n",
      "221:\tlearn: 0.2140178\ttotal: 244ms\tremaining: 856ms\n",
      "222:\tlearn: 0.2135211\ttotal: 245ms\tremaining: 854ms\n",
      "223:\tlearn: 0.2131059\ttotal: 246ms\tremaining: 851ms\n",
      "224:\tlearn: 0.2126585\ttotal: 247ms\tremaining: 849ms\n",
      "225:\tlearn: 0.2119988\ttotal: 248ms\tremaining: 849ms\n",
      "226:\tlearn: 0.2114303\ttotal: 249ms\tremaining: 848ms\n",
      "227:\tlearn: 0.2107599\ttotal: 250ms\tremaining: 845ms\n",
      "228:\tlearn: 0.2098870\ttotal: 250ms\tremaining: 843ms\n",
      "229:\tlearn: 0.2094195\ttotal: 251ms\tremaining: 841ms\n",
      "230:\tlearn: 0.2087797\ttotal: 252ms\tremaining: 839ms\n",
      "231:\tlearn: 0.2083784\ttotal: 253ms\tremaining: 837ms\n",
      "232:\tlearn: 0.2077825\ttotal: 254ms\tremaining: 834ms\n",
      "233:\tlearn: 0.2073485\ttotal: 254ms\tremaining: 832ms\n",
      "234:\tlearn: 0.2067787\ttotal: 255ms\tremaining: 830ms\n",
      "235:\tlearn: 0.2061806\ttotal: 256ms\tremaining: 828ms\n",
      "236:\tlearn: 0.2056165\ttotal: 257ms\tremaining: 826ms\n",
      "237:\tlearn: 0.2052465\ttotal: 257ms\tremaining: 824ms\n",
      "238:\tlearn: 0.2047304\ttotal: 258ms\tremaining: 823ms\n",
      "239:\tlearn: 0.2042670\ttotal: 259ms\tremaining: 821ms\n",
      "240:\tlearn: 0.2036987\ttotal: 260ms\tremaining: 819ms\n",
      "241:\tlearn: 0.2034215\ttotal: 261ms\tremaining: 817ms\n",
      "242:\tlearn: 0.2028047\ttotal: 261ms\tremaining: 815ms\n",
      "243:\tlearn: 0.2022826\ttotal: 262ms\tremaining: 812ms\n",
      "244:\tlearn: 0.2018536\ttotal: 263ms\tremaining: 811ms\n",
      "245:\tlearn: 0.2011780\ttotal: 264ms\tremaining: 809ms\n",
      "246:\tlearn: 0.2007081\ttotal: 265ms\tremaining: 807ms\n",
      "247:\tlearn: 0.2004583\ttotal: 265ms\tremaining: 805ms\n",
      "248:\tlearn: 0.2001716\ttotal: 266ms\tremaining: 803ms\n",
      "249:\tlearn: 0.1995789\ttotal: 267ms\tremaining: 801ms\n",
      "250:\tlearn: 0.1989812\ttotal: 268ms\tremaining: 799ms\n",
      "251:\tlearn: 0.1982952\ttotal: 269ms\tremaining: 798ms\n",
      "252:\tlearn: 0.1979003\ttotal: 269ms\tremaining: 796ms\n",
      "253:\tlearn: 0.1976730\ttotal: 270ms\tremaining: 794ms\n",
      "254:\tlearn: 0.1968546\ttotal: 271ms\tremaining: 793ms\n",
      "255:\tlearn: 0.1966161\ttotal: 272ms\tremaining: 791ms\n",
      "256:\tlearn: 0.1961199\ttotal: 273ms\tremaining: 789ms\n",
      "257:\tlearn: 0.1957829\ttotal: 274ms\tremaining: 787ms\n",
      "258:\tlearn: 0.1955357\ttotal: 275ms\tremaining: 786ms\n",
      "259:\tlearn: 0.1950473\ttotal: 275ms\tremaining: 784ms\n",
      "260:\tlearn: 0.1946118\ttotal: 276ms\tremaining: 782ms\n",
      "261:\tlearn: 0.1940950\ttotal: 277ms\tremaining: 781ms\n",
      "262:\tlearn: 0.1935896\ttotal: 278ms\tremaining: 778ms\n",
      "263:\tlearn: 0.1929127\ttotal: 279ms\tremaining: 777ms\n",
      "264:\tlearn: 0.1924250\ttotal: 279ms\tremaining: 775ms\n",
      "265:\tlearn: 0.1919511\ttotal: 280ms\tremaining: 773ms\n",
      "266:\tlearn: 0.1917060\ttotal: 281ms\tremaining: 772ms\n",
      "267:\tlearn: 0.1912552\ttotal: 282ms\tremaining: 770ms\n",
      "268:\tlearn: 0.1907099\ttotal: 283ms\tremaining: 769ms\n",
      "269:\tlearn: 0.1902556\ttotal: 284ms\tremaining: 767ms\n",
      "270:\tlearn: 0.1900547\ttotal: 284ms\tremaining: 765ms\n",
      "271:\tlearn: 0.1896487\ttotal: 285ms\tremaining: 764ms\n",
      "272:\tlearn: 0.1891672\ttotal: 286ms\tremaining: 762ms\n",
      "273:\tlearn: 0.1888103\ttotal: 287ms\tremaining: 761ms\n",
      "274:\tlearn: 0.1882129\ttotal: 288ms\tremaining: 759ms\n",
      "275:\tlearn: 0.1876554\ttotal: 289ms\tremaining: 758ms\n",
      "276:\tlearn: 0.1871357\ttotal: 290ms\tremaining: 756ms\n",
      "277:\tlearn: 0.1869644\ttotal: 290ms\tremaining: 754ms\n",
      "278:\tlearn: 0.1864795\ttotal: 291ms\tremaining: 752ms\n",
      "279:\tlearn: 0.1860715\ttotal: 292ms\tremaining: 750ms\n",
      "280:\tlearn: 0.1855745\ttotal: 293ms\tremaining: 749ms\n",
      "281:\tlearn: 0.1854415\ttotal: 294ms\tremaining: 748ms\n",
      "282:\tlearn: 0.1851975\ttotal: 294ms\tremaining: 746ms\n",
      "283:\tlearn: 0.1848732\ttotal: 295ms\tremaining: 744ms\n",
      "284:\tlearn: 0.1846704\ttotal: 296ms\tremaining: 743ms\n",
      "285:\tlearn: 0.1840673\ttotal: 297ms\tremaining: 741ms\n"
     ]
    },
    {
     "name": "stdout",
     "output_type": "stream",
     "text": [
      "286:\tlearn: 0.1836201\ttotal: 298ms\tremaining: 740ms\n",
      "287:\tlearn: 0.1830136\ttotal: 299ms\tremaining: 739ms\n",
      "288:\tlearn: 0.1826437\ttotal: 300ms\tremaining: 737ms\n",
      "289:\tlearn: 0.1823072\ttotal: 300ms\tremaining: 735ms\n",
      "290:\tlearn: 0.1817457\ttotal: 301ms\tremaining: 733ms\n",
      "291:\tlearn: 0.1816127\ttotal: 302ms\tremaining: 732ms\n",
      "292:\tlearn: 0.1812793\ttotal: 303ms\tremaining: 730ms\n",
      "293:\tlearn: 0.1809588\ttotal: 304ms\tremaining: 729ms\n",
      "294:\tlearn: 0.1805821\ttotal: 304ms\tremaining: 727ms\n",
      "295:\tlearn: 0.1802484\ttotal: 305ms\tremaining: 725ms\n",
      "296:\tlearn: 0.1797921\ttotal: 306ms\tremaining: 724ms\n",
      "297:\tlearn: 0.1794649\ttotal: 307ms\tremaining: 723ms\n",
      "298:\tlearn: 0.1788202\ttotal: 308ms\tremaining: 721ms\n",
      "299:\tlearn: 0.1785771\ttotal: 309ms\tremaining: 720ms\n",
      "300:\tlearn: 0.1782177\ttotal: 309ms\tremaining: 719ms\n",
      "301:\tlearn: 0.1779297\ttotal: 311ms\tremaining: 718ms\n",
      "302:\tlearn: 0.1777943\ttotal: 312ms\tremaining: 717ms\n",
      "303:\tlearn: 0.1775273\ttotal: 312ms\tremaining: 715ms\n",
      "304:\tlearn: 0.1771047\ttotal: 313ms\tremaining: 714ms\n",
      "305:\tlearn: 0.1765211\ttotal: 314ms\tremaining: 712ms\n",
      "306:\tlearn: 0.1762905\ttotal: 315ms\tremaining: 711ms\n",
      "307:\tlearn: 0.1757401\ttotal: 316ms\tremaining: 709ms\n",
      "308:\tlearn: 0.1751208\ttotal: 316ms\tremaining: 708ms\n",
      "309:\tlearn: 0.1746683\ttotal: 317ms\tremaining: 706ms\n",
      "310:\tlearn: 0.1743122\ttotal: 318ms\tremaining: 705ms\n",
      "311:\tlearn: 0.1737361\ttotal: 319ms\tremaining: 703ms\n",
      "312:\tlearn: 0.1732625\ttotal: 320ms\tremaining: 702ms\n",
      "313:\tlearn: 0.1728950\ttotal: 321ms\tremaining: 700ms\n",
      "314:\tlearn: 0.1726405\ttotal: 321ms\tremaining: 699ms\n",
      "315:\tlearn: 0.1722305\ttotal: 322ms\tremaining: 697ms\n",
      "316:\tlearn: 0.1718561\ttotal: 323ms\tremaining: 696ms\n",
      "317:\tlearn: 0.1714961\ttotal: 324ms\tremaining: 694ms\n",
      "318:\tlearn: 0.1710592\ttotal: 325ms\tremaining: 693ms\n",
      "319:\tlearn: 0.1707986\ttotal: 325ms\tremaining: 691ms\n",
      "320:\tlearn: 0.1703121\ttotal: 326ms\tremaining: 690ms\n",
      "321:\tlearn: 0.1697404\ttotal: 327ms\tremaining: 688ms\n",
      "322:\tlearn: 0.1693465\ttotal: 328ms\tremaining: 687ms\n",
      "323:\tlearn: 0.1689371\ttotal: 329ms\tremaining: 685ms\n",
      "324:\tlearn: 0.1686462\ttotal: 329ms\tremaining: 684ms\n",
      "325:\tlearn: 0.1681331\ttotal: 330ms\tremaining: 682ms\n",
      "326:\tlearn: 0.1678352\ttotal: 331ms\tremaining: 681ms\n",
      "327:\tlearn: 0.1674104\ttotal: 332ms\tremaining: 679ms\n",
      "328:\tlearn: 0.1670203\ttotal: 332ms\tremaining: 678ms\n",
      "329:\tlearn: 0.1666084\ttotal: 333ms\tremaining: 676ms\n",
      "330:\tlearn: 0.1664767\ttotal: 334ms\tremaining: 675ms\n",
      "331:\tlearn: 0.1660821\ttotal: 335ms\tremaining: 673ms\n",
      "332:\tlearn: 0.1657605\ttotal: 335ms\tremaining: 672ms\n",
      "333:\tlearn: 0.1653123\ttotal: 336ms\tremaining: 670ms\n",
      "334:\tlearn: 0.1650476\ttotal: 337ms\tremaining: 669ms\n",
      "335:\tlearn: 0.1648737\ttotal: 338ms\tremaining: 668ms\n",
      "336:\tlearn: 0.1645236\ttotal: 339ms\tremaining: 666ms\n",
      "337:\tlearn: 0.1640756\ttotal: 339ms\tremaining: 665ms\n",
      "338:\tlearn: 0.1639183\ttotal: 340ms\tremaining: 663ms\n",
      "339:\tlearn: 0.1634934\ttotal: 341ms\tremaining: 662ms\n",
      "340:\tlearn: 0.1631807\ttotal: 342ms\tremaining: 661ms\n",
      "341:\tlearn: 0.1627599\ttotal: 343ms\tremaining: 660ms\n",
      "342:\tlearn: 0.1623914\ttotal: 344ms\tremaining: 659ms\n",
      "343:\tlearn: 0.1619083\ttotal: 345ms\tremaining: 657ms\n",
      "344:\tlearn: 0.1617749\ttotal: 346ms\tremaining: 656ms\n",
      "345:\tlearn: 0.1613052\ttotal: 346ms\tremaining: 655ms\n",
      "346:\tlearn: 0.1608947\ttotal: 347ms\tremaining: 653ms\n",
      "347:\tlearn: 0.1604720\ttotal: 348ms\tremaining: 652ms\n",
      "348:\tlearn: 0.1600458\ttotal: 349ms\tremaining: 651ms\n",
      "349:\tlearn: 0.1598641\ttotal: 350ms\tremaining: 650ms\n",
      "350:\tlearn: 0.1596613\ttotal: 351ms\tremaining: 649ms\n",
      "351:\tlearn: 0.1593220\ttotal: 352ms\tremaining: 647ms\n",
      "352:\tlearn: 0.1589311\ttotal: 352ms\tremaining: 646ms\n",
      "353:\tlearn: 0.1585495\ttotal: 353ms\tremaining: 645ms\n",
      "354:\tlearn: 0.1581372\ttotal: 354ms\tremaining: 644ms\n",
      "355:\tlearn: 0.1577813\ttotal: 355ms\tremaining: 642ms\n",
      "356:\tlearn: 0.1572849\ttotal: 356ms\tremaining: 641ms\n",
      "357:\tlearn: 0.1568908\ttotal: 357ms\tremaining: 640ms\n",
      "358:\tlearn: 0.1566557\ttotal: 358ms\tremaining: 639ms\n",
      "359:\tlearn: 0.1562722\ttotal: 358ms\tremaining: 637ms\n",
      "360:\tlearn: 0.1560480\ttotal: 359ms\tremaining: 636ms\n",
      "361:\tlearn: 0.1556036\ttotal: 360ms\tremaining: 634ms\n",
      "362:\tlearn: 0.1551039\ttotal: 361ms\tremaining: 633ms\n",
      "363:\tlearn: 0.1547584\ttotal: 362ms\tremaining: 632ms\n",
      "364:\tlearn: 0.1543891\ttotal: 362ms\tremaining: 631ms\n",
      "365:\tlearn: 0.1542155\ttotal: 363ms\tremaining: 629ms\n",
      "366:\tlearn: 0.1538528\ttotal: 364ms\tremaining: 628ms\n",
      "367:\tlearn: 0.1536540\ttotal: 365ms\tremaining: 627ms\n",
      "368:\tlearn: 0.1534566\ttotal: 366ms\tremaining: 625ms\n",
      "369:\tlearn: 0.1531948\ttotal: 366ms\tremaining: 624ms\n",
      "370:\tlearn: 0.1528626\ttotal: 367ms\tremaining: 623ms\n",
      "371:\tlearn: 0.1527797\ttotal: 368ms\tremaining: 621ms\n",
      "372:\tlearn: 0.1527040\ttotal: 369ms\tremaining: 620ms\n",
      "373:\tlearn: 0.1523501\ttotal: 370ms\tremaining: 619ms\n",
      "374:\tlearn: 0.1522309\ttotal: 371ms\tremaining: 618ms\n",
      "375:\tlearn: 0.1517586\ttotal: 371ms\tremaining: 616ms\n",
      "376:\tlearn: 0.1514455\ttotal: 372ms\tremaining: 615ms\n",
      "377:\tlearn: 0.1510781\ttotal: 373ms\tremaining: 614ms\n",
      "378:\tlearn: 0.1505074\ttotal: 374ms\tremaining: 613ms\n",
      "379:\tlearn: 0.1501193\ttotal: 375ms\tremaining: 611ms\n",
      "380:\tlearn: 0.1496122\ttotal: 375ms\tremaining: 610ms\n",
      "381:\tlearn: 0.1492254\ttotal: 376ms\tremaining: 609ms\n",
      "382:\tlearn: 0.1488813\ttotal: 377ms\tremaining: 607ms\n",
      "383:\tlearn: 0.1485546\ttotal: 378ms\tremaining: 606ms\n",
      "384:\tlearn: 0.1482767\ttotal: 379ms\tremaining: 605ms\n",
      "385:\tlearn: 0.1479328\ttotal: 380ms\tremaining: 604ms\n",
      "386:\tlearn: 0.1477740\ttotal: 380ms\tremaining: 602ms\n",
      "387:\tlearn: 0.1475088\ttotal: 381ms\tremaining: 601ms\n",
      "388:\tlearn: 0.1473034\ttotal: 382ms\tremaining: 600ms\n"
     ]
    },
    {
     "name": "stdout",
     "output_type": "stream",
     "text": [
      "389:\tlearn: 0.1469868\ttotal: 383ms\tremaining: 599ms\n",
      "390:\tlearn: 0.1466562\ttotal: 384ms\tremaining: 598ms\n",
      "391:\tlearn: 0.1462894\ttotal: 385ms\tremaining: 597ms\n",
      "392:\tlearn: 0.1459824\ttotal: 386ms\tremaining: 595ms\n",
      "393:\tlearn: 0.1456313\ttotal: 386ms\tremaining: 594ms\n",
      "394:\tlearn: 0.1455820\ttotal: 387ms\tremaining: 593ms\n",
      "395:\tlearn: 0.1455120\ttotal: 388ms\tremaining: 592ms\n",
      "396:\tlearn: 0.1453086\ttotal: 389ms\tremaining: 591ms\n",
      "397:\tlearn: 0.1452639\ttotal: 390ms\tremaining: 589ms\n",
      "398:\tlearn: 0.1451038\ttotal: 391ms\tremaining: 588ms\n",
      "399:\tlearn: 0.1447916\ttotal: 392ms\tremaining: 588ms\n",
      "400:\tlearn: 0.1446078\ttotal: 393ms\tremaining: 587ms\n",
      "401:\tlearn: 0.1445294\ttotal: 394ms\tremaining: 586ms\n",
      "402:\tlearn: 0.1443055\ttotal: 394ms\tremaining: 584ms\n",
      "403:\tlearn: 0.1439301\ttotal: 395ms\tremaining: 583ms\n",
      "404:\tlearn: 0.1437050\ttotal: 396ms\tremaining: 582ms\n",
      "405:\tlearn: 0.1435615\ttotal: 397ms\tremaining: 581ms\n",
      "406:\tlearn: 0.1432072\ttotal: 398ms\tremaining: 580ms\n",
      "407:\tlearn: 0.1431525\ttotal: 399ms\tremaining: 578ms\n",
      "408:\tlearn: 0.1427940\ttotal: 400ms\tremaining: 577ms\n",
      "409:\tlearn: 0.1424821\ttotal: 401ms\tremaining: 576ms\n",
      "410:\tlearn: 0.1423557\ttotal: 401ms\tremaining: 575ms\n",
      "411:\tlearn: 0.1423026\ttotal: 402ms\tremaining: 574ms\n",
      "412:\tlearn: 0.1420387\ttotal: 403ms\tremaining: 573ms\n",
      "413:\tlearn: 0.1417542\ttotal: 404ms\tremaining: 572ms\n",
      "414:\tlearn: 0.1413848\ttotal: 405ms\tremaining: 570ms\n",
      "415:\tlearn: 0.1410999\ttotal: 406ms\tremaining: 569ms\n",
      "416:\tlearn: 0.1408933\ttotal: 406ms\tremaining: 568ms\n",
      "417:\tlearn: 0.1405874\ttotal: 407ms\tremaining: 567ms\n",
      "418:\tlearn: 0.1403450\ttotal: 408ms\tremaining: 566ms\n",
      "419:\tlearn: 0.1400043\ttotal: 409ms\tremaining: 565ms\n",
      "420:\tlearn: 0.1397041\ttotal: 410ms\tremaining: 563ms\n",
      "421:\tlearn: 0.1394533\ttotal: 410ms\tremaining: 562ms\n",
      "422:\tlearn: 0.1391592\ttotal: 411ms\tremaining: 561ms\n",
      "423:\tlearn: 0.1388842\ttotal: 412ms\tremaining: 560ms\n",
      "424:\tlearn: 0.1387618\ttotal: 413ms\tremaining: 559ms\n",
      "425:\tlearn: 0.1385191\ttotal: 414ms\tremaining: 558ms\n",
      "426:\tlearn: 0.1383254\ttotal: 415ms\tremaining: 556ms\n",
      "427:\tlearn: 0.1381892\ttotal: 415ms\tremaining: 555ms\n",
      "428:\tlearn: 0.1381331\ttotal: 416ms\tremaining: 554ms\n",
      "429:\tlearn: 0.1379723\ttotal: 417ms\tremaining: 553ms\n",
      "430:\tlearn: 0.1375052\ttotal: 418ms\tremaining: 551ms\n",
      "431:\tlearn: 0.1374567\ttotal: 419ms\tremaining: 550ms\n",
      "432:\tlearn: 0.1374279\ttotal: 419ms\tremaining: 549ms\n",
      "433:\tlearn: 0.1370469\ttotal: 420ms\tremaining: 548ms\n",
      "434:\tlearn: 0.1368112\ttotal: 421ms\tremaining: 547ms\n",
      "435:\tlearn: 0.1364800\ttotal: 422ms\tremaining: 545ms\n",
      "436:\tlearn: 0.1362724\ttotal: 423ms\tremaining: 544ms\n",
      "437:\tlearn: 0.1361217\ttotal: 423ms\tremaining: 543ms\n",
      "438:\tlearn: 0.1358331\ttotal: 425ms\tremaining: 543ms\n",
      "439:\tlearn: 0.1355118\ttotal: 425ms\tremaining: 542ms\n",
      "440:\tlearn: 0.1352054\ttotal: 426ms\tremaining: 540ms\n",
      "441:\tlearn: 0.1349600\ttotal: 427ms\tremaining: 539ms\n",
      "442:\tlearn: 0.1348567\ttotal: 428ms\tremaining: 538ms\n",
      "443:\tlearn: 0.1347970\ttotal: 429ms\tremaining: 537ms\n",
      "444:\tlearn: 0.1343935\ttotal: 429ms\tremaining: 536ms\n",
      "445:\tlearn: 0.1340671\ttotal: 430ms\tremaining: 534ms\n",
      "446:\tlearn: 0.1338728\ttotal: 431ms\tremaining: 533ms\n",
      "447:\tlearn: 0.1336490\ttotal: 432ms\tremaining: 532ms\n",
      "448:\tlearn: 0.1333441\ttotal: 433ms\tremaining: 531ms\n",
      "449:\tlearn: 0.1330535\ttotal: 433ms\tremaining: 530ms\n",
      "450:\tlearn: 0.1327875\ttotal: 434ms\tremaining: 528ms\n",
      "451:\tlearn: 0.1325221\ttotal: 435ms\tremaining: 527ms\n",
      "452:\tlearn: 0.1321998\ttotal: 436ms\tremaining: 526ms\n",
      "453:\tlearn: 0.1320187\ttotal: 437ms\tremaining: 525ms\n",
      "454:\tlearn: 0.1319839\ttotal: 438ms\tremaining: 524ms\n",
      "455:\tlearn: 0.1318301\ttotal: 438ms\tremaining: 523ms\n",
      "456:\tlearn: 0.1315063\ttotal: 439ms\tremaining: 522ms\n",
      "457:\tlearn: 0.1312170\ttotal: 440ms\tremaining: 521ms\n",
      "458:\tlearn: 0.1309378\ttotal: 441ms\tremaining: 519ms\n",
      "459:\tlearn: 0.1307425\ttotal: 441ms\tremaining: 518ms\n",
      "460:\tlearn: 0.1306887\ttotal: 442ms\tremaining: 517ms\n",
      "461:\tlearn: 0.1305104\ttotal: 443ms\tremaining: 516ms\n",
      "462:\tlearn: 0.1302397\ttotal: 444ms\tremaining: 515ms\n",
      "463:\tlearn: 0.1300924\ttotal: 445ms\tremaining: 514ms\n",
      "464:\tlearn: 0.1296949\ttotal: 445ms\tremaining: 513ms\n",
      "465:\tlearn: 0.1296510\ttotal: 446ms\tremaining: 511ms\n",
      "466:\tlearn: 0.1295941\ttotal: 447ms\tremaining: 510ms\n",
      "467:\tlearn: 0.1293602\ttotal: 448ms\tremaining: 509ms\n",
      "468:\tlearn: 0.1291914\ttotal: 449ms\tremaining: 508ms\n",
      "469:\tlearn: 0.1288837\ttotal: 449ms\tremaining: 507ms\n",
      "470:\tlearn: 0.1286366\ttotal: 450ms\tremaining: 506ms\n",
      "471:\tlearn: 0.1285441\ttotal: 451ms\tremaining: 505ms\n",
      "472:\tlearn: 0.1283793\ttotal: 452ms\tremaining: 503ms\n",
      "473:\tlearn: 0.1280875\ttotal: 453ms\tremaining: 502ms\n",
      "474:\tlearn: 0.1277365\ttotal: 453ms\tremaining: 501ms\n",
      "475:\tlearn: 0.1275379\ttotal: 454ms\tremaining: 500ms\n",
      "476:\tlearn: 0.1275110\ttotal: 455ms\tremaining: 499ms\n",
      "477:\tlearn: 0.1272979\ttotal: 456ms\tremaining: 498ms\n",
      "478:\tlearn: 0.1269406\ttotal: 457ms\tremaining: 497ms\n",
      "479:\tlearn: 0.1267016\ttotal: 458ms\tremaining: 496ms\n",
      "480:\tlearn: 0.1264529\ttotal: 458ms\tremaining: 495ms\n",
      "481:\tlearn: 0.1263237\ttotal: 459ms\tremaining: 493ms\n",
      "482:\tlearn: 0.1260768\ttotal: 460ms\tremaining: 492ms\n",
      "483:\tlearn: 0.1257834\ttotal: 461ms\tremaining: 491ms\n",
      "484:\tlearn: 0.1255195\ttotal: 462ms\tremaining: 490ms\n",
      "485:\tlearn: 0.1252392\ttotal: 462ms\tremaining: 489ms\n",
      "486:\tlearn: 0.1249250\ttotal: 463ms\tremaining: 488ms\n",
      "487:\tlearn: 0.1246796\ttotal: 464ms\tremaining: 487ms\n",
      "488:\tlearn: 0.1245461\ttotal: 465ms\tremaining: 486ms\n",
      "489:\tlearn: 0.1242380\ttotal: 466ms\tremaining: 485ms\n",
      "490:\tlearn: 0.1239112\ttotal: 466ms\tremaining: 483ms\n",
      "491:\tlearn: 0.1237608\ttotal: 467ms\tremaining: 482ms\n",
      "492:\tlearn: 0.1236686\ttotal: 468ms\tremaining: 481ms\n",
      "493:\tlearn: 0.1234557\ttotal: 469ms\tremaining: 480ms\n",
      "494:\tlearn: 0.1234084\ttotal: 470ms\tremaining: 479ms\n",
      "495:\tlearn: 0.1231958\ttotal: 471ms\tremaining: 478ms\n",
      "496:\tlearn: 0.1230242\ttotal: 471ms\tremaining: 477ms\n",
      "497:\tlearn: 0.1228019\ttotal: 472ms\tremaining: 476ms\n",
      "498:\tlearn: 0.1226502\ttotal: 473ms\tremaining: 475ms\n",
      "499:\tlearn: 0.1223726\ttotal: 474ms\tremaining: 474ms\n",
      "500:\tlearn: 0.1223090\ttotal: 475ms\tremaining: 473ms\n",
      "501:\tlearn: 0.1220604\ttotal: 476ms\tremaining: 472ms\n",
      "502:\tlearn: 0.1219085\ttotal: 476ms\tremaining: 471ms\n",
      "503:\tlearn: 0.1217191\ttotal: 477ms\tremaining: 470ms\n",
      "504:\tlearn: 0.1215556\ttotal: 478ms\tremaining: 469ms\n",
      "505:\tlearn: 0.1215005\ttotal: 479ms\tremaining: 468ms\n",
      "506:\tlearn: 0.1213530\ttotal: 480ms\tremaining: 467ms\n",
      "507:\tlearn: 0.1210986\ttotal: 481ms\tremaining: 466ms\n",
      "508:\tlearn: 0.1209264\ttotal: 481ms\tremaining: 464ms\n",
      "509:\tlearn: 0.1207232\ttotal: 482ms\tremaining: 463ms\n",
      "510:\tlearn: 0.1205986\ttotal: 483ms\tremaining: 462ms\n",
      "511:\tlearn: 0.1204295\ttotal: 484ms\tremaining: 461ms\n",
      "512:\tlearn: 0.1202203\ttotal: 485ms\tremaining: 460ms\n",
      "513:\tlearn: 0.1199680\ttotal: 486ms\tremaining: 459ms\n",
      "514:\tlearn: 0.1198779\ttotal: 487ms\tremaining: 458ms\n"
     ]
    },
    {
     "name": "stdout",
     "output_type": "stream",
     "text": [
      "515:\tlearn: 0.1197015\ttotal: 488ms\tremaining: 457ms\n",
      "516:\tlearn: 0.1195628\ttotal: 489ms\tremaining: 456ms\n",
      "517:\tlearn: 0.1193118\ttotal: 490ms\tremaining: 456ms\n",
      "518:\tlearn: 0.1190796\ttotal: 491ms\tremaining: 455ms\n",
      "519:\tlearn: 0.1190014\ttotal: 493ms\tremaining: 455ms\n",
      "520:\tlearn: 0.1188472\ttotal: 493ms\tremaining: 454ms\n",
      "521:\tlearn: 0.1187430\ttotal: 494ms\tremaining: 452ms\n",
      "522:\tlearn: 0.1185016\ttotal: 495ms\tremaining: 451ms\n",
      "523:\tlearn: 0.1181930\ttotal: 496ms\tremaining: 450ms\n",
      "524:\tlearn: 0.1181332\ttotal: 497ms\tremaining: 450ms\n",
      "525:\tlearn: 0.1179440\ttotal: 498ms\tremaining: 449ms\n",
      "526:\tlearn: 0.1176635\ttotal: 499ms\tremaining: 448ms\n",
      "527:\tlearn: 0.1174593\ttotal: 500ms\tremaining: 447ms\n",
      "528:\tlearn: 0.1172784\ttotal: 503ms\tremaining: 447ms\n",
      "529:\tlearn: 0.1170853\ttotal: 504ms\tremaining: 447ms\n",
      "530:\tlearn: 0.1170548\ttotal: 504ms\tremaining: 445ms\n",
      "531:\tlearn: 0.1168682\ttotal: 506ms\tremaining: 445ms\n",
      "532:\tlearn: 0.1165082\ttotal: 517ms\tremaining: 453ms\n",
      "533:\tlearn: 0.1163012\ttotal: 518ms\tremaining: 452ms\n",
      "534:\tlearn: 0.1162637\ttotal: 519ms\tremaining: 451ms\n",
      "535:\tlearn: 0.1158979\ttotal: 521ms\tremaining: 451ms\n",
      "536:\tlearn: 0.1157332\ttotal: 522ms\tremaining: 450ms\n",
      "537:\tlearn: 0.1157094\ttotal: 523ms\tremaining: 449ms\n",
      "538:\tlearn: 0.1154450\ttotal: 525ms\tremaining: 449ms\n",
      "539:\tlearn: 0.1152853\ttotal: 526ms\tremaining: 448ms\n",
      "540:\tlearn: 0.1150739\ttotal: 547ms\tremaining: 464ms\n",
      "541:\tlearn: 0.1148477\ttotal: 547ms\tremaining: 463ms\n",
      "542:\tlearn: 0.1147130\ttotal: 548ms\tremaining: 461ms\n",
      "543:\tlearn: 0.1145331\ttotal: 549ms\tremaining: 460ms\n",
      "544:\tlearn: 0.1145031\ttotal: 550ms\tremaining: 459ms\n",
      "545:\tlearn: 0.1143945\ttotal: 551ms\tremaining: 458ms\n",
      "546:\tlearn: 0.1143619\ttotal: 552ms\tremaining: 457ms\n",
      "547:\tlearn: 0.1142181\ttotal: 553ms\tremaining: 456ms\n",
      "548:\tlearn: 0.1141397\ttotal: 555ms\tremaining: 456ms\n",
      "549:\tlearn: 0.1139647\ttotal: 556ms\tremaining: 455ms\n",
      "550:\tlearn: 0.1137714\ttotal: 557ms\tremaining: 454ms\n",
      "551:\tlearn: 0.1136060\ttotal: 557ms\tremaining: 452ms\n",
      "552:\tlearn: 0.1133595\ttotal: 558ms\tremaining: 451ms\n",
      "553:\tlearn: 0.1131094\ttotal: 560ms\tremaining: 451ms\n",
      "554:\tlearn: 0.1129517\ttotal: 561ms\tremaining: 450ms\n",
      "555:\tlearn: 0.1129112\ttotal: 562ms\tremaining: 449ms\n",
      "556:\tlearn: 0.1126753\ttotal: 562ms\tremaining: 447ms\n",
      "557:\tlearn: 0.1125091\ttotal: 563ms\tremaining: 446ms\n",
      "558:\tlearn: 0.1123592\ttotal: 564ms\tremaining: 445ms\n",
      "559:\tlearn: 0.1122850\ttotal: 565ms\tremaining: 444ms\n",
      "560:\tlearn: 0.1121648\ttotal: 566ms\tremaining: 443ms\n",
      "561:\tlearn: 0.1119572\ttotal: 567ms\tremaining: 442ms\n",
      "562:\tlearn: 0.1117309\ttotal: 567ms\tremaining: 440ms\n",
      "563:\tlearn: 0.1116772\ttotal: 568ms\tremaining: 439ms\n",
      "564:\tlearn: 0.1114911\ttotal: 569ms\tremaining: 438ms\n",
      "565:\tlearn: 0.1114067\ttotal: 570ms\tremaining: 437ms\n",
      "566:\tlearn: 0.1113579\ttotal: 570ms\tremaining: 436ms\n",
      "567:\tlearn: 0.1111725\ttotal: 571ms\tremaining: 434ms\n",
      "568:\tlearn: 0.1111235\ttotal: 572ms\tremaining: 433ms\n",
      "569:\tlearn: 0.1108973\ttotal: 573ms\tremaining: 432ms\n",
      "570:\tlearn: 0.1107797\ttotal: 573ms\tremaining: 431ms\n",
      "571:\tlearn: 0.1105818\ttotal: 574ms\tremaining: 430ms\n"
     ]
    },
    {
     "name": "stdout",
     "output_type": "stream",
     "text": [
      "572:\tlearn: 0.1103874\ttotal: 575ms\tremaining: 428ms\n",
      "573:\tlearn: 0.1102736\ttotal: 576ms\tremaining: 427ms\n",
      "574:\tlearn: 0.1100751\ttotal: 577ms\tremaining: 426ms\n",
      "575:\tlearn: 0.1097669\ttotal: 578ms\tremaining: 425ms\n",
      "576:\tlearn: 0.1095717\ttotal: 578ms\tremaining: 424ms\n",
      "577:\tlearn: 0.1095420\ttotal: 579ms\tremaining: 423ms\n",
      "578:\tlearn: 0.1095126\ttotal: 580ms\tremaining: 422ms\n",
      "579:\tlearn: 0.1093271\ttotal: 581ms\tremaining: 421ms\n",
      "580:\tlearn: 0.1091892\ttotal: 582ms\tremaining: 419ms\n",
      "581:\tlearn: 0.1091648\ttotal: 582ms\tremaining: 418ms\n",
      "582:\tlearn: 0.1090161\ttotal: 583ms\tremaining: 417ms\n",
      "583:\tlearn: 0.1089534\ttotal: 584ms\tremaining: 416ms\n",
      "584:\tlearn: 0.1087676\ttotal: 585ms\tremaining: 415ms\n",
      "585:\tlearn: 0.1086017\ttotal: 586ms\tremaining: 414ms\n",
      "586:\tlearn: 0.1085758\ttotal: 587ms\tremaining: 413ms\n",
      "587:\tlearn: 0.1083684\ttotal: 588ms\tremaining: 412ms\n",
      "588:\tlearn: 0.1081681\ttotal: 588ms\tremaining: 411ms\n",
      "589:\tlearn: 0.1080033\ttotal: 589ms\tremaining: 409ms\n",
      "590:\tlearn: 0.1079585\ttotal: 590ms\tremaining: 408ms\n",
      "591:\tlearn: 0.1079424\ttotal: 591ms\tremaining: 407ms\n",
      "592:\tlearn: 0.1078195\ttotal: 592ms\tremaining: 406ms\n",
      "593:\tlearn: 0.1077711\ttotal: 593ms\tremaining: 405ms\n",
      "594:\tlearn: 0.1075504\ttotal: 593ms\tremaining: 404ms\n",
      "595:\tlearn: 0.1072977\ttotal: 594ms\tremaining: 403ms\n",
      "596:\tlearn: 0.1072620\ttotal: 595ms\tremaining: 402ms\n",
      "597:\tlearn: 0.1071783\ttotal: 596ms\tremaining: 401ms\n",
      "598:\tlearn: 0.1071426\ttotal: 597ms\tremaining: 400ms\n",
      "599:\tlearn: 0.1071104\ttotal: 598ms\tremaining: 398ms\n",
      "600:\tlearn: 0.1068827\ttotal: 599ms\tremaining: 397ms\n",
      "601:\tlearn: 0.1067385\ttotal: 599ms\tremaining: 396ms\n",
      "602:\tlearn: 0.1065451\ttotal: 600ms\tremaining: 395ms\n",
      "603:\tlearn: 0.1063360\ttotal: 601ms\tremaining: 394ms\n",
      "604:\tlearn: 0.1062714\ttotal: 602ms\tremaining: 393ms\n",
      "605:\tlearn: 0.1060448\ttotal: 603ms\tremaining: 392ms\n",
      "606:\tlearn: 0.1058539\ttotal: 604ms\tremaining: 391ms\n",
      "607:\tlearn: 0.1056600\ttotal: 604ms\tremaining: 390ms\n",
      "608:\tlearn: 0.1056180\ttotal: 605ms\tremaining: 389ms\n",
      "609:\tlearn: 0.1054119\ttotal: 606ms\tremaining: 387ms\n",
      "610:\tlearn: 0.1052386\ttotal: 607ms\tremaining: 386ms\n",
      "611:\tlearn: 0.1050199\ttotal: 608ms\tremaining: 385ms\n",
      "612:\tlearn: 0.1049995\ttotal: 609ms\tremaining: 384ms\n",
      "613:\tlearn: 0.1048155\ttotal: 609ms\tremaining: 383ms\n",
      "614:\tlearn: 0.1046304\ttotal: 610ms\tremaining: 382ms\n",
      "615:\tlearn: 0.1045758\ttotal: 611ms\tremaining: 381ms\n",
      "616:\tlearn: 0.1044594\ttotal: 612ms\tremaining: 380ms\n",
      "617:\tlearn: 0.1041824\ttotal: 612ms\tremaining: 379ms\n",
      "618:\tlearn: 0.1040440\ttotal: 613ms\tremaining: 377ms\n",
      "619:\tlearn: 0.1038491\ttotal: 614ms\tremaining: 376ms\n",
      "620:\tlearn: 0.1037425\ttotal: 615ms\tremaining: 375ms\n",
      "621:\tlearn: 0.1036785\ttotal: 615ms\tremaining: 374ms\n",
      "622:\tlearn: 0.1036442\ttotal: 616ms\tremaining: 373ms\n",
      "623:\tlearn: 0.1035316\ttotal: 617ms\tremaining: 372ms\n",
      "624:\tlearn: 0.1035235\ttotal: 618ms\tremaining: 371ms\n",
      "625:\tlearn: 0.1035138\ttotal: 619ms\tremaining: 370ms\n",
      "626:\tlearn: 0.1033669\ttotal: 620ms\tremaining: 369ms\n",
      "627:\tlearn: 0.1033457\ttotal: 621ms\tremaining: 368ms\n",
      "628:\tlearn: 0.1033351\ttotal: 622ms\tremaining: 367ms\n",
      "629:\tlearn: 0.1032968\ttotal: 623ms\tremaining: 366ms\n",
      "630:\tlearn: 0.1031605\ttotal: 624ms\tremaining: 365ms\n",
      "631:\tlearn: 0.1030996\ttotal: 624ms\tremaining: 364ms\n",
      "632:\tlearn: 0.1029237\ttotal: 625ms\tremaining: 362ms\n",
      "633:\tlearn: 0.1027071\ttotal: 626ms\tremaining: 361ms\n",
      "634:\tlearn: 0.1025215\ttotal: 627ms\tremaining: 360ms\n",
      "635:\tlearn: 0.1023581\ttotal: 628ms\tremaining: 359ms\n",
      "636:\tlearn: 0.1021126\ttotal: 628ms\tremaining: 358ms\n",
      "637:\tlearn: 0.1020942\ttotal: 629ms\tremaining: 357ms\n",
      "638:\tlearn: 0.1020424\ttotal: 630ms\tremaining: 356ms\n",
      "639:\tlearn: 0.1019321\ttotal: 631ms\tremaining: 355ms\n",
      "640:\tlearn: 0.1017583\ttotal: 632ms\tremaining: 354ms\n",
      "641:\tlearn: 0.1016290\ttotal: 632ms\tremaining: 353ms\n",
      "642:\tlearn: 0.1016098\ttotal: 633ms\tremaining: 352ms\n",
      "643:\tlearn: 0.1015588\ttotal: 634ms\tremaining: 350ms\n",
      "644:\tlearn: 0.1014709\ttotal: 635ms\tremaining: 349ms\n",
      "645:\tlearn: 0.1013912\ttotal: 636ms\tremaining: 348ms\n",
      "646:\tlearn: 0.1013432\ttotal: 637ms\tremaining: 347ms\n",
      "647:\tlearn: 0.1012344\ttotal: 637ms\tremaining: 346ms\n",
      "648:\tlearn: 0.1010664\ttotal: 638ms\tremaining: 345ms\n",
      "649:\tlearn: 0.1009119\ttotal: 639ms\tremaining: 344ms\n",
      "650:\tlearn: 0.1007151\ttotal: 641ms\tremaining: 343ms\n",
      "651:\tlearn: 0.1006490\ttotal: 641ms\tremaining: 342ms\n",
      "652:\tlearn: 0.1004189\ttotal: 642ms\tremaining: 341ms\n",
      "653:\tlearn: 0.1002765\ttotal: 643ms\tremaining: 340ms\n",
      "654:\tlearn: 0.1001296\ttotal: 644ms\tremaining: 339ms\n",
      "655:\tlearn: 0.1000502\ttotal: 645ms\tremaining: 338ms\n",
      "656:\tlearn: 0.0998245\ttotal: 645ms\tremaining: 337ms\n",
      "657:\tlearn: 0.0996947\ttotal: 646ms\tremaining: 336ms\n",
      "658:\tlearn: 0.0995280\ttotal: 647ms\tremaining: 335ms\n",
      "659:\tlearn: 0.0994181\ttotal: 648ms\tremaining: 334ms\n",
      "660:\tlearn: 0.0994085\ttotal: 649ms\tremaining: 333ms\n",
      "661:\tlearn: 0.0993768\ttotal: 650ms\tremaining: 332ms\n",
      "662:\tlearn: 0.0991942\ttotal: 650ms\tremaining: 331ms\n",
      "663:\tlearn: 0.0990066\ttotal: 651ms\tremaining: 330ms\n",
      "664:\tlearn: 0.0988068\ttotal: 652ms\tremaining: 328ms\n",
      "665:\tlearn: 0.0987057\ttotal: 653ms\tremaining: 327ms\n",
      "666:\tlearn: 0.0984360\ttotal: 654ms\tremaining: 326ms\n",
      "667:\tlearn: 0.0983377\ttotal: 654ms\tremaining: 325ms\n",
      "668:\tlearn: 0.0981757\ttotal: 655ms\tremaining: 324ms\n",
      "669:\tlearn: 0.0981611\ttotal: 657ms\tremaining: 323ms\n",
      "670:\tlearn: 0.0981296\ttotal: 657ms\tremaining: 322ms\n",
      "671:\tlearn: 0.0980945\ttotal: 658ms\tremaining: 321ms\n",
      "672:\tlearn: 0.0979587\ttotal: 659ms\tremaining: 320ms\n",
      "673:\tlearn: 0.0979240\ttotal: 660ms\tremaining: 319ms\n",
      "674:\tlearn: 0.0978923\ttotal: 661ms\tremaining: 318ms\n",
      "675:\tlearn: 0.0977133\ttotal: 662ms\tremaining: 317ms\n",
      "676:\tlearn: 0.0975752\ttotal: 662ms\tremaining: 316ms\n",
      "677:\tlearn: 0.0973566\ttotal: 663ms\tremaining: 315ms\n",
      "678:\tlearn: 0.0971424\ttotal: 665ms\tremaining: 314ms\n",
      "679:\tlearn: 0.0970187\ttotal: 665ms\tremaining: 313ms\n",
      "680:\tlearn: 0.0969020\ttotal: 666ms\tremaining: 312ms\n",
      "681:\tlearn: 0.0967723\ttotal: 667ms\tremaining: 311ms\n",
      "682:\tlearn: 0.0966011\ttotal: 668ms\tremaining: 310ms\n",
      "683:\tlearn: 0.0964741\ttotal: 669ms\tremaining: 309ms\n",
      "684:\tlearn: 0.0962635\ttotal: 669ms\tremaining: 308ms\n",
      "685:\tlearn: 0.0961078\ttotal: 670ms\tremaining: 307ms\n",
      "686:\tlearn: 0.0959541\ttotal: 671ms\tremaining: 306ms\n",
      "687:\tlearn: 0.0957484\ttotal: 672ms\tremaining: 305ms\n",
      "688:\tlearn: 0.0956103\ttotal: 673ms\tremaining: 304ms\n",
      "689:\tlearn: 0.0954756\ttotal: 673ms\tremaining: 303ms\n",
      "690:\tlearn: 0.0953162\ttotal: 674ms\tremaining: 301ms\n",
      "691:\tlearn: 0.0951075\ttotal: 675ms\tremaining: 300ms\n",
      "692:\tlearn: 0.0949696\ttotal: 676ms\tremaining: 299ms\n",
      "693:\tlearn: 0.0948895\ttotal: 676ms\tremaining: 298ms\n",
      "694:\tlearn: 0.0947255\ttotal: 677ms\tremaining: 297ms\n",
      "695:\tlearn: 0.0946483\ttotal: 678ms\tremaining: 296ms\n",
      "696:\tlearn: 0.0944798\ttotal: 679ms\tremaining: 295ms\n"
     ]
    },
    {
     "name": "stdout",
     "output_type": "stream",
     "text": [
      "697:\tlearn: 0.0943162\ttotal: 680ms\tremaining: 294ms\n",
      "698:\tlearn: 0.0941485\ttotal: 681ms\tremaining: 293ms\n",
      "699:\tlearn: 0.0940385\ttotal: 682ms\tremaining: 292ms\n",
      "700:\tlearn: 0.0938914\ttotal: 683ms\tremaining: 291ms\n",
      "701:\tlearn: 0.0936817\ttotal: 683ms\tremaining: 290ms\n",
      "702:\tlearn: 0.0935548\ttotal: 684ms\tremaining: 289ms\n",
      "703:\tlearn: 0.0934546\ttotal: 685ms\tremaining: 288ms\n",
      "704:\tlearn: 0.0933643\ttotal: 686ms\tremaining: 287ms\n",
      "705:\tlearn: 0.0932588\ttotal: 687ms\tremaining: 286ms\n",
      "706:\tlearn: 0.0930359\ttotal: 687ms\tremaining: 285ms\n",
      "707:\tlearn: 0.0929454\ttotal: 688ms\tremaining: 284ms\n",
      "708:\tlearn: 0.0927817\ttotal: 689ms\tremaining: 283ms\n",
      "709:\tlearn: 0.0926212\ttotal: 690ms\tremaining: 282ms\n",
      "710:\tlearn: 0.0924965\ttotal: 691ms\tremaining: 281ms\n",
      "711:\tlearn: 0.0924817\ttotal: 691ms\tremaining: 280ms\n",
      "712:\tlearn: 0.0923782\ttotal: 692ms\tremaining: 279ms\n",
      "713:\tlearn: 0.0922962\ttotal: 693ms\tremaining: 278ms\n",
      "714:\tlearn: 0.0922084\ttotal: 694ms\tremaining: 277ms\n",
      "715:\tlearn: 0.0921033\ttotal: 695ms\tremaining: 276ms\n",
      "716:\tlearn: 0.0919034\ttotal: 695ms\tremaining: 274ms\n",
      "717:\tlearn: 0.0916978\ttotal: 696ms\tremaining: 273ms\n",
      "718:\tlearn: 0.0915584\ttotal: 697ms\tremaining: 272ms\n",
      "719:\tlearn: 0.0913567\ttotal: 698ms\tremaining: 271ms\n",
      "720:\tlearn: 0.0912712\ttotal: 699ms\tremaining: 270ms\n",
      "721:\tlearn: 0.0910748\ttotal: 700ms\tremaining: 269ms\n",
      "722:\tlearn: 0.0908788\ttotal: 700ms\tremaining: 268ms\n",
      "723:\tlearn: 0.0908011\ttotal: 701ms\tremaining: 267ms\n",
      "724:\tlearn: 0.0906401\ttotal: 702ms\tremaining: 266ms\n",
      "725:\tlearn: 0.0905072\ttotal: 703ms\tremaining: 265ms\n",
      "726:\tlearn: 0.0903662\ttotal: 703ms\tremaining: 264ms\n",
      "727:\tlearn: 0.0902370\ttotal: 704ms\tremaining: 263ms\n",
      "728:\tlearn: 0.0901073\ttotal: 705ms\tremaining: 262ms\n",
      "729:\tlearn: 0.0899743\ttotal: 706ms\tremaining: 261ms\n",
      "730:\tlearn: 0.0898111\ttotal: 707ms\tremaining: 260ms\n",
      "731:\tlearn: 0.0895472\ttotal: 707ms\tremaining: 259ms\n",
      "732:\tlearn: 0.0894432\ttotal: 708ms\tremaining: 258ms\n",
      "733:\tlearn: 0.0893603\ttotal: 709ms\tremaining: 257ms\n",
      "734:\tlearn: 0.0891674\ttotal: 710ms\tremaining: 256ms\n",
      "735:\tlearn: 0.0889558\ttotal: 711ms\tremaining: 255ms\n",
      "736:\tlearn: 0.0888326\ttotal: 712ms\tremaining: 254ms\n",
      "737:\tlearn: 0.0887357\ttotal: 712ms\tremaining: 253ms\n",
      "738:\tlearn: 0.0885376\ttotal: 713ms\tremaining: 252ms\n",
      "739:\tlearn: 0.0884030\ttotal: 714ms\tremaining: 251ms\n",
      "740:\tlearn: 0.0882830\ttotal: 715ms\tremaining: 250ms\n",
      "741:\tlearn: 0.0881647\ttotal: 716ms\tremaining: 249ms\n",
      "742:\tlearn: 0.0880737\ttotal: 716ms\tremaining: 248ms\n",
      "743:\tlearn: 0.0879654\ttotal: 717ms\tremaining: 247ms\n",
      "744:\tlearn: 0.0878645\ttotal: 718ms\tremaining: 246ms\n",
      "745:\tlearn: 0.0878581\ttotal: 719ms\tremaining: 245ms\n",
      "746:\tlearn: 0.0878195\ttotal: 720ms\tremaining: 244ms\n",
      "747:\tlearn: 0.0876903\ttotal: 720ms\tremaining: 243ms\n",
      "748:\tlearn: 0.0875109\ttotal: 721ms\tremaining: 242ms\n",
      "749:\tlearn: 0.0874163\ttotal: 722ms\tremaining: 241ms\n",
      "750:\tlearn: 0.0872783\ttotal: 723ms\tremaining: 240ms\n",
      "751:\tlearn: 0.0871227\ttotal: 724ms\tremaining: 239ms\n",
      "752:\tlearn: 0.0870329\ttotal: 724ms\tremaining: 238ms\n",
      "753:\tlearn: 0.0868536\ttotal: 725ms\tremaining: 237ms\n",
      "754:\tlearn: 0.0866869\ttotal: 726ms\tremaining: 236ms\n",
      "755:\tlearn: 0.0865014\ttotal: 727ms\tremaining: 235ms\n",
      "756:\tlearn: 0.0863782\ttotal: 728ms\tremaining: 234ms\n",
      "757:\tlearn: 0.0861794\ttotal: 728ms\tremaining: 233ms\n",
      "758:\tlearn: 0.0860756\ttotal: 729ms\tremaining: 232ms\n",
      "759:\tlearn: 0.0858702\ttotal: 730ms\tremaining: 231ms\n",
      "760:\tlearn: 0.0857814\ttotal: 731ms\tremaining: 230ms\n",
      "761:\tlearn: 0.0856333\ttotal: 732ms\tremaining: 229ms\n",
      "762:\tlearn: 0.0855259\ttotal: 732ms\tremaining: 228ms\n",
      "763:\tlearn: 0.0853329\ttotal: 733ms\tremaining: 227ms\n",
      "764:\tlearn: 0.0852023\ttotal: 734ms\tremaining: 226ms\n",
      "765:\tlearn: 0.0850091\ttotal: 735ms\tremaining: 225ms\n",
      "766:\tlearn: 0.0849365\ttotal: 736ms\tremaining: 224ms\n",
      "767:\tlearn: 0.0848627\ttotal: 737ms\tremaining: 223ms\n",
      "768:\tlearn: 0.0848322\ttotal: 737ms\tremaining: 221ms\n",
      "769:\tlearn: 0.0846779\ttotal: 738ms\tremaining: 220ms\n",
      "770:\tlearn: 0.0844918\ttotal: 739ms\tremaining: 219ms\n",
      "771:\tlearn: 0.0843941\ttotal: 740ms\tremaining: 218ms\n",
      "772:\tlearn: 0.0842640\ttotal: 741ms\tremaining: 217ms\n",
      "773:\tlearn: 0.0840481\ttotal: 741ms\tremaining: 216ms\n",
      "774:\tlearn: 0.0839888\ttotal: 742ms\tremaining: 216ms\n",
      "775:\tlearn: 0.0839594\ttotal: 743ms\tremaining: 214ms\n",
      "776:\tlearn: 0.0838632\ttotal: 744ms\tremaining: 213ms\n",
      "777:\tlearn: 0.0837702\ttotal: 745ms\tremaining: 213ms\n",
      "778:\tlearn: 0.0836228\ttotal: 746ms\tremaining: 212ms\n",
      "779:\tlearn: 0.0835960\ttotal: 746ms\tremaining: 211ms\n",
      "780:\tlearn: 0.0834802\ttotal: 747ms\tremaining: 209ms\n",
      "781:\tlearn: 0.0832981\ttotal: 748ms\tremaining: 208ms\n",
      "782:\tlearn: 0.0831710\ttotal: 749ms\tremaining: 208ms\n",
      "783:\tlearn: 0.0829734\ttotal: 750ms\tremaining: 207ms\n",
      "784:\tlearn: 0.0829576\ttotal: 751ms\tremaining: 206ms\n",
      "785:\tlearn: 0.0829278\ttotal: 751ms\tremaining: 205ms\n",
      "786:\tlearn: 0.0827415\ttotal: 752ms\tremaining: 204ms\n",
      "787:\tlearn: 0.0825625\ttotal: 753ms\tremaining: 203ms\n",
      "788:\tlearn: 0.0824340\ttotal: 754ms\tremaining: 202ms\n",
      "789:\tlearn: 0.0823969\ttotal: 755ms\tremaining: 201ms\n",
      "790:\tlearn: 0.0823247\ttotal: 756ms\tremaining: 200ms\n",
      "791:\tlearn: 0.0822615\ttotal: 756ms\tremaining: 199ms\n",
      "792:\tlearn: 0.0821469\ttotal: 757ms\tremaining: 198ms\n",
      "793:\tlearn: 0.0820819\ttotal: 758ms\tremaining: 197ms\n",
      "794:\tlearn: 0.0819149\ttotal: 759ms\tremaining: 196ms\n",
      "795:\tlearn: 0.0817535\ttotal: 760ms\tremaining: 195ms\n",
      "796:\tlearn: 0.0816113\ttotal: 760ms\tremaining: 194ms\n",
      "797:\tlearn: 0.0814917\ttotal: 761ms\tremaining: 193ms\n",
      "798:\tlearn: 0.0813834\ttotal: 762ms\tremaining: 192ms\n",
      "799:\tlearn: 0.0812257\ttotal: 763ms\tremaining: 191ms\n",
      "800:\tlearn: 0.0811419\ttotal: 764ms\tremaining: 190ms\n"
     ]
    },
    {
     "name": "stdout",
     "output_type": "stream",
     "text": [
      "801:\tlearn: 0.0810375\ttotal: 765ms\tremaining: 189ms\n",
      "802:\tlearn: 0.0809039\ttotal: 766ms\tremaining: 188ms\n",
      "803:\tlearn: 0.0808891\ttotal: 767ms\tremaining: 187ms\n",
      "804:\tlearn: 0.0807992\ttotal: 767ms\tremaining: 186ms\n",
      "805:\tlearn: 0.0807047\ttotal: 768ms\tremaining: 185ms\n",
      "806:\tlearn: 0.0805814\ttotal: 769ms\tremaining: 184ms\n",
      "807:\tlearn: 0.0804608\ttotal: 770ms\tremaining: 183ms\n",
      "808:\tlearn: 0.0804451\ttotal: 771ms\tremaining: 182ms\n",
      "809:\tlearn: 0.0803486\ttotal: 772ms\tremaining: 181ms\n",
      "810:\tlearn: 0.0801919\ttotal: 773ms\tremaining: 180ms\n",
      "811:\tlearn: 0.0800426\ttotal: 774ms\tremaining: 179ms\n",
      "812:\tlearn: 0.0799790\ttotal: 775ms\tremaining: 178ms\n",
      "813:\tlearn: 0.0798667\ttotal: 776ms\tremaining: 177ms\n",
      "814:\tlearn: 0.0796921\ttotal: 777ms\tremaining: 176ms\n",
      "815:\tlearn: 0.0795940\ttotal: 777ms\tremaining: 175ms\n",
      "816:\tlearn: 0.0794022\ttotal: 778ms\tremaining: 174ms\n",
      "817:\tlearn: 0.0793296\ttotal: 779ms\tremaining: 173ms\n",
      "818:\tlearn: 0.0792045\ttotal: 780ms\tremaining: 172ms\n",
      "819:\tlearn: 0.0791872\ttotal: 781ms\tremaining: 171ms\n",
      "820:\tlearn: 0.0789809\ttotal: 781ms\tremaining: 170ms\n",
      "821:\tlearn: 0.0788757\ttotal: 782ms\tremaining: 169ms\n",
      "822:\tlearn: 0.0787643\ttotal: 783ms\tremaining: 168ms\n",
      "823:\tlearn: 0.0786601\ttotal: 784ms\tremaining: 167ms\n",
      "824:\tlearn: 0.0785061\ttotal: 785ms\tremaining: 166ms\n",
      "825:\tlearn: 0.0784539\ttotal: 786ms\tremaining: 166ms\n",
      "826:\tlearn: 0.0782923\ttotal: 787ms\tremaining: 165ms\n",
      "827:\tlearn: 0.0781832\ttotal: 787ms\tremaining: 164ms\n",
      "828:\tlearn: 0.0781088\ttotal: 788ms\tremaining: 163ms\n",
      "829:\tlearn: 0.0779984\ttotal: 789ms\tremaining: 162ms\n",
      "830:\tlearn: 0.0778903\ttotal: 790ms\tremaining: 161ms\n",
      "831:\tlearn: 0.0778206\ttotal: 791ms\tremaining: 160ms\n",
      "832:\tlearn: 0.0777793\ttotal: 791ms\tremaining: 159ms\n",
      "833:\tlearn: 0.0776447\ttotal: 792ms\tremaining: 158ms\n",
      "834:\tlearn: 0.0775756\ttotal: 793ms\tremaining: 157ms\n",
      "835:\tlearn: 0.0774538\ttotal: 794ms\tremaining: 156ms\n",
      "836:\tlearn: 0.0773466\ttotal: 794ms\tremaining: 155ms\n",
      "837:\tlearn: 0.0773303\ttotal: 795ms\tremaining: 154ms\n",
      "838:\tlearn: 0.0772307\ttotal: 796ms\tremaining: 153ms\n",
      "839:\tlearn: 0.0770736\ttotal: 797ms\tremaining: 152ms\n",
      "840:\tlearn: 0.0770599\ttotal: 798ms\tremaining: 151ms\n",
      "841:\tlearn: 0.0769980\ttotal: 798ms\tremaining: 150ms\n",
      "842:\tlearn: 0.0768706\ttotal: 799ms\tremaining: 149ms\n",
      "843:\tlearn: 0.0767626\ttotal: 800ms\tremaining: 148ms\n",
      "844:\tlearn: 0.0765903\ttotal: 801ms\tremaining: 147ms\n",
      "845:\tlearn: 0.0765756\ttotal: 802ms\tremaining: 146ms\n",
      "846:\tlearn: 0.0763766\ttotal: 803ms\tremaining: 145ms\n",
      "847:\tlearn: 0.0763090\ttotal: 803ms\tremaining: 144ms\n",
      "848:\tlearn: 0.0761365\ttotal: 804ms\tremaining: 143ms\n",
      "849:\tlearn: 0.0759470\ttotal: 805ms\tremaining: 142ms\n",
      "850:\tlearn: 0.0758731\ttotal: 806ms\tremaining: 141ms\n",
      "851:\tlearn: 0.0757226\ttotal: 807ms\tremaining: 140ms\n",
      "852:\tlearn: 0.0756725\ttotal: 808ms\tremaining: 139ms\n",
      "853:\tlearn: 0.0755796\ttotal: 808ms\tremaining: 138ms\n",
      "854:\tlearn: 0.0754617\ttotal: 809ms\tremaining: 137ms\n",
      "855:\tlearn: 0.0754041\ttotal: 810ms\tremaining: 136ms\n",
      "856:\tlearn: 0.0752553\ttotal: 811ms\tremaining: 135ms\n",
      "857:\tlearn: 0.0751153\ttotal: 811ms\tremaining: 134ms\n",
      "858:\tlearn: 0.0750057\ttotal: 812ms\tremaining: 133ms\n",
      "859:\tlearn: 0.0748359\ttotal: 813ms\tremaining: 132ms\n",
      "860:\tlearn: 0.0747636\ttotal: 814ms\tremaining: 131ms\n",
      "861:\tlearn: 0.0747489\ttotal: 815ms\tremaining: 130ms\n",
      "862:\tlearn: 0.0747282\ttotal: 816ms\tremaining: 130ms\n",
      "863:\tlearn: 0.0746670\ttotal: 817ms\tremaining: 129ms\n",
      "864:\tlearn: 0.0745920\ttotal: 817ms\tremaining: 128ms\n",
      "865:\tlearn: 0.0743830\ttotal: 818ms\tremaining: 127ms\n",
      "866:\tlearn: 0.0742157\ttotal: 819ms\tremaining: 126ms\n",
      "867:\tlearn: 0.0741032\ttotal: 820ms\tremaining: 125ms\n",
      "868:\tlearn: 0.0740607\ttotal: 821ms\tremaining: 124ms\n",
      "869:\tlearn: 0.0740060\ttotal: 822ms\tremaining: 123ms\n",
      "870:\tlearn: 0.0739004\ttotal: 822ms\tremaining: 122ms\n",
      "871:\tlearn: 0.0737971\ttotal: 823ms\tremaining: 121ms\n",
      "872:\tlearn: 0.0737404\ttotal: 824ms\tremaining: 120ms\n",
      "873:\tlearn: 0.0736556\ttotal: 825ms\tremaining: 119ms\n",
      "874:\tlearn: 0.0735987\ttotal: 826ms\tremaining: 118ms\n",
      "875:\tlearn: 0.0735068\ttotal: 827ms\tremaining: 117ms\n",
      "876:\tlearn: 0.0734406\ttotal: 828ms\tremaining: 116ms\n",
      "877:\tlearn: 0.0733348\ttotal: 828ms\tremaining: 115ms\n",
      "878:\tlearn: 0.0732258\ttotal: 829ms\tremaining: 114ms\n",
      "879:\tlearn: 0.0731364\ttotal: 830ms\tremaining: 113ms\n",
      "880:\tlearn: 0.0730353\ttotal: 831ms\tremaining: 112ms\n",
      "881:\tlearn: 0.0729363\ttotal: 832ms\tremaining: 111ms\n",
      "882:\tlearn: 0.0728416\ttotal: 833ms\tremaining: 110ms\n",
      "883:\tlearn: 0.0727765\ttotal: 834ms\tremaining: 109ms\n",
      "884:\tlearn: 0.0725869\ttotal: 835ms\tremaining: 108ms\n",
      "885:\tlearn: 0.0724964\ttotal: 835ms\tremaining: 107ms\n",
      "886:\tlearn: 0.0724418\ttotal: 836ms\tremaining: 107ms\n",
      "887:\tlearn: 0.0723127\ttotal: 837ms\tremaining: 106ms\n",
      "888:\tlearn: 0.0722403\ttotal: 838ms\tremaining: 105ms\n",
      "889:\tlearn: 0.0720924\ttotal: 839ms\tremaining: 104ms\n",
      "890:\tlearn: 0.0720340\ttotal: 840ms\tremaining: 103ms\n",
      "891:\tlearn: 0.0719845\ttotal: 840ms\tremaining: 102ms\n",
      "892:\tlearn: 0.0719012\ttotal: 841ms\tremaining: 101ms\n",
      "893:\tlearn: 0.0718876\ttotal: 842ms\tremaining: 99.8ms\n",
      "894:\tlearn: 0.0718147\ttotal: 843ms\tremaining: 98.9ms\n",
      "895:\tlearn: 0.0717364\ttotal: 844ms\tremaining: 97.9ms\n",
      "896:\tlearn: 0.0716619\ttotal: 845ms\tremaining: 97ms\n",
      "897:\tlearn: 0.0715331\ttotal: 845ms\tremaining: 96ms\n",
      "898:\tlearn: 0.0713872\ttotal: 846ms\tremaining: 95.1ms\n",
      "899:\tlearn: 0.0712447\ttotal: 847ms\tremaining: 94.1ms\n",
      "900:\tlearn: 0.0711262\ttotal: 848ms\tremaining: 93.1ms\n",
      "901:\tlearn: 0.0710564\ttotal: 848ms\tremaining: 92.2ms\n",
      "902:\tlearn: 0.0708714\ttotal: 849ms\tremaining: 91.2ms\n",
      "903:\tlearn: 0.0707150\ttotal: 850ms\tremaining: 90.3ms\n",
      "904:\tlearn: 0.0705890\ttotal: 851ms\tremaining: 89.3ms\n",
      "905:\tlearn: 0.0704349\ttotal: 852ms\tremaining: 88.4ms\n",
      "906:\tlearn: 0.0703014\ttotal: 853ms\tremaining: 87.4ms\n",
      "907:\tlearn: 0.0701444\ttotal: 853ms\tremaining: 86.5ms\n",
      "908:\tlearn: 0.0700578\ttotal: 854ms\tremaining: 85.5ms\n",
      "909:\tlearn: 0.0699449\ttotal: 855ms\tremaining: 84.5ms\n",
      "910:\tlearn: 0.0698458\ttotal: 856ms\tremaining: 83.6ms\n",
      "911:\tlearn: 0.0697832\ttotal: 856ms\tremaining: 82.6ms\n",
      "912:\tlearn: 0.0697301\ttotal: 857ms\tremaining: 81.7ms\n",
      "913:\tlearn: 0.0696151\ttotal: 858ms\tremaining: 80.7ms\n",
      "914:\tlearn: 0.0695175\ttotal: 859ms\tremaining: 79.8ms\n",
      "915:\tlearn: 0.0694695\ttotal: 860ms\tremaining: 78.8ms\n",
      "916:\tlearn: 0.0693710\ttotal: 860ms\tremaining: 77.9ms\n",
      "917:\tlearn: 0.0693532\ttotal: 861ms\tremaining: 76.9ms\n",
      "918:\tlearn: 0.0692801\ttotal: 862ms\tremaining: 76ms\n",
      "919:\tlearn: 0.0691725\ttotal: 863ms\tremaining: 75ms\n",
      "920:\tlearn: 0.0690940\ttotal: 864ms\tremaining: 74.1ms\n",
      "921:\tlearn: 0.0689889\ttotal: 864ms\tremaining: 73.1ms\n",
      "922:\tlearn: 0.0688966\ttotal: 865ms\tremaining: 72.2ms\n",
      "923:\tlearn: 0.0688178\ttotal: 866ms\tremaining: 71.2ms\n",
      "924:\tlearn: 0.0687674\ttotal: 867ms\tremaining: 70.3ms\n",
      "925:\tlearn: 0.0687520\ttotal: 868ms\tremaining: 69.3ms\n",
      "926:\tlearn: 0.0686355\ttotal: 869ms\tremaining: 68.4ms\n",
      "927:\tlearn: 0.0686038\ttotal: 869ms\tremaining: 67.4ms\n"
     ]
    },
    {
     "name": "stdout",
     "output_type": "stream",
     "text": [
      "928:\tlearn: 0.0685754\ttotal: 870ms\tremaining: 66.5ms\n",
      "929:\tlearn: 0.0684965\ttotal: 871ms\tremaining: 65.6ms\n",
      "930:\tlearn: 0.0684366\ttotal: 872ms\tremaining: 64.6ms\n",
      "931:\tlearn: 0.0683631\ttotal: 873ms\tremaining: 63.7ms\n",
      "932:\tlearn: 0.0682764\ttotal: 874ms\tremaining: 62.7ms\n",
      "933:\tlearn: 0.0682140\ttotal: 875ms\tremaining: 61.8ms\n",
      "934:\tlearn: 0.0681052\ttotal: 876ms\tremaining: 60.9ms\n",
      "935:\tlearn: 0.0680869\ttotal: 876ms\tremaining: 59.9ms\n",
      "936:\tlearn: 0.0679698\ttotal: 877ms\tremaining: 59ms\n",
      "937:\tlearn: 0.0678842\ttotal: 878ms\tremaining: 58ms\n",
      "938:\tlearn: 0.0677485\ttotal: 879ms\tremaining: 57.1ms\n",
      "939:\tlearn: 0.0676865\ttotal: 879ms\tremaining: 56.1ms\n",
      "940:\tlearn: 0.0675816\ttotal: 880ms\tremaining: 55.2ms\n",
      "941:\tlearn: 0.0675058\ttotal: 881ms\tremaining: 54.2ms\n",
      "942:\tlearn: 0.0674853\ttotal: 882ms\tremaining: 53.3ms\n",
      "943:\tlearn: 0.0674534\ttotal: 883ms\tremaining: 52.4ms\n",
      "944:\tlearn: 0.0673819\ttotal: 883ms\tremaining: 51.4ms\n",
      "945:\tlearn: 0.0672811\ttotal: 884ms\tremaining: 50.5ms\n",
      "946:\tlearn: 0.0671940\ttotal: 885ms\tremaining: 49.5ms\n",
      "947:\tlearn: 0.0671009\ttotal: 886ms\tremaining: 48.6ms\n",
      "948:\tlearn: 0.0670240\ttotal: 887ms\tremaining: 47.7ms\n",
      "949:\tlearn: 0.0669472\ttotal: 888ms\tremaining: 46.7ms\n",
      "950:\tlearn: 0.0668814\ttotal: 888ms\tremaining: 45.8ms\n",
      "951:\tlearn: 0.0668001\ttotal: 889ms\tremaining: 44.8ms\n",
      "952:\tlearn: 0.0667725\ttotal: 890ms\tremaining: 43.9ms\n",
      "953:\tlearn: 0.0666216\ttotal: 891ms\tremaining: 43ms\n",
      "954:\tlearn: 0.0665963\ttotal: 892ms\tremaining: 42ms\n",
      "955:\tlearn: 0.0665259\ttotal: 893ms\tremaining: 41.1ms\n",
      "956:\tlearn: 0.0664839\ttotal: 893ms\tremaining: 40.1ms\n",
      "957:\tlearn: 0.0664221\ttotal: 894ms\tremaining: 39.2ms\n",
      "958:\tlearn: 0.0663313\ttotal: 895ms\tremaining: 38.3ms\n",
      "959:\tlearn: 0.0662611\ttotal: 896ms\tremaining: 37.3ms\n",
      "960:\tlearn: 0.0661780\ttotal: 897ms\tremaining: 36.4ms\n",
      "961:\tlearn: 0.0661684\ttotal: 897ms\tremaining: 35.5ms\n",
      "962:\tlearn: 0.0660833\ttotal: 898ms\tremaining: 34.5ms\n",
      "963:\tlearn: 0.0660334\ttotal: 899ms\tremaining: 33.6ms\n",
      "964:\tlearn: 0.0659782\ttotal: 900ms\tremaining: 32.6ms\n",
      "965:\tlearn: 0.0658396\ttotal: 901ms\tremaining: 31.7ms\n",
      "966:\tlearn: 0.0657516\ttotal: 902ms\tremaining: 30.8ms\n",
      "967:\tlearn: 0.0656202\ttotal: 902ms\tremaining: 29.8ms\n",
      "968:\tlearn: 0.0655012\ttotal: 903ms\tremaining: 28.9ms\n",
      "969:\tlearn: 0.0654416\ttotal: 904ms\tremaining: 28ms\n",
      "970:\tlearn: 0.0653577\ttotal: 905ms\tremaining: 27ms\n",
      "971:\tlearn: 0.0652149\ttotal: 906ms\tremaining: 26.1ms\n",
      "972:\tlearn: 0.0651514\ttotal: 908ms\tremaining: 25.2ms\n",
      "973:\tlearn: 0.0651372\ttotal: 909ms\tremaining: 24.3ms\n",
      "974:\tlearn: 0.0650096\ttotal: 909ms\tremaining: 23.3ms\n",
      "975:\tlearn: 0.0649427\ttotal: 910ms\tremaining: 22.4ms\n",
      "976:\tlearn: 0.0648069\ttotal: 911ms\tremaining: 21.4ms\n",
      "977:\tlearn: 0.0647893\ttotal: 912ms\tremaining: 20.5ms\n",
      "978:\tlearn: 0.0647549\ttotal: 913ms\tremaining: 19.6ms\n",
      "979:\tlearn: 0.0646348\ttotal: 914ms\tremaining: 18.6ms\n",
      "980:\tlearn: 0.0645289\ttotal: 914ms\tremaining: 17.7ms\n",
      "981:\tlearn: 0.0644185\ttotal: 915ms\tremaining: 16.8ms\n",
      "982:\tlearn: 0.0643282\ttotal: 916ms\tremaining: 15.8ms\n",
      "983:\tlearn: 0.0642863\ttotal: 917ms\tremaining: 14.9ms\n",
      "984:\tlearn: 0.0642411\ttotal: 918ms\tremaining: 14ms\n",
      "985:\tlearn: 0.0641269\ttotal: 919ms\tremaining: 13ms\n",
      "986:\tlearn: 0.0640306\ttotal: 919ms\tremaining: 12.1ms\n",
      "987:\tlearn: 0.0639707\ttotal: 920ms\tremaining: 11.2ms\n",
      "988:\tlearn: 0.0638735\ttotal: 921ms\tremaining: 10.2ms\n",
      "989:\tlearn: 0.0637961\ttotal: 922ms\tremaining: 9.31ms\n",
      "990:\tlearn: 0.0637110\ttotal: 922ms\tremaining: 8.38ms\n",
      "991:\tlearn: 0.0636303\ttotal: 923ms\tremaining: 7.44ms\n",
      "992:\tlearn: 0.0635909\ttotal: 924ms\tremaining: 6.51ms\n",
      "993:\tlearn: 0.0635443\ttotal: 925ms\tremaining: 5.58ms\n",
      "994:\tlearn: 0.0634485\ttotal: 926ms\tremaining: 4.65ms\n",
      "995:\tlearn: 0.0634301\ttotal: 926ms\tremaining: 3.72ms\n",
      "996:\tlearn: 0.0633384\ttotal: 927ms\tremaining: 2.79ms\n",
      "997:\tlearn: 0.0633216\ttotal: 928ms\tremaining: 1.86ms\n",
      "998:\tlearn: 0.0632600\ttotal: 929ms\tremaining: 929us\n",
      "999:\tlearn: 0.0631344\ttotal: 930ms\tremaining: 0us\n"
     ]
    },
    {
     "data": {
      "text/plain": [
       "<catboost.core.CatBoostRegressor at 0x7fa35dce1a90>"
      ]
     },
     "execution_count": 9,
     "metadata": {},
     "output_type": "execute_result"
    }
   ],
   "source": [
    "#Train the Model \n",
    "prior_model = ctb.CatBoostRegressor()\n",
    "prior_model.fit(X_train,Y_train)"
   ]
  },
  {
   "cell_type": "code",
   "execution_count": 10,
   "id": "af65dcda",
   "metadata": {
    "execution": {
     "iopub.execute_input": "2022-06-11T15:11:57.054894Z",
     "iopub.status.busy": "2022-06-11T15:11:57.054503Z",
     "iopub.status.idle": "2022-06-11T15:11:57.062323Z",
     "shell.execute_reply": "2022-06-11T15:11:57.062615Z"
    },
    "id": "af65dcda",
    "papermill": {
     "duration": 0.021949,
     "end_time": "2022-06-11T15:11:57.062736",
     "exception": false,
     "start_time": "2022-06-11T15:11:57.040787",
     "status": "completed"
    },
    "tags": []
   },
   "outputs": [
    {
     "data": {
      "application/scrapbook.scrap.json+json": {
       "data": 0.07717350737811582,
       "encoder": "json",
       "name": "Prior Model MSE",
       "version": 1
      }
     },
     "metadata": {
      "scrapbook": {
       "data": true,
       "display": false,
       "name": "Prior Model MSE"
      }
     },
     "output_type": "display_data"
    },
    {
     "data": {
      "application/scrapbook.scrap.json+json": {
       "data": 0.09337239093743246,
       "encoder": "json",
       "name": "ABC Pre-generator MSE",
       "version": 1
      }
     },
     "metadata": {
      "scrapbook": {
       "data": true,
       "display": false,
       "name": "ABC Pre-generator MSE"
      }
     },
     "output_type": "display_data"
    },
    {
     "data": {
      "application/scrapbook.scrap.json+json": {
       "data": 0.19890617569417826,
       "encoder": "json",
       "name": "Prior Model MSE",
       "version": 1
      }
     },
     "metadata": {
      "scrapbook": {
       "data": true,
       "display": false,
       "name": "Prior Model MSE"
      }
     },
     "output_type": "display_data"
    },
    {
     "data": {
      "application/scrapbook.scrap.json+json": {
       "data": 0.23580434827137625,
       "encoder": "json",
       "name": "ABC Pre-generator MSE",
       "version": 1
      }
     },
     "metadata": {
      "scrapbook": {
       "data": true,
       "display": false,
       "name": "ABC Pre-generator MSE"
      }
     },
     "output_type": "display_data"
    }
   ],
   "source": [
    "y_pred = prior_model.predict(X_test)\n",
    "y_abc = y_pred + np.random.normal(0,variance, y_pred.shape) + bias \n",
    "mse = mean_squared_error(y_pred,Y_test)\n",
    "sb.glue(\"Prior Model MSE\",mse)\n",
    "mse = mean_squared_error(y_abc,Y_test)\n",
    "sb.glue(\"ABC Pre-generator MSE\",mse)\n",
    "mae = mean_absolute_error(y_pred,Y_test)\n",
    "sb.glue(\"Prior Model MSE\",mae)\n",
    "mae = mean_absolute_error(y_abc,Y_test)\n",
    "sb.glue(\"ABC Pre-generator MSE\",mae)"
   ]
  },
  {
   "cell_type": "markdown",
   "id": "25609da2",
   "metadata": {
    "papermill": {
     "duration": 0.009876,
     "end_time": "2022-06-11T15:11:57.082873",
     "exception": false,
     "start_time": "2022-06-11T15:11:57.072997",
     "status": "completed"
    },
    "tags": []
   },
   "source": [
    "# ABC GAN Model"
   ]
  },
  {
   "cell_type": "code",
   "execution_count": 11,
   "id": "dfc3464d",
   "metadata": {
    "execution": {
     "iopub.execute_input": "2022-06-11T15:11:57.105579Z",
     "iopub.status.busy": "2022-06-11T15:11:57.105203Z",
     "iopub.status.idle": "2022-06-11T15:11:57.107881Z",
     "shell.execute_reply": "2022-06-11T15:11:57.108117Z"
    },
    "papermill": {
     "duration": 0.015511,
     "end_time": "2022-06-11T15:11:57.108222",
     "exception": false,
     "start_time": "2022-06-11T15:11:57.092711",
     "status": "completed"
    },
    "tags": []
   },
   "outputs": [],
   "source": [
    "gen = network.Generator(n_features+1).to(device)\n",
    "disc = network.Discriminator(n_features+1).to(device)\n",
    "\n",
    "criterion = torch.nn.BCELoss()\n",
    "gen_opt = torch.optim.Adam(gen.parameters(), lr=0.001, betas=(0.5, 0.999))\n",
    "disc_opt = torch.optim.Adam(disc.parameters(), lr=0.001, betas=(0.5, 0.999))"
   ]
  },
  {
   "cell_type": "code",
   "execution_count": 12,
   "id": "b75fdd85",
   "metadata": {
    "execution": {
     "iopub.execute_input": "2022-06-11T15:11:57.130810Z",
     "iopub.status.busy": "2022-06-11T15:11:57.130425Z",
     "iopub.status.idle": "2022-06-11T15:12:57.512151Z",
     "shell.execute_reply": "2022-06-11T15:12:57.512516Z"
    },
    "papermill": {
     "duration": 60.39444,
     "end_time": "2022-06-11T15:12:57.512641",
     "exception": false,
     "start_time": "2022-06-11T15:11:57.118201",
     "status": "completed"
    },
    "tags": []
   },
   "outputs": [
    {
     "data": {
      "image/png": "[encoded data removed]",
      "text/plain": [
       "<Figure size 432x288 with 1 Axes>"
      ]
     },
     "metadata": {
      "needs_background": "light"
     },
     "output_type": "display_data"
    },
    {
     "data": {
      "image/png": "[encoded data removed]",
      "text/plain": [
       "<Figure size 432x288 with 1 Axes>"
      ]
     },
     "metadata": {
      "needs_background": "light"
     },
     "output_type": "display_data"
    }
   ],
   "source": [
    "#Training the ABC_GAN \n",
    "ABC_train_test2.training_GAN(disc,gen,disc_opt,gen_opt,train_data,batch_size,n_epochs,criterion,prior_model,variance,bias,device)"
   ]
  },
  {
   "cell_type": "code",
   "execution_count": 13,
   "id": "1fa7c368",
   "metadata": {
    "execution": {
     "iopub.execute_input": "2022-06-11T15:12:57.537812Z",
     "iopub.status.busy": "2022-06-11T15:12:57.537424Z",
     "iopub.status.idle": "2022-06-11T15:12:57.846413Z",
     "shell.execute_reply": "2022-06-11T15:12:57.846716Z"
    },
    "papermill": {
     "duration": 0.323261,
     "end_time": "2022-06-11T15:12:57.846837",
     "exception": false,
     "start_time": "2022-06-11T15:12:57.523576",
     "status": "completed"
    },
    "tags": []
   },
   "outputs": [
    {
     "data": {
      "application/scrapbook.scrap.json+json": {
       "data": 0.08402168706493764,
       "encoder": "json",
       "name": "ABC-GAN Model 1 MSE",
       "version": 1
      }
     },
     "metadata": {
      "scrapbook": {
       "data": true,
       "display": false,
       "name": "ABC-GAN Model 1 MSE"
      }
     },
     "output_type": "display_data"
    },
    {
     "data": {
      "application/scrapbook.scrap.json+json": {
       "data": 0.20239379733508708,
       "encoder": "json",
       "name": "ABC-GAN Model 1 MAE",
       "version": 1
      }
     },
     "metadata": {
      "scrapbook": {
       "data": true,
       "display": false,
       "name": "ABC-GAN Model 1 MAE"
      }
     },
     "output_type": "display_data"
    },
    {
     "data": {
      "application/scrapbook.scrap.json+json": {
       "data": 20.64416732817888,
       "encoder": "json",
       "name": "ABC-GAN Model 1 Manhattan Distance",
       "version": 1
      }
     },
     "metadata": {
      "scrapbook": {
       "data": true,
       "display": false,
       "name": "ABC-GAN Model 1 Manhattan Distance"
      }
     },
     "output_type": "display_data"
    },
    {
     "data": {
      "application/scrapbook.scrap.json+json": {
       "data": 2.927474684262251,
       "encoder": "json",
       "name": "ABC-GAN Model 1 Euclidean distance",
       "version": 1
      }
     },
     "metadata": {
      "scrapbook": {
       "data": true,
       "display": false,
       "name": "ABC-GAN Model 1 Euclidean distance"
      }
     },
     "output_type": "display_data"
    },
    {
     "data": {
      "application/scrapbook.scrap.json+json": {
       "data": [
        [
         0.08377800332111345,
         0.08526163939150387,
         0.08354618544308891,
         0.08402436172964829,
         0.08427539325768518,
         0.08343465124121612,
         0.08341101708689333,
         0.08435415889470449,
         0.08476097902461094,
         0.08407133607508932,
         0.08413751087010313,
         0.08377496388821468,
         0.0833959195581727,
         0.08449297707459336,
         0.0844996468234896,
         0.0834303653625651,
         0.0850884596602632,
         0.08333253286084277,
         0.08412043670798108,
         0.08478210208583147,
         0.0832736838759008,
         0.08412505469325307,
         0.0845258766640888,
         0.08314843110311229,
         0.08504487867144629,
         0.08356616018338742,
         0.08401046824699769,
         0.08398932971433579,
         0.08430728840532935,
         0.08412441682664282,
         0.08492399404841781,
         0.08562840695681762,
         0.08498701718289009,
         0.08372986051987157,
         0.08381143691168715,
         0.0848789828865599,
         0.08389486397745495,
         0.08335328672294448,
         0.08440352744314572,
         0.08415674489953669,
         0.08395289984199124,
         0.08436422365005015,
         0.0845586949827359,
         0.08502826438789385,
         0.08398083440284065,
         0.08409151921749469,
         0.083588929235015,
         0.08296939236866024,
         0.08282336774231275,
         0.08417160061535685,
         0.08413800476821517,
         0.0835273389697786,
         0.08346664059975696,
         0.08522996387789647,
         0.08354611544631978,
         0.08413199818378925,
         0.08343089157848911,
         0.08386281038178811,
         0.08323146052947049,
         0.08380355041510143,
         0.08360941108871071,
         0.08380077242019301,
         0.08505495976981525,
         0.08376907804483699,
         0.08428808005410808,
         0.08450435099896779,
         0.08289403317469787,
         0.08361666125215005,
         0.0842558211684803,
         0.08453524115294357,
         0.08395156462955146,
         0.08406289905030795,
         0.08348604130598604,
         0.08397585564090176,
         0.08387586457230409,
         0.08381742461844346,
         0.08431997708086704,
         0.08321751545586997,
         0.08449166753385458,
         0.08391572476489965,
         0.08424613058820875,
         0.084151575803692,
         0.08418419211616754,
         0.08402076274993177,
         0.08396034683672819,
         0.08413068579983014,
         0.08379465865830905,
         0.08536762673917293,
         0.0836467519753178,
         0.08419411534079078,
         0.08380686838611281,
         0.08414501892557852,
         0.0844836066644269,
         0.08464194425776358,
         0.08315168516176168,
         0.08272988429057779,
         0.08345588215090813,
         0.08324413350770411,
         0.08423361785988927,
         0.08338142341661435
        ],
        [
         0.20306840728895337,
         0.20410468261323722,
         0.20127152222409553,
         0.20120727457106113,
         0.20313104068604754,
         0.20163385066039421,
         0.20212364565654128,
         0.20290156168972745,
         0.20234380629571044,
         0.20362011929426124,
         0.20263070777496872,
         0.20246796441428802,
         0.2009855886629107,
         0.20155862165505395,
         0.2022513980958976,
         0.2020360878394807,
         0.20395423475579888,
         0.2013757146675797,
         0.20181871432007528,
         0.203323400908095,
         0.19977796771654896,
         0.20244155685399093,
         0.20442733537478774,
         0.20409398865612113,
         0.20354549489988416,
         0.2009277562519499,
         0.20269947802173158,
         0.20158011276347965,
         0.2020715623728785,
         0.2036488736230953,
         0.20388354737238557,
         0.2043334562331438,
         0.20331775568717836,
         0.20152921010466182,
         0.20140239915938354,
         0.20496407786712928,
         0.20319403202145123,
         0.2008986290106002,
         0.20367276588199185,
         0.20292083772958494,
         0.20180976157094918,
         0.20348534448181882,
         0.20371021385140278,
         0.20355489473862975,
         0.20159192890951447,
         0.20506424363702536,
         0.2013319370282047,
         0.20127942566485965,
         0.20116409115201117,
         0.2026370783135587,
         0.2036631738073101,
         0.20170286034836488,
         0.20106449566197163,
         0.20367896197108076,
         0.20132844738077885,
         0.20127391059170752,
         0.2012864425778389,
         0.2016362616536664,
         0.20040054224869785,
         0.2035585465822734,
         0.20221730139033467,
         0.20014955994545244,
         0.20567638819635498,
         0.2020806090942785,
         0.20274186408256784,
         0.20282038440014802,
         0.2006501310194532,
         0.20086103385570003,
         0.20371964321855238,
         0.2023888231419465,
         0.20270862371898166,
         0.20330017310220236,
         0.20231717105443572,
         0.2020096515907961,
         0.2023995915683461,
         0.201204695172754,
         0.20226543077139877,
         0.20197713123086622,
         0.20403971672788554,
         0.2022626500613257,
         0.20399410387172418,
         0.20186404343329223,
         0.20010199127536193,
         0.20089568497211324,
         0.20424713009931877,
         0.2032040786728555,
         0.20040367934487613,
         0.20437418401022167,
         0.20183273189354176,
         0.2025733696771603,
         0.20248034359047226,
         0.2016375177704236,
         0.20285589576644056,
         0.20407466714580855,
         0.20136908061948477,
         0.20035675515000725,
         0.20212984329783448,
         0.20087232889936252,
         0.20208169649555988,
         0.2018782903312468
        ],
        [
         20.712977543473244,
         20.818677626550198,
         20.529695266857743,
         20.523142006248236,
         20.71936614997685,
         20.56665276736021,
         20.61661185696721,
         20.6959592923522,
         20.639068242162466,
         20.769252168014646,
         20.66833219304681,
         20.651732370257378,
         20.50053004361689,
         20.558979408815503,
         20.629642605781555,
         20.607680959627032,
         20.803331945091486,
         20.54032289609313,
         20.58550886064768,
         20.73898689262569,
         20.377352707087994,
         20.649038799107075,
         20.85158820822835,
         20.817586842924356,
         20.761640479788184,
         20.49463113769889,
         20.67534675821662,
         20.561171501874924,
         20.611299362033606,
         20.77218510955572,
         20.796121831983328,
         20.84201253578067,
         20.73841108009219,
         20.555979430675507,
         20.54304471425712,
         20.906335942447186,
         20.725791266188025,
         20.49166015908122,
         20.77462211996317,
         20.697925448417664,
         20.584595680236816,
         20.75550513714552,
         20.778441812843084,
         20.762599263340235,
         20.562376748770475,
         20.916552850976586,
         20.53585757687688,
         20.530501417815685,
         20.51873729750514,
         20.66898198798299,
         20.773643728345633,
         20.57369175553322,
         20.508578557521105,
         20.77525412105024,
         20.53550163283944,
         20.529938880354166,
         20.531217142939568,
         20.566898688673973,
         20.44085530936718,
         20.762971751391888,
         20.626164741814137,
         20.41525511443615,
         20.97899159602821,
         20.612222127616405,
         20.67967013642192,
         20.687679208815098,
         20.466313363984227,
         20.487825453281403,
         20.77940360829234,
         20.643659960478544,
         20.67627961933613,
         20.73661765642464,
         20.636351447552443,
         20.6049844622612,
         20.644758339971304,
         20.522878907620907,
         20.631073938682675,
         20.601667385548353,
         20.812051106244326,
         20.63079030625522,
         20.807398594915867,
         20.59013243019581,
         20.410403110086918,
         20.491359867155552,
         20.833207270130515,
         20.726816024631262,
         20.441175293177366,
         20.84616676904261,
         20.58693865314126,
         20.66248370707035,
         20.65299504622817,
         20.567026812583208,
         20.691301368176937,
         20.81561604887247,
         20.539646223187447,
         20.43638902530074,
         20.617244016379118,
         20.488977547734976,
         20.612333042547107,
         20.591585613787174
        ],
        [
         2.923244146278851,
         2.9490146181281296,
         2.9191969640973294,
         2.9275390512210295,
         2.931908953614333,
         2.9172477485815365,
         2.916834541564385,
         2.9332787469416988,
         2.940343493626266,
         2.928357266396829,
         2.9295095338214074,
         2.9231911187258857,
         2.916570553738349,
         2.9356913430414515,
         2.9358072102908834,
         2.9171728208972536,
         2.9460181407022676,
         2.9154619448392673,
         2.9292122736691635,
         2.9407098484472773,
         2.914432321283492,
         2.929292675495539,
         2.936262832196235,
         2.9122396832193354,
         2.9452635916819947,
         2.9195459131011305,
         2.927297005975609,
         2.9269287027295774,
         2.9324637111725003,
         2.9292815699958865,
         2.943169616746309,
         2.955350657636991,
         2.9442614952912707,
         2.9224041084399843,
         2.9238273828993546,
         2.9423895483822515,
         2.9252822300934325,
         2.9158249682963375,
         2.9341369768981242,
         2.929844361011817,
         2.9262938649225068,
         2.9334537344749645,
         2.9368327988224086,
         2.944975885735768,
         2.92678067321242,
         2.9287087530487663,
         2.9199436265057463,
         2.9091026144849796,
         2.9065415031813844,
         2.9301029440561295,
         2.9295181321094343,
         2.9188676871207124,
         2.9178069403535263,
         2.948466773688562,
         2.9191957412144567,
         2.9294135615761903,
         2.9171820205475507,
         2.9247233474197842,
         2.9136933562072014,
         2.9236898163690936,
         2.920301342507052,
         2.923641357427358,
         2.9454381501775173,
         2.9230884284560004,
         2.932129629726323,
         2.9358889287394225,
         2.907781178806133,
         2.9204279562624564,
         2.931568481066917,
         2.9364254796606435,
         2.9262705944963887,
         2.9282103242648763,
         2.9181460232844034,
         2.9266939155593255,
         2.9249509716190154,
         2.923931823945495,
         2.9326843782187737,
         2.913449257580907,
         2.935668593089684,
         2.925645898946037,
         2.931399890836679,
         2.9297543808272697,
         2.930322097628363,
         2.9274763535326875,
         2.926423649669726,
         2.9293907133707298,
         2.923534707019488,
         2.9508469847478773,
         2.920953389132119,
         2.9304947986237173,
         2.9237476935234175,
         2.9296402390752707,
         2.9355285520279892,
         2.938278120650237,
         2.9122966686963214,
         2.9049007207887385,
         2.9176188886474925,
         2.913915169970776,
         2.9311821884196663,
         2.916317058979469
        ]
       ],
       "encoder": "json",
       "name": "ABC_GAN_1 Metrics",
       "version": 1
      }
     },
     "metadata": {
      "scrapbook": {
       "data": true,
       "display": false,
       "name": "ABC_GAN_1 Metrics"
      }
     },
     "output_type": "display_data"
    },
    {
     "name": "stdout",
     "output_type": "stream",
     "text": [
      "MSE\n",
      "0.08402168706493764\n"
     ]
    }
   ],
   "source": [
    "ABC_GAN1_metrics=ABC_train_test2.test_generator(gen,test_data,prior_model,variance,bias,\"1\",device)\n",
    "sb.glue(\"ABC_GAN_1 Metrics\",ABC_GAN1_metrics)\n",
    "\n",
    "print(\"MSE\")\n",
    "print(mean(ABC_GAN1_metrics[0]))"
   ]
  },
  {
   "cell_type": "code",
   "execution_count": 14,
   "id": "eb22ce5c",
   "metadata": {
    "execution": {
     "iopub.execute_input": "2022-06-11T15:12:57.875329Z",
     "iopub.status.busy": "2022-06-11T15:12:57.874952Z",
     "iopub.status.idle": "2022-06-11T15:12:58.203212Z",
     "shell.execute_reply": "2022-06-11T15:12:58.203533Z"
    },
    "papermill": {
     "duration": 0.344042,
     "end_time": "2022-06-11T15:12:58.203658",
     "exception": false,
     "start_time": "2022-06-11T15:12:57.859616",
     "status": "completed"
    },
    "tags": []
   },
   "outputs": [
    {
     "data": {
      "image/png": "[encoded data removed]",
      "text/plain": [
       "<Figure size 432x288 with 1 Axes>"
      ]
     },
     "metadata": {
      "needs_background": "light"
     },
     "output_type": "display_data"
    },
    {
     "data": {
      "image/png": "[encoded data removed]",
      "text/plain": [
       "<Figure size 432x288 with 1 Axes>"
      ]
     },
     "metadata": {
      "needs_background": "light"
     },
     "output_type": "display_data"
    },
    {
     "data": {
      "image/png": "[encoded data removed]",
      "text/plain": [
       "<Figure size 432x288 with 1 Axes>"
      ]
     },
     "metadata": {
      "needs_background": "light"
     },
     "output_type": "display_data"
    },
    {
     "data": {
      "image/png": "[encoded data removed]",
      "text/plain": [
       "<Figure size 432x288 with 1 Axes>"
      ]
     },
     "metadata": {
      "needs_background": "light"
     },
     "output_type": "display_data"
    }
   ],
   "source": [
    "sanityChecks.discProbVsError(train_data,disc,device)\n",
    "sanityChecks.discProbVsError(test_data,disc,device)"
   ]
  },
  {
   "cell_type": "markdown",
   "id": "130f3a4d",
   "metadata": {
    "id": "130f3a4d",
    "papermill": {
     "duration": 0.014563,
     "end_time": "2022-06-11T15:12:58.233500",
     "exception": false,
     "start_time": "2022-06-11T15:12:58.218937",
     "status": "completed"
    },
    "tags": []
   },
   "source": [
    "# ABC - GAN Model with skip connection"
   ]
  },
  {
   "cell_type": "code",
   "execution_count": 15,
   "id": "4e43dad1",
   "metadata": {
    "execution": {
     "iopub.execute_input": "2022-06-11T15:12:58.266780Z",
     "iopub.status.busy": "2022-06-11T15:12:58.266403Z",
     "iopub.status.idle": "2022-06-11T15:12:58.268763Z",
     "shell.execute_reply": "2022-06-11T15:12:58.269022Z"
    },
    "id": "4e43dad1",
    "papermill": {
     "duration": 0.020938,
     "end_time": "2022-06-11T15:12:58.269135",
     "exception": false,
     "start_time": "2022-06-11T15:12:58.248197",
     "status": "completed"
    },
    "tags": []
   },
   "outputs": [],
   "source": [
    "#Generator\n",
    "gen3 = network.GeneratorWithSkipConnection(n_features+1).to(device)\n",
    "constraints=network.weightConstraint()\n",
    "#Discriminator \n",
    "disc3 = network.Discriminator(n_features+1).to(device)\n",
    "\n",
    "criterion = torch.nn.BCELoss()\n",
    "gen_opt = torch.optim.Adam(gen3.parameters(), lr=0.001, betas=(0.5, 0.999))\n",
    "disc_opt = torch.optim.Adam(disc3.parameters(), lr=0.001, betas=(0.5, 0.999))\n"
   ]
  },
  {
   "cell_type": "code",
   "execution_count": 16,
   "id": "26acbc37",
   "metadata": {
    "execution": {
     "iopub.execute_input": "2022-06-11T15:12:58.301391Z",
     "iopub.status.busy": "2022-06-11T15:12:58.301019Z",
     "iopub.status.idle": "2022-06-11T15:17:45.632107Z",
     "shell.execute_reply": "2022-06-11T15:17:45.632482Z"
    },
    "id": "26acbc37",
    "papermill": {
     "duration": 287.348482,
     "end_time": "2022-06-11T15:17:45.632602",
     "exception": false,
     "start_time": "2022-06-11T15:12:58.284120",
     "status": "completed"
    },
    "tags": []
   },
   "outputs": [
    {
     "data": {
      "image/png": "[encoded data removed]",
      "text/plain": [
       "<Figure size 432x288 with 1 Axes>"
      ]
     },
     "metadata": {
      "needs_background": "light"
     },
     "output_type": "display_data"
    },
    {
     "data": {
      "image/png": "[encoded data removed]",
      "text/plain": [
       "<Figure size 432x288 with 1 Axes>"
      ]
     },
     "metadata": {
      "needs_background": "light"
     },
     "output_type": "display_data"
    }
   ],
   "source": [
    "ABC_train_test2.training_GAN_skip_connection(disc3,gen3,disc_opt,gen_opt,train_data,batch_size,n_epochs,criterion,prior_model,variance,bias,device)"
   ]
  },
  {
   "cell_type": "code",
   "execution_count": 17,
   "id": "c5e0717b",
   "metadata": {
    "execution": {
     "iopub.execute_input": "2022-06-11T15:17:45.667249Z",
     "iopub.status.busy": "2022-06-11T15:17:45.666866Z",
     "iopub.status.idle": "2022-06-11T15:17:46.498006Z",
     "shell.execute_reply": "2022-06-11T15:17:46.498377Z"
    },
    "id": "c5e0717b",
    "papermill": {
     "duration": 0.850283,
     "end_time": "2022-06-11T15:17:46.498503",
     "exception": false,
     "start_time": "2022-06-11T15:17:45.648220",
     "status": "completed"
    },
    "tags": []
   },
   "outputs": [
    {
     "data": {
      "application/scrapbook.scrap.json+json": {
       "data": 0.0801734192093531,
       "encoder": "json",
       "name": "ABC-GAN Model 3 MSE",
       "version": 1
      }
     },
     "metadata": {
      "scrapbook": {
       "data": true,
       "display": false,
       "name": "ABC-GAN Model 3 MSE"
      }
     },
     "output_type": "display_data"
    },
    {
     "data": {
      "application/scrapbook.scrap.json+json": {
       "data": 0.20563928436179754,
       "encoder": "json",
       "name": "ABC-GAN Model 3 MAE",
       "version": 1
      }
     },
     "metadata": {
      "scrapbook": {
       "data": true,
       "display": false,
       "name": "ABC-GAN Model 3 MAE"
      }
     },
     "output_type": "display_data"
    },
    {
     "data": {
      "application/scrapbook.scrap.json+json": {
       "data": 20.97520700490335,
       "encoder": "json",
       "name": "ABC-GAN Model 3 Manhattan Distance",
       "version": 1
      }
     },
     "metadata": {
      "scrapbook": {
       "data": true,
       "display": false,
       "name": "ABC-GAN Model 3 Manhattan Distance"
      }
     },
     "output_type": "display_data"
    },
    {
     "data": {
      "application/scrapbook.scrap.json+json": {
       "data": 2.8596412265590128,
       "encoder": "json",
       "name": "ABC-GAN Model 3 Euclidean distance",
       "version": 1
      }
     },
     "metadata": {
      "scrapbook": {
       "data": true,
       "display": false,
       "name": "ABC-GAN Model 3 Euclidean distance"
      }
     },
     "output_type": "display_data"
    },
    {
     "data": {
      "application/scrapbook.scrap.json+json": {
       "data": [
        [
         0.07878761958751199,
         0.08093847123707444,
         0.0801397903041636,
         0.0793776311009359,
         0.08120431609118892,
         0.08084629887805582,
         0.08004536563687287,
         0.080945365500507,
         0.08036799022584507,
         0.08078603677825356,
         0.08074005293312436,
         0.07978839392899119,
         0.07918246503460988,
         0.08094624070797994,
         0.08025700233400335,
         0.0792223503377317,
         0.07895997660367284,
         0.08070413053489009,
         0.08009455493465764,
         0.07997616236044021,
         0.08085629295380872,
         0.0808071676135046,
         0.07961710522340588,
         0.08027037734231852,
         0.08054538734321635,
         0.07949476627056921,
         0.08000804254911881,
         0.0785694703925151,
         0.07984608344956438,
         0.08176365318506534,
         0.07927857891779773,
         0.07921253077560758,
         0.07977799203775117,
         0.07960539233780853,
         0.07947968703784371,
         0.08049959436288473,
         0.07917172781056865,
         0.07906155627813406,
         0.08025909423550576,
         0.0800232243306776,
         0.07967025188161259,
         0.07879238662121257,
         0.08028590927470862,
         0.08063320024326702,
         0.07997377263950967,
         0.08111541858072362,
         0.08043267486205813,
         0.08082374921254083,
         0.0800225237824343,
         0.0799270691868831,
         0.07996860997255333,
         0.08103951361166635,
         0.08027568250400897,
         0.07963659407827699,
         0.08055970644948404,
         0.08002002386303754,
         0.0791888240769135,
         0.08012839855995005,
         0.08081564718983532,
         0.0804975313564683,
         0.07989861446434669,
         0.07957949775689373,
         0.08074345917296159,
         0.08057584665194127,
         0.08036796777362835,
         0.07972467067937229,
         0.07950829764904133,
         0.08031284571547478,
         0.07960091690952673,
         0.08063741520759474,
         0.08061333867729817,
         0.08012838401701113,
         0.08050633222084759,
         0.08026155390427642,
         0.07902363592918367,
         0.08031821246643914,
         0.08061010802198965,
         0.08100338914946188,
         0.07948070517021931,
         0.0811878995019065,
         0.07980733618528373,
         0.08068031528444583,
         0.08029980649998751,
         0.08121654903562282,
         0.08013568689798038,
         0.0791764676116466,
         0.08115550129333264,
         0.07991090915156494,
         0.08102469157273,
         0.08151770911878027,
         0.08053047505366787,
         0.07967339969930134,
         0.07977307495295133,
         0.08052571671284271,
         0.07972561813931071,
         0.08004939708238155,
         0.08030053478467813,
         0.08041598202479427,
         0.08060063609861137,
         0.08147359525065961
        ],
        [
         0.20487430872505202,
         0.20660094095065312,
         0.20439823198260046,
         0.20522027650811508,
         0.20665697265854654,
         0.20554890377702667,
         0.20630678130934635,
         0.20596762958402728,
         0.20710701292709394,
         0.2051773768137483,
         0.20602159527148686,
         0.20543787694152663,
         0.2034341847140561,
         0.2070881651312697,
         0.20636471634840264,
         0.20444036229495324,
         0.20452086700528277,
         0.2044163219192449,
         0.20588072977375751,
         0.2060512219391325,
         0.20603339013406166,
         0.20733186923990063,
         0.20452568297475285,
         0.20539245533519515,
         0.20728576449933006,
         0.20416210705012666,
         0.20461090754571498,
         0.20288572552632175,
         0.20496623625284902,
         0.20859763793209019,
         0.20328673716707557,
         0.20503054960977798,
         0.20523693847159544,
         0.20405568100292892,
         0.20540677188146933,
         0.206104162770013,
         0.20547151017714949,
         0.20507531821289482,
         0.204824119119211,
         0.20413487922290668,
         0.20600075002613605,
         0.2043609568283108,
         0.2044752499490392,
         0.20534631010948443,
         0.20489976337800422,
         0.2065440310283984,
         0.20574590885171704,
         0.20696254140313933,
         0.20593710276572144,
         0.20453776596296652,
         0.20619345637147918,
         0.20602679784026215,
         0.206553550857101,
         0.20443000830709934,
         0.20636728811351693,
         0.20426533329209276,
         0.20441877575335549,
         0.20623682568981952,
         0.20861143602386995,
         0.20659094402456984,
         0.2064346122171949,
         0.20607710200562782,
         0.206556127589269,
         0.20456041151876836,
         0.20639723130300933,
         0.20624157351752123,
         0.20357597149981588,
         0.20671193524464673,
         0.20442453841222266,
         0.20542403078619756,
         0.20611923372409507,
         0.20686488406842246,
         0.20640487707786115,
         0.20580868487812431,
         0.20456307198779256,
         0.20595705551186613,
         0.2062878521780173,
         0.20807291326277397,
         0.20478905017907714,
         0.20683670663000905,
         0.20501978828699566,
         0.20590760215532547,
         0.20484816303074943,
         0.2064351013806813,
         0.2052465767106589,
         0.20417261899759373,
         0.20677283199905766,
         0.20539468554232052,
         0.2078535602263668,
         0.20725250171095716,
         0.20592392066164927,
         0.20549161622629447,
         0.2050770358273796,
         0.2046792880522416,
         0.20399741311648897,
         0.20484580884815431,
         0.2060347247284417,
         0.2058503963418451,
         0.20613183210804767,
         0.2084473893594216
        ],
        [
         20.897179489955306,
         21.07329597696662,
         20.848619662225246,
         20.93246820382774,
         21.079011211171746,
         20.96598818525672,
         21.04329169355333,
         21.00869821757078,
         21.12491531856358,
         20.928092435002327,
         21.01420271769166,
         20.954663448035717,
         20.750286840833724,
         21.12299284338951,
         21.04920106753707,
         20.85291695408523,
         20.86112843453884,
         20.850464835762978,
         20.999834436923265,
         21.017224637791514,
         21.01540579367429,
         21.147850662469864,
         20.86161966342479,
         20.950030444189906,
         21.143147978931665,
         20.82453491911292,
         20.87031256966293,
         20.69434400368482,
         20.9065560977906,
         21.2769590690732,
         20.735247191041708,
         20.913116060197353,
         20.934167724102736,
         20.81367946229875,
         20.95149073190987,
         21.022624602541327,
         20.958094038069248,
         20.917682457715273,
         20.892060150159523,
         20.821757680736482,
         21.012076502665877,
         20.8448175964877,
         20.856475494801998,
         20.945323631167412,
         20.89977586455643,
         21.067491164896637,
         20.986082702875137,
         21.110179223120213,
         21.005584482103586,
         20.862852128222585,
         21.031732549890876,
         21.01473337970674,
         21.068462187424302,
         20.851860847324133,
         21.049463387578726,
         20.835063995793462,
         20.85071512684226,
         21.03615622036159,
         21.278366474434733,
         21.072276290506124,
         21.05633044615388,
         21.019864404574037,
         21.06872501410544,
         20.865161974914372,
         21.052517592906952,
         21.036640498787165,
         20.76474909298122,
         21.084617394953966,
         20.851302918046713,
         20.95325114019215,
         21.024161839857697,
         21.10021817497909,
         21.05329746194184,
         20.99248585756868,
         20.86543334275484,
         21.007619662210345,
         21.041360922157764,
         21.223437152802944,
         20.888483118265867,
         21.097344076260924,
         20.912018405273557,
         21.002575419843197,
         20.894512629136443,
         21.05638034082949,
         20.93515082448721,
         20.82560713775456,
         21.09082886390388,
         20.95025792531669,
         21.201063143089414,
         21.13975517451763,
         21.004239907488227,
         20.960144855082035,
         20.91785765439272,
         20.877287381328642,
         20.807736137881875,
         20.89427250251174,
         21.015541922301054,
         20.9967404268682,
         21.02544687502086,
         21.261633714661002
        ],
        [
         2.834843416826795,
         2.8732775825147128,
         2.8590660382412794,
         2.8454381687704022,
         2.877992397714294,
         2.871641078819164,
         2.8573811952487245,
         2.873399951460241,
         2.8631337731646767,
         2.870570631665743,
         2.8697535432818415,
         2.8527909458558476,
         2.841937971443114,
         2.8734154854830782,
         2.8611561016603657,
         2.842653643068151,
         2.8379424965236044,
         2.8691150751684376,
         2.8582590161381596,
         2.85614575271727,
         2.871818566916874,
         2.8709460281547385,
         2.8497271330405303,
         2.8613945007489767,
         2.8662919441341046,
         2.8475368583388097,
         2.856714956030811,
         2.830916102613523,
         2.8538220883326915,
         2.8878872250966907,
         2.843662260117289,
         2.842477465013922,
         2.852604982792153,
         2.8495175062554834,
         2.847266773216036,
         2.865477032714491,
         2.8417452800485132,
         2.839767374340665,
         2.861193389483064,
         2.856985978567118,
         2.850678110893,
         2.834929176428166,
         2.8616713204035644,
         2.86785397550385,
         2.8561030809881465,
         2.876416641454052,
         2.864285746207932,
         2.871240571543799,
         2.8569734730669616,
         2.85526899907208,
         2.856010892346253,
         2.875070501464262,
         2.8614890556157846,
         2.8500758930218417,
         2.866546713006326,
         2.8569288465115514,
         2.8420520853505087,
         2.858862825165787,
         2.871096656917562,
         2.8654403149184193,
         2.854760703695384,
         2.849054013388156,
         2.869814076842275,
         2.8668338561029327,
         2.863133373231169,
         2.8516515231170816,
         2.8477791979369145,
         2.862151334744273,
         2.849437404957639,
         2.867928930635253,
         2.8675007489248214,
         2.858862565730492,
         2.8655969511650543,
         2.861237232079192,
         2.8390862728661013,
         2.8622469620172177,
         2.867443289455424,
         2.8744296292038727,
         2.847285009858052,
         2.8777014697835597,
         2.8531295608329703,
         2.868691715575843,
         2.8619189826056783,
         2.8782091657198112,
         2.858992840773477,
         2.841830342646787,
         2.877127235962971,
         2.85498033854169,
         2.874807565806529,
         2.883540589295664,
         2.8660265971330627,
         2.850734426306445,
         2.852517071850935,
         2.8659419227733762,
         2.8516684677938446,
         2.857453149642688,
         2.8619319607630733,
         2.863988506703373,
         2.8672748180211745,
         2.8827602598147624
        ]
       ],
       "encoder": "json",
       "name": "ABC_GAN_3 Metrics",
       "version": 1
      }
     },
     "metadata": {
      "scrapbook": {
       "data": true,
       "display": false,
       "name": "ABC_GAN_3 Metrics"
      }
     },
     "output_type": "display_data"
    },
    {
     "name": "stdout",
     "output_type": "stream",
     "text": [
      "MSE\n",
      "0.0801734192093531\n"
     ]
    }
   ],
   "source": [
    "ABC_GAN3_metrics=ABC_train_test2.test_generator(gen3,test_data,prior_model,variance,bias,\"3\",device)\n",
    "sb.glue(\"ABC_GAN_3 Metrics\",ABC_GAN3_metrics)\n",
    "\n",
    "print(\"MSE\")\n",
    "print(mean(ABC_GAN3_metrics[0]))"
   ]
  },
  {
   "cell_type": "code",
   "execution_count": 18,
   "id": "c8e46b48",
   "metadata": {
    "execution": {
     "iopub.execute_input": "2022-06-11T15:17:46.536672Z",
     "iopub.status.busy": "2022-06-11T15:17:46.536154Z",
     "iopub.status.idle": "2022-06-11T15:17:46.867444Z",
     "shell.execute_reply": "2022-06-11T15:17:46.867664Z"
    },
    "id": "c8e46b48",
    "papermill": {
     "duration": 0.352043,
     "end_time": "2022-06-11T15:17:46.867790",
     "exception": false,
     "start_time": "2022-06-11T15:17:46.515747",
     "status": "completed"
    },
    "tags": []
   },
   "outputs": [
    {
     "data": {
      "image/png": "[encoded data removed]",
      "text/plain": [
       "<Figure size 432x288 with 1 Axes>"
      ]
     },
     "metadata": {
      "needs_background": "light"
     },
     "output_type": "display_data"
    },
    {
     "data": {
      "image/png": "[encoded data removed]",
      "text/plain": [
       "<Figure size 432x288 with 1 Axes>"
      ]
     },
     "metadata": {
      "needs_background": "light"
     },
     "output_type": "display_data"
    },
    {
     "data": {
      "image/png": "[encoded data removed]",
      "text/plain": [
       "<Figure size 432x288 with 1 Axes>"
      ]
     },
     "metadata": {
      "needs_background": "light"
     },
     "output_type": "display_data"
    },
    {
     "data": {
      "image/png": "[encoded data removed]",
      "text/plain": [
       "<Figure size 432x288 with 1 Axes>"
      ]
     },
     "metadata": {
      "needs_background": "light"
     },
     "output_type": "display_data"
    }
   ],
   "source": [
    "sanityChecks.discProbVsError(train_data,disc3,device)\n",
    "sanityChecks.discProbVsError(test_data,disc3,device)"
   ]
  },
  {
   "cell_type": "markdown",
   "id": "a5bd74c3",
   "metadata": {
    "id": "a5bd74c3",
    "papermill": {
     "duration": 0.020475,
     "end_time": "2022-06-11T15:17:46.908096",
     "exception": false,
     "start_time": "2022-06-11T15:17:46.887621",
     "status": "completed"
    },
    "tags": []
   },
   "source": [
    "## Skip Connection Model Analysis - ABC-GAN "
   ]
  },
  {
   "cell_type": "markdown",
   "id": "5744a8bf",
   "metadata": {
    "id": "5744a8bf",
    "papermill": {
     "duration": 0.019127,
     "end_time": "2022-06-11T15:17:46.946896",
     "exception": false,
     "start_time": "2022-06-11T15:17:46.927769",
     "status": "completed"
    },
    "tags": []
   },
   "source": [
    "### Weight Analysis \n",
    "\n",
    "Study the weights of the skip connection layer\n",
    "\n",
    "Equation of the skip connection is \n",
    "\n",
    "$output = y_{gan} * w + y_{abc} * (1-w)$"
   ]
  },
  {
   "cell_type": "code",
   "execution_count": 19,
   "id": "52c31dea",
   "metadata": {
    "execution": {
     "iopub.execute_input": "2022-06-11T15:17:46.987998Z",
     "iopub.status.busy": "2022-06-11T15:17:46.987618Z",
     "iopub.status.idle": "2022-06-11T15:17:46.991079Z",
     "shell.execute_reply": "2022-06-11T15:17:46.991328Z"
    },
    "id": "52c31dea",
    "papermill": {
     "duration": 0.025475,
     "end_time": "2022-06-11T15:17:46.991440",
     "exception": false,
     "start_time": "2022-06-11T15:17:46.965965",
     "status": "completed"
    },
    "tags": []
   },
   "outputs": [
    {
     "name": "stdout",
     "output_type": "stream",
     "text": [
      "Weight of the node at skip connection\n",
      "Parameter containing:\n",
      "tensor([[0.1173]], requires_grad=True)\n"
     ]
    },
    {
     "data": {
      "application/scrapbook.scrap.json+json": {
       "data": 0.11733822524547577,
       "encoder": "json",
       "name": "Skip Connection Weight",
       "version": 1
      }
     },
     "metadata": {
      "scrapbook": {
       "data": true,
       "display": false,
       "name": "Skip Connection Weight"
      }
     },
     "output_type": "display_data"
    }
   ],
   "source": [
    "print(\"Weight of the node at skip connection\")\n",
    "for name,param in gen3.named_parameters():\n",
    "    if(name == \"skipNode.weight\"):\n",
    "        print(param)\n",
    "        sb.glue(\"Skip Connection Weight\",param.item())"
   ]
  }
 ],
 "metadata": {
  "colab": {
   "collapsed_sections": [],
   "name": "ABC_GAN_Model-Catboost_Pre-gen.ipynb",
   "provenance": []
  },
  "interpreter": {
   "hash": "31f2aee4e71d21fbe5cf8b01ff0e069b9275f58929596ceb00d14d90e3e16cd6"
  },
  "kernelspec": {
   "display_name": "Python 3 (ipykernel)",
   "language": "python",
   "name": "python3"
  },
  "language_info": {
   "codemirror_mode": {
    "name": "ipython",
    "version": 3
   },
   "file_extension": ".py",
   "mimetype": "text/x-python",
   "name": "python",
   "nbconvert_exporter": "python",
   "pygments_lexer": "ipython3",
   "version": "3.8.11"
  },
  "papermill": {
   "default_parameters": {},
   "duration": 354.067519,
   "end_time": "2022-06-11T15:17:47.318888",
   "environment_variables": {},
   "exception": null,
   "input_path": "ABC_GAN-Catboost.ipynb",
   "output_path": "./ABC_GAN_Catboost/ABC-GAN_output_1_5.ipynb",
   "parameters": {
    "bias": 0.1,
    "variance": 0.01
   },
   "start_time": "2022-06-11T15:11:53.251369",
   "version": "2.3.3"
  }
 },
 "nbformat": 4,
 "nbformat_minor": 5
}