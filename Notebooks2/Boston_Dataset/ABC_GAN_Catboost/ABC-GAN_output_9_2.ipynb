{
 "cells": [
  {
   "cell_type": "markdown",
   "id": "622780e6",
   "metadata": {
    "id": "622780e6",
    "papermill": {
     "duration": 0.034955,
     "end_time": "2022-06-12T07:28:36.392038",
     "exception": false,
     "start_time": "2022-06-12T07:28:36.357083",
     "status": "completed"
    },
    "tags": []
   },
   "source": [
    "## Import Libraries "
   ]
  },
  {
   "cell_type": "code",
   "execution_count": 1,
   "id": "a62397e3",
   "metadata": {
    "execution": {
     "iopub.execute_input": "2022-06-12T07:28:36.427273Z",
     "iopub.status.busy": "2022-06-12T07:28:36.426772Z",
     "iopub.status.idle": "2022-06-12T07:28:36.429191Z",
     "shell.execute_reply": "2022-06-12T07:28:36.429514Z"
    },
    "id": "a62397e3",
    "papermill": {
     "duration": 0.021529,
     "end_time": "2022-06-12T07:28:36.429751",
     "exception": false,
     "start_time": "2022-06-12T07:28:36.408222",
     "status": "completed"
    },
    "tags": []
   },
   "outputs": [],
   "source": [
    "import warnings\n",
    "import sys\n",
    "sys.path.insert(0, '../../src')\n",
    "warnings.filterwarnings('ignore')"
   ]
  },
  {
   "cell_type": "code",
   "execution_count": 2,
   "id": "d6a4e155",
   "metadata": {
    "execution": {
     "iopub.execute_input": "2022-06-12T07:28:36.450501Z",
     "iopub.status.busy": "2022-06-12T07:28:36.450036Z",
     "iopub.status.idle": "2022-06-12T07:28:38.192131Z",
     "shell.execute_reply": "2022-06-12T07:28:38.192390Z"
    },
    "id": "d6a4e155",
    "papermill": {
     "duration": 1.753123,
     "end_time": "2022-06-12T07:28:38.192513",
     "exception": false,
     "start_time": "2022-06-12T07:28:36.439390",
     "status": "completed"
    },
    "tags": []
   },
   "outputs": [],
   "source": [
    "import ABC_train_test2\n",
    "import bostonDataset\n",
    "import network\n",
    "import dataset\n",
    "import sanityChecks\n",
    "import torch \n",
    "import scrapbook as sb\n",
    "from statistics import mean \n",
    "import catboost as ctb \n",
    "from sklearn.model_selection import train_test_split\n",
    "from sklearn.metrics import mean_squared_error,mean_absolute_error\n",
    "import numpy as np"
   ]
  },
  {
   "cell_type": "markdown",
   "id": "2fa5b0f7",
   "metadata": {
    "id": "2fa5b0f7",
    "papermill": {
     "duration": 0.006844,
     "end_time": "2022-06-12T07:28:38.206549",
     "exception": false,
     "start_time": "2022-06-12T07:28:38.199705",
     "status": "completed"
    },
    "tags": []
   },
   "source": [
    "## Parameters "
   ]
  },
  {
   "cell_type": "code",
   "execution_count": 3,
   "id": "783186fb",
   "metadata": {
    "execution": {
     "iopub.execute_input": "2022-06-12T07:28:38.222520Z",
     "iopub.status.busy": "2022-06-12T07:28:38.222092Z",
     "iopub.status.idle": "2022-06-12T07:28:38.223199Z",
     "shell.execute_reply": "2022-06-12T07:28:38.223490Z"
    },
    "id": "783186fb",
    "papermill": {
     "duration": 0.010209,
     "end_time": "2022-06-12T07:28:38.223599",
     "exception": false,
     "start_time": "2022-06-12T07:28:38.213390",
     "status": "completed"
    },
    "tags": [
     "parameters"
    ]
   },
   "outputs": [],
   "source": [
    "variance = 1\n",
    "bias = 1 "
   ]
  },
  {
   "cell_type": "code",
   "execution_count": 4,
   "id": "b450b32e",
   "metadata": {
    "execution": {
     "iopub.execute_input": "2022-06-12T07:28:38.239435Z",
     "iopub.status.busy": "2022-06-12T07:28:38.239070Z",
     "iopub.status.idle": "2022-06-12T07:28:38.240371Z",
     "shell.execute_reply": "2022-06-12T07:28:38.240636Z"
    },
    "papermill": {
     "duration": 0.010079,
     "end_time": "2022-06-12T07:28:38.240744",
     "exception": false,
     "start_time": "2022-06-12T07:28:38.230665",
     "status": "completed"
    },
    "tags": [
     "injected-parameters"
    ]
   },
   "outputs": [],
   "source": [
    "# Parameters\n",
    "variance = 0.01\n",
    "bias = 1\n"
   ]
  },
  {
   "cell_type": "markdown",
   "id": "391cdbfd",
   "metadata": {
    "id": "391cdbfd",
    "papermill": {
     "duration": 0.006894,
     "end_time": "2022-06-12T07:28:38.254667",
     "exception": false,
     "start_time": "2022-06-12T07:28:38.247773",
     "status": "completed"
    },
    "tags": []
   },
   "source": [
    "## Dataset \n"
   ]
  },
  {
   "cell_type": "code",
   "execution_count": 5,
   "id": "5b51f161",
   "metadata": {
    "execution": {
     "iopub.execute_input": "2022-06-12T07:28:38.270402Z",
     "iopub.status.busy": "2022-06-12T07:28:38.270052Z",
     "iopub.status.idle": "2022-06-12T07:28:38.271263Z",
     "shell.execute_reply": "2022-06-12T07:28:38.271556Z"
    },
    "id": "5b51f161",
    "papermill": {
     "duration": 0.010027,
     "end_time": "2022-06-12T07:28:38.271660",
     "exception": false,
     "start_time": "2022-06-12T07:28:38.261633",
     "status": "completed"
    },
    "tags": []
   },
   "outputs": [],
   "source": [
    "#Parameters \n",
    "n_features = 13\n",
    "n_samples= 506\n",
    "n_target = 1 "
   ]
  },
  {
   "cell_type": "code",
   "execution_count": 6,
   "id": "5d6eced4",
   "metadata": {
    "execution": {
     "iopub.execute_input": "2022-06-12T07:28:38.287476Z",
     "iopub.status.busy": "2022-06-12T07:28:38.287105Z",
     "iopub.status.idle": "2022-06-12T07:28:38.298008Z",
     "shell.execute_reply": "2022-06-12T07:28:38.298319Z"
    },
    "id": "5d6eced4",
    "papermill": {
     "duration": 0.019775,
     "end_time": "2022-06-12T07:28:38.298435",
     "exception": false,
     "start_time": "2022-06-12T07:28:38.278660",
     "status": "completed"
    },
    "tags": []
   },
   "outputs": [
    {
     "name": "stdout",
     "output_type": "stream",
     "text": [
      "         X1        X2        X3        X4        X5        X6        X7  \\\n",
      "0 -0.419782  0.284830 -1.287909 -0.272599 -0.144217  0.413672 -0.120013   \n",
      "1 -0.417339 -0.487722 -0.593381 -0.272599 -0.740262  0.194274  0.367166   \n",
      "2 -0.417342 -0.487722 -0.593381 -0.272599 -0.740262  1.282714 -0.265812   \n",
      "3 -0.416750 -0.487722 -1.306878 -0.272599 -0.835284  1.016303 -0.809889   \n",
      "4 -0.412482 -0.487722 -1.306878 -0.272599 -0.835284  1.228577 -0.511180   \n",
      "\n",
      "         X8        X9       X10       X11       X12       X13         Y  \n",
      "0  0.140214 -0.982843 -0.666608 -1.459000  0.441052 -1.075562  0.159686  \n",
      "1  0.557160 -0.867883 -0.987329 -0.303094  0.441052 -0.492439 -0.101524  \n",
      "2  0.557160 -0.867883 -0.987329 -0.303094  0.396427 -1.208727  1.324247  \n",
      "3  1.077737 -0.752922 -1.106115  0.113032  0.416163 -1.361517  1.182758  \n",
      "4  1.077737 -0.752922 -1.106115  0.113032  0.441052 -1.026501  1.487503  \n"
     ]
    }
   ],
   "source": [
    "X,Y = bostonDataset.boston_data()"
   ]
  },
  {
   "cell_type": "code",
   "execution_count": 7,
   "id": "fe007438",
   "metadata": {
    "execution": {
     "iopub.execute_input": "2022-06-12T07:28:38.315904Z",
     "iopub.status.busy": "2022-06-12T07:28:38.315550Z",
     "iopub.status.idle": "2022-06-12T07:28:38.316823Z",
     "shell.execute_reply": "2022-06-12T07:28:38.317055Z"
    },
    "id": "fe007438",
    "papermill": {
     "duration": 0.011262,
     "end_time": "2022-06-12T07:28:38.317164",
     "exception": false,
     "start_time": "2022-06-12T07:28:38.305902",
     "status": "completed"
    },
    "tags": []
   },
   "outputs": [],
   "source": [
    "#Train test split for dataset \n",
    "X_train,X_test,Y_train,Y_test = train_test_split(X,Y,test_size = 0.2)\n",
    "train_data = dataset.CustomDataset(X_train,Y_train)\n",
    "test_data = dataset.CustomDataset(X_test,Y_test)\n"
   ]
  },
  {
   "cell_type": "markdown",
   "id": "a9a1af34",
   "metadata": {
    "id": "a9a1af34",
    "papermill": {
     "duration": 0.007174,
     "end_time": "2022-06-12T07:28:38.333030",
     "exception": false,
     "start_time": "2022-06-12T07:28:38.325856",
     "status": "completed"
    },
    "tags": []
   },
   "source": [
    "## Training Parameters "
   ]
  },
  {
   "cell_type": "code",
   "execution_count": 8,
   "id": "952b7fc8",
   "metadata": {
    "execution": {
     "iopub.execute_input": "2022-06-12T07:28:38.349805Z",
     "iopub.status.busy": "2022-06-12T07:28:38.349426Z",
     "iopub.status.idle": "2022-06-12T07:28:38.350652Z",
     "shell.execute_reply": "2022-06-12T07:28:38.350891Z"
    },
    "id": "952b7fc8",
    "papermill": {
     "duration": 0.010719,
     "end_time": "2022-06-12T07:28:38.350997",
     "exception": false,
     "start_time": "2022-06-12T07:28:38.340278",
     "status": "completed"
    },
    "tags": []
   },
   "outputs": [],
   "source": [
    "batch_size = 32\n",
    "n_epochs = 1000\n",
    "#Select the device \n",
    "device = torch.device('cuda' if torch.cuda.is_available() else 'cpu')"
   ]
  },
  {
   "cell_type": "markdown",
   "id": "a95e1600",
   "metadata": {
    "id": "a95e1600",
    "papermill": {
     "duration": 0.007203,
     "end_time": "2022-06-12T07:28:38.365505",
     "exception": false,
     "start_time": "2022-06-12T07:28:38.358302",
     "status": "completed"
    },
    "tags": []
   },
   "source": [
    "# ABC Pre-generator Model \n",
    "\n",
    "1. The catboost model is used as a pre-generator model for the ABC-GAN. \n",
    "2. The model is first trained on the entire dataset \n",
    "3. It generats X,Y pairs and we add some Gaussian noise with mean 0 and variance 1 to it which is then feed as input to the generator.\n"
   ]
  },
  {
   "cell_type": "code",
   "execution_count": 9,
   "id": "ff8ce7bd",
   "metadata": {
    "execution": {
     "iopub.execute_input": "2022-06-12T07:28:38.384871Z",
     "iopub.status.busy": "2022-06-12T07:28:38.384467Z",
     "iopub.status.idle": "2022-06-12T07:28:39.347180Z",
     "shell.execute_reply": "2022-06-12T07:28:39.347541Z"
    },
    "id": "ff8ce7bd",
    "papermill": {
     "duration": 0.974914,
     "end_time": "2022-06-12T07:28:39.347668",
     "exception": false,
     "start_time": "2022-06-12T07:28:38.372754",
     "status": "completed"
    },
    "tags": []
   },
   "outputs": [
    {
     "name": "stdout",
     "output_type": "stream",
     "text": [
      "Learning rate set to 0.033215\n",
      "0:\tlearn: 1.0161312\ttotal: 59.8ms\tremaining: 59.7s\n",
      "1:\tlearn: 0.9971555\ttotal: 60.7ms\tremaining: 30.3s\n",
      "2:\tlearn: 0.9777786\ttotal: 61.7ms\tremaining: 20.5s\n",
      "3:\tlearn: 0.9613363\ttotal: 62.8ms\tremaining: 15.6s\n",
      "4:\tlearn: 0.9438325\ttotal: 63.7ms\tremaining: 12.7s\n",
      "5:\tlearn: 0.9265206\ttotal: 64.6ms\tremaining: 10.7s\n",
      "6:\tlearn: 0.9111277\ttotal: 65.6ms\tremaining: 9.3s\n",
      "7:\tlearn: 0.8941910\ttotal: 66.6ms\tremaining: 8.25s\n",
      "8:\tlearn: 0.8778500\ttotal: 67.4ms\tremaining: 7.42s\n",
      "9:\tlearn: 0.8613187\ttotal: 68.3ms\tremaining: 6.76s\n",
      "10:\tlearn: 0.8457965\ttotal: 69.1ms\tremaining: 6.22s\n",
      "11:\tlearn: 0.8312653\ttotal: 69.9ms\tremaining: 5.76s\n",
      "12:\tlearn: 0.8162415\ttotal: 70.6ms\tremaining: 5.36s\n",
      "13:\tlearn: 0.8006973\ttotal: 71.5ms\tremaining: 5.03s\n",
      "14:\tlearn: 0.7871774\ttotal: 72.3ms\tremaining: 4.74s\n",
      "15:\tlearn: 0.7721535\ttotal: 73ms\tremaining: 4.49s\n",
      "16:\tlearn: 0.7586600\ttotal: 73.8ms\tremaining: 4.27s\n",
      "17:\tlearn: 0.7459278\ttotal: 74.7ms\tremaining: 4.07s\n",
      "18:\tlearn: 0.7331878\ttotal: 75.5ms\tremaining: 3.9s\n",
      "19:\tlearn: 0.7201715\ttotal: 76.2ms\tremaining: 3.73s\n",
      "20:\tlearn: 0.7060299\ttotal: 77.1ms\tremaining: 3.59s\n",
      "21:\tlearn: 0.6950732\ttotal: 77.8ms\tremaining: 3.46s\n",
      "22:\tlearn: 0.6847390\ttotal: 78.8ms\tremaining: 3.35s\n",
      "23:\tlearn: 0.6750513\ttotal: 79.5ms\tremaining: 3.23s\n",
      "24:\tlearn: 0.6644667\ttotal: 80.3ms\tremaining: 3.13s\n",
      "25:\tlearn: 0.6533834\ttotal: 81.1ms\tremaining: 3.04s\n",
      "26:\tlearn: 0.6438181\ttotal: 81.8ms\tremaining: 2.95s\n",
      "27:\tlearn: 0.6352520\ttotal: 82.6ms\tremaining: 2.87s\n",
      "28:\tlearn: 0.6256177\ttotal: 83.4ms\tremaining: 2.79s\n",
      "29:\tlearn: 0.6144090\ttotal: 84.1ms\tremaining: 2.72s\n",
      "30:\tlearn: 0.6044636\ttotal: 85ms\tremaining: 2.66s\n",
      "31:\tlearn: 0.5956210\ttotal: 85.9ms\tremaining: 2.6s\n",
      "32:\tlearn: 0.5884616\ttotal: 86.6ms\tremaining: 2.54s\n",
      "33:\tlearn: 0.5809290\ttotal: 87.4ms\tremaining: 2.48s\n",
      "34:\tlearn: 0.5734357\ttotal: 88.2ms\tremaining: 2.43s\n",
      "35:\tlearn: 0.5659686\ttotal: 89ms\tremaining: 2.38s\n",
      "36:\tlearn: 0.5597375\ttotal: 89.8ms\tremaining: 2.34s\n",
      "37:\tlearn: 0.5525414\ttotal: 90.8ms\tremaining: 2.3s\n",
      "38:\tlearn: 0.5455479\ttotal: 91.6ms\tremaining: 2.26s\n",
      "39:\tlearn: 0.5375109\ttotal: 92.3ms\tremaining: 2.21s\n",
      "40:\tlearn: 0.5318686\ttotal: 93.7ms\tremaining: 2.19s\n",
      "41:\tlearn: 0.5249206\ttotal: 94.5ms\tremaining: 2.15s\n",
      "42:\tlearn: 0.5206025\ttotal: 95ms\tremaining: 2.11s\n",
      "43:\tlearn: 0.5130861\ttotal: 95.8ms\tremaining: 2.08s\n",
      "44:\tlearn: 0.5071005\ttotal: 96.7ms\tremaining: 2.05s\n",
      "45:\tlearn: 0.5025017\ttotal: 97.7ms\tremaining: 2.03s\n",
      "46:\tlearn: 0.4970393\ttotal: 98.6ms\tremaining: 2s\n",
      "47:\tlearn: 0.4920534\ttotal: 99.5ms\tremaining: 1.97s\n",
      "48:\tlearn: 0.4859426\ttotal: 100ms\tremaining: 1.95s\n",
      "49:\tlearn: 0.4800212\ttotal: 101ms\tremaining: 1.92s\n",
      "50:\tlearn: 0.4730150\ttotal: 102ms\tremaining: 1.9s\n",
      "51:\tlearn: 0.4676650\ttotal: 103ms\tremaining: 1.87s\n",
      "52:\tlearn: 0.4622591\ttotal: 103ms\tremaining: 1.85s\n",
      "53:\tlearn: 0.4563545\ttotal: 104ms\tremaining: 1.83s\n",
      "54:\tlearn: 0.4514099\ttotal: 105ms\tremaining: 1.8s\n",
      "55:\tlearn: 0.4477129\ttotal: 106ms\tremaining: 1.78s\n"
     ]
    },
    {
     "name": "stdout",
     "output_type": "stream",
     "text": [
      "56:\tlearn: 0.4430851\ttotal: 107ms\tremaining: 1.77s\n",
      "57:\tlearn: 0.4392496\ttotal: 108ms\tremaining: 1.75s\n",
      "58:\tlearn: 0.4342860\ttotal: 109ms\tremaining: 1.74s\n",
      "59:\tlearn: 0.4309510\ttotal: 110ms\tremaining: 1.72s\n",
      "60:\tlearn: 0.4268535\ttotal: 110ms\tremaining: 1.7s\n",
      "61:\tlearn: 0.4223859\ttotal: 111ms\tremaining: 1.68s\n",
      "62:\tlearn: 0.4183551\ttotal: 112ms\tremaining: 1.67s\n",
      "63:\tlearn: 0.4145530\ttotal: 113ms\tremaining: 1.65s\n",
      "64:\tlearn: 0.4108362\ttotal: 114ms\tremaining: 1.64s\n",
      "65:\tlearn: 0.4073172\ttotal: 114ms\tremaining: 1.62s\n",
      "66:\tlearn: 0.4038595\ttotal: 115ms\tremaining: 1.61s\n",
      "67:\tlearn: 0.4003961\ttotal: 116ms\tremaining: 1.59s\n",
      "68:\tlearn: 0.3976533\ttotal: 117ms\tremaining: 1.58s\n",
      "69:\tlearn: 0.3932948\ttotal: 118ms\tremaining: 1.57s\n",
      "70:\tlearn: 0.3902712\ttotal: 119ms\tremaining: 1.55s\n",
      "71:\tlearn: 0.3868547\ttotal: 120ms\tremaining: 1.54s\n",
      "72:\tlearn: 0.3839780\ttotal: 120ms\tremaining: 1.53s\n",
      "73:\tlearn: 0.3810719\ttotal: 121ms\tremaining: 1.51s\n",
      "74:\tlearn: 0.3779694\ttotal: 122ms\tremaining: 1.5s\n",
      "75:\tlearn: 0.3748915\ttotal: 123ms\tremaining: 1.49s\n",
      "76:\tlearn: 0.3707218\ttotal: 124ms\tremaining: 1.48s\n",
      "77:\tlearn: 0.3675832\ttotal: 124ms\tremaining: 1.47s\n",
      "78:\tlearn: 0.3650522\ttotal: 125ms\tremaining: 1.46s\n",
      "79:\tlearn: 0.3628751\ttotal: 126ms\tremaining: 1.45s\n",
      "80:\tlearn: 0.3597506\ttotal: 127ms\tremaining: 1.44s\n",
      "81:\tlearn: 0.3568503\ttotal: 127ms\tremaining: 1.43s\n",
      "82:\tlearn: 0.3546118\ttotal: 128ms\tremaining: 1.42s\n",
      "83:\tlearn: 0.3522227\ttotal: 129ms\tremaining: 1.41s\n",
      "84:\tlearn: 0.3492970\ttotal: 130ms\tremaining: 1.4s\n",
      "85:\tlearn: 0.3466636\ttotal: 131ms\tremaining: 1.39s\n",
      "86:\tlearn: 0.3444871\ttotal: 131ms\tremaining: 1.38s\n",
      "87:\tlearn: 0.3429327\ttotal: 132ms\tremaining: 1.37s\n",
      "88:\tlearn: 0.3400567\ttotal: 133ms\tremaining: 1.36s\n",
      "89:\tlearn: 0.3378973\ttotal: 134ms\tremaining: 1.35s\n",
      "90:\tlearn: 0.3357573\ttotal: 135ms\tremaining: 1.34s\n",
      "91:\tlearn: 0.3338823\ttotal: 135ms\tremaining: 1.33s\n",
      "92:\tlearn: 0.3318534\ttotal: 136ms\tremaining: 1.33s\n",
      "93:\tlearn: 0.3298494\ttotal: 137ms\tremaining: 1.32s\n",
      "94:\tlearn: 0.3279109\ttotal: 138ms\tremaining: 1.31s\n",
      "95:\tlearn: 0.3260133\ttotal: 138ms\tremaining: 1.3s\n",
      "96:\tlearn: 0.3243915\ttotal: 139ms\tremaining: 1.29s\n",
      "97:\tlearn: 0.3223572\ttotal: 140ms\tremaining: 1.29s\n",
      "98:\tlearn: 0.3207966\ttotal: 141ms\tremaining: 1.28s\n",
      "99:\tlearn: 0.3194786\ttotal: 142ms\tremaining: 1.27s\n",
      "100:\tlearn: 0.3180950\ttotal: 142ms\tremaining: 1.27s\n",
      "101:\tlearn: 0.3165734\ttotal: 143ms\tremaining: 1.26s\n",
      "102:\tlearn: 0.3150320\ttotal: 144ms\tremaining: 1.25s\n",
      "103:\tlearn: 0.3138524\ttotal: 145ms\tremaining: 1.25s\n",
      "104:\tlearn: 0.3125166\ttotal: 145ms\tremaining: 1.24s\n",
      "105:\tlearn: 0.3107634\ttotal: 146ms\tremaining: 1.23s\n",
      "106:\tlearn: 0.3090102\ttotal: 147ms\tremaining: 1.23s\n",
      "107:\tlearn: 0.3070515\ttotal: 148ms\tremaining: 1.22s\n",
      "108:\tlearn: 0.3058167\ttotal: 149ms\tremaining: 1.22s\n",
      "109:\tlearn: 0.3039040\ttotal: 150ms\tremaining: 1.21s\n",
      "110:\tlearn: 0.3024135\ttotal: 150ms\tremaining: 1.2s\n",
      "111:\tlearn: 0.3007457\ttotal: 152ms\tremaining: 1.21s\n",
      "112:\tlearn: 0.2990968\ttotal: 153ms\tremaining: 1.2s\n",
      "113:\tlearn: 0.2975477\ttotal: 154ms\tremaining: 1.19s\n",
      "114:\tlearn: 0.2963944\ttotal: 154ms\tremaining: 1.19s\n",
      "115:\tlearn: 0.2951268\ttotal: 155ms\tremaining: 1.18s\n",
      "116:\tlearn: 0.2936393\ttotal: 156ms\tremaining: 1.18s\n",
      "117:\tlearn: 0.2923723\ttotal: 157ms\tremaining: 1.17s\n",
      "118:\tlearn: 0.2908699\ttotal: 158ms\tremaining: 1.17s\n",
      "119:\tlearn: 0.2899270\ttotal: 159ms\tremaining: 1.16s\n",
      "120:\tlearn: 0.2885990\ttotal: 159ms\tremaining: 1.16s\n",
      "121:\tlearn: 0.2880088\ttotal: 160ms\tremaining: 1.15s\n",
      "122:\tlearn: 0.2867017\ttotal: 161ms\tremaining: 1.15s\n",
      "123:\tlearn: 0.2860042\ttotal: 162ms\tremaining: 1.14s\n",
      "124:\tlearn: 0.2850373\ttotal: 163ms\tremaining: 1.14s\n",
      "125:\tlearn: 0.2837180\ttotal: 164ms\tremaining: 1.13s\n",
      "126:\tlearn: 0.2819726\ttotal: 164ms\tremaining: 1.13s\n",
      "127:\tlearn: 0.2810509\ttotal: 165ms\tremaining: 1.12s\n",
      "128:\tlearn: 0.2798635\ttotal: 166ms\tremaining: 1.12s\n",
      "129:\tlearn: 0.2785905\ttotal: 167ms\tremaining: 1.12s\n",
      "130:\tlearn: 0.2777427\ttotal: 168ms\tremaining: 1.11s\n",
      "131:\tlearn: 0.2768363\ttotal: 169ms\tremaining: 1.11s\n",
      "132:\tlearn: 0.2756691\ttotal: 169ms\tremaining: 1.1s\n",
      "133:\tlearn: 0.2749573\ttotal: 170ms\tremaining: 1.1s\n",
      "134:\tlearn: 0.2742051\ttotal: 171ms\tremaining: 1.1s\n",
      "135:\tlearn: 0.2733563\ttotal: 172ms\tremaining: 1.09s\n",
      "136:\tlearn: 0.2726825\ttotal: 173ms\tremaining: 1.09s\n",
      "137:\tlearn: 0.2717497\ttotal: 174ms\tremaining: 1.08s\n",
      "138:\tlearn: 0.2705731\ttotal: 174ms\tremaining: 1.08s\n",
      "139:\tlearn: 0.2697305\ttotal: 175ms\tremaining: 1.08s\n",
      "140:\tlearn: 0.2688761\ttotal: 176ms\tremaining: 1.07s\n",
      "141:\tlearn: 0.2681402\ttotal: 177ms\tremaining: 1.07s\n",
      "142:\tlearn: 0.2672996\ttotal: 178ms\tremaining: 1.06s\n",
      "143:\tlearn: 0.2662873\ttotal: 178ms\tremaining: 1.06s\n",
      "144:\tlearn: 0.2652258\ttotal: 179ms\tremaining: 1.06s\n",
      "145:\tlearn: 0.2646489\ttotal: 180ms\tremaining: 1.05s\n",
      "146:\tlearn: 0.2635521\ttotal: 181ms\tremaining: 1.05s\n",
      "147:\tlearn: 0.2629315\ttotal: 182ms\tremaining: 1.04s\n",
      "148:\tlearn: 0.2620061\ttotal: 182ms\tremaining: 1.04s\n",
      "149:\tlearn: 0.2612401\ttotal: 183ms\tremaining: 1.04s\n",
      "150:\tlearn: 0.2605360\ttotal: 184ms\tremaining: 1.03s\n",
      "151:\tlearn: 0.2598956\ttotal: 185ms\tremaining: 1.03s\n",
      "152:\tlearn: 0.2592646\ttotal: 186ms\tremaining: 1.03s\n",
      "153:\tlearn: 0.2587299\ttotal: 186ms\tremaining: 1.02s\n",
      "154:\tlearn: 0.2581132\ttotal: 187ms\tremaining: 1.02s\n",
      "155:\tlearn: 0.2569824\ttotal: 188ms\tremaining: 1.02s\n",
      "156:\tlearn: 0.2560962\ttotal: 189ms\tremaining: 1.01s\n",
      "157:\tlearn: 0.2555059\ttotal: 190ms\tremaining: 1.01s\n",
      "158:\tlearn: 0.2546852\ttotal: 190ms\tremaining: 1.01s\n",
      "159:\tlearn: 0.2539553\ttotal: 191ms\tremaining: 1s\n"
     ]
    },
    {
     "name": "stdout",
     "output_type": "stream",
     "text": [
      "160:\tlearn: 0.2530251\ttotal: 192ms\tremaining: 1s\n",
      "161:\tlearn: 0.2521377\ttotal: 193ms\tremaining: 999ms\n",
      "162:\tlearn: 0.2514095\ttotal: 194ms\tremaining: 997ms\n",
      "163:\tlearn: 0.2507238\ttotal: 195ms\tremaining: 993ms\n",
      "164:\tlearn: 0.2500354\ttotal: 196ms\tremaining: 990ms\n",
      "165:\tlearn: 0.2492524\ttotal: 196ms\tremaining: 987ms\n",
      "166:\tlearn: 0.2480861\ttotal: 197ms\tremaining: 983ms\n",
      "167:\tlearn: 0.2472723\ttotal: 198ms\tremaining: 980ms\n",
      "168:\tlearn: 0.2467194\ttotal: 199ms\tremaining: 977ms\n",
      "169:\tlearn: 0.2460586\ttotal: 199ms\tremaining: 974ms\n",
      "170:\tlearn: 0.2456486\ttotal: 200ms\tremaining: 971ms\n",
      "171:\tlearn: 0.2450144\ttotal: 201ms\tremaining: 968ms\n",
      "172:\tlearn: 0.2442437\ttotal: 202ms\tremaining: 965ms\n",
      "173:\tlearn: 0.2439415\ttotal: 203ms\tremaining: 962ms\n",
      "174:\tlearn: 0.2432248\ttotal: 203ms\tremaining: 959ms\n",
      "175:\tlearn: 0.2423625\ttotal: 204ms\tremaining: 957ms\n",
      "176:\tlearn: 0.2414478\ttotal: 205ms\tremaining: 954ms\n",
      "177:\tlearn: 0.2405974\ttotal: 206ms\tremaining: 952ms\n",
      "178:\tlearn: 0.2398824\ttotal: 207ms\tremaining: 949ms\n",
      "179:\tlearn: 0.2389547\ttotal: 208ms\tremaining: 946ms\n",
      "180:\tlearn: 0.2382112\ttotal: 209ms\tremaining: 944ms\n",
      "181:\tlearn: 0.2373591\ttotal: 209ms\tremaining: 941ms\n",
      "182:\tlearn: 0.2366545\ttotal: 210ms\tremaining: 938ms\n",
      "183:\tlearn: 0.2357553\ttotal: 211ms\tremaining: 936ms\n",
      "184:\tlearn: 0.2346760\ttotal: 212ms\tremaining: 933ms\n",
      "185:\tlearn: 0.2341922\ttotal: 213ms\tremaining: 931ms\n",
      "186:\tlearn: 0.2332225\ttotal: 214ms\tremaining: 929ms\n",
      "187:\tlearn: 0.2329565\ttotal: 214ms\tremaining: 926ms\n",
      "188:\tlearn: 0.2323051\ttotal: 215ms\tremaining: 924ms\n",
      "189:\tlearn: 0.2316733\ttotal: 216ms\tremaining: 921ms\n",
      "190:\tlearn: 0.2308576\ttotal: 217ms\tremaining: 918ms\n",
      "191:\tlearn: 0.2300349\ttotal: 218ms\tremaining: 916ms\n",
      "192:\tlearn: 0.2293550\ttotal: 219ms\tremaining: 914ms\n",
      "193:\tlearn: 0.2288730\ttotal: 219ms\tremaining: 911ms\n",
      "194:\tlearn: 0.2280360\ttotal: 220ms\tremaining: 909ms\n",
      "195:\tlearn: 0.2274589\ttotal: 221ms\tremaining: 907ms\n",
      "196:\tlearn: 0.2272039\ttotal: 222ms\tremaining: 905ms\n",
      "197:\tlearn: 0.2265818\ttotal: 223ms\tremaining: 903ms\n",
      "198:\tlearn: 0.2259803\ttotal: 224ms\tremaining: 900ms\n",
      "199:\tlearn: 0.2252277\ttotal: 224ms\tremaining: 898ms\n",
      "200:\tlearn: 0.2246393\ttotal: 225ms\tremaining: 895ms\n",
      "201:\tlearn: 0.2239808\ttotal: 226ms\tremaining: 893ms\n",
      "202:\tlearn: 0.2232111\ttotal: 227ms\tremaining: 890ms\n",
      "203:\tlearn: 0.2223948\ttotal: 228ms\tremaining: 888ms\n",
      "204:\tlearn: 0.2219422\ttotal: 228ms\tremaining: 886ms\n",
      "205:\tlearn: 0.2216520\ttotal: 229ms\tremaining: 883ms\n",
      "206:\tlearn: 0.2210664\ttotal: 230ms\tremaining: 881ms\n",
      "207:\tlearn: 0.2204536\ttotal: 231ms\tremaining: 879ms\n",
      "208:\tlearn: 0.2200213\ttotal: 232ms\tremaining: 877ms\n",
      "209:\tlearn: 0.2195745\ttotal: 233ms\tremaining: 875ms\n",
      "210:\tlearn: 0.2189126\ttotal: 233ms\tremaining: 873ms\n",
      "211:\tlearn: 0.2184001\ttotal: 234ms\tremaining: 870ms\n",
      "212:\tlearn: 0.2178322\ttotal: 235ms\tremaining: 868ms\n",
      "213:\tlearn: 0.2172193\ttotal: 236ms\tremaining: 866ms\n",
      "214:\tlearn: 0.2166129\ttotal: 237ms\tremaining: 864ms\n",
      "215:\tlearn: 0.2160875\ttotal: 237ms\tremaining: 862ms\n",
      "216:\tlearn: 0.2155820\ttotal: 238ms\tremaining: 860ms\n",
      "217:\tlearn: 0.2149793\ttotal: 239ms\tremaining: 858ms\n",
      "218:\tlearn: 0.2143284\ttotal: 240ms\tremaining: 856ms\n",
      "219:\tlearn: 0.2138945\ttotal: 241ms\tremaining: 854ms\n",
      "220:\tlearn: 0.2133760\ttotal: 242ms\tremaining: 851ms\n",
      "221:\tlearn: 0.2127414\ttotal: 242ms\tremaining: 849ms\n",
      "222:\tlearn: 0.2121848\ttotal: 243ms\tremaining: 847ms\n",
      "223:\tlearn: 0.2116767\ttotal: 244ms\tremaining: 845ms\n",
      "224:\tlearn: 0.2112947\ttotal: 245ms\tremaining: 843ms\n",
      "225:\tlearn: 0.2105319\ttotal: 245ms\tremaining: 841ms\n",
      "226:\tlearn: 0.2099347\ttotal: 246ms\tremaining: 838ms\n",
      "227:\tlearn: 0.2091744\ttotal: 247ms\tremaining: 837ms\n",
      "228:\tlearn: 0.2085647\ttotal: 248ms\tremaining: 835ms\n",
      "229:\tlearn: 0.2080533\ttotal: 249ms\tremaining: 833ms\n",
      "230:\tlearn: 0.2077757\ttotal: 249ms\tremaining: 830ms\n",
      "231:\tlearn: 0.2073485\ttotal: 250ms\tremaining: 828ms\n",
      "232:\tlearn: 0.2068116\ttotal: 251ms\tremaining: 826ms\n",
      "233:\tlearn: 0.2062144\ttotal: 252ms\tremaining: 825ms\n",
      "234:\tlearn: 0.2056629\ttotal: 253ms\tremaining: 823ms\n",
      "235:\tlearn: 0.2052083\ttotal: 254ms\tremaining: 821ms\n",
      "236:\tlearn: 0.2047204\ttotal: 254ms\tremaining: 819ms\n",
      "237:\tlearn: 0.2042570\ttotal: 255ms\tremaining: 817ms\n",
      "238:\tlearn: 0.2036843\ttotal: 256ms\tremaining: 815ms\n",
      "239:\tlearn: 0.2032961\ttotal: 257ms\tremaining: 813ms\n",
      "240:\tlearn: 0.2025549\ttotal: 258ms\tremaining: 812ms\n",
      "241:\tlearn: 0.2020584\ttotal: 259ms\tremaining: 810ms\n",
      "242:\tlearn: 0.2014959\ttotal: 260ms\tremaining: 808ms\n",
      "243:\tlearn: 0.2011701\ttotal: 260ms\tremaining: 806ms\n",
      "244:\tlearn: 0.2007737\ttotal: 261ms\tremaining: 804ms\n",
      "245:\tlearn: 0.2001816\ttotal: 262ms\tremaining: 802ms\n",
      "246:\tlearn: 0.1999179\ttotal: 263ms\tremaining: 800ms\n",
      "247:\tlearn: 0.1993841\ttotal: 264ms\tremaining: 801ms\n",
      "248:\tlearn: 0.1989317\ttotal: 265ms\tremaining: 799ms\n",
      "249:\tlearn: 0.1987898\ttotal: 266ms\tremaining: 797ms\n",
      "250:\tlearn: 0.1982880\ttotal: 266ms\tremaining: 795ms\n",
      "251:\tlearn: 0.1977986\ttotal: 267ms\tremaining: 793ms\n",
      "252:\tlearn: 0.1973433\ttotal: 268ms\tremaining: 792ms\n",
      "253:\tlearn: 0.1971035\ttotal: 269ms\tremaining: 790ms\n",
      "254:\tlearn: 0.1965182\ttotal: 270ms\tremaining: 788ms\n",
      "255:\tlearn: 0.1962530\ttotal: 271ms\tremaining: 787ms\n",
      "256:\tlearn: 0.1955307\ttotal: 272ms\tremaining: 785ms\n",
      "257:\tlearn: 0.1951411\ttotal: 272ms\tremaining: 783ms\n",
      "258:\tlearn: 0.1946755\ttotal: 273ms\tremaining: 782ms\n",
      "259:\tlearn: 0.1943035\ttotal: 274ms\tremaining: 780ms\n",
      "260:\tlearn: 0.1941216\ttotal: 275ms\tremaining: 779ms\n",
      "261:\tlearn: 0.1938497\ttotal: 276ms\tremaining: 777ms\n",
      "262:\tlearn: 0.1934172\ttotal: 277ms\tremaining: 775ms\n",
      "263:\tlearn: 0.1931171\ttotal: 277ms\tremaining: 774ms\n",
      "264:\tlearn: 0.1926995\ttotal: 278ms\tremaining: 772ms\n",
      "265:\tlearn: 0.1923474\ttotal: 279ms\tremaining: 771ms\n",
      "266:\tlearn: 0.1918884\ttotal: 280ms\tremaining: 769ms\n",
      "267:\tlearn: 0.1917161\ttotal: 281ms\tremaining: 768ms\n",
      "268:\tlearn: 0.1912811\ttotal: 282ms\tremaining: 766ms\n",
      "269:\tlearn: 0.1907065\ttotal: 283ms\tremaining: 765ms\n",
      "270:\tlearn: 0.1901755\ttotal: 284ms\tremaining: 763ms\n",
      "271:\tlearn: 0.1899664\ttotal: 284ms\tremaining: 761ms\n",
      "272:\tlearn: 0.1897056\ttotal: 285ms\tremaining: 760ms\n",
      "273:\tlearn: 0.1892279\ttotal: 286ms\tremaining: 758ms\n",
      "274:\tlearn: 0.1887774\ttotal: 287ms\tremaining: 757ms\n",
      "275:\tlearn: 0.1881887\ttotal: 288ms\tremaining: 756ms\n",
      "276:\tlearn: 0.1880318\ttotal: 289ms\tremaining: 755ms\n",
      "277:\tlearn: 0.1874927\ttotal: 290ms\tremaining: 754ms\n",
      "278:\tlearn: 0.1868734\ttotal: 291ms\tremaining: 752ms\n",
      "279:\tlearn: 0.1864935\ttotal: 292ms\tremaining: 751ms\n",
      "280:\tlearn: 0.1862976\ttotal: 293ms\tremaining: 749ms\n",
      "281:\tlearn: 0.1860028\ttotal: 293ms\tremaining: 747ms\n",
      "282:\tlearn: 0.1857239\ttotal: 294ms\tremaining: 745ms\n",
      "283:\tlearn: 0.1850523\ttotal: 295ms\tremaining: 743ms\n",
      "284:\tlearn: 0.1847663\ttotal: 295ms\tremaining: 741ms\n",
      "285:\tlearn: 0.1844161\ttotal: 296ms\tremaining: 739ms\n"
     ]
    },
    {
     "name": "stdout",
     "output_type": "stream",
     "text": [
      "286:\tlearn: 0.1837821\ttotal: 297ms\tremaining: 738ms\n",
      "287:\tlearn: 0.1833268\ttotal: 298ms\tremaining: 737ms\n",
      "288:\tlearn: 0.1827824\ttotal: 299ms\tremaining: 735ms\n",
      "289:\tlearn: 0.1821606\ttotal: 300ms\tremaining: 734ms\n",
      "290:\tlearn: 0.1818022\ttotal: 301ms\tremaining: 733ms\n",
      "291:\tlearn: 0.1813165\ttotal: 302ms\tremaining: 732ms\n",
      "292:\tlearn: 0.1807939\ttotal: 303ms\tremaining: 730ms\n",
      "293:\tlearn: 0.1803259\ttotal: 304ms\tremaining: 729ms\n",
      "294:\tlearn: 0.1799335\ttotal: 305ms\tremaining: 729ms\n",
      "295:\tlearn: 0.1791990\ttotal: 306ms\tremaining: 727ms\n",
      "296:\tlearn: 0.1787848\ttotal: 307ms\tremaining: 726ms\n",
      "297:\tlearn: 0.1784480\ttotal: 308ms\tremaining: 725ms\n",
      "298:\tlearn: 0.1783585\ttotal: 309ms\tremaining: 724ms\n",
      "299:\tlearn: 0.1780120\ttotal: 310ms\tremaining: 722ms\n",
      "300:\tlearn: 0.1776033\ttotal: 310ms\tremaining: 721ms\n",
      "301:\tlearn: 0.1772711\ttotal: 311ms\tremaining: 719ms\n",
      "302:\tlearn: 0.1771444\ttotal: 312ms\tremaining: 718ms\n",
      "303:\tlearn: 0.1768436\ttotal: 313ms\tremaining: 717ms\n",
      "304:\tlearn: 0.1763227\ttotal: 314ms\tremaining: 715ms\n",
      "305:\tlearn: 0.1758829\ttotal: 315ms\tremaining: 714ms\n",
      "306:\tlearn: 0.1757796\ttotal: 316ms\tremaining: 712ms\n",
      "307:\tlearn: 0.1752319\ttotal: 317ms\tremaining: 711ms\n",
      "308:\tlearn: 0.1748273\ttotal: 317ms\tremaining: 710ms\n",
      "309:\tlearn: 0.1745734\ttotal: 318ms\tremaining: 708ms\n",
      "310:\tlearn: 0.1741832\ttotal: 319ms\tremaining: 707ms\n",
      "311:\tlearn: 0.1736610\ttotal: 320ms\tremaining: 705ms\n",
      "312:\tlearn: 0.1732862\ttotal: 321ms\tremaining: 704ms\n",
      "313:\tlearn: 0.1729959\ttotal: 322ms\tremaining: 703ms\n",
      "314:\tlearn: 0.1727751\ttotal: 322ms\tremaining: 701ms\n",
      "315:\tlearn: 0.1722880\ttotal: 323ms\tremaining: 700ms\n",
      "316:\tlearn: 0.1718862\ttotal: 324ms\tremaining: 698ms\n",
      "317:\tlearn: 0.1713191\ttotal: 325ms\tremaining: 696ms\n",
      "318:\tlearn: 0.1706567\ttotal: 326ms\tremaining: 695ms\n",
      "319:\tlearn: 0.1699916\ttotal: 326ms\tremaining: 694ms\n",
      "320:\tlearn: 0.1696252\ttotal: 327ms\tremaining: 692ms\n",
      "321:\tlearn: 0.1691696\ttotal: 328ms\tremaining: 691ms\n",
      "322:\tlearn: 0.1686149\ttotal: 329ms\tremaining: 689ms\n",
      "323:\tlearn: 0.1683215\ttotal: 330ms\tremaining: 688ms\n",
      "324:\tlearn: 0.1679373\ttotal: 330ms\tremaining: 686ms\n",
      "325:\tlearn: 0.1673235\ttotal: 331ms\tremaining: 685ms\n",
      "326:\tlearn: 0.1669654\ttotal: 332ms\tremaining: 684ms\n",
      "327:\tlearn: 0.1664995\ttotal: 333ms\tremaining: 682ms\n",
      "328:\tlearn: 0.1661265\ttotal: 334ms\tremaining: 681ms\n",
      "329:\tlearn: 0.1657958\ttotal: 335ms\tremaining: 680ms\n",
      "330:\tlearn: 0.1655407\ttotal: 336ms\tremaining: 678ms\n",
      "331:\tlearn: 0.1651997\ttotal: 337ms\tremaining: 677ms\n",
      "332:\tlearn: 0.1648740\ttotal: 337ms\tremaining: 676ms\n",
      "333:\tlearn: 0.1646281\ttotal: 338ms\tremaining: 674ms\n",
      "334:\tlearn: 0.1640987\ttotal: 339ms\tremaining: 673ms\n",
      "335:\tlearn: 0.1637275\ttotal: 340ms\tremaining: 672ms\n",
      "336:\tlearn: 0.1633054\ttotal: 341ms\tremaining: 670ms\n",
      "337:\tlearn: 0.1629486\ttotal: 342ms\tremaining: 669ms\n",
      "338:\tlearn: 0.1626619\ttotal: 342ms\tremaining: 668ms\n",
      "339:\tlearn: 0.1621023\ttotal: 343ms\tremaining: 666ms\n",
      "340:\tlearn: 0.1617509\ttotal: 344ms\tremaining: 665ms\n",
      "341:\tlearn: 0.1614439\ttotal: 345ms\tremaining: 664ms\n",
      "342:\tlearn: 0.1613562\ttotal: 346ms\tremaining: 663ms\n",
      "343:\tlearn: 0.1607729\ttotal: 347ms\tremaining: 661ms\n",
      "344:\tlearn: 0.1605614\ttotal: 348ms\tremaining: 660ms\n",
      "345:\tlearn: 0.1601000\ttotal: 348ms\tremaining: 658ms\n",
      "346:\tlearn: 0.1597339\ttotal: 349ms\tremaining: 657ms\n",
      "347:\tlearn: 0.1595433\ttotal: 350ms\tremaining: 656ms\n",
      "348:\tlearn: 0.1590977\ttotal: 351ms\tremaining: 654ms\n",
      "349:\tlearn: 0.1586762\ttotal: 352ms\tremaining: 653ms\n",
      "350:\tlearn: 0.1582494\ttotal: 352ms\tremaining: 651ms\n",
      "351:\tlearn: 0.1577385\ttotal: 353ms\tremaining: 651ms\n",
      "352:\tlearn: 0.1573438\ttotal: 354ms\tremaining: 649ms\n",
      "353:\tlearn: 0.1569516\ttotal: 355ms\tremaining: 648ms\n",
      "354:\tlearn: 0.1566016\ttotal: 356ms\tremaining: 647ms\n",
      "355:\tlearn: 0.1564844\ttotal: 357ms\tremaining: 646ms\n",
      "356:\tlearn: 0.1560611\ttotal: 358ms\tremaining: 644ms\n",
      "357:\tlearn: 0.1557170\ttotal: 359ms\tremaining: 643ms\n",
      "358:\tlearn: 0.1553297\ttotal: 359ms\tremaining: 642ms\n",
      "359:\tlearn: 0.1550093\ttotal: 360ms\tremaining: 641ms\n",
      "360:\tlearn: 0.1545826\ttotal: 361ms\tremaining: 639ms\n",
      "361:\tlearn: 0.1540472\ttotal: 363ms\tremaining: 639ms\n",
      "362:\tlearn: 0.1537778\ttotal: 363ms\tremaining: 638ms\n",
      "363:\tlearn: 0.1534355\ttotal: 364ms\tremaining: 637ms\n",
      "364:\tlearn: 0.1533092\ttotal: 365ms\tremaining: 635ms\n",
      "365:\tlearn: 0.1528527\ttotal: 366ms\tremaining: 634ms\n",
      "366:\tlearn: 0.1527349\ttotal: 367ms\tremaining: 633ms\n",
      "367:\tlearn: 0.1524023\ttotal: 368ms\tremaining: 632ms\n",
      "368:\tlearn: 0.1522959\ttotal: 369ms\tremaining: 631ms\n",
      "369:\tlearn: 0.1518386\ttotal: 370ms\tremaining: 629ms\n",
      "370:\tlearn: 0.1515962\ttotal: 370ms\tremaining: 628ms\n",
      "371:\tlearn: 0.1515686\ttotal: 371ms\tremaining: 627ms\n",
      "372:\tlearn: 0.1512892\ttotal: 372ms\tremaining: 625ms\n",
      "373:\tlearn: 0.1507648\ttotal: 373ms\tremaining: 624ms\n",
      "374:\tlearn: 0.1504649\ttotal: 374ms\tremaining: 623ms\n",
      "375:\tlearn: 0.1501729\ttotal: 374ms\tremaining: 621ms\n",
      "376:\tlearn: 0.1499798\ttotal: 375ms\tremaining: 620ms\n",
      "377:\tlearn: 0.1496671\ttotal: 376ms\tremaining: 619ms\n",
      "378:\tlearn: 0.1495314\ttotal: 377ms\tremaining: 617ms\n",
      "379:\tlearn: 0.1491910\ttotal: 378ms\tremaining: 616ms\n",
      "380:\tlearn: 0.1489606\ttotal: 378ms\tremaining: 615ms\n",
      "381:\tlearn: 0.1485542\ttotal: 379ms\tremaining: 613ms\n",
      "382:\tlearn: 0.1484037\ttotal: 380ms\tremaining: 612ms\n",
      "383:\tlearn: 0.1481203\ttotal: 381ms\tremaining: 612ms\n"
     ]
    },
    {
     "name": "stdout",
     "output_type": "stream",
     "text": [
      "384:\tlearn: 0.1478274\ttotal: 382ms\tremaining: 611ms\n",
      "385:\tlearn: 0.1475030\ttotal: 383ms\tremaining: 610ms\n",
      "386:\tlearn: 0.1470896\ttotal: 384ms\tremaining: 608ms\n",
      "387:\tlearn: 0.1467480\ttotal: 385ms\tremaining: 607ms\n",
      "388:\tlearn: 0.1466884\ttotal: 386ms\tremaining: 606ms\n",
      "389:\tlearn: 0.1462314\ttotal: 386ms\tremaining: 604ms\n",
      "390:\tlearn: 0.1461473\ttotal: 387ms\tremaining: 603ms\n",
      "391:\tlearn: 0.1458777\ttotal: 388ms\tremaining: 602ms\n",
      "392:\tlearn: 0.1454700\ttotal: 389ms\tremaining: 601ms\n",
      "393:\tlearn: 0.1450492\ttotal: 390ms\tremaining: 599ms\n",
      "394:\tlearn: 0.1446837\ttotal: 390ms\tremaining: 598ms\n",
      "395:\tlearn: 0.1443946\ttotal: 391ms\tremaining: 597ms\n",
      "396:\tlearn: 0.1440853\ttotal: 392ms\tremaining: 595ms\n",
      "397:\tlearn: 0.1437383\ttotal: 393ms\tremaining: 594ms\n",
      "398:\tlearn: 0.1433857\ttotal: 394ms\tremaining: 593ms\n",
      "399:\tlearn: 0.1430228\ttotal: 395ms\tremaining: 592ms\n",
      "400:\tlearn: 0.1427780\ttotal: 395ms\tremaining: 591ms\n",
      "401:\tlearn: 0.1425623\ttotal: 396ms\tremaining: 589ms\n",
      "402:\tlearn: 0.1423208\ttotal: 397ms\tremaining: 588ms\n",
      "403:\tlearn: 0.1419967\ttotal: 398ms\tremaining: 587ms\n",
      "404:\tlearn: 0.1417853\ttotal: 399ms\tremaining: 586ms\n",
      "405:\tlearn: 0.1416013\ttotal: 400ms\tremaining: 585ms\n",
      "406:\tlearn: 0.1414842\ttotal: 400ms\tremaining: 583ms\n",
      "407:\tlearn: 0.1411654\ttotal: 401ms\tremaining: 582ms\n",
      "408:\tlearn: 0.1409014\ttotal: 402ms\tremaining: 581ms\n",
      "409:\tlearn: 0.1405147\ttotal: 403ms\tremaining: 580ms\n",
      "410:\tlearn: 0.1401776\ttotal: 404ms\tremaining: 579ms\n",
      "411:\tlearn: 0.1398397\ttotal: 405ms\tremaining: 578ms\n",
      "412:\tlearn: 0.1395433\ttotal: 406ms\tremaining: 577ms\n",
      "413:\tlearn: 0.1392480\ttotal: 407ms\tremaining: 576ms\n",
      "414:\tlearn: 0.1389842\ttotal: 407ms\tremaining: 574ms\n",
      "415:\tlearn: 0.1386107\ttotal: 408ms\tremaining: 573ms\n",
      "416:\tlearn: 0.1383961\ttotal: 409ms\tremaining: 572ms\n",
      "417:\tlearn: 0.1381658\ttotal: 410ms\tremaining: 571ms\n",
      "418:\tlearn: 0.1378509\ttotal: 411ms\tremaining: 570ms\n",
      "419:\tlearn: 0.1376561\ttotal: 412ms\tremaining: 569ms\n",
      "420:\tlearn: 0.1374651\ttotal: 413ms\tremaining: 568ms\n",
      "421:\tlearn: 0.1371957\ttotal: 414ms\tremaining: 567ms\n",
      "422:\tlearn: 0.1368337\ttotal: 415ms\tremaining: 565ms\n",
      "423:\tlearn: 0.1364984\ttotal: 415ms\tremaining: 564ms\n",
      "424:\tlearn: 0.1360975\ttotal: 416ms\tremaining: 563ms\n",
      "425:\tlearn: 0.1358130\ttotal: 417ms\tremaining: 562ms\n",
      "426:\tlearn: 0.1355458\ttotal: 418ms\tremaining: 561ms\n",
      "427:\tlearn: 0.1351719\ttotal: 419ms\tremaining: 560ms\n",
      "428:\tlearn: 0.1350709\ttotal: 420ms\tremaining: 558ms\n",
      "429:\tlearn: 0.1348755\ttotal: 420ms\tremaining: 557ms\n",
      "430:\tlearn: 0.1346805\ttotal: 421ms\tremaining: 556ms\n",
      "431:\tlearn: 0.1343581\ttotal: 422ms\tremaining: 555ms\n",
      "432:\tlearn: 0.1341866\ttotal: 423ms\tremaining: 554ms\n",
      "433:\tlearn: 0.1338556\ttotal: 424ms\tremaining: 552ms\n",
      "434:\tlearn: 0.1334994\ttotal: 424ms\tremaining: 551ms\n",
      "435:\tlearn: 0.1330666\ttotal: 425ms\tremaining: 550ms\n",
      "436:\tlearn: 0.1327384\ttotal: 426ms\tremaining: 549ms\n",
      "437:\tlearn: 0.1325285\ttotal: 427ms\tremaining: 548ms\n",
      "438:\tlearn: 0.1324095\ttotal: 428ms\tremaining: 547ms\n",
      "439:\tlearn: 0.1320697\ttotal: 429ms\tremaining: 546ms\n",
      "440:\tlearn: 0.1317364\ttotal: 430ms\tremaining: 544ms\n",
      "441:\tlearn: 0.1315982\ttotal: 430ms\tremaining: 543ms\n",
      "442:\tlearn: 0.1314172\ttotal: 431ms\tremaining: 542ms\n",
      "443:\tlearn: 0.1312390\ttotal: 432ms\tremaining: 541ms\n",
      "444:\tlearn: 0.1309142\ttotal: 433ms\tremaining: 540ms\n",
      "445:\tlearn: 0.1308132\ttotal: 434ms\tremaining: 539ms\n",
      "446:\tlearn: 0.1306237\ttotal: 435ms\tremaining: 538ms\n",
      "447:\tlearn: 0.1303204\ttotal: 435ms\tremaining: 537ms\n",
      "448:\tlearn: 0.1300174\ttotal: 436ms\tremaining: 535ms\n",
      "449:\tlearn: 0.1299757\ttotal: 437ms\tremaining: 534ms\n",
      "450:\tlearn: 0.1296525\ttotal: 438ms\tremaining: 533ms\n",
      "451:\tlearn: 0.1293623\ttotal: 439ms\tremaining: 532ms\n",
      "452:\tlearn: 0.1290092\ttotal: 440ms\tremaining: 531ms\n",
      "453:\tlearn: 0.1286797\ttotal: 440ms\tremaining: 530ms\n",
      "454:\tlearn: 0.1284956\ttotal: 441ms\tremaining: 529ms\n",
      "455:\tlearn: 0.1282540\ttotal: 442ms\tremaining: 528ms\n",
      "456:\tlearn: 0.1280094\ttotal: 443ms\tremaining: 526ms\n",
      "457:\tlearn: 0.1278996\ttotal: 444ms\tremaining: 525ms\n",
      "458:\tlearn: 0.1276752\ttotal: 444ms\tremaining: 524ms\n",
      "459:\tlearn: 0.1274973\ttotal: 445ms\tremaining: 523ms\n",
      "460:\tlearn: 0.1272881\ttotal: 446ms\tremaining: 522ms\n",
      "461:\tlearn: 0.1271647\ttotal: 447ms\tremaining: 521ms\n",
      "462:\tlearn: 0.1267987\ttotal: 448ms\tremaining: 519ms\n",
      "463:\tlearn: 0.1265787\ttotal: 449ms\tremaining: 518ms\n",
      "464:\tlearn: 0.1263444\ttotal: 449ms\tremaining: 517ms\n",
      "465:\tlearn: 0.1261641\ttotal: 450ms\tremaining: 516ms\n",
      "466:\tlearn: 0.1260291\ttotal: 451ms\tremaining: 515ms\n",
      "467:\tlearn: 0.1257770\ttotal: 452ms\tremaining: 514ms\n",
      "468:\tlearn: 0.1254731\ttotal: 453ms\tremaining: 513ms\n",
      "469:\tlearn: 0.1253885\ttotal: 454ms\tremaining: 512ms\n",
      "470:\tlearn: 0.1252151\ttotal: 455ms\tremaining: 511ms\n",
      "471:\tlearn: 0.1250817\ttotal: 455ms\tremaining: 510ms\n",
      "472:\tlearn: 0.1249294\ttotal: 456ms\tremaining: 508ms\n",
      "473:\tlearn: 0.1247437\ttotal: 457ms\tremaining: 507ms\n",
      "474:\tlearn: 0.1244508\ttotal: 458ms\tremaining: 506ms\n",
      "475:\tlearn: 0.1241022\ttotal: 459ms\tremaining: 505ms\n",
      "476:\tlearn: 0.1238955\ttotal: 460ms\tremaining: 504ms\n",
      "477:\tlearn: 0.1234512\ttotal: 460ms\tremaining: 503ms\n",
      "478:\tlearn: 0.1232372\ttotal: 461ms\tremaining: 502ms\n",
      "479:\tlearn: 0.1230368\ttotal: 462ms\tremaining: 501ms\n",
      "480:\tlearn: 0.1228491\ttotal: 463ms\tremaining: 499ms\n",
      "481:\tlearn: 0.1224937\ttotal: 464ms\tremaining: 498ms\n",
      "482:\tlearn: 0.1221855\ttotal: 465ms\tremaining: 497ms\n",
      "483:\tlearn: 0.1219310\ttotal: 466ms\tremaining: 496ms\n",
      "484:\tlearn: 0.1216095\ttotal: 467ms\tremaining: 495ms\n",
      "485:\tlearn: 0.1213224\ttotal: 467ms\tremaining: 494ms\n",
      "486:\tlearn: 0.1211873\ttotal: 468ms\tremaining: 493ms\n",
      "487:\tlearn: 0.1209328\ttotal: 469ms\tremaining: 492ms\n",
      "488:\tlearn: 0.1208374\ttotal: 470ms\tremaining: 491ms\n",
      "489:\tlearn: 0.1205689\ttotal: 470ms\tremaining: 490ms\n",
      "490:\tlearn: 0.1202764\ttotal: 471ms\tremaining: 489ms\n",
      "491:\tlearn: 0.1200545\ttotal: 472ms\tremaining: 488ms\n",
      "492:\tlearn: 0.1198435\ttotal: 473ms\tremaining: 486ms\n",
      "493:\tlearn: 0.1195378\ttotal: 474ms\tremaining: 485ms\n",
      "494:\tlearn: 0.1192205\ttotal: 475ms\tremaining: 484ms\n",
      "495:\tlearn: 0.1188680\ttotal: 476ms\tremaining: 483ms\n",
      "496:\tlearn: 0.1187798\ttotal: 476ms\tremaining: 482ms\n",
      "497:\tlearn: 0.1185268\ttotal: 477ms\tremaining: 481ms\n",
      "498:\tlearn: 0.1183058\ttotal: 478ms\tremaining: 480ms\n",
      "499:\tlearn: 0.1180900\ttotal: 479ms\tremaining: 479ms\n",
      "500:\tlearn: 0.1178733\ttotal: 480ms\tremaining: 478ms\n",
      "501:\tlearn: 0.1177095\ttotal: 481ms\tremaining: 477ms\n",
      "502:\tlearn: 0.1174989\ttotal: 481ms\tremaining: 476ms\n",
      "503:\tlearn: 0.1172107\ttotal: 482ms\tremaining: 475ms\n",
      "504:\tlearn: 0.1170455\ttotal: 483ms\tremaining: 474ms\n",
      "505:\tlearn: 0.1166977\ttotal: 484ms\tremaining: 473ms\n",
      "506:\tlearn: 0.1164981\ttotal: 485ms\tremaining: 472ms\n",
      "507:\tlearn: 0.1162465\ttotal: 486ms\tremaining: 470ms\n",
      "508:\tlearn: 0.1161031\ttotal: 486ms\tremaining: 469ms\n"
     ]
    },
    {
     "name": "stdout",
     "output_type": "stream",
     "text": [
      "509:\tlearn: 0.1158991\ttotal: 488ms\tremaining: 468ms\n",
      "510:\tlearn: 0.1156711\ttotal: 488ms\tremaining: 467ms\n",
      "511:\tlearn: 0.1153743\ttotal: 489ms\tremaining: 466ms\n",
      "512:\tlearn: 0.1151397\ttotal: 490ms\tremaining: 465ms\n",
      "513:\tlearn: 0.1149707\ttotal: 491ms\tremaining: 464ms\n",
      "514:\tlearn: 0.1148027\ttotal: 492ms\tremaining: 463ms\n",
      "515:\tlearn: 0.1146699\ttotal: 493ms\tremaining: 462ms\n",
      "516:\tlearn: 0.1145987\ttotal: 493ms\tremaining: 461ms\n",
      "517:\tlearn: 0.1143239\ttotal: 494ms\tremaining: 460ms\n",
      "518:\tlearn: 0.1141288\ttotal: 495ms\tremaining: 459ms\n",
      "519:\tlearn: 0.1138910\ttotal: 496ms\tremaining: 458ms\n",
      "520:\tlearn: 0.1136498\ttotal: 497ms\tremaining: 457ms\n",
      "521:\tlearn: 0.1135996\ttotal: 498ms\tremaining: 456ms\n",
      "522:\tlearn: 0.1134443\ttotal: 499ms\tremaining: 455ms\n",
      "523:\tlearn: 0.1131606\ttotal: 500ms\tremaining: 454ms\n",
      "524:\tlearn: 0.1128976\ttotal: 501ms\tremaining: 453ms\n",
      "525:\tlearn: 0.1126469\ttotal: 501ms\tremaining: 452ms\n",
      "526:\tlearn: 0.1124966\ttotal: 502ms\tremaining: 451ms\n",
      "527:\tlearn: 0.1122578\ttotal: 503ms\tremaining: 450ms\n",
      "528:\tlearn: 0.1121528\ttotal: 504ms\tremaining: 449ms\n",
      "529:\tlearn: 0.1118188\ttotal: 505ms\tremaining: 448ms\n",
      "530:\tlearn: 0.1115907\ttotal: 506ms\tremaining: 447ms\n",
      "531:\tlearn: 0.1113388\ttotal: 506ms\tremaining: 446ms\n",
      "532:\tlearn: 0.1111077\ttotal: 507ms\tremaining: 444ms\n",
      "533:\tlearn: 0.1109733\ttotal: 508ms\tremaining: 443ms\n",
      "534:\tlearn: 0.1107336\ttotal: 509ms\tremaining: 442ms\n",
      "535:\tlearn: 0.1107031\ttotal: 510ms\tremaining: 441ms\n",
      "536:\tlearn: 0.1105355\ttotal: 510ms\tremaining: 440ms\n",
      "537:\tlearn: 0.1102952\ttotal: 511ms\tremaining: 439ms\n",
      "538:\tlearn: 0.1101047\ttotal: 513ms\tremaining: 439ms\n",
      "539:\tlearn: 0.1098883\ttotal: 514ms\tremaining: 438ms\n",
      "540:\tlearn: 0.1095214\ttotal: 514ms\tremaining: 436ms\n",
      "541:\tlearn: 0.1092891\ttotal: 515ms\tremaining: 435ms\n",
      "542:\tlearn: 0.1091058\ttotal: 516ms\tremaining: 434ms\n",
      "543:\tlearn: 0.1088912\ttotal: 517ms\tremaining: 433ms\n",
      "544:\tlearn: 0.1086456\ttotal: 518ms\tremaining: 432ms\n",
      "545:\tlearn: 0.1084141\ttotal: 519ms\tremaining: 431ms\n",
      "546:\tlearn: 0.1082475\ttotal: 519ms\tremaining: 430ms\n",
      "547:\tlearn: 0.1080374\ttotal: 520ms\tremaining: 429ms\n",
      "548:\tlearn: 0.1079614\ttotal: 521ms\tremaining: 428ms\n",
      "549:\tlearn: 0.1079318\ttotal: 522ms\tremaining: 427ms\n",
      "550:\tlearn: 0.1077314\ttotal: 523ms\tremaining: 426ms\n",
      "551:\tlearn: 0.1074666\ttotal: 523ms\tremaining: 425ms\n",
      "552:\tlearn: 0.1073081\ttotal: 524ms\tremaining: 424ms\n",
      "553:\tlearn: 0.1071038\ttotal: 525ms\tremaining: 423ms\n",
      "554:\tlearn: 0.1069625\ttotal: 526ms\tremaining: 422ms\n",
      "555:\tlearn: 0.1066194\ttotal: 527ms\tremaining: 421ms\n",
      "556:\tlearn: 0.1063246\ttotal: 527ms\tremaining: 419ms\n",
      "557:\tlearn: 0.1061073\ttotal: 528ms\tremaining: 418ms\n",
      "558:\tlearn: 0.1058330\ttotal: 529ms\tremaining: 417ms\n",
      "559:\tlearn: 0.1056540\ttotal: 530ms\tremaining: 416ms\n",
      "560:\tlearn: 0.1055083\ttotal: 531ms\tremaining: 415ms\n",
      "561:\tlearn: 0.1053388\ttotal: 532ms\tremaining: 414ms\n",
      "562:\tlearn: 0.1051499\ttotal: 532ms\tremaining: 413ms\n",
      "563:\tlearn: 0.1050074\ttotal: 533ms\tremaining: 412ms\n",
      "564:\tlearn: 0.1048566\ttotal: 534ms\tremaining: 411ms\n",
      "565:\tlearn: 0.1047196\ttotal: 535ms\tremaining: 410ms\n",
      "566:\tlearn: 0.1045023\ttotal: 535ms\tremaining: 409ms\n",
      "567:\tlearn: 0.1042893\ttotal: 536ms\tremaining: 408ms\n",
      "568:\tlearn: 0.1041296\ttotal: 537ms\tremaining: 407ms\n",
      "569:\tlearn: 0.1039325\ttotal: 538ms\tremaining: 406ms\n",
      "570:\tlearn: 0.1037502\ttotal: 539ms\tremaining: 405ms\n",
      "571:\tlearn: 0.1036486\ttotal: 540ms\tremaining: 404ms\n",
      "572:\tlearn: 0.1035723\ttotal: 540ms\tremaining: 403ms\n",
      "573:\tlearn: 0.1033528\ttotal: 541ms\tremaining: 402ms\n",
      "574:\tlearn: 0.1031863\ttotal: 542ms\tremaining: 401ms\n",
      "575:\tlearn: 0.1029873\ttotal: 543ms\tremaining: 400ms\n",
      "576:\tlearn: 0.1027852\ttotal: 544ms\tremaining: 399ms\n",
      "577:\tlearn: 0.1025791\ttotal: 545ms\tremaining: 398ms\n",
      "578:\tlearn: 0.1024483\ttotal: 545ms\tremaining: 397ms\n",
      "579:\tlearn: 0.1022333\ttotal: 546ms\tremaining: 396ms\n",
      "580:\tlearn: 0.1019444\ttotal: 547ms\tremaining: 394ms\n",
      "581:\tlearn: 0.1018057\ttotal: 548ms\tremaining: 393ms\n",
      "582:\tlearn: 0.1016060\ttotal: 549ms\tremaining: 392ms\n",
      "583:\tlearn: 0.1013728\ttotal: 549ms\tremaining: 391ms\n",
      "584:\tlearn: 0.1013047\ttotal: 550ms\tremaining: 390ms\n",
      "585:\tlearn: 0.1010933\ttotal: 551ms\tremaining: 389ms\n",
      "586:\tlearn: 0.1009927\ttotal: 552ms\tremaining: 388ms\n",
      "587:\tlearn: 0.1008278\ttotal: 553ms\tremaining: 387ms\n",
      "588:\tlearn: 0.1006675\ttotal: 553ms\tremaining: 386ms\n",
      "589:\tlearn: 0.1004845\ttotal: 554ms\tremaining: 385ms\n",
      "590:\tlearn: 0.1003602\ttotal: 555ms\tremaining: 384ms\n",
      "591:\tlearn: 0.1002565\ttotal: 556ms\tremaining: 383ms\n",
      "592:\tlearn: 0.1001713\ttotal: 556ms\tremaining: 382ms\n",
      "593:\tlearn: 0.0999471\ttotal: 557ms\tremaining: 381ms\n",
      "594:\tlearn: 0.0999268\ttotal: 558ms\tremaining: 380ms\n",
      "595:\tlearn: 0.0997572\ttotal: 559ms\tremaining: 379ms\n",
      "596:\tlearn: 0.0994917\ttotal: 560ms\tremaining: 378ms\n",
      "597:\tlearn: 0.0992905\ttotal: 560ms\tremaining: 377ms\n",
      "598:\tlearn: 0.0991226\ttotal: 561ms\tremaining: 376ms\n",
      "599:\tlearn: 0.0989465\ttotal: 562ms\tremaining: 375ms\n",
      "600:\tlearn: 0.0987292\ttotal: 563ms\tremaining: 374ms\n",
      "601:\tlearn: 0.0985319\ttotal: 564ms\tremaining: 373ms\n",
      "602:\tlearn: 0.0983181\ttotal: 565ms\tremaining: 372ms\n",
      "603:\tlearn: 0.0982905\ttotal: 565ms\tremaining: 371ms\n",
      "604:\tlearn: 0.0982045\ttotal: 566ms\tremaining: 370ms\n",
      "605:\tlearn: 0.0979649\ttotal: 567ms\tremaining: 369ms\n",
      "606:\tlearn: 0.0977992\ttotal: 568ms\tremaining: 368ms\n",
      "607:\tlearn: 0.0975582\ttotal: 569ms\tremaining: 367ms\n",
      "608:\tlearn: 0.0973769\ttotal: 569ms\tremaining: 366ms\n",
      "609:\tlearn: 0.0971673\ttotal: 570ms\tremaining: 365ms\n",
      "610:\tlearn: 0.0969708\ttotal: 571ms\tremaining: 364ms\n",
      "611:\tlearn: 0.0968331\ttotal: 572ms\tremaining: 363ms\n"
     ]
    },
    {
     "name": "stdout",
     "output_type": "stream",
     "text": [
      "612:\tlearn: 0.0967232\ttotal: 573ms\tremaining: 362ms\n",
      "613:\tlearn: 0.0965341\ttotal: 574ms\tremaining: 361ms\n",
      "614:\tlearn: 0.0963933\ttotal: 575ms\tremaining: 360ms\n",
      "615:\tlearn: 0.0961386\ttotal: 576ms\tremaining: 359ms\n",
      "616:\tlearn: 0.0959966\ttotal: 576ms\tremaining: 358ms\n",
      "617:\tlearn: 0.0959669\ttotal: 577ms\tremaining: 357ms\n",
      "618:\tlearn: 0.0959469\ttotal: 578ms\tremaining: 356ms\n",
      "619:\tlearn: 0.0958171\ttotal: 579ms\tremaining: 355ms\n",
      "620:\tlearn: 0.0956220\ttotal: 580ms\tremaining: 354ms\n",
      "621:\tlearn: 0.0954687\ttotal: 581ms\tremaining: 353ms\n",
      "622:\tlearn: 0.0952806\ttotal: 581ms\tremaining: 352ms\n",
      "623:\tlearn: 0.0950523\ttotal: 582ms\tremaining: 351ms\n",
      "624:\tlearn: 0.0948449\ttotal: 583ms\tremaining: 350ms\n",
      "625:\tlearn: 0.0947297\ttotal: 584ms\tremaining: 349ms\n",
      "626:\tlearn: 0.0946238\ttotal: 585ms\tremaining: 348ms\n",
      "627:\tlearn: 0.0944016\ttotal: 586ms\tremaining: 347ms\n",
      "628:\tlearn: 0.0941745\ttotal: 586ms\tremaining: 346ms\n",
      "629:\tlearn: 0.0939600\ttotal: 587ms\tremaining: 345ms\n",
      "630:\tlearn: 0.0937688\ttotal: 588ms\tremaining: 344ms\n",
      "631:\tlearn: 0.0935280\ttotal: 589ms\tremaining: 343ms\n",
      "632:\tlearn: 0.0932565\ttotal: 590ms\tremaining: 342ms\n",
      "633:\tlearn: 0.0931238\ttotal: 591ms\tremaining: 341ms\n",
      "634:\tlearn: 0.0928906\ttotal: 591ms\tremaining: 340ms\n",
      "635:\tlearn: 0.0926660\ttotal: 592ms\tremaining: 339ms\n",
      "636:\tlearn: 0.0925539\ttotal: 593ms\tremaining: 338ms\n",
      "637:\tlearn: 0.0924832\ttotal: 594ms\tremaining: 337ms\n",
      "638:\tlearn: 0.0924585\ttotal: 595ms\tremaining: 336ms\n",
      "639:\tlearn: 0.0922898\ttotal: 596ms\tremaining: 335ms\n",
      "640:\tlearn: 0.0921143\ttotal: 596ms\tremaining: 334ms\n",
      "641:\tlearn: 0.0919324\ttotal: 597ms\tremaining: 333ms\n",
      "642:\tlearn: 0.0918993\ttotal: 598ms\tremaining: 332ms\n",
      "643:\tlearn: 0.0916856\ttotal: 599ms\tremaining: 331ms\n",
      "644:\tlearn: 0.0914880\ttotal: 600ms\tremaining: 330ms\n",
      "645:\tlearn: 0.0912733\ttotal: 601ms\tremaining: 329ms\n",
      "646:\tlearn: 0.0910052\ttotal: 602ms\tremaining: 328ms\n",
      "647:\tlearn: 0.0908625\ttotal: 602ms\tremaining: 327ms\n",
      "648:\tlearn: 0.0906367\ttotal: 603ms\tremaining: 326ms\n",
      "649:\tlearn: 0.0904350\ttotal: 604ms\tremaining: 325ms\n",
      "650:\tlearn: 0.0902526\ttotal: 605ms\tremaining: 324ms\n",
      "651:\tlearn: 0.0900577\ttotal: 605ms\tremaining: 323ms\n",
      "652:\tlearn: 0.0898789\ttotal: 606ms\tremaining: 322ms\n",
      "653:\tlearn: 0.0896887\ttotal: 607ms\tremaining: 321ms\n",
      "654:\tlearn: 0.0895465\ttotal: 608ms\tremaining: 320ms\n",
      "655:\tlearn: 0.0893482\ttotal: 609ms\tremaining: 319ms\n",
      "656:\tlearn: 0.0891640\ttotal: 610ms\tremaining: 318ms\n",
      "657:\tlearn: 0.0890357\ttotal: 610ms\tremaining: 317ms\n",
      "658:\tlearn: 0.0889177\ttotal: 611ms\tremaining: 316ms\n",
      "659:\tlearn: 0.0888121\ttotal: 612ms\tremaining: 315ms\n",
      "660:\tlearn: 0.0887749\ttotal: 613ms\tremaining: 314ms\n",
      "661:\tlearn: 0.0886032\ttotal: 614ms\tremaining: 313ms\n",
      "662:\tlearn: 0.0884286\ttotal: 615ms\tremaining: 312ms\n",
      "663:\tlearn: 0.0882458\ttotal: 616ms\tremaining: 311ms\n",
      "664:\tlearn: 0.0880313\ttotal: 616ms\tremaining: 311ms\n",
      "665:\tlearn: 0.0879159\ttotal: 617ms\tremaining: 310ms\n",
      "666:\tlearn: 0.0877398\ttotal: 618ms\tremaining: 309ms\n",
      "667:\tlearn: 0.0876937\ttotal: 619ms\tremaining: 308ms\n",
      "668:\tlearn: 0.0875302\ttotal: 620ms\tremaining: 307ms\n",
      "669:\tlearn: 0.0872907\ttotal: 621ms\tremaining: 306ms\n",
      "670:\tlearn: 0.0871836\ttotal: 621ms\tremaining: 305ms\n",
      "671:\tlearn: 0.0870841\ttotal: 622ms\tremaining: 304ms\n",
      "672:\tlearn: 0.0870661\ttotal: 623ms\tremaining: 303ms\n",
      "673:\tlearn: 0.0869418\ttotal: 624ms\tremaining: 302ms\n",
      "674:\tlearn: 0.0867431\ttotal: 625ms\tremaining: 301ms\n",
      "675:\tlearn: 0.0866174\ttotal: 626ms\tremaining: 300ms\n",
      "676:\tlearn: 0.0865013\ttotal: 626ms\tremaining: 299ms\n",
      "677:\tlearn: 0.0863051\ttotal: 627ms\tremaining: 298ms\n",
      "678:\tlearn: 0.0862883\ttotal: 628ms\tremaining: 297ms\n",
      "679:\tlearn: 0.0861950\ttotal: 629ms\tremaining: 296ms\n",
      "680:\tlearn: 0.0859439\ttotal: 630ms\tremaining: 295ms\n",
      "681:\tlearn: 0.0858750\ttotal: 631ms\tremaining: 294ms\n",
      "682:\tlearn: 0.0856832\ttotal: 631ms\tremaining: 293ms\n",
      "683:\tlearn: 0.0855833\ttotal: 632ms\tremaining: 292ms\n",
      "684:\tlearn: 0.0854394\ttotal: 634ms\tremaining: 291ms\n",
      "685:\tlearn: 0.0852534\ttotal: 634ms\tremaining: 290ms\n",
      "686:\tlearn: 0.0850997\ttotal: 635ms\tremaining: 289ms\n",
      "687:\tlearn: 0.0849323\ttotal: 636ms\tremaining: 288ms\n",
      "688:\tlearn: 0.0848358\ttotal: 637ms\tremaining: 288ms\n",
      "689:\tlearn: 0.0847110\ttotal: 638ms\tremaining: 287ms\n",
      "690:\tlearn: 0.0846976\ttotal: 639ms\tremaining: 286ms\n",
      "691:\tlearn: 0.0846246\ttotal: 640ms\tremaining: 285ms\n",
      "692:\tlearn: 0.0844837\ttotal: 640ms\tremaining: 284ms\n",
      "693:\tlearn: 0.0843388\ttotal: 641ms\tremaining: 283ms\n",
      "694:\tlearn: 0.0840996\ttotal: 643ms\tremaining: 282ms\n",
      "695:\tlearn: 0.0840722\ttotal: 644ms\tremaining: 281ms\n",
      "696:\tlearn: 0.0838905\ttotal: 644ms\tremaining: 280ms\n",
      "697:\tlearn: 0.0838672\ttotal: 645ms\tremaining: 279ms\n",
      "698:\tlearn: 0.0836822\ttotal: 646ms\tremaining: 278ms\n",
      "699:\tlearn: 0.0836579\ttotal: 647ms\tremaining: 277ms\n",
      "700:\tlearn: 0.0835111\ttotal: 648ms\tremaining: 276ms\n",
      "701:\tlearn: 0.0834230\ttotal: 649ms\tremaining: 275ms\n",
      "702:\tlearn: 0.0832481\ttotal: 649ms\tremaining: 274ms\n",
      "703:\tlearn: 0.0830644\ttotal: 650ms\tremaining: 273ms\n",
      "704:\tlearn: 0.0830261\ttotal: 651ms\tremaining: 272ms\n",
      "705:\tlearn: 0.0829143\ttotal: 652ms\tremaining: 271ms\n",
      "706:\tlearn: 0.0828714\ttotal: 653ms\tremaining: 271ms\n",
      "707:\tlearn: 0.0827328\ttotal: 654ms\tremaining: 270ms\n",
      "708:\tlearn: 0.0827163\ttotal: 655ms\tremaining: 269ms\n",
      "709:\tlearn: 0.0825410\ttotal: 655ms\tremaining: 268ms\n",
      "710:\tlearn: 0.0824084\ttotal: 656ms\tremaining: 267ms\n",
      "711:\tlearn: 0.0821768\ttotal: 657ms\tremaining: 266ms\n",
      "712:\tlearn: 0.0820705\ttotal: 658ms\tremaining: 265ms\n",
      "713:\tlearn: 0.0820549\ttotal: 659ms\tremaining: 264ms\n",
      "714:\tlearn: 0.0820334\ttotal: 660ms\tremaining: 263ms\n",
      "715:\tlearn: 0.0819453\ttotal: 660ms\tremaining: 262ms\n",
      "716:\tlearn: 0.0818094\ttotal: 661ms\tremaining: 261ms\n",
      "717:\tlearn: 0.0816610\ttotal: 662ms\tremaining: 260ms\n",
      "718:\tlearn: 0.0816454\ttotal: 663ms\tremaining: 259ms\n",
      "719:\tlearn: 0.0814255\ttotal: 664ms\tremaining: 258ms\n",
      "720:\tlearn: 0.0813811\ttotal: 664ms\tremaining: 257ms\n",
      "721:\tlearn: 0.0811809\ttotal: 665ms\tremaining: 256ms\n",
      "722:\tlearn: 0.0809948\ttotal: 666ms\tremaining: 255ms\n",
      "723:\tlearn: 0.0808659\ttotal: 667ms\tremaining: 254ms\n",
      "724:\tlearn: 0.0807177\ttotal: 668ms\tremaining: 253ms\n",
      "725:\tlearn: 0.0806356\ttotal: 669ms\tremaining: 252ms\n",
      "726:\tlearn: 0.0804841\ttotal: 669ms\tremaining: 251ms\n",
      "727:\tlearn: 0.0803996\ttotal: 670ms\tremaining: 250ms\n",
      "728:\tlearn: 0.0803873\ttotal: 671ms\tremaining: 249ms\n",
      "729:\tlearn: 0.0802965\ttotal: 672ms\tremaining: 248ms\n",
      "730:\tlearn: 0.0801622\ttotal: 672ms\tremaining: 247ms\n",
      "731:\tlearn: 0.0800300\ttotal: 673ms\tremaining: 246ms\n",
      "732:\tlearn: 0.0800140\ttotal: 674ms\tremaining: 245ms\n",
      "733:\tlearn: 0.0799664\ttotal: 675ms\tremaining: 245ms\n",
      "734:\tlearn: 0.0798111\ttotal: 676ms\tremaining: 244ms\n",
      "735:\tlearn: 0.0796939\ttotal: 676ms\tremaining: 243ms\n"
     ]
    },
    {
     "name": "stdout",
     "output_type": "stream",
     "text": [
      "736:\tlearn: 0.0796053\ttotal: 677ms\tremaining: 242ms\n",
      "737:\tlearn: 0.0794291\ttotal: 678ms\tremaining: 241ms\n",
      "738:\tlearn: 0.0793422\ttotal: 679ms\tremaining: 240ms\n",
      "739:\tlearn: 0.0792144\ttotal: 680ms\tremaining: 239ms\n",
      "740:\tlearn: 0.0790260\ttotal: 681ms\tremaining: 238ms\n",
      "741:\tlearn: 0.0789313\ttotal: 681ms\tremaining: 237ms\n",
      "742:\tlearn: 0.0787753\ttotal: 682ms\tremaining: 236ms\n",
      "743:\tlearn: 0.0786519\ttotal: 683ms\tremaining: 235ms\n",
      "744:\tlearn: 0.0784907\ttotal: 684ms\tremaining: 234ms\n",
      "745:\tlearn: 0.0783721\ttotal: 685ms\tremaining: 233ms\n",
      "746:\tlearn: 0.0782113\ttotal: 686ms\tremaining: 232ms\n",
      "747:\tlearn: 0.0780439\ttotal: 687ms\tremaining: 231ms\n",
      "748:\tlearn: 0.0779851\ttotal: 688ms\tremaining: 230ms\n",
      "749:\tlearn: 0.0777433\ttotal: 688ms\tremaining: 229ms\n",
      "750:\tlearn: 0.0777291\ttotal: 689ms\tremaining: 229ms\n",
      "751:\tlearn: 0.0776119\ttotal: 690ms\tremaining: 228ms\n",
      "752:\tlearn: 0.0775418\ttotal: 691ms\tremaining: 227ms\n",
      "753:\tlearn: 0.0775055\ttotal: 692ms\tremaining: 226ms\n",
      "754:\tlearn: 0.0774498\ttotal: 693ms\tremaining: 225ms\n",
      "755:\tlearn: 0.0774205\ttotal: 693ms\tremaining: 224ms\n",
      "756:\tlearn: 0.0772578\ttotal: 694ms\tremaining: 223ms\n",
      "757:\tlearn: 0.0771346\ttotal: 695ms\tremaining: 222ms\n",
      "758:\tlearn: 0.0769582\ttotal: 696ms\tremaining: 221ms\n",
      "759:\tlearn: 0.0769477\ttotal: 697ms\tremaining: 220ms\n",
      "760:\tlearn: 0.0768102\ttotal: 698ms\tremaining: 219ms\n",
      "761:\tlearn: 0.0766783\ttotal: 699ms\tremaining: 218ms\n",
      "762:\tlearn: 0.0766686\ttotal: 699ms\tremaining: 217ms\n",
      "763:\tlearn: 0.0765179\ttotal: 700ms\tremaining: 216ms\n",
      "764:\tlearn: 0.0763742\ttotal: 701ms\tremaining: 215ms\n",
      "765:\tlearn: 0.0762427\ttotal: 702ms\tremaining: 214ms\n",
      "766:\tlearn: 0.0761267\ttotal: 703ms\tremaining: 214ms\n",
      "767:\tlearn: 0.0759739\ttotal: 704ms\tremaining: 213ms\n",
      "768:\tlearn: 0.0758716\ttotal: 704ms\tremaining: 212ms\n",
      "769:\tlearn: 0.0757270\ttotal: 705ms\tremaining: 211ms\n",
      "770:\tlearn: 0.0755749\ttotal: 706ms\tremaining: 210ms\n",
      "771:\tlearn: 0.0754695\ttotal: 707ms\tremaining: 209ms\n",
      "772:\tlearn: 0.0753026\ttotal: 708ms\tremaining: 208ms\n",
      "773:\tlearn: 0.0751097\ttotal: 709ms\tremaining: 207ms\n",
      "774:\tlearn: 0.0749897\ttotal: 710ms\tremaining: 206ms\n",
      "775:\tlearn: 0.0749784\ttotal: 710ms\tremaining: 205ms\n",
      "776:\tlearn: 0.0749652\ttotal: 711ms\tremaining: 204ms\n",
      "777:\tlearn: 0.0749542\ttotal: 712ms\tremaining: 203ms\n",
      "778:\tlearn: 0.0748419\ttotal: 713ms\tremaining: 202ms\n",
      "779:\tlearn: 0.0748288\ttotal: 714ms\tremaining: 201ms\n",
      "780:\tlearn: 0.0747149\ttotal: 715ms\tremaining: 200ms\n",
      "781:\tlearn: 0.0747032\ttotal: 715ms\tremaining: 199ms\n",
      "782:\tlearn: 0.0745548\ttotal: 716ms\tremaining: 198ms\n",
      "783:\tlearn: 0.0743946\ttotal: 717ms\tremaining: 198ms\n",
      "784:\tlearn: 0.0742812\ttotal: 718ms\tremaining: 197ms\n",
      "785:\tlearn: 0.0741734\ttotal: 719ms\tremaining: 196ms\n",
      "786:\tlearn: 0.0741057\ttotal: 720ms\tremaining: 195ms\n",
      "787:\tlearn: 0.0739014\ttotal: 720ms\tremaining: 194ms\n",
      "788:\tlearn: 0.0738893\ttotal: 721ms\tremaining: 193ms\n",
      "789:\tlearn: 0.0738059\ttotal: 722ms\tremaining: 192ms\n",
      "790:\tlearn: 0.0736952\ttotal: 723ms\tremaining: 191ms\n",
      "791:\tlearn: 0.0736770\ttotal: 724ms\tremaining: 190ms\n",
      "792:\tlearn: 0.0735631\ttotal: 725ms\tremaining: 189ms\n",
      "793:\tlearn: 0.0734251\ttotal: 726ms\tremaining: 188ms\n",
      "794:\tlearn: 0.0732860\ttotal: 726ms\tremaining: 187ms\n",
      "795:\tlearn: 0.0731754\ttotal: 727ms\tremaining: 186ms\n",
      "796:\tlearn: 0.0730401\ttotal: 728ms\tremaining: 185ms\n",
      "797:\tlearn: 0.0728958\ttotal: 729ms\tremaining: 185ms\n",
      "798:\tlearn: 0.0727960\ttotal: 730ms\tremaining: 184ms\n",
      "799:\tlearn: 0.0727047\ttotal: 731ms\tremaining: 183ms\n",
      "800:\tlearn: 0.0726092\ttotal: 732ms\tremaining: 182ms\n",
      "801:\tlearn: 0.0724991\ttotal: 732ms\tremaining: 181ms\n",
      "802:\tlearn: 0.0723507\ttotal: 733ms\tremaining: 180ms\n",
      "803:\tlearn: 0.0722742\ttotal: 734ms\tremaining: 179ms\n",
      "804:\tlearn: 0.0721830\ttotal: 735ms\tremaining: 178ms\n",
      "805:\tlearn: 0.0720370\ttotal: 735ms\tremaining: 177ms\n",
      "806:\tlearn: 0.0720179\ttotal: 736ms\tremaining: 176ms\n",
      "807:\tlearn: 0.0718459\ttotal: 737ms\tremaining: 175ms\n",
      "808:\tlearn: 0.0718349\ttotal: 738ms\tremaining: 174ms\n",
      "809:\tlearn: 0.0717849\ttotal: 739ms\tremaining: 173ms\n",
      "810:\tlearn: 0.0716384\ttotal: 740ms\tremaining: 172ms\n",
      "811:\tlearn: 0.0715306\ttotal: 740ms\tremaining: 171ms\n",
      "812:\tlearn: 0.0714370\ttotal: 741ms\tremaining: 170ms\n",
      "813:\tlearn: 0.0714142\ttotal: 742ms\tremaining: 169ms\n",
      "814:\tlearn: 0.0712800\ttotal: 743ms\tremaining: 169ms\n",
      "815:\tlearn: 0.0712055\ttotal: 744ms\tremaining: 168ms\n",
      "816:\tlearn: 0.0711129\ttotal: 744ms\tremaining: 167ms\n",
      "817:\tlearn: 0.0711029\ttotal: 745ms\tremaining: 166ms\n",
      "818:\tlearn: 0.0710938\ttotal: 746ms\tremaining: 165ms\n",
      "819:\tlearn: 0.0709549\ttotal: 747ms\tremaining: 164ms\n",
      "820:\tlearn: 0.0709105\ttotal: 748ms\tremaining: 163ms\n",
      "821:\tlearn: 0.0709004\ttotal: 749ms\tremaining: 162ms\n",
      "822:\tlearn: 0.0707358\ttotal: 749ms\tremaining: 161ms\n",
      "823:\tlearn: 0.0706288\ttotal: 750ms\tremaining: 160ms\n",
      "824:\tlearn: 0.0705730\ttotal: 751ms\tremaining: 159ms\n",
      "825:\tlearn: 0.0704537\ttotal: 752ms\tremaining: 158ms\n",
      "826:\tlearn: 0.0703121\ttotal: 753ms\tremaining: 157ms\n",
      "827:\tlearn: 0.0702405\ttotal: 753ms\tremaining: 157ms\n",
      "828:\tlearn: 0.0701062\ttotal: 754ms\tremaining: 156ms\n",
      "829:\tlearn: 0.0700854\ttotal: 755ms\tremaining: 155ms\n",
      "830:\tlearn: 0.0698721\ttotal: 756ms\tremaining: 154ms\n",
      "831:\tlearn: 0.0698626\ttotal: 757ms\tremaining: 153ms\n",
      "832:\tlearn: 0.0698459\ttotal: 757ms\tremaining: 152ms\n",
      "833:\tlearn: 0.0697544\ttotal: 758ms\tremaining: 151ms\n",
      "834:\tlearn: 0.0696606\ttotal: 759ms\tremaining: 150ms\n",
      "835:\tlearn: 0.0696162\ttotal: 760ms\tremaining: 149ms\n",
      "836:\tlearn: 0.0695401\ttotal: 761ms\tremaining: 148ms\n",
      "837:\tlearn: 0.0694137\ttotal: 761ms\tremaining: 147ms\n",
      "838:\tlearn: 0.0692902\ttotal: 762ms\tremaining: 146ms\n"
     ]
    },
    {
     "name": "stdout",
     "output_type": "stream",
     "text": [
      "839:\tlearn: 0.0692367\ttotal: 763ms\tremaining: 145ms\n",
      "840:\tlearn: 0.0691403\ttotal: 764ms\tremaining: 144ms\n",
      "841:\tlearn: 0.0691325\ttotal: 765ms\tremaining: 144ms\n",
      "842:\tlearn: 0.0690666\ttotal: 766ms\tremaining: 143ms\n",
      "843:\tlearn: 0.0689652\ttotal: 767ms\tremaining: 142ms\n",
      "844:\tlearn: 0.0689519\ttotal: 768ms\tremaining: 141ms\n",
      "845:\tlearn: 0.0688510\ttotal: 768ms\tremaining: 140ms\n",
      "846:\tlearn: 0.0687676\ttotal: 769ms\tremaining: 139ms\n",
      "847:\tlearn: 0.0686077\ttotal: 770ms\tremaining: 138ms\n",
      "848:\tlearn: 0.0685017\ttotal: 771ms\tremaining: 137ms\n",
      "849:\tlearn: 0.0683103\ttotal: 772ms\tremaining: 136ms\n",
      "850:\tlearn: 0.0682850\ttotal: 772ms\tremaining: 135ms\n",
      "851:\tlearn: 0.0681411\ttotal: 773ms\tremaining: 134ms\n",
      "852:\tlearn: 0.0681336\ttotal: 775ms\tremaining: 134ms\n",
      "853:\tlearn: 0.0681184\ttotal: 775ms\tremaining: 133ms\n",
      "854:\tlearn: 0.0680682\ttotal: 776ms\tremaining: 132ms\n",
      "855:\tlearn: 0.0680300\ttotal: 777ms\tremaining: 131ms\n",
      "856:\tlearn: 0.0678882\ttotal: 778ms\tremaining: 130ms\n",
      "857:\tlearn: 0.0678049\ttotal: 779ms\tremaining: 129ms\n",
      "858:\tlearn: 0.0677545\ttotal: 779ms\tremaining: 128ms\n",
      "859:\tlearn: 0.0677417\ttotal: 780ms\tremaining: 127ms\n",
      "860:\tlearn: 0.0677330\ttotal: 781ms\tremaining: 126ms\n",
      "861:\tlearn: 0.0676363\ttotal: 782ms\tremaining: 125ms\n",
      "862:\tlearn: 0.0674551\ttotal: 783ms\tremaining: 124ms\n",
      "863:\tlearn: 0.0673708\ttotal: 784ms\tremaining: 123ms\n",
      "864:\tlearn: 0.0672644\ttotal: 784ms\tremaining: 122ms\n",
      "865:\tlearn: 0.0672554\ttotal: 785ms\tremaining: 122ms\n",
      "866:\tlearn: 0.0672028\ttotal: 786ms\tremaining: 121ms\n",
      "867:\tlearn: 0.0671430\ttotal: 787ms\tremaining: 120ms\n",
      "868:\tlearn: 0.0670350\ttotal: 788ms\tremaining: 119ms\n",
      "869:\tlearn: 0.0669189\ttotal: 789ms\tremaining: 118ms\n",
      "870:\tlearn: 0.0667772\ttotal: 790ms\tremaining: 117ms\n",
      "871:\tlearn: 0.0667683\ttotal: 791ms\tremaining: 116ms\n",
      "872:\tlearn: 0.0667271\ttotal: 791ms\tremaining: 115ms\n",
      "873:\tlearn: 0.0666285\ttotal: 792ms\tremaining: 114ms\n",
      "874:\tlearn: 0.0665415\ttotal: 793ms\tremaining: 113ms\n",
      "875:\tlearn: 0.0665333\ttotal: 794ms\tremaining: 112ms\n",
      "876:\tlearn: 0.0663687\ttotal: 795ms\tremaining: 111ms\n",
      "877:\tlearn: 0.0663607\ttotal: 796ms\tremaining: 111ms\n",
      "878:\tlearn: 0.0662334\ttotal: 797ms\tremaining: 110ms\n",
      "879:\tlearn: 0.0661210\ttotal: 798ms\tremaining: 109ms\n",
      "880:\tlearn: 0.0659229\ttotal: 798ms\tremaining: 108ms\n",
      "881:\tlearn: 0.0658300\ttotal: 800ms\tremaining: 107ms\n",
      "882:\tlearn: 0.0656600\ttotal: 801ms\tremaining: 106ms\n",
      "883:\tlearn: 0.0654910\ttotal: 802ms\tremaining: 105ms\n",
      "884:\tlearn: 0.0654080\ttotal: 802ms\tremaining: 104ms\n",
      "885:\tlearn: 0.0653096\ttotal: 803ms\tremaining: 103ms\n",
      "886:\tlearn: 0.0651206\ttotal: 804ms\tremaining: 102ms\n",
      "887:\tlearn: 0.0649205\ttotal: 805ms\tremaining: 102ms\n",
      "888:\tlearn: 0.0649060\ttotal: 806ms\tremaining: 101ms\n",
      "889:\tlearn: 0.0648111\ttotal: 807ms\tremaining: 99.7ms\n",
      "890:\tlearn: 0.0646603\ttotal: 807ms\tremaining: 98.8ms\n",
      "891:\tlearn: 0.0646543\ttotal: 808ms\tremaining: 97.9ms\n",
      "892:\tlearn: 0.0645645\ttotal: 809ms\tremaining: 97ms\n",
      "893:\tlearn: 0.0644917\ttotal: 810ms\tremaining: 96ms\n",
      "894:\tlearn: 0.0644847\ttotal: 811ms\tremaining: 95.1ms\n",
      "895:\tlearn: 0.0643943\ttotal: 812ms\tremaining: 94.2ms\n",
      "896:\tlearn: 0.0642771\ttotal: 812ms\tremaining: 93.3ms\n",
      "897:\tlearn: 0.0641685\ttotal: 813ms\tremaining: 92.4ms\n",
      "898:\tlearn: 0.0640361\ttotal: 814ms\tremaining: 91.4ms\n",
      "899:\tlearn: 0.0639607\ttotal: 815ms\tremaining: 90.5ms\n",
      "900:\tlearn: 0.0638370\ttotal: 816ms\tremaining: 89.6ms\n",
      "901:\tlearn: 0.0638316\ttotal: 816ms\tremaining: 88.7ms\n",
      "902:\tlearn: 0.0637299\ttotal: 817ms\tremaining: 87.8ms\n",
      "903:\tlearn: 0.0636584\ttotal: 818ms\tremaining: 86.9ms\n",
      "904:\tlearn: 0.0635325\ttotal: 819ms\tremaining: 86ms\n",
      "905:\tlearn: 0.0634430\ttotal: 820ms\tremaining: 85ms\n",
      "906:\tlearn: 0.0633291\ttotal: 820ms\tremaining: 84.1ms\n",
      "907:\tlearn: 0.0632383\ttotal: 822ms\tremaining: 83.3ms\n",
      "908:\tlearn: 0.0632299\ttotal: 822ms\tremaining: 82.3ms\n",
      "909:\tlearn: 0.0631548\ttotal: 823ms\tremaining: 81.4ms\n",
      "910:\tlearn: 0.0631420\ttotal: 824ms\tremaining: 80.5ms\n",
      "911:\tlearn: 0.0631175\ttotal: 825ms\tremaining: 79.6ms\n",
      "912:\tlearn: 0.0630912\ttotal: 826ms\tremaining: 78.7ms\n",
      "913:\tlearn: 0.0629655\ttotal: 826ms\tremaining: 77.8ms\n",
      "914:\tlearn: 0.0629416\ttotal: 827ms\tremaining: 76.8ms\n",
      "915:\tlearn: 0.0629160\ttotal: 828ms\tremaining: 75.9ms\n",
      "916:\tlearn: 0.0627394\ttotal: 829ms\tremaining: 75ms\n",
      "917:\tlearn: 0.0626955\ttotal: 830ms\tremaining: 74.1ms\n",
      "918:\tlearn: 0.0626198\ttotal: 830ms\tremaining: 73.2ms\n",
      "919:\tlearn: 0.0626138\ttotal: 831ms\tremaining: 72.3ms\n",
      "920:\tlearn: 0.0624995\ttotal: 832ms\tremaining: 71.4ms\n",
      "921:\tlearn: 0.0624242\ttotal: 833ms\tremaining: 70.5ms\n",
      "922:\tlearn: 0.0624039\ttotal: 834ms\tremaining: 69.6ms\n",
      "923:\tlearn: 0.0622823\ttotal: 835ms\tremaining: 68.7ms\n",
      "924:\tlearn: 0.0622694\ttotal: 835ms\tremaining: 67.7ms\n",
      "925:\tlearn: 0.0621587\ttotal: 836ms\tremaining: 66.8ms\n",
      "926:\tlearn: 0.0620361\ttotal: 837ms\tremaining: 65.9ms\n",
      "927:\tlearn: 0.0619554\ttotal: 838ms\tremaining: 65ms\n",
      "928:\tlearn: 0.0618723\ttotal: 839ms\tremaining: 64.1ms\n",
      "929:\tlearn: 0.0617969\ttotal: 839ms\tremaining: 63.2ms\n",
      "930:\tlearn: 0.0616796\ttotal: 840ms\tremaining: 62.3ms\n",
      "931:\tlearn: 0.0616591\ttotal: 841ms\tremaining: 61.4ms\n",
      "932:\tlearn: 0.0615156\ttotal: 842ms\tremaining: 60.5ms\n",
      "933:\tlearn: 0.0615085\ttotal: 843ms\tremaining: 59.6ms\n",
      "934:\tlearn: 0.0614744\ttotal: 844ms\tremaining: 58.7ms\n",
      "935:\tlearn: 0.0614703\ttotal: 845ms\tremaining: 57.7ms\n",
      "936:\tlearn: 0.0613598\ttotal: 845ms\tremaining: 56.8ms\n",
      "937:\tlearn: 0.0612538\ttotal: 846ms\tremaining: 55.9ms\n",
      "938:\tlearn: 0.0611613\ttotal: 847ms\tremaining: 55ms\n",
      "939:\tlearn: 0.0610102\ttotal: 848ms\tremaining: 54.1ms\n",
      "940:\tlearn: 0.0609180\ttotal: 848ms\tremaining: 53.2ms\n",
      "941:\tlearn: 0.0608514\ttotal: 849ms\tremaining: 52.3ms\n",
      "942:\tlearn: 0.0607951\ttotal: 850ms\tremaining: 51.4ms\n",
      "943:\tlearn: 0.0607141\ttotal: 851ms\tremaining: 50.5ms\n",
      "944:\tlearn: 0.0606440\ttotal: 852ms\tremaining: 49.6ms\n",
      "945:\tlearn: 0.0605870\ttotal: 853ms\tremaining: 48.7ms\n",
      "946:\tlearn: 0.0605802\ttotal: 853ms\tremaining: 47.8ms\n",
      "947:\tlearn: 0.0605747\ttotal: 854ms\tremaining: 46.9ms\n",
      "948:\tlearn: 0.0604543\ttotal: 855ms\tremaining: 45.9ms\n",
      "949:\tlearn: 0.0603859\ttotal: 856ms\tremaining: 45ms\n",
      "950:\tlearn: 0.0602739\ttotal: 857ms\tremaining: 44.1ms\n",
      "951:\tlearn: 0.0601932\ttotal: 857ms\tremaining: 43.2ms\n",
      "952:\tlearn: 0.0601558\ttotal: 858ms\tremaining: 42.3ms\n",
      "953:\tlearn: 0.0601230\ttotal: 859ms\tremaining: 41.4ms\n",
      "954:\tlearn: 0.0600396\ttotal: 859ms\tremaining: 40.5ms\n",
      "955:\tlearn: 0.0599284\ttotal: 860ms\tremaining: 39.6ms\n",
      "956:\tlearn: 0.0598766\ttotal: 861ms\tremaining: 38.7ms\n",
      "957:\tlearn: 0.0598008\ttotal: 862ms\tremaining: 37.8ms\n",
      "958:\tlearn: 0.0596712\ttotal: 863ms\tremaining: 36.9ms\n",
      "959:\tlearn: 0.0596381\ttotal: 863ms\tremaining: 36ms\n",
      "960:\tlearn: 0.0595050\ttotal: 864ms\tremaining: 35.1ms\n",
      "961:\tlearn: 0.0594760\ttotal: 865ms\tremaining: 34.2ms\n",
      "962:\tlearn: 0.0594070\ttotal: 866ms\tremaining: 33.3ms\n",
      "963:\tlearn: 0.0594002\ttotal: 867ms\tremaining: 32.4ms\n"
     ]
    },
    {
     "name": "stdout",
     "output_type": "stream",
     "text": [
      "964:\tlearn: 0.0593908\ttotal: 868ms\tremaining: 31.5ms\n",
      "965:\tlearn: 0.0593021\ttotal: 869ms\tremaining: 30.6ms\n",
      "966:\tlearn: 0.0592851\ttotal: 869ms\tremaining: 29.7ms\n",
      "967:\tlearn: 0.0592145\ttotal: 870ms\tremaining: 28.8ms\n",
      "968:\tlearn: 0.0590948\ttotal: 871ms\tremaining: 27.9ms\n",
      "969:\tlearn: 0.0590193\ttotal: 872ms\tremaining: 27ms\n",
      "970:\tlearn: 0.0589235\ttotal: 873ms\tremaining: 26.1ms\n",
      "971:\tlearn: 0.0588384\ttotal: 874ms\tremaining: 25.2ms\n",
      "972:\tlearn: 0.0588340\ttotal: 875ms\tremaining: 24.3ms\n",
      "973:\tlearn: 0.0587074\ttotal: 876ms\tremaining: 23.4ms\n",
      "974:\tlearn: 0.0586449\ttotal: 877ms\tremaining: 22.5ms\n",
      "975:\tlearn: 0.0585092\ttotal: 878ms\tremaining: 21.6ms\n",
      "976:\tlearn: 0.0584570\ttotal: 879ms\tremaining: 20.7ms\n",
      "977:\tlearn: 0.0583967\ttotal: 880ms\tremaining: 19.8ms\n",
      "978:\tlearn: 0.0582411\ttotal: 881ms\tremaining: 18.9ms\n",
      "979:\tlearn: 0.0581739\ttotal: 881ms\tremaining: 18ms\n",
      "980:\tlearn: 0.0580827\ttotal: 882ms\tremaining: 17.1ms\n",
      "981:\tlearn: 0.0580542\ttotal: 883ms\tremaining: 16.2ms\n",
      "982:\tlearn: 0.0579798\ttotal: 884ms\tremaining: 15.3ms\n",
      "983:\tlearn: 0.0578828\ttotal: 885ms\tremaining: 14.4ms\n",
      "984:\tlearn: 0.0577798\ttotal: 886ms\tremaining: 13.5ms\n",
      "985:\tlearn: 0.0576683\ttotal: 887ms\tremaining: 12.6ms\n",
      "986:\tlearn: 0.0575045\ttotal: 888ms\tremaining: 11.7ms\n",
      "987:\tlearn: 0.0573866\ttotal: 888ms\tremaining: 10.8ms\n",
      "988:\tlearn: 0.0572954\ttotal: 889ms\tremaining: 9.89ms\n",
      "989:\tlearn: 0.0571898\ttotal: 890ms\tremaining: 8.99ms\n",
      "990:\tlearn: 0.0571794\ttotal: 891ms\tremaining: 8.09ms\n",
      "991:\tlearn: 0.0570667\ttotal: 892ms\tremaining: 7.19ms\n",
      "992:\tlearn: 0.0569503\ttotal: 893ms\tremaining: 6.29ms\n",
      "993:\tlearn: 0.0568023\ttotal: 893ms\tremaining: 5.39ms\n",
      "994:\tlearn: 0.0567971\ttotal: 894ms\tremaining: 4.49ms\n",
      "995:\tlearn: 0.0566877\ttotal: 895ms\tremaining: 3.59ms\n",
      "996:\tlearn: 0.0565615\ttotal: 896ms\tremaining: 2.69ms\n",
      "997:\tlearn: 0.0564823\ttotal: 896ms\tremaining: 1.8ms\n",
      "998:\tlearn: 0.0563747\ttotal: 897ms\tremaining: 898us\n",
      "999:\tlearn: 0.0563698\ttotal: 898ms\tremaining: 0us\n"
     ]
    },
    {
     "data": {
      "text/plain": [
       "<catboost.core.CatBoostRegressor at 0x7fd19188b190>"
      ]
     },
     "execution_count": 9,
     "metadata": {},
     "output_type": "execute_result"
    }
   ],
   "source": [
    "#Train the Model \n",
    "prior_model = ctb.CatBoostRegressor()\n",
    "prior_model.fit(X_train,Y_train)"
   ]
  },
  {
   "cell_type": "code",
   "execution_count": 10,
   "id": "af65dcda",
   "metadata": {
    "execution": {
     "iopub.execute_input": "2022-06-12T07:28:39.370652Z",
     "iopub.status.busy": "2022-06-12T07:28:39.370271Z",
     "iopub.status.idle": "2022-06-12T07:28:39.377886Z",
     "shell.execute_reply": "2022-06-12T07:28:39.378177Z"
    },
    "id": "af65dcda",
    "papermill": {
     "duration": 0.020877,
     "end_time": "2022-06-12T07:28:39.378291",
     "exception": false,
     "start_time": "2022-06-12T07:28:39.357414",
     "status": "completed"
    },
    "tags": []
   },
   "outputs": [
    {
     "data": {
      "application/scrapbook.scrap.json+json": {
       "data": 0.06811674364092352,
       "encoder": "json",
       "name": "Prior Model MSE",
       "version": 1
      }
     },
     "metadata": {
      "scrapbook": {
       "data": true,
       "display": false,
       "name": "Prior Model MSE"
      }
     },
     "output_type": "display_data"
    },
    {
     "data": {
      "application/scrapbook.scrap.json+json": {
       "data": 1.0536049458433963,
       "encoder": "json",
       "name": "ABC Pre-generator MSE",
       "version": 1
      }
     },
     "metadata": {
      "scrapbook": {
       "data": true,
       "display": false,
       "name": "ABC Pre-generator MSE"
      }
     },
     "output_type": "display_data"
    },
    {
     "data": {
      "application/scrapbook.scrap.json+json": {
       "data": 0.18338728768571785,
       "encoder": "json",
       "name": "Prior Model MSE",
       "version": 1
      }
     },
     "metadata": {
      "scrapbook": {
       "data": true,
       "display": false,
       "name": "Prior Model MSE"
      }
     },
     "output_type": "display_data"
    },
    {
     "data": {
      "application/scrapbook.scrap.json+json": {
       "data": 0.9934787788964607,
       "encoder": "json",
       "name": "ABC Pre-generator MSE",
       "version": 1
      }
     },
     "metadata": {
      "scrapbook": {
       "data": true,
       "display": false,
       "name": "ABC Pre-generator MSE"
      }
     },
     "output_type": "display_data"
    }
   ],
   "source": [
    "y_pred = prior_model.predict(X_test)\n",
    "y_abc = y_pred + np.random.normal(0,variance, y_pred.shape) + bias \n",
    "mse = mean_squared_error(y_pred,Y_test)\n",
    "sb.glue(\"Prior Model MSE\",mse)\n",
    "mse = mean_squared_error(y_abc,Y_test)\n",
    "sb.glue(\"ABC Pre-generator MSE\",mse)\n",
    "mae = mean_absolute_error(y_pred,Y_test)\n",
    "sb.glue(\"Prior Model MSE\",mae)\n",
    "mae = mean_absolute_error(y_abc,Y_test)\n",
    "sb.glue(\"ABC Pre-generator MSE\",mae)"
   ]
  },
  {
   "cell_type": "markdown",
   "id": "25609da2",
   "metadata": {
    "papermill": {
     "duration": 0.009854,
     "end_time": "2022-06-12T07:28:39.398301",
     "exception": false,
     "start_time": "2022-06-12T07:28:39.388447",
     "status": "completed"
    },
    "tags": []
   },
   "source": [
    "# ABC GAN Model"
   ]
  },
  {
   "cell_type": "code",
   "execution_count": 11,
   "id": "dfc3464d",
   "metadata": {
    "execution": {
     "iopub.execute_input": "2022-06-12T07:28:39.421108Z",
     "iopub.status.busy": "2022-06-12T07:28:39.420737Z",
     "iopub.status.idle": "2022-06-12T07:28:39.423189Z",
     "shell.execute_reply": "2022-06-12T07:28:39.423432Z"
    },
    "papermill": {
     "duration": 0.015347,
     "end_time": "2022-06-12T07:28:39.423539",
     "exception": false,
     "start_time": "2022-06-12T07:28:39.408192",
     "status": "completed"
    },
    "tags": []
   },
   "outputs": [],
   "source": [
    "gen = network.Generator(n_features+1).to(device)\n",
    "disc = network.Discriminator(n_features+1).to(device)\n",
    "\n",
    "criterion = torch.nn.BCELoss()\n",
    "gen_opt = torch.optim.Adam(gen.parameters(), lr=0.001, betas=(0.5, 0.999))\n",
    "disc_opt = torch.optim.Adam(disc.parameters(), lr=0.001, betas=(0.5, 0.999))"
   ]
  },
  {
   "cell_type": "code",
   "execution_count": 12,
   "id": "b75fdd85",
   "metadata": {
    "execution": {
     "iopub.execute_input": "2022-06-12T07:28:39.446275Z",
     "iopub.status.busy": "2022-06-12T07:28:39.445920Z",
     "iopub.status.idle": "2022-06-12T07:29:39.093921Z",
     "shell.execute_reply": "2022-06-12T07:29:39.094220Z"
    },
    "papermill": {
     "duration": 59.660727,
     "end_time": "2022-06-12T07:29:39.094342",
     "exception": false,
     "start_time": "2022-06-12T07:28:39.433615",
     "status": "completed"
    },
    "tags": []
   },
   "outputs": [
    {
     "data": {
      "image/png": "[encoded data removed]",
      "text/plain": [
       "<Figure size 432x288 with 1 Axes>"
      ]
     },
     "metadata": {
      "needs_background": "light"
     },
     "output_type": "display_data"
    },
    {
     "data": {
      "image/png": "[encoded data removed]",
      "text/plain": [
       "<Figure size 432x288 with 1 Axes>"
      ]
     },
     "metadata": {
      "needs_background": "light"
     },
     "output_type": "display_data"
    }
   ],
   "source": [
    "#Training the ABC_GAN \n",
    "ABC_train_test2.training_GAN(disc,gen,disc_opt,gen_opt,train_data,batch_size,n_epochs,criterion,prior_model,variance,bias,device)"
   ]
  },
  {
   "cell_type": "code",
   "execution_count": 13,
   "id": "1fa7c368",
   "metadata": {
    "execution": {
     "iopub.execute_input": "2022-06-12T07:29:39.119495Z",
     "iopub.status.busy": "2022-06-12T07:29:39.119098Z",
     "iopub.status.idle": "2022-06-12T07:29:39.434640Z",
     "shell.execute_reply": "2022-06-12T07:29:39.434892Z"
    },
    "papermill": {
     "duration": 0.329609,
     "end_time": "2022-06-12T07:29:39.435017",
     "exception": false,
     "start_time": "2022-06-12T07:29:39.105408",
     "status": "completed"
    },
    "tags": []
   },
   "outputs": [
    {
     "data": {
      "application/scrapbook.scrap.json+json": {
       "data": 0.07136515743473873,
       "encoder": "json",
       "name": "ABC-GAN Model 1 MSE",
       "version": 1
      }
     },
     "metadata": {
      "scrapbook": {
       "data": true,
       "display": false,
       "name": "ABC-GAN Model 1 MSE"
      }
     },
     "output_type": "display_data"
    },
    {
     "data": {
      "application/scrapbook.scrap.json+json": {
       "data": 0.19298648308013,
       "encoder": "json",
       "name": "ABC-GAN Model 1 MAE",
       "version": 1
      }
     },
     "metadata": {
      "scrapbook": {
       "data": true,
       "display": false,
       "name": "ABC-GAN Model 1 MAE"
      }
     },
     "output_type": "display_data"
    },
    {
     "data": {
      "application/scrapbook.scrap.json+json": {
       "data": 19.68462127417326,
       "encoder": "json",
       "name": "ABC-GAN Model 1 Manhattan Distance",
       "version": 1
      }
     },
     "metadata": {
      "scrapbook": {
       "data": true,
       "display": false,
       "name": "ABC-GAN Model 1 Manhattan Distance"
      }
     },
     "output_type": "display_data"
    },
    {
     "data": {
      "application/scrapbook.scrap.json+json": {
       "data": 2.6979877537461405,
       "encoder": "json",
       "name": "ABC-GAN Model 1 Euclidean distance",
       "version": 1
      }
     },
     "metadata": {
      "scrapbook": {
       "data": true,
       "display": false,
       "name": "ABC-GAN Model 1 Euclidean distance"
      }
     },
     "output_type": "display_data"
    },
    {
     "data": {
      "application/scrapbook.scrap.json+json": {
       "data": [
        [
         0.0710034082899326,
         0.07154465451653996,
         0.07138018322339627,
         0.07141433918122168,
         0.07127213777588941,
         0.07071283614439502,
         0.07202702264650779,
         0.07020464729208757,
         0.0721412379941918,
         0.07062580434411267,
         0.07148464524567529,
         0.07029577157837746,
         0.07202324255282404,
         0.07184799550980296,
         0.07134825442418445,
         0.07099258277716382,
         0.07164630786352236,
         0.07184850282680871,
         0.072722061916612,
         0.07098226161178216,
         0.07110148210467275,
         0.0716497483563862,
         0.07121148030627192,
         0.07077843937723965,
         0.07080478944314175,
         0.07157505592373407,
         0.07150974141191135,
         0.07197561969813596,
         0.07031691479439765,
         0.0709323309653949,
         0.07166315227774642,
         0.07169951654296887,
         0.07199044934606953,
         0.07122599363090101,
         0.07100906044026724,
         0.07120942456262411,
         0.0712459794985213,
         0.07133415660026622,
         0.07138116098980575,
         0.07207128362453996,
         0.07093225205723096,
         0.071702232926752,
         0.07255519210247137,
         0.07205480506630808,
         0.07159297005691079,
         0.07086778500814074,
         0.07220621505388496,
         0.07076105632773848,
         0.07144302350239903,
         0.07037672152396739,
         0.07122718787567615,
         0.07140574846291883,
         0.0708642870721186,
         0.07215285895155571,
         0.07035387834631378,
         0.07100915765791713,
         0.07240570367934114,
         0.07217840555058017,
         0.07103006702472073,
         0.07284031126184488,
         0.07062318298301448,
         0.07110519965493602,
         0.07086956833991295,
         0.07146510246281683,
         0.07209068727151077,
         0.07138231178309513,
         0.07224085930616754,
         0.07138869653398168,
         0.07183376827150531,
         0.07142872725700614,
         0.07177062664477918,
         0.07128599767787136,
         0.0711964855079784,
         0.07176718788385715,
         0.07147716527328697,
         0.07131896224993238,
         0.07121154961752361,
         0.07156433859381278,
         0.0711984381889808,
         0.0713370950224753,
         0.07173441737003795,
         0.07130711019222354,
         0.07098391238587384,
         0.0712947726939409,
         0.07164413452363691,
         0.07135273258986381,
         0.07099680526045135,
         0.07043737550107741,
         0.07042025242029051,
         0.07064623859217196,
         0.07188345528275623,
         0.07176392085667832,
         0.07107868328505633,
         0.07176576459223301,
         0.07176886469446953,
         0.07036574009326214,
         0.07145242914869994,
         0.07075283294653016,
         0.07099730970363867,
         0.07114950369772023
        ],
        [
         0.19382335384394608,
         0.1942156736611151,
         0.19290394423639073,
         0.1954947395944128,
         0.19275795536882737,
         0.1932341951657744,
         0.19357737007678724,
         0.191852133867203,
         0.1933638260645025,
         0.190960796367304,
         0.1937104578988225,
         0.19154869483820364,
         0.19399120855857344,
         0.19359021202898494,
         0.19293703803536938,
         0.19285664627072857,
         0.1938544481846632,
         0.19402596610141734,
         0.19394224812733193,
         0.1931183560221803,
         0.19270379629497433,
         0.19189162015476646,
         0.1923140501420872,
         0.1916133463382721,
         0.19328323043152398,
         0.19316502200330005,
         0.19215749328335127,
         0.19366813604446018,
         0.19169923276001333,
         0.19250905448023012,
         0.19436958015841596,
         0.19360693690239214,
         0.19355041358400793,
         0.1923715767322802,
         0.19143835352916344,
         0.19242120643748956,
         0.19372266852388195,
         0.19398129892115498,
         0.19318751413740365,
         0.19265193287648408,
         0.19269452280565805,
         0.19389875824837124,
         0.19499773166927636,
         0.19402280486389703,
         0.19302736916670613,
         0.19280860901755445,
         0.19299777078570104,
         0.19337588760490512,
         0.1928819033006827,
         0.19283508575137923,
         0.192834391824755,
         0.19328870186034372,
         0.1924432136994951,
         0.1926257200539112,
         0.19164999274938715,
         0.19424348792024687,
         0.19328742350141206,
         0.19462303729618297,
         0.1920697640116308,
         0.19607247682470902,
         0.19297223560073795,
         0.19225530048795775,
         0.1919818384682431,
         0.19318651459088512,
         0.1934339028655314,
         0.1945872292945198,
         0.19482197181559077,
         0.1928662743200274,
         0.19399771401110819,
         0.19321221544169911,
         0.19339660080332383,
         0.19242723088930636,
         0.191886825596585,
         0.19442804906444222,
         0.19345845866437053,
         0.19186998954882808,
         0.19251733200222837,
         0.19373012158800573,
         0.19196314152841473,
         0.19160669567246064,
         0.19234086529296987,
         0.19301913598296688,
         0.19031515593330064,
         0.19412851742669648,
         0.19464512278928475,
         0.1918533331184995,
         0.19269173585024535,
         0.19153537732713363,
         0.1906809523409488,
         0.1915088056349287,
         0.19336139943962002,
         0.1934238319449565,
         0.19281291779057652,
         0.1929417071389217,
         0.19391188719401173,
         0.19134278456662215,
         0.19278029199032223,
         0.1925078981062945,
         0.19185511848213627,
         0.19164744640390077
        ],
        [
         19.7699820920825,
         19.809998713433743,
         19.676202312111855,
         19.940463438630104,
         19.661311447620392,
         19.70988790690899,
         19.7448917478323,
         19.568917654454708,
         19.723110258579254,
         19.478001229465008,
         19.758466705679893,
         19.53796687349677,
         19.78710327297449,
         19.746201626956463,
         19.679577879607677,
         19.671377919614315,
         19.773153714835644,
         19.79064854234457,
         19.782109308987856,
         19.69807231426239,
         19.655787222087383,
         19.57294525578618,
         19.616033114492893,
         19.544561326503754,
         19.714889504015446,
         19.702832244336605,
         19.60006431490183,
         19.75414987653494,
         19.55332174152136,
         19.63592355698347,
         19.825697176158428,
         19.747907564044,
         19.74214218556881,
         19.62190082669258,
         19.52671205997467,
         19.626963056623936,
         19.75971218943596,
         19.78609248995781,
         19.70512644201517,
         19.650497153401375,
         19.65484132617712,
         19.777673341333866,
         19.88976863026619,
         19.790326096117496,
         19.688791655004025,
         19.666478119790554,
         19.685772620141506,
         19.72434053570032,
         19.673954136669636,
         19.669178746640682,
         19.66910796612501,
         19.71544758975506,
         19.6292077973485,
         19.647823445498943,
         19.54829926043749,
         19.81283576786518,
         19.71531719714403,
         19.851549804210663,
         19.591115929186344,
         19.99939263612032,
         19.683168031275272,
         19.61004064977169,
         19.582147523760796,
         19.705024488270283,
         19.730258092284203,
         19.84789738804102,
         19.871841125190258,
         19.672359980642796,
         19.787766829133034,
         19.70764597505331,
         19.72645328193903,
         19.627577550709248,
         19.57245621085167,
         19.831661004573107,
         19.732762783765793,
         19.570738933980465,
         19.636767864227295,
         19.760472401976585,
         19.580240435898304,
         19.543882958590984,
         19.618768259882927,
         19.687951870262623,
         19.412145905196667,
         19.80110877752304,
         19.853802524507046,
         19.56903997808695,
         19.654557056725025,
         19.53660848736763,
         19.44945713877678,
         19.533898174762726,
         19.722862742841244,
         19.729230858385563,
         19.666917614638805,
         19.680054128170013,
         19.779012493789196,
         19.51696402579546,
         19.663589783012867,
         19.63580560684204,
         19.5692220851779,
         19.54803953319788
        ],
        [
         2.69116102185899,
         2.7013986674845083,
         2.6982918094206227,
         2.6989373087355344,
         2.6962488856076914,
         2.685648764587114,
         2.7104900497776767,
         2.6759809460818156,
         2.712638250008202,
         2.683995537086359,
         2.700265508252638,
         2.6777170688843324,
         2.710418923411665,
         2.7071194177575357,
         2.6976882605791968,
         2.6909558605207016,
         2.7033171108989933,
         2.7071289751939203,
         2.723536362065765,
         2.690760242831341,
         2.6930189703521625,
         2.7033820174646777,
         2.6951012951723605,
         2.686894269687299,
         2.687394374333707,
         2.7019725580066267,
         2.7007394587436524,
         2.709522690292492,
         2.678119733885802,
         2.689813703301825,
         2.7036348740778835,
         2.7043207441764046,
         2.7098018070145073,
         2.695375920043789,
         2.691268133224049,
         2.6950623935982736,
         2.695754051995317,
         2.697421726988042,
         2.698310289970407,
         2.7113227269550695,
         2.6898122071694073,
         2.704371971184567,
         2.720409821047571,
         2.711012747436541,
         2.7023106678923687,
         2.688589606249037,
         2.7138596012867477,
         2.6865643013762623,
         2.6994792826107594,
         2.679258404007473,
         2.6953985166054695,
         2.698774970837272,
         2.6885232528948104,
         2.71285672549412,
         2.6788235461343852,
         2.691269975514821,
         2.7176058903551104,
         2.713336942983524,
         2.6916661822227343,
         2.7257497590035986,
         2.6839457267738247,
         2.6930893718559497,
         2.6886234341519675,
         2.6998963778647718,
         2.711687685131549,
         2.6983320407013855,
         2.714510572686923,
         2.6984527134019096,
         2.7068513745112677,
         2.699209176817281,
         2.705661456606771,
         2.696511035234767,
         2.6948175303374056,
         2.7055966373710305,
         2.700124230081881,
         2.697134432966422,
         2.695102606764241,
         2.7017702597683804,
         2.6948544849909872,
         2.697477282998409,
         2.704978848668483,
         2.6969103136008803,
         2.6907915310107415,
         2.6966769948924116,
         2.703276108985348,
         2.697772919310687,
         2.691035885410307,
         2.6804127109663343,
         2.68008689166408,
         2.6843837908170913,
         2.7077873695770744,
         2.7055350538075063,
         2.6925871750188044,
         2.705569808452143,
         2.7056282447586715,
         2.6790493630227754,
         2.699656973240747,
         2.6864081894876053,
         2.6910454455046167,
         2.6939282427651006
        ]
       ],
       "encoder": "json",
       "name": "ABC_GAN_1 Metrics",
       "version": 1
      }
     },
     "metadata": {
      "scrapbook": {
       "data": true,
       "display": false,
       "name": "ABC_GAN_1 Metrics"
      }
     },
     "output_type": "display_data"
    },
    {
     "name": "stdout",
     "output_type": "stream",
     "text": [
      "MSE\n",
      "0.07136515743473873\n"
     ]
    }
   ],
   "source": [
    "ABC_GAN1_metrics=ABC_train_test2.test_generator(gen,test_data,prior_model,variance,bias,\"1\",device)\n",
    "sb.glue(\"ABC_GAN_1 Metrics\",ABC_GAN1_metrics)\n",
    "\n",
    "print(\"MSE\")\n",
    "print(mean(ABC_GAN1_metrics[0]))"
   ]
  },
  {
   "cell_type": "code",
   "execution_count": 14,
   "id": "eb22ce5c",
   "metadata": {
    "execution": {
     "iopub.execute_input": "2022-06-12T07:29:39.462665Z",
     "iopub.status.busy": "2022-06-12T07:29:39.462293Z",
     "iopub.status.idle": "2022-06-12T07:29:39.791178Z",
     "shell.execute_reply": "2022-06-12T07:29:39.791423Z"
    },
    "papermill": {
     "duration": 0.343758,
     "end_time": "2022-06-12T07:29:39.791551",
     "exception": false,
     "start_time": "2022-06-12T07:29:39.447793",
     "status": "completed"
    },
    "tags": []
   },
   "outputs": [
    {
     "data": {
      "image/png": "[encoded data removed]",
      "text/plain": [
       "<Figure size 432x288 with 1 Axes>"
      ]
     },
     "metadata": {
      "needs_background": "light"
     },
     "output_type": "display_data"
    },
    {
     "data": {
      "image/png": "[encoded data removed]",
      "text/plain": [
       "<Figure size 432x288 with 1 Axes>"
      ]
     },
     "metadata": {
      "needs_background": "light"
     },
     "output_type": "display_data"
    },
    {
     "data": {
      "image/png": "[encoded data removed]",
      "text/plain": [
       "<Figure size 432x288 with 1 Axes>"
      ]
     },
     "metadata": {
      "needs_background": "light"
     },
     "output_type": "display_data"
    },
    {
     "data": {
      "image/png": "[encoded data removed]",
      "text/plain": [
       "<Figure size 432x288 with 1 Axes>"
      ]
     },
     "metadata": {
      "needs_background": "light"
     },
     "output_type": "display_data"
    }
   ],
   "source": [
    "sanityChecks.discProbVsError(train_data,disc,device)\n",
    "sanityChecks.discProbVsError(test_data,disc,device)"
   ]
  },
  {
   "cell_type": "markdown",
   "id": "130f3a4d",
   "metadata": {
    "id": "130f3a4d",
    "papermill": {
     "duration": 0.014714,
     "end_time": "2022-06-12T07:29:39.821344",
     "exception": false,
     "start_time": "2022-06-12T07:29:39.806630",
     "status": "completed"
    },
    "tags": []
   },
   "source": [
    "# ABC - GAN Model with skip connection"
   ]
  },
  {
   "cell_type": "code",
   "execution_count": 15,
   "id": "4e43dad1",
   "metadata": {
    "execution": {
     "iopub.execute_input": "2022-06-12T07:29:39.854148Z",
     "iopub.status.busy": "2022-06-12T07:29:39.853779Z",
     "iopub.status.idle": "2022-06-12T07:29:39.856163Z",
     "shell.execute_reply": "2022-06-12T07:29:39.856398Z"
    },
    "id": "4e43dad1",
    "papermill": {
     "duration": 0.020316,
     "end_time": "2022-06-12T07:29:39.856512",
     "exception": false,
     "start_time": "2022-06-12T07:29:39.836196",
     "status": "completed"
    },
    "tags": []
   },
   "outputs": [],
   "source": [
    "#Generator\n",
    "gen3 = network.GeneratorWithSkipConnection(n_features+1).to(device)\n",
    "constraints=network.weightConstraint()\n",
    "#Discriminator \n",
    "disc3 = network.Discriminator(n_features+1).to(device)\n",
    "\n",
    "criterion = torch.nn.BCELoss()\n",
    "gen_opt = torch.optim.Adam(gen3.parameters(), lr=0.001, betas=(0.5, 0.999))\n",
    "disc_opt = torch.optim.Adam(disc3.parameters(), lr=0.001, betas=(0.5, 0.999))\n"
   ]
  },
  {
   "cell_type": "code",
   "execution_count": 16,
   "id": "26acbc37",
   "metadata": {
    "execution": {
     "iopub.execute_input": "2022-06-12T07:29:39.888376Z",
     "iopub.status.busy": "2022-06-12T07:29:39.887991Z",
     "iopub.status.idle": "2022-06-12T07:32:35.966723Z",
     "shell.execute_reply": "2022-06-12T07:32:35.967023Z"
    },
    "id": "26acbc37",
    "papermill": {
     "duration": 176.095868,
     "end_time": "2022-06-12T07:32:35.967143",
     "exception": false,
     "start_time": "2022-06-12T07:29:39.871275",
     "status": "completed"
    },
    "tags": []
   },
   "outputs": [
    {
     "data": {
      "image/png": "[encoded data removed]",
      "text/plain": [
       "<Figure size 432x288 with 1 Axes>"
      ]
     },
     "metadata": {
      "needs_background": "light"
     },
     "output_type": "display_data"
    },
    {
     "data": {
      "image/png": "[encoded data removed]",
      "text/plain": [
       "<Figure size 432x288 with 1 Axes>"
      ]
     },
     "metadata": {
      "needs_background": "light"
     },
     "output_type": "display_data"
    }
   ],
   "source": [
    "ABC_train_test2.training_GAN_skip_connection(disc3,gen3,disc_opt,gen_opt,train_data,batch_size,n_epochs,criterion,prior_model,variance,bias,device)"
   ]
  },
  {
   "cell_type": "code",
   "execution_count": 17,
   "id": "c5e0717b",
   "metadata": {
    "execution": {
     "iopub.execute_input": "2022-06-12T07:32:36.001253Z",
     "iopub.status.busy": "2022-06-12T07:32:36.000858Z",
     "iopub.status.idle": "2022-06-12T07:32:36.830920Z",
     "shell.execute_reply": "2022-06-12T07:32:36.831162Z"
    },
    "id": "c5e0717b",
    "papermill": {
     "duration": 0.848364,
     "end_time": "2022-06-12T07:32:36.831281",
     "exception": false,
     "start_time": "2022-06-12T07:32:35.982917",
     "status": "completed"
    },
    "tags": []
   },
   "outputs": [
    {
     "data": {
      "application/scrapbook.scrap.json+json": {
       "data": 0.07947481470523574,
       "encoder": "json",
       "name": "ABC-GAN Model 3 MSE",
       "version": 1
      }
     },
     "metadata": {
      "scrapbook": {
       "data": true,
       "display": false,
       "name": "ABC-GAN Model 3 MSE"
      }
     },
     "output_type": "display_data"
    },
    {
     "data": {
      "application/scrapbook.scrap.json+json": {
       "data": 0.19696041182852259,
       "encoder": "json",
       "name": "ABC-GAN Model 3 MAE",
       "version": 1
      }
     },
     "metadata": {
      "scrapbook": {
       "data": true,
       "display": false,
       "name": "ABC-GAN Model 3 MAE"
      }
     },
     "output_type": "display_data"
    },
    {
     "data": {
      "application/scrapbook.scrap.json+json": {
       "data": 20.089962006509303,
       "encoder": "json",
       "name": "ABC-GAN Model 3 Manhattan Distance",
       "version": 1
      }
     },
     "metadata": {
      "scrapbook": {
       "data": true,
       "display": false,
       "name": "ABC-GAN Model 3 Manhattan Distance"
      }
     },
     "output_type": "display_data"
    },
    {
     "data": {
      "application/scrapbook.scrap.json+json": {
       "data": 2.8471591283894875,
       "encoder": "json",
       "name": "ABC-GAN Model 3 Euclidean distance",
       "version": 1
      }
     },
     "metadata": {
      "scrapbook": {
       "data": true,
       "display": false,
       "name": "ABC-GAN Model 3 Euclidean distance"
      }
     },
     "output_type": "display_data"
    },
    {
     "data": {
      "application/scrapbook.scrap.json+json": {
       "data": [
        [
         0.07955008640697768,
         0.07894730134599133,
         0.0800828348272298,
         0.07973478352022678,
         0.07912959999191184,
         0.07972896830173251,
         0.07972477584770982,
         0.07997030938423723,
         0.0793403387116933,
         0.0792959000170785,
         0.07909160536404522,
         0.07848421081907642,
         0.08007180656033693,
         0.08077388187914744,
         0.07967983789829634,
         0.0789817093564093,
         0.07962765227864047,
         0.08002178619478091,
         0.07889049015888984,
         0.07972356318345383,
         0.0791918614987381,
         0.07999972175942897,
         0.07926072058908126,
         0.07933672954021814,
         0.07939962280569929,
         0.07947862643703203,
         0.07916405052112156,
         0.0791325979287324,
         0.07918793606666237,
         0.078822818166057,
         0.0798433095862548,
         0.07996072512938777,
         0.07882645104669012,
         0.08000521759387677,
         0.07937796032456784,
         0.07968409092660456,
         0.0799007922891591,
         0.07979952694950515,
         0.07935089892864838,
         0.07875385591426949,
         0.07888826072781348,
         0.07992004099710125,
         0.0799373646755496,
         0.07947168525126035,
         0.08098307989078218,
         0.07977117235352037,
         0.07951294103759607,
         0.07933696811138827,
         0.07921387814974329,
         0.07847937116663385,
         0.08004201462862551,
         0.07970388783287412,
         0.07876039473625211,
         0.08020004389773813,
         0.08070015697187852,
         0.07952531232675154,
         0.08045072892350491,
         0.07918643001493966,
         0.07938231397087021,
         0.07927870971589392,
         0.07855392000883218,
         0.08003857382482901,
         0.08029388857014931,
         0.07986028039471145,
         0.08005849415962334,
         0.07885106266330846,
         0.07982843916284853,
         0.07812915706949018,
         0.07832537193983584,
         0.07967974683947575,
         0.0795766229615576,
         0.07888079237076998,
         0.07994086794483658,
         0.07913180736424504,
         0.07933604743911109,
         0.07944227332609374,
         0.07949984541806228,
         0.07855673471209994,
         0.07894670402959025,
         0.07801949161170231,
         0.079571609760069,
         0.07992064951499557,
         0.07966429294569244,
         0.07870649592087797,
         0.08034316706442692,
         0.07973259231071866,
         0.07932597850606198,
         0.07912432790956665,
         0.08013052934151488,
         0.0793299404455222,
         0.07856730226419473,
         0.07998052080903828,
         0.07965914971244274,
         0.07817120529495676,
         0.07900704933065489,
         0.08077120116403082,
         0.0792325509017904,
         0.07889963933211132,
         0.08091958452224755,
         0.07939985023116859
        ],
        [
         0.19723868892327243,
         0.19588794438716242,
         0.19872897976607667,
         0.19656486776383483,
         0.19620555957012317,
         0.19741053875608772,
         0.196868625889514,
         0.19839731176548145,
         0.19642560414093382,
         0.19695507336919213,
         0.19615483426434152,
         0.19495053410384,
         0.19807004574321063,
         0.19816931925129658,
         0.19639663803665078,
         0.195034137141763,
         0.19794415079933755,
         0.19762195876854308,
         0.1957929134003672,
         0.19632850043183447,
         0.19757497394640072,
         0.19774626162560546,
         0.19775382703279748,
         0.19735217412166736,
         0.19658172623637846,
         0.19776000721635772,
         0.19621145137238735,
         0.19702413762170895,
         0.19705762374488747,
         0.19627031242000123,
         0.19750826875222663,
         0.19645338370373436,
         0.1965117305151972,
         0.19742646809740394,
         0.1967529016455599,
         0.19736441469513902,
         0.19806177472220918,
         0.19659971705108298,
         0.1962857085334904,
         0.19577063879399909,
         0.19595016126393103,
         0.19723648588885279,
         0.19759280033701776,
         0.19793723162044496,
         0.20015430446787208,
         0.19814138037755208,
         0.1968096727322714,
         0.19694949536785192,
         0.19644631032704138,
         0.1952970556403492,
         0.1976595239385086,
         0.19737676162199647,
         0.19514666172657527,
         0.19788568258723793,
         0.19851628395126147,
         0.1973230330017852,
         0.19684289450592854,
         0.19683756982432862,
         0.19681127745585114,
         0.19672947124961546,
         0.19693567556347333,
         0.19772744102074818,
         0.19745882070970303,
         0.1975625552894438,
         0.19795665338489354,
         0.19616212005562642,
         0.19692905857136436,
         0.19381918593802872,
         0.19652137916316004,
         0.19725977815687656,
         0.19674438994158716,
         0.19465470135065854,
         0.19706830977663106,
         0.19695996606320726,
         0.19616109465121054,
         0.19665080743531385,
         0.19647130863193205,
         0.19734709625881092,
         0.1960192634997999,
         0.19741896550883264,
         0.19802207072429798,
         0.19858767147011616,
         0.19674713292396537,
         0.1953984492038395,
         0.19804435731003098,
         0.19748602146465405,
         0.19656398158301325,
         0.19502602455516657,
         0.19778221929628476,
         0.196937647995119,
         0.1946780234210047,
         0.19629627404113612,
         0.19913123427506754,
         0.1961379486190922,
         0.19650718829064978,
         0.19928513113044055,
         0.1966182183036033,
         0.19614008240693925,
         0.19946736875264084,
         0.19649778010652347
        ],
        [
         20.118346270173788,
         19.980570327490568,
         20.270355936139822,
         20.049616511911154,
         20.012967076152563,
         20.135874953120947,
         20.08059984073043,
         20.236525800079107,
         20.03541162237525,
         20.0894174836576,
         20.007793094962835,
         19.88495447859168,
         20.203144665807486,
         20.21327056363225,
         20.03245707973838,
         19.893481988459826,
         20.19030338153243,
         20.157439794391394,
         19.970877166837454,
         20.025507044047117,
         20.152647342532873,
         20.170118685811758,
         20.170890357345343,
         20.12992176041007,
         20.0513360761106,
         20.171520736068487,
         20.01356803998351,
         20.096462037414312,
         20.09987762197852,
         20.019571866840124,
         20.145843412727118,
         20.038245137780905,
         20.044196512550116,
         20.1374997459352,
         20.06879596784711,
         20.13117029890418,
         20.202301021665335,
         20.053171139210463,
         20.02114227041602,
         19.968605156987906,
         19.986916448920965,
         20.118121560662985,
         20.15446563437581,
         20.189597625285387,
         20.415739055722952,
         20.210420798510313,
         20.074586618691683,
         20.088848527520895,
         20.03752365335822,
         19.92029967531562,
         20.161271441727877,
         20.13242968544364,
         19.904959496110678,
         20.184339623898268,
         20.24866096302867,
         20.12694936618209,
         20.07797523960471,
         20.077432122081518,
         20.074750300496817,
         20.066406067460775,
         20.08743890747428,
         20.168198984116316,
         20.140799712389708,
         20.151380639523268,
         20.191578645259142,
         20.008536245673895,
         20.086763974279165,
         19.76955696567893,
         20.045180674642324,
         20.12049737200141,
         20.06792777404189,
         19.854779537767172,
         20.100967597216368,
         20.08991653844714,
         20.008431654423475,
         20.058382358402014,
         20.040073480457067,
         20.129403818398714,
         19.99396487697959,
         20.13673448190093,
         20.198251213878393,
         20.25594248995185,
         20.068207558244467,
         19.930641818791628,
         20.20052444562316,
         20.143574189394712,
         20.049526121467352,
         19.89265450462699,
         20.173786368221045,
         20.087640095502138,
         19.85715838894248,
         20.022219952195883,
         20.31138589605689,
         20.006070759147406,
         20.043733205646276,
         20.327083375304937,
         20.055058266967535,
         20.006288405507803,
         20.345671612769365,
         20.042773570865393
        ],
        [
         2.8485274816142674,
         2.8377147032940275,
         2.85804988626466,
         2.8518323792016824,
         2.8409891233820317,
         2.8517283823633544,
         2.8516534039862553,
         2.856041238706507,
         2.844769682872889,
         2.843972890472412,
         2.8403069811435193,
         2.8293797029642014,
         2.8578530873987145,
         2.8703546734982135,
         2.8508496041752576,
         2.838333023863434,
         2.8499158816395487,
         2.8569603063164264,
         2.8366934970501774,
         2.8516317161780007,
         2.8421065906948817,
         2.8565664038250107,
         2.8433419597519896,
         2.8447049782186986,
         2.8458323081624686,
         2.847247775761229,
         2.8416074945626106,
         2.841042940317992,
         2.842036150157059,
         2.8354765830346427,
         2.8537725168271537,
         2.8558700886415593,
         2.8355419247054683,
         2.856664522581437,
         2.845444069579636,
         2.8509256873011726,
         2.854799610041697,
         2.8529899664824487,
         2.8449589963164903,
         2.8342359293565327,
         2.8366534145427376,
         2.855143460792176,
         2.855452888230877,
         2.847123442288471,
         2.874069266538261,
         2.8524830551747495,
         2.8478623537374124,
         2.8447092553302524,
         2.8425016396255276,
         2.8292924661470846,
         2.857321384114815,
         2.8512798107083697,
         2.834353588227431,
         2.8601406394737454,
         2.869044442167393,
         2.8480838922561,
         2.864607189510893,
         2.8420091241098864,
         2.84552210060452,
         2.843664605930379,
         2.830635942840563,
         2.8572599689444704,
         2.861813521904463,
         2.854075787406593,
         2.8576155102255405,
         2.8359845541993804,
         2.8535067539100987,
         2.8229725505374645,
         2.8265151579043857,
         2.850847975186773,
         2.849002552136251,
         2.8365191382782053,
         2.855515457911816,
         2.8410287487375046,
         2.8446927494527996,
         2.8465965431127676,
         2.847627825514133,
         2.8306866553248513,
         2.837703968178887,
         2.8209906317451026,
         2.848912809393618,
         2.8551543304223586,
         2.8505715006750187,
         2.833383592796703,
         2.8626915727286346,
         2.8517931930091467,
         2.844512226660015,
         2.840894480049514,
         2.8589008364814816,
         2.8445832604167633,
         2.8308770427109438,
         2.8562235771245046,
         2.850479480836366,
         2.823732094247892,
         2.8387883034363086,
         2.870307042588151,
         2.842836645321468,
         2.836857982323992,
         2.87294232821845,
         2.8458363838385354
        ]
       ],
       "encoder": "json",
       "name": "ABC_GAN_3 Metrics",
       "version": 1
      }
     },
     "metadata": {
      "scrapbook": {
       "data": true,
       "display": false,
       "name": "ABC_GAN_3 Metrics"
      }
     },
     "output_type": "display_data"
    },
    {
     "name": "stdout",
     "output_type": "stream",
     "text": [
      "MSE\n",
      "0.07947481470523574\n"
     ]
    }
   ],
   "source": [
    "ABC_GAN3_metrics=ABC_train_test2.test_generator(gen3,test_data,prior_model,variance,bias,\"3\",device)\n",
    "sb.glue(\"ABC_GAN_3 Metrics\",ABC_GAN3_metrics)\n",
    "\n",
    "print(\"MSE\")\n",
    "print(mean(ABC_GAN3_metrics[0]))"
   ]
  },
  {
   "cell_type": "code",
   "execution_count": 18,
   "id": "c8e46b48",
   "metadata": {
    "execution": {
     "iopub.execute_input": "2022-06-12T07:32:36.868214Z",
     "iopub.status.busy": "2022-06-12T07:32:36.867839Z",
     "iopub.status.idle": "2022-06-12T07:32:37.202004Z",
     "shell.execute_reply": "2022-06-12T07:32:37.202330Z"
    },
    "id": "c8e46b48",
    "papermill": {
     "duration": 0.353822,
     "end_time": "2022-06-12T07:32:37.202455",
     "exception": false,
     "start_time": "2022-06-12T07:32:36.848633",
     "status": "completed"
    },
    "tags": []
   },
   "outputs": [
    {
     "data": {
      "image/png": "[encoded data removed]",
      "text/plain": [
       "<Figure size 432x288 with 1 Axes>"
      ]
     },
     "metadata": {
      "needs_background": "light"
     },
     "output_type": "display_data"
    },
    {
     "data": {
      "image/png": "[encoded data removed]",
      "text/plain": [
       "<Figure size 432x288 with 1 Axes>"
      ]
     },
     "metadata": {
      "needs_background": "light"
     },
     "output_type": "display_data"
    },
    {
     "data": {
      "image/png": "[encoded data removed]",
      "text/plain": [
       "<Figure size 432x288 with 1 Axes>"
      ]
     },
     "metadata": {
      "needs_background": "light"
     },
     "output_type": "display_data"
    },
    {
     "data": {
      "image/png": "[encoded data removed]",
      "text/plain": [
       "<Figure size 432x288 with 1 Axes>"
      ]
     },
     "metadata": {
      "needs_background": "light"
     },
     "output_type": "display_data"
    }
   ],
   "source": [
    "sanityChecks.discProbVsError(train_data,disc3,device)\n",
    "sanityChecks.discProbVsError(test_data,disc3,device)"
   ]
  },
  {
   "cell_type": "markdown",
   "id": "a5bd74c3",
   "metadata": {
    "id": "a5bd74c3",
    "papermill": {
     "duration": 0.019731,
     "end_time": "2022-06-12T07:32:37.242190",
     "exception": false,
     "start_time": "2022-06-12T07:32:37.222459",
     "status": "completed"
    },
    "tags": []
   },
   "source": [
    "## Skip Connection Model Analysis - ABC-GAN "
   ]
  },
  {
   "cell_type": "markdown",
   "id": "5744a8bf",
   "metadata": {
    "id": "5744a8bf",
    "papermill": {
     "duration": 0.019164,
     "end_time": "2022-06-12T07:32:37.280650",
     "exception": false,
     "start_time": "2022-06-12T07:32:37.261486",
     "status": "completed"
    },
    "tags": []
   },
   "source": [
    "### Weight Analysis \n",
    "\n",
    "Study the weights of the skip connection layer\n",
    "\n",
    "Equation of the skip connection is \n",
    "\n",
    "$output = y_{gan} * w + y_{abc} * (1-w)$"
   ]
  },
  {
   "cell_type": "code",
   "execution_count": 19,
   "id": "52c31dea",
   "metadata": {
    "execution": {
     "iopub.execute_input": "2022-06-12T07:32:37.321977Z",
     "iopub.status.busy": "2022-06-12T07:32:37.321595Z",
     "iopub.status.idle": "2022-06-12T07:32:37.324986Z",
     "shell.execute_reply": "2022-06-12T07:32:37.325227Z"
    },
    "id": "52c31dea",
    "papermill": {
     "duration": 0.025541,
     "end_time": "2022-06-12T07:32:37.325342",
     "exception": false,
     "start_time": "2022-06-12T07:32:37.299801",
     "status": "completed"
    },
    "tags": []
   },
   "outputs": [
    {
     "name": "stdout",
     "output_type": "stream",
     "text": [
      "Weight of the node at skip connection\n",
      "Parameter containing:\n",
      "tensor([[0.2814]], requires_grad=True)\n"
     ]
    },
    {
     "data": {
      "application/scrapbook.scrap.json+json": {
       "data": 0.2813762426376343,
       "encoder": "json",
       "name": "Skip Connection Weight",
       "version": 1
      }
     },
     "metadata": {
      "scrapbook": {
       "data": true,
       "display": false,
       "name": "Skip Connection Weight"
      }
     },
     "output_type": "display_data"
    }
   ],
   "source": [
    "print(\"Weight of the node at skip connection\")\n",
    "for name,param in gen3.named_parameters():\n",
    "    if(name == \"skipNode.weight\"):\n",
    "        print(param)\n",
    "        sb.glue(\"Skip Connection Weight\",param.item())"
   ]
  }
 ],
 "metadata": {
  "colab": {
   "collapsed_sections": [],
   "name": "ABC_GAN_Model-Catboost_Pre-gen.ipynb",
   "provenance": []
  },
  "interpreter": {
   "hash": "31f2aee4e71d21fbe5cf8b01ff0e069b9275f58929596ceb00d14d90e3e16cd6"
  },
  "kernelspec": {
   "display_name": "Python 3 (ipykernel)",
   "language": "python",
   "name": "python3"
  },
  "language_info": {
   "codemirror_mode": {
    "name": "ipython",
    "version": 3
   },
   "file_extension": ".py",
   "mimetype": "text/x-python",
   "name": "python",
   "nbconvert_exporter": "python",
   "pygments_lexer": "ipython3",
   "version": "3.8.11"
  },
  "papermill": {
   "default_parameters": {},
   "duration": 242.126834,
   "end_time": "2022-06-12T07:32:37.653717",
   "environment_variables": {},
   "exception": null,
   "input_path": "ABC_GAN-Catboost.ipynb",
   "output_path": "./ABC_GAN_Catboost/ABC-GAN_output_9_2.ipynb",
   "parameters": {
    "bias": 1,
    "variance": 0.01
   },
   "start_time": "2022-06-12T07:28:35.526883",
   "version": "2.3.3"
  }
 },
 "nbformat": 4,
 "nbformat_minor": 5
}