{
 "cells": [
  {
   "cell_type": "markdown",
   "id": "622780e6",
   "metadata": {
    "id": "622780e6",
    "papermill": {
     "duration": 0.016954,
     "end_time": "2022-06-12T05:13:11.232433",
     "exception": false,
     "start_time": "2022-06-12T05:13:11.215479",
     "status": "completed"
    },
    "tags": []
   },
   "source": [
    "## Import Libraries "
   ]
  },
  {
   "cell_type": "code",
   "execution_count": 1,
   "id": "a62397e3",
   "metadata": {
    "execution": {
     "iopub.execute_input": "2022-06-12T05:13:11.262223Z",
     "iopub.status.busy": "2022-06-12T05:13:11.261773Z",
     "iopub.status.idle": "2022-06-12T05:13:11.264141Z",
     "shell.execute_reply": "2022-06-12T05:13:11.264435Z"
    },
    "id": "a62397e3",
    "papermill": {
     "duration": 0.019785,
     "end_time": "2022-06-12T05:13:11.264624",
     "exception": false,
     "start_time": "2022-06-12T05:13:11.244839",
     "status": "completed"
    },
    "tags": []
   },
   "outputs": [],
   "source": [
    "import warnings\n",
    "import sys\n",
    "sys.path.insert(0, '../../src')\n",
    "warnings.filterwarnings('ignore')"
   ]
  },
  {
   "cell_type": "code",
   "execution_count": 2,
   "id": "d6a4e155",
   "metadata": {
    "execution": {
     "iopub.execute_input": "2022-06-12T05:13:11.283906Z",
     "iopub.status.busy": "2022-06-12T05:13:11.283511Z",
     "iopub.status.idle": "2022-06-12T05:13:13.231975Z",
     "shell.execute_reply": "2022-06-12T05:13:13.232237Z"
    },
    "id": "d6a4e155",
    "papermill": {
     "duration": 1.958893,
     "end_time": "2022-06-12T05:13:13.232362",
     "exception": false,
     "start_time": "2022-06-12T05:13:11.273469",
     "status": "completed"
    },
    "tags": []
   },
   "outputs": [],
   "source": [
    "import ABC_train_test2\n",
    "import bostonDataset\n",
    "import network\n",
    "import dataset\n",
    "import sanityChecks\n",
    "import torch \n",
    "import scrapbook as sb\n",
    "from statistics import mean \n",
    "import catboost as ctb \n",
    "from sklearn.model_selection import train_test_split\n",
    "from sklearn.metrics import mean_squared_error,mean_absolute_error\n",
    "import numpy as np"
   ]
  },
  {
   "cell_type": "markdown",
   "id": "2fa5b0f7",
   "metadata": {
    "id": "2fa5b0f7",
    "papermill": {
     "duration": 0.006962,
     "end_time": "2022-06-12T05:13:13.246689",
     "exception": false,
     "start_time": "2022-06-12T05:13:13.239727",
     "status": "completed"
    },
    "tags": []
   },
   "source": [
    "## Parameters "
   ]
  },
  {
   "cell_type": "code",
   "execution_count": 3,
   "id": "783186fb",
   "metadata": {
    "execution": {
     "iopub.execute_input": "2022-06-12T05:13:13.262899Z",
     "iopub.status.busy": "2022-06-12T05:13:13.262523Z",
     "iopub.status.idle": "2022-06-12T05:13:13.263906Z",
     "shell.execute_reply": "2022-06-12T05:13:13.264153Z"
    },
    "id": "783186fb",
    "papermill": {
     "duration": 0.010541,
     "end_time": "2022-06-12T05:13:13.264262",
     "exception": false,
     "start_time": "2022-06-12T05:13:13.253721",
     "status": "completed"
    },
    "tags": [
     "parameters"
    ]
   },
   "outputs": [],
   "source": [
    "variance = 1\n",
    "bias = 1 "
   ]
  },
  {
   "cell_type": "code",
   "execution_count": 4,
   "id": "c4a6f7cc",
   "metadata": {
    "execution": {
     "iopub.execute_input": "2022-06-12T05:13:13.280236Z",
     "iopub.status.busy": "2022-06-12T05:13:13.279854Z",
     "iopub.status.idle": "2022-06-12T05:13:13.281213Z",
     "shell.execute_reply": "2022-06-12T05:13:13.281484Z"
    },
    "papermill": {
     "duration": 0.010261,
     "end_time": "2022-06-12T05:13:13.281607",
     "exception": false,
     "start_time": "2022-06-12T05:13:13.271346",
     "status": "completed"
    },
    "tags": [
     "injected-parameters"
    ]
   },
   "outputs": [],
   "source": [
    "# Parameters\n",
    "variance = 1\n",
    "bias = 0.01\n"
   ]
  },
  {
   "cell_type": "markdown",
   "id": "391cdbfd",
   "metadata": {
    "id": "391cdbfd",
    "papermill": {
     "duration": 0.007472,
     "end_time": "2022-06-12T05:13:13.296354",
     "exception": false,
     "start_time": "2022-06-12T05:13:13.288882",
     "status": "completed"
    },
    "tags": []
   },
   "source": [
    "## Dataset \n"
   ]
  },
  {
   "cell_type": "code",
   "execution_count": 5,
   "id": "5b51f161",
   "metadata": {
    "execution": {
     "iopub.execute_input": "2022-06-12T05:13:13.314416Z",
     "iopub.status.busy": "2022-06-12T05:13:13.314008Z",
     "iopub.status.idle": "2022-06-12T05:13:13.315371Z",
     "shell.execute_reply": "2022-06-12T05:13:13.315628Z"
    },
    "id": "5b51f161",
    "papermill": {
     "duration": 0.012033,
     "end_time": "2022-06-12T05:13:13.315752",
     "exception": false,
     "start_time": "2022-06-12T05:13:13.303719",
     "status": "completed"
    },
    "tags": []
   },
   "outputs": [],
   "source": [
    "#Parameters \n",
    "n_features = 13\n",
    "n_samples= 506\n",
    "n_target = 1 "
   ]
  },
  {
   "cell_type": "code",
   "execution_count": 6,
   "id": "5d6eced4",
   "metadata": {
    "execution": {
     "iopub.execute_input": "2022-06-12T05:13:13.333925Z",
     "iopub.status.busy": "2022-06-12T05:13:13.333536Z",
     "iopub.status.idle": "2022-06-12T05:13:13.344408Z",
     "shell.execute_reply": "2022-06-12T05:13:13.344662Z"
    },
    "id": "5d6eced4",
    "papermill": {
     "duration": 0.021305,
     "end_time": "2022-06-12T05:13:13.344802",
     "exception": false,
     "start_time": "2022-06-12T05:13:13.323497",
     "status": "completed"
    },
    "tags": []
   },
   "outputs": [
    {
     "name": "stdout",
     "output_type": "stream",
     "text": [
      "         X1        X2        X3        X4        X5        X6        X7  \\\n",
      "0 -0.419782  0.284830 -1.287909 -0.272599 -0.144217  0.413672 -0.120013   \n",
      "1 -0.417339 -0.487722 -0.593381 -0.272599 -0.740262  0.194274  0.367166   \n",
      "2 -0.417342 -0.487722 -0.593381 -0.272599 -0.740262  1.282714 -0.265812   \n",
      "3 -0.416750 -0.487722 -1.306878 -0.272599 -0.835284  1.016303 -0.809889   \n",
      "4 -0.412482 -0.487722 -1.306878 -0.272599 -0.835284  1.228577 -0.511180   \n",
      "\n",
      "         X8        X9       X10       X11       X12       X13         Y  \n",
      "0  0.140214 -0.982843 -0.666608 -1.459000  0.441052 -1.075562  0.159686  \n",
      "1  0.557160 -0.867883 -0.987329 -0.303094  0.441052 -0.492439 -0.101524  \n",
      "2  0.557160 -0.867883 -0.987329 -0.303094  0.396427 -1.208727  1.324247  \n",
      "3  1.077737 -0.752922 -1.106115  0.113032  0.416163 -1.361517  1.182758  \n",
      "4  1.077737 -0.752922 -1.106115  0.113032  0.441052 -1.026501  1.487503  \n"
     ]
    }
   ],
   "source": [
    "X,Y = bostonDataset.boston_data()"
   ]
  },
  {
   "cell_type": "code",
   "execution_count": 7,
   "id": "fe007438",
   "metadata": {
    "execution": {
     "iopub.execute_input": "2022-06-12T05:13:13.363538Z",
     "iopub.status.busy": "2022-06-12T05:13:13.363144Z",
     "iopub.status.idle": "2022-06-12T05:13:13.364693Z",
     "shell.execute_reply": "2022-06-12T05:13:13.364932Z"
    },
    "id": "fe007438",
    "papermill": {
     "duration": 0.012318,
     "end_time": "2022-06-12T05:13:13.365051",
     "exception": false,
     "start_time": "2022-06-12T05:13:13.352733",
     "status": "completed"
    },
    "tags": []
   },
   "outputs": [],
   "source": [
    "#Train test split for dataset \n",
    "X_train,X_test,Y_train,Y_test = train_test_split(X,Y,test_size = 0.2)\n",
    "train_data = dataset.CustomDataset(X_train,Y_train)\n",
    "test_data = dataset.CustomDataset(X_test,Y_test)\n"
   ]
  },
  {
   "cell_type": "markdown",
   "id": "a9a1af34",
   "metadata": {
    "id": "a9a1af34",
    "papermill": {
     "duration": 0.007748,
     "end_time": "2022-06-12T05:13:13.380191",
     "exception": false,
     "start_time": "2022-06-12T05:13:13.372443",
     "status": "completed"
    },
    "tags": []
   },
   "source": [
    "## Training Parameters "
   ]
  },
  {
   "cell_type": "code",
   "execution_count": 8,
   "id": "952b7fc8",
   "metadata": {
    "execution": {
     "iopub.execute_input": "2022-06-12T05:13:13.398001Z",
     "iopub.status.busy": "2022-06-12T05:13:13.397625Z",
     "iopub.status.idle": "2022-06-12T05:13:13.398788Z",
     "shell.execute_reply": "2022-06-12T05:13:13.399026Z"
    },
    "id": "952b7fc8",
    "papermill": {
     "duration": 0.011567,
     "end_time": "2022-06-12T05:13:13.399144",
     "exception": false,
     "start_time": "2022-06-12T05:13:13.387577",
     "status": "completed"
    },
    "tags": []
   },
   "outputs": [],
   "source": [
    "batch_size = 32\n",
    "n_epochs = 1000\n",
    "#Select the device \n",
    "device = torch.device('cuda' if torch.cuda.is_available() else 'cpu')"
   ]
  },
  {
   "cell_type": "markdown",
   "id": "a95e1600",
   "metadata": {
    "id": "a95e1600",
    "papermill": {
     "duration": 0.007614,
     "end_time": "2022-06-12T05:13:13.414249",
     "exception": false,
     "start_time": "2022-06-12T05:13:13.406635",
     "status": "completed"
    },
    "tags": []
   },
   "source": [
    "# ABC Pre-generator Model \n",
    "\n",
    "1. The catboost model is used as a pre-generator model for the ABC-GAN. \n",
    "2. The model is first trained on the entire dataset \n",
    "3. It generats X,Y pairs and we add some Gaussian noise with mean 0 and variance 1 to it which is then feed as input to the generator.\n"
   ]
  },
  {
   "cell_type": "code",
   "execution_count": 9,
   "id": "ff8ce7bd",
   "metadata": {
    "execution": {
     "iopub.execute_input": "2022-06-12T05:13:13.434373Z",
     "iopub.status.busy": "2022-06-12T05:13:13.433973Z",
     "iopub.status.idle": "2022-06-12T05:13:14.585284Z",
     "shell.execute_reply": "2022-06-12T05:13:14.585536Z"
    },
    "id": "ff8ce7bd",
    "papermill": {
     "duration": 1.164138,
     "end_time": "2022-06-12T05:13:14.585656",
     "exception": false,
     "start_time": "2022-06-12T05:13:13.421518",
     "status": "completed"
    },
    "tags": []
   },
   "outputs": [
    {
     "name": "stdout",
     "output_type": "stream",
     "text": [
      "Learning rate set to 0.033215\n",
      "0:\tlearn: 0.9962842\ttotal: 57.6ms\tremaining: 57.6s\n",
      "1:\tlearn: 0.9773700\ttotal: 59.2ms\tremaining: 29.5s\n",
      "2:\tlearn: 0.9554009\ttotal: 60.4ms\tremaining: 20.1s\n",
      "3:\tlearn: 0.9366493\ttotal: 61.4ms\tremaining: 15.3s\n",
      "4:\tlearn: 0.9214457\ttotal: 62.4ms\tremaining: 12.4s\n",
      "5:\tlearn: 0.9042394\ttotal: 63.4ms\tremaining: 10.5s\n",
      "6:\tlearn: 0.8869223\ttotal: 64.6ms\tremaining: 9.16s\n",
      "7:\tlearn: 0.8706070\ttotal: 65.5ms\tremaining: 8.13s\n",
      "8:\tlearn: 0.8557808\ttotal: 66.7ms\tremaining: 7.35s\n",
      "9:\tlearn: 0.8386827\ttotal: 68ms\tremaining: 6.73s\n",
      "10:\tlearn: 0.8232102\ttotal: 68.9ms\tremaining: 6.19s\n",
      "11:\tlearn: 0.8088807\ttotal: 69.8ms\tremaining: 5.75s\n",
      "12:\tlearn: 0.7944673\ttotal: 70.8ms\tremaining: 5.38s\n",
      "13:\tlearn: 0.7798209\ttotal: 71.9ms\tremaining: 5.06s\n",
      "14:\tlearn: 0.7675588\ttotal: 72.7ms\tremaining: 4.78s\n",
      "15:\tlearn: 0.7534709\ttotal: 73.8ms\tremaining: 4.54s\n",
      "16:\tlearn: 0.7401797\ttotal: 74.7ms\tremaining: 4.32s\n",
      "17:\tlearn: 0.7282252\ttotal: 75.6ms\tremaining: 4.13s\n",
      "18:\tlearn: 0.7160215\ttotal: 76.4ms\tremaining: 3.94s\n",
      "19:\tlearn: 0.7034520\ttotal: 77.3ms\tremaining: 3.79s\n",
      "20:\tlearn: 0.6898443\ttotal: 78.2ms\tremaining: 3.65s\n",
      "21:\tlearn: 0.6800067\ttotal: 79.4ms\tremaining: 3.53s\n",
      "22:\tlearn: 0.6700765\ttotal: 80.1ms\tremaining: 3.4s\n",
      "23:\tlearn: 0.6605674\ttotal: 81.3ms\tremaining: 3.3s\n",
      "24:\tlearn: 0.6502680\ttotal: 82.1ms\tremaining: 3.2s\n",
      "25:\tlearn: 0.6414809\ttotal: 83.2ms\tremaining: 3.12s\n",
      "26:\tlearn: 0.6329285\ttotal: 84.2ms\tremaining: 3.03s\n",
      "27:\tlearn: 0.6244525\ttotal: 84.9ms\tremaining: 2.95s\n",
      "28:\tlearn: 0.6157336\ttotal: 87.2ms\tremaining: 2.92s\n",
      "29:\tlearn: 0.6056022\ttotal: 88.3ms\tremaining: 2.85s\n",
      "30:\tlearn: 0.5962017\ttotal: 89.5ms\tremaining: 2.8s\n",
      "31:\tlearn: 0.5867773\ttotal: 90.8ms\tremaining: 2.75s\n",
      "32:\tlearn: 0.5801418\ttotal: 92.1ms\tremaining: 2.7s\n",
      "33:\tlearn: 0.5727452\ttotal: 93.1ms\tremaining: 2.65s\n",
      "34:\tlearn: 0.5653623\ttotal: 94.6ms\tremaining: 2.61s\n",
      "35:\tlearn: 0.5583345\ttotal: 95.5ms\tremaining: 2.56s\n",
      "36:\tlearn: 0.5527046\ttotal: 96.4ms\tremaining: 2.51s\n",
      "37:\tlearn: 0.5450628\ttotal: 97.4ms\tremaining: 2.46s\n",
      "38:\tlearn: 0.5380533\ttotal: 98.4ms\tremaining: 2.42s\n",
      "39:\tlearn: 0.5301173\ttotal: 99.1ms\tremaining: 2.38s\n",
      "40:\tlearn: 0.5242791\ttotal: 100ms\tremaining: 2.34s\n",
      "41:\tlearn: 0.5167237\ttotal: 101ms\tremaining: 2.31s\n",
      "42:\tlearn: 0.5116324\ttotal: 102ms\tremaining: 2.28s\n"
     ]
    },
    {
     "name": "stdout",
     "output_type": "stream",
     "text": [
      "43:\tlearn: 0.5057169\ttotal: 104ms\tremaining: 2.25s\n",
      "44:\tlearn: 0.5005367\ttotal: 105ms\tremaining: 2.22s\n",
      "45:\tlearn: 0.4933400\ttotal: 106ms\tremaining: 2.2s\n",
      "46:\tlearn: 0.4885926\ttotal: 107ms\tremaining: 2.18s\n",
      "47:\tlearn: 0.4829439\ttotal: 109ms\tremaining: 2.16s\n",
      "48:\tlearn: 0.4774919\ttotal: 110ms\tremaining: 2.13s\n",
      "49:\tlearn: 0.4720574\ttotal: 111ms\tremaining: 2.11s\n",
      "50:\tlearn: 0.4659272\ttotal: 112ms\tremaining: 2.08s\n",
      "51:\tlearn: 0.4607179\ttotal: 113ms\tremaining: 2.06s\n",
      "52:\tlearn: 0.4558097\ttotal: 115ms\tremaining: 2.04s\n",
      "53:\tlearn: 0.4523556\ttotal: 116ms\tremaining: 2.02s\n",
      "54:\tlearn: 0.4473982\ttotal: 116ms\tremaining: 2s\n",
      "55:\tlearn: 0.4432864\ttotal: 117ms\tremaining: 1.98s\n",
      "56:\tlearn: 0.4394596\ttotal: 118ms\tremaining: 1.96s\n",
      "57:\tlearn: 0.4354390\ttotal: 119ms\tremaining: 1.94s\n",
      "58:\tlearn: 0.4320757\ttotal: 120ms\tremaining: 1.92s\n",
      "59:\tlearn: 0.4291763\ttotal: 122ms\tremaining: 1.91s\n",
      "60:\tlearn: 0.4248919\ttotal: 123ms\tremaining: 1.89s\n",
      "61:\tlearn: 0.4209569\ttotal: 124ms\tremaining: 1.87s\n",
      "62:\tlearn: 0.4178206\ttotal: 125ms\tremaining: 1.86s\n",
      "63:\tlearn: 0.4140333\ttotal: 126ms\tremaining: 1.84s\n",
      "64:\tlearn: 0.4112573\ttotal: 127ms\tremaining: 1.82s\n",
      "65:\tlearn: 0.4078360\ttotal: 128ms\tremaining: 1.81s\n",
      "66:\tlearn: 0.4042377\ttotal: 129ms\tremaining: 1.79s\n",
      "67:\tlearn: 0.4011590\ttotal: 130ms\tremaining: 1.78s\n",
      "68:\tlearn: 0.3985455\ttotal: 130ms\tremaining: 1.76s\n",
      "69:\tlearn: 0.3949821\ttotal: 131ms\tremaining: 1.74s\n",
      "70:\tlearn: 0.3922712\ttotal: 132ms\tremaining: 1.73s\n",
      "71:\tlearn: 0.3878491\ttotal: 133ms\tremaining: 1.71s\n",
      "72:\tlearn: 0.3853006\ttotal: 134ms\tremaining: 1.7s\n",
      "73:\tlearn: 0.3815664\ttotal: 135ms\tremaining: 1.69s\n",
      "74:\tlearn: 0.3790256\ttotal: 136ms\tremaining: 1.68s\n",
      "75:\tlearn: 0.3766888\ttotal: 138ms\tremaining: 1.68s\n",
      "76:\tlearn: 0.3728060\ttotal: 139ms\tremaining: 1.67s\n",
      "77:\tlearn: 0.3703265\ttotal: 140ms\tremaining: 1.66s\n",
      "78:\tlearn: 0.3668200\ttotal: 141ms\tremaining: 1.65s\n",
      "79:\tlearn: 0.3641123\ttotal: 142ms\tremaining: 1.63s\n",
      "80:\tlearn: 0.3620826\ttotal: 144ms\tremaining: 1.63s\n",
      "81:\tlearn: 0.3592134\ttotal: 145ms\tremaining: 1.62s\n",
      "82:\tlearn: 0.3574465\ttotal: 146ms\tremaining: 1.61s\n",
      "83:\tlearn: 0.3549030\ttotal: 148ms\tremaining: 1.61s\n",
      "84:\tlearn: 0.3522897\ttotal: 149ms\tremaining: 1.6s\n",
      "85:\tlearn: 0.3499551\ttotal: 150ms\tremaining: 1.59s\n",
      "86:\tlearn: 0.3471462\ttotal: 151ms\tremaining: 1.58s\n",
      "87:\tlearn: 0.3442628\ttotal: 152ms\tremaining: 1.58s\n",
      "88:\tlearn: 0.3417645\ttotal: 153ms\tremaining: 1.56s\n",
      "89:\tlearn: 0.3394047\ttotal: 154ms\tremaining: 1.56s\n",
      "90:\tlearn: 0.3373700\ttotal: 155ms\tremaining: 1.55s\n",
      "91:\tlearn: 0.3359025\ttotal: 156ms\tremaining: 1.54s\n",
      "92:\tlearn: 0.3344156\ttotal: 157ms\tremaining: 1.53s\n",
      "93:\tlearn: 0.3320240\ttotal: 158ms\tremaining: 1.52s\n",
      "94:\tlearn: 0.3299041\ttotal: 159ms\tremaining: 1.51s\n",
      "95:\tlearn: 0.3284764\ttotal: 160ms\tremaining: 1.51s\n",
      "96:\tlearn: 0.3264486\ttotal: 161ms\tremaining: 1.5s\n",
      "97:\tlearn: 0.3249547\ttotal: 162ms\tremaining: 1.49s\n",
      "98:\tlearn: 0.3233846\ttotal: 163ms\tremaining: 1.48s\n",
      "99:\tlearn: 0.3207735\ttotal: 164ms\tremaining: 1.47s\n",
      "100:\tlearn: 0.3189475\ttotal: 165ms\tremaining: 1.47s\n",
      "101:\tlearn: 0.3168341\ttotal: 166ms\tremaining: 1.46s\n",
      "102:\tlearn: 0.3152910\ttotal: 169ms\tremaining: 1.47s\n",
      "103:\tlearn: 0.3134220\ttotal: 170ms\tremaining: 1.47s\n",
      "104:\tlearn: 0.3120060\ttotal: 171ms\tremaining: 1.46s\n",
      "105:\tlearn: 0.3101958\ttotal: 172ms\tremaining: 1.45s\n",
      "106:\tlearn: 0.3084417\ttotal: 174ms\tremaining: 1.45s\n",
      "107:\tlearn: 0.3062190\ttotal: 175ms\tremaining: 1.44s\n",
      "108:\tlearn: 0.3044331\ttotal: 176ms\tremaining: 1.44s\n",
      "109:\tlearn: 0.3026967\ttotal: 177ms\tremaining: 1.43s\n",
      "110:\tlearn: 0.3017761\ttotal: 177ms\tremaining: 1.42s\n",
      "111:\tlearn: 0.3004203\ttotal: 179ms\tremaining: 1.42s\n",
      "112:\tlearn: 0.2985719\ttotal: 180ms\tremaining: 1.41s\n",
      "113:\tlearn: 0.2972272\ttotal: 181ms\tremaining: 1.4s\n",
      "114:\tlearn: 0.2961877\ttotal: 181ms\tremaining: 1.4s\n",
      "115:\tlearn: 0.2950145\ttotal: 182ms\tremaining: 1.39s\n",
      "116:\tlearn: 0.2938398\ttotal: 184ms\tremaining: 1.38s\n",
      "117:\tlearn: 0.2928742\ttotal: 184ms\tremaining: 1.38s\n",
      "118:\tlearn: 0.2917257\ttotal: 185ms\tremaining: 1.37s\n",
      "119:\tlearn: 0.2906357\ttotal: 186ms\tremaining: 1.37s\n",
      "120:\tlearn: 0.2891040\ttotal: 188ms\tremaining: 1.36s\n",
      "121:\tlearn: 0.2877323\ttotal: 189ms\tremaining: 1.36s\n",
      "122:\tlearn: 0.2862080\ttotal: 190ms\tremaining: 1.36s\n"
     ]
    },
    {
     "name": "stdout",
     "output_type": "stream",
     "text": [
      "123:\tlearn: 0.2844462\ttotal: 191ms\tremaining: 1.35s\n",
      "124:\tlearn: 0.2836460\ttotal: 192ms\tremaining: 1.35s\n",
      "125:\tlearn: 0.2825420\ttotal: 193ms\tremaining: 1.34s\n",
      "126:\tlearn: 0.2811066\ttotal: 194ms\tremaining: 1.33s\n",
      "127:\tlearn: 0.2802630\ttotal: 195ms\tremaining: 1.33s\n",
      "128:\tlearn: 0.2790086\ttotal: 196ms\tremaining: 1.32s\n",
      "129:\tlearn: 0.2779095\ttotal: 197ms\tremaining: 1.32s\n",
      "130:\tlearn: 0.2772431\ttotal: 199ms\tremaining: 1.32s\n",
      "131:\tlearn: 0.2759430\ttotal: 201ms\tremaining: 1.32s\n",
      "132:\tlearn: 0.2750460\ttotal: 202ms\tremaining: 1.32s\n",
      "133:\tlearn: 0.2742613\ttotal: 203ms\tremaining: 1.31s\n",
      "134:\tlearn: 0.2735263\ttotal: 204ms\tremaining: 1.3s\n",
      "135:\tlearn: 0.2724792\ttotal: 205ms\tremaining: 1.3s\n",
      "136:\tlearn: 0.2718093\ttotal: 206ms\tremaining: 1.3s\n",
      "137:\tlearn: 0.2704625\ttotal: 207ms\tremaining: 1.29s\n",
      "138:\tlearn: 0.2691270\ttotal: 208ms\tremaining: 1.29s\n",
      "139:\tlearn: 0.2680543\ttotal: 210ms\tremaining: 1.29s\n",
      "140:\tlearn: 0.2671966\ttotal: 211ms\tremaining: 1.28s\n",
      "141:\tlearn: 0.2664293\ttotal: 212ms\tremaining: 1.28s\n",
      "142:\tlearn: 0.2657513\ttotal: 213ms\tremaining: 1.27s\n",
      "143:\tlearn: 0.2647428\ttotal: 214ms\tremaining: 1.27s\n",
      "144:\tlearn: 0.2636858\ttotal: 215ms\tremaining: 1.27s\n",
      "145:\tlearn: 0.2627111\ttotal: 217ms\tremaining: 1.27s\n",
      "146:\tlearn: 0.2617252\ttotal: 218ms\tremaining: 1.26s\n",
      "147:\tlearn: 0.2609204\ttotal: 219ms\tremaining: 1.26s\n",
      "148:\tlearn: 0.2601912\ttotal: 220ms\tremaining: 1.26s\n",
      "149:\tlearn: 0.2591918\ttotal: 222ms\tremaining: 1.25s\n",
      "150:\tlearn: 0.2584390\ttotal: 235ms\tremaining: 1.32s\n",
      "151:\tlearn: 0.2575014\ttotal: 235ms\tremaining: 1.31s\n",
      "152:\tlearn: 0.2568758\ttotal: 236ms\tremaining: 1.31s\n",
      "153:\tlearn: 0.2558810\ttotal: 237ms\tremaining: 1.3s\n",
      "154:\tlearn: 0.2549098\ttotal: 238ms\tremaining: 1.3s\n",
      "155:\tlearn: 0.2542111\ttotal: 239ms\tremaining: 1.29s\n",
      "156:\tlearn: 0.2533901\ttotal: 240ms\tremaining: 1.29s\n",
      "157:\tlearn: 0.2525344\ttotal: 240ms\tremaining: 1.28s\n",
      "158:\tlearn: 0.2518533\ttotal: 241ms\tremaining: 1.27s\n",
      "159:\tlearn: 0.2512865\ttotal: 242ms\tremaining: 1.27s\n",
      "160:\tlearn: 0.2505437\ttotal: 243ms\tremaining: 1.26s\n",
      "161:\tlearn: 0.2496456\ttotal: 244ms\tremaining: 1.26s\n",
      "162:\tlearn: 0.2489077\ttotal: 244ms\tremaining: 1.25s\n",
      "163:\tlearn: 0.2480278\ttotal: 245ms\tremaining: 1.25s\n",
      "164:\tlearn: 0.2471758\ttotal: 246ms\tremaining: 1.25s\n",
      "165:\tlearn: 0.2465777\ttotal: 247ms\tremaining: 1.24s\n",
      "166:\tlearn: 0.2455922\ttotal: 248ms\tremaining: 1.24s\n",
      "167:\tlearn: 0.2446458\ttotal: 249ms\tremaining: 1.23s\n",
      "168:\tlearn: 0.2439026\ttotal: 249ms\tremaining: 1.23s\n",
      "169:\tlearn: 0.2432269\ttotal: 250ms\tremaining: 1.22s\n",
      "170:\tlearn: 0.2426149\ttotal: 251ms\tremaining: 1.22s\n",
      "171:\tlearn: 0.2416657\ttotal: 252ms\tremaining: 1.21s\n",
      "172:\tlearn: 0.2412395\ttotal: 253ms\tremaining: 1.21s\n",
      "173:\tlearn: 0.2405982\ttotal: 254ms\tremaining: 1.2s\n",
      "174:\tlearn: 0.2399181\ttotal: 255ms\tremaining: 1.2s\n",
      "175:\tlearn: 0.2395867\ttotal: 255ms\tremaining: 1.2s\n",
      "176:\tlearn: 0.2391482\ttotal: 257ms\tremaining: 1.19s\n",
      "177:\tlearn: 0.2384988\ttotal: 258ms\tremaining: 1.19s\n",
      "178:\tlearn: 0.2380571\ttotal: 258ms\tremaining: 1.19s\n",
      "179:\tlearn: 0.2375160\ttotal: 259ms\tremaining: 1.18s\n",
      "180:\tlearn: 0.2366891\ttotal: 260ms\tremaining: 1.18s\n",
      "181:\tlearn: 0.2359827\ttotal: 261ms\tremaining: 1.17s\n",
      "182:\tlearn: 0.2353232\ttotal: 263ms\tremaining: 1.17s\n",
      "183:\tlearn: 0.2348523\ttotal: 264ms\tremaining: 1.17s\n",
      "184:\tlearn: 0.2339639\ttotal: 265ms\tremaining: 1.17s\n",
      "185:\tlearn: 0.2332051\ttotal: 266ms\tremaining: 1.16s\n",
      "186:\tlearn: 0.2323729\ttotal: 266ms\tremaining: 1.16s\n",
      "187:\tlearn: 0.2317871\ttotal: 268ms\tremaining: 1.16s\n",
      "188:\tlearn: 0.2312677\ttotal: 269ms\tremaining: 1.16s\n",
      "189:\tlearn: 0.2309139\ttotal: 273ms\tremaining: 1.16s\n",
      "190:\tlearn: 0.2300980\ttotal: 274ms\tremaining: 1.16s\n",
      "191:\tlearn: 0.2293494\ttotal: 274ms\tremaining: 1.15s\n",
      "192:\tlearn: 0.2289368\ttotal: 275ms\tremaining: 1.15s\n",
      "193:\tlearn: 0.2282071\ttotal: 276ms\tremaining: 1.15s\n",
      "194:\tlearn: 0.2275481\ttotal: 277ms\tremaining: 1.14s\n",
      "195:\tlearn: 0.2272337\ttotal: 278ms\tremaining: 1.14s\n",
      "196:\tlearn: 0.2269252\ttotal: 278ms\tremaining: 1.14s\n",
      "197:\tlearn: 0.2264192\ttotal: 280ms\tremaining: 1.13s\n",
      "198:\tlearn: 0.2257423\ttotal: 281ms\tremaining: 1.13s\n",
      "199:\tlearn: 0.2251048\ttotal: 282ms\tremaining: 1.13s\n",
      "200:\tlearn: 0.2245003\ttotal: 284ms\tremaining: 1.13s\n",
      "201:\tlearn: 0.2238921\ttotal: 285ms\tremaining: 1.12s\n",
      "202:\tlearn: 0.2233745\ttotal: 286ms\tremaining: 1.12s\n",
      "203:\tlearn: 0.2228350\ttotal: 287ms\tremaining: 1.12s\n",
      "204:\tlearn: 0.2223591\ttotal: 288ms\tremaining: 1.12s\n",
      "205:\tlearn: 0.2218292\ttotal: 289ms\tremaining: 1.11s\n",
      "206:\tlearn: 0.2212778\ttotal: 290ms\tremaining: 1.11s\n",
      "207:\tlearn: 0.2208247\ttotal: 290ms\tremaining: 1.1s\n",
      "208:\tlearn: 0.2203987\ttotal: 291ms\tremaining: 1.1s\n",
      "209:\tlearn: 0.2197374\ttotal: 292ms\tremaining: 1.1s\n",
      "210:\tlearn: 0.2192842\ttotal: 293ms\tremaining: 1.1s\n"
     ]
    },
    {
     "name": "stdout",
     "output_type": "stream",
     "text": [
      "211:\tlearn: 0.2186459\ttotal: 295ms\tremaining: 1.09s\n",
      "212:\tlearn: 0.2182314\ttotal: 297ms\tremaining: 1.1s\n",
      "213:\tlearn: 0.2174486\ttotal: 298ms\tremaining: 1.09s\n",
      "214:\tlearn: 0.2169155\ttotal: 299ms\tremaining: 1.09s\n",
      "215:\tlearn: 0.2162424\ttotal: 299ms\tremaining: 1.09s\n",
      "216:\tlearn: 0.2157393\ttotal: 301ms\tremaining: 1.08s\n",
      "217:\tlearn: 0.2152987\ttotal: 302ms\tremaining: 1.08s\n",
      "218:\tlearn: 0.2146549\ttotal: 303ms\tremaining: 1.08s\n",
      "219:\tlearn: 0.2142992\ttotal: 305ms\tremaining: 1.08s\n",
      "220:\tlearn: 0.2137439\ttotal: 305ms\tremaining: 1.08s\n",
      "221:\tlearn: 0.2133728\ttotal: 306ms\tremaining: 1.07s\n",
      "222:\tlearn: 0.2128740\ttotal: 307ms\tremaining: 1.07s\n",
      "223:\tlearn: 0.2125118\ttotal: 308ms\tremaining: 1.07s\n",
      "224:\tlearn: 0.2122240\ttotal: 310ms\tremaining: 1.07s\n",
      "225:\tlearn: 0.2115936\ttotal: 310ms\tremaining: 1.06s\n",
      "226:\tlearn: 0.2109291\ttotal: 312ms\tremaining: 1.06s\n",
      "227:\tlearn: 0.2106366\ttotal: 313ms\tremaining: 1.06s\n",
      "228:\tlearn: 0.2101680\ttotal: 313ms\tremaining: 1.05s\n",
      "229:\tlearn: 0.2098382\ttotal: 315ms\tremaining: 1.05s\n",
      "230:\tlearn: 0.2094596\ttotal: 316ms\tremaining: 1.05s\n",
      "231:\tlearn: 0.2088229\ttotal: 317ms\tremaining: 1.05s\n",
      "232:\tlearn: 0.2081490\ttotal: 318ms\tremaining: 1.05s\n",
      "233:\tlearn: 0.2076479\ttotal: 319ms\tremaining: 1.04s\n",
      "234:\tlearn: 0.2072149\ttotal: 320ms\tremaining: 1.04s\n",
      "235:\tlearn: 0.2066622\ttotal: 321ms\tremaining: 1.04s\n",
      "236:\tlearn: 0.2061542\ttotal: 322ms\tremaining: 1.04s\n",
      "237:\tlearn: 0.2059167\ttotal: 324ms\tremaining: 1.04s\n",
      "238:\tlearn: 0.2054284\ttotal: 325ms\tremaining: 1.03s\n",
      "239:\tlearn: 0.2051760\ttotal: 325ms\tremaining: 1.03s\n",
      "240:\tlearn: 0.2045655\ttotal: 326ms\tremaining: 1.03s\n",
      "241:\tlearn: 0.2042998\ttotal: 327ms\tremaining: 1.02s\n",
      "242:\tlearn: 0.2039633\ttotal: 328ms\tremaining: 1.02s\n",
      "243:\tlearn: 0.2035106\ttotal: 329ms\tremaining: 1.02s\n",
      "244:\tlearn: 0.2030871\ttotal: 331ms\tremaining: 1.02s\n",
      "245:\tlearn: 0.2028468\ttotal: 332ms\tremaining: 1.02s\n",
      "246:\tlearn: 0.2024579\ttotal: 333ms\tremaining: 1.01s\n",
      "247:\tlearn: 0.2020379\ttotal: 333ms\tremaining: 1.01s\n",
      "248:\tlearn: 0.2014551\ttotal: 335ms\tremaining: 1.01s\n",
      "249:\tlearn: 0.2010370\ttotal: 336ms\tremaining: 1.01s\n",
      "250:\tlearn: 0.2008111\ttotal: 337ms\tremaining: 1s\n",
      "251:\tlearn: 0.2003883\ttotal: 338ms\tremaining: 1s\n",
      "252:\tlearn: 0.2001811\ttotal: 339ms\tremaining: 1000ms\n",
      "253:\tlearn: 0.1998798\ttotal: 340ms\tremaining: 997ms\n",
      "254:\tlearn: 0.1993107\ttotal: 341ms\tremaining: 995ms\n",
      "255:\tlearn: 0.1990765\ttotal: 342ms\tremaining: 992ms\n",
      "256:\tlearn: 0.1985676\ttotal: 342ms\tremaining: 990ms\n",
      "257:\tlearn: 0.1983141\ttotal: 343ms\tremaining: 987ms\n",
      "258:\tlearn: 0.1977572\ttotal: 344ms\tremaining: 985ms\n",
      "259:\tlearn: 0.1975971\ttotal: 345ms\tremaining: 982ms\n",
      "260:\tlearn: 0.1970051\ttotal: 346ms\tremaining: 979ms\n",
      "261:\tlearn: 0.1964135\ttotal: 347ms\tremaining: 978ms\n",
      "262:\tlearn: 0.1959436\ttotal: 349ms\tremaining: 977ms\n",
      "263:\tlearn: 0.1954685\ttotal: 350ms\tremaining: 975ms\n",
      "264:\tlearn: 0.1949619\ttotal: 351ms\tremaining: 972ms\n",
      "265:\tlearn: 0.1943300\ttotal: 351ms\tremaining: 970ms\n",
      "266:\tlearn: 0.1939485\ttotal: 352ms\tremaining: 967ms\n",
      "267:\tlearn: 0.1934789\ttotal: 353ms\tremaining: 965ms\n",
      "268:\tlearn: 0.1929639\ttotal: 355ms\tremaining: 963ms\n",
      "269:\tlearn: 0.1925793\ttotal: 356ms\tremaining: 961ms\n",
      "270:\tlearn: 0.1920467\ttotal: 356ms\tremaining: 958ms\n",
      "271:\tlearn: 0.1917175\ttotal: 358ms\tremaining: 958ms\n",
      "272:\tlearn: 0.1915258\ttotal: 359ms\tremaining: 955ms\n",
      "273:\tlearn: 0.1909145\ttotal: 360ms\tremaining: 953ms\n",
      "274:\tlearn: 0.1903663\ttotal: 360ms\tremaining: 950ms\n",
      "275:\tlearn: 0.1897910\ttotal: 361ms\tremaining: 948ms\n",
      "276:\tlearn: 0.1892804\ttotal: 362ms\tremaining: 945ms\n",
      "277:\tlearn: 0.1886829\ttotal: 363ms\tremaining: 943ms\n",
      "278:\tlearn: 0.1883942\ttotal: 364ms\tremaining: 942ms\n",
      "279:\tlearn: 0.1880571\ttotal: 365ms\tremaining: 939ms\n",
      "280:\tlearn: 0.1878919\ttotal: 366ms\tremaining: 937ms\n",
      "281:\tlearn: 0.1875948\ttotal: 367ms\tremaining: 934ms\n",
      "282:\tlearn: 0.1873471\ttotal: 368ms\tremaining: 932ms\n",
      "283:\tlearn: 0.1869753\ttotal: 369ms\tremaining: 931ms\n",
      "284:\tlearn: 0.1867611\ttotal: 370ms\tremaining: 929ms\n",
      "285:\tlearn: 0.1862314\ttotal: 372ms\tremaining: 928ms\n",
      "286:\tlearn: 0.1857131\ttotal: 373ms\tremaining: 926ms\n",
      "287:\tlearn: 0.1855652\ttotal: 374ms\tremaining: 924ms\n",
      "288:\tlearn: 0.1854184\ttotal: 374ms\tremaining: 921ms\n",
      "289:\tlearn: 0.1848180\ttotal: 376ms\tremaining: 920ms\n",
      "290:\tlearn: 0.1845969\ttotal: 377ms\tremaining: 917ms\n",
      "291:\tlearn: 0.1841365\ttotal: 377ms\tremaining: 915ms\n",
      "292:\tlearn: 0.1837995\ttotal: 378ms\tremaining: 912ms\n",
      "293:\tlearn: 0.1833937\ttotal: 379ms\tremaining: 910ms\n",
      "294:\tlearn: 0.1832443\ttotal: 380ms\tremaining: 908ms\n",
      "295:\tlearn: 0.1829547\ttotal: 381ms\tremaining: 906ms\n",
      "296:\tlearn: 0.1825838\ttotal: 382ms\tremaining: 903ms\n"
     ]
    },
    {
     "name": "stdout",
     "output_type": "stream",
     "text": [
      "297:\tlearn: 0.1823525\ttotal: 383ms\tremaining: 903ms\n",
      "298:\tlearn: 0.1820231\ttotal: 384ms\tremaining: 900ms\n",
      "299:\tlearn: 0.1819081\ttotal: 385ms\tremaining: 898ms\n",
      "300:\tlearn: 0.1813193\ttotal: 386ms\tremaining: 896ms\n",
      "301:\tlearn: 0.1809893\ttotal: 387ms\tremaining: 894ms\n",
      "302:\tlearn: 0.1806136\ttotal: 388ms\tremaining: 892ms\n",
      "303:\tlearn: 0.1800272\ttotal: 388ms\tremaining: 889ms\n",
      "304:\tlearn: 0.1795270\ttotal: 390ms\tremaining: 888ms\n",
      "305:\tlearn: 0.1790404\ttotal: 391ms\tremaining: 886ms\n",
      "306:\tlearn: 0.1785686\ttotal: 392ms\tremaining: 885ms\n",
      "307:\tlearn: 0.1783291\ttotal: 393ms\tremaining: 883ms\n",
      "308:\tlearn: 0.1782108\ttotal: 395ms\tremaining: 883ms\n",
      "309:\tlearn: 0.1777798\ttotal: 396ms\tremaining: 881ms\n",
      "310:\tlearn: 0.1775790\ttotal: 397ms\tremaining: 879ms\n",
      "311:\tlearn: 0.1770757\ttotal: 398ms\tremaining: 878ms\n",
      "312:\tlearn: 0.1768470\ttotal: 399ms\tremaining: 875ms\n",
      "313:\tlearn: 0.1767245\ttotal: 400ms\tremaining: 874ms\n",
      "314:\tlearn: 0.1762865\ttotal: 401ms\tremaining: 872ms\n",
      "315:\tlearn: 0.1757986\ttotal: 402ms\tremaining: 870ms\n",
      "316:\tlearn: 0.1753955\ttotal: 403ms\tremaining: 867ms\n",
      "317:\tlearn: 0.1751276\ttotal: 403ms\tremaining: 865ms\n",
      "318:\tlearn: 0.1749843\ttotal: 404ms\tremaining: 863ms\n",
      "319:\tlearn: 0.1745472\ttotal: 406ms\tremaining: 862ms\n",
      "320:\tlearn: 0.1744328\ttotal: 408ms\tremaining: 862ms\n",
      "321:\tlearn: 0.1743234\ttotal: 408ms\tremaining: 860ms\n",
      "322:\tlearn: 0.1741772\ttotal: 409ms\tremaining: 857ms\n",
      "323:\tlearn: 0.1737922\ttotal: 410ms\tremaining: 856ms\n",
      "324:\tlearn: 0.1735194\ttotal: 411ms\tremaining: 854ms\n",
      "325:\tlearn: 0.1733965\ttotal: 412ms\tremaining: 852ms\n",
      "326:\tlearn: 0.1731710\ttotal: 413ms\tremaining: 851ms\n",
      "327:\tlearn: 0.1727554\ttotal: 414ms\tremaining: 849ms\n",
      "328:\tlearn: 0.1723666\ttotal: 415ms\tremaining: 847ms\n",
      "329:\tlearn: 0.1721523\ttotal: 416ms\tremaining: 844ms\n",
      "330:\tlearn: 0.1720797\ttotal: 417ms\tremaining: 843ms\n",
      "331:\tlearn: 0.1718882\ttotal: 418ms\tremaining: 841ms\n",
      "332:\tlearn: 0.1715291\ttotal: 419ms\tremaining: 839ms\n",
      "333:\tlearn: 0.1710881\ttotal: 420ms\tremaining: 837ms\n",
      "334:\tlearn: 0.1709920\ttotal: 421ms\tremaining: 835ms\n",
      "335:\tlearn: 0.1706831\ttotal: 421ms\tremaining: 833ms\n",
      "336:\tlearn: 0.1706090\ttotal: 422ms\tremaining: 831ms\n",
      "337:\tlearn: 0.1701608\ttotal: 423ms\tremaining: 829ms\n",
      "338:\tlearn: 0.1696739\ttotal: 424ms\tremaining: 827ms\n",
      "339:\tlearn: 0.1693015\ttotal: 425ms\tremaining: 825ms\n",
      "340:\tlearn: 0.1692328\ttotal: 426ms\tremaining: 823ms\n",
      "341:\tlearn: 0.1691224\ttotal: 427ms\tremaining: 821ms\n",
      "342:\tlearn: 0.1685077\ttotal: 428ms\tremaining: 819ms\n",
      "343:\tlearn: 0.1681279\ttotal: 428ms\tremaining: 817ms\n",
      "344:\tlearn: 0.1676517\ttotal: 430ms\tremaining: 816ms\n",
      "345:\tlearn: 0.1673061\ttotal: 431ms\tremaining: 814ms\n",
      "346:\tlearn: 0.1672402\ttotal: 431ms\tremaining: 812ms\n",
      "347:\tlearn: 0.1671756\ttotal: 432ms\tremaining: 810ms\n",
      "348:\tlearn: 0.1668526\ttotal: 433ms\tremaining: 808ms\n",
      "349:\tlearn: 0.1667639\ttotal: 434ms\tremaining: 806ms\n",
      "350:\tlearn: 0.1667071\ttotal: 435ms\tremaining: 805ms\n",
      "351:\tlearn: 0.1666198\ttotal: 436ms\tremaining: 803ms\n",
      "352:\tlearn: 0.1663378\ttotal: 437ms\tremaining: 801ms\n",
      "353:\tlearn: 0.1657491\ttotal: 438ms\tremaining: 799ms\n",
      "354:\tlearn: 0.1656885\ttotal: 439ms\tremaining: 797ms\n",
      "355:\tlearn: 0.1654722\ttotal: 440ms\tremaining: 795ms\n",
      "356:\tlearn: 0.1654100\ttotal: 441ms\tremaining: 794ms\n",
      "357:\tlearn: 0.1651374\ttotal: 442ms\tremaining: 792ms\n",
      "358:\tlearn: 0.1648318\ttotal: 443ms\tremaining: 790ms\n",
      "359:\tlearn: 0.1643026\ttotal: 443ms\tremaining: 788ms\n",
      "360:\tlearn: 0.1641309\ttotal: 445ms\tremaining: 787ms\n",
      "361:\tlearn: 0.1637270\ttotal: 446ms\tremaining: 786ms\n",
      "362:\tlearn: 0.1636321\ttotal: 447ms\tremaining: 784ms\n",
      "363:\tlearn: 0.1635153\ttotal: 448ms\tremaining: 782ms\n",
      "364:\tlearn: 0.1631492\ttotal: 449ms\tremaining: 780ms\n",
      "365:\tlearn: 0.1630917\ttotal: 449ms\tremaining: 778ms\n",
      "366:\tlearn: 0.1629829\ttotal: 450ms\tremaining: 776ms\n",
      "367:\tlearn: 0.1626685\ttotal: 451ms\tremaining: 775ms\n",
      "368:\tlearn: 0.1625314\ttotal: 452ms\tremaining: 773ms\n",
      "369:\tlearn: 0.1620095\ttotal: 453ms\tremaining: 771ms\n",
      "370:\tlearn: 0.1615526\ttotal: 454ms\tremaining: 770ms\n",
      "371:\tlearn: 0.1610978\ttotal: 455ms\tremaining: 768ms\n",
      "372:\tlearn: 0.1609531\ttotal: 456ms\tremaining: 766ms\n",
      "373:\tlearn: 0.1608757\ttotal: 457ms\tremaining: 764ms\n",
      "374:\tlearn: 0.1608200\ttotal: 458ms\tremaining: 763ms\n",
      "375:\tlearn: 0.1603949\ttotal: 459ms\tremaining: 761ms\n",
      "376:\tlearn: 0.1603221\ttotal: 460ms\tremaining: 761ms\n",
      "377:\tlearn: 0.1601473\ttotal: 461ms\tremaining: 759ms\n",
      "378:\tlearn: 0.1600377\ttotal: 462ms\tremaining: 758ms\n",
      "379:\tlearn: 0.1597154\ttotal: 463ms\tremaining: 756ms\n",
      "380:\tlearn: 0.1593223\ttotal: 464ms\tremaining: 754ms\n",
      "381:\tlearn: 0.1591696\ttotal: 465ms\tremaining: 753ms\n",
      "382:\tlearn: 0.1588610\ttotal: 467ms\tremaining: 752ms\n",
      "383:\tlearn: 0.1585251\ttotal: 468ms\tremaining: 750ms\n",
      "384:\tlearn: 0.1584740\ttotal: 469ms\tremaining: 750ms\n",
      "385:\tlearn: 0.1583674\ttotal: 470ms\tremaining: 748ms\n",
      "386:\tlearn: 0.1582354\ttotal: 471ms\tremaining: 747ms\n",
      "387:\tlearn: 0.1577801\ttotal: 472ms\tremaining: 745ms\n",
      "388:\tlearn: 0.1576850\ttotal: 473ms\tremaining: 743ms\n",
      "389:\tlearn: 0.1570715\ttotal: 474ms\tremaining: 742ms\n",
      "390:\tlearn: 0.1566349\ttotal: 475ms\tremaining: 741ms\n",
      "391:\tlearn: 0.1565810\ttotal: 477ms\tremaining: 740ms\n",
      "392:\tlearn: 0.1565376\ttotal: 478ms\tremaining: 739ms\n",
      "393:\tlearn: 0.1561873\ttotal: 479ms\tremaining: 737ms\n",
      "394:\tlearn: 0.1558040\ttotal: 480ms\tremaining: 735ms\n",
      "395:\tlearn: 0.1555391\ttotal: 481ms\tremaining: 733ms\n",
      "396:\tlearn: 0.1551306\ttotal: 482ms\tremaining: 732ms\n",
      "397:\tlearn: 0.1547927\ttotal: 483ms\tremaining: 730ms\n",
      "398:\tlearn: 0.1544344\ttotal: 484ms\tremaining: 729ms\n",
      "399:\tlearn: 0.1543002\ttotal: 485ms\tremaining: 727ms\n"
     ]
    },
    {
     "name": "stdout",
     "output_type": "stream",
     "text": [
      "400:\tlearn: 0.1542245\ttotal: 486ms\tremaining: 726ms\n",
      "401:\tlearn: 0.1538673\ttotal: 487ms\tremaining: 724ms\n",
      "402:\tlearn: 0.1537491\ttotal: 488ms\tremaining: 723ms\n",
      "403:\tlearn: 0.1533132\ttotal: 489ms\tremaining: 721ms\n",
      "404:\tlearn: 0.1532680\ttotal: 489ms\tremaining: 719ms\n",
      "405:\tlearn: 0.1530214\ttotal: 490ms\tremaining: 717ms\n",
      "406:\tlearn: 0.1527090\ttotal: 491ms\tremaining: 715ms\n",
      "407:\tlearn: 0.1526270\ttotal: 492ms\tremaining: 714ms\n",
      "408:\tlearn: 0.1522558\ttotal: 493ms\tremaining: 712ms\n",
      "409:\tlearn: 0.1521801\ttotal: 494ms\tremaining: 711ms\n",
      "410:\tlearn: 0.1520345\ttotal: 495ms\tremaining: 709ms\n",
      "411:\tlearn: 0.1519839\ttotal: 496ms\tremaining: 707ms\n",
      "412:\tlearn: 0.1517912\ttotal: 497ms\tremaining: 706ms\n",
      "413:\tlearn: 0.1514384\ttotal: 498ms\tremaining: 704ms\n",
      "414:\tlearn: 0.1509509\ttotal: 499ms\tremaining: 703ms\n",
      "415:\tlearn: 0.1509194\ttotal: 499ms\tremaining: 701ms\n",
      "416:\tlearn: 0.1508817\ttotal: 500ms\tremaining: 699ms\n",
      "417:\tlearn: 0.1508447\ttotal: 501ms\tremaining: 698ms\n",
      "418:\tlearn: 0.1505731\ttotal: 502ms\tremaining: 696ms\n",
      "419:\tlearn: 0.1502843\ttotal: 503ms\tremaining: 695ms\n",
      "420:\tlearn: 0.1502106\ttotal: 504ms\tremaining: 693ms\n",
      "421:\tlearn: 0.1500005\ttotal: 505ms\tremaining: 692ms\n",
      "422:\tlearn: 0.1499678\ttotal: 506ms\tremaining: 691ms\n",
      "423:\tlearn: 0.1497013\ttotal: 507ms\tremaining: 689ms\n",
      "424:\tlearn: 0.1494932\ttotal: 508ms\tremaining: 687ms\n",
      "425:\tlearn: 0.1492294\ttotal: 509ms\tremaining: 686ms\n",
      "426:\tlearn: 0.1489661\ttotal: 510ms\tremaining: 685ms\n",
      "427:\tlearn: 0.1487642\ttotal: 511ms\tremaining: 683ms\n",
      "428:\tlearn: 0.1487238\ttotal: 512ms\tremaining: 681ms\n",
      "429:\tlearn: 0.1483905\ttotal: 513ms\tremaining: 680ms\n",
      "430:\tlearn: 0.1480646\ttotal: 514ms\tremaining: 678ms\n",
      "431:\tlearn: 0.1477635\ttotal: 514ms\tremaining: 676ms\n",
      "432:\tlearn: 0.1474944\ttotal: 515ms\tremaining: 675ms\n",
      "433:\tlearn: 0.1471704\ttotal: 516ms\tremaining: 673ms\n",
      "434:\tlearn: 0.1468878\ttotal: 518ms\tremaining: 672ms\n",
      "435:\tlearn: 0.1466033\ttotal: 519ms\tremaining: 671ms\n",
      "436:\tlearn: 0.1465394\ttotal: 520ms\tremaining: 669ms\n",
      "437:\tlearn: 0.1461947\ttotal: 520ms\tremaining: 668ms\n",
      "438:\tlearn: 0.1458123\ttotal: 521ms\tremaining: 666ms\n",
      "439:\tlearn: 0.1456958\ttotal: 522ms\tremaining: 665ms\n",
      "440:\tlearn: 0.1454314\ttotal: 523ms\tremaining: 663ms\n",
      "441:\tlearn: 0.1453961\ttotal: 524ms\tremaining: 662ms\n",
      "442:\tlearn: 0.1450738\ttotal: 526ms\tremaining: 661ms\n",
      "443:\tlearn: 0.1450442\ttotal: 527ms\tremaining: 660ms\n",
      "444:\tlearn: 0.1449832\ttotal: 528ms\tremaining: 658ms\n",
      "445:\tlearn: 0.1445772\ttotal: 528ms\tremaining: 656ms\n",
      "446:\tlearn: 0.1445344\ttotal: 529ms\tremaining: 655ms\n",
      "447:\tlearn: 0.1440671\ttotal: 530ms\tremaining: 653ms\n",
      "448:\tlearn: 0.1437282\ttotal: 531ms\tremaining: 652ms\n",
      "449:\tlearn: 0.1434642\ttotal: 532ms\tremaining: 651ms\n",
      "450:\tlearn: 0.1431132\ttotal: 533ms\tremaining: 649ms\n",
      "451:\tlearn: 0.1428786\ttotal: 534ms\tremaining: 648ms\n",
      "452:\tlearn: 0.1426552\ttotal: 535ms\tremaining: 646ms\n",
      "453:\tlearn: 0.1423206\ttotal: 536ms\tremaining: 645ms\n",
      "454:\tlearn: 0.1421280\ttotal: 537ms\tremaining: 643ms\n",
      "455:\tlearn: 0.1419233\ttotal: 538ms\tremaining: 642ms\n",
      "456:\tlearn: 0.1416269\ttotal: 539ms\tremaining: 641ms\n",
      "457:\tlearn: 0.1413517\ttotal: 541ms\tremaining: 640ms\n",
      "458:\tlearn: 0.1410593\ttotal: 542ms\tremaining: 638ms\n",
      "459:\tlearn: 0.1408490\ttotal: 543ms\tremaining: 637ms\n",
      "460:\tlearn: 0.1407968\ttotal: 544ms\tremaining: 636ms\n",
      "461:\tlearn: 0.1407622\ttotal: 545ms\tremaining: 634ms\n",
      "462:\tlearn: 0.1407012\ttotal: 546ms\tremaining: 633ms\n",
      "463:\tlearn: 0.1404811\ttotal: 547ms\tremaining: 631ms\n",
      "464:\tlearn: 0.1404089\ttotal: 548ms\tremaining: 630ms\n",
      "465:\tlearn: 0.1400489\ttotal: 549ms\tremaining: 629ms\n",
      "466:\tlearn: 0.1399912\ttotal: 550ms\tremaining: 627ms\n",
      "467:\tlearn: 0.1397173\ttotal: 550ms\tremaining: 626ms\n",
      "468:\tlearn: 0.1395454\ttotal: 551ms\tremaining: 624ms\n",
      "469:\tlearn: 0.1393376\ttotal: 552ms\tremaining: 623ms\n",
      "470:\tlearn: 0.1391089\ttotal: 556ms\tremaining: 624ms\n",
      "471:\tlearn: 0.1387363\ttotal: 557ms\tremaining: 623ms\n",
      "472:\tlearn: 0.1384053\ttotal: 558ms\tremaining: 621ms\n",
      "473:\tlearn: 0.1383798\ttotal: 559ms\tremaining: 620ms\n",
      "474:\tlearn: 0.1383445\ttotal: 559ms\tremaining: 618ms\n",
      "475:\tlearn: 0.1382492\ttotal: 560ms\tremaining: 617ms\n",
      "476:\tlearn: 0.1382295\ttotal: 561ms\tremaining: 616ms\n",
      "477:\tlearn: 0.1381839\ttotal: 562ms\tremaining: 614ms\n",
      "478:\tlearn: 0.1378552\ttotal: 563ms\tremaining: 613ms\n",
      "479:\tlearn: 0.1374976\ttotal: 565ms\tremaining: 612ms\n",
      "480:\tlearn: 0.1374684\ttotal: 565ms\tremaining: 610ms\n",
      "481:\tlearn: 0.1373506\ttotal: 566ms\tremaining: 609ms\n",
      "482:\tlearn: 0.1370851\ttotal: 567ms\tremaining: 607ms\n",
      "483:\tlearn: 0.1370550\ttotal: 568ms\tremaining: 606ms\n",
      "484:\tlearn: 0.1369505\ttotal: 569ms\tremaining: 604ms\n",
      "485:\tlearn: 0.1366884\ttotal: 570ms\tremaining: 603ms\n",
      "486:\tlearn: 0.1363819\ttotal: 571ms\tremaining: 602ms\n",
      "487:\tlearn: 0.1360236\ttotal: 572ms\tremaining: 600ms\n",
      "488:\tlearn: 0.1357228\ttotal: 573ms\tremaining: 599ms\n"
     ]
    },
    {
     "name": "stdout",
     "output_type": "stream",
     "text": [
      "489:\tlearn: 0.1354721\ttotal: 574ms\tremaining: 597ms\n",
      "490:\tlearn: 0.1351865\ttotal: 575ms\tremaining: 596ms\n",
      "491:\tlearn: 0.1349253\ttotal: 576ms\tremaining: 595ms\n",
      "492:\tlearn: 0.1345054\ttotal: 577ms\tremaining: 593ms\n",
      "493:\tlearn: 0.1341810\ttotal: 578ms\tremaining: 592ms\n",
      "494:\tlearn: 0.1339486\ttotal: 579ms\tremaining: 591ms\n",
      "495:\tlearn: 0.1338886\ttotal: 580ms\tremaining: 590ms\n",
      "496:\tlearn: 0.1338032\ttotal: 581ms\tremaining: 588ms\n",
      "497:\tlearn: 0.1335407\ttotal: 582ms\tremaining: 587ms\n",
      "498:\tlearn: 0.1332581\ttotal: 583ms\tremaining: 585ms\n",
      "499:\tlearn: 0.1332236\ttotal: 584ms\tremaining: 584ms\n",
      "500:\tlearn: 0.1331782\ttotal: 585ms\tremaining: 583ms\n",
      "501:\tlearn: 0.1329005\ttotal: 586ms\tremaining: 581ms\n",
      "502:\tlearn: 0.1328708\ttotal: 587ms\tremaining: 580ms\n",
      "503:\tlearn: 0.1327857\ttotal: 588ms\tremaining: 578ms\n",
      "504:\tlearn: 0.1323948\ttotal: 589ms\tremaining: 577ms\n",
      "505:\tlearn: 0.1322329\ttotal: 590ms\tremaining: 576ms\n",
      "506:\tlearn: 0.1319715\ttotal: 591ms\tremaining: 574ms\n",
      "507:\tlearn: 0.1317581\ttotal: 592ms\tremaining: 573ms\n",
      "508:\tlearn: 0.1316807\ttotal: 593ms\tremaining: 572ms\n",
      "509:\tlearn: 0.1314442\ttotal: 593ms\tremaining: 570ms\n",
      "510:\tlearn: 0.1313653\ttotal: 594ms\tremaining: 569ms\n",
      "511:\tlearn: 0.1310861\ttotal: 595ms\tremaining: 567ms\n",
      "512:\tlearn: 0.1307239\ttotal: 596ms\tremaining: 566ms\n",
      "513:\tlearn: 0.1305302\ttotal: 597ms\tremaining: 565ms\n",
      "514:\tlearn: 0.1302303\ttotal: 598ms\tremaining: 564ms\n",
      "515:\tlearn: 0.1300652\ttotal: 599ms\tremaining: 562ms\n",
      "516:\tlearn: 0.1299750\ttotal: 600ms\tremaining: 561ms\n",
      "517:\tlearn: 0.1297331\ttotal: 601ms\tremaining: 559ms\n",
      "518:\tlearn: 0.1295321\ttotal: 602ms\tremaining: 558ms\n",
      "519:\tlearn: 0.1295076\ttotal: 603ms\tremaining: 557ms\n",
      "520:\tlearn: 0.1291745\ttotal: 604ms\tremaining: 556ms\n",
      "521:\tlearn: 0.1291470\ttotal: 605ms\tremaining: 554ms\n",
      "522:\tlearn: 0.1291258\ttotal: 606ms\tremaining: 553ms\n",
      "523:\tlearn: 0.1288224\ttotal: 608ms\tremaining: 552ms\n",
      "524:\tlearn: 0.1286872\ttotal: 609ms\tremaining: 551ms\n",
      "525:\tlearn: 0.1285336\ttotal: 610ms\tremaining: 549ms\n",
      "526:\tlearn: 0.1282548\ttotal: 610ms\tremaining: 548ms\n",
      "527:\tlearn: 0.1280214\ttotal: 611ms\tremaining: 546ms\n",
      "528:\tlearn: 0.1278455\ttotal: 612ms\tremaining: 545ms\n",
      "529:\tlearn: 0.1276882\ttotal: 613ms\tremaining: 544ms\n",
      "530:\tlearn: 0.1272506\ttotal: 614ms\tremaining: 543ms\n",
      "531:\tlearn: 0.1269323\ttotal: 615ms\tremaining: 541ms\n",
      "532:\tlearn: 0.1268355\ttotal: 617ms\tremaining: 540ms\n",
      "533:\tlearn: 0.1264794\ttotal: 618ms\tremaining: 539ms\n",
      "534:\tlearn: 0.1264301\ttotal: 619ms\tremaining: 538ms\n",
      "535:\tlearn: 0.1263448\ttotal: 620ms\tremaining: 537ms\n",
      "536:\tlearn: 0.1261754\ttotal: 621ms\tremaining: 536ms\n",
      "537:\tlearn: 0.1259161\ttotal: 622ms\tremaining: 534ms\n",
      "538:\tlearn: 0.1258239\ttotal: 623ms\tremaining: 533ms\n",
      "539:\tlearn: 0.1255562\ttotal: 624ms\tremaining: 532ms\n",
      "540:\tlearn: 0.1253071\ttotal: 625ms\tremaining: 530ms\n",
      "541:\tlearn: 0.1250420\ttotal: 626ms\tremaining: 529ms\n",
      "542:\tlearn: 0.1248649\ttotal: 627ms\tremaining: 528ms\n",
      "543:\tlearn: 0.1244469\ttotal: 628ms\tremaining: 527ms\n",
      "544:\tlearn: 0.1242019\ttotal: 629ms\tremaining: 525ms\n",
      "545:\tlearn: 0.1241614\ttotal: 630ms\tremaining: 524ms\n",
      "546:\tlearn: 0.1241373\ttotal: 631ms\tremaining: 522ms\n",
      "547:\tlearn: 0.1239718\ttotal: 632ms\tremaining: 521ms\n",
      "548:\tlearn: 0.1237801\ttotal: 632ms\tremaining: 520ms\n",
      "549:\tlearn: 0.1237568\ttotal: 633ms\tremaining: 518ms\n",
      "550:\tlearn: 0.1235023\ttotal: 635ms\tremaining: 517ms\n",
      "551:\tlearn: 0.1233534\ttotal: 637ms\tremaining: 517ms\n",
      "552:\tlearn: 0.1233104\ttotal: 638ms\tremaining: 516ms\n",
      "553:\tlearn: 0.1231954\ttotal: 639ms\tremaining: 514ms\n",
      "554:\tlearn: 0.1228765\ttotal: 639ms\tremaining: 513ms\n",
      "555:\tlearn: 0.1226334\ttotal: 640ms\tremaining: 511ms\n",
      "556:\tlearn: 0.1223382\ttotal: 641ms\tremaining: 510ms\n",
      "557:\tlearn: 0.1220508\ttotal: 643ms\tremaining: 509ms\n",
      "558:\tlearn: 0.1216777\ttotal: 644ms\tremaining: 508ms\n",
      "559:\tlearn: 0.1214341\ttotal: 644ms\tremaining: 506ms\n",
      "560:\tlearn: 0.1212877\ttotal: 646ms\tremaining: 505ms\n",
      "561:\tlearn: 0.1210884\ttotal: 646ms\tremaining: 504ms\n",
      "562:\tlearn: 0.1207957\ttotal: 647ms\tremaining: 502ms\n",
      "563:\tlearn: 0.1207114\ttotal: 648ms\tremaining: 501ms\n",
      "564:\tlearn: 0.1205163\ttotal: 649ms\tremaining: 500ms\n",
      "565:\tlearn: 0.1202696\ttotal: 651ms\tremaining: 499ms\n",
      "566:\tlearn: 0.1201779\ttotal: 652ms\tremaining: 498ms\n",
      "567:\tlearn: 0.1198790\ttotal: 653ms\tremaining: 497ms\n",
      "568:\tlearn: 0.1196556\ttotal: 654ms\tremaining: 496ms\n",
      "569:\tlearn: 0.1196084\ttotal: 655ms\tremaining: 494ms\n",
      "570:\tlearn: 0.1194530\ttotal: 656ms\tremaining: 493ms\n",
      "571:\tlearn: 0.1193942\ttotal: 657ms\tremaining: 492ms\n",
      "572:\tlearn: 0.1191094\ttotal: 658ms\tremaining: 490ms\n",
      "573:\tlearn: 0.1190848\ttotal: 659ms\tremaining: 489ms\n",
      "574:\tlearn: 0.1188499\ttotal: 660ms\tremaining: 488ms\n",
      "575:\tlearn: 0.1186839\ttotal: 661ms\tremaining: 486ms\n",
      "576:\tlearn: 0.1183278\ttotal: 662ms\tremaining: 485ms\n",
      "577:\tlearn: 0.1182332\ttotal: 662ms\tremaining: 484ms\n",
      "578:\tlearn: 0.1180197\ttotal: 663ms\tremaining: 482ms\n",
      "579:\tlearn: 0.1178622\ttotal: 664ms\tremaining: 481ms\n",
      "580:\tlearn: 0.1176588\ttotal: 665ms\tremaining: 480ms\n",
      "581:\tlearn: 0.1175470\ttotal: 666ms\tremaining: 478ms\n",
      "582:\tlearn: 0.1173316\ttotal: 668ms\tremaining: 478ms\n",
      "583:\tlearn: 0.1171105\ttotal: 669ms\tremaining: 476ms\n",
      "584:\tlearn: 0.1170725\ttotal: 670ms\tremaining: 475ms\n",
      "585:\tlearn: 0.1168356\ttotal: 671ms\tremaining: 474ms\n",
      "586:\tlearn: 0.1168184\ttotal: 672ms\tremaining: 472ms\n",
      "587:\tlearn: 0.1165019\ttotal: 672ms\tremaining: 471ms\n",
      "588:\tlearn: 0.1163893\ttotal: 673ms\tremaining: 470ms\n",
      "589:\tlearn: 0.1162192\ttotal: 674ms\tremaining: 468ms\n",
      "590:\tlearn: 0.1161974\ttotal: 675ms\tremaining: 467ms\n",
      "591:\tlearn: 0.1159751\ttotal: 676ms\tremaining: 466ms\n"
     ]
    },
    {
     "name": "stdout",
     "output_type": "stream",
     "text": [
      "592:\tlearn: 0.1158719\ttotal: 677ms\tremaining: 465ms\n",
      "593:\tlearn: 0.1156945\ttotal: 678ms\tremaining: 464ms\n",
      "594:\tlearn: 0.1156777\ttotal: 679ms\tremaining: 462ms\n",
      "595:\tlearn: 0.1153778\ttotal: 680ms\tremaining: 461ms\n",
      "596:\tlearn: 0.1151073\ttotal: 681ms\tremaining: 460ms\n",
      "597:\tlearn: 0.1148641\ttotal: 683ms\tremaining: 459ms\n",
      "598:\tlearn: 0.1145560\ttotal: 684ms\tremaining: 458ms\n",
      "599:\tlearn: 0.1143104\ttotal: 684ms\tremaining: 456ms\n",
      "600:\tlearn: 0.1141082\ttotal: 685ms\tremaining: 455ms\n",
      "601:\tlearn: 0.1138669\ttotal: 687ms\tremaining: 454ms\n",
      "602:\tlearn: 0.1136404\ttotal: 688ms\tremaining: 453ms\n",
      "603:\tlearn: 0.1136156\ttotal: 688ms\tremaining: 451ms\n",
      "604:\tlearn: 0.1134330\ttotal: 689ms\tremaining: 450ms\n",
      "605:\tlearn: 0.1131706\ttotal: 690ms\tremaining: 449ms\n",
      "606:\tlearn: 0.1130353\ttotal: 691ms\tremaining: 448ms\n",
      "607:\tlearn: 0.1128920\ttotal: 692ms\tremaining: 446ms\n",
      "608:\tlearn: 0.1125642\ttotal: 693ms\tremaining: 445ms\n",
      "609:\tlearn: 0.1123703\ttotal: 694ms\tremaining: 444ms\n",
      "610:\tlearn: 0.1121182\ttotal: 695ms\tremaining: 442ms\n",
      "611:\tlearn: 0.1119764\ttotal: 696ms\tremaining: 441ms\n",
      "612:\tlearn: 0.1117270\ttotal: 697ms\tremaining: 440ms\n",
      "613:\tlearn: 0.1115929\ttotal: 698ms\tremaining: 439ms\n",
      "614:\tlearn: 0.1112937\ttotal: 700ms\tremaining: 438ms\n",
      "615:\tlearn: 0.1112363\ttotal: 700ms\tremaining: 437ms\n",
      "616:\tlearn: 0.1110320\ttotal: 702ms\tremaining: 435ms\n",
      "617:\tlearn: 0.1109570\ttotal: 702ms\tremaining: 434ms\n",
      "618:\tlearn: 0.1107935\ttotal: 703ms\tremaining: 433ms\n",
      "619:\tlearn: 0.1107249\ttotal: 704ms\tremaining: 432ms\n",
      "620:\tlearn: 0.1104732\ttotal: 705ms\tremaining: 430ms\n",
      "621:\tlearn: 0.1102376\ttotal: 706ms\tremaining: 429ms\n",
      "622:\tlearn: 0.1101429\ttotal: 707ms\tremaining: 428ms\n",
      "623:\tlearn: 0.1099545\ttotal: 708ms\tremaining: 427ms\n",
      "624:\tlearn: 0.1097064\ttotal: 709ms\tremaining: 425ms\n",
      "625:\tlearn: 0.1095118\ttotal: 710ms\tremaining: 424ms\n",
      "626:\tlearn: 0.1093065\ttotal: 711ms\tremaining: 423ms\n",
      "627:\tlearn: 0.1092282\ttotal: 712ms\tremaining: 421ms\n",
      "628:\tlearn: 0.1090849\ttotal: 713ms\tremaining: 420ms\n",
      "629:\tlearn: 0.1088430\ttotal: 714ms\tremaining: 419ms\n",
      "630:\tlearn: 0.1086299\ttotal: 714ms\tremaining: 418ms\n",
      "631:\tlearn: 0.1084913\ttotal: 715ms\tremaining: 416ms\n",
      "632:\tlearn: 0.1083187\ttotal: 716ms\tremaining: 415ms\n",
      "633:\tlearn: 0.1082831\ttotal: 717ms\tremaining: 414ms\n",
      "634:\tlearn: 0.1081073\ttotal: 718ms\tremaining: 413ms\n",
      "635:\tlearn: 0.1080873\ttotal: 719ms\tremaining: 412ms\n",
      "636:\tlearn: 0.1080018\ttotal: 720ms\tremaining: 410ms\n",
      "637:\tlearn: 0.1079619\ttotal: 721ms\tremaining: 409ms\n",
      "638:\tlearn: 0.1077001\ttotal: 722ms\tremaining: 408ms\n",
      "639:\tlearn: 0.1074487\ttotal: 723ms\tremaining: 407ms\n",
      "640:\tlearn: 0.1072985\ttotal: 724ms\tremaining: 405ms\n",
      "641:\tlearn: 0.1071419\ttotal: 725ms\tremaining: 404ms\n",
      "642:\tlearn: 0.1071091\ttotal: 726ms\tremaining: 403ms\n",
      "643:\tlearn: 0.1070009\ttotal: 728ms\tremaining: 403ms\n",
      "644:\tlearn: 0.1067575\ttotal: 729ms\tremaining: 401ms\n",
      "645:\tlearn: 0.1065405\ttotal: 730ms\tremaining: 400ms\n",
      "646:\tlearn: 0.1063448\ttotal: 731ms\tremaining: 399ms\n",
      "647:\tlearn: 0.1061170\ttotal: 733ms\tremaining: 398ms\n",
      "648:\tlearn: 0.1060013\ttotal: 734ms\tremaining: 397ms\n",
      "649:\tlearn: 0.1058507\ttotal: 735ms\tremaining: 396ms\n",
      "650:\tlearn: 0.1056567\ttotal: 736ms\tremaining: 394ms\n",
      "651:\tlearn: 0.1055712\ttotal: 738ms\tremaining: 394ms\n",
      "652:\tlearn: 0.1054880\ttotal: 739ms\tremaining: 393ms\n",
      "653:\tlearn: 0.1051609\ttotal: 740ms\tremaining: 391ms\n",
      "654:\tlearn: 0.1050432\ttotal: 741ms\tremaining: 390ms\n",
      "655:\tlearn: 0.1049260\ttotal: 742ms\tremaining: 389ms\n",
      "656:\tlearn: 0.1048954\ttotal: 743ms\tremaining: 388ms\n",
      "657:\tlearn: 0.1046318\ttotal: 744ms\tremaining: 386ms\n",
      "658:\tlearn: 0.1044484\ttotal: 744ms\tremaining: 385ms\n",
      "659:\tlearn: 0.1042558\ttotal: 745ms\tremaining: 384ms\n",
      "660:\tlearn: 0.1041454\ttotal: 746ms\tremaining: 383ms\n",
      "661:\tlearn: 0.1039267\ttotal: 747ms\tremaining: 381ms\n",
      "662:\tlearn: 0.1036569\ttotal: 748ms\tremaining: 380ms\n",
      "663:\tlearn: 0.1034743\ttotal: 749ms\tremaining: 379ms\n",
      "664:\tlearn: 0.1032616\ttotal: 750ms\tremaining: 378ms\n",
      "665:\tlearn: 0.1031107\ttotal: 751ms\tremaining: 376ms\n",
      "666:\tlearn: 0.1030036\ttotal: 752ms\tremaining: 375ms\n",
      "667:\tlearn: 0.1027819\ttotal: 753ms\tremaining: 374ms\n",
      "668:\tlearn: 0.1025892\ttotal: 755ms\tremaining: 373ms\n",
      "669:\tlearn: 0.1024244\ttotal: 756ms\tremaining: 372ms\n",
      "670:\tlearn: 0.1023950\ttotal: 757ms\tremaining: 371ms\n",
      "671:\tlearn: 0.1023127\ttotal: 757ms\tremaining: 370ms\n",
      "672:\tlearn: 0.1022117\ttotal: 759ms\tremaining: 369ms\n",
      "673:\tlearn: 0.1020760\ttotal: 759ms\tremaining: 367ms\n",
      "674:\tlearn: 0.1019071\ttotal: 760ms\tremaining: 366ms\n",
      "675:\tlearn: 0.1017259\ttotal: 761ms\tremaining: 365ms\n",
      "676:\tlearn: 0.1017076\ttotal: 762ms\tremaining: 364ms\n",
      "677:\tlearn: 0.1015728\ttotal: 763ms\tremaining: 362ms\n",
      "678:\tlearn: 0.1013321\ttotal: 765ms\tremaining: 362ms\n"
     ]
    },
    {
     "name": "stdout",
     "output_type": "stream",
     "text": [
      "679:\tlearn: 0.1013154\ttotal: 766ms\tremaining: 360ms\n",
      "680:\tlearn: 0.1010748\ttotal: 769ms\tremaining: 360ms\n",
      "681:\tlearn: 0.1008911\ttotal: 770ms\tremaining: 359ms\n",
      "682:\tlearn: 0.1008780\ttotal: 770ms\tremaining: 358ms\n",
      "683:\tlearn: 0.1006848\ttotal: 771ms\tremaining: 356ms\n",
      "684:\tlearn: 0.1005277\ttotal: 772ms\tremaining: 355ms\n",
      "685:\tlearn: 0.1003134\ttotal: 773ms\tremaining: 354ms\n",
      "686:\tlearn: 0.1002855\ttotal: 774ms\tremaining: 353ms\n",
      "687:\tlearn: 0.1000060\ttotal: 775ms\tremaining: 352ms\n",
      "688:\tlearn: 0.0997726\ttotal: 776ms\tremaining: 350ms\n",
      "689:\tlearn: 0.0995413\ttotal: 777ms\tremaining: 349ms\n",
      "690:\tlearn: 0.0992915\ttotal: 778ms\tremaining: 348ms\n",
      "691:\tlearn: 0.0991347\ttotal: 779ms\tremaining: 347ms\n",
      "692:\tlearn: 0.0990507\ttotal: 780ms\tremaining: 345ms\n",
      "693:\tlearn: 0.0988830\ttotal: 780ms\tremaining: 344ms\n",
      "694:\tlearn: 0.0986443\ttotal: 782ms\tremaining: 343ms\n",
      "695:\tlearn: 0.0985118\ttotal: 782ms\tremaining: 342ms\n",
      "696:\tlearn: 0.0983233\ttotal: 783ms\tremaining: 340ms\n",
      "697:\tlearn: 0.0981839\ttotal: 784ms\tremaining: 339ms\n",
      "698:\tlearn: 0.0981013\ttotal: 785ms\tremaining: 338ms\n",
      "699:\tlearn: 0.0980852\ttotal: 786ms\tremaining: 337ms\n",
      "700:\tlearn: 0.0980241\ttotal: 787ms\tremaining: 336ms\n",
      "701:\tlearn: 0.0978920\ttotal: 788ms\tremaining: 334ms\n",
      "702:\tlearn: 0.0977153\ttotal: 788ms\tremaining: 333ms\n",
      "703:\tlearn: 0.0974604\ttotal: 789ms\tremaining: 332ms\n",
      "704:\tlearn: 0.0973538\ttotal: 790ms\tremaining: 331ms\n",
      "705:\tlearn: 0.0971185\ttotal: 791ms\tremaining: 329ms\n",
      "706:\tlearn: 0.0970648\ttotal: 792ms\tremaining: 328ms\n",
      "707:\tlearn: 0.0970513\ttotal: 793ms\tremaining: 327ms\n",
      "708:\tlearn: 0.0969655\ttotal: 794ms\tremaining: 326ms\n",
      "709:\tlearn: 0.0967335\ttotal: 795ms\tremaining: 325ms\n",
      "710:\tlearn: 0.0965709\ttotal: 796ms\tremaining: 323ms\n",
      "711:\tlearn: 0.0964457\ttotal: 797ms\tremaining: 322ms\n",
      "712:\tlearn: 0.0963051\ttotal: 798ms\tremaining: 321ms\n",
      "713:\tlearn: 0.0962914\ttotal: 799ms\tremaining: 320ms\n",
      "714:\tlearn: 0.0959925\ttotal: 799ms\tremaining: 319ms\n",
      "715:\tlearn: 0.0957623\ttotal: 800ms\tremaining: 317ms\n",
      "716:\tlearn: 0.0956348\ttotal: 801ms\tremaining: 316ms\n",
      "717:\tlearn: 0.0954742\ttotal: 802ms\tremaining: 315ms\n",
      "718:\tlearn: 0.0953027\ttotal: 803ms\tremaining: 314ms\n",
      "719:\tlearn: 0.0951757\ttotal: 805ms\tremaining: 313ms\n",
      "720:\tlearn: 0.0950748\ttotal: 806ms\tremaining: 312ms\n",
      "721:\tlearn: 0.0947931\ttotal: 807ms\tremaining: 311ms\n",
      "722:\tlearn: 0.0945849\ttotal: 808ms\tremaining: 309ms\n",
      "723:\tlearn: 0.0945703\ttotal: 808ms\tremaining: 308ms\n",
      "724:\tlearn: 0.0944645\ttotal: 809ms\tremaining: 307ms\n",
      "725:\tlearn: 0.0943132\ttotal: 810ms\tremaining: 306ms\n",
      "726:\tlearn: 0.0941351\ttotal: 811ms\tremaining: 305ms\n",
      "727:\tlearn: 0.0940132\ttotal: 812ms\tremaining: 303ms\n",
      "728:\tlearn: 0.0939416\ttotal: 813ms\tremaining: 302ms\n",
      "729:\tlearn: 0.0937103\ttotal: 814ms\tremaining: 301ms\n",
      "730:\tlearn: 0.0935043\ttotal: 815ms\tremaining: 300ms\n",
      "731:\tlearn: 0.0933849\ttotal: 816ms\tremaining: 299ms\n",
      "732:\tlearn: 0.0932130\ttotal: 817ms\tremaining: 298ms\n",
      "733:\tlearn: 0.0930390\ttotal: 818ms\tremaining: 296ms\n",
      "734:\tlearn: 0.0928634\ttotal: 819ms\tremaining: 295ms\n",
      "735:\tlearn: 0.0927267\ttotal: 820ms\tremaining: 294ms\n",
      "736:\tlearn: 0.0926299\ttotal: 821ms\tremaining: 293ms\n",
      "737:\tlearn: 0.0923944\ttotal: 822ms\tremaining: 292ms\n",
      "738:\tlearn: 0.0923828\ttotal: 823ms\tremaining: 291ms\n",
      "739:\tlearn: 0.0922729\ttotal: 824ms\tremaining: 289ms\n",
      "740:\tlearn: 0.0921500\ttotal: 825ms\tremaining: 288ms\n",
      "741:\tlearn: 0.0920094\ttotal: 826ms\tremaining: 287ms\n",
      "742:\tlearn: 0.0919979\ttotal: 827ms\tremaining: 286ms\n",
      "743:\tlearn: 0.0919164\ttotal: 828ms\tremaining: 285ms\n",
      "744:\tlearn: 0.0918379\ttotal: 828ms\tremaining: 284ms\n",
      "745:\tlearn: 0.0917022\ttotal: 829ms\tremaining: 282ms\n",
      "746:\tlearn: 0.0915313\ttotal: 830ms\tremaining: 281ms\n",
      "747:\tlearn: 0.0914256\ttotal: 831ms\tremaining: 280ms\n",
      "748:\tlearn: 0.0912062\ttotal: 832ms\tremaining: 279ms\n",
      "749:\tlearn: 0.0910236\ttotal: 834ms\tremaining: 278ms\n",
      "750:\tlearn: 0.0909185\ttotal: 834ms\tremaining: 277ms\n",
      "751:\tlearn: 0.0908035\ttotal: 835ms\tremaining: 275ms\n",
      "752:\tlearn: 0.0907515\ttotal: 836ms\tremaining: 274ms\n",
      "753:\tlearn: 0.0905733\ttotal: 837ms\tremaining: 273ms\n",
      "754:\tlearn: 0.0904233\ttotal: 838ms\tremaining: 272ms\n",
      "755:\tlearn: 0.0903194\ttotal: 839ms\tremaining: 271ms\n",
      "756:\tlearn: 0.0901207\ttotal: 840ms\tremaining: 270ms\n",
      "757:\tlearn: 0.0900052\ttotal: 841ms\tremaining: 269ms\n",
      "758:\tlearn: 0.0898396\ttotal: 842ms\tremaining: 267ms\n",
      "759:\tlearn: 0.0896592\ttotal: 843ms\tremaining: 266ms\n",
      "760:\tlearn: 0.0894932\ttotal: 844ms\tremaining: 265ms\n",
      "761:\tlearn: 0.0893560\ttotal: 845ms\tremaining: 264ms\n",
      "762:\tlearn: 0.0891509\ttotal: 846ms\tremaining: 263ms\n",
      "763:\tlearn: 0.0890035\ttotal: 847ms\tremaining: 262ms\n",
      "764:\tlearn: 0.0888977\ttotal: 847ms\tremaining: 260ms\n",
      "765:\tlearn: 0.0887640\ttotal: 848ms\tremaining: 259ms\n",
      "766:\tlearn: 0.0886251\ttotal: 849ms\tremaining: 258ms\n",
      "767:\tlearn: 0.0884767\ttotal: 850ms\tremaining: 257ms\n",
      "768:\tlearn: 0.0883790\ttotal: 851ms\tremaining: 256ms\n",
      "769:\tlearn: 0.0881980\ttotal: 852ms\tremaining: 255ms\n",
      "770:\tlearn: 0.0880701\ttotal: 853ms\tremaining: 253ms\n",
      "771:\tlearn: 0.0878719\ttotal: 854ms\tremaining: 252ms\n",
      "772:\tlearn: 0.0877411\ttotal: 855ms\tremaining: 251ms\n",
      "773:\tlearn: 0.0876820\ttotal: 856ms\tremaining: 250ms\n",
      "774:\tlearn: 0.0875413\ttotal: 857ms\tremaining: 249ms\n",
      "775:\tlearn: 0.0874690\ttotal: 858ms\tremaining: 248ms\n",
      "776:\tlearn: 0.0873386\ttotal: 858ms\tremaining: 246ms\n",
      "777:\tlearn: 0.0871728\ttotal: 859ms\tremaining: 245ms\n",
      "778:\tlearn: 0.0870408\ttotal: 860ms\tremaining: 244ms\n",
      "779:\tlearn: 0.0869150\ttotal: 861ms\tremaining: 243ms\n",
      "780:\tlearn: 0.0868321\ttotal: 862ms\tremaining: 242ms\n",
      "781:\tlearn: 0.0867114\ttotal: 863ms\tremaining: 241ms\n",
      "782:\tlearn: 0.0865695\ttotal: 864ms\tremaining: 239ms\n",
      "783:\tlearn: 0.0863828\ttotal: 865ms\tremaining: 238ms\n",
      "784:\tlearn: 0.0861668\ttotal: 866ms\tremaining: 237ms\n",
      "785:\tlearn: 0.0860920\ttotal: 867ms\tremaining: 236ms\n"
     ]
    },
    {
     "name": "stdout",
     "output_type": "stream",
     "text": [
      "786:\tlearn: 0.0860799\ttotal: 868ms\tremaining: 235ms\n",
      "787:\tlearn: 0.0859369\ttotal: 869ms\tremaining: 234ms\n",
      "788:\tlearn: 0.0857548\ttotal: 870ms\tremaining: 233ms\n",
      "789:\tlearn: 0.0856353\ttotal: 871ms\tremaining: 232ms\n",
      "790:\tlearn: 0.0855111\ttotal: 872ms\tremaining: 230ms\n",
      "791:\tlearn: 0.0854021\ttotal: 873ms\tremaining: 229ms\n",
      "792:\tlearn: 0.0853247\ttotal: 874ms\tremaining: 228ms\n",
      "793:\tlearn: 0.0852505\ttotal: 875ms\tremaining: 227ms\n",
      "794:\tlearn: 0.0851214\ttotal: 876ms\tremaining: 226ms\n",
      "795:\tlearn: 0.0849328\ttotal: 877ms\tremaining: 225ms\n",
      "796:\tlearn: 0.0848026\ttotal: 878ms\tremaining: 224ms\n",
      "797:\tlearn: 0.0846010\ttotal: 879ms\tremaining: 223ms\n",
      "798:\tlearn: 0.0844675\ttotal: 880ms\tremaining: 221ms\n",
      "799:\tlearn: 0.0843407\ttotal: 881ms\tremaining: 220ms\n",
      "800:\tlearn: 0.0841873\ttotal: 882ms\tremaining: 219ms\n",
      "801:\tlearn: 0.0840395\ttotal: 883ms\tremaining: 218ms\n",
      "802:\tlearn: 0.0839157\ttotal: 884ms\tremaining: 217ms\n",
      "803:\tlearn: 0.0837575\ttotal: 885ms\tremaining: 216ms\n",
      "804:\tlearn: 0.0836280\ttotal: 885ms\tremaining: 214ms\n",
      "805:\tlearn: 0.0836132\ttotal: 886ms\tremaining: 213ms\n",
      "806:\tlearn: 0.0834530\ttotal: 887ms\tremaining: 212ms\n",
      "807:\tlearn: 0.0832981\ttotal: 889ms\tremaining: 211ms\n",
      "808:\tlearn: 0.0832549\ttotal: 890ms\tremaining: 210ms\n",
      "809:\tlearn: 0.0831824\ttotal: 891ms\tremaining: 209ms\n",
      "810:\tlearn: 0.0831709\ttotal: 892ms\tremaining: 208ms\n",
      "811:\tlearn: 0.0830502\ttotal: 893ms\tremaining: 207ms\n",
      "812:\tlearn: 0.0828699\ttotal: 894ms\tremaining: 206ms\n",
      "813:\tlearn: 0.0827868\ttotal: 895ms\tremaining: 204ms\n",
      "814:\tlearn: 0.0826298\ttotal: 896ms\tremaining: 203ms\n",
      "815:\tlearn: 0.0824811\ttotal: 897ms\tremaining: 202ms\n",
      "816:\tlearn: 0.0824253\ttotal: 897ms\tremaining: 201ms\n",
      "817:\tlearn: 0.0823116\ttotal: 899ms\tremaining: 200ms\n",
      "818:\tlearn: 0.0821741\ttotal: 900ms\tremaining: 199ms\n",
      "819:\tlearn: 0.0821317\ttotal: 901ms\tremaining: 198ms\n",
      "820:\tlearn: 0.0819775\ttotal: 902ms\tremaining: 197ms\n",
      "821:\tlearn: 0.0818172\ttotal: 904ms\tremaining: 196ms\n",
      "822:\tlearn: 0.0817072\ttotal: 905ms\tremaining: 195ms\n",
      "823:\tlearn: 0.0815728\ttotal: 906ms\tremaining: 194ms\n",
      "824:\tlearn: 0.0815076\ttotal: 907ms\tremaining: 192ms\n",
      "825:\tlearn: 0.0813823\ttotal: 908ms\tremaining: 191ms\n",
      "826:\tlearn: 0.0813089\ttotal: 909ms\tremaining: 190ms\n",
      "827:\tlearn: 0.0811439\ttotal: 910ms\tremaining: 189ms\n",
      "828:\tlearn: 0.0810765\ttotal: 911ms\tremaining: 188ms\n",
      "829:\tlearn: 0.0808929\ttotal: 912ms\tremaining: 187ms\n",
      "830:\tlearn: 0.0808812\ttotal: 913ms\tremaining: 186ms\n",
      "831:\tlearn: 0.0806867\ttotal: 914ms\tremaining: 185ms\n",
      "832:\tlearn: 0.0805838\ttotal: 915ms\tremaining: 183ms\n",
      "833:\tlearn: 0.0804600\ttotal: 916ms\tremaining: 182ms\n",
      "834:\tlearn: 0.0802760\ttotal: 916ms\tremaining: 181ms\n",
      "835:\tlearn: 0.0800905\ttotal: 917ms\tremaining: 180ms\n",
      "836:\tlearn: 0.0800813\ttotal: 918ms\tremaining: 179ms\n",
      "837:\tlearn: 0.0799914\ttotal: 919ms\tremaining: 178ms\n",
      "838:\tlearn: 0.0798241\ttotal: 920ms\tremaining: 177ms\n",
      "839:\tlearn: 0.0796917\ttotal: 921ms\tremaining: 175ms\n",
      "840:\tlearn: 0.0795691\ttotal: 922ms\tremaining: 174ms\n",
      "841:\tlearn: 0.0794418\ttotal: 923ms\tremaining: 173ms\n",
      "842:\tlearn: 0.0793817\ttotal: 924ms\tremaining: 172ms\n",
      "843:\tlearn: 0.0793215\ttotal: 925ms\tremaining: 171ms\n",
      "844:\tlearn: 0.0792017\ttotal: 926ms\tremaining: 170ms\n",
      "845:\tlearn: 0.0791105\ttotal: 927ms\tremaining: 169ms\n",
      "846:\tlearn: 0.0789804\ttotal: 928ms\tremaining: 168ms\n",
      "847:\tlearn: 0.0788805\ttotal: 929ms\tremaining: 166ms\n",
      "848:\tlearn: 0.0788581\ttotal: 929ms\tremaining: 165ms\n",
      "849:\tlearn: 0.0788220\ttotal: 930ms\tremaining: 164ms\n",
      "850:\tlearn: 0.0786961\ttotal: 931ms\tremaining: 163ms\n",
      "851:\tlearn: 0.0786638\ttotal: 932ms\tremaining: 162ms\n",
      "852:\tlearn: 0.0785043\ttotal: 933ms\tremaining: 161ms\n",
      "853:\tlearn: 0.0784041\ttotal: 934ms\tremaining: 160ms\n",
      "854:\tlearn: 0.0782921\ttotal: 935ms\tremaining: 159ms\n",
      "855:\tlearn: 0.0782150\ttotal: 936ms\tremaining: 157ms\n",
      "856:\tlearn: 0.0780864\ttotal: 937ms\tremaining: 156ms\n",
      "857:\tlearn: 0.0780664\ttotal: 938ms\tremaining: 155ms\n",
      "858:\tlearn: 0.0779980\ttotal: 939ms\tremaining: 154ms\n",
      "859:\tlearn: 0.0778030\ttotal: 940ms\tremaining: 153ms\n",
      "860:\tlearn: 0.0777093\ttotal: 941ms\tremaining: 152ms\n",
      "861:\tlearn: 0.0776241\ttotal: 942ms\tremaining: 151ms\n",
      "862:\tlearn: 0.0774919\ttotal: 943ms\tremaining: 150ms\n",
      "863:\tlearn: 0.0773539\ttotal: 944ms\tremaining: 149ms\n",
      "864:\tlearn: 0.0772578\ttotal: 945ms\tremaining: 147ms\n",
      "865:\tlearn: 0.0771314\ttotal: 946ms\tremaining: 146ms\n",
      "866:\tlearn: 0.0769541\ttotal: 947ms\tremaining: 145ms\n",
      "867:\tlearn: 0.0769233\ttotal: 948ms\tremaining: 144ms\n",
      "868:\tlearn: 0.0768375\ttotal: 948ms\tremaining: 143ms\n",
      "869:\tlearn: 0.0766865\ttotal: 950ms\tremaining: 142ms\n",
      "870:\tlearn: 0.0766307\ttotal: 951ms\tremaining: 141ms\n",
      "871:\tlearn: 0.0764789\ttotal: 952ms\tremaining: 140ms\n",
      "872:\tlearn: 0.0763314\ttotal: 953ms\tremaining: 139ms\n",
      "873:\tlearn: 0.0762506\ttotal: 954ms\tremaining: 138ms\n",
      "874:\tlearn: 0.0761809\ttotal: 955ms\tremaining: 136ms\n",
      "875:\tlearn: 0.0760297\ttotal: 956ms\tremaining: 135ms\n"
     ]
    },
    {
     "name": "stdout",
     "output_type": "stream",
     "text": [
      "876:\tlearn: 0.0759140\ttotal: 957ms\tremaining: 134ms\n",
      "877:\tlearn: 0.0758633\ttotal: 959ms\tremaining: 133ms\n",
      "878:\tlearn: 0.0757975\ttotal: 960ms\tremaining: 132ms\n",
      "879:\tlearn: 0.0757322\ttotal: 961ms\tremaining: 131ms\n",
      "880:\tlearn: 0.0756002\ttotal: 962ms\tremaining: 130ms\n",
      "881:\tlearn: 0.0754871\ttotal: 963ms\tremaining: 129ms\n",
      "882:\tlearn: 0.0753435\ttotal: 963ms\tremaining: 128ms\n",
      "883:\tlearn: 0.0752156\ttotal: 964ms\tremaining: 127ms\n",
      "884:\tlearn: 0.0751312\ttotal: 965ms\tremaining: 125ms\n",
      "885:\tlearn: 0.0749328\ttotal: 966ms\tremaining: 124ms\n",
      "886:\tlearn: 0.0747606\ttotal: 967ms\tremaining: 123ms\n",
      "887:\tlearn: 0.0746382\ttotal: 968ms\tremaining: 122ms\n",
      "888:\tlearn: 0.0745536\ttotal: 970ms\tremaining: 121ms\n",
      "889:\tlearn: 0.0744733\ttotal: 971ms\tremaining: 120ms\n",
      "890:\tlearn: 0.0744247\ttotal: 972ms\tremaining: 119ms\n",
      "891:\tlearn: 0.0742851\ttotal: 973ms\tremaining: 118ms\n",
      "892:\tlearn: 0.0742395\ttotal: 973ms\tremaining: 117ms\n",
      "893:\tlearn: 0.0741256\ttotal: 974ms\tremaining: 116ms\n",
      "894:\tlearn: 0.0739477\ttotal: 975ms\tremaining: 114ms\n",
      "895:\tlearn: 0.0738083\ttotal: 976ms\tremaining: 113ms\n",
      "896:\tlearn: 0.0737983\ttotal: 977ms\tremaining: 112ms\n",
      "897:\tlearn: 0.0736864\ttotal: 978ms\tremaining: 111ms\n",
      "898:\tlearn: 0.0736513\ttotal: 979ms\tremaining: 110ms\n",
      "899:\tlearn: 0.0735110\ttotal: 980ms\tremaining: 109ms\n",
      "900:\tlearn: 0.0733910\ttotal: 981ms\tremaining: 108ms\n",
      "901:\tlearn: 0.0733061\ttotal: 982ms\tremaining: 107ms\n",
      "902:\tlearn: 0.0732172\ttotal: 983ms\tremaining: 106ms\n",
      "903:\tlearn: 0.0730759\ttotal: 984ms\tremaining: 105ms\n",
      "904:\tlearn: 0.0730404\ttotal: 985ms\tremaining: 103ms\n",
      "905:\tlearn: 0.0730222\ttotal: 986ms\tremaining: 102ms\n",
      "906:\tlearn: 0.0729595\ttotal: 987ms\tremaining: 101ms\n",
      "907:\tlearn: 0.0728056\ttotal: 988ms\tremaining: 100ms\n",
      "908:\tlearn: 0.0727353\ttotal: 989ms\tremaining: 99ms\n",
      "909:\tlearn: 0.0725934\ttotal: 989ms\tremaining: 97.9ms\n",
      "910:\tlearn: 0.0724787\ttotal: 990ms\tremaining: 96.8ms\n",
      "911:\tlearn: 0.0723495\ttotal: 991ms\tremaining: 95.7ms\n",
      "912:\tlearn: 0.0721968\ttotal: 992ms\tremaining: 94.6ms\n",
      "913:\tlearn: 0.0720558\ttotal: 993ms\tremaining: 93.4ms\n",
      "914:\tlearn: 0.0719599\ttotal: 994ms\tremaining: 92.3ms\n",
      "915:\tlearn: 0.0719470\ttotal: 995ms\tremaining: 91.2ms\n",
      "916:\tlearn: 0.0718512\ttotal: 996ms\tremaining: 90.1ms\n",
      "917:\tlearn: 0.0717152\ttotal: 997ms\tremaining: 89ms\n",
      "918:\tlearn: 0.0716721\ttotal: 998ms\tremaining: 87.9ms\n",
      "919:\tlearn: 0.0715873\ttotal: 999ms\tremaining: 86.8ms\n",
      "920:\tlearn: 0.0715380\ttotal: 1000ms\tremaining: 85.7ms\n",
      "921:\tlearn: 0.0714229\ttotal: 1s\tremaining: 84.7ms\n",
      "922:\tlearn: 0.0713737\ttotal: 1s\tremaining: 83.6ms\n",
      "923:\tlearn: 0.0713076\ttotal: 1s\tremaining: 82.5ms\n",
      "924:\tlearn: 0.0712998\ttotal: 1s\tremaining: 81.4ms\n",
      "925:\tlearn: 0.0712221\ttotal: 1s\tremaining: 80.3ms\n",
      "926:\tlearn: 0.0711251\ttotal: 1.01s\tremaining: 79.3ms\n",
      "927:\tlearn: 0.0710130\ttotal: 1.01s\tremaining: 78.2ms\n",
      "928:\tlearn: 0.0709673\ttotal: 1.01s\tremaining: 77.1ms\n",
      "929:\tlearn: 0.0709048\ttotal: 1.01s\tremaining: 76ms\n",
      "930:\tlearn: 0.0708455\ttotal: 1.01s\tremaining: 74.9ms\n",
      "931:\tlearn: 0.0707428\ttotal: 1.01s\tremaining: 73.8ms\n",
      "932:\tlearn: 0.0706310\ttotal: 1.01s\tremaining: 72.7ms\n",
      "933:\tlearn: 0.0705679\ttotal: 1.01s\tremaining: 71.6ms\n",
      "934:\tlearn: 0.0705580\ttotal: 1.01s\tremaining: 70.5ms\n",
      "935:\tlearn: 0.0705062\ttotal: 1.01s\tremaining: 69.4ms\n",
      "936:\tlearn: 0.0703486\ttotal: 1.01s\tremaining: 68.3ms\n",
      "937:\tlearn: 0.0701773\ttotal: 1.02s\tremaining: 67.2ms\n",
      "938:\tlearn: 0.0700721\ttotal: 1.02s\tremaining: 66.1ms\n",
      "939:\tlearn: 0.0699979\ttotal: 1.02s\tremaining: 65.1ms\n",
      "940:\tlearn: 0.0698876\ttotal: 1.02s\tremaining: 64ms\n",
      "941:\tlearn: 0.0698499\ttotal: 1.02s\tremaining: 62.9ms\n",
      "942:\tlearn: 0.0698183\ttotal: 1.02s\tremaining: 61.8ms\n",
      "943:\tlearn: 0.0697704\ttotal: 1.02s\tremaining: 60.7ms\n",
      "944:\tlearn: 0.0696604\ttotal: 1.02s\tremaining: 59.6ms\n",
      "945:\tlearn: 0.0694915\ttotal: 1.02s\tremaining: 58.5ms\n",
      "946:\tlearn: 0.0694642\ttotal: 1.03s\tremaining: 57.4ms\n",
      "947:\tlearn: 0.0693051\ttotal: 1.03s\tremaining: 56.4ms\n",
      "948:\tlearn: 0.0692217\ttotal: 1.03s\tremaining: 55.3ms\n",
      "949:\tlearn: 0.0690703\ttotal: 1.03s\tremaining: 54.2ms\n",
      "950:\tlearn: 0.0690007\ttotal: 1.03s\tremaining: 53.1ms\n",
      "951:\tlearn: 0.0688965\ttotal: 1.03s\tremaining: 52ms\n",
      "952:\tlearn: 0.0687957\ttotal: 1.03s\tremaining: 50.9ms\n",
      "953:\tlearn: 0.0686844\ttotal: 1.03s\tremaining: 49.8ms\n",
      "954:\tlearn: 0.0686084\ttotal: 1.03s\tremaining: 48.8ms\n",
      "955:\tlearn: 0.0685080\ttotal: 1.03s\tremaining: 47.7ms\n",
      "956:\tlearn: 0.0683635\ttotal: 1.04s\tremaining: 46.6ms\n",
      "957:\tlearn: 0.0683255\ttotal: 1.04s\tremaining: 45.5ms\n",
      "958:\tlearn: 0.0682474\ttotal: 1.04s\tremaining: 44.4ms\n",
      "959:\tlearn: 0.0681300\ttotal: 1.04s\tremaining: 43.3ms\n",
      "960:\tlearn: 0.0680471\ttotal: 1.04s\tremaining: 42.2ms\n",
      "961:\tlearn: 0.0679856\ttotal: 1.04s\tremaining: 41.1ms\n",
      "962:\tlearn: 0.0678233\ttotal: 1.04s\tremaining: 40ms\n",
      "963:\tlearn: 0.0677388\ttotal: 1.04s\tremaining: 39ms\n",
      "964:\tlearn: 0.0676970\ttotal: 1.04s\tremaining: 37.9ms\n",
      "965:\tlearn: 0.0676242\ttotal: 1.04s\tremaining: 36.8ms\n",
      "966:\tlearn: 0.0675892\ttotal: 1.05s\tremaining: 35.7ms\n",
      "967:\tlearn: 0.0674491\ttotal: 1.05s\tremaining: 34.7ms\n",
      "968:\tlearn: 0.0674215\ttotal: 1.05s\tremaining: 33.6ms\n",
      "969:\tlearn: 0.0673647\ttotal: 1.05s\tremaining: 32.5ms\n",
      "970:\tlearn: 0.0672687\ttotal: 1.05s\tremaining: 31.4ms\n",
      "971:\tlearn: 0.0671743\ttotal: 1.05s\tremaining: 30.3ms\n",
      "972:\tlearn: 0.0670766\ttotal: 1.05s\tremaining: 29.2ms\n",
      "973:\tlearn: 0.0669830\ttotal: 1.05s\tremaining: 28.1ms\n",
      "974:\tlearn: 0.0669071\ttotal: 1.05s\tremaining: 27.1ms\n",
      "975:\tlearn: 0.0668820\ttotal: 1.05s\tremaining: 26ms\n",
      "976:\tlearn: 0.0667802\ttotal: 1.06s\tremaining: 24.9ms\n",
      "977:\tlearn: 0.0667112\ttotal: 1.06s\tremaining: 23.8ms\n",
      "978:\tlearn: 0.0666740\ttotal: 1.06s\tremaining: 22.7ms\n"
     ]
    },
    {
     "name": "stdout",
     "output_type": "stream",
     "text": [
      "979:\tlearn: 0.0665263\ttotal: 1.06s\tremaining: 21.6ms\n",
      "980:\tlearn: 0.0664715\ttotal: 1.06s\tremaining: 20.6ms\n",
      "981:\tlearn: 0.0664078\ttotal: 1.06s\tremaining: 19.5ms\n",
      "982:\tlearn: 0.0662554\ttotal: 1.06s\tremaining: 18.4ms\n",
      "983:\tlearn: 0.0661691\ttotal: 1.06s\tremaining: 17.3ms\n",
      "984:\tlearn: 0.0660723\ttotal: 1.06s\tremaining: 16.2ms\n",
      "985:\tlearn: 0.0659864\ttotal: 1.07s\tremaining: 15.2ms\n",
      "986:\tlearn: 0.0658386\ttotal: 1.07s\tremaining: 14.1ms\n",
      "987:\tlearn: 0.0657522\ttotal: 1.07s\tremaining: 13ms\n",
      "988:\tlearn: 0.0656917\ttotal: 1.07s\tremaining: 11.9ms\n",
      "989:\tlearn: 0.0656170\ttotal: 1.07s\tremaining: 10.8ms\n",
      "990:\tlearn: 0.0656022\ttotal: 1.07s\tremaining: 9.74ms\n",
      "991:\tlearn: 0.0654563\ttotal: 1.07s\tremaining: 8.65ms\n",
      "992:\tlearn: 0.0653560\ttotal: 1.07s\tremaining: 7.57ms\n",
      "993:\tlearn: 0.0652331\ttotal: 1.07s\tremaining: 6.49ms\n",
      "994:\tlearn: 0.0651428\ttotal: 1.07s\tremaining: 5.41ms\n",
      "995:\tlearn: 0.0651269\ttotal: 1.08s\tremaining: 4.33ms\n",
      "996:\tlearn: 0.0649390\ttotal: 1.08s\tremaining: 3.24ms\n",
      "997:\tlearn: 0.0648665\ttotal: 1.08s\tremaining: 2.16ms\n",
      "998:\tlearn: 0.0647597\ttotal: 1.08s\tremaining: 1.08ms\n",
      "999:\tlearn: 0.0646755\ttotal: 1.08s\tremaining: 0us\n"
     ]
    },
    {
     "data": {
      "text/plain": [
       "<catboost.core.CatBoostRegressor at 0x7fd3683f8220>"
      ]
     },
     "execution_count": 9,
     "metadata": {},
     "output_type": "execute_result"
    }
   ],
   "source": [
    "#Train the Model \n",
    "prior_model = ctb.CatBoostRegressor()\n",
    "prior_model.fit(X_train,Y_train)"
   ]
  },
  {
   "cell_type": "code",
   "execution_count": 10,
   "id": "af65dcda",
   "metadata": {
    "execution": {
     "iopub.execute_input": "2022-06-12T05:13:14.609953Z",
     "iopub.status.busy": "2022-06-12T05:13:14.609561Z",
     "iopub.status.idle": "2022-06-12T05:13:14.616654Z",
     "shell.execute_reply": "2022-06-12T05:13:14.616898Z"
    },
    "id": "af65dcda",
    "papermill": {
     "duration": 0.021489,
     "end_time": "2022-06-12T05:13:14.617014",
     "exception": false,
     "start_time": "2022-06-12T05:13:14.595525",
     "status": "completed"
    },
    "tags": []
   },
   "outputs": [
    {
     "data": {
      "application/scrapbook.scrap.json+json": {
       "data": 0.08803239639013855,
       "encoder": "json",
       "name": "Prior Model MSE",
       "version": 1
      }
     },
     "metadata": {
      "scrapbook": {
       "data": true,
       "display": false,
       "name": "Prior Model MSE"
      }
     },
     "output_type": "display_data"
    },
    {
     "data": {
      "application/scrapbook.scrap.json+json": {
       "data": 1.1663221576911726,
       "encoder": "json",
       "name": "ABC Pre-generator MSE",
       "version": 1
      }
     },
     "metadata": {
      "scrapbook": {
       "data": true,
       "display": false,
       "name": "ABC Pre-generator MSE"
      }
     },
     "output_type": "display_data"
    },
    {
     "data": {
      "application/scrapbook.scrap.json+json": {
       "data": 0.19447128652854073,
       "encoder": "json",
       "name": "Prior Model MSE",
       "version": 1
      }
     },
     "metadata": {
      "scrapbook": {
       "data": true,
       "display": false,
       "name": "Prior Model MSE"
      }
     },
     "output_type": "display_data"
    },
    {
     "data": {
      "application/scrapbook.scrap.json+json": {
       "data": 0.8656823955822267,
       "encoder": "json",
       "name": "ABC Pre-generator MSE",
       "version": 1
      }
     },
     "metadata": {
      "scrapbook": {
       "data": true,
       "display": false,
       "name": "ABC Pre-generator MSE"
      }
     },
     "output_type": "display_data"
    }
   ],
   "source": [
    "y_pred = prior_model.predict(X_test)\n",
    "y_abc = y_pred + np.random.normal(0,variance, y_pred.shape) + bias \n",
    "mse = mean_squared_error(y_pred,Y_test)\n",
    "sb.glue(\"Prior Model MSE\",mse)\n",
    "mse = mean_squared_error(y_abc,Y_test)\n",
    "sb.glue(\"ABC Pre-generator MSE\",mse)\n",
    "mae = mean_absolute_error(y_pred,Y_test)\n",
    "sb.glue(\"Prior Model MSE\",mae)\n",
    "mae = mean_absolute_error(y_abc,Y_test)\n",
    "sb.glue(\"ABC Pre-generator MSE\",mae)"
   ]
  },
  {
   "cell_type": "markdown",
   "id": "25609da2",
   "metadata": {
    "papermill": {
     "duration": 0.010194,
     "end_time": "2022-06-12T05:13:14.637653",
     "exception": false,
     "start_time": "2022-06-12T05:13:14.627459",
     "status": "completed"
    },
    "tags": []
   },
   "source": [
    "# ABC GAN Model"
   ]
  },
  {
   "cell_type": "code",
   "execution_count": 11,
   "id": "dfc3464d",
   "metadata": {
    "execution": {
     "iopub.execute_input": "2022-06-12T05:13:14.661283Z",
     "iopub.status.busy": "2022-06-12T05:13:14.660903Z",
     "iopub.status.idle": "2022-06-12T05:13:14.663280Z",
     "shell.execute_reply": "2022-06-12T05:13:14.663522Z"
    },
    "papermill": {
     "duration": 0.015771,
     "end_time": "2022-06-12T05:13:14.663635",
     "exception": false,
     "start_time": "2022-06-12T05:13:14.647864",
     "status": "completed"
    },
    "tags": []
   },
   "outputs": [],
   "source": [
    "gen = network.Generator(n_features+1).to(device)\n",
    "disc = network.Discriminator(n_features+1).to(device)\n",
    "\n",
    "criterion = torch.nn.BCELoss()\n",
    "gen_opt = torch.optim.Adam(gen.parameters(), lr=0.001, betas=(0.5, 0.999))\n",
    "disc_opt = torch.optim.Adam(disc.parameters(), lr=0.001, betas=(0.5, 0.999))"
   ]
  },
  {
   "cell_type": "code",
   "execution_count": 12,
   "id": "b75fdd85",
   "metadata": {
    "execution": {
     "iopub.execute_input": "2022-06-12T05:13:14.687019Z",
     "iopub.status.busy": "2022-06-12T05:13:14.686644Z",
     "iopub.status.idle": "2022-06-12T05:14:27.107443Z",
     "shell.execute_reply": "2022-06-12T05:14:27.107158Z"
    },
    "papermill": {
     "duration": 72.433513,
     "end_time": "2022-06-12T05:14:27.107548",
     "exception": false,
     "start_time": "2022-06-12T05:13:14.674035",
     "status": "completed"
    },
    "tags": []
   },
   "outputs": [
    {
     "data": {
      "image/png": "[encoded data removed]",
      "text/plain": [
       "<Figure size 432x288 with 1 Axes>"
      ]
     },
     "metadata": {
      "needs_background": "light"
     },
     "output_type": "display_data"
    },
    {
     "data": {
      "image/png": "[encoded data removed]",
      "text/plain": [
       "<Figure size 432x288 with 1 Axes>"
      ]
     },
     "metadata": {
      "needs_background": "light"
     },
     "output_type": "display_data"
    }
   ],
   "source": [
    "#Training the ABC_GAN \n",
    "ABC_train_test2.training_GAN(disc,gen,disc_opt,gen_opt,train_data,batch_size,n_epochs,criterion,prior_model,variance,bias,device)"
   ]
  },
  {
   "cell_type": "code",
   "execution_count": 13,
   "id": "1fa7c368",
   "metadata": {
    "execution": {
     "iopub.execute_input": "2022-06-12T05:14:27.132823Z",
     "iopub.status.busy": "2022-06-12T05:14:27.132456Z",
     "iopub.status.idle": "2022-06-12T05:14:27.491827Z",
     "shell.execute_reply": "2022-06-12T05:14:27.492158Z"
    },
    "papermill": {
     "duration": 0.373465,
     "end_time": "2022-06-12T05:14:27.492284",
     "exception": false,
     "start_time": "2022-06-12T05:14:27.118819",
     "status": "completed"
    },
    "tags": []
   },
   "outputs": [
    {
     "data": {
      "application/scrapbook.scrap.json+json": {
       "data": 0.19916139063979457,
       "encoder": "json",
       "name": "ABC-GAN Model 1 MSE",
       "version": 1
      }
     },
     "metadata": {
      "scrapbook": {
       "data": true,
       "display": false,
       "name": "ABC-GAN Model 1 MSE"
      }
     },
     "output_type": "display_data"
    },
    {
     "data": {
      "application/scrapbook.scrap.json+json": {
       "data": 0.23039313736755182,
       "encoder": "json",
       "name": "ABC-GAN Model 1 MAE",
       "version": 1
      }
     },
     "metadata": {
      "scrapbook": {
       "data": true,
       "display": false,
       "name": "ABC-GAN Model 1 MAE"
      }
     },
     "output_type": "display_data"
    },
    {
     "data": {
      "application/scrapbook.scrap.json+json": {
       "data": 23.500100011490286,
       "encoder": "json",
       "name": "ABC-GAN Model 1 Manhattan Distance",
       "version": 1
      }
     },
     "metadata": {
      "scrapbook": {
       "data": true,
       "display": false,
       "name": "ABC-GAN Model 1 Manhattan Distance"
      }
     },
     "output_type": "display_data"
    },
    {
     "data": {
      "application/scrapbook.scrap.json+json": {
       "data": 4.507146116924215,
       "encoder": "json",
       "name": "ABC-GAN Model 1 Euclidean distance",
       "version": 1
      }
     },
     "metadata": {
      "scrapbook": {
       "data": true,
       "display": false,
       "name": "ABC-GAN Model 1 Euclidean distance"
      }
     },
     "output_type": "display_data"
    },
    {
     "data": {
      "application/scrapbook.scrap.json+json": {
       "data": [
        [
         0.19801716143889536,
         0.20092096523862923,
         0.1969812215816078,
         0.19957953443002452,
         0.19873768754995452,
         0.19851727467639355,
         0.1996854820149814,
         0.19871238276918823,
         0.1985845181179288,
         0.1993769496554761,
         0.19977686049512214,
         0.19887710027205913,
         0.19837091477165125,
         0.1993308672175467,
         0.1985090854454766,
         0.19931944498719764,
         0.19895281333505588,
         0.19800734593292188,
         0.19956089361700433,
         0.1986448018507909,
         0.2003088400361849,
         0.19959698674361787,
         0.19955485793922254,
         0.1988498305182016,
         0.19984180410213673,
         0.19920616560112836,
         0.1981687994528142,
         0.19966341228294782,
         0.19806416625076265,
         0.20076253388787696,
         0.19743174146445872,
         0.1989530998394992,
         0.1968205066935313,
         0.20000873997999943,
         0.20059583840770734,
         0.20021386709554617,
         0.19829593125137512,
         0.19910522574947423,
         0.19977286866251975,
         0.19801602449906866,
         0.19871964821376709,
         0.19803210425103557,
         0.19980288455115627,
         0.20038147674518866,
         0.2001113920803565,
         0.19879219520953906,
         0.199249036564882,
         0.19800419412304432,
         0.1993929226093904,
         0.20055429839384473,
         0.19902518409929748,
         0.20027351324494327,
         0.19924498407830113,
         0.1988321328303018,
         0.19915476502369522,
         0.19906106697942852,
         0.19919533912104534,
         0.19908495714812263,
         0.19918186573378868,
         0.19923952611413304,
         0.19856609564482214,
         0.1988720539831102,
         0.19848362492379806,
         0.1979167493218705,
         0.19816641118924902,
         0.2001895797525174,
         0.1999034420700228,
         0.19841903848818607,
         0.19958926304665942,
         0.20055818295614553,
         0.20037728082602324,
         0.1985028749840378,
         0.19787926358728022,
         0.19906634739962437,
         0.20015554068282002,
         0.2002614212285759,
         0.19875417579905355,
         0.19923943702174812,
         0.20081530950749624,
         0.19936873419908077,
         0.1993336599198026,
         0.1988307798318441,
         0.20026539016457945,
         0.19991556791117904,
         0.19858698313294945,
         0.19863777981669697,
         0.19998576962569606,
         0.19881663482385173,
         0.19790671243270302,
         0.19960933834002156,
         0.20034843786343154,
         0.1994512646117002,
         0.19796430594351902,
         0.20042509480412204,
         0.19824437499658906,
         0.2003119043120497,
         0.19839663997888654,
         0.19871878140918425,
         0.19956863147807322,
         0.1987081529992146
        ],
        [
         0.22905634129054697,
         0.23308162487057202,
         0.2273748673443847,
         0.2314559924416244,
         0.22992364529922021,
         0.23006600131481594,
         0.2315520351369153,
         0.22956731573075934,
         0.23140215034614883,
         0.23000004242046498,
         0.2306285042991387,
         0.22907481091462223,
         0.22858916446749195,
         0.2301745131776175,
         0.22861051220702483,
         0.23223216449111408,
         0.22961199021551246,
         0.2274944147953362,
         0.23118728509757155,
         0.2280278335982824,
         0.23177828962056368,
         0.23128849506268606,
         0.2312106522731483,
         0.22994738858302727,
         0.23148735343277746,
         0.23082715598866343,
         0.22971896510388629,
         0.23159643552065187,
         0.22937550940824783,
         0.233400051618981,
         0.22743586049981268,
         0.23114505622937692,
         0.22649036129644395,
         0.23004796681925654,
         0.23152508426859392,
         0.23310718237075442,
         0.2283064032831759,
         0.2301082711612039,
         0.23171122073579362,
         0.22782307553707676,
         0.2294857869490835,
         0.22823019290123792,
         0.23195015902941427,
         0.23051159581461667,
         0.232228272110589,
         0.23074803071315675,
         0.23056079499313936,
         0.2288047273314613,
         0.23150691610085322,
         0.2329335706947627,
         0.23059815907047368,
         0.2319218356107526,
         0.23077760173884385,
         0.23036557283508136,
         0.23159509259002173,
         0.23089205719274924,
         0.23057986884469203,
         0.232496757872914,
         0.23057042275025857,
         0.23022673163088223,
         0.2289857671267408,
         0.23040439923494763,
         0.22902586447148054,
         0.2286569719823698,
         0.22863139169217617,
         0.23159494043747877,
         0.2319407467547731,
         0.2294281792059979,
         0.2303566728243787,
         0.23242865711925367,
         0.23295649459731638,
         0.23071792609441807,
         0.22797202003900618,
         0.22932135471708925,
         0.23092983547123333,
         0.23177378581763775,
         0.22938876589029736,
         0.23063041763745395,
         0.23129047439707554,
         0.2300317058905813,
         0.2309373400320171,
         0.2301864763995742,
         0.23245184807399033,
         0.23138676420328955,
         0.22909915199795483,
         0.22949001581097642,
         0.23238860214056045,
         0.22946043868603952,
         0.22783680575187593,
         0.23011487127993913,
         0.2324797150532843,
         0.2302172562454407,
         0.22808958959820516,
         0.2320840298563388,
         0.22869955672535533,
         0.23096747945665436,
         0.2290775742034848,
         0.23086710282437065,
         0.23157830493451625,
         0.23100830703133754
        ],
        [
         23.363746811635792,
         23.774325736798346,
         23.192236469127238,
         23.60851122904569,
         23.45221182052046,
         23.466732134111226,
         23.61830758396536,
         23.41586620453745,
         23.60301933530718,
         23.46000432688743,
         23.524107438512146,
         23.365630713291466,
         23.316094775684178,
         23.477800344116986,
         23.318272245116532,
         23.687680778093636,
         23.42042300198227,
         23.20443030912429,
         23.5811030799523,
         23.258839027024806,
         23.641385541297495,
         23.59142649639398,
         23.583486531861126,
         23.45463363546878,
         23.6117100501433,
         23.54436991084367,
         23.4313344405964,
         23.62283642310649,
         23.396301959641278,
         23.806805265136063,
         23.198457770980895,
         23.576795735396445,
         23.102016852237284,
         23.464892615564167,
         23.61555859539658,
         23.776932601816952,
         23.28725313488394,
         23.471043658442795,
         23.634544515050948,
         23.23795370478183,
         23.407550268806517,
         23.279479675926268,
         23.658916221000254,
         23.5121827730909,
         23.687283755280077,
         23.536299132741988,
         23.517201089300215,
         23.33808218780905,
         23.613705442287028,
         23.759224210865796,
         23.521012225188315,
         23.656027232296765,
         23.539315377362072,
         23.497288429178298,
         23.622699444182217,
         23.550989833660424,
         23.519146622158587,
         23.714669303037226,
         23.518183120526373,
         23.483126626349986,
         23.35654824692756,
         23.501248721964657,
         23.360638176091015,
         23.32301114220172,
         23.32040195260197,
         23.622683924622834,
         23.657956168986857,
         23.401674279011786,
         23.496380628086627,
         23.707723026163876,
         23.76156244892627,
         23.533228461630642,
         23.25314604397863,
         23.390778181143105,
         23.5548432180658,
         23.64092615339905,
         23.39765412081033,
         23.524302599020302,
         23.591628388501704,
         23.463234000839293,
         23.555608683265746,
         23.47902059275657,
         23.710088503547013,
         23.601449948735535,
         23.368113503791392,
         23.407981612719595,
         23.703637418337166,
         23.40496474597603,
         23.239354186691344,
         23.47171687055379,
         23.712930935434997,
         23.482160137034953,
         23.265138139016926,
         23.672571045346558,
         23.327354785986245,
         23.558682904578745,
         23.365912568755448,
         23.548444488085806,
         23.620987103320658,
         23.56284731719643
        ],
        [
         4.494190746593576,
         4.527023133841949,
         4.482419503050109,
         4.511885693572311,
         4.502359840138875,
         4.499862444230062,
         4.513083110859815,
         4.502073193813844,
         4.500624495337146,
         4.509595199666879,
         4.5141156133292,
         4.503938746003327,
         4.498203342080972,
         4.5090740131638745,
         4.499769629151986,
         4.508944819876836,
         4.504795995400425,
         4.494079359018712,
         4.5116749826349904,
         4.501307564339575,
         4.520121866022072,
         4.512082961100009,
         4.5116067547826795,
         4.503629948481176,
         4.514849279701144,
         4.507663351595269,
         4.495911202880574,
         4.512833705429514,
         4.494724124746455,
         4.525237944745386,
         4.487542493322462,
         4.504799238992668,
         4.480590550668537,
         4.516734603445274,
         4.5233588756129155,
         4.519050170527619,
         4.497353109067627,
         4.506521166758942,
         4.514070513802039,
         4.494177844601279,
         4.502155496848619,
         4.494360314172154,
         4.514409620782981,
         4.5209413431285785,
         4.517893534845234,
         4.502977227498822,
         4.508148370408626,
         4.494043591305108,
         4.509775837683933,
         4.522890495708708,
         4.505615249677711,
         4.519723260442414,
         4.508102525008356,
         4.503429531889089,
         4.507081764558628,
         4.506021397186403,
         4.50754085842232,
         4.506291782509041,
         4.507388412911232,
         4.508040778835254,
         4.500415731437692,
         4.50388160438052,
         4.499481052546771,
         4.493051127110706,
         4.495884111195861,
         4.518776066011323,
         4.515545492090887,
         4.498748928957359,
         4.511995659434887,
         4.522934297723862,
         4.520894009402828,
         4.499699239768349,
         4.492625611588681,
         4.506081161581722,
         4.518391876502927,
         4.5195868135610295,
         4.502546605145078,
         4.508039770922425,
         4.525832693523326,
         4.509502288313671,
         4.509105599985419,
         4.503414209557911,
         4.519631599675697,
         4.515682443102067,
         4.500652428210919,
         4.501228003701111,
         4.516475229846942,
         4.503254018155413,
         4.492937198329808,
         4.512222568832591,
         4.520568621541986,
         4.5104355654851584,
         4.493590903302051,
         4.52143336454497,
         4.496768422951319,
         4.520156439751733,
         4.498495001425079,
         4.502145677755973,
         4.511762450613227,
         4.5020252782408825
        ]
       ],
       "encoder": "json",
       "name": "ABC_GAN_1 Metrics",
       "version": 1
      }
     },
     "metadata": {
      "scrapbook": {
       "data": true,
       "display": false,
       "name": "ABC_GAN_1 Metrics"
      }
     },
     "output_type": "display_data"
    },
    {
     "name": "stdout",
     "output_type": "stream",
     "text": [
      "MSE\n",
      "0.19916139063979457\n"
     ]
    }
   ],
   "source": [
    "ABC_GAN1_metrics=ABC_train_test2.test_generator(gen,test_data,prior_model,variance,bias,\"1\",device)\n",
    "sb.glue(\"ABC_GAN_1 Metrics\",ABC_GAN1_metrics)\n",
    "\n",
    "print(\"MSE\")\n",
    "print(mean(ABC_GAN1_metrics[0]))"
   ]
  },
  {
   "cell_type": "code",
   "execution_count": 14,
   "id": "eb22ce5c",
   "metadata": {
    "execution": {
     "iopub.execute_input": "2022-06-12T05:14:27.520811Z",
     "iopub.status.busy": "2022-06-12T05:14:27.520425Z",
     "iopub.status.idle": "2022-06-12T05:14:27.836815Z",
     "shell.execute_reply": "2022-06-12T05:14:27.837032Z"
    },
    "papermill": {
     "duration": 0.331664,
     "end_time": "2022-06-12T05:14:27.837158",
     "exception": false,
     "start_time": "2022-06-12T05:14:27.505494",
     "status": "completed"
    },
    "tags": []
   },
   "outputs": [
    {
     "data": {
      "image/png": "[encoded data removed]",
      "text/plain": [
       "<Figure size 432x288 with 1 Axes>"
      ]
     },
     "metadata": {
      "needs_background": "light"
     },
     "output_type": "display_data"
    },
    {
     "data": {
      "image/png": "[encoded data removed]",
      "text/plain": [
       "<Figure size 432x288 with 1 Axes>"
      ]
     },
     "metadata": {
      "needs_background": "light"
     },
     "output_type": "display_data"
    },
    {
     "data": {
      "image/png": "[encoded data removed]",
      "text/plain": [
       "<Figure size 432x288 with 1 Axes>"
      ]
     },
     "metadata": {
      "needs_background": "light"
     },
     "output_type": "display_data"
    },
    {
     "data": {
      "image/png": "[encoded data removed]",
      "text/plain": [
       "<Figure size 432x288 with 1 Axes>"
      ]
     },
     "metadata": {
      "needs_background": "light"
     },
     "output_type": "display_data"
    }
   ],
   "source": [
    "sanityChecks.discProbVsError(train_data,disc,device)\n",
    "sanityChecks.discProbVsError(test_data,disc,device)"
   ]
  },
  {
   "cell_type": "markdown",
   "id": "130f3a4d",
   "metadata": {
    "id": "130f3a4d",
    "papermill": {
     "duration": 0.014823,
     "end_time": "2022-06-12T05:14:27.867133",
     "exception": false,
     "start_time": "2022-06-12T05:14:27.852310",
     "status": "completed"
    },
    "tags": []
   },
   "source": [
    "# ABC - GAN Model with skip connection"
   ]
  },
  {
   "cell_type": "code",
   "execution_count": 15,
   "id": "4e43dad1",
   "metadata": {
    "execution": {
     "iopub.execute_input": "2022-06-12T05:14:27.901170Z",
     "iopub.status.busy": "2022-06-12T05:14:27.900787Z",
     "iopub.status.idle": "2022-06-12T05:14:27.903068Z",
     "shell.execute_reply": "2022-06-12T05:14:27.903318Z"
    },
    "id": "4e43dad1",
    "papermill": {
     "duration": 0.020998,
     "end_time": "2022-06-12T05:14:27.903435",
     "exception": false,
     "start_time": "2022-06-12T05:14:27.882437",
     "status": "completed"
    },
    "tags": []
   },
   "outputs": [],
   "source": [
    "#Generator\n",
    "gen3 = network.GeneratorWithSkipConnection(n_features+1).to(device)\n",
    "constraints=network.weightConstraint()\n",
    "#Discriminator \n",
    "disc3 = network.Discriminator(n_features+1).to(device)\n",
    "\n",
    "criterion = torch.nn.BCELoss()\n",
    "gen_opt = torch.optim.Adam(gen3.parameters(), lr=0.001, betas=(0.5, 0.999))\n",
    "disc_opt = torch.optim.Adam(disc3.parameters(), lr=0.001, betas=(0.5, 0.999))\n"
   ]
  },
  {
   "cell_type": "code",
   "execution_count": 16,
   "id": "26acbc37",
   "metadata": {
    "execution": {
     "iopub.execute_input": "2022-06-12T05:14:27.936205Z",
     "iopub.status.busy": "2022-06-12T05:14:27.935845Z",
     "iopub.status.idle": "2022-06-12T05:17:40.094871Z",
     "shell.execute_reply": "2022-06-12T05:17:40.095300Z"
    },
    "id": "26acbc37",
    "papermill": {
     "duration": 192.176918,
     "end_time": "2022-06-12T05:17:40.095515",
     "exception": false,
     "start_time": "2022-06-12T05:14:27.918597",
     "status": "completed"
    },
    "tags": []
   },
   "outputs": [
    {
     "data": {
      "image/png": "[encoded data removed]",
      "text/plain": [
       "<Figure size 432x288 with 1 Axes>"
      ]
     },
     "metadata": {
      "needs_background": "light"
     },
     "output_type": "display_data"
    },
    {
     "data": {
      "image/png": "[encoded data removed]",
      "text/plain": [
       "<Figure size 432x288 with 1 Axes>"
      ]
     },
     "metadata": {
      "needs_background": "light"
     },
     "output_type": "display_data"
    }
   ],
   "source": [
    "ABC_train_test2.training_GAN_skip_connection(disc3,gen3,disc_opt,gen_opt,train_data,batch_size,n_epochs,criterion,prior_model,variance,bias,device)"
   ]
  },
  {
   "cell_type": "code",
   "execution_count": 17,
   "id": "c5e0717b",
   "metadata": {
    "execution": {
     "iopub.execute_input": "2022-06-12T05:17:40.132125Z",
     "iopub.status.busy": "2022-06-12T05:17:40.131735Z",
     "iopub.status.idle": "2022-06-12T05:17:41.077050Z",
     "shell.execute_reply": "2022-06-12T05:17:41.077375Z"
    },
    "id": "c5e0717b",
    "papermill": {
     "duration": 0.965646,
     "end_time": "2022-06-12T05:17:41.077500",
     "exception": false,
     "start_time": "2022-06-12T05:17:40.111854",
     "status": "completed"
    },
    "tags": []
   },
   "outputs": [
    {
     "data": {
      "application/scrapbook.scrap.json+json": {
       "data": 0.12054350639652464,
       "encoder": "json",
       "name": "ABC-GAN Model 3 MSE",
       "version": 1
      }
     },
     "metadata": {
      "scrapbook": {
       "data": true,
       "display": false,
       "name": "ABC-GAN Model 3 MSE"
      }
     },
     "output_type": "display_data"
    },
    {
     "data": {
      "application/scrapbook.scrap.json+json": {
       "data": 0.2148237299647036,
       "encoder": "json",
       "name": "ABC-GAN Model 3 MAE",
       "version": 1
      }
     },
     "metadata": {
      "scrapbook": {
       "data": true,
       "display": false,
       "name": "ABC-GAN Model 3 MAE"
      }
     },
     "output_type": "display_data"
    },
    {
     "data": {
      "application/scrapbook.scrap.json+json": {
       "data": 21.91202045639977,
       "encoder": "json",
       "name": "ABC-GAN Model 3 Manhattan Distance",
       "version": 1
      }
     },
     "metadata": {
      "scrapbook": {
       "data": true,
       "display": false,
       "name": "ABC-GAN Model 3 Manhattan Distance"
      }
     },
     "output_type": "display_data"
    },
    {
     "data": {
      "application/scrapbook.scrap.json+json": {
       "data": 3.506461967309396,
       "encoder": "json",
       "name": "ABC-GAN Model 3 Euclidean distance",
       "version": 1
      }
     },
     "metadata": {
      "scrapbook": {
       "data": true,
       "display": false,
       "name": "ABC-GAN Model 3 Euclidean distance"
      }
     },
     "output_type": "display_data"
    },
    {
     "data": {
      "application/scrapbook.scrap.json+json": {
       "data": [
        [
         0.1216748981452221,
         0.12003845326760516,
         0.12091731860651303,
         0.12166997904336395,
         0.12134137028076009,
         0.12056511496722047,
         0.1203745345666584,
         0.12043306347456155,
         0.12057156439039342,
         0.11870414955002412,
         0.11995822525020113,
         0.12219297920300955,
         0.1228865055053174,
         0.11902797682206209,
         0.1200783685672319,
         0.11840506153235253,
         0.12018151285533148,
         0.11976417428929434,
         0.12094613201999678,
         0.11995458673082414,
         0.12023941417140224,
         0.12027301106295792,
         0.120253357771334,
         0.11933697764190589,
         0.12032821802613476,
         0.12048912849263657,
         0.11980763954536097,
         0.1213072394751958,
         0.12169647937059024,
         0.12132382803847726,
         0.12225939608084299,
         0.12125850033796177,
         0.11970551267930736,
         0.12147365548233853,
         0.12098893157796387,
         0.11978925718749374,
         0.12062647724827887,
         0.11988011620536224,
         0.12038869507565307,
         0.11879008606014929,
         0.12166055646204285,
         0.12041620037348297,
         0.1193886728591564,
         0.12093407830985643,
         0.11988094724315256,
         0.12117528200137265,
         0.12160942907987145,
         0.12021772837036623,
         0.1210295084598808,
         0.12014820325114606,
         0.11942216317203679,
         0.12097599152586266,
         0.12007908164964913,
         0.1206907934872537,
         0.1204583542877744,
         0.12083121891643635,
         0.11949908025772672,
         0.12119517650616246,
         0.12060072542205917,
         0.12015821749288781,
         0.12080380428189322,
         0.12138351947815083,
         0.12009407002863287,
         0.1215359035183295,
         0.12066394136260783,
         0.12079973556774479,
         0.11956885773938937,
         0.12021108855012409,
         0.12049954227102526,
         0.1203370808146831,
         0.11943424323064133,
         0.12057016012575264,
         0.12093386100673567,
         0.12064737587631968,
         0.12182267343847752,
         0.12122525943821717,
         0.12056062893292338,
         0.12135668907710594,
         0.11894385145239893,
         0.12125628954251982,
         0.12134533725377672,
         0.12208510227220139,
         0.11872696191878367,
         0.12030911329205006,
         0.12305694241262959,
         0.1203702439700949,
         0.12142711368659544,
         0.12067208206694145,
         0.12083895344834283,
         0.11952713088101909,
         0.12041318518646481,
         0.11982731522496891,
         0.12090576056345521,
         0.1202847287189557,
         0.12010632569590823,
         0.11949583253583734,
         0.1209810785472756,
         0.12122000515219256,
         0.11905257708477554,
         0.12078297427905352
        ],
        [
         0.2159571031784164,
         0.21576950967530995,
         0.2150193001691471,
         0.21702396958226375,
         0.2158956398329168,
         0.2151964313040177,
         0.2152686150214982,
         0.21388454420272918,
         0.21194346450890103,
         0.21223594985135338,
         0.21377011373018226,
         0.21693039885448182,
         0.21839411142190882,
         0.21190209075918093,
         0.21389681250130868,
         0.2121709607422863,
         0.2147068570130596,
         0.21366496698236934,
         0.21576517980600543,
         0.2142325367175919,
         0.21411551810874074,
         0.21369441171797612,
         0.2145399308087779,
         0.2129935375597401,
         0.21505490318853773,
         0.21459655284735502,
         0.21601860491814567,
         0.21502640690910174,
         0.21577327131458066,
         0.21507176781511483,
         0.21766457733625144,
         0.21571568207924857,
         0.2146034233235553,
         0.2160668441313593,
         0.21522188171123466,
         0.2141641194786073,
         0.21648358858610486,
         0.2133275067123274,
         0.2156935552792514,
         0.2125110484422276,
         0.216851974317037,
         0.2137607943960557,
         0.21411006812773206,
         0.21500186019522302,
         0.21291529990769192,
         0.21595025056169606,
         0.21583560715411224,
         0.21368358754005065,
         0.2150140759790791,
         0.21560051029219346,
         0.2132273662707531,
         0.21493753933292978,
         0.21228843663965224,
         0.21538327182369196,
         0.2157812194131753,
         0.2154211513606795,
         0.21301494228343168,
         0.21523383007768324,
         0.21527909772361026,
         0.21487617114668384,
         0.21532493065494826,
         0.21679909369342176,
         0.2140425178770195,
         0.2170199157907536,
         0.21275723089153567,
         0.21487931645128364,
         0.2122834973201594,
         0.21310671265510953,
         0.21564852434447876,
         0.21450604267381862,
         0.21339161565308185,
         0.21634375538640455,
         0.21625598366646206,
         0.21448551127504484,
         0.21713646336038614,
         0.21449261351360702,
         0.21446943168035326,
         0.21633050516795585,
         0.2124200490412905,
         0.21614265899338267,
         0.2163273006148052,
         0.2163913055943946,
         0.2129893549991881,
         0.2142704398069969,
         0.21823291490584903,
         0.21500919466180837,
         0.21735582481521895,
         0.21444279559906207,
         0.21545021529035532,
         0.21297055730304004,
         0.21418207802572378,
         0.2136591204862092,
         0.21484353669060796,
         0.21456587666134333,
         0.2129309773764701,
         0.21416244028574405,
         0.21535574157229243,
         0.2162543139694368,
         0.2146604416809757,
         0.214349453374013
        ],
        [
         22.027624524198472,
         22.008489986881614,
         21.931968617253006,
         22.136444897390902,
         22.021355262957513,
         21.950035993009806,
         21.957398732192814,
         21.816223508678377,
         21.618233379907906,
         21.648066884838045,
         21.80455160047859,
         22.126900683157146,
         22.2761993650347,
         21.614013257436454,
         21.817474875133485,
         21.641437995713204,
         21.90009941533208,
         21.79382663220167,
         22.008048340212554,
         21.851718745194376,
         21.839782847091556,
         21.796829995233566,
         21.883072942495346,
         21.72534083109349,
         21.93560012523085,
         21.888848390430212,
         22.033897701650858,
         21.932693504728377,
         22.008873674087226,
         21.93732031714171,
         22.201786888297647,
         22.002999572083354,
         21.889549179002643,
         22.038818101398647,
         21.952631934545934,
         21.844740186817944,
         22.081326035782695,
         21.759405684657395,
         22.000742638483644,
         21.676126941107213,
         22.118901380337775,
         21.80360102839768,
         21.83922694902867,
         21.93018973991275,
         21.717360590584576,
         22.026925557292998,
         22.015231929719448,
         21.795725929085165,
         21.93143574986607,
         21.991252049803734,
         21.749191359616816,
         21.923629011958838,
         21.65342053724453,
         21.96909372601658,
         22.00968438014388,
         21.972957438789308,
         21.727524112910032,
         21.95385066792369,
         21.958467967808247,
         21.91736945696175,
         21.96314292680472,
         22.11350755672902,
         21.83233682345599,
         22.13603141065687,
         21.70123755093664,
         21.917690278030932,
         21.652916726656258,
         21.73688469082117,
         21.996149483136833,
         21.8796163527295,
         21.76594479661435,
         22.067063049413264,
         22.05811033397913,
         21.877522150054574,
         22.147919262759387,
         21.878246578387916,
         21.87588203139603,
         22.065711527131498,
         21.66684500221163,
         22.04655121732503,
         22.06538466271013,
         22.07191317062825,
         21.724914209917188,
         21.855584860313684,
         22.259757320396602,
         21.930937855504453,
         22.170294131152332,
         21.87316515110433,
         21.975921959616244,
         21.722996844910085,
         21.846571958623827,
         21.79323028959334,
         21.914040742442012,
         21.88571941945702,
         21.71895969239995,
         21.84456890914589,
         21.966285640373826,
         22.057940024882555,
         21.89536505145952,
         21.863644244149327
        ],
        [
         3.5229021574282546,
         3.49913163989235,
         3.5119177806241884,
         3.5228309443433585,
         3.518070461010911,
         3.506799356486836,
         3.504026616023222,
         3.5048783822559773,
         3.506893150328382,
         3.479629758193026,
         3.4979621175079227,
         3.5303942950762557,
         3.5403987856655887,
         3.484372775098889,
         3.4997133588134974,
         3.475243340587815,
         3.5012161188998046,
         3.4951317253442706,
         3.5123361835165587,
         3.497909067792366,
         3.5020594291763567,
         3.5025486618206614,
         3.502262481978766,
         3.4888926208002444,
         3.5033524285555036,
         3.505694097642995,
         3.4957659008616147,
         3.517575646161709,
         3.5232145685155487,
         3.5178161492500823,
         3.5313536215233365,
         3.5168689248352862,
         3.494275646437949,
         3.5199876220234825,
         3.5129575888348428,
         3.4954977089284953,
         3.5076916454164615,
         3.4968231086154398,
         3.5042327116954732,
         3.4808890786888376,
         3.5226945310555053,
         3.504632996205917,
         3.4896482102977013,
         3.5121611562690793,
         3.4968352290037283,
         3.515661924039342,
         3.5219542538407405,
         3.5017436076585264,
         3.5135466217068814,
         3.500730885346215,
         3.4901376253018666,
         3.512769724254351,
         3.4997237502786147,
         3.508626645241678,
         3.5052463732743506,
         3.5106672199849,
         3.49126140331659,
         3.515950512113128,
         3.5073172073609244,
         3.500876773648933,
         3.510268940801133,
         3.518681427292244,
         3.499942162796487,
         3.5208893988408114,
         3.508236311736426,
         3.510209826763916,
         3.4922805570884066,
         3.5016469028319595,
         3.5058455915291793,
         3.5034814460901136,
         3.49031414195419,
         3.506872728347404,
         3.5121580008147455,
         3.507995487366625,
         3.525040806958794,
         3.5163868477029303,
         3.5067341146939244,
         3.518292524203296,
         3.4831412328736673,
         3.5168368647602946,
         3.518127968094001,
         3.5288355631517514,
         3.479964096900417,
         3.5030743006378127,
         3.5428531053500114,
         3.503964167189739,
         3.5193132278944326,
         3.5083546529431757,
         3.510779578915624,
         3.491671139993562,
         3.504589118430206,
         3.496052939093861,
         3.5117499309421834,
         3.502719276409897,
         3.5001207437719404,
         3.4912139605952834,
         3.512843579185117,
         3.516310641215255,
         3.4847328251455814,
         3.5099662927816637
        ]
       ],
       "encoder": "json",
       "name": "ABC_GAN_3 Metrics",
       "version": 1
      }
     },
     "metadata": {
      "scrapbook": {
       "data": true,
       "display": false,
       "name": "ABC_GAN_3 Metrics"
      }
     },
     "output_type": "display_data"
    },
    {
     "name": "stdout",
     "output_type": "stream",
     "text": [
      "MSE\n",
      "0.12054350639652464\n"
     ]
    }
   ],
   "source": [
    "ABC_GAN3_metrics=ABC_train_test2.test_generator(gen3,test_data,prior_model,variance,bias,\"3\",device)\n",
    "sb.glue(\"ABC_GAN_3 Metrics\",ABC_GAN3_metrics)\n",
    "\n",
    "print(\"MSE\")\n",
    "print(mean(ABC_GAN3_metrics[0]))"
   ]
  },
  {
   "cell_type": "code",
   "execution_count": 18,
   "id": "c8e46b48",
   "metadata": {
    "execution": {
     "iopub.execute_input": "2022-06-12T05:17:41.115573Z",
     "iopub.status.busy": "2022-06-12T05:17:41.115172Z",
     "iopub.status.idle": "2022-06-12T05:17:41.428712Z",
     "shell.execute_reply": "2022-06-12T05:17:41.429001Z"
    },
    "id": "c8e46b48",
    "papermill": {
     "duration": 0.333815,
     "end_time": "2022-06-12T05:17:41.429125",
     "exception": false,
     "start_time": "2022-06-12T05:17:41.095310",
     "status": "completed"
    },
    "tags": []
   },
   "outputs": [
    {
     "data": {
      "image/png": "[encoded data removed]",
      "text/plain": [
       "<Figure size 432x288 with 1 Axes>"
      ]
     },
     "metadata": {
      "needs_background": "light"
     },
     "output_type": "display_data"
    },
    {
     "data": {
      "image/png": "[encoded data removed]",
      "text/plain": [
       "<Figure size 432x288 with 1 Axes>"
      ]
     },
     "metadata": {
      "needs_background": "light"
     },
     "output_type": "display_data"
    },
    {
     "data": {
      "image/png": "[encoded data removed]",
      "text/plain": [
       "<Figure size 432x288 with 1 Axes>"
      ]
     },
     "metadata": {
      "needs_background": "light"
     },
     "output_type": "display_data"
    },
    {
     "data": {
      "image/png": "[encoded data removed]",
      "text/plain": [
       "<Figure size 432x288 with 1 Axes>"
      ]
     },
     "metadata": {
      "needs_background": "light"
     },
     "output_type": "display_data"
    }
   ],
   "source": [
    "sanityChecks.discProbVsError(train_data,disc3,device)\n",
    "sanityChecks.discProbVsError(test_data,disc3,device)"
   ]
  },
  {
   "cell_type": "markdown",
   "id": "a5bd74c3",
   "metadata": {
    "id": "a5bd74c3",
    "papermill": {
     "duration": 0.019848,
     "end_time": "2022-06-12T05:17:41.470765",
     "exception": false,
     "start_time": "2022-06-12T05:17:41.450917",
     "status": "completed"
    },
    "tags": []
   },
   "source": [
    "## Skip Connection Model Analysis - ABC-GAN "
   ]
  },
  {
   "cell_type": "markdown",
   "id": "5744a8bf",
   "metadata": {
    "id": "5744a8bf",
    "papermill": {
     "duration": 0.01948,
     "end_time": "2022-06-12T05:17:41.509821",
     "exception": false,
     "start_time": "2022-06-12T05:17:41.490341",
     "status": "completed"
    },
    "tags": []
   },
   "source": [
    "### Weight Analysis \n",
    "\n",
    "Study the weights of the skip connection layer\n",
    "\n",
    "Equation of the skip connection is \n",
    "\n",
    "$output = y_{gan} * w + y_{abc} * (1-w)$"
   ]
  },
  {
   "cell_type": "code",
   "execution_count": 19,
   "id": "52c31dea",
   "metadata": {
    "execution": {
     "iopub.execute_input": "2022-06-12T05:17:41.552394Z",
     "iopub.status.busy": "2022-06-12T05:17:41.551944Z",
     "iopub.status.idle": "2022-06-12T05:17:41.565013Z",
     "shell.execute_reply": "2022-06-12T05:17:41.565260Z"
    },
    "id": "52c31dea",
    "papermill": {
     "duration": 0.036119,
     "end_time": "2022-06-12T05:17:41.565380",
     "exception": false,
     "start_time": "2022-06-12T05:17:41.529261",
     "status": "completed"
    },
    "tags": []
   },
   "outputs": [
    {
     "name": "stdout",
     "output_type": "stream",
     "text": [
      "Weight of the node at skip connection\n",
      "Parameter containing:\n",
      "tensor([[0.9902]], requires_grad=True)\n"
     ]
    },
    {
     "data": {
      "application/scrapbook.scrap.json+json": {
       "data": 0.9901790618896484,
       "encoder": "json",
       "name": "Skip Connection Weight",
       "version": 1
      }
     },
     "metadata": {
      "scrapbook": {
       "data": true,
       "display": false,
       "name": "Skip Connection Weight"
      }
     },
     "output_type": "display_data"
    }
   ],
   "source": [
    "print(\"Weight of the node at skip connection\")\n",
    "for name,param in gen3.named_parameters():\n",
    "    if(name == \"skipNode.weight\"):\n",
    "        print(param)\n",
    "        sb.glue(\"Skip Connection Weight\",param.item())"
   ]
  }
 ],
 "metadata": {
  "colab": {
   "collapsed_sections": [],
   "name": "ABC_GAN_Model-Catboost_Pre-gen.ipynb",
   "provenance": []
  },
  "interpreter": {
   "hash": "31f2aee4e71d21fbe5cf8b01ff0e069b9275f58929596ceb00d14d90e3e16cd6"
  },
  "kernelspec": {
   "display_name": "Python 3 (ipykernel)",
   "language": "python",
   "name": "python3"
  },
  "language_info": {
   "codemirror_mode": {
    "name": "ipython",
    "version": 3
   },
   "file_extension": ".py",
   "mimetype": "text/x-python",
   "name": "python",
   "nbconvert_exporter": "python",
   "pygments_lexer": "ipython3",
   "version": "3.8.11"
  },
  "papermill": {
   "default_parameters": {},
   "duration": 271.659597,
   "end_time": "2022-06-12T05:17:41.995245",
   "environment_variables": {},
   "exception": null,
   "input_path": "ABC_GAN-Catboost.ipynb",
   "output_path": "./ABC_GAN_Catboost/ABC-GAN_output_5_6.ipynb",
   "parameters": {
    "bias": 0.01,
    "variance": 1
   },
   "start_time": "2022-06-12T05:13:10.335648",
   "version": "2.3.3"
  }
 },
 "nbformat": 4,
 "nbformat_minor": 5
}