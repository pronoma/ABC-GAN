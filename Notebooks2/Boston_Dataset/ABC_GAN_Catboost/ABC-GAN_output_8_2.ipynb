{
 "cells": [
  {
   "cell_type": "markdown",
   "id": "622780e6",
   "metadata": {
    "id": "622780e6",
    "papermill": {
     "duration": 0.035328,
     "end_time": "2022-06-12T06:49:54.297230",
     "exception": false,
     "start_time": "2022-06-12T06:49:54.261902",
     "status": "completed"
    },
    "tags": []
   },
   "source": [
    "## Import Libraries "
   ]
  },
  {
   "cell_type": "code",
   "execution_count": 1,
   "id": "a62397e3",
   "metadata": {
    "execution": {
     "iopub.execute_input": "2022-06-12T06:49:54.333135Z",
     "iopub.status.busy": "2022-06-12T06:49:54.332575Z",
     "iopub.status.idle": "2022-06-12T06:49:54.334904Z",
     "shell.execute_reply": "2022-06-12T06:49:54.335229Z"
    },
    "id": "a62397e3",
    "papermill": {
     "duration": 0.0218,
     "end_time": "2022-06-12T06:49:54.335460",
     "exception": false,
     "start_time": "2022-06-12T06:49:54.313660",
     "status": "completed"
    },
    "tags": []
   },
   "outputs": [],
   "source": [
    "import warnings\n",
    "import sys\n",
    "sys.path.insert(0, '../../src')\n",
    "warnings.filterwarnings('ignore')"
   ]
  },
  {
   "cell_type": "code",
   "execution_count": 2,
   "id": "d6a4e155",
   "metadata": {
    "execution": {
     "iopub.execute_input": "2022-06-12T06:49:54.386190Z",
     "iopub.status.busy": "2022-06-12T06:49:54.385693Z",
     "iopub.status.idle": "2022-06-12T06:49:56.381373Z",
     "shell.execute_reply": "2022-06-12T06:49:56.381687Z"
    },
    "id": "d6a4e155",
    "papermill": {
     "duration": 2.01936,
     "end_time": "2022-06-12T06:49:56.381975",
     "exception": false,
     "start_time": "2022-06-12T06:49:54.362615",
     "status": "completed"
    },
    "tags": []
   },
   "outputs": [],
   "source": [
    "import ABC_train_test2\n",
    "import bostonDataset\n",
    "import network\n",
    "import dataset\n",
    "import sanityChecks\n",
    "import torch \n",
    "import scrapbook as sb\n",
    "from statistics import mean \n",
    "import catboost as ctb \n",
    "from sklearn.model_selection import train_test_split\n",
    "from sklearn.metrics import mean_squared_error,mean_absolute_error\n",
    "import numpy as np"
   ]
  },
  {
   "cell_type": "markdown",
   "id": "2fa5b0f7",
   "metadata": {
    "id": "2fa5b0f7",
    "papermill": {
     "duration": 0.00733,
     "end_time": "2022-06-12T06:49:56.397640",
     "exception": false,
     "start_time": "2022-06-12T06:49:56.390310",
     "status": "completed"
    },
    "tags": []
   },
   "source": [
    "## Parameters "
   ]
  },
  {
   "cell_type": "code",
   "execution_count": 3,
   "id": "783186fb",
   "metadata": {
    "execution": {
     "iopub.execute_input": "2022-06-12T06:49:56.415291Z",
     "iopub.status.busy": "2022-06-12T06:49:56.414890Z",
     "iopub.status.idle": "2022-06-12T06:49:56.416188Z",
     "shell.execute_reply": "2022-06-12T06:49:56.416488Z"
    },
    "id": "783186fb",
    "papermill": {
     "duration": 0.011658,
     "end_time": "2022-06-12T06:49:56.416679",
     "exception": false,
     "start_time": "2022-06-12T06:49:56.405021",
     "status": "completed"
    },
    "tags": [
     "parameters"
    ]
   },
   "outputs": [],
   "source": [
    "variance = 1\n",
    "bias = 1 "
   ]
  },
  {
   "cell_type": "code",
   "execution_count": 4,
   "id": "cb1518f7",
   "metadata": {
    "execution": {
     "iopub.execute_input": "2022-06-12T06:49:56.436513Z",
     "iopub.status.busy": "2022-06-12T06:49:56.436057Z",
     "iopub.status.idle": "2022-06-12T06:49:56.437482Z",
     "shell.execute_reply": "2022-06-12T06:49:56.437723Z"
    },
    "papermill": {
     "duration": 0.013421,
     "end_time": "2022-06-12T06:49:56.437877",
     "exception": false,
     "start_time": "2022-06-12T06:49:56.424456",
     "status": "completed"
    },
    "tags": [
     "injected-parameters"
    ]
   },
   "outputs": [],
   "source": [
    "# Parameters\n",
    "variance = 0.01\n",
    "bias = 1\n"
   ]
  },
  {
   "cell_type": "markdown",
   "id": "391cdbfd",
   "metadata": {
    "id": "391cdbfd",
    "papermill": {
     "duration": 0.007642,
     "end_time": "2022-06-12T06:49:56.453148",
     "exception": false,
     "start_time": "2022-06-12T06:49:56.445506",
     "status": "completed"
    },
    "tags": []
   },
   "source": [
    "## Dataset \n"
   ]
  },
  {
   "cell_type": "code",
   "execution_count": 5,
   "id": "5b51f161",
   "metadata": {
    "execution": {
     "iopub.execute_input": "2022-06-12T06:49:56.470779Z",
     "iopub.status.busy": "2022-06-12T06:49:56.470388Z",
     "iopub.status.idle": "2022-06-12T06:49:56.471446Z",
     "shell.execute_reply": "2022-06-12T06:49:56.471818Z"
    },
    "id": "5b51f161",
    "papermill": {
     "duration": 0.011223,
     "end_time": "2022-06-12T06:49:56.471939",
     "exception": false,
     "start_time": "2022-06-12T06:49:56.460716",
     "status": "completed"
    },
    "tags": []
   },
   "outputs": [],
   "source": [
    "#Parameters \n",
    "n_features = 13\n",
    "n_samples= 506\n",
    "n_target = 1 "
   ]
  },
  {
   "cell_type": "code",
   "execution_count": 6,
   "id": "5d6eced4",
   "metadata": {
    "execution": {
     "iopub.execute_input": "2022-06-12T06:49:56.499610Z",
     "iopub.status.busy": "2022-06-12T06:49:56.498029Z",
     "iopub.status.idle": "2022-06-12T06:49:56.520218Z",
     "shell.execute_reply": "2022-06-12T06:49:56.520982Z"
    },
    "id": "5d6eced4",
    "papermill": {
     "duration": 0.038703,
     "end_time": "2022-06-12T06:49:56.521350",
     "exception": false,
     "start_time": "2022-06-12T06:49:56.482647",
     "status": "completed"
    },
    "tags": []
   },
   "outputs": [
    {
     "name": "stdout",
     "output_type": "stream",
     "text": [
      "         X1        X2        X3        X4        X5        X6        X7  \\\n",
      "0 -0.419782  0.284830 -1.287909 -0.272599 -0.144217  0.413672 -0.120013   \n",
      "1 -0.417339 -0.487722 -0.593381 -0.272599 -0.740262  0.194274  0.367166   \n",
      "2 -0.417342 -0.487722 -0.593381 -0.272599 -0.740262  1.282714 -0.265812   \n",
      "3 -0.416750 -0.487722 -1.306878 -0.272599 -0.835284  1.016303 -0.809889   \n",
      "4 -0.412482 -0.487722 -1.306878 -0.272599 -0.835284  1.228577 -0.511180   \n",
      "\n",
      "         X8        X9       X10       X11       X12       X13         Y  \n",
      "0  0.140214 -0.982843 -0.666608 -1.459000  0.441052 -1.075562  0.159686  \n",
      "1  0.557160 -0.867883 -0.987329 -0.303094  0.441052 -0.492439 -0.101524  \n",
      "2  0.557160 -0.867883 -0.987329 -0.303094  0.396427 -1.208727  1.324247  \n",
      "3  1.077737 -0.752922 -1.106115  0.113032  0.416163 -1.361517  1.182758  \n",
      "4  1.077737 -0.752922 -1.106115  0.113032  0.441052 -1.026501  1.487503  \n"
     ]
    }
   ],
   "source": [
    "X,Y = bostonDataset.boston_data()"
   ]
  },
  {
   "cell_type": "code",
   "execution_count": 7,
   "id": "fe007438",
   "metadata": {
    "execution": {
     "iopub.execute_input": "2022-06-12T06:49:56.549845Z",
     "iopub.status.busy": "2022-06-12T06:49:56.548334Z",
     "iopub.status.idle": "2022-06-12T06:49:56.552561Z",
     "shell.execute_reply": "2022-06-12T06:49:56.554210Z"
    },
    "id": "fe007438",
    "papermill": {
     "duration": 0.023593,
     "end_time": "2022-06-12T06:49:56.554649",
     "exception": false,
     "start_time": "2022-06-12T06:49:56.531056",
     "status": "completed"
    },
    "tags": []
   },
   "outputs": [],
   "source": [
    "#Train test split for dataset \n",
    "X_train,X_test,Y_train,Y_test = train_test_split(X,Y,test_size = 0.2)\n",
    "train_data = dataset.CustomDataset(X_train,Y_train)\n",
    "test_data = dataset.CustomDataset(X_test,Y_test)\n"
   ]
  },
  {
   "cell_type": "markdown",
   "id": "a9a1af34",
   "metadata": {
    "id": "a9a1af34",
    "papermill": {
     "duration": 0.026188,
     "end_time": "2022-06-12T06:49:56.590479",
     "exception": false,
     "start_time": "2022-06-12T06:49:56.564291",
     "status": "completed"
    },
    "tags": []
   },
   "source": [
    "## Training Parameters "
   ]
  },
  {
   "cell_type": "code",
   "execution_count": 8,
   "id": "952b7fc8",
   "metadata": {
    "execution": {
     "iopub.execute_input": "2022-06-12T06:49:56.618749Z",
     "iopub.status.busy": "2022-06-12T06:49:56.617569Z",
     "iopub.status.idle": "2022-06-12T06:49:56.620758Z",
     "shell.execute_reply": "2022-06-12T06:49:56.620297Z"
    },
    "id": "952b7fc8",
    "papermill": {
     "duration": 0.015434,
     "end_time": "2022-06-12T06:49:56.620886",
     "exception": false,
     "start_time": "2022-06-12T06:49:56.605452",
     "status": "completed"
    },
    "tags": []
   },
   "outputs": [],
   "source": [
    "batch_size = 32\n",
    "n_epochs = 1000\n",
    "#Select the device \n",
    "device = torch.device('cuda' if torch.cuda.is_available() else 'cpu')"
   ]
  },
  {
   "cell_type": "markdown",
   "id": "a95e1600",
   "metadata": {
    "id": "a95e1600",
    "papermill": {
     "duration": 0.007872,
     "end_time": "2022-06-12T06:49:56.636587",
     "exception": false,
     "start_time": "2022-06-12T06:49:56.628715",
     "status": "completed"
    },
    "tags": []
   },
   "source": [
    "# ABC Pre-generator Model \n",
    "\n",
    "1. The catboost model is used as a pre-generator model for the ABC-GAN. \n",
    "2. The model is first trained on the entire dataset \n",
    "3. It generats X,Y pairs and we add some Gaussian noise with mean 0 and variance 1 to it which is then feed as input to the generator.\n"
   ]
  },
  {
   "cell_type": "code",
   "execution_count": 9,
   "id": "ff8ce7bd",
   "metadata": {
    "execution": {
     "iopub.execute_input": "2022-06-12T06:49:56.687096Z",
     "iopub.status.busy": "2022-06-12T06:49:56.684636Z",
     "iopub.status.idle": "2022-06-12T06:49:58.156284Z",
     "shell.execute_reply": "2022-06-12T06:49:58.156583Z"
    },
    "id": "ff8ce7bd",
    "papermill": {
     "duration": 1.511752,
     "end_time": "2022-06-12T06:49:58.156710",
     "exception": false,
     "start_time": "2022-06-12T06:49:56.644958",
     "status": "completed"
    },
    "tags": []
   },
   "outputs": [
    {
     "name": "stdout",
     "output_type": "stream",
     "text": [
      "Learning rate set to 0.033215\n"
     ]
    },
    {
     "name": "stdout",
     "output_type": "stream",
     "text": [
      "0:\tlearn: 0.9760819\ttotal: 57.4ms\tremaining: 57.4s\n",
      "1:\tlearn: 0.9556319\ttotal: 59.3ms\tremaining: 29.6s\n",
      "2:\tlearn: 0.9363391\ttotal: 61.2ms\tremaining: 20.3s\n",
      "3:\tlearn: 0.9189689\ttotal: 62.7ms\tremaining: 15.6s\n",
      "4:\tlearn: 0.9011192\ttotal: 64.1ms\tremaining: 12.8s\n",
      "5:\tlearn: 0.8839071\ttotal: 67ms\tremaining: 11.1s\n",
      "6:\tlearn: 0.8680983\ttotal: 70.7ms\tremaining: 10s\n",
      "7:\tlearn: 0.8525358\ttotal: 73.5ms\tremaining: 9.11s\n",
      "8:\tlearn: 0.8377322\ttotal: 74.8ms\tremaining: 8.24s\n",
      "9:\tlearn: 0.8221123\ttotal: 75.9ms\tremaining: 7.52s\n",
      "10:\tlearn: 0.8084620\ttotal: 77.4ms\tremaining: 6.96s\n",
      "11:\tlearn: 0.7931709\ttotal: 79.4ms\tremaining: 6.54s\n",
      "12:\tlearn: 0.7785119\ttotal: 81.1ms\tremaining: 6.15s\n",
      "13:\tlearn: 0.7646266\ttotal: 82.3ms\tremaining: 5.8s\n",
      "14:\tlearn: 0.7533493\ttotal: 83.6ms\tremaining: 5.49s\n",
      "15:\tlearn: 0.7393408\ttotal: 84.7ms\tremaining: 5.21s\n",
      "16:\tlearn: 0.7267131\ttotal: 85.9ms\tremaining: 4.97s\n",
      "17:\tlearn: 0.7139737\ttotal: 87.3ms\tremaining: 4.76s\n",
      "18:\tlearn: 0.7022073\ttotal: 88.5ms\tremaining: 4.57s\n",
      "19:\tlearn: 0.6887366\ttotal: 89.7ms\tremaining: 4.4s\n",
      "20:\tlearn: 0.6754806\ttotal: 92ms\tremaining: 4.29s\n",
      "21:\tlearn: 0.6648651\ttotal: 93.4ms\tremaining: 4.15s\n",
      "22:\tlearn: 0.6545840\ttotal: 94.6ms\tremaining: 4.02s\n",
      "23:\tlearn: 0.6459252\ttotal: 96.1ms\tremaining: 3.91s\n",
      "24:\tlearn: 0.6369066\ttotal: 98.3ms\tremaining: 3.83s\n",
      "25:\tlearn: 0.6276638\ttotal: 99.4ms\tremaining: 3.72s\n",
      "26:\tlearn: 0.6186847\ttotal: 100ms\tremaining: 3.62s\n",
      "27:\tlearn: 0.6096116\ttotal: 102ms\tremaining: 3.53s\n",
      "28:\tlearn: 0.5992030\ttotal: 103ms\tremaining: 3.44s\n",
      "29:\tlearn: 0.5887308\ttotal: 108ms\tremaining: 3.48s\n",
      "30:\tlearn: 0.5786348\ttotal: 109ms\tremaining: 3.42s\n",
      "31:\tlearn: 0.5708483\ttotal: 111ms\tremaining: 3.36s\n",
      "32:\tlearn: 0.5635651\ttotal: 113ms\tremaining: 3.3s\n",
      "33:\tlearn: 0.5554481\ttotal: 114ms\tremaining: 3.23s\n",
      "34:\tlearn: 0.5486868\ttotal: 115ms\tremaining: 3.17s\n",
      "35:\tlearn: 0.5410580\ttotal: 117ms\tremaining: 3.13s\n",
      "36:\tlearn: 0.5346848\ttotal: 118ms\tremaining: 3.06s\n",
      "37:\tlearn: 0.5277925\ttotal: 119ms\tremaining: 3s\n",
      "38:\tlearn: 0.5200208\ttotal: 120ms\tremaining: 2.97s\n",
      "39:\tlearn: 0.5130603\ttotal: 122ms\tremaining: 2.93s\n",
      "40:\tlearn: 0.5066630\ttotal: 124ms\tremaining: 2.89s\n",
      "41:\tlearn: 0.4994534\ttotal: 126ms\tremaining: 2.86s\n",
      "42:\tlearn: 0.4933988\ttotal: 127ms\tremaining: 2.83s\n",
      "43:\tlearn: 0.4875766\ttotal: 129ms\tremaining: 2.79s\n",
      "44:\tlearn: 0.4823370\ttotal: 130ms\tremaining: 2.76s\n",
      "45:\tlearn: 0.4757008\ttotal: 131ms\tremaining: 2.72s\n",
      "46:\tlearn: 0.4703279\ttotal: 132ms\tremaining: 2.68s\n",
      "47:\tlearn: 0.4648062\ttotal: 133ms\tremaining: 2.65s\n",
      "48:\tlearn: 0.4597260\ttotal: 134ms\tremaining: 2.61s\n",
      "49:\tlearn: 0.4554270\ttotal: 135ms\tremaining: 2.57s\n",
      "50:\tlearn: 0.4498312\ttotal: 136ms\tremaining: 2.53s\n",
      "51:\tlearn: 0.4444609\ttotal: 137ms\tremaining: 2.5s\n",
      "52:\tlearn: 0.4400873\ttotal: 138ms\tremaining: 2.47s\n",
      "53:\tlearn: 0.4358919\ttotal: 139ms\tremaining: 2.44s\n",
      "54:\tlearn: 0.4314202\ttotal: 141ms\tremaining: 2.42s\n",
      "55:\tlearn: 0.4269665\ttotal: 142ms\tremaining: 2.39s\n",
      "56:\tlearn: 0.4227919\ttotal: 145ms\tremaining: 2.4s\n",
      "57:\tlearn: 0.4184897\ttotal: 146ms\tremaining: 2.38s\n",
      "58:\tlearn: 0.4145601\ttotal: 148ms\tremaining: 2.36s\n",
      "59:\tlearn: 0.4110336\ttotal: 149ms\tremaining: 2.34s\n",
      "60:\tlearn: 0.4077607\ttotal: 151ms\tremaining: 2.32s\n",
      "61:\tlearn: 0.4039601\ttotal: 152ms\tremaining: 2.29s\n",
      "62:\tlearn: 0.3990179\ttotal: 153ms\tremaining: 2.27s\n",
      "63:\tlearn: 0.3944679\ttotal: 154ms\tremaining: 2.25s\n",
      "64:\tlearn: 0.3908026\ttotal: 155ms\tremaining: 2.23s\n",
      "65:\tlearn: 0.3866374\ttotal: 157ms\tremaining: 2.22s\n",
      "66:\tlearn: 0.3831232\ttotal: 159ms\tremaining: 2.21s\n",
      "67:\tlearn: 0.3804315\ttotal: 160ms\tremaining: 2.19s\n",
      "68:\tlearn: 0.3774001\ttotal: 161ms\tremaining: 2.18s\n",
      "69:\tlearn: 0.3747231\ttotal: 162ms\tremaining: 2.16s\n",
      "70:\tlearn: 0.3711857\ttotal: 163ms\tremaining: 2.14s\n",
      "71:\tlearn: 0.3681353\ttotal: 165ms\tremaining: 2.12s\n",
      "72:\tlearn: 0.3652343\ttotal: 166ms\tremaining: 2.1s\n",
      "73:\tlearn: 0.3624739\ttotal: 167ms\tremaining: 2.08s\n",
      "74:\tlearn: 0.3593271\ttotal: 168ms\tremaining: 2.07s\n",
      "75:\tlearn: 0.3567739\ttotal: 170ms\tremaining: 2.07s\n",
      "76:\tlearn: 0.3546144\ttotal: 171ms\tremaining: 2.05s\n",
      "77:\tlearn: 0.3518037\ttotal: 172ms\tremaining: 2.04s\n",
      "78:\tlearn: 0.3490178\ttotal: 173ms\tremaining: 2.02s\n",
      "79:\tlearn: 0.3466166\ttotal: 174ms\tremaining: 2s\n",
      "80:\tlearn: 0.3444873\ttotal: 176ms\tremaining: 1.99s\n",
      "81:\tlearn: 0.3422462\ttotal: 177ms\tremaining: 1.98s\n",
      "82:\tlearn: 0.3400268\ttotal: 178ms\tremaining: 1.97s\n",
      "83:\tlearn: 0.3377304\ttotal: 179ms\tremaining: 1.96s\n",
      "84:\tlearn: 0.3350322\ttotal: 181ms\tremaining: 1.94s\n",
      "85:\tlearn: 0.3327013\ttotal: 182ms\tremaining: 1.93s\n",
      "86:\tlearn: 0.3295279\ttotal: 183ms\tremaining: 1.92s\n",
      "87:\tlearn: 0.3271128\ttotal: 185ms\tremaining: 1.91s\n"
     ]
    },
    {
     "name": "stdout",
     "output_type": "stream",
     "text": [
      "88:\tlearn: 0.3253155\ttotal: 186ms\tremaining: 1.9s\n",
      "89:\tlearn: 0.3231855\ttotal: 187ms\tremaining: 1.89s\n",
      "90:\tlearn: 0.3207076\ttotal: 189ms\tremaining: 1.89s\n",
      "91:\tlearn: 0.3184392\ttotal: 192ms\tremaining: 1.9s\n",
      "92:\tlearn: 0.3167268\ttotal: 194ms\tremaining: 1.89s\n",
      "93:\tlearn: 0.3146695\ttotal: 195ms\tremaining: 1.88s\n",
      "94:\tlearn: 0.3127452\ttotal: 197ms\tremaining: 1.87s\n",
      "95:\tlearn: 0.3108372\ttotal: 199ms\tremaining: 1.87s\n",
      "96:\tlearn: 0.3093477\ttotal: 203ms\tremaining: 1.89s\n",
      "97:\tlearn: 0.3074630\ttotal: 204ms\tremaining: 1.88s\n",
      "98:\tlearn: 0.3057798\ttotal: 206ms\tremaining: 1.87s\n",
      "99:\tlearn: 0.3044028\ttotal: 207ms\tremaining: 1.86s\n",
      "100:\tlearn: 0.3029224\ttotal: 209ms\tremaining: 1.86s\n",
      "101:\tlearn: 0.3012405\ttotal: 210ms\tremaining: 1.85s\n",
      "102:\tlearn: 0.2999062\ttotal: 214ms\tremaining: 1.86s\n"
     ]
    },
    {
     "name": "stdout",
     "output_type": "stream",
     "text": [
      "103:\tlearn: 0.2987002\ttotal: 221ms\tremaining: 1.91s\n",
      "104:\tlearn: 0.2971582\ttotal: 223ms\tremaining: 1.9s\n",
      "105:\tlearn: 0.2956961\ttotal: 225ms\tremaining: 1.89s\n",
      "106:\tlearn: 0.2940633\ttotal: 226ms\tremaining: 1.89s\n",
      "107:\tlearn: 0.2923837\ttotal: 227ms\tremaining: 1.88s\n",
      "108:\tlearn: 0.2909044\ttotal: 229ms\tremaining: 1.87s\n",
      "109:\tlearn: 0.2895405\ttotal: 230ms\tremaining: 1.86s\n",
      "110:\tlearn: 0.2883017\ttotal: 231ms\tremaining: 1.85s\n",
      "111:\tlearn: 0.2870896\ttotal: 234ms\tremaining: 1.86s\n",
      "112:\tlearn: 0.2855870\ttotal: 236ms\tremaining: 1.85s\n",
      "113:\tlearn: 0.2843818\ttotal: 237ms\tremaining: 1.84s\n",
      "114:\tlearn: 0.2831408\ttotal: 238ms\tremaining: 1.83s\n",
      "115:\tlearn: 0.2818952\ttotal: 240ms\tremaining: 1.82s\n",
      "116:\tlearn: 0.2806713\ttotal: 241ms\tremaining: 1.82s\n",
      "117:\tlearn: 0.2792206\ttotal: 243ms\tremaining: 1.81s\n",
      "118:\tlearn: 0.2778585\ttotal: 244ms\tremaining: 1.8s\n",
      "119:\tlearn: 0.2770197\ttotal: 245ms\tremaining: 1.79s\n",
      "120:\tlearn: 0.2756417\ttotal: 246ms\tremaining: 1.79s\n",
      "121:\tlearn: 0.2744977\ttotal: 247ms\tremaining: 1.78s\n",
      "122:\tlearn: 0.2734563\ttotal: 249ms\tremaining: 1.77s\n",
      "123:\tlearn: 0.2724830\ttotal: 250ms\tremaining: 1.76s\n",
      "124:\tlearn: 0.2715925\ttotal: 251ms\tremaining: 1.75s\n",
      "125:\tlearn: 0.2702655\ttotal: 252ms\tremaining: 1.75s\n",
      "126:\tlearn: 0.2692053\ttotal: 253ms\tremaining: 1.74s\n",
      "127:\tlearn: 0.2677852\ttotal: 254ms\tremaining: 1.73s\n",
      "128:\tlearn: 0.2666419\ttotal: 255ms\tremaining: 1.72s\n",
      "129:\tlearn: 0.2655054\ttotal: 256ms\tremaining: 1.71s\n",
      "130:\tlearn: 0.2644536\ttotal: 257ms\tremaining: 1.71s\n",
      "131:\tlearn: 0.2633391\ttotal: 258ms\tremaining: 1.7s\n",
      "132:\tlearn: 0.2623982\ttotal: 259ms\tremaining: 1.69s\n",
      "133:\tlearn: 0.2613911\ttotal: 260ms\tremaining: 1.68s\n",
      "134:\tlearn: 0.2604076\ttotal: 262ms\tremaining: 1.68s\n",
      "135:\tlearn: 0.2594994\ttotal: 265ms\tremaining: 1.68s\n",
      "136:\tlearn: 0.2581693\ttotal: 266ms\tremaining: 1.68s\n",
      "137:\tlearn: 0.2571146\ttotal: 269ms\tremaining: 1.68s\n",
      "138:\tlearn: 0.2562279\ttotal: 271ms\tremaining: 1.68s\n",
      "139:\tlearn: 0.2553441\ttotal: 272ms\tremaining: 1.67s\n",
      "140:\tlearn: 0.2545003\ttotal: 273ms\tremaining: 1.67s\n",
      "141:\tlearn: 0.2536783\ttotal: 274ms\tremaining: 1.66s\n",
      "142:\tlearn: 0.2530348\ttotal: 275ms\tremaining: 1.65s\n",
      "143:\tlearn: 0.2518450\ttotal: 276ms\tremaining: 1.64s\n",
      "144:\tlearn: 0.2506441\ttotal: 278ms\tremaining: 1.64s\n",
      "145:\tlearn: 0.2498564\ttotal: 283ms\tremaining: 1.66s\n",
      "146:\tlearn: 0.2490926\ttotal: 285ms\tremaining: 1.65s\n",
      "147:\tlearn: 0.2481263\ttotal: 286ms\tremaining: 1.65s\n",
      "148:\tlearn: 0.2472325\ttotal: 287ms\tremaining: 1.64s\n",
      "149:\tlearn: 0.2467062\ttotal: 288ms\tremaining: 1.63s\n",
      "150:\tlearn: 0.2458658\ttotal: 289ms\tremaining: 1.63s\n",
      "151:\tlearn: 0.2451915\ttotal: 291ms\tremaining: 1.62s\n",
      "152:\tlearn: 0.2445329\ttotal: 292ms\tremaining: 1.62s\n",
      "153:\tlearn: 0.2441883\ttotal: 294ms\tremaining: 1.61s\n",
      "154:\tlearn: 0.2434679\ttotal: 296ms\tremaining: 1.61s\n",
      "155:\tlearn: 0.2426629\ttotal: 298ms\tremaining: 1.61s\n",
      "156:\tlearn: 0.2419583\ttotal: 300ms\tremaining: 1.61s\n",
      "157:\tlearn: 0.2411724\ttotal: 301ms\tremaining: 1.6s\n",
      "158:\tlearn: 0.2403110\ttotal: 302ms\tremaining: 1.6s\n",
      "159:\tlearn: 0.2395464\ttotal: 303ms\tremaining: 1.59s\n",
      "160:\tlearn: 0.2388453\ttotal: 305ms\tremaining: 1.59s\n",
      "161:\tlearn: 0.2379576\ttotal: 307ms\tremaining: 1.58s\n",
      "162:\tlearn: 0.2374684\ttotal: 309ms\tremaining: 1.59s\n",
      "163:\tlearn: 0.2366846\ttotal: 310ms\tremaining: 1.58s\n",
      "164:\tlearn: 0.2360340\ttotal: 311ms\tremaining: 1.58s\n",
      "165:\tlearn: 0.2351803\ttotal: 313ms\tremaining: 1.57s\n",
      "166:\tlearn: 0.2346815\ttotal: 314ms\tremaining: 1.56s\n",
      "167:\tlearn: 0.2335823\ttotal: 316ms\tremaining: 1.57s\n",
      "168:\tlearn: 0.2329379\ttotal: 319ms\tremaining: 1.57s\n",
      "169:\tlearn: 0.2324185\ttotal: 321ms\tremaining: 1.57s\n",
      "170:\tlearn: 0.2317058\ttotal: 324ms\tremaining: 1.57s\n",
      "171:\tlearn: 0.2310857\ttotal: 326ms\tremaining: 1.57s\n",
      "172:\tlearn: 0.2303183\ttotal: 339ms\tremaining: 1.62s\n"
     ]
    },
    {
     "name": "stdout",
     "output_type": "stream",
     "text": [
      "173:\tlearn: 0.2297352\ttotal: 343ms\tremaining: 1.63s\n",
      "174:\tlearn: 0.2291869\ttotal: 344ms\tremaining: 1.62s\n",
      "175:\tlearn: 0.2286423\ttotal: 345ms\tremaining: 1.62s\n",
      "176:\tlearn: 0.2278757\ttotal: 350ms\tremaining: 1.63s\n",
      "177:\tlearn: 0.2269301\ttotal: 351ms\tremaining: 1.62s\n",
      "178:\tlearn: 0.2263420\ttotal: 352ms\tremaining: 1.61s\n",
      "179:\tlearn: 0.2255004\ttotal: 353ms\tremaining: 1.61s\n",
      "180:\tlearn: 0.2244912\ttotal: 355ms\tremaining: 1.61s\n",
      "181:\tlearn: 0.2235059\ttotal: 356ms\tremaining: 1.6s\n",
      "182:\tlearn: 0.2230648\ttotal: 357ms\tremaining: 1.59s\n",
      "183:\tlearn: 0.2220993\ttotal: 358ms\tremaining: 1.59s\n",
      "184:\tlearn: 0.2214355\ttotal: 360ms\tremaining: 1.58s\n",
      "185:\tlearn: 0.2206062\ttotal: 361ms\tremaining: 1.58s\n",
      "186:\tlearn: 0.2198260\ttotal: 362ms\tremaining: 1.57s\n",
      "187:\tlearn: 0.2190859\ttotal: 363ms\tremaining: 1.57s\n",
      "188:\tlearn: 0.2186483\ttotal: 364ms\tremaining: 1.56s\n",
      "189:\tlearn: 0.2180544\ttotal: 365ms\tremaining: 1.56s\n",
      "190:\tlearn: 0.2173736\ttotal: 366ms\tremaining: 1.55s\n",
      "191:\tlearn: 0.2166759\ttotal: 367ms\tremaining: 1.54s\n",
      "192:\tlearn: 0.2161419\ttotal: 368ms\tremaining: 1.54s\n",
      "193:\tlearn: 0.2154911\ttotal: 370ms\tremaining: 1.54s\n",
      "194:\tlearn: 0.2149491\ttotal: 372ms\tremaining: 1.53s\n",
      "195:\tlearn: 0.2143070\ttotal: 373ms\tremaining: 1.53s\n",
      "196:\tlearn: 0.2138730\ttotal: 374ms\tremaining: 1.52s\n",
      "197:\tlearn: 0.2132152\ttotal: 375ms\tremaining: 1.52s\n",
      "198:\tlearn: 0.2126965\ttotal: 376ms\tremaining: 1.51s\n",
      "199:\tlearn: 0.2122413\ttotal: 377ms\tremaining: 1.51s\n",
      "200:\tlearn: 0.2117499\ttotal: 378ms\tremaining: 1.5s\n",
      "201:\tlearn: 0.2110792\ttotal: 379ms\tremaining: 1.5s\n",
      "202:\tlearn: 0.2106257\ttotal: 381ms\tremaining: 1.49s\n",
      "203:\tlearn: 0.2099466\ttotal: 382ms\tremaining: 1.49s\n",
      "204:\tlearn: 0.2094434\ttotal: 383ms\tremaining: 1.48s\n",
      "205:\tlearn: 0.2089300\ttotal: 384ms\tremaining: 1.48s\n",
      "206:\tlearn: 0.2084186\ttotal: 385ms\tremaining: 1.48s\n",
      "207:\tlearn: 0.2081154\ttotal: 387ms\tremaining: 1.47s\n",
      "208:\tlearn: 0.2074921\ttotal: 388ms\tremaining: 1.47s\n",
      "209:\tlearn: 0.2070168\ttotal: 389ms\tremaining: 1.46s\n"
     ]
    },
    {
     "name": "stdout",
     "output_type": "stream",
     "text": [
      "210:\tlearn: 0.2061153\ttotal: 390ms\tremaining: 1.46s\n",
      "211:\tlearn: 0.2055826\ttotal: 392ms\tremaining: 1.46s\n",
      "212:\tlearn: 0.2047996\ttotal: 393ms\tremaining: 1.45s\n",
      "213:\tlearn: 0.2042015\ttotal: 394ms\tremaining: 1.45s\n",
      "214:\tlearn: 0.2039347\ttotal: 396ms\tremaining: 1.45s\n",
      "215:\tlearn: 0.2034977\ttotal: 398ms\tremaining: 1.44s\n",
      "216:\tlearn: 0.2028133\ttotal: 399ms\tremaining: 1.44s\n",
      "217:\tlearn: 0.2023706\ttotal: 400ms\tremaining: 1.43s\n",
      "218:\tlearn: 0.2018773\ttotal: 401ms\tremaining: 1.43s\n",
      "219:\tlearn: 0.2015511\ttotal: 403ms\tremaining: 1.43s\n",
      "220:\tlearn: 0.2008995\ttotal: 404ms\tremaining: 1.42s\n",
      "221:\tlearn: 0.2002661\ttotal: 405ms\tremaining: 1.42s\n",
      "222:\tlearn: 0.1996394\ttotal: 408ms\tremaining: 1.42s\n",
      "223:\tlearn: 0.1991758\ttotal: 410ms\tremaining: 1.42s\n",
      "224:\tlearn: 0.1986536\ttotal: 411ms\tremaining: 1.42s\n",
      "225:\tlearn: 0.1981722\ttotal: 414ms\tremaining: 1.42s\n",
      "226:\tlearn: 0.1975715\ttotal: 415ms\tremaining: 1.41s\n",
      "227:\tlearn: 0.1971488\ttotal: 418ms\tremaining: 1.41s\n",
      "228:\tlearn: 0.1966720\ttotal: 419ms\tremaining: 1.41s\n",
      "229:\tlearn: 0.1962763\ttotal: 420ms\tremaining: 1.41s\n",
      "230:\tlearn: 0.1959700\ttotal: 427ms\tremaining: 1.42s\n",
      "231:\tlearn: 0.1954804\ttotal: 428ms\tremaining: 1.42s\n",
      "232:\tlearn: 0.1947871\ttotal: 429ms\tremaining: 1.41s\n",
      "233:\tlearn: 0.1942706\ttotal: 430ms\tremaining: 1.41s\n",
      "234:\tlearn: 0.1939752\ttotal: 431ms\tremaining: 1.4s\n",
      "235:\tlearn: 0.1932655\ttotal: 433ms\tremaining: 1.4s\n",
      "236:\tlearn: 0.1927821\ttotal: 435ms\tremaining: 1.4s\n",
      "237:\tlearn: 0.1924476\ttotal: 436ms\tremaining: 1.4s\n",
      "238:\tlearn: 0.1918942\ttotal: 437ms\tremaining: 1.39s\n",
      "239:\tlearn: 0.1914719\ttotal: 438ms\tremaining: 1.39s\n",
      "240:\tlearn: 0.1911291\ttotal: 439ms\tremaining: 1.38s\n",
      "241:\tlearn: 0.1907301\ttotal: 441ms\tremaining: 1.38s\n",
      "242:\tlearn: 0.1903222\ttotal: 441ms\tremaining: 1.38s\n",
      "243:\tlearn: 0.1899330\ttotal: 443ms\tremaining: 1.37s\n",
      "244:\tlearn: 0.1895218\ttotal: 444ms\tremaining: 1.37s\n",
      "245:\tlearn: 0.1888854\ttotal: 445ms\tremaining: 1.36s\n",
      "246:\tlearn: 0.1884614\ttotal: 445ms\tremaining: 1.36s\n",
      "247:\tlearn: 0.1880410\ttotal: 447ms\tremaining: 1.35s\n",
      "248:\tlearn: 0.1877318\ttotal: 448ms\tremaining: 1.35s\n",
      "249:\tlearn: 0.1874025\ttotal: 449ms\tremaining: 1.35s\n",
      "250:\tlearn: 0.1867278\ttotal: 450ms\tremaining: 1.34s\n",
      "251:\tlearn: 0.1864743\ttotal: 452ms\tremaining: 1.34s\n",
      "252:\tlearn: 0.1860405\ttotal: 453ms\tremaining: 1.34s\n",
      "253:\tlearn: 0.1854741\ttotal: 456ms\tremaining: 1.34s\n",
      "254:\tlearn: 0.1851162\ttotal: 458ms\tremaining: 1.34s\n",
      "255:\tlearn: 0.1845363\ttotal: 459ms\tremaining: 1.33s\n",
      "256:\tlearn: 0.1840097\ttotal: 460ms\tremaining: 1.33s\n",
      "257:\tlearn: 0.1836881\ttotal: 461ms\tremaining: 1.33s\n",
      "258:\tlearn: 0.1831358\ttotal: 463ms\tremaining: 1.32s\n",
      "259:\tlearn: 0.1826627\ttotal: 465ms\tremaining: 1.32s\n",
      "260:\tlearn: 0.1822324\ttotal: 466ms\tremaining: 1.32s\n",
      "261:\tlearn: 0.1816694\ttotal: 468ms\tremaining: 1.32s\n",
      "262:\tlearn: 0.1815251\ttotal: 469ms\tremaining: 1.31s\n",
      "263:\tlearn: 0.1810914\ttotal: 470ms\tremaining: 1.31s\n",
      "264:\tlearn: 0.1804143\ttotal: 471ms\tremaining: 1.31s\n",
      "265:\tlearn: 0.1802189\ttotal: 473ms\tremaining: 1.3s\n",
      "266:\tlearn: 0.1800166\ttotal: 474ms\tremaining: 1.3s\n",
      "267:\tlearn: 0.1796786\ttotal: 475ms\tremaining: 1.3s\n",
      "268:\tlearn: 0.1790714\ttotal: 476ms\tremaining: 1.29s\n",
      "269:\tlearn: 0.1786058\ttotal: 477ms\tremaining: 1.29s\n",
      "270:\tlearn: 0.1784791\ttotal: 478ms\tremaining: 1.28s\n",
      "271:\tlearn: 0.1780315\ttotal: 479ms\tremaining: 1.28s\n",
      "272:\tlearn: 0.1775751\ttotal: 482ms\tremaining: 1.28s\n",
      "273:\tlearn: 0.1773809\ttotal: 484ms\tremaining: 1.28s\n",
      "274:\tlearn: 0.1769823\ttotal: 487ms\tremaining: 1.28s\n",
      "275:\tlearn: 0.1764031\ttotal: 491ms\tremaining: 1.29s\n",
      "276:\tlearn: 0.1762839\ttotal: 492ms\tremaining: 1.28s\n",
      "277:\tlearn: 0.1758541\ttotal: 494ms\tremaining: 1.28s\n",
      "278:\tlearn: 0.1752839\ttotal: 496ms\tremaining: 1.28s\n",
      "279:\tlearn: 0.1745406\ttotal: 497ms\tremaining: 1.28s\n",
      "280:\tlearn: 0.1744141\ttotal: 499ms\tremaining: 1.28s\n",
      "281:\tlearn: 0.1739598\ttotal: 501ms\tremaining: 1.28s\n",
      "282:\tlearn: 0.1736411\ttotal: 503ms\tremaining: 1.27s\n",
      "283:\tlearn: 0.1735142\ttotal: 504ms\tremaining: 1.27s\n",
      "284:\tlearn: 0.1731221\ttotal: 505ms\tremaining: 1.27s\n",
      "285:\tlearn: 0.1727196\ttotal: 506ms\tremaining: 1.26s\n",
      "286:\tlearn: 0.1724073\ttotal: 508ms\tremaining: 1.26s\n",
      "287:\tlearn: 0.1720420\ttotal: 509ms\tremaining: 1.26s\n",
      "288:\tlearn: 0.1718470\ttotal: 510ms\tremaining: 1.25s\n",
      "289:\tlearn: 0.1717359\ttotal: 511ms\tremaining: 1.25s\n",
      "290:\tlearn: 0.1712671\ttotal: 512ms\tremaining: 1.25s\n",
      "291:\tlearn: 0.1708759\ttotal: 514ms\tremaining: 1.25s\n",
      "292:\tlearn: 0.1707764\ttotal: 515ms\tremaining: 1.24s\n",
      "293:\tlearn: 0.1704448\ttotal: 516ms\tremaining: 1.24s\n",
      "294:\tlearn: 0.1700801\ttotal: 517ms\tremaining: 1.24s\n",
      "295:\tlearn: 0.1698991\ttotal: 518ms\tremaining: 1.23s\n",
      "296:\tlearn: 0.1695848\ttotal: 519ms\tremaining: 1.23s\n",
      "297:\tlearn: 0.1692393\ttotal: 521ms\tremaining: 1.23s\n",
      "298:\tlearn: 0.1688972\ttotal: 522ms\tremaining: 1.22s\n",
      "299:\tlearn: 0.1685692\ttotal: 523ms\tremaining: 1.22s\n",
      "300:\tlearn: 0.1683493\ttotal: 524ms\tremaining: 1.22s\n",
      "301:\tlearn: 0.1679482\ttotal: 526ms\tremaining: 1.22s\n",
      "302:\tlearn: 0.1678525\ttotal: 527ms\tremaining: 1.21s\n",
      "303:\tlearn: 0.1674169\ttotal: 528ms\tremaining: 1.21s\n"
     ]
    },
    {
     "name": "stdout",
     "output_type": "stream",
     "text": [
      "304:\tlearn: 0.1672009\ttotal: 530ms\tremaining: 1.21s\n",
      "305:\tlearn: 0.1668021\ttotal: 531ms\tremaining: 1.2s\n",
      "306:\tlearn: 0.1666301\ttotal: 533ms\tremaining: 1.2s\n",
      "307:\tlearn: 0.1662428\ttotal: 534ms\tremaining: 1.2s\n",
      "308:\tlearn: 0.1658868\ttotal: 535ms\tremaining: 1.2s\n",
      "309:\tlearn: 0.1655189\ttotal: 536ms\tremaining: 1.19s\n",
      "310:\tlearn: 0.1653852\ttotal: 537ms\tremaining: 1.19s\n",
      "311:\tlearn: 0.1650251\ttotal: 538ms\tremaining: 1.19s\n",
      "312:\tlearn: 0.1647571\ttotal: 540ms\tremaining: 1.18s\n",
      "313:\tlearn: 0.1645242\ttotal: 541ms\tremaining: 1.18s\n",
      "314:\tlearn: 0.1641502\ttotal: 542ms\tremaining: 1.18s\n",
      "315:\tlearn: 0.1640712\ttotal: 544ms\tremaining: 1.18s\n",
      "316:\tlearn: 0.1638199\ttotal: 545ms\tremaining: 1.17s\n",
      "317:\tlearn: 0.1634867\ttotal: 546ms\tremaining: 1.17s\n",
      "318:\tlearn: 0.1632248\ttotal: 547ms\tremaining: 1.17s\n",
      "319:\tlearn: 0.1629001\ttotal: 548ms\tremaining: 1.17s\n",
      "320:\tlearn: 0.1623672\ttotal: 550ms\tremaining: 1.16s\n",
      "321:\tlearn: 0.1620220\ttotal: 551ms\tremaining: 1.16s\n",
      "322:\tlearn: 0.1616093\ttotal: 552ms\tremaining: 1.16s\n",
      "323:\tlearn: 0.1613773\ttotal: 553ms\tremaining: 1.15s\n",
      "324:\tlearn: 0.1610604\ttotal: 554ms\tremaining: 1.15s\n",
      "325:\tlearn: 0.1609401\ttotal: 555ms\tremaining: 1.15s\n",
      "326:\tlearn: 0.1605154\ttotal: 557ms\tremaining: 1.15s\n",
      "327:\tlearn: 0.1601209\ttotal: 558ms\tremaining: 1.14s\n",
      "328:\tlearn: 0.1598972\ttotal: 559ms\tremaining: 1.14s\n",
      "329:\tlearn: 0.1596294\ttotal: 560ms\tremaining: 1.14s\n",
      "330:\tlearn: 0.1595523\ttotal: 562ms\tremaining: 1.14s\n",
      "331:\tlearn: 0.1591984\ttotal: 563ms\tremaining: 1.13s\n",
      "332:\tlearn: 0.1590438\ttotal: 564ms\tremaining: 1.13s\n",
      "333:\tlearn: 0.1587028\ttotal: 565ms\tremaining: 1.13s\n",
      "334:\tlearn: 0.1585290\ttotal: 566ms\tremaining: 1.12s\n",
      "335:\tlearn: 0.1583163\ttotal: 567ms\tremaining: 1.12s\n",
      "336:\tlearn: 0.1577954\ttotal: 568ms\tremaining: 1.12s\n",
      "337:\tlearn: 0.1577278\ttotal: 570ms\tremaining: 1.11s\n",
      "338:\tlearn: 0.1575954\ttotal: 571ms\tremaining: 1.11s\n",
      "339:\tlearn: 0.1571648\ttotal: 572ms\tremaining: 1.11s\n",
      "340:\tlearn: 0.1569122\ttotal: 574ms\tremaining: 1.11s\n",
      "341:\tlearn: 0.1567726\ttotal: 575ms\tremaining: 1.11s\n",
      "342:\tlearn: 0.1564979\ttotal: 576ms\tremaining: 1.1s\n"
     ]
    },
    {
     "name": "stdout",
     "output_type": "stream",
     "text": [
      "343:\tlearn: 0.1563079\ttotal: 578ms\tremaining: 1.1s\n",
      "344:\tlearn: 0.1558504\ttotal: 579ms\tremaining: 1.1s\n",
      "345:\tlearn: 0.1557385\ttotal: 580ms\tremaining: 1.1s\n",
      "346:\tlearn: 0.1551178\ttotal: 581ms\tremaining: 1.09s\n",
      "347:\tlearn: 0.1548856\ttotal: 583ms\tremaining: 1.09s\n",
      "348:\tlearn: 0.1546919\ttotal: 584ms\tremaining: 1.09s\n",
      "349:\tlearn: 0.1544324\ttotal: 585ms\tremaining: 1.09s\n",
      "350:\tlearn: 0.1542402\ttotal: 587ms\tremaining: 1.08s\n",
      "351:\tlearn: 0.1537155\ttotal: 588ms\tremaining: 1.08s\n",
      "352:\tlearn: 0.1534380\ttotal: 589ms\tremaining: 1.08s\n",
      "353:\tlearn: 0.1531472\ttotal: 591ms\tremaining: 1.08s\n",
      "354:\tlearn: 0.1526418\ttotal: 592ms\tremaining: 1.07s\n",
      "355:\tlearn: 0.1523323\ttotal: 593ms\tremaining: 1.07s\n",
      "356:\tlearn: 0.1520534\ttotal: 594ms\tremaining: 1.07s\n",
      "357:\tlearn: 0.1518847\ttotal: 594ms\tremaining: 1.07s\n",
      "358:\tlearn: 0.1516100\ttotal: 595ms\tremaining: 1.06s\n",
      "359:\tlearn: 0.1515471\ttotal: 597ms\tremaining: 1.06s\n",
      "360:\tlearn: 0.1513802\ttotal: 598ms\tremaining: 1.06s\n",
      "361:\tlearn: 0.1510690\ttotal: 599ms\tremaining: 1.05s\n",
      "362:\tlearn: 0.1509937\ttotal: 599ms\tremaining: 1.05s\n",
      "363:\tlearn: 0.1506503\ttotal: 600ms\tremaining: 1.05s\n",
      "364:\tlearn: 0.1504164\ttotal: 601ms\tremaining: 1.05s\n",
      "365:\tlearn: 0.1500676\ttotal: 603ms\tremaining: 1.04s\n",
      "366:\tlearn: 0.1498267\ttotal: 604ms\tremaining: 1.04s\n",
      "367:\tlearn: 0.1495526\ttotal: 605ms\tremaining: 1.04s\n",
      "368:\tlearn: 0.1491959\ttotal: 606ms\tremaining: 1.04s\n",
      "369:\tlearn: 0.1487617\ttotal: 608ms\tremaining: 1.03s\n",
      "370:\tlearn: 0.1483167\ttotal: 608ms\tremaining: 1.03s\n",
      "371:\tlearn: 0.1479414\ttotal: 610ms\tremaining: 1.03s\n",
      "372:\tlearn: 0.1476720\ttotal: 611ms\tremaining: 1.03s\n",
      "373:\tlearn: 0.1472859\ttotal: 612ms\tremaining: 1.02s\n",
      "374:\tlearn: 0.1467546\ttotal: 613ms\tremaining: 1.02s\n",
      "375:\tlearn: 0.1463588\ttotal: 614ms\tremaining: 1.02s\n",
      "376:\tlearn: 0.1460139\ttotal: 615ms\tremaining: 1.02s\n",
      "377:\tlearn: 0.1458327\ttotal: 616ms\tremaining: 1.01s\n",
      "378:\tlearn: 0.1457079\ttotal: 617ms\tremaining: 1.01s\n",
      "379:\tlearn: 0.1452554\ttotal: 618ms\tremaining: 1.01s\n",
      "380:\tlearn: 0.1449264\ttotal: 619ms\tremaining: 1.01s\n",
      "381:\tlearn: 0.1445729\ttotal: 621ms\tremaining: 1s\n",
      "382:\tlearn: 0.1443176\ttotal: 622ms\tremaining: 1s\n",
      "383:\tlearn: 0.1440283\ttotal: 623ms\tremaining: 1000ms\n",
      "384:\tlearn: 0.1435192\ttotal: 624ms\tremaining: 997ms\n",
      "385:\tlearn: 0.1431938\ttotal: 626ms\tremaining: 995ms\n",
      "386:\tlearn: 0.1429820\ttotal: 627ms\tremaining: 993ms\n",
      "387:\tlearn: 0.1425763\ttotal: 628ms\tremaining: 990ms\n",
      "388:\tlearn: 0.1423020\ttotal: 629ms\tremaining: 988ms\n",
      "389:\tlearn: 0.1419788\ttotal: 630ms\tremaining: 985ms\n",
      "390:\tlearn: 0.1416514\ttotal: 631ms\tremaining: 983ms\n",
      "391:\tlearn: 0.1413198\ttotal: 632ms\tremaining: 981ms\n",
      "392:\tlearn: 0.1411021\ttotal: 633ms\tremaining: 978ms\n",
      "393:\tlearn: 0.1407836\ttotal: 635ms\tremaining: 976ms\n",
      "394:\tlearn: 0.1403810\ttotal: 636ms\tremaining: 974ms\n",
      "395:\tlearn: 0.1401069\ttotal: 638ms\tremaining: 973ms\n",
      "396:\tlearn: 0.1399033\ttotal: 644ms\tremaining: 979ms\n",
      "397:\tlearn: 0.1396194\ttotal: 647ms\tremaining: 978ms\n",
      "398:\tlearn: 0.1395118\ttotal: 648ms\tremaining: 976ms\n",
      "399:\tlearn: 0.1391777\ttotal: 650ms\tremaining: 976ms\n",
      "400:\tlearn: 0.1390498\ttotal: 652ms\tremaining: 974ms\n",
      "401:\tlearn: 0.1385559\ttotal: 653ms\tremaining: 972ms\n",
      "402:\tlearn: 0.1383010\ttotal: 654ms\tremaining: 970ms\n",
      "403:\tlearn: 0.1380454\ttotal: 656ms\tremaining: 967ms\n",
      "404:\tlearn: 0.1378056\ttotal: 657ms\tremaining: 965ms\n",
      "405:\tlearn: 0.1375469\ttotal: 658ms\tremaining: 963ms\n",
      "406:\tlearn: 0.1373082\ttotal: 660ms\tremaining: 961ms\n",
      "407:\tlearn: 0.1369691\ttotal: 661ms\tremaining: 960ms\n",
      "408:\tlearn: 0.1366923\ttotal: 663ms\tremaining: 958ms\n",
      "409:\tlearn: 0.1366073\ttotal: 665ms\tremaining: 957ms\n",
      "410:\tlearn: 0.1363693\ttotal: 667ms\tremaining: 956ms\n",
      "411:\tlearn: 0.1360201\ttotal: 669ms\tremaining: 954ms\n",
      "412:\tlearn: 0.1356955\ttotal: 670ms\tremaining: 952ms\n",
      "413:\tlearn: 0.1353975\ttotal: 671ms\tremaining: 950ms\n",
      "414:\tlearn: 0.1350469\ttotal: 673ms\tremaining: 949ms\n",
      "415:\tlearn: 0.1347956\ttotal: 675ms\tremaining: 948ms\n",
      "416:\tlearn: 0.1345566\ttotal: 677ms\tremaining: 947ms\n",
      "417:\tlearn: 0.1343225\ttotal: 679ms\tremaining: 945ms\n",
      "418:\tlearn: 0.1340799\ttotal: 680ms\tremaining: 943ms\n",
      "419:\tlearn: 0.1337589\ttotal: 683ms\tremaining: 944ms\n"
     ]
    },
    {
     "name": "stdout",
     "output_type": "stream",
     "text": [
      "420:\tlearn: 0.1335338\ttotal: 685ms\tremaining: 942ms\n",
      "421:\tlearn: 0.1334365\ttotal: 687ms\tremaining: 941ms\n",
      "422:\tlearn: 0.1331218\ttotal: 689ms\tremaining: 939ms\n",
      "423:\tlearn: 0.1330728\ttotal: 690ms\tremaining: 938ms\n",
      "424:\tlearn: 0.1326094\ttotal: 692ms\tremaining: 937ms\n",
      "425:\tlearn: 0.1323088\ttotal: 694ms\tremaining: 936ms\n",
      "426:\tlearn: 0.1322710\ttotal: 695ms\tremaining: 933ms\n",
      "427:\tlearn: 0.1319621\ttotal: 697ms\tremaining: 931ms\n",
      "428:\tlearn: 0.1315888\ttotal: 698ms\tremaining: 929ms\n",
      "429:\tlearn: 0.1311838\ttotal: 699ms\tremaining: 926ms\n",
      "430:\tlearn: 0.1309397\ttotal: 700ms\tremaining: 924ms\n",
      "431:\tlearn: 0.1307231\ttotal: 701ms\tremaining: 922ms\n",
      "432:\tlearn: 0.1304224\ttotal: 702ms\tremaining: 920ms\n",
      "433:\tlearn: 0.1302179\ttotal: 704ms\tremaining: 917ms\n",
      "434:\tlearn: 0.1301831\ttotal: 705ms\tremaining: 915ms\n",
      "435:\tlearn: 0.1299201\ttotal: 706ms\tremaining: 913ms\n",
      "436:\tlearn: 0.1296710\ttotal: 707ms\tremaining: 911ms\n",
      "437:\tlearn: 0.1296384\ttotal: 708ms\tremaining: 908ms\n",
      "438:\tlearn: 0.1294741\ttotal: 709ms\tremaining: 906ms\n",
      "439:\tlearn: 0.1291483\ttotal: 710ms\tremaining: 904ms\n",
      "440:\tlearn: 0.1288347\ttotal: 711ms\tremaining: 901ms\n",
      "441:\tlearn: 0.1284956\ttotal: 712ms\tremaining: 899ms\n",
      "442:\tlearn: 0.1282285\ttotal: 713ms\tremaining: 897ms\n",
      "443:\tlearn: 0.1279520\ttotal: 714ms\tremaining: 894ms\n",
      "444:\tlearn: 0.1276084\ttotal: 715ms\tremaining: 892ms\n",
      "445:\tlearn: 0.1273003\ttotal: 716ms\tremaining: 890ms\n",
      "446:\tlearn: 0.1271593\ttotal: 717ms\tremaining: 887ms\n",
      "447:\tlearn: 0.1270033\ttotal: 718ms\tremaining: 885ms\n",
      "448:\tlearn: 0.1269879\ttotal: 719ms\tremaining: 883ms\n",
      "449:\tlearn: 0.1266551\ttotal: 720ms\tremaining: 880ms\n",
      "450:\tlearn: 0.1265643\ttotal: 721ms\tremaining: 878ms\n",
      "451:\tlearn: 0.1262407\ttotal: 722ms\tremaining: 876ms\n",
      "452:\tlearn: 0.1259584\ttotal: 724ms\tremaining: 874ms\n",
      "453:\tlearn: 0.1257409\ttotal: 725ms\tremaining: 872ms\n",
      "454:\tlearn: 0.1254675\ttotal: 726ms\tremaining: 869ms\n",
      "455:\tlearn: 0.1252572\ttotal: 727ms\tremaining: 867ms\n",
      "456:\tlearn: 0.1249425\ttotal: 728ms\tremaining: 865ms\n",
      "457:\tlearn: 0.1246013\ttotal: 729ms\tremaining: 863ms\n",
      "458:\tlearn: 0.1242172\ttotal: 730ms\tremaining: 860ms\n"
     ]
    },
    {
     "name": "stdout",
     "output_type": "stream",
     "text": [
      "459:\tlearn: 0.1239602\ttotal: 731ms\tremaining: 858ms\n",
      "460:\tlearn: 0.1236316\ttotal: 733ms\tremaining: 856ms\n",
      "461:\tlearn: 0.1234071\ttotal: 734ms\tremaining: 854ms\n",
      "462:\tlearn: 0.1231732\ttotal: 735ms\tremaining: 852ms\n",
      "463:\tlearn: 0.1229789\ttotal: 736ms\tremaining: 850ms\n",
      "464:\tlearn: 0.1226234\ttotal: 737ms\tremaining: 848ms\n",
      "465:\tlearn: 0.1224930\ttotal: 738ms\tremaining: 845ms\n",
      "466:\tlearn: 0.1221938\ttotal: 739ms\tremaining: 843ms\n",
      "467:\tlearn: 0.1220265\ttotal: 740ms\tremaining: 841ms\n",
      "468:\tlearn: 0.1217654\ttotal: 741ms\tremaining: 839ms\n",
      "469:\tlearn: 0.1217267\ttotal: 742ms\tremaining: 837ms\n",
      "470:\tlearn: 0.1214960\ttotal: 743ms\tremaining: 834ms\n",
      "471:\tlearn: 0.1212138\ttotal: 744ms\tremaining: 832ms\n",
      "472:\tlearn: 0.1208924\ttotal: 745ms\tremaining: 830ms\n",
      "473:\tlearn: 0.1208143\ttotal: 747ms\tremaining: 829ms\n",
      "474:\tlearn: 0.1207412\ttotal: 749ms\tremaining: 827ms\n",
      "475:\tlearn: 0.1204406\ttotal: 750ms\tremaining: 825ms\n",
      "476:\tlearn: 0.1203819\ttotal: 751ms\tremaining: 824ms\n",
      "477:\tlearn: 0.1201850\ttotal: 752ms\tremaining: 822ms\n",
      "478:\tlearn: 0.1200018\ttotal: 754ms\tremaining: 820ms\n",
      "479:\tlearn: 0.1197912\ttotal: 755ms\tremaining: 818ms\n",
      "480:\tlearn: 0.1197257\ttotal: 756ms\tremaining: 816ms\n",
      "481:\tlearn: 0.1196652\ttotal: 757ms\tremaining: 814ms\n",
      "482:\tlearn: 0.1194637\ttotal: 759ms\tremaining: 812ms\n",
      "483:\tlearn: 0.1192307\ttotal: 760ms\tremaining: 810ms\n",
      "484:\tlearn: 0.1189674\ttotal: 761ms\tremaining: 808ms\n",
      "485:\tlearn: 0.1187178\ttotal: 762ms\tremaining: 806ms\n",
      "486:\tlearn: 0.1183615\ttotal: 763ms\tremaining: 804ms\n",
      "487:\tlearn: 0.1183142\ttotal: 765ms\tremaining: 802ms\n",
      "488:\tlearn: 0.1181723\ttotal: 766ms\tremaining: 800ms\n",
      "489:\tlearn: 0.1180705\ttotal: 767ms\tremaining: 799ms\n",
      "490:\tlearn: 0.1179041\ttotal: 769ms\tremaining: 797ms\n",
      "491:\tlearn: 0.1176042\ttotal: 770ms\tremaining: 795ms\n",
      "492:\tlearn: 0.1173021\ttotal: 771ms\tremaining: 793ms\n",
      "493:\tlearn: 0.1171439\ttotal: 773ms\tremaining: 791ms\n",
      "494:\tlearn: 0.1167795\ttotal: 774ms\tremaining: 790ms\n",
      "495:\tlearn: 0.1165318\ttotal: 775ms\tremaining: 788ms\n",
      "496:\tlearn: 0.1164989\ttotal: 776ms\tremaining: 786ms\n",
      "497:\tlearn: 0.1162369\ttotal: 777ms\tremaining: 783ms\n",
      "498:\tlearn: 0.1160558\ttotal: 778ms\tremaining: 782ms\n",
      "499:\tlearn: 0.1157994\ttotal: 779ms\tremaining: 779ms\n",
      "500:\tlearn: 0.1154157\ttotal: 780ms\tremaining: 777ms\n",
      "501:\tlearn: 0.1153624\ttotal: 781ms\tremaining: 775ms\n",
      "502:\tlearn: 0.1151295\ttotal: 782ms\tremaining: 773ms\n",
      "503:\tlearn: 0.1150995\ttotal: 783ms\tremaining: 771ms\n",
      "504:\tlearn: 0.1150431\ttotal: 784ms\tremaining: 768ms\n",
      "505:\tlearn: 0.1147561\ttotal: 785ms\tremaining: 766ms\n",
      "506:\tlearn: 0.1147224\ttotal: 786ms\tremaining: 764ms\n",
      "507:\tlearn: 0.1145348\ttotal: 787ms\tremaining: 762ms\n",
      "508:\tlearn: 0.1142805\ttotal: 788ms\tremaining: 760ms\n",
      "509:\tlearn: 0.1140367\ttotal: 789ms\tremaining: 758ms\n",
      "510:\tlearn: 0.1138520\ttotal: 790ms\tremaining: 756ms\n",
      "511:\tlearn: 0.1136131\ttotal: 791ms\tremaining: 754ms\n",
      "512:\tlearn: 0.1134052\ttotal: 792ms\tremaining: 751ms\n",
      "513:\tlearn: 0.1130418\ttotal: 792ms\tremaining: 749ms\n",
      "514:\tlearn: 0.1129481\ttotal: 793ms\tremaining: 747ms\n",
      "515:\tlearn: 0.1127987\ttotal: 794ms\tremaining: 745ms\n",
      "516:\tlearn: 0.1125111\ttotal: 795ms\tremaining: 743ms\n",
      "517:\tlearn: 0.1123319\ttotal: 796ms\tremaining: 741ms\n",
      "518:\tlearn: 0.1121274\ttotal: 797ms\tremaining: 739ms\n",
      "519:\tlearn: 0.1118234\ttotal: 798ms\tremaining: 737ms\n",
      "520:\tlearn: 0.1115287\ttotal: 799ms\tremaining: 735ms\n",
      "521:\tlearn: 0.1113076\ttotal: 800ms\tremaining: 732ms\n",
      "522:\tlearn: 0.1110855\ttotal: 801ms\tremaining: 730ms\n",
      "523:\tlearn: 0.1108967\ttotal: 801ms\tremaining: 728ms\n",
      "524:\tlearn: 0.1107398\ttotal: 802ms\tremaining: 726ms\n",
      "525:\tlearn: 0.1105259\ttotal: 803ms\tremaining: 724ms\n",
      "526:\tlearn: 0.1103055\ttotal: 804ms\tremaining: 722ms\n",
      "527:\tlearn: 0.1100864\ttotal: 805ms\tremaining: 720ms\n",
      "528:\tlearn: 0.1099078\ttotal: 806ms\tremaining: 718ms\n",
      "529:\tlearn: 0.1096533\ttotal: 807ms\tremaining: 715ms\n",
      "530:\tlearn: 0.1094579\ttotal: 808ms\tremaining: 713ms\n",
      "531:\tlearn: 0.1092407\ttotal: 809ms\tremaining: 711ms\n",
      "532:\tlearn: 0.1091013\ttotal: 810ms\tremaining: 709ms\n",
      "533:\tlearn: 0.1088245\ttotal: 811ms\tremaining: 708ms\n",
      "534:\tlearn: 0.1085753\ttotal: 812ms\tremaining: 705ms\n",
      "535:\tlearn: 0.1083747\ttotal: 813ms\tremaining: 703ms\n",
      "536:\tlearn: 0.1080628\ttotal: 813ms\tremaining: 701ms\n",
      "537:\tlearn: 0.1078216\ttotal: 814ms\tremaining: 699ms\n",
      "538:\tlearn: 0.1075576\ttotal: 815ms\tremaining: 697ms\n",
      "539:\tlearn: 0.1074925\ttotal: 816ms\tremaining: 695ms\n",
      "540:\tlearn: 0.1073203\ttotal: 817ms\tremaining: 693ms\n",
      "541:\tlearn: 0.1070719\ttotal: 818ms\tremaining: 691ms\n",
      "542:\tlearn: 0.1070270\ttotal: 819ms\tremaining: 689ms\n",
      "543:\tlearn: 0.1066915\ttotal: 820ms\tremaining: 687ms\n",
      "544:\tlearn: 0.1063685\ttotal: 821ms\tremaining: 685ms\n",
      "545:\tlearn: 0.1062069\ttotal: 822ms\tremaining: 683ms\n",
      "546:\tlearn: 0.1060300\ttotal: 823ms\tremaining: 681ms\n",
      "547:\tlearn: 0.1057950\ttotal: 824ms\tremaining: 679ms\n",
      "548:\tlearn: 0.1055434\ttotal: 825ms\tremaining: 677ms\n",
      "549:\tlearn: 0.1053578\ttotal: 825ms\tremaining: 675ms\n",
      "550:\tlearn: 0.1051377\ttotal: 826ms\tremaining: 673ms\n",
      "551:\tlearn: 0.1050429\ttotal: 827ms\tremaining: 671ms\n",
      "552:\tlearn: 0.1048691\ttotal: 828ms\tremaining: 669ms\n",
      "553:\tlearn: 0.1046122\ttotal: 829ms\tremaining: 668ms\n",
      "554:\tlearn: 0.1045859\ttotal: 830ms\tremaining: 666ms\n",
      "555:\tlearn: 0.1042732\ttotal: 831ms\tremaining: 664ms\n",
      "556:\tlearn: 0.1039985\ttotal: 832ms\tremaining: 662ms\n",
      "557:\tlearn: 0.1039711\ttotal: 833ms\tremaining: 660ms\n",
      "558:\tlearn: 0.1036772\ttotal: 834ms\tremaining: 658ms\n",
      "559:\tlearn: 0.1034300\ttotal: 835ms\tremaining: 656ms\n",
      "560:\tlearn: 0.1032094\ttotal: 836ms\tremaining: 654ms\n",
      "561:\tlearn: 0.1030223\ttotal: 837ms\tremaining: 653ms\n",
      "562:\tlearn: 0.1028717\ttotal: 838ms\tremaining: 651ms\n",
      "563:\tlearn: 0.1026803\ttotal: 839ms\tremaining: 649ms\n",
      "564:\tlearn: 0.1024857\ttotal: 840ms\tremaining: 647ms\n",
      "565:\tlearn: 0.1023100\ttotal: 841ms\tremaining: 645ms\n",
      "566:\tlearn: 0.1021321\ttotal: 842ms\tremaining: 643ms\n",
      "567:\tlearn: 0.1019655\ttotal: 843ms\tremaining: 641ms\n",
      "568:\tlearn: 0.1018028\ttotal: 844ms\tremaining: 639ms\n",
      "569:\tlearn: 0.1017692\ttotal: 845ms\tremaining: 637ms\n",
      "570:\tlearn: 0.1016889\ttotal: 846ms\tremaining: 636ms\n",
      "571:\tlearn: 0.1014693\ttotal: 847ms\tremaining: 634ms\n",
      "572:\tlearn: 0.1012719\ttotal: 848ms\tremaining: 632ms\n",
      "573:\tlearn: 0.1011205\ttotal: 850ms\tremaining: 631ms\n",
      "574:\tlearn: 0.1009382\ttotal: 851ms\tremaining: 629ms\n",
      "575:\tlearn: 0.1009103\ttotal: 852ms\tremaining: 628ms\n",
      "576:\tlearn: 0.1007392\ttotal: 854ms\tremaining: 626ms\n",
      "577:\tlearn: 0.1005032\ttotal: 855ms\tremaining: 624ms\n",
      "578:\tlearn: 0.1004785\ttotal: 856ms\tremaining: 622ms\n",
      "579:\tlearn: 0.1002199\ttotal: 857ms\tremaining: 621ms\n",
      "580:\tlearn: 0.0999593\ttotal: 858ms\tremaining: 619ms\n"
     ]
    },
    {
     "name": "stdout",
     "output_type": "stream",
     "text": [
      "581:\tlearn: 0.0997618\ttotal: 859ms\tremaining: 617ms\n",
      "582:\tlearn: 0.0996123\ttotal: 860ms\tremaining: 615ms\n",
      "583:\tlearn: 0.0995885\ttotal: 861ms\tremaining: 614ms\n",
      "584:\tlearn: 0.0993761\ttotal: 863ms\tremaining: 612ms\n",
      "585:\tlearn: 0.0992227\ttotal: 864ms\tremaining: 610ms\n",
      "586:\tlearn: 0.0989127\ttotal: 865ms\tremaining: 608ms\n",
      "587:\tlearn: 0.0986805\ttotal: 866ms\tremaining: 607ms\n",
      "588:\tlearn: 0.0984923\ttotal: 867ms\tremaining: 605ms\n",
      "589:\tlearn: 0.0983369\ttotal: 868ms\tremaining: 603ms\n",
      "590:\tlearn: 0.0982430\ttotal: 869ms\tremaining: 601ms\n",
      "591:\tlearn: 0.0981201\ttotal: 870ms\tremaining: 599ms\n",
      "592:\tlearn: 0.0979108\ttotal: 870ms\tremaining: 597ms\n",
      "593:\tlearn: 0.0976784\ttotal: 871ms\tremaining: 595ms\n",
      "594:\tlearn: 0.0974569\ttotal: 872ms\tremaining: 593ms\n",
      "595:\tlearn: 0.0971981\ttotal: 873ms\tremaining: 591ms\n",
      "596:\tlearn: 0.0970385\ttotal: 873ms\tremaining: 590ms\n",
      "597:\tlearn: 0.0968227\ttotal: 874ms\tremaining: 588ms\n",
      "598:\tlearn: 0.0966340\ttotal: 875ms\tremaining: 586ms\n",
      "599:\tlearn: 0.0964822\ttotal: 876ms\tremaining: 584ms\n",
      "600:\tlearn: 0.0963328\ttotal: 877ms\tremaining: 582ms\n",
      "601:\tlearn: 0.0962588\ttotal: 878ms\tremaining: 580ms\n",
      "602:\tlearn: 0.0960820\ttotal: 879ms\tremaining: 579ms\n",
      "603:\tlearn: 0.0958703\ttotal: 880ms\tremaining: 577ms\n",
      "604:\tlearn: 0.0957197\ttotal: 881ms\tremaining: 575ms\n",
      "605:\tlearn: 0.0956754\ttotal: 882ms\tremaining: 573ms\n",
      "606:\tlearn: 0.0955160\ttotal: 883ms\tremaining: 571ms\n",
      "607:\tlearn: 0.0952537\ttotal: 883ms\tremaining: 570ms\n",
      "608:\tlearn: 0.0952189\ttotal: 884ms\tremaining: 568ms\n",
      "609:\tlearn: 0.0951124\ttotal: 885ms\tremaining: 566ms\n",
      "610:\tlearn: 0.0948988\ttotal: 886ms\tremaining: 564ms\n",
      "611:\tlearn: 0.0948189\ttotal: 887ms\tremaining: 562ms\n",
      "612:\tlearn: 0.0946465\ttotal: 888ms\tremaining: 561ms\n",
      "613:\tlearn: 0.0944756\ttotal: 889ms\tremaining: 559ms\n",
      "614:\tlearn: 0.0944363\ttotal: 890ms\tremaining: 557ms\n",
      "615:\tlearn: 0.0944015\ttotal: 891ms\tremaining: 555ms\n",
      "616:\tlearn: 0.0941818\ttotal: 892ms\tremaining: 554ms\n",
      "617:\tlearn: 0.0941192\ttotal: 893ms\tremaining: 552ms\n",
      "618:\tlearn: 0.0938959\ttotal: 894ms\tremaining: 550ms\n",
      "619:\tlearn: 0.0936736\ttotal: 895ms\tremaining: 548ms\n",
      "620:\tlearn: 0.0935009\ttotal: 896ms\tremaining: 547ms\n",
      "621:\tlearn: 0.0934503\ttotal: 897ms\tremaining: 545ms\n",
      "622:\tlearn: 0.0933724\ttotal: 899ms\tremaining: 544ms\n",
      "623:\tlearn: 0.0932865\ttotal: 901ms\tremaining: 543ms\n",
      "624:\tlearn: 0.0930778\ttotal: 903ms\tremaining: 542ms\n",
      "625:\tlearn: 0.0929017\ttotal: 904ms\tremaining: 540ms\n",
      "626:\tlearn: 0.0926253\ttotal: 905ms\tremaining: 538ms\n"
     ]
    },
    {
     "name": "stdout",
     "output_type": "stream",
     "text": [
      "627:\tlearn: 0.0924297\ttotal: 906ms\tremaining: 537ms\n",
      "628:\tlearn: 0.0922741\ttotal: 907ms\tremaining: 535ms\n",
      "629:\tlearn: 0.0921430\ttotal: 908ms\tremaining: 533ms\n",
      "630:\tlearn: 0.0920089\ttotal: 909ms\tremaining: 532ms\n",
      "631:\tlearn: 0.0918386\ttotal: 910ms\tremaining: 530ms\n",
      "632:\tlearn: 0.0917927\ttotal: 911ms\tremaining: 528ms\n",
      "633:\tlearn: 0.0915395\ttotal: 912ms\tremaining: 526ms\n",
      "634:\tlearn: 0.0914974\ttotal: 913ms\tremaining: 525ms\n",
      "635:\tlearn: 0.0913749\ttotal: 914ms\tremaining: 523ms\n",
      "636:\tlearn: 0.0911745\ttotal: 915ms\tremaining: 521ms\n",
      "637:\tlearn: 0.0909803\ttotal: 916ms\tremaining: 519ms\n",
      "638:\tlearn: 0.0908816\ttotal: 917ms\tremaining: 518ms\n",
      "639:\tlearn: 0.0906997\ttotal: 918ms\tremaining: 516ms\n",
      "640:\tlearn: 0.0905162\ttotal: 918ms\tremaining: 514ms\n",
      "641:\tlearn: 0.0904638\ttotal: 919ms\tremaining: 513ms\n",
      "642:\tlearn: 0.0902836\ttotal: 920ms\tremaining: 511ms\n",
      "643:\tlearn: 0.0900874\ttotal: 921ms\tremaining: 509ms\n",
      "644:\tlearn: 0.0899277\ttotal: 922ms\tremaining: 508ms\n",
      "645:\tlearn: 0.0897319\ttotal: 923ms\tremaining: 506ms\n",
      "646:\tlearn: 0.0896607\ttotal: 924ms\tremaining: 504ms\n",
      "647:\tlearn: 0.0895851\ttotal: 925ms\tremaining: 503ms\n",
      "648:\tlearn: 0.0894884\ttotal: 926ms\tremaining: 501ms\n",
      "649:\tlearn: 0.0893694\ttotal: 927ms\tremaining: 499ms\n",
      "650:\tlearn: 0.0892871\ttotal: 928ms\tremaining: 498ms\n",
      "651:\tlearn: 0.0890919\ttotal: 929ms\tremaining: 496ms\n",
      "652:\tlearn: 0.0889633\ttotal: 930ms\tremaining: 494ms\n",
      "653:\tlearn: 0.0888610\ttotal: 931ms\tremaining: 492ms\n",
      "654:\tlearn: 0.0887875\ttotal: 932ms\tremaining: 491ms\n",
      "655:\tlearn: 0.0885548\ttotal: 933ms\tremaining: 489ms\n",
      "656:\tlearn: 0.0885343\ttotal: 934ms\tremaining: 488ms\n",
      "657:\tlearn: 0.0884061\ttotal: 935ms\tremaining: 486ms\n",
      "658:\tlearn: 0.0882858\ttotal: 936ms\tremaining: 484ms\n",
      "659:\tlearn: 0.0881703\ttotal: 937ms\tremaining: 482ms\n",
      "660:\tlearn: 0.0881026\ttotal: 938ms\tremaining: 481ms\n",
      "661:\tlearn: 0.0879514\ttotal: 939ms\tremaining: 479ms\n",
      "662:\tlearn: 0.0878404\ttotal: 940ms\tremaining: 478ms\n",
      "663:\tlearn: 0.0876908\ttotal: 941ms\tremaining: 476ms\n",
      "664:\tlearn: 0.0875478\ttotal: 941ms\tremaining: 474ms\n",
      "665:\tlearn: 0.0874221\ttotal: 942ms\tremaining: 473ms\n",
      "666:\tlearn: 0.0873338\ttotal: 943ms\tremaining: 471ms\n",
      "667:\tlearn: 0.0873189\ttotal: 944ms\tremaining: 469ms\n",
      "668:\tlearn: 0.0870611\ttotal: 945ms\tremaining: 468ms\n",
      "669:\tlearn: 0.0868702\ttotal: 946ms\tremaining: 466ms\n",
      "670:\tlearn: 0.0866826\ttotal: 947ms\tremaining: 464ms\n",
      "671:\tlearn: 0.0865103\ttotal: 948ms\tremaining: 463ms\n",
      "672:\tlearn: 0.0863103\ttotal: 949ms\tremaining: 461ms\n",
      "673:\tlearn: 0.0860279\ttotal: 950ms\tremaining: 460ms\n",
      "674:\tlearn: 0.0859721\ttotal: 951ms\tremaining: 458ms\n",
      "675:\tlearn: 0.0858885\ttotal: 952ms\tremaining: 456ms\n",
      "676:\tlearn: 0.0857207\ttotal: 953ms\tremaining: 455ms\n",
      "677:\tlearn: 0.0854984\ttotal: 954ms\tremaining: 453ms\n",
      "678:\tlearn: 0.0853217\ttotal: 955ms\tremaining: 451ms\n",
      "679:\tlearn: 0.0851916\ttotal: 956ms\tremaining: 450ms\n",
      "680:\tlearn: 0.0850417\ttotal: 957ms\tremaining: 448ms\n",
      "681:\tlearn: 0.0849356\ttotal: 958ms\tremaining: 447ms\n",
      "682:\tlearn: 0.0848433\ttotal: 959ms\tremaining: 445ms\n",
      "683:\tlearn: 0.0846947\ttotal: 960ms\tremaining: 443ms\n",
      "684:\tlearn: 0.0845213\ttotal: 960ms\tremaining: 442ms\n",
      "685:\tlearn: 0.0843815\ttotal: 961ms\tremaining: 440ms\n",
      "686:\tlearn: 0.0842503\ttotal: 962ms\tremaining: 438ms\n",
      "687:\tlearn: 0.0841358\ttotal: 963ms\tremaining: 437ms\n",
      "688:\tlearn: 0.0841204\ttotal: 963ms\tremaining: 435ms\n",
      "689:\tlearn: 0.0838999\ttotal: 964ms\tremaining: 433ms\n",
      "690:\tlearn: 0.0837602\ttotal: 965ms\tremaining: 431ms\n",
      "691:\tlearn: 0.0837473\ttotal: 966ms\tremaining: 430ms\n",
      "692:\tlearn: 0.0836046\ttotal: 967ms\tremaining: 429ms\n",
      "693:\tlearn: 0.0835220\ttotal: 968ms\tremaining: 427ms\n",
      "694:\tlearn: 0.0833550\ttotal: 969ms\tremaining: 425ms\n",
      "695:\tlearn: 0.0832697\ttotal: 970ms\tremaining: 424ms\n",
      "696:\tlearn: 0.0831524\ttotal: 971ms\tremaining: 422ms\n",
      "697:\tlearn: 0.0830124\ttotal: 972ms\tremaining: 420ms\n",
      "698:\tlearn: 0.0828838\ttotal: 973ms\tremaining: 419ms\n",
      "699:\tlearn: 0.0827536\ttotal: 973ms\tremaining: 417ms\n",
      "700:\tlearn: 0.0825691\ttotal: 974ms\tremaining: 416ms\n",
      "701:\tlearn: 0.0824799\ttotal: 975ms\tremaining: 414ms\n",
      "702:\tlearn: 0.0822587\ttotal: 976ms\tremaining: 412ms\n",
      "703:\tlearn: 0.0821358\ttotal: 977ms\tremaining: 411ms\n",
      "704:\tlearn: 0.0819747\ttotal: 978ms\tremaining: 409ms\n",
      "705:\tlearn: 0.0818785\ttotal: 979ms\tremaining: 408ms\n",
      "706:\tlearn: 0.0818115\ttotal: 980ms\tremaining: 406ms\n",
      "707:\tlearn: 0.0817422\ttotal: 981ms\tremaining: 405ms\n",
      "708:\tlearn: 0.0816770\ttotal: 982ms\tremaining: 403ms\n",
      "709:\tlearn: 0.0814932\ttotal: 983ms\tremaining: 401ms\n",
      "710:\tlearn: 0.0813193\ttotal: 984ms\tremaining: 400ms\n",
      "711:\tlearn: 0.0811939\ttotal: 985ms\tremaining: 398ms\n",
      "712:\tlearn: 0.0810573\ttotal: 986ms\tremaining: 397ms\n",
      "713:\tlearn: 0.0808952\ttotal: 987ms\tremaining: 395ms\n",
      "714:\tlearn: 0.0808495\ttotal: 988ms\tremaining: 394ms\n",
      "715:\tlearn: 0.0807788\ttotal: 989ms\tremaining: 392ms\n",
      "716:\tlearn: 0.0806005\ttotal: 990ms\tremaining: 391ms\n",
      "717:\tlearn: 0.0805357\ttotal: 990ms\tremaining: 389ms\n",
      "718:\tlearn: 0.0805227\ttotal: 991ms\tremaining: 387ms\n",
      "719:\tlearn: 0.0804542\ttotal: 992ms\tremaining: 386ms\n",
      "720:\tlearn: 0.0803800\ttotal: 993ms\tremaining: 384ms\n",
      "721:\tlearn: 0.0801986\ttotal: 994ms\tremaining: 383ms\n",
      "722:\tlearn: 0.0801015\ttotal: 995ms\tremaining: 381ms\n",
      "723:\tlearn: 0.0800327\ttotal: 996ms\tremaining: 380ms\n",
      "724:\tlearn: 0.0799549\ttotal: 997ms\tremaining: 378ms\n",
      "725:\tlearn: 0.0798799\ttotal: 998ms\tremaining: 377ms\n",
      "726:\tlearn: 0.0798220\ttotal: 999ms\tremaining: 375ms\n",
      "727:\tlearn: 0.0797313\ttotal: 1000ms\tremaining: 373ms\n",
      "728:\tlearn: 0.0796547\ttotal: 1s\tremaining: 372ms\n",
      "729:\tlearn: 0.0795594\ttotal: 1s\tremaining: 370ms\n",
      "730:\tlearn: 0.0795046\ttotal: 1s\tremaining: 369ms\n",
      "731:\tlearn: 0.0793669\ttotal: 1s\tremaining: 367ms\n",
      "732:\tlearn: 0.0792251\ttotal: 1s\tremaining: 366ms\n",
      "733:\tlearn: 0.0792107\ttotal: 1s\tremaining: 364ms\n",
      "734:\tlearn: 0.0790537\ttotal: 1.01s\tremaining: 363ms\n",
      "735:\tlearn: 0.0789190\ttotal: 1.01s\tremaining: 361ms\n",
      "736:\tlearn: 0.0787546\ttotal: 1.01s\tremaining: 360ms\n",
      "737:\tlearn: 0.0785741\ttotal: 1.01s\tremaining: 358ms\n",
      "738:\tlearn: 0.0784811\ttotal: 1.01s\tremaining: 357ms\n",
      "739:\tlearn: 0.0783188\ttotal: 1.01s\tremaining: 355ms\n",
      "740:\tlearn: 0.0781058\ttotal: 1.01s\tremaining: 354ms\n",
      "741:\tlearn: 0.0779496\ttotal: 1.01s\tremaining: 352ms\n",
      "742:\tlearn: 0.0778414\ttotal: 1.01s\tremaining: 351ms\n",
      "743:\tlearn: 0.0776931\ttotal: 1.01s\tremaining: 349ms\n",
      "744:\tlearn: 0.0775297\ttotal: 1.01s\tremaining: 348ms\n",
      "745:\tlearn: 0.0773770\ttotal: 1.02s\tremaining: 346ms\n",
      "746:\tlearn: 0.0773604\ttotal: 1.02s\tremaining: 345ms\n",
      "747:\tlearn: 0.0773278\ttotal: 1.02s\tremaining: 344ms\n",
      "748:\tlearn: 0.0771890\ttotal: 1.02s\tremaining: 342ms\n",
      "749:\tlearn: 0.0771300\ttotal: 1.02s\tremaining: 341ms\n",
      "750:\tlearn: 0.0769648\ttotal: 1.02s\tremaining: 339ms\n",
      "751:\tlearn: 0.0767249\ttotal: 1.02s\tremaining: 338ms\n",
      "752:\tlearn: 0.0766283\ttotal: 1.02s\tremaining: 336ms\n",
      "753:\tlearn: 0.0765131\ttotal: 1.02s\tremaining: 335ms\n",
      "754:\tlearn: 0.0764285\ttotal: 1.03s\tremaining: 333ms\n",
      "755:\tlearn: 0.0763185\ttotal: 1.03s\tremaining: 332ms\n",
      "756:\tlearn: 0.0761362\ttotal: 1.03s\tremaining: 330ms\n",
      "757:\tlearn: 0.0760697\ttotal: 1.03s\tremaining: 329ms\n",
      "758:\tlearn: 0.0759084\ttotal: 1.03s\tremaining: 327ms\n",
      "759:\tlearn: 0.0758180\ttotal: 1.03s\tremaining: 326ms\n",
      "760:\tlearn: 0.0756897\ttotal: 1.03s\tremaining: 324ms\n",
      "761:\tlearn: 0.0755571\ttotal: 1.03s\tremaining: 323ms\n",
      "762:\tlearn: 0.0754771\ttotal: 1.03s\tremaining: 321ms\n",
      "763:\tlearn: 0.0753263\ttotal: 1.03s\tremaining: 320ms\n",
      "764:\tlearn: 0.0753107\ttotal: 1.04s\tremaining: 318ms\n",
      "765:\tlearn: 0.0751959\ttotal: 1.04s\tremaining: 317ms\n",
      "766:\tlearn: 0.0751092\ttotal: 1.04s\tremaining: 315ms\n",
      "767:\tlearn: 0.0750265\ttotal: 1.04s\tremaining: 314ms\n",
      "768:\tlearn: 0.0748623\ttotal: 1.04s\tremaining: 312ms\n",
      "769:\tlearn: 0.0746996\ttotal: 1.04s\tremaining: 311ms\n",
      "770:\tlearn: 0.0745849\ttotal: 1.04s\tremaining: 310ms\n",
      "771:\tlearn: 0.0744872\ttotal: 1.04s\tremaining: 308ms\n",
      "772:\tlearn: 0.0743547\ttotal: 1.04s\tremaining: 307ms\n",
      "773:\tlearn: 0.0742621\ttotal: 1.04s\tremaining: 305ms\n",
      "774:\tlearn: 0.0742103\ttotal: 1.04s\tremaining: 304ms\n",
      "775:\tlearn: 0.0741298\ttotal: 1.05s\tremaining: 302ms\n",
      "776:\tlearn: 0.0739892\ttotal: 1.05s\tremaining: 301ms\n",
      "777:\tlearn: 0.0738514\ttotal: 1.05s\tremaining: 299ms\n"
     ]
    },
    {
     "name": "stdout",
     "output_type": "stream",
     "text": [
      "778:\tlearn: 0.0737023\ttotal: 1.05s\tremaining: 298ms\n",
      "779:\tlearn: 0.0736184\ttotal: 1.05s\tremaining: 296ms\n",
      "780:\tlearn: 0.0736035\ttotal: 1.05s\tremaining: 295ms\n",
      "781:\tlearn: 0.0735129\ttotal: 1.05s\tremaining: 293ms\n",
      "782:\tlearn: 0.0733712\ttotal: 1.05s\tremaining: 292ms\n",
      "783:\tlearn: 0.0732485\ttotal: 1.05s\tremaining: 290ms\n",
      "784:\tlearn: 0.0731246\ttotal: 1.05s\tremaining: 289ms\n",
      "785:\tlearn: 0.0730972\ttotal: 1.06s\tremaining: 288ms\n",
      "786:\tlearn: 0.0729598\ttotal: 1.06s\tremaining: 286ms\n",
      "787:\tlearn: 0.0729118\ttotal: 1.06s\tremaining: 285ms\n",
      "788:\tlearn: 0.0728089\ttotal: 1.06s\tremaining: 283ms\n",
      "789:\tlearn: 0.0726796\ttotal: 1.06s\tremaining: 282ms\n",
      "790:\tlearn: 0.0726564\ttotal: 1.06s\tremaining: 280ms\n",
      "791:\tlearn: 0.0724717\ttotal: 1.06s\tremaining: 279ms\n",
      "792:\tlearn: 0.0724383\ttotal: 1.06s\tremaining: 278ms\n",
      "793:\tlearn: 0.0722826\ttotal: 1.06s\tremaining: 276ms\n",
      "794:\tlearn: 0.0720763\ttotal: 1.06s\tremaining: 275ms\n",
      "795:\tlearn: 0.0719672\ttotal: 1.06s\tremaining: 273ms\n",
      "796:\tlearn: 0.0718484\ttotal: 1.07s\tremaining: 272ms\n",
      "797:\tlearn: 0.0716549\ttotal: 1.07s\tremaining: 270ms\n",
      "798:\tlearn: 0.0716347\ttotal: 1.07s\tremaining: 269ms\n",
      "799:\tlearn: 0.0715163\ttotal: 1.07s\tremaining: 267ms\n",
      "800:\tlearn: 0.0712671\ttotal: 1.07s\tremaining: 266ms\n",
      "801:\tlearn: 0.0712271\ttotal: 1.07s\tremaining: 265ms\n",
      "802:\tlearn: 0.0711277\ttotal: 1.07s\tremaining: 263ms\n",
      "803:\tlearn: 0.0710558\ttotal: 1.07s\tremaining: 262ms\n",
      "804:\tlearn: 0.0710344\ttotal: 1.07s\tremaining: 260ms\n",
      "805:\tlearn: 0.0708475\ttotal: 1.07s\tremaining: 259ms\n",
      "806:\tlearn: 0.0707369\ttotal: 1.08s\tremaining: 258ms\n",
      "807:\tlearn: 0.0706816\ttotal: 1.08s\tremaining: 256ms\n",
      "808:\tlearn: 0.0705383\ttotal: 1.08s\tremaining: 255ms\n",
      "809:\tlearn: 0.0704990\ttotal: 1.08s\tremaining: 253ms\n",
      "810:\tlearn: 0.0703957\ttotal: 1.08s\tremaining: 252ms\n",
      "811:\tlearn: 0.0702766\ttotal: 1.08s\tremaining: 250ms\n",
      "812:\tlearn: 0.0701296\ttotal: 1.08s\tremaining: 249ms\n",
      "813:\tlearn: 0.0700959\ttotal: 1.08s\tremaining: 247ms\n",
      "814:\tlearn: 0.0699558\ttotal: 1.08s\tremaining: 246ms\n",
      "815:\tlearn: 0.0699329\ttotal: 1.08s\tremaining: 245ms\n",
      "816:\tlearn: 0.0697836\ttotal: 1.08s\tremaining: 243ms\n",
      "817:\tlearn: 0.0697640\ttotal: 1.09s\tremaining: 242ms\n",
      "818:\tlearn: 0.0696242\ttotal: 1.09s\tremaining: 240ms\n",
      "819:\tlearn: 0.0695626\ttotal: 1.09s\tremaining: 239ms\n",
      "820:\tlearn: 0.0693982\ttotal: 1.09s\tremaining: 237ms\n",
      "821:\tlearn: 0.0693412\ttotal: 1.09s\tremaining: 236ms\n",
      "822:\tlearn: 0.0693164\ttotal: 1.09s\tremaining: 235ms\n",
      "823:\tlearn: 0.0691844\ttotal: 1.09s\tremaining: 233ms\n",
      "824:\tlearn: 0.0690423\ttotal: 1.09s\tremaining: 232ms\n",
      "825:\tlearn: 0.0689272\ttotal: 1.09s\tremaining: 230ms\n",
      "826:\tlearn: 0.0687778\ttotal: 1.09s\tremaining: 229ms\n",
      "827:\tlearn: 0.0686815\ttotal: 1.09s\tremaining: 228ms\n"
     ]
    },
    {
     "name": "stdout",
     "output_type": "stream",
     "text": [
      "828:\tlearn: 0.0685025\ttotal: 1.1s\tremaining: 226ms\n",
      "829:\tlearn: 0.0683995\ttotal: 1.1s\tremaining: 225ms\n",
      "830:\tlearn: 0.0683166\ttotal: 1.1s\tremaining: 223ms\n",
      "831:\tlearn: 0.0682192\ttotal: 1.1s\tremaining: 222ms\n",
      "832:\tlearn: 0.0680318\ttotal: 1.1s\tremaining: 221ms\n",
      "833:\tlearn: 0.0679623\ttotal: 1.1s\tremaining: 219ms\n",
      "834:\tlearn: 0.0678303\ttotal: 1.1s\tremaining: 218ms\n",
      "835:\tlearn: 0.0677521\ttotal: 1.1s\tremaining: 217ms\n",
      "836:\tlearn: 0.0676943\ttotal: 1.1s\tremaining: 215ms\n",
      "837:\tlearn: 0.0675880\ttotal: 1.11s\tremaining: 214ms\n",
      "838:\tlearn: 0.0674840\ttotal: 1.11s\tremaining: 212ms\n",
      "839:\tlearn: 0.0673967\ttotal: 1.11s\tremaining: 211ms\n",
      "840:\tlearn: 0.0672404\ttotal: 1.11s\tremaining: 210ms\n",
      "841:\tlearn: 0.0672197\ttotal: 1.11s\tremaining: 208ms\n",
      "842:\tlearn: 0.0670480\ttotal: 1.11s\tremaining: 207ms\n",
      "843:\tlearn: 0.0669511\ttotal: 1.11s\tremaining: 205ms\n",
      "844:\tlearn: 0.0668879\ttotal: 1.11s\tremaining: 204ms\n",
      "845:\tlearn: 0.0668167\ttotal: 1.11s\tremaining: 203ms\n",
      "846:\tlearn: 0.0667790\ttotal: 1.11s\tremaining: 201ms\n",
      "847:\tlearn: 0.0666944\ttotal: 1.11s\tremaining: 200ms\n",
      "848:\tlearn: 0.0665634\ttotal: 1.12s\tremaining: 199ms\n",
      "849:\tlearn: 0.0664266\ttotal: 1.12s\tremaining: 197ms\n",
      "850:\tlearn: 0.0662989\ttotal: 1.12s\tremaining: 196ms\n",
      "851:\tlearn: 0.0661879\ttotal: 1.12s\tremaining: 195ms\n",
      "852:\tlearn: 0.0661333\ttotal: 1.12s\tremaining: 193ms\n",
      "853:\tlearn: 0.0660211\ttotal: 1.12s\tremaining: 192ms\n",
      "854:\tlearn: 0.0659087\ttotal: 1.12s\tremaining: 190ms\n",
      "855:\tlearn: 0.0658830\ttotal: 1.12s\tremaining: 189ms\n",
      "856:\tlearn: 0.0658204\ttotal: 1.12s\tremaining: 188ms\n",
      "857:\tlearn: 0.0657741\ttotal: 1.13s\tremaining: 186ms\n",
      "858:\tlearn: 0.0657470\ttotal: 1.13s\tremaining: 185ms\n",
      "859:\tlearn: 0.0656692\ttotal: 1.13s\tremaining: 184ms\n",
      "860:\tlearn: 0.0656114\ttotal: 1.13s\tremaining: 182ms\n",
      "861:\tlearn: 0.0654658\ttotal: 1.13s\tremaining: 181ms\n",
      "862:\tlearn: 0.0653805\ttotal: 1.13s\tremaining: 179ms\n",
      "863:\tlearn: 0.0653280\ttotal: 1.13s\tremaining: 178ms\n",
      "864:\tlearn: 0.0652061\ttotal: 1.13s\tremaining: 177ms\n",
      "865:\tlearn: 0.0651094\ttotal: 1.13s\tremaining: 175ms\n",
      "866:\tlearn: 0.0650631\ttotal: 1.13s\tremaining: 174ms\n",
      "867:\tlearn: 0.0650094\ttotal: 1.13s\tremaining: 173ms\n",
      "868:\tlearn: 0.0649400\ttotal: 1.14s\tremaining: 171ms\n",
      "869:\tlearn: 0.0649007\ttotal: 1.14s\tremaining: 170ms\n",
      "870:\tlearn: 0.0647975\ttotal: 1.14s\tremaining: 168ms\n",
      "871:\tlearn: 0.0647237\ttotal: 1.14s\tremaining: 167ms\n",
      "872:\tlearn: 0.0646240\ttotal: 1.14s\tremaining: 166ms\n",
      "873:\tlearn: 0.0646029\ttotal: 1.14s\tremaining: 164ms\n",
      "874:\tlearn: 0.0645363\ttotal: 1.14s\tremaining: 163ms\n",
      "875:\tlearn: 0.0644442\ttotal: 1.14s\tremaining: 162ms\n",
      "876:\tlearn: 0.0644189\ttotal: 1.14s\tremaining: 160ms\n",
      "877:\tlearn: 0.0643747\ttotal: 1.14s\tremaining: 159ms\n",
      "878:\tlearn: 0.0642990\ttotal: 1.14s\tremaining: 158ms\n",
      "879:\tlearn: 0.0641919\ttotal: 1.15s\tremaining: 156ms\n",
      "880:\tlearn: 0.0641109\ttotal: 1.15s\tremaining: 155ms\n",
      "881:\tlearn: 0.0640181\ttotal: 1.15s\tremaining: 154ms\n",
      "882:\tlearn: 0.0639725\ttotal: 1.15s\tremaining: 152ms\n",
      "883:\tlearn: 0.0638976\ttotal: 1.15s\tremaining: 151ms\n",
      "884:\tlearn: 0.0638851\ttotal: 1.15s\tremaining: 150ms\n",
      "885:\tlearn: 0.0638000\ttotal: 1.15s\tremaining: 148ms\n",
      "886:\tlearn: 0.0637345\ttotal: 1.15s\tremaining: 147ms\n",
      "887:\tlearn: 0.0636887\ttotal: 1.15s\tremaining: 146ms\n",
      "888:\tlearn: 0.0636504\ttotal: 1.15s\tremaining: 144ms\n",
      "889:\tlearn: 0.0635199\ttotal: 1.16s\tremaining: 143ms\n",
      "890:\tlearn: 0.0634714\ttotal: 1.16s\tremaining: 142ms\n",
      "891:\tlearn: 0.0634427\ttotal: 1.16s\tremaining: 140ms\n",
      "892:\tlearn: 0.0632502\ttotal: 1.16s\tremaining: 139ms\n",
      "893:\tlearn: 0.0631019\ttotal: 1.16s\tremaining: 137ms\n",
      "894:\tlearn: 0.0630268\ttotal: 1.16s\tremaining: 136ms\n",
      "895:\tlearn: 0.0629876\ttotal: 1.16s\tremaining: 135ms\n",
      "896:\tlearn: 0.0629418\ttotal: 1.16s\tremaining: 133ms\n",
      "897:\tlearn: 0.0628474\ttotal: 1.16s\tremaining: 132ms\n",
      "898:\tlearn: 0.0627265\ttotal: 1.16s\tremaining: 131ms\n",
      "899:\tlearn: 0.0626542\ttotal: 1.16s\tremaining: 129ms\n",
      "900:\tlearn: 0.0626131\ttotal: 1.17s\tremaining: 128ms\n",
      "901:\tlearn: 0.0625086\ttotal: 1.17s\tremaining: 127ms\n",
      "902:\tlearn: 0.0623767\ttotal: 1.17s\tremaining: 125ms\n",
      "903:\tlearn: 0.0623407\ttotal: 1.17s\tremaining: 124ms\n",
      "904:\tlearn: 0.0622924\ttotal: 1.17s\tremaining: 123ms\n",
      "905:\tlearn: 0.0621418\ttotal: 1.17s\tremaining: 122ms\n",
      "906:\tlearn: 0.0621260\ttotal: 1.17s\tremaining: 120ms\n",
      "907:\tlearn: 0.0621062\ttotal: 1.17s\tremaining: 119ms\n",
      "908:\tlearn: 0.0620931\ttotal: 1.17s\tremaining: 118ms\n",
      "909:\tlearn: 0.0619372\ttotal: 1.18s\tremaining: 116ms\n",
      "910:\tlearn: 0.0618895\ttotal: 1.18s\tremaining: 115ms\n",
      "911:\tlearn: 0.0618750\ttotal: 1.18s\tremaining: 114ms\n",
      "912:\tlearn: 0.0618610\ttotal: 1.18s\tremaining: 112ms\n",
      "913:\tlearn: 0.0617357\ttotal: 1.18s\tremaining: 111ms\n",
      "914:\tlearn: 0.0617071\ttotal: 1.18s\tremaining: 110ms\n",
      "915:\tlearn: 0.0616651\ttotal: 1.18s\tremaining: 108ms\n",
      "916:\tlearn: 0.0616513\ttotal: 1.18s\tremaining: 107ms\n",
      "917:\tlearn: 0.0615658\ttotal: 1.18s\tremaining: 106ms\n",
      "918:\tlearn: 0.0615012\ttotal: 1.19s\tremaining: 104ms\n",
      "919:\tlearn: 0.0613856\ttotal: 1.19s\tremaining: 103ms\n",
      "920:\tlearn: 0.0613189\ttotal: 1.19s\tremaining: 102ms\n",
      "921:\tlearn: 0.0612082\ttotal: 1.19s\tremaining: 100ms\n",
      "922:\tlearn: 0.0611239\ttotal: 1.19s\tremaining: 99.2ms\n",
      "923:\tlearn: 0.0610565\ttotal: 1.19s\tremaining: 97.8ms\n",
      "924:\tlearn: 0.0609544\ttotal: 1.19s\tremaining: 96.5ms\n",
      "925:\tlearn: 0.0608157\ttotal: 1.19s\tremaining: 95.2ms\n",
      "926:\tlearn: 0.0607012\ttotal: 1.19s\tremaining: 93.9ms\n",
      "927:\tlearn: 0.0606011\ttotal: 1.19s\tremaining: 92.6ms\n",
      "928:\tlearn: 0.0605639\ttotal: 1.19s\tremaining: 91.3ms\n",
      "929:\tlearn: 0.0604137\ttotal: 1.2s\tremaining: 90ms\n",
      "930:\tlearn: 0.0603174\ttotal: 1.2s\tremaining: 88.7ms\n",
      "931:\tlearn: 0.0602131\ttotal: 1.2s\tremaining: 87.3ms\n",
      "932:\tlearn: 0.0601518\ttotal: 1.2s\tremaining: 86ms\n",
      "933:\tlearn: 0.0600820\ttotal: 1.2s\tremaining: 84.7ms\n",
      "934:\tlearn: 0.0600103\ttotal: 1.2s\tremaining: 83.4ms\n",
      "935:\tlearn: 0.0599462\ttotal: 1.2s\tremaining: 82.1ms\n",
      "936:\tlearn: 0.0598923\ttotal: 1.2s\tremaining: 80.8ms\n",
      "937:\tlearn: 0.0598465\ttotal: 1.2s\tremaining: 79.5ms\n",
      "938:\tlearn: 0.0597280\ttotal: 1.2s\tremaining: 78.2ms\n",
      "939:\tlearn: 0.0596492\ttotal: 1.2s\tremaining: 76.9ms\n",
      "940:\tlearn: 0.0595571\ttotal: 1.21s\tremaining: 75.6ms\n",
      "941:\tlearn: 0.0594609\ttotal: 1.21s\tremaining: 74.3ms\n",
      "942:\tlearn: 0.0593807\ttotal: 1.21s\tremaining: 73ms\n",
      "943:\tlearn: 0.0592650\ttotal: 1.21s\tremaining: 71.7ms\n",
      "944:\tlearn: 0.0592444\ttotal: 1.21s\tremaining: 70.4ms\n",
      "945:\tlearn: 0.0591683\ttotal: 1.21s\tremaining: 69.1ms\n",
      "946:\tlearn: 0.0591165\ttotal: 1.21s\tremaining: 67.8ms\n",
      "947:\tlearn: 0.0590842\ttotal: 1.21s\tremaining: 66.5ms\n",
      "948:\tlearn: 0.0589905\ttotal: 1.21s\tremaining: 65.2ms\n",
      "949:\tlearn: 0.0589745\ttotal: 1.21s\tremaining: 63.9ms\n",
      "950:\tlearn: 0.0589042\ttotal: 1.22s\tremaining: 62.6ms\n",
      "951:\tlearn: 0.0587765\ttotal: 1.22s\tremaining: 61.4ms\n",
      "952:\tlearn: 0.0586523\ttotal: 1.22s\tremaining: 60.1ms\n",
      "953:\tlearn: 0.0585864\ttotal: 1.22s\tremaining: 58.8ms\n",
      "954:\tlearn: 0.0585043\ttotal: 1.22s\tremaining: 57.5ms\n",
      "955:\tlearn: 0.0584190\ttotal: 1.22s\tremaining: 56.2ms\n",
      "956:\tlearn: 0.0583665\ttotal: 1.22s\tremaining: 54.9ms\n",
      "957:\tlearn: 0.0583122\ttotal: 1.22s\tremaining: 53.6ms\n",
      "958:\tlearn: 0.0582696\ttotal: 1.22s\tremaining: 52.3ms\n",
      "959:\tlearn: 0.0581882\ttotal: 1.22s\tremaining: 51ms\n",
      "960:\tlearn: 0.0581717\ttotal: 1.23s\tremaining: 49.7ms\n",
      "961:\tlearn: 0.0581592\ttotal: 1.23s\tremaining: 48.4ms\n",
      "962:\tlearn: 0.0580820\ttotal: 1.23s\tremaining: 47.2ms\n",
      "963:\tlearn: 0.0579915\ttotal: 1.23s\tremaining: 45.9ms\n",
      "964:\tlearn: 0.0579813\ttotal: 1.23s\tremaining: 44.6ms\n",
      "965:\tlearn: 0.0579372\ttotal: 1.23s\tremaining: 43.3ms\n",
      "966:\tlearn: 0.0578920\ttotal: 1.23s\tremaining: 42ms\n",
      "967:\tlearn: 0.0577838\ttotal: 1.23s\tremaining: 40.7ms\n",
      "968:\tlearn: 0.0576960\ttotal: 1.23s\tremaining: 39.5ms\n",
      "969:\tlearn: 0.0575857\ttotal: 1.23s\tremaining: 38.2ms\n",
      "970:\tlearn: 0.0575059\ttotal: 1.24s\tremaining: 36.9ms\n",
      "971:\tlearn: 0.0574544\ttotal: 1.24s\tremaining: 35.6ms\n",
      "972:\tlearn: 0.0573134\ttotal: 1.24s\tremaining: 34.3ms\n",
      "973:\tlearn: 0.0571858\ttotal: 1.24s\tremaining: 33ms\n",
      "974:\tlearn: 0.0570625\ttotal: 1.24s\tremaining: 31.8ms\n",
      "975:\tlearn: 0.0570129\ttotal: 1.24s\tremaining: 30.5ms\n"
     ]
    },
    {
     "name": "stdout",
     "output_type": "stream",
     "text": [
      "976:\tlearn: 0.0569771\ttotal: 1.24s\tremaining: 29.2ms\n",
      "977:\tlearn: 0.0569036\ttotal: 1.24s\tremaining: 27.9ms\n",
      "978:\tlearn: 0.0567654\ttotal: 1.24s\tremaining: 26.7ms\n",
      "979:\tlearn: 0.0566896\ttotal: 1.24s\tremaining: 25.4ms\n",
      "980:\tlearn: 0.0565511\ttotal: 1.24s\tremaining: 24.1ms\n",
      "981:\tlearn: 0.0565156\ttotal: 1.25s\tremaining: 22.8ms\n",
      "982:\tlearn: 0.0564782\ttotal: 1.25s\tremaining: 21.6ms\n",
      "983:\tlearn: 0.0563981\ttotal: 1.25s\tremaining: 20.3ms\n",
      "984:\tlearn: 0.0563531\ttotal: 1.25s\tremaining: 19ms\n",
      "985:\tlearn: 0.0562813\ttotal: 1.25s\tremaining: 17.7ms\n",
      "986:\tlearn: 0.0562696\ttotal: 1.25s\tremaining: 16.5ms\n",
      "987:\tlearn: 0.0561567\ttotal: 1.25s\tremaining: 15.2ms\n",
      "988:\tlearn: 0.0561182\ttotal: 1.25s\tremaining: 13.9ms\n",
      "989:\tlearn: 0.0560290\ttotal: 1.25s\tremaining: 12.7ms\n",
      "990:\tlearn: 0.0559517\ttotal: 1.25s\tremaining: 11.4ms\n",
      "991:\tlearn: 0.0559192\ttotal: 1.25s\tremaining: 10.1ms\n",
      "992:\tlearn: 0.0558173\ttotal: 1.26s\tremaining: 8.86ms\n",
      "993:\tlearn: 0.0557493\ttotal: 1.26s\tremaining: 7.59ms\n",
      "994:\tlearn: 0.0556479\ttotal: 1.26s\tremaining: 6.32ms\n",
      "995:\tlearn: 0.0556349\ttotal: 1.26s\tremaining: 5.06ms\n",
      "996:\tlearn: 0.0555037\ttotal: 1.26s\tremaining: 3.79ms\n",
      "997:\tlearn: 0.0554343\ttotal: 1.26s\tremaining: 2.53ms\n",
      "998:\tlearn: 0.0553940\ttotal: 1.26s\tremaining: 1.26ms\n",
      "999:\tlearn: 0.0553408\ttotal: 1.26s\tremaining: 0us\n"
     ]
    },
    {
     "data": {
      "text/plain": [
       "<catboost.core.CatBoostRegressor at 0x7fd1399a8130>"
      ]
     },
     "execution_count": 9,
     "metadata": {},
     "output_type": "execute_result"
    }
   ],
   "source": [
    "#Train the Model \n",
    "prior_model = ctb.CatBoostRegressor()\n",
    "prior_model.fit(X_train,Y_train)"
   ]
  },
  {
   "cell_type": "code",
   "execution_count": 10,
   "id": "af65dcda",
   "metadata": {
    "execution": {
     "iopub.execute_input": "2022-06-12T06:49:58.201178Z",
     "iopub.status.busy": "2022-06-12T06:49:58.200666Z",
     "iopub.status.idle": "2022-06-12T06:49:58.208631Z",
     "shell.execute_reply": "2022-06-12T06:49:58.208933Z"
    },
    "id": "af65dcda",
    "papermill": {
     "duration": 0.04203,
     "end_time": "2022-06-12T06:49:58.209056",
     "exception": false,
     "start_time": "2022-06-12T06:49:58.167026",
     "status": "completed"
    },
    "tags": []
   },
   "outputs": [
    {
     "data": {
      "application/scrapbook.scrap.json+json": {
       "data": 0.11365270549152669,
       "encoder": "json",
       "name": "Prior Model MSE",
       "version": 1
      }
     },
     "metadata": {
      "scrapbook": {
       "data": true,
       "display": false,
       "name": "Prior Model MSE"
      }
     },
     "output_type": "display_data"
    },
    {
     "data": {
      "application/scrapbook.scrap.json+json": {
       "data": 1.0087340240690157,
       "encoder": "json",
       "name": "ABC Pre-generator MSE",
       "version": 1
      }
     },
     "metadata": {
      "scrapbook": {
       "data": true,
       "display": false,
       "name": "ABC Pre-generator MSE"
      }
     },
     "output_type": "display_data"
    },
    {
     "data": {
      "application/scrapbook.scrap.json+json": {
       "data": 0.24133948293529137,
       "encoder": "json",
       "name": "Prior Model MSE",
       "version": 1
      }
     },
     "metadata": {
      "scrapbook": {
       "data": true,
       "display": false,
       "name": "Prior Model MSE"
      }
     },
     "output_type": "display_data"
    },
    {
     "data": {
      "application/scrapbook.scrap.json+json": {
       "data": 0.9582316764685408,
       "encoder": "json",
       "name": "ABC Pre-generator MSE",
       "version": 1
      }
     },
     "metadata": {
      "scrapbook": {
       "data": true,
       "display": false,
       "name": "ABC Pre-generator MSE"
      }
     },
     "output_type": "display_data"
    }
   ],
   "source": [
    "y_pred = prior_model.predict(X_test)\n",
    "y_abc = y_pred + np.random.normal(0,variance, y_pred.shape) + bias \n",
    "mse = mean_squared_error(y_pred,Y_test)\n",
    "sb.glue(\"Prior Model MSE\",mse)\n",
    "mse = mean_squared_error(y_abc,Y_test)\n",
    "sb.glue(\"ABC Pre-generator MSE\",mse)\n",
    "mae = mean_absolute_error(y_pred,Y_test)\n",
    "sb.glue(\"Prior Model MSE\",mae)\n",
    "mae = mean_absolute_error(y_abc,Y_test)\n",
    "sb.glue(\"ABC Pre-generator MSE\",mae)"
   ]
  },
  {
   "cell_type": "markdown",
   "id": "25609da2",
   "metadata": {
    "papermill": {
     "duration": 0.011255,
     "end_time": "2022-06-12T06:49:58.231596",
     "exception": false,
     "start_time": "2022-06-12T06:49:58.220341",
     "status": "completed"
    },
    "tags": []
   },
   "source": [
    "# ABC GAN Model"
   ]
  },
  {
   "cell_type": "code",
   "execution_count": 11,
   "id": "dfc3464d",
   "metadata": {
    "execution": {
     "iopub.execute_input": "2022-06-12T06:49:58.260890Z",
     "iopub.status.busy": "2022-06-12T06:49:58.260037Z",
     "iopub.status.idle": "2022-06-12T06:49:58.263429Z",
     "shell.execute_reply": "2022-06-12T06:49:58.263135Z"
    },
    "papermill": {
     "duration": 0.021005,
     "end_time": "2022-06-12T06:49:58.263541",
     "exception": false,
     "start_time": "2022-06-12T06:49:58.242536",
     "status": "completed"
    },
    "tags": []
   },
   "outputs": [],
   "source": [
    "gen = network.Generator(n_features+1).to(device)\n",
    "disc = network.Discriminator(n_features+1).to(device)\n",
    "\n",
    "criterion = torch.nn.BCELoss()\n",
    "gen_opt = torch.optim.Adam(gen.parameters(), lr=0.001, betas=(0.5, 0.999))\n",
    "disc_opt = torch.optim.Adam(disc.parameters(), lr=0.001, betas=(0.5, 0.999))"
   ]
  },
  {
   "cell_type": "code",
   "execution_count": 12,
   "id": "b75fdd85",
   "metadata": {
    "execution": {
     "iopub.execute_input": "2022-06-12T06:49:58.290410Z",
     "iopub.status.busy": "2022-06-12T06:49:58.289993Z",
     "iopub.status.idle": "2022-06-12T06:51:01.637144Z",
     "shell.execute_reply": "2022-06-12T06:51:01.636874Z"
    },
    "papermill": {
     "duration": 63.361619,
     "end_time": "2022-06-12T06:51:01.637255",
     "exception": false,
     "start_time": "2022-06-12T06:49:58.275636",
     "status": "completed"
    },
    "tags": []
   },
   "outputs": [
    {
     "data": {
      "image/png": "[encoded data removed]",
      "text/plain": [
       "<Figure size 432x288 with 1 Axes>"
      ]
     },
     "metadata": {
      "needs_background": "light"
     },
     "output_type": "display_data"
    },
    {
     "data": {
      "image/png": "[encoded data removed]",
      "text/plain": [
       "<Figure size 432x288 with 1 Axes>"
      ]
     },
     "metadata": {
      "needs_background": "light"
     },
     "output_type": "display_data"
    }
   ],
   "source": [
    "#Training the ABC_GAN \n",
    "ABC_train_test2.training_GAN(disc,gen,disc_opt,gen_opt,train_data,batch_size,n_epochs,criterion,prior_model,variance,bias,device)"
   ]
  },
  {
   "cell_type": "code",
   "execution_count": 13,
   "id": "1fa7c368",
   "metadata": {
    "execution": {
     "iopub.execute_input": "2022-06-12T06:51:01.662609Z",
     "iopub.status.busy": "2022-06-12T06:51:01.662226Z",
     "iopub.status.idle": "2022-06-12T06:51:01.974321Z",
     "shell.execute_reply": "2022-06-12T06:51:01.974624Z"
    },
    "papermill": {
     "duration": 0.326145,
     "end_time": "2022-06-12T06:51:01.974743",
     "exception": false,
     "start_time": "2022-06-12T06:51:01.648598",
     "status": "completed"
    },
    "tags": []
   },
   "outputs": [
    {
     "data": {
      "application/scrapbook.scrap.json+json": {
       "data": 0.12903936217946965,
       "encoder": "json",
       "name": "ABC-GAN Model 1 MSE",
       "version": 1
      }
     },
     "metadata": {
      "scrapbook": {
       "data": true,
       "display": false,
       "name": "ABC-GAN Model 1 MSE"
      }
     },
     "output_type": "display_data"
    },
    {
     "data": {
      "application/scrapbook.scrap.json+json": {
       "data": 0.24454286731377828,
       "encoder": "json",
       "name": "ABC-GAN Model 1 MAE",
       "version": 1
      }
     },
     "metadata": {
      "scrapbook": {
       "data": true,
       "display": false,
       "name": "ABC-GAN Model 1 MAE"
      }
     },
     "output_type": "display_data"
    },
    {
     "data": {
      "application/scrapbook.scrap.json+json": {
       "data": 24.943372466005385,
       "encoder": "json",
       "name": "ABC-GAN Model 1 Manhattan Distance",
       "version": 1
      }
     },
     "metadata": {
      "scrapbook": {
       "data": true,
       "display": false,
       "name": "ABC-GAN Model 1 Manhattan Distance"
      }
     },
     "output_type": "display_data"
    },
    {
     "data": {
      "application/scrapbook.scrap.json+json": {
       "data": 3.6279354218019764,
       "encoder": "json",
       "name": "ABC-GAN Model 1 Euclidean distance",
       "version": 1
      }
     },
     "metadata": {
      "scrapbook": {
       "data": true,
       "display": false,
       "name": "ABC-GAN Model 1 Euclidean distance"
      }
     },
     "output_type": "display_data"
    },
    {
     "data": {
      "application/scrapbook.scrap.json+json": {
       "data": [
        [
         0.12945996661994225,
         0.1289974932233339,
         0.12961507964448304,
         0.12844237718419385,
         0.12981779271105587,
         0.1293352502432522,
         0.12917086462399147,
         0.12774724085623462,
         0.12880647066943485,
         0.12883147202889547,
         0.1286900195501431,
         0.12792238156972144,
         0.1296957578205434,
         0.1296170049568994,
         0.12888424237776402,
         0.12874212827510967,
         0.12867752912298172,
         0.12886905388199324,
         0.12993285779296396,
         0.1303876238631402,
         0.12904627997527815,
         0.12911250749053438,
         0.12950225152064732,
         0.12858205133238787,
         0.12809986124401163,
         0.12915623385076247,
         0.12864574863356054,
         0.12902151279262886,
         0.12780682840583302,
         0.12861492091617635,
         0.12834809765993088,
         0.1294361433016913,
         0.13026921517496234,
         0.12883009567140874,
         0.12828783172913422,
         0.12947164686838986,
         0.12876146330569532,
         0.12986959653484145,
         0.12936750730087287,
         0.12879914161200884,
         0.1302744092472224,
         0.12976596087542813,
         0.1278227705228887,
         0.1297015229871943,
         0.12880283746573332,
         0.12829553553186995,
         0.12835897553590456,
         0.12849129721763858,
         0.12933091860269355,
         0.12905954511168716,
         0.12980772623407807,
         0.1274337486159216,
         0.12780145794325948,
         0.1281751468148423,
         0.12890568682769818,
         0.12928233748460766,
         0.12885674300470765,
         0.12817665423078964,
         0.12838255864604597,
         0.1289775161155601,
         0.1301037238304118,
         0.1276849208245714,
         0.1280092553530739,
         0.12902412320221937,
         0.13081721176067987,
         0.13095169729377376,
         0.12897832203066664,
         0.1288972449561151,
         0.12863717585870943,
         0.1285017739494205,
         0.12853054283320026,
         0.12867696291963826,
         0.12958190514731482,
         0.1306269039840135,
         0.12976170015803984,
         0.128823953425567,
         0.12924785777714998,
         0.12928217678067466,
         0.12920368492921588,
         0.12938862388210856,
         0.13013286843005376,
         0.12837739955436894,
         0.1292386038375742,
         0.12979921870135075,
         0.12996843258824436,
         0.12844791659734434,
         0.1278738104163174,
         0.12913329304690202,
         0.1286493968825624,
         0.12991462336346377,
         0.12858946616197442,
         0.12910211201657548,
         0.1301278211327824,
         0.129122320175355,
         0.12914354408280382,
         0.12913536723215535,
         0.12932942419492685,
         0.1286007122807892,
         0.1291488026455036,
         0.12899643235674663
        ],
        [
         0.243101190866939,
         0.2442903491832754,
         0.24395143640611103,
         0.2442207437775591,
         0.245716583768965,
         0.24495200126194486,
         0.24448284318707153,
         0.24420329970398955,
         0.2460493712192949,
         0.24477797412477872,
         0.24557249505511103,
         0.24297426781598844,
         0.24549763731877594,
         0.24454086714004183,
         0.24473114079777517,
         0.24346550000721917,
         0.24487972538918257,
         0.24470090981134596,
         0.24666845869711218,
         0.24663221834263965,
         0.24536749638397903,
         0.2444783203559471,
         0.24514419726077832,
         0.24364438278637096,
         0.2443086934257664,
         0.2459707435622227,
         0.24397603844237678,
         0.2447742080023768,
         0.2426055833952976,
         0.2436735817578201,
         0.24335599462410398,
         0.2446173718929583,
         0.24494205121243118,
         0.2449041337103528,
         0.2434786209909647,
         0.24538967701807327,
         0.2436382095055545,
         0.2465549797805793,
         0.2454536852846835,
         0.2453128223070035,
         0.2470893774218127,
         0.2459320622660658,
         0.24313735258856825,
         0.24547906660054827,
         0.2439426405574469,
         0.2433327157598208,
         0.24459013231463878,
         0.2439410964246182,
         0.24486355112829045,
         0.2450604395867855,
         0.24303968351188243,
         0.24258447126211488,
         0.2433303793453995,
         0.2436069901484777,
         0.2445329235063172,
         0.24514209637966225,
         0.24299413986577123,
         0.24341158132415777,
         0.24363636661905283,
         0.24469827562935798,
         0.2464832631944149,
         0.24376798800978006,
         0.24445062256692088,
         0.24468532812726848,
         0.2450681913680598,
         0.2445261818995955,
         0.24399759611297472,
         0.24322084364864757,
         0.24422827160314603,
         0.24409808176478334,
         0.24366888727116234,
         0.24399073193689771,
         0.24511373395501984,
         0.24509381621564721,
         0.24533410120171076,
         0.24437026549861127,
         0.24464894515261346,
         0.24504272937409433,
         0.24474263965499168,
         0.24426034598739124,
         0.24514000035603256,
         0.24399148093938244,
         0.24423085052666127,
         0.24401178567067666,
         0.24495334877614297,
         0.24384502305046601,
         0.24232984018311196,
         0.24416288764526448,
         0.244297278259753,
         0.2456646329522425,
         0.24446356911942654,
         0.24422538183702558,
         0.24710786337142482,
         0.2445788589653139,
         0.24574068402323654,
         0.2444306951125755,
         0.24439062523272106,
         0.24486830784920968,
         0.24453284193341637,
         0.24518306321446218
        ],
        [
         24.796321468427777,
         24.917615616694093,
         24.883046513423324,
         24.910515865311027,
         25.063091544434428,
         24.985104128718376,
         24.937250005081296,
         24.908736569806933,
         25.09703586436808,
         24.96735336072743,
         25.048394495621324,
         24.78337531723082,
         25.040759006515145,
         24.94316844828427,
         24.962576361373067,
         24.833481000736356,
         24.977731989696622,
         24.95949280075729,
         25.16018278710544,
         25.156486270949244,
         25.027484631165862,
         24.936788676306605,
         25.00470812059939,
         24.851727044209838,
         24.919486729428172,
         25.089015843346715,
         24.88555592112243,
         24.966969216242433,
         24.745769506320357,
         24.854705339297652,
         24.822311451658607,
         24.950971933081746,
         24.98408922366798,
         24.980221638455987,
         24.8348193410784,
         25.029747055843472,
         24.85109736956656,
         25.14860793761909,
         25.03627589903772,
         25.021907875314355,
         25.203116497024894,
         25.08507035113871,
         24.80000996403396,
         25.038864793255925,
         24.882149336859584,
         24.81993700750172,
         24.948193496093154,
         24.881991835311055,
         24.976082215085626,
         24.99616483785212,
         24.79004771821201,
         24.74361606873572,
         24.819698693230748,
         24.847912995144725,
         24.942358197644353,
         25.00449383072555,
         24.785402266308665,
         24.82798129506409,
         24.85090939514339,
         24.959224114194512,
         25.14129284583032,
         24.864334776997566,
         24.93396350182593,
         24.957903468981385,
         24.996955519542098,
         24.94167055375874,
         24.88775480352342,
         24.80852605216205,
         24.911283703520894,
         24.8980043400079,
         24.85422650165856,
         24.887054657563567,
         25.001600863412023,
         24.999569253996015,
         25.024078322574496,
         24.92576708085835,
         24.954192405566573,
         24.994358396157622,
         24.96374924480915,
         24.914555290713906,
         25.004280036315322,
         24.887131055817008,
         24.91154675371945,
         24.88920213840902,
         24.985241575166583,
         24.872192351147532,
         24.71764369867742,
         24.904614539816976,
         24.918322382494807,
         25.057792561128736,
         24.935284050181508,
         24.91098894737661,
         25.20500206388533,
         24.947043614462018,
         25.065549770370126,
         24.9319309014827,
         24.92784377373755,
         24.976567400619388,
         24.94234987720847,
         25.008672447875142
        ],
        [
         3.633856986073353,
         3.6273605154133843,
         3.6360332951909657,
         3.6195472745618025,
         3.6388754934083276,
         3.6321062105631943,
         3.62979726591543,
         3.60973940435261,
         3.624673779567252,
         3.625025537420024,
         3.623034914835157,
         3.6122130225267153,
         3.637164733373432,
         3.6360603000505556,
         3.6257678803988447,
         3.6237683540840715,
         3.622859087867501,
         3.6255542329364365,
         3.6404878100169933,
         3.6468531138558764,
         3.628046383038449,
         3.6289772338820896,
         3.6344503924398284,
         3.621514770907825,
         3.6147179484558936,
         3.629591692295122,
         3.622411677408184,
         3.627698210277164,
         3.610581185542705,
         3.621977627408815,
         3.6182186171254145,
         3.6335226181726887,
         3.645196832524432,
         3.6250061735787007,
         3.617369048959712,
         3.634020910861104,
         3.6240404602019725,
         3.639601468094251,
         3.6325591178519083,
         3.6245706565640163,
         3.645269502137898,
         3.638148981184479,
         3.6108063633120295,
         3.6372455711284895,
         3.6246226591887876,
         3.6174776605047243,
         3.618371941172198,
         3.6202365000368597,
         3.6320453875846246,
         3.6282328482874533,
         3.638734405789458,
         3.60530752624849,
         3.610505326157609,
         3.6157799953971086,
         3.626069505183983,
         3.6313631632528818,
         3.6253810539693863,
         3.6158012571960514,
         3.618704323635282,
         3.627079630196603,
         3.6428807049781367,
         3.6088588118830973,
         3.613439365205058,
         3.627734908538161,
         3.65285581423485,
         3.6547329757404876,
         3.6270909620697402,
         3.625950769870399,
         3.6222909791440503,
         3.6203840877510345,
         3.620789329550454,
         3.6228511172560074,
         3.635567950819529,
         3.650197831127701,
         3.638089253457104,
         3.6249197576508956,
         3.630878887166205,
         3.631360906275885,
         3.63025837410783,
         3.6328555759863437,
         3.643288703886295,
         3.6186316135447703,
         3.6307489022834627,
         3.6386151634293196,
         3.6409861471860787,
         3.619625324937531,
         3.6115271925411787,
         3.629269332907658,
         3.622463040808196,
         3.6402323528963514,
         3.6216191887774984,
         3.628831137665501,
         3.643218049409588,
         3.6291151342835914,
         3.629413381862969,
         3.6292984801032615,
         3.632024403536207,
         3.6217775542736605,
         3.6294872736849992,
         3.627345599799964
        ]
       ],
       "encoder": "json",
       "name": "ABC_GAN_1 Metrics",
       "version": 1
      }
     },
     "metadata": {
      "scrapbook": {
       "data": true,
       "display": false,
       "name": "ABC_GAN_1 Metrics"
      }
     },
     "output_type": "display_data"
    },
    {
     "name": "stdout",
     "output_type": "stream",
     "text": [
      "MSE\n",
      "0.12903936217946965\n"
     ]
    }
   ],
   "source": [
    "ABC_GAN1_metrics=ABC_train_test2.test_generator(gen,test_data,prior_model,variance,bias,\"1\",device)\n",
    "sb.glue(\"ABC_GAN_1 Metrics\",ABC_GAN1_metrics)\n",
    "\n",
    "print(\"MSE\")\n",
    "print(mean(ABC_GAN1_metrics[0]))"
   ]
  },
  {
   "cell_type": "code",
   "execution_count": 14,
   "id": "eb22ce5c",
   "metadata": {
    "execution": {
     "iopub.execute_input": "2022-06-12T06:51:02.004065Z",
     "iopub.status.busy": "2022-06-12T06:51:02.003653Z",
     "iopub.status.idle": "2022-06-12T06:51:02.318568Z",
     "shell.execute_reply": "2022-06-12T06:51:02.318882Z"
    },
    "papermill": {
     "duration": 0.33088,
     "end_time": "2022-06-12T06:51:02.319004",
     "exception": false,
     "start_time": "2022-06-12T06:51:01.988124",
     "status": "completed"
    },
    "tags": []
   },
   "outputs": [
    {
     "data": {
      "image/png": "[encoded data removed]",
      "text/plain": [
       "<Figure size 432x288 with 1 Axes>"
      ]
     },
     "metadata": {
      "needs_background": "light"
     },
     "output_type": "display_data"
    },
    {
     "data": {
      "image/png": "[encoded data removed]",
      "text/plain": [
       "<Figure size 432x288 with 1 Axes>"
      ]
     },
     "metadata": {
      "needs_background": "light"
     },
     "output_type": "display_data"
    },
    {
     "data": {
      "image/png": "[encoded data removed]",
      "text/plain": [
       "<Figure size 432x288 with 1 Axes>"
      ]
     },
     "metadata": {
      "needs_background": "light"
     },
     "output_type": "display_data"
    },
    {
     "data": {
      "image/png": "[encoded data removed]",
      "text/plain": [
       "<Figure size 432x288 with 1 Axes>"
      ]
     },
     "metadata": {
      "needs_background": "light"
     },
     "output_type": "display_data"
    }
   ],
   "source": [
    "sanityChecks.discProbVsError(train_data,disc,device)\n",
    "sanityChecks.discProbVsError(test_data,disc,device)"
   ]
  },
  {
   "cell_type": "markdown",
   "id": "130f3a4d",
   "metadata": {
    "id": "130f3a4d",
    "papermill": {
     "duration": 0.01507,
     "end_time": "2022-06-12T06:51:02.349595",
     "exception": false,
     "start_time": "2022-06-12T06:51:02.334525",
     "status": "completed"
    },
    "tags": []
   },
   "source": [
    "# ABC - GAN Model with skip connection"
   ]
  },
  {
   "cell_type": "code",
   "execution_count": 15,
   "id": "4e43dad1",
   "metadata": {
    "execution": {
     "iopub.execute_input": "2022-06-12T06:51:02.383822Z",
     "iopub.status.busy": "2022-06-12T06:51:02.383307Z",
     "iopub.status.idle": "2022-06-12T06:51:02.385125Z",
     "shell.execute_reply": "2022-06-12T06:51:02.385364Z"
    },
    "id": "4e43dad1",
    "papermill": {
     "duration": 0.020742,
     "end_time": "2022-06-12T06:51:02.385487",
     "exception": false,
     "start_time": "2022-06-12T06:51:02.364745",
     "status": "completed"
    },
    "tags": []
   },
   "outputs": [],
   "source": [
    "#Generator\n",
    "gen3 = network.GeneratorWithSkipConnection(n_features+1).to(device)\n",
    "constraints=network.weightConstraint()\n",
    "#Discriminator \n",
    "disc3 = network.Discriminator(n_features+1).to(device)\n",
    "\n",
    "criterion = torch.nn.BCELoss()\n",
    "gen_opt = torch.optim.Adam(gen3.parameters(), lr=0.001, betas=(0.5, 0.999))\n",
    "disc_opt = torch.optim.Adam(disc3.parameters(), lr=0.001, betas=(0.5, 0.999))\n"
   ]
  },
  {
   "cell_type": "code",
   "execution_count": 16,
   "id": "26acbc37",
   "metadata": {
    "execution": {
     "iopub.execute_input": "2022-06-12T06:51:02.423616Z",
     "iopub.status.busy": "2022-06-12T06:51:02.423222Z",
     "iopub.status.idle": "2022-06-12T06:53:55.980609Z",
     "shell.execute_reply": "2022-06-12T06:53:55.980913Z"
    },
    "id": "26acbc37",
    "papermill": {
     "duration": 173.579518,
     "end_time": "2022-06-12T06:53:55.981039",
     "exception": false,
     "start_time": "2022-06-12T06:51:02.401521",
     "status": "completed"
    },
    "tags": []
   },
   "outputs": [
    {
     "data": {
      "image/png": "[encoded data removed]",
      "text/plain": [
       "<Figure size 432x288 with 1 Axes>"
      ]
     },
     "metadata": {
      "needs_background": "light"
     },
     "output_type": "display_data"
    },
    {
     "data": {
      "image/png": "[encoded data removed]",
      "text/plain": [
       "<Figure size 432x288 with 1 Axes>"
      ]
     },
     "metadata": {
      "needs_background": "light"
     },
     "output_type": "display_data"
    }
   ],
   "source": [
    "ABC_train_test2.training_GAN_skip_connection(disc3,gen3,disc_opt,gen_opt,train_data,batch_size,n_epochs,criterion,prior_model,variance,bias,device)"
   ]
  },
  {
   "cell_type": "code",
   "execution_count": 17,
   "id": "c5e0717b",
   "metadata": {
    "execution": {
     "iopub.execute_input": "2022-06-12T06:53:56.015780Z",
     "iopub.status.busy": "2022-06-12T06:53:56.015391Z",
     "iopub.status.idle": "2022-06-12T06:53:56.832026Z",
     "shell.execute_reply": "2022-06-12T06:53:56.832352Z"
    },
    "id": "c5e0717b",
    "papermill": {
     "duration": 0.835343,
     "end_time": "2022-06-12T06:53:56.832470",
     "exception": false,
     "start_time": "2022-06-12T06:53:55.997127",
     "status": "completed"
    },
    "tags": []
   },
   "outputs": [
    {
     "data": {
      "application/scrapbook.scrap.json+json": {
       "data": 0.14177936340410574,
       "encoder": "json",
       "name": "ABC-GAN Model 3 MSE",
       "version": 1
      }
     },
     "metadata": {
      "scrapbook": {
       "data": true,
       "display": false,
       "name": "ABC-GAN Model 3 MSE"
      }
     },
     "output_type": "display_data"
    },
    {
     "data": {
      "application/scrapbook.scrap.json+json": {
       "data": 0.27110978308334654,
       "encoder": "json",
       "name": "ABC-GAN Model 3 MAE",
       "version": 1
      }
     },
     "metadata": {
      "scrapbook": {
       "data": true,
       "display": false,
       "name": "ABC-GAN Model 3 MAE"
      }
     },
     "output_type": "display_data"
    },
    {
     "data": {
      "application/scrapbook.scrap.json+json": {
       "data": 27.65319787450135,
       "encoder": "json",
       "name": "ABC-GAN Model 3 Manhattan Distance",
       "version": 1
      }
     },
     "metadata": {
      "scrapbook": {
       "data": true,
       "display": false,
       "name": "ABC-GAN Model 3 Manhattan Distance"
      }
     },
     "output_type": "display_data"
    },
    {
     "data": {
      "application/scrapbook.scrap.json+json": {
       "data": 3.8028160619531826,
       "encoder": "json",
       "name": "ABC-GAN Model 3 Euclidean distance",
       "version": 1
      }
     },
     "metadata": {
      "scrapbook": {
       "data": true,
       "display": false,
       "name": "ABC-GAN Model 3 Euclidean distance"
      }
     },
     "output_type": "display_data"
    },
    {
     "data": {
      "application/scrapbook.scrap.json+json": {
       "data": [
        [
         0.14195940918434374,
         0.14269447869109814,
         0.14210559131367875,
         0.14255459782435204,
         0.14161906000592153,
         0.14104386417929454,
         0.14240052363119643,
         0.1406783393177128,
         0.14213151993995715,
         0.14278309585868515,
         0.1408005128433473,
         0.14097297878815238,
         0.1418259309831506,
         0.14223949085384477,
         0.14200450401801964,
         0.14231153929247048,
         0.1426056186184587,
         0.14217688585728966,
         0.14152468883855512,
         0.1423780781400869,
         0.14193102009150044,
         0.14061760542878982,
         0.14148285688111212,
         0.143143076395297,
         0.14187710351468039,
         0.14167889928857536,
         0.14105187124525004,
         0.14118787628209928,
         0.14211158561875467,
         0.14182450642636105,
         0.14282443113481583,
         0.14273459218317305,
         0.14175217045212682,
         0.14219741550416296,
         0.14109110926477406,
         0.14200613020979755,
         0.1418480762921139,
         0.1417451047152791,
         0.142632204285159,
         0.14256118279633143,
         0.14192648188690113,
         0.14147678980556322,
         0.14102702608000453,
         0.1418348963532287,
         0.14253604168315792,
         0.14055576146657434,
         0.14022606004665,
         0.14257422485271976,
         0.14081423931524362,
         0.14174156835203233,
         0.14250184128869856,
         0.14203870872220992,
         0.1416987316517689,
         0.1409283058841119,
         0.1409521827333163,
         0.1406304910399411,
         0.1419622089742901,
         0.14156550745848592,
         0.14255263519222097,
         0.14157484605006543,
         0.14276595951368676,
         0.14151504909456383,
         0.1410951952404192,
         0.14090027604984767,
         0.1410888914093095,
         0.14134742449963916,
         0.1412789484830436,
         0.14171824559628546,
         0.14328629591212336,
         0.14190911405765824,
         0.14098771132041663,
         0.1418383115235001,
         0.14293398977963215,
         0.14044295499389362,
         0.1404853139468032,
         0.14061161541881576,
         0.1422381004802859,
         0.142492174537895,
         0.14190040368891083,
         0.14249643666156017,
         0.14135852838237745,
         0.14320475763748625,
         0.14111034878225023,
         0.14211153832386408,
         0.14188423737544759,
         0.14130678250758905,
         0.14224587647260079,
         0.14219166075197745,
         0.14164778841785772,
         0.14158753969172486,
         0.14133302465098213,
         0.1416032574539332,
         0.14213468639611468,
         0.1428162562673439,
         0.14106579899190455,
         0.1421412445355222,
         0.14151077141480592,
         0.14135904602663846,
         0.14136544068626603,
         0.14239726840864184
        ],
        [
         0.2714739882515049,
         0.271972509082772,
         0.2698868866096817,
         0.27271276531631455,
         0.27178508300772486,
         0.27024529912673373,
         0.2724958172652359,
         0.27153858610008863,
         0.2724106482175343,
         0.2726365466072571,
         0.27101225970203385,
         0.27103654041375014,
         0.271266154890113,
         0.2712951128133664,
         0.27288934086248573,
         0.27212786844328923,
         0.27265538036019776,
         0.272177172149075,
         0.2715854449928099,
         0.271266231733356,
         0.271494876319433,
         0.27056969024752286,
         0.26999578926274004,
         0.2720079088364454,
         0.27141522785977407,
         0.27086428109118166,
         0.27173985301644776,
         0.27045389507696327,
         0.2721725365731354,
         0.27146740208434705,
         0.27205670093569684,
         0.2727283715069586,
         0.2708340480960175,
         0.2716732963956162,
         0.2704456683211759,
         0.26981918990392895,
         0.2713947744090475,
         0.27150856902567194,
         0.27123318534052254,
         0.271751298423053,
         0.27170448087374954,
         0.2708484830846097,
         0.26991075359504013,
         0.2704914337316272,
         0.2718594300140645,
         0.2710334342520903,
         0.2697156223048474,
         0.27170817285557003,
         0.2702164209685197,
         0.27227751335457845,
         0.2713393054208627,
         0.2723517531309934,
         0.2699984327579538,
         0.2703225248328903,
         0.26964448737528396,
         0.2696029816516766,
         0.2716890854907094,
         0.27033942961590546,
         0.2707362595178625,
         0.27041353966456416,
         0.2721868019514516,
         0.2711678181829698,
         0.27008317536948356,
         0.2709926044860599,
         0.2698574817976823,
         0.27125148455082787,
         0.2699750475768073,
         0.27159712984062295,
         0.272205544836527,
         0.2705696820664932,
         0.27050317438574983,
         0.2716490922349633,
         0.27210216364805023,
         0.2704109437946303,
         0.270015236885086,
         0.27014462059984606,
         0.2701022162777828,
         0.27190743994844313,
         0.2702035787971873,
         0.27110792252728166,
         0.2700563060923242,
         0.27265777170438976,
         0.26978287869589584,
         0.271663438839217,
         0.27115658241525,
         0.27006603903411064,
         0.27082988687370924,
         0.27167122118978526,
         0.2703654527408527,
         0.2709084218367934,
         0.269656757751078,
         0.2709343700176653,
         0.2711043824788694,
         0.27220219149089914,
         0.26962813773356814,
         0.27098713751297954,
         0.2723115161974348,
         0.2698766785838148,
         0.2701623173357517,
         0.2706239168879156
        ],
        [
         27.690346801653504,
         27.741195926442742,
         27.52846243418753,
         27.816702062264085,
         27.722078466787934,
         27.565020510926843,
         27.794573361054063,
         27.69693578220904,
         27.7858861181885,
         27.808927753940225,
         27.643250489607453,
         27.645727122202516,
         27.669147798791528,
         27.672101506963372,
         27.834712767973542,
         27.7570425812155,
         27.810848796740174,
         27.76207155920565,
         27.70171538926661,
         27.669155636802316,
         27.692477384582162,
         27.59810840524733,
         27.539570504799485,
         27.74480670131743,
         27.684353241696954,
         27.62815667130053,
         27.717465007677674,
         27.58629729785025,
         27.76159873045981,
         27.689675012603402,
         27.74978349544108,
         27.81829389370978,
         27.625072905793786,
         27.710676232352853,
         27.585458168759942,
         27.521557370200753,
         27.682266989722848,
         27.69387404061854,
         27.6657849047333,
         27.718632439151406,
         27.713857049122453,
         27.62654527463019,
         27.530896866694093,
         27.590126240625978,
         27.72966186143458,
         27.645410293713212,
         27.510993475094438,
         27.714233631268144,
         27.56207493878901,
         27.772306362167,
         27.676609152927995,
         27.77987881936133,
         27.539840141311288,
         27.572897532954812,
         27.503737712278962,
         27.499504128471017,
         27.71228672005236,
         27.574621820822358,
         27.615098470821977,
         27.582181045785546,
         27.763053799048066,
         27.65911745466292,
         27.548483887687325,
         27.64124565757811,
         27.525463143363595,
         27.66765142418444,
         27.537454852834344,
         27.70290724374354,
         27.764965573325753,
         27.598107570782304,
         27.591323787346482,
         27.708207407966256,
         27.75442069210112,
         27.581916267052293,
         27.54155416227877,
         27.554751301184297,
         27.550426060333848,
         27.734558874741197,
         27.560765037313104,
         27.65300809778273,
         27.54574322141707,
         27.811092713847756,
         27.517853626981378,
         27.709670761600137,
         27.6579714063555,
         27.546735981479287,
         27.62464846111834,
         27.710464561358094,
         27.57727617956698,
         27.63265902735293,
         27.504989290609956,
         27.635305741801858,
         27.65264701284468,
         27.76462353207171,
         27.502070048823953,
         27.640688026323915,
         27.775774652138352,
         27.52742121554911,
         27.556556368246675,
         27.60363952256739
        ],
        [
         3.805241087868554,
         3.8150801861156216,
         3.8071997995896183,
         3.813209799904,
         3.800676797703798,
         3.7929505857957126,
         3.8111485683953648,
         3.788032551392174,
         3.8075471151222313,
         3.81626463673392,
         3.78967707199722,
         3.791997341295421,
         3.8034517165702733,
         3.8089930515941037,
         3.8058454264247255,
         3.8099576123405874,
         3.8138921194867037,
         3.8081547181599045,
         3.799410251806538,
         3.8108481956500007,
         3.804860582115072,
         3.787214775232131,
         3.798848694259016,
         3.821072335394907,
         3.8041378206496934,
         3.8014796760517724,
         3.793058247247926,
         3.7948864779824603,
         3.8072800964879083,
         3.80343261482162,
         3.8168169953183786,
         3.815616385681827,
         3.8024625423686866,
         3.808429647692684,
         3.7935857898572625,
         3.805867218046282,
         3.803748648609108,
         3.802367772974948,
         3.8142476108776964,
         3.8132978699841686,
         3.8047997519533028,
         3.798767242167838,
         3.792724174015355,
         3.8035719301768607,
         3.8129616116192557,
         3.7863818705448318,
         3.7819384083771515,
         3.813472293720962,
         3.789861793014997,
         3.8023203405167343,
         3.81250413920395,
         3.806303756883495,
         3.8017457343279055,
         3.791396470982613,
         3.7917176370080967,
         3.7873882935439807,
         3.8052786120568873,
         3.7999581261858086,
         3.813183550474135,
         3.8000834592291093,
         3.8160356222650815,
         3.7992808540098095,
         3.7936407202742273,
         3.791019408692662,
         3.7935559734567734,
         3.7970300629522526,
         3.7961102124767723,
         3.802007502730776,
         3.8229834139107357,
         3.804566944329031,
         3.792195479492387,
         3.8036177220374037,
         3.818280628440303,
         3.784862138754481,
         3.7854328712280623,
         3.7871341107385157,
         3.808974435328906,
         3.8123748245503473,
         3.804450180547631,
         3.8124318406338933,
         3.797179202382013,
         3.821895508647979,
         3.7938444322071927,
         3.807279462954373,
         3.8042334592261358,
         3.796484138749178,
         3.8090785500177438,
         3.808352583033994,
         3.801062275025428,
         3.800253813701914,
         3.796836645735522,
         3.800464742673083,
         3.8075895278251424,
         3.8167077618372978,
         3.793245509741528,
         3.8076773685047502,
         3.799223431743677,
         3.7971861548674593,
         3.7972720405574227,
         3.8111050074330763
        ]
       ],
       "encoder": "json",
       "name": "ABC_GAN_3 Metrics",
       "version": 1
      }
     },
     "metadata": {
      "scrapbook": {
       "data": true,
       "display": false,
       "name": "ABC_GAN_3 Metrics"
      }
     },
     "output_type": "display_data"
    },
    {
     "name": "stdout",
     "output_type": "stream",
     "text": [
      "MSE\n",
      "0.14177936340410574\n"
     ]
    }
   ],
   "source": [
    "ABC_GAN3_metrics=ABC_train_test2.test_generator(gen3,test_data,prior_model,variance,bias,\"3\",device)\n",
    "sb.glue(\"ABC_GAN_3 Metrics\",ABC_GAN3_metrics)\n",
    "\n",
    "print(\"MSE\")\n",
    "print(mean(ABC_GAN3_metrics[0]))"
   ]
  },
  {
   "cell_type": "code",
   "execution_count": 18,
   "id": "c8e46b48",
   "metadata": {
    "execution": {
     "iopub.execute_input": "2022-06-12T06:53:56.870644Z",
     "iopub.status.busy": "2022-06-12T06:53:56.870266Z",
     "iopub.status.idle": "2022-06-12T06:53:57.203736Z",
     "shell.execute_reply": "2022-06-12T06:53:57.203983Z"
    },
    "id": "c8e46b48",
    "papermill": {
     "duration": 0.353594,
     "end_time": "2022-06-12T06:53:57.204107",
     "exception": false,
     "start_time": "2022-06-12T06:53:56.850513",
     "status": "completed"
    },
    "tags": []
   },
   "outputs": [
    {
     "data": {
      "image/png": "[encoded data removed]",
      "text/plain": [
       "<Figure size 432x288 with 1 Axes>"
      ]
     },
     "metadata": {
      "needs_background": "light"
     },
     "output_type": "display_data"
    },
    {
     "data": {
      "image/png": "[encoded data removed]",
      "text/plain": [
       "<Figure size 432x288 with 1 Axes>"
      ]
     },
     "metadata": {
      "needs_background": "light"
     },
     "output_type": "display_data"
    },
    {
     "data": {
      "image/png": "[encoded data removed]",
      "text/plain": [
       "<Figure size 432x288 with 1 Axes>"
      ]
     },
     "metadata": {
      "needs_background": "light"
     },
     "output_type": "display_data"
    },
    {
     "data": {
      "image/png": "[encoded data removed]",
      "text/plain": [
       "<Figure size 432x288 with 1 Axes>"
      ]
     },
     "metadata": {
      "needs_background": "light"
     },
     "output_type": "display_data"
    }
   ],
   "source": [
    "sanityChecks.discProbVsError(train_data,disc3,device)\n",
    "sanityChecks.discProbVsError(test_data,disc3,device)"
   ]
  },
  {
   "cell_type": "markdown",
   "id": "a5bd74c3",
   "metadata": {
    "id": "a5bd74c3",
    "papermill": {
     "duration": 0.020239,
     "end_time": "2022-06-12T06:53:57.244782",
     "exception": false,
     "start_time": "2022-06-12T06:53:57.224543",
     "status": "completed"
    },
    "tags": []
   },
   "source": [
    "## Skip Connection Model Analysis - ABC-GAN "
   ]
  },
  {
   "cell_type": "markdown",
   "id": "5744a8bf",
   "metadata": {
    "id": "5744a8bf",
    "papermill": {
     "duration": 0.020914,
     "end_time": "2022-06-12T06:53:57.285579",
     "exception": false,
     "start_time": "2022-06-12T06:53:57.264665",
     "status": "completed"
    },
    "tags": []
   },
   "source": [
    "### Weight Analysis \n",
    "\n",
    "Study the weights of the skip connection layer\n",
    "\n",
    "Equation of the skip connection is \n",
    "\n",
    "$output = y_{gan} * w + y_{abc} * (1-w)$"
   ]
  },
  {
   "cell_type": "code",
   "execution_count": 19,
   "id": "52c31dea",
   "metadata": {
    "execution": {
     "iopub.execute_input": "2022-06-12T06:53:57.329508Z",
     "iopub.status.busy": "2022-06-12T06:53:57.329120Z",
     "iopub.status.idle": "2022-06-12T06:53:57.332535Z",
     "shell.execute_reply": "2022-06-12T06:53:57.332771Z"
    },
    "id": "52c31dea",
    "papermill": {
     "duration": 0.027056,
     "end_time": "2022-06-12T06:53:57.332893",
     "exception": false,
     "start_time": "2022-06-12T06:53:57.305837",
     "status": "completed"
    },
    "tags": []
   },
   "outputs": [
    {
     "name": "stdout",
     "output_type": "stream",
     "text": [
      "Weight of the node at skip connection\n",
      "Parameter containing:\n",
      "tensor([[0.4319]], requires_grad=True)\n"
     ]
    },
    {
     "data": {
      "application/scrapbook.scrap.json+json": {
       "data": 0.4318898916244507,
       "encoder": "json",
       "name": "Skip Connection Weight",
       "version": 1
      }
     },
     "metadata": {
      "scrapbook": {
       "data": true,
       "display": false,
       "name": "Skip Connection Weight"
      }
     },
     "output_type": "display_data"
    }
   ],
   "source": [
    "print(\"Weight of the node at skip connection\")\n",
    "for name,param in gen3.named_parameters():\n",
    "    if(name == \"skipNode.weight\"):\n",
    "        print(param)\n",
    "        sb.glue(\"Skip Connection Weight\",param.item())"
   ]
  }
 ],
 "metadata": {
  "colab": {
   "collapsed_sections": [],
   "name": "ABC_GAN_Model-Catboost_Pre-gen.ipynb",
   "provenance": []
  },
  "interpreter": {
   "hash": "31f2aee4e71d21fbe5cf8b01ff0e069b9275f58929596ceb00d14d90e3e16cd6"
  },
  "kernelspec": {
   "display_name": "Python 3 (ipykernel)",
   "language": "python",
   "name": "python3"
  },
  "language_info": {
   "codemirror_mode": {
    "name": "ipython",
    "version": 3
   },
   "file_extension": ".py",
   "mimetype": "text/x-python",
   "name": "python",
   "nbconvert_exporter": "python",
   "pygments_lexer": "ipython3",
   "version": "3.8.11"
  },
  "papermill": {
   "default_parameters": {},
   "duration": 244.250019,
   "end_time": "2022-06-12T06:53:57.659917",
   "environment_variables": {},
   "exception": null,
   "input_path": "ABC_GAN-Catboost.ipynb",
   "output_path": "./ABC_GAN_Catboost/ABC-GAN_output_8_2.ipynb",
   "parameters": {
    "bias": 1,
    "variance": 0.01
   },
   "start_time": "2022-06-12T06:49:53.409898",
   "version": "2.3.3"
  }
 },
 "nbformat": 4,
 "nbformat_minor": 5
}