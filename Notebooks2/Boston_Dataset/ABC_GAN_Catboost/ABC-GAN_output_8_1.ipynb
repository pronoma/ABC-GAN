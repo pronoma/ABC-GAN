{
 "cells": [
  {
   "cell_type": "markdown",
   "id": "622780e6",
   "metadata": {
    "id": "622780e6",
    "papermill": {
     "duration": 0.036655,
     "end_time": "2022-06-12T06:45:48.704916",
     "exception": false,
     "start_time": "2022-06-12T06:45:48.668261",
     "status": "completed"
    },
    "tags": []
   },
   "source": [
    "## Import Libraries "
   ]
  },
  {
   "cell_type": "code",
   "execution_count": 1,
   "id": "a62397e3",
   "metadata": {
    "execution": {
     "iopub.execute_input": "2022-06-12T06:45:48.742161Z",
     "iopub.status.busy": "2022-06-12T06:45:48.741662Z",
     "iopub.status.idle": "2022-06-12T06:45:48.743864Z",
     "shell.execute_reply": "2022-06-12T06:45:48.744269Z"
    },
    "id": "a62397e3",
    "papermill": {
     "duration": 0.022502,
     "end_time": "2022-06-12T06:45:48.744472",
     "exception": false,
     "start_time": "2022-06-12T06:45:48.721970",
     "status": "completed"
    },
    "tags": []
   },
   "outputs": [],
   "source": [
    "import warnings\n",
    "import sys\n",
    "sys.path.insert(0, '../../src')\n",
    "warnings.filterwarnings('ignore')"
   ]
  },
  {
   "cell_type": "code",
   "execution_count": 2,
   "id": "d6a4e155",
   "metadata": {
    "execution": {
     "iopub.execute_input": "2022-06-12T06:45:48.765480Z",
     "iopub.status.busy": "2022-06-12T06:45:48.765079Z",
     "iopub.status.idle": "2022-06-12T06:45:50.516966Z",
     "shell.execute_reply": "2022-06-12T06:45:50.517235Z"
    },
    "id": "d6a4e155",
    "papermill": {
     "duration": 1.763339,
     "end_time": "2022-06-12T06:45:50.517360",
     "exception": false,
     "start_time": "2022-06-12T06:45:48.754021",
     "status": "completed"
    },
    "tags": []
   },
   "outputs": [],
   "source": [
    "import ABC_train_test2\n",
    "import bostonDataset\n",
    "import network\n",
    "import dataset\n",
    "import sanityChecks\n",
    "import torch \n",
    "import scrapbook as sb\n",
    "from statistics import mean \n",
    "import catboost as ctb \n",
    "from sklearn.model_selection import train_test_split\n",
    "from sklearn.metrics import mean_squared_error,mean_absolute_error\n",
    "import numpy as np"
   ]
  },
  {
   "cell_type": "markdown",
   "id": "2fa5b0f7",
   "metadata": {
    "id": "2fa5b0f7",
    "papermill": {
     "duration": 0.006793,
     "end_time": "2022-06-12T06:45:50.531340",
     "exception": false,
     "start_time": "2022-06-12T06:45:50.524547",
     "status": "completed"
    },
    "tags": []
   },
   "source": [
    "## Parameters "
   ]
  },
  {
   "cell_type": "code",
   "execution_count": 3,
   "id": "783186fb",
   "metadata": {
    "execution": {
     "iopub.execute_input": "2022-06-12T06:45:50.547034Z",
     "iopub.status.busy": "2022-06-12T06:45:50.546666Z",
     "iopub.status.idle": "2022-06-12T06:45:50.547939Z",
     "shell.execute_reply": "2022-06-12T06:45:50.548176Z"
    },
    "id": "783186fb",
    "papermill": {
     "duration": 0.01021,
     "end_time": "2022-06-12T06:45:50.548301",
     "exception": false,
     "start_time": "2022-06-12T06:45:50.538091",
     "status": "completed"
    },
    "tags": [
     "parameters"
    ]
   },
   "outputs": [],
   "source": [
    "variance = 1\n",
    "bias = 1 "
   ]
  },
  {
   "cell_type": "code",
   "execution_count": 4,
   "id": "f1f5ee9f",
   "metadata": {
    "execution": {
     "iopub.execute_input": "2022-06-12T06:45:50.563995Z",
     "iopub.status.busy": "2022-06-12T06:45:50.563627Z",
     "iopub.status.idle": "2022-06-12T06:45:50.564829Z",
     "shell.execute_reply": "2022-06-12T06:45:50.565063Z"
    },
    "papermill": {
     "duration": 0.009869,
     "end_time": "2022-06-12T06:45:50.565167",
     "exception": false,
     "start_time": "2022-06-12T06:45:50.555298",
     "status": "completed"
    },
    "tags": [
     "injected-parameters"
    ]
   },
   "outputs": [],
   "source": [
    "# Parameters\n",
    "variance = 0.1\n",
    "bias = 1\n"
   ]
  },
  {
   "cell_type": "markdown",
   "id": "391cdbfd",
   "metadata": {
    "id": "391cdbfd",
    "papermill": {
     "duration": 0.006821,
     "end_time": "2022-06-12T06:45:50.578916",
     "exception": false,
     "start_time": "2022-06-12T06:45:50.572095",
     "status": "completed"
    },
    "tags": []
   },
   "source": [
    "## Dataset \n"
   ]
  },
  {
   "cell_type": "code",
   "execution_count": 5,
   "id": "5b51f161",
   "metadata": {
    "execution": {
     "iopub.execute_input": "2022-06-12T06:45:50.594611Z",
     "iopub.status.busy": "2022-06-12T06:45:50.594244Z",
     "iopub.status.idle": "2022-06-12T06:45:50.595491Z",
     "shell.execute_reply": "2022-06-12T06:45:50.595729Z"
    },
    "id": "5b51f161",
    "papermill": {
     "duration": 0.010077,
     "end_time": "2022-06-12T06:45:50.595835",
     "exception": false,
     "start_time": "2022-06-12T06:45:50.585758",
     "status": "completed"
    },
    "tags": []
   },
   "outputs": [],
   "source": [
    "#Parameters \n",
    "n_features = 13\n",
    "n_samples= 506\n",
    "n_target = 1 "
   ]
  },
  {
   "cell_type": "code",
   "execution_count": 6,
   "id": "5d6eced4",
   "metadata": {
    "execution": {
     "iopub.execute_input": "2022-06-12T06:45:50.611732Z",
     "iopub.status.busy": "2022-06-12T06:45:50.611361Z",
     "iopub.status.idle": "2022-06-12T06:45:50.621984Z",
     "shell.execute_reply": "2022-06-12T06:45:50.622218Z"
    },
    "id": "5d6eced4",
    "papermill": {
     "duration": 0.019519,
     "end_time": "2022-06-12T06:45:50.622328",
     "exception": false,
     "start_time": "2022-06-12T06:45:50.602809",
     "status": "completed"
    },
    "tags": []
   },
   "outputs": [
    {
     "name": "stdout",
     "output_type": "stream",
     "text": [
      "         X1        X2        X3        X4        X5        X6        X7  \\\n",
      "0 -0.419782  0.284830 -1.287909 -0.272599 -0.144217  0.413672 -0.120013   \n",
      "1 -0.417339 -0.487722 -0.593381 -0.272599 -0.740262  0.194274  0.367166   \n",
      "2 -0.417342 -0.487722 -0.593381 -0.272599 -0.740262  1.282714 -0.265812   \n",
      "3 -0.416750 -0.487722 -1.306878 -0.272599 -0.835284  1.016303 -0.809889   \n",
      "4 -0.412482 -0.487722 -1.306878 -0.272599 -0.835284  1.228577 -0.511180   \n",
      "\n",
      "         X8        X9       X10       X11       X12       X13         Y  \n",
      "0  0.140214 -0.982843 -0.666608 -1.459000  0.441052 -1.075562  0.159686  \n",
      "1  0.557160 -0.867883 -0.987329 -0.303094  0.441052 -0.492439 -0.101524  \n",
      "2  0.557160 -0.867883 -0.987329 -0.303094  0.396427 -1.208727  1.324247  \n",
      "3  1.077737 -0.752922 -1.106115  0.113032  0.416163 -1.361517  1.182758  \n",
      "4  1.077737 -0.752922 -1.106115  0.113032  0.441052 -1.026501  1.487503  \n"
     ]
    }
   ],
   "source": [
    "X,Y = bostonDataset.boston_data()"
   ]
  },
  {
   "cell_type": "code",
   "execution_count": 7,
   "id": "fe007438",
   "metadata": {
    "execution": {
     "iopub.execute_input": "2022-06-12T06:45:50.641244Z",
     "iopub.status.busy": "2022-06-12T06:45:50.640875Z",
     "iopub.status.idle": "2022-06-12T06:45:50.642349Z",
     "shell.execute_reply": "2022-06-12T06:45:50.642627Z"
    },
    "id": "fe007438",
    "papermill": {
     "duration": 0.011178,
     "end_time": "2022-06-12T06:45:50.642731",
     "exception": false,
     "start_time": "2022-06-12T06:45:50.631553",
     "status": "completed"
    },
    "tags": []
   },
   "outputs": [],
   "source": [
    "#Train test split for dataset \n",
    "X_train,X_test,Y_train,Y_test = train_test_split(X,Y,test_size = 0.2)\n",
    "train_data = dataset.CustomDataset(X_train,Y_train)\n",
    "test_data = dataset.CustomDataset(X_test,Y_test)\n"
   ]
  },
  {
   "cell_type": "markdown",
   "id": "a9a1af34",
   "metadata": {
    "id": "a9a1af34",
    "papermill": {
     "duration": 0.007082,
     "end_time": "2022-06-12T06:45:50.656961",
     "exception": false,
     "start_time": "2022-06-12T06:45:50.649879",
     "status": "completed"
    },
    "tags": []
   },
   "source": [
    "## Training Parameters "
   ]
  },
  {
   "cell_type": "code",
   "execution_count": 8,
   "id": "952b7fc8",
   "metadata": {
    "execution": {
     "iopub.execute_input": "2022-06-12T06:45:50.673404Z",
     "iopub.status.busy": "2022-06-12T06:45:50.673037Z",
     "iopub.status.idle": "2022-06-12T06:45:50.674329Z",
     "shell.execute_reply": "2022-06-12T06:45:50.674585Z"
    },
    "id": "952b7fc8",
    "papermill": {
     "duration": 0.010648,
     "end_time": "2022-06-12T06:45:50.674693",
     "exception": false,
     "start_time": "2022-06-12T06:45:50.664045",
     "status": "completed"
    },
    "tags": []
   },
   "outputs": [],
   "source": [
    "batch_size = 32\n",
    "n_epochs = 1000\n",
    "#Select the device \n",
    "device = torch.device('cuda' if torch.cuda.is_available() else 'cpu')"
   ]
  },
  {
   "cell_type": "markdown",
   "id": "a95e1600",
   "metadata": {
    "id": "a95e1600",
    "papermill": {
     "duration": 0.007148,
     "end_time": "2022-06-12T06:45:50.689069",
     "exception": false,
     "start_time": "2022-06-12T06:45:50.681921",
     "status": "completed"
    },
    "tags": []
   },
   "source": [
    "# ABC Pre-generator Model \n",
    "\n",
    "1. The catboost model is used as a pre-generator model for the ABC-GAN. \n",
    "2. The model is first trained on the entire dataset \n",
    "3. It generats X,Y pairs and we add some Gaussian noise with mean 0 and variance 1 to it which is then feed as input to the generator.\n"
   ]
  },
  {
   "cell_type": "code",
   "execution_count": 9,
   "id": "ff8ce7bd",
   "metadata": {
    "execution": {
     "iopub.execute_input": "2022-06-12T06:45:50.708359Z",
     "iopub.status.busy": "2022-06-12T06:45:50.707971Z",
     "iopub.status.idle": "2022-06-12T06:45:51.670014Z",
     "shell.execute_reply": "2022-06-12T06:45:51.670312Z"
    },
    "id": "ff8ce7bd",
    "papermill": {
     "duration": 0.97412,
     "end_time": "2022-06-12T06:45:51.670444",
     "exception": false,
     "start_time": "2022-06-12T06:45:50.696324",
     "status": "completed"
    },
    "tags": []
   },
   "outputs": [
    {
     "name": "stdout",
     "output_type": "stream",
     "text": [
      "Learning rate set to 0.033215\n",
      "0:\tlearn: 0.9633610\ttotal: 58.5ms\tremaining: 58.5s\n",
      "1:\tlearn: 0.9436770\ttotal: 59.5ms\tremaining: 29.7s\n",
      "2:\tlearn: 0.9246606\ttotal: 60.5ms\tremaining: 20.1s\n",
      "3:\tlearn: 0.9091100\ttotal: 61.6ms\tremaining: 15.3s\n",
      "4:\tlearn: 0.8938265\ttotal: 62.5ms\tremaining: 12.4s\n",
      "5:\tlearn: 0.8771075\ttotal: 63.5ms\tremaining: 10.5s\n",
      "6:\tlearn: 0.8608954\ttotal: 64.6ms\tremaining: 9.16s\n",
      "7:\tlearn: 0.8453827\ttotal: 65.4ms\tremaining: 8.11s\n",
      "8:\tlearn: 0.8309177\ttotal: 66.2ms\tremaining: 7.29s\n",
      "9:\tlearn: 0.8156580\ttotal: 67.1ms\tremaining: 6.64s\n",
      "10:\tlearn: 0.7999388\ttotal: 68ms\tremaining: 6.11s\n",
      "11:\tlearn: 0.7857449\ttotal: 68.7ms\tremaining: 5.66s\n",
      "12:\tlearn: 0.7712106\ttotal: 69.7ms\tremaining: 5.29s\n",
      "13:\tlearn: 0.7566970\ttotal: 70.5ms\tremaining: 4.97s\n",
      "14:\tlearn: 0.7427602\ttotal: 71.4ms\tremaining: 4.69s\n",
      "15:\tlearn: 0.7287787\ttotal: 72.1ms\tremaining: 4.43s\n",
      "16:\tlearn: 0.7149930\ttotal: 73ms\tremaining: 4.22s\n",
      "17:\tlearn: 0.7040083\ttotal: 73.8ms\tremaining: 4.02s\n",
      "18:\tlearn: 0.6920968\ttotal: 74.6ms\tremaining: 3.85s\n",
      "19:\tlearn: 0.6796261\ttotal: 75.4ms\tremaining: 3.7s\n",
      "20:\tlearn: 0.6661718\ttotal: 76.3ms\tremaining: 3.56s\n",
      "21:\tlearn: 0.6558774\ttotal: 77.2ms\tremaining: 3.43s\n",
      "22:\tlearn: 0.6451846\ttotal: 78ms\tremaining: 3.31s\n",
      "23:\tlearn: 0.6357261\ttotal: 78.8ms\tremaining: 3.21s\n",
      "24:\tlearn: 0.6253588\ttotal: 79.6ms\tremaining: 3.1s\n",
      "25:\tlearn: 0.6171494\ttotal: 81.1ms\tremaining: 3.04s\n",
      "26:\tlearn: 0.6080899\ttotal: 81.8ms\tremaining: 2.95s\n",
      "27:\tlearn: 0.5990117\ttotal: 82.5ms\tremaining: 2.86s\n",
      "28:\tlearn: 0.5899469\ttotal: 83.3ms\tremaining: 2.79s\n",
      "29:\tlearn: 0.5801392\ttotal: 84.1ms\tremaining: 2.72s\n",
      "30:\tlearn: 0.5714216\ttotal: 84.8ms\tremaining: 2.65s\n",
      "31:\tlearn: 0.5637638\ttotal: 85.7ms\tremaining: 2.59s\n",
      "32:\tlearn: 0.5565873\ttotal: 86.4ms\tremaining: 2.53s\n",
      "33:\tlearn: 0.5493462\ttotal: 87.1ms\tremaining: 2.47s\n",
      "34:\tlearn: 0.5426262\ttotal: 87.8ms\tremaining: 2.42s\n",
      "35:\tlearn: 0.5359261\ttotal: 88.6ms\tremaining: 2.37s\n",
      "36:\tlearn: 0.5298508\ttotal: 89.6ms\tremaining: 2.33s\n",
      "37:\tlearn: 0.5230284\ttotal: 90.5ms\tremaining: 2.29s\n",
      "38:\tlearn: 0.5171568\ttotal: 91.4ms\tremaining: 2.25s\n",
      "39:\tlearn: 0.5096551\ttotal: 92.2ms\tremaining: 2.21s\n",
      "40:\tlearn: 0.5041787\ttotal: 93.2ms\tremaining: 2.18s\n",
      "41:\tlearn: 0.4981752\ttotal: 93.9ms\tremaining: 2.14s\n",
      "42:\tlearn: 0.4929669\ttotal: 94.9ms\tremaining: 2.11s\n",
      "43:\tlearn: 0.4882176\ttotal: 95.6ms\tremaining: 2.08s\n",
      "44:\tlearn: 0.4827386\ttotal: 96.3ms\tremaining: 2.04s\n",
      "45:\tlearn: 0.4767081\ttotal: 97ms\tremaining: 2.01s\n",
      "46:\tlearn: 0.4713118\ttotal: 97.9ms\tremaining: 1.99s\n",
      "47:\tlearn: 0.4653372\ttotal: 98.7ms\tremaining: 1.96s\n",
      "48:\tlearn: 0.4599868\ttotal: 99.5ms\tremaining: 1.93s\n",
      "49:\tlearn: 0.4556226\ttotal: 100ms\tremaining: 1.91s\n",
      "50:\tlearn: 0.4506375\ttotal: 101ms\tremaining: 1.88s\n",
      "51:\tlearn: 0.4465709\ttotal: 102ms\tremaining: 1.86s\n",
      "52:\tlearn: 0.4424202\ttotal: 103ms\tremaining: 1.84s\n",
      "53:\tlearn: 0.4387970\ttotal: 104ms\tremaining: 1.82s\n",
      "54:\tlearn: 0.4346608\ttotal: 105ms\tremaining: 1.79s\n",
      "55:\tlearn: 0.4298209\ttotal: 105ms\tremaining: 1.78s\n",
      "56:\tlearn: 0.4260751\ttotal: 106ms\tremaining: 1.76s\n"
     ]
    },
    {
     "name": "stdout",
     "output_type": "stream",
     "text": [
      "57:\tlearn: 0.4216988\ttotal: 107ms\tremaining: 1.74s\n",
      "58:\tlearn: 0.4180723\ttotal: 108ms\tremaining: 1.73s\n",
      "59:\tlearn: 0.4146695\ttotal: 109ms\tremaining: 1.71s\n",
      "60:\tlearn: 0.4109043\ttotal: 110ms\tremaining: 1.69s\n",
      "61:\tlearn: 0.4076907\ttotal: 111ms\tremaining: 1.67s\n",
      "62:\tlearn: 0.4037005\ttotal: 111ms\tremaining: 1.66s\n",
      "63:\tlearn: 0.4001129\ttotal: 112ms\tremaining: 1.64s\n",
      "64:\tlearn: 0.3970247\ttotal: 113ms\tremaining: 1.63s\n",
      "65:\tlearn: 0.3942137\ttotal: 114ms\tremaining: 1.61s\n",
      "66:\tlearn: 0.3906308\ttotal: 115ms\tremaining: 1.6s\n",
      "67:\tlearn: 0.3878346\ttotal: 116ms\tremaining: 1.58s\n",
      "68:\tlearn: 0.3846123\ttotal: 116ms\tremaining: 1.57s\n",
      "69:\tlearn: 0.3817416\ttotal: 117ms\tremaining: 1.55s\n",
      "70:\tlearn: 0.3788564\ttotal: 118ms\tremaining: 1.54s\n",
      "71:\tlearn: 0.3767511\ttotal: 119ms\tremaining: 1.53s\n",
      "72:\tlearn: 0.3743666\ttotal: 120ms\tremaining: 1.52s\n",
      "73:\tlearn: 0.3715868\ttotal: 120ms\tremaining: 1.5s\n",
      "74:\tlearn: 0.3684650\ttotal: 121ms\tremaining: 1.49s\n",
      "75:\tlearn: 0.3665508\ttotal: 122ms\tremaining: 1.49s\n",
      "76:\tlearn: 0.3630981\ttotal: 123ms\tremaining: 1.48s\n",
      "77:\tlearn: 0.3602251\ttotal: 124ms\tremaining: 1.46s\n",
      "78:\tlearn: 0.3577988\ttotal: 125ms\tremaining: 1.45s\n",
      "79:\tlearn: 0.3557891\ttotal: 125ms\tremaining: 1.44s\n",
      "80:\tlearn: 0.3535617\ttotal: 126ms\tremaining: 1.43s\n",
      "81:\tlearn: 0.3514091\ttotal: 128ms\tremaining: 1.43s\n",
      "82:\tlearn: 0.3485968\ttotal: 128ms\tremaining: 1.42s\n",
      "83:\tlearn: 0.3468666\ttotal: 129ms\tremaining: 1.41s\n",
      "84:\tlearn: 0.3446816\ttotal: 130ms\tremaining: 1.4s\n",
      "85:\tlearn: 0.3420664\ttotal: 131ms\tremaining: 1.39s\n",
      "86:\tlearn: 0.3405260\ttotal: 132ms\tremaining: 1.38s\n",
      "87:\tlearn: 0.3384945\ttotal: 133ms\tremaining: 1.38s\n",
      "88:\tlearn: 0.3371532\ttotal: 134ms\tremaining: 1.37s\n",
      "89:\tlearn: 0.3357802\ttotal: 135ms\tremaining: 1.36s\n",
      "90:\tlearn: 0.3339572\ttotal: 136ms\tremaining: 1.36s\n",
      "91:\tlearn: 0.3323695\ttotal: 137ms\tremaining: 1.35s\n",
      "92:\tlearn: 0.3304204\ttotal: 138ms\tremaining: 1.34s\n",
      "93:\tlearn: 0.3280420\ttotal: 138ms\tremaining: 1.33s\n",
      "94:\tlearn: 0.3263797\ttotal: 139ms\tremaining: 1.32s\n",
      "95:\tlearn: 0.3240938\ttotal: 140ms\tremaining: 1.32s\n",
      "96:\tlearn: 0.3217082\ttotal: 141ms\tremaining: 1.31s\n",
      "97:\tlearn: 0.3203234\ttotal: 141ms\tremaining: 1.3s\n",
      "98:\tlearn: 0.3190393\ttotal: 142ms\tremaining: 1.29s\n",
      "99:\tlearn: 0.3181339\ttotal: 143ms\tremaining: 1.29s\n",
      "100:\tlearn: 0.3166955\ttotal: 144ms\tremaining: 1.28s\n",
      "101:\tlearn: 0.3152168\ttotal: 145ms\tremaining: 1.27s\n",
      "102:\tlearn: 0.3136899\ttotal: 146ms\tremaining: 1.27s\n",
      "103:\tlearn: 0.3118717\ttotal: 146ms\tremaining: 1.26s\n",
      "104:\tlearn: 0.3108581\ttotal: 147ms\tremaining: 1.25s\n",
      "105:\tlearn: 0.3096329\ttotal: 148ms\tremaining: 1.25s\n",
      "106:\tlearn: 0.3085100\ttotal: 149ms\tremaining: 1.24s\n",
      "107:\tlearn: 0.3074922\ttotal: 150ms\tremaining: 1.24s\n",
      "108:\tlearn: 0.3062770\ttotal: 150ms\tremaining: 1.23s\n",
      "109:\tlearn: 0.3049708\ttotal: 151ms\tremaining: 1.22s\n",
      "110:\tlearn: 0.3038808\ttotal: 152ms\tremaining: 1.22s\n",
      "111:\tlearn: 0.3030503\ttotal: 153ms\tremaining: 1.21s\n",
      "112:\tlearn: 0.3020231\ttotal: 154ms\tremaining: 1.21s\n",
      "113:\tlearn: 0.3009207\ttotal: 154ms\tremaining: 1.2s\n",
      "114:\tlearn: 0.2999684\ttotal: 155ms\tremaining: 1.19s\n",
      "115:\tlearn: 0.2989211\ttotal: 156ms\tremaining: 1.19s\n",
      "116:\tlearn: 0.2978617\ttotal: 157ms\tremaining: 1.18s\n",
      "117:\tlearn: 0.2962950\ttotal: 158ms\tremaining: 1.18s\n",
      "118:\tlearn: 0.2951820\ttotal: 158ms\tremaining: 1.17s\n",
      "119:\tlearn: 0.2945103\ttotal: 159ms\tremaining: 1.17s\n",
      "120:\tlearn: 0.2935172\ttotal: 160ms\tremaining: 1.16s\n",
      "121:\tlearn: 0.2921456\ttotal: 161ms\tremaining: 1.16s\n",
      "122:\tlearn: 0.2916646\ttotal: 161ms\tremaining: 1.15s\n",
      "123:\tlearn: 0.2901789\ttotal: 162ms\tremaining: 1.14s\n",
      "124:\tlearn: 0.2890979\ttotal: 163ms\tremaining: 1.14s\n",
      "125:\tlearn: 0.2881782\ttotal: 164ms\tremaining: 1.13s\n",
      "126:\tlearn: 0.2871368\ttotal: 164ms\tremaining: 1.13s\n",
      "127:\tlearn: 0.2858944\ttotal: 165ms\tremaining: 1.12s\n",
      "128:\tlearn: 0.2842912\ttotal: 166ms\tremaining: 1.12s\n",
      "129:\tlearn: 0.2828107\ttotal: 167ms\tremaining: 1.11s\n",
      "130:\tlearn: 0.2816995\ttotal: 167ms\tremaining: 1.11s\n",
      "131:\tlearn: 0.2809527\ttotal: 168ms\tremaining: 1.11s\n",
      "132:\tlearn: 0.2800337\ttotal: 169ms\tremaining: 1.1s\n",
      "133:\tlearn: 0.2793130\ttotal: 170ms\tremaining: 1.1s\n",
      "134:\tlearn: 0.2781772\ttotal: 171ms\tremaining: 1.09s\n",
      "135:\tlearn: 0.2776512\ttotal: 172ms\tremaining: 1.09s\n",
      "136:\tlearn: 0.2768237\ttotal: 172ms\tremaining: 1.09s\n",
      "137:\tlearn: 0.2760876\ttotal: 173ms\tremaining: 1.08s\n",
      "138:\tlearn: 0.2752429\ttotal: 174ms\tremaining: 1.08s\n",
      "139:\tlearn: 0.2740531\ttotal: 175ms\tremaining: 1.07s\n",
      "140:\tlearn: 0.2728103\ttotal: 176ms\tremaining: 1.07s\n",
      "141:\tlearn: 0.2722113\ttotal: 177ms\tremaining: 1.07s\n",
      "142:\tlearn: 0.2710605\ttotal: 178ms\tremaining: 1.06s\n",
      "143:\tlearn: 0.2704083\ttotal: 178ms\tremaining: 1.06s\n",
      "144:\tlearn: 0.2696433\ttotal: 179ms\tremaining: 1.06s\n",
      "145:\tlearn: 0.2687790\ttotal: 180ms\tremaining: 1.05s\n",
      "146:\tlearn: 0.2675772\ttotal: 181ms\tremaining: 1.05s\n",
      "147:\tlearn: 0.2668720\ttotal: 182ms\tremaining: 1.04s\n",
      "148:\tlearn: 0.2657442\ttotal: 182ms\tremaining: 1.04s\n",
      "149:\tlearn: 0.2651044\ttotal: 183ms\tremaining: 1.04s\n",
      "150:\tlearn: 0.2638859\ttotal: 184ms\tremaining: 1.03s\n",
      "151:\tlearn: 0.2632629\ttotal: 185ms\tremaining: 1.03s\n",
      "152:\tlearn: 0.2628674\ttotal: 186ms\tremaining: 1.03s\n",
      "153:\tlearn: 0.2619823\ttotal: 186ms\tremaining: 1.02s\n",
      "154:\tlearn: 0.2611436\ttotal: 187ms\tremaining: 1.02s\n",
      "155:\tlearn: 0.2603044\ttotal: 188ms\tremaining: 1.02s\n",
      "156:\tlearn: 0.2591829\ttotal: 189ms\tremaining: 1.01s\n",
      "157:\tlearn: 0.2585885\ttotal: 190ms\tremaining: 1.01s\n",
      "158:\tlearn: 0.2578593\ttotal: 191ms\tremaining: 1.01s\n"
     ]
    },
    {
     "name": "stdout",
     "output_type": "stream",
     "text": [
      "159:\tlearn: 0.2570088\ttotal: 192ms\tremaining: 1.01s\n",
      "160:\tlearn: 0.2562033\ttotal: 193ms\tremaining: 1s\n",
      "161:\tlearn: 0.2556619\ttotal: 194ms\tremaining: 1s\n",
      "162:\tlearn: 0.2550034\ttotal: 195ms\tremaining: 999ms\n",
      "163:\tlearn: 0.2540095\ttotal: 195ms\tremaining: 996ms\n",
      "164:\tlearn: 0.2535770\ttotal: 196ms\tremaining: 992ms\n",
      "165:\tlearn: 0.2528881\ttotal: 197ms\tremaining: 990ms\n",
      "166:\tlearn: 0.2524043\ttotal: 198ms\tremaining: 987ms\n",
      "167:\tlearn: 0.2516787\ttotal: 199ms\tremaining: 984ms\n",
      "168:\tlearn: 0.2508677\ttotal: 199ms\tremaining: 981ms\n",
      "169:\tlearn: 0.2503752\ttotal: 200ms\tremaining: 978ms\n",
      "170:\tlearn: 0.2497607\ttotal: 201ms\tremaining: 975ms\n",
      "171:\tlearn: 0.2491025\ttotal: 202ms\tremaining: 972ms\n",
      "172:\tlearn: 0.2482775\ttotal: 203ms\tremaining: 969ms\n",
      "173:\tlearn: 0.2473052\ttotal: 204ms\tremaining: 967ms\n",
      "174:\tlearn: 0.2467757\ttotal: 204ms\tremaining: 963ms\n",
      "175:\tlearn: 0.2461686\ttotal: 205ms\tremaining: 960ms\n",
      "176:\tlearn: 0.2452702\ttotal: 206ms\tremaining: 958ms\n",
      "177:\tlearn: 0.2447336\ttotal: 207ms\tremaining: 955ms\n",
      "178:\tlearn: 0.2445089\ttotal: 208ms\tremaining: 953ms\n",
      "179:\tlearn: 0.2435790\ttotal: 209ms\tremaining: 950ms\n",
      "180:\tlearn: 0.2428398\ttotal: 209ms\tremaining: 947ms\n",
      "181:\tlearn: 0.2423526\ttotal: 210ms\tremaining: 944ms\n",
      "182:\tlearn: 0.2419459\ttotal: 211ms\tremaining: 941ms\n",
      "183:\tlearn: 0.2412352\ttotal: 212ms\tremaining: 938ms\n",
      "184:\tlearn: 0.2403461\ttotal: 212ms\tremaining: 936ms\n",
      "185:\tlearn: 0.2398137\ttotal: 213ms\tremaining: 934ms\n",
      "186:\tlearn: 0.2390100\ttotal: 214ms\tremaining: 931ms\n",
      "187:\tlearn: 0.2384399\ttotal: 215ms\tremaining: 929ms\n",
      "188:\tlearn: 0.2377249\ttotal: 216ms\tremaining: 926ms\n",
      "189:\tlearn: 0.2371847\ttotal: 217ms\tremaining: 924ms\n",
      "190:\tlearn: 0.2365923\ttotal: 218ms\tremaining: 922ms\n",
      "191:\tlearn: 0.2359912\ttotal: 218ms\tremaining: 919ms\n",
      "192:\tlearn: 0.2350798\ttotal: 219ms\tremaining: 917ms\n",
      "193:\tlearn: 0.2347390\ttotal: 221ms\tremaining: 917ms\n",
      "194:\tlearn: 0.2339113\ttotal: 222ms\tremaining: 915ms\n",
      "195:\tlearn: 0.2331584\ttotal: 223ms\tremaining: 913ms\n",
      "196:\tlearn: 0.2328265\ttotal: 223ms\tremaining: 910ms\n",
      "197:\tlearn: 0.2319266\ttotal: 224ms\tremaining: 908ms\n",
      "198:\tlearn: 0.2311331\ttotal: 225ms\tremaining: 905ms\n",
      "199:\tlearn: 0.2304466\ttotal: 226ms\tremaining: 903ms\n",
      "200:\tlearn: 0.2300772\ttotal: 227ms\tremaining: 901ms\n",
      "201:\tlearn: 0.2295628\ttotal: 227ms\tremaining: 898ms\n",
      "202:\tlearn: 0.2293259\ttotal: 228ms\tremaining: 896ms\n",
      "203:\tlearn: 0.2287246\ttotal: 229ms\tremaining: 894ms\n",
      "204:\tlearn: 0.2281953\ttotal: 230ms\tremaining: 891ms\n",
      "205:\tlearn: 0.2275419\ttotal: 231ms\tremaining: 889ms\n",
      "206:\tlearn: 0.2268305\ttotal: 231ms\tremaining: 887ms\n",
      "207:\tlearn: 0.2260794\ttotal: 232ms\tremaining: 884ms\n",
      "208:\tlearn: 0.2255274\ttotal: 233ms\tremaining: 882ms\n",
      "209:\tlearn: 0.2250126\ttotal: 234ms\tremaining: 879ms\n",
      "210:\tlearn: 0.2245335\ttotal: 235ms\tremaining: 877ms\n",
      "211:\tlearn: 0.2242015\ttotal: 235ms\tremaining: 875ms\n",
      "212:\tlearn: 0.2239743\ttotal: 236ms\tremaining: 873ms\n",
      "213:\tlearn: 0.2232605\ttotal: 237ms\tremaining: 870ms\n",
      "214:\tlearn: 0.2225645\ttotal: 238ms\tremaining: 868ms\n",
      "215:\tlearn: 0.2217802\ttotal: 239ms\tremaining: 866ms\n",
      "216:\tlearn: 0.2213886\ttotal: 239ms\tremaining: 863ms\n",
      "217:\tlearn: 0.2207426\ttotal: 240ms\tremaining: 861ms\n",
      "218:\tlearn: 0.2201850\ttotal: 241ms\tremaining: 860ms\n",
      "219:\tlearn: 0.2195929\ttotal: 242ms\tremaining: 857ms\n",
      "220:\tlearn: 0.2190159\ttotal: 243ms\tremaining: 856ms\n",
      "221:\tlearn: 0.2182249\ttotal: 244ms\tremaining: 854ms\n",
      "222:\tlearn: 0.2176486\ttotal: 244ms\tremaining: 852ms\n",
      "223:\tlearn: 0.2172467\ttotal: 245ms\tremaining: 850ms\n",
      "224:\tlearn: 0.2168610\ttotal: 246ms\tremaining: 848ms\n",
      "225:\tlearn: 0.2166192\ttotal: 247ms\tremaining: 846ms\n",
      "226:\tlearn: 0.2160295\ttotal: 248ms\tremaining: 844ms\n",
      "227:\tlearn: 0.2157699\ttotal: 249ms\tremaining: 842ms\n",
      "228:\tlearn: 0.2151060\ttotal: 249ms\tremaining: 840ms\n",
      "229:\tlearn: 0.2144781\ttotal: 250ms\tremaining: 838ms\n",
      "230:\tlearn: 0.2142252\ttotal: 251ms\tremaining: 836ms\n",
      "231:\tlearn: 0.2134807\ttotal: 252ms\tremaining: 834ms\n",
      "232:\tlearn: 0.2132001\ttotal: 253ms\tremaining: 832ms\n",
      "233:\tlearn: 0.2130084\ttotal: 253ms\tremaining: 829ms\n",
      "234:\tlearn: 0.2128048\ttotal: 254ms\tremaining: 827ms\n",
      "235:\tlearn: 0.2125328\ttotal: 255ms\tremaining: 825ms\n",
      "236:\tlearn: 0.2118422\ttotal: 256ms\tremaining: 824ms\n",
      "237:\tlearn: 0.2112917\ttotal: 257ms\tremaining: 822ms\n",
      "238:\tlearn: 0.2108497\ttotal: 258ms\tremaining: 820ms\n",
      "239:\tlearn: 0.2103820\ttotal: 258ms\tremaining: 818ms\n",
      "240:\tlearn: 0.2097874\ttotal: 259ms\tremaining: 816ms\n",
      "241:\tlearn: 0.2091689\ttotal: 260ms\tremaining: 814ms\n",
      "242:\tlearn: 0.2087110\ttotal: 261ms\tremaining: 812ms\n",
      "243:\tlearn: 0.2084614\ttotal: 262ms\tremaining: 811ms\n",
      "244:\tlearn: 0.2081892\ttotal: 262ms\tremaining: 809ms\n",
      "245:\tlearn: 0.2079488\ttotal: 263ms\tremaining: 807ms\n",
      "246:\tlearn: 0.2077288\ttotal: 264ms\tremaining: 805ms\n",
      "247:\tlearn: 0.2074897\ttotal: 265ms\tremaining: 803ms\n",
      "248:\tlearn: 0.2071364\ttotal: 266ms\tremaining: 801ms\n",
      "249:\tlearn: 0.2066960\ttotal: 267ms\tremaining: 800ms\n",
      "250:\tlearn: 0.2060574\ttotal: 268ms\tremaining: 800ms\n",
      "251:\tlearn: 0.2055438\ttotal: 269ms\tremaining: 798ms\n",
      "252:\tlearn: 0.2053413\ttotal: 270ms\tremaining: 796ms\n",
      "253:\tlearn: 0.2049831\ttotal: 270ms\tremaining: 794ms\n",
      "254:\tlearn: 0.2043907\ttotal: 271ms\tremaining: 792ms\n",
      "255:\tlearn: 0.2037461\ttotal: 272ms\tremaining: 790ms\n",
      "256:\tlearn: 0.2033422\ttotal: 273ms\tremaining: 789ms\n",
      "257:\tlearn: 0.2030856\ttotal: 274ms\tremaining: 787ms\n",
      "258:\tlearn: 0.2025948\ttotal: 275ms\tremaining: 786ms\n",
      "259:\tlearn: 0.2020052\ttotal: 275ms\tremaining: 784ms\n",
      "260:\tlearn: 0.2015789\ttotal: 276ms\tremaining: 782ms\n",
      "261:\tlearn: 0.2011105\ttotal: 277ms\tremaining: 781ms\n",
      "262:\tlearn: 0.2008863\ttotal: 278ms\tremaining: 779ms\n",
      "263:\tlearn: 0.2005738\ttotal: 279ms\tremaining: 777ms\n",
      "264:\tlearn: 0.2003298\ttotal: 279ms\tremaining: 775ms\n",
      "265:\tlearn: 0.2001615\ttotal: 280ms\tremaining: 774ms\n",
      "266:\tlearn: 0.1999520\ttotal: 281ms\tremaining: 772ms\n",
      "267:\tlearn: 0.1993958\ttotal: 282ms\tremaining: 771ms\n",
      "268:\tlearn: 0.1988147\ttotal: 283ms\tremaining: 770ms\n",
      "269:\tlearn: 0.1982875\ttotal: 284ms\tremaining: 768ms\n",
      "270:\tlearn: 0.1976979\ttotal: 285ms\tremaining: 766ms\n",
      "271:\tlearn: 0.1975682\ttotal: 286ms\tremaining: 765ms\n",
      "272:\tlearn: 0.1971257\ttotal: 286ms\tremaining: 763ms\n",
      "273:\tlearn: 0.1966661\ttotal: 287ms\tremaining: 761ms\n",
      "274:\tlearn: 0.1963542\ttotal: 288ms\tremaining: 760ms\n",
      "275:\tlearn: 0.1957590\ttotal: 289ms\tremaining: 759ms\n",
      "276:\tlearn: 0.1954956\ttotal: 290ms\tremaining: 757ms\n",
      "277:\tlearn: 0.1953266\ttotal: 291ms\tremaining: 756ms\n",
      "278:\tlearn: 0.1950093\ttotal: 292ms\tremaining: 754ms\n",
      "279:\tlearn: 0.1948836\ttotal: 293ms\tremaining: 753ms\n",
      "280:\tlearn: 0.1940692\ttotal: 294ms\tremaining: 751ms\n",
      "281:\tlearn: 0.1936380\ttotal: 294ms\tremaining: 749ms\n",
      "282:\tlearn: 0.1934740\ttotal: 295ms\tremaining: 748ms\n",
      "283:\tlearn: 0.1928667\ttotal: 296ms\tremaining: 746ms\n",
      "284:\tlearn: 0.1922327\ttotal: 297ms\tremaining: 745ms\n"
     ]
    },
    {
     "name": "stdout",
     "output_type": "stream",
     "text": [
      "285:\tlearn: 0.1920726\ttotal: 298ms\tremaining: 743ms\n",
      "286:\tlearn: 0.1919811\ttotal: 299ms\tremaining: 742ms\n",
      "287:\tlearn: 0.1915244\ttotal: 299ms\tremaining: 740ms\n",
      "288:\tlearn: 0.1909541\ttotal: 300ms\tremaining: 739ms\n",
      "289:\tlearn: 0.1905318\ttotal: 302ms\tremaining: 739ms\n",
      "290:\tlearn: 0.1902962\ttotal: 303ms\tremaining: 738ms\n",
      "291:\tlearn: 0.1897792\ttotal: 304ms\tremaining: 736ms\n",
      "292:\tlearn: 0.1893859\ttotal: 304ms\tremaining: 734ms\n",
      "293:\tlearn: 0.1893051\ttotal: 305ms\tremaining: 733ms\n",
      "294:\tlearn: 0.1889367\ttotal: 306ms\tremaining: 731ms\n",
      "295:\tlearn: 0.1886709\ttotal: 307ms\tremaining: 730ms\n",
      "296:\tlearn: 0.1886167\ttotal: 308ms\tremaining: 728ms\n",
      "297:\tlearn: 0.1881475\ttotal: 308ms\tremaining: 727ms\n",
      "298:\tlearn: 0.1878884\ttotal: 309ms\tremaining: 725ms\n",
      "299:\tlearn: 0.1873902\ttotal: 310ms\tremaining: 724ms\n",
      "300:\tlearn: 0.1869889\ttotal: 311ms\tremaining: 722ms\n",
      "301:\tlearn: 0.1866001\ttotal: 312ms\tremaining: 721ms\n",
      "302:\tlearn: 0.1860858\ttotal: 313ms\tremaining: 719ms\n",
      "303:\tlearn: 0.1857644\ttotal: 313ms\tremaining: 718ms\n",
      "304:\tlearn: 0.1852757\ttotal: 314ms\tremaining: 716ms\n",
      "305:\tlearn: 0.1847111\ttotal: 315ms\tremaining: 714ms\n",
      "306:\tlearn: 0.1845359\ttotal: 316ms\tremaining: 714ms\n",
      "307:\tlearn: 0.1842099\ttotal: 317ms\tremaining: 713ms\n",
      "308:\tlearn: 0.1837264\ttotal: 318ms\tremaining: 712ms\n",
      "309:\tlearn: 0.1833197\ttotal: 319ms\tremaining: 711ms\n",
      "310:\tlearn: 0.1828501\ttotal: 320ms\tremaining: 710ms\n",
      "311:\tlearn: 0.1823601\ttotal: 321ms\tremaining: 709ms\n",
      "312:\tlearn: 0.1819456\ttotal: 322ms\tremaining: 708ms\n",
      "313:\tlearn: 0.1815708\ttotal: 323ms\tremaining: 706ms\n",
      "314:\tlearn: 0.1811470\ttotal: 324ms\tremaining: 705ms\n",
      "315:\tlearn: 0.1808075\ttotal: 325ms\tremaining: 704ms\n",
      "316:\tlearn: 0.1803622\ttotal: 326ms\tremaining: 703ms\n",
      "317:\tlearn: 0.1800040\ttotal: 327ms\tremaining: 701ms\n",
      "318:\tlearn: 0.1796385\ttotal: 328ms\tremaining: 700ms\n",
      "319:\tlearn: 0.1792279\ttotal: 329ms\tremaining: 698ms\n",
      "320:\tlearn: 0.1788826\ttotal: 330ms\tremaining: 697ms\n",
      "321:\tlearn: 0.1786579\ttotal: 331ms\tremaining: 696ms\n",
      "322:\tlearn: 0.1783740\ttotal: 332ms\tremaining: 695ms\n",
      "323:\tlearn: 0.1779718\ttotal: 332ms\tremaining: 693ms\n",
      "324:\tlearn: 0.1775672\ttotal: 333ms\tremaining: 692ms\n",
      "325:\tlearn: 0.1771290\ttotal: 334ms\tremaining: 691ms\n",
      "326:\tlearn: 0.1766936\ttotal: 335ms\tremaining: 690ms\n",
      "327:\tlearn: 0.1763633\ttotal: 336ms\tremaining: 688ms\n",
      "328:\tlearn: 0.1760799\ttotal: 337ms\tremaining: 687ms\n",
      "329:\tlearn: 0.1760343\ttotal: 337ms\tremaining: 685ms\n",
      "330:\tlearn: 0.1755980\ttotal: 338ms\tremaining: 684ms\n",
      "331:\tlearn: 0.1753449\ttotal: 339ms\tremaining: 682ms\n",
      "332:\tlearn: 0.1750764\ttotal: 340ms\tremaining: 681ms\n",
      "333:\tlearn: 0.1747661\ttotal: 341ms\tremaining: 679ms\n",
      "334:\tlearn: 0.1747023\ttotal: 342ms\tremaining: 678ms\n",
      "335:\tlearn: 0.1744000\ttotal: 342ms\tremaining: 677ms\n",
      "336:\tlearn: 0.1739709\ttotal: 343ms\tremaining: 675ms\n",
      "337:\tlearn: 0.1736050\ttotal: 344ms\tremaining: 674ms\n",
      "338:\tlearn: 0.1732695\ttotal: 345ms\tremaining: 672ms\n",
      "339:\tlearn: 0.1731061\ttotal: 346ms\tremaining: 671ms\n",
      "340:\tlearn: 0.1725922\ttotal: 346ms\tremaining: 670ms\n",
      "341:\tlearn: 0.1722194\ttotal: 347ms\tremaining: 668ms\n",
      "342:\tlearn: 0.1719053\ttotal: 348ms\tremaining: 667ms\n",
      "343:\tlearn: 0.1716082\ttotal: 349ms\tremaining: 665ms\n",
      "344:\tlearn: 0.1712528\ttotal: 350ms\tremaining: 664ms\n",
      "345:\tlearn: 0.1709920\ttotal: 351ms\tremaining: 663ms\n",
      "346:\tlearn: 0.1705663\ttotal: 352ms\tremaining: 661ms\n",
      "347:\tlearn: 0.1704600\ttotal: 352ms\tremaining: 660ms\n",
      "348:\tlearn: 0.1701452\ttotal: 353ms\tremaining: 659ms\n",
      "349:\tlearn: 0.1698207\ttotal: 354ms\tremaining: 657ms\n",
      "350:\tlearn: 0.1694234\ttotal: 355ms\tremaining: 656ms\n",
      "351:\tlearn: 0.1693778\ttotal: 356ms\tremaining: 655ms\n",
      "352:\tlearn: 0.1692779\ttotal: 356ms\tremaining: 653ms\n",
      "353:\tlearn: 0.1687868\ttotal: 357ms\tremaining: 652ms\n",
      "354:\tlearn: 0.1684926\ttotal: 358ms\tremaining: 651ms\n",
      "355:\tlearn: 0.1681785\ttotal: 359ms\tremaining: 650ms\n",
      "356:\tlearn: 0.1681009\ttotal: 360ms\tremaining: 649ms\n",
      "357:\tlearn: 0.1680346\ttotal: 361ms\tremaining: 648ms\n",
      "358:\tlearn: 0.1678217\ttotal: 362ms\tremaining: 646ms\n",
      "359:\tlearn: 0.1675138\ttotal: 363ms\tremaining: 645ms\n",
      "360:\tlearn: 0.1672798\ttotal: 364ms\tremaining: 644ms\n",
      "361:\tlearn: 0.1669794\ttotal: 365ms\tremaining: 643ms\n",
      "362:\tlearn: 0.1665108\ttotal: 365ms\tremaining: 641ms\n",
      "363:\tlearn: 0.1662229\ttotal: 366ms\tremaining: 640ms\n",
      "364:\tlearn: 0.1658763\ttotal: 367ms\tremaining: 639ms\n",
      "365:\tlearn: 0.1655138\ttotal: 368ms\tremaining: 637ms\n",
      "366:\tlearn: 0.1652310\ttotal: 369ms\tremaining: 636ms\n",
      "367:\tlearn: 0.1649312\ttotal: 369ms\tremaining: 634ms\n",
      "368:\tlearn: 0.1646086\ttotal: 370ms\tremaining: 633ms\n",
      "369:\tlearn: 0.1643420\ttotal: 371ms\tremaining: 632ms\n",
      "370:\tlearn: 0.1638928\ttotal: 373ms\tremaining: 632ms\n",
      "371:\tlearn: 0.1634017\ttotal: 373ms\tremaining: 630ms\n",
      "372:\tlearn: 0.1631717\ttotal: 374ms\tremaining: 629ms\n",
      "373:\tlearn: 0.1627238\ttotal: 375ms\tremaining: 628ms\n",
      "374:\tlearn: 0.1623677\ttotal: 376ms\tremaining: 627ms\n",
      "375:\tlearn: 0.1619581\ttotal: 377ms\tremaining: 626ms\n",
      "376:\tlearn: 0.1615966\ttotal: 378ms\tremaining: 625ms\n",
      "377:\tlearn: 0.1612049\ttotal: 379ms\tremaining: 624ms\n",
      "378:\tlearn: 0.1609321\ttotal: 380ms\tremaining: 623ms\n",
      "379:\tlearn: 0.1605303\ttotal: 381ms\tremaining: 621ms\n",
      "380:\tlearn: 0.1602408\ttotal: 381ms\tremaining: 620ms\n"
     ]
    },
    {
     "name": "stdout",
     "output_type": "stream",
     "text": [
      "381:\tlearn: 0.1599279\ttotal: 383ms\tremaining: 619ms\n",
      "382:\tlearn: 0.1596803\ttotal: 384ms\tremaining: 618ms\n",
      "383:\tlearn: 0.1595407\ttotal: 384ms\tremaining: 617ms\n",
      "384:\tlearn: 0.1591714\ttotal: 385ms\tremaining: 615ms\n",
      "385:\tlearn: 0.1588464\ttotal: 386ms\tremaining: 614ms\n",
      "386:\tlearn: 0.1584851\ttotal: 387ms\tremaining: 613ms\n",
      "387:\tlearn: 0.1582084\ttotal: 388ms\tremaining: 612ms\n",
      "388:\tlearn: 0.1579791\ttotal: 389ms\tremaining: 611ms\n",
      "389:\tlearn: 0.1576498\ttotal: 390ms\tremaining: 609ms\n",
      "390:\tlearn: 0.1573811\ttotal: 390ms\tremaining: 608ms\n",
      "391:\tlearn: 0.1570142\ttotal: 391ms\tremaining: 607ms\n",
      "392:\tlearn: 0.1567356\ttotal: 392ms\tremaining: 605ms\n",
      "393:\tlearn: 0.1564073\ttotal: 393ms\tremaining: 604ms\n",
      "394:\tlearn: 0.1559916\ttotal: 394ms\tremaining: 603ms\n",
      "395:\tlearn: 0.1557812\ttotal: 394ms\tremaining: 601ms\n",
      "396:\tlearn: 0.1554805\ttotal: 395ms\tremaining: 600ms\n",
      "397:\tlearn: 0.1552665\ttotal: 396ms\tremaining: 599ms\n",
      "398:\tlearn: 0.1551774\ttotal: 397ms\tremaining: 597ms\n",
      "399:\tlearn: 0.1548943\ttotal: 397ms\tremaining: 596ms\n",
      "400:\tlearn: 0.1544942\ttotal: 398ms\tremaining: 595ms\n",
      "401:\tlearn: 0.1542832\ttotal: 399ms\tremaining: 593ms\n",
      "402:\tlearn: 0.1540463\ttotal: 400ms\tremaining: 592ms\n",
      "403:\tlearn: 0.1538100\ttotal: 400ms\tremaining: 591ms\n",
      "404:\tlearn: 0.1535458\ttotal: 401ms\tremaining: 589ms\n",
      "405:\tlearn: 0.1532737\ttotal: 402ms\tremaining: 588ms\n",
      "406:\tlearn: 0.1528272\ttotal: 403ms\tremaining: 587ms\n",
      "407:\tlearn: 0.1524557\ttotal: 404ms\tremaining: 586ms\n",
      "408:\tlearn: 0.1522026\ttotal: 404ms\tremaining: 584ms\n",
      "409:\tlearn: 0.1519299\ttotal: 405ms\tremaining: 583ms\n",
      "410:\tlearn: 0.1517058\ttotal: 406ms\tremaining: 582ms\n",
      "411:\tlearn: 0.1515673\ttotal: 407ms\tremaining: 581ms\n",
      "412:\tlearn: 0.1513663\ttotal: 408ms\tremaining: 580ms\n",
      "413:\tlearn: 0.1510825\ttotal: 409ms\tremaining: 578ms\n",
      "414:\tlearn: 0.1510044\ttotal: 410ms\tremaining: 577ms\n",
      "415:\tlearn: 0.1507865\ttotal: 411ms\tremaining: 576ms\n",
      "416:\tlearn: 0.1507184\ttotal: 411ms\tremaining: 575ms\n",
      "417:\tlearn: 0.1503431\ttotal: 412ms\tremaining: 574ms\n",
      "418:\tlearn: 0.1501387\ttotal: 413ms\tremaining: 573ms\n",
      "419:\tlearn: 0.1500551\ttotal: 414ms\tremaining: 572ms\n",
      "420:\tlearn: 0.1497949\ttotal: 415ms\tremaining: 570ms\n",
      "421:\tlearn: 0.1494747\ttotal: 416ms\tremaining: 569ms\n",
      "422:\tlearn: 0.1491974\ttotal: 416ms\tremaining: 568ms\n",
      "423:\tlearn: 0.1489100\ttotal: 417ms\tremaining: 567ms\n",
      "424:\tlearn: 0.1487379\ttotal: 418ms\tremaining: 566ms\n",
      "425:\tlearn: 0.1483676\ttotal: 419ms\tremaining: 564ms\n",
      "426:\tlearn: 0.1482110\ttotal: 420ms\tremaining: 563ms\n",
      "427:\tlearn: 0.1479516\ttotal: 421ms\tremaining: 562ms\n",
      "428:\tlearn: 0.1477317\ttotal: 421ms\tremaining: 561ms\n",
      "429:\tlearn: 0.1474889\ttotal: 422ms\tremaining: 560ms\n",
      "430:\tlearn: 0.1473059\ttotal: 423ms\tremaining: 559ms\n",
      "431:\tlearn: 0.1470012\ttotal: 424ms\tremaining: 558ms\n",
      "432:\tlearn: 0.1468885\ttotal: 425ms\tremaining: 556ms\n",
      "433:\tlearn: 0.1464783\ttotal: 426ms\tremaining: 555ms\n",
      "434:\tlearn: 0.1461622\ttotal: 427ms\tremaining: 554ms\n",
      "435:\tlearn: 0.1460405\ttotal: 427ms\tremaining: 553ms\n",
      "436:\tlearn: 0.1458361\ttotal: 428ms\tremaining: 552ms\n",
      "437:\tlearn: 0.1455312\ttotal: 429ms\tremaining: 551ms\n",
      "438:\tlearn: 0.1454421\ttotal: 430ms\tremaining: 550ms\n",
      "439:\tlearn: 0.1449855\ttotal: 431ms\tremaining: 549ms\n",
      "440:\tlearn: 0.1448315\ttotal: 432ms\tremaining: 548ms\n",
      "441:\tlearn: 0.1445842\ttotal: 433ms\tremaining: 547ms\n",
      "442:\tlearn: 0.1443640\ttotal: 434ms\tremaining: 546ms\n",
      "443:\tlearn: 0.1441397\ttotal: 435ms\tremaining: 544ms\n",
      "444:\tlearn: 0.1440764\ttotal: 436ms\tremaining: 543ms\n",
      "445:\tlearn: 0.1438604\ttotal: 437ms\tremaining: 542ms\n",
      "446:\tlearn: 0.1437445\ttotal: 437ms\tremaining: 541ms\n",
      "447:\tlearn: 0.1434744\ttotal: 438ms\tremaining: 540ms\n",
      "448:\tlearn: 0.1433005\ttotal: 440ms\tremaining: 539ms\n",
      "449:\tlearn: 0.1428905\ttotal: 440ms\tremaining: 538ms\n",
      "450:\tlearn: 0.1425940\ttotal: 441ms\tremaining: 537ms\n",
      "451:\tlearn: 0.1424417\ttotal: 442ms\tremaining: 536ms\n",
      "452:\tlearn: 0.1422302\ttotal: 443ms\tremaining: 535ms\n",
      "453:\tlearn: 0.1420535\ttotal: 444ms\tremaining: 534ms\n",
      "454:\tlearn: 0.1418705\ttotal: 445ms\tremaining: 533ms\n",
      "455:\tlearn: 0.1417141\ttotal: 446ms\tremaining: 531ms\n",
      "456:\tlearn: 0.1413829\ttotal: 446ms\tremaining: 530ms\n",
      "457:\tlearn: 0.1412360\ttotal: 447ms\tremaining: 529ms\n",
      "458:\tlearn: 0.1411623\ttotal: 448ms\tremaining: 528ms\n",
      "459:\tlearn: 0.1408597\ttotal: 449ms\tremaining: 527ms\n",
      "460:\tlearn: 0.1405654\ttotal: 450ms\tremaining: 526ms\n",
      "461:\tlearn: 0.1402894\ttotal: 450ms\tremaining: 525ms\n",
      "462:\tlearn: 0.1401437\ttotal: 451ms\tremaining: 523ms\n",
      "463:\tlearn: 0.1398678\ttotal: 452ms\tremaining: 522ms\n",
      "464:\tlearn: 0.1395276\ttotal: 453ms\tremaining: 521ms\n",
      "465:\tlearn: 0.1393376\ttotal: 454ms\tremaining: 520ms\n",
      "466:\tlearn: 0.1391409\ttotal: 454ms\tremaining: 519ms\n",
      "467:\tlearn: 0.1390799\ttotal: 455ms\tremaining: 517ms\n",
      "468:\tlearn: 0.1388796\ttotal: 456ms\tremaining: 516ms\n",
      "469:\tlearn: 0.1386568\ttotal: 457ms\tremaining: 515ms\n",
      "470:\tlearn: 0.1383429\ttotal: 458ms\tremaining: 514ms\n",
      "471:\tlearn: 0.1380681\ttotal: 458ms\tremaining: 513ms\n",
      "472:\tlearn: 0.1378270\ttotal: 459ms\tremaining: 512ms\n",
      "473:\tlearn: 0.1376808\ttotal: 460ms\tremaining: 510ms\n",
      "474:\tlearn: 0.1373566\ttotal: 461ms\tremaining: 509ms\n",
      "475:\tlearn: 0.1371240\ttotal: 462ms\tremaining: 508ms\n",
      "476:\tlearn: 0.1367200\ttotal: 463ms\tremaining: 507ms\n",
      "477:\tlearn: 0.1364823\ttotal: 463ms\tremaining: 506ms\n",
      "478:\tlearn: 0.1363268\ttotal: 464ms\tremaining: 505ms\n",
      "479:\tlearn: 0.1362027\ttotal: 465ms\tremaining: 504ms\n",
      "480:\tlearn: 0.1358830\ttotal: 466ms\tremaining: 503ms\n",
      "481:\tlearn: 0.1356213\ttotal: 467ms\tremaining: 502ms\n",
      "482:\tlearn: 0.1355550\ttotal: 468ms\tremaining: 501ms\n",
      "483:\tlearn: 0.1353504\ttotal: 468ms\tremaining: 499ms\n",
      "484:\tlearn: 0.1351490\ttotal: 469ms\tremaining: 498ms\n",
      "485:\tlearn: 0.1348476\ttotal: 470ms\tremaining: 497ms\n",
      "486:\tlearn: 0.1346597\ttotal: 471ms\tremaining: 496ms\n",
      "487:\tlearn: 0.1343896\ttotal: 472ms\tremaining: 495ms\n",
      "488:\tlearn: 0.1340970\ttotal: 473ms\tremaining: 494ms\n",
      "489:\tlearn: 0.1338566\ttotal: 473ms\tremaining: 493ms\n",
      "490:\tlearn: 0.1337401\ttotal: 474ms\tremaining: 492ms\n",
      "491:\tlearn: 0.1335307\ttotal: 475ms\tremaining: 491ms\n",
      "492:\tlearn: 0.1331625\ttotal: 476ms\tremaining: 490ms\n",
      "493:\tlearn: 0.1330767\ttotal: 477ms\tremaining: 488ms\n",
      "494:\tlearn: 0.1328058\ttotal: 478ms\tremaining: 487ms\n",
      "495:\tlearn: 0.1325661\ttotal: 478ms\tremaining: 486ms\n",
      "496:\tlearn: 0.1324559\ttotal: 479ms\tremaining: 485ms\n",
      "497:\tlearn: 0.1322351\ttotal: 480ms\tremaining: 484ms\n",
      "498:\tlearn: 0.1320324\ttotal: 481ms\tremaining: 483ms\n",
      "499:\tlearn: 0.1318742\ttotal: 482ms\tremaining: 482ms\n",
      "500:\tlearn: 0.1315768\ttotal: 483ms\tremaining: 481ms\n",
      "501:\tlearn: 0.1312799\ttotal: 484ms\tremaining: 480ms\n",
      "502:\tlearn: 0.1310345\ttotal: 484ms\tremaining: 479ms\n",
      "503:\tlearn: 0.1307264\ttotal: 485ms\tremaining: 478ms\n",
      "504:\tlearn: 0.1305079\ttotal: 486ms\tremaining: 477ms\n",
      "505:\tlearn: 0.1302641\ttotal: 487ms\tremaining: 475ms\n"
     ]
    },
    {
     "name": "stdout",
     "output_type": "stream",
     "text": [
      "506:\tlearn: 0.1301230\ttotal: 488ms\tremaining: 475ms\n",
      "507:\tlearn: 0.1298567\ttotal: 489ms\tremaining: 474ms\n",
      "508:\tlearn: 0.1295862\ttotal: 490ms\tremaining: 473ms\n",
      "509:\tlearn: 0.1294325\ttotal: 491ms\tremaining: 471ms\n",
      "510:\tlearn: 0.1292993\ttotal: 492ms\tremaining: 470ms\n",
      "511:\tlearn: 0.1290202\ttotal: 492ms\tremaining: 469ms\n",
      "512:\tlearn: 0.1288483\ttotal: 493ms\tremaining: 468ms\n",
      "513:\tlearn: 0.1286153\ttotal: 494ms\tremaining: 467ms\n",
      "514:\tlearn: 0.1283114\ttotal: 495ms\tremaining: 466ms\n",
      "515:\tlearn: 0.1280762\ttotal: 496ms\tremaining: 465ms\n",
      "516:\tlearn: 0.1278479\ttotal: 497ms\tremaining: 464ms\n",
      "517:\tlearn: 0.1275147\ttotal: 497ms\tremaining: 463ms\n",
      "518:\tlearn: 0.1274301\ttotal: 498ms\tremaining: 462ms\n",
      "519:\tlearn: 0.1272671\ttotal: 499ms\tremaining: 460ms\n",
      "520:\tlearn: 0.1270931\ttotal: 500ms\tremaining: 459ms\n",
      "521:\tlearn: 0.1269099\ttotal: 500ms\tremaining: 458ms\n",
      "522:\tlearn: 0.1266633\ttotal: 501ms\tremaining: 457ms\n",
      "523:\tlearn: 0.1264692\ttotal: 502ms\tremaining: 456ms\n",
      "524:\tlearn: 0.1261648\ttotal: 503ms\tremaining: 455ms\n",
      "525:\tlearn: 0.1259450\ttotal: 504ms\tremaining: 454ms\n",
      "526:\tlearn: 0.1258160\ttotal: 505ms\tremaining: 453ms\n",
      "527:\tlearn: 0.1256799\ttotal: 506ms\tremaining: 452ms\n",
      "528:\tlearn: 0.1254842\ttotal: 506ms\tremaining: 451ms\n",
      "529:\tlearn: 0.1253257\ttotal: 507ms\tremaining: 450ms\n",
      "530:\tlearn: 0.1250975\ttotal: 508ms\tremaining: 449ms\n",
      "531:\tlearn: 0.1248673\ttotal: 509ms\tremaining: 448ms\n",
      "532:\tlearn: 0.1245295\ttotal: 510ms\tremaining: 447ms\n",
      "533:\tlearn: 0.1243973\ttotal: 510ms\tremaining: 445ms\n",
      "534:\tlearn: 0.1241597\ttotal: 511ms\tremaining: 444ms\n",
      "535:\tlearn: 0.1240700\ttotal: 512ms\tremaining: 443ms\n",
      "536:\tlearn: 0.1237378\ttotal: 513ms\tremaining: 442ms\n",
      "537:\tlearn: 0.1236574\ttotal: 514ms\tremaining: 441ms\n",
      "538:\tlearn: 0.1235574\ttotal: 514ms\tremaining: 440ms\n",
      "539:\tlearn: 0.1233359\ttotal: 515ms\tremaining: 439ms\n",
      "540:\tlearn: 0.1231950\ttotal: 516ms\tremaining: 438ms\n",
      "541:\tlearn: 0.1230205\ttotal: 517ms\tremaining: 437ms\n",
      "542:\tlearn: 0.1228508\ttotal: 518ms\tremaining: 436ms\n",
      "543:\tlearn: 0.1227634\ttotal: 518ms\tremaining: 435ms\n",
      "544:\tlearn: 0.1224991\ttotal: 519ms\tremaining: 434ms\n",
      "545:\tlearn: 0.1223028\ttotal: 520ms\tremaining: 432ms\n",
      "546:\tlearn: 0.1221910\ttotal: 521ms\tremaining: 431ms\n",
      "547:\tlearn: 0.1220981\ttotal: 522ms\tremaining: 430ms\n",
      "548:\tlearn: 0.1219014\ttotal: 523ms\tremaining: 429ms\n",
      "549:\tlearn: 0.1217501\ttotal: 523ms\tremaining: 428ms\n",
      "550:\tlearn: 0.1216216\ttotal: 524ms\tremaining: 427ms\n",
      "551:\tlearn: 0.1214103\ttotal: 525ms\tremaining: 426ms\n",
      "552:\tlearn: 0.1212092\ttotal: 526ms\tremaining: 425ms\n",
      "553:\tlearn: 0.1209936\ttotal: 527ms\tremaining: 424ms\n",
      "554:\tlearn: 0.1207758\ttotal: 528ms\tremaining: 424ms\n",
      "555:\tlearn: 0.1206736\ttotal: 529ms\tremaining: 422ms\n",
      "556:\tlearn: 0.1204367\ttotal: 530ms\tremaining: 421ms\n",
      "557:\tlearn: 0.1203041\ttotal: 531ms\tremaining: 420ms\n",
      "558:\tlearn: 0.1202255\ttotal: 532ms\tremaining: 419ms\n",
      "559:\tlearn: 0.1199586\ttotal: 532ms\tremaining: 418ms\n",
      "560:\tlearn: 0.1198456\ttotal: 533ms\tremaining: 417ms\n",
      "561:\tlearn: 0.1196914\ttotal: 534ms\tremaining: 416ms\n",
      "562:\tlearn: 0.1193356\ttotal: 535ms\tremaining: 415ms\n",
      "563:\tlearn: 0.1189593\ttotal: 536ms\tremaining: 414ms\n",
      "564:\tlearn: 0.1188074\ttotal: 537ms\tremaining: 413ms\n",
      "565:\tlearn: 0.1186918\ttotal: 538ms\tremaining: 412ms\n",
      "566:\tlearn: 0.1184143\ttotal: 538ms\tremaining: 411ms\n",
      "567:\tlearn: 0.1183149\ttotal: 539ms\tremaining: 410ms\n",
      "568:\tlearn: 0.1181820\ttotal: 540ms\tremaining: 409ms\n",
      "569:\tlearn: 0.1178555\ttotal: 541ms\tremaining: 408ms\n",
      "570:\tlearn: 0.1177246\ttotal: 542ms\tremaining: 407ms\n",
      "571:\tlearn: 0.1175011\ttotal: 542ms\tremaining: 406ms\n",
      "572:\tlearn: 0.1172581\ttotal: 543ms\tremaining: 405ms\n",
      "573:\tlearn: 0.1172016\ttotal: 544ms\tremaining: 404ms\n",
      "574:\tlearn: 0.1170237\ttotal: 545ms\tremaining: 403ms\n",
      "575:\tlearn: 0.1167505\ttotal: 546ms\tremaining: 402ms\n",
      "576:\tlearn: 0.1165341\ttotal: 547ms\tremaining: 401ms\n",
      "577:\tlearn: 0.1164759\ttotal: 547ms\tremaining: 400ms\n",
      "578:\tlearn: 0.1162248\ttotal: 548ms\tremaining: 399ms\n",
      "579:\tlearn: 0.1160340\ttotal: 549ms\tremaining: 398ms\n",
      "580:\tlearn: 0.1159887\ttotal: 550ms\tremaining: 396ms\n",
      "581:\tlearn: 0.1159408\ttotal: 551ms\tremaining: 395ms\n",
      "582:\tlearn: 0.1156943\ttotal: 551ms\tremaining: 394ms\n",
      "583:\tlearn: 0.1155331\ttotal: 552ms\tremaining: 393ms\n",
      "584:\tlearn: 0.1152951\ttotal: 553ms\tremaining: 392ms\n",
      "585:\tlearn: 0.1151887\ttotal: 554ms\tremaining: 391ms\n",
      "586:\tlearn: 0.1150457\ttotal: 555ms\tremaining: 390ms\n",
      "587:\tlearn: 0.1149777\ttotal: 555ms\tremaining: 389ms\n",
      "588:\tlearn: 0.1147304\ttotal: 556ms\tremaining: 388ms\n",
      "589:\tlearn: 0.1145746\ttotal: 557ms\tremaining: 387ms\n",
      "590:\tlearn: 0.1143270\ttotal: 558ms\tremaining: 386ms\n",
      "591:\tlearn: 0.1141790\ttotal: 559ms\tremaining: 385ms\n",
      "592:\tlearn: 0.1140414\ttotal: 559ms\tremaining: 384ms\n",
      "593:\tlearn: 0.1139749\ttotal: 560ms\tremaining: 383ms\n",
      "594:\tlearn: 0.1138615\ttotal: 561ms\tremaining: 382ms\n",
      "595:\tlearn: 0.1137814\ttotal: 562ms\tremaining: 381ms\n",
      "596:\tlearn: 0.1136077\ttotal: 562ms\tremaining: 380ms\n",
      "597:\tlearn: 0.1134061\ttotal: 563ms\tremaining: 379ms\n",
      "598:\tlearn: 0.1132640\ttotal: 564ms\tremaining: 378ms\n",
      "599:\tlearn: 0.1132487\ttotal: 565ms\tremaining: 377ms\n",
      "600:\tlearn: 0.1130147\ttotal: 566ms\tremaining: 376ms\n",
      "601:\tlearn: 0.1129052\ttotal: 567ms\tremaining: 375ms\n",
      "602:\tlearn: 0.1126520\ttotal: 567ms\tremaining: 374ms\n",
      "603:\tlearn: 0.1124949\ttotal: 568ms\tremaining: 373ms\n",
      "604:\tlearn: 0.1123685\ttotal: 569ms\tremaining: 372ms\n",
      "605:\tlearn: 0.1120598\ttotal: 570ms\tremaining: 371ms\n",
      "606:\tlearn: 0.1119525\ttotal: 571ms\tremaining: 370ms\n",
      "607:\tlearn: 0.1117150\ttotal: 572ms\tremaining: 369ms\n",
      "608:\tlearn: 0.1115964\ttotal: 573ms\tremaining: 368ms\n"
     ]
    },
    {
     "name": "stdout",
     "output_type": "stream",
     "text": [
      "609:\tlearn: 0.1114552\ttotal: 574ms\tremaining: 367ms\n",
      "610:\tlearn: 0.1112353\ttotal: 574ms\tremaining: 366ms\n",
      "611:\tlearn: 0.1109073\ttotal: 575ms\tremaining: 365ms\n",
      "612:\tlearn: 0.1107723\ttotal: 576ms\tremaining: 364ms\n",
      "613:\tlearn: 0.1106441\ttotal: 577ms\tremaining: 363ms\n",
      "614:\tlearn: 0.1103981\ttotal: 578ms\tremaining: 362ms\n",
      "615:\tlearn: 0.1103543\ttotal: 579ms\tremaining: 361ms\n",
      "616:\tlearn: 0.1101107\ttotal: 580ms\tremaining: 360ms\n",
      "617:\tlearn: 0.1098355\ttotal: 581ms\tremaining: 359ms\n",
      "618:\tlearn: 0.1096798\ttotal: 581ms\tremaining: 358ms\n",
      "619:\tlearn: 0.1096002\ttotal: 582ms\tremaining: 357ms\n",
      "620:\tlearn: 0.1094667\ttotal: 583ms\tremaining: 356ms\n",
      "621:\tlearn: 0.1092635\ttotal: 584ms\tremaining: 355ms\n",
      "622:\tlearn: 0.1091496\ttotal: 584ms\tremaining: 354ms\n",
      "623:\tlearn: 0.1089665\ttotal: 585ms\tremaining: 353ms\n",
      "624:\tlearn: 0.1087050\ttotal: 586ms\tremaining: 352ms\n",
      "625:\tlearn: 0.1086363\ttotal: 587ms\tremaining: 351ms\n",
      "626:\tlearn: 0.1084442\ttotal: 588ms\tremaining: 350ms\n",
      "627:\tlearn: 0.1082554\ttotal: 588ms\tremaining: 349ms\n",
      "628:\tlearn: 0.1080628\ttotal: 589ms\tremaining: 348ms\n",
      "629:\tlearn: 0.1079926\ttotal: 590ms\tremaining: 346ms\n",
      "630:\tlearn: 0.1078749\ttotal: 591ms\tremaining: 345ms\n",
      "631:\tlearn: 0.1076741\ttotal: 591ms\tremaining: 344ms\n",
      "632:\tlearn: 0.1074087\ttotal: 592ms\tremaining: 343ms\n",
      "633:\tlearn: 0.1073593\ttotal: 593ms\tremaining: 342ms\n",
      "634:\tlearn: 0.1072124\ttotal: 594ms\tremaining: 341ms\n",
      "635:\tlearn: 0.1071170\ttotal: 595ms\tremaining: 340ms\n",
      "636:\tlearn: 0.1069928\ttotal: 596ms\tremaining: 339ms\n",
      "637:\tlearn: 0.1067875\ttotal: 596ms\tremaining: 338ms\n",
      "638:\tlearn: 0.1065292\ttotal: 597ms\tremaining: 338ms\n",
      "639:\tlearn: 0.1063181\ttotal: 598ms\tremaining: 337ms\n",
      "640:\tlearn: 0.1060378\ttotal: 599ms\tremaining: 336ms\n",
      "641:\tlearn: 0.1057704\ttotal: 600ms\tremaining: 335ms\n",
      "642:\tlearn: 0.1056486\ttotal: 601ms\tremaining: 334ms\n",
      "643:\tlearn: 0.1055850\ttotal: 601ms\tremaining: 332ms\n",
      "644:\tlearn: 0.1055018\ttotal: 602ms\tremaining: 331ms\n",
      "645:\tlearn: 0.1053024\ttotal: 603ms\tremaining: 330ms\n",
      "646:\tlearn: 0.1052415\ttotal: 603ms\tremaining: 329ms\n",
      "647:\tlearn: 0.1051056\ttotal: 604ms\tremaining: 328ms\n",
      "648:\tlearn: 0.1049567\ttotal: 605ms\tremaining: 327ms\n",
      "649:\tlearn: 0.1049377\ttotal: 606ms\tremaining: 326ms\n",
      "650:\tlearn: 0.1048408\ttotal: 607ms\tremaining: 325ms\n",
      "651:\tlearn: 0.1046591\ttotal: 607ms\tremaining: 324ms\n",
      "652:\tlearn: 0.1045363\ttotal: 608ms\tremaining: 323ms\n",
      "653:\tlearn: 0.1044219\ttotal: 609ms\tremaining: 322ms\n",
      "654:\tlearn: 0.1041713\ttotal: 610ms\tremaining: 321ms\n",
      "655:\tlearn: 0.1040470\ttotal: 611ms\tremaining: 320ms\n",
      "656:\tlearn: 0.1037528\ttotal: 611ms\tremaining: 319ms\n",
      "657:\tlearn: 0.1036014\ttotal: 612ms\tremaining: 318ms\n",
      "658:\tlearn: 0.1034883\ttotal: 613ms\tremaining: 317ms\n",
      "659:\tlearn: 0.1033076\ttotal: 614ms\tremaining: 316ms\n",
      "660:\tlearn: 0.1031351\ttotal: 615ms\tremaining: 315ms\n",
      "661:\tlearn: 0.1030340\ttotal: 615ms\tremaining: 314ms\n",
      "662:\tlearn: 0.1027787\ttotal: 616ms\tremaining: 313ms\n",
      "663:\tlearn: 0.1026525\ttotal: 617ms\tremaining: 312ms\n",
      "664:\tlearn: 0.1025082\ttotal: 618ms\tremaining: 311ms\n",
      "665:\tlearn: 0.1022737\ttotal: 619ms\tremaining: 310ms\n",
      "666:\tlearn: 0.1020113\ttotal: 619ms\tremaining: 309ms\n",
      "667:\tlearn: 0.1018624\ttotal: 620ms\tremaining: 308ms\n",
      "668:\tlearn: 0.1017429\ttotal: 621ms\tremaining: 307ms\n",
      "669:\tlearn: 0.1015800\ttotal: 622ms\tremaining: 306ms\n",
      "670:\tlearn: 0.1014804\ttotal: 623ms\tremaining: 306ms\n",
      "671:\tlearn: 0.1013018\ttotal: 624ms\tremaining: 305ms\n",
      "672:\tlearn: 0.1012131\ttotal: 625ms\tremaining: 304ms\n",
      "673:\tlearn: 0.1010126\ttotal: 626ms\tremaining: 303ms\n",
      "674:\tlearn: 0.1007731\ttotal: 626ms\tremaining: 302ms\n",
      "675:\tlearn: 0.1006824\ttotal: 627ms\tremaining: 301ms\n",
      "676:\tlearn: 0.1005591\ttotal: 628ms\tremaining: 300ms\n",
      "677:\tlearn: 0.1004231\ttotal: 629ms\tremaining: 299ms\n",
      "678:\tlearn: 0.1002647\ttotal: 630ms\tremaining: 298ms\n",
      "679:\tlearn: 0.1001795\ttotal: 630ms\tremaining: 297ms\n",
      "680:\tlearn: 0.0999987\ttotal: 631ms\tremaining: 296ms\n",
      "681:\tlearn: 0.0997671\ttotal: 632ms\tremaining: 295ms\n",
      "682:\tlearn: 0.0995765\ttotal: 633ms\tremaining: 294ms\n",
      "683:\tlearn: 0.0993979\ttotal: 634ms\tremaining: 293ms\n",
      "684:\tlearn: 0.0992901\ttotal: 635ms\tremaining: 292ms\n",
      "685:\tlearn: 0.0991686\ttotal: 636ms\tremaining: 291ms\n",
      "686:\tlearn: 0.0990230\ttotal: 637ms\tremaining: 290ms\n",
      "687:\tlearn: 0.0988889\ttotal: 638ms\tremaining: 289ms\n",
      "688:\tlearn: 0.0988033\ttotal: 638ms\tremaining: 288ms\n",
      "689:\tlearn: 0.0987497\ttotal: 639ms\tremaining: 287ms\n",
      "690:\tlearn: 0.0985142\ttotal: 640ms\tremaining: 286ms\n",
      "691:\tlearn: 0.0984063\ttotal: 641ms\tremaining: 285ms\n",
      "692:\tlearn: 0.0982005\ttotal: 641ms\tremaining: 284ms\n",
      "693:\tlearn: 0.0980073\ttotal: 642ms\tremaining: 283ms\n",
      "694:\tlearn: 0.0979592\ttotal: 643ms\tremaining: 282ms\n",
      "695:\tlearn: 0.0977402\ttotal: 644ms\tremaining: 281ms\n",
      "696:\tlearn: 0.0976376\ttotal: 645ms\tremaining: 280ms\n",
      "697:\tlearn: 0.0975810\ttotal: 645ms\tremaining: 279ms\n",
      "698:\tlearn: 0.0973818\ttotal: 646ms\tremaining: 278ms\n",
      "699:\tlearn: 0.0971899\ttotal: 647ms\tremaining: 277ms\n",
      "700:\tlearn: 0.0969585\ttotal: 648ms\tremaining: 276ms\n",
      "701:\tlearn: 0.0967138\ttotal: 649ms\tremaining: 275ms\n",
      "702:\tlearn: 0.0966269\ttotal: 650ms\tremaining: 275ms\n",
      "703:\tlearn: 0.0963878\ttotal: 651ms\tremaining: 274ms\n",
      "704:\tlearn: 0.0961728\ttotal: 652ms\tremaining: 273ms\n",
      "705:\tlearn: 0.0960439\ttotal: 652ms\tremaining: 272ms\n",
      "706:\tlearn: 0.0957891\ttotal: 653ms\tremaining: 271ms\n",
      "707:\tlearn: 0.0957436\ttotal: 654ms\tremaining: 270ms\n",
      "708:\tlearn: 0.0955013\ttotal: 655ms\tremaining: 269ms\n",
      "709:\tlearn: 0.0952926\ttotal: 656ms\tremaining: 268ms\n",
      "710:\tlearn: 0.0952068\ttotal: 657ms\tremaining: 267ms\n",
      "711:\tlearn: 0.0950070\ttotal: 658ms\tremaining: 266ms\n",
      "712:\tlearn: 0.0949094\ttotal: 659ms\tremaining: 265ms\n",
      "713:\tlearn: 0.0948367\ttotal: 659ms\tremaining: 264ms\n",
      "714:\tlearn: 0.0947392\ttotal: 660ms\tremaining: 263ms\n",
      "715:\tlearn: 0.0945840\ttotal: 661ms\tremaining: 262ms\n",
      "716:\tlearn: 0.0945112\ttotal: 662ms\tremaining: 261ms\n",
      "717:\tlearn: 0.0943401\ttotal: 663ms\tremaining: 260ms\n",
      "718:\tlearn: 0.0942707\ttotal: 663ms\tremaining: 259ms\n",
      "719:\tlearn: 0.0940898\ttotal: 664ms\tremaining: 258ms\n",
      "720:\tlearn: 0.0939493\ttotal: 665ms\tremaining: 257ms\n",
      "721:\tlearn: 0.0938366\ttotal: 666ms\tremaining: 256ms\n",
      "722:\tlearn: 0.0937434\ttotal: 667ms\tremaining: 255ms\n",
      "723:\tlearn: 0.0935297\ttotal: 668ms\tremaining: 254ms\n",
      "724:\tlearn: 0.0934291\ttotal: 668ms\tremaining: 254ms\n",
      "725:\tlearn: 0.0933178\ttotal: 669ms\tremaining: 253ms\n",
      "726:\tlearn: 0.0931160\ttotal: 670ms\tremaining: 252ms\n",
      "727:\tlearn: 0.0930687\ttotal: 671ms\tremaining: 251ms\n",
      "728:\tlearn: 0.0929869\ttotal: 672ms\tremaining: 250ms\n",
      "729:\tlearn: 0.0928344\ttotal: 673ms\tremaining: 249ms\n",
      "730:\tlearn: 0.0926313\ttotal: 674ms\tremaining: 248ms\n",
      "731:\tlearn: 0.0925438\ttotal: 675ms\tremaining: 247ms\n",
      "732:\tlearn: 0.0924731\ttotal: 676ms\tremaining: 246ms\n",
      "733:\tlearn: 0.0924579\ttotal: 676ms\tremaining: 245ms\n",
      "734:\tlearn: 0.0922136\ttotal: 677ms\tremaining: 244ms\n"
     ]
    },
    {
     "name": "stdout",
     "output_type": "stream",
     "text": [
      "735:\tlearn: 0.0921334\ttotal: 678ms\tremaining: 243ms\n",
      "736:\tlearn: 0.0920398\ttotal: 679ms\tremaining: 242ms\n",
      "737:\tlearn: 0.0919484\ttotal: 680ms\tremaining: 241ms\n",
      "738:\tlearn: 0.0918331\ttotal: 681ms\tremaining: 240ms\n",
      "739:\tlearn: 0.0917760\ttotal: 682ms\tremaining: 239ms\n",
      "740:\tlearn: 0.0915316\ttotal: 682ms\tremaining: 238ms\n",
      "741:\tlearn: 0.0912889\ttotal: 683ms\tremaining: 238ms\n",
      "742:\tlearn: 0.0911301\ttotal: 684ms\tremaining: 237ms\n",
      "743:\tlearn: 0.0909673\ttotal: 685ms\tremaining: 236ms\n",
      "744:\tlearn: 0.0908353\ttotal: 686ms\tremaining: 235ms\n",
      "745:\tlearn: 0.0906782\ttotal: 686ms\tremaining: 234ms\n",
      "746:\tlearn: 0.0905157\ttotal: 687ms\tremaining: 233ms\n",
      "747:\tlearn: 0.0904384\ttotal: 688ms\tremaining: 232ms\n",
      "748:\tlearn: 0.0903594\ttotal: 689ms\tremaining: 231ms\n",
      "749:\tlearn: 0.0902194\ttotal: 690ms\tremaining: 230ms\n",
      "750:\tlearn: 0.0900817\ttotal: 691ms\tremaining: 229ms\n",
      "751:\tlearn: 0.0899812\ttotal: 691ms\tremaining: 228ms\n",
      "752:\tlearn: 0.0898784\ttotal: 692ms\tremaining: 227ms\n",
      "753:\tlearn: 0.0898110\ttotal: 693ms\tremaining: 226ms\n",
      "754:\tlearn: 0.0897586\ttotal: 694ms\tremaining: 225ms\n",
      "755:\tlearn: 0.0896303\ttotal: 695ms\tremaining: 224ms\n",
      "756:\tlearn: 0.0895608\ttotal: 696ms\tremaining: 223ms\n",
      "757:\tlearn: 0.0894262\ttotal: 696ms\tremaining: 222ms\n",
      "758:\tlearn: 0.0893476\ttotal: 697ms\tremaining: 221ms\n",
      "759:\tlearn: 0.0892639\ttotal: 698ms\tremaining: 220ms\n",
      "760:\tlearn: 0.0890463\ttotal: 699ms\tremaining: 219ms\n",
      "761:\tlearn: 0.0889911\ttotal: 700ms\tremaining: 219ms\n",
      "762:\tlearn: 0.0888705\ttotal: 700ms\tremaining: 218ms\n",
      "763:\tlearn: 0.0887619\ttotal: 701ms\tremaining: 217ms\n",
      "764:\tlearn: 0.0886234\ttotal: 702ms\tremaining: 216ms\n",
      "765:\tlearn: 0.0885086\ttotal: 703ms\tremaining: 215ms\n",
      "766:\tlearn: 0.0883568\ttotal: 704ms\tremaining: 214ms\n",
      "767:\tlearn: 0.0882737\ttotal: 705ms\tremaining: 213ms\n",
      "768:\tlearn: 0.0881614\ttotal: 705ms\tremaining: 212ms\n",
      "769:\tlearn: 0.0881065\ttotal: 706ms\tremaining: 211ms\n",
      "770:\tlearn: 0.0880068\ttotal: 707ms\tremaining: 210ms\n",
      "771:\tlearn: 0.0879330\ttotal: 708ms\tremaining: 209ms\n",
      "772:\tlearn: 0.0878521\ttotal: 708ms\tremaining: 208ms\n",
      "773:\tlearn: 0.0876779\ttotal: 709ms\tremaining: 207ms\n",
      "774:\tlearn: 0.0875570\ttotal: 710ms\tremaining: 206ms\n",
      "775:\tlearn: 0.0874866\ttotal: 711ms\tremaining: 205ms\n",
      "776:\tlearn: 0.0874339\ttotal: 712ms\tremaining: 204ms\n",
      "777:\tlearn: 0.0873139\ttotal: 713ms\tremaining: 203ms\n",
      "778:\tlearn: 0.0871593\ttotal: 713ms\tremaining: 202ms\n",
      "779:\tlearn: 0.0869924\ttotal: 714ms\tremaining: 201ms\n",
      "780:\tlearn: 0.0867911\ttotal: 715ms\tremaining: 201ms\n",
      "781:\tlearn: 0.0866743\ttotal: 716ms\tremaining: 200ms\n",
      "782:\tlearn: 0.0866156\ttotal: 717ms\tremaining: 199ms\n",
      "783:\tlearn: 0.0864579\ttotal: 718ms\tremaining: 198ms\n",
      "784:\tlearn: 0.0863643\ttotal: 719ms\tremaining: 197ms\n",
      "785:\tlearn: 0.0862564\ttotal: 720ms\tremaining: 196ms\n",
      "786:\tlearn: 0.0861062\ttotal: 721ms\tremaining: 195ms\n",
      "787:\tlearn: 0.0859134\ttotal: 721ms\tremaining: 194ms\n",
      "788:\tlearn: 0.0857499\ttotal: 722ms\tremaining: 193ms\n",
      "789:\tlearn: 0.0855513\ttotal: 723ms\tremaining: 192ms\n",
      "790:\tlearn: 0.0854512\ttotal: 724ms\tremaining: 191ms\n",
      "791:\tlearn: 0.0853849\ttotal: 725ms\tremaining: 190ms\n",
      "792:\tlearn: 0.0852464\ttotal: 726ms\tremaining: 189ms\n",
      "793:\tlearn: 0.0851387\ttotal: 726ms\tremaining: 188ms\n",
      "794:\tlearn: 0.0849921\ttotal: 727ms\tremaining: 188ms\n",
      "795:\tlearn: 0.0848602\ttotal: 728ms\tremaining: 187ms\n",
      "796:\tlearn: 0.0846596\ttotal: 729ms\tremaining: 186ms\n",
      "797:\tlearn: 0.0846084\ttotal: 730ms\tremaining: 185ms\n",
      "798:\tlearn: 0.0844880\ttotal: 730ms\tremaining: 184ms\n",
      "799:\tlearn: 0.0843606\ttotal: 731ms\tremaining: 183ms\n",
      "800:\tlearn: 0.0842323\ttotal: 732ms\tremaining: 182ms\n",
      "801:\tlearn: 0.0840958\ttotal: 733ms\tremaining: 181ms\n",
      "802:\tlearn: 0.0840764\ttotal: 734ms\tremaining: 180ms\n",
      "803:\tlearn: 0.0839541\ttotal: 735ms\tremaining: 179ms\n",
      "804:\tlearn: 0.0838757\ttotal: 735ms\tremaining: 178ms\n",
      "805:\tlearn: 0.0837902\ttotal: 736ms\tremaining: 177ms\n",
      "806:\tlearn: 0.0836810\ttotal: 737ms\tremaining: 176ms\n",
      "807:\tlearn: 0.0835006\ttotal: 738ms\tremaining: 175ms\n",
      "808:\tlearn: 0.0833621\ttotal: 739ms\tremaining: 174ms\n",
      "809:\tlearn: 0.0832325\ttotal: 739ms\tremaining: 173ms\n",
      "810:\tlearn: 0.0831967\ttotal: 740ms\tremaining: 173ms\n",
      "811:\tlearn: 0.0830061\ttotal: 741ms\tremaining: 172ms\n",
      "812:\tlearn: 0.0828951\ttotal: 742ms\tremaining: 171ms\n",
      "813:\tlearn: 0.0828198\ttotal: 743ms\tremaining: 170ms\n",
      "814:\tlearn: 0.0827231\ttotal: 744ms\tremaining: 169ms\n",
      "815:\tlearn: 0.0825592\ttotal: 744ms\tremaining: 168ms\n",
      "816:\tlearn: 0.0823824\ttotal: 745ms\tremaining: 167ms\n",
      "817:\tlearn: 0.0823216\ttotal: 746ms\tremaining: 166ms\n",
      "818:\tlearn: 0.0821534\ttotal: 747ms\tremaining: 165ms\n",
      "819:\tlearn: 0.0819570\ttotal: 748ms\tremaining: 164ms\n",
      "820:\tlearn: 0.0817760\ttotal: 749ms\tremaining: 163ms\n",
      "821:\tlearn: 0.0817219\ttotal: 749ms\tremaining: 162ms\n",
      "822:\tlearn: 0.0815918\ttotal: 750ms\tremaining: 161ms\n",
      "823:\tlearn: 0.0814402\ttotal: 751ms\tremaining: 160ms\n",
      "824:\tlearn: 0.0812648\ttotal: 752ms\tremaining: 159ms\n",
      "825:\tlearn: 0.0811560\ttotal: 753ms\tremaining: 159ms\n",
      "826:\tlearn: 0.0809418\ttotal: 753ms\tremaining: 158ms\n",
      "827:\tlearn: 0.0808419\ttotal: 754ms\tremaining: 157ms\n",
      "828:\tlearn: 0.0806573\ttotal: 755ms\tremaining: 156ms\n",
      "829:\tlearn: 0.0805574\ttotal: 756ms\tremaining: 155ms\n",
      "830:\tlearn: 0.0803422\ttotal: 756ms\tremaining: 154ms\n",
      "831:\tlearn: 0.0802508\ttotal: 757ms\tremaining: 153ms\n",
      "832:\tlearn: 0.0801306\ttotal: 758ms\tremaining: 152ms\n",
      "833:\tlearn: 0.0799390\ttotal: 759ms\tremaining: 151ms\n",
      "834:\tlearn: 0.0799300\ttotal: 760ms\tremaining: 150ms\n",
      "835:\tlearn: 0.0798205\ttotal: 761ms\tremaining: 149ms\n",
      "836:\tlearn: 0.0797275\ttotal: 761ms\tremaining: 148ms\n",
      "837:\tlearn: 0.0795788\ttotal: 762ms\tremaining: 147ms\n",
      "838:\tlearn: 0.0794652\ttotal: 763ms\tremaining: 146ms\n"
     ]
    },
    {
     "name": "stdout",
     "output_type": "stream",
     "text": [
      "839:\tlearn: 0.0793533\ttotal: 764ms\tremaining: 146ms\n",
      "840:\tlearn: 0.0791677\ttotal: 765ms\tremaining: 145ms\n",
      "841:\tlearn: 0.0790254\ttotal: 766ms\tremaining: 144ms\n",
      "842:\tlearn: 0.0788764\ttotal: 767ms\tremaining: 143ms\n",
      "843:\tlearn: 0.0786998\ttotal: 767ms\tremaining: 142ms\n",
      "844:\tlearn: 0.0786418\ttotal: 768ms\tremaining: 141ms\n",
      "845:\tlearn: 0.0785605\ttotal: 769ms\tremaining: 140ms\n",
      "846:\tlearn: 0.0784885\ttotal: 770ms\tremaining: 139ms\n",
      "847:\tlearn: 0.0784354\ttotal: 771ms\tremaining: 138ms\n",
      "848:\tlearn: 0.0783218\ttotal: 771ms\tremaining: 137ms\n",
      "849:\tlearn: 0.0781845\ttotal: 772ms\tremaining: 136ms\n",
      "850:\tlearn: 0.0781483\ttotal: 773ms\tremaining: 135ms\n",
      "851:\tlearn: 0.0780775\ttotal: 774ms\tremaining: 134ms\n",
      "852:\tlearn: 0.0780348\ttotal: 774ms\tremaining: 133ms\n",
      "853:\tlearn: 0.0779248\ttotal: 775ms\tremaining: 133ms\n",
      "854:\tlearn: 0.0778571\ttotal: 777ms\tremaining: 132ms\n",
      "855:\tlearn: 0.0777415\ttotal: 777ms\tremaining: 131ms\n",
      "856:\tlearn: 0.0776451\ttotal: 778ms\tremaining: 130ms\n",
      "857:\tlearn: 0.0775693\ttotal: 779ms\tremaining: 129ms\n",
      "858:\tlearn: 0.0774782\ttotal: 780ms\tremaining: 128ms\n",
      "859:\tlearn: 0.0773475\ttotal: 781ms\tremaining: 127ms\n",
      "860:\tlearn: 0.0772858\ttotal: 781ms\tremaining: 126ms\n",
      "861:\tlearn: 0.0771300\ttotal: 782ms\tremaining: 125ms\n",
      "862:\tlearn: 0.0770943\ttotal: 783ms\tremaining: 124ms\n",
      "863:\tlearn: 0.0770379\ttotal: 784ms\tremaining: 123ms\n",
      "864:\tlearn: 0.0768987\ttotal: 785ms\tremaining: 122ms\n",
      "865:\tlearn: 0.0768141\ttotal: 786ms\tremaining: 122ms\n",
      "866:\tlearn: 0.0766940\ttotal: 786ms\tremaining: 121ms\n",
      "867:\tlearn: 0.0766187\ttotal: 787ms\tremaining: 120ms\n",
      "868:\tlearn: 0.0764308\ttotal: 788ms\tremaining: 119ms\n",
      "869:\tlearn: 0.0763162\ttotal: 789ms\tremaining: 118ms\n",
      "870:\tlearn: 0.0762285\ttotal: 790ms\tremaining: 117ms\n",
      "871:\tlearn: 0.0760417\ttotal: 791ms\tremaining: 116ms\n",
      "872:\tlearn: 0.0759634\ttotal: 792ms\tremaining: 115ms\n",
      "873:\tlearn: 0.0759109\ttotal: 792ms\tremaining: 114ms\n",
      "874:\tlearn: 0.0758817\ttotal: 793ms\tremaining: 113ms\n",
      "875:\tlearn: 0.0757324\ttotal: 794ms\tremaining: 112ms\n",
      "876:\tlearn: 0.0756354\ttotal: 795ms\tremaining: 111ms\n",
      "877:\tlearn: 0.0755443\ttotal: 796ms\tremaining: 111ms\n",
      "878:\tlearn: 0.0754638\ttotal: 796ms\tremaining: 110ms\n",
      "879:\tlearn: 0.0753241\ttotal: 797ms\tremaining: 109ms\n",
      "880:\tlearn: 0.0752637\ttotal: 798ms\tremaining: 108ms\n",
      "881:\tlearn: 0.0750964\ttotal: 799ms\tremaining: 107ms\n",
      "882:\tlearn: 0.0750567\ttotal: 799ms\tremaining: 106ms\n",
      "883:\tlearn: 0.0749557\ttotal: 800ms\tremaining: 105ms\n",
      "884:\tlearn: 0.0747944\ttotal: 801ms\tremaining: 104ms\n",
      "885:\tlearn: 0.0747257\ttotal: 802ms\tremaining: 103ms\n",
      "886:\tlearn: 0.0746394\ttotal: 803ms\tremaining: 102ms\n",
      "887:\tlearn: 0.0746015\ttotal: 804ms\tremaining: 101ms\n",
      "888:\tlearn: 0.0745441\ttotal: 805ms\tremaining: 101ms\n",
      "889:\tlearn: 0.0745076\ttotal: 806ms\tremaining: 99.6ms\n",
      "890:\tlearn: 0.0744153\ttotal: 807ms\tremaining: 98.7ms\n",
      "891:\tlearn: 0.0743064\ttotal: 808ms\tremaining: 97.8ms\n",
      "892:\tlearn: 0.0741822\ttotal: 809ms\tremaining: 96.9ms\n",
      "893:\tlearn: 0.0740488\ttotal: 809ms\tremaining: 96ms\n",
      "894:\tlearn: 0.0739427\ttotal: 810ms\tremaining: 95ms\n",
      "895:\tlearn: 0.0737960\ttotal: 811ms\tremaining: 94.1ms\n",
      "896:\tlearn: 0.0735978\ttotal: 812ms\tremaining: 93.2ms\n",
      "897:\tlearn: 0.0735430\ttotal: 813ms\tremaining: 92.3ms\n",
      "898:\tlearn: 0.0734796\ttotal: 814ms\tremaining: 91.4ms\n",
      "899:\tlearn: 0.0734237\ttotal: 814ms\tremaining: 90.5ms\n",
      "900:\tlearn: 0.0733121\ttotal: 815ms\tremaining: 89.6ms\n",
      "901:\tlearn: 0.0731420\ttotal: 816ms\tremaining: 88.7ms\n",
      "902:\tlearn: 0.0730145\ttotal: 817ms\tremaining: 87.8ms\n",
      "903:\tlearn: 0.0728803\ttotal: 818ms\tremaining: 86.8ms\n",
      "904:\tlearn: 0.0727914\ttotal: 819ms\tremaining: 85.9ms\n",
      "905:\tlearn: 0.0726540\ttotal: 820ms\tremaining: 85ms\n",
      "906:\tlearn: 0.0725732\ttotal: 820ms\tremaining: 84.1ms\n",
      "907:\tlearn: 0.0724998\ttotal: 821ms\tremaining: 83.2ms\n",
      "908:\tlearn: 0.0724001\ttotal: 822ms\tremaining: 82.3ms\n",
      "909:\tlearn: 0.0723427\ttotal: 823ms\tremaining: 81.4ms\n",
      "910:\tlearn: 0.0722118\ttotal: 824ms\tremaining: 80.5ms\n",
      "911:\tlearn: 0.0721610\ttotal: 825ms\tremaining: 79.6ms\n",
      "912:\tlearn: 0.0720381\ttotal: 826ms\tremaining: 78.7ms\n",
      "913:\tlearn: 0.0719151\ttotal: 826ms\tremaining: 77.8ms\n",
      "914:\tlearn: 0.0718763\ttotal: 827ms\tremaining: 76.9ms\n",
      "915:\tlearn: 0.0718044\ttotal: 828ms\tremaining: 75.9ms\n",
      "916:\tlearn: 0.0717091\ttotal: 829ms\tremaining: 75ms\n",
      "917:\tlearn: 0.0715891\ttotal: 830ms\tremaining: 74.1ms\n",
      "918:\tlearn: 0.0714390\ttotal: 830ms\tremaining: 73.2ms\n",
      "919:\tlearn: 0.0712993\ttotal: 831ms\tremaining: 72.3ms\n",
      "920:\tlearn: 0.0711918\ttotal: 832ms\tremaining: 71.4ms\n",
      "921:\tlearn: 0.0710189\ttotal: 833ms\tremaining: 70.5ms\n",
      "922:\tlearn: 0.0708265\ttotal: 834ms\tremaining: 69.6ms\n",
      "923:\tlearn: 0.0707089\ttotal: 835ms\tremaining: 68.7ms\n",
      "924:\tlearn: 0.0706620\ttotal: 836ms\tremaining: 67.8ms\n",
      "925:\tlearn: 0.0706066\ttotal: 837ms\tremaining: 66.9ms\n",
      "926:\tlearn: 0.0704406\ttotal: 838ms\tremaining: 66ms\n",
      "927:\tlearn: 0.0703755\ttotal: 839ms\tremaining: 65.1ms\n",
      "928:\tlearn: 0.0702136\ttotal: 839ms\tremaining: 64.2ms\n",
      "929:\tlearn: 0.0701395\ttotal: 840ms\tremaining: 63.3ms\n",
      "930:\tlearn: 0.0700375\ttotal: 841ms\tremaining: 62.3ms\n",
      "931:\tlearn: 0.0699569\ttotal: 842ms\tremaining: 61.4ms\n",
      "932:\tlearn: 0.0698411\ttotal: 843ms\tremaining: 60.5ms\n",
      "933:\tlearn: 0.0698039\ttotal: 844ms\tremaining: 59.6ms\n",
      "934:\tlearn: 0.0696916\ttotal: 844ms\tremaining: 58.7ms\n",
      "935:\tlearn: 0.0696219\ttotal: 845ms\tremaining: 57.8ms\n",
      "936:\tlearn: 0.0695683\ttotal: 846ms\tremaining: 56.9ms\n",
      "937:\tlearn: 0.0695051\ttotal: 847ms\tremaining: 56ms\n",
      "938:\tlearn: 0.0694445\ttotal: 848ms\tremaining: 55.1ms\n",
      "939:\tlearn: 0.0692924\ttotal: 848ms\tremaining: 54.1ms\n",
      "940:\tlearn: 0.0691686\ttotal: 849ms\tremaining: 53.2ms\n",
      "941:\tlearn: 0.0691155\ttotal: 850ms\tremaining: 52.3ms\n",
      "942:\tlearn: 0.0690743\ttotal: 851ms\tremaining: 51.5ms\n",
      "943:\tlearn: 0.0689439\ttotal: 852ms\tremaining: 50.5ms\n",
      "944:\tlearn: 0.0688504\ttotal: 853ms\tremaining: 49.6ms\n",
      "945:\tlearn: 0.0687916\ttotal: 854ms\tremaining: 48.7ms\n",
      "946:\tlearn: 0.0686635\ttotal: 854ms\tremaining: 47.8ms\n",
      "947:\tlearn: 0.0684859\ttotal: 855ms\tremaining: 46.9ms\n",
      "948:\tlearn: 0.0684468\ttotal: 856ms\tremaining: 46ms\n",
      "949:\tlearn: 0.0683762\ttotal: 857ms\tremaining: 45.1ms\n",
      "950:\tlearn: 0.0682969\ttotal: 858ms\tremaining: 44.2ms\n",
      "951:\tlearn: 0.0681462\ttotal: 859ms\tremaining: 43.3ms\n",
      "952:\tlearn: 0.0679994\ttotal: 859ms\tremaining: 42.4ms\n",
      "953:\tlearn: 0.0678427\ttotal: 860ms\tremaining: 41.5ms\n",
      "954:\tlearn: 0.0677251\ttotal: 861ms\tremaining: 40.6ms\n",
      "955:\tlearn: 0.0676605\ttotal: 862ms\tremaining: 39.7ms\n",
      "956:\tlearn: 0.0676152\ttotal: 863ms\tremaining: 38.8ms\n",
      "957:\tlearn: 0.0675556\ttotal: 863ms\tremaining: 37.9ms\n",
      "958:\tlearn: 0.0673744\ttotal: 864ms\tremaining: 36.9ms\n",
      "959:\tlearn: 0.0673187\ttotal: 865ms\tremaining: 36ms\n",
      "960:\tlearn: 0.0671927\ttotal: 866ms\tremaining: 35.1ms\n",
      "961:\tlearn: 0.0671638\ttotal: 867ms\tremaining: 34.2ms\n",
      "962:\tlearn: 0.0670035\ttotal: 868ms\tremaining: 33.3ms\n"
     ]
    },
    {
     "name": "stdout",
     "output_type": "stream",
     "text": [
      "963:\tlearn: 0.0669441\ttotal: 869ms\tremaining: 32.4ms\n",
      "964:\tlearn: 0.0668105\ttotal: 870ms\tremaining: 31.5ms\n",
      "965:\tlearn: 0.0667472\ttotal: 870ms\tremaining: 30.6ms\n",
      "966:\tlearn: 0.0667156\ttotal: 871ms\tremaining: 29.7ms\n",
      "967:\tlearn: 0.0666108\ttotal: 872ms\tremaining: 28.8ms\n",
      "968:\tlearn: 0.0665258\ttotal: 873ms\tremaining: 27.9ms\n",
      "969:\tlearn: 0.0663974\ttotal: 874ms\tremaining: 27ms\n",
      "970:\tlearn: 0.0663536\ttotal: 875ms\tremaining: 26.1ms\n",
      "971:\tlearn: 0.0663325\ttotal: 876ms\tremaining: 25.2ms\n",
      "972:\tlearn: 0.0662746\ttotal: 876ms\tremaining: 24.3ms\n",
      "973:\tlearn: 0.0662522\ttotal: 877ms\tremaining: 23.4ms\n",
      "974:\tlearn: 0.0661599\ttotal: 878ms\tremaining: 22.5ms\n",
      "975:\tlearn: 0.0661174\ttotal: 879ms\tremaining: 21.6ms\n",
      "976:\tlearn: 0.0660268\ttotal: 880ms\tremaining: 20.7ms\n",
      "977:\tlearn: 0.0659855\ttotal: 881ms\tremaining: 19.8ms\n",
      "978:\tlearn: 0.0659433\ttotal: 881ms\tremaining: 18.9ms\n",
      "979:\tlearn: 0.0658831\ttotal: 882ms\tremaining: 18ms\n",
      "980:\tlearn: 0.0658068\ttotal: 883ms\tremaining: 17.1ms\n",
      "981:\tlearn: 0.0656893\ttotal: 884ms\tremaining: 16.2ms\n",
      "982:\tlearn: 0.0656199\ttotal: 885ms\tremaining: 15.3ms\n",
      "983:\tlearn: 0.0655607\ttotal: 885ms\tremaining: 14.4ms\n",
      "984:\tlearn: 0.0654386\ttotal: 886ms\tremaining: 13.5ms\n",
      "985:\tlearn: 0.0653613\ttotal: 887ms\tremaining: 12.6ms\n",
      "986:\tlearn: 0.0652860\ttotal: 888ms\tremaining: 11.7ms\n",
      "987:\tlearn: 0.0651478\ttotal: 889ms\tremaining: 10.8ms\n",
      "988:\tlearn: 0.0650272\ttotal: 890ms\tremaining: 9.89ms\n",
      "989:\tlearn: 0.0650012\ttotal: 891ms\tremaining: 9ms\n",
      "990:\tlearn: 0.0648577\ttotal: 891ms\tremaining: 8.09ms\n",
      "991:\tlearn: 0.0648064\ttotal: 892ms\tremaining: 7.19ms\n",
      "992:\tlearn: 0.0647431\ttotal: 893ms\tremaining: 6.29ms\n",
      "993:\tlearn: 0.0646482\ttotal: 894ms\tremaining: 5.39ms\n",
      "994:\tlearn: 0.0645405\ttotal: 894ms\tremaining: 4.49ms\n",
      "995:\tlearn: 0.0644092\ttotal: 895ms\tremaining: 3.6ms\n",
      "996:\tlearn: 0.0643348\ttotal: 896ms\tremaining: 2.7ms\n",
      "997:\tlearn: 0.0642949\ttotal: 897ms\tremaining: 1.8ms\n",
      "998:\tlearn: 0.0641811\ttotal: 897ms\tremaining: 898us\n",
      "999:\tlearn: 0.0640899\ttotal: 898ms\tremaining: 0us\n"
     ]
    },
    {
     "data": {
      "text/plain": [
       "<catboost.core.CatBoostRegressor at 0x7fc843600af0>"
      ]
     },
     "execution_count": 9,
     "metadata": {},
     "output_type": "execute_result"
    }
   ],
   "source": [
    "#Train the Model \n",
    "prior_model = ctb.CatBoostRegressor()\n",
    "prior_model.fit(X_train,Y_train)"
   ]
  },
  {
   "cell_type": "code",
   "execution_count": 10,
   "id": "af65dcda",
   "metadata": {
    "execution": {
     "iopub.execute_input": "2022-06-12T06:45:51.693134Z",
     "iopub.status.busy": "2022-06-12T06:45:51.692753Z",
     "iopub.status.idle": "2022-06-12T06:45:51.700007Z",
     "shell.execute_reply": "2022-06-12T06:45:51.700366Z"
    },
    "id": "af65dcda",
    "papermill": {
     "duration": 0.020488,
     "end_time": "2022-06-12T06:45:51.700481",
     "exception": false,
     "start_time": "2022-06-12T06:45:51.679993",
     "status": "completed"
    },
    "tags": []
   },
   "outputs": [
    {
     "data": {
      "application/scrapbook.scrap.json+json": {
       "data": 0.1090546849364284,
       "encoder": "json",
       "name": "Prior Model MSE",
       "version": 1
      }
     },
     "metadata": {
      "scrapbook": {
       "data": true,
       "display": false,
       "name": "Prior Model MSE"
      }
     },
     "output_type": "display_data"
    },
    {
     "data": {
      "application/scrapbook.scrap.json+json": {
       "data": 1.1331695784972473,
       "encoder": "json",
       "name": "ABC Pre-generator MSE",
       "version": 1
      }
     },
     "metadata": {
      "scrapbook": {
       "data": true,
       "display": false,
       "name": "ABC Pre-generator MSE"
      }
     },
     "output_type": "display_data"
    },
    {
     "data": {
      "application/scrapbook.scrap.json+json": {
       "data": 0.2101926858446564,
       "encoder": "json",
       "name": "Prior Model MSE",
       "version": 1
      }
     },
     "metadata": {
      "scrapbook": {
       "data": true,
       "display": false,
       "name": "Prior Model MSE"
      }
     },
     "output_type": "display_data"
    },
    {
     "data": {
      "application/scrapbook.scrap.json+json": {
       "data": 1.0267854362057427,
       "encoder": "json",
       "name": "ABC Pre-generator MSE",
       "version": 1
      }
     },
     "metadata": {
      "scrapbook": {
       "data": true,
       "display": false,
       "name": "ABC Pre-generator MSE"
      }
     },
     "output_type": "display_data"
    }
   ],
   "source": [
    "y_pred = prior_model.predict(X_test)\n",
    "y_abc = y_pred + np.random.normal(0,variance, y_pred.shape) + bias \n",
    "mse = mean_squared_error(y_pred,Y_test)\n",
    "sb.glue(\"Prior Model MSE\",mse)\n",
    "mse = mean_squared_error(y_abc,Y_test)\n",
    "sb.glue(\"ABC Pre-generator MSE\",mse)\n",
    "mae = mean_absolute_error(y_pred,Y_test)\n",
    "sb.glue(\"Prior Model MSE\",mae)\n",
    "mae = mean_absolute_error(y_abc,Y_test)\n",
    "sb.glue(\"ABC Pre-generator MSE\",mae)"
   ]
  },
  {
   "cell_type": "markdown",
   "id": "25609da2",
   "metadata": {
    "papermill": {
     "duration": 0.009809,
     "end_time": "2022-06-12T06:45:51.720515",
     "exception": false,
     "start_time": "2022-06-12T06:45:51.710706",
     "status": "completed"
    },
    "tags": []
   },
   "source": [
    "# ABC GAN Model"
   ]
  },
  {
   "cell_type": "code",
   "execution_count": 11,
   "id": "dfc3464d",
   "metadata": {
    "execution": {
     "iopub.execute_input": "2022-06-12T06:45:51.743281Z",
     "iopub.status.busy": "2022-06-12T06:45:51.742888Z",
     "iopub.status.idle": "2022-06-12T06:45:51.745469Z",
     "shell.execute_reply": "2022-06-12T06:45:51.745705Z"
    },
    "papermill": {
     "duration": 0.01538,
     "end_time": "2022-06-12T06:45:51.745814",
     "exception": false,
     "start_time": "2022-06-12T06:45:51.730434",
     "status": "completed"
    },
    "tags": []
   },
   "outputs": [],
   "source": [
    "gen = network.Generator(n_features+1).to(device)\n",
    "disc = network.Discriminator(n_features+1).to(device)\n",
    "\n",
    "criterion = torch.nn.BCELoss()\n",
    "gen_opt = torch.optim.Adam(gen.parameters(), lr=0.001, betas=(0.5, 0.999))\n",
    "disc_opt = torch.optim.Adam(disc.parameters(), lr=0.001, betas=(0.5, 0.999))"
   ]
  },
  {
   "cell_type": "code",
   "execution_count": 12,
   "id": "b75fdd85",
   "metadata": {
    "execution": {
     "iopub.execute_input": "2022-06-12T06:45:51.768590Z",
     "iopub.status.busy": "2022-06-12T06:45:51.768169Z",
     "iopub.status.idle": "2022-06-12T06:46:52.369597Z",
     "shell.execute_reply": "2022-06-12T06:46:52.369897Z"
    },
    "papermill": {
     "duration": 60.614168,
     "end_time": "2022-06-12T06:46:52.370020",
     "exception": false,
     "start_time": "2022-06-12T06:45:51.755852",
     "status": "completed"
    },
    "tags": []
   },
   "outputs": [
    {
     "data": {
      "image/png": "[encoded data removed]",
      "text/plain": [
       "<Figure size 432x288 with 1 Axes>"
      ]
     },
     "metadata": {
      "needs_background": "light"
     },
     "output_type": "display_data"
    },
    {
     "data": {
      "image/png": "[encoded data removed]",
      "text/plain": [
       "<Figure size 432x288 with 1 Axes>"
      ]
     },
     "metadata": {
      "needs_background": "light"
     },
     "output_type": "display_data"
    }
   ],
   "source": [
    "#Training the ABC_GAN \n",
    "ABC_train_test2.training_GAN(disc,gen,disc_opt,gen_opt,train_data,batch_size,n_epochs,criterion,prior_model,variance,bias,device)"
   ]
  },
  {
   "cell_type": "code",
   "execution_count": 13,
   "id": "1fa7c368",
   "metadata": {
    "execution": {
     "iopub.execute_input": "2022-06-12T06:46:52.394699Z",
     "iopub.status.busy": "2022-06-12T06:46:52.394296Z",
     "iopub.status.idle": "2022-06-12T06:46:52.708157Z",
     "shell.execute_reply": "2022-06-12T06:46:52.708453Z"
    },
    "papermill": {
     "duration": 0.327539,
     "end_time": "2022-06-12T06:46:52.708570",
     "exception": false,
     "start_time": "2022-06-12T06:46:52.381031",
     "status": "completed"
    },
    "tags": []
   },
   "outputs": [
    {
     "data": {
      "application/scrapbook.scrap.json+json": {
       "data": 0.13497112252696536,
       "encoder": "json",
       "name": "ABC-GAN Model 1 MSE",
       "version": 1
      }
     },
     "metadata": {
      "scrapbook": {
       "data": true,
       "display": false,
       "name": "ABC-GAN Model 1 MSE"
      }
     },
     "output_type": "display_data"
    },
    {
     "data": {
      "application/scrapbook.scrap.json+json": {
       "data": 0.22549484362898797,
       "encoder": "json",
       "name": "ABC-GAN Model 1 MAE",
       "version": 1
      }
     },
     "metadata": {
      "scrapbook": {
       "data": true,
       "display": false,
       "name": "ABC-GAN Model 1 MAE"
      }
     },
     "output_type": "display_data"
    },
    {
     "data": {
      "application/scrapbook.scrap.json+json": {
       "data": 23.00047405015677,
       "encoder": "json",
       "name": "ABC-GAN Model 1 Manhattan Distance",
       "version": 1
      }
     },
     "metadata": {
      "scrapbook": {
       "data": true,
       "display": false,
       "name": "ABC-GAN Model 1 Manhattan Distance"
      }
     },
     "output_type": "display_data"
    },
    {
     "data": {
      "application/scrapbook.scrap.json+json": {
       "data": 3.708719463568654,
       "encoder": "json",
       "name": "ABC-GAN Model 1 Euclidean distance",
       "version": 1
      }
     },
     "metadata": {
      "scrapbook": {
       "data": true,
       "display": false,
       "name": "ABC-GAN Model 1 Euclidean distance"
      }
     },
     "output_type": "display_data"
    },
    {
     "data": {
      "application/scrapbook.scrap.json+json": {
       "data": [
        [
         0.12390939134879257,
         0.13367855176904733,
         0.13461885518056743,
         0.14780195419253797,
         0.15120368064288836,
         0.1363606112309117,
         0.14967784477096813,
         0.1477624320601099,
         0.1353371100264363,
         0.13170462413908687,
         0.14484358765895844,
         0.14859398755986228,
         0.13693748987786492,
         0.15094676413978092,
         0.14032610916412658,
         0.13516400101054604,
         0.1337875721028032,
         0.14458231208485514,
         0.145119383949905,
         0.13135564976415878,
         0.13787576232158624,
         0.13750555275537976,
         0.13502923671244352,
         0.14020812979878045,
         0.1346468688628847,
         0.13564396873773735,
         0.1251502316380583,
         0.12630313044649294,
         0.13112172667643932,
         0.13740112751170613,
         0.13321826719070134,
         0.1261877729098427,
         0.12462191155905575,
         0.13737475717645373,
         0.14791085419497277,
         0.1355475657385534,
         0.1374908577378827,
         0.13795702418719882,
         0.12817629019753207,
         0.13733262683112557,
         0.1344534045072623,
         0.13982031593247007,
         0.13741406876049211,
         0.10753986075692247,
         0.13415623654075323,
         0.12610754165605545,
         0.13293493920787486,
         0.138648766434011,
         0.12928529567973043,
         0.11884653572870423,
         0.13360658469744194,
         0.13997883595591967,
         0.14022770064712237,
         0.13685541836700507,
         0.1429252200792414,
         0.12873750661526603,
         0.1287332427339504,
         0.13348361357546257,
         0.13288091458493212,
         0.13215240818538324,
         0.13479735248756464,
         0.12377546382539156,
         0.13234408067466055,
         0.1384750187803597,
         0.12935036330627486,
         0.14236207270562176,
         0.13054424270048384,
         0.12300784133482584,
         0.12845075636629943,
         0.1367081869351005,
         0.1391272256156191,
         0.1327798709264429,
         0.13692733454011397,
         0.12115560398319751,
         0.1375711411382507,
         0.134213998636933,
         0.13813087068457416,
         0.11827386553646727,
         0.13696597367459973,
         0.139975854273118,
         0.13133205479699267,
         0.13917248405190694,
         0.12016372715425093,
         0.14234416799235786,
         0.14203119417221294,
         0.14616352888685383,
         0.1231937300994465,
         0.1440557667309227,
         0.12360560992023978,
         0.146660812871503,
         0.12823945592511787,
         0.12600216655309374,
         0.15166092898441305,
         0.12621972650390653,
         0.13939761662892566,
         0.12516321447414933,
         0.1434929648778645,
         0.12598084963208508,
         0.13836049379359408,
         0.13973065401576412
        ],
        [
         0.22461858782552035,
         0.23041925845923378,
         0.22973787642138846,
         0.2268880192628678,
         0.24544514069224105,
         0.23420581206971525,
         0.2327698723723491,
         0.2354559306347487,
         0.2230401127142649,
         0.22301513953682253,
         0.22424032922615023,
         0.22918679696672103,
         0.2219038648786498,
         0.23692542800278055,
         0.23829123962159252,
         0.22909756461341008,
         0.2265732537808956,
         0.2268343682528711,
         0.22469794143940888,
         0.22125893506203212,
         0.2275324535428309,
         0.22439980192803868,
         0.22992505754033724,
         0.21736757899178008,
         0.22223575122873573,
         0.23297599969687416,
         0.2222958656356615,
         0.22047490831099303,
         0.21768802572406976,
         0.22178659715927115,
         0.22658230882941507,
         0.2203482901494877,
         0.22582903686983913,
         0.22623683322294086,
         0.22558228131018432,
         0.22395516285563216,
         0.22428805662282542,
         0.228201017002849,
         0.22331534789911672,
         0.2259238592769001,
         0.21994184319149046,
         0.22522538115142607,
         0.22904746718339475,
         0.20461283313731352,
         0.2254696486919534,
         0.22190337281162834,
         0.22680866579506911,
         0.23516194872996388,
         0.21861026989405646,
         0.2196667213358131,
         0.22552663354458763,
         0.24180209969042563,
         0.21920010148018015,
         0.2313485409991414,
         0.23377260299143837,
         0.2279111049411928,
         0.227952974026694,
         0.22484653107091493,
         0.2196018385025216,
         0.227426347322762,
         0.21937755612181684,
         0.22462902981422694,
         0.22316140758202357,
         0.23262834899565754,
         0.22574609718924643,
         0.22858296542921486,
         0.2291076629988703,
         0.22064805523875883,
         0.21615837605706617,
         0.22222227541108927,
         0.22618464961209717,
         0.21515207478374826,
         0.22625141892143907,
         0.2173025931286461,
         0.2220789544722613,
         0.22340011817640534,
         0.22639692004989176,
         0.2128983488050746,
         0.22760015824700103,
         0.22847461886703968,
         0.21488097660681782,
         0.22771990061828903,
         0.2254750241762867,
         0.23413573019206524,
         0.2249748637790189,
         0.23594980150022926,
         0.22515174005107552,
         0.22521458361663071,
         0.21266135314077722,
         0.22902896032467776,
         0.2253642526327395,
         0.21860033215260974,
         0.23528186790645123,
         0.22283253774923437,
         0.2227315543694239,
         0.2218883826452143,
         0.23074669993537314,
         0.22824582249364433,
         0.2161297325556185,
         0.22708198442762972
        ],
        [
         22.911095958203077,
         23.502764362841845,
         23.433263394981623,
         23.142577964812517,
         25.035404350608587,
         23.888992831110954,
         23.74252698197961,
         24.016504924744368,
         22.75009149685502,
         22.7475442327559,
         22.872513581067324,
         23.377053290605545,
         22.63419421762228,
         24.166393656283617,
         24.305706441402435,
         23.367951590567827,
         23.11047188565135,
         23.13710556179285,
         22.919190026819706,
         22.568411376327276,
         23.20831026136875,
         22.888779796659946,
         23.4523558691144,
         22.17149305716157,
         22.668046625331044,
         23.763551969081163,
         22.674178294837475,
         22.48844064772129,
         22.204178623855114,
         22.622232910245657,
         23.111395500600338,
         22.475525595247746,
         23.03456176072359,
         23.076156988739967,
         23.0093926936388,
         22.84342661127448,
         22.877381775528193,
         23.2765037342906,
         22.778165485709906,
         23.04423364624381,
         22.434068005532026,
         22.97298887744546,
         23.362841652706265,
         20.87050898000598,
         22.997904166579247,
         22.63414402678609,
         23.13448391109705,
         23.986518770456314,
         22.29824752919376,
         22.406005576252937,
         23.003716621547937,
         24.663814168423414,
         22.358410350978374,
         23.597551181912422,
         23.844805505126715,
         23.246932704001665,
         23.25120335072279,
         22.934346169233322,
         22.399387527257204,
         23.197487426921725,
         22.376510724425316,
         22.91216104105115,
         22.762463573366404,
         23.728091597557068,
         23.026101913303137,
         23.315462473779917,
         23.36898162588477,
         22.5061016343534,
         22.04815435782075,
         22.666672091931105,
         23.070834260433912,
         21.945511627942324,
         23.077644729986787,
         22.164864499121904,
         22.652053356170654,
         22.786812053993344,
         23.09248584508896,
         21.71563157811761,
         23.215216141194105,
         23.304411124438047,
         21.917859613895416,
         23.22742986306548,
         22.998452465981245,
         23.881844479590654,
         22.94743610545993,
         24.066879753023386,
         22.965477485209703,
         22.971887528896332,
         21.691458020359278,
         23.360953953117132,
         22.98715376853943,
         22.297233879566193,
         23.998750526458025,
         22.728918850421906,
         22.718618545681238,
         22.63261502981186,
         23.53616339340806,
         23.28107389435172,
         22.045232720673084,
         23.162362411618233
        ],
        [
         3.5551030811464304,
         3.69258883176056,
         3.705553025989221,
         3.8827566660349535,
         3.9271841598751904,
         3.729447994751099,
         3.907318795112417,
         3.8822375082072464,
         3.7154253084534616,
         3.665224640071445,
         3.8437021140059437,
         3.8931461224960393,
         3.737328453259389,
         3.9238463199082676,
         3.78328734498728,
         3.713048357222902,
         3.6940942536007286,
         3.8402338252579384,
         3.8473597652013654,
         3.6603655932084416,
         3.7501103659494865,
         3.7450722798163363,
         3.711196861481379,
         3.7816966085972057,
         3.7059385618240133,
         3.719635037372512,
         3.572859306925189,
         3.589278382285536,
         3.6571048824168013,
         3.743649957754333,
         3.686226153324227,
         3.5876388944268003,
         3.5653099415091085,
         3.7432906956310887,
         3.8841868039381438,
         3.7183130187401443,
         3.7448721592684615,
         3.751215332008319,
         3.615796122591576,
         3.7427166519487955,
         3.7032752071295953,
         3.7764629251605184,
         3.743826253122625,
         3.3119580005196463,
         3.69918046696249,
         3.5864981874967756,
         3.682304142680671,
         3.760608218928039,
         3.6314047088327275,
         3.4817160487793704,
         3.6915947284526065,
         3.7786030841441662,
         3.7819605320529823,
         3.7362083284306453,
         3.818163491533936,
         3.6237033094276816,
         3.623643299065589,
         3.689895470700651,
         3.68155582433067,
         3.6714500725066497,
         3.7080088934267117,
         3.5531812943037315,
         3.67411162443595,
         3.7582511778214998,
         3.632318413525999,
         3.8106339913423084,
         3.64904271767944,
         3.542146216088804,
         3.6196653366523464,
         3.734198048762311,
         3.7670913199434306,
         3.6801558166057546,
         3.7371898698208557,
         3.515376452997053,
         3.7459653490257443,
         3.69997673789541,
         3.753578134237591,
         3.473317475371299,
         3.7377171261090862,
         3.7785628400038593,
         3.660036828953125,
         3.767703992260341,
         3.500957036259312,
         3.8103943542920193,
         3.8062030694073226,
         3.861175979731963,
         3.5448216415136526,
         3.8332346923393708,
         3.550742487405198,
         3.8677387337943734,
         3.616686951391013,
         3.5849994405042174,
         3.93311768911256,
         3.5880931012723822,
         3.7707501768415277,
         3.573044622778062,
         3.825739460227549,
         3.584696174360203,
         3.7566967360896455,
         3.7752518736645815
        ]
       ],
       "encoder": "json",
       "name": "ABC_GAN_1 Metrics",
       "version": 1
      }
     },
     "metadata": {
      "scrapbook": {
       "data": true,
       "display": false,
       "name": "ABC_GAN_1 Metrics"
      }
     },
     "output_type": "display_data"
    },
    {
     "name": "stdout",
     "output_type": "stream",
     "text": [
      "MSE\n",
      "0.13497112252696536\n"
     ]
    }
   ],
   "source": [
    "ABC_GAN1_metrics=ABC_train_test2.test_generator(gen,test_data,prior_model,variance,bias,\"1\",device)\n",
    "sb.glue(\"ABC_GAN_1 Metrics\",ABC_GAN1_metrics)\n",
    "\n",
    "print(\"MSE\")\n",
    "print(mean(ABC_GAN1_metrics[0]))"
   ]
  },
  {
   "cell_type": "code",
   "execution_count": 14,
   "id": "eb22ce5c",
   "metadata": {
    "execution": {
     "iopub.execute_input": "2022-06-12T06:46:52.736204Z",
     "iopub.status.busy": "2022-06-12T06:46:52.735833Z",
     "iopub.status.idle": "2022-06-12T06:46:53.062092Z",
     "shell.execute_reply": "2022-06-12T06:46:53.062474Z"
    },
    "papermill": {
     "duration": 0.341224,
     "end_time": "2022-06-12T06:46:53.062597",
     "exception": false,
     "start_time": "2022-06-12T06:46:52.721373",
     "status": "completed"
    },
    "tags": []
   },
   "outputs": [
    {
     "data": {
      "image/png": "[encoded data removed]",
      "text/plain": [
       "<Figure size 432x288 with 1 Axes>"
      ]
     },
     "metadata": {
      "needs_background": "light"
     },
     "output_type": "display_data"
    },
    {
     "data": {
      "image/png": "[encoded data removed]",
      "text/plain": [
       "<Figure size 432x288 with 1 Axes>"
      ]
     },
     "metadata": {
      "needs_background": "light"
     },
     "output_type": "display_data"
    },
    {
     "data": {
      "image/png": "[encoded data removed]",
      "text/plain": [
       "<Figure size 432x288 with 1 Axes>"
      ]
     },
     "metadata": {
      "needs_background": "light"
     },
     "output_type": "display_data"
    },
    {
     "data": {
      "image/png": "[encoded data removed]",
      "text/plain": [
       "<Figure size 432x288 with 1 Axes>"
      ]
     },
     "metadata": {
      "needs_background": "light"
     },
     "output_type": "display_data"
    }
   ],
   "source": [
    "sanityChecks.discProbVsError(train_data,disc,device)\n",
    "sanityChecks.discProbVsError(test_data,disc,device)"
   ]
  },
  {
   "cell_type": "markdown",
   "id": "130f3a4d",
   "metadata": {
    "id": "130f3a4d",
    "papermill": {
     "duration": 0.014571,
     "end_time": "2022-06-12T06:46:53.092196",
     "exception": false,
     "start_time": "2022-06-12T06:46:53.077625",
     "status": "completed"
    },
    "tags": []
   },
   "source": [
    "# ABC - GAN Model with skip connection"
   ]
  },
  {
   "cell_type": "code",
   "execution_count": 15,
   "id": "4e43dad1",
   "metadata": {
    "execution": {
     "iopub.execute_input": "2022-06-12T06:46:53.125216Z",
     "iopub.status.busy": "2022-06-12T06:46:53.124835Z",
     "iopub.status.idle": "2022-06-12T06:46:53.127189Z",
     "shell.execute_reply": "2022-06-12T06:46:53.127490Z"
    },
    "id": "4e43dad1",
    "papermill": {
     "duration": 0.020664,
     "end_time": "2022-06-12T06:46:53.127601",
     "exception": false,
     "start_time": "2022-06-12T06:46:53.106937",
     "status": "completed"
    },
    "tags": []
   },
   "outputs": [],
   "source": [
    "#Generator\n",
    "gen3 = network.GeneratorWithSkipConnection(n_features+1).to(device)\n",
    "constraints=network.weightConstraint()\n",
    "#Discriminator \n",
    "disc3 = network.Discriminator(n_features+1).to(device)\n",
    "\n",
    "criterion = torch.nn.BCELoss()\n",
    "gen_opt = torch.optim.Adam(gen3.parameters(), lr=0.001, betas=(0.5, 0.999))\n",
    "disc_opt = torch.optim.Adam(disc3.parameters(), lr=0.001, betas=(0.5, 0.999))\n"
   ]
  },
  {
   "cell_type": "code",
   "execution_count": 16,
   "id": "26acbc37",
   "metadata": {
    "execution": {
     "iopub.execute_input": "2022-06-12T06:46:53.159411Z",
     "iopub.status.busy": "2022-06-12T06:46:53.159047Z",
     "iopub.status.idle": "2022-06-12T06:49:50.657912Z",
     "shell.execute_reply": "2022-06-12T06:49:50.658236Z"
    },
    "id": "26acbc37",
    "papermill": {
     "duration": 177.516035,
     "end_time": "2022-06-12T06:49:50.658362",
     "exception": false,
     "start_time": "2022-06-12T06:46:53.142327",
     "status": "completed"
    },
    "tags": []
   },
   "outputs": [
    {
     "data": {
      "image/png": "[encoded data removed]",
      "text/plain": [
       "<Figure size 432x288 with 1 Axes>"
      ]
     },
     "metadata": {
      "needs_background": "light"
     },
     "output_type": "display_data"
    },
    {
     "data": {
      "image/png": "[encoded data removed]",
      "text/plain": [
       "<Figure size 432x288 with 1 Axes>"
      ]
     },
     "metadata": {
      "needs_background": "light"
     },
     "output_type": "display_data"
    }
   ],
   "source": [
    "ABC_train_test2.training_GAN_skip_connection(disc3,gen3,disc_opt,gen_opt,train_data,batch_size,n_epochs,criterion,prior_model,variance,bias,device)"
   ]
  },
  {
   "cell_type": "code",
   "execution_count": 17,
   "id": "c5e0717b",
   "metadata": {
    "execution": {
     "iopub.execute_input": "2022-06-12T06:49:50.693480Z",
     "iopub.status.busy": "2022-06-12T06:49:50.693008Z",
     "iopub.status.idle": "2022-06-12T06:49:51.545130Z",
     "shell.execute_reply": "2022-06-12T06:49:51.545526Z"
    },
    "id": "c5e0717b",
    "papermill": {
     "duration": 0.871374,
     "end_time": "2022-06-12T06:49:51.545649",
     "exception": false,
     "start_time": "2022-06-12T06:49:50.674275",
     "status": "completed"
    },
    "tags": []
   },
   "outputs": [
    {
     "data": {
      "application/scrapbook.scrap.json+json": {
       "data": 0.13329876573368796,
       "encoder": "json",
       "name": "ABC-GAN Model 3 MSE",
       "version": 1
      }
     },
     "metadata": {
      "scrapbook": {
       "data": true,
       "display": false,
       "name": "ABC-GAN Model 3 MSE"
      }
     },
     "output_type": "display_data"
    },
    {
     "data": {
      "application/scrapbook.scrap.json+json": {
       "data": 0.22366151556518732,
       "encoder": "json",
       "name": "ABC-GAN Model 3 MAE",
       "version": 1
      }
     },
     "metadata": {
      "scrapbook": {
       "data": true,
       "display": false,
       "name": "ABC-GAN Model 3 MAE"
      }
     },
     "output_type": "display_data"
    },
    {
     "data": {
      "application/scrapbook.scrap.json+json": {
       "data": 22.813474587649107,
       "encoder": "json",
       "name": "ABC-GAN Model 3 Manhattan Distance",
       "version": 1
      }
     },
     "metadata": {
      "scrapbook": {
       "data": true,
       "display": false,
       "name": "ABC-GAN Model 3 Manhattan Distance"
      }
     },
     "output_type": "display_data"
    },
    {
     "data": {
      "application/scrapbook.scrap.json+json": {
       "data": 3.6854899847140756,
       "encoder": "json",
       "name": "ABC-GAN Model 3 Euclidean distance",
       "version": 1
      }
     },
     "metadata": {
      "scrapbook": {
       "data": true,
       "display": false,
       "name": "ABC-GAN Model 3 Euclidean distance"
      }
     },
     "output_type": "display_data"
    },
    {
     "data": {
      "application/scrapbook.scrap.json+json": {
       "data": [
        [
         0.13736971141767498,
         0.11697899749049724,
         0.12050399814052663,
         0.1356764768369763,
         0.12624876225839546,
         0.13677471642720998,
         0.1425209396180996,
         0.13155197216537173,
         0.14086969334712998,
         0.14024617134851078,
         0.13124961514605687,
         0.1259710175455766,
         0.11592917037466698,
         0.13647304622583487,
         0.13043942092465444,
         0.136146681335263,
         0.13001598093762012,
         0.1316805680303237,
         0.13973744725377565,
         0.133186902714225,
         0.1369645107123735,
         0.13963013607094987,
         0.1438463424119909,
         0.1385536028144889,
         0.13489670561749745,
         0.12548481059955358,
         0.13052319336105045,
         0.14950272427096417,
         0.15003774475415246,
         0.12413066475585742,
         0.14236060383224808,
         0.14232217978139144,
         0.13529877059892628,
         0.12542453969852935,
         0.12077724108039758,
         0.1387877654194801,
         0.138131074283168,
         0.1196676933310879,
         0.12135813230634214,
         0.13370051869689384,
         0.12209863865860546,
         0.13635182312834973,
         0.14115438943852815,
         0.13123635447954257,
         0.13227867926306958,
         0.13930168175894864,
         0.13031032284814467,
         0.15087918370368136,
         0.1316872595966531,
         0.12096820707511283,
         0.13574058610332296,
         0.13222441713869595,
         0.13144856914888514,
         0.12357049100519392,
         0.1493724013138645,
         0.13922989892409582,
         0.12834081489912863,
         0.1248874023531117,
         0.1337262188668725,
         0.13363650636275623,
         0.12159004112825829,
         0.13711442575897925,
         0.13500917209862798,
         0.13057196186869177,
         0.12683348460779023,
         0.11570599310636075,
         0.14814966321862091,
         0.131053480181368,
         0.13317249566739334,
         0.13651040349094662,
         0.1191310467991068,
         0.1336500392853852,
         0.1372989162076409,
         0.1437408468156581,
         0.12584633497174505,
         0.1487353441122691,
         0.14035176430502538,
         0.1451735172815044,
         0.12602072257184693,
         0.13324384015180984,
         0.14098607608933533,
         0.12691054471335547,
         0.13989730611237258,
         0.1336057958547032,
         0.12714778721004424,
         0.11028770803934951,
         0.1264309100038396,
         0.1330852699500064,
         0.12591945805901208,
         0.1392121432776023,
         0.138335777777178,
         0.13463186782913633,
         0.13187583663777283,
         0.12968546173725234,
         0.13264577826005428,
         0.1492680396951677,
         0.1421353297680811,
         0.1438831208108039,
         0.1328881303953749,
         0.1227266475170288
        ],
        [
         0.22390795035251215,
         0.21816726310142115,
         0.21811454279311732,
         0.2259179542535076,
         0.2209787349782738,
         0.22154785458948098,
         0.22523524645058549,
         0.21945717317216537,
         0.2318399580670338,
         0.21948199912759603,
         0.22332635887113272,
         0.2094852623767128,
         0.21116216732736895,
         0.22536926438995436,
         0.21886654504958322,
         0.22230061205724874,
         0.2216902613347652,
         0.21315121069988785,
         0.22348970978283414,
         0.2292998739901711,
         0.22626317832984177,
         0.23026821353271895,
         0.22788484646555254,
         0.23723452918085397,
         0.22085616536730646,
         0.22325880916825697,
         0.21702806626026536,
         0.23477516224717393,
         0.22914445078840442,
         0.21578876955398157,
         0.2272980888465456,
         0.24484797961571636,
         0.22455468569316117,
         0.21761499812789992,
         0.22034521550670558,
         0.22717660450029606,
         0.22011341768152573,
         0.21560905260198257,
         0.21741496877489136,
         0.21921774456460102,
         0.2162165666985161,
         0.22879961750232705,
         0.22902185736479713,
         0.22747736935522042,
         0.22160926373565898,
         0.22112083727238224,
         0.2254572109337531,
         0.23569767662853586,
         0.2251445522860569,
         0.22297413924745485,
         0.2318623746727027,
         0.21848521735884396,
         0.21649625024520883,
         0.22102338882784048,
         0.23606454248667932,
         0.22370354422167235,
         0.21837176108623252,
         0.21311881349367254,
         0.2305346027600999,
         0.2300690137872509,
         0.22796987201653274,
         0.2301276231586349,
         0.232470460674342,
         0.20982605587764114,
         0.22643389888838225,
         0.2070383077450827,
         0.21880071683257235,
         0.22640394755438262,
         0.22243340050472932,
         0.22097494719805671,
         0.2165925780712974,
         0.22982632810724715,
         0.23208480898071737,
         0.2322928236395705,
         0.21629405445327946,
         0.23367777349902133,
         0.22264374675703982,
         0.23394133943114795,
         0.2270066162900013,
         0.21829941722692228,
         0.2243631638805656,
         0.21771120663513155,
         0.22601744444931254,
         0.22039345976914845,
         0.2173016254297074,
         0.21857956402442036,
         0.22822274344370647,
         0.2317124975151291,
         0.21602079597320042,
         0.23116034356986775,
         0.2206669675149754,
         0.22231324674452052,
         0.21982287575362944,
         0.2261704837939903,
         0.22285623340776153,
         0.22412503762718508,
         0.2264914042225071,
         0.23414350713731027,
         0.2315570416988111,
         0.20864970748331033
        ],
        [
         22.83861093595624,
         22.253060836344957,
         22.247683364897966,
         23.043631333857775,
         22.539830967783928,
         22.59788116812706,
         22.97399513795972,
         22.384631663560867,
         23.647675722837448,
         22.387163911014795,
         22.779288604855537,
         21.367496762424707,
         21.538541067391634,
         22.987664967775345,
         22.324387595057487,
         22.674662429839373,
         22.61240665614605,
         21.74142349138856,
         22.795950397849083,
         23.388587146997452,
         23.07884418964386,
         23.487357780337334,
         23.24425433948636,
         24.197921976447105,
         22.527328867465258,
         22.77239853516221,
         22.136862758547068,
         23.94706654921174,
         23.37273398041725,
         22.01045449450612,
         23.18440506234765,
         24.97449392080307,
         22.90457794070244,
         22.19672980904579,
         22.47521198168397,
         23.1720136590302,
         22.451568603515625,
         21.99212336540222,
         22.17632681503892,
         22.360209945589304,
         22.054089803248644,
         23.33756098523736,
         23.360229451209307,
         23.202691674232483,
         22.604144901037216,
         22.55432540178299,
         22.996635515242815,
         24.04116301611066,
         22.964744333177805,
         22.743362203240395,
         23.649962216615677,
         22.285492170602083,
         22.0826175250113,
         22.54438566043973,
         24.07858333364129,
         22.81776151061058,
         22.273919630795717,
         21.7381189763546,
         23.51452948153019,
         23.46703940629959,
         23.25292694568634,
         23.473017562180758,
         23.711986988782883,
         21.402257699519396,
         23.09625768661499,
         21.117907389998436,
         22.31767311692238,
         23.093202650547028,
         22.68820685148239,
         22.539444614201784,
         22.092442963272333,
         23.44228546693921,
         23.672650516033173,
         23.69386801123619,
         22.061993554234505,
         23.835132896900177,
         22.709662169218063,
         23.86201662197709,
         23.154674861580133,
         22.266540557146072,
         22.88504271581769,
         22.20654307678342,
         23.05377933382988,
         22.480132896453142,
         22.164765793830156,
         22.295115530490875,
         23.27871983125806,
         23.63467474654317,
         22.034121189266443,
         23.57835504412651,
         22.50803068652749,
         22.675951167941093,
         22.421933326870203,
         23.06938934698701,
         22.731335807591677,
         22.86075383797288,
         23.102123230695724,
         23.882637728005648,
         23.618818253278732,
         21.282270163297653
        ],
        [
         3.743221949684902,
         3.454252125139495,
         3.5059104110535553,
         3.7200807299535286,
         3.588505782405308,
         3.735106568168493,
         3.8127596096588827,
         3.6630999386950815,
         3.7906079619775044,
         3.7822096025403047,
         3.658887910950238,
         3.5845562890891824,
         3.438717112269637,
         3.7309852204257186,
         3.6475774062128887,
         3.726521366663127,
         3.641652105245261,
         3.664889894538854,
         3.775343642621835,
         3.685792191218998,
         3.7376971643863937,
         3.773893729192288,
         3.8304473532504093,
         3.7593174230274644,
         3.709375145895159,
         3.577631993533497,
         3.648748514604308,
         3.9050323783085763,
         3.912013543550628,
         3.558275959660443,
         3.8106143324783335,
         3.810100043004372,
         3.71489900281158,
         3.576772714228566,
         3.509882988106662,
         3.762492800363473,
         3.753580900537929,
         3.4937236181144837,
         3.518313444712806,
         3.692892214387413,
         3.5290311904512475,
         3.7293278159866383,
         3.7944364170097606,
         3.6587030703397256,
         3.673203681370405,
         3.7694524190408285,
         3.6457719251909806,
         3.922967848169992,
         3.6649830120832227,
         3.512656704214277,
         3.720959524442444,
         3.672450210438119,
         3.661660013325415,
         3.5502380318127646,
         3.903329980159783,
         3.768481085299191,
         3.6181159627230186,
         3.5691056358725763,
         3.6932471247428036,
         3.692008078133244,
         3.5216734935371763,
         3.739742160552767,
         3.7109211193529896,
         3.6494301076478433,
         3.596806281966627,
         3.4354055505644157,
         3.887321140361229,
         3.6561530299618936,
         3.6855928367189597,
         3.731495833586921,
         3.48588106129697,
         3.692195012063865,
         3.7422572671022176,
         3.8290424880375937,
         3.5827819033703405,
         3.894997445371619,
         3.78363316920557,
         3.8480772812813213,
         3.58526340766315,
         3.6865799456250232,
         3.792173487739214,
         3.597898770221621,
         3.7775025113773255,
         3.69158383044185,
         3.6012600982745617,
         3.3540045050675835,
         3.5910935410250224,
         3.68438563873282,
         3.583822640982562,
         3.7682407850766952,
         3.7563611824839405,
         3.7057321164072157,
         3.667606213465784,
         3.6370203597450113,
         3.6782970764370746,
         3.901966177314598,
         3.807598145333126,
         3.8309370032280596,
         3.681655782433799,
         3.538095256877199
        ]
       ],
       "encoder": "json",
       "name": "ABC_GAN_3 Metrics",
       "version": 1
      }
     },
     "metadata": {
      "scrapbook": {
       "data": true,
       "display": false,
       "name": "ABC_GAN_3 Metrics"
      }
     },
     "output_type": "display_data"
    },
    {
     "name": "stdout",
     "output_type": "stream",
     "text": [
      "MSE\n",
      "0.13329876573368796\n"
     ]
    }
   ],
   "source": [
    "ABC_GAN3_metrics=ABC_train_test2.test_generator(gen3,test_data,prior_model,variance,bias,\"3\",device)\n",
    "sb.glue(\"ABC_GAN_3 Metrics\",ABC_GAN3_metrics)\n",
    "\n",
    "print(\"MSE\")\n",
    "print(mean(ABC_GAN3_metrics[0]))"
   ]
  },
  {
   "cell_type": "code",
   "execution_count": 18,
   "id": "c8e46b48",
   "metadata": {
    "execution": {
     "iopub.execute_input": "2022-06-12T06:49:51.583660Z",
     "iopub.status.busy": "2022-06-12T06:49:51.583278Z",
     "iopub.status.idle": "2022-06-12T06:49:51.919897Z",
     "shell.execute_reply": "2022-06-12T06:49:51.920144Z"
    },
    "id": "c8e46b48",
    "papermill": {
     "duration": 0.357195,
     "end_time": "2022-06-12T06:49:51.920264",
     "exception": false,
     "start_time": "2022-06-12T06:49:51.563069",
     "status": "completed"
    },
    "tags": []
   },
   "outputs": [
    {
     "data": {
      "image/png": "[encoded data removed]",
      "text/plain": [
       "<Figure size 432x288 with 1 Axes>"
      ]
     },
     "metadata": {
      "needs_background": "light"
     },
     "output_type": "display_data"
    },
    {
     "data": {
      "image/png": "[encoded data removed]",
      "text/plain": [
       "<Figure size 432x288 with 1 Axes>"
      ]
     },
     "metadata": {
      "needs_background": "light"
     },
     "output_type": "display_data"
    },
    {
     "data": {
      "image/png": "[encoded data removed]",
      "text/plain": [
       "<Figure size 432x288 with 1 Axes>"
      ]
     },
     "metadata": {
      "needs_background": "light"
     },
     "output_type": "display_data"
    },
    {
     "data": {
      "image/png": "[encoded data removed]",
      "text/plain": [
       "<Figure size 432x288 with 1 Axes>"
      ]
     },
     "metadata": {
      "needs_background": "light"
     },
     "output_type": "display_data"
    }
   ],
   "source": [
    "sanityChecks.discProbVsError(train_data,disc3,device)\n",
    "sanityChecks.discProbVsError(test_data,disc3,device)"
   ]
  },
  {
   "cell_type": "markdown",
   "id": "a5bd74c3",
   "metadata": {
    "id": "a5bd74c3",
    "papermill": {
     "duration": 0.019378,
     "end_time": "2022-06-12T06:49:51.959463",
     "exception": false,
     "start_time": "2022-06-12T06:49:51.940085",
     "status": "completed"
    },
    "tags": []
   },
   "source": [
    "## Skip Connection Model Analysis - ABC-GAN "
   ]
  },
  {
   "cell_type": "markdown",
   "id": "5744a8bf",
   "metadata": {
    "id": "5744a8bf",
    "papermill": {
     "duration": 0.019887,
     "end_time": "2022-06-12T06:49:52.016548",
     "exception": false,
     "start_time": "2022-06-12T06:49:51.996661",
     "status": "completed"
    },
    "tags": []
   },
   "source": [
    "### Weight Analysis \n",
    "\n",
    "Study the weights of the skip connection layer\n",
    "\n",
    "Equation of the skip connection is \n",
    "\n",
    "$output = y_{gan} * w + y_{abc} * (1-w)$"
   ]
  },
  {
   "cell_type": "code",
   "execution_count": 19,
   "id": "52c31dea",
   "metadata": {
    "execution": {
     "iopub.execute_input": "2022-06-12T06:49:52.057949Z",
     "iopub.status.busy": "2022-06-12T06:49:52.057560Z",
     "iopub.status.idle": "2022-06-12T06:49:52.061032Z",
     "shell.execute_reply": "2022-06-12T06:49:52.061269Z"
    },
    "id": "52c31dea",
    "papermill": {
     "duration": 0.025534,
     "end_time": "2022-06-12T06:49:52.061381",
     "exception": false,
     "start_time": "2022-06-12T06:49:52.035847",
     "status": "completed"
    },
    "tags": []
   },
   "outputs": [
    {
     "name": "stdout",
     "output_type": "stream",
     "text": [
      "Weight of the node at skip connection\n",
      "Parameter containing:\n",
      "tensor([[0.5473]], requires_grad=True)\n"
     ]
    },
    {
     "data": {
      "application/scrapbook.scrap.json+json": {
       "data": 0.5473026037216187,
       "encoder": "json",
       "name": "Skip Connection Weight",
       "version": 1
      }
     },
     "metadata": {
      "scrapbook": {
       "data": true,
       "display": false,
       "name": "Skip Connection Weight"
      }
     },
     "output_type": "display_data"
    }
   ],
   "source": [
    "print(\"Weight of the node at skip connection\")\n",
    "for name,param in gen3.named_parameters():\n",
    "    if(name == \"skipNode.weight\"):\n",
    "        print(param)\n",
    "        sb.glue(\"Skip Connection Weight\",param.item())"
   ]
  }
 ],
 "metadata": {
  "colab": {
   "collapsed_sections": [],
   "name": "ABC_GAN_Model-Catboost_Pre-gen.ipynb",
   "provenance": []
  },
  "interpreter": {
   "hash": "31f2aee4e71d21fbe5cf8b01ff0e069b9275f58929596ceb00d14d90e3e16cd6"
  },
  "kernelspec": {
   "display_name": "Python 3 (ipykernel)",
   "language": "python",
   "name": "python3"
  },
  "language_info": {
   "codemirror_mode": {
    "name": "ipython",
    "version": 3
   },
   "file_extension": ".py",
   "mimetype": "text/x-python",
   "name": "python",
   "nbconvert_exporter": "python",
   "pygments_lexer": "ipython3",
   "version": "3.8.11"
  },
  "papermill": {
   "default_parameters": {},
   "duration": 244.550348,
   "end_time": "2022-06-12T06:49:52.389295",
   "environment_variables": {},
   "exception": null,
   "input_path": "ABC_GAN-Catboost.ipynb",
   "output_path": "./ABC_GAN_Catboost/ABC-GAN_output_8_1.ipynb",
   "parameters": {
    "bias": 1,
    "variance": 0.1
   },
   "start_time": "2022-06-12T06:45:47.838947",
   "version": "2.3.3"
  }
 },
 "nbformat": 4,
 "nbformat_minor": 5
}