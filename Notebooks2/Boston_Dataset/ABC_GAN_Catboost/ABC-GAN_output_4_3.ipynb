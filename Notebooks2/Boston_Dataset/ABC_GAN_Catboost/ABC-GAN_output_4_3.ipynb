{
 "cells": [
  {
   "cell_type": "markdown",
   "id": "622780e6",
   "metadata": {
    "id": "622780e6",
    "papermill": {
     "duration": 0.034775,
     "end_time": "2022-06-12T04:18:20.448759",
     "exception": false,
     "start_time": "2022-06-12T04:18:20.413984",
     "status": "completed"
    },
    "tags": []
   },
   "source": [
    "## Import Libraries "
   ]
  },
  {
   "cell_type": "code",
   "execution_count": 1,
   "id": "a62397e3",
   "metadata": {
    "execution": {
     "iopub.execute_input": "2022-06-12T04:18:20.484760Z",
     "iopub.status.busy": "2022-06-12T04:18:20.484113Z",
     "iopub.status.idle": "2022-06-12T04:18:20.486414Z",
     "shell.execute_reply": "2022-06-12T04:18:20.486760Z"
    },
    "id": "a62397e3",
    "papermill": {
     "duration": 0.02227,
     "end_time": "2022-06-12T04:18:20.486970",
     "exception": false,
     "start_time": "2022-06-12T04:18:20.464700",
     "status": "completed"
    },
    "tags": []
   },
   "outputs": [],
   "source": [
    "import warnings\n",
    "import sys\n",
    "sys.path.insert(0, '../../src')\n",
    "warnings.filterwarnings('ignore')"
   ]
  },
  {
   "cell_type": "code",
   "execution_count": 2,
   "id": "d6a4e155",
   "metadata": {
    "execution": {
     "iopub.execute_input": "2022-06-12T04:18:20.507226Z",
     "iopub.status.busy": "2022-06-12T04:18:20.506818Z",
     "iopub.status.idle": "2022-06-12T04:18:22.262695Z",
     "shell.execute_reply": "2022-06-12T04:18:22.262941Z"
    },
    "id": "d6a4e155",
    "papermill": {
     "duration": 1.766647,
     "end_time": "2022-06-12T04:18:22.263061",
     "exception": false,
     "start_time": "2022-06-12T04:18:20.496414",
     "status": "completed"
    },
    "tags": []
   },
   "outputs": [],
   "source": [
    "import ABC_train_test2\n",
    "import bostonDataset\n",
    "import network\n",
    "import dataset\n",
    "import sanityChecks\n",
    "import torch \n",
    "import scrapbook as sb\n",
    "from statistics import mean \n",
    "import catboost as ctb \n",
    "from sklearn.model_selection import train_test_split\n",
    "from sklearn.metrics import mean_squared_error,mean_absolute_error\n",
    "import numpy as np"
   ]
  },
  {
   "cell_type": "markdown",
   "id": "2fa5b0f7",
   "metadata": {
    "id": "2fa5b0f7",
    "papermill": {
     "duration": 0.006761,
     "end_time": "2022-06-12T04:18:22.276910",
     "exception": false,
     "start_time": "2022-06-12T04:18:22.270149",
     "status": "completed"
    },
    "tags": []
   },
   "source": [
    "## Parameters "
   ]
  },
  {
   "cell_type": "code",
   "execution_count": 3,
   "id": "783186fb",
   "metadata": {
    "execution": {
     "iopub.execute_input": "2022-06-12T04:18:22.292671Z",
     "iopub.status.busy": "2022-06-12T04:18:22.292282Z",
     "iopub.status.idle": "2022-06-12T04:18:22.293498Z",
     "shell.execute_reply": "2022-06-12T04:18:22.293736Z"
    },
    "id": "783186fb",
    "papermill": {
     "duration": 0.010114,
     "end_time": "2022-06-12T04:18:22.293844",
     "exception": false,
     "start_time": "2022-06-12T04:18:22.283730",
     "status": "completed"
    },
    "tags": [
     "parameters"
    ]
   },
   "outputs": [],
   "source": [
    "variance = 1\n",
    "bias = 1 "
   ]
  },
  {
   "cell_type": "code",
   "execution_count": 4,
   "id": "5ab3439f",
   "metadata": {
    "execution": {
     "iopub.execute_input": "2022-06-12T04:18:22.309490Z",
     "iopub.status.busy": "2022-06-12T04:18:22.309114Z",
     "iopub.status.idle": "2022-06-12T04:18:22.310315Z",
     "shell.execute_reply": "2022-06-12T04:18:22.310610Z"
    },
    "papermill": {
     "duration": 0.009896,
     "end_time": "2022-06-12T04:18:22.310715",
     "exception": false,
     "start_time": "2022-06-12T04:18:22.300819",
     "status": "completed"
    },
    "tags": [
     "injected-parameters"
    ]
   },
   "outputs": [],
   "source": [
    "# Parameters\n",
    "variance = 1\n",
    "bias = 0.1\n"
   ]
  },
  {
   "cell_type": "markdown",
   "id": "391cdbfd",
   "metadata": {
    "id": "391cdbfd",
    "papermill": {
     "duration": 0.006811,
     "end_time": "2022-06-12T04:18:22.324379",
     "exception": false,
     "start_time": "2022-06-12T04:18:22.317568",
     "status": "completed"
    },
    "tags": []
   },
   "source": [
    "## Dataset \n"
   ]
  },
  {
   "cell_type": "code",
   "execution_count": 5,
   "id": "5b51f161",
   "metadata": {
    "execution": {
     "iopub.execute_input": "2022-06-12T04:18:22.340092Z",
     "iopub.status.busy": "2022-06-12T04:18:22.339694Z",
     "iopub.status.idle": "2022-06-12T04:18:22.340994Z",
     "shell.execute_reply": "2022-06-12T04:18:22.341230Z"
    },
    "id": "5b51f161",
    "papermill": {
     "duration": 0.010121,
     "end_time": "2022-06-12T04:18:22.341340",
     "exception": false,
     "start_time": "2022-06-12T04:18:22.331219",
     "status": "completed"
    },
    "tags": []
   },
   "outputs": [],
   "source": [
    "#Parameters \n",
    "n_features = 13\n",
    "n_samples= 506\n",
    "n_target = 1 "
   ]
  },
  {
   "cell_type": "code",
   "execution_count": 6,
   "id": "5d6eced4",
   "metadata": {
    "execution": {
     "iopub.execute_input": "2022-06-12T04:18:22.357112Z",
     "iopub.status.busy": "2022-06-12T04:18:22.356742Z",
     "iopub.status.idle": "2022-06-12T04:18:22.367277Z",
     "shell.execute_reply": "2022-06-12T04:18:22.367521Z"
    },
    "id": "5d6eced4",
    "papermill": {
     "duration": 0.01944,
     "end_time": "2022-06-12T04:18:22.367637",
     "exception": false,
     "start_time": "2022-06-12T04:18:22.348197",
     "status": "completed"
    },
    "tags": []
   },
   "outputs": [
    {
     "name": "stdout",
     "output_type": "stream",
     "text": [
      "         X1        X2        X3        X4        X5        X6        X7  \\\n",
      "0 -0.419782  0.284830 -1.287909 -0.272599 -0.144217  0.413672 -0.120013   \n",
      "1 -0.417339 -0.487722 -0.593381 -0.272599 -0.740262  0.194274  0.367166   \n",
      "2 -0.417342 -0.487722 -0.593381 -0.272599 -0.740262  1.282714 -0.265812   \n",
      "3 -0.416750 -0.487722 -1.306878 -0.272599 -0.835284  1.016303 -0.809889   \n",
      "4 -0.412482 -0.487722 -1.306878 -0.272599 -0.835284  1.228577 -0.511180   \n",
      "\n",
      "         X8        X9       X10       X11       X12       X13         Y  \n",
      "0  0.140214 -0.982843 -0.666608 -1.459000  0.441052 -1.075562  0.159686  \n",
      "1  0.557160 -0.867883 -0.987329 -0.303094  0.441052 -0.492439 -0.101524  \n",
      "2  0.557160 -0.867883 -0.987329 -0.303094  0.396427 -1.208727  1.324247  \n",
      "3  1.077737 -0.752922 -1.106115  0.113032  0.416163 -1.361517  1.182758  \n",
      "4  1.077737 -0.752922 -1.106115  0.113032  0.441052 -1.026501  1.487503  \n"
     ]
    }
   ],
   "source": [
    "X,Y = bostonDataset.boston_data()"
   ]
  },
  {
   "cell_type": "code",
   "execution_count": 7,
   "id": "fe007438",
   "metadata": {
    "execution": {
     "iopub.execute_input": "2022-06-12T04:18:22.384877Z",
     "iopub.status.busy": "2022-06-12T04:18:22.384498Z",
     "iopub.status.idle": "2022-06-12T04:18:22.385795Z",
     "shell.execute_reply": "2022-06-12T04:18:22.386039Z"
    },
    "id": "fe007438",
    "papermill": {
     "duration": 0.011163,
     "end_time": "2022-06-12T04:18:22.386163",
     "exception": false,
     "start_time": "2022-06-12T04:18:22.375000",
     "status": "completed"
    },
    "tags": []
   },
   "outputs": [],
   "source": [
    "#Train test split for dataset \n",
    "X_train,X_test,Y_train,Y_test = train_test_split(X,Y,test_size = 0.2)\n",
    "train_data = dataset.CustomDataset(X_train,Y_train)\n",
    "test_data = dataset.CustomDataset(X_test,Y_test)\n"
   ]
  },
  {
   "cell_type": "markdown",
   "id": "a9a1af34",
   "metadata": {
    "id": "a9a1af34",
    "papermill": {
     "duration": 0.00706,
     "end_time": "2022-06-12T04:18:22.400472",
     "exception": false,
     "start_time": "2022-06-12T04:18:22.393412",
     "status": "completed"
    },
    "tags": []
   },
   "source": [
    "## Training Parameters "
   ]
  },
  {
   "cell_type": "code",
   "execution_count": 8,
   "id": "952b7fc8",
   "metadata": {
    "execution": {
     "iopub.execute_input": "2022-06-12T04:18:22.416803Z",
     "iopub.status.busy": "2022-06-12T04:18:22.416448Z",
     "iopub.status.idle": "2022-06-12T04:18:22.417733Z",
     "shell.execute_reply": "2022-06-12T04:18:22.418041Z"
    },
    "id": "952b7fc8",
    "papermill": {
     "duration": 0.01064,
     "end_time": "2022-06-12T04:18:22.418163",
     "exception": false,
     "start_time": "2022-06-12T04:18:22.407523",
     "status": "completed"
    },
    "tags": []
   },
   "outputs": [],
   "source": [
    "batch_size = 32\n",
    "n_epochs = 1000\n",
    "#Select the device \n",
    "device = torch.device('cuda' if torch.cuda.is_available() else 'cpu')"
   ]
  },
  {
   "cell_type": "markdown",
   "id": "a95e1600",
   "metadata": {
    "id": "a95e1600",
    "papermill": {
     "duration": 0.007053,
     "end_time": "2022-06-12T04:18:22.432425",
     "exception": false,
     "start_time": "2022-06-12T04:18:22.425372",
     "status": "completed"
    },
    "tags": []
   },
   "source": [
    "# ABC Pre-generator Model \n",
    "\n",
    "1. The catboost model is used as a pre-generator model for the ABC-GAN. \n",
    "2. The model is first trained on the entire dataset \n",
    "3. It generats X,Y pairs and we add some Gaussian noise with mean 0 and variance 1 to it which is then feed as input to the generator.\n"
   ]
  },
  {
   "cell_type": "code",
   "execution_count": 9,
   "id": "ff8ce7bd",
   "metadata": {
    "execution": {
     "iopub.execute_input": "2022-06-12T04:18:22.451469Z",
     "iopub.status.busy": "2022-06-12T04:18:22.451070Z",
     "iopub.status.idle": "2022-06-12T04:18:23.461535Z",
     "shell.execute_reply": "2022-06-12T04:18:23.461777Z"
    },
    "id": "ff8ce7bd",
    "papermill": {
     "duration": 1.022341,
     "end_time": "2022-06-12T04:18:23.461897",
     "exception": false,
     "start_time": "2022-06-12T04:18:22.439556",
     "status": "completed"
    },
    "tags": []
   },
   "outputs": [
    {
     "name": "stdout",
     "output_type": "stream",
     "text": [
      "Learning rate set to 0.033215\n",
      "0:\tlearn: 0.9827229\ttotal: 58.8ms\tremaining: 58.8s\n",
      "1:\tlearn: 0.9647651\ttotal: 59.9ms\tremaining: 29.9s\n",
      "2:\tlearn: 0.9433275\ttotal: 60.8ms\tremaining: 20.2s\n",
      "3:\tlearn: 0.9262241\ttotal: 61.9ms\tremaining: 15.4s\n",
      "4:\tlearn: 0.9083458\ttotal: 63.2ms\tremaining: 12.6s\n",
      "5:\tlearn: 0.8914330\ttotal: 64.1ms\tremaining: 10.6s\n",
      "6:\tlearn: 0.8744394\ttotal: 65.1ms\tremaining: 9.24s\n",
      "7:\tlearn: 0.8592181\ttotal: 66.1ms\tremaining: 8.2s\n",
      "8:\tlearn: 0.8446130\ttotal: 67.1ms\tremaining: 7.39s\n",
      "9:\tlearn: 0.8278388\ttotal: 68.1ms\tremaining: 6.74s\n",
      "10:\tlearn: 0.8147559\ttotal: 68.9ms\tremaining: 6.2s\n",
      "11:\tlearn: 0.8011755\ttotal: 69.8ms\tremaining: 5.75s\n",
      "12:\tlearn: 0.7865913\ttotal: 70.6ms\tremaining: 5.36s\n",
      "13:\tlearn: 0.7711973\ttotal: 71.5ms\tremaining: 5.03s\n",
      "14:\tlearn: 0.7588452\ttotal: 72.3ms\tremaining: 4.75s\n",
      "15:\tlearn: 0.7449324\ttotal: 73.2ms\tremaining: 4.5s\n",
      "16:\tlearn: 0.7323717\ttotal: 74ms\tremaining: 4.28s\n",
      "17:\tlearn: 0.7195147\ttotal: 74.8ms\tremaining: 4.08s\n",
      "18:\tlearn: 0.7079241\ttotal: 75.6ms\tremaining: 3.9s\n",
      "19:\tlearn: 0.6951222\ttotal: 76.4ms\tremaining: 3.74s\n",
      "20:\tlearn: 0.6827251\ttotal: 77.2ms\tremaining: 3.6s\n",
      "21:\tlearn: 0.6721308\ttotal: 78.2ms\tremaining: 3.48s\n",
      "22:\tlearn: 0.6623050\ttotal: 79.2ms\tremaining: 3.36s\n",
      "23:\tlearn: 0.6527133\ttotal: 80ms\tremaining: 3.25s\n",
      "24:\tlearn: 0.6430577\ttotal: 80.8ms\tremaining: 3.15s\n",
      "25:\tlearn: 0.6334353\ttotal: 81.5ms\tremaining: 3.05s\n",
      "26:\tlearn: 0.6245042\ttotal: 82.3ms\tremaining: 2.97s\n",
      "27:\tlearn: 0.6152929\ttotal: 82.9ms\tremaining: 2.88s\n",
      "28:\tlearn: 0.6064540\ttotal: 83.8ms\tremaining: 2.8s\n",
      "29:\tlearn: 0.5966581\ttotal: 84.5ms\tremaining: 2.73s\n",
      "30:\tlearn: 0.5872708\ttotal: 85.3ms\tremaining: 2.67s\n",
      "31:\tlearn: 0.5786729\ttotal: 86.3ms\tremaining: 2.61s\n",
      "32:\tlearn: 0.5714811\ttotal: 87.1ms\tremaining: 2.55s\n",
      "33:\tlearn: 0.5639318\ttotal: 87.9ms\tremaining: 2.5s\n",
      "34:\tlearn: 0.5560383\ttotal: 88.9ms\tremaining: 2.45s\n",
      "35:\tlearn: 0.5488232\ttotal: 89.8ms\tremaining: 2.4s\n",
      "36:\tlearn: 0.5424227\ttotal: 90.8ms\tremaining: 2.36s\n",
      "37:\tlearn: 0.5348445\ttotal: 91.5ms\tremaining: 2.32s\n",
      "38:\tlearn: 0.5270750\ttotal: 92.5ms\tremaining: 2.28s\n",
      "39:\tlearn: 0.5193735\ttotal: 93.3ms\tremaining: 2.24s\n",
      "40:\tlearn: 0.5125365\ttotal: 94.4ms\tremaining: 2.21s\n",
      "41:\tlearn: 0.5071077\ttotal: 95.3ms\tremaining: 2.17s\n",
      "42:\tlearn: 0.5003179\ttotal: 96.2ms\tremaining: 2.14s\n",
      "43:\tlearn: 0.4934139\ttotal: 96.9ms\tremaining: 2.1s\n",
      "44:\tlearn: 0.4863731\ttotal: 97.8ms\tremaining: 2.08s\n",
      "45:\tlearn: 0.4802062\ttotal: 98.7ms\tremaining: 2.05s\n",
      "46:\tlearn: 0.4752338\ttotal: 99.4ms\tremaining: 2.02s\n",
      "47:\tlearn: 0.4710418\ttotal: 100ms\tremaining: 1.99s\n",
      "48:\tlearn: 0.4662898\ttotal: 101ms\tremaining: 1.96s\n",
      "49:\tlearn: 0.4613672\ttotal: 102ms\tremaining: 1.93s\n",
      "50:\tlearn: 0.4578289\ttotal: 103ms\tremaining: 1.91s\n",
      "51:\tlearn: 0.4523807\ttotal: 103ms\tremaining: 1.89s\n",
      "52:\tlearn: 0.4484078\ttotal: 104ms\tremaining: 1.86s\n",
      "53:\tlearn: 0.4446193\ttotal: 105ms\tremaining: 1.84s\n",
      "54:\tlearn: 0.4394906\ttotal: 106ms\tremaining: 1.82s\n",
      "55:\tlearn: 0.4355804\ttotal: 107ms\tremaining: 1.8s\n",
      "56:\tlearn: 0.4315411\ttotal: 108ms\tremaining: 1.78s\n",
      "57:\tlearn: 0.4277990\ttotal: 109ms\tremaining: 1.76s\n"
     ]
    },
    {
     "name": "stdout",
     "output_type": "stream",
     "text": [
      "58:\tlearn: 0.4239862\ttotal: 110ms\tremaining: 1.75s\n",
      "59:\tlearn: 0.4204745\ttotal: 111ms\tremaining: 1.73s\n",
      "60:\tlearn: 0.4162064\ttotal: 112ms\tremaining: 1.72s\n",
      "61:\tlearn: 0.4121441\ttotal: 112ms\tremaining: 1.7s\n",
      "62:\tlearn: 0.4084314\ttotal: 113ms\tremaining: 1.69s\n",
      "63:\tlearn: 0.4047033\ttotal: 114ms\tremaining: 1.67s\n",
      "64:\tlearn: 0.4016576\ttotal: 115ms\tremaining: 1.66s\n",
      "65:\tlearn: 0.3991050\ttotal: 116ms\tremaining: 1.64s\n",
      "66:\tlearn: 0.3954730\ttotal: 117ms\tremaining: 1.63s\n",
      "67:\tlearn: 0.3918170\ttotal: 118ms\tremaining: 1.62s\n",
      "68:\tlearn: 0.3892931\ttotal: 119ms\tremaining: 1.6s\n",
      "69:\tlearn: 0.3868744\ttotal: 120ms\tremaining: 1.59s\n",
      "70:\tlearn: 0.3830902\ttotal: 121ms\tremaining: 1.58s\n",
      "71:\tlearn: 0.3807775\ttotal: 122ms\tremaining: 1.57s\n",
      "72:\tlearn: 0.3774863\ttotal: 123ms\tremaining: 1.56s\n",
      "73:\tlearn: 0.3744661\ttotal: 124ms\tremaining: 1.55s\n",
      "74:\tlearn: 0.3713657\ttotal: 125ms\tremaining: 1.54s\n",
      "75:\tlearn: 0.3681157\ttotal: 125ms\tremaining: 1.52s\n",
      "76:\tlearn: 0.3643092\ttotal: 126ms\tremaining: 1.51s\n",
      "77:\tlearn: 0.3622557\ttotal: 127ms\tremaining: 1.5s\n",
      "78:\tlearn: 0.3604095\ttotal: 128ms\tremaining: 1.49s\n",
      "79:\tlearn: 0.3580160\ttotal: 130ms\tremaining: 1.49s\n",
      "80:\tlearn: 0.3560061\ttotal: 131ms\tremaining: 1.48s\n",
      "81:\tlearn: 0.3536229\ttotal: 131ms\tremaining: 1.47s\n",
      "82:\tlearn: 0.3521456\ttotal: 132ms\tremaining: 1.46s\n",
      "83:\tlearn: 0.3499265\ttotal: 133ms\tremaining: 1.45s\n",
      "84:\tlearn: 0.3475388\ttotal: 134ms\tremaining: 1.44s\n",
      "85:\tlearn: 0.3449299\ttotal: 135ms\tremaining: 1.43s\n",
      "86:\tlearn: 0.3427240\ttotal: 136ms\tremaining: 1.42s\n",
      "87:\tlearn: 0.3402558\ttotal: 137ms\tremaining: 1.42s\n",
      "88:\tlearn: 0.3382749\ttotal: 138ms\tremaining: 1.41s\n",
      "89:\tlearn: 0.3361917\ttotal: 140ms\tremaining: 1.41s\n",
      "90:\tlearn: 0.3339815\ttotal: 141ms\tremaining: 1.4s\n",
      "91:\tlearn: 0.3322441\ttotal: 141ms\tremaining: 1.39s\n",
      "92:\tlearn: 0.3306248\ttotal: 142ms\tremaining: 1.39s\n",
      "93:\tlearn: 0.3284598\ttotal: 143ms\tremaining: 1.38s\n",
      "94:\tlearn: 0.3265275\ttotal: 144ms\tremaining: 1.37s\n",
      "95:\tlearn: 0.3253013\ttotal: 145ms\tremaining: 1.36s\n",
      "96:\tlearn: 0.3237199\ttotal: 145ms\tremaining: 1.35s\n",
      "97:\tlearn: 0.3220125\ttotal: 146ms\tremaining: 1.34s\n",
      "98:\tlearn: 0.3203779\ttotal: 147ms\tremaining: 1.34s\n",
      "99:\tlearn: 0.3185000\ttotal: 148ms\tremaining: 1.33s\n",
      "100:\tlearn: 0.3174061\ttotal: 149ms\tremaining: 1.33s\n",
      "101:\tlearn: 0.3158357\ttotal: 150ms\tremaining: 1.32s\n",
      "102:\tlearn: 0.3141175\ttotal: 151ms\tremaining: 1.31s\n",
      "103:\tlearn: 0.3127586\ttotal: 152ms\tremaining: 1.31s\n",
      "104:\tlearn: 0.3112483\ttotal: 153ms\tremaining: 1.3s\n",
      "105:\tlearn: 0.3095112\ttotal: 153ms\tremaining: 1.29s\n",
      "106:\tlearn: 0.3078439\ttotal: 154ms\tremaining: 1.29s\n",
      "107:\tlearn: 0.3061871\ttotal: 155ms\tremaining: 1.28s\n",
      "108:\tlearn: 0.3049734\ttotal: 156ms\tremaining: 1.27s\n",
      "109:\tlearn: 0.3034707\ttotal: 157ms\tremaining: 1.27s\n",
      "110:\tlearn: 0.3019723\ttotal: 158ms\tremaining: 1.26s\n",
      "111:\tlearn: 0.3003369\ttotal: 158ms\tremaining: 1.25s\n",
      "112:\tlearn: 0.2983209\ttotal: 159ms\tremaining: 1.25s\n",
      "113:\tlearn: 0.2972064\ttotal: 160ms\tremaining: 1.25s\n",
      "114:\tlearn: 0.2959289\ttotal: 161ms\tremaining: 1.24s\n",
      "115:\tlearn: 0.2949212\ttotal: 162ms\tremaining: 1.23s\n",
      "116:\tlearn: 0.2934545\ttotal: 163ms\tremaining: 1.23s\n",
      "117:\tlearn: 0.2919172\ttotal: 164ms\tremaining: 1.22s\n",
      "118:\tlearn: 0.2905741\ttotal: 165ms\tremaining: 1.22s\n",
      "119:\tlearn: 0.2897339\ttotal: 166ms\tremaining: 1.22s\n",
      "120:\tlearn: 0.2882966\ttotal: 167ms\tremaining: 1.22s\n",
      "121:\tlearn: 0.2875793\ttotal: 168ms\tremaining: 1.21s\n",
      "122:\tlearn: 0.2867140\ttotal: 169ms\tremaining: 1.21s\n",
      "123:\tlearn: 0.2852754\ttotal: 170ms\tremaining: 1.2s\n",
      "124:\tlearn: 0.2841664\ttotal: 172ms\tremaining: 1.2s\n",
      "125:\tlearn: 0.2827695\ttotal: 172ms\tremaining: 1.2s\n",
      "126:\tlearn: 0.2813541\ttotal: 173ms\tremaining: 1.19s\n",
      "127:\tlearn: 0.2802453\ttotal: 174ms\tremaining: 1.19s\n",
      "128:\tlearn: 0.2789729\ttotal: 175ms\tremaining: 1.18s\n",
      "129:\tlearn: 0.2779069\ttotal: 176ms\tremaining: 1.18s\n",
      "130:\tlearn: 0.2771019\ttotal: 177ms\tremaining: 1.17s\n",
      "131:\tlearn: 0.2761017\ttotal: 178ms\tremaining: 1.17s\n",
      "132:\tlearn: 0.2754741\ttotal: 178ms\tremaining: 1.16s\n",
      "133:\tlearn: 0.2748675\ttotal: 179ms\tremaining: 1.16s\n",
      "134:\tlearn: 0.2734238\ttotal: 180ms\tremaining: 1.15s\n",
      "135:\tlearn: 0.2722624\ttotal: 181ms\tremaining: 1.15s\n",
      "136:\tlearn: 0.2715882\ttotal: 182ms\tremaining: 1.14s\n",
      "137:\tlearn: 0.2704713\ttotal: 182ms\tremaining: 1.14s\n",
      "138:\tlearn: 0.2696802\ttotal: 183ms\tremaining: 1.14s\n",
      "139:\tlearn: 0.2689742\ttotal: 184ms\tremaining: 1.13s\n",
      "140:\tlearn: 0.2681752\ttotal: 185ms\tremaining: 1.13s\n",
      "141:\tlearn: 0.2670123\ttotal: 186ms\tremaining: 1.12s\n",
      "142:\tlearn: 0.2660166\ttotal: 187ms\tremaining: 1.12s\n",
      "143:\tlearn: 0.2650962\ttotal: 188ms\tremaining: 1.11s\n",
      "144:\tlearn: 0.2642297\ttotal: 188ms\tremaining: 1.11s\n",
      "145:\tlearn: 0.2634336\ttotal: 189ms\tremaining: 1.11s\n",
      "146:\tlearn: 0.2627917\ttotal: 190ms\tremaining: 1.1s\n",
      "147:\tlearn: 0.2619222\ttotal: 191ms\tremaining: 1.1s\n"
     ]
    },
    {
     "name": "stdout",
     "output_type": "stream",
     "text": [
      "148:\tlearn: 0.2613065\ttotal: 192ms\tremaining: 1.1s\n",
      "149:\tlearn: 0.2604358\ttotal: 193ms\tremaining: 1.09s\n",
      "150:\tlearn: 0.2593882\ttotal: 194ms\tremaining: 1.09s\n",
      "151:\tlearn: 0.2583194\ttotal: 194ms\tremaining: 1.08s\n",
      "152:\tlearn: 0.2575200\ttotal: 195ms\tremaining: 1.08s\n",
      "153:\tlearn: 0.2568216\ttotal: 196ms\tremaining: 1.08s\n",
      "154:\tlearn: 0.2557766\ttotal: 197ms\tremaining: 1.07s\n",
      "155:\tlearn: 0.2551822\ttotal: 198ms\tremaining: 1.07s\n",
      "156:\tlearn: 0.2542418\ttotal: 199ms\tremaining: 1.07s\n",
      "157:\tlearn: 0.2533859\ttotal: 200ms\tremaining: 1.06s\n",
      "158:\tlearn: 0.2526565\ttotal: 200ms\tremaining: 1.06s\n",
      "159:\tlearn: 0.2518774\ttotal: 201ms\tremaining: 1.06s\n",
      "160:\tlearn: 0.2511165\ttotal: 202ms\tremaining: 1.05s\n",
      "161:\tlearn: 0.2502763\ttotal: 203ms\tremaining: 1.05s\n",
      "162:\tlearn: 0.2495682\ttotal: 204ms\tremaining: 1.05s\n",
      "163:\tlearn: 0.2487046\ttotal: 205ms\tremaining: 1.04s\n",
      "164:\tlearn: 0.2477864\ttotal: 206ms\tremaining: 1.04s\n",
      "165:\tlearn: 0.2469556\ttotal: 206ms\tremaining: 1.04s\n",
      "166:\tlearn: 0.2461498\ttotal: 207ms\tremaining: 1.03s\n",
      "167:\tlearn: 0.2454715\ttotal: 208ms\tremaining: 1.03s\n",
      "168:\tlearn: 0.2446123\ttotal: 209ms\tremaining: 1.03s\n",
      "169:\tlearn: 0.2439657\ttotal: 210ms\tremaining: 1.02s\n",
      "170:\tlearn: 0.2436335\ttotal: 211ms\tremaining: 1.02s\n",
      "171:\tlearn: 0.2427894\ttotal: 212ms\tremaining: 1.02s\n",
      "172:\tlearn: 0.2422582\ttotal: 212ms\tremaining: 1.01s\n",
      "173:\tlearn: 0.2417354\ttotal: 213ms\tremaining: 1.01s\n",
      "174:\tlearn: 0.2408135\ttotal: 214ms\tremaining: 1.01s\n",
      "175:\tlearn: 0.2402253\ttotal: 215ms\tremaining: 1.01s\n",
      "176:\tlearn: 0.2396461\ttotal: 216ms\tremaining: 1s\n",
      "177:\tlearn: 0.2390960\ttotal: 217ms\tremaining: 1s\n",
      "178:\tlearn: 0.2386981\ttotal: 218ms\tremaining: 998ms\n",
      "179:\tlearn: 0.2381384\ttotal: 218ms\tremaining: 995ms\n",
      "180:\tlearn: 0.2374325\ttotal: 219ms\tremaining: 992ms\n",
      "181:\tlearn: 0.2368098\ttotal: 220ms\tremaining: 990ms\n",
      "182:\tlearn: 0.2362273\ttotal: 221ms\tremaining: 987ms\n",
      "183:\tlearn: 0.2356417\ttotal: 222ms\tremaining: 987ms\n",
      "184:\tlearn: 0.2345846\ttotal: 224ms\tremaining: 987ms\n",
      "185:\tlearn: 0.2339533\ttotal: 225ms\tremaining: 984ms\n",
      "186:\tlearn: 0.2330036\ttotal: 226ms\tremaining: 981ms\n",
      "187:\tlearn: 0.2323194\ttotal: 226ms\tremaining: 978ms\n",
      "188:\tlearn: 0.2317158\ttotal: 227ms\tremaining: 976ms\n",
      "189:\tlearn: 0.2310463\ttotal: 228ms\tremaining: 973ms\n",
      "190:\tlearn: 0.2305571\ttotal: 229ms\tremaining: 970ms\n",
      "191:\tlearn: 0.2301782\ttotal: 230ms\tremaining: 968ms\n",
      "192:\tlearn: 0.2295333\ttotal: 231ms\tremaining: 965ms\n",
      "193:\tlearn: 0.2288406\ttotal: 232ms\tremaining: 963ms\n",
      "194:\tlearn: 0.2282272\ttotal: 233ms\tremaining: 960ms\n",
      "195:\tlearn: 0.2275641\ttotal: 233ms\tremaining: 957ms\n",
      "196:\tlearn: 0.2270514\ttotal: 234ms\tremaining: 955ms\n",
      "197:\tlearn: 0.2266929\ttotal: 235ms\tremaining: 952ms\n",
      "198:\tlearn: 0.2262616\ttotal: 236ms\tremaining: 950ms\n",
      "199:\tlearn: 0.2254832\ttotal: 237ms\tremaining: 947ms\n",
      "200:\tlearn: 0.2248500\ttotal: 238ms\tremaining: 945ms\n",
      "201:\tlearn: 0.2242732\ttotal: 239ms\tremaining: 942ms\n",
      "202:\tlearn: 0.2236078\ttotal: 239ms\tremaining: 940ms\n",
      "203:\tlearn: 0.2228987\ttotal: 240ms\tremaining: 938ms\n",
      "204:\tlearn: 0.2224056\ttotal: 241ms\tremaining: 935ms\n",
      "205:\tlearn: 0.2215940\ttotal: 242ms\tremaining: 933ms\n",
      "206:\tlearn: 0.2210037\ttotal: 243ms\tremaining: 931ms\n",
      "207:\tlearn: 0.2205886\ttotal: 244ms\tremaining: 928ms\n",
      "208:\tlearn: 0.2198320\ttotal: 245ms\tremaining: 926ms\n",
      "209:\tlearn: 0.2193375\ttotal: 245ms\tremaining: 923ms\n",
      "210:\tlearn: 0.2186089\ttotal: 246ms\tremaining: 921ms\n",
      "211:\tlearn: 0.2178309\ttotal: 247ms\tremaining: 919ms\n",
      "212:\tlearn: 0.2173166\ttotal: 248ms\tremaining: 916ms\n",
      "213:\tlearn: 0.2165948\ttotal: 249ms\tremaining: 914ms\n",
      "214:\tlearn: 0.2160535\ttotal: 250ms\tremaining: 912ms\n",
      "215:\tlearn: 0.2153588\ttotal: 251ms\tremaining: 910ms\n",
      "216:\tlearn: 0.2149212\ttotal: 252ms\tremaining: 908ms\n",
      "217:\tlearn: 0.2144218\ttotal: 252ms\tremaining: 906ms\n",
      "218:\tlearn: 0.2137665\ttotal: 253ms\tremaining: 904ms\n",
      "219:\tlearn: 0.2132173\ttotal: 254ms\tremaining: 901ms\n",
      "220:\tlearn: 0.2127795\ttotal: 255ms\tremaining: 899ms\n",
      "221:\tlearn: 0.2125259\ttotal: 256ms\tremaining: 897ms\n",
      "222:\tlearn: 0.2122707\ttotal: 257ms\tremaining: 895ms\n",
      "223:\tlearn: 0.2116197\ttotal: 258ms\tremaining: 893ms\n",
      "224:\tlearn: 0.2110995\ttotal: 259ms\tremaining: 891ms\n",
      "225:\tlearn: 0.2105496\ttotal: 260ms\tremaining: 889ms\n",
      "226:\tlearn: 0.2097577\ttotal: 261ms\tremaining: 887ms\n",
      "227:\tlearn: 0.2092442\ttotal: 261ms\tremaining: 885ms\n",
      "228:\tlearn: 0.2088180\ttotal: 262ms\tremaining: 884ms\n",
      "229:\tlearn: 0.2081295\ttotal: 263ms\tremaining: 881ms\n",
      "230:\tlearn: 0.2075358\ttotal: 264ms\tremaining: 879ms\n",
      "231:\tlearn: 0.2069877\ttotal: 265ms\tremaining: 877ms\n",
      "232:\tlearn: 0.2067665\ttotal: 266ms\tremaining: 875ms\n",
      "233:\tlearn: 0.2062947\ttotal: 267ms\tremaining: 873ms\n",
      "234:\tlearn: 0.2058944\ttotal: 267ms\tremaining: 871ms\n",
      "235:\tlearn: 0.2054813\ttotal: 268ms\tremaining: 869ms\n",
      "236:\tlearn: 0.2049703\ttotal: 269ms\tremaining: 867ms\n",
      "237:\tlearn: 0.2043562\ttotal: 270ms\tremaining: 866ms\n",
      "238:\tlearn: 0.2039887\ttotal: 271ms\tremaining: 864ms\n",
      "239:\tlearn: 0.2036232\ttotal: 272ms\tremaining: 863ms\n",
      "240:\tlearn: 0.2031005\ttotal: 273ms\tremaining: 861ms\n",
      "241:\tlearn: 0.2025228\ttotal: 274ms\tremaining: 858ms\n",
      "242:\tlearn: 0.2020072\ttotal: 275ms\tremaining: 857ms\n",
      "243:\tlearn: 0.2016743\ttotal: 276ms\tremaining: 855ms\n",
      "244:\tlearn: 0.2011776\ttotal: 277ms\tremaining: 854ms\n",
      "245:\tlearn: 0.2005785\ttotal: 278ms\tremaining: 853ms\n",
      "246:\tlearn: 0.2003910\ttotal: 279ms\tremaining: 851ms\n",
      "247:\tlearn: 0.1997207\ttotal: 280ms\tremaining: 849ms\n",
      "248:\tlearn: 0.1991667\ttotal: 281ms\tremaining: 848ms\n",
      "249:\tlearn: 0.1987573\ttotal: 282ms\tremaining: 846ms\n",
      "250:\tlearn: 0.1982913\ttotal: 283ms\tremaining: 844ms\n",
      "251:\tlearn: 0.1976444\ttotal: 284ms\tremaining: 843ms\n",
      "252:\tlearn: 0.1970033\ttotal: 285ms\tremaining: 841ms\n",
      "253:\tlearn: 0.1963550\ttotal: 286ms\tremaining: 840ms\n",
      "254:\tlearn: 0.1960606\ttotal: 287ms\tremaining: 838ms\n",
      "255:\tlearn: 0.1954822\ttotal: 288ms\tremaining: 837ms\n",
      "256:\tlearn: 0.1949650\ttotal: 289ms\tremaining: 835ms\n",
      "257:\tlearn: 0.1944918\ttotal: 290ms\tremaining: 834ms\n",
      "258:\tlearn: 0.1941943\ttotal: 291ms\tremaining: 833ms\n",
      "259:\tlearn: 0.1938798\ttotal: 292ms\tremaining: 831ms\n",
      "260:\tlearn: 0.1933414\ttotal: 293ms\tremaining: 829ms\n",
      "261:\tlearn: 0.1930069\ttotal: 294ms\tremaining: 827ms\n",
      "262:\tlearn: 0.1923472\ttotal: 295ms\tremaining: 826ms\n",
      "263:\tlearn: 0.1917958\ttotal: 296ms\tremaining: 824ms\n",
      "264:\tlearn: 0.1915746\ttotal: 296ms\tremaining: 822ms\n",
      "265:\tlearn: 0.1909870\ttotal: 297ms\tremaining: 820ms\n",
      "266:\tlearn: 0.1904855\ttotal: 298ms\tremaining: 819ms\n",
      "267:\tlearn: 0.1898476\ttotal: 299ms\tremaining: 817ms\n"
     ]
    },
    {
     "name": "stdout",
     "output_type": "stream",
     "text": [
      "268:\tlearn: 0.1895152\ttotal: 300ms\tremaining: 815ms\n",
      "269:\tlearn: 0.1893165\ttotal: 301ms\tremaining: 814ms\n",
      "270:\tlearn: 0.1888867\ttotal: 302ms\tremaining: 813ms\n",
      "271:\tlearn: 0.1887505\ttotal: 303ms\tremaining: 811ms\n",
      "272:\tlearn: 0.1884758\ttotal: 304ms\tremaining: 810ms\n",
      "273:\tlearn: 0.1881622\ttotal: 305ms\tremaining: 808ms\n",
      "274:\tlearn: 0.1877375\ttotal: 306ms\tremaining: 807ms\n",
      "275:\tlearn: 0.1872463\ttotal: 307ms\tremaining: 805ms\n",
      "276:\tlearn: 0.1868264\ttotal: 308ms\tremaining: 803ms\n",
      "277:\tlearn: 0.1862225\ttotal: 308ms\tremaining: 801ms\n",
      "278:\tlearn: 0.1858428\ttotal: 309ms\tremaining: 799ms\n",
      "279:\tlearn: 0.1854889\ttotal: 310ms\tremaining: 797ms\n",
      "280:\tlearn: 0.1849597\ttotal: 311ms\tremaining: 797ms\n",
      "281:\tlearn: 0.1845959\ttotal: 312ms\tremaining: 795ms\n",
      "282:\tlearn: 0.1844603\ttotal: 313ms\tremaining: 793ms\n",
      "283:\tlearn: 0.1840062\ttotal: 314ms\tremaining: 792ms\n",
      "284:\tlearn: 0.1838515\ttotal: 315ms\tremaining: 790ms\n",
      "285:\tlearn: 0.1833297\ttotal: 316ms\tremaining: 789ms\n",
      "286:\tlearn: 0.1829549\ttotal: 317ms\tremaining: 787ms\n",
      "287:\tlearn: 0.1824319\ttotal: 318ms\tremaining: 785ms\n",
      "288:\tlearn: 0.1819872\ttotal: 318ms\tremaining: 783ms\n",
      "289:\tlearn: 0.1815437\ttotal: 319ms\tremaining: 782ms\n",
      "290:\tlearn: 0.1813094\ttotal: 320ms\tremaining: 780ms\n",
      "291:\tlearn: 0.1809560\ttotal: 321ms\tremaining: 778ms\n",
      "292:\tlearn: 0.1803523\ttotal: 322ms\tremaining: 777ms\n",
      "293:\tlearn: 0.1801469\ttotal: 323ms\tremaining: 775ms\n",
      "294:\tlearn: 0.1799199\ttotal: 324ms\tremaining: 774ms\n",
      "295:\tlearn: 0.1796434\ttotal: 325ms\tremaining: 772ms\n",
      "296:\tlearn: 0.1792270\ttotal: 326ms\tremaining: 771ms\n",
      "297:\tlearn: 0.1790211\ttotal: 327ms\tremaining: 769ms\n",
      "298:\tlearn: 0.1783745\ttotal: 327ms\tremaining: 768ms\n",
      "299:\tlearn: 0.1779038\ttotal: 328ms\tremaining: 766ms\n",
      "300:\tlearn: 0.1777290\ttotal: 329ms\tremaining: 764ms\n",
      "301:\tlearn: 0.1772055\ttotal: 330ms\tremaining: 763ms\n",
      "302:\tlearn: 0.1767330\ttotal: 331ms\tremaining: 761ms\n",
      "303:\tlearn: 0.1762163\ttotal: 332ms\tremaining: 760ms\n",
      "304:\tlearn: 0.1758974\ttotal: 333ms\tremaining: 758ms\n",
      "305:\tlearn: 0.1756060\ttotal: 334ms\tremaining: 757ms\n",
      "306:\tlearn: 0.1750293\ttotal: 334ms\tremaining: 755ms\n",
      "307:\tlearn: 0.1746282\ttotal: 336ms\tremaining: 754ms\n",
      "308:\tlearn: 0.1745120\ttotal: 337ms\tremaining: 753ms\n",
      "309:\tlearn: 0.1741899\ttotal: 338ms\tremaining: 751ms\n",
      "310:\tlearn: 0.1739967\ttotal: 338ms\tremaining: 750ms\n",
      "311:\tlearn: 0.1735571\ttotal: 339ms\tremaining: 748ms\n",
      "312:\tlearn: 0.1734004\ttotal: 340ms\tremaining: 747ms\n",
      "313:\tlearn: 0.1729589\ttotal: 341ms\tremaining: 745ms\n",
      "314:\tlearn: 0.1726124\ttotal: 342ms\tremaining: 744ms\n",
      "315:\tlearn: 0.1721903\ttotal: 343ms\tremaining: 742ms\n",
      "316:\tlearn: 0.1720046\ttotal: 344ms\tremaining: 740ms\n",
      "317:\tlearn: 0.1715489\ttotal: 344ms\tremaining: 738ms\n",
      "318:\tlearn: 0.1714374\ttotal: 345ms\tremaining: 737ms\n",
      "319:\tlearn: 0.1710926\ttotal: 346ms\tremaining: 735ms\n",
      "320:\tlearn: 0.1708593\ttotal: 347ms\tremaining: 734ms\n",
      "321:\tlearn: 0.1704668\ttotal: 348ms\tremaining: 732ms\n",
      "322:\tlearn: 0.1701216\ttotal: 349ms\tremaining: 731ms\n",
      "323:\tlearn: 0.1696692\ttotal: 350ms\tremaining: 730ms\n",
      "324:\tlearn: 0.1690489\ttotal: 351ms\tremaining: 728ms\n",
      "325:\tlearn: 0.1688832\ttotal: 351ms\tremaining: 726ms\n",
      "326:\tlearn: 0.1687337\ttotal: 352ms\tremaining: 725ms\n",
      "327:\tlearn: 0.1685003\ttotal: 353ms\tremaining: 723ms\n",
      "328:\tlearn: 0.1681095\ttotal: 354ms\tremaining: 722ms\n",
      "329:\tlearn: 0.1678118\ttotal: 355ms\tremaining: 720ms\n",
      "330:\tlearn: 0.1676699\ttotal: 356ms\tremaining: 719ms\n",
      "331:\tlearn: 0.1672745\ttotal: 357ms\tremaining: 717ms\n",
      "332:\tlearn: 0.1668581\ttotal: 357ms\tremaining: 716ms\n",
      "333:\tlearn: 0.1665024\ttotal: 358ms\tremaining: 714ms\n",
      "334:\tlearn: 0.1662001\ttotal: 359ms\tremaining: 713ms\n",
      "335:\tlearn: 0.1657691\ttotal: 360ms\tremaining: 711ms\n",
      "336:\tlearn: 0.1653309\ttotal: 361ms\tremaining: 710ms\n",
      "337:\tlearn: 0.1649515\ttotal: 362ms\tremaining: 708ms\n",
      "338:\tlearn: 0.1646869\ttotal: 362ms\tremaining: 707ms\n",
      "339:\tlearn: 0.1644790\ttotal: 363ms\tremaining: 705ms\n",
      "340:\tlearn: 0.1642081\ttotal: 364ms\tremaining: 703ms\n",
      "341:\tlearn: 0.1638376\ttotal: 365ms\tremaining: 702ms\n",
      "342:\tlearn: 0.1634728\ttotal: 366ms\tremaining: 701ms\n",
      "343:\tlearn: 0.1632444\ttotal: 367ms\tremaining: 699ms\n",
      "344:\tlearn: 0.1629152\ttotal: 367ms\tremaining: 698ms\n",
      "345:\tlearn: 0.1624471\ttotal: 368ms\tremaining: 696ms\n",
      "346:\tlearn: 0.1623123\ttotal: 369ms\tremaining: 695ms\n",
      "347:\tlearn: 0.1621698\ttotal: 370ms\tremaining: 694ms\n",
      "348:\tlearn: 0.1618548\ttotal: 371ms\tremaining: 692ms\n",
      "349:\tlearn: 0.1615947\ttotal: 372ms\tremaining: 691ms\n",
      "350:\tlearn: 0.1612222\ttotal: 373ms\tremaining: 689ms\n",
      "351:\tlearn: 0.1608049\ttotal: 374ms\tremaining: 688ms\n",
      "352:\tlearn: 0.1606237\ttotal: 374ms\tremaining: 686ms\n",
      "353:\tlearn: 0.1603750\ttotal: 375ms\tremaining: 685ms\n",
      "354:\tlearn: 0.1600666\ttotal: 376ms\tremaining: 683ms\n",
      "355:\tlearn: 0.1599000\ttotal: 377ms\tremaining: 682ms\n",
      "356:\tlearn: 0.1594821\ttotal: 378ms\tremaining: 681ms\n",
      "357:\tlearn: 0.1590175\ttotal: 379ms\tremaining: 679ms\n",
      "358:\tlearn: 0.1586186\ttotal: 380ms\tremaining: 678ms\n",
      "359:\tlearn: 0.1584242\ttotal: 381ms\tremaining: 677ms\n",
      "360:\tlearn: 0.1580361\ttotal: 382ms\tremaining: 676ms\n"
     ]
    },
    {
     "name": "stdout",
     "output_type": "stream",
     "text": [
      "361:\tlearn: 0.1577519\ttotal: 383ms\tremaining: 675ms\n",
      "362:\tlearn: 0.1575831\ttotal: 384ms\tremaining: 674ms\n",
      "363:\tlearn: 0.1574935\ttotal: 385ms\tremaining: 673ms\n",
      "364:\tlearn: 0.1570232\ttotal: 386ms\tremaining: 671ms\n",
      "365:\tlearn: 0.1566595\ttotal: 387ms\tremaining: 670ms\n",
      "366:\tlearn: 0.1563385\ttotal: 388ms\tremaining: 668ms\n",
      "367:\tlearn: 0.1559433\ttotal: 388ms\tremaining: 667ms\n",
      "368:\tlearn: 0.1556080\ttotal: 389ms\tremaining: 666ms\n",
      "369:\tlearn: 0.1554191\ttotal: 390ms\tremaining: 664ms\n",
      "370:\tlearn: 0.1551976\ttotal: 391ms\tremaining: 663ms\n",
      "371:\tlearn: 0.1549274\ttotal: 392ms\tremaining: 661ms\n",
      "372:\tlearn: 0.1546034\ttotal: 393ms\tremaining: 660ms\n",
      "373:\tlearn: 0.1545168\ttotal: 393ms\tremaining: 659ms\n",
      "374:\tlearn: 0.1544223\ttotal: 394ms\tremaining: 657ms\n",
      "375:\tlearn: 0.1543747\ttotal: 395ms\tremaining: 656ms\n",
      "376:\tlearn: 0.1541575\ttotal: 396ms\tremaining: 655ms\n",
      "377:\tlearn: 0.1540263\ttotal: 397ms\tremaining: 653ms\n",
      "378:\tlearn: 0.1536675\ttotal: 398ms\tremaining: 652ms\n",
      "379:\tlearn: 0.1535332\ttotal: 399ms\tremaining: 650ms\n",
      "380:\tlearn: 0.1533072\ttotal: 400ms\tremaining: 649ms\n",
      "381:\tlearn: 0.1532594\ttotal: 400ms\tremaining: 648ms\n",
      "382:\tlearn: 0.1527853\ttotal: 401ms\tremaining: 646ms\n",
      "383:\tlearn: 0.1525021\ttotal: 402ms\tremaining: 645ms\n",
      "384:\tlearn: 0.1524262\ttotal: 403ms\tremaining: 644ms\n",
      "385:\tlearn: 0.1520369\ttotal: 404ms\tremaining: 643ms\n",
      "386:\tlearn: 0.1518026\ttotal: 405ms\tremaining: 641ms\n",
      "387:\tlearn: 0.1515191\ttotal: 406ms\tremaining: 640ms\n",
      "388:\tlearn: 0.1512166\ttotal: 407ms\tremaining: 638ms\n",
      "389:\tlearn: 0.1507853\ttotal: 407ms\tremaining: 637ms\n",
      "390:\tlearn: 0.1506393\ttotal: 408ms\tremaining: 636ms\n",
      "391:\tlearn: 0.1505592\ttotal: 409ms\tremaining: 635ms\n",
      "392:\tlearn: 0.1504515\ttotal: 410ms\tremaining: 633ms\n",
      "393:\tlearn: 0.1502346\ttotal: 411ms\tremaining: 632ms\n",
      "394:\tlearn: 0.1501290\ttotal: 412ms\tremaining: 631ms\n",
      "395:\tlearn: 0.1497564\ttotal: 413ms\tremaining: 629ms\n",
      "396:\tlearn: 0.1496841\ttotal: 414ms\tremaining: 628ms\n",
      "397:\tlearn: 0.1493284\ttotal: 414ms\tremaining: 627ms\n",
      "398:\tlearn: 0.1489707\ttotal: 415ms\tremaining: 626ms\n",
      "399:\tlearn: 0.1488647\ttotal: 417ms\tremaining: 625ms\n",
      "400:\tlearn: 0.1488307\ttotal: 417ms\tremaining: 624ms\n",
      "401:\tlearn: 0.1485423\ttotal: 418ms\tremaining: 622ms\n",
      "402:\tlearn: 0.1484360\ttotal: 419ms\tremaining: 621ms\n",
      "403:\tlearn: 0.1482049\ttotal: 420ms\tremaining: 620ms\n",
      "404:\tlearn: 0.1478268\ttotal: 421ms\tremaining: 618ms\n",
      "405:\tlearn: 0.1477436\ttotal: 422ms\tremaining: 618ms\n",
      "406:\tlearn: 0.1476211\ttotal: 423ms\tremaining: 617ms\n",
      "407:\tlearn: 0.1472691\ttotal: 424ms\tremaining: 615ms\n",
      "408:\tlearn: 0.1471275\ttotal: 425ms\tremaining: 614ms\n",
      "409:\tlearn: 0.1469346\ttotal: 426ms\tremaining: 613ms\n",
      "410:\tlearn: 0.1466147\ttotal: 427ms\tremaining: 611ms\n",
      "411:\tlearn: 0.1464061\ttotal: 427ms\tremaining: 610ms\n",
      "412:\tlearn: 0.1462844\ttotal: 428ms\tremaining: 609ms\n",
      "413:\tlearn: 0.1458957\ttotal: 429ms\tremaining: 607ms\n",
      "414:\tlearn: 0.1455037\ttotal: 430ms\tremaining: 606ms\n",
      "415:\tlearn: 0.1452016\ttotal: 431ms\tremaining: 605ms\n",
      "416:\tlearn: 0.1448485\ttotal: 432ms\tremaining: 603ms\n",
      "417:\tlearn: 0.1447746\ttotal: 432ms\tremaining: 602ms\n",
      "418:\tlearn: 0.1444545\ttotal: 433ms\tremaining: 601ms\n",
      "419:\tlearn: 0.1443797\ttotal: 434ms\tremaining: 600ms\n",
      "420:\tlearn: 0.1440792\ttotal: 435ms\tremaining: 598ms\n",
      "421:\tlearn: 0.1437889\ttotal: 436ms\tremaining: 597ms\n",
      "422:\tlearn: 0.1435362\ttotal: 437ms\tremaining: 596ms\n",
      "423:\tlearn: 0.1431767\ttotal: 438ms\tremaining: 595ms\n",
      "424:\tlearn: 0.1429375\ttotal: 439ms\tremaining: 594ms\n",
      "425:\tlearn: 0.1428694\ttotal: 440ms\tremaining: 592ms\n",
      "426:\tlearn: 0.1427240\ttotal: 441ms\tremaining: 591ms\n",
      "427:\tlearn: 0.1424768\ttotal: 441ms\tremaining: 590ms\n",
      "428:\tlearn: 0.1424097\ttotal: 442ms\tremaining: 589ms\n",
      "429:\tlearn: 0.1423400\ttotal: 443ms\tremaining: 588ms\n",
      "430:\tlearn: 0.1420902\ttotal: 445ms\tremaining: 587ms\n",
      "431:\tlearn: 0.1419226\ttotal: 446ms\tremaining: 586ms\n",
      "432:\tlearn: 0.1418922\ttotal: 446ms\tremaining: 585ms\n",
      "433:\tlearn: 0.1415297\ttotal: 447ms\tremaining: 584ms\n",
      "434:\tlearn: 0.1411683\ttotal: 448ms\tremaining: 582ms\n",
      "435:\tlearn: 0.1410952\ttotal: 449ms\tremaining: 581ms\n",
      "436:\tlearn: 0.1407435\ttotal: 450ms\tremaining: 580ms\n",
      "437:\tlearn: 0.1404183\ttotal: 451ms\tremaining: 578ms\n",
      "438:\tlearn: 0.1403584\ttotal: 452ms\tremaining: 577ms\n",
      "439:\tlearn: 0.1400630\ttotal: 452ms\tremaining: 576ms\n",
      "440:\tlearn: 0.1397912\ttotal: 453ms\tremaining: 574ms\n",
      "441:\tlearn: 0.1392999\ttotal: 454ms\tremaining: 573ms\n",
      "442:\tlearn: 0.1389643\ttotal: 455ms\tremaining: 572ms\n",
      "443:\tlearn: 0.1387473\ttotal: 456ms\tremaining: 571ms\n",
      "444:\tlearn: 0.1384547\ttotal: 457ms\tremaining: 570ms\n",
      "445:\tlearn: 0.1382698\ttotal: 457ms\tremaining: 568ms\n",
      "446:\tlearn: 0.1381579\ttotal: 458ms\tremaining: 567ms\n",
      "447:\tlearn: 0.1379229\ttotal: 459ms\tremaining: 566ms\n",
      "448:\tlearn: 0.1376073\ttotal: 460ms\tremaining: 565ms\n",
      "449:\tlearn: 0.1372704\ttotal: 461ms\tremaining: 564ms\n",
      "450:\tlearn: 0.1369012\ttotal: 462ms\tremaining: 562ms\n",
      "451:\tlearn: 0.1366151\ttotal: 463ms\tremaining: 561ms\n",
      "452:\tlearn: 0.1363827\ttotal: 464ms\tremaining: 560ms\n",
      "453:\tlearn: 0.1360443\ttotal: 464ms\tremaining: 559ms\n",
      "454:\tlearn: 0.1358753\ttotal: 465ms\tremaining: 557ms\n",
      "455:\tlearn: 0.1354326\ttotal: 466ms\tremaining: 556ms\n",
      "456:\tlearn: 0.1352311\ttotal: 467ms\tremaining: 555ms\n",
      "457:\tlearn: 0.1348829\ttotal: 468ms\tremaining: 553ms\n",
      "458:\tlearn: 0.1348523\ttotal: 469ms\tremaining: 552ms\n",
      "459:\tlearn: 0.1348298\ttotal: 469ms\tremaining: 551ms\n",
      "460:\tlearn: 0.1347369\ttotal: 470ms\tremaining: 550ms\n",
      "461:\tlearn: 0.1344293\ttotal: 471ms\tremaining: 549ms\n",
      "462:\tlearn: 0.1342080\ttotal: 472ms\tremaining: 548ms\n",
      "463:\tlearn: 0.1339366\ttotal: 473ms\tremaining: 546ms\n",
      "464:\tlearn: 0.1338857\ttotal: 474ms\tremaining: 545ms\n",
      "465:\tlearn: 0.1336211\ttotal: 475ms\tremaining: 544ms\n",
      "466:\tlearn: 0.1333451\ttotal: 476ms\tremaining: 543ms\n",
      "467:\tlearn: 0.1329275\ttotal: 477ms\tremaining: 542ms\n",
      "468:\tlearn: 0.1327893\ttotal: 477ms\tremaining: 541ms\n",
      "469:\tlearn: 0.1327176\ttotal: 478ms\tremaining: 539ms\n",
      "470:\tlearn: 0.1324638\ttotal: 479ms\tremaining: 538ms\n",
      "471:\tlearn: 0.1322432\ttotal: 480ms\tremaining: 537ms\n",
      "472:\tlearn: 0.1318660\ttotal: 481ms\tremaining: 536ms\n",
      "473:\tlearn: 0.1316665\ttotal: 482ms\tremaining: 535ms\n",
      "474:\tlearn: 0.1315745\ttotal: 483ms\tremaining: 533ms\n",
      "475:\tlearn: 0.1313842\ttotal: 483ms\tremaining: 532ms\n",
      "476:\tlearn: 0.1311771\ttotal: 484ms\tremaining: 531ms\n",
      "477:\tlearn: 0.1311253\ttotal: 485ms\tremaining: 530ms\n",
      "478:\tlearn: 0.1307431\ttotal: 486ms\tremaining: 529ms\n",
      "479:\tlearn: 0.1305110\ttotal: 487ms\tremaining: 528ms\n",
      "480:\tlearn: 0.1303212\ttotal: 488ms\tremaining: 526ms\n",
      "481:\tlearn: 0.1301665\ttotal: 489ms\tremaining: 525ms\n",
      "482:\tlearn: 0.1301191\ttotal: 490ms\tremaining: 524ms\n",
      "483:\tlearn: 0.1299207\ttotal: 491ms\tremaining: 523ms\n"
     ]
    },
    {
     "name": "stdout",
     "output_type": "stream",
     "text": [
      "484:\tlearn: 0.1296780\ttotal: 491ms\tremaining: 522ms\n",
      "485:\tlearn: 0.1294820\ttotal: 493ms\tremaining: 521ms\n",
      "486:\tlearn: 0.1292769\ttotal: 493ms\tremaining: 520ms\n",
      "487:\tlearn: 0.1292208\ttotal: 494ms\tremaining: 519ms\n",
      "488:\tlearn: 0.1291148\ttotal: 495ms\tremaining: 518ms\n",
      "489:\tlearn: 0.1289516\ttotal: 496ms\tremaining: 516ms\n",
      "490:\tlearn: 0.1286954\ttotal: 497ms\tremaining: 515ms\n",
      "491:\tlearn: 0.1286231\ttotal: 498ms\tremaining: 514ms\n",
      "492:\tlearn: 0.1283295\ttotal: 499ms\tremaining: 513ms\n",
      "493:\tlearn: 0.1281734\ttotal: 500ms\tremaining: 512ms\n",
      "494:\tlearn: 0.1278908\ttotal: 500ms\tremaining: 511ms\n",
      "495:\tlearn: 0.1278357\ttotal: 501ms\tremaining: 509ms\n",
      "496:\tlearn: 0.1275790\ttotal: 502ms\tremaining: 508ms\n",
      "497:\tlearn: 0.1273692\ttotal: 503ms\tremaining: 507ms\n",
      "498:\tlearn: 0.1272317\ttotal: 504ms\tremaining: 506ms\n",
      "499:\tlearn: 0.1270463\ttotal: 505ms\tremaining: 505ms\n",
      "500:\tlearn: 0.1270025\ttotal: 506ms\tremaining: 504ms\n",
      "501:\tlearn: 0.1267310\ttotal: 507ms\tremaining: 503ms\n",
      "502:\tlearn: 0.1265853\ttotal: 508ms\tremaining: 501ms\n",
      "503:\tlearn: 0.1264255\ttotal: 508ms\tremaining: 500ms\n",
      "504:\tlearn: 0.1263633\ttotal: 509ms\tremaining: 499ms\n",
      "505:\tlearn: 0.1261518\ttotal: 510ms\tremaining: 498ms\n",
      "506:\tlearn: 0.1260135\ttotal: 511ms\tremaining: 497ms\n",
      "507:\tlearn: 0.1258352\ttotal: 512ms\tremaining: 496ms\n",
      "508:\tlearn: 0.1257761\ttotal: 513ms\tremaining: 495ms\n",
      "509:\tlearn: 0.1255510\ttotal: 514ms\tremaining: 493ms\n",
      "510:\tlearn: 0.1250975\ttotal: 515ms\tremaining: 492ms\n",
      "511:\tlearn: 0.1248532\ttotal: 515ms\tremaining: 491ms\n",
      "512:\tlearn: 0.1245407\ttotal: 516ms\tremaining: 490ms\n",
      "513:\tlearn: 0.1242654\ttotal: 517ms\tremaining: 489ms\n",
      "514:\tlearn: 0.1241037\ttotal: 518ms\tremaining: 488ms\n",
      "515:\tlearn: 0.1238094\ttotal: 519ms\tremaining: 487ms\n",
      "516:\tlearn: 0.1237088\ttotal: 520ms\tremaining: 486ms\n",
      "517:\tlearn: 0.1233451\ttotal: 521ms\tremaining: 485ms\n",
      "518:\tlearn: 0.1232757\ttotal: 522ms\tremaining: 484ms\n",
      "519:\tlearn: 0.1229973\ttotal: 523ms\tremaining: 483ms\n",
      "520:\tlearn: 0.1226455\ttotal: 524ms\tremaining: 482ms\n",
      "521:\tlearn: 0.1223842\ttotal: 525ms\tremaining: 481ms\n",
      "522:\tlearn: 0.1220440\ttotal: 526ms\tremaining: 479ms\n",
      "523:\tlearn: 0.1220168\ttotal: 527ms\tremaining: 479ms\n",
      "524:\tlearn: 0.1219728\ttotal: 528ms\tremaining: 477ms\n",
      "525:\tlearn: 0.1218411\ttotal: 529ms\tremaining: 476ms\n",
      "526:\tlearn: 0.1216331\ttotal: 530ms\tremaining: 475ms\n",
      "527:\tlearn: 0.1213890\ttotal: 530ms\tremaining: 474ms\n",
      "528:\tlearn: 0.1211569\ttotal: 531ms\tremaining: 473ms\n",
      "529:\tlearn: 0.1208532\ttotal: 532ms\tremaining: 472ms\n",
      "530:\tlearn: 0.1208250\ttotal: 533ms\tremaining: 470ms\n",
      "531:\tlearn: 0.1205330\ttotal: 533ms\tremaining: 469ms\n",
      "532:\tlearn: 0.1204618\ttotal: 534ms\tremaining: 468ms\n",
      "533:\tlearn: 0.1203049\ttotal: 535ms\tremaining: 467ms\n",
      "534:\tlearn: 0.1201982\ttotal: 536ms\tremaining: 466ms\n",
      "535:\tlearn: 0.1199325\ttotal: 537ms\tremaining: 465ms\n",
      "536:\tlearn: 0.1196057\ttotal: 538ms\tremaining: 464ms\n",
      "537:\tlearn: 0.1192577\ttotal: 539ms\tremaining: 463ms\n",
      "538:\tlearn: 0.1189499\ttotal: 540ms\tremaining: 462ms\n",
      "539:\tlearn: 0.1189177\ttotal: 540ms\tremaining: 460ms\n",
      "540:\tlearn: 0.1186604\ttotal: 541ms\tremaining: 459ms\n",
      "541:\tlearn: 0.1185329\ttotal: 542ms\tremaining: 458ms\n",
      "542:\tlearn: 0.1183022\ttotal: 543ms\tremaining: 457ms\n",
      "543:\tlearn: 0.1182038\ttotal: 544ms\tremaining: 456ms\n",
      "544:\tlearn: 0.1181436\ttotal: 545ms\tremaining: 455ms\n",
      "545:\tlearn: 0.1179873\ttotal: 546ms\tremaining: 454ms\n",
      "546:\tlearn: 0.1179362\ttotal: 546ms\tremaining: 452ms\n",
      "547:\tlearn: 0.1176183\ttotal: 547ms\tremaining: 451ms\n",
      "548:\tlearn: 0.1175854\ttotal: 548ms\tremaining: 450ms\n",
      "549:\tlearn: 0.1173425\ttotal: 549ms\tremaining: 449ms\n",
      "550:\tlearn: 0.1170265\ttotal: 550ms\tremaining: 448ms\n",
      "551:\tlearn: 0.1168911\ttotal: 551ms\tremaining: 447ms\n",
      "552:\tlearn: 0.1167535\ttotal: 552ms\tremaining: 446ms\n",
      "553:\tlearn: 0.1166974\ttotal: 553ms\tremaining: 445ms\n",
      "554:\tlearn: 0.1164415\ttotal: 554ms\tremaining: 444ms\n",
      "555:\tlearn: 0.1163749\ttotal: 555ms\tremaining: 443ms\n",
      "556:\tlearn: 0.1162028\ttotal: 556ms\tremaining: 442ms\n",
      "557:\tlearn: 0.1160139\ttotal: 556ms\tremaining: 441ms\n",
      "558:\tlearn: 0.1157744\ttotal: 557ms\tremaining: 440ms\n",
      "559:\tlearn: 0.1154753\ttotal: 558ms\tremaining: 439ms\n",
      "560:\tlearn: 0.1153390\ttotal: 559ms\tremaining: 437ms\n",
      "561:\tlearn: 0.1150668\ttotal: 560ms\tremaining: 436ms\n",
      "562:\tlearn: 0.1148832\ttotal: 561ms\tremaining: 435ms\n",
      "563:\tlearn: 0.1147939\ttotal: 562ms\tremaining: 434ms\n",
      "564:\tlearn: 0.1147483\ttotal: 562ms\tremaining: 433ms\n",
      "565:\tlearn: 0.1144374\ttotal: 563ms\tremaining: 432ms\n",
      "566:\tlearn: 0.1141333\ttotal: 565ms\tremaining: 431ms\n",
      "567:\tlearn: 0.1139314\ttotal: 566ms\tremaining: 430ms\n",
      "568:\tlearn: 0.1138728\ttotal: 567ms\tremaining: 429ms\n",
      "569:\tlearn: 0.1136761\ttotal: 567ms\tremaining: 428ms\n",
      "570:\tlearn: 0.1136486\ttotal: 568ms\tremaining: 427ms\n",
      "571:\tlearn: 0.1136239\ttotal: 569ms\tremaining: 426ms\n",
      "572:\tlearn: 0.1134352\ttotal: 570ms\tremaining: 425ms\n",
      "573:\tlearn: 0.1133954\ttotal: 571ms\tremaining: 424ms\n",
      "574:\tlearn: 0.1131830\ttotal: 572ms\tremaining: 423ms\n",
      "575:\tlearn: 0.1130914\ttotal: 573ms\tremaining: 421ms\n",
      "576:\tlearn: 0.1129699\ttotal: 573ms\tremaining: 420ms\n"
     ]
    },
    {
     "name": "stdout",
     "output_type": "stream",
     "text": [
      "577:\tlearn: 0.1128166\ttotal: 575ms\tremaining: 420ms\n",
      "578:\tlearn: 0.1127663\ttotal: 576ms\tremaining: 419ms\n",
      "579:\tlearn: 0.1126759\ttotal: 577ms\tremaining: 418ms\n",
      "580:\tlearn: 0.1124248\ttotal: 578ms\tremaining: 416ms\n",
      "581:\tlearn: 0.1123202\ttotal: 578ms\tremaining: 415ms\n",
      "582:\tlearn: 0.1119858\ttotal: 579ms\tremaining: 414ms\n",
      "583:\tlearn: 0.1118354\ttotal: 580ms\tremaining: 413ms\n",
      "584:\tlearn: 0.1115966\ttotal: 581ms\tremaining: 412ms\n",
      "585:\tlearn: 0.1114057\ttotal: 582ms\tremaining: 411ms\n",
      "586:\tlearn: 0.1112140\ttotal: 583ms\tremaining: 411ms\n",
      "587:\tlearn: 0.1110504\ttotal: 584ms\tremaining: 409ms\n",
      "588:\tlearn: 0.1108729\ttotal: 585ms\tremaining: 408ms\n",
      "589:\tlearn: 0.1107611\ttotal: 586ms\tremaining: 407ms\n",
      "590:\tlearn: 0.1106395\ttotal: 587ms\tremaining: 406ms\n",
      "591:\tlearn: 0.1104059\ttotal: 588ms\tremaining: 405ms\n",
      "592:\tlearn: 0.1102783\ttotal: 588ms\tremaining: 404ms\n",
      "593:\tlearn: 0.1101317\ttotal: 589ms\tremaining: 403ms\n",
      "594:\tlearn: 0.1101164\ttotal: 590ms\tremaining: 402ms\n",
      "595:\tlearn: 0.1100458\ttotal: 591ms\tremaining: 401ms\n",
      "596:\tlearn: 0.1100034\ttotal: 592ms\tremaining: 400ms\n",
      "597:\tlearn: 0.1097816\ttotal: 593ms\tremaining: 399ms\n",
      "598:\tlearn: 0.1096109\ttotal: 594ms\tremaining: 397ms\n",
      "599:\tlearn: 0.1094232\ttotal: 595ms\tremaining: 396ms\n",
      "600:\tlearn: 0.1093906\ttotal: 596ms\tremaining: 395ms\n",
      "601:\tlearn: 0.1092701\ttotal: 596ms\tremaining: 394ms\n",
      "602:\tlearn: 0.1090502\ttotal: 597ms\tremaining: 393ms\n",
      "603:\tlearn: 0.1089477\ttotal: 598ms\tremaining: 392ms\n",
      "604:\tlearn: 0.1087042\ttotal: 599ms\tremaining: 391ms\n",
      "605:\tlearn: 0.1086237\ttotal: 600ms\tremaining: 390ms\n",
      "606:\tlearn: 0.1083631\ttotal: 600ms\tremaining: 389ms\n",
      "607:\tlearn: 0.1083276\ttotal: 601ms\tremaining: 388ms\n",
      "608:\tlearn: 0.1083121\ttotal: 602ms\tremaining: 387ms\n",
      "609:\tlearn: 0.1080711\ttotal: 603ms\tremaining: 386ms\n",
      "610:\tlearn: 0.1079398\ttotal: 604ms\tremaining: 385ms\n",
      "611:\tlearn: 0.1078350\ttotal: 605ms\tremaining: 383ms\n",
      "612:\tlearn: 0.1076069\ttotal: 606ms\tremaining: 382ms\n",
      "613:\tlearn: 0.1073801\ttotal: 606ms\tremaining: 381ms\n",
      "614:\tlearn: 0.1071795\ttotal: 607ms\tremaining: 380ms\n",
      "615:\tlearn: 0.1071110\ttotal: 608ms\tremaining: 379ms\n",
      "616:\tlearn: 0.1068813\ttotal: 609ms\tremaining: 378ms\n",
      "617:\tlearn: 0.1066693\ttotal: 610ms\tremaining: 377ms\n",
      "618:\tlearn: 0.1065328\ttotal: 611ms\tremaining: 376ms\n",
      "619:\tlearn: 0.1064182\ttotal: 612ms\tremaining: 375ms\n",
      "620:\tlearn: 0.1062933\ttotal: 612ms\tremaining: 374ms\n",
      "621:\tlearn: 0.1061865\ttotal: 613ms\tremaining: 373ms\n",
      "622:\tlearn: 0.1060874\ttotal: 614ms\tremaining: 372ms\n",
      "623:\tlearn: 0.1058231\ttotal: 615ms\tremaining: 370ms\n",
      "624:\tlearn: 0.1055812\ttotal: 616ms\tremaining: 369ms\n",
      "625:\tlearn: 0.1054407\ttotal: 617ms\tremaining: 369ms\n",
      "626:\tlearn: 0.1051848\ttotal: 618ms\tremaining: 368ms\n",
      "627:\tlearn: 0.1050310\ttotal: 619ms\tremaining: 367ms\n",
      "628:\tlearn: 0.1049735\ttotal: 620ms\tremaining: 366ms\n",
      "629:\tlearn: 0.1047074\ttotal: 621ms\tremaining: 365ms\n",
      "630:\tlearn: 0.1046239\ttotal: 621ms\tremaining: 363ms\n",
      "631:\tlearn: 0.1045013\ttotal: 622ms\tremaining: 362ms\n",
      "632:\tlearn: 0.1043618\ttotal: 623ms\tremaining: 361ms\n",
      "633:\tlearn: 0.1042562\ttotal: 624ms\tremaining: 360ms\n",
      "634:\tlearn: 0.1040727\ttotal: 625ms\tremaining: 359ms\n",
      "635:\tlearn: 0.1039400\ttotal: 626ms\tremaining: 358ms\n",
      "636:\tlearn: 0.1037315\ttotal: 627ms\tremaining: 357ms\n",
      "637:\tlearn: 0.1036490\ttotal: 628ms\tremaining: 356ms\n",
      "638:\tlearn: 0.1036032\ttotal: 628ms\tremaining: 355ms\n",
      "639:\tlearn: 0.1035164\ttotal: 629ms\tremaining: 354ms\n",
      "640:\tlearn: 0.1033590\ttotal: 630ms\tremaining: 353ms\n",
      "641:\tlearn: 0.1031878\ttotal: 631ms\tremaining: 352ms\n",
      "642:\tlearn: 0.1030653\ttotal: 632ms\tremaining: 351ms\n",
      "643:\tlearn: 0.1029943\ttotal: 633ms\tremaining: 350ms\n",
      "644:\tlearn: 0.1028378\ttotal: 634ms\tremaining: 349ms\n",
      "645:\tlearn: 0.1025010\ttotal: 635ms\tremaining: 348ms\n",
      "646:\tlearn: 0.1022472\ttotal: 636ms\tremaining: 347ms\n",
      "647:\tlearn: 0.1020253\ttotal: 637ms\tremaining: 346ms\n",
      "648:\tlearn: 0.1018155\ttotal: 638ms\tremaining: 345ms\n",
      "649:\tlearn: 0.1017400\ttotal: 639ms\tremaining: 344ms\n",
      "650:\tlearn: 0.1015354\ttotal: 639ms\tremaining: 343ms\n",
      "651:\tlearn: 0.1013896\ttotal: 640ms\tremaining: 342ms\n",
      "652:\tlearn: 0.1012380\ttotal: 641ms\tremaining: 341ms\n",
      "653:\tlearn: 0.1010259\ttotal: 642ms\tremaining: 340ms\n",
      "654:\tlearn: 0.1007881\ttotal: 643ms\tremaining: 339ms\n",
      "655:\tlearn: 0.1006777\ttotal: 644ms\tremaining: 338ms\n",
      "656:\tlearn: 0.1005663\ttotal: 645ms\tremaining: 337ms\n",
      "657:\tlearn: 0.1005358\ttotal: 645ms\tremaining: 335ms\n",
      "658:\tlearn: 0.1004939\ttotal: 646ms\tremaining: 334ms\n",
      "659:\tlearn: 0.1004138\ttotal: 647ms\tremaining: 333ms\n",
      "660:\tlearn: 0.1002479\ttotal: 648ms\tremaining: 332ms\n",
      "661:\tlearn: 0.1001971\ttotal: 649ms\tremaining: 331ms\n",
      "662:\tlearn: 0.1001730\ttotal: 650ms\tremaining: 330ms\n",
      "663:\tlearn: 0.1000094\ttotal: 651ms\tremaining: 329ms\n",
      "664:\tlearn: 0.0997787\ttotal: 651ms\tremaining: 328ms\n",
      "665:\tlearn: 0.0996214\ttotal: 652ms\tremaining: 327ms\n",
      "666:\tlearn: 0.0993820\ttotal: 653ms\tremaining: 326ms\n",
      "667:\tlearn: 0.0992015\ttotal: 654ms\tremaining: 325ms\n",
      "668:\tlearn: 0.0989809\ttotal: 655ms\tremaining: 324ms\n",
      "669:\tlearn: 0.0988415\ttotal: 656ms\tremaining: 323ms\n",
      "670:\tlearn: 0.0987066\ttotal: 657ms\tremaining: 322ms\n",
      "671:\tlearn: 0.0986823\ttotal: 658ms\tremaining: 321ms\n",
      "672:\tlearn: 0.0984780\ttotal: 659ms\tremaining: 320ms\n",
      "673:\tlearn: 0.0984397\ttotal: 660ms\tremaining: 319ms\n",
      "674:\tlearn: 0.0983101\ttotal: 661ms\tremaining: 318ms\n",
      "675:\tlearn: 0.0981249\ttotal: 661ms\tremaining: 317ms\n",
      "676:\tlearn: 0.0979411\ttotal: 662ms\tremaining: 316ms\n",
      "677:\tlearn: 0.0979189\ttotal: 663ms\tremaining: 315ms\n",
      "678:\tlearn: 0.0977845\ttotal: 664ms\tremaining: 314ms\n",
      "679:\tlearn: 0.0976953\ttotal: 665ms\tremaining: 313ms\n",
      "680:\tlearn: 0.0975364\ttotal: 666ms\tremaining: 312ms\n",
      "681:\tlearn: 0.0974055\ttotal: 667ms\tremaining: 311ms\n",
      "682:\tlearn: 0.0972068\ttotal: 668ms\tremaining: 310ms\n",
      "683:\tlearn: 0.0970496\ttotal: 669ms\tremaining: 309ms\n",
      "684:\tlearn: 0.0969103\ttotal: 670ms\tremaining: 308ms\n",
      "685:\tlearn: 0.0967099\ttotal: 671ms\tremaining: 307ms\n",
      "686:\tlearn: 0.0966889\ttotal: 672ms\tremaining: 306ms\n",
      "687:\tlearn: 0.0966045\ttotal: 672ms\tremaining: 305ms\n",
      "688:\tlearn: 0.0964328\ttotal: 673ms\tremaining: 304ms\n",
      "689:\tlearn: 0.0962834\ttotal: 674ms\tremaining: 303ms\n",
      "690:\tlearn: 0.0960667\ttotal: 675ms\tremaining: 302ms\n",
      "691:\tlearn: 0.0960272\ttotal: 676ms\tremaining: 301ms\n",
      "692:\tlearn: 0.0958287\ttotal: 676ms\tremaining: 300ms\n",
      "693:\tlearn: 0.0956358\ttotal: 677ms\tremaining: 299ms\n",
      "694:\tlearn: 0.0954393\ttotal: 678ms\tremaining: 298ms\n",
      "695:\tlearn: 0.0952579\ttotal: 679ms\tremaining: 297ms\n",
      "696:\tlearn: 0.0952091\ttotal: 681ms\tremaining: 296ms\n",
      "697:\tlearn: 0.0950913\ttotal: 682ms\tremaining: 295ms\n"
     ]
    },
    {
     "name": "stdout",
     "output_type": "stream",
     "text": [
      "698:\tlearn: 0.0949528\ttotal: 683ms\tremaining: 294ms\n",
      "699:\tlearn: 0.0948715\ttotal: 684ms\tremaining: 293ms\n",
      "700:\tlearn: 0.0947018\ttotal: 685ms\tremaining: 292ms\n",
      "701:\tlearn: 0.0946829\ttotal: 686ms\tremaining: 291ms\n",
      "702:\tlearn: 0.0946056\ttotal: 687ms\tremaining: 290ms\n",
      "703:\tlearn: 0.0944618\ttotal: 688ms\tremaining: 289ms\n",
      "704:\tlearn: 0.0942898\ttotal: 688ms\tremaining: 288ms\n",
      "705:\tlearn: 0.0941521\ttotal: 689ms\tremaining: 287ms\n",
      "706:\tlearn: 0.0940127\ttotal: 690ms\tremaining: 286ms\n",
      "707:\tlearn: 0.0938792\ttotal: 691ms\tremaining: 285ms\n",
      "708:\tlearn: 0.0937895\ttotal: 692ms\tremaining: 284ms\n",
      "709:\tlearn: 0.0936331\ttotal: 692ms\tremaining: 283ms\n",
      "710:\tlearn: 0.0935646\ttotal: 693ms\tremaining: 282ms\n",
      "711:\tlearn: 0.0933496\ttotal: 694ms\tremaining: 281ms\n",
      "712:\tlearn: 0.0931668\ttotal: 695ms\tremaining: 280ms\n",
      "713:\tlearn: 0.0930217\ttotal: 696ms\tremaining: 279ms\n",
      "714:\tlearn: 0.0928669\ttotal: 697ms\tremaining: 278ms\n",
      "715:\tlearn: 0.0927029\ttotal: 698ms\tremaining: 277ms\n",
      "716:\tlearn: 0.0926805\ttotal: 699ms\tremaining: 276ms\n",
      "717:\tlearn: 0.0924937\ttotal: 699ms\tremaining: 275ms\n",
      "718:\tlearn: 0.0923983\ttotal: 700ms\tremaining: 274ms\n",
      "719:\tlearn: 0.0921982\ttotal: 701ms\tremaining: 273ms\n",
      "720:\tlearn: 0.0921427\ttotal: 702ms\tremaining: 272ms\n",
      "721:\tlearn: 0.0921263\ttotal: 703ms\tremaining: 271ms\n",
      "722:\tlearn: 0.0919408\ttotal: 704ms\tremaining: 270ms\n",
      "723:\tlearn: 0.0918588\ttotal: 705ms\tremaining: 269ms\n",
      "724:\tlearn: 0.0917067\ttotal: 706ms\tremaining: 268ms\n",
      "725:\tlearn: 0.0916187\ttotal: 707ms\tremaining: 267ms\n",
      "726:\tlearn: 0.0916018\ttotal: 707ms\tremaining: 266ms\n",
      "727:\tlearn: 0.0914343\ttotal: 708ms\tremaining: 265ms\n",
      "728:\tlearn: 0.0913089\ttotal: 709ms\tremaining: 264ms\n",
      "729:\tlearn: 0.0912521\ttotal: 710ms\tremaining: 262ms\n",
      "730:\tlearn: 0.0910826\ttotal: 710ms\tremaining: 261ms\n",
      "731:\tlearn: 0.0910340\ttotal: 711ms\tremaining: 260ms\n",
      "732:\tlearn: 0.0908805\ttotal: 712ms\tremaining: 259ms\n",
      "733:\tlearn: 0.0907872\ttotal: 713ms\tremaining: 258ms\n",
      "734:\tlearn: 0.0906597\ttotal: 714ms\tremaining: 257ms\n",
      "735:\tlearn: 0.0905761\ttotal: 715ms\tremaining: 256ms\n",
      "736:\tlearn: 0.0904337\ttotal: 716ms\tremaining: 255ms\n",
      "737:\tlearn: 0.0902645\ttotal: 716ms\tremaining: 254ms\n",
      "738:\tlearn: 0.0901839\ttotal: 717ms\tremaining: 253ms\n",
      "739:\tlearn: 0.0900913\ttotal: 718ms\tremaining: 252ms\n",
      "740:\tlearn: 0.0899915\ttotal: 719ms\tremaining: 251ms\n",
      "741:\tlearn: 0.0899303\ttotal: 720ms\tremaining: 250ms\n",
      "742:\tlearn: 0.0898613\ttotal: 720ms\tremaining: 249ms\n",
      "743:\tlearn: 0.0897499\ttotal: 721ms\tremaining: 248ms\n",
      "744:\tlearn: 0.0895560\ttotal: 722ms\tremaining: 247ms\n",
      "745:\tlearn: 0.0894307\ttotal: 723ms\tremaining: 246ms\n",
      "746:\tlearn: 0.0893532\ttotal: 724ms\tremaining: 245ms\n",
      "747:\tlearn: 0.0893194\ttotal: 725ms\tremaining: 244ms\n",
      "748:\tlearn: 0.0891098\ttotal: 725ms\tremaining: 243ms\n",
      "749:\tlearn: 0.0889770\ttotal: 726ms\tremaining: 242ms\n",
      "750:\tlearn: 0.0888233\ttotal: 727ms\tremaining: 241ms\n",
      "751:\tlearn: 0.0886725\ttotal: 728ms\tremaining: 240ms\n",
      "752:\tlearn: 0.0885428\ttotal: 729ms\tremaining: 239ms\n",
      "753:\tlearn: 0.0883990\ttotal: 730ms\tremaining: 238ms\n",
      "754:\tlearn: 0.0882781\ttotal: 731ms\tremaining: 237ms\n",
      "755:\tlearn: 0.0881630\ttotal: 732ms\tremaining: 236ms\n",
      "756:\tlearn: 0.0880952\ttotal: 733ms\tremaining: 235ms\n",
      "757:\tlearn: 0.0879653\ttotal: 734ms\tremaining: 234ms\n",
      "758:\tlearn: 0.0877480\ttotal: 735ms\tremaining: 233ms\n",
      "759:\tlearn: 0.0875780\ttotal: 736ms\tremaining: 232ms\n",
      "760:\tlearn: 0.0874308\ttotal: 737ms\tremaining: 231ms\n",
      "761:\tlearn: 0.0873239\ttotal: 738ms\tremaining: 230ms\n",
      "762:\tlearn: 0.0871736\ttotal: 739ms\tremaining: 229ms\n",
      "763:\tlearn: 0.0870632\ttotal: 740ms\tremaining: 228ms\n",
      "764:\tlearn: 0.0868534\ttotal: 740ms\tremaining: 227ms\n",
      "765:\tlearn: 0.0866455\ttotal: 741ms\tremaining: 226ms\n",
      "766:\tlearn: 0.0865478\ttotal: 742ms\tremaining: 225ms\n",
      "767:\tlearn: 0.0865393\ttotal: 743ms\tremaining: 224ms\n",
      "768:\tlearn: 0.0864973\ttotal: 744ms\tremaining: 223ms\n",
      "769:\tlearn: 0.0864089\ttotal: 745ms\tremaining: 222ms\n",
      "770:\tlearn: 0.0863206\ttotal: 745ms\tremaining: 221ms\n",
      "771:\tlearn: 0.0861676\ttotal: 746ms\tremaining: 220ms\n",
      "772:\tlearn: 0.0860905\ttotal: 747ms\tremaining: 219ms\n",
      "773:\tlearn: 0.0859295\ttotal: 748ms\tremaining: 218ms\n",
      "774:\tlearn: 0.0857496\ttotal: 749ms\tremaining: 217ms\n",
      "775:\tlearn: 0.0856886\ttotal: 750ms\tremaining: 216ms\n",
      "776:\tlearn: 0.0856688\ttotal: 751ms\tremaining: 215ms\n",
      "777:\tlearn: 0.0855728\ttotal: 752ms\tremaining: 214ms\n",
      "778:\tlearn: 0.0854389\ttotal: 752ms\tremaining: 213ms\n",
      "779:\tlearn: 0.0853312\ttotal: 753ms\tremaining: 212ms\n",
      "780:\tlearn: 0.0851641\ttotal: 754ms\tremaining: 211ms\n",
      "781:\tlearn: 0.0851562\ttotal: 755ms\tremaining: 210ms\n",
      "782:\tlearn: 0.0850734\ttotal: 756ms\tremaining: 209ms\n",
      "783:\tlearn: 0.0849599\ttotal: 757ms\tremaining: 209ms\n",
      "784:\tlearn: 0.0848033\ttotal: 758ms\tremaining: 208ms\n",
      "785:\tlearn: 0.0846719\ttotal: 759ms\tremaining: 207ms\n",
      "786:\tlearn: 0.0845859\ttotal: 759ms\tremaining: 206ms\n",
      "787:\tlearn: 0.0844981\ttotal: 760ms\tremaining: 205ms\n",
      "788:\tlearn: 0.0844218\ttotal: 761ms\tremaining: 204ms\n",
      "789:\tlearn: 0.0842921\ttotal: 762ms\tremaining: 203ms\n",
      "790:\tlearn: 0.0840802\ttotal: 763ms\tremaining: 202ms\n",
      "791:\tlearn: 0.0839374\ttotal: 764ms\tremaining: 201ms\n",
      "792:\tlearn: 0.0838250\ttotal: 765ms\tremaining: 200ms\n"
     ]
    },
    {
     "name": "stdout",
     "output_type": "stream",
     "text": [
      "793:\tlearn: 0.0837445\ttotal: 766ms\tremaining: 199ms\n",
      "794:\tlearn: 0.0836216\ttotal: 767ms\tremaining: 198ms\n",
      "795:\tlearn: 0.0834736\ttotal: 767ms\tremaining: 197ms\n",
      "796:\tlearn: 0.0833603\ttotal: 768ms\tremaining: 196ms\n",
      "797:\tlearn: 0.0832055\ttotal: 769ms\tremaining: 195ms\n",
      "798:\tlearn: 0.0830690\ttotal: 770ms\tremaining: 194ms\n",
      "799:\tlearn: 0.0829379\ttotal: 771ms\tremaining: 193ms\n",
      "800:\tlearn: 0.0828009\ttotal: 772ms\tremaining: 192ms\n",
      "801:\tlearn: 0.0826561\ttotal: 773ms\tremaining: 191ms\n",
      "802:\tlearn: 0.0825409\ttotal: 774ms\tremaining: 190ms\n",
      "803:\tlearn: 0.0824029\ttotal: 774ms\tremaining: 189ms\n",
      "804:\tlearn: 0.0823149\ttotal: 775ms\tremaining: 188ms\n",
      "805:\tlearn: 0.0821265\ttotal: 776ms\tremaining: 187ms\n",
      "806:\tlearn: 0.0819760\ttotal: 777ms\tremaining: 186ms\n",
      "807:\tlearn: 0.0817656\ttotal: 778ms\tremaining: 185ms\n",
      "808:\tlearn: 0.0816653\ttotal: 779ms\tremaining: 184ms\n",
      "809:\tlearn: 0.0815340\ttotal: 780ms\tremaining: 183ms\n",
      "810:\tlearn: 0.0813495\ttotal: 781ms\tremaining: 182ms\n",
      "811:\tlearn: 0.0811408\ttotal: 782ms\tremaining: 181ms\n",
      "812:\tlearn: 0.0810352\ttotal: 782ms\tremaining: 180ms\n",
      "813:\tlearn: 0.0809127\ttotal: 783ms\tremaining: 179ms\n",
      "814:\tlearn: 0.0807871\ttotal: 784ms\tremaining: 178ms\n",
      "815:\tlearn: 0.0805839\ttotal: 785ms\tremaining: 177ms\n",
      "816:\tlearn: 0.0804617\ttotal: 786ms\tremaining: 176ms\n",
      "817:\tlearn: 0.0803473\ttotal: 787ms\tremaining: 175ms\n",
      "818:\tlearn: 0.0802080\ttotal: 788ms\tremaining: 174ms\n",
      "819:\tlearn: 0.0800272\ttotal: 789ms\tremaining: 173ms\n",
      "820:\tlearn: 0.0799380\ttotal: 790ms\tremaining: 172ms\n",
      "821:\tlearn: 0.0797532\ttotal: 790ms\tremaining: 171ms\n",
      "822:\tlearn: 0.0796625\ttotal: 791ms\tremaining: 170ms\n",
      "823:\tlearn: 0.0795715\ttotal: 792ms\tremaining: 169ms\n",
      "824:\tlearn: 0.0794310\ttotal: 793ms\tremaining: 168ms\n",
      "825:\tlearn: 0.0792699\ttotal: 794ms\tremaining: 167ms\n",
      "826:\tlearn: 0.0790992\ttotal: 795ms\tremaining: 166ms\n",
      "827:\tlearn: 0.0789494\ttotal: 796ms\tremaining: 165ms\n",
      "828:\tlearn: 0.0788255\ttotal: 796ms\tremaining: 164ms\n",
      "829:\tlearn: 0.0787481\ttotal: 797ms\tremaining: 163ms\n",
      "830:\tlearn: 0.0786179\ttotal: 798ms\tremaining: 162ms\n",
      "831:\tlearn: 0.0785232\ttotal: 799ms\tremaining: 161ms\n",
      "832:\tlearn: 0.0784574\ttotal: 800ms\tremaining: 160ms\n",
      "833:\tlearn: 0.0784337\ttotal: 801ms\tremaining: 159ms\n",
      "834:\tlearn: 0.0783276\ttotal: 802ms\tremaining: 158ms\n",
      "835:\tlearn: 0.0781846\ttotal: 803ms\tremaining: 157ms\n",
      "836:\tlearn: 0.0780479\ttotal: 804ms\tremaining: 157ms\n",
      "837:\tlearn: 0.0778736\ttotal: 805ms\tremaining: 156ms\n",
      "838:\tlearn: 0.0777843\ttotal: 805ms\tremaining: 155ms\n",
      "839:\tlearn: 0.0777736\ttotal: 806ms\tremaining: 154ms\n",
      "840:\tlearn: 0.0776862\ttotal: 807ms\tremaining: 153ms\n",
      "841:\tlearn: 0.0775925\ttotal: 808ms\tremaining: 152ms\n",
      "842:\tlearn: 0.0775006\ttotal: 809ms\tremaining: 151ms\n",
      "843:\tlearn: 0.0773820\ttotal: 810ms\tremaining: 150ms\n",
      "844:\tlearn: 0.0772545\ttotal: 811ms\tremaining: 149ms\n",
      "845:\tlearn: 0.0770904\ttotal: 812ms\tremaining: 148ms\n",
      "846:\tlearn: 0.0770063\ttotal: 813ms\tremaining: 147ms\n",
      "847:\tlearn: 0.0769294\ttotal: 813ms\tremaining: 146ms\n",
      "848:\tlearn: 0.0768674\ttotal: 814ms\tremaining: 145ms\n",
      "849:\tlearn: 0.0767632\ttotal: 815ms\tremaining: 144ms\n",
      "850:\tlearn: 0.0766113\ttotal: 816ms\tremaining: 143ms\n",
      "851:\tlearn: 0.0764553\ttotal: 817ms\tremaining: 142ms\n",
      "852:\tlearn: 0.0763553\ttotal: 818ms\tremaining: 141ms\n",
      "853:\tlearn: 0.0761881\ttotal: 819ms\tremaining: 140ms\n",
      "854:\tlearn: 0.0761107\ttotal: 820ms\tremaining: 139ms\n",
      "855:\tlearn: 0.0760846\ttotal: 820ms\tremaining: 138ms\n",
      "856:\tlearn: 0.0759661\ttotal: 821ms\tremaining: 137ms\n",
      "857:\tlearn: 0.0757709\ttotal: 822ms\tremaining: 136ms\n",
      "858:\tlearn: 0.0756362\ttotal: 823ms\tremaining: 135ms\n",
      "859:\tlearn: 0.0755281\ttotal: 824ms\tremaining: 134ms\n",
      "860:\tlearn: 0.0754524\ttotal: 825ms\tremaining: 133ms\n",
      "861:\tlearn: 0.0754096\ttotal: 826ms\tremaining: 132ms\n",
      "862:\tlearn: 0.0753273\ttotal: 827ms\tremaining: 131ms\n",
      "863:\tlearn: 0.0751472\ttotal: 828ms\tremaining: 130ms\n",
      "864:\tlearn: 0.0750466\ttotal: 829ms\tremaining: 129ms\n",
      "865:\tlearn: 0.0749256\ttotal: 829ms\tremaining: 128ms\n",
      "866:\tlearn: 0.0747431\ttotal: 830ms\tremaining: 127ms\n",
      "867:\tlearn: 0.0746758\ttotal: 831ms\tremaining: 126ms\n",
      "868:\tlearn: 0.0746269\ttotal: 832ms\tremaining: 125ms\n",
      "869:\tlearn: 0.0745152\ttotal: 833ms\tremaining: 124ms\n",
      "870:\tlearn: 0.0744180\ttotal: 834ms\tremaining: 123ms\n",
      "871:\tlearn: 0.0742690\ttotal: 835ms\tremaining: 122ms\n",
      "872:\tlearn: 0.0741169\ttotal: 835ms\tremaining: 122ms\n",
      "873:\tlearn: 0.0739685\ttotal: 836ms\tremaining: 121ms\n",
      "874:\tlearn: 0.0739005\ttotal: 837ms\tremaining: 120ms\n",
      "875:\tlearn: 0.0738811\ttotal: 838ms\tremaining: 119ms\n",
      "876:\tlearn: 0.0737632\ttotal: 839ms\tremaining: 118ms\n",
      "877:\tlearn: 0.0736518\ttotal: 840ms\tremaining: 117ms\n",
      "878:\tlearn: 0.0736202\ttotal: 840ms\tremaining: 116ms\n",
      "879:\tlearn: 0.0735565\ttotal: 841ms\tremaining: 115ms\n",
      "880:\tlearn: 0.0734218\ttotal: 842ms\tremaining: 114ms\n",
      "881:\tlearn: 0.0732667\ttotal: 843ms\tremaining: 113ms\n",
      "882:\tlearn: 0.0731996\ttotal: 844ms\tremaining: 112ms\n",
      "883:\tlearn: 0.0731454\ttotal: 845ms\tremaining: 111ms\n",
      "884:\tlearn: 0.0730333\ttotal: 845ms\tremaining: 110ms\n",
      "885:\tlearn: 0.0728835\ttotal: 846ms\tremaining: 109ms\n",
      "886:\tlearn: 0.0727369\ttotal: 847ms\tremaining: 108ms\n",
      "887:\tlearn: 0.0725988\ttotal: 848ms\tremaining: 107ms\n",
      "888:\tlearn: 0.0724692\ttotal: 849ms\tremaining: 106ms\n",
      "889:\tlearn: 0.0723523\ttotal: 849ms\tremaining: 105ms\n",
      "890:\tlearn: 0.0723427\ttotal: 850ms\tremaining: 104ms\n",
      "891:\tlearn: 0.0722528\ttotal: 851ms\tremaining: 103ms\n",
      "892:\tlearn: 0.0721125\ttotal: 852ms\tremaining: 102ms\n",
      "893:\tlearn: 0.0721026\ttotal: 853ms\tremaining: 101ms\n",
      "894:\tlearn: 0.0720925\ttotal: 854ms\tremaining: 100ms\n",
      "895:\tlearn: 0.0720212\ttotal: 854ms\tremaining: 99.2ms\n",
      "896:\tlearn: 0.0718507\ttotal: 856ms\tremaining: 98.2ms\n",
      "897:\tlearn: 0.0717603\ttotal: 857ms\tremaining: 97.3ms\n",
      "898:\tlearn: 0.0716499\ttotal: 857ms\tremaining: 96.3ms\n",
      "899:\tlearn: 0.0716194\ttotal: 858ms\tremaining: 95.4ms\n",
      "900:\tlearn: 0.0715139\ttotal: 859ms\tremaining: 94.4ms\n",
      "901:\tlearn: 0.0714986\ttotal: 860ms\tremaining: 93.4ms\n",
      "902:\tlearn: 0.0714326\ttotal: 861ms\tremaining: 92.5ms\n",
      "903:\tlearn: 0.0712734\ttotal: 862ms\tremaining: 91.5ms\n",
      "904:\tlearn: 0.0711779\ttotal: 862ms\tremaining: 90.5ms\n",
      "905:\tlearn: 0.0711704\ttotal: 863ms\tremaining: 89.5ms\n",
      "906:\tlearn: 0.0710350\ttotal: 864ms\tremaining: 88.6ms\n",
      "907:\tlearn: 0.0709310\ttotal: 865ms\tremaining: 87.6ms\n",
      "908:\tlearn: 0.0707886\ttotal: 865ms\tremaining: 86.6ms\n",
      "909:\tlearn: 0.0706291\ttotal: 866ms\tremaining: 85.7ms\n",
      "910:\tlearn: 0.0705113\ttotal: 867ms\tremaining: 84.7ms\n",
      "911:\tlearn: 0.0703881\ttotal: 868ms\tremaining: 83.7ms\n",
      "912:\tlearn: 0.0702495\ttotal: 869ms\tremaining: 82.8ms\n",
      "913:\tlearn: 0.0701707\ttotal: 870ms\tremaining: 81.9ms\n",
      "914:\tlearn: 0.0700430\ttotal: 871ms\tremaining: 80.9ms\n",
      "915:\tlearn: 0.0699524\ttotal: 872ms\tremaining: 80ms\n",
      "916:\tlearn: 0.0698595\ttotal: 873ms\tremaining: 79.1ms\n"
     ]
    },
    {
     "name": "stdout",
     "output_type": "stream",
     "text": [
      "917:\tlearn: 0.0698521\ttotal: 874ms\tremaining: 78.1ms\n",
      "918:\tlearn: 0.0697376\ttotal: 875ms\tremaining: 77.1ms\n",
      "919:\tlearn: 0.0696356\ttotal: 876ms\tremaining: 76.2ms\n",
      "920:\tlearn: 0.0694831\ttotal: 877ms\tremaining: 75.2ms\n",
      "921:\tlearn: 0.0694525\ttotal: 878ms\tremaining: 74.3ms\n",
      "922:\tlearn: 0.0693636\ttotal: 879ms\tremaining: 73.3ms\n",
      "923:\tlearn: 0.0692801\ttotal: 880ms\tremaining: 72.3ms\n",
      "924:\tlearn: 0.0692542\ttotal: 881ms\tremaining: 71.4ms\n",
      "925:\tlearn: 0.0691625\ttotal: 881ms\tremaining: 70.4ms\n",
      "926:\tlearn: 0.0690363\ttotal: 882ms\tremaining: 69.5ms\n",
      "927:\tlearn: 0.0688993\ttotal: 883ms\tremaining: 68.5ms\n",
      "928:\tlearn: 0.0688039\ttotal: 884ms\tremaining: 67.6ms\n",
      "929:\tlearn: 0.0687245\ttotal: 885ms\tremaining: 66.6ms\n",
      "930:\tlearn: 0.0686124\ttotal: 886ms\tremaining: 65.7ms\n",
      "931:\tlearn: 0.0685052\ttotal: 887ms\tremaining: 64.8ms\n",
      "932:\tlearn: 0.0684150\ttotal: 888ms\tremaining: 63.8ms\n",
      "933:\tlearn: 0.0683873\ttotal: 889ms\tremaining: 62.8ms\n",
      "934:\tlearn: 0.0683269\ttotal: 890ms\tremaining: 61.9ms\n",
      "935:\tlearn: 0.0681634\ttotal: 891ms\tremaining: 60.9ms\n",
      "936:\tlearn: 0.0680279\ttotal: 892ms\tremaining: 60ms\n",
      "937:\tlearn: 0.0679155\ttotal: 893ms\tremaining: 59ms\n",
      "938:\tlearn: 0.0678381\ttotal: 894ms\tremaining: 58ms\n",
      "939:\tlearn: 0.0677051\ttotal: 894ms\tremaining: 57.1ms\n",
      "940:\tlearn: 0.0674956\ttotal: 895ms\tremaining: 56.1ms\n",
      "941:\tlearn: 0.0673974\ttotal: 896ms\tremaining: 55.2ms\n",
      "942:\tlearn: 0.0672323\ttotal: 897ms\tremaining: 54.2ms\n",
      "943:\tlearn: 0.0671871\ttotal: 898ms\tremaining: 53.3ms\n",
      "944:\tlearn: 0.0671131\ttotal: 899ms\tremaining: 52.3ms\n",
      "945:\tlearn: 0.0670588\ttotal: 900ms\tremaining: 51.3ms\n",
      "946:\tlearn: 0.0669968\ttotal: 900ms\tremaining: 50.4ms\n",
      "947:\tlearn: 0.0669172\ttotal: 901ms\tremaining: 49.4ms\n",
      "948:\tlearn: 0.0668260\ttotal: 902ms\tremaining: 48.5ms\n",
      "949:\tlearn: 0.0666838\ttotal: 903ms\tremaining: 47.5ms\n",
      "950:\tlearn: 0.0665500\ttotal: 904ms\tremaining: 46.6ms\n",
      "951:\tlearn: 0.0664881\ttotal: 905ms\tremaining: 45.6ms\n",
      "952:\tlearn: 0.0663807\ttotal: 906ms\tremaining: 44.7ms\n",
      "953:\tlearn: 0.0662948\ttotal: 907ms\tremaining: 43.7ms\n",
      "954:\tlearn: 0.0661757\ttotal: 907ms\tremaining: 42.8ms\n",
      "955:\tlearn: 0.0661029\ttotal: 908ms\tremaining: 41.8ms\n",
      "956:\tlearn: 0.0660094\ttotal: 909ms\tremaining: 40.9ms\n",
      "957:\tlearn: 0.0658718\ttotal: 910ms\tremaining: 39.9ms\n",
      "958:\tlearn: 0.0658441\ttotal: 911ms\tremaining: 38.9ms\n",
      "959:\tlearn: 0.0657055\ttotal: 912ms\tremaining: 38ms\n",
      "960:\tlearn: 0.0655907\ttotal: 913ms\tremaining: 37ms\n",
      "961:\tlearn: 0.0654863\ttotal: 914ms\tremaining: 36.1ms\n",
      "962:\tlearn: 0.0653781\ttotal: 915ms\tremaining: 35.1ms\n",
      "963:\tlearn: 0.0653311\ttotal: 915ms\tremaining: 34.2ms\n",
      "964:\tlearn: 0.0651940\ttotal: 916ms\tremaining: 33.2ms\n",
      "965:\tlearn: 0.0651192\ttotal: 917ms\tremaining: 32.3ms\n",
      "966:\tlearn: 0.0650194\ttotal: 918ms\tremaining: 31.3ms\n",
      "967:\tlearn: 0.0649727\ttotal: 919ms\tremaining: 30.4ms\n",
      "968:\tlearn: 0.0648265\ttotal: 920ms\tremaining: 29.4ms\n",
      "969:\tlearn: 0.0647490\ttotal: 921ms\tremaining: 28.5ms\n",
      "970:\tlearn: 0.0646312\ttotal: 922ms\tremaining: 27.5ms\n",
      "971:\tlearn: 0.0644581\ttotal: 923ms\tremaining: 26.6ms\n",
      "972:\tlearn: 0.0644331\ttotal: 924ms\tremaining: 25.6ms\n",
      "973:\tlearn: 0.0643705\ttotal: 924ms\tremaining: 24.7ms\n",
      "974:\tlearn: 0.0642522\ttotal: 925ms\tremaining: 23.7ms\n",
      "975:\tlearn: 0.0641854\ttotal: 926ms\tremaining: 22.8ms\n",
      "976:\tlearn: 0.0640209\ttotal: 927ms\tremaining: 21.8ms\n",
      "977:\tlearn: 0.0639986\ttotal: 928ms\tremaining: 20.9ms\n",
      "978:\tlearn: 0.0639377\ttotal: 929ms\tremaining: 19.9ms\n",
      "979:\tlearn: 0.0638850\ttotal: 930ms\tremaining: 19ms\n",
      "980:\tlearn: 0.0637846\ttotal: 931ms\tremaining: 18ms\n",
      "981:\tlearn: 0.0636787\ttotal: 932ms\tremaining: 17.1ms\n",
      "982:\tlearn: 0.0636136\ttotal: 933ms\tremaining: 16.1ms\n",
      "983:\tlearn: 0.0635519\ttotal: 934ms\tremaining: 15.2ms\n",
      "984:\tlearn: 0.0634661\ttotal: 935ms\tremaining: 14.2ms\n",
      "985:\tlearn: 0.0634365\ttotal: 936ms\tremaining: 13.3ms\n",
      "986:\tlearn: 0.0633509\ttotal: 937ms\tremaining: 12.3ms\n",
      "987:\tlearn: 0.0632327\ttotal: 937ms\tremaining: 11.4ms\n",
      "988:\tlearn: 0.0631375\ttotal: 938ms\tremaining: 10.4ms\n",
      "989:\tlearn: 0.0630454\ttotal: 939ms\tremaining: 9.48ms\n",
      "990:\tlearn: 0.0629743\ttotal: 940ms\tremaining: 8.54ms\n",
      "991:\tlearn: 0.0629114\ttotal: 941ms\tremaining: 7.59ms\n",
      "992:\tlearn: 0.0628314\ttotal: 942ms\tremaining: 6.64ms\n",
      "993:\tlearn: 0.0627033\ttotal: 943ms\tremaining: 5.69ms\n",
      "994:\tlearn: 0.0625959\ttotal: 943ms\tremaining: 4.74ms\n",
      "995:\tlearn: 0.0625026\ttotal: 944ms\tremaining: 3.79ms\n",
      "996:\tlearn: 0.0624156\ttotal: 945ms\tremaining: 2.85ms\n",
      "997:\tlearn: 0.0623180\ttotal: 946ms\tremaining: 1.9ms\n",
      "998:\tlearn: 0.0622333\ttotal: 947ms\tremaining: 948us\n",
      "999:\tlearn: 0.0620754\ttotal: 948ms\tremaining: 0us\n"
     ]
    },
    {
     "data": {
      "text/plain": [
       "<catboost.core.CatBoostRegressor at 0x7f88898ca730>"
      ]
     },
     "execution_count": 9,
     "metadata": {},
     "output_type": "execute_result"
    }
   ],
   "source": [
    "#Train the Model \n",
    "prior_model = ctb.CatBoostRegressor()\n",
    "prior_model.fit(X_train,Y_train)"
   ]
  },
  {
   "cell_type": "code",
   "execution_count": 10,
   "id": "af65dcda",
   "metadata": {
    "execution": {
     "iopub.execute_input": "2022-06-12T04:18:23.485221Z",
     "iopub.status.busy": "2022-06-12T04:18:23.484825Z",
     "iopub.status.idle": "2022-06-12T04:18:23.492242Z",
     "shell.execute_reply": "2022-06-12T04:18:23.492481Z"
    },
    "id": "af65dcda",
    "papermill": {
     "duration": 0.021167,
     "end_time": "2022-06-12T04:18:23.492596",
     "exception": false,
     "start_time": "2022-06-12T04:18:23.471429",
     "status": "completed"
    },
    "tags": []
   },
   "outputs": [
    {
     "data": {
      "application/scrapbook.scrap.json+json": {
       "data": 0.07204787822856236,
       "encoder": "json",
       "name": "Prior Model MSE",
       "version": 1
      }
     },
     "metadata": {
      "scrapbook": {
       "data": true,
       "display": false,
       "name": "Prior Model MSE"
      }
     },
     "output_type": "display_data"
    },
    {
     "data": {
      "application/scrapbook.scrap.json+json": {
       "data": 1.1325363679648726,
       "encoder": "json",
       "name": "ABC Pre-generator MSE",
       "version": 1
      }
     },
     "metadata": {
      "scrapbook": {
       "data": true,
       "display": false,
       "name": "ABC Pre-generator MSE"
      }
     },
     "output_type": "display_data"
    },
    {
     "data": {
      "application/scrapbook.scrap.json+json": {
       "data": 0.18683149563687027,
       "encoder": "json",
       "name": "Prior Model MSE",
       "version": 1
      }
     },
     "metadata": {
      "scrapbook": {
       "data": true,
       "display": false,
       "name": "Prior Model MSE"
      }
     },
     "output_type": "display_data"
    },
    {
     "data": {
      "application/scrapbook.scrap.json+json": {
       "data": 0.8603712398597906,
       "encoder": "json",
       "name": "ABC Pre-generator MSE",
       "version": 1
      }
     },
     "metadata": {
      "scrapbook": {
       "data": true,
       "display": false,
       "name": "ABC Pre-generator MSE"
      }
     },
     "output_type": "display_data"
    }
   ],
   "source": [
    "y_pred = prior_model.predict(X_test)\n",
    "y_abc = y_pred + np.random.normal(0,variance, y_pred.shape) + bias \n",
    "mse = mean_squared_error(y_pred,Y_test)\n",
    "sb.glue(\"Prior Model MSE\",mse)\n",
    "mse = mean_squared_error(y_abc,Y_test)\n",
    "sb.glue(\"ABC Pre-generator MSE\",mse)\n",
    "mae = mean_absolute_error(y_pred,Y_test)\n",
    "sb.glue(\"Prior Model MSE\",mae)\n",
    "mae = mean_absolute_error(y_abc,Y_test)\n",
    "sb.glue(\"ABC Pre-generator MSE\",mae)"
   ]
  },
  {
   "cell_type": "markdown",
   "id": "25609da2",
   "metadata": {
    "papermill": {
     "duration": 0.009704,
     "end_time": "2022-06-12T04:18:23.512304",
     "exception": false,
     "start_time": "2022-06-12T04:18:23.502600",
     "status": "completed"
    },
    "tags": []
   },
   "source": [
    "# ABC GAN Model"
   ]
  },
  {
   "cell_type": "code",
   "execution_count": 11,
   "id": "dfc3464d",
   "metadata": {
    "execution": {
     "iopub.execute_input": "2022-06-12T04:18:23.534797Z",
     "iopub.status.busy": "2022-06-12T04:18:23.534395Z",
     "iopub.status.idle": "2022-06-12T04:18:23.536860Z",
     "shell.execute_reply": "2022-06-12T04:18:23.537103Z"
    },
    "papermill": {
     "duration": 0.015173,
     "end_time": "2022-06-12T04:18:23.537215",
     "exception": false,
     "start_time": "2022-06-12T04:18:23.522042",
     "status": "completed"
    },
    "tags": []
   },
   "outputs": [],
   "source": [
    "gen = network.Generator(n_features+1).to(device)\n",
    "disc = network.Discriminator(n_features+1).to(device)\n",
    "\n",
    "criterion = torch.nn.BCELoss()\n",
    "gen_opt = torch.optim.Adam(gen.parameters(), lr=0.001, betas=(0.5, 0.999))\n",
    "disc_opt = torch.optim.Adam(disc.parameters(), lr=0.001, betas=(0.5, 0.999))"
   ]
  },
  {
   "cell_type": "code",
   "execution_count": 12,
   "id": "b75fdd85",
   "metadata": {
    "execution": {
     "iopub.execute_input": "2022-06-12T04:18:23.559790Z",
     "iopub.status.busy": "2022-06-12T04:18:23.559416Z",
     "iopub.status.idle": "2022-06-12T04:19:23.957224Z",
     "shell.execute_reply": "2022-06-12T04:19:23.957527Z"
    },
    "papermill": {
     "duration": 60.4104,
     "end_time": "2022-06-12T04:19:23.957648",
     "exception": false,
     "start_time": "2022-06-12T04:18:23.547248",
     "status": "completed"
    },
    "tags": []
   },
   "outputs": [
    {
     "data": {
      "image/png": "[encoded data removed]",
      "text/plain": [
       "<Figure size 432x288 with 1 Axes>"
      ]
     },
     "metadata": {
      "needs_background": "light"
     },
     "output_type": "display_data"
    },
    {
     "data": {
      "image/png": "[encoded data removed]",
      "text/plain": [
       "<Figure size 432x288 with 1 Axes>"
      ]
     },
     "metadata": {
      "needs_background": "light"
     },
     "output_type": "display_data"
    }
   ],
   "source": [
    "#Training the ABC_GAN \n",
    "ABC_train_test2.training_GAN(disc,gen,disc_opt,gen_opt,train_data,batch_size,n_epochs,criterion,prior_model,variance,bias,device)"
   ]
  },
  {
   "cell_type": "code",
   "execution_count": 13,
   "id": "1fa7c368",
   "metadata": {
    "execution": {
     "iopub.execute_input": "2022-06-12T04:19:23.982188Z",
     "iopub.status.busy": "2022-06-12T04:19:23.981765Z",
     "iopub.status.idle": "2022-06-12T04:19:24.287620Z",
     "shell.execute_reply": "2022-06-12T04:19:24.287881Z"
    },
    "papermill": {
     "duration": 0.319457,
     "end_time": "2022-06-12T04:19:24.288013",
     "exception": false,
     "start_time": "2022-06-12T04:19:23.968556",
     "status": "completed"
    },
    "tags": []
   },
   "outputs": [
    {
     "data": {
      "application/scrapbook.scrap.json+json": {
       "data": 0.0801874238804021,
       "encoder": "json",
       "name": "ABC-GAN Model 1 MSE",
       "version": 1
      }
     },
     "metadata": {
      "scrapbook": {
       "data": true,
       "display": false,
       "name": "ABC-GAN Model 1 MSE"
      }
     },
     "output_type": "display_data"
    },
    {
     "data": {
      "application/scrapbook.scrap.json+json": {
       "data": 0.2199116045320589,
       "encoder": "json",
       "name": "ABC-GAN Model 1 MAE",
       "version": 1
      }
     },
     "metadata": {
      "scrapbook": {
       "data": true,
       "display": false,
       "name": "ABC-GAN Model 1 MAE"
      }
     },
     "output_type": "display_data"
    },
    {
     "data": {
      "application/scrapbook.scrap.json+json": {
       "data": 22.43098366227001,
       "encoder": "json",
       "name": "ABC-GAN Model 1 Manhattan Distance",
       "version": 1
      }
     },
     "metadata": {
      "scrapbook": {
       "data": true,
       "display": false,
       "name": "ABC-GAN Model 1 Manhattan Distance"
      }
     },
     "output_type": "display_data"
    },
    {
     "data": {
      "application/scrapbook.scrap.json+json": {
       "data": 2.8599011483032517,
       "encoder": "json",
       "name": "ABC-GAN Model 1 Euclidean distance",
       "version": 1
      }
     },
     "metadata": {
      "scrapbook": {
       "data": true,
       "display": false,
       "name": "ABC-GAN Model 1 Euclidean distance"
      }
     },
     "output_type": "display_data"
    },
    {
     "data": {
      "application/scrapbook.scrap.json+json": {
       "data": [
        [
         0.08042395076389962,
         0.08003687001282267,
         0.07875712884126948,
         0.08021161550768964,
         0.07958110163876897,
         0.08059932761862627,
         0.08072938047980968,
         0.08010209510241195,
         0.0800906000323094,
         0.0796614959544774,
         0.07956242120493968,
         0.08061551304884247,
         0.08024919041975957,
         0.07953070443394294,
         0.07959803429275697,
         0.08024057005065562,
         0.079950401958701,
         0.08069622388466847,
         0.07909341159219305,
         0.08102788307222127,
         0.08050962377116945,
         0.07965453055442001,
         0.08034635604482947,
         0.07950650511536585,
         0.0799043596875487,
         0.07931687059855821,
         0.07965131110793683,
         0.08041926477478606,
         0.08074375624454147,
         0.07986659823144707,
         0.080193832228861,
         0.08169257062877079,
         0.08030882919208696,
         0.08037412085264202,
         0.0797048392071626,
         0.0794840186882645,
         0.08000806612861001,
         0.07977113513313407,
         0.08088800970118767,
         0.08020688760097588,
         0.07968456993564428,
         0.07966788635959592,
         0.07992461649886501,
         0.08046578358784408,
         0.07957423442524669,
         0.08071558256154525,
         0.0802791239305682,
         0.08038386895014475,
         0.08070660795385584,
         0.08035277186943901,
         0.0805491426116055,
         0.07997551471135583,
         0.0808968785904149,
         0.08027271316945479,
         0.0804464299536736,
         0.08039098100701221,
         0.07972412848055413,
         0.08006391401028214,
         0.08066323856190402,
         0.08087859659143642,
         0.08021329140037631,
         0.07955122712594058,
         0.08103780662848548,
         0.07997406488408168,
         0.08054715751636461,
         0.08010274877300322,
         0.0798468623755037,
         0.07958472321017983,
         0.0799630791609587,
         0.07928164503993355,
         0.07994747545695338,
         0.08033810422909983,
         0.08043543896015876,
         0.08108565645446547,
         0.08007948648799679,
         0.0794017340632857,
         0.07950904738817488,
         0.08081010846327953,
         0.08070673679611691,
         0.08076095687722437,
         0.08055170097282317,
         0.08038939687860418,
         0.08012234454694511,
         0.0797090994518987,
         0.07992436483108918,
         0.08067766469680042,
         0.08059135772702929,
         0.08041504156348378,
         0.08025004316079654,
         0.07975461618942446,
         0.0808244047606153,
         0.08036786814402479,
         0.08121008056735082,
         0.07995650887181302,
         0.08067447748987244,
         0.08082954010816557,
         0.0798262535977253,
         0.07965917954783326,
         0.0805395971802791,
         0.0803655072985456
        ],
        [
         0.2194594680057729,
         0.21976724970063158,
         0.21815360310103962,
         0.22107441915089593,
         0.21978563532306283,
         0.2192671712232279,
         0.22008888995019243,
         0.22022032944083797,
         0.220048743227095,
         0.2198275977964787,
         0.21887191978520623,
         0.21933280966956825,
         0.22136131551701063,
         0.2193259996562904,
         0.2194548787768273,
         0.2205558001958564,
         0.2190770690749381,
         0.22098117097116568,
         0.21855694758614488,
         0.22150429982838094,
         0.22043338036347254,
         0.22040349005849338,
         0.2202777219571027,
         0.2189283278387259,
         0.22016182065229206,
         0.21835108997994193,
         0.2190232713177216,
         0.22118613297375395,
         0.22006292040368505,
         0.21983555165649044,
         0.2214684462466953,
         0.22273506635033033,
         0.22008936324467263,
         0.21969957242482432,
         0.2187265343416263,
         0.21862139543701037,
         0.2189697420370637,
         0.21958037537029562,
         0.2200775677703467,
         0.21936043649546655,
         0.21887797842203988,
         0.21878038582337253,
         0.2190510441603906,
         0.21962870637356652,
         0.21917043222735325,
         0.22045290033679968,
         0.21963964441024206,
         0.21959409451879122,
         0.2208166509026698,
         0.21928970630773725,
         0.21954587070892254,
         0.21894399158875733,
         0.221061929202109,
         0.2193269597585587,
         0.22075379192463906,
         0.2193001885076656,
         0.21936541888862848,
         0.21861279889137722,
         0.22041139651235997,
         0.22085245371814452,
         0.21974134198663867,
         0.21866004879349002,
         0.2220122598878601,
         0.21953236682377025,
         0.22004565970935658,
         0.21985166927105657,
         0.21942307323436527,
         0.21856009954696193,
         0.22016891042756684,
         0.21863093440804413,
         0.2201289498228945,
         0.22086767174814845,
         0.22041689350689744,
         0.22223141192294218,
         0.21970584701892792,
         0.21866294794588112,
         0.21926334878320203,
         0.22107439910006874,
         0.22136186057811275,
         0.22046991406629482,
         0.21976593854453633,
         0.22101813494501746,
         0.22043141341019495,
         0.21941751309250498,
         0.22042495960041003,
         0.22014998018230295,
         0.2198752144935961,
         0.21915041036246455,
         0.22025459743670972,
         0.2201589539683625,
         0.21969833369275518,
         0.2202634828749533,
         0.22145427538848975,
         0.21909597196488403,
         0.21944014397541098,
         0.22191667595111272,
         0.21887121658187872,
         0.22073716482184097,
         0.21956722688514227,
         0.22047536836608367
        ],
        [
         22.384865736588836,
         22.41625946946442,
         22.251667516306043,
         22.549590753391385,
         22.41813480295241,
         22.365251464769244,
         22.44906677491963,
         22.462473602965474,
         22.44497180916369,
         22.422414975240827,
         22.324935818091035,
         22.371946586295962,
         22.578854182735085,
         22.37125196494162,
         22.384397635236382,
         22.496691619977355,
         22.345861045643687,
         22.5400794390589,
         22.29280865378678,
         22.593438582494855,
         22.4842047970742,
         22.481155985966325,
         22.468327639624476,
         22.330689439550042,
         22.45650570653379,
         22.271811177954078,
         22.3403736744076,
         22.5609855633229,
         22.446417881175876,
         22.423226268962026,
         22.58978151716292,
         22.718976767733693,
         22.449115050956607,
         22.409356387332082,
         22.310106502845883,
         22.299382334575057,
         22.3349136877805,
         22.397198287770152,
         22.447911912575364,
         22.37476452253759,
         22.325553799048066,
         22.315599353984,
         22.34320650435984,
         22.402128050103784,
         22.355384087190032,
         22.486195834353566,
         22.40324372984469,
         22.398597640916705,
         22.52329839207232,
         22.3675500433892,
         22.3936788123101,
         22.332287142053246,
         22.548316778615117,
         22.371349895372987,
         22.516886776313186,
         22.368619227781892,
         22.375272726640105,
         22.298505486920476,
         22.481962444260716,
         22.52695027925074,
         22.413616882637143,
         22.303324976935983,
         22.64525050856173,
         22.392301416024566,
         22.44465729035437,
         22.42487026564777,
         22.381153469905257,
         22.293130153790116,
         22.457228863611817,
         22.3003553096205,
         22.45315288193524,
         22.528502518311143,
         22.482523137703538,
         22.667604016140103,
         22.409996395930648,
         22.303620690479875,
         22.364861575886607,
         22.54958870820701,
         22.5789097789675,
         22.487931234762073,
         22.416125731542706,
         22.54384976439178,
         22.484004167839885,
         22.38058633543551,
         22.483345879241824,
         22.4552979785949,
         22.4272718783468,
         22.353341856971383,
         22.465968938544393,
         22.456213304772973,
         22.40923003666103,
         22.466875253245234,
         22.588336089625955,
         22.347789140418172,
         22.38289468549192,
         22.635500947013497,
         22.32486409135163,
         22.51519081182778,
         22.395857142284513,
         22.488487573340535
        ],
        [
         2.8641304051871948,
         2.857229556984862,
         2.8342948226692095,
         2.860346968775701,
         2.8490827238173404,
         2.867251544092335,
         2.869563870859227,
         2.858393552407719,
         2.8581884478276725,
         2.8505214588486605,
         2.8487483151208437,
         2.867539420998765,
         2.861016851193903,
         2.848180445874555,
         2.8493858106373047,
         2.860863181832866,
         2.8556857319718327,
         2.8689745269409737,
         2.840339413239849,
         2.874864183464424,
         2.8656555314027687,
         2.8503968349250672,
         2.8627483851314293,
         2.8477470958228217,
         2.85486333965918,
         2.8443489239284507,
         2.8503392312160942,
         2.864046963132445,
         2.8698193561517473,
         2.854188679749045,
         2.860029875253722,
         2.8866316363773574,
         2.862079764365918,
         2.8632429737920395,
         2.85129682760855,
         2.8473443603124258,
         2.8567153769877427,
         2.8524823897054428,
         2.8723817624962638,
         2.8602626689343653,
         2.8509342562457864,
         2.8506357902543047,
         2.855225189522576,
         2.86487520251059,
         2.8489597946224445,
         2.869318633626739,
         2.8615503911198132,
         2.8634166013548854,
         2.8691591122301485,
         2.8628626810734006,
         2.866358760934116,
         2.8561341881218216,
         2.872539227969275,
         2.8614361330081066,
         2.864530651830192,
         2.8635432706203767,
         2.8516418262145966,
         2.8577122369211314,
         2.868388107163012,
         2.872214625045718,
         2.8603768497941635,
         2.848547904958935,
         2.8750402216500413,
         2.856108299448102,
         2.866323440693529,
         2.858405215298616,
         2.853836008305554,
         2.8491475510121167,
         2.8559121265224157,
         2.8437172493187894,
         2.855633466782676,
         2.8626013748631127,
         2.8643349618953775,
         2.87588889881989,
         2.8579901367526923,
         2.845870143638873,
         2.8477926247523424,
         2.8709982694621243,
         2.8691614024317142,
         2.870125014956123,
         2.86640428049289,
         2.863515056991603,
         2.8587548240078933,
         2.851373027875109,
         2.8552206942320755,
         2.868644592673279,
         2.8671097795789033,
         2.8639717595457093,
         2.861032051970276,
         2.852187029512843,
         2.871252215599103,
         2.8631315985631063,
         2.878094546374351,
         2.8557947939102566,
         2.8685879285751357,
         2.8713434296567324,
         2.8534676915935075,
         2.850480014642971,
         2.866188917777136,
         2.863089545307944
        ]
       ],
       "encoder": "json",
       "name": "ABC_GAN_1 Metrics",
       "version": 1
      }
     },
     "metadata": {
      "scrapbook": {
       "data": true,
       "display": false,
       "name": "ABC_GAN_1 Metrics"
      }
     },
     "output_type": "display_data"
    },
    {
     "name": "stdout",
     "output_type": "stream",
     "text": [
      "MSE\n",
      "0.0801874238804021\n"
     ]
    }
   ],
   "source": [
    "ABC_GAN1_metrics=ABC_train_test2.test_generator(gen,test_data,prior_model,variance,bias,\"1\",device)\n",
    "sb.glue(\"ABC_GAN_1 Metrics\",ABC_GAN1_metrics)\n",
    "\n",
    "print(\"MSE\")\n",
    "print(mean(ABC_GAN1_metrics[0]))"
   ]
  },
  {
   "cell_type": "code",
   "execution_count": 14,
   "id": "eb22ce5c",
   "metadata": {
    "execution": {
     "iopub.execute_input": "2022-06-12T04:19:24.315609Z",
     "iopub.status.busy": "2022-06-12T04:19:24.315237Z",
     "iopub.status.idle": "2022-06-12T04:19:24.629318Z",
     "shell.execute_reply": "2022-06-12T04:19:24.629577Z"
    },
    "papermill": {
     "duration": 0.328919,
     "end_time": "2022-06-12T04:19:24.629700",
     "exception": false,
     "start_time": "2022-06-12T04:19:24.300781",
     "status": "completed"
    },
    "tags": []
   },
   "outputs": [
    {
     "data": {
      "image/png": "[encoded data removed]",
      "text/plain": [
       "<Figure size 432x288 with 1 Axes>"
      ]
     },
     "metadata": {
      "needs_background": "light"
     },
     "output_type": "display_data"
    },
    {
     "data": {
      "image/png": "[encoded data removed]",
      "text/plain": [
       "<Figure size 432x288 with 1 Axes>"
      ]
     },
     "metadata": {
      "needs_background": "light"
     },
     "output_type": "display_data"
    },
    {
     "data": {
      "image/png": "[encoded data removed]",
      "text/plain": [
       "<Figure size 432x288 with 1 Axes>"
      ]
     },
     "metadata": {
      "needs_background": "light"
     },
     "output_type": "display_data"
    },
    {
     "data": {
      "image/png": "[encoded data removed]",
      "text/plain": [
       "<Figure size 432x288 with 1 Axes>"
      ]
     },
     "metadata": {
      "needs_background": "light"
     },
     "output_type": "display_data"
    }
   ],
   "source": [
    "sanityChecks.discProbVsError(train_data,disc,device)\n",
    "sanityChecks.discProbVsError(test_data,disc,device)"
   ]
  },
  {
   "cell_type": "markdown",
   "id": "130f3a4d",
   "metadata": {
    "id": "130f3a4d",
    "papermill": {
     "duration": 0.014554,
     "end_time": "2022-06-12T04:19:24.659220",
     "exception": false,
     "start_time": "2022-06-12T04:19:24.644666",
     "status": "completed"
    },
    "tags": []
   },
   "source": [
    "# ABC - GAN Model with skip connection"
   ]
  },
  {
   "cell_type": "code",
   "execution_count": 15,
   "id": "4e43dad1",
   "metadata": {
    "execution": {
     "iopub.execute_input": "2022-06-12T04:19:24.692189Z",
     "iopub.status.busy": "2022-06-12T04:19:24.691798Z",
     "iopub.status.idle": "2022-06-12T04:19:24.693877Z",
     "shell.execute_reply": "2022-06-12T04:19:24.694132Z"
    },
    "id": "4e43dad1",
    "papermill": {
     "duration": 0.020405,
     "end_time": "2022-06-12T04:19:24.694245",
     "exception": false,
     "start_time": "2022-06-12T04:19:24.673840",
     "status": "completed"
    },
    "tags": []
   },
   "outputs": [],
   "source": [
    "#Generator\n",
    "gen3 = network.GeneratorWithSkipConnection(n_features+1).to(device)\n",
    "constraints=network.weightConstraint()\n",
    "#Discriminator \n",
    "disc3 = network.Discriminator(n_features+1).to(device)\n",
    "\n",
    "criterion = torch.nn.BCELoss()\n",
    "gen_opt = torch.optim.Adam(gen3.parameters(), lr=0.001, betas=(0.5, 0.999))\n",
    "disc_opt = torch.optim.Adam(disc3.parameters(), lr=0.001, betas=(0.5, 0.999))\n"
   ]
  },
  {
   "cell_type": "code",
   "execution_count": 16,
   "id": "26acbc37",
   "metadata": {
    "execution": {
     "iopub.execute_input": "2022-06-12T04:19:24.725822Z",
     "iopub.status.busy": "2022-06-12T04:19:24.725447Z",
     "iopub.status.idle": "2022-06-12T04:22:20.830034Z",
     "shell.execute_reply": "2022-06-12T04:22:20.830350Z"
    },
    "id": "26acbc37",
    "papermill": {
     "duration": 176.121492,
     "end_time": "2022-06-12T04:22:20.830473",
     "exception": false,
     "start_time": "2022-06-12T04:19:24.708981",
     "status": "completed"
    },
    "tags": []
   },
   "outputs": [
    {
     "data": {
      "image/png": "[encoded data removed]",
      "text/plain": [
       "<Figure size 432x288 with 1 Axes>"
      ]
     },
     "metadata": {
      "needs_background": "light"
     },
     "output_type": "display_data"
    },
    {
     "data": {
      "image/png": "[encoded data removed]",
      "text/plain": [
       "<Figure size 432x288 with 1 Axes>"
      ]
     },
     "metadata": {
      "needs_background": "light"
     },
     "output_type": "display_data"
    }
   ],
   "source": [
    "ABC_train_test2.training_GAN_skip_connection(disc3,gen3,disc_opt,gen_opt,train_data,batch_size,n_epochs,criterion,prior_model,variance,bias,device)"
   ]
  },
  {
   "cell_type": "code",
   "execution_count": 17,
   "id": "c5e0717b",
   "metadata": {
    "execution": {
     "iopub.execute_input": "2022-06-12T04:22:20.864943Z",
     "iopub.status.busy": "2022-06-12T04:22:20.864558Z",
     "iopub.status.idle": "2022-06-12T04:22:21.682401Z",
     "shell.execute_reply": "2022-06-12T04:22:21.682734Z"
    },
    "id": "c5e0717b",
    "papermill": {
     "duration": 0.836438,
     "end_time": "2022-06-12T04:22:21.682857",
     "exception": false,
     "start_time": "2022-06-12T04:22:20.846419",
     "status": "completed"
    },
    "tags": []
   },
   "outputs": [
    {
     "data": {
      "application/scrapbook.scrap.json+json": {
       "data": 0.0869559969885714,
       "encoder": "json",
       "name": "ABC-GAN Model 3 MSE",
       "version": 1
      }
     },
     "metadata": {
      "scrapbook": {
       "data": true,
       "display": false,
       "name": "ABC-GAN Model 3 MSE"
      }
     },
     "output_type": "display_data"
    },
    {
     "data": {
      "application/scrapbook.scrap.json+json": {
       "data": 0.22804948251653354,
       "encoder": "json",
       "name": "ABC-GAN Model 3 MAE",
       "version": 1
      }
     },
     "metadata": {
      "scrapbook": {
       "data": true,
       "display": false,
       "name": "ABC-GAN Model 3 MAE"
      }
     },
     "output_type": "display_data"
    },
    {
     "data": {
      "application/scrapbook.scrap.json+json": {
       "data": 23.26104721668642,
       "encoder": "json",
       "name": "ABC-GAN Model 3 Manhattan Distance",
       "version": 1
      }
     },
     "metadata": {
      "scrapbook": {
       "data": true,
       "display": false,
       "name": "ABC-GAN Model 3 Manhattan Distance"
      }
     },
     "output_type": "display_data"
    },
    {
     "data": {
      "application/scrapbook.scrap.json+json": {
       "data": 2.9769050033879605,
       "encoder": "json",
       "name": "ABC-GAN Model 3 Euclidean distance",
       "version": 1
      }
     },
     "metadata": {
      "scrapbook": {
       "data": true,
       "display": false,
       "name": "ABC-GAN Model 3 Euclidean distance"
      }
     },
     "output_type": "display_data"
    },
    {
     "data": {
      "application/scrapbook.scrap.json+json": {
       "data": [
        [
         0.0865132018153463,
         0.08420183633597955,
         0.08709447611979157,
         0.08680079163385979,
         0.08196455310077769,
         0.08703275177728706,
         0.08861222811582987,
         0.08379333439100538,
         0.0948056193875197,
         0.08995488276398206,
         0.07769850057191457,
         0.08136288180707518,
         0.08726251014351029,
         0.08605974892057063,
         0.08931816868941261,
         0.093821705748344,
         0.09200521823896643,
         0.07592552321127143,
         0.08781792307496576,
         0.087689186387256,
         0.08252439077272858,
         0.09213738348721343,
         0.09482148444581225,
         0.08988947602548697,
         0.0954789714663683,
         0.09473491908201308,
         0.07845976093938067,
         0.09012952184102202,
         0.09729699689316074,
         0.08806369928965758,
         0.0855132890389676,
         0.08665787296209142,
         0.08076223747027866,
         0.09149240367823089,
         0.08614436191501879,
         0.08415576315972821,
         0.08907516165268409,
         0.08896117829479089,
         0.08760208591460586,
         0.1032280233532839,
         0.08003203098650556,
         0.08192382536327476,
         0.08868776283469161,
         0.0892018590309691,
         0.08595742311260933,
         0.08319807034145188,
         0.08666441384532449,
         0.08739563046600703,
         0.08745218032981755,
         0.09331678622958857,
         0.08659286698226665,
         0.08553656015121529,
         0.08316341341409379,
         0.08551278451465646,
         0.08557199645684632,
         0.09938030609644706,
         0.09217546323059314,
         0.08410550738739628,
         0.0793374161828888,
         0.08538430713245679,
         0.09063558719764161,
         0.08867851491212703,
         0.08320602125524604,
         0.0877299866107943,
         0.08032439090204486,
         0.08763686179883719,
         0.08822995147498636,
         0.07772744403647777,
         0.09098106084916828,
         0.08571403599489717,
         0.09216838774199965,
         0.08006962549858049,
         0.08458888498736158,
         0.08714775292144936,
         0.08845118134476475,
         0.08698583854353359,
         0.09003533939176217,
         0.0908119157213298,
         0.0888793284193239,
         0.07774744367484862,
         0.0827694018023465,
         0.0788686295754676,
         0.08389643623419153,
         0.07827806285721693,
         0.09168545506012644,
         0.08090956754294547,
         0.08277468461861018,
         0.08905768262091965,
         0.0949143967415459,
         0.09438629846127664,
         0.08805835855749856,
         0.08436097959459897,
         0.09472456387819758,
         0.07897106971551433,
         0.09161214068968151,
         0.08599348724940438,
         0.0826883955937267,
         0.09021180966147195,
         0.08446380854094644,
         0.08177028857798718
        ],
        [
         0.22604252739499012,
         0.22492492646344153,
         0.2263459254823187,
         0.23151281572805316,
         0.2250902388865749,
         0.2221736100630141,
         0.2318333789304483,
         0.22497398864623963,
         0.2305635451795716,
         0.22853557685134457,
         0.2117604599608218,
         0.22256035980421537,
         0.23111250567450828,
         0.22873349962573425,
         0.23358690879289426,
         0.23913805276228517,
         0.23494309075541941,
         0.21287085234607553,
         0.22971714227734244,
         0.232447813940691,
         0.221732443143778,
         0.22945827853811138,
         0.22939746127482138,
         0.23638604144912725,
         0.242460866458714,
         0.23449548761195996,
         0.2181741359150585,
         0.2316719433657971,
         0.2316004805307945,
         0.22442201618105173,
         0.22332071744855128,
         0.22783562732750878,
         0.22123826819234618,
         0.22829351758620903,
         0.229896658921943,
         0.22609314064988317,
         0.23139416713121475,
         0.23111517188668834,
         0.23070429680028967,
         0.23879860719556317,
         0.22459856070139828,
         0.226262092024234,
         0.2226517911379536,
         0.22501301223083453,
         0.23067622074820832,
         0.22530697156474286,
         0.22592816624206072,
         0.2283295289083731,
         0.22763626589713729,
         0.23044949479620247,
         0.22505545135879634,
         0.22424097079783678,
         0.22161410714262256,
         0.23359264395035365,
         0.2260718765832922,
         0.24542719849348799,
         0.23879462069667437,
         0.23127318843833955,
         0.21955376118421555,
         0.23020515884911896,
         0.22485559190824336,
         0.2351463833166396,
         0.22198599135028382,
         0.23337599227898845,
         0.21690156330884086,
         0.22770676982826463,
         0.2250849905003812,
         0.21588341592053206,
         0.23796911393383555,
         0.22093654776393784,
         0.23321377947999566,
         0.21869344569231366,
         0.229089304165659,
         0.22644274745720858,
         0.23479374616826867,
         0.22999549673541503,
         0.22789370361715555,
         0.2336355044743886,
         0.23351026835906155,
         0.22259698965239758,
         0.22503795189892545,
         0.21915323267161263,
         0.2312743744685077,
         0.22174921772424497,
         0.23248441767531866,
         0.2202815774864718,
         0.22787065422345026,
         0.23050967291654909,
         0.23231164860886103,
         0.2376355639311905,
         0.22812685076439498,
         0.21532778973307679,
         0.23827503984976633,
         0.22035878737840583,
         0.23544670153847513,
         0.22737926830921104,
         0.23022584452786865,
         0.23276034733463152,
         0.22841224795682172,
         0.22057808782247937
        ],
        [
         23.056337794288993,
         22.942342499271035,
         23.087284399196506,
         23.614307204261422,
         22.95920436643064,
         22.661708226427436,
         23.64700465090573,
         22.947346841916442,
         23.517481608316302,
         23.310628838837147,
         21.599566916003823,
         22.70115670002997,
         23.573475578799844,
         23.330816961824894,
         23.825864696875215,
         24.392081381753087,
         23.96419525705278,
         21.712826939299703,
         23.431148512288928,
         23.709677021950483,
         22.616709200665355,
         23.40474441088736,
         23.39854105003178,
         24.11137622781098,
         24.73100837878883,
         23.918539736419916,
         22.253761863335967,
         23.630538223311305,
         23.623249014141038,
         22.891045650467277,
         22.77871317975223,
         23.239233987405896,
         22.56630335561931,
         23.28593879379332,
         23.449459210038185,
         23.061500346288085,
         23.602205047383904,
         23.573747532442212,
         23.531838273629546,
         24.357457933947444,
         22.909053191542625,
         23.078733386471868,
         22.710482696071267,
         22.951327247545123,
         23.52897451631725,
         22.981311099603772,
         23.044672956690192,
         23.289611948654056,
         23.218899121508002,
         23.50584846921265,
         22.955656038597226,
         22.87257902137935,
         22.6046389285475,
         23.826449682936072,
         23.059331411495805,
         25.033574246335775,
         24.357051311060786,
         23.589865220710635,
         22.394483640789986,
         23.480926202610135,
         22.935270374640822,
         23.98493109829724,
         22.64257111772895,
         23.804351212456822,
         22.12395945750177,
         23.22609052248299,
         22.95866903103888,
         22.02010842389427,
         24.272849621251225,
         22.53552787192166,
         23.787805506959558,
         22.306731460615993,
         23.367109024897218,
         23.097160240635276,
         23.948962109163404,
         23.459540667012334,
         23.245157768949866,
         23.83082145638764,
         23.818047372624278,
         22.704892944544554,
         22.953871093690395,
         22.353629732504487,
         23.589986195787787,
         22.618420207872987,
         23.713410602882504,
         22.468720903620124,
         23.242806730791926,
         23.511986637488008,
         23.695788158103824,
         24.23882752098143,
         23.268938777968287,
         21.963434552773833,
         24.304054064676166,
         22.476596312597394,
         24.015563556924462,
         23.192685367539525,
         23.483036141842604,
         23.741555428132415,
         23.298049291595817,
         22.498964957892895
        ],
        [
         2.9705801765253397,
         2.9306291656007786,
         2.9805429982167237,
         2.9755135265452415,
         2.891432934771153,
         2.979486647273869,
         3.006401049064254,
         2.9235116055665915,
         3.1096902060377345,
         3.0290919500613,
         2.815181532039326,
         2.8808009206333,
         2.9834168389010025,
         2.962784904426611,
         3.0183527305999354,
         3.0935115946656944,
         3.0634183946001525,
         2.782876815015297,
         2.9928962818057205,
         2.990701759035847,
         2.9012907229056366,
         3.0656179011246283,
         3.1099503876224213,
         3.027990514284956,
         3.1207138749923176,
         3.10853048020529,
         2.82893895583076,
         3.032030875137034,
         3.15028469873794,
         2.997081468286285,
         2.953363418540748,
         2.9730629058486673,
         2.8701477700579154,
         3.0548690929693776,
         2.964241035295867,
         2.9298272717503804,
         3.014243933156999,
         3.0123147554776986,
         2.989216078387408,
         3.2448818748969828,
         2.857143181680535,
         2.890714476916395,
         3.0076821323302347,
         3.01638684872462,
         2.961022991718597,
         2.9131088504942775,
         2.9731751062160967,
         2.9856915961854993,
         2.986657394754442,
         3.0851762016808753,
         2.97194758234246,
         2.9537652471758755,
         2.912502046048649,
         2.9533547061765133,
         2.9543770305427035,
         3.183832787983313,
         3.066251335021397,
         2.92895233035883,
         2.844717288353037,
         2.9511352607955117,
         3.0405311861843227,
         3.0075253151115713,
         2.9132480443716244,
         2.9913974383724105,
         2.8623570483097627,
         2.989809342329606,
         2.9999091736998653,
         2.8157058247836777,
         3.046320437284161,
         2.956827974617311,
         3.0661336483728108,
         2.857814164856632,
         2.937357020981767,
         2.9814544769269635,
         3.003667840685118,
         2.9786835232096114,
         3.03044627372929,
         3.0434873752942755,
         3.0109286771312,
         2.816068048686778,
         2.9055944286564395,
         2.8363004454214114,
         2.925309641027345,
         2.825661411322334,
         3.0580903217748325,
         2.872764502944931,
         2.905687152998106,
         3.013948179271469,
         3.111473681013176,
         3.1028055760956432,
         2.996990586048754,
         2.9333973339200226,
         3.1083605832618826,
         2.8381418412374075,
         3.0568674080416884,
         2.9616440872325027,
         2.9041722315592997,
         3.0334146741700416,
         2.935184571909667,
         2.888004403555281
        ]
       ],
       "encoder": "json",
       "name": "ABC_GAN_3 Metrics",
       "version": 1
      }
     },
     "metadata": {
      "scrapbook": {
       "data": true,
       "display": false,
       "name": "ABC_GAN_3 Metrics"
      }
     },
     "output_type": "display_data"
    },
    {
     "name": "stdout",
     "output_type": "stream",
     "text": [
      "MSE\n",
      "0.0869559969885714\n"
     ]
    }
   ],
   "source": [
    "ABC_GAN3_metrics=ABC_train_test2.test_generator(gen3,test_data,prior_model,variance,bias,\"3\",device)\n",
    "sb.glue(\"ABC_GAN_3 Metrics\",ABC_GAN3_metrics)\n",
    "\n",
    "print(\"MSE\")\n",
    "print(mean(ABC_GAN3_metrics[0]))"
   ]
  },
  {
   "cell_type": "code",
   "execution_count": 18,
   "id": "c8e46b48",
   "metadata": {
    "execution": {
     "iopub.execute_input": "2022-06-12T04:22:21.719863Z",
     "iopub.status.busy": "2022-06-12T04:22:21.719489Z",
     "iopub.status.idle": "2022-06-12T04:22:22.034223Z",
     "shell.execute_reply": "2022-06-12T04:22:22.034531Z"
    },
    "id": "c8e46b48",
    "papermill": {
     "duration": 0.334335,
     "end_time": "2022-06-12T04:22:22.034653",
     "exception": false,
     "start_time": "2022-06-12T04:22:21.700318",
     "status": "completed"
    },
    "tags": []
   },
   "outputs": [
    {
     "data": {
      "image/png": "[encoded data removed]",
      "text/plain": [
       "<Figure size 432x288 with 1 Axes>"
      ]
     },
     "metadata": {
      "needs_background": "light"
     },
     "output_type": "display_data"
    },
    {
     "data": {
      "image/png": "[encoded data removed]",
      "text/plain": [
       "<Figure size 432x288 with 1 Axes>"
      ]
     },
     "metadata": {
      "needs_background": "light"
     },
     "output_type": "display_data"
    },
    {
     "data": {
      "image/png": "[encoded data removed]",
      "text/plain": [
       "<Figure size 432x288 with 1 Axes>"
      ]
     },
     "metadata": {
      "needs_background": "light"
     },
     "output_type": "display_data"
    },
    {
     "data": {
      "image/png": "[encoded data removed]",
      "text/plain": [
       "<Figure size 432x288 with 1 Axes>"
      ]
     },
     "metadata": {
      "needs_background": "light"
     },
     "output_type": "display_data"
    }
   ],
   "source": [
    "sanityChecks.discProbVsError(train_data,disc3,device)\n",
    "sanityChecks.discProbVsError(test_data,disc3,device)"
   ]
  },
  {
   "cell_type": "markdown",
   "id": "a5bd74c3",
   "metadata": {
    "id": "a5bd74c3",
    "papermill": {
     "duration": 0.019578,
     "end_time": "2022-06-12T04:22:22.074102",
     "exception": false,
     "start_time": "2022-06-12T04:22:22.054524",
     "status": "completed"
    },
    "tags": []
   },
   "source": [
    "## Skip Connection Model Analysis - ABC-GAN "
   ]
  },
  {
   "cell_type": "markdown",
   "id": "5744a8bf",
   "metadata": {
    "id": "5744a8bf",
    "papermill": {
     "duration": 0.019196,
     "end_time": "2022-06-12T04:22:22.112578",
     "exception": false,
     "start_time": "2022-06-12T04:22:22.093382",
     "status": "completed"
    },
    "tags": []
   },
   "source": [
    "### Weight Analysis \n",
    "\n",
    "Study the weights of the skip connection layer\n",
    "\n",
    "Equation of the skip connection is \n",
    "\n",
    "$output = y_{gan} * w + y_{abc} * (1-w)$"
   ]
  },
  {
   "cell_type": "code",
   "execution_count": 19,
   "id": "52c31dea",
   "metadata": {
    "execution": {
     "iopub.execute_input": "2022-06-12T04:22:22.153654Z",
     "iopub.status.busy": "2022-06-12T04:22:22.153257Z",
     "iopub.status.idle": "2022-06-12T04:22:22.156562Z",
     "shell.execute_reply": "2022-06-12T04:22:22.156852Z"
    },
    "id": "52c31dea",
    "papermill": {
     "duration": 0.025257,
     "end_time": "2022-06-12T04:22:22.156962",
     "exception": false,
     "start_time": "2022-06-12T04:22:22.131705",
     "status": "completed"
    },
    "tags": []
   },
   "outputs": [
    {
     "name": "stdout",
     "output_type": "stream",
     "text": [
      "Weight of the node at skip connection\n",
      "Parameter containing:\n",
      "tensor([[0.5139]], requires_grad=True)\n"
     ]
    },
    {
     "data": {
      "application/scrapbook.scrap.json+json": {
       "data": 0.513920783996582,
       "encoder": "json",
       "name": "Skip Connection Weight",
       "version": 1
      }
     },
     "metadata": {
      "scrapbook": {
       "data": true,
       "display": false,
       "name": "Skip Connection Weight"
      }
     },
     "output_type": "display_data"
    }
   ],
   "source": [
    "print(\"Weight of the node at skip connection\")\n",
    "for name,param in gen3.named_parameters():\n",
    "    if(name == \"skipNode.weight\"):\n",
    "        print(param)\n",
    "        sb.glue(\"Skip Connection Weight\",param.item())"
   ]
  }
 ],
 "metadata": {
  "colab": {
   "collapsed_sections": [],
   "name": "ABC_GAN_Model-Catboost_Pre-gen.ipynb",
   "provenance": []
  },
  "interpreter": {
   "hash": "31f2aee4e71d21fbe5cf8b01ff0e069b9275f58929596ceb00d14d90e3e16cd6"
  },
  "kernelspec": {
   "display_name": "Python 3 (ipykernel)",
   "language": "python",
   "name": "python3"
  },
  "language_info": {
   "codemirror_mode": {
    "name": "ipython",
    "version": 3
   },
   "file_extension": ".py",
   "mimetype": "text/x-python",
   "name": "python",
   "nbconvert_exporter": "python",
   "pygments_lexer": "ipython3",
   "version": "3.8.11"
  },
  "papermill": {
   "default_parameters": {},
   "duration": 242.971251,
   "end_time": "2022-06-12T04:22:22.484271",
   "environment_variables": {},
   "exception": null,
   "input_path": "ABC_GAN-Catboost.ipynb",
   "output_path": "./ABC_GAN_Catboost/ABC-GAN_output_4_3.ipynb",
   "parameters": {
    "bias": 0.1,
    "variance": 1
   },
   "start_time": "2022-06-12T04:18:19.513020",
   "version": "2.3.3"
  }
 },
 "nbformat": 4,
 "nbformat_minor": 5
}