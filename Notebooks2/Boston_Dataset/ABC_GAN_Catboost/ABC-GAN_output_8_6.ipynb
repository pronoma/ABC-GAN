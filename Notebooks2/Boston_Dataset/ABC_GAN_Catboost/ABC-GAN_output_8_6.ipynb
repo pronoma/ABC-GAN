{
 "cells": [
  {
   "cell_type": "markdown",
   "id": "622780e6",
   "metadata": {
    "id": "622780e6",
    "papermill": {
     "duration": 0.031693,
     "end_time": "2022-06-12T07:06:49.486591",
     "exception": false,
     "start_time": "2022-06-12T07:06:49.454898",
     "status": "completed"
    },
    "tags": []
   },
   "source": [
    "## Import Libraries "
   ]
  },
  {
   "cell_type": "code",
   "execution_count": 1,
   "id": "a62397e3",
   "metadata": {
    "execution": {
     "iopub.execute_input": "2022-06-12T07:06:49.524319Z",
     "iopub.status.busy": "2022-06-12T07:06:49.523804Z",
     "iopub.status.idle": "2022-06-12T07:06:49.525948Z",
     "shell.execute_reply": "2022-06-12T07:06:49.526284Z"
    },
    "id": "a62397e3",
    "papermill": {
     "duration": 0.022751,
     "end_time": "2022-06-12T07:06:49.526513",
     "exception": false,
     "start_time": "2022-06-12T07:06:49.503762",
     "status": "completed"
    },
    "tags": []
   },
   "outputs": [],
   "source": [
    "import warnings\n",
    "import sys\n",
    "sys.path.insert(0, '../../src')\n",
    "warnings.filterwarnings('ignore')"
   ]
  },
  {
   "cell_type": "code",
   "execution_count": 2,
   "id": "d6a4e155",
   "metadata": {
    "execution": {
     "iopub.execute_input": "2022-06-12T07:06:49.547312Z",
     "iopub.status.busy": "2022-06-12T07:06:49.546849Z",
     "iopub.status.idle": "2022-06-12T07:06:51.412890Z",
     "shell.execute_reply": "2022-06-12T07:06:51.413150Z"
    },
    "id": "d6a4e155",
    "papermill": {
     "duration": 1.87717,
     "end_time": "2022-06-12T07:06:51.413271",
     "exception": false,
     "start_time": "2022-06-12T07:06:49.536101",
     "status": "completed"
    },
    "tags": []
   },
   "outputs": [],
   "source": [
    "import ABC_train_test2\n",
    "import bostonDataset\n",
    "import network\n",
    "import dataset\n",
    "import sanityChecks\n",
    "import torch \n",
    "import scrapbook as sb\n",
    "from statistics import mean \n",
    "import catboost as ctb \n",
    "from sklearn.model_selection import train_test_split\n",
    "from sklearn.metrics import mean_squared_error,mean_absolute_error\n",
    "import numpy as np"
   ]
  },
  {
   "cell_type": "markdown",
   "id": "2fa5b0f7",
   "metadata": {
    "id": "2fa5b0f7",
    "papermill": {
     "duration": 0.006769,
     "end_time": "2022-06-12T07:06:51.427352",
     "exception": false,
     "start_time": "2022-06-12T07:06:51.420583",
     "status": "completed"
    },
    "tags": []
   },
   "source": [
    "## Parameters "
   ]
  },
  {
   "cell_type": "code",
   "execution_count": 3,
   "id": "783186fb",
   "metadata": {
    "execution": {
     "iopub.execute_input": "2022-06-12T07:06:51.443099Z",
     "iopub.status.busy": "2022-06-12T07:06:51.442725Z",
     "iopub.status.idle": "2022-06-12T07:06:51.444011Z",
     "shell.execute_reply": "2022-06-12T07:06:51.444263Z"
    },
    "id": "783186fb",
    "papermill": {
     "duration": 0.010257,
     "end_time": "2022-06-12T07:06:51.444374",
     "exception": false,
     "start_time": "2022-06-12T07:06:51.434117",
     "status": "completed"
    },
    "tags": [
     "parameters"
    ]
   },
   "outputs": [],
   "source": [
    "variance = 1\n",
    "bias = 1 "
   ]
  },
  {
   "cell_type": "code",
   "execution_count": 4,
   "id": "05ba9bfa",
   "metadata": {
    "execution": {
     "iopub.execute_input": "2022-06-12T07:06:51.459952Z",
     "iopub.status.busy": "2022-06-12T07:06:51.459594Z",
     "iopub.status.idle": "2022-06-12T07:06:51.460885Z",
     "shell.execute_reply": "2022-06-12T07:06:51.461118Z"
    },
    "papermill": {
     "duration": 0.009969,
     "end_time": "2022-06-12T07:06:51.461228",
     "exception": false,
     "start_time": "2022-06-12T07:06:51.451259",
     "status": "completed"
    },
    "tags": [
     "injected-parameters"
    ]
   },
   "outputs": [],
   "source": [
    "# Parameters\n",
    "variance = 1\n",
    "bias = 0.01\n"
   ]
  },
  {
   "cell_type": "markdown",
   "id": "391cdbfd",
   "metadata": {
    "id": "391cdbfd",
    "papermill": {
     "duration": 0.006743,
     "end_time": "2022-06-12T07:06:51.474834",
     "exception": false,
     "start_time": "2022-06-12T07:06:51.468091",
     "status": "completed"
    },
    "tags": []
   },
   "source": [
    "## Dataset \n"
   ]
  },
  {
   "cell_type": "code",
   "execution_count": 5,
   "id": "5b51f161",
   "metadata": {
    "execution": {
     "iopub.execute_input": "2022-06-12T07:06:51.490747Z",
     "iopub.status.busy": "2022-06-12T07:06:51.490370Z",
     "iopub.status.idle": "2022-06-12T07:06:51.491634Z",
     "shell.execute_reply": "2022-06-12T07:06:51.491879Z"
    },
    "id": "5b51f161",
    "papermill": {
     "duration": 0.010395,
     "end_time": "2022-06-12T07:06:51.492002",
     "exception": false,
     "start_time": "2022-06-12T07:06:51.481607",
     "status": "completed"
    },
    "tags": []
   },
   "outputs": [],
   "source": [
    "#Parameters \n",
    "n_features = 13\n",
    "n_samples= 506\n",
    "n_target = 1 "
   ]
  },
  {
   "cell_type": "code",
   "execution_count": 6,
   "id": "5d6eced4",
   "metadata": {
    "execution": {
     "iopub.execute_input": "2022-06-12T07:06:51.510473Z",
     "iopub.status.busy": "2022-06-12T07:06:51.509967Z",
     "iopub.status.idle": "2022-06-12T07:06:51.521489Z",
     "shell.execute_reply": "2022-06-12T07:06:51.521748Z"
    },
    "id": "5d6eced4",
    "papermill": {
     "duration": 0.02227,
     "end_time": "2022-06-12T07:06:51.521868",
     "exception": false,
     "start_time": "2022-06-12T07:06:51.499598",
     "status": "completed"
    },
    "tags": []
   },
   "outputs": [
    {
     "name": "stdout",
     "output_type": "stream",
     "text": [
      "         X1        X2        X3        X4        X5        X6        X7  \\\n",
      "0 -0.419782  0.284830 -1.287909 -0.272599 -0.144217  0.413672 -0.120013   \n",
      "1 -0.417339 -0.487722 -0.593381 -0.272599 -0.740262  0.194274  0.367166   \n",
      "2 -0.417342 -0.487722 -0.593381 -0.272599 -0.740262  1.282714 -0.265812   \n",
      "3 -0.416750 -0.487722 -1.306878 -0.272599 -0.835284  1.016303 -0.809889   \n",
      "4 -0.412482 -0.487722 -1.306878 -0.272599 -0.835284  1.228577 -0.511180   \n",
      "\n",
      "         X8        X9       X10       X11       X12       X13         Y  \n",
      "0  0.140214 -0.982843 -0.666608 -1.459000  0.441052 -1.075562  0.159686  \n",
      "1  0.557160 -0.867883 -0.987329 -0.303094  0.441052 -0.492439 -0.101524  \n",
      "2  0.557160 -0.867883 -0.987329 -0.303094  0.396427 -1.208727  1.324247  \n",
      "3  1.077737 -0.752922 -1.106115  0.113032  0.416163 -1.361517  1.182758  \n",
      "4  1.077737 -0.752922 -1.106115  0.113032  0.441052 -1.026501  1.487503  \n"
     ]
    }
   ],
   "source": [
    "X,Y = bostonDataset.boston_data()"
   ]
  },
  {
   "cell_type": "code",
   "execution_count": 7,
   "id": "fe007438",
   "metadata": {
    "execution": {
     "iopub.execute_input": "2022-06-12T07:06:51.540240Z",
     "iopub.status.busy": "2022-06-12T07:06:51.539803Z",
     "iopub.status.idle": "2022-06-12T07:06:51.541300Z",
     "shell.execute_reply": "2022-06-12T07:06:51.541636Z"
    },
    "id": "fe007438",
    "papermill": {
     "duration": 0.011826,
     "end_time": "2022-06-12T07:06:51.541750",
     "exception": false,
     "start_time": "2022-06-12T07:06:51.529924",
     "status": "completed"
    },
    "tags": []
   },
   "outputs": [],
   "source": [
    "#Train test split for dataset \n",
    "X_train,X_test,Y_train,Y_test = train_test_split(X,Y,test_size = 0.2)\n",
    "train_data = dataset.CustomDataset(X_train,Y_train)\n",
    "test_data = dataset.CustomDataset(X_test,Y_test)\n"
   ]
  },
  {
   "cell_type": "markdown",
   "id": "a9a1af34",
   "metadata": {
    "id": "a9a1af34",
    "papermill": {
     "duration": 0.00721,
     "end_time": "2022-06-12T07:06:51.556693",
     "exception": false,
     "start_time": "2022-06-12T07:06:51.549483",
     "status": "completed"
    },
    "tags": []
   },
   "source": [
    "## Training Parameters "
   ]
  },
  {
   "cell_type": "code",
   "execution_count": 8,
   "id": "952b7fc8",
   "metadata": {
    "execution": {
     "iopub.execute_input": "2022-06-12T07:06:51.574323Z",
     "iopub.status.busy": "2022-06-12T07:06:51.573944Z",
     "iopub.status.idle": "2022-06-12T07:06:51.575300Z",
     "shell.execute_reply": "2022-06-12T07:06:51.575615Z"
    },
    "id": "952b7fc8",
    "papermill": {
     "duration": 0.011345,
     "end_time": "2022-06-12T07:06:51.575756",
     "exception": false,
     "start_time": "2022-06-12T07:06:51.564411",
     "status": "completed"
    },
    "tags": []
   },
   "outputs": [],
   "source": [
    "batch_size = 32\n",
    "n_epochs = 1000\n",
    "#Select the device \n",
    "device = torch.device('cuda' if torch.cuda.is_available() else 'cpu')"
   ]
  },
  {
   "cell_type": "markdown",
   "id": "a95e1600",
   "metadata": {
    "id": "a95e1600",
    "papermill": {
     "duration": 0.007102,
     "end_time": "2022-06-12T07:06:51.590424",
     "exception": false,
     "start_time": "2022-06-12T07:06:51.583322",
     "status": "completed"
    },
    "tags": []
   },
   "source": [
    "# ABC Pre-generator Model \n",
    "\n",
    "1. The catboost model is used as a pre-generator model for the ABC-GAN. \n",
    "2. The model is first trained on the entire dataset \n",
    "3. It generats X,Y pairs and we add some Gaussian noise with mean 0 and variance 1 to it which is then feed as input to the generator.\n"
   ]
  },
  {
   "cell_type": "code",
   "execution_count": 9,
   "id": "ff8ce7bd",
   "metadata": {
    "execution": {
     "iopub.execute_input": "2022-06-12T07:06:51.610829Z",
     "iopub.status.busy": "2022-06-12T07:06:51.610408Z",
     "iopub.status.idle": "2022-06-12T07:06:52.614638Z",
     "shell.execute_reply": "2022-06-12T07:06:52.615013Z"
    },
    "id": "ff8ce7bd",
    "papermill": {
     "duration": 1.016963,
     "end_time": "2022-06-12T07:06:52.615133",
     "exception": false,
     "start_time": "2022-06-12T07:06:51.598170",
     "status": "completed"
    },
    "tags": []
   },
   "outputs": [
    {
     "name": "stdout",
     "output_type": "stream",
     "text": [
      "Learning rate set to 0.033215\n",
      "0:\tlearn: 0.9530080\ttotal: 57.1ms\tremaining: 57.1s\n",
      "1:\tlearn: 0.9346508\ttotal: 58.1ms\tremaining: 29s\n",
      "2:\tlearn: 0.9162044\ttotal: 59ms\tremaining: 19.6s\n",
      "3:\tlearn: 0.9010255\ttotal: 60ms\tremaining: 14.9s\n",
      "4:\tlearn: 0.8842426\ttotal: 60.9ms\tremaining: 12.1s\n",
      "5:\tlearn: 0.8693080\ttotal: 62.2ms\tremaining: 10.3s\n",
      "6:\tlearn: 0.8524656\ttotal: 63.5ms\tremaining: 9.01s\n",
      "7:\tlearn: 0.8368826\ttotal: 64.7ms\tremaining: 8.02s\n",
      "8:\tlearn: 0.8226512\ttotal: 65.5ms\tremaining: 7.21s\n",
      "9:\tlearn: 0.8076212\ttotal: 66.3ms\tremaining: 6.57s\n",
      "10:\tlearn: 0.7924925\ttotal: 67.2ms\tremaining: 6.04s\n",
      "11:\tlearn: 0.7782980\ttotal: 68.1ms\tremaining: 5.61s\n",
      "12:\tlearn: 0.7645884\ttotal: 69ms\tremaining: 5.24s\n",
      "13:\tlearn: 0.7500684\ttotal: 69.8ms\tremaining: 4.92s\n",
      "14:\tlearn: 0.7384235\ttotal: 70.7ms\tremaining: 4.64s\n",
      "15:\tlearn: 0.7248382\ttotal: 71.6ms\tremaining: 4.4s\n",
      "16:\tlearn: 0.7139125\ttotal: 72.4ms\tremaining: 4.19s\n",
      "17:\tlearn: 0.7025306\ttotal: 73.3ms\tremaining: 4s\n",
      "18:\tlearn: 0.6906140\ttotal: 74.1ms\tremaining: 3.83s\n",
      "19:\tlearn: 0.6786042\ttotal: 75.1ms\tremaining: 3.68s\n",
      "20:\tlearn: 0.6656127\ttotal: 76ms\tremaining: 3.54s\n",
      "21:\tlearn: 0.6562284\ttotal: 76.9ms\tremaining: 3.42s\n",
      "22:\tlearn: 0.6454175\ttotal: 78.5ms\tremaining: 3.33s\n",
      "23:\tlearn: 0.6366985\ttotal: 79.5ms\tremaining: 3.23s\n",
      "24:\tlearn: 0.6281772\ttotal: 80.4ms\tremaining: 3.14s\n",
      "25:\tlearn: 0.6190778\ttotal: 81.4ms\tremaining: 3.05s\n",
      "26:\tlearn: 0.6111352\ttotal: 82.3ms\tremaining: 2.96s\n",
      "27:\tlearn: 0.6030803\ttotal: 83.1ms\tremaining: 2.88s\n",
      "28:\tlearn: 0.5945154\ttotal: 83.9ms\tremaining: 2.81s\n",
      "29:\tlearn: 0.5857017\ttotal: 84.6ms\tremaining: 2.74s\n",
      "30:\tlearn: 0.5772566\ttotal: 85.3ms\tremaining: 2.67s\n",
      "31:\tlearn: 0.5688657\ttotal: 86.2ms\tremaining: 2.61s\n",
      "32:\tlearn: 0.5624332\ttotal: 86.8ms\tremaining: 2.54s\n",
      "33:\tlearn: 0.5553425\ttotal: 88.3ms\tremaining: 2.51s\n",
      "34:\tlearn: 0.5484133\ttotal: 89.1ms\tremaining: 2.46s\n",
      "35:\tlearn: 0.5421891\ttotal: 89.9ms\tremaining: 2.41s\n",
      "36:\tlearn: 0.5361518\ttotal: 90.7ms\tremaining: 2.36s\n",
      "37:\tlearn: 0.5298841\ttotal: 91.5ms\tremaining: 2.31s\n",
      "38:\tlearn: 0.5226212\ttotal: 92.3ms\tremaining: 2.27s\n",
      "39:\tlearn: 0.5145999\ttotal: 93.3ms\tremaining: 2.24s\n",
      "40:\tlearn: 0.5099566\ttotal: 94.5ms\tremaining: 2.21s\n",
      "41:\tlearn: 0.5033722\ttotal: 95.5ms\tremaining: 2.18s\n",
      "42:\tlearn: 0.4979843\ttotal: 96.4ms\tremaining: 2.14s\n",
      "43:\tlearn: 0.4926905\ttotal: 97.2ms\tremaining: 2.11s\n",
      "44:\tlearn: 0.4873038\ttotal: 98.1ms\tremaining: 2.08s\n",
      "45:\tlearn: 0.4807878\ttotal: 99ms\tremaining: 2.05s\n",
      "46:\tlearn: 0.4760251\ttotal: 99.8ms\tremaining: 2.02s\n",
      "47:\tlearn: 0.4707620\ttotal: 101ms\tremaining: 2s\n",
      "48:\tlearn: 0.4663240\ttotal: 102ms\tremaining: 1.97s\n"
     ]
    },
    {
     "name": "stdout",
     "output_type": "stream",
     "text": [
      "49:\tlearn: 0.4615749\ttotal: 103ms\tremaining: 1.95s\n",
      "50:\tlearn: 0.4568280\ttotal: 104ms\tremaining: 1.93s\n",
      "51:\tlearn: 0.4504783\ttotal: 104ms\tremaining: 1.9s\n",
      "52:\tlearn: 0.4447111\ttotal: 105ms\tremaining: 1.88s\n",
      "53:\tlearn: 0.4414163\ttotal: 106ms\tremaining: 1.86s\n",
      "54:\tlearn: 0.4370352\ttotal: 107ms\tremaining: 1.84s\n",
      "55:\tlearn: 0.4335810\ttotal: 108ms\tremaining: 1.82s\n",
      "56:\tlearn: 0.4290250\ttotal: 109ms\tremaining: 1.8s\n",
      "57:\tlearn: 0.4251045\ttotal: 110ms\tremaining: 1.79s\n",
      "58:\tlearn: 0.4209046\ttotal: 111ms\tremaining: 1.77s\n",
      "59:\tlearn: 0.4170848\ttotal: 112ms\tremaining: 1.75s\n",
      "60:\tlearn: 0.4132335\ttotal: 113ms\tremaining: 1.73s\n",
      "61:\tlearn: 0.4089367\ttotal: 114ms\tremaining: 1.72s\n",
      "62:\tlearn: 0.4065134\ttotal: 114ms\tremaining: 1.7s\n",
      "63:\tlearn: 0.4030714\ttotal: 115ms\tremaining: 1.69s\n",
      "64:\tlearn: 0.3998096\ttotal: 116ms\tremaining: 1.67s\n",
      "65:\tlearn: 0.3956267\ttotal: 117ms\tremaining: 1.66s\n",
      "66:\tlearn: 0.3909945\ttotal: 118ms\tremaining: 1.64s\n",
      "67:\tlearn: 0.3870381\ttotal: 119ms\tremaining: 1.63s\n",
      "68:\tlearn: 0.3838003\ttotal: 119ms\tremaining: 1.61s\n",
      "69:\tlearn: 0.3806889\ttotal: 120ms\tremaining: 1.6s\n",
      "70:\tlearn: 0.3772255\ttotal: 121ms\tremaining: 1.58s\n",
      "71:\tlearn: 0.3738617\ttotal: 122ms\tremaining: 1.57s\n",
      "72:\tlearn: 0.3715829\ttotal: 123ms\tremaining: 1.56s\n",
      "73:\tlearn: 0.3686530\ttotal: 124ms\tremaining: 1.54s\n",
      "74:\tlearn: 0.3663370\ttotal: 124ms\tremaining: 1.53s\n",
      "75:\tlearn: 0.3642052\ttotal: 125ms\tremaining: 1.52s\n",
      "76:\tlearn: 0.3610326\ttotal: 126ms\tremaining: 1.51s\n",
      "77:\tlearn: 0.3590927\ttotal: 127ms\tremaining: 1.5s\n",
      "78:\tlearn: 0.3565045\ttotal: 128ms\tremaining: 1.49s\n",
      "79:\tlearn: 0.3544455\ttotal: 129ms\tremaining: 1.48s\n",
      "80:\tlearn: 0.3520244\ttotal: 130ms\tremaining: 1.48s\n",
      "81:\tlearn: 0.3497368\ttotal: 131ms\tremaining: 1.47s\n",
      "82:\tlearn: 0.3467312\ttotal: 132ms\tremaining: 1.46s\n",
      "83:\tlearn: 0.3440249\ttotal: 133ms\tremaining: 1.45s\n",
      "84:\tlearn: 0.3422480\ttotal: 134ms\tremaining: 1.44s\n",
      "85:\tlearn: 0.3401046\ttotal: 134ms\tremaining: 1.43s\n",
      "86:\tlearn: 0.3374390\ttotal: 135ms\tremaining: 1.42s\n",
      "87:\tlearn: 0.3348246\ttotal: 136ms\tremaining: 1.41s\n",
      "88:\tlearn: 0.3328565\ttotal: 137ms\tremaining: 1.4s\n",
      "89:\tlearn: 0.3301754\ttotal: 138ms\tremaining: 1.39s\n",
      "90:\tlearn: 0.3282344\ttotal: 139ms\tremaining: 1.38s\n",
      "91:\tlearn: 0.3266229\ttotal: 139ms\tremaining: 1.37s\n",
      "92:\tlearn: 0.3254368\ttotal: 140ms\tremaining: 1.37s\n",
      "93:\tlearn: 0.3237638\ttotal: 141ms\tremaining: 1.36s\n",
      "94:\tlearn: 0.3216153\ttotal: 142ms\tremaining: 1.35s\n",
      "95:\tlearn: 0.3200215\ttotal: 143ms\tremaining: 1.34s\n",
      "96:\tlearn: 0.3182824\ttotal: 144ms\tremaining: 1.34s\n",
      "97:\tlearn: 0.3166289\ttotal: 144ms\tremaining: 1.33s\n",
      "98:\tlearn: 0.3154838\ttotal: 145ms\tremaining: 1.32s\n",
      "99:\tlearn: 0.3143213\ttotal: 146ms\tremaining: 1.31s\n",
      "100:\tlearn: 0.3126118\ttotal: 147ms\tremaining: 1.31s\n",
      "101:\tlearn: 0.3105065\ttotal: 148ms\tremaining: 1.3s\n",
      "102:\tlearn: 0.3092943\ttotal: 148ms\tremaining: 1.29s\n",
      "103:\tlearn: 0.3079884\ttotal: 149ms\tremaining: 1.28s\n",
      "104:\tlearn: 0.3066507\ttotal: 150ms\tremaining: 1.28s\n",
      "105:\tlearn: 0.3051142\ttotal: 151ms\tremaining: 1.27s\n",
      "106:\tlearn: 0.3034794\ttotal: 152ms\tremaining: 1.26s\n",
      "107:\tlearn: 0.3017616\ttotal: 152ms\tremaining: 1.26s\n",
      "108:\tlearn: 0.3003129\ttotal: 153ms\tremaining: 1.25s\n",
      "109:\tlearn: 0.2992083\ttotal: 154ms\tremaining: 1.25s\n",
      "110:\tlearn: 0.2976456\ttotal: 155ms\tremaining: 1.24s\n",
      "111:\tlearn: 0.2963523\ttotal: 156ms\tremaining: 1.23s\n",
      "112:\tlearn: 0.2943141\ttotal: 156ms\tremaining: 1.23s\n",
      "113:\tlearn: 0.2930769\ttotal: 158ms\tremaining: 1.23s\n",
      "114:\tlearn: 0.2919422\ttotal: 159ms\tremaining: 1.22s\n",
      "115:\tlearn: 0.2907911\ttotal: 159ms\tremaining: 1.22s\n",
      "116:\tlearn: 0.2887542\ttotal: 160ms\tremaining: 1.21s\n",
      "117:\tlearn: 0.2876897\ttotal: 161ms\tremaining: 1.21s\n",
      "118:\tlearn: 0.2861202\ttotal: 162ms\tremaining: 1.2s\n",
      "119:\tlearn: 0.2853692\ttotal: 163ms\tremaining: 1.2s\n",
      "120:\tlearn: 0.2839581\ttotal: 164ms\tremaining: 1.19s\n",
      "121:\tlearn: 0.2827557\ttotal: 165ms\tremaining: 1.19s\n",
      "122:\tlearn: 0.2814002\ttotal: 166ms\tremaining: 1.18s\n",
      "123:\tlearn: 0.2805879\ttotal: 166ms\tremaining: 1.18s\n",
      "124:\tlearn: 0.2794703\ttotal: 167ms\tremaining: 1.17s\n",
      "125:\tlearn: 0.2783002\ttotal: 168ms\tremaining: 1.17s\n",
      "126:\tlearn: 0.2769586\ttotal: 169ms\tremaining: 1.16s\n",
      "127:\tlearn: 0.2760688\ttotal: 170ms\tremaining: 1.16s\n",
      "128:\tlearn: 0.2751768\ttotal: 171ms\tremaining: 1.15s\n",
      "129:\tlearn: 0.2743896\ttotal: 171ms\tremaining: 1.15s\n",
      "130:\tlearn: 0.2731411\ttotal: 173ms\tremaining: 1.15s\n",
      "131:\tlearn: 0.2718431\ttotal: 174ms\tremaining: 1.14s\n",
      "132:\tlearn: 0.2707115\ttotal: 175ms\tremaining: 1.14s\n",
      "133:\tlearn: 0.2698230\ttotal: 176ms\tremaining: 1.13s\n",
      "134:\tlearn: 0.2693039\ttotal: 176ms\tremaining: 1.13s\n",
      "135:\tlearn: 0.2683263\ttotal: 177ms\tremaining: 1.13s\n",
      "136:\tlearn: 0.2674761\ttotal: 178ms\tremaining: 1.12s\n",
      "137:\tlearn: 0.2665085\ttotal: 179ms\tremaining: 1.12s\n",
      "138:\tlearn: 0.2655187\ttotal: 180ms\tremaining: 1.11s\n",
      "139:\tlearn: 0.2643799\ttotal: 181ms\tremaining: 1.11s\n",
      "140:\tlearn: 0.2632689\ttotal: 181ms\tremaining: 1.1s\n",
      "141:\tlearn: 0.2621033\ttotal: 182ms\tremaining: 1.1s\n",
      "142:\tlearn: 0.2612622\ttotal: 183ms\tremaining: 1.1s\n",
      "143:\tlearn: 0.2605670\ttotal: 184ms\tremaining: 1.09s\n",
      "144:\tlearn: 0.2597144\ttotal: 185ms\tremaining: 1.09s\n",
      "145:\tlearn: 0.2586307\ttotal: 185ms\tremaining: 1.08s\n",
      "146:\tlearn: 0.2576649\ttotal: 186ms\tremaining: 1.08s\n",
      "147:\tlearn: 0.2569282\ttotal: 187ms\tremaining: 1.08s\n",
      "148:\tlearn: 0.2560895\ttotal: 188ms\tremaining: 1.07s\n",
      "149:\tlearn: 0.2554927\ttotal: 189ms\tremaining: 1.07s\n",
      "150:\tlearn: 0.2544419\ttotal: 190ms\tremaining: 1.07s\n"
     ]
    },
    {
     "name": "stdout",
     "output_type": "stream",
     "text": [
      "151:\tlearn: 0.2538799\ttotal: 191ms\tremaining: 1.07s\n",
      "152:\tlearn: 0.2533387\ttotal: 192ms\tremaining: 1.06s\n",
      "153:\tlearn: 0.2528687\ttotal: 193ms\tremaining: 1.06s\n",
      "154:\tlearn: 0.2521271\ttotal: 194ms\tremaining: 1.06s\n",
      "155:\tlearn: 0.2514140\ttotal: 195ms\tremaining: 1.05s\n",
      "156:\tlearn: 0.2507969\ttotal: 196ms\tremaining: 1.05s\n",
      "157:\tlearn: 0.2497847\ttotal: 197ms\tremaining: 1.05s\n",
      "158:\tlearn: 0.2486889\ttotal: 197ms\tremaining: 1.04s\n",
      "159:\tlearn: 0.2481348\ttotal: 198ms\tremaining: 1.04s\n",
      "160:\tlearn: 0.2473491\ttotal: 199ms\tremaining: 1.04s\n",
      "161:\tlearn: 0.2465378\ttotal: 200ms\tremaining: 1.03s\n",
      "162:\tlearn: 0.2458546\ttotal: 201ms\tremaining: 1.03s\n",
      "163:\tlearn: 0.2452693\ttotal: 202ms\tremaining: 1.03s\n",
      "164:\tlearn: 0.2447189\ttotal: 202ms\tremaining: 1.02s\n",
      "165:\tlearn: 0.2438955\ttotal: 203ms\tremaining: 1.02s\n",
      "166:\tlearn: 0.2433603\ttotal: 204ms\tremaining: 1.02s\n",
      "167:\tlearn: 0.2427373\ttotal: 205ms\tremaining: 1.01s\n",
      "168:\tlearn: 0.2422287\ttotal: 206ms\tremaining: 1.01s\n",
      "169:\tlearn: 0.2411981\ttotal: 207ms\tremaining: 1.01s\n",
      "170:\tlearn: 0.2404149\ttotal: 208ms\tremaining: 1.01s\n",
      "171:\tlearn: 0.2394072\ttotal: 208ms\tremaining: 1s\n",
      "172:\tlearn: 0.2387969\ttotal: 209ms\tremaining: 1000ms\n",
      "173:\tlearn: 0.2381210\ttotal: 210ms\tremaining: 998ms\n",
      "174:\tlearn: 0.2375114\ttotal: 211ms\tremaining: 995ms\n",
      "175:\tlearn: 0.2367885\ttotal: 212ms\tremaining: 991ms\n",
      "176:\tlearn: 0.2359769\ttotal: 213ms\tremaining: 989ms\n",
      "177:\tlearn: 0.2351571\ttotal: 213ms\tremaining: 985ms\n",
      "178:\tlearn: 0.2344801\ttotal: 214ms\tremaining: 983ms\n",
      "179:\tlearn: 0.2342281\ttotal: 215ms\tremaining: 980ms\n",
      "180:\tlearn: 0.2332868\ttotal: 216ms\tremaining: 977ms\n",
      "181:\tlearn: 0.2326899\ttotal: 217ms\tremaining: 974ms\n",
      "182:\tlearn: 0.2322066\ttotal: 218ms\tremaining: 972ms\n",
      "183:\tlearn: 0.2315769\ttotal: 218ms\tremaining: 969ms\n",
      "184:\tlearn: 0.2308741\ttotal: 219ms\tremaining: 966ms\n",
      "185:\tlearn: 0.2301737\ttotal: 220ms\tremaining: 964ms\n",
      "186:\tlearn: 0.2294060\ttotal: 222ms\tremaining: 964ms\n",
      "187:\tlearn: 0.2289292\ttotal: 223ms\tremaining: 962ms\n",
      "188:\tlearn: 0.2284654\ttotal: 224ms\tremaining: 960ms\n",
      "189:\tlearn: 0.2279351\ttotal: 224ms\tremaining: 957ms\n",
      "190:\tlearn: 0.2274558\ttotal: 225ms\tremaining: 954ms\n",
      "191:\tlearn: 0.2267406\ttotal: 226ms\tremaining: 951ms\n",
      "192:\tlearn: 0.2262025\ttotal: 227ms\tremaining: 948ms\n",
      "193:\tlearn: 0.2253726\ttotal: 228ms\tremaining: 946ms\n",
      "194:\tlearn: 0.2247003\ttotal: 229ms\tremaining: 944ms\n",
      "195:\tlearn: 0.2241357\ttotal: 230ms\tremaining: 941ms\n",
      "196:\tlearn: 0.2236641\ttotal: 230ms\tremaining: 939ms\n",
      "197:\tlearn: 0.2231634\ttotal: 231ms\tremaining: 936ms\n",
      "198:\tlearn: 0.2225338\ttotal: 232ms\tremaining: 933ms\n",
      "199:\tlearn: 0.2218750\ttotal: 233ms\tremaining: 930ms\n",
      "200:\tlearn: 0.2211183\ttotal: 233ms\tremaining: 928ms\n",
      "201:\tlearn: 0.2206487\ttotal: 234ms\tremaining: 926ms\n",
      "202:\tlearn: 0.2201054\ttotal: 235ms\tremaining: 924ms\n",
      "203:\tlearn: 0.2195967\ttotal: 237ms\tremaining: 923ms\n",
      "204:\tlearn: 0.2189967\ttotal: 238ms\tremaining: 921ms\n",
      "205:\tlearn: 0.2183366\ttotal: 238ms\tremaining: 919ms\n",
      "206:\tlearn: 0.2179577\ttotal: 239ms\tremaining: 917ms\n",
      "207:\tlearn: 0.2173796\ttotal: 240ms\tremaining: 915ms\n",
      "208:\tlearn: 0.2169417\ttotal: 241ms\tremaining: 912ms\n",
      "209:\tlearn: 0.2164414\ttotal: 242ms\tremaining: 910ms\n",
      "210:\tlearn: 0.2159091\ttotal: 243ms\tremaining: 907ms\n",
      "211:\tlearn: 0.2155867\ttotal: 243ms\tremaining: 905ms\n",
      "212:\tlearn: 0.2151795\ttotal: 244ms\tremaining: 903ms\n",
      "213:\tlearn: 0.2144979\ttotal: 245ms\tremaining: 901ms\n",
      "214:\tlearn: 0.2139494\ttotal: 246ms\tremaining: 898ms\n",
      "215:\tlearn: 0.2134090\ttotal: 247ms\tremaining: 896ms\n",
      "216:\tlearn: 0.2128244\ttotal: 248ms\tremaining: 894ms\n",
      "217:\tlearn: 0.2122647\ttotal: 248ms\tremaining: 891ms\n",
      "218:\tlearn: 0.2119480\ttotal: 249ms\tremaining: 889ms\n",
      "219:\tlearn: 0.2114412\ttotal: 250ms\tremaining: 886ms\n",
      "220:\tlearn: 0.2106217\ttotal: 251ms\tremaining: 884ms\n",
      "221:\tlearn: 0.2101538\ttotal: 252ms\tremaining: 882ms\n",
      "222:\tlearn: 0.2096890\ttotal: 253ms\tremaining: 880ms\n",
      "223:\tlearn: 0.2093026\ttotal: 254ms\tremaining: 878ms\n",
      "224:\tlearn: 0.2089669\ttotal: 254ms\tremaining: 876ms\n",
      "225:\tlearn: 0.2083925\ttotal: 255ms\tremaining: 874ms\n",
      "226:\tlearn: 0.2078175\ttotal: 256ms\tremaining: 872ms\n",
      "227:\tlearn: 0.2073010\ttotal: 257ms\tremaining: 870ms\n",
      "228:\tlearn: 0.2069370\ttotal: 258ms\tremaining: 868ms\n",
      "229:\tlearn: 0.2066095\ttotal: 259ms\tremaining: 865ms\n",
      "230:\tlearn: 0.2060100\ttotal: 259ms\tremaining: 864ms\n",
      "231:\tlearn: 0.2054132\ttotal: 260ms\tremaining: 862ms\n",
      "232:\tlearn: 0.2050360\ttotal: 261ms\tremaining: 860ms\n",
      "233:\tlearn: 0.2044545\ttotal: 262ms\tremaining: 857ms\n",
      "234:\tlearn: 0.2040478\ttotal: 263ms\tremaining: 855ms\n",
      "235:\tlearn: 0.2036820\ttotal: 264ms\tremaining: 853ms\n",
      "236:\tlearn: 0.2029605\ttotal: 264ms\tremaining: 851ms\n",
      "237:\tlearn: 0.2024668\ttotal: 265ms\tremaining: 849ms\n",
      "238:\tlearn: 0.2021301\ttotal: 266ms\tremaining: 847ms\n",
      "239:\tlearn: 0.2016910\ttotal: 267ms\tremaining: 844ms\n",
      "240:\tlearn: 0.2012640\ttotal: 268ms\tremaining: 843ms\n",
      "241:\tlearn: 0.2010507\ttotal: 269ms\tremaining: 842ms\n",
      "242:\tlearn: 0.2006272\ttotal: 270ms\tremaining: 840ms\n",
      "243:\tlearn: 0.2001895\ttotal: 271ms\tremaining: 838ms\n",
      "244:\tlearn: 0.1999140\ttotal: 271ms\tremaining: 836ms\n",
      "245:\tlearn: 0.1992482\ttotal: 272ms\tremaining: 834ms\n",
      "246:\tlearn: 0.1988315\ttotal: 274ms\tremaining: 834ms\n",
      "247:\tlearn: 0.1981167\ttotal: 275ms\tremaining: 833ms\n",
      "248:\tlearn: 0.1974566\ttotal: 275ms\tremaining: 831ms\n",
      "249:\tlearn: 0.1972743\ttotal: 276ms\tremaining: 829ms\n",
      "250:\tlearn: 0.1966606\ttotal: 277ms\tremaining: 826ms\n",
      "251:\tlearn: 0.1964035\ttotal: 278ms\tremaining: 824ms\n",
      "252:\tlearn: 0.1962158\ttotal: 279ms\tremaining: 822ms\n",
      "253:\tlearn: 0.1957190\ttotal: 279ms\tremaining: 820ms\n",
      "254:\tlearn: 0.1951293\ttotal: 280ms\tremaining: 819ms\n",
      "255:\tlearn: 0.1945462\ttotal: 281ms\tremaining: 817ms\n",
      "256:\tlearn: 0.1943877\ttotal: 282ms\tremaining: 815ms\n",
      "257:\tlearn: 0.1940153\ttotal: 283ms\tremaining: 814ms\n",
      "258:\tlearn: 0.1935181\ttotal: 284ms\tremaining: 813ms\n",
      "259:\tlearn: 0.1929246\ttotal: 285ms\tremaining: 811ms\n",
      "260:\tlearn: 0.1925285\ttotal: 286ms\tremaining: 810ms\n",
      "261:\tlearn: 0.1919941\ttotal: 287ms\tremaining: 808ms\n",
      "262:\tlearn: 0.1915858\ttotal: 288ms\tremaining: 806ms\n",
      "263:\tlearn: 0.1911033\ttotal: 288ms\tremaining: 804ms\n",
      "264:\tlearn: 0.1904963\ttotal: 289ms\tremaining: 802ms\n",
      "265:\tlearn: 0.1900614\ttotal: 290ms\tremaining: 800ms\n",
      "266:\tlearn: 0.1894744\ttotal: 291ms\tremaining: 799ms\n",
      "267:\tlearn: 0.1892813\ttotal: 292ms\tremaining: 797ms\n",
      "268:\tlearn: 0.1888703\ttotal: 292ms\tremaining: 795ms\n"
     ]
    },
    {
     "name": "stdout",
     "output_type": "stream",
     "text": [
      "269:\tlearn: 0.1887091\ttotal: 293ms\tremaining: 793ms\n",
      "270:\tlearn: 0.1882651\ttotal: 294ms\tremaining: 792ms\n",
      "271:\tlearn: 0.1876934\ttotal: 295ms\tremaining: 790ms\n",
      "272:\tlearn: 0.1872873\ttotal: 296ms\tremaining: 789ms\n",
      "273:\tlearn: 0.1866776\ttotal: 297ms\tremaining: 787ms\n",
      "274:\tlearn: 0.1862396\ttotal: 298ms\tremaining: 785ms\n",
      "275:\tlearn: 0.1857127\ttotal: 299ms\tremaining: 783ms\n",
      "276:\tlearn: 0.1851695\ttotal: 300ms\tremaining: 783ms\n",
      "277:\tlearn: 0.1849128\ttotal: 301ms\tremaining: 782ms\n",
      "278:\tlearn: 0.1845356\ttotal: 302ms\tremaining: 781ms\n",
      "279:\tlearn: 0.1840515\ttotal: 303ms\tremaining: 779ms\n",
      "280:\tlearn: 0.1837334\ttotal: 304ms\tremaining: 777ms\n",
      "281:\tlearn: 0.1835376\ttotal: 304ms\tremaining: 775ms\n",
      "282:\tlearn: 0.1832487\ttotal: 305ms\tremaining: 773ms\n",
      "283:\tlearn: 0.1830459\ttotal: 306ms\tremaining: 772ms\n",
      "284:\tlearn: 0.1827715\ttotal: 307ms\tremaining: 770ms\n",
      "285:\tlearn: 0.1822628\ttotal: 308ms\tremaining: 768ms\n",
      "286:\tlearn: 0.1818343\ttotal: 309ms\tremaining: 767ms\n",
      "287:\tlearn: 0.1814604\ttotal: 310ms\tremaining: 765ms\n",
      "288:\tlearn: 0.1813032\ttotal: 310ms\tremaining: 764ms\n",
      "289:\tlearn: 0.1810177\ttotal: 311ms\tremaining: 762ms\n",
      "290:\tlearn: 0.1807500\ttotal: 312ms\tremaining: 760ms\n",
      "291:\tlearn: 0.1804599\ttotal: 313ms\tremaining: 759ms\n",
      "292:\tlearn: 0.1803269\ttotal: 314ms\tremaining: 758ms\n",
      "293:\tlearn: 0.1798720\ttotal: 315ms\tremaining: 756ms\n",
      "294:\tlearn: 0.1794564\ttotal: 316ms\tremaining: 755ms\n",
      "295:\tlearn: 0.1792531\ttotal: 317ms\tremaining: 753ms\n",
      "296:\tlearn: 0.1789599\ttotal: 318ms\tremaining: 752ms\n",
      "297:\tlearn: 0.1788323\ttotal: 318ms\tremaining: 750ms\n",
      "298:\tlearn: 0.1784224\ttotal: 319ms\tremaining: 749ms\n",
      "299:\tlearn: 0.1781393\ttotal: 320ms\tremaining: 747ms\n",
      "300:\tlearn: 0.1777770\ttotal: 321ms\tremaining: 745ms\n",
      "301:\tlearn: 0.1774477\ttotal: 322ms\tremaining: 743ms\n",
      "302:\tlearn: 0.1769890\ttotal: 323ms\tremaining: 742ms\n",
      "303:\tlearn: 0.1768834\ttotal: 324ms\tremaining: 742ms\n",
      "304:\tlearn: 0.1764748\ttotal: 325ms\tremaining: 740ms\n",
      "305:\tlearn: 0.1761610\ttotal: 326ms\tremaining: 739ms\n",
      "306:\tlearn: 0.1760653\ttotal: 326ms\tremaining: 737ms\n",
      "307:\tlearn: 0.1756148\ttotal: 327ms\tremaining: 735ms\n",
      "308:\tlearn: 0.1750401\ttotal: 328ms\tremaining: 734ms\n",
      "309:\tlearn: 0.1746637\ttotal: 329ms\tremaining: 732ms\n",
      "310:\tlearn: 0.1743195\ttotal: 330ms\tremaining: 731ms\n",
      "311:\tlearn: 0.1742114\ttotal: 331ms\tremaining: 730ms\n",
      "312:\tlearn: 0.1737716\ttotal: 332ms\tremaining: 728ms\n",
      "313:\tlearn: 0.1733921\ttotal: 333ms\tremaining: 727ms\n",
      "314:\tlearn: 0.1730077\ttotal: 334ms\tremaining: 725ms\n",
      "315:\tlearn: 0.1725323\ttotal: 334ms\tremaining: 724ms\n",
      "316:\tlearn: 0.1722144\ttotal: 335ms\tremaining: 722ms\n",
      "317:\tlearn: 0.1718547\ttotal: 336ms\tremaining: 721ms\n",
      "318:\tlearn: 0.1716242\ttotal: 337ms\tremaining: 719ms\n",
      "319:\tlearn: 0.1714930\ttotal: 338ms\tremaining: 718ms\n",
      "320:\tlearn: 0.1712706\ttotal: 339ms\tremaining: 716ms\n",
      "321:\tlearn: 0.1710977\ttotal: 339ms\tremaining: 715ms\n",
      "322:\tlearn: 0.1706757\ttotal: 340ms\tremaining: 714ms\n",
      "323:\tlearn: 0.1704161\ttotal: 341ms\tremaining: 712ms\n",
      "324:\tlearn: 0.1700142\ttotal: 342ms\tremaining: 710ms\n",
      "325:\tlearn: 0.1694498\ttotal: 343ms\tremaining: 709ms\n",
      "326:\tlearn: 0.1690666\ttotal: 344ms\tremaining: 707ms\n",
      "327:\tlearn: 0.1687809\ttotal: 345ms\tremaining: 706ms\n",
      "328:\tlearn: 0.1684352\ttotal: 345ms\tremaining: 704ms\n",
      "329:\tlearn: 0.1683368\ttotal: 346ms\tremaining: 703ms\n",
      "330:\tlearn: 0.1679839\ttotal: 347ms\tremaining: 702ms\n",
      "331:\tlearn: 0.1675718\ttotal: 348ms\tremaining: 701ms\n",
      "332:\tlearn: 0.1672873\ttotal: 349ms\tremaining: 699ms\n",
      "333:\tlearn: 0.1669264\ttotal: 350ms\tremaining: 698ms\n",
      "334:\tlearn: 0.1668354\ttotal: 351ms\tremaining: 697ms\n",
      "335:\tlearn: 0.1665738\ttotal: 352ms\tremaining: 696ms\n",
      "336:\tlearn: 0.1662133\ttotal: 353ms\tremaining: 694ms\n",
      "337:\tlearn: 0.1659180\ttotal: 354ms\tremaining: 693ms\n",
      "338:\tlearn: 0.1654957\ttotal: 355ms\tremaining: 691ms\n",
      "339:\tlearn: 0.1649767\ttotal: 355ms\tremaining: 690ms\n",
      "340:\tlearn: 0.1646744\ttotal: 356ms\tremaining: 689ms\n",
      "341:\tlearn: 0.1644079\ttotal: 357ms\tremaining: 687ms\n",
      "342:\tlearn: 0.1642276\ttotal: 358ms\tremaining: 686ms\n",
      "343:\tlearn: 0.1640483\ttotal: 359ms\tremaining: 685ms\n",
      "344:\tlearn: 0.1635523\ttotal: 360ms\tremaining: 683ms\n",
      "345:\tlearn: 0.1631659\ttotal: 361ms\tremaining: 682ms\n",
      "346:\tlearn: 0.1627963\ttotal: 361ms\tremaining: 680ms\n",
      "347:\tlearn: 0.1627153\ttotal: 362ms\tremaining: 679ms\n",
      "348:\tlearn: 0.1623569\ttotal: 364ms\tremaining: 678ms\n",
      "349:\tlearn: 0.1621030\ttotal: 365ms\tremaining: 677ms\n",
      "350:\tlearn: 0.1619548\ttotal: 365ms\tremaining: 676ms\n",
      "351:\tlearn: 0.1616269\ttotal: 366ms\tremaining: 674ms\n",
      "352:\tlearn: 0.1615500\ttotal: 367ms\tremaining: 673ms\n",
      "353:\tlearn: 0.1611443\ttotal: 368ms\tremaining: 671ms\n",
      "354:\tlearn: 0.1608825\ttotal: 369ms\tremaining: 670ms\n",
      "355:\tlearn: 0.1605586\ttotal: 370ms\tremaining: 669ms\n",
      "356:\tlearn: 0.1602690\ttotal: 370ms\tremaining: 667ms\n",
      "357:\tlearn: 0.1599187\ttotal: 371ms\tremaining: 666ms\n",
      "358:\tlearn: 0.1594370\ttotal: 372ms\tremaining: 665ms\n",
      "359:\tlearn: 0.1592433\ttotal: 373ms\tremaining: 663ms\n",
      "360:\tlearn: 0.1589195\ttotal: 374ms\tremaining: 662ms\n",
      "361:\tlearn: 0.1586561\ttotal: 375ms\tremaining: 661ms\n",
      "362:\tlearn: 0.1584611\ttotal: 376ms\tremaining: 659ms\n",
      "363:\tlearn: 0.1581812\ttotal: 376ms\tremaining: 657ms\n",
      "364:\tlearn: 0.1581076\ttotal: 377ms\tremaining: 656ms\n",
      "365:\tlearn: 0.1577792\ttotal: 378ms\tremaining: 654ms\n",
      "366:\tlearn: 0.1574193\ttotal: 379ms\tremaining: 653ms\n",
      "367:\tlearn: 0.1570406\ttotal: 379ms\tremaining: 651ms\n",
      "368:\tlearn: 0.1568667\ttotal: 380ms\tremaining: 650ms\n",
      "369:\tlearn: 0.1566262\ttotal: 381ms\tremaining: 649ms\n"
     ]
    },
    {
     "name": "stdout",
     "output_type": "stream",
     "text": [
      "370:\tlearn: 0.1561070\ttotal: 382ms\tremaining: 648ms\n",
      "371:\tlearn: 0.1558768\ttotal: 383ms\tremaining: 647ms\n",
      "372:\tlearn: 0.1554378\ttotal: 384ms\tremaining: 646ms\n",
      "373:\tlearn: 0.1551617\ttotal: 385ms\tremaining: 644ms\n",
      "374:\tlearn: 0.1550916\ttotal: 386ms\tremaining: 643ms\n",
      "375:\tlearn: 0.1550236\ttotal: 387ms\tremaining: 642ms\n",
      "376:\tlearn: 0.1549430\ttotal: 387ms\tremaining: 640ms\n",
      "377:\tlearn: 0.1545546\ttotal: 388ms\tremaining: 639ms\n",
      "378:\tlearn: 0.1541376\ttotal: 389ms\tremaining: 637ms\n",
      "379:\tlearn: 0.1539395\ttotal: 390ms\tremaining: 636ms\n",
      "380:\tlearn: 0.1536155\ttotal: 391ms\tremaining: 635ms\n",
      "381:\tlearn: 0.1534869\ttotal: 391ms\tremaining: 633ms\n",
      "382:\tlearn: 0.1530826\ttotal: 392ms\tremaining: 632ms\n",
      "383:\tlearn: 0.1527510\ttotal: 393ms\tremaining: 631ms\n",
      "384:\tlearn: 0.1523086\ttotal: 394ms\tremaining: 630ms\n",
      "385:\tlearn: 0.1519285\ttotal: 395ms\tremaining: 629ms\n",
      "386:\tlearn: 0.1516234\ttotal: 396ms\tremaining: 627ms\n",
      "387:\tlearn: 0.1512361\ttotal: 397ms\tremaining: 626ms\n",
      "388:\tlearn: 0.1510438\ttotal: 398ms\tremaining: 625ms\n",
      "389:\tlearn: 0.1507198\ttotal: 398ms\tremaining: 623ms\n",
      "390:\tlearn: 0.1504242\ttotal: 399ms\tremaining: 622ms\n",
      "391:\tlearn: 0.1502012\ttotal: 400ms\tremaining: 620ms\n",
      "392:\tlearn: 0.1497585\ttotal: 401ms\tremaining: 619ms\n",
      "393:\tlearn: 0.1492823\ttotal: 401ms\tremaining: 617ms\n",
      "394:\tlearn: 0.1488305\ttotal: 402ms\tremaining: 616ms\n",
      "395:\tlearn: 0.1485609\ttotal: 403ms\tremaining: 615ms\n",
      "396:\tlearn: 0.1480687\ttotal: 404ms\tremaining: 613ms\n",
      "397:\tlearn: 0.1478434\ttotal: 405ms\tremaining: 612ms\n",
      "398:\tlearn: 0.1475170\ttotal: 405ms\tremaining: 611ms\n",
      "399:\tlearn: 0.1471210\ttotal: 407ms\tremaining: 610ms\n",
      "400:\tlearn: 0.1466974\ttotal: 408ms\tremaining: 609ms\n",
      "401:\tlearn: 0.1463676\ttotal: 409ms\tremaining: 608ms\n",
      "402:\tlearn: 0.1462236\ttotal: 409ms\tremaining: 607ms\n",
      "403:\tlearn: 0.1459983\ttotal: 411ms\tremaining: 606ms\n",
      "404:\tlearn: 0.1457862\ttotal: 412ms\tremaining: 605ms\n",
      "405:\tlearn: 0.1454389\ttotal: 412ms\tremaining: 603ms\n",
      "406:\tlearn: 0.1451401\ttotal: 413ms\tremaining: 602ms\n",
      "407:\tlearn: 0.1448971\ttotal: 414ms\tremaining: 601ms\n",
      "408:\tlearn: 0.1445613\ttotal: 415ms\tremaining: 599ms\n",
      "409:\tlearn: 0.1442371\ttotal: 416ms\tremaining: 598ms\n",
      "410:\tlearn: 0.1439334\ttotal: 416ms\tremaining: 597ms\n",
      "411:\tlearn: 0.1437463\ttotal: 417ms\tremaining: 595ms\n",
      "412:\tlearn: 0.1436806\ttotal: 418ms\tremaining: 594ms\n",
      "413:\tlearn: 0.1435031\ttotal: 419ms\tremaining: 593ms\n",
      "414:\tlearn: 0.1434480\ttotal: 420ms\tremaining: 592ms\n",
      "415:\tlearn: 0.1433622\ttotal: 421ms\tremaining: 591ms\n",
      "416:\tlearn: 0.1428698\ttotal: 422ms\tremaining: 589ms\n",
      "417:\tlearn: 0.1428214\ttotal: 423ms\tremaining: 589ms\n",
      "418:\tlearn: 0.1427514\ttotal: 424ms\tremaining: 588ms\n",
      "419:\tlearn: 0.1424132\ttotal: 425ms\tremaining: 587ms\n",
      "420:\tlearn: 0.1421437\ttotal: 426ms\tremaining: 586ms\n",
      "421:\tlearn: 0.1418465\ttotal: 427ms\tremaining: 584ms\n",
      "422:\tlearn: 0.1414479\ttotal: 427ms\tremaining: 583ms\n",
      "423:\tlearn: 0.1412174\ttotal: 429ms\tremaining: 582ms\n",
      "424:\tlearn: 0.1410987\ttotal: 429ms\tremaining: 581ms\n",
      "425:\tlearn: 0.1408411\ttotal: 430ms\tremaining: 580ms\n",
      "426:\tlearn: 0.1406756\ttotal: 431ms\tremaining: 578ms\n",
      "427:\tlearn: 0.1405007\ttotal: 432ms\tremaining: 577ms\n",
      "428:\tlearn: 0.1402549\ttotal: 432ms\tremaining: 576ms\n",
      "429:\tlearn: 0.1400187\ttotal: 433ms\tremaining: 574ms\n",
      "430:\tlearn: 0.1397382\ttotal: 434ms\tremaining: 573ms\n",
      "431:\tlearn: 0.1396126\ttotal: 435ms\tremaining: 572ms\n",
      "432:\tlearn: 0.1395602\ttotal: 436ms\tremaining: 571ms\n",
      "433:\tlearn: 0.1394071\ttotal: 436ms\tremaining: 569ms\n",
      "434:\tlearn: 0.1391313\ttotal: 437ms\tremaining: 568ms\n",
      "435:\tlearn: 0.1389062\ttotal: 438ms\tremaining: 567ms\n",
      "436:\tlearn: 0.1385935\ttotal: 439ms\tremaining: 565ms\n",
      "437:\tlearn: 0.1384807\ttotal: 440ms\tremaining: 564ms\n",
      "438:\tlearn: 0.1381542\ttotal: 441ms\tremaining: 563ms\n",
      "439:\tlearn: 0.1379909\ttotal: 442ms\tremaining: 562ms\n",
      "440:\tlearn: 0.1379300\ttotal: 442ms\tremaining: 561ms\n",
      "441:\tlearn: 0.1376540\ttotal: 443ms\tremaining: 560ms\n",
      "442:\tlearn: 0.1373620\ttotal: 444ms\tremaining: 559ms\n",
      "443:\tlearn: 0.1370523\ttotal: 445ms\tremaining: 557ms\n",
      "444:\tlearn: 0.1368368\ttotal: 446ms\tremaining: 556ms\n",
      "445:\tlearn: 0.1365102\ttotal: 446ms\tremaining: 555ms\n",
      "446:\tlearn: 0.1362753\ttotal: 447ms\tremaining: 553ms\n",
      "447:\tlearn: 0.1362103\ttotal: 448ms\tremaining: 552ms\n",
      "448:\tlearn: 0.1359402\ttotal: 449ms\tremaining: 551ms\n",
      "449:\tlearn: 0.1358887\ttotal: 450ms\tremaining: 550ms\n",
      "450:\tlearn: 0.1356080\ttotal: 451ms\tremaining: 549ms\n",
      "451:\tlearn: 0.1354200\ttotal: 452ms\tremaining: 547ms\n",
      "452:\tlearn: 0.1351161\ttotal: 452ms\tremaining: 546ms\n",
      "453:\tlearn: 0.1347980\ttotal: 453ms\tremaining: 545ms\n",
      "454:\tlearn: 0.1345058\ttotal: 454ms\tremaining: 543ms\n",
      "455:\tlearn: 0.1342462\ttotal: 455ms\tremaining: 542ms\n",
      "456:\tlearn: 0.1339854\ttotal: 455ms\tremaining: 541ms\n",
      "457:\tlearn: 0.1338621\ttotal: 456ms\tremaining: 540ms\n",
      "458:\tlearn: 0.1336374\ttotal: 458ms\tremaining: 539ms\n",
      "459:\tlearn: 0.1334619\ttotal: 458ms\tremaining: 538ms\n",
      "460:\tlearn: 0.1332541\ttotal: 459ms\tremaining: 537ms\n",
      "461:\tlearn: 0.1329202\ttotal: 460ms\tremaining: 536ms\n",
      "462:\tlearn: 0.1328801\ttotal: 461ms\tremaining: 535ms\n",
      "463:\tlearn: 0.1327317\ttotal: 462ms\tremaining: 533ms\n",
      "464:\tlearn: 0.1324162\ttotal: 463ms\tremaining: 532ms\n",
      "465:\tlearn: 0.1323561\ttotal: 463ms\tremaining: 531ms\n",
      "466:\tlearn: 0.1320956\ttotal: 464ms\tremaining: 530ms\n",
      "467:\tlearn: 0.1318888\ttotal: 465ms\tremaining: 529ms\n",
      "468:\tlearn: 0.1317073\ttotal: 466ms\tremaining: 527ms\n",
      "469:\tlearn: 0.1315200\ttotal: 467ms\tremaining: 526ms\n",
      "470:\tlearn: 0.1311095\ttotal: 467ms\tremaining: 525ms\n",
      "471:\tlearn: 0.1307967\ttotal: 468ms\tremaining: 524ms\n",
      "472:\tlearn: 0.1305809\ttotal: 469ms\tremaining: 523ms\n",
      "473:\tlearn: 0.1303583\ttotal: 470ms\tremaining: 522ms\n",
      "474:\tlearn: 0.1303160\ttotal: 471ms\tremaining: 520ms\n",
      "475:\tlearn: 0.1299477\ttotal: 472ms\tremaining: 519ms\n",
      "476:\tlearn: 0.1295875\ttotal: 473ms\tremaining: 518ms\n",
      "477:\tlearn: 0.1294346\ttotal: 474ms\tremaining: 518ms\n",
      "478:\tlearn: 0.1292970\ttotal: 475ms\tremaining: 517ms\n",
      "479:\tlearn: 0.1289343\ttotal: 476ms\tremaining: 515ms\n",
      "480:\tlearn: 0.1287254\ttotal: 477ms\tremaining: 514ms\n",
      "481:\tlearn: 0.1285727\ttotal: 477ms\tremaining: 513ms\n",
      "482:\tlearn: 0.1284223\ttotal: 478ms\tremaining: 512ms\n",
      "483:\tlearn: 0.1283767\ttotal: 479ms\tremaining: 510ms\n",
      "484:\tlearn: 0.1280390\ttotal: 480ms\tremaining: 509ms\n",
      "485:\tlearn: 0.1278175\ttotal: 480ms\tremaining: 508ms\n",
      "486:\tlearn: 0.1275573\ttotal: 481ms\tremaining: 507ms\n",
      "487:\tlearn: 0.1273023\ttotal: 482ms\tremaining: 506ms\n",
      "488:\tlearn: 0.1271936\ttotal: 483ms\tremaining: 505ms\n"
     ]
    },
    {
     "name": "stdout",
     "output_type": "stream",
     "text": [
      "489:\tlearn: 0.1271578\ttotal: 484ms\tremaining: 504ms\n",
      "490:\tlearn: 0.1268646\ttotal: 485ms\tremaining: 502ms\n",
      "491:\tlearn: 0.1268318\ttotal: 485ms\tremaining: 501ms\n",
      "492:\tlearn: 0.1265601\ttotal: 486ms\tremaining: 500ms\n",
      "493:\tlearn: 0.1263617\ttotal: 487ms\tremaining: 499ms\n",
      "494:\tlearn: 0.1261625\ttotal: 488ms\tremaining: 498ms\n",
      "495:\tlearn: 0.1260240\ttotal: 489ms\tremaining: 496ms\n",
      "496:\tlearn: 0.1256673\ttotal: 490ms\tremaining: 496ms\n",
      "497:\tlearn: 0.1256219\ttotal: 491ms\tremaining: 495ms\n",
      "498:\tlearn: 0.1253258\ttotal: 492ms\tremaining: 493ms\n",
      "499:\tlearn: 0.1252896\ttotal: 492ms\tremaining: 492ms\n",
      "500:\tlearn: 0.1250731\ttotal: 493ms\tremaining: 491ms\n",
      "501:\tlearn: 0.1247737\ttotal: 494ms\tremaining: 490ms\n",
      "502:\tlearn: 0.1245947\ttotal: 495ms\tremaining: 489ms\n",
      "503:\tlearn: 0.1243715\ttotal: 496ms\tremaining: 488ms\n",
      "504:\tlearn: 0.1241716\ttotal: 497ms\tremaining: 487ms\n",
      "505:\tlearn: 0.1239984\ttotal: 498ms\tremaining: 486ms\n",
      "506:\tlearn: 0.1238466\ttotal: 498ms\tremaining: 485ms\n",
      "507:\tlearn: 0.1235894\ttotal: 499ms\tremaining: 483ms\n",
      "508:\tlearn: 0.1234102\ttotal: 500ms\tremaining: 482ms\n",
      "509:\tlearn: 0.1232479\ttotal: 501ms\tremaining: 481ms\n",
      "510:\tlearn: 0.1230057\ttotal: 502ms\tremaining: 480ms\n",
      "511:\tlearn: 0.1228394\ttotal: 502ms\tremaining: 479ms\n",
      "512:\tlearn: 0.1226038\ttotal: 503ms\tremaining: 478ms\n",
      "513:\tlearn: 0.1223872\ttotal: 504ms\tremaining: 477ms\n",
      "514:\tlearn: 0.1222594\ttotal: 505ms\tremaining: 476ms\n",
      "515:\tlearn: 0.1219777\ttotal: 506ms\tremaining: 475ms\n",
      "516:\tlearn: 0.1218970\ttotal: 507ms\tremaining: 474ms\n",
      "517:\tlearn: 0.1217345\ttotal: 508ms\tremaining: 473ms\n",
      "518:\tlearn: 0.1215153\ttotal: 509ms\tremaining: 472ms\n",
      "519:\tlearn: 0.1213938\ttotal: 510ms\tremaining: 471ms\n",
      "520:\tlearn: 0.1210884\ttotal: 511ms\tremaining: 469ms\n",
      "521:\tlearn: 0.1209583\ttotal: 511ms\tremaining: 468ms\n",
      "522:\tlearn: 0.1207711\ttotal: 512ms\tremaining: 467ms\n",
      "523:\tlearn: 0.1205548\ttotal: 513ms\tremaining: 466ms\n",
      "524:\tlearn: 0.1203814\ttotal: 514ms\tremaining: 465ms\n",
      "525:\tlearn: 0.1201443\ttotal: 515ms\tremaining: 464ms\n",
      "526:\tlearn: 0.1200286\ttotal: 516ms\tremaining: 463ms\n",
      "527:\tlearn: 0.1197646\ttotal: 517ms\tremaining: 462ms\n",
      "528:\tlearn: 0.1195036\ttotal: 518ms\tremaining: 461ms\n",
      "529:\tlearn: 0.1192879\ttotal: 518ms\tremaining: 460ms\n",
      "530:\tlearn: 0.1191419\ttotal: 519ms\tremaining: 459ms\n",
      "531:\tlearn: 0.1189150\ttotal: 520ms\tremaining: 458ms\n",
      "532:\tlearn: 0.1187186\ttotal: 521ms\tremaining: 456ms\n",
      "533:\tlearn: 0.1186379\ttotal: 522ms\tremaining: 455ms\n",
      "534:\tlearn: 0.1184685\ttotal: 523ms\tremaining: 454ms\n",
      "535:\tlearn: 0.1183467\ttotal: 524ms\tremaining: 453ms\n",
      "536:\tlearn: 0.1182028\ttotal: 525ms\tremaining: 452ms\n",
      "537:\tlearn: 0.1181040\ttotal: 526ms\tremaining: 451ms\n",
      "538:\tlearn: 0.1178500\ttotal: 527ms\tremaining: 451ms\n",
      "539:\tlearn: 0.1175762\ttotal: 528ms\tremaining: 450ms\n",
      "540:\tlearn: 0.1174267\ttotal: 529ms\tremaining: 449ms\n",
      "541:\tlearn: 0.1172564\ttotal: 530ms\tremaining: 448ms\n",
      "542:\tlearn: 0.1170495\ttotal: 531ms\tremaining: 447ms\n",
      "543:\tlearn: 0.1168047\ttotal: 532ms\tremaining: 446ms\n",
      "544:\tlearn: 0.1166259\ttotal: 532ms\tremaining: 445ms\n",
      "545:\tlearn: 0.1164480\ttotal: 533ms\tremaining: 443ms\n",
      "546:\tlearn: 0.1162474\ttotal: 534ms\tremaining: 442ms\n",
      "547:\tlearn: 0.1159654\ttotal: 535ms\tremaining: 442ms\n",
      "548:\tlearn: 0.1158148\ttotal: 536ms\tremaining: 441ms\n",
      "549:\tlearn: 0.1156236\ttotal: 537ms\tremaining: 440ms\n",
      "550:\tlearn: 0.1155091\ttotal: 538ms\tremaining: 439ms\n",
      "551:\tlearn: 0.1154806\ttotal: 539ms\tremaining: 437ms\n",
      "552:\tlearn: 0.1154582\ttotal: 540ms\tremaining: 436ms\n",
      "553:\tlearn: 0.1152226\ttotal: 541ms\tremaining: 435ms\n",
      "554:\tlearn: 0.1150506\ttotal: 541ms\tremaining: 434ms\n",
      "555:\tlearn: 0.1147203\ttotal: 542ms\tremaining: 433ms\n",
      "556:\tlearn: 0.1146165\ttotal: 544ms\tremaining: 432ms\n",
      "557:\tlearn: 0.1144349\ttotal: 545ms\tremaining: 431ms\n",
      "558:\tlearn: 0.1142914\ttotal: 546ms\tremaining: 430ms\n",
      "559:\tlearn: 0.1140685\ttotal: 546ms\tremaining: 429ms\n",
      "560:\tlearn: 0.1139142\ttotal: 547ms\tremaining: 428ms\n",
      "561:\tlearn: 0.1137476\ttotal: 548ms\tremaining: 427ms\n",
      "562:\tlearn: 0.1135370\ttotal: 549ms\tremaining: 426ms\n",
      "563:\tlearn: 0.1131972\ttotal: 550ms\tremaining: 425ms\n",
      "564:\tlearn: 0.1130880\ttotal: 551ms\tremaining: 424ms\n",
      "565:\tlearn: 0.1128299\ttotal: 551ms\tremaining: 423ms\n",
      "566:\tlearn: 0.1125802\ttotal: 553ms\tremaining: 422ms\n",
      "567:\tlearn: 0.1123377\ttotal: 553ms\tremaining: 421ms\n",
      "568:\tlearn: 0.1121662\ttotal: 555ms\tremaining: 420ms\n",
      "569:\tlearn: 0.1119025\ttotal: 556ms\tremaining: 419ms\n",
      "570:\tlearn: 0.1117686\ttotal: 557ms\tremaining: 419ms\n",
      "571:\tlearn: 0.1115751\ttotal: 558ms\tremaining: 417ms\n",
      "572:\tlearn: 0.1112138\ttotal: 559ms\tremaining: 416ms\n",
      "573:\tlearn: 0.1111258\ttotal: 560ms\tremaining: 416ms\n",
      "574:\tlearn: 0.1108561\ttotal: 561ms\tremaining: 414ms\n",
      "575:\tlearn: 0.1106187\ttotal: 562ms\tremaining: 413ms\n",
      "576:\tlearn: 0.1103543\ttotal: 563ms\tremaining: 412ms\n",
      "577:\tlearn: 0.1101904\ttotal: 563ms\tremaining: 411ms\n",
      "578:\tlearn: 0.1099697\ttotal: 564ms\tremaining: 410ms\n",
      "579:\tlearn: 0.1098083\ttotal: 565ms\tremaining: 409ms\n",
      "580:\tlearn: 0.1096256\ttotal: 566ms\tremaining: 408ms\n",
      "581:\tlearn: 0.1094740\ttotal: 567ms\tremaining: 407ms\n",
      "582:\tlearn: 0.1093191\ttotal: 568ms\tremaining: 406ms\n",
      "583:\tlearn: 0.1090101\ttotal: 569ms\tremaining: 405ms\n",
      "584:\tlearn: 0.1087789\ttotal: 570ms\tremaining: 404ms\n",
      "585:\tlearn: 0.1085151\ttotal: 571ms\tremaining: 403ms\n"
     ]
    },
    {
     "name": "stdout",
     "output_type": "stream",
     "text": [
      "586:\tlearn: 0.1083290\ttotal: 571ms\tremaining: 402ms\n",
      "587:\tlearn: 0.1081449\ttotal: 573ms\tremaining: 401ms\n",
      "588:\tlearn: 0.1079377\ttotal: 573ms\tremaining: 400ms\n",
      "589:\tlearn: 0.1078833\ttotal: 574ms\tremaining: 399ms\n",
      "590:\tlearn: 0.1078496\ttotal: 575ms\tremaining: 398ms\n",
      "591:\tlearn: 0.1077566\ttotal: 576ms\tremaining: 397ms\n",
      "592:\tlearn: 0.1075284\ttotal: 577ms\tremaining: 396ms\n",
      "593:\tlearn: 0.1073635\ttotal: 578ms\tremaining: 395ms\n",
      "594:\tlearn: 0.1072375\ttotal: 578ms\tremaining: 394ms\n",
      "595:\tlearn: 0.1070224\ttotal: 579ms\tremaining: 393ms\n",
      "596:\tlearn: 0.1069857\ttotal: 580ms\tremaining: 392ms\n",
      "597:\tlearn: 0.1067647\ttotal: 581ms\tremaining: 391ms\n",
      "598:\tlearn: 0.1065213\ttotal: 582ms\tremaining: 389ms\n",
      "599:\tlearn: 0.1063602\ttotal: 583ms\tremaining: 388ms\n",
      "600:\tlearn: 0.1063408\ttotal: 584ms\tremaining: 388ms\n",
      "601:\tlearn: 0.1061698\ttotal: 585ms\tremaining: 387ms\n",
      "602:\tlearn: 0.1058883\ttotal: 586ms\tremaining: 386ms\n",
      "603:\tlearn: 0.1056040\ttotal: 587ms\tremaining: 385ms\n",
      "604:\tlearn: 0.1054057\ttotal: 588ms\tremaining: 384ms\n",
      "605:\tlearn: 0.1052742\ttotal: 589ms\tremaining: 383ms\n",
      "606:\tlearn: 0.1050811\ttotal: 590ms\tremaining: 382ms\n",
      "607:\tlearn: 0.1049091\ttotal: 591ms\tremaining: 381ms\n",
      "608:\tlearn: 0.1047384\ttotal: 592ms\tremaining: 380ms\n",
      "609:\tlearn: 0.1047120\ttotal: 593ms\tremaining: 379ms\n",
      "610:\tlearn: 0.1045276\ttotal: 594ms\tremaining: 378ms\n",
      "611:\tlearn: 0.1043920\ttotal: 595ms\tremaining: 377ms\n",
      "612:\tlearn: 0.1042199\ttotal: 595ms\tremaining: 376ms\n",
      "613:\tlearn: 0.1041394\ttotal: 596ms\tremaining: 375ms\n",
      "614:\tlearn: 0.1039872\ttotal: 597ms\tremaining: 374ms\n",
      "615:\tlearn: 0.1038625\ttotal: 599ms\tremaining: 374ms\n",
      "616:\tlearn: 0.1036803\ttotal: 600ms\tremaining: 373ms\n",
      "617:\tlearn: 0.1034546\ttotal: 601ms\tremaining: 372ms\n",
      "618:\tlearn: 0.1032387\ttotal: 602ms\tremaining: 370ms\n",
      "619:\tlearn: 0.1030993\ttotal: 603ms\tremaining: 369ms\n",
      "620:\tlearn: 0.1029152\ttotal: 603ms\tremaining: 368ms\n",
      "621:\tlearn: 0.1028294\ttotal: 604ms\tremaining: 367ms\n",
      "622:\tlearn: 0.1026547\ttotal: 606ms\tremaining: 367ms\n",
      "623:\tlearn: 0.1024820\ttotal: 607ms\tremaining: 366ms\n",
      "624:\tlearn: 0.1022590\ttotal: 607ms\tremaining: 364ms\n",
      "625:\tlearn: 0.1021806\ttotal: 608ms\tremaining: 363ms\n",
      "626:\tlearn: 0.1020358\ttotal: 609ms\tremaining: 362ms\n",
      "627:\tlearn: 0.1018178\ttotal: 610ms\tremaining: 361ms\n",
      "628:\tlearn: 0.1015991\ttotal: 611ms\tremaining: 360ms\n",
      "629:\tlearn: 0.1014682\ttotal: 613ms\tremaining: 360ms\n",
      "630:\tlearn: 0.1013309\ttotal: 613ms\tremaining: 359ms\n",
      "631:\tlearn: 0.1010990\ttotal: 614ms\tremaining: 358ms\n",
      "632:\tlearn: 0.1010440\ttotal: 615ms\tremaining: 357ms\n",
      "633:\tlearn: 0.1008044\ttotal: 616ms\tremaining: 356ms\n",
      "634:\tlearn: 0.1007175\ttotal: 617ms\tremaining: 355ms\n",
      "635:\tlearn: 0.1005877\ttotal: 618ms\tremaining: 354ms\n",
      "636:\tlearn: 0.1004851\ttotal: 619ms\tremaining: 353ms\n",
      "637:\tlearn: 0.1003654\ttotal: 620ms\tremaining: 352ms\n",
      "638:\tlearn: 0.1002511\ttotal: 621ms\tremaining: 351ms\n",
      "639:\tlearn: 0.1000902\ttotal: 621ms\tremaining: 350ms\n",
      "640:\tlearn: 0.0998702\ttotal: 622ms\tremaining: 349ms\n",
      "641:\tlearn: 0.0995883\ttotal: 623ms\tremaining: 347ms\n",
      "642:\tlearn: 0.0994589\ttotal: 624ms\tremaining: 346ms\n",
      "643:\tlearn: 0.0993119\ttotal: 625ms\tremaining: 345ms\n",
      "644:\tlearn: 0.0991277\ttotal: 626ms\tremaining: 344ms\n",
      "645:\tlearn: 0.0988649\ttotal: 627ms\tremaining: 343ms\n",
      "646:\tlearn: 0.0987232\ttotal: 628ms\tremaining: 342ms\n",
      "647:\tlearn: 0.0985409\ttotal: 628ms\tremaining: 341ms\n",
      "648:\tlearn: 0.0983230\ttotal: 629ms\tremaining: 340ms\n",
      "649:\tlearn: 0.0981289\ttotal: 630ms\tremaining: 339ms\n",
      "650:\tlearn: 0.0978121\ttotal: 631ms\tremaining: 338ms\n",
      "651:\tlearn: 0.0975941\ttotal: 632ms\tremaining: 337ms\n",
      "652:\tlearn: 0.0975795\ttotal: 633ms\tremaining: 336ms\n",
      "653:\tlearn: 0.0974376\ttotal: 633ms\tremaining: 335ms\n",
      "654:\tlearn: 0.0973229\ttotal: 634ms\tremaining: 334ms\n",
      "655:\tlearn: 0.0971778\ttotal: 635ms\tremaining: 333ms\n",
      "656:\tlearn: 0.0969626\ttotal: 636ms\tremaining: 332ms\n",
      "657:\tlearn: 0.0968324\ttotal: 637ms\tremaining: 331ms\n",
      "658:\tlearn: 0.0966985\ttotal: 638ms\tremaining: 330ms\n",
      "659:\tlearn: 0.0965252\ttotal: 638ms\tremaining: 329ms\n",
      "660:\tlearn: 0.0963299\ttotal: 639ms\tremaining: 328ms\n",
      "661:\tlearn: 0.0962034\ttotal: 640ms\tremaining: 327ms\n",
      "662:\tlearn: 0.0960705\ttotal: 641ms\tremaining: 326ms\n",
      "663:\tlearn: 0.0959871\ttotal: 642ms\tremaining: 325ms\n",
      "664:\tlearn: 0.0958879\ttotal: 642ms\tremaining: 324ms\n",
      "665:\tlearn: 0.0958199\ttotal: 643ms\tremaining: 323ms\n",
      "666:\tlearn: 0.0955475\ttotal: 644ms\tremaining: 322ms\n",
      "667:\tlearn: 0.0953344\ttotal: 645ms\tremaining: 321ms\n",
      "668:\tlearn: 0.0951309\ttotal: 646ms\tremaining: 319ms\n",
      "669:\tlearn: 0.0950774\ttotal: 647ms\tremaining: 318ms\n",
      "670:\tlearn: 0.0949328\ttotal: 647ms\tremaining: 317ms\n",
      "671:\tlearn: 0.0947862\ttotal: 648ms\tremaining: 316ms\n",
      "672:\tlearn: 0.0946385\ttotal: 649ms\tremaining: 315ms\n",
      "673:\tlearn: 0.0945416\ttotal: 650ms\tremaining: 314ms\n",
      "674:\tlearn: 0.0944535\ttotal: 651ms\tremaining: 314ms\n",
      "675:\tlearn: 0.0943814\ttotal: 652ms\tremaining: 313ms\n",
      "676:\tlearn: 0.0942454\ttotal: 653ms\tremaining: 312ms\n",
      "677:\tlearn: 0.0941211\ttotal: 654ms\tremaining: 311ms\n",
      "678:\tlearn: 0.0939518\ttotal: 655ms\tremaining: 310ms\n",
      "679:\tlearn: 0.0938957\ttotal: 656ms\tremaining: 309ms\n",
      "680:\tlearn: 0.0937800\ttotal: 656ms\tremaining: 308ms\n",
      "681:\tlearn: 0.0936182\ttotal: 657ms\tremaining: 307ms\n",
      "682:\tlearn: 0.0934650\ttotal: 658ms\tremaining: 306ms\n",
      "683:\tlearn: 0.0932846\ttotal: 659ms\tremaining: 305ms\n",
      "684:\tlearn: 0.0931656\ttotal: 660ms\tremaining: 304ms\n",
      "685:\tlearn: 0.0930351\ttotal: 661ms\tremaining: 303ms\n",
      "686:\tlearn: 0.0928648\ttotal: 662ms\tremaining: 302ms\n",
      "687:\tlearn: 0.0926902\ttotal: 663ms\tremaining: 301ms\n",
      "688:\tlearn: 0.0925563\ttotal: 664ms\tremaining: 300ms\n",
      "689:\tlearn: 0.0924324\ttotal: 665ms\tremaining: 299ms\n",
      "690:\tlearn: 0.0924156\ttotal: 666ms\tremaining: 298ms\n",
      "691:\tlearn: 0.0922873\ttotal: 666ms\tremaining: 297ms\n",
      "692:\tlearn: 0.0920880\ttotal: 667ms\tremaining: 296ms\n",
      "693:\tlearn: 0.0919617\ttotal: 668ms\tremaining: 295ms\n",
      "694:\tlearn: 0.0918514\ttotal: 669ms\tremaining: 294ms\n",
      "695:\tlearn: 0.0917512\ttotal: 670ms\tremaining: 293ms\n",
      "696:\tlearn: 0.0915165\ttotal: 671ms\tremaining: 292ms\n",
      "697:\tlearn: 0.0913854\ttotal: 671ms\tremaining: 291ms\n"
     ]
    },
    {
     "name": "stdout",
     "output_type": "stream",
     "text": [
      "698:\tlearn: 0.0912691\ttotal: 672ms\tremaining: 290ms\n",
      "699:\tlearn: 0.0910793\ttotal: 674ms\tremaining: 289ms\n",
      "700:\tlearn: 0.0909287\ttotal: 675ms\tremaining: 288ms\n",
      "701:\tlearn: 0.0907938\ttotal: 676ms\tremaining: 287ms\n",
      "702:\tlearn: 0.0906536\ttotal: 677ms\tremaining: 286ms\n",
      "703:\tlearn: 0.0905519\ttotal: 678ms\tremaining: 285ms\n",
      "704:\tlearn: 0.0904581\ttotal: 679ms\tremaining: 284ms\n",
      "705:\tlearn: 0.0903090\ttotal: 680ms\tremaining: 283ms\n",
      "706:\tlearn: 0.0902376\ttotal: 681ms\tremaining: 282ms\n",
      "707:\tlearn: 0.0901250\ttotal: 682ms\tremaining: 281ms\n",
      "708:\tlearn: 0.0899609\ttotal: 683ms\tremaining: 280ms\n",
      "709:\tlearn: 0.0898056\ttotal: 683ms\tremaining: 279ms\n",
      "710:\tlearn: 0.0896844\ttotal: 684ms\tremaining: 278ms\n",
      "711:\tlearn: 0.0895853\ttotal: 685ms\tremaining: 277ms\n",
      "712:\tlearn: 0.0894337\ttotal: 686ms\tremaining: 276ms\n",
      "713:\tlearn: 0.0893200\ttotal: 687ms\tremaining: 275ms\n",
      "714:\tlearn: 0.0890854\ttotal: 688ms\tremaining: 274ms\n",
      "715:\tlearn: 0.0890219\ttotal: 689ms\tremaining: 273ms\n",
      "716:\tlearn: 0.0889191\ttotal: 689ms\tremaining: 272ms\n",
      "717:\tlearn: 0.0888060\ttotal: 690ms\tremaining: 271ms\n",
      "718:\tlearn: 0.0887340\ttotal: 691ms\tremaining: 270ms\n",
      "719:\tlearn: 0.0885424\ttotal: 692ms\tremaining: 269ms\n",
      "720:\tlearn: 0.0884366\ttotal: 693ms\tremaining: 268ms\n",
      "721:\tlearn: 0.0883094\ttotal: 694ms\tremaining: 267ms\n",
      "722:\tlearn: 0.0882128\ttotal: 694ms\tremaining: 266ms\n",
      "723:\tlearn: 0.0880722\ttotal: 695ms\tremaining: 265ms\n",
      "724:\tlearn: 0.0879699\ttotal: 696ms\tremaining: 264ms\n",
      "725:\tlearn: 0.0878982\ttotal: 697ms\tremaining: 263ms\n",
      "726:\tlearn: 0.0876735\ttotal: 698ms\tremaining: 262ms\n",
      "727:\tlearn: 0.0875523\ttotal: 698ms\tremaining: 261ms\n",
      "728:\tlearn: 0.0874710\ttotal: 699ms\tremaining: 260ms\n",
      "729:\tlearn: 0.0872803\ttotal: 700ms\tremaining: 259ms\n",
      "730:\tlearn: 0.0871229\ttotal: 701ms\tremaining: 258ms\n",
      "731:\tlearn: 0.0870489\ttotal: 702ms\tremaining: 257ms\n",
      "732:\tlearn: 0.0869344\ttotal: 703ms\tremaining: 256ms\n",
      "733:\tlearn: 0.0868838\ttotal: 704ms\tremaining: 255ms\n",
      "734:\tlearn: 0.0867732\ttotal: 704ms\tremaining: 254ms\n",
      "735:\tlearn: 0.0866142\ttotal: 705ms\tremaining: 253ms\n",
      "736:\tlearn: 0.0864289\ttotal: 706ms\tremaining: 252ms\n",
      "737:\tlearn: 0.0863339\ttotal: 707ms\tremaining: 251ms\n",
      "738:\tlearn: 0.0862323\ttotal: 708ms\tremaining: 250ms\n",
      "739:\tlearn: 0.0861468\ttotal: 709ms\tremaining: 249ms\n",
      "740:\tlearn: 0.0859506\ttotal: 710ms\tremaining: 248ms\n",
      "741:\tlearn: 0.0858096\ttotal: 710ms\tremaining: 247ms\n",
      "742:\tlearn: 0.0857122\ttotal: 711ms\tremaining: 246ms\n",
      "743:\tlearn: 0.0856236\ttotal: 712ms\tremaining: 245ms\n",
      "744:\tlearn: 0.0854979\ttotal: 713ms\tremaining: 244ms\n",
      "745:\tlearn: 0.0853934\ttotal: 714ms\tremaining: 243ms\n",
      "746:\tlearn: 0.0852975\ttotal: 714ms\tremaining: 242ms\n",
      "747:\tlearn: 0.0851585\ttotal: 715ms\tremaining: 241ms\n",
      "748:\tlearn: 0.0850516\ttotal: 716ms\tremaining: 240ms\n",
      "749:\tlearn: 0.0849050\ttotal: 717ms\tremaining: 239ms\n",
      "750:\tlearn: 0.0847872\ttotal: 718ms\tremaining: 238ms\n",
      "751:\tlearn: 0.0846962\ttotal: 719ms\tremaining: 237ms\n",
      "752:\tlearn: 0.0846458\ttotal: 719ms\tremaining: 236ms\n",
      "753:\tlearn: 0.0845674\ttotal: 720ms\tremaining: 235ms\n",
      "754:\tlearn: 0.0843644\ttotal: 721ms\tremaining: 234ms\n",
      "755:\tlearn: 0.0841510\ttotal: 722ms\tremaining: 233ms\n",
      "756:\tlearn: 0.0840852\ttotal: 723ms\tremaining: 232ms\n",
      "757:\tlearn: 0.0839441\ttotal: 724ms\tremaining: 231ms\n",
      "758:\tlearn: 0.0837483\ttotal: 724ms\tremaining: 230ms\n",
      "759:\tlearn: 0.0836706\ttotal: 725ms\tremaining: 229ms\n",
      "760:\tlearn: 0.0835633\ttotal: 726ms\tremaining: 228ms\n",
      "761:\tlearn: 0.0834517\ttotal: 727ms\tremaining: 227ms\n",
      "762:\tlearn: 0.0832519\ttotal: 728ms\tremaining: 226ms\n",
      "763:\tlearn: 0.0831641\ttotal: 729ms\tremaining: 225ms\n",
      "764:\tlearn: 0.0830953\ttotal: 729ms\tremaining: 224ms\n",
      "765:\tlearn: 0.0829796\ttotal: 730ms\tremaining: 223ms\n",
      "766:\tlearn: 0.0828398\ttotal: 731ms\tremaining: 222ms\n",
      "767:\tlearn: 0.0827844\ttotal: 732ms\tremaining: 221ms\n",
      "768:\tlearn: 0.0827163\ttotal: 732ms\tremaining: 220ms\n",
      "769:\tlearn: 0.0825746\ttotal: 733ms\tremaining: 219ms\n",
      "770:\tlearn: 0.0824846\ttotal: 734ms\tremaining: 218ms\n",
      "771:\tlearn: 0.0824174\ttotal: 735ms\tremaining: 217ms\n",
      "772:\tlearn: 0.0821899\ttotal: 736ms\tremaining: 216ms\n",
      "773:\tlearn: 0.0820434\ttotal: 737ms\tremaining: 215ms\n",
      "774:\tlearn: 0.0818919\ttotal: 738ms\tremaining: 214ms\n",
      "775:\tlearn: 0.0818202\ttotal: 738ms\tremaining: 213ms\n",
      "776:\tlearn: 0.0818067\ttotal: 739ms\tremaining: 212ms\n",
      "777:\tlearn: 0.0815716\ttotal: 740ms\tremaining: 211ms\n",
      "778:\tlearn: 0.0814493\ttotal: 741ms\tremaining: 210ms\n",
      "779:\tlearn: 0.0812424\ttotal: 742ms\tremaining: 209ms\n",
      "780:\tlearn: 0.0811716\ttotal: 743ms\tremaining: 208ms\n",
      "781:\tlearn: 0.0811302\ttotal: 744ms\tremaining: 207ms\n",
      "782:\tlearn: 0.0809477\ttotal: 744ms\tremaining: 206ms\n",
      "783:\tlearn: 0.0808022\ttotal: 745ms\tremaining: 205ms\n",
      "784:\tlearn: 0.0806358\ttotal: 746ms\tremaining: 204ms\n",
      "785:\tlearn: 0.0804804\ttotal: 747ms\tremaining: 203ms\n",
      "786:\tlearn: 0.0802879\ttotal: 748ms\tremaining: 202ms\n",
      "787:\tlearn: 0.0802156\ttotal: 749ms\tremaining: 201ms\n",
      "788:\tlearn: 0.0801221\ttotal: 749ms\tremaining: 200ms\n",
      "789:\tlearn: 0.0799459\ttotal: 750ms\tremaining: 199ms\n",
      "790:\tlearn: 0.0799051\ttotal: 751ms\tremaining: 198ms\n",
      "791:\tlearn: 0.0797975\ttotal: 752ms\tremaining: 197ms\n",
      "792:\tlearn: 0.0796976\ttotal: 752ms\tremaining: 196ms\n",
      "793:\tlearn: 0.0796165\ttotal: 753ms\tremaining: 195ms\n",
      "794:\tlearn: 0.0795377\ttotal: 754ms\tremaining: 194ms\n",
      "795:\tlearn: 0.0793782\ttotal: 755ms\tremaining: 194ms\n",
      "796:\tlearn: 0.0791892\ttotal: 756ms\tremaining: 193ms\n",
      "797:\tlearn: 0.0790311\ttotal: 757ms\tremaining: 192ms\n",
      "798:\tlearn: 0.0789582\ttotal: 758ms\tremaining: 191ms\n",
      "799:\tlearn: 0.0788544\ttotal: 758ms\tremaining: 190ms\n",
      "800:\tlearn: 0.0788042\ttotal: 759ms\tremaining: 189ms\n",
      "801:\tlearn: 0.0786511\ttotal: 760ms\tremaining: 188ms\n",
      "802:\tlearn: 0.0786052\ttotal: 761ms\tremaining: 187ms\n"
     ]
    },
    {
     "name": "stdout",
     "output_type": "stream",
     "text": [
      "803:\tlearn: 0.0784310\ttotal: 762ms\tremaining: 186ms\n",
      "804:\tlearn: 0.0784157\ttotal: 763ms\tremaining: 185ms\n",
      "805:\tlearn: 0.0783497\ttotal: 764ms\tremaining: 184ms\n",
      "806:\tlearn: 0.0782201\ttotal: 765ms\tremaining: 183ms\n",
      "807:\tlearn: 0.0780739\ttotal: 766ms\tremaining: 182ms\n",
      "808:\tlearn: 0.0779550\ttotal: 766ms\tremaining: 181ms\n",
      "809:\tlearn: 0.0778510\ttotal: 767ms\tremaining: 180ms\n",
      "810:\tlearn: 0.0777229\ttotal: 768ms\tremaining: 179ms\n",
      "811:\tlearn: 0.0775100\ttotal: 769ms\tremaining: 178ms\n",
      "812:\tlearn: 0.0774391\ttotal: 770ms\tremaining: 177ms\n",
      "813:\tlearn: 0.0773327\ttotal: 771ms\tremaining: 176ms\n",
      "814:\tlearn: 0.0771874\ttotal: 772ms\tremaining: 175ms\n",
      "815:\tlearn: 0.0770898\ttotal: 772ms\tremaining: 174ms\n",
      "816:\tlearn: 0.0770217\ttotal: 773ms\tremaining: 173ms\n",
      "817:\tlearn: 0.0769767\ttotal: 774ms\tremaining: 172ms\n",
      "818:\tlearn: 0.0769249\ttotal: 775ms\tremaining: 171ms\n",
      "819:\tlearn: 0.0768383\ttotal: 776ms\tremaining: 170ms\n",
      "820:\tlearn: 0.0767537\ttotal: 777ms\tremaining: 169ms\n",
      "821:\tlearn: 0.0766436\ttotal: 778ms\tremaining: 168ms\n",
      "822:\tlearn: 0.0765921\ttotal: 779ms\tremaining: 168ms\n",
      "823:\tlearn: 0.0765237\ttotal: 780ms\tremaining: 167ms\n",
      "824:\tlearn: 0.0764160\ttotal: 781ms\tremaining: 166ms\n",
      "825:\tlearn: 0.0764047\ttotal: 782ms\tremaining: 165ms\n",
      "826:\tlearn: 0.0763082\ttotal: 783ms\tremaining: 164ms\n",
      "827:\tlearn: 0.0762959\ttotal: 784ms\tremaining: 163ms\n",
      "828:\tlearn: 0.0762464\ttotal: 785ms\tremaining: 162ms\n",
      "829:\tlearn: 0.0760590\ttotal: 786ms\tremaining: 161ms\n",
      "830:\tlearn: 0.0759794\ttotal: 786ms\tremaining: 160ms\n",
      "831:\tlearn: 0.0758488\ttotal: 787ms\tremaining: 159ms\n",
      "832:\tlearn: 0.0757758\ttotal: 788ms\tremaining: 158ms\n",
      "833:\tlearn: 0.0756360\ttotal: 790ms\tremaining: 157ms\n",
      "834:\tlearn: 0.0755656\ttotal: 791ms\tremaining: 156ms\n",
      "835:\tlearn: 0.0754098\ttotal: 792ms\tremaining: 155ms\n",
      "836:\tlearn: 0.0752759\ttotal: 793ms\tremaining: 154ms\n",
      "837:\tlearn: 0.0751457\ttotal: 794ms\tremaining: 153ms\n",
      "838:\tlearn: 0.0751384\ttotal: 795ms\tremaining: 152ms\n",
      "839:\tlearn: 0.0749864\ttotal: 796ms\tremaining: 152ms\n",
      "840:\tlearn: 0.0749173\ttotal: 796ms\tremaining: 151ms\n",
      "841:\tlearn: 0.0748454\ttotal: 797ms\tremaining: 150ms\n",
      "842:\tlearn: 0.0747850\ttotal: 798ms\tremaining: 149ms\n",
      "843:\tlearn: 0.0746565\ttotal: 799ms\tremaining: 148ms\n",
      "844:\tlearn: 0.0745828\ttotal: 800ms\tremaining: 147ms\n",
      "845:\tlearn: 0.0744463\ttotal: 801ms\tremaining: 146ms\n",
      "846:\tlearn: 0.0744300\ttotal: 801ms\tremaining: 145ms\n",
      "847:\tlearn: 0.0743148\ttotal: 802ms\tremaining: 144ms\n",
      "848:\tlearn: 0.0742473\ttotal: 803ms\tremaining: 143ms\n",
      "849:\tlearn: 0.0741409\ttotal: 804ms\tremaining: 142ms\n",
      "850:\tlearn: 0.0740690\ttotal: 805ms\tremaining: 141ms\n",
      "851:\tlearn: 0.0740312\ttotal: 806ms\tremaining: 140ms\n",
      "852:\tlearn: 0.0739361\ttotal: 807ms\tremaining: 139ms\n",
      "853:\tlearn: 0.0738820\ttotal: 808ms\tremaining: 138ms\n",
      "854:\tlearn: 0.0737331\ttotal: 808ms\tremaining: 137ms\n",
      "855:\tlearn: 0.0736707\ttotal: 809ms\tremaining: 136ms\n",
      "856:\tlearn: 0.0735426\ttotal: 810ms\tremaining: 135ms\n",
      "857:\tlearn: 0.0734499\ttotal: 811ms\tremaining: 134ms\n",
      "858:\tlearn: 0.0733573\ttotal: 812ms\tremaining: 133ms\n",
      "859:\tlearn: 0.0732516\ttotal: 813ms\tremaining: 132ms\n",
      "860:\tlearn: 0.0731198\ttotal: 813ms\tremaining: 131ms\n",
      "861:\tlearn: 0.0729660\ttotal: 814ms\tremaining: 130ms\n",
      "862:\tlearn: 0.0728114\ttotal: 815ms\tremaining: 129ms\n",
      "863:\tlearn: 0.0727669\ttotal: 816ms\tremaining: 128ms\n",
      "864:\tlearn: 0.0727559\ttotal: 817ms\tremaining: 127ms\n",
      "865:\tlearn: 0.0726304\ttotal: 818ms\tremaining: 127ms\n",
      "866:\tlearn: 0.0725042\ttotal: 818ms\tremaining: 126ms\n",
      "867:\tlearn: 0.0724225\ttotal: 820ms\tremaining: 125ms\n",
      "868:\tlearn: 0.0723595\ttotal: 821ms\tremaining: 124ms\n",
      "869:\tlearn: 0.0722398\ttotal: 821ms\tremaining: 123ms\n",
      "870:\tlearn: 0.0722052\ttotal: 822ms\tremaining: 122ms\n",
      "871:\tlearn: 0.0721804\ttotal: 823ms\tremaining: 121ms\n",
      "872:\tlearn: 0.0720369\ttotal: 824ms\tremaining: 120ms\n",
      "873:\tlearn: 0.0718958\ttotal: 825ms\tremaining: 119ms\n",
      "874:\tlearn: 0.0717843\ttotal: 826ms\tremaining: 118ms\n",
      "875:\tlearn: 0.0715748\ttotal: 827ms\tremaining: 117ms\n",
      "876:\tlearn: 0.0714040\ttotal: 828ms\tremaining: 116ms\n",
      "877:\tlearn: 0.0713092\ttotal: 829ms\tremaining: 115ms\n",
      "878:\tlearn: 0.0712282\ttotal: 829ms\tremaining: 114ms\n",
      "879:\tlearn: 0.0711225\ttotal: 830ms\tremaining: 113ms\n",
      "880:\tlearn: 0.0710348\ttotal: 831ms\tremaining: 112ms\n",
      "881:\tlearn: 0.0709145\ttotal: 832ms\tremaining: 111ms\n",
      "882:\tlearn: 0.0708082\ttotal: 833ms\tremaining: 110ms\n",
      "883:\tlearn: 0.0707996\ttotal: 833ms\tremaining: 109ms\n",
      "884:\tlearn: 0.0706568\ttotal: 834ms\tremaining: 108ms\n",
      "885:\tlearn: 0.0704723\ttotal: 836ms\tremaining: 108ms\n",
      "886:\tlearn: 0.0703901\ttotal: 837ms\tremaining: 107ms\n",
      "887:\tlearn: 0.0703190\ttotal: 838ms\tremaining: 106ms\n",
      "888:\tlearn: 0.0702716\ttotal: 839ms\tremaining: 105ms\n",
      "889:\tlearn: 0.0701964\ttotal: 839ms\tremaining: 104ms\n",
      "890:\tlearn: 0.0700651\ttotal: 840ms\tremaining: 103ms\n",
      "891:\tlearn: 0.0700009\ttotal: 841ms\tremaining: 102ms\n",
      "892:\tlearn: 0.0698735\ttotal: 842ms\tremaining: 101ms\n",
      "893:\tlearn: 0.0698101\ttotal: 843ms\tremaining: 99.9ms\n",
      "894:\tlearn: 0.0696571\ttotal: 844ms\tremaining: 99ms\n",
      "895:\tlearn: 0.0695790\ttotal: 845ms\tremaining: 98ms\n",
      "896:\tlearn: 0.0695056\ttotal: 846ms\tremaining: 97.1ms\n",
      "897:\tlearn: 0.0694286\ttotal: 846ms\tremaining: 96.1ms\n",
      "898:\tlearn: 0.0693486\ttotal: 847ms\tremaining: 95.2ms\n",
      "899:\tlearn: 0.0692022\ttotal: 848ms\tremaining: 94.2ms\n",
      "900:\tlearn: 0.0691459\ttotal: 849ms\tremaining: 93.3ms\n",
      "901:\tlearn: 0.0690233\ttotal: 850ms\tremaining: 92.3ms\n",
      "902:\tlearn: 0.0688997\ttotal: 851ms\tremaining: 91.4ms\n",
      "903:\tlearn: 0.0687390\ttotal: 851ms\tremaining: 90.4ms\n",
      "904:\tlearn: 0.0686687\ttotal: 852ms\tremaining: 89.5ms\n",
      "905:\tlearn: 0.0685875\ttotal: 853ms\tremaining: 88.5ms\n",
      "906:\tlearn: 0.0685147\ttotal: 854ms\tremaining: 87.6ms\n",
      "907:\tlearn: 0.0683759\ttotal: 855ms\tremaining: 86.6ms\n",
      "908:\tlearn: 0.0682526\ttotal: 856ms\tremaining: 85.7ms\n",
      "909:\tlearn: 0.0681547\ttotal: 857ms\tremaining: 84.8ms\n",
      "910:\tlearn: 0.0680896\ttotal: 858ms\tremaining: 83.9ms\n",
      "911:\tlearn: 0.0679655\ttotal: 860ms\tremaining: 83ms\n",
      "912:\tlearn: 0.0678639\ttotal: 861ms\tremaining: 82ms\n",
      "913:\tlearn: 0.0678025\ttotal: 861ms\tremaining: 81ms\n",
      "914:\tlearn: 0.0677151\ttotal: 862ms\tremaining: 80.1ms\n"
     ]
    },
    {
     "name": "stdout",
     "output_type": "stream",
     "text": [
      "915:\tlearn: 0.0676814\ttotal: 863ms\tremaining: 79.2ms\n",
      "916:\tlearn: 0.0675380\ttotal: 864ms\tremaining: 78.2ms\n",
      "917:\tlearn: 0.0673852\ttotal: 865ms\tremaining: 77.3ms\n",
      "918:\tlearn: 0.0672876\ttotal: 866ms\tremaining: 76.3ms\n",
      "919:\tlearn: 0.0671471\ttotal: 867ms\tremaining: 75.4ms\n",
      "920:\tlearn: 0.0670349\ttotal: 868ms\tremaining: 74.4ms\n",
      "921:\tlearn: 0.0668857\ttotal: 869ms\tremaining: 73.5ms\n",
      "922:\tlearn: 0.0667982\ttotal: 869ms\tremaining: 72.5ms\n",
      "923:\tlearn: 0.0667184\ttotal: 870ms\tremaining: 71.6ms\n",
      "924:\tlearn: 0.0666474\ttotal: 871ms\tremaining: 70.6ms\n",
      "925:\tlearn: 0.0665329\ttotal: 872ms\tremaining: 69.7ms\n",
      "926:\tlearn: 0.0665168\ttotal: 873ms\tremaining: 68.7ms\n",
      "927:\tlearn: 0.0664327\ttotal: 874ms\tremaining: 67.8ms\n",
      "928:\tlearn: 0.0663807\ttotal: 874ms\tremaining: 66.8ms\n",
      "929:\tlearn: 0.0662620\ttotal: 875ms\tremaining: 65.9ms\n",
      "930:\tlearn: 0.0662138\ttotal: 876ms\tremaining: 64.9ms\n",
      "931:\tlearn: 0.0661827\ttotal: 877ms\tremaining: 64ms\n",
      "932:\tlearn: 0.0660943\ttotal: 878ms\tremaining: 63ms\n",
      "933:\tlearn: 0.0659795\ttotal: 879ms\tremaining: 62.1ms\n",
      "934:\tlearn: 0.0658590\ttotal: 880ms\tremaining: 61.1ms\n",
      "935:\tlearn: 0.0657708\ttotal: 880ms\tremaining: 60.2ms\n",
      "936:\tlearn: 0.0656573\ttotal: 881ms\tremaining: 59.3ms\n",
      "937:\tlearn: 0.0656028\ttotal: 882ms\tremaining: 58.3ms\n",
      "938:\tlearn: 0.0655925\ttotal: 883ms\tremaining: 57.4ms\n",
      "939:\tlearn: 0.0655818\ttotal: 884ms\tremaining: 56.4ms\n",
      "940:\tlearn: 0.0654471\ttotal: 885ms\tremaining: 55.5ms\n",
      "941:\tlearn: 0.0654361\ttotal: 886ms\tremaining: 54.5ms\n",
      "942:\tlearn: 0.0653184\ttotal: 886ms\tremaining: 53.6ms\n",
      "943:\tlearn: 0.0652936\ttotal: 887ms\tremaining: 52.6ms\n",
      "944:\tlearn: 0.0652820\ttotal: 888ms\tremaining: 51.7ms\n",
      "945:\tlearn: 0.0651561\ttotal: 889ms\tremaining: 50.8ms\n",
      "946:\tlearn: 0.0650022\ttotal: 890ms\tremaining: 49.8ms\n",
      "947:\tlearn: 0.0649424\ttotal: 891ms\tremaining: 48.9ms\n",
      "948:\tlearn: 0.0647953\ttotal: 892ms\tremaining: 47.9ms\n",
      "949:\tlearn: 0.0647697\ttotal: 893ms\tremaining: 47ms\n",
      "950:\tlearn: 0.0646652\ttotal: 894ms\tremaining: 46.1ms\n",
      "951:\tlearn: 0.0646250\ttotal: 894ms\tremaining: 45.1ms\n",
      "952:\tlearn: 0.0645454\ttotal: 895ms\tremaining: 44.2ms\n",
      "953:\tlearn: 0.0645381\ttotal: 896ms\tremaining: 43.2ms\n",
      "954:\tlearn: 0.0644449\ttotal: 897ms\tremaining: 42.3ms\n",
      "955:\tlearn: 0.0643871\ttotal: 898ms\tremaining: 41.3ms\n",
      "956:\tlearn: 0.0643624\ttotal: 899ms\tremaining: 40.4ms\n",
      "957:\tlearn: 0.0642109\ttotal: 899ms\tremaining: 39.4ms\n",
      "958:\tlearn: 0.0641296\ttotal: 900ms\tremaining: 38.5ms\n",
      "959:\tlearn: 0.0640473\ttotal: 901ms\tremaining: 37.5ms\n",
      "960:\tlearn: 0.0639339\ttotal: 902ms\tremaining: 36.6ms\n",
      "961:\tlearn: 0.0638548\ttotal: 903ms\tremaining: 35.7ms\n",
      "962:\tlearn: 0.0637091\ttotal: 904ms\tremaining: 34.7ms\n",
      "963:\tlearn: 0.0636391\ttotal: 904ms\tremaining: 33.8ms\n",
      "964:\tlearn: 0.0636292\ttotal: 905ms\tremaining: 32.8ms\n",
      "965:\tlearn: 0.0635460\ttotal: 906ms\tremaining: 31.9ms\n",
      "966:\tlearn: 0.0635384\ttotal: 907ms\tremaining: 31ms\n",
      "967:\tlearn: 0.0633868\ttotal: 909ms\tremaining: 30ms\n",
      "968:\tlearn: 0.0633555\ttotal: 909ms\tremaining: 29.1ms\n",
      "969:\tlearn: 0.0633136\ttotal: 910ms\tremaining: 28.2ms\n",
      "970:\tlearn: 0.0632623\ttotal: 911ms\tremaining: 27.2ms\n",
      "971:\tlearn: 0.0630980\ttotal: 912ms\tremaining: 26.3ms\n",
      "972:\tlearn: 0.0630749\ttotal: 913ms\tremaining: 25.3ms\n",
      "973:\tlearn: 0.0630234\ttotal: 913ms\tremaining: 24.4ms\n",
      "974:\tlearn: 0.0630094\ttotal: 914ms\tremaining: 23.4ms\n",
      "975:\tlearn: 0.0629646\ttotal: 915ms\tremaining: 22.5ms\n",
      "976:\tlearn: 0.0629490\ttotal: 916ms\tremaining: 21.6ms\n",
      "977:\tlearn: 0.0629345\ttotal: 917ms\tremaining: 20.6ms\n",
      "978:\tlearn: 0.0628103\ttotal: 918ms\tremaining: 19.7ms\n",
      "979:\tlearn: 0.0626489\ttotal: 919ms\tremaining: 18.7ms\n",
      "980:\tlearn: 0.0626359\ttotal: 919ms\tremaining: 17.8ms\n",
      "981:\tlearn: 0.0626250\ttotal: 920ms\tremaining: 16.9ms\n",
      "982:\tlearn: 0.0625527\ttotal: 921ms\tremaining: 15.9ms\n",
      "983:\tlearn: 0.0625394\ttotal: 921ms\tremaining: 15ms\n",
      "984:\tlearn: 0.0624650\ttotal: 922ms\tremaining: 14ms\n",
      "985:\tlearn: 0.0623724\ttotal: 923ms\tremaining: 13.1ms\n",
      "986:\tlearn: 0.0622798\ttotal: 924ms\tremaining: 12.2ms\n",
      "987:\tlearn: 0.0622062\ttotal: 925ms\tremaining: 11.2ms\n",
      "988:\tlearn: 0.0621829\ttotal: 926ms\tremaining: 10.3ms\n",
      "989:\tlearn: 0.0621213\ttotal: 926ms\tremaining: 9.36ms\n",
      "990:\tlearn: 0.0619943\ttotal: 927ms\tremaining: 8.42ms\n",
      "991:\tlearn: 0.0619060\ttotal: 928ms\tremaining: 7.48ms\n",
      "992:\tlearn: 0.0618449\ttotal: 929ms\tremaining: 6.55ms\n",
      "993:\tlearn: 0.0617588\ttotal: 930ms\tremaining: 5.61ms\n",
      "994:\tlearn: 0.0616503\ttotal: 930ms\tremaining: 4.67ms\n",
      "995:\tlearn: 0.0616443\ttotal: 931ms\tremaining: 3.74ms\n",
      "996:\tlearn: 0.0615227\ttotal: 932ms\tremaining: 2.8ms\n",
      "997:\tlearn: 0.0614076\ttotal: 933ms\tremaining: 1.87ms\n",
      "998:\tlearn: 0.0613020\ttotal: 934ms\tremaining: 934us\n",
      "999:\tlearn: 0.0612393\ttotal: 935ms\tremaining: 0us\n"
     ]
    },
    {
     "data": {
      "text/plain": [
       "<catboost.core.CatBoostRegressor at 0x7fa29856feb0>"
      ]
     },
     "execution_count": 9,
     "metadata": {},
     "output_type": "execute_result"
    }
   ],
   "source": [
    "#Train the Model \n",
    "prior_model = ctb.CatBoostRegressor()\n",
    "prior_model.fit(X_train,Y_train)"
   ]
  },
  {
   "cell_type": "code",
   "execution_count": 10,
   "id": "af65dcda",
   "metadata": {
    "execution": {
     "iopub.execute_input": "2022-06-12T07:06:52.638253Z",
     "iopub.status.busy": "2022-06-12T07:06:52.637864Z",
     "iopub.status.idle": "2022-06-12T07:06:52.645465Z",
     "shell.execute_reply": "2022-06-12T07:06:52.645755Z"
    },
    "id": "af65dcda",
    "papermill": {
     "duration": 0.021217,
     "end_time": "2022-06-12T07:06:52.645891",
     "exception": false,
     "start_time": "2022-06-12T07:06:52.624674",
     "status": "completed"
    },
    "tags": []
   },
   "outputs": [
    {
     "data": {
      "application/scrapbook.scrap.json+json": {
       "data": 0.11193238210427024,
       "encoder": "json",
       "name": "Prior Model MSE",
       "version": 1
      }
     },
     "metadata": {
      "scrapbook": {
       "data": true,
       "display": false,
       "name": "Prior Model MSE"
      }
     },
     "output_type": "display_data"
    },
    {
     "data": {
      "application/scrapbook.scrap.json+json": {
       "data": 1.2072503071686538,
       "encoder": "json",
       "name": "ABC Pre-generator MSE",
       "version": 1
      }
     },
     "metadata": {
      "scrapbook": {
       "data": true,
       "display": false,
       "name": "ABC Pre-generator MSE"
      }
     },
     "output_type": "display_data"
    },
    {
     "data": {
      "application/scrapbook.scrap.json+json": {
       "data": 0.2373328745489851,
       "encoder": "json",
       "name": "Prior Model MSE",
       "version": 1
      }
     },
     "metadata": {
      "scrapbook": {
       "data": true,
       "display": false,
       "name": "Prior Model MSE"
      }
     },
     "output_type": "display_data"
    },
    {
     "data": {
      "application/scrapbook.scrap.json+json": {
       "data": 0.900060286587013,
       "encoder": "json",
       "name": "ABC Pre-generator MSE",
       "version": 1
      }
     },
     "metadata": {
      "scrapbook": {
       "data": true,
       "display": false,
       "name": "ABC Pre-generator MSE"
      }
     },
     "output_type": "display_data"
    }
   ],
   "source": [
    "y_pred = prior_model.predict(X_test)\n",
    "y_abc = y_pred + np.random.normal(0,variance, y_pred.shape) + bias \n",
    "mse = mean_squared_error(y_pred,Y_test)\n",
    "sb.glue(\"Prior Model MSE\",mse)\n",
    "mse = mean_squared_error(y_abc,Y_test)\n",
    "sb.glue(\"ABC Pre-generator MSE\",mse)\n",
    "mae = mean_absolute_error(y_pred,Y_test)\n",
    "sb.glue(\"Prior Model MSE\",mae)\n",
    "mae = mean_absolute_error(y_abc,Y_test)\n",
    "sb.glue(\"ABC Pre-generator MSE\",mae)"
   ]
  },
  {
   "cell_type": "markdown",
   "id": "25609da2",
   "metadata": {
    "papermill": {
     "duration": 0.010065,
     "end_time": "2022-06-12T07:06:52.665990",
     "exception": false,
     "start_time": "2022-06-12T07:06:52.655925",
     "status": "completed"
    },
    "tags": []
   },
   "source": [
    "# ABC GAN Model"
   ]
  },
  {
   "cell_type": "code",
   "execution_count": 11,
   "id": "dfc3464d",
   "metadata": {
    "execution": {
     "iopub.execute_input": "2022-06-12T07:06:52.689034Z",
     "iopub.status.busy": "2022-06-12T07:06:52.688665Z",
     "iopub.status.idle": "2022-06-12T07:06:52.690934Z",
     "shell.execute_reply": "2022-06-12T07:06:52.691225Z"
    },
    "papermill": {
     "duration": 0.015578,
     "end_time": "2022-06-12T07:06:52.691362",
     "exception": false,
     "start_time": "2022-06-12T07:06:52.675784",
     "status": "completed"
    },
    "tags": []
   },
   "outputs": [],
   "source": [
    "gen = network.Generator(n_features+1).to(device)\n",
    "disc = network.Discriminator(n_features+1).to(device)\n",
    "\n",
    "criterion = torch.nn.BCELoss()\n",
    "gen_opt = torch.optim.Adam(gen.parameters(), lr=0.001, betas=(0.5, 0.999))\n",
    "disc_opt = torch.optim.Adam(disc.parameters(), lr=0.001, betas=(0.5, 0.999))"
   ]
  },
  {
   "cell_type": "code",
   "execution_count": 12,
   "id": "b75fdd85",
   "metadata": {
    "execution": {
     "iopub.execute_input": "2022-06-12T07:06:52.715315Z",
     "iopub.status.busy": "2022-06-12T07:06:52.714920Z",
     "iopub.status.idle": "2022-06-12T07:07:54.400510Z",
     "shell.execute_reply": "2022-06-12T07:07:54.400818Z"
    },
    "papermill": {
     "duration": 61.699199,
     "end_time": "2022-06-12T07:07:54.400946",
     "exception": false,
     "start_time": "2022-06-12T07:06:52.701747",
     "status": "completed"
    },
    "tags": []
   },
   "outputs": [
    {
     "data": {
      "image/png": "[encoded data removed]",
      "text/plain": [
       "<Figure size 432x288 with 1 Axes>"
      ]
     },
     "metadata": {
      "needs_background": "light"
     },
     "output_type": "display_data"
    },
    {
     "data": {
      "image/png": "[encoded data removed]",
      "text/plain": [
       "<Figure size 432x288 with 1 Axes>"
      ]
     },
     "metadata": {
      "needs_background": "light"
     },
     "output_type": "display_data"
    }
   ],
   "source": [
    "#Training the ABC_GAN \n",
    "ABC_train_test2.training_GAN(disc,gen,disc_opt,gen_opt,train_data,batch_size,n_epochs,criterion,prior_model,variance,bias,device)"
   ]
  },
  {
   "cell_type": "code",
   "execution_count": 13,
   "id": "1fa7c368",
   "metadata": {
    "execution": {
     "iopub.execute_input": "2022-06-12T07:07:54.425792Z",
     "iopub.status.busy": "2022-06-12T07:07:54.425406Z",
     "iopub.status.idle": "2022-06-12T07:07:54.732560Z",
     "shell.execute_reply": "2022-06-12T07:07:54.732865Z"
    },
    "papermill": {
     "duration": 0.321001,
     "end_time": "2022-06-12T07:07:54.732987",
     "exception": false,
     "start_time": "2022-06-12T07:07:54.411986",
     "status": "completed"
    },
    "tags": []
   },
   "outputs": [
    {
     "data": {
      "application/scrapbook.scrap.json+json": {
       "data": 0.18978887815347162,
       "encoder": "json",
       "name": "ABC-GAN Model 1 MSE",
       "version": 1
      }
     },
     "metadata": {
      "scrapbook": {
       "data": true,
       "display": false,
       "name": "ABC-GAN Model 1 MSE"
      }
     },
     "output_type": "display_data"
    },
    {
     "data": {
      "application/scrapbook.scrap.json+json": {
       "data": 0.23638912256624478,
       "encoder": "json",
       "name": "ABC-GAN Model 1 MAE",
       "version": 1
      }
     },
     "metadata": {
      "scrapbook": {
       "data": true,
       "display": false,
       "name": "ABC-GAN Model 1 MAE"
      }
     },
     "output_type": "display_data"
    },
    {
     "data": {
      "application/scrapbook.scrap.json+json": {
       "data": 24.111690501756968,
       "encoder": "json",
       "name": "ABC-GAN Model 1 Manhattan Distance",
       "version": 1
      }
     },
     "metadata": {
      "scrapbook": {
       "data": true,
       "display": false,
       "name": "ABC-GAN Model 1 Manhattan Distance"
      }
     },
     "output_type": "display_data"
    },
    {
     "data": {
      "application/scrapbook.scrap.json+json": {
       "data": 4.399804215661149,
       "encoder": "json",
       "name": "ABC-GAN Model 1 Euclidean distance",
       "version": 1
      }
     },
     "metadata": {
      "scrapbook": {
       "data": true,
       "display": false,
       "name": "ABC-GAN Model 1 Euclidean distance"
      }
     },
     "output_type": "display_data"
    },
    {
     "data": {
      "application/scrapbook.scrap.json+json": {
       "data": [
        [
         0.1896788204357903,
         0.18938826019443983,
         0.19070934353190575,
         0.18970201900975306,
         0.1892692513755775,
         0.18917789917247144,
         0.19175810829337295,
         0.1926503862543515,
         0.18899940092357845,
         0.19085624788152455,
         0.1902718975158698,
         0.1892066034825625,
         0.18785123583239577,
         0.1917672273602275,
         0.18873705839057822,
         0.1878208058184716,
         0.18788809625122158,
         0.1899813748499418,
         0.1910823925636048,
         0.19082266755748664,
         0.19005145218275576,
         0.18822439793016466,
         0.18822119017669517,
         0.1897621310233687,
         0.18957781648519342,
         0.1902546117939785,
         0.19138978477791851,
         0.18893953764005594,
         0.18997912770488234,
         0.18809877893633867,
         0.18921596144614333,
         0.18864733763213934,
         0.1908891095463137,
         0.18979518108827462,
         0.18887152156201226,
         0.18968042252736608,
         0.18779436605413133,
         0.18970815782300554,
         0.19063822316762222,
         0.19155289158254454,
         0.18745735476760803,
         0.18734735622250945,
         0.19268919622052774,
         0.19183554991564422,
         0.18961264886384604,
         0.18861450111242953,
         0.18938359089849335,
         0.18990673876357844,
         0.19153577329884064,
         0.19232602517956002,
         0.19078356343484948,
         0.1905306555175808,
         0.18976068059215132,
         0.18836598238893879,
         0.18749937032913103,
         0.19085537773800093,
         0.19129777476059365,
         0.1908114209272114,
         0.19064905185595357,
         0.18823684151879339,
         0.18875167345418095,
         0.18878562196971949,
         0.19069644563577662,
         0.18959944077283356,
         0.1901064562425421,
         0.18953178857991312,
         0.19002423843898494,
         0.19005117302341026,
         0.18887186991109225,
         0.19111827989502747,
         0.18994001292392393,
         0.19101997024153294,
         0.18921938435468166,
         0.18866436713957577,
         0.1909529171432522,
         0.18851751682653564,
         0.1893516088425136,
         0.18983231549054838,
         0.19011939418668894,
         0.18999777120006459,
         0.19031688516632564,
         0.1895898817010387,
         0.189949045708755,
         0.19095454120140737,
         0.18977830897944475,
         0.188458895242593,
         0.1898912329917775,
         0.18882727194532223,
         0.19151837591413878,
         0.18924402979699986,
         0.1900264073473067,
         0.1891263556970369,
         0.1898804265451799,
         0.18947506827454827,
         0.19052753413497606,
         0.1878942342658499,
         0.19133694689318112,
         0.19075941303919838,
         0.18961901453300406,
         0.18815114761400728
        ],
        [
         0.2368463058590743,
         0.2347728402499913,
         0.23576148050636345,
         0.23703819205619248,
         0.2366448753221216,
         0.23652096679799406,
         0.23675586322468578,
         0.23832226613098206,
         0.23520038929749645,
         0.23654397535959587,
         0.23670268514394469,
         0.23543610287757188,
         0.2360025763274262,
         0.2360010120342029,
         0.23540167575336846,
         0.2336408343513076,
         0.23526562424376607,
         0.23550502173419968,
         0.23650490656020304,
         0.2382573965188189,
         0.2369922283653389,
         0.23545346693044492,
         0.23482103341752114,
         0.23788825008908615,
         0.23821805617498124,
         0.23729967025528645,
         0.2375829775963782,
         0.23511271857126964,
         0.23664651094369737,
         0.23529875883832574,
         0.23562890768745073,
         0.23666525518010353,
         0.23782602872005573,
         0.23578671076535887,
         0.23480341173525826,
         0.23577101739561734,
         0.23564546886721954,
         0.23601669488547772,
         0.2366076925422485,
         0.2382588513542478,
         0.23500562487535326,
         0.23585914720908976,
         0.23733468192136464,
         0.2375400676574631,
         0.23599169026220254,
         0.23557560093810453,
         0.2347345353177219,
         0.23461489973808913,
         0.23766490286581365,
         0.23795661387745948,
         0.23613790447330651,
         0.23589414645753362,
         0.2359693612373781,
         0.23507759565779685,
         0.2346263699069181,
         0.23729074292578825,
         0.23636114570841776,
         0.2362753255749304,
         0.23604994503708154,
         0.23637945477978564,
         0.23612189755829818,
         0.2357525144265417,
         0.2370192353321495,
         0.2346835298847188,
         0.23796741258097337,
         0.23807824708923114,
         0.2375228765384093,
         0.2361888265620698,
         0.23688403289655552,
         0.23681280370253852,
         0.23789995721559606,
         0.23924342512755709,
         0.23625308876930207,
         0.2360678283662042,
         0.23505342900570408,
         0.23584265323063613,
         0.23651369163474323,
         0.23720787965016915,
         0.2372651546371772,
         0.23774272973156152,
         0.23583284048728792,
         0.2373326443336612,
         0.23545652824253135,
         0.2369316152990887,
         0.23753457676217543,
         0.23558994841889716,
         0.23662691182621262,
         0.23696353738470113,
         0.23815309368621776,
         0.23594231044362282,
         0.23483228912650078,
         0.23678284685364834,
         0.2363702263956999,
         0.2354071394029055,
         0.23642335232237682,
         0.23659958203743195,
         0.2365420591725292,
         0.23731891634673172,
         0.23547267438113398,
         0.23688949267471246
        ],
        [
         24.158323197625577,
         23.946829705499113,
         24.047671011649072,
         24.177895589731634,
         24.137777282856405,
         24.125138613395393,
         24.14909804891795,
         24.308871145360172,
         23.99043970834464,
         24.12748548667878,
         24.143673884682357,
         24.014482493512332,
         24.07226278539747,
         24.072103227488697,
         24.010970926843584,
         23.831365103833377,
         23.99709367286414,
         24.021512216888368,
         24.12350046914071,
         24.302254444919527,
         24.173207293264568,
         24.01625362690538,
         23.951745408587158,
         24.264601509086788,
         24.298241729848087,
         24.204566366039217,
         24.233463714830577,
         23.981497294269502,
         24.13794411625713,
         24.000473401509225,
         24.034148584119976,
         24.13985602837056,
         24.258254929445684,
         24.050244498066604,
         23.949947996996343,
         24.048643774352968,
         24.035837824456394,
         24.073702878318727,
         24.133984639309347,
         24.302402838133276,
         23.97057373728603,
         24.057633015327156,
         24.208137555979192,
         24.229086901061237,
         24.07115240674466,
         24.028711295686662,
         23.942922602407634,
         23.93071977328509,
         24.24182009231299,
         24.271574615500867,
         24.086066256277263,
         24.06120293866843,
         24.068874846212566,
         23.977914757095277,
         23.931889730505645,
         24.203655778430402,
         24.108836862258613,
         24.1000832086429,
         24.077094393782318,
         24.110704387538135,
         24.084433550946414,
         24.04675647150725,
         24.17596200387925,
         23.937720048241317,
         24.272676083259284,
         24.283981203101575,
         24.22733340691775,
         24.09126030933112,
         24.162171355448663,
         24.154905977658927,
         24.2657956359908,
         24.402829363010824,
         24.09781505446881,
         24.07891849335283,
         23.975449758581817,
         24.055950629524887,
         24.12439654674381,
         24.195203724317253,
         24.201045772992074,
         24.249758432619274,
         24.054949729703367,
         24.20792972203344,
         24.0165658807382,
         24.167024760507047,
         24.228526829741895,
         24.03017473872751,
         24.135945006273687,
         24.170280813239515,
         24.291615555994213,
         24.066115665249527,
         23.95289349090308,
         24.15185037907213,
         24.10976309236139,
         24.011528219096363,
         24.115181936882436,
         24.133157367818058,
         24.12729003559798,
         24.206529467366636,
         24.018212786875665,
         24.16272825282067
        ],
        [
         4.39854972513107,
         4.395179466168914,
         4.410482177750454,
         4.398818698127352,
         4.39379831584347,
         4.392737838249864,
         4.4225927967566765,
         4.432870333987207,
         4.390664971755987,
         4.412180558852449,
         4.405420927291593,
         4.393071084699333,
         4.377308083160742,
         4.422697953822214,
         4.387616660083124,
         4.376953528823913,
         4.377737522696466,
         4.40205636432498,
         4.414793771116345,
         4.411792389818864,
         4.4028681700274745,
         4.381653636342881,
         4.381616299725811,
         4.399515582923147,
         4.397378455567559,
         4.405220812057643,
         4.418343360055632,
         4.389969571567177,
         4.402030329961164,
         4.3801912574117745,
         4.3931797217398945,
         4.386573655882026,
         4.412560387544175,
         4.399898688720459,
         4.389179330959861,
         4.398568300912393,
         4.376645443432834,
         4.3988898710864035,
         4.409659710578296,
         4.420225666345503,
         4.372716568255484,
         4.37143344164085,
         4.43331681864649,
         4.423485739933577,
         4.397782416640493,
         4.386191869203604,
         4.39512528509101,
         4.401191583410679,
         4.4200281533584995,
         4.429137000400318,
         4.411340325836881,
         4.408415459413194,
         4.399498769223539,
         4.383301290542524,
         4.373206577966717,
         4.412170500929911,
         4.417281180271473,
         4.411662377673021,
         4.409784948192742,
         4.381798470367724,
         4.387786536777565,
         4.3881811084903255,
         4.410333032192605,
         4.397629242993209,
         4.40350525567295,
         4.39684459984102,
         4.402552932194736,
         4.402864936423538,
         4.389183378594634,
         4.41520832456327,
         4.401577139871598,
         4.414072605274676,
         4.39321945777553,
         4.386771643046481,
         4.41329780873801,
         4.385064049282136,
         4.394754157166973,
         4.4003290990601975,
         4.403655096285615,
         4.402246320051457,
         4.405941702628986,
         4.397518383532461,
         4.401681799300468,
         4.413316576288579,
         4.399703116791332,
         4.38438220445532,
         4.401011902410774,
         4.388665143118448,
         4.419827411024343,
         4.393505552436913,
         4.402578057164379,
         4.392139374051985,
         4.400886672888584,
         4.3961866388955695,
         4.408379348668573,
         4.377809029082549,
         4.4177334214622395,
         4.411061111569214,
         4.397856237118991,
         4.3808009606268055
        ]
       ],
       "encoder": "json",
       "name": "ABC_GAN_1 Metrics",
       "version": 1
      }
     },
     "metadata": {
      "scrapbook": {
       "data": true,
       "display": false,
       "name": "ABC_GAN_1 Metrics"
      }
     },
     "output_type": "display_data"
    },
    {
     "name": "stdout",
     "output_type": "stream",
     "text": [
      "MSE\n",
      "0.18978887815347162\n"
     ]
    }
   ],
   "source": [
    "ABC_GAN1_metrics=ABC_train_test2.test_generator(gen,test_data,prior_model,variance,bias,\"1\",device)\n",
    "sb.glue(\"ABC_GAN_1 Metrics\",ABC_GAN1_metrics)\n",
    "\n",
    "print(\"MSE\")\n",
    "print(mean(ABC_GAN1_metrics[0]))"
   ]
  },
  {
   "cell_type": "code",
   "execution_count": 14,
   "id": "eb22ce5c",
   "metadata": {
    "execution": {
     "iopub.execute_input": "2022-06-12T07:07:54.760764Z",
     "iopub.status.busy": "2022-06-12T07:07:54.760399Z",
     "iopub.status.idle": "2022-06-12T07:07:55.078427Z",
     "shell.execute_reply": "2022-06-12T07:07:55.078648Z"
    },
    "papermill": {
     "duration": 0.332943,
     "end_time": "2022-06-12T07:07:55.078773",
     "exception": false,
     "start_time": "2022-06-12T07:07:54.745830",
     "status": "completed"
    },
    "tags": []
   },
   "outputs": [
    {
     "data": {
      "image/png": "[encoded data removed]",
      "text/plain": [
       "<Figure size 432x288 with 1 Axes>"
      ]
     },
     "metadata": {
      "needs_background": "light"
     },
     "output_type": "display_data"
    },
    {
     "data": {
      "image/png": "[encoded data removed]",
      "text/plain": [
       "<Figure size 432x288 with 1 Axes>"
      ]
     },
     "metadata": {
      "needs_background": "light"
     },
     "output_type": "display_data"
    },
    {
     "data": {
      "image/png": "[encoded data removed]",
      "text/plain": [
       "<Figure size 432x288 with 1 Axes>"
      ]
     },
     "metadata": {
      "needs_background": "light"
     },
     "output_type": "display_data"
    },
    {
     "data": {
      "image/png": "[encoded data removed]",
      "text/plain": [
       "<Figure size 432x288 with 1 Axes>"
      ]
     },
     "metadata": {
      "needs_background": "light"
     },
     "output_type": "display_data"
    }
   ],
   "source": [
    "sanityChecks.discProbVsError(train_data,disc,device)\n",
    "sanityChecks.discProbVsError(test_data,disc,device)"
   ]
  },
  {
   "cell_type": "markdown",
   "id": "130f3a4d",
   "metadata": {
    "id": "130f3a4d",
    "papermill": {
     "duration": 0.014429,
     "end_time": "2022-06-12T07:07:55.108142",
     "exception": false,
     "start_time": "2022-06-12T07:07:55.093713",
     "status": "completed"
    },
    "tags": []
   },
   "source": [
    "# ABC - GAN Model with skip connection"
   ]
  },
  {
   "cell_type": "code",
   "execution_count": 15,
   "id": "4e43dad1",
   "metadata": {
    "execution": {
     "iopub.execute_input": "2022-06-12T07:07:55.140479Z",
     "iopub.status.busy": "2022-06-12T07:07:55.140103Z",
     "iopub.status.idle": "2022-06-12T07:07:55.142481Z",
     "shell.execute_reply": "2022-06-12T07:07:55.142732Z"
    },
    "id": "4e43dad1",
    "papermill": {
     "duration": 0.020075,
     "end_time": "2022-06-12T07:07:55.142842",
     "exception": false,
     "start_time": "2022-06-12T07:07:55.122767",
     "status": "completed"
    },
    "tags": []
   },
   "outputs": [],
   "source": [
    "#Generator\n",
    "gen3 = network.GeneratorWithSkipConnection(n_features+1).to(device)\n",
    "constraints=network.weightConstraint()\n",
    "#Discriminator \n",
    "disc3 = network.Discriminator(n_features+1).to(device)\n",
    "\n",
    "criterion = torch.nn.BCELoss()\n",
    "gen_opt = torch.optim.Adam(gen3.parameters(), lr=0.001, betas=(0.5, 0.999))\n",
    "disc_opt = torch.optim.Adam(disc3.parameters(), lr=0.001, betas=(0.5, 0.999))\n"
   ]
  },
  {
   "cell_type": "code",
   "execution_count": 16,
   "id": "26acbc37",
   "metadata": {
    "execution": {
     "iopub.execute_input": "2022-06-12T07:07:55.174790Z",
     "iopub.status.busy": "2022-06-12T07:07:55.174411Z",
     "iopub.status.idle": "2022-06-12T07:10:56.059920Z",
     "shell.execute_reply": "2022-06-12T07:10:56.060240Z"
    },
    "id": "26acbc37",
    "papermill": {
     "duration": 180.902651,
     "end_time": "2022-06-12T07:10:56.060360",
     "exception": false,
     "start_time": "2022-06-12T07:07:55.157709",
     "status": "completed"
    },
    "tags": []
   },
   "outputs": [
    {
     "data": {
      "image/png": "[encoded data removed]",
      "text/plain": [
       "<Figure size 432x288 with 1 Axes>"
      ]
     },
     "metadata": {
      "needs_background": "light"
     },
     "output_type": "display_data"
    },
    {
     "data": {
      "image/png": "[encoded data removed]",
      "text/plain": [
       "<Figure size 432x288 with 1 Axes>"
      ]
     },
     "metadata": {
      "needs_background": "light"
     },
     "output_type": "display_data"
    }
   ],
   "source": [
    "ABC_train_test2.training_GAN_skip_connection(disc3,gen3,disc_opt,gen_opt,train_data,batch_size,n_epochs,criterion,prior_model,variance,bias,device)"
   ]
  },
  {
   "cell_type": "code",
   "execution_count": 17,
   "id": "c5e0717b",
   "metadata": {
    "execution": {
     "iopub.execute_input": "2022-06-12T07:10:56.094175Z",
     "iopub.status.busy": "2022-06-12T07:10:56.093792Z",
     "iopub.status.idle": "2022-06-12T07:10:56.923297Z",
     "shell.execute_reply": "2022-06-12T07:10:56.923601Z"
    },
    "id": "c5e0717b",
    "papermill": {
     "duration": 0.847681,
     "end_time": "2022-06-12T07:10:56.923723",
     "exception": false,
     "start_time": "2022-06-12T07:10:56.076042",
     "status": "completed"
    },
    "tags": []
   },
   "outputs": [
    {
     "data": {
      "application/scrapbook.scrap.json+json": {
       "data": 0.13236910846125563,
       "encoder": "json",
       "name": "ABC-GAN Model 3 MSE",
       "version": 1
      }
     },
     "metadata": {
      "scrapbook": {
       "data": true,
       "display": false,
       "name": "ABC-GAN Model 3 MSE"
      }
     },
     "output_type": "display_data"
    },
    {
     "data": {
      "application/scrapbook.scrap.json+json": {
       "data": 0.25929736875650455,
       "encoder": "json",
       "name": "ABC-GAN Model 3 MAE",
       "version": 1
      }
     },
     "metadata": {
      "scrapbook": {
       "data": true,
       "display": false,
       "name": "ABC-GAN Model 3 MAE"
      }
     },
     "output_type": "display_data"
    },
    {
     "data": {
      "application/scrapbook.scrap.json+json": {
       "data": 26.448331613163464,
       "encoder": "json",
       "name": "ABC-GAN Model 3 Manhattan Distance",
       "version": 1
      }
     },
     "metadata": {
      "scrapbook": {
       "data": true,
       "display": false,
       "name": "ABC-GAN Model 3 Manhattan Distance"
      }
     },
     "output_type": "display_data"
    },
    {
     "data": {
      "application/scrapbook.scrap.json+json": {
       "data": 3.67258585616791,
       "encoder": "json",
       "name": "ABC-GAN Model 3 Euclidean distance",
       "version": 1
      }
     },
     "metadata": {
      "scrapbook": {
       "data": true,
       "display": false,
       "name": "ABC-GAN Model 3 Euclidean distance"
      }
     },
     "output_type": "display_data"
    },
    {
     "data": {
      "application/scrapbook.scrap.json+json": {
       "data": [
        [
         0.1418117952323715,
         0.13800591480859176,
         0.12704327286876513,
         0.13140573589892493,
         0.12856514378239392,
         0.13886134636444566,
         0.12217119877827994,
         0.15255853066305156,
         0.1357247967255694,
         0.1241619864093418,
         0.1318446991033147,
         0.13252403142250035,
         0.1434606211888222,
         0.12617460721323084,
         0.14244385800197487,
         0.12123217510720062,
         0.11052973518285536,
         0.13089094680912866,
         0.14259125538916043,
         0.14050003696412447,
         0.13120462364696409,
         0.13349400069323863,
         0.1383881470844673,
         0.14071148298845118,
         0.13586133508750678,
         0.1325695434922055,
         0.14175239348754248,
         0.13652930305817887,
         0.12667519646607261,
         0.1413786694635755,
         0.12825235588418754,
         0.12670798125559157,
         0.13257705126864905,
         0.12704136188592402,
         0.1267299102633143,
         0.12353432342007346,
         0.1295696764181387,
         0.13234897516232255,
         0.12869111114330037,
         0.13198557444293288,
         0.14309650435348914,
         0.11972513117852661,
         0.1343481101459464,
         0.12162496143679409,
         0.1370874107114402,
         0.12619444843499247,
         0.1424215228573152,
         0.12862875481254704,
         0.12676976729981085,
         0.1417751358414775,
         0.11862431075348162,
         0.1355962684997381,
         0.13061505211874816,
         0.13852751576530728,
         0.1041517821477131,
         0.13598857631365327,
         0.13926054973771618,
         0.13688045073974872,
         0.1433874561654138,
         0.12392877371822461,
         0.13468988209720056,
         0.13321463257106037,
         0.1348095611337609,
         0.12821122797178244,
         0.13140817376075925,
         0.14847679022381619,
         0.15381034754640072,
         0.13873672930645586,
         0.13768401436362843,
         0.13672772061980054,
         0.12969285452526047,
         0.14228803069201595,
         0.14152483983249703,
         0.14584686095889376,
         0.1376139601581004,
         0.13280615673166715,
         0.11645462445591773,
         0.1216000668097463,
         0.12967755448641557,
         0.1309570333150482,
         0.14587624322014972,
         0.13653056045571615,
         0.12480759136900282,
         0.12610299359983784,
         0.12966684721947816,
         0.12499475653903538,
         0.1335977780770002,
         0.14279491386679666,
         0.12070327752105155,
         0.1287487721046895,
         0.11893794081615879,
         0.13897690173888266,
         0.12864245519137577,
         0.12431195133992039,
         0.12343987967568133,
         0.1290314074705117,
         0.12917173324126976,
         0.12639397553697596,
         0.12940632755062123,
         0.13140629047241079
        ],
        [
         0.27387297853790954,
         0.2575191394060704,
         0.25270515460265325,
         0.25762351312875453,
         0.2600093996243588,
         0.2715573440415456,
         0.24879785911088773,
         0.2754016503162098,
         0.2535854750495477,
         0.25055552287684646,
         0.25447842094353307,
         0.25816659109813034,
         0.2740679793516357,
         0.25160462086947233,
         0.27751917668673043,
         0.24665608497190417,
         0.23605743111750366,
         0.25669076743846136,
         0.2724447936166589,
         0.2700963416136801,
         0.24963658291152588,
         0.26710795486053707,
         0.2584058170060755,
         0.26259196121428235,
         0.2712538806885919,
         0.25442557609366145,
         0.26861407143045585,
         0.2599119039562841,
         0.24518715340972824,
         0.26884990547984544,
         0.2543549662108953,
         0.25077776222800213,
         0.2700587495266661,
         0.25163683138203385,
         0.24827723828710468,
         0.2633501003752006,
         0.25320215332413126,
         0.26030725645193575,
         0.26006269822919775,
         0.259346870878967,
         0.2629127455966584,
         0.24946048361815365,
         0.2630446773004152,
         0.2558939285558082,
         0.263282352830192,
         0.25164006616664575,
         0.26550284231665966,
         0.2583778103101341,
         0.2454947264883302,
         0.2697489869634749,
         0.2518894385236005,
         0.2598609901215954,
         0.2525491214393839,
         0.26485235045901406,
         0.25503920594814655,
         0.26272347864384454,
         0.2619989831274485,
         0.2634499584251613,
         0.2746521405711332,
         0.2510267791849579,
         0.2666421157819237,
         0.2568854769856176,
         0.2655969735362804,
         0.26130528622946025,
         0.2603164302349529,
         0.27236469808564173,
         0.28708074766886876,
         0.2736660289103348,
         0.25249372655525804,
         0.2572286463452174,
         0.26170504709486575,
         0.26782964106977863,
         0.2685364305005208,
         0.2716879784860009,
         0.2675933676004848,
         0.27117022969668697,
         0.2384486661803927,
         0.24642375793636723,
         0.2652352155259281,
         0.25558195441194315,
         0.2671502697756331,
         0.2609495763739973,
         0.25067878820403827,
         0.24977655945272714,
         0.25863944906650077,
         0.2627714767814705,
         0.2577925900307794,
         0.27135388449966613,
         0.24334430671753546,
         0.25804035178403933,
         0.24410902269586338,
         0.26533985611818295,
         0.24815555730396333,
         0.24076106160988703,
         0.24742998035770714,
         0.25742526059312854,
         0.25646246809914125,
         0.2537108225035755,
         0.26096517876630615,
         0.24691725114141316
        ],
        [
         27.935043810866773,
         26.26695221941918,
         25.775925769470632,
         26.277598339132965,
         26.520958761684597,
         27.69884909223765,
         25.37738162931055,
         28.090968332253397,
         25.865718455053866,
         25.556663333438337,
         25.956798936240375,
         26.332992292009294,
         27.954933893866837,
         25.663671328686178,
         28.306956022046506,
         25.158920667134225,
         24.077857973985374,
         26.18245827872306,
         27.78936894889921,
         27.549826844595373,
         25.46293145697564,
         27.24501139577478,
         26.3573933346197,
         26.7843800438568,
         27.667895830236375,
         25.951408761553466,
         27.398635285906494,
         26.51101420354098,
         25.00908964779228,
         27.422690358944237,
         25.94420655351132,
         25.57933174725622,
         27.54599245171994,
         25.666956800967455,
         25.32427830528468,
         26.86171023827046,
         25.82661963906139,
         26.551340158097446,
         26.526395219378173,
         26.453380829654634,
         26.817100050859153,
         25.444969329051673,
         26.83055708464235,
         26.10118071269244,
         26.854799988679588,
         25.667286748997867,
         27.081289916299284,
         26.35453665163368,
         25.04046210180968,
         27.514396670274436,
         25.69272272940725,
         26.505820992402732,
         25.760010386817157,
         27.014939746819437,
         26.013999006710947,
         26.79779482167214,
         26.723896278999746,
         26.871895759366453,
         28.014518338255584,
         25.60473147686571,
         27.19749580975622,
         26.202318652532995,
         27.090891300700605,
         26.653139195404947,
         26.552275883965194,
         27.781199204735458,
         29.282236262224615,
         27.91393494885415,
         25.75436010863632,
         26.23732192721218,
         26.693914803676307,
         27.31862338911742,
         27.39071591105312,
         27.712173805572093,
         27.29452349524945,
         27.65936342906207,
         24.321763950400054,
         25.135223309509456,
         27.053991983644664,
         26.069359350018203,
         27.24932751711458,
         26.61685679014772,
         25.569236396811903,
         25.47720906417817,
         26.381223804783076,
         26.802690631709993,
         26.294844183139503,
         27.678096218965948,
         24.821119285188615,
         26.320115881972015,
         24.899120314978063,
         27.06466532405466,
         25.31186684500426,
         24.557628284208477,
         25.237857996486127,
         26.257376580499113,
         26.159171746112406,
         25.8785038953647,
         26.618448234163225,
         25.185559616424143
        ],
        [
         3.803262167363945,
         3.751879970158475,
         3.5997796922331293,
         3.6610633785404945,
         3.62127666242227,
         3.763490046376296,
         3.530079641507335,
         3.944739551305163,
         3.720743106693618,
         3.5587248578322073,
         3.6671732040548743,
         3.6766086554180655,
         3.825308270095347,
         3.587451732880813,
         3.811728415850405,
         3.5164871478415027,
         3.3576826813520126,
         3.653885134282566,
         3.8137000471581874,
         3.7856312248211252,
         3.6582607359222408,
         3.690039033765136,
         3.7570721316758973,
         3.788478753381365,
         3.7226141592872195,
         3.677239920946818,
         3.802465533799002,
         3.7317541333713615,
         3.594561174822235,
         3.79744970806523,
         3.616868853053305,
         3.5950262986618533,
         3.6773440455581805,
         3.59975261821757,
         3.5953373759437453,
         3.5497184379676496,
         3.6353964013089617,
         3.674179563733501,
         3.6230502807188083,
         3.669131858243739,
         3.8204506859866534,
         3.4945619725810717,
         3.701824852000231,
         3.522179164459552,
         3.7393737299936873,
         3.587733788949402,
         3.8114295653266574,
         3.6221724131907074,
         3.595902705104896,
         3.8027705499846696,
         3.478459385540548,
         3.7189809608242532,
         3.650032234941537,
         3.7589635018261807,
         3.2593683098212045,
         3.7243569624826023,
         3.7688958692496466,
         3.736550009762263,
         3.824332690662804,
         3.5553811215197326,
         3.7065304496138243,
         3.686175866972187,
         3.708176807494973,
         3.6162888785496397,
         3.661097338722018,
         3.891610541000891,
         3.960890739433855,
         3.761800950244244,
         3.7475017631870564,
         3.734464821526594,
         3.6371240233976856,
         3.809642913789379,
         3.7994122786181945,
         3.856991031595376,
         3.746548269557759,
         3.680520070130042,
         3.4465013701583818,
         3.5218186799712052,
         3.6369094788864875,
         3.6548074365327254,
         3.857379526110345,
         3.7317713175492204,
         3.5679650109885173,
         3.5864335135596006,
         3.636759328906268,
         3.5706393218836325,
         3.691473061510001,
         3.8164225675903944,
         3.508808103494298,
         3.6238618564562204,
         3.483054688523882,
         3.765055640673326,
         3.6223653086788916,
         3.5608733530795336,
         3.54836127344997,
         3.6278373119521485,
         3.6298094702903505,
         3.590568966719835,
         3.6331041012009773,
         3.661071103951123
        ]
       ],
       "encoder": "json",
       "name": "ABC_GAN_3 Metrics",
       "version": 1
      }
     },
     "metadata": {
      "scrapbook": {
       "data": true,
       "display": false,
       "name": "ABC_GAN_3 Metrics"
      }
     },
     "output_type": "display_data"
    },
    {
     "name": "stdout",
     "output_type": "stream",
     "text": [
      "MSE\n",
      "0.13236910846125563\n"
     ]
    }
   ],
   "source": [
    "ABC_GAN3_metrics=ABC_train_test2.test_generator(gen3,test_data,prior_model,variance,bias,\"3\",device)\n",
    "sb.glue(\"ABC_GAN_3 Metrics\",ABC_GAN3_metrics)\n",
    "\n",
    "print(\"MSE\")\n",
    "print(mean(ABC_GAN3_metrics[0]))"
   ]
  },
  {
   "cell_type": "code",
   "execution_count": 18,
   "id": "c8e46b48",
   "metadata": {
    "execution": {
     "iopub.execute_input": "2022-06-12T07:10:56.960872Z",
     "iopub.status.busy": "2022-06-12T07:10:56.960461Z",
     "iopub.status.idle": "2022-06-12T07:10:57.272720Z",
     "shell.execute_reply": "2022-06-12T07:10:57.273099Z"
    },
    "id": "c8e46b48",
    "papermill": {
     "duration": 0.331905,
     "end_time": "2022-06-12T07:10:57.273221",
     "exception": false,
     "start_time": "2022-06-12T07:10:56.941316",
     "status": "completed"
    },
    "tags": []
   },
   "outputs": [
    {
     "data": {
      "image/png": "[encoded data removed]",
      "text/plain": [
       "<Figure size 432x288 with 1 Axes>"
      ]
     },
     "metadata": {
      "needs_background": "light"
     },
     "output_type": "display_data"
    },
    {
     "data": {
      "image/png": "[encoded data removed]",
      "text/plain": [
       "<Figure size 432x288 with 1 Axes>"
      ]
     },
     "metadata": {
      "needs_background": "light"
     },
     "output_type": "display_data"
    },
    {
     "data": {
      "image/png": "[encoded data removed]",
      "text/plain": [
       "<Figure size 432x288 with 1 Axes>"
      ]
     },
     "metadata": {
      "needs_background": "light"
     },
     "output_type": "display_data"
    },
    {
     "data": {
      "image/png": "[encoded data removed]",
      "text/plain": [
       "<Figure size 432x288 with 1 Axes>"
      ]
     },
     "metadata": {
      "needs_background": "light"
     },
     "output_type": "display_data"
    }
   ],
   "source": [
    "sanityChecks.discProbVsError(train_data,disc3,device)\n",
    "sanityChecks.discProbVsError(test_data,disc3,device)"
   ]
  },
  {
   "cell_type": "markdown",
   "id": "a5bd74c3",
   "metadata": {
    "id": "a5bd74c3",
    "papermill": {
     "duration": 0.01933,
     "end_time": "2022-06-12T07:10:57.312434",
     "exception": false,
     "start_time": "2022-06-12T07:10:57.293104",
     "status": "completed"
    },
    "tags": []
   },
   "source": [
    "## Skip Connection Model Analysis - ABC-GAN "
   ]
  },
  {
   "cell_type": "markdown",
   "id": "5744a8bf",
   "metadata": {
    "id": "5744a8bf",
    "papermill": {
     "duration": 0.019129,
     "end_time": "2022-06-12T07:10:57.350812",
     "exception": false,
     "start_time": "2022-06-12T07:10:57.331683",
     "status": "completed"
    },
    "tags": []
   },
   "source": [
    "### Weight Analysis \n",
    "\n",
    "Study the weights of the skip connection layer\n",
    "\n",
    "Equation of the skip connection is \n",
    "\n",
    "$output = y_{gan} * w + y_{abc} * (1-w)$"
   ]
  },
  {
   "cell_type": "code",
   "execution_count": 19,
   "id": "52c31dea",
   "metadata": {
    "execution": {
     "iopub.execute_input": "2022-06-12T07:10:57.391886Z",
     "iopub.status.busy": "2022-06-12T07:10:57.391509Z",
     "iopub.status.idle": "2022-06-12T07:10:57.395100Z",
     "shell.execute_reply": "2022-06-12T07:10:57.395352Z"
    },
    "id": "52c31dea",
    "papermill": {
     "duration": 0.025513,
     "end_time": "2022-06-12T07:10:57.395463",
     "exception": false,
     "start_time": "2022-06-12T07:10:57.369950",
     "status": "completed"
    },
    "tags": []
   },
   "outputs": [
    {
     "name": "stdout",
     "output_type": "stream",
     "text": [
      "Weight of the node at skip connection\n",
      "Parameter containing:\n",
      "tensor([[0.3498]], requires_grad=True)\n"
     ]
    },
    {
     "data": {
      "application/scrapbook.scrap.json+json": {
       "data": 0.3497645854949951,
       "encoder": "json",
       "name": "Skip Connection Weight",
       "version": 1
      }
     },
     "metadata": {
      "scrapbook": {
       "data": true,
       "display": false,
       "name": "Skip Connection Weight"
      }
     },
     "output_type": "display_data"
    }
   ],
   "source": [
    "print(\"Weight of the node at skip connection\")\n",
    "for name,param in gen3.named_parameters():\n",
    "    if(name == \"skipNode.weight\"):\n",
    "        print(param)\n",
    "        sb.glue(\"Skip Connection Weight\",param.item())"
   ]
  }
 ],
 "metadata": {
  "colab": {
   "collapsed_sections": [],
   "name": "ABC_GAN_Model-Catboost_Pre-gen.ipynb",
   "provenance": []
  },
  "interpreter": {
   "hash": "31f2aee4e71d21fbe5cf8b01ff0e069b9275f58929596ceb00d14d90e3e16cd6"
  },
  "kernelspec": {
   "display_name": "Python 3 (ipykernel)",
   "language": "python",
   "name": "python3"
  },
  "language_info": {
   "codemirror_mode": {
    "name": "ipython",
    "version": 3
   },
   "file_extension": ".py",
   "mimetype": "text/x-python",
   "name": "python",
   "nbconvert_exporter": "python",
   "pygments_lexer": "ipython3",
   "version": "3.8.11"
  },
  "papermill": {
   "default_parameters": {},
   "duration": 249.18511,
   "end_time": "2022-06-12T07:10:57.723152",
   "environment_variables": {},
   "exception": null,
   "input_path": "ABC_GAN-Catboost.ipynb",
   "output_path": "./ABC_GAN_Catboost/ABC-GAN_output_8_6.ipynb",
   "parameters": {
    "bias": 0.01,
    "variance": 1
   },
   "start_time": "2022-06-12T07:06:48.538042",
   "version": "2.3.3"
  }
 },
 "nbformat": 4,
 "nbformat_minor": 5
}