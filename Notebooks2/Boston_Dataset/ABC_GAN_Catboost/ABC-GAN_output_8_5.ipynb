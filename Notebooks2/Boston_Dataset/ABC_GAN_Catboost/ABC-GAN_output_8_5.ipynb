{
 "cells": [
  {
   "cell_type": "markdown",
   "id": "622780e6",
   "metadata": {
    "id": "622780e6",
    "papermill": {
     "duration": 0.037808,
     "end_time": "2022-06-12T07:02:45.041888",
     "exception": false,
     "start_time": "2022-06-12T07:02:45.004080",
     "status": "completed"
    },
    "tags": []
   },
   "source": [
    "## Import Libraries "
   ]
  },
  {
   "cell_type": "code",
   "execution_count": 1,
   "id": "a62397e3",
   "metadata": {
    "execution": {
     "iopub.execute_input": "2022-06-12T07:02:45.076855Z",
     "iopub.status.busy": "2022-06-12T07:02:45.076354Z",
     "iopub.status.idle": "2022-06-12T07:02:45.078688Z",
     "shell.execute_reply": "2022-06-12T07:02:45.079100Z"
    },
    "id": "a62397e3",
    "papermill": {
     "duration": 0.02134,
     "end_time": "2022-06-12T07:02:45.079325",
     "exception": false,
     "start_time": "2022-06-12T07:02:45.057985",
     "status": "completed"
    },
    "tags": []
   },
   "outputs": [],
   "source": [
    "import warnings\n",
    "import sys\n",
    "sys.path.insert(0, '../../src')\n",
    "warnings.filterwarnings('ignore')"
   ]
  },
  {
   "cell_type": "code",
   "execution_count": 2,
   "id": "d6a4e155",
   "metadata": {
    "execution": {
     "iopub.execute_input": "2022-06-12T07:02:45.099761Z",
     "iopub.status.busy": "2022-06-12T07:02:45.099351Z",
     "iopub.status.idle": "2022-06-12T07:02:46.855992Z",
     "shell.execute_reply": "2022-06-12T07:02:46.856259Z"
    },
    "id": "d6a4e155",
    "papermill": {
     "duration": 1.767441,
     "end_time": "2022-06-12T07:02:46.856380",
     "exception": false,
     "start_time": "2022-06-12T07:02:45.088939",
     "status": "completed"
    },
    "tags": []
   },
   "outputs": [],
   "source": [
    "import ABC_train_test2\n",
    "import bostonDataset\n",
    "import network\n",
    "import dataset\n",
    "import sanityChecks\n",
    "import torch \n",
    "import scrapbook as sb\n",
    "from statistics import mean \n",
    "import catboost as ctb \n",
    "from sklearn.model_selection import train_test_split\n",
    "from sklearn.metrics import mean_squared_error,mean_absolute_error\n",
    "import numpy as np"
   ]
  },
  {
   "cell_type": "markdown",
   "id": "2fa5b0f7",
   "metadata": {
    "id": "2fa5b0f7",
    "papermill": {
     "duration": 0.006793,
     "end_time": "2022-06-12T07:02:46.870374",
     "exception": false,
     "start_time": "2022-06-12T07:02:46.863581",
     "status": "completed"
    },
    "tags": []
   },
   "source": [
    "## Parameters "
   ]
  },
  {
   "cell_type": "code",
   "execution_count": 3,
   "id": "783186fb",
   "metadata": {
    "execution": {
     "iopub.execute_input": "2022-06-12T07:02:46.886078Z",
     "iopub.status.busy": "2022-06-12T07:02:46.885695Z",
     "iopub.status.idle": "2022-06-12T07:02:46.886915Z",
     "shell.execute_reply": "2022-06-12T07:02:46.887164Z"
    },
    "id": "783186fb",
    "papermill": {
     "duration": 0.010143,
     "end_time": "2022-06-12T07:02:46.887272",
     "exception": false,
     "start_time": "2022-06-12T07:02:46.877129",
     "status": "completed"
    },
    "tags": [
     "parameters"
    ]
   },
   "outputs": [],
   "source": [
    "variance = 1\n",
    "bias = 1 "
   ]
  },
  {
   "cell_type": "code",
   "execution_count": 4,
   "id": "a3de1a6c",
   "metadata": {
    "execution": {
     "iopub.execute_input": "2022-06-12T07:02:46.902926Z",
     "iopub.status.busy": "2022-06-12T07:02:46.902574Z",
     "iopub.status.idle": "2022-06-12T07:02:46.903869Z",
     "shell.execute_reply": "2022-06-12T07:02:46.904125Z"
    },
    "papermill": {
     "duration": 0.009982,
     "end_time": "2022-06-12T07:02:46.904233",
     "exception": false,
     "start_time": "2022-06-12T07:02:46.894251",
     "status": "completed"
    },
    "tags": [
     "injected-parameters"
    ]
   },
   "outputs": [],
   "source": [
    "# Parameters\n",
    "variance = 0.01\n",
    "bias = 0.1\n"
   ]
  },
  {
   "cell_type": "markdown",
   "id": "391cdbfd",
   "metadata": {
    "id": "391cdbfd",
    "papermill": {
     "duration": 0.006828,
     "end_time": "2022-06-12T07:02:46.918056",
     "exception": false,
     "start_time": "2022-06-12T07:02:46.911228",
     "status": "completed"
    },
    "tags": []
   },
   "source": [
    "## Dataset \n"
   ]
  },
  {
   "cell_type": "code",
   "execution_count": 5,
   "id": "5b51f161",
   "metadata": {
    "execution": {
     "iopub.execute_input": "2022-06-12T07:02:46.933644Z",
     "iopub.status.busy": "2022-06-12T07:02:46.933286Z",
     "iopub.status.idle": "2022-06-12T07:02:46.934531Z",
     "shell.execute_reply": "2022-06-12T07:02:46.934774Z"
    },
    "id": "5b51f161",
    "papermill": {
     "duration": 0.00991,
     "end_time": "2022-06-12T07:02:46.934878",
     "exception": false,
     "start_time": "2022-06-12T07:02:46.924968",
     "status": "completed"
    },
    "tags": []
   },
   "outputs": [],
   "source": [
    "#Parameters \n",
    "n_features = 13\n",
    "n_samples= 506\n",
    "n_target = 1 "
   ]
  },
  {
   "cell_type": "code",
   "execution_count": 6,
   "id": "5d6eced4",
   "metadata": {
    "execution": {
     "iopub.execute_input": "2022-06-12T07:02:46.950663Z",
     "iopub.status.busy": "2022-06-12T07:02:46.950286Z",
     "iopub.status.idle": "2022-06-12T07:02:46.960773Z",
     "shell.execute_reply": "2022-06-12T07:02:46.961009Z"
    },
    "id": "5d6eced4",
    "papermill": {
     "duration": 0.01929,
     "end_time": "2022-06-12T07:02:46.961122",
     "exception": false,
     "start_time": "2022-06-12T07:02:46.941832",
     "status": "completed"
    },
    "tags": []
   },
   "outputs": [
    {
     "name": "stdout",
     "output_type": "stream",
     "text": [
      "         X1        X2        X3        X4        X5        X6        X7  \\\n",
      "0 -0.419782  0.284830 -1.287909 -0.272599 -0.144217  0.413672 -0.120013   \n",
      "1 -0.417339 -0.487722 -0.593381 -0.272599 -0.740262  0.194274  0.367166   \n",
      "2 -0.417342 -0.487722 -0.593381 -0.272599 -0.740262  1.282714 -0.265812   \n",
      "3 -0.416750 -0.487722 -1.306878 -0.272599 -0.835284  1.016303 -0.809889   \n",
      "4 -0.412482 -0.487722 -1.306878 -0.272599 -0.835284  1.228577 -0.511180   \n",
      "\n",
      "         X8        X9       X10       X11       X12       X13         Y  \n",
      "0  0.140214 -0.982843 -0.666608 -1.459000  0.441052 -1.075562  0.159686  \n",
      "1  0.557160 -0.867883 -0.987329 -0.303094  0.441052 -0.492439 -0.101524  \n",
      "2  0.557160 -0.867883 -0.987329 -0.303094  0.396427 -1.208727  1.324247  \n",
      "3  1.077737 -0.752922 -1.106115  0.113032  0.416163 -1.361517  1.182758  \n",
      "4  1.077737 -0.752922 -1.106115  0.113032  0.441052 -1.026501  1.487503  \n"
     ]
    }
   ],
   "source": [
    "X,Y = bostonDataset.boston_data()"
   ]
  },
  {
   "cell_type": "code",
   "execution_count": 7,
   "id": "fe007438",
   "metadata": {
    "execution": {
     "iopub.execute_input": "2022-06-12T07:02:46.978431Z",
     "iopub.status.busy": "2022-06-12T07:02:46.978072Z",
     "iopub.status.idle": "2022-06-12T07:02:46.979369Z",
     "shell.execute_reply": "2022-06-12T07:02:46.979611Z"
    },
    "id": "fe007438",
    "papermill": {
     "duration": 0.011156,
     "end_time": "2022-06-12T07:02:46.979714",
     "exception": false,
     "start_time": "2022-06-12T07:02:46.968558",
     "status": "completed"
    },
    "tags": []
   },
   "outputs": [],
   "source": [
    "#Train test split for dataset \n",
    "X_train,X_test,Y_train,Y_test = train_test_split(X,Y,test_size = 0.2)\n",
    "train_data = dataset.CustomDataset(X_train,Y_train)\n",
    "test_data = dataset.CustomDataset(X_test,Y_test)\n"
   ]
  },
  {
   "cell_type": "markdown",
   "id": "a9a1af34",
   "metadata": {
    "id": "a9a1af34",
    "papermill": {
     "duration": 0.007087,
     "end_time": "2022-06-12T07:02:46.994018",
     "exception": false,
     "start_time": "2022-06-12T07:02:46.986931",
     "status": "completed"
    },
    "tags": []
   },
   "source": [
    "## Training Parameters "
   ]
  },
  {
   "cell_type": "code",
   "execution_count": 8,
   "id": "952b7fc8",
   "metadata": {
    "execution": {
     "iopub.execute_input": "2022-06-12T07:02:47.010421Z",
     "iopub.status.busy": "2022-06-12T07:02:47.010051Z",
     "iopub.status.idle": "2022-06-12T07:02:47.011275Z",
     "shell.execute_reply": "2022-06-12T07:02:47.011514Z"
    },
    "id": "952b7fc8",
    "papermill": {
     "duration": 0.010512,
     "end_time": "2022-06-12T07:02:47.011618",
     "exception": false,
     "start_time": "2022-06-12T07:02:47.001106",
     "status": "completed"
    },
    "tags": []
   },
   "outputs": [],
   "source": [
    "batch_size = 32\n",
    "n_epochs = 1000\n",
    "#Select the device \n",
    "device = torch.device('cuda' if torch.cuda.is_available() else 'cpu')"
   ]
  },
  {
   "cell_type": "markdown",
   "id": "a95e1600",
   "metadata": {
    "id": "a95e1600",
    "papermill": {
     "duration": 0.007105,
     "end_time": "2022-06-12T07:02:47.025949",
     "exception": false,
     "start_time": "2022-06-12T07:02:47.018844",
     "status": "completed"
    },
    "tags": []
   },
   "source": [
    "# ABC Pre-generator Model \n",
    "\n",
    "1. The catboost model is used as a pre-generator model for the ABC-GAN. \n",
    "2. The model is first trained on the entire dataset \n",
    "3. It generats X,Y pairs and we add some Gaussian noise with mean 0 and variance 1 to it which is then feed as input to the generator.\n"
   ]
  },
  {
   "cell_type": "code",
   "execution_count": 9,
   "id": "ff8ce7bd",
   "metadata": {
    "execution": {
     "iopub.execute_input": "2022-06-12T07:02:47.045144Z",
     "iopub.status.busy": "2022-06-12T07:02:47.044764Z",
     "iopub.status.idle": "2022-06-12T07:02:48.063410Z",
     "shell.execute_reply": "2022-06-12T07:02:48.063658Z"
    },
    "id": "ff8ce7bd",
    "papermill": {
     "duration": 1.030613,
     "end_time": "2022-06-12T07:02:48.063780",
     "exception": false,
     "start_time": "2022-06-12T07:02:47.033167",
     "status": "completed"
    },
    "tags": []
   },
   "outputs": [
    {
     "name": "stdout",
     "output_type": "stream",
     "text": [
      "Learning rate set to 0.033215\n",
      "0:\tlearn: 0.9778796\ttotal: 59ms\tremaining: 58.9s\n",
      "1:\tlearn: 0.9574467\ttotal: 59.9ms\tremaining: 29.9s\n",
      "2:\tlearn: 0.9375774\ttotal: 61ms\tremaining: 20.3s\n",
      "3:\tlearn: 0.9217969\ttotal: 61.9ms\tremaining: 15.4s\n",
      "4:\tlearn: 0.9064180\ttotal: 63ms\tremaining: 12.5s\n",
      "5:\tlearn: 0.8893286\ttotal: 63.8ms\tremaining: 10.6s\n",
      "6:\tlearn: 0.8718931\ttotal: 64.8ms\tremaining: 9.19s\n",
      "7:\tlearn: 0.8555860\ttotal: 65.6ms\tremaining: 8.14s\n",
      "8:\tlearn: 0.8408740\ttotal: 66.4ms\tremaining: 7.31s\n",
      "9:\tlearn: 0.8241312\ttotal: 67.2ms\tremaining: 6.65s\n",
      "10:\tlearn: 0.8091343\ttotal: 67.9ms\tremaining: 6.11s\n",
      "11:\tlearn: 0.7935730\ttotal: 68.7ms\tremaining: 5.66s\n",
      "12:\tlearn: 0.7786659\ttotal: 69.5ms\tremaining: 5.28s\n",
      "13:\tlearn: 0.7637351\ttotal: 70.3ms\tremaining: 4.95s\n",
      "14:\tlearn: 0.7520976\ttotal: 71.2ms\tremaining: 4.67s\n",
      "15:\tlearn: 0.7385620\ttotal: 72.2ms\tremaining: 4.44s\n",
      "16:\tlearn: 0.7269443\ttotal: 73ms\tremaining: 4.22s\n",
      "17:\tlearn: 0.7148038\ttotal: 73.8ms\tremaining: 4.03s\n",
      "18:\tlearn: 0.7029796\ttotal: 74.5ms\tremaining: 3.85s\n",
      "19:\tlearn: 0.6906176\ttotal: 75.4ms\tremaining: 3.7s\n",
      "20:\tlearn: 0.6776515\ttotal: 76.3ms\tremaining: 3.56s\n",
      "21:\tlearn: 0.6676245\ttotal: 77.2ms\tremaining: 3.43s\n",
      "22:\tlearn: 0.6572082\ttotal: 77.9ms\tremaining: 3.31s\n",
      "23:\tlearn: 0.6471940\ttotal: 78.7ms\tremaining: 3.2s\n",
      "24:\tlearn: 0.6370891\ttotal: 79.5ms\tremaining: 3.1s\n",
      "25:\tlearn: 0.6283160\ttotal: 80.3ms\tremaining: 3.01s\n",
      "26:\tlearn: 0.6201501\ttotal: 81.2ms\tremaining: 2.93s\n",
      "27:\tlearn: 0.6114855\ttotal: 81.9ms\tremaining: 2.84s\n",
      "28:\tlearn: 0.6017465\ttotal: 82.8ms\tremaining: 2.77s\n",
      "29:\tlearn: 0.5919752\ttotal: 83.6ms\tremaining: 2.7s\n",
      "30:\tlearn: 0.5824806\ttotal: 84.5ms\tremaining: 2.64s\n",
      "31:\tlearn: 0.5742382\ttotal: 85.4ms\tremaining: 2.58s\n",
      "32:\tlearn: 0.5667223\ttotal: 86.2ms\tremaining: 2.53s\n",
      "33:\tlearn: 0.5586932\ttotal: 87.2ms\tremaining: 2.48s\n",
      "34:\tlearn: 0.5512474\ttotal: 88.1ms\tremaining: 2.43s\n",
      "35:\tlearn: 0.5450989\ttotal: 88.9ms\tremaining: 2.38s\n",
      "36:\tlearn: 0.5385419\ttotal: 89.7ms\tremaining: 2.33s\n",
      "37:\tlearn: 0.5310538\ttotal: 90.4ms\tremaining: 2.29s\n",
      "38:\tlearn: 0.5237530\ttotal: 91.2ms\tremaining: 2.25s\n",
      "39:\tlearn: 0.5165463\ttotal: 92ms\tremaining: 2.21s\n",
      "40:\tlearn: 0.5103967\ttotal: 92.8ms\tremaining: 2.17s\n",
      "41:\tlearn: 0.5036524\ttotal: 93.6ms\tremaining: 2.13s\n",
      "42:\tlearn: 0.4993651\ttotal: 94.1ms\tremaining: 2.09s\n",
      "43:\tlearn: 0.4921521\ttotal: 94.9ms\tremaining: 2.06s\n",
      "44:\tlearn: 0.4874394\ttotal: 95.8ms\tremaining: 2.03s\n",
      "45:\tlearn: 0.4825930\ttotal: 96.6ms\tremaining: 2s\n",
      "46:\tlearn: 0.4775012\ttotal: 97.5ms\tremaining: 1.98s\n",
      "47:\tlearn: 0.4717338\ttotal: 98.2ms\tremaining: 1.95s\n",
      "48:\tlearn: 0.4674178\ttotal: 99ms\tremaining: 1.92s\n",
      "49:\tlearn: 0.4625769\ttotal: 99.8ms\tremaining: 1.9s\n",
      "50:\tlearn: 0.4562461\ttotal: 101ms\tremaining: 1.87s\n",
      "51:\tlearn: 0.4517153\ttotal: 102ms\tremaining: 1.85s\n",
      "52:\tlearn: 0.4473052\ttotal: 102ms\tremaining: 1.83s\n",
      "53:\tlearn: 0.4423076\ttotal: 103ms\tremaining: 1.81s\n",
      "54:\tlearn: 0.4375310\ttotal: 104ms\tremaining: 1.79s\n",
      "55:\tlearn: 0.4330416\ttotal: 105ms\tremaining: 1.77s\n",
      "56:\tlearn: 0.4291568\ttotal: 106ms\tremaining: 1.75s\n",
      "57:\tlearn: 0.4248793\ttotal: 107ms\tremaining: 1.73s\n",
      "58:\tlearn: 0.4210096\ttotal: 107ms\tremaining: 1.71s\n"
     ]
    },
    {
     "name": "stdout",
     "output_type": "stream",
     "text": [
      "59:\tlearn: 0.4167611\ttotal: 109ms\tremaining: 1.7s\n",
      "60:\tlearn: 0.4130985\ttotal: 110ms\tremaining: 1.69s\n",
      "61:\tlearn: 0.4091745\ttotal: 111ms\tremaining: 1.67s\n",
      "62:\tlearn: 0.4045267\ttotal: 111ms\tremaining: 1.66s\n",
      "63:\tlearn: 0.4009224\ttotal: 112ms\tremaining: 1.64s\n",
      "64:\tlearn: 0.3976601\ttotal: 113ms\tremaining: 1.63s\n",
      "65:\tlearn: 0.3943306\ttotal: 114ms\tremaining: 1.61s\n",
      "66:\tlearn: 0.3910169\ttotal: 115ms\tremaining: 1.59s\n",
      "67:\tlearn: 0.3875785\ttotal: 115ms\tremaining: 1.58s\n",
      "68:\tlearn: 0.3850726\ttotal: 116ms\tremaining: 1.57s\n",
      "69:\tlearn: 0.3821752\ttotal: 117ms\tremaining: 1.56s\n",
      "70:\tlearn: 0.3791843\ttotal: 118ms\tremaining: 1.55s\n",
      "71:\tlearn: 0.3757491\ttotal: 119ms\tremaining: 1.53s\n",
      "72:\tlearn: 0.3727213\ttotal: 120ms\tremaining: 1.52s\n",
      "73:\tlearn: 0.3694196\ttotal: 120ms\tremaining: 1.51s\n",
      "74:\tlearn: 0.3664621\ttotal: 121ms\tremaining: 1.49s\n",
      "75:\tlearn: 0.3635312\ttotal: 122ms\tremaining: 1.48s\n",
      "76:\tlearn: 0.3606765\ttotal: 123ms\tremaining: 1.47s\n",
      "77:\tlearn: 0.3577680\ttotal: 124ms\tremaining: 1.46s\n",
      "78:\tlearn: 0.3541947\ttotal: 125ms\tremaining: 1.45s\n",
      "79:\tlearn: 0.3515969\ttotal: 126ms\tremaining: 1.45s\n",
      "80:\tlearn: 0.3486255\ttotal: 127ms\tremaining: 1.44s\n",
      "81:\tlearn: 0.3460539\ttotal: 128ms\tremaining: 1.43s\n",
      "82:\tlearn: 0.3439327\ttotal: 129ms\tremaining: 1.42s\n",
      "83:\tlearn: 0.3416671\ttotal: 129ms\tremaining: 1.41s\n",
      "84:\tlearn: 0.3389999\ttotal: 130ms\tremaining: 1.4s\n",
      "85:\tlearn: 0.3370018\ttotal: 131ms\tremaining: 1.39s\n",
      "86:\tlearn: 0.3345739\ttotal: 132ms\tremaining: 1.38s\n",
      "87:\tlearn: 0.3326129\ttotal: 133ms\tremaining: 1.38s\n",
      "88:\tlearn: 0.3299033\ttotal: 134ms\tremaining: 1.37s\n",
      "89:\tlearn: 0.3278282\ttotal: 135ms\tremaining: 1.36s\n",
      "90:\tlearn: 0.3254062\ttotal: 135ms\tremaining: 1.35s\n",
      "91:\tlearn: 0.3232553\ttotal: 136ms\tremaining: 1.34s\n",
      "92:\tlearn: 0.3210466\ttotal: 137ms\tremaining: 1.34s\n",
      "93:\tlearn: 0.3187482\ttotal: 138ms\tremaining: 1.33s\n",
      "94:\tlearn: 0.3165228\ttotal: 139ms\tremaining: 1.32s\n",
      "95:\tlearn: 0.3147390\ttotal: 140ms\tremaining: 1.31s\n",
      "96:\tlearn: 0.3132618\ttotal: 141ms\tremaining: 1.31s\n",
      "97:\tlearn: 0.3113634\ttotal: 141ms\tremaining: 1.3s\n",
      "98:\tlearn: 0.3096976\ttotal: 142ms\tremaining: 1.29s\n",
      "99:\tlearn: 0.3078228\ttotal: 143ms\tremaining: 1.29s\n",
      "100:\tlearn: 0.3064422\ttotal: 144ms\tremaining: 1.28s\n",
      "101:\tlearn: 0.3044467\ttotal: 145ms\tremaining: 1.27s\n",
      "102:\tlearn: 0.3031976\ttotal: 146ms\tremaining: 1.27s\n",
      "103:\tlearn: 0.3016395\ttotal: 146ms\tremaining: 1.26s\n",
      "104:\tlearn: 0.3001940\ttotal: 147ms\tremaining: 1.26s\n",
      "105:\tlearn: 0.2986901\ttotal: 148ms\tremaining: 1.25s\n",
      "106:\tlearn: 0.2969258\ttotal: 149ms\tremaining: 1.25s\n",
      "107:\tlearn: 0.2952786\ttotal: 150ms\tremaining: 1.24s\n",
      "108:\tlearn: 0.2936054\ttotal: 151ms\tremaining: 1.23s\n",
      "109:\tlearn: 0.2922956\ttotal: 152ms\tremaining: 1.23s\n",
      "110:\tlearn: 0.2908014\ttotal: 152ms\tremaining: 1.22s\n",
      "111:\tlearn: 0.2894050\ttotal: 153ms\tremaining: 1.22s\n",
      "112:\tlearn: 0.2874876\ttotal: 154ms\tremaining: 1.21s\n",
      "113:\tlearn: 0.2863075\ttotal: 155ms\tremaining: 1.21s\n",
      "114:\tlearn: 0.2849595\ttotal: 156ms\tremaining: 1.2s\n",
      "115:\tlearn: 0.2837397\ttotal: 157ms\tremaining: 1.19s\n",
      "116:\tlearn: 0.2825939\ttotal: 158ms\tremaining: 1.19s\n",
      "117:\tlearn: 0.2813662\ttotal: 158ms\tremaining: 1.18s\n",
      "118:\tlearn: 0.2801368\ttotal: 159ms\tremaining: 1.18s\n",
      "119:\tlearn: 0.2792683\ttotal: 160ms\tremaining: 1.17s\n",
      "120:\tlearn: 0.2777599\ttotal: 161ms\tremaining: 1.17s\n",
      "121:\tlearn: 0.2769468\ttotal: 162ms\tremaining: 1.16s\n",
      "122:\tlearn: 0.2759158\ttotal: 163ms\tremaining: 1.16s\n",
      "123:\tlearn: 0.2747775\ttotal: 163ms\tremaining: 1.15s\n",
      "124:\tlearn: 0.2736181\ttotal: 164ms\tremaining: 1.15s\n",
      "125:\tlearn: 0.2722635\ttotal: 165ms\tremaining: 1.15s\n",
      "126:\tlearn: 0.2706610\ttotal: 166ms\tremaining: 1.14s\n",
      "127:\tlearn: 0.2694730\ttotal: 167ms\tremaining: 1.14s\n",
      "128:\tlearn: 0.2682229\ttotal: 169ms\tremaining: 1.14s\n",
      "129:\tlearn: 0.2672466\ttotal: 170ms\tremaining: 1.14s\n",
      "130:\tlearn: 0.2663148\ttotal: 170ms\tremaining: 1.13s\n",
      "131:\tlearn: 0.2651931\ttotal: 171ms\tremaining: 1.13s\n",
      "132:\tlearn: 0.2644011\ttotal: 172ms\tremaining: 1.12s\n",
      "133:\tlearn: 0.2633051\ttotal: 173ms\tremaining: 1.11s\n",
      "134:\tlearn: 0.2623011\ttotal: 173ms\tremaining: 1.11s\n",
      "135:\tlearn: 0.2613916\ttotal: 174ms\tremaining: 1.11s\n",
      "136:\tlearn: 0.2607674\ttotal: 175ms\tremaining: 1.1s\n",
      "137:\tlearn: 0.2597951\ttotal: 176ms\tremaining: 1.1s\n",
      "138:\tlearn: 0.2589437\ttotal: 177ms\tremaining: 1.09s\n",
      "139:\tlearn: 0.2579020\ttotal: 178ms\tremaining: 1.09s\n",
      "140:\tlearn: 0.2570209\ttotal: 179ms\tremaining: 1.09s\n",
      "141:\tlearn: 0.2563047\ttotal: 179ms\tremaining: 1.08s\n",
      "142:\tlearn: 0.2557414\ttotal: 180ms\tremaining: 1.08s\n",
      "143:\tlearn: 0.2549195\ttotal: 181ms\tremaining: 1.08s\n",
      "144:\tlearn: 0.2537397\ttotal: 182ms\tremaining: 1.07s\n",
      "145:\tlearn: 0.2530480\ttotal: 183ms\tremaining: 1.07s\n",
      "146:\tlearn: 0.2525089\ttotal: 184ms\tremaining: 1.07s\n",
      "147:\tlearn: 0.2516394\ttotal: 185ms\tremaining: 1.06s\n",
      "148:\tlearn: 0.2509202\ttotal: 186ms\tremaining: 1.06s\n",
      "149:\tlearn: 0.2502034\ttotal: 187ms\tremaining: 1.06s\n",
      "150:\tlearn: 0.2494327\ttotal: 188ms\tremaining: 1.06s\n",
      "151:\tlearn: 0.2488376\ttotal: 189ms\tremaining: 1.05s\n",
      "152:\tlearn: 0.2482198\ttotal: 190ms\tremaining: 1.05s\n",
      "153:\tlearn: 0.2476516\ttotal: 191ms\tremaining: 1.05s\n"
     ]
    },
    {
     "name": "stdout",
     "output_type": "stream",
     "text": [
      "154:\tlearn: 0.2468864\ttotal: 192ms\tremaining: 1.04s\n",
      "155:\tlearn: 0.2460397\ttotal: 193ms\tremaining: 1.04s\n",
      "156:\tlearn: 0.2451562\ttotal: 193ms\tremaining: 1.04s\n",
      "157:\tlearn: 0.2440827\ttotal: 194ms\tremaining: 1.03s\n",
      "158:\tlearn: 0.2432392\ttotal: 195ms\tremaining: 1.03s\n",
      "159:\tlearn: 0.2425872\ttotal: 196ms\tremaining: 1.03s\n",
      "160:\tlearn: 0.2419220\ttotal: 197ms\tremaining: 1.02s\n",
      "161:\tlearn: 0.2410747\ttotal: 197ms\tremaining: 1.02s\n",
      "162:\tlearn: 0.2402002\ttotal: 198ms\tremaining: 1.02s\n",
      "163:\tlearn: 0.2394358\ttotal: 199ms\tremaining: 1.01s\n",
      "164:\tlearn: 0.2389103\ttotal: 200ms\tremaining: 1.01s\n",
      "165:\tlearn: 0.2380728\ttotal: 200ms\tremaining: 1.01s\n",
      "166:\tlearn: 0.2374246\ttotal: 201ms\tremaining: 1s\n",
      "167:\tlearn: 0.2362982\ttotal: 202ms\tremaining: 1s\n",
      "168:\tlearn: 0.2357022\ttotal: 203ms\tremaining: 997ms\n",
      "169:\tlearn: 0.2352101\ttotal: 204ms\tremaining: 995ms\n",
      "170:\tlearn: 0.2345377\ttotal: 205ms\tremaining: 992ms\n",
      "171:\tlearn: 0.2339167\ttotal: 205ms\tremaining: 989ms\n",
      "172:\tlearn: 0.2333621\ttotal: 206ms\tremaining: 986ms\n",
      "173:\tlearn: 0.2327520\ttotal: 207ms\tremaining: 983ms\n",
      "174:\tlearn: 0.2320621\ttotal: 208ms\tremaining: 980ms\n",
      "175:\tlearn: 0.2313435\ttotal: 209ms\tremaining: 977ms\n",
      "176:\tlearn: 0.2305059\ttotal: 210ms\tremaining: 975ms\n",
      "177:\tlearn: 0.2299119\ttotal: 210ms\tremaining: 971ms\n",
      "178:\tlearn: 0.2293003\ttotal: 211ms\tremaining: 969ms\n",
      "179:\tlearn: 0.2284902\ttotal: 212ms\tremaining: 966ms\n",
      "180:\tlearn: 0.2278623\ttotal: 213ms\tremaining: 963ms\n",
      "181:\tlearn: 0.2272857\ttotal: 214ms\tremaining: 960ms\n",
      "182:\tlearn: 0.2267528\ttotal: 214ms\tremaining: 957ms\n",
      "183:\tlearn: 0.2261880\ttotal: 215ms\tremaining: 954ms\n",
      "184:\tlearn: 0.2255920\ttotal: 216ms\tremaining: 951ms\n",
      "185:\tlearn: 0.2248407\ttotal: 217ms\tremaining: 949ms\n",
      "186:\tlearn: 0.2238278\ttotal: 218ms\tremaining: 946ms\n",
      "187:\tlearn: 0.2234080\ttotal: 218ms\tremaining: 943ms\n",
      "188:\tlearn: 0.2227094\ttotal: 219ms\tremaining: 941ms\n",
      "189:\tlearn: 0.2221738\ttotal: 220ms\tremaining: 938ms\n",
      "190:\tlearn: 0.2216575\ttotal: 221ms\tremaining: 935ms\n",
      "191:\tlearn: 0.2210589\ttotal: 222ms\tremaining: 932ms\n",
      "192:\tlearn: 0.2206750\ttotal: 222ms\tremaining: 930ms\n",
      "193:\tlearn: 0.2201030\ttotal: 223ms\tremaining: 927ms\n",
      "194:\tlearn: 0.2195641\ttotal: 224ms\tremaining: 924ms\n",
      "195:\tlearn: 0.2190245\ttotal: 225ms\tremaining: 922ms\n",
      "196:\tlearn: 0.2186554\ttotal: 226ms\tremaining: 920ms\n",
      "197:\tlearn: 0.2180234\ttotal: 226ms\tremaining: 917ms\n",
      "198:\tlearn: 0.2172184\ttotal: 227ms\tremaining: 915ms\n",
      "199:\tlearn: 0.2165022\ttotal: 228ms\tremaining: 912ms\n",
      "200:\tlearn: 0.2158577\ttotal: 229ms\tremaining: 910ms\n",
      "201:\tlearn: 0.2153187\ttotal: 230ms\tremaining: 907ms\n",
      "202:\tlearn: 0.2148792\ttotal: 230ms\tremaining: 904ms\n",
      "203:\tlearn: 0.2142686\ttotal: 232ms\tremaining: 904ms\n",
      "204:\tlearn: 0.2137093\ttotal: 233ms\tremaining: 902ms\n",
      "205:\tlearn: 0.2128753\ttotal: 233ms\tremaining: 900ms\n",
      "206:\tlearn: 0.2123176\ttotal: 234ms\tremaining: 898ms\n",
      "207:\tlearn: 0.2118934\ttotal: 235ms\tremaining: 896ms\n",
      "208:\tlearn: 0.2114197\ttotal: 236ms\tremaining: 894ms\n",
      "209:\tlearn: 0.2109717\ttotal: 237ms\tremaining: 892ms\n",
      "210:\tlearn: 0.2104000\ttotal: 238ms\tremaining: 890ms\n",
      "211:\tlearn: 0.2099131\ttotal: 239ms\tremaining: 887ms\n",
      "212:\tlearn: 0.2094752\ttotal: 239ms\tremaining: 885ms\n",
      "213:\tlearn: 0.2091556\ttotal: 240ms\tremaining: 883ms\n",
      "214:\tlearn: 0.2085925\ttotal: 241ms\tremaining: 881ms\n",
      "215:\tlearn: 0.2081460\ttotal: 242ms\tremaining: 879ms\n",
      "216:\tlearn: 0.2075610\ttotal: 243ms\tremaining: 877ms\n",
      "217:\tlearn: 0.2071161\ttotal: 244ms\tremaining: 874ms\n",
      "218:\tlearn: 0.2063616\ttotal: 245ms\tremaining: 872ms\n",
      "219:\tlearn: 0.2057431\ttotal: 245ms\tremaining: 870ms\n",
      "220:\tlearn: 0.2052817\ttotal: 246ms\tremaining: 868ms\n",
      "221:\tlearn: 0.2045025\ttotal: 247ms\tremaining: 866ms\n",
      "222:\tlearn: 0.2040674\ttotal: 248ms\tremaining: 863ms\n",
      "223:\tlearn: 0.2033661\ttotal: 249ms\tremaining: 861ms\n",
      "224:\tlearn: 0.2027193\ttotal: 249ms\tremaining: 859ms\n",
      "225:\tlearn: 0.2024065\ttotal: 250ms\tremaining: 857ms\n",
      "226:\tlearn: 0.2019129\ttotal: 251ms\tremaining: 855ms\n",
      "227:\tlearn: 0.2017208\ttotal: 252ms\tremaining: 852ms\n",
      "228:\tlearn: 0.2012381\ttotal: 253ms\tremaining: 850ms\n",
      "229:\tlearn: 0.2005451\ttotal: 253ms\tremaining: 848ms\n",
      "230:\tlearn: 0.2000543\ttotal: 254ms\tremaining: 846ms\n",
      "231:\tlearn: 0.1995790\ttotal: 255ms\tremaining: 844ms\n",
      "232:\tlearn: 0.1991105\ttotal: 256ms\tremaining: 842ms\n",
      "233:\tlearn: 0.1987863\ttotal: 257ms\tremaining: 840ms\n",
      "234:\tlearn: 0.1983396\ttotal: 257ms\tremaining: 837ms\n",
      "235:\tlearn: 0.1978470\ttotal: 258ms\tremaining: 835ms\n",
      "236:\tlearn: 0.1972811\ttotal: 259ms\tremaining: 833ms\n",
      "237:\tlearn: 0.1967215\ttotal: 260ms\tremaining: 831ms\n",
      "238:\tlearn: 0.1962368\ttotal: 260ms\tremaining: 829ms\n",
      "239:\tlearn: 0.1958670\ttotal: 261ms\tremaining: 827ms\n",
      "240:\tlearn: 0.1954388\ttotal: 262ms\tremaining: 825ms\n",
      "241:\tlearn: 0.1949772\ttotal: 263ms\tremaining: 823ms\n",
      "242:\tlearn: 0.1946849\ttotal: 263ms\tremaining: 821ms\n",
      "243:\tlearn: 0.1943172\ttotal: 264ms\tremaining: 819ms\n",
      "244:\tlearn: 0.1937651\ttotal: 265ms\tremaining: 817ms\n",
      "245:\tlearn: 0.1932796\ttotal: 266ms\tremaining: 815ms\n",
      "246:\tlearn: 0.1928171\ttotal: 267ms\tremaining: 813ms\n",
      "247:\tlearn: 0.1924924\ttotal: 267ms\tremaining: 811ms\n",
      "248:\tlearn: 0.1919990\ttotal: 268ms\tremaining: 809ms\n",
      "249:\tlearn: 0.1914183\ttotal: 269ms\tremaining: 807ms\n",
      "250:\tlearn: 0.1908434\ttotal: 270ms\tremaining: 805ms\n",
      "251:\tlearn: 0.1904564\ttotal: 271ms\tremaining: 804ms\n",
      "252:\tlearn: 0.1901094\ttotal: 272ms\tremaining: 802ms\n",
      "253:\tlearn: 0.1895313\ttotal: 273ms\tremaining: 801ms\n",
      "254:\tlearn: 0.1891529\ttotal: 273ms\tremaining: 799ms\n",
      "255:\tlearn: 0.1887993\ttotal: 274ms\tremaining: 797ms\n",
      "256:\tlearn: 0.1882320\ttotal: 275ms\tremaining: 796ms\n",
      "257:\tlearn: 0.1879302\ttotal: 276ms\tremaining: 794ms\n",
      "258:\tlearn: 0.1875804\ttotal: 277ms\tremaining: 793ms\n",
      "259:\tlearn: 0.1871172\ttotal: 278ms\tremaining: 791ms\n",
      "260:\tlearn: 0.1867960\ttotal: 279ms\tremaining: 789ms\n",
      "261:\tlearn: 0.1863969\ttotal: 279ms\tremaining: 787ms\n",
      "262:\tlearn: 0.1859807\ttotal: 280ms\tremaining: 785ms\n",
      "263:\tlearn: 0.1856560\ttotal: 281ms\tremaining: 784ms\n",
      "264:\tlearn: 0.1850969\ttotal: 282ms\tremaining: 782ms\n",
      "265:\tlearn: 0.1846050\ttotal: 283ms\tremaining: 780ms\n",
      "266:\tlearn: 0.1841188\ttotal: 284ms\tremaining: 779ms\n",
      "267:\tlearn: 0.1837022\ttotal: 285ms\tremaining: 777ms\n",
      "268:\tlearn: 0.1832705\ttotal: 285ms\tremaining: 776ms\n",
      "269:\tlearn: 0.1828217\ttotal: 286ms\tremaining: 774ms\n",
      "270:\tlearn: 0.1824487\ttotal: 287ms\tremaining: 772ms\n",
      "271:\tlearn: 0.1821480\ttotal: 288ms\tremaining: 770ms\n",
      "272:\tlearn: 0.1816591\ttotal: 289ms\tremaining: 769ms\n",
      "273:\tlearn: 0.1813143\ttotal: 289ms\tremaining: 767ms\n",
      "274:\tlearn: 0.1809960\ttotal: 290ms\tremaining: 765ms\n",
      "275:\tlearn: 0.1806798\ttotal: 291ms\tremaining: 763ms\n",
      "276:\tlearn: 0.1799166\ttotal: 292ms\tremaining: 762ms\n",
      "277:\tlearn: 0.1795058\ttotal: 293ms\tremaining: 760ms\n",
      "278:\tlearn: 0.1793094\ttotal: 294ms\tremaining: 759ms\n",
      "279:\tlearn: 0.1787981\ttotal: 294ms\tremaining: 757ms\n",
      "280:\tlearn: 0.1784575\ttotal: 295ms\tremaining: 755ms\n",
      "281:\tlearn: 0.1779625\ttotal: 296ms\tremaining: 754ms\n",
      "282:\tlearn: 0.1774777\ttotal: 297ms\tremaining: 752ms\n",
      "283:\tlearn: 0.1770108\ttotal: 298ms\tremaining: 751ms\n"
     ]
    },
    {
     "name": "stdout",
     "output_type": "stream",
     "text": [
      "284:\tlearn: 0.1764844\ttotal: 299ms\tremaining: 749ms\n",
      "285:\tlearn: 0.1758488\ttotal: 300ms\tremaining: 748ms\n",
      "286:\tlearn: 0.1754967\ttotal: 301ms\tremaining: 747ms\n",
      "287:\tlearn: 0.1751554\ttotal: 302ms\tremaining: 746ms\n",
      "288:\tlearn: 0.1746761\ttotal: 302ms\tremaining: 744ms\n",
      "289:\tlearn: 0.1742324\ttotal: 303ms\tremaining: 742ms\n",
      "290:\tlearn: 0.1740604\ttotal: 304ms\tremaining: 741ms\n",
      "291:\tlearn: 0.1738945\ttotal: 305ms\tremaining: 739ms\n",
      "292:\tlearn: 0.1735667\ttotal: 306ms\tremaining: 738ms\n",
      "293:\tlearn: 0.1730796\ttotal: 307ms\tremaining: 736ms\n",
      "294:\tlearn: 0.1726769\ttotal: 307ms\tremaining: 735ms\n",
      "295:\tlearn: 0.1723616\ttotal: 308ms\tremaining: 733ms\n",
      "296:\tlearn: 0.1719708\ttotal: 309ms\tremaining: 732ms\n",
      "297:\tlearn: 0.1715467\ttotal: 311ms\tremaining: 732ms\n",
      "298:\tlearn: 0.1710695\ttotal: 312ms\tremaining: 730ms\n",
      "299:\tlearn: 0.1706622\ttotal: 312ms\tremaining: 729ms\n",
      "300:\tlearn: 0.1701802\ttotal: 313ms\tremaining: 727ms\n",
      "301:\tlearn: 0.1700258\ttotal: 314ms\tremaining: 726ms\n",
      "302:\tlearn: 0.1699350\ttotal: 315ms\tremaining: 724ms\n",
      "303:\tlearn: 0.1695442\ttotal: 316ms\tremaining: 722ms\n",
      "304:\tlearn: 0.1691573\ttotal: 316ms\tremaining: 721ms\n",
      "305:\tlearn: 0.1687060\ttotal: 317ms\tremaining: 719ms\n",
      "306:\tlearn: 0.1682540\ttotal: 318ms\tremaining: 718ms\n",
      "307:\tlearn: 0.1679008\ttotal: 319ms\tremaining: 716ms\n",
      "308:\tlearn: 0.1674213\ttotal: 320ms\tremaining: 715ms\n",
      "309:\tlearn: 0.1670820\ttotal: 320ms\tremaining: 713ms\n",
      "310:\tlearn: 0.1667622\ttotal: 321ms\tremaining: 712ms\n",
      "311:\tlearn: 0.1665347\ttotal: 322ms\tremaining: 710ms\n",
      "312:\tlearn: 0.1662302\ttotal: 323ms\tremaining: 709ms\n",
      "313:\tlearn: 0.1659306\ttotal: 324ms\tremaining: 708ms\n",
      "314:\tlearn: 0.1655216\ttotal: 325ms\tremaining: 706ms\n",
      "315:\tlearn: 0.1650944\ttotal: 325ms\tremaining: 705ms\n",
      "316:\tlearn: 0.1647609\ttotal: 326ms\tremaining: 703ms\n",
      "317:\tlearn: 0.1644952\ttotal: 327ms\tremaining: 701ms\n",
      "318:\tlearn: 0.1639966\ttotal: 328ms\tremaining: 700ms\n",
      "319:\tlearn: 0.1635467\ttotal: 329ms\tremaining: 698ms\n",
      "320:\tlearn: 0.1632818\ttotal: 329ms\tremaining: 697ms\n",
      "321:\tlearn: 0.1630139\ttotal: 330ms\tremaining: 695ms\n",
      "322:\tlearn: 0.1626512\ttotal: 331ms\tremaining: 694ms\n",
      "323:\tlearn: 0.1621111\ttotal: 332ms\tremaining: 693ms\n",
      "324:\tlearn: 0.1616713\ttotal: 333ms\tremaining: 691ms\n",
      "325:\tlearn: 0.1614120\ttotal: 334ms\tremaining: 690ms\n",
      "326:\tlearn: 0.1610267\ttotal: 335ms\tremaining: 688ms\n",
      "327:\tlearn: 0.1608485\ttotal: 335ms\tremaining: 687ms\n",
      "328:\tlearn: 0.1606102\ttotal: 336ms\tremaining: 685ms\n",
      "329:\tlearn: 0.1603616\ttotal: 337ms\tremaining: 684ms\n",
      "330:\tlearn: 0.1599870\ttotal: 338ms\tremaining: 682ms\n",
      "331:\tlearn: 0.1597437\ttotal: 338ms\tremaining: 681ms\n",
      "332:\tlearn: 0.1592771\ttotal: 339ms\tremaining: 680ms\n",
      "333:\tlearn: 0.1589345\ttotal: 340ms\tremaining: 678ms\n",
      "334:\tlearn: 0.1584548\ttotal: 341ms\tremaining: 677ms\n",
      "335:\tlearn: 0.1581075\ttotal: 342ms\tremaining: 676ms\n",
      "336:\tlearn: 0.1578773\ttotal: 343ms\tremaining: 674ms\n",
      "337:\tlearn: 0.1575364\ttotal: 344ms\tremaining: 673ms\n",
      "338:\tlearn: 0.1573053\ttotal: 344ms\tremaining: 672ms\n",
      "339:\tlearn: 0.1569828\ttotal: 345ms\tremaining: 670ms\n",
      "340:\tlearn: 0.1567467\ttotal: 346ms\tremaining: 669ms\n",
      "341:\tlearn: 0.1565124\ttotal: 347ms\tremaining: 668ms\n",
      "342:\tlearn: 0.1563122\ttotal: 348ms\tremaining: 666ms\n",
      "343:\tlearn: 0.1558631\ttotal: 349ms\tremaining: 665ms\n",
      "344:\tlearn: 0.1555314\ttotal: 350ms\tremaining: 664ms\n",
      "345:\tlearn: 0.1552536\ttotal: 350ms\tremaining: 662ms\n",
      "346:\tlearn: 0.1547464\ttotal: 351ms\tremaining: 661ms\n",
      "347:\tlearn: 0.1543449\ttotal: 352ms\tremaining: 659ms\n",
      "348:\tlearn: 0.1538976\ttotal: 353ms\tremaining: 658ms\n",
      "349:\tlearn: 0.1536248\ttotal: 354ms\tremaining: 657ms\n",
      "350:\tlearn: 0.1533974\ttotal: 354ms\tremaining: 655ms\n",
      "351:\tlearn: 0.1531242\ttotal: 355ms\tremaining: 654ms\n",
      "352:\tlearn: 0.1527561\ttotal: 356ms\tremaining: 652ms\n",
      "353:\tlearn: 0.1524162\ttotal: 357ms\tremaining: 651ms\n",
      "354:\tlearn: 0.1519051\ttotal: 358ms\tremaining: 650ms\n",
      "355:\tlearn: 0.1517340\ttotal: 359ms\tremaining: 649ms\n",
      "356:\tlearn: 0.1513485\ttotal: 360ms\tremaining: 648ms\n",
      "357:\tlearn: 0.1510724\ttotal: 361ms\tremaining: 647ms\n",
      "358:\tlearn: 0.1508841\ttotal: 362ms\tremaining: 646ms\n",
      "359:\tlearn: 0.1506511\ttotal: 363ms\tremaining: 645ms\n",
      "360:\tlearn: 0.1502673\ttotal: 364ms\tremaining: 644ms\n",
      "361:\tlearn: 0.1498778\ttotal: 364ms\tremaining: 642ms\n",
      "362:\tlearn: 0.1495410\ttotal: 365ms\tremaining: 641ms\n",
      "363:\tlearn: 0.1492288\ttotal: 366ms\tremaining: 640ms\n",
      "364:\tlearn: 0.1487580\ttotal: 367ms\tremaining: 639ms\n",
      "365:\tlearn: 0.1483475\ttotal: 369ms\tremaining: 639ms\n",
      "366:\tlearn: 0.1479643\ttotal: 370ms\tremaining: 638ms\n",
      "367:\tlearn: 0.1475779\ttotal: 371ms\tremaining: 637ms\n",
      "368:\tlearn: 0.1471694\ttotal: 372ms\tremaining: 635ms\n",
      "369:\tlearn: 0.1468767\ttotal: 372ms\tremaining: 634ms\n",
      "370:\tlearn: 0.1465166\ttotal: 373ms\tremaining: 633ms\n",
      "371:\tlearn: 0.1462749\ttotal: 374ms\tremaining: 632ms\n",
      "372:\tlearn: 0.1458783\ttotal: 375ms\tremaining: 631ms\n",
      "373:\tlearn: 0.1456409\ttotal: 376ms\tremaining: 630ms\n",
      "374:\tlearn: 0.1454724\ttotal: 377ms\tremaining: 628ms\n",
      "375:\tlearn: 0.1451543\ttotal: 378ms\tremaining: 627ms\n",
      "376:\tlearn: 0.1448098\ttotal: 379ms\tremaining: 626ms\n",
      "377:\tlearn: 0.1444535\ttotal: 380ms\tremaining: 625ms\n",
      "378:\tlearn: 0.1442011\ttotal: 381ms\tremaining: 624ms\n"
     ]
    },
    {
     "name": "stdout",
     "output_type": "stream",
     "text": [
      "379:\tlearn: 0.1439523\ttotal: 382ms\tremaining: 623ms\n",
      "380:\tlearn: 0.1435530\ttotal: 383ms\tremaining: 622ms\n",
      "381:\tlearn: 0.1432435\ttotal: 383ms\tremaining: 620ms\n",
      "382:\tlearn: 0.1429054\ttotal: 384ms\tremaining: 619ms\n",
      "383:\tlearn: 0.1424810\ttotal: 385ms\tremaining: 618ms\n",
      "384:\tlearn: 0.1421536\ttotal: 386ms\tremaining: 617ms\n",
      "385:\tlearn: 0.1418543\ttotal: 387ms\tremaining: 615ms\n",
      "386:\tlearn: 0.1416365\ttotal: 388ms\tremaining: 614ms\n",
      "387:\tlearn: 0.1414465\ttotal: 388ms\tremaining: 613ms\n",
      "388:\tlearn: 0.1412655\ttotal: 389ms\tremaining: 612ms\n",
      "389:\tlearn: 0.1411120\ttotal: 390ms\tremaining: 610ms\n",
      "390:\tlearn: 0.1406886\ttotal: 391ms\tremaining: 609ms\n",
      "391:\tlearn: 0.1402902\ttotal: 392ms\tremaining: 608ms\n",
      "392:\tlearn: 0.1400327\ttotal: 393ms\tremaining: 606ms\n",
      "393:\tlearn: 0.1396516\ttotal: 393ms\tremaining: 605ms\n",
      "394:\tlearn: 0.1392965\ttotal: 394ms\tremaining: 604ms\n",
      "395:\tlearn: 0.1391160\ttotal: 395ms\tremaining: 602ms\n",
      "396:\tlearn: 0.1387579\ttotal: 396ms\tremaining: 601ms\n",
      "397:\tlearn: 0.1384763\ttotal: 397ms\tremaining: 600ms\n",
      "398:\tlearn: 0.1382440\ttotal: 398ms\tremaining: 599ms\n",
      "399:\tlearn: 0.1378676\ttotal: 398ms\tremaining: 597ms\n",
      "400:\tlearn: 0.1376694\ttotal: 399ms\tremaining: 596ms\n",
      "401:\tlearn: 0.1373559\ttotal: 400ms\tremaining: 595ms\n",
      "402:\tlearn: 0.1370635\ttotal: 401ms\tremaining: 593ms\n",
      "403:\tlearn: 0.1367695\ttotal: 401ms\tremaining: 592ms\n",
      "404:\tlearn: 0.1365221\ttotal: 402ms\tremaining: 591ms\n",
      "405:\tlearn: 0.1361868\ttotal: 403ms\tremaining: 590ms\n",
      "406:\tlearn: 0.1358872\ttotal: 404ms\tremaining: 588ms\n",
      "407:\tlearn: 0.1355678\ttotal: 405ms\tremaining: 587ms\n",
      "408:\tlearn: 0.1353107\ttotal: 406ms\tremaining: 586ms\n",
      "409:\tlearn: 0.1349545\ttotal: 406ms\tremaining: 585ms\n",
      "410:\tlearn: 0.1347188\ttotal: 407ms\tremaining: 584ms\n",
      "411:\tlearn: 0.1344066\ttotal: 408ms\tremaining: 582ms\n",
      "412:\tlearn: 0.1341046\ttotal: 409ms\tremaining: 581ms\n",
      "413:\tlearn: 0.1338845\ttotal: 410ms\tremaining: 580ms\n",
      "414:\tlearn: 0.1335976\ttotal: 410ms\tremaining: 579ms\n",
      "415:\tlearn: 0.1334253\ttotal: 411ms\tremaining: 577ms\n",
      "416:\tlearn: 0.1332304\ttotal: 412ms\tremaining: 576ms\n",
      "417:\tlearn: 0.1329798\ttotal: 413ms\tremaining: 575ms\n",
      "418:\tlearn: 0.1326866\ttotal: 414ms\tremaining: 574ms\n",
      "419:\tlearn: 0.1323933\ttotal: 415ms\tremaining: 572ms\n",
      "420:\tlearn: 0.1321575\ttotal: 415ms\tremaining: 571ms\n",
      "421:\tlearn: 0.1317762\ttotal: 416ms\tremaining: 570ms\n",
      "422:\tlearn: 0.1314861\ttotal: 417ms\tremaining: 569ms\n",
      "423:\tlearn: 0.1311446\ttotal: 418ms\tremaining: 568ms\n",
      "424:\tlearn: 0.1309387\ttotal: 419ms\tremaining: 567ms\n",
      "425:\tlearn: 0.1305786\ttotal: 420ms\tremaining: 566ms\n",
      "426:\tlearn: 0.1302973\ttotal: 421ms\tremaining: 564ms\n",
      "427:\tlearn: 0.1300980\ttotal: 421ms\tremaining: 563ms\n",
      "428:\tlearn: 0.1298113\ttotal: 422ms\tremaining: 562ms\n",
      "429:\tlearn: 0.1295298\ttotal: 423ms\tremaining: 561ms\n",
      "430:\tlearn: 0.1292549\ttotal: 424ms\tremaining: 559ms\n",
      "431:\tlearn: 0.1290266\ttotal: 424ms\tremaining: 558ms\n",
      "432:\tlearn: 0.1287489\ttotal: 425ms\tremaining: 557ms\n",
      "433:\tlearn: 0.1285191\ttotal: 426ms\tremaining: 556ms\n",
      "434:\tlearn: 0.1281931\ttotal: 427ms\tremaining: 554ms\n",
      "435:\tlearn: 0.1278698\ttotal: 428ms\tremaining: 553ms\n",
      "436:\tlearn: 0.1276803\ttotal: 428ms\tremaining: 552ms\n",
      "437:\tlearn: 0.1273569\ttotal: 429ms\tremaining: 551ms\n",
      "438:\tlearn: 0.1270135\ttotal: 430ms\tremaining: 550ms\n",
      "439:\tlearn: 0.1266595\ttotal: 431ms\tremaining: 549ms\n",
      "440:\tlearn: 0.1263529\ttotal: 432ms\tremaining: 548ms\n",
      "441:\tlearn: 0.1260851\ttotal: 433ms\tremaining: 546ms\n",
      "442:\tlearn: 0.1258722\ttotal: 434ms\tremaining: 545ms\n",
      "443:\tlearn: 0.1255472\ttotal: 434ms\tremaining: 544ms\n",
      "444:\tlearn: 0.1252950\ttotal: 435ms\tremaining: 543ms\n",
      "445:\tlearn: 0.1249645\ttotal: 436ms\tremaining: 542ms\n",
      "446:\tlearn: 0.1247610\ttotal: 437ms\tremaining: 540ms\n",
      "447:\tlearn: 0.1243761\ttotal: 438ms\tremaining: 539ms\n",
      "448:\tlearn: 0.1240821\ttotal: 438ms\tremaining: 538ms\n",
      "449:\tlearn: 0.1238558\ttotal: 439ms\tremaining: 537ms\n",
      "450:\tlearn: 0.1236662\ttotal: 440ms\tremaining: 536ms\n",
      "451:\tlearn: 0.1235034\ttotal: 441ms\tremaining: 535ms\n",
      "452:\tlearn: 0.1233724\ttotal: 442ms\tremaining: 533ms\n",
      "453:\tlearn: 0.1232015\ttotal: 443ms\tremaining: 532ms\n",
      "454:\tlearn: 0.1230275\ttotal: 443ms\tremaining: 531ms\n",
      "455:\tlearn: 0.1228834\ttotal: 444ms\tremaining: 530ms\n",
      "456:\tlearn: 0.1226690\ttotal: 445ms\tremaining: 529ms\n",
      "457:\tlearn: 0.1225636\ttotal: 446ms\tremaining: 528ms\n",
      "458:\tlearn: 0.1223601\ttotal: 447ms\tremaining: 526ms\n",
      "459:\tlearn: 0.1221091\ttotal: 447ms\tremaining: 525ms\n",
      "460:\tlearn: 0.1218453\ttotal: 448ms\tremaining: 524ms\n",
      "461:\tlearn: 0.1215875\ttotal: 449ms\tremaining: 523ms\n",
      "462:\tlearn: 0.1213074\ttotal: 450ms\tremaining: 522ms\n",
      "463:\tlearn: 0.1211907\ttotal: 450ms\tremaining: 520ms\n",
      "464:\tlearn: 0.1210879\ttotal: 451ms\tremaining: 519ms\n",
      "465:\tlearn: 0.1208680\ttotal: 452ms\tremaining: 518ms\n",
      "466:\tlearn: 0.1206249\ttotal: 453ms\tremaining: 517ms\n",
      "467:\tlearn: 0.1203122\ttotal: 454ms\tremaining: 516ms\n",
      "468:\tlearn: 0.1199584\ttotal: 454ms\tremaining: 514ms\n",
      "469:\tlearn: 0.1198213\ttotal: 455ms\tremaining: 513ms\n",
      "470:\tlearn: 0.1195439\ttotal: 456ms\tremaining: 512ms\n",
      "471:\tlearn: 0.1193058\ttotal: 457ms\tremaining: 511ms\n",
      "472:\tlearn: 0.1191696\ttotal: 458ms\tremaining: 510ms\n",
      "473:\tlearn: 0.1189645\ttotal: 458ms\tremaining: 509ms\n",
      "474:\tlearn: 0.1186922\ttotal: 459ms\tremaining: 508ms\n",
      "475:\tlearn: 0.1185442\ttotal: 461ms\tremaining: 507ms\n",
      "476:\tlearn: 0.1182049\ttotal: 462ms\tremaining: 506ms\n",
      "477:\tlearn: 0.1179841\ttotal: 462ms\tremaining: 505ms\n",
      "478:\tlearn: 0.1177455\ttotal: 463ms\tremaining: 504ms\n",
      "479:\tlearn: 0.1175342\ttotal: 464ms\tremaining: 502ms\n",
      "480:\tlearn: 0.1172414\ttotal: 465ms\tremaining: 501ms\n",
      "481:\tlearn: 0.1171648\ttotal: 465ms\tremaining: 500ms\n",
      "482:\tlearn: 0.1170461\ttotal: 466ms\tremaining: 499ms\n",
      "483:\tlearn: 0.1168161\ttotal: 467ms\tremaining: 498ms\n",
      "484:\tlearn: 0.1166352\ttotal: 468ms\tremaining: 496ms\n",
      "485:\tlearn: 0.1164441\ttotal: 468ms\tremaining: 495ms\n",
      "486:\tlearn: 0.1163362\ttotal: 469ms\tremaining: 494ms\n",
      "487:\tlearn: 0.1160614\ttotal: 470ms\tremaining: 493ms\n",
      "488:\tlearn: 0.1158592\ttotal: 471ms\tremaining: 492ms\n",
      "489:\tlearn: 0.1157091\ttotal: 472ms\tremaining: 491ms\n",
      "490:\tlearn: 0.1154707\ttotal: 472ms\tremaining: 490ms\n",
      "491:\tlearn: 0.1152984\ttotal: 473ms\tremaining: 489ms\n",
      "492:\tlearn: 0.1151354\ttotal: 474ms\tremaining: 487ms\n",
      "493:\tlearn: 0.1147521\ttotal: 475ms\tremaining: 486ms\n",
      "494:\tlearn: 0.1145842\ttotal: 476ms\tremaining: 485ms\n",
      "495:\tlearn: 0.1143629\ttotal: 476ms\tremaining: 484ms\n",
      "496:\tlearn: 0.1141921\ttotal: 477ms\tremaining: 483ms\n",
      "497:\tlearn: 0.1139464\ttotal: 478ms\tremaining: 482ms\n",
      "498:\tlearn: 0.1137685\ttotal: 479ms\tremaining: 481ms\n",
      "499:\tlearn: 0.1134994\ttotal: 480ms\tremaining: 480ms\n",
      "500:\tlearn: 0.1133491\ttotal: 481ms\tremaining: 479ms\n",
      "501:\tlearn: 0.1131840\ttotal: 481ms\tremaining: 478ms\n",
      "502:\tlearn: 0.1130046\ttotal: 482ms\tremaining: 477ms\n",
      "503:\tlearn: 0.1128363\ttotal: 484ms\tremaining: 476ms\n",
      "504:\tlearn: 0.1127751\ttotal: 485ms\tremaining: 475ms\n"
     ]
    },
    {
     "name": "stdout",
     "output_type": "stream",
     "text": [
      "505:\tlearn: 0.1125988\ttotal: 486ms\tremaining: 474ms\n",
      "506:\tlearn: 0.1123871\ttotal: 487ms\tremaining: 474ms\n",
      "507:\tlearn: 0.1121548\ttotal: 488ms\tremaining: 473ms\n",
      "508:\tlearn: 0.1118867\ttotal: 489ms\tremaining: 472ms\n",
      "509:\tlearn: 0.1116983\ttotal: 490ms\tremaining: 471ms\n",
      "510:\tlearn: 0.1113853\ttotal: 491ms\tremaining: 470ms\n",
      "511:\tlearn: 0.1112124\ttotal: 492ms\tremaining: 469ms\n",
      "512:\tlearn: 0.1109780\ttotal: 493ms\tremaining: 468ms\n",
      "513:\tlearn: 0.1107902\ttotal: 494ms\tremaining: 467ms\n",
      "514:\tlearn: 0.1104923\ttotal: 495ms\tremaining: 466ms\n",
      "515:\tlearn: 0.1103629\ttotal: 495ms\tremaining: 465ms\n",
      "516:\tlearn: 0.1101602\ttotal: 496ms\tremaining: 464ms\n",
      "517:\tlearn: 0.1099637\ttotal: 497ms\tremaining: 462ms\n",
      "518:\tlearn: 0.1098143\ttotal: 498ms\tremaining: 461ms\n",
      "519:\tlearn: 0.1096446\ttotal: 499ms\tremaining: 460ms\n",
      "520:\tlearn: 0.1094634\ttotal: 500ms\tremaining: 459ms\n",
      "521:\tlearn: 0.1092561\ttotal: 500ms\tremaining: 458ms\n",
      "522:\tlearn: 0.1091487\ttotal: 501ms\tremaining: 457ms\n",
      "523:\tlearn: 0.1089712\ttotal: 502ms\tremaining: 456ms\n",
      "524:\tlearn: 0.1087947\ttotal: 503ms\tremaining: 455ms\n",
      "525:\tlearn: 0.1085483\ttotal: 504ms\tremaining: 454ms\n",
      "526:\tlearn: 0.1083733\ttotal: 504ms\tremaining: 453ms\n",
      "527:\tlearn: 0.1081814\ttotal: 505ms\tremaining: 452ms\n",
      "528:\tlearn: 0.1079973\ttotal: 506ms\tremaining: 451ms\n",
      "529:\tlearn: 0.1076940\ttotal: 507ms\tremaining: 450ms\n",
      "530:\tlearn: 0.1074873\ttotal: 508ms\tremaining: 449ms\n",
      "531:\tlearn: 0.1072318\ttotal: 509ms\tremaining: 448ms\n",
      "532:\tlearn: 0.1070270\ttotal: 510ms\tremaining: 447ms\n",
      "533:\tlearn: 0.1068529\ttotal: 510ms\tremaining: 445ms\n",
      "534:\tlearn: 0.1066670\ttotal: 511ms\tremaining: 444ms\n",
      "535:\tlearn: 0.1064949\ttotal: 512ms\tremaining: 443ms\n",
      "536:\tlearn: 0.1062886\ttotal: 513ms\tremaining: 442ms\n",
      "537:\tlearn: 0.1060853\ttotal: 514ms\tremaining: 441ms\n",
      "538:\tlearn: 0.1058067\ttotal: 515ms\tremaining: 440ms\n",
      "539:\tlearn: 0.1056372\ttotal: 516ms\tremaining: 439ms\n",
      "540:\tlearn: 0.1055119\ttotal: 516ms\tremaining: 438ms\n",
      "541:\tlearn: 0.1053232\ttotal: 517ms\tremaining: 437ms\n",
      "542:\tlearn: 0.1051495\ttotal: 518ms\tremaining: 436ms\n",
      "543:\tlearn: 0.1050276\ttotal: 519ms\tremaining: 435ms\n",
      "544:\tlearn: 0.1048286\ttotal: 520ms\tremaining: 434ms\n",
      "545:\tlearn: 0.1047170\ttotal: 521ms\tremaining: 433ms\n",
      "546:\tlearn: 0.1045283\ttotal: 522ms\tremaining: 432ms\n",
      "547:\tlearn: 0.1042672\ttotal: 523ms\tremaining: 431ms\n",
      "548:\tlearn: 0.1041769\ttotal: 523ms\tremaining: 430ms\n",
      "549:\tlearn: 0.1038733\ttotal: 524ms\tremaining: 429ms\n",
      "550:\tlearn: 0.1037352\ttotal: 525ms\tremaining: 428ms\n",
      "551:\tlearn: 0.1036049\ttotal: 526ms\tremaining: 427ms\n",
      "552:\tlearn: 0.1033854\ttotal: 527ms\tremaining: 426ms\n",
      "553:\tlearn: 0.1032200\ttotal: 528ms\tremaining: 425ms\n",
      "554:\tlearn: 0.1030392\ttotal: 529ms\tremaining: 424ms\n",
      "555:\tlearn: 0.1029144\ttotal: 530ms\tremaining: 423ms\n",
      "556:\tlearn: 0.1028110\ttotal: 530ms\tremaining: 422ms\n",
      "557:\tlearn: 0.1026005\ttotal: 531ms\tremaining: 421ms\n",
      "558:\tlearn: 0.1024279\ttotal: 532ms\tremaining: 420ms\n",
      "559:\tlearn: 0.1023060\ttotal: 533ms\tremaining: 419ms\n",
      "560:\tlearn: 0.1020808\ttotal: 534ms\tremaining: 418ms\n",
      "561:\tlearn: 0.1019510\ttotal: 535ms\tremaining: 417ms\n",
      "562:\tlearn: 0.1018118\ttotal: 536ms\tremaining: 416ms\n",
      "563:\tlearn: 0.1016502\ttotal: 537ms\tremaining: 415ms\n",
      "564:\tlearn: 0.1014850\ttotal: 537ms\tremaining: 414ms\n",
      "565:\tlearn: 0.1013665\ttotal: 538ms\tremaining: 413ms\n",
      "566:\tlearn: 0.1011471\ttotal: 539ms\tremaining: 412ms\n",
      "567:\tlearn: 0.1009707\ttotal: 540ms\tremaining: 411ms\n"
     ]
    },
    {
     "name": "stdout",
     "output_type": "stream",
     "text": [
      "568:\tlearn: 0.1008135\ttotal: 541ms\tremaining: 410ms\n",
      "569:\tlearn: 0.1006046\ttotal: 542ms\tremaining: 409ms\n",
      "570:\tlearn: 0.1004579\ttotal: 543ms\tremaining: 408ms\n",
      "571:\tlearn: 0.1003243\ttotal: 543ms\tremaining: 407ms\n",
      "572:\tlearn: 0.1002148\ttotal: 544ms\tremaining: 406ms\n",
      "573:\tlearn: 0.1000116\ttotal: 545ms\tremaining: 404ms\n",
      "574:\tlearn: 0.0997976\ttotal: 546ms\tremaining: 403ms\n",
      "575:\tlearn: 0.0995596\ttotal: 547ms\tremaining: 402ms\n",
      "576:\tlearn: 0.0993313\ttotal: 547ms\tremaining: 401ms\n",
      "577:\tlearn: 0.0991647\ttotal: 548ms\tremaining: 400ms\n",
      "578:\tlearn: 0.0990246\ttotal: 549ms\tremaining: 399ms\n",
      "579:\tlearn: 0.0989001\ttotal: 550ms\tremaining: 398ms\n",
      "580:\tlearn: 0.0987087\ttotal: 551ms\tremaining: 397ms\n",
      "581:\tlearn: 0.0984812\ttotal: 551ms\tremaining: 396ms\n",
      "582:\tlearn: 0.0983680\ttotal: 552ms\tremaining: 395ms\n",
      "583:\tlearn: 0.0982099\ttotal: 553ms\tremaining: 394ms\n",
      "584:\tlearn: 0.0981025\ttotal: 554ms\tremaining: 393ms\n",
      "585:\tlearn: 0.0980221\ttotal: 555ms\tremaining: 392ms\n",
      "586:\tlearn: 0.0978875\ttotal: 555ms\tremaining: 391ms\n",
      "587:\tlearn: 0.0977648\ttotal: 556ms\tremaining: 390ms\n",
      "588:\tlearn: 0.0975684\ttotal: 557ms\tremaining: 389ms\n",
      "589:\tlearn: 0.0974650\ttotal: 558ms\tremaining: 388ms\n",
      "590:\tlearn: 0.0973433\ttotal: 559ms\tremaining: 387ms\n",
      "591:\tlearn: 0.0972201\ttotal: 559ms\tremaining: 386ms\n",
      "592:\tlearn: 0.0970921\ttotal: 560ms\tremaining: 384ms\n",
      "593:\tlearn: 0.0969992\ttotal: 561ms\tremaining: 383ms\n",
      "594:\tlearn: 0.0968388\ttotal: 562ms\tremaining: 382ms\n",
      "595:\tlearn: 0.0967012\ttotal: 563ms\tremaining: 381ms\n",
      "596:\tlearn: 0.0965524\ttotal: 563ms\tremaining: 380ms\n",
      "597:\tlearn: 0.0963722\ttotal: 564ms\tremaining: 379ms\n",
      "598:\tlearn: 0.0962325\ttotal: 565ms\tremaining: 378ms\n",
      "599:\tlearn: 0.0960373\ttotal: 566ms\tremaining: 377ms\n",
      "600:\tlearn: 0.0959365\ttotal: 567ms\tremaining: 376ms\n",
      "601:\tlearn: 0.0958446\ttotal: 567ms\tremaining: 375ms\n",
      "602:\tlearn: 0.0956356\ttotal: 568ms\tremaining: 374ms\n",
      "603:\tlearn: 0.0955427\ttotal: 569ms\tremaining: 373ms\n",
      "604:\tlearn: 0.0954263\ttotal: 570ms\tremaining: 372ms\n",
      "605:\tlearn: 0.0952609\ttotal: 571ms\tremaining: 371ms\n",
      "606:\tlearn: 0.0950661\ttotal: 572ms\tremaining: 370ms\n",
      "607:\tlearn: 0.0949413\ttotal: 573ms\tremaining: 369ms\n",
      "608:\tlearn: 0.0947790\ttotal: 574ms\tremaining: 368ms\n",
      "609:\tlearn: 0.0945313\ttotal: 574ms\tremaining: 367ms\n",
      "610:\tlearn: 0.0943017\ttotal: 575ms\tremaining: 366ms\n",
      "611:\tlearn: 0.0942060\ttotal: 576ms\tremaining: 365ms\n",
      "612:\tlearn: 0.0939973\ttotal: 577ms\tremaining: 364ms\n",
      "613:\tlearn: 0.0938753\ttotal: 578ms\tremaining: 363ms\n",
      "614:\tlearn: 0.0936892\ttotal: 579ms\tremaining: 362ms\n",
      "615:\tlearn: 0.0934683\ttotal: 579ms\tremaining: 361ms\n",
      "616:\tlearn: 0.0932684\ttotal: 580ms\tremaining: 360ms\n",
      "617:\tlearn: 0.0930988\ttotal: 581ms\tremaining: 359ms\n",
      "618:\tlearn: 0.0929842\ttotal: 582ms\tremaining: 358ms\n",
      "619:\tlearn: 0.0928707\ttotal: 583ms\tremaining: 358ms\n",
      "620:\tlearn: 0.0927804\ttotal: 584ms\tremaining: 357ms\n",
      "621:\tlearn: 0.0926333\ttotal: 585ms\tremaining: 356ms\n",
      "622:\tlearn: 0.0924243\ttotal: 586ms\tremaining: 355ms\n",
      "623:\tlearn: 0.0922939\ttotal: 587ms\tremaining: 353ms\n",
      "624:\tlearn: 0.0921912\ttotal: 587ms\tremaining: 352ms\n",
      "625:\tlearn: 0.0919960\ttotal: 588ms\tremaining: 351ms\n",
      "626:\tlearn: 0.0919043\ttotal: 589ms\tremaining: 350ms\n",
      "627:\tlearn: 0.0918309\ttotal: 590ms\tremaining: 349ms\n",
      "628:\tlearn: 0.0916923\ttotal: 591ms\tremaining: 348ms\n",
      "629:\tlearn: 0.0915432\ttotal: 592ms\tremaining: 347ms\n",
      "630:\tlearn: 0.0914052\ttotal: 592ms\tremaining: 346ms\n",
      "631:\tlearn: 0.0912703\ttotal: 593ms\tremaining: 345ms\n",
      "632:\tlearn: 0.0910392\ttotal: 594ms\tremaining: 344ms\n",
      "633:\tlearn: 0.0908980\ttotal: 595ms\tremaining: 343ms\n",
      "634:\tlearn: 0.0907753\ttotal: 596ms\tremaining: 342ms\n",
      "635:\tlearn: 0.0906615\ttotal: 596ms\tremaining: 341ms\n",
      "636:\tlearn: 0.0905064\ttotal: 597ms\tremaining: 340ms\n",
      "637:\tlearn: 0.0903770\ttotal: 598ms\tremaining: 339ms\n",
      "638:\tlearn: 0.0902011\ttotal: 599ms\tremaining: 338ms\n",
      "639:\tlearn: 0.0900639\ttotal: 600ms\tremaining: 337ms\n",
      "640:\tlearn: 0.0898593\ttotal: 601ms\tremaining: 337ms\n",
      "641:\tlearn: 0.0897423\ttotal: 602ms\tremaining: 335ms\n",
      "642:\tlearn: 0.0896270\ttotal: 602ms\tremaining: 334ms\n",
      "643:\tlearn: 0.0894751\ttotal: 603ms\tremaining: 333ms\n",
      "644:\tlearn: 0.0892728\ttotal: 604ms\tremaining: 332ms\n",
      "645:\tlearn: 0.0890968\ttotal: 605ms\tremaining: 331ms\n",
      "646:\tlearn: 0.0889286\ttotal: 606ms\tremaining: 330ms\n",
      "647:\tlearn: 0.0888520\ttotal: 606ms\tremaining: 329ms\n",
      "648:\tlearn: 0.0887544\ttotal: 607ms\tremaining: 328ms\n",
      "649:\tlearn: 0.0886273\ttotal: 608ms\tremaining: 327ms\n",
      "650:\tlearn: 0.0885176\ttotal: 609ms\tremaining: 326ms\n",
      "651:\tlearn: 0.0882844\ttotal: 609ms\tremaining: 325ms\n",
      "652:\tlearn: 0.0881303\ttotal: 611ms\tremaining: 325ms\n",
      "653:\tlearn: 0.0879650\ttotal: 612ms\tremaining: 324ms\n",
      "654:\tlearn: 0.0877607\ttotal: 613ms\tremaining: 323ms\n",
      "655:\tlearn: 0.0876854\ttotal: 614ms\tremaining: 322ms\n",
      "656:\tlearn: 0.0876701\ttotal: 615ms\tremaining: 321ms\n",
      "657:\tlearn: 0.0875275\ttotal: 615ms\tremaining: 320ms\n",
      "658:\tlearn: 0.0873168\ttotal: 616ms\tremaining: 319ms\n",
      "659:\tlearn: 0.0871856\ttotal: 617ms\tremaining: 318ms\n",
      "660:\tlearn: 0.0871202\ttotal: 618ms\tremaining: 317ms\n",
      "661:\tlearn: 0.0869796\ttotal: 619ms\tremaining: 316ms\n",
      "662:\tlearn: 0.0868995\ttotal: 620ms\tremaining: 315ms\n",
      "663:\tlearn: 0.0867091\ttotal: 620ms\tremaining: 314ms\n",
      "664:\tlearn: 0.0865123\ttotal: 621ms\tremaining: 313ms\n",
      "665:\tlearn: 0.0863747\ttotal: 622ms\tremaining: 312ms\n",
      "666:\tlearn: 0.0862857\ttotal: 623ms\tremaining: 311ms\n",
      "667:\tlearn: 0.0861420\ttotal: 624ms\tremaining: 310ms\n",
      "668:\tlearn: 0.0859849\ttotal: 626ms\tremaining: 310ms\n",
      "669:\tlearn: 0.0858247\ttotal: 626ms\tremaining: 309ms\n",
      "670:\tlearn: 0.0856816\ttotal: 628ms\tremaining: 308ms\n",
      "671:\tlearn: 0.0855663\ttotal: 629ms\tremaining: 307ms\n",
      "672:\tlearn: 0.0853734\ttotal: 630ms\tremaining: 306ms\n",
      "673:\tlearn: 0.0852732\ttotal: 631ms\tremaining: 305ms\n",
      "674:\tlearn: 0.0851043\ttotal: 631ms\tremaining: 304ms\n",
      "675:\tlearn: 0.0849285\ttotal: 632ms\tremaining: 303ms\n",
      "676:\tlearn: 0.0847176\ttotal: 633ms\tremaining: 302ms\n",
      "677:\tlearn: 0.0846243\ttotal: 634ms\tremaining: 301ms\n",
      "678:\tlearn: 0.0844826\ttotal: 635ms\tremaining: 300ms\n",
      "679:\tlearn: 0.0843749\ttotal: 635ms\tremaining: 299ms\n",
      "680:\tlearn: 0.0842398\ttotal: 636ms\tremaining: 298ms\n",
      "681:\tlearn: 0.0841495\ttotal: 637ms\tremaining: 297ms\n",
      "682:\tlearn: 0.0840232\ttotal: 638ms\tremaining: 296ms\n",
      "683:\tlearn: 0.0839377\ttotal: 639ms\tremaining: 295ms\n",
      "684:\tlearn: 0.0837220\ttotal: 639ms\tremaining: 294ms\n",
      "685:\tlearn: 0.0836367\ttotal: 640ms\tremaining: 293ms\n",
      "686:\tlearn: 0.0835032\ttotal: 641ms\tremaining: 292ms\n",
      "687:\tlearn: 0.0833120\ttotal: 642ms\tremaining: 291ms\n",
      "688:\tlearn: 0.0831196\ttotal: 643ms\tremaining: 290ms\n",
      "689:\tlearn: 0.0829541\ttotal: 644ms\tremaining: 289ms\n",
      "690:\tlearn: 0.0827992\ttotal: 644ms\tremaining: 288ms\n",
      "691:\tlearn: 0.0827273\ttotal: 645ms\tremaining: 287ms\n",
      "692:\tlearn: 0.0826635\ttotal: 646ms\tremaining: 286ms\n",
      "693:\tlearn: 0.0825509\ttotal: 647ms\tremaining: 285ms\n",
      "694:\tlearn: 0.0823780\ttotal: 648ms\tremaining: 284ms\n",
      "695:\tlearn: 0.0822240\ttotal: 648ms\tremaining: 283ms\n",
      "696:\tlearn: 0.0820170\ttotal: 649ms\tremaining: 282ms\n",
      "697:\tlearn: 0.0818301\ttotal: 650ms\tremaining: 281ms\n",
      "698:\tlearn: 0.0817228\ttotal: 651ms\tremaining: 280ms\n",
      "699:\tlearn: 0.0816393\ttotal: 652ms\tremaining: 279ms\n",
      "700:\tlearn: 0.0815877\ttotal: 653ms\tremaining: 278ms\n",
      "701:\tlearn: 0.0814031\ttotal: 654ms\tremaining: 277ms\n",
      "702:\tlearn: 0.0812331\ttotal: 655ms\tremaining: 277ms\n",
      "703:\tlearn: 0.0811389\ttotal: 656ms\tremaining: 276ms\n",
      "704:\tlearn: 0.0809649\ttotal: 656ms\tremaining: 275ms\n",
      "705:\tlearn: 0.0808499\ttotal: 657ms\tremaining: 274ms\n",
      "706:\tlearn: 0.0807612\ttotal: 658ms\tremaining: 273ms\n",
      "707:\tlearn: 0.0806299\ttotal: 659ms\tremaining: 272ms\n",
      "708:\tlearn: 0.0804906\ttotal: 660ms\tremaining: 271ms\n",
      "709:\tlearn: 0.0803625\ttotal: 661ms\tremaining: 270ms\n"
     ]
    },
    {
     "name": "stdout",
     "output_type": "stream",
     "text": [
      "710:\tlearn: 0.0802061\ttotal: 662ms\tremaining: 269ms\n",
      "711:\tlearn: 0.0800974\ttotal: 662ms\tremaining: 268ms\n",
      "712:\tlearn: 0.0799436\ttotal: 663ms\tremaining: 267ms\n",
      "713:\tlearn: 0.0797510\ttotal: 664ms\tremaining: 266ms\n",
      "714:\tlearn: 0.0796299\ttotal: 665ms\tremaining: 265ms\n",
      "715:\tlearn: 0.0795248\ttotal: 666ms\tremaining: 264ms\n",
      "716:\tlearn: 0.0794549\ttotal: 666ms\tremaining: 263ms\n",
      "717:\tlearn: 0.0792537\ttotal: 667ms\tremaining: 262ms\n",
      "718:\tlearn: 0.0791359\ttotal: 668ms\tremaining: 261ms\n",
      "719:\tlearn: 0.0790522\ttotal: 669ms\tremaining: 260ms\n",
      "720:\tlearn: 0.0789500\ttotal: 670ms\tremaining: 259ms\n",
      "721:\tlearn: 0.0787850\ttotal: 671ms\tremaining: 258ms\n",
      "722:\tlearn: 0.0786347\ttotal: 671ms\tremaining: 257ms\n",
      "723:\tlearn: 0.0785345\ttotal: 672ms\tremaining: 256ms\n",
      "724:\tlearn: 0.0784763\ttotal: 673ms\tremaining: 255ms\n",
      "725:\tlearn: 0.0783976\ttotal: 674ms\tremaining: 254ms\n",
      "726:\tlearn: 0.0782584\ttotal: 675ms\tremaining: 253ms\n",
      "727:\tlearn: 0.0781876\ttotal: 676ms\tremaining: 252ms\n",
      "728:\tlearn: 0.0780571\ttotal: 676ms\tremaining: 251ms\n",
      "729:\tlearn: 0.0779589\ttotal: 677ms\tremaining: 250ms\n",
      "730:\tlearn: 0.0778909\ttotal: 678ms\tremaining: 250ms\n",
      "731:\tlearn: 0.0777932\ttotal: 679ms\tremaining: 249ms\n",
      "732:\tlearn: 0.0776327\ttotal: 680ms\tremaining: 248ms\n",
      "733:\tlearn: 0.0774838\ttotal: 680ms\tremaining: 247ms\n",
      "734:\tlearn: 0.0773958\ttotal: 681ms\tremaining: 246ms\n",
      "735:\tlearn: 0.0772366\ttotal: 682ms\tremaining: 245ms\n",
      "736:\tlearn: 0.0770748\ttotal: 683ms\tremaining: 244ms\n",
      "737:\tlearn: 0.0768991\ttotal: 684ms\tremaining: 243ms\n",
      "738:\tlearn: 0.0767948\ttotal: 685ms\tremaining: 242ms\n",
      "739:\tlearn: 0.0766195\ttotal: 686ms\tremaining: 241ms\n",
      "740:\tlearn: 0.0765014\ttotal: 686ms\tremaining: 240ms\n",
      "741:\tlearn: 0.0763953\ttotal: 687ms\tremaining: 239ms\n",
      "742:\tlearn: 0.0763188\ttotal: 688ms\tremaining: 238ms\n",
      "743:\tlearn: 0.0761837\ttotal: 689ms\tremaining: 237ms\n",
      "744:\tlearn: 0.0761323\ttotal: 690ms\tremaining: 236ms\n",
      "745:\tlearn: 0.0760186\ttotal: 690ms\tremaining: 235ms\n",
      "746:\tlearn: 0.0758962\ttotal: 691ms\tremaining: 234ms\n",
      "747:\tlearn: 0.0758303\ttotal: 693ms\tremaining: 233ms\n",
      "748:\tlearn: 0.0756873\ttotal: 693ms\tremaining: 232ms\n",
      "749:\tlearn: 0.0756591\ttotal: 694ms\tremaining: 231ms\n",
      "750:\tlearn: 0.0755331\ttotal: 695ms\tremaining: 230ms\n",
      "751:\tlearn: 0.0754248\ttotal: 696ms\tremaining: 229ms\n",
      "752:\tlearn: 0.0753290\ttotal: 697ms\tremaining: 228ms\n",
      "753:\tlearn: 0.0752106\ttotal: 697ms\tremaining: 227ms\n",
      "754:\tlearn: 0.0751553\ttotal: 698ms\tremaining: 226ms\n",
      "755:\tlearn: 0.0750239\ttotal: 699ms\tremaining: 226ms\n",
      "756:\tlearn: 0.0749627\ttotal: 700ms\tremaining: 225ms\n",
      "757:\tlearn: 0.0748310\ttotal: 700ms\tremaining: 224ms\n",
      "758:\tlearn: 0.0747495\ttotal: 701ms\tremaining: 223ms\n",
      "759:\tlearn: 0.0746425\ttotal: 702ms\tremaining: 222ms\n",
      "760:\tlearn: 0.0745211\ttotal: 703ms\tremaining: 221ms\n",
      "761:\tlearn: 0.0743843\ttotal: 704ms\tremaining: 220ms\n",
      "762:\tlearn: 0.0743652\ttotal: 705ms\tremaining: 219ms\n",
      "763:\tlearn: 0.0743292\ttotal: 705ms\tremaining: 218ms\n",
      "764:\tlearn: 0.0742031\ttotal: 706ms\tremaining: 217ms\n",
      "765:\tlearn: 0.0740959\ttotal: 707ms\tremaining: 216ms\n",
      "766:\tlearn: 0.0739465\ttotal: 708ms\tremaining: 215ms\n",
      "767:\tlearn: 0.0739143\ttotal: 709ms\tremaining: 214ms\n",
      "768:\tlearn: 0.0737946\ttotal: 709ms\tremaining: 213ms\n",
      "769:\tlearn: 0.0736676\ttotal: 710ms\tremaining: 212ms\n",
      "770:\tlearn: 0.0735765\ttotal: 711ms\tremaining: 211ms\n",
      "771:\tlearn: 0.0734261\ttotal: 712ms\tremaining: 210ms\n",
      "772:\tlearn: 0.0732646\ttotal: 713ms\tremaining: 209ms\n",
      "773:\tlearn: 0.0730777\ttotal: 714ms\tremaining: 208ms\n",
      "774:\tlearn: 0.0729861\ttotal: 714ms\tremaining: 207ms\n",
      "775:\tlearn: 0.0729188\ttotal: 715ms\tremaining: 206ms\n",
      "776:\tlearn: 0.0728975\ttotal: 716ms\tremaining: 205ms\n",
      "777:\tlearn: 0.0727919\ttotal: 717ms\tremaining: 205ms\n",
      "778:\tlearn: 0.0727272\ttotal: 718ms\tremaining: 204ms\n",
      "779:\tlearn: 0.0725957\ttotal: 718ms\tremaining: 203ms\n",
      "780:\tlearn: 0.0725688\ttotal: 719ms\tremaining: 202ms\n",
      "781:\tlearn: 0.0724560\ttotal: 720ms\tremaining: 201ms\n",
      "782:\tlearn: 0.0723172\ttotal: 721ms\tremaining: 200ms\n",
      "783:\tlearn: 0.0722649\ttotal: 721ms\tremaining: 199ms\n",
      "784:\tlearn: 0.0721476\ttotal: 722ms\tremaining: 198ms\n",
      "785:\tlearn: 0.0720876\ttotal: 723ms\tremaining: 197ms\n",
      "786:\tlearn: 0.0719434\ttotal: 724ms\tremaining: 196ms\n",
      "787:\tlearn: 0.0718934\ttotal: 725ms\tremaining: 195ms\n",
      "788:\tlearn: 0.0718356\ttotal: 725ms\tremaining: 194ms\n",
      "789:\tlearn: 0.0716876\ttotal: 726ms\tremaining: 193ms\n",
      "790:\tlearn: 0.0715914\ttotal: 727ms\tremaining: 192ms\n",
      "791:\tlearn: 0.0715093\ttotal: 728ms\tremaining: 191ms\n",
      "792:\tlearn: 0.0713427\ttotal: 729ms\tremaining: 190ms\n",
      "793:\tlearn: 0.0712682\ttotal: 729ms\tremaining: 189ms\n",
      "794:\tlearn: 0.0711463\ttotal: 730ms\tremaining: 188ms\n"
     ]
    },
    {
     "name": "stdout",
     "output_type": "stream",
     "text": [
      "795:\tlearn: 0.0710884\ttotal: 731ms\tremaining: 187ms\n",
      "796:\tlearn: 0.0709599\ttotal: 732ms\tremaining: 186ms\n",
      "797:\tlearn: 0.0708307\ttotal: 733ms\tremaining: 185ms\n",
      "798:\tlearn: 0.0707412\ttotal: 733ms\tremaining: 185ms\n",
      "799:\tlearn: 0.0706491\ttotal: 734ms\tremaining: 184ms\n",
      "800:\tlearn: 0.0705464\ttotal: 735ms\tremaining: 183ms\n",
      "801:\tlearn: 0.0704802\ttotal: 736ms\tremaining: 182ms\n",
      "802:\tlearn: 0.0704597\ttotal: 737ms\tremaining: 181ms\n",
      "803:\tlearn: 0.0703039\ttotal: 737ms\tremaining: 180ms\n",
      "804:\tlearn: 0.0702506\ttotal: 738ms\tremaining: 179ms\n",
      "805:\tlearn: 0.0701687\ttotal: 739ms\tremaining: 178ms\n",
      "806:\tlearn: 0.0699848\ttotal: 740ms\tremaining: 177ms\n",
      "807:\tlearn: 0.0698493\ttotal: 741ms\tremaining: 176ms\n",
      "808:\tlearn: 0.0698319\ttotal: 742ms\tremaining: 175ms\n",
      "809:\tlearn: 0.0697236\ttotal: 742ms\tremaining: 174ms\n",
      "810:\tlearn: 0.0696090\ttotal: 743ms\tremaining: 173ms\n",
      "811:\tlearn: 0.0695439\ttotal: 744ms\tremaining: 172ms\n",
      "812:\tlearn: 0.0694848\ttotal: 745ms\tremaining: 171ms\n",
      "813:\tlearn: 0.0694715\ttotal: 746ms\tremaining: 170ms\n",
      "814:\tlearn: 0.0693725\ttotal: 747ms\tremaining: 170ms\n",
      "815:\tlearn: 0.0692561\ttotal: 748ms\tremaining: 169ms\n",
      "816:\tlearn: 0.0691710\ttotal: 749ms\tremaining: 168ms\n",
      "817:\tlearn: 0.0690740\ttotal: 750ms\tremaining: 167ms\n",
      "818:\tlearn: 0.0690275\ttotal: 751ms\tremaining: 166ms\n",
      "819:\tlearn: 0.0689269\ttotal: 752ms\tremaining: 165ms\n",
      "820:\tlearn: 0.0688051\ttotal: 753ms\tremaining: 164ms\n",
      "821:\tlearn: 0.0687159\ttotal: 755ms\tremaining: 163ms\n",
      "822:\tlearn: 0.0686080\ttotal: 755ms\tremaining: 162ms\n",
      "823:\tlearn: 0.0685255\ttotal: 756ms\tremaining: 162ms\n",
      "824:\tlearn: 0.0684873\ttotal: 757ms\tremaining: 161ms\n",
      "825:\tlearn: 0.0684089\ttotal: 758ms\tremaining: 160ms\n",
      "826:\tlearn: 0.0682829\ttotal: 759ms\tremaining: 159ms\n",
      "827:\tlearn: 0.0681028\ttotal: 759ms\tremaining: 158ms\n",
      "828:\tlearn: 0.0680085\ttotal: 760ms\tremaining: 157ms\n",
      "829:\tlearn: 0.0678357\ttotal: 761ms\tremaining: 156ms\n",
      "830:\tlearn: 0.0677331\ttotal: 762ms\tremaining: 155ms\n",
      "831:\tlearn: 0.0676394\ttotal: 762ms\tremaining: 154ms\n",
      "832:\tlearn: 0.0674835\ttotal: 763ms\tremaining: 153ms\n",
      "833:\tlearn: 0.0673554\ttotal: 764ms\tremaining: 152ms\n",
      "834:\tlearn: 0.0673017\ttotal: 765ms\tremaining: 151ms\n",
      "835:\tlearn: 0.0672225\ttotal: 766ms\tremaining: 150ms\n",
      "836:\tlearn: 0.0671412\ttotal: 766ms\tremaining: 149ms\n",
      "837:\tlearn: 0.0670966\ttotal: 767ms\tremaining: 148ms\n",
      "838:\tlearn: 0.0669950\ttotal: 768ms\tremaining: 147ms\n",
      "839:\tlearn: 0.0669160\ttotal: 769ms\tremaining: 146ms\n",
      "840:\tlearn: 0.0668363\ttotal: 770ms\tremaining: 146ms\n",
      "841:\tlearn: 0.0666878\ttotal: 771ms\tremaining: 145ms\n",
      "842:\tlearn: 0.0666335\ttotal: 771ms\tremaining: 144ms\n",
      "843:\tlearn: 0.0665459\ttotal: 772ms\tremaining: 143ms\n",
      "844:\tlearn: 0.0663864\ttotal: 773ms\tremaining: 142ms\n",
      "845:\tlearn: 0.0662859\ttotal: 774ms\tremaining: 141ms\n",
      "846:\tlearn: 0.0662759\ttotal: 775ms\tremaining: 140ms\n",
      "847:\tlearn: 0.0661584\ttotal: 776ms\tremaining: 139ms\n",
      "848:\tlearn: 0.0660058\ttotal: 777ms\tremaining: 138ms\n",
      "849:\tlearn: 0.0658675\ttotal: 777ms\tremaining: 137ms\n",
      "850:\tlearn: 0.0657888\ttotal: 778ms\tremaining: 136ms\n",
      "851:\tlearn: 0.0656773\ttotal: 779ms\tremaining: 135ms\n",
      "852:\tlearn: 0.0655793\ttotal: 780ms\tremaining: 134ms\n",
      "853:\tlearn: 0.0655344\ttotal: 780ms\tremaining: 133ms\n",
      "854:\tlearn: 0.0654756\ttotal: 781ms\tremaining: 133ms\n",
      "855:\tlearn: 0.0654540\ttotal: 782ms\tremaining: 132ms\n",
      "856:\tlearn: 0.0653175\ttotal: 783ms\tremaining: 131ms\n",
      "857:\tlearn: 0.0652720\ttotal: 784ms\tremaining: 130ms\n",
      "858:\tlearn: 0.0651204\ttotal: 785ms\tremaining: 129ms\n",
      "859:\tlearn: 0.0650363\ttotal: 785ms\tremaining: 128ms\n",
      "860:\tlearn: 0.0649177\ttotal: 786ms\tremaining: 127ms\n",
      "861:\tlearn: 0.0648304\ttotal: 788ms\tremaining: 126ms\n",
      "862:\tlearn: 0.0647597\ttotal: 789ms\tremaining: 125ms\n",
      "863:\tlearn: 0.0647046\ttotal: 789ms\tremaining: 124ms\n",
      "864:\tlearn: 0.0645764\ttotal: 790ms\tremaining: 123ms\n",
      "865:\tlearn: 0.0644842\ttotal: 791ms\tremaining: 122ms\n",
      "866:\tlearn: 0.0644395\ttotal: 792ms\tremaining: 122ms\n",
      "867:\tlearn: 0.0643120\ttotal: 793ms\tremaining: 121ms\n",
      "868:\tlearn: 0.0642025\ttotal: 794ms\tremaining: 120ms\n",
      "869:\tlearn: 0.0641610\ttotal: 795ms\tremaining: 119ms\n",
      "870:\tlearn: 0.0640773\ttotal: 795ms\tremaining: 118ms\n",
      "871:\tlearn: 0.0639868\ttotal: 796ms\tremaining: 117ms\n",
      "872:\tlearn: 0.0639212\ttotal: 797ms\tremaining: 116ms\n",
      "873:\tlearn: 0.0637930\ttotal: 798ms\tremaining: 115ms\n",
      "874:\tlearn: 0.0636821\ttotal: 799ms\tremaining: 114ms\n",
      "875:\tlearn: 0.0634984\ttotal: 800ms\tremaining: 113ms\n",
      "876:\tlearn: 0.0634813\ttotal: 801ms\tremaining: 112ms\n",
      "877:\tlearn: 0.0633986\ttotal: 802ms\tremaining: 111ms\n",
      "878:\tlearn: 0.0633110\ttotal: 803ms\tremaining: 111ms\n",
      "879:\tlearn: 0.0631688\ttotal: 804ms\tremaining: 110ms\n",
      "880:\tlearn: 0.0631252\ttotal: 805ms\tremaining: 109ms\n",
      "881:\tlearn: 0.0629843\ttotal: 806ms\tremaining: 108ms\n",
      "882:\tlearn: 0.0629775\ttotal: 807ms\tremaining: 107ms\n",
      "883:\tlearn: 0.0629073\ttotal: 807ms\tremaining: 106ms\n",
      "884:\tlearn: 0.0627780\ttotal: 808ms\tremaining: 105ms\n",
      "885:\tlearn: 0.0626967\ttotal: 809ms\tremaining: 104ms\n",
      "886:\tlearn: 0.0626840\ttotal: 810ms\tremaining: 103ms\n",
      "887:\tlearn: 0.0625314\ttotal: 811ms\tremaining: 102ms\n",
      "888:\tlearn: 0.0624411\ttotal: 812ms\tremaining: 101ms\n",
      "889:\tlearn: 0.0623891\ttotal: 812ms\tremaining: 100ms\n",
      "890:\tlearn: 0.0623272\ttotal: 813ms\tremaining: 99.5ms\n",
      "891:\tlearn: 0.0622557\ttotal: 814ms\tremaining: 98.5ms\n",
      "892:\tlearn: 0.0622033\ttotal: 815ms\tremaining: 97.6ms\n",
      "893:\tlearn: 0.0621362\ttotal: 816ms\tremaining: 96.7ms\n",
      "894:\tlearn: 0.0619959\ttotal: 816ms\tremaining: 95.8ms\n",
      "895:\tlearn: 0.0619260\ttotal: 818ms\tremaining: 94.9ms\n",
      "896:\tlearn: 0.0618053\ttotal: 819ms\tremaining: 94ms\n",
      "897:\tlearn: 0.0617623\ttotal: 819ms\tremaining: 93.1ms\n",
      "898:\tlearn: 0.0616433\ttotal: 820ms\tremaining: 92.1ms\n",
      "899:\tlearn: 0.0615637\ttotal: 821ms\tremaining: 91.2ms\n",
      "900:\tlearn: 0.0614740\ttotal: 822ms\tremaining: 90.3ms\n",
      "901:\tlearn: 0.0613618\ttotal: 822ms\tremaining: 89.3ms\n",
      "902:\tlearn: 0.0613188\ttotal: 823ms\tremaining: 88.4ms\n",
      "903:\tlearn: 0.0612748\ttotal: 824ms\tremaining: 87.5ms\n",
      "904:\tlearn: 0.0611782\ttotal: 825ms\tremaining: 86.6ms\n",
      "905:\tlearn: 0.0611690\ttotal: 826ms\tremaining: 85.7ms\n",
      "906:\tlearn: 0.0611183\ttotal: 827ms\tremaining: 84.7ms\n",
      "907:\tlearn: 0.0610383\ttotal: 827ms\tremaining: 83.8ms\n",
      "908:\tlearn: 0.0609117\ttotal: 828ms\tremaining: 82.9ms\n",
      "909:\tlearn: 0.0609009\ttotal: 829ms\tremaining: 82ms\n",
      "910:\tlearn: 0.0608286\ttotal: 830ms\tremaining: 81.1ms\n",
      "911:\tlearn: 0.0607854\ttotal: 831ms\tremaining: 80.2ms\n",
      "912:\tlearn: 0.0606716\ttotal: 831ms\tremaining: 79.2ms\n",
      "913:\tlearn: 0.0605700\ttotal: 832ms\tremaining: 78.3ms\n",
      "914:\tlearn: 0.0605031\ttotal: 833ms\tremaining: 77.4ms\n",
      "915:\tlearn: 0.0604548\ttotal: 834ms\tremaining: 76.5ms\n"
     ]
    },
    {
     "name": "stdout",
     "output_type": "stream",
     "text": [
      "916:\tlearn: 0.0603562\ttotal: 835ms\tremaining: 75.6ms\n",
      "917:\tlearn: 0.0602725\ttotal: 836ms\tremaining: 74.7ms\n",
      "918:\tlearn: 0.0602357\ttotal: 837ms\tremaining: 73.8ms\n",
      "919:\tlearn: 0.0601383\ttotal: 838ms\tremaining: 72.9ms\n",
      "920:\tlearn: 0.0600541\ttotal: 839ms\tremaining: 71.9ms\n",
      "921:\tlearn: 0.0599517\ttotal: 839ms\tremaining: 71ms\n",
      "922:\tlearn: 0.0599435\ttotal: 840ms\tremaining: 70.1ms\n",
      "923:\tlearn: 0.0598861\ttotal: 841ms\tremaining: 69.2ms\n",
      "924:\tlearn: 0.0597939\ttotal: 842ms\tremaining: 68.3ms\n",
      "925:\tlearn: 0.0597005\ttotal: 843ms\tremaining: 67.3ms\n",
      "926:\tlearn: 0.0595712\ttotal: 844ms\tremaining: 66.5ms\n",
      "927:\tlearn: 0.0595175\ttotal: 845ms\tremaining: 65.6ms\n",
      "928:\tlearn: 0.0595072\ttotal: 846ms\tremaining: 64.6ms\n",
      "929:\tlearn: 0.0594420\ttotal: 847ms\tremaining: 63.7ms\n",
      "930:\tlearn: 0.0593800\ttotal: 848ms\tremaining: 62.8ms\n",
      "931:\tlearn: 0.0592597\ttotal: 848ms\tremaining: 61.9ms\n",
      "932:\tlearn: 0.0591650\ttotal: 849ms\tremaining: 61ms\n",
      "933:\tlearn: 0.0590941\ttotal: 850ms\tremaining: 60.1ms\n",
      "934:\tlearn: 0.0589760\ttotal: 851ms\tremaining: 59.2ms\n",
      "935:\tlearn: 0.0589039\ttotal: 852ms\tremaining: 58.2ms\n",
      "936:\tlearn: 0.0588265\ttotal: 853ms\tremaining: 57.3ms\n",
      "937:\tlearn: 0.0587491\ttotal: 854ms\tremaining: 56.4ms\n",
      "938:\tlearn: 0.0587349\ttotal: 854ms\tremaining: 55.5ms\n",
      "939:\tlearn: 0.0585967\ttotal: 855ms\tremaining: 54.6ms\n",
      "940:\tlearn: 0.0585361\ttotal: 856ms\tremaining: 53.7ms\n",
      "941:\tlearn: 0.0584985\ttotal: 857ms\tremaining: 52.8ms\n",
      "942:\tlearn: 0.0583834\ttotal: 858ms\tremaining: 51.8ms\n",
      "943:\tlearn: 0.0583002\ttotal: 858ms\tremaining: 50.9ms\n",
      "944:\tlearn: 0.0582867\ttotal: 859ms\tremaining: 50ms\n",
      "945:\tlearn: 0.0582074\ttotal: 860ms\tremaining: 49.1ms\n",
      "946:\tlearn: 0.0581038\ttotal: 861ms\tremaining: 48.2ms\n",
      "947:\tlearn: 0.0579552\ttotal: 862ms\tremaining: 47.3ms\n",
      "948:\tlearn: 0.0578420\ttotal: 863ms\tremaining: 46.4ms\n",
      "949:\tlearn: 0.0577590\ttotal: 863ms\tremaining: 45.4ms\n",
      "950:\tlearn: 0.0576849\ttotal: 864ms\tremaining: 44.5ms\n",
      "951:\tlearn: 0.0576579\ttotal: 865ms\tremaining: 43.6ms\n",
      "952:\tlearn: 0.0575980\ttotal: 866ms\tremaining: 42.7ms\n",
      "953:\tlearn: 0.0575023\ttotal: 866ms\tremaining: 41.8ms\n",
      "954:\tlearn: 0.0574506\ttotal: 867ms\tremaining: 40.9ms\n",
      "955:\tlearn: 0.0573156\ttotal: 868ms\tremaining: 40ms\n",
      "956:\tlearn: 0.0572766\ttotal: 869ms\tremaining: 39ms\n",
      "957:\tlearn: 0.0572491\ttotal: 870ms\tremaining: 38.1ms\n",
      "958:\tlearn: 0.0570976\ttotal: 870ms\tremaining: 37.2ms\n",
      "959:\tlearn: 0.0570513\ttotal: 871ms\tremaining: 36.3ms\n",
      "960:\tlearn: 0.0570084\ttotal: 872ms\tremaining: 35.4ms\n",
      "961:\tlearn: 0.0569663\ttotal: 873ms\tremaining: 34.5ms\n",
      "962:\tlearn: 0.0569603\ttotal: 874ms\tremaining: 33.6ms\n",
      "963:\tlearn: 0.0568598\ttotal: 874ms\tremaining: 32.7ms\n",
      "964:\tlearn: 0.0568088\ttotal: 875ms\tremaining: 31.7ms\n",
      "965:\tlearn: 0.0567049\ttotal: 876ms\tremaining: 30.8ms\n",
      "966:\tlearn: 0.0566611\ttotal: 877ms\tremaining: 29.9ms\n",
      "967:\tlearn: 0.0565341\ttotal: 878ms\tremaining: 29ms\n",
      "968:\tlearn: 0.0564565\ttotal: 878ms\tremaining: 28.1ms\n",
      "969:\tlearn: 0.0564146\ttotal: 879ms\tremaining: 27.2ms\n",
      "970:\tlearn: 0.0563306\ttotal: 880ms\tremaining: 26.3ms\n",
      "971:\tlearn: 0.0562228\ttotal: 881ms\tremaining: 25.4ms\n",
      "972:\tlearn: 0.0561406\ttotal: 882ms\tremaining: 24.5ms\n",
      "973:\tlearn: 0.0560438\ttotal: 882ms\tremaining: 23.6ms\n",
      "974:\tlearn: 0.0559197\ttotal: 883ms\tremaining: 22.6ms\n",
      "975:\tlearn: 0.0558269\ttotal: 884ms\tremaining: 21.7ms\n",
      "976:\tlearn: 0.0557143\ttotal: 885ms\tremaining: 20.8ms\n",
      "977:\tlearn: 0.0557070\ttotal: 886ms\tremaining: 19.9ms\n",
      "978:\tlearn: 0.0556312\ttotal: 886ms\tremaining: 19ms\n",
      "979:\tlearn: 0.0555388\ttotal: 887ms\tremaining: 18.1ms\n",
      "980:\tlearn: 0.0554923\ttotal: 888ms\tremaining: 17.2ms\n",
      "981:\tlearn: 0.0554197\ttotal: 889ms\tremaining: 16.3ms\n",
      "982:\tlearn: 0.0553319\ttotal: 890ms\tremaining: 15.4ms\n",
      "983:\tlearn: 0.0552283\ttotal: 890ms\tremaining: 14.5ms\n",
      "984:\tlearn: 0.0551130\ttotal: 891ms\tremaining: 13.6ms\n",
      "985:\tlearn: 0.0550623\ttotal: 892ms\tremaining: 12.7ms\n",
      "986:\tlearn: 0.0549927\ttotal: 893ms\tremaining: 11.8ms\n",
      "987:\tlearn: 0.0548860\ttotal: 894ms\tremaining: 10.9ms\n",
      "988:\tlearn: 0.0548338\ttotal: 894ms\tremaining: 9.95ms\n",
      "989:\tlearn: 0.0547295\ttotal: 895ms\tremaining: 9.04ms\n",
      "990:\tlearn: 0.0546655\ttotal: 896ms\tremaining: 8.14ms\n",
      "991:\tlearn: 0.0545980\ttotal: 897ms\tremaining: 7.23ms\n",
      "992:\tlearn: 0.0544680\ttotal: 898ms\tremaining: 6.33ms\n",
      "993:\tlearn: 0.0544234\ttotal: 899ms\tremaining: 5.42ms\n",
      "994:\tlearn: 0.0543554\ttotal: 899ms\tremaining: 4.52ms\n",
      "995:\tlearn: 0.0542810\ttotal: 900ms\tremaining: 3.61ms\n",
      "996:\tlearn: 0.0542452\ttotal: 901ms\tremaining: 2.71ms\n",
      "997:\tlearn: 0.0541776\ttotal: 902ms\tremaining: 1.81ms\n",
      "998:\tlearn: 0.0541406\ttotal: 903ms\tremaining: 903us\n",
      "999:\tlearn: 0.0540568\ttotal: 903ms\tremaining: 0us\n"
     ]
    },
    {
     "data": {
      "text/plain": [
       "<catboost.core.CatBoostRegressor at 0x7fac68138e50>"
      ]
     },
     "execution_count": 9,
     "metadata": {},
     "output_type": "execute_result"
    }
   ],
   "source": [
    "#Train the Model \n",
    "prior_model = ctb.CatBoostRegressor()\n",
    "prior_model.fit(X_train,Y_train)"
   ]
  },
  {
   "cell_type": "code",
   "execution_count": 10,
   "id": "af65dcda",
   "metadata": {
    "execution": {
     "iopub.execute_input": "2022-06-12T07:02:48.086896Z",
     "iopub.status.busy": "2022-06-12T07:02:48.086508Z",
     "iopub.status.idle": "2022-06-12T07:02:48.093981Z",
     "shell.execute_reply": "2022-06-12T07:02:48.094271Z"
    },
    "id": "af65dcda",
    "papermill": {
     "duration": 0.020958,
     "end_time": "2022-06-12T07:02:48.094383",
     "exception": false,
     "start_time": "2022-06-12T07:02:48.073425",
     "status": "completed"
    },
    "tags": []
   },
   "outputs": [
    {
     "data": {
      "application/scrapbook.scrap.json+json": {
       "data": 0.1322082899546568,
       "encoder": "json",
       "name": "Prior Model MSE",
       "version": 1
      }
     },
     "metadata": {
      "scrapbook": {
       "data": true,
       "display": false,
       "name": "Prior Model MSE"
      }
     },
     "output_type": "display_data"
    },
    {
     "data": {
      "application/scrapbook.scrap.json+json": {
       "data": 0.14462816168986276,
       "encoder": "json",
       "name": "ABC Pre-generator MSE",
       "version": 1
      }
     },
     "metadata": {
      "scrapbook": {
       "data": true,
       "display": false,
       "name": "ABC Pre-generator MSE"
      }
     },
     "output_type": "display_data"
    },
    {
     "data": {
      "application/scrapbook.scrap.json+json": {
       "data": 0.24077897082530672,
       "encoder": "json",
       "name": "Prior Model MSE",
       "version": 1
      }
     },
     "metadata": {
      "scrapbook": {
       "data": true,
       "display": false,
       "name": "Prior Model MSE"
      }
     },
     "output_type": "display_data"
    },
    {
     "data": {
      "application/scrapbook.scrap.json+json": {
       "data": 0.2755282512109122,
       "encoder": "json",
       "name": "ABC Pre-generator MSE",
       "version": 1
      }
     },
     "metadata": {
      "scrapbook": {
       "data": true,
       "display": false,
       "name": "ABC Pre-generator MSE"
      }
     },
     "output_type": "display_data"
    }
   ],
   "source": [
    "y_pred = prior_model.predict(X_test)\n",
    "y_abc = y_pred + np.random.normal(0,variance, y_pred.shape) + bias \n",
    "mse = mean_squared_error(y_pred,Y_test)\n",
    "sb.glue(\"Prior Model MSE\",mse)\n",
    "mse = mean_squared_error(y_abc,Y_test)\n",
    "sb.glue(\"ABC Pre-generator MSE\",mse)\n",
    "mae = mean_absolute_error(y_pred,Y_test)\n",
    "sb.glue(\"Prior Model MSE\",mae)\n",
    "mae = mean_absolute_error(y_abc,Y_test)\n",
    "sb.glue(\"ABC Pre-generator MSE\",mae)"
   ]
  },
  {
   "cell_type": "markdown",
   "id": "25609da2",
   "metadata": {
    "papermill": {
     "duration": 0.009879,
     "end_time": "2022-06-12T07:02:48.114524",
     "exception": false,
     "start_time": "2022-06-12T07:02:48.104645",
     "status": "completed"
    },
    "tags": []
   },
   "source": [
    "# ABC GAN Model"
   ]
  },
  {
   "cell_type": "code",
   "execution_count": 11,
   "id": "dfc3464d",
   "metadata": {
    "execution": {
     "iopub.execute_input": "2022-06-12T07:02:48.137263Z",
     "iopub.status.busy": "2022-06-12T07:02:48.136894Z",
     "iopub.status.idle": "2022-06-12T07:02:48.139260Z",
     "shell.execute_reply": "2022-06-12T07:02:48.139505Z"
    },
    "papermill": {
     "duration": 0.015285,
     "end_time": "2022-06-12T07:02:48.139614",
     "exception": false,
     "start_time": "2022-06-12T07:02:48.124329",
     "status": "completed"
    },
    "tags": []
   },
   "outputs": [],
   "source": [
    "gen = network.Generator(n_features+1).to(device)\n",
    "disc = network.Discriminator(n_features+1).to(device)\n",
    "\n",
    "criterion = torch.nn.BCELoss()\n",
    "gen_opt = torch.optim.Adam(gen.parameters(), lr=0.001, betas=(0.5, 0.999))\n",
    "disc_opt = torch.optim.Adam(disc.parameters(), lr=0.001, betas=(0.5, 0.999))"
   ]
  },
  {
   "cell_type": "code",
   "execution_count": 12,
   "id": "b75fdd85",
   "metadata": {
    "execution": {
     "iopub.execute_input": "2022-06-12T07:02:48.177390Z",
     "iopub.status.busy": "2022-06-12T07:02:48.177004Z",
     "iopub.status.idle": "2022-06-12T07:03:49.103589Z",
     "shell.execute_reply": "2022-06-12T07:03:49.103975Z"
    },
    "papermill": {
     "duration": 60.954377,
     "end_time": "2022-06-12T07:03:49.104094",
     "exception": false,
     "start_time": "2022-06-12T07:02:48.149717",
     "status": "completed"
    },
    "tags": []
   },
   "outputs": [
    {
     "data": {
      "image/png": "[encoded data removed]",
      "text/plain": [
       "<Figure size 432x288 with 1 Axes>"
      ]
     },
     "metadata": {
      "needs_background": "light"
     },
     "output_type": "display_data"
    },
    {
     "data": {
      "image/png": "[encoded data removed]",
      "text/plain": [
       "<Figure size 432x288 with 1 Axes>"
      ]
     },
     "metadata": {
      "needs_background": "light"
     },
     "output_type": "display_data"
    }
   ],
   "source": [
    "#Training the ABC_GAN \n",
    "ABC_train_test2.training_GAN(disc,gen,disc_opt,gen_opt,train_data,batch_size,n_epochs,criterion,prior_model,variance,bias,device)"
   ]
  },
  {
   "cell_type": "code",
   "execution_count": 13,
   "id": "1fa7c368",
   "metadata": {
    "execution": {
     "iopub.execute_input": "2022-06-12T07:03:49.128493Z",
     "iopub.status.busy": "2022-06-12T07:03:49.128097Z",
     "iopub.status.idle": "2022-06-12T07:03:49.438217Z",
     "shell.execute_reply": "2022-06-12T07:03:49.438469Z"
    },
    "papermill": {
     "duration": 0.323547,
     "end_time": "2022-06-12T07:03:49.438591",
     "exception": false,
     "start_time": "2022-06-12T07:03:49.115044",
     "status": "completed"
    },
    "tags": []
   },
   "outputs": [
    {
     "data": {
      "application/scrapbook.scrap.json+json": {
       "data": 0.15427539625644707,
       "encoder": "json",
       "name": "ABC-GAN Model 1 MSE",
       "version": 1
      }
     },
     "metadata": {
      "scrapbook": {
       "data": true,
       "display": false,
       "name": "ABC-GAN Model 1 MSE"
      }
     },
     "output_type": "display_data"
    },
    {
     "data": {
      "application/scrapbook.scrap.json+json": {
       "data": 0.28993401634086874,
       "encoder": "json",
       "name": "ABC-GAN Model 1 MAE",
       "version": 1
      }
     },
     "metadata": {
      "scrapbook": {
       "data": true,
       "display": false,
       "name": "ABC-GAN Model 1 MAE"
      }
     },
     "output_type": "display_data"
    },
    {
     "data": {
      "application/scrapbook.scrap.json+json": {
       "data": 29.57326966676861,
       "encoder": "json",
       "name": "ABC-GAN Model 1 Manhattan Distance",
       "version": 1
      }
     },
     "metadata": {
      "scrapbook": {
       "data": true,
       "display": false,
       "name": "ABC-GAN Model 1 Manhattan Distance"
      }
     },
     "output_type": "display_data"
    },
    {
     "data": {
      "application/scrapbook.scrap.json+json": {
       "data": 3.966851427118844,
       "encoder": "json",
       "name": "ABC-GAN Model 1 Euclidean distance",
       "version": 1
      }
     },
     "metadata": {
      "scrapbook": {
       "data": true,
       "display": false,
       "name": "ABC-GAN Model 1 Euclidean distance"
      }
     },
     "output_type": "display_data"
    },
    {
     "data": {
      "application/scrapbook.scrap.json+json": {
       "data": [
        [
         0.15283683647145552,
         0.1532209361880253,
         0.15422674756236524,
         0.1554443498770295,
         0.155560923764424,
         0.1522883603015646,
         0.15610439614235605,
         0.15355131358218452,
         0.15507406286903733,
         0.151650857312571,
         0.1541418813692798,
         0.1546413565557679,
         0.15443282074247341,
         0.15253271546523856,
         0.15432561922730453,
         0.15403996275772527,
         0.15328531179118923,
         0.15311132873790134,
         0.15300596878788525,
         0.15349427449503586,
         0.1535109981300862,
         0.1545610632946504,
         0.1532024265716051,
         0.15483598788384612,
         0.15373696633828537,
         0.15265767142602332,
         0.15458172359568798,
         0.15547283671350998,
         0.1546827015946925,
         0.1546225291474873,
         0.15461424932823714,
         0.15321722644058788,
         0.15242501198122052,
         0.15463740463068165,
         0.15343469209525418,
         0.15508003644213025,
         0.15426488762003246,
         0.1554393765945093,
         0.15328699751008013,
         0.1555142234355555,
         0.1534536623339455,
         0.15470651969144533,
         0.15559367827006715,
         0.1538691610447709,
         0.15491343180320982,
         0.1540086226818028,
         0.153370289485855,
         0.15625046459332267,
         0.15406227468190722,
         0.1542937647787144,
         0.1569328690771172,
         0.15459159083639173,
         0.15254066566056718,
         0.15507565745751473,
         0.15704834452099456,
         0.15346194135249874,
         0.15339879887364036,
         0.15326869666797172,
         0.15462906695300363,
         0.15491507702118426,
         0.15393727819780914,
         0.15451648536584814,
         0.15376673136074645,
         0.1535697429408053,
         0.15405306992739257,
         0.15418293455387408,
         0.1546068151966436,
         0.15542027238847203,
         0.15365401057226655,
         0.15486761314535002,
         0.1551808360253881,
         0.15449764106617192,
         0.15282302213951515,
         0.15495993576687322,
         0.15495938436049803,
         0.15411176859680764,
         0.15440437615583907,
         0.15340130940066202,
         0.15488966568450102,
         0.1558960516698271,
         0.15517142796519826,
         0.15315365081873522,
         0.15429822661439052,
         0.15424491906230056,
         0.1550956143087668,
         0.15436441399862247,
         0.15657561405063236,
         0.15567061086970038,
         0.1528439582105728,
         0.15612676324134725,
         0.15365518288996632,
         0.15364261867825746,
         0.15379563437111565,
         0.15272944906017571,
         0.1551760435895661,
         0.15524697598086906,
         0.15334969236155938,
         0.15427996219942416,
         0.15524746051402577,
         0.1540388497832866
        ],
        [
         0.2893687399085976,
         0.2891018633255918,
         0.2901753100347431,
         0.2906481343978906,
         0.29211137904876877,
         0.2876622492137055,
         0.2915783781722626,
         0.29005140936294316,
         0.2903133980728978,
         0.28900347183476766,
         0.28863571526701837,
         0.2915150176313724,
         0.2899684537220381,
         0.2866086626114945,
         0.2905522443299346,
         0.2899016379378736,
         0.28985230859332517,
         0.28902844793400634,
         0.2882347952154483,
         0.29061961510930867,
         0.2889717985401113,
         0.28912193497058514,
         0.2895896647435923,
         0.29143765752258544,
         0.28961328476411746,
         0.28932409792882846,
         0.2906520608538652,
         0.2907810653925088,
         0.2889531885967681,
         0.28999693860646847,
         0.29104649086537604,
         0.28777446065499795,
         0.28806759775890145,
         0.29016893613608735,
         0.28956392634769573,
         0.29121577061310994,
         0.29021266103703897,
         0.29057120225921856,
         0.28875785679830346,
         0.2903973985481642,
         0.28858398128410473,
         0.29022488773197813,
         0.29014955951339183,
         0.2908689468167722,
         0.29091558460255756,
         0.28936600182022826,
         0.28941646679395844,
         0.2914567982102288,
         0.2899825768088739,
         0.2883304844099079,
         0.2913483983252709,
         0.2894627994711639,
         0.2895078983468314,
         0.29162826463032293,
         0.2923166451738307,
         0.28794451803882043,
         0.2887656633267362,
         0.28731374268182647,
         0.2910475755092122,
         0.2910142392741845,
         0.2881738328119265,
         0.2902085213629785,
         0.2896746520555633,
         0.28896704433924136,
         0.2905105723561171,
         0.29029923349655434,
         0.29131598457438396,
         0.29013067324116243,
         0.2887109752616608,
         0.29185683105834853,
         0.2911032856186377,
         0.29086111143560095,
         0.2891624269769618,
         0.29184640886481195,
         0.29040186904261217,
         0.28931643507972943,
         0.28893953518868953,
         0.28834654713122576,
         0.29184344448331817,
         0.2913301218319319,
         0.2904134136442022,
         0.2887480515420583,
         0.29131495398377966,
         0.28971577327077586,
         0.2898690053444429,
         0.28874136815212814,
         0.2911628828128325,
         0.29064272323111984,
         0.28884814622099786,
         0.29108898810056205,
         0.2905684873991299,
         0.28954959763944443,
         0.2886597130027618,
         0.28886684133470353,
         0.29104499570915804,
         0.2900418469079715,
         0.28914023483829465,
         0.2895547631561902,
         0.2917855043128571,
         0.289850579839492
        ],
        [
         29.51561147067696,
         29.48839005921036,
         29.5978816235438,
         29.646109708584845,
         29.795360662974417,
         29.341549419797957,
         29.740994573570788,
         29.5852437550202,
         29.611966603435576,
         29.478354127146304,
         29.440842957235873,
         29.734531798399985,
         29.576782279647887,
         29.234083586372435,
         29.63632892165333,
         29.569967069663107,
         29.564935476519167,
         29.48090168926865,
         29.39994911197573,
         29.643200741149485,
         29.47512345109135,
         29.490437366999686,
         29.53814580384642,
         29.726641067303717,
         29.540555045939982,
         29.511057988740504,
         29.646510207094252,
         29.6596686700359,
         29.47322523687035,
         29.579687737859786,
         29.68674206826836,
         29.35299498680979,
         29.38289497140795,
         29.59723148588091,
         29.535520487464964,
         29.704008602537215,
         29.60169142577797,
         29.638262630440295,
         29.453301393426955,
         29.62053465191275,
         29.435566090978682,
         29.60293854866177,
         29.595255070365965,
         29.668632575310767,
         29.67338962946087,
         29.515332185663283,
         29.520479612983763,
         29.728593417443335,
         29.57822283450514,
         29.409709409810603,
         29.71753662917763,
         29.525205546058714,
         29.529805631376803,
         29.74608299229294,
         29.816297807730734,
         29.37034083995968,
         29.45409765932709,
         29.306001753546298,
         29.686852701939642,
         29.68345240596682,
         29.393730946816504,
         29.601269179023802,
         29.546814509667456,
         29.474638522602618,
         29.632078380323946,
         29.610521816648543,
         29.714230426587164,
         29.593328670598567,
         29.4485194766894,
         29.769396767951548,
         29.692535133101046,
         29.667833366431296,
         29.494567551650107,
         29.768333704210818,
         29.62099064234644,
         29.510276378132403,
         29.471832589246333,
         29.411347807385027,
         29.768031337298453,
         29.715672426857054,
         29.622168191708624,
         29.452301257289946,
         29.714125306345522,
         29.55100887361914,
         29.566638545133173,
         29.45161955151707,
         29.698614046908915,
         29.645557769574225,
         29.46251091454178,
         29.691076786257327,
         29.63798571471125,
         29.53405895922333,
         29.443290726281703,
         29.464417816139758,
         29.68658956233412,
         29.584268384613097,
         29.492303953506052,
         29.534585841931403,
         29.762121439911425,
         29.56475914362818
        ],
        [
         3.9483360191463515,
         3.9532942581065953,
         3.9662486371080234,
         3.981874393731802,
         3.983367196728321,
         3.9412450762112705,
         3.9903193364090948,
         3.957554040740671,
         3.977128915768485,
         3.932987089462949,
         3.9651572351757425,
         3.9715763078012647,
         3.9688975441213254,
         3.944405782555128,
         3.9675197745172057,
         3.963846137438735,
         3.95412465695017,
         3.9518799996034715,
         3.950520069100307,
         3.9568189241477367,
         3.9570344715795427,
         3.9705451081752416,
         3.9530554651185605,
         3.9740748312220173,
         3.959945778227918,
         3.946021095414263,
         3.9708104722789495,
         3.9822392375117315,
         3.972107194255794,
         3.971334533005713,
         3.971228201889207,
         3.9532463997251623,
         3.943012962454535,
         3.971525559823268,
         3.956050883610564,
         3.977205516074984,
         3.9667390306451105,
         3.9818106952289862,
         3.954146399164828,
         3.9827692364015594,
         3.9562954336174694,
         3.972412995715252,
         3.983786538401229,
         3.961647943289084,
         3.9750685583933523,
         3.9634428863733966,
         3.9552205409505556,
         3.9921857908317477,
         3.9641331987654667,
         3.9671102842533714,
         4.000893980833028,
         3.9709372023883676,
         3.9445085748896336,
         3.97714936363553,
         4.002365693079713,
         3.956402155741359,
         3.955588133907689,
         3.953910350543258,
         3.9714184908174013,
         3.97508966643028,
         3.9625247477052468,
         3.9699724819344158,
         3.9603291023343163,
         3.9577915281078333,
         3.964014774517627,
         3.9656852276113836,
         3.971132728839171,
         3.9815659963918897,
         3.958877249722601,
         3.9744806630333103,
         3.978497866606137,
         3.969730392451046,
         3.94815757768488,
         3.9756651579604974,
         3.9756580844900125,
         3.964769904657063,
         3.9685320167406473,
         3.955620502382342,
         3.9747636281694914,
         3.9876556107971957,
         3.9783772637157253,
         3.952426138906455,
         3.96716764388245,
         3.966482288420642,
         3.977405267192949,
         3.9680184258467714,
         3.99633740231784,
         3.984771299423523,
         3.9484280083950396,
         3.9906051985403685,
         3.9588923520066266,
         3.9587304916074118,
         3.960701289652351,
         3.9469486700662726,
         3.978436432335666,
         3.9793456183207616,
         3.9549549454929385,
         3.9669328383955857,
         3.979351828178884,
         3.963831817559271
        ]
       ],
       "encoder": "json",
       "name": "ABC_GAN_1 Metrics",
       "version": 1
      }
     },
     "metadata": {
      "scrapbook": {
       "data": true,
       "display": false,
       "name": "ABC_GAN_1 Metrics"
      }
     },
     "output_type": "display_data"
    },
    {
     "name": "stdout",
     "output_type": "stream",
     "text": [
      "MSE\n",
      "0.15427539625644707\n"
     ]
    }
   ],
   "source": [
    "ABC_GAN1_metrics=ABC_train_test2.test_generator(gen,test_data,prior_model,variance,bias,\"1\",device)\n",
    "sb.glue(\"ABC_GAN_1 Metrics\",ABC_GAN1_metrics)\n",
    "\n",
    "print(\"MSE\")\n",
    "print(mean(ABC_GAN1_metrics[0]))"
   ]
  },
  {
   "cell_type": "code",
   "execution_count": 14,
   "id": "eb22ce5c",
   "metadata": {
    "execution": {
     "iopub.execute_input": "2022-06-12T07:03:49.467187Z",
     "iopub.status.busy": "2022-06-12T07:03:49.466795Z",
     "iopub.status.idle": "2022-06-12T07:03:49.793619Z",
     "shell.execute_reply": "2022-06-12T07:03:49.793916Z"
    },
    "papermill": {
     "duration": 0.342364,
     "end_time": "2022-06-12T07:03:49.794037",
     "exception": false,
     "start_time": "2022-06-12T07:03:49.451673",
     "status": "completed"
    },
    "tags": []
   },
   "outputs": [
    {
     "data": {
      "image/png": "[encoded data removed]",
      "text/plain": [
       "<Figure size 432x288 with 1 Axes>"
      ]
     },
     "metadata": {
      "needs_background": "light"
     },
     "output_type": "display_data"
    },
    {
     "data": {
      "image/png": "[encoded data removed]",
      "text/plain": [
       "<Figure size 432x288 with 1 Axes>"
      ]
     },
     "metadata": {
      "needs_background": "light"
     },
     "output_type": "display_data"
    },
    {
     "data": {
      "image/png": "[encoded data removed]",
      "text/plain": [
       "<Figure size 432x288 with 1 Axes>"
      ]
     },
     "metadata": {
      "needs_background": "light"
     },
     "output_type": "display_data"
    },
    {
     "data": {
      "image/png": "[encoded data removed]",
      "text/plain": [
       "<Figure size 432x288 with 1 Axes>"
      ]
     },
     "metadata": {
      "needs_background": "light"
     },
     "output_type": "display_data"
    }
   ],
   "source": [
    "sanityChecks.discProbVsError(train_data,disc,device)\n",
    "sanityChecks.discProbVsError(test_data,disc,device)"
   ]
  },
  {
   "cell_type": "markdown",
   "id": "130f3a4d",
   "metadata": {
    "id": "130f3a4d",
    "papermill": {
     "duration": 0.014491,
     "end_time": "2022-06-12T07:03:49.823534",
     "exception": false,
     "start_time": "2022-06-12T07:03:49.809043",
     "status": "completed"
    },
    "tags": []
   },
   "source": [
    "# ABC - GAN Model with skip connection"
   ]
  },
  {
   "cell_type": "code",
   "execution_count": 15,
   "id": "4e43dad1",
   "metadata": {
    "execution": {
     "iopub.execute_input": "2022-06-12T07:03:49.856207Z",
     "iopub.status.busy": "2022-06-12T07:03:49.855822Z",
     "iopub.status.idle": "2022-06-12T07:03:49.858485Z",
     "shell.execute_reply": "2022-06-12T07:03:49.858217Z"
    },
    "id": "4e43dad1",
    "papermill": {
     "duration": 0.020361,
     "end_time": "2022-06-12T07:03:49.858589",
     "exception": false,
     "start_time": "2022-06-12T07:03:49.838228",
     "status": "completed"
    },
    "tags": []
   },
   "outputs": [],
   "source": [
    "#Generator\n",
    "gen3 = network.GeneratorWithSkipConnection(n_features+1).to(device)\n",
    "constraints=network.weightConstraint()\n",
    "#Discriminator \n",
    "disc3 = network.Discriminator(n_features+1).to(device)\n",
    "\n",
    "criterion = torch.nn.BCELoss()\n",
    "gen_opt = torch.optim.Adam(gen3.parameters(), lr=0.001, betas=(0.5, 0.999))\n",
    "disc_opt = torch.optim.Adam(disc3.parameters(), lr=0.001, betas=(0.5, 0.999))\n"
   ]
  },
  {
   "cell_type": "code",
   "execution_count": 16,
   "id": "26acbc37",
   "metadata": {
    "execution": {
     "iopub.execute_input": "2022-06-12T07:03:49.902274Z",
     "iopub.status.busy": "2022-06-12T07:03:49.901890Z",
     "iopub.status.idle": "2022-06-12T07:06:45.618201Z",
     "shell.execute_reply": "2022-06-12T07:06:45.618535Z"
    },
    "id": "26acbc37",
    "papermill": {
     "duration": 175.734226,
     "end_time": "2022-06-12T07:06:45.618672",
     "exception": false,
     "start_time": "2022-06-12T07:03:49.884446",
     "status": "completed"
    },
    "tags": []
   },
   "outputs": [
    {
     "data": {
      "image/png": "[encoded data removed]",
      "text/plain": [
       "<Figure size 432x288 with 1 Axes>"
      ]
     },
     "metadata": {
      "needs_background": "light"
     },
     "output_type": "display_data"
    },
    {
     "data": {
      "image/png": "[encoded data removed]",
      "text/plain": [
       "<Figure size 432x288 with 1 Axes>"
      ]
     },
     "metadata": {
      "needs_background": "light"
     },
     "output_type": "display_data"
    }
   ],
   "source": [
    "ABC_train_test2.training_GAN_skip_connection(disc3,gen3,disc_opt,gen_opt,train_data,batch_size,n_epochs,criterion,prior_model,variance,bias,device)"
   ]
  },
  {
   "cell_type": "code",
   "execution_count": 17,
   "id": "c5e0717b",
   "metadata": {
    "execution": {
     "iopub.execute_input": "2022-06-12T07:06:45.652920Z",
     "iopub.status.busy": "2022-06-12T07:06:45.652491Z",
     "iopub.status.idle": "2022-06-12T07:06:46.483186Z",
     "shell.execute_reply": "2022-06-12T07:06:46.483456Z"
    },
    "id": "c5e0717b",
    "papermill": {
     "duration": 0.849015,
     "end_time": "2022-06-12T07:06:46.483579",
     "exception": false,
     "start_time": "2022-06-12T07:06:45.634564",
     "status": "completed"
    },
    "tags": []
   },
   "outputs": [
    {
     "data": {
      "application/scrapbook.scrap.json+json": {
       "data": 0.1317759782543109,
       "encoder": "json",
       "name": "ABC-GAN Model 3 MSE",
       "version": 1
      }
     },
     "metadata": {
      "scrapbook": {
       "data": true,
       "display": false,
       "name": "ABC-GAN Model 3 MSE"
      }
     },
     "output_type": "display_data"
    },
    {
     "data": {
      "application/scrapbook.scrap.json+json": {
       "data": 0.25188613313855146,
       "encoder": "json",
       "name": "ABC-GAN Model 3 MAE",
       "version": 1
      }
     },
     "metadata": {
      "scrapbook": {
       "data": true,
       "display": false,
       "name": "ABC-GAN Model 3 MAE"
      }
     },
     "output_type": "display_data"
    },
    {
     "data": {
      "application/scrapbook.scrap.json+json": {
       "data": 25.69238558013225,
       "encoder": "json",
       "name": "ABC-GAN Model 3 Manhattan Distance",
       "version": 1
      }
     },
     "metadata": {
      "scrapbook": {
       "data": true,
       "display": false,
       "name": "ABC-GAN Model 3 Manhattan Distance"
      }
     },
     "output_type": "display_data"
    },
    {
     "data": {
      "application/scrapbook.scrap.json+json": {
       "data": 3.6662006267504545,
       "encoder": "json",
       "name": "ABC-GAN Model 3 Euclidean distance",
       "version": 1
      }
     },
     "metadata": {
      "scrapbook": {
       "data": true,
       "display": false,
       "name": "ABC-GAN Model 3 Euclidean distance"
      }
     },
     "output_type": "display_data"
    },
    {
     "data": {
      "application/scrapbook.scrap.json+json": {
       "data": [
        [
         0.13237016377990546,
         0.13169997344176956,
         0.1305632619772035,
         0.13083342178611365,
         0.13255474425928568,
         0.13147854875356657,
         0.13131299230002552,
         0.1315669040566029,
         0.13044037150093268,
         0.1312910699119143,
         0.13218433347068967,
         0.13138475559046067,
         0.13086849083096552,
         0.13065209534055802,
         0.13164286949907122,
         0.13196315720266627,
         0.13093980772893285,
         0.13309577461288907,
         0.1332501950897323,
         0.132041966190093,
         0.13253854811473362,
         0.13064416380956678,
         0.13185024273006854,
         0.131271818831759,
         0.13228611535650472,
         0.13095764787128886,
         0.13087473032331828,
         0.13117003933897142,
         0.13137788056026756,
         0.13130749063210864,
         0.13253775504382453,
         0.1309816700756621,
         0.13303209440594976,
         0.13259018953304236,
         0.13432535676153998,
         0.13091217306017888,
         0.13181054574728635,
         0.13147037213551363,
         0.13078651314544312,
         0.13189112515151497,
         0.13267608021890806,
         0.13295662011516157,
         0.1309715177958438,
         0.1321455171291659,
         0.13197799487760736,
         0.13165955252357903,
         0.13151043760052036,
         0.13190273088168095,
         0.13092585910257298,
         0.13139117560162134,
         0.13147630803791865,
         0.13252672279070887,
         0.13189050201632704,
         0.13130632319426297,
         0.1306940542857285,
         0.1314094144611052,
         0.13246071336738924,
         0.13214899078893536,
         0.1329634995877369,
         0.13133769775296117,
         0.13279664057976034,
         0.12963285516133283,
         0.13224190063094088,
         0.1313828128665705,
         0.13220362884736975,
         0.13167122046628124,
         0.13195538486964858,
         0.13303550080745963,
         0.13228901953299163,
         0.132325504347883,
         0.13020151167544416,
         0.13289604984030173,
         0.1318163747217763,
         0.13199637972382788,
         0.1315950099055531,
         0.13066287838069066,
         0.13228850902407718,
         0.1307667110276395,
         0.13195189497968804,
         0.13113016466032112,
         0.13103454812505227,
         0.13158953866701686,
         0.1318553478519631,
         0.1332534414154853,
         0.13171399545928933,
         0.13201861942683885,
         0.13252103952621277,
         0.13083161382628605,
         0.13236008325752568,
         0.13350663252026496,
         0.13176343357841738,
         0.13111805352408748,
         0.13190099991931795,
         0.132604968755494,
         0.13140104845963912,
         0.13197046698087442,
         0.13137107304784873,
         0.13199579286084054,
         0.13301295957882284,
         0.1318511345185964
        ],
        [
         0.25304777067903356,
         0.25137410047190156,
         0.24933296234310404,
         0.2512478188556783,
         0.251858055632671,
         0.251718133569275,
         0.251102595590055,
         0.25128193483596634,
         0.25096486252276046,
         0.25128754039806334,
         0.25212780432775617,
         0.2508922611984114,
         0.24968475932438,
         0.2513122839725339,
         0.25286815725449546,
         0.25148177805457117,
         0.2506332625543662,
         0.25286315719816177,
         0.2544856044993389,
         0.25101885374398064,
         0.2531167837179394,
         0.2502494421970172,
         0.2524758713119024,
         0.2510607955319917,
         0.25365013195493935,
         0.250653945420887,
         0.2523674898525225,
         0.2527437290660672,
         0.2517355340624265,
         0.25105619290843606,
         0.25243579960592527,
         0.2511781293661425,
         0.25304731738516223,
         0.25241508629793924,
         0.2541910528351425,
         0.2520856012626752,
         0.2515786326052073,
         0.2520803655680342,
         0.2523769563401812,
         0.2522956686957246,
         0.2521678691309895,
         0.25373071464983854,
         0.251670522131391,
         0.2514790493319286,
         0.25300476017097634,
         0.25195101695135236,
         0.2506823772838449,
         0.25038878685411287,
         0.24991747951500265,
         0.2515215695214768,
         0.25093041808463123,
         0.25240776962235423,
         0.2524156138122849,
         0.251070805377893,
         0.25089687653178094,
         0.2515247418526925,
         0.2512857497888891,
         0.25233713454366025,
         0.25406991338868645,
         0.25180709880648877,
         0.2531232365918364,
         0.2488616445631373,
         0.25209411453711345,
         0.25222814650110464,
         0.25223604486524764,
         0.2511256604601501,
         0.2522008191867202,
         0.2532903756855019,
         0.2527894093403958,
         0.25265372287956817,
         0.24990457971123795,
         0.2533158719740516,
         0.252409937965008,
         0.2515881948410442,
         0.25140536215850245,
         0.25127927243125203,
         0.25285906193997054,
         0.24980652822391586,
         0.2519873469182308,
         0.251213125409741,
         0.25110440305890697,
         0.252703426250567,
         0.25173699241314157,
         0.2523338055037254,
         0.251168627606924,
         0.25222160424306694,
         0.25442639407336565,
         0.25099815872917863,
         0.2526570380774929,
         0.25518195293661133,
         0.25214534600758376,
         0.2522465651398342,
         0.2517160136599605,
         0.25288903420133624,
         0.24985315253519835,
         0.2514049961852531,
         0.2506476657341837,
         0.25287174739345325,
         0.25259289247732536,
         0.2527025510812653
        ],
        [
         25.810872609261423,
         25.640158248133957,
         25.431962158996612,
         25.62727752327919,
         25.689521674532443,
         25.675249624066055,
         25.61246475018561,
         25.630757353268564,
         25.598415977321565,
         25.63132912060246,
         25.71703604143113,
         25.59101064223796,
         25.46784545108676,
         25.633852965198457,
         25.792552039958537,
         25.65114136156626,
         25.564592780545354,
         25.7920420342125,
         25.957531658932567,
         25.603923081886023,
         25.817911939229816,
         25.525443104095757,
         25.752538873814046,
         25.60820114426315,
         25.872313459403813,
         25.56670243293047,
         25.741483964957297,
         25.779860364738852,
         25.6770244743675,
         25.607731676660478,
         25.74845155980438,
         25.620169195346534,
         25.810826373286545,
         25.7463388023898,
         25.927487389184535,
         25.71273132879287,
         25.661020525731146,
         25.71219728793949,
         25.74244954669848,
         25.73415820696391,
         25.72112265136093,
         25.880532894283533,
         25.670393257401884,
         25.650863031856716,
         25.806485537439585,
         25.69900372903794,
         25.569602482952178,
         25.53965625911951,
         25.49158291053027,
         25.655200091190636,
         25.594902644632384,
         25.745592501480132,
         25.746392608853057,
         25.609222148545086,
         25.591481406241655,
         25.655523668974638,
         25.63114647846669,
         25.738387723453343,
         25.915131165646017,
         25.684324078261852,
         25.818570132367313,
         25.383887745440006,
         25.71359968278557,
         25.72727094311267,
         25.728076576255262,
         25.614817366935313,
         25.72448355704546,
         25.835618319921196,
         25.78451975272037,
         25.77067973371595,
         25.490267130546272,
         25.83821894135326,
         25.745813672430813,
         25.66199587378651,
         25.64334694016725,
         25.63048578798771,
         25.791624317876995,
         25.48026587883942,
         25.702709385659546,
         25.623738791793585,
         25.612649112008512,
         25.775749477557838,
         25.67717322614044,
         25.738048161379993,
         25.619200015906245,
         25.72660363279283,
         25.951492195483297,
         25.601812190376222,
         25.77101788390428,
         26.028559199534357,
         25.718825292773545,
         25.72914964426309,
         25.67503339331597,
         25.7946814885363,
         25.485021558590233,
         25.643309610895813,
         25.566061904886737,
         25.79291823413223,
         25.764475032687187,
         25.77566021028906
        ],
        [
         3.6744736637442865,
         3.6651599270782844,
         3.6493085265122147,
         3.653082126394586,
         3.6770346632098994,
         3.662077548723373,
         3.659771197028935,
         3.663307824053761,
         3.647590697034843,
         3.659465689279687,
         3.671893518882369,
         3.660771103227705,
         3.653571686002408,
         3.6505497839006273,
         3.6643652504772586,
         3.6688202510714474,
         3.6545670589484534,
         3.68453104349993,
         3.686667858534681,
         3.6699156054859747,
         3.676810017896332,
         3.6504389747776647,
         3.667250299402399,
         3.6591973875208508,
         3.673306925151162,
         3.6548160121778306,
         3.6536587816842534,
         3.6577785625397126,
         3.6606753225528332,
         3.6596945288473304,
         3.676799017415842,
         3.655151207230357,
         3.6836494987182036,
         3.6775262517581457,
         3.701511365601498,
         3.654181392889281,
         3.66669819677366,
         3.6619636751096256,
         3.652427184877913,
         3.667818802156743,
         3.6787171924909674,
         3.6826044115199887,
         3.6550095506272022,
         3.6713543478088457,
         3.66902650270013,
         3.6645974345629093,
         3.6625216224963206,
         3.6679801730559363,
         3.6543723987112267,
         3.6608605424633947,
         3.662046343216822,
         3.676645988486287,
         3.6678101376250867,
         3.6596782598767916,
         3.651135924221982,
         3.6611146219468096,
         3.6757302354054353,
         3.671402601250836,
         3.6826996833775576,
         3.6601154586709472,
         3.680388204950064,
         3.636282610916806,
         3.6726929989254438,
         3.6607440380870924,
         3.6721615082171577,
         3.664759813079253,
         3.6687122068519025,
         3.6836966599274814,
         3.673347246363341,
         3.67385375913142,
         3.644249468806342,
         3.681765484616148,
         3.66677927091626,
         3.6692820458272823,
         3.6636990884031957,
         3.6507004252376616,
         3.673340158555408,
         3.6521506711551797,
         3.668663692399207,
         3.657222552067724,
         3.6558889355060185,
         3.663622926016775,
         3.6673212950190544,
         3.6867127667312927,
         3.665355035579434,
         3.6695911463727895,
         3.6765671531571,
         3.6530568857165604,
         3.6743337480783675,
         3.690213614015729,
         3.66604285640506,
         3.65705365826876,
         3.6679561054857825,
         3.677731204568978,
         3.660998080152896,
         3.6689218623526436,
         3.660580480044192,
         3.669273888905778,
         3.6833845681709545,
         3.6672627013750776
        ]
       ],
       "encoder": "json",
       "name": "ABC_GAN_3 Metrics",
       "version": 1
      }
     },
     "metadata": {
      "scrapbook": {
       "data": true,
       "display": false,
       "name": "ABC_GAN_3 Metrics"
      }
     },
     "output_type": "display_data"
    },
    {
     "name": "stdout",
     "output_type": "stream",
     "text": [
      "MSE\n",
      "0.1317759782543109\n"
     ]
    }
   ],
   "source": [
    "ABC_GAN3_metrics=ABC_train_test2.test_generator(gen3,test_data,prior_model,variance,bias,\"3\",device)\n",
    "sb.glue(\"ABC_GAN_3 Metrics\",ABC_GAN3_metrics)\n",
    "\n",
    "print(\"MSE\")\n",
    "print(mean(ABC_GAN3_metrics[0]))"
   ]
  },
  {
   "cell_type": "code",
   "execution_count": 18,
   "id": "c8e46b48",
   "metadata": {
    "execution": {
     "iopub.execute_input": "2022-06-12T07:06:46.520325Z",
     "iopub.status.busy": "2022-06-12T07:06:46.519939Z",
     "iopub.status.idle": "2022-06-12T07:06:46.846530Z",
     "shell.execute_reply": "2022-06-12T07:06:46.846844Z"
    },
    "id": "c8e46b48",
    "papermill": {
     "duration": 0.346018,
     "end_time": "2022-06-12T07:06:46.846967",
     "exception": false,
     "start_time": "2022-06-12T07:06:46.500949",
     "status": "completed"
    },
    "tags": []
   },
   "outputs": [
    {
     "data": {
      "image/png": "[encoded data removed]",
      "text/plain": [
       "<Figure size 432x288 with 1 Axes>"
      ]
     },
     "metadata": {
      "needs_background": "light"
     },
     "output_type": "display_data"
    },
    {
     "data": {
      "image/png": "[encoded data removed]",
      "text/plain": [
       "<Figure size 432x288 with 1 Axes>"
      ]
     },
     "metadata": {
      "needs_background": "light"
     },
     "output_type": "display_data"
    },
    {
     "data": {
      "image/png": "[encoded data removed]",
      "text/plain": [
       "<Figure size 432x288 with 1 Axes>"
      ]
     },
     "metadata": {
      "needs_background": "light"
     },
     "output_type": "display_data"
    },
    {
     "data": {
      "image/png": "[encoded data removed]",
      "text/plain": [
       "<Figure size 432x288 with 1 Axes>"
      ]
     },
     "metadata": {
      "needs_background": "light"
     },
     "output_type": "display_data"
    }
   ],
   "source": [
    "sanityChecks.discProbVsError(train_data,disc3,device)\n",
    "sanityChecks.discProbVsError(test_data,disc3,device)"
   ]
  },
  {
   "cell_type": "markdown",
   "id": "a5bd74c3",
   "metadata": {
    "id": "a5bd74c3",
    "papermill": {
     "duration": 0.019535,
     "end_time": "2022-06-12T07:06:46.887073",
     "exception": false,
     "start_time": "2022-06-12T07:06:46.867538",
     "status": "completed"
    },
    "tags": []
   },
   "source": [
    "## Skip Connection Model Analysis - ABC-GAN "
   ]
  },
  {
   "cell_type": "markdown",
   "id": "5744a8bf",
   "metadata": {
    "id": "5744a8bf",
    "papermill": {
     "duration": 0.019201,
     "end_time": "2022-06-12T07:06:46.925580",
     "exception": false,
     "start_time": "2022-06-12T07:06:46.906379",
     "status": "completed"
    },
    "tags": []
   },
   "source": [
    "### Weight Analysis \n",
    "\n",
    "Study the weights of the skip connection layer\n",
    "\n",
    "Equation of the skip connection is \n",
    "\n",
    "$output = y_{gan} * w + y_{abc} * (1-w)$"
   ]
  },
  {
   "cell_type": "code",
   "execution_count": 19,
   "id": "52c31dea",
   "metadata": {
    "execution": {
     "iopub.execute_input": "2022-06-12T07:06:46.969118Z",
     "iopub.status.busy": "2022-06-12T07:06:46.968724Z",
     "iopub.status.idle": "2022-06-12T07:06:46.972002Z",
     "shell.execute_reply": "2022-06-12T07:06:46.972247Z"
    },
    "id": "52c31dea",
    "papermill": {
     "duration": 0.0263,
     "end_time": "2022-06-12T07:06:46.972359",
     "exception": false,
     "start_time": "2022-06-12T07:06:46.946059",
     "status": "completed"
    },
    "tags": []
   },
   "outputs": [
    {
     "name": "stdout",
     "output_type": "stream",
     "text": [
      "Weight of the node at skip connection\n",
      "Parameter containing:\n",
      "tensor([[0.0624]], requires_grad=True)\n"
     ]
    },
    {
     "data": {
      "application/scrapbook.scrap.json+json": {
       "data": 0.06238449737429619,
       "encoder": "json",
       "name": "Skip Connection Weight",
       "version": 1
      }
     },
     "metadata": {
      "scrapbook": {
       "data": true,
       "display": false,
       "name": "Skip Connection Weight"
      }
     },
     "output_type": "display_data"
    }
   ],
   "source": [
    "print(\"Weight of the node at skip connection\")\n",
    "for name,param in gen3.named_parameters():\n",
    "    if(name == \"skipNode.weight\"):\n",
    "        print(param)\n",
    "        sb.glue(\"Skip Connection Weight\",param.item())"
   ]
  }
 ],
 "metadata": {
  "colab": {
   "collapsed_sections": [],
   "name": "ABC_GAN_Model-Catboost_Pre-gen.ipynb",
   "provenance": []
  },
  "interpreter": {
   "hash": "31f2aee4e71d21fbe5cf8b01ff0e069b9275f58929596ceb00d14d90e3e16cd6"
  },
  "kernelspec": {
   "display_name": "Python 3 (ipykernel)",
   "language": "python",
   "name": "python3"
  },
  "language_info": {
   "codemirror_mode": {
    "name": "ipython",
    "version": 3
   },
   "file_extension": ".py",
   "mimetype": "text/x-python",
   "name": "python",
   "nbconvert_exporter": "python",
   "pygments_lexer": "ipython3",
   "version": "3.8.11"
  },
  "papermill": {
   "default_parameters": {},
   "duration": 243.055821,
   "end_time": "2022-06-12T07:06:47.300309",
   "environment_variables": {},
   "exception": null,
   "input_path": "ABC_GAN-Catboost.ipynb",
   "output_path": "./ABC_GAN_Catboost/ABC-GAN_output_8_5.ipynb",
   "parameters": {
    "bias": 0.1,
    "variance": 0.01
   },
   "start_time": "2022-06-12T07:02:44.244488",
   "version": "2.3.3"
  }
 },
 "nbformat": 4,
 "nbformat_minor": 5
}