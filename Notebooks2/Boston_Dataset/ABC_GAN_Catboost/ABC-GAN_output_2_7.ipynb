{
 "cells": [
  {
   "cell_type": "markdown",
   "id": "622780e6",
   "metadata": {
    "id": "622780e6",
    "papermill": {
     "duration": 0.036134,
     "end_time": "2022-06-11T17:43:48.277422",
     "exception": false,
     "start_time": "2022-06-11T17:43:48.241288",
     "status": "completed"
    },
    "tags": []
   },
   "source": [
    "## Import Libraries "
   ]
  },
  {
   "cell_type": "code",
   "execution_count": 1,
   "id": "a62397e3",
   "metadata": {
    "execution": {
     "iopub.execute_input": "2022-06-11T17:43:48.312894Z",
     "iopub.status.busy": "2022-06-11T17:43:48.312318Z",
     "iopub.status.idle": "2022-06-11T17:43:48.314601Z",
     "shell.execute_reply": "2022-06-11T17:43:48.315088Z"
    },
    "id": "a62397e3",
    "papermill": {
     "duration": 0.021486,
     "end_time": "2022-06-11T17:43:48.315296",
     "exception": false,
     "start_time": "2022-06-11T17:43:48.293810",
     "status": "completed"
    },
    "tags": []
   },
   "outputs": [],
   "source": [
    "import warnings\n",
    "import sys\n",
    "sys.path.insert(0, '../../src')\n",
    "warnings.filterwarnings('ignore')"
   ]
  },
  {
   "cell_type": "code",
   "execution_count": 2,
   "id": "d6a4e155",
   "metadata": {
    "execution": {
     "iopub.execute_input": "2022-06-11T17:43:48.335441Z",
     "iopub.status.busy": "2022-06-11T17:43:48.335034Z",
     "iopub.status.idle": "2022-06-11T17:43:50.085740Z",
     "shell.execute_reply": "2022-06-11T17:43:50.085999Z"
    },
    "id": "d6a4e155",
    "papermill": {
     "duration": 1.76135,
     "end_time": "2022-06-11T17:43:50.086125",
     "exception": false,
     "start_time": "2022-06-11T17:43:48.324775",
     "status": "completed"
    },
    "tags": []
   },
   "outputs": [],
   "source": [
    "import ABC_train_test2\n",
    "import bostonDataset\n",
    "import network\n",
    "import dataset\n",
    "import sanityChecks\n",
    "import torch \n",
    "import scrapbook as sb\n",
    "from statistics import mean \n",
    "import catboost as ctb \n",
    "from sklearn.model_selection import train_test_split\n",
    "from sklearn.metrics import mean_squared_error,mean_absolute_error\n",
    "import numpy as np"
   ]
  },
  {
   "cell_type": "markdown",
   "id": "2fa5b0f7",
   "metadata": {
    "id": "2fa5b0f7",
    "papermill": {
     "duration": 0.006767,
     "end_time": "2022-06-11T17:43:50.100019",
     "exception": false,
     "start_time": "2022-06-11T17:43:50.093252",
     "status": "completed"
    },
    "tags": []
   },
   "source": [
    "## Parameters "
   ]
  },
  {
   "cell_type": "code",
   "execution_count": 3,
   "id": "783186fb",
   "metadata": {
    "execution": {
     "iopub.execute_input": "2022-06-11T17:43:50.115612Z",
     "iopub.status.busy": "2022-06-11T17:43:50.115237Z",
     "iopub.status.idle": "2022-06-11T17:43:50.116523Z",
     "shell.execute_reply": "2022-06-11T17:43:50.116756Z"
    },
    "id": "783186fb",
    "papermill": {
     "duration": 0.010116,
     "end_time": "2022-06-11T17:43:50.116878",
     "exception": false,
     "start_time": "2022-06-11T17:43:50.106762",
     "status": "completed"
    },
    "tags": [
     "parameters"
    ]
   },
   "outputs": [],
   "source": [
    "variance = 1\n",
    "bias = 1 "
   ]
  },
  {
   "cell_type": "code",
   "execution_count": 4,
   "id": "34ae2914",
   "metadata": {
    "execution": {
     "iopub.execute_input": "2022-06-11T17:43:50.132521Z",
     "iopub.status.busy": "2022-06-11T17:43:50.132150Z",
     "iopub.status.idle": "2022-06-11T17:43:50.133382Z",
     "shell.execute_reply": "2022-06-11T17:43:50.133622Z"
    },
    "papermill": {
     "duration": 0.009877,
     "end_time": "2022-06-11T17:43:50.133725",
     "exception": false,
     "start_time": "2022-06-11T17:43:50.123848",
     "status": "completed"
    },
    "tags": [
     "injected-parameters"
    ]
   },
   "outputs": [],
   "source": [
    "# Parameters\n",
    "variance = 0.1\n",
    "bias = 0.01\n"
   ]
  },
  {
   "cell_type": "markdown",
   "id": "391cdbfd",
   "metadata": {
    "id": "391cdbfd",
    "papermill": {
     "duration": 0.00673,
     "end_time": "2022-06-11T17:43:50.147344",
     "exception": false,
     "start_time": "2022-06-11T17:43:50.140614",
     "status": "completed"
    },
    "tags": []
   },
   "source": [
    "## Dataset \n"
   ]
  },
  {
   "cell_type": "code",
   "execution_count": 5,
   "id": "5b51f161",
   "metadata": {
    "execution": {
     "iopub.execute_input": "2022-06-11T17:43:50.162849Z",
     "iopub.status.busy": "2022-06-11T17:43:50.162497Z",
     "iopub.status.idle": "2022-06-11T17:43:50.163783Z",
     "shell.execute_reply": "2022-06-11T17:43:50.164021Z"
    },
    "id": "5b51f161",
    "papermill": {
     "duration": 0.009942,
     "end_time": "2022-06-11T17:43:50.164133",
     "exception": false,
     "start_time": "2022-06-11T17:43:50.154191",
     "status": "completed"
    },
    "tags": []
   },
   "outputs": [],
   "source": [
    "#Parameters \n",
    "n_features = 13\n",
    "n_samples= 506\n",
    "n_target = 1 "
   ]
  },
  {
   "cell_type": "code",
   "execution_count": 6,
   "id": "5d6eced4",
   "metadata": {
    "execution": {
     "iopub.execute_input": "2022-06-11T17:43:50.179872Z",
     "iopub.status.busy": "2022-06-11T17:43:50.179506Z",
     "iopub.status.idle": "2022-06-11T17:43:50.190176Z",
     "shell.execute_reply": "2022-06-11T17:43:50.190428Z"
    },
    "id": "5d6eced4",
    "papermill": {
     "duration": 0.019469,
     "end_time": "2022-06-11T17:43:50.190541",
     "exception": false,
     "start_time": "2022-06-11T17:43:50.171072",
     "status": "completed"
    },
    "tags": []
   },
   "outputs": [
    {
     "name": "stdout",
     "output_type": "stream",
     "text": [
      "         X1        X2        X3        X4        X5        X6        X7  \\\n",
      "0 -0.419782  0.284830 -1.287909 -0.272599 -0.144217  0.413672 -0.120013   \n",
      "1 -0.417339 -0.487722 -0.593381 -0.272599 -0.740262  0.194274  0.367166   \n",
      "2 -0.417342 -0.487722 -0.593381 -0.272599 -0.740262  1.282714 -0.265812   \n",
      "3 -0.416750 -0.487722 -1.306878 -0.272599 -0.835284  1.016303 -0.809889   \n",
      "4 -0.412482 -0.487722 -1.306878 -0.272599 -0.835284  1.228577 -0.511180   \n",
      "\n",
      "         X8        X9       X10       X11       X12       X13         Y  \n",
      "0  0.140214 -0.982843 -0.666608 -1.459000  0.441052 -1.075562  0.159686  \n",
      "1  0.557160 -0.867883 -0.987329 -0.303094  0.441052 -0.492439 -0.101524  \n",
      "2  0.557160 -0.867883 -0.987329 -0.303094  0.396427 -1.208727  1.324247  \n",
      "3  1.077737 -0.752922 -1.106115  0.113032  0.416163 -1.361517  1.182758  \n",
      "4  1.077737 -0.752922 -1.106115  0.113032  0.441052 -1.026501  1.487503  \n"
     ]
    }
   ],
   "source": [
    "X,Y = bostonDataset.boston_data()"
   ]
  },
  {
   "cell_type": "code",
   "execution_count": 7,
   "id": "fe007438",
   "metadata": {
    "execution": {
     "iopub.execute_input": "2022-06-11T17:43:50.207534Z",
     "iopub.status.busy": "2022-06-11T17:43:50.207149Z",
     "iopub.status.idle": "2022-06-11T17:43:50.208668Z",
     "shell.execute_reply": "2022-06-11T17:43:50.208908Z"
    },
    "id": "fe007438",
    "papermill": {
     "duration": 0.011113,
     "end_time": "2022-06-11T17:43:50.209014",
     "exception": false,
     "start_time": "2022-06-11T17:43:50.197901",
     "status": "completed"
    },
    "tags": []
   },
   "outputs": [],
   "source": [
    "#Train test split for dataset \n",
    "X_train,X_test,Y_train,Y_test = train_test_split(X,Y,test_size = 0.2)\n",
    "train_data = dataset.CustomDataset(X_train,Y_train)\n",
    "test_data = dataset.CustomDataset(X_test,Y_test)\n"
   ]
  },
  {
   "cell_type": "markdown",
   "id": "a9a1af34",
   "metadata": {
    "id": "a9a1af34",
    "papermill": {
     "duration": 0.007083,
     "end_time": "2022-06-11T17:43:50.223278",
     "exception": false,
     "start_time": "2022-06-11T17:43:50.216195",
     "status": "completed"
    },
    "tags": []
   },
   "source": [
    "## Training Parameters "
   ]
  },
  {
   "cell_type": "code",
   "execution_count": 8,
   "id": "952b7fc8",
   "metadata": {
    "execution": {
     "iopub.execute_input": "2022-06-11T17:43:50.239531Z",
     "iopub.status.busy": "2022-06-11T17:43:50.239165Z",
     "iopub.status.idle": "2022-06-11T17:43:50.240487Z",
     "shell.execute_reply": "2022-06-11T17:43:50.240767Z"
    },
    "id": "952b7fc8",
    "papermill": {
     "duration": 0.010513,
     "end_time": "2022-06-11T17:43:50.240876",
     "exception": false,
     "start_time": "2022-06-11T17:43:50.230363",
     "status": "completed"
    },
    "tags": []
   },
   "outputs": [],
   "source": [
    "batch_size = 32\n",
    "n_epochs = 1000\n",
    "#Select the device \n",
    "device = torch.device('cuda' if torch.cuda.is_available() else 'cpu')"
   ]
  },
  {
   "cell_type": "markdown",
   "id": "a95e1600",
   "metadata": {
    "id": "a95e1600",
    "papermill": {
     "duration": 0.007042,
     "end_time": "2022-06-11T17:43:50.255067",
     "exception": false,
     "start_time": "2022-06-11T17:43:50.248025",
     "status": "completed"
    },
    "tags": []
   },
   "source": [
    "# ABC Pre-generator Model \n",
    "\n",
    "1. The catboost model is used as a pre-generator model for the ABC-GAN. \n",
    "2. The model is first trained on the entire dataset \n",
    "3. It generats X,Y pairs and we add some Gaussian noise with mean 0 and variance 1 to it which is then feed as input to the generator.\n"
   ]
  },
  {
   "cell_type": "code",
   "execution_count": 9,
   "id": "ff8ce7bd",
   "metadata": {
    "execution": {
     "iopub.execute_input": "2022-06-11T17:43:50.274057Z",
     "iopub.status.busy": "2022-06-11T17:43:50.273660Z",
     "iopub.status.idle": "2022-06-11T17:43:51.232920Z",
     "shell.execute_reply": "2022-06-11T17:43:51.233287Z"
    },
    "id": "ff8ce7bd",
    "papermill": {
     "duration": 0.971152,
     "end_time": "2022-06-11T17:43:51.233408",
     "exception": false,
     "start_time": "2022-06-11T17:43:50.262256",
     "status": "completed"
    },
    "tags": []
   },
   "outputs": [
    {
     "name": "stdout",
     "output_type": "stream",
     "text": [
      "Learning rate set to 0.033215\n",
      "0:\tlearn: 0.9641389\ttotal: 58.5ms\tremaining: 58.5s\n",
      "1:\tlearn: 0.9452521\ttotal: 59.5ms\tremaining: 29.7s\n",
      "2:\tlearn: 0.9253900\ttotal: 60.6ms\tremaining: 20.1s\n",
      "3:\tlearn: 0.9119408\ttotal: 61.6ms\tremaining: 15.3s\n",
      "4:\tlearn: 0.8951881\ttotal: 62.7ms\tremaining: 12.5s\n",
      "5:\tlearn: 0.8787511\ttotal: 63.6ms\tremaining: 10.5s\n",
      "6:\tlearn: 0.8618945\ttotal: 64.6ms\tremaining: 9.16s\n",
      "7:\tlearn: 0.8460014\ttotal: 65.4ms\tremaining: 8.11s\n",
      "8:\tlearn: 0.8305786\ttotal: 66.2ms\tremaining: 7.29s\n",
      "9:\tlearn: 0.8146299\ttotal: 67ms\tremaining: 6.63s\n",
      "10:\tlearn: 0.7993871\ttotal: 67.8ms\tremaining: 6.1s\n",
      "11:\tlearn: 0.7851547\ttotal: 68.6ms\tremaining: 5.65s\n",
      "12:\tlearn: 0.7718859\ttotal: 69.4ms\tremaining: 5.27s\n",
      "13:\tlearn: 0.7574130\ttotal: 70.3ms\tremaining: 4.95s\n",
      "14:\tlearn: 0.7436977\ttotal: 71.1ms\tremaining: 4.67s\n",
      "15:\tlearn: 0.7297834\ttotal: 71.9ms\tremaining: 4.42s\n",
      "16:\tlearn: 0.7176914\ttotal: 72.7ms\tremaining: 4.2s\n",
      "17:\tlearn: 0.7054828\ttotal: 73.5ms\tremaining: 4.01s\n",
      "18:\tlearn: 0.6935911\ttotal: 75.1ms\tremaining: 3.88s\n",
      "19:\tlearn: 0.6816723\ttotal: 76ms\tremaining: 3.72s\n",
      "20:\tlearn: 0.6681408\ttotal: 76.8ms\tremaining: 3.58s\n",
      "21:\tlearn: 0.6569295\ttotal: 77.6ms\tremaining: 3.45s\n",
      "22:\tlearn: 0.6471450\ttotal: 79.1ms\tremaining: 3.36s\n",
      "23:\tlearn: 0.6386271\ttotal: 79.9ms\tremaining: 3.25s\n",
      "24:\tlearn: 0.6287665\ttotal: 80.8ms\tremaining: 3.15s\n",
      "25:\tlearn: 0.6187716\ttotal: 81.6ms\tremaining: 3.06s\n",
      "26:\tlearn: 0.6103758\ttotal: 82.3ms\tremaining: 2.96s\n",
      "27:\tlearn: 0.6014731\ttotal: 83.1ms\tremaining: 2.88s\n",
      "28:\tlearn: 0.5932198\ttotal: 83.9ms\tremaining: 2.81s\n",
      "29:\tlearn: 0.5833539\ttotal: 84.6ms\tremaining: 2.73s\n",
      "30:\tlearn: 0.5730565\ttotal: 85.3ms\tremaining: 2.67s\n",
      "31:\tlearn: 0.5650058\ttotal: 86.1ms\tremaining: 2.6s\n",
      "32:\tlearn: 0.5584021\ttotal: 86.8ms\tremaining: 2.54s\n",
      "33:\tlearn: 0.5519156\ttotal: 87.7ms\tremaining: 2.49s\n",
      "34:\tlearn: 0.5448243\ttotal: 88.4ms\tremaining: 2.44s\n",
      "35:\tlearn: 0.5373921\ttotal: 89.1ms\tremaining: 2.38s\n",
      "36:\tlearn: 0.5309321\ttotal: 89.9ms\tremaining: 2.34s\n",
      "37:\tlearn: 0.5235823\ttotal: 90.7ms\tremaining: 2.3s\n",
      "38:\tlearn: 0.5163204\ttotal: 91.5ms\tremaining: 2.25s\n",
      "39:\tlearn: 0.5091917\ttotal: 92.4ms\tremaining: 2.22s\n",
      "40:\tlearn: 0.5037025\ttotal: 93.2ms\tremaining: 2.18s\n",
      "41:\tlearn: 0.4974178\ttotal: 93.9ms\tremaining: 2.14s\n",
      "42:\tlearn: 0.4926413\ttotal: 94.7ms\tremaining: 2.11s\n",
      "43:\tlearn: 0.4873026\ttotal: 95.6ms\tremaining: 2.08s\n",
      "44:\tlearn: 0.4820191\ttotal: 96.4ms\tremaining: 2.05s\n",
      "45:\tlearn: 0.4767543\ttotal: 97.2ms\tremaining: 2.02s\n",
      "46:\tlearn: 0.4733025\ttotal: 98ms\tremaining: 1.99s\n",
      "47:\tlearn: 0.4680334\ttotal: 98.7ms\tremaining: 1.96s\n",
      "48:\tlearn: 0.4628589\ttotal: 99.6ms\tremaining: 1.93s\n",
      "49:\tlearn: 0.4584931\ttotal: 100ms\tremaining: 1.91s\n",
      "50:\tlearn: 0.4525198\ttotal: 101ms\tremaining: 1.88s\n",
      "51:\tlearn: 0.4473754\ttotal: 102ms\tremaining: 1.86s\n",
      "52:\tlearn: 0.4416134\ttotal: 103ms\tremaining: 1.83s\n",
      "53:\tlearn: 0.4382841\ttotal: 103ms\tremaining: 1.81s\n",
      "54:\tlearn: 0.4335225\ttotal: 104ms\tremaining: 1.79s\n",
      "55:\tlearn: 0.4293800\ttotal: 105ms\tremaining: 1.77s\n",
      "56:\tlearn: 0.4257932\ttotal: 106ms\tremaining: 1.75s\n",
      "57:\tlearn: 0.4217391\ttotal: 106ms\tremaining: 1.73s\n",
      "58:\tlearn: 0.4183093\ttotal: 107ms\tremaining: 1.71s\n",
      "59:\tlearn: 0.4141578\ttotal: 108ms\tremaining: 1.69s\n",
      "60:\tlearn: 0.4101731\ttotal: 109ms\tremaining: 1.67s\n"
     ]
    },
    {
     "name": "stdout",
     "output_type": "stream",
     "text": [
      "61:\tlearn: 0.4065683\ttotal: 110ms\tremaining: 1.66s\n",
      "62:\tlearn: 0.4040279\ttotal: 111ms\tremaining: 1.65s\n",
      "63:\tlearn: 0.4004156\ttotal: 112ms\tremaining: 1.63s\n",
      "64:\tlearn: 0.3970630\ttotal: 112ms\tremaining: 1.62s\n",
      "65:\tlearn: 0.3941863\ttotal: 113ms\tremaining: 1.6s\n",
      "66:\tlearn: 0.3907873\ttotal: 114ms\tremaining: 1.59s\n",
      "67:\tlearn: 0.3875850\ttotal: 115ms\tremaining: 1.57s\n",
      "68:\tlearn: 0.3841119\ttotal: 116ms\tremaining: 1.56s\n",
      "69:\tlearn: 0.3809704\ttotal: 117ms\tremaining: 1.55s\n",
      "70:\tlearn: 0.3772000\ttotal: 117ms\tremaining: 1.53s\n",
      "71:\tlearn: 0.3739155\ttotal: 118ms\tremaining: 1.52s\n",
      "72:\tlearn: 0.3709877\ttotal: 119ms\tremaining: 1.51s\n",
      "73:\tlearn: 0.3681681\ttotal: 120ms\tremaining: 1.5s\n",
      "74:\tlearn: 0.3654402\ttotal: 121ms\tremaining: 1.49s\n",
      "75:\tlearn: 0.3624626\ttotal: 122ms\tremaining: 1.48s\n",
      "76:\tlearn: 0.3601747\ttotal: 122ms\tremaining: 1.47s\n",
      "77:\tlearn: 0.3572093\ttotal: 123ms\tremaining: 1.46s\n",
      "78:\tlearn: 0.3546259\ttotal: 124ms\tremaining: 1.45s\n",
      "79:\tlearn: 0.3524791\ttotal: 125ms\tremaining: 1.44s\n",
      "80:\tlearn: 0.3504104\ttotal: 126ms\tremaining: 1.43s\n",
      "81:\tlearn: 0.3480342\ttotal: 127ms\tremaining: 1.42s\n",
      "82:\tlearn: 0.3453880\ttotal: 127ms\tremaining: 1.41s\n",
      "83:\tlearn: 0.3426538\ttotal: 128ms\tremaining: 1.4s\n",
      "84:\tlearn: 0.3404428\ttotal: 129ms\tremaining: 1.39s\n",
      "85:\tlearn: 0.3384388\ttotal: 130ms\tremaining: 1.38s\n",
      "86:\tlearn: 0.3362637\ttotal: 131ms\tremaining: 1.37s\n",
      "87:\tlearn: 0.3337093\ttotal: 132ms\tremaining: 1.37s\n",
      "88:\tlearn: 0.3313247\ttotal: 133ms\tremaining: 1.36s\n",
      "89:\tlearn: 0.3293194\ttotal: 134ms\tremaining: 1.35s\n",
      "90:\tlearn: 0.3267494\ttotal: 134ms\tremaining: 1.34s\n",
      "91:\tlearn: 0.3247668\ttotal: 135ms\tremaining: 1.33s\n",
      "92:\tlearn: 0.3234907\ttotal: 136ms\tremaining: 1.33s\n",
      "93:\tlearn: 0.3210526\ttotal: 137ms\tremaining: 1.32s\n",
      "94:\tlearn: 0.3193633\ttotal: 138ms\tremaining: 1.31s\n",
      "95:\tlearn: 0.3176487\ttotal: 139ms\tremaining: 1.3s\n",
      "96:\tlearn: 0.3160087\ttotal: 139ms\tremaining: 1.3s\n",
      "97:\tlearn: 0.3147255\ttotal: 140ms\tremaining: 1.29s\n",
      "98:\tlearn: 0.3134003\ttotal: 141ms\tremaining: 1.28s\n",
      "99:\tlearn: 0.3118553\ttotal: 142ms\tremaining: 1.27s\n",
      "100:\tlearn: 0.3103804\ttotal: 142ms\tremaining: 1.27s\n",
      "101:\tlearn: 0.3086797\ttotal: 143ms\tremaining: 1.26s\n",
      "102:\tlearn: 0.3074614\ttotal: 144ms\tremaining: 1.25s\n",
      "103:\tlearn: 0.3059642\ttotal: 145ms\tremaining: 1.25s\n",
      "104:\tlearn: 0.3046204\ttotal: 146ms\tremaining: 1.24s\n",
      "105:\tlearn: 0.3032080\ttotal: 147ms\tremaining: 1.24s\n",
      "106:\tlearn: 0.3015208\ttotal: 147ms\tremaining: 1.23s\n",
      "107:\tlearn: 0.2997388\ttotal: 148ms\tremaining: 1.22s\n",
      "108:\tlearn: 0.2982998\ttotal: 149ms\tremaining: 1.22s\n",
      "109:\tlearn: 0.2968164\ttotal: 150ms\tremaining: 1.21s\n",
      "110:\tlearn: 0.2956159\ttotal: 151ms\tremaining: 1.21s\n",
      "111:\tlearn: 0.2942469\ttotal: 151ms\tremaining: 1.2s\n",
      "112:\tlearn: 0.2929128\ttotal: 152ms\tremaining: 1.19s\n",
      "113:\tlearn: 0.2913494\ttotal: 153ms\tremaining: 1.19s\n",
      "114:\tlearn: 0.2900789\ttotal: 154ms\tremaining: 1.19s\n",
      "115:\tlearn: 0.2890144\ttotal: 155ms\tremaining: 1.18s\n",
      "116:\tlearn: 0.2876945\ttotal: 156ms\tremaining: 1.17s\n",
      "117:\tlearn: 0.2862171\ttotal: 157ms\tremaining: 1.17s\n",
      "118:\tlearn: 0.2850996\ttotal: 157ms\tremaining: 1.16s\n",
      "119:\tlearn: 0.2838126\ttotal: 158ms\tremaining: 1.16s\n",
      "120:\tlearn: 0.2824277\ttotal: 159ms\tremaining: 1.16s\n",
      "121:\tlearn: 0.2814113\ttotal: 160ms\tremaining: 1.15s\n",
      "122:\tlearn: 0.2800662\ttotal: 161ms\tremaining: 1.15s\n",
      "123:\tlearn: 0.2792479\ttotal: 162ms\tremaining: 1.14s\n",
      "124:\tlearn: 0.2778615\ttotal: 163ms\tremaining: 1.14s\n",
      "125:\tlearn: 0.2765787\ttotal: 163ms\tremaining: 1.13s\n",
      "126:\tlearn: 0.2753314\ttotal: 164ms\tremaining: 1.13s\n",
      "127:\tlearn: 0.2744840\ttotal: 165ms\tremaining: 1.12s\n",
      "128:\tlearn: 0.2729964\ttotal: 166ms\tremaining: 1.12s\n",
      "129:\tlearn: 0.2719064\ttotal: 166ms\tremaining: 1.11s\n",
      "130:\tlearn: 0.2708405\ttotal: 167ms\tremaining: 1.11s\n",
      "131:\tlearn: 0.2698879\ttotal: 168ms\tremaining: 1.1s\n",
      "132:\tlearn: 0.2689285\ttotal: 169ms\tremaining: 1.1s\n",
      "133:\tlearn: 0.2678958\ttotal: 170ms\tremaining: 1.1s\n",
      "134:\tlearn: 0.2671897\ttotal: 170ms\tremaining: 1.09s\n",
      "135:\tlearn: 0.2657303\ttotal: 171ms\tremaining: 1.09s\n",
      "136:\tlearn: 0.2648874\ttotal: 172ms\tremaining: 1.08s\n",
      "137:\tlearn: 0.2642498\ttotal: 174ms\tremaining: 1.08s\n",
      "138:\tlearn: 0.2630260\ttotal: 174ms\tremaining: 1.08s\n",
      "139:\tlearn: 0.2619291\ttotal: 175ms\tremaining: 1.08s\n",
      "140:\tlearn: 0.2612170\ttotal: 176ms\tremaining: 1.07s\n",
      "141:\tlearn: 0.2603003\ttotal: 177ms\tremaining: 1.07s\n",
      "142:\tlearn: 0.2593293\ttotal: 178ms\tremaining: 1.06s\n",
      "143:\tlearn: 0.2583556\ttotal: 178ms\tremaining: 1.06s\n",
      "144:\tlearn: 0.2574461\ttotal: 179ms\tremaining: 1.06s\n",
      "145:\tlearn: 0.2567652\ttotal: 180ms\tremaining: 1.05s\n",
      "146:\tlearn: 0.2558958\ttotal: 181ms\tremaining: 1.05s\n",
      "147:\tlearn: 0.2548261\ttotal: 182ms\tremaining: 1.04s\n",
      "148:\tlearn: 0.2540864\ttotal: 182ms\tremaining: 1.04s\n",
      "149:\tlearn: 0.2535607\ttotal: 183ms\tremaining: 1.04s\n",
      "150:\tlearn: 0.2524581\ttotal: 184ms\tremaining: 1.03s\n",
      "151:\tlearn: 0.2516624\ttotal: 185ms\tremaining: 1.03s\n",
      "152:\tlearn: 0.2508794\ttotal: 186ms\tremaining: 1.03s\n",
      "153:\tlearn: 0.2501647\ttotal: 187ms\tremaining: 1.02s\n",
      "154:\tlearn: 0.2495326\ttotal: 188ms\tremaining: 1.02s\n",
      "155:\tlearn: 0.2486980\ttotal: 188ms\tremaining: 1.02s\n",
      "156:\tlearn: 0.2479131\ttotal: 189ms\tremaining: 1.01s\n",
      "157:\tlearn: 0.2470107\ttotal: 190ms\tremaining: 1.01s\n",
      "158:\tlearn: 0.2466155\ttotal: 191ms\tremaining: 1.01s\n",
      "159:\tlearn: 0.2461604\ttotal: 192ms\tremaining: 1s\n"
     ]
    },
    {
     "name": "stdout",
     "output_type": "stream",
     "text": [
      "160:\tlearn: 0.2456255\ttotal: 193ms\tremaining: 1s\n",
      "161:\tlearn: 0.2450978\ttotal: 193ms\tremaining: 1s\n",
      "162:\tlearn: 0.2446487\ttotal: 194ms\tremaining: 998ms\n",
      "163:\tlearn: 0.2439912\ttotal: 195ms\tremaining: 995ms\n",
      "164:\tlearn: 0.2434903\ttotal: 196ms\tremaining: 992ms\n",
      "165:\tlearn: 0.2427850\ttotal: 197ms\tremaining: 989ms\n",
      "166:\tlearn: 0.2419319\ttotal: 198ms\tremaining: 986ms\n",
      "167:\tlearn: 0.2412305\ttotal: 198ms\tremaining: 983ms\n",
      "168:\tlearn: 0.2405627\ttotal: 199ms\tremaining: 980ms\n",
      "169:\tlearn: 0.2399020\ttotal: 200ms\tremaining: 977ms\n",
      "170:\tlearn: 0.2392893\ttotal: 201ms\tremaining: 974ms\n",
      "171:\tlearn: 0.2388227\ttotal: 202ms\tremaining: 971ms\n",
      "172:\tlearn: 0.2381637\ttotal: 203ms\tremaining: 968ms\n",
      "173:\tlearn: 0.2375379\ttotal: 203ms\tremaining: 965ms\n",
      "174:\tlearn: 0.2367566\ttotal: 204ms\tremaining: 963ms\n",
      "175:\tlearn: 0.2361851\ttotal: 205ms\tremaining: 960ms\n",
      "176:\tlearn: 0.2352073\ttotal: 206ms\tremaining: 957ms\n",
      "177:\tlearn: 0.2346133\ttotal: 207ms\tremaining: 955ms\n",
      "178:\tlearn: 0.2338623\ttotal: 208ms\tremaining: 953ms\n",
      "179:\tlearn: 0.2332897\ttotal: 209ms\tremaining: 950ms\n",
      "180:\tlearn: 0.2327188\ttotal: 209ms\tremaining: 947ms\n",
      "181:\tlearn: 0.2320767\ttotal: 210ms\tremaining: 945ms\n",
      "182:\tlearn: 0.2315356\ttotal: 211ms\tremaining: 943ms\n",
      "183:\tlearn: 0.2307240\ttotal: 212ms\tremaining: 940ms\n",
      "184:\tlearn: 0.2302129\ttotal: 213ms\tremaining: 938ms\n",
      "185:\tlearn: 0.2296512\ttotal: 214ms\tremaining: 935ms\n",
      "186:\tlearn: 0.2290056\ttotal: 215ms\tremaining: 933ms\n",
      "187:\tlearn: 0.2285989\ttotal: 216ms\tremaining: 931ms\n",
      "188:\tlearn: 0.2280413\ttotal: 216ms\tremaining: 928ms\n",
      "189:\tlearn: 0.2273169\ttotal: 217ms\tremaining: 925ms\n",
      "190:\tlearn: 0.2268516\ttotal: 218ms\tremaining: 923ms\n",
      "191:\tlearn: 0.2263710\ttotal: 219ms\tremaining: 920ms\n",
      "192:\tlearn: 0.2257137\ttotal: 219ms\tremaining: 918ms\n",
      "193:\tlearn: 0.2248942\ttotal: 220ms\tremaining: 915ms\n",
      "194:\tlearn: 0.2240604\ttotal: 221ms\tremaining: 913ms\n",
      "195:\tlearn: 0.2234790\ttotal: 222ms\tremaining: 911ms\n",
      "196:\tlearn: 0.2230011\ttotal: 223ms\tremaining: 908ms\n",
      "197:\tlearn: 0.2225669\ttotal: 223ms\tremaining: 905ms\n",
      "198:\tlearn: 0.2217835\ttotal: 224ms\tremaining: 903ms\n",
      "199:\tlearn: 0.2212058\ttotal: 225ms\tremaining: 902ms\n",
      "200:\tlearn: 0.2208221\ttotal: 226ms\tremaining: 900ms\n",
      "201:\tlearn: 0.2203103\ttotal: 227ms\tremaining: 897ms\n",
      "202:\tlearn: 0.2198986\ttotal: 228ms\tremaining: 895ms\n",
      "203:\tlearn: 0.2193152\ttotal: 229ms\tremaining: 892ms\n",
      "204:\tlearn: 0.2186958\ttotal: 229ms\tremaining: 890ms\n",
      "205:\tlearn: 0.2179287\ttotal: 230ms\tremaining: 887ms\n",
      "206:\tlearn: 0.2172802\ttotal: 231ms\tremaining: 885ms\n",
      "207:\tlearn: 0.2168126\ttotal: 232ms\tremaining: 883ms\n",
      "208:\tlearn: 0.2163793\ttotal: 233ms\tremaining: 881ms\n",
      "209:\tlearn: 0.2159334\ttotal: 234ms\tremaining: 879ms\n",
      "210:\tlearn: 0.2153290\ttotal: 234ms\tremaining: 876ms\n",
      "211:\tlearn: 0.2150624\ttotal: 235ms\tremaining: 874ms\n",
      "212:\tlearn: 0.2145624\ttotal: 236ms\tremaining: 872ms\n",
      "213:\tlearn: 0.2140892\ttotal: 237ms\tremaining: 871ms\n",
      "214:\tlearn: 0.2135252\ttotal: 238ms\tremaining: 869ms\n",
      "215:\tlearn: 0.2130585\ttotal: 239ms\tremaining: 867ms\n",
      "216:\tlearn: 0.2126249\ttotal: 240ms\tremaining: 865ms\n",
      "217:\tlearn: 0.2121387\ttotal: 241ms\tremaining: 863ms\n",
      "218:\tlearn: 0.2118213\ttotal: 241ms\tremaining: 860ms\n",
      "219:\tlearn: 0.2113162\ttotal: 242ms\tremaining: 859ms\n",
      "220:\tlearn: 0.2107468\ttotal: 243ms\tremaining: 856ms\n",
      "221:\tlearn: 0.2102292\ttotal: 244ms\tremaining: 854ms\n",
      "222:\tlearn: 0.2093921\ttotal: 245ms\tremaining: 852ms\n",
      "223:\tlearn: 0.2087363\ttotal: 245ms\tremaining: 850ms\n",
      "224:\tlearn: 0.2082372\ttotal: 246ms\tremaining: 848ms\n",
      "225:\tlearn: 0.2078380\ttotal: 247ms\tremaining: 846ms\n",
      "226:\tlearn: 0.2073665\ttotal: 248ms\tremaining: 844ms\n",
      "227:\tlearn: 0.2069711\ttotal: 249ms\tremaining: 842ms\n",
      "228:\tlearn: 0.2062802\ttotal: 250ms\tremaining: 841ms\n",
      "229:\tlearn: 0.2057246\ttotal: 251ms\tremaining: 839ms\n",
      "230:\tlearn: 0.2054016\ttotal: 251ms\tremaining: 837ms\n",
      "231:\tlearn: 0.2048927\ttotal: 252ms\tremaining: 835ms\n",
      "232:\tlearn: 0.2044928\ttotal: 253ms\tremaining: 833ms\n",
      "233:\tlearn: 0.2040270\ttotal: 254ms\tremaining: 831ms\n",
      "234:\tlearn: 0.2035701\ttotal: 255ms\tremaining: 829ms\n",
      "235:\tlearn: 0.2032305\ttotal: 256ms\tremaining: 828ms\n",
      "236:\tlearn: 0.2028158\ttotal: 257ms\tremaining: 826ms\n",
      "237:\tlearn: 0.2023355\ttotal: 257ms\tremaining: 824ms\n",
      "238:\tlearn: 0.2019436\ttotal: 258ms\tremaining: 822ms\n",
      "239:\tlearn: 0.2016503\ttotal: 259ms\tremaining: 820ms\n",
      "240:\tlearn: 0.2010740\ttotal: 260ms\tremaining: 819ms\n",
      "241:\tlearn: 0.2004391\ttotal: 261ms\tremaining: 817ms\n",
      "242:\tlearn: 0.1998979\ttotal: 262ms\tremaining: 815ms\n",
      "243:\tlearn: 0.1993656\ttotal: 262ms\tremaining: 813ms\n",
      "244:\tlearn: 0.1989667\ttotal: 263ms\tremaining: 811ms\n",
      "245:\tlearn: 0.1987156\ttotal: 264ms\tremaining: 810ms\n",
      "246:\tlearn: 0.1983464\ttotal: 265ms\tremaining: 807ms\n",
      "247:\tlearn: 0.1981367\ttotal: 266ms\tremaining: 805ms\n",
      "248:\tlearn: 0.1978295\ttotal: 267ms\tremaining: 804ms\n",
      "249:\tlearn: 0.1973835\ttotal: 267ms\tremaining: 802ms\n",
      "250:\tlearn: 0.1968145\ttotal: 268ms\tremaining: 800ms\n",
      "251:\tlearn: 0.1964110\ttotal: 269ms\tremaining: 800ms\n",
      "252:\tlearn: 0.1960846\ttotal: 270ms\tremaining: 798ms\n",
      "253:\tlearn: 0.1957167\ttotal: 271ms\tremaining: 796ms\n",
      "254:\tlearn: 0.1951132\ttotal: 272ms\tremaining: 795ms\n",
      "255:\tlearn: 0.1949202\ttotal: 273ms\tremaining: 793ms\n",
      "256:\tlearn: 0.1945152\ttotal: 274ms\tremaining: 791ms\n",
      "257:\tlearn: 0.1941547\ttotal: 275ms\tremaining: 790ms\n",
      "258:\tlearn: 0.1934116\ttotal: 275ms\tremaining: 788ms\n",
      "259:\tlearn: 0.1930653\ttotal: 276ms\tremaining: 786ms\n",
      "260:\tlearn: 0.1924685\ttotal: 277ms\tremaining: 784ms\n",
      "261:\tlearn: 0.1921221\ttotal: 278ms\tremaining: 783ms\n",
      "262:\tlearn: 0.1918818\ttotal: 279ms\tremaining: 781ms\n",
      "263:\tlearn: 0.1916826\ttotal: 279ms\tremaining: 779ms\n",
      "264:\tlearn: 0.1911601\ttotal: 280ms\tremaining: 778ms\n",
      "265:\tlearn: 0.1908077\ttotal: 281ms\tremaining: 776ms\n",
      "266:\tlearn: 0.1904080\ttotal: 282ms\tremaining: 775ms\n",
      "267:\tlearn: 0.1900066\ttotal: 283ms\tremaining: 773ms\n",
      "268:\tlearn: 0.1893981\ttotal: 284ms\tremaining: 771ms\n",
      "269:\tlearn: 0.1888152\ttotal: 285ms\tremaining: 770ms\n",
      "270:\tlearn: 0.1885504\ttotal: 285ms\tremaining: 768ms\n",
      "271:\tlearn: 0.1882126\ttotal: 286ms\tremaining: 766ms\n",
      "272:\tlearn: 0.1878207\ttotal: 287ms\tremaining: 765ms\n",
      "273:\tlearn: 0.1874458\ttotal: 288ms\tremaining: 763ms\n",
      "274:\tlearn: 0.1870881\ttotal: 289ms\tremaining: 762ms\n",
      "275:\tlearn: 0.1864629\ttotal: 290ms\tremaining: 760ms\n",
      "276:\tlearn: 0.1860782\ttotal: 291ms\tremaining: 759ms\n",
      "277:\tlearn: 0.1859755\ttotal: 292ms\tremaining: 757ms\n",
      "278:\tlearn: 0.1854928\ttotal: 292ms\tremaining: 756ms\n",
      "279:\tlearn: 0.1848761\ttotal: 293ms\tremaining: 754ms\n",
      "280:\tlearn: 0.1846625\ttotal: 294ms\tremaining: 752ms\n",
      "281:\tlearn: 0.1841607\ttotal: 295ms\tremaining: 752ms\n",
      "282:\tlearn: 0.1836827\ttotal: 296ms\tremaining: 751ms\n",
      "283:\tlearn: 0.1832657\ttotal: 297ms\tremaining: 749ms\n",
      "284:\tlearn: 0.1828492\ttotal: 298ms\tremaining: 747ms\n",
      "285:\tlearn: 0.1826065\ttotal: 299ms\tremaining: 746ms\n"
     ]
    },
    {
     "name": "stdout",
     "output_type": "stream",
     "text": [
      "286:\tlearn: 0.1820961\ttotal: 300ms\tremaining: 745ms\n",
      "287:\tlearn: 0.1816700\ttotal: 301ms\tremaining: 743ms\n",
      "288:\tlearn: 0.1813852\ttotal: 302ms\tremaining: 742ms\n",
      "289:\tlearn: 0.1810100\ttotal: 302ms\tremaining: 740ms\n",
      "290:\tlearn: 0.1806645\ttotal: 303ms\tremaining: 738ms\n",
      "291:\tlearn: 0.1802147\ttotal: 304ms\tremaining: 737ms\n",
      "292:\tlearn: 0.1799827\ttotal: 305ms\tremaining: 735ms\n",
      "293:\tlearn: 0.1795602\ttotal: 306ms\tremaining: 734ms\n",
      "294:\tlearn: 0.1793077\ttotal: 306ms\tremaining: 732ms\n",
      "295:\tlearn: 0.1791220\ttotal: 307ms\tremaining: 731ms\n",
      "296:\tlearn: 0.1787827\ttotal: 308ms\tremaining: 729ms\n",
      "297:\tlearn: 0.1782687\ttotal: 309ms\tremaining: 728ms\n",
      "298:\tlearn: 0.1779501\ttotal: 310ms\tremaining: 726ms\n",
      "299:\tlearn: 0.1774473\ttotal: 311ms\tremaining: 725ms\n",
      "300:\tlearn: 0.1770921\ttotal: 312ms\tremaining: 723ms\n",
      "301:\tlearn: 0.1767285\ttotal: 312ms\tremaining: 722ms\n",
      "302:\tlearn: 0.1766154\ttotal: 313ms\tremaining: 721ms\n",
      "303:\tlearn: 0.1764077\ttotal: 314ms\tremaining: 719ms\n",
      "304:\tlearn: 0.1761061\ttotal: 315ms\tremaining: 718ms\n",
      "305:\tlearn: 0.1758556\ttotal: 316ms\tremaining: 716ms\n",
      "306:\tlearn: 0.1754950\ttotal: 316ms\tremaining: 714ms\n",
      "307:\tlearn: 0.1752462\ttotal: 317ms\tremaining: 713ms\n",
      "308:\tlearn: 0.1748181\ttotal: 318ms\tremaining: 711ms\n",
      "309:\tlearn: 0.1744082\ttotal: 319ms\tremaining: 710ms\n",
      "310:\tlearn: 0.1740328\ttotal: 320ms\tremaining: 709ms\n",
      "311:\tlearn: 0.1738325\ttotal: 321ms\tremaining: 707ms\n",
      "312:\tlearn: 0.1735211\ttotal: 322ms\tremaining: 706ms\n",
      "313:\tlearn: 0.1730150\ttotal: 322ms\tremaining: 704ms\n",
      "314:\tlearn: 0.1725875\ttotal: 323ms\tremaining: 703ms\n",
      "315:\tlearn: 0.1722963\ttotal: 324ms\tremaining: 702ms\n",
      "316:\tlearn: 0.1720278\ttotal: 325ms\tremaining: 700ms\n",
      "317:\tlearn: 0.1717305\ttotal: 326ms\tremaining: 699ms\n",
      "318:\tlearn: 0.1714253\ttotal: 327ms\tremaining: 697ms\n",
      "319:\tlearn: 0.1711828\ttotal: 328ms\tremaining: 696ms\n",
      "320:\tlearn: 0.1709043\ttotal: 328ms\tremaining: 695ms\n",
      "321:\tlearn: 0.1706296\ttotal: 329ms\tremaining: 693ms\n",
      "322:\tlearn: 0.1703081\ttotal: 330ms\tremaining: 692ms\n",
      "323:\tlearn: 0.1700260\ttotal: 331ms\tremaining: 691ms\n",
      "324:\tlearn: 0.1697577\ttotal: 332ms\tremaining: 689ms\n",
      "325:\tlearn: 0.1695724\ttotal: 332ms\tremaining: 687ms\n",
      "326:\tlearn: 0.1692165\ttotal: 333ms\tremaining: 686ms\n",
      "327:\tlearn: 0.1689465\ttotal: 334ms\tremaining: 685ms\n",
      "328:\tlearn: 0.1687640\ttotal: 335ms\tremaining: 683ms\n",
      "329:\tlearn: 0.1683788\ttotal: 336ms\tremaining: 681ms\n",
      "330:\tlearn: 0.1682553\ttotal: 336ms\tremaining: 680ms\n",
      "331:\tlearn: 0.1680431\ttotal: 337ms\tremaining: 679ms\n",
      "332:\tlearn: 0.1677956\ttotal: 338ms\tremaining: 677ms\n",
      "333:\tlearn: 0.1675216\ttotal: 339ms\tremaining: 675ms\n",
      "334:\tlearn: 0.1673204\ttotal: 340ms\tremaining: 674ms\n",
      "335:\tlearn: 0.1669403\ttotal: 340ms\tremaining: 672ms\n",
      "336:\tlearn: 0.1668185\ttotal: 341ms\tremaining: 671ms\n",
      "337:\tlearn: 0.1664215\ttotal: 342ms\tremaining: 670ms\n",
      "338:\tlearn: 0.1661226\ttotal: 343ms\tremaining: 670ms\n",
      "339:\tlearn: 0.1657249\ttotal: 344ms\tremaining: 668ms\n",
      "340:\tlearn: 0.1655315\ttotal: 345ms\tremaining: 667ms\n",
      "341:\tlearn: 0.1651488\ttotal: 346ms\tremaining: 665ms\n",
      "342:\tlearn: 0.1647997\ttotal: 347ms\tremaining: 664ms\n",
      "343:\tlearn: 0.1644980\ttotal: 348ms\tremaining: 663ms\n",
      "344:\tlearn: 0.1642509\ttotal: 348ms\tremaining: 661ms\n",
      "345:\tlearn: 0.1640390\ttotal: 349ms\tremaining: 660ms\n",
      "346:\tlearn: 0.1636399\ttotal: 350ms\tremaining: 658ms\n",
      "347:\tlearn: 0.1633464\ttotal: 351ms\tremaining: 657ms\n",
      "348:\tlearn: 0.1630024\ttotal: 352ms\tremaining: 656ms\n",
      "349:\tlearn: 0.1626995\ttotal: 352ms\tremaining: 654ms\n",
      "350:\tlearn: 0.1623664\ttotal: 353ms\tremaining: 653ms\n",
      "351:\tlearn: 0.1620760\ttotal: 354ms\tremaining: 652ms\n",
      "352:\tlearn: 0.1617548\ttotal: 355ms\tremaining: 650ms\n",
      "353:\tlearn: 0.1615252\ttotal: 356ms\tremaining: 649ms\n",
      "354:\tlearn: 0.1612059\ttotal: 356ms\tremaining: 648ms\n",
      "355:\tlearn: 0.1608946\ttotal: 357ms\tremaining: 646ms\n",
      "356:\tlearn: 0.1605660\ttotal: 358ms\tremaining: 645ms\n",
      "357:\tlearn: 0.1600688\ttotal: 359ms\tremaining: 644ms\n",
      "358:\tlearn: 0.1598942\ttotal: 360ms\tremaining: 642ms\n",
      "359:\tlearn: 0.1596911\ttotal: 361ms\tremaining: 641ms\n",
      "360:\tlearn: 0.1594069\ttotal: 361ms\tremaining: 640ms\n",
      "361:\tlearn: 0.1591425\ttotal: 362ms\tremaining: 638ms\n",
      "362:\tlearn: 0.1590358\ttotal: 363ms\tremaining: 637ms\n",
      "363:\tlearn: 0.1587603\ttotal: 364ms\tremaining: 635ms\n",
      "364:\tlearn: 0.1584586\ttotal: 364ms\tremaining: 634ms\n",
      "365:\tlearn: 0.1581758\ttotal: 365ms\tremaining: 633ms\n",
      "366:\tlearn: 0.1580042\ttotal: 366ms\tremaining: 631ms\n",
      "367:\tlearn: 0.1576268\ttotal: 367ms\tremaining: 630ms\n",
      "368:\tlearn: 0.1573718\ttotal: 368ms\tremaining: 629ms\n",
      "369:\tlearn: 0.1571064\ttotal: 369ms\tremaining: 628ms\n",
      "370:\tlearn: 0.1567887\ttotal: 370ms\tremaining: 627ms\n",
      "371:\tlearn: 0.1564385\ttotal: 370ms\tremaining: 625ms\n",
      "372:\tlearn: 0.1561095\ttotal: 371ms\tremaining: 624ms\n",
      "373:\tlearn: 0.1558521\ttotal: 372ms\tremaining: 622ms\n",
      "374:\tlearn: 0.1555475\ttotal: 373ms\tremaining: 621ms\n",
      "375:\tlearn: 0.1550246\ttotal: 373ms\tremaining: 620ms\n",
      "376:\tlearn: 0.1547170\ttotal: 374ms\tremaining: 618ms\n",
      "377:\tlearn: 0.1543072\ttotal: 375ms\tremaining: 617ms\n",
      "378:\tlearn: 0.1539951\ttotal: 376ms\tremaining: 616ms\n",
      "379:\tlearn: 0.1535412\ttotal: 376ms\tremaining: 614ms\n",
      "380:\tlearn: 0.1532058\ttotal: 377ms\tremaining: 613ms\n",
      "381:\tlearn: 0.1528892\ttotal: 378ms\tremaining: 612ms\n",
      "382:\tlearn: 0.1525692\ttotal: 379ms\tremaining: 610ms\n",
      "383:\tlearn: 0.1522409\ttotal: 380ms\tremaining: 609ms\n",
      "384:\tlearn: 0.1519314\ttotal: 380ms\tremaining: 608ms\n",
      "385:\tlearn: 0.1515797\ttotal: 381ms\tremaining: 606ms\n",
      "386:\tlearn: 0.1513816\ttotal: 382ms\tremaining: 605ms\n"
     ]
    },
    {
     "name": "stdout",
     "output_type": "stream",
     "text": [
      "387:\tlearn: 0.1510586\ttotal: 383ms\tremaining: 604ms\n",
      "388:\tlearn: 0.1506595\ttotal: 384ms\tremaining: 603ms\n",
      "389:\tlearn: 0.1503675\ttotal: 385ms\tremaining: 602ms\n",
      "390:\tlearn: 0.1498790\ttotal: 386ms\tremaining: 601ms\n",
      "391:\tlearn: 0.1497299\ttotal: 386ms\tremaining: 599ms\n",
      "392:\tlearn: 0.1494999\ttotal: 387ms\tremaining: 598ms\n",
      "393:\tlearn: 0.1490840\ttotal: 388ms\tremaining: 597ms\n",
      "394:\tlearn: 0.1487221\ttotal: 389ms\tremaining: 596ms\n",
      "395:\tlearn: 0.1484475\ttotal: 390ms\tremaining: 595ms\n",
      "396:\tlearn: 0.1480458\ttotal: 391ms\tremaining: 594ms\n",
      "397:\tlearn: 0.1478247\ttotal: 392ms\tremaining: 593ms\n",
      "398:\tlearn: 0.1475148\ttotal: 393ms\tremaining: 592ms\n",
      "399:\tlearn: 0.1473032\ttotal: 394ms\tremaining: 591ms\n",
      "400:\tlearn: 0.1470935\ttotal: 395ms\tremaining: 590ms\n",
      "401:\tlearn: 0.1467767\ttotal: 396ms\tremaining: 589ms\n",
      "402:\tlearn: 0.1465101\ttotal: 397ms\tremaining: 588ms\n",
      "403:\tlearn: 0.1461973\ttotal: 398ms\tremaining: 587ms\n",
      "404:\tlearn: 0.1458664\ttotal: 399ms\tremaining: 586ms\n",
      "405:\tlearn: 0.1455773\ttotal: 400ms\tremaining: 585ms\n",
      "406:\tlearn: 0.1452165\ttotal: 401ms\tremaining: 584ms\n",
      "407:\tlearn: 0.1450345\ttotal: 402ms\tremaining: 583ms\n",
      "408:\tlearn: 0.1447174\ttotal: 402ms\tremaining: 582ms\n",
      "409:\tlearn: 0.1445768\ttotal: 403ms\tremaining: 580ms\n",
      "410:\tlearn: 0.1442964\ttotal: 404ms\tremaining: 580ms\n",
      "411:\tlearn: 0.1439928\ttotal: 405ms\tremaining: 579ms\n",
      "412:\tlearn: 0.1437159\ttotal: 406ms\tremaining: 577ms\n",
      "413:\tlearn: 0.1433245\ttotal: 407ms\tremaining: 576ms\n",
      "414:\tlearn: 0.1432121\ttotal: 408ms\tremaining: 576ms\n",
      "415:\tlearn: 0.1429108\ttotal: 409ms\tremaining: 575ms\n",
      "416:\tlearn: 0.1426383\ttotal: 410ms\tremaining: 574ms\n",
      "417:\tlearn: 0.1423398\ttotal: 411ms\tremaining: 573ms\n",
      "418:\tlearn: 0.1420152\ttotal: 412ms\tremaining: 572ms\n",
      "419:\tlearn: 0.1416023\ttotal: 413ms\tremaining: 570ms\n",
      "420:\tlearn: 0.1413531\ttotal: 414ms\tremaining: 569ms\n",
      "421:\tlearn: 0.1410744\ttotal: 415ms\tremaining: 568ms\n",
      "422:\tlearn: 0.1408642\ttotal: 415ms\tremaining: 567ms\n",
      "423:\tlearn: 0.1405649\ttotal: 416ms\tremaining: 565ms\n",
      "424:\tlearn: 0.1404211\ttotal: 417ms\tremaining: 564ms\n",
      "425:\tlearn: 0.1402391\ttotal: 418ms\tremaining: 563ms\n",
      "426:\tlearn: 0.1399711\ttotal: 419ms\tremaining: 562ms\n",
      "427:\tlearn: 0.1396671\ttotal: 420ms\tremaining: 561ms\n",
      "428:\tlearn: 0.1395675\ttotal: 420ms\tremaining: 560ms\n",
      "429:\tlearn: 0.1393670\ttotal: 421ms\tremaining: 558ms\n",
      "430:\tlearn: 0.1392485\ttotal: 422ms\tremaining: 557ms\n",
      "431:\tlearn: 0.1390514\ttotal: 423ms\tremaining: 556ms\n",
      "432:\tlearn: 0.1386145\ttotal: 424ms\tremaining: 555ms\n",
      "433:\tlearn: 0.1382146\ttotal: 424ms\tremaining: 554ms\n",
      "434:\tlearn: 0.1380432\ttotal: 425ms\tremaining: 552ms\n",
      "435:\tlearn: 0.1377468\ttotal: 426ms\tremaining: 551ms\n",
      "436:\tlearn: 0.1374193\ttotal: 427ms\tremaining: 550ms\n",
      "437:\tlearn: 0.1372319\ttotal: 428ms\tremaining: 549ms\n",
      "438:\tlearn: 0.1368944\ttotal: 428ms\tremaining: 547ms\n",
      "439:\tlearn: 0.1367705\ttotal: 429ms\tremaining: 546ms\n",
      "440:\tlearn: 0.1364662\ttotal: 430ms\tremaining: 545ms\n",
      "441:\tlearn: 0.1361658\ttotal: 431ms\tremaining: 544ms\n",
      "442:\tlearn: 0.1359398\ttotal: 433ms\tremaining: 544ms\n",
      "443:\tlearn: 0.1357220\ttotal: 433ms\tremaining: 543ms\n",
      "444:\tlearn: 0.1354644\ttotal: 434ms\tremaining: 542ms\n",
      "445:\tlearn: 0.1352561\ttotal: 435ms\tremaining: 540ms\n",
      "446:\tlearn: 0.1351609\ttotal: 436ms\tremaining: 539ms\n",
      "447:\tlearn: 0.1348827\ttotal: 437ms\tremaining: 538ms\n",
      "448:\tlearn: 0.1347487\ttotal: 438ms\tremaining: 537ms\n",
      "449:\tlearn: 0.1343057\ttotal: 438ms\tremaining: 536ms\n",
      "450:\tlearn: 0.1340827\ttotal: 439ms\tremaining: 535ms\n",
      "451:\tlearn: 0.1337691\ttotal: 440ms\tremaining: 533ms\n",
      "452:\tlearn: 0.1334600\ttotal: 441ms\tremaining: 532ms\n",
      "453:\tlearn: 0.1331402\ttotal: 442ms\tremaining: 531ms\n",
      "454:\tlearn: 0.1330076\ttotal: 442ms\tremaining: 530ms\n",
      "455:\tlearn: 0.1327931\ttotal: 443ms\tremaining: 529ms\n",
      "456:\tlearn: 0.1325354\ttotal: 444ms\tremaining: 528ms\n",
      "457:\tlearn: 0.1322455\ttotal: 445ms\tremaining: 526ms\n",
      "458:\tlearn: 0.1320874\ttotal: 446ms\tremaining: 525ms\n",
      "459:\tlearn: 0.1318377\ttotal: 447ms\tremaining: 524ms\n",
      "460:\tlearn: 0.1316363\ttotal: 447ms\tremaining: 523ms\n",
      "461:\tlearn: 0.1315333\ttotal: 448ms\tremaining: 522ms\n",
      "462:\tlearn: 0.1313163\ttotal: 449ms\tremaining: 521ms\n",
      "463:\tlearn: 0.1311415\ttotal: 450ms\tremaining: 519ms\n",
      "464:\tlearn: 0.1309230\ttotal: 450ms\tremaining: 518ms\n",
      "465:\tlearn: 0.1306925\ttotal: 451ms\tremaining: 517ms\n",
      "466:\tlearn: 0.1305172\ttotal: 452ms\tremaining: 516ms\n",
      "467:\tlearn: 0.1303378\ttotal: 453ms\tremaining: 515ms\n",
      "468:\tlearn: 0.1301954\ttotal: 454ms\tremaining: 514ms\n",
      "469:\tlearn: 0.1299312\ttotal: 455ms\tremaining: 513ms\n",
      "470:\tlearn: 0.1296355\ttotal: 455ms\tremaining: 512ms\n",
      "471:\tlearn: 0.1293580\ttotal: 456ms\tremaining: 511ms\n",
      "472:\tlearn: 0.1291224\ttotal: 457ms\tremaining: 509ms\n",
      "473:\tlearn: 0.1288615\ttotal: 458ms\tremaining: 508ms\n",
      "474:\tlearn: 0.1285858\ttotal: 459ms\tremaining: 507ms\n",
      "475:\tlearn: 0.1283377\ttotal: 459ms\tremaining: 506ms\n",
      "476:\tlearn: 0.1280562\ttotal: 460ms\tremaining: 505ms\n",
      "477:\tlearn: 0.1278457\ttotal: 461ms\tremaining: 503ms\n",
      "478:\tlearn: 0.1275845\ttotal: 462ms\tremaining: 502ms\n",
      "479:\tlearn: 0.1272621\ttotal: 463ms\tremaining: 501ms\n",
      "480:\tlearn: 0.1271640\ttotal: 463ms\tremaining: 500ms\n",
      "481:\tlearn: 0.1269193\ttotal: 464ms\tremaining: 499ms\n",
      "482:\tlearn: 0.1266910\ttotal: 465ms\tremaining: 498ms\n",
      "483:\tlearn: 0.1264889\ttotal: 466ms\tremaining: 497ms\n",
      "484:\tlearn: 0.1263277\ttotal: 467ms\tremaining: 496ms\n",
      "485:\tlearn: 0.1261317\ttotal: 468ms\tremaining: 494ms\n",
      "486:\tlearn: 0.1259233\ttotal: 469ms\tremaining: 494ms\n",
      "487:\tlearn: 0.1258439\ttotal: 470ms\tremaining: 493ms\n",
      "488:\tlearn: 0.1256880\ttotal: 471ms\tremaining: 492ms\n",
      "489:\tlearn: 0.1253992\ttotal: 472ms\tremaining: 491ms\n",
      "490:\tlearn: 0.1253058\ttotal: 473ms\tremaining: 490ms\n",
      "491:\tlearn: 0.1251434\ttotal: 473ms\tremaining: 489ms\n",
      "492:\tlearn: 0.1249542\ttotal: 474ms\tremaining: 488ms\n",
      "493:\tlearn: 0.1248710\ttotal: 475ms\tremaining: 486ms\n",
      "494:\tlearn: 0.1246441\ttotal: 476ms\tremaining: 485ms\n",
      "495:\tlearn: 0.1244460\ttotal: 477ms\tremaining: 484ms\n",
      "496:\tlearn: 0.1242004\ttotal: 477ms\tremaining: 483ms\n",
      "497:\tlearn: 0.1239666\ttotal: 478ms\tremaining: 482ms\n",
      "498:\tlearn: 0.1238469\ttotal: 479ms\tremaining: 481ms\n",
      "499:\tlearn: 0.1236996\ttotal: 480ms\tremaining: 480ms\n",
      "500:\tlearn: 0.1235807\ttotal: 481ms\tremaining: 479ms\n",
      "501:\tlearn: 0.1234819\ttotal: 481ms\tremaining: 478ms\n",
      "502:\tlearn: 0.1233211\ttotal: 482ms\tremaining: 477ms\n",
      "503:\tlearn: 0.1229958\ttotal: 483ms\tremaining: 475ms\n",
      "504:\tlearn: 0.1227850\ttotal: 484ms\tremaining: 474ms\n",
      "505:\tlearn: 0.1225576\ttotal: 485ms\tremaining: 473ms\n",
      "506:\tlearn: 0.1223514\ttotal: 485ms\tremaining: 472ms\n",
      "507:\tlearn: 0.1221422\ttotal: 486ms\tremaining: 471ms\n",
      "508:\tlearn: 0.1218439\ttotal: 487ms\tremaining: 470ms\n",
      "509:\tlearn: 0.1216206\ttotal: 488ms\tremaining: 469ms\n",
      "510:\tlearn: 0.1214074\ttotal: 489ms\tremaining: 468ms\n",
      "511:\tlearn: 0.1211833\ttotal: 489ms\tremaining: 466ms\n"
     ]
    },
    {
     "name": "stdout",
     "output_type": "stream",
     "text": [
      "512:\tlearn: 0.1209136\ttotal: 490ms\tremaining: 466ms\n",
      "513:\tlearn: 0.1206559\ttotal: 491ms\tremaining: 465ms\n",
      "514:\tlearn: 0.1204656\ttotal: 492ms\tremaining: 463ms\n",
      "515:\tlearn: 0.1202594\ttotal: 493ms\tremaining: 462ms\n",
      "516:\tlearn: 0.1199934\ttotal: 494ms\tremaining: 461ms\n",
      "517:\tlearn: 0.1198460\ttotal: 495ms\tremaining: 460ms\n",
      "518:\tlearn: 0.1196315\ttotal: 495ms\tremaining: 459ms\n",
      "519:\tlearn: 0.1195152\ttotal: 496ms\tremaining: 458ms\n",
      "520:\tlearn: 0.1192806\ttotal: 497ms\tremaining: 457ms\n",
      "521:\tlearn: 0.1188606\ttotal: 498ms\tremaining: 456ms\n",
      "522:\tlearn: 0.1187059\ttotal: 499ms\tremaining: 455ms\n",
      "523:\tlearn: 0.1184625\ttotal: 499ms\tremaining: 454ms\n",
      "524:\tlearn: 0.1184072\ttotal: 500ms\tremaining: 453ms\n",
      "525:\tlearn: 0.1182606\ttotal: 501ms\tremaining: 452ms\n",
      "526:\tlearn: 0.1181161\ttotal: 502ms\tremaining: 451ms\n",
      "527:\tlearn: 0.1179554\ttotal: 503ms\tremaining: 450ms\n",
      "528:\tlearn: 0.1177254\ttotal: 504ms\tremaining: 448ms\n",
      "529:\tlearn: 0.1176667\ttotal: 504ms\tremaining: 447ms\n",
      "530:\tlearn: 0.1174473\ttotal: 505ms\tremaining: 446ms\n",
      "531:\tlearn: 0.1173529\ttotal: 506ms\tremaining: 445ms\n",
      "532:\tlearn: 0.1171401\ttotal: 507ms\tremaining: 444ms\n",
      "533:\tlearn: 0.1169539\ttotal: 508ms\tremaining: 443ms\n",
      "534:\tlearn: 0.1168260\ttotal: 509ms\tremaining: 442ms\n",
      "535:\tlearn: 0.1165647\ttotal: 509ms\tremaining: 441ms\n",
      "536:\tlearn: 0.1165077\ttotal: 510ms\tremaining: 440ms\n",
      "537:\tlearn: 0.1162808\ttotal: 511ms\tremaining: 439ms\n",
      "538:\tlearn: 0.1161313\ttotal: 512ms\tremaining: 438ms\n",
      "539:\tlearn: 0.1157954\ttotal: 513ms\tremaining: 437ms\n",
      "540:\tlearn: 0.1154235\ttotal: 513ms\tremaining: 436ms\n",
      "541:\tlearn: 0.1151663\ttotal: 514ms\tremaining: 435ms\n",
      "542:\tlearn: 0.1149462\ttotal: 515ms\tremaining: 433ms\n",
      "543:\tlearn: 0.1148008\ttotal: 516ms\tremaining: 432ms\n",
      "544:\tlearn: 0.1145563\ttotal: 517ms\tremaining: 431ms\n",
      "545:\tlearn: 0.1144007\ttotal: 517ms\tremaining: 430ms\n",
      "546:\tlearn: 0.1142541\ttotal: 518ms\tremaining: 429ms\n",
      "547:\tlearn: 0.1140509\ttotal: 519ms\tremaining: 428ms\n",
      "548:\tlearn: 0.1139101\ttotal: 520ms\tremaining: 427ms\n",
      "549:\tlearn: 0.1137452\ttotal: 521ms\tremaining: 426ms\n",
      "550:\tlearn: 0.1136681\ttotal: 521ms\tremaining: 425ms\n",
      "551:\tlearn: 0.1135686\ttotal: 522ms\tremaining: 424ms\n",
      "552:\tlearn: 0.1133649\ttotal: 523ms\tremaining: 423ms\n",
      "553:\tlearn: 0.1130880\ttotal: 524ms\tremaining: 422ms\n",
      "554:\tlearn: 0.1129205\ttotal: 525ms\tremaining: 421ms\n",
      "555:\tlearn: 0.1127207\ttotal: 526ms\tremaining: 420ms\n",
      "556:\tlearn: 0.1125376\ttotal: 527ms\tremaining: 419ms\n",
      "557:\tlearn: 0.1123894\ttotal: 528ms\tremaining: 418ms\n",
      "558:\tlearn: 0.1122210\ttotal: 529ms\tremaining: 417ms\n",
      "559:\tlearn: 0.1120189\ttotal: 529ms\tremaining: 416ms\n",
      "560:\tlearn: 0.1118256\ttotal: 530ms\tremaining: 415ms\n",
      "561:\tlearn: 0.1116423\ttotal: 531ms\tremaining: 414ms\n",
      "562:\tlearn: 0.1114691\ttotal: 532ms\tremaining: 413ms\n",
      "563:\tlearn: 0.1113324\ttotal: 533ms\tremaining: 412ms\n",
      "564:\tlearn: 0.1111377\ttotal: 533ms\tremaining: 411ms\n",
      "565:\tlearn: 0.1108314\ttotal: 534ms\tremaining: 410ms\n",
      "566:\tlearn: 0.1106795\ttotal: 535ms\tremaining: 409ms\n",
      "567:\tlearn: 0.1104478\ttotal: 536ms\tremaining: 408ms\n",
      "568:\tlearn: 0.1103259\ttotal: 537ms\tremaining: 407ms\n",
      "569:\tlearn: 0.1102140\ttotal: 538ms\tremaining: 406ms\n",
      "570:\tlearn: 0.1101170\ttotal: 539ms\tremaining: 405ms\n",
      "571:\tlearn: 0.1099418\ttotal: 540ms\tremaining: 404ms\n",
      "572:\tlearn: 0.1098437\ttotal: 541ms\tremaining: 403ms\n",
      "573:\tlearn: 0.1097580\ttotal: 541ms\tremaining: 402ms\n",
      "574:\tlearn: 0.1096827\ttotal: 542ms\tremaining: 401ms\n",
      "575:\tlearn: 0.1095841\ttotal: 543ms\tremaining: 400ms\n",
      "576:\tlearn: 0.1093925\ttotal: 544ms\tremaining: 399ms\n",
      "577:\tlearn: 0.1092572\ttotal: 545ms\tremaining: 398ms\n",
      "578:\tlearn: 0.1089767\ttotal: 546ms\tremaining: 397ms\n",
      "579:\tlearn: 0.1088585\ttotal: 546ms\tremaining: 396ms\n",
      "580:\tlearn: 0.1086696\ttotal: 547ms\tremaining: 395ms\n",
      "581:\tlearn: 0.1085771\ttotal: 548ms\tremaining: 394ms\n",
      "582:\tlearn: 0.1083399\ttotal: 549ms\tremaining: 393ms\n",
      "583:\tlearn: 0.1080694\ttotal: 550ms\tremaining: 392ms\n",
      "584:\tlearn: 0.1078669\ttotal: 551ms\tremaining: 391ms\n",
      "585:\tlearn: 0.1077401\ttotal: 551ms\tremaining: 390ms\n",
      "586:\tlearn: 0.1075656\ttotal: 552ms\tremaining: 388ms\n",
      "587:\tlearn: 0.1073790\ttotal: 553ms\tremaining: 387ms\n",
      "588:\tlearn: 0.1072101\ttotal: 554ms\tremaining: 386ms\n",
      "589:\tlearn: 0.1070261\ttotal: 555ms\tremaining: 385ms\n",
      "590:\tlearn: 0.1069007\ttotal: 555ms\tremaining: 384ms\n",
      "591:\tlearn: 0.1068291\ttotal: 556ms\tremaining: 383ms\n",
      "592:\tlearn: 0.1066177\ttotal: 557ms\tremaining: 382ms\n",
      "593:\tlearn: 0.1065383\ttotal: 558ms\tremaining: 381ms\n",
      "594:\tlearn: 0.1063633\ttotal: 558ms\tremaining: 380ms\n",
      "595:\tlearn: 0.1060694\ttotal: 559ms\tremaining: 379ms\n",
      "596:\tlearn: 0.1058746\ttotal: 560ms\tremaining: 378ms\n",
      "597:\tlearn: 0.1057047\ttotal: 561ms\tremaining: 377ms\n",
      "598:\tlearn: 0.1055538\ttotal: 562ms\tremaining: 376ms\n",
      "599:\tlearn: 0.1053633\ttotal: 562ms\tremaining: 375ms\n",
      "600:\tlearn: 0.1052772\ttotal: 563ms\tremaining: 374ms\n",
      "601:\tlearn: 0.1050877\ttotal: 564ms\tremaining: 373ms\n",
      "602:\tlearn: 0.1049577\ttotal: 565ms\tremaining: 372ms\n",
      "603:\tlearn: 0.1048380\ttotal: 566ms\tremaining: 371ms\n",
      "604:\tlearn: 0.1047914\ttotal: 567ms\tremaining: 370ms\n",
      "605:\tlearn: 0.1046276\ttotal: 567ms\tremaining: 369ms\n",
      "606:\tlearn: 0.1045377\ttotal: 568ms\tremaining: 368ms\n",
      "607:\tlearn: 0.1043684\ttotal: 569ms\tremaining: 367ms\n",
      "608:\tlearn: 0.1042189\ttotal: 570ms\tremaining: 366ms\n",
      "609:\tlearn: 0.1041147\ttotal: 571ms\tremaining: 365ms\n",
      "610:\tlearn: 0.1040546\ttotal: 571ms\tremaining: 364ms\n",
      "611:\tlearn: 0.1039454\ttotal: 572ms\tremaining: 363ms\n"
     ]
    },
    {
     "name": "stdout",
     "output_type": "stream",
     "text": [
      "612:\tlearn: 0.1037721\ttotal: 573ms\tremaining: 362ms\n",
      "613:\tlearn: 0.1035753\ttotal: 574ms\tremaining: 361ms\n",
      "614:\tlearn: 0.1033933\ttotal: 575ms\tremaining: 360ms\n",
      "615:\tlearn: 0.1032264\ttotal: 576ms\tremaining: 359ms\n",
      "616:\tlearn: 0.1030666\ttotal: 576ms\tremaining: 358ms\n",
      "617:\tlearn: 0.1029435\ttotal: 577ms\tremaining: 357ms\n",
      "618:\tlearn: 0.1026205\ttotal: 578ms\tremaining: 356ms\n",
      "619:\tlearn: 0.1024245\ttotal: 579ms\tremaining: 355ms\n",
      "620:\tlearn: 0.1023386\ttotal: 580ms\tremaining: 354ms\n",
      "621:\tlearn: 0.1021616\ttotal: 581ms\tremaining: 353ms\n",
      "622:\tlearn: 0.1020934\ttotal: 582ms\tremaining: 352ms\n",
      "623:\tlearn: 0.1019397\ttotal: 582ms\tremaining: 351ms\n",
      "624:\tlearn: 0.1017589\ttotal: 583ms\tremaining: 350ms\n",
      "625:\tlearn: 0.1015144\ttotal: 584ms\tremaining: 349ms\n",
      "626:\tlearn: 0.1013756\ttotal: 585ms\tremaining: 348ms\n",
      "627:\tlearn: 0.1011918\ttotal: 586ms\tremaining: 347ms\n",
      "628:\tlearn: 0.1010830\ttotal: 587ms\tremaining: 346ms\n",
      "629:\tlearn: 0.1009539\ttotal: 587ms\tremaining: 345ms\n",
      "630:\tlearn: 0.1007907\ttotal: 588ms\tremaining: 344ms\n",
      "631:\tlearn: 0.1007349\ttotal: 589ms\tremaining: 343ms\n",
      "632:\tlearn: 0.1004026\ttotal: 590ms\tremaining: 342ms\n",
      "633:\tlearn: 0.1002054\ttotal: 591ms\tremaining: 341ms\n",
      "634:\tlearn: 0.0999140\ttotal: 591ms\tremaining: 340ms\n",
      "635:\tlearn: 0.0998151\ttotal: 592ms\tremaining: 339ms\n",
      "636:\tlearn: 0.0996550\ttotal: 593ms\tremaining: 338ms\n",
      "637:\tlearn: 0.0993729\ttotal: 594ms\tremaining: 337ms\n",
      "638:\tlearn: 0.0991517\ttotal: 595ms\tremaining: 336ms\n",
      "639:\tlearn: 0.0989842\ttotal: 596ms\tremaining: 335ms\n",
      "640:\tlearn: 0.0988001\ttotal: 596ms\tremaining: 334ms\n",
      "641:\tlearn: 0.0986366\ttotal: 597ms\tremaining: 333ms\n",
      "642:\tlearn: 0.0984811\ttotal: 598ms\tremaining: 332ms\n",
      "643:\tlearn: 0.0983590\ttotal: 599ms\tremaining: 331ms\n",
      "644:\tlearn: 0.0981961\ttotal: 600ms\tremaining: 330ms\n",
      "645:\tlearn: 0.0980269\ttotal: 600ms\tremaining: 329ms\n",
      "646:\tlearn: 0.0978800\ttotal: 601ms\tremaining: 328ms\n",
      "647:\tlearn: 0.0977157\ttotal: 602ms\tremaining: 327ms\n",
      "648:\tlearn: 0.0975083\ttotal: 603ms\tremaining: 326ms\n",
      "649:\tlearn: 0.0973665\ttotal: 604ms\tremaining: 325ms\n",
      "650:\tlearn: 0.0971776\ttotal: 604ms\tremaining: 324ms\n",
      "651:\tlearn: 0.0970271\ttotal: 605ms\tremaining: 323ms\n",
      "652:\tlearn: 0.0967707\ttotal: 606ms\tremaining: 322ms\n",
      "653:\tlearn: 0.0965208\ttotal: 607ms\tremaining: 321ms\n",
      "654:\tlearn: 0.0963139\ttotal: 608ms\tremaining: 320ms\n",
      "655:\tlearn: 0.0961300\ttotal: 609ms\tremaining: 319ms\n",
      "656:\tlearn: 0.0960719\ttotal: 610ms\tremaining: 318ms\n",
      "657:\tlearn: 0.0959496\ttotal: 610ms\tremaining: 317ms\n",
      "658:\tlearn: 0.0958861\ttotal: 611ms\tremaining: 316ms\n",
      "659:\tlearn: 0.0957787\ttotal: 612ms\tremaining: 315ms\n",
      "660:\tlearn: 0.0956165\ttotal: 613ms\tremaining: 314ms\n",
      "661:\tlearn: 0.0953902\ttotal: 614ms\tremaining: 313ms\n",
      "662:\tlearn: 0.0951822\ttotal: 615ms\tremaining: 312ms\n",
      "663:\tlearn: 0.0950617\ttotal: 615ms\tremaining: 311ms\n",
      "664:\tlearn: 0.0949884\ttotal: 616ms\tremaining: 310ms\n",
      "665:\tlearn: 0.0948499\ttotal: 617ms\tremaining: 309ms\n",
      "666:\tlearn: 0.0947461\ttotal: 618ms\tremaining: 309ms\n",
      "667:\tlearn: 0.0946022\ttotal: 619ms\tremaining: 308ms\n",
      "668:\tlearn: 0.0945800\ttotal: 620ms\tremaining: 307ms\n",
      "669:\tlearn: 0.0943355\ttotal: 620ms\tremaining: 306ms\n",
      "670:\tlearn: 0.0941739\ttotal: 621ms\tremaining: 305ms\n",
      "671:\tlearn: 0.0940065\ttotal: 622ms\tremaining: 304ms\n",
      "672:\tlearn: 0.0937594\ttotal: 623ms\tremaining: 303ms\n",
      "673:\tlearn: 0.0935694\ttotal: 624ms\tremaining: 302ms\n",
      "674:\tlearn: 0.0934233\ttotal: 625ms\tremaining: 301ms\n",
      "675:\tlearn: 0.0932645\ttotal: 625ms\tremaining: 300ms\n",
      "676:\tlearn: 0.0930501\ttotal: 626ms\tremaining: 299ms\n",
      "677:\tlearn: 0.0929018\ttotal: 627ms\tremaining: 298ms\n",
      "678:\tlearn: 0.0927422\ttotal: 628ms\tremaining: 297ms\n",
      "679:\tlearn: 0.0925895\ttotal: 629ms\tremaining: 296ms\n",
      "680:\tlearn: 0.0925664\ttotal: 629ms\tremaining: 295ms\n",
      "681:\tlearn: 0.0925123\ttotal: 630ms\tremaining: 294ms\n",
      "682:\tlearn: 0.0924412\ttotal: 631ms\tremaining: 293ms\n",
      "683:\tlearn: 0.0922870\ttotal: 632ms\tremaining: 292ms\n",
      "684:\tlearn: 0.0922445\ttotal: 633ms\tremaining: 291ms\n",
      "685:\tlearn: 0.0921920\ttotal: 633ms\tremaining: 290ms\n",
      "686:\tlearn: 0.0920815\ttotal: 634ms\tremaining: 289ms\n",
      "687:\tlearn: 0.0918514\ttotal: 635ms\tremaining: 288ms\n",
      "688:\tlearn: 0.0917888\ttotal: 636ms\tremaining: 287ms\n",
      "689:\tlearn: 0.0915909\ttotal: 636ms\tremaining: 286ms\n",
      "690:\tlearn: 0.0914470\ttotal: 637ms\tremaining: 285ms\n",
      "691:\tlearn: 0.0912324\ttotal: 638ms\tremaining: 284ms\n",
      "692:\tlearn: 0.0911282\ttotal: 639ms\tremaining: 283ms\n",
      "693:\tlearn: 0.0908992\ttotal: 640ms\tremaining: 282ms\n",
      "694:\tlearn: 0.0907608\ttotal: 641ms\tremaining: 281ms\n",
      "695:\tlearn: 0.0906071\ttotal: 642ms\tremaining: 280ms\n",
      "696:\tlearn: 0.0905412\ttotal: 643ms\tremaining: 279ms\n",
      "697:\tlearn: 0.0904747\ttotal: 644ms\tremaining: 278ms\n",
      "698:\tlearn: 0.0903817\ttotal: 644ms\tremaining: 277ms\n",
      "699:\tlearn: 0.0903380\ttotal: 645ms\tremaining: 276ms\n",
      "700:\tlearn: 0.0902144\ttotal: 646ms\tremaining: 276ms\n",
      "701:\tlearn: 0.0900359\ttotal: 647ms\tremaining: 275ms\n",
      "702:\tlearn: 0.0899060\ttotal: 648ms\tremaining: 274ms\n",
      "703:\tlearn: 0.0896728\ttotal: 649ms\tremaining: 273ms\n",
      "704:\tlearn: 0.0896386\ttotal: 649ms\tremaining: 272ms\n",
      "705:\tlearn: 0.0895061\ttotal: 650ms\tremaining: 271ms\n",
      "706:\tlearn: 0.0893967\ttotal: 651ms\tremaining: 270ms\n",
      "707:\tlearn: 0.0892349\ttotal: 652ms\tremaining: 269ms\n",
      "708:\tlearn: 0.0892090\ttotal: 653ms\tremaining: 268ms\n",
      "709:\tlearn: 0.0891253\ttotal: 654ms\tremaining: 267ms\n",
      "710:\tlearn: 0.0891046\ttotal: 655ms\tremaining: 266ms\n",
      "711:\tlearn: 0.0890004\ttotal: 655ms\tremaining: 265ms\n",
      "712:\tlearn: 0.0888831\ttotal: 656ms\tremaining: 264ms\n",
      "713:\tlearn: 0.0886583\ttotal: 657ms\tremaining: 263ms\n",
      "714:\tlearn: 0.0884964\ttotal: 658ms\tremaining: 262ms\n",
      "715:\tlearn: 0.0883570\ttotal: 659ms\tremaining: 261ms\n",
      "716:\tlearn: 0.0883285\ttotal: 660ms\tremaining: 260ms\n",
      "717:\tlearn: 0.0881230\ttotal: 661ms\tremaining: 260ms\n",
      "718:\tlearn: 0.0879546\ttotal: 661ms\tremaining: 259ms\n",
      "719:\tlearn: 0.0878095\ttotal: 662ms\tremaining: 258ms\n",
      "720:\tlearn: 0.0876945\ttotal: 663ms\tremaining: 257ms\n",
      "721:\tlearn: 0.0874819\ttotal: 664ms\tremaining: 256ms\n",
      "722:\tlearn: 0.0873780\ttotal: 665ms\tremaining: 255ms\n",
      "723:\tlearn: 0.0872962\ttotal: 665ms\tremaining: 254ms\n",
      "724:\tlearn: 0.0871591\ttotal: 666ms\tremaining: 253ms\n",
      "725:\tlearn: 0.0870381\ttotal: 667ms\tremaining: 252ms\n",
      "726:\tlearn: 0.0869120\ttotal: 668ms\tremaining: 251ms\n",
      "727:\tlearn: 0.0867681\ttotal: 669ms\tremaining: 250ms\n",
      "728:\tlearn: 0.0865552\ttotal: 670ms\tremaining: 249ms\n",
      "729:\tlearn: 0.0865051\ttotal: 671ms\tremaining: 248ms\n",
      "730:\tlearn: 0.0863936\ttotal: 672ms\tremaining: 247ms\n",
      "731:\tlearn: 0.0862943\ttotal: 672ms\tremaining: 246ms\n",
      "732:\tlearn: 0.0862766\ttotal: 673ms\tremaining: 245ms\n",
      "733:\tlearn: 0.0861236\ttotal: 674ms\tremaining: 244ms\n",
      "734:\tlearn: 0.0860521\ttotal: 675ms\tremaining: 243ms\n",
      "735:\tlearn: 0.0858648\ttotal: 676ms\tremaining: 242ms\n",
      "736:\tlearn: 0.0857598\ttotal: 677ms\tremaining: 241ms\n",
      "737:\tlearn: 0.0856806\ttotal: 678ms\tremaining: 241ms\n",
      "738:\tlearn: 0.0854740\ttotal: 678ms\tremaining: 240ms\n",
      "739:\tlearn: 0.0854300\ttotal: 679ms\tremaining: 239ms\n"
     ]
    },
    {
     "name": "stdout",
     "output_type": "stream",
     "text": [
      "740:\tlearn: 0.0853163\ttotal: 680ms\tremaining: 238ms\n",
      "741:\tlearn: 0.0852904\ttotal: 681ms\tremaining: 237ms\n",
      "742:\tlearn: 0.0851770\ttotal: 682ms\tremaining: 236ms\n",
      "743:\tlearn: 0.0850538\ttotal: 683ms\tremaining: 235ms\n",
      "744:\tlearn: 0.0849548\ttotal: 684ms\tremaining: 234ms\n",
      "745:\tlearn: 0.0847786\ttotal: 684ms\tremaining: 233ms\n",
      "746:\tlearn: 0.0847329\ttotal: 685ms\tremaining: 232ms\n",
      "747:\tlearn: 0.0845433\ttotal: 686ms\tremaining: 231ms\n",
      "748:\tlearn: 0.0844317\ttotal: 687ms\tremaining: 230ms\n",
      "749:\tlearn: 0.0842282\ttotal: 688ms\tremaining: 229ms\n",
      "750:\tlearn: 0.0841365\ttotal: 688ms\tremaining: 228ms\n",
      "751:\tlearn: 0.0840914\ttotal: 689ms\tremaining: 227ms\n",
      "752:\tlearn: 0.0839231\ttotal: 690ms\tremaining: 226ms\n",
      "753:\tlearn: 0.0838101\ttotal: 691ms\tremaining: 225ms\n",
      "754:\tlearn: 0.0836537\ttotal: 692ms\tremaining: 224ms\n",
      "755:\tlearn: 0.0834988\ttotal: 693ms\tremaining: 224ms\n",
      "756:\tlearn: 0.0834292\ttotal: 694ms\tremaining: 223ms\n",
      "757:\tlearn: 0.0832826\ttotal: 694ms\tremaining: 222ms\n",
      "758:\tlearn: 0.0831668\ttotal: 695ms\tremaining: 221ms\n",
      "759:\tlearn: 0.0830289\ttotal: 696ms\tremaining: 220ms\n",
      "760:\tlearn: 0.0829321\ttotal: 697ms\tremaining: 219ms\n",
      "761:\tlearn: 0.0828296\ttotal: 697ms\tremaining: 218ms\n",
      "762:\tlearn: 0.0827045\ttotal: 698ms\tremaining: 217ms\n",
      "763:\tlearn: 0.0826189\ttotal: 699ms\tremaining: 216ms\n",
      "764:\tlearn: 0.0825475\ttotal: 700ms\tremaining: 215ms\n",
      "765:\tlearn: 0.0823930\ttotal: 701ms\tremaining: 214ms\n",
      "766:\tlearn: 0.0823047\ttotal: 701ms\tremaining: 213ms\n",
      "767:\tlearn: 0.0821715\ttotal: 702ms\tremaining: 212ms\n",
      "768:\tlearn: 0.0820334\ttotal: 703ms\tremaining: 211ms\n",
      "769:\tlearn: 0.0819940\ttotal: 704ms\tremaining: 210ms\n",
      "770:\tlearn: 0.0818982\ttotal: 705ms\tremaining: 209ms\n",
      "771:\tlearn: 0.0817810\ttotal: 706ms\tremaining: 208ms\n",
      "772:\tlearn: 0.0816795\ttotal: 706ms\tremaining: 207ms\n",
      "773:\tlearn: 0.0815802\ttotal: 707ms\tremaining: 207ms\n",
      "774:\tlearn: 0.0815541\ttotal: 708ms\tremaining: 206ms\n",
      "775:\tlearn: 0.0813839\ttotal: 709ms\tremaining: 205ms\n",
      "776:\tlearn: 0.0812424\ttotal: 710ms\tremaining: 204ms\n",
      "777:\tlearn: 0.0811490\ttotal: 711ms\tremaining: 203ms\n",
      "778:\tlearn: 0.0810355\ttotal: 711ms\tremaining: 202ms\n",
      "779:\tlearn: 0.0809528\ttotal: 712ms\tremaining: 201ms\n",
      "780:\tlearn: 0.0808501\ttotal: 713ms\tremaining: 200ms\n",
      "781:\tlearn: 0.0806576\ttotal: 714ms\tremaining: 199ms\n",
      "782:\tlearn: 0.0806150\ttotal: 715ms\tremaining: 198ms\n",
      "783:\tlearn: 0.0805860\ttotal: 716ms\tremaining: 197ms\n",
      "784:\tlearn: 0.0804886\ttotal: 716ms\tremaining: 196ms\n",
      "785:\tlearn: 0.0803709\ttotal: 717ms\tremaining: 195ms\n",
      "786:\tlearn: 0.0801778\ttotal: 718ms\tremaining: 194ms\n",
      "787:\tlearn: 0.0800731\ttotal: 719ms\tremaining: 193ms\n",
      "788:\tlearn: 0.0799388\ttotal: 720ms\tremaining: 192ms\n",
      "789:\tlearn: 0.0798004\ttotal: 721ms\tremaining: 192ms\n",
      "790:\tlearn: 0.0796399\ttotal: 721ms\tremaining: 191ms\n",
      "791:\tlearn: 0.0795036\ttotal: 722ms\tremaining: 190ms\n",
      "792:\tlearn: 0.0794638\ttotal: 723ms\tremaining: 189ms\n",
      "793:\tlearn: 0.0794402\ttotal: 724ms\tremaining: 188ms\n",
      "794:\tlearn: 0.0793144\ttotal: 725ms\tremaining: 187ms\n",
      "795:\tlearn: 0.0792497\ttotal: 725ms\tremaining: 186ms\n",
      "796:\tlearn: 0.0791238\ttotal: 726ms\tremaining: 185ms\n",
      "797:\tlearn: 0.0789690\ttotal: 727ms\tremaining: 184ms\n",
      "798:\tlearn: 0.0789315\ttotal: 728ms\tremaining: 183ms\n",
      "799:\tlearn: 0.0788494\ttotal: 729ms\tremaining: 182ms\n",
      "800:\tlearn: 0.0787476\ttotal: 730ms\tremaining: 181ms\n",
      "801:\tlearn: 0.0787042\ttotal: 731ms\tremaining: 180ms\n",
      "802:\tlearn: 0.0786044\ttotal: 732ms\tremaining: 179ms\n",
      "803:\tlearn: 0.0785260\ttotal: 732ms\tremaining: 179ms\n",
      "804:\tlearn: 0.0783773\ttotal: 733ms\tremaining: 178ms\n",
      "805:\tlearn: 0.0781528\ttotal: 734ms\tremaining: 177ms\n",
      "806:\tlearn: 0.0779653\ttotal: 735ms\tremaining: 176ms\n",
      "807:\tlearn: 0.0778274\ttotal: 736ms\tremaining: 175ms\n",
      "808:\tlearn: 0.0776470\ttotal: 737ms\tremaining: 174ms\n",
      "809:\tlearn: 0.0775818\ttotal: 738ms\tremaining: 173ms\n",
      "810:\tlearn: 0.0775484\ttotal: 739ms\tremaining: 172ms\n",
      "811:\tlearn: 0.0775078\ttotal: 740ms\tremaining: 171ms\n",
      "812:\tlearn: 0.0773752\ttotal: 740ms\tremaining: 170ms\n",
      "813:\tlearn: 0.0772598\ttotal: 741ms\tremaining: 169ms\n",
      "814:\tlearn: 0.0771192\ttotal: 742ms\tremaining: 168ms\n",
      "815:\tlearn: 0.0770011\ttotal: 743ms\tremaining: 167ms\n",
      "816:\tlearn: 0.0768966\ttotal: 744ms\tremaining: 167ms\n",
      "817:\tlearn: 0.0768610\ttotal: 744ms\tremaining: 166ms\n",
      "818:\tlearn: 0.0767029\ttotal: 745ms\tremaining: 165ms\n",
      "819:\tlearn: 0.0766780\ttotal: 746ms\tremaining: 164ms\n",
      "820:\tlearn: 0.0765247\ttotal: 747ms\tremaining: 163ms\n",
      "821:\tlearn: 0.0764265\ttotal: 748ms\tremaining: 162ms\n",
      "822:\tlearn: 0.0763244\ttotal: 748ms\tremaining: 161ms\n",
      "823:\tlearn: 0.0761791\ttotal: 749ms\tremaining: 160ms\n",
      "824:\tlearn: 0.0761402\ttotal: 750ms\tremaining: 159ms\n",
      "825:\tlearn: 0.0760032\ttotal: 751ms\tremaining: 158ms\n",
      "826:\tlearn: 0.0758134\ttotal: 752ms\tremaining: 157ms\n",
      "827:\tlearn: 0.0757528\ttotal: 752ms\tremaining: 156ms\n",
      "828:\tlearn: 0.0756372\ttotal: 753ms\tremaining: 155ms\n",
      "829:\tlearn: 0.0755356\ttotal: 754ms\tremaining: 154ms\n",
      "830:\tlearn: 0.0754586\ttotal: 755ms\tremaining: 154ms\n",
      "831:\tlearn: 0.0753834\ttotal: 756ms\tremaining: 153ms\n",
      "832:\tlearn: 0.0752567\ttotal: 756ms\tremaining: 152ms\n",
      "833:\tlearn: 0.0750953\ttotal: 757ms\tremaining: 151ms\n",
      "834:\tlearn: 0.0749517\ttotal: 758ms\tremaining: 150ms\n",
      "835:\tlearn: 0.0748486\ttotal: 759ms\tremaining: 149ms\n",
      "836:\tlearn: 0.0747365\ttotal: 760ms\tremaining: 148ms\n",
      "837:\tlearn: 0.0746235\ttotal: 761ms\tremaining: 147ms\n",
      "838:\tlearn: 0.0745471\ttotal: 761ms\tremaining: 146ms\n",
      "839:\tlearn: 0.0744897\ttotal: 762ms\tremaining: 145ms\n"
     ]
    },
    {
     "name": "stdout",
     "output_type": "stream",
     "text": [
      "840:\tlearn: 0.0744098\ttotal: 763ms\tremaining: 144ms\n",
      "841:\tlearn: 0.0742657\ttotal: 764ms\tremaining: 143ms\n",
      "842:\tlearn: 0.0740651\ttotal: 765ms\tremaining: 142ms\n",
      "843:\tlearn: 0.0739938\ttotal: 766ms\tremaining: 142ms\n",
      "844:\tlearn: 0.0738847\ttotal: 767ms\tremaining: 141ms\n",
      "845:\tlearn: 0.0737735\ttotal: 768ms\tremaining: 140ms\n",
      "846:\tlearn: 0.0737109\ttotal: 769ms\tremaining: 139ms\n",
      "847:\tlearn: 0.0736658\ttotal: 769ms\tremaining: 138ms\n",
      "848:\tlearn: 0.0736236\ttotal: 770ms\tremaining: 137ms\n",
      "849:\tlearn: 0.0734597\ttotal: 771ms\tremaining: 136ms\n",
      "850:\tlearn: 0.0734177\ttotal: 772ms\tremaining: 135ms\n",
      "851:\tlearn: 0.0732363\ttotal: 773ms\tremaining: 134ms\n",
      "852:\tlearn: 0.0731531\ttotal: 774ms\tremaining: 133ms\n",
      "853:\tlearn: 0.0731179\ttotal: 775ms\tremaining: 132ms\n",
      "854:\tlearn: 0.0729841\ttotal: 775ms\tremaining: 131ms\n",
      "855:\tlearn: 0.0728380\ttotal: 776ms\tremaining: 131ms\n",
      "856:\tlearn: 0.0728025\ttotal: 777ms\tremaining: 130ms\n",
      "857:\tlearn: 0.0726399\ttotal: 778ms\tremaining: 129ms\n",
      "858:\tlearn: 0.0725673\ttotal: 779ms\tremaining: 128ms\n",
      "859:\tlearn: 0.0725057\ttotal: 780ms\tremaining: 127ms\n",
      "860:\tlearn: 0.0724602\ttotal: 781ms\tremaining: 126ms\n",
      "861:\tlearn: 0.0724149\ttotal: 781ms\tremaining: 125ms\n",
      "862:\tlearn: 0.0723212\ttotal: 782ms\tremaining: 124ms\n",
      "863:\tlearn: 0.0723110\ttotal: 783ms\tremaining: 123ms\n",
      "864:\tlearn: 0.0721977\ttotal: 784ms\tremaining: 122ms\n",
      "865:\tlearn: 0.0721583\ttotal: 785ms\tremaining: 121ms\n",
      "866:\tlearn: 0.0720890\ttotal: 785ms\tremaining: 120ms\n",
      "867:\tlearn: 0.0719275\ttotal: 786ms\tremaining: 120ms\n",
      "868:\tlearn: 0.0718071\ttotal: 787ms\tremaining: 119ms\n",
      "869:\tlearn: 0.0716702\ttotal: 788ms\tremaining: 118ms\n",
      "870:\tlearn: 0.0715439\ttotal: 789ms\tremaining: 117ms\n",
      "871:\tlearn: 0.0715308\ttotal: 790ms\tremaining: 116ms\n",
      "872:\tlearn: 0.0715099\ttotal: 790ms\tremaining: 115ms\n",
      "873:\tlearn: 0.0714376\ttotal: 791ms\tremaining: 114ms\n",
      "874:\tlearn: 0.0713360\ttotal: 792ms\tremaining: 113ms\n",
      "875:\tlearn: 0.0713166\ttotal: 793ms\tremaining: 112ms\n",
      "876:\tlearn: 0.0712746\ttotal: 794ms\tremaining: 111ms\n",
      "877:\tlearn: 0.0712402\ttotal: 795ms\tremaining: 110ms\n",
      "878:\tlearn: 0.0712000\ttotal: 795ms\tremaining: 109ms\n",
      "879:\tlearn: 0.0710326\ttotal: 796ms\tremaining: 109ms\n",
      "880:\tlearn: 0.0709879\ttotal: 797ms\tremaining: 108ms\n",
      "881:\tlearn: 0.0709550\ttotal: 798ms\tremaining: 107ms\n",
      "882:\tlearn: 0.0709252\ttotal: 798ms\tremaining: 106ms\n",
      "883:\tlearn: 0.0708625\ttotal: 799ms\tremaining: 105ms\n",
      "884:\tlearn: 0.0707161\ttotal: 800ms\tremaining: 104ms\n",
      "885:\tlearn: 0.0706064\ttotal: 801ms\tremaining: 103ms\n",
      "886:\tlearn: 0.0705805\ttotal: 802ms\tremaining: 102ms\n",
      "887:\tlearn: 0.0705287\ttotal: 803ms\tremaining: 101ms\n",
      "888:\tlearn: 0.0704318\ttotal: 804ms\tremaining: 100ms\n",
      "889:\tlearn: 0.0703835\ttotal: 804ms\tremaining: 99.4ms\n",
      "890:\tlearn: 0.0703071\ttotal: 805ms\tremaining: 98.5ms\n",
      "891:\tlearn: 0.0702246\ttotal: 806ms\tremaining: 97.5ms\n",
      "892:\tlearn: 0.0701874\ttotal: 806ms\tremaining: 96.6ms\n",
      "893:\tlearn: 0.0700787\ttotal: 807ms\tremaining: 95.7ms\n",
      "894:\tlearn: 0.0700032\ttotal: 808ms\tremaining: 94.8ms\n",
      "895:\tlearn: 0.0699286\ttotal: 809ms\tremaining: 93.9ms\n",
      "896:\tlearn: 0.0697786\ttotal: 810ms\tremaining: 93ms\n",
      "897:\tlearn: 0.0697163\ttotal: 810ms\tremaining: 92.1ms\n",
      "898:\tlearn: 0.0696958\ttotal: 811ms\tremaining: 91.1ms\n",
      "899:\tlearn: 0.0696011\ttotal: 812ms\tremaining: 90.2ms\n",
      "900:\tlearn: 0.0695282\ttotal: 813ms\tremaining: 89.3ms\n",
      "901:\tlearn: 0.0693705\ttotal: 814ms\tremaining: 88.4ms\n",
      "902:\tlearn: 0.0692430\ttotal: 815ms\tremaining: 87.5ms\n",
      "903:\tlearn: 0.0691384\ttotal: 816ms\tremaining: 86.6ms\n",
      "904:\tlearn: 0.0690866\ttotal: 817ms\tremaining: 85.7ms\n",
      "905:\tlearn: 0.0689590\ttotal: 817ms\tremaining: 84.8ms\n",
      "906:\tlearn: 0.0688985\ttotal: 818ms\tremaining: 83.9ms\n",
      "907:\tlearn: 0.0688488\ttotal: 819ms\tremaining: 83ms\n",
      "908:\tlearn: 0.0687987\ttotal: 820ms\tremaining: 82.1ms\n",
      "909:\tlearn: 0.0687624\ttotal: 821ms\tremaining: 81.2ms\n",
      "910:\tlearn: 0.0686267\ttotal: 822ms\tremaining: 80.3ms\n",
      "911:\tlearn: 0.0685607\ttotal: 822ms\tremaining: 79.4ms\n",
      "912:\tlearn: 0.0684603\ttotal: 823ms\tremaining: 78.4ms\n",
      "913:\tlearn: 0.0683345\ttotal: 824ms\tremaining: 77.5ms\n",
      "914:\tlearn: 0.0682628\ttotal: 825ms\tremaining: 76.6ms\n",
      "915:\tlearn: 0.0681920\ttotal: 826ms\tremaining: 75.7ms\n",
      "916:\tlearn: 0.0681187\ttotal: 826ms\tremaining: 74.8ms\n",
      "917:\tlearn: 0.0681108\ttotal: 827ms\tremaining: 73.9ms\n",
      "918:\tlearn: 0.0679780\ttotal: 828ms\tremaining: 73ms\n",
      "919:\tlearn: 0.0678762\ttotal: 829ms\tremaining: 72.1ms\n",
      "920:\tlearn: 0.0677586\ttotal: 830ms\tremaining: 71.2ms\n",
      "921:\tlearn: 0.0677067\ttotal: 831ms\tremaining: 70.3ms\n",
      "922:\tlearn: 0.0676376\ttotal: 832ms\tremaining: 69.4ms\n",
      "923:\tlearn: 0.0675286\ttotal: 832ms\tremaining: 68.5ms\n",
      "924:\tlearn: 0.0674415\ttotal: 833ms\tremaining: 67.6ms\n",
      "925:\tlearn: 0.0673316\ttotal: 834ms\tremaining: 66.7ms\n",
      "926:\tlearn: 0.0672695\ttotal: 835ms\tremaining: 65.7ms\n",
      "927:\tlearn: 0.0671771\ttotal: 836ms\tremaining: 64.9ms\n",
      "928:\tlearn: 0.0671023\ttotal: 837ms\tremaining: 64ms\n",
      "929:\tlearn: 0.0670548\ttotal: 838ms\tremaining: 63.1ms\n",
      "930:\tlearn: 0.0670182\ttotal: 839ms\tremaining: 62.2ms\n",
      "931:\tlearn: 0.0669069\ttotal: 840ms\tremaining: 61.3ms\n",
      "932:\tlearn: 0.0667963\ttotal: 840ms\tremaining: 60.3ms\n",
      "933:\tlearn: 0.0666490\ttotal: 841ms\tremaining: 59.5ms\n",
      "934:\tlearn: 0.0666251\ttotal: 842ms\tremaining: 58.6ms\n",
      "935:\tlearn: 0.0664676\ttotal: 843ms\tremaining: 57.7ms\n",
      "936:\tlearn: 0.0663038\ttotal: 844ms\tremaining: 56.8ms\n",
      "937:\tlearn: 0.0662348\ttotal: 845ms\tremaining: 55.8ms\n",
      "938:\tlearn: 0.0661989\ttotal: 846ms\tremaining: 54.9ms\n",
      "939:\tlearn: 0.0661268\ttotal: 846ms\tremaining: 54ms\n",
      "940:\tlearn: 0.0660917\ttotal: 847ms\tremaining: 53.1ms\n",
      "941:\tlearn: 0.0659538\ttotal: 848ms\tremaining: 52.2ms\n",
      "942:\tlearn: 0.0658946\ttotal: 849ms\tremaining: 51.3ms\n",
      "943:\tlearn: 0.0658604\ttotal: 850ms\tremaining: 50.4ms\n",
      "944:\tlearn: 0.0657949\ttotal: 851ms\tremaining: 49.5ms\n",
      "945:\tlearn: 0.0656578\ttotal: 851ms\tremaining: 48.6ms\n",
      "946:\tlearn: 0.0655796\ttotal: 852ms\tremaining: 47.7ms\n",
      "947:\tlearn: 0.0654626\ttotal: 853ms\tremaining: 46.8ms\n",
      "948:\tlearn: 0.0654351\ttotal: 854ms\tremaining: 45.9ms\n",
      "949:\tlearn: 0.0653364\ttotal: 855ms\tremaining: 45ms\n",
      "950:\tlearn: 0.0652329\ttotal: 856ms\tremaining: 44.1ms\n",
      "951:\tlearn: 0.0651449\ttotal: 856ms\tremaining: 43.2ms\n",
      "952:\tlearn: 0.0650824\ttotal: 857ms\tremaining: 42.3ms\n",
      "953:\tlearn: 0.0650181\ttotal: 858ms\tremaining: 41.4ms\n",
      "954:\tlearn: 0.0649484\ttotal: 859ms\tremaining: 40.5ms\n",
      "955:\tlearn: 0.0648861\ttotal: 859ms\tremaining: 39.6ms\n",
      "956:\tlearn: 0.0647762\ttotal: 860ms\tremaining: 38.7ms\n",
      "957:\tlearn: 0.0647492\ttotal: 861ms\tremaining: 37.8ms\n",
      "958:\tlearn: 0.0646589\ttotal: 862ms\tremaining: 36.8ms\n",
      "959:\tlearn: 0.0646401\ttotal: 863ms\tremaining: 35.9ms\n",
      "960:\tlearn: 0.0646316\ttotal: 864ms\tremaining: 35ms\n",
      "961:\tlearn: 0.0645452\ttotal: 864ms\tremaining: 34.1ms\n",
      "962:\tlearn: 0.0644728\ttotal: 865ms\tremaining: 33.2ms\n",
      "963:\tlearn: 0.0643705\ttotal: 866ms\tremaining: 32.3ms\n",
      "964:\tlearn: 0.0643450\ttotal: 867ms\tremaining: 31.4ms\n",
      "965:\tlearn: 0.0642190\ttotal: 867ms\tremaining: 30.5ms\n",
      "966:\tlearn: 0.0640802\ttotal: 868ms\tremaining: 29.6ms\n",
      "967:\tlearn: 0.0639614\ttotal: 869ms\tremaining: 28.7ms\n",
      "968:\tlearn: 0.0638960\ttotal: 870ms\tremaining: 27.8ms\n"
     ]
    },
    {
     "name": "stdout",
     "output_type": "stream",
     "text": [
      "969:\tlearn: 0.0638265\ttotal: 871ms\tremaining: 26.9ms\n",
      "970:\tlearn: 0.0637977\ttotal: 872ms\tremaining: 26ms\n",
      "971:\tlearn: 0.0637309\ttotal: 872ms\tremaining: 25.1ms\n",
      "972:\tlearn: 0.0636463\ttotal: 873ms\tremaining: 24.2ms\n",
      "973:\tlearn: 0.0635486\ttotal: 874ms\tremaining: 23.3ms\n",
      "974:\tlearn: 0.0634693\ttotal: 875ms\tremaining: 22.4ms\n",
      "975:\tlearn: 0.0633468\ttotal: 875ms\tremaining: 21.5ms\n",
      "976:\tlearn: 0.0632171\ttotal: 876ms\tremaining: 20.6ms\n",
      "977:\tlearn: 0.0631046\ttotal: 878ms\tremaining: 19.7ms\n",
      "978:\tlearn: 0.0630786\ttotal: 879ms\tremaining: 18.8ms\n",
      "979:\tlearn: 0.0630315\ttotal: 879ms\tremaining: 17.9ms\n",
      "980:\tlearn: 0.0629484\ttotal: 880ms\tremaining: 17ms\n",
      "981:\tlearn: 0.0628843\ttotal: 881ms\tremaining: 16.1ms\n",
      "982:\tlearn: 0.0627672\ttotal: 882ms\tremaining: 15.2ms\n",
      "983:\tlearn: 0.0627127\ttotal: 883ms\tremaining: 14.4ms\n",
      "984:\tlearn: 0.0625608\ttotal: 883ms\tremaining: 13.5ms\n",
      "985:\tlearn: 0.0624730\ttotal: 884ms\tremaining: 12.6ms\n",
      "986:\tlearn: 0.0624275\ttotal: 885ms\tremaining: 11.7ms\n",
      "987:\tlearn: 0.0624117\ttotal: 886ms\tremaining: 10.8ms\n",
      "988:\tlearn: 0.0623151\ttotal: 887ms\tremaining: 9.86ms\n",
      "989:\tlearn: 0.0622261\ttotal: 887ms\tremaining: 8.96ms\n",
      "990:\tlearn: 0.0621175\ttotal: 888ms\tremaining: 8.06ms\n",
      "991:\tlearn: 0.0620652\ttotal: 889ms\tremaining: 7.17ms\n",
      "992:\tlearn: 0.0619427\ttotal: 890ms\tremaining: 6.27ms\n",
      "993:\tlearn: 0.0617797\ttotal: 890ms\tremaining: 5.38ms\n",
      "994:\tlearn: 0.0617305\ttotal: 891ms\tremaining: 4.48ms\n",
      "995:\tlearn: 0.0616831\ttotal: 892ms\tremaining: 3.58ms\n",
      "996:\tlearn: 0.0615743\ttotal: 893ms\tremaining: 2.69ms\n",
      "997:\tlearn: 0.0615229\ttotal: 894ms\tremaining: 1.79ms\n",
      "998:\tlearn: 0.0614110\ttotal: 894ms\tremaining: 895us\n",
      "999:\tlearn: 0.0613196\ttotal: 895ms\tremaining: 0us\n"
     ]
    },
    {
     "data": {
      "text/plain": [
       "<catboost.core.CatBoostRegressor at 0x7feb79757d60>"
      ]
     },
     "execution_count": 9,
     "metadata": {},
     "output_type": "execute_result"
    }
   ],
   "source": [
    "#Train the Model \n",
    "prior_model = ctb.CatBoostRegressor()\n",
    "prior_model.fit(X_train,Y_train)"
   ]
  },
  {
   "cell_type": "code",
   "execution_count": 10,
   "id": "af65dcda",
   "metadata": {
    "execution": {
     "iopub.execute_input": "2022-06-11T17:43:51.256118Z",
     "iopub.status.busy": "2022-06-11T17:43:51.255726Z",
     "iopub.status.idle": "2022-06-11T17:43:51.263100Z",
     "shell.execute_reply": "2022-06-11T17:43:51.263341Z"
    },
    "id": "af65dcda",
    "papermill": {
     "duration": 0.020518,
     "end_time": "2022-06-11T17:43:51.263454",
     "exception": false,
     "start_time": "2022-06-11T17:43:51.242936",
     "status": "completed"
    },
    "tags": []
   },
   "outputs": [
    {
     "data": {
      "application/scrapbook.scrap.json+json": {
       "data": 0.08163838367899855,
       "encoder": "json",
       "name": "Prior Model MSE",
       "version": 1
      }
     },
     "metadata": {
      "scrapbook": {
       "data": true,
       "display": false,
       "name": "Prior Model MSE"
      }
     },
     "output_type": "display_data"
    },
    {
     "data": {
      "application/scrapbook.scrap.json+json": {
       "data": 0.09063628678895665,
       "encoder": "json",
       "name": "ABC Pre-generator MSE",
       "version": 1
      }
     },
     "metadata": {
      "scrapbook": {
       "data": true,
       "display": false,
       "name": "ABC Pre-generator MSE"
      }
     },
     "output_type": "display_data"
    },
    {
     "data": {
      "application/scrapbook.scrap.json+json": {
       "data": 0.19315074728977089,
       "encoder": "json",
       "name": "Prior Model MSE",
       "version": 1
      }
     },
     "metadata": {
      "scrapbook": {
       "data": true,
       "display": false,
       "name": "Prior Model MSE"
      }
     },
     "output_type": "display_data"
    },
    {
     "data": {
      "application/scrapbook.scrap.json+json": {
       "data": 0.20426178711181261,
       "encoder": "json",
       "name": "ABC Pre-generator MSE",
       "version": 1
      }
     },
     "metadata": {
      "scrapbook": {
       "data": true,
       "display": false,
       "name": "ABC Pre-generator MSE"
      }
     },
     "output_type": "display_data"
    }
   ],
   "source": [
    "y_pred = prior_model.predict(X_test)\n",
    "y_abc = y_pred + np.random.normal(0,variance, y_pred.shape) + bias \n",
    "mse = mean_squared_error(y_pred,Y_test)\n",
    "sb.glue(\"Prior Model MSE\",mse)\n",
    "mse = mean_squared_error(y_abc,Y_test)\n",
    "sb.glue(\"ABC Pre-generator MSE\",mse)\n",
    "mae = mean_absolute_error(y_pred,Y_test)\n",
    "sb.glue(\"Prior Model MSE\",mae)\n",
    "mae = mean_absolute_error(y_abc,Y_test)\n",
    "sb.glue(\"ABC Pre-generator MSE\",mae)"
   ]
  },
  {
   "cell_type": "markdown",
   "id": "25609da2",
   "metadata": {
    "papermill": {
     "duration": 0.00997,
     "end_time": "2022-06-11T17:43:51.283598",
     "exception": false,
     "start_time": "2022-06-11T17:43:51.273628",
     "status": "completed"
    },
    "tags": []
   },
   "source": [
    "# ABC GAN Model"
   ]
  },
  {
   "cell_type": "code",
   "execution_count": 11,
   "id": "dfc3464d",
   "metadata": {
    "execution": {
     "iopub.execute_input": "2022-06-11T17:43:51.306222Z",
     "iopub.status.busy": "2022-06-11T17:43:51.305854Z",
     "iopub.status.idle": "2022-06-11T17:43:51.308224Z",
     "shell.execute_reply": "2022-06-11T17:43:51.308460Z"
    },
    "papermill": {
     "duration": 0.015108,
     "end_time": "2022-06-11T17:43:51.308568",
     "exception": false,
     "start_time": "2022-06-11T17:43:51.293460",
     "status": "completed"
    },
    "tags": []
   },
   "outputs": [],
   "source": [
    "gen = network.Generator(n_features+1).to(device)\n",
    "disc = network.Discriminator(n_features+1).to(device)\n",
    "\n",
    "criterion = torch.nn.BCELoss()\n",
    "gen_opt = torch.optim.Adam(gen.parameters(), lr=0.001, betas=(0.5, 0.999))\n",
    "disc_opt = torch.optim.Adam(disc.parameters(), lr=0.001, betas=(0.5, 0.999))"
   ]
  },
  {
   "cell_type": "code",
   "execution_count": 12,
   "id": "b75fdd85",
   "metadata": {
    "execution": {
     "iopub.execute_input": "2022-06-11T17:43:51.331074Z",
     "iopub.status.busy": "2022-06-11T17:43:51.330711Z",
     "iopub.status.idle": "2022-06-11T17:44:51.753258Z",
     "shell.execute_reply": "2022-06-11T17:44:51.753570Z"
    },
    "papermill": {
     "duration": 60.435129,
     "end_time": "2022-06-11T17:44:51.753694",
     "exception": false,
     "start_time": "2022-06-11T17:43:51.318565",
     "status": "completed"
    },
    "tags": []
   },
   "outputs": [
    {
     "data": {
      "image/png": "[encoded data removed]",
      "text/plain": [
       "<Figure size 432x288 with 1 Axes>"
      ]
     },
     "metadata": {
      "needs_background": "light"
     },
     "output_type": "display_data"
    },
    {
     "data": {
      "image/png": "[encoded data removed]",
      "text/plain": [
       "<Figure size 432x288 with 1 Axes>"
      ]
     },
     "metadata": {
      "needs_background": "light"
     },
     "output_type": "display_data"
    }
   ],
   "source": [
    "#Training the ABC_GAN \n",
    "ABC_train_test2.training_GAN(disc,gen,disc_opt,gen_opt,train_data,batch_size,n_epochs,criterion,prior_model,variance,bias,device)"
   ]
  },
  {
   "cell_type": "code",
   "execution_count": 13,
   "id": "1fa7c368",
   "metadata": {
    "execution": {
     "iopub.execute_input": "2022-06-11T17:44:51.778053Z",
     "iopub.status.busy": "2022-06-11T17:44:51.777670Z",
     "iopub.status.idle": "2022-06-11T17:44:52.087040Z",
     "shell.execute_reply": "2022-06-11T17:44:52.087337Z"
    },
    "papermill": {
     "duration": 0.322894,
     "end_time": "2022-06-11T17:44:52.087457",
     "exception": false,
     "start_time": "2022-06-11T17:44:51.764563",
     "status": "completed"
    },
    "tags": []
   },
   "outputs": [
    {
     "data": {
      "application/scrapbook.scrap.json+json": {
       "data": 0.1119081574935178,
       "encoder": "json",
       "name": "ABC-GAN Model 1 MSE",
       "version": 1
      }
     },
     "metadata": {
      "scrapbook": {
       "data": true,
       "display": false,
       "name": "ABC-GAN Model 1 MSE"
      }
     },
     "output_type": "display_data"
    },
    {
     "data": {
      "application/scrapbook.scrap.json+json": {
       "data": 0.20589501829470927,
       "encoder": "json",
       "name": "ABC-GAN Model 1 MAE",
       "version": 1
      }
     },
     "metadata": {
      "scrapbook": {
       "data": true,
       "display": false,
       "name": "ABC-GAN Model 1 MAE"
      }
     },
     "output_type": "display_data"
    },
    {
     "data": {
      "application/scrapbook.scrap.json+json": {
       "data": 21.001291866060345,
       "encoder": "json",
       "name": "ABC-GAN Model 1 Manhattan Distance",
       "version": 1
      }
     },
     "metadata": {
      "scrapbook": {
       "data": true,
       "display": false,
       "name": "ABC-GAN Model 1 Manhattan Distance"
      }
     },
     "output_type": "display_data"
    },
    {
     "data": {
      "application/scrapbook.scrap.json+json": {
       "data": 3.3776435799590803,
       "encoder": "json",
       "name": "ABC-GAN Model 1 Euclidean distance",
       "version": 1
      }
     },
     "metadata": {
      "scrapbook": {
       "data": true,
       "display": false,
       "name": "ABC-GAN Model 1 Euclidean distance"
      }
     },
     "output_type": "display_data"
    },
    {
     "data": {
      "application/scrapbook.scrap.json+json": {
       "data": [
        [
         0.1139157496007583,
         0.11159490855412176,
         0.11774057308655818,
         0.10147012424433055,
         0.1135036248815941,
         0.11055122828451747,
         0.10863527865007107,
         0.10197734804331005,
         0.10966759230785335,
         0.11056128641254902,
         0.1095770623402167,
         0.10763280327492944,
         0.1072195530650316,
         0.11278145165740622,
         0.12620844049540078,
         0.11714430557415487,
         0.11036420536112473,
         0.11148661067793311,
         0.10712337086567648,
         0.11555016579931231,
         0.11614747413859058,
         0.10775372118627102,
         0.11093285671726201,
         0.11656064911631363,
         0.11661600310925259,
         0.11041408240209512,
         0.11294287901114107,
         0.10902802764169836,
         0.11414919939284944,
         0.11738949074886056,
         0.10783864058870248,
         0.10507629092239366,
         0.10952925438653388,
         0.10621600237100519,
         0.1167364127861315,
         0.10562732607683013,
         0.11855160614716401,
         0.11322142111702196,
         0.10896475666895641,
         0.10823871623065891,
         0.10907487794059836,
         0.1090130845975688,
         0.11689060392771926,
         0.1157022160355167,
         0.10707206745653387,
         0.10687414153257727,
         0.11374609867494208,
         0.11173779427125378,
         0.11681872892154807,
         0.11559635050522225,
         0.11697839047824118,
         0.117933066201728,
         0.11344351613207276,
         0.10748354644439359,
         0.11665106623038352,
         0.10616634290256652,
         0.1078556452456535,
         0.10085497598252502,
         0.11445249269439801,
         0.11260388342956607,
         0.10531997519535426,
         0.1053423598219694,
         0.1036238587604051,
         0.10293920150437173,
         0.11651777101124047,
         0.1109224544976076,
         0.11042509318155669,
         0.11634790984498433,
         0.10124361513018085,
         0.10964192865670083,
         0.11370468460236854,
         0.10876310874486514,
         0.11320399205230784,
         0.10565257985781662,
         0.110772916257837,
         0.12269743437545895,
         0.10643454018571911,
         0.11845925638120329,
         0.11447973490272022,
         0.11361123379725424,
         0.11500360302194654,
         0.11144451663518976,
         0.12061101428655312,
         0.10900389509262469,
         0.10501791329039006,
         0.11948960933033671,
         0.1171302555686247,
         0.11855375612755424,
         0.10772993304203851,
         0.11555770083977882,
         0.11743281794532176,
         0.10973469641031425,
         0.10992631391215837,
         0.10761074126270641,
         0.12482917744914906,
         0.12085064145401814,
         0.11160499473889733,
         0.11083583740385584,
         0.12009806018269588,
         0.11465723905411225
        ],
        [
         0.21711370005619293,
         0.20389376754196836,
         0.22044534245323316,
         0.19755182963083773,
         0.20462719232355261,
         0.19771327922011123,
         0.2068656781396153,
         0.20149611588567495,
         0.1997144617615085,
         0.20266363897598258,
         0.2002313174124734,
         0.20155916394044956,
         0.20325875589076212,
         0.21402902267508062,
         0.21611367094823541,
         0.21195767335958926,
         0.20231604282105087,
         0.19981511302438437,
         0.20110127457654944,
         0.20659222453832626,
         0.20994925650530585,
         0.1948631561598649,
         0.20791217513090254,
         0.21224547705302635,
         0.21142134349793196,
         0.20430134200290137,
         0.20544519622390175,
         0.20223807844826402,
         0.2142048154902809,
         0.21318887933796526,
         0.20239365924441932,
         0.19878420724953508,
         0.20544004655790096,
         0.1932819669554923,
         0.20776697582400896,
         0.20679855733817698,
         0.20397605644721611,
         0.20904841179064676,
         0.20327556242837624,
         0.20203138044213548,
         0.2074097497753945,
         0.20985317679450793,
         0.2138747394121453,
         0.20289915674092138,
         0.20051096960463943,
         0.1995266400387182,
         0.2021757818064561,
         0.20471195292239094,
         0.2171318502548863,
         0.2021894258647865,
         0.21615087664594837,
         0.21253933452581072,
         0.21064925135350696,
         0.20408741804752864,
         0.21342702414475234,
         0.1918840097884337,
         0.20306932902438382,
         0.19118297394072892,
         0.21179678555870174,
         0.20557647165568435,
         0.19964121070270444,
         0.20596791011299573,
         0.19451483563684366,
         0.19736495599442838,
         0.2119508260203635,
         0.21323762655112088,
         0.20512365474931749,
         0.20617470289489218,
         0.19878679806110905,
         0.2099206963663592,
         0.2092030129998046,
         0.19986210325184992,
         0.20657666118852064,
         0.20309547806049094,
         0.20483553641493998,
         0.21290183019842587,
         0.20266858544931107,
         0.21677902797419651,
         0.20114147148149855,
         0.20220287138705745,
         0.20591765620252667,
         0.20443194887290397,
         0.21780559395019913,
         0.19983806577967664,
         0.19344891363060943,
         0.21345422480839724,
         0.20921386670613407,
         0.20432436710917481,
         0.20098273678883619,
         0.21372595281504533,
         0.20682038520188892,
         0.20351429710931637,
         0.2054013700461855,
         0.20181125512017922,
         0.22350053381466983,
         0.22017370609968318,
         0.20590158363840744,
         0.2060260026551345,
         0.20730749170715904,
         0.20567935471441232
        ],
        [
         22.145597405731678,
         20.797164289280772,
         22.485424930229783,
         20.150286622345448,
         20.871973617002368,
         20.166754480451345,
         21.10029917024076,
         20.552603820338845,
         20.370875099673867,
         20.671691175550222,
         20.423594376072288,
         20.559034721925855,
         20.732393100857735,
         21.830960312858224,
         22.043594436720014,
         21.619682682678103,
         20.636236367747188,
         20.381141528487206,
         20.512330006808043,
         21.07240690290928,
         21.414824163541198,
         19.876041928306222,
         21.20704186335206,
         21.64903865940869,
         21.56497703678906,
         20.83873688429594,
         20.95541001483798,
         20.628284001722932,
         21.84889118000865,
         21.745265692472458,
         20.64415324293077,
         20.275989139452577,
         20.954884748905897,
         19.714760629460216,
         21.192231534048915,
         21.093452848494053,
         20.805557757616043,
         21.32293800264597,
         20.734107367694378,
         20.60720080509782,
         21.15579447709024,
         21.40502403303981,
         21.81522342003882,
         20.69571398757398,
         20.452118899673223,
         20.351717283949256,
         20.621929744258523,
         20.880619198083878,
         22.1474487259984,
         20.623321438208222,
         22.047389417886734,
         21.679012121632695,
         21.48622363805771,
         20.81691664084792,
         21.76955646276474,
         19.57216899842024,
         20.71307156048715,
         19.50066334195435,
         21.603272126987576,
         20.968800108879805,
         20.363403491675854,
         21.008726831525564,
         19.840513234958053,
         20.131225511431694,
         21.618984254077077,
         21.75023790821433,
         20.922612784430385,
         21.029819695279002,
         20.276253402233124,
         21.41191102936864,
         21.338707325980067,
         20.38593453168869,
         21.070819441229105,
         20.715738762170076,
         20.89322471432388,
         21.71598668023944,
         20.67219571582973,
         22.111460853368044,
         20.516430091112852,
         20.62469288147986,
         21.00360093265772,
         20.852058785036206,
         22.216170582920313,
         20.383482709527016,
         19.73178919032216,
         21.77233093045652,
         21.339814404025674,
         20.841085445135832,
         20.50023915246129,
         21.800047187134624,
         21.09567929059267,
         20.75845830515027,
         20.950939744710922,
         20.58474802225828,
         22.797054449096322,
         22.457718022167683,
         21.00196153111756,
         21.014652270823717,
         21.14536415413022,
         20.979294180870056
        ],
        [
         3.4087250489409295,
         3.3738228573119273,
         3.465478099026011,
         3.217134232965997,
         3.4025534144113885,
         3.3580091252140427,
         3.3287833246258676,
         3.225165034601737,
         3.3445619168137766,
         3.35816188026724,
         3.343181173478653,
         3.313388889647998,
         3.307021985507992,
         3.3917116724532224,
         3.5879326819954245,
         3.4566919400727327,
         3.3551674990728437,
         3.372185387719539,
         3.3055383568034724,
         3.433091451087468,
         3.4419532771576433,
         3.315249547319122,
         3.363800140490027,
         3.4480699253153184,
         3.4488885625870487,
         3.3559255660717064,
         3.3941381320058834,
         3.3347951690401065,
         3.4122160450461867,
         3.460307508933819,
         3.316555644045137,
         3.273802326666068,
         3.34245178685145,
         3.2915091131337504,
         3.4506686459562315,
         3.2823752466524416,
         3.4773932517060433,
         3.3983209021421503,
         3.3338274070853693,
         3.322702071436319,
         3.335511587439179,
         3.3345666328553127,
         3.4529467995651717,
         3.435349477945832,
         3.304746719578741,
         3.3016908450554365,
         3.4061858529510824,
         3.375982081656815,
         3.4518850429870773,
         3.433777475540992,
         3.454243162949099,
         3.468309783248356,
         3.4016523404768186,
         3.311090717169819,
         3.4494070150533283,
         3.2907395788882745,
         3.31681712113536,
         3.2073676980068173,
         3.416746150188596,
         3.389040588398985,
         3.277596294531426,
         3.2779445849252666,
         3.251097290694531,
         3.240339265176707,
         3.4474356619299695,
         3.3636424243305005,
         3.356092892713011,
         3.4449218865147584,
         3.2135414643782716,
         3.3441705582974506,
         3.4055657135697133,
         3.330741222607401,
         3.3980593269299173,
         3.282767604552185,
         3.361374340697473,
         3.537674137946684,
         3.2948934882547185,
         3.4760385715470323,
         3.417152756327621,
         3.404165954726639,
         3.4249624097555507,
         3.3715487089450984,
         3.5074668148435006,
         3.3344260824687235,
         3.2728927809538435,
         3.4911230502081048,
         3.4564846402088523,
         3.47742478351589,
         3.314883583217958,
         3.433203385419722,
         3.4609460311340907,
         3.345585006221192,
         3.3485047437685007,
         3.313049291633925,
         3.568273546102261,
         3.5109493628233728,
         3.373975320503623,
         3.3623288677928715,
         3.500000305519269,
         3.419800927469236
        ]
       ],
       "encoder": "json",
       "name": "ABC_GAN_1 Metrics",
       "version": 1
      }
     },
     "metadata": {
      "scrapbook": {
       "data": true,
       "display": false,
       "name": "ABC_GAN_1 Metrics"
      }
     },
     "output_type": "display_data"
    },
    {
     "name": "stdout",
     "output_type": "stream",
     "text": [
      "MSE\n",
      "0.1119081574935178\n"
     ]
    }
   ],
   "source": [
    "ABC_GAN1_metrics=ABC_train_test2.test_generator(gen,test_data,prior_model,variance,bias,\"1\",device)\n",
    "sb.glue(\"ABC_GAN_1 Metrics\",ABC_GAN1_metrics)\n",
    "\n",
    "print(\"MSE\")\n",
    "print(mean(ABC_GAN1_metrics[0]))"
   ]
  },
  {
   "cell_type": "code",
   "execution_count": 14,
   "id": "eb22ce5c",
   "metadata": {
    "execution": {
     "iopub.execute_input": "2022-06-11T17:44:52.114803Z",
     "iopub.status.busy": "2022-06-11T17:44:52.114435Z",
     "iopub.status.idle": "2022-06-11T17:44:52.448176Z",
     "shell.execute_reply": "2022-06-11T17:44:52.448422Z"
    },
    "papermill": {
     "duration": 0.348373,
     "end_time": "2022-06-11T17:44:52.448545",
     "exception": false,
     "start_time": "2022-06-11T17:44:52.100172",
     "status": "completed"
    },
    "tags": []
   },
   "outputs": [
    {
     "data": {
      "image/png": "[encoded data removed]",
      "text/plain": [
       "<Figure size 432x288 with 1 Axes>"
      ]
     },
     "metadata": {
      "needs_background": "light"
     },
     "output_type": "display_data"
    },
    {
     "data": {
      "image/png": "[encoded data removed]",
      "text/plain": [
       "<Figure size 432x288 with 1 Axes>"
      ]
     },
     "metadata": {
      "needs_background": "light"
     },
     "output_type": "display_data"
    },
    {
     "data": {
      "image/png": "[encoded data removed]",
      "text/plain": [
       "<Figure size 432x288 with 1 Axes>"
      ]
     },
     "metadata": {
      "needs_background": "light"
     },
     "output_type": "display_data"
    },
    {
     "data": {
      "image/png": "[encoded data removed]",
      "text/plain": [
       "<Figure size 432x288 with 1 Axes>"
      ]
     },
     "metadata": {
      "needs_background": "light"
     },
     "output_type": "display_data"
    }
   ],
   "source": [
    "sanityChecks.discProbVsError(train_data,disc,device)\n",
    "sanityChecks.discProbVsError(test_data,disc,device)"
   ]
  },
  {
   "cell_type": "markdown",
   "id": "130f3a4d",
   "metadata": {
    "id": "130f3a4d",
    "papermill": {
     "duration": 0.014381,
     "end_time": "2022-06-11T17:44:52.478097",
     "exception": false,
     "start_time": "2022-06-11T17:44:52.463716",
     "status": "completed"
    },
    "tags": []
   },
   "source": [
    "# ABC - GAN Model with skip connection"
   ]
  },
  {
   "cell_type": "code",
   "execution_count": 15,
   "id": "4e43dad1",
   "metadata": {
    "execution": {
     "iopub.execute_input": "2022-06-11T17:44:52.511124Z",
     "iopub.status.busy": "2022-06-11T17:44:52.510723Z",
     "iopub.status.idle": "2022-06-11T17:44:52.512802Z",
     "shell.execute_reply": "2022-06-11T17:44:52.513097Z"
    },
    "id": "4e43dad1",
    "papermill": {
     "duration": 0.020613,
     "end_time": "2022-06-11T17:44:52.513210",
     "exception": false,
     "start_time": "2022-06-11T17:44:52.492597",
     "status": "completed"
    },
    "tags": []
   },
   "outputs": [],
   "source": [
    "#Generator\n",
    "gen3 = network.GeneratorWithSkipConnection(n_features+1).to(device)\n",
    "constraints=network.weightConstraint()\n",
    "#Discriminator \n",
    "disc3 = network.Discriminator(n_features+1).to(device)\n",
    "\n",
    "criterion = torch.nn.BCELoss()\n",
    "gen_opt = torch.optim.Adam(gen3.parameters(), lr=0.001, betas=(0.5, 0.999))\n",
    "disc_opt = torch.optim.Adam(disc3.parameters(), lr=0.001, betas=(0.5, 0.999))\n"
   ]
  },
  {
   "cell_type": "code",
   "execution_count": 16,
   "id": "26acbc37",
   "metadata": {
    "execution": {
     "iopub.execute_input": "2022-06-11T17:44:52.544595Z",
     "iopub.status.busy": "2022-06-11T17:44:52.544230Z",
     "iopub.status.idle": "2022-06-11T17:47:48.321985Z",
     "shell.execute_reply": "2022-06-11T17:47:48.322365Z"
    },
    "id": "26acbc37",
    "papermill": {
     "duration": 175.794675,
     "end_time": "2022-06-11T17:47:48.322505",
     "exception": false,
     "start_time": "2022-06-11T17:44:52.527830",
     "status": "completed"
    },
    "tags": []
   },
   "outputs": [
    {
     "data": {
      "image/png": "[encoded data removed]",
      "text/plain": [
       "<Figure size 432x288 with 1 Axes>"
      ]
     },
     "metadata": {
      "needs_background": "light"
     },
     "output_type": "display_data"
    },
    {
     "data": {
      "image/png": "[encoded data removed]",
      "text/plain": [
       "<Figure size 432x288 with 1 Axes>"
      ]
     },
     "metadata": {
      "needs_background": "light"
     },
     "output_type": "display_data"
    }
   ],
   "source": [
    "ABC_train_test2.training_GAN_skip_connection(disc3,gen3,disc_opt,gen_opt,train_data,batch_size,n_epochs,criterion,prior_model,variance,bias,device)"
   ]
  },
  {
   "cell_type": "code",
   "execution_count": 17,
   "id": "c5e0717b",
   "metadata": {
    "execution": {
     "iopub.execute_input": "2022-06-11T17:47:48.357082Z",
     "iopub.status.busy": "2022-06-11T17:47:48.356699Z",
     "iopub.status.idle": "2022-06-11T17:47:49.219668Z",
     "shell.execute_reply": "2022-06-11T17:47:49.220058Z"
    },
    "id": "c5e0717b",
    "papermill": {
     "duration": 0.88156,
     "end_time": "2022-06-11T17:47:49.220185",
     "exception": false,
     "start_time": "2022-06-11T17:47:48.338625",
     "status": "completed"
    },
    "tags": []
   },
   "outputs": [
    {
     "data": {
      "application/scrapbook.scrap.json+json": {
       "data": 0.10824358864760021,
       "encoder": "json",
       "name": "ABC-GAN Model 3 MSE",
       "version": 1
      }
     },
     "metadata": {
      "scrapbook": {
       "data": true,
       "display": false,
       "name": "ABC-GAN Model 3 MSE"
      }
     },
     "output_type": "display_data"
    },
    {
     "data": {
      "application/scrapbook.scrap.json+json": {
       "data": 0.20345764864966565,
       "encoder": "json",
       "name": "ABC-GAN Model 3 MAE",
       "version": 1
      }
     },
     "metadata": {
      "scrapbook": {
       "data": true,
       "display": false,
       "name": "ABC-GAN Model 3 MAE"
      }
     },
     "output_type": "display_data"
    },
    {
     "data": {
      "application/scrapbook.scrap.json+json": {
       "data": 20.752680162265897,
       "encoder": "json",
       "name": "ABC-GAN Model 3 Manhattan Distance",
       "version": 1
      }
     },
     "metadata": {
      "scrapbook": {
       "data": true,
       "display": false,
       "name": "ABC-GAN Model 3 Manhattan Distance"
      }
     },
     "output_type": "display_data"
    },
    {
     "data": {
      "application/scrapbook.scrap.json+json": {
       "data": 3.3214740259578037,
       "encoder": "json",
       "name": "ABC-GAN Model 3 Euclidean distance",
       "version": 1
      }
     },
     "metadata": {
      "scrapbook": {
       "data": true,
       "display": false,
       "name": "ABC-GAN Model 3 Euclidean distance"
      }
     },
     "output_type": "display_data"
    },
    {
     "data": {
      "application/scrapbook.scrap.json+json": {
       "data": [
        [
         0.11381366269050566,
         0.1195888815032916,
         0.11136647108946149,
         0.11649831435682577,
         0.10189977582315084,
         0.1077418925558489,
         0.10390504867965762,
         0.11671831398279413,
         0.11395375986764818,
         0.11058920026549014,
         0.09994801030876134,
         0.10033646445948574,
         0.10686051467553136,
         0.10054395086015204,
         0.10739656964575056,
         0.10926186608300169,
         0.11686450816299385,
         0.1106451300944973,
         0.09889319337034032,
         0.1080807240942587,
         0.10764038613752373,
         0.11423215966202012,
         0.1115393808907821,
         0.10472689708305807,
         0.09922527534891583,
         0.12353943330820553,
         0.10720585573564954,
         0.10823179062904768,
         0.11477844933081488,
         0.11432783342589575,
         0.10015418234888122,
         0.11427899778544091,
         0.10814050132706646,
         0.10986044986605178,
         0.10017881946569747,
         0.10593090601623924,
         0.10782893633935436,
         0.10589146679939813,
         0.11525588710917604,
         0.11053117316808132,
         0.10293626914916494,
         0.1125267729103928,
         0.1129415411851797,
         0.10893339325198836,
         0.09569826126556157,
         0.11103667760754568,
         0.11350209080417371,
         0.09830147089146184,
         0.10073979520200028,
         0.10202662016070903,
         0.10285451558386961,
         0.10265760750780979,
         0.1123720816995743,
         0.11355738426168498,
         0.12121672948922181,
         0.11015715670960291,
         0.11369965982816865,
         0.11193534503873827,
         0.1038089454854963,
         0.10906631196829487,
         0.1010221369399786,
         0.10489134233519304,
         0.10100390303377894,
         0.10845693594952063,
         0.10833310677039694,
         0.09911028887740413,
         0.10704232225825476,
         0.10603451652226871,
         0.11482882990208883,
         0.11892778265807084,
         0.11557351152797705,
         0.11074909154723549,
         0.11604528006706322,
         0.11548965594943703,
         0.10029252284969242,
         0.10934224421878787,
         0.11363237367999453,
         0.10306591772457678,
         0.11793767669982025,
         0.10148746385233379,
         0.10787767433415175,
         0.10874779674888295,
         0.10632720969825168,
         0.11808693836127408,
         0.11121421029471737,
         0.09914587473032171,
         0.10394541645349847,
         0.1108209934066354,
         0.10392095730201178,
         0.10701629971740786,
         0.1022613071531862,
         0.10299301654341213,
         0.10411719783760572,
         0.11897576415151821,
         0.1005996014319796,
         0.10460056607387769,
         0.11168185825848682,
         0.10338874363157446,
         0.09871480672428005,
         0.10828206419568692
        ],
        [
         0.2049091743195758,
         0.20998043294849933,
         0.21486655619068473,
         0.20504476763673274,
         0.1996211208512678,
         0.20449292982070177,
         0.20054263650786644,
         0.2066716922483608,
         0.20742605113442622,
         0.19910274374791803,
         0.1941160486700634,
         0.20226275186766596,
         0.20082687504370422,
         0.19856531366559804,
         0.20264274581317224,
         0.20741636795448323,
         0.2158634285351225,
         0.20425843009177377,
         0.20071728098407096,
         0.21202500628343984,
         0.20688120807137558,
         0.19927924875096947,
         0.20912126449904606,
         0.19841058888271743,
         0.1889153245982586,
         0.2208611642320951,
         0.2002394787565458,
         0.2032596125431797,
         0.21536571530661747,
         0.2119597042454224,
         0.19772033689214902,
         0.20454962522375816,
         0.2017221034632302,
         0.20549008177191602,
         0.19703220619874842,
         0.20077060121020265,
         0.2061296079271272,
         0.19702523599798774,
         0.2053784297815725,
         0.2055219815970928,
         0.20302795421551256,
         0.20794380472644286,
         0.20457136943278945,
         0.19647070210354,
         0.19480666253423573,
         0.20488820613964515,
         0.20864635704121753,
         0.19273936752156884,
         0.1894287698920451,
         0.1983818996825493,
         0.19855382410334607,
         0.20013458318277902,
         0.20536173662791649,
         0.20520740601361967,
         0.2155122539649407,
         0.20145040881071313,
         0.2135484767895119,
         0.20839067448076665,
         0.18655927293002605,
         0.21626792857240812,
         0.19572378649358071,
         0.19749453086771218,
         0.20360363468381704,
         0.2065215542656826,
         0.20460096416154913,
         0.19769166296749724,
         0.20530665603776774,
         0.20865107159696372,
         0.21073273244295634,
         0.21344201597293802,
         0.20872825707363732,
         0.20095805991806237,
         0.21114018366799928,
         0.20844482988411306,
         0.2021949858240345,
         0.19768523335383803,
         0.20229168444433632,
         0.19979953177857632,
         0.21782442201476762,
         0.19608526286102979,
         0.20021353621839308,
         0.2043278092774106,
         0.1975884411812705,
         0.2072078278836082,
         0.20711559230717375,
         0.1983452130693431,
         0.1985923862632583,
         0.20858328183199845,
         0.20125072117091394,
         0.20090408000510698,
         0.19903208702510478,
         0.19663298195775816,
         0.19591308122172074,
         0.20470961404270402,
         0.19900232085994646,
         0.20411499074715025,
         0.2057180744139295,
         0.20099410062254058,
         0.2010184275534223,
         0.20670170397223794
        ],
        [
         20.900735780596733,
         21.418004160746932,
         21.916388731449842,
         20.91456629894674,
         20.361354326829314,
         20.85827884171158,
         20.455348923802376,
         21.0805126093328,
         21.157457215711474,
         20.30847986228764,
         19.79983696434647,
         20.63080069050193,
         20.48434125445783,
         20.253661993891,
         20.66956007294357,
         21.15646953135729,
         22.018069710582495,
         20.834359869360924,
         20.473162660375237,
         21.626550640910864,
         21.10188322328031,
         20.326483372598886,
         21.330368978902698,
         20.237880066037178,
         19.26936310902238,
         22.5278387516737,
         20.424426833167672,
         20.73248047940433,
         21.96730296127498,
         21.619889833033085,
         20.1674743629992,
         20.864061772823334,
         20.57565455324948,
         20.959988340735435,
         20.09728503227234,
         20.47860132344067,
         21.025220008566976,
         20.09657407179475,
         20.948599837720394,
         20.963242122903466,
         20.70885132998228,
         21.210268082097173,
         20.866279682144523,
         20.04001161456108,
         19.870279578492045,
         20.898597026243806,
         21.28192841820419,
         19.65941548720002,
         19.3217345289886,
         20.234953767620027,
         20.252490058541298,
         20.41372748464346,
         20.946897136047482,
         20.931155413389206,
         21.982249904423952,
         20.54794169869274,
         21.781944632530212,
         21.255848797038198,
         19.029045838862658,
         22.05932871438563,
         19.963826222345233,
         20.14444214850664,
         20.767570737749338,
         21.065198535099626,
         20.86929834447801,
         20.164549622684717,
         20.94127891585231,
         21.2824093028903,
         21.494738709181547,
         21.77108562923968,
         21.290282221511006,
         20.49772211164236,
         21.536298734135926,
         21.26137264817953,
         20.62388855405152,
         20.16389380209148,
         20.633751813322306,
         20.379552241414785,
         22.2180910455063,
         20.000696811825037,
         20.421780694276094,
         20.84143654629588,
         20.154021000489593,
         21.135198444128036,
         21.12579041533172,
         20.231211733072996,
         20.25642339885235,
         21.275494746863842,
         20.527573559433222,
         20.49221616052091,
         20.301272876560688,
         20.056564159691334,
         19.983134284615517,
         20.88038063235581,
         20.29823672771454,
         20.819729056209326,
         20.98324359022081,
         20.50139826349914,
         20.503879610449076,
         21.08357380516827
        ],
        [
         3.407197322497125,
         3.4925729646402153,
         3.370367940021544,
         3.4471478158611397,
         3.223938140529589,
         3.3150675770935023,
         3.255505331791836,
         3.450401139903156,
         3.4092936961341582,
         3.358585777835665,
         3.1929135678081946,
         3.1991122791905173,
         3.301480349313652,
         3.202418303054038,
         3.3097507615931683,
         3.338369413421195,
         3.452561343788893,
         3.3594349628529385,
         3.176020422442953,
         3.3202761718890774,
         3.3135056037416653,
         3.4134557687959064,
         3.3729833754200103,
         3.268354861772497,
         3.181348469688508,
         3.549791852691783,
         3.3068107422464097,
         3.3225957689979166,
         3.421608076876005,
         3.414884918916209,
         3.1962050309055394,
         3.4141554994046435,
         3.321194233308371,
         3.3475014393331146,
         3.196598126993936,
         3.2870887444144854,
         3.3164064145719756,
         3.2864767781833795,
         3.4287170319429916,
         3.3577045229061313,
         3.2402931122376604,
         3.3878799915079734,
         3.394118029899421,
         3.333347583391629,
         3.124295544452746,
         3.3653738449048505,
         3.402530420440898,
         3.16650438669033,
         3.2055356979144727,
         3.225944087610993,
         3.239006111379646,
         3.235904196016407,
         3.385550521459778,
         3.4033591045747533,
         3.516263131209128,
         3.352018792366698,
         3.4054904643051347,
         3.378965106944921,
         3.25399945290724,
         3.335380611079652,
         3.2100246054941417,
         3.270919888684174,
         3.209734897066337,
         3.3260498292796368,
         3.324150551732049,
         3.179504594350388,
         3.3042876494551714,
         3.288695894313034,
         3.4223589306227167,
         3.482905946350436,
         3.4334382440716267,
         3.361012844042405,
         3.440438717204602,
         3.4321924344131074,
         3.1984116887399945,
         3.3395971179644355,
         3.404482650177475,
         3.242333050120983,
         3.468377577972396,
         3.2174090994056144,
         3.317155827223599,
         3.3305067584957793,
         3.2932317545568623,
         3.4705716694587876,
         3.368063160046315,
         3.180075348555882,
         3.256137662669814,
         3.36210370563979,
         3.2557545430829395,
         3.3038859803533773,
         3.229652199482939,
         3.2411861543928686,
         3.258827117144415,
         3.4836084658662285,
         3.203304441676113,
         3.2663829750253606,
         3.3751369664601247,
         3.2474069425343957,
         3.1731546268463764,
         3.323367350739317
        ]
       ],
       "encoder": "json",
       "name": "ABC_GAN_3 Metrics",
       "version": 1
      }
     },
     "metadata": {
      "scrapbook": {
       "data": true,
       "display": false,
       "name": "ABC_GAN_3 Metrics"
      }
     },
     "output_type": "display_data"
    },
    {
     "name": "stdout",
     "output_type": "stream",
     "text": [
      "MSE\n",
      "0.10824358864760021\n"
     ]
    }
   ],
   "source": [
    "ABC_GAN3_metrics=ABC_train_test2.test_generator(gen3,test_data,prior_model,variance,bias,\"3\",device)\n",
    "sb.glue(\"ABC_GAN_3 Metrics\",ABC_GAN3_metrics)\n",
    "\n",
    "print(\"MSE\")\n",
    "print(mean(ABC_GAN3_metrics[0]))"
   ]
  },
  {
   "cell_type": "code",
   "execution_count": 18,
   "id": "c8e46b48",
   "metadata": {
    "execution": {
     "iopub.execute_input": "2022-06-11T17:47:49.256768Z",
     "iopub.status.busy": "2022-06-11T17:47:49.256402Z",
     "iopub.status.idle": "2022-06-11T17:47:49.588646Z",
     "shell.execute_reply": "2022-06-11T17:47:49.588962Z"
    },
    "id": "c8e46b48",
    "papermill": {
     "duration": 0.351677,
     "end_time": "2022-06-11T17:47:49.589087",
     "exception": false,
     "start_time": "2022-06-11T17:47:49.237410",
     "status": "completed"
    },
    "tags": []
   },
   "outputs": [
    {
     "data": {
      "image/png": "[encoded data removed]",
      "text/plain": [
       "<Figure size 432x288 with 1 Axes>"
      ]
     },
     "metadata": {
      "needs_background": "light"
     },
     "output_type": "display_data"
    },
    {
     "data": {
      "image/png": "[encoded data removed]",
      "text/plain": [
       "<Figure size 432x288 with 1 Axes>"
      ]
     },
     "metadata": {
      "needs_background": "light"
     },
     "output_type": "display_data"
    },
    {
     "data": {
      "image/png": "[encoded data removed]",
      "text/plain": [
       "<Figure size 432x288 with 1 Axes>"
      ]
     },
     "metadata": {
      "needs_background": "light"
     },
     "output_type": "display_data"
    },
    {
     "data": {
      "image/png": "[encoded data removed]",
      "text/plain": [
       "<Figure size 432x288 with 1 Axes>"
      ]
     },
     "metadata": {
      "needs_background": "light"
     },
     "output_type": "display_data"
    }
   ],
   "source": [
    "sanityChecks.discProbVsError(train_data,disc3,device)\n",
    "sanityChecks.discProbVsError(test_data,disc3,device)"
   ]
  },
  {
   "cell_type": "markdown",
   "id": "a5bd74c3",
   "metadata": {
    "id": "a5bd74c3",
    "papermill": {
     "duration": 0.019208,
     "end_time": "2022-06-11T17:47:49.627984",
     "exception": false,
     "start_time": "2022-06-11T17:47:49.608776",
     "status": "completed"
    },
    "tags": []
   },
   "source": [
    "## Skip Connection Model Analysis - ABC-GAN "
   ]
  },
  {
   "cell_type": "markdown",
   "id": "5744a8bf",
   "metadata": {
    "id": "5744a8bf",
    "papermill": {
     "duration": 0.018902,
     "end_time": "2022-06-11T17:47:49.665859",
     "exception": false,
     "start_time": "2022-06-11T17:47:49.646957",
     "status": "completed"
    },
    "tags": []
   },
   "source": [
    "### Weight Analysis \n",
    "\n",
    "Study the weights of the skip connection layer\n",
    "\n",
    "Equation of the skip connection is \n",
    "\n",
    "$output = y_{gan} * w + y_{abc} * (1-w)$"
   ]
  },
  {
   "cell_type": "code",
   "execution_count": 19,
   "id": "52c31dea",
   "metadata": {
    "execution": {
     "iopub.execute_input": "2022-06-11T17:47:49.706678Z",
     "iopub.status.busy": "2022-06-11T17:47:49.706235Z",
     "iopub.status.idle": "2022-06-11T17:47:49.709651Z",
     "shell.execute_reply": "2022-06-11T17:47:49.709902Z"
    },
    "id": "52c31dea",
    "papermill": {
     "duration": 0.025253,
     "end_time": "2022-06-11T17:47:49.710015",
     "exception": false,
     "start_time": "2022-06-11T17:47:49.684762",
     "status": "completed"
    },
    "tags": []
   },
   "outputs": [
    {
     "name": "stdout",
     "output_type": "stream",
     "text": [
      "Weight of the node at skip connection\n",
      "Parameter containing:\n",
      "tensor([[0.4879]], requires_grad=True)\n"
     ]
    },
    {
     "data": {
      "application/scrapbook.scrap.json+json": {
       "data": 0.48788008093833923,
       "encoder": "json",
       "name": "Skip Connection Weight",
       "version": 1
      }
     },
     "metadata": {
      "scrapbook": {
       "data": true,
       "display": false,
       "name": "Skip Connection Weight"
      }
     },
     "output_type": "display_data"
    }
   ],
   "source": [
    "print(\"Weight of the node at skip connection\")\n",
    "for name,param in gen3.named_parameters():\n",
    "    if(name == \"skipNode.weight\"):\n",
    "        print(param)\n",
    "        sb.glue(\"Skip Connection Weight\",param.item())"
   ]
  }
 ],
 "metadata": {
  "colab": {
   "collapsed_sections": [],
   "name": "ABC_GAN_Model-Catboost_Pre-gen.ipynb",
   "provenance": []
  },
  "interpreter": {
   "hash": "31f2aee4e71d21fbe5cf8b01ff0e069b9275f58929596ceb00d14d90e3e16cd6"
  },
  "kernelspec": {
   "display_name": "Python 3 (ipykernel)",
   "language": "python",
   "name": "python3"
  },
  "language_info": {
   "codemirror_mode": {
    "name": "ipython",
    "version": 3
   },
   "file_extension": ".py",
   "mimetype": "text/x-python",
   "name": "python",
   "nbconvert_exporter": "python",
   "pygments_lexer": "ipython3",
   "version": "3.8.11"
  },
  "papermill": {
   "default_parameters": {},
   "duration": 242.580095,
   "end_time": "2022-06-11T17:47:50.037200",
   "environment_variables": {},
   "exception": null,
   "input_path": "ABC_GAN-Catboost.ipynb",
   "output_path": "./ABC_GAN_Catboost/ABC-GAN_output_2_7.ipynb",
   "parameters": {
    "bias": 0.01,
    "variance": 0.1
   },
   "start_time": "2022-06-11T17:43:47.457105",
   "version": "2.3.3"
  }
 },
 "nbformat": 4,
 "nbformat_minor": 5
}