{
 "cells": [
  {
   "cell_type": "markdown",
   "id": "622780e6",
   "metadata": {
    "id": "622780e6",
    "papermill": {
     "duration": 0.024833,
     "end_time": "2022-03-08T20:21:23.933903",
     "exception": false,
     "start_time": "2022-03-08T20:21:23.909070",
     "status": "completed"
    },
    "tags": []
   },
   "source": [
    "## Import Libraries "
   ]
  },
  {
   "cell_type": "code",
   "execution_count": 1,
   "id": "a62397e3",
   "metadata": {
    "execution": {
     "iopub.execute_input": "2022-03-08T20:21:23.969248Z",
     "iopub.status.busy": "2022-03-08T20:21:23.968737Z",
     "iopub.status.idle": "2022-03-08T20:21:23.971181Z",
     "shell.execute_reply": "2022-03-08T20:21:23.971595Z"
    },
    "id": "a62397e3",
    "papermill": {
     "duration": 0.022223,
     "end_time": "2022-03-08T20:21:23.971804",
     "exception": false,
     "start_time": "2022-03-08T20:21:23.949581",
     "status": "completed"
    },
    "tags": []
   },
   "outputs": [],
   "source": [
    "import warnings\n",
    "import sys\n",
    "sys.path.insert(0, '../../src')\n",
    "warnings.filterwarnings('ignore')"
   ]
  },
  {
   "cell_type": "code",
   "execution_count": 2,
   "id": "d6a4e155",
   "metadata": {
    "execution": {
     "iopub.execute_input": "2022-03-08T20:21:23.993173Z",
     "iopub.status.busy": "2022-03-08T20:21:23.992729Z",
     "iopub.status.idle": "2022-03-08T20:21:25.521987Z",
     "shell.execute_reply": "2022-03-08T20:21:25.522247Z"
    },
    "id": "d6a4e155",
    "papermill": {
     "duration": 1.540619,
     "end_time": "2022-03-08T20:21:25.522374",
     "exception": false,
     "start_time": "2022-03-08T20:21:23.981755",
     "status": "completed"
    },
    "tags": []
   },
   "outputs": [],
   "source": [
    "import ABC_train_test2\n",
    "import friedman1Dataset\n",
    "import network\n",
    "import dataset\n",
    "import sanityChecks\n",
    "import torch \n",
    "import scrapbook as sb\n",
    "from statistics import mean \n",
    "import catboost as ctb \n",
    "from sklearn.model_selection import train_test_split\n",
    "from sklearn.metrics import mean_squared_error,mean_absolute_error\n",
    "import numpy as np"
   ]
  },
  {
   "cell_type": "markdown",
   "id": "2fa5b0f7",
   "metadata": {
    "id": "2fa5b0f7",
    "papermill": {
     "duration": 0.006885,
     "end_time": "2022-03-08T20:21:25.536558",
     "exception": false,
     "start_time": "2022-03-08T20:21:25.529673",
     "status": "completed"
    },
    "tags": []
   },
   "source": [
    "## Parameters "
   ]
  },
  {
   "cell_type": "code",
   "execution_count": 3,
   "id": "783186fb",
   "metadata": {
    "execution": {
     "iopub.execute_input": "2022-03-08T20:21:25.552390Z",
     "iopub.status.busy": "2022-03-08T20:21:25.552018Z",
     "iopub.status.idle": "2022-03-08T20:21:25.553396Z",
     "shell.execute_reply": "2022-03-08T20:21:25.553653Z"
    },
    "id": "783186fb",
    "papermill": {
     "duration": 0.010354,
     "end_time": "2022-03-08T20:21:25.553764",
     "exception": false,
     "start_time": "2022-03-08T20:21:25.543410",
     "status": "completed"
    },
    "tags": [
     "parameters"
    ]
   },
   "outputs": [],
   "source": [
    "variance = 1\n",
    "bias = 1 "
   ]
  },
  {
   "cell_type": "code",
   "execution_count": 4,
   "id": "9bbc818e",
   "metadata": {
    "execution": {
     "iopub.execute_input": "2022-03-08T20:21:25.569697Z",
     "iopub.status.busy": "2022-03-08T20:21:25.569303Z",
     "iopub.status.idle": "2022-03-08T20:21:25.570704Z",
     "shell.execute_reply": "2022-03-08T20:21:25.570953Z"
    },
    "papermill": {
     "duration": 0.010215,
     "end_time": "2022-03-08T20:21:25.571059",
     "exception": false,
     "start_time": "2022-03-08T20:21:25.560844",
     "status": "completed"
    },
    "tags": [
     "injected-parameters"
    ]
   },
   "outputs": [],
   "source": [
    "# Parameters\n",
    "variance = 0.1\n",
    "bias = 0.01\n"
   ]
  },
  {
   "cell_type": "markdown",
   "id": "391cdbfd",
   "metadata": {
    "id": "391cdbfd",
    "papermill": {
     "duration": 0.00692,
     "end_time": "2022-03-08T20:21:25.584990",
     "exception": false,
     "start_time": "2022-03-08T20:21:25.578070",
     "status": "completed"
    },
    "tags": []
   },
   "source": [
    "## Dataset \n"
   ]
  },
  {
   "cell_type": "code",
   "execution_count": 5,
   "id": "5b51f161",
   "metadata": {
    "execution": {
     "iopub.execute_input": "2022-03-08T20:21:25.600737Z",
     "iopub.status.busy": "2022-03-08T20:21:25.600375Z",
     "iopub.status.idle": "2022-03-08T20:21:25.601696Z",
     "shell.execute_reply": "2022-03-08T20:21:25.601935Z"
    },
    "id": "5b51f161",
    "papermill": {
     "duration": 0.010088,
     "end_time": "2022-03-08T20:21:25.602056",
     "exception": false,
     "start_time": "2022-03-08T20:21:25.591968",
     "status": "completed"
    },
    "tags": []
   },
   "outputs": [],
   "source": [
    "#Parameters \n",
    "n_features = 5\n",
    "n_samples= 100\n",
    "n_target = 1 "
   ]
  },
  {
   "cell_type": "code",
   "execution_count": 6,
   "id": "5d6eced4",
   "metadata": {
    "execution": {
     "iopub.execute_input": "2022-03-08T20:21:25.618359Z",
     "iopub.status.busy": "2022-03-08T20:21:25.617793Z",
     "iopub.status.idle": "2022-03-08T20:21:25.624055Z",
     "shell.execute_reply": "2022-03-08T20:21:25.624297Z"
    },
    "id": "5d6eced4",
    "papermill": {
     "duration": 0.015254,
     "end_time": "2022-03-08T20:21:25.624404",
     "exception": false,
     "start_time": "2022-03-08T20:21:25.609150",
     "status": "completed"
    },
    "tags": []
   },
   "outputs": [
    {
     "name": "stdout",
     "output_type": "stream",
     "text": [
      "         X0        X1        X2        X3        X4         Y\n",
      "0 -0.484952  1.843623  1.131710  1.096860 -0.066073  1.301579\n",
      "1 -0.244167 -0.919280  0.180495  0.951567  0.624688 -0.131254\n",
      "2 -0.146999  1.617436  0.000672  0.885131 -1.362382  0.556360\n",
      "3 -0.551716  1.792425  1.398378  1.012715 -1.015510  1.099266\n",
      "4  1.706053 -0.883436  0.427390 -1.273279  0.892189 -0.600626\n"
     ]
    }
   ],
   "source": [
    "X,Y = friedman1Dataset.friedman1_data(n_samples,n_features)"
   ]
  },
  {
   "cell_type": "code",
   "execution_count": 7,
   "id": "fe007438",
   "metadata": {
    "execution": {
     "iopub.execute_input": "2022-03-08T20:21:25.641786Z",
     "iopub.status.busy": "2022-03-08T20:21:25.641418Z",
     "iopub.status.idle": "2022-03-08T20:21:25.642889Z",
     "shell.execute_reply": "2022-03-08T20:21:25.643118Z"
    },
    "id": "fe007438",
    "papermill": {
     "duration": 0.011335,
     "end_time": "2022-03-08T20:21:25.643221",
     "exception": false,
     "start_time": "2022-03-08T20:21:25.631886",
     "status": "completed"
    },
    "tags": []
   },
   "outputs": [],
   "source": [
    "#Train test split for dataset \n",
    "X_train,X_test,Y_train,Y_test = train_test_split(X,Y,test_size = 0.2)\n",
    "train_data = dataset.CustomDataset(X_train,Y_train)\n",
    "test_data = dataset.CustomDataset(X_test,Y_test)\n"
   ]
  },
  {
   "cell_type": "markdown",
   "id": "a9a1af34",
   "metadata": {
    "id": "a9a1af34",
    "papermill": {
     "duration": 0.007202,
     "end_time": "2022-03-08T20:21:25.657708",
     "exception": false,
     "start_time": "2022-03-08T20:21:25.650506",
     "status": "completed"
    },
    "tags": []
   },
   "source": [
    "## Training Parameters "
   ]
  },
  {
   "cell_type": "code",
   "execution_count": 8,
   "id": "952b7fc8",
   "metadata": {
    "execution": {
     "iopub.execute_input": "2022-03-08T20:21:25.674379Z",
     "iopub.status.busy": "2022-03-08T20:21:25.674017Z",
     "iopub.status.idle": "2022-03-08T20:21:25.675422Z",
     "shell.execute_reply": "2022-03-08T20:21:25.675672Z"
    },
    "id": "952b7fc8",
    "papermill": {
     "duration": 0.010882,
     "end_time": "2022-03-08T20:21:25.675776",
     "exception": false,
     "start_time": "2022-03-08T20:21:25.664894",
     "status": "completed"
    },
    "tags": []
   },
   "outputs": [],
   "source": [
    "batch_size = 32\n",
    "n_epochs = 1000\n",
    "#Select the device \n",
    "device = torch.device('cuda' if torch.cuda.is_available() else 'cpu')"
   ]
  },
  {
   "cell_type": "markdown",
   "id": "a95e1600",
   "metadata": {
    "id": "a95e1600",
    "papermill": {
     "duration": 0.007213,
     "end_time": "2022-03-08T20:21:25.690286",
     "exception": false,
     "start_time": "2022-03-08T20:21:25.683073",
     "status": "completed"
    },
    "tags": []
   },
   "source": [
    "# ABC Pre-generator Model \n",
    "\n",
    "1. The catboost model is used as a pre-generator model for the ABC-GAN. \n",
    "2. The model is first trained on the entire dataset \n",
    "3. It generats X,Y pairs and we add some Gaussian noise with mean 0 and variance 1 to it which is then feed as input to the generator.\n"
   ]
  },
  {
   "cell_type": "code",
   "execution_count": 9,
   "id": "ff8ce7bd",
   "metadata": {
    "execution": {
     "iopub.execute_input": "2022-03-08T20:21:25.708288Z",
     "iopub.status.busy": "2022-03-08T20:21:25.707907Z",
     "iopub.status.idle": "2022-03-08T20:21:26.333322Z",
     "shell.execute_reply": "2022-03-08T20:21:26.333686Z"
    },
    "id": "ff8ce7bd",
    "papermill": {
     "duration": 0.636211,
     "end_time": "2022-03-08T20:21:26.333811",
     "exception": false,
     "start_time": "2022-03-08T20:21:25.697600",
     "status": "completed"
    },
    "tags": []
   },
   "outputs": [
    {
     "name": "stdout",
     "output_type": "stream",
     "text": [
      "Learning rate set to 0.024897\n",
      "0:\tlearn: 1.0178341\ttotal: 69.4ms\tremaining: 1m 9s\n",
      "1:\tlearn: 1.0066861\ttotal: 70.2ms\tremaining: 35s\n",
      "2:\tlearn: 0.9943947\ttotal: 70.8ms\tremaining: 23.5s\n",
      "3:\tlearn: 0.9841126\ttotal: 71.4ms\tremaining: 17.8s\n",
      "4:\tlearn: 0.9734416\ttotal: 71.9ms\tremaining: 14.3s\n",
      "5:\tlearn: 0.9635741\ttotal: 72.5ms\tremaining: 12s\n",
      "6:\tlearn: 0.9517391\ttotal: 73ms\tremaining: 10.4s\n",
      "7:\tlearn: 0.9428952\ttotal: 73.5ms\tremaining: 9.12s\n",
      "8:\tlearn: 0.9334188\ttotal: 74.1ms\tremaining: 8.16s\n",
      "9:\tlearn: 0.9231893\ttotal: 74.7ms\tremaining: 7.39s\n",
      "10:\tlearn: 0.9127877\ttotal: 75.1ms\tremaining: 6.76s\n",
      "11:\tlearn: 0.9029689\ttotal: 75.7ms\tremaining: 6.23s\n",
      "12:\tlearn: 0.8932280\ttotal: 76.2ms\tremaining: 5.79s\n",
      "13:\tlearn: 0.8847220\ttotal: 76.8ms\tremaining: 5.41s\n",
      "14:\tlearn: 0.8757330\ttotal: 77.5ms\tremaining: 5.09s\n",
      "15:\tlearn: 0.8665502\ttotal: 78ms\tremaining: 4.8s\n",
      "16:\tlearn: 0.8580984\ttotal: 78.5ms\tremaining: 4.54s\n",
      "17:\tlearn: 0.8498483\ttotal: 79ms\tremaining: 4.31s\n",
      "18:\tlearn: 0.8414642\ttotal: 79.4ms\tremaining: 4.1s\n",
      "19:\tlearn: 0.8331514\ttotal: 79.9ms\tremaining: 3.92s\n",
      "20:\tlearn: 0.8240073\ttotal: 80.3ms\tremaining: 3.75s\n",
      "21:\tlearn: 0.8153961\ttotal: 80.8ms\tremaining: 3.59s\n",
      "22:\tlearn: 0.8082962\ttotal: 81.4ms\tremaining: 3.46s\n",
      "23:\tlearn: 0.7995993\ttotal: 81.8ms\tremaining: 3.33s\n",
      "24:\tlearn: 0.7905591\ttotal: 82.3ms\tremaining: 3.21s\n",
      "25:\tlearn: 0.7824757\ttotal: 82.7ms\tremaining: 3.1s\n",
      "26:\tlearn: 0.7742053\ttotal: 83.2ms\tremaining: 3s\n",
      "27:\tlearn: 0.7654700\ttotal: 83.6ms\tremaining: 2.9s\n",
      "28:\tlearn: 0.7576974\ttotal: 84.1ms\tremaining: 2.81s\n",
      "29:\tlearn: 0.7494878\ttotal: 84.6ms\tremaining: 2.74s\n",
      "30:\tlearn: 0.7420969\ttotal: 85.2ms\tremaining: 2.66s\n",
      "31:\tlearn: 0.7352066\ttotal: 85.8ms\tremaining: 2.59s\n",
      "32:\tlearn: 0.7269372\ttotal: 86.2ms\tremaining: 2.53s\n",
      "33:\tlearn: 0.7201405\ttotal: 86.7ms\tremaining: 2.46s\n",
      "34:\tlearn: 0.7132524\ttotal: 87.2ms\tremaining: 2.4s\n",
      "35:\tlearn: 0.7081602\ttotal: 87.6ms\tremaining: 2.35s\n",
      "36:\tlearn: 0.7013254\ttotal: 88.1ms\tremaining: 2.29s\n",
      "37:\tlearn: 0.6945865\ttotal: 88.6ms\tremaining: 2.24s\n",
      "38:\tlearn: 0.6872504\ttotal: 89.1ms\tremaining: 2.2s\n",
      "39:\tlearn: 0.6806668\ttotal: 89.5ms\tremaining: 2.15s\n",
      "40:\tlearn: 0.6750280\ttotal: 90ms\tremaining: 2.1s\n",
      "41:\tlearn: 0.6685320\ttotal: 90.5ms\tremaining: 2.06s\n",
      "42:\tlearn: 0.6627300\ttotal: 90.9ms\tremaining: 2.02s\n",
      "43:\tlearn: 0.6558897\ttotal: 91.4ms\tremaining: 1.99s\n",
      "44:\tlearn: 0.6485147\ttotal: 91.9ms\tremaining: 1.95s\n",
      "45:\tlearn: 0.6424509\ttotal: 92.4ms\tremaining: 1.92s\n",
      "46:\tlearn: 0.6378731\ttotal: 92.8ms\tremaining: 1.88s\n",
      "47:\tlearn: 0.6313977\ttotal: 93.2ms\tremaining: 1.85s\n",
      "48:\tlearn: 0.6258039\ttotal: 93.6ms\tremaining: 1.81s\n",
      "49:\tlearn: 0.6193384\ttotal: 94ms\tremaining: 1.78s\n",
      "50:\tlearn: 0.6135729\ttotal: 94.5ms\tremaining: 1.76s\n",
      "51:\tlearn: 0.6075435\ttotal: 94.9ms\tremaining: 1.73s\n",
      "52:\tlearn: 0.6016630\ttotal: 95.3ms\tremaining: 1.7s\n",
      "53:\tlearn: 0.5960332\ttotal: 95.7ms\tremaining: 1.68s\n",
      "54:\tlearn: 0.5898734\ttotal: 96.1ms\tremaining: 1.65s\n",
      "55:\tlearn: 0.5838525\ttotal: 96.5ms\tremaining: 1.63s\n",
      "56:\tlearn: 0.5782207\ttotal: 96.9ms\tremaining: 1.6s\n",
      "57:\tlearn: 0.5726380\ttotal: 97.4ms\tremaining: 1.58s\n",
      "58:\tlearn: 0.5678329\ttotal: 97.8ms\tremaining: 1.56s\n",
      "59:\tlearn: 0.5635737\ttotal: 98.1ms\tremaining: 1.54s\n",
      "60:\tlearn: 0.5582356\ttotal: 98.5ms\tremaining: 1.52s\n",
      "61:\tlearn: 0.5530675\ttotal: 99ms\tremaining: 1.5s\n",
      "62:\tlearn: 0.5477355\ttotal: 99.5ms\tremaining: 1.48s\n",
      "63:\tlearn: 0.5426081\ttotal: 99.9ms\tremaining: 1.46s\n",
      "64:\tlearn: 0.5381099\ttotal: 100ms\tremaining: 1.44s\n",
      "65:\tlearn: 0.5333911\ttotal: 101ms\tremaining: 1.43s\n",
      "66:\tlearn: 0.5276270\ttotal: 101ms\tremaining: 1.41s\n",
      "67:\tlearn: 0.5228323\ttotal: 103ms\tremaining: 1.41s\n",
      "68:\tlearn: 0.5177254\ttotal: 103ms\tremaining: 1.39s\n",
      "69:\tlearn: 0.5131339\ttotal: 103ms\tremaining: 1.37s\n",
      "70:\tlearn: 0.5082367\ttotal: 104ms\tremaining: 1.36s\n",
      "71:\tlearn: 0.5034092\ttotal: 104ms\tremaining: 1.34s\n",
      "72:\tlearn: 0.4987131\ttotal: 105ms\tremaining: 1.33s\n",
      "73:\tlearn: 0.4941660\ttotal: 105ms\tremaining: 1.31s\n",
      "74:\tlearn: 0.4898671\ttotal: 106ms\tremaining: 1.3s\n",
      "75:\tlearn: 0.4850254\ttotal: 106ms\tremaining: 1.29s\n",
      "76:\tlearn: 0.4804098\ttotal: 107ms\tremaining: 1.28s\n",
      "77:\tlearn: 0.4769876\ttotal: 107ms\tremaining: 1.26s\n"
     ]
    },
    {
     "name": "stdout",
     "output_type": "stream",
     "text": [
      "78:\tlearn: 0.4731357\ttotal: 107ms\tremaining: 1.25s\n",
      "79:\tlearn: 0.4688062\ttotal: 108ms\tremaining: 1.24s\n",
      "80:\tlearn: 0.4643723\ttotal: 108ms\tremaining: 1.23s\n",
      "81:\tlearn: 0.4602832\ttotal: 109ms\tremaining: 1.22s\n",
      "82:\tlearn: 0.4563810\ttotal: 109ms\tremaining: 1.21s\n",
      "83:\tlearn: 0.4529961\ttotal: 110ms\tremaining: 1.2s\n",
      "84:\tlearn: 0.4489740\ttotal: 110ms\tremaining: 1.19s\n",
      "85:\tlearn: 0.4452016\ttotal: 111ms\tremaining: 1.18s\n",
      "86:\tlearn: 0.4415900\ttotal: 111ms\tremaining: 1.17s\n",
      "87:\tlearn: 0.4381557\ttotal: 112ms\tremaining: 1.16s\n",
      "88:\tlearn: 0.4341004\ttotal: 112ms\tremaining: 1.15s\n",
      "89:\tlearn: 0.4309807\ttotal: 113ms\tremaining: 1.14s\n",
      "90:\tlearn: 0.4270527\ttotal: 113ms\tremaining: 1.13s\n",
      "91:\tlearn: 0.4228195\ttotal: 113ms\tremaining: 1.12s\n",
      "92:\tlearn: 0.4192117\ttotal: 114ms\tremaining: 1.11s\n",
      "93:\tlearn: 0.4158864\ttotal: 114ms\tremaining: 1.1s\n",
      "94:\tlearn: 0.4115986\ttotal: 115ms\tremaining: 1.09s\n",
      "95:\tlearn: 0.4081038\ttotal: 115ms\tremaining: 1.09s\n",
      "96:\tlearn: 0.4046260\ttotal: 116ms\tremaining: 1.08s\n",
      "97:\tlearn: 0.4016064\ttotal: 116ms\tremaining: 1.07s\n",
      "98:\tlearn: 0.3976508\ttotal: 117ms\tremaining: 1.06s\n",
      "99:\tlearn: 0.3943851\ttotal: 117ms\tremaining: 1.05s\n",
      "100:\tlearn: 0.3910356\ttotal: 117ms\tremaining: 1.04s\n",
      "101:\tlearn: 0.3877485\ttotal: 118ms\tremaining: 1.04s\n",
      "102:\tlearn: 0.3845238\ttotal: 118ms\tremaining: 1.03s\n",
      "103:\tlearn: 0.3815090\ttotal: 119ms\tremaining: 1.02s\n",
      "104:\tlearn: 0.3783164\ttotal: 119ms\tremaining: 1.02s\n",
      "105:\tlearn: 0.3752827\ttotal: 121ms\tremaining: 1.02s\n",
      "106:\tlearn: 0.3725211\ttotal: 121ms\tremaining: 1.01s\n",
      "107:\tlearn: 0.3687657\ttotal: 121ms\tremaining: 1s\n",
      "108:\tlearn: 0.3657013\ttotal: 122ms\tremaining: 996ms\n",
      "109:\tlearn: 0.3622645\ttotal: 122ms\tremaining: 989ms\n",
      "110:\tlearn: 0.3589652\ttotal: 123ms\tremaining: 983ms\n",
      "111:\tlearn: 0.3556464\ttotal: 123ms\tremaining: 977ms\n",
      "112:\tlearn: 0.3526106\ttotal: 124ms\tremaining: 977ms\n",
      "113:\tlearn: 0.3497950\ttotal: 125ms\tremaining: 971ms\n",
      "114:\tlearn: 0.3464357\ttotal: 125ms\tremaining: 965ms\n",
      "115:\tlearn: 0.3433747\ttotal: 126ms\tremaining: 959ms\n",
      "116:\tlearn: 0.3405640\ttotal: 126ms\tremaining: 952ms\n",
      "117:\tlearn: 0.3378938\ttotal: 127ms\tremaining: 947ms\n",
      "118:\tlearn: 0.3351474\ttotal: 127ms\tremaining: 942ms\n",
      "119:\tlearn: 0.3328162\ttotal: 128ms\tremaining: 937ms\n",
      "120:\tlearn: 0.3298837\ttotal: 128ms\tremaining: 931ms\n",
      "121:\tlearn: 0.3273687\ttotal: 129ms\tremaining: 925ms\n",
      "122:\tlearn: 0.3242167\ttotal: 129ms\tremaining: 920ms\n",
      "123:\tlearn: 0.3215428\ttotal: 130ms\tremaining: 915ms\n",
      "124:\tlearn: 0.3191865\ttotal: 130ms\tremaining: 910ms\n",
      "125:\tlearn: 0.3168994\ttotal: 130ms\tremaining: 905ms\n",
      "126:\tlearn: 0.3140931\ttotal: 131ms\tremaining: 900ms\n",
      "127:\tlearn: 0.3117274\ttotal: 131ms\tremaining: 895ms\n",
      "128:\tlearn: 0.3092253\ttotal: 132ms\tremaining: 891ms\n",
      "129:\tlearn: 0.3065160\ttotal: 132ms\tremaining: 886ms\n",
      "130:\tlearn: 0.3042500\ttotal: 133ms\tremaining: 882ms\n",
      "131:\tlearn: 0.3016624\ttotal: 133ms\tremaining: 878ms\n",
      "132:\tlearn: 0.2992614\ttotal: 134ms\tremaining: 873ms\n",
      "133:\tlearn: 0.2965212\ttotal: 134ms\tremaining: 868ms\n",
      "134:\tlearn: 0.2943459\ttotal: 135ms\tremaining: 864ms\n",
      "135:\tlearn: 0.2920949\ttotal: 135ms\tremaining: 860ms\n",
      "136:\tlearn: 0.2897853\ttotal: 136ms\tremaining: 856ms\n",
      "137:\tlearn: 0.2874868\ttotal: 136ms\tremaining: 852ms\n",
      "138:\tlearn: 0.2852400\ttotal: 137ms\tremaining: 848ms\n",
      "139:\tlearn: 0.2827391\ttotal: 137ms\tremaining: 843ms\n",
      "140:\tlearn: 0.2802220\ttotal: 138ms\tremaining: 839ms\n",
      "141:\tlearn: 0.2782799\ttotal: 138ms\tremaining: 835ms\n",
      "142:\tlearn: 0.2758151\ttotal: 139ms\tremaining: 830ms\n",
      "143:\tlearn: 0.2734841\ttotal: 139ms\tremaining: 826ms\n",
      "144:\tlearn: 0.2716516\ttotal: 139ms\tremaining: 822ms\n",
      "145:\tlearn: 0.2693388\ttotal: 140ms\tremaining: 819ms\n",
      "146:\tlearn: 0.2670940\ttotal: 140ms\tremaining: 815ms\n",
      "147:\tlearn: 0.2646992\ttotal: 141ms\tremaining: 812ms\n",
      "148:\tlearn: 0.2625603\ttotal: 142ms\tremaining: 808ms\n",
      "149:\tlearn: 0.2604442\ttotal: 142ms\tremaining: 806ms\n",
      "150:\tlearn: 0.2582323\ttotal: 143ms\tremaining: 802ms\n",
      "151:\tlearn: 0.2560143\ttotal: 143ms\tremaining: 798ms\n",
      "152:\tlearn: 0.2544769\ttotal: 143ms\tremaining: 794ms\n",
      "153:\tlearn: 0.2524450\ttotal: 144ms\tremaining: 791ms\n",
      "154:\tlearn: 0.2504155\ttotal: 144ms\tremaining: 788ms\n",
      "155:\tlearn: 0.2481649\ttotal: 145ms\tremaining: 785ms\n",
      "156:\tlearn: 0.2460678\ttotal: 146ms\tremaining: 781ms\n",
      "157:\tlearn: 0.2443237\ttotal: 146ms\tremaining: 779ms\n",
      "158:\tlearn: 0.2424820\ttotal: 147ms\tremaining: 776ms\n",
      "159:\tlearn: 0.2406031\ttotal: 147ms\tremaining: 772ms\n",
      "160:\tlearn: 0.2388323\ttotal: 148ms\tremaining: 770ms\n",
      "161:\tlearn: 0.2369816\ttotal: 148ms\tremaining: 766ms\n",
      "162:\tlearn: 0.2350237\ttotal: 149ms\tremaining: 763ms\n",
      "163:\tlearn: 0.2330684\ttotal: 149ms\tremaining: 760ms\n",
      "164:\tlearn: 0.2313482\ttotal: 150ms\tremaining: 757ms\n",
      "165:\tlearn: 0.2294658\ttotal: 150ms\tremaining: 755ms\n",
      "166:\tlearn: 0.2276289\ttotal: 151ms\tremaining: 752ms\n",
      "167:\tlearn: 0.2259333\ttotal: 151ms\tremaining: 750ms\n",
      "168:\tlearn: 0.2241490\ttotal: 152ms\tremaining: 747ms\n",
      "169:\tlearn: 0.2223771\ttotal: 153ms\tremaining: 745ms\n",
      "170:\tlearn: 0.2204089\ttotal: 153ms\tremaining: 743ms\n",
      "171:\tlearn: 0.2191702\ttotal: 154ms\tremaining: 740ms\n",
      "172:\tlearn: 0.2176569\ttotal: 154ms\tremaining: 738ms\n",
      "173:\tlearn: 0.2159502\ttotal: 155ms\tremaining: 736ms\n",
      "174:\tlearn: 0.2142364\ttotal: 156ms\tremaining: 733ms\n",
      "175:\tlearn: 0.2127454\ttotal: 156ms\tremaining: 731ms\n",
      "176:\tlearn: 0.2110960\ttotal: 157ms\tremaining: 728ms\n",
      "177:\tlearn: 0.2094484\ttotal: 157ms\tremaining: 726ms\n",
      "178:\tlearn: 0.2075787\ttotal: 158ms\tremaining: 724ms\n",
      "179:\tlearn: 0.2058052\ttotal: 158ms\tremaining: 721ms\n",
      "180:\tlearn: 0.2043317\ttotal: 159ms\tremaining: 718ms\n",
      "181:\tlearn: 0.2028056\ttotal: 159ms\tremaining: 715ms\n",
      "182:\tlearn: 0.2012015\ttotal: 160ms\tremaining: 713ms\n",
      "183:\tlearn: 0.1996294\ttotal: 160ms\tremaining: 710ms\n",
      "184:\tlearn: 0.1981338\ttotal: 161ms\tremaining: 707ms\n",
      "185:\tlearn: 0.1967243\ttotal: 161ms\tremaining: 705ms\n",
      "186:\tlearn: 0.1951485\ttotal: 162ms\tremaining: 703ms\n",
      "187:\tlearn: 0.1936749\ttotal: 162ms\tremaining: 700ms\n",
      "188:\tlearn: 0.1922388\ttotal: 163ms\tremaining: 698ms\n",
      "189:\tlearn: 0.1906023\ttotal: 163ms\tremaining: 695ms\n",
      "190:\tlearn: 0.1892155\ttotal: 164ms\tremaining: 693ms\n",
      "191:\tlearn: 0.1877873\ttotal: 164ms\tremaining: 690ms\n",
      "192:\tlearn: 0.1862151\ttotal: 165ms\tremaining: 689ms\n",
      "193:\tlearn: 0.1847025\ttotal: 165ms\tremaining: 686ms\n",
      "194:\tlearn: 0.1831938\ttotal: 166ms\tremaining: 684ms\n",
      "195:\tlearn: 0.1817237\ttotal: 166ms\tremaining: 682ms\n",
      "196:\tlearn: 0.1802783\ttotal: 167ms\tremaining: 680ms\n",
      "197:\tlearn: 0.1787496\ttotal: 167ms\tremaining: 678ms\n",
      "198:\tlearn: 0.1774469\ttotal: 168ms\tremaining: 677ms\n",
      "199:\tlearn: 0.1759354\ttotal: 169ms\tremaining: 674ms\n",
      "200:\tlearn: 0.1746471\ttotal: 169ms\tremaining: 672ms\n",
      "201:\tlearn: 0.1734004\ttotal: 170ms\tremaining: 670ms\n",
      "202:\tlearn: 0.1722049\ttotal: 170ms\tremaining: 668ms\n",
      "203:\tlearn: 0.1708165\ttotal: 171ms\tremaining: 666ms\n",
      "204:\tlearn: 0.1695250\ttotal: 171ms\tremaining: 663ms\n",
      "205:\tlearn: 0.1682671\ttotal: 171ms\tremaining: 661ms\n",
      "206:\tlearn: 0.1671543\ttotal: 172ms\tremaining: 659ms\n",
      "207:\tlearn: 0.1659239\ttotal: 173ms\tremaining: 657ms\n",
      "208:\tlearn: 0.1646366\ttotal: 173ms\tremaining: 655ms\n",
      "209:\tlearn: 0.1633627\ttotal: 174ms\tremaining: 653ms\n",
      "210:\tlearn: 0.1621446\ttotal: 174ms\tremaining: 652ms\n",
      "211:\tlearn: 0.1608847\ttotal: 175ms\tremaining: 650ms\n",
      "212:\tlearn: 0.1596819\ttotal: 175ms\tremaining: 648ms\n",
      "213:\tlearn: 0.1584681\ttotal: 176ms\tremaining: 647ms\n",
      "214:\tlearn: 0.1572382\ttotal: 177ms\tremaining: 644ms\n",
      "215:\tlearn: 0.1558953\ttotal: 177ms\tremaining: 642ms\n",
      "216:\tlearn: 0.1549242\ttotal: 178ms\tremaining: 641ms\n",
      "217:\tlearn: 0.1536740\ttotal: 178ms\tremaining: 639ms\n",
      "218:\tlearn: 0.1524733\ttotal: 179ms\tremaining: 637ms\n",
      "219:\tlearn: 0.1513964\ttotal: 179ms\tremaining: 635ms\n",
      "220:\tlearn: 0.1502455\ttotal: 180ms\tremaining: 633ms\n",
      "221:\tlearn: 0.1490447\ttotal: 180ms\tremaining: 631ms\n",
      "222:\tlearn: 0.1480548\ttotal: 180ms\tremaining: 629ms\n",
      "223:\tlearn: 0.1469125\ttotal: 181ms\tremaining: 627ms\n",
      "224:\tlearn: 0.1458471\ttotal: 181ms\tremaining: 625ms\n",
      "225:\tlearn: 0.1447396\ttotal: 182ms\tremaining: 622ms\n",
      "226:\tlearn: 0.1435525\ttotal: 182ms\tremaining: 620ms\n",
      "227:\tlearn: 0.1425013\ttotal: 183ms\tremaining: 618ms\n",
      "228:\tlearn: 0.1414728\ttotal: 183ms\tremaining: 616ms\n",
      "229:\tlearn: 0.1402814\ttotal: 183ms\tremaining: 614ms\n",
      "230:\tlearn: 0.1392656\ttotal: 184ms\tremaining: 612ms\n",
      "231:\tlearn: 0.1382723\ttotal: 184ms\tremaining: 611ms\n",
      "232:\tlearn: 0.1370585\ttotal: 185ms\tremaining: 609ms\n",
      "233:\tlearn: 0.1360812\ttotal: 185ms\tremaining: 607ms\n",
      "234:\tlearn: 0.1351768\ttotal: 186ms\tremaining: 605ms\n",
      "235:\tlearn: 0.1341077\ttotal: 186ms\tremaining: 603ms\n",
      "236:\tlearn: 0.1330404\ttotal: 187ms\tremaining: 601ms\n",
      "237:\tlearn: 0.1322540\ttotal: 187ms\tremaining: 600ms\n"
     ]
    },
    {
     "name": "stdout",
     "output_type": "stream",
     "text": [
      "238:\tlearn: 0.1313287\ttotal: 188ms\tremaining: 598ms\n",
      "239:\tlearn: 0.1306257\ttotal: 189ms\tremaining: 597ms\n",
      "240:\tlearn: 0.1296205\ttotal: 189ms\tremaining: 596ms\n",
      "241:\tlearn: 0.1286790\ttotal: 190ms\tremaining: 594ms\n",
      "242:\tlearn: 0.1277345\ttotal: 190ms\tremaining: 593ms\n",
      "243:\tlearn: 0.1268862\ttotal: 191ms\tremaining: 591ms\n",
      "244:\tlearn: 0.1259635\ttotal: 191ms\tremaining: 590ms\n",
      "245:\tlearn: 0.1250849\ttotal: 192ms\tremaining: 588ms\n",
      "246:\tlearn: 0.1241267\ttotal: 192ms\tremaining: 587ms\n",
      "247:\tlearn: 0.1231765\ttotal: 193ms\tremaining: 585ms\n",
      "248:\tlearn: 0.1221965\ttotal: 194ms\tremaining: 584ms\n",
      "249:\tlearn: 0.1214721\ttotal: 194ms\tremaining: 582ms\n",
      "250:\tlearn: 0.1206230\ttotal: 195ms\tremaining: 581ms\n",
      "251:\tlearn: 0.1197633\ttotal: 195ms\tremaining: 579ms\n",
      "252:\tlearn: 0.1188970\ttotal: 196ms\tremaining: 578ms\n",
      "253:\tlearn: 0.1180701\ttotal: 196ms\tremaining: 576ms\n",
      "254:\tlearn: 0.1172943\ttotal: 197ms\tremaining: 574ms\n",
      "255:\tlearn: 0.1165504\ttotal: 197ms\tremaining: 573ms\n",
      "256:\tlearn: 0.1159543\ttotal: 198ms\tremaining: 571ms\n",
      "257:\tlearn: 0.1151714\ttotal: 198ms\tremaining: 570ms\n",
      "258:\tlearn: 0.1143514\ttotal: 199ms\tremaining: 568ms\n",
      "259:\tlearn: 0.1136995\ttotal: 199ms\tremaining: 567ms\n",
      "260:\tlearn: 0.1130720\ttotal: 200ms\tremaining: 566ms\n",
      "261:\tlearn: 0.1123703\ttotal: 200ms\tremaining: 564ms\n",
      "262:\tlearn: 0.1117302\ttotal: 201ms\tremaining: 563ms\n",
      "263:\tlearn: 0.1109769\ttotal: 201ms\tremaining: 561ms\n",
      "264:\tlearn: 0.1102666\ttotal: 202ms\tremaining: 559ms\n",
      "265:\tlearn: 0.1096280\ttotal: 202ms\tremaining: 558ms\n",
      "266:\tlearn: 0.1091284\ttotal: 203ms\tremaining: 557ms\n",
      "267:\tlearn: 0.1085708\ttotal: 203ms\tremaining: 555ms\n",
      "268:\tlearn: 0.1077520\ttotal: 204ms\tremaining: 553ms\n",
      "269:\tlearn: 0.1069963\ttotal: 204ms\tremaining: 552ms\n",
      "270:\tlearn: 0.1062369\ttotal: 205ms\tremaining: 551ms\n",
      "271:\tlearn: 0.1056006\ttotal: 205ms\tremaining: 549ms\n",
      "272:\tlearn: 0.1049175\ttotal: 206ms\tremaining: 548ms\n",
      "273:\tlearn: 0.1044208\ttotal: 206ms\tremaining: 546ms\n",
      "274:\tlearn: 0.1039123\ttotal: 207ms\tremaining: 545ms\n",
      "275:\tlearn: 0.1034130\ttotal: 207ms\tremaining: 543ms\n",
      "276:\tlearn: 0.1026745\ttotal: 208ms\tremaining: 542ms\n",
      "277:\tlearn: 0.1021194\ttotal: 208ms\tremaining: 541ms\n",
      "278:\tlearn: 0.1014338\ttotal: 209ms\tremaining: 539ms\n",
      "279:\tlearn: 0.1008524\ttotal: 209ms\tremaining: 538ms\n",
      "280:\tlearn: 0.1001219\ttotal: 210ms\tremaining: 536ms\n",
      "281:\tlearn: 0.0996735\ttotal: 210ms\tremaining: 535ms\n",
      "282:\tlearn: 0.0989775\ttotal: 211ms\tremaining: 534ms\n",
      "283:\tlearn: 0.0985234\ttotal: 211ms\tremaining: 532ms\n",
      "284:\tlearn: 0.0980372\ttotal: 212ms\tremaining: 531ms\n",
      "285:\tlearn: 0.0973616\ttotal: 212ms\tremaining: 530ms\n",
      "286:\tlearn: 0.0971004\ttotal: 213ms\tremaining: 528ms\n",
      "287:\tlearn: 0.0966494\ttotal: 213ms\tremaining: 527ms\n",
      "288:\tlearn: 0.0960066\ttotal: 214ms\tremaining: 526ms\n",
      "289:\tlearn: 0.0955333\ttotal: 214ms\tremaining: 525ms\n",
      "290:\tlearn: 0.0951195\ttotal: 215ms\tremaining: 524ms\n",
      "291:\tlearn: 0.0944280\ttotal: 215ms\tremaining: 522ms\n",
      "292:\tlearn: 0.0939491\ttotal: 216ms\tremaining: 521ms\n",
      "293:\tlearn: 0.0935522\ttotal: 216ms\tremaining: 519ms\n",
      "294:\tlearn: 0.0931088\ttotal: 217ms\tremaining: 518ms\n",
      "295:\tlearn: 0.0926514\ttotal: 217ms\tremaining: 517ms\n",
      "296:\tlearn: 0.0921935\ttotal: 218ms\tremaining: 516ms\n",
      "297:\tlearn: 0.0919709\ttotal: 218ms\tremaining: 514ms\n",
      "298:\tlearn: 0.0917289\ttotal: 219ms\tremaining: 513ms\n",
      "299:\tlearn: 0.0911331\ttotal: 219ms\tremaining: 512ms\n",
      "300:\tlearn: 0.0907070\ttotal: 220ms\tremaining: 511ms\n",
      "301:\tlearn: 0.0903016\ttotal: 221ms\tremaining: 510ms\n",
      "302:\tlearn: 0.0898704\ttotal: 221ms\tremaining: 509ms\n",
      "303:\tlearn: 0.0892472\ttotal: 222ms\tremaining: 508ms\n",
      "304:\tlearn: 0.0888205\ttotal: 222ms\tremaining: 506ms\n",
      "305:\tlearn: 0.0884173\ttotal: 223ms\tremaining: 505ms\n",
      "306:\tlearn: 0.0880108\ttotal: 223ms\tremaining: 504ms\n",
      "307:\tlearn: 0.0877841\ttotal: 224ms\tremaining: 503ms\n",
      "308:\tlearn: 0.0874590\ttotal: 224ms\tremaining: 502ms\n",
      "309:\tlearn: 0.0868406\ttotal: 225ms\tremaining: 501ms\n",
      "310:\tlearn: 0.0864545\ttotal: 225ms\tremaining: 499ms\n",
      "311:\tlearn: 0.0859508\ttotal: 226ms\tremaining: 498ms\n",
      "312:\tlearn: 0.0853752\ttotal: 226ms\tremaining: 497ms\n",
      "313:\tlearn: 0.0849953\ttotal: 227ms\tremaining: 495ms\n",
      "314:\tlearn: 0.0844023\ttotal: 227ms\tremaining: 494ms\n",
      "315:\tlearn: 0.0842003\ttotal: 228ms\tremaining: 493ms\n",
      "316:\tlearn: 0.0838152\ttotal: 228ms\tremaining: 492ms\n",
      "317:\tlearn: 0.0835488\ttotal: 229ms\tremaining: 490ms\n",
      "318:\tlearn: 0.0829986\ttotal: 229ms\tremaining: 489ms\n",
      "319:\tlearn: 0.0824525\ttotal: 229ms\tremaining: 488ms\n",
      "320:\tlearn: 0.0821081\ttotal: 230ms\tremaining: 486ms\n",
      "321:\tlearn: 0.0819043\ttotal: 230ms\tremaining: 485ms\n",
      "322:\tlearn: 0.0817164\ttotal: 231ms\tremaining: 485ms\n",
      "323:\tlearn: 0.0813525\ttotal: 232ms\tremaining: 484ms\n",
      "324:\tlearn: 0.0811685\ttotal: 232ms\tremaining: 482ms\n",
      "325:\tlearn: 0.0809644\ttotal: 233ms\tremaining: 481ms\n",
      "326:\tlearn: 0.0806853\ttotal: 233ms\tremaining: 480ms\n",
      "327:\tlearn: 0.0804919\ttotal: 234ms\tremaining: 479ms\n",
      "328:\tlearn: 0.0800330\ttotal: 234ms\tremaining: 477ms\n",
      "329:\tlearn: 0.0796901\ttotal: 234ms\tremaining: 476ms\n",
      "330:\tlearn: 0.0795413\ttotal: 235ms\tremaining: 475ms\n",
      "331:\tlearn: 0.0793551\ttotal: 235ms\tremaining: 474ms\n",
      "332:\tlearn: 0.0788528\ttotal: 236ms\tremaining: 473ms\n",
      "333:\tlearn: 0.0784952\ttotal: 236ms\tremaining: 471ms\n",
      "334:\tlearn: 0.0780846\ttotal: 237ms\tremaining: 470ms\n",
      "335:\tlearn: 0.0779088\ttotal: 237ms\tremaining: 469ms\n",
      "336:\tlearn: 0.0775854\ttotal: 238ms\tremaining: 468ms\n",
      "337:\tlearn: 0.0770535\ttotal: 238ms\tremaining: 467ms\n",
      "338:\tlearn: 0.0768563\ttotal: 239ms\tremaining: 466ms\n",
      "339:\tlearn: 0.0764417\ttotal: 239ms\tremaining: 465ms\n",
      "340:\tlearn: 0.0758701\ttotal: 240ms\tremaining: 464ms\n",
      "341:\tlearn: 0.0754032\ttotal: 241ms\tremaining: 463ms\n",
      "342:\tlearn: 0.0748518\ttotal: 241ms\tremaining: 462ms\n",
      "343:\tlearn: 0.0746617\ttotal: 242ms\tremaining: 461ms\n",
      "344:\tlearn: 0.0741819\ttotal: 242ms\tremaining: 460ms\n",
      "345:\tlearn: 0.0740251\ttotal: 243ms\tremaining: 459ms\n",
      "346:\tlearn: 0.0738700\ttotal: 243ms\tremaining: 458ms\n",
      "347:\tlearn: 0.0733959\ttotal: 244ms\tremaining: 457ms\n",
      "348:\tlearn: 0.0732438\ttotal: 244ms\tremaining: 456ms\n",
      "349:\tlearn: 0.0729408\ttotal: 245ms\tremaining: 455ms\n",
      "350:\tlearn: 0.0724974\ttotal: 245ms\tremaining: 454ms\n",
      "351:\tlearn: 0.0723493\ttotal: 246ms\tremaining: 453ms\n",
      "352:\tlearn: 0.0721919\ttotal: 246ms\tremaining: 452ms\n",
      "353:\tlearn: 0.0720469\ttotal: 247ms\tremaining: 451ms\n",
      "354:\tlearn: 0.0715843\ttotal: 247ms\tremaining: 450ms\n",
      "355:\tlearn: 0.0712123\ttotal: 248ms\tremaining: 448ms\n",
      "356:\tlearn: 0.0710707\ttotal: 248ms\tremaining: 447ms\n",
      "357:\tlearn: 0.0706264\ttotal: 249ms\tremaining: 446ms\n",
      "358:\tlearn: 0.0704874\ttotal: 249ms\tremaining: 445ms\n",
      "359:\tlearn: 0.0699944\ttotal: 250ms\tremaining: 444ms\n",
      "360:\tlearn: 0.0695127\ttotal: 250ms\tremaining: 443ms\n",
      "361:\tlearn: 0.0691888\ttotal: 251ms\tremaining: 442ms\n",
      "362:\tlearn: 0.0687211\ttotal: 252ms\tremaining: 442ms\n",
      "363:\tlearn: 0.0682992\ttotal: 252ms\tremaining: 441ms\n",
      "364:\tlearn: 0.0678861\ttotal: 253ms\tremaining: 440ms\n",
      "365:\tlearn: 0.0675052\ttotal: 253ms\tremaining: 438ms\n",
      "366:\tlearn: 0.0673474\ttotal: 254ms\tremaining: 437ms\n",
      "367:\tlearn: 0.0670453\ttotal: 254ms\tremaining: 436ms\n",
      "368:\tlearn: 0.0669171\ttotal: 254ms\tremaining: 435ms\n",
      "369:\tlearn: 0.0665219\ttotal: 255ms\tremaining: 434ms\n",
      "370:\tlearn: 0.0662584\ttotal: 256ms\tremaining: 433ms\n",
      "371:\tlearn: 0.0661341\ttotal: 256ms\tremaining: 432ms\n",
      "372:\tlearn: 0.0657204\ttotal: 257ms\tremaining: 431ms\n",
      "373:\tlearn: 0.0653156\ttotal: 257ms\tremaining: 430ms\n",
      "374:\tlearn: 0.0650466\ttotal: 258ms\tremaining: 430ms\n",
      "375:\tlearn: 0.0646683\ttotal: 258ms\tremaining: 429ms\n",
      "376:\tlearn: 0.0644822\ttotal: 259ms\tremaining: 428ms\n",
      "377:\tlearn: 0.0641133\ttotal: 259ms\tremaining: 427ms\n",
      "378:\tlearn: 0.0639963\ttotal: 260ms\tremaining: 426ms\n",
      "379:\tlearn: 0.0637198\ttotal: 261ms\tremaining: 425ms\n",
      "380:\tlearn: 0.0633907\ttotal: 261ms\tremaining: 424ms\n",
      "381:\tlearn: 0.0629432\ttotal: 261ms\tremaining: 423ms\n",
      "382:\tlearn: 0.0627064\ttotal: 262ms\tremaining: 422ms\n",
      "383:\tlearn: 0.0624727\ttotal: 262ms\tremaining: 421ms\n",
      "384:\tlearn: 0.0623274\ttotal: 263ms\tremaining: 420ms\n",
      "385:\tlearn: 0.0619321\ttotal: 263ms\tremaining: 419ms\n",
      "386:\tlearn: 0.0615448\ttotal: 264ms\tremaining: 417ms\n",
      "387:\tlearn: 0.0612173\ttotal: 264ms\tremaining: 416ms\n",
      "388:\tlearn: 0.0610861\ttotal: 264ms\tremaining: 415ms\n",
      "389:\tlearn: 0.0609469\ttotal: 265ms\tremaining: 414ms\n",
      "390:\tlearn: 0.0608409\ttotal: 265ms\tremaining: 413ms\n",
      "391:\tlearn: 0.0604668\ttotal: 266ms\tremaining: 413ms\n",
      "392:\tlearn: 0.0603629\ttotal: 266ms\tremaining: 412ms\n",
      "393:\tlearn: 0.0602281\ttotal: 267ms\tremaining: 411ms\n",
      "394:\tlearn: 0.0599489\ttotal: 268ms\tremaining: 410ms\n",
      "395:\tlearn: 0.0595412\ttotal: 268ms\tremaining: 409ms\n",
      "396:\tlearn: 0.0592646\ttotal: 269ms\tremaining: 408ms\n",
      "397:\tlearn: 0.0591481\ttotal: 269ms\tremaining: 407ms\n",
      "398:\tlearn: 0.0590491\ttotal: 270ms\tremaining: 406ms\n",
      "399:\tlearn: 0.0586971\ttotal: 270ms\tremaining: 405ms\n",
      "400:\tlearn: 0.0584898\ttotal: 271ms\tremaining: 404ms\n",
      "401:\tlearn: 0.0582363\ttotal: 271ms\tremaining: 403ms\n",
      "402:\tlearn: 0.0579483\ttotal: 272ms\tremaining: 402ms\n",
      "403:\tlearn: 0.0576835\ttotal: 272ms\tremaining: 401ms\n",
      "404:\tlearn: 0.0574371\ttotal: 273ms\tremaining: 401ms\n",
      "405:\tlearn: 0.0572035\ttotal: 273ms\tremaining: 400ms\n",
      "406:\tlearn: 0.0568974\ttotal: 274ms\tremaining: 399ms\n",
      "407:\tlearn: 0.0566502\ttotal: 274ms\tremaining: 398ms\n",
      "408:\tlearn: 0.0565238\ttotal: 275ms\tremaining: 397ms\n",
      "409:\tlearn: 0.0564181\ttotal: 275ms\tremaining: 396ms\n",
      "410:\tlearn: 0.0561770\ttotal: 276ms\tremaining: 395ms\n",
      "411:\tlearn: 0.0559546\ttotal: 276ms\tremaining: 394ms\n",
      "412:\tlearn: 0.0558335\ttotal: 277ms\tremaining: 393ms\n",
      "413:\tlearn: 0.0555221\ttotal: 277ms\tremaining: 392ms\n",
      "414:\tlearn: 0.0554211\ttotal: 278ms\tremaining: 391ms\n",
      "415:\tlearn: 0.0551902\ttotal: 278ms\tremaining: 390ms\n",
      "416:\tlearn: 0.0550809\ttotal: 279ms\tremaining: 390ms\n",
      "417:\tlearn: 0.0548549\ttotal: 279ms\tremaining: 389ms\n",
      "418:\tlearn: 0.0547575\ttotal: 280ms\tremaining: 388ms\n",
      "419:\tlearn: 0.0545363\ttotal: 280ms\tremaining: 387ms\n",
      "420:\tlearn: 0.0543280\ttotal: 281ms\tremaining: 386ms\n",
      "421:\tlearn: 0.0541375\ttotal: 281ms\tremaining: 385ms\n",
      "422:\tlearn: 0.0539358\ttotal: 282ms\tremaining: 384ms\n",
      "423:\tlearn: 0.0536468\ttotal: 282ms\tremaining: 383ms\n",
      "424:\tlearn: 0.0533770\ttotal: 282ms\tremaining: 382ms\n",
      "425:\tlearn: 0.0532699\ttotal: 283ms\tremaining: 381ms\n",
      "426:\tlearn: 0.0531789\ttotal: 283ms\tremaining: 380ms\n",
      "427:\tlearn: 0.0528420\ttotal: 284ms\tremaining: 379ms\n",
      "428:\tlearn: 0.0526231\ttotal: 284ms\tremaining: 378ms\n",
      "429:\tlearn: 0.0524257\ttotal: 285ms\tremaining: 378ms\n",
      "430:\tlearn: 0.0522108\ttotal: 285ms\tremaining: 377ms\n",
      "431:\tlearn: 0.0518866\ttotal: 286ms\tremaining: 376ms\n",
      "432:\tlearn: 0.0516767\ttotal: 286ms\tremaining: 375ms\n",
      "433:\tlearn: 0.0513598\ttotal: 287ms\tremaining: 374ms\n",
      "434:\tlearn: 0.0511773\ttotal: 287ms\tremaining: 373ms\n",
      "435:\tlearn: 0.0508685\ttotal: 287ms\tremaining: 372ms\n",
      "436:\tlearn: 0.0504923\ttotal: 288ms\tremaining: 371ms\n",
      "437:\tlearn: 0.0502254\ttotal: 289ms\tremaining: 370ms\n",
      "438:\tlearn: 0.0500527\ttotal: 289ms\tremaining: 370ms\n",
      "439:\tlearn: 0.0496925\ttotal: 290ms\tremaining: 369ms\n",
      "440:\tlearn: 0.0494010\ttotal: 290ms\tremaining: 368ms\n",
      "441:\tlearn: 0.0490524\ttotal: 291ms\tremaining: 367ms\n",
      "442:\tlearn: 0.0488766\ttotal: 291ms\tremaining: 366ms\n"
     ]
    },
    {
     "name": "stdout",
     "output_type": "stream",
     "text": [
      "443:\tlearn: 0.0486278\ttotal: 292ms\tremaining: 365ms\n",
      "444:\tlearn: 0.0484670\ttotal: 292ms\tremaining: 364ms\n",
      "445:\tlearn: 0.0482744\ttotal: 293ms\tremaining: 364ms\n",
      "446:\tlearn: 0.0481149\ttotal: 293ms\tremaining: 363ms\n",
      "447:\tlearn: 0.0478967\ttotal: 294ms\tremaining: 362ms\n",
      "448:\tlearn: 0.0477068\ttotal: 294ms\tremaining: 361ms\n",
      "449:\tlearn: 0.0474370\ttotal: 294ms\tremaining: 360ms\n",
      "450:\tlearn: 0.0472836\ttotal: 295ms\tremaining: 359ms\n",
      "451:\tlearn: 0.0470719\ttotal: 295ms\tremaining: 358ms\n",
      "452:\tlearn: 0.0468641\ttotal: 296ms\tremaining: 357ms\n",
      "453:\tlearn: 0.0466009\ttotal: 296ms\tremaining: 357ms\n",
      "454:\tlearn: 0.0463726\ttotal: 297ms\tremaining: 356ms\n",
      "455:\tlearn: 0.0462356\ttotal: 297ms\tremaining: 355ms\n",
      "456:\tlearn: 0.0461006\ttotal: 298ms\tremaining: 354ms\n",
      "457:\tlearn: 0.0459675\ttotal: 298ms\tremaining: 353ms\n",
      "458:\tlearn: 0.0457945\ttotal: 299ms\tremaining: 352ms\n",
      "459:\tlearn: 0.0455964\ttotal: 299ms\tremaining: 351ms\n",
      "460:\tlearn: 0.0453801\ttotal: 300ms\tremaining: 350ms\n",
      "461:\tlearn: 0.0452522\ttotal: 300ms\tremaining: 349ms\n",
      "462:\tlearn: 0.0451261\ttotal: 301ms\tremaining: 349ms\n",
      "463:\tlearn: 0.0449341\ttotal: 301ms\tremaining: 348ms\n",
      "464:\tlearn: 0.0447688\ttotal: 302ms\tremaining: 347ms\n",
      "465:\tlearn: 0.0445814\ttotal: 302ms\tremaining: 346ms\n",
      "466:\tlearn: 0.0444083\ttotal: 303ms\tremaining: 346ms\n",
      "467:\tlearn: 0.0442247\ttotal: 303ms\tremaining: 345ms\n",
      "468:\tlearn: 0.0441052\ttotal: 304ms\tremaining: 344ms\n",
      "469:\tlearn: 0.0439112\ttotal: 304ms\tremaining: 343ms\n",
      "470:\tlearn: 0.0437943\ttotal: 305ms\tremaining: 342ms\n",
      "471:\tlearn: 0.0436169\ttotal: 305ms\tremaining: 342ms\n",
      "472:\tlearn: 0.0434508\ttotal: 306ms\tremaining: 341ms\n",
      "473:\tlearn: 0.0433376\ttotal: 306ms\tremaining: 340ms\n",
      "474:\tlearn: 0.0432244\ttotal: 307ms\tremaining: 339ms\n",
      "475:\tlearn: 0.0430732\ttotal: 307ms\tremaining: 338ms\n",
      "476:\tlearn: 0.0429022\ttotal: 308ms\tremaining: 337ms\n",
      "477:\tlearn: 0.0427902\ttotal: 308ms\tremaining: 337ms\n",
      "478:\tlearn: 0.0426810\ttotal: 309ms\tremaining: 336ms\n",
      "479:\tlearn: 0.0425143\ttotal: 309ms\tremaining: 335ms\n",
      "480:\tlearn: 0.0423568\ttotal: 310ms\tremaining: 334ms\n",
      "481:\tlearn: 0.0421581\ttotal: 310ms\tremaining: 333ms\n",
      "482:\tlearn: 0.0420412\ttotal: 311ms\tremaining: 332ms\n",
      "483:\tlearn: 0.0419361\ttotal: 312ms\tremaining: 332ms\n",
      "484:\tlearn: 0.0417745\ttotal: 312ms\tremaining: 331ms\n",
      "485:\tlearn: 0.0416005\ttotal: 313ms\tremaining: 331ms\n",
      "486:\tlearn: 0.0414564\ttotal: 313ms\tremaining: 330ms\n",
      "487:\tlearn: 0.0413549\ttotal: 313ms\tremaining: 329ms\n",
      "488:\tlearn: 0.0411648\ttotal: 314ms\tremaining: 328ms\n",
      "489:\tlearn: 0.0409360\ttotal: 314ms\tremaining: 327ms\n",
      "490:\tlearn: 0.0408820\ttotal: 315ms\tremaining: 327ms\n",
      "491:\tlearn: 0.0406577\ttotal: 315ms\tremaining: 326ms\n",
      "492:\tlearn: 0.0406047\ttotal: 316ms\tremaining: 325ms\n",
      "493:\tlearn: 0.0404390\ttotal: 317ms\tremaining: 324ms\n",
      "494:\tlearn: 0.0403870\ttotal: 317ms\tremaining: 323ms\n",
      "495:\tlearn: 0.0402387\ttotal: 318ms\tremaining: 323ms\n",
      "496:\tlearn: 0.0401877\ttotal: 318ms\tremaining: 322ms\n",
      "497:\tlearn: 0.0399705\ttotal: 319ms\tremaining: 321ms\n",
      "498:\tlearn: 0.0398223\ttotal: 319ms\tremaining: 320ms\n",
      "499:\tlearn: 0.0397456\ttotal: 320ms\tremaining: 320ms\n",
      "500:\tlearn: 0.0395863\ttotal: 320ms\tremaining: 319ms\n",
      "501:\tlearn: 0.0395372\ttotal: 321ms\tremaining: 318ms\n",
      "502:\tlearn: 0.0393958\ttotal: 321ms\tremaining: 317ms\n",
      "503:\tlearn: 0.0391250\ttotal: 322ms\tremaining: 317ms\n",
      "504:\tlearn: 0.0390512\ttotal: 322ms\tremaining: 316ms\n",
      "505:\tlearn: 0.0387863\ttotal: 323ms\tremaining: 315ms\n",
      "506:\tlearn: 0.0384828\ttotal: 323ms\tremaining: 314ms\n",
      "507:\tlearn: 0.0381850\ttotal: 324ms\tremaining: 314ms\n",
      "508:\tlearn: 0.0378927\ttotal: 324ms\tremaining: 313ms\n",
      "509:\tlearn: 0.0376058\ttotal: 325ms\tremaining: 312ms\n",
      "510:\tlearn: 0.0373644\ttotal: 325ms\tremaining: 311ms\n",
      "511:\tlearn: 0.0371272\ttotal: 326ms\tremaining: 311ms\n",
      "512:\tlearn: 0.0368941\ttotal: 326ms\tremaining: 310ms\n",
      "513:\tlearn: 0.0366650\ttotal: 327ms\tremaining: 309ms\n",
      "514:\tlearn: 0.0364400\ttotal: 328ms\tremaining: 309ms\n",
      "515:\tlearn: 0.0362350\ttotal: 328ms\tremaining: 308ms\n",
      "516:\tlearn: 0.0359959\ttotal: 329ms\tremaining: 307ms\n",
      "517:\tlearn: 0.0357681\ttotal: 329ms\tremaining: 306ms\n",
      "518:\tlearn: 0.0354990\ttotal: 330ms\tremaining: 306ms\n",
      "519:\tlearn: 0.0352352\ttotal: 330ms\tremaining: 305ms\n",
      "520:\tlearn: 0.0350148\ttotal: 331ms\tremaining: 304ms\n",
      "521:\tlearn: 0.0348885\ttotal: 331ms\tremaining: 303ms\n",
      "522:\tlearn: 0.0346727\ttotal: 332ms\tremaining: 303ms\n",
      "523:\tlearn: 0.0344200\ttotal: 332ms\tremaining: 302ms\n",
      "524:\tlearn: 0.0342089\ttotal: 333ms\tremaining: 301ms\n",
      "525:\tlearn: 0.0340014\ttotal: 333ms\tremaining: 300ms\n",
      "526:\tlearn: 0.0338209\ttotal: 334ms\tremaining: 300ms\n",
      "527:\tlearn: 0.0336395\ttotal: 335ms\tremaining: 299ms\n",
      "528:\tlearn: 0.0333970\ttotal: 335ms\tremaining: 298ms\n",
      "529:\tlearn: 0.0331961\ttotal: 335ms\tremaining: 297ms\n",
      "530:\tlearn: 0.0329986\ttotal: 336ms\tremaining: 297ms\n",
      "531:\tlearn: 0.0329134\ttotal: 336ms\tremaining: 296ms\n",
      "532:\tlearn: 0.0327396\ttotal: 337ms\tremaining: 295ms\n",
      "533:\tlearn: 0.0325049\ttotal: 337ms\tremaining: 294ms\n",
      "534:\tlearn: 0.0324215\ttotal: 338ms\tremaining: 294ms\n",
      "535:\tlearn: 0.0323492\ttotal: 338ms\tremaining: 293ms\n",
      "536:\tlearn: 0.0322684\ttotal: 339ms\tremaining: 292ms\n",
      "537:\tlearn: 0.0321400\ttotal: 339ms\tremaining: 291ms\n",
      "538:\tlearn: 0.0319117\ttotal: 340ms\tremaining: 291ms\n",
      "539:\tlearn: 0.0317459\ttotal: 340ms\tremaining: 290ms\n",
      "540:\tlearn: 0.0315589\ttotal: 341ms\tremaining: 289ms\n",
      "541:\tlearn: 0.0313750\ttotal: 341ms\tremaining: 288ms\n",
      "542:\tlearn: 0.0312971\ttotal: 342ms\tremaining: 287ms\n",
      "543:\tlearn: 0.0310770\ttotal: 342ms\tremaining: 287ms\n",
      "544:\tlearn: 0.0310008\ttotal: 343ms\tremaining: 286ms\n",
      "545:\tlearn: 0.0309259\ttotal: 343ms\tremaining: 285ms\n",
      "546:\tlearn: 0.0308039\ttotal: 343ms\tremaining: 284ms\n",
      "547:\tlearn: 0.0306454\ttotal: 344ms\tremaining: 284ms\n",
      "548:\tlearn: 0.0305534\ttotal: 344ms\tremaining: 283ms\n",
      "549:\tlearn: 0.0304682\ttotal: 345ms\tremaining: 282ms\n",
      "550:\tlearn: 0.0303495\ttotal: 345ms\tremaining: 281ms\n",
      "551:\tlearn: 0.0301794\ttotal: 346ms\tremaining: 281ms\n",
      "552:\tlearn: 0.0300900\ttotal: 346ms\tremaining: 280ms\n",
      "553:\tlearn: 0.0300021\ttotal: 347ms\tremaining: 279ms\n",
      "554:\tlearn: 0.0298500\ttotal: 347ms\tremaining: 278ms\n",
      "555:\tlearn: 0.0297637\ttotal: 348ms\tremaining: 278ms\n",
      "556:\tlearn: 0.0296497\ttotal: 348ms\tremaining: 277ms\n",
      "557:\tlearn: 0.0295643\ttotal: 349ms\tremaining: 276ms\n",
      "558:\tlearn: 0.0294137\ttotal: 349ms\tremaining: 275ms\n",
      "559:\tlearn: 0.0293300\ttotal: 350ms\tremaining: 275ms\n",
      "560:\tlearn: 0.0291825\ttotal: 350ms\tremaining: 274ms\n",
      "561:\tlearn: 0.0291006\ttotal: 351ms\tremaining: 273ms\n",
      "562:\tlearn: 0.0290200\ttotal: 351ms\tremaining: 273ms\n",
      "563:\tlearn: 0.0288759\ttotal: 352ms\tremaining: 272ms\n",
      "564:\tlearn: 0.0287970\ttotal: 352ms\tremaining: 271ms\n",
      "565:\tlearn: 0.0286537\ttotal: 353ms\tremaining: 270ms\n",
      "566:\tlearn: 0.0285764\ttotal: 353ms\tremaining: 270ms\n",
      "567:\tlearn: 0.0284360\ttotal: 354ms\tremaining: 269ms\n",
      "568:\tlearn: 0.0283602\ttotal: 354ms\tremaining: 268ms\n",
      "569:\tlearn: 0.0282971\ttotal: 354ms\tremaining: 267ms\n",
      "570:\tlearn: 0.0282230\ttotal: 355ms\tremaining: 266ms\n",
      "571:\tlearn: 0.0280863\ttotal: 355ms\tremaining: 266ms\n",
      "572:\tlearn: 0.0280181\ttotal: 356ms\tremaining: 265ms\n",
      "573:\tlearn: 0.0278840\ttotal: 356ms\tremaining: 264ms\n",
      "574:\tlearn: 0.0278170\ttotal: 356ms\tremaining: 263ms\n",
      "575:\tlearn: 0.0276558\ttotal: 357ms\tremaining: 263ms\n",
      "576:\tlearn: 0.0274820\ttotal: 357ms\tremaining: 262ms\n",
      "577:\tlearn: 0.0273971\ttotal: 358ms\tremaining: 261ms\n",
      "578:\tlearn: 0.0272276\ttotal: 358ms\tremaining: 261ms\n",
      "579:\tlearn: 0.0271236\ttotal: 359ms\tremaining: 260ms\n",
      "580:\tlearn: 0.0269968\ttotal: 360ms\tremaining: 259ms\n",
      "581:\tlearn: 0.0269335\ttotal: 360ms\tremaining: 259ms\n",
      "582:\tlearn: 0.0268379\ttotal: 361ms\tremaining: 258ms\n",
      "583:\tlearn: 0.0267574\ttotal: 361ms\tremaining: 257ms\n",
      "584:\tlearn: 0.0267008\ttotal: 362ms\tremaining: 257ms\n",
      "585:\tlearn: 0.0266016\ttotal: 362ms\tremaining: 256ms\n",
      "586:\tlearn: 0.0265084\ttotal: 363ms\tremaining: 255ms\n",
      "587:\tlearn: 0.0264484\ttotal: 363ms\tremaining: 254ms\n",
      "588:\tlearn: 0.0263518\ttotal: 364ms\tremaining: 254ms\n",
      "589:\tlearn: 0.0261892\ttotal: 364ms\tremaining: 253ms\n",
      "590:\tlearn: 0.0261141\ttotal: 364ms\tremaining: 252ms\n",
      "591:\tlearn: 0.0259534\ttotal: 365ms\tremaining: 252ms\n",
      "592:\tlearn: 0.0257912\ttotal: 365ms\tremaining: 251ms\n",
      "593:\tlearn: 0.0256979\ttotal: 366ms\tremaining: 250ms\n",
      "594:\tlearn: 0.0255413\ttotal: 366ms\tremaining: 249ms\n",
      "595:\tlearn: 0.0254256\ttotal: 367ms\tremaining: 249ms\n",
      "596:\tlearn: 0.0253351\ttotal: 367ms\tremaining: 248ms\n",
      "597:\tlearn: 0.0252490\ttotal: 368ms\tremaining: 247ms\n",
      "598:\tlearn: 0.0251966\ttotal: 368ms\tremaining: 247ms\n",
      "599:\tlearn: 0.0250555\ttotal: 369ms\tremaining: 246ms\n",
      "600:\tlearn: 0.0249171\ttotal: 369ms\tremaining: 245ms\n",
      "601:\tlearn: 0.0247814\ttotal: 370ms\tremaining: 245ms\n",
      "602:\tlearn: 0.0246985\ttotal: 371ms\tremaining: 244ms\n",
      "603:\tlearn: 0.0246299\ttotal: 371ms\tremaining: 243ms\n"
     ]
    },
    {
     "name": "stdout",
     "output_type": "stream",
     "text": [
      "604:\tlearn: 0.0245675\ttotal: 372ms\tremaining: 243ms\n",
      "605:\tlearn: 0.0245062\ttotal: 372ms\tremaining: 242ms\n",
      "606:\tlearn: 0.0243601\ttotal: 373ms\tremaining: 241ms\n",
      "607:\tlearn: 0.0242025\ttotal: 373ms\tremaining: 241ms\n",
      "608:\tlearn: 0.0241582\ttotal: 374ms\tremaining: 240ms\n",
      "609:\tlearn: 0.0240156\ttotal: 374ms\tremaining: 239ms\n",
      "610:\tlearn: 0.0239318\ttotal: 375ms\tremaining: 238ms\n",
      "611:\tlearn: 0.0237916\ttotal: 375ms\tremaining: 238ms\n",
      "612:\tlearn: 0.0236494\ttotal: 376ms\tremaining: 237ms\n",
      "613:\tlearn: 0.0235940\ttotal: 376ms\tremaining: 236ms\n",
      "614:\tlearn: 0.0235654\ttotal: 376ms\tremaining: 235ms\n",
      "615:\tlearn: 0.0234846\ttotal: 377ms\tremaining: 235ms\n",
      "616:\tlearn: 0.0233918\ttotal: 377ms\tremaining: 234ms\n",
      "617:\tlearn: 0.0233381\ttotal: 378ms\tremaining: 234ms\n",
      "618:\tlearn: 0.0232024\ttotal: 379ms\tremaining: 233ms\n",
      "619:\tlearn: 0.0230701\ttotal: 379ms\tremaining: 232ms\n",
      "620:\tlearn: 0.0229983\ttotal: 379ms\tremaining: 231ms\n",
      "621:\tlearn: 0.0229307\ttotal: 380ms\tremaining: 231ms\n",
      "622:\tlearn: 0.0228793\ttotal: 380ms\tremaining: 230ms\n",
      "623:\tlearn: 0.0227471\ttotal: 381ms\tremaining: 229ms\n",
      "624:\tlearn: 0.0226713\ttotal: 381ms\tremaining: 229ms\n",
      "625:\tlearn: 0.0225893\ttotal: 381ms\tremaining: 228ms\n",
      "626:\tlearn: 0.0224597\ttotal: 382ms\tremaining: 227ms\n",
      "627:\tlearn: 0.0223375\ttotal: 382ms\tremaining: 226ms\n",
      "628:\tlearn: 0.0222523\ttotal: 383ms\tremaining: 226ms\n",
      "629:\tlearn: 0.0221994\ttotal: 383ms\tremaining: 225ms\n",
      "630:\tlearn: 0.0221126\ttotal: 384ms\tremaining: 224ms\n",
      "631:\tlearn: 0.0220408\ttotal: 384ms\tremaining: 224ms\n",
      "632:\tlearn: 0.0219560\ttotal: 385ms\tremaining: 223ms\n",
      "633:\tlearn: 0.0218905\ttotal: 385ms\tremaining: 222ms\n",
      "634:\tlearn: 0.0218075\ttotal: 386ms\tremaining: 222ms\n",
      "635:\tlearn: 0.0216836\ttotal: 386ms\tremaining: 221ms\n",
      "636:\tlearn: 0.0216200\ttotal: 386ms\tremaining: 220ms\n",
      "637:\tlearn: 0.0214796\ttotal: 387ms\tremaining: 220ms\n",
      "638:\tlearn: 0.0213904\ttotal: 387ms\tremaining: 219ms\n",
      "639:\tlearn: 0.0212798\ttotal: 388ms\tremaining: 218ms\n",
      "640:\tlearn: 0.0211433\ttotal: 388ms\tremaining: 217ms\n",
      "641:\tlearn: 0.0210566\ttotal: 389ms\tremaining: 217ms\n",
      "642:\tlearn: 0.0209490\ttotal: 389ms\tremaining: 216ms\n",
      "643:\tlearn: 0.0208278\ttotal: 390ms\tremaining: 215ms\n",
      "644:\tlearn: 0.0207223\ttotal: 390ms\tremaining: 215ms\n",
      "645:\tlearn: 0.0206036\ttotal: 391ms\tremaining: 214ms\n",
      "646:\tlearn: 0.0205000\ttotal: 391ms\tremaining: 213ms\n",
      "647:\tlearn: 0.0203928\ttotal: 391ms\tremaining: 213ms\n",
      "648:\tlearn: 0.0203105\ttotal: 392ms\tremaining: 212ms\n",
      "649:\tlearn: 0.0202066\ttotal: 393ms\tremaining: 211ms\n",
      "650:\tlearn: 0.0200923\ttotal: 393ms\tremaining: 211ms\n",
      "651:\tlearn: 0.0199917\ttotal: 394ms\tremaining: 210ms\n",
      "652:\tlearn: 0.0198866\ttotal: 394ms\tremaining: 209ms\n",
      "653:\tlearn: 0.0198413\ttotal: 395ms\tremaining: 209ms\n",
      "654:\tlearn: 0.0197439\ttotal: 395ms\tremaining: 208ms\n",
      "655:\tlearn: 0.0196490\ttotal: 396ms\tremaining: 207ms\n",
      "656:\tlearn: 0.0195875\ttotal: 396ms\tremaining: 207ms\n",
      "657:\tlearn: 0.0195311\ttotal: 396ms\tremaining: 206ms\n",
      "658:\tlearn: 0.0194102\ttotal: 397ms\tremaining: 205ms\n",
      "659:\tlearn: 0.0193669\ttotal: 397ms\tremaining: 205ms\n",
      "660:\tlearn: 0.0192902\ttotal: 398ms\tremaining: 204ms\n",
      "661:\tlearn: 0.0192305\ttotal: 398ms\tremaining: 203ms\n",
      "662:\tlearn: 0.0191882\ttotal: 399ms\tremaining: 203ms\n",
      "663:\tlearn: 0.0191137\ttotal: 399ms\tremaining: 202ms\n",
      "664:\tlearn: 0.0190556\ttotal: 400ms\tremaining: 201ms\n",
      "665:\tlearn: 0.0190028\ttotal: 400ms\tremaining: 201ms\n",
      "666:\tlearn: 0.0189068\ttotal: 401ms\tremaining: 200ms\n",
      "667:\tlearn: 0.0188231\ttotal: 401ms\tremaining: 199ms\n",
      "668:\tlearn: 0.0187760\ttotal: 402ms\tremaining: 199ms\n",
      "669:\tlearn: 0.0186905\ttotal: 402ms\tremaining: 198ms\n",
      "670:\tlearn: 0.0185861\ttotal: 402ms\tremaining: 197ms\n",
      "671:\tlearn: 0.0185405\ttotal: 403ms\tremaining: 197ms\n",
      "672:\tlearn: 0.0184580\ttotal: 403ms\tremaining: 196ms\n",
      "673:\tlearn: 0.0183667\ttotal: 404ms\tremaining: 195ms\n",
      "674:\tlearn: 0.0183236\ttotal: 404ms\tremaining: 195ms\n",
      "675:\tlearn: 0.0182489\ttotal: 405ms\tremaining: 194ms\n",
      "676:\tlearn: 0.0181592\ttotal: 405ms\tremaining: 193ms\n",
      "677:\tlearn: 0.0181046\ttotal: 406ms\tremaining: 193ms\n",
      "678:\tlearn: 0.0179817\ttotal: 406ms\tremaining: 192ms\n",
      "679:\tlearn: 0.0178846\ttotal: 406ms\tremaining: 191ms\n",
      "680:\tlearn: 0.0177707\ttotal: 407ms\tremaining: 191ms\n",
      "681:\tlearn: 0.0176974\ttotal: 407ms\tremaining: 190ms\n",
      "682:\tlearn: 0.0176034\ttotal: 408ms\tremaining: 189ms\n",
      "683:\tlearn: 0.0175318\ttotal: 408ms\tremaining: 189ms\n",
      "684:\tlearn: 0.0174743\ttotal: 408ms\tremaining: 188ms\n",
      "685:\tlearn: 0.0174046\ttotal: 409ms\tremaining: 187ms\n",
      "686:\tlearn: 0.0173217\ttotal: 410ms\tremaining: 187ms\n",
      "687:\tlearn: 0.0172829\ttotal: 410ms\tremaining: 186ms\n",
      "688:\tlearn: 0.0172269\ttotal: 410ms\tremaining: 185ms\n",
      "689:\tlearn: 0.0171532\ttotal: 411ms\tremaining: 185ms\n",
      "690:\tlearn: 0.0170981\ttotal: 412ms\tremaining: 184ms\n",
      "691:\tlearn: 0.0170177\ttotal: 412ms\tremaining: 183ms\n",
      "692:\tlearn: 0.0169398\ttotal: 412ms\tremaining: 183ms\n",
      "693:\tlearn: 0.0168643\ttotal: 413ms\tremaining: 182ms\n",
      "694:\tlearn: 0.0167912\ttotal: 414ms\tremaining: 181ms\n",
      "695:\tlearn: 0.0167529\ttotal: 414ms\tremaining: 181ms\n",
      "696:\tlearn: 0.0166818\ttotal: 414ms\tremaining: 180ms\n",
      "697:\tlearn: 0.0166128\ttotal: 415ms\tremaining: 180ms\n",
      "698:\tlearn: 0.0165749\ttotal: 415ms\tremaining: 179ms\n",
      "699:\tlearn: 0.0164925\ttotal: 416ms\tremaining: 178ms\n",
      "700:\tlearn: 0.0164446\ttotal: 416ms\tremaining: 177ms\n",
      "701:\tlearn: 0.0163670\ttotal: 417ms\tremaining: 177ms\n",
      "702:\tlearn: 0.0163467\ttotal: 417ms\tremaining: 176ms\n",
      "703:\tlearn: 0.0162999\ttotal: 418ms\tremaining: 176ms\n",
      "704:\tlearn: 0.0162860\ttotal: 418ms\tremaining: 175ms\n",
      "705:\tlearn: 0.0162662\ttotal: 418ms\tremaining: 174ms\n",
      "706:\tlearn: 0.0162144\ttotal: 419ms\tremaining: 174ms\n",
      "707:\tlearn: 0.0161982\ttotal: 419ms\tremaining: 173ms\n",
      "708:\tlearn: 0.0161110\ttotal: 420ms\tremaining: 172ms\n",
      "709:\tlearn: 0.0160976\ttotal: 420ms\tremaining: 172ms\n",
      "710:\tlearn: 0.0160129\ttotal: 421ms\tremaining: 171ms\n",
      "711:\tlearn: 0.0159972\ttotal: 421ms\tremaining: 170ms\n",
      "712:\tlearn: 0.0159148\ttotal: 421ms\tremaining: 170ms\n",
      "713:\tlearn: 0.0158995\ttotal: 422ms\tremaining: 169ms\n",
      "714:\tlearn: 0.0158165\ttotal: 422ms\tremaining: 168ms\n",
      "715:\tlearn: 0.0157369\ttotal: 423ms\tremaining: 168ms\n",
      "716:\tlearn: 0.0157219\ttotal: 423ms\tremaining: 167ms\n",
      "717:\tlearn: 0.0156520\ttotal: 424ms\tremaining: 166ms\n",
      "718:\tlearn: 0.0156374\ttotal: 424ms\tremaining: 166ms\n",
      "719:\tlearn: 0.0156229\ttotal: 425ms\tremaining: 165ms\n",
      "720:\tlearn: 0.0156086\ttotal: 425ms\tremaining: 165ms\n",
      "721:\tlearn: 0.0155288\ttotal: 426ms\tremaining: 164ms\n",
      "722:\tlearn: 0.0155147\ttotal: 426ms\tremaining: 163ms\n",
      "723:\tlearn: 0.0155009\ttotal: 427ms\tremaining: 163ms\n",
      "724:\tlearn: 0.0154337\ttotal: 427ms\tremaining: 162ms\n",
      "725:\tlearn: 0.0154202\ttotal: 428ms\tremaining: 161ms\n",
      "726:\tlearn: 0.0154068\ttotal: 428ms\tremaining: 161ms\n",
      "727:\tlearn: 0.0153219\ttotal: 429ms\tremaining: 160ms\n",
      "728:\tlearn: 0.0152516\ttotal: 429ms\tremaining: 160ms\n",
      "729:\tlearn: 0.0151691\ttotal: 430ms\tremaining: 159ms\n",
      "730:\tlearn: 0.0150940\ttotal: 430ms\tremaining: 158ms\n",
      "731:\tlearn: 0.0150381\ttotal: 431ms\tremaining: 158ms\n",
      "732:\tlearn: 0.0150254\ttotal: 431ms\tremaining: 157ms\n",
      "733:\tlearn: 0.0149628\ttotal: 432ms\tremaining: 157ms\n",
      "734:\tlearn: 0.0149504\ttotal: 432ms\tremaining: 156ms\n",
      "735:\tlearn: 0.0149381\ttotal: 433ms\tremaining: 155ms\n",
      "736:\tlearn: 0.0148763\ttotal: 433ms\tremaining: 155ms\n",
      "737:\tlearn: 0.0148047\ttotal: 434ms\tremaining: 154ms\n",
      "738:\tlearn: 0.0147928\ttotal: 434ms\tremaining: 153ms\n",
      "739:\tlearn: 0.0147810\ttotal: 435ms\tremaining: 153ms\n",
      "740:\tlearn: 0.0147070\ttotal: 435ms\tremaining: 152ms\n",
      "741:\tlearn: 0.0146481\ttotal: 436ms\tremaining: 152ms\n",
      "742:\tlearn: 0.0145688\ttotal: 436ms\tremaining: 151ms\n",
      "743:\tlearn: 0.0145456\ttotal: 437ms\tremaining: 150ms\n",
      "744:\tlearn: 0.0145229\ttotal: 437ms\tremaining: 150ms\n",
      "745:\tlearn: 0.0144472\ttotal: 438ms\tremaining: 149ms\n",
      "746:\tlearn: 0.0144135\ttotal: 438ms\tremaining: 148ms\n",
      "747:\tlearn: 0.0143806\ttotal: 439ms\tremaining: 148ms\n",
      "748:\tlearn: 0.0143036\ttotal: 439ms\tremaining: 147ms\n",
      "749:\tlearn: 0.0142714\ttotal: 440ms\tremaining: 147ms\n",
      "750:\tlearn: 0.0142605\ttotal: 440ms\tremaining: 146ms\n",
      "751:\tlearn: 0.0141851\ttotal: 441ms\tremaining: 145ms\n",
      "752:\tlearn: 0.0141660\ttotal: 441ms\tremaining: 145ms\n",
      "753:\tlearn: 0.0141552\ttotal: 442ms\tremaining: 144ms\n",
      "754:\tlearn: 0.0141446\ttotal: 442ms\tremaining: 143ms\n",
      "755:\tlearn: 0.0140706\ttotal: 443ms\tremaining: 143ms\n",
      "756:\tlearn: 0.0140571\ttotal: 443ms\tremaining: 142ms\n",
      "757:\tlearn: 0.0140234\ttotal: 443ms\tremaining: 142ms\n",
      "758:\tlearn: 0.0139401\ttotal: 444ms\tremaining: 141ms\n",
      "759:\tlearn: 0.0138848\ttotal: 444ms\tremaining: 140ms\n",
      "760:\tlearn: 0.0138132\ttotal: 445ms\tremaining: 140ms\n",
      "761:\tlearn: 0.0137922\ttotal: 445ms\tremaining: 139ms\n",
      "762:\tlearn: 0.0137220\ttotal: 446ms\tremaining: 138ms\n",
      "763:\tlearn: 0.0136907\ttotal: 446ms\tremaining: 138ms\n",
      "764:\tlearn: 0.0136220\ttotal: 447ms\tremaining: 137ms\n",
      "765:\tlearn: 0.0135890\ttotal: 447ms\tremaining: 137ms\n",
      "766:\tlearn: 0.0135568\ttotal: 448ms\tremaining: 136ms\n",
      "767:\tlearn: 0.0134788\ttotal: 448ms\tremaining: 135ms\n",
      "768:\tlearn: 0.0134475\ttotal: 449ms\tremaining: 135ms\n",
      "769:\tlearn: 0.0133712\ttotal: 449ms\tremaining: 134ms\n",
      "770:\tlearn: 0.0133006\ttotal: 449ms\tremaining: 133ms\n",
      "771:\tlearn: 0.0132316\ttotal: 450ms\tremaining: 133ms\n",
      "772:\tlearn: 0.0131981\ttotal: 450ms\tremaining: 132ms\n",
      "773:\tlearn: 0.0131809\ttotal: 451ms\tremaining: 132ms\n",
      "774:\tlearn: 0.0131332\ttotal: 452ms\tremaining: 131ms\n",
      "775:\tlearn: 0.0130861\ttotal: 452ms\tremaining: 131ms\n",
      "776:\tlearn: 0.0130388\ttotal: 453ms\tremaining: 130ms\n",
      "777:\tlearn: 0.0129720\ttotal: 453ms\tremaining: 129ms\n",
      "778:\tlearn: 0.0129192\ttotal: 454ms\tremaining: 129ms\n",
      "779:\tlearn: 0.0128461\ttotal: 454ms\tremaining: 128ms\n",
      "780:\tlearn: 0.0127809\ttotal: 455ms\tremaining: 128ms\n",
      "781:\tlearn: 0.0127647\ttotal: 455ms\tremaining: 127ms\n",
      "782:\tlearn: 0.0127269\ttotal: 456ms\tremaining: 126ms\n",
      "783:\tlearn: 0.0127108\ttotal: 456ms\tremaining: 126ms\n",
      "784:\tlearn: 0.0126599\ttotal: 457ms\tremaining: 125ms\n",
      "785:\tlearn: 0.0126302\ttotal: 457ms\tremaining: 124ms\n",
      "786:\tlearn: 0.0125596\ttotal: 457ms\tremaining: 124ms\n",
      "787:\tlearn: 0.0125123\ttotal: 458ms\tremaining: 123ms\n",
      "788:\tlearn: 0.0124565\ttotal: 459ms\tremaining: 123ms\n",
      "789:\tlearn: 0.0124122\ttotal: 459ms\tremaining: 122ms\n",
      "790:\tlearn: 0.0123515\ttotal: 460ms\tremaining: 121ms\n",
      "791:\tlearn: 0.0122974\ttotal: 460ms\tremaining: 121ms\n",
      "792:\tlearn: 0.0122490\ttotal: 461ms\tremaining: 120ms\n",
      "793:\tlearn: 0.0122207\ttotal: 461ms\tremaining: 120ms\n",
      "794:\tlearn: 0.0121536\ttotal: 462ms\tremaining: 119ms\n",
      "795:\tlearn: 0.0120954\ttotal: 462ms\tremaining: 118ms\n",
      "796:\tlearn: 0.0120342\ttotal: 463ms\tremaining: 118ms\n",
      "797:\tlearn: 0.0119917\ttotal: 463ms\tremaining: 117ms\n",
      "798:\tlearn: 0.0119303\ttotal: 464ms\tremaining: 117ms\n",
      "799:\tlearn: 0.0119077\ttotal: 464ms\tremaining: 116ms\n",
      "800:\tlearn: 0.0118818\ttotal: 465ms\tremaining: 115ms\n",
      "801:\tlearn: 0.0118177\ttotal: 465ms\tremaining: 115ms\n",
      "802:\tlearn: 0.0117535\ttotal: 466ms\tremaining: 114ms\n",
      "803:\tlearn: 0.0116980\ttotal: 466ms\tremaining: 114ms\n",
      "804:\tlearn: 0.0116765\ttotal: 467ms\tremaining: 113ms\n",
      "805:\tlearn: 0.0116187\ttotal: 467ms\tremaining: 112ms\n",
      "806:\tlearn: 0.0115564\ttotal: 468ms\tremaining: 112ms\n",
      "807:\tlearn: 0.0115424\ttotal: 468ms\tremaining: 111ms\n",
      "808:\tlearn: 0.0115181\ttotal: 469ms\tremaining: 111ms\n",
      "809:\tlearn: 0.0114571\ttotal: 469ms\tremaining: 110ms\n",
      "810:\tlearn: 0.0114316\ttotal: 470ms\tremaining: 109ms\n",
      "811:\tlearn: 0.0113764\ttotal: 470ms\tremaining: 109ms\n",
      "812:\tlearn: 0.0113607\ttotal: 471ms\tremaining: 108ms\n",
      "813:\tlearn: 0.0112948\ttotal: 471ms\tremaining: 108ms\n",
      "814:\tlearn: 0.0112320\ttotal: 472ms\tremaining: 107ms\n",
      "815:\tlearn: 0.0111677\ttotal: 472ms\tremaining: 106ms\n",
      "816:\tlearn: 0.0111150\ttotal: 473ms\tremaining: 106ms\n",
      "817:\tlearn: 0.0110519\ttotal: 473ms\tremaining: 105ms\n",
      "818:\tlearn: 0.0110098\ttotal: 474ms\tremaining: 105ms\n",
      "819:\tlearn: 0.0109481\ttotal: 474ms\tremaining: 104ms\n",
      "820:\tlearn: 0.0109068\ttotal: 475ms\tremaining: 103ms\n",
      "821:\tlearn: 0.0108663\ttotal: 475ms\tremaining: 103ms\n"
     ]
    },
    {
     "name": "stdout",
     "output_type": "stream",
     "text": [
      "822:\tlearn: 0.0108269\ttotal: 476ms\tremaining: 102ms\n",
      "823:\tlearn: 0.0107852\ttotal: 476ms\tremaining: 102ms\n",
      "824:\tlearn: 0.0107261\ttotal: 477ms\tremaining: 101ms\n",
      "825:\tlearn: 0.0106681\ttotal: 477ms\tremaining: 101ms\n",
      "826:\tlearn: 0.0106276\ttotal: 478ms\tremaining: 99.9ms\n",
      "827:\tlearn: 0.0105679\ttotal: 478ms\tremaining: 99.3ms\n",
      "828:\tlearn: 0.0105080\ttotal: 479ms\tremaining: 98.7ms\n",
      "829:\tlearn: 0.0104521\ttotal: 479ms\tremaining: 98.1ms\n",
      "830:\tlearn: 0.0103865\ttotal: 480ms\tremaining: 97.5ms\n",
      "831:\tlearn: 0.0103476\ttotal: 480ms\tremaining: 96.9ms\n",
      "832:\tlearn: 0.0102983\ttotal: 481ms\tremaining: 96.5ms\n",
      "833:\tlearn: 0.0102417\ttotal: 482ms\tremaining: 95.9ms\n",
      "834:\tlearn: 0.0101788\ttotal: 482ms\tremaining: 95.3ms\n",
      "835:\tlearn: 0.0101159\ttotal: 482ms\tremaining: 94.6ms\n",
      "836:\tlearn: 0.0100649\ttotal: 483ms\tremaining: 94ms\n",
      "837:\tlearn: 0.0100100\ttotal: 483ms\tremaining: 93.4ms\n",
      "838:\tlearn: 0.0099602\ttotal: 484ms\tremaining: 92.8ms\n",
      "839:\tlearn: 0.0099231\ttotal: 484ms\tremaining: 92.2ms\n",
      "840:\tlearn: 0.0098625\ttotal: 485ms\tremaining: 91.6ms\n",
      "841:\tlearn: 0.0097995\ttotal: 485ms\tremaining: 91ms\n",
      "842:\tlearn: 0.0097410\ttotal: 486ms\tremaining: 90.4ms\n",
      "843:\tlearn: 0.0096798\ttotal: 486ms\tremaining: 89.8ms\n",
      "844:\tlearn: 0.0096451\ttotal: 487ms\tremaining: 89.3ms\n",
      "845:\tlearn: 0.0096262\ttotal: 487ms\tremaining: 88.7ms\n",
      "846:\tlearn: 0.0095791\ttotal: 488ms\tremaining: 88.1ms\n",
      "847:\tlearn: 0.0095220\ttotal: 488ms\tremaining: 87.5ms\n",
      "848:\tlearn: 0.0094885\ttotal: 489ms\tremaining: 86.9ms\n",
      "849:\tlearn: 0.0094388\ttotal: 489ms\tremaining: 86.3ms\n",
      "850:\tlearn: 0.0093932\ttotal: 490ms\tremaining: 85.7ms\n",
      "851:\tlearn: 0.0093607\ttotal: 490ms\tremaining: 85.1ms\n",
      "852:\tlearn: 0.0093030\ttotal: 491ms\tremaining: 84.5ms\n",
      "853:\tlearn: 0.0092636\ttotal: 491ms\tremaining: 84ms\n",
      "854:\tlearn: 0.0092196\ttotal: 492ms\tremaining: 83.4ms\n",
      "855:\tlearn: 0.0092021\ttotal: 492ms\tremaining: 82.8ms\n",
      "856:\tlearn: 0.0091502\ttotal: 493ms\tremaining: 82.2ms\n",
      "857:\tlearn: 0.0091028\ttotal: 493ms\tremaining: 81.6ms\n",
      "858:\tlearn: 0.0090499\ttotal: 494ms\tremaining: 81ms\n",
      "859:\tlearn: 0.0090026\ttotal: 494ms\tremaining: 80.4ms\n",
      "860:\tlearn: 0.0089480\ttotal: 495ms\tremaining: 79.8ms\n",
      "861:\tlearn: 0.0089311\ttotal: 495ms\tremaining: 79.3ms\n",
      "862:\tlearn: 0.0088777\ttotal: 496ms\tremaining: 78.7ms\n",
      "863:\tlearn: 0.0088612\ttotal: 496ms\tremaining: 78.1ms\n",
      "864:\tlearn: 0.0088273\ttotal: 497ms\tremaining: 77.5ms\n",
      "865:\tlearn: 0.0087957\ttotal: 497ms\tremaining: 76.9ms\n",
      "866:\tlearn: 0.0087467\ttotal: 498ms\tremaining: 76.3ms\n",
      "867:\tlearn: 0.0087038\ttotal: 498ms\tremaining: 75.7ms\n",
      "868:\tlearn: 0.0086710\ttotal: 499ms\tremaining: 75.2ms\n",
      "869:\tlearn: 0.0086202\ttotal: 499ms\tremaining: 74.6ms\n",
      "870:\tlearn: 0.0086045\ttotal: 500ms\tremaining: 74ms\n",
      "871:\tlearn: 0.0085890\ttotal: 500ms\tremaining: 73.4ms\n",
      "872:\tlearn: 0.0085522\ttotal: 501ms\tremaining: 72.8ms\n",
      "873:\tlearn: 0.0085048\ttotal: 501ms\tremaining: 72.3ms\n",
      "874:\tlearn: 0.0084587\ttotal: 502ms\tremaining: 71.7ms\n",
      "875:\tlearn: 0.0084099\ttotal: 502ms\tremaining: 71.1ms\n",
      "876:\tlearn: 0.0083947\ttotal: 503ms\tremaining: 70.5ms\n",
      "877:\tlearn: 0.0083723\ttotal: 503ms\tremaining: 69.9ms\n",
      "878:\tlearn: 0.0083236\ttotal: 504ms\tremaining: 69.3ms\n",
      "879:\tlearn: 0.0083088\ttotal: 504ms\tremaining: 68.8ms\n",
      "880:\tlearn: 0.0082942\ttotal: 505ms\tremaining: 68.2ms\n",
      "881:\tlearn: 0.0082798\ttotal: 505ms\tremaining: 67.6ms\n",
      "882:\tlearn: 0.0082415\ttotal: 506ms\tremaining: 67ms\n",
      "883:\tlearn: 0.0082180\ttotal: 506ms\tremaining: 66.4ms\n",
      "884:\tlearn: 0.0081897\ttotal: 507ms\tremaining: 65.8ms\n",
      "885:\tlearn: 0.0081621\ttotal: 507ms\tremaining: 65.3ms\n",
      "886:\tlearn: 0.0081481\ttotal: 508ms\tremaining: 64.7ms\n",
      "887:\tlearn: 0.0081025\ttotal: 508ms\tremaining: 64.1ms\n",
      "888:\tlearn: 0.0080691\ttotal: 509ms\tremaining: 63.5ms\n",
      "889:\tlearn: 0.0080555\ttotal: 509ms\tremaining: 62.9ms\n",
      "890:\tlearn: 0.0080240\ttotal: 510ms\tremaining: 62.4ms\n",
      "891:\tlearn: 0.0079967\ttotal: 510ms\tremaining: 61.8ms\n",
      "892:\tlearn: 0.0079833\ttotal: 511ms\tremaining: 61.2ms\n",
      "893:\tlearn: 0.0079502\ttotal: 511ms\tremaining: 60.6ms\n",
      "894:\tlearn: 0.0079193\ttotal: 512ms\tremaining: 60ms\n",
      "895:\tlearn: 0.0078759\ttotal: 512ms\tremaining: 59.4ms\n",
      "896:\tlearn: 0.0078356\ttotal: 513ms\tremaining: 58.9ms\n",
      "897:\tlearn: 0.0077906\ttotal: 513ms\tremaining: 58.3ms\n",
      "898:\tlearn: 0.0077591\ttotal: 514ms\tremaining: 57.7ms\n",
      "899:\tlearn: 0.0077461\ttotal: 514ms\tremaining: 57.1ms\n",
      "900:\tlearn: 0.0077165\ttotal: 515ms\tremaining: 56.5ms\n",
      "901:\tlearn: 0.0076720\ttotal: 515ms\tremaining: 56ms\n",
      "902:\tlearn: 0.0076414\ttotal: 516ms\tremaining: 55.4ms\n",
      "903:\tlearn: 0.0076286\ttotal: 516ms\tremaining: 54.8ms\n",
      "904:\tlearn: 0.0075986\ttotal: 517ms\tremaining: 54.3ms\n",
      "905:\tlearn: 0.0075859\ttotal: 517ms\tremaining: 53.7ms\n",
      "906:\tlearn: 0.0075504\ttotal: 518ms\tremaining: 53.1ms\n",
      "907:\tlearn: 0.0075155\ttotal: 518ms\tremaining: 52.5ms\n",
      "908:\tlearn: 0.0074760\ttotal: 519ms\tremaining: 51.9ms\n",
      "909:\tlearn: 0.0074475\ttotal: 519ms\tremaining: 51.4ms\n",
      "910:\tlearn: 0.0074130\ttotal: 520ms\tremaining: 50.8ms\n",
      "911:\tlearn: 0.0073793\ttotal: 520ms\tremaining: 50.2ms\n",
      "912:\tlearn: 0.0073670\ttotal: 521ms\tremaining: 49.6ms\n",
      "913:\tlearn: 0.0073340\ttotal: 521ms\tremaining: 49.1ms\n",
      "914:\tlearn: 0.0073066\ttotal: 522ms\tremaining: 48.5ms\n",
      "915:\tlearn: 0.0072744\ttotal: 522ms\tremaining: 47.9ms\n",
      "916:\tlearn: 0.0072365\ttotal: 523ms\tremaining: 47.3ms\n",
      "917:\tlearn: 0.0072050\ttotal: 524ms\tremaining: 46.8ms\n",
      "918:\tlearn: 0.0071778\ttotal: 524ms\tremaining: 46.2ms\n",
      "919:\tlearn: 0.0071470\ttotal: 525ms\tremaining: 45.6ms\n",
      "920:\tlearn: 0.0071102\ttotal: 525ms\tremaining: 45.1ms\n",
      "921:\tlearn: 0.0070837\ttotal: 526ms\tremaining: 44.5ms\n",
      "922:\tlearn: 0.0070588\ttotal: 526ms\tremaining: 43.9ms\n",
      "923:\tlearn: 0.0070289\ttotal: 527ms\tremaining: 43.3ms\n",
      "924:\tlearn: 0.0070029\ttotal: 527ms\tremaining: 42.8ms\n",
      "925:\tlearn: 0.0069775\ttotal: 528ms\tremaining: 42.2ms\n",
      "926:\tlearn: 0.0069484\ttotal: 528ms\tremaining: 41.6ms\n",
      "927:\tlearn: 0.0069145\ttotal: 529ms\tremaining: 41ms\n",
      "928:\tlearn: 0.0068891\ttotal: 529ms\tremaining: 40.5ms\n",
      "929:\tlearn: 0.0068775\ttotal: 530ms\tremaining: 39.9ms\n",
      "930:\tlearn: 0.0068551\ttotal: 530ms\tremaining: 39.3ms\n",
      "931:\tlearn: 0.0068376\ttotal: 531ms\tremaining: 38.7ms\n",
      "932:\tlearn: 0.0068046\ttotal: 531ms\tremaining: 38.1ms\n",
      "933:\tlearn: 0.0067798\ttotal: 532ms\tremaining: 37.6ms\n",
      "934:\tlearn: 0.0067557\ttotal: 532ms\tremaining: 37ms\n",
      "935:\tlearn: 0.0067234\ttotal: 533ms\tremaining: 36.4ms\n",
      "936:\tlearn: 0.0067017\ttotal: 533ms\tremaining: 35.9ms\n",
      "937:\tlearn: 0.0066850\ttotal: 534ms\tremaining: 35.3ms\n",
      "938:\tlearn: 0.0066464\ttotal: 534ms\tremaining: 34.7ms\n",
      "939:\tlearn: 0.0066301\ttotal: 535ms\tremaining: 34.1ms\n",
      "940:\tlearn: 0.0065990\ttotal: 535ms\tremaining: 33.6ms\n",
      "941:\tlearn: 0.0065754\ttotal: 536ms\tremaining: 33ms\n",
      "942:\tlearn: 0.0065645\ttotal: 536ms\tremaining: 32.4ms\n",
      "943:\tlearn: 0.0065414\ttotal: 537ms\tremaining: 31.8ms\n",
      "944:\tlearn: 0.0065110\ttotal: 537ms\tremaining: 31.3ms\n",
      "945:\tlearn: 0.0064872\ttotal: 538ms\tremaining: 30.7ms\n",
      "946:\tlearn: 0.0064645\ttotal: 538ms\tremaining: 30.1ms\n",
      "947:\tlearn: 0.0064527\ttotal: 539ms\tremaining: 29.6ms\n",
      "948:\tlearn: 0.0064322\ttotal: 539ms\tremaining: 29ms\n",
      "949:\tlearn: 0.0064158\ttotal: 540ms\tremaining: 28.4ms\n",
      "950:\tlearn: 0.0063863\ttotal: 540ms\tremaining: 27.8ms\n",
      "951:\tlearn: 0.0063626\ttotal: 541ms\tremaining: 27.3ms\n",
      "952:\tlearn: 0.0063510\ttotal: 542ms\tremaining: 26.7ms\n",
      "953:\tlearn: 0.0063148\ttotal: 542ms\tremaining: 26.1ms\n",
      "954:\tlearn: 0.0062915\ttotal: 543ms\tremaining: 25.6ms\n",
      "955:\tlearn: 0.0062686\ttotal: 543ms\tremaining: 25ms\n",
      "956:\tlearn: 0.0062573\ttotal: 543ms\tremaining: 24.4ms\n",
      "957:\tlearn: 0.0062353\ttotal: 544ms\tremaining: 23.8ms\n",
      "958:\tlearn: 0.0062060\ttotal: 545ms\tremaining: 23.3ms\n",
      "959:\tlearn: 0.0061949\ttotal: 545ms\tremaining: 22.7ms\n",
      "960:\tlearn: 0.0061636\ttotal: 546ms\tremaining: 22.1ms\n",
      "961:\tlearn: 0.0061352\ttotal: 546ms\tremaining: 21.6ms\n",
      "962:\tlearn: 0.0061048\ttotal: 546ms\tremaining: 21ms\n",
      "963:\tlearn: 0.0060752\ttotal: 547ms\tremaining: 20.4ms\n",
      "964:\tlearn: 0.0060688\ttotal: 547ms\tremaining: 19.8ms\n",
      "965:\tlearn: 0.0060534\ttotal: 548ms\tremaining: 19.3ms\n",
      "966:\tlearn: 0.0060157\ttotal: 548ms\tremaining: 18.7ms\n",
      "967:\tlearn: 0.0059879\ttotal: 548ms\tremaining: 18.1ms\n",
      "968:\tlearn: 0.0059671\ttotal: 549ms\tremaining: 17.6ms\n",
      "969:\tlearn: 0.0059467\ttotal: 549ms\tremaining: 17ms\n",
      "970:\tlearn: 0.0059182\ttotal: 550ms\tremaining: 16.4ms\n",
      "971:\tlearn: 0.0059035\ttotal: 550ms\tremaining: 15.8ms\n",
      "972:\tlearn: 0.0058673\ttotal: 551ms\tremaining: 15.3ms\n",
      "973:\tlearn: 0.0058405\ttotal: 551ms\tremaining: 14.7ms\n",
      "974:\tlearn: 0.0058133\ttotal: 551ms\tremaining: 14.1ms\n",
      "975:\tlearn: 0.0057873\ttotal: 552ms\tremaining: 13.6ms\n",
      "976:\tlearn: 0.0057731\ttotal: 552ms\tremaining: 13ms\n",
      "977:\tlearn: 0.0057471\ttotal: 554ms\tremaining: 12.5ms\n",
      "978:\tlearn: 0.0057277\ttotal: 554ms\tremaining: 11.9ms\n",
      "979:\tlearn: 0.0057098\ttotal: 555ms\tremaining: 11.3ms\n",
      "980:\tlearn: 0.0056844\ttotal: 555ms\tremaining: 10.8ms\n",
      "981:\tlearn: 0.0056582\ttotal: 556ms\tremaining: 10.2ms\n",
      "982:\tlearn: 0.0056334\ttotal: 556ms\tremaining: 9.61ms\n"
     ]
    },
    {
     "name": "stdout",
     "output_type": "stream",
     "text": [
      "983:\tlearn: 0.0056162\ttotal: 556ms\tremaining: 9.05ms\n",
      "984:\tlearn: 0.0056027\ttotal: 557ms\tremaining: 8.48ms\n",
      "985:\tlearn: 0.0055858\ttotal: 557ms\tremaining: 7.92ms\n",
      "986:\tlearn: 0.0055694\ttotal: 558ms\tremaining: 7.35ms\n",
      "987:\tlearn: 0.0055416\ttotal: 558ms\tremaining: 6.78ms\n",
      "988:\tlearn: 0.0055158\ttotal: 559ms\tremaining: 6.21ms\n",
      "989:\tlearn: 0.0054975\ttotal: 559ms\tremaining: 5.65ms\n",
      "990:\tlearn: 0.0054817\ttotal: 560ms\tremaining: 5.08ms\n",
      "991:\tlearn: 0.0054566\ttotal: 560ms\tremaining: 4.52ms\n",
      "992:\tlearn: 0.0054411\ttotal: 561ms\tremaining: 3.95ms\n",
      "993:\tlearn: 0.0054167\ttotal: 561ms\tremaining: 3.39ms\n",
      "994:\tlearn: 0.0054016\ttotal: 562ms\tremaining: 2.82ms\n",
      "995:\tlearn: 0.0053867\ttotal: 562ms\tremaining: 2.26ms\n",
      "996:\tlearn: 0.0053630\ttotal: 563ms\tremaining: 1.69ms\n",
      "997:\tlearn: 0.0053486\ttotal: 563ms\tremaining: 1.13ms\n",
      "998:\tlearn: 0.0053234\ttotal: 564ms\tremaining: 564us\n",
      "999:\tlearn: 0.0053151\ttotal: 564ms\tremaining: 0us\n"
     ]
    },
    {
     "data": {
      "text/plain": [
       "<catboost.core.CatBoostRegressor at 0x7fcec6451c10>"
      ]
     },
     "execution_count": 9,
     "metadata": {},
     "output_type": "execute_result"
    }
   ],
   "source": [
    "#Train the Model \n",
    "prior_model = ctb.CatBoostRegressor()\n",
    "prior_model.fit(X_train,Y_train)"
   ]
  },
  {
   "cell_type": "code",
   "execution_count": 10,
   "id": "af65dcda",
   "metadata": {
    "execution": {
     "iopub.execute_input": "2022-03-08T20:21:26.356084Z",
     "iopub.status.busy": "2022-03-08T20:21:26.355687Z",
     "iopub.status.idle": "2022-03-08T20:21:26.363101Z",
     "shell.execute_reply": "2022-03-08T20:21:26.363340Z"
    },
    "id": "af65dcda",
    "papermill": {
     "duration": 0.020213,
     "end_time": "2022-03-08T20:21:26.363452",
     "exception": false,
     "start_time": "2022-03-08T20:21:26.343239",
     "status": "completed"
    },
    "tags": []
   },
   "outputs": [
    {
     "data": {
      "application/scrapbook.scrap.json+json": {
       "data": 0.07851281091691709,
       "encoder": "json",
       "name": "Prior Model MSE",
       "version": 1
      }
     },
     "metadata": {
      "scrapbook": {
       "data": true,
       "display": false,
       "name": "Prior Model MSE"
      }
     },
     "output_type": "display_data"
    },
    {
     "data": {
      "application/scrapbook.scrap.json+json": {
       "data": 0.09645577504276606,
       "encoder": "json",
       "name": "ABC Pre-generator MSE",
       "version": 1
      }
     },
     "metadata": {
      "scrapbook": {
       "data": true,
       "display": false,
       "name": "ABC Pre-generator MSE"
      }
     },
     "output_type": "display_data"
    },
    {
     "data": {
      "application/scrapbook.scrap.json+json": {
       "data": 0.23179028449129616,
       "encoder": "json",
       "name": "Prior Model MSE",
       "version": 1
      }
     },
     "metadata": {
      "scrapbook": {
       "data": true,
       "display": false,
       "name": "Prior Model MSE"
      }
     },
     "output_type": "display_data"
    },
    {
     "data": {
      "application/scrapbook.scrap.json+json": {
       "data": 0.2525167467384741,
       "encoder": "json",
       "name": "ABC Pre-generator MSE",
       "version": 1
      }
     },
     "metadata": {
      "scrapbook": {
       "data": true,
       "display": false,
       "name": "ABC Pre-generator MSE"
      }
     },
     "output_type": "display_data"
    }
   ],
   "source": [
    "y_pred = prior_model.predict(X_test)\n",
    "y_abc = y_pred + np.random.normal(0,variance, y_pred.shape) + bias \n",
    "mse = mean_squared_error(y_pred,Y_test)\n",
    "sb.glue(\"Prior Model MSE\",mse)\n",
    "mse = mean_squared_error(y_abc,Y_test)\n",
    "sb.glue(\"ABC Pre-generator MSE\",mse)\n",
    "mae = mean_absolute_error(y_pred,Y_test)\n",
    "sb.glue(\"Prior Model MSE\",mae)\n",
    "mae = mean_absolute_error(y_abc,Y_test)\n",
    "sb.glue(\"ABC Pre-generator MSE\",mae)"
   ]
  },
  {
   "cell_type": "markdown",
   "id": "25609da2",
   "metadata": {
    "papermill": {
     "duration": 0.009607,
     "end_time": "2022-03-08T20:21:26.382976",
     "exception": false,
     "start_time": "2022-03-08T20:21:26.373369",
     "status": "completed"
    },
    "tags": []
   },
   "source": [
    "# ABC GAN Model"
   ]
  },
  {
   "cell_type": "code",
   "execution_count": 11,
   "id": "dfc3464d",
   "metadata": {
    "execution": {
     "iopub.execute_input": "2022-03-08T20:21:26.405218Z",
     "iopub.status.busy": "2022-03-08T20:21:26.404869Z",
     "iopub.status.idle": "2022-03-08T20:21:26.407346Z",
     "shell.execute_reply": "2022-03-08T20:21:26.407595Z"
    },
    "papermill": {
     "duration": 0.015059,
     "end_time": "2022-03-08T20:21:26.407702",
     "exception": false,
     "start_time": "2022-03-08T20:21:26.392643",
     "status": "completed"
    },
    "tags": []
   },
   "outputs": [],
   "source": [
    "gen = network.Generator(n_features+1).to(device)\n",
    "disc = network.Discriminator(n_features+1).to(device)\n",
    "\n",
    "criterion = torch.nn.BCELoss()\n",
    "gen_opt = torch.optim.Adam(gen.parameters(), lr=0.001, betas=(0.5, 0.999))\n",
    "disc_opt = torch.optim.Adam(disc.parameters(), lr=0.001, betas=(0.5, 0.999))"
   ]
  },
  {
   "cell_type": "code",
   "execution_count": 12,
   "id": "b75fdd85",
   "metadata": {
    "execution": {
     "iopub.execute_input": "2022-03-08T20:21:26.429209Z",
     "iopub.status.busy": "2022-03-08T20:21:26.428860Z",
     "iopub.status.idle": "2022-03-08T20:21:39.652549Z",
     "shell.execute_reply": "2022-03-08T20:21:39.652797Z"
    },
    "papermill": {
     "duration": 13.235494,
     "end_time": "2022-03-08T20:21:39.652919",
     "exception": false,
     "start_time": "2022-03-08T20:21:26.417425",
     "status": "completed"
    },
    "tags": []
   },
   "outputs": [
    {
     "data": {
      "image/png": "[encoded data removed]",
      "text/plain": [
       "<Figure size 432x288 with 1 Axes>"
      ]
     },
     "metadata": {
      "needs_background": "light"
     },
     "output_type": "display_data"
    },
    {
     "data": {
      "image/png": "[encoded data removed]",
      "text/plain": [
       "<Figure size 432x288 with 1 Axes>"
      ]
     },
     "metadata": {
      "needs_background": "light"
     },
     "output_type": "display_data"
    }
   ],
   "source": [
    "#Training the ABC_GAN \n",
    "ABC_train_test2.training_GAN(disc,gen,disc_opt,gen_opt,train_data,batch_size,n_epochs,criterion,prior_model,variance,bias,device)"
   ]
  },
  {
   "cell_type": "code",
   "execution_count": 13,
   "id": "1fa7c368",
   "metadata": {
    "execution": {
     "iopub.execute_input": "2022-03-08T20:21:39.678082Z",
     "iopub.status.busy": "2022-03-08T20:21:39.677617Z",
     "iopub.status.idle": "2022-03-08T20:21:39.847514Z",
     "shell.execute_reply": "2022-03-08T20:21:39.847811Z"
    },
    "papermill": {
     "duration": 0.183677,
     "end_time": "2022-03-08T20:21:39.847932",
     "exception": false,
     "start_time": "2022-03-08T20:21:39.664255",
     "status": "completed"
    },
    "tags": []
   },
   "outputs": [
    {
     "data": {
      "application/scrapbook.scrap.json+json": {
       "data": 0.107570907616925,
       "encoder": "json",
       "name": "ABC-GAN Model 1 MSE",
       "version": 1
      }
     },
     "metadata": {
      "scrapbook": {
       "data": true,
       "display": false,
       "name": "ABC-GAN Model 1 MSE"
      }
     },
     "output_type": "display_data"
    },
    {
     "data": {
      "application/scrapbook.scrap.json+json": {
       "data": 0.23507814857829362,
       "encoder": "json",
       "name": "ABC-GAN Model 1 MAE",
       "version": 1
      }
     },
     "metadata": {
      "scrapbook": {
       "data": true,
       "display": false,
       "name": "ABC-GAN Model 1 MAE"
      }
     },
     "output_type": "display_data"
    },
    {
     "data": {
      "application/scrapbook.scrap.json+json": {
       "data": 4.701562971565872,
       "encoder": "json",
       "name": "ABC-GAN Model 1 Manhattan Distance",
       "version": 1
      }
     },
     "metadata": {
      "scrapbook": {
       "data": true,
       "display": false,
       "name": "ABC-GAN Model 1 Manhattan Distance"
      }
     },
     "output_type": "display_data"
    },
    {
     "data": {
      "application/scrapbook.scrap.json+json": {
       "data": 1.4660741359808263,
       "encoder": "json",
       "name": "ABC-GAN Model 1 Euclidean distance",
       "version": 1
      }
     },
     "metadata": {
      "scrapbook": {
       "data": true,
       "display": false,
       "name": "ABC-GAN Model 1 Euclidean distance"
      }
     },
     "output_type": "display_data"
    },
    {
     "data": {
      "application/scrapbook.scrap.json+json": {
       "data": [
        [
         0.10192585773158394,
         0.10778422633571742,
         0.09921328815845332,
         0.09609486987511544,
         0.11485962592507275,
         0.11746767153168347,
         0.11138995252820841,
         0.11552118202830164,
         0.1114680010966546,
         0.10610899394101196,
         0.10333693987577912,
         0.1064734188147451,
         0.10377645008603704,
         0.1145071266485502,
         0.10916250314802378,
         0.09023032575117378,
         0.11389245542489931,
         0.10881301717078815,
         0.10816054536455107,
         0.11151038265590421,
         0.11038641569957948,
         0.10856530274731586,
         0.1204895105580726,
         0.11916872382794756,
         0.10790196633327513,
         0.11246082191247633,
         0.11451091437697163,
         0.11055403500946268,
         0.10754886107378296,
         0.10262435662193232,
         0.09233988199482338,
         0.10423988697175486,
         0.10765720553736899,
         0.09634772044502996,
         0.10254841294522592,
         0.11844864656827662,
         0.09986253619340386,
         0.10714366477551147,
         0.11136691223940173,
         0.10509585895524946,
         0.11459214174091939,
         0.1121676262955595,
         0.10281794977667222,
         0.11504962198093802,
         0.10450031542992484,
         0.0920093851607565,
         0.11331307091185897,
         0.09736789279474198,
         0.10468332780976597,
         0.10836304104656147,
         0.10833691112075834,
         0.12121753799118902,
         0.10508403144031955,
         0.09536251318270411,
         0.10324396659438932,
         0.10550442379594231,
         0.10789687865360469,
         0.11199696346148187,
         0.10596055535015818,
         0.1127901920951726,
         0.11041210030097799,
         0.1035059899013862,
         0.10059086416497025,
         0.11616805296999186,
         0.1104036770303836,
         0.108258811875478,
         0.10572171136551475,
         0.10464323698369538,
         0.11014324563188882,
         0.10857491213976074,
         0.10906099894408912,
         0.1135146902071654,
         0.09783351597726589,
         0.10105477155833038,
         0.10362347751647556,
         0.11059605746840628,
         0.0977885130632052,
         0.11256650473781801,
         0.12079945807652248,
         0.10777523667232858,
         0.10673771624766296,
         0.11885999246958585,
         0.10496491117910489,
         0.11107980158892779,
         0.10948771469555832,
         0.11376696498732893,
         0.10724923479535273,
         0.10894883145232497,
         0.10151179874527479,
         0.1083892475622334,
         0.11398571402127455,
         0.10831423881328979,
         0.10197620556368796,
         0.11372198535580322,
         0.11604258753425116,
         0.10728864683973563,
         0.10065493404286667,
         0.09795649215712485,
         0.10734650282824165,
         0.09255459871467897
        ],
        [
         0.22843011785298586,
         0.23277108874171973,
         0.22699905540794135,
         0.21673392560333013,
         0.2344646418467164,
         0.24432079959660769,
         0.23840395994484426,
         0.2505745815113187,
         0.2432446673512459,
         0.21545573100447654,
         0.23145397733896972,
         0.22783410046249628,
         0.2377021385356784,
         0.24790241811424493,
         0.22431349381804466,
         0.2183962855488062,
         0.24551355876028538,
         0.233159033767879,
         0.2316964091733098,
         0.24078090023249388,
         0.23378827180713416,
         0.23834069371223449,
         0.2417178839445114,
         0.24357910491526127,
         0.2284987000748515,
         0.22692788522690535,
         0.2481955211609602,
         0.24052177779376507,
         0.23666372802108526,
         0.2397525215521455,
         0.22568818423897027,
         0.23241855185478927,
         0.23084333892911674,
         0.22346711922436951,
         0.2264412984251976,
         0.24777325708419085,
         0.23627015557140113,
         0.23238411340862514,
         0.23804375883191825,
         0.21862004417926073,
         0.23644195552915334,
         0.23541715163737537,
         0.2375236429274082,
         0.2454031055793166,
         0.23725792113691568,
         0.21938713286072015,
         0.250330407358706,
         0.21814596019685267,
         0.24030562061816454,
         0.24180462937802077,
         0.2355776784941554,
         0.2543367793783545,
         0.23155212830752134,
         0.22233365681022405,
         0.23331198673695325,
         0.23338798079639672,
         0.22783654350787402,
         0.25623150542378426,
         0.23063265662640334,
         0.2297538233920932,
         0.23828297294676304,
         0.2336568335071206,
         0.22399135269224643,
         0.25124467443674803,
         0.23794475626200437,
         0.2337237186729908,
         0.23936863467097283,
         0.23625515829771757,
         0.23967688623815775,
         0.24037770908325912,
         0.23819463327527046,
         0.2492334194481373,
         0.21833599247038366,
         0.22451886255294085,
         0.23218943495303393,
         0.227972855232656,
         0.22323013618588447,
         0.24305582325905561,
         0.25762222353368996,
         0.23126897048205136,
         0.23004286102950572,
         0.2570728241465986,
         0.23819828648120164,
         0.23921267259866,
         0.2442211365327239,
         0.24199035223573445,
         0.23413914460688828,
         0.24180730301886796,
         0.2351652318611741,
         0.2358686001971364,
         0.2379003806039691,
         0.23143306244164705,
         0.2320698279887438,
         0.23551435880362986,
         0.24944310467690228,
         0.22461465932428837,
         0.22823341703042388,
         0.21557394247502087,
         0.24910904187709093,
         0.2090005404315889
        ],
        [
         4.568602357059717,
         4.6554217748343945,
         4.539981108158827,
         4.334678512066603,
         4.689292836934328,
         4.886415991932154,
         4.768079198896885,
         5.011491630226374,
         4.864893347024918,
         4.309114620089531,
         4.629079546779394,
         4.556682009249926,
         4.754042770713568,
         4.958048362284899,
         4.486269876360893,
         4.367925710976124,
         4.9102711752057076,
         4.66318067535758,
         4.633928183466196,
         4.8156180046498775,
         4.675765436142683,
         4.76681387424469,
         4.834357678890228,
         4.871582098305225,
         4.56997400149703,
         4.538557704538107,
         4.963910423219204,
         4.810435555875301,
         4.733274560421705,
         4.79505043104291,
         4.513763684779406,
         4.648371037095785,
         4.6168667785823345,
         4.4693423844873905,
         4.528825968503952,
         4.955465141683817,
         4.725403111428022,
         4.6476822681725025,
         4.760875176638365,
         4.372400883585215,
         4.728839110583067,
         4.708343032747507,
         4.750472858548164,
         4.908062111586332,
         4.745158422738314,
         4.387742657214403,
         5.00660814717412,
         4.362919203937054,
         4.806112412363291,
         4.836092587560415,
         4.711553569883108,
         5.086735587567091,
         4.631042566150427,
         4.446673136204481,
         4.666239734739065,
         4.667759615927935,
         4.55673087015748,
         5.124630108475685,
         4.612653132528067,
         4.595076467841864,
         4.765659458935261,
         4.673136670142412,
         4.479827053844929,
         5.024893488734961,
         4.7588951252400875,
         4.674474373459816,
         4.7873726934194565,
         4.725103165954351,
         4.793537724763155,
         4.807554181665182,
         4.763892665505409,
         4.984668388962746,
         4.366719849407673,
         4.490377251058817,
         4.6437886990606785,
         4.55945710465312,
         4.4646027237176895,
         4.861116465181112,
         5.1524444706737995,
         4.6253794096410275,
         4.600857220590115,
         5.1414564829319715,
         4.763965729624033,
         4.7842534519732,
         4.884422730654478,
         4.839807044714689,
         4.682782892137766,
         4.836146060377359,
         4.703304637223482,
         4.717372003942728,
         4.758007612079382,
         4.628661248832941,
         4.641396559774876,
         4.7102871760725975,
         4.988862093538046,
         4.492293186485767,
         4.564668340608478,
         4.311478849500418,
         4.982180837541819,
         4.180010808631778
        ],
        [
         1.427766491633586,
         1.4682249578025666,
         1.408639685359271,
         1.3863251413367317,
         1.5156492069411889,
         1.5327600694934838,
         1.4925813380061297,
         1.5200077764820918,
         1.4931041564248262,
         1.4567703589860137,
         1.4376156640477948,
         1.4592698092864465,
         1.4406696365651428,
         1.5133216885285838,
         1.4775825063124142,
         1.3433564363278554,
         1.5092544876520946,
         1.4752153549281417,
         1.4707858128534628,
         1.4933879780948032,
         1.4858426275994336,
         1.473535223517347,
         1.552349899720244,
         1.543818148798281,
         1.4690266596170074,
         1.4997387900062886,
         1.513346717556632,
         1.4869703091148974,
         1.466621021762493,
         1.4326503873725251,
         1.35896933000582,
         1.4438828690150378,
         1.467359571048412,
         1.3881478339501883,
         1.4321201970870037,
         1.5391468193013726,
         1.4132412122026718,
         1.4638556265937668,
         1.4924269646411628,
         1.4497990133480534,
         1.5138833623560264,
         1.4977825362552435,
         1.4340010444673479,
         1.516902251174663,
         1.445685411352863,
         1.3565351831836616,
         1.5054107141365705,
         1.3954776443550931,
         1.4469507787742193,
         1.4721619547221119,
         1.471984450466501,
         1.557032677827855,
         1.449717430676196,
         1.3810323181063078,
         1.4369687999006056,
         1.4526143589813665,
         1.4689920262112024,
         1.4966426658456713,
         1.4557510456816316,
         1.501933367997213,
         1.4860154797375293,
         1.4387910890840698,
         1.4183854494809953,
         1.5242575436584977,
         1.4859587950571416,
         1.4714537836811459,
         1.4541094275570512,
         1.4466736811298904,
         1.4842051450651208,
         1.4736004352588983,
         1.4768953852192044,
         1.506749416506709,
         1.3988103229334983,
         1.4216523594629622,
         1.439607429242261,
         1.4872528868246064,
         1.398488563150984,
         1.5004432994139967,
         1.554345251715477,
         1.4681637284194742,
         1.4610798489313508,
         1.5418170609354784,
         1.448895518518191,
         1.490501939542031,
         1.479781839972084,
         1.5084227854771282,
         1.464576626847177,
         1.4761357082079205,
         1.4248634934285795,
         1.4723399577694916,
         1.5098722728845282,
         1.471830416952237,
         1.4281190816153109,
         1.5081245661801497,
         1.5234341963750924,
         1.464845704091292,
         1.4188370874971281,
         1.399689195193882,
         1.4652406138804757,
         1.3605484093899707
        ]
       ],
       "encoder": "json",
       "name": "ABC_GAN_1 Metrics",
       "version": 1
      }
     },
     "metadata": {
      "scrapbook": {
       "data": true,
       "display": false,
       "name": "ABC_GAN_1 Metrics"
      }
     },
     "output_type": "display_data"
    },
    {
     "name": "stdout",
     "output_type": "stream",
     "text": [
      "MSE\n",
      "0.107570907616925\n"
     ]
    }
   ],
   "source": [
    "ABC_GAN1_metrics=ABC_train_test2.test_generator(gen,test_data,prior_model,variance,bias,\"1\",device)\n",
    "sb.glue(\"ABC_GAN_1 Metrics\",ABC_GAN1_metrics)\n",
    "\n",
    "print(\"MSE\")\n",
    "print(mean(ABC_GAN1_metrics[0]))"
   ]
  },
  {
   "cell_type": "code",
   "execution_count": 14,
   "id": "eb22ce5c",
   "metadata": {
    "execution": {
     "iopub.execute_input": "2022-03-08T20:21:39.874883Z",
     "iopub.status.busy": "2022-03-08T20:21:39.874510Z",
     "iopub.status.idle": "2022-03-08T20:21:40.161387Z",
     "shell.execute_reply": "2022-03-08T20:21:40.161677Z"
    },
    "papermill": {
     "duration": 0.301356,
     "end_time": "2022-03-08T20:21:40.161797",
     "exception": false,
     "start_time": "2022-03-08T20:21:39.860441",
     "status": "completed"
    },
    "tags": []
   },
   "outputs": [
    {
     "data": {
      "image/png": "[encoded data removed]",
      "text/plain": [
       "<Figure size 432x288 with 1 Axes>"
      ]
     },
     "metadata": {
      "needs_background": "light"
     },
     "output_type": "display_data"
    },
    {
     "data": {
      "image/png": "[encoded data removed]",
      "text/plain": [
       "<Figure size 432x288 with 1 Axes>"
      ]
     },
     "metadata": {
      "needs_background": "light"
     },
     "output_type": "display_data"
    },
    {
     "data": {
      "image/png": "[encoded data removed]",
      "text/plain": [
       "<Figure size 432x288 with 1 Axes>"
      ]
     },
     "metadata": {
      "needs_background": "light"
     },
     "output_type": "display_data"
    },
    {
     "data": {
      "image/png": "[encoded data removed]",
      "text/plain": [
       "<Figure size 432x288 with 1 Axes>"
      ]
     },
     "metadata": {
      "needs_background": "light"
     },
     "output_type": "display_data"
    }
   ],
   "source": [
    "sanityChecks.discProbVsError(train_data,disc,device)\n",
    "sanityChecks.discProbVsError(test_data,disc,device)"
   ]
  },
  {
   "cell_type": "markdown",
   "id": "130f3a4d",
   "metadata": {
    "id": "130f3a4d",
    "papermill": {
     "duration": 0.035709,
     "end_time": "2022-03-08T20:21:40.212202",
     "exception": false,
     "start_time": "2022-03-08T20:21:40.176493",
     "status": "completed"
    },
    "tags": []
   },
   "source": [
    "# ABC - GAN Model with skip connection"
   ]
  },
  {
   "cell_type": "code",
   "execution_count": 15,
   "id": "4e43dad1",
   "metadata": {
    "execution": {
     "iopub.execute_input": "2022-03-08T20:21:40.244410Z",
     "iopub.status.busy": "2022-03-08T20:21:40.244032Z",
     "iopub.status.idle": "2022-03-08T20:21:40.246579Z",
     "shell.execute_reply": "2022-03-08T20:21:40.246832Z"
    },
    "id": "4e43dad1",
    "papermill": {
     "duration": 0.020165,
     "end_time": "2022-03-08T20:21:40.246943",
     "exception": false,
     "start_time": "2022-03-08T20:21:40.226778",
     "status": "completed"
    },
    "tags": []
   },
   "outputs": [],
   "source": [
    "#Generator\n",
    "gen3 = network.GeneratorWithSkipConnection(n_features+1).to(device)\n",
    "constraints=network.weightConstraint()\n",
    "#Discriminator \n",
    "disc3 = network.Discriminator(n_features+1).to(device)\n",
    "\n",
    "criterion = torch.nn.BCELoss()\n",
    "gen_opt = torch.optim.Adam(gen3.parameters(), lr=0.001, betas=(0.5, 0.999))\n",
    "disc_opt = torch.optim.Adam(disc3.parameters(), lr=0.001, betas=(0.5, 0.999))\n"
   ]
  },
  {
   "cell_type": "code",
   "execution_count": 16,
   "id": "26acbc37",
   "metadata": {
    "execution": {
     "iopub.execute_input": "2022-03-08T20:21:40.278456Z",
     "iopub.status.busy": "2022-03-08T20:21:40.278083Z",
     "iopub.status.idle": "2022-03-08T20:22:15.423894Z",
     "shell.execute_reply": "2022-03-08T20:22:15.424196Z"
    },
    "id": "26acbc37",
    "papermill": {
     "duration": 35.162747,
     "end_time": "2022-03-08T20:22:15.424318",
     "exception": false,
     "start_time": "2022-03-08T20:21:40.261571",
     "status": "completed"
    },
    "tags": []
   },
   "outputs": [
    {
     "data": {
      "image/png": "[encoded data removed]",
      "text/plain": [
       "<Figure size 432x288 with 1 Axes>"
      ]
     },
     "metadata": {
      "needs_background": "light"
     },
     "output_type": "display_data"
    },
    {
     "data": {
      "image/png": "[encoded data removed]",
      "text/plain": [
       "<Figure size 432x288 with 1 Axes>"
      ]
     },
     "metadata": {
      "needs_background": "light"
     },
     "output_type": "display_data"
    }
   ],
   "source": [
    "ABC_train_test2.training_GAN_skip_connection(disc3,gen3,disc_opt,gen_opt,train_data,batch_size,n_epochs,criterion,prior_model,variance,bias,device)"
   ]
  },
  {
   "cell_type": "code",
   "execution_count": 17,
   "id": "c5e0717b",
   "metadata": {
    "execution": {
     "iopub.execute_input": "2022-03-08T20:22:15.457780Z",
     "iopub.status.busy": "2022-03-08T20:22:15.457345Z",
     "iopub.status.idle": "2022-03-08T20:22:15.726673Z",
     "shell.execute_reply": "2022-03-08T20:22:15.726969Z"
    },
    "id": "c5e0717b",
    "papermill": {
     "duration": 0.287247,
     "end_time": "2022-03-08T20:22:15.727091",
     "exception": false,
     "start_time": "2022-03-08T20:22:15.439844",
     "status": "completed"
    },
    "tags": []
   },
   "outputs": [
    {
     "data": {
      "application/scrapbook.scrap.json+json": {
       "data": 0.06851595738807362,
       "encoder": "json",
       "name": "ABC-GAN Model 3 MSE",
       "version": 1
      }
     },
     "metadata": {
      "scrapbook": {
       "data": true,
       "display": false,
       "name": "ABC-GAN Model 3 MSE"
      }
     },
     "output_type": "display_data"
    },
    {
     "data": {
      "application/scrapbook.scrap.json+json": {
       "data": 0.20054865333810448,
       "encoder": "json",
       "name": "ABC-GAN Model 3 MAE",
       "version": 1
      }
     },
     "metadata": {
      "scrapbook": {
       "data": true,
       "display": false,
       "name": "ABC-GAN Model 3 MAE"
      }
     },
     "output_type": "display_data"
    },
    {
     "data": {
      "application/scrapbook.scrap.json+json": {
       "data": 4.01097306676209,
       "encoder": "json",
       "name": "ABC-GAN Model 3 Manhattan Distance",
       "version": 1
      }
     },
     "metadata": {
      "scrapbook": {
       "data": true,
       "display": false,
       "name": "ABC-GAN Model 3 Manhattan Distance"
      }
     },
     "output_type": "display_data"
    },
    {
     "data": {
      "application/scrapbook.scrap.json+json": {
       "data": 1.169666940307424,
       "encoder": "json",
       "name": "ABC-GAN Model 3 Euclidean distance",
       "version": 1
      }
     },
     "metadata": {
      "scrapbook": {
       "data": true,
       "display": false,
       "name": "ABC-GAN Model 3 Euclidean distance"
      }
     },
     "output_type": "display_data"
    },
    {
     "data": {
      "application/scrapbook.scrap.json+json": {
       "data": [
        [
         0.07591489603300813,
         0.07127154509659014,
         0.06770015316753278,
         0.06635015693029693,
         0.07460856838354482,
         0.06981564086051659,
         0.06508671139133576,
         0.07129381149519985,
         0.06480169604476775,
         0.06380449748809139,
         0.0646722917442262,
         0.06437679958384539,
         0.07082478080870983,
         0.06224761752767109,
         0.06985999793600527,
         0.07051908283973138,
         0.06772980779446755,
         0.054492672763946245,
         0.07251169309289236,
         0.05529012779853426,
         0.07162190996884434,
         0.06523131733681031,
         0.0664114123561049,
         0.059683292116906705,
         0.06604585098756752,
         0.06589836839550567,
         0.062282880296609874,
         0.07152807631778076,
         0.06395736552928563,
         0.05891955798613348,
         0.06745467009406511,
         0.05449757273062109,
         0.06792763308043233,
         0.06524599332341176,
         0.0718080348503685,
         0.06855270731094668,
         0.06440122920779165,
         0.0707669510542505,
         0.06778500078895341,
         0.06902319907638506,
         0.07324889564130213,
         0.06699666139136867,
         0.06791296183219904,
         0.06424145011707492,
         0.07940665371777758,
         0.07228282509949241,
         0.08077904060632943,
         0.06744375451327972,
         0.06710053924605289,
         0.0766933935063876,
         0.08225684867933511,
         0.07126638691059721,
         0.06963825128788308,
         0.0676125498242545,
         0.07029691837477127,
         0.055617738078658295,
         0.06158621039788167,
         0.07912585194632595,
         0.07607773712233742,
         0.06755229195195937,
         0.06259551576398198,
         0.07846267558366495,
         0.06896162232055195,
         0.06785003657704573,
         0.07518657404517676,
         0.06423551798358049,
         0.06903303466158026,
         0.06915084255194447,
         0.06286895421608955,
         0.06408080215319875,
         0.06826328582283621,
         0.0618528608314311,
         0.07815879523208671,
         0.065075208888509,
         0.07184990246486728,
         0.07318244380441832,
         0.060701594058166164,
         0.06863415141542452,
         0.06442881009209989,
         0.06583222729322022,
         0.06738258368216207,
         0.07668968241180837,
         0.07098614930114625,
         0.0714330620535439,
         0.07410514065131132,
         0.06395095190092408,
         0.06962095268819304,
         0.0705027298878276,
         0.07050976228477979,
         0.06793742024710414,
         0.07133796137198545,
         0.07189321088340236,
         0.0655410326237352,
         0.06698227866046894,
         0.0700029447984596,
         0.0725279576503967,
         0.07411182642793215,
         0.0675630332992428,
         0.07001519941132862,
         0.07874447097677781
        ],
        [
         0.2139295745640993,
         0.21645417232066394,
         0.20278235096484423,
         0.20405208496376873,
         0.2059062423184514,
         0.20557441804558038,
         0.18697830475866795,
         0.19629042157903315,
         0.19545080028474332,
         0.19949356634169818,
         0.1909803945571184,
         0.18836862985044717,
         0.19765259306877853,
         0.1921252639964223,
         0.19739612359553577,
         0.20436630323529242,
         0.2005925202742219,
         0.17729438189417124,
         0.20612850356847048,
         0.17625958416610957,
         0.21643894147127868,
         0.19287006538361312,
         0.18842679709196092,
         0.18246853426098825,
         0.19970363061875104,
         0.19886448979377747,
         0.18674891944974661,
         0.19740180689841508,
         0.18692856896668672,
         0.19232965232804416,
         0.20627756817266346,
         0.18514389153569938,
         0.2045871341601014,
         0.1870370667427778,
         0.2009675966575742,
         0.2003165090456605,
         0.20099678579717875,
         0.20431647151708604,
         0.20255009289830922,
         0.20542765017598869,
         0.21797953378409146,
         0.20193932261317968,
         0.19806467089802027,
         0.195267185755074,
         0.22406091783195733,
         0.20422078240662814,
         0.22122082356363534,
         0.19995136205106973,
         0.20489890184253454,
         0.21394607480615377,
         0.22432970851659775,
         0.1942700630053878,
         0.21075456049293279,
         0.20361365135759116,
         0.20385480783879756,
         0.187645623087883,
         0.18914125757291914,
         0.2028476672247052,
         0.20832053665071726,
         0.1944464860484004,
         0.19593940246850253,
         0.20859193038195373,
         0.20126171465963125,
         0.19322340916842223,
         0.2012116549536586,
         0.19093473199754954,
         0.194115406088531,
         0.20570497121661901,
         0.18223854396492242,
         0.18971609193831682,
         0.20550120752304793,
         0.18920061234384775,
         0.22219672240316868,
         0.18582045920193196,
         0.19512678515166043,
         0.20563789634034038,
         0.186687870323658,
         0.19910838808864356,
         0.1962039079517126,
         0.19966095816344023,
         0.20366589669138194,
         0.19559548515826464,
         0.2040430409833789,
         0.21038388814777137,
         0.213504708558321,
         0.18873697184026242,
         0.20562172401696444,
         0.2123133758082986,
         0.2114192008972168,
         0.20038890708237886,
         0.2157039345242083,
         0.2098735366947949,
         0.19507521465420724,
         0.20014962572604417,
         0.2045022990554571,
         0.20727902967482806,
         0.20844198372215034,
         0.19960644701495767,
         0.20390617493540047,
         0.21791887963190676
        ],
        [
         4.278591491281986,
         4.329083446413279,
         4.0556470192968845,
         4.081041699275374,
         4.118124846369028,
         4.111488360911608,
         3.739566095173359,
         3.9258084315806627,
         3.909016005694866,
         3.9898713268339634,
         3.8196078911423683,
         3.7673725970089436,
         3.9530518613755703,
         3.842505279928446,
         3.947922471910715,
         4.087326064705849,
         4.011850405484438,
         3.5458876378834248,
         4.12257007136941,
         3.5251916833221912,
         4.328778829425573,
         3.857401307672262,
         3.768535941839218,
         3.6493706852197647,
         3.994072612375021,
         3.9772897958755493,
         3.734978388994932,
         3.9480361379683018,
         3.7385713793337345,
         3.8465930465608835,
         4.125551363453269,
         3.7028778307139874,
         4.091742683202028,
         3.7407413348555565,
         4.0193519331514835,
         4.00633018091321,
         4.019935715943575,
         4.086329430341721,
         4.051001857966185,
         4.1085530035197735,
         4.3595906756818295,
         4.038786452263594,
         3.9612934179604053,
         3.9053437151014805,
         4.481218356639147,
         4.084415648132563,
         4.424416471272707,
         3.9990272410213947,
         4.097978036850691,
         4.2789214961230755,
         4.486594170331955,
         3.8854012601077557,
         4.215091209858656,
         4.072273027151823,
         4.077096156775951,
         3.75291246175766,
         3.7828251514583826,
         4.056953344494104,
         4.166410733014345,
         3.888929720968008,
         3.9187880493700504,
         4.171838607639074,
         4.025234293192625,
         3.8644681833684444,
         4.024233099073172,
         3.8186946399509907,
         3.8823081217706203,
         4.11409942433238,
         3.6447708792984486,
         3.7943218387663364,
         4.1100241504609585,
         3.784012246876955,
         4.443934448063374,
         3.716409184038639,
         3.902535703033209,
         4.1127579268068075,
         3.73375740647316,
         3.982167761772871,
         3.924078159034252,
         3.9932191632688046,
         4.073317933827639,
         3.9119097031652927,
         4.080860819667578,
         4.207677762955427,
         4.27009417116642,
         3.7747394368052483,
         4.112434480339289,
         4.246267516165972,
         4.228384017944336,
         4.007778141647577,
         4.314078690484166,
         4.197470733895898,
         3.9015042930841446,
         4.002992514520884,
         4.090045981109142,
         4.145580593496561,
         4.1688396744430065,
         3.9921289402991533,
         4.07812349870801,
         4.358377592638135
        ],
        [
         1.2321923229188545,
         1.1939141099475301,
         1.1636163729299513,
         1.151956222521472,
         1.22154466462381,
         1.1816568102500538,
         1.1409356808456448,
         1.194100594549721,
         1.1384348557977988,
         1.1296415138272087,
         1.1372976017228402,
         1.1346964315079642,
         1.1901662136752986,
         1.1157743277891914,
         1.182032131001567,
         1.1875949043317033,
         1.1638711938566704,
         1.0439604663390876,
         1.2042565598151613,
         1.051571469739782,
         1.1968451024994364,
         1.1422024105806319,
         1.1524878511819976,
         1.092550155525198,
         1.1493115416419302,
         1.1480275989322353,
         1.116090321583427,
         1.1960608372301198,
         1.1309939480765194,
         1.085537267772355,
         1.1615048006277469,
         1.0440074016080643,
         1.1655696725673015,
         1.1423308918471193,
         1.198399222716441,
         1.17092021342999,
         1.1349117076477064,
         1.1896802179934782,
         1.1643453163812993,
         1.1749314795032522,
         1.2103627195291677,
         1.157554848733905,
         1.1654437938587947,
         1.1335029785322572,
         1.2602115196884813,
         1.2023545658373191,
         1.2710549996465883,
         1.161410818903283,
         1.1584518915004878,
         1.2384941946281993,
         1.2826289305900995,
         1.1938709051702132,
         1.1801546617955045,
         1.162863275060783,
         1.1857227194818463,
         1.0546823036218849,
         1.109830711395947,
         1.25798133488797,
         1.2335131707633884,
         1.1623449741962097,
         1.1188879815601023,
         1.25269849192585,
         1.1744072745053307,
         1.1649037434659204,
         1.2262672958631553,
         1.1334506428034747,
         1.1750151885110274,
         1.1760173685107247,
         1.1213291596680215,
         1.1320848214970356,
         1.1684458551669068,
         1.1122307389335282,
         1.2502703326248026,
         1.1408348599907787,
         1.1987485346382474,
         1.2098135707985616,
         1.1018311491164712,
         1.1716155633604781,
         1.1351547039245347,
         1.1474513261417254,
         1.1608840052491212,
         1.238464229695863,
         1.1915212906293051,
         1.1952661800079838,
         1.2174164501214146,
         1.13093723876194,
         1.1800080736011347,
         1.1874571982840274,
         1.1875164191267402,
         1.165653638497338,
         1.1944702706387083,
         1.199109760475682,
         1.1449107617953043,
         1.1574305910979623,
         1.1832408444476517,
         1.2043916111497681,
         1.2174713666278327,
         1.1624373815328102,
         1.1833444081190279,
         1.2549459827162108
        ]
       ],
       "encoder": "json",
       "name": "ABC_GAN_3 Metrics",
       "version": 1
      }
     },
     "metadata": {
      "scrapbook": {
       "data": true,
       "display": false,
       "name": "ABC_GAN_3 Metrics"
      }
     },
     "output_type": "display_data"
    },
    {
     "name": "stdout",
     "output_type": "stream",
     "text": [
      "MSE\n",
      "0.06851595738807362\n"
     ]
    }
   ],
   "source": [
    "ABC_GAN3_metrics=ABC_train_test2.test_generator(gen3,test_data,prior_model,variance,bias,\"3\",device)\n",
    "sb.glue(\"ABC_GAN_3 Metrics\",ABC_GAN3_metrics)\n",
    "\n",
    "print(\"MSE\")\n",
    "print(mean(ABC_GAN3_metrics[0]))"
   ]
  },
  {
   "cell_type": "code",
   "execution_count": 18,
   "id": "c8e46b48",
   "metadata": {
    "execution": {
     "iopub.execute_input": "2022-03-08T20:22:15.763667Z",
     "iopub.status.busy": "2022-03-08T20:22:15.763297Z",
     "iopub.status.idle": "2022-03-08T20:22:16.048718Z",
     "shell.execute_reply": "2022-03-08T20:22:16.049011Z"
    },
    "id": "c8e46b48",
    "papermill": {
     "duration": 0.304814,
     "end_time": "2022-03-08T20:22:16.049135",
     "exception": false,
     "start_time": "2022-03-08T20:22:15.744321",
     "status": "completed"
    },
    "tags": []
   },
   "outputs": [
    {
     "data": {
      "image/png": "[encoded data removed]",
      "text/plain": [
       "<Figure size 432x288 with 1 Axes>"
      ]
     },
     "metadata": {
      "needs_background": "light"
     },
     "output_type": "display_data"
    },
    {
     "data": {
      "image/png": "[encoded data removed]",
      "text/plain": [
       "<Figure size 432x288 with 1 Axes>"
      ]
     },
     "metadata": {
      "needs_background": "light"
     },
     "output_type": "display_data"
    },
    {
     "data": {
      "image/png": "[encoded data removed]",
      "text/plain": [
       "<Figure size 432x288 with 1 Axes>"
      ]
     },
     "metadata": {
      "needs_background": "light"
     },
     "output_type": "display_data"
    },
    {
     "data": {
      "image/png": "[encoded data removed]",
      "text/plain": [
       "<Figure size 432x288 with 1 Axes>"
      ]
     },
     "metadata": {
      "needs_background": "light"
     },
     "output_type": "display_data"
    }
   ],
   "source": [
    "sanityChecks.discProbVsError(train_data,disc3,device)\n",
    "sanityChecks.discProbVsError(test_data,disc3,device)"
   ]
  },
  {
   "cell_type": "markdown",
   "id": "a5bd74c3",
   "metadata": {
    "id": "a5bd74c3",
    "papermill": {
     "duration": 0.019082,
     "end_time": "2022-03-08T20:22:16.087967",
     "exception": false,
     "start_time": "2022-03-08T20:22:16.068885",
     "status": "completed"
    },
    "tags": []
   },
   "source": [
    "## Skip Connection Model Analysis - ABC-GAN "
   ]
  },
  {
   "cell_type": "markdown",
   "id": "5744a8bf",
   "metadata": {
    "id": "5744a8bf",
    "papermill": {
     "duration": 0.018936,
     "end_time": "2022-03-08T20:22:16.125945",
     "exception": false,
     "start_time": "2022-03-08T20:22:16.107009",
     "status": "completed"
    },
    "tags": []
   },
   "source": [
    "### Weight Analysis \n",
    "\n",
    "Study the weights of the skip connection layer\n",
    "\n",
    "Equation of the skip connection is \n",
    "\n",
    "$output = y_{gan} * w + y_{abc} * (1-w)$"
   ]
  },
  {
   "cell_type": "code",
   "execution_count": 19,
   "id": "52c31dea",
   "metadata": {
    "execution": {
     "iopub.execute_input": "2022-03-08T20:22:16.166957Z",
     "iopub.status.busy": "2022-03-08T20:22:16.166508Z",
     "iopub.status.idle": "2022-03-08T20:22:16.170017Z",
     "shell.execute_reply": "2022-03-08T20:22:16.170259Z"
    },
    "id": "52c31dea",
    "papermill": {
     "duration": 0.025393,
     "end_time": "2022-03-08T20:22:16.170370",
     "exception": false,
     "start_time": "2022-03-08T20:22:16.144977",
     "status": "completed"
    },
    "tags": []
   },
   "outputs": [
    {
     "name": "stdout",
     "output_type": "stream",
     "text": [
      "Weight of the node at skip connection\n",
      "Parameter containing:\n",
      "tensor([[0.6636]], requires_grad=True)\n"
     ]
    },
    {
     "data": {
      "application/scrapbook.scrap.json+json": {
       "data": 0.6636379957199097,
       "encoder": "json",
       "name": "Skip Connection Weight",
       "version": 1
      }
     },
     "metadata": {
      "scrapbook": {
       "data": true,
       "display": false,
       "name": "Skip Connection Weight"
      }
     },
     "output_type": "display_data"
    }
   ],
   "source": [
    "print(\"Weight of the node at skip connection\")\n",
    "for name,param in gen3.named_parameters():\n",
    "    if(name == \"skipNode.weight\"):\n",
    "        print(param)\n",
    "        sb.glue(\"Skip Connection Weight\",param.item())"
   ]
  }
 ],
 "metadata": {
  "colab": {
   "collapsed_sections": [],
   "name": "ABC_GAN_Model-Catboost_Pre-gen.ipynb",
   "provenance": []
  },
  "interpreter": {
   "hash": "31f2aee4e71d21fbe5cf8b01ff0e069b9275f58929596ceb00d14d90e3e16cd6"
  },
  "kernelspec": {
   "display_name": "Python 3 (ipykernel)",
   "language": "python",
   "name": "python3"
  },
  "language_info": {
   "codemirror_mode": {
    "name": "ipython",
    "version": 3
   },
   "file_extension": ".py",
   "mimetype": "text/x-python",
   "name": "python",
   "nbconvert_exporter": "python",
   "pygments_lexer": "ipython3",
   "version": "3.8.11"
  },
  "papermill": {
   "default_parameters": {},
   "duration": 53.470384,
   "end_time": "2022-03-08T20:22:16.500141",
   "environment_variables": {},
   "exception": null,
   "input_path": "ABC_GAN-Catboost.ipynb",
   "output_path": "./ABC_GAN_Catboost/ABC-GAN_output_5_7.ipynb",
   "parameters": {
    "bias": 0.01,
    "variance": 0.1
   },
   "start_time": "2022-03-08T20:21:23.029757",
   "version": "2.3.3"
  }
 },
 "nbformat": 4,
 "nbformat_minor": 5
}