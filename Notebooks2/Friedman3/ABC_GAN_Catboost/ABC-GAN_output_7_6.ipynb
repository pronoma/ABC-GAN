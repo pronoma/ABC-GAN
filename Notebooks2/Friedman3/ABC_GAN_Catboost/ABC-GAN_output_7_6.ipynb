{
 "cells": [
  {
   "cell_type": "markdown",
   "id": "622780e6",
   "metadata": {
    "id": "622780e6",
    "papermill": {
     "duration": 0.020292,
     "end_time": "2022-06-13T07:28:51.326900",
     "exception": false,
     "start_time": "2022-06-13T07:28:51.306608",
     "status": "completed"
    },
    "tags": []
   },
   "source": [
    "## Import Libraries "
   ]
  },
  {
   "cell_type": "code",
   "execution_count": 1,
   "id": "a62397e3",
   "metadata": {
    "execution": {
     "iopub.execute_input": "2022-06-13T07:28:51.348141Z",
     "iopub.status.busy": "2022-06-13T07:28:51.347744Z",
     "iopub.status.idle": "2022-06-13T07:28:51.349901Z",
     "shell.execute_reply": "2022-06-13T07:28:51.350230Z"
    },
    "id": "a62397e3",
    "papermill": {
     "duration": 0.01556,
     "end_time": "2022-06-13T07:28:51.350432",
     "exception": false,
     "start_time": "2022-06-13T07:28:51.334872",
     "status": "completed"
    },
    "tags": []
   },
   "outputs": [],
   "source": [
    "import warnings\n",
    "import sys\n",
    "sys.path.insert(0, '../../src')\n",
    "warnings.filterwarnings('ignore')"
   ]
  },
  {
   "cell_type": "code",
   "execution_count": 2,
   "id": "d6a4e155",
   "metadata": {
    "execution": {
     "iopub.execute_input": "2022-06-13T07:28:51.369098Z",
     "iopub.status.busy": "2022-06-13T07:28:51.368639Z",
     "iopub.status.idle": "2022-06-13T07:28:53.297617Z",
     "shell.execute_reply": "2022-06-13T07:28:53.297883Z"
    },
    "id": "d6a4e155",
    "papermill": {
     "duration": 1.939738,
     "end_time": "2022-06-13T07:28:53.298006",
     "exception": false,
     "start_time": "2022-06-13T07:28:51.358268",
     "status": "completed"
    },
    "tags": []
   },
   "outputs": [],
   "source": [
    "import ABC_train_test2\n",
    "import friedman3Dataset\n",
    "import network\n",
    "import dataset\n",
    "import sanityChecks\n",
    "import torch \n",
    "import scrapbook as sb\n",
    "from statistics import mean \n",
    "import catboost as ctb \n",
    "from sklearn.model_selection import train_test_split\n",
    "from sklearn.metrics import mean_squared_error,mean_absolute_error\n",
    "import numpy as np"
   ]
  },
  {
   "cell_type": "markdown",
   "id": "2fa5b0f7",
   "metadata": {
    "id": "2fa5b0f7",
    "papermill": {
     "duration": 0.007206,
     "end_time": "2022-06-13T07:28:53.312698",
     "exception": false,
     "start_time": "2022-06-13T07:28:53.305492",
     "status": "completed"
    },
    "tags": []
   },
   "source": [
    "## Parameters "
   ]
  },
  {
   "cell_type": "code",
   "execution_count": 3,
   "id": "783186fb",
   "metadata": {
    "execution": {
     "iopub.execute_input": "2022-06-13T07:28:53.329457Z",
     "iopub.status.busy": "2022-06-13T07:28:53.329018Z",
     "iopub.status.idle": "2022-06-13T07:28:53.330358Z",
     "shell.execute_reply": "2022-06-13T07:28:53.330617Z"
    },
    "id": "783186fb",
    "papermill": {
     "duration": 0.011212,
     "end_time": "2022-06-13T07:28:53.330736",
     "exception": false,
     "start_time": "2022-06-13T07:28:53.319524",
     "status": "completed"
    },
    "tags": [
     "parameters"
    ]
   },
   "outputs": [],
   "source": [
    "variance = 1\n",
    "bias = 1 "
   ]
  },
  {
   "cell_type": "code",
   "execution_count": 4,
   "id": "aef2655f",
   "metadata": {
    "execution": {
     "iopub.execute_input": "2022-06-13T07:28:53.347212Z",
     "iopub.status.busy": "2022-06-13T07:28:53.346839Z",
     "iopub.status.idle": "2022-06-13T07:28:53.348136Z",
     "shell.execute_reply": "2022-06-13T07:28:53.348382Z"
    },
    "papermill": {
     "duration": 0.010612,
     "end_time": "2022-06-13T07:28:53.348498",
     "exception": false,
     "start_time": "2022-06-13T07:28:53.337886",
     "status": "completed"
    },
    "tags": [
     "injected-parameters"
    ]
   },
   "outputs": [],
   "source": [
    "# Parameters\n",
    "variance = 1\n",
    "bias = 0.01\n"
   ]
  },
  {
   "cell_type": "markdown",
   "id": "391cdbfd",
   "metadata": {
    "id": "391cdbfd",
    "papermill": {
     "duration": 0.007003,
     "end_time": "2022-06-13T07:28:53.362542",
     "exception": false,
     "start_time": "2022-06-13T07:28:53.355539",
     "status": "completed"
    },
    "tags": []
   },
   "source": [
    "## Dataset \n"
   ]
  },
  {
   "cell_type": "code",
   "execution_count": 5,
   "id": "5b51f161",
   "metadata": {
    "execution": {
     "iopub.execute_input": "2022-06-13T07:28:53.379117Z",
     "iopub.status.busy": "2022-06-13T07:28:53.378750Z",
     "iopub.status.idle": "2022-06-13T07:28:53.380011Z",
     "shell.execute_reply": "2022-06-13T07:28:53.380253Z"
    },
    "id": "5b51f161",
    "papermill": {
     "duration": 0.010818,
     "end_time": "2022-06-13T07:28:53.380366",
     "exception": false,
     "start_time": "2022-06-13T07:28:53.369548",
     "status": "completed"
    },
    "tags": []
   },
   "outputs": [],
   "source": [
    "#Parameters \n",
    "n_features = 4\n",
    "n_samples= 100\n",
    "n_target = 1"
   ]
  },
  {
   "cell_type": "code",
   "execution_count": 6,
   "id": "5d6eced4",
   "metadata": {
    "execution": {
     "iopub.execute_input": "2022-06-13T07:28:53.396681Z",
     "iopub.status.busy": "2022-06-13T07:28:53.396296Z",
     "iopub.status.idle": "2022-06-13T07:28:53.402736Z",
     "shell.execute_reply": "2022-06-13T07:28:53.402978Z"
    },
    "id": "5d6eced4",
    "papermill": {
     "duration": 0.015654,
     "end_time": "2022-06-13T07:28:53.403098",
     "exception": false,
     "start_time": "2022-06-13T07:28:53.387444",
     "status": "completed"
    },
    "tags": []
   },
   "outputs": [
    {
     "name": "stdout",
     "output_type": "stream",
     "text": [
      "          X1           X2        X3        X4         Y\n",
      "0  33.765582  1509.546248  0.796105  3.704784  1.636487\n",
      "1  48.114458  1700.740037  0.018145  7.614128  0.574700\n",
      "2  17.133115  1228.433025  0.838126  6.059457  1.617979\n",
      "3  57.266771   761.078457  0.595843  9.068316  1.437819\n",
      "4  11.726293   554.142241  0.760855  3.618307  1.402978\n"
     ]
    }
   ],
   "source": [
    "X,Y = friedman3Dataset.friedman3_data(n_samples)"
   ]
  },
  {
   "cell_type": "code",
   "execution_count": 7,
   "id": "fe007438",
   "metadata": {
    "execution": {
     "iopub.execute_input": "2022-06-13T07:28:53.420992Z",
     "iopub.status.busy": "2022-06-13T07:28:53.420627Z",
     "iopub.status.idle": "2022-06-13T07:28:53.421912Z",
     "shell.execute_reply": "2022-06-13T07:28:53.422157Z"
    },
    "id": "fe007438",
    "papermill": {
     "duration": 0.011525,
     "end_time": "2022-06-13T07:28:53.422271",
     "exception": false,
     "start_time": "2022-06-13T07:28:53.410746",
     "status": "completed"
    },
    "tags": []
   },
   "outputs": [],
   "source": [
    "#Train test split for dataset \n",
    "X_train,X_test,Y_train,Y_test = train_test_split(X,Y,test_size = 0.2)\n",
    "train_data = dataset.CustomDataset(X_train,Y_train)\n",
    "test_data = dataset.CustomDataset(X_test,Y_test)\n"
   ]
  },
  {
   "cell_type": "markdown",
   "id": "a9a1af34",
   "metadata": {
    "id": "a9a1af34",
    "papermill": {
     "duration": 0.007155,
     "end_time": "2022-06-13T07:28:53.436723",
     "exception": false,
     "start_time": "2022-06-13T07:28:53.429568",
     "status": "completed"
    },
    "tags": []
   },
   "source": [
    "## Training Parameters "
   ]
  },
  {
   "cell_type": "code",
   "execution_count": 8,
   "id": "952b7fc8",
   "metadata": {
    "execution": {
     "iopub.execute_input": "2022-06-13T07:28:53.453456Z",
     "iopub.status.busy": "2022-06-13T07:28:53.453092Z",
     "iopub.status.idle": "2022-06-13T07:28:53.454373Z",
     "shell.execute_reply": "2022-06-13T07:28:53.454619Z"
    },
    "id": "952b7fc8",
    "papermill": {
     "duration": 0.010953,
     "end_time": "2022-06-13T07:28:53.454767",
     "exception": false,
     "start_time": "2022-06-13T07:28:53.443814",
     "status": "completed"
    },
    "tags": []
   },
   "outputs": [],
   "source": [
    "batch_size = 32\n",
    "n_epochs = 1000\n",
    "#Select the device \n",
    "device = torch.device('cuda' if torch.cuda.is_available() else 'cpu')"
   ]
  },
  {
   "cell_type": "markdown",
   "id": "a95e1600",
   "metadata": {
    "id": "a95e1600",
    "papermill": {
     "duration": 0.007216,
     "end_time": "2022-06-13T07:28:53.469466",
     "exception": false,
     "start_time": "2022-06-13T07:28:53.462250",
     "status": "completed"
    },
    "tags": []
   },
   "source": [
    "# ABC Pre-generator Model \n",
    "\n",
    "1. The catboost model is used as a pre-generator model for the ABC-GAN. \n",
    "2. The model is first trained on the entire dataset \n",
    "3. It generats X,Y pairs and we add some Gaussian noise with mean 0 and variance 1 to it which is then feed as input to the generator.\n"
   ]
  },
  {
   "cell_type": "code",
   "execution_count": 9,
   "id": "ff8ce7bd",
   "metadata": {
    "execution": {
     "iopub.execute_input": "2022-06-13T07:28:53.488007Z",
     "iopub.status.busy": "2022-06-13T07:28:53.487548Z",
     "iopub.status.idle": "2022-06-13T07:28:54.255211Z",
     "shell.execute_reply": "2022-06-13T07:28:54.255713Z"
    },
    "id": "ff8ce7bd",
    "papermill": {
     "duration": 0.779109,
     "end_time": "2022-06-13T07:28:54.255850",
     "exception": false,
     "start_time": "2022-06-13T07:28:53.476741",
     "status": "completed"
    },
    "tags": []
   },
   "outputs": [
    {
     "name": "stdout",
     "output_type": "stream",
     "text": [
      "Learning rate set to 0.024897\n",
      "0:\tlearn: 0.9045699\ttotal: 58.1ms\tremaining: 58s\n",
      "1:\tlearn: 0.8961672\ttotal: 58.7ms\tremaining: 29.3s\n",
      "2:\tlearn: 0.8899042\ttotal: 59.2ms\tremaining: 19.7s\n",
      "3:\tlearn: 0.8804089\ttotal: 59.7ms\tremaining: 14.9s\n",
      "4:\tlearn: 0.8719245\ttotal: 60.5ms\tremaining: 12s\n",
      "5:\tlearn: 0.8642596\ttotal: 61ms\tremaining: 10.1s\n",
      "6:\tlearn: 0.8578041\ttotal: 61.3ms\tremaining: 8.7s\n",
      "7:\tlearn: 0.8513126\ttotal: 61.8ms\tremaining: 7.67s\n",
      "8:\tlearn: 0.8432738\ttotal: 62.3ms\tremaining: 6.86s\n",
      "9:\tlearn: 0.8356952\ttotal: 62.9ms\tremaining: 6.22s\n",
      "10:\tlearn: 0.8277976\ttotal: 63.3ms\tremaining: 5.69s\n",
      "11:\tlearn: 0.8207830\ttotal: 63.8ms\tremaining: 5.25s\n",
      "12:\tlearn: 0.8122015\ttotal: 64.3ms\tremaining: 4.88s\n",
      "13:\tlearn: 0.8048954\ttotal: 64.5ms\tremaining: 4.54s\n",
      "14:\tlearn: 0.7997060\ttotal: 65ms\tremaining: 4.27s\n",
      "15:\tlearn: 0.7951175\ttotal: 65.6ms\tremaining: 4.03s\n",
      "16:\tlearn: 0.7888014\ttotal: 66.4ms\tremaining: 3.84s\n",
      "17:\tlearn: 0.7830290\ttotal: 66.8ms\tremaining: 3.65s\n",
      "18:\tlearn: 0.7757239\ttotal: 67.3ms\tremaining: 3.48s\n",
      "19:\tlearn: 0.7694598\ttotal: 67.8ms\tremaining: 3.32s\n",
      "20:\tlearn: 0.7618455\ttotal: 68.2ms\tremaining: 3.18s\n",
      "21:\tlearn: 0.7568978\ttotal: 69.3ms\tremaining: 3.08s\n",
      "22:\tlearn: 0.7502692\ttotal: 69.8ms\tremaining: 2.96s\n",
      "23:\tlearn: 0.7437635\ttotal: 70.4ms\tremaining: 2.86s\n",
      "24:\tlearn: 0.7376370\ttotal: 70.8ms\tremaining: 2.76s\n",
      "25:\tlearn: 0.7317966\ttotal: 71.3ms\tremaining: 2.67s\n",
      "26:\tlearn: 0.7248762\ttotal: 71.7ms\tremaining: 2.58s\n",
      "27:\tlearn: 0.7186347\ttotal: 72.1ms\tremaining: 2.5s\n",
      "28:\tlearn: 0.7129910\ttotal: 72.5ms\tremaining: 2.43s\n",
      "29:\tlearn: 0.7088978\ttotal: 72.8ms\tremaining: 2.35s\n",
      "30:\tlearn: 0.7026684\ttotal: 73.2ms\tremaining: 2.29s\n",
      "31:\tlearn: 0.6972055\ttotal: 73.6ms\tremaining: 2.23s\n",
      "32:\tlearn: 0.6910150\ttotal: 73.9ms\tremaining: 2.17s\n",
      "33:\tlearn: 0.6857522\ttotal: 74.3ms\tremaining: 2.11s\n",
      "34:\tlearn: 0.6822894\ttotal: 74.7ms\tremaining: 2.06s\n",
      "35:\tlearn: 0.6758675\ttotal: 75.2ms\tremaining: 2.01s\n",
      "36:\tlearn: 0.6712740\ttotal: 75.6ms\tremaining: 1.97s\n",
      "37:\tlearn: 0.6658798\ttotal: 76.7ms\tremaining: 1.94s\n",
      "38:\tlearn: 0.6605137\ttotal: 77.1ms\tremaining: 1.9s\n",
      "39:\tlearn: 0.6550400\ttotal: 77.5ms\tremaining: 1.86s\n",
      "40:\tlearn: 0.6497005\ttotal: 77.8ms\tremaining: 1.82s\n",
      "41:\tlearn: 0.6452482\ttotal: 78.2ms\tremaining: 1.78s\n",
      "42:\tlearn: 0.6392450\ttotal: 78.7ms\tremaining: 1.75s\n",
      "43:\tlearn: 0.6346704\ttotal: 79.1ms\tremaining: 1.72s\n",
      "44:\tlearn: 0.6291651\ttotal: 79.5ms\tremaining: 1.69s\n",
      "45:\tlearn: 0.6250328\ttotal: 80ms\tremaining: 1.66s\n",
      "46:\tlearn: 0.6208486\ttotal: 80.7ms\tremaining: 1.64s\n",
      "47:\tlearn: 0.6158199\ttotal: 81.4ms\tremaining: 1.61s\n",
      "48:\tlearn: 0.6116562\ttotal: 82ms\tremaining: 1.59s\n",
      "49:\tlearn: 0.6075131\ttotal: 82.5ms\tremaining: 1.57s\n",
      "50:\tlearn: 0.6030738\ttotal: 82.9ms\tremaining: 1.54s\n",
      "51:\tlearn: 0.5986814\ttotal: 83.2ms\tremaining: 1.52s\n",
      "52:\tlearn: 0.5930986\ttotal: 83.7ms\tremaining: 1.5s\n",
      "53:\tlearn: 0.5887360\ttotal: 84.2ms\tremaining: 1.48s\n",
      "54:\tlearn: 0.5838856\ttotal: 84.8ms\tremaining: 1.46s\n",
      "55:\tlearn: 0.5787448\ttotal: 85.3ms\tremaining: 1.44s\n",
      "56:\tlearn: 0.5740427\ttotal: 85.7ms\tremaining: 1.42s\n",
      "57:\tlearn: 0.5702658\ttotal: 86.2ms\tremaining: 1.4s\n",
      "58:\tlearn: 0.5661769\ttotal: 86.6ms\tremaining: 1.38s\n",
      "59:\tlearn: 0.5621284\ttotal: 87.1ms\tremaining: 1.36s\n",
      "60:\tlearn: 0.5567116\ttotal: 87.7ms\tremaining: 1.35s\n",
      "61:\tlearn: 0.5527926\ttotal: 88.3ms\tremaining: 1.33s\n",
      "62:\tlearn: 0.5485015\ttotal: 88.8ms\tremaining: 1.32s\n",
      "63:\tlearn: 0.5447767\ttotal: 89.3ms\tremaining: 1.31s\n",
      "64:\tlearn: 0.5400381\ttotal: 89.7ms\tremaining: 1.29s\n",
      "65:\tlearn: 0.5360764\ttotal: 90.4ms\tremaining: 1.28s\n",
      "66:\tlearn: 0.5320616\ttotal: 91ms\tremaining: 1.27s\n",
      "67:\tlearn: 0.5272308\ttotal: 91.7ms\tremaining: 1.26s\n",
      "68:\tlearn: 0.5232538\ttotal: 92.2ms\tremaining: 1.24s\n",
      "69:\tlearn: 0.5192425\ttotal: 92.7ms\tremaining: 1.23s\n",
      "70:\tlearn: 0.5157369\ttotal: 93.2ms\tremaining: 1.22s\n",
      "71:\tlearn: 0.5111135\ttotal: 93.6ms\tremaining: 1.21s\n",
      "72:\tlearn: 0.5073690\ttotal: 94.2ms\tremaining: 1.2s\n",
      "73:\tlearn: 0.5036027\ttotal: 94.8ms\tremaining: 1.19s\n",
      "74:\tlearn: 0.4992051\ttotal: 95.5ms\tremaining: 1.18s\n",
      "75:\tlearn: 0.4951158\ttotal: 96ms\tremaining: 1.17s\n",
      "76:\tlearn: 0.4912475\ttotal: 96.6ms\tremaining: 1.16s\n",
      "77:\tlearn: 0.4879872\ttotal: 97.3ms\tremaining: 1.15s\n",
      "78:\tlearn: 0.4845445\ttotal: 98.1ms\tremaining: 1.14s\n",
      "79:\tlearn: 0.4815045\ttotal: 98.7ms\tremaining: 1.14s\n",
      "80:\tlearn: 0.4779594\ttotal: 99.3ms\tremaining: 1.13s\n",
      "81:\tlearn: 0.4745957\ttotal: 99.9ms\tremaining: 1.12s\n",
      "82:\tlearn: 0.4707330\ttotal: 100ms\tremaining: 1.11s\n",
      "83:\tlearn: 0.4674795\ttotal: 101ms\tremaining: 1.1s\n",
      "84:\tlearn: 0.4645232\ttotal: 101ms\tremaining: 1.09s\n",
      "85:\tlearn: 0.4609965\ttotal: 102ms\tremaining: 1.08s\n",
      "86:\tlearn: 0.4572745\ttotal: 102ms\tremaining: 1.07s\n",
      "87:\tlearn: 0.4543145\ttotal: 103ms\tremaining: 1.06s\n",
      "88:\tlearn: 0.4514199\ttotal: 103ms\tremaining: 1.06s\n",
      "89:\tlearn: 0.4486438\ttotal: 104ms\tremaining: 1.05s\n",
      "90:\tlearn: 0.4466182\ttotal: 104ms\tremaining: 1.04s\n"
     ]
    },
    {
     "name": "stdout",
     "output_type": "stream",
     "text": [
      "91:\tlearn: 0.4435931\ttotal: 105ms\tremaining: 1.03s\n",
      "92:\tlearn: 0.4412785\ttotal: 106ms\tremaining: 1.03s\n",
      "93:\tlearn: 0.4384128\ttotal: 106ms\tremaining: 1.02s\n",
      "94:\tlearn: 0.4346955\ttotal: 107ms\tremaining: 1.02s\n",
      "95:\tlearn: 0.4319922\ttotal: 107ms\tremaining: 1.01s\n",
      "96:\tlearn: 0.4290713\ttotal: 108ms\tremaining: 1s\n",
      "97:\tlearn: 0.4256920\ttotal: 108ms\tremaining: 996ms\n",
      "98:\tlearn: 0.4235219\ttotal: 109ms\tremaining: 990ms\n",
      "99:\tlearn: 0.4207470\ttotal: 109ms\tremaining: 984ms\n",
      "100:\tlearn: 0.4178871\ttotal: 110ms\tremaining: 977ms\n",
      "101:\tlearn: 0.4157164\ttotal: 110ms\tremaining: 969ms\n",
      "102:\tlearn: 0.4134218\ttotal: 110ms\tremaining: 961ms\n",
      "103:\tlearn: 0.4102921\ttotal: 111ms\tremaining: 954ms\n",
      "104:\tlearn: 0.4076198\ttotal: 111ms\tremaining: 949ms\n",
      "105:\tlearn: 0.4050881\ttotal: 112ms\tremaining: 944ms\n",
      "106:\tlearn: 0.4026953\ttotal: 112ms\tremaining: 938ms\n",
      "107:\tlearn: 0.4004287\ttotal: 113ms\tremaining: 932ms\n",
      "108:\tlearn: 0.3974452\ttotal: 113ms\tremaining: 925ms\n",
      "109:\tlearn: 0.3952360\ttotal: 113ms\tremaining: 918ms\n",
      "110:\tlearn: 0.3924027\ttotal: 114ms\tremaining: 912ms\n",
      "111:\tlearn: 0.3900941\ttotal: 114ms\tremaining: 906ms\n",
      "112:\tlearn: 0.3879728\ttotal: 115ms\tremaining: 902ms\n",
      "113:\tlearn: 0.3854530\ttotal: 115ms\tremaining: 897ms\n",
      "114:\tlearn: 0.3828269\ttotal: 116ms\tremaining: 891ms\n",
      "115:\tlearn: 0.3803878\ttotal: 116ms\tremaining: 886ms\n",
      "116:\tlearn: 0.3775743\ttotal: 117ms\tremaining: 881ms\n",
      "117:\tlearn: 0.3750351\ttotal: 117ms\tremaining: 876ms\n",
      "118:\tlearn: 0.3726692\ttotal: 118ms\tremaining: 871ms\n",
      "119:\tlearn: 0.3709599\ttotal: 118ms\tremaining: 866ms\n",
      "120:\tlearn: 0.3685566\ttotal: 118ms\tremaining: 860ms\n",
      "121:\tlearn: 0.3662541\ttotal: 119ms\tremaining: 856ms\n",
      "122:\tlearn: 0.3648316\ttotal: 119ms\tremaining: 851ms\n",
      "123:\tlearn: 0.3624940\ttotal: 120ms\tremaining: 846ms\n",
      "124:\tlearn: 0.3603957\ttotal: 120ms\tremaining: 842ms\n",
      "125:\tlearn: 0.3581966\ttotal: 121ms\tremaining: 837ms\n",
      "126:\tlearn: 0.3559392\ttotal: 121ms\tremaining: 832ms\n",
      "127:\tlearn: 0.3538054\ttotal: 122ms\tremaining: 828ms\n",
      "128:\tlearn: 0.3520719\ttotal: 122ms\tremaining: 824ms\n",
      "129:\tlearn: 0.3497696\ttotal: 122ms\tremaining: 820ms\n",
      "130:\tlearn: 0.3485066\ttotal: 123ms\tremaining: 816ms\n",
      "131:\tlearn: 0.3457350\ttotal: 124ms\tremaining: 812ms\n",
      "132:\tlearn: 0.3435883\ttotal: 124ms\tremaining: 809ms\n",
      "133:\tlearn: 0.3414622\ttotal: 124ms\tremaining: 804ms\n",
      "134:\tlearn: 0.3393805\ttotal: 125ms\tremaining: 799ms\n",
      "135:\tlearn: 0.3375742\ttotal: 125ms\tremaining: 796ms\n",
      "136:\tlearn: 0.3350655\ttotal: 126ms\tremaining: 792ms\n",
      "137:\tlearn: 0.3327868\ttotal: 126ms\tremaining: 788ms\n",
      "138:\tlearn: 0.3306015\ttotal: 127ms\tremaining: 785ms\n",
      "139:\tlearn: 0.3286541\ttotal: 127ms\tremaining: 781ms\n",
      "140:\tlearn: 0.3265005\ttotal: 128ms\tremaining: 778ms\n",
      "141:\tlearn: 0.3246718\ttotal: 128ms\tremaining: 774ms\n",
      "142:\tlearn: 0.3229939\ttotal: 129ms\tremaining: 770ms\n",
      "143:\tlearn: 0.3210597\ttotal: 129ms\tremaining: 766ms\n",
      "144:\tlearn: 0.3194626\ttotal: 129ms\tremaining: 763ms\n",
      "145:\tlearn: 0.3179687\ttotal: 130ms\tremaining: 759ms\n",
      "146:\tlearn: 0.3162370\ttotal: 130ms\tremaining: 755ms\n",
      "147:\tlearn: 0.3141356\ttotal: 131ms\tremaining: 753ms\n",
      "148:\tlearn: 0.3122899\ttotal: 131ms\tremaining: 750ms\n",
      "149:\tlearn: 0.3108957\ttotal: 132ms\tremaining: 747ms\n",
      "150:\tlearn: 0.3089535\ttotal: 132ms\tremaining: 744ms\n",
      "151:\tlearn: 0.3073012\ttotal: 133ms\tremaining: 740ms\n",
      "152:\tlearn: 0.3058776\ttotal: 133ms\tremaining: 737ms\n",
      "153:\tlearn: 0.3036774\ttotal: 134ms\tremaining: 734ms\n",
      "154:\tlearn: 0.3022664\ttotal: 134ms\tremaining: 731ms\n",
      "155:\tlearn: 0.3008838\ttotal: 135ms\tremaining: 728ms\n",
      "156:\tlearn: 0.2989658\ttotal: 135ms\tremaining: 725ms\n",
      "157:\tlearn: 0.2973783\ttotal: 135ms\tremaining: 722ms\n",
      "158:\tlearn: 0.2961375\ttotal: 136ms\tremaining: 719ms\n",
      "159:\tlearn: 0.2948066\ttotal: 136ms\tremaining: 716ms\n",
      "160:\tlearn: 0.2931863\ttotal: 137ms\tremaining: 713ms\n",
      "161:\tlearn: 0.2919051\ttotal: 138ms\tremaining: 712ms\n",
      "162:\tlearn: 0.2902925\ttotal: 138ms\tremaining: 709ms\n",
      "163:\tlearn: 0.2884658\ttotal: 139ms\tremaining: 707ms\n",
      "164:\tlearn: 0.2869002\ttotal: 139ms\tremaining: 704ms\n",
      "165:\tlearn: 0.2850401\ttotal: 140ms\tremaining: 702ms\n",
      "166:\tlearn: 0.2837288\ttotal: 140ms\tremaining: 700ms\n",
      "167:\tlearn: 0.2823481\ttotal: 141ms\tremaining: 698ms\n",
      "168:\tlearn: 0.2804271\ttotal: 142ms\tremaining: 696ms\n",
      "169:\tlearn: 0.2790517\ttotal: 142ms\tremaining: 694ms\n",
      "170:\tlearn: 0.2776193\ttotal: 143ms\tremaining: 692ms\n",
      "171:\tlearn: 0.2757893\ttotal: 143ms\tremaining: 690ms\n",
      "172:\tlearn: 0.2740518\ttotal: 144ms\tremaining: 688ms\n",
      "173:\tlearn: 0.2726839\ttotal: 145ms\tremaining: 686ms\n",
      "174:\tlearn: 0.2713102\ttotal: 145ms\tremaining: 684ms\n",
      "175:\tlearn: 0.2699468\ttotal: 146ms\tremaining: 683ms\n",
      "176:\tlearn: 0.2684137\ttotal: 146ms\tremaining: 681ms\n",
      "177:\tlearn: 0.2672941\ttotal: 147ms\tremaining: 678ms\n",
      "178:\tlearn: 0.2661881\ttotal: 148ms\tremaining: 677ms\n",
      "179:\tlearn: 0.2651351\ttotal: 148ms\tremaining: 675ms\n",
      "180:\tlearn: 0.2635928\ttotal: 149ms\tremaining: 673ms\n",
      "181:\tlearn: 0.2624598\ttotal: 149ms\tremaining: 671ms\n",
      "182:\tlearn: 0.2607879\ttotal: 150ms\tremaining: 669ms\n",
      "183:\tlearn: 0.2595510\ttotal: 150ms\tremaining: 666ms\n",
      "184:\tlearn: 0.2581946\ttotal: 151ms\tremaining: 664ms\n",
      "185:\tlearn: 0.2567818\ttotal: 151ms\tremaining: 662ms\n",
      "186:\tlearn: 0.2554386\ttotal: 152ms\tremaining: 659ms\n",
      "187:\tlearn: 0.2547284\ttotal: 152ms\tremaining: 657ms\n",
      "188:\tlearn: 0.2537403\ttotal: 153ms\tremaining: 655ms\n",
      "189:\tlearn: 0.2525655\ttotal: 153ms\tremaining: 653ms\n",
      "190:\tlearn: 0.2514345\ttotal: 154ms\tremaining: 651ms\n",
      "191:\tlearn: 0.2502364\ttotal: 154ms\tremaining: 649ms\n",
      "192:\tlearn: 0.2490777\ttotal: 155ms\tremaining: 646ms\n",
      "193:\tlearn: 0.2480849\ttotal: 155ms\tremaining: 644ms\n",
      "194:\tlearn: 0.2467881\ttotal: 156ms\tremaining: 642ms\n",
      "195:\tlearn: 0.2454756\ttotal: 156ms\tremaining: 641ms\n",
      "196:\tlearn: 0.2444232\ttotal: 157ms\tremaining: 638ms\n",
      "197:\tlearn: 0.2434125\ttotal: 157ms\tremaining: 636ms\n",
      "198:\tlearn: 0.2423706\ttotal: 157ms\tremaining: 634ms\n",
      "199:\tlearn: 0.2411482\ttotal: 158ms\tremaining: 632ms\n",
      "200:\tlearn: 0.2399391\ttotal: 158ms\tremaining: 630ms\n",
      "201:\tlearn: 0.2389645\ttotal: 159ms\tremaining: 627ms\n",
      "202:\tlearn: 0.2378507\ttotal: 159ms\tremaining: 625ms\n",
      "203:\tlearn: 0.2366512\ttotal: 159ms\tremaining: 622ms\n",
      "204:\tlearn: 0.2355927\ttotal: 160ms\tremaining: 620ms\n",
      "205:\tlearn: 0.2344174\ttotal: 160ms\tremaining: 618ms\n",
      "206:\tlearn: 0.2335601\ttotal: 161ms\tremaining: 616ms\n",
      "207:\tlearn: 0.2324902\ttotal: 161ms\tremaining: 614ms\n",
      "208:\tlearn: 0.2317091\ttotal: 162ms\tremaining: 613ms\n",
      "209:\tlearn: 0.2310106\ttotal: 162ms\tremaining: 611ms\n",
      "210:\tlearn: 0.2301224\ttotal: 163ms\tremaining: 609ms\n",
      "211:\tlearn: 0.2292256\ttotal: 163ms\tremaining: 607ms\n",
      "212:\tlearn: 0.2282423\ttotal: 164ms\tremaining: 606ms\n",
      "213:\tlearn: 0.2274925\ttotal: 164ms\tremaining: 603ms\n",
      "214:\tlearn: 0.2265504\ttotal: 165ms\tremaining: 602ms\n",
      "215:\tlearn: 0.2253511\ttotal: 165ms\tremaining: 600ms\n",
      "216:\tlearn: 0.2244782\ttotal: 166ms\tremaining: 598ms\n",
      "217:\tlearn: 0.2235990\ttotal: 166ms\tremaining: 596ms\n",
      "218:\tlearn: 0.2226712\ttotal: 166ms\tremaining: 594ms\n",
      "219:\tlearn: 0.2217109\ttotal: 167ms\tremaining: 592ms\n",
      "220:\tlearn: 0.2208266\ttotal: 167ms\tremaining: 590ms\n",
      "221:\tlearn: 0.2200107\ttotal: 168ms\tremaining: 588ms\n",
      "222:\tlearn: 0.2192440\ttotal: 168ms\tremaining: 585ms\n",
      "223:\tlearn: 0.2181523\ttotal: 168ms\tremaining: 583ms\n",
      "224:\tlearn: 0.2173253\ttotal: 169ms\tremaining: 582ms\n",
      "225:\tlearn: 0.2161952\ttotal: 169ms\tremaining: 580ms\n",
      "226:\tlearn: 0.2157184\ttotal: 170ms\tremaining: 579ms\n",
      "227:\tlearn: 0.2144721\ttotal: 171ms\tremaining: 578ms\n",
      "228:\tlearn: 0.2135613\ttotal: 171ms\tremaining: 576ms\n",
      "229:\tlearn: 0.2127288\ttotal: 172ms\tremaining: 574ms\n",
      "230:\tlearn: 0.2116073\ttotal: 172ms\tremaining: 573ms\n",
      "231:\tlearn: 0.2107988\ttotal: 173ms\tremaining: 572ms\n",
      "232:\tlearn: 0.2097404\ttotal: 173ms\tremaining: 570ms\n",
      "233:\tlearn: 0.2089659\ttotal: 174ms\tremaining: 568ms\n",
      "234:\tlearn: 0.2080392\ttotal: 174ms\tremaining: 567ms\n",
      "235:\tlearn: 0.2068585\ttotal: 175ms\tremaining: 566ms\n",
      "236:\tlearn: 0.2058872\ttotal: 175ms\tremaining: 564ms\n",
      "237:\tlearn: 0.2050204\ttotal: 176ms\tremaining: 562ms\n",
      "238:\tlearn: 0.2039955\ttotal: 176ms\tremaining: 560ms\n",
      "239:\tlearn: 0.2030332\ttotal: 176ms\tremaining: 559ms\n",
      "240:\tlearn: 0.2020394\ttotal: 177ms\tremaining: 558ms\n",
      "241:\tlearn: 0.2015406\ttotal: 178ms\tremaining: 556ms\n",
      "242:\tlearn: 0.2010394\ttotal: 178ms\tremaining: 555ms\n",
      "243:\tlearn: 0.2002585\ttotal: 178ms\tremaining: 553ms\n",
      "244:\tlearn: 0.1993147\ttotal: 179ms\tremaining: 551ms\n",
      "245:\tlearn: 0.1987353\ttotal: 179ms\tremaining: 549ms\n",
      "246:\tlearn: 0.1978049\ttotal: 180ms\tremaining: 547ms\n",
      "247:\tlearn: 0.1967703\ttotal: 180ms\tremaining: 546ms\n",
      "248:\tlearn: 0.1960157\ttotal: 180ms\tremaining: 544ms\n",
      "249:\tlearn: 0.1950216\ttotal: 181ms\tremaining: 542ms\n",
      "250:\tlearn: 0.1937807\ttotal: 181ms\tremaining: 541ms\n",
      "251:\tlearn: 0.1931112\ttotal: 182ms\tremaining: 540ms\n",
      "252:\tlearn: 0.1920903\ttotal: 182ms\tremaining: 539ms\n",
      "253:\tlearn: 0.1913206\ttotal: 183ms\tremaining: 537ms\n",
      "254:\tlearn: 0.1907250\ttotal: 183ms\tremaining: 536ms\n",
      "255:\tlearn: 0.1898654\ttotal: 184ms\tremaining: 534ms\n",
      "256:\tlearn: 0.1892343\ttotal: 184ms\tremaining: 532ms\n",
      "257:\tlearn: 0.1884267\ttotal: 185ms\tremaining: 531ms\n"
     ]
    },
    {
     "name": "stdout",
     "output_type": "stream",
     "text": [
      "258:\tlearn: 0.1879161\ttotal: 186ms\tremaining: 531ms\n",
      "259:\tlearn: 0.1872054\ttotal: 186ms\tremaining: 530ms\n",
      "260:\tlearn: 0.1863350\ttotal: 187ms\tremaining: 529ms\n",
      "261:\tlearn: 0.1858308\ttotal: 187ms\tremaining: 527ms\n",
      "262:\tlearn: 0.1852198\ttotal: 188ms\tremaining: 526ms\n",
      "263:\tlearn: 0.1844723\ttotal: 188ms\tremaining: 524ms\n",
      "264:\tlearn: 0.1835464\ttotal: 188ms\tremaining: 522ms\n",
      "265:\tlearn: 0.1828155\ttotal: 189ms\tremaining: 521ms\n",
      "266:\tlearn: 0.1821427\ttotal: 189ms\tremaining: 519ms\n",
      "267:\tlearn: 0.1816591\ttotal: 190ms\tremaining: 518ms\n",
      "268:\tlearn: 0.1812418\ttotal: 190ms\tremaining: 517ms\n",
      "269:\tlearn: 0.1806218\ttotal: 191ms\tremaining: 515ms\n",
      "270:\tlearn: 0.1801743\ttotal: 191ms\tremaining: 514ms\n",
      "271:\tlearn: 0.1796774\ttotal: 192ms\tremaining: 513ms\n",
      "272:\tlearn: 0.1790947\ttotal: 192ms\tremaining: 512ms\n",
      "273:\tlearn: 0.1786237\ttotal: 193ms\tremaining: 510ms\n",
      "274:\tlearn: 0.1777349\ttotal: 193ms\tremaining: 509ms\n",
      "275:\tlearn: 0.1771415\ttotal: 193ms\tremaining: 507ms\n",
      "276:\tlearn: 0.1765444\ttotal: 194ms\tremaining: 506ms\n",
      "277:\tlearn: 0.1758099\ttotal: 194ms\tremaining: 504ms\n",
      "278:\tlearn: 0.1752485\ttotal: 195ms\tremaining: 503ms\n",
      "279:\tlearn: 0.1748375\ttotal: 195ms\tremaining: 501ms\n",
      "280:\tlearn: 0.1738613\ttotal: 195ms\tremaining: 500ms\n",
      "281:\tlearn: 0.1733246\ttotal: 196ms\tremaining: 499ms\n",
      "282:\tlearn: 0.1725555\ttotal: 196ms\tremaining: 497ms\n",
      "283:\tlearn: 0.1721109\ttotal: 197ms\tremaining: 496ms\n",
      "284:\tlearn: 0.1715989\ttotal: 197ms\tremaining: 495ms\n",
      "285:\tlearn: 0.1711155\ttotal: 198ms\tremaining: 494ms\n",
      "286:\tlearn: 0.1703691\ttotal: 198ms\tremaining: 492ms\n",
      "287:\tlearn: 0.1693369\ttotal: 199ms\tremaining: 491ms\n",
      "288:\tlearn: 0.1687979\ttotal: 199ms\tremaining: 490ms\n",
      "289:\tlearn: 0.1679503\ttotal: 200ms\tremaining: 489ms\n",
      "290:\tlearn: 0.1675744\ttotal: 200ms\tremaining: 488ms\n",
      "291:\tlearn: 0.1669642\ttotal: 201ms\tremaining: 487ms\n",
      "292:\tlearn: 0.1661037\ttotal: 201ms\tremaining: 485ms\n",
      "293:\tlearn: 0.1656525\ttotal: 201ms\tremaining: 484ms\n",
      "294:\tlearn: 0.1648993\ttotal: 202ms\tremaining: 482ms\n",
      "295:\tlearn: 0.1642146\ttotal: 202ms\tremaining: 481ms\n",
      "296:\tlearn: 0.1634344\ttotal: 203ms\tremaining: 480ms\n",
      "297:\tlearn: 0.1627359\ttotal: 203ms\tremaining: 478ms\n",
      "298:\tlearn: 0.1622856\ttotal: 204ms\tremaining: 477ms\n",
      "299:\tlearn: 0.1616777\ttotal: 204ms\tremaining: 476ms\n",
      "300:\tlearn: 0.1612438\ttotal: 205ms\tremaining: 475ms\n",
      "301:\tlearn: 0.1607999\ttotal: 205ms\tremaining: 474ms\n",
      "302:\tlearn: 0.1604381\ttotal: 205ms\tremaining: 472ms\n",
      "303:\tlearn: 0.1597891\ttotal: 206ms\tremaining: 471ms\n",
      "304:\tlearn: 0.1590656\ttotal: 206ms\tremaining: 470ms\n",
      "305:\tlearn: 0.1581364\ttotal: 207ms\tremaining: 469ms\n",
      "306:\tlearn: 0.1578062\ttotal: 207ms\tremaining: 467ms\n",
      "307:\tlearn: 0.1571206\ttotal: 207ms\tremaining: 466ms\n",
      "308:\tlearn: 0.1565060\ttotal: 208ms\tremaining: 465ms\n",
      "309:\tlearn: 0.1560081\ttotal: 208ms\tremaining: 464ms\n",
      "310:\tlearn: 0.1551162\ttotal: 209ms\tremaining: 462ms\n",
      "311:\tlearn: 0.1547976\ttotal: 209ms\tremaining: 461ms\n",
      "312:\tlearn: 0.1542081\ttotal: 210ms\tremaining: 460ms\n",
      "313:\tlearn: 0.1536181\ttotal: 210ms\tremaining: 459ms\n",
      "314:\tlearn: 0.1527820\ttotal: 211ms\tremaining: 458ms\n",
      "315:\tlearn: 0.1523967\ttotal: 211ms\tremaining: 457ms\n",
      "316:\tlearn: 0.1518675\ttotal: 211ms\tremaining: 456ms\n",
      "317:\tlearn: 0.1513980\ttotal: 212ms\tremaining: 455ms\n",
      "318:\tlearn: 0.1505487\ttotal: 212ms\tremaining: 454ms\n",
      "319:\tlearn: 0.1500302\ttotal: 213ms\tremaining: 452ms\n",
      "320:\tlearn: 0.1496447\ttotal: 213ms\tremaining: 451ms\n",
      "321:\tlearn: 0.1493030\ttotal: 214ms\tremaining: 450ms\n",
      "322:\tlearn: 0.1486327\ttotal: 214ms\tremaining: 449ms\n",
      "323:\tlearn: 0.1482685\ttotal: 215ms\tremaining: 448ms\n",
      "324:\tlearn: 0.1474109\ttotal: 215ms\tremaining: 447ms\n",
      "325:\tlearn: 0.1468750\ttotal: 216ms\tremaining: 446ms\n",
      "326:\tlearn: 0.1461489\ttotal: 216ms\tremaining: 445ms\n",
      "327:\tlearn: 0.1458061\ttotal: 217ms\tremaining: 444ms\n",
      "328:\tlearn: 0.1450281\ttotal: 217ms\tremaining: 443ms\n",
      "329:\tlearn: 0.1446105\ttotal: 217ms\tremaining: 442ms\n",
      "330:\tlearn: 0.1441026\ttotal: 218ms\tremaining: 440ms\n",
      "331:\tlearn: 0.1435455\ttotal: 218ms\tremaining: 439ms\n",
      "332:\tlearn: 0.1432560\ttotal: 219ms\tremaining: 438ms\n",
      "333:\tlearn: 0.1429504\ttotal: 219ms\tremaining: 437ms\n",
      "334:\tlearn: 0.1426086\ttotal: 220ms\tremaining: 436ms\n",
      "335:\tlearn: 0.1421188\ttotal: 220ms\tremaining: 435ms\n",
      "336:\tlearn: 0.1415628\ttotal: 221ms\tremaining: 434ms\n",
      "337:\tlearn: 0.1412072\ttotal: 221ms\tremaining: 433ms\n",
      "338:\tlearn: 0.1404721\ttotal: 222ms\tremaining: 432ms\n",
      "339:\tlearn: 0.1397254\ttotal: 222ms\tremaining: 431ms\n",
      "340:\tlearn: 0.1393446\ttotal: 223ms\tremaining: 430ms\n",
      "341:\tlearn: 0.1390762\ttotal: 223ms\tremaining: 429ms\n",
      "342:\tlearn: 0.1383660\ttotal: 223ms\tremaining: 428ms\n",
      "343:\tlearn: 0.1376639\ttotal: 224ms\tremaining: 427ms\n",
      "344:\tlearn: 0.1369714\ttotal: 225ms\tremaining: 427ms\n",
      "345:\tlearn: 0.1366438\ttotal: 225ms\tremaining: 426ms\n"
     ]
    },
    {
     "name": "stdout",
     "output_type": "stream",
     "text": [
      "346:\tlearn: 0.1358453\ttotal: 226ms\tremaining: 425ms\n",
      "347:\tlearn: 0.1355416\ttotal: 227ms\tremaining: 425ms\n",
      "348:\tlearn: 0.1348296\ttotal: 228ms\tremaining: 424ms\n",
      "349:\tlearn: 0.1345067\ttotal: 229ms\tremaining: 425ms\n",
      "350:\tlearn: 0.1338565\ttotal: 231ms\tremaining: 427ms\n",
      "351:\tlearn: 0.1332287\ttotal: 233ms\tremaining: 429ms\n",
      "352:\tlearn: 0.1329296\ttotal: 234ms\tremaining: 430ms\n",
      "353:\tlearn: 0.1326581\ttotal: 236ms\tremaining: 430ms\n",
      "354:\tlearn: 0.1319986\ttotal: 237ms\tremaining: 431ms\n",
      "355:\tlearn: 0.1317071\ttotal: 238ms\tremaining: 430ms\n",
      "356:\tlearn: 0.1310595\ttotal: 239ms\tremaining: 431ms\n",
      "357:\tlearn: 0.1307559\ttotal: 240ms\tremaining: 431ms\n",
      "358:\tlearn: 0.1301289\ttotal: 241ms\tremaining: 430ms\n",
      "359:\tlearn: 0.1295349\ttotal: 241ms\tremaining: 428ms\n",
      "360:\tlearn: 0.1289022\ttotal: 241ms\tremaining: 427ms\n",
      "361:\tlearn: 0.1282807\ttotal: 242ms\tremaining: 426ms\n",
      "362:\tlearn: 0.1278832\ttotal: 242ms\tremaining: 425ms\n",
      "363:\tlearn: 0.1273309\ttotal: 242ms\tremaining: 423ms\n",
      "364:\tlearn: 0.1270563\ttotal: 243ms\tremaining: 422ms\n",
      "365:\tlearn: 0.1268313\ttotal: 243ms\tremaining: 421ms\n",
      "366:\tlearn: 0.1262700\ttotal: 243ms\tremaining: 420ms\n",
      "367:\tlearn: 0.1256952\ttotal: 244ms\tremaining: 419ms\n",
      "368:\tlearn: 0.1251606\ttotal: 244ms\tremaining: 418ms\n",
      "369:\tlearn: 0.1245674\ttotal: 245ms\tremaining: 416ms\n",
      "370:\tlearn: 0.1242994\ttotal: 245ms\tremaining: 415ms\n",
      "371:\tlearn: 0.1240338\ttotal: 245ms\tremaining: 414ms\n",
      "372:\tlearn: 0.1235033\ttotal: 246ms\tremaining: 413ms\n",
      "373:\tlearn: 0.1232424\ttotal: 246ms\tremaining: 412ms\n",
      "374:\tlearn: 0.1226992\ttotal: 246ms\tremaining: 411ms\n",
      "375:\tlearn: 0.1221320\ttotal: 247ms\tremaining: 410ms\n",
      "376:\tlearn: 0.1219225\ttotal: 247ms\tremaining: 408ms\n",
      "377:\tlearn: 0.1213587\ttotal: 248ms\tremaining: 407ms\n",
      "378:\tlearn: 0.1208604\ttotal: 248ms\tremaining: 406ms\n",
      "379:\tlearn: 0.1206546\ttotal: 248ms\tremaining: 405ms\n",
      "380:\tlearn: 0.1201188\ttotal: 249ms\tremaining: 404ms\n",
      "381:\tlearn: 0.1196981\ttotal: 249ms\tremaining: 403ms\n",
      "382:\tlearn: 0.1191718\ttotal: 249ms\tremaining: 402ms\n",
      "383:\tlearn: 0.1189630\ttotal: 250ms\tremaining: 401ms\n",
      "384:\tlearn: 0.1187164\ttotal: 250ms\tremaining: 400ms\n",
      "385:\tlearn: 0.1181926\ttotal: 251ms\tremaining: 399ms\n",
      "386:\tlearn: 0.1176745\ttotal: 252ms\tremaining: 400ms\n",
      "387:\tlearn: 0.1171744\ttotal: 253ms\tremaining: 399ms\n",
      "388:\tlearn: 0.1169242\ttotal: 253ms\tremaining: 398ms\n",
      "389:\tlearn: 0.1164862\ttotal: 253ms\tremaining: 396ms\n",
      "390:\tlearn: 0.1160558\ttotal: 254ms\tremaining: 395ms\n",
      "391:\tlearn: 0.1156326\ttotal: 254ms\tremaining: 394ms\n",
      "392:\tlearn: 0.1152342\ttotal: 255ms\tremaining: 393ms\n",
      "393:\tlearn: 0.1149543\ttotal: 255ms\tremaining: 392ms\n",
      "394:\tlearn: 0.1146725\ttotal: 255ms\tremaining: 391ms\n",
      "395:\tlearn: 0.1139944\ttotal: 256ms\tremaining: 390ms\n",
      "396:\tlearn: 0.1137197\ttotal: 256ms\tremaining: 389ms\n",
      "397:\tlearn: 0.1133053\ttotal: 257ms\tremaining: 388ms\n",
      "398:\tlearn: 0.1130924\ttotal: 257ms\tremaining: 387ms\n",
      "399:\tlearn: 0.1128608\ttotal: 257ms\tremaining: 386ms\n",
      "400:\tlearn: 0.1124794\ttotal: 258ms\tremaining: 385ms\n",
      "401:\tlearn: 0.1122527\ttotal: 258ms\tremaining: 384ms\n",
      "402:\tlearn: 0.1118541\ttotal: 258ms\tremaining: 383ms\n",
      "403:\tlearn: 0.1112066\ttotal: 259ms\tremaining: 382ms\n",
      "404:\tlearn: 0.1109484\ttotal: 259ms\tremaining: 381ms\n",
      "405:\tlearn: 0.1103161\ttotal: 260ms\tremaining: 380ms\n",
      "406:\tlearn: 0.1100631\ttotal: 260ms\tremaining: 379ms\n",
      "407:\tlearn: 0.1094456\ttotal: 260ms\tremaining: 378ms\n",
      "408:\tlearn: 0.1092290\ttotal: 261ms\tremaining: 377ms\n",
      "409:\tlearn: 0.1088122\ttotal: 261ms\tremaining: 376ms\n",
      "410:\tlearn: 0.1084168\ttotal: 261ms\tremaining: 375ms\n",
      "411:\tlearn: 0.1082059\ttotal: 272ms\tremaining: 388ms\n",
      "412:\tlearn: 0.1079240\ttotal: 272ms\tremaining: 387ms\n"
     ]
    },
    {
     "name": "stdout",
     "output_type": "stream",
     "text": [
      "413:\tlearn: 0.1075380\ttotal: 303ms\tremaining: 428ms\n",
      "414:\tlearn: 0.1071614\ttotal: 303ms\tremaining: 427ms\n",
      "415:\tlearn: 0.1069037\ttotal: 303ms\tremaining: 426ms\n",
      "416:\tlearn: 0.1064653\ttotal: 304ms\tremaining: 425ms\n",
      "417:\tlearn: 0.1058835\ttotal: 304ms\tremaining: 424ms\n",
      "418:\tlearn: 0.1055194\ttotal: 305ms\tremaining: 423ms\n",
      "419:\tlearn: 0.1052709\ttotal: 305ms\tremaining: 422ms\n",
      "420:\tlearn: 0.1049120\ttotal: 306ms\tremaining: 420ms\n",
      "421:\tlearn: 0.1048006\ttotal: 306ms\tremaining: 419ms\n",
      "422:\tlearn: 0.1046908\ttotal: 307ms\tremaining: 418ms\n",
      "423:\tlearn: 0.1045825\ttotal: 307ms\tremaining: 417ms\n",
      "424:\tlearn: 0.1044758\ttotal: 308ms\tremaining: 416ms\n",
      "425:\tlearn: 0.1041004\ttotal: 308ms\tremaining: 415ms\n",
      "426:\tlearn: 0.1037976\ttotal: 309ms\tremaining: 414ms\n",
      "427:\tlearn: 0.1036933\ttotal: 309ms\tremaining: 413ms\n",
      "428:\tlearn: 0.1035905\ttotal: 309ms\tremaining: 412ms\n",
      "429:\tlearn: 0.1034891\ttotal: 310ms\tremaining: 411ms\n",
      "430:\tlearn: 0.1031476\ttotal: 310ms\tremaining: 410ms\n",
      "431:\tlearn: 0.1030483\ttotal: 311ms\tremaining: 409ms\n",
      "432:\tlearn: 0.1029503\ttotal: 311ms\tremaining: 408ms\n",
      "433:\tlearn: 0.1028537\ttotal: 323ms\tremaining: 422ms\n",
      "434:\tlearn: 0.1027585\ttotal: 327ms\tremaining: 425ms\n",
      "435:\tlearn: 0.1026645\ttotal: 327ms\tremaining: 424ms\n",
      "436:\tlearn: 0.1023337\ttotal: 330ms\tremaining: 425ms\n",
      "437:\tlearn: 0.1022415\ttotal: 330ms\tremaining: 424ms\n",
      "438:\tlearn: 0.1021504\ttotal: 331ms\tremaining: 422ms\n",
      "439:\tlearn: 0.1018680\ttotal: 331ms\tremaining: 421ms\n",
      "440:\tlearn: 0.1017787\ttotal: 332ms\tremaining: 421ms\n",
      "441:\tlearn: 0.1016905\ttotal: 333ms\tremaining: 420ms\n",
      "442:\tlearn: 0.1014141\ttotal: 333ms\tremaining: 419ms\n",
      "443:\tlearn: 0.1013276\ttotal: 333ms\tremaining: 418ms\n",
      "444:\tlearn: 0.1007918\ttotal: 334ms\tremaining: 416ms\n",
      "445:\tlearn: 0.1006744\ttotal: 334ms\tremaining: 415ms\n",
      "446:\tlearn: 0.1005591\ttotal: 335ms\tremaining: 414ms\n",
      "447:\tlearn: 0.1004760\ttotal: 335ms\tremaining: 413ms\n",
      "448:\tlearn: 0.1003939\ttotal: 336ms\tremaining: 412ms\n",
      "449:\tlearn: 0.1002828\ttotal: 336ms\tremaining: 411ms\n",
      "450:\tlearn: 0.1000177\ttotal: 337ms\tremaining: 410ms\n",
      "451:\tlearn: 0.0999381\ttotal: 338ms\tremaining: 409ms\n",
      "452:\tlearn: 0.0998595\ttotal: 338ms\tremaining: 408ms\n",
      "453:\tlearn: 0.0996000\ttotal: 338ms\tremaining: 407ms\n",
      "454:\tlearn: 0.0995229\ttotal: 339ms\tremaining: 406ms\n",
      "455:\tlearn: 0.0994468\ttotal: 339ms\tremaining: 405ms\n",
      "456:\tlearn: 0.0991472\ttotal: 340ms\tremaining: 404ms\n",
      "457:\tlearn: 0.0987462\ttotal: 340ms\tremaining: 403ms\n",
      "458:\tlearn: 0.0986435\ttotal: 341ms\tremaining: 402ms\n",
      "459:\tlearn: 0.0985428\ttotal: 341ms\tremaining: 400ms\n",
      "460:\tlearn: 0.0981524\ttotal: 342ms\tremaining: 399ms\n",
      "461:\tlearn: 0.0978219\ttotal: 342ms\tremaining: 398ms\n",
      "462:\tlearn: 0.0975007\ttotal: 342ms\tremaining: 397ms\n",
      "463:\tlearn: 0.0971359\ttotal: 343ms\tremaining: 396ms\n",
      "464:\tlearn: 0.0967782\ttotal: 343ms\tremaining: 395ms\n",
      "465:\tlearn: 0.0964839\ttotal: 344ms\tremaining: 394ms\n",
      "466:\tlearn: 0.0963343\ttotal: 344ms\tremaining: 393ms\n",
      "467:\tlearn: 0.0959837\ttotal: 345ms\tremaining: 392ms\n",
      "468:\tlearn: 0.0956950\ttotal: 345ms\tremaining: 391ms\n",
      "469:\tlearn: 0.0954545\ttotal: 346ms\tremaining: 390ms\n",
      "470:\tlearn: 0.0953216\ttotal: 346ms\tremaining: 389ms\n",
      "471:\tlearn: 0.0950398\ttotal: 346ms\tremaining: 387ms\n",
      "472:\tlearn: 0.0948957\ttotal: 347ms\tremaining: 386ms\n",
      "473:\tlearn: 0.0946507\ttotal: 347ms\tremaining: 385ms\n",
      "474:\tlearn: 0.0943946\ttotal: 347ms\tremaining: 384ms\n",
      "475:\tlearn: 0.0941440\ttotal: 348ms\tremaining: 383ms\n",
      "476:\tlearn: 0.0938043\ttotal: 348ms\tremaining: 382ms\n",
      "477:\tlearn: 0.0935939\ttotal: 348ms\tremaining: 381ms\n",
      "478:\tlearn: 0.0933613\ttotal: 349ms\tremaining: 379ms\n",
      "479:\tlearn: 0.0931796\ttotal: 349ms\tremaining: 378ms\n",
      "480:\tlearn: 0.0930008\ttotal: 350ms\tremaining: 377ms\n",
      "481:\tlearn: 0.0927583\ttotal: 350ms\tremaining: 376ms\n",
      "482:\tlearn: 0.0926382\ttotal: 351ms\tremaining: 375ms\n",
      "483:\tlearn: 0.0924647\ttotal: 351ms\tremaining: 374ms\n",
      "484:\tlearn: 0.0922949\ttotal: 352ms\tremaining: 373ms\n",
      "485:\tlearn: 0.0919663\ttotal: 352ms\tremaining: 372ms\n",
      "486:\tlearn: 0.0918497\ttotal: 353ms\tremaining: 372ms\n",
      "487:\tlearn: 0.0917345\ttotal: 354ms\tremaining: 371ms\n",
      "488:\tlearn: 0.0915124\ttotal: 354ms\tremaining: 370ms\n",
      "489:\tlearn: 0.0913464\ttotal: 355ms\tremaining: 370ms\n",
      "490:\tlearn: 0.0910453\ttotal: 356ms\tremaining: 369ms\n",
      "491:\tlearn: 0.0909168\ttotal: 356ms\tremaining: 367ms\n",
      "492:\tlearn: 0.0907206\ttotal: 356ms\tremaining: 367ms\n",
      "493:\tlearn: 0.0906085\ttotal: 357ms\tremaining: 366ms\n",
      "494:\tlearn: 0.0901588\ttotal: 357ms\tremaining: 364ms\n",
      "495:\tlearn: 0.0898700\ttotal: 357ms\tremaining: 363ms\n",
      "496:\tlearn: 0.0896048\ttotal: 358ms\tremaining: 362ms\n",
      "497:\tlearn: 0.0892780\ttotal: 358ms\tremaining: 361ms\n",
      "498:\tlearn: 0.0889439\ttotal: 359ms\tremaining: 360ms\n",
      "499:\tlearn: 0.0885120\ttotal: 359ms\tremaining: 359ms\n",
      "500:\tlearn: 0.0882354\ttotal: 359ms\tremaining: 358ms\n",
      "501:\tlearn: 0.0879969\ttotal: 360ms\tremaining: 357ms\n",
      "502:\tlearn: 0.0877647\ttotal: 360ms\tremaining: 356ms\n",
      "503:\tlearn: 0.0874430\ttotal: 361ms\tremaining: 355ms\n",
      "504:\tlearn: 0.0871827\ttotal: 361ms\tremaining: 354ms\n",
      "505:\tlearn: 0.0870645\ttotal: 362ms\tremaining: 353ms\n",
      "506:\tlearn: 0.0869450\ttotal: 362ms\tremaining: 352ms\n",
      "507:\tlearn: 0.0866912\ttotal: 362ms\tremaining: 351ms\n",
      "508:\tlearn: 0.0865829\ttotal: 363ms\tremaining: 350ms\n",
      "509:\tlearn: 0.0862716\ttotal: 363ms\tremaining: 349ms\n",
      "510:\tlearn: 0.0858945\ttotal: 364ms\tremaining: 348ms\n",
      "511:\tlearn: 0.0855894\ttotal: 364ms\tremaining: 347ms\n",
      "512:\tlearn: 0.0853433\ttotal: 365ms\tremaining: 346ms\n",
      "513:\tlearn: 0.0852294\ttotal: 365ms\tremaining: 345ms\n",
      "514:\tlearn: 0.0849317\ttotal: 366ms\tremaining: 344ms\n",
      "515:\tlearn: 0.0847007\ttotal: 366ms\tremaining: 343ms\n",
      "516:\tlearn: 0.0845900\ttotal: 367ms\tremaining: 343ms\n",
      "517:\tlearn: 0.0844811\ttotal: 367ms\tremaining: 342ms\n",
      "518:\tlearn: 0.0841166\ttotal: 368ms\tremaining: 341ms\n",
      "519:\tlearn: 0.0838267\ttotal: 368ms\tremaining: 340ms\n",
      "520:\tlearn: 0.0834279\ttotal: 369ms\tremaining: 339ms\n",
      "521:\tlearn: 0.0832442\ttotal: 369ms\tremaining: 338ms\n",
      "522:\tlearn: 0.0831395\ttotal: 370ms\tremaining: 337ms\n",
      "523:\tlearn: 0.0827897\ttotal: 370ms\tremaining: 336ms\n",
      "524:\tlearn: 0.0823840\ttotal: 371ms\tremaining: 335ms\n",
      "525:\tlearn: 0.0822878\ttotal: 371ms\tremaining: 335ms\n",
      "526:\tlearn: 0.0819222\ttotal: 372ms\tremaining: 334ms\n",
      "527:\tlearn: 0.0817141\ttotal: 372ms\tremaining: 333ms\n",
      "528:\tlearn: 0.0816144\ttotal: 373ms\tremaining: 332ms\n",
      "529:\tlearn: 0.0812600\ttotal: 373ms\tremaining: 331ms\n",
      "530:\tlearn: 0.0810696\ttotal: 373ms\tremaining: 330ms\n",
      "531:\tlearn: 0.0809731\ttotal: 374ms\tremaining: 329ms\n",
      "532:\tlearn: 0.0807689\ttotal: 374ms\tremaining: 328ms\n",
      "533:\tlearn: 0.0806738\ttotal: 375ms\tremaining: 327ms\n",
      "534:\tlearn: 0.0803319\ttotal: 375ms\tremaining: 326ms\n",
      "535:\tlearn: 0.0800855\ttotal: 376ms\tremaining: 325ms\n",
      "536:\tlearn: 0.0798310\ttotal: 376ms\tremaining: 324ms\n",
      "537:\tlearn: 0.0795560\ttotal: 376ms\tremaining: 323ms\n",
      "538:\tlearn: 0.0792861\ttotal: 377ms\tremaining: 322ms\n",
      "539:\tlearn: 0.0791059\ttotal: 377ms\tremaining: 321ms\n",
      "540:\tlearn: 0.0788419\ttotal: 378ms\tremaining: 320ms\n",
      "541:\tlearn: 0.0785137\ttotal: 378ms\tremaining: 319ms\n",
      "542:\tlearn: 0.0783179\ttotal: 379ms\tremaining: 319ms\n",
      "543:\tlearn: 0.0781431\ttotal: 379ms\tremaining: 318ms\n",
      "544:\tlearn: 0.0780098\ttotal: 379ms\tremaining: 317ms\n",
      "545:\tlearn: 0.0777660\ttotal: 380ms\tremaining: 316ms\n",
      "546:\tlearn: 0.0774849\ttotal: 380ms\tremaining: 315ms\n",
      "547:\tlearn: 0.0773509\ttotal: 381ms\tremaining: 314ms\n",
      "548:\tlearn: 0.0771141\ttotal: 381ms\tremaining: 313ms\n",
      "549:\tlearn: 0.0768617\ttotal: 382ms\tremaining: 312ms\n",
      "550:\tlearn: 0.0767759\ttotal: 383ms\tremaining: 312ms\n",
      "551:\tlearn: 0.0765884\ttotal: 383ms\tremaining: 311ms\n",
      "552:\tlearn: 0.0764581\ttotal: 384ms\tremaining: 310ms\n",
      "553:\tlearn: 0.0761972\ttotal: 385ms\tremaining: 310ms\n",
      "554:\tlearn: 0.0760688\ttotal: 385ms\tremaining: 309ms\n",
      "555:\tlearn: 0.0758231\ttotal: 386ms\tremaining: 308ms\n",
      "556:\tlearn: 0.0755583\ttotal: 386ms\tremaining: 307ms\n",
      "557:\tlearn: 0.0754218\ttotal: 387ms\tremaining: 306ms\n",
      "558:\tlearn: 0.0751193\ttotal: 387ms\tremaining: 306ms\n",
      "559:\tlearn: 0.0749673\ttotal: 388ms\tremaining: 305ms\n",
      "560:\tlearn: 0.0748439\ttotal: 388ms\tremaining: 304ms\n",
      "561:\tlearn: 0.0744821\ttotal: 389ms\tremaining: 303ms\n",
      "562:\tlearn: 0.0743293\ttotal: 389ms\tremaining: 302ms\n",
      "563:\tlearn: 0.0740767\ttotal: 390ms\tremaining: 301ms\n",
      "564:\tlearn: 0.0739564\ttotal: 390ms\tremaining: 300ms\n",
      "565:\tlearn: 0.0737802\ttotal: 391ms\tremaining: 300ms\n",
      "566:\tlearn: 0.0736761\ttotal: 391ms\tremaining: 299ms\n",
      "567:\tlearn: 0.0735038\ttotal: 392ms\tremaining: 298ms\n",
      "568:\tlearn: 0.0732733\ttotal: 392ms\tremaining: 297ms\n",
      "569:\tlearn: 0.0730619\ttotal: 393ms\tremaining: 296ms\n",
      "570:\tlearn: 0.0729445\ttotal: 393ms\tremaining: 295ms\n",
      "571:\tlearn: 0.0725933\ttotal: 394ms\tremaining: 294ms\n",
      "572:\tlearn: 0.0724508\ttotal: 394ms\tremaining: 294ms\n",
      "573:\tlearn: 0.0722838\ttotal: 394ms\tremaining: 293ms\n",
      "574:\tlearn: 0.0720429\ttotal: 395ms\tremaining: 292ms\n",
      "575:\tlearn: 0.0719287\ttotal: 395ms\tremaining: 291ms\n"
     ]
    },
    {
     "name": "stdout",
     "output_type": "stream",
     "text": [
      "576:\tlearn: 0.0717657\ttotal: 396ms\tremaining: 290ms\n",
      "577:\tlearn: 0.0715301\ttotal: 396ms\tremaining: 289ms\n",
      "578:\tlearn: 0.0714187\ttotal: 397ms\tremaining: 288ms\n",
      "579:\tlearn: 0.0713182\ttotal: 397ms\tremaining: 288ms\n",
      "580:\tlearn: 0.0712088\ttotal: 398ms\tremaining: 287ms\n",
      "581:\tlearn: 0.0710500\ttotal: 398ms\tremaining: 286ms\n",
      "582:\tlearn: 0.0709510\ttotal: 399ms\tremaining: 285ms\n",
      "583:\tlearn: 0.0707418\ttotal: 399ms\tremaining: 284ms\n",
      "584:\tlearn: 0.0704052\ttotal: 400ms\tremaining: 283ms\n",
      "585:\tlearn: 0.0701776\ttotal: 400ms\tremaining: 283ms\n",
      "586:\tlearn: 0.0700716\ttotal: 400ms\tremaining: 282ms\n",
      "587:\tlearn: 0.0699171\ttotal: 401ms\tremaining: 281ms\n",
      "588:\tlearn: 0.0696944\ttotal: 401ms\tremaining: 280ms\n",
      "589:\tlearn: 0.0694714\ttotal: 402ms\tremaining: 279ms\n",
      "590:\tlearn: 0.0693185\ttotal: 402ms\tremaining: 278ms\n",
      "591:\tlearn: 0.0691121\ttotal: 402ms\tremaining: 277ms\n",
      "592:\tlearn: 0.0689096\ttotal: 403ms\tremaining: 277ms\n",
      "593:\tlearn: 0.0688133\ttotal: 403ms\tremaining: 276ms\n",
      "594:\tlearn: 0.0686260\ttotal: 404ms\tremaining: 275ms\n",
      "595:\tlearn: 0.0684370\ttotal: 404ms\tremaining: 274ms\n",
      "596:\tlearn: 0.0682396\ttotal: 405ms\tremaining: 273ms\n",
      "597:\tlearn: 0.0680559\ttotal: 405ms\tremaining: 272ms\n",
      "598:\tlearn: 0.0679063\ttotal: 405ms\tremaining: 271ms\n",
      "599:\tlearn: 0.0676946\ttotal: 406ms\tremaining: 271ms\n",
      "600:\tlearn: 0.0675146\ttotal: 406ms\tremaining: 270ms\n",
      "601:\tlearn: 0.0673362\ttotal: 407ms\tremaining: 269ms\n",
      "602:\tlearn: 0.0671618\ttotal: 407ms\tremaining: 268ms\n",
      "603:\tlearn: 0.0670406\ttotal: 408ms\tremaining: 267ms\n",
      "604:\tlearn: 0.0669218\ttotal: 408ms\tremaining: 266ms\n",
      "605:\tlearn: 0.0667509\ttotal: 409ms\tremaining: 266ms\n",
      "606:\tlearn: 0.0665464\ttotal: 409ms\tremaining: 265ms\n",
      "607:\tlearn: 0.0664323\ttotal: 409ms\tremaining: 264ms\n",
      "608:\tlearn: 0.0663156\ttotal: 410ms\tremaining: 263ms\n",
      "609:\tlearn: 0.0661433\ttotal: 410ms\tremaining: 262ms\n",
      "610:\tlearn: 0.0660309\ttotal: 410ms\tremaining: 261ms\n",
      "611:\tlearn: 0.0657691\ttotal: 411ms\tremaining: 261ms\n",
      "612:\tlearn: 0.0657000\ttotal: 411ms\tremaining: 260ms\n",
      "613:\tlearn: 0.0655895\ttotal: 412ms\tremaining: 259ms\n",
      "614:\tlearn: 0.0654223\ttotal: 412ms\tremaining: 258ms\n",
      "615:\tlearn: 0.0651809\ttotal: 413ms\tremaining: 257ms\n",
      "616:\tlearn: 0.0650481\ttotal: 413ms\tremaining: 256ms\n",
      "617:\tlearn: 0.0649800\ttotal: 414ms\tremaining: 256ms\n",
      "618:\tlearn: 0.0648715\ttotal: 414ms\tremaining: 255ms\n",
      "619:\tlearn: 0.0646261\ttotal: 415ms\tremaining: 254ms\n",
      "620:\tlearn: 0.0644955\ttotal: 415ms\tremaining: 253ms\n",
      "621:\tlearn: 0.0643348\ttotal: 415ms\tremaining: 252ms\n",
      "622:\tlearn: 0.0642233\ttotal: 416ms\tremaining: 252ms\n",
      "623:\tlearn: 0.0641168\ttotal: 417ms\tremaining: 251ms\n",
      "624:\tlearn: 0.0638773\ttotal: 417ms\tremaining: 250ms\n",
      "625:\tlearn: 0.0636831\ttotal: 418ms\tremaining: 250ms\n",
      "626:\tlearn: 0.0635554\ttotal: 418ms\tremaining: 249ms\n",
      "627:\tlearn: 0.0633208\ttotal: 419ms\tremaining: 248ms\n",
      "628:\tlearn: 0.0631312\ttotal: 419ms\tremaining: 247ms\n",
      "629:\tlearn: 0.0629457\ttotal: 420ms\tremaining: 247ms\n",
      "630:\tlearn: 0.0627166\ttotal: 420ms\tremaining: 246ms\n",
      "631:\tlearn: 0.0625871\ttotal: 421ms\tremaining: 245ms\n",
      "632:\tlearn: 0.0624069\ttotal: 421ms\tremaining: 244ms\n",
      "633:\tlearn: 0.0621716\ttotal: 422ms\tremaining: 243ms\n",
      "634:\tlearn: 0.0620461\ttotal: 422ms\tremaining: 243ms\n",
      "635:\tlearn: 0.0619056\ttotal: 422ms\tremaining: 242ms\n",
      "636:\tlearn: 0.0617323\ttotal: 423ms\tremaining: 241ms\n",
      "637:\tlearn: 0.0616072\ttotal: 423ms\tremaining: 240ms\n",
      "638:\tlearn: 0.0613774\ttotal: 424ms\tremaining: 239ms\n",
      "639:\tlearn: 0.0610404\ttotal: 424ms\tremaining: 239ms\n",
      "640:\tlearn: 0.0609041\ttotal: 425ms\tremaining: 238ms\n",
      "641:\tlearn: 0.0607705\ttotal: 425ms\tremaining: 237ms\n",
      "642:\tlearn: 0.0605268\ttotal: 425ms\tremaining: 236ms\n",
      "643:\tlearn: 0.0604246\ttotal: 426ms\tremaining: 235ms\n",
      "644:\tlearn: 0.0602950\ttotal: 427ms\tremaining: 235ms\n",
      "645:\tlearn: 0.0601922\ttotal: 427ms\tremaining: 234ms\n",
      "646:\tlearn: 0.0600919\ttotal: 427ms\tremaining: 233ms\n",
      "647:\tlearn: 0.0599292\ttotal: 428ms\tremaining: 232ms\n",
      "648:\tlearn: 0.0597115\ttotal: 429ms\tremaining: 232ms\n",
      "649:\tlearn: 0.0593847\ttotal: 430ms\tremaining: 231ms\n",
      "650:\tlearn: 0.0592365\ttotal: 430ms\tremaining: 231ms\n",
      "651:\tlearn: 0.0591353\ttotal: 431ms\tremaining: 230ms\n",
      "652:\tlearn: 0.0590050\ttotal: 432ms\tremaining: 229ms\n",
      "653:\tlearn: 0.0589076\ttotal: 432ms\tremaining: 229ms\n",
      "654:\tlearn: 0.0588076\ttotal: 433ms\tremaining: 228ms\n",
      "655:\tlearn: 0.0586513\ttotal: 433ms\tremaining: 227ms\n",
      "656:\tlearn: 0.0585374\ttotal: 434ms\tremaining: 226ms\n",
      "657:\tlearn: 0.0583483\ttotal: 434ms\tremaining: 226ms\n",
      "658:\tlearn: 0.0582532\ttotal: 434ms\tremaining: 225ms\n",
      "659:\tlearn: 0.0580993\ttotal: 435ms\tremaining: 224ms\n",
      "660:\tlearn: 0.0579750\ttotal: 435ms\tremaining: 223ms\n",
      "661:\tlearn: 0.0578822\ttotal: 435ms\tremaining: 222ms\n",
      "662:\tlearn: 0.0577313\ttotal: 436ms\tremaining: 221ms\n",
      "663:\tlearn: 0.0575831\ttotal: 436ms\tremaining: 221ms\n",
      "664:\tlearn: 0.0574665\ttotal: 436ms\tremaining: 220ms\n",
      "665:\tlearn: 0.0573670\ttotal: 437ms\tremaining: 219ms\n",
      "666:\tlearn: 0.0572277\ttotal: 437ms\tremaining: 218ms\n",
      "667:\tlearn: 0.0571374\ttotal: 437ms\tremaining: 217ms\n",
      "668:\tlearn: 0.0569923\ttotal: 438ms\tremaining: 217ms\n",
      "669:\tlearn: 0.0568736\ttotal: 438ms\tremaining: 216ms\n",
      "670:\tlearn: 0.0567854\ttotal: 438ms\tremaining: 215ms\n",
      "671:\tlearn: 0.0566432\ttotal: 439ms\tremaining: 214ms\n",
      "672:\tlearn: 0.0565444\ttotal: 439ms\tremaining: 213ms\n",
      "673:\tlearn: 0.0564282\ttotal: 439ms\tremaining: 212ms\n",
      "674:\tlearn: 0.0563419\ttotal: 439ms\tremaining: 212ms\n",
      "675:\tlearn: 0.0562025\ttotal: 440ms\tremaining: 211ms\n",
      "676:\tlearn: 0.0561377\ttotal: 440ms\tremaining: 210ms\n",
      "677:\tlearn: 0.0560037\ttotal: 440ms\tremaining: 209ms\n",
      "678:\tlearn: 0.0559412\ttotal: 441ms\tremaining: 208ms\n",
      "679:\tlearn: 0.0558806\ttotal: 441ms\tremaining: 207ms\n",
      "680:\tlearn: 0.0558219\ttotal: 441ms\tremaining: 207ms\n",
      "681:\tlearn: 0.0557649\ttotal: 441ms\tremaining: 206ms\n",
      "682:\tlearn: 0.0556531\ttotal: 442ms\tremaining: 205ms\n",
      "683:\tlearn: 0.0555179\ttotal: 442ms\tremaining: 204ms\n",
      "684:\tlearn: 0.0554632\ttotal: 443ms\tremaining: 204ms\n",
      "685:\tlearn: 0.0554042\ttotal: 443ms\tremaining: 203ms\n",
      "686:\tlearn: 0.0552719\ttotal: 444ms\tremaining: 202ms\n",
      "687:\tlearn: 0.0552193\ttotal: 444ms\tremaining: 202ms\n",
      "688:\tlearn: 0.0551626\ttotal: 445ms\tremaining: 201ms\n",
      "689:\tlearn: 0.0550337\ttotal: 446ms\tremaining: 200ms\n",
      "690:\tlearn: 0.0549041\ttotal: 446ms\tremaining: 200ms\n",
      "691:\tlearn: 0.0548538\ttotal: 447ms\tremaining: 199ms\n",
      "692:\tlearn: 0.0547994\ttotal: 447ms\tremaining: 198ms\n",
      "693:\tlearn: 0.0546726\ttotal: 447ms\tremaining: 197ms\n",
      "694:\tlearn: 0.0546243\ttotal: 448ms\tremaining: 197ms\n",
      "695:\tlearn: 0.0545720\ttotal: 448ms\tremaining: 196ms\n",
      "696:\tlearn: 0.0544478\ttotal: 448ms\tremaining: 195ms\n",
      "697:\tlearn: 0.0544014\ttotal: 449ms\tremaining: 194ms\n",
      "698:\tlearn: 0.0543510\ttotal: 449ms\tremaining: 193ms\n",
      "699:\tlearn: 0.0542432\ttotal: 450ms\tremaining: 193ms\n",
      "700:\tlearn: 0.0541217\ttotal: 450ms\tremaining: 192ms\n",
      "701:\tlearn: 0.0540672\ttotal: 451ms\tremaining: 191ms\n",
      "702:\tlearn: 0.0540187\ttotal: 451ms\tremaining: 190ms\n",
      "703:\tlearn: 0.0538938\ttotal: 451ms\tremaining: 190ms\n",
      "704:\tlearn: 0.0537934\ttotal: 452ms\tremaining: 189ms\n",
      "705:\tlearn: 0.0536863\ttotal: 452ms\tremaining: 188ms\n",
      "706:\tlearn: 0.0534749\ttotal: 453ms\tremaining: 188ms\n",
      "707:\tlearn: 0.0534283\ttotal: 453ms\tremaining: 187ms\n",
      "708:\tlearn: 0.0533753\ttotal: 453ms\tremaining: 186ms\n",
      "709:\tlearn: 0.0532525\ttotal: 454ms\tremaining: 185ms\n",
      "710:\tlearn: 0.0531775\ttotal: 454ms\tremaining: 185ms\n",
      "711:\tlearn: 0.0529755\ttotal: 455ms\tremaining: 184ms\n",
      "712:\tlearn: 0.0528717\ttotal: 455ms\tremaining: 183ms\n",
      "713:\tlearn: 0.0526724\ttotal: 456ms\tremaining: 183ms\n",
      "714:\tlearn: 0.0524759\ttotal: 456ms\tremaining: 182ms\n",
      "715:\tlearn: 0.0522820\ttotal: 457ms\tremaining: 181ms\n",
      "716:\tlearn: 0.0521835\ttotal: 457ms\tremaining: 180ms\n",
      "717:\tlearn: 0.0519922\ttotal: 458ms\tremaining: 180ms\n",
      "718:\tlearn: 0.0517945\ttotal: 458ms\tremaining: 179ms\n",
      "719:\tlearn: 0.0516538\ttotal: 459ms\tremaining: 178ms\n",
      "720:\tlearn: 0.0515163\ttotal: 459ms\tremaining: 178ms\n",
      "721:\tlearn: 0.0513641\ttotal: 460ms\tremaining: 177ms\n",
      "722:\tlearn: 0.0512910\ttotal: 460ms\tremaining: 176ms\n",
      "723:\tlearn: 0.0512192\ttotal: 461ms\tremaining: 176ms\n",
      "724:\tlearn: 0.0511048\ttotal: 461ms\tremaining: 175ms\n",
      "725:\tlearn: 0.0510346\ttotal: 462ms\tremaining: 174ms\n",
      "726:\tlearn: 0.0508886\ttotal: 462ms\tremaining: 174ms\n",
      "727:\tlearn: 0.0508078\ttotal: 463ms\tremaining: 173ms\n",
      "728:\tlearn: 0.0507389\ttotal: 463ms\tremaining: 172ms\n",
      "729:\tlearn: 0.0506591\ttotal: 464ms\tremaining: 171ms\n",
      "730:\tlearn: 0.0505912\ttotal: 464ms\tremaining: 171ms\n",
      "731:\tlearn: 0.0504956\ttotal: 465ms\tremaining: 170ms\n",
      "732:\tlearn: 0.0504291\ttotal: 466ms\tremaining: 170ms\n",
      "733:\tlearn: 0.0503357\ttotal: 466ms\tremaining: 169ms\n",
      "734:\tlearn: 0.0502564\ttotal: 467ms\tremaining: 168ms\n",
      "735:\tlearn: 0.0501910\ttotal: 467ms\tremaining: 168ms\n",
      "736:\tlearn: 0.0500825\ttotal: 468ms\tremaining: 167ms\n",
      "737:\tlearn: 0.0498949\ttotal: 469ms\tremaining: 166ms\n",
      "738:\tlearn: 0.0498311\ttotal: 469ms\tremaining: 166ms\n",
      "739:\tlearn: 0.0496236\ttotal: 470ms\tremaining: 165ms\n",
      "740:\tlearn: 0.0495464\ttotal: 470ms\tremaining: 164ms\n",
      "741:\tlearn: 0.0494837\ttotal: 471ms\tremaining: 164ms\n",
      "742:\tlearn: 0.0493966\ttotal: 471ms\tremaining: 163ms\n",
      "743:\tlearn: 0.0492101\ttotal: 472ms\tremaining: 162ms\n",
      "744:\tlearn: 0.0490293\ttotal: 472ms\tremaining: 162ms\n",
      "745:\tlearn: 0.0489013\ttotal: 472ms\tremaining: 161ms\n",
      "746:\tlearn: 0.0487045\ttotal: 473ms\tremaining: 160ms\n",
      "747:\tlearn: 0.0485048\ttotal: 473ms\tremaining: 159ms\n",
      "748:\tlearn: 0.0483801\ttotal: 474ms\tremaining: 159ms\n",
      "749:\tlearn: 0.0481870\ttotal: 474ms\tremaining: 158ms\n",
      "750:\tlearn: 0.0480125\ttotal: 475ms\tremaining: 157ms\n",
      "751:\tlearn: 0.0479643\ttotal: 475ms\tremaining: 157ms\n",
      "752:\tlearn: 0.0478427\ttotal: 476ms\tremaining: 156ms\n",
      "753:\tlearn: 0.0477953\ttotal: 476ms\tremaining: 155ms\n",
      "754:\tlearn: 0.0477346\ttotal: 476ms\tremaining: 155ms\n",
      "755:\tlearn: 0.0475420\ttotal: 477ms\tremaining: 154ms\n",
      "756:\tlearn: 0.0474687\ttotal: 477ms\tremaining: 153ms\n",
      "757:\tlearn: 0.0473957\ttotal: 478ms\tremaining: 153ms\n",
      "758:\tlearn: 0.0473367\ttotal: 478ms\tremaining: 152ms\n",
      "759:\tlearn: 0.0471686\ttotal: 479ms\tremaining: 151ms\n",
      "760:\tlearn: 0.0471224\ttotal: 479ms\tremaining: 151ms\n",
      "761:\tlearn: 0.0470044\ttotal: 480ms\tremaining: 150ms\n",
      "762:\tlearn: 0.0469590\ttotal: 480ms\tremaining: 149ms\n",
      "763:\tlearn: 0.0469140\ttotal: 481ms\tremaining: 148ms\n",
      "764:\tlearn: 0.0468561\ttotal: 481ms\tremaining: 148ms\n",
      "765:\tlearn: 0.0468117\ttotal: 482ms\tremaining: 147ms\n",
      "766:\tlearn: 0.0467219\ttotal: 482ms\tremaining: 146ms\n",
      "767:\tlearn: 0.0466068\ttotal: 483ms\tremaining: 146ms\n",
      "768:\tlearn: 0.0464435\ttotal: 483ms\tremaining: 145ms\n",
      "769:\tlearn: 0.0462606\ttotal: 483ms\tremaining: 144ms\n",
      "770:\tlearn: 0.0461907\ttotal: 484ms\tremaining: 144ms\n"
     ]
    },
    {
     "name": "stdout",
     "output_type": "stream",
     "text": [
      "771:\tlearn: 0.0461500\ttotal: 485ms\tremaining: 143ms\n",
      "772:\tlearn: 0.0461068\ttotal: 485ms\tremaining: 143ms\n",
      "773:\tlearn: 0.0460666\ttotal: 486ms\tremaining: 142ms\n",
      "774:\tlearn: 0.0459736\ttotal: 486ms\tremaining: 141ms\n",
      "775:\tlearn: 0.0458613\ttotal: 487ms\tremaining: 140ms\n",
      "776:\tlearn: 0.0456834\ttotal: 487ms\tremaining: 140ms\n",
      "777:\tlearn: 0.0456285\ttotal: 488ms\tremaining: 139ms\n",
      "778:\tlearn: 0.0454721\ttotal: 489ms\tremaining: 139ms\n",
      "779:\tlearn: 0.0452605\ttotal: 489ms\tremaining: 138ms\n",
      "780:\tlearn: 0.0450527\ttotal: 489ms\tremaining: 137ms\n",
      "781:\tlearn: 0.0448807\ttotal: 490ms\tremaining: 137ms\n",
      "782:\tlearn: 0.0448189\ttotal: 490ms\tremaining: 136ms\n",
      "783:\tlearn: 0.0447298\ttotal: 491ms\tremaining: 135ms\n",
      "784:\tlearn: 0.0446213\ttotal: 491ms\tremaining: 135ms\n",
      "785:\tlearn: 0.0444498\ttotal: 492ms\tremaining: 134ms\n",
      "786:\tlearn: 0.0444109\ttotal: 492ms\tremaining: 133ms\n",
      "787:\tlearn: 0.0443508\ttotal: 493ms\tremaining: 133ms\n",
      "788:\tlearn: 0.0443123\ttotal: 493ms\tremaining: 132ms\n",
      "789:\tlearn: 0.0441103\ttotal: 493ms\tremaining: 131ms\n",
      "790:\tlearn: 0.0440045\ttotal: 494ms\tremaining: 130ms\n",
      "791:\tlearn: 0.0438314\ttotal: 494ms\tremaining: 130ms\n",
      "792:\tlearn: 0.0437679\ttotal: 495ms\tremaining: 129ms\n",
      "793:\tlearn: 0.0437155\ttotal: 495ms\tremaining: 128ms\n",
      "794:\tlearn: 0.0435179\ttotal: 496ms\tremaining: 128ms\n",
      "795:\tlearn: 0.0434225\ttotal: 496ms\tremaining: 127ms\n",
      "796:\tlearn: 0.0433645\ttotal: 496ms\tremaining: 126ms\n",
      "797:\tlearn: 0.0432711\ttotal: 497ms\tremaining: 126ms\n",
      "798:\tlearn: 0.0432197\ttotal: 497ms\tremaining: 125ms\n",
      "799:\tlearn: 0.0431623\ttotal: 498ms\tremaining: 124ms\n",
      "800:\tlearn: 0.0429686\ttotal: 498ms\tremaining: 124ms\n",
      "801:\tlearn: 0.0428772\ttotal: 499ms\tremaining: 123ms\n",
      "802:\tlearn: 0.0428207\ttotal: 500ms\tremaining: 123ms\n",
      "803:\tlearn: 0.0427701\ttotal: 500ms\tremaining: 122ms\n",
      "804:\tlearn: 0.0426050\ttotal: 501ms\tremaining: 121ms\n",
      "805:\tlearn: 0.0424983\ttotal: 501ms\tremaining: 121ms\n",
      "806:\tlearn: 0.0423058\ttotal: 502ms\tremaining: 120ms\n",
      "807:\tlearn: 0.0421194\ttotal: 503ms\tremaining: 119ms\n",
      "808:\tlearn: 0.0420307\ttotal: 504ms\tremaining: 119ms\n",
      "809:\tlearn: 0.0418446\ttotal: 505ms\tremaining: 118ms\n",
      "810:\tlearn: 0.0416909\ttotal: 505ms\tremaining: 118ms\n",
      "811:\tlearn: 0.0416359\ttotal: 506ms\tremaining: 117ms\n",
      "812:\tlearn: 0.0415119\ttotal: 506ms\tremaining: 116ms\n",
      "813:\tlearn: 0.0414286\ttotal: 507ms\tremaining: 116ms\n",
      "814:\tlearn: 0.0413425\ttotal: 507ms\tremaining: 115ms\n",
      "815:\tlearn: 0.0412893\ttotal: 507ms\tremaining: 114ms\n",
      "816:\tlearn: 0.0411154\ttotal: 508ms\tremaining: 114ms\n",
      "817:\tlearn: 0.0410306\ttotal: 509ms\tremaining: 113ms\n",
      "818:\tlearn: 0.0408590\ttotal: 509ms\tremaining: 113ms\n",
      "819:\tlearn: 0.0406902\ttotal: 510ms\tremaining: 112ms\n",
      "820:\tlearn: 0.0406063\ttotal: 510ms\tremaining: 111ms\n",
      "821:\tlearn: 0.0404397\ttotal: 511ms\tremaining: 111ms\n",
      "822:\tlearn: 0.0404064\ttotal: 511ms\tremaining: 110ms\n",
      "823:\tlearn: 0.0403735\ttotal: 512ms\tremaining: 109ms\n",
      "824:\tlearn: 0.0402559\ttotal: 512ms\tremaining: 109ms\n",
      "825:\tlearn: 0.0401731\ttotal: 513ms\tremaining: 108ms\n",
      "826:\tlearn: 0.0401235\ttotal: 513ms\tremaining: 107ms\n",
      "827:\tlearn: 0.0400200\ttotal: 513ms\tremaining: 107ms\n",
      "828:\tlearn: 0.0399711\ttotal: 514ms\tremaining: 106ms\n",
      "829:\tlearn: 0.0398903\ttotal: 514ms\tremaining: 105ms\n",
      "830:\tlearn: 0.0397009\ttotal: 515ms\tremaining: 105ms\n",
      "831:\tlearn: 0.0396636\ttotal: 515ms\tremaining: 104ms\n",
      "832:\tlearn: 0.0396315\ttotal: 516ms\tremaining: 103ms\n",
      "833:\tlearn: 0.0394692\ttotal: 516ms\tremaining: 103ms\n",
      "834:\tlearn: 0.0394376\ttotal: 517ms\tremaining: 102ms\n",
      "835:\tlearn: 0.0394064\ttotal: 517ms\tremaining: 101ms\n",
      "836:\tlearn: 0.0392915\ttotal: 518ms\tremaining: 101ms\n",
      "837:\tlearn: 0.0392118\ttotal: 518ms\tremaining: 100ms\n",
      "838:\tlearn: 0.0391636\ttotal: 519ms\tremaining: 99.5ms\n",
      "839:\tlearn: 0.0390509\ttotal: 519ms\tremaining: 98.9ms\n",
      "840:\tlearn: 0.0389790\ttotal: 520ms\tremaining: 98.3ms\n",
      "841:\tlearn: 0.0389318\ttotal: 520ms\tremaining: 97.6ms\n",
      "842:\tlearn: 0.0388213\ttotal: 521ms\tremaining: 96.9ms\n",
      "843:\tlearn: 0.0387443\ttotal: 521ms\tremaining: 96.3ms\n",
      "844:\tlearn: 0.0386980\ttotal: 521ms\tremaining: 95.6ms\n",
      "845:\tlearn: 0.0385502\ttotal: 522ms\tremaining: 95ms\n",
      "846:\tlearn: 0.0384742\ttotal: 522ms\tremaining: 94.3ms\n",
      "847:\tlearn: 0.0383892\ttotal: 523ms\tremaining: 93.7ms\n",
      "848:\tlearn: 0.0383440\ttotal: 523ms\tremaining: 93ms\n",
      "849:\tlearn: 0.0382360\ttotal: 523ms\tremaining: 92.4ms\n",
      "850:\tlearn: 0.0380918\ttotal: 524ms\tremaining: 91.7ms\n",
      "851:\tlearn: 0.0380408\ttotal: 524ms\tremaining: 91.1ms\n",
      "852:\tlearn: 0.0379581\ttotal: 525ms\tremaining: 90.5ms\n",
      "853:\tlearn: 0.0378906\ttotal: 525ms\tremaining: 89.8ms\n",
      "854:\tlearn: 0.0378407\ttotal: 526ms\tremaining: 89.2ms\n",
      "855:\tlearn: 0.0377005\ttotal: 526ms\tremaining: 88.5ms\n",
      "856:\tlearn: 0.0376266\ttotal: 527ms\tremaining: 87.9ms\n",
      "857:\tlearn: 0.0375914\ttotal: 527ms\tremaining: 87.2ms\n",
      "858:\tlearn: 0.0375246\ttotal: 528ms\tremaining: 86.6ms\n",
      "859:\tlearn: 0.0374899\ttotal: 528ms\tremaining: 85.9ms\n",
      "860:\tlearn: 0.0374409\ttotal: 528ms\tremaining: 85.3ms\n",
      "861:\tlearn: 0.0372736\ttotal: 529ms\tremaining: 84.7ms\n",
      "862:\tlearn: 0.0372082\ttotal: 530ms\tremaining: 84.1ms\n",
      "863:\tlearn: 0.0371422\ttotal: 530ms\tremaining: 83.4ms\n",
      "864:\tlearn: 0.0370068\ttotal: 530ms\tremaining: 82.8ms\n",
      "865:\tlearn: 0.0369729\ttotal: 531ms\tremaining: 82.1ms\n",
      "866:\tlearn: 0.0368097\ttotal: 531ms\tremaining: 81.5ms\n",
      "867:\tlearn: 0.0367058\ttotal: 532ms\tremaining: 80.8ms\n",
      "868:\tlearn: 0.0366338\ttotal: 532ms\tremaining: 80.2ms\n",
      "869:\tlearn: 0.0365318\ttotal: 533ms\tremaining: 79.6ms\n",
      "870:\tlearn: 0.0364612\ttotal: 533ms\tremaining: 79ms\n",
      "871:\tlearn: 0.0364140\ttotal: 534ms\tremaining: 78.3ms\n",
      "872:\tlearn: 0.0363138\ttotal: 534ms\tremaining: 77.7ms\n",
      "873:\tlearn: 0.0362493\ttotal: 535ms\tremaining: 77.1ms\n",
      "874:\tlearn: 0.0362029\ttotal: 535ms\tremaining: 76.4ms\n",
      "875:\tlearn: 0.0360724\ttotal: 536ms\tremaining: 75.8ms\n",
      "876:\tlearn: 0.0360095\ttotal: 536ms\tremaining: 75.2ms\n",
      "877:\tlearn: 0.0359635\ttotal: 537ms\tremaining: 74.5ms\n",
      "878:\tlearn: 0.0358362\ttotal: 537ms\tremaining: 73.9ms\n",
      "879:\tlearn: 0.0357743\ttotal: 537ms\tremaining: 73.3ms\n",
      "880:\tlearn: 0.0357299\ttotal: 538ms\tremaining: 72.6ms\n",
      "881:\tlearn: 0.0356670\ttotal: 538ms\tremaining: 72ms\n",
      "882:\tlearn: 0.0356338\ttotal: 539ms\tremaining: 71.4ms\n",
      "883:\tlearn: 0.0355897\ttotal: 539ms\tremaining: 70.8ms\n",
      "884:\tlearn: 0.0355279\ttotal: 540ms\tremaining: 70.1ms\n",
      "885:\tlearn: 0.0354667\ttotal: 540ms\tremaining: 69.5ms\n",
      "886:\tlearn: 0.0354359\ttotal: 540ms\tremaining: 68.8ms\n",
      "887:\tlearn: 0.0353930\ttotal: 541ms\tremaining: 68.2ms\n",
      "888:\tlearn: 0.0353325\ttotal: 541ms\tremaining: 67.6ms\n",
      "889:\tlearn: 0.0352594\ttotal: 542ms\tremaining: 67ms\n",
      "890:\tlearn: 0.0351526\ttotal: 542ms\tremaining: 66.3ms\n",
      "891:\tlearn: 0.0350855\ttotal: 543ms\tremaining: 65.7ms\n",
      "892:\tlearn: 0.0349464\ttotal: 543ms\tremaining: 65.1ms\n",
      "893:\tlearn: 0.0349042\ttotal: 544ms\tremaining: 64.5ms\n",
      "894:\tlearn: 0.0347995\ttotal: 544ms\tremaining: 63.8ms\n",
      "895:\tlearn: 0.0346641\ttotal: 545ms\tremaining: 63.2ms\n",
      "896:\tlearn: 0.0345928\ttotal: 545ms\tremaining: 62.6ms\n",
      "897:\tlearn: 0.0345569\ttotal: 546ms\tremaining: 62ms\n",
      "898:\tlearn: 0.0344982\ttotal: 546ms\tremaining: 61.4ms\n",
      "899:\tlearn: 0.0344627\ttotal: 547ms\tremaining: 60.7ms\n",
      "900:\tlearn: 0.0343603\ttotal: 547ms\tremaining: 60.1ms\n",
      "901:\tlearn: 0.0343119\ttotal: 548ms\tremaining: 59.6ms\n",
      "902:\tlearn: 0.0342627\ttotal: 549ms\tremaining: 59ms\n",
      "903:\tlearn: 0.0341987\ttotal: 550ms\tremaining: 58.4ms\n",
      "904:\tlearn: 0.0341377\ttotal: 550ms\tremaining: 57.7ms\n",
      "905:\tlearn: 0.0340901\ttotal: 551ms\tremaining: 57.1ms\n",
      "906:\tlearn: 0.0340276\ttotal: 551ms\tremaining: 56.5ms\n",
      "907:\tlearn: 0.0339600\ttotal: 552ms\tremaining: 55.9ms\n",
      "908:\tlearn: 0.0339191\ttotal: 552ms\tremaining: 55.3ms\n",
      "909:\tlearn: 0.0338302\ttotal: 553ms\tremaining: 54.7ms\n",
      "910:\tlearn: 0.0336745\ttotal: 553ms\tremaining: 54ms\n",
      "911:\tlearn: 0.0336131\ttotal: 554ms\tremaining: 53.4ms\n",
      "912:\tlearn: 0.0334603\ttotal: 554ms\tremaining: 52.8ms\n",
      "913:\tlearn: 0.0334001\ttotal: 555ms\tremaining: 52.2ms\n",
      "914:\tlearn: 0.0333067\ttotal: 555ms\tremaining: 51.5ms\n",
      "915:\tlearn: 0.0332081\ttotal: 555ms\tremaining: 50.9ms\n",
      "916:\tlearn: 0.0331490\ttotal: 556ms\tremaining: 50.3ms\n",
      "917:\tlearn: 0.0330575\ttotal: 556ms\tremaining: 49.7ms\n",
      "918:\tlearn: 0.0330178\ttotal: 557ms\tremaining: 49.1ms\n",
      "919:\tlearn: 0.0329212\ttotal: 557ms\tremaining: 48.5ms\n",
      "920:\tlearn: 0.0328316\ttotal: 558ms\tremaining: 47.8ms\n",
      "921:\tlearn: 0.0327654\ttotal: 558ms\tremaining: 47.2ms\n",
      "922:\tlearn: 0.0326938\ttotal: 559ms\tremaining: 46.6ms\n",
      "923:\tlearn: 0.0326062\ttotal: 559ms\tremaining: 46ms\n",
      "924:\tlearn: 0.0325228\ttotal: 560ms\tremaining: 45.4ms\n",
      "925:\tlearn: 0.0324525\ttotal: 560ms\tremaining: 44.8ms\n"
     ]
    },
    {
     "name": "stdout",
     "output_type": "stream",
     "text": [
      "926:\tlearn: 0.0323666\ttotal: 561ms\tremaining: 44.2ms\n",
      "927:\tlearn: 0.0322603\ttotal: 561ms\tremaining: 43.6ms\n",
      "928:\tlearn: 0.0322214\ttotal: 562ms\tremaining: 42.9ms\n",
      "929:\tlearn: 0.0321521\ttotal: 562ms\tremaining: 42.3ms\n",
      "930:\tlearn: 0.0321141\ttotal: 563ms\tremaining: 41.7ms\n",
      "931:\tlearn: 0.0320459\ttotal: 563ms\tremaining: 41.1ms\n",
      "932:\tlearn: 0.0319787\ttotal: 564ms\tremaining: 40.5ms\n",
      "933:\tlearn: 0.0318533\ttotal: 564ms\tremaining: 39.9ms\n",
      "934:\tlearn: 0.0317703\ttotal: 565ms\tremaining: 39.3ms\n",
      "935:\tlearn: 0.0316926\ttotal: 565ms\tremaining: 38.6ms\n",
      "936:\tlearn: 0.0316264\ttotal: 565ms\tremaining: 38ms\n",
      "937:\tlearn: 0.0315477\ttotal: 566ms\tremaining: 37.4ms\n",
      "938:\tlearn: 0.0314827\ttotal: 566ms\tremaining: 36.8ms\n",
      "939:\tlearn: 0.0314461\ttotal: 567ms\tremaining: 36.2ms\n",
      "940:\tlearn: 0.0313928\ttotal: 568ms\tremaining: 35.6ms\n",
      "941:\tlearn: 0.0313147\ttotal: 568ms\tremaining: 35ms\n",
      "942:\tlearn: 0.0311983\ttotal: 568ms\tremaining: 34.4ms\n",
      "943:\tlearn: 0.0311105\ttotal: 569ms\tremaining: 33.8ms\n",
      "944:\tlearn: 0.0310357\ttotal: 569ms\tremaining: 33.1ms\n",
      "945:\tlearn: 0.0309221\ttotal: 570ms\tremaining: 32.5ms\n",
      "946:\tlearn: 0.0308660\ttotal: 570ms\tremaining: 31.9ms\n",
      "947:\tlearn: 0.0308298\ttotal: 571ms\tremaining: 31.3ms\n",
      "948:\tlearn: 0.0307184\ttotal: 571ms\tremaining: 30.7ms\n",
      "949:\tlearn: 0.0306687\ttotal: 572ms\tremaining: 30.1ms\n",
      "950:\tlearn: 0.0306323\ttotal: 572ms\tremaining: 29.5ms\n",
      "951:\tlearn: 0.0305835\ttotal: 573ms\tremaining: 28.9ms\n",
      "952:\tlearn: 0.0305515\ttotal: 573ms\tremaining: 28.3ms\n",
      "953:\tlearn: 0.0304884\ttotal: 574ms\tremaining: 27.7ms\n",
      "954:\tlearn: 0.0304569\ttotal: 574ms\tremaining: 27.1ms\n",
      "955:\tlearn: 0.0303882\ttotal: 575ms\tremaining: 26.4ms\n",
      "956:\tlearn: 0.0303261\ttotal: 575ms\tremaining: 25.8ms\n",
      "957:\tlearn: 0.0302590\ttotal: 576ms\tremaining: 25.2ms\n",
      "958:\tlearn: 0.0301317\ttotal: 576ms\tremaining: 24.6ms\n",
      "959:\tlearn: 0.0300810\ttotal: 576ms\tremaining: 24ms\n",
      "960:\tlearn: 0.0300309\ttotal: 577ms\tremaining: 23.4ms\n",
      "961:\tlearn: 0.0299314\ttotal: 577ms\tremaining: 22.8ms\n",
      "962:\tlearn: 0.0298844\ttotal: 578ms\tremaining: 22.2ms\n",
      "963:\tlearn: 0.0298237\ttotal: 578ms\tremaining: 21.6ms\n",
      "964:\tlearn: 0.0297171\ttotal: 579ms\tremaining: 21ms\n",
      "965:\tlearn: 0.0296351\ttotal: 579ms\tremaining: 20.4ms\n",
      "966:\tlearn: 0.0296076\ttotal: 579ms\tremaining: 19.8ms\n",
      "967:\tlearn: 0.0295561\ttotal: 580ms\tremaining: 19.2ms\n",
      "968:\tlearn: 0.0294996\ttotal: 580ms\tremaining: 18.6ms\n",
      "969:\tlearn: 0.0294488\ttotal: 581ms\tremaining: 18ms\n",
      "970:\tlearn: 0.0293452\ttotal: 581ms\tremaining: 17.4ms\n",
      "971:\tlearn: 0.0292495\ttotal: 582ms\tremaining: 16.8ms\n",
      "972:\tlearn: 0.0291393\ttotal: 582ms\tremaining: 16.2ms\n",
      "973:\tlearn: 0.0290931\ttotal: 582ms\tremaining: 15.5ms\n",
      "974:\tlearn: 0.0290475\ttotal: 583ms\tremaining: 14.9ms\n",
      "975:\tlearn: 0.0289463\ttotal: 584ms\tremaining: 14.3ms\n",
      "976:\tlearn: 0.0289062\ttotal: 584ms\tremaining: 13.7ms\n",
      "977:\tlearn: 0.0287995\ttotal: 585ms\tremaining: 13.1ms\n",
      "978:\tlearn: 0.0287600\ttotal: 585ms\tremaining: 12.5ms\n",
      "979:\tlearn: 0.0287124\ttotal: 585ms\tremaining: 11.9ms\n",
      "980:\tlearn: 0.0286788\ttotal: 586ms\tremaining: 11.3ms\n",
      "981:\tlearn: 0.0285801\ttotal: 586ms\tremaining: 10.7ms\n",
      "982:\tlearn: 0.0285322\ttotal: 587ms\tremaining: 10.1ms\n",
      "983:\tlearn: 0.0284681\ttotal: 587ms\tremaining: 9.54ms\n",
      "984:\tlearn: 0.0284210\ttotal: 587ms\tremaining: 8.95ms\n",
      "985:\tlearn: 0.0283878\ttotal: 588ms\tremaining: 8.35ms\n",
      "986:\tlearn: 0.0283374\ttotal: 589ms\tremaining: 7.75ms\n",
      "987:\tlearn: 0.0282904\ttotal: 589ms\tremaining: 7.15ms\n",
      "988:\tlearn: 0.0282576\ttotal: 590ms\tremaining: 6.56ms\n",
      "989:\tlearn: 0.0282112\ttotal: 590ms\tremaining: 5.96ms\n",
      "990:\tlearn: 0.0281490\ttotal: 590ms\tremaining: 5.36ms\n",
      "991:\tlearn: 0.0281000\ttotal: 591ms\tremaining: 4.76ms\n",
      "992:\tlearn: 0.0280676\ttotal: 591ms\tremaining: 4.17ms\n",
      "993:\tlearn: 0.0280211\ttotal: 592ms\tremaining: 3.57ms\n",
      "994:\tlearn: 0.0279726\ttotal: 592ms\tremaining: 2.97ms\n",
      "995:\tlearn: 0.0279266\ttotal: 593ms\tremaining: 2.38ms\n",
      "996:\tlearn: 0.0278810\ttotal: 593ms\tremaining: 1.78ms\n",
      "997:\tlearn: 0.0278490\ttotal: 594ms\tremaining: 1.19ms\n",
      "998:\tlearn: 0.0278013\ttotal: 594ms\tremaining: 595us\n",
      "999:\tlearn: 0.0277716\ttotal: 595ms\tremaining: 0us\n"
     ]
    },
    {
     "data": {
      "text/plain": [
       "<catboost.core.CatBoostRegressor at 0x7f9d183cc6a0>"
      ]
     },
     "execution_count": 9,
     "metadata": {},
     "output_type": "execute_result"
    }
   ],
   "source": [
    "#Train the Model \n",
    "prior_model = ctb.CatBoostRegressor()\n",
    "prior_model.fit(X_train,Y_train)"
   ]
  },
  {
   "cell_type": "code",
   "execution_count": 10,
   "id": "af65dcda",
   "metadata": {
    "execution": {
     "iopub.execute_input": "2022-06-13T07:28:54.279512Z",
     "iopub.status.busy": "2022-06-13T07:28:54.279142Z",
     "iopub.status.idle": "2022-06-13T07:28:54.287071Z",
     "shell.execute_reply": "2022-06-13T07:28:54.287327Z"
    },
    "id": "af65dcda",
    "papermill": {
     "duration": 0.02189,
     "end_time": "2022-06-13T07:28:54.287457",
     "exception": false,
     "start_time": "2022-06-13T07:28:54.265567",
     "status": "completed"
    },
    "tags": []
   },
   "outputs": [
    {
     "data": {
      "application/scrapbook.scrap.json+json": {
       "data": 0.5618665988343123,
       "encoder": "json",
       "name": "Prior Model MSE",
       "version": 1
      }
     },
     "metadata": {
      "scrapbook": {
       "data": true,
       "display": false,
       "name": "Prior Model MSE"
      }
     },
     "output_type": "display_data"
    },
    {
     "data": {
      "application/scrapbook.scrap.json+json": {
       "data": 0.7067323303405377,
       "encoder": "json",
       "name": "ABC Pre-generator MSE",
       "version": 1
      }
     },
     "metadata": {
      "scrapbook": {
       "data": true,
       "display": false,
       "name": "ABC Pre-generator MSE"
      }
     },
     "output_type": "display_data"
    },
    {
     "data": {
      "application/scrapbook.scrap.json+json": {
       "data": 0.4972245018842056,
       "encoder": "json",
       "name": "Prior Model MSE",
       "version": 1
      }
     },
     "metadata": {
      "scrapbook": {
       "data": true,
       "display": false,
       "name": "Prior Model MSE"
      }
     },
     "output_type": "display_data"
    },
    {
     "data": {
      "application/scrapbook.scrap.json+json": {
       "data": 0.6577388620479743,
       "encoder": "json",
       "name": "ABC Pre-generator MSE",
       "version": 1
      }
     },
     "metadata": {
      "scrapbook": {
       "data": true,
       "display": false,
       "name": "ABC Pre-generator MSE"
      }
     },
     "output_type": "display_data"
    }
   ],
   "source": [
    "y_pred = prior_model.predict(X_test)\n",
    "y_abc = y_pred + np.random.normal(0,variance, y_pred.shape) + bias \n",
    "mse = mean_squared_error(y_pred,Y_test)\n",
    "sb.glue(\"Prior Model MSE\",mse)\n",
    "mse = mean_squared_error(y_abc,Y_test)\n",
    "sb.glue(\"ABC Pre-generator MSE\",mse)\n",
    "mae = mean_absolute_error(y_pred,Y_test)\n",
    "sb.glue(\"Prior Model MSE\",mae)\n",
    "mae = mean_absolute_error(y_abc,Y_test)\n",
    "sb.glue(\"ABC Pre-generator MSE\",mae)"
   ]
  },
  {
   "cell_type": "markdown",
   "id": "25609da2",
   "metadata": {
    "papermill": {
     "duration": 0.010307,
     "end_time": "2022-06-13T07:28:54.308025",
     "exception": false,
     "start_time": "2022-06-13T07:28:54.297718",
     "status": "completed"
    },
    "tags": []
   },
   "source": [
    "# ABC GAN Model"
   ]
  },
  {
   "cell_type": "code",
   "execution_count": 11,
   "id": "dfc3464d",
   "metadata": {
    "execution": {
     "iopub.execute_input": "2022-06-13T07:28:54.331561Z",
     "iopub.status.busy": "2022-06-13T07:28:54.331198Z",
     "iopub.status.idle": "2022-06-13T07:28:54.333708Z",
     "shell.execute_reply": "2022-06-13T07:28:54.333948Z"
    },
    "papermill": {
     "duration": 0.016124,
     "end_time": "2022-06-13T07:28:54.334061",
     "exception": false,
     "start_time": "2022-06-13T07:28:54.317937",
     "status": "completed"
    },
    "tags": []
   },
   "outputs": [],
   "source": [
    "gen = network.Generator(n_features+1).to(device)\n",
    "disc = network.Discriminator(n_features+1).to(device)\n",
    "\n",
    "criterion = torch.nn.BCELoss()\n",
    "gen_opt = torch.optim.Adam(gen.parameters(), lr=0.001, betas=(0.5, 0.999))\n",
    "disc_opt = torch.optim.Adam(disc.parameters(), lr=0.001, betas=(0.5, 0.999))"
   ]
  },
  {
   "cell_type": "code",
   "execution_count": 12,
   "id": "b75fdd85",
   "metadata": {
    "execution": {
     "iopub.execute_input": "2022-06-13T07:28:54.358210Z",
     "iopub.status.busy": "2022-06-13T07:28:54.357749Z",
     "iopub.status.idle": "2022-06-13T07:29:08.290855Z",
     "shell.execute_reply": "2022-06-13T07:29:08.291235Z"
    },
    "papermill": {
     "duration": 13.947205,
     "end_time": "2022-06-13T07:29:08.291366",
     "exception": false,
     "start_time": "2022-06-13T07:28:54.344161",
     "status": "completed"
    },
    "tags": []
   },
   "outputs": [
    {
     "data": {
      "image/png": "[encoded data removed]",
      "text/plain": [
       "<Figure size 432x288 with 1 Axes>"
      ]
     },
     "metadata": {
      "needs_background": "light"
     },
     "output_type": "display_data"
    },
    {
     "data": {
      "image/png": "[encoded data removed]",
      "text/plain": [
       "<Figure size 432x288 with 1 Axes>"
      ]
     },
     "metadata": {
      "needs_background": "light"
     },
     "output_type": "display_data"
    }
   ],
   "source": [
    "#Training the ABC_GAN \n",
    "ABC_train_test2.training_GAN(disc,gen,disc_opt,gen_opt,train_data,batch_size,n_epochs,criterion,prior_model,variance,bias,device)"
   ]
  },
  {
   "cell_type": "code",
   "execution_count": 13,
   "id": "1fa7c368",
   "metadata": {
    "execution": {
     "iopub.execute_input": "2022-06-13T07:29:08.317034Z",
     "iopub.status.busy": "2022-06-13T07:29:08.316575Z",
     "iopub.status.idle": "2022-06-13T07:29:08.490147Z",
     "shell.execute_reply": "2022-06-13T07:29:08.490449Z"
    },
    "papermill": {
     "duration": 0.187633,
     "end_time": "2022-06-13T07:29:08.490572",
     "exception": false,
     "start_time": "2022-06-13T07:29:08.302939",
     "status": "completed"
    },
    "tags": []
   },
   "outputs": [
    {
     "data": {
      "application/scrapbook.scrap.json+json": {
       "data": 0.36534032334921657,
       "encoder": "json",
       "name": "ABC-GAN Model 1 MSE",
       "version": 1
      }
     },
     "metadata": {
      "scrapbook": {
       "data": true,
       "display": false,
       "name": "ABC-GAN Model 1 MSE"
      }
     },
     "output_type": "display_data"
    },
    {
     "data": {
      "application/scrapbook.scrap.json+json": {
       "data": 0.4524834717139602,
       "encoder": "json",
       "name": "ABC-GAN Model 1 MAE",
       "version": 1
      }
     },
     "metadata": {
      "scrapbook": {
       "data": true,
       "display": false,
       "name": "ABC-GAN Model 1 MAE"
      }
     },
     "output_type": "display_data"
    },
    {
     "data": {
      "application/scrapbook.scrap.json+json": {
       "data": 9.049669434279203,
       "encoder": "json",
       "name": "ABC-GAN Model 1 Manhattan Distance",
       "version": 1
      }
     },
     "metadata": {
      "scrapbook": {
       "data": true,
       "display": false,
       "name": "ABC-GAN Model 1 Manhattan Distance"
      }
     },
     "output_type": "display_data"
    },
    {
     "data": {
      "application/scrapbook.scrap.json+json": {
       "data": 2.702467245459934,
       "encoder": "json",
       "name": "ABC-GAN Model 1 Euclidean distance",
       "version": 1
      }
     },
     "metadata": {
      "scrapbook": {
       "data": true,
       "display": false,
       "name": "ABC-GAN Model 1 Euclidean distance"
      }
     },
     "output_type": "display_data"
    },
    {
     "data": {
      "application/scrapbook.scrap.json+json": {
       "data": [
        [
         0.3719193353322048,
         0.37066411117883663,
         0.3727608119247535,
         0.3504821717876533,
         0.3576603121175966,
         0.35210604147104757,
         0.37924743966190655,
         0.37772493718264644,
         0.3132446055460933,
         0.36894034169184187,
         0.3668278005239257,
         0.37230780990246903,
         0.35548442508034295,
         0.3604504490716697,
         0.4109857316439827,
         0.36447972955894975,
         0.32371189128209144,
         0.3639426256230065,
         0.3581101728668749,
         0.37585901647784287,
         0.3782021812693347,
         0.36317955074949837,
         0.3719637897312116,
         0.3830218424781607,
         0.3365446667399229,
         0.3691565154267937,
         0.32621385170078676,
         0.380430051403539,
         0.3663148570995809,
         0.35552114941520074,
         0.3715759356900736,
         0.3672716783471071,
         0.34491701350654763,
         0.34416271359227946,
         0.37851021326078527,
         0.38507520101484366,
         0.39548272147859237,
         0.37070034398380874,
         0.37261378405305356,
         0.3569679332535882,
         0.3603773276151597,
         0.37719746034975604,
         0.3419801001254411,
         0.3712829647120503,
         0.3685227171187917,
         0.3623619732312243,
         0.39257919168815153,
         0.3817131112728206,
         0.35750033971298917,
         0.3566352917059307,
         0.374983361404734,
         0.36480041869048374,
         0.3755373404969979,
         0.3503884633663695,
         0.3565620099360837,
         0.3816627670953801,
         0.3689612937241136,
         0.37319403518054645,
         0.3422718811480612,
         0.3788553141446542,
         0.34389397119274434,
         0.376996575678306,
         0.3487220895133882,
         0.34770086825965496,
         0.377699772040751,
         0.37887723665849754,
         0.38182790291762725,
         0.38218752981615106,
         0.36293943168105003,
         0.3610358201306845,
         0.3679806638663518,
         0.37608660209791583,
         0.3671862021275449,
         0.38068108963567904,
         0.3808692921237395,
         0.36361422531047766,
         0.3687258491001878,
         0.316909651559301,
         0.3669791641087464,
         0.3694586242743619,
         0.3567628118115386,
         0.36949718341277193,
         0.363986596838736,
         0.3626898700218685,
         0.3705138974163711,
         0.3860028675648201,
         0.35962096771693225,
         0.36351504913723987,
         0.3499297104615048,
         0.37239549454459014,
         0.37671641572789305,
         0.3844303063265942,
         0.3401419345793926,
         0.3611012828471068,
         0.3632388116515775,
         0.3609313463511813,
         0.3845597849457368,
         0.35730869524044556,
         0.3466826682811782,
         0.36153096111083055
        ],
        [
         0.45814129561185835,
         0.4470274280756712,
         0.4529642049223185,
         0.44005507938563826,
         0.4622601341456175,
         0.4339732188731432,
         0.46474109701812266,
         0.4572853874415159,
         0.4395225878804922,
         0.4477045707404613,
         0.4483922865241766,
         0.4765793241560459,
         0.4342070546001196,
         0.4282854299992323,
         0.5000474601984024,
         0.44210342951118947,
         0.423244808986783,
         0.44221207723021505,
         0.44685213454067707,
         0.4616734962910414,
         0.4601894449442625,
         0.4393168825656176,
         0.474568572640419,
         0.4495113272219896,
         0.4395288672298193,
         0.4637106146663427,
         0.42503573298454284,
         0.4598025981336832,
         0.4717502551153302,
         0.4391110558062792,
         0.46717438735067846,
         0.44861309938132765,
         0.43587633930146696,
         0.44617283418774606,
         0.44499975703656675,
         0.46190299205482005,
         0.4834918390959501,
         0.46524271816015245,
         0.463243230804801,
         0.45115997530519963,
         0.45342184975743294,
         0.46870367750525477,
         0.4416159253567457,
         0.46046044677495956,
         0.4509483691304922,
         0.4411953853443265,
         0.47494898065924646,
         0.4759532816708088,
         0.44055022336542604,
         0.44828247725963594,
         0.46540680415928365,
         0.4370160050690174,
         0.461817017570138,
         0.4485625851899385,
         0.4363679762929678,
         0.4554700363427401,
         0.45597317554056643,
         0.4530048031359911,
         0.43728973641991614,
         0.46580852903425696,
         0.4388080112636089,
         0.46413818299770354,
         0.41682034693658354,
         0.43019398376345636,
         0.4534480061382055,
         0.4549633011221886,
         0.4513709217309952,
         0.4748582534492016,
         0.4622055348008871,
         0.4508854541927576,
         0.44170549511909485,
         0.46560905389487744,
         0.4611145667731762,
         0.4552031818777323,
         0.4666055332869291,
         0.4453938875347376,
         0.4603702690452337,
         0.41931162066757677,
         0.45300681367516515,
         0.4543177139014006,
         0.44214576184749604,
         0.4641362205147743,
         0.46715240329504015,
         0.45055389665067197,
         0.4573063593357801,
         0.48109145984053614,
         0.4467017788439989,
         0.4421202536672354,
         0.45396875590085983,
         0.4623411137610674,
         0.4624388378113508,
         0.4845844849944115,
         0.4207314316183329,
         0.44563283361494543,
         0.45965731926262376,
         0.4343862015753984,
         0.4718965653330088,
         0.4357631832361221,
         0.43651385717093943,
         0.43842200525105
        ],
        [
         9.162825912237167,
         8.940548561513424,
         9.05928409844637,
         8.801101587712765,
         9.24520268291235,
         8.679464377462864,
         9.294821940362453,
         9.145707748830318,
         8.790451757609844,
         8.954091414809227,
         8.967845730483532,
         9.531586483120918,
         8.684141092002392,
         8.565708599984646,
         10.000949203968048,
         8.84206859022379,
         8.46489617973566,
         8.844241544604301,
         8.937042690813541,
         9.233469925820827,
         9.20378889888525,
         8.786337651312351,
         9.49137145280838,
         8.990226544439793,
         8.790577344596386,
         9.274212293326855,
         8.500714659690857,
         9.196051962673664,
         9.435005102306604,
         8.782221116125584,
         9.343487747013569,
         8.972261987626553,
         8.717526786029339,
         8.923456683754921,
         8.899995140731335,
         9.238059841096401,
         9.669836781919003,
         9.304854363203049,
         9.26486461609602,
         9.023199506103992,
         9.068436995148659,
         9.374073550105095,
         8.832318507134914,
         9.209208935499191,
         9.018967382609844,
         8.82390770688653,
         9.498979613184929,
         9.519065633416176,
         8.811004467308521,
         8.965649545192719,
         9.308136083185673,
         8.740320101380348,
         9.23634035140276,
         8.971251703798771,
         8.727359525859356,
         9.109400726854801,
         9.119463510811329,
         9.060096062719822,
         8.745794728398323,
         9.316170580685139,
         8.776160225272179,
         9.282763659954071,
         8.33640693873167,
         8.603879675269127,
         9.06896012276411,
         9.099266022443771,
         9.027418434619904,
         9.497165068984032,
         9.244110696017742,
         9.017709083855152,
         8.834109902381897,
         9.312181077897549,
         9.222291335463524,
         9.104063637554646,
         9.332110665738583,
         8.907877750694752,
         9.207405380904675,
         8.386232413351536,
         9.060136273503304,
         9.086354278028011,
         8.84291523694992,
         9.282724410295486,
         9.343048065900803,
         9.01107793301344,
         9.146127186715603,
         9.621829196810722,
         8.934035576879978,
         8.842405073344707,
         9.079375118017197,
         9.246822275221348,
         9.248776756227016,
         9.69168969988823,
         8.414628632366657,
         8.912656672298908,
         9.193146385252476,
         8.687724031507969,
         9.437931306660175,
         8.715263664722443,
         8.730277143418789,
         8.768440105021
        ],
        [
         2.7273405923434084,
         2.7227343284971326,
         2.7304241865496044,
         2.6475731218897556,
         2.6745478575549795,
         2.653699461020586,
         2.754078574267287,
         2.748544841121012,
         2.5029766500952153,
         2.716395927297204,
         2.7086077623898435,
         2.7287645919077335,
         2.666399914042689,
         2.684959772777498,
         2.8670044703278115,
         2.6999249232486067,
         2.544452362619868,
         2.697934860677724,
         2.676229335714243,
         2.741747677952305,
         2.7502806448409394,
         2.695105010011663,
         2.7275035828801824,
         2.767749419575987,
         2.594396526130587,
         2.7171916216078453,
         2.5542664375541824,
         2.758369269708242,
         2.706713346845509,
         2.6665376405188836,
         2.7260812008818576,
         2.7102460343928447,
         2.626469164130992,
         2.6235956761371577,
         2.7514004189168295,
         2.7751583775159343,
         2.8124107860644836,
         2.7228674003109616,
         2.729885653477279,
         2.6719578337001813,
         2.6846874217128502,
         2.7466250575925213,
         2.6152632759454297,
         2.72500629251402,
         2.7148580703926,
         2.692069736211246,
         2.8020677782243295,
         2.7630168702808184,
         2.6739496618784324,
         2.6707126079229515,
         2.7385520312922083,
         2.701112432648755,
         2.740574175230431,
         2.647219157404122,
         2.670438203501754,
         2.7628346569977005,
         2.7164730579341794,
         2.732010377654325,
         2.6163787231517577,
         2.752654406730544,
         2.622571147529631,
         2.7458935728768004,
         2.640916846526555,
         2.637047091955906,
         2.748453281541278,
         2.7527340469376895,
         2.7634322966833373,
         2.7647333680344333,
         2.694213917568722,
         2.6871390739248477,
         2.712860718379592,
         2.7425776273349705,
         2.709930634269242,
         2.759279216156564,
         2.7599612030742007,
         2.696717357494024,
         2.715606190522432,
         2.5175768173356734,
         2.7091665290592473,
         2.7183032364854434,
         2.671190041204626,
         2.718445082810289,
         2.698097836768474,
         2.6932874708128294,
         2.7221825707192053,
         2.7784991184624124,
         2.681868631073984,
         2.69634956612543,
         2.6454856282410786,
         2.7290859075690164,
         2.744873096257432,
         2.7728335915687192,
         2.608225199553875,
         2.6873826778004903,
         2.6953248845049367,
         2.686750253935714,
         2.7733005064209566,
         2.673232856450951,
         2.6331831242098533,
         2.688981075094544
        ]
       ],
       "encoder": "json",
       "name": "ABC_GAN_1 Metrics",
       "version": 1
      }
     },
     "metadata": {
      "scrapbook": {
       "data": true,
       "display": false,
       "name": "ABC_GAN_1 Metrics"
      }
     },
     "output_type": "display_data"
    },
    {
     "name": "stdout",
     "output_type": "stream",
     "text": [
      "MSE\n",
      "0.36534032334921657\n"
     ]
    }
   ],
   "source": [
    "ABC_GAN1_metrics=ABC_train_test2.test_generator(gen,test_data,prior_model,variance,bias,\"1\",device)\n",
    "sb.glue(\"ABC_GAN_1 Metrics\",ABC_GAN1_metrics)\n",
    "\n",
    "print(\"MSE\")\n",
    "print(mean(ABC_GAN1_metrics[0]))"
   ]
  },
  {
   "cell_type": "code",
   "execution_count": 14,
   "id": "eb22ce5c",
   "metadata": {
    "execution": {
     "iopub.execute_input": "2022-06-13T07:29:08.518492Z",
     "iopub.status.busy": "2022-06-13T07:29:08.518105Z",
     "iopub.status.idle": "2022-06-13T07:29:08.801637Z",
     "shell.execute_reply": "2022-06-13T07:29:08.802109Z"
    },
    "papermill": {
     "duration": 0.299037,
     "end_time": "2022-06-13T07:29:08.802238",
     "exception": false,
     "start_time": "2022-06-13T07:29:08.503201",
     "status": "completed"
    },
    "tags": []
   },
   "outputs": [
    {
     "data": {
      "image/png": "[encoded data removed]",
      "text/plain": [
       "<Figure size 432x288 with 1 Axes>"
      ]
     },
     "metadata": {
      "needs_background": "light"
     },
     "output_type": "display_data"
    },
    {
     "data": {
      "image/png": "[encoded data removed]",
      "text/plain": [
       "<Figure size 432x288 with 1 Axes>"
      ]
     },
     "metadata": {
      "needs_background": "light"
     },
     "output_type": "display_data"
    },
    {
     "data": {
      "image/png": "[encoded data removed]",
      "text/plain": [
       "<Figure size 432x288 with 1 Axes>"
      ]
     },
     "metadata": {
      "needs_background": "light"
     },
     "output_type": "display_data"
    },
    {
     "data": {
      "image/png": "[encoded data removed]",
      "text/plain": [
       "<Figure size 432x288 with 1 Axes>"
      ]
     },
     "metadata": {
      "needs_background": "light"
     },
     "output_type": "display_data"
    }
   ],
   "source": [
    "sanityChecks.discProbVsError(train_data,disc,device)\n",
    "sanityChecks.discProbVsError(test_data,disc,device)"
   ]
  },
  {
   "cell_type": "markdown",
   "id": "130f3a4d",
   "metadata": {
    "id": "130f3a4d",
    "papermill": {
     "duration": 0.038479,
     "end_time": "2022-06-13T07:29:08.855830",
     "exception": false,
     "start_time": "2022-06-13T07:29:08.817351",
     "status": "completed"
    },
    "tags": []
   },
   "source": [
    "# ABC - GAN Model with skip connection"
   ]
  },
  {
   "cell_type": "code",
   "execution_count": 15,
   "id": "4e43dad1",
   "metadata": {
    "execution": {
     "iopub.execute_input": "2022-06-13T07:29:08.890415Z",
     "iopub.status.busy": "2022-06-13T07:29:08.889922Z",
     "iopub.status.idle": "2022-06-13T07:29:08.892783Z",
     "shell.execute_reply": "2022-06-13T07:29:08.892523Z"
    },
    "id": "4e43dad1",
    "papermill": {
     "duration": 0.02185,
     "end_time": "2022-06-13T07:29:08.892889",
     "exception": false,
     "start_time": "2022-06-13T07:29:08.871039",
     "status": "completed"
    },
    "tags": []
   },
   "outputs": [],
   "source": [
    "#Generator\n",
    "gen3 = network.GeneratorWithSkipConnection(n_features+1).to(device)\n",
    "constraints=network.weightConstraint()\n",
    "#Discriminator \n",
    "disc3 = network.Discriminator(n_features+1).to(device)\n",
    "\n",
    "criterion = torch.nn.BCELoss()\n",
    "gen_opt = torch.optim.Adam(gen3.parameters(), lr=0.001, betas=(0.5, 0.999))\n",
    "disc_opt = torch.optim.Adam(disc3.parameters(), lr=0.001, betas=(0.5, 0.999))\n"
   ]
  },
  {
   "cell_type": "code",
   "execution_count": 16,
   "id": "26acbc37",
   "metadata": {
    "execution": {
     "iopub.execute_input": "2022-06-13T07:29:08.926331Z",
     "iopub.status.busy": "2022-06-13T07:29:08.925945Z",
     "iopub.status.idle": "2022-06-13T07:29:46.368939Z",
     "shell.execute_reply": "2022-06-13T07:29:46.369243Z"
    },
    "id": "26acbc37",
    "papermill": {
     "duration": 37.461001,
     "end_time": "2022-06-13T07:29:46.369363",
     "exception": false,
     "start_time": "2022-06-13T07:29:08.908362",
     "status": "completed"
    },
    "tags": []
   },
   "outputs": [
    {
     "data": {
      "image/png": "[encoded data removed]",
      "text/plain": [
       "<Figure size 432x288 with 1 Axes>"
      ]
     },
     "metadata": {
      "needs_background": "light"
     },
     "output_type": "display_data"
    },
    {
     "data": {
      "image/png": "[encoded data removed]",
      "text/plain": [
       "<Figure size 432x288 with 1 Axes>"
      ]
     },
     "metadata": {
      "needs_background": "light"
     },
     "output_type": "display_data"
    }
   ],
   "source": [
    "ABC_train_test2.training_GAN_skip_connection(disc3,gen3,disc_opt,gen_opt,train_data,batch_size,n_epochs,criterion,prior_model,variance,bias,device)"
   ]
  },
  {
   "cell_type": "code",
   "execution_count": 17,
   "id": "c5e0717b",
   "metadata": {
    "execution": {
     "iopub.execute_input": "2022-06-13T07:29:46.404295Z",
     "iopub.status.busy": "2022-06-13T07:29:46.403830Z",
     "iopub.status.idle": "2022-06-13T07:29:46.686373Z",
     "shell.execute_reply": "2022-06-13T07:29:46.686744Z"
    },
    "id": "c5e0717b",
    "papermill": {
     "duration": 0.301496,
     "end_time": "2022-06-13T07:29:46.686870",
     "exception": false,
     "start_time": "2022-06-13T07:29:46.385374",
     "status": "completed"
    },
    "tags": []
   },
   "outputs": [
    {
     "data": {
      "application/scrapbook.scrap.json+json": {
       "data": 0.25974362453960215,
       "encoder": "json",
       "name": "ABC-GAN Model 3 MSE",
       "version": 1
      }
     },
     "metadata": {
      "scrapbook": {
       "data": true,
       "display": false,
       "name": "ABC-GAN Model 3 MSE"
      }
     },
     "output_type": "display_data"
    },
    {
     "data": {
      "application/scrapbook.scrap.json+json": {
       "data": 0.3802701291926205,
       "encoder": "json",
       "name": "ABC-GAN Model 3 MAE",
       "version": 1
      }
     },
     "metadata": {
      "scrapbook": {
       "data": true,
       "display": false,
       "name": "ABC-GAN Model 3 MAE"
      }
     },
     "output_type": "display_data"
    },
    {
     "data": {
      "application/scrapbook.scrap.json+json": {
       "data": 7.605402583852411,
       "encoder": "json",
       "name": "ABC-GAN Model 3 Manhattan Distance",
       "version": 1
      }
     },
     "metadata": {
      "scrapbook": {
       "data": true,
       "display": false,
       "name": "ABC-GAN Model 3 Manhattan Distance"
      }
     },
     "output_type": "display_data"
    },
    {
     "data": {
      "application/scrapbook.scrap.json+json": {
       "data": 2.2761262406459357,
       "encoder": "json",
       "name": "ABC-GAN Model 3 Euclidean distance",
       "version": 1
      }
     },
     "metadata": {
      "scrapbook": {
       "data": true,
       "display": false,
       "name": "ABC-GAN Model 3 Euclidean distance"
      }
     },
     "output_type": "display_data"
    },
    {
     "data": {
      "application/scrapbook.scrap.json+json": {
       "data": [
        [
         0.22067685398422543,
         0.24522428280293265,
         0.2678669392784457,
         0.2646897276507601,
         0.22007543675807356,
         0.2567602550203665,
         0.291304633848964,
         0.23468282131819654,
         0.23097633283540514,
         0.28889512841126014,
         0.21689669352768765,
         0.3051889667416674,
         0.2685242988104698,
         0.26140117200396473,
         0.2526904751736691,
         0.24040405956475092,
         0.25957024737315615,
         0.2604197264860858,
         0.24292506423397847,
         0.29829710302752616,
         0.26872687505712156,
         0.2602395662465632,
         0.2934553085446984,
         0.2644995528107561,
         0.22604400613145254,
         0.2847984294625211,
         0.26313851685177014,
         0.26599589774439025,
         0.22507177342640722,
         0.2516499075234032,
         0.2503640032697787,
         0.3018290179842669,
         0.24715502952300708,
         0.25234070169052164,
         0.2542817594932877,
         0.29088640871157445,
         0.21941932905718256,
         0.22377049884454162,
         0.2620115866931436,
         0.2081776110432075,
         0.25903980284909633,
         0.2547322208595658,
         0.24982032957944095,
         0.257143776799122,
         0.2533971901561542,
         0.25022859917286955,
         0.25931118735555364,
         0.24786429093293547,
         0.2557871701116986,
         0.2129612658016775,
         0.23022050217429232,
         0.2646213554957461,
         0.3184531231906519,
         0.30694716250830123,
         0.2994915908362075,
         0.20983429855601393,
         0.28655368044798296,
         0.2810489042692139,
         0.2608354397548315,
         0.2277789423452298,
         0.2510091194952801,
         0.28707095467966687,
         0.3155858796772836,
         0.2681257831440903,
         0.26671737128708767,
         0.29801393722102976,
         0.25933994725680737,
         0.25043289502415045,
         0.2680811252878991,
         0.26349926950407215,
         0.28296271223160274,
         0.2449859509381322,
         0.2345639110290955,
         0.2572843056017507,
         0.2733193276980531,
         0.2984287637834664,
         0.22071699746361156,
         0.26491874747812816,
         0.22448501720520692,
         0.24172139364133022,
         0.3131838009462998,
         0.24233818094004805,
         0.27457520024508986,
         0.33760912379948255,
         0.20434558305961642,
         0.30420011009554565,
         0.251501473292426,
         0.258129626575308,
         0.2302126730912593,
         0.2643879181728678,
         0.23772915139631304,
         0.26020460916669175,
         0.24704922715863656,
         0.2300802140000353,
         0.26634472378974977,
         0.28068801447877145,
         0.27724876587016745,
         0.3044671827937722,
         0.26279164004173317,
         0.22861499324088888
        ],
        [
         0.33939254879951475,
         0.3700414814054966,
         0.4001233346760273,
         0.3737137023359537,
         0.3563880309462547,
         0.3770429022610188,
         0.400869370251894,
         0.3513270925730467,
         0.36542786136269567,
         0.42925911471247674,
         0.3334809452295303,
         0.41849817112088206,
         0.38946673050522806,
         0.3718027904629707,
         0.37768723741173743,
         0.38146565333008764,
         0.36710820272564887,
         0.38392746448516846,
         0.39859032407402994,
         0.4139456205070019,
         0.39172119200229644,
         0.38663903884589673,
         0.34415066838264463,
         0.38765601739287375,
         0.36123504862189293,
         0.40137629248201845,
         0.4006332255899906,
         0.39402676895260813,
         0.36237475126981733,
         0.3739199619740248,
         0.37066156789660454,
         0.4319071590900421,
         0.35165464207530023,
         0.3799525536596775,
         0.37850282788276673,
         0.4301871083676815,
         0.34325131997466085,
         0.34456343613564966,
         0.3797208795323968,
         0.3226949043571949,
         0.39484199658036234,
         0.3681994996964931,
         0.3986941359937191,
         0.38137510474771263,
         0.3680491615086794,
         0.362223432213068,
         0.38478425666689875,
         0.36647102013230326,
         0.3775836654007435,
         0.31044249311089517,
         0.3481320656836033,
         0.39126374647021295,
         0.4272963903844357,
         0.43082638159394265,
         0.41520105600357055,
         0.3330713428556919,
         0.3957945965230465,
         0.3704926915466785,
         0.38412424772977827,
         0.34021587297320366,
         0.37614842131733894,
         0.39922450482845306,
         0.39719384238123895,
         0.3826764665544033,
         0.3619180560112,
         0.4089442498981953,
         0.37681991085410116,
         0.3896577790379524,
         0.39432662539184093,
         0.3920735828578472,
         0.4167195826768875,
         0.3514638103544712,
         0.36509304866194725,
         0.3874024018645287,
         0.38570351898670197,
         0.37497105076909065,
         0.35625978484749793,
         0.4044960834085941,
         0.34355157390236857,
         0.3718989960849285,
         0.42817752808332443,
         0.38357930183410643,
         0.4005224846303463,
         0.4168729782104492,
         0.348110581189394,
         0.3645362608134747,
         0.3604533039033413,
         0.3788783550262451,
         0.34742062017321584,
         0.3835134856402874,
         0.3617655821144581,
         0.38517980352044107,
         0.3788574293255806,
         0.3614544503390789,
         0.4026582784950733,
         0.41364699713885783,
         0.41676340214908125,
         0.4236834656447172,
         0.38895856514573096,
         0.3599656537175179
        ],
        [
         6.787850975990295,
         7.400829628109932,
         8.002466693520546,
         7.474274046719074,
         7.127760618925095,
         7.540858045220375,
         8.01738740503788,
         7.026541851460934,
         7.308557227253914,
         8.585182294249535,
         6.669618904590607,
         8.36996342241764,
         7.789334610104561,
         7.436055809259415,
         7.553744748234749,
         7.629313066601753,
         7.342164054512978,
         7.678549289703369,
         7.9718064814805984,
         8.278912410140038,
         7.834423840045929,
         7.732780776917934,
         6.883013367652893,
         7.753120347857475,
         7.224700972437859,
         8.02752584964037,
         8.012664511799812,
         7.880535379052162,
         7.247495025396347,
         7.4783992394804955,
         7.413231357932091,
         8.638143181800842,
         7.033092841506004,
         7.59905107319355,
         7.5700565576553345,
         8.60374216735363,
         6.8650263994932175,
         6.891268722712994,
         7.594417590647936,
         6.453898087143898,
         7.896839931607246,
         7.363989993929863,
         7.973882719874382,
         7.627502094954252,
         7.360983230173588,
         7.24446864426136,
         7.6956851333379745,
         7.329420402646065,
         7.55167330801487,
         6.208849862217903,
         6.962641313672066,
         7.825274929404259,
         8.545927807688713,
         8.616527631878853,
         8.304021120071411,
         6.661426857113838,
         7.91589193046093,
         7.409853830933571,
         7.682484954595566,
         6.804317459464073,
         7.522968426346779,
         7.984490096569061,
         7.943876847624779,
         7.653529331088066,
         7.238361120223999,
         8.178884997963905,
         7.536398217082024,
         7.7931555807590485,
         7.886532507836819,
         7.841471657156944,
         8.33439165353775,
         7.029276207089424,
         7.301860973238945,
         7.748048037290573,
         7.714070379734039,
         7.499421015381813,
         7.125195696949959,
         8.089921668171883,
         6.871031478047371,
         7.43797992169857,
         8.563550561666489,
         7.671586036682129,
         8.010449692606926,
         8.337459564208984,
         6.96221162378788,
         7.290725216269493,
         7.209066078066826,
         7.577567100524902,
         6.948412403464317,
         7.670269712805748,
         7.235311642289162,
         7.703596070408821,
         7.577148586511612,
         7.229089006781578,
         8.053165569901466,
         8.272939942777157,
         8.335268042981625,
         8.473669312894344,
         7.7791713029146194,
         7.199313074350357
        ],
        [
         2.1008419930314863,
         2.2146073367661936,
         2.3145925744218814,
         2.3008247549553187,
         2.097977296150144,
         2.2660990932453347,
         2.413730033988739,
         2.166484808708321,
         2.1493084135851936,
         2.403726808151293,
         2.0827707196313647,
         2.4705827925478125,
         2.3174308999858866,
         2.2864871397143904,
         2.2480679490338766,
         2.1927337255797883,
         2.278465480858361,
         2.282190730355751,
         2.2042008267577544,
         2.442527801387432,
         2.3183048766593295,
         2.2814011757977295,
         2.422623819517584,
         2.2999980556981177,
         2.1262361399028684,
         2.3866228418521476,
         2.2940728709078537,
         2.3064947333319026,
         2.1216586597584786,
         2.2434344542393174,
         2.237695257490522,
         2.4569453310330975,
         2.223308478475297,
         2.2465115254123296,
         2.255135293029168,
         2.4119967193658223,
         2.0948476271900183,
         2.11551647993837,
         2.2891552445963272,
         2.040478429404278,
         2.276136212308465,
         2.2571319007074697,
         2.2352643225329794,
         2.267790893354685,
         2.251209408989551,
         2.2370900704838395,
         2.2773282036437066,
         2.226496310048303,
         2.2618009201152014,
         2.063789067718295,
         2.1457889093491573,
         2.300527572083178,
         2.523700153309231,
         2.477689094734451,
         2.4474132909511113,
         2.0485814533770137,
         2.393966083502366,
         2.3708601994601617,
         2.2840115575663424,
         2.134380202050374,
         2.240576352170486,
         2.3961258509505163,
         2.512313195751213,
         2.3157106172580817,
         2.309620623769573,
         2.441368211561008,
         2.2774544880493544,
         2.238003105557052,
         2.3155177619180516,
         2.2956448745573526,
         2.378918713330082,
         2.213530894015858,
         2.1659358763781325,
         2.2684104813800814,
         2.3380304861060006,
         2.4430667767519836,
         2.101033067153449,
         2.3018199211846615,
         2.118891300681594,
         2.198733242761978,
         2.502733709152053,
         2.201536649433972,
         2.3433958276189273,
         2.5984961951077876,
         2.0216111547951865,
         2.466577021280891,
         2.2427727182772044,
         2.2721339158390643,
         2.1457524232364706,
         2.2995126360725555,
         2.180500636992858,
         2.281247944291421,
         2.22283254951261,
         2.1451350260533033,
         2.308006602199178,
         2.369337521244162,
         2.3547771269067796,
         2.4676595502369127,
         2.292560315637227,
         2.1382936806757336
        ]
       ],
       "encoder": "json",
       "name": "ABC_GAN_3 Metrics",
       "version": 1
      }
     },
     "metadata": {
      "scrapbook": {
       "data": true,
       "display": false,
       "name": "ABC_GAN_3 Metrics"
      }
     },
     "output_type": "display_data"
    },
    {
     "name": "stdout",
     "output_type": "stream",
     "text": [
      "MSE\n",
      "0.25974362453960215\n"
     ]
    }
   ],
   "source": [
    "ABC_GAN3_metrics=ABC_train_test2.test_generator(gen3,test_data,prior_model,variance,bias,\"3\",device)\n",
    "sb.glue(\"ABC_GAN_3 Metrics\",ABC_GAN3_metrics)\n",
    "\n",
    "print(\"MSE\")\n",
    "print(mean(ABC_GAN3_metrics[0]))"
   ]
  },
  {
   "cell_type": "code",
   "execution_count": 18,
   "id": "c8e46b48",
   "metadata": {
    "execution": {
     "iopub.execute_input": "2022-06-13T07:29:46.724146Z",
     "iopub.status.busy": "2022-06-13T07:29:46.723752Z",
     "iopub.status.idle": "2022-06-13T07:29:47.025321Z",
     "shell.execute_reply": "2022-06-13T07:29:47.025573Z"
    },
    "id": "c8e46b48",
    "papermill": {
     "duration": 0.321481,
     "end_time": "2022-06-13T07:29:47.025699",
     "exception": false,
     "start_time": "2022-06-13T07:29:46.704218",
     "status": "completed"
    },
    "tags": []
   },
   "outputs": [
    {
     "data": {
      "image/png": "[encoded data removed]",
      "text/plain": [
       "<Figure size 432x288 with 1 Axes>"
      ]
     },
     "metadata": {
      "needs_background": "light"
     },
     "output_type": "display_data"
    },
    {
     "data": {
      "image/png": "[encoded data removed]",
      "text/plain": [
       "<Figure size 432x288 with 1 Axes>"
      ]
     },
     "metadata": {
      "needs_background": "light"
     },
     "output_type": "display_data"
    },
    {
     "data": {
      "image/png": "[encoded data removed]",
      "text/plain": [
       "<Figure size 432x288 with 1 Axes>"
      ]
     },
     "metadata": {
      "needs_background": "light"
     },
     "output_type": "display_data"
    },
    {
     "data": {
      "image/png": "[encoded data removed]",
      "text/plain": [
       "<Figure size 432x288 with 1 Axes>"
      ]
     },
     "metadata": {
      "needs_background": "light"
     },
     "output_type": "display_data"
    }
   ],
   "source": [
    "sanityChecks.discProbVsError(train_data,disc3,device)\n",
    "sanityChecks.discProbVsError(test_data,disc3,device)"
   ]
  },
  {
   "cell_type": "markdown",
   "id": "a5bd74c3",
   "metadata": {
    "id": "a5bd74c3",
    "papermill": {
     "duration": 0.020438,
     "end_time": "2022-06-13T07:29:47.066469",
     "exception": false,
     "start_time": "2022-06-13T07:29:47.046031",
     "status": "completed"
    },
    "tags": []
   },
   "source": [
    "## Skip Connection Model Analysis - ABC-GAN "
   ]
  },
  {
   "cell_type": "markdown",
   "id": "5744a8bf",
   "metadata": {
    "id": "5744a8bf",
    "papermill": {
     "duration": 0.020108,
     "end_time": "2022-06-13T07:29:47.107024",
     "exception": false,
     "start_time": "2022-06-13T07:29:47.086916",
     "status": "completed"
    },
    "tags": []
   },
   "source": [
    "### Weight Analysis \n",
    "\n",
    "Study the weights of the skip connection layer\n",
    "\n",
    "Equation of the skip connection is \n",
    "\n",
    "$output = y_{gan} * w + y_{abc} * (1-w)$"
   ]
  },
  {
   "cell_type": "code",
   "execution_count": 19,
   "id": "52c31dea",
   "metadata": {
    "execution": {
     "iopub.execute_input": "2022-06-13T07:29:47.150044Z",
     "iopub.status.busy": "2022-06-13T07:29:47.149649Z",
     "iopub.status.idle": "2022-06-13T07:29:47.153141Z",
     "shell.execute_reply": "2022-06-13T07:29:47.153490Z"
    },
    "id": "52c31dea",
    "papermill": {
     "duration": 0.026324,
     "end_time": "2022-06-13T07:29:47.153615",
     "exception": false,
     "start_time": "2022-06-13T07:29:47.127291",
     "status": "completed"
    },
    "tags": []
   },
   "outputs": [
    {
     "name": "stdout",
     "output_type": "stream",
     "text": [
      "Weight of the node at skip connection\n",
      "Parameter containing:\n",
      "tensor([[0.1549]], requires_grad=True)\n"
     ]
    },
    {
     "data": {
      "application/scrapbook.scrap.json+json": {
       "data": 0.15494851768016815,
       "encoder": "json",
       "name": "Skip Connection Weight",
       "version": 1
      }
     },
     "metadata": {
      "scrapbook": {
       "data": true,
       "display": false,
       "name": "Skip Connection Weight"
      }
     },
     "output_type": "display_data"
    }
   ],
   "source": [
    "print(\"Weight of the node at skip connection\")\n",
    "for name,param in gen3.named_parameters():\n",
    "    if(name == \"skipNode.weight\"):\n",
    "        print(param)\n",
    "        sb.glue(\"Skip Connection Weight\",param.item())"
   ]
  }
 ],
 "metadata": {
  "colab": {
   "collapsed_sections": [],
   "name": "ABC_GAN_Model-Catboost_Pre-gen.ipynb",
   "provenance": []
  },
  "interpreter": {
   "hash": "31f2aee4e71d21fbe5cf8b01ff0e069b9275f58929596ceb00d14d90e3e16cd6"
  },
  "kernelspec": {
   "display_name": "Python 3 (ipykernel)",
   "language": "python",
   "name": "python3"
  },
  "language_info": {
   "codemirror_mode": {
    "name": "ipython",
    "version": 3
   },
   "file_extension": ".py",
   "mimetype": "text/x-python",
   "name": "python",
   "nbconvert_exporter": "python",
   "pygments_lexer": "ipython3",
   "version": "3.8.11"
  },
  "papermill": {
   "default_parameters": {},
   "duration": 57.182925,
   "end_time": "2022-06-13T07:29:47.481772",
   "environment_variables": {},
   "exception": null,
   "input_path": "ABC_GAN-Catboost.ipynb",
   "output_path": "./ABC_GAN_Catboost/ABC-GAN_output_7_6.ipynb",
   "parameters": {
    "bias": 0.01,
    "variance": 1
   },
   "start_time": "2022-06-13T07:28:50.298847",
   "version": "2.3.3"
  }
 },
 "nbformat": 4,
 "nbformat_minor": 5
}