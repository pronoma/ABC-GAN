{
 "cells": [
  {
   "cell_type": "markdown",
   "id": "622780e6",
   "metadata": {
    "id": "622780e6",
    "papermill": {
     "duration": 0.016262,
     "end_time": "2022-03-16T13:42:03.982494",
     "exception": false,
     "start_time": "2022-03-16T13:42:03.966232",
     "status": "completed"
    },
    "tags": []
   },
   "source": [
    "## Import Libraries "
   ]
  },
  {
   "cell_type": "code",
   "execution_count": 1,
   "id": "a62397e3",
   "metadata": {
    "execution": {
     "iopub.execute_input": "2022-03-16T13:42:04.020077Z",
     "iopub.status.busy": "2022-03-16T13:42:04.019578Z",
     "iopub.status.idle": "2022-03-16T13:42:04.021901Z",
     "shell.execute_reply": "2022-03-16T13:42:04.022218Z"
    },
    "id": "a62397e3",
    "papermill": {
     "duration": 0.020226,
     "end_time": "2022-03-16T13:42:04.022420",
     "exception": false,
     "start_time": "2022-03-16T13:42:04.002194",
     "status": "completed"
    },
    "tags": []
   },
   "outputs": [],
   "source": [
    "import warnings\n",
    "import sys\n",
    "sys.path.insert(0, '../../src')\n",
    "warnings.filterwarnings('ignore')"
   ]
  },
  {
   "cell_type": "code",
   "execution_count": 2,
   "id": "d6a4e155",
   "metadata": {
    "execution": {
     "iopub.execute_input": "2022-03-16T13:42:04.042085Z",
     "iopub.status.busy": "2022-03-16T13:42:04.041674Z",
     "iopub.status.idle": "2022-03-16T13:42:05.896554Z",
     "shell.execute_reply": "2022-03-16T13:42:05.896815Z"
    },
    "id": "d6a4e155",
    "papermill": {
     "duration": 1.865529,
     "end_time": "2022-03-16T13:42:05.896939",
     "exception": false,
     "start_time": "2022-03-16T13:42:04.031410",
     "status": "completed"
    },
    "tags": []
   },
   "outputs": [],
   "source": [
    "import ABC_train_test2\n",
    "import friedman2Dataset\n",
    "import network\n",
    "import dataset\n",
    "import sanityChecks\n",
    "import torch \n",
    "import scrapbook as sb\n",
    "from statistics import mean \n",
    "import catboost as ctb \n",
    "from sklearn.model_selection import train_test_split\n",
    "from sklearn.metrics import mean_squared_error,mean_absolute_error\n",
    "import numpy as np"
   ]
  },
  {
   "cell_type": "markdown",
   "id": "2fa5b0f7",
   "metadata": {
    "id": "2fa5b0f7",
    "papermill": {
     "duration": 0.00705,
     "end_time": "2022-03-16T13:42:05.911230",
     "exception": false,
     "start_time": "2022-03-16T13:42:05.904180",
     "status": "completed"
    },
    "tags": []
   },
   "source": [
    "## Parameters "
   ]
  },
  {
   "cell_type": "code",
   "execution_count": 3,
   "id": "783186fb",
   "metadata": {
    "execution": {
     "iopub.execute_input": "2022-03-16T13:42:05.927659Z",
     "iopub.status.busy": "2022-03-16T13:42:05.927290Z",
     "iopub.status.idle": "2022-03-16T13:42:05.928560Z",
     "shell.execute_reply": "2022-03-16T13:42:05.928817Z"
    },
    "id": "783186fb",
    "papermill": {
     "duration": 0.010847,
     "end_time": "2022-03-16T13:42:05.928939",
     "exception": false,
     "start_time": "2022-03-16T13:42:05.918092",
     "status": "completed"
    },
    "tags": [
     "parameters"
    ]
   },
   "outputs": [],
   "source": [
    "variance = 1\n",
    "bias = 1 "
   ]
  },
  {
   "cell_type": "code",
   "execution_count": 4,
   "id": "940a83eb",
   "metadata": {
    "execution": {
     "iopub.execute_input": "2022-03-16T13:42:05.945262Z",
     "iopub.status.busy": "2022-03-16T13:42:05.944903Z",
     "iopub.status.idle": "2022-03-16T13:42:05.946181Z",
     "shell.execute_reply": "2022-03-16T13:42:05.946445Z"
    },
    "papermill": {
     "duration": 0.010508,
     "end_time": "2022-03-16T13:42:05.946561",
     "exception": false,
     "start_time": "2022-03-16T13:42:05.936053",
     "status": "completed"
    },
    "tags": [
     "injected-parameters"
    ]
   },
   "outputs": [],
   "source": [
    "# Parameters\n",
    "variance = 0.1\n",
    "bias = 0.01\n"
   ]
  },
  {
   "cell_type": "markdown",
   "id": "391cdbfd",
   "metadata": {
    "id": "391cdbfd",
    "papermill": {
     "duration": 0.007037,
     "end_time": "2022-03-16T13:42:05.960720",
     "exception": false,
     "start_time": "2022-03-16T13:42:05.953683",
     "status": "completed"
    },
    "tags": []
   },
   "source": [
    "## Dataset \n"
   ]
  },
  {
   "cell_type": "code",
   "execution_count": 5,
   "id": "5b51f161",
   "metadata": {
    "execution": {
     "iopub.execute_input": "2022-03-16T13:42:05.976795Z",
     "iopub.status.busy": "2022-03-16T13:42:05.976445Z",
     "iopub.status.idle": "2022-03-16T13:42:05.977714Z",
     "shell.execute_reply": "2022-03-16T13:42:05.977963Z"
    },
    "id": "5b51f161",
    "papermill": {
     "duration": 0.010366,
     "end_time": "2022-03-16T13:42:05.978090",
     "exception": false,
     "start_time": "2022-03-16T13:42:05.967724",
     "status": "completed"
    },
    "tags": []
   },
   "outputs": [],
   "source": [
    "#Parameters \n",
    "n_features = 4\n",
    "n_samples= 100\n",
    "n_target = 1 "
   ]
  },
  {
   "cell_type": "code",
   "execution_count": 6,
   "id": "5d6eced4",
   "metadata": {
    "execution": {
     "iopub.execute_input": "2022-03-16T13:42:05.994711Z",
     "iopub.status.busy": "2022-03-16T13:42:05.994068Z",
     "iopub.status.idle": "2022-03-16T13:42:06.000413Z",
     "shell.execute_reply": "2022-03-16T13:42:06.000708Z"
    },
    "id": "5d6eced4",
    "papermill": {
     "duration": 0.015621,
     "end_time": "2022-03-16T13:42:06.000824",
     "exception": false,
     "start_time": "2022-03-16T13:42:05.985203",
     "status": "completed"
    },
    "tags": []
   },
   "outputs": [
    {
     "name": "stdout",
     "output_type": "stream",
     "text": [
      "          X1           X2        X3         X4            Y\n",
      "0  92.881614   893.203832  0.059038   8.163015   106.926061\n",
      "1  65.507874  1716.513330  0.163684  10.660487   288.496649\n",
      "2  22.651964  1660.676395  0.983269   2.880591  1633.136969\n",
      "3  70.413195   887.887444  0.909704  10.204663   810.757872\n",
      "4  17.999376  1686.171535  0.195800   9.402942   330.487227\n"
     ]
    }
   ],
   "source": [
    "X,Y = friedman2Dataset.friedman2_data(n_samples)"
   ]
  },
  {
   "cell_type": "code",
   "execution_count": 7,
   "id": "fe007438",
   "metadata": {
    "execution": {
     "iopub.execute_input": "2022-03-16T13:42:06.018886Z",
     "iopub.status.busy": "2022-03-16T13:42:06.018509Z",
     "iopub.status.idle": "2022-03-16T13:42:06.019840Z",
     "shell.execute_reply": "2022-03-16T13:42:06.020095Z"
    },
    "id": "fe007438",
    "papermill": {
     "duration": 0.011543,
     "end_time": "2022-03-16T13:42:06.020207",
     "exception": false,
     "start_time": "2022-03-16T13:42:06.008664",
     "status": "completed"
    },
    "tags": []
   },
   "outputs": [],
   "source": [
    "#Train test split for dataset \n",
    "X_train,X_test,Y_train,Y_test = train_test_split(X,Y,test_size = 0.2)\n",
    "train_data = dataset.CustomDataset(X_train,Y_train)\n",
    "test_data = dataset.CustomDataset(X_test,Y_test)\n"
   ]
  },
  {
   "cell_type": "markdown",
   "id": "a9a1af34",
   "metadata": {
    "id": "a9a1af34",
    "papermill": {
     "duration": 0.007525,
     "end_time": "2022-03-16T13:42:06.035576",
     "exception": false,
     "start_time": "2022-03-16T13:42:06.028051",
     "status": "completed"
    },
    "tags": []
   },
   "source": [
    "## Training Parameters "
   ]
  },
  {
   "cell_type": "code",
   "execution_count": 8,
   "id": "952b7fc8",
   "metadata": {
    "execution": {
     "iopub.execute_input": "2022-03-16T13:42:06.053359Z",
     "iopub.status.busy": "2022-03-16T13:42:06.052974Z",
     "iopub.status.idle": "2022-03-16T13:42:06.054322Z",
     "shell.execute_reply": "2022-03-16T13:42:06.054624Z"
    },
    "id": "952b7fc8",
    "papermill": {
     "duration": 0.011626,
     "end_time": "2022-03-16T13:42:06.054763",
     "exception": false,
     "start_time": "2022-03-16T13:42:06.043137",
     "status": "completed"
    },
    "tags": []
   },
   "outputs": [],
   "source": [
    "batch_size = 32\n",
    "n_epochs = 1000\n",
    "#Select the device \n",
    "device = torch.device('cuda' if torch.cuda.is_available() else 'cpu')"
   ]
  },
  {
   "cell_type": "markdown",
   "id": "a95e1600",
   "metadata": {
    "id": "a95e1600",
    "papermill": {
     "duration": 0.007517,
     "end_time": "2022-03-16T13:42:06.070066",
     "exception": false,
     "start_time": "2022-03-16T13:42:06.062549",
     "status": "completed"
    },
    "tags": []
   },
   "source": [
    "# ABC Pre-generator Model \n",
    "\n",
    "1. The catboost model is used as a pre-generator model for the ABC-GAN. \n",
    "2. The model is first trained on the entire dataset \n",
    "3. It generats X,Y pairs and we add some Gaussian noise with mean 0 and variance 1 to it which is then feed as input to the generator.\n"
   ]
  },
  {
   "cell_type": "code",
   "execution_count": 9,
   "id": "ff8ce7bd",
   "metadata": {
    "execution": {
     "iopub.execute_input": "2022-03-16T13:42:06.089408Z",
     "iopub.status.busy": "2022-03-16T13:42:06.089003Z",
     "iopub.status.idle": "2022-03-16T13:42:06.712742Z",
     "shell.execute_reply": "2022-03-16T13:42:06.713081Z"
    },
    "id": "ff8ce7bd",
    "papermill": {
     "duration": 0.635526,
     "end_time": "2022-03-16T13:42:06.713231",
     "exception": false,
     "start_time": "2022-03-16T13:42:06.077705",
     "status": "completed"
    },
    "tags": []
   },
   "outputs": [
    {
     "name": "stdout",
     "output_type": "stream",
     "text": [
      "Learning rate set to 0.024897\n",
      "0:\tlearn: 0.9342408\ttotal: 57.9ms\tremaining: 57.9s\n",
      "1:\tlearn: 0.9241349\ttotal: 58.5ms\tremaining: 29.2s\n",
      "2:\tlearn: 0.9139997\ttotal: 59ms\tremaining: 19.6s\n",
      "3:\tlearn: 0.9055235\ttotal: 59.4ms\tremaining: 14.8s\n",
      "4:\tlearn: 0.8940161\ttotal: 60ms\tremaining: 11.9s\n",
      "5:\tlearn: 0.8853770\ttotal: 60.5ms\tremaining: 10s\n",
      "6:\tlearn: 0.8732528\ttotal: 60.9ms\tremaining: 8.63s\n",
      "7:\tlearn: 0.8643035\ttotal: 61.3ms\tremaining: 7.6s\n",
      "8:\tlearn: 0.8517943\ttotal: 61.8ms\tremaining: 6.8s\n",
      "9:\tlearn: 0.8406842\ttotal: 62.4ms\tremaining: 6.18s\n",
      "10:\tlearn: 0.8299842\ttotal: 62.9ms\tremaining: 5.66s\n",
      "11:\tlearn: 0.8179386\ttotal: 63.3ms\tremaining: 5.21s\n",
      "12:\tlearn: 0.8067387\ttotal: 64ms\tremaining: 4.86s\n",
      "13:\tlearn: 0.7961568\ttotal: 64.6ms\tremaining: 4.55s\n",
      "14:\tlearn: 0.7863310\ttotal: 65ms\tremaining: 4.27s\n",
      "15:\tlearn: 0.7779161\ttotal: 65.5ms\tremaining: 4.03s\n",
      "16:\tlearn: 0.7695413\ttotal: 66.3ms\tremaining: 3.83s\n",
      "17:\tlearn: 0.7605232\ttotal: 66.9ms\tremaining: 3.65s\n",
      "18:\tlearn: 0.7534949\ttotal: 67.6ms\tremaining: 3.49s\n",
      "19:\tlearn: 0.7431148\ttotal: 68ms\tremaining: 3.33s\n",
      "20:\tlearn: 0.7320441\ttotal: 68.6ms\tremaining: 3.2s\n",
      "21:\tlearn: 0.7246162\ttotal: 68.9ms\tremaining: 3.06s\n",
      "22:\tlearn: 0.7156134\ttotal: 69.5ms\tremaining: 2.95s\n",
      "23:\tlearn: 0.7067942\ttotal: 70.1ms\tremaining: 2.85s\n",
      "24:\tlearn: 0.6973977\ttotal: 70.6ms\tremaining: 2.75s\n",
      "25:\tlearn: 0.6885816\ttotal: 71.2ms\tremaining: 2.67s\n",
      "26:\tlearn: 0.6797301\ttotal: 71.6ms\tremaining: 2.58s\n",
      "27:\tlearn: 0.6715220\ttotal: 72ms\tremaining: 2.5s\n",
      "28:\tlearn: 0.6639266\ttotal: 72.6ms\tremaining: 2.43s\n",
      "29:\tlearn: 0.6579499\ttotal: 73ms\tremaining: 2.36s\n",
      "30:\tlearn: 0.6503593\ttotal: 73.5ms\tremaining: 2.3s\n",
      "31:\tlearn: 0.6435124\ttotal: 73.9ms\tremaining: 2.24s\n",
      "32:\tlearn: 0.6354963\ttotal: 74.4ms\tremaining: 2.18s\n",
      "33:\tlearn: 0.6297819\ttotal: 74.8ms\tremaining: 2.13s\n",
      "34:\tlearn: 0.6233171\ttotal: 75.2ms\tremaining: 2.07s\n",
      "35:\tlearn: 0.6173462\ttotal: 75.6ms\tremaining: 2.02s\n",
      "36:\tlearn: 0.6100973\ttotal: 76.1ms\tremaining: 1.98s\n",
      "37:\tlearn: 0.6027493\ttotal: 76.7ms\tremaining: 1.94s\n",
      "38:\tlearn: 0.5956588\ttotal: 77.2ms\tremaining: 1.9s\n",
      "39:\tlearn: 0.5898027\ttotal: 77.7ms\tremaining: 1.86s\n",
      "40:\tlearn: 0.5830009\ttotal: 78.2ms\tremaining: 1.83s\n",
      "41:\tlearn: 0.5761204\ttotal: 78.6ms\tremaining: 1.79s\n",
      "42:\tlearn: 0.5698453\ttotal: 79ms\tremaining: 1.76s\n",
      "43:\tlearn: 0.5631135\ttotal: 79.4ms\tremaining: 1.73s\n",
      "44:\tlearn: 0.5579473\ttotal: 79.9ms\tremaining: 1.7s\n",
      "45:\tlearn: 0.5534497\ttotal: 80.4ms\tremaining: 1.67s\n",
      "46:\tlearn: 0.5485285\ttotal: 80.8ms\tremaining: 1.64s\n",
      "47:\tlearn: 0.5419011\ttotal: 81.3ms\tremaining: 1.61s\n",
      "48:\tlearn: 0.5357869\ttotal: 81.7ms\tremaining: 1.59s\n",
      "49:\tlearn: 0.5315957\ttotal: 82.2ms\tremaining: 1.56s\n",
      "50:\tlearn: 0.5255965\ttotal: 82.7ms\tremaining: 1.54s\n",
      "51:\tlearn: 0.5202759\ttotal: 83.2ms\tremaining: 1.52s\n",
      "52:\tlearn: 0.5142654\ttotal: 83.8ms\tremaining: 1.5s\n",
      "53:\tlearn: 0.5086892\ttotal: 84.3ms\tremaining: 1.48s\n"
     ]
    },
    {
     "name": "stdout",
     "output_type": "stream",
     "text": [
      "54:\tlearn: 0.5022566\ttotal: 84.8ms\tremaining: 1.46s\n",
      "55:\tlearn: 0.4963033\ttotal: 85.4ms\tremaining: 1.44s\n",
      "56:\tlearn: 0.4924248\ttotal: 85.9ms\tremaining: 1.42s\n",
      "57:\tlearn: 0.4876214\ttotal: 86.5ms\tremaining: 1.4s\n",
      "58:\tlearn: 0.4820764\ttotal: 87ms\tremaining: 1.39s\n",
      "59:\tlearn: 0.4763720\ttotal: 87.4ms\tremaining: 1.37s\n",
      "60:\tlearn: 0.4710131\ttotal: 88.1ms\tremaining: 1.35s\n",
      "61:\tlearn: 0.4660533\ttotal: 88.7ms\tremaining: 1.34s\n",
      "62:\tlearn: 0.4610993\ttotal: 89.2ms\tremaining: 1.33s\n",
      "63:\tlearn: 0.4570797\ttotal: 89.7ms\tremaining: 1.31s\n",
      "64:\tlearn: 0.4512051\ttotal: 90.3ms\tremaining: 1.3s\n",
      "65:\tlearn: 0.4471459\ttotal: 90.6ms\tremaining: 1.28s\n",
      "66:\tlearn: 0.4421811\ttotal: 91.1ms\tremaining: 1.27s\n",
      "67:\tlearn: 0.4369564\ttotal: 91.6ms\tremaining: 1.25s\n",
      "68:\tlearn: 0.4328082\ttotal: 92.1ms\tremaining: 1.24s\n",
      "69:\tlearn: 0.4273223\ttotal: 92.6ms\tremaining: 1.23s\n",
      "70:\tlearn: 0.4223299\ttotal: 93ms\tremaining: 1.22s\n",
      "71:\tlearn: 0.4170516\ttotal: 93.5ms\tremaining: 1.21s\n",
      "72:\tlearn: 0.4135280\ttotal: 94ms\tremaining: 1.19s\n",
      "73:\tlearn: 0.4098415\ttotal: 94.4ms\tremaining: 1.18s\n",
      "74:\tlearn: 0.4062382\ttotal: 94.8ms\tremaining: 1.17s\n",
      "75:\tlearn: 0.4015226\ttotal: 95.2ms\tremaining: 1.16s\n",
      "76:\tlearn: 0.3965462\ttotal: 95.6ms\tremaining: 1.15s\n",
      "77:\tlearn: 0.3929130\ttotal: 96ms\tremaining: 1.13s\n",
      "78:\tlearn: 0.3891300\ttotal: 96.4ms\tremaining: 1.12s\n",
      "79:\tlearn: 0.3856260\ttotal: 96.9ms\tremaining: 1.11s\n",
      "80:\tlearn: 0.3812923\ttotal: 97.4ms\tremaining: 1.1s\n",
      "81:\tlearn: 0.3774558\ttotal: 97.8ms\tremaining: 1.09s\n",
      "82:\tlearn: 0.3737961\ttotal: 98.3ms\tremaining: 1.09s\n",
      "83:\tlearn: 0.3701657\ttotal: 98.9ms\tremaining: 1.08s\n",
      "84:\tlearn: 0.3666628\ttotal: 99.3ms\tremaining: 1.07s\n",
      "85:\tlearn: 0.3636052\ttotal: 99.9ms\tremaining: 1.06s\n",
      "86:\tlearn: 0.3600240\ttotal: 100ms\tremaining: 1.05s\n",
      "87:\tlearn: 0.3565141\ttotal: 101ms\tremaining: 1.05s\n",
      "88:\tlearn: 0.3524344\ttotal: 101ms\tremaining: 1.04s\n",
      "89:\tlearn: 0.3491251\ttotal: 102ms\tremaining: 1.03s\n",
      "90:\tlearn: 0.3458756\ttotal: 102ms\tremaining: 1.02s\n",
      "91:\tlearn: 0.3429536\ttotal: 103ms\tremaining: 1.01s\n",
      "92:\tlearn: 0.3398634\ttotal: 103ms\tremaining: 1s\n",
      "93:\tlearn: 0.3366695\ttotal: 104ms\tremaining: 998ms\n",
      "94:\tlearn: 0.3330018\ttotal: 104ms\tremaining: 991ms\n",
      "95:\tlearn: 0.3298936\ttotal: 105ms\tremaining: 984ms\n",
      "96:\tlearn: 0.3274374\ttotal: 105ms\tremaining: 977ms\n",
      "97:\tlearn: 0.3243136\ttotal: 105ms\tremaining: 970ms\n",
      "98:\tlearn: 0.3209862\ttotal: 106ms\tremaining: 964ms\n",
      "99:\tlearn: 0.3173880\ttotal: 106ms\tremaining: 957ms\n",
      "100:\tlearn: 0.3143260\ttotal: 107ms\tremaining: 951ms\n",
      "101:\tlearn: 0.3127917\ttotal: 107ms\tremaining: 945ms\n",
      "102:\tlearn: 0.3100549\ttotal: 108ms\tremaining: 938ms\n",
      "103:\tlearn: 0.3069933\ttotal: 108ms\tremaining: 933ms\n",
      "104:\tlearn: 0.3047616\ttotal: 109ms\tremaining: 926ms\n",
      "105:\tlearn: 0.3017187\ttotal: 109ms\tremaining: 920ms\n",
      "106:\tlearn: 0.2988349\ttotal: 110ms\tremaining: 915ms\n",
      "107:\tlearn: 0.2958312\ttotal: 110ms\tremaining: 909ms\n",
      "108:\tlearn: 0.2926906\ttotal: 111ms\tremaining: 904ms\n",
      "109:\tlearn: 0.2897320\ttotal: 111ms\tremaining: 898ms\n",
      "110:\tlearn: 0.2876172\ttotal: 111ms\tremaining: 892ms\n",
      "111:\tlearn: 0.2857727\ttotal: 112ms\tremaining: 887ms\n",
      "112:\tlearn: 0.2836857\ttotal: 112ms\tremaining: 882ms\n",
      "113:\tlearn: 0.2811504\ttotal: 113ms\tremaining: 877ms\n",
      "114:\tlearn: 0.2783836\ttotal: 113ms\tremaining: 871ms\n",
      "115:\tlearn: 0.2757069\ttotal: 114ms\tremaining: 866ms\n",
      "116:\tlearn: 0.2736481\ttotal: 114ms\tremaining: 861ms\n",
      "117:\tlearn: 0.2707470\ttotal: 114ms\tremaining: 855ms\n",
      "118:\tlearn: 0.2678852\ttotal: 115ms\tremaining: 851ms\n",
      "119:\tlearn: 0.2654709\ttotal: 115ms\tremaining: 846ms\n",
      "120:\tlearn: 0.2631996\ttotal: 116ms\tremaining: 841ms\n",
      "121:\tlearn: 0.2600583\ttotal: 116ms\tremaining: 836ms\n",
      "122:\tlearn: 0.2581948\ttotal: 117ms\tremaining: 831ms\n",
      "123:\tlearn: 0.2565280\ttotal: 117ms\tremaining: 827ms\n",
      "124:\tlearn: 0.2545823\ttotal: 118ms\tremaining: 823ms\n",
      "125:\tlearn: 0.2528692\ttotal: 118ms\tremaining: 818ms\n",
      "126:\tlearn: 0.2509096\ttotal: 118ms\tremaining: 814ms\n",
      "127:\tlearn: 0.2483675\ttotal: 119ms\tremaining: 810ms\n",
      "128:\tlearn: 0.2460201\ttotal: 119ms\tremaining: 804ms\n",
      "129:\tlearn: 0.2439014\ttotal: 120ms\tremaining: 800ms\n",
      "130:\tlearn: 0.2417059\ttotal: 120ms\tremaining: 796ms\n",
      "131:\tlearn: 0.2393296\ttotal: 120ms\tremaining: 792ms\n",
      "132:\tlearn: 0.2375264\ttotal: 121ms\tremaining: 788ms\n",
      "133:\tlearn: 0.2350188\ttotal: 121ms\tremaining: 784ms\n",
      "134:\tlearn: 0.2329131\ttotal: 122ms\tremaining: 780ms\n",
      "135:\tlearn: 0.2313699\ttotal: 122ms\tremaining: 777ms\n",
      "136:\tlearn: 0.2297486\ttotal: 123ms\tremaining: 773ms\n",
      "137:\tlearn: 0.2276456\ttotal: 123ms\tremaining: 770ms\n",
      "138:\tlearn: 0.2255285\ttotal: 124ms\tremaining: 766ms\n",
      "139:\tlearn: 0.2230867\ttotal: 124ms\tremaining: 762ms\n",
      "140:\tlearn: 0.2208224\ttotal: 124ms\tremaining: 758ms\n",
      "141:\tlearn: 0.2192863\ttotal: 125ms\tremaining: 754ms\n",
      "142:\tlearn: 0.2171425\ttotal: 125ms\tremaining: 751ms\n",
      "143:\tlearn: 0.2152435\ttotal: 126ms\tremaining: 749ms\n",
      "144:\tlearn: 0.2134077\ttotal: 126ms\tremaining: 745ms\n",
      "145:\tlearn: 0.2115375\ttotal: 127ms\tremaining: 742ms\n",
      "146:\tlearn: 0.2101588\ttotal: 127ms\tremaining: 738ms\n",
      "147:\tlearn: 0.2082097\ttotal: 128ms\tremaining: 735ms\n",
      "148:\tlearn: 0.2061004\ttotal: 128ms\tremaining: 732ms\n",
      "149:\tlearn: 0.2041230\ttotal: 128ms\tremaining: 728ms\n",
      "150:\tlearn: 0.2023176\ttotal: 129ms\tremaining: 725ms\n",
      "151:\tlearn: 0.2007856\ttotal: 129ms\tremaining: 722ms\n",
      "152:\tlearn: 0.1988194\ttotal: 130ms\tremaining: 718ms\n",
      "153:\tlearn: 0.1971251\ttotal: 130ms\tremaining: 715ms\n",
      "154:\tlearn: 0.1954110\ttotal: 131ms\tremaining: 712ms\n",
      "155:\tlearn: 0.1935860\ttotal: 131ms\tremaining: 709ms\n",
      "156:\tlearn: 0.1922287\ttotal: 132ms\tremaining: 706ms\n",
      "157:\tlearn: 0.1907911\ttotal: 132ms\tremaining: 704ms\n",
      "158:\tlearn: 0.1889052\ttotal: 133ms\tremaining: 702ms\n",
      "159:\tlearn: 0.1872737\ttotal: 133ms\tremaining: 699ms\n",
      "160:\tlearn: 0.1854025\ttotal: 134ms\tremaining: 697ms\n",
      "161:\tlearn: 0.1837785\ttotal: 134ms\tremaining: 694ms\n",
      "162:\tlearn: 0.1821555\ttotal: 135ms\tremaining: 692ms\n",
      "163:\tlearn: 0.1808094\ttotal: 135ms\tremaining: 689ms\n",
      "164:\tlearn: 0.1801372\ttotal: 136ms\tremaining: 686ms\n",
      "165:\tlearn: 0.1782594\ttotal: 136ms\tremaining: 683ms\n",
      "166:\tlearn: 0.1766428\ttotal: 136ms\tremaining: 681ms\n",
      "167:\tlearn: 0.1751739\ttotal: 137ms\tremaining: 678ms\n",
      "168:\tlearn: 0.1737793\ttotal: 137ms\tremaining: 676ms\n",
      "169:\tlearn: 0.1724176\ttotal: 138ms\tremaining: 673ms\n",
      "170:\tlearn: 0.1715441\ttotal: 138ms\tremaining: 671ms\n",
      "171:\tlearn: 0.1700688\ttotal: 139ms\tremaining: 669ms\n",
      "172:\tlearn: 0.1689035\ttotal: 139ms\tremaining: 666ms\n",
      "173:\tlearn: 0.1677223\ttotal: 140ms\tremaining: 664ms\n",
      "174:\tlearn: 0.1665204\ttotal: 140ms\tremaining: 661ms\n",
      "175:\tlearn: 0.1654550\ttotal: 141ms\tremaining: 659ms\n",
      "176:\tlearn: 0.1644314\ttotal: 141ms\tremaining: 656ms\n",
      "177:\tlearn: 0.1630920\ttotal: 142ms\tremaining: 654ms\n",
      "178:\tlearn: 0.1623477\ttotal: 142ms\tremaining: 651ms\n",
      "179:\tlearn: 0.1608777\ttotal: 142ms\tremaining: 649ms\n",
      "180:\tlearn: 0.1597091\ttotal: 143ms\tremaining: 647ms\n",
      "181:\tlearn: 0.1584769\ttotal: 143ms\tremaining: 645ms\n",
      "182:\tlearn: 0.1575007\ttotal: 144ms\tremaining: 642ms\n",
      "183:\tlearn: 0.1561870\ttotal: 144ms\tremaining: 640ms\n",
      "184:\tlearn: 0.1551205\ttotal: 145ms\tremaining: 638ms\n",
      "185:\tlearn: 0.1538449\ttotal: 145ms\tremaining: 636ms\n",
      "186:\tlearn: 0.1528743\ttotal: 146ms\tremaining: 633ms\n",
      "187:\tlearn: 0.1523682\ttotal: 146ms\tremaining: 631ms\n",
      "188:\tlearn: 0.1511420\ttotal: 147ms\tremaining: 629ms\n",
      "189:\tlearn: 0.1496482\ttotal: 147ms\tremaining: 626ms\n",
      "190:\tlearn: 0.1488780\ttotal: 147ms\tremaining: 624ms\n",
      "191:\tlearn: 0.1476911\ttotal: 148ms\tremaining: 623ms\n",
      "192:\tlearn: 0.1471452\ttotal: 148ms\tremaining: 620ms\n",
      "193:\tlearn: 0.1458217\ttotal: 149ms\tremaining: 618ms\n",
      "194:\tlearn: 0.1444268\ttotal: 149ms\tremaining: 616ms\n",
      "195:\tlearn: 0.1439003\ttotal: 150ms\tremaining: 614ms\n",
      "196:\tlearn: 0.1428531\ttotal: 150ms\tremaining: 612ms\n",
      "197:\tlearn: 0.1419409\ttotal: 151ms\tremaining: 610ms\n",
      "198:\tlearn: 0.1412175\ttotal: 151ms\tremaining: 608ms\n",
      "199:\tlearn: 0.1403209\ttotal: 152ms\tremaining: 609ms\n",
      "200:\tlearn: 0.1395144\ttotal: 153ms\tremaining: 607ms\n",
      "201:\tlearn: 0.1385255\ttotal: 153ms\tremaining: 605ms\n",
      "202:\tlearn: 0.1374669\ttotal: 154ms\tremaining: 603ms\n",
      "203:\tlearn: 0.1363247\ttotal: 154ms\tremaining: 601ms\n",
      "204:\tlearn: 0.1351999\ttotal: 154ms\tremaining: 599ms\n",
      "205:\tlearn: 0.1346158\ttotal: 155ms\tremaining: 597ms\n",
      "206:\tlearn: 0.1335072\ttotal: 155ms\tremaining: 595ms\n",
      "207:\tlearn: 0.1328201\ttotal: 156ms\tremaining: 593ms\n",
      "208:\tlearn: 0.1322400\ttotal: 156ms\tremaining: 591ms\n",
      "209:\tlearn: 0.1313202\ttotal: 157ms\tremaining: 589ms\n",
      "210:\tlearn: 0.1303453\ttotal: 157ms\tremaining: 587ms\n",
      "211:\tlearn: 0.1295762\ttotal: 158ms\tremaining: 586ms\n",
      "212:\tlearn: 0.1290120\ttotal: 158ms\tremaining: 584ms\n",
      "213:\tlearn: 0.1284744\ttotal: 159ms\tremaining: 582ms\n",
      "214:\tlearn: 0.1280121\ttotal: 159ms\tremaining: 580ms\n",
      "215:\tlearn: 0.1271132\ttotal: 159ms\tremaining: 579ms\n",
      "216:\tlearn: 0.1261383\ttotal: 160ms\tremaining: 577ms\n",
      "217:\tlearn: 0.1250343\ttotal: 160ms\tremaining: 575ms\n",
      "218:\tlearn: 0.1244526\ttotal: 161ms\tremaining: 574ms\n",
      "219:\tlearn: 0.1236072\ttotal: 161ms\tremaining: 572ms\n",
      "220:\tlearn: 0.1227433\ttotal: 162ms\tremaining: 570ms\n",
      "221:\tlearn: 0.1219109\ttotal: 162ms\tremaining: 569ms\n",
      "222:\tlearn: 0.1210760\ttotal: 163ms\tremaining: 567ms\n",
      "223:\tlearn: 0.1200565\ttotal: 163ms\tremaining: 566ms\n",
      "224:\tlearn: 0.1195520\ttotal: 164ms\tremaining: 564ms\n",
      "225:\tlearn: 0.1189205\ttotal: 164ms\tremaining: 563ms\n",
      "226:\tlearn: 0.1184866\ttotal: 165ms\tremaining: 561ms\n",
      "227:\tlearn: 0.1178261\ttotal: 165ms\tremaining: 560ms\n",
      "228:\tlearn: 0.1172638\ttotal: 166ms\tremaining: 558ms\n",
      "229:\tlearn: 0.1167521\ttotal: 166ms\tremaining: 557ms\n",
      "230:\tlearn: 0.1159508\ttotal: 167ms\tremaining: 556ms\n",
      "231:\tlearn: 0.1154054\ttotal: 167ms\tremaining: 554ms\n",
      "232:\tlearn: 0.1145646\ttotal: 168ms\tremaining: 553ms\n",
      "233:\tlearn: 0.1137444\ttotal: 168ms\tremaining: 551ms\n"
     ]
    },
    {
     "name": "stdout",
     "output_type": "stream",
     "text": [
      "234:\tlearn: 0.1132819\ttotal: 169ms\tremaining: 550ms\n",
      "235:\tlearn: 0.1128972\ttotal: 170ms\tremaining: 549ms\n",
      "236:\tlearn: 0.1123463\ttotal: 170ms\tremaining: 547ms\n",
      "237:\tlearn: 0.1115970\ttotal: 170ms\tremaining: 546ms\n",
      "238:\tlearn: 0.1109395\ttotal: 171ms\tremaining: 544ms\n",
      "239:\tlearn: 0.1104328\ttotal: 171ms\tremaining: 543ms\n",
      "240:\tlearn: 0.1100203\ttotal: 172ms\tremaining: 541ms\n",
      "241:\tlearn: 0.1095696\ttotal: 172ms\tremaining: 540ms\n",
      "242:\tlearn: 0.1087270\ttotal: 173ms\tremaining: 538ms\n",
      "243:\tlearn: 0.1083082\ttotal: 173ms\tremaining: 537ms\n",
      "244:\tlearn: 0.1078174\ttotal: 174ms\tremaining: 535ms\n",
      "245:\tlearn: 0.1074972\ttotal: 174ms\tremaining: 533ms\n",
      "246:\tlearn: 0.1068633\ttotal: 174ms\tremaining: 532ms\n",
      "247:\tlearn: 0.1062308\ttotal: 175ms\tremaining: 530ms\n",
      "248:\tlearn: 0.1055820\ttotal: 175ms\tremaining: 529ms\n",
      "249:\tlearn: 0.1048402\ttotal: 176ms\tremaining: 528ms\n",
      "250:\tlearn: 0.1044890\ttotal: 176ms\tremaining: 526ms\n",
      "251:\tlearn: 0.1041434\ttotal: 177ms\tremaining: 524ms\n",
      "252:\tlearn: 0.1037133\ttotal: 177ms\tremaining: 522ms\n",
      "253:\tlearn: 0.1031298\ttotal: 177ms\tremaining: 521ms\n",
      "254:\tlearn: 0.1023467\ttotal: 178ms\tremaining: 520ms\n",
      "255:\tlearn: 0.1017203\ttotal: 178ms\tremaining: 519ms\n",
      "256:\tlearn: 0.1013342\ttotal: 179ms\tremaining: 517ms\n",
      "257:\tlearn: 0.1009831\ttotal: 180ms\tremaining: 516ms\n",
      "258:\tlearn: 0.1003597\ttotal: 180ms\tremaining: 515ms\n",
      "259:\tlearn: 0.0995312\ttotal: 180ms\tremaining: 514ms\n",
      "260:\tlearn: 0.0987567\ttotal: 181ms\tremaining: 512ms\n",
      "261:\tlearn: 0.0981269\ttotal: 181ms\tremaining: 511ms\n",
      "262:\tlearn: 0.0974725\ttotal: 182ms\tremaining: 510ms\n",
      "263:\tlearn: 0.0968908\ttotal: 182ms\tremaining: 508ms\n",
      "264:\tlearn: 0.0963532\ttotal: 183ms\tremaining: 507ms\n",
      "265:\tlearn: 0.0959763\ttotal: 183ms\tremaining: 506ms\n",
      "266:\tlearn: 0.0956672\ttotal: 184ms\tremaining: 505ms\n",
      "267:\tlearn: 0.0951852\ttotal: 184ms\tremaining: 504ms\n",
      "268:\tlearn: 0.0947311\ttotal: 185ms\tremaining: 503ms\n",
      "269:\tlearn: 0.0944177\ttotal: 186ms\tremaining: 502ms\n",
      "270:\tlearn: 0.0940752\ttotal: 186ms\tremaining: 500ms\n",
      "271:\tlearn: 0.0937712\ttotal: 186ms\tremaining: 499ms\n",
      "272:\tlearn: 0.0934650\ttotal: 187ms\tremaining: 498ms\n",
      "273:\tlearn: 0.0928588\ttotal: 187ms\tremaining: 497ms\n",
      "274:\tlearn: 0.0922288\ttotal: 188ms\tremaining: 496ms\n",
      "275:\tlearn: 0.0919312\ttotal: 189ms\tremaining: 495ms\n",
      "276:\tlearn: 0.0912497\ttotal: 189ms\tremaining: 494ms\n",
      "277:\tlearn: 0.0909223\ttotal: 190ms\tremaining: 493ms\n",
      "278:\tlearn: 0.0901806\ttotal: 190ms\tremaining: 492ms\n",
      "279:\tlearn: 0.0898642\ttotal: 191ms\tremaining: 491ms\n",
      "280:\tlearn: 0.0895747\ttotal: 191ms\tremaining: 490ms\n",
      "281:\tlearn: 0.0891640\ttotal: 192ms\tremaining: 488ms\n",
      "282:\tlearn: 0.0885887\ttotal: 192ms\tremaining: 487ms\n",
      "283:\tlearn: 0.0881514\ttotal: 193ms\tremaining: 486ms\n",
      "284:\tlearn: 0.0876225\ttotal: 193ms\tremaining: 485ms\n",
      "285:\tlearn: 0.0873543\ttotal: 194ms\tremaining: 484ms\n",
      "286:\tlearn: 0.0870187\ttotal: 194ms\tremaining: 482ms\n",
      "287:\tlearn: 0.0864685\ttotal: 195ms\tremaining: 481ms\n",
      "288:\tlearn: 0.0859024\ttotal: 195ms\tremaining: 480ms\n",
      "289:\tlearn: 0.0856423\ttotal: 196ms\tremaining: 479ms\n",
      "290:\tlearn: 0.0849986\ttotal: 196ms\tremaining: 478ms\n",
      "291:\tlearn: 0.0846784\ttotal: 197ms\tremaining: 477ms\n",
      "292:\tlearn: 0.0843421\ttotal: 197ms\tremaining: 476ms\n",
      "293:\tlearn: 0.0835519\ttotal: 198ms\tremaining: 475ms\n",
      "294:\tlearn: 0.0832446\ttotal: 198ms\tremaining: 474ms\n",
      "295:\tlearn: 0.0827421\ttotal: 199ms\tremaining: 473ms\n",
      "296:\tlearn: 0.0824593\ttotal: 199ms\tremaining: 472ms\n",
      "297:\tlearn: 0.0821489\ttotal: 200ms\tremaining: 471ms\n",
      "298:\tlearn: 0.0818972\ttotal: 200ms\tremaining: 470ms\n",
      "299:\tlearn: 0.0812659\ttotal: 201ms\tremaining: 469ms\n",
      "300:\tlearn: 0.0807768\ttotal: 201ms\tremaining: 467ms\n",
      "301:\tlearn: 0.0804820\ttotal: 202ms\tremaining: 466ms\n",
      "302:\tlearn: 0.0799940\ttotal: 202ms\tremaining: 465ms\n",
      "303:\tlearn: 0.0794225\ttotal: 203ms\tremaining: 464ms\n",
      "304:\tlearn: 0.0788917\ttotal: 203ms\tremaining: 463ms\n",
      "305:\tlearn: 0.0782574\ttotal: 204ms\tremaining: 462ms\n",
      "306:\tlearn: 0.0776677\ttotal: 204ms\tremaining: 461ms\n",
      "307:\tlearn: 0.0772101\ttotal: 205ms\tremaining: 460ms\n",
      "308:\tlearn: 0.0769370\ttotal: 205ms\tremaining: 459ms\n",
      "309:\tlearn: 0.0762304\ttotal: 206ms\tremaining: 458ms\n",
      "310:\tlearn: 0.0756925\ttotal: 206ms\tremaining: 457ms\n",
      "311:\tlearn: 0.0754350\ttotal: 207ms\tremaining: 456ms\n",
      "312:\tlearn: 0.0751689\ttotal: 207ms\tremaining: 455ms\n",
      "313:\tlearn: 0.0749193\ttotal: 208ms\tremaining: 454ms\n",
      "314:\tlearn: 0.0746326\ttotal: 208ms\tremaining: 453ms\n",
      "315:\tlearn: 0.0743475\ttotal: 209ms\tremaining: 452ms\n",
      "316:\tlearn: 0.0740876\ttotal: 210ms\tremaining: 452ms\n",
      "317:\tlearn: 0.0736710\ttotal: 210ms\tremaining: 450ms\n",
      "318:\tlearn: 0.0730290\ttotal: 211ms\tremaining: 449ms\n",
      "319:\tlearn: 0.0726942\ttotal: 211ms\tremaining: 448ms\n",
      "320:\tlearn: 0.0724640\ttotal: 212ms\tremaining: 448ms\n",
      "321:\tlearn: 0.0722165\ttotal: 212ms\tremaining: 447ms\n",
      "322:\tlearn: 0.0719557\ttotal: 213ms\tremaining: 446ms\n",
      "323:\tlearn: 0.0713464\ttotal: 213ms\tremaining: 445ms\n",
      "324:\tlearn: 0.0711059\ttotal: 214ms\tremaining: 444ms\n",
      "325:\tlearn: 0.0707971\ttotal: 214ms\tremaining: 443ms\n",
      "326:\tlearn: 0.0706004\ttotal: 215ms\tremaining: 442ms\n",
      "327:\tlearn: 0.0703629\ttotal: 215ms\tremaining: 441ms\n",
      "328:\tlearn: 0.0701475\ttotal: 216ms\tremaining: 440ms\n",
      "329:\tlearn: 0.0697966\ttotal: 216ms\tremaining: 439ms\n",
      "330:\tlearn: 0.0695819\ttotal: 217ms\tremaining: 438ms\n",
      "331:\tlearn: 0.0693607\ttotal: 217ms\tremaining: 437ms\n",
      "332:\tlearn: 0.0688716\ttotal: 218ms\tremaining: 436ms\n",
      "333:\tlearn: 0.0686502\ttotal: 218ms\tremaining: 436ms\n",
      "334:\tlearn: 0.0684428\ttotal: 219ms\tremaining: 434ms\n",
      "335:\tlearn: 0.0682649\ttotal: 219ms\tremaining: 433ms\n",
      "336:\tlearn: 0.0680487\ttotal: 220ms\tremaining: 433ms\n",
      "337:\tlearn: 0.0675688\ttotal: 220ms\tremaining: 432ms\n",
      "338:\tlearn: 0.0670827\ttotal: 221ms\tremaining: 431ms\n",
      "339:\tlearn: 0.0668510\ttotal: 222ms\tremaining: 430ms\n",
      "340:\tlearn: 0.0664254\ttotal: 222ms\tremaining: 429ms\n",
      "341:\tlearn: 0.0662176\ttotal: 223ms\tremaining: 428ms\n",
      "342:\tlearn: 0.0657997\ttotal: 223ms\tremaining: 427ms\n",
      "343:\tlearn: 0.0655296\ttotal: 223ms\tremaining: 426ms\n",
      "344:\tlearn: 0.0653387\ttotal: 224ms\tremaining: 425ms\n",
      "345:\tlearn: 0.0651547\ttotal: 224ms\tremaining: 424ms\n",
      "346:\tlearn: 0.0648492\ttotal: 225ms\tremaining: 423ms\n",
      "347:\tlearn: 0.0646500\ttotal: 225ms\tremaining: 422ms\n",
      "348:\tlearn: 0.0645011\ttotal: 226ms\tremaining: 422ms\n",
      "349:\tlearn: 0.0643058\ttotal: 227ms\tremaining: 421ms\n",
      "350:\tlearn: 0.0641135\ttotal: 227ms\tremaining: 420ms\n",
      "351:\tlearn: 0.0636095\ttotal: 228ms\tremaining: 419ms\n",
      "352:\tlearn: 0.0632149\ttotal: 228ms\tremaining: 418ms\n",
      "353:\tlearn: 0.0627674\ttotal: 229ms\tremaining: 417ms\n",
      "354:\tlearn: 0.0625821\ttotal: 229ms\tremaining: 416ms\n",
      "355:\tlearn: 0.0621815\ttotal: 230ms\tremaining: 415ms\n",
      "356:\tlearn: 0.0617766\ttotal: 230ms\tremaining: 414ms\n",
      "357:\tlearn: 0.0616005\ttotal: 231ms\tremaining: 413ms\n",
      "358:\tlearn: 0.0614263\ttotal: 231ms\tremaining: 412ms\n",
      "359:\tlearn: 0.0612766\ttotal: 232ms\tremaining: 412ms\n",
      "360:\tlearn: 0.0610894\ttotal: 232ms\tremaining: 411ms\n",
      "361:\tlearn: 0.0609205\ttotal: 233ms\tremaining: 410ms\n",
      "362:\tlearn: 0.0607527\ttotal: 233ms\tremaining: 409ms\n",
      "363:\tlearn: 0.0603088\ttotal: 234ms\tremaining: 408ms\n",
      "364:\tlearn: 0.0601441\ttotal: 234ms\tremaining: 407ms\n",
      "365:\tlearn: 0.0596804\ttotal: 235ms\tremaining: 406ms\n",
      "366:\tlearn: 0.0595392\ttotal: 235ms\tremaining: 406ms\n",
      "367:\tlearn: 0.0591829\ttotal: 236ms\tremaining: 405ms\n",
      "368:\tlearn: 0.0590210\ttotal: 236ms\tremaining: 404ms\n",
      "369:\tlearn: 0.0587128\ttotal: 237ms\tremaining: 403ms\n",
      "370:\tlearn: 0.0585186\ttotal: 237ms\tremaining: 402ms\n",
      "371:\tlearn: 0.0581523\ttotal: 238ms\tremaining: 402ms\n",
      "372:\tlearn: 0.0577115\ttotal: 238ms\tremaining: 401ms\n",
      "373:\tlearn: 0.0575583\ttotal: 239ms\tremaining: 400ms\n",
      "374:\tlearn: 0.0573885\ttotal: 239ms\tremaining: 399ms\n",
      "375:\tlearn: 0.0570094\ttotal: 240ms\tremaining: 398ms\n",
      "376:\tlearn: 0.0566037\ttotal: 241ms\tremaining: 398ms\n",
      "377:\tlearn: 0.0564574\ttotal: 241ms\tremaining: 397ms\n",
      "378:\tlearn: 0.0560864\ttotal: 242ms\tremaining: 396ms\n",
      "379:\tlearn: 0.0559237\ttotal: 242ms\tremaining: 395ms\n",
      "380:\tlearn: 0.0557850\ttotal: 243ms\tremaining: 394ms\n",
      "381:\tlearn: 0.0556427\ttotal: 243ms\tremaining: 394ms\n",
      "382:\tlearn: 0.0552526\ttotal: 244ms\tremaining: 393ms\n",
      "383:\tlearn: 0.0551129\ttotal: 244ms\tremaining: 392ms\n",
      "384:\tlearn: 0.0549750\ttotal: 245ms\tremaining: 391ms\n",
      "385:\tlearn: 0.0545933\ttotal: 245ms\tremaining: 390ms\n",
      "386:\tlearn: 0.0542569\ttotal: 246ms\tremaining: 389ms\n",
      "387:\tlearn: 0.0540846\ttotal: 246ms\tremaining: 388ms\n",
      "388:\tlearn: 0.0536752\ttotal: 247ms\tremaining: 387ms\n",
      "389:\tlearn: 0.0535435\ttotal: 247ms\tremaining: 387ms\n",
      "390:\tlearn: 0.0532096\ttotal: 248ms\tremaining: 386ms\n",
      "391:\tlearn: 0.0530468\ttotal: 248ms\tremaining: 385ms\n",
      "392:\tlearn: 0.0527332\ttotal: 249ms\tremaining: 384ms\n",
      "393:\tlearn: 0.0526070\ttotal: 249ms\tremaining: 383ms\n",
      "394:\tlearn: 0.0524825\ttotal: 250ms\tremaining: 383ms\n",
      "395:\tlearn: 0.0521244\ttotal: 250ms\tremaining: 382ms\n",
      "396:\tlearn: 0.0520021\ttotal: 251ms\tremaining: 381ms\n",
      "397:\tlearn: 0.0518814\ttotal: 251ms\tremaining: 380ms\n",
      "398:\tlearn: 0.0517282\ttotal: 252ms\tremaining: 379ms\n",
      "399:\tlearn: 0.0515730\ttotal: 252ms\tremaining: 378ms\n",
      "400:\tlearn: 0.0512287\ttotal: 253ms\tremaining: 378ms\n",
      "401:\tlearn: 0.0511123\ttotal: 254ms\tremaining: 377ms\n",
      "402:\tlearn: 0.0507757\ttotal: 254ms\tremaining: 376ms\n",
      "403:\tlearn: 0.0506541\ttotal: 254ms\tremaining: 375ms\n",
      "404:\tlearn: 0.0503293\ttotal: 255ms\tremaining: 375ms\n",
      "405:\tlearn: 0.0502170\ttotal: 256ms\tremaining: 374ms\n",
      "406:\tlearn: 0.0500709\ttotal: 256ms\tremaining: 373ms\n",
      "407:\tlearn: 0.0497882\ttotal: 257ms\tremaining: 372ms\n",
      "408:\tlearn: 0.0494219\ttotal: 257ms\tremaining: 372ms\n",
      "409:\tlearn: 0.0491094\ttotal: 258ms\tremaining: 371ms\n",
      "410:\tlearn: 0.0489780\ttotal: 258ms\tremaining: 370ms\n",
      "411:\tlearn: 0.0488401\ttotal: 259ms\tremaining: 369ms\n",
      "412:\tlearn: 0.0487248\ttotal: 259ms\tremaining: 368ms\n",
      "413:\tlearn: 0.0485901\ttotal: 260ms\tremaining: 368ms\n",
      "414:\tlearn: 0.0484870\ttotal: 260ms\tremaining: 367ms\n",
      "415:\tlearn: 0.0481837\ttotal: 261ms\tremaining: 366ms\n",
      "416:\tlearn: 0.0480567\ttotal: 261ms\tremaining: 365ms\n",
      "417:\tlearn: 0.0477985\ttotal: 261ms\tremaining: 364ms\n",
      "418:\tlearn: 0.0476670\ttotal: 262ms\tremaining: 363ms\n",
      "419:\tlearn: 0.0474020\ttotal: 262ms\tremaining: 362ms\n",
      "420:\tlearn: 0.0472513\ttotal: 262ms\tremaining: 361ms\n",
      "421:\tlearn: 0.0470132\ttotal: 263ms\tremaining: 360ms\n",
      "422:\tlearn: 0.0468783\ttotal: 264ms\tremaining: 360ms\n",
      "423:\tlearn: 0.0467560\ttotal: 264ms\tremaining: 359ms\n",
      "424:\tlearn: 0.0466351\ttotal: 265ms\tremaining: 358ms\n",
      "425:\tlearn: 0.0465156\ttotal: 265ms\tremaining: 357ms\n"
     ]
    },
    {
     "name": "stdout",
     "output_type": "stream",
     "text": [
      "426:\tlearn: 0.0462829\ttotal: 266ms\tremaining: 357ms\n",
      "427:\tlearn: 0.0459408\ttotal: 266ms\tremaining: 356ms\n",
      "428:\tlearn: 0.0457144\ttotal: 267ms\tremaining: 355ms\n",
      "429:\tlearn: 0.0456033\ttotal: 267ms\tremaining: 354ms\n",
      "430:\tlearn: 0.0455043\ttotal: 268ms\tremaining: 353ms\n",
      "431:\tlearn: 0.0454068\ttotal: 268ms\tremaining: 352ms\n",
      "432:\tlearn: 0.0452638\ttotal: 268ms\tremaining: 352ms\n",
      "433:\tlearn: 0.0451578\ttotal: 269ms\tremaining: 351ms\n",
      "434:\tlearn: 0.0448260\ttotal: 269ms\tremaining: 350ms\n",
      "435:\tlearn: 0.0447531\ttotal: 270ms\tremaining: 349ms\n",
      "436:\tlearn: 0.0444564\ttotal: 270ms\tremaining: 348ms\n",
      "437:\tlearn: 0.0443245\ttotal: 270ms\tremaining: 347ms\n",
      "438:\tlearn: 0.0441947\ttotal: 271ms\tremaining: 346ms\n",
      "439:\tlearn: 0.0441241\ttotal: 271ms\tremaining: 345ms\n",
      "440:\tlearn: 0.0440451\ttotal: 272ms\tremaining: 344ms\n",
      "441:\tlearn: 0.0438305\ttotal: 272ms\tremaining: 344ms\n",
      "442:\tlearn: 0.0437535\ttotal: 273ms\tremaining: 343ms\n",
      "443:\tlearn: 0.0434394\ttotal: 273ms\tremaining: 342ms\n",
      "444:\tlearn: 0.0432543\ttotal: 274ms\tremaining: 341ms\n",
      "445:\tlearn: 0.0431726\ttotal: 274ms\tremaining: 341ms\n",
      "446:\tlearn: 0.0428672\ttotal: 275ms\tremaining: 340ms\n",
      "447:\tlearn: 0.0427873\ttotal: 275ms\tremaining: 339ms\n",
      "448:\tlearn: 0.0426080\ttotal: 276ms\tremaining: 338ms\n",
      "449:\tlearn: 0.0423971\ttotal: 276ms\tremaining: 337ms\n",
      "450:\tlearn: 0.0423198\ttotal: 276ms\tremaining: 336ms\n",
      "451:\tlearn: 0.0420740\ttotal: 277ms\tremaining: 336ms\n",
      "452:\tlearn: 0.0418694\ttotal: 277ms\tremaining: 335ms\n",
      "453:\tlearn: 0.0416689\ttotal: 278ms\tremaining: 334ms\n",
      "454:\tlearn: 0.0414723\ttotal: 278ms\tremaining: 333ms\n",
      "455:\tlearn: 0.0413985\ttotal: 279ms\tremaining: 332ms\n",
      "456:\tlearn: 0.0411892\ttotal: 279ms\tremaining: 332ms\n",
      "457:\tlearn: 0.0411173\ttotal: 280ms\tremaining: 331ms\n",
      "458:\tlearn: 0.0408822\ttotal: 280ms\tremaining: 330ms\n",
      "459:\tlearn: 0.0406951\ttotal: 281ms\tremaining: 329ms\n",
      "460:\tlearn: 0.0405117\ttotal: 281ms\tremaining: 329ms\n",
      "461:\tlearn: 0.0404420\ttotal: 282ms\tremaining: 328ms\n",
      "462:\tlearn: 0.0402626\ttotal: 282ms\tremaining: 327ms\n",
      "463:\tlearn: 0.0400585\ttotal: 283ms\tremaining: 327ms\n",
      "464:\tlearn: 0.0398838\ttotal: 283ms\tremaining: 326ms\n",
      "465:\tlearn: 0.0397126\ttotal: 284ms\tremaining: 325ms\n",
      "466:\tlearn: 0.0396493\ttotal: 284ms\tremaining: 324ms\n",
      "467:\tlearn: 0.0394821\ttotal: 285ms\tremaining: 323ms\n",
      "468:\tlearn: 0.0394204\ttotal: 285ms\tremaining: 323ms\n",
      "469:\tlearn: 0.0391757\ttotal: 285ms\tremaining: 322ms\n",
      "470:\tlearn: 0.0391150\ttotal: 286ms\tremaining: 321ms\n",
      "471:\tlearn: 0.0390553\ttotal: 286ms\tremaining: 320ms\n",
      "472:\tlearn: 0.0387704\ttotal: 287ms\tremaining: 320ms\n",
      "473:\tlearn: 0.0385326\ttotal: 288ms\tremaining: 319ms\n",
      "474:\tlearn: 0.0383731\ttotal: 288ms\tremaining: 318ms\n",
      "475:\tlearn: 0.0383154\ttotal: 288ms\tremaining: 317ms\n",
      "476:\tlearn: 0.0381015\ttotal: 289ms\tremaining: 317ms\n",
      "477:\tlearn: 0.0380449\ttotal: 289ms\tremaining: 316ms\n",
      "478:\tlearn: 0.0378171\ttotal: 290ms\tremaining: 315ms\n",
      "479:\tlearn: 0.0377615\ttotal: 290ms\tremaining: 314ms\n",
      "480:\tlearn: 0.0377067\ttotal: 291ms\tremaining: 313ms\n",
      "481:\tlearn: 0.0374841\ttotal: 291ms\tremaining: 313ms\n",
      "482:\tlearn: 0.0374303\ttotal: 292ms\tremaining: 312ms\n",
      "483:\tlearn: 0.0373772\ttotal: 292ms\tremaining: 311ms\n",
      "484:\tlearn: 0.0371799\ttotal: 292ms\tremaining: 310ms\n",
      "485:\tlearn: 0.0370884\ttotal: 293ms\tremaining: 310ms\n",
      "486:\tlearn: 0.0370367\ttotal: 293ms\tremaining: 309ms\n",
      "487:\tlearn: 0.0369469\ttotal: 294ms\tremaining: 308ms\n",
      "488:\tlearn: 0.0367489\ttotal: 294ms\tremaining: 308ms\n",
      "489:\tlearn: 0.0366984\ttotal: 295ms\tremaining: 307ms\n",
      "490:\tlearn: 0.0365044\ttotal: 296ms\tremaining: 306ms\n",
      "491:\tlearn: 0.0364550\ttotal: 296ms\tremaining: 306ms\n",
      "492:\tlearn: 0.0362479\ttotal: 296ms\tremaining: 305ms\n",
      "493:\tlearn: 0.0361993\ttotal: 297ms\tremaining: 304ms\n",
      "494:\tlearn: 0.0360094\ttotal: 297ms\tremaining: 303ms\n",
      "495:\tlearn: 0.0358323\ttotal: 298ms\tremaining: 303ms\n",
      "496:\tlearn: 0.0356499\ttotal: 298ms\tremaining: 302ms\n",
      "497:\tlearn: 0.0354799\ttotal: 299ms\tremaining: 301ms\n",
      "498:\tlearn: 0.0352416\ttotal: 299ms\tremaining: 300ms\n",
      "499:\tlearn: 0.0351987\ttotal: 300ms\tremaining: 300ms\n",
      "500:\tlearn: 0.0351177\ttotal: 300ms\tremaining: 299ms\n",
      "501:\tlearn: 0.0350380\ttotal: 300ms\tremaining: 298ms\n",
      "502:\tlearn: 0.0348064\ttotal: 301ms\tremaining: 297ms\n",
      "503:\tlearn: 0.0347646\ttotal: 301ms\tremaining: 297ms\n",
      "504:\tlearn: 0.0346868\ttotal: 302ms\tremaining: 296ms\n",
      "505:\tlearn: 0.0346457\ttotal: 302ms\tremaining: 295ms\n",
      "506:\tlearn: 0.0344203\ttotal: 303ms\tremaining: 294ms\n",
      "507:\tlearn: 0.0342478\ttotal: 303ms\tremaining: 294ms\n",
      "508:\tlearn: 0.0340786\ttotal: 303ms\tremaining: 293ms\n",
      "509:\tlearn: 0.0340352\ttotal: 304ms\tremaining: 292ms\n",
      "510:\tlearn: 0.0338770\ttotal: 304ms\tremaining: 291ms\n",
      "511:\tlearn: 0.0337220\ttotal: 305ms\tremaining: 290ms\n",
      "512:\tlearn: 0.0336490\ttotal: 305ms\tremaining: 290ms\n",
      "513:\tlearn: 0.0336098\ttotal: 306ms\tremaining: 290ms\n",
      "514:\tlearn: 0.0335381\ttotal: 307ms\tremaining: 289ms\n",
      "515:\tlearn: 0.0333880\ttotal: 307ms\tremaining: 288ms\n",
      "516:\tlearn: 0.0333181\ttotal: 308ms\tremaining: 287ms\n",
      "517:\tlearn: 0.0331643\ttotal: 308ms\tremaining: 287ms\n",
      "518:\tlearn: 0.0329518\ttotal: 308ms\tremaining: 286ms\n",
      "519:\tlearn: 0.0329027\ttotal: 309ms\tremaining: 285ms\n",
      "520:\tlearn: 0.0328354\ttotal: 309ms\tremaining: 284ms\n",
      "521:\tlearn: 0.0326775\ttotal: 310ms\tremaining: 284ms\n",
      "522:\tlearn: 0.0326299\ttotal: 310ms\tremaining: 283ms\n",
      "523:\tlearn: 0.0324627\ttotal: 310ms\tremaining: 282ms\n",
      "524:\tlearn: 0.0323087\ttotal: 311ms\tremaining: 281ms\n",
      "525:\tlearn: 0.0321711\ttotal: 311ms\tremaining: 280ms\n",
      "526:\tlearn: 0.0321070\ttotal: 312ms\tremaining: 280ms\n",
      "527:\tlearn: 0.0320614\ttotal: 312ms\tremaining: 279ms\n",
      "528:\tlearn: 0.0319278\ttotal: 313ms\tremaining: 278ms\n",
      "529:\tlearn: 0.0317672\ttotal: 313ms\tremaining: 277ms\n",
      "530:\tlearn: 0.0317082\ttotal: 313ms\tremaining: 277ms\n",
      "531:\tlearn: 0.0316468\ttotal: 314ms\tremaining: 276ms\n",
      "532:\tlearn: 0.0314903\ttotal: 314ms\tremaining: 275ms\n",
      "533:\tlearn: 0.0313438\ttotal: 315ms\tremaining: 275ms\n",
      "534:\tlearn: 0.0312002\ttotal: 315ms\tremaining: 274ms\n",
      "535:\tlearn: 0.0310488\ttotal: 315ms\tremaining: 273ms\n",
      "536:\tlearn: 0.0309086\ttotal: 316ms\tremaining: 272ms\n",
      "537:\tlearn: 0.0307609\ttotal: 316ms\tremaining: 272ms\n",
      "538:\tlearn: 0.0306046\ttotal: 317ms\tremaining: 271ms\n",
      "539:\tlearn: 0.0304101\ttotal: 317ms\tremaining: 270ms\n",
      "540:\tlearn: 0.0302557\ttotal: 318ms\tremaining: 270ms\n",
      "541:\tlearn: 0.0300831\ttotal: 318ms\tremaining: 269ms\n",
      "542:\tlearn: 0.0299323\ttotal: 318ms\tremaining: 268ms\n",
      "543:\tlearn: 0.0297842\ttotal: 319ms\tremaining: 267ms\n",
      "544:\tlearn: 0.0296486\ttotal: 319ms\tremaining: 267ms\n",
      "545:\tlearn: 0.0295161\ttotal: 320ms\tremaining: 266ms\n",
      "546:\tlearn: 0.0293795\ttotal: 320ms\tremaining: 265ms\n",
      "547:\tlearn: 0.0292499\ttotal: 320ms\tremaining: 264ms\n",
      "548:\tlearn: 0.0292143\ttotal: 321ms\tremaining: 264ms\n",
      "549:\tlearn: 0.0290804\ttotal: 321ms\tremaining: 263ms\n",
      "550:\tlearn: 0.0289538\ttotal: 322ms\tremaining: 262ms\n",
      "551:\tlearn: 0.0288634\ttotal: 322ms\tremaining: 262ms\n",
      "552:\tlearn: 0.0288286\ttotal: 323ms\tremaining: 261ms\n",
      "553:\tlearn: 0.0287944\ttotal: 323ms\tremaining: 260ms\n",
      "554:\tlearn: 0.0286811\ttotal: 324ms\tremaining: 259ms\n",
      "555:\tlearn: 0.0285704\ttotal: 324ms\tremaining: 259ms\n",
      "556:\tlearn: 0.0285368\ttotal: 324ms\tremaining: 258ms\n",
      "557:\tlearn: 0.0284287\ttotal: 325ms\tremaining: 257ms\n",
      "558:\tlearn: 0.0283957\ttotal: 325ms\tremaining: 257ms\n",
      "559:\tlearn: 0.0282724\ttotal: 326ms\tremaining: 256ms\n",
      "560:\tlearn: 0.0282401\ttotal: 326ms\tremaining: 255ms\n",
      "561:\tlearn: 0.0280617\ttotal: 327ms\tremaining: 255ms\n",
      "562:\tlearn: 0.0279437\ttotal: 327ms\tremaining: 254ms\n",
      "563:\tlearn: 0.0279121\ttotal: 328ms\tremaining: 253ms\n",
      "564:\tlearn: 0.0277970\ttotal: 328ms\tremaining: 253ms\n",
      "565:\tlearn: 0.0277660\ttotal: 329ms\tremaining: 252ms\n",
      "566:\tlearn: 0.0277354\ttotal: 329ms\tremaining: 251ms\n",
      "567:\tlearn: 0.0276232\ttotal: 330ms\tremaining: 251ms\n",
      "568:\tlearn: 0.0275932\ttotal: 330ms\tremaining: 250ms\n",
      "569:\tlearn: 0.0275688\ttotal: 331ms\tremaining: 249ms\n",
      "570:\tlearn: 0.0275446\ttotal: 331ms\tremaining: 249ms\n",
      "571:\tlearn: 0.0273906\ttotal: 331ms\tremaining: 248ms\n",
      "572:\tlearn: 0.0273053\ttotal: 332ms\tremaining: 248ms\n",
      "573:\tlearn: 0.0271974\ttotal: 333ms\tremaining: 247ms\n",
      "574:\tlearn: 0.0270750\ttotal: 333ms\tremaining: 246ms\n",
      "575:\tlearn: 0.0269095\ttotal: 333ms\tremaining: 245ms\n",
      "576:\tlearn: 0.0268809\ttotal: 334ms\tremaining: 245ms\n",
      "577:\tlearn: 0.0267535\ttotal: 334ms\tremaining: 244ms\n",
      "578:\tlearn: 0.0266356\ttotal: 335ms\tremaining: 243ms\n",
      "579:\tlearn: 0.0264916\ttotal: 335ms\tremaining: 243ms\n",
      "580:\tlearn: 0.0263796\ttotal: 336ms\tremaining: 242ms\n",
      "581:\tlearn: 0.0263519\ttotal: 336ms\tremaining: 241ms\n",
      "582:\tlearn: 0.0262428\ttotal: 337ms\tremaining: 241ms\n",
      "583:\tlearn: 0.0262205\ttotal: 337ms\tremaining: 240ms\n",
      "584:\tlearn: 0.0261413\ttotal: 337ms\tremaining: 239ms\n",
      "585:\tlearn: 0.0261145\ttotal: 338ms\tremaining: 239ms\n",
      "586:\tlearn: 0.0259782\ttotal: 338ms\tremaining: 238ms\n",
      "587:\tlearn: 0.0258648\ttotal: 339ms\tremaining: 238ms\n",
      "588:\tlearn: 0.0258387\ttotal: 339ms\tremaining: 237ms\n",
      "589:\tlearn: 0.0257197\ttotal: 340ms\tremaining: 236ms\n",
      "590:\tlearn: 0.0256156\ttotal: 341ms\tremaining: 236ms\n",
      "591:\tlearn: 0.0254795\ttotal: 341ms\tremaining: 235ms\n",
      "592:\tlearn: 0.0254111\ttotal: 342ms\tremaining: 234ms\n",
      "593:\tlearn: 0.0253096\ttotal: 342ms\tremaining: 234ms\n",
      "594:\tlearn: 0.0251770\ttotal: 343ms\tremaining: 233ms\n",
      "595:\tlearn: 0.0251107\ttotal: 343ms\tremaining: 233ms\n",
      "596:\tlearn: 0.0250904\ttotal: 344ms\tremaining: 232ms\n",
      "597:\tlearn: 0.0249858\ttotal: 344ms\tremaining: 231ms\n",
      "598:\tlearn: 0.0248734\ttotal: 345ms\tremaining: 231ms\n",
      "599:\tlearn: 0.0247679\ttotal: 345ms\tremaining: 230ms\n",
      "600:\tlearn: 0.0246643\ttotal: 346ms\tremaining: 230ms\n",
      "601:\tlearn: 0.0245503\ttotal: 346ms\tremaining: 229ms\n",
      "602:\tlearn: 0.0244738\ttotal: 347ms\tremaining: 228ms\n",
      "603:\tlearn: 0.0243863\ttotal: 347ms\tremaining: 228ms\n",
      "604:\tlearn: 0.0242753\ttotal: 348ms\tremaining: 227ms\n",
      "605:\tlearn: 0.0242013\ttotal: 348ms\tremaining: 226ms\n"
     ]
    },
    {
     "name": "stdout",
     "output_type": "stream",
     "text": [
      "606:\tlearn: 0.0240750\ttotal: 349ms\tremaining: 226ms\n",
      "607:\tlearn: 0.0239906\ttotal: 349ms\tremaining: 225ms\n",
      "608:\tlearn: 0.0238042\ttotal: 350ms\tremaining: 224ms\n",
      "609:\tlearn: 0.0237435\ttotal: 350ms\tremaining: 224ms\n",
      "610:\tlearn: 0.0236843\ttotal: 351ms\tremaining: 223ms\n",
      "611:\tlearn: 0.0236266\ttotal: 351ms\tremaining: 223ms\n",
      "612:\tlearn: 0.0234909\ttotal: 352ms\tremaining: 222ms\n",
      "613:\tlearn: 0.0233707\ttotal: 352ms\tremaining: 221ms\n",
      "614:\tlearn: 0.0231923\ttotal: 352ms\tremaining: 221ms\n",
      "615:\tlearn: 0.0231367\ttotal: 353ms\tremaining: 220ms\n",
      "616:\tlearn: 0.0230770\ttotal: 353ms\tremaining: 219ms\n",
      "617:\tlearn: 0.0229859\ttotal: 354ms\tremaining: 219ms\n",
      "618:\tlearn: 0.0228706\ttotal: 354ms\tremaining: 218ms\n",
      "619:\tlearn: 0.0227818\ttotal: 355ms\tremaining: 217ms\n",
      "620:\tlearn: 0.0226111\ttotal: 355ms\tremaining: 217ms\n",
      "621:\tlearn: 0.0225583\ttotal: 356ms\tremaining: 216ms\n",
      "622:\tlearn: 0.0224475\ttotal: 356ms\tremaining: 215ms\n",
      "623:\tlearn: 0.0223622\ttotal: 357ms\tremaining: 215ms\n",
      "624:\tlearn: 0.0221976\ttotal: 357ms\tremaining: 214ms\n",
      "625:\tlearn: 0.0221417\ttotal: 358ms\tremaining: 214ms\n",
      "626:\tlearn: 0.0220397\ttotal: 358ms\tremaining: 213ms\n",
      "627:\tlearn: 0.0219582\ttotal: 359ms\tremaining: 212ms\n",
      "628:\tlearn: 0.0218048\ttotal: 359ms\tremaining: 212ms\n",
      "629:\tlearn: 0.0217550\ttotal: 360ms\tremaining: 211ms\n",
      "630:\tlearn: 0.0217009\ttotal: 360ms\tremaining: 211ms\n",
      "631:\tlearn: 0.0216130\ttotal: 361ms\tremaining: 210ms\n",
      "632:\tlearn: 0.0215269\ttotal: 361ms\tremaining: 209ms\n",
      "633:\tlearn: 0.0213794\ttotal: 362ms\tremaining: 209ms\n",
      "634:\tlearn: 0.0213312\ttotal: 362ms\tremaining: 208ms\n",
      "635:\tlearn: 0.0212412\ttotal: 363ms\tremaining: 208ms\n",
      "636:\tlearn: 0.0211584\ttotal: 363ms\tremaining: 207ms\n",
      "637:\tlearn: 0.0211070\ttotal: 364ms\tremaining: 206ms\n",
      "638:\tlearn: 0.0209990\ttotal: 364ms\tremaining: 206ms\n",
      "639:\tlearn: 0.0209112\ttotal: 365ms\tremaining: 205ms\n",
      "640:\tlearn: 0.0208249\ttotal: 365ms\tremaining: 204ms\n",
      "641:\tlearn: 0.0207146\ttotal: 366ms\tremaining: 204ms\n",
      "642:\tlearn: 0.0206302\ttotal: 366ms\tremaining: 203ms\n",
      "643:\tlearn: 0.0205472\ttotal: 366ms\tremaining: 202ms\n",
      "644:\tlearn: 0.0204657\ttotal: 367ms\tremaining: 202ms\n",
      "645:\tlearn: 0.0203596\ttotal: 367ms\tremaining: 201ms\n",
      "646:\tlearn: 0.0202589\ttotal: 368ms\tremaining: 201ms\n",
      "647:\tlearn: 0.0201313\ttotal: 368ms\tremaining: 200ms\n",
      "648:\tlearn: 0.0200834\ttotal: 368ms\tremaining: 199ms\n",
      "649:\tlearn: 0.0199496\ttotal: 369ms\tremaining: 199ms\n",
      "650:\tlearn: 0.0198255\ttotal: 369ms\tremaining: 198ms\n",
      "651:\tlearn: 0.0197789\ttotal: 370ms\tremaining: 197ms\n",
      "652:\tlearn: 0.0196492\ttotal: 370ms\tremaining: 197ms\n",
      "653:\tlearn: 0.0195657\ttotal: 371ms\tremaining: 196ms\n",
      "654:\tlearn: 0.0194651\ttotal: 371ms\tremaining: 196ms\n",
      "655:\tlearn: 0.0193663\ttotal: 372ms\tremaining: 195ms\n",
      "656:\tlearn: 0.0193158\ttotal: 372ms\tremaining: 194ms\n",
      "657:\tlearn: 0.0192182\ttotal: 373ms\tremaining: 194ms\n",
      "658:\tlearn: 0.0191025\ttotal: 373ms\tremaining: 193ms\n",
      "659:\tlearn: 0.0190574\ttotal: 374ms\tremaining: 192ms\n",
      "660:\tlearn: 0.0189622\ttotal: 374ms\tremaining: 192ms\n",
      "661:\tlearn: 0.0188948\ttotal: 375ms\tremaining: 191ms\n",
      "662:\tlearn: 0.0188189\ttotal: 375ms\tremaining: 191ms\n",
      "663:\tlearn: 0.0187073\ttotal: 376ms\tremaining: 190ms\n",
      "664:\tlearn: 0.0186413\ttotal: 376ms\tremaining: 189ms\n",
      "665:\tlearn: 0.0186039\ttotal: 377ms\tremaining: 189ms\n",
      "666:\tlearn: 0.0185675\ttotal: 377ms\tremaining: 188ms\n",
      "667:\tlearn: 0.0184982\ttotal: 378ms\tremaining: 188ms\n",
      "668:\tlearn: 0.0183770\ttotal: 378ms\tremaining: 187ms\n",
      "669:\tlearn: 0.0182942\ttotal: 379ms\tremaining: 186ms\n",
      "670:\tlearn: 0.0182130\ttotal: 379ms\tremaining: 186ms\n",
      "671:\tlearn: 0.0181234\ttotal: 379ms\tremaining: 185ms\n",
      "672:\tlearn: 0.0180338\ttotal: 380ms\tremaining: 185ms\n",
      "673:\tlearn: 0.0179618\ttotal: 380ms\tremaining: 184ms\n",
      "674:\tlearn: 0.0178740\ttotal: 381ms\tremaining: 183ms\n",
      "675:\tlearn: 0.0178039\ttotal: 381ms\tremaining: 183ms\n",
      "676:\tlearn: 0.0177180\ttotal: 382ms\tremaining: 182ms\n",
      "677:\tlearn: 0.0176497\ttotal: 382ms\tremaining: 181ms\n",
      "678:\tlearn: 0.0175481\ttotal: 383ms\tremaining: 181ms\n",
      "679:\tlearn: 0.0174604\ttotal: 383ms\tremaining: 180ms\n",
      "680:\tlearn: 0.0173807\ttotal: 384ms\tremaining: 180ms\n",
      "681:\tlearn: 0.0173024\ttotal: 384ms\tremaining: 179ms\n",
      "682:\tlearn: 0.0172208\ttotal: 384ms\tremaining: 178ms\n",
      "683:\tlearn: 0.0171885\ttotal: 385ms\tremaining: 178ms\n",
      "684:\tlearn: 0.0171093\ttotal: 385ms\tremaining: 177ms\n",
      "685:\tlearn: 0.0170319\ttotal: 386ms\tremaining: 177ms\n",
      "686:\tlearn: 0.0169438\ttotal: 386ms\tremaining: 176ms\n",
      "687:\tlearn: 0.0169122\ttotal: 387ms\tremaining: 175ms\n",
      "688:\tlearn: 0.0168305\ttotal: 387ms\tremaining: 175ms\n",
      "689:\tlearn: 0.0167998\ttotal: 388ms\tremaining: 174ms\n",
      "690:\tlearn: 0.0167698\ttotal: 388ms\tremaining: 174ms\n",
      "691:\tlearn: 0.0166951\ttotal: 389ms\tremaining: 173ms\n",
      "692:\tlearn: 0.0166658\ttotal: 389ms\tremaining: 172ms\n",
      "693:\tlearn: 0.0165931\ttotal: 389ms\tremaining: 172ms\n",
      "694:\tlearn: 0.0165645\ttotal: 390ms\tremaining: 171ms\n",
      "695:\tlearn: 0.0164916\ttotal: 390ms\tremaining: 170ms\n",
      "696:\tlearn: 0.0164600\ttotal: 391ms\tremaining: 170ms\n",
      "697:\tlearn: 0.0163762\ttotal: 391ms\tremaining: 169ms\n",
      "698:\tlearn: 0.0163485\ttotal: 392ms\tremaining: 169ms\n",
      "699:\tlearn: 0.0163215\ttotal: 392ms\tremaining: 168ms\n",
      "700:\tlearn: 0.0162484\ttotal: 393ms\tremaining: 167ms\n",
      "701:\tlearn: 0.0162185\ttotal: 393ms\tremaining: 167ms\n",
      "702:\tlearn: 0.0161468\ttotal: 394ms\tremaining: 166ms\n",
      "703:\tlearn: 0.0161207\ttotal: 394ms\tremaining: 166ms\n",
      "704:\tlearn: 0.0160438\ttotal: 395ms\tremaining: 165ms\n",
      "705:\tlearn: 0.0160149\ttotal: 395ms\tremaining: 165ms\n",
      "706:\tlearn: 0.0159447\ttotal: 395ms\tremaining: 164ms\n",
      "707:\tlearn: 0.0159196\ttotal: 396ms\tremaining: 163ms\n",
      "708:\tlearn: 0.0158436\ttotal: 396ms\tremaining: 163ms\n",
      "709:\tlearn: 0.0158144\ttotal: 397ms\tremaining: 162ms\n",
      "710:\tlearn: 0.0157457\ttotal: 397ms\tremaining: 161ms\n",
      "711:\tlearn: 0.0157180\ttotal: 398ms\tremaining: 161ms\n",
      "712:\tlearn: 0.0156911\ttotal: 398ms\tremaining: 160ms\n",
      "713:\tlearn: 0.0156238\ttotal: 399ms\tremaining: 160ms\n",
      "714:\tlearn: 0.0156078\ttotal: 399ms\tremaining: 159ms\n",
      "715:\tlearn: 0.0155415\ttotal: 400ms\tremaining: 159ms\n",
      "716:\tlearn: 0.0154686\ttotal: 400ms\tremaining: 158ms\n",
      "717:\tlearn: 0.0154035\ttotal: 401ms\tremaining: 157ms\n",
      "718:\tlearn: 0.0153394\ttotal: 401ms\tremaining: 157ms\n",
      "719:\tlearn: 0.0153236\ttotal: 402ms\tremaining: 156ms\n",
      "720:\tlearn: 0.0152606\ttotal: 402ms\tremaining: 156ms\n",
      "721:\tlearn: 0.0152451\ttotal: 403ms\tremaining: 155ms\n",
      "722:\tlearn: 0.0151620\ttotal: 403ms\tremaining: 154ms\n",
      "723:\tlearn: 0.0151391\ttotal: 403ms\tremaining: 154ms\n",
      "724:\tlearn: 0.0150760\ttotal: 404ms\tremaining: 153ms\n",
      "725:\tlearn: 0.0150494\ttotal: 404ms\tremaining: 153ms\n",
      "726:\tlearn: 0.0150272\ttotal: 405ms\tremaining: 152ms\n",
      "727:\tlearn: 0.0149659\ttotal: 405ms\tremaining: 151ms\n",
      "728:\tlearn: 0.0148956\ttotal: 406ms\tremaining: 151ms\n",
      "729:\tlearn: 0.0148155\ttotal: 406ms\tremaining: 150ms\n",
      "730:\tlearn: 0.0147882\ttotal: 407ms\tremaining: 150ms\n",
      "731:\tlearn: 0.0147278\ttotal: 407ms\tremaining: 149ms\n",
      "732:\tlearn: 0.0147039\ttotal: 408ms\tremaining: 148ms\n",
      "733:\tlearn: 0.0146440\ttotal: 408ms\tremaining: 148ms\n",
      "734:\tlearn: 0.0146298\ttotal: 409ms\tremaining: 147ms\n",
      "735:\tlearn: 0.0145709\ttotal: 409ms\tremaining: 147ms\n",
      "736:\tlearn: 0.0145035\ttotal: 410ms\tremaining: 146ms\n",
      "737:\tlearn: 0.0144456\ttotal: 410ms\tremaining: 146ms\n",
      "738:\tlearn: 0.0143886\ttotal: 411ms\tremaining: 145ms\n",
      "739:\tlearn: 0.0143723\ttotal: 411ms\tremaining: 144ms\n",
      "740:\tlearn: 0.0143564\ttotal: 411ms\tremaining: 144ms\n",
      "741:\tlearn: 0.0142903\ttotal: 412ms\tremaining: 143ms\n",
      "742:\tlearn: 0.0142747\ttotal: 412ms\tremaining: 143ms\n",
      "743:\tlearn: 0.0142079\ttotal: 413ms\tremaining: 142ms\n",
      "744:\tlearn: 0.0141925\ttotal: 413ms\tremaining: 141ms\n",
      "745:\tlearn: 0.0141292\ttotal: 413ms\tremaining: 141ms\n",
      "746:\tlearn: 0.0140545\ttotal: 414ms\tremaining: 140ms\n",
      "747:\tlearn: 0.0140143\ttotal: 414ms\tremaining: 140ms\n",
      "748:\tlearn: 0.0139993\ttotal: 415ms\tremaining: 139ms\n",
      "749:\tlearn: 0.0139354\ttotal: 415ms\tremaining: 138ms\n",
      "750:\tlearn: 0.0139208\ttotal: 416ms\tremaining: 138ms\n",
      "751:\tlearn: 0.0138582\ttotal: 416ms\tremaining: 137ms\n",
      "752:\tlearn: 0.0138477\ttotal: 417ms\tremaining: 137ms\n",
      "753:\tlearn: 0.0137934\ttotal: 417ms\tremaining: 136ms\n",
      "754:\tlearn: 0.0137386\ttotal: 417ms\tremaining: 135ms\n",
      "755:\tlearn: 0.0136847\ttotal: 418ms\tremaining: 135ms\n",
      "756:\tlearn: 0.0136704\ttotal: 418ms\tremaining: 134ms\n",
      "757:\tlearn: 0.0136584\ttotal: 419ms\tremaining: 134ms\n",
      "758:\tlearn: 0.0135863\ttotal: 419ms\tremaining: 133ms\n",
      "759:\tlearn: 0.0135575\ttotal: 419ms\tremaining: 132ms\n",
      "760:\tlearn: 0.0135475\ttotal: 420ms\tremaining: 132ms\n",
      "761:\tlearn: 0.0135195\ttotal: 420ms\tremaining: 131ms\n",
      "762:\tlearn: 0.0134591\ttotal: 421ms\tremaining: 131ms\n",
      "763:\tlearn: 0.0134493\ttotal: 421ms\tremaining: 130ms\n",
      "764:\tlearn: 0.0134113\ttotal: 422ms\tremaining: 130ms\n",
      "765:\tlearn: 0.0133594\ttotal: 422ms\tremaining: 129ms\n",
      "766:\tlearn: 0.0133032\ttotal: 423ms\tremaining: 128ms\n",
      "767:\tlearn: 0.0132742\ttotal: 423ms\tremaining: 128ms\n",
      "768:\tlearn: 0.0132469\ttotal: 424ms\tremaining: 127ms\n",
      "769:\tlearn: 0.0131898\ttotal: 424ms\tremaining: 127ms\n",
      "770:\tlearn: 0.0131379\ttotal: 425ms\tremaining: 126ms\n",
      "771:\tlearn: 0.0131287\ttotal: 425ms\tremaining: 126ms\n",
      "772:\tlearn: 0.0130747\ttotal: 425ms\tremaining: 125ms\n",
      "773:\tlearn: 0.0130237\ttotal: 426ms\tremaining: 124ms\n",
      "774:\tlearn: 0.0129982\ttotal: 426ms\tremaining: 124ms\n",
      "775:\tlearn: 0.0129512\ttotal: 427ms\tremaining: 123ms\n",
      "776:\tlearn: 0.0129421\ttotal: 427ms\tremaining: 123ms\n",
      "777:\tlearn: 0.0128767\ttotal: 428ms\tremaining: 122ms\n",
      "778:\tlearn: 0.0128145\ttotal: 428ms\tremaining: 121ms\n",
      "779:\tlearn: 0.0128056\ttotal: 428ms\tremaining: 121ms\n",
      "780:\tlearn: 0.0127810\ttotal: 429ms\tremaining: 120ms\n",
      "781:\tlearn: 0.0127272\ttotal: 429ms\tremaining: 120ms\n",
      "782:\tlearn: 0.0126777\ttotal: 430ms\tremaining: 119ms\n",
      "783:\tlearn: 0.0126689\ttotal: 430ms\tremaining: 118ms\n",
      "784:\tlearn: 0.0126202\ttotal: 431ms\tremaining: 118ms\n",
      "785:\tlearn: 0.0126115\ttotal: 431ms\tremaining: 117ms\n",
      "786:\tlearn: 0.0125875\ttotal: 431ms\tremaining: 117ms\n",
      "787:\tlearn: 0.0125270\ttotal: 432ms\tremaining: 116ms\n",
      "788:\tlearn: 0.0125186\ttotal: 432ms\tremaining: 116ms\n",
      "789:\tlearn: 0.0125102\ttotal: 433ms\tremaining: 115ms\n",
      "790:\tlearn: 0.0124579\ttotal: 433ms\tremaining: 114ms\n",
      "791:\tlearn: 0.0124123\ttotal: 434ms\tremaining: 114ms\n",
      "792:\tlearn: 0.0124053\ttotal: 434ms\tremaining: 113ms\n",
      "793:\tlearn: 0.0123463\ttotal: 434ms\tremaining: 113ms\n",
      "794:\tlearn: 0.0123309\ttotal: 435ms\tremaining: 112ms\n",
      "795:\tlearn: 0.0123227\ttotal: 435ms\tremaining: 112ms\n",
      "796:\tlearn: 0.0122780\ttotal: 436ms\tremaining: 111ms\n",
      "797:\tlearn: 0.0122712\ttotal: 436ms\tremaining: 110ms\n",
      "798:\tlearn: 0.0122481\ttotal: 437ms\tremaining: 110ms\n",
      "799:\tlearn: 0.0122016\ttotal: 437ms\tremaining: 109ms\n",
      "800:\tlearn: 0.0121507\ttotal: 437ms\tremaining: 109ms\n",
      "801:\tlearn: 0.0120925\ttotal: 438ms\tremaining: 108ms\n",
      "802:\tlearn: 0.0120859\ttotal: 438ms\tremaining: 107ms\n",
      "803:\tlearn: 0.0120793\ttotal: 439ms\tremaining: 107ms\n",
      "804:\tlearn: 0.0120645\ttotal: 439ms\tremaining: 106ms\n",
      "805:\tlearn: 0.0120210\ttotal: 439ms\tremaining: 106ms\n",
      "806:\tlearn: 0.0120140\ttotal: 440ms\tremaining: 105ms\n",
      "807:\tlearn: 0.0119995\ttotal: 440ms\tremaining: 105ms\n",
      "808:\tlearn: 0.0119228\ttotal: 441ms\tremaining: 104ms\n",
      "809:\tlearn: 0.0119008\ttotal: 441ms\tremaining: 104ms\n",
      "810:\tlearn: 0.0118513\ttotal: 442ms\tremaining: 103ms\n",
      "811:\tlearn: 0.0117895\ttotal: 442ms\tremaining: 102ms\n",
      "812:\tlearn: 0.0117436\ttotal: 443ms\tremaining: 102ms\n",
      "813:\tlearn: 0.0117369\ttotal: 443ms\tremaining: 101ms\n",
      "814:\tlearn: 0.0117303\ttotal: 443ms\tremaining: 101ms\n",
      "815:\tlearn: 0.0117238\ttotal: 444ms\tremaining: 100ms\n"
     ]
    },
    {
     "name": "stdout",
     "output_type": "stream",
     "text": [
      "816:\tlearn: 0.0116634\ttotal: 445ms\tremaining: 99.6ms\n",
      "817:\tlearn: 0.0115900\ttotal: 445ms\tremaining: 99.1ms\n",
      "818:\tlearn: 0.0115835\ttotal: 446ms\tremaining: 98.5ms\n",
      "819:\tlearn: 0.0115248\ttotal: 446ms\tremaining: 97.9ms\n",
      "820:\tlearn: 0.0114796\ttotal: 447ms\tremaining: 97.4ms\n",
      "821:\tlearn: 0.0114223\ttotal: 447ms\tremaining: 96.8ms\n",
      "822:\tlearn: 0.0114091\ttotal: 447ms\tremaining: 96.2ms\n",
      "823:\tlearn: 0.0113653\ttotal: 448ms\tremaining: 95.6ms\n",
      "824:\tlearn: 0.0113523\ttotal: 448ms\tremaining: 95.1ms\n",
      "825:\tlearn: 0.0113461\ttotal: 449ms\tremaining: 94.5ms\n",
      "826:\tlearn: 0.0113023\ttotal: 449ms\tremaining: 94ms\n",
      "827:\tlearn: 0.0112324\ttotal: 450ms\tremaining: 93.4ms\n",
      "828:\tlearn: 0.0112198\ttotal: 450ms\tremaining: 92.9ms\n",
      "829:\tlearn: 0.0112075\ttotal: 451ms\tremaining: 92.3ms\n",
      "830:\tlearn: 0.0112015\ttotal: 451ms\tremaining: 91.8ms\n",
      "831:\tlearn: 0.0111895\ttotal: 452ms\tremaining: 91.2ms\n",
      "832:\tlearn: 0.0111339\ttotal: 452ms\tremaining: 90.6ms\n",
      "833:\tlearn: 0.0110663\ttotal: 453ms\tremaining: 90.1ms\n",
      "834:\tlearn: 0.0110545\ttotal: 453ms\tremaining: 89.5ms\n",
      "835:\tlearn: 0.0109994\ttotal: 453ms\tremaining: 89ms\n",
      "836:\tlearn: 0.0109776\ttotal: 454ms\tremaining: 88.4ms\n",
      "837:\tlearn: 0.0109324\ttotal: 454ms\tremaining: 87.8ms\n",
      "838:\tlearn: 0.0108781\ttotal: 455ms\tremaining: 87.3ms\n",
      "839:\tlearn: 0.0108254\ttotal: 455ms\tremaining: 86.7ms\n",
      "840:\tlearn: 0.0107603\ttotal: 455ms\tremaining: 86.1ms\n",
      "841:\tlearn: 0.0107547\ttotal: 456ms\tremaining: 85.5ms\n",
      "842:\tlearn: 0.0107028\ttotal: 456ms\tremaining: 85ms\n",
      "843:\tlearn: 0.0106847\ttotal: 457ms\tremaining: 84.4ms\n",
      "844:\tlearn: 0.0106325\ttotal: 457ms\tremaining: 83.8ms\n",
      "845:\tlearn: 0.0105814\ttotal: 457ms\tremaining: 83.3ms\n",
      "846:\tlearn: 0.0105420\ttotal: 458ms\tremaining: 82.7ms\n",
      "847:\tlearn: 0.0105224\ttotal: 458ms\tremaining: 82.1ms\n",
      "848:\tlearn: 0.0104601\ttotal: 459ms\tremaining: 81.6ms\n",
      "849:\tlearn: 0.0104410\ttotal: 459ms\tremaining: 81ms\n",
      "850:\tlearn: 0.0104223\ttotal: 460ms\tremaining: 80.5ms\n",
      "851:\tlearn: 0.0103803\ttotal: 460ms\tremaining: 79.9ms\n",
      "852:\tlearn: 0.0103324\ttotal: 460ms\tremaining: 79.3ms\n",
      "853:\tlearn: 0.0102720\ttotal: 461ms\tremaining: 78.8ms\n",
      "854:\tlearn: 0.0102146\ttotal: 461ms\tremaining: 78.2ms\n",
      "855:\tlearn: 0.0101986\ttotal: 462ms\tremaining: 77.7ms\n",
      "856:\tlearn: 0.0101581\ttotal: 462ms\tremaining: 77.1ms\n",
      "857:\tlearn: 0.0101022\ttotal: 462ms\tremaining: 76.5ms\n",
      "858:\tlearn: 0.0100441\ttotal: 463ms\tremaining: 76ms\n",
      "859:\tlearn: 0.0100093\ttotal: 463ms\tremaining: 75.4ms\n",
      "860:\tlearn: 0.0099815\ttotal: 464ms\tremaining: 74.8ms\n",
      "861:\tlearn: 0.0099661\ttotal: 464ms\tremaining: 74.3ms\n",
      "862:\tlearn: 0.0099510\ttotal: 465ms\tremaining: 73.8ms\n",
      "863:\tlearn: 0.0099121\ttotal: 465ms\tremaining: 73.2ms\n",
      "864:\tlearn: 0.0098557\ttotal: 466ms\tremaining: 72.7ms\n",
      "865:\tlearn: 0.0098066\ttotal: 466ms\tremaining: 72.1ms\n",
      "866:\tlearn: 0.0097920\ttotal: 466ms\tremaining: 71.6ms\n",
      "867:\tlearn: 0.0097777\ttotal: 467ms\tremaining: 71ms\n",
      "868:\tlearn: 0.0097636\ttotal: 467ms\tremaining: 70.5ms\n",
      "869:\tlearn: 0.0097145\ttotal: 468ms\tremaining: 69.9ms\n",
      "870:\tlearn: 0.0097008\ttotal: 468ms\tremaining: 69.4ms\n",
      "871:\tlearn: 0.0096636\ttotal: 469ms\tremaining: 68.8ms\n",
      "872:\tlearn: 0.0096167\ttotal: 469ms\tremaining: 68.2ms\n",
      "873:\tlearn: 0.0095632\ttotal: 470ms\tremaining: 67.7ms\n",
      "874:\tlearn: 0.0095500\ttotal: 470ms\tremaining: 67.2ms\n",
      "875:\tlearn: 0.0095369\ttotal: 471ms\tremaining: 66.6ms\n",
      "876:\tlearn: 0.0095242\ttotal: 471ms\tremaining: 66.1ms\n",
      "877:\tlearn: 0.0094884\ttotal: 471ms\tremaining: 65.5ms\n",
      "878:\tlearn: 0.0094400\ttotal: 472ms\tremaining: 65ms\n",
      "879:\tlearn: 0.0094276\ttotal: 472ms\tremaining: 64.4ms\n",
      "880:\tlearn: 0.0093827\ttotal: 473ms\tremaining: 63.9ms\n",
      "881:\tlearn: 0.0093755\ttotal: 473ms\tremaining: 63.3ms\n",
      "882:\tlearn: 0.0093315\ttotal: 474ms\tremaining: 62.8ms\n",
      "883:\tlearn: 0.0093193\ttotal: 474ms\tremaining: 62.2ms\n",
      "884:\tlearn: 0.0092687\ttotal: 475ms\tremaining: 61.7ms\n",
      "885:\tlearn: 0.0092596\ttotal: 475ms\tremaining: 61.1ms\n",
      "886:\tlearn: 0.0092093\ttotal: 475ms\tremaining: 60.6ms\n",
      "887:\tlearn: 0.0091753\ttotal: 476ms\tremaining: 60ms\n",
      "888:\tlearn: 0.0091293\ttotal: 477ms\tremaining: 59.5ms\n",
      "889:\tlearn: 0.0091223\ttotal: 477ms\tremaining: 58.9ms\n",
      "890:\tlearn: 0.0091104\ttotal: 477ms\tremaining: 58.4ms\n",
      "891:\tlearn: 0.0090725\ttotal: 478ms\tremaining: 57.9ms\n",
      "892:\tlearn: 0.0090598\ttotal: 478ms\tremaining: 57.3ms\n",
      "893:\tlearn: 0.0090184\ttotal: 479ms\tremaining: 56.8ms\n",
      "894:\tlearn: 0.0090096\ttotal: 480ms\tremaining: 56.3ms\n",
      "895:\tlearn: 0.0089701\ttotal: 480ms\tremaining: 55.7ms\n",
      "896:\tlearn: 0.0089615\ttotal: 481ms\tremaining: 55.2ms\n",
      "897:\tlearn: 0.0089211\ttotal: 481ms\tremaining: 54.6ms\n",
      "898:\tlearn: 0.0089126\ttotal: 481ms\tremaining: 54.1ms\n",
      "899:\tlearn: 0.0089043\ttotal: 482ms\tremaining: 53.5ms\n",
      "900:\tlearn: 0.0088647\ttotal: 482ms\tremaining: 53ms\n",
      "901:\tlearn: 0.0088263\ttotal: 483ms\tremaining: 52.4ms\n",
      "902:\tlearn: 0.0088181\ttotal: 483ms\tremaining: 51.9ms\n",
      "903:\tlearn: 0.0088101\ttotal: 484ms\tremaining: 51.4ms\n",
      "904:\tlearn: 0.0087674\ttotal: 485ms\tremaining: 50.9ms\n",
      "905:\tlearn: 0.0087300\ttotal: 485ms\tremaining: 50.3ms\n",
      "906:\tlearn: 0.0086959\ttotal: 486ms\tremaining: 49.8ms\n",
      "907:\tlearn: 0.0086623\ttotal: 486ms\tremaining: 49.2ms\n",
      "908:\tlearn: 0.0086294\ttotal: 486ms\tremaining: 48.7ms\n",
      "909:\tlearn: 0.0085821\ttotal: 487ms\tremaining: 48.2ms\n",
      "910:\tlearn: 0.0085502\ttotal: 487ms\tremaining: 47.6ms\n",
      "911:\tlearn: 0.0085092\ttotal: 488ms\tremaining: 47.1ms\n",
      "912:\tlearn: 0.0085013\ttotal: 488ms\tremaining: 46.5ms\n",
      "913:\tlearn: 0.0084936\ttotal: 489ms\tremaining: 46ms\n",
      "914:\tlearn: 0.0084624\ttotal: 489ms\tremaining: 45.4ms\n",
      "915:\tlearn: 0.0084259\ttotal: 490ms\tremaining: 44.9ms\n",
      "916:\tlearn: 0.0084069\ttotal: 490ms\tremaining: 44.4ms\n",
      "917:\tlearn: 0.0083922\ttotal: 490ms\tremaining: 43.8ms\n",
      "918:\tlearn: 0.0083440\ttotal: 491ms\tremaining: 43.3ms\n",
      "919:\tlearn: 0.0083048\ttotal: 491ms\tremaining: 42.7ms\n",
      "920:\tlearn: 0.0082695\ttotal: 492ms\tremaining: 42.2ms\n",
      "921:\tlearn: 0.0082205\ttotal: 492ms\tremaining: 41.6ms\n",
      "922:\tlearn: 0.0081861\ttotal: 493ms\tremaining: 41.1ms\n",
      "923:\tlearn: 0.0081557\ttotal: 493ms\tremaining: 40.6ms\n",
      "924:\tlearn: 0.0081265\ttotal: 494ms\tremaining: 40ms\n",
      "925:\tlearn: 0.0080924\ttotal: 494ms\tremaining: 39.5ms\n",
      "926:\tlearn: 0.0080624\ttotal: 495ms\tremaining: 39ms\n",
      "927:\tlearn: 0.0080420\ttotal: 495ms\tremaining: 38.4ms\n",
      "928:\tlearn: 0.0080196\ttotal: 496ms\tremaining: 37.9ms\n",
      "929:\tlearn: 0.0079827\ttotal: 496ms\tremaining: 37.4ms\n",
      "930:\tlearn: 0.0079609\ttotal: 497ms\tremaining: 36.8ms\n",
      "931:\tlearn: 0.0079395\ttotal: 497ms\tremaining: 36.3ms\n",
      "932:\tlearn: 0.0078934\ttotal: 498ms\tremaining: 35.7ms\n",
      "933:\tlearn: 0.0078609\ttotal: 498ms\tremaining: 35.2ms\n",
      "934:\tlearn: 0.0078412\ttotal: 498ms\tremaining: 34.6ms\n",
      "935:\tlearn: 0.0078116\ttotal: 499ms\tremaining: 34.1ms\n",
      "936:\tlearn: 0.0077804\ttotal: 499ms\tremaining: 33.6ms\n",
      "937:\tlearn: 0.0077519\ttotal: 500ms\tremaining: 33ms\n",
      "938:\tlearn: 0.0077225\ttotal: 500ms\tremaining: 32.5ms\n",
      "939:\tlearn: 0.0077034\ttotal: 501ms\tremaining: 32ms\n",
      "940:\tlearn: 0.0076748\ttotal: 501ms\tremaining: 31.4ms\n",
      "941:\tlearn: 0.0076659\ttotal: 501ms\tremaining: 30.9ms\n",
      "942:\tlearn: 0.0076291\ttotal: 502ms\tremaining: 30.3ms\n",
      "943:\tlearn: 0.0076086\ttotal: 502ms\tremaining: 29.8ms\n",
      "944:\tlearn: 0.0075999\ttotal: 503ms\tremaining: 29.3ms\n",
      "945:\tlearn: 0.0075620\ttotal: 503ms\tremaining: 28.7ms\n",
      "946:\tlearn: 0.0075535\ttotal: 504ms\tremaining: 28.2ms\n",
      "947:\tlearn: 0.0075177\ttotal: 504ms\tremaining: 27.7ms\n",
      "948:\tlearn: 0.0074895\ttotal: 505ms\tremaining: 27.1ms\n",
      "949:\tlearn: 0.0074696\ttotal: 505ms\tremaining: 26.6ms\n",
      "950:\tlearn: 0.0074347\ttotal: 506ms\tremaining: 26.1ms\n",
      "951:\tlearn: 0.0074030\ttotal: 506ms\tremaining: 25.5ms\n",
      "952:\tlearn: 0.0073987\ttotal: 507ms\tremaining: 25ms\n",
      "953:\tlearn: 0.0073944\ttotal: 507ms\tremaining: 24.4ms\n",
      "954:\tlearn: 0.0073765\ttotal: 508ms\tremaining: 23.9ms\n",
      "955:\tlearn: 0.0073498\ttotal: 508ms\tremaining: 23.4ms\n",
      "956:\tlearn: 0.0073169\ttotal: 508ms\tremaining: 22.8ms\n",
      "957:\tlearn: 0.0073127\ttotal: 509ms\tremaining: 22.3ms\n",
      "958:\tlearn: 0.0072800\ttotal: 510ms\tremaining: 21.8ms\n",
      "959:\tlearn: 0.0072759\ttotal: 510ms\tremaining: 21.3ms\n",
      "960:\tlearn: 0.0072435\ttotal: 511ms\tremaining: 20.7ms\n",
      "961:\tlearn: 0.0072368\ttotal: 511ms\tremaining: 20.2ms\n",
      "962:\tlearn: 0.0072037\ttotal: 512ms\tremaining: 19.7ms\n",
      "963:\tlearn: 0.0071781\ttotal: 512ms\tremaining: 19.1ms\n",
      "964:\tlearn: 0.0071716\ttotal: 513ms\tremaining: 18.6ms\n",
      "965:\tlearn: 0.0071572\ttotal: 513ms\tremaining: 18.1ms\n",
      "966:\tlearn: 0.0071255\ttotal: 513ms\tremaining: 17.5ms\n",
      "967:\tlearn: 0.0071191\ttotal: 514ms\tremaining: 17ms\n",
      "968:\tlearn: 0.0071127\ttotal: 514ms\tremaining: 16.4ms\n",
      "969:\tlearn: 0.0071064\ttotal: 515ms\tremaining: 15.9ms\n",
      "970:\tlearn: 0.0070807\ttotal: 515ms\tremaining: 15.4ms\n",
      "971:\tlearn: 0.0070495\ttotal: 515ms\tremaining: 14.8ms\n",
      "972:\tlearn: 0.0070327\ttotal: 516ms\tremaining: 14.3ms\n",
      "973:\tlearn: 0.0070145\ttotal: 516ms\tremaining: 13.8ms\n",
      "974:\tlearn: 0.0070008\ttotal: 517ms\tremaining: 13.2ms\n",
      "975:\tlearn: 0.0069846\ttotal: 517ms\tremaining: 12.7ms\n",
      "976:\tlearn: 0.0069537\ttotal: 517ms\tremaining: 12.2ms\n",
      "977:\tlearn: 0.0069476\ttotal: 518ms\tremaining: 11.7ms\n",
      "978:\tlearn: 0.0069322\ttotal: 518ms\tremaining: 11.1ms\n",
      "979:\tlearn: 0.0069285\ttotal: 519ms\tremaining: 10.6ms\n",
      "980:\tlearn: 0.0069128\ttotal: 519ms\tremaining: 10.1ms\n",
      "981:\tlearn: 0.0068952\ttotal: 520ms\tremaining: 9.53ms\n",
      "982:\tlearn: 0.0068916\ttotal: 520ms\tremaining: 8.99ms\n",
      "983:\tlearn: 0.0068613\ttotal: 521ms\tremaining: 8.46ms\n",
      "984:\tlearn: 0.0068554\ttotal: 521ms\tremaining: 7.93ms\n",
      "985:\tlearn: 0.0068410\ttotal: 522ms\tremaining: 7.41ms\n",
      "986:\tlearn: 0.0068375\ttotal: 522ms\tremaining: 6.88ms\n",
      "987:\tlearn: 0.0068076\ttotal: 523ms\tremaining: 6.35ms\n",
      "988:\tlearn: 0.0067761\ttotal: 523ms\tremaining: 5.82ms\n",
      "989:\tlearn: 0.0067616\ttotal: 524ms\tremaining: 5.29ms\n",
      "990:\tlearn: 0.0067559\ttotal: 524ms\tremaining: 4.76ms\n",
      "991:\tlearn: 0.0067410\ttotal: 525ms\tremaining: 4.23ms\n",
      "992:\tlearn: 0.0067215\ttotal: 525ms\tremaining: 3.7ms\n",
      "993:\tlearn: 0.0066922\ttotal: 525ms\tremaining: 3.17ms\n",
      "994:\tlearn: 0.0066867\ttotal: 526ms\tremaining: 2.64ms\n",
      "995:\tlearn: 0.0066728\ttotal: 526ms\tremaining: 2.11ms\n"
     ]
    },
    {
     "name": "stdout",
     "output_type": "stream",
     "text": [
      "996:\tlearn: 0.0066673\ttotal: 527ms\tremaining: 1.59ms\n",
      "997:\tlearn: 0.0066529\ttotal: 528ms\tremaining: 1.06ms\n",
      "998:\tlearn: 0.0066390\ttotal: 528ms\tremaining: 528us\n",
      "999:\tlearn: 0.0066015\ttotal: 529ms\tremaining: 0us\n"
     ]
    },
    {
     "data": {
      "text/plain": [
       "<catboost.core.CatBoostRegressor at 0x7fb1a034d610>"
      ]
     },
     "execution_count": 9,
     "metadata": {},
     "output_type": "execute_result"
    }
   ],
   "source": [
    "#Train the Model \n",
    "prior_model = ctb.CatBoostRegressor()\n",
    "prior_model.fit(X_train,Y_train)"
   ]
  },
  {
   "cell_type": "code",
   "execution_count": 10,
   "id": "af65dcda",
   "metadata": {
    "execution": {
     "iopub.execute_input": "2022-03-16T13:42:06.744585Z",
     "iopub.status.busy": "2022-03-16T13:42:06.744086Z",
     "iopub.status.idle": "2022-03-16T13:42:06.753532Z",
     "shell.execute_reply": "2022-03-16T13:42:06.753847Z"
    },
    "id": "af65dcda",
    "papermill": {
     "duration": 0.027457,
     "end_time": "2022-03-16T13:42:06.753987",
     "exception": false,
     "start_time": "2022-03-16T13:42:06.726530",
     "status": "completed"
    },
    "tags": []
   },
   "outputs": [
    {
     "data": {
      "application/scrapbook.scrap.json+json": {
       "data": 0.046469509664386364,
       "encoder": "json",
       "name": "Prior Model MSE",
       "version": 1
      }
     },
     "metadata": {
      "scrapbook": {
       "data": true,
       "display": false,
       "name": "Prior Model MSE"
      }
     },
     "output_type": "display_data"
    },
    {
     "data": {
      "application/scrapbook.scrap.json+json": {
       "data": 0.077372926039908,
       "encoder": "json",
       "name": "ABC Pre-generator MSE",
       "version": 1
      }
     },
     "metadata": {
      "scrapbook": {
       "data": true,
       "display": false,
       "name": "ABC Pre-generator MSE"
      }
     },
     "output_type": "display_data"
    },
    {
     "data": {
      "application/scrapbook.scrap.json+json": {
       "data": 0.17978622508457023,
       "encoder": "json",
       "name": "Prior Model MSE",
       "version": 1
      }
     },
     "metadata": {
      "scrapbook": {
       "data": true,
       "display": false,
       "name": "Prior Model MSE"
      }
     },
     "output_type": "display_data"
    },
    {
     "data": {
      "application/scrapbook.scrap.json+json": {
       "data": 0.2414137720419051,
       "encoder": "json",
       "name": "ABC Pre-generator MSE",
       "version": 1
      }
     },
     "metadata": {
      "scrapbook": {
       "data": true,
       "display": false,
       "name": "ABC Pre-generator MSE"
      }
     },
     "output_type": "display_data"
    }
   ],
   "source": [
    "y_pred = prior_model.predict(X_test)\n",
    "y_abc = y_pred + np.random.normal(0,variance, y_pred.shape) + bias \n",
    "mse = mean_squared_error(y_pred,Y_test)\n",
    "sb.glue(\"Prior Model MSE\",mse)\n",
    "mse = mean_squared_error(y_abc,Y_test)\n",
    "sb.glue(\"ABC Pre-generator MSE\",mse)\n",
    "mae = mean_absolute_error(y_pred,Y_test)\n",
    "sb.glue(\"Prior Model MSE\",mae)\n",
    "mae = mean_absolute_error(y_abc,Y_test)\n",
    "sb.glue(\"ABC Pre-generator MSE\",mae)"
   ]
  },
  {
   "cell_type": "markdown",
   "id": "25609da2",
   "metadata": {
    "papermill": {
     "duration": 0.012548,
     "end_time": "2022-03-16T13:42:06.779424",
     "exception": false,
     "start_time": "2022-03-16T13:42:06.766876",
     "status": "completed"
    },
    "tags": []
   },
   "source": [
    "# ABC GAN Model"
   ]
  },
  {
   "cell_type": "code",
   "execution_count": 11,
   "id": "dfc3464d",
   "metadata": {
    "execution": {
     "iopub.execute_input": "2022-03-16T13:42:06.808780Z",
     "iopub.status.busy": "2022-03-16T13:42:06.808305Z",
     "iopub.status.idle": "2022-03-16T13:42:06.811484Z",
     "shell.execute_reply": "2022-03-16T13:42:06.811805Z"
    },
    "papermill": {
     "duration": 0.019929,
     "end_time": "2022-03-16T13:42:06.811948",
     "exception": false,
     "start_time": "2022-03-16T13:42:06.792019",
     "status": "completed"
    },
    "tags": []
   },
   "outputs": [],
   "source": [
    "gen = network.Generator(n_features+1).to(device)\n",
    "disc = network.Discriminator(n_features+1).to(device)\n",
    "\n",
    "criterion = torch.nn.BCELoss()\n",
    "gen_opt = torch.optim.Adam(gen.parameters(), lr=0.001, betas=(0.5, 0.999))\n",
    "disc_opt = torch.optim.Adam(disc.parameters(), lr=0.001, betas=(0.5, 0.999))"
   ]
  },
  {
   "cell_type": "code",
   "execution_count": 12,
   "id": "b75fdd85",
   "metadata": {
    "execution": {
     "iopub.execute_input": "2022-03-16T13:42:06.841942Z",
     "iopub.status.busy": "2022-03-16T13:42:06.841463Z",
     "iopub.status.idle": "2022-03-16T13:42:21.426439Z",
     "shell.execute_reply": "2022-03-16T13:42:21.426712Z"
    },
    "papermill": {
     "duration": 14.601837,
     "end_time": "2022-03-16T13:42:21.426931",
     "exception": false,
     "start_time": "2022-03-16T13:42:06.825094",
     "status": "completed"
    },
    "tags": []
   },
   "outputs": [
    {
     "data": {
      "image/png": "[encoded data removed]",
      "text/plain": [
       "<Figure size 432x288 with 1 Axes>"
      ]
     },
     "metadata": {
      "needs_background": "light"
     },
     "output_type": "display_data"
    },
    {
     "data": {
      "image/png": "[encoded data removed]",
      "text/plain": [
       "<Figure size 432x288 with 1 Axes>"
      ]
     },
     "metadata": {
      "needs_background": "light"
     },
     "output_type": "display_data"
    }
   ],
   "source": [
    "#Training the ABC_GAN \n",
    "ABC_train_test2.training_GAN(disc,gen,disc_opt,gen_opt,train_data,batch_size,n_epochs,criterion,prior_model,variance,bias,device)"
   ]
  },
  {
   "cell_type": "code",
   "execution_count": 13,
   "id": "1fa7c368",
   "metadata": {
    "execution": {
     "iopub.execute_input": "2022-03-16T13:42:21.455232Z",
     "iopub.status.busy": "2022-03-16T13:42:21.454760Z",
     "iopub.status.idle": "2022-03-16T13:42:21.644350Z",
     "shell.execute_reply": "2022-03-16T13:42:21.644625Z"
    },
    "papermill": {
     "duration": 0.204375,
     "end_time": "2022-03-16T13:42:21.644802",
     "exception": false,
     "start_time": "2022-03-16T13:42:21.440427",
     "status": "completed"
    },
    "tags": []
   },
   "outputs": [
    {
     "data": {
      "application/scrapbook.scrap.json+json": {
       "data": 0.014968481954638785,
       "encoder": "json",
       "name": "ABC-GAN Model 1 MSE",
       "version": 1
      }
     },
     "metadata": {
      "scrapbook": {
       "data": true,
       "display": false,
       "name": "ABC-GAN Model 1 MSE"
      }
     },
     "output_type": "display_data"
    },
    {
     "data": {
      "application/scrapbook.scrap.json+json": {
       "data": 0.09386614848300814,
       "encoder": "json",
       "name": "ABC-GAN Model 1 MAE",
       "version": 1
      }
     },
     "metadata": {
      "scrapbook": {
       "data": true,
       "display": false,
       "name": "ABC-GAN Model 1 MAE"
      }
     },
     "output_type": "display_data"
    },
    {
     "data": {
      "application/scrapbook.scrap.json+json": {
       "data": 1.877322969660163,
       "encoder": "json",
       "name": "ABC-GAN Model 1 Manhattan Distance",
       "version": 1
      }
     },
     "metadata": {
      "scrapbook": {
       "data": true,
       "display": false,
       "name": "ABC-GAN Model 1 Manhattan Distance"
      }
     },
     "output_type": "display_data"
    },
    {
     "data": {
      "application/scrapbook.scrap.json+json": {
       "data": 0.5463659331220427,
       "encoder": "json",
       "name": "ABC-GAN Model 1 Euclidean distance",
       "version": 1
      }
     },
     "metadata": {
      "scrapbook": {
       "data": true,
       "display": false,
       "name": "ABC-GAN Model 1 Euclidean distance"
      }
     },
     "output_type": "display_data"
    },
    {
     "data": {
      "application/scrapbook.scrap.json+json": {
       "data": [
        [
         0.011210012262906802,
         0.01805515784375038,
         0.013163258388883747,
         0.015008314319839716,
         0.016230205229349287,
         0.014405065087116715,
         0.01379441700602479,
         0.014212747616928718,
         0.015216118107636267,
         0.013751022619425835,
         0.01267072585056946,
         0.01709259674052479,
         0.015028877187386819,
         0.014116049193281743,
         0.016855354811080116,
         0.017304721580727496,
         0.014353056288101107,
         0.014265098611071707,
         0.01861360110327025,
         0.0161366651681907,
         0.014530379820858197,
         0.014191017498983282,
         0.014437896837036196,
         0.016476743677135242,
         0.014073842104070765,
         0.015474496535065895,
         0.012763533716164737,
         0.01645427513533887,
         0.018316455054086057,
         0.01590490183756122,
         0.015120166629327147,
         0.013715673519145261,
         0.018599746051300804,
         0.015194590535538177,
         0.014720640755847485,
         0.011731722075905313,
         0.01820893633359983,
         0.01583408812465552,
         0.013439075996500327,
         0.013519619609448192,
         0.014680827343936503,
         0.0179299229866972,
         0.017246902713936002,
         0.013131810415498458,
         0.013650265231349195,
         0.015327483360586609,
         0.014165811899397612,
         0.014173824515189231,
         0.015128011412680598,
         0.015660487201189,
         0.014222569192198114,
         0.014244492584183649,
         0.014997415699524707,
         0.015534262880239746,
         0.015276349600383187,
         0.014761437245800913,
         0.014815250052502954,
         0.013409530164037587,
         0.013844121004134574,
         0.014866822147841897,
         0.012433213058175017,
         0.017391628111261402,
         0.01734715072943621,
         0.012234771861065523,
         0.014006496969542637,
         0.011840852227411349,
         0.013176935435306746,
         0.016935226143011944,
         0.014828218901686807,
         0.016855222154291326,
         0.015518401599058063,
         0.015063814980630696,
         0.013763823891155847,
         0.016142042157302576,
         0.013586424669897285,
         0.016111426846511477,
         0.014460131557611017,
         0.01400630444342853,
         0.013882145445527105,
         0.014449894922750483,
         0.014701429842617042,
         0.014649064141449303,
         0.015860379609349738,
         0.01586242219867724,
         0.016276653547804,
         0.01740208031528136,
         0.01201872351788272,
         0.015502074605636518,
         0.016999817619468303,
         0.015080311599420897,
         0.015072205757231593,
         0.01230213015200027,
         0.01451693855216335,
         0.014967863659680464,
         0.016961199322080473,
         0.013734179299742976,
         0.015229889898062104,
         0.012784345079418679,
         0.015792342854590007,
         0.015841553271316682
        ],
        [
         0.08742899028584361,
         0.10724310455843807,
         0.0867405409924686,
         0.0949362094514072,
         0.09756155190989375,
         0.09599438263103366,
         0.09239226905629039,
         0.08986372156068682,
         0.0944566528312862,
         0.09066620646044612,
         0.08586707515642047,
         0.10578069789335132,
         0.09371902225539089,
         0.09328650636598468,
         0.09535823268815875,
         0.1016279230825603,
         0.09760677693411708,
         0.09289355156943202,
         0.10337001560255885,
         0.09407457513734699,
         0.09119526026770472,
         0.09433247176930308,
         0.08833616180345416,
         0.10102135566994548,
         0.09148999778553843,
         0.09522044463083149,
         0.08430326906964183,
         0.09485900728031993,
         0.09985894141718746,
         0.09243762446567416,
         0.09930478436872363,
         0.08778983531519771,
         0.10195988891646265,
         0.09581888867542147,
         0.09425253076478839,
         0.08589615253731608,
         0.09956333739683032,
         0.09906896529719234,
         0.08826454235240817,
         0.09167714295908809,
         0.09258139161393046,
         0.09778600512072444,
         0.1003615471534431,
         0.08761347634717823,
         0.09123763768002391,
         0.10026242537423968,
         0.09049319578334689,
         0.09334064079448581,
         0.09715519128367305,
         0.10060707433149219,
         0.08949715150520206,
         0.08831688640639186,
         0.0973418059758842,
         0.09312819791957735,
         0.09580655125901102,
         0.09211522443220019,
         0.0958789917640388,
         0.09142749039456248,
         0.09471908761188388,
         0.08728831587359309,
         0.0904527853243053,
         0.10254607750102877,
         0.09944183705374599,
         0.08834316162392497,
         0.09010023949667811,
         0.08497604755684733,
         0.08916614530608058,
         0.0992146479897201,
         0.09487538961693645,
         0.09797176895663143,
         0.09479080168530345,
         0.09535848451778292,
         0.08849259493872523,
         0.09588855532929301,
         0.08711550934240223,
         0.09773915512487293,
         0.09160559205338359,
         0.09171793414279819,
         0.08667189134284854,
         0.09402983142063022,
         0.08813145039603114,
         0.09013430876657366,
         0.09655347047373652,
         0.09702784223482012,
         0.09514258308336139,
         0.09942852659150958,
         0.08928676946088672,
         0.09393498701974749,
         0.1022780398838222,
         0.09431636137887836,
         0.09039893699809909,
         0.08843988878652453,
         0.09421381456777453,
         0.09244443280622364,
         0.0972974638454616,
         0.08778933612629772,
         0.09420779002830386,
         0.08933791248127818,
         0.09894084287807345,
         0.09233474237844348
        ],
        [
         1.7485798057168722,
         2.1448620911687613,
         1.734810819849372,
         1.8987241890281439,
         1.951231038197875,
         1.9198876526206732,
         1.8478453811258078,
         1.7972744312137365,
         1.8891330566257238,
         1.8133241292089224,
         1.7173415031284094,
         2.1156139578670263,
         1.8743804451078176,
         1.8657301273196936,
         1.907164653763175,
         2.032558461651206,
         1.9521355386823416,
         1.8578710313886404,
         2.067400312051177,
         1.8814915027469397,
         1.8239052053540945,
         1.8866494353860617,
         1.7667232360690832,
         2.0204271133989096,
         1.8297999557107687,
         1.9044088926166296,
         1.6860653813928366,
         1.8971801456063986,
         1.997178828343749,
         1.8487524893134832,
         1.9860956873744726,
         1.7557967063039541,
         2.039197778329253,
         1.9163777735084295,
         1.8850506152957678,
         1.7179230507463217,
         1.9912667479366064,
         1.9813793059438467,
         1.7652908470481634,
         1.8335428591817617,
         1.8516278322786093,
         1.9557201024144888,
         2.007230943068862,
         1.7522695269435644,
         1.8247527536004782,
         2.0052485074847937,
         1.8098639156669378,
         1.8668128158897161,
         1.943103825673461,
         2.0121414866298437,
         1.789943030104041,
         1.7663377281278372,
         1.946836119517684,
         1.8625639583915472,
         1.9161310251802206,
         1.8423044886440039,
         1.917579835280776,
         1.8285498078912497,
         1.8943817522376776,
         1.7457663174718618,
         1.809055706486106,
         2.0509215500205755,
         1.9888367410749197,
         1.7668632324784994,
         1.8020047899335623,
         1.6995209511369467,
         1.7833229061216116,
         1.9842929597944021,
         1.897507792338729,
         1.9594353791326284,
         1.895816033706069,
         1.9071696903556585,
         1.7698518987745047,
         1.9177711065858603,
         1.7423101868480444,
         1.9547831024974585,
         1.8321118410676718,
         1.8343586828559637,
         1.7334378268569708,
         1.8805966284126043,
         1.7626290079206228,
         1.8026861753314734,
         1.9310694094747305,
         1.9405568446964025,
         1.9028516616672277,
         1.9885705318301916,
         1.7857353892177343,
         1.87869974039495,
         2.045560797676444,
         1.886327227577567,
         1.8079787399619818,
         1.7687977757304907,
         1.8842762913554907,
         1.8488886561244726,
         1.9459492769092321,
         1.7557867225259542,
         1.8841558005660772,
         1.7867582496255636,
         1.978816857561469,
         1.8466948475688696
        ],
        [
         0.4734978830556015,
         0.6009185942163944,
         0.5130937222162,
         0.5478743344935901,
         0.5697403834967167,
         0.5367506886277225,
         0.5252507402379323,
         0.5331556548875519,
         0.5516542052343346,
         0.5244239243098247,
         0.5034029370309525,
         0.5846810539178569,
         0.5482495269015162,
         0.5313388597360773,
         0.5806092457252143,
         0.5882979105984909,
         0.5357808560988552,
         0.5341366606229478,
         0.6101409854004277,
         0.5680962096016959,
         0.5390803246429644,
         0.532747923486958,
         0.5373620164662961,
         0.5740512812830443,
         0.5305439115487194,
         0.5563181919561124,
         0.5052431833516359,
         0.5736597447152602,
         0.6052512710285879,
         0.5640018056276278,
         0.5499121135113709,
         0.5237494347327787,
         0.609913863611917,
         0.5512638304031596,
         0.5425982078084572,
         0.48439079421279907,
         0.6034722252697274,
         0.562744846705068,
         0.5184414334618777,
         0.5199926847456259,
         0.5418639560616023,
         0.5988309108036625,
         0.5873142721565007,
         0.5124804467586731,
         0.5224990953360436,
         0.5536692760229089,
         0.5322745888993314,
         0.5324251029992713,
         0.5500547502327491,
         0.5596514486926484,
         0.533339838980703,
         0.5337507392816173,
         0.5476753728172321,
         0.5573914760783438,
         0.5527449610875379,
         0.5433495605188415,
         0.5443390497199876,
         0.5178712226806503,
         0.5261961802243451,
         0.5452856526233181,
         0.49866247218283866,
         0.5897733142701763,
         0.5890186878094142,
         0.4946669962927691,
         0.5292730291549463,
         0.4866385152741478,
         0.5133602134039362,
         0.5819832668215117,
         0.5445772470767909,
         0.5806069609346985,
         0.5571068407237173,
         0.5488864177702104,
         0.5246679691224888,
         0.5681908509876339,
         0.5212758323555253,
         0.5676517743566294,
         0.5377756327244851,
         0.5292693915848248,
         0.5269183133186226,
         0.537585247616608,
         0.5422440380975533,
         0.5412774545729631,
         0.5632118537344494,
         0.5632481193697364,
         0.5705550551490014,
         0.5899505117428302,
         0.4902799917982115,
         0.5568136960534739,
         0.5830920616758267,
         0.549186882571332,
         0.5490392655763628,
         0.4960268168557073,
         0.538830929924468,
         0.5471355162970224,
         0.5824293832230732,
         0.5241026483379564,
         0.5519037941174549,
         0.5056549234293815,
         0.562002541890871,
         0.562877487048766
        ]
       ],
       "encoder": "json",
       "name": "ABC_GAN_1 Metrics",
       "version": 1
      }
     },
     "metadata": {
      "scrapbook": {
       "data": true,
       "display": false,
       "name": "ABC_GAN_1 Metrics"
      }
     },
     "output_type": "display_data"
    },
    {
     "name": "stdout",
     "output_type": "stream",
     "text": [
      "MSE\n",
      "0.014968481954638785\n"
     ]
    }
   ],
   "source": [
    "ABC_GAN1_metrics=ABC_train_test2.test_generator(gen,test_data,prior_model,variance,bias,\"1\",device)\n",
    "sb.glue(\"ABC_GAN_1 Metrics\",ABC_GAN1_metrics)\n",
    "\n",
    "print(\"MSE\")\n",
    "print(mean(ABC_GAN1_metrics[0]))"
   ]
  },
  {
   "cell_type": "code",
   "execution_count": 14,
   "id": "eb22ce5c",
   "metadata": {
    "execution": {
     "iopub.execute_input": "2022-03-16T13:42:21.681458Z",
     "iopub.status.busy": "2022-03-16T13:42:21.681051Z",
     "iopub.status.idle": "2022-03-16T13:42:22.012019Z",
     "shell.execute_reply": "2022-03-16T13:42:22.012368Z"
    },
    "papermill": {
     "duration": 0.347374,
     "end_time": "2022-03-16T13:42:22.012510",
     "exception": false,
     "start_time": "2022-03-16T13:42:21.665136",
     "status": "completed"
    },
    "tags": []
   },
   "outputs": [
    {
     "data": {
      "image/png": "[encoded data removed]",
      "text/plain": [
       "<Figure size 432x288 with 1 Axes>"
      ]
     },
     "metadata": {
      "needs_background": "light"
     },
     "output_type": "display_data"
    },
    {
     "data": {
      "image/png": "[encoded data removed]",
      "text/plain": [
       "<Figure size 432x288 with 1 Axes>"
      ]
     },
     "metadata": {
      "needs_background": "light"
     },
     "output_type": "display_data"
    },
    {
     "data": {
      "image/png": "[encoded data removed]",
      "text/plain": [
       "<Figure size 432x288 with 1 Axes>"
      ]
     },
     "metadata": {
      "needs_background": "light"
     },
     "output_type": "display_data"
    },
    {
     "data": {
      "image/png": "[encoded data removed]",
      "text/plain": [
       "<Figure size 432x288 with 1 Axes>"
      ]
     },
     "metadata": {
      "needs_background": "light"
     },
     "output_type": "display_data"
    }
   ],
   "source": [
    "sanityChecks.discProbVsError(train_data,disc,device)\n",
    "sanityChecks.discProbVsError(test_data,disc,device)"
   ]
  },
  {
   "cell_type": "markdown",
   "id": "130f3a4d",
   "metadata": {
    "id": "130f3a4d",
    "papermill": {
     "duration": 0.048826,
     "end_time": "2022-03-16T13:42:22.078092",
     "exception": false,
     "start_time": "2022-03-16T13:42:22.029266",
     "status": "completed"
    },
    "tags": []
   },
   "source": [
    "# ABC - GAN Model with skip connection"
   ]
  },
  {
   "cell_type": "code",
   "execution_count": 15,
   "id": "4e43dad1",
   "metadata": {
    "execution": {
     "iopub.execute_input": "2022-03-16T13:42:22.114111Z",
     "iopub.status.busy": "2022-03-16T13:42:22.113692Z",
     "iopub.status.idle": "2022-03-16T13:42:22.116293Z",
     "shell.execute_reply": "2022-03-16T13:42:22.116570Z"
    },
    "id": "4e43dad1",
    "papermill": {
     "duration": 0.022199,
     "end_time": "2022-03-16T13:42:22.116692",
     "exception": false,
     "start_time": "2022-03-16T13:42:22.094493",
     "status": "completed"
    },
    "tags": []
   },
   "outputs": [],
   "source": [
    "#Generator\n",
    "gen3 = network.GeneratorWithSkipConnection(n_features+1).to(device)\n",
    "constraints=network.weightConstraint()\n",
    "#Discriminator \n",
    "disc3 = network.Discriminator(n_features+1).to(device)\n",
    "\n",
    "criterion = torch.nn.BCELoss()\n",
    "gen_opt = torch.optim.Adam(gen3.parameters(), lr=0.001, betas=(0.5, 0.999))\n",
    "disc_opt = torch.optim.Adam(disc3.parameters(), lr=0.001, betas=(0.5, 0.999))\n"
   ]
  },
  {
   "cell_type": "code",
   "execution_count": 16,
   "id": "26acbc37",
   "metadata": {
    "execution": {
     "iopub.execute_input": "2022-03-16T13:42:22.151947Z",
     "iopub.status.busy": "2022-03-16T13:42:22.151539Z",
     "iopub.status.idle": "2022-03-16T13:43:00.358559Z",
     "shell.execute_reply": "2022-03-16T13:43:00.358881Z"
    },
    "id": "26acbc37",
    "papermill": {
     "duration": 38.225737,
     "end_time": "2022-03-16T13:43:00.359006",
     "exception": false,
     "start_time": "2022-03-16T13:42:22.133269",
     "status": "completed"
    },
    "tags": []
   },
   "outputs": [
    {
     "data": {
      "image/png": "[encoded data removed]",
      "text/plain": [
       "<Figure size 432x288 with 1 Axes>"
      ]
     },
     "metadata": {
      "needs_background": "light"
     },
     "output_type": "display_data"
    },
    {
     "data": {
      "image/png": "[encoded data removed]",
      "text/plain": [
       "<Figure size 432x288 with 1 Axes>"
      ]
     },
     "metadata": {
      "needs_background": "light"
     },
     "output_type": "display_data"
    }
   ],
   "source": [
    "ABC_train_test2.training_GAN_skip_connection(disc3,gen3,disc_opt,gen_opt,train_data,batch_size,n_epochs,criterion,prior_model,variance,bias,device)"
   ]
  },
  {
   "cell_type": "code",
   "execution_count": 17,
   "id": "c5e0717b",
   "metadata": {
    "execution": {
     "iopub.execute_input": "2022-03-16T13:43:00.393494Z",
     "iopub.status.busy": "2022-03-16T13:43:00.393099Z",
     "iopub.status.idle": "2022-03-16T13:43:00.679074Z",
     "shell.execute_reply": "2022-03-16T13:43:00.679339Z"
    },
    "id": "c5e0717b",
    "papermill": {
     "duration": 0.304417,
     "end_time": "2022-03-16T13:43:00.679469",
     "exception": false,
     "start_time": "2022-03-16T13:43:00.375052",
     "status": "completed"
    },
    "tags": []
   },
   "outputs": [
    {
     "data": {
      "application/scrapbook.scrap.json+json": {
       "data": 0.00988783263871593,
       "encoder": "json",
       "name": "ABC-GAN Model 3 MSE",
       "version": 1
      }
     },
     "metadata": {
      "scrapbook": {
       "data": true,
       "display": false,
       "name": "ABC-GAN Model 3 MSE"
      }
     },
     "output_type": "display_data"
    },
    {
     "data": {
      "application/scrapbook.scrap.json+json": {
       "data": 0.06309413376171141,
       "encoder": "json",
       "name": "ABC-GAN Model 3 MAE",
       "version": 1
      }
     },
     "metadata": {
      "scrapbook": {
       "data": true,
       "display": false,
       "name": "ABC-GAN Model 3 MAE"
      }
     },
     "output_type": "display_data"
    },
    {
     "data": {
      "application/scrapbook.scrap.json+json": {
       "data": 1.2618826752342285,
       "encoder": "json",
       "name": "ABC-GAN Model 3 Manhattan Distance",
       "version": 1
      }
     },
     "metadata": {
      "scrapbook": {
       "data": true,
       "display": false,
       "name": "ABC-GAN Model 3 Manhattan Distance"
      }
     },
     "output_type": "display_data"
    },
    {
     "data": {
      "application/scrapbook.scrap.json+json": {
       "data": 0.4392635943255927,
       "encoder": "json",
       "name": "ABC-GAN Model 3 Euclidean distance",
       "version": 1
      }
     },
     "metadata": {
      "scrapbook": {
       "data": true,
       "display": false,
       "name": "ABC-GAN Model 3 Euclidean distance"
      }
     },
     "output_type": "display_data"
    },
    {
     "data": {
      "application/scrapbook.scrap.json+json": {
       "data": [
        [
         0.00772485369642782,
         0.016188134955065245,
         0.008973133477968114,
         0.010616998244531575,
         0.013572046178463557,
         0.009510312935600004,
         0.01572734544933332,
         0.007735197879689772,
         0.005460537783846832,
         0.008822026267718202,
         0.007016721415518933,
         0.00817044475440867,
         0.02016300415894387,
         0.007616718307820104,
         0.0139379451500509,
         0.01025729636406852,
         0.009510824900603409,
         0.005339410256695631,
         0.010087156969149805,
         0.009033490343189173,
         0.007378934991409086,
         0.0053584425197798265,
         0.01363852841414517,
         0.012827359041865643,
         0.010000480547072428,
         0.008745623139639452,
         0.014705187176163087,
         0.008755161705137699,
         0.004648332842148888,
         0.009455556527174589,
         0.006678532633686689,
         0.007268559340750302,
         0.009793357450862935,
         0.010295638581370021,
         0.010800154929078331,
         0.007007604869559453,
         0.006439895719020079,
         0.012050103451075508,
         0.011946185954780225,
         0.004596146259788968,
         0.010963283181017941,
         0.011247972444321575,
         0.011638471663408511,
         0.009583813640584278,
         0.00843363384248972,
         0.007125547403752494,
         0.006121847408725835,
         0.010577585947691964,
         0.013897747153053492,
         0.012246113067838012,
         0.01162647742794571,
         0.014054983978224985,
         0.00932537898474393,
         0.009603522601504112,
         0.005314995685601821,
         0.01288380960112443,
         0.00897923566035905,
         0.007526496789015989,
         0.008439752870422411,
         0.010977959094587916,
         0.010696329686293936,
         0.014890661732418858,
         0.006802015136285823,
         0.010147413417140054,
         0.01830323281139101,
         0.013241073491772098,
         0.01029202875684333,
         0.007835599642105688,
         0.009212175218870135,
         0.012398695599579714,
         0.009266088525232277,
         0.010357695284476713,
         0.01550831902684571,
         0.015970858795267207,
         0.0076497744645415856,
         0.006790234996947181,
         0.006885140259441057,
         0.010494468802177349,
         0.006565758301271101,
         0.013575961952712467,
         0.013806334665913139,
         0.004354499933155941,
         0.0066689728582536925,
         0.010331385740379817,
         0.008579587914408517,
         0.011688660892802802,
         0.005672342900866328,
         0.008445900046326432,
         0.010448411847364256,
         0.008387454402321168,
         0.014883206292465359,
         0.006070163563849262,
         0.009123313313303492,
         0.007615897371843527,
         0.008410875888288701,
         0.009535354640665916,
         0.014039351657670928,
         0.00694532546977041,
         0.010475199184136795,
         0.007995485356177237
        ],
        [
         0.06367010297253728,
         0.07155563132837414,
         0.06265688510611653,
         0.06507559968158602,
         0.07487616399303079,
         0.05795760257169604,
         0.07185511626303195,
         0.06548649491742253,
         0.05439346330240369,
         0.055976147390902044,
         0.05881261872127652,
         0.0566468452103436,
         0.07781013445928693,
         0.059261944610625505,
         0.07172066019847989,
         0.06438016602769495,
         0.06286411280743778,
         0.05438260063529014,
         0.062031605187803505,
         0.057825750578194855,
         0.06067581186071038,
         0.05674247816205025,
         0.07046958589926362,
         0.07188060404732824,
         0.06661365004256367,
         0.06514069447293877,
         0.0692998600192368,
         0.062484162766486405,
         0.051171273458749056,
         0.06670160749927163,
         0.054722046572715045,
         0.059837745130062105,
         0.06333795981481671,
         0.0685864838771522,
         0.06629195157438517,
         0.057493284437805416,
         0.059434815961867574,
         0.06537704700604081,
         0.06630411157384515,
         0.05398244978860021,
         0.06132170299533755,
         0.07014960264787078,
         0.06863458696752786,
         0.06109238462522626,
         0.058826978970319035,
         0.05369367608800531,
         0.05629899324849248,
         0.062067790888249874,
         0.07150097163394094,
         0.06875748606398702,
         0.059170919377356766,
         0.07011174494400621,
         0.0659409367479384,
         0.05925791161134839,
         0.05060632871463895,
         0.06534864725545049,
         0.060528064612299204,
         0.05921293301507831,
         0.058136384654790166,
         0.06129842132795602,
         0.06905400054529309,
         0.07213649908080697,
         0.05608856873586774,
         0.058576397318392995,
         0.06827307911589742,
         0.06799022005870939,
         0.0622703549452126,
         0.06418271483853459,
         0.06783392848446965,
         0.06542349876835943,
         0.06530029149726033,
         0.06657097162678838,
         0.07750891409814357,
         0.08098818575963378,
         0.05527222855016589,
         0.05851414361968636,
         0.056108770240098235,
         0.06597324507310987,
         0.05825050519779325,
         0.07210858492180705,
         0.07161836894229054,
         0.04714069114997983,
         0.05767146097496152,
         0.06073901504278183,
         0.05864814827218652,
         0.06510051148943603,
         0.05447212317958474,
         0.06470798375084996,
         0.06717425053939223,
         0.057136614341288805,
         0.07292542541399598,
         0.05398952062241733,
         0.06230324814096093,
         0.05887644458562136,
         0.06067293519154191,
         0.06178927319124341,
         0.07377938088029623,
         0.055545052606612445,
         0.06877098185941577,
         0.060183107201009986
        ],
        [
         1.2734020594507456,
         1.431112626567483,
         1.2531377021223307,
         1.3015119936317205,
         1.4975232798606157,
         1.1591520514339209,
         1.4371023252606392,
         1.3097298983484507,
         1.0878692660480738,
         1.1195229478180408,
         1.1762523744255304,
         1.132936904206872,
         1.5562026891857386,
         1.18523889221251,
         1.4344132039695978,
         1.2876033205538988,
         1.2572822561487556,
         1.087652012705803,
         1.2406321037560701,
         1.1565150115638971,
         1.2135162372142076,
         1.134849563241005,
         1.4093917179852724,
         1.4376120809465647,
         1.3322730008512735,
         1.3028138894587755,
         1.385997200384736,
         1.2496832553297281,
         1.0234254691749811,
         1.3340321499854326,
         1.0944409314543009,
         1.196754902601242,
         1.2667591962963343,
         1.371729677543044,
         1.3258390314877033,
         1.1498656887561083,
         1.1886963192373514,
         1.3075409401208162,
         1.326082231476903,
         1.0796489957720041,
         1.226434059906751,
         1.4029920529574156,
         1.3726917393505573,
         1.2218476925045252,
         1.1765395794063807,
         1.073873521760106,
         1.1259798649698496,
         1.2413558177649975,
         1.4300194326788187,
         1.3751497212797403,
         1.1834183875471354,
         1.402234898880124,
         1.318818734958768,
         1.1851582322269678,
         1.012126574292779,
         1.3069729451090097,
         1.210561292245984,
         1.1842586603015661,
         1.1627276930958033,
         1.2259684265591204,
         1.3810800109058619,
         1.4427299816161394,
         1.1217713747173548,
         1.1715279463678598,
         1.3654615823179483,
         1.3598044011741877,
         1.245407098904252,
         1.2836542967706919,
         1.356678569689393,
         1.3084699753671885,
         1.3060058299452066,
         1.3314194325357676,
         1.5501782819628716,
         1.6197637151926756,
         1.1054445710033178,
         1.1702828723937273,
         1.1221754048019648,
         1.3194649014621973,
         1.165010103955865,
         1.442171698436141,
         1.432367378845811,
         0.9428138229995966,
         1.1534292194992304,
         1.2147803008556366,
         1.1729629654437304,
         1.3020102297887206,
         1.0894424635916948,
         1.2941596750169992,
         1.3434850107878447,
         1.142732286825776,
         1.4585085082799196,
         1.0797904124483466,
         1.2460649628192186,
         1.1775288917124271,
         1.2134587038308382,
         1.2357854638248682,
         1.4755876176059246,
         1.1109010521322489,
         1.3754196371883154,
         1.2036621440201998
        ],
        [
         0.39306115800032493,
         0.5690014930571843,
         0.4236303454184583,
         0.4608036077231074,
         0.5209999266499671,
         0.4361264251475712,
         0.5608448172058528,
         0.3933242397740005,
         0.33047050651599247,
         0.42004824169893157,
         0.3746123707385791,
         0.4042386610508369,
         0.6350276239494448,
         0.3903003537743748,
         0.5279762333675807,
         0.45293037796262947,
         0.4361381639022985,
         0.32678464641704424,
         0.4491582565009755,
         0.4250527106886668,
         0.38415973217944344,
         0.3273665382955267,
         0.5222744185606868,
         0.5065048675356565,
         0.44722434073007317,
         0.41822537320539155,
         0.5423133259687262,
         0.41845338342849375,
         0.30490434047907183,
         0.4348690958708054,
         0.3654731900888679,
         0.38127573593792463,
         0.4425688070992562,
         0.4537761250081371,
         0.4647613350759362,
         0.3743689321928157,
         0.35888426321085964,
         0.49091961564141046,
         0.48879823966091007,
         0.3031879370881687,
         0.4682581164489931,
         0.47429890247230333,
         0.4824618464377989,
         0.4378084887387242,
         0.41069779260399536,
         0.3775062225646749,
         0.34990991437013713,
         0.4599475176080846,
         0.5272143236493768,
         0.4948962127120799,
         0.4822131775044251,
         0.5301883434822947,
         0.4318652332555592,
         0.43825843064347575,
         0.3260366754094337,
         0.5076181557258257,
         0.42377436591561435,
         0.38798187558224906,
         0.4108467565996453,
         0.4685714266702125,
         0.4625219926942704,
         0.5457226719208,
         0.36883641729866706,
         0.45049780059707406,
         0.6050327728543473,
         0.5146080740091842,
         0.4536965672526811,
         0.3958686560490913,
         0.42923595419932226,
         0.4979697902399244,
         0.4304901514606873,
         0.4551416325601672,
         0.5569258303732322,
         0.5651700415851358,
         0.3911463783429826,
         0.36851689233866014,
         0.37108328605425106,
         0.45813685296377,
         0.3623743451534918,
         0.5210750800549278,
         0.5254775859332753,
         0.2951101466624264,
         0.3652115238667502,
         0.4545632132141759,
         0.41423635558479216,
         0.48350100088423403,
         0.3368187316900985,
         0.41099635147593294,
         0.45713043756381516,
         0.40957183502582717,
         0.5455860389061538,
         0.34842972214922374,
         0.42716070309202114,
         0.3902793197658192,
         0.4101432893096924,
         0.43670023221120263,
         0.5298934167862615,
         0.3727016358904374,
         0.457716051371083,
         0.3998871179764919
        ]
       ],
       "encoder": "json",
       "name": "ABC_GAN_3 Metrics",
       "version": 1
      }
     },
     "metadata": {
      "scrapbook": {
       "data": true,
       "display": false,
       "name": "ABC_GAN_3 Metrics"
      }
     },
     "output_type": "display_data"
    },
    {
     "name": "stdout",
     "output_type": "stream",
     "text": [
      "MSE\n",
      "0.00988783263871593\n"
     ]
    }
   ],
   "source": [
    "ABC_GAN3_metrics=ABC_train_test2.test_generator(gen3,test_data,prior_model,variance,bias,\"3\",device)\n",
    "sb.glue(\"ABC_GAN_3 Metrics\",ABC_GAN3_metrics)\n",
    "\n",
    "print(\"MSE\")\n",
    "print(mean(ABC_GAN3_metrics[0]))"
   ]
  },
  {
   "cell_type": "code",
   "execution_count": 18,
   "id": "c8e46b48",
   "metadata": {
    "execution": {
     "iopub.execute_input": "2022-03-16T13:43:00.720303Z",
     "iopub.status.busy": "2022-03-16T13:43:00.719895Z",
     "iopub.status.idle": "2022-03-16T13:43:01.043705Z",
     "shell.execute_reply": "2022-03-16T13:43:01.044112Z"
    },
    "id": "c8e46b48",
    "papermill": {
     "duration": 0.345431,
     "end_time": "2022-03-16T13:43:01.044239",
     "exception": false,
     "start_time": "2022-03-16T13:43:00.698808",
     "status": "completed"
    },
    "tags": []
   },
   "outputs": [
    {
     "data": {
      "image/png": "[encoded data removed]",
      "text/plain": [
       "<Figure size 432x288 with 1 Axes>"
      ]
     },
     "metadata": {
      "needs_background": "light"
     },
     "output_type": "display_data"
    },
    {
     "data": {
      "image/png": "[encoded data removed]",
      "text/plain": [
       "<Figure size 432x288 with 1 Axes>"
      ]
     },
     "metadata": {
      "needs_background": "light"
     },
     "output_type": "display_data"
    },
    {
     "data": {
      "image/png": "[encoded data removed]",
      "text/plain": [
       "<Figure size 432x288 with 1 Axes>"
      ]
     },
     "metadata": {
      "needs_background": "light"
     },
     "output_type": "display_data"
    },
    {
     "data": {
      "image/png": "[encoded data removed]",
      "text/plain": [
       "<Figure size 432x288 with 1 Axes>"
      ]
     },
     "metadata": {
      "needs_background": "light"
     },
     "output_type": "display_data"
    }
   ],
   "source": [
    "sanityChecks.discProbVsError(train_data,disc3,device)\n",
    "sanityChecks.discProbVsError(test_data,disc3,device)"
   ]
  },
  {
   "cell_type": "markdown",
   "id": "a5bd74c3",
   "metadata": {
    "id": "a5bd74c3",
    "papermill": {
     "duration": 0.021442,
     "end_time": "2022-03-16T13:43:01.087619",
     "exception": false,
     "start_time": "2022-03-16T13:43:01.066177",
     "status": "completed"
    },
    "tags": []
   },
   "source": [
    "## Skip Connection Model Analysis - ABC-GAN "
   ]
  },
  {
   "cell_type": "markdown",
   "id": "5744a8bf",
   "metadata": {
    "id": "5744a8bf",
    "papermill": {
     "duration": 0.02118,
     "end_time": "2022-03-16T13:43:01.130100",
     "exception": false,
     "start_time": "2022-03-16T13:43:01.108920",
     "status": "completed"
    },
    "tags": []
   },
   "source": [
    "### Weight Analysis \n",
    "\n",
    "Study the weights of the skip connection layer\n",
    "\n",
    "Equation of the skip connection is \n",
    "\n",
    "$output = y_{gan} * w + y_{abc} * (1-w)$"
   ]
  },
  {
   "cell_type": "code",
   "execution_count": 19,
   "id": "52c31dea",
   "metadata": {
    "execution": {
     "iopub.execute_input": "2022-03-16T13:43:01.175757Z",
     "iopub.status.busy": "2022-03-16T13:43:01.175329Z",
     "iopub.status.idle": "2022-03-16T13:43:01.178852Z",
     "shell.execute_reply": "2022-03-16T13:43:01.179109Z"
    },
    "id": "52c31dea",
    "papermill": {
     "duration": 0.027748,
     "end_time": "2022-03-16T13:43:01.179227",
     "exception": false,
     "start_time": "2022-03-16T13:43:01.151479",
     "status": "completed"
    },
    "tags": []
   },
   "outputs": [
    {
     "name": "stdout",
     "output_type": "stream",
     "text": [
      "Weight of the node at skip connection\n",
      "Parameter containing:\n",
      "tensor([[0.0905]], requires_grad=True)\n"
     ]
    },
    {
     "data": {
      "application/scrapbook.scrap.json+json": {
       "data": 0.0904901996254921,
       "encoder": "json",
       "name": "Skip Connection Weight",
       "version": 1
      }
     },
     "metadata": {
      "scrapbook": {
       "data": true,
       "display": false,
       "name": "Skip Connection Weight"
      }
     },
     "output_type": "display_data"
    }
   ],
   "source": [
    "print(\"Weight of the node at skip connection\")\n",
    "for name,param in gen3.named_parameters():\n",
    "    if(name == \"skipNode.weight\"):\n",
    "        print(param)\n",
    "        sb.glue(\"Skip Connection Weight\",param.item())"
   ]
  }
 ],
 "metadata": {
  "colab": {
   "collapsed_sections": [],
   "name": "ABC_GAN_Model-Catboost_Pre-gen.ipynb",
   "provenance": []
  },
  "interpreter": {
   "hash": "31f2aee4e71d21fbe5cf8b01ff0e069b9275f58929596ceb00d14d90e3e16cd6"
  },
  "kernelspec": {
   "display_name": "Python 3 (ipykernel)",
   "language": "python",
   "name": "python3"
  },
  "language_info": {
   "codemirror_mode": {
    "name": "ipython",
    "version": 3
   },
   "file_extension": ".py",
   "mimetype": "text/x-python",
   "name": "python",
   "nbconvert_exporter": "python",
   "pygments_lexer": "ipython3",
   "version": "3.8.11"
  },
  "papermill": {
   "default_parameters": {},
   "duration": 58.371714,
   "end_time": "2022-03-16T13:43:01.508332",
   "environment_variables": {},
   "exception": null,
   "input_path": "ABC_GAN-Catboost.ipynb",
   "output_path": "./ABC_GAN_Catboost/ABC-GAN_output_7_7.ipynb",
   "parameters": {
    "bias": 0.01,
    "variance": 0.1
   },
   "start_time": "2022-03-16T13:42:03.136618",
   "version": "2.3.3"
  }
 },
 "nbformat": 4,
 "nbformat_minor": 5
}