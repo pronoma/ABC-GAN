{
 "cells": [
  {
   "cell_type": "markdown",
   "id": "622780e6",
   "metadata": {
    "id": "622780e6",
    "papermill": {
     "duration": 0.025539,
     "end_time": "2022-03-16T13:24:57.201078",
     "exception": false,
     "start_time": "2022-03-16T13:24:57.175539",
     "status": "completed"
    },
    "tags": []
   },
   "source": [
    "## Import Libraries "
   ]
  },
  {
   "cell_type": "code",
   "execution_count": 1,
   "id": "a62397e3",
   "metadata": {
    "execution": {
     "iopub.execute_input": "2022-03-16T13:24:57.226797Z",
     "iopub.status.busy": "2022-03-16T13:24:57.226209Z",
     "iopub.status.idle": "2022-03-16T13:24:57.228744Z",
     "shell.execute_reply": "2022-03-16T13:24:57.229159Z"
    },
    "id": "a62397e3",
    "papermill": {
     "duration": 0.018422,
     "end_time": "2022-03-16T13:24:57.229412",
     "exception": false,
     "start_time": "2022-03-16T13:24:57.210990",
     "status": "completed"
    },
    "tags": []
   },
   "outputs": [],
   "source": [
    "import warnings\n",
    "import sys\n",
    "sys.path.insert(0, '../../src')\n",
    "warnings.filterwarnings('ignore')"
   ]
  },
  {
   "cell_type": "code",
   "execution_count": 2,
   "id": "d6a4e155",
   "metadata": {
    "execution": {
     "iopub.execute_input": "2022-03-16T13:24:57.252357Z",
     "iopub.status.busy": "2022-03-16T13:24:57.251791Z",
     "iopub.status.idle": "2022-03-16T13:24:59.156710Z",
     "shell.execute_reply": "2022-03-16T13:24:59.156974Z"
    },
    "id": "d6a4e155",
    "papermill": {
     "duration": 1.918494,
     "end_time": "2022-03-16T13:24:59.157101",
     "exception": false,
     "start_time": "2022-03-16T13:24:57.238607",
     "status": "completed"
    },
    "tags": []
   },
   "outputs": [],
   "source": [
    "import ABC_train_test2\n",
    "import friedman2Dataset\n",
    "import network\n",
    "import dataset\n",
    "import sanityChecks\n",
    "import torch \n",
    "import scrapbook as sb\n",
    "from statistics import mean \n",
    "import catboost as ctb \n",
    "from sklearn.model_selection import train_test_split\n",
    "from sklearn.metrics import mean_squared_error,mean_absolute_error\n",
    "import numpy as np"
   ]
  },
  {
   "cell_type": "markdown",
   "id": "2fa5b0f7",
   "metadata": {
    "id": "2fa5b0f7",
    "papermill": {
     "duration": 0.006896,
     "end_time": "2022-03-16T13:24:59.171395",
     "exception": false,
     "start_time": "2022-03-16T13:24:59.164499",
     "status": "completed"
    },
    "tags": []
   },
   "source": [
    "## Parameters "
   ]
  },
  {
   "cell_type": "code",
   "execution_count": 3,
   "id": "783186fb",
   "metadata": {
    "execution": {
     "iopub.execute_input": "2022-03-16T13:24:59.187417Z",
     "iopub.status.busy": "2022-03-16T13:24:59.187038Z",
     "iopub.status.idle": "2022-03-16T13:24:59.188304Z",
     "shell.execute_reply": "2022-03-16T13:24:59.188556Z"
    },
    "id": "783186fb",
    "papermill": {
     "duration": 0.010476,
     "end_time": "2022-03-16T13:24:59.188673",
     "exception": false,
     "start_time": "2022-03-16T13:24:59.178197",
     "status": "completed"
    },
    "tags": [
     "parameters"
    ]
   },
   "outputs": [],
   "source": [
    "variance = 1\n",
    "bias = 1 "
   ]
  },
  {
   "cell_type": "code",
   "execution_count": 4,
   "id": "0402cae0",
   "metadata": {
    "execution": {
     "iopub.execute_input": "2022-03-16T13:24:59.205042Z",
     "iopub.status.busy": "2022-03-16T13:24:59.204681Z",
     "iopub.status.idle": "2022-03-16T13:24:59.206074Z",
     "shell.execute_reply": "2022-03-16T13:24:59.206316Z"
    },
    "papermill": {
     "duration": 0.01063,
     "end_time": "2022-03-16T13:24:59.206427",
     "exception": false,
     "start_time": "2022-03-16T13:24:59.195797",
     "status": "completed"
    },
    "tags": [
     "injected-parameters"
    ]
   },
   "outputs": [],
   "source": [
    "# Parameters\n",
    "variance = 0.01\n",
    "bias = 0.01\n"
   ]
  },
  {
   "cell_type": "markdown",
   "id": "391cdbfd",
   "metadata": {
    "id": "391cdbfd",
    "papermill": {
     "duration": 0.006998,
     "end_time": "2022-03-16T13:24:59.220582",
     "exception": false,
     "start_time": "2022-03-16T13:24:59.213584",
     "status": "completed"
    },
    "tags": []
   },
   "source": [
    "## Dataset \n"
   ]
  },
  {
   "cell_type": "code",
   "execution_count": 5,
   "id": "5b51f161",
   "metadata": {
    "execution": {
     "iopub.execute_input": "2022-03-16T13:24:59.236643Z",
     "iopub.status.busy": "2022-03-16T13:24:59.236265Z",
     "iopub.status.idle": "2022-03-16T13:24:59.237549Z",
     "shell.execute_reply": "2022-03-16T13:24:59.237786Z"
    },
    "id": "5b51f161",
    "papermill": {
     "duration": 0.010413,
     "end_time": "2022-03-16T13:24:59.237937",
     "exception": false,
     "start_time": "2022-03-16T13:24:59.227524",
     "status": "completed"
    },
    "tags": []
   },
   "outputs": [],
   "source": [
    "#Parameters \n",
    "n_features = 4\n",
    "n_samples= 100\n",
    "n_target = 1 "
   ]
  },
  {
   "cell_type": "code",
   "execution_count": 6,
   "id": "5d6eced4",
   "metadata": {
    "execution": {
     "iopub.execute_input": "2022-03-16T13:24:59.254416Z",
     "iopub.status.busy": "2022-03-16T13:24:59.253721Z",
     "iopub.status.idle": "2022-03-16T13:24:59.259674Z",
     "shell.execute_reply": "2022-03-16T13:24:59.259917Z"
    },
    "id": "5d6eced4",
    "papermill": {
     "duration": 0.015027,
     "end_time": "2022-03-16T13:24:59.260029",
     "exception": false,
     "start_time": "2022-03-16T13:24:59.245002",
     "status": "completed"
    },
    "tags": []
   },
   "outputs": [
    {
     "name": "stdout",
     "output_type": "stream",
     "text": [
      "          X1           X2        X3         X4           Y\n",
      "0  42.226485   360.692962  0.974391   7.684092  353.855280\n",
      "1  19.635498   526.626999  0.829778  10.195746  437.448056\n",
      "2  76.404212  1637.619559  0.037013   2.318749   97.538421\n",
      "3   0.847575   943.907866  0.191182   4.291742  180.450389\n",
      "4   3.235463   450.644941  0.387508   6.006657  174.668714\n"
     ]
    }
   ],
   "source": [
    "X,Y = friedman2Dataset.friedman2_data(n_samples)"
   ]
  },
  {
   "cell_type": "code",
   "execution_count": 7,
   "id": "fe007438",
   "metadata": {
    "execution": {
     "iopub.execute_input": "2022-03-16T13:24:59.278112Z",
     "iopub.status.busy": "2022-03-16T13:24:59.277731Z",
     "iopub.status.idle": "2022-03-16T13:24:59.279069Z",
     "shell.execute_reply": "2022-03-16T13:24:59.279305Z"
    },
    "id": "fe007438",
    "papermill": {
     "duration": 0.011913,
     "end_time": "2022-03-16T13:24:59.279417",
     "exception": false,
     "start_time": "2022-03-16T13:24:59.267504",
     "status": "completed"
    },
    "tags": []
   },
   "outputs": [],
   "source": [
    "#Train test split for dataset \n",
    "X_train,X_test,Y_train,Y_test = train_test_split(X,Y,test_size = 0.2)\n",
    "train_data = dataset.CustomDataset(X_train,Y_train)\n",
    "test_data = dataset.CustomDataset(X_test,Y_test)\n"
   ]
  },
  {
   "cell_type": "markdown",
   "id": "a9a1af34",
   "metadata": {
    "id": "a9a1af34",
    "papermill": {
     "duration": 0.007427,
     "end_time": "2022-03-16T13:24:59.294310",
     "exception": false,
     "start_time": "2022-03-16T13:24:59.286883",
     "status": "completed"
    },
    "tags": []
   },
   "source": [
    "## Training Parameters "
   ]
  },
  {
   "cell_type": "code",
   "execution_count": 8,
   "id": "952b7fc8",
   "metadata": {
    "execution": {
     "iopub.execute_input": "2022-03-16T13:24:59.311394Z",
     "iopub.status.busy": "2022-03-16T13:24:59.311025Z",
     "iopub.status.idle": "2022-03-16T13:24:59.312347Z",
     "shell.execute_reply": "2022-03-16T13:24:59.312633Z"
    },
    "id": "952b7fc8",
    "papermill": {
     "duration": 0.011126,
     "end_time": "2022-03-16T13:24:59.312755",
     "exception": false,
     "start_time": "2022-03-16T13:24:59.301629",
     "status": "completed"
    },
    "tags": []
   },
   "outputs": [],
   "source": [
    "batch_size = 32\n",
    "n_epochs = 1000\n",
    "#Select the device \n",
    "device = torch.device('cuda' if torch.cuda.is_available() else 'cpu')"
   ]
  },
  {
   "cell_type": "markdown",
   "id": "a95e1600",
   "metadata": {
    "id": "a95e1600",
    "papermill": {
     "duration": 0.007149,
     "end_time": "2022-03-16T13:24:59.327306",
     "exception": false,
     "start_time": "2022-03-16T13:24:59.320157",
     "status": "completed"
    },
    "tags": []
   },
   "source": [
    "# ABC Pre-generator Model \n",
    "\n",
    "1. The catboost model is used as a pre-generator model for the ABC-GAN. \n",
    "2. The model is first trained on the entire dataset \n",
    "3. It generats X,Y pairs and we add some Gaussian noise with mean 0 and variance 1 to it which is then feed as input to the generator.\n"
   ]
  },
  {
   "cell_type": "code",
   "execution_count": 9,
   "id": "ff8ce7bd",
   "metadata": {
    "execution": {
     "iopub.execute_input": "2022-03-16T13:24:59.345806Z",
     "iopub.status.busy": "2022-03-16T13:24:59.345372Z",
     "iopub.status.idle": "2022-03-16T13:24:59.988847Z",
     "shell.execute_reply": "2022-03-16T13:24:59.989142Z"
    },
    "id": "ff8ce7bd",
    "papermill": {
     "duration": 0.654721,
     "end_time": "2022-03-16T13:24:59.989271",
     "exception": false,
     "start_time": "2022-03-16T13:24:59.334550",
     "status": "completed"
    },
    "tags": []
   },
   "outputs": [
    {
     "name": "stdout",
     "output_type": "stream",
     "text": [
      "Learning rate set to 0.024897\n",
      "0:\tlearn: 0.9476259\ttotal: 57ms\tremaining: 56.9s\n",
      "1:\tlearn: 0.9380236\ttotal: 57.7ms\tremaining: 28.8s\n",
      "2:\tlearn: 0.9279718\ttotal: 58.4ms\tremaining: 19.4s\n",
      "3:\tlearn: 0.9163429\ttotal: 59ms\tremaining: 14.7s\n",
      "4:\tlearn: 0.9037362\ttotal: 59.4ms\tremaining: 11.8s\n",
      "5:\tlearn: 0.8947381\ttotal: 59.8ms\tremaining: 9.91s\n",
      "6:\tlearn: 0.8848498\ttotal: 60.3ms\tremaining: 8.56s\n",
      "7:\tlearn: 0.8740146\ttotal: 60.8ms\tremaining: 7.54s\n",
      "8:\tlearn: 0.8653491\ttotal: 61.3ms\tremaining: 6.75s\n",
      "9:\tlearn: 0.8544157\ttotal: 61.9ms\tremaining: 6.13s\n",
      "10:\tlearn: 0.8453401\ttotal: 62.4ms\tremaining: 5.61s\n",
      "11:\tlearn: 0.8333390\ttotal: 62.8ms\tremaining: 5.17s\n",
      "12:\tlearn: 0.8218980\ttotal: 63.2ms\tremaining: 4.8s\n",
      "13:\tlearn: 0.8131454\ttotal: 63.8ms\tremaining: 4.49s\n",
      "14:\tlearn: 0.8034435\ttotal: 64.3ms\tremaining: 4.22s\n",
      "15:\tlearn: 0.7962324\ttotal: 64.7ms\tremaining: 3.98s\n",
      "16:\tlearn: 0.7869744\ttotal: 65.4ms\tremaining: 3.78s\n",
      "17:\tlearn: 0.7794236\ttotal: 65.7ms\tremaining: 3.58s\n",
      "18:\tlearn: 0.7719517\ttotal: 66.2ms\tremaining: 3.42s\n",
      "19:\tlearn: 0.7627077\ttotal: 66.6ms\tremaining: 3.26s\n",
      "20:\tlearn: 0.7526274\ttotal: 67ms\tremaining: 3.12s\n",
      "21:\tlearn: 0.7422686\ttotal: 67.4ms\tremaining: 2.99s\n",
      "22:\tlearn: 0.7338655\ttotal: 67.7ms\tremaining: 2.87s\n",
      "23:\tlearn: 0.7254996\ttotal: 68.1ms\tremaining: 2.77s\n",
      "24:\tlearn: 0.7184788\ttotal: 68.4ms\tremaining: 2.67s\n",
      "25:\tlearn: 0.7100423\ttotal: 68.9ms\tremaining: 2.58s\n",
      "26:\tlearn: 0.7021706\ttotal: 69.5ms\tremaining: 2.5s\n",
      "27:\tlearn: 0.6929742\ttotal: 69.9ms\tremaining: 2.43s\n",
      "28:\tlearn: 0.6840206\ttotal: 70.3ms\tremaining: 2.35s\n",
      "29:\tlearn: 0.6756578\ttotal: 70.7ms\tremaining: 2.29s\n",
      "30:\tlearn: 0.6687889\ttotal: 71.2ms\tremaining: 2.22s\n",
      "31:\tlearn: 0.6624068\ttotal: 71.7ms\tremaining: 2.17s\n",
      "32:\tlearn: 0.6570400\ttotal: 72.1ms\tremaining: 2.11s\n",
      "33:\tlearn: 0.6496966\ttotal: 72.6ms\tremaining: 2.06s\n",
      "34:\tlearn: 0.6444044\ttotal: 73.1ms\tremaining: 2.02s\n",
      "35:\tlearn: 0.6381212\ttotal: 73.6ms\tremaining: 1.97s\n",
      "36:\tlearn: 0.6291464\ttotal: 74.2ms\tremaining: 1.93s\n",
      "37:\tlearn: 0.6221892\ttotal: 74.8ms\tremaining: 1.89s\n",
      "38:\tlearn: 0.6170875\ttotal: 75.2ms\tremaining: 1.85s\n",
      "39:\tlearn: 0.6110054\ttotal: 75.6ms\tremaining: 1.81s\n",
      "40:\tlearn: 0.6043546\ttotal: 75.9ms\tremaining: 1.77s\n",
      "41:\tlearn: 0.5985533\ttotal: 76.3ms\tremaining: 1.74s\n",
      "42:\tlearn: 0.5911488\ttotal: 76.7ms\tremaining: 1.71s\n",
      "43:\tlearn: 0.5859421\ttotal: 77.1ms\tremaining: 1.67s\n",
      "44:\tlearn: 0.5805766\ttotal: 77.4ms\tremaining: 1.64s\n",
      "45:\tlearn: 0.5734830\ttotal: 77.8ms\tremaining: 1.61s\n",
      "46:\tlearn: 0.5666066\ttotal: 78.1ms\tremaining: 1.58s\n",
      "47:\tlearn: 0.5611720\ttotal: 78.6ms\tremaining: 1.56s\n",
      "48:\tlearn: 0.5556617\ttotal: 79ms\tremaining: 1.53s\n",
      "49:\tlearn: 0.5504535\ttotal: 79.5ms\tremaining: 1.51s\n",
      "50:\tlearn: 0.5430013\ttotal: 80.1ms\tremaining: 1.49s\n",
      "51:\tlearn: 0.5367061\ttotal: 80.4ms\tremaining: 1.47s\n",
      "52:\tlearn: 0.5323264\ttotal: 80.9ms\tremaining: 1.45s\n",
      "53:\tlearn: 0.5269112\ttotal: 81.3ms\tremaining: 1.42s\n",
      "54:\tlearn: 0.5197986\ttotal: 81.6ms\tremaining: 1.4s\n",
      "55:\tlearn: 0.5152515\ttotal: 82.1ms\tremaining: 1.38s\n",
      "56:\tlearn: 0.5100880\ttotal: 82.6ms\tremaining: 1.37s\n",
      "57:\tlearn: 0.5059229\ttotal: 83ms\tremaining: 1.35s\n",
      "58:\tlearn: 0.4994758\ttotal: 83.5ms\tremaining: 1.33s\n",
      "59:\tlearn: 0.4935527\ttotal: 83.9ms\tremaining: 1.31s\n",
      "60:\tlearn: 0.4882956\ttotal: 84.3ms\tremaining: 1.3s\n",
      "61:\tlearn: 0.4839175\ttotal: 84.6ms\tremaining: 1.28s\n",
      "62:\tlearn: 0.4788205\ttotal: 85.1ms\tremaining: 1.26s\n",
      "63:\tlearn: 0.4725826\ttotal: 85.5ms\tremaining: 1.25s\n",
      "64:\tlearn: 0.4676577\ttotal: 86ms\tremaining: 1.24s\n",
      "65:\tlearn: 0.4616763\ttotal: 86.4ms\tremaining: 1.22s\n",
      "66:\tlearn: 0.4572399\ttotal: 86.8ms\tremaining: 1.21s\n",
      "67:\tlearn: 0.4522403\ttotal: 87.4ms\tremaining: 1.2s\n",
      "68:\tlearn: 0.4478574\ttotal: 87.8ms\tremaining: 1.18s\n",
      "69:\tlearn: 0.4429839\ttotal: 88.3ms\tremaining: 1.17s\n",
      "70:\tlearn: 0.4391052\ttotal: 88.8ms\tremaining: 1.16s\n",
      "71:\tlearn: 0.4342242\ttotal: 89.2ms\tremaining: 1.15s\n",
      "72:\tlearn: 0.4298763\ttotal: 89.8ms\tremaining: 1.14s\n",
      "73:\tlearn: 0.4247952\ttotal: 90.3ms\tremaining: 1.13s\n",
      "74:\tlearn: 0.4204782\ttotal: 90.8ms\tremaining: 1.12s\n",
      "75:\tlearn: 0.4149212\ttotal: 91.2ms\tremaining: 1.11s\n",
      "76:\tlearn: 0.4100786\ttotal: 91.5ms\tremaining: 1.1s\n",
      "77:\tlearn: 0.4065638\ttotal: 91.8ms\tremaining: 1.08s\n",
      "78:\tlearn: 0.4030015\ttotal: 92ms\tremaining: 1.07s\n",
      "79:\tlearn: 0.3989016\ttotal: 92.4ms\tremaining: 1.06s\n",
      "80:\tlearn: 0.3949706\ttotal: 92.8ms\tremaining: 1.05s\n",
      "81:\tlearn: 0.3903122\ttotal: 93.3ms\tremaining: 1.04s\n",
      "82:\tlearn: 0.3864947\ttotal: 94.4ms\tremaining: 1.04s\n",
      "83:\tlearn: 0.3816136\ttotal: 94.9ms\tremaining: 1.03s\n",
      "84:\tlearn: 0.3779133\ttotal: 95.5ms\tremaining: 1.03s\n",
      "85:\tlearn: 0.3743726\ttotal: 95.7ms\tremaining: 1.02s\n",
      "86:\tlearn: 0.3708981\ttotal: 96.1ms\tremaining: 1.01s\n",
      "87:\tlearn: 0.3680400\ttotal: 96.5ms\tremaining: 1000ms\n",
      "88:\tlearn: 0.3648294\ttotal: 97.1ms\tremaining: 994ms\n",
      "89:\tlearn: 0.3606976\ttotal: 97.5ms\tremaining: 986ms\n",
      "90:\tlearn: 0.3575186\ttotal: 97.9ms\tremaining: 978ms\n",
      "91:\tlearn: 0.3535772\ttotal: 98.4ms\tremaining: 971ms\n",
      "92:\tlearn: 0.3503657\ttotal: 98.9ms\tremaining: 964ms\n",
      "93:\tlearn: 0.3471957\ttotal: 99.3ms\tremaining: 957ms\n",
      "94:\tlearn: 0.3442198\ttotal: 99.7ms\tremaining: 950ms\n",
      "95:\tlearn: 0.3400710\ttotal: 100ms\tremaining: 943ms\n",
      "96:\tlearn: 0.3363320\ttotal: 101ms\tremaining: 937ms\n",
      "97:\tlearn: 0.3326752\ttotal: 101ms\tremaining: 930ms\n",
      "98:\tlearn: 0.3290503\ttotal: 102ms\tremaining: 925ms\n",
      "99:\tlearn: 0.3265692\ttotal: 102ms\tremaining: 919ms\n",
      "100:\tlearn: 0.3227598\ttotal: 102ms\tremaining: 912ms\n",
      "101:\tlearn: 0.3194417\ttotal: 103ms\tremaining: 905ms\n",
      "102:\tlearn: 0.3157238\ttotal: 103ms\tremaining: 898ms\n",
      "103:\tlearn: 0.3143372\ttotal: 104ms\tremaining: 892ms\n",
      "104:\tlearn: 0.3108271\ttotal: 104ms\tremaining: 885ms\n",
      "105:\tlearn: 0.3081495\ttotal: 104ms\tremaining: 879ms\n",
      "106:\tlearn: 0.3052933\ttotal: 105ms\tremaining: 874ms\n",
      "107:\tlearn: 0.3017648\ttotal: 105ms\tremaining: 868ms\n"
     ]
    },
    {
     "name": "stdout",
     "output_type": "stream",
     "text": [
      "108:\tlearn: 0.2997655\ttotal: 106ms\tremaining: 864ms\n",
      "109:\tlearn: 0.2967971\ttotal: 106ms\tremaining: 860ms\n",
      "110:\tlearn: 0.2935628\ttotal: 107ms\tremaining: 854ms\n",
      "111:\tlearn: 0.2905579\ttotal: 107ms\tremaining: 849ms\n",
      "112:\tlearn: 0.2881940\ttotal: 108ms\tremaining: 844ms\n",
      "113:\tlearn: 0.2855731\ttotal: 108ms\tremaining: 839ms\n",
      "114:\tlearn: 0.2837096\ttotal: 108ms\tremaining: 835ms\n",
      "115:\tlearn: 0.2803914\ttotal: 109ms\tremaining: 831ms\n",
      "116:\tlearn: 0.2771262\ttotal: 109ms\tremaining: 825ms\n",
      "117:\tlearn: 0.2746990\ttotal: 110ms\tremaining: 820ms\n",
      "118:\tlearn: 0.2711643\ttotal: 110ms\tremaining: 817ms\n",
      "119:\tlearn: 0.2686110\ttotal: 111ms\tremaining: 811ms\n",
      "120:\tlearn: 0.2654276\ttotal: 111ms\tremaining: 807ms\n",
      "121:\tlearn: 0.2634275\ttotal: 112ms\tremaining: 804ms\n",
      "122:\tlearn: 0.2607789\ttotal: 112ms\tremaining: 798ms\n",
      "123:\tlearn: 0.2588049\ttotal: 112ms\tremaining: 793ms\n",
      "124:\tlearn: 0.2561492\ttotal: 113ms\tremaining: 789ms\n",
      "125:\tlearn: 0.2536211\ttotal: 113ms\tremaining: 786ms\n",
      "126:\tlearn: 0.2509367\ttotal: 114ms\tremaining: 782ms\n",
      "127:\tlearn: 0.2484175\ttotal: 114ms\tremaining: 778ms\n",
      "128:\tlearn: 0.2463823\ttotal: 115ms\tremaining: 773ms\n",
      "129:\tlearn: 0.2444778\ttotal: 115ms\tremaining: 769ms\n",
      "130:\tlearn: 0.2423294\ttotal: 115ms\tremaining: 765ms\n",
      "131:\tlearn: 0.2407144\ttotal: 116ms\tremaining: 761ms\n",
      "132:\tlearn: 0.2386326\ttotal: 116ms\tremaining: 757ms\n",
      "133:\tlearn: 0.2366111\ttotal: 117ms\tremaining: 755ms\n",
      "134:\tlearn: 0.2344815\ttotal: 117ms\tremaining: 751ms\n",
      "135:\tlearn: 0.2323811\ttotal: 118ms\tremaining: 747ms\n",
      "136:\tlearn: 0.2306892\ttotal: 118ms\tremaining: 742ms\n",
      "137:\tlearn: 0.2293634\ttotal: 118ms\tremaining: 739ms\n",
      "138:\tlearn: 0.2269990\ttotal: 119ms\tremaining: 736ms\n",
      "139:\tlearn: 0.2254359\ttotal: 119ms\tremaining: 732ms\n",
      "140:\tlearn: 0.2235273\ttotal: 119ms\tremaining: 728ms\n",
      "141:\tlearn: 0.2211599\ttotal: 120ms\tremaining: 725ms\n",
      "142:\tlearn: 0.2193624\ttotal: 120ms\tremaining: 722ms\n",
      "143:\tlearn: 0.2173618\ttotal: 121ms\tremaining: 719ms\n",
      "144:\tlearn: 0.2154167\ttotal: 121ms\tremaining: 715ms\n",
      "145:\tlearn: 0.2133053\ttotal: 122ms\tremaining: 712ms\n",
      "146:\tlearn: 0.2119720\ttotal: 122ms\tremaining: 709ms\n",
      "147:\tlearn: 0.2096877\ttotal: 123ms\tremaining: 706ms\n",
      "148:\tlearn: 0.2077464\ttotal: 123ms\tremaining: 702ms\n",
      "149:\tlearn: 0.2063757\ttotal: 123ms\tremaining: 700ms\n",
      "150:\tlearn: 0.2044280\ttotal: 124ms\tremaining: 697ms\n",
      "151:\tlearn: 0.2030423\ttotal: 124ms\tremaining: 694ms\n",
      "152:\tlearn: 0.2015298\ttotal: 125ms\tremaining: 691ms\n",
      "153:\tlearn: 0.1998379\ttotal: 125ms\tremaining: 688ms\n",
      "154:\tlearn: 0.1981960\ttotal: 126ms\tremaining: 686ms\n",
      "155:\tlearn: 0.1962718\ttotal: 126ms\tremaining: 683ms\n",
      "156:\tlearn: 0.1948888\ttotal: 127ms\tremaining: 681ms\n",
      "157:\tlearn: 0.1932857\ttotal: 127ms\tremaining: 678ms\n",
      "158:\tlearn: 0.1916733\ttotal: 128ms\tremaining: 675ms\n",
      "159:\tlearn: 0.1906290\ttotal: 128ms\tremaining: 673ms\n",
      "160:\tlearn: 0.1890782\ttotal: 129ms\tremaining: 671ms\n",
      "161:\tlearn: 0.1874944\ttotal: 129ms\tremaining: 668ms\n",
      "162:\tlearn: 0.1855770\ttotal: 130ms\tremaining: 666ms\n",
      "163:\tlearn: 0.1840904\ttotal: 130ms\tremaining: 663ms\n",
      "164:\tlearn: 0.1828894\ttotal: 131ms\tremaining: 661ms\n",
      "165:\tlearn: 0.1811665\ttotal: 131ms\tremaining: 659ms\n",
      "166:\tlearn: 0.1797898\ttotal: 132ms\tremaining: 656ms\n",
      "167:\tlearn: 0.1781369\ttotal: 132ms\tremaining: 654ms\n",
      "168:\tlearn: 0.1764849\ttotal: 133ms\tremaining: 652ms\n",
      "169:\tlearn: 0.1750664\ttotal: 133ms\tremaining: 649ms\n",
      "170:\tlearn: 0.1736085\ttotal: 134ms\tremaining: 647ms\n",
      "171:\tlearn: 0.1724517\ttotal: 134ms\tremaining: 645ms\n",
      "172:\tlearn: 0.1706857\ttotal: 135ms\tremaining: 643ms\n",
      "173:\tlearn: 0.1691876\ttotal: 135ms\tremaining: 641ms\n",
      "174:\tlearn: 0.1678606\ttotal: 135ms\tremaining: 639ms\n",
      "175:\tlearn: 0.1668207\ttotal: 136ms\tremaining: 636ms\n",
      "176:\tlearn: 0.1655586\ttotal: 136ms\tremaining: 634ms\n",
      "177:\tlearn: 0.1643838\ttotal: 137ms\tremaining: 632ms\n",
      "178:\tlearn: 0.1628102\ttotal: 137ms\tremaining: 630ms\n",
      "179:\tlearn: 0.1617999\ttotal: 138ms\tremaining: 628ms\n",
      "180:\tlearn: 0.1602144\ttotal: 138ms\tremaining: 625ms\n",
      "181:\tlearn: 0.1589047\ttotal: 139ms\tremaining: 623ms\n",
      "182:\tlearn: 0.1576722\ttotal: 139ms\tremaining: 621ms\n",
      "183:\tlearn: 0.1565538\ttotal: 140ms\tremaining: 620ms\n",
      "184:\tlearn: 0.1555490\ttotal: 140ms\tremaining: 617ms\n",
      "185:\tlearn: 0.1542537\ttotal: 141ms\tremaining: 615ms\n",
      "186:\tlearn: 0.1533403\ttotal: 141ms\tremaining: 613ms\n",
      "187:\tlearn: 0.1522953\ttotal: 141ms\tremaining: 611ms\n",
      "188:\tlearn: 0.1510628\ttotal: 142ms\tremaining: 610ms\n",
      "189:\tlearn: 0.1498203\ttotal: 143ms\tremaining: 608ms\n",
      "190:\tlearn: 0.1490245\ttotal: 143ms\tremaining: 607ms\n",
      "191:\tlearn: 0.1478699\ttotal: 144ms\tremaining: 605ms\n",
      "192:\tlearn: 0.1470675\ttotal: 144ms\tremaining: 604ms\n",
      "193:\tlearn: 0.1458227\ttotal: 145ms\tremaining: 602ms\n",
      "194:\tlearn: 0.1444705\ttotal: 145ms\tremaining: 599ms\n",
      "195:\tlearn: 0.1433758\ttotal: 146ms\tremaining: 597ms\n",
      "196:\tlearn: 0.1422260\ttotal: 146ms\tremaining: 597ms\n",
      "197:\tlearn: 0.1411059\ttotal: 147ms\tremaining: 595ms\n",
      "198:\tlearn: 0.1396716\ttotal: 147ms\tremaining: 594ms\n",
      "199:\tlearn: 0.1388222\ttotal: 148ms\tremaining: 591ms\n",
      "200:\tlearn: 0.1379775\ttotal: 149ms\tremaining: 590ms\n",
      "201:\tlearn: 0.1369952\ttotal: 149ms\tremaining: 588ms\n",
      "202:\tlearn: 0.1360875\ttotal: 149ms\tremaining: 586ms\n",
      "203:\tlearn: 0.1350846\ttotal: 150ms\tremaining: 584ms\n",
      "204:\tlearn: 0.1341939\ttotal: 150ms\tremaining: 583ms\n",
      "205:\tlearn: 0.1330807\ttotal: 151ms\tremaining: 580ms\n",
      "206:\tlearn: 0.1321963\ttotal: 151ms\tremaining: 578ms\n",
      "207:\tlearn: 0.1312093\ttotal: 151ms\tremaining: 576ms\n",
      "208:\tlearn: 0.1301965\ttotal: 152ms\tremaining: 574ms\n",
      "209:\tlearn: 0.1294957\ttotal: 152ms\tremaining: 572ms\n",
      "210:\tlearn: 0.1286786\ttotal: 153ms\tremaining: 571ms\n",
      "211:\tlearn: 0.1277424\ttotal: 153ms\tremaining: 569ms\n",
      "212:\tlearn: 0.1266938\ttotal: 153ms\tremaining: 567ms\n",
      "213:\tlearn: 0.1261535\ttotal: 154ms\tremaining: 565ms\n",
      "214:\tlearn: 0.1250514\ttotal: 154ms\tremaining: 564ms\n",
      "215:\tlearn: 0.1242029\ttotal: 155ms\tremaining: 563ms\n",
      "216:\tlearn: 0.1232104\ttotal: 156ms\tremaining: 562ms\n",
      "217:\tlearn: 0.1225472\ttotal: 157ms\tremaining: 562ms\n",
      "218:\tlearn: 0.1217892\ttotal: 157ms\tremaining: 561ms\n",
      "219:\tlearn: 0.1210534\ttotal: 158ms\tremaining: 560ms\n",
      "220:\tlearn: 0.1200555\ttotal: 158ms\tremaining: 557ms\n",
      "221:\tlearn: 0.1194234\ttotal: 158ms\tremaining: 555ms\n",
      "222:\tlearn: 0.1185370\ttotal: 159ms\tremaining: 554ms\n",
      "223:\tlearn: 0.1178158\ttotal: 159ms\tremaining: 552ms\n",
      "224:\tlearn: 0.1169798\ttotal: 160ms\tremaining: 550ms\n",
      "225:\tlearn: 0.1160499\ttotal: 160ms\tremaining: 548ms\n",
      "226:\tlearn: 0.1156072\ttotal: 161ms\tremaining: 547ms\n",
      "227:\tlearn: 0.1149947\ttotal: 161ms\tremaining: 545ms\n",
      "228:\tlearn: 0.1141129\ttotal: 162ms\tremaining: 544ms\n",
      "229:\tlearn: 0.1131984\ttotal: 162ms\tremaining: 543ms\n",
      "230:\tlearn: 0.1124425\ttotal: 163ms\tremaining: 541ms\n",
      "231:\tlearn: 0.1120624\ttotal: 163ms\tremaining: 540ms\n",
      "232:\tlearn: 0.1115198\ttotal: 163ms\tremaining: 538ms\n",
      "233:\tlearn: 0.1109374\ttotal: 164ms\tremaining: 536ms\n",
      "234:\tlearn: 0.1101649\ttotal: 164ms\tremaining: 535ms\n",
      "235:\tlearn: 0.1094044\ttotal: 165ms\tremaining: 533ms\n",
      "236:\tlearn: 0.1086590\ttotal: 165ms\tremaining: 531ms\n",
      "237:\tlearn: 0.1080936\ttotal: 165ms\tremaining: 530ms\n",
      "238:\tlearn: 0.1072628\ttotal: 166ms\tremaining: 528ms\n",
      "239:\tlearn: 0.1063759\ttotal: 166ms\tremaining: 526ms\n",
      "240:\tlearn: 0.1058682\ttotal: 167ms\tremaining: 525ms\n",
      "241:\tlearn: 0.1049911\ttotal: 167ms\tremaining: 524ms\n",
      "242:\tlearn: 0.1044999\ttotal: 168ms\tremaining: 522ms\n",
      "243:\tlearn: 0.1040088\ttotal: 168ms\tremaining: 521ms\n",
      "244:\tlearn: 0.1033457\ttotal: 169ms\tremaining: 520ms\n",
      "245:\tlearn: 0.1027627\ttotal: 169ms\tremaining: 519ms\n",
      "246:\tlearn: 0.1021285\ttotal: 170ms\tremaining: 517ms\n",
      "247:\tlearn: 0.1015372\ttotal: 170ms\tremaining: 516ms\n",
      "248:\tlearn: 0.1007193\ttotal: 170ms\tremaining: 514ms\n",
      "249:\tlearn: 0.1003810\ttotal: 171ms\tremaining: 513ms\n",
      "250:\tlearn: 0.0998071\ttotal: 171ms\tremaining: 511ms\n",
      "251:\tlearn: 0.0992235\ttotal: 172ms\tremaining: 509ms\n",
      "252:\tlearn: 0.0988910\ttotal: 172ms\tremaining: 507ms\n",
      "253:\tlearn: 0.0982137\ttotal: 172ms\tremaining: 506ms\n",
      "254:\tlearn: 0.0978021\ttotal: 173ms\tremaining: 505ms\n",
      "255:\tlearn: 0.0972832\ttotal: 173ms\tremaining: 504ms\n",
      "256:\tlearn: 0.0969806\ttotal: 174ms\tremaining: 502ms\n",
      "257:\tlearn: 0.0966121\ttotal: 174ms\tremaining: 501ms\n",
      "258:\tlearn: 0.0959575\ttotal: 175ms\tremaining: 500ms\n",
      "259:\tlearn: 0.0955765\ttotal: 175ms\tremaining: 498ms\n",
      "260:\tlearn: 0.0949554\ttotal: 176ms\tremaining: 497ms\n",
      "261:\tlearn: 0.0943280\ttotal: 176ms\tremaining: 496ms\n",
      "262:\tlearn: 0.0938770\ttotal: 176ms\tremaining: 495ms\n",
      "263:\tlearn: 0.0933979\ttotal: 177ms\tremaining: 493ms\n",
      "264:\tlearn: 0.0930783\ttotal: 177ms\tremaining: 492ms\n",
      "265:\tlearn: 0.0927189\ttotal: 178ms\tremaining: 491ms\n",
      "266:\tlearn: 0.0919955\ttotal: 178ms\tremaining: 490ms\n",
      "267:\tlearn: 0.0916641\ttotal: 179ms\tremaining: 489ms\n",
      "268:\tlearn: 0.0910846\ttotal: 179ms\tremaining: 487ms\n",
      "269:\tlearn: 0.0907289\ttotal: 180ms\tremaining: 486ms\n",
      "270:\tlearn: 0.0901255\ttotal: 180ms\tremaining: 485ms\n",
      "271:\tlearn: 0.0893617\ttotal: 181ms\tremaining: 483ms\n",
      "272:\tlearn: 0.0890428\ttotal: 181ms\tremaining: 482ms\n",
      "273:\tlearn: 0.0887908\ttotal: 182ms\tremaining: 482ms\n",
      "274:\tlearn: 0.0885437\ttotal: 182ms\tremaining: 480ms\n",
      "275:\tlearn: 0.0883305\ttotal: 183ms\tremaining: 479ms\n",
      "276:\tlearn: 0.0879301\ttotal: 183ms\tremaining: 478ms\n",
      "277:\tlearn: 0.0876326\ttotal: 184ms\tremaining: 477ms\n",
      "278:\tlearn: 0.0870634\ttotal: 184ms\tremaining: 476ms\n",
      "279:\tlearn: 0.0865515\ttotal: 185ms\tremaining: 475ms\n",
      "280:\tlearn: 0.0860137\ttotal: 185ms\tremaining: 474ms\n",
      "281:\tlearn: 0.0855101\ttotal: 185ms\tremaining: 472ms\n"
     ]
    },
    {
     "name": "stdout",
     "output_type": "stream",
     "text": [
      "282:\tlearn: 0.0849498\ttotal: 186ms\tremaining: 472ms\n",
      "283:\tlearn: 0.0846541\ttotal: 187ms\tremaining: 471ms\n",
      "284:\tlearn: 0.0841446\ttotal: 187ms\tremaining: 470ms\n",
      "285:\tlearn: 0.0835034\ttotal: 188ms\tremaining: 468ms\n",
      "286:\tlearn: 0.0832682\ttotal: 188ms\tremaining: 467ms\n",
      "287:\tlearn: 0.0830364\ttotal: 188ms\tremaining: 466ms\n",
      "288:\tlearn: 0.0828099\ttotal: 189ms\tremaining: 465ms\n",
      "289:\tlearn: 0.0824747\ttotal: 190ms\tremaining: 464ms\n",
      "290:\tlearn: 0.0822397\ttotal: 190ms\tremaining: 463ms\n",
      "291:\tlearn: 0.0817346\ttotal: 191ms\tremaining: 462ms\n",
      "292:\tlearn: 0.0811596\ttotal: 191ms\tremaining: 461ms\n",
      "293:\tlearn: 0.0806874\ttotal: 191ms\tremaining: 460ms\n",
      "294:\tlearn: 0.0804153\ttotal: 192ms\tremaining: 459ms\n",
      "295:\tlearn: 0.0797587\ttotal: 192ms\tremaining: 458ms\n",
      "296:\tlearn: 0.0795509\ttotal: 193ms\tremaining: 457ms\n",
      "297:\tlearn: 0.0793468\ttotal: 193ms\tremaining: 456ms\n",
      "298:\tlearn: 0.0789696\ttotal: 194ms\tremaining: 454ms\n",
      "299:\tlearn: 0.0784543\ttotal: 194ms\tremaining: 453ms\n",
      "300:\tlearn: 0.0782723\ttotal: 195ms\tremaining: 452ms\n",
      "301:\tlearn: 0.0776350\ttotal: 195ms\tremaining: 451ms\n",
      "302:\tlearn: 0.0773947\ttotal: 196ms\tremaining: 450ms\n",
      "303:\tlearn: 0.0768993\ttotal: 196ms\tremaining: 449ms\n",
      "304:\tlearn: 0.0762904\ttotal: 197ms\tremaining: 448ms\n",
      "305:\tlearn: 0.0758365\ttotal: 197ms\tremaining: 447ms\n",
      "306:\tlearn: 0.0756516\ttotal: 197ms\tremaining: 445ms\n",
      "307:\tlearn: 0.0751719\ttotal: 198ms\tremaining: 444ms\n",
      "308:\tlearn: 0.0747083\ttotal: 198ms\tremaining: 443ms\n",
      "309:\tlearn: 0.0744089\ttotal: 199ms\tremaining: 442ms\n",
      "310:\tlearn: 0.0740747\ttotal: 199ms\tremaining: 441ms\n",
      "311:\tlearn: 0.0738480\ttotal: 199ms\tremaining: 440ms\n",
      "312:\tlearn: 0.0736700\ttotal: 200ms\tremaining: 438ms\n",
      "313:\tlearn: 0.0734959\ttotal: 200ms\tremaining: 437ms\n",
      "314:\tlearn: 0.0732802\ttotal: 201ms\tremaining: 436ms\n",
      "315:\tlearn: 0.0730070\ttotal: 201ms\tremaining: 435ms\n",
      "316:\tlearn: 0.0727771\ttotal: 202ms\tremaining: 434ms\n",
      "317:\tlearn: 0.0724634\ttotal: 202ms\tremaining: 433ms\n",
      "318:\tlearn: 0.0720323\ttotal: 202ms\tremaining: 432ms\n",
      "319:\tlearn: 0.0715775\ttotal: 203ms\tremaining: 431ms\n",
      "320:\tlearn: 0.0711175\ttotal: 203ms\tremaining: 430ms\n",
      "321:\tlearn: 0.0706953\ttotal: 203ms\tremaining: 428ms\n",
      "322:\tlearn: 0.0701309\ttotal: 204ms\tremaining: 427ms\n",
      "323:\tlearn: 0.0699194\ttotal: 204ms\tremaining: 426ms\n",
      "324:\tlearn: 0.0697594\ttotal: 205ms\tremaining: 425ms\n",
      "325:\tlearn: 0.0695510\ttotal: 205ms\tremaining: 424ms\n",
      "326:\tlearn: 0.0693457\ttotal: 206ms\tremaining: 423ms\n",
      "327:\tlearn: 0.0691890\ttotal: 206ms\tremaining: 422ms\n",
      "328:\tlearn: 0.0689825\ttotal: 206ms\tremaining: 421ms\n",
      "329:\tlearn: 0.0684445\ttotal: 207ms\tremaining: 420ms\n",
      "330:\tlearn: 0.0679212\ttotal: 207ms\tremaining: 419ms\n",
      "331:\tlearn: 0.0677833\ttotal: 208ms\tremaining: 418ms\n",
      "332:\tlearn: 0.0676311\ttotal: 208ms\tremaining: 417ms\n",
      "333:\tlearn: 0.0674339\ttotal: 209ms\tremaining: 416ms\n",
      "334:\tlearn: 0.0668937\ttotal: 209ms\tremaining: 415ms\n",
      "335:\tlearn: 0.0663671\ttotal: 209ms\tremaining: 414ms\n",
      "336:\tlearn: 0.0661809\ttotal: 210ms\tremaining: 413ms\n",
      "337:\tlearn: 0.0660454\ttotal: 210ms\tremaining: 412ms\n",
      "338:\tlearn: 0.0655324\ttotal: 211ms\tremaining: 411ms\n",
      "339:\tlearn: 0.0650254\ttotal: 211ms\tremaining: 410ms\n",
      "340:\tlearn: 0.0645180\ttotal: 212ms\tremaining: 409ms\n",
      "341:\tlearn: 0.0641167\ttotal: 212ms\tremaining: 408ms\n",
      "342:\tlearn: 0.0639841\ttotal: 212ms\tremaining: 407ms\n",
      "343:\tlearn: 0.0638100\ttotal: 213ms\tremaining: 406ms\n",
      "344:\tlearn: 0.0636342\ttotal: 213ms\tremaining: 405ms\n",
      "345:\tlearn: 0.0631566\ttotal: 214ms\tremaining: 404ms\n",
      "346:\tlearn: 0.0630170\ttotal: 214ms\tremaining: 403ms\n",
      "347:\tlearn: 0.0626580\ttotal: 214ms\tremaining: 402ms\n",
      "348:\tlearn: 0.0621848\ttotal: 215ms\tremaining: 401ms\n",
      "349:\tlearn: 0.0617228\ttotal: 215ms\tremaining: 400ms\n",
      "350:\tlearn: 0.0612625\ttotal: 216ms\tremaining: 399ms\n",
      "351:\tlearn: 0.0611295\ttotal: 216ms\tremaining: 398ms\n",
      "352:\tlearn: 0.0607183\ttotal: 216ms\tremaining: 397ms\n",
      "353:\tlearn: 0.0603244\ttotal: 217ms\tremaining: 396ms\n",
      "354:\tlearn: 0.0598771\ttotal: 217ms\tremaining: 395ms\n",
      "355:\tlearn: 0.0595262\ttotal: 218ms\tremaining: 394ms\n",
      "356:\tlearn: 0.0594139\ttotal: 218ms\tremaining: 393ms\n",
      "357:\tlearn: 0.0592915\ttotal: 219ms\tremaining: 393ms\n",
      "358:\tlearn: 0.0588203\ttotal: 219ms\tremaining: 392ms\n",
      "359:\tlearn: 0.0583558\ttotal: 220ms\tremaining: 391ms\n",
      "360:\tlearn: 0.0582220\ttotal: 220ms\tremaining: 390ms\n",
      "361:\tlearn: 0.0579015\ttotal: 221ms\tremaining: 389ms\n",
      "362:\tlearn: 0.0574483\ttotal: 221ms\tremaining: 388ms\n",
      "363:\tlearn: 0.0570600\ttotal: 222ms\tremaining: 387ms\n",
      "364:\tlearn: 0.0566530\ttotal: 222ms\tremaining: 386ms\n",
      "365:\tlearn: 0.0565502\ttotal: 222ms\tremaining: 385ms\n",
      "366:\tlearn: 0.0563621\ttotal: 223ms\tremaining: 385ms\n",
      "367:\tlearn: 0.0559628\ttotal: 223ms\tremaining: 384ms\n",
      "368:\tlearn: 0.0555688\ttotal: 224ms\tremaining: 383ms\n",
      "369:\tlearn: 0.0551975\ttotal: 224ms\tremaining: 382ms\n",
      "370:\tlearn: 0.0548989\ttotal: 225ms\tremaining: 382ms\n",
      "371:\tlearn: 0.0548020\ttotal: 226ms\tremaining: 381ms\n",
      "372:\tlearn: 0.0546820\ttotal: 226ms\tremaining: 380ms\n",
      "373:\tlearn: 0.0543039\ttotal: 226ms\tremaining: 379ms\n",
      "374:\tlearn: 0.0539482\ttotal: 227ms\tremaining: 378ms\n",
      "375:\tlearn: 0.0536627\ttotal: 227ms\tremaining: 377ms\n",
      "376:\tlearn: 0.0533148\ttotal: 228ms\tremaining: 377ms\n",
      "377:\tlearn: 0.0532089\ttotal: 228ms\tremaining: 376ms\n",
      "378:\tlearn: 0.0529271\ttotal: 229ms\tremaining: 375ms\n",
      "379:\tlearn: 0.0525879\ttotal: 229ms\tremaining: 374ms\n",
      "380:\tlearn: 0.0522539\ttotal: 229ms\tremaining: 373ms\n",
      "381:\tlearn: 0.0519802\ttotal: 230ms\tremaining: 372ms\n",
      "382:\tlearn: 0.0517096\ttotal: 230ms\tremaining: 371ms\n",
      "383:\tlearn: 0.0516085\ttotal: 231ms\tremaining: 371ms\n",
      "384:\tlearn: 0.0512825\ttotal: 231ms\tremaining: 370ms\n",
      "385:\tlearn: 0.0510179\ttotal: 232ms\tremaining: 369ms\n",
      "386:\tlearn: 0.0509335\ttotal: 232ms\tremaining: 368ms\n",
      "387:\tlearn: 0.0506190\ttotal: 233ms\tremaining: 367ms\n",
      "388:\tlearn: 0.0502731\ttotal: 233ms\tremaining: 366ms\n",
      "389:\tlearn: 0.0501774\ttotal: 234ms\tremaining: 365ms\n",
      "390:\tlearn: 0.0498704\ttotal: 234ms\tremaining: 364ms\n",
      "391:\tlearn: 0.0495337\ttotal: 234ms\tremaining: 364ms\n",
      "392:\tlearn: 0.0492022\ttotal: 235ms\tremaining: 363ms\n",
      "393:\tlearn: 0.0491101\ttotal: 235ms\tremaining: 362ms\n",
      "394:\tlearn: 0.0488046\ttotal: 236ms\tremaining: 361ms\n",
      "395:\tlearn: 0.0485129\ttotal: 236ms\tremaining: 360ms\n",
      "396:\tlearn: 0.0482139\ttotal: 236ms\tremaining: 359ms\n",
      "397:\tlearn: 0.0481254\ttotal: 237ms\tremaining: 358ms\n",
      "398:\tlearn: 0.0478406\ttotal: 237ms\tremaining: 357ms\n",
      "399:\tlearn: 0.0475592\ttotal: 237ms\tremaining: 356ms\n",
      "400:\tlearn: 0.0472842\ttotal: 238ms\tremaining: 355ms\n",
      "401:\tlearn: 0.0470106\ttotal: 238ms\tremaining: 355ms\n",
      "402:\tlearn: 0.0467709\ttotal: 239ms\tremaining: 354ms\n",
      "403:\tlearn: 0.0464658\ttotal: 239ms\tremaining: 353ms\n",
      "404:\tlearn: 0.0461652\ttotal: 240ms\tremaining: 352ms\n",
      "405:\tlearn: 0.0458689\ttotal: 240ms\tremaining: 351ms\n",
      "406:\tlearn: 0.0456156\ttotal: 241ms\tremaining: 351ms\n",
      "407:\tlearn: 0.0453599\ttotal: 241ms\tremaining: 350ms\n",
      "408:\tlearn: 0.0452819\ttotal: 242ms\tremaining: 349ms\n",
      "409:\tlearn: 0.0449916\ttotal: 242ms\tremaining: 348ms\n",
      "410:\tlearn: 0.0447420\ttotal: 243ms\tremaining: 348ms\n",
      "411:\tlearn: 0.0446662\ttotal: 243ms\tremaining: 347ms\n",
      "412:\tlearn: 0.0443836\ttotal: 243ms\tremaining: 346ms\n",
      "413:\tlearn: 0.0441400\ttotal: 244ms\tremaining: 345ms\n",
      "414:\tlearn: 0.0438631\ttotal: 244ms\tremaining: 344ms\n",
      "415:\tlearn: 0.0436311\ttotal: 245ms\tremaining: 343ms\n",
      "416:\tlearn: 0.0433594\ttotal: 245ms\tremaining: 343ms\n",
      "417:\tlearn: 0.0431324\ttotal: 246ms\tremaining: 342ms\n",
      "418:\tlearn: 0.0429091\ttotal: 246ms\tremaining: 341ms\n",
      "419:\tlearn: 0.0426446\ttotal: 246ms\tremaining: 340ms\n",
      "420:\tlearn: 0.0425738\ttotal: 247ms\tremaining: 339ms\n",
      "421:\tlearn: 0.0423557\ttotal: 247ms\tremaining: 339ms\n",
      "422:\tlearn: 0.0420982\ttotal: 248ms\tremaining: 338ms\n",
      "423:\tlearn: 0.0420293\ttotal: 248ms\tremaining: 337ms\n",
      "424:\tlearn: 0.0418316\ttotal: 249ms\tremaining: 337ms\n",
      "425:\tlearn: 0.0416196\ttotal: 249ms\tremaining: 336ms\n",
      "426:\tlearn: 0.0413670\ttotal: 250ms\tremaining: 335ms\n",
      "427:\tlearn: 0.0411553\ttotal: 250ms\tremaining: 334ms\n",
      "428:\tlearn: 0.0409113\ttotal: 250ms\tremaining: 333ms\n",
      "429:\tlearn: 0.0407092\ttotal: 251ms\tremaining: 333ms\n",
      "430:\tlearn: 0.0404710\ttotal: 251ms\tremaining: 332ms\n",
      "431:\tlearn: 0.0402733\ttotal: 252ms\tremaining: 331ms\n",
      "432:\tlearn: 0.0400759\ttotal: 252ms\tremaining: 330ms\n",
      "433:\tlearn: 0.0400119\ttotal: 253ms\tremaining: 329ms\n",
      "434:\tlearn: 0.0397753\ttotal: 253ms\tremaining: 329ms\n",
      "435:\tlearn: 0.0395379\ttotal: 254ms\tremaining: 328ms\n",
      "436:\tlearn: 0.0394754\ttotal: 254ms\tremaining: 327ms\n",
      "437:\tlearn: 0.0392417\ttotal: 255ms\tremaining: 327ms\n",
      "438:\tlearn: 0.0390135\ttotal: 255ms\tremaining: 326ms\n",
      "439:\tlearn: 0.0388277\ttotal: 256ms\tremaining: 325ms\n",
      "440:\tlearn: 0.0386038\ttotal: 256ms\tremaining: 324ms\n",
      "441:\tlearn: 0.0383853\ttotal: 256ms\tremaining: 323ms\n",
      "442:\tlearn: 0.0382062\ttotal: 257ms\tremaining: 323ms\n",
      "443:\tlearn: 0.0379888\ttotal: 257ms\tremaining: 322ms\n",
      "444:\tlearn: 0.0377782\ttotal: 257ms\tremaining: 321ms\n",
      "445:\tlearn: 0.0376057\ttotal: 258ms\tremaining: 320ms\n",
      "446:\tlearn: 0.0373934\ttotal: 258ms\tremaining: 319ms\n",
      "447:\tlearn: 0.0372328\ttotal: 258ms\tremaining: 318ms\n",
      "448:\tlearn: 0.0370249\ttotal: 259ms\tremaining: 318ms\n",
      "449:\tlearn: 0.0368604\ttotal: 259ms\tremaining: 317ms\n",
      "450:\tlearn: 0.0366372\ttotal: 260ms\tremaining: 316ms\n",
      "451:\tlearn: 0.0365807\ttotal: 260ms\tremaining: 315ms\n",
      "452:\tlearn: 0.0363612\ttotal: 260ms\tremaining: 314ms\n",
      "453:\tlearn: 0.0361452\ttotal: 261ms\tremaining: 314ms\n",
      "454:\tlearn: 0.0360294\ttotal: 261ms\tremaining: 313ms\n",
      "455:\tlearn: 0.0358406\ttotal: 262ms\tremaining: 312ms\n",
      "456:\tlearn: 0.0357277\ttotal: 262ms\tremaining: 312ms\n",
      "457:\tlearn: 0.0356732\ttotal: 263ms\tremaining: 311ms\n",
      "458:\tlearn: 0.0356196\ttotal: 264ms\tremaining: 311ms\n",
      "459:\tlearn: 0.0354110\ttotal: 265ms\tremaining: 311ms\n",
      "460:\tlearn: 0.0352056\ttotal: 265ms\tremaining: 310ms\n",
      "461:\tlearn: 0.0350654\ttotal: 265ms\tremaining: 309ms\n",
      "462:\tlearn: 0.0348639\ttotal: 266ms\tremaining: 308ms\n",
      "463:\tlearn: 0.0347576\ttotal: 266ms\tremaining: 308ms\n",
      "464:\tlearn: 0.0347061\ttotal: 267ms\tremaining: 307ms\n",
      "465:\tlearn: 0.0345280\ttotal: 267ms\tremaining: 306ms\n",
      "466:\tlearn: 0.0343323\ttotal: 268ms\tremaining: 305ms\n",
      "467:\tlearn: 0.0341979\ttotal: 268ms\tremaining: 305ms\n",
      "468:\tlearn: 0.0340161\ttotal: 269ms\tremaining: 304ms\n",
      "469:\tlearn: 0.0339190\ttotal: 269ms\tremaining: 303ms\n",
      "470:\tlearn: 0.0337406\ttotal: 270ms\tremaining: 303ms\n",
      "471:\tlearn: 0.0336013\ttotal: 270ms\tremaining: 302ms\n",
      "472:\tlearn: 0.0335031\ttotal: 270ms\tremaining: 301ms\n",
      "473:\tlearn: 0.0333296\ttotal: 271ms\tremaining: 301ms\n",
      "474:\tlearn: 0.0332450\ttotal: 271ms\tremaining: 300ms\n",
      "475:\tlearn: 0.0330748\ttotal: 272ms\tremaining: 299ms\n",
      "476:\tlearn: 0.0329917\ttotal: 272ms\tremaining: 298ms\n",
      "477:\tlearn: 0.0328246\ttotal: 273ms\tremaining: 298ms\n",
      "478:\tlearn: 0.0326602\ttotal: 273ms\tremaining: 297ms\n",
      "479:\tlearn: 0.0325414\ttotal: 274ms\tremaining: 296ms\n",
      "480:\tlearn: 0.0323804\ttotal: 274ms\tremaining: 296ms\n",
      "481:\tlearn: 0.0322230\ttotal: 274ms\tremaining: 295ms\n",
      "482:\tlearn: 0.0320679\ttotal: 275ms\tremaining: 294ms\n",
      "483:\tlearn: 0.0319152\ttotal: 275ms\tremaining: 293ms\n",
      "484:\tlearn: 0.0317605\ttotal: 275ms\tremaining: 292ms\n",
      "485:\tlearn: 0.0316114\ttotal: 276ms\tremaining: 292ms\n",
      "486:\tlearn: 0.0314722\ttotal: 276ms\tremaining: 291ms\n",
      "487:\tlearn: 0.0313351\ttotal: 277ms\tremaining: 290ms\n",
      "488:\tlearn: 0.0311864\ttotal: 277ms\tremaining: 290ms\n",
      "489:\tlearn: 0.0310506\ttotal: 277ms\tremaining: 289ms\n",
      "490:\tlearn: 0.0309046\ttotal: 278ms\tremaining: 288ms\n",
      "491:\tlearn: 0.0307604\ttotal: 278ms\tremaining: 287ms\n",
      "492:\tlearn: 0.0306287\ttotal: 279ms\tremaining: 287ms\n",
      "493:\tlearn: 0.0305007\ttotal: 279ms\tremaining: 286ms\n",
      "494:\tlearn: 0.0303609\ttotal: 280ms\tremaining: 285ms\n",
      "495:\tlearn: 0.0302359\ttotal: 280ms\tremaining: 284ms\n",
      "496:\tlearn: 0.0301127\ttotal: 280ms\tremaining: 284ms\n",
      "497:\tlearn: 0.0299462\ttotal: 281ms\tremaining: 283ms\n",
      "498:\tlearn: 0.0298255\ttotal: 281ms\tremaining: 282ms\n",
      "499:\tlearn: 0.0297041\ttotal: 282ms\tremaining: 282ms\n",
      "500:\tlearn: 0.0295434\ttotal: 282ms\tremaining: 281ms\n",
      "501:\tlearn: 0.0294246\ttotal: 282ms\tremaining: 280ms\n",
      "502:\tlearn: 0.0293077\ttotal: 283ms\tremaining: 279ms\n",
      "503:\tlearn: 0.0291747\ttotal: 283ms\tremaining: 279ms\n",
      "504:\tlearn: 0.0290150\ttotal: 284ms\tremaining: 278ms\n",
      "505:\tlearn: 0.0288584\ttotal: 284ms\tremaining: 277ms\n",
      "506:\tlearn: 0.0287288\ttotal: 284ms\tremaining: 277ms\n",
      "507:\tlearn: 0.0286146\ttotal: 285ms\tremaining: 276ms\n",
      "508:\tlearn: 0.0284624\ttotal: 285ms\tremaining: 275ms\n",
      "509:\tlearn: 0.0283361\ttotal: 286ms\tremaining: 275ms\n",
      "510:\tlearn: 0.0281875\ttotal: 286ms\tremaining: 274ms\n"
     ]
    },
    {
     "name": "stdout",
     "output_type": "stream",
     "text": [
      "511:\tlearn: 0.0280774\ttotal: 287ms\tremaining: 274ms\n",
      "512:\tlearn: 0.0279543\ttotal: 288ms\tremaining: 273ms\n",
      "513:\tlearn: 0.0278155\ttotal: 288ms\tremaining: 272ms\n",
      "514:\tlearn: 0.0276792\ttotal: 288ms\tremaining: 272ms\n",
      "515:\tlearn: 0.0275453\ttotal: 289ms\tremaining: 271ms\n",
      "516:\tlearn: 0.0274050\ttotal: 290ms\tremaining: 271ms\n",
      "517:\tlearn: 0.0272861\ttotal: 290ms\tremaining: 270ms\n",
      "518:\tlearn: 0.0271565\ttotal: 291ms\tremaining: 269ms\n",
      "519:\tlearn: 0.0270435\ttotal: 291ms\tremaining: 269ms\n",
      "520:\tlearn: 0.0269447\ttotal: 292ms\tremaining: 268ms\n",
      "521:\tlearn: 0.0268186\ttotal: 292ms\tremaining: 268ms\n",
      "522:\tlearn: 0.0267090\ttotal: 293ms\tremaining: 267ms\n",
      "523:\tlearn: 0.0266129\ttotal: 293ms\tremaining: 266ms\n",
      "524:\tlearn: 0.0265182\ttotal: 293ms\tremaining: 265ms\n",
      "525:\tlearn: 0.0263961\ttotal: 294ms\tremaining: 265ms\n",
      "526:\tlearn: 0.0262593\ttotal: 294ms\tremaining: 264ms\n",
      "527:\tlearn: 0.0261298\ttotal: 295ms\tremaining: 263ms\n",
      "528:\tlearn: 0.0260253\ttotal: 295ms\tremaining: 263ms\n",
      "529:\tlearn: 0.0258572\ttotal: 296ms\tremaining: 262ms\n",
      "530:\tlearn: 0.0257501\ttotal: 296ms\tremaining: 261ms\n",
      "531:\tlearn: 0.0256449\ttotal: 296ms\tremaining: 261ms\n",
      "532:\tlearn: 0.0255415\ttotal: 297ms\tremaining: 260ms\n",
      "533:\tlearn: 0.0254399\ttotal: 297ms\tremaining: 260ms\n",
      "534:\tlearn: 0.0253247\ttotal: 298ms\tremaining: 259ms\n",
      "535:\tlearn: 0.0252255\ttotal: 298ms\tremaining: 258ms\n",
      "536:\tlearn: 0.0251310\ttotal: 299ms\tremaining: 258ms\n",
      "537:\tlearn: 0.0250381\ttotal: 299ms\tremaining: 257ms\n",
      "538:\tlearn: 0.0249267\ttotal: 300ms\tremaining: 256ms\n",
      "539:\tlearn: 0.0248330\ttotal: 300ms\tremaining: 256ms\n",
      "540:\tlearn: 0.0247319\ttotal: 301ms\tremaining: 255ms\n",
      "541:\tlearn: 0.0246440\ttotal: 301ms\tremaining: 254ms\n",
      "542:\tlearn: 0.0245361\ttotal: 301ms\tremaining: 254ms\n",
      "543:\tlearn: 0.0244385\ttotal: 302ms\tremaining: 253ms\n",
      "544:\tlearn: 0.0243538\ttotal: 302ms\tremaining: 252ms\n",
      "545:\tlearn: 0.0242706\ttotal: 303ms\tremaining: 252ms\n",
      "546:\tlearn: 0.0241888\ttotal: 303ms\tremaining: 251ms\n",
      "547:\tlearn: 0.0240702\ttotal: 304ms\tremaining: 250ms\n",
      "548:\tlearn: 0.0239783\ttotal: 304ms\tremaining: 250ms\n",
      "549:\tlearn: 0.0238881\ttotal: 305ms\tremaining: 249ms\n",
      "550:\tlearn: 0.0237997\ttotal: 305ms\tremaining: 249ms\n",
      "551:\tlearn: 0.0237230\ttotal: 305ms\tremaining: 248ms\n",
      "552:\tlearn: 0.0236082\ttotal: 306ms\tremaining: 247ms\n",
      "553:\tlearn: 0.0234994\ttotal: 306ms\tremaining: 247ms\n",
      "554:\tlearn: 0.0233931\ttotal: 307ms\tremaining: 246ms\n",
      "555:\tlearn: 0.0232811\ttotal: 307ms\tremaining: 245ms\n",
      "556:\tlearn: 0.0231774\ttotal: 307ms\tremaining: 244ms\n",
      "557:\tlearn: 0.0230760\ttotal: 308ms\tremaining: 244ms\n",
      "558:\tlearn: 0.0229775\ttotal: 308ms\tremaining: 243ms\n",
      "559:\tlearn: 0.0228790\ttotal: 308ms\tremaining: 242ms\n",
      "560:\tlearn: 0.0227825\ttotal: 309ms\tremaining: 242ms\n",
      "561:\tlearn: 0.0226869\ttotal: 310ms\tremaining: 242ms\n",
      "562:\tlearn: 0.0225787\ttotal: 311ms\tremaining: 241ms\n",
      "563:\tlearn: 0.0224857\ttotal: 311ms\tremaining: 241ms\n",
      "564:\tlearn: 0.0224116\ttotal: 312ms\tremaining: 240ms\n",
      "565:\tlearn: 0.0223197\ttotal: 312ms\tremaining: 239ms\n",
      "566:\tlearn: 0.0222294\ttotal: 312ms\tremaining: 238ms\n",
      "567:\tlearn: 0.0221260\ttotal: 313ms\tremaining: 238ms\n",
      "568:\tlearn: 0.0220544\ttotal: 313ms\tremaining: 237ms\n",
      "569:\tlearn: 0.0219225\ttotal: 314ms\tremaining: 237ms\n",
      "570:\tlearn: 0.0218347\ttotal: 314ms\tremaining: 236ms\n",
      "571:\tlearn: 0.0217224\ttotal: 314ms\tremaining: 235ms\n",
      "572:\tlearn: 0.0216363\ttotal: 315ms\tremaining: 235ms\n",
      "573:\tlearn: 0.0215100\ttotal: 315ms\tremaining: 234ms\n",
      "574:\tlearn: 0.0214251\ttotal: 315ms\tremaining: 233ms\n",
      "575:\tlearn: 0.0213174\ttotal: 316ms\tremaining: 233ms\n",
      "576:\tlearn: 0.0212110\ttotal: 316ms\tremaining: 232ms\n",
      "577:\tlearn: 0.0211068\ttotal: 317ms\tremaining: 231ms\n",
      "578:\tlearn: 0.0210048\ttotal: 317ms\tremaining: 231ms\n",
      "579:\tlearn: 0.0209049\ttotal: 318ms\tremaining: 230ms\n",
      "580:\tlearn: 0.0208071\ttotal: 318ms\tremaining: 229ms\n",
      "581:\tlearn: 0.0207113\ttotal: 318ms\tremaining: 229ms\n",
      "582:\tlearn: 0.0206174\ttotal: 319ms\tremaining: 228ms\n",
      "583:\tlearn: 0.0205256\ttotal: 319ms\tremaining: 227ms\n",
      "584:\tlearn: 0.0204356\ttotal: 320ms\tremaining: 227ms\n",
      "585:\tlearn: 0.0203584\ttotal: 320ms\tremaining: 226ms\n",
      "586:\tlearn: 0.0202733\ttotal: 320ms\tremaining: 225ms\n",
      "587:\tlearn: 0.0201982\ttotal: 321ms\tremaining: 225ms\n",
      "588:\tlearn: 0.0201122\ttotal: 321ms\tremaining: 224ms\n",
      "589:\tlearn: 0.0200293\ttotal: 322ms\tremaining: 224ms\n",
      "590:\tlearn: 0.0199480\ttotal: 322ms\tremaining: 223ms\n",
      "591:\tlearn: 0.0198760\ttotal: 323ms\tremaining: 222ms\n",
      "592:\tlearn: 0.0197413\ttotal: 323ms\tremaining: 222ms\n",
      "593:\tlearn: 0.0196639\ttotal: 323ms\tremaining: 221ms\n",
      "594:\tlearn: 0.0195858\ttotal: 324ms\tremaining: 220ms\n",
      "595:\tlearn: 0.0195174\ttotal: 324ms\tremaining: 220ms\n",
      "596:\tlearn: 0.0194485\ttotal: 324ms\tremaining: 219ms\n",
      "597:\tlearn: 0.0193217\ttotal: 325ms\tremaining: 218ms\n",
      "598:\tlearn: 0.0192237\ttotal: 325ms\tremaining: 218ms\n",
      "599:\tlearn: 0.0191568\ttotal: 326ms\tremaining: 217ms\n",
      "600:\tlearn: 0.0190609\ttotal: 326ms\tremaining: 216ms\n",
      "601:\tlearn: 0.0189958\ttotal: 326ms\tremaining: 216ms\n",
      "602:\tlearn: 0.0189012\ttotal: 327ms\tremaining: 215ms\n",
      "603:\tlearn: 0.0188516\ttotal: 327ms\tremaining: 214ms\n",
      "604:\tlearn: 0.0187861\ttotal: 327ms\tremaining: 214ms\n",
      "605:\tlearn: 0.0187379\ttotal: 328ms\tremaining: 213ms\n",
      "606:\tlearn: 0.0186738\ttotal: 328ms\tremaining: 213ms\n",
      "607:\tlearn: 0.0185547\ttotal: 329ms\tremaining: 212ms\n",
      "608:\tlearn: 0.0184631\ttotal: 329ms\tremaining: 211ms\n",
      "609:\tlearn: 0.0184005\ttotal: 329ms\tremaining: 211ms\n",
      "610:\tlearn: 0.0183391\ttotal: 330ms\tremaining: 210ms\n",
      "611:\tlearn: 0.0182788\ttotal: 330ms\tremaining: 209ms\n",
      "612:\tlearn: 0.0181888\ttotal: 330ms\tremaining: 209ms\n",
      "613:\tlearn: 0.0181242\ttotal: 331ms\tremaining: 208ms\n",
      "614:\tlearn: 0.0180650\ttotal: 331ms\tremaining: 207ms\n",
      "615:\tlearn: 0.0180069\ttotal: 331ms\tremaining: 207ms\n",
      "616:\tlearn: 0.0179188\ttotal: 332ms\tremaining: 206ms\n",
      "617:\tlearn: 0.0178564\ttotal: 332ms\tremaining: 205ms\n",
      "618:\tlearn: 0.0177992\ttotal: 333ms\tremaining: 205ms\n",
      "619:\tlearn: 0.0177432\ttotal: 333ms\tremaining: 204ms\n",
      "620:\tlearn: 0.0176541\ttotal: 333ms\tremaining: 203ms\n",
      "621:\tlearn: 0.0175990\ttotal: 334ms\tremaining: 203ms\n",
      "622:\tlearn: 0.0175152\ttotal: 334ms\tremaining: 202ms\n",
      "623:\tlearn: 0.0174555\ttotal: 334ms\tremaining: 202ms\n",
      "624:\tlearn: 0.0174013\ttotal: 335ms\tremaining: 201ms\n",
      "625:\tlearn: 0.0173584\ttotal: 335ms\tremaining: 200ms\n",
      "626:\tlearn: 0.0172635\ttotal: 336ms\tremaining: 200ms\n",
      "627:\tlearn: 0.0172175\ttotal: 336ms\tremaining: 199ms\n",
      "628:\tlearn: 0.0171605\ttotal: 336ms\tremaining: 198ms\n",
      "629:\tlearn: 0.0171156\ttotal: 337ms\tremaining: 198ms\n",
      "630:\tlearn: 0.0170313\ttotal: 337ms\tremaining: 197ms\n",
      "631:\tlearn: 0.0169872\ttotal: 338ms\tremaining: 197ms\n",
      "632:\tlearn: 0.0169461\ttotal: 338ms\tremaining: 196ms\n",
      "633:\tlearn: 0.0169029\ttotal: 339ms\tremaining: 195ms\n",
      "634:\tlearn: 0.0168203\ttotal: 339ms\tremaining: 195ms\n",
      "635:\tlearn: 0.0167695\ttotal: 340ms\tremaining: 194ms\n",
      "636:\tlearn: 0.0167138\ttotal: 340ms\tremaining: 194ms\n",
      "637:\tlearn: 0.0166663\ttotal: 340ms\tremaining: 193ms\n",
      "638:\tlearn: 0.0166350\ttotal: 341ms\tremaining: 193ms\n",
      "639:\tlearn: 0.0166041\ttotal: 341ms\tremaining: 192ms\n",
      "640:\tlearn: 0.0165157\ttotal: 342ms\tremaining: 191ms\n",
      "641:\tlearn: 0.0164634\ttotal: 342ms\tremaining: 191ms\n",
      "642:\tlearn: 0.0164224\ttotal: 342ms\tremaining: 190ms\n",
      "643:\tlearn: 0.0163449\ttotal: 343ms\tremaining: 190ms\n",
      "644:\tlearn: 0.0163045\ttotal: 343ms\tremaining: 189ms\n",
      "645:\tlearn: 0.0162619\ttotal: 344ms\tremaining: 188ms\n",
      "646:\tlearn: 0.0161849\ttotal: 344ms\tremaining: 188ms\n",
      "647:\tlearn: 0.0161411\ttotal: 345ms\tremaining: 187ms\n",
      "648:\tlearn: 0.0161106\ttotal: 345ms\tremaining: 187ms\n",
      "649:\tlearn: 0.0160806\ttotal: 346ms\tremaining: 186ms\n",
      "650:\tlearn: 0.0160044\ttotal: 346ms\tremaining: 186ms\n",
      "651:\tlearn: 0.0159212\ttotal: 347ms\tremaining: 185ms\n",
      "652:\tlearn: 0.0158467\ttotal: 347ms\tremaining: 185ms\n",
      "653:\tlearn: 0.0157655\ttotal: 348ms\tremaining: 184ms\n",
      "654:\tlearn: 0.0157257\ttotal: 348ms\tremaining: 183ms\n",
      "655:\tlearn: 0.0156530\ttotal: 349ms\tremaining: 183ms\n",
      "656:\tlearn: 0.0156117\ttotal: 349ms\tremaining: 182ms\n",
      "657:\tlearn: 0.0155830\ttotal: 349ms\tremaining: 182ms\n",
      "658:\tlearn: 0.0155548\ttotal: 350ms\tremaining: 181ms\n",
      "659:\tlearn: 0.0154832\ttotal: 350ms\tremaining: 180ms\n",
      "660:\tlearn: 0.0154054\ttotal: 351ms\tremaining: 180ms\n",
      "661:\tlearn: 0.0153294\ttotal: 351ms\tremaining: 179ms\n",
      "662:\tlearn: 0.0152590\ttotal: 352ms\tremaining: 179ms\n",
      "663:\tlearn: 0.0151900\ttotal: 352ms\tremaining: 178ms\n",
      "664:\tlearn: 0.0151444\ttotal: 352ms\tremaining: 178ms\n",
      "665:\tlearn: 0.0151067\ttotal: 353ms\tremaining: 177ms\n",
      "666:\tlearn: 0.0150336\ttotal: 353ms\tremaining: 176ms\n",
      "667:\tlearn: 0.0149659\ttotal: 354ms\tremaining: 176ms\n",
      "668:\tlearn: 0.0149414\ttotal: 354ms\tremaining: 175ms\n",
      "669:\tlearn: 0.0149172\ttotal: 354ms\tremaining: 174ms\n",
      "670:\tlearn: 0.0148510\ttotal: 355ms\tremaining: 174ms\n",
      "671:\tlearn: 0.0148271\ttotal: 355ms\tremaining: 173ms\n",
      "672:\tlearn: 0.0148035\ttotal: 355ms\tremaining: 173ms\n",
      "673:\tlearn: 0.0147752\ttotal: 356ms\tremaining: 172ms\n",
      "674:\tlearn: 0.0147521\ttotal: 356ms\tremaining: 171ms\n",
      "675:\tlearn: 0.0146870\ttotal: 357ms\tremaining: 171ms\n",
      "676:\tlearn: 0.0146594\ttotal: 357ms\tremaining: 170ms\n",
      "677:\tlearn: 0.0146369\ttotal: 357ms\tremaining: 170ms\n",
      "678:\tlearn: 0.0146098\ttotal: 358ms\tremaining: 169ms\n",
      "679:\tlearn: 0.0145466\ttotal: 358ms\tremaining: 169ms\n",
      "680:\tlearn: 0.0145246\ttotal: 359ms\tremaining: 168ms\n",
      "681:\tlearn: 0.0145029\ttotal: 359ms\tremaining: 167ms\n",
      "682:\tlearn: 0.0144768\ttotal: 359ms\tremaining: 167ms\n",
      "683:\tlearn: 0.0144555\ttotal: 360ms\tremaining: 166ms\n",
      "684:\tlearn: 0.0143781\ttotal: 360ms\tremaining: 166ms\n",
      "685:\tlearn: 0.0143526\ttotal: 361ms\tremaining: 165ms\n",
      "686:\tlearn: 0.0143319\ttotal: 361ms\tremaining: 165ms\n",
      "687:\tlearn: 0.0142649\ttotal: 362ms\tremaining: 164ms\n",
      "688:\tlearn: 0.0142445\ttotal: 362ms\tremaining: 163ms\n",
      "689:\tlearn: 0.0142244\ttotal: 363ms\tremaining: 163ms\n",
      "690:\tlearn: 0.0142001\ttotal: 363ms\tremaining: 162ms\n",
      "691:\tlearn: 0.0141655\ttotal: 363ms\tremaining: 162ms\n",
      "692:\tlearn: 0.0141083\ttotal: 364ms\tremaining: 161ms\n",
      "693:\tlearn: 0.0140336\ttotal: 364ms\tremaining: 161ms\n",
      "694:\tlearn: 0.0140099\ttotal: 365ms\tremaining: 160ms\n",
      "695:\tlearn: 0.0139459\ttotal: 365ms\tremaining: 160ms\n",
      "696:\tlearn: 0.0139267\ttotal: 366ms\tremaining: 159ms\n",
      "697:\tlearn: 0.0139078\ttotal: 366ms\tremaining: 158ms\n",
      "698:\tlearn: 0.0138851\ttotal: 367ms\tremaining: 158ms\n",
      "699:\tlearn: 0.0138227\ttotal: 367ms\tremaining: 157ms\n"
     ]
    },
    {
     "name": "stdout",
     "output_type": "stream",
     "text": [
      "700:\tlearn: 0.0137889\ttotal: 368ms\tremaining: 157ms\n",
      "701:\tlearn: 0.0137705\ttotal: 368ms\tremaining: 156ms\n",
      "702:\tlearn: 0.0137170\ttotal: 369ms\tremaining: 156ms\n",
      "703:\tlearn: 0.0136694\ttotal: 369ms\tremaining: 155ms\n",
      "704:\tlearn: 0.0136476\ttotal: 369ms\tremaining: 155ms\n",
      "705:\tlearn: 0.0136298\ttotal: 370ms\tremaining: 154ms\n",
      "706:\tlearn: 0.0135697\ttotal: 370ms\tremaining: 153ms\n",
      "707:\tlearn: 0.0135522\ttotal: 370ms\tremaining: 153ms\n",
      "708:\tlearn: 0.0135349\ttotal: 371ms\tremaining: 152ms\n",
      "709:\tlearn: 0.0134839\ttotal: 371ms\tremaining: 152ms\n",
      "710:\tlearn: 0.0134136\ttotal: 372ms\tremaining: 151ms\n",
      "711:\tlearn: 0.0133930\ttotal: 373ms\tremaining: 151ms\n",
      "712:\tlearn: 0.0133470\ttotal: 373ms\tremaining: 150ms\n",
      "713:\tlearn: 0.0133267\ttotal: 373ms\tremaining: 150ms\n",
      "714:\tlearn: 0.0133087\ttotal: 374ms\tremaining: 149ms\n",
      "715:\tlearn: 0.0132514\ttotal: 374ms\tremaining: 149ms\n",
      "716:\tlearn: 0.0132191\ttotal: 375ms\tremaining: 148ms\n",
      "717:\tlearn: 0.0132028\ttotal: 375ms\tremaining: 147ms\n",
      "718:\tlearn: 0.0131868\ttotal: 376ms\tremaining: 147ms\n",
      "719:\tlearn: 0.0131384\ttotal: 376ms\tremaining: 146ms\n",
      "720:\tlearn: 0.0130714\ttotal: 377ms\tremaining: 146ms\n",
      "721:\tlearn: 0.0130493\ttotal: 377ms\tremaining: 145ms\n",
      "722:\tlearn: 0.0129943\ttotal: 378ms\tremaining: 145ms\n",
      "723:\tlearn: 0.0129789\ttotal: 378ms\tremaining: 144ms\n",
      "724:\tlearn: 0.0129636\ttotal: 379ms\tremaining: 144ms\n",
      "725:\tlearn: 0.0129485\ttotal: 379ms\tremaining: 143ms\n",
      "726:\tlearn: 0.0128896\ttotal: 380ms\tremaining: 143ms\n",
      "727:\tlearn: 0.0128364\ttotal: 380ms\tremaining: 142ms\n",
      "728:\tlearn: 0.0128047\ttotal: 380ms\tremaining: 141ms\n",
      "729:\tlearn: 0.0127899\ttotal: 381ms\tremaining: 141ms\n",
      "730:\tlearn: 0.0127446\ttotal: 381ms\tremaining: 140ms\n",
      "731:\tlearn: 0.0127242\ttotal: 382ms\tremaining: 140ms\n",
      "732:\tlearn: 0.0126600\ttotal: 382ms\tremaining: 139ms\n",
      "733:\tlearn: 0.0126445\ttotal: 383ms\tremaining: 139ms\n",
      "734:\tlearn: 0.0126292\ttotal: 383ms\tremaining: 138ms\n",
      "735:\tlearn: 0.0125783\ttotal: 384ms\tremaining: 138ms\n",
      "736:\tlearn: 0.0125474\ttotal: 384ms\tremaining: 137ms\n",
      "737:\tlearn: 0.0125335\ttotal: 384ms\tremaining: 136ms\n",
      "738:\tlearn: 0.0125187\ttotal: 385ms\tremaining: 136ms\n",
      "739:\tlearn: 0.0124663\ttotal: 386ms\tremaining: 135ms\n",
      "740:\tlearn: 0.0124358\ttotal: 387ms\tremaining: 135ms\n",
      "741:\tlearn: 0.0124223\ttotal: 387ms\tremaining: 135ms\n",
      "742:\tlearn: 0.0123799\ttotal: 388ms\tremaining: 134ms\n",
      "743:\tlearn: 0.0123613\ttotal: 388ms\tremaining: 134ms\n",
      "744:\tlearn: 0.0123482\ttotal: 388ms\tremaining: 133ms\n",
      "745:\tlearn: 0.0122871\ttotal: 389ms\tremaining: 132ms\n",
      "746:\tlearn: 0.0122690\ttotal: 389ms\tremaining: 132ms\n",
      "747:\tlearn: 0.0122563\ttotal: 390ms\tremaining: 131ms\n",
      "748:\tlearn: 0.0122084\ttotal: 390ms\tremaining: 131ms\n",
      "749:\tlearn: 0.0121677\ttotal: 390ms\tremaining: 130ms\n",
      "750:\tlearn: 0.0121481\ttotal: 391ms\tremaining: 130ms\n",
      "751:\tlearn: 0.0121343\ttotal: 392ms\tremaining: 129ms\n",
      "752:\tlearn: 0.0120950\ttotal: 392ms\tremaining: 129ms\n",
      "753:\tlearn: 0.0120563\ttotal: 392ms\tremaining: 128ms\n",
      "754:\tlearn: 0.0120316\ttotal: 393ms\tremaining: 128ms\n",
      "755:\tlearn: 0.0120074\ttotal: 393ms\tremaining: 127ms\n",
      "756:\tlearn: 0.0119781\ttotal: 394ms\tremaining: 126ms\n",
      "757:\tlearn: 0.0119593\ttotal: 394ms\tremaining: 126ms\n",
      "758:\tlearn: 0.0119011\ttotal: 395ms\tremaining: 125ms\n",
      "759:\tlearn: 0.0118828\ttotal: 395ms\tremaining: 125ms\n",
      "760:\tlearn: 0.0118648\ttotal: 396ms\tremaining: 124ms\n",
      "761:\tlearn: 0.0118273\ttotal: 396ms\tremaining: 124ms\n",
      "762:\tlearn: 0.0117904\ttotal: 397ms\tremaining: 123ms\n",
      "763:\tlearn: 0.0117541\ttotal: 397ms\tremaining: 123ms\n",
      "764:\tlearn: 0.0117184\ttotal: 397ms\tremaining: 122ms\n",
      "765:\tlearn: 0.0116834\ttotal: 398ms\tremaining: 122ms\n",
      "766:\tlearn: 0.0116605\ttotal: 398ms\tremaining: 121ms\n",
      "767:\tlearn: 0.0116380\ttotal: 399ms\tremaining: 120ms\n",
      "768:\tlearn: 0.0116159\ttotal: 399ms\tremaining: 120ms\n",
      "769:\tlearn: 0.0115962\ttotal: 400ms\tremaining: 119ms\n",
      "770:\tlearn: 0.0115420\ttotal: 400ms\tremaining: 119ms\n",
      "771:\tlearn: 0.0115250\ttotal: 401ms\tremaining: 118ms\n",
      "772:\tlearn: 0.0115131\ttotal: 401ms\tremaining: 118ms\n",
      "773:\tlearn: 0.0114854\ttotal: 402ms\tremaining: 117ms\n",
      "774:\tlearn: 0.0114689\ttotal: 402ms\tremaining: 117ms\n",
      "775:\tlearn: 0.0114416\ttotal: 402ms\tremaining: 116ms\n",
      "776:\tlearn: 0.0114034\ttotal: 403ms\tremaining: 116ms\n",
      "777:\tlearn: 0.0113492\ttotal: 403ms\tremaining: 115ms\n",
      "778:\tlearn: 0.0113284\ttotal: 404ms\tremaining: 115ms\n",
      "779:\tlearn: 0.0113079\ttotal: 404ms\tremaining: 114ms\n",
      "780:\tlearn: 0.0112921\ttotal: 404ms\tremaining: 113ms\n",
      "781:\tlearn: 0.0112395\ttotal: 405ms\tremaining: 113ms\n",
      "782:\tlearn: 0.0112195\ttotal: 405ms\tremaining: 112ms\n",
      "783:\tlearn: 0.0111685\ttotal: 406ms\tremaining: 112ms\n",
      "784:\tlearn: 0.0111533\ttotal: 406ms\tremaining: 111ms\n",
      "785:\tlearn: 0.0111094\ttotal: 407ms\tremaining: 111ms\n",
      "786:\tlearn: 0.0110570\ttotal: 407ms\tremaining: 110ms\n",
      "787:\tlearn: 0.0110382\ttotal: 407ms\tremaining: 110ms\n",
      "788:\tlearn: 0.0110197\ttotal: 408ms\tremaining: 109ms\n",
      "789:\tlearn: 0.0109949\ttotal: 408ms\tremaining: 109ms\n",
      "790:\tlearn: 0.0109760\ttotal: 409ms\tremaining: 108ms\n",
      "791:\tlearn: 0.0109656\ttotal: 409ms\tremaining: 107ms\n",
      "792:\tlearn: 0.0109413\ttotal: 409ms\tremaining: 107ms\n",
      "793:\tlearn: 0.0108923\ttotal: 410ms\tremaining: 106ms\n",
      "794:\tlearn: 0.0108745\ttotal: 410ms\tremaining: 106ms\n",
      "795:\tlearn: 0.0108508\ttotal: 411ms\tremaining: 105ms\n",
      "796:\tlearn: 0.0108031\ttotal: 411ms\tremaining: 105ms\n",
      "797:\tlearn: 0.0107856\ttotal: 412ms\tremaining: 104ms\n",
      "798:\tlearn: 0.0107624\ttotal: 412ms\tremaining: 104ms\n",
      "799:\tlearn: 0.0107304\ttotal: 412ms\tremaining: 103ms\n",
      "800:\tlearn: 0.0107204\ttotal: 413ms\tremaining: 103ms\n",
      "801:\tlearn: 0.0106739\ttotal: 413ms\tremaining: 102ms\n",
      "802:\tlearn: 0.0106568\ttotal: 414ms\tremaining: 101ms\n",
      "803:\tlearn: 0.0106342\ttotal: 414ms\tremaining: 101ms\n",
      "804:\tlearn: 0.0106029\ttotal: 415ms\tremaining: 100ms\n",
      "805:\tlearn: 0.0105528\ttotal: 415ms\tremaining: 99.9ms\n",
      "806:\tlearn: 0.0105432\ttotal: 416ms\tremaining: 99.4ms\n",
      "807:\tlearn: 0.0105066\ttotal: 416ms\tremaining: 98.9ms\n",
      "808:\tlearn: 0.0104598\ttotal: 417ms\tremaining: 98.4ms\n",
      "809:\tlearn: 0.0104159\ttotal: 417ms\tremaining: 97.8ms\n",
      "810:\tlearn: 0.0103993\ttotal: 418ms\tremaining: 97.3ms\n",
      "811:\tlearn: 0.0103773\ttotal: 418ms\tremaining: 96.8ms\n",
      "812:\tlearn: 0.0103612\ttotal: 419ms\tremaining: 96.3ms\n",
      "813:\tlearn: 0.0103396\ttotal: 419ms\tremaining: 95.8ms\n",
      "814:\tlearn: 0.0103029\ttotal: 420ms\tremaining: 95.2ms\n",
      "815:\tlearn: 0.0102491\ttotal: 420ms\tremaining: 94.7ms\n",
      "816:\tlearn: 0.0102400\ttotal: 420ms\tremaining: 94.2ms\n",
      "817:\tlearn: 0.0102312\ttotal: 421ms\tremaining: 93.6ms\n",
      "818:\tlearn: 0.0102148\ttotal: 421ms\tremaining: 93.1ms\n",
      "819:\tlearn: 0.0101988\ttotal: 422ms\tremaining: 92.6ms\n",
      "820:\tlearn: 0.0101782\ttotal: 422ms\tremaining: 92ms\n",
      "821:\tlearn: 0.0101434\ttotal: 423ms\tremaining: 91.5ms\n",
      "822:\tlearn: 0.0101099\ttotal: 423ms\tremaining: 91ms\n",
      "823:\tlearn: 0.0100945\ttotal: 423ms\tremaining: 90.4ms\n",
      "824:\tlearn: 0.0100795\ttotal: 424ms\tremaining: 89.9ms\n",
      "825:\tlearn: 0.0100648\ttotal: 424ms\tremaining: 89.4ms\n",
      "826:\tlearn: 0.0100450\ttotal: 425ms\tremaining: 88.9ms\n",
      "827:\tlearn: 0.0100347\ttotal: 425ms\tremaining: 88.4ms\n",
      "828:\tlearn: 0.0100024\ttotal: 426ms\tremaining: 87.8ms\n",
      "829:\tlearn: 0.0099671\ttotal: 426ms\tremaining: 87.3ms\n",
      "830:\tlearn: 0.0099464\ttotal: 427ms\tremaining: 86.8ms\n",
      "831:\tlearn: 0.0099262\ttotal: 427ms\tremaining: 86.2ms\n",
      "832:\tlearn: 0.0098838\ttotal: 427ms\tremaining: 85.7ms\n",
      "833:\tlearn: 0.0098585\ttotal: 428ms\tremaining: 85.2ms\n",
      "834:\tlearn: 0.0098394\ttotal: 428ms\tremaining: 84.6ms\n",
      "835:\tlearn: 0.0098206\ttotal: 429ms\tremaining: 84.1ms\n",
      "836:\tlearn: 0.0098108\ttotal: 429ms\tremaining: 83.5ms\n",
      "837:\tlearn: 0.0097817\ttotal: 430ms\tremaining: 83ms\n",
      "838:\tlearn: 0.0097664\ttotal: 430ms\tremaining: 82.5ms\n",
      "839:\tlearn: 0.0097515\ttotal: 430ms\tremaining: 82ms\n",
      "840:\tlearn: 0.0097235\ttotal: 431ms\tremaining: 81.4ms\n",
      "841:\tlearn: 0.0096992\ttotal: 431ms\tremaining: 80.9ms\n",
      "842:\tlearn: 0.0096810\ttotal: 432ms\tremaining: 80.4ms\n",
      "843:\tlearn: 0.0096553\ttotal: 432ms\tremaining: 79.8ms\n",
      "844:\tlearn: 0.0096390\ttotal: 432ms\tremaining: 79.3ms\n",
      "845:\tlearn: 0.0096116\ttotal: 433ms\tremaining: 78.8ms\n",
      "846:\tlearn: 0.0095939\ttotal: 433ms\tremaining: 78.3ms\n",
      "847:\tlearn: 0.0095614\ttotal: 434ms\tremaining: 77.8ms\n",
      "848:\tlearn: 0.0095470\ttotal: 434ms\tremaining: 77.2ms\n",
      "849:\tlearn: 0.0095329\ttotal: 435ms\tremaining: 76.7ms\n",
      "850:\tlearn: 0.0095139\ttotal: 435ms\tremaining: 76.2ms\n",
      "851:\tlearn: 0.0094952\ttotal: 436ms\tremaining: 75.7ms\n",
      "852:\tlearn: 0.0094745\ttotal: 436ms\tremaining: 75.1ms\n",
      "853:\tlearn: 0.0094476\ttotal: 436ms\tremaining: 74.6ms\n",
      "854:\tlearn: 0.0094160\ttotal: 437ms\tremaining: 74.1ms\n",
      "855:\tlearn: 0.0094035\ttotal: 438ms\tremaining: 73.6ms\n",
      "856:\tlearn: 0.0093712\ttotal: 438ms\tremaining: 73.1ms\n",
      "857:\tlearn: 0.0093403\ttotal: 439ms\tremaining: 72.7ms\n",
      "858:\tlearn: 0.0093224\ttotal: 440ms\tremaining: 72.2ms\n",
      "859:\tlearn: 0.0093019\ttotal: 440ms\tremaining: 71.7ms\n",
      "860:\tlearn: 0.0092897\ttotal: 441ms\tremaining: 71.2ms\n",
      "861:\tlearn: 0.0092646\ttotal: 441ms\tremaining: 70.6ms\n",
      "862:\tlearn: 0.0092522\ttotal: 442ms\tremaining: 70.1ms\n",
      "863:\tlearn: 0.0092283\ttotal: 442ms\tremaining: 69.6ms\n",
      "864:\tlearn: 0.0092165\ttotal: 442ms\tremaining: 69.1ms\n",
      "865:\tlearn: 0.0091971\ttotal: 443ms\tremaining: 68.5ms\n",
      "866:\tlearn: 0.0091730\ttotal: 444ms\tremaining: 68ms\n",
      "867:\tlearn: 0.0091582\ttotal: 444ms\tremaining: 67.5ms\n",
      "868:\tlearn: 0.0091382\ttotal: 445ms\tremaining: 67ms\n",
      "869:\tlearn: 0.0091236\ttotal: 445ms\tremaining: 66.5ms\n",
      "870:\tlearn: 0.0090946\ttotal: 446ms\tremaining: 66ms\n",
      "871:\tlearn: 0.0090748\ttotal: 446ms\tremaining: 65.5ms\n",
      "872:\tlearn: 0.0090606\ttotal: 446ms\tremaining: 64.9ms\n",
      "873:\tlearn: 0.0090375\ttotal: 447ms\tremaining: 64.4ms\n",
      "874:\tlearn: 0.0090234\ttotal: 447ms\tremaining: 63.9ms\n",
      "875:\tlearn: 0.0089770\ttotal: 448ms\tremaining: 63.4ms\n",
      "876:\tlearn: 0.0089641\ttotal: 448ms\tremaining: 62.8ms\n",
      "877:\tlearn: 0.0089411\ttotal: 449ms\tremaining: 62.4ms\n",
      "878:\tlearn: 0.0088974\ttotal: 449ms\tremaining: 61.8ms\n",
      "879:\tlearn: 0.0088812\ttotal: 450ms\tremaining: 61.3ms\n",
      "880:\tlearn: 0.0088748\ttotal: 450ms\tremaining: 60.8ms\n",
      "881:\tlearn: 0.0088548\ttotal: 450ms\tremaining: 60.2ms\n",
      "882:\tlearn: 0.0088432\ttotal: 451ms\tremaining: 59.7ms\n",
      "883:\tlearn: 0.0088369\ttotal: 451ms\tremaining: 59.1ms\n",
      "884:\tlearn: 0.0088255\ttotal: 451ms\tremaining: 58.6ms\n",
      "885:\tlearn: 0.0088120\ttotal: 451ms\tremaining: 58.1ms\n",
      "886:\tlearn: 0.0088064\ttotal: 452ms\tremaining: 57.5ms\n",
      "887:\tlearn: 0.0087836\ttotal: 452ms\tremaining: 57ms\n",
      "888:\tlearn: 0.0087703\ttotal: 452ms\tremaining: 56.5ms\n",
      "889:\tlearn: 0.0087571\ttotal: 457ms\tremaining: 56.4ms\n",
      "890:\tlearn: 0.0087516\ttotal: 459ms\tremaining: 56.1ms\n",
      "891:\tlearn: 0.0087394\ttotal: 459ms\tremaining: 55.5ms\n"
     ]
    },
    {
     "name": "stdout",
     "output_type": "stream",
     "text": [
      "892:\tlearn: 0.0087200\ttotal: 464ms\tremaining: 55.6ms\n",
      "893:\tlearn: 0.0086778\ttotal: 469ms\tremaining: 55.6ms\n",
      "894:\tlearn: 0.0086659\ttotal: 470ms\tremaining: 55.1ms\n",
      "895:\tlearn: 0.0086530\ttotal: 470ms\tremaining: 54.5ms\n",
      "896:\tlearn: 0.0086109\ttotal: 470ms\tremaining: 54ms\n",
      "897:\tlearn: 0.0085701\ttotal: 470ms\tremaining: 53.4ms\n",
      "898:\tlearn: 0.0085576\ttotal: 473ms\tremaining: 53.1ms\n",
      "899:\tlearn: 0.0085280\ttotal: 479ms\tremaining: 53.2ms\n",
      "900:\tlearn: 0.0085089\ttotal: 479ms\tremaining: 52.7ms\n",
      "901:\tlearn: 0.0084973\ttotal: 480ms\tremaining: 52.1ms\n",
      "902:\tlearn: 0.0084563\ttotal: 480ms\tremaining: 51.6ms\n",
      "903:\tlearn: 0.0084346\ttotal: 481ms\tremaining: 51ms\n",
      "904:\tlearn: 0.0084265\ttotal: 481ms\tremaining: 50.5ms\n",
      "905:\tlearn: 0.0084114\ttotal: 482ms\tremaining: 50ms\n",
      "906:\tlearn: 0.0083948\ttotal: 483ms\tremaining: 49.5ms\n",
      "907:\tlearn: 0.0083764\ttotal: 483ms\tremaining: 48.9ms\n",
      "908:\tlearn: 0.0083376\ttotal: 484ms\tremaining: 48.4ms\n",
      "909:\tlearn: 0.0082954\ttotal: 484ms\tremaining: 47.9ms\n",
      "910:\tlearn: 0.0082876\ttotal: 485ms\tremaining: 47.4ms\n",
      "911:\tlearn: 0.0082667\ttotal: 486ms\tremaining: 46.9ms\n",
      "912:\tlearn: 0.0082591\ttotal: 487ms\tremaining: 46.4ms\n",
      "913:\tlearn: 0.0082516\ttotal: 487ms\tremaining: 45.9ms\n",
      "914:\tlearn: 0.0082336\ttotal: 488ms\tremaining: 45.4ms\n",
      "915:\tlearn: 0.0082262\ttotal: 489ms\tremaining: 44.9ms\n",
      "916:\tlearn: 0.0082190\ttotal: 490ms\tremaining: 44.3ms\n",
      "917:\tlearn: 0.0081986\ttotal: 491ms\tremaining: 43.8ms\n",
      "918:\tlearn: 0.0081811\ttotal: 491ms\tremaining: 43.3ms\n",
      "919:\tlearn: 0.0081605\ttotal: 492ms\tremaining: 42.8ms\n",
      "920:\tlearn: 0.0081478\ttotal: 493ms\tremaining: 42.3ms\n",
      "921:\tlearn: 0.0081276\ttotal: 493ms\tremaining: 41.7ms\n",
      "922:\tlearn: 0.0081151\ttotal: 494ms\tremaining: 41.2ms\n",
      "923:\tlearn: 0.0080954\ttotal: 495ms\tremaining: 40.7ms\n",
      "924:\tlearn: 0.0080784\ttotal: 496ms\tremaining: 40.2ms\n",
      "925:\tlearn: 0.0080661\ttotal: 496ms\tremaining: 39.6ms\n",
      "926:\tlearn: 0.0080558\ttotal: 496ms\tremaining: 39.1ms\n",
      "927:\tlearn: 0.0080167\ttotal: 496ms\tremaining: 38.5ms\n",
      "928:\tlearn: 0.0079859\ttotal: 497ms\tremaining: 38ms\n",
      "929:\tlearn: 0.0079495\ttotal: 497ms\tremaining: 37.4ms\n",
      "930:\tlearn: 0.0079378\ttotal: 498ms\tremaining: 36.9ms\n",
      "931:\tlearn: 0.0078999\ttotal: 499ms\tremaining: 36.4ms\n",
      "932:\tlearn: 0.0078783\ttotal: 499ms\tremaining: 35.9ms\n",
      "933:\tlearn: 0.0078671\ttotal: 500ms\tremaining: 35.3ms\n",
      "934:\tlearn: 0.0078624\ttotal: 501ms\tremaining: 34.8ms\n",
      "935:\tlearn: 0.0078509\ttotal: 501ms\tremaining: 34.3ms\n",
      "936:\tlearn: 0.0078462\ttotal: 502ms\tremaining: 33.7ms\n",
      "937:\tlearn: 0.0078289\ttotal: 502ms\tremaining: 33.2ms\n",
      "938:\tlearn: 0.0078243\ttotal: 503ms\tremaining: 32.7ms\n",
      "939:\tlearn: 0.0078134\ttotal: 503ms\tremaining: 32.1ms\n",
      "940:\tlearn: 0.0077764\ttotal: 504ms\tremaining: 31.6ms\n",
      "941:\tlearn: 0.0077570\ttotal: 505ms\tremaining: 31.1ms\n",
      "942:\tlearn: 0.0077419\ttotal: 506ms\tremaining: 30.6ms\n",
      "943:\tlearn: 0.0077279\ttotal: 506ms\tremaining: 30ms\n",
      "944:\tlearn: 0.0077141\ttotal: 507ms\tremaining: 29.5ms\n",
      "945:\tlearn: 0.0076777\ttotal: 508ms\tremaining: 29ms\n",
      "946:\tlearn: 0.0076631\ttotal: 509ms\tremaining: 28.5ms\n",
      "947:\tlearn: 0.0076495\ttotal: 510ms\tremaining: 28ms\n",
      "948:\tlearn: 0.0076138\ttotal: 511ms\tremaining: 27.4ms\n",
      "949:\tlearn: 0.0076004\ttotal: 512ms\tremaining: 26.9ms\n",
      "950:\tlearn: 0.0075663\ttotal: 512ms\tremaining: 26.4ms\n",
      "951:\tlearn: 0.0075169\ttotal: 513ms\tremaining: 25.9ms\n",
      "952:\tlearn: 0.0074806\ttotal: 514ms\tremaining: 25.3ms\n",
      "953:\tlearn: 0.0074663\ttotal: 514ms\tremaining: 24.8ms\n",
      "954:\tlearn: 0.0074282\ttotal: 516ms\tremaining: 24.3ms\n",
      "955:\tlearn: 0.0074152\ttotal: 516ms\tremaining: 23.8ms\n",
      "956:\tlearn: 0.0073847\ttotal: 517ms\tremaining: 23.2ms\n",
      "957:\tlearn: 0.0073494\ttotal: 517ms\tremaining: 22.7ms\n",
      "958:\tlearn: 0.0073214\ttotal: 518ms\tremaining: 22.1ms\n",
      "959:\tlearn: 0.0072940\ttotal: 519ms\tremaining: 21.6ms\n",
      "960:\tlearn: 0.0072596\ttotal: 519ms\tremaining: 21.1ms\n",
      "961:\tlearn: 0.0072258\ttotal: 520ms\tremaining: 20.5ms\n",
      "962:\tlearn: 0.0071991\ttotal: 520ms\tremaining: 20ms\n",
      "963:\tlearn: 0.0071791\ttotal: 521ms\tremaining: 19.5ms\n",
      "964:\tlearn: 0.0071458\ttotal: 522ms\tremaining: 18.9ms\n",
      "965:\tlearn: 0.0071262\ttotal: 522ms\tremaining: 18.4ms\n",
      "966:\tlearn: 0.0070972\ttotal: 522ms\tremaining: 17.8ms\n"
     ]
    },
    {
     "name": "stdout",
     "output_type": "stream",
     "text": [
      "967:\tlearn: 0.0070719\ttotal: 528ms\tremaining: 17.4ms\n",
      "968:\tlearn: 0.0070394\ttotal: 529ms\tremaining: 16.9ms\n",
      "969:\tlearn: 0.0070146\ttotal: 530ms\tremaining: 16.4ms\n",
      "970:\tlearn: 0.0069799\ttotal: 530ms\tremaining: 15.8ms\n",
      "971:\tlearn: 0.0069484\ttotal: 531ms\tremaining: 15.3ms\n",
      "972:\tlearn: 0.0069244\ttotal: 531ms\tremaining: 14.7ms\n",
      "973:\tlearn: 0.0069135\ttotal: 532ms\tremaining: 14.2ms\n",
      "974:\tlearn: 0.0068820\ttotal: 533ms\tremaining: 13.7ms\n",
      "975:\tlearn: 0.0068713\ttotal: 534ms\tremaining: 13.1ms\n",
      "976:\tlearn: 0.0068436\ttotal: 535ms\tremaining: 12.6ms\n",
      "977:\tlearn: 0.0068193\ttotal: 536ms\tremaining: 12.1ms\n",
      "978:\tlearn: 0.0067892\ttotal: 537ms\tremaining: 11.5ms\n",
      "979:\tlearn: 0.0067679\ttotal: 537ms\tremaining: 11ms\n",
      "980:\tlearn: 0.0067449\ttotal: 538ms\tremaining: 10.4ms\n",
      "981:\tlearn: 0.0067343\ttotal: 539ms\tremaining: 9.88ms\n",
      "982:\tlearn: 0.0067118\ttotal: 540ms\tremaining: 9.33ms\n",
      "983:\tlearn: 0.0067012\ttotal: 540ms\tremaining: 8.79ms\n",
      "984:\tlearn: 0.0066893\ttotal: 541ms\tremaining: 8.23ms\n",
      "985:\tlearn: 0.0066790\ttotal: 541ms\tremaining: 7.68ms\n",
      "986:\tlearn: 0.0066315\ttotal: 542ms\tremaining: 7.13ms\n",
      "987:\tlearn: 0.0066067\ttotal: 542ms\tremaining: 6.58ms\n",
      "988:\tlearn: 0.0066019\ttotal: 543ms\tremaining: 6.04ms\n",
      "989:\tlearn: 0.0065973\ttotal: 544ms\tremaining: 5.49ms\n",
      "990:\tlearn: 0.0065927\ttotal: 544ms\tremaining: 4.94ms\n",
      "991:\tlearn: 0.0065687\ttotal: 545ms\tremaining: 4.39ms\n",
      "992:\tlearn: 0.0065642\ttotal: 545ms\tremaining: 3.84ms\n",
      "993:\tlearn: 0.0065598\ttotal: 546ms\tremaining: 3.29ms\n",
      "994:\tlearn: 0.0065465\ttotal: 546ms\tremaining: 2.74ms\n",
      "995:\tlearn: 0.0065422\ttotal: 546ms\tremaining: 2.19ms\n",
      "996:\tlearn: 0.0065344\ttotal: 547ms\tremaining: 1.65ms\n",
      "997:\tlearn: 0.0065198\ttotal: 547ms\tremaining: 1.1ms\n",
      "998:\tlearn: 0.0065068\ttotal: 548ms\tremaining: 548us\n",
      "999:\tlearn: 0.0065017\ttotal: 548ms\tremaining: 0us\n"
     ]
    },
    {
     "data": {
      "text/plain": [
       "<catboost.core.CatBoostRegressor at 0x7fb8703ff8e0>"
      ]
     },
     "execution_count": 9,
     "metadata": {},
     "output_type": "execute_result"
    }
   ],
   "source": [
    "#Train the Model \n",
    "prior_model = ctb.CatBoostRegressor()\n",
    "prior_model.fit(X_train,Y_train)"
   ]
  },
  {
   "cell_type": "code",
   "execution_count": 10,
   "id": "af65dcda",
   "metadata": {
    "execution": {
     "iopub.execute_input": "2022-03-16T13:25:00.011843Z",
     "iopub.status.busy": "2022-03-16T13:25:00.011456Z",
     "iopub.status.idle": "2022-03-16T13:25:00.018714Z",
     "shell.execute_reply": "2022-03-16T13:25:00.019002Z"
    },
    "id": "af65dcda",
    "papermill": {
     "duration": 0.02046,
     "end_time": "2022-03-16T13:25:00.019119",
     "exception": false,
     "start_time": "2022-03-16T13:24:59.998659",
     "status": "completed"
    },
    "tags": []
   },
   "outputs": [
    {
     "data": {
      "application/scrapbook.scrap.json+json": {
       "data": 0.058779475238311854,
       "encoder": "json",
       "name": "Prior Model MSE",
       "version": 1
      }
     },
     "metadata": {
      "scrapbook": {
       "data": true,
       "display": false,
       "name": "Prior Model MSE"
      }
     },
     "output_type": "display_data"
    },
    {
     "data": {
      "application/scrapbook.scrap.json+json": {
       "data": 0.05715377088943894,
       "encoder": "json",
       "name": "ABC Pre-generator MSE",
       "version": 1
      }
     },
     "metadata": {
      "scrapbook": {
       "data": true,
       "display": false,
       "name": "ABC Pre-generator MSE"
      }
     },
     "output_type": "display_data"
    },
    {
     "data": {
      "application/scrapbook.scrap.json+json": {
       "data": 0.19488105931661007,
       "encoder": "json",
       "name": "Prior Model MSE",
       "version": 1
      }
     },
     "metadata": {
      "scrapbook": {
       "data": true,
       "display": false,
       "name": "Prior Model MSE"
      }
     },
     "output_type": "display_data"
    },
    {
     "data": {
      "application/scrapbook.scrap.json+json": {
       "data": 0.19594982523217838,
       "encoder": "json",
       "name": "ABC Pre-generator MSE",
       "version": 1
      }
     },
     "metadata": {
      "scrapbook": {
       "data": true,
       "display": false,
       "name": "ABC Pre-generator MSE"
      }
     },
     "output_type": "display_data"
    }
   ],
   "source": [
    "y_pred = prior_model.predict(X_test)\n",
    "y_abc = y_pred + np.random.normal(0,variance, y_pred.shape) + bias \n",
    "mse = mean_squared_error(y_pred,Y_test)\n",
    "sb.glue(\"Prior Model MSE\",mse)\n",
    "mse = mean_squared_error(y_abc,Y_test)\n",
    "sb.glue(\"ABC Pre-generator MSE\",mse)\n",
    "mae = mean_absolute_error(y_pred,Y_test)\n",
    "sb.glue(\"Prior Model MSE\",mae)\n",
    "mae = mean_absolute_error(y_abc,Y_test)\n",
    "sb.glue(\"ABC Pre-generator MSE\",mae)"
   ]
  },
  {
   "cell_type": "markdown",
   "id": "25609da2",
   "metadata": {
    "papermill": {
     "duration": 0.009678,
     "end_time": "2022-03-16T13:25:00.038760",
     "exception": false,
     "start_time": "2022-03-16T13:25:00.029082",
     "status": "completed"
    },
    "tags": []
   },
   "source": [
    "# ABC GAN Model"
   ]
  },
  {
   "cell_type": "code",
   "execution_count": 11,
   "id": "dfc3464d",
   "metadata": {
    "execution": {
     "iopub.execute_input": "2022-03-16T13:25:00.061550Z",
     "iopub.status.busy": "2022-03-16T13:25:00.061159Z",
     "iopub.status.idle": "2022-03-16T13:25:00.063839Z",
     "shell.execute_reply": "2022-03-16T13:25:00.064085Z"
    },
    "papermill": {
     "duration": 0.015901,
     "end_time": "2022-03-16T13:25:00.064203",
     "exception": false,
     "start_time": "2022-03-16T13:25:00.048302",
     "status": "completed"
    },
    "tags": []
   },
   "outputs": [],
   "source": [
    "gen = network.Generator(n_features+1).to(device)\n",
    "disc = network.Discriminator(n_features+1).to(device)\n",
    "\n",
    "criterion = torch.nn.BCELoss()\n",
    "gen_opt = torch.optim.Adam(gen.parameters(), lr=0.001, betas=(0.5, 0.999))\n",
    "disc_opt = torch.optim.Adam(disc.parameters(), lr=0.001, betas=(0.5, 0.999))"
   ]
  },
  {
   "cell_type": "code",
   "execution_count": 12,
   "id": "b75fdd85",
   "metadata": {
    "execution": {
     "iopub.execute_input": "2022-03-16T13:25:00.086003Z",
     "iopub.status.busy": "2022-03-16T13:25:00.085647Z",
     "iopub.status.idle": "2022-03-16T13:25:13.610078Z",
     "shell.execute_reply": "2022-03-16T13:25:13.610336Z"
    },
    "papermill": {
     "duration": 13.536468,
     "end_time": "2022-03-16T13:25:13.610465",
     "exception": false,
     "start_time": "2022-03-16T13:25:00.073997",
     "status": "completed"
    },
    "tags": []
   },
   "outputs": [
    {
     "data": {
      "image/png": "[encoded data removed]",
      "text/plain": [
       "<Figure size 432x288 with 1 Axes>"
      ]
     },
     "metadata": {
      "needs_background": "light"
     },
     "output_type": "display_data"
    },
    {
     "data": {
      "image/png": "[encoded data removed]",
      "text/plain": [
       "<Figure size 432x288 with 1 Axes>"
      ]
     },
     "metadata": {
      "needs_background": "light"
     },
     "output_type": "display_data"
    }
   ],
   "source": [
    "#Training the ABC_GAN \n",
    "ABC_train_test2.training_GAN(disc,gen,disc_opt,gen_opt,train_data,batch_size,n_epochs,criterion,prior_model,variance,bias,device)"
   ]
  },
  {
   "cell_type": "code",
   "execution_count": 13,
   "id": "1fa7c368",
   "metadata": {
    "execution": {
     "iopub.execute_input": "2022-03-16T13:25:13.635299Z",
     "iopub.status.busy": "2022-03-16T13:25:13.634912Z",
     "iopub.status.idle": "2022-03-16T13:25:13.808891Z",
     "shell.execute_reply": "2022-03-16T13:25:13.809195Z"
    },
    "papermill": {
     "duration": 0.187069,
     "end_time": "2022-03-16T13:25:13.809321",
     "exception": false,
     "start_time": "2022-03-16T13:25:13.622252",
     "status": "completed"
    },
    "tags": []
   },
   "outputs": [
    {
     "data": {
      "application/scrapbook.scrap.json+json": {
       "data": 0.020315978772693147,
       "encoder": "json",
       "name": "ABC-GAN Model 1 MSE",
       "version": 1
      }
     },
     "metadata": {
      "scrapbook": {
       "data": true,
       "display": false,
       "name": "ABC-GAN Model 1 MSE"
      }
     },
     "output_type": "display_data"
    },
    {
     "data": {
      "application/scrapbook.scrap.json+json": {
       "data": 0.10992266263067722,
       "encoder": "json",
       "name": "ABC-GAN Model 1 MAE",
       "version": 1
      }
     },
     "metadata": {
      "scrapbook": {
       "data": true,
       "display": false,
       "name": "ABC-GAN Model 1 MAE"
      }
     },
     "output_type": "display_data"
    },
    {
     "data": {
      "application/scrapbook.scrap.json+json": {
       "data": 2.1984532526135445,
       "encoder": "json",
       "name": "ABC-GAN Model 1 Manhattan Distance",
       "version": 1
      }
     },
     "metadata": {
      "scrapbook": {
       "data": true,
       "display": false,
       "name": "ABC-GAN Model 1 Manhattan Distance"
      }
     },
     "output_type": "display_data"
    },
    {
     "data": {
      "application/scrapbook.scrap.json+json": {
       "data": 0.6374101262221148,
       "encoder": "json",
       "name": "ABC-GAN Model 1 Euclidean distance",
       "version": 1
      }
     },
     "metadata": {
      "scrapbook": {
       "data": true,
       "display": false,
       "name": "ABC-GAN Model 1 Euclidean distance"
      }
     },
     "output_type": "display_data"
    },
    {
     "data": {
      "application/scrapbook.scrap.json+json": {
       "data": [
        [
         0.020408704636977033,
         0.020406923418080935,
         0.02025040895807405,
         0.02002915509958795,
         0.020401235271572164,
         0.020929777432404473,
         0.020440982234205256,
         0.02043030078110634,
         0.020152965914069433,
         0.020210976289032824,
         0.02031712401063309,
         0.020765345366606756,
         0.020186586664107366,
         0.020843594894923732,
         0.020542986183012472,
         0.02018887790787775,
         0.02002154888306073,
         0.020868942897012528,
         0.020297415321602667,
         0.019914579393418442,
         0.020107061954519535,
         0.02007677552307362,
         0.020120293235790003,
         0.020543224127751288,
         0.01967962065696271,
         0.020725506932759895,
         0.019860708469547277,
         0.020152124581888736,
         0.02011393259952158,
         0.020462888339153835,
         0.019842789412467664,
         0.020768803449110196,
         0.02038226128476437,
         0.01983008926233351,
         0.020384524915551334,
         0.019491497612458986,
         0.020173066842875315,
         0.020202653320117347,
         0.020301913267623227,
         0.02037702359253049,
         0.020544655356138374,
         0.020478245774923576,
         0.020559836795423246,
         0.0202145810458625,
         0.02098802028915626,
         0.01995891268955466,
         0.020550894222714312,
         0.01994745770386242,
         0.020689547789832913,
         0.021159344548474464,
         0.019767879681423413,
         0.020782767331314445,
         0.02060864178144319,
         0.020385376159825035,
         0.02035553398379548,
         0.020746749519669306,
         0.019865315283674863,
         0.020857498015875775,
         0.019854892792365807,
         0.02011920756491773,
         0.020308241740057124,
         0.02060889558506801,
         0.020029380913491057,
         0.019700134815460058,
         0.020339477916436977,
         0.020230790161436068,
         0.020603074270698952,
         0.02064743867600643,
         0.020378439349133932,
         0.020148927432073627,
         0.019833982893198532,
         0.0200711629458874,
         0.020605664146598323,
         0.020169385988866306,
         0.020742920714894513,
         0.0197488230524099,
         0.02088293839325856,
         0.02039243110167329,
         0.019856816174200147,
         0.019867660055830023,
         0.020378426557189473,
         0.02080445285027747,
         0.019770502004380564,
         0.020361727398596423,
         0.020385873055335395,
         0.020535622417144295,
         0.0201100362159101,
         0.020347819785240768,
         0.019994920812510676,
         0.020343983185473164,
         0.02038695848663294,
         0.019809664900808766,
         0.020215680535196196,
         0.020578956075343463,
         0.020345310963553864,
         0.020629201521460118,
         0.020227436500999785,
         0.02062614111256391,
         0.02074025921589276,
         0.02019776807971057
        ],
        [
         0.1099555192515254,
         0.10925236102193595,
         0.1094908470287919,
         0.10870624501258135,
         0.11120936777442694,
         0.11074513327330351,
         0.11042283307760954,
         0.11114242356270551,
         0.10892994757741689,
         0.10985572133213281,
         0.10938822496682406,
         0.11190817076712847,
         0.10983256604522466,
         0.11079467814415693,
         0.1102834889665246,
         0.10992337632924318,
         0.1099046340212226,
         0.11103453394025564,
         0.10942936707288027,
         0.1085550831630826,
         0.10876944940537214,
         0.10952891353517771,
         0.10985865164548159,
         0.11059099789708852,
         0.10833575185388326,
         0.11271059829741717,
         0.10917359422892332,
         0.10912418644875288,
         0.10819087680429221,
         0.10949119795113801,
         0.10848012249916791,
         0.11146202776581049,
         0.11055638138204812,
         0.10920524951070547,
         0.11057003121823072,
         0.10796875935047864,
         0.1093229902908206,
         0.10973573643714189,
         0.10978702437132597,
         0.11037827860563994,
         0.11119527351111173,
         0.11083041969686747,
         0.11034508030861616,
         0.10935501400381327,
         0.11281221564859152,
         0.10829413998872042,
         0.10996507983654738,
         0.10848339516669511,
         0.11085825879126787,
         0.11155187096446753,
         0.10870348941534758,
         0.11282509956508875,
         0.11136893760412932,
         0.11001416202634573,
         0.11009974498301744,
         0.11085255760699511,
         0.1087509511038661,
         0.11207747813314199,
         0.10719880368560553,
         0.10913158971816302,
         0.10937036890536547,
         0.11186121013015508,
         0.11004968341439962,
         0.10809396337717772,
         0.11063805650919675,
         0.11002090778201819,
         0.10981187243014574,
         0.11078257951885462,
         0.10906559620052576,
         0.1097046161070466,
         0.1080996023491025,
         0.1101001126691699,
         0.10881579872220755,
         0.10918600093573332,
         0.11017804984003306,
         0.10842980016022921,
         0.11193701010197402,
         0.10968518871814012,
         0.10982009451836347,
         0.10885210353881121,
         0.10957235042005778,
         0.11114883292466401,
         0.10842697490006685,
         0.1094413785263896,
         0.10950618702918291,
         0.1110664976760745,
         0.1094659997150302,
         0.11000000778585672,
         0.10930252764374018,
         0.10910440403968096,
         0.10967375356703997,
         0.10891616214066743,
         0.11070865858346224,
         0.11088822428137064,
         0.11002601068466902,
         0.11164274457842112,
         0.11025458816438913,
         0.11051108594983816,
         0.1102027801796794,
         0.10918557476252318
        ],
        [
         2.199110385030508,
         2.185047220438719,
         2.189816940575838,
         2.174124900251627,
         2.2241873554885387,
         2.21490266546607,
         2.208456661552191,
         2.2228484712541103,
         2.178598951548338,
         2.1971144266426563,
         2.187764499336481,
         2.2381634153425694,
         2.1966513209044933,
         2.2158935628831387,
         2.205669779330492,
         2.1984675265848637,
         2.198092680424452,
         2.220690678805113,
         2.1885873414576054,
         2.171101663261652,
         2.175388988107443,
         2.190578270703554,
         2.1971730329096317,
         2.2118199579417706,
         2.1667150370776653,
         2.2542119659483433,
         2.1834718845784664,
         2.1824837289750576,
         2.163817536085844,
         2.1898239590227604,
         2.1696024499833584,
         2.22924055531621,
         2.2111276276409626,
         2.1841049902141094,
         2.2114006243646145,
         2.159375187009573,
         2.186459805816412,
         2.194714728742838,
         2.1957404874265194,
         2.2075655721127987,
         2.2239054702222347,
         2.2166083939373493,
         2.2069016061723232,
         2.1871002800762653,
         2.2562443129718304,
         2.1658827997744083,
         2.1993015967309475,
         2.1696679033339024,
         2.2171651758253574,
         2.2310374192893505,
         2.1740697883069515,
         2.256501991301775,
         2.2273787520825863,
         2.2002832405269146,
         2.201994899660349,
         2.217051152139902,
         2.175019022077322,
         2.24154956266284,
         2.1439760737121105,
         2.1826317943632603,
         2.1874073781073093,
         2.2372242026031017,
         2.2009936682879925,
         2.1618792675435543,
         2.212761130183935,
         2.2004181556403637,
         2.196237448602915,
         2.2156515903770924,
         2.181311924010515,
         2.194092322140932,
         2.16199204698205,
         2.202002253383398,
         2.176315974444151,
         2.1837200187146664,
         2.203560996800661,
         2.168596003204584,
         2.23874020203948,
         2.1937037743628025,
         2.1964018903672695,
         2.177042070776224,
         2.1914470084011555,
         2.2229766584932804,
         2.168539498001337,
         2.188827570527792,
         2.190123740583658,
         2.22132995352149,
         2.189319994300604,
         2.2000001557171345,
         2.1860505528748035,
         2.182088080793619,
         2.1934750713407993,
         2.1783232428133488,
         2.2141731716692448,
         2.217764485627413,
         2.2005202136933804,
         2.2328548915684223,
         2.2050917632877827,
         2.2102217189967632,
         2.204055603593588,
         2.1837114952504635
        ],
        [
         0.6388850387507448,
         0.6388571580264392,
         0.6364025291916123,
         0.6329163467566302,
         0.6387681155407205,
         0.6469896047449986,
         0.6393900567604294,
         0.6392229780148135,
         0.6348695285500704,
         0.6357826089007598,
         0.6374499825183634,
         0.6444430985991976,
         0.6353988773063322,
         0.6456561762257639,
         0.6409834035762935,
         0.6354349362110608,
         0.6327961580645182,
         0.6460486498246479,
         0.6371407273374174,
         0.6311034684331633,
         0.6341460707836883,
         0.6336682968726401,
         0.6343546836871311,
         0.6409871157480669,
         0.6273694391180161,
         0.6438246179319318,
         0.6302492914640567,
         0.6348562763632212,
         0.6342544063626453,
         0.6397325744270622,
         0.6299649103318004,
         0.644496756378342,
         0.6384710061508567,
         0.6297632771499703,
         0.6385064590989089,
         0.6243636378338986,
         0.6351860647538691,
         0.6356516863836255,
         0.6372113192281385,
         0.6383889659530542,
         0.6410094438639476,
         0.6399725896462063,
         0.6412462365647575,
         0.6358393043192989,
         0.647889192519157,
         0.6318055506175085,
         0.6411067652538742,
         0.6316242190394922,
         0.6432658515704516,
         0.6505281630871097,
         0.6287746763574915,
         0.6447133833156319,
         0.6420068812940121,
         0.6385197907633723,
         0.6380522546593732,
         0.6441544771197248,
         0.630322382335815,
         0.645871473528221,
         0.6301570088853382,
         0.6343375688845447,
         0.6373106266187176,
         0.6420108345669566,
         0.6329199145783146,
         0.6276963408442024,
         0.6378005631298388,
         0.6360941779553727,
         0.6419201550146085,
         0.6426109036735438,
         0.638411142589694,
         0.6348059141513038,
         0.6298251010113607,
         0.6335797178869822,
         0.6419604995106525,
         0.635128112885366,
         0.6440950351445742,
         0.6284715276352606,
         0.6462652457506679,
         0.6386302702138897,
         0.6301875304098002,
         0.6303595808081293,
         0.63841094221809,
         0.645049654682141,
         0.6288163802634369,
         0.6381493147939035,
         0.6385275727066984,
         0.6408685109621832,
         0.6341929708836278,
         0.6379313409018367,
         0.6323752179285757,
         0.6378711968018804,
         0.6385445714534411,
         0.6294388755202329,
         0.6358565960214015,
         0.64154432544203,
         0.6378920122333225,
         0.6423270432024502,
         0.6360414530673262,
         0.6422793957860381,
         0.6440537122925813,
         0.6355748276908167
        ]
       ],
       "encoder": "json",
       "name": "ABC_GAN_1 Metrics",
       "version": 1
      }
     },
     "metadata": {
      "scrapbook": {
       "data": true,
       "display": false,
       "name": "ABC_GAN_1 Metrics"
      }
     },
     "output_type": "display_data"
    },
    {
     "name": "stdout",
     "output_type": "stream",
     "text": [
      "MSE\n",
      "0.020315978772693147\n"
     ]
    }
   ],
   "source": [
    "ABC_GAN1_metrics=ABC_train_test2.test_generator(gen,test_data,prior_model,variance,bias,\"1\",device)\n",
    "sb.glue(\"ABC_GAN_1 Metrics\",ABC_GAN1_metrics)\n",
    "\n",
    "print(\"MSE\")\n",
    "print(mean(ABC_GAN1_metrics[0]))"
   ]
  },
  {
   "cell_type": "code",
   "execution_count": 14,
   "id": "eb22ce5c",
   "metadata": {
    "execution": {
     "iopub.execute_input": "2022-03-16T13:25:13.844400Z",
     "iopub.status.busy": "2022-03-16T13:25:13.844016Z",
     "iopub.status.idle": "2022-03-16T13:25:14.136539Z",
     "shell.execute_reply": "2022-03-16T13:25:14.136931Z"
    },
    "papermill": {
     "duration": 0.315468,
     "end_time": "2022-03-16T13:25:14.137073",
     "exception": false,
     "start_time": "2022-03-16T13:25:13.821605",
     "status": "completed"
    },
    "tags": []
   },
   "outputs": [
    {
     "data": {
      "image/png": "[encoded data removed]",
      "text/plain": [
       "<Figure size 432x288 with 1 Axes>"
      ]
     },
     "metadata": {
      "needs_background": "light"
     },
     "output_type": "display_data"
    },
    {
     "data": {
      "image/png": "[encoded data removed]",
      "text/plain": [
       "<Figure size 432x288 with 1 Axes>"
      ]
     },
     "metadata": {
      "needs_background": "light"
     },
     "output_type": "display_data"
    },
    {
     "data": {
      "image/png": "[encoded data removed]",
      "text/plain": [
       "<Figure size 432x288 with 1 Axes>"
      ]
     },
     "metadata": {
      "needs_background": "light"
     },
     "output_type": "display_data"
    },
    {
     "data": {
      "image/png": "[encoded data removed]",
      "text/plain": [
       "<Figure size 432x288 with 1 Axes>"
      ]
     },
     "metadata": {
      "needs_background": "light"
     },
     "output_type": "display_data"
    }
   ],
   "source": [
    "sanityChecks.discProbVsError(train_data,disc,device)\n",
    "sanityChecks.discProbVsError(test_data,disc,device)"
   ]
  },
  {
   "cell_type": "markdown",
   "id": "130f3a4d",
   "metadata": {
    "id": "130f3a4d",
    "papermill": {
     "duration": 0.046127,
     "end_time": "2022-03-16T13:25:14.198097",
     "exception": false,
     "start_time": "2022-03-16T13:25:14.151970",
     "status": "completed"
    },
    "tags": []
   },
   "source": [
    "# ABC - GAN Model with skip connection"
   ]
  },
  {
   "cell_type": "code",
   "execution_count": 15,
   "id": "4e43dad1",
   "metadata": {
    "execution": {
     "iopub.execute_input": "2022-03-16T13:25:14.231210Z",
     "iopub.status.busy": "2022-03-16T13:25:14.230797Z",
     "iopub.status.idle": "2022-03-16T13:25:14.233101Z",
     "shell.execute_reply": "2022-03-16T13:25:14.233402Z"
    },
    "id": "4e43dad1",
    "papermill": {
     "duration": 0.020383,
     "end_time": "2022-03-16T13:25:14.233519",
     "exception": false,
     "start_time": "2022-03-16T13:25:14.213136",
     "status": "completed"
    },
    "tags": []
   },
   "outputs": [],
   "source": [
    "#Generator\n",
    "gen3 = network.GeneratorWithSkipConnection(n_features+1).to(device)\n",
    "constraints=network.weightConstraint()\n",
    "#Discriminator \n",
    "disc3 = network.Discriminator(n_features+1).to(device)\n",
    "\n",
    "criterion = torch.nn.BCELoss()\n",
    "gen_opt = torch.optim.Adam(gen3.parameters(), lr=0.001, betas=(0.5, 0.999))\n",
    "disc_opt = torch.optim.Adam(disc3.parameters(), lr=0.001, betas=(0.5, 0.999))\n"
   ]
  },
  {
   "cell_type": "code",
   "execution_count": 16,
   "id": "26acbc37",
   "metadata": {
    "execution": {
     "iopub.execute_input": "2022-03-16T13:25:14.264883Z",
     "iopub.status.busy": "2022-03-16T13:25:14.264499Z",
     "iopub.status.idle": "2022-03-16T13:25:51.135070Z",
     "shell.execute_reply": "2022-03-16T13:25:51.135350Z"
    },
    "id": "26acbc37",
    "papermill": {
     "duration": 36.887485,
     "end_time": "2022-03-16T13:25:51.135480",
     "exception": false,
     "start_time": "2022-03-16T13:25:14.247995",
     "status": "completed"
    },
    "tags": []
   },
   "outputs": [
    {
     "data": {
      "image/png": "[encoded data removed]",
      "text/plain": [
       "<Figure size 432x288 with 1 Axes>"
      ]
     },
     "metadata": {
      "needs_background": "light"
     },
     "output_type": "display_data"
    },
    {
     "data": {
      "image/png": "[encoded data removed]",
      "text/plain": [
       "<Figure size 432x288 with 1 Axes>"
      ]
     },
     "metadata": {
      "needs_background": "light"
     },
     "output_type": "display_data"
    }
   ],
   "source": [
    "ABC_train_test2.training_GAN_skip_connection(disc3,gen3,disc_opt,gen_opt,train_data,batch_size,n_epochs,criterion,prior_model,variance,bias,device)"
   ]
  },
  {
   "cell_type": "code",
   "execution_count": 17,
   "id": "c5e0717b",
   "metadata": {
    "execution": {
     "iopub.execute_input": "2022-03-16T13:25:51.173690Z",
     "iopub.status.busy": "2022-03-16T13:25:51.173206Z",
     "iopub.status.idle": "2022-03-16T13:25:51.496050Z",
     "shell.execute_reply": "2022-03-16T13:25:51.496362Z"
    },
    "id": "c5e0717b",
    "papermill": {
     "duration": 0.343641,
     "end_time": "2022-03-16T13:25:51.496535",
     "exception": false,
     "start_time": "2022-03-16T13:25:51.152894",
     "status": "completed"
    },
    "tags": []
   },
   "outputs": [
    {
     "data": {
      "application/scrapbook.scrap.json+json": {
       "data": 0.057927789787794864,
       "encoder": "json",
       "name": "ABC-GAN Model 3 MSE",
       "version": 1
      }
     },
     "metadata": {
      "scrapbook": {
       "data": true,
       "display": false,
       "name": "ABC-GAN Model 3 MSE"
      }
     },
     "output_type": "display_data"
    },
    {
     "data": {
      "application/scrapbook.scrap.json+json": {
       "data": 0.19471776584535838,
       "encoder": "json",
       "name": "ABC-GAN Model 3 MAE",
       "version": 1
      }
     },
     "metadata": {
      "scrapbook": {
       "data": true,
       "display": false,
       "name": "ABC-GAN Model 3 MAE"
      }
     },
     "output_type": "display_data"
    },
    {
     "data": {
      "application/scrapbook.scrap.json+json": {
       "data": 3.8943553169071676,
       "encoder": "json",
       "name": "ABC-GAN Model 3 Manhattan Distance",
       "version": 1
      }
     },
     "metadata": {
      "scrapbook": {
       "data": true,
       "display": false,
       "name": "ABC-GAN Model 3 Manhattan Distance"
      }
     },
     "output_type": "display_data"
    },
    {
     "data": {
      "application/scrapbook.scrap.json+json": {
       "data": 1.0763038088695043,
       "encoder": "json",
       "name": "ABC-GAN Model 3 Euclidean distance",
       "version": 1
      }
     },
     "metadata": {
      "scrapbook": {
       "data": true,
       "display": false,
       "name": "ABC-GAN Model 3 Euclidean distance"
      }
     },
     "output_type": "display_data"
    },
    {
     "data": {
      "application/scrapbook.scrap.json+json": {
       "data": [
        [
         0.05775248434192566,
         0.0573551110896665,
         0.05740290924022633,
         0.05742386565307937,
         0.05833108750315017,
         0.05549598085832501,
         0.058414872433355546,
         0.057753391775777395,
         0.05841758615800998,
         0.05769565024953407,
         0.059377647885678786,
         0.05799116761641596,
         0.05837729658374401,
         0.056542463970625755,
         0.05878979873843963,
         0.05772350652770998,
         0.05769786260189806,
         0.05723411600896303,
         0.05597579608473213,
         0.05950544437531545,
         0.05656834251664448,
         0.05896521947776454,
         0.059827529920381164,
         0.057793809839195666,
         0.05885771586277626,
         0.05903959751071397,
         0.05852776340517359,
         0.05809612570623226,
         0.05861781302411515,
         0.057793825362193116,
         0.057898968035488,
         0.05966974449150546,
         0.05928421249598548,
         0.05826483601526637,
         0.05890921128618141,
         0.05619861163955504,
         0.05752080027144964,
         0.059576505319451266,
         0.057653832396025104,
         0.05862577985302657,
         0.05987431991692597,
         0.05783926186299478,
         0.05734845319793279,
         0.05695902095550752,
         0.0582793194462574,
         0.05685204213670899,
         0.057035917486363344,
         0.0576591290739079,
         0.056246327252121794,
         0.05824307588359721,
         0.0586506940900389,
         0.06020578120560775,
         0.05753000131520612,
         0.05789779741681881,
         0.05706363756928068,
         0.0568720781159587,
         0.05517830209843364,
         0.05850727712885295,
         0.0570899818251331,
         0.05801037070934388,
         0.057372204493882875,
         0.05908014015787688,
         0.05792409004860888,
         0.05815418392883469,
         0.057849587166644546,
         0.058893019405044836,
         0.05884850078301762,
         0.05580256757946692,
         0.05740744470781391,
         0.05644220203014472,
         0.0619280971309351,
         0.05669025335024967,
         0.05896159790538338,
         0.05571071722173916,
         0.05475731760261151,
         0.057211174407633424,
         0.05869396443970535,
         0.05838773659306725,
         0.05574105534412034,
         0.05925153011157478,
         0.05806095608470574,
         0.05817446908786937,
         0.05868251791559326,
         0.05758418372488382,
         0.05687631473826652,
         0.05952922098305957,
         0.05923518200604609,
         0.059448699535444335,
         0.05836949990776728,
         0.05736854558241079,
         0.05940740432807974,
         0.056421790980090016,
         0.05913062732554569,
         0.05888618931594053,
         0.059108220955933634,
         0.056854503646117306,
         0.055414672487978954,
         0.05823251209800377,
         0.056808508303743656,
         0.05778650255096098
        ],
        [
         0.19401688128709793,
         0.19405918307602404,
         0.1923069279640913,
         0.19338886588811874,
         0.19551886916160582,
         0.19178896136581897,
         0.19568198062479497,
         0.19586795046925545,
         0.1966619823127985,
         0.1928166773170233,
         0.1983954980969429,
         0.19522372707724572,
         0.19614793471992015,
         0.19270151779055594,
         0.194550147280097,
         0.19544621035456658,
         0.19476919658482075,
         0.192894159629941,
         0.19260538518428802,
         0.19699834808707237,
         0.19134221151471137,
         0.19626570194959642,
         0.19875582568347455,
         0.19549696743488312,
         0.19699205309152604,
         0.19685670137405395,
         0.19541595913469792,
         0.19659408032894135,
         0.19536103792488574,
         0.194406258687377,
         0.19455844722688198,
         0.1977832406759262,
         0.19691252820193766,
         0.1936946850270033,
         0.1957962926477194,
         0.1923164263367653,
         0.19337186515331267,
         0.19712983220815658,
         0.19452606178820134,
         0.19655453749001026,
         0.1982393078505993,
         0.1950158230960369,
         0.19387512020766734,
         0.19313728846609593,
         0.19782599285244942,
         0.19391871504485608,
         0.19498705565929414,
         0.19495420195162297,
         0.19156203866004945,
         0.19522089064121245,
         0.19557879827916622,
         0.19711464866995812,
         0.1944182451814413,
         0.19445504769682884,
         0.19280995652079583,
         0.1918856669217348,
         0.1888719994574785,
         0.19378451257944107,
         0.19205846153199674,
         0.19332064017653466,
         0.19350927658379077,
         0.19429988749325275,
         0.19533678852021694,
         0.19397025965154172,
         0.19523027464747428,
         0.19654554687440395,
         0.1987973555922508,
         0.19031096212565898,
         0.19344064332544803,
         0.19182014800608158,
         0.2032193813472986,
         0.1919056411832571,
         0.1967313650995493,
         0.19003159068524839,
         0.19033618234097957,
         0.193318722397089,
         0.19458218850195408,
         0.19504557363688946,
         0.1920372646301985,
         0.1982959121465683,
         0.19682040847837926,
         0.19432982318103315,
         0.19455134607851504,
         0.19729691930115223,
         0.19024130143225193,
         0.19695302061736583,
         0.19773538857698442,
         0.19773471727967262,
         0.19730921611189842,
         0.19399994388222694,
         0.19683630019426346,
         0.19127355851233005,
         0.19567846097052097,
         0.19548200890421868,
         0.19756405130028726,
         0.19408672600984572,
         0.19106813073158263,
         0.19372687563300134,
         0.19328418783843518,
         0.1920337051153183
        ],
        [
         3.8803376257419586,
         3.881183661520481,
         3.846138559281826,
         3.867777317762375,
         3.9103773832321167,
         3.8357792273163795,
         3.913639612495899,
         3.917359009385109,
         3.93323964625597,
         3.8563335463404655,
         3.967909961938858,
         3.9044745415449142,
         3.922958694398403,
         3.854030355811119,
         3.89100294560194,
         3.9089242070913315,
         3.895383931696415,
         3.8578831925988197,
         3.8521077036857605,
         3.9399669617414474,
         3.8268442302942276,
         3.925314038991928,
         3.975116513669491,
         3.9099393486976624,
         3.9398410618305206,
         3.937134027481079,
         3.9083191826939583,
         3.931881606578827,
         3.907220758497715,
         3.8881251737475395,
         3.8911689445376396,
         3.955664813518524,
         3.9382505640387535,
         3.8738937005400658,
         3.9159258529543877,
         3.846328526735306,
         3.8674373030662537,
         3.9425966441631317,
         3.8905212357640266,
         3.9310907498002052,
         3.964786157011986,
         3.900316461920738,
         3.877502404153347,
         3.8627457693219185,
         3.9565198570489883,
         3.8783743008971214,
         3.8997411131858826,
         3.8990840390324593,
         3.8312407732009888,
         3.9044178128242493,
         3.9115759655833244,
         3.9422929733991623,
         3.888364903628826,
         3.889100953936577,
         3.8561991304159164,
         3.837713338434696,
         3.7774399891495705,
         3.8756902515888214,
         3.8411692306399345,
         3.866412803530693,
         3.8701855316758156,
         3.885997749865055,
         3.906735770404339,
         3.879405193030834,
         3.904605492949486,
         3.930910937488079,
         3.9759471118450165,
         3.80621924251318,
         3.8688128665089607,
         3.8364029601216316,
         4.064387626945972,
         3.838112823665142,
         3.934627301990986,
         3.8006318137049675,
         3.8067236468195915,
         3.86637444794178,
         3.8916437700390816,
         3.900911472737789,
         3.8407452926039696,
         3.965918242931366,
         3.936408169567585,
         3.8865964636206627,
         3.891026921570301,
         3.9459383860230446,
         3.8048260286450386,
         3.9390604123473167,
         3.954707771539688,
         3.9546943455934525,
         3.9461843222379684,
         3.879998877644539,
         3.936726003885269,
         3.825471170246601,
         3.9135692194104195,
         3.9096401780843735,
         3.951281026005745,
         3.8817345201969147,
         3.821362614631653,
         3.8745375126600266,
         3.8656837567687035,
         3.840674102306366
        ],
        [
         1.074732379170979,
         1.0710285812214957,
         1.0714747709603463,
         1.0716703378658885,
         1.080102657187271,
         1.0535272265900395,
         1.0808780914918716,
         1.0747408224849133,
         1.0809031978675054,
         1.0742034281227562,
         1.089749034279717,
         1.0769509516817928,
         1.0805303936839907,
         1.063413973677474,
         1.0843412630573424,
         1.074462717154113,
         1.0742240232083629,
         1.069898275622155,
         1.05807179420616,
         1.0909211188286296,
         1.0636572992899966,
         1.0859578212597811,
         1.0938695527381788,
         1.0751168293650293,
         1.0849674268177478,
         1.0866425126113368,
         1.0819220249645867,
         1.0779250967134244,
         1.082754016608714,
         1.0751169737493043,
         1.0760944943218322,
         1.0924261484558622,
         1.0888912938947164,
         1.079489101522256,
         1.0854419494950562,
         1.0601755669657271,
         1.072574475469649,
         1.0915723092809864,
         1.0738140658049242,
         1.0828275934148204,
         1.0942972166365585,
         1.0755395098553542,
         1.0709664158873777,
         1.0673239522797895,
         1.0796232624972233,
         1.0663211724120363,
         1.0680441703072334,
         1.0738633905102446,
         1.0606255442155048,
         1.0792875046399566,
         1.083057653959741,
         1.0973220238891386,
         1.0726602567001924,
         1.0760836158665257,
         1.0683036793841036,
         1.0665090540258784,
         1.0505075163789515,
         1.0817326576271324,
         1.0685502498725372,
         1.0771292467419487,
         1.0711881673532702,
         1.0870155487193076,
         1.07632792445991,
         1.0784635731338792,
         1.0756355067274839,
         1.0852927660778435,
         1.0848824893325324,
         1.0564333162056838,
         1.0715170993298604,
         1.0624707245862797,
         1.1129069784212435,
         1.0648028301075245,
         1.0859244716404854,
         1.0555635198484188,
         1.0464924042018797,
         1.0696838262555288,
         1.0834571005785634,
         1.08062700866735,
         1.055850892352896,
         1.0885911088335674,
         1.0775987758410432,
         1.0786516498654175,
         1.0833514472745513,
         1.0731652596397614,
         1.0665487774899611,
         1.0911390468960367,
         1.0884409217412407,
         1.0904008394663345,
         1.0804582352665677,
         1.071154009304085,
         1.0900220578325903,
         1.062278597921374,
         1.0874799062561633,
         1.085229831104366,
         1.0872738473442065,
         1.0663442562898466,
         1.0527551708538785,
         1.0791896228004028,
         1.0659128323061287,
         1.0750488598288077
        ]
       ],
       "encoder": "json",
       "name": "ABC_GAN_3 Metrics",
       "version": 1
      }
     },
     "metadata": {
      "scrapbook": {
       "data": true,
       "display": false,
       "name": "ABC_GAN_3 Metrics"
      }
     },
     "output_type": "display_data"
    },
    {
     "name": "stdout",
     "output_type": "stream",
     "text": [
      "MSE\n",
      "0.057927789787794864\n"
     ]
    }
   ],
   "source": [
    "ABC_GAN3_metrics=ABC_train_test2.test_generator(gen3,test_data,prior_model,variance,bias,\"3\",device)\n",
    "sb.glue(\"ABC_GAN_3 Metrics\",ABC_GAN3_metrics)\n",
    "\n",
    "print(\"MSE\")\n",
    "print(mean(ABC_GAN3_metrics[0]))"
   ]
  },
  {
   "cell_type": "code",
   "execution_count": 18,
   "id": "c8e46b48",
   "metadata": {
    "execution": {
     "iopub.execute_input": "2022-03-16T13:25:51.541894Z",
     "iopub.status.busy": "2022-03-16T13:25:51.540949Z",
     "iopub.status.idle": "2022-03-16T13:25:51.876059Z",
     "shell.execute_reply": "2022-03-16T13:25:51.876358Z"
    },
    "id": "c8e46b48",
    "papermill": {
     "duration": 0.358577,
     "end_time": "2022-03-16T13:25:51.876479",
     "exception": false,
     "start_time": "2022-03-16T13:25:51.517902",
     "status": "completed"
    },
    "tags": []
   },
   "outputs": [
    {
     "data": {
      "image/png": "[encoded data removed]",
      "text/plain": [
       "<Figure size 432x288 with 1 Axes>"
      ]
     },
     "metadata": {
      "needs_background": "light"
     },
     "output_type": "display_data"
    },
    {
     "data": {
      "image/png": "[encoded data removed]",
      "text/plain": [
       "<Figure size 432x288 with 1 Axes>"
      ]
     },
     "metadata": {
      "needs_background": "light"
     },
     "output_type": "display_data"
    },
    {
     "data": {
      "image/png": "[encoded data removed]",
      "text/plain": [
       "<Figure size 432x288 with 1 Axes>"
      ]
     },
     "metadata": {
      "needs_background": "light"
     },
     "output_type": "display_data"
    },
    {
     "data": {
      "image/png": "[encoded data removed]",
      "text/plain": [
       "<Figure size 432x288 with 1 Axes>"
      ]
     },
     "metadata": {
      "needs_background": "light"
     },
     "output_type": "display_data"
    }
   ],
   "source": [
    "sanityChecks.discProbVsError(train_data,disc3,device)\n",
    "sanityChecks.discProbVsError(test_data,disc3,device)"
   ]
  },
  {
   "cell_type": "markdown",
   "id": "a5bd74c3",
   "metadata": {
    "id": "a5bd74c3",
    "papermill": {
     "duration": 0.020001,
     "end_time": "2022-03-16T13:25:51.916061",
     "exception": false,
     "start_time": "2022-03-16T13:25:51.896060",
     "status": "completed"
    },
    "tags": []
   },
   "source": [
    "## Skip Connection Model Analysis - ABC-GAN "
   ]
  },
  {
   "cell_type": "markdown",
   "id": "5744a8bf",
   "metadata": {
    "id": "5744a8bf",
    "papermill": {
     "duration": 0.01889,
     "end_time": "2022-03-16T13:25:51.954066",
     "exception": false,
     "start_time": "2022-03-16T13:25:51.935176",
     "status": "completed"
    },
    "tags": []
   },
   "source": [
    "### Weight Analysis \n",
    "\n",
    "Study the weights of the skip connection layer\n",
    "\n",
    "Equation of the skip connection is \n",
    "\n",
    "$output = y_{gan} * w + y_{abc} * (1-w)$"
   ]
  },
  {
   "cell_type": "code",
   "execution_count": 19,
   "id": "52c31dea",
   "metadata": {
    "execution": {
     "iopub.execute_input": "2022-03-16T13:25:51.994879Z",
     "iopub.status.busy": "2022-03-16T13:25:51.994492Z",
     "iopub.status.idle": "2022-03-16T13:25:51.997728Z",
     "shell.execute_reply": "2022-03-16T13:25:51.997971Z"
    },
    "id": "52c31dea",
    "papermill": {
     "duration": 0.025065,
     "end_time": "2022-03-16T13:25:51.998088",
     "exception": false,
     "start_time": "2022-03-16T13:25:51.973023",
     "status": "completed"
    },
    "tags": []
   },
   "outputs": [
    {
     "name": "stdout",
     "output_type": "stream",
     "text": [
      "Weight of the node at skip connection\n",
      "Parameter containing:\n",
      "tensor([[0.]], requires_grad=True)\n"
     ]
    },
    {
     "data": {
      "application/scrapbook.scrap.json+json": {
       "data": 0.0,
       "encoder": "json",
       "name": "Skip Connection Weight",
       "version": 1
      }
     },
     "metadata": {
      "scrapbook": {
       "data": true,
       "display": false,
       "name": "Skip Connection Weight"
      }
     },
     "output_type": "display_data"
    }
   ],
   "source": [
    "print(\"Weight of the node at skip connection\")\n",
    "for name,param in gen3.named_parameters():\n",
    "    if(name == \"skipNode.weight\"):\n",
    "        print(param)\n",
    "        sb.glue(\"Skip Connection Weight\",param.item())"
   ]
  }
 ],
 "metadata": {
  "colab": {
   "collapsed_sections": [],
   "name": "ABC_GAN_Model-Catboost_Pre-gen.ipynb",
   "provenance": []
  },
  "interpreter": {
   "hash": "31f2aee4e71d21fbe5cf8b01ff0e069b9275f58929596ceb00d14d90e3e16cd6"
  },
  "kernelspec": {
   "display_name": "Python 3 (ipykernel)",
   "language": "python",
   "name": "python3"
  },
  "language_info": {
   "codemirror_mode": {
    "name": "ipython",
    "version": 3
   },
   "file_extension": ".py",
   "mimetype": "text/x-python",
   "name": "python",
   "nbconvert_exporter": "python",
   "pygments_lexer": "ipython3",
   "version": "3.8.11"
  },
  "papermill": {
   "default_parameters": {},
   "duration": 56.109175,
   "end_time": "2022-03-16T13:25:52.325425",
   "environment_variables": {},
   "exception": null,
   "input_path": "ABC_GAN-Catboost.ipynb",
   "output_path": "./ABC_GAN_Catboost/ABC-GAN_output_5_8.ipynb",
   "parameters": {
    "bias": 0.01,
    "variance": 0.01
   },
   "start_time": "2022-03-16T13:24:56.216250",
   "version": "2.3.3"
  }
 },
 "nbformat": 4,
 "nbformat_minor": 5
}